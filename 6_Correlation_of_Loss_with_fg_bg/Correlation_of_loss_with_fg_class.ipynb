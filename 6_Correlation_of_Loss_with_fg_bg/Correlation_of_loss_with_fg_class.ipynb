{
 "cells": [
  {
   "cell_type": "code",
   "execution_count": 1,
   "metadata": {},
   "outputs": [
    {
     "name": "stdout",
     "output_type": "stream",
     "text": [
      "cuda\n"
     ]
    }
   ],
   "source": [
    "import numpy as np\n",
    "import pandas as pd\n",
    "from matplotlib import pyplot as plt\n",
    "from tqdm import tqdm\n",
    "%matplotlib inline\n",
    "from torch.utils.data import Dataset, DataLoader\n",
    "import torch\n",
    "import torchvision\n",
    "\n",
    "import torch.nn as nn\n",
    "import torch.optim as optim\n",
    "from torch.nn import functional as F\n",
    "device = torch.device(\"cuda\" if torch.cuda.is_available() else \"cpu\")\n",
    "print(device)"
   ]
  },
  {
   "cell_type": "code",
   "execution_count": 2,
   "metadata": {},
   "outputs": [],
   "source": [
    "class Wherenet(nn.Module):\n",
    "    def __init__(self):\n",
    "        super(Wherenet,self).__init__()\n",
    "        self.linear1 = nn.Linear(2,16)\n",
    "        self.linear2 = nn.Linear(16,32)\n",
    "        self.linear3 = nn.Linear(32,1)\n",
    "    def forward(self,z):\n",
    "        x = torch.zeros([batch,9],dtype=torch.float64)\n",
    "        y = torch.zeros([batch,2], dtype=torch.float64)\n",
    "        #x,y = x.to(\"cuda\"),y.to(\"cuda\")\n",
    "        for i in range(9):\n",
    "            x[:,i] = self.helper(z[:,2*i:2*i+2])[:,0]\n",
    "            #print(k[:,0].shape,x[:,i].shape)\n",
    "        x = F.softmax(x,dim=1)   # alphas\n",
    "        x1 = x[:,0]\n",
    "        for i in range(9):\n",
    "            x1 = x[:,i]          \n",
    "            #print()\n",
    "            y = y+torch.mul(x1[:,None],z[:,2*i:2*i+2])\n",
    "        return y , x \n",
    "\n",
    "    \n",
    "    def helper(self,x):\n",
    "        x = F.relu(self.linear1(x))\n",
    "        x = F.relu(self.linear2(x))\n",
    "        x = self.linear3(x)\n",
    "        return x\n"
   ]
  },
  {
   "cell_type": "code",
   "execution_count": 3,
   "metadata": {},
   "outputs": [],
   "source": [
    "class Whatnet(nn.Module):\n",
    "    def __init__(self):\n",
    "        super(Whatnet,self).__init__()\n",
    "        self.linear1 = nn.Linear(2,8)\n",
    "        self.linear2 = nn.Linear(8,16)\n",
    "        self.linear3 = nn.Linear(16,3)\n",
    "    def forward(self,x):\n",
    "        x = F.relu(self.linear1(x))\n",
    "        x = F.relu(self.linear2(x))\n",
    "        x = self.linear3(x)\n",
    "        return x"
   ]
  },
  {
   "cell_type": "code",
   "execution_count": 4,
   "metadata": {},
   "outputs": [],
   "source": [
    "criterion = nn.CrossEntropyLoss()"
   ]
  },
  {
   "cell_type": "code",
   "execution_count": 5,
   "metadata": {},
   "outputs": [
    {
     "name": "stdout",
     "output_type": "stream",
     "text": [
      "0 97\n",
      "1 84\n",
      "2 89\n",
      "3 104\n",
      "4 94\n",
      "5 124\n",
      "6 106\n",
      "7 89\n",
      "8 101\n",
      "9 112\n"
     ]
    }
   ],
   "source": [
    "y = np.random.randint(0,10,1000)\n",
    "idx= []\n",
    "for i in range(10):\n",
    "    print(i,sum(y==i))\n",
    "    idx.append(y==i) "
   ]
  },
  {
   "cell_type": "code",
   "execution_count": 6,
   "metadata": {},
   "outputs": [],
   "source": [
    "x = np.zeros((1000,2))"
   ]
  },
  {
   "cell_type": "code",
   "execution_count": 7,
   "metadata": {},
   "outputs": [],
   "source": [
    "x[idx[0],:] = np.random.multivariate_normal(mean = [2,2],cov=[[0.01,0],[0,0.01]],size=sum(idx[0]))\n",
    "\n",
    "\n",
    "x[idx[1],:] = np.random.multivariate_normal(mean = [0,-2],cov=[[0.01,0],[0,0.01]],size=sum(idx[1]))\n",
    "\n",
    "\n",
    "x[idx[2],:] = np.random.multivariate_normal(mean = [-2,2],cov=[[0.01,0],[0,0.01]],size=sum(idx[2]))\n",
    "\n",
    "\n",
    "\n",
    "x[idx[3],:] = np.random.multivariate_normal(mean = [0,0],cov=[[0.01,0],[0,0.01]],size=sum(idx[3]))\n",
    "\n",
    "\n",
    "x[idx[4],:] = np.random.multivariate_normal(mean =[-2,-4] ,cov=[[0.01,0],[0,0.01]],size=sum(idx[4]))\n",
    "\n",
    "\n",
    "\n",
    "x[idx[5],:] = np.random.multivariate_normal(mean = [2,-4],cov=[[0.01,0],[0,0.01]],size=sum(idx[5]))\n",
    "\n",
    "\n",
    "x[idx[6],:] = np.random.multivariate_normal(mean = [-4,0],cov=[[0.01,0],[0,0.01]],size=sum(idx[6]))\n",
    "\n",
    "\n",
    "x[idx[7],:] = np.random.multivariate_normal(mean = [-2,4],cov=[[0.01,0],[0,0.01]],size=sum(idx[7]))\n",
    "\n",
    "\n",
    "x[idx[8],:] = np.random.multivariate_normal(mean = [2,4],cov=[[0.01,0],[0,0.01]],size=sum(idx[8]))\n",
    "\n",
    "\n",
    "x[idx[9],:] = np.random.multivariate_normal(mean = [4,0],cov=[[0.01,0],[0,0.01]],size=sum(idx[9]))\n"
   ]
  },
  {
   "cell_type": "code",
   "execution_count": 8,
   "metadata": {},
   "outputs": [],
   "source": [
    "# y = np.random.randint(0,10,1000)\n",
    "idx= []\n",
    "for i in range(10):\n",
    "    #print(i,sum(y==i))\n",
    "    idx.append(y==i)"
   ]
  },
  {
   "cell_type": "code",
   "execution_count": 9,
   "metadata": {},
   "outputs": [
    {
     "data": {
      "text/plain": [
       "<matplotlib.legend.Legend at 0x7faf7c9d6c90>"
      ]
     },
     "execution_count": 9,
     "metadata": {},
     "output_type": "execute_result"
    },
    {
     "data": {
      "image/png": "[encoded data removed]",
      "text/plain": [
       "<Figure size 432x288 with 1 Axes>"
      ]
     },
     "metadata": {
      "needs_background": "light"
     },
     "output_type": "display_data"
    }
   ],
   "source": [
    "for i in range(10):\n",
    "    plt.scatter(x[idx[i],0],x[idx[i],1],label=\"class_\"+str(i))\n",
    "plt.legend(loc='center left', bbox_to_anchor=(1, 0.5))"
   ]
  },
  {
   "cell_type": "code",
   "execution_count": 10,
   "metadata": {},
   "outputs": [],
   "source": [
    "foreground_classes = {'class_0','class_1', 'class_2'}\n",
    "\n",
    "background_classes = {'class_3','class_4', 'class_5', 'class_6','class_7', 'class_8', 'class_9'}"
   ]
  },
  {
   "cell_type": "code",
   "execution_count": 11,
   "metadata": {},
   "outputs": [
    {
     "name": "stdout",
     "output_type": "stream",
     "text": [
      "foreground 1 present at 0\n",
      "background 5 present at 1\n",
      "background 3 present at 2\n",
      "background 4 present at 3\n",
      "background 7 present at 4\n",
      "background 9 present at 5\n",
      "background 9 present at 6\n",
      "background 9 present at 7\n",
      "background 7 present at 8\n",
      "(9, 2)\n",
      "1 0\n"
     ]
    }
   ],
   "source": [
    "fg_class  = np.random.randint(0,3)\n",
    "fg_idx = np.random.randint(0,9)\n",
    "\n",
    "a = []\n",
    "for i in range(9):\n",
    "    if i == fg_idx:\n",
    "        b = np.random.choice(np.where(idx[fg_class]==True)[0],size=1)\n",
    "        a.append(x[b])\n",
    "        print(\"foreground \"+str(fg_class)+\" present at \" + str(fg_idx))\n",
    "    else:\n",
    "        bg_class = np.random.randint(3,10)\n",
    "        b = np.random.choice(np.where(idx[bg_class]==True)[0],size=1)\n",
    "        a.append(x[b])\n",
    "        print(\"background \"+str(bg_class)+\" present at \" + str(i))\n",
    "a = np.concatenate(a,axis=0)\n",
    "print(a.shape)\n",
    "\n",
    "print(fg_class , fg_idx)"
   ]
  },
  {
   "cell_type": "code",
   "execution_count": 12,
   "metadata": {},
   "outputs": [],
   "source": [
    "desired_num = 3000\n",
    "mosaic_list =[]\n",
    "mosaic_label = []\n",
    "fore_idx=[]\n",
    "for j in range(desired_num):\n",
    "    fg_class  = np.random.randint(0,3)\n",
    "    fg_idx = np.random.randint(0,9)\n",
    "    a = []\n",
    "    for i in range(9):\n",
    "        if i == fg_idx:\n",
    "            b = np.random.choice(np.where(idx[fg_class]==True)[0],size=1)\n",
    "            a.append(x[b])\n",
    "#             print(\"foreground \"+str(fg_class)+\" present at \" + str(fg_idx))\n",
    "        else:\n",
    "            bg_class = np.random.randint(3,10)\n",
    "            b = np.random.choice(np.where(idx[bg_class]==True)[0],size=1)\n",
    "            a.append(x[b])\n",
    "#             print(\"background \"+str(bg_class)+\" present at \" + str(i))\n",
    "    a = np.concatenate(a,axis=0)\n",
    "    mosaic_list.append(np.reshape(a,(18,1)))\n",
    "    mosaic_label.append(fg_class)\n",
    "    fore_idx.append(fg_idx)"
   ]
  },
  {
   "cell_type": "code",
   "execution_count": 13,
   "metadata": {},
   "outputs": [],
   "source": [
    "mosaic_list = np.concatenate(mosaic_list,axis=1).T\n",
    "#print(mosaic_list)"
   ]
  },
  {
   "cell_type": "code",
   "execution_count": 14,
   "metadata": {},
   "outputs": [],
   "source": [
    "class MosaicDataset(Dataset):\n",
    "  \"\"\"MosaicDataset dataset.\"\"\"\n",
    "\n",
    "  def __init__(self, mosaic_list, mosaic_label, fore_idx):\n",
    "    \"\"\"\n",
    "      Args:\n",
    "        csv_file (string): Path to the csv file with annotations.\n",
    "        root_dir (string): Directory with all the images.\n",
    "        transform (callable, optional): Optional transform to be applied\n",
    "            on a sample.\n",
    "    \"\"\"\n",
    "    self.mosaic = mosaic_list\n",
    "    self.label = mosaic_label\n",
    "    self.fore_idx = fore_idx\n",
    "\n",
    "  def __len__(self):\n",
    "    return len(self.label)\n",
    "\n",
    "  def __getitem__(self, idx):\n",
    "    return self.mosaic[idx] , self.label[idx], self.fore_idx[idx]\n",
    "\n",
    "batch = 250\n",
    "msd = MosaicDataset(mosaic_list, mosaic_label , fore_idx)\n",
    "train_loader = DataLoader( msd,batch_size= batch ,shuffle=True)"
   ]
  },
  {
   "cell_type": "code",
   "execution_count": 15,
   "metadata": {},
   "outputs": [],
   "source": [
    "where = Wherenet().double()\n",
    "what = Whatnet().double()"
   ]
  },
  {
   "cell_type": "code",
   "execution_count": 16,
   "metadata": {},
   "outputs": [
    {
     "name": "stdout",
     "output_type": "stream",
     "text": [
      "[1,     4] loss: 1.110\n",
      "[1,     8] loss: 1.101\n",
      "[1,    12] loss: 1.100\n",
      "Accuracy of the network on the 3000 train images: 32 %\n",
      "[2,     4] loss: 1.098\n",
      "[2,     8] loss: 1.096\n",
      "[2,    12] loss: 1.093\n",
      "Accuracy of the network on the 3000 train images: 41 %\n",
      "[3,     4] loss: 1.092\n",
      "[3,     8] loss: 1.089\n",
      "[3,    12] loss: 1.090\n",
      "Accuracy of the network on the 3000 train images: 38 %\n",
      "[4,     4] loss: 1.088\n",
      "[4,     8] loss: 1.088\n",
      "[4,    12] loss: 1.084\n",
      "Accuracy of the network on the 3000 train images: 38 %\n",
      "[5,     4] loss: 1.086\n",
      "[5,     8] loss: 1.081\n",
      "[5,    12] loss: 1.080\n",
      "Accuracy of the network on the 3000 train images: 40 %\n",
      "[6,     4] loss: 1.081\n",
      "[6,     8] loss: 1.078\n",
      "[6,    12] loss: 1.078\n",
      "Accuracy of the network on the 3000 train images: 41 %\n",
      "[7,     4] loss: 1.074\n",
      "[7,     8] loss: 1.070\n",
      "[7,    12] loss: 1.080\n",
      "Accuracy of the network on the 3000 train images: 42 %\n",
      "[8,     4] loss: 1.072\n",
      "[8,     8] loss: 1.071\n",
      "[8,    12] loss: 1.068\n",
      "Accuracy of the network on the 3000 train images: 44 %\n",
      "[9,     4] loss: 1.066\n",
      "[9,     8] loss: 1.065\n",
      "[9,    12] loss: 1.065\n",
      "Accuracy of the network on the 3000 train images: 44 %\n",
      "[10,     4] loss: 1.060\n",
      "[10,     8] loss: 1.056\n",
      "[10,    12] loss: 1.062\n",
      "Accuracy of the network on the 3000 train images: 46 %\n",
      "[11,     4] loss: 1.055\n",
      "[11,     8] loss: 1.048\n",
      "[11,    12] loss: 1.051\n",
      "Accuracy of the network on the 3000 train images: 46 %\n",
      "[12,     4] loss: 1.048\n",
      "[12,     8] loss: 1.039\n",
      "[12,    12] loss: 1.037\n",
      "Accuracy of the network on the 3000 train images: 48 %\n",
      "[13,     4] loss: 1.021\n",
      "[13,     8] loss: 1.034\n",
      "[13,    12] loss: 1.026\n",
      "Accuracy of the network on the 3000 train images: 50 %\n",
      "[14,     4] loss: 1.009\n",
      "[14,     8] loss: 1.006\n",
      "[14,    12] loss: 1.000\n",
      "Accuracy of the network on the 3000 train images: 54 %\n",
      "[15,     4] loss: 0.978\n",
      "[15,     8] loss: 0.972\n",
      "[15,    12] loss: 0.958\n",
      "Accuracy of the network on the 3000 train images: 59 %\n",
      "[16,     4] loss: 0.934\n",
      "[16,     8] loss: 0.906\n",
      "[16,    12] loss: 0.884\n",
      "Accuracy of the network on the 3000 train images: 68 %\n",
      "[17,     4] loss: 0.861\n",
      "[17,     8] loss: 0.815\n",
      "[17,    12] loss: 0.770\n",
      "Accuracy of the network on the 3000 train images: 76 %\n",
      "[18,     4] loss: 0.743\n",
      "[18,     8] loss: 0.717\n",
      "[18,    12] loss: 0.671\n",
      "Accuracy of the network on the 3000 train images: 81 %\n",
      "[19,     4] loss: 0.639\n",
      "[19,     8] loss: 0.600\n",
      "[19,    12] loss: 0.593\n",
      "Accuracy of the network on the 3000 train images: 84 %\n",
      "[20,     4] loss: 0.562\n",
      "[20,     8] loss: 0.523\n",
      "[20,    12] loss: 0.491\n",
      "Accuracy of the network on the 3000 train images: 87 %\n",
      "[21,     4] loss: 0.473\n",
      "[21,     8] loss: 0.430\n",
      "[21,    12] loss: 0.385\n",
      "Accuracy of the network on the 3000 train images: 92 %\n",
      "[22,     4] loss: 0.358\n",
      "[22,     8] loss: 0.329\n",
      "[22,    12] loss: 0.278\n",
      "Accuracy of the network on the 3000 train images: 95 %\n",
      "[23,     4] loss: 0.253\n",
      "[23,     8] loss: 0.215\n",
      "[23,    12] loss: 0.194\n",
      "Accuracy of the network on the 3000 train images: 98 %\n",
      "[24,     4] loss: 0.151\n",
      "[24,     8] loss: 0.136\n",
      "[24,    12] loss: 0.113\n",
      "Accuracy of the network on the 3000 train images: 99 %\n",
      "[25,     4] loss: 0.088\n",
      "[25,     8] loss: 0.079\n",
      "[25,    12] loss: 0.059\n",
      "Accuracy of the network on the 3000 train images: 99 %\n",
      "[26,     4] loss: 0.049\n",
      "[26,     8] loss: 0.042\n",
      "[26,    12] loss: 0.036\n",
      "Accuracy of the network on the 3000 train images: 100 %\n",
      "[27,     4] loss: 0.032\n",
      "[27,     8] loss: 0.025\n",
      "[27,    12] loss: 0.021\n",
      "Accuracy of the network on the 3000 train images: 100 %\n",
      "[28,     4] loss: 0.019\n",
      "[28,     8] loss: 0.018\n",
      "[28,    12] loss: 0.016\n",
      "Accuracy of the network on the 3000 train images: 100 %\n",
      "[29,     4] loss: 0.014\n",
      "[29,     8] loss: 0.012\n",
      "[29,    12] loss: 0.011\n",
      "Accuracy of the network on the 3000 train images: 100 %\n",
      "[30,     4] loss: 0.010\n",
      "[30,     8] loss: 0.010\n",
      "[30,    12] loss: 0.009\n",
      "Accuracy of the network on the 3000 train images: 100 %\n",
      "[31,     4] loss: 0.008\n",
      "[31,     8] loss: 0.008\n",
      "[31,    12] loss: 0.008\n",
      "Accuracy of the network on the 3000 train images: 100 %\n",
      "[32,     4] loss: 0.007\n",
      "[32,     8] loss: 0.007\n",
      "[32,    12] loss: 0.006\n",
      "Accuracy of the network on the 3000 train images: 100 %\n",
      "[33,     4] loss: 0.006\n",
      "[33,     8] loss: 0.006\n",
      "[33,    12] loss: 0.005\n",
      "Accuracy of the network on the 3000 train images: 100 %\n",
      "[34,     4] loss: 0.005\n",
      "[34,     8] loss: 0.005\n",
      "[34,    12] loss: 0.005\n",
      "Accuracy of the network on the 3000 train images: 100 %\n",
      "[35,     4] loss: 0.005\n",
      "[35,     8] loss: 0.004\n",
      "[35,    12] loss: 0.004\n",
      "Accuracy of the network on the 3000 train images: 100 %\n",
      "[36,     4] loss: 0.004\n",
      "[36,     8] loss: 0.004\n",
      "[36,    12] loss: 0.004\n",
      "Accuracy of the network on the 3000 train images: 100 %\n",
      "[37,     4] loss: 0.004\n",
      "[37,     8] loss: 0.004\n",
      "[37,    12] loss: 0.003\n",
      "Accuracy of the network on the 3000 train images: 100 %\n",
      "[38,     4] loss: 0.003\n",
      "[38,     8] loss: 0.003\n",
      "[38,    12] loss: 0.003\n",
      "Accuracy of the network on the 3000 train images: 100 %\n",
      "[39,     4] loss: 0.003\n",
      "[39,     8] loss: 0.003\n",
      "[39,    12] loss: 0.003\n",
      "Accuracy of the network on the 3000 train images: 100 %\n",
      "[40,     4] loss: 0.003\n",
      "[40,     8] loss: 0.003\n",
      "[40,    12] loss: 0.003\n",
      "Accuracy of the network on the 3000 train images: 100 %\n",
      "[41,     4] loss: 0.002\n",
      "[41,     8] loss: 0.002\n",
      "[41,    12] loss: 0.002\n",
      "Accuracy of the network on the 3000 train images: 100 %\n",
      "[42,     4] loss: 0.002\n",
      "[42,     8] loss: 0.002\n",
      "[42,    12] loss: 0.002\n",
      "Accuracy of the network on the 3000 train images: 100 %\n",
      "[43,     4] loss: 0.002\n",
      "[43,     8] loss: 0.002\n",
      "[43,    12] loss: 0.002\n",
      "Accuracy of the network on the 3000 train images: 100 %\n",
      "[44,     4] loss: 0.002\n",
      "[44,     8] loss: 0.002\n",
      "[44,    12] loss: 0.002\n",
      "Accuracy of the network on the 3000 train images: 100 %\n",
      "[45,     4] loss: 0.002\n",
      "[45,     8] loss: 0.002\n",
      "[45,    12] loss: 0.002\n",
      "Accuracy of the network on the 3000 train images: 100 %\n",
      "[46,     4] loss: 0.002\n",
      "[46,     8] loss: 0.002\n",
      "[46,    12] loss: 0.002\n",
      "Accuracy of the network on the 3000 train images: 100 %\n",
      "[47,     4] loss: 0.002\n",
      "[47,     8] loss: 0.002\n",
      "[47,    12] loss: 0.001\n",
      "Accuracy of the network on the 3000 train images: 100 %\n",
      "[48,     4] loss: 0.002\n",
      "[48,     8] loss: 0.002\n",
      "[48,    12] loss: 0.002\n",
      "Accuracy of the network on the 3000 train images: 100 %\n",
      "[49,     4] loss: 0.001\n",
      "[49,     8] loss: 0.002\n",
      "[49,    12] loss: 0.001\n",
      "Accuracy of the network on the 3000 train images: 100 %\n",
      "[50,     4] loss: 0.001\n",
      "[50,     8] loss: 0.001\n",
      "[50,    12] loss: 0.001\n",
      "Accuracy of the network on the 3000 train images: 100 %\n",
      "[51,     4] loss: 0.001\n",
      "[51,     8] loss: 0.001\n",
      "[51,    12] loss: 0.001\n",
      "Accuracy of the network on the 3000 train images: 100 %\n",
      "[52,     4] loss: 0.001\n",
      "[52,     8] loss: 0.001\n",
      "[52,    12] loss: 0.001\n",
      "Accuracy of the network on the 3000 train images: 100 %\n",
      "[53,     4] loss: 0.001\n",
      "[53,     8] loss: 0.001\n",
      "[53,    12] loss: 0.001\n",
      "Accuracy of the network on the 3000 train images: 100 %\n",
      "[54,     4] loss: 0.001\n",
      "[54,     8] loss: 0.001\n",
      "[54,    12] loss: 0.001\n",
      "Accuracy of the network on the 3000 train images: 100 %\n",
      "[55,     4] loss: 0.001\n",
      "[55,     8] loss: 0.001\n",
      "[55,    12] loss: 0.001\n",
      "Accuracy of the network on the 3000 train images: 100 %\n",
      "[56,     4] loss: 0.001\n",
      "[56,     8] loss: 0.001\n",
      "[56,    12] loss: 0.001\n",
      "Accuracy of the network on the 3000 train images: 100 %\n",
      "[57,     4] loss: 0.001\n",
      "[57,     8] loss: 0.001\n",
      "[57,    12] loss: 0.001\n",
      "Accuracy of the network on the 3000 train images: 100 %\n",
      "[58,     4] loss: 0.001\n",
      "[58,     8] loss: 0.001\n",
      "[58,    12] loss: 0.001\n",
      "Accuracy of the network on the 3000 train images: 100 %\n",
      "[59,     4] loss: 0.001\n",
      "[59,     8] loss: 0.001\n",
      "[59,    12] loss: 0.001\n",
      "Accuracy of the network on the 3000 train images: 100 %\n",
      "[60,     4] loss: 0.001\n",
      "[60,     8] loss: 0.001\n",
      "[60,    12] loss: 0.001\n",
      "Accuracy of the network on the 3000 train images: 100 %\n",
      "[61,     4] loss: 0.001\n",
      "[61,     8] loss: 0.001\n",
      "[61,    12] loss: 0.001\n",
      "Accuracy of the network on the 3000 train images: 100 %\n",
      "[62,     4] loss: 0.001\n",
      "[62,     8] loss: 0.001\n",
      "[62,    12] loss: 0.001\n",
      "Accuracy of the network on the 3000 train images: 100 %\n",
      "[63,     4] loss: 0.001\n",
      "[63,     8] loss: 0.001\n",
      "[63,    12] loss: 0.001\n",
      "Accuracy of the network on the 3000 train images: 100 %\n",
      "[64,     4] loss: 0.001\n",
      "[64,     8] loss: 0.001\n",
      "[64,    12] loss: 0.001\n",
      "Accuracy of the network on the 3000 train images: 100 %\n",
      "[65,     4] loss: 0.001\n",
      "[65,     8] loss: 0.001\n",
      "[65,    12] loss: 0.001\n",
      "Accuracy of the network on the 3000 train images: 100 %\n"
     ]
    },
    {
     "name": "stdout",
     "output_type": "stream",
     "text": [
      "[66,     4] loss: 0.001\n",
      "[66,     8] loss: 0.001\n",
      "[66,    12] loss: 0.001\n",
      "Accuracy of the network on the 3000 train images: 100 %\n",
      "[67,     4] loss: 0.001\n",
      "[67,     8] loss: 0.001\n",
      "[67,    12] loss: 0.001\n",
      "Accuracy of the network on the 3000 train images: 100 %\n",
      "[68,     4] loss: 0.001\n",
      "[68,     8] loss: 0.001\n",
      "[68,    12] loss: 0.001\n",
      "Accuracy of the network on the 3000 train images: 100 %\n",
      "[69,     4] loss: 0.001\n",
      "[69,     8] loss: 0.001\n",
      "[69,    12] loss: 0.001\n",
      "Accuracy of the network on the 3000 train images: 100 %\n",
      "[70,     4] loss: 0.001\n",
      "[70,     8] loss: 0.001\n",
      "[70,    12] loss: 0.001\n",
      "Accuracy of the network on the 3000 train images: 100 %\n",
      "[71,     4] loss: 0.001\n",
      "[71,     8] loss: 0.001\n",
      "[71,    12] loss: 0.001\n",
      "Accuracy of the network on the 3000 train images: 100 %\n",
      "[72,     4] loss: 0.001\n",
      "[72,     8] loss: 0.001\n",
      "[72,    12] loss: 0.001\n",
      "Accuracy of the network on the 3000 train images: 100 %\n",
      "[73,     4] loss: 0.001\n",
      "[73,     8] loss: 0.001\n",
      "[73,    12] loss: 0.001\n",
      "Accuracy of the network on the 3000 train images: 100 %\n",
      "[74,     4] loss: 0.001\n",
      "[74,     8] loss: 0.001\n",
      "[74,    12] loss: 0.001\n",
      "Accuracy of the network on the 3000 train images: 100 %\n",
      "[75,     4] loss: 0.001\n",
      "[75,     8] loss: 0.001\n",
      "[75,    12] loss: 0.001\n",
      "Accuracy of the network on the 3000 train images: 100 %\n",
      "[76,     4] loss: 0.001\n",
      "[76,     8] loss: 0.001\n",
      "[76,    12] loss: 0.001\n",
      "Accuracy of the network on the 3000 train images: 100 %\n",
      "[77,     4] loss: 0.001\n",
      "[77,     8] loss: 0.001\n",
      "[77,    12] loss: 0.001\n",
      "Accuracy of the network on the 3000 train images: 100 %\n",
      "[78,     4] loss: 0.001\n",
      "[78,     8] loss: 0.001\n",
      "[78,    12] loss: 0.001\n",
      "Accuracy of the network on the 3000 train images: 100 %\n",
      "[79,     4] loss: 0.001\n",
      "[79,     8] loss: 0.001\n",
      "[79,    12] loss: 0.001\n",
      "Accuracy of the network on the 3000 train images: 100 %\n",
      "[80,     4] loss: 0.001\n",
      "[80,     8] loss: 0.001\n",
      "[80,    12] loss: 0.001\n",
      "Accuracy of the network on the 3000 train images: 100 %\n",
      "[81,     4] loss: 0.000\n",
      "[81,     8] loss: 0.001\n",
      "[81,    12] loss: 0.001\n",
      "Accuracy of the network on the 3000 train images: 100 %\n",
      "[82,     4] loss: 0.001\n",
      "[82,     8] loss: 0.001\n",
      "[82,    12] loss: 0.000\n",
      "Accuracy of the network on the 3000 train images: 100 %\n",
      "[83,     4] loss: 0.000\n",
      "[83,     8] loss: 0.000\n",
      "[83,    12] loss: 0.001\n",
      "Accuracy of the network on the 3000 train images: 100 %\n",
      "[84,     4] loss: 0.000\n",
      "[84,     8] loss: 0.000\n",
      "[84,    12] loss: 0.000\n",
      "Accuracy of the network on the 3000 train images: 100 %\n",
      "[85,     4] loss: 0.000\n",
      "[85,     8] loss: 0.000\n",
      "[85,    12] loss: 0.000\n",
      "Accuracy of the network on the 3000 train images: 100 %\n",
      "[86,     4] loss: 0.000\n",
      "[86,     8] loss: 0.000\n",
      "[86,    12] loss: 0.000\n",
      "Accuracy of the network on the 3000 train images: 100 %\n",
      "[87,     4] loss: 0.000\n",
      "[87,     8] loss: 0.000\n",
      "[87,    12] loss: 0.000\n",
      "Accuracy of the network on the 3000 train images: 100 %\n",
      "[88,     4] loss: 0.000\n",
      "[88,     8] loss: 0.000\n",
      "[88,    12] loss: 0.000\n",
      "Accuracy of the network on the 3000 train images: 100 %\n",
      "[89,     4] loss: 0.000\n",
      "[89,     8] loss: 0.000\n",
      "[89,    12] loss: 0.000\n",
      "Accuracy of the network on the 3000 train images: 100 %\n",
      "[90,     4] loss: 0.000\n",
      "[90,     8] loss: 0.000\n",
      "[90,    12] loss: 0.000\n",
      "Accuracy of the network on the 3000 train images: 100 %\n",
      "[91,     4] loss: 0.000\n",
      "[91,     8] loss: 0.000\n",
      "[91,    12] loss: 0.000\n",
      "Accuracy of the network on the 3000 train images: 100 %\n",
      "[92,     4] loss: 0.000\n",
      "[92,     8] loss: 0.000\n",
      "[92,    12] loss: 0.000\n",
      "Accuracy of the network on the 3000 train images: 100 %\n",
      "[93,     4] loss: 0.000\n",
      "[93,     8] loss: 0.000\n",
      "[93,    12] loss: 0.000\n",
      "Accuracy of the network on the 3000 train images: 100 %\n",
      "[94,     4] loss: 0.000\n",
      "[94,     8] loss: 0.000\n",
      "[94,    12] loss: 0.000\n",
      "Accuracy of the network on the 3000 train images: 100 %\n",
      "[95,     4] loss: 0.000\n",
      "[95,     8] loss: 0.000\n",
      "[95,    12] loss: 0.000\n",
      "Accuracy of the network on the 3000 train images: 100 %\n",
      "[96,     4] loss: 0.000\n",
      "[96,     8] loss: 0.000\n",
      "[96,    12] loss: 0.000\n",
      "Accuracy of the network on the 3000 train images: 100 %\n",
      "[97,     4] loss: 0.000\n",
      "[97,     8] loss: 0.000\n",
      "[97,    12] loss: 0.000\n",
      "Accuracy of the network on the 3000 train images: 100 %\n",
      "[98,     4] loss: 0.000\n",
      "[98,     8] loss: 0.000\n",
      "[98,    12] loss: 0.000\n",
      "Accuracy of the network on the 3000 train images: 100 %\n",
      "[99,     4] loss: 0.000\n",
      "[99,     8] loss: 0.000\n",
      "[99,    12] loss: 0.000\n",
      "Accuracy of the network on the 3000 train images: 100 %\n",
      "[100,     4] loss: 0.000\n",
      "[100,     8] loss: 0.000\n",
      "[100,    12] loss: 0.000\n",
      "Accuracy of the network on the 3000 train images: 100 %\n",
      "finished training\n"
     ]
    }
   ],
   "source": [
    "criterion = nn.CrossEntropyLoss()\n",
    "optimizer_where = optim.SGD(where.parameters(), lr=0.01, momentum=0.9)\n",
    "optimizer_what = optim.SGD(what.parameters(), lr=0.01, momentum=0.9)\n",
    "\n",
    "nos_epochs = 100\n",
    "\n",
    "train_loss=[]\n",
    "train_loss_tot=[]\n",
    "test_loss =[]\n",
    "train_acc = []\n",
    "test_acc = []\n",
    "fg_grad=[]\n",
    "bg_grad=[]\n",
    "for epoch in range(nos_epochs):  # loop over the dataset multiple times\n",
    "    \n",
    "    running_loss = 0.0\n",
    "    running_acc = 0.0\n",
    "    cnt=0\n",
    "    loss_alpha_fg = 0\n",
    "    loss_alpha_bg = 0\n",
    "    iteration = desired_num // batch\n",
    "    \n",
    "    for i, data in  enumerate(train_loader):\n",
    "        inputs , labels , fidx = data\n",
    "        \n",
    "        optimizer_what.zero_grad()\n",
    "        optimizer_where.zero_grad()\n",
    "        \n",
    "        avg_inp,alphas = where(inputs)\n",
    "        \n",
    "        outputs = what(avg_inp)\n",
    "        \n",
    "        _, predicted = torch.max(outputs.data, 1)\n",
    "        \n",
    "        loss = criterion(outputs, labels) \n",
    "        \n",
    "        grd = torch.autograd.grad(loss,alphas,retain_graph=True)\n",
    "        \n",
    "        one_hot_fg = torch.zeros(len(fidx),fidx.max()+1).scatter_(1,fidx.unsqueeze(1),1.)\n",
    "        one_hot_bg = (1-one_hot_fg)/8\n",
    "        loss_alpha_fg += torch.sum(torch.sum(torch.mul(one_hot_fg, grd[0]),dim=1))\n",
    "        loss_alpha_bg += torch.sum(torch.sum(torch.mul(one_hot_bg, grd[0]),dim=1))\n",
    " \n",
    "        loss.backward(retain_graph =True)\n",
    "        \n",
    "        optimizer_where.step()\n",
    "        optimizer_what.step()\n",
    "        \n",
    "        running_loss += loss.item()\n",
    "        if cnt % 4 == 3:    # print every 6 mini-batches\n",
    "            print('[%d, %5d] loss: %.3f' %(epoch + 1, cnt + 1, running_loss / 4))\n",
    "#             print('[%d,%5d] accuracy: %.3f' %(epoch + 1, cnt+1,running_acc/desired_num))\n",
    "            running_loss = 0.0\n",
    "            train_loss.append(running_loss)\n",
    "#             train_acc.append(running_acc /desired_num)\n",
    "            running_acc = 0\n",
    "        cnt=cnt+1\n",
    "        \n",
    "        \n",
    "    fg_grad.append(loss_alpha_fg.item()/desired_num)\n",
    "    bg_grad.append(loss_alpha_bg.item()/desired_num)\n",
    "    \n",
    "    with torch.no_grad():\n",
    "        correct = 0\n",
    "        total = 0\n",
    "        train_loss_epoch = 0\n",
    "        for data in train_loader:\n",
    "            \n",
    "            inputs, labels , fore_idx = data\n",
    "            avg_inp,alphas = where(inputs)\n",
    "            outputs = what(avg_inp)\n",
    "            _, predicted = torch.max(outputs.data, 1)\n",
    "            train_loss_epoch += criterion(outputs, labels).item()\n",
    "            total += labels.size(0)\n",
    "            correct += (predicted == labels).sum().item()\n",
    "        train_loss_tot.append(train_loss_epoch)\n",
    "    print('Accuracy of the network on the 3000 train images: %d %%' % (100 * correct / total))\n",
    "print(\"finished training\")\n",
    "    \n",
    "    "
   ]
  },
  {
   "cell_type": "code",
   "execution_count": 26,
   "metadata": {},
   "outputs": [
    {
     "data": {
      "text/plain": [
       "<matplotlib.legend.Legend at 0x7faf7837cd90>"
      ]
     },
     "execution_count": 26,
     "metadata": {},
     "output_type": "execute_result"
    },
    {
     "data": {
      "image/png": "[encoded data removed]",
      "text/plain": [
       "<Figure size 432x288 with 1 Axes>"
      ]
     },
     "metadata": {
      "needs_background": "light"
     },
     "output_type": "display_data"
    }
   ],
   "source": [
    "x = np.arange(1,nos_epochs+1)\n",
    "# print(x)\n",
    "plt.plot(x,fg_grad,label = \"grad_alpha_fg\")\n",
    "plt.plot(x,bg_grad, label = \"grad_alpha_bg\")\n",
    "\n",
    "plt.legend()"
   ]
  },
  {
   "cell_type": "code",
   "execution_count": 28,
   "metadata": {},
   "outputs": [
    {
     "data": {
      "text/plain": [
       "<matplotlib.legend.Legend at 0x7faf7832b510>"
      ]
     },
     "execution_count": 28,
     "metadata": {},
     "output_type": "execute_result"
    },
    {
     "data": {
      "image/png": "[encoded data removed]",
      "text/plain": [
       "<Figure size 432x288 with 1 Axes>"
      ]
     },
     "metadata": {
      "needs_background": "light"
     },
     "output_type": "display_data"
    }
   ],
   "source": [
    "plt.plot(x,train_loss_tot, label = \"train loss\")\n",
    "plt.legend()"
   ]
  },
  {
   "cell_type": "code",
   "execution_count": 18,
   "metadata": {},
   "outputs": [],
   "source": [
    "xs,ys,fidx = iter(train_loader).next()"
   ]
  },
  {
   "cell_type": "code",
   "execution_count": 19,
   "metadata": {},
   "outputs": [],
   "source": [
    "avg_data,alpha = where(xs)\n",
    "out = what(avg_data)\n",
    "_, predicted = torch.max(out.data, 1)\n",
    "loss = criterion(out, ys) "
   ]
  },
  {
   "cell_type": "code",
   "execution_count": 20,
   "metadata": {},
   "outputs": [],
   "source": [
    "grd = torch.autograd.grad(loss,alpha,retain_graph=True)"
   ]
  },
  {
   "cell_type": "code",
   "execution_count": 21,
   "metadata": {},
   "outputs": [
    {
     "data": {
      "text/plain": [
       "tensor([[-1.9167e-06,  1.6276e-06, -3.1370e-05,  ...,  1.5269e-07,\n",
       "         -1.9880e-05, -5.9290e-07],\n",
       "        [-1.8939e-06, -6.2522e-06,  4.6521e-06,  ..., -2.6000e-06,\n",
       "         -6.3848e-06,  1.7945e-06],\n",
       "        [ 1.2374e-05, -2.3803e-06, -9.0957e-06,  ...,  4.0808e-08,\n",
       "         -4.8540e-08, -1.2320e-05],\n",
       "        ...,\n",
       "        [ 5.9950e-07, -1.2415e-07, -8.2883e-06,  ...,  8.3596e-06,\n",
       "         -3.4348e-08, -6.6342e-06],\n",
       "        [-7.4326e-06,  1.7721e-05,  9.5417e-06,  ...,  1.7737e-05,\n",
       "          9.5043e-06,  7.8555e-06],\n",
       "        [-5.6302e-06,  4.2903e-06, -2.6275e-07,  ..., -4.1510e-06,\n",
       "          1.0816e-06,  4.2823e-06]], dtype=torch.float64)"
      ]
     },
     "execution_count": 21,
     "metadata": {},
     "output_type": "execute_result"
    }
   ],
   "source": [
    "grd[0]"
   ]
  },
  {
   "cell_type": "code",
   "execution_count": 22,
   "metadata": {},
   "outputs": [],
   "source": [
    "one_hot = torch.zeros(len(fidx),fidx.max()+1).scatter_(1,fidx.unsqueeze(1),1.)\n"
   ]
  },
  {
   "cell_type": "code",
   "execution_count": 23,
   "metadata": {},
   "outputs": [
    {
     "data": {
      "text/plain": [
       "tensor(-0.0035, dtype=torch.float64)"
      ]
     },
     "execution_count": 23,
     "metadata": {},
     "output_type": "execute_result"
    }
   ],
   "source": [
    "s = torch.sum(torch.sum(torch.mul(one_hot, grd[0]),dim=1))\n",
    "torch.sum(s)"
   ]
  },
  {
   "cell_type": "code",
   "execution_count": 24,
   "metadata": {},
   "outputs": [
    {
     "data": {
      "text/plain": [
       "tensor([0.1250, 0.1250, 0.1250, 0.1250, 0.1250, 0.1250, 0.1250, 0.0000, 0.1250])"
      ]
     },
     "execution_count": 24,
     "metadata": {},
     "output_type": "execute_result"
    }
   ],
   "source": [
    "(1-one_hot[0])/8"
   ]
  },
  {
   "cell_type": "code",
   "execution_count": 25,
   "metadata": {},
   "outputs": [
    {
     "data": {
      "text/plain": [
       "tensor([-0.0000e+00, -0.0000e+00,  0.0000e+00, -0.0000e+00, -0.0000e+00,\n",
       "         0.0000e+00, -2.6000e-06, -0.0000e+00,  0.0000e+00],\n",
       "       dtype=torch.float64)"
      ]
     },
     "execution_count": 25,
     "metadata": {},
     "output_type": "execute_result"
    }
   ],
   "source": [
    "torch.mul(one_hot[1], grd[0][1])"
   ]
  }
 ],
 "metadata": {
  "kernelspec": {
   "display_name": "Python 3",
   "language": "python",
   "name": "python3"
  },
  "language_info": {
   "codemirror_mode": {
    "name": "ipython",
    "version": 3
   },
   "file_extension": ".py",
   "mimetype": "text/x-python",
   "name": "python",
   "nbconvert_exporter": "python",
   "pygments_lexer": "ipython3",
   "version": "3.7.4"
  }
 },
 "nbformat": 4,
 "nbformat_minor": 2
}
