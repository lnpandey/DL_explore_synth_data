{
  "nbformat": 4,
  "nbformat_minor": 0,
  "metadata": {
    "colab": {
      "name": "generalization_attention.ipynb",
      "provenance": [],
      "collapsed_sections": [],
      "toc_visible": true
    },
    "kernelspec": {
      "name": "python3",
      "display_name": "Python 3"
    },
    "accelerator": "GPU",
    "widgets": {
      "application/vnd.jupyter.widget-state+json": {
        "6204da3afc814edf94b2659ac74d4a7a": {
          "model_module": "@jupyter-widgets/controls",
          "model_name": "HBoxModel",
          "state": {
            "_view_name": "HBoxView",
            "_dom_classes": [],
            "_model_name": "HBoxModel",
            "_view_module": "@jupyter-widgets/controls",
            "_model_module_version": "1.5.0",
            "_view_count": null,
            "_view_module_version": "1.5.0",
            "box_style": "",
            "layout": "IPY_MODEL_49c25901c6e74f48ad090f3bcba68480",
            "_model_module": "@jupyter-widgets/controls",
            "children": [
              "IPY_MODEL_3a7701456fd34273bd95da58dfb3a0d5",
              "IPY_MODEL_a5fc4ee471d54e87a1195f3c24979334"
            ]
          }
        },
        "49c25901c6e74f48ad090f3bcba68480": {
          "model_module": "@jupyter-widgets/base",
          "model_name": "LayoutModel",
          "state": {
            "_view_name": "LayoutView",
            "grid_template_rows": null,
            "right": null,
            "justify_content": null,
            "_view_module": "@jupyter-widgets/base",
            "overflow": null,
            "_model_module_version": "1.2.0",
            "_view_count": null,
            "flex_flow": null,
            "width": null,
            "min_width": null,
            "border": null,
            "align_items": null,
            "bottom": null,
            "_model_module": "@jupyter-widgets/base",
            "top": null,
            "grid_column": null,
            "overflow_y": null,
            "overflow_x": null,
            "grid_auto_flow": null,
            "grid_area": null,
            "grid_template_columns": null,
            "flex": null,
            "_model_name": "LayoutModel",
            "justify_items": null,
            "grid_row": null,
            "max_height": null,
            "align_content": null,
            "visibility": null,
            "align_self": null,
            "height": null,
            "min_height": null,
            "padding": null,
            "grid_auto_rows": null,
            "grid_gap": null,
            "max_width": null,
            "order": null,
            "_view_module_version": "1.2.0",
            "grid_template_areas": null,
            "object_position": null,
            "object_fit": null,
            "grid_auto_columns": null,
            "margin": null,
            "display": null,
            "left": null
          }
        },
        "3a7701456fd34273bd95da58dfb3a0d5": {
          "model_module": "@jupyter-widgets/controls",
          "model_name": "FloatProgressModel",
          "state": {
            "_view_name": "ProgressView",
            "style": "IPY_MODEL_5b4fe38879f04349a5b203b531802f67",
            "_dom_classes": [],
            "description": "",
            "_model_name": "FloatProgressModel",
            "bar_style": "info",
            "max": 1,
            "_view_module": "@jupyter-widgets/controls",
            "_model_module_version": "1.5.0",
            "value": 1,
            "_view_count": null,
            "_view_module_version": "1.5.0",
            "orientation": "horizontal",
            "min": 0,
            "description_tooltip": null,
            "_model_module": "@jupyter-widgets/controls",
            "layout": "IPY_MODEL_6ae6cd6a66d847f1b878e24dfe058e8c"
          }
        },
        "a5fc4ee471d54e87a1195f3c24979334": {
          "model_module": "@jupyter-widgets/controls",
          "model_name": "HTMLModel",
          "state": {
            "_view_name": "HTMLView",
            "style": "IPY_MODEL_52d64c0fcdca4bea8aeb4d8b4e369723",
            "_dom_classes": [],
            "description": "",
            "_model_name": "HTMLModel",
            "placeholder": "​",
            "_view_module": "@jupyter-widgets/controls",
            "_model_module_version": "1.5.0",
            "value": " 170500096/? [00:30&lt;00:00, 17517093.20it/s]",
            "_view_count": null,
            "_view_module_version": "1.5.0",
            "description_tooltip": null,
            "_model_module": "@jupyter-widgets/controls",
            "layout": "IPY_MODEL_b930804993a0415dbdaaffaea26a4b30"
          }
        },
        "5b4fe38879f04349a5b203b531802f67": {
          "model_module": "@jupyter-widgets/controls",
          "model_name": "ProgressStyleModel",
          "state": {
            "_view_name": "StyleView",
            "_model_name": "ProgressStyleModel",
            "description_width": "initial",
            "_view_module": "@jupyter-widgets/base",
            "_model_module_version": "1.5.0",
            "_view_count": null,
            "_view_module_version": "1.2.0",
            "bar_color": null,
            "_model_module": "@jupyter-widgets/controls"
          }
        },
        "6ae6cd6a66d847f1b878e24dfe058e8c": {
          "model_module": "@jupyter-widgets/base",
          "model_name": "LayoutModel",
          "state": {
            "_view_name": "LayoutView",
            "grid_template_rows": null,
            "right": null,
            "justify_content": null,
            "_view_module": "@jupyter-widgets/base",
            "overflow": null,
            "_model_module_version": "1.2.0",
            "_view_count": null,
            "flex_flow": null,
            "width": null,
            "min_width": null,
            "border": null,
            "align_items": null,
            "bottom": null,
            "_model_module": "@jupyter-widgets/base",
            "top": null,
            "grid_column": null,
            "overflow_y": null,
            "overflow_x": null,
            "grid_auto_flow": null,
            "grid_area": null,
            "grid_template_columns": null,
            "flex": null,
            "_model_name": "LayoutModel",
            "justify_items": null,
            "grid_row": null,
            "max_height": null,
            "align_content": null,
            "visibility": null,
            "align_self": null,
            "height": null,
            "min_height": null,
            "padding": null,
            "grid_auto_rows": null,
            "grid_gap": null,
            "max_width": null,
            "order": null,
            "_view_module_version": "1.2.0",
            "grid_template_areas": null,
            "object_position": null,
            "object_fit": null,
            "grid_auto_columns": null,
            "margin": null,
            "display": null,
            "left": null
          }
        },
        "52d64c0fcdca4bea8aeb4d8b4e369723": {
          "model_module": "@jupyter-widgets/controls",
          "model_name": "DescriptionStyleModel",
          "state": {
            "_view_name": "StyleView",
            "_model_name": "DescriptionStyleModel",
            "description_width": "",
            "_view_module": "@jupyter-widgets/base",
            "_model_module_version": "1.5.0",
            "_view_count": null,
            "_view_module_version": "1.2.0",
            "_model_module": "@jupyter-widgets/controls"
          }
        },
        "b930804993a0415dbdaaffaea26a4b30": {
          "model_module": "@jupyter-widgets/base",
          "model_name": "LayoutModel",
          "state": {
            "_view_name": "LayoutView",
            "grid_template_rows": null,
            "right": null,
            "justify_content": null,
            "_view_module": "@jupyter-widgets/base",
            "overflow": null,
            "_model_module_version": "1.2.0",
            "_view_count": null,
            "flex_flow": null,
            "width": null,
            "min_width": null,
            "border": null,
            "align_items": null,
            "bottom": null,
            "_model_module": "@jupyter-widgets/base",
            "top": null,
            "grid_column": null,
            "overflow_y": null,
            "overflow_x": null,
            "grid_auto_flow": null,
            "grid_area": null,
            "grid_template_columns": null,
            "flex": null,
            "_model_name": "LayoutModel",
            "justify_items": null,
            "grid_row": null,
            "max_height": null,
            "align_content": null,
            "visibility": null,
            "align_self": null,
            "height": null,
            "min_height": null,
            "padding": null,
            "grid_auto_rows": null,
            "grid_gap": null,
            "max_width": null,
            "order": null,
            "_view_module_version": "1.2.0",
            "grid_template_areas": null,
            "object_position": null,
            "object_fit": null,
            "grid_auto_columns": null,
            "margin": null,
            "display": null,
            "left": null
          }
        }
      }
    }
  },
  "cells": [
    {
      "cell_type": "code",
      "metadata": {
        "id": "kvhP2fR9tuc4"
      },
      "source": [
        "import torch.nn as nn\n",
        "import torch.nn.functional as F\n",
        "\n",
        "import pandas as pd\n",
        "import numpy as np\n",
        "import matplotlib.pyplot as plt\n",
        "\n",
        "import torch\n",
        "import torchvision\n",
        "import torchvision.transforms as transforms\n",
        "from torch.utils.data import Dataset, DataLoader\n",
        "from torchvision import transforms, utils\n",
        "\n",
        "from matplotlib import pyplot as plt\n",
        "\n",
        "import copy\n",
        "\n",
        "# Ignore warnings\n",
        "import warnings\n",
        "warnings.filterwarnings(\"ignore\")"
      ],
      "execution_count": 1,
      "outputs": []
    },
    {
      "cell_type": "code",
      "metadata": {
        "id": "5AKOgwmmuDVr",
        "outputId": "86c54dd7-7279-4585-f6b3-293bd27a2d0f",
        "colab": {
          "base_uri": "https://localhost:8080/",
          "height": 100,
          "referenced_widgets": [
            "6204da3afc814edf94b2659ac74d4a7a",
            "49c25901c6e74f48ad090f3bcba68480",
            "3a7701456fd34273bd95da58dfb3a0d5",
            "a5fc4ee471d54e87a1195f3c24979334",
            "5b4fe38879f04349a5b203b531802f67",
            "6ae6cd6a66d847f1b878e24dfe058e8c",
            "52d64c0fcdca4bea8aeb4d8b4e369723",
            "b930804993a0415dbdaaffaea26a4b30"
          ]
        }
      },
      "source": [
        "transform = transforms.Compose(\n",
        "    [transforms.ToTensor(),\n",
        "     transforms.Normalize((0.5, 0.5, 0.5), (0.5, 0.5, 0.5))])\n",
        "\n",
        "trainset = torchvision.datasets.CIFAR10(root='./data', train=True, download=True, transform=transform)\n",
        "\n",
        "\n",
        "testset = torchvision.datasets.CIFAR10(root='./data', train=False, download=True, transform=transform)"
      ],
      "execution_count": 2,
      "outputs": [
        {
          "output_type": "stream",
          "text": [
            "Downloading https://www.cs.toronto.edu/~kriz/cifar-10-python.tar.gz to ./data/cifar-10-python.tar.gz\n"
          ],
          "name": "stdout"
        },
        {
          "output_type": "display_data",
          "data": {
            "application/vnd.jupyter.widget-view+json": {
              "model_id": "6204da3afc814edf94b2659ac74d4a7a",
              "version_minor": 0,
              "version_major": 2
            },
            "text/plain": [
              "HBox(children=(FloatProgress(value=1.0, bar_style='info', max=1.0), HTML(value='')))"
            ]
          },
          "metadata": {
            "tags": []
          }
        },
        {
          "output_type": "stream",
          "text": [
            "Extracting ./data/cifar-10-python.tar.gz to ./data\n",
            "Files already downloaded and verified\n"
          ],
          "name": "stdout"
        }
      ]
    },
    {
      "cell_type": "code",
      "metadata": {
        "id": "zRNXNPHWxCT0"
      },
      "source": [
        "trainloader = torch.utils.data.DataLoader(trainset, batch_size=10, shuffle=False)\n",
        "testloader = torch.utils.data.DataLoader(testset, batch_size=10, shuffle=False)\n",
        "\n",
        "\n",
        "classes = ('plane', 'car', 'bird', 'cat', 'deer', 'dog', 'frog', 'horse', 'ship', 'truck')\n",
        "\n",
        "foreground_classes = {'plane', 'car', 'bird'}\n",
        "\n",
        "background_classes = {'cat', 'deer', 'dog', 'frog', 'horse','ship', 'truck'}\n",
        "\n",
        "fg1,fg2,fg3 = 0,1,2"
      ],
      "execution_count": 3,
      "outputs": []
    },
    {
      "cell_type": "code",
      "metadata": {
        "id": "8nlXuo8mxHs1"
      },
      "source": [
        "dataiter = iter(trainloader)\n",
        "background_data=[]\n",
        "background_label=[]\n",
        "foreground_data=[]\n",
        "foreground_label=[]\n",
        "batch_size=10\n",
        "\n",
        "for i in range(5000):\n",
        "  images, labels = dataiter.next()\n",
        "  for j in range(batch_size):\n",
        "    if(classes[labels[j]] in background_classes):\n",
        "      img = images[j].tolist()\n",
        "      background_data.append(img)\n",
        "      background_label.append(labels[j])\n",
        "    else:\n",
        "      img = images[j].tolist()\n",
        "      foreground_data.append(img)\n",
        "      foreground_label.append(labels[j])\n",
        "            \n",
        "foreground_data = torch.tensor(foreground_data)\n",
        "foreground_label = torch.tensor(foreground_label)\n",
        "background_data = torch.tensor(background_data)\n",
        "background_label = torch.tensor(background_label)"
      ],
      "execution_count": 4,
      "outputs": []
    },
    {
      "cell_type": "code",
      "metadata": {
        "id": "p3bTKPpixLFs"
      },
      "source": [
        "def create_mosaic_img(bg_idx,fg_idx,fg): \n",
        "  \"\"\"\n",
        "  bg_idx : list of indexes of background_data[] to be used as background images in mosaic\n",
        "  fg_idx : index of image to be used as foreground image from foreground data\n",
        "  fg : at what position/index foreground image has to be stored out of 0-8\n",
        "  \"\"\"\n",
        "  image_list=[]\n",
        "  j=0\n",
        "  for i in range(9):\n",
        "    if i != fg:\n",
        "      image_list.append(background_data[bg_idx[j]])#.type(\"torch.DoubleTensor\"))\n",
        "      j+=1\n",
        "    else: \n",
        "      image_list.append(foreground_data[fg_idx])#.type(\"torch.DoubleTensor\"))\n",
        "      label = foreground_label[fg_idx]- fg1  # minus 7 because our fore ground classes are 7,8,9 but we have to store it as 0,1,2\n",
        "  #image_list = np.concatenate(image_list ,axis=0)\n",
        "  image_list = torch.stack(image_list) \n",
        "  return image_list,label"
      ],
      "execution_count": 5,
      "outputs": []
    },
    {
      "cell_type": "code",
      "metadata": {
        "id": "ho0BsIqqxOj8"
      },
      "source": [
        "desired_num = 30000\n",
        "mosaic_list_of_images =[]      # list of mosaic images, each mosaic image is saved as list of 9 images\n",
        "#fore_idx =[]                   # list of indexes at which foreground image is present in a mosaic image i.e from 0 to 9               \n",
        "mosaic_label=[]                # label of mosaic image = foreground class present in that mosaic\n",
        "for i in range(desired_num):\n",
        "  np.random.seed(i)\n",
        "  bg_idx = np.random.randint(0,35000,8)\n",
        "  fg_idx = np.random.randint(0,15000)\n",
        "  fg = np.random.randint(0,9)\n",
        "  #fore_idx.append(fg)\n",
        "  image_list,label = create_mosaic_img(bg_idx,fg_idx,fg)\n",
        "  mosaic_list_of_images.append(image_list)\n",
        "  mosaic_label.append(label)"
      ],
      "execution_count": 6,
      "outputs": []
    },
    {
      "cell_type": "code",
      "metadata": {
        "id": "tebDf0O3xSrp"
      },
      "source": [
        "class MosaicDataset(Dataset):\n",
        "  \"\"\"MosaicDataset dataset.\"\"\"\n",
        "\n",
        "  def __init__(self, mosaic_list_of_images, mosaic_label):\n",
        "    \"\"\"\n",
        "      Args:\n",
        "        csv_file (string): Path to the csv file with annotations.\n",
        "        root_dir (string): Directory with all the images.\n",
        "        transform (callable, optional): Optional transform to be applied\n",
        "            on a sample.\n",
        "    \"\"\"\n",
        "    self.mosaic = mosaic_list_of_images\n",
        "    self.label = mosaic_label\n",
        "\n",
        "  def __len__(self):\n",
        "    return len(self.label)\n",
        "\n",
        "  def __getitem__(self, idx):\n",
        "    return self.mosaic[idx] , self.label[idx]\n",
        "\n",
        "batch = 125\n",
        "msd = MosaicDataset(mosaic_list_of_images, mosaic_label )\n",
        "train_loader = DataLoader( msd,batch_size= batch ,shuffle=True)"
      ],
      "execution_count": 7,
      "outputs": []
    },
    {
      "cell_type": "code",
      "metadata": {
        "id": "gF9ggP3kz9Wv"
      },
      "source": [
        "test_images =[]        #list of mosaic images, each mosaic image is saved as laist of 9 images\n",
        "fore_idx_test =[]                   #list of indexes at which foreground image is present in a mosaic image                \n",
        "test_label=[]                # label of mosaic image = foreground class present in that mosaic\n",
        "for i in range(10000):\n",
        "  np.random.seed(i+30000)\n",
        "  bg_idx = np.random.randint(0,35000,8)\n",
        "  fg_idx = np.random.randint(0,15000)\n",
        "  fg = np.random.randint(0,9)\n",
        "  fore_idx_test.append(fg)\n",
        "  image_list,label = create_mosaic_img(bg_idx,fg_idx,fg)\n",
        "  test_images.append(image_list)\n",
        "  test_label.append(label)"
      ],
      "execution_count": 8,
      "outputs": []
    },
    {
      "cell_type": "code",
      "metadata": {
        "id": "NPEFFNfrz9Pf"
      },
      "source": [
        "test_data = MosaicDataset(test_images,test_label)\n",
        "test_loader = DataLoader( test_data,batch_size= batch ,shuffle=False)"
      ],
      "execution_count": 9,
      "outputs": []
    },
    {
      "cell_type": "code",
      "metadata": {
        "id": "KU6nQ692xZHb"
      },
      "source": [
        "class Focus(nn.Module):\n",
        "  def __init__(self):\n",
        "    super(Focus, self).__init__()\n",
        "    self.conv1 = nn.Conv2d(in_channels=3, out_channels=32, kernel_size=3, padding=0)\n",
        "    self.pool = nn.MaxPool2d(2, 2)\n",
        "    self.conv2 = nn.Conv2d(in_channels=32, out_channels=64, kernel_size=3, padding=0)\n",
        "    self.conv3 = nn.Conv2d(in_channels=64, out_channels=64, kernel_size=3, padding=0)\n",
        "    self.fc1 = nn.Linear(1024, 512)\n",
        "    self.fc2 = nn.Linear(512, 64)\n",
        "    self.fc3 = nn.Linear(64, 10)\n",
        "    self.fc4 = nn.Linear(10,1)\n",
        "\n",
        "  def forward(self, x):\n",
        "    x = self.pool(F.relu(self.conv1(x)))\n",
        "    x = self.pool(F.relu(self.conv2(x)))\n",
        "    # print(x.shape)\n",
        "    x = (F.relu(self.conv3(x)))\n",
        "    x =  x.view(x.size(0), -1)\n",
        "    # print(x.shape)\n",
        "    x = F.relu(self.fc1(x))\n",
        "    x = F.relu(self.fc2(x))\n",
        "    x = F.relu(self.fc3(x))\n",
        "    x = self.fc4(x)\n",
        "    return x"
      ],
      "execution_count": 10,
      "outputs": []
    },
    {
      "cell_type": "code",
      "metadata": {
        "id": "oTEbTBRXxajy"
      },
      "source": [
        "class Classification(nn.Module):\n",
        "  def __init__(self,focus_net):\n",
        "    super(Classification, self).__init__()\n",
        "    self.module1 = focus_net\n",
        "    self.conv1 = nn.Conv2d(in_channels=3, out_channels=32, kernel_size=3, padding=0)\n",
        "    self.pool = nn.MaxPool2d(2, 2)\n",
        "    self.conv2 = nn.Conv2d(in_channels=32, out_channels=64, kernel_size=3, padding=0)\n",
        "    self.conv3 = nn.Conv2d(in_channels=64, out_channels=64, kernel_size=3, padding=0)\n",
        "    self.fc1 = nn.Linear(1024, 512)\n",
        "    self.fc2 = nn.Linear(512, 64)\n",
        "    self.fc3 = nn.Linear(64, 10)\n",
        "    self.fc4 = nn.Linear(10,3)\n",
        "\n",
        "  def forward(self,z):  #z batch of list of 9 images\n",
        "    y = torch.zeros([batch,3, 32,32], dtype=torch.float64)\n",
        "    x = torch.zeros([batch,9],dtype=torch.float64)\n",
        "    x = x.to(\"cuda\")\n",
        "    y = y.to(\"cuda\")\n",
        "\n",
        "    for i in range(9):\n",
        "        x[:,i] = self.module1.forward(z[:,i])[:,0]\n",
        "\n",
        "    x = F.softmax(x,dim=1)\n",
        "\n",
        "    x1 = x[:,0]\n",
        "    torch.mul(x1[:,None,None,None],z[:,0])\n",
        "\n",
        "    for i in range(9):            \n",
        "      x1 = x[:,i]          \n",
        "      y = y + torch.mul(x1[:,None,None,None],z[:,i])\n",
        "    \n",
        "    y1 = self.pool(F.relu(self.conv1(y)))\n",
        "    y1 = self.pool(F.relu(self.conv2(y1)))\n",
        "    # print(x.shape)\n",
        "    y1 = (F.relu(self.conv3(y1)))\n",
        "    y1 =  y1.view(y1.size(0), -1)\n",
        "    # print(x.shape)\n",
        "    y1 = F.relu(self.fc1(y1))\n",
        "    y1 = F.relu(self.fc2(y1))\n",
        "    y1 = F.relu(self.fc3(y1))\n",
        "    y1 = self.fc4(y1)\n",
        "\n",
        "    return y1 , x, y"
      ],
      "execution_count": 11,
      "outputs": []
    },
    {
      "cell_type": "code",
      "metadata": {
        "id": "K_u8JyyLxy6G",
        "outputId": "dd9f6f3f-e153-4670-a99e-c7b526dc0df2",
        "colab": {
          "base_uri": "https://localhost:8080/",
          "height": 34
        }
      },
      "source": [
        "# both trained\n",
        "focus_net = Focus().double()\n",
        "for params in focus_net.parameters():\n",
        "  params.requires_grad = True\n",
        "classify = Classification(focus_net).double()\n",
        "classify = classify.to(\"cuda\")\n",
        "classify.load_state_dict( torch.load(\"/content/brandom_btrain.pt\"))"
      ],
      "execution_count": 120,
      "outputs": [
        {
          "output_type": "execute_result",
          "data": {
            "text/plain": [
              "<All keys matched successfully>"
            ]
          },
          "metadata": {
            "tags": []
          },
          "execution_count": 120
        }
      ]
    },
    {
      "cell_type": "code",
      "metadata": {
        "id": "Sqk_8LmyPHqg",
        "outputId": "29918003-d12d-4d48-a88a-6c8102c69274",
        "colab": {
          "base_uri": "https://localhost:8080/",
          "height": 34
        }
      },
      "source": [
        "#classify trained\n",
        "focus_ct = Focus().double()\n",
        "for params in focus_ct.parameters():\n",
        "  params.requires_grad = True\n",
        "classify_ct = Classification(focus_ct).double()\n",
        "classify_ct = classify_ct.to(\"cuda\")\n",
        "classify_ct.load_state_dict( torch.load(\"/content/brandom_ctrain.pt\"))"
      ],
      "execution_count": 121,
      "outputs": [
        {
          "output_type": "execute_result",
          "data": {
            "text/plain": [
              "<All keys matched successfully>"
            ]
          },
          "metadata": {
            "tags": []
          },
          "execution_count": 121
        }
      ]
    },
    {
      "cell_type": "code",
      "metadata": {
        "id": "u_bdCUU0Xmm3"
      },
      "source": [
        "# import torch.optim as optim\n",
        "# criterion_classify = nn.CrossEntropyLoss()\n",
        "# optimizer_classify = optim.SGD(classify.parameters(), lr=0.01, momentum=0.9)\n"
      ],
      "execution_count": 16,
      "outputs": []
    },
    {
      "cell_type": "code",
      "metadata": {
        "id": "lp9SRr_fVLAC"
      },
      "source": [
        "# nos_epochs =300\n",
        "# for epoch in range(nos_epochs):  # loop over the dataset multiple times  \n",
        "#   running_loss = 0.0\n",
        "#   epoch_loss = []\n",
        "#   cnt=0\n",
        "\n",
        "#   iteration = desired_num // batch\n",
        "  \n",
        "#   #training data set\n",
        "  \n",
        "#   for i, data in  enumerate(train_loader):\n",
        "#     inputs , labels = data\n",
        "#     inputs = inputs.double()\n",
        "#     inputs, labels = inputs.to(\"cuda\"), labels.to(\"cuda\")\n",
        "#     # zero the parameter gradients\n",
        "    \n",
        "#     optimizer_classify.zero_grad()\n",
        "#     outputs, alphas, avg_images = classify(inputs)\n",
        "\n",
        "#     _, predicted = torch.max(outputs.data, 1)\n",
        "# #     print(outputs)\n",
        "# #     print(outputs.shape,labels.shape , torch.argmax(outputs, dim=1))\n",
        "\n",
        "#     loss = criterion_classify(outputs, labels) \n",
        "#     loss.backward()\n",
        "#     optimizer_classify.step()\n",
        "\n",
        "#     running_loss += loss.item()\n",
        "#     mini = 60\n",
        "#     if cnt % mini == mini-1:    # print every 40 mini-batches\n",
        "#       print('[%d, %5d] loss: %.3f' %(epoch + 1, cnt + 1, running_loss / mini))\n",
        "#       epoch_loss.append(running_loss/mini)\n",
        "#       running_loss = 0.0\n",
        "#     cnt=cnt+1\n",
        "#   if(np.mean(epoch_loss) <= 0.03):\n",
        "#       break;\n",
        "# print('Finished Training')"
      ],
      "execution_count": 17,
      "outputs": []
    },
    {
      "cell_type": "code",
      "metadata": {
        "id": "b6R_j82EoJuX"
      },
      "source": [
        "# torch.save(classify.state_dict(),\"/content/brandom_ctrain.pt\")"
      ],
      "execution_count": 18,
      "outputs": []
    },
    {
      "cell_type": "code",
      "metadata": {
        "id": "5Q5GJPPfyK1n"
      },
      "source": [
        "#classify.load_state_dict( torch.load(\"/content/brandom_ctrain.pt\"))\n",
        "#classify.load_state_dict( torch.load(\"/content/drive/My Drive/Cheating_data/16_experiments_on_cnn_3layers/4_focus_random_classify_random_train_classify.pt\"))"
      ],
      "execution_count": 19,
      "outputs": []
    },
    {
      "cell_type": "code",
      "metadata": {
        "id": "4dqtbDtjzX4N"
      },
      "source": [
        "# classify.eval()\n",
        "# total = 0 \n",
        "# correct = 0\n",
        "# with torch.no_grad():\n",
        "#   for data in train_loader:\n",
        "#     inputs, labels  = data\n",
        "#     inputs = inputs.double()\n",
        "#     inputs, labels  = inputs.to(\"cuda\"),labels.to(\"cuda\")\n",
        "#     outputs, alphas, avg_images = classify(inputs)\n",
        "\n",
        "#     _, predicted = torch.max(outputs.data, 1)\n",
        "\n",
        "#     total += labels.size(0)\n",
        "#     correct += (predicted == labels).sum().item()\n",
        "\n",
        "# print('Accuracy of the network on the 30000 train images: %d %%' % (\n",
        "#     100 * correct / total))\n",
        "# print(\"total correct\", correct)\n",
        "# print(\"total train set images\", total)"
      ],
      "execution_count": 22,
      "outputs": []
    },
    {
      "cell_type": "code",
      "metadata": {
        "id": "-15xPM280v4N"
      },
      "source": [
        "# classify_ct.eval()\n",
        "# total = 0 \n",
        "# correct = 0\n",
        "# with torch.no_grad():\n",
        "#   for data in test_loader:\n",
        "#     inputs, labels  = data\n",
        "#     inputs = inputs.double() \n",
        "#     inputs, labels  = inputs.to(\"cuda\"),labels.to(\"cuda\")\n",
        "#     outputs, alphas, avg_images = classify_ct(inputs)\n",
        "\n",
        "#     _, predicted = torch.max(outputs.data, 1)\n",
        "\n",
        "#     total += labels.size(0)\n",
        "#     correct += (predicted == labels).sum().item()\n",
        "\n",
        "# print('Accuracy of the network on the 10000 test images: %d %%' % (\n",
        "#     100 * correct / total))\n",
        "# print(\"total correct\", correct)\n",
        "# print(\"total train set images\", total)"
      ],
      "execution_count": 23,
      "outputs": []
    },
    {
      "cell_type": "markdown",
      "metadata": {
        "id": "FKazVW7WHueg"
      },
      "source": [
        "# Analysis on both random train classify Model"
      ]
    },
    {
      "cell_type": "code",
      "metadata": {
        "id": "zQB7lW6r16ZT"
      },
      "source": [
        "MIN = 100000\n",
        "MAX = -100000\n",
        "i=0\n",
        "for param in classify_ct.parameters():\n",
        "  if i %2 == 0:\n",
        "    min_value = np.min(param.cpu().detach().numpy())\n",
        "    max_value = np.max(param.cpu().detach().numpy())\n",
        "    if MIN > min_value:\n",
        "      MIN = min_value\n",
        "    if MAX < max_value:\n",
        "      MAX = max_value \n",
        "  i =i+1"
      ],
      "execution_count": 24,
      "outputs": []
    },
    {
      "cell_type": "code",
      "metadata": {
        "id": "H_tDHGCaIGqz",
        "outputId": "4a01db1c-4069-4b45-9a01-b348893fdb45",
        "colab": {
          "base_uri": "https://localhost:8080/",
          "height": 34
        }
      },
      "source": [
        "MIN,MAX"
      ],
      "execution_count": 25,
      "outputs": [
        {
          "output_type": "execute_result",
          "data": {
            "text/plain": [
              "(-1.2860045929276889, 1.7312222026163304)"
            ]
          },
          "metadata": {
            "tags": []
          },
          "execution_count": 25
        }
      ]
    },
    {
      "cell_type": "code",
      "metadata": {
        "id": "vm8-wt7gIHif",
        "outputId": "02af02bf-f76b-4bd6-e102-f9ba2246e571",
        "colab": {
          "base_uri": "https://localhost:8080/",
          "height": 34
        }
      },
      "source": [
        "classify_ct.eval()\n",
        "margin = []\n",
        "with torch.no_grad():\n",
        "  for data in train_loader:\n",
        "    inputs, labels  = data\n",
        "    inputs = inputs.double() \n",
        "    inputs  = inputs.to(\"cuda\")\n",
        "    output, alphas, avg_images = classify_ct(inputs)\n",
        "    output = output.cpu().detach().numpy()\n",
        "    indexes = np.arange(output.shape[0]), np.argsort(output, axis=1)[:, -2]\n",
        "    second_largest = output[indexes]\n",
        "    margin.append(np.diag(output[:,labels]) - second_largest)\n",
        "\n",
        "margin = np.concatenate(margin,axis=0)\n",
        "margin = np.percentile(margin[margin>0],5)\n",
        "print(margin)"
      ],
      "execution_count": 33,
      "outputs": [
        {
          "output_type": "stream",
          "text": [
            "4.010290425296221\n"
          ],
          "name": "stdout"
        }
      ]
    },
    {
      "cell_type": "code",
      "metadata": {
        "id": "P78adR7jIHM4",
        "outputId": "d37fe7ad-4692-44a2-d3d3-90795a1be80a",
        "colab": {
          "base_uri": "https://localhost:8080/",
          "height": 407
        }
      },
      "source": [
        "max_alpha =[]\n",
        "for i, data in  enumerate(train_loader):\n",
        "  inputs , labels = data\n",
        "  inputs = inputs.double()\n",
        "  inputs, labels = inputs.to(\"cuda\"), labels.to(\"cuda\")\n",
        "  _, alphas, _ = classify_ct(inputs)\n",
        "  mx,_ = torch.max(alphas,1)\n",
        "  max_alpha.append(mx.cpu().detach().numpy())\n",
        "max_alpha = np.concatenate(max_alpha,axis=0)\n",
        "print(max_alpha.shape)\n",
        "plt.figure(figsize=(6,6))\n",
        "_,bins,_ = plt.hist(max_alpha,bins=50,color =\"c\")\n",
        "plt.title(\"alpha values histogram\")\n",
        "plt.savefig(\"attention_model_2_hist\")"
      ],
      "execution_count": 179,
      "outputs": [
        {
          "output_type": "stream",
          "text": [
            "(30000,)\n"
          ],
          "name": "stdout"
        },
        {
          "output_type": "display_data",
          "data": {
            "image/png": "[encoded data removed]",
            "text/plain": [
              "<Figure size 432x432 with 1 Axes>"
            ]
          },
          "metadata": {
            "tags": [],
            "needs_background": "light"
          }
        }
      ]
    },
    {
      "cell_type": "code",
      "metadata": {
        "id": "8Mb7_sQTQ2ms",
        "outputId": "ddf3959e-aa32-4154-bb2b-428ec61dd25d",
        "colab": {
          "base_uri": "https://localhost:8080/",
          "height": 34
        }
      },
      "source": [
        "norm_weight = 1\n",
        "i = 0\n",
        "for weights in classify_ct.parameters():\n",
        "  norm_weight *= np.linalg.norm(weights.cpu().detach().numpy())**2\n",
        "  i =i+1\n",
        "\n",
        "print(norm_weight)"
      ],
      "execution_count": 51,
      "outputs": [
        {
          "output_type": "stream",
          "text": [
            "255042257838873.97\n"
          ],
          "name": "stdout"
        }
      ]
    },
    {
      "cell_type": "code",
      "metadata": {
        "id": "BnW8tiwibTxb"
      },
      "source": [
        "with torch.no_grad():\n",
        "  for p in classify_ct.parameters():\n",
        "    p.data.copy_( (p*p).data)"
      ],
      "execution_count": 105,
      "outputs": []
    },
    {
      "cell_type": "code",
      "metadata": {
        "id": "RV-trZd5c5eH",
        "outputId": "86b24612-7e04-42e9-f7df-eab5ce7d8196",
        "colab": {
          "base_uri": "https://localhost:8080/",
          "height": 34
        }
      },
      "source": [
        "inputs = torch.tensor(np.ones(next(iter(train_loader))[0].shape)).to(\"cuda\")\n",
        "outputs,_,_ = classify_ct(inputs)\n",
        "path_norm = np.sqrt(np.sum(outputs[0].cpu().detach().numpy()))\n",
        "print(path_norm)"
      ],
      "execution_count": 117,
      "outputs": [
        {
          "output_type": "stream",
          "text": [
            "110.62136599654703\n"
          ],
          "name": "stdout"
        }
      ]
    },
    {
      "cell_type": "markdown",
      "metadata": {
        "id": "xyQK_2K2rGdK"
      },
      "source": [
        "# Sharpness\n"
      ]
    },
    {
      "cell_type": "code",
      "metadata": {
        "id": "8OPRPgE9rFw_"
      },
      "source": [
        ""
      ],
      "execution_count": null,
      "outputs": []
    },
    {
      "cell_type": "code",
      "metadata": {
        "id": "bFifHu-CrD6G"
      },
      "source": [
        ""
      ],
      "execution_count": null,
      "outputs": []
    },
    {
      "cell_type": "markdown",
      "metadata": {
        "id": "KV082_iNIGMC"
      },
      "source": [
        "# Analysis on both random train both Model"
      ]
    },
    {
      "cell_type": "code",
      "metadata": {
        "id": "scFA7u5LILOR"
      },
      "source": [
        "MIN = 100000\n",
        "MAX = -100000\n",
        "i = 0\n",
        "for param in classify.parameters():\n",
        "  if i %2 == 0:\n",
        "    min_value = np.min(param.cpu().detach().numpy())\n",
        "    max_value = np.max(param.cpu().detach().numpy())\n",
        "    if MIN > min_value:\n",
        "      MIN = min_value\n",
        "    if MAX < max_value:\n",
        "      MAX = max_value \n",
        "  i = i+1"
      ],
      "execution_count": 28,
      "outputs": []
    },
    {
      "cell_type": "code",
      "metadata": {
        "id": "Lfy5-OToKK5L",
        "outputId": "17fcfb3c-7805-4a03-8475-f9a19036dc68",
        "colab": {
          "base_uri": "https://localhost:8080/",
          "height": 34
        }
      },
      "source": [
        "MIN,MAX"
      ],
      "execution_count": 29,
      "outputs": [
        {
          "output_type": "execute_result",
          "data": {
            "text/plain": [
              "(-1.2381426818007577, 1.1129292140413958)"
            ]
          },
          "metadata": {
            "tags": []
          },
          "execution_count": 29
        }
      ]
    },
    {
      "cell_type": "code",
      "metadata": {
        "id": "M7FMmE3iKMha",
        "outputId": "117ffcce-8218-4b2e-e726-052724c3891e",
        "colab": {
          "base_uri": "https://localhost:8080/",
          "height": 34
        }
      },
      "source": [
        "classify.eval()\n",
        "margin = []\n",
        "with torch.no_grad():\n",
        "  for data in train_loader:\n",
        "    inputs, labels  = data\n",
        "    inputs = inputs.double() \n",
        "    inputs  = inputs.to(\"cuda\")\n",
        "    output, alphas, avg_images = classify(inputs)\n",
        "    output = output.cpu().detach().numpy()\n",
        "    indexes = np.arange(output.shape[0]), np.argsort(output, axis=1)[:, -2]\n",
        "    second_largest = output[indexes]\n",
        "    margin.append(np.diag(output[:,labels]) - second_largest)\n",
        "\n",
        "margin = np.concatenate(margin,axis=0)\n",
        "margin = np.percentile(margin[margin>0],5)\n",
        "print(margin)"
      ],
      "execution_count": 32,
      "outputs": [
        {
          "output_type": "stream",
          "text": [
            "3.628978227614205\n"
          ],
          "name": "stdout"
        }
      ]
    },
    {
      "cell_type": "code",
      "metadata": {
        "id": "n1MVv2vIOsDD",
        "outputId": "1280b22e-2604-47a4-c159-a1acd208ecf9",
        "colab": {
          "base_uri": "https://localhost:8080/",
          "height": 34
        }
      },
      "source": [
        "norm_weight = 1\n",
        "i = 0 \n",
        "for weights in classify.parameters():\n",
        "  norm_weight *= np.linalg.norm(weights.cpu().detach().numpy())\n",
        "print(norm_weight)"
      ],
      "execution_count": 50,
      "outputs": [
        {
          "output_type": "stream",
          "text": [
            "66608444571.48307\n"
          ],
          "name": "stdout"
        }
      ]
    },
    {
      "cell_type": "code",
      "metadata": {
        "id": "UQwrlxQdT-ow"
      },
      "source": [
        "with torch.no_grad():\n",
        "  for p in classify.parameters():\n",
        "    p.data.copy_( (p*p).data)"
      ],
      "execution_count": 118,
      "outputs": []
    },
    {
      "cell_type": "code",
      "metadata": {
        "id": "5fyqK6iSU4tk",
        "outputId": "6372373c-9582-4a86-ad3f-a6e236c9a938",
        "colab": {
          "base_uri": "https://localhost:8080/",
          "height": 34
        }
      },
      "source": [
        "inputs = torch.tensor(np.ones(next(iter(train_loader))[0].shape)).to(\"cuda\")\n",
        "outputs,_,_ = classify(inputs)\n",
        "path_norm = np.sqrt(np.sum(outputs[0].cpu().detach().numpy()))\n",
        "print(path_norm)"
      ],
      "execution_count": 119,
      "outputs": [
        {
          "output_type": "stream",
          "text": [
            "4.766916528253006\n"
          ],
          "name": "stdout"
        }
      ]
    },
    {
      "cell_type": "code",
      "metadata": {
        "id": "pZk6kw73VrMz",
        "outputId": "402ce221-b21d-43ea-90e3-9f45f116125c",
        "colab": {
          "base_uri": "https://localhost:8080/",
          "height": 407
        }
      },
      "source": [
        "max_alpha =[]\n",
        "for i, data in  enumerate(train_loader):\n",
        "  inputs , labels = data\n",
        "  inputs = inputs.double()\n",
        "  inputs, labels = inputs.to(\"cuda\"), labels.to(\"cuda\")\n",
        "  _, alphas, _ = classify(inputs)\n",
        "  mx,_ = torch.max(alphas,1)\n",
        "  max_alpha.append(mx.cpu().detach().numpy())\n",
        "max_alpha = np.concatenate(max_alpha,axis=0)\n",
        "print(max_alpha.shape)\n",
        "plt.figure(figsize=(6,6))\n",
        "_,bins,_ = plt.hist(max_alpha,bins=50,color =\"c\")\n",
        "plt.title(\"alpha values histogram\")\n",
        "plt.savefig(\"attention_model_1_hist\")"
      ],
      "execution_count": 180,
      "outputs": [
        {
          "output_type": "stream",
          "text": [
            "(30000,)\n"
          ],
          "name": "stdout"
        },
        {
          "output_type": "display_data",
          "data": {
            "image/png": "[encoded data removed]",
            "text/plain": [
              "<Figure size 432x432 with 1 Axes>"
            ]
          },
          "metadata": {
            "tags": [],
            "needs_background": "light"
          }
        }
      ]
    },
    {
      "cell_type": "code",
      "metadata": {
        "id": "pkL5y3ITrMlF"
      },
      "source": [
        ""
      ],
      "execution_count": null,
      "outputs": []
    },
    {
      "cell_type": "markdown",
      "metadata": {
        "id": "YMDAo3XTrLgu"
      },
      "source": [
        "# Sharpness\n"
      ]
    },
    {
      "cell_type": "code",
      "metadata": {
        "id": "vTbNLYPDngm6"
      },
      "source": [
        ""
      ],
      "execution_count": null,
      "outputs": []
    }
  ]
}