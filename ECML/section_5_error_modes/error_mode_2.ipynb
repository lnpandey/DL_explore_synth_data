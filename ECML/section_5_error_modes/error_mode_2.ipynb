{
  "nbformat": 4,
  "nbformat_minor": 0,
  "metadata": {
    "accelerator": "GPU",
    "colab": {
      "name": "distribution_2_m_9_1.ipynb",
      "provenance": [],
      "collapsed_sections": []
    },
    "kernelspec": {
      "display_name": "Python 3",
      "language": "python",
      "name": "python3"
    },
    "language_info": {
      "codemirror_mode": {
        "name": "ipython",
        "version": 3
      },
      "file_extension": ".py",
      "mimetype": "text/x-python",
      "name": "python",
      "nbconvert_exporter": "python",
      "pygments_lexer": "ipython3",
      "version": "3.6.5"
    }
  },
  "cells": [
    {
      "cell_type": "code",
      "metadata": {
        "colab": {
          "base_uri": "https://localhost:8080/"
        },
        "id": "N2_J4Rw2r0SQ",
        "outputId": "ed36dbd8-716f-4ca7-95dc-3a11e7ff3613"
      },
      "source": [
        "import numpy as np\n",
        "import pandas as pd\n",
        "from matplotlib import pyplot as plt\n",
        "from tqdm import tqdm\n",
        "%matplotlib inline\n",
        "from torch.utils.data import Dataset, DataLoader\n",
        "import torch\n",
        "import torchvision\n",
        "\n",
        "import torch.nn as nn\n",
        "import torch.optim as optim\n",
        "from torch.nn import functional as F\n",
        "device = torch.device(\"cuda\" if torch.cuda.is_available() else \"cpu\")\n",
        "print(device)"
      ],
      "execution_count": 1,
      "outputs": [
        {
          "output_type": "stream",
          "text": [
            "cpu\n"
          ],
          "name": "stdout"
        }
      ]
    },
    {
      "cell_type": "markdown",
      "metadata": {
        "id": "F6fjud_Fr0Sa"
      },
      "source": [
        "# Generate dataset"
      ]
    },
    {
      "cell_type": "code",
      "metadata": {
        "id": "CqdXHO0Cr0Sd"
      },
      "source": [
        "y = np.random.randint(0,4,1200)\n",
        "idx= []\n",
        "for i in range(4):\n",
        "    #print(i,sum(y==i))\n",
        "    idx.append(y==i)"
      ],
      "execution_count": 2,
      "outputs": []
    },
    {
      "cell_type": "code",
      "metadata": {
        "id": "ddhXyODwr0Sk"
      },
      "source": [
        "x = np.zeros((1200,2))"
      ],
      "execution_count": 3,
      "outputs": []
    },
    {
      "cell_type": "code",
      "metadata": {
        "id": "DbWPELOH0ae4"
      },
      "source": [
        "\n",
        "\n",
        "x[idx[0],:] = np.random.uniform(low=[5,2],high=[6,4],size=(sum(idx[0]),2))\n",
        "\n",
        "x[idx[1],:] = np.random.uniform(low=[5,-3],high=[6,-5],size=(sum(idx[1]),2))\n",
        "\n",
        "x[idx[2],:] = np.random.uniform(low=[-2,0],high=[-3,-2],size=(sum(idx[2]),2))\n",
        "\n",
        "x[idx[3],:] = np.random.uniform(low=[1,-8],high=[2,5],size=(sum(idx[3]),2))"
      ],
      "execution_count": 4,
      "outputs": []
    },
    {
      "cell_type": "code",
      "metadata": {
        "colab": {
          "base_uri": "https://localhost:8080/",
          "height": 388
        },
        "id": "hJ8Jm7YUr0St",
        "outputId": "5e1bf8d8-98b9-4650-b2cc-e83b0f93d3b0"
      },
      "source": [
        "plt.figure(figsize=(6,6))\n",
        "for i in range(4):\n",
        "    plt.scatter(x[idx[i],0],x[idx[i],1],label=\"class_\"+str(i))\n",
        "    if i ==3:\n",
        "      plt.scatter(x[idx[i],0],x[idx[i],1],label=\"class_\"+str(i),c=\"brown\")\n",
        "\n",
        "plt.xlabel(\"X1\")\n",
        "plt.ylabel(\"X2\")\n",
        "#plt.legend(loc='center left', bbox_to_anchor=(1, 0.5))\n",
        "plt.savefig(\"dist_2.png\",bbox_inches=\"tight\")\n",
        "plt.savefig(\"dist_2.pdf\",bbox_inches=\"tight\")"
      ],
      "execution_count": 5,
      "outputs": [
        {
          "output_type": "display_data",
          "data": {
            "image/png": "[encoded data removed]",
            "text/plain": [
              "<Figure size 432x432 with 1 Axes>"
            ]
          },
          "metadata": {
            "tags": [],
            "needs_background": "light"
          }
        }
      ]
    },
    {
      "cell_type": "code",
      "metadata": {
        "id": "UfFHcZJOr0Sz"
      },
      "source": [
        "foreground_classes = {'class_0','class_1', 'class_2'}\n",
        "\n",
        "background_classes = {'class_3'}"
      ],
      "execution_count": 6,
      "outputs": []
    },
    {
      "cell_type": "code",
      "metadata": {
        "id": "jqbvfbwVr0TN"
      },
      "source": [
        "desired_num = 3000\n",
        "mosaic_list =[]\n",
        "mosaic_label = []\n",
        "fore_idx=[]\n",
        "for j in range(desired_num):\n",
        "    fg_class  = np.random.randint(0,3)\n",
        "    fg_idx = np.random.randint(0,9) #m=9\n",
        "    a = []\n",
        "    for i in range(9):  #m=9\n",
        "        if i == fg_idx:\n",
        "            b = np.random.choice(np.where(idx[fg_class]==True)[0],size=1)\n",
        "            a.append(x[b])\n",
        "#             print(\"foreground \"+str(fg_class)+\" present at \" + str(fg_idx))\n",
        "        else:\n",
        "            bg_class = np.random.randint(3,4)\n",
        "            b = np.random.choice(np.where(idx[bg_class]==True)[0],size=1)\n",
        "            a.append(x[b])\n",
        "#             print(\"background \"+str(bg_class)+\" present at \" + str(i))\n",
        "    a = np.concatenate(a,axis=0)\n",
        "    mosaic_list.append(np.reshape(a,(18,1)))\n",
        "    mosaic_label.append(fg_class)\n",
        "    fore_idx.append(fg_idx)"
      ],
      "execution_count": 7,
      "outputs": []
    },
    {
      "cell_type": "code",
      "metadata": {
        "id": "BOsFmWfMr0TR"
      },
      "source": [
        "mosaic_list = np.concatenate(mosaic_list,axis=1).T\n",
        "# print(mosaic_list)"
      ],
      "execution_count": 8,
      "outputs": []
    },
    {
      "cell_type": "code",
      "metadata": {
        "id": "yL0BRf8er0TX"
      },
      "source": [
        "class MosaicDataset(Dataset):\n",
        "  \"\"\"MosaicDataset dataset.\"\"\"\n",
        "\n",
        "  def __init__(self, mosaic_list, mosaic_label, fore_idx):\n",
        "    \"\"\"\n",
        "      Args:\n",
        "        csv_file (string): Path to the csv file with annotations.\n",
        "        root_dir (string): Directory with all the images.\n",
        "        transform (callable, optional): Optional transform to be applied\n",
        "            on a sample.\n",
        "    \"\"\"\n",
        "    self.mosaic = mosaic_list\n",
        "    self.label = mosaic_label\n",
        "    self.fore_idx = fore_idx\n",
        "\n",
        "  def __len__(self):\n",
        "    return len(self.label)\n",
        "\n",
        "  def __getitem__(self, idx):\n",
        "    return self.mosaic[idx] , self.label[idx], self.fore_idx[idx]\n",
        "\n",
        "batch = 250\n",
        "msd = MosaicDataset(mosaic_list, mosaic_label , fore_idx)\n",
        "train_loader = DataLoader( msd,batch_size= batch ,shuffle=True)"
      ],
      "execution_count": 9,
      "outputs": []
    },
    {
      "cell_type": "code",
      "metadata": {
        "id": "ZVRXgwwNr0Tb"
      },
      "source": [
        "class Wherenet(nn.Module):\n",
        "    def __init__(self):\n",
        "        super(Wherenet,self).__init__()\n",
        "        self.linear1 = nn.Linear(2,1)\n",
        "\n",
        "    def forward(self,z):\n",
        "        x = torch.zeros([batch,9],dtype=torch.float64)  #m=2\n",
        "        y = torch.zeros([batch,2], dtype=torch.float64)\n",
        "        #x,y = x.to(\"cuda\"),y.to(\"cuda\")\n",
        "        for i in range(9):  #m=9\n",
        "          x[:,i] = self.helper(z[:,2*i:2*i+2])[:,0]\n",
        "            #print(k[:,0].shape,x[:,i].shape)\n",
        "        x = F.softmax(x,dim=1)   # alphas\n",
        "        x1 = x[:,0]\n",
        "        for i in range(9): #m=9\n",
        "            x1 = x[:,i]          \n",
        "            #print()\n",
        "            y = y+torch.mul(x1[:,None],z[:,2*i:2*i+2])\n",
        "        return y , x \n",
        "\n",
        "    \n",
        "    def helper(self,x):\n",
        "        #x = F.relu(self.linear1(x))\n",
        "        #x = F.relu(self.linear2(x))\n",
        "        x = self.linear1(x)\n",
        "        return x\n",
        "\n",
        "    "
      ],
      "execution_count": 10,
      "outputs": []
    },
    {
      "cell_type": "code",
      "metadata": {
        "id": "SxEmWZI6r0Ti"
      },
      "source": [
        "torch.manual_seed(1246)\n",
        "where = Wherenet().double()"
      ],
      "execution_count": 11,
      "outputs": []
    },
    {
      "cell_type": "code",
      "metadata": {
        "id": "5_XeIUk0r0Tl"
      },
      "source": [
        "class Whatnet(nn.Module):\n",
        "    def __init__(self):\n",
        "        super(Whatnet,self).__init__()\n",
        "        self.linear1 = nn.Linear(2,3)\n",
        "        #self.linear2 = nn.Linear(4,3)\n",
        "#         self.linear3 = nn.Linear(8,3)\n",
        "    def forward(self,x):\n",
        "        #x = F.relu(self.linear1(x))\n",
        "        #x = F.relu(self.linear2(x))\n",
        "        x = self.linear1(x)\n",
        "        return x"
      ],
      "execution_count": 12,
      "outputs": []
    },
    {
      "cell_type": "code",
      "metadata": {
        "id": "l35i9bIlr0Tp"
      },
      "source": [
        "torch.manual_seed(1246)\n",
        "what = Whatnet().double()\n",
        "# what(out_where)"
      ],
      "execution_count": 13,
      "outputs": []
    },
    {
      "cell_type": "code",
      "metadata": {
        "id": "tMEoCLo1r0Tt"
      },
      "source": [
        "test_data_required = 1000\n",
        "mosaic_list_test =[]\n",
        "mosaic_label_test = []\n",
        "fore_idx_test=[]\n",
        "for j in range(test_data_required):\n",
        "    fg_class  = np.random.randint(0,3)\n",
        "    fg_idx = np.random.randint(0,9)  #m=9\n",
        "    a = []\n",
        "    for i in range(9): #m=9\n",
        "        if i == fg_idx:\n",
        "            b = np.random.choice(np.where(idx[fg_class]==True)[0],size=1)\n",
        "            a.append(x[b])\n",
        "#             print(\"foreground \"+str(fg_class)+\" present at \" + str(fg_idx))\n",
        "        else:\n",
        "            bg_class = np.random.randint(3,4)\n",
        "            b = np.random.choice(np.where(idx[bg_class]==True)[0],size=1)\n",
        "            a.append(x[b])\n",
        "#             print(\"background \"+str(bg_class)+\" present at \" + str(i))\n",
        "    a = np.concatenate(a,axis=0)\n",
        "    mosaic_list_test.append(np.reshape(a,(18,1)))\n",
        "    mosaic_label_test.append(fg_class)\n",
        "    fore_idx_test.append(fg_idx)"
      ],
      "execution_count": 14,
      "outputs": []
    },
    {
      "cell_type": "code",
      "metadata": {
        "id": "2Naetxvbr0Tw"
      },
      "source": [
        "mosaic_list_test = np.concatenate(mosaic_list_test,axis=1).T\n",
        "#print(mosaic_list_test.shape)"
      ],
      "execution_count": 15,
      "outputs": []
    },
    {
      "cell_type": "code",
      "metadata": {
        "id": "Os4KxqrFr0Tz"
      },
      "source": [
        "test_data = MosaicDataset(mosaic_list_test,mosaic_label_test,fore_idx_test)\n",
        "test_loader = DataLoader( test_data,batch_size= batch ,shuffle=False)"
      ],
      "execution_count": 16,
      "outputs": []
    },
    {
      "cell_type": "code",
      "metadata": {
        "colab": {
          "base_uri": "https://localhost:8080/"
        },
        "id": "pPQY-Wpcr0T2",
        "scrolled": true,
        "outputId": "5f15add5-f2b1-4a47-a931-6f9080323930"
      },
      "source": [
        "\n",
        "focus_true_pred_true =0\n",
        "focus_false_pred_true =0\n",
        "focus_true_pred_false =0\n",
        "focus_false_pred_false =0\n",
        "\n",
        "argmax_more_than_half = 0\n",
        "argmax_less_than_half =0\n",
        "\n",
        "col1=[]\n",
        "col2=[]\n",
        "col3=[]\n",
        "col4=[]\n",
        "col5=[]\n",
        "col6=[]\n",
        "col7=[]\n",
        "col8=[]\n",
        "col9=[]\n",
        "col10=[]\n",
        "col11=[]\n",
        "col12=[]\n",
        "col13=[]\n",
        "\n",
        "criterion = nn.CrossEntropyLoss()\n",
        "optimizer_where = optim.SGD(where.parameters(), lr=0.01, momentum=0.9)\n",
        "optimizer_what = optim.SGD(what.parameters(), lr=0.01, momentum=0.9)\n",
        "\n",
        "nos_epochs = 100\n",
        "\n",
        "train_loss=[]\n",
        "test_loss =[]\n",
        "train_acc = []\n",
        "test_acc = []\n",
        "for epoch in range(nos_epochs):  # loop over the dataset multiple times\n",
        "\n",
        "    focus_true_pred_true =0\n",
        "    focus_false_pred_true =0\n",
        "    focus_true_pred_false =0\n",
        "    focus_false_pred_false =0\n",
        "\n",
        "    argmax_more_than_half = 0\n",
        "    argmax_less_than_half =0\n",
        "\n",
        "    running_loss = 0.0\n",
        "    cnt=0\n",
        "\n",
        "    iteration = desired_num // batch\n",
        "\n",
        "    #training data set\n",
        "\n",
        "    for i, data in  enumerate(train_loader):\n",
        "        inputs , labels , fore_idx = data\n",
        "        #inputs,labels,fore_idx = inputs.to(device),labels.to(device),fore_idx.to(device)\n",
        "        # zero the parameter gradients\n",
        "\n",
        "        optimizer_what.zero_grad()\n",
        "        optimizer_where.zero_grad()\n",
        "        \n",
        "        \n",
        "        avg_inp,alphas = where(inputs)\n",
        "        \n",
        "        outputs = what(avg_inp)\n",
        "        \n",
        "        _, predicted = torch.max(outputs.data, 1)\n",
        "        \n",
        "        loss = criterion(outputs, labels) \n",
        "        loss.backward() \n",
        "        \n",
        "        optimizer_what.step()\n",
        "        optimizer_where.step() \n",
        "        \n",
        "\n",
        "        running_loss += loss.item()\n",
        "        if cnt % 6 == 5:    # print every 6 mini-batches\n",
        "            print('[%d, %5d] loss: %.3f' %(epoch + 1, cnt + 1, running_loss / 6))\n",
        "            running_loss = 0.0\n",
        "        cnt=cnt+1\n",
        "    \n",
        "        if epoch % 5 == 4:\n",
        "            for j in range (batch):\n",
        "                focus = torch.argmax(alphas[j])\n",
        "\n",
        "                if(alphas[j][focus] >= 0.5):\n",
        "                    argmax_more_than_half +=1\n",
        "                else:\n",
        "                    argmax_less_than_half +=1\n",
        "\n",
        "                if(focus == fore_idx[j] and predicted[j] == labels[j]):\n",
        "                    focus_true_pred_true += 1\n",
        "\n",
        "                elif(focus != fore_idx[j] and predicted[j] == labels[j]):\n",
        "                    focus_false_pred_true +=1\n",
        "\n",
        "                elif(focus == fore_idx[j] and predicted[j] != labels[j]):\n",
        "                    focus_true_pred_false +=1\n",
        "\n",
        "                elif(focus != fore_idx[j] and predicted[j] != labels[j]):\n",
        "                    focus_false_pred_false +=1\n",
        "\n",
        "    if epoch % 5 == 4:\n",
        "        col1.append(epoch)\n",
        "        col2.append(argmax_more_than_half)\n",
        "        col3.append(argmax_less_than_half)\n",
        "        col4.append(focus_true_pred_true)\n",
        "        col5.append(focus_false_pred_true)\n",
        "        col6.append(focus_true_pred_false)\n",
        "        col7.append(focus_false_pred_false)\n",
        "\n",
        "    #************************************************************************\n",
        "        #testing data set  \n",
        "        with torch.no_grad():\n",
        "            focus_true_pred_true =0\n",
        "            focus_false_pred_true =0\n",
        "            focus_true_pred_false =0\n",
        "            focus_false_pred_false =0\n",
        "\n",
        "            argmax_more_than_half = 0\n",
        "            argmax_less_than_half =0\n",
        "            for data in test_loader:\n",
        "                inputs, labels , fore_idx = data\n",
        "                #inputs,labels,fore_idx = inputs.to(device),labels.to(device),fore_idx.to(device) \n",
        "#                 print(inputs.shtorch.save(where.state_dict(),\"model_epoch\"+str(epoch)+\".pt\")ape,labels.shape)\n",
        "                avg_inp,alphas = where(inputs)\n",
        "                outputs = what(avg_inp)\n",
        "                _, predicted = torch.max(outputs.data, 1)\n",
        "\n",
        "                for j in range (batch):\n",
        "                    focus = torch.argmax(alphas[j])\n",
        "\n",
        "                    if(alphas[j][focus] >= 0.5):\n",
        "                        argmax_more_than_half +=1\n",
        "                    else:\n",
        "                        argmax_less_than_half +=1\n",
        "\n",
        "                    if(focus == fore_idx[j] and predicted[j] == labels[j]):\n",
        "                        focus_true_pred_true += 1\n",
        "\n",
        "                    elif(focus != fore_idx[j] and predicted[j] == labels[j]):\n",
        "                        focus_false_pred_true +=1\n",
        "\n",
        "                    elif(focus == fore_idx[j] and predicted[j] != labels[j]):\n",
        "                        focus_true_pred_false +=1\n",
        "\n",
        "                    elif(focus != fore_idx[j] and predicted[j] != labels[j]):\n",
        "                        focus_false_pred_false +=1\n",
        "\n",
        "        col8.append(argmax_more_than_half)\n",
        "        col9.append(argmax_less_than_half)\n",
        "        col10.append(focus_true_pred_true)\n",
        "        col11.append(focus_false_pred_true)\n",
        "        col12.append(focus_true_pred_false)\n",
        "        col13.append(focus_false_pred_false)\n",
        "        \n",
        "        #torch.save(where.state_dict(),\"where_model_epoch\"+str(epoch)+\".pt\")\n",
        "        #torch.save(what.state_dict(),\"what_model_epoch\"+str(epoch)+\".pt\")\n",
        "    \n",
        "print('Finished Training')\n",
        "#torch.save(where.state_dict(),\"where_model_epoch\"+str(nos_epochs)+\".pt\")\n",
        "#torch.save(what.state_dict(),\"what_model_epoch\"+str(epoch)+\".pt\")\n"
      ],
      "execution_count": 17,
      "outputs": [
        {
          "output_type": "stream",
          "text": [
            "[1,     6] loss: 1.039\n",
            "[1,    12] loss: 0.770\n",
            "[2,     6] loss: 0.616\n",
            "[2,    12] loss: 0.572\n",
            "[3,     6] loss: 0.455\n",
            "[3,    12] loss: 0.418\n",
            "[4,     6] loss: 0.371\n",
            "[4,    12] loss: 0.306\n",
            "[5,     6] loss: 0.253\n",
            "[5,    12] loss: 0.207\n",
            "[6,     6] loss: 0.167\n",
            "[6,    12] loss: 0.138\n",
            "[7,     6] loss: 0.117\n",
            "[7,    12] loss: 0.103\n",
            "[8,     6] loss: 0.091\n",
            "[8,    12] loss: 0.084\n",
            "[9,     6] loss: 0.073\n",
            "[9,    12] loss: 0.075\n",
            "[10,     6] loss: 0.069\n",
            "[10,    12] loss: 0.061\n",
            "[11,     6] loss: 0.061\n",
            "[11,    12] loss: 0.056\n",
            "[12,     6] loss: 0.056\n",
            "[12,    12] loss: 0.052\n",
            "[13,     6] loss: 0.053\n",
            "[13,    12] loss: 0.046\n",
            "[14,     6] loss: 0.047\n",
            "[14,    12] loss: 0.046\n",
            "[15,     6] loss: 0.043\n",
            "[15,    12] loss: 0.044\n",
            "[16,     6] loss: 0.042\n",
            "[16,    12] loss: 0.041\n",
            "[17,     6] loss: 0.041\n",
            "[17,    12] loss: 0.038\n",
            "[18,     6] loss: 0.036\n",
            "[18,    12] loss: 0.040\n",
            "[19,     6] loss: 0.037\n",
            "[19,    12] loss: 0.036\n",
            "[20,     6] loss: 0.036\n",
            "[20,    12] loss: 0.033\n",
            "[21,     6] loss: 0.033\n",
            "[21,    12] loss: 0.034\n",
            "[22,     6] loss: 0.030\n",
            "[22,    12] loss: 0.034\n",
            "[23,     6] loss: 0.031\n",
            "[23,    12] loss: 0.032\n",
            "[24,     6] loss: 0.035\n",
            "[24,    12] loss: 0.026\n",
            "[25,     6] loss: 0.034\n",
            "[25,    12] loss: 0.025\n",
            "[26,     6] loss: 0.029\n",
            "[26,    12] loss: 0.028\n",
            "[27,     6] loss: 0.026\n",
            "[27,    12] loss: 0.029\n",
            "[28,     6] loss: 0.027\n",
            "[28,    12] loss: 0.027\n",
            "[29,     6] loss: 0.024\n",
            "[29,    12] loss: 0.029\n",
            "[30,     6] loss: 0.024\n",
            "[30,    12] loss: 0.027\n",
            "[31,     6] loss: 0.024\n",
            "[31,    12] loss: 0.026\n",
            "[32,     6] loss: 0.026\n",
            "[32,    12] loss: 0.023\n",
            "[33,     6] loss: 0.021\n",
            "[33,    12] loss: 0.027\n",
            "[34,     6] loss: 0.021\n",
            "[34,    12] loss: 0.026\n",
            "[35,     6] loss: 0.023\n",
            "[35,    12] loss: 0.023\n",
            "[36,     6] loss: 0.026\n",
            "[36,    12] loss: 0.019\n",
            "[37,     6] loss: 0.024\n",
            "[37,    12] loss: 0.020\n",
            "[38,     6] loss: 0.022\n",
            "[38,    12] loss: 0.022\n",
            "[39,     6] loss: 0.019\n",
            "[39,    12] loss: 0.024\n",
            "[40,     6] loss: 0.020\n",
            "[40,    12] loss: 0.022\n",
            "[41,     6] loss: 0.019\n",
            "[41,    12] loss: 0.022\n",
            "[42,     6] loss: 0.022\n",
            "[42,    12] loss: 0.019\n",
            "[43,     6] loss: 0.017\n",
            "[43,    12] loss: 0.023\n",
            "[44,     6] loss: 0.020\n",
            "[44,    12] loss: 0.020\n",
            "[45,     6] loss: 0.021\n",
            "[45,    12] loss: 0.018\n",
            "[46,     6] loss: 0.019\n",
            "[46,    12] loss: 0.020\n",
            "[47,     6] loss: 0.018\n",
            "[47,    12] loss: 0.020\n",
            "[48,     6] loss: 0.020\n",
            "[48,    12] loss: 0.017\n",
            "[49,     6] loss: 0.020\n",
            "[49,    12] loss: 0.017\n",
            "[50,     6] loss: 0.018\n",
            "[50,    12] loss: 0.019\n",
            "[51,     6] loss: 0.016\n",
            "[51,    12] loss: 0.020\n",
            "[52,     6] loss: 0.019\n",
            "[52,    12] loss: 0.016\n",
            "[53,     6] loss: 0.019\n",
            "[53,    12] loss: 0.016\n",
            "[54,     6] loss: 0.016\n",
            "[54,    12] loss: 0.019\n",
            "[55,     6] loss: 0.020\n",
            "[55,    12] loss: 0.014\n",
            "[56,     6] loss: 0.017\n",
            "[56,    12] loss: 0.016\n",
            "[57,     6] loss: 0.015\n",
            "[57,    12] loss: 0.019\n",
            "[58,     6] loss: 0.018\n",
            "[58,    12] loss: 0.015\n",
            "[59,     6] loss: 0.018\n",
            "[59,    12] loss: 0.015\n",
            "[60,     6] loss: 0.016\n",
            "[60,    12] loss: 0.016\n",
            "[61,     6] loss: 0.017\n",
            "[61,    12] loss: 0.015\n",
            "[62,     6] loss: 0.018\n",
            "[62,    12] loss: 0.014\n",
            "[63,     6] loss: 0.014\n",
            "[63,    12] loss: 0.018\n",
            "[64,     6] loss: 0.014\n",
            "[64,    12] loss: 0.017\n",
            "[65,     6] loss: 0.014\n",
            "[65,    12] loss: 0.016\n",
            "[66,     6] loss: 0.016\n",
            "[66,    12] loss: 0.014\n",
            "[67,     6] loss: 0.016\n",
            "[67,    12] loss: 0.014\n",
            "[68,     6] loss: 0.013\n",
            "[68,    12] loss: 0.017\n",
            "[69,     6] loss: 0.016\n",
            "[69,    12] loss: 0.014\n",
            "[70,     6] loss: 0.015\n",
            "[70,    12] loss: 0.014\n",
            "[71,     6] loss: 0.013\n",
            "[71,    12] loss: 0.016\n",
            "[72,     6] loss: 0.013\n",
            "[72,    12] loss: 0.016\n",
            "[73,     6] loss: 0.015\n",
            "[73,    12] loss: 0.013\n",
            "[74,     6] loss: 0.013\n",
            "[74,    12] loss: 0.015\n",
            "[75,     6] loss: 0.014\n",
            "[75,    12] loss: 0.014\n",
            "[76,     6] loss: 0.013\n",
            "[76,    12] loss: 0.015\n",
            "[77,     6] loss: 0.013\n",
            "[77,    12] loss: 0.014\n",
            "[78,     6] loss: 0.014\n",
            "[78,    12] loss: 0.014\n",
            "[79,     6] loss: 0.013\n",
            "[79,    12] loss: 0.014\n",
            "[80,     6] loss: 0.010\n",
            "[80,    12] loss: 0.017\n",
            "[81,     6] loss: 0.016\n",
            "[81,    12] loss: 0.011\n",
            "[82,     6] loss: 0.016\n",
            "[82,    12] loss: 0.011\n",
            "[83,     6] loss: 0.012\n",
            "[83,    12] loss: 0.014\n",
            "[84,     6] loss: 0.014\n",
            "[84,    12] loss: 0.012\n",
            "[85,     6] loss: 0.013\n",
            "[85,    12] loss: 0.013\n",
            "[86,     6] loss: 0.012\n",
            "[86,    12] loss: 0.014\n",
            "[87,     6] loss: 0.012\n",
            "[87,    12] loss: 0.014\n",
            "[88,     6] loss: 0.012\n",
            "[88,    12] loss: 0.013\n",
            "[89,     6] loss: 0.012\n",
            "[89,    12] loss: 0.013\n",
            "[90,     6] loss: 0.013\n",
            "[90,    12] loss: 0.012\n",
            "[91,     6] loss: 0.012\n",
            "[91,    12] loss: 0.012\n",
            "[92,     6] loss: 0.013\n",
            "[92,    12] loss: 0.011\n",
            "[93,     6] loss: 0.014\n",
            "[93,    12] loss: 0.010\n",
            "[94,     6] loss: 0.011\n",
            "[94,    12] loss: 0.013\n",
            "[95,     6] loss: 0.014\n",
            "[95,    12] loss: 0.010\n",
            "[96,     6] loss: 0.012\n",
            "[96,    12] loss: 0.012\n",
            "[97,     6] loss: 0.012\n",
            "[97,    12] loss: 0.012\n",
            "[98,     6] loss: 0.010\n",
            "[98,    12] loss: 0.014\n",
            "[99,     6] loss: 0.012\n",
            "[99,    12] loss: 0.011\n",
            "[100,     6] loss: 0.013\n",
            "[100,    12] loss: 0.010\n",
            "Finished Training\n"
          ],
          "name": "stdout"
        }
      ]
    },
    {
      "cell_type": "code",
      "metadata": {
        "id": "UvP97PKnr0T5"
      },
      "source": [
        "columns = [\"epochs\", \"argmax > 0.5\" ,\"argmax < 0.5\", \"focus_true_pred_true\", \"focus_false_pred_true\", \"focus_true_pred_false\", \"focus_false_pred_false\" ]\n",
        "df_train = pd.DataFrame()\n",
        "df_test = pd.DataFrame()\n",
        "df_train[columns[0]] = col1\n",
        "df_train[columns[1]] = col2\n",
        "df_train[columns[2]] = col3\n",
        "df_train[columns[3]] = col4\n",
        "df_train[columns[4]] = col5\n",
        "df_train[columns[5]] = col6\n",
        "df_train[columns[6]] = col7\n",
        "\n",
        "df_test[columns[0]] = col1\n",
        "df_test[columns[1]] = col8\n",
        "df_test[columns[2]] = col9\n",
        "df_test[columns[3]] = col10\n",
        "df_test[columns[4]] = col11\n",
        "df_test[columns[5]] = col12\n",
        "df_test[columns[6]] = col13"
      ],
      "execution_count": 18,
      "outputs": []
    },
    {
      "cell_type": "code",
      "metadata": {
        "colab": {
          "base_uri": "https://localhost:8080/",
          "height": 686
        },
        "id": "0hAVV2I5r0T7",
        "scrolled": false,
        "outputId": "2f43a214-77a1-4993-b5e8-70cf3d740909"
      },
      "source": [
        "df_train"
      ],
      "execution_count": 19,
      "outputs": [
        {
          "output_type": "execute_result",
          "data": {
            "text/html": [
              "<div>\n",
              "<style scoped>\n",
              "    .dataframe tbody tr th:only-of-type {\n",
              "        vertical-align: middle;\n",
              "    }\n",
              "\n",
              "    .dataframe tbody tr th {\n",
              "        vertical-align: top;\n",
              "    }\n",
              "\n",
              "    .dataframe thead th {\n",
              "        text-align: right;\n",
              "    }\n",
              "</style>\n",
              "<table border=\"1\" class=\"dataframe\">\n",
              "  <thead>\n",
              "    <tr style=\"text-align: right;\">\n",
              "      <th></th>\n",
              "      <th>epochs</th>\n",
              "      <th>argmax &gt; 0.5</th>\n",
              "      <th>argmax &lt; 0.5</th>\n",
              "      <th>focus_true_pred_true</th>\n",
              "      <th>focus_false_pred_true</th>\n",
              "      <th>focus_true_pred_false</th>\n",
              "      <th>focus_false_pred_false</th>\n",
              "    </tr>\n",
              "  </thead>\n",
              "  <tbody>\n",
              "    <tr>\n",
              "      <th>0</th>\n",
              "      <td>4</td>\n",
              "      <td>2009</td>\n",
              "      <td>991</td>\n",
              "      <td>1990</td>\n",
              "      <td>979</td>\n",
              "      <td>0</td>\n",
              "      <td>31</td>\n",
              "    </tr>\n",
              "    <tr>\n",
              "      <th>1</th>\n",
              "      <td>9</td>\n",
              "      <td>2294</td>\n",
              "      <td>706</td>\n",
              "      <td>1990</td>\n",
              "      <td>991</td>\n",
              "      <td>0</td>\n",
              "      <td>19</td>\n",
              "    </tr>\n",
              "    <tr>\n",
              "      <th>2</th>\n",
              "      <td>14</td>\n",
              "      <td>2399</td>\n",
              "      <td>601</td>\n",
              "      <td>1990</td>\n",
              "      <td>992</td>\n",
              "      <td>0</td>\n",
              "      <td>18</td>\n",
              "    </tr>\n",
              "    <tr>\n",
              "      <th>3</th>\n",
              "      <td>19</td>\n",
              "      <td>2460</td>\n",
              "      <td>540</td>\n",
              "      <td>1990</td>\n",
              "      <td>993</td>\n",
              "      <td>0</td>\n",
              "      <td>17</td>\n",
              "    </tr>\n",
              "    <tr>\n",
              "      <th>4</th>\n",
              "      <td>24</td>\n",
              "      <td>2508</td>\n",
              "      <td>492</td>\n",
              "      <td>1990</td>\n",
              "      <td>996</td>\n",
              "      <td>0</td>\n",
              "      <td>14</td>\n",
              "    </tr>\n",
              "    <tr>\n",
              "      <th>5</th>\n",
              "      <td>29</td>\n",
              "      <td>2544</td>\n",
              "      <td>456</td>\n",
              "      <td>1990</td>\n",
              "      <td>997</td>\n",
              "      <td>0</td>\n",
              "      <td>13</td>\n",
              "    </tr>\n",
              "    <tr>\n",
              "      <th>6</th>\n",
              "      <td>34</td>\n",
              "      <td>2569</td>\n",
              "      <td>431</td>\n",
              "      <td>1990</td>\n",
              "      <td>999</td>\n",
              "      <td>0</td>\n",
              "      <td>11</td>\n",
              "    </tr>\n",
              "    <tr>\n",
              "      <th>7</th>\n",
              "      <td>39</td>\n",
              "      <td>2590</td>\n",
              "      <td>410</td>\n",
              "      <td>1990</td>\n",
              "      <td>1001</td>\n",
              "      <td>0</td>\n",
              "      <td>9</td>\n",
              "    </tr>\n",
              "    <tr>\n",
              "      <th>8</th>\n",
              "      <td>44</td>\n",
              "      <td>2617</td>\n",
              "      <td>383</td>\n",
              "      <td>1990</td>\n",
              "      <td>1001</td>\n",
              "      <td>0</td>\n",
              "      <td>9</td>\n",
              "    </tr>\n",
              "    <tr>\n",
              "      <th>9</th>\n",
              "      <td>49</td>\n",
              "      <td>2628</td>\n",
              "      <td>372</td>\n",
              "      <td>1990</td>\n",
              "      <td>1001</td>\n",
              "      <td>0</td>\n",
              "      <td>9</td>\n",
              "    </tr>\n",
              "    <tr>\n",
              "      <th>10</th>\n",
              "      <td>54</td>\n",
              "      <td>2647</td>\n",
              "      <td>353</td>\n",
              "      <td>1990</td>\n",
              "      <td>1004</td>\n",
              "      <td>0</td>\n",
              "      <td>6</td>\n",
              "    </tr>\n",
              "    <tr>\n",
              "      <th>11</th>\n",
              "      <td>59</td>\n",
              "      <td>2656</td>\n",
              "      <td>344</td>\n",
              "      <td>1990</td>\n",
              "      <td>1004</td>\n",
              "      <td>0</td>\n",
              "      <td>6</td>\n",
              "    </tr>\n",
              "    <tr>\n",
              "      <th>12</th>\n",
              "      <td>64</td>\n",
              "      <td>2666</td>\n",
              "      <td>334</td>\n",
              "      <td>1990</td>\n",
              "      <td>1004</td>\n",
              "      <td>0</td>\n",
              "      <td>6</td>\n",
              "    </tr>\n",
              "    <tr>\n",
              "      <th>13</th>\n",
              "      <td>69</td>\n",
              "      <td>2673</td>\n",
              "      <td>327</td>\n",
              "      <td>1990</td>\n",
              "      <td>1005</td>\n",
              "      <td>0</td>\n",
              "      <td>5</td>\n",
              "    </tr>\n",
              "    <tr>\n",
              "      <th>14</th>\n",
              "      <td>74</td>\n",
              "      <td>2680</td>\n",
              "      <td>320</td>\n",
              "      <td>1990</td>\n",
              "      <td>1005</td>\n",
              "      <td>0</td>\n",
              "      <td>5</td>\n",
              "    </tr>\n",
              "    <tr>\n",
              "      <th>15</th>\n",
              "      <td>79</td>\n",
              "      <td>2685</td>\n",
              "      <td>315</td>\n",
              "      <td>1990</td>\n",
              "      <td>1005</td>\n",
              "      <td>0</td>\n",
              "      <td>5</td>\n",
              "    </tr>\n",
              "    <tr>\n",
              "      <th>16</th>\n",
              "      <td>84</td>\n",
              "      <td>2698</td>\n",
              "      <td>302</td>\n",
              "      <td>1990</td>\n",
              "      <td>1005</td>\n",
              "      <td>0</td>\n",
              "      <td>5</td>\n",
              "    </tr>\n",
              "    <tr>\n",
              "      <th>17</th>\n",
              "      <td>89</td>\n",
              "      <td>2703</td>\n",
              "      <td>297</td>\n",
              "      <td>1990</td>\n",
              "      <td>1005</td>\n",
              "      <td>0</td>\n",
              "      <td>5</td>\n",
              "    </tr>\n",
              "    <tr>\n",
              "      <th>18</th>\n",
              "      <td>94</td>\n",
              "      <td>2706</td>\n",
              "      <td>294</td>\n",
              "      <td>1990</td>\n",
              "      <td>1005</td>\n",
              "      <td>0</td>\n",
              "      <td>5</td>\n",
              "    </tr>\n",
              "    <tr>\n",
              "      <th>19</th>\n",
              "      <td>99</td>\n",
              "      <td>2710</td>\n",
              "      <td>290</td>\n",
              "      <td>1990</td>\n",
              "      <td>1005</td>\n",
              "      <td>0</td>\n",
              "      <td>5</td>\n",
              "    </tr>\n",
              "  </tbody>\n",
              "</table>\n",
              "</div>"
            ],
            "text/plain": [
              "    epochs  argmax > 0.5  ...  focus_true_pred_false  focus_false_pred_false\n",
              "0        4          2009  ...                      0                      31\n",
              "1        9          2294  ...                      0                      19\n",
              "2       14          2399  ...                      0                      18\n",
              "3       19          2460  ...                      0                      17\n",
              "4       24          2508  ...                      0                      14\n",
              "5       29          2544  ...                      0                      13\n",
              "6       34          2569  ...                      0                      11\n",
              "7       39          2590  ...                      0                       9\n",
              "8       44          2617  ...                      0                       9\n",
              "9       49          2628  ...                      0                       9\n",
              "10      54          2647  ...                      0                       6\n",
              "11      59          2656  ...                      0                       6\n",
              "12      64          2666  ...                      0                       6\n",
              "13      69          2673  ...                      0                       5\n",
              "14      74          2680  ...                      0                       5\n",
              "15      79          2685  ...                      0                       5\n",
              "16      84          2698  ...                      0                       5\n",
              "17      89          2703  ...                      0                       5\n",
              "18      94          2706  ...                      0                       5\n",
              "19      99          2710  ...                      0                       5\n",
              "\n",
              "[20 rows x 7 columns]"
            ]
          },
          "metadata": {
            "tags": []
          },
          "execution_count": 19
        }
      ]
    },
    {
      "cell_type": "code",
      "metadata": {
        "colab": {
          "base_uri": "https://localhost:8080/",
          "height": 400
        },
        "id": "s-ZXousDr0T-",
        "outputId": "3527e16f-8e0a-4676-b030-b9477d806f7f"
      },
      "source": [
        "\n",
        "plt.figure(figsize=(6,6))\n",
        "plt.plot(col1,np.array(col4)/30, label =\"focus_true_pred_true \",linewidth=4,linestyle=\"-\",color=\"black\")\n",
        "plt.plot(col1,np.array(col5)/30, label =\"focus_false_pred_true \",linewidth=4,linestyle=\"--\",color=\"black\")\n",
        "plt.plot(col1,np.array(col6)/30, label =\"focus_true_pred_false \",linewidth=4,linestyle=\"-\",color=\"grey\")\n",
        "plt.plot(col1,np.array(col7)/30, label =\"focus_false_pred_false \",linewidth=4,linestyle=\"--\",color=\"grey\")\n",
        "#plt.title(\"On Training set\")\n",
        "#plt.legend(loc='center left', bbox_to_anchor=(1, 0.5))\n",
        "plt.xlabel(\"no of epochs\",fontsize=14,fontweight=\"bold\")\n",
        "plt.ylabel(\"data percentage\",fontsize=14,fontweight=\"bold\")\n",
        "plt.xticks([0,50,100],fontsize=12,fontweight=\"bold\")\n",
        "plt.yticks([0,50,100],fontsize=12,fontweight=\"bold\")\n",
        "plt.savefig(\"dist_2_train.png\",bbox_inches=\"tight\")\n",
        "plt.savefig(\"dist_2_train.pdf\",bbox_inches=\"tight\")\n",
        "plt.show()"
      ],
      "execution_count": 20,
      "outputs": [
        {
          "output_type": "display_data",
          "data": {
            "image/png": "[encoded data removed]",
            "text/plain": [
              "<Figure size 432x432 with 1 Axes>"
            ]
          },
          "metadata": {
            "tags": [],
            "needs_background": "light"
          }
        }
      ]
    },
    {
      "cell_type": "code",
      "metadata": {
        "colab": {
          "base_uri": "https://localhost:8080/",
          "height": 686
        },
        "id": "LQip8h8jr0UA",
        "scrolled": true,
        "outputId": "7cc89cef-b1e0-43e2-bad1-07ed2b158e60"
      },
      "source": [
        "df_test"
      ],
      "execution_count": 21,
      "outputs": [
        {
          "output_type": "execute_result",
          "data": {
            "text/html": [
              "<div>\n",
              "<style scoped>\n",
              "    .dataframe tbody tr th:only-of-type {\n",
              "        vertical-align: middle;\n",
              "    }\n",
              "\n",
              "    .dataframe tbody tr th {\n",
              "        vertical-align: top;\n",
              "    }\n",
              "\n",
              "    .dataframe thead th {\n",
              "        text-align: right;\n",
              "    }\n",
              "</style>\n",
              "<table border=\"1\" class=\"dataframe\">\n",
              "  <thead>\n",
              "    <tr style=\"text-align: right;\">\n",
              "      <th></th>\n",
              "      <th>epochs</th>\n",
              "      <th>argmax &gt; 0.5</th>\n",
              "      <th>argmax &lt; 0.5</th>\n",
              "      <th>focus_true_pred_true</th>\n",
              "      <th>focus_false_pred_true</th>\n",
              "      <th>focus_true_pred_false</th>\n",
              "      <th>focus_false_pred_false</th>\n",
              "    </tr>\n",
              "  </thead>\n",
              "  <tbody>\n",
              "    <tr>\n",
              "      <th>0</th>\n",
              "      <td>4</td>\n",
              "      <td>685</td>\n",
              "      <td>315</td>\n",
              "      <td>669</td>\n",
              "      <td>324</td>\n",
              "      <td>1</td>\n",
              "      <td>6</td>\n",
              "    </tr>\n",
              "    <tr>\n",
              "      <th>1</th>\n",
              "      <td>9</td>\n",
              "      <td>771</td>\n",
              "      <td>229</td>\n",
              "      <td>670</td>\n",
              "      <td>325</td>\n",
              "      <td>0</td>\n",
              "      <td>5</td>\n",
              "    </tr>\n",
              "    <tr>\n",
              "      <th>2</th>\n",
              "      <td>14</td>\n",
              "      <td>799</td>\n",
              "      <td>201</td>\n",
              "      <td>670</td>\n",
              "      <td>326</td>\n",
              "      <td>0</td>\n",
              "      <td>4</td>\n",
              "    </tr>\n",
              "    <tr>\n",
              "      <th>3</th>\n",
              "      <td>19</td>\n",
              "      <td>818</td>\n",
              "      <td>182</td>\n",
              "      <td>670</td>\n",
              "      <td>326</td>\n",
              "      <td>0</td>\n",
              "      <td>4</td>\n",
              "    </tr>\n",
              "    <tr>\n",
              "      <th>4</th>\n",
              "      <td>24</td>\n",
              "      <td>836</td>\n",
              "      <td>164</td>\n",
              "      <td>670</td>\n",
              "      <td>326</td>\n",
              "      <td>0</td>\n",
              "      <td>4</td>\n",
              "    </tr>\n",
              "    <tr>\n",
              "      <th>5</th>\n",
              "      <td>29</td>\n",
              "      <td>850</td>\n",
              "      <td>150</td>\n",
              "      <td>670</td>\n",
              "      <td>327</td>\n",
              "      <td>0</td>\n",
              "      <td>3</td>\n",
              "    </tr>\n",
              "    <tr>\n",
              "      <th>6</th>\n",
              "      <td>34</td>\n",
              "      <td>862</td>\n",
              "      <td>138</td>\n",
              "      <td>670</td>\n",
              "      <td>327</td>\n",
              "      <td>0</td>\n",
              "      <td>3</td>\n",
              "    </tr>\n",
              "    <tr>\n",
              "      <th>7</th>\n",
              "      <td>39</td>\n",
              "      <td>868</td>\n",
              "      <td>132</td>\n",
              "      <td>670</td>\n",
              "      <td>328</td>\n",
              "      <td>0</td>\n",
              "      <td>2</td>\n",
              "    </tr>\n",
              "    <tr>\n",
              "      <th>8</th>\n",
              "      <td>44</td>\n",
              "      <td>873</td>\n",
              "      <td>127</td>\n",
              "      <td>670</td>\n",
              "      <td>328</td>\n",
              "      <td>0</td>\n",
              "      <td>2</td>\n",
              "    </tr>\n",
              "    <tr>\n",
              "      <th>9</th>\n",
              "      <td>49</td>\n",
              "      <td>880</td>\n",
              "      <td>120</td>\n",
              "      <td>670</td>\n",
              "      <td>328</td>\n",
              "      <td>0</td>\n",
              "      <td>2</td>\n",
              "    </tr>\n",
              "    <tr>\n",
              "      <th>10</th>\n",
              "      <td>54</td>\n",
              "      <td>883</td>\n",
              "      <td>117</td>\n",
              "      <td>670</td>\n",
              "      <td>328</td>\n",
              "      <td>0</td>\n",
              "      <td>2</td>\n",
              "    </tr>\n",
              "    <tr>\n",
              "      <th>11</th>\n",
              "      <td>59</td>\n",
              "      <td>883</td>\n",
              "      <td>117</td>\n",
              "      <td>670</td>\n",
              "      <td>328</td>\n",
              "      <td>0</td>\n",
              "      <td>2</td>\n",
              "    </tr>\n",
              "    <tr>\n",
              "      <th>12</th>\n",
              "      <td>64</td>\n",
              "      <td>885</td>\n",
              "      <td>115</td>\n",
              "      <td>670</td>\n",
              "      <td>328</td>\n",
              "      <td>0</td>\n",
              "      <td>2</td>\n",
              "    </tr>\n",
              "    <tr>\n",
              "      <th>13</th>\n",
              "      <td>69</td>\n",
              "      <td>885</td>\n",
              "      <td>115</td>\n",
              "      <td>670</td>\n",
              "      <td>328</td>\n",
              "      <td>0</td>\n",
              "      <td>2</td>\n",
              "    </tr>\n",
              "    <tr>\n",
              "      <th>14</th>\n",
              "      <td>74</td>\n",
              "      <td>887</td>\n",
              "      <td>113</td>\n",
              "      <td>670</td>\n",
              "      <td>328</td>\n",
              "      <td>0</td>\n",
              "      <td>2</td>\n",
              "    </tr>\n",
              "    <tr>\n",
              "      <th>15</th>\n",
              "      <td>79</td>\n",
              "      <td>891</td>\n",
              "      <td>109</td>\n",
              "      <td>670</td>\n",
              "      <td>328</td>\n",
              "      <td>0</td>\n",
              "      <td>2</td>\n",
              "    </tr>\n",
              "    <tr>\n",
              "      <th>16</th>\n",
              "      <td>84</td>\n",
              "      <td>894</td>\n",
              "      <td>106</td>\n",
              "      <td>670</td>\n",
              "      <td>328</td>\n",
              "      <td>0</td>\n",
              "      <td>2</td>\n",
              "    </tr>\n",
              "    <tr>\n",
              "      <th>17</th>\n",
              "      <td>89</td>\n",
              "      <td>895</td>\n",
              "      <td>105</td>\n",
              "      <td>670</td>\n",
              "      <td>328</td>\n",
              "      <td>0</td>\n",
              "      <td>2</td>\n",
              "    </tr>\n",
              "    <tr>\n",
              "      <th>18</th>\n",
              "      <td>94</td>\n",
              "      <td>898</td>\n",
              "      <td>102</td>\n",
              "      <td>670</td>\n",
              "      <td>328</td>\n",
              "      <td>0</td>\n",
              "      <td>2</td>\n",
              "    </tr>\n",
              "    <tr>\n",
              "      <th>19</th>\n",
              "      <td>99</td>\n",
              "      <td>899</td>\n",
              "      <td>101</td>\n",
              "      <td>670</td>\n",
              "      <td>329</td>\n",
              "      <td>0</td>\n",
              "      <td>1</td>\n",
              "    </tr>\n",
              "  </tbody>\n",
              "</table>\n",
              "</div>"
            ],
            "text/plain": [
              "    epochs  argmax > 0.5  ...  focus_true_pred_false  focus_false_pred_false\n",
              "0        4           685  ...                      1                       6\n",
              "1        9           771  ...                      0                       5\n",
              "2       14           799  ...                      0                       4\n",
              "3       19           818  ...                      0                       4\n",
              "4       24           836  ...                      0                       4\n",
              "5       29           850  ...                      0                       3\n",
              "6       34           862  ...                      0                       3\n",
              "7       39           868  ...                      0                       2\n",
              "8       44           873  ...                      0                       2\n",
              "9       49           880  ...                      0                       2\n",
              "10      54           883  ...                      0                       2\n",
              "11      59           883  ...                      0                       2\n",
              "12      64           885  ...                      0                       2\n",
              "13      69           885  ...                      0                       2\n",
              "14      74           887  ...                      0                       2\n",
              "15      79           891  ...                      0                       2\n",
              "16      84           894  ...                      0                       2\n",
              "17      89           895  ...                      0                       2\n",
              "18      94           898  ...                      0                       2\n",
              "19      99           899  ...                      0                       1\n",
              "\n",
              "[20 rows x 7 columns]"
            ]
          },
          "metadata": {
            "tags": []
          },
          "execution_count": 21
        }
      ]
    },
    {
      "cell_type": "code",
      "metadata": {
        "id": "oCJcmk19r0UD",
        "colab": {
          "base_uri": "https://localhost:8080/",
          "height": 400
        },
        "outputId": "01a66681-e368-49b2-977c-27b96c37d2b2"
      },
      "source": [
        "\n",
        "plt.figure(figsize=(6,6))\n",
        "plt.plot(col1,np.array(col10)/10, label =\"focus_true_pred_true \",linewidth=4,linestyle=\"-\",color=\"black\")\n",
        "plt.plot(col1,np.array(col11)/10, label =\"focus_false_pred_true \",linewidth=4,linestyle=\"--\",color=\"black\")\n",
        "plt.plot(col1,np.array(col12)/10, label =\"focus_true_pred_false \",linewidth=4,linestyle=\"-\",color=\"grey\")\n",
        "plt.plot(col1,np.array(col13)/10, label =\"focus_false_pred_false \",linewidth=4,linestyle=\"--\",color=\"grey\")\n",
        "#plt.title(\"On Training set\")\n",
        "#plt.legend(loc='center left', bbox_to_anchor=(1, 0.5))\n",
        "plt.xlabel(\"no of epochs\",fontsize=14,fontweight=\"bold\")\n",
        "plt.ylabel(\"data percentage\",fontsize=14,fontweight=\"bold\")\n",
        "plt.xticks([0,50,100],fontsize=12,fontweight=\"bold\")\n",
        "plt.yticks([0,50,100],fontsize=12,fontweight=\"bold\")\n",
        "plt.savefig(\"dist_2_test.png\",bbox_inches=\"tight\")\n",
        "plt.savefig(\"dist_2_test.pdf\",bbox_inches=\"tight\")\n",
        "plt.show()"
      ],
      "execution_count": 22,
      "outputs": [
        {
          "output_type": "display_data",
          "data": {
            "image/png": "[encoded data removed]",
            "text/plain": [
              "<Figure size 432x432 with 1 Axes>"
            ]
          },
          "metadata": {
            "tags": [],
            "needs_background": "light"
          }
        }
      ]
    },
    {
      "cell_type": "code",
      "metadata": {
        "id": "EZk8Ve_3foPS"
      },
      "source": [
        "xx,yy= np.meshgrid(np.arange(-4,10,0.05),np.arange(-8.5,6,0.05))\n",
        "X = np.concatenate((xx.reshape(-1,1),yy.reshape(-1,1)),axis=1)\n",
        "X = torch.Tensor(X).double()\n",
        "Y = where.helper(X)\n",
        "Y1 = what(X)"
      ],
      "execution_count": 23,
      "outputs": []
    },
    {
      "cell_type": "code",
      "metadata": {
        "id": "ybdSCa9mhUGp"
      },
      "source": [
        "X = X.detach().numpy()\n",
        "Y = Y[:,0].detach().numpy()"
      ],
      "execution_count": 24,
      "outputs": []
    },
    {
      "cell_type": "code",
      "metadata": {
        "colab": {
          "base_uri": "https://localhost:8080/",
          "height": 507
        },
        "id": "e5Mg9wiahXTt",
        "outputId": "bf59d23d-1979-4f6b-fc20-5a49ed900e00"
      },
      "source": [
        "fig = plt.figure(figsize=(10,8))\n",
        "cs = plt.contourf(X[:,0].reshape(xx.shape),X[:,1].reshape(yy.shape),Y.reshape(xx.shape),levels=1000)\n",
        "plt.xlabel(\"X1\",fontsize=15,fontweight=\"bold\")\n",
        "plt.ylabel(\"X2\",fontsize=15,fontweight=\"bold\")\n",
        "cbar = fig.colorbar(cs,shrink=0.7,pad=0.01)\n",
        "cbar.ax.locator_params(nbins=3)\n",
        "for t in cbar.ax.get_yticklabels():\n",
        "  t.set_fontsize(16)\n",
        "for i in range(4):\n",
        "    if i<3:\n",
        "      plt.scatter(x[idx[i],0][:25],x[idx[i],1][:25],label=\"fg_\"+str(i+1),s=40,marker=\"x\")\n",
        "    else:\n",
        "      plt.scatter(x[idx[i],0][:25],x[idx[i],1][:25],label=\"bg\",c=\"brown\",s=40,marker=\"x\")\n",
        "\n",
        "plt.legend(loc='upper right',fontsize=\"19\")#, bbox_to_anchor=(1, 0.5))\n",
        "plt.xticks([-4,0,8],fontsize=15,fontweight=\"bold\")\n",
        "plt.yticks([-8,0,4],fontsize=15,fontweight=\"bold\")\n",
        "plt.savefig(\"dist_2_fc.png\")#,bbox_inches='tight')\n",
        "plt.savefig(\"dist_2_fc.pdf\")#,bbox_inches='tight')"
      ],
      "execution_count": 25,
      "outputs": [
        {
          "output_type": "display_data",
          "data": {
            "image/png": "[encoded data removed]",
            "text/plain": [
              "<Figure size 720x576 with 2 Axes>"
            ]
          },
          "metadata": {
            "tags": [],
            "needs_background": "light"
          }
        }
      ]
    },
    {
      "cell_type": "code",
      "metadata": {
        "id": "BYTbfs7Thay0"
      },
      "source": [
        "Y1 = Y1.detach().numpy()\n",
        "Y1 = torch.softmax(torch.Tensor(Y1),dim=1)\n",
        "_,Z4= torch.max(Y1,1)\n",
        "Z1 = Y1[:,0]\n",
        "Z2 = Y1[:,1]\n",
        "Z3 = Y1[:,2]"
      ],
      "execution_count": 26,
      "outputs": []
    },
    {
      "cell_type": "code",
      "metadata": {
        "id": "2jRVEsBy9Rxc"
      },
      "source": [
        "avrg = []\n",
        "lbl = []\n",
        "with torch.no_grad():\n",
        "  for i, data in  enumerate(train_loader):\n",
        "          inputs , labels , fore_idx = data\n",
        "          avg_inp,alphas = where(inputs)\n",
        "          avrg.append(avg_inp)\n",
        "          lbl.append(labels.numpy())\n",
        "avrg = np.concatenate(avrg,axis=0)\n",
        "lbl = np.concatenate(lbl,axis=0)"
      ],
      "execution_count": 27,
      "outputs": []
    },
    {
      "cell_type": "code",
      "metadata": {
        "colab": {
          "base_uri": "https://localhost:8080/"
        },
        "id": "FSAJUYaIQDrV",
        "outputId": "e8ff55b4-fe6e-4479-e01a-a41782c30e3a"
      },
      "source": [
        "indices = []\n",
        "for i in range(3):\n",
        "    print(i,sum(lbl==i))\n",
        "    indices.append(lbl==i)"
      ],
      "execution_count": 28,
      "outputs": [
        {
          "output_type": "stream",
          "text": [
            "0 984\n",
            "1 1006\n",
            "2 1010\n"
          ],
          "name": "stdout"
        }
      ]
    },
    {
      "cell_type": "code",
      "metadata": {
        "id": "IYMofwarmEE5",
        "colab": {
          "base_uri": "https://localhost:8080/",
          "height": 507
        },
        "outputId": "90b3a7ec-3c76-4bbd-e4df-2c882b679c3c"
      },
      "source": [
        "plt.figure(figsize=(10,8))\n",
        "cs = plt.contourf(X[:,0].reshape(xx.shape),X[:,1].reshape(yy.shape),Z4.reshape(xx.shape),alpha=0.2,levels=2,colors=[\"blue\",\"orange\",\"green\"])\n",
        "\n",
        "for i in range(3):\n",
        "    plt.scatter(avrg[indices[i],0][:25],avrg[indices[i],1][:25],label=\"fg_\"+str(i),s=40,marker=\"x\")\n",
        "plt.xlabel(\"X1\",fontsize=15,fontweight=\"bold\")\n",
        "plt.ylabel(\"X2\",fontsize=15,fontweight=\"bold\")\n",
        "plt.xticks([-4,0,8],fontsize=15,fontweight=\"bold\")\n",
        "plt.yticks([-8,0,4],fontsize=15,fontweight=\"bold\")\n",
        "\n",
        "plt.savefig(\"dist_2_db.png\",bbox_inches=\"tight\")\n",
        "plt.savefig(\"dist_2_db.pdf\",bbox_inches=\"tight\")"
      ],
      "execution_count": 29,
      "outputs": [
        {
          "output_type": "display_data",
          "data": {
            "image/png": "[encoded data removed]",
            "text/plain": [
              "<Figure size 720x576 with 1 Axes>"
            ]
          },
          "metadata": {
            "tags": [],
            "needs_background": "light"
          }
        }
      ]
    },
    {
      "cell_type": "code",
      "metadata": {
        "id": "gpyN2mafZ5Av"
      },
      "source": [
        "true = []\n",
        "pred = []\n",
        "acc= 0\n",
        "for i, data in  enumerate(train_loader):\n",
        "        inputs , labels , fore_idx = data\n",
        "        avg_inp,alphas = where(inputs)\n",
        "        outputs = what(avg_inp)\n",
        "        _, predicted = torch.max(outputs.data, 1)\n",
        "        true.append(labels)\n",
        "        pred.append(predicted)\n",
        "        acc+=sum(predicted == labels)"
      ],
      "execution_count": 30,
      "outputs": []
    },
    {
      "cell_type": "code",
      "metadata": {
        "id": "Ol7vxjD0bxYJ"
      },
      "source": [
        "true = np.concatenate(true,axis=0)\n",
        "pred = np.concatenate(pred,axis=0)"
      ],
      "execution_count": 31,
      "outputs": []
    },
    {
      "cell_type": "code",
      "metadata": {
        "colab": {
          "base_uri": "https://localhost:8080/"
        },
        "id": "MR7LkXexbzEi",
        "outputId": "1e8854b9-94ed-427e-f4dd-7801a13e53df"
      },
      "source": [
        "from sklearn.metrics import confusion_matrix\n",
        "confusion_matrix(true,pred)"
      ],
      "execution_count": 32,
      "outputs": [
        {
          "output_type": "execute_result",
          "data": {
            "text/plain": [
              "array([[ 984,    0,    0],\n",
              "       [   0, 1006,    0],\n",
              "       [   1,    4, 1005]])"
            ]
          },
          "metadata": {
            "tags": []
          },
          "execution_count": 32
        }
      ]
    },
    {
      "cell_type": "code",
      "metadata": {
        "id": "HBbAemTR8wRY"
      },
      "source": [
        ""
      ],
      "execution_count": 32,
      "outputs": []
    }
  ]
}