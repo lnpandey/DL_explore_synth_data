{
  "nbformat": 4,
  "nbformat_minor": 0,
  "metadata": {
    "accelerator": "GPU",
    "colab": {
      "name": "Synthetic_elliptical_blobs_non_interpretable_50_100.ipynb",
      "provenance": [],
      "collapsed_sections": []
    },
    "kernelspec": {
      "display_name": "Python 3",
      "name": "python3"
    }
  },
  "cells": [
    {
      "cell_type": "code",
      "metadata": {
        "id": "VAYu3ISwwGks"
      },
      "source": [
        " import numpy as np\n",
        "import pandas as pd\n",
        "\n",
        "import torch\n",
        "import torchvision\n",
        "from torch.utils.data import Dataset, DataLoader\n",
        "from torchvision import transforms, utils\n",
        "import torch.nn as nn\n",
        "import torch.nn.functional as F\n",
        "import torch.optim as optim\n",
        "\n",
        "from matplotlib import pyplot as plt\n",
        "%matplotlib inline"
      ],
      "execution_count": 315,
      "outputs": []
    },
    {
      "cell_type": "code",
      "metadata": {
        "id": "TjEp-LtqiWAf"
      },
      "source": [
        "mu1 = np.array([3,3,3,3,0])\n",
        "sigma1 = np.array([[1,1,1,1,1],[1,16,1,1,1],[1,1,1,1,1],[1,1,1,1,1],[1,1,1,1,1]])\n",
        "\n",
        "mu2 = np.array([4,4,4,4,0])\n",
        "sigma2 = np.array([[16,1,1,1,1],[1,1,1,1,1],[1,1,1,1,1],[1,1,1,1,1],[1,1,1,1,1]])\n",
        "\n",
        "mu3 = np.array([10,5,5,10,0])\n",
        "sigma3 = np.array([[1,1,1,1,1],[1,16,1,1,1],[1,1,1,1,1],[1,1,1,1,1],[1,1,1,1,1]])\n",
        "\n",
        "mu4 = np.array([-10,-10,-10,-10,0])\n",
        "sigma4 = np.array([[1,1,1,1,1],[1,16,1,1,1],[1,1,1,1,1],[1,1,1,1,1],[1,1,1,1,1]])\n",
        "\n",
        "mu5 = np.array([-21,4,4,-21,0])\n",
        "sigma5 = np.array([[16,1,1,1,1],[1,1,1,1,1],[1,1,1,1,1],[1,1,1,1,1],[1,1,1,1,1]])\n",
        "\n",
        "mu6 = np.array([-10,18,18,-10,0])\n",
        "sigma6 = np.array([[1,1,1,1,1],[1,16,1,1,1],[1,1,1,1,1],[1,1,1,1,1],[1,1,1,1,1]])\n",
        "\n",
        "mu7 = np.array([4,20,4,20,0])\n",
        "sigma7 = np.array([[16,1,1,1,1],[1,1,1,1,1],[1,1,1,1,1],[1,1,1,1,1],[1,1,1,1,1]])\n",
        "\n",
        "mu8 = np.array([4,-20,-20,4,0])\n",
        "sigma8 = np.array([[16,1,1,1,1],[1,1,1,1,1],[1,1,1,1,1],[1,1,1,1,1],[1,1,1,1,1]])\n",
        "\n",
        "mu9 = np.array([20,20,20,20,0])\n",
        "sigma9 = np.array([[1,1,1,1,1],[1,16,1,1,1],[1,1,1,1,1],[1,1,1,1,1],[1,1,1,1,1]])\n",
        "\n",
        "mu10 = np.array([20,-10,-10,20,0])\n",
        "sigma10 = np.array([[1,1,1,1,1],[1,16,1,1,1],[1,1,1,1,1],[1,1,1,1,1],[1,1,1,1,1]])\n",
        "\n",
        "\n",
        "\n",
        "sample1 = np.random.multivariate_normal(mean=mu1,cov= sigma1,size=500)\n",
        "sample2 = np.random.multivariate_normal(mean=mu2,cov= sigma2,size=500)\n",
        "sample3 = np.random.multivariate_normal(mean=mu3,cov= sigma3,size=500)\n",
        "sample4 = np.random.multivariate_normal(mean=mu4,cov= sigma4,size=500)\n",
        "sample5 = np.random.multivariate_normal(mean=mu5,cov= sigma5,size=500)\n",
        "sample6 = np.random.multivariate_normal(mean=mu6,cov= sigma6,size=500)\n",
        "sample7 = np.random.multivariate_normal(mean=mu7,cov= sigma7,size=500)\n",
        "sample8 = np.random.multivariate_normal(mean=mu8,cov= sigma8,size=500)\n",
        "sample9 = np.random.multivariate_normal(mean=mu9,cov= sigma9,size=500)\n",
        "sample10 = np.random.multivariate_normal(mean=mu10,cov= sigma10,size=500)\n"
      ],
      "execution_count": 316,
      "outputs": []
    },
    {
      "cell_type": "code",
      "metadata": {
        "id": "NshDNGjY2T3w"
      },
      "source": [
        "# mu1 = np.array([3,3,0,0,0])\n",
        "# sigma1 = np.array([[1,1,1,1,1],[1,16,1,1,1],[1,1,1,1,1],[1,1,1,1,1],[1,1,1,1,1]])\n",
        "\n",
        "# mu2 = np.array([4,4,0,0,0])\n",
        "# sigma2 = np.array([[16,1,1,1,1],[1,1,1,1,1],[1,1,1,1,1],[1,1,1,1,1],[1,1,1,1,1]])\n",
        "\n",
        "# mu3 = np.array([10,5,0,0,0])\n",
        "# sigma3 = np.array([[1,1,1,1,1],[1,16,1,1,1],[1,1,1,1,1],[1,1,1,1,1],[1,1,1,1,1]])\n",
        "\n",
        "# mu4 = np.array([-10,-10,0,0,0])\n",
        "# sigma4 = np.array([[1,1,1,1,1],[1,16,1,1,1],[1,1,1,1,1],[1,1,1,1,1],[1,1,1,1,1]])\n",
        "\n",
        "# mu5 = np.array([-21,4,0,0,0])\n",
        "# sigma5 = np.array([[16,1,1,1,1],[1,1,1,1,1],[1,1,1,1,1],[1,1,1,1,1],[1,1,1,1,1]])\n",
        "\n",
        "# mu6 = np.array([-10,18,0,0,0])\n",
        "# sigma6 = np.array([[1,1,1,1,1],[1,16,1,1,1],[1,1,1,1,1],[1,1,1,1,1],[1,1,1,1,1]])\n",
        "\n",
        "# mu7 = np.array([4,20,0,0,0])\n",
        "# sigma7 = np.array([[16,1,1,1,1],[1,1,1,1,1],[1,1,1,1,1],[1,1,1,1,1],[1,1,1,1,1]])\n",
        "\n",
        "# mu8 = np.array([4,-20,0,0,0])\n",
        "# sigma8 = np.array([[16,1,1,1,1],[1,1,1,1,1],[1,1,1,1,1],[1,1,1,1,1],[1,1,1,1,1]])\n",
        "\n",
        "# mu9 = np.array([20,20,0,0,0])\n",
        "# sigma9 = np.array([[1,1,1,1,1],[1,16,1,1,1],[1,1,1,1,1],[1,1,1,1,1],[1,1,1,1,1]])\n",
        "\n",
        "# mu10 = np.array([20,-10,0,0,0])\n",
        "# sigma10 = np.array([[1,1,1,1,1],[1,16,1,1,1],[1,1,1,1,1],[1,1,1,1,1],[1,1,1,1,1]])\n",
        "\n",
        "\n",
        "\n",
        "# sample1 = np.random.multivariate_normal(mean=mu1,cov= sigma1,size=500)\n",
        "# sample2 = np.random.multivariate_normal(mean=mu2,cov= sigma2,size=500)\n",
        "# sample3 = np.random.multivariate_normal(mean=mu3,cov= sigma3,size=500)\n",
        "# sample4 = np.random.multivariate_normal(mean=mu4,cov= sigma4,size=500)\n",
        "# sample5 = np.random.multivariate_normal(mean=mu5,cov= sigma5,size=500)\n",
        "# sample6 = np.random.multivariate_normal(mean=mu6,cov= sigma6,size=500)\n",
        "# sample7 = np.random.multivariate_normal(mean=mu7,cov= sigma7,size=500)\n",
        "# sample8 = np.random.multivariate_normal(mean=mu8,cov= sigma8,size=500)\n",
        "# sample9 = np.random.multivariate_normal(mean=mu9,cov= sigma9,size=500)\n",
        "# sample10 = np.random.multivariate_normal(mean=mu10,cov= sigma10,size=500)"
      ],
      "execution_count": 317,
      "outputs": []
    },
    {
      "cell_type": "code",
      "metadata": {
        "colab": {
          "base_uri": "https://localhost:8080/"
        },
        "id": "5YDnxeP-2_1V",
        "outputId": "dd8d5018-12ce-4e10-d2d4-730b3fd1de88"
      },
      "source": [
        "X = np.concatenate((sample1,sample2,sample3,sample4,sample5,sample6,sample7,sample8,sample9,sample10),axis=0)\n",
        "Y = np.concatenate((np.zeros((500,1)),np.ones((500,1)),2*np.ones((500,1)),3*np.ones((500,1)),4*np.ones((500,1)),\n",
        "                    5*np.ones((500,1)),6*np.ones((500,1)),7*np.ones((500,1)),8*np.ones((500,1)),9*np.ones((500,1))),axis=0).astype(int)\n",
        "print(X.shape,Y.shape)\n",
        "# plt.scatter(sample1[:,0],sample1[:,1],label=\"class_0\")\n",
        "# plt.scatter(sample2[:,0],sample2[:,1],label=\"class_1\")\n",
        "# plt.scatter(sample3[:,0],sample3[:,1],label=\"class_2\")\n",
        "# plt.scatter(sample4[:,0],sample4[:,1],label=\"class_3\")\n",
        "# plt.scatter(sample5[:,0],sample5[:,1],label=\"class_4\")\n",
        "# plt.scatter(sample6[:,0],sample6[:,1],label=\"class_5\")\n",
        "# plt.scatter(sample7[:,0],sample7[:,1],label=\"class_6\")\n",
        "# plt.scatter(sample8[:,0],sample8[:,1],label=\"class_7\")\n",
        "# plt.scatter(sample9[:,0],sample9[:,1],label=\"class_8\")\n",
        "# plt.scatter(sample10[:,0],sample10[:,1],label=\"class_9\")\n",
        "# plt.legend(bbox_to_anchor=(1.05, 1), loc='upper left')"
      ],
      "execution_count": 318,
      "outputs": [
        {
          "output_type": "stream",
          "text": [
            "(5000, 5) (5000, 1)\n"
          ],
          "name": "stdout"
        }
      ]
    },
    {
      "cell_type": "code",
      "metadata": {
        "id": "k6YzqPUf3CHa"
      },
      "source": [
        "class SyntheticDataset(Dataset):\n",
        "  \"\"\"MosaicDataset dataset.\"\"\"\n",
        "\n",
        "  def __init__(self, x, y):\n",
        "    \"\"\"\n",
        "      Args:\n",
        "        csv_file (string): Path to the csv file with annotations.\n",
        "        root_dir (string): Directory with all the images.\n",
        "        transform (callable, optional): Optional transform to be applied\n",
        "            on a sample.\n",
        "    \"\"\"\n",
        "    self.x = x\n",
        "    self.y = y\n",
        "    #self.fore_idx = fore_idx\n",
        "    \n",
        "  def __len__(self):\n",
        "    return len(self.y)\n",
        "\n",
        "  def __getitem__(self, idx):\n",
        "    return self.x[idx] , self.y[idx] #, self.fore_idx[idx]"
      ],
      "execution_count": 319,
      "outputs": []
    },
    {
      "cell_type": "code",
      "metadata": {
        "id": "4Mi3nL5-4D7_"
      },
      "source": [
        "trainset = SyntheticDataset(X,Y)\n",
        "\n",
        "\n",
        "# testset = torchvision.datasets.MNIST(root='./data', train=False, download=True, transform=transform)"
      ],
      "execution_count": 320,
      "outputs": []
    },
    {
      "cell_type": "code",
      "metadata": {
        "colab": {
          "base_uri": "https://localhost:8080/"
        },
        "id": "HKzc7IgwqoU2",
        "outputId": "943c6b4d-db69-4ef0-8c66-90e52cf12109"
      },
      "source": [
        "classes = ('zero','one','two','three','four','five','six','seven','eight','nine')\n",
        "\n",
        "foreground_classes = {'zero','one','two'}\n",
        "fg_used = '012'\n",
        "fg1, fg2, fg3 = 0,1,2\n",
        "\n",
        "\n",
        "all_classes = {'zero','one','two','three','four','five','six','seven','eight','nine'}\n",
        "background_classes = all_classes - foreground_classes\n",
        "background_classes"
      ],
      "execution_count": 321,
      "outputs": [
        {
          "output_type": "execute_result",
          "data": {
            "text/plain": [
              "{'eight', 'five', 'four', 'nine', 'seven', 'six', 'three'}"
            ]
          },
          "metadata": {
            "tags": []
          },
          "execution_count": 321
        }
      ]
    },
    {
      "cell_type": "code",
      "metadata": {
        "id": "eT6iKHutquR8"
      },
      "source": [
        "trainloader = torch.utils.data.DataLoader(trainset, batch_size=100, shuffle=True)"
      ],
      "execution_count": 322,
      "outputs": []
    },
    {
      "cell_type": "code",
      "metadata": {
        "id": "IWKzXkPSq5KU"
      },
      "source": [
        "dataiter = iter(trainloader)\n",
        "background_data=[]\n",
        "background_label=[]\n",
        "foreground_data=[]\n",
        "foreground_label=[]\n",
        "batch_size=100\n",
        "\n",
        "for i in range(50):\n",
        "  images, labels = dataiter.next()\n",
        "  for j in range(batch_size):\n",
        "    if(classes[labels[j]] in background_classes):\n",
        "      img = images[j].tolist()\n",
        "      background_data.append(img)\n",
        "      background_label.append(labels[j])\n",
        "    else:\n",
        "      img = images[j].tolist()\n",
        "      foreground_data.append(img)\n",
        "      foreground_label.append(labels[j])\n",
        "            \n",
        "foreground_data = torch.tensor(foreground_data)\n",
        "foreground_label = torch.tensor(foreground_label)\n",
        "background_data = torch.tensor(background_data)\n",
        "background_label = torch.tensor(background_label)"
      ],
      "execution_count": 323,
      "outputs": []
    },
    {
      "cell_type": "code",
      "metadata": {
        "id": "ChdziOP3rF1G"
      },
      "source": [
        "def create_mosaic_img(bg_idx,fg_idx,fg): \n",
        "  \"\"\"\n",
        "  bg_idx : list of indexes of background_data[] to be used as background images in mosaic\n",
        "  fg_idx : index of image to be used as foreground image from foreground data\n",
        "  fg : at what position/index foreground image has to be stored out of 0-8\n",
        "  \"\"\"\n",
        "  image_list=[]\n",
        "  j=0\n",
        "  for i in range(9):\n",
        "    if i != fg:\n",
        "      image_list.append(background_data[bg_idx[j]])\n",
        "      j+=1\n",
        "    else: \n",
        "      image_list.append(foreground_data[fg_idx])\n",
        "      label = foreground_label[fg_idx] - fg1  # minus fg1 because our fore ground classes are fg1,fg2,fg3 but we have to store it as 0,1,2\n",
        "  #image_list = np.concatenate(image_list ,axis=0)\n",
        "  image_list = torch.stack(image_list) \n",
        "  return image_list,label"
      ],
      "execution_count": 324,
      "outputs": []
    },
    {
      "cell_type": "code",
      "metadata": {
        "id": "0ASrmPqErIDM"
      },
      "source": [
        "desired_num = 3000\n",
        "mosaic_list_of_images =[]      # list of mosaic images, each mosaic image is saved as list of 9 images\n",
        "fore_idx =[]                   # list of indexes at which foreground image is present in a mosaic image i.e from 0 to 9               \n",
        "mosaic_label=[]                # label of mosaic image = foreground class present in that mosaic\n",
        "list_set_labels = [] \n",
        "for i in range(desired_num):\n",
        "  set_idx = set()\n",
        "  np.random.seed(i)\n",
        "  bg_idx = np.random.randint(0,3500,8)\n",
        "  set_idx = set(background_label[bg_idx].tolist())\n",
        "  fg_idx = np.random.randint(0,1500)\n",
        "  set_idx.add(foreground_label[fg_idx].item())\n",
        "  fg = np.random.randint(0,9)\n",
        "  fore_idx.append(fg)\n",
        "  image_list,label = create_mosaic_img(bg_idx,fg_idx,fg)\n",
        "  mosaic_list_of_images.append(image_list)\n",
        "  mosaic_label.append(label)\n",
        "  list_set_labels.append(set_idx)"
      ],
      "execution_count": 325,
      "outputs": []
    },
    {
      "cell_type": "code",
      "metadata": {
        "id": "SDFN7dCarmmR"
      },
      "source": [
        "def create_avg_image_from_mosaic_dataset(mosaic_dataset,labels,foreground_index,dataset_number):\n",
        "  \"\"\"\n",
        "  mosaic_dataset : mosaic_dataset contains 9 images 32 x 32 each as 1 data point\n",
        "  labels : mosaic_dataset labels\n",
        "  foreground_index : contains list of indexes where foreground image is present so that using this we can take weighted average\n",
        "  dataset_number : will help us to tell what ratio of foreground image to be taken. for eg: if it is \"j\" then fg_image_ratio = j/9 , bg_image_ratio = (9-j)/8*9\n",
        "  \"\"\"\n",
        "  avg_image_dataset = []\n",
        "  for i in range(len(mosaic_dataset)):\n",
        "    img = torch.zeros([5], dtype=torch.float64)\n",
        "    for j in range(9):\n",
        "      if j == foreground_index[i]:\n",
        "        img = img + mosaic_dataset[i][j]*dataset_number/9\n",
        "      else :\n",
        "        img = img + mosaic_dataset[i][j]*(9-dataset_number)/(8*9)\n",
        "    \n",
        "    avg_image_dataset.append(img)\n",
        "    \n",
        "  return torch.stack(avg_image_dataset) , torch.stack(labels) , foreground_index"
      ],
      "execution_count": 326,
      "outputs": []
    },
    {
      "cell_type": "code",
      "metadata": {
        "id": "zgF90qBIt8yN"
      },
      "source": [
        "def calculate_loss(dataloader,model,criter):\n",
        "  model.eval()\n",
        "  r_loss = 0\n",
        "  with torch.no_grad():\n",
        "    for i, data in enumerate(dataloader, 0):\n",
        "      inputs, labels = data\n",
        "      inputs, labels = inputs.to(\"cuda\"),labels.to(\"cuda\")\n",
        "      outputs = model(inputs)\n",
        "      loss = criter(outputs, labels)\n",
        "      r_loss += loss.item()\n",
        "  return r_loss/i"
      ],
      "execution_count": 327,
      "outputs": []
    },
    {
      "cell_type": "code",
      "metadata": {
        "id": "whGsdvMSzIUK"
      },
      "source": [
        "class MosaicDataset1(Dataset):\n",
        "  \"\"\"MosaicDataset dataset.\"\"\"\n",
        "\n",
        "  def __init__(self, mosaic_list, mosaic_label,fore_idx):\n",
        "    \"\"\"\n",
        "      Args:\n",
        "        csv_file (string): Path to the csv file with annotations.\n",
        "        root_dir (string): Directory with all the images.\n",
        "        transform (callable, optional): Optional transform to be applied\n",
        "            on a sample.\n",
        "    \"\"\"\n",
        "    self.mosaic = mosaic_list\n",
        "    self.label = mosaic_label\n",
        "    self.fore_idx = fore_idx\n",
        "    \n",
        "  def __len__(self):\n",
        "    return len(self.label)\n",
        "\n",
        "  def __getitem__(self, idx):\n",
        "    return self.mosaic[idx] , self.label[idx] , self.fore_idx[idx]"
      ],
      "execution_count": 328,
      "outputs": []
    },
    {
      "cell_type": "code",
      "metadata": {
        "id": "fP5NPRPmb904"
      },
      "source": [
        "batch = 250\n",
        "msd = MosaicDataset1(mosaic_list_of_images, mosaic_label, fore_idx)\n",
        "train_loader = DataLoader( msd,batch_size= batch ,shuffle=True)"
      ],
      "execution_count": 329,
      "outputs": []
    },
    {
      "cell_type": "markdown",
      "metadata": {
        "id": "ilzPfrih82Bg"
      },
      "source": [
        "**Focus Net**"
      ]
    },
    {
      "cell_type": "code",
      "metadata": {
        "id": "KzN3Bbs8c0fA"
      },
      "source": [
        "class Focus_deep(nn.Module):\n",
        "    '''\n",
        "       deep focus network averaged at zeroth layer\n",
        "       input : elemental data\n",
        "    '''\n",
        "    def __init__(self,inputs,output,K,d):\n",
        "        super(Focus_deep,self).__init__()\n",
        "        self.inputs = inputs\n",
        "        self.output = output\n",
        "        self.K = K\n",
        "        self.d  = d\n",
        "        self.linear1 = nn.Linear(self.inputs,50)  #,self.output)\n",
        "        self.linear2 = nn.Linear(50,self.output) \n",
        "    def forward(self,z):\n",
        "        batch = z.shape[0]\n",
        "        x = torch.zeros([batch,self.K],dtype=torch.float64)\n",
        "        y = torch.zeros([batch,self.d], dtype=torch.float64)\n",
        "        x,y = x.to(\"cuda\"),y.to(\"cuda\")\n",
        "        for i in range(self.K):\n",
        "            x[:,i] = self.helper(z[:,i] )[:,0]  # self.d*i:self.d*i+self.d\n",
        "        x = F.softmax(x,dim=1)   # alphas\n",
        "        x1 = x[:,0]\n",
        "        for i in range(self.K):\n",
        "            x1 = x[:,i]          \n",
        "            y = y+torch.mul(x1[:,None],z[:,i])  # self.d*i:self.d*i+self.d\n",
        "        return y , x \n",
        "    def helper(self,x):\n",
        "      x = F.relu(self.linear1(x))\n",
        "      x = self.linear2(x)\n",
        "      return x\n"
      ],
      "execution_count": 330,
      "outputs": []
    },
    {
      "cell_type": "markdown",
      "metadata": {
        "id": "EjrL0Zb484KO"
      },
      "source": [
        "**Classification Net**"
      ]
    },
    {
      "cell_type": "code",
      "metadata": {
        "id": "w0W0oKcClFZY"
      },
      "source": [
        "class Classification_deep(nn.Module):\n",
        "    '''\n",
        "       input : elemental data\n",
        "       deep classification module data averaged at zeroth layer\n",
        "    '''\n",
        "    def __init__(self,inputs,output):\n",
        "        super(Classification_deep,self).__init__()\n",
        "        self.inputs = inputs\n",
        "        self.output = output\n",
        "        self.linear1 = nn.Linear(self.inputs,100)\n",
        "        self.linear2 = nn.Linear(100,self.output)\n",
        "\n",
        "    def forward(self,x):\n",
        "      x = F.relu(self.linear1(x))\n",
        "      x = self.linear2(x)\n",
        "      return x    "
      ],
      "execution_count": 331,
      "outputs": []
    },
    {
      "cell_type": "markdown",
      "metadata": {
        "id": "ByKHrKis88lW"
      },
      "source": [
        ""
      ]
    },
    {
      "cell_type": "code",
      "metadata": {
        "id": "FAPjSKkrd0ru"
      },
      "source": [
        "where = Focus_deep(5,1,9,5).double()\n",
        "what = Classification_deep(5,3).double()\n",
        "where = where.to(\"cuda\")\n",
        "what = what.to(\"cuda\")"
      ],
      "execution_count": 332,
      "outputs": []
    },
    {
      "cell_type": "code",
      "metadata": {
        "id": "ehAfQnNwgFYX"
      },
      "source": [
        "def calculate_attn_loss(dataloader,what,where,criter):\n",
        "  what.eval()\n",
        "  where.eval()\n",
        "  r_loss = 0\n",
        "  alphas = []\n",
        "  lbls = []\n",
        "  pred = []\n",
        "  fidices = []\n",
        "  with torch.no_grad():\n",
        "    for i, data in enumerate(dataloader, 0):\n",
        "      inputs, labels,fidx = data\n",
        "      lbls.append(labels)\n",
        "      fidices.append(fidx)\n",
        "      inputs = inputs.double()\n",
        "      inputs, labels = inputs.to(\"cuda\"),labels.to(\"cuda\")\n",
        "      avg,alpha = where(inputs)\n",
        "      outputs = what(avg)\n",
        "      _, predicted = torch.max(outputs.data, 1)\n",
        "      pred.append(predicted.cpu().numpy())\n",
        "      alphas.append(alpha.cpu().numpy())\n",
        "      loss = criter(outputs, labels)\n",
        "      r_loss += loss.item()\n",
        "  alphas = np.concatenate(alphas,axis=0)\n",
        "  pred = np.concatenate(pred,axis=0)\n",
        "  lbls = np.concatenate(lbls,axis=0)\n",
        "  fidices = np.concatenate(fidices,axis=0)\n",
        "  #print(alphas.shape,pred.shape,lbls.shape,fidices.shape) \n",
        "  analysis = analyse_data(alphas,lbls,pred,fidices)\n",
        "  return r_loss/i,analysis"
      ],
      "execution_count": 333,
      "outputs": []
    },
    {
      "cell_type": "code",
      "metadata": {
        "id": "6e9HQJMzxBhp"
      },
      "source": [
        "def analyse_data(alphas,lbls,predicted,f_idx):\n",
        "    '''\n",
        "       analysis data is created here\n",
        "    '''\n",
        "    batch = len(predicted)\n",
        "    amth,alth,ftpt,ffpt,ftpf,ffpf = 0,0,0,0,0,0\n",
        "    for j in range (batch):\n",
        "      focus = np.argmax(alphas[j])\n",
        "      if(alphas[j][focus] >= 0.5):\n",
        "        amth +=1\n",
        "      else:\n",
        "        alth +=1\n",
        "      if(focus == f_idx[j] and predicted[j] == lbls[j]):\n",
        "        ftpt += 1\n",
        "      elif(focus != f_idx[j] and predicted[j] == lbls[j]):\n",
        "        ffpt +=1\n",
        "      elif(focus == f_idx[j] and predicted[j] != lbls[j]):\n",
        "        ftpf +=1\n",
        "      elif(focus != f_idx[j] and predicted[j] != lbls[j]):\n",
        "        ffpf +=1\n",
        "    #print(sum(predicted==lbls),ftpt+ffpt)\n",
        "    return [ftpt,ffpt,ftpf,ffpf,amth,alth]"
      ],
      "execution_count": 334,
      "outputs": []
    },
    {
      "cell_type": "code",
      "metadata": {
        "colab": {
          "base_uri": "https://localhost:8080/"
        },
        "id": "MOfxUJZ_eFKw",
        "outputId": "af71c0ee-55e1-4b28-fe72-7f5cb3298aaf"
      },
      "source": [
        "\n",
        "print(\"--\"*40)\n",
        "criterion = nn.CrossEntropyLoss()\n",
        "optimizer_where = optim.Adam(where.parameters(),lr =0.001)\n",
        "optimizer_what = optim.Adam(what.parameters(), lr=0.001)\n",
        "acti = []\n",
        "loss_curi = []\n",
        "analysis_data = []\n",
        "epochs = 1000\n",
        "running_loss,anlys_data = calculate_attn_loss(train_loader,what,where,criterion)\n",
        "loss_curi.append(running_loss)\n",
        "analysis_data.append(anlys_data)\n",
        "print('epoch: [%d ] loss: %.3f' %(0,running_loss)) \n",
        "for epoch in range(epochs): # loop over the dataset multiple times\n",
        "  ep_lossi = []\n",
        "  running_loss = 0.0\n",
        "  what.train()\n",
        "  where.train()\n",
        "  for i, data in enumerate(train_loader, 0):\n",
        "    # get the inputs\n",
        "    inputs, labels,_ = data\n",
        "    inputs = inputs.double()\n",
        "    inputs, labels = inputs.to(\"cuda\"),labels.to(\"cuda\")\n",
        "    # zero the parameter gradients\n",
        "    optimizer_where.zero_grad()\n",
        "    optimizer_what.zero_grad()\n",
        "    # forward + backward + optimize\n",
        "    avg, alpha = where(inputs)\n",
        "    outputs = what(avg)\n",
        "    loss = criterion(outputs, labels)\n",
        "    # print statistics\n",
        "    running_loss += loss.item()\n",
        "    loss.backward()\n",
        "    optimizer_where.step()\n",
        "    optimizer_what.step()\n",
        "\n",
        "  running_loss,anls_data = calculate_attn_loss(train_loader,what,where,criterion)\n",
        "  analysis_data.append(anls_data)\n",
        "  print('epoch: [%d] loss: %.3f' %(epoch + 1,running_loss)) \n",
        "  loss_curi.append(running_loss)   #loss per epoch\n",
        "  if running_loss<=0.01:\n",
        "    break\n",
        "print('Finished Training')\n",
        "correct = 0\n",
        "total = 0\n",
        "with torch.no_grad():\n",
        "  for data in train_loader:\n",
        "    images, labels,_ = data\n",
        "    images = images.double()\n",
        "    images, labels = images.to(\"cuda\"), labels.to(\"cuda\")\n",
        "    avg, alpha = where(images)\n",
        "    outputs  = what(avg)\n",
        "    _, predicted = torch.max(outputs.data, 1)\n",
        "    total += labels.size(0)\n",
        "    correct += (predicted == labels).sum().item()\n",
        "\n",
        "print('Accuracy of the network on the 3000 train images: %d %%' % (  100 * correct / total))\n",
        "    "
      ],
      "execution_count": 335,
      "outputs": [
        {
          "output_type": "stream",
          "text": [
            "--------------------------------------------------------------------------------\n",
            "epoch: [0 ] loss: 4.315\n",
            "epoch: [1] loss: 1.641\n",
            "epoch: [2] loss: 1.293\n",
            "epoch: [3] loss: 1.239\n",
            "epoch: [4] loss: 1.222\n",
            "epoch: [5] loss: 1.213\n",
            "epoch: [6] loss: 1.205\n",
            "epoch: [7] loss: 1.207\n",
            "epoch: [8] loss: 1.203\n",
            "epoch: [9] loss: 1.198\n",
            "epoch: [10] loss: 1.201\n",
            "epoch: [11] loss: 1.197\n",
            "epoch: [12] loss: 1.197\n",
            "epoch: [13] loss: 1.198\n",
            "epoch: [14] loss: 1.198\n",
            "epoch: [15] loss: 1.200\n",
            "epoch: [16] loss: 1.198\n",
            "epoch: [17] loss: 1.199\n",
            "epoch: [18] loss: 1.196\n",
            "epoch: [19] loss: 1.195\n",
            "epoch: [20] loss: 1.194\n",
            "epoch: [21] loss: 1.194\n",
            "epoch: [22] loss: 1.193\n",
            "epoch: [23] loss: 1.196\n",
            "epoch: [24] loss: 1.192\n",
            "epoch: [25] loss: 1.200\n",
            "epoch: [26] loss: 1.194\n",
            "epoch: [27] loss: 1.192\n",
            "epoch: [28] loss: 1.192\n",
            "epoch: [29] loss: 1.193\n",
            "epoch: [30] loss: 1.194\n",
            "epoch: [31] loss: 1.195\n",
            "epoch: [32] loss: 1.201\n",
            "epoch: [33] loss: 1.199\n",
            "epoch: [34] loss: 1.195\n",
            "epoch: [35] loss: 1.192\n",
            "epoch: [36] loss: 1.191\n",
            "epoch: [37] loss: 1.191\n",
            "epoch: [38] loss: 1.193\n",
            "epoch: [39] loss: 1.192\n",
            "epoch: [40] loss: 1.193\n",
            "epoch: [41] loss: 1.194\n",
            "epoch: [42] loss: 1.195\n",
            "epoch: [43] loss: 1.194\n",
            "epoch: [44] loss: 1.196\n",
            "epoch: [45] loss: 1.192\n",
            "epoch: [46] loss: 1.192\n",
            "epoch: [47] loss: 1.192\n",
            "epoch: [48] loss: 1.192\n",
            "epoch: [49] loss: 1.193\n",
            "epoch: [50] loss: 1.193\n",
            "epoch: [51] loss: 1.196\n",
            "epoch: [52] loss: 1.190\n",
            "epoch: [53] loss: 1.192\n",
            "epoch: [54] loss: 1.194\n",
            "epoch: [55] loss: 1.190\n",
            "epoch: [56] loss: 1.190\n",
            "epoch: [57] loss: 1.192\n",
            "epoch: [58] loss: 1.191\n",
            "epoch: [59] loss: 1.192\n",
            "epoch: [60] loss: 1.190\n",
            "epoch: [61] loss: 1.190\n",
            "epoch: [62] loss: 1.191\n",
            "epoch: [63] loss: 1.191\n",
            "epoch: [64] loss: 1.193\n",
            "epoch: [65] loss: 1.191\n",
            "epoch: [66] loss: 1.188\n",
            "epoch: [67] loss: 1.195\n",
            "epoch: [68] loss: 1.189\n",
            "epoch: [69] loss: 1.192\n",
            "epoch: [70] loss: 1.191\n",
            "epoch: [71] loss: 1.190\n",
            "epoch: [72] loss: 1.189\n",
            "epoch: [73] loss: 1.189\n",
            "epoch: [74] loss: 1.188\n",
            "epoch: [75] loss: 1.188\n",
            "epoch: [76] loss: 1.189\n",
            "epoch: [77] loss: 1.188\n",
            "epoch: [78] loss: 1.188\n",
            "epoch: [79] loss: 1.191\n",
            "epoch: [80] loss: 1.195\n",
            "epoch: [81] loss: 1.189\n",
            "epoch: [82] loss: 1.188\n",
            "epoch: [83] loss: 1.189\n",
            "epoch: [84] loss: 1.187\n",
            "epoch: [85] loss: 1.191\n",
            "epoch: [86] loss: 1.189\n",
            "epoch: [87] loss: 1.186\n",
            "epoch: [88] loss: 1.189\n",
            "epoch: [89] loss: 1.187\n",
            "epoch: [90] loss: 1.186\n",
            "epoch: [91] loss: 1.184\n",
            "epoch: [92] loss: 1.185\n",
            "epoch: [93] loss: 1.184\n",
            "epoch: [94] loss: 1.183\n",
            "epoch: [95] loss: 1.187\n",
            "epoch: [96] loss: 1.186\n",
            "epoch: [97] loss: 1.183\n",
            "epoch: [98] loss: 1.182\n",
            "epoch: [99] loss: 1.180\n",
            "epoch: [100] loss: 1.179\n",
            "epoch: [101] loss: 1.176\n",
            "epoch: [102] loss: 1.166\n",
            "epoch: [103] loss: 1.137\n",
            "epoch: [104] loss: 1.013\n",
            "epoch: [105] loss: 0.805\n",
            "epoch: [106] loss: 0.657\n",
            "epoch: [107] loss: 0.562\n",
            "epoch: [108] loss: 0.502\n",
            "epoch: [109] loss: 0.457\n",
            "epoch: [110] loss: 0.418\n",
            "epoch: [111] loss: 0.387\n",
            "epoch: [112] loss: 0.367\n",
            "epoch: [113] loss: 0.335\n",
            "epoch: [114] loss: 0.315\n",
            "epoch: [115] loss: 0.294\n",
            "epoch: [116] loss: 0.275\n",
            "epoch: [117] loss: 0.258\n",
            "epoch: [118] loss: 0.242\n",
            "epoch: [119] loss: 0.227\n",
            "epoch: [120] loss: 0.217\n",
            "epoch: [121] loss: 0.201\n",
            "epoch: [122] loss: 0.188\n",
            "epoch: [123] loss: 0.178\n",
            "epoch: [124] loss: 0.168\n",
            "epoch: [125] loss: 0.160\n",
            "epoch: [126] loss: 0.150\n",
            "epoch: [127] loss: 0.142\n",
            "epoch: [128] loss: 0.139\n",
            "epoch: [129] loss: 0.129\n",
            "epoch: [130] loss: 0.122\n",
            "epoch: [131] loss: 0.117\n",
            "epoch: [132] loss: 0.112\n",
            "epoch: [133] loss: 0.108\n",
            "epoch: [134] loss: 0.102\n",
            "epoch: [135] loss: 0.099\n",
            "epoch: [136] loss: 0.096\n",
            "epoch: [137] loss: 0.094\n",
            "epoch: [138] loss: 0.088\n",
            "epoch: [139] loss: 0.085\n",
            "epoch: [140] loss: 0.083\n",
            "epoch: [141] loss: 0.080\n",
            "epoch: [142] loss: 0.079\n",
            "epoch: [143] loss: 0.076\n",
            "epoch: [144] loss: 0.079\n",
            "epoch: [145] loss: 0.071\n",
            "epoch: [146] loss: 0.069\n",
            "epoch: [147] loss: 0.068\n",
            "epoch: [148] loss: 0.066\n",
            "epoch: [149] loss: 0.064\n",
            "epoch: [150] loss: 0.062\n",
            "epoch: [151] loss: 0.061\n",
            "epoch: [152] loss: 0.060\n",
            "epoch: [153] loss: 0.058\n",
            "epoch: [154] loss: 0.057\n",
            "epoch: [155] loss: 0.057\n",
            "epoch: [156] loss: 0.055\n",
            "epoch: [157] loss: 0.053\n",
            "epoch: [158] loss: 0.052\n",
            "epoch: [159] loss: 0.052\n",
            "epoch: [160] loss: 0.050\n",
            "epoch: [161] loss: 0.050\n",
            "epoch: [162] loss: 0.050\n",
            "epoch: [163] loss: 0.048\n",
            "epoch: [164] loss: 0.048\n",
            "epoch: [165] loss: 0.046\n",
            "epoch: [166] loss: 0.047\n",
            "epoch: [167] loss: 0.044\n",
            "epoch: [168] loss: 0.045\n",
            "epoch: [169] loss: 0.043\n",
            "epoch: [170] loss: 0.043\n",
            "epoch: [171] loss: 0.042\n",
            "epoch: [172] loss: 0.041\n",
            "epoch: [173] loss: 0.041\n",
            "epoch: [174] loss: 0.042\n",
            "epoch: [175] loss: 0.039\n",
            "epoch: [176] loss: 0.039\n",
            "epoch: [177] loss: 0.038\n",
            "epoch: [178] loss: 0.038\n",
            "epoch: [179] loss: 0.038\n",
            "epoch: [180] loss: 0.037\n",
            "epoch: [181] loss: 0.037\n",
            "epoch: [182] loss: 0.036\n",
            "epoch: [183] loss: 0.035\n",
            "epoch: [184] loss: 0.035\n",
            "epoch: [185] loss: 0.034\n",
            "epoch: [186] loss: 0.034\n",
            "epoch: [187] loss: 0.034\n",
            "epoch: [188] loss: 0.034\n",
            "epoch: [189] loss: 0.032\n",
            "epoch: [190] loss: 0.032\n",
            "epoch: [191] loss: 0.032\n",
            "epoch: [192] loss: 0.031\n",
            "epoch: [193] loss: 0.031\n",
            "epoch: [194] loss: 0.031\n",
            "epoch: [195] loss: 0.030\n",
            "epoch: [196] loss: 0.030\n",
            "epoch: [197] loss: 0.030\n",
            "epoch: [198] loss: 0.032\n",
            "epoch: [199] loss: 0.030\n",
            "epoch: [200] loss: 0.029\n",
            "epoch: [201] loss: 0.028\n",
            "epoch: [202] loss: 0.028\n",
            "epoch: [203] loss: 0.028\n",
            "epoch: [204] loss: 0.029\n",
            "epoch: [205] loss: 0.027\n",
            "epoch: [206] loss: 0.027\n",
            "epoch: [207] loss: 0.027\n",
            "epoch: [208] loss: 0.026\n",
            "epoch: [209] loss: 0.027\n",
            "epoch: [210] loss: 0.026\n",
            "epoch: [211] loss: 0.026\n",
            "epoch: [212] loss: 0.026\n",
            "epoch: [213] loss: 0.026\n",
            "epoch: [214] loss: 0.025\n",
            "epoch: [215] loss: 0.026\n",
            "epoch: [216] loss: 0.024\n",
            "epoch: [217] loss: 0.024\n",
            "epoch: [218] loss: 0.024\n",
            "epoch: [219] loss: 0.023\n",
            "epoch: [220] loss: 0.023\n",
            "epoch: [221] loss: 0.024\n",
            "epoch: [222] loss: 0.023\n",
            "epoch: [223] loss: 0.023\n",
            "epoch: [224] loss: 0.022\n",
            "epoch: [225] loss: 0.023\n",
            "epoch: [226] loss: 0.023\n",
            "epoch: [227] loss: 0.023\n",
            "epoch: [228] loss: 0.022\n",
            "epoch: [229] loss: 0.022\n",
            "epoch: [230] loss: 0.021\n",
            "epoch: [231] loss: 0.021\n",
            "epoch: [232] loss: 0.021\n",
            "epoch: [233] loss: 0.021\n",
            "epoch: [234] loss: 0.021\n",
            "epoch: [235] loss: 0.021\n",
            "epoch: [236] loss: 0.021\n",
            "epoch: [237] loss: 0.020\n",
            "epoch: [238] loss: 0.020\n",
            "epoch: [239] loss: 0.020\n",
            "epoch: [240] loss: 0.020\n",
            "epoch: [241] loss: 0.020\n",
            "epoch: [242] loss: 0.019\n",
            "epoch: [243] loss: 0.019\n",
            "epoch: [244] loss: 0.019\n",
            "epoch: [245] loss: 0.019\n",
            "epoch: [246] loss: 0.019\n",
            "epoch: [247] loss: 0.019\n",
            "epoch: [248] loss: 0.020\n",
            "epoch: [249] loss: 0.019\n",
            "epoch: [250] loss: 0.019\n",
            "epoch: [251] loss: 0.019\n",
            "epoch: [252] loss: 0.018\n",
            "epoch: [253] loss: 0.018\n",
            "epoch: [254] loss: 0.018\n",
            "epoch: [255] loss: 0.018\n",
            "epoch: [256] loss: 0.018\n",
            "epoch: [257] loss: 0.018\n",
            "epoch: [258] loss: 0.017\n",
            "epoch: [259] loss: 0.017\n",
            "epoch: [260] loss: 0.017\n",
            "epoch: [261] loss: 0.017\n",
            "epoch: [262] loss: 0.017\n",
            "epoch: [263] loss: 0.017\n",
            "epoch: [264] loss: 0.017\n",
            "epoch: [265] loss: 0.017\n",
            "epoch: [266] loss: 0.017\n",
            "epoch: [267] loss: 0.017\n",
            "epoch: [268] loss: 0.016\n",
            "epoch: [269] loss: 0.017\n",
            "epoch: [270] loss: 0.016\n",
            "epoch: [271] loss: 0.016\n",
            "epoch: [272] loss: 0.016\n",
            "epoch: [273] loss: 0.016\n",
            "epoch: [274] loss: 0.016\n",
            "epoch: [275] loss: 0.015\n",
            "epoch: [276] loss: 0.015\n",
            "epoch: [277] loss: 0.015\n",
            "epoch: [278] loss: 0.016\n",
            "epoch: [279] loss: 0.015\n",
            "epoch: [280] loss: 0.015\n",
            "epoch: [281] loss: 0.015\n",
            "epoch: [282] loss: 0.015\n",
            "epoch: [283] loss: 0.015\n",
            "epoch: [284] loss: 0.014\n",
            "epoch: [285] loss: 0.014\n",
            "epoch: [286] loss: 0.016\n",
            "epoch: [287] loss: 0.014\n",
            "epoch: [288] loss: 0.014\n",
            "epoch: [289] loss: 0.014\n",
            "epoch: [290] loss: 0.014\n",
            "epoch: [291] loss: 0.014\n",
            "epoch: [292] loss: 0.014\n",
            "epoch: [293] loss: 0.014\n",
            "epoch: [294] loss: 0.014\n",
            "epoch: [295] loss: 0.013\n",
            "epoch: [296] loss: 0.013\n",
            "epoch: [297] loss: 0.013\n",
            "epoch: [298] loss: 0.013\n",
            "epoch: [299] loss: 0.013\n",
            "epoch: [300] loss: 0.013\n",
            "epoch: [301] loss: 0.013\n",
            "epoch: [302] loss: 0.013\n",
            "epoch: [303] loss: 0.013\n",
            "epoch: [304] loss: 0.013\n",
            "epoch: [305] loss: 0.012\n",
            "epoch: [306] loss: 0.012\n",
            "epoch: [307] loss: 0.012\n",
            "epoch: [308] loss: 0.012\n",
            "epoch: [309] loss: 0.012\n",
            "epoch: [310] loss: 0.012\n",
            "epoch: [311] loss: 0.012\n",
            "epoch: [312] loss: 0.012\n",
            "epoch: [313] loss: 0.012\n",
            "epoch: [314] loss: 0.012\n",
            "epoch: [315] loss: 0.012\n",
            "epoch: [316] loss: 0.011\n",
            "epoch: [317] loss: 0.011\n",
            "epoch: [318] loss: 0.011\n",
            "epoch: [319] loss: 0.011\n",
            "epoch: [320] loss: 0.011\n",
            "epoch: [321] loss: 0.011\n",
            "epoch: [322] loss: 0.011\n",
            "epoch: [323] loss: 0.011\n",
            "epoch: [324] loss: 0.011\n",
            "epoch: [325] loss: 0.011\n",
            "epoch: [326] loss: 0.011\n",
            "epoch: [327] loss: 0.011\n",
            "epoch: [328] loss: 0.011\n",
            "epoch: [329] loss: 0.010\n",
            "epoch: [330] loss: 0.011\n",
            "epoch: [331] loss: 0.010\n",
            "epoch: [332] loss: 0.010\n",
            "epoch: [333] loss: 0.010\n",
            "epoch: [334] loss: 0.010\n",
            "epoch: [335] loss: 0.010\n",
            "Finished Training\n",
            "Accuracy of the network on the 3000 train images: 99 %\n"
          ],
          "name": "stdout"
        }
      ]
    },
    {
      "cell_type": "code",
      "metadata": {
        "colab": {
          "base_uri": "https://localhost:8080/",
          "height": 374
        },
        "id": "L31RVViMkYM-",
        "outputId": "62bbaae6-a2c1-4b8d-8cf4-bad60c5c360a"
      },
      "source": [
        "analysis_data = np.array(analysis_data)\n",
        "plt.figure(figsize=(6,6))\n",
        "plt.plot(np.arange(0,epoch+2,1),analysis_data[:,0],label=\"ftpt\")\n",
        "plt.plot(np.arange(0,epoch+2,1),analysis_data[:,1],label=\"ffpt\")\n",
        "plt.plot(np.arange(0,epoch+2,1),analysis_data[:,2],label=\"ftpf\")\n",
        "plt.plot(np.arange(0,epoch+2,1),analysis_data[:,3],label=\"ffpf\")\n",
        "\n",
        "plt.legend(loc='center left', bbox_to_anchor=(1, 0.5))\n",
        "plt.savefig(\"trends_synthetic_300_300.png\",bbox_inches=\"tight\")\n",
        "plt.savefig(\"trends_synthetic_300_300.pdf\",bbox_inches=\"tight\")\n"
      ],
      "execution_count": 336,
      "outputs": [
        {
          "output_type": "display_data",
          "data": {
            "image/png": "[encoded data removed]",
            "text/plain": [
              "<Figure size 432x432 with 1 Axes>"
            ]
          },
          "metadata": {
            "tags": [],
            "needs_background": "light"
          }
        }
      ]
    },
    {
      "cell_type": "code",
      "metadata": {
        "colab": {
          "base_uri": "https://localhost:8080/"
        },
        "id": "h5mag3jZ-LMe",
        "outputId": "8200dbcb-ee32-47bc-aa62-6632ce2074cf"
      },
      "source": [
        "analysis_data[-1,:2]/3000"
      ],
      "execution_count": 337,
      "outputs": [
        {
          "output_type": "execute_result",
          "data": {
            "text/plain": [
              "array([0.66333333, 0.33466667])"
            ]
          },
          "metadata": {
            "tags": []
          },
          "execution_count": 337
        }
      ]
    },
    {
      "cell_type": "code",
      "metadata": {
        "colab": {
          "base_uri": "https://localhost:8080/"
        },
        "id": "DSxFtBWQ1M8O",
        "outputId": "83c869f6-a69f-482e-8379-416681a2b7e1"
      },
      "source": [
        "running_loss,anls_data = calculate_attn_loss(train_loader,what,where,criterion)\r\n",
        "print(running_loss, anls_data)"
      ],
      "execution_count": 338,
      "outputs": [
        {
          "output_type": "stream",
          "text": [
            "0.009883947503039453 [1990, 1004, 6, 0, 2227, 773]\n"
          ],
          "name": "stdout"
        }
      ]
    },
    {
      "cell_type": "code",
      "metadata": {
        "id": "ncIi9Jc92a4u"
      },
      "source": [
        "what.eval()\r\n",
        "where.eval()\r\n",
        "alphas = []\r\n",
        "max_alpha =[]\r\n",
        "alpha_ftpt=[]\r\n",
        "alpha_ffpt=[]\r\n",
        "alpha_ftpf=[]\r\n",
        "alpha_ffpf=[]\r\n",
        "argmax_more_than_half=0\r\n",
        "argmax_less_than_half=0\r\n",
        "cnt =0\r\n",
        "with torch.no_grad():\r\n",
        "  for i, data in enumerate(train_loader, 0):\r\n",
        "    inputs, labels, fidx = data\r\n",
        "    inputs = inputs.double()\r\n",
        "    inputs, labels = inputs.to(\"cuda\"),labels.to(\"cuda\")\r\n",
        "    avg, alphas = where(inputs)\r\n",
        "    outputs = what(avg)\r\n",
        "    _, predicted = torch.max(outputs.data, 1)\r\n",
        "    batch = len(predicted)\r\n",
        "    mx,_ = torch.max(alphas,1)\r\n",
        "    max_alpha.append(mx.cpu().detach().numpy())\r\n",
        "    for j in range (batch):\r\n",
        "      cnt+=1\r\n",
        "      focus = torch.argmax(alphas[j]).item()\r\n",
        "      if alphas[j][focus] >= 0.5 :\r\n",
        "        argmax_more_than_half += 1\r\n",
        "      else:\r\n",
        "        argmax_less_than_half += 1\r\n",
        "\r\n",
        "      if (focus == fidx[j].item() and predicted[j].item() == labels[j].item()):\r\n",
        "          alpha_ftpt.append(alphas[j][focus].item())\r\n",
        "          # print(focus, fore_idx[j].item(), predicted[j].item() , labels[j].item() )\r\n",
        "\r\n",
        "      elif (focus != fidx[j].item() and predicted[j].item() == labels[j].item()):\r\n",
        "          alpha_ffpt.append(alphas[j][focus].item())\r\n",
        "\r\n",
        "      elif (focus == fidx[j].item() and predicted[j].item() != labels[j].item()):\r\n",
        "          alpha_ftpf.append(alphas[j][focus].item())\r\n",
        "\r\n",
        "      elif (focus != fidx[j].item() and predicted[j].item() != labels[j].item()):\r\n",
        "          alpha_ffpf.append(alphas[j][focus].item())\r\n"
      ],
      "execution_count": 339,
      "outputs": []
    },
    {
      "cell_type": "code",
      "metadata": {
        "colab": {
          "base_uri": "https://localhost:8080/"
        },
        "id": "wPE_6NQd3VHu",
        "outputId": "6b0bd6dc-9f9d-4585-bd32-65038c048553"
      },
      "source": [
        "max_alpha = np.concatenate(max_alpha,axis=0)\r\n",
        "print(max_alpha.shape, cnt)"
      ],
      "execution_count": 340,
      "outputs": [
        {
          "output_type": "stream",
          "text": [
            "(3000,) 3000\n"
          ],
          "name": "stdout"
        }
      ]
    },
    {
      "cell_type": "code",
      "metadata": {
        "colab": {
          "base_uri": "https://localhost:8080/"
        },
        "id": "Bvgu92LY3Zke",
        "outputId": "e7e461f5-2d02-4b54-f4a1-658e6adfb544"
      },
      "source": [
        "np.array(alpha_ftpt).size, np.array(alpha_ffpt).size, np.array(alpha_ftpf).size, np.array(alpha_ffpf).size"
      ],
      "execution_count": 341,
      "outputs": [
        {
          "output_type": "execute_result",
          "data": {
            "text/plain": [
              "(1990, 1004, 6, 0)"
            ]
          },
          "metadata": {
            "tags": []
          },
          "execution_count": 341
        }
      ]
    },
    {
      "cell_type": "code",
      "metadata": {
        "id": "_XtgiDDpZ8qH",
        "colab": {
          "base_uri": "https://localhost:8080/",
          "height": 390
        },
        "outputId": "12fa2105-f805-47ad-8bec-f77c1986ad3e"
      },
      "source": [
        "plt.figure(figsize=(6,6))\r\n",
        "_,bins,_ = plt.hist(max_alpha,bins=50,color =\"c\")\r\n",
        "plt.title(\"alpha values histogram\")\r\n",
        "plt.savefig(\"attention_model_2_hist\")"
      ],
      "execution_count": 342,
      "outputs": [
        {
          "output_type": "display_data",
          "data": {
            "image/png": "[encoded data removed]",
            "text/plain": [
              "<Figure size 432x432 with 1 Axes>"
            ]
          },
          "metadata": {
            "tags": [],
            "needs_background": "light"
          }
        }
      ]
    },
    {
      "cell_type": "code",
      "metadata": {
        "colab": {
          "base_uri": "https://localhost:8080/",
          "height": 390
        },
        "id": "4uTx4G6PeOgH",
        "outputId": "613749e4-8c6a-4fef-c653-9c37ad171903"
      },
      "source": [
        "plt.figure(figsize=(6,6))\r\n",
        "_,bins,_ = plt.hist(np.array(alpha_ftpt),bins=50,color =\"c\")\r\n",
        "plt.title(\"alpha values in ftpt\")\r\n",
        "plt.savefig(\"attention_model_2_hist\")"
      ],
      "execution_count": 343,
      "outputs": [
        {
          "output_type": "display_data",
          "data": {
            "image/png": "[encoded data removed]",
            "text/plain": [
              "<Figure size 432x432 with 1 Axes>"
            ]
          },
          "metadata": {
            "tags": [],
            "needs_background": "light"
          }
        }
      ]
    },
    {
      "cell_type": "code",
      "metadata": {
        "id": "pZ2Nn1IneTkT",
        "colab": {
          "base_uri": "https://localhost:8080/",
          "height": 390
        },
        "outputId": "8ab6cf37-2fbb-4d02-ec7a-6c39e53e9447"
      },
      "source": [
        "plt.figure(figsize=(6,6))\r\n",
        "_,bins,_ = plt.hist(np.array(alpha_ffpt),bins=50,color =\"c\")\r\n",
        "plt.title(\"alpha values in ffpt\")\r\n",
        "plt.savefig(\"attention_model_2_hist\")"
      ],
      "execution_count": 344,
      "outputs": [
        {
          "output_type": "display_data",
          "data": {
            "image/png": "[encoded data removed]",
            "text/plain": [
              "<Figure size 432x432 with 1 Axes>"
            ]
          },
          "metadata": {
            "tags": [],
            "needs_background": "light"
          }
        }
      ]
    },
    {
      "cell_type": "code",
      "metadata": {
        "id": "_ZSZor21zD_f"
      },
      "source": [
        ""
      ],
      "execution_count": 344,
      "outputs": []
    }
  ]
}