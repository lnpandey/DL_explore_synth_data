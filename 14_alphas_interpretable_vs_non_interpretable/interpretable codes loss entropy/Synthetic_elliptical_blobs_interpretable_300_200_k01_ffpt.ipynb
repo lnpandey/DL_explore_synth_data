{
  "nbformat": 4,
  "nbformat_minor": 0,
  "metadata": {
    "accelerator": "GPU",
    "colab": {
      "name": "Synthetic_elliptical_blobs_interpretable_300_100_k01.ipynb",
      "provenance": [],
      "collapsed_sections": []
    },
    "kernelspec": {
      "display_name": "Python 3",
      "name": "python3"
    }
  },
  "cells": [
    {
      "cell_type": "code",
      "metadata": {
        "id": "VAYu3ISwwGks"
      },
      "source": [
        " import numpy as np\n",
        "import pandas as pd\n",
        "\n",
        "import torch\n",
        "import torchvision\n",
        "from torch.utils.data import Dataset, DataLoader\n",
        "from torchvision import transforms, utils\n",
        "import torch.nn as nn\n",
        "import torch.nn.functional as F\n",
        "import torch.optim as optim\n",
        "\n",
        "from matplotlib import pyplot as plt\n",
        "%matplotlib inline\n",
        "\n",
        "from scipy.stats import entropy"
      ],
      "execution_count": 616,
      "outputs": []
    },
    {
      "cell_type": "code",
      "metadata": {
        "id": "TjEp-LtqiWAf"
      },
      "source": [
        "mu1 = np.array([3,3,3,3,0])\n",
        "sigma1 = np.array([[1,1,1,1,1],[1,16,1,1,1],[1,1,1,1,1],[1,1,1,1,1],[1,1,1,1,1]])\n",
        "\n",
        "mu2 = np.array([4,4,4,4,0])\n",
        "sigma2 = np.array([[16,1,1,1,1],[1,1,1,1,1],[1,1,1,1,1],[1,1,1,1,1],[1,1,1,1,1]])\n",
        "\n",
        "mu3 = np.array([10,5,5,10,0])\n",
        "sigma3 = np.array([[1,1,1,1,1],[1,16,1,1,1],[1,1,1,1,1],[1,1,1,1,1],[1,1,1,1,1]])\n",
        "\n",
        "mu4 = np.array([-10,-10,-10,-10,0])\n",
        "sigma4 = np.array([[1,1,1,1,1],[1,16,1,1,1],[1,1,1,1,1],[1,1,1,1,1],[1,1,1,1,1]])\n",
        "\n",
        "mu5 = np.array([-21,4,4,-21,0])\n",
        "sigma5 = np.array([[16,1,1,1,1],[1,1,1,1,1],[1,1,1,1,1],[1,1,1,1,1],[1,1,1,1,1]])\n",
        "\n",
        "mu6 = np.array([-10,18,18,-10,0])\n",
        "sigma6 = np.array([[1,1,1,1,1],[1,16,1,1,1],[1,1,1,1,1],[1,1,1,1,1],[1,1,1,1,1]])\n",
        "\n",
        "mu7 = np.array([4,20,4,20,0])\n",
        "sigma7 = np.array([[16,1,1,1,1],[1,1,1,1,1],[1,1,1,1,1],[1,1,1,1,1],[1,1,1,1,1]])\n",
        "\n",
        "mu8 = np.array([4,-20,-20,4,0])\n",
        "sigma8 = np.array([[16,1,1,1,1],[1,1,1,1,1],[1,1,1,1,1],[1,1,1,1,1],[1,1,1,1,1]])\n",
        "\n",
        "mu9 = np.array([20,20,20,20,0])\n",
        "sigma9 = np.array([[1,1,1,1,1],[1,16,1,1,1],[1,1,1,1,1],[1,1,1,1,1],[1,1,1,1,1]])\n",
        "\n",
        "mu10 = np.array([20,-10,-10,20,0])\n",
        "sigma10 = np.array([[1,1,1,1,1],[1,16,1,1,1],[1,1,1,1,1],[1,1,1,1,1],[1,1,1,1,1]])\n",
        "\n",
        "\n",
        "\n",
        "sample1 = np.random.multivariate_normal(mean=mu1,cov= sigma1,size=500)\n",
        "sample2 = np.random.multivariate_normal(mean=mu2,cov= sigma2,size=500)\n",
        "sample3 = np.random.multivariate_normal(mean=mu3,cov= sigma3,size=500)\n",
        "sample4 = np.random.multivariate_normal(mean=mu4,cov= sigma4,size=500)\n",
        "sample5 = np.random.multivariate_normal(mean=mu5,cov= sigma5,size=500)\n",
        "sample6 = np.random.multivariate_normal(mean=mu6,cov= sigma6,size=500)\n",
        "sample7 = np.random.multivariate_normal(mean=mu7,cov= sigma7,size=500)\n",
        "sample8 = np.random.multivariate_normal(mean=mu8,cov= sigma8,size=500)\n",
        "sample9 = np.random.multivariate_normal(mean=mu9,cov= sigma9,size=500)\n",
        "sample10 = np.random.multivariate_normal(mean=mu10,cov= sigma10,size=500)\n"
      ],
      "execution_count": 617,
      "outputs": []
    },
    {
      "cell_type": "code",
      "metadata": {
        "id": "NshDNGjY2T3w"
      },
      "source": [
        "# mu1 = np.array([3,3,0,0,0])\n",
        "# sigma1 = np.array([[1,1,1,1,1],[1,16,1,1,1],[1,1,1,1,1],[1,1,1,1,1],[1,1,1,1,1]])\n",
        "\n",
        "# mu2 = np.array([4,4,0,0,0])\n",
        "# sigma2 = np.array([[16,1,1,1,1],[1,1,1,1,1],[1,1,1,1,1],[1,1,1,1,1],[1,1,1,1,1]])\n",
        "\n",
        "# mu3 = np.array([10,5,0,0,0])\n",
        "# sigma3 = np.array([[1,1,1,1,1],[1,16,1,1,1],[1,1,1,1,1],[1,1,1,1,1],[1,1,1,1,1]])\n",
        "\n",
        "# mu4 = np.array([-10,-10,0,0,0])\n",
        "# sigma4 = np.array([[1,1,1,1,1],[1,16,1,1,1],[1,1,1,1,1],[1,1,1,1,1],[1,1,1,1,1]])\n",
        "\n",
        "# mu5 = np.array([-21,4,0,0,0])\n",
        "# sigma5 = np.array([[16,1,1,1,1],[1,1,1,1,1],[1,1,1,1,1],[1,1,1,1,1],[1,1,1,1,1]])\n",
        "\n",
        "# mu6 = np.array([-10,18,0,0,0])\n",
        "# sigma6 = np.array([[1,1,1,1,1],[1,16,1,1,1],[1,1,1,1,1],[1,1,1,1,1],[1,1,1,1,1]])\n",
        "\n",
        "# mu7 = np.array([4,20,0,0,0])\n",
        "# sigma7 = np.array([[16,1,1,1,1],[1,1,1,1,1],[1,1,1,1,1],[1,1,1,1,1],[1,1,1,1,1]])\n",
        "\n",
        "# mu8 = np.array([4,-20,0,0,0])\n",
        "# sigma8 = np.array([[16,1,1,1,1],[1,1,1,1,1],[1,1,1,1,1],[1,1,1,1,1],[1,1,1,1,1]])\n",
        "\n",
        "# mu9 = np.array([20,20,0,0,0])\n",
        "# sigma9 = np.array([[1,1,1,1,1],[1,16,1,1,1],[1,1,1,1,1],[1,1,1,1,1],[1,1,1,1,1]])\n",
        "\n",
        "# mu10 = np.array([20,-10,0,0,0])\n",
        "# sigma10 = np.array([[1,1,1,1,1],[1,16,1,1,1],[1,1,1,1,1],[1,1,1,1,1],[1,1,1,1,1]])\n",
        "\n",
        "\n",
        "\n",
        "# sample1 = np.random.multivariate_normal(mean=mu1,cov= sigma1,size=500)\n",
        "# sample2 = np.random.multivariate_normal(mean=mu2,cov= sigma2,size=500)\n",
        "# sample3 = np.random.multivariate_normal(mean=mu3,cov= sigma3,size=500)\n",
        "# sample4 = np.random.multivariate_normal(mean=mu4,cov= sigma4,size=500)\n",
        "# sample5 = np.random.multivariate_normal(mean=mu5,cov= sigma5,size=500)\n",
        "# sample6 = np.random.multivariate_normal(mean=mu6,cov= sigma6,size=500)\n",
        "# sample7 = np.random.multivariate_normal(mean=mu7,cov= sigma7,size=500)\n",
        "# sample8 = np.random.multivariate_normal(mean=mu8,cov= sigma8,size=500)\n",
        "# sample9 = np.random.multivariate_normal(mean=mu9,cov= sigma9,size=500)\n",
        "# sample10 = np.random.multivariate_normal(mean=mu10,cov= sigma10,size=500)"
      ],
      "execution_count": 618,
      "outputs": []
    },
    {
      "cell_type": "code",
      "metadata": {
        "colab": {
          "base_uri": "https://localhost:8080/"
        },
        "id": "5YDnxeP-2_1V",
        "outputId": "17c0ace3-4333-4ccf-ac53-96b18c24d5c6"
      },
      "source": [
        "X = np.concatenate((sample1,sample2,sample3,sample4,sample5,sample6,sample7,sample8,sample9,sample10),axis=0)\n",
        "Y = np.concatenate((np.zeros((500,1)),np.ones((500,1)),2*np.ones((500,1)),3*np.ones((500,1)),4*np.ones((500,1)),\n",
        "                    5*np.ones((500,1)),6*np.ones((500,1)),7*np.ones((500,1)),8*np.ones((500,1)),9*np.ones((500,1))),axis=0).astype(int)\n",
        "print(X.shape,Y.shape)\n",
        "# plt.scatter(sample1[:,0],sample1[:,1],label=\"class_0\")\n",
        "# plt.scatter(sample2[:,0],sample2[:,1],label=\"class_1\")\n",
        "# plt.scatter(sample3[:,0],sample3[:,1],label=\"class_2\")\n",
        "# plt.scatter(sample4[:,0],sample4[:,1],label=\"class_3\")\n",
        "# plt.scatter(sample5[:,0],sample5[:,1],label=\"class_4\")\n",
        "# plt.scatter(sample6[:,0],sample6[:,1],label=\"class_5\")\n",
        "# plt.scatter(sample7[:,0],sample7[:,1],label=\"class_6\")\n",
        "# plt.scatter(sample8[:,0],sample8[:,1],label=\"class_7\")\n",
        "# plt.scatter(sample9[:,0],sample9[:,1],label=\"class_8\")\n",
        "# plt.scatter(sample10[:,0],sample10[:,1],label=\"class_9\")\n",
        "# plt.legend(bbox_to_anchor=(1.05, 1), loc='upper left')"
      ],
      "execution_count": 619,
      "outputs": [
        {
          "output_type": "stream",
          "text": [
            "(5000, 5) (5000, 1)\n"
          ],
          "name": "stdout"
        }
      ]
    },
    {
      "cell_type": "code",
      "metadata": {
        "id": "k6YzqPUf3CHa"
      },
      "source": [
        "class SyntheticDataset(Dataset):\n",
        "  \"\"\"MosaicDataset dataset.\"\"\"\n",
        "\n",
        "  def __init__(self, x, y):\n",
        "    \"\"\"\n",
        "      Args:\n",
        "        csv_file (string): Path to the csv file with annotations.\n",
        "        root_dir (string): Directory with all the images.\n",
        "        transform (callable, optional): Optional transform to be applied\n",
        "            on a sample.\n",
        "    \"\"\"\n",
        "    self.x = x\n",
        "    self.y = y\n",
        "    #self.fore_idx = fore_idx\n",
        "    \n",
        "  def __len__(self):\n",
        "    return len(self.y)\n",
        "\n",
        "  def __getitem__(self, idx):\n",
        "    return self.x[idx] , self.y[idx] #, self.fore_idx[idx]"
      ],
      "execution_count": 620,
      "outputs": []
    },
    {
      "cell_type": "code",
      "metadata": {
        "id": "4Mi3nL5-4D7_"
      },
      "source": [
        "trainset = SyntheticDataset(X,Y)\n",
        "\n",
        "\n",
        "# testset = torchvision.datasets.MNIST(root='./data', train=False, download=True, transform=transform)"
      ],
      "execution_count": 621,
      "outputs": []
    },
    {
      "cell_type": "code",
      "metadata": {
        "colab": {
          "base_uri": "https://localhost:8080/"
        },
        "id": "HKzc7IgwqoU2",
        "outputId": "423ba21e-6a45-4819-ef5a-5f76c6e7ffb9"
      },
      "source": [
        "classes = ('zero','one','two','three','four','five','six','seven','eight','nine')\n",
        "\n",
        "foreground_classes = {'zero','one','two'}\n",
        "fg_used = '012'\n",
        "fg1, fg2, fg3 = 0,1,2\n",
        "\n",
        "\n",
        "all_classes = {'zero','one','two','three','four','five','six','seven','eight','nine'}\n",
        "background_classes = all_classes - foreground_classes\n",
        "background_classes"
      ],
      "execution_count": 622,
      "outputs": [
        {
          "output_type": "execute_result",
          "data": {
            "text/plain": [
              "{'eight', 'five', 'four', 'nine', 'seven', 'six', 'three'}"
            ]
          },
          "metadata": {
            "tags": []
          },
          "execution_count": 622
        }
      ]
    },
    {
      "cell_type": "code",
      "metadata": {
        "id": "eT6iKHutquR8"
      },
      "source": [
        "trainloader = torch.utils.data.DataLoader(trainset, batch_size=100, shuffle=True)"
      ],
      "execution_count": 623,
      "outputs": []
    },
    {
      "cell_type": "code",
      "metadata": {
        "id": "IWKzXkPSq5KU"
      },
      "source": [
        "dataiter = iter(trainloader)\n",
        "background_data=[]\n",
        "background_label=[]\n",
        "foreground_data=[]\n",
        "foreground_label=[]\n",
        "batch_size=100\n",
        "\n",
        "for i in range(50):\n",
        "  images, labels = dataiter.next()\n",
        "  for j in range(batch_size):\n",
        "    if(classes[labels[j]] in background_classes):\n",
        "      img = images[j].tolist()\n",
        "      background_data.append(img)\n",
        "      background_label.append(labels[j])\n",
        "    else:\n",
        "      img = images[j].tolist()\n",
        "      foreground_data.append(img)\n",
        "      foreground_label.append(labels[j])\n",
        "            \n",
        "foreground_data = torch.tensor(foreground_data)\n",
        "foreground_label = torch.tensor(foreground_label)\n",
        "background_data = torch.tensor(background_data)\n",
        "background_label = torch.tensor(background_label)"
      ],
      "execution_count": 624,
      "outputs": []
    },
    {
      "cell_type": "code",
      "metadata": {
        "id": "ChdziOP3rF1G"
      },
      "source": [
        "def create_mosaic_img(bg_idx,fg_idx,fg): \n",
        "  \"\"\"\n",
        "  bg_idx : list of indexes of background_data[] to be used as background images in mosaic\n",
        "  fg_idx : index of image to be used as foreground image from foreground data\n",
        "  fg : at what position/index foreground image has to be stored out of 0-8\n",
        "  \"\"\"\n",
        "  image_list=[]\n",
        "  j=0\n",
        "  for i in range(9):\n",
        "    if i != fg:\n",
        "      image_list.append(background_data[bg_idx[j]])\n",
        "      j+=1\n",
        "    else: \n",
        "      image_list.append(foreground_data[fg_idx])\n",
        "      label = foreground_label[fg_idx] - fg1  # minus fg1 because our fore ground classes are fg1,fg2,fg3 but we have to store it as 0,1,2\n",
        "  #image_list = np.concatenate(image_list ,axis=0)\n",
        "  image_list = torch.stack(image_list) \n",
        "  return image_list,label"
      ],
      "execution_count": 625,
      "outputs": []
    },
    {
      "cell_type": "code",
      "metadata": {
        "id": "0ASrmPqErIDM"
      },
      "source": [
        "desired_num = 3000\n",
        "mosaic_list_of_images =[]      # list of mosaic images, each mosaic image is saved as list of 9 images\n",
        "fore_idx =[]                   # list of indexes at which foreground image is present in a mosaic image i.e from 0 to 9               \n",
        "mosaic_label=[]                # label of mosaic image = foreground class present in that mosaic\n",
        "list_set_labels = [] \n",
        "for i in range(desired_num):\n",
        "  set_idx = set()\n",
        "  np.random.seed(i)\n",
        "  bg_idx = np.random.randint(0,3500,8)\n",
        "  set_idx = set(background_label[bg_idx].tolist())\n",
        "  fg_idx = np.random.randint(0,1500)\n",
        "  set_idx.add(foreground_label[fg_idx].item())\n",
        "  fg = np.random.randint(0,9)\n",
        "  fore_idx.append(fg)\n",
        "  image_list,label = create_mosaic_img(bg_idx,fg_idx,fg)\n",
        "  mosaic_list_of_images.append(image_list)\n",
        "  mosaic_label.append(label)\n",
        "  list_set_labels.append(set_idx)"
      ],
      "execution_count": 626,
      "outputs": []
    },
    {
      "cell_type": "code",
      "metadata": {
        "id": "SDFN7dCarmmR"
      },
      "source": [
        "def create_avg_image_from_mosaic_dataset(mosaic_dataset,labels,foreground_index,dataset_number):\n",
        "  \"\"\"\n",
        "  mosaic_dataset : mosaic_dataset contains 9 images 32 x 32 each as 1 data point\n",
        "  labels : mosaic_dataset labels\n",
        "  foreground_index : contains list of indexes where foreground image is present so that using this we can take weighted average\n",
        "  dataset_number : will help us to tell what ratio of foreground image to be taken. for eg: if it is \"j\" then fg_image_ratio = j/9 , bg_image_ratio = (9-j)/8*9\n",
        "  \"\"\"\n",
        "  avg_image_dataset = []\n",
        "  for i in range(len(mosaic_dataset)):\n",
        "    img = torch.zeros([5], dtype=torch.float64)\n",
        "    for j in range(9):\n",
        "      if j == foreground_index[i]:\n",
        "        img = img + mosaic_dataset[i][j]*dataset_number/9\n",
        "      else :\n",
        "        img = img + mosaic_dataset[i][j]*(9-dataset_number)/(8*9)\n",
        "    \n",
        "    avg_image_dataset.append(img)\n",
        "    \n",
        "  return torch.stack(avg_image_dataset) , torch.stack(labels) , foreground_index"
      ],
      "execution_count": 627,
      "outputs": []
    },
    {
      "cell_type": "code",
      "metadata": {
        "id": "zgF90qBIt8yN"
      },
      "source": [
        "def calculate_loss(dataloader,model,criter):\n",
        "  model.eval()\n",
        "  r_loss = 0\n",
        "  with torch.no_grad():\n",
        "    for i, data in enumerate(dataloader, 0):\n",
        "      inputs, labels = data\n",
        "      inputs, labels = inputs.to(\"cuda\"),labels.to(\"cuda\")\n",
        "      outputs = model(inputs)\n",
        "      loss = criter(outputs, labels)\n",
        "      r_loss += loss.item()\n",
        "  return r_loss/i"
      ],
      "execution_count": 628,
      "outputs": []
    },
    {
      "cell_type": "code",
      "metadata": {
        "id": "whGsdvMSzIUK"
      },
      "source": [
        "class MosaicDataset1(Dataset):\n",
        "  \"\"\"MosaicDataset dataset.\"\"\"\n",
        "\n",
        "  def __init__(self, mosaic_list, mosaic_label,fore_idx):\n",
        "    \"\"\"\n",
        "      Args:\n",
        "        csv_file (string): Path to the csv file with annotations.\n",
        "        root_dir (string): Directory with all the images.\n",
        "        transform (callable, optional): Optional transform to be applied\n",
        "            on a sample.\n",
        "    \"\"\"\n",
        "    self.mosaic = mosaic_list\n",
        "    self.label = mosaic_label\n",
        "    self.fore_idx = fore_idx\n",
        "    \n",
        "  def __len__(self):\n",
        "    return len(self.label)\n",
        "\n",
        "  def __getitem__(self, idx):\n",
        "    return self.mosaic[idx] , self.label[idx] , self.fore_idx[idx]"
      ],
      "execution_count": 629,
      "outputs": []
    },
    {
      "cell_type": "code",
      "metadata": {
        "id": "fP5NPRPmb904"
      },
      "source": [
        "batch = 250\n",
        "msd = MosaicDataset1(mosaic_list_of_images, mosaic_label, fore_idx)\n",
        "train_loader = DataLoader( msd,batch_size= batch ,shuffle=True)"
      ],
      "execution_count": 630,
      "outputs": []
    },
    {
      "cell_type": "markdown",
      "metadata": {
        "id": "ilzPfrih82Bg"
      },
      "source": [
        "**Focus Net**"
      ]
    },
    {
      "cell_type": "code",
      "metadata": {
        "id": "KzN3Bbs8c0fA"
      },
      "source": [
        "class Focus_deep(nn.Module):\n",
        "    '''\n",
        "       deep focus network averaged at zeroth layer\n",
        "       input : elemental data\n",
        "    '''\n",
        "    def __init__(self,inputs,output,K,d):\n",
        "        super(Focus_deep,self).__init__()\n",
        "        self.inputs = inputs\n",
        "        self.output = output\n",
        "        self.K = K\n",
        "        self.d  = d\n",
        "        self.linear1 = nn.Linear(self.inputs,300)  #,self.output)\n",
        "        self.linear2 = nn.Linear(300,self.output) \n",
        "    def forward(self,z):\n",
        "        batch = z.shape[0]\n",
        "        x = torch.zeros([batch,self.K],dtype=torch.float64)\n",
        "        y = torch.zeros([batch,self.d], dtype=torch.float64)\n",
        "        x,y = x.to(\"cuda\"),y.to(\"cuda\")\n",
        "        for i in range(self.K):\n",
        "            x[:,i] = self.helper(z[:,i] )[:,0]  # self.d*i:self.d*i+self.d\n",
        "        x = F.softmax(x,dim=1)   # alphas\n",
        "        x1 = x[:,0]\n",
        "        for i in range(self.K):\n",
        "            x1 = x[:,i]          \n",
        "            y = y+torch.mul(x1[:,None],z[:,i])  # self.d*i:self.d*i+self.d\n",
        "        return y , x \n",
        "    def helper(self,x):\n",
        "      x = F.relu(self.linear1(x))\n",
        "      x = self.linear2(x)\n",
        "      return x\n"
      ],
      "execution_count": 631,
      "outputs": []
    },
    {
      "cell_type": "markdown",
      "metadata": {
        "id": "EjrL0Zb484KO"
      },
      "source": [
        "**Classification Net**"
      ]
    },
    {
      "cell_type": "code",
      "metadata": {
        "id": "w0W0oKcClFZY"
      },
      "source": [
        "class Classification_deep(nn.Module):\n",
        "    '''\n",
        "       input : elemental data\n",
        "       deep classification module data averaged at zeroth layer\n",
        "    '''\n",
        "    def __init__(self,inputs,output):\n",
        "        super(Classification_deep,self).__init__()\n",
        "        self.inputs = inputs\n",
        "        self.output = output\n",
        "        self.linear1 = nn.Linear(self.inputs,200)\n",
        "        self.linear2 = nn.Linear(200,self.output)\n",
        "\n",
        "    def forward(self,x):\n",
        "      x = F.relu(self.linear1(x))\n",
        "      x = self.linear2(x)\n",
        "      return x    "
      ],
      "execution_count": 632,
      "outputs": []
    },
    {
      "cell_type": "markdown",
      "metadata": {
        "id": "ByKHrKis88lW"
      },
      "source": [
        ""
      ]
    },
    {
      "cell_type": "code",
      "metadata": {
        "id": "FAPjSKkrd0ru"
      },
      "source": [
        "where = Focus_deep(5,1,9,5).double()\n",
        "what = Classification_deep(5,3).double()\n",
        "where = where.to(\"cuda\")\n",
        "what = what.to(\"cuda\")"
      ],
      "execution_count": 633,
      "outputs": []
    },
    {
      "cell_type": "code",
      "metadata": {
        "id": "ehAfQnNwgFYX"
      },
      "source": [
        "def calculate_attn_loss(dataloader,what,where,criter,k):\n",
        "  what.eval()\n",
        "  where.eval()\n",
        "  r_loss = 0\n",
        "  alphas = []\n",
        "  lbls = []\n",
        "  pred = []\n",
        "  fidices = []\n",
        "  with torch.no_grad():\n",
        "    for i, data in enumerate(dataloader, 0):\n",
        "      inputs, labels, fidx = data\n",
        "      lbls.append(labels)\n",
        "      fidices.append(fidx)\n",
        "      inputs = inputs.double()\n",
        "      inputs, labels = inputs.to(\"cuda\"),labels.to(\"cuda\")\n",
        "      avg,alpha = where(inputs)\n",
        "      outputs = what(avg)\n",
        "      _, predicted = torch.max(outputs.data, 1)\n",
        "      pred.append(predicted.cpu().numpy())\n",
        "      alphas.append(alpha.cpu().numpy())\n",
        "\n",
        "      ent = np.sum(entropy(alpha.cpu().detach().numpy(), base=2, axis=1))/batch\n",
        "      # mx,_ = torch.max(alpha,1)\n",
        "      # entropy = np.mean(-np.log2(mx.cpu().detach().numpy()))\n",
        "      # print(\"entropy of batch\", entropy)\n",
        "\n",
        "      loss = criter(outputs, labels) + k*ent\n",
        "      r_loss += loss.item()\n",
        "  alphas = np.concatenate(alphas,axis=0)\n",
        "  pred = np.concatenate(pred,axis=0)\n",
        "  lbls = np.concatenate(lbls,axis=0)\n",
        "  fidices = np.concatenate(fidices,axis=0)\n",
        "  #print(alphas.shape,pred.shape,lbls.shape,fidices.shape) \n",
        "  analysis = analyse_data(alphas,lbls,pred,fidices)\n",
        "  return r_loss/i,analysis"
      ],
      "execution_count": 634,
      "outputs": []
    },
    {
      "cell_type": "code",
      "metadata": {
        "id": "6e9HQJMzxBhp"
      },
      "source": [
        "def analyse_data(alphas,lbls,predicted,f_idx):\n",
        "    '''\n",
        "       analysis data is created here\n",
        "    '''\n",
        "    batch = len(predicted)\n",
        "    amth,alth,ftpt,ffpt,ftpf,ffpf = 0,0,0,0,0,0\n",
        "    for j in range (batch):\n",
        "      focus = np.argmax(alphas[j])\n",
        "      if(alphas[j][focus] >= 0.5):\n",
        "        amth +=1\n",
        "      else:\n",
        "        alth +=1\n",
        "      if(focus == f_idx[j] and predicted[j] == lbls[j]):\n",
        "        ftpt += 1\n",
        "      elif(focus != f_idx[j] and predicted[j] == lbls[j]):\n",
        "        ffpt +=1\n",
        "      elif(focus == f_idx[j] and predicted[j] != lbls[j]):\n",
        "        ftpf +=1\n",
        "      elif(focus != f_idx[j] and predicted[j] != lbls[j]):\n",
        "        ffpf +=1\n",
        "    #print(sum(predicted==lbls),ftpt+ffpt)\n",
        "    return [ftpt,ffpt,ftpf,ffpf,amth,alth]"
      ],
      "execution_count": 635,
      "outputs": []
    },
    {
      "cell_type": "code",
      "metadata": {
        "colab": {
          "base_uri": "https://localhost:8080/"
        },
        "id": "MOfxUJZ_eFKw",
        "outputId": "d8d973c1-96a1-42cf-d619-640b3d7e03a6"
      },
      "source": [
        "print(\"--\"*40)\n",
        "criterion = nn.CrossEntropyLoss()\n",
        "optimizer_where = optim.Adam(where.parameters(),lr =0.001)\n",
        "optimizer_what = optim.Adam(what.parameters(), lr=0.001)\n",
        "acti = []\n",
        "loss_curi = []\n",
        "analysis_data = []\n",
        "epochs = 1000\n",
        "k=0.1\n",
        "running_loss,anlys_data = calculate_attn_loss(train_loader,what,where,criterion,k)\n",
        "loss_curi.append(running_loss)\n",
        "analysis_data.append(anlys_data)\n",
        "print('epoch: [%d ] loss: %.3f' %(0,running_loss)) \n",
        "for epoch in range(epochs): # loop over the dataset multiple times\n",
        "  ep_lossi = []\n",
        "  running_loss = 0.0\n",
        "  what.train()\n",
        "  where.train()\n",
        "  for i, data in enumerate(train_loader, 0):\n",
        "    # get the inputs\n",
        "    inputs, labels,_ = data\n",
        "    inputs = inputs.double()\n",
        "    inputs, labels = inputs.to(\"cuda\"),labels.to(\"cuda\")\n",
        "    # zero the parameter gradients\n",
        "    optimizer_where.zero_grad()\n",
        "    optimizer_what.zero_grad()\n",
        "    # forward + backward + optimize\n",
        "    avg, alpha = where(inputs)\n",
        "    outputs = what(avg)\n",
        "\n",
        "    ent = np.sum(entropy(alpha.cpu().detach().numpy(), base=2, axis=1))/batch #entropy(alpha.cpu().numpy(), base=2, axis=1)\n",
        "    # mx,_ = torch.max(alpha,1)\n",
        "    # entropy = np.mean(-np.log2(mx.cpu().detach().numpy()))\n",
        "    # print(\"entropy of batch\", entropy)\n",
        "    \n",
        "    loss = criterion(outputs, labels) + k*ent\n",
        "\n",
        "    # loss = criterion(outputs, labels)\n",
        "    # print statistics\n",
        "    running_loss += loss.item()\n",
        "    loss.backward()\n",
        "    optimizer_where.step()\n",
        "    optimizer_what.step()\n",
        "\n",
        "  running_loss,anls_data = calculate_attn_loss(train_loader,what,where,criterion,k)\n",
        "  analysis_data.append(anls_data)\n",
        "  print('epoch: [%d] loss: %.3f' %(epoch + 1,running_loss)) \n",
        "  loss_curi.append(running_loss)   #loss per epoch\n",
        "  if running_loss<=0.05:\n",
        "    break\n",
        "print('Finished Training')\n",
        "correct = 0\n",
        "total = 0\n",
        "with torch.no_grad():\n",
        "  for data in train_loader:\n",
        "    images, labels,_ = data\n",
        "    images = images.double()\n",
        "    images, labels = images.to(\"cuda\"), labels.to(\"cuda\")\n",
        "    avg, alpha = where(images)\n",
        "    outputs  = what(avg)\n",
        "    _, predicted = torch.max(outputs.data, 1)\n",
        "    total += labels.size(0)\n",
        "    correct += (predicted == labels).sum().item()\n",
        "\n",
        "print('Accuracy of the network on the 3000 train images: %d %%' % (  100 * correct / total))\n",
        "    "
      ],
      "execution_count": 636,
      "outputs": [
        {
          "output_type": "stream",
          "text": [
            "--------------------------------------------------------------------------------\n",
            "epoch: [0 ] loss: 2.284\n",
            "epoch: [1] loss: 1.410\n",
            "epoch: [2] loss: 1.328\n",
            "epoch: [3] loss: 1.311\n",
            "epoch: [4] loss: 1.315\n",
            "epoch: [5] loss: 1.318\n",
            "epoch: [6] loss: 1.325\n",
            "epoch: [7] loss: 1.342\n",
            "epoch: [8] loss: 1.342\n",
            "epoch: [9] loss: 1.344\n",
            "epoch: [10] loss: 1.383\n",
            "epoch: [11] loss: 1.054\n",
            "epoch: [12] loss: 0.658\n",
            "epoch: [13] loss: 0.544\n",
            "epoch: [14] loss: 0.480\n",
            "epoch: [15] loss: 0.414\n",
            "epoch: [16] loss: 0.374\n",
            "epoch: [17] loss: 0.331\n",
            "epoch: [18] loss: 0.301\n",
            "epoch: [19] loss: 0.275\n",
            "epoch: [20] loss: 0.254\n",
            "epoch: [21] loss: 0.234\n",
            "epoch: [22] loss: 0.220\n",
            "epoch: [23] loss: 0.204\n",
            "epoch: [24] loss: 0.192\n",
            "epoch: [25] loss: 0.181\n",
            "epoch: [26] loss: 0.172\n",
            "epoch: [27] loss: 0.165\n",
            "epoch: [28] loss: 0.155\n",
            "epoch: [29] loss: 0.150\n",
            "epoch: [30] loss: 0.142\n",
            "epoch: [31] loss: 0.136\n",
            "epoch: [32] loss: 0.131\n",
            "epoch: [33] loss: 0.127\n",
            "epoch: [34] loss: 0.122\n",
            "epoch: [35] loss: 0.119\n",
            "epoch: [36] loss: 0.116\n",
            "epoch: [37] loss: 0.111\n",
            "epoch: [38] loss: 0.108\n",
            "epoch: [39] loss: 0.105\n",
            "epoch: [40] loss: 0.102\n",
            "epoch: [41] loss: 0.101\n",
            "epoch: [42] loss: 0.097\n",
            "epoch: [43] loss: 0.095\n",
            "epoch: [44] loss: 0.095\n",
            "epoch: [45] loss: 0.091\n",
            "epoch: [46] loss: 0.090\n",
            "epoch: [47] loss: 0.087\n",
            "epoch: [48] loss: 0.086\n",
            "epoch: [49] loss: 0.086\n",
            "epoch: [50] loss: 0.083\n",
            "epoch: [51] loss: 0.082\n",
            "epoch: [52] loss: 0.080\n",
            "epoch: [53] loss: 0.080\n",
            "epoch: [54] loss: 0.078\n",
            "epoch: [55] loss: 0.078\n",
            "epoch: [56] loss: 0.076\n",
            "epoch: [57] loss: 0.078\n",
            "epoch: [58] loss: 0.076\n",
            "epoch: [59] loss: 0.076\n",
            "epoch: [60] loss: 0.073\n",
            "epoch: [61] loss: 0.074\n",
            "epoch: [62] loss: 0.074\n",
            "epoch: [63] loss: 0.073\n",
            "epoch: [64] loss: 0.074\n",
            "epoch: [65] loss: 0.074\n",
            "epoch: [66] loss: 0.071\n",
            "epoch: [67] loss: 0.071\n",
            "epoch: [68] loss: 0.069\n",
            "epoch: [69] loss: 0.070\n",
            "epoch: [70] loss: 0.069\n",
            "epoch: [71] loss: 0.070\n",
            "epoch: [72] loss: 0.068\n",
            "epoch: [73] loss: 0.067\n",
            "epoch: [74] loss: 0.071\n",
            "epoch: [75] loss: 0.067\n",
            "epoch: [76] loss: 0.069\n",
            "epoch: [77] loss: 0.067\n",
            "epoch: [78] loss: 0.068\n",
            "epoch: [79] loss: 0.067\n",
            "epoch: [80] loss: 0.065\n",
            "epoch: [81] loss: 0.066\n",
            "epoch: [82] loss: 0.066\n",
            "epoch: [83] loss: 0.068\n",
            "epoch: [84] loss: 0.066\n",
            "epoch: [85] loss: 0.065\n",
            "epoch: [86] loss: 0.064\n",
            "epoch: [87] loss: 0.067\n",
            "epoch: [88] loss: 0.065\n",
            "epoch: [89] loss: 0.065\n",
            "epoch: [90] loss: 0.063\n",
            "epoch: [91] loss: 0.062\n",
            "epoch: [92] loss: 0.066\n",
            "epoch: [93] loss: 0.065\n",
            "epoch: [94] loss: 0.062\n",
            "epoch: [95] loss: 0.063\n",
            "epoch: [96] loss: 0.064\n",
            "epoch: [97] loss: 0.065\n",
            "epoch: [98] loss: 0.063\n",
            "epoch: [99] loss: 0.063\n",
            "epoch: [100] loss: 0.064\n",
            "epoch: [101] loss: 0.062\n",
            "epoch: [102] loss: 0.061\n",
            "epoch: [103] loss: 0.064\n",
            "epoch: [104] loss: 0.063\n",
            "epoch: [105] loss: 0.063\n",
            "epoch: [106] loss: 0.063\n",
            "epoch: [107] loss: 0.065\n",
            "epoch: [108] loss: 0.062\n",
            "epoch: [109] loss: 0.061\n",
            "epoch: [110] loss: 0.062\n",
            "epoch: [111] loss: 0.061\n",
            "epoch: [112] loss: 0.061\n",
            "epoch: [113] loss: 0.061\n",
            "epoch: [114] loss: 0.061\n",
            "epoch: [115] loss: 0.062\n",
            "epoch: [116] loss: 0.060\n",
            "epoch: [117] loss: 0.061\n",
            "epoch: [118] loss: 0.061\n",
            "epoch: [119] loss: 0.059\n",
            "epoch: [120] loss: 0.062\n",
            "epoch: [121] loss: 0.061\n",
            "epoch: [122] loss: 0.061\n",
            "epoch: [123] loss: 0.061\n",
            "epoch: [124] loss: 0.062\n",
            "epoch: [125] loss: 0.061\n",
            "epoch: [126] loss: 0.059\n",
            "epoch: [127] loss: 0.060\n",
            "epoch: [128] loss: 0.062\n",
            "epoch: [129] loss: 0.059\n",
            "epoch: [130] loss: 0.058\n",
            "epoch: [131] loss: 0.062\n",
            "epoch: [132] loss: 0.058\n",
            "epoch: [133] loss: 0.059\n",
            "epoch: [134] loss: 0.060\n",
            "epoch: [135] loss: 0.059\n",
            "epoch: [136] loss: 0.060\n",
            "epoch: [137] loss: 0.060\n",
            "epoch: [138] loss: 0.061\n",
            "epoch: [139] loss: 0.059\n",
            "epoch: [140] loss: 0.061\n",
            "epoch: [141] loss: 0.057\n",
            "epoch: [142] loss: 0.059\n",
            "epoch: [143] loss: 0.059\n",
            "epoch: [144] loss: 0.058\n",
            "epoch: [145] loss: 0.059\n",
            "epoch: [146] loss: 0.060\n",
            "epoch: [147] loss: 0.058\n",
            "epoch: [148] loss: 0.058\n",
            "epoch: [149] loss: 0.059\n",
            "epoch: [150] loss: 0.058\n",
            "epoch: [151] loss: 0.058\n",
            "epoch: [152] loss: 0.059\n",
            "epoch: [153] loss: 0.058\n",
            "epoch: [154] loss: 0.059\n",
            "epoch: [155] loss: 0.058\n",
            "epoch: [156] loss: 0.059\n",
            "epoch: [157] loss: 0.058\n",
            "epoch: [158] loss: 0.059\n",
            "epoch: [159] loss: 0.057\n",
            "epoch: [160] loss: 0.058\n",
            "epoch: [161] loss: 0.058\n",
            "epoch: [162] loss: 0.060\n",
            "epoch: [163] loss: 0.055\n",
            "epoch: [164] loss: 0.060\n",
            "epoch: [165] loss: 0.058\n",
            "epoch: [166] loss: 0.058\n",
            "epoch: [167] loss: 0.055\n",
            "epoch: [168] loss: 0.058\n",
            "epoch: [169] loss: 0.057\n",
            "epoch: [170] loss: 0.057\n",
            "epoch: [171] loss: 0.058\n",
            "epoch: [172] loss: 0.059\n",
            "epoch: [173] loss: 0.058\n",
            "epoch: [174] loss: 0.057\n",
            "epoch: [175] loss: 0.058\n",
            "epoch: [176] loss: 0.057\n",
            "epoch: [177] loss: 0.055\n",
            "epoch: [178] loss: 0.058\n",
            "epoch: [179] loss: 0.058\n",
            "epoch: [180] loss: 0.057\n",
            "epoch: [181] loss: 0.057\n",
            "epoch: [182] loss: 0.057\n",
            "epoch: [183] loss: 0.057\n",
            "epoch: [184] loss: 0.057\n",
            "epoch: [185] loss: 0.058\n",
            "epoch: [186] loss: 0.057\n",
            "epoch: [187] loss: 0.057\n",
            "epoch: [188] loss: 0.058\n",
            "epoch: [189] loss: 0.056\n",
            "epoch: [190] loss: 0.057\n",
            "epoch: [191] loss: 0.056\n",
            "epoch: [192] loss: 0.056\n",
            "epoch: [193] loss: 0.057\n",
            "epoch: [194] loss: 0.057\n",
            "epoch: [195] loss: 0.057\n",
            "epoch: [196] loss: 0.057\n",
            "epoch: [197] loss: 0.056\n",
            "epoch: [198] loss: 0.057\n",
            "epoch: [199] loss: 0.057\n",
            "epoch: [200] loss: 0.056\n",
            "epoch: [201] loss: 0.056\n",
            "epoch: [202] loss: 0.057\n",
            "epoch: [203] loss: 0.056\n",
            "epoch: [204] loss: 0.056\n",
            "epoch: [205] loss: 0.057\n",
            "epoch: [206] loss: 0.057\n",
            "epoch: [207] loss: 0.055\n",
            "epoch: [208] loss: 0.057\n",
            "epoch: [209] loss: 0.057\n",
            "epoch: [210] loss: 0.057\n",
            "epoch: [211] loss: 0.057\n",
            "epoch: [212] loss: 0.056\n",
            "epoch: [213] loss: 0.057\n",
            "epoch: [214] loss: 0.055\n",
            "epoch: [215] loss: 0.056\n",
            "epoch: [216] loss: 0.056\n",
            "epoch: [217] loss: 0.056\n",
            "epoch: [218] loss: 0.055\n",
            "epoch: [219] loss: 0.057\n",
            "epoch: [220] loss: 0.056\n",
            "epoch: [221] loss: 0.055\n",
            "epoch: [222] loss: 0.055\n",
            "epoch: [223] loss: 0.056\n",
            "epoch: [224] loss: 0.056\n",
            "epoch: [225] loss: 0.056\n",
            "epoch: [226] loss: 0.056\n",
            "epoch: [227] loss: 0.056\n",
            "epoch: [228] loss: 0.055\n",
            "epoch: [229] loss: 0.055\n",
            "epoch: [230] loss: 0.056\n",
            "epoch: [231] loss: 0.056\n",
            "epoch: [232] loss: 0.055\n",
            "epoch: [233] loss: 0.056\n",
            "epoch: [234] loss: 0.055\n",
            "epoch: [235] loss: 0.057\n",
            "epoch: [236] loss: 0.055\n",
            "epoch: [237] loss: 0.055\n",
            "epoch: [238] loss: 0.055\n",
            "epoch: [239] loss: 0.055\n",
            "epoch: [240] loss: 0.056\n",
            "epoch: [241] loss: 0.055\n",
            "epoch: [242] loss: 0.055\n",
            "epoch: [243] loss: 0.056\n",
            "epoch: [244] loss: 0.056\n",
            "epoch: [245] loss: 0.054\n",
            "epoch: [246] loss: 0.055\n",
            "epoch: [247] loss: 0.055\n",
            "epoch: [248] loss: 0.056\n",
            "epoch: [249] loss: 0.055\n",
            "epoch: [250] loss: 0.054\n",
            "epoch: [251] loss: 0.056\n",
            "epoch: [252] loss: 0.056\n",
            "epoch: [253] loss: 0.055\n",
            "epoch: [254] loss: 0.053\n",
            "epoch: [255] loss: 0.057\n",
            "epoch: [256] loss: 0.055\n",
            "epoch: [257] loss: 0.055\n",
            "epoch: [258] loss: 0.054\n",
            "epoch: [259] loss: 0.056\n",
            "epoch: [260] loss: 0.054\n",
            "epoch: [261] loss: 0.055\n",
            "epoch: [262] loss: 0.055\n",
            "epoch: [263] loss: 0.054\n",
            "epoch: [264] loss: 0.055\n",
            "epoch: [265] loss: 0.055\n",
            "epoch: [266] loss: 0.055\n",
            "epoch: [267] loss: 0.055\n",
            "epoch: [268] loss: 0.054\n",
            "epoch: [269] loss: 0.054\n",
            "epoch: [270] loss: 0.056\n",
            "epoch: [271] loss: 0.054\n",
            "epoch: [272] loss: 0.053\n",
            "epoch: [273] loss: 0.055\n",
            "epoch: [274] loss: 0.056\n",
            "epoch: [275] loss: 0.053\n",
            "epoch: [276] loss: 0.054\n",
            "epoch: [277] loss: 0.054\n",
            "epoch: [278] loss: 0.055\n",
            "epoch: [279] loss: 0.054\n",
            "epoch: [280] loss: 0.054\n",
            "epoch: [281] loss: 0.055\n",
            "epoch: [282] loss: 0.055\n",
            "epoch: [283] loss: 0.053\n",
            "epoch: [284] loss: 0.056\n",
            "epoch: [285] loss: 0.053\n",
            "epoch: [286] loss: 0.054\n",
            "epoch: [287] loss: 0.055\n",
            "epoch: [288] loss: 0.054\n",
            "epoch: [289] loss: 0.054\n",
            "epoch: [290] loss: 0.054\n",
            "epoch: [291] loss: 0.054\n",
            "epoch: [292] loss: 0.054\n",
            "epoch: [293] loss: 0.054\n",
            "epoch: [294] loss: 0.054\n",
            "epoch: [295] loss: 0.054\n",
            "epoch: [296] loss: 0.055\n",
            "epoch: [297] loss: 0.054\n",
            "epoch: [298] loss: 0.054\n",
            "epoch: [299] loss: 0.053\n",
            "epoch: [300] loss: 0.056\n",
            "epoch: [301] loss: 0.054\n",
            "epoch: [302] loss: 0.052\n",
            "epoch: [303] loss: 0.055\n",
            "epoch: [304] loss: 0.053\n",
            "epoch: [305] loss: 0.054\n",
            "epoch: [306] loss: 0.055\n",
            "epoch: [307] loss: 0.053\n",
            "epoch: [308] loss: 0.054\n",
            "epoch: [309] loss: 0.054\n",
            "epoch: [310] loss: 0.053\n",
            "epoch: [311] loss: 0.053\n",
            "epoch: [312] loss: 0.055\n",
            "epoch: [313] loss: 0.054\n",
            "epoch: [314] loss: 0.053\n",
            "epoch: [315] loss: 0.053\n",
            "epoch: [316] loss: 0.054\n",
            "epoch: [317] loss: 0.054\n",
            "epoch: [318] loss: 0.054\n",
            "epoch: [319] loss: 0.054\n",
            "epoch: [320] loss: 0.054\n",
            "epoch: [321] loss: 0.054\n",
            "epoch: [322] loss: 0.054\n",
            "epoch: [323] loss: 0.054\n",
            "epoch: [324] loss: 0.053\n",
            "epoch: [325] loss: 0.054\n",
            "epoch: [326] loss: 0.054\n",
            "epoch: [327] loss: 0.054\n",
            "epoch: [328] loss: 0.053\n",
            "epoch: [329] loss: 0.053\n",
            "epoch: [330] loss: 0.055\n",
            "epoch: [331] loss: 0.052\n",
            "epoch: [332] loss: 0.054\n",
            "epoch: [333] loss: 0.053\n",
            "epoch: [334] loss: 0.054\n",
            "epoch: [335] loss: 0.053\n",
            "epoch: [336] loss: 0.054\n",
            "epoch: [337] loss: 0.054\n",
            "epoch: [338] loss: 0.054\n",
            "epoch: [339] loss: 0.053\n",
            "epoch: [340] loss: 0.053\n",
            "epoch: [341] loss: 0.054\n",
            "epoch: [342] loss: 0.053\n",
            "epoch: [343] loss: 0.054\n",
            "epoch: [344] loss: 0.054\n",
            "epoch: [345] loss: 0.054\n",
            "epoch: [346] loss: 0.054\n",
            "epoch: [347] loss: 0.053\n",
            "epoch: [348] loss: 0.053\n",
            "epoch: [349] loss: 0.054\n",
            "epoch: [350] loss: 0.053\n",
            "epoch: [351] loss: 0.054\n",
            "epoch: [352] loss: 0.054\n",
            "epoch: [353] loss: 0.052\n",
            "epoch: [354] loss: 0.054\n",
            "epoch: [355] loss: 0.053\n",
            "epoch: [356] loss: 0.054\n",
            "epoch: [357] loss: 0.053\n",
            "epoch: [358] loss: 0.054\n",
            "epoch: [359] loss: 0.053\n",
            "epoch: [360] loss: 0.053\n",
            "epoch: [361] loss: 0.054\n",
            "epoch: [362] loss: 0.053\n",
            "epoch: [363] loss: 0.053\n",
            "epoch: [364] loss: 0.053\n",
            "epoch: [365] loss: 0.053\n",
            "epoch: [366] loss: 0.053\n",
            "epoch: [367] loss: 0.054\n",
            "epoch: [368] loss: 0.053\n",
            "epoch: [369] loss: 0.053\n",
            "epoch: [370] loss: 0.054\n",
            "epoch: [371] loss: 0.052\n",
            "epoch: [372] loss: 0.054\n",
            "epoch: [373] loss: 0.054\n",
            "epoch: [374] loss: 0.052\n",
            "epoch: [375] loss: 0.054\n",
            "epoch: [376] loss: 0.053\n",
            "epoch: [377] loss: 0.052\n",
            "epoch: [378] loss: 0.053\n",
            "epoch: [379] loss: 0.054\n",
            "epoch: [380] loss: 0.053\n",
            "epoch: [381] loss: 0.053\n",
            "epoch: [382] loss: 0.053\n",
            "epoch: [383] loss: 0.053\n",
            "epoch: [384] loss: 0.053\n",
            "epoch: [385] loss: 0.053\n",
            "epoch: [386] loss: 0.053\n",
            "epoch: [387] loss: 0.053\n",
            "epoch: [388] loss: 0.053\n",
            "epoch: [389] loss: 0.053\n",
            "epoch: [390] loss: 0.053\n",
            "epoch: [391] loss: 0.053\n",
            "epoch: [392] loss: 0.053\n",
            "epoch: [393] loss: 0.053\n",
            "epoch: [394] loss: 0.053\n",
            "epoch: [395] loss: 0.053\n",
            "epoch: [396] loss: 0.053\n",
            "epoch: [397] loss: 0.053\n",
            "epoch: [398] loss: 0.054\n",
            "epoch: [399] loss: 0.052\n",
            "epoch: [400] loss: 0.053\n",
            "epoch: [401] loss: 0.053\n",
            "epoch: [402] loss: 0.053\n",
            "epoch: [403] loss: 0.053\n",
            "epoch: [404] loss: 0.052\n",
            "epoch: [405] loss: 0.053\n",
            "epoch: [406] loss: 0.053\n",
            "epoch: [407] loss: 0.053\n",
            "epoch: [408] loss: 0.053\n",
            "epoch: [409] loss: 0.053\n",
            "epoch: [410] loss: 0.052\n",
            "epoch: [411] loss: 0.052\n",
            "epoch: [412] loss: 0.053\n",
            "epoch: [413] loss: 0.053\n",
            "epoch: [414] loss: 0.053\n",
            "epoch: [415] loss: 0.053\n",
            "epoch: [416] loss: 0.051\n",
            "epoch: [417] loss: 0.053\n",
            "epoch: [418] loss: 0.052\n",
            "epoch: [419] loss: 0.052\n",
            "epoch: [420] loss: 0.053\n",
            "epoch: [421] loss: 0.053\n",
            "epoch: [422] loss: 0.053\n",
            "epoch: [423] loss: 0.053\n",
            "epoch: [424] loss: 0.052\n",
            "epoch: [425] loss: 0.053\n",
            "epoch: [426] loss: 0.053\n",
            "epoch: [427] loss: 0.053\n",
            "epoch: [428] loss: 0.052\n",
            "epoch: [429] loss: 0.052\n",
            "epoch: [430] loss: 0.052\n",
            "epoch: [431] loss: 0.053\n",
            "epoch: [432] loss: 0.052\n",
            "epoch: [433] loss: 0.053\n",
            "epoch: [434] loss: 0.053\n",
            "epoch: [435] loss: 0.053\n",
            "epoch: [436] loss: 0.052\n",
            "epoch: [437] loss: 0.053\n",
            "epoch: [438] loss: 0.053\n",
            "epoch: [439] loss: 0.052\n",
            "epoch: [440] loss: 0.053\n",
            "epoch: [441] loss: 0.052\n",
            "epoch: [442] loss: 0.053\n",
            "epoch: [443] loss: 0.052\n",
            "epoch: [444] loss: 0.052\n",
            "epoch: [445] loss: 0.053\n",
            "epoch: [446] loss: 0.053\n",
            "epoch: [447] loss: 0.052\n",
            "epoch: [448] loss: 0.053\n",
            "epoch: [449] loss: 0.052\n",
            "epoch: [450] loss: 0.052\n",
            "epoch: [451] loss: 0.053\n",
            "epoch: [452] loss: 0.050\n",
            "Finished Training\n",
            "Accuracy of the network on the 3000 train images: 100 %\n"
          ],
          "name": "stdout"
        }
      ]
    },
    {
      "cell_type": "code",
      "metadata": {
        "id": "L31RVViMkYM-",
        "colab": {
          "base_uri": "https://localhost:8080/",
          "height": 374
        },
        "outputId": "664fd29f-9d9e-4d2c-dc28-04edadaa3a9b"
      },
      "source": [
        "analysis_data = np.array(analysis_data)\n",
        "plt.figure(figsize=(6,6))\n",
        "plt.plot(np.arange(0,epoch+2,1),analysis_data[:,0],label=\"ftpt\")\n",
        "plt.plot(np.arange(0,epoch+2,1),analysis_data[:,1],label=\"ffpt\")\n",
        "plt.plot(np.arange(0,epoch+2,1),analysis_data[:,2],label=\"ftpf\")\n",
        "plt.plot(np.arange(0,epoch+2,1),analysis_data[:,3],label=\"ffpf\")\n",
        "\n",
        "plt.legend(loc='center left', bbox_to_anchor=(1, 0.5))\n",
        "plt.savefig(\"trends_synthetic_300_300.png\",bbox_inches=\"tight\")\n",
        "plt.savefig(\"trends_synthetic_300_300.pdf\",bbox_inches=\"tight\")\n"
      ],
      "execution_count": 637,
      "outputs": [
        {
          "output_type": "display_data",
          "data": {
            "image/png": "[encoded data removed]",
            "text/plain": [
              "<Figure size 432x432 with 1 Axes>"
            ]
          },
          "metadata": {
            "tags": [],
            "needs_background": "light"
          }
        }
      ]
    },
    {
      "cell_type": "code",
      "metadata": {
        "id": "h5mag3jZ-LMe",
        "colab": {
          "base_uri": "https://localhost:8080/"
        },
        "outputId": "9e2b51e2-cb72-4590-c2f7-fffa0c02f615"
      },
      "source": [
        "analysis_data[-1,:2]/3000"
      ],
      "execution_count": 638,
      "outputs": [
        {
          "output_type": "execute_result",
          "data": {
            "text/plain": [
              "array([0.676, 0.324])"
            ]
          },
          "metadata": {
            "tags": []
          },
          "execution_count": 638
        }
      ]
    },
    {
      "cell_type": "code",
      "metadata": {
        "id": "DSxFtBWQ1M8O",
        "colab": {
          "base_uri": "https://localhost:8080/"
        },
        "outputId": "907f165b-63b7-4798-f5fd-429f90754ca5"
      },
      "source": [
        "running_loss,anls_data = calculate_attn_loss(train_loader,what,where,criterion,k)\r\n",
        "print(running_loss, anls_data)"
      ],
      "execution_count": 639,
      "outputs": [
        {
          "output_type": "stream",
          "text": [
            "0.049593835898486316 [2028, 972, 0, 0, 2602, 398]\n"
          ],
          "name": "stdout"
        }
      ]
    },
    {
      "cell_type": "code",
      "metadata": {
        "id": "ncIi9Jc92a4u"
      },
      "source": [
        "what.eval()\r\n",
        "where.eval()\r\n",
        "alphas = []\r\n",
        "max_alpha =[]\r\n",
        "alpha_ftpt=[]\r\n",
        "alpha_ffpt=[]\r\n",
        "alpha_ftpf=[]\r\n",
        "alpha_ffpf=[]\r\n",
        "argmax_more_than_half=0\r\n",
        "argmax_less_than_half=0\r\n",
        "cnt =0\r\n",
        "with torch.no_grad():\r\n",
        "  for i, data in enumerate(train_loader, 0):\r\n",
        "    inputs, labels, fidx = data\r\n",
        "    inputs = inputs.double()\r\n",
        "    inputs, labels = inputs.to(\"cuda\"),labels.to(\"cuda\")\r\n",
        "    avg, alphas = where(inputs)\r\n",
        "    outputs = what(avg)\r\n",
        "    _, predicted = torch.max(outputs.data, 1)\r\n",
        "    batch = len(predicted)\r\n",
        "    mx,_ = torch.max(alphas,1)\r\n",
        "    max_alpha.append(mx.cpu().detach().numpy())\r\n",
        "    for j in range (batch):\r\n",
        "      cnt+=1\r\n",
        "      focus = torch.argmax(alphas[j]).item()\r\n",
        "      if alphas[j][focus] >= 0.5 :\r\n",
        "        argmax_more_than_half += 1\r\n",
        "      else:\r\n",
        "        argmax_less_than_half += 1\r\n",
        "\r\n",
        "      if (focus == fidx[j].item() and predicted[j].item() == labels[j].item()):\r\n",
        "          alpha_ftpt.append(alphas[j][focus].item())\r\n",
        "          # print(focus, fore_idx[j].item(), predicted[j].item() , labels[j].item() )\r\n",
        "\r\n",
        "      elif (focus != fidx[j].item() and predicted[j].item() == labels[j].item()):\r\n",
        "          alpha_ffpt.append(alphas[j][focus].item())\r\n",
        "\r\n",
        "      elif (focus == fidx[j].item() and predicted[j].item() != labels[j].item()):\r\n",
        "          alpha_ftpf.append(alphas[j][focus].item())\r\n",
        "\r\n",
        "      elif (focus != fidx[j].item() and predicted[j].item() != labels[j].item()):\r\n",
        "          alpha_ffpf.append(alphas[j][focus].item())\r\n"
      ],
      "execution_count": 640,
      "outputs": []
    },
    {
      "cell_type": "code",
      "metadata": {
        "colab": {
          "base_uri": "https://localhost:8080/"
        },
        "id": "Z_3nbXu5Zw34",
        "outputId": "fd5f936c-6aa5-4d9e-ccbb-78e56671ecbf"
      },
      "source": [
        "np.sum(entropy(alphas.cpu().numpy(), base=2, axis=1))/batch"
      ],
      "execution_count": 641,
      "outputs": [
        {
          "output_type": "execute_result",
          "data": {
            "text/plain": [
              "0.5316495139709819"
            ]
          },
          "metadata": {
            "tags": []
          },
          "execution_count": 641
        }
      ]
    },
    {
      "cell_type": "code",
      "metadata": {
        "colab": {
          "base_uri": "https://localhost:8080/"
        },
        "id": "g7vDw6cn1q9M",
        "outputId": "76f80c1d-9689-4107-a682-aad34c66c90d"
      },
      "source": [
        "np.mean(-np.log2(mx.cpu().detach().numpy()))"
      ],
      "execution_count": 642,
      "outputs": [
        {
          "output_type": "execute_result",
          "data": {
            "text/plain": [
              "0.38396014388910366"
            ]
          },
          "metadata": {
            "tags": []
          },
          "execution_count": 642
        }
      ]
    },
    {
      "cell_type": "code",
      "metadata": {
        "id": "Tc43myxx2yGI"
      },
      "source": [
        "a = np.array([[0.1,0.9], [0.5, 0.5]])"
      ],
      "execution_count": 643,
      "outputs": []
    },
    {
      "cell_type": "code",
      "metadata": {
        "colab": {
          "base_uri": "https://localhost:8080/"
        },
        "id": "sUdhdSpB23BL",
        "outputId": "96aa5cd0-86b0-4855-9b5b-acec410e032b"
      },
      "source": [
        "-0.1*np.log2(0.1)-0.9*np.log2(0.9)"
      ],
      "execution_count": 644,
      "outputs": [
        {
          "output_type": "execute_result",
          "data": {
            "text/plain": [
              "0.4689955935892812"
            ]
          },
          "metadata": {
            "tags": []
          },
          "execution_count": 644
        }
      ]
    },
    {
      "cell_type": "code",
      "metadata": {
        "colab": {
          "base_uri": "https://localhost:8080/"
        },
        "id": "Z9AKu9cRW7Z5",
        "outputId": "abcd7f5d-630d-4b08-b3b7-880cb012f38f"
      },
      "source": [
        "entropy([9/10, 1/10], base=2), entropy([0.5, 0.5], base=2), entropy(a, base=2, axis=1)"
      ],
      "execution_count": 645,
      "outputs": [
        {
          "output_type": "execute_result",
          "data": {
            "text/plain": [
              "(0.46899559358928117, 1.0, array([0.46899559, 1.        ]))"
            ]
          },
          "metadata": {
            "tags": []
          },
          "execution_count": 645
        }
      ]
    },
    {
      "cell_type": "code",
      "metadata": {
        "colab": {
          "base_uri": "https://localhost:8080/"
        },
        "id": "uyEk81R43gPZ",
        "outputId": "a99c2882-7ace-4c37-9da1-b88e869735c8"
      },
      "source": [
        "np.mean(-np.log2(a))"
      ],
      "execution_count": 646,
      "outputs": [
        {
          "output_type": "execute_result",
          "data": {
            "text/plain": [
              "1.368482797083103"
            ]
          },
          "metadata": {
            "tags": []
          },
          "execution_count": 646
        }
      ]
    },
    {
      "cell_type": "code",
      "metadata": {
        "id": "wPE_6NQd3VHu",
        "colab": {
          "base_uri": "https://localhost:8080/"
        },
        "outputId": "58947602-00a2-4003-c82e-4ed025df96fb"
      },
      "source": [
        "max_alpha = np.concatenate(max_alpha,axis=0)\r\n",
        "print(max_alpha.shape, cnt)"
      ],
      "execution_count": 647,
      "outputs": [
        {
          "output_type": "stream",
          "text": [
            "(3000,) 3000\n"
          ],
          "name": "stdout"
        }
      ]
    },
    {
      "cell_type": "code",
      "metadata": {
        "id": "Bvgu92LY3Zke",
        "colab": {
          "base_uri": "https://localhost:8080/"
        },
        "outputId": "1bd811cb-485d-45fc-9f35-343656380659"
      },
      "source": [
        "np.array(alpha_ftpt).size, np.array(alpha_ffpt).size, np.array(alpha_ftpf).size, np.array(alpha_ffpf).size"
      ],
      "execution_count": 648,
      "outputs": [
        {
          "output_type": "execute_result",
          "data": {
            "text/plain": [
              "(2028, 972, 0, 0)"
            ]
          },
          "metadata": {
            "tags": []
          },
          "execution_count": 648
        }
      ]
    },
    {
      "cell_type": "code",
      "metadata": {
        "id": "_XtgiDDpZ8qH",
        "colab": {
          "base_uri": "https://localhost:8080/",
          "height": 390
        },
        "outputId": "ac59e884-a8ca-4658-8a2a-bec822dc81e1"
      },
      "source": [
        "plt.figure(figsize=(6,6))\r\n",
        "_,bins,_ = plt.hist(max_alpha,bins=50,color =\"c\")\r\n",
        "plt.title(\"alpha values histogram\")\r\n",
        "plt.savefig(\"attention_model_2_hist\")"
      ],
      "execution_count": 649,
      "outputs": [
        {
          "output_type": "display_data",
          "data": {
            "image/png": "[encoded data removed]",
            "text/plain": [
              "<Figure size 432x432 with 1 Axes>"
            ]
          },
          "metadata": {
            "tags": [],
            "needs_background": "light"
          }
        }
      ]
    },
    {
      "cell_type": "code",
      "metadata": {
        "id": "4uTx4G6PeOgH",
        "colab": {
          "base_uri": "https://localhost:8080/",
          "height": 390
        },
        "outputId": "02712dee-c8e6-4c02-93e8-36de063eebed"
      },
      "source": [
        "plt.figure(figsize=(6,6))\r\n",
        "_,bins,_ = plt.hist(np.array(alpha_ftpt),bins=50,color =\"c\")\r\n",
        "plt.title(\"alpha values in ftpt\")\r\n",
        "plt.savefig(\"attention_model_2_hist\")"
      ],
      "execution_count": 650,
      "outputs": [
        {
          "output_type": "display_data",
          "data": {
            "image/png": "[encoded data removed]",
            "text/plain": [
              "<Figure size 432x432 with 1 Axes>"
            ]
          },
          "metadata": {
            "tags": [],
            "needs_background": "light"
          }
        }
      ]
    },
    {
      "cell_type": "code",
      "metadata": {
        "id": "pZ2Nn1IneTkT",
        "colab": {
          "base_uri": "https://localhost:8080/",
          "height": 390
        },
        "outputId": "42f2cd1d-c7e5-4623-fef1-d39fb49f8469"
      },
      "source": [
        "plt.figure(figsize=(6,6))\r\n",
        "_,bins,_ = plt.hist(np.array(alpha_ffpt),bins=50,color =\"c\")\r\n",
        "plt.title(\"alpha values in ffpt\")\r\n",
        "plt.savefig(\"attention_model_2_hist\")"
      ],
      "execution_count": 651,
      "outputs": [
        {
          "output_type": "display_data",
          "data": {
            "image/png": "[encoded data removed]",
            "text/plain": [
              "<Figure size 432x432 with 1 Axes>"
            ]
          },
          "metadata": {
            "tags": [],
            "needs_background": "light"
          }
        }
      ]
    }
  ]
}