{
  "nbformat": 4,
  "nbformat_minor": 0,
  "metadata": {
    "colab": {
      "name": "inception net on cifar equal true train data",
      "provenance": [],
      "collapsed_sections": []
    },
    "kernelspec": {
      "name": "python3",
      "display_name": "Python 3"
    },
    "accelerator": "GPU"
  },
  "cells": [
    {
      "cell_type": "code",
      "metadata": {
        "id": "7oi22T390nIu",
        "colab_type": "code",
        "colab": {}
      },
      "source": [
        "import numpy as np\n",
        "import pandas as pd\n",
        "from matplotlib import pyplot as plt\n",
        "\n",
        "\n",
        "import torch\n",
        "import torchvision\n",
        "import torchvision.transforms as transforms\n",
        "\n",
        "\n",
        "import torch.nn as nn\n",
        "import torch.nn.functional as F\n",
        "import torch.optim as optim\n",
        "\n",
        "\n",
        "%matplotlib inline"
      ],
      "execution_count": 0,
      "outputs": []
    },
    {
      "cell_type": "code",
      "metadata": {
        "id": "TqD8ERO90pPp",
        "colab_type": "code",
        "colab": {}
      },
      "source": [
        "transform = transforms.Compose(\n",
        "    [transforms.CenterCrop((28,28)),transforms.ToTensor(),transforms.Normalize((0.5, 0.5, 0.5), (0.5, 0.5, 0.5))])\n",
        "# transform = transforms.Compose(\n",
        "#     [transforms.ToTensor(),transforms.CenterCrop(28,28)])"
      ],
      "execution_count": 0,
      "outputs": []
    },
    {
      "cell_type": "code",
      "metadata": {
        "id": "r2pftMQS0mkt",
        "colab_type": "code",
        "outputId": "f113c8d1-cf9f-45c0-9828-26558d41e7a5",
        "colab": {
          "base_uri": "https://localhost:8080/",
          "height": 52
        }
      },
      "source": [
        "cifar_trainset = torchvision.datasets.CIFAR10(root='./data', train=True, download=True, transform=transform)\n",
        "cifar_testset = torchvision.datasets.CIFAR10(root='./data', train=False, download=True, transform=transform)"
      ],
      "execution_count": 33,
      "outputs": [
        {
          "output_type": "stream",
          "text": [
            "Files already downloaded and verified\n",
            "Files already downloaded and verified\n"
          ],
          "name": "stdout"
        }
      ]
    },
    {
      "cell_type": "code",
      "metadata": {
        "id": "CbceMmfH2cDg",
        "colab_type": "code",
        "outputId": "90d1e264-96ef-4240-acba-196c6032385c",
        "colab": {
          "base_uri": "https://localhost:8080/",
          "height": 34
        }
      },
      "source": [
        "from google.colab import drive\n",
        "drive.mount('/content/drive')"
      ],
      "execution_count": 34,
      "outputs": [
        {
          "output_type": "stream",
          "text": [
            "Drive already mounted at /content/drive; to attempt to forcibly remount, call drive.mount(\"/content/drive\", force_remount=True).\n"
          ],
          "name": "stdout"
        }
      ]
    },
    {
      "cell_type": "code",
      "metadata": {
        "id": "xRKsq-PO2aWx",
        "colab_type": "code",
        "colab": {}
      },
      "source": [
        "# train_split_len = 26316\n",
        "# # test_split_len \n",
        "# part_train = torch.utils.data.random_split(cifar_trainset, [train_split_len, len(cifar_trainset)-train_split_len])[0]\n",
        "# # part_te = torch.utils.data.random_split(cifar_testset, [test_split_len, len(cifar_testset)-test_split_len])[0]\n",
        "# len(part_train)\n"
      ],
      "execution_count": 0,
      "outputs": []
    },
    {
      "cell_type": "code",
      "metadata": {
        "id": "AQlBYdEz87am",
        "colab_type": "code",
        "outputId": "a60e84e2-4a74-482f-81d7-d8c5f92cb2d5",
        "colab": {
          "base_uri": "https://localhost:8080/",
          "height": 34
        }
      },
      "source": [
        "cifar_trainset_ran = torchvision.datasets.CIFAR10(root='./data', train=True, download=True, transform=transform)"
      ],
      "execution_count": 35,
      "outputs": [
        {
          "output_type": "stream",
          "text": [
            "Files already downloaded and verified\n"
          ],
          "name": "stdout"
        }
      ]
    },
    {
      "cell_type": "code",
      "metadata": {
        "id": "A1Ig4xyB8quy",
        "colab_type": "code",
        "outputId": "1d0c217d-f053-4894-f3ae-97470cc939d9",
        "colab": {
          "base_uri": "https://localhost:8080/",
          "height": 34
        }
      },
      "source": [
        "corruption_percentage = 0.5\n",
        "epochs = 55\n",
        "train_split_len = 25000 + int(25000*corruption_percentage*100/(100-corruption_percentage*100))\n",
        "print(train_split_len)\n",
        "cifar_trainset_random = torch.utils.data.random_split(cifar_trainset_ran, [train_split_len, len(cifar_trainset)-train_split_len])[0]\n",
        "cifar_trainset_ran.data = cifar_trainset_ran.data[cifar_trainset_random.indices]\n",
        "tgts = np.array(cifar_trainset_ran.targets)\n",
        "cifar_trainset_ran.targets = tgts[cifar_trainset_random.indices]"
      ],
      "execution_count": 36,
      "outputs": [
        {
          "output_type": "stream",
          "text": [
            "50000\n"
          ],
          "name": "stdout"
        }
      ]
    },
    {
      "cell_type": "code",
      "metadata": {
        "id": "m6O5DvBbBwnV",
        "colab_type": "code",
        "outputId": "2c863679-aab6-47cc-fd91-ce2a0cc92a34",
        "colab": {
          "base_uri": "https://localhost:8080/",
          "height": 34
        }
      },
      "source": [
        "cifar_trainset_ran.data.shape"
      ],
      "execution_count": 37,
      "outputs": [
        {
          "output_type": "execute_result",
          "data": {
            "text/plain": [
              "(50000, 32, 32, 3)"
            ]
          },
          "metadata": {
            "tags": []
          },
          "execution_count": 37
        }
      ]
    },
    {
      "cell_type": "code",
      "metadata": {
        "id": "OcWNogmU00_U",
        "colab_type": "code",
        "outputId": "d86ee55f-dfba-4e23-9d3a-b89d25e4d8fc",
        "colab": {
          "base_uri": "https://localhost:8080/",
          "height": 86
        }
      },
      "source": [
        "\n",
        "cifar_trainset_random = cifar_trainset_ran\n",
        "print(len(cifar_trainset_random.targets))\n",
        "\n",
        "np.random.seed(1234)\n",
        "mask = np.random.uniform(0,1, train_split_len) < corruption_percentage\n",
        "\n",
        "a = np.array(cifar_trainset_random.targets)\n",
        "print(len(a))\n",
        "print(\"true\",a[mask])\n",
        "a[mask] = np.random.randint(0,10,sum(mask))\n",
        "print(\"randomized\",a[mask])\n",
        "cifar_trainset_random.targets = list(a)\n",
        "cifar_trainset_random.targets\n",
        "# cifar_trainset_random.targets[:50000] = np.random.randint(low=0,high=9,size=50000)\n",
        "trainloader_random = torch.utils.data.DataLoader(cifar_trainset_random,batch_size=256,shuffle=False,num_workers=2)"
      ],
      "execution_count": 38,
      "outputs": [
        {
          "output_type": "stream",
          "text": [
            "50000\n",
            "50000\n",
            "true [2 5 1 ... 0 6 3]\n",
            "randomized [9 1 5 ... 4 1 5]\n"
          ],
          "name": "stdout"
        }
      ]
    },
    {
      "cell_type": "code",
      "metadata": {
        "id": "NKNP1EKh-Dyb",
        "colab_type": "code",
        "outputId": "04118e35-5e2d-4ef4-b8af-4152e0700766",
        "colab": {
          "base_uri": "https://localhost:8080/",
          "height": 34
        }
      },
      "source": [
        "cifar_trainset_random.data.shape"
      ],
      "execution_count": 39,
      "outputs": [
        {
          "output_type": "execute_result",
          "data": {
            "text/plain": [
              "(50000, 32, 32, 3)"
            ]
          },
          "metadata": {
            "tags": []
          },
          "execution_count": 39
        }
      ]
    },
    {
      "cell_type": "code",
      "metadata": {
        "id": "9PRJWV3S1DXY",
        "colab_type": "code",
        "outputId": "375673f9-7adf-46c6-e930-3cd3a6b59950",
        "colab": {
          "base_uri": "https://localhost:8080/",
          "height": 34
        }
      },
      "source": [
        "np.unique(cifar_trainset.targets),sum(mask)"
      ],
      "execution_count": 40,
      "outputs": [
        {
          "output_type": "execute_result",
          "data": {
            "text/plain": [
              "(array([0, 1, 2, 3, 4, 5, 6, 7, 8, 9]), 24980)"
            ]
          },
          "metadata": {
            "tags": []
          },
          "execution_count": 40
        }
      ]
    },
    {
      "cell_type": "code",
      "metadata": {
        "id": "R2l19kSt07W1",
        "colab_type": "code",
        "colab": {}
      },
      "source": [
        "\n",
        "trainloader = torch.utils.data.DataLoader(cifar_trainset, batch_size=256,\n",
        "                                          shuffle=False, num_workers=2)\n",
        "testloader = torch.utils.data.DataLoader(cifar_testset, batch_size=256,\n",
        "                                         shuffle=False, num_workers=2)\n"
      ],
      "execution_count": 0,
      "outputs": []
    },
    {
      "cell_type": "code",
      "metadata": {
        "id": "86Os-wul1BgN",
        "colab_type": "code",
        "colab": {}
      },
      "source": [
        "classes = ('plane', 'car', 'bird', 'cat',\n",
        "           'deer', 'dog', 'frog', 'horse', 'ship', 'truck')"
      ],
      "execution_count": 0,
      "outputs": []
    },
    {
      "cell_type": "code",
      "metadata": {
        "id": "Ubww6OeAIjFW",
        "colab_type": "code",
        "colab": {}
      },
      "source": [
        "dataiter = iter(trainloader_random)\n",
        "images, labels = dataiter.next()\n"
      ],
      "execution_count": 0,
      "outputs": []
    },
    {
      "cell_type": "code",
      "metadata": {
        "id": "y2-1I_JwIjCG",
        "colab_type": "code",
        "outputId": "0b5901cb-a640-4459-dba3-5088fecde446",
        "colab": {
          "base_uri": "https://localhost:8080/",
          "height": 34
        }
      },
      "source": [
        "images.shape"
      ],
      "execution_count": 44,
      "outputs": [
        {
          "output_type": "execute_result",
          "data": {
            "text/plain": [
              "torch.Size([256, 3, 28, 28])"
            ]
          },
          "metadata": {
            "tags": []
          },
          "execution_count": 44
        }
      ]
    },
    {
      "cell_type": "code",
      "metadata": {
        "id": "fLv_gbPq0bST",
        "colab_type": "code",
        "colab": {}
      },
      "source": [
        "class Conv_module(nn.Module):\n",
        "    def __init__(self,inp_ch,f,s,k,pad):\n",
        "        super(Conv_module,self).__init__()\n",
        "        self.inp_ch = inp_ch\n",
        "        self.f = f\n",
        "        self.s = s \n",
        "        self.k = k \n",
        "        self.pad = pad\n",
        "        \n",
        "        \n",
        "        self.conv = nn.Conv2d(self.inp_ch,self.f,k,stride=s,padding=self.pad)\n",
        "        self.bn = nn.BatchNorm2d(self.f)\n",
        "        self.act = nn.ReLU()\n",
        "    def forward(self,x):\n",
        "        x = self.conv(x)\n",
        "        x = self.bn(x)\n",
        "        x = self.act(x)\n",
        "        return x"
      ],
      "execution_count": 0,
      "outputs": []
    },
    {
      "cell_type": "code",
      "metadata": {
        "id": "IcUaTTOx0hqJ",
        "colab_type": "code",
        "outputId": "5eeab105-dd7b-40a0-905c-1875aed0b077",
        "colab": {
          "base_uri": "https://localhost:8080/",
          "height": 34
        }
      },
      "source": [
        "conv = Conv_module(3,64,1,3,1)\n",
        "conv.forward(images).shape"
      ],
      "execution_count": 46,
      "outputs": [
        {
          "output_type": "execute_result",
          "data": {
            "text/plain": [
              "torch.Size([256, 64, 28, 28])"
            ]
          },
          "metadata": {
            "tags": []
          },
          "execution_count": 46
        }
      ]
    },
    {
      "cell_type": "code",
      "metadata": {
        "id": "Q1z-jeYa0iKx",
        "colab_type": "code",
        "colab": {}
      },
      "source": [
        "class inception_module(nn.Module):\n",
        "    def __init__(self,inp_ch,f0,f1):\n",
        "        super(inception_module, self).__init__()\n",
        "        self.inp_ch = inp_ch\n",
        "        self.f0 = f0\n",
        "        self.f1 = f1\n",
        "        \n",
        "        \n",
        "        \n",
        "        self.conv1 = Conv_module(self.inp_ch,self.f0,1,1,pad=0)\n",
        "        self.conv3 = Conv_module(self.inp_ch,self.f1,1,3,pad=1)\n",
        "        #self.conv1 = nn.Conv2d(3,self.f0,1)\n",
        "        #self.conv3 = nn.Conv2d(3,self.f1,3,padding=1)\n",
        "    def forward(self,x):\n",
        "        x1 = self.conv1.forward(x)\n",
        "        x3 = self.conv3.forward(x)\n",
        "        #print(x1.shape,x3.shape)\n",
        "        \n",
        "        x = torch.cat((x1,x3),dim=1)\n",
        "        \n",
        "    \n",
        "        return x"
      ],
      "execution_count": 0,
      "outputs": []
    },
    {
      "cell_type": "code",
      "metadata": {
        "id": "qV-5PAD91U0f",
        "colab_type": "code",
        "outputId": "ff016b9b-ebb5-4937-a983-a4d85541e030",
        "colab": {
          "base_uri": "https://localhost:8080/",
          "height": 34
        }
      },
      "source": [
        "inc_module = inception_module(96,32,32)\n",
        "conv_module = Conv_module(3,96,1,1,0)\n",
        "out = conv_module(images)\n",
        "inc_module.forward(out).shape"
      ],
      "execution_count": 48,
      "outputs": [
        {
          "output_type": "execute_result",
          "data": {
            "text/plain": [
              "torch.Size([256, 64, 28, 28])"
            ]
          },
          "metadata": {
            "tags": []
          },
          "execution_count": 48
        }
      ]
    },
    {
      "cell_type": "code",
      "metadata": {
        "id": "q-44Zw_21Vtr",
        "colab_type": "code",
        "colab": {}
      },
      "source": [
        "class downsample_module(nn.Module):\n",
        "    def __init__(self,inp_ch,f):\n",
        "        super(downsample_module,self).__init__()\n",
        "        self.inp_ch = inp_ch\n",
        "        self.f = f\n",
        "        self.conv = Conv_module(self.inp_ch,self.f,2,3,pad=0)\n",
        "        self.pool = nn.MaxPool2d(3,stride=2,padding=0)\n",
        "    def forward(self,x):\n",
        "        x1 = self.conv(x)\n",
        "        #print(x1.shape)\n",
        "        x2 = self.pool(x)\n",
        "        #print(x2.shape)\n",
        "        x = torch.cat((x1,x2),dim=1)\n",
        "        \n",
        "        return x,x1"
      ],
      "execution_count": 0,
      "outputs": []
    },
    {
      "cell_type": "code",
      "metadata": {
        "id": "0Rty7FDB1Zsk",
        "colab_type": "code",
        "colab": {}
      },
      "source": [
        "class inception_net(nn.Module):\n",
        "    def __init__(self):\n",
        "        super(inception_net,self).__init__()\n",
        "        self.conv1 = Conv_module(3,96,1,3,0)\n",
        "        \n",
        "        self.incept1 = inception_module(96,32,32)\n",
        "        self.incept2 = inception_module(64,32,48)\n",
        "        \n",
        "        self.downsample1 = downsample_module(80,80)\n",
        "        \n",
        "        self.incept3 = inception_module(160,112,48)\n",
        "        self.incept4 = inception_module(160,96,64)\n",
        "        self.incept5 = inception_module(160,80,80)\n",
        "        self.incept6 = inception_module(160,48,96)\n",
        "        \n",
        "        self.downsample2 = downsample_module(144,96)\n",
        "        \n",
        "        self.incept7 = inception_module(240,176,60)\n",
        "        self.incept8 = inception_module(236,176,60)\n",
        "        \n",
        "        self.pool = nn.AvgPool2d(5)\n",
        "        \n",
        "        \n",
        "        \n",
        "        self.linear = nn.Linear(236,10)\n",
        "    def forward(self,x):\n",
        "        x = self.conv1.forward(x)\n",
        "        #act1 = x\n",
        "        \n",
        "        x = self.incept1.forward(x)\n",
        "        #act2 = x\n",
        "        \n",
        "        x = self.incept2.forward(x)\n",
        "        #act3 = x\n",
        "        \n",
        "        x,act4 = self.downsample1.forward(x)\n",
        "        \n",
        "        x = self.incept3.forward(x)\n",
        "        #act5 = x\n",
        "        \n",
        "        x = self.incept4.forward(x)\n",
        "        #act6 = x\n",
        "        \n",
        "        x = self.incept5.forward(x)\n",
        "        #act7 = x\n",
        "        \n",
        "        x = self.incept6.forward(x)\n",
        "        #act8 = x\n",
        "        \n",
        "        x,act9 = self.downsample2.forward(x)\n",
        "        \n",
        "        x = self.incept7.forward(x)\n",
        "        #act10 = x\n",
        "        x = self.incept8.forward(x)\n",
        "        #act11 = x\n",
        "        \n",
        "        #print(\"outs before pooling\",x.size())\n",
        "        x = self.pool(x)\n",
        "        #print(\"hello\")\n",
        "        #print(\"outs after pooling\",x.size())\n",
        "        x = x.view(-1,1*1*236)\n",
        "        x = self.linear(x) \n",
        "        \n",
        "        #print(\"outs\",x)\n",
        "        #activatn = {\"act1\":act1,\"act2\":act2,\"act3\":act3,\"act4\":act4,\"act5\":act5,\"act6\":act6,\n",
        "         #           \"act7\":act7,\"act8\":act8,\"act9\":act9,\"act10\":act10,\"act11\":act11}\n",
        "        return x\n",
        "        \n",
        "        \n",
        "    "
      ],
      "execution_count": 0,
      "outputs": []
    },
    {
      "cell_type": "code",
      "metadata": {
        "id": "jFFK9gqW1zhH",
        "colab_type": "code",
        "colab": {}
      },
      "source": [
        "inc_net_random_labels = inception_net()\n",
        "#inc_net_random_labels(images).shape\n",
        "inc_net_random_labels = inc_net_random_labels.to(\"cuda\")"
      ],
      "execution_count": 0,
      "outputs": []
    },
    {
      "cell_type": "code",
      "metadata": {
        "id": "TQ_d4V2z12Iq",
        "colab_type": "code",
        "colab": {}
      },
      "source": [
        "\n",
        "criterion_inc_rand = nn.CrossEntropyLoss()\n",
        "optimizer_inc_rand = optim.SGD(inc_net_random_labels.parameters(), lr=0.01, momentum=0.9)"
      ],
      "execution_count": 0,
      "outputs": []
    },
    {
      "cell_type": "code",
      "metadata": {
        "id": "cfcXrzP3QAKq",
        "colab_type": "code",
        "outputId": "c4f50cd1-5288-432f-8328-3cf31d799af8",
        "colab": {
          "base_uri": "https://localhost:8080/",
          "height": 1000
        }
      },
      "source": [
        "actri = []\n",
        "lossr_curi = []\n",
        "inc_net_random_labels.train()\n",
        "# epochs = 30\n",
        "for epoch in range(epochs):  # loop over the dataset multiple times\n",
        "    ep_lossri = []\n",
        "    \n",
        "\n",
        "    running_loss = 0.0\n",
        "    for i, data in enumerate(trainloader_random, 0):\n",
        "        # get the inputs\n",
        "        inputs, labels = data\n",
        "        #print(inputs.size())\n",
        "        inputs,labels = inputs.to(\"cuda\"),labels.to(\"cuda\")\n",
        "\n",
        "        # zero the parameter gradients\n",
        "        optimizer_inc_rand.zero_grad()\n",
        "\n",
        "        # forward + backward + optimize\n",
        "        outputs = inc_net_random_labels(inputs)\n",
        "        \n",
        "#         print(outputs.shape)\n",
        "        \n",
        "        loss = criterion_inc_rand(outputs, labels)\n",
        "        loss.backward()\n",
        "        optimizer_inc_rand.step()\n",
        "\n",
        "        # print statistics\n",
        "        running_loss += loss.item()\n",
        "        if i % 50 == 49:    # print every 50 mini-batches\n",
        "            print('[%d, %5d] loss: %.3f' %\n",
        "                  (epoch + 1, i + 1, running_loss / 50))\n",
        "            ep_lossri.append(running_loss)\n",
        "            running_loss = 0.0\n",
        "            \n",
        "    lossr_curi.append(np.mean(ep_lossri))   #loss per epoch\n",
        "#     if (epoch%5 == 0):\n",
        "#         _,actirs= inc(inputs)\n",
        "#         actri.append(actirs)\n",
        "    \n",
        "\n",
        "print('Finished Training')\n"
      ],
      "execution_count": 53,
      "outputs": [
        {
          "output_type": "stream",
          "text": [
            "[1,    50] loss: 2.220\n",
            "[1,   100] loss: 2.143\n",
            "[1,   150] loss: 2.108\n",
            "[2,    50] loss: 2.059\n",
            "[2,   100] loss: 2.044\n",
            "[2,   150] loss: 2.022\n",
            "[3,    50] loss: 1.987\n",
            "[3,   100] loss: 1.986\n",
            "[3,   150] loss: 1.968\n",
            "[4,    50] loss: 1.932\n",
            "[4,   100] loss: 1.940\n",
            "[4,   150] loss: 1.919\n",
            "[5,    50] loss: 1.882\n",
            "[5,   100] loss: 1.894\n",
            "[5,   150] loss: 1.871\n",
            "[6,    50] loss: 1.830\n",
            "[6,   100] loss: 1.847\n",
            "[6,   150] loss: 1.826\n",
            "[7,    50] loss: 1.776\n",
            "[7,   100] loss: 1.812\n",
            "[7,   150] loss: 1.783\n",
            "[8,    50] loss: 1.727\n",
            "[8,   100] loss: 1.774\n",
            "[8,   150] loss: 1.743\n",
            "[9,    50] loss: 1.681\n",
            "[9,   100] loss: 1.705\n",
            "[9,   150] loss: 1.708\n",
            "[10,    50] loss: 1.642\n",
            "[10,   100] loss: 1.639\n",
            "[10,   150] loss: 1.655\n",
            "[11,    50] loss: 1.573\n",
            "[11,   100] loss: 1.557\n",
            "[11,   150] loss: 1.591\n",
            "[12,    50] loss: 1.502\n",
            "[12,   100] loss: 1.492\n",
            "[12,   150] loss: 1.564\n",
            "[13,    50] loss: 1.440\n",
            "[13,   100] loss: 1.417\n",
            "[13,   150] loss: 1.506\n",
            "[14,    50] loss: 1.377\n",
            "[14,   100] loss: 1.347\n",
            "[14,   150] loss: 1.421\n",
            "[15,    50] loss: 1.296\n",
            "[15,   100] loss: 1.284\n",
            "[15,   150] loss: 1.347\n",
            "[16,    50] loss: 1.225\n",
            "[16,   100] loss: 1.199\n",
            "[16,   150] loss: 1.275\n",
            "[17,    50] loss: 1.158\n",
            "[17,   100] loss: 1.111\n",
            "[17,   150] loss: 1.191\n",
            "[18,    50] loss: 1.101\n",
            "[18,   100] loss: 1.031\n",
            "[18,   150] loss: 1.100\n",
            "[19,    50] loss: 1.052\n",
            "[19,   100] loss: 0.985\n",
            "[19,   150] loss: 1.031\n",
            "[20,    50] loss: 0.955\n",
            "[20,   100] loss: 0.900\n",
            "[20,   150] loss: 0.964\n",
            "[21,    50] loss: 0.872\n",
            "[21,   100] loss: 0.817\n",
            "[21,   150] loss: 0.875\n",
            "[22,    50] loss: 0.802\n",
            "[22,   100] loss: 0.744\n",
            "[22,   150] loss: 0.799\n",
            "[23,    50] loss: 0.765\n",
            "[23,   100] loss: 0.694\n",
            "[23,   150] loss: 0.727\n",
            "[24,    50] loss: 0.688\n",
            "[24,   100] loss: 0.606\n",
            "[24,   150] loss: 0.640\n",
            "[25,    50] loss: 0.623\n",
            "[25,   100] loss: 0.563\n",
            "[25,   150] loss: 0.574\n",
            "[26,    50] loss: 0.578\n",
            "[26,   100] loss: 0.526\n",
            "[26,   150] loss: 0.528\n",
            "[27,    50] loss: 0.540\n",
            "[27,   100] loss: 0.494\n",
            "[27,   150] loss: 0.485\n",
            "[28,    50] loss: 0.490\n",
            "[28,   100] loss: 0.461\n",
            "[28,   150] loss: 0.442\n",
            "[29,    50] loss: 0.444\n",
            "[29,   100] loss: 0.427\n",
            "[29,   150] loss: 0.404\n",
            "[30,    50] loss: 0.391\n",
            "[30,   100] loss: 0.383\n",
            "[30,   150] loss: 0.378\n",
            "[31,    50] loss: 0.358\n",
            "[31,   100] loss: 0.337\n",
            "[31,   150] loss: 0.328\n",
            "[32,    50] loss: 0.316\n",
            "[32,   100] loss: 0.311\n",
            "[32,   150] loss: 0.323\n",
            "[33,    50] loss: 0.278\n",
            "[33,   100] loss: 0.261\n",
            "[33,   150] loss: 0.285\n",
            "[34,    50] loss: 0.239\n",
            "[34,   100] loss: 0.236\n",
            "[34,   150] loss: 0.237\n",
            "[35,    50] loss: 0.221\n",
            "[35,   100] loss: 0.217\n",
            "[35,   150] loss: 0.222\n",
            "[36,    50] loss: 0.194\n",
            "[36,   100] loss: 0.188\n",
            "[36,   150] loss: 0.203\n",
            "[37,    50] loss: 0.182\n",
            "[37,   100] loss: 0.165\n",
            "[37,   150] loss: 0.168\n",
            "[38,    50] loss: 0.157\n",
            "[38,   100] loss: 0.148\n",
            "[38,   150] loss: 0.146\n",
            "[39,    50] loss: 0.133\n",
            "[39,   100] loss: 0.137\n",
            "[39,   150] loss: 0.116\n",
            "[40,    50] loss: 0.120\n",
            "[40,   100] loss: 0.118\n",
            "[40,   150] loss: 0.116\n",
            "[41,    50] loss: 0.113\n",
            "[41,   100] loss: 0.097\n",
            "[41,   150] loss: 0.104\n",
            "[42,    50] loss: 0.102\n",
            "[42,   100] loss: 0.087\n",
            "[42,   150] loss: 0.087\n",
            "[43,    50] loss: 0.089\n",
            "[43,   100] loss: 0.078\n",
            "[43,   150] loss: 0.075\n",
            "[44,    50] loss: 0.080\n",
            "[44,   100] loss: 0.074\n",
            "[44,   150] loss: 0.068\n",
            "[45,    50] loss: 0.066\n",
            "[45,   100] loss: 0.058\n",
            "[45,   150] loss: 0.061\n",
            "[46,    50] loss: 0.058\n",
            "[46,   100] loss: 0.054\n",
            "[46,   150] loss: 0.055\n",
            "[47,    50] loss: 0.050\n",
            "[47,   100] loss: 0.044\n",
            "[47,   150] loss: 0.043\n",
            "[48,    50] loss: 0.042\n",
            "[48,   100] loss: 0.035\n",
            "[48,   150] loss: 0.036\n",
            "[49,    50] loss: 0.035\n",
            "[49,   100] loss: 0.029\n",
            "[49,   150] loss: 0.029\n",
            "[50,    50] loss: 0.023\n",
            "[50,   100] loss: 0.021\n",
            "[50,   150] loss: 0.019\n",
            "[51,    50] loss: 0.014\n",
            "[51,   100] loss: 0.013\n",
            "[51,   150] loss: 0.010\n",
            "[52,    50] loss: 0.007\n",
            "[52,   100] loss: 0.007\n",
            "[52,   150] loss: 0.006\n",
            "[53,    50] loss: 0.005\n",
            "[53,   100] loss: 0.004\n",
            "[53,   150] loss: 0.005\n",
            "[54,    50] loss: 0.004\n",
            "[54,   100] loss: 0.002\n",
            "[54,   150] loss: 0.002\n",
            "[55,    50] loss: 0.001\n",
            "[55,   100] loss: 0.001\n",
            "[55,   150] loss: 0.001\n",
            "Finished Training\n"
          ],
          "name": "stdout"
        }
      ]
    },
    {
      "cell_type": "code",
      "metadata": {
        "id": "qqg9I8SuSdFp",
        "colab_type": "code",
        "colab": {}
      },
      "source": [
        "torch.save(inc_net_random_labels.state_dict(),\"/content/drive/My Drive/Research/CIFAR Corrupted vs uncorrupted/Inception net weights/Weights_when_train_on_equal_true_data/model_epoch\"+str(epochs)+\"_\"+str(corruption_percentage)+\".pt\")"
      ],
      "execution_count": 0,
      "outputs": []
    },
    {
      "cell_type": "code",
      "metadata": {
        "id": "wZZRlQnx2Hyr",
        "colab_type": "code",
        "colab": {}
      },
      "source": [
        "# inc_net_random_labels.load_state_dict(torch.load(\"/content/drive/My Drive/Research/CIFAR Corrupted vs uncorrupted/Inception net weights/Weights_when_train_on_equal_true_data/model_epoch1_0.1.pt\"))"
      ],
      "execution_count": 0,
      "outputs": []
    },
    {
      "cell_type": "code",
      "metadata": {
        "id": "S_m2cKw219bA",
        "colab_type": "code",
        "outputId": "811351fe-70b8-4263-a24b-bad19d375716",
        "colab": {
          "base_uri": "https://localhost:8080/",
          "height": 34
        }
      },
      "source": [
        "correct = 0\n",
        "total = 0\n",
        "inc_net_random_labels.eval()\n",
        "with torch.no_grad():\n",
        "    for data in trainloader_random:\n",
        "        images, labels = data\n",
        "        images,labels = images.to(\"cuda\"),labels.to(\"cuda\")\n",
        "        outputs = inc_net_random_labels(images)\n",
        "        _, predicted = torch.max(outputs.data, 1)\n",
        "        total += labels.size(0)\n",
        "        correct += (predicted == labels).sum().item()\n",
        "\n",
        "print('Accuracy of the network on the %d train images: %d %%' % (train_split_len, 100 * correct / total))"
      ],
      "execution_count": 56,
      "outputs": [
        {
          "output_type": "stream",
          "text": [
            "Accuracy of the network on the 50000 train images: 100 %\n"
          ],
          "name": "stdout"
        }
      ]
    },
    {
      "cell_type": "code",
      "metadata": {
        "id": "z9YLjC5S1-L8",
        "colab_type": "code",
        "outputId": "fa9400d2-9b9a-4dbd-a95c-6bc4a3652883",
        "colab": {
          "base_uri": "https://localhost:8080/",
          "height": 52
        }
      },
      "source": [
        "correct = 0\n",
        "total = 0\n",
        "loss = 0\n",
        "batch = 0\n",
        "inc_net_random_labels.eval()\n",
        "with torch.no_grad():\n",
        "    for data in testloader:\n",
        "        images, labels = data\n",
        "        images,labels = images.to(\"cuda\"),labels.to(\"cuda\")\n",
        "        outputs = inc_net_random_labels(images)\n",
        "        \n",
        "        loss += criterion_inc_rand(outputs, labels)\n",
        "        \n",
        "        _, predicted = torch.max(outputs.data, 1)\n",
        "        total += labels.size(0)\n",
        "        correct += (predicted == labels).sum().item()\n",
        "        batch+=1\n",
        "\n",
        "print('Accuracy of the network on the 10000 test images: %d %%' % (\n",
        "    100 * correct / total))\n",
        "print(\"loss\", loss/batch)"
      ],
      "execution_count": 57,
      "outputs": [
        {
          "output_type": "stream",
          "text": [
            "Accuracy of the network on the 10000 test images: 42 %\n",
            "loss tensor(3.7541, device='cuda:0')\n"
          ],
          "name": "stdout"
        }
      ]
    },
    {
      "cell_type": "code",
      "metadata": {
        "id": "6OUw-1BZ8f4t",
        "colab_type": "code",
        "colab": {}
      },
      "source": [
        "def accuracy( a, b):\n",
        "  length = a.shape\n",
        "  correct = a==b\n",
        "  return sum(correct)/length"
      ],
      "execution_count": 0,
      "outputs": []
    },
    {
      "cell_type": "code",
      "metadata": {
        "id": "E90q4nsN6mhr",
        "colab_type": "code",
        "outputId": "53fcc0d4-fa82-4668-f010-ea9b6a877890",
        "colab": {
          "base_uri": "https://localhost:8080/",
          "height": 173
        }
      },
      "source": [
        "correct = 0\n",
        "total = 0\n",
        "train_loss = 0\n",
        "true = []\n",
        "pred=[]\n",
        "out =[]\n",
        "\n",
        "inc_net_random_labels.eval()\n",
        "\n",
        "with torch.no_grad():\n",
        "    for data in trainloader_random:\n",
        "        images, labels = data\n",
        "        images,labels = images.to(\"cuda\"),labels.to(\"cuda\")\n",
        "        true.append(labels.cpu().numpy())\n",
        "        \n",
        "        outputs = inc_net_random_labels(images)\n",
        "        out.append(outputs.cpu())\n",
        "        loss = criterion_inc_rand(outputs, labels)\n",
        "        \n",
        "        train_loss += loss.item()\n",
        "        \n",
        "        _, predicted = torch.max(outputs.data, 1)\n",
        "        pred.append(predicted.cpu().numpy())\n",
        "        total += labels.size(0)\n",
        "        correct += (predicted == labels).sum().item()\n",
        "\n",
        "print('Accuracy of the network on the %d train images: %d %%' % (train_split_len, 100 * correct / total))\n",
        "true_targets = np.concatenate(true,axis=0)\n",
        "predicted_targets = np.concatenate(pred,axis =0)\n",
        "\n",
        "print(\"---\"*20)\n",
        "print(\"Train accuracy on corrupt data\",accuracy(true_targets[mask], predicted_targets[mask]))\n",
        "print(\"Train accuracy on un-corrupt data\",accuracy(true_targets[~mask], predicted_targets[~mask]))\n",
        "print(\"Train accuracy on full data\", accuracy(true_targets, predicted_targets))\n",
        "\n",
        "# print( sum (predicted_targets == np.argmax(out, axis =1)))\n",
        "\n",
        "l= np.where(mask ==True)\n",
        "p = np.where(mask == False)\n",
        "\n",
        "out = torch.cat(out, dim =0)\n",
        "\n",
        "print(\"Train cross entropy loss on corrupt data\", criterion_inc_rand(out[l], torch.Tensor(true_targets[l]).type(torch.LongTensor)))\n",
        "print(\"Train cross entropy loss on un-corrupt data\",criterion_inc_rand(out[p], torch.Tensor(true_targets[p]).type(torch.LongTensor)))\n",
        "print(\"Train cross entropy loss on full data\",criterion_inc_rand(out, torch.Tensor(true_targets).type(torch.LongTensor)))\n",
        "print(\"---\"*20)"
      ],
      "execution_count": 59,
      "outputs": [
        {
          "output_type": "stream",
          "text": [
            "Accuracy of the network on the 50000 train images: 100 %\n",
            "------------------------------------------------------------\n",
            "Train accuracy on corrupt data [1.]\n",
            "Train accuracy on un-corrupt data [1.]\n",
            "Train accuracy on full data [1.]\n",
            "Train cross entropy loss on corrupt data tensor(0.0014)\n",
            "Train cross entropy loss on un-corrupt data tensor(0.0008)\n",
            "Train cross entropy loss on full data tensor(0.0011)\n",
            "------------------------------------------------------------\n"
          ],
          "name": "stdout"
        }
      ]
    },
    {
      "cell_type": "code",
      "metadata": {
        "id": "b3it-gN58vMZ",
        "colab_type": "code",
        "outputId": "7bae296b-4e25-4bc7-c604-76b449ccf92b",
        "colab": {
          "base_uri": "https://localhost:8080/",
          "height": 191
        }
      },
      "source": [
        "testset=cifar_testset\n",
        "testset_len = len(testset.targets)\n",
        "np.random.seed(1234)\n",
        "mask1 = np.random.uniform(0,1,testset_len) < corruption_percentage\n",
        "\n",
        "a = np.array(testset.targets)\n",
        "# print(\"true\",a[mask1])\n",
        "print(np.sum(mask1))\n",
        "a[mask1] = np.random.randint(0,10,sum(mask1))\n",
        "# print(\"randomized\",a[mask1])\n",
        "testset.targets = list(a)\n",
        "\n",
        "\n",
        "correct = 0\n",
        "total = 0\n",
        "test_loss = 0\n",
        "true = []\n",
        "pred=[]\n",
        "out =[]\n",
        "inc_net_random_labels.eval()\n",
        "with torch.no_grad():\n",
        "    for data in testloader:\n",
        "        images, labels = data\n",
        "        images,labels = images.to(\"cuda\"),labels.to(\"cuda\")\n",
        "        true.append(labels.cpu().numpy())\n",
        "                \n",
        "        outputs = inc_net_random_labels(images)\n",
        "        out.append(outputs.cpu())\n",
        "        loss = criterion_inc_rand(outputs, labels)\n",
        "        \n",
        "        test_loss += loss.item()\n",
        "        _, predicted = torch.max(outputs.data, 1)\n",
        "        pred.append(predicted.cpu().numpy())\n",
        "        total += labels.size(0)\n",
        "        correct += (predicted == labels).sum().item()\n",
        "\n",
        "print('Accuracy of the network on the 10000 test images: %d %%' % (\n",
        "    100 * correct / total))\n",
        "true_targets = np.concatenate(true,axis=0)\n",
        "predicted_targets = np.concatenate(pred,axis =0)\n",
        "print(\"---\"*20)\n",
        "print(\"Test accuracy on corrupt data\",accuracy(true_targets[mask1], predicted_targets[mask1]))\n",
        "print(\"Test accuracy on un-corrupt data\",accuracy(true_targets[~mask1], predicted_targets[~mask1]))\n",
        "print(\"Test accuracy on full data\", accuracy(true_targets, predicted_targets))\n",
        "\n",
        "l = np.where(mask1 ==True)\n",
        "p  = np.where(mask1 == False)\n",
        "out = torch.cat(out, dim =0)\n",
        "\n",
        "print(\"Test cross entropy loss on corrupt data\", criterion_inc_rand(out[l], torch.Tensor(true_targets[l]).type(torch.LongTensor)))\n",
        "print(\"Test cross entropy loss on un-corrupt data\",criterion_inc_rand(out[p], torch.Tensor(true_targets[p]).type(torch.LongTensor)))\n",
        "print(\"Test cross entropy loss on full data\",criterion_inc_rand(out, torch.Tensor(true_targets).type(torch.LongTensor)))\n",
        "print(\"---\"*20)"
      ],
      "execution_count": 60,
      "outputs": [
        {
          "output_type": "stream",
          "text": [
            "4958\n",
            "Accuracy of the network on the 10000 test images: 26 %\n",
            "------------------------------------------------------------\n",
            "Test accuracy on corrupt data [0.10346914]\n",
            "Test accuracy on un-corrupt data [0.42542642]\n",
            "Test accuracy on full data [0.2658]\n",
            "Test cross entropy loss on corrupt data tensor(8.9452)\n",
            "Test cross entropy loss on un-corrupt data tensor(3.7132)\n",
            "Test cross entropy loss on full data tensor(6.3072)\n",
            "------------------------------------------------------------\n"
          ],
          "name": "stdout"
        }
      ]
    },
    {
      "cell_type": "code",
      "metadata": {
        "id": "lnzpzyZ4IdC2",
        "colab_type": "code",
        "colab": {}
      },
      "source": [
        ""
      ],
      "execution_count": 0,
      "outputs": []
    }
  ]
}