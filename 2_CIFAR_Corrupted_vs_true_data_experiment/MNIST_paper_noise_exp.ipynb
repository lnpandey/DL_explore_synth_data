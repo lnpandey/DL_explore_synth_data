{
 "cells": [
  {
   "cell_type": "code",
   "execution_count": 1,
   "metadata": {},
   "outputs": [],
   "source": [
    "import numpy as np\n",
    "import pandas as pd\n",
    "from matplotlib import pyplot as plt\n",
    "from tqdm import tqdm as tqdm\n",
    "\n",
    "%matplotlib inline\n",
    "\n",
    "import torch\n",
    "import torchvision\n",
    "\n",
    "import torchvision.transforms as transforms\n",
    "import torch.nn as nn\n",
    "import torch.optim as optim\n",
    "import torch.nn.functional as F\n",
    "import random\n",
    "\n",
    "from torch.utils.data import Dataset, DataLoader"
   ]
  },
  {
   "cell_type": "code",
   "execution_count": 2,
   "metadata": {},
   "outputs": [],
   "source": [
    "transform = transforms.Compose(\n",
    "    [transforms.CenterCrop((28,28)),transforms.ToTensor(),transforms.Normalize([0.5], [0.5])])"
   ]
  },
  {
   "cell_type": "code",
   "execution_count": 3,
   "metadata": {},
   "outputs": [],
   "source": [
    "mnist_trainset = torchvision.datasets.MNIST(root='./data', train=True, download=True, transform=transform)\n",
    "mnist_testset = torchvision.datasets.MNIST(root='./data', train=False, download=True, transform=transform)"
   ]
  },
  {
   "cell_type": "code",
   "execution_count": 4,
   "metadata": {},
   "outputs": [],
   "source": [
    "corr = int(len(mnist_trainset.targets)*0.5)"
   ]
  },
  {
   "cell_type": "code",
   "execution_count": 5,
   "metadata": {},
   "outputs": [],
   "source": [
    "values = np.random.choice(np.arange(0,10,1),size= corr) \n",
    "# print(sum(values ==0),sum(values==1))\n",
    "index = np.random.randint(0,50000,size = corr)\n"
   ]
  },
  {
   "cell_type": "code",
   "execution_count": 6,
   "metadata": {},
   "outputs": [
    {
     "data": {
      "text/plain": [
       "tensor([1, 5, 2,  ..., 8, 9, 7])"
      ]
     },
     "execution_count": 6,
     "metadata": {},
     "output_type": "execute_result"
    }
   ],
   "source": [
    "mnist_trainset.targets[index]"
   ]
  },
  {
   "cell_type": "code",
   "execution_count": 7,
   "metadata": {},
   "outputs": [],
   "source": [
    "mnist_trainset.targets[index] = torch.Tensor(values).type(torch.LongTensor)\n"
   ]
  },
  {
   "cell_type": "code",
   "execution_count": 8,
   "metadata": {},
   "outputs": [
    {
     "data": {
      "text/plain": [
       "tensor([3, 4, 6,  ..., 6, 7, 4])"
      ]
     },
     "execution_count": 8,
     "metadata": {},
     "output_type": "execute_result"
    }
   ],
   "source": [
    "mnist_trainset.targets[index]"
   ]
  },
  {
   "cell_type": "code",
   "execution_count": 9,
   "metadata": {},
   "outputs": [],
   "source": [
    "trainloader = torch.utils.data.DataLoader(mnist_trainset, batch_size=256,shuffle=False, num_workers=2)"
   ]
  },
  {
   "cell_type": "code",
   "execution_count": 10,
   "metadata": {},
   "outputs": [],
   "source": [
    "testloader = torch.utils.data.DataLoader(mnist_testset, batch_size=256,shuffle=False, num_workers=2)"
   ]
  },
  {
   "cell_type": "code",
   "execution_count": 11,
   "metadata": {},
   "outputs": [],
   "source": [
    "dataiter = iter(trainloader)\n",
    "images, labels = dataiter.next()"
   ]
  },
  {
   "cell_type": "code",
   "execution_count": 12,
   "metadata": {},
   "outputs": [
    {
     "data": {
      "text/plain": [
       "torch.Size([4, 1, 28, 28])"
      ]
     },
     "execution_count": 12,
     "metadata": {},
     "output_type": "execute_result"
    }
   ],
   "source": [
    "images[:4].shape"
   ]
  },
  {
   "cell_type": "code",
   "execution_count": 13,
   "metadata": {},
   "outputs": [],
   "source": [
    "\n",
    "classes = ('zero', 'one','two','three','four','five','six','seven','eight','nine')"
   ]
  },
  {
   "cell_type": "code",
   "execution_count": 14,
   "metadata": {},
   "outputs": [],
   "source": [
    "def imshow(img):\n",
    "    img = img / 2 + 0.5     # unnormalize\n",
    "    npimg = img.numpy()\n",
    "    plt.imshow(np.transpose(npimg, (1, 2, 0)))\n",
    "    plt.show()"
   ]
  },
  {
   "cell_type": "code",
   "execution_count": 15,
   "metadata": {},
   "outputs": [
    {
     "data": {
      "image/png": "[encoded data removed]",
      "text/plain": [
       "<Figure size 432x288 with 1 Axes>"
      ]
     },
     "metadata": {
      "needs_background": "light"
     },
     "output_type": "display_data"
    },
    {
     "name": "stdout",
     "output_type": "stream",
     "text": [
      "GroundTruth:   five  zero  four   one   two   two   six eight   one  four\n"
     ]
    }
   ],
   "source": [
    "imshow(torchvision.utils.make_grid(images[:10]))\n",
    "print('GroundTruth: ', ' '.join('%5s' % classes[labels[j]] for j in range(10)))"
   ]
  },
  {
   "cell_type": "code",
   "execution_count": 16,
   "metadata": {},
   "outputs": [],
   "source": [
    "class Net(nn.Module):\n",
    "    def __init__(self):\n",
    "        super(Net,self).__init__()\n",
    "        self.conv1 = nn.Conv2d(1,64,3)\n",
    "        self.conv2 = nn.Conv2d(64,128,3)\n",
    "        \n",
    "        self.linear1 = nn.Linear(128*24*24,256)\n",
    "        self.linear2 = nn.Linear(256,10)\n",
    "    def forward(self,x):\n",
    "        x = F.relu(self.conv1(x))\n",
    "        x = F.relu(self.conv2(x))\n",
    "        x = x.view(-1,128*24*24)\n",
    "        x = F.relu(self.linear1(x))\n",
    "        x = self.linear2(x)\n",
    "        return x\n",
    "        "
   ]
  },
  {
   "cell_type": "code",
   "execution_count": 17,
   "metadata": {},
   "outputs": [],
   "source": [
    "net = Net()\n",
    "net = net.to(\"cuda\")"
   ]
  },
  {
   "cell_type": "code",
   "execution_count": 18,
   "metadata": {},
   "outputs": [],
   "source": [
    "optimizer  = optim.SGD(net.parameters(),lr =0.01, momentum=0.9)\n",
    "criterion = nn.CrossEntropyLoss()"
   ]
  },
  {
   "cell_type": "code",
   "execution_count": 19,
   "metadata": {},
   "outputs": [
    {
     "name": "stdout",
     "output_type": "stream",
     "text": [
      "[1,    50] loss: 1.994\n",
      "[1,   100] loss: 1.791\n",
      "[1,   150] loss: 1.723\n",
      "[1,   200] loss: 1.579\n",
      "[2,    50] loss: 1.821\n",
      "[2,   100] loss: 1.674\n",
      "[2,   150] loss: 1.649\n",
      "[2,   200] loss: 1.532\n",
      "[3,    50] loss: 2.126\n",
      "[3,   100] loss: 1.653\n",
      "[3,   150] loss: 1.626\n",
      "[3,   200] loss: 1.512\n",
      "[4,    50] loss: 2.071\n",
      "[4,   100] loss: 1.636\n",
      "[4,   150] loss: 1.610\n",
      "[4,   200] loss: 1.496\n",
      "[5,    50] loss: 2.011\n",
      "[5,   100] loss: 1.618\n",
      "[5,   150] loss: 1.596\n",
      "[5,   200] loss: 1.482\n",
      "[6,    50] loss: 1.968\n",
      "[6,   100] loss: 1.608\n",
      "[6,   150] loss: 1.584\n",
      "[6,   200] loss: 1.468\n",
      "[7,    50] loss: 1.944\n",
      "[7,   100] loss: 1.594\n",
      "[7,   150] loss: 1.570\n",
      "[7,   200] loss: 1.454\n",
      "[8,    50] loss: 1.895\n",
      "[8,   100] loss: 1.579\n",
      "[8,   150] loss: 1.555\n",
      "[8,   200] loss: 1.439\n",
      "[9,    50] loss: 1.864\n",
      "[9,   100] loss: 1.566\n",
      "[9,   150] loss: 1.539\n",
      "[9,   200] loss: 1.422\n",
      "[10,    50] loss: 1.838\n",
      "[10,   100] loss: 1.552\n",
      "[10,   150] loss: 1.520\n",
      "[10,   200] loss: 1.403\n",
      "[11,    50] loss: 1.797\n",
      "[11,   100] loss: 1.532\n",
      "[11,   150] loss: 1.498\n",
      "[11,   200] loss: 1.380\n",
      "[12,    50] loss: 1.768\n",
      "[12,   100] loss: 1.511\n",
      "[12,   150] loss: 1.473\n",
      "[12,   200] loss: 1.353\n",
      "[13,    50] loss: 1.740\n",
      "[13,   100] loss: 1.486\n",
      "[13,   150] loss: 1.441\n",
      "[13,   200] loss: 1.319\n",
      "[14,    50] loss: 1.691\n",
      "[14,   100] loss: 1.454\n",
      "[14,   150] loss: 1.401\n",
      "[14,   200] loss: 1.276\n",
      "[15,    50] loss: 1.640\n",
      "[15,   100] loss: 1.413\n",
      "[15,   150] loss: 1.353\n",
      "[15,   200] loss: 1.222\n",
      "[16,    50] loss: 1.576\n",
      "[16,   100] loss: 1.360\n",
      "[16,   150] loss: 1.292\n",
      "[16,   200] loss: 1.155\n",
      "[17,    50] loss: 1.498\n",
      "[17,   100] loss: 1.293\n",
      "[17,   150] loss: 1.215\n",
      "[17,   200] loss: 1.071\n",
      "[18,    50] loss: 1.402\n",
      "[18,   100] loss: 1.205\n",
      "[18,   150] loss: 1.115\n",
      "[18,   200] loss: 0.970\n",
      "[19,    50] loss: 1.286\n",
      "[19,   100] loss: 1.094\n",
      "[19,   150] loss: 0.995\n",
      "[19,   200] loss: 0.848\n",
      "[20,    50] loss: 1.146\n",
      "[20,   100] loss: 0.954\n",
      "[20,   150] loss: 0.846\n",
      "[20,   200] loss: 0.703\n",
      "[21,    50] loss: 0.971\n",
      "[21,   100] loss: 0.790\n",
      "[21,   150] loss: 0.679\n",
      "[21,   200] loss: 0.564\n",
      "[22,    50] loss: 0.801\n",
      "[22,   100] loss: 0.624\n",
      "[22,   150] loss: 0.517\n",
      "[22,   200] loss: 0.430\n",
      "[23,    50] loss: 0.675\n",
      "[23,   100] loss: 0.483\n",
      "[23,   150] loss: 0.422\n",
      "[23,   200] loss: 0.380\n",
      "[24,    50] loss: 0.678\n",
      "[24,   100] loss: 0.420\n",
      "[24,   150] loss: 0.456\n",
      "[24,   200] loss: 0.459\n",
      "[25,    50] loss: 0.630\n",
      "[25,   100] loss: 0.400\n",
      "[25,   150] loss: 0.426\n",
      "[25,   200] loss: 0.433\n",
      "[26,    50] loss: 0.517\n",
      "[26,   100] loss: 0.346\n",
      "[26,   150] loss: 0.333\n",
      "[26,   200] loss: 0.308\n",
      "[27,    50] loss: 0.428\n",
      "[27,   100] loss: 0.266\n",
      "[27,   150] loss: 0.273\n",
      "[27,   200] loss: 0.191\n",
      "[28,    50] loss: 0.321\n",
      "[28,   100] loss: 0.210\n",
      "[28,   150] loss: 0.205\n",
      "[28,   200] loss: 0.164\n",
      "[29,    50] loss: 0.258\n",
      "[29,   100] loss: 0.162\n",
      "[29,   150] loss: 0.163\n",
      "[29,   200] loss: 0.131\n",
      "[30,    50] loss: 0.223\n",
      "[30,   100] loss: 0.137\n",
      "[30,   150] loss: 0.127\n",
      "[30,   200] loss: 0.109\n",
      "[31,    50] loss: 0.201\n",
      "[31,   100] loss: 0.142\n",
      "[31,   150] loss: 0.096\n",
      "[31,   200] loss: 0.092\n",
      "[32,    50] loss: 0.159\n",
      "[32,   100] loss: 0.137\n",
      "[32,   150] loss: 0.082\n",
      "[32,   200] loss: 0.075\n",
      "[33,    50] loss: 0.108\n",
      "[33,   100] loss: 0.107\n",
      "[33,   150] loss: 0.073\n",
      "[33,   200] loss: 0.064\n",
      "[34,    50] loss: 0.081\n",
      "[34,   100] loss: 0.084\n",
      "[34,   150] loss: 0.056\n",
      "[34,   200] loss: 0.056\n",
      "[35,    50] loss: 0.067\n",
      "[35,   100] loss: 0.065\n",
      "[35,   150] loss: 0.046\n",
      "[35,   200] loss: 0.045\n",
      "[36,    50] loss: 0.055\n",
      "[36,   100] loss: 0.057\n",
      "[36,   150] loss: 0.041\n",
      "[36,   200] loss: 0.040\n",
      "[37,    50] loss: 0.048\n",
      "[37,   100] loss: 0.046\n",
      "[37,   150] loss: 0.033\n",
      "[37,   200] loss: 0.037\n",
      "[38,    50] loss: 0.048\n",
      "[38,   100] loss: 0.037\n",
      "[38,   150] loss: 0.029\n",
      "[38,   200] loss: 0.030\n",
      "[39,    50] loss: 0.036\n",
      "[39,   100] loss: 0.035\n",
      "[39,   150] loss: 0.025\n",
      "[39,   200] loss: 0.023\n",
      "[40,    50] loss: 0.029\n",
      "[40,   100] loss: 0.027\n",
      "[40,   150] loss: 0.022\n",
      "[40,   200] loss: 0.016\n",
      "[41,    50] loss: 0.021\n",
      "[41,   100] loss: 0.019\n",
      "[41,   150] loss: 0.018\n",
      "[41,   200] loss: 0.011\n",
      "[42,    50] loss: 0.019\n",
      "[42,   100] loss: 0.014\n",
      "[42,   150] loss: 0.018\n",
      "[42,   200] loss: 0.010\n",
      "[43,    50] loss: 0.017\n",
      "[43,   100] loss: 0.013\n",
      "[43,   150] loss: 0.012\n",
      "[43,   200] loss: 0.010\n",
      "[44,    50] loss: 0.015\n",
      "[44,   100] loss: 0.012\n",
      "[44,   150] loss: 0.010\n",
      "[44,   200] loss: 0.008\n",
      "[45,    50] loss: 0.013\n",
      "[45,   100] loss: 0.011\n",
      "[45,   150] loss: 0.008\n",
      "[45,   200] loss: 0.007\n",
      "[46,    50] loss: 0.007\n",
      "[46,   100] loss: 0.011\n",
      "[46,   150] loss: 0.006\n",
      "[46,   200] loss: 0.006\n",
      "[47,    50] loss: 0.005\n",
      "[47,   100] loss: 0.008\n",
      "[47,   150] loss: 0.004\n",
      "[47,   200] loss: 0.005\n",
      "[48,    50] loss: 0.004\n",
      "[48,   100] loss: 0.006\n",
      "[48,   150] loss: 0.003\n",
      "[48,   200] loss: 0.004\n",
      "[49,    50] loss: 0.003\n",
      "[49,   100] loss: 0.005\n",
      "[49,   150] loss: 0.002\n",
      "[49,   200] loss: 0.003\n",
      "[50,    50] loss: 0.002\n",
      "[50,   100] loss: 0.003\n",
      "[50,   150] loss: 0.002\n",
      "[50,   200] loss: 0.002\n",
      "Finished Training\n"
     ]
    }
   ],
   "source": [
    "loss_curi = []\n",
    "for epoch in range(50): # loop over the dataset multiple times\n",
    "    ep_lossi = []\n",
    "\n",
    "    running_loss = 0.0\n",
    "    for i, data in enumerate(trainloader, 0):\n",
    "        # get the inputs\n",
    "        inputs, labels = data\n",
    "        inputs, labels = inputs.to(\"cuda\"),labels.to(\"cuda\")\n",
    "\n",
    "        # zero the parameter gradients\n",
    "        optimizer.zero_grad()\n",
    "\n",
    "        # forward + backward + optimize\n",
    "        outputs = net(inputs)\n",
    "        loss = criterion(outputs, labels)\n",
    "        loss.backward()\n",
    "        optimizer.step()\n",
    "\n",
    "        # print statistics\n",
    "        running_loss += loss.item()\n",
    "        if i % 50 == 49:    # print every 50 mini-batches\n",
    "            print('[%d, %5d] loss: %.3f' %\n",
    "                  (epoch + 1, i + 1, running_loss / 50))\n",
    "            ep_lossi.append(running_loss/50) # loss per minibatch\n",
    "            running_loss = 0.0\n",
    "            \n",
    "    loss_curi.append(np.mean(ep_lossi))   #loss per epoch\n",
    "#     if (epoch%5 == 0):\n",
    "#         _,actis= inc(inputs)\n",
    "#         acti.append(actis)\n",
    "    \n",
    "            \n",
    "\n",
    "print('Finished Training')"
   ]
  },
  {
   "cell_type": "code",
   "execution_count": 20,
   "metadata": {},
   "outputs": [
    {
     "name": "stdout",
     "output_type": "stream",
     "text": [
      "Accuracy of the network on the train images: 99 %\n"
     ]
    }
   ],
   "source": [
    "correct = 0\n",
    "total = 0\n",
    "out = []\n",
    "pred = []\n",
    "with torch.no_grad():\n",
    "    for data in trainloader:\n",
    "        images, labels = data\n",
    "        images, labels = images.to(\"cuda\"), labels.to(\"cuda\")\n",
    "        out.append(labels.cpu().numpy())\n",
    "        outputs = net(images)\n",
    "        \n",
    "        _, predicted = torch.max(outputs.data, 1)\n",
    "        pred.append(predicted.cpu().numpy())\n",
    "        total += labels.size(0)\n",
    "        correct += (predicted == labels).sum().item()\n",
    "\n",
    "print('Accuracy of the network on the train images: %d %%' % (\n",
    "    100 * correct / total))"
   ]
  },
  {
   "cell_type": "code",
   "execution_count": 22,
   "metadata": {},
   "outputs": [
    {
     "data": {
      "text/plain": [
       "(59753, 60000)"
      ]
     },
     "execution_count": 22,
     "metadata": {},
     "output_type": "execute_result"
    }
   ],
   "source": [
    "correct ,total"
   ]
  },
  {
   "cell_type": "code",
   "execution_count": 24,
   "metadata": {},
   "outputs": [],
   "source": [
    "out = np.concatenate(out,axis=0)\n",
    "pred = np.concatenate(pred,axis=0)"
   ]
  },
  {
   "cell_type": "code",
   "execution_count": 27,
   "metadata": {},
   "outputs": [
    {
     "data": {
      "text/plain": [
       "0.995"
      ]
     },
     "execution_count": 27,
     "metadata": {},
     "output_type": "execute_result"
    }
   ],
   "source": [
    "sum(out[~index]==pred[~index])/30000"
   ]
  },
  {
   "cell_type": "code",
   "execution_count": 28,
   "metadata": {},
   "outputs": [
    {
     "data": {
      "text/plain": [
       "0.9890666666666666"
      ]
     },
     "execution_count": 28,
     "metadata": {},
     "output_type": "execute_result"
    }
   ],
   "source": [
    "sum(out[index]==pred[index])/30000"
   ]
  },
  {
   "cell_type": "code",
   "execution_count": null,
   "metadata": {},
   "outputs": [],
   "source": []
  }
 ],
 "metadata": {
  "kernelspec": {
   "display_name": "Python 3",
   "language": "python",
   "name": "python3"
  },
  "language_info": {
   "codemirror_mode": {
    "name": "ipython",
    "version": 3
   },
   "file_extension": ".py",
   "mimetype": "text/x-python",
   "name": "python",
   "nbconvert_exporter": "python",
   "pygments_lexer": "ipython3",
   "version": "3.7.4"
  }
 },
 "nbformat": 4,
 "nbformat_minor": 2
}
