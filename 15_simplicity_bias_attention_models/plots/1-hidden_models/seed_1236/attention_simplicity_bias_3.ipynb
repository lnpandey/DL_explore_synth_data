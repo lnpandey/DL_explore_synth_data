{
  "nbformat": 4,
  "nbformat_minor": 0,
  "metadata": {
    "accelerator": "GPU",
    "colab": {
      "name": "attention_simplicity_bias_2.ipynb",
      "provenance": [],
      "collapsed_sections": []
    },
    "kernelspec": {
      "display_name": "Python 3",
      "language": "python",
      "name": "python3"
    },
    "language_info": {
      "codemirror_mode": {
        "name": "ipython",
        "version": 3
      },
      "file_extension": ".py",
      "mimetype": "text/x-python",
      "name": "python",
      "nbconvert_exporter": "python",
      "pygments_lexer": "ipython3",
      "version": "3.6.5"
    }
  },
  "cells": [
    {
      "cell_type": "code",
      "metadata": {
        "colab": {
          "base_uri": "https://localhost:8080/"
        },
        "id": "N2_J4Rw2r0SQ",
        "outputId": "f2fb528e-ff80-404e-d6f6-e8b1e7853212"
      },
      "source": [
        "import numpy as np\n",
        "import pandas as pd\n",
        "from matplotlib import pyplot as plt\n",
        "from tqdm import tqdm\n",
        "%matplotlib inline\n",
        "from torch.utils.data import Dataset, DataLoader\n",
        "import torch\n",
        "import torchvision\n",
        "\n",
        "import torch.nn as nn\n",
        "import torch.optim as optim\n",
        "from torch.nn import functional as F\n",
        "device = torch.device(\"cuda\" if torch.cuda.is_available() else \"cpu\")\n",
        "print(device)"
      ],
      "execution_count": 1,
      "outputs": [
        {
          "output_type": "stream",
          "text": [
            "cuda\n"
          ],
          "name": "stdout"
        }
      ]
    },
    {
      "cell_type": "markdown",
      "metadata": {
        "id": "F6fjud_Fr0Sa"
      },
      "source": [
        "# Generate dataset"
      ]
    },
    {
      "cell_type": "code",
      "metadata": {
        "colab": {
          "base_uri": "https://localhost:8080/"
        },
        "id": "CqdXHO0Cr0Sd",
        "outputId": "4eecabac-2d41-4ef4-fb20-5d1b37a6deb0"
      },
      "source": [
        "np.random.seed(1234)\n",
        "y = np.random.randint(0,4,1200)\n",
        "idx= []\n",
        "for i in range(4):\n",
        "    print(i,sum(y==i))\n",
        "    idx.append(y==i)"
      ],
      "execution_count": 2,
      "outputs": [
        {
          "output_type": "stream",
          "text": [
            "0 271\n",
            "1 320\n",
            "2 292\n",
            "3 317\n"
          ],
          "name": "stdout"
        }
      ]
    },
    {
      "cell_type": "code",
      "metadata": {
        "id": "ddhXyODwr0Sk"
      },
      "source": [
        "x = np.zeros((1200,3))"
      ],
      "execution_count": 3,
      "outputs": []
    },
    {
      "cell_type": "code",
      "metadata": {
        "id": "DbWPELOH0ae4"
      },
      "source": [
        "x[idx[0],0] = 1\n",
        "x[idx[0],1]  = np.concatenate((np.random.uniform(low=3,high=4,size=sum(idx[0])//2), np.random.uniform(low=-3,high=-4,size= (sum(idx[0])//2) + 1 )  ))\n",
        "x[idx[0],2] = np.random.uniform(low=-0.5,high=-1,size= sum(idx[0])) \n",
        "\n",
        "\n",
        "\n",
        "x[idx[1],0] = 1\n",
        "x[idx[1],1]  = np.concatenate((np.random.uniform(low=3,high=4,size=sum(idx[1])//2), np.random.uniform(low=-3,high=-4,size= (sum(idx[1])//2)  )  ))\n",
        "x[idx[1],2] = np.random.uniform(low=-0.25,high=0.25,size= sum(idx[1])) \n",
        "\n",
        "\n",
        "\n",
        "x[idx[2],0] = 1\n",
        "x[idx[2],1]  = np.concatenate((np.random.uniform(low=3,high=4,size=sum(idx[2])//2), np.random.uniform(low=-3,high=-4,size= (sum(idx[2])//2)  )  ))\n",
        "x[idx[2],2] = np.random.uniform(low=0.50,high=1,size= sum(idx[2])) \n",
        "\n",
        "\n",
        "\n",
        "\n",
        "x[idx[3],0] = -1\n",
        "x[idx[3],1:] = np.random.uniform(low =-1,high=1,size=(sum(idx[3]),2))"
      ],
      "execution_count": 4,
      "outputs": []
    },
    {
      "cell_type": "code",
      "metadata": {
        "colab": {
          "base_uri": "https://localhost:8080/",
          "height": 265
        },
        "id": "hJ8Jm7YUr0St",
        "outputId": "1ae9d2ae-be98-4cbf-a953-7b53a9ac2aa0"
      },
      "source": [
        "for i in range(4):\n",
        "    plt.scatter(x[idx[i],0],x[idx[i],1],label=\"class_\"+str(i))\n",
        "plt.legend(loc='center left', bbox_to_anchor=(1, 0.5))\n",
        "plt.xticks([-1,0,1])\n",
        "plt.yticks([-4,0,4])\n",
        "plt.savefig(\"dist1.png\",bbox_inches=\"tight\")\n",
        "plt.savefig(\"dist1.pdf\",bbox_inches=\"tight\")\n"
      ],
      "execution_count": 5,
      "outputs": [
        {
          "output_type": "display_data",
          "data": {
            "image/png": "[encoded data removed]",
            "text/plain": [
              "<Figure size 432x288 with 1 Axes>"
            ]
          },
          "metadata": {
            "tags": [],
            "needs_background": "light"
          }
        }
      ]
    },
    {
      "cell_type": "code",
      "metadata": {
        "colab": {
          "base_uri": "https://localhost:8080/",
          "height": 265
        },
        "id": "2z8-QA-qeXvD",
        "outputId": "f5064ee0-7fd5-4c51-a5e1-b6758a777bab"
      },
      "source": [
        "for i in range(4):\n",
        "    plt.scatter(x[idx[i],0],x[idx[i],2],label=\"class_\"+str(i))\n",
        "plt.legend(loc='center left', bbox_to_anchor=(1, 0.5))\n",
        "plt.xticks([-1,0,1])\n",
        "plt.yticks([-1,0,1])\n",
        "plt.savefig(\"dist2.png\",bbox_inches=\"tight\")\n",
        "plt.savefig(\"dist2.pdf\",bbox_inches=\"tight\")\n"
      ],
      "execution_count": 6,
      "outputs": [
        {
          "output_type": "display_data",
          "data": {
            "image/png": "[encoded data removed]",
            "text/plain": [
              "<Figure size 432x288 with 1 Axes>"
            ]
          },
          "metadata": {
            "tags": [],
            "needs_background": "light"
          }
        }
      ]
    },
    {
      "cell_type": "code",
      "metadata": {
        "id": "UfFHcZJOr0Sz"
      },
      "source": [
        "foreground_classes = {'class_0','class_1', 'class_2'}\n",
        "\n",
        "background_classes = {'class_3'}"
      ],
      "execution_count": 7,
      "outputs": []
    },
    {
      "cell_type": "code",
      "metadata": {
        "colab": {
          "base_uri": "https://localhost:8080/"
        },
        "id": "OplNpNQVr0S2",
        "outputId": "5be091fb-7d5a-41cd-b8a5-00b2f6e70894"
      },
      "source": [
        "\n",
        "fg_class  = np.random.randint(0,3)\n",
        "fg_idx = np.random.randint(0,9)\n",
        "\n",
        "a = []\n",
        "for i in range(9):\n",
        "    if i == fg_idx:\n",
        "        b = np.random.choice(np.where(idx[fg_class]==True)[0],size=1)\n",
        "        a.append(x[b])\n",
        "        print(\"foreground \"+str(fg_class)+\" present at \" + str(fg_idx))\n",
        "    else:\n",
        "        bg_class = np.random.randint(3,4)\n",
        "        b = np.random.choice(np.where(idx[bg_class]==True)[0],size=1)\n",
        "        a.append(x[b])\n",
        "        print(\"background \"+str(bg_class)+\" present at \" + str(i))\n",
        "a = np.concatenate(a,axis=0)\n",
        "print(a.shape)\n",
        "\n",
        "print(fg_class , fg_idx)"
      ],
      "execution_count": 8,
      "outputs": [
        {
          "output_type": "stream",
          "text": [
            "background 3 present at 0\n",
            "background 3 present at 1\n",
            "background 3 present at 2\n",
            "background 3 present at 3\n",
            "background 3 present at 4\n",
            "background 3 present at 5\n",
            "background 3 present at 6\n",
            "background 3 present at 7\n",
            "foreground 1 present at 8\n",
            "(9, 3)\n",
            "1 8\n"
          ],
          "name": "stdout"
        }
      ]
    },
    {
      "cell_type": "code",
      "metadata": {
        "colab": {
          "base_uri": "https://localhost:8080/"
        },
        "id": "dwZVmmRBr0S8",
        "outputId": "9709fe55-08e0-463b-acbd-4e095421bcad"
      },
      "source": [
        "a.shape"
      ],
      "execution_count": 9,
      "outputs": [
        {
          "output_type": "execute_result",
          "data": {
            "text/plain": [
              "(9, 3)"
            ]
          },
          "metadata": {
            "tags": []
          },
          "execution_count": 9
        }
      ]
    },
    {
      "cell_type": "code",
      "metadata": {
        "colab": {
          "base_uri": "https://localhost:8080/"
        },
        "id": "OoxzYI-ur0S_",
        "outputId": "ed818bb9-07f3-4c85-c5a6-2b934d4fd976"
      },
      "source": [
        "np.reshape(a,(27,1))"
      ],
      "execution_count": 10,
      "outputs": [
        {
          "output_type": "execute_result",
          "data": {
            "text/plain": [
              "array([[-1.        ],\n",
              "       [ 0.68503853],\n",
              "       [ 0.65270614],\n",
              "       [-1.        ],\n",
              "       [-0.0947877 ],\n",
              "       [ 0.8926987 ],\n",
              "       [-1.        ],\n",
              "       [-0.46513269],\n",
              "       [-0.7923426 ],\n",
              "       [-1.        ],\n",
              "       [-0.87515681],\n",
              "       [-0.48128579],\n",
              "       [-1.        ],\n",
              "       [ 0.28038128],\n",
              "       [-0.3318334 ],\n",
              "       [-1.        ],\n",
              "       [ 0.63985089],\n",
              "       [-0.40125188],\n",
              "       [-1.        ],\n",
              "       [ 0.56035668],\n",
              "       [ 0.69205427],\n",
              "       [-1.        ],\n",
              "       [-0.444971  ],\n",
              "       [ 0.45695537],\n",
              "       [ 1.        ],\n",
              "       [-3.76008122],\n",
              "       [ 0.13400886]])"
            ]
          },
          "metadata": {
            "tags": []
          },
          "execution_count": 10
        }
      ]
    },
    {
      "cell_type": "code",
      "metadata": {
        "id": "jqbvfbwVr0TN"
      },
      "source": [
        "desired_num = 3000\n",
        "mosaic_list =[]\n",
        "mosaic_label = []\n",
        "fore_idx=[]\n",
        "for j in range(desired_num):\n",
        "    fg_class  = np.random.randint(0,3)\n",
        "    fg_idx = np.random.randint(0,9)\n",
        "    a = []\n",
        "    for i in range(9):  #m=9\n",
        "        if i == fg_idx:\n",
        "            b = np.random.choice(np.where(idx[fg_class]==True)[0],size=1)\n",
        "            a.append(x[b])\n",
        "#             print(\"foreground \"+str(fg_class)+\" present at \" + str(fg_idx))\n",
        "        else:\n",
        "            bg_class = np.random.randint(3,4)\n",
        "            b = np.random.choice(np.where(idx[bg_class]==True)[0],size=1)\n",
        "            a.append(x[b])\n",
        "#             print(\"background \"+str(bg_class)+\" present at \" + str(i))\n",
        "    a = np.concatenate(a,axis=0)\n",
        "    mosaic_list.append(np.reshape(a,(27,1)))\n",
        "    mosaic_label.append(fg_class)\n",
        "    fore_idx.append(fg_idx)"
      ],
      "execution_count": 11,
      "outputs": []
    },
    {
      "cell_type": "code",
      "metadata": {
        "id": "BOsFmWfMr0TR"
      },
      "source": [
        "mosaic_list = np.concatenate(mosaic_list,axis=1).T\n",
        "# print(mosaic_list)"
      ],
      "execution_count": 12,
      "outputs": []
    },
    {
      "cell_type": "code",
      "metadata": {
        "colab": {
          "base_uri": "https://localhost:8080/"
        },
        "id": "C2PnW7aQr0TT",
        "outputId": "ee7e4d6d-58cb-4072-f3f5-c2f0b1142f1c"
      },
      "source": [
        "print(np.shape(mosaic_label))\n",
        "print(np.shape(fore_idx))"
      ],
      "execution_count": 13,
      "outputs": [
        {
          "output_type": "stream",
          "text": [
            "(3000,)\n",
            "(3000,)\n"
          ],
          "name": "stdout"
        }
      ]
    },
    {
      "cell_type": "code",
      "metadata": {
        "id": "yL0BRf8er0TX"
      },
      "source": [
        "class MosaicDataset(Dataset):\n",
        "  \"\"\"MosaicDataset dataset.\"\"\"\n",
        "\n",
        "  def __init__(self, mosaic_list, mosaic_label, fore_idx):\n",
        "    \"\"\"\n",
        "      Args:\n",
        "        csv_file (string): Path to the csv file with annotations.\n",
        "        root_dir (string): Directory with all the images.\n",
        "        transform (callable, optional): Optional transform to be applied\n",
        "            on a sample.\n",
        "    \"\"\"\n",
        "    self.mosaic = mosaic_list\n",
        "    self.label = mosaic_label\n",
        "    self.fore_idx = fore_idx\n",
        "\n",
        "  def __len__(self):\n",
        "    return len(self.label)\n",
        "\n",
        "  def __getitem__(self, idx):\n",
        "    return self.mosaic[idx] , self.label[idx], self.fore_idx[idx]\n",
        "\n",
        "batch = 250\n",
        "msd = MosaicDataset(mosaic_list, mosaic_label , fore_idx)\n",
        "train_loader = DataLoader( msd,batch_size= batch ,shuffle=True)"
      ],
      "execution_count": 14,
      "outputs": []
    },
    {
      "cell_type": "code",
      "metadata": {
        "id": "ZVRXgwwNr0Tb"
      },
      "source": [
        "class Wherenet(nn.Module):\n",
        "    def __init__(self):\n",
        "        super(Wherenet,self).__init__()\n",
        "        self.linear1 = nn.Linear(3,50)\n",
        "        self.linear2 = nn.Linear(50,1)\n",
        "        # self.linear3 = nn.Linear(20,1)\n",
        "\n",
        "    def forward(self,z):\n",
        "        x = torch.zeros([batch,9],dtype=torch.float64)  #m=9\n",
        "        y = torch.zeros([batch,3], dtype=torch.float64)\n",
        "        #x,y = x.to(\"cuda\"),y.to(\"cuda\")\n",
        "        for i in range(9):  #m=2\n",
        "          x[:,i] = self.helper(z[:,3*i:3*i+3])[:,0]\n",
        "            #print(k[:,0].shape,x[:,i].shape)\n",
        "        x = F.softmax(x,dim=1)   # alphas\n",
        "        x1 = x[:,0]\n",
        "        for i in range(9): #m=9\n",
        "            x1 = x[:,i]          \n",
        "            #print()\n",
        "            y = y+torch.mul(x1[:,None],z[:,3*i:3*i+3])  #d , dimension =3\n",
        "        return y , x \n",
        "\n",
        "    \n",
        "    def helper(self,x):\n",
        "        x = F.relu(self.linear1(x))\n",
        "        # x = F.relu(self.linear2(x))\n",
        "        x = self.linear2(x)\n",
        "        return x\n",
        "\n",
        "    "
      ],
      "execution_count": 15,
      "outputs": []
    },
    {
      "cell_type": "code",
      "metadata": {
        "id": "f-Ek05Kxr0Te"
      },
      "source": [
        "trainiter = iter(train_loader)\n",
        "input1,labels1,index1 = trainiter.next()\n",
        "\n"
      ],
      "execution_count": 16,
      "outputs": []
    },
    {
      "cell_type": "code",
      "metadata": {
        "colab": {
          "base_uri": "https://localhost:8080/"
        },
        "id": "SxEmWZI6r0Ti",
        "outputId": "2aa10fee-5921-476f-d975-50e3687746ef"
      },
      "source": [
        "torch.manual_seed(1236)\n",
        "where = Wherenet().double()\n",
        "where = where\n",
        "out_where,alphas = where(input1)\n",
        "out_where.shape,alphas.shape"
      ],
      "execution_count": 17,
      "outputs": [
        {
          "output_type": "execute_result",
          "data": {
            "text/plain": [
              "(torch.Size([250, 3]), torch.Size([250, 9]))"
            ]
          },
          "metadata": {
            "tags": []
          },
          "execution_count": 17
        }
      ]
    },
    {
      "cell_type": "code",
      "metadata": {
        "id": "5_XeIUk0r0Tl"
      },
      "source": [
        "class Whatnet(nn.Module):\n",
        "    def __init__(self):\n",
        "        super(Whatnet,self).__init__()\n",
        "        self.linear1 = nn.Linear(3,50)\n",
        "        self.linear2 = nn.Linear(50,3)\n",
        "        # self.linear3 = nn.Linear(20,3)\n",
        "    def forward(self,x):\n",
        "        x = F.relu(self.linear1(x))\n",
        "        # x = F.relu(self.linear2(x))\n",
        "        x = self.linear2(x)\n",
        "        return x"
      ],
      "execution_count": 18,
      "outputs": []
    },
    {
      "cell_type": "code",
      "metadata": {
        "id": "l35i9bIlr0Tp"
      },
      "source": [
        "torch.manual_seed(1236)\n",
        "what = Whatnet().double()\n",
        "# what(out_where)"
      ],
      "execution_count": 19,
      "outputs": []
    },
    {
      "cell_type": "code",
      "metadata": {
        "id": "tMEoCLo1r0Tt"
      },
      "source": [
        "test_data_required = 1000\n",
        "mosaic_list_test =[]\n",
        "mosaic_label_test = []\n",
        "fore_idx_test=[]\n",
        "for j in range(test_data_required):\n",
        "    fg_class  = np.random.randint(0,3)\n",
        "    fg_idx = np.random.randint(0,9)  #m=9\n",
        "    a = []\n",
        "    for i in range(9): #m=2\n",
        "        if i == fg_idx:\n",
        "            b = np.random.choice(np.where(idx[fg_class]==True)[0],size=1)\n",
        "            a.append(x[b])\n",
        "#             print(\"foreground \"+str(fg_class)+\" present at \" + str(fg_idx))\n",
        "        else:\n",
        "            bg_class = np.random.randint(3,4)\n",
        "            b = np.random.choice(np.where(idx[bg_class]==True)[0],size=1)\n",
        "            a.append(x[b])\n",
        "#             print(\"background \"+str(bg_class)+\" present at \" + str(i))\n",
        "    a = np.concatenate(a,axis=0)\n",
        "    mosaic_list_test.append(np.reshape(a,(27,1)))\n",
        "    mosaic_label_test.append(fg_class)\n",
        "    fore_idx_test.append(fg_idx)"
      ],
      "execution_count": 20,
      "outputs": []
    },
    {
      "cell_type": "code",
      "metadata": {
        "colab": {
          "base_uri": "https://localhost:8080/"
        },
        "id": "2Naetxvbr0Tw",
        "outputId": "b6c6ae22-f4e5-4594-a1ae-ae3d8a01c7a5"
      },
      "source": [
        "mosaic_list_test = np.concatenate(mosaic_list_test,axis=1).T\n",
        "print(mosaic_list_test.shape)"
      ],
      "execution_count": 21,
      "outputs": [
        {
          "output_type": "stream",
          "text": [
            "(1000, 27)\n"
          ],
          "name": "stdout"
        }
      ]
    },
    {
      "cell_type": "code",
      "metadata": {
        "id": "Os4KxqrFr0Tz"
      },
      "source": [
        "test_data = MosaicDataset(mosaic_list_test,mosaic_label_test,fore_idx_test)\n",
        "test_loader = DataLoader( test_data,batch_size= batch ,shuffle=False)"
      ],
      "execution_count": 22,
      "outputs": []
    },
    {
      "cell_type": "code",
      "metadata": {
        "colab": {
          "base_uri": "https://localhost:8080/"
        },
        "id": "pPQY-Wpcr0T2",
        "scrolled": true,
        "outputId": "30ed9f42-28e2-4220-ba77-3251d37cfb90"
      },
      "source": [
        "\n",
        "focus_true_pred_true =0\n",
        "focus_false_pred_true =0\n",
        "focus_true_pred_false =0\n",
        "focus_false_pred_false =0\n",
        "\n",
        "argmax_more_than_half = 0\n",
        "argmax_less_than_half =0\n",
        "\n",
        "col1=[]\n",
        "col2=[]\n",
        "col3=[]\n",
        "col4=[]\n",
        "col5=[]\n",
        "col6=[]\n",
        "col7=[]\n",
        "col8=[]\n",
        "col9=[]\n",
        "col10=[]\n",
        "col11=[]\n",
        "col12=[]\n",
        "col13=[]\n",
        "\n",
        "criterion = nn.CrossEntropyLoss()\n",
        "optimizer_where = optim.SGD(where.parameters(), lr=0.01, momentum=0.9)\n",
        "optimizer_what = optim.SGD(what.parameters(), lr=0.01, momentum=0.9)\n",
        "\n",
        "nos_epochs = 400\n",
        "\n",
        "train_loss=[]\n",
        "test_loss =[]\n",
        "train_acc = []\n",
        "test_acc = []\n",
        "for epoch in range(nos_epochs):  # loop over the dataset multiple times\n",
        "\n",
        "    focus_true_pred_true =0\n",
        "    focus_false_pred_true =0\n",
        "    focus_true_pred_false =0\n",
        "    focus_false_pred_false =0\n",
        "\n",
        "    argmax_more_than_half = 0\n",
        "    argmax_less_than_half =0\n",
        "\n",
        "    running_loss = 0.0\n",
        "    cnt=0\n",
        "\n",
        "    iteration = desired_num // batch\n",
        "\n",
        "    #training data set\n",
        "\n",
        "    for i, data in  enumerate(train_loader):\n",
        "        inputs , labels , fore_idx = data\n",
        "        #inputs,labels,fore_idx = inputs.to(device),labels.to(device),fore_idx.to(device)\n",
        "        # zero the parameter gradients\n",
        "\n",
        "        optimizer_what.zero_grad()\n",
        "        optimizer_where.zero_grad()\n",
        "        \n",
        "        \n",
        "        avg_inp,alphas = where(inputs)\n",
        "        \n",
        "        outputs = what(avg_inp)\n",
        "        \n",
        "        _, predicted = torch.max(outputs.data, 1)\n",
        "        \n",
        "        loss = criterion(outputs, labels) \n",
        "        loss.backward() \n",
        "        \n",
        "        optimizer_what.step()\n",
        "        optimizer_where.step() \n",
        "        \n",
        "\n",
        "        running_loss += loss.item()\n",
        "        if cnt % 6 == 5:    # print every 6 mini-batches\n",
        "            print('[%d, %5d] loss: %.3f' %(epoch + 1, cnt + 1, running_loss / 6))\n",
        "            running_loss = 0.0\n",
        "        cnt=cnt+1\n",
        "    \n",
        "        if epoch % 5 == 4:\n",
        "            for j in range (batch):\n",
        "                focus = torch.argmax(alphas[j])\n",
        "\n",
        "                if(alphas[j][focus] >= 0.5):\n",
        "                    argmax_more_than_half +=1\n",
        "                else:\n",
        "                    argmax_less_than_half +=1\n",
        "\n",
        "                if(focus == fore_idx[j] and predicted[j] == labels[j]):\n",
        "                    focus_true_pred_true += 1\n",
        "\n",
        "                elif(focus != fore_idx[j] and predicted[j] == labels[j]):\n",
        "                    focus_false_pred_true +=1\n",
        "\n",
        "                elif(focus == fore_idx[j] and predicted[j] != labels[j]):\n",
        "                    focus_true_pred_false +=1\n",
        "\n",
        "                elif(focus != fore_idx[j] and predicted[j] != labels[j]):\n",
        "                    focus_false_pred_false +=1\n",
        "\n",
        "    if epoch % 5 == 4:\n",
        "        col1.append(epoch)\n",
        "        col2.append(argmax_more_than_half)\n",
        "        col3.append(argmax_less_than_half)\n",
        "        col4.append(focus_true_pred_true)\n",
        "        col5.append(focus_false_pred_true)\n",
        "        col6.append(focus_true_pred_false)\n",
        "        col7.append(focus_false_pred_false)\n",
        "\n",
        "    #************************************************************************\n",
        "        #testing data set  \n",
        "        with torch.no_grad():\n",
        "            focus_true_pred_true =0\n",
        "            focus_false_pred_true =0\n",
        "            focus_true_pred_false =0\n",
        "            focus_false_pred_false =0\n",
        "\n",
        "            argmax_more_than_half = 0\n",
        "            argmax_less_than_half =0\n",
        "            for data in test_loader:\n",
        "                inputs, labels , fore_idx = data\n",
        "                #inputs,labels,fore_idx = inputs.to(device),labels.to(device),fore_idx.to(device) \n",
        "#                 print(inputs.shtorch.save(where.state_dict(),\"model_epoch\"+str(epoch)+\".pt\")ape,labels.shape)\n",
        "                avg_inp,alphas = where(inputs)\n",
        "                outputs = what(avg_inp)\n",
        "                _, predicted = torch.max(outputs.data, 1)\n",
        "\n",
        "                for j in range (batch):\n",
        "                    focus = torch.argmax(alphas[j])\n",
        "\n",
        "                    if(alphas[j][focus] >= 0.5):\n",
        "                        argmax_more_than_half +=1\n",
        "                    else:\n",
        "                        argmax_less_than_half +=1\n",
        "\n",
        "                    if(focus == fore_idx[j] and predicted[j] == labels[j]):\n",
        "                        focus_true_pred_true += 1\n",
        "\n",
        "                    elif(focus != fore_idx[j] and predicted[j] == labels[j]):\n",
        "                        focus_false_pred_true +=1\n",
        "\n",
        "                    elif(focus == fore_idx[j] and predicted[j] != labels[j]):\n",
        "                        focus_true_pred_false +=1\n",
        "\n",
        "                    elif(focus != fore_idx[j] and predicted[j] != labels[j]):\n",
        "                        focus_false_pred_false +=1\n",
        "\n",
        "        col8.append(argmax_more_than_half)\n",
        "        col9.append(argmax_less_than_half)\n",
        "        col10.append(focus_true_pred_true)\n",
        "        col11.append(focus_false_pred_true)\n",
        "        col12.append(focus_true_pred_false)\n",
        "        col13.append(focus_false_pred_false)\n",
        "        \n",
        "        #torch.save(where.state_dict(),\"where_model_epoch\"+str(epoch)+\".pt\")\n",
        "        #torch.save(what.state_dict(),\"what_model_epoch\"+str(epoch)+\".pt\")\n",
        "    \n",
        "print('Finished Training')\n",
        "#torch.save(where.state_dict(),\"where_model_epoch\"+str(nos_epochs)+\".pt\")\n",
        "#torch.save(what.state_dict(),\"what_model_epoch\"+str(epoch)+\".pt\")\n"
      ],
      "execution_count": 23,
      "outputs": [
        {
          "output_type": "stream",
          "text": [
            "[1,     6] loss: 1.105\n",
            "[1,    12] loss: 1.097\n",
            "[2,     6] loss: 1.091\n",
            "[2,    12] loss: 1.087\n",
            "[3,     6] loss: 1.084\n",
            "[3,    12] loss: 1.075\n",
            "[4,     6] loss: 1.069\n",
            "[4,    12] loss: 1.060\n",
            "[5,     6] loss: 1.051\n",
            "[5,    12] loss: 1.025\n",
            "[6,     6] loss: 1.007\n",
            "[6,    12] loss: 0.980\n",
            "[7,     6] loss: 0.948\n",
            "[7,    12] loss: 0.914\n",
            "[8,     6] loss: 0.871\n",
            "[8,    12] loss: 0.827\n",
            "[9,     6] loss: 0.771\n",
            "[9,    12] loss: 0.738\n",
            "[10,     6] loss: 0.683\n",
            "[10,    12] loss: 0.631\n",
            "[11,     6] loss: 0.583\n",
            "[11,    12] loss: 0.541\n",
            "[12,     6] loss: 0.500\n",
            "[12,    12] loss: 0.461\n",
            "[13,     6] loss: 0.429\n",
            "[13,    12] loss: 0.401\n",
            "[14,     6] loss: 0.377\n",
            "[14,    12] loss: 0.352\n",
            "[15,     6] loss: 0.331\n",
            "[15,    12] loss: 0.315\n",
            "[16,     6] loss: 0.300\n",
            "[16,    12] loss: 0.279\n",
            "[17,     6] loss: 0.268\n",
            "[17,    12] loss: 0.254\n",
            "[18,     6] loss: 0.238\n",
            "[18,    12] loss: 0.236\n",
            "[19,     6] loss: 0.221\n",
            "[19,    12] loss: 0.211\n",
            "[20,     6] loss: 0.203\n",
            "[20,    12] loss: 0.193\n",
            "[21,     6] loss: 0.188\n",
            "[21,    12] loss: 0.176\n",
            "[22,     6] loss: 0.170\n",
            "[22,    12] loss: 0.165\n",
            "[23,     6] loss: 0.163\n",
            "[23,    12] loss: 0.148\n",
            "[24,     6] loss: 0.144\n",
            "[24,    12] loss: 0.146\n",
            "[25,     6] loss: 0.137\n",
            "[25,    12] loss: 0.134\n",
            "[26,     6] loss: 0.129\n",
            "[26,    12] loss: 0.124\n",
            "[27,     6] loss: 0.123\n",
            "[27,    12] loss: 0.115\n",
            "[28,     6] loss: 0.115\n",
            "[28,    12] loss: 0.110\n",
            "[29,     6] loss: 0.104\n",
            "[29,    12] loss: 0.108\n",
            "[30,     6] loss: 0.102\n",
            "[30,    12] loss: 0.100\n",
            "[31,     6] loss: 0.098\n",
            "[31,    12] loss: 0.093\n",
            "[32,     6] loss: 0.092\n",
            "[32,    12] loss: 0.091\n",
            "[33,     6] loss: 0.089\n",
            "[33,    12] loss: 0.084\n",
            "[34,     6] loss: 0.086\n",
            "[34,    12] loss: 0.080\n",
            "[35,     6] loss: 0.080\n",
            "[35,    12] loss: 0.078\n",
            "[36,     6] loss: 0.079\n",
            "[36,    12] loss: 0.074\n",
            "[37,     6] loss: 0.072\n",
            "[37,    12] loss: 0.075\n",
            "[38,     6] loss: 0.073\n",
            "[38,    12] loss: 0.067\n",
            "[39,     6] loss: 0.066\n",
            "[39,    12] loss: 0.069\n",
            "[40,     6] loss: 0.064\n",
            "[40,    12] loss: 0.066\n",
            "[41,     6] loss: 0.063\n",
            "[41,    12] loss: 0.062\n",
            "[42,     6] loss: 0.061\n",
            "[42,    12] loss: 0.060\n",
            "[43,     6] loss: 0.059\n",
            "[43,    12] loss: 0.057\n",
            "[44,     6] loss: 0.058\n",
            "[44,    12] loss: 0.054\n",
            "[45,     6] loss: 0.055\n",
            "[45,    12] loss: 0.055\n",
            "[46,     6] loss: 0.054\n",
            "[46,    12] loss: 0.052\n",
            "[47,     6] loss: 0.052\n",
            "[47,    12] loss: 0.051\n",
            "[48,     6] loss: 0.052\n",
            "[48,    12] loss: 0.048\n",
            "[49,     6] loss: 0.049\n",
            "[49,    12] loss: 0.048\n",
            "[50,     6] loss: 0.046\n",
            "[50,    12] loss: 0.048\n",
            "[51,     6] loss: 0.045\n",
            "[51,    12] loss: 0.046\n",
            "[52,     6] loss: 0.043\n",
            "[52,    12] loss: 0.046\n",
            "[53,     6] loss: 0.042\n",
            "[53,    12] loss: 0.045\n",
            "[54,     6] loss: 0.043\n",
            "[54,    12] loss: 0.042\n",
            "[55,     6] loss: 0.041\n",
            "[55,    12] loss: 0.041\n",
            "[56,     6] loss: 0.041\n",
            "[56,    12] loss: 0.039\n",
            "[57,     6] loss: 0.041\n",
            "[57,    12] loss: 0.038\n",
            "[58,     6] loss: 0.038\n",
            "[58,    12] loss: 0.039\n",
            "[59,     6] loss: 0.038\n",
            "[59,    12] loss: 0.037\n",
            "[60,     6] loss: 0.036\n",
            "[60,    12] loss: 0.037\n",
            "[61,     6] loss: 0.036\n",
            "[61,    12] loss: 0.036\n",
            "[62,     6] loss: 0.036\n",
            "[62,    12] loss: 0.034\n",
            "[63,     6] loss: 0.035\n",
            "[63,    12] loss: 0.034\n",
            "[64,     6] loss: 0.035\n",
            "[64,    12] loss: 0.033\n",
            "[65,     6] loss: 0.032\n",
            "[65,    12] loss: 0.034\n",
            "[66,     6] loss: 0.033\n",
            "[66,    12] loss: 0.031\n",
            "[67,     6] loss: 0.033\n",
            "[67,    12] loss: 0.030\n",
            "[68,     6] loss: 0.030\n",
            "[68,    12] loss: 0.032\n",
            "[69,     6] loss: 0.030\n",
            "[69,    12] loss: 0.030\n",
            "[70,     6] loss: 0.030\n",
            "[70,    12] loss: 0.029\n",
            "[71,     6] loss: 0.029\n",
            "[71,    12] loss: 0.029\n",
            "[72,     6] loss: 0.029\n",
            "[72,    12] loss: 0.029\n",
            "[73,     6] loss: 0.027\n",
            "[73,    12] loss: 0.030\n",
            "[74,     6] loss: 0.027\n",
            "[74,    12] loss: 0.028\n",
            "[75,     6] loss: 0.028\n",
            "[75,    12] loss: 0.027\n",
            "[76,     6] loss: 0.027\n",
            "[76,    12] loss: 0.026\n",
            "[77,     6] loss: 0.027\n",
            "[77,    12] loss: 0.026\n",
            "[78,     6] loss: 0.026\n",
            "[78,    12] loss: 0.026\n",
            "[79,     6] loss: 0.025\n",
            "[79,    12] loss: 0.026\n",
            "[80,     6] loss: 0.026\n",
            "[80,    12] loss: 0.024\n",
            "[81,     6] loss: 0.024\n",
            "[81,    12] loss: 0.025\n",
            "[82,     6] loss: 0.024\n",
            "[82,    12] loss: 0.024\n",
            "[83,     6] loss: 0.025\n",
            "[83,    12] loss: 0.023\n",
            "[84,     6] loss: 0.024\n",
            "[84,    12] loss: 0.022\n",
            "[85,     6] loss: 0.023\n",
            "[85,    12] loss: 0.023\n",
            "[86,     6] loss: 0.022\n",
            "[86,    12] loss: 0.023\n",
            "[87,     6] loss: 0.022\n",
            "[87,    12] loss: 0.023\n",
            "[88,     6] loss: 0.022\n",
            "[88,    12] loss: 0.022\n",
            "[89,     6] loss: 0.023\n",
            "[89,    12] loss: 0.021\n",
            "[90,     6] loss: 0.020\n",
            "[90,    12] loss: 0.022\n",
            "[91,     6] loss: 0.022\n",
            "[91,    12] loss: 0.020\n",
            "[92,     6] loss: 0.020\n",
            "[92,    12] loss: 0.022\n",
            "[93,     6] loss: 0.019\n",
            "[93,    12] loss: 0.022\n",
            "[94,     6] loss: 0.020\n",
            "[94,    12] loss: 0.020\n",
            "[95,     6] loss: 0.020\n",
            "[95,    12] loss: 0.020\n",
            "[96,     6] loss: 0.020\n",
            "[96,    12] loss: 0.020\n",
            "[97,     6] loss: 0.020\n",
            "[97,    12] loss: 0.019\n",
            "[98,     6] loss: 0.019\n",
            "[98,    12] loss: 0.019\n",
            "[99,     6] loss: 0.019\n",
            "[99,    12] loss: 0.019\n",
            "[100,     6] loss: 0.019\n",
            "[100,    12] loss: 0.018\n",
            "[101,     6] loss: 0.019\n",
            "[101,    12] loss: 0.018\n",
            "[102,     6] loss: 0.018\n",
            "[102,    12] loss: 0.019\n",
            "[103,     6] loss: 0.017\n",
            "[103,    12] loss: 0.019\n",
            "[104,     6] loss: 0.019\n",
            "[104,    12] loss: 0.017\n",
            "[105,     6] loss: 0.018\n",
            "[105,    12] loss: 0.017\n",
            "[106,     6] loss: 0.018\n",
            "[106,    12] loss: 0.017\n",
            "[107,     6] loss: 0.017\n",
            "[107,    12] loss: 0.017\n",
            "[108,     6] loss: 0.016\n",
            "[108,    12] loss: 0.017\n",
            "[109,     6] loss: 0.017\n",
            "[109,    12] loss: 0.016\n",
            "[110,     6] loss: 0.017\n",
            "[110,    12] loss: 0.016\n",
            "[111,     6] loss: 0.016\n",
            "[111,    12] loss: 0.016\n",
            "[112,     6] loss: 0.016\n",
            "[112,    12] loss: 0.016\n",
            "[113,     6] loss: 0.015\n",
            "[113,    12] loss: 0.017\n",
            "[114,     6] loss: 0.015\n",
            "[114,    12] loss: 0.016\n",
            "[115,     6] loss: 0.016\n",
            "[115,    12] loss: 0.015\n",
            "[116,     6] loss: 0.016\n",
            "[116,    12] loss: 0.015\n",
            "[117,     6] loss: 0.015\n",
            "[117,    12] loss: 0.015\n",
            "[118,     6] loss: 0.016\n",
            "[118,    12] loss: 0.014\n",
            "[119,     6] loss: 0.016\n",
            "[119,    12] loss: 0.014\n",
            "[120,     6] loss: 0.016\n",
            "[120,    12] loss: 0.014\n",
            "[121,     6] loss: 0.015\n",
            "[121,    12] loss: 0.014\n",
            "[122,     6] loss: 0.014\n",
            "[122,    12] loss: 0.015\n",
            "[123,     6] loss: 0.014\n",
            "[123,    12] loss: 0.015\n",
            "[124,     6] loss: 0.014\n",
            "[124,    12] loss: 0.014\n",
            "[125,     6] loss: 0.014\n",
            "[125,    12] loss: 0.014\n",
            "[126,     6] loss: 0.013\n",
            "[126,    12] loss: 0.015\n",
            "[127,     6] loss: 0.014\n",
            "[127,    12] loss: 0.013\n",
            "[128,     6] loss: 0.014\n",
            "[128,    12] loss: 0.014\n",
            "[129,     6] loss: 0.014\n",
            "[129,    12] loss: 0.013\n",
            "[130,     6] loss: 0.013\n",
            "[130,    12] loss: 0.013\n",
            "[131,     6] loss: 0.014\n",
            "[131,    12] loss: 0.013\n",
            "[132,     6] loss: 0.013\n",
            "[132,    12] loss: 0.013\n",
            "[133,     6] loss: 0.013\n",
            "[133,    12] loss: 0.014\n",
            "[134,     6] loss: 0.013\n",
            "[134,    12] loss: 0.013\n",
            "[135,     6] loss: 0.013\n",
            "[135,    12] loss: 0.012\n",
            "[136,     6] loss: 0.012\n",
            "[136,    12] loss: 0.013\n",
            "[137,     6] loss: 0.012\n",
            "[137,    12] loss: 0.013\n",
            "[138,     6] loss: 0.012\n",
            "[138,    12] loss: 0.012\n",
            "[139,     6] loss: 0.012\n",
            "[139,    12] loss: 0.012\n",
            "[140,     6] loss: 0.012\n",
            "[140,    12] loss: 0.012\n",
            "[141,     6] loss: 0.012\n",
            "[141,    12] loss: 0.012\n",
            "[142,     6] loss: 0.012\n",
            "[142,    12] loss: 0.012\n",
            "[143,     6] loss: 0.012\n",
            "[143,    12] loss: 0.012\n",
            "[144,     6] loss: 0.012\n",
            "[144,    12] loss: 0.011\n",
            "[145,     6] loss: 0.011\n",
            "[145,    12] loss: 0.012\n",
            "[146,     6] loss: 0.011\n",
            "[146,    12] loss: 0.012\n",
            "[147,     6] loss: 0.011\n",
            "[147,    12] loss: 0.011\n",
            "[148,     6] loss: 0.011\n",
            "[148,    12] loss: 0.011\n",
            "[149,     6] loss: 0.011\n",
            "[149,    12] loss: 0.012\n",
            "[150,     6] loss: 0.010\n",
            "[150,    12] loss: 0.012\n",
            "[151,     6] loss: 0.011\n",
            "[151,    12] loss: 0.011\n",
            "[152,     6] loss: 0.010\n",
            "[152,    12] loss: 0.011\n",
            "[153,     6] loss: 0.011\n",
            "[153,    12] loss: 0.011\n",
            "[154,     6] loss: 0.011\n",
            "[154,    12] loss: 0.011\n",
            "[155,     6] loss: 0.011\n",
            "[155,    12] loss: 0.010\n",
            "[156,     6] loss: 0.011\n",
            "[156,    12] loss: 0.011\n",
            "[157,     6] loss: 0.010\n",
            "[157,    12] loss: 0.011\n",
            "[158,     6] loss: 0.010\n",
            "[158,    12] loss: 0.011\n",
            "[159,     6] loss: 0.011\n",
            "[159,    12] loss: 0.010\n",
            "[160,     6] loss: 0.010\n",
            "[160,    12] loss: 0.011\n",
            "[161,     6] loss: 0.010\n",
            "[161,    12] loss: 0.010\n",
            "[162,     6] loss: 0.011\n",
            "[162,    12] loss: 0.010\n",
            "[163,     6] loss: 0.010\n",
            "[163,    12] loss: 0.010\n",
            "[164,     6] loss: 0.010\n",
            "[164,    12] loss: 0.010\n",
            "[165,     6] loss: 0.009\n",
            "[165,    12] loss: 0.010\n",
            "[166,     6] loss: 0.010\n",
            "[166,    12] loss: 0.010\n",
            "[167,     6] loss: 0.010\n",
            "[167,    12] loss: 0.010\n",
            "[168,     6] loss: 0.009\n",
            "[168,    12] loss: 0.010\n",
            "[169,     6] loss: 0.009\n",
            "[169,    12] loss: 0.010\n",
            "[170,     6] loss: 0.010\n",
            "[170,    12] loss: 0.009\n",
            "[171,     6] loss: 0.010\n",
            "[171,    12] loss: 0.009\n",
            "[172,     6] loss: 0.009\n",
            "[172,    12] loss: 0.009\n",
            "[173,     6] loss: 0.009\n",
            "[173,    12] loss: 0.010\n",
            "[174,     6] loss: 0.009\n",
            "[174,    12] loss: 0.010\n",
            "[175,     6] loss: 0.010\n",
            "[175,    12] loss: 0.009\n",
            "[176,     6] loss: 0.009\n",
            "[176,    12] loss: 0.009\n",
            "[177,     6] loss: 0.009\n",
            "[177,    12] loss: 0.009\n",
            "[178,     6] loss: 0.009\n",
            "[178,    12] loss: 0.009\n",
            "[179,     6] loss: 0.009\n",
            "[179,    12] loss: 0.009\n",
            "[180,     6] loss: 0.009\n",
            "[180,    12] loss: 0.009\n",
            "[181,     6] loss: 0.009\n",
            "[181,    12] loss: 0.009\n",
            "[182,     6] loss: 0.009\n",
            "[182,    12] loss: 0.008\n",
            "[183,     6] loss: 0.009\n",
            "[183,    12] loss: 0.008\n",
            "[184,     6] loss: 0.009\n",
            "[184,    12] loss: 0.009\n",
            "[185,     6] loss: 0.009\n",
            "[185,    12] loss: 0.008\n",
            "[186,     6] loss: 0.008\n",
            "[186,    12] loss: 0.009\n",
            "[187,     6] loss: 0.008\n",
            "[187,    12] loss: 0.008\n",
            "[188,     6] loss: 0.009\n",
            "[188,    12] loss: 0.008\n",
            "[189,     6] loss: 0.008\n",
            "[189,    12] loss: 0.009\n",
            "[190,     6] loss: 0.008\n",
            "[190,    12] loss: 0.009\n",
            "[191,     6] loss: 0.009\n",
            "[191,    12] loss: 0.008\n",
            "[192,     6] loss: 0.008\n",
            "[192,    12] loss: 0.008\n",
            "[193,     6] loss: 0.008\n",
            "[193,    12] loss: 0.008\n",
            "[194,     6] loss: 0.009\n",
            "[194,    12] loss: 0.008\n",
            "[195,     6] loss: 0.008\n",
            "[195,    12] loss: 0.008\n",
            "[196,     6] loss: 0.009\n",
            "[196,    12] loss: 0.007\n",
            "[197,     6] loss: 0.009\n",
            "[197,    12] loss: 0.007\n",
            "[198,     6] loss: 0.008\n",
            "[198,    12] loss: 0.007\n",
            "[199,     6] loss: 0.008\n",
            "[199,    12] loss: 0.008\n",
            "[200,     6] loss: 0.008\n",
            "[200,    12] loss: 0.008\n",
            "[201,     6] loss: 0.009\n",
            "[201,    12] loss: 0.007\n",
            "[202,     6] loss: 0.007\n",
            "[202,    12] loss: 0.008\n",
            "[203,     6] loss: 0.008\n",
            "[203,    12] loss: 0.008\n",
            "[204,     6] loss: 0.008\n",
            "[204,    12] loss: 0.008\n",
            "[205,     6] loss: 0.007\n",
            "[205,    12] loss: 0.008\n",
            "[206,     6] loss: 0.008\n",
            "[206,    12] loss: 0.007\n",
            "[207,     6] loss: 0.008\n",
            "[207,    12] loss: 0.007\n",
            "[208,     6] loss: 0.007\n",
            "[208,    12] loss: 0.008\n",
            "[209,     6] loss: 0.007\n",
            "[209,    12] loss: 0.007\n",
            "[210,     6] loss: 0.007\n",
            "[210,    12] loss: 0.007\n",
            "[211,     6] loss: 0.007\n",
            "[211,    12] loss: 0.008\n",
            "[212,     6] loss: 0.007\n",
            "[212,    12] loss: 0.007\n",
            "[213,     6] loss: 0.007\n",
            "[213,    12] loss: 0.007\n",
            "[214,     6] loss: 0.006\n",
            "[214,    12] loss: 0.008\n",
            "[215,     6] loss: 0.007\n",
            "[215,    12] loss: 0.007\n",
            "[216,     6] loss: 0.007\n",
            "[216,    12] loss: 0.007\n",
            "[217,     6] loss: 0.007\n",
            "[217,    12] loss: 0.007\n",
            "[218,     6] loss: 0.007\n",
            "[218,    12] loss: 0.007\n",
            "[219,     6] loss: 0.007\n",
            "[219,    12] loss: 0.007\n",
            "[220,     6] loss: 0.007\n",
            "[220,    12] loss: 0.007\n",
            "[221,     6] loss: 0.007\n",
            "[221,    12] loss: 0.007\n",
            "[222,     6] loss: 0.007\n",
            "[222,    12] loss: 0.006\n",
            "[223,     6] loss: 0.007\n",
            "[223,    12] loss: 0.007\n",
            "[224,     6] loss: 0.007\n",
            "[224,    12] loss: 0.007\n",
            "[225,     6] loss: 0.007\n",
            "[225,    12] loss: 0.007\n",
            "[226,     6] loss: 0.007\n",
            "[226,    12] loss: 0.007\n",
            "[227,     6] loss: 0.007\n",
            "[227,    12] loss: 0.006\n",
            "[228,     6] loss: 0.007\n",
            "[228,    12] loss: 0.007\n",
            "[229,     6] loss: 0.007\n",
            "[229,    12] loss: 0.006\n",
            "[230,     6] loss: 0.007\n",
            "[230,    12] loss: 0.006\n",
            "[231,     6] loss: 0.007\n",
            "[231,    12] loss: 0.007\n",
            "[232,     6] loss: 0.006\n",
            "[232,    12] loss: 0.007\n",
            "[233,     6] loss: 0.007\n",
            "[233,    12] loss: 0.006\n",
            "[234,     6] loss: 0.007\n",
            "[234,    12] loss: 0.006\n",
            "[235,     6] loss: 0.006\n",
            "[235,    12] loss: 0.007\n",
            "[236,     6] loss: 0.007\n",
            "[236,    12] loss: 0.006\n",
            "[237,     6] loss: 0.007\n",
            "[237,    12] loss: 0.006\n",
            "[238,     6] loss: 0.007\n",
            "[238,    12] loss: 0.006\n",
            "[239,     6] loss: 0.007\n",
            "[239,    12] loss: 0.006\n",
            "[240,     6] loss: 0.006\n",
            "[240,    12] loss: 0.007\n",
            "[241,     6] loss: 0.007\n",
            "[241,    12] loss: 0.006\n",
            "[242,     6] loss: 0.007\n",
            "[242,    12] loss: 0.006\n",
            "[243,     6] loss: 0.006\n",
            "[243,    12] loss: 0.006\n",
            "[244,     6] loss: 0.006\n",
            "[244,    12] loss: 0.006\n",
            "[245,     6] loss: 0.006\n",
            "[245,    12] loss: 0.006\n",
            "[246,     6] loss: 0.006\n",
            "[246,    12] loss: 0.006\n",
            "[247,     6] loss: 0.006\n",
            "[247,    12] loss: 0.006\n",
            "[248,     6] loss: 0.006\n",
            "[248,    12] loss: 0.006\n",
            "[249,     6] loss: 0.006\n",
            "[249,    12] loss: 0.006\n",
            "[250,     6] loss: 0.006\n",
            "[250,    12] loss: 0.006\n",
            "[251,     6] loss: 0.006\n",
            "[251,    12] loss: 0.006\n",
            "[252,     6] loss: 0.006\n",
            "[252,    12] loss: 0.006\n",
            "[253,     6] loss: 0.006\n",
            "[253,    12] loss: 0.006\n",
            "[254,     6] loss: 0.006\n",
            "[254,    12] loss: 0.006\n",
            "[255,     6] loss: 0.006\n",
            "[255,    12] loss: 0.006\n",
            "[256,     6] loss: 0.006\n",
            "[256,    12] loss: 0.006\n",
            "[257,     6] loss: 0.006\n",
            "[257,    12] loss: 0.006\n",
            "[258,     6] loss: 0.006\n",
            "[258,    12] loss: 0.006\n",
            "[259,     6] loss: 0.006\n",
            "[259,    12] loss: 0.006\n",
            "[260,     6] loss: 0.005\n",
            "[260,    12] loss: 0.006\n",
            "[261,     6] loss: 0.006\n",
            "[261,    12] loss: 0.006\n",
            "[262,     6] loss: 0.006\n",
            "[262,    12] loss: 0.005\n",
            "[263,     6] loss: 0.005\n",
            "[263,    12] loss: 0.006\n",
            "[264,     6] loss: 0.005\n",
            "[264,    12] loss: 0.006\n",
            "[265,     6] loss: 0.006\n",
            "[265,    12] loss: 0.006\n",
            "[266,     6] loss: 0.006\n",
            "[266,    12] loss: 0.005\n",
            "[267,     6] loss: 0.006\n",
            "[267,    12] loss: 0.005\n",
            "[268,     6] loss: 0.006\n",
            "[268,    12] loss: 0.005\n",
            "[269,     6] loss: 0.005\n",
            "[269,    12] loss: 0.006\n",
            "[270,     6] loss: 0.005\n",
            "[270,    12] loss: 0.005\n",
            "[271,     6] loss: 0.005\n",
            "[271,    12] loss: 0.006\n",
            "[272,     6] loss: 0.005\n",
            "[272,    12] loss: 0.006\n",
            "[273,     6] loss: 0.005\n",
            "[273,    12] loss: 0.006\n",
            "[274,     6] loss: 0.005\n",
            "[274,    12] loss: 0.005\n",
            "[275,     6] loss: 0.005\n",
            "[275,    12] loss: 0.005\n",
            "[276,     6] loss: 0.005\n",
            "[276,    12] loss: 0.005\n",
            "[277,     6] loss: 0.005\n",
            "[277,    12] loss: 0.005\n",
            "[278,     6] loss: 0.005\n",
            "[278,    12] loss: 0.005\n",
            "[279,     6] loss: 0.005\n",
            "[279,    12] loss: 0.005\n",
            "[280,     6] loss: 0.005\n",
            "[280,    12] loss: 0.005\n",
            "[281,     6] loss: 0.005\n",
            "[281,    12] loss: 0.005\n",
            "[282,     6] loss: 0.005\n",
            "[282,    12] loss: 0.005\n",
            "[283,     6] loss: 0.005\n",
            "[283,    12] loss: 0.005\n",
            "[284,     6] loss: 0.005\n",
            "[284,    12] loss: 0.005\n",
            "[285,     6] loss: 0.005\n",
            "[285,    12] loss: 0.005\n",
            "[286,     6] loss: 0.005\n",
            "[286,    12] loss: 0.005\n",
            "[287,     6] loss: 0.005\n",
            "[287,    12] loss: 0.005\n",
            "[288,     6] loss: 0.005\n",
            "[288,    12] loss: 0.005\n",
            "[289,     6] loss: 0.005\n",
            "[289,    12] loss: 0.005\n",
            "[290,     6] loss: 0.005\n",
            "[290,    12] loss: 0.005\n",
            "[291,     6] loss: 0.005\n",
            "[291,    12] loss: 0.005\n",
            "[292,     6] loss: 0.005\n",
            "[292,    12] loss: 0.005\n",
            "[293,     6] loss: 0.005\n",
            "[293,    12] loss: 0.005\n",
            "[294,     6] loss: 0.005\n",
            "[294,    12] loss: 0.005\n",
            "[295,     6] loss: 0.005\n",
            "[295,    12] loss: 0.005\n",
            "[296,     6] loss: 0.005\n",
            "[296,    12] loss: 0.005\n",
            "[297,     6] loss: 0.005\n",
            "[297,    12] loss: 0.005\n",
            "[298,     6] loss: 0.005\n",
            "[298,    12] loss: 0.005\n",
            "[299,     6] loss: 0.005\n",
            "[299,    12] loss: 0.005\n",
            "[300,     6] loss: 0.005\n",
            "[300,    12] loss: 0.005\n",
            "[301,     6] loss: 0.005\n",
            "[301,    12] loss: 0.005\n",
            "[302,     6] loss: 0.005\n",
            "[302,    12] loss: 0.005\n",
            "[303,     6] loss: 0.005\n",
            "[303,    12] loss: 0.005\n",
            "[304,     6] loss: 0.005\n",
            "[304,    12] loss: 0.004\n",
            "[305,     6] loss: 0.005\n",
            "[305,    12] loss: 0.004\n",
            "[306,     6] loss: 0.005\n",
            "[306,    12] loss: 0.004\n",
            "[307,     6] loss: 0.005\n",
            "[307,    12] loss: 0.005\n",
            "[308,     6] loss: 0.005\n",
            "[308,    12] loss: 0.004\n",
            "[309,     6] loss: 0.005\n",
            "[309,    12] loss: 0.004\n",
            "[310,     6] loss: 0.004\n",
            "[310,    12] loss: 0.005\n",
            "[311,     6] loss: 0.005\n",
            "[311,    12] loss: 0.004\n",
            "[312,     6] loss: 0.004\n",
            "[312,    12] loss: 0.005\n",
            "[313,     6] loss: 0.005\n",
            "[313,    12] loss: 0.005\n",
            "[314,     6] loss: 0.004\n",
            "[314,    12] loss: 0.005\n",
            "[315,     6] loss: 0.004\n",
            "[315,    12] loss: 0.005\n",
            "[316,     6] loss: 0.004\n",
            "[316,    12] loss: 0.005\n",
            "[317,     6] loss: 0.004\n",
            "[317,    12] loss: 0.004\n",
            "[318,     6] loss: 0.004\n",
            "[318,    12] loss: 0.005\n",
            "[319,     6] loss: 0.005\n",
            "[319,    12] loss: 0.004\n",
            "[320,     6] loss: 0.005\n",
            "[320,    12] loss: 0.004\n",
            "[321,     6] loss: 0.004\n",
            "[321,    12] loss: 0.004\n",
            "[322,     6] loss: 0.004\n",
            "[322,    12] loss: 0.004\n",
            "[323,     6] loss: 0.005\n",
            "[323,    12] loss: 0.004\n",
            "[324,     6] loss: 0.004\n",
            "[324,    12] loss: 0.004\n",
            "[325,     6] loss: 0.004\n",
            "[325,    12] loss: 0.005\n",
            "[326,     6] loss: 0.004\n",
            "[326,    12] loss: 0.005\n",
            "[327,     6] loss: 0.004\n",
            "[327,    12] loss: 0.004\n",
            "[328,     6] loss: 0.004\n",
            "[328,    12] loss: 0.005\n",
            "[329,     6] loss: 0.004\n",
            "[329,    12] loss: 0.004\n",
            "[330,     6] loss: 0.004\n",
            "[330,    12] loss: 0.005\n",
            "[331,     6] loss: 0.004\n",
            "[331,    12] loss: 0.004\n",
            "[332,     6] loss: 0.004\n",
            "[332,    12] loss: 0.004\n",
            "[333,     6] loss: 0.004\n",
            "[333,    12] loss: 0.004\n",
            "[334,     6] loss: 0.004\n",
            "[334,    12] loss: 0.004\n",
            "[335,     6] loss: 0.004\n",
            "[335,    12] loss: 0.004\n",
            "[336,     6] loss: 0.004\n",
            "[336,    12] loss: 0.004\n",
            "[337,     6] loss: 0.004\n",
            "[337,    12] loss: 0.004\n",
            "[338,     6] loss: 0.004\n",
            "[338,    12] loss: 0.004\n",
            "[339,     6] loss: 0.004\n",
            "[339,    12] loss: 0.004\n",
            "[340,     6] loss: 0.004\n",
            "[340,    12] loss: 0.004\n",
            "[341,     6] loss: 0.004\n",
            "[341,    12] loss: 0.004\n",
            "[342,     6] loss: 0.004\n",
            "[342,    12] loss: 0.004\n",
            "[343,     6] loss: 0.004\n",
            "[343,    12] loss: 0.004\n",
            "[344,     6] loss: 0.004\n",
            "[344,    12] loss: 0.004\n",
            "[345,     6] loss: 0.004\n",
            "[345,    12] loss: 0.004\n",
            "[346,     6] loss: 0.004\n",
            "[346,    12] loss: 0.004\n",
            "[347,     6] loss: 0.004\n",
            "[347,    12] loss: 0.004\n",
            "[348,     6] loss: 0.004\n",
            "[348,    12] loss: 0.004\n",
            "[349,     6] loss: 0.004\n",
            "[349,    12] loss: 0.004\n",
            "[350,     6] loss: 0.004\n",
            "[350,    12] loss: 0.004\n",
            "[351,     6] loss: 0.004\n",
            "[351,    12] loss: 0.004\n",
            "[352,     6] loss: 0.004\n",
            "[352,    12] loss: 0.004\n",
            "[353,     6] loss: 0.004\n",
            "[353,    12] loss: 0.004\n",
            "[354,     6] loss: 0.004\n",
            "[354,    12] loss: 0.004\n",
            "[355,     6] loss: 0.004\n",
            "[355,    12] loss: 0.004\n",
            "[356,     6] loss: 0.004\n",
            "[356,    12] loss: 0.004\n",
            "[357,     6] loss: 0.004\n",
            "[357,    12] loss: 0.004\n",
            "[358,     6] loss: 0.004\n",
            "[358,    12] loss: 0.004\n",
            "[359,     6] loss: 0.004\n",
            "[359,    12] loss: 0.004\n",
            "[360,     6] loss: 0.004\n",
            "[360,    12] loss: 0.004\n",
            "[361,     6] loss: 0.004\n",
            "[361,    12] loss: 0.004\n",
            "[362,     6] loss: 0.004\n",
            "[362,    12] loss: 0.004\n",
            "[363,     6] loss: 0.004\n",
            "[363,    12] loss: 0.004\n",
            "[364,     6] loss: 0.004\n",
            "[364,    12] loss: 0.004\n",
            "[365,     6] loss: 0.004\n",
            "[365,    12] loss: 0.004\n",
            "[366,     6] loss: 0.003\n",
            "[366,    12] loss: 0.004\n",
            "[367,     6] loss: 0.004\n",
            "[367,    12] loss: 0.004\n",
            "[368,     6] loss: 0.004\n",
            "[368,    12] loss: 0.004\n",
            "[369,     6] loss: 0.004\n",
            "[369,    12] loss: 0.004\n",
            "[370,     6] loss: 0.004\n",
            "[370,    12] loss: 0.004\n",
            "[371,     6] loss: 0.003\n",
            "[371,    12] loss: 0.004\n",
            "[372,     6] loss: 0.003\n",
            "[372,    12] loss: 0.004\n",
            "[373,     6] loss: 0.004\n",
            "[373,    12] loss: 0.004\n",
            "[374,     6] loss: 0.004\n",
            "[374,    12] loss: 0.004\n",
            "[375,     6] loss: 0.003\n",
            "[375,    12] loss: 0.004\n",
            "[376,     6] loss: 0.004\n",
            "[376,    12] loss: 0.004\n",
            "[377,     6] loss: 0.004\n",
            "[377,    12] loss: 0.004\n",
            "[378,     6] loss: 0.003\n",
            "[378,    12] loss: 0.004\n",
            "[379,     6] loss: 0.004\n",
            "[379,    12] loss: 0.004\n",
            "[380,     6] loss: 0.003\n",
            "[380,    12] loss: 0.004\n",
            "[381,     6] loss: 0.004\n",
            "[381,    12] loss: 0.004\n",
            "[382,     6] loss: 0.004\n",
            "[382,    12] loss: 0.004\n",
            "[383,     6] loss: 0.004\n",
            "[383,    12] loss: 0.003\n",
            "[384,     6] loss: 0.004\n",
            "[384,    12] loss: 0.003\n",
            "[385,     6] loss: 0.003\n",
            "[385,    12] loss: 0.004\n",
            "[386,     6] loss: 0.004\n",
            "[386,    12] loss: 0.003\n",
            "[387,     6] loss: 0.003\n",
            "[387,    12] loss: 0.004\n",
            "[388,     6] loss: 0.004\n",
            "[388,    12] loss: 0.003\n",
            "[389,     6] loss: 0.003\n",
            "[389,    12] loss: 0.004\n",
            "[390,     6] loss: 0.004\n",
            "[390,    12] loss: 0.003\n",
            "[391,     6] loss: 0.004\n",
            "[391,    12] loss: 0.003\n",
            "[392,     6] loss: 0.004\n",
            "[392,    12] loss: 0.003\n",
            "[393,     6] loss: 0.004\n",
            "[393,    12] loss: 0.003\n",
            "[394,     6] loss: 0.004\n",
            "[394,    12] loss: 0.003\n",
            "[395,     6] loss: 0.003\n",
            "[395,    12] loss: 0.003\n",
            "[396,     6] loss: 0.003\n",
            "[396,    12] loss: 0.003\n",
            "[397,     6] loss: 0.003\n",
            "[397,    12] loss: 0.003\n",
            "[398,     6] loss: 0.003\n",
            "[398,    12] loss: 0.003\n",
            "[399,     6] loss: 0.003\n",
            "[399,    12] loss: 0.004\n",
            "[400,     6] loss: 0.003\n",
            "[400,    12] loss: 0.004\n",
            "Finished Training\n"
          ],
          "name": "stdout"
        }
      ]
    },
    {
      "cell_type": "code",
      "metadata": {
        "id": "UvP97PKnr0T5"
      },
      "source": [
        "k1 = 30\n",
        "k2  = 10\n",
        "\n",
        "columns = [\"epochs\", \"argmax > 0.5\" ,\"argmax < 0.5\", \"focus_true_pred_true\", \"focus_false_pred_true\", \"focus_true_pred_false\", \"focus_false_pred_false\" ]\n",
        "df_train = pd.DataFrame()\n",
        "df_test = pd.DataFrame()\n",
        "df_train[columns[0]] = col1\n",
        "df_train[columns[1]] = np.array(col2)/k1\n",
        "df_train[columns[2]] = np.array(col3)/k1\n",
        "df_train[columns[3]] = np.array(col4)/k1\n",
        "df_train[columns[4]] = np.array(col5)/k1\n",
        "df_train[columns[5]] = np.array(col6)/k1\n",
        "df_train[columns[6]] = np.array(col7)/k1\n",
        "\n",
        "df_test[columns[0]] = col1\n",
        "df_test[columns[1]] = np.array(col8)/k2\n",
        "df_test[columns[2]] = np.array(col9)/k2\n",
        "df_test[columns[3]] = np.array(col10)/k2\n",
        "df_test[columns[4]] = np.array(col11)/k2\n",
        "df_test[columns[5]] = np.array(col12)/k2\n",
        "df_test[columns[6]] = np.array(col13)/k2"
      ],
      "execution_count": 24,
      "outputs": []
    },
    {
      "cell_type": "code",
      "metadata": {
        "colab": {
          "base_uri": "https://localhost:8080/",
          "height": 456
        },
        "id": "0hAVV2I5r0T7",
        "scrolled": false,
        "outputId": "6fae1279-e1be-44da-f89a-320be1a997e1"
      },
      "source": [
        "df_train"
      ],
      "execution_count": 25,
      "outputs": [
        {
          "output_type": "execute_result",
          "data": {
            "text/html": [
              "<div>\n",
              "<style scoped>\n",
              "    .dataframe tbody tr th:only-of-type {\n",
              "        vertical-align: middle;\n",
              "    }\n",
              "\n",
              "    .dataframe tbody tr th {\n",
              "        vertical-align: top;\n",
              "    }\n",
              "\n",
              "    .dataframe thead th {\n",
              "        text-align: right;\n",
              "    }\n",
              "</style>\n",
              "<table border=\"1\" class=\"dataframe\">\n",
              "  <thead>\n",
              "    <tr style=\"text-align: right;\">\n",
              "      <th></th>\n",
              "      <th>epochs</th>\n",
              "      <th>argmax &gt; 0.5</th>\n",
              "      <th>argmax &lt; 0.5</th>\n",
              "      <th>focus_true_pred_true</th>\n",
              "      <th>focus_false_pred_true</th>\n",
              "      <th>focus_true_pred_false</th>\n",
              "      <th>focus_false_pred_false</th>\n",
              "    </tr>\n",
              "  </thead>\n",
              "  <tbody>\n",
              "    <tr>\n",
              "      <th>0</th>\n",
              "      <td>4</td>\n",
              "      <td>0.000000</td>\n",
              "      <td>100.000000</td>\n",
              "      <td>48.433333</td>\n",
              "      <td>0.000000</td>\n",
              "      <td>51.566667</td>\n",
              "      <td>0.0</td>\n",
              "    </tr>\n",
              "    <tr>\n",
              "      <th>1</th>\n",
              "      <td>9</td>\n",
              "      <td>77.800000</td>\n",
              "      <td>22.200000</td>\n",
              "      <td>96.033333</td>\n",
              "      <td>0.000000</td>\n",
              "      <td>3.966667</td>\n",
              "      <td>0.0</td>\n",
              "    </tr>\n",
              "    <tr>\n",
              "      <th>2</th>\n",
              "      <td>14</td>\n",
              "      <td>80.700000</td>\n",
              "      <td>19.300000</td>\n",
              "      <td>96.366667</td>\n",
              "      <td>3.400000</td>\n",
              "      <td>0.233333</td>\n",
              "      <td>0.0</td>\n",
              "    </tr>\n",
              "    <tr>\n",
              "      <th>3</th>\n",
              "      <td>19</td>\n",
              "      <td>81.400000</td>\n",
              "      <td>18.600000</td>\n",
              "      <td>93.900000</td>\n",
              "      <td>6.033333</td>\n",
              "      <td>0.066667</td>\n",
              "      <td>0.0</td>\n",
              "    </tr>\n",
              "    <tr>\n",
              "      <th>4</th>\n",
              "      <td>24</td>\n",
              "      <td>81.666667</td>\n",
              "      <td>18.333333</td>\n",
              "      <td>92.600000</td>\n",
              "      <td>7.333333</td>\n",
              "      <td>0.066667</td>\n",
              "      <td>0.0</td>\n",
              "    </tr>\n",
              "    <tr>\n",
              "      <th>...</th>\n",
              "      <td>...</td>\n",
              "      <td>...</td>\n",
              "      <td>...</td>\n",
              "      <td>...</td>\n",
              "      <td>...</td>\n",
              "      <td>...</td>\n",
              "      <td>...</td>\n",
              "    </tr>\n",
              "    <tr>\n",
              "      <th>75</th>\n",
              "      <td>379</td>\n",
              "      <td>81.966667</td>\n",
              "      <td>18.033333</td>\n",
              "      <td>91.000000</td>\n",
              "      <td>9.000000</td>\n",
              "      <td>0.000000</td>\n",
              "      <td>0.0</td>\n",
              "    </tr>\n",
              "    <tr>\n",
              "      <th>76</th>\n",
              "      <td>384</td>\n",
              "      <td>81.966667</td>\n",
              "      <td>18.033333</td>\n",
              "      <td>90.966667</td>\n",
              "      <td>9.033333</td>\n",
              "      <td>0.000000</td>\n",
              "      <td>0.0</td>\n",
              "    </tr>\n",
              "    <tr>\n",
              "      <th>77</th>\n",
              "      <td>389</td>\n",
              "      <td>81.966667</td>\n",
              "      <td>18.033333</td>\n",
              "      <td>90.966667</td>\n",
              "      <td>9.033333</td>\n",
              "      <td>0.000000</td>\n",
              "      <td>0.0</td>\n",
              "    </tr>\n",
              "    <tr>\n",
              "      <th>78</th>\n",
              "      <td>394</td>\n",
              "      <td>81.966667</td>\n",
              "      <td>18.033333</td>\n",
              "      <td>90.966667</td>\n",
              "      <td>9.033333</td>\n",
              "      <td>0.000000</td>\n",
              "      <td>0.0</td>\n",
              "    </tr>\n",
              "    <tr>\n",
              "      <th>79</th>\n",
              "      <td>399</td>\n",
              "      <td>81.966667</td>\n",
              "      <td>18.033333</td>\n",
              "      <td>90.966667</td>\n",
              "      <td>9.033333</td>\n",
              "      <td>0.000000</td>\n",
              "      <td>0.0</td>\n",
              "    </tr>\n",
              "  </tbody>\n",
              "</table>\n",
              "<p>80 rows × 7 columns</p>\n",
              "</div>"
            ],
            "text/plain": [
              "    epochs  argmax > 0.5  ...  focus_true_pred_false  focus_false_pred_false\n",
              "0        4      0.000000  ...              51.566667                     0.0\n",
              "1        9     77.800000  ...               3.966667                     0.0\n",
              "2       14     80.700000  ...               0.233333                     0.0\n",
              "3       19     81.400000  ...               0.066667                     0.0\n",
              "4       24     81.666667  ...               0.066667                     0.0\n",
              "..     ...           ...  ...                    ...                     ...\n",
              "75     379     81.966667  ...               0.000000                     0.0\n",
              "76     384     81.966667  ...               0.000000                     0.0\n",
              "77     389     81.966667  ...               0.000000                     0.0\n",
              "78     394     81.966667  ...               0.000000                     0.0\n",
              "79     399     81.966667  ...               0.000000                     0.0\n",
              "\n",
              "[80 rows x 7 columns]"
            ]
          },
          "metadata": {
            "tags": []
          },
          "execution_count": 25
        }
      ]
    },
    {
      "cell_type": "code",
      "metadata": {
        "colab": {
          "base_uri": "https://localhost:8080/",
          "height": 573
        },
        "id": "s-ZXousDr0T-",
        "outputId": "13aac322-8630-4692-9649-e578969e50f4"
      },
      "source": [
        "plt.plot(col1,col2, label='argmax > 0.5')\n",
        "plt.plot(col1,col3, label='argmax < 0.5')\n",
        "\n",
        "plt.legend(loc='center left', bbox_to_anchor=(1, 0.5))\n",
        "plt.xlabel(\"epochs\")\n",
        "plt.ylabel(\"training data\")\n",
        "plt.title(\"On Training set\")\n",
        "plt.show()\n",
        "\n",
        "plt.plot(col1,col4, label =\"focus_true_pred_true \")\n",
        "plt.plot(col1,col5, label =\"focus_false_pred_true \")\n",
        "plt.plot(col1,col6, label =\"focus_true_pred_false \")\n",
        "plt.plot(col1,col7, label =\"focus_false_pred_false \")\n",
        "plt.title(\"On Training set\")\n",
        "plt.legend(loc='center left', bbox_to_anchor=(1, 0.5))\n",
        "plt.xlabel(\"epochs\")\n",
        "plt.ylabel(\"training data\")\n",
        "plt.savefig(\"train_analysis_1.png\",bbox_inches=\"tight\")\n",
        "plt.savefig(\"train_analysis_1.pdf\",bbox_inches=\"tight\")\n",
        "plt.show()"
      ],
      "execution_count": 26,
      "outputs": [
        {
          "output_type": "display_data",
          "data": {
            "image/png": "[encoded data removed]",
            "text/plain": [
              "<Figure size 432x288 with 1 Axes>"
            ]
          },
          "metadata": {
            "tags": [],
            "needs_background": "light"
          }
        },
        {
          "output_type": "display_data",
          "data": {
            "image/png": "[encoded data removed]",
            "text/plain": [
              "<Figure size 432x288 with 1 Axes>"
            ]
          },
          "metadata": {
            "tags": [],
            "needs_background": "light"
          }
        }
      ]
    },
    {
      "cell_type": "code",
      "metadata": {
        "colab": {
          "base_uri": "https://localhost:8080/",
          "height": 436
        },
        "id": "LQip8h8jr0UA",
        "scrolled": true,
        "outputId": "43e0212c-60e1-4151-a14b-e86540049dd6"
      },
      "source": [
        "df_test"
      ],
      "execution_count": 27,
      "outputs": [
        {
          "output_type": "execute_result",
          "data": {
            "text/html": [
              "<div>\n",
              "<style scoped>\n",
              "    .dataframe tbody tr th:only-of-type {\n",
              "        vertical-align: middle;\n",
              "    }\n",
              "\n",
              "    .dataframe tbody tr th {\n",
              "        vertical-align: top;\n",
              "    }\n",
              "\n",
              "    .dataframe thead th {\n",
              "        text-align: right;\n",
              "    }\n",
              "</style>\n",
              "<table border=\"1\" class=\"dataframe\">\n",
              "  <thead>\n",
              "    <tr style=\"text-align: right;\">\n",
              "      <th></th>\n",
              "      <th>epochs</th>\n",
              "      <th>argmax &gt; 0.5</th>\n",
              "      <th>argmax &lt; 0.5</th>\n",
              "      <th>focus_true_pred_true</th>\n",
              "      <th>focus_false_pred_true</th>\n",
              "      <th>focus_true_pred_false</th>\n",
              "      <th>focus_false_pred_false</th>\n",
              "    </tr>\n",
              "  </thead>\n",
              "  <tbody>\n",
              "    <tr>\n",
              "      <th>0</th>\n",
              "      <td>4</td>\n",
              "      <td>0.0</td>\n",
              "      <td>100.0</td>\n",
              "      <td>47.7</td>\n",
              "      <td>0.0</td>\n",
              "      <td>52.3</td>\n",
              "      <td>0.0</td>\n",
              "    </tr>\n",
              "    <tr>\n",
              "      <th>1</th>\n",
              "      <td>9</td>\n",
              "      <td>82.7</td>\n",
              "      <td>17.3</td>\n",
              "      <td>93.8</td>\n",
              "      <td>0.0</td>\n",
              "      <td>6.2</td>\n",
              "      <td>0.0</td>\n",
              "    </tr>\n",
              "    <tr>\n",
              "      <th>2</th>\n",
              "      <td>14</td>\n",
              "      <td>82.9</td>\n",
              "      <td>17.1</td>\n",
              "      <td>96.1</td>\n",
              "      <td>3.2</td>\n",
              "      <td>0.7</td>\n",
              "      <td>0.0</td>\n",
              "    </tr>\n",
              "    <tr>\n",
              "      <th>3</th>\n",
              "      <td>19</td>\n",
              "      <td>83.5</td>\n",
              "      <td>16.5</td>\n",
              "      <td>94.3</td>\n",
              "      <td>5.3</td>\n",
              "      <td>0.4</td>\n",
              "      <td>0.0</td>\n",
              "    </tr>\n",
              "    <tr>\n",
              "      <th>4</th>\n",
              "      <td>24</td>\n",
              "      <td>84.0</td>\n",
              "      <td>16.0</td>\n",
              "      <td>93.9</td>\n",
              "      <td>5.8</td>\n",
              "      <td>0.3</td>\n",
              "      <td>0.0</td>\n",
              "    </tr>\n",
              "    <tr>\n",
              "      <th>...</th>\n",
              "      <td>...</td>\n",
              "      <td>...</td>\n",
              "      <td>...</td>\n",
              "      <td>...</td>\n",
              "      <td>...</td>\n",
              "      <td>...</td>\n",
              "      <td>...</td>\n",
              "    </tr>\n",
              "    <tr>\n",
              "      <th>75</th>\n",
              "      <td>379</td>\n",
              "      <td>84.2</td>\n",
              "      <td>15.8</td>\n",
              "      <td>93.4</td>\n",
              "      <td>6.6</td>\n",
              "      <td>0.0</td>\n",
              "      <td>0.0</td>\n",
              "    </tr>\n",
              "    <tr>\n",
              "      <th>76</th>\n",
              "      <td>384</td>\n",
              "      <td>84.2</td>\n",
              "      <td>15.8</td>\n",
              "      <td>93.4</td>\n",
              "      <td>6.6</td>\n",
              "      <td>0.0</td>\n",
              "      <td>0.0</td>\n",
              "    </tr>\n",
              "    <tr>\n",
              "      <th>77</th>\n",
              "      <td>389</td>\n",
              "      <td>84.2</td>\n",
              "      <td>15.8</td>\n",
              "      <td>93.4</td>\n",
              "      <td>6.6</td>\n",
              "      <td>0.0</td>\n",
              "      <td>0.0</td>\n",
              "    </tr>\n",
              "    <tr>\n",
              "      <th>78</th>\n",
              "      <td>394</td>\n",
              "      <td>84.2</td>\n",
              "      <td>15.8</td>\n",
              "      <td>93.4</td>\n",
              "      <td>6.6</td>\n",
              "      <td>0.0</td>\n",
              "      <td>0.0</td>\n",
              "    </tr>\n",
              "    <tr>\n",
              "      <th>79</th>\n",
              "      <td>399</td>\n",
              "      <td>84.2</td>\n",
              "      <td>15.8</td>\n",
              "      <td>93.4</td>\n",
              "      <td>6.6</td>\n",
              "      <td>0.0</td>\n",
              "      <td>0.0</td>\n",
              "    </tr>\n",
              "  </tbody>\n",
              "</table>\n",
              "<p>80 rows × 7 columns</p>\n",
              "</div>"
            ],
            "text/plain": [
              "    epochs  argmax > 0.5  ...  focus_true_pred_false  focus_false_pred_false\n",
              "0        4           0.0  ...                   52.3                     0.0\n",
              "1        9          82.7  ...                    6.2                     0.0\n",
              "2       14          82.9  ...                    0.7                     0.0\n",
              "3       19          83.5  ...                    0.4                     0.0\n",
              "4       24          84.0  ...                    0.3                     0.0\n",
              "..     ...           ...  ...                    ...                     ...\n",
              "75     379          84.2  ...                    0.0                     0.0\n",
              "76     384          84.2  ...                    0.0                     0.0\n",
              "77     389          84.2  ...                    0.0                     0.0\n",
              "78     394          84.2  ...                    0.0                     0.0\n",
              "79     399          84.2  ...                    0.0                     0.0\n",
              "\n",
              "[80 rows x 7 columns]"
            ]
          },
          "metadata": {
            "tags": []
          },
          "execution_count": 27
        }
      ]
    },
    {
      "cell_type": "code",
      "metadata": {
        "id": "oCJcmk19r0UD",
        "colab": {
          "base_uri": "https://localhost:8080/",
          "height": 573
        },
        "outputId": "010e51ca-27a9-4cd0-a2d6-a981982e0f1a"
      },
      "source": [
        "plt.plot(col1,col8, label='argmax > 0.5')\n",
        "plt.plot(col1,col9, label='argmax < 0.5')\n",
        "\n",
        "plt.legend(loc='center left', bbox_to_anchor=(1, 0.5))\n",
        "plt.xlabel(\"epochs\")\n",
        "plt.ylabel(\"Testing data\")\n",
        "plt.title(\"On Testing set\")\n",
        "plt.show()\n",
        "\n",
        "plt.plot(col1,col10, label =\"focus_true_pred_true \")\n",
        "plt.plot(col1,col11, label =\"focus_false_pred_true \")\n",
        "plt.plot(col1,col12, label =\"focus_true_pred_false \")\n",
        "plt.plot(col1,col13, label =\"focus_false_pred_false \")\n",
        "plt.title(\"On Testing set\")\n",
        "plt.legend(loc='center left', bbox_to_anchor=(1, 0.5))\n",
        "plt.xlabel(\"epochs\")\n",
        "plt.ylabel(\"Testing data\")\n",
        "plt.savefig(\"test_analysis_1.png\",bbox_inches=\"tight\")\n",
        "plt.savefig(\"test_analysis_1.pdf\",bbox_inches=\"tight\")\n",
        "plt.show()"
      ],
      "execution_count": 28,
      "outputs": [
        {
          "output_type": "display_data",
          "data": {
            "image/png": "[encoded data removed]",
            "text/plain": [
              "<Figure size 432x288 with 1 Axes>"
            ]
          },
          "metadata": {
            "tags": [],
            "needs_background": "light"
          }
        },
        {
          "output_type": "display_data",
          "data": {
            "image/png": "[encoded data removed]",
            "text/plain": [
              "<Figure size 432x288 with 1 Axes>"
            ]
          },
          "metadata": {
            "tags": [],
            "needs_background": "light"
          }
        }
      ]
    },
    {
      "cell_type": "code",
      "metadata": {
        "id": "wjKKoslK55jo"
      },
      "source": [
        "# where.state_dict()[\"linear1.weight\"][:]  = torch.Tensor(np.array([[ 0, -1]]))\n",
        "# where.state_dict()[\"linear1.bias\"][:] = torch.Tensor(np.array([0]))"
      ],
      "execution_count": 29,
      "outputs": []
    },
    {
      "cell_type": "code",
      "metadata": {
        "id": "YH_sdpkhr0UK"
      },
      "source": [
        "# for param in where.named_parameters():\n",
        "#   print(param)"
      ],
      "execution_count": 30,
      "outputs": []
    },
    {
      "cell_type": "code",
      "metadata": {
        "id": "6ANS5bw67RvG"
      },
      "source": [
        "# what.state_dict()[\"linear1.weight\"][:]  = torch.Tensor(np.array([[ 4.0075, -2.7007],\n",
        "#         [-0.7772,  2.6867],\n",
        "#         [-1.6794,  0.9356]]))\n",
        "# what.state_dict()[\"linear1.bias\"][:] = torch.Tensor(np.array([-2.7580, -3.0382,  6.3862]))"
      ],
      "execution_count": 31,
      "outputs": []
    },
    {
      "cell_type": "code",
      "metadata": {
        "id": "j3dOF2b3fkgp"
      },
      "source": [
        "# for param in what.named_parameters():\n",
        "#   print(param)"
      ],
      "execution_count": 32,
      "outputs": []
    },
    {
      "cell_type": "code",
      "metadata": {
        "id": "EZk8Ve_3foPS"
      },
      "source": [
        "xx,yy,zz= np.meshgrid(np.arange(-1.5,1.5,0.02),np.arange(-4.5,4.5,0.05),np.arange(-1.5,1.5,0.2))\n",
        "X = np.concatenate((xx.reshape(-1,1),yy.reshape(-1,1),zz.reshape(-1,1)),axis=1)\n",
        "X = torch.Tensor(X).double()\n",
        "Y = where.helper(X)\n",
        "Y1 = what(X)"
      ],
      "execution_count": 33,
      "outputs": []
    },
    {
      "cell_type": "code",
      "metadata": {
        "id": "ybdSCa9mhUGp"
      },
      "source": [
        "X = X.detach().numpy()\n",
        "Y = Y[:,0].detach().numpy()"
      ],
      "execution_count": 34,
      "outputs": []
    },
    {
      "cell_type": "code",
      "metadata": {
        "colab": {
          "base_uri": "https://localhost:8080/",
          "height": 730
        },
        "id": "0XaarBXSC9PP",
        "outputId": "09279f95-eefc-48e6-f40f-60466958c720"
      },
      "source": [
        "fig,axs = plt.subplots(3,3,figsize=(12,12),sharex=True, constrained_layout=False)\n",
        "i = 0 \n",
        "for ax in axs.ravel():\n",
        "  cs = ax.contourf(X[:,0].reshape(xx.shape)[:,:,i],X[:,1].reshape(yy.shape)[:,:,i],Y.reshape(xx.shape)[:,:,i])\n",
        "  for j in range(4):\n",
        "    ax.scatter(x[idx[j],0],x[idx[j],1],label=\"class_\"+str(j))\n",
        "  ax.set_title(\"z axis value \"+str(np.round(zz[0,0,i],2)))\n",
        "  i = i+1\n",
        "\n",
        "\n",
        "for ax in axs.flat:\n",
        "    ax.set(xlabel='X1', ylabel='X2')\n",
        "\n",
        "for ax in axs.flat:\n",
        "    ax.label_outer()\n",
        "\n",
        "fig.subplots_adjust(right=0.8)\n",
        "cbar_ax = fig.add_axes([0.85, 0.15, 0.05, 0.7])\n",
        "fig.colorbar(cs, cax=cbar_ax)\n",
        "\n",
        "plt.savefig(\"focus_illustration_11.pdf\")\n",
        "plt.savefig(\"focus_illustration_11.png\")"
      ],
      "execution_count": 35,
      "outputs": [
        {
          "output_type": "display_data",
          "data": {
            "image/png": "[encoded data removed]",
            "text/plain": [
              "<Figure size 864x864 with 10 Axes>"
            ]
          },
          "metadata": {
            "tags": [],
            "needs_background": "light"
          }
        }
      ]
    },
    {
      "cell_type": "code",
      "metadata": {
        "colab": {
          "base_uri": "https://localhost:8080/",
          "height": 730
        },
        "id": "knKrxTAfdnSZ",
        "outputId": "6451badd-3563-4ccd-8485-58878d55ab2f"
      },
      "source": [
        "fig,axs = plt.subplots(3,3,figsize=(12,12),sharex=True, constrained_layout=False)\n",
        "i = 0 \n",
        "for ax in axs.ravel():\n",
        "  cs = ax.contourf(X[:,0].reshape(xx.shape)[i,:,:],X[:,2].reshape(yy.shape)[i,:,:],Y.reshape(xx.shape)[i,:,:])\n",
        "  for j in range(4):\n",
        "    ax.scatter(x[idx[j],0],x[idx[j],2],label=\"class_\"+str(j))\n",
        "  ax.set_title(\"y axis value \"+str(np.round(yy[i,0,0],2)))\n",
        "  i = i+1\n",
        "\n",
        "\n",
        "for ax in axs.flat:\n",
        "    ax.set(xlabel='X1', ylabel='X3')\n",
        "\n",
        "for ax in axs.flat:\n",
        "    ax.label_outer()\n",
        "\n",
        "fig.subplots_adjust(right=0.8)\n",
        "cbar_ax = fig.add_axes([0.85, 0.15, 0.05, 0.7])\n",
        "fig.colorbar(cs, cax=cbar_ax)\n",
        "\n",
        "plt.savefig(\"focus_illustration_21.pdf\")\n",
        "plt.savefig(\"focus_illustration_21.png\")"
      ],
      "execution_count": 36,
      "outputs": [
        {
          "output_type": "display_data",
          "data": {
            "image/png": "[encoded data removed]",
            "text/plain": [
              "<Figure size 864x864 with 10 Axes>"
            ]
          },
          "metadata": {
            "tags": [],
            "needs_background": "light"
          }
        }
      ]
    },
    {
      "cell_type": "code",
      "metadata": {
        "id": "BYTbfs7Thay0"
      },
      "source": [
        "Y1 = Y1.detach().numpy()\n",
        "Y1 = torch.softmax(torch.Tensor(Y1),dim=1)\n",
        "_,Z4= torch.max(Y1,1)\n",
        "Z1 = Y1[:,0]\n",
        "Z2 = Y1[:,1]\n",
        "Z3 = Y1[:,2]"
      ],
      "execution_count": 37,
      "outputs": []
    },
    {
      "cell_type": "code",
      "metadata": {
        "colab": {
          "base_uri": "https://localhost:8080/"
        },
        "id": "8kG2vKUPYaI7",
        "outputId": "560598a0-1081-42c7-d38f-40c598fd4516"
      },
      "source": [
        "X[:,0].shape,Z4.shape"
      ],
      "execution_count": 38,
      "outputs": [
        {
          "output_type": "execute_result",
          "data": {
            "text/plain": [
              "((405000,), torch.Size([405000]))"
            ]
          },
          "metadata": {
            "tags": []
          },
          "execution_count": 38
        }
      ]
    },
    {
      "cell_type": "code",
      "metadata": {
        "colab": {
          "base_uri": "https://localhost:8080/",
          "height": 730
        },
        "id": "tpp5CrxyJVpG",
        "outputId": "9d0425fa-bf32-474e-86cd-f7fae160c17b"
      },
      "source": [
        "fig,axs = plt.subplots(3,3,figsize=(12,12),sharex=True, constrained_layout=False)\n",
        "i = 0 \n",
        "for ax in axs.ravel():\n",
        "  cs = ax.contourf(X[:,0].reshape(xx.shape)[:,:,i],X[:,1].reshape(yy.shape)[:,:,i],Z4.reshape(xx.shape)[:,:,i])\n",
        "  for j in range(4):\n",
        "    ax.scatter(x[idx[j],0],x[idx[j],1],label=\"class_\"+str(j))\n",
        "  ax.set_title(\"z axis value \"+str(np.round(zz[0,0,i],2)))\n",
        "  i = i+1\n",
        "\n",
        "\n",
        "for ax in axs.flat:\n",
        "    ax.set(xlabel='X1', ylabel='X2')\n",
        "\n",
        "for ax in axs.flat:\n",
        "    ax.label_outer()\n",
        "\n",
        "fig.subplots_adjust(right=0.8)\n",
        "cbar_ax = fig.add_axes([0.85, 0.15, 0.05, 0.7])\n",
        "fig.colorbar(cs, cax=cbar_ax)\n",
        "\n",
        "plt.savefig(\"classification_illustration_11.pdf\")\n",
        "plt.savefig(\"classification_illustration_11.png\")"
      ],
      "execution_count": 39,
      "outputs": [
        {
          "output_type": "display_data",
          "data": {
            "image/png": "[encoded data removed]",
            "text/plain": [
              "<Figure size 864x864 with 10 Axes>"
            ]
          },
          "metadata": {
            "tags": [],
            "needs_background": "light"
          }
        }
      ]
    },
    {
      "cell_type": "code",
      "metadata": {
        "colab": {
          "base_uri": "https://localhost:8080/",
          "height": 730
        },
        "id": "ffA-fA8vgKib",
        "outputId": "e54c7ca0-119e-49b6-92e4-c2b271c12255"
      },
      "source": [
        "fig,axs = plt.subplots(3,3,figsize=(12,12),sharex=True, constrained_layout=False)\n",
        "i = 0 \n",
        "for ax in axs.ravel():\n",
        "  cs = ax.contourf(X[:,0].reshape(xx.shape)[i,:,:],X[:,2].reshape(yy.shape)[i,:,:],Z4.reshape(xx.shape)[i,:,:])\n",
        "  for j in range(4):\n",
        "    ax.scatter(x[idx[j],0],x[idx[j],2],label=\"class_\"+str(j))\n",
        "  ax.set_title(\"z axis value \"+str(np.round(yy[i,0,0],2)))\n",
        "  i = i+1\n",
        "\n",
        "\n",
        "for ax in axs.flat:\n",
        "    ax.set(xlabel='X1', ylabel='X3')\n",
        "\n",
        "for ax in axs.flat:\n",
        "    ax.label_outer()\n",
        "\n",
        "fig.subplots_adjust(right=0.8)\n",
        "cbar_ax = fig.add_axes([0.85, 0.15, 0.05, 0.7])\n",
        "fig.colorbar(cs, cax=cbar_ax)\n",
        "\n",
        "plt.savefig(\"classification_illustration_21.pdf\")\n",
        "plt.savefig(\"classification_illustration_21.png\")"
      ],
      "execution_count": 40,
      "outputs": [
        {
          "output_type": "display_data",
          "data": {
            "image/png": "[encoded data removed]",
            "text/plain": [
              "<Figure size 864x864 with 10 Axes>"
            ]
          },
          "metadata": {
            "tags": [],
            "needs_background": "light"
          }
        }
      ]
    },
    {
      "cell_type": "code",
      "metadata": {
        "id": "2jRVEsBy9Rxc"
      },
      "source": [
        "avrg = []\n",
        "with torch.no_grad():\n",
        "  for i, data in  enumerate(train_loader):\n",
        "          inputs , labels , fore_idx = data\n",
        "          avg_inp,alphas = where(inputs)\n",
        "          avrg.append(avg_inp)\n",
        "avrg= np.concatenate(avrg,axis=0)"
      ],
      "execution_count": 41,
      "outputs": []
    },
    {
      "cell_type": "code",
      "metadata": {
        "colab": {
          "base_uri": "https://localhost:8080/"
        },
        "id": "5odtshkSjsl8",
        "outputId": "40d045da-f108-457c-b5c3-6870751f0884"
      },
      "source": [
        "avrg"
      ],
      "execution_count": 42,
      "outputs": [
        {
          "output_type": "execute_result",
          "data": {
            "text/plain": [
              "array([[ 0.9957776 ,  3.48554138,  0.05138319],\n",
              "       [ 0.99612895,  3.51955284, -0.09015193],\n",
              "       [ 0.99641221,  3.9835199 ,  0.55029813],\n",
              "       ...,\n",
              "       [ 0.9985123 ,  3.70712352, -0.99846017],\n",
              "       [-0.72318261, -0.24351667,  0.21783149],\n",
              "       [ 0.68625153, -2.64397176,  0.00887054]])"
            ]
          },
          "metadata": {
            "tags": []
          },
          "execution_count": 42
        }
      ]
    },
    {
      "cell_type": "code",
      "metadata": {
        "id": "IYMofwarmEE5"
      },
      "source": [
        "# cs = plt.contourf(X[:,0].reshape(xx.shape)[:,:,0],X[:,1].reshape(yy.shape)[:,:,0],Z4.reshape(xx.shape)[:,:,1])\n",
        "# for i in range(4):\n",
        "#     plt.scatter(x[idx[i],0],x[idx[i],1],label=\"class_\"+str(i))\n",
        "# plt.legend(loc='center left', bbox_to_anchor=(1, 0.5))\n",
        "# plt.scatter(avrg[:,0],avrg[:,1])\n",
        "# plt.savefig(\"decision_boundary.png\",bbox_inches=\"tight\")"
      ],
      "execution_count": 43,
      "outputs": []
    },
    {
      "cell_type": "code",
      "metadata": {
        "id": "gpyN2mafZ5Av"
      },
      "source": [
        "true = []\n",
        "pred = []\n",
        "acc= 0\n",
        "for i, data in  enumerate(train_loader):\n",
        "        inputs , labels , fore_idx = data\n",
        "        avg_inp,alphas = where(inputs)\n",
        "        outputs = what(avg_inp)\n",
        "        _, predicted = torch.max(outputs.data, 1)\n",
        "        true.append(labels)\n",
        "        pred.append(predicted)\n",
        "        acc+=sum(predicted == labels)"
      ],
      "execution_count": 44,
      "outputs": []
    },
    {
      "cell_type": "code",
      "metadata": {
        "id": "Ol7vxjD0bxYJ"
      },
      "source": [
        "true = np.concatenate(true,axis=0)\n",
        "pred = np.concatenate(pred,axis=0)"
      ],
      "execution_count": 45,
      "outputs": []
    },
    {
      "cell_type": "code",
      "metadata": {
        "colab": {
          "base_uri": "https://localhost:8080/"
        },
        "id": "MR7LkXexbzEi",
        "outputId": "f85c7427-648e-4b25-8f80-325d97841730"
      },
      "source": [
        "from sklearn.metrics import confusion_matrix\n",
        "confusion_matrix(true,pred)"
      ],
      "execution_count": 46,
      "outputs": [
        {
          "output_type": "execute_result",
          "data": {
            "text/plain": [
              "array([[ 944,    0,    0],\n",
              "       [   0, 1013,    0],\n",
              "       [   0,    0, 1043]])"
            ]
          },
          "metadata": {
            "tags": []
          },
          "execution_count": 46
        }
      ]
    },
    {
      "cell_type": "code",
      "metadata": {
        "id": "HBbAemTR8wRY"
      },
      "source": [
        ""
      ],
      "execution_count": 46,
      "outputs": []
    }
  ]
}