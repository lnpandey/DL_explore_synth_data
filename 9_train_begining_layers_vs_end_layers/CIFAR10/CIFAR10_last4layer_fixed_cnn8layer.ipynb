{
  "nbformat": 4,
  "nbformat_minor": 0,
  "metadata": {
    "accelerator": "GPU",
    "colab": {
      "name": "CIFAR10_last4layer_fixed_cnn8layer.ipynb",
      "provenance": [],
      "collapsed_sections": [],
      "machine_shape": "hm"
    },
    "kernelspec": {
      "display_name": "Python 3",
      "language": "python",
      "name": "python3"
    },
    "language_info": {
      "codemirror_mode": {
        "name": "ipython",
        "version": 3
      },
      "file_extension": ".py",
      "mimetype": "text/x-python",
      "name": "python",
      "nbconvert_exporter": "python",
      "pygments_lexer": "ipython3",
      "version": "3.6.5"
    },
    "widgets": {
      "application/vnd.jupyter.widget-state+json": {
        "2dd73283065a47ceb7a108375459252e": {
          "model_module": "@jupyter-widgets/controls",
          "model_name": "HBoxModel",
          "state": {
            "_view_name": "HBoxView",
            "_dom_classes": [],
            "_model_name": "HBoxModel",
            "_view_module": "@jupyter-widgets/controls",
            "_model_module_version": "1.5.0",
            "_view_count": null,
            "_view_module_version": "1.5.0",
            "box_style": "",
            "layout": "IPY_MODEL_eefe8a13f7814fe9a0ba320f96d701ec",
            "_model_module": "@jupyter-widgets/controls",
            "children": [
              "IPY_MODEL_c98d6bd086874285a3b6e8db7de60324",
              "IPY_MODEL_f9e021cf5dc84fc0bcebac9a9487c5ec"
            ]
          }
        },
        "eefe8a13f7814fe9a0ba320f96d701ec": {
          "model_module": "@jupyter-widgets/base",
          "model_name": "LayoutModel",
          "state": {
            "_view_name": "LayoutView",
            "grid_template_rows": null,
            "right": null,
            "justify_content": null,
            "_view_module": "@jupyter-widgets/base",
            "overflow": null,
            "_model_module_version": "1.2.0",
            "_view_count": null,
            "flex_flow": null,
            "width": null,
            "min_width": null,
            "border": null,
            "align_items": null,
            "bottom": null,
            "_model_module": "@jupyter-widgets/base",
            "top": null,
            "grid_column": null,
            "overflow_y": null,
            "overflow_x": null,
            "grid_auto_flow": null,
            "grid_area": null,
            "grid_template_columns": null,
            "flex": null,
            "_model_name": "LayoutModel",
            "justify_items": null,
            "grid_row": null,
            "max_height": null,
            "align_content": null,
            "visibility": null,
            "align_self": null,
            "height": null,
            "min_height": null,
            "padding": null,
            "grid_auto_rows": null,
            "grid_gap": null,
            "max_width": null,
            "order": null,
            "_view_module_version": "1.2.0",
            "grid_template_areas": null,
            "object_position": null,
            "object_fit": null,
            "grid_auto_columns": null,
            "margin": null,
            "display": null,
            "left": null
          }
        },
        "c98d6bd086874285a3b6e8db7de60324": {
          "model_module": "@jupyter-widgets/controls",
          "model_name": "FloatProgressModel",
          "state": {
            "_view_name": "ProgressView",
            "style": "IPY_MODEL_b6563e26ae0d424bbe6b41253db245d4",
            "_dom_classes": [],
            "description": "",
            "_model_name": "FloatProgressModel",
            "bar_style": "info",
            "max": 1,
            "_view_module": "@jupyter-widgets/controls",
            "_model_module_version": "1.5.0",
            "value": 1,
            "_view_count": null,
            "_view_module_version": "1.5.0",
            "orientation": "horizontal",
            "min": 0,
            "description_tooltip": null,
            "_model_module": "@jupyter-widgets/controls",
            "layout": "IPY_MODEL_e356209237d54a4283a82c1d81429761"
          }
        },
        "f9e021cf5dc84fc0bcebac9a9487c5ec": {
          "model_module": "@jupyter-widgets/controls",
          "model_name": "HTMLModel",
          "state": {
            "_view_name": "HTMLView",
            "style": "IPY_MODEL_4f490069f74b4af1aab42f609f04cc48",
            "_dom_classes": [],
            "description": "",
            "_model_name": "HTMLModel",
            "placeholder": "​",
            "_view_module": "@jupyter-widgets/controls",
            "_model_module_version": "1.5.0",
            "value": " 170500096/? [00:30&lt;00:00, 17262670.29it/s]",
            "_view_count": null,
            "_view_module_version": "1.5.0",
            "description_tooltip": null,
            "_model_module": "@jupyter-widgets/controls",
            "layout": "IPY_MODEL_8974e531aa734e398ff68760647876cb"
          }
        },
        "b6563e26ae0d424bbe6b41253db245d4": {
          "model_module": "@jupyter-widgets/controls",
          "model_name": "ProgressStyleModel",
          "state": {
            "_view_name": "StyleView",
            "_model_name": "ProgressStyleModel",
            "description_width": "initial",
            "_view_module": "@jupyter-widgets/base",
            "_model_module_version": "1.5.0",
            "_view_count": null,
            "_view_module_version": "1.2.0",
            "bar_color": null,
            "_model_module": "@jupyter-widgets/controls"
          }
        },
        "e356209237d54a4283a82c1d81429761": {
          "model_module": "@jupyter-widgets/base",
          "model_name": "LayoutModel",
          "state": {
            "_view_name": "LayoutView",
            "grid_template_rows": null,
            "right": null,
            "justify_content": null,
            "_view_module": "@jupyter-widgets/base",
            "overflow": null,
            "_model_module_version": "1.2.0",
            "_view_count": null,
            "flex_flow": null,
            "width": null,
            "min_width": null,
            "border": null,
            "align_items": null,
            "bottom": null,
            "_model_module": "@jupyter-widgets/base",
            "top": null,
            "grid_column": null,
            "overflow_y": null,
            "overflow_x": null,
            "grid_auto_flow": null,
            "grid_area": null,
            "grid_template_columns": null,
            "flex": null,
            "_model_name": "LayoutModel",
            "justify_items": null,
            "grid_row": null,
            "max_height": null,
            "align_content": null,
            "visibility": null,
            "align_self": null,
            "height": null,
            "min_height": null,
            "padding": null,
            "grid_auto_rows": null,
            "grid_gap": null,
            "max_width": null,
            "order": null,
            "_view_module_version": "1.2.0",
            "grid_template_areas": null,
            "object_position": null,
            "object_fit": null,
            "grid_auto_columns": null,
            "margin": null,
            "display": null,
            "left": null
          }
        },
        "4f490069f74b4af1aab42f609f04cc48": {
          "model_module": "@jupyter-widgets/controls",
          "model_name": "DescriptionStyleModel",
          "state": {
            "_view_name": "StyleView",
            "_model_name": "DescriptionStyleModel",
            "description_width": "",
            "_view_module": "@jupyter-widgets/base",
            "_model_module_version": "1.5.0",
            "_view_count": null,
            "_view_module_version": "1.2.0",
            "_model_module": "@jupyter-widgets/controls"
          }
        },
        "8974e531aa734e398ff68760647876cb": {
          "model_module": "@jupyter-widgets/base",
          "model_name": "LayoutModel",
          "state": {
            "_view_name": "LayoutView",
            "grid_template_rows": null,
            "right": null,
            "justify_content": null,
            "_view_module": "@jupyter-widgets/base",
            "overflow": null,
            "_model_module_version": "1.2.0",
            "_view_count": null,
            "flex_flow": null,
            "width": null,
            "min_width": null,
            "border": null,
            "align_items": null,
            "bottom": null,
            "_model_module": "@jupyter-widgets/base",
            "top": null,
            "grid_column": null,
            "overflow_y": null,
            "overflow_x": null,
            "grid_auto_flow": null,
            "grid_area": null,
            "grid_template_columns": null,
            "flex": null,
            "_model_name": "LayoutModel",
            "justify_items": null,
            "grid_row": null,
            "max_height": null,
            "align_content": null,
            "visibility": null,
            "align_self": null,
            "height": null,
            "min_height": null,
            "padding": null,
            "grid_auto_rows": null,
            "grid_gap": null,
            "max_width": null,
            "order": null,
            "_view_module_version": "1.2.0",
            "grid_template_areas": null,
            "object_position": null,
            "object_fit": null,
            "grid_auto_columns": null,
            "margin": null,
            "display": null,
            "left": null
          }
        }
      }
    }
  },
  "cells": [
    {
      "cell_type": "code",
      "metadata": {
        "id": "JSjG64ra4aFu",
        "outputId": "b24eeca0-6414-4d1f-de5d-ac7997770520",
        "colab": {
          "base_uri": "https://localhost:8080/",
          "height": 36
        }
      },
      "source": [
        "from google.colab import drive\n",
        "drive.mount('/content/drive')"
      ],
      "execution_count": 1,
      "outputs": [
        {
          "output_type": "stream",
          "text": [
            "Mounted at /content/drive\n"
          ],
          "name": "stdout"
        }
      ]
    },
    {
      "cell_type": "code",
      "metadata": {
        "id": "V8-7SARDZErK"
      },
      "source": [
        "import torch.nn as nn\n",
        "import torch.nn.functional as F\n",
        "\n",
        "import pandas as pd\n",
        "import numpy as np\n",
        "import matplotlib.pyplot as plt\n",
        "\n",
        "import torch\n",
        "import torchvision\n",
        "import torchvision.transforms as transforms\n",
        "from torch.utils.data import Dataset, DataLoader\n",
        "from torchvision import transforms, utils\n",
        "\n",
        "from matplotlib import pyplot as plt\n",
        "import copy\n",
        "\n",
        "# Ignore warnings\n",
        "import warnings\n",
        "warnings.filterwarnings(\"ignore\")\n"
      ],
      "execution_count": 2,
      "outputs": []
    },
    {
      "cell_type": "code",
      "metadata": {
        "id": "acRFqJNrZErV",
        "outputId": "213ff057-a494-4603-ca2f-c44eeb62a11f",
        "colab": {
          "base_uri": "https://localhost:8080/",
          "height": 105,
          "referenced_widgets": [
            "2dd73283065a47ceb7a108375459252e",
            "eefe8a13f7814fe9a0ba320f96d701ec",
            "c98d6bd086874285a3b6e8db7de60324",
            "f9e021cf5dc84fc0bcebac9a9487c5ec",
            "b6563e26ae0d424bbe6b41253db245d4",
            "e356209237d54a4283a82c1d81429761",
            "4f490069f74b4af1aab42f609f04cc48",
            "8974e531aa734e398ff68760647876cb"
          ]
        }
      },
      "source": [
        "transform = transforms.Compose(\n",
        "    [transforms.ToTensor(),\n",
        "     transforms.Normalize((0.5, 0.5, 0.5), (0.5, 0.5, 0.5))])\n",
        "\n",
        "trainset = torchvision.datasets.CIFAR10(root='./data', train=True, download=True, transform=transform)\n",
        "\n",
        "\n",
        "testset = torchvision.datasets.CIFAR10(root='./data', train=False, download=True, transform=transform)\n"
      ],
      "execution_count": 3,
      "outputs": [
        {
          "output_type": "stream",
          "text": [
            "Downloading https://www.cs.toronto.edu/~kriz/cifar-10-python.tar.gz to ./data/cifar-10-python.tar.gz\n"
          ],
          "name": "stdout"
        },
        {
          "output_type": "display_data",
          "data": {
            "application/vnd.jupyter.widget-view+json": {
              "model_id": "2dd73283065a47ceb7a108375459252e",
              "version_minor": 0,
              "version_major": 2
            },
            "text/plain": [
              "HBox(children=(FloatProgress(value=1.0, bar_style='info', max=1.0), HTML(value='')))"
            ]
          },
          "metadata": {
            "tags": []
          }
        },
        {
          "output_type": "stream",
          "text": [
            "Extracting ./data/cifar-10-python.tar.gz to ./data\n",
            "Files already downloaded and verified\n"
          ],
          "name": "stdout"
        }
      ]
    },
    {
      "cell_type": "code",
      "metadata": {
        "id": "gh5DXuAV1tp5"
      },
      "source": [
        "# trainloader = torch.utils.data.DataLoader(trainset, batch_size=10, shuffle=True)\n",
        "# testloader = torch.utils.data.DataLoader(testset, batch_size=10, shuffle=False)\n",
        "\n",
        "\n",
        "classes = ('plane', 'car', 'bird', 'cat', 'deer', 'dog', 'frog', 'horse', 'ship', 'truck')\n",
        "\n",
        "# foreground_classes = {'plane', 'car', 'bird'}\n",
        "\n",
        "# background_classes = {'cat', 'deer', 'dog', 'frog', 'horse','ship', 'truck'}\n",
        "\n",
        "# fg1,fg2,fg3 = 0,1,2"
      ],
      "execution_count": 4,
      "outputs": []
    },
    {
      "cell_type": "code",
      "metadata": {
        "id": "EQOH55xR6INA"
      },
      "source": [
        "trainloader = torch.utils.data.DataLoader(trainset, batch_size=256,shuffle=True)\n",
        "testloader = torch.utils.data.DataLoader(testset, batch_size=256,shuffle=False)"
      ],
      "execution_count": 5,
      "outputs": []
    },
    {
      "cell_type": "code",
      "metadata": {
        "id": "SadRzWBBZEsP"
      },
      "source": [
        "class CNN(nn.Module):\n",
        "  def __init__(self):\n",
        "    super(CNN, self).__init__()\n",
        "    self.conv1 = nn.Conv2d(in_channels=3, out_channels=32, kernel_size=3, padding=0)\n",
        "    self.conv2 = nn.Conv2d(in_channels=32, out_channels=64, kernel_size=3, padding=0)\n",
        "    self.conv3 = nn.Conv2d(in_channels=64, out_channels=128, kernel_size=3, padding=0)\n",
        "    self.conv4 = nn.Conv2d(in_channels=128, out_channels=128, kernel_size=3, padding=0)\n",
        "    self.conv5 = nn.Conv2d(in_channels=128, out_channels=128, kernel_size=3, padding=0)\n",
        "    self.conv6 = nn.Conv2d(in_channels=128, out_channels=128, kernel_size=3, padding=1)\n",
        "    self.conv7 = nn.Conv2d(in_channels=128, out_channels=128, kernel_size=3, padding=1)\n",
        "    self.conv8 = nn.Conv2d(in_channels=128, out_channels=128, kernel_size=3, padding=1)\n",
        "    self.pool = nn.MaxPool2d(kernel_size=2, stride=2)\n",
        "    self.batch_norm1 = nn.BatchNorm2d(32, track_running_stats = False)\n",
        "    self.batch_norm2 = nn.BatchNorm2d(128, track_running_stats = False)\n",
        "    self.dropout1 = nn.Dropout2d(p=0.05)\n",
        "    self.dropout2 = nn.Dropout2d(p=0.1)\n",
        "    self.fc1 = nn.Linear(128,64)\n",
        "    self.fc2 = nn.Linear(64, 32)\n",
        "    self.fc3 = nn.Linear(32, 10)\n",
        "\n",
        "\n",
        "  def forward(self, x):\n",
        "    x = self.conv1(x)\n",
        "    x = F.relu(self.batch_norm1(x))\n",
        "\n",
        "    x = (F.relu(self.conv2(x)))\n",
        "    x = self.pool(x)\n",
        "    \n",
        "    x = self.conv3(x)\n",
        "    x = F.relu(self.batch_norm2(x))\n",
        "\n",
        "    x = (F.relu(self.conv4(x)))\n",
        "    x = self.pool(x)\n",
        "    x = self.dropout1(x)\n",
        "\n",
        "    x = self.conv5(x)\n",
        "    x = F.relu(self.batch_norm2(x))\n",
        "\n",
        "    x = (F.relu(self.conv6(x)))\n",
        "    x = self.pool(x)\n",
        "\n",
        "    x = self.conv7(x)\n",
        "    x = F.relu(self.batch_norm2(x))\n",
        "\n",
        "    x = self.conv8(x)\n",
        "    x = F.relu(self.batch_norm2(x))\n",
        "    \n",
        "    x = x.view(x.size(0), -1)\n",
        "\n",
        "    x = self.dropout2(x)\n",
        "    # print(x.shape)\n",
        "    x = F.relu(self.fc1(x))\n",
        "    x = F.relu(self.fc2(x))\n",
        "    x = self.dropout2(x)\n",
        "    x = self.fc3(x)\n",
        "    return x"
      ],
      "execution_count": 7,
      "outputs": []
    },
    {
      "cell_type": "code",
      "metadata": {
        "id": "1GvXR1zV5n4w"
      },
      "source": [
        "cnn_net = CNN()#.double()\n",
        "cnn_net = cnn_net.to(\"cuda\")"
      ],
      "execution_count": 8,
      "outputs": []
    },
    {
      "cell_type": "code",
      "metadata": {
        "id": "cO37uxDTXDBV",
        "outputId": "16ee111a-5456-477c-de2c-d069ed4d7ad8",
        "colab": {
          "base_uri": "https://localhost:8080/",
          "height": 353
        }
      },
      "source": [
        "print(cnn_net)"
      ],
      "execution_count": 9,
      "outputs": [
        {
          "output_type": "stream",
          "text": [
            "CNN(\n",
            "  (conv1): Conv2d(3, 32, kernel_size=(3, 3), stride=(1, 1))\n",
            "  (conv2): Conv2d(32, 64, kernel_size=(3, 3), stride=(1, 1))\n",
            "  (conv3): Conv2d(64, 128, kernel_size=(3, 3), stride=(1, 1))\n",
            "  (conv4): Conv2d(128, 128, kernel_size=(3, 3), stride=(1, 1))\n",
            "  (conv5): Conv2d(128, 128, kernel_size=(3, 3), stride=(1, 1))\n",
            "  (conv6): Conv2d(128, 128, kernel_size=(3, 3), stride=(1, 1), padding=(1, 1))\n",
            "  (conv7): Conv2d(128, 128, kernel_size=(3, 3), stride=(1, 1), padding=(1, 1))\n",
            "  (conv8): Conv2d(128, 128, kernel_size=(3, 3), stride=(1, 1), padding=(1, 1))\n",
            "  (pool): MaxPool2d(kernel_size=2, stride=2, padding=0, dilation=1, ceil_mode=False)\n",
            "  (batch_norm1): BatchNorm2d(32, eps=1e-05, momentum=0.1, affine=True, track_running_stats=False)\n",
            "  (batch_norm2): BatchNorm2d(128, eps=1e-05, momentum=0.1, affine=True, track_running_stats=False)\n",
            "  (dropout1): Dropout2d(p=0.05, inplace=False)\n",
            "  (dropout2): Dropout2d(p=0.1, inplace=False)\n",
            "  (fc1): Linear(in_features=128, out_features=64, bias=True)\n",
            "  (fc2): Linear(in_features=64, out_features=32, bias=True)\n",
            "  (fc3): Linear(in_features=32, out_features=10, bias=True)\n",
            ")\n"
          ],
          "name": "stdout"
        }
      ]
    },
    {
      "cell_type": "code",
      "metadata": {
        "id": "zfFdFpVOkBVl",
        "outputId": "d69f3403-9c95-42c4-cde4-06020917fa24",
        "colab": {
          "base_uri": "https://localhost:8080/",
          "height": 503
        }
      },
      "source": [
        "for i,j in cnn_net.state_dict().items():\n",
        "  print(i)"
      ],
      "execution_count": 10,
      "outputs": [
        {
          "output_type": "stream",
          "text": [
            "conv1.weight\n",
            "conv1.bias\n",
            "conv2.weight\n",
            "conv2.bias\n",
            "conv3.weight\n",
            "conv3.bias\n",
            "conv4.weight\n",
            "conv4.bias\n",
            "conv5.weight\n",
            "conv5.bias\n",
            "conv6.weight\n",
            "conv6.bias\n",
            "conv7.weight\n",
            "conv7.bias\n",
            "conv8.weight\n",
            "conv8.bias\n",
            "batch_norm1.weight\n",
            "batch_norm1.bias\n",
            "batch_norm2.weight\n",
            "batch_norm2.bias\n",
            "fc1.weight\n",
            "fc1.bias\n",
            "fc2.weight\n",
            "fc2.bias\n",
            "fc3.weight\n",
            "fc3.bias\n"
          ],
          "name": "stdout"
        }
      ]
    },
    {
      "cell_type": "code",
      "metadata": {
        "id": "aIeDTIPhknNt",
        "outputId": "fd5f0590-0148-4938-8df0-1ec9f1b0de90",
        "colab": {
          "base_uri": "https://localhost:8080/",
          "height": 73
        }
      },
      "source": [
        "for i,j in cnn_net.state_dict().items():\n",
        "  if i == 'batch_norm1.weight':\n",
        "    print(i,j)"
      ],
      "execution_count": 11,
      "outputs": [
        {
          "output_type": "stream",
          "text": [
            "batch_norm1.weight tensor([1., 1., 1., 1., 1., 1., 1., 1., 1., 1., 1., 1., 1., 1., 1., 1., 1., 1.,\n",
            "        1., 1., 1., 1., 1., 1., 1., 1., 1., 1., 1., 1., 1., 1.],\n",
            "       device='cuda:0')\n"
          ],
          "name": "stdout"
        }
      ]
    },
    {
      "cell_type": "code",
      "metadata": {
        "id": "fek-B_uRlpLe",
        "outputId": "3b50daf8-2ae4-4962-f0b1-0c58aca3714e",
        "colab": {
          "base_uri": "https://localhost:8080/",
          "height": 36
        }
      },
      "source": [
        "cnn_net.load_state_dict(torch.load(\"/content/drive/My Drive/Research/train_begining_layers_vs_last_layers/\"+\"cnn_net_8layer\"+\".pt\"))"
      ],
      "execution_count": 12,
      "outputs": [
        {
          "output_type": "execute_result",
          "data": {
            "text/plain": [
              "<All keys matched successfully>"
            ]
          },
          "metadata": {
            "tags": []
          },
          "execution_count": 12
        }
      ]
    },
    {
      "cell_type": "code",
      "metadata": {
        "id": "OqPjz2wXmOuo",
        "outputId": "b6831070-d63b-4606-8ff9-f5ea52f1166c",
        "colab": {
          "base_uri": "https://localhost:8080/",
          "height": 54
        }
      },
      "source": [
        "correct = 0\n",
        "total = 0\n",
        "with torch.no_grad():\n",
        "    for data in trainloader:\n",
        "        images, labels = data\n",
        "        images, labels = images.to(\"cuda\"), labels.to(\"cuda\")\n",
        "        outputs = cnn_net(images)\n",
        "        _, predicted = torch.max(outputs.data, 1)\n",
        "        total += labels.size(0)\n",
        "        correct += (predicted == labels).sum().item()\n",
        "\n",
        "print('Accuracy of the network on the %d train images: %d %%' % (total,  100 * correct / total))\n",
        "print(total,correct)"
      ],
      "execution_count": 13,
      "outputs": [
        {
          "output_type": "stream",
          "text": [
            "Accuracy of the network on the 50000 train images: 99 %\n",
            "50000 49880\n"
          ],
          "name": "stdout"
        }
      ]
    },
    {
      "cell_type": "code",
      "metadata": {
        "id": "jsYFqNdvmOu0",
        "outputId": "83d747d7-47fb-48b8-aabe-564bda4ee92e",
        "colab": {
          "base_uri": "https://localhost:8080/",
          "height": 54
        }
      },
      "source": [
        "correct = 0\n",
        "total = 0\n",
        "out = []\n",
        "pred = []\n",
        "with torch.no_grad():\n",
        "    for data in testloader:\n",
        "        images, labels = data\n",
        "        images, labels = images.to(\"cuda\"),labels.to(\"cuda\")\n",
        "        out.append(labels.cpu().numpy())\n",
        "        outputs= cnn_net(images)\n",
        "        _, predicted = torch.max(outputs.data, 1)\n",
        "        pred.append(predicted.cpu().numpy())\n",
        "        total += labels.size(0)\n",
        "        correct += (predicted == labels).sum().item()\n",
        "\n",
        "print('Accuracy of the network on the 10000 test images: %d %%' % ( 100 * correct / total))\n",
        "print(total,correct)"
      ],
      "execution_count": 14,
      "outputs": [
        {
          "output_type": "stream",
          "text": [
            "Accuracy of the network on the 10000 test images: 80 %\n",
            "10000 8021\n"
          ],
          "name": "stdout"
        }
      ]
    },
    {
      "cell_type": "code",
      "metadata": {
        "id": "1DIuhJR1mOu8",
        "outputId": "15c474ad-46fa-4e3c-fc13-324c6c9aa755",
        "colab": {
          "base_uri": "https://localhost:8080/",
          "height": 204
        }
      },
      "source": [
        "class_correct = list(0. for i in range(10))\n",
        "class_total = list(0. for i in range(10))\n",
        "with torch.no_grad():\n",
        "    for data in testloader:\n",
        "        images, labels = data\n",
        "        images, labels = images.to(\"cuda\"),labels.to(\"cuda\")\n",
        "        outputs = cnn_net(images)\n",
        "        _, predicted = torch.max(outputs, 1)\n",
        "        c = (predicted == labels).squeeze()\n",
        "        for i in range(4):\n",
        "            label = labels[i]\n",
        "            class_correct[label] += c[i].item()\n",
        "            class_total[label] += 1\n",
        "\n",
        "\n",
        "for i in range(10):\n",
        "    print('Accuracy of %5s : %2d %%' % (\n",
        "        classes[i], 100 * class_correct[i] / class_total[i]))"
      ],
      "execution_count": 15,
      "outputs": [
        {
          "output_type": "stream",
          "text": [
            "Accuracy of plane : 75 %\n",
            "Accuracy of   car : 92 %\n",
            "Accuracy of  bird : 84 %\n",
            "Accuracy of   cat : 54 %\n",
            "Accuracy of  deer : 84 %\n",
            "Accuracy of   dog : 53 %\n",
            "Accuracy of  frog : 83 %\n",
            "Accuracy of horse : 91 %\n",
            "Accuracy of  ship : 85 %\n",
            "Accuracy of truck : 76 %\n"
          ],
          "name": "stdout"
        }
      ]
    },
    {
      "cell_type": "code",
      "metadata": {
        "id": "apTIj9b2mSOV"
      },
      "source": [
        "cnn_net.conv1 = nn.Conv2d(in_channels=3, out_channels=32, kernel_size=3, padding=0).to(\"cuda\")\n",
        "cnn_net.conv2 = nn.Conv2d(in_channels=32, out_channels=64, kernel_size=3, padding=0).to(\"cuda\")\n",
        "cnn_net.conv3 = nn.Conv2d(in_channels=64, out_channels=128, kernel_size=3, padding=0).to(\"cuda\")\n",
        "cnn_net.conv4 = nn.Conv2d(in_channels=128, out_channels=128, kernel_size=3, padding=0).to(\"cuda\")"
      ],
      "execution_count": 16,
      "outputs": []
    },
    {
      "cell_type": "code",
      "metadata": {
        "id": "9VD5hmd2qPB4"
      },
      "source": [
        "cnn_net.conv5.weight.requires_grad  = False\n",
        "cnn_net.conv5.bias.requires_grad  = False\n",
        "cnn_net.conv6.weight.requires_grad  = False\n",
        "cnn_net.conv6.bias.requires_grad  = False\n",
        "cnn_net.conv7.weight.requires_grad  = False\n",
        "cnn_net.conv7.bias.requires_grad  = False\n",
        "cnn_net.conv8.weight.requires_grad  = False\n",
        "cnn_net.conv8.bias.requires_grad  = False\n",
        "cnn_net.fc1.weight.requires_grad  = False\n",
        "cnn_net.fc1.bias.requires_grad  = False\n",
        "cnn_net.fc2.weight.requires_grad  = False\n",
        "cnn_net.fc2.bias.requires_grad  = False\n",
        "cnn_net.fc3.weight.requires_grad  = False\n",
        "cnn_net.fc3.bias.requires_grad  = False"
      ],
      "execution_count": 17,
      "outputs": []
    },
    {
      "cell_type": "code",
      "metadata": {
        "id": "Xhi9rNWpqgrv",
        "outputId": "6bffca33-28a2-4b37-dc5f-a1b8ae13c313",
        "colab": {
          "base_uri": "https://localhost:8080/",
          "height": 503
        }
      },
      "source": [
        "for param in cnn_net.parameters():\n",
        "  print(param.requires_grad)"
      ],
      "execution_count": 18,
      "outputs": [
        {
          "output_type": "stream",
          "text": [
            "True\n",
            "True\n",
            "True\n",
            "True\n",
            "True\n",
            "True\n",
            "True\n",
            "True\n",
            "False\n",
            "False\n",
            "False\n",
            "False\n",
            "False\n",
            "False\n",
            "False\n",
            "False\n",
            "True\n",
            "True\n",
            "True\n",
            "True\n",
            "False\n",
            "False\n",
            "False\n",
            "False\n",
            "False\n",
            "False\n"
          ],
          "name": "stdout"
        }
      ]
    },
    {
      "cell_type": "code",
      "metadata": {
        "id": "YicAYgZAxHUI",
        "outputId": "cce7c906-06df-47be-e25c-863d3b11fe81",
        "colab": {
          "base_uri": "https://localhost:8080/",
          "height": 54
        }
      },
      "source": [
        "correct = 0\n",
        "total = 0\n",
        "with torch.no_grad():\n",
        "    for data in trainloader:\n",
        "        images, labels = data\n",
        "        images, labels = images.to(\"cuda\"), labels.to(\"cuda\")\n",
        "        outputs = cnn_net(images)\n",
        "        _, predicted = torch.max(outputs.data, 1)\n",
        "        total += labels.size(0)\n",
        "        correct += (predicted == labels).sum().item()\n",
        "\n",
        "print('Accuracy of the network on the %d train images: %d %%' % (total,  100 * correct / total))\n",
        "print(total,correct)"
      ],
      "execution_count": 19,
      "outputs": [
        {
          "output_type": "stream",
          "text": [
            "Accuracy of the network on the 50000 train images: 15 %\n",
            "50000 7915\n"
          ],
          "name": "stdout"
        }
      ]
    },
    {
      "cell_type": "code",
      "metadata": {
        "id": "W8ACz9AlxHUX",
        "outputId": "7a5524ff-cf08-4e44-e1a6-35c0c7bbb8d4",
        "colab": {
          "base_uri": "https://localhost:8080/",
          "height": 54
        }
      },
      "source": [
        "correct = 0\n",
        "total = 0\n",
        "out = []\n",
        "pred = []\n",
        "with torch.no_grad():\n",
        "    for data in testloader:\n",
        "        images, labels = data\n",
        "        images, labels = images.to(\"cuda\"),labels.to(\"cuda\")\n",
        "        out.append(labels.cpu().numpy())\n",
        "        outputs= cnn_net(images)\n",
        "        _, predicted = torch.max(outputs.data, 1)\n",
        "        pred.append(predicted.cpu().numpy())\n",
        "        total += labels.size(0)\n",
        "        correct += (predicted == labels).sum().item()\n",
        "\n",
        "print('Accuracy of the network on the 10000 test images: %d %%' % ( 100 * correct / total))\n",
        "print(total,correct)"
      ],
      "execution_count": 20,
      "outputs": [
        {
          "output_type": "stream",
          "text": [
            "Accuracy of the network on the 10000 test images: 15 %\n",
            "10000 1587\n"
          ],
          "name": "stdout"
        }
      ]
    },
    {
      "cell_type": "code",
      "metadata": {
        "id": "P_0ckt3pxHUf",
        "outputId": "86b74353-84d8-4488-dced-e237390ff435",
        "colab": {
          "base_uri": "https://localhost:8080/",
          "height": 204
        }
      },
      "source": [
        "class_correct = list(0. for i in range(10))\n",
        "class_total = list(0. for i in range(10))\n",
        "with torch.no_grad():\n",
        "    for data in testloader:\n",
        "        images, labels = data\n",
        "        images, labels = images.to(\"cuda\"),labels.to(\"cuda\")\n",
        "        outputs = cnn_net(images)\n",
        "        _, predicted = torch.max(outputs, 1)\n",
        "        c = (predicted == labels).squeeze()\n",
        "        for i in range(4):\n",
        "            label = labels[i]\n",
        "            class_correct[label] += c[i].item()\n",
        "            class_total[label] += 1\n",
        "\n",
        "\n",
        "for i in range(10):\n",
        "    print('Accuracy of %5s : %2d %%' % (\n",
        "        classes[i], 100 * class_correct[i] / class_total[i]))"
      ],
      "execution_count": 21,
      "outputs": [
        {
          "output_type": "stream",
          "text": [
            "Accuracy of plane :  6 %\n",
            "Accuracy of   car : 15 %\n",
            "Accuracy of  bird : 15 %\n",
            "Accuracy of   cat : 31 %\n",
            "Accuracy of  deer :  7 %\n",
            "Accuracy of   dog : 20 %\n",
            "Accuracy of  frog :  0 %\n",
            "Accuracy of horse :  0 %\n",
            "Accuracy of  ship : 28 %\n",
            "Accuracy of truck : 11 %\n"
          ],
          "name": "stdout"
        }
      ]
    },
    {
      "cell_type": "code",
      "metadata": {
        "id": "n5g3geNJ5zEu"
      },
      "source": [
        "import torch.optim as optim\n",
        "criterion_cnn = nn.CrossEntropyLoss()\n",
        "optimizer_cnn = optim.SGD(cnn_net.parameters(), lr=0.01, momentum=0.9)"
      ],
      "execution_count": 22,
      "outputs": []
    },
    {
      "cell_type": "code",
      "metadata": {
        "id": "tFfAJZkcZEsY",
        "outputId": "c4cc39bf-19a6-4357-eb74-0280b7f3516c",
        "colab": {
          "base_uri": "https://localhost:8080/",
          "height": 1000
        }
      },
      "source": [
        "acti = []\n",
        "loss_curi = []\n",
        "epochs = 300\n",
        "for epoch in range(epochs): # loop over the dataset multiple times\n",
        "    ep_lossi = []\n",
        "\n",
        "    running_loss = 0.0\n",
        "    for i, data in enumerate(trainloader, 0):\n",
        "        # get the inputs\n",
        "        inputs, labels = data\n",
        "        inputs, labels = inputs.to(\"cuda\"),labels.to(\"cuda\")\n",
        "\n",
        "        # zero the parameter gradients\n",
        "        optimizer_cnn.zero_grad()\n",
        "\n",
        "        # forward + backward + optimize\n",
        "        outputs = cnn_net(inputs)\n",
        "        loss = criterion_cnn(outputs, labels)\n",
        "        loss.backward()\n",
        "        optimizer_cnn.step()\n",
        "\n",
        "        # print statistics\n",
        "        running_loss += loss.item()\n",
        "        mini_batch = 50\n",
        "        if i % mini_batch == mini_batch-1:    # print every 50 mini-batches\n",
        "            print('[%d, %5d] loss: %.3f' %(epoch + 1, i + 1, running_loss / mini_batch))\n",
        "            ep_lossi.append(running_loss/mini_batch) # loss per minibatch\n",
        "            running_loss = 0.0\n",
        "            \n",
        "    if(np.mean(ep_lossi) <= 0.01):\n",
        "      break;\n",
        "    loss_curi.append(np.mean(ep_lossi))   #loss per epoch            \n",
        "\n",
        "print('Finished Training')"
      ],
      "execution_count": 23,
      "outputs": [
        {
          "output_type": "stream",
          "text": [
            "[1,    50] loss: 3.703\n",
            "[1,   100] loss: 2.685\n",
            "[1,   150] loss: 2.541\n",
            "[2,    50] loss: 2.294\n",
            "[2,   100] loss: 2.175\n",
            "[2,   150] loss: 2.043\n",
            "[3,    50] loss: 1.899\n",
            "[3,   100] loss: 1.810\n",
            "[3,   150] loss: 1.752\n",
            "[4,    50] loss: 1.607\n",
            "[4,   100] loss: 1.582\n",
            "[4,   150] loss: 1.485\n",
            "[5,    50] loss: 1.416\n",
            "[5,   100] loss: 1.333\n",
            "[5,   150] loss: 1.294\n",
            "[6,    50] loss: 1.152\n",
            "[6,   100] loss: 1.126\n",
            "[6,   150] loss: 1.048\n",
            "[7,    50] loss: 0.967\n",
            "[7,   100] loss: 0.940\n",
            "[7,   150] loss: 0.931\n",
            "[8,    50] loss: 0.831\n",
            "[8,   100] loss: 0.819\n",
            "[8,   150] loss: 0.798\n",
            "[9,    50] loss: 0.727\n",
            "[9,   100] loss: 0.703\n",
            "[9,   150] loss: 0.717\n",
            "[10,    50] loss: 0.601\n",
            "[10,   100] loss: 0.618\n",
            "[10,   150] loss: 0.657\n",
            "[11,    50] loss: 0.544\n",
            "[11,   100] loss: 0.561\n",
            "[11,   150] loss: 0.540\n",
            "[12,    50] loss: 0.486\n",
            "[12,   100] loss: 0.506\n",
            "[12,   150] loss: 0.497\n",
            "[13,    50] loss: 0.432\n",
            "[13,   100] loss: 0.442\n",
            "[13,   150] loss: 0.459\n",
            "[14,    50] loss: 0.415\n",
            "[14,   100] loss: 0.407\n",
            "[14,   150] loss: 0.407\n",
            "[15,    50] loss: 0.362\n",
            "[15,   100] loss: 0.368\n",
            "[15,   150] loss: 0.380\n",
            "[16,    50] loss: 0.326\n",
            "[16,   100] loss: 0.346\n",
            "[16,   150] loss: 0.351\n",
            "[17,    50] loss: 0.289\n",
            "[17,   100] loss: 0.318\n",
            "[17,   150] loss: 0.319\n",
            "[18,    50] loss: 0.285\n",
            "[18,   100] loss: 0.277\n",
            "[18,   150] loss: 0.292\n",
            "[19,    50] loss: 0.259\n",
            "[19,   100] loss: 0.267\n",
            "[19,   150] loss: 0.275\n",
            "[20,    50] loss: 0.246\n",
            "[20,   100] loss: 0.235\n",
            "[20,   150] loss: 0.258\n",
            "[21,    50] loss: 0.209\n",
            "[21,   100] loss: 0.225\n",
            "[21,   150] loss: 0.231\n",
            "[22,    50] loss: 0.205\n",
            "[22,   100] loss: 0.217\n",
            "[22,   150] loss: 0.210\n",
            "[23,    50] loss: 0.199\n",
            "[23,   100] loss: 0.190\n",
            "[23,   150] loss: 0.197\n",
            "[24,    50] loss: 0.177\n",
            "[24,   100] loss: 0.190\n",
            "[24,   150] loss: 0.198\n",
            "[25,    50] loss: 0.168\n",
            "[25,   100] loss: 0.173\n",
            "[25,   150] loss: 0.162\n",
            "[26,    50] loss: 0.160\n",
            "[26,   100] loss: 0.156\n",
            "[26,   150] loss: 0.165\n",
            "[27,    50] loss: 0.149\n",
            "[27,   100] loss: 0.153\n",
            "[27,   150] loss: 0.162\n",
            "[28,    50] loss: 0.141\n",
            "[28,   100] loss: 0.141\n",
            "[28,   150] loss: 0.140\n",
            "[29,    50] loss: 0.136\n",
            "[29,   100] loss: 0.134\n",
            "[29,   150] loss: 0.142\n",
            "[30,    50] loss: 0.118\n",
            "[30,   100] loss: 0.119\n",
            "[30,   150] loss: 0.142\n",
            "[31,    50] loss: 0.118\n",
            "[31,   100] loss: 0.122\n",
            "[31,   150] loss: 0.128\n",
            "[32,    50] loss: 0.113\n",
            "[32,   100] loss: 0.114\n",
            "[32,   150] loss: 0.121\n",
            "[33,    50] loss: 0.104\n",
            "[33,   100] loss: 0.106\n",
            "[33,   150] loss: 0.103\n",
            "[34,    50] loss: 0.098\n",
            "[34,   100] loss: 0.110\n",
            "[34,   150] loss: 0.104\n",
            "[35,    50] loss: 0.097\n",
            "[35,   100] loss: 0.100\n",
            "[35,   150] loss: 0.100\n",
            "[36,    50] loss: 0.084\n",
            "[36,   100] loss: 0.095\n",
            "[36,   150] loss: 0.102\n",
            "[37,    50] loss: 0.082\n",
            "[37,   100] loss: 0.101\n",
            "[37,   150] loss: 0.089\n",
            "[38,    50] loss: 0.081\n",
            "[38,   100] loss: 0.091\n",
            "[38,   150] loss: 0.088\n",
            "[39,    50] loss: 0.085\n",
            "[39,   100] loss: 0.084\n",
            "[39,   150] loss: 0.090\n",
            "[40,    50] loss: 0.087\n",
            "[40,   100] loss: 0.083\n",
            "[40,   150] loss: 0.076\n",
            "[41,    50] loss: 0.070\n",
            "[41,   100] loss: 0.071\n",
            "[41,   150] loss: 0.072\n",
            "[42,    50] loss: 0.071\n",
            "[42,   100] loss: 0.067\n",
            "[42,   150] loss: 0.080\n",
            "[43,    50] loss: 0.077\n",
            "[43,   100] loss: 0.069\n",
            "[43,   150] loss: 0.075\n",
            "[44,    50] loss: 0.062\n",
            "[44,   100] loss: 0.067\n",
            "[44,   150] loss: 0.070\n",
            "[45,    50] loss: 0.069\n",
            "[45,   100] loss: 0.064\n",
            "[45,   150] loss: 0.072\n",
            "[46,    50] loss: 0.074\n",
            "[46,   100] loss: 0.063\n",
            "[46,   150] loss: 0.063\n",
            "[47,    50] loss: 0.060\n",
            "[47,   100] loss: 0.068\n",
            "[47,   150] loss: 0.069\n",
            "[48,    50] loss: 0.054\n",
            "[48,   100] loss: 0.057\n",
            "[48,   150] loss: 0.072\n",
            "[49,    50] loss: 0.058\n",
            "[49,   100] loss: 0.059\n",
            "[49,   150] loss: 0.057\n",
            "[50,    50] loss: 0.057\n",
            "[50,   100] loss: 0.052\n",
            "[50,   150] loss: 0.058\n",
            "[51,    50] loss: 0.054\n",
            "[51,   100] loss: 0.058\n",
            "[51,   150] loss: 0.054\n",
            "[52,    50] loss: 0.046\n",
            "[52,   100] loss: 0.051\n",
            "[52,   150] loss: 0.052\n",
            "[53,    50] loss: 0.054\n",
            "[53,   100] loss: 0.054\n",
            "[53,   150] loss: 0.054\n",
            "[54,    50] loss: 0.052\n",
            "[54,   100] loss: 0.049\n",
            "[54,   150] loss: 0.053\n",
            "[55,    50] loss: 0.054\n",
            "[55,   100] loss: 0.045\n",
            "[55,   150] loss: 0.049\n",
            "[56,    50] loss: 0.043\n",
            "[56,   100] loss: 0.044\n",
            "[56,   150] loss: 0.049\n",
            "[57,    50] loss: 0.047\n",
            "[57,   100] loss: 0.051\n",
            "[57,   150] loss: 0.048\n",
            "[58,    50] loss: 0.045\n",
            "[58,   100] loss: 0.045\n",
            "[58,   150] loss: 0.045\n",
            "[59,    50] loss: 0.039\n",
            "[59,   100] loss: 0.050\n",
            "[59,   150] loss: 0.048\n",
            "[60,    50] loss: 0.044\n",
            "[60,   100] loss: 0.042\n",
            "[60,   150] loss: 0.044\n",
            "[61,    50] loss: 0.038\n",
            "[61,   100] loss: 0.043\n",
            "[61,   150] loss: 0.043\n",
            "[62,    50] loss: 0.044\n",
            "[62,   100] loss: 0.040\n",
            "[62,   150] loss: 0.044\n",
            "[63,    50] loss: 0.042\n",
            "[63,   100] loss: 0.038\n",
            "[63,   150] loss: 0.042\n",
            "[64,    50] loss: 0.037\n",
            "[64,   100] loss: 0.039\n",
            "[64,   150] loss: 0.042\n",
            "[65,    50] loss: 0.044\n",
            "[65,   100] loss: 0.044\n",
            "[65,   150] loss: 0.039\n",
            "[66,    50] loss: 0.039\n",
            "[66,   100] loss: 0.042\n",
            "[66,   150] loss: 0.037\n",
            "[67,    50] loss: 0.036\n",
            "[67,   100] loss: 0.041\n",
            "[67,   150] loss: 0.038\n",
            "[68,    50] loss: 0.035\n",
            "[68,   100] loss: 0.032\n",
            "[68,   150] loss: 0.037\n",
            "[69,    50] loss: 0.033\n",
            "[69,   100] loss: 0.039\n",
            "[69,   150] loss: 0.038\n",
            "[70,    50] loss: 0.037\n",
            "[70,   100] loss: 0.036\n",
            "[70,   150] loss: 0.044\n",
            "[71,    50] loss: 0.033\n",
            "[71,   100] loss: 0.038\n",
            "[71,   150] loss: 0.035\n",
            "[72,    50] loss: 0.034\n",
            "[72,   100] loss: 0.034\n",
            "[72,   150] loss: 0.032\n",
            "[73,    50] loss: 0.036\n",
            "[73,   100] loss: 0.032\n",
            "[73,   150] loss: 0.041\n",
            "[74,    50] loss: 0.035\n",
            "[74,   100] loss: 0.030\n",
            "[74,   150] loss: 0.033\n",
            "[75,    50] loss: 0.030\n",
            "[75,   100] loss: 0.029\n",
            "[75,   150] loss: 0.031\n",
            "[76,    50] loss: 0.035\n",
            "[76,   100] loss: 0.035\n",
            "[76,   150] loss: 0.031\n",
            "[77,    50] loss: 0.032\n",
            "[77,   100] loss: 0.032\n",
            "[77,   150] loss: 0.028\n",
            "[78,    50] loss: 0.029\n",
            "[78,   100] loss: 0.030\n",
            "[78,   150] loss: 0.029\n",
            "[79,    50] loss: 0.035\n",
            "[79,   100] loss: 0.032\n",
            "[79,   150] loss: 0.029\n",
            "[80,    50] loss: 0.035\n",
            "[80,   100] loss: 0.037\n",
            "[80,   150] loss: 0.034\n",
            "[81,    50] loss: 0.035\n",
            "[81,   100] loss: 0.035\n",
            "[81,   150] loss: 0.033\n",
            "[82,    50] loss: 0.027\n",
            "[82,   100] loss: 0.029\n",
            "[82,   150] loss: 0.031\n",
            "[83,    50] loss: 0.033\n",
            "[83,   100] loss: 0.030\n",
            "[83,   150] loss: 0.033\n",
            "[84,    50] loss: 0.042\n",
            "[84,   100] loss: 0.034\n",
            "[84,   150] loss: 0.028\n",
            "[85,    50] loss: 0.032\n",
            "[85,   100] loss: 0.028\n",
            "[85,   150] loss: 0.031\n",
            "[86,    50] loss: 0.026\n",
            "[86,   100] loss: 0.028\n",
            "[86,   150] loss: 0.028\n",
            "[87,    50] loss: 0.027\n",
            "[87,   100] loss: 0.027\n",
            "[87,   150] loss: 0.032\n",
            "[88,    50] loss: 0.028\n",
            "[88,   100] loss: 0.028\n",
            "[88,   150] loss: 0.028\n",
            "[89,    50] loss: 0.027\n",
            "[89,   100] loss: 0.030\n",
            "[89,   150] loss: 0.029\n",
            "[90,    50] loss: 0.023\n",
            "[90,   100] loss: 0.031\n",
            "[90,   150] loss: 0.031\n",
            "[91,    50] loss: 0.021\n",
            "[91,   100] loss: 0.029\n",
            "[91,   150] loss: 0.022\n",
            "[92,    50] loss: 0.025\n",
            "[92,   100] loss: 0.025\n",
            "[92,   150] loss: 0.028\n",
            "[93,    50] loss: 0.025\n",
            "[93,   100] loss: 0.025\n",
            "[93,   150] loss: 0.025\n",
            "[94,    50] loss: 0.023\n",
            "[94,   100] loss: 0.025\n",
            "[94,   150] loss: 0.020\n",
            "[95,    50] loss: 0.021\n",
            "[95,   100] loss: 0.020\n",
            "[95,   150] loss: 0.022\n",
            "[96,    50] loss: 0.025\n",
            "[96,   100] loss: 0.028\n",
            "[96,   150] loss: 0.029\n",
            "[97,    50] loss: 0.024\n",
            "[97,   100] loss: 0.022\n",
            "[97,   150] loss: 0.025\n",
            "[98,    50] loss: 0.025\n",
            "[98,   100] loss: 0.021\n",
            "[98,   150] loss: 0.018\n",
            "[99,    50] loss: 0.024\n",
            "[99,   100] loss: 0.022\n",
            "[99,   150] loss: 0.026\n",
            "[100,    50] loss: 0.031\n",
            "[100,   100] loss: 0.030\n",
            "[100,   150] loss: 0.029\n",
            "[101,    50] loss: 0.023\n",
            "[101,   100] loss: 0.020\n",
            "[101,   150] loss: 0.026\n",
            "[102,    50] loss: 0.023\n",
            "[102,   100] loss: 0.029\n",
            "[102,   150] loss: 0.022\n",
            "[103,    50] loss: 0.030\n",
            "[103,   100] loss: 0.024\n",
            "[103,   150] loss: 0.024\n",
            "[104,    50] loss: 0.023\n",
            "[104,   100] loss: 0.022\n",
            "[104,   150] loss: 0.022\n",
            "[105,    50] loss: 0.030\n",
            "[105,   100] loss: 0.026\n",
            "[105,   150] loss: 0.027\n",
            "[106,    50] loss: 0.038\n",
            "[106,   100] loss: 0.024\n",
            "[106,   150] loss: 0.025\n",
            "[107,    50] loss: 0.024\n",
            "[107,   100] loss: 0.021\n",
            "[107,   150] loss: 0.025\n",
            "[108,    50] loss: 0.019\n",
            "[108,   100] loss: 0.025\n",
            "[108,   150] loss: 0.023\n",
            "[109,    50] loss: 0.019\n",
            "[109,   100] loss: 0.023\n",
            "[109,   150] loss: 0.021\n",
            "[110,    50] loss: 0.026\n",
            "[110,   100] loss: 0.022\n",
            "[110,   150] loss: 0.022\n",
            "[111,    50] loss: 0.025\n",
            "[111,   100] loss: 0.023\n",
            "[111,   150] loss: 0.025\n",
            "[112,    50] loss: 0.022\n",
            "[112,   100] loss: 0.022\n",
            "[112,   150] loss: 0.025\n",
            "[113,    50] loss: 0.023\n",
            "[113,   100] loss: 0.024\n",
            "[113,   150] loss: 0.022\n",
            "[114,    50] loss: 0.024\n",
            "[114,   100] loss: 0.021\n",
            "[114,   150] loss: 0.023\n",
            "[115,    50] loss: 0.020\n",
            "[115,   100] loss: 0.019\n",
            "[115,   150] loss: 0.017\n",
            "[116,    50] loss: 0.021\n",
            "[116,   100] loss: 0.017\n",
            "[116,   150] loss: 0.019\n",
            "[117,    50] loss: 0.021\n",
            "[117,   100] loss: 0.023\n",
            "[117,   150] loss: 0.021\n",
            "[118,    50] loss: 0.019\n",
            "[118,   100] loss: 0.016\n",
            "[118,   150] loss: 0.022\n",
            "[119,    50] loss: 0.017\n",
            "[119,   100] loss: 0.017\n",
            "[119,   150] loss: 0.020\n",
            "[120,    50] loss: 0.015\n",
            "[120,   100] loss: 0.018\n",
            "[120,   150] loss: 0.019\n",
            "[121,    50] loss: 0.019\n",
            "[121,   100] loss: 0.021\n",
            "[121,   150] loss: 0.020\n",
            "[122,    50] loss: 0.018\n",
            "[122,   100] loss: 0.019\n",
            "[122,   150] loss: 0.018\n",
            "[123,    50] loss: 0.019\n",
            "[123,   100] loss: 0.022\n",
            "[123,   150] loss: 0.020\n",
            "[124,    50] loss: 0.019\n",
            "[124,   100] loss: 0.022\n",
            "[124,   150] loss: 0.018\n",
            "[125,    50] loss: 0.015\n",
            "[125,   100] loss: 0.016\n",
            "[125,   150] loss: 0.019\n",
            "[126,    50] loss: 0.018\n",
            "[126,   100] loss: 0.020\n",
            "[126,   150] loss: 0.019\n",
            "[127,    50] loss: 0.017\n",
            "[127,   100] loss: 0.018\n",
            "[127,   150] loss: 0.017\n",
            "[128,    50] loss: 0.018\n",
            "[128,   100] loss: 0.020\n",
            "[128,   150] loss: 0.020\n",
            "[129,    50] loss: 0.019\n",
            "[129,   100] loss: 0.018\n",
            "[129,   150] loss: 0.020\n",
            "[130,    50] loss: 0.018\n",
            "[130,   100] loss: 0.018\n",
            "[130,   150] loss: 0.016\n",
            "[131,    50] loss: 0.016\n",
            "[131,   100] loss: 0.016\n",
            "[131,   150] loss: 0.016\n",
            "[132,    50] loss: 0.018\n",
            "[132,   100] loss: 0.015\n",
            "[132,   150] loss: 0.016\n",
            "[133,    50] loss: 0.021\n",
            "[133,   100] loss: 0.016\n",
            "[133,   150] loss: 0.018\n",
            "[134,    50] loss: 0.015\n",
            "[134,   100] loss: 0.016\n",
            "[134,   150] loss: 0.020\n",
            "[135,    50] loss: 0.022\n",
            "[135,   100] loss: 0.018\n",
            "[135,   150] loss: 0.019\n",
            "[136,    50] loss: 0.019\n",
            "[136,   100] loss: 0.017\n",
            "[136,   150] loss: 0.020\n",
            "[137,    50] loss: 0.020\n",
            "[137,   100] loss: 0.018\n",
            "[137,   150] loss: 0.018\n",
            "[138,    50] loss: 0.020\n",
            "[138,   100] loss: 0.020\n",
            "[138,   150] loss: 0.020\n",
            "[139,    50] loss: 0.015\n",
            "[139,   100] loss: 0.019\n",
            "[139,   150] loss: 0.020\n",
            "[140,    50] loss: 0.015\n",
            "[140,   100] loss: 0.017\n",
            "[140,   150] loss: 0.017\n",
            "[141,    50] loss: 0.018\n",
            "[141,   100] loss: 0.015\n",
            "[141,   150] loss: 0.015\n",
            "[142,    50] loss: 0.018\n",
            "[142,   100] loss: 0.019\n",
            "[142,   150] loss: 0.018\n",
            "[143,    50] loss: 0.014\n",
            "[143,   100] loss: 0.015\n",
            "[143,   150] loss: 0.016\n",
            "[144,    50] loss: 0.014\n",
            "[144,   100] loss: 0.016\n",
            "[144,   150] loss: 0.015\n",
            "[145,    50] loss: 0.015\n",
            "[145,   100] loss: 0.016\n",
            "[145,   150] loss: 0.015\n",
            "[146,    50] loss: 0.018\n",
            "[146,   100] loss: 0.015\n",
            "[146,   150] loss: 0.017\n",
            "[147,    50] loss: 0.014\n",
            "[147,   100] loss: 0.017\n",
            "[147,   150] loss: 0.015\n",
            "[148,    50] loss: 0.016\n",
            "[148,   100] loss: 0.016\n",
            "[148,   150] loss: 0.016\n",
            "[149,    50] loss: 0.018\n",
            "[149,   100] loss: 0.020\n",
            "[149,   150] loss: 0.014\n",
            "[150,    50] loss: 0.015\n",
            "[150,   100] loss: 0.015\n",
            "[150,   150] loss: 0.013\n",
            "[151,    50] loss: 0.016\n",
            "[151,   100] loss: 0.014\n",
            "[151,   150] loss: 0.017\n",
            "[152,    50] loss: 0.016\n",
            "[152,   100] loss: 0.017\n",
            "[152,   150] loss: 0.016\n",
            "[153,    50] loss: 0.014\n",
            "[153,   100] loss: 0.018\n",
            "[153,   150] loss: 0.013\n",
            "[154,    50] loss: 0.014\n",
            "[154,   100] loss: 0.014\n",
            "[154,   150] loss: 0.016\n",
            "[155,    50] loss: 0.016\n",
            "[155,   100] loss: 0.015\n",
            "[155,   150] loss: 0.013\n",
            "[156,    50] loss: 0.012\n",
            "[156,   100] loss: 0.017\n",
            "[156,   150] loss: 0.017\n",
            "[157,    50] loss: 0.013\n",
            "[157,   100] loss: 0.011\n",
            "[157,   150] loss: 0.014\n",
            "[158,    50] loss: 0.014\n",
            "[158,   100] loss: 0.016\n",
            "[158,   150] loss: 0.014\n",
            "[159,    50] loss: 0.013\n",
            "[159,   100] loss: 0.013\n",
            "[159,   150] loss: 0.013\n",
            "[160,    50] loss: 0.016\n",
            "[160,   100] loss: 0.015\n",
            "[160,   150] loss: 0.017\n",
            "[161,    50] loss: 0.016\n",
            "[161,   100] loss: 0.015\n",
            "[161,   150] loss: 0.013\n",
            "[162,    50] loss: 0.015\n",
            "[162,   100] loss: 0.013\n",
            "[162,   150] loss: 0.014\n",
            "[163,    50] loss: 0.011\n",
            "[163,   100] loss: 0.010\n",
            "[163,   150] loss: 0.017\n",
            "[164,    50] loss: 0.017\n",
            "[164,   100] loss: 0.015\n",
            "[164,   150] loss: 0.017\n",
            "[165,    50] loss: 0.016\n",
            "[165,   100] loss: 0.015\n",
            "[165,   150] loss: 0.014\n",
            "[166,    50] loss: 0.012\n",
            "[166,   100] loss: 0.012\n",
            "[166,   150] loss: 0.013\n",
            "[167,    50] loss: 0.016\n",
            "[167,   100] loss: 0.014\n",
            "[167,   150] loss: 0.015\n",
            "[168,    50] loss: 0.011\n",
            "[168,   100] loss: 0.015\n",
            "[168,   150] loss: 0.013\n",
            "[169,    50] loss: 0.015\n",
            "[169,   100] loss: 0.017\n",
            "[169,   150] loss: 0.016\n",
            "[170,    50] loss: 0.015\n",
            "[170,   100] loss: 0.015\n",
            "[170,   150] loss: 0.015\n",
            "[171,    50] loss: 0.015\n",
            "[171,   100] loss: 0.012\n",
            "[171,   150] loss: 0.014\n",
            "[172,    50] loss: 0.019\n",
            "[172,   100] loss: 0.017\n",
            "[172,   150] loss: 0.015\n",
            "[173,    50] loss: 0.011\n",
            "[173,   100] loss: 0.014\n",
            "[173,   150] loss: 0.013\n",
            "[174,    50] loss: 0.017\n",
            "[174,   100] loss: 0.016\n",
            "[174,   150] loss: 0.015\n",
            "[175,    50] loss: 0.014\n",
            "[175,   100] loss: 0.014\n",
            "[175,   150] loss: 0.014\n",
            "[176,    50] loss: 0.014\n",
            "[176,   100] loss: 0.013\n",
            "[176,   150] loss: 0.015\n",
            "[177,    50] loss: 0.014\n",
            "[177,   100] loss: 0.012\n",
            "[177,   150] loss: 0.011\n",
            "[178,    50] loss: 0.012\n",
            "[178,   100] loss: 0.014\n",
            "[178,   150] loss: 0.015\n",
            "[179,    50] loss: 0.017\n",
            "[179,   100] loss: 0.015\n",
            "[179,   150] loss: 0.014\n",
            "[180,    50] loss: 0.013\n",
            "[180,   100] loss: 0.015\n",
            "[180,   150] loss: 0.016\n",
            "[181,    50] loss: 0.012\n",
            "[181,   100] loss: 0.013\n",
            "[181,   150] loss: 0.014\n",
            "[182,    50] loss: 0.013\n",
            "[182,   100] loss: 0.014\n",
            "[182,   150] loss: 0.013\n",
            "[183,    50] loss: 0.011\n",
            "[183,   100] loss: 0.012\n",
            "[183,   150] loss: 0.012\n",
            "[184,    50] loss: 0.012\n",
            "[184,   100] loss: 0.010\n",
            "[184,   150] loss: 0.013\n",
            "[185,    50] loss: 0.016\n",
            "[185,   100] loss: 0.015\n",
            "[185,   150] loss: 0.012\n",
            "[186,    50] loss: 0.013\n",
            "[186,   100] loss: 0.015\n",
            "[186,   150] loss: 0.011\n",
            "[187,    50] loss: 0.012\n",
            "[187,   100] loss: 0.013\n",
            "[187,   150] loss: 0.012\n",
            "[188,    50] loss: 0.010\n",
            "[188,   100] loss: 0.014\n",
            "[188,   150] loss: 0.014\n",
            "[189,    50] loss: 0.017\n",
            "[189,   100] loss: 0.016\n",
            "[189,   150] loss: 0.013\n",
            "[190,    50] loss: 0.012\n",
            "[190,   100] loss: 0.014\n",
            "[190,   150] loss: 0.013\n",
            "[191,    50] loss: 0.015\n",
            "[191,   100] loss: 0.017\n",
            "[191,   150] loss: 0.012\n",
            "[192,    50] loss: 0.011\n",
            "[192,   100] loss: 0.010\n",
            "[192,   150] loss: 0.013\n",
            "[193,    50] loss: 0.017\n",
            "[193,   100] loss: 0.014\n",
            "[193,   150] loss: 0.013\n",
            "[194,    50] loss: 0.013\n",
            "[194,   100] loss: 0.015\n",
            "[194,   150] loss: 0.015\n",
            "[195,    50] loss: 0.011\n",
            "[195,   100] loss: 0.012\n",
            "[195,   150] loss: 0.011\n",
            "[196,    50] loss: 0.012\n",
            "[196,   100] loss: 0.012\n",
            "[196,   150] loss: 0.011\n",
            "[197,    50] loss: 0.013\n",
            "[197,   100] loss: 0.013\n",
            "[197,   150] loss: 0.012\n",
            "[198,    50] loss: 0.021\n",
            "[198,   100] loss: 0.013\n",
            "[198,   150] loss: 0.015\n",
            "[199,    50] loss: 0.011\n",
            "[199,   100] loss: 0.012\n",
            "[199,   150] loss: 0.012\n",
            "[200,    50] loss: 0.013\n",
            "[200,   100] loss: 0.014\n",
            "[200,   150] loss: 0.011\n",
            "[201,    50] loss: 0.009\n",
            "[201,   100] loss: 0.010\n",
            "[201,   150] loss: 0.015\n",
            "[202,    50] loss: 0.014\n",
            "[202,   100] loss: 0.014\n",
            "[202,   150] loss: 0.013\n",
            "[203,    50] loss: 0.010\n",
            "[203,   100] loss: 0.012\n",
            "[203,   150] loss: 0.009\n",
            "[204,    50] loss: 0.012\n",
            "[204,   100] loss: 0.012\n",
            "[204,   150] loss: 0.013\n",
            "[205,    50] loss: 0.014\n",
            "[205,   100] loss: 0.011\n",
            "[205,   150] loss: 0.011\n",
            "[206,    50] loss: 0.011\n",
            "[206,   100] loss: 0.010\n",
            "[206,   150] loss: 0.009\n",
            "Finished Training\n"
          ],
          "name": "stdout"
        }
      ]
    },
    {
      "cell_type": "code",
      "metadata": {
        "id": "WIAJ3UZN8rPE"
      },
      "source": [
        "torch.save(cnn_net.state_dict(),\"/content/drive/My Drive/Research/train_begining_layers_vs_last_layers/weights\"+\"CIFAR10_last4layer_fixed_cnn8layer\"+\".pt\")"
      ],
      "execution_count": 24,
      "outputs": []
    },
    {
      "cell_type": "code",
      "metadata": {
        "id": "an7qmNLB-Ilb",
        "outputId": "787ad0d3-c803-4f6a-f193-4875561f06fa",
        "colab": {
          "base_uri": "https://localhost:8080/",
          "height": 54
        }
      },
      "source": [
        "correct = 0\n",
        "total = 0\n",
        "with torch.no_grad():\n",
        "    for data in trainloader:\n",
        "        images, labels = data\n",
        "        images, labels = images.to(\"cuda\"), labels.to(\"cuda\")\n",
        "        outputs = cnn_net(images)\n",
        "        _, predicted = torch.max(outputs.data, 1)\n",
        "        total += labels.size(0)\n",
        "        correct += (predicted == labels).sum().item()\n",
        "\n",
        "print('Accuracy of the network on the %d train images: %d %%' % (total,  100 * correct / total))\n",
        "print(total,correct)"
      ],
      "execution_count": 25,
      "outputs": [
        {
          "output_type": "stream",
          "text": [
            "Accuracy of the network on the 50000 train images: 99 %\n",
            "50000 49822\n"
          ],
          "name": "stdout"
        }
      ]
    },
    {
      "cell_type": "code",
      "metadata": {
        "id": "3WqTm-aW-TGU",
        "outputId": "94499d35-71e2-4767-d8cb-e28099880fa4",
        "colab": {
          "base_uri": "https://localhost:8080/",
          "height": 54
        }
      },
      "source": [
        "correct = 0\n",
        "total = 0\n",
        "out = []\n",
        "pred = []\n",
        "with torch.no_grad():\n",
        "    for data in testloader:\n",
        "        images, labels = data\n",
        "        images, labels = images.to(\"cuda\"),labels.to(\"cuda\")\n",
        "        out.append(labels.cpu().numpy())\n",
        "        outputs= cnn_net(images)\n",
        "        _, predicted = torch.max(outputs.data, 1)\n",
        "        pred.append(predicted.cpu().numpy())\n",
        "        total += labels.size(0)\n",
        "        correct += (predicted == labels).sum().item()\n",
        "\n",
        "print('Accuracy of the network on the 10000 test images: %d %%' % ( 100 * correct / total))\n",
        "print(total,correct)"
      ],
      "execution_count": 26,
      "outputs": [
        {
          "output_type": "stream",
          "text": [
            "Accuracy of the network on the 10000 test images: 77 %\n",
            "10000 7774\n"
          ],
          "name": "stdout"
        }
      ]
    },
    {
      "cell_type": "code",
      "metadata": {
        "id": "oQ1yPyXRBNT4",
        "outputId": "fbfc8e74-7cbe-4775-efd5-607ce556ef1a",
        "colab": {
          "base_uri": "https://localhost:8080/",
          "height": 204
        }
      },
      "source": [
        "class_correct = list(0. for i in range(10))\n",
        "class_total = list(0. for i in range(10))\n",
        "with torch.no_grad():\n",
        "    for data in testloader:\n",
        "        images, labels = data\n",
        "        images, labels = images.to(\"cuda\"),labels.to(\"cuda\")\n",
        "        outputs = cnn_net(images)\n",
        "        _, predicted = torch.max(outputs, 1)\n",
        "        c = (predicted == labels).squeeze()\n",
        "        for i in range(4):\n",
        "            label = labels[i]\n",
        "            class_correct[label] += c[i].item()\n",
        "            class_total[label] += 1\n",
        "\n",
        "\n",
        "for i in range(10):\n",
        "    print('Accuracy of %5s : %2d %%' % (\n",
        "        classes[i], 100 * class_correct[i] / class_total[i]))"
      ],
      "execution_count": 27,
      "outputs": [
        {
          "output_type": "stream",
          "text": [
            "Accuracy of plane : 68 %\n",
            "Accuracy of   car : 92 %\n",
            "Accuracy of  bird : 84 %\n",
            "Accuracy of   cat : 31 %\n",
            "Accuracy of  deer : 53 %\n",
            "Accuracy of   dog : 60 %\n",
            "Accuracy of  frog : 66 %\n",
            "Accuracy of horse : 66 %\n",
            "Accuracy of  ship : 90 %\n",
            "Accuracy of truck : 88 %\n"
          ],
          "name": "stdout"
        }
      ]
    },
    {
      "cell_type": "code",
      "metadata": {
        "id": "bzU_HuQnEB29"
      },
      "source": [
        ""
      ],
      "execution_count": null,
      "outputs": []
    }
  ]
}