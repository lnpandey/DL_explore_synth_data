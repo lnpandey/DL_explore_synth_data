{
  "nbformat": 4,
  "nbformat_minor": 0,
  "metadata": {
    "accelerator": "GPU",
    "colab": {
      "name": "CIFAR_10_class_classification_cnn_8layer.ipynb",
      "provenance": [],
      "collapsed_sections": [],
      "machine_shape": "hm"
    },
    "kernelspec": {
      "display_name": "Python 3",
      "language": "python",
      "name": "python3"
    },
    "language_info": {
      "codemirror_mode": {
        "name": "ipython",
        "version": 3
      },
      "file_extension": ".py",
      "mimetype": "text/x-python",
      "name": "python",
      "nbconvert_exporter": "python",
      "pygments_lexer": "ipython3",
      "version": "3.6.5"
    },
    "widgets": {
      "application/vnd.jupyter.widget-state+json": {
        "d7e7a000249c40da93546622b453b051": {
          "model_module": "@jupyter-widgets/controls",
          "model_name": "HBoxModel",
          "state": {
            "_view_name": "HBoxView",
            "_dom_classes": [],
            "_model_name": "HBoxModel",
            "_view_module": "@jupyter-widgets/controls",
            "_model_module_version": "1.5.0",
            "_view_count": null,
            "_view_module_version": "1.5.0",
            "box_style": "",
            "layout": "IPY_MODEL_7d2db46bbc1d432eb55457f234f7c712",
            "_model_module": "@jupyter-widgets/controls",
            "children": [
              "IPY_MODEL_23f15f1b927541bf8a803bdf1c7cf875",
              "IPY_MODEL_b22229c4c3d74a969604f557c866cb6b"
            ]
          }
        },
        "7d2db46bbc1d432eb55457f234f7c712": {
          "model_module": "@jupyter-widgets/base",
          "model_name": "LayoutModel",
          "state": {
            "_view_name": "LayoutView",
            "grid_template_rows": null,
            "right": null,
            "justify_content": null,
            "_view_module": "@jupyter-widgets/base",
            "overflow": null,
            "_model_module_version": "1.2.0",
            "_view_count": null,
            "flex_flow": null,
            "width": null,
            "min_width": null,
            "border": null,
            "align_items": null,
            "bottom": null,
            "_model_module": "@jupyter-widgets/base",
            "top": null,
            "grid_column": null,
            "overflow_y": null,
            "overflow_x": null,
            "grid_auto_flow": null,
            "grid_area": null,
            "grid_template_columns": null,
            "flex": null,
            "_model_name": "LayoutModel",
            "justify_items": null,
            "grid_row": null,
            "max_height": null,
            "align_content": null,
            "visibility": null,
            "align_self": null,
            "height": null,
            "min_height": null,
            "padding": null,
            "grid_auto_rows": null,
            "grid_gap": null,
            "max_width": null,
            "order": null,
            "_view_module_version": "1.2.0",
            "grid_template_areas": null,
            "object_position": null,
            "object_fit": null,
            "grid_auto_columns": null,
            "margin": null,
            "display": null,
            "left": null
          }
        },
        "23f15f1b927541bf8a803bdf1c7cf875": {
          "model_module": "@jupyter-widgets/controls",
          "model_name": "FloatProgressModel",
          "state": {
            "_view_name": "ProgressView",
            "style": "IPY_MODEL_111c43818b214378b65a96a748e7bc99",
            "_dom_classes": [],
            "description": "",
            "_model_name": "FloatProgressModel",
            "bar_style": "info",
            "max": 1,
            "_view_module": "@jupyter-widgets/controls",
            "_model_module_version": "1.5.0",
            "value": 1,
            "_view_count": null,
            "_view_module_version": "1.5.0",
            "orientation": "horizontal",
            "min": 0,
            "description_tooltip": null,
            "_model_module": "@jupyter-widgets/controls",
            "layout": "IPY_MODEL_cc030956e33748dc8cb855b1bbc74bd8"
          }
        },
        "b22229c4c3d74a969604f557c866cb6b": {
          "model_module": "@jupyter-widgets/controls",
          "model_name": "HTMLModel",
          "state": {
            "_view_name": "HTMLView",
            "style": "IPY_MODEL_e7ec83f18fe44df8b4bda7d22255ce8e",
            "_dom_classes": [],
            "description": "",
            "_model_name": "HTMLModel",
            "placeholder": "​",
            "_view_module": "@jupyter-widgets/controls",
            "_model_module_version": "1.5.0",
            "value": " 170500096/? [00:20&lt;00:00, 97974310.48it/s]",
            "_view_count": null,
            "_view_module_version": "1.5.0",
            "description_tooltip": null,
            "_model_module": "@jupyter-widgets/controls",
            "layout": "IPY_MODEL_85df13475b6246a8b03a8af36013d7b2"
          }
        },
        "111c43818b214378b65a96a748e7bc99": {
          "model_module": "@jupyter-widgets/controls",
          "model_name": "ProgressStyleModel",
          "state": {
            "_view_name": "StyleView",
            "_model_name": "ProgressStyleModel",
            "description_width": "initial",
            "_view_module": "@jupyter-widgets/base",
            "_model_module_version": "1.5.0",
            "_view_count": null,
            "_view_module_version": "1.2.0",
            "bar_color": null,
            "_model_module": "@jupyter-widgets/controls"
          }
        },
        "cc030956e33748dc8cb855b1bbc74bd8": {
          "model_module": "@jupyter-widgets/base",
          "model_name": "LayoutModel",
          "state": {
            "_view_name": "LayoutView",
            "grid_template_rows": null,
            "right": null,
            "justify_content": null,
            "_view_module": "@jupyter-widgets/base",
            "overflow": null,
            "_model_module_version": "1.2.0",
            "_view_count": null,
            "flex_flow": null,
            "width": null,
            "min_width": null,
            "border": null,
            "align_items": null,
            "bottom": null,
            "_model_module": "@jupyter-widgets/base",
            "top": null,
            "grid_column": null,
            "overflow_y": null,
            "overflow_x": null,
            "grid_auto_flow": null,
            "grid_area": null,
            "grid_template_columns": null,
            "flex": null,
            "_model_name": "LayoutModel",
            "justify_items": null,
            "grid_row": null,
            "max_height": null,
            "align_content": null,
            "visibility": null,
            "align_self": null,
            "height": null,
            "min_height": null,
            "padding": null,
            "grid_auto_rows": null,
            "grid_gap": null,
            "max_width": null,
            "order": null,
            "_view_module_version": "1.2.0",
            "grid_template_areas": null,
            "object_position": null,
            "object_fit": null,
            "grid_auto_columns": null,
            "margin": null,
            "display": null,
            "left": null
          }
        },
        "e7ec83f18fe44df8b4bda7d22255ce8e": {
          "model_module": "@jupyter-widgets/controls",
          "model_name": "DescriptionStyleModel",
          "state": {
            "_view_name": "StyleView",
            "_model_name": "DescriptionStyleModel",
            "description_width": "",
            "_view_module": "@jupyter-widgets/base",
            "_model_module_version": "1.5.0",
            "_view_count": null,
            "_view_module_version": "1.2.0",
            "_model_module": "@jupyter-widgets/controls"
          }
        },
        "85df13475b6246a8b03a8af36013d7b2": {
          "model_module": "@jupyter-widgets/base",
          "model_name": "LayoutModel",
          "state": {
            "_view_name": "LayoutView",
            "grid_template_rows": null,
            "right": null,
            "justify_content": null,
            "_view_module": "@jupyter-widgets/base",
            "overflow": null,
            "_model_module_version": "1.2.0",
            "_view_count": null,
            "flex_flow": null,
            "width": null,
            "min_width": null,
            "border": null,
            "align_items": null,
            "bottom": null,
            "_model_module": "@jupyter-widgets/base",
            "top": null,
            "grid_column": null,
            "overflow_y": null,
            "overflow_x": null,
            "grid_auto_flow": null,
            "grid_area": null,
            "grid_template_columns": null,
            "flex": null,
            "_model_name": "LayoutModel",
            "justify_items": null,
            "grid_row": null,
            "max_height": null,
            "align_content": null,
            "visibility": null,
            "align_self": null,
            "height": null,
            "min_height": null,
            "padding": null,
            "grid_auto_rows": null,
            "grid_gap": null,
            "max_width": null,
            "order": null,
            "_view_module_version": "1.2.0",
            "grid_template_areas": null,
            "object_position": null,
            "object_fit": null,
            "grid_auto_columns": null,
            "margin": null,
            "display": null,
            "left": null
          }
        }
      }
    }
  },
  "cells": [
    {
      "cell_type": "code",
      "metadata": {
        "id": "JSjG64ra4aFu",
        "outputId": "b50c52c4-52c3-47e5-bde0-5194af232432",
        "colab": {
          "base_uri": "https://localhost:8080/",
          "height": 36
        }
      },
      "source": [
        "from google.colab import drive\n",
        "drive.mount('/content/drive')"
      ],
      "execution_count": 1,
      "outputs": [
        {
          "output_type": "stream",
          "text": [
            "Mounted at /content/drive\n"
          ],
          "name": "stdout"
        }
      ]
    },
    {
      "cell_type": "code",
      "metadata": {
        "id": "V8-7SARDZErK"
      },
      "source": [
        "import torch.nn as nn\n",
        "import torch.nn.functional as F\n",
        "\n",
        "import pandas as pd\n",
        "import numpy as np\n",
        "import matplotlib.pyplot as plt\n",
        "\n",
        "import torch\n",
        "import torchvision\n",
        "import torchvision.transforms as transforms\n",
        "from torch.utils.data import Dataset, DataLoader\n",
        "from torchvision import transforms, utils\n",
        "\n",
        "from matplotlib import pyplot as plt\n",
        "import copy\n",
        "\n",
        "# Ignore warnings\n",
        "import warnings\n",
        "warnings.filterwarnings(\"ignore\")\n"
      ],
      "execution_count": 2,
      "outputs": []
    },
    {
      "cell_type": "code",
      "metadata": {
        "id": "acRFqJNrZErV",
        "outputId": "7ea70bfa-d9b9-4989-b4b0-1bacc14c4daa",
        "colab": {
          "base_uri": "https://localhost:8080/",
          "height": 105,
          "referenced_widgets": [
            "d7e7a000249c40da93546622b453b051",
            "7d2db46bbc1d432eb55457f234f7c712",
            "23f15f1b927541bf8a803bdf1c7cf875",
            "b22229c4c3d74a969604f557c866cb6b",
            "111c43818b214378b65a96a748e7bc99",
            "cc030956e33748dc8cb855b1bbc74bd8",
            "e7ec83f18fe44df8b4bda7d22255ce8e",
            "85df13475b6246a8b03a8af36013d7b2"
          ]
        }
      },
      "source": [
        "transform = transforms.Compose(\n",
        "    [transforms.ToTensor(),\n",
        "     transforms.Normalize((0.5, 0.5, 0.5), (0.5, 0.5, 0.5))])\n",
        "\n",
        "trainset = torchvision.datasets.CIFAR10(root='./data', train=True, download=True, transform=transform)\n",
        "\n",
        "\n",
        "testset = torchvision.datasets.CIFAR10(root='./data', train=False, download=True, transform=transform)\n"
      ],
      "execution_count": 3,
      "outputs": [
        {
          "output_type": "stream",
          "text": [
            "Downloading https://www.cs.toronto.edu/~kriz/cifar-10-python.tar.gz to ./data/cifar-10-python.tar.gz\n"
          ],
          "name": "stdout"
        },
        {
          "output_type": "display_data",
          "data": {
            "application/vnd.jupyter.widget-view+json": {
              "model_id": "d7e7a000249c40da93546622b453b051",
              "version_minor": 0,
              "version_major": 2
            },
            "text/plain": [
              "HBox(children=(FloatProgress(value=1.0, bar_style='info', max=1.0), HTML(value='')))"
            ]
          },
          "metadata": {
            "tags": []
          }
        },
        {
          "output_type": "stream",
          "text": [
            "Extracting ./data/cifar-10-python.tar.gz to ./data\n",
            "Files already downloaded and verified\n"
          ],
          "name": "stdout"
        }
      ]
    },
    {
      "cell_type": "code",
      "metadata": {
        "id": "gh5DXuAV1tp5"
      },
      "source": [
        "# trainloader = torch.utils.data.DataLoader(trainset, batch_size=10, shuffle=True)\n",
        "# testloader = torch.utils.data.DataLoader(testset, batch_size=10, shuffle=False)\n",
        "\n",
        "\n",
        "classes = ('plane', 'car', 'bird', 'cat', 'deer', 'dog', 'frog', 'horse', 'ship', 'truck')\n",
        "\n",
        "# foreground_classes = {'plane', 'car', 'bird'}\n",
        "\n",
        "# background_classes = {'cat', 'deer', 'dog', 'frog', 'horse','ship', 'truck'}\n",
        "\n",
        "# fg1,fg2,fg3 = 0,1,2"
      ],
      "execution_count": 4,
      "outputs": []
    },
    {
      "cell_type": "code",
      "metadata": {
        "id": "EQOH55xR6INA"
      },
      "source": [
        "trainloader = torch.utils.data.DataLoader(trainset, batch_size=256,shuffle=True)\n",
        "testloader = torch.utils.data.DataLoader(testset, batch_size=256,shuffle=False)"
      ],
      "execution_count": 5,
      "outputs": []
    },
    {
      "cell_type": "code",
      "metadata": {
        "id": "SadRzWBBZEsP"
      },
      "source": [
        "class CNN(nn.Module):\n",
        "  def __init__(self):\n",
        "    super(CNN, self).__init__()\n",
        "    self.conv1 = nn.Conv2d(in_channels=3, out_channels=32, kernel_size=3, padding=0)\n",
        "    self.conv2 = nn.Conv2d(in_channels=32, out_channels=64, kernel_size=3, padding=0)\n",
        "    self.conv3 = nn.Conv2d(in_channels=64, out_channels=128, kernel_size=3, padding=0)\n",
        "    self.conv4 = nn.Conv2d(in_channels=128, out_channels=128, kernel_size=3, padding=0)\n",
        "    self.conv5 = nn.Conv2d(in_channels=128, out_channels=128, kernel_size=3, padding=0)\n",
        "    self.conv6 = nn.Conv2d(in_channels=128, out_channels=128, kernel_size=3, padding=1)\n",
        "    self.conv7 = nn.Conv2d(in_channels=128, out_channels=128, kernel_size=3, padding=1)\n",
        "    self.conv8 = nn.Conv2d(in_channels=128, out_channels=128, kernel_size=3, padding=1)\n",
        "    self.pool = nn.MaxPool2d(kernel_size=2, stride=2)\n",
        "    self.batch_norm1 = nn.BatchNorm2d(32, track_running_stats = False)\n",
        "    self.batch_norm2 = nn.BatchNorm2d(128, track_running_stats = False)\n",
        "    self.dropout1 = nn.Dropout2d(p=0.05)\n",
        "    self.dropout2 = nn.Dropout2d(p=0.1)\n",
        "    self.fc1 = nn.Linear(128,64)\n",
        "    self.fc2 = nn.Linear(64, 32)\n",
        "    self.fc3 = nn.Linear(32, 10)\n",
        "\n",
        "\n",
        "  def forward(self, x):\n",
        "    x = self.conv1(x)\n",
        "    x = F.relu(self.batch_norm1(x))\n",
        "\n",
        "    x = (F.relu(self.conv2(x)))\n",
        "    x = self.pool(x)\n",
        "    \n",
        "    x = self.conv3(x)\n",
        "    x = F.relu(self.batch_norm2(x))\n",
        "\n",
        "    x = (F.relu(self.conv4(x)))\n",
        "    x = self.pool(x)\n",
        "    x = self.dropout1(x)\n",
        "\n",
        "    x = self.conv5(x)\n",
        "    x = F.relu(self.batch_norm2(x))\n",
        "\n",
        "    x = (F.relu(self.conv6(x)))\n",
        "    x = self.pool(x)\n",
        "\n",
        "    x = self.conv7(x)\n",
        "    x = F.relu(self.batch_norm2(x))\n",
        "\n",
        "    x = self.conv8(x)\n",
        "    x = F.relu(self.batch_norm2(x))\n",
        "    \n",
        "    x = x.view(x.size(0), -1)\n",
        "\n",
        "    x = self.dropout2(x)\n",
        "    # print(x.shape)\n",
        "    x = F.relu(self.fc1(x))\n",
        "    x = F.relu(self.fc2(x))\n",
        "    x = self.dropout2(x)\n",
        "    x = self.fc3(x)\n",
        "    return x"
      ],
      "execution_count": 14,
      "outputs": []
    },
    {
      "cell_type": "code",
      "metadata": {
        "id": "1GvXR1zV5n4w"
      },
      "source": [
        "cnn_net = CNN()#.double()\n",
        "cnn_net = cnn_net.to(\"cuda\")"
      ],
      "execution_count": 15,
      "outputs": []
    },
    {
      "cell_type": "code",
      "metadata": {
        "id": "n5g3geNJ5zEu"
      },
      "source": [
        "import torch.optim as optim\n",
        "criterion_cnn = nn.CrossEntropyLoss()\n",
        "optimizer_cnn = optim.SGD(cnn_net.parameters(), lr=0.01, momentum=0.9)"
      ],
      "execution_count": 16,
      "outputs": []
    },
    {
      "cell_type": "code",
      "metadata": {
        "id": "tFfAJZkcZEsY",
        "outputId": "6de17fb2-cf5f-4048-ea05-3ecbf44759a3",
        "colab": {
          "base_uri": "https://localhost:8080/",
          "height": 1000
        }
      },
      "source": [
        "acti = []\n",
        "loss_curi = []\n",
        "epochs = 300\n",
        "for epoch in range(epochs): # loop over the dataset multiple times\n",
        "    ep_lossi = []\n",
        "\n",
        "    running_loss = 0.0\n",
        "    for i, data in enumerate(trainloader, 0):\n",
        "        # get the inputs\n",
        "        inputs, labels = data\n",
        "        inputs, labels = inputs.to(\"cuda\"),labels.to(\"cuda\")\n",
        "\n",
        "        # zero the parameter gradients\n",
        "        optimizer_cnn.zero_grad()\n",
        "\n",
        "        # forward + backward + optimize\n",
        "        outputs = cnn_net(inputs)\n",
        "        loss = criterion_cnn(outputs, labels)\n",
        "        loss.backward()\n",
        "        optimizer_cnn.step()\n",
        "\n",
        "        # print statistics\n",
        "        running_loss += loss.item()\n",
        "        mini_batch = 50\n",
        "        if i % mini_batch == mini_batch-1:    # print every 50 mini-batches\n",
        "            print('[%d, %5d] loss: %.3f' %(epoch + 1, i + 1, running_loss / mini_batch))\n",
        "            ep_lossi.append(running_loss/mini_batch) # loss per minibatch\n",
        "            running_loss = 0.0\n",
        "            \n",
        "    if(np.mean(ep_lossi) <= 0.01):\n",
        "      break;\n",
        "    loss_curi.append(np.mean(ep_lossi))   #loss per epoch            \n",
        "\n",
        "print('Finished Training')"
      ],
      "execution_count": 17,
      "outputs": [
        {
          "output_type": "stream",
          "text": [
            "[1,    50] loss: 2.229\n",
            "[1,   100] loss: 1.840\n",
            "[1,   150] loss: 1.586\n",
            "[2,    50] loss: 1.255\n",
            "[2,   100] loss: 1.181\n",
            "[2,   150] loss: 1.072\n",
            "[3,    50] loss: 0.934\n",
            "[3,   100] loss: 0.923\n",
            "[3,   150] loss: 0.893\n",
            "[4,    50] loss: 0.759\n",
            "[4,   100] loss: 0.765\n",
            "[4,   150] loss: 0.743\n",
            "[5,    50] loss: 0.644\n",
            "[5,   100] loss: 0.642\n",
            "[5,   150] loss: 0.670\n",
            "[6,    50] loss: 0.552\n",
            "[6,   100] loss: 0.560\n",
            "[6,   150] loss: 0.579\n",
            "[7,    50] loss: 0.478\n",
            "[7,   100] loss: 0.490\n",
            "[7,   150] loss: 0.513\n",
            "[8,    50] loss: 0.435\n",
            "[8,   100] loss: 0.422\n",
            "[8,   150] loss: 0.458\n",
            "[9,    50] loss: 0.361\n",
            "[9,   100] loss: 0.390\n",
            "[9,   150] loss: 0.406\n",
            "[10,    50] loss: 0.336\n",
            "[10,   100] loss: 0.325\n",
            "[10,   150] loss: 0.357\n",
            "[11,    50] loss: 0.290\n",
            "[11,   100] loss: 0.300\n",
            "[11,   150] loss: 0.323\n",
            "[12,    50] loss: 0.246\n",
            "[12,   100] loss: 0.259\n",
            "[12,   150] loss: 0.277\n",
            "[13,    50] loss: 0.244\n",
            "[13,   100] loss: 0.249\n",
            "[13,   150] loss: 0.252\n",
            "[14,    50] loss: 0.211\n",
            "[14,   100] loss: 0.195\n",
            "[14,   150] loss: 0.228\n",
            "[15,    50] loss: 0.176\n",
            "[15,   100] loss: 0.181\n",
            "[15,   150] loss: 0.197\n",
            "[16,    50] loss: 0.162\n",
            "[16,   100] loss: 0.165\n",
            "[16,   150] loss: 0.184\n",
            "[17,    50] loss: 0.134\n",
            "[17,   100] loss: 0.156\n",
            "[17,   150] loss: 0.162\n",
            "[18,    50] loss: 0.135\n",
            "[18,   100] loss: 0.137\n",
            "[18,   150] loss: 0.150\n",
            "[19,    50] loss: 0.114\n",
            "[19,   100] loss: 0.116\n",
            "[19,   150] loss: 0.130\n",
            "[20,    50] loss: 0.115\n",
            "[20,   100] loss: 0.108\n",
            "[20,   150] loss: 0.120\n",
            "[21,    50] loss: 0.108\n",
            "[21,   100] loss: 0.109\n",
            "[21,   150] loss: 0.117\n",
            "[22,    50] loss: 0.085\n",
            "[22,   100] loss: 0.089\n",
            "[22,   150] loss: 0.101\n",
            "[23,    50] loss: 0.100\n",
            "[23,   100] loss: 0.095\n",
            "[23,   150] loss: 0.094\n",
            "[24,    50] loss: 0.069\n",
            "[24,   100] loss: 0.075\n",
            "[24,   150] loss: 0.082\n",
            "[25,    50] loss: 0.074\n",
            "[25,   100] loss: 0.077\n",
            "[25,   150] loss: 0.084\n",
            "[26,    50] loss: 0.061\n",
            "[26,   100] loss: 0.059\n",
            "[26,   150] loss: 0.064\n",
            "[27,    50] loss: 0.062\n",
            "[27,   100] loss: 0.071\n",
            "[27,   150] loss: 0.067\n",
            "[28,    50] loss: 0.069\n",
            "[28,   100] loss: 0.059\n",
            "[28,   150] loss: 0.063\n",
            "[29,    50] loss: 0.061\n",
            "[29,   100] loss: 0.049\n",
            "[29,   150] loss: 0.049\n",
            "[30,    50] loss: 0.048\n",
            "[30,   100] loss: 0.047\n",
            "[30,   150] loss: 0.055\n",
            "[31,    50] loss: 0.051\n",
            "[31,   100] loss: 0.054\n",
            "[31,   150] loss: 0.050\n",
            "[32,    50] loss: 0.050\n",
            "[32,   100] loss: 0.043\n",
            "[32,   150] loss: 0.046\n",
            "[33,    50] loss: 0.047\n",
            "[33,   100] loss: 0.042\n",
            "[33,   150] loss: 0.047\n",
            "[34,    50] loss: 0.042\n",
            "[34,   100] loss: 0.044\n",
            "[34,   150] loss: 0.048\n",
            "[35,    50] loss: 0.033\n",
            "[35,   100] loss: 0.034\n",
            "[35,   150] loss: 0.036\n",
            "[36,    50] loss: 0.033\n",
            "[36,   100] loss: 0.036\n",
            "[36,   150] loss: 0.041\n",
            "[37,    50] loss: 0.044\n",
            "[37,   100] loss: 0.044\n",
            "[37,   150] loss: 0.042\n",
            "[38,    50] loss: 0.035\n",
            "[38,   100] loss: 0.038\n",
            "[38,   150] loss: 0.041\n",
            "[39,    50] loss: 0.033\n",
            "[39,   100] loss: 0.029\n",
            "[39,   150] loss: 0.029\n",
            "[40,    50] loss: 0.035\n",
            "[40,   100] loss: 0.036\n",
            "[40,   150] loss: 0.034\n",
            "[41,    50] loss: 0.027\n",
            "[41,   100] loss: 0.025\n",
            "[41,   150] loss: 0.033\n",
            "[42,    50] loss: 0.034\n",
            "[42,   100] loss: 0.029\n",
            "[42,   150] loss: 0.035\n",
            "[43,    50] loss: 0.048\n",
            "[43,   100] loss: 0.028\n",
            "[43,   150] loss: 0.029\n",
            "[44,    50] loss: 0.030\n",
            "[44,   100] loss: 0.024\n",
            "[44,   150] loss: 0.024\n",
            "[45,    50] loss: 0.023\n",
            "[45,   100] loss: 0.021\n",
            "[45,   150] loss: 0.023\n",
            "[46,    50] loss: 0.028\n",
            "[46,   100] loss: 0.030\n",
            "[46,   150] loss: 0.031\n",
            "[47,    50] loss: 0.029\n",
            "[47,   100] loss: 0.028\n",
            "[47,   150] loss: 0.032\n",
            "[48,    50] loss: 0.023\n",
            "[48,   100] loss: 0.018\n",
            "[48,   150] loss: 0.023\n",
            "[49,    50] loss: 0.025\n",
            "[49,   100] loss: 0.024\n",
            "[49,   150] loss: 0.024\n",
            "[50,    50] loss: 0.026\n",
            "[50,   100] loss: 0.023\n",
            "[50,   150] loss: 0.022\n",
            "[51,    50] loss: 0.028\n",
            "[51,   100] loss: 0.031\n",
            "[51,   150] loss: 0.030\n",
            "[52,    50] loss: 0.022\n",
            "[52,   100] loss: 0.019\n",
            "[52,   150] loss: 0.018\n",
            "[53,    50] loss: 0.021\n",
            "[53,   100] loss: 0.016\n",
            "[53,   150] loss: 0.019\n",
            "[54,    50] loss: 0.017\n",
            "[54,   100] loss: 0.019\n",
            "[54,   150] loss: 0.018\n",
            "[55,    50] loss: 0.020\n",
            "[55,   100] loss: 0.017\n",
            "[55,   150] loss: 0.016\n",
            "[56,    50] loss: 0.014\n",
            "[56,   100] loss: 0.016\n",
            "[56,   150] loss: 0.025\n",
            "[57,    50] loss: 0.017\n",
            "[57,   100] loss: 0.016\n",
            "[57,   150] loss: 0.017\n",
            "[58,    50] loss: 0.022\n",
            "[58,   100] loss: 0.020\n",
            "[58,   150] loss: 0.019\n",
            "[59,    50] loss: 0.017\n",
            "[59,   100] loss: 0.020\n",
            "[59,   150] loss: 0.018\n",
            "[60,    50] loss: 0.028\n",
            "[60,   100] loss: 0.024\n",
            "[60,   150] loss: 0.026\n",
            "[61,    50] loss: 0.014\n",
            "[61,   100] loss: 0.019\n",
            "[61,   150] loss: 0.020\n",
            "[62,    50] loss: 0.017\n",
            "[62,   100] loss: 0.021\n",
            "[62,   150] loss: 0.019\n",
            "[63,    50] loss: 0.017\n",
            "[63,   100] loss: 0.012\n",
            "[63,   150] loss: 0.017\n",
            "[64,    50] loss: 0.017\n",
            "[64,   100] loss: 0.016\n",
            "[64,   150] loss: 0.017\n",
            "[65,    50] loss: 0.013\n",
            "[65,   100] loss: 0.017\n",
            "[65,   150] loss: 0.017\n",
            "[66,    50] loss: 0.009\n",
            "[66,   100] loss: 0.012\n",
            "[66,   150] loss: 0.013\n",
            "[67,    50] loss: 0.008\n",
            "[67,   100] loss: 0.014\n",
            "[67,   150] loss: 0.012\n",
            "[68,    50] loss: 0.011\n",
            "[68,   100] loss: 0.010\n",
            "[68,   150] loss: 0.016\n",
            "[69,    50] loss: 0.013\n",
            "[69,   100] loss: 0.017\n",
            "[69,   150] loss: 0.021\n",
            "[70,    50] loss: 0.022\n",
            "[70,   100] loss: 0.017\n",
            "[70,   150] loss: 0.023\n",
            "[71,    50] loss: 0.020\n",
            "[71,   100] loss: 0.021\n",
            "[71,   150] loss: 0.014\n",
            "[72,    50] loss: 0.016\n",
            "[72,   100] loss: 0.018\n",
            "[72,   150] loss: 0.015\n",
            "[73,    50] loss: 0.023\n",
            "[73,   100] loss: 0.018\n",
            "[73,   150] loss: 0.014\n",
            "[74,    50] loss: 0.013\n",
            "[74,   100] loss: 0.016\n",
            "[74,   150] loss: 0.016\n",
            "[75,    50] loss: 0.012\n",
            "[75,   100] loss: 0.013\n",
            "[75,   150] loss: 0.017\n",
            "[76,    50] loss: 0.018\n",
            "[76,   100] loss: 0.014\n",
            "[76,   150] loss: 0.018\n",
            "[77,    50] loss: 0.012\n",
            "[77,   100] loss: 0.008\n",
            "[77,   150] loss: 0.013\n",
            "[78,    50] loss: 0.009\n",
            "[78,   100] loss: 0.013\n",
            "[78,   150] loss: 0.011\n",
            "[79,    50] loss: 0.016\n",
            "[79,   100] loss: 0.018\n",
            "[79,   150] loss: 0.015\n",
            "[80,    50] loss: 0.013\n",
            "[80,   100] loss: 0.019\n",
            "[80,   150] loss: 0.015\n",
            "[81,    50] loss: 0.012\n",
            "[81,   100] loss: 0.011\n",
            "[81,   150] loss: 0.010\n",
            "[82,    50] loss: 0.013\n",
            "[82,   100] loss: 0.012\n",
            "[82,   150] loss: 0.013\n",
            "[83,    50] loss: 0.025\n",
            "[83,   100] loss: 0.015\n",
            "[83,   150] loss: 0.012\n",
            "[84,    50] loss: 0.009\n",
            "[84,   100] loss: 0.012\n",
            "[84,   150] loss: 0.010\n",
            "[85,    50] loss: 0.009\n",
            "[85,   100] loss: 0.011\n",
            "[85,   150] loss: 0.007\n",
            "Finished Training\n"
          ],
          "name": "stdout"
        }
      ]
    },
    {
      "cell_type": "code",
      "metadata": {
        "id": "WIAJ3UZN8rPE"
      },
      "source": [
        "torch.save(cnn_net.state_dict(),\"/content/drive/My Drive/Research/train_begining_layers_vs_last_layers/\"+\"cnn_net_8layer\"+\".pt\")"
      ],
      "execution_count": 18,
      "outputs": []
    },
    {
      "cell_type": "code",
      "metadata": {
        "id": "an7qmNLB-Ilb",
        "outputId": "d572e444-41b5-45b0-97f6-7152d5a82fb0",
        "colab": {
          "base_uri": "https://localhost:8080/",
          "height": 54
        }
      },
      "source": [
        "correct = 0\n",
        "total = 0\n",
        "with torch.no_grad():\n",
        "    for data in trainloader:\n",
        "        images, labels = data\n",
        "        images, labels = images.to(\"cuda\"), labels.to(\"cuda\")\n",
        "        outputs = cnn_net(images)\n",
        "        _, predicted = torch.max(outputs.data, 1)\n",
        "        total += labels.size(0)\n",
        "        correct += (predicted == labels).sum().item()\n",
        "\n",
        "print('Accuracy of the network on the %d train images: %d %%' % (total,  100 * correct / total))\n",
        "print(total,correct)"
      ],
      "execution_count": 19,
      "outputs": [
        {
          "output_type": "stream",
          "text": [
            "Accuracy of the network on the 50000 train images: 99 %\n",
            "50000 49880\n"
          ],
          "name": "stdout"
        }
      ]
    },
    {
      "cell_type": "code",
      "metadata": {
        "id": "3WqTm-aW-TGU",
        "outputId": "bf5ef70f-d021-4017-ac21-4d40c5c5899f",
        "colab": {
          "base_uri": "https://localhost:8080/",
          "height": 54
        }
      },
      "source": [
        "correct = 0\n",
        "total = 0\n",
        "out = []\n",
        "pred = []\n",
        "with torch.no_grad():\n",
        "    for data in testloader:\n",
        "        images, labels = data\n",
        "        images, labels = images.to(\"cuda\"),labels.to(\"cuda\")\n",
        "        out.append(labels.cpu().numpy())\n",
        "        outputs= cnn_net(images)\n",
        "        _, predicted = torch.max(outputs.data, 1)\n",
        "        pred.append(predicted.cpu().numpy())\n",
        "        total += labels.size(0)\n",
        "        correct += (predicted == labels).sum().item()\n",
        "\n",
        "print('Accuracy of the network on the 10000 test images: %d %%' % ( 100 * correct / total))\n",
        "print(total,correct)"
      ],
      "execution_count": 20,
      "outputs": [
        {
          "output_type": "stream",
          "text": [
            "Accuracy of the network on the 10000 test images: 79 %\n",
            "10000 7996\n"
          ],
          "name": "stdout"
        }
      ]
    },
    {
      "cell_type": "code",
      "metadata": {
        "id": "oQ1yPyXRBNT4",
        "outputId": "303c6853-77f4-4ca8-b7f0-bf70dd5d8f4b",
        "colab": {
          "base_uri": "https://localhost:8080/",
          "height": 204
        }
      },
      "source": [
        "class_correct = list(0. for i in range(10))\n",
        "class_total = list(0. for i in range(10))\n",
        "with torch.no_grad():\n",
        "    for data in testloader:\n",
        "        images, labels = data\n",
        "        images, labels = images.to(\"cuda\"),labels.to(\"cuda\")\n",
        "        outputs = cnn_net(images)\n",
        "        _, predicted = torch.max(outputs, 1)\n",
        "        c = (predicted == labels).squeeze()\n",
        "        for i in range(4):\n",
        "            label = labels[i]\n",
        "            class_correct[label] += c[i].item()\n",
        "            class_total[label] += 1\n",
        "\n",
        "\n",
        "for i in range(10):\n",
        "    print('Accuracy of %5s : %2d %%' % (\n",
        "        classes[i], 100 * class_correct[i] / class_total[i]))"
      ],
      "execution_count": 21,
      "outputs": [
        {
          "output_type": "stream",
          "text": [
            "Accuracy of plane : 81 %\n",
            "Accuracy of   car : 92 %\n",
            "Accuracy of  bird : 76 %\n",
            "Accuracy of   cat : 45 %\n",
            "Accuracy of  deer : 76 %\n",
            "Accuracy of   dog : 66 %\n",
            "Accuracy of  frog : 83 %\n",
            "Accuracy of horse : 91 %\n",
            "Accuracy of  ship : 85 %\n",
            "Accuracy of truck : 88 %\n"
          ],
          "name": "stdout"
        }
      ]
    }
  ]
}