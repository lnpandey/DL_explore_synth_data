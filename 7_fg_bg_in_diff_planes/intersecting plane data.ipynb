{
 "cells": [
  {
   "cell_type": "code",
   "execution_count": 43,
   "metadata": {
    "colab": {},
    "colab_type": "code",
    "id": "1BoZq7wLFmUz"
   },
   "outputs": [],
   "source": [
    "import numpy as np\n",
    "import pandas as pd\n",
    "from matplotlib import pyplot as plt\n",
    "\n",
    "import math as m\n",
    "%matplotlib inline\n",
    "\n",
    "import torch\n",
    "import torchvision\n",
    "\n",
    "import torchvision.transforms as transforms\n",
    "import torch.nn as nn\n",
    "import torch.optim as optim\n",
    "import torch.nn.functional as F\n",
    "import random\n",
    "\n",
    "from torch.utils.data import Dataset, DataLoader\n",
    "from mpl_toolkits.mplot3d import Axes3D"
   ]
  },
  {
   "cell_type": "code",
   "execution_count": 44,
   "metadata": {
    "colab": {
     "base_uri": "https://localhost:8080/",
     "height": 248
    },
    "colab_type": "code",
    "id": "zYSj49OVNlZ3",
    "outputId": "5c975113-568b-49d8-ce91-695ddcf62c8f"
   },
   "outputs": [],
   "source": [
    "# point  = np.array([1, 2, 3])\n",
    "# normal = np.array([1, 1, 2])\n",
    "\n",
    "# point2 = np.array([10, 50, 50])\n",
    "\n",
    "# # a plane is a*x+b*y+c*z+d=0\n",
    "# # [a,b,c] is the normal. Thus, we have to calculate\n",
    "# # d and we're set\n",
    "# d = -point.dot(normal)\n",
    "\n",
    "# # create x,y\n",
    "# xx, yy = np.meshgrid(range(10), range(10))\n",
    "\n",
    "# # calculate corresponding z\n",
    "# z = (-normal[0] * xx - normal[1] * yy - d) * 1. /normal[2]\n",
    "\n",
    "# # plot the surface\n",
    "# plt3d = plt.figure().gca(projection='3d')\n",
    "# plt3d.plot_surface(xx, yy, z, alpha=1)\n",
    "\n",
    "# ax = plt.gca()\n",
    "# #and i would like to plot this point : \n",
    "# ax.scatter(point2[0] , point2[1] , point2[2],  color='green')\n",
    "\n",
    "# plt.show()"
   ]
  },
  {
   "cell_type": "code",
   "execution_count": 45,
   "metadata": {
    "colab": {
     "base_uri": "https://localhost:8080/",
     "height": 432
    },
    "colab_type": "code",
    "id": "fjwq197IMvZW",
    "outputId": "44c8adfc-dd4c-40c2-ec79-8c79271a7b9c"
   },
   "outputs": [],
   "source": [
    "# # plot the surface\n",
    "# plt3d = plt.figure().gca(projection='3d')\n",
    "# plt3d.plot_surface(xx, yy, z, alpha=0.2)\n",
    "\n",
    "# # Ensure that the next plot doesn't overwrite the first plot\n",
    "# ax = plt.gca()\n",
    "# # ax.hold(True)\n",
    "\n",
    "# ax.scatter(points2[0], point2[1], point2[2], color='green')"
   ]
  },
  {
   "cell_type": "code",
   "execution_count": 46,
   "metadata": {},
   "outputs": [
    {
     "name": "stdout",
     "output_type": "stream",
     "text": [
      "0 101\n",
      "1 91\n",
      "2 106\n",
      "3 91\n",
      "4 91\n",
      "5 96\n",
      "6 114\n",
      "7 101\n",
      "8 110\n",
      "9 99\n"
     ]
    }
   ],
   "source": [
    "y = np.random.randint(0,10,1000)\n",
    "idx= []\n",
    "for i in range(10):\n",
    "    print(i,sum(y==i))\n",
    "    idx.append(y==i) \n",
    "x = np.zeros((1000,2))\n",
    "\n",
    "x0=x[idx[0],:] = np.random.multivariate_normal(mean = [2,2],cov=[[0.01,0],[0,0.01]],size=sum(idx[0]))\n",
    "\n",
    "\n",
    "x[idx[1],:] = np.random.multivariate_normal(mean = [0,-2],cov=[[0.01,0],[0,0.01]],size=sum(idx[1]))\n",
    "\n",
    "\n",
    "x[idx[2],:] = np.random.multivariate_normal(mean = [-2,2],cov=[[0.01,0],[0,0.01]],size=sum(idx[2]))\n",
    "\n",
    "\n",
    "\n",
    "x[idx[3],:] = np.random.multivariate_normal(mean = [0,0],cov=[[0.01,0],[0,0.01]],size=sum(idx[3]))\n",
    "\n",
    "\n",
    "x[idx[4],:] = np.random.multivariate_normal(mean =[-2,-4] ,cov=[[0.01,0],[0,0.01]],size=sum(idx[4]))\n",
    "\n",
    "\n",
    "\n",
    "x[idx[5],:] = np.random.multivariate_normal(mean = [2,-4],cov=[[0.01,0],[0,0.01]],size=sum(idx[5]))\n",
    "\n",
    "\n",
    "x[idx[6],:] = np.random.multivariate_normal(mean = [-4,0],cov=[[0.01,0],[0,0.01]],size=sum(idx[6]))\n",
    "\n",
    "\n",
    "x[idx[7],:] = np.random.multivariate_normal(mean = [-2,4],cov=[[0.01,0],[0,0.01]],size=sum(idx[7]))\n",
    "\n",
    "\n",
    "x[idx[8],:] = np.random.multivariate_normal(mean = [2,4],cov=[[0.01,0],[0,0.01]],size=sum(idx[8]))\n",
    "\n",
    "\n",
    "x[idx[9],:] = np.random.multivariate_normal(mean = [4,0],cov=[[0.01,0],[0,0.01]],size=sum(idx[9]))\n",
    "\n",
    "idx= []\n",
    "for i in range(10):\n",
    "    #print(i,sum(y==i))\n",
    "    idx.append(y==i)"
   ]
  },
  {
   "cell_type": "code",
   "execution_count": 47,
   "metadata": {},
   "outputs": [
    {
     "data": {
      "text/plain": [
       "<matplotlib.legend.Legend at 0x7fab523f7ad0>"
      ]
     },
     "execution_count": 47,
     "metadata": {},
     "output_type": "execute_result"
    },
    {
     "data": {
      "image/png": "[encoded data removed]",
      "text/plain": [
       "<Figure size 432x288 with 1 Axes>"
      ]
     },
     "metadata": {
      "needs_background": "light"
     },
     "output_type": "display_data"
    }
   ],
   "source": [
    "for i in range(10):\n",
    "    plt.scatter(x[idx[i],0],x[idx[i],1],label=\"class_\"+str(i))\n",
    "plt.legend(loc='center left', bbox_to_anchor=(1, 0.5))"
   ]
  },
  {
   "cell_type": "code",
   "execution_count": 48,
   "metadata": {},
   "outputs": [
    {
     "data": {
      "text/plain": [
       "array([[-1.8762441 ,  1.87705422,  0.        ],\n",
       "       [-0.23992061, -0.04292365,  0.        ],\n",
       "       [-2.02876883,  2.00085988,  0.        ],\n",
       "       ...,\n",
       "       [ 1.75253051,  1.98739375,  0.        ],\n",
       "       [-2.04032608, -4.07231535,  0.        ],\n",
       "       [-0.02069437, -2.10614477,  0.        ]])"
      ]
     },
     "execution_count": 48,
     "metadata": {},
     "output_type": "execute_result"
    }
   ],
   "source": [
    "z = np.zeros((1000,1))\n",
    "x = np.concatenate((x, z) , axis =1)\n",
    "x"
   ]
  },
  {
   "cell_type": "code",
   "execution_count": 49,
   "metadata": {},
   "outputs": [
    {
     "data": {
      "text/plain": [
       "(1000, 3)"
      ]
     },
     "execution_count": 49,
     "metadata": {},
     "output_type": "execute_result"
    }
   ],
   "source": [
    "x.shape"
   ]
  },
  {
   "cell_type": "code",
   "execution_count": 50,
   "metadata": {
    "scrolled": true
   },
   "outputs": [
    {
     "data": {
      "text/plain": [
       "<matplotlib.legend.Legend at 0x7fab522987d0>"
      ]
     },
     "execution_count": 50,
     "metadata": {},
     "output_type": "execute_result"
    },
    {
     "data": {
      "image/png": "[encoded data removed]",
      "text/plain": [
       "<Figure size 432x288 with 1 Axes>"
      ]
     },
     "metadata": {
      "needs_background": "light"
     },
     "output_type": "display_data"
    }
   ],
   "source": [
    "fig = plt.figure()\n",
    "ax = fig.add_subplot(111, projection='3d')\n",
    "for i in range(10):\n",
    "    ax.scatter(x[idx[i],0],x[idx[i],1],x[idx[i],2],label=\"class_\"+str(i))\n",
    "ax.legend(loc='center left', bbox_to_anchor=(1, 0.5))"
   ]
  },
  {
   "cell_type": "code",
   "execution_count": 51,
   "metadata": {},
   "outputs": [
    {
     "data": {
      "text/plain": [
       "<matplotlib.legend.Legend at 0x7fab521d0fd0>"
      ]
     },
     "execution_count": 51,
     "metadata": {},
     "output_type": "execute_result"
    },
    {
     "data": {
      "image/png": "[encoded data removed]",
      "text/plain": [
       "<Figure size 432x288 with 1 Axes>"
      ]
     },
     "metadata": {
      "needs_background": "light"
     },
     "output_type": "display_data"
    }
   ],
   "source": [
    "normal = np.array([0,0,1])\n",
    "# a plane is a*x+b*y+c*z+d=0\n",
    "# [a,b,c] is the normal. Thus, we have to calculate\n",
    "# d and we're set\n",
    "d = 0\n",
    "\n",
    "# create x,y\n",
    "xx, yy = np.meshgrid(range(5), range(5))\n",
    "\n",
    "# calculate corresponding z\n",
    "z = (-normal[0] * xx - normal[1] * yy - d) * 1. /normal[2]\n",
    "\n",
    "# plot the surface\n",
    "plt3d = plt.figure().gca(projection='3d')\n",
    "plt3d.plot_surface(xx, yy, z, alpha=0.5)\n",
    "\n",
    "# fig = plt.figure()\n",
    "ax = plt.gca()\n",
    "for i in range(10):\n",
    "    ax.scatter(x[idx[i],0],x[idx[i],1],x[idx[i],2],label=\"class_\"+str(i))\n",
    "ax.legend(loc='center left', bbox_to_anchor=(1, 0.5))"
   ]
  },
  {
   "cell_type": "markdown",
   "metadata": {},
   "source": [
    "## angle = pi/2, p1: z = 0, p2: 2x + 3y = 0\n",
    "## angle = pi/6, p1: z = 0, p2: 2x + 3y + sqrt(39)z = 0\n",
    "## angle = pi/3, p1: z = 0, p2: 2x + 3y + sqrt(13/3)z = 0"
   ]
  },
  {
   "cell_type": "code",
   "execution_count": 52,
   "metadata": {},
   "outputs": [
    {
     "name": "stdout",
     "output_type": "stream",
     "text": [
      "-2.0816659994661313\n"
     ]
    }
   ],
   "source": [
    "angle = np.pi/4\n",
    "angle\n",
    "a = 2\n",
    "b = 3\n",
    "if(angle == np.pi/2):\n",
    "    c=0\n",
    "else:\n",
    "    c = np.sqrt(a*a + b*b )/m.tan(angle)\n",
    "print(c)"
   ]
  },
  {
   "cell_type": "code",
   "execution_count": 53,
   "metadata": {
    "scrolled": true
   },
   "outputs": [
    {
     "data": {
      "text/plain": [
       "array([[2.08428544, 2.02457957, 0.        ],\n",
       "       [2.00140905, 1.9552484 , 0.        ],\n",
       "       [1.93216217, 1.93693207, 0.        ],\n",
       "       [2.029092  , 2.01910873, 0.        ],\n",
       "       [1.86450837, 1.97422274, 0.        ],\n",
       "       [1.96448121, 1.94383776, 0.        ],\n",
       "       [2.0111606 , 1.97487998, 0.        ],\n",
       "       [2.00619666, 1.96232258, 0.        ],\n",
       "       [2.17859399, 1.94839989, 0.        ],\n",
       "       [1.68575108, 2.00517189, 0.        ],\n",
       "       [1.84353841, 2.00525088, 0.        ],\n",
       "       [2.05022635, 2.0730357 , 0.        ],\n",
       "       [2.05611253, 1.86131997, 0.        ],\n",
       "       [2.08252436, 2.03910608, 0.        ],\n",
       "       [1.87356332, 2.18453267, 0.        ],\n",
       "       [1.90500562, 1.98675058, 0.        ],\n",
       "       [2.04595418, 1.9302237 , 0.        ],\n",
       "       [1.82521617, 1.98731507, 0.        ],\n",
       "       [1.92812935, 1.96719305, 0.        ],\n",
       "       [2.00822276, 2.16658937, 0.        ],\n",
       "       [1.93322097, 1.89444715, 0.        ],\n",
       "       [2.05387105, 2.08922825, 0.        ],\n",
       "       [2.01171887, 2.12403863, 0.        ],\n",
       "       [1.9494745 , 1.99503766, 0.        ],\n",
       "       [2.02293342, 2.06223403, 0.        ],\n",
       "       [2.0055626 , 2.03722923, 0.        ],\n",
       "       [2.07498546, 2.19328973, 0.        ],\n",
       "       [1.88709915, 2.06119668, 0.        ],\n",
       "       [2.06123204, 2.03862932, 0.        ],\n",
       "       [2.10569538, 1.85800784, 0.        ],\n",
       "       [2.06863249, 1.92928889, 0.        ],\n",
       "       [1.80177478, 2.0420191 , 0.        ],\n",
       "       [1.91785981, 1.93344705, 0.        ],\n",
       "       [1.8934224 , 1.9289819 , 0.        ],\n",
       "       [2.00310262, 2.11161947, 0.        ],\n",
       "       [1.8452291 , 2.15955316, 0.        ],\n",
       "       [1.99445701, 1.83297762, 0.        ],\n",
       "       [2.02948481, 2.11500493, 0.        ],\n",
       "       [2.12058212, 1.95638065, 0.        ],\n",
       "       [2.09668265, 1.99773219, 0.        ],\n",
       "       [2.01405896, 2.05345759, 0.        ],\n",
       "       [1.86446308, 2.00644027, 0.        ],\n",
       "       [2.10943166, 1.99669444, 0.        ],\n",
       "       [1.84628187, 1.99849744, 0.        ],\n",
       "       [2.16796942, 1.98507192, 0.        ],\n",
       "       [1.91719449, 1.97085126, 0.        ],\n",
       "       [1.82593124, 1.96823266, 0.        ],\n",
       "       [1.74614166, 1.89679213, 0.        ],\n",
       "       [1.90479285, 1.97449465, 0.        ],\n",
       "       [2.02828172, 2.06932812, 0.        ],\n",
       "       [2.09952411, 2.05245164, 0.        ],\n",
       "       [1.91671431, 2.11432287, 0.        ],\n",
       "       [1.95123072, 1.91787659, 0.        ],\n",
       "       [1.97639596, 2.06774835, 0.        ],\n",
       "       [1.94804453, 2.08284188, 0.        ],\n",
       "       [2.09650696, 2.05227034, 0.        ],\n",
       "       [2.07740529, 2.02746784, 0.        ],\n",
       "       [1.95871818, 1.96224295, 0.        ],\n",
       "       [2.1037139 , 1.80300143, 0.        ],\n",
       "       [1.92734392, 2.20911716, 0.        ],\n",
       "       [1.99585955, 1.86205091, 0.        ],\n",
       "       [1.78099089, 2.01679825, 0.        ],\n",
       "       [1.95037549, 1.82825595, 0.        ],\n",
       "       [1.9996537 , 2.23377039, 0.        ],\n",
       "       [1.95227753, 2.07506576, 0.        ],\n",
       "       [2.28763475, 1.8796911 , 0.        ],\n",
       "       [2.13247181, 2.00850578, 0.        ],\n",
       "       [1.86729301, 1.90316397, 0.        ],\n",
       "       [1.96823002, 2.11424911, 0.        ],\n",
       "       [2.129454  , 1.98597783, 0.        ],\n",
       "       [1.90183502, 2.0282837 , 0.        ],\n",
       "       [1.95511276, 1.92122453, 0.        ],\n",
       "       [2.05869237, 1.98954691, 0.        ],\n",
       "       [2.01489077, 1.97562886, 0.        ],\n",
       "       [2.02281907, 2.21121215, 0.        ],\n",
       "       [2.06779159, 1.93102781, 0.        ],\n",
       "       [1.93007831, 2.00006112, 0.        ],\n",
       "       [2.14146266, 1.9093429 , 0.        ],\n",
       "       [1.93085703, 2.17580669, 0.        ],\n",
       "       [2.13037427, 2.01397453, 0.        ],\n",
       "       [2.00762526, 2.21229339, 0.        ],\n",
       "       [2.07225184, 1.87477213, 0.        ],\n",
       "       [1.91293833, 1.81757415, 0.        ],\n",
       "       [1.99612951, 2.1174096 , 0.        ],\n",
       "       [1.94819656, 2.01685106, 0.        ],\n",
       "       [2.14937609, 1.90304698, 0.        ],\n",
       "       [1.82846319, 1.91387981, 0.        ],\n",
       "       [2.02716019, 2.08377547, 0.        ],\n",
       "       [2.10075984, 2.07877333, 0.        ],\n",
       "       [1.88989621, 1.87855119, 0.        ],\n",
       "       [2.05230407, 1.9889426 , 0.        ],\n",
       "       [2.01612404, 1.87588167, 0.        ],\n",
       "       [1.92101143, 2.07863413, 0.        ],\n",
       "       [2.0282422 , 2.01692188, 0.        ],\n",
       "       [2.09874453, 1.95829242, 0.        ],\n",
       "       [2.06629589, 1.89416936, 0.        ],\n",
       "       [2.10185513, 1.99545209, 0.        ],\n",
       "       [1.8761904 , 1.94343671, 0.        ],\n",
       "       [1.83770218, 1.77955291, 0.        ],\n",
       "       [1.95333092, 1.84951897, 0.        ],\n",
       "       [1.75253051, 1.98739375, 0.        ]])"
      ]
     },
     "execution_count": 53,
     "metadata": {},
     "output_type": "execute_result"
    }
   ],
   "source": [
    "x[idx[0],:]"
   ]
  },
  {
   "cell_type": "code",
   "execution_count": 54,
   "metadata": {},
   "outputs": [
    {
     "data": {
      "text/plain": [
       "array([0., 0., 0., 0., 0., 0., 0., 0., 0., 0., 0., 0., 0., 0., 0., 0., 0.,\n",
       "       0., 0., 0., 0., 0., 0., 0., 0., 0., 0., 0., 0., 0., 0., 0., 0., 0.,\n",
       "       0., 0., 0., 0., 0., 0., 0., 0., 0., 0., 0., 0., 0., 0., 0., 0., 0.,\n",
       "       0., 0., 0., 0., 0., 0., 0., 0., 0., 0., 0., 0., 0., 0., 0., 0., 0.,\n",
       "       0., 0., 0., 0., 0., 0., 0., 0., 0., 0., 0., 0., 0., 0., 0., 0., 0.,\n",
       "       0., 0., 0., 0., 0., 0., 0., 0., 0., 0., 0., 0., 0., 0., 0., 0.])"
      ]
     },
     "execution_count": 54,
     "metadata": {},
     "output_type": "execute_result"
    }
   ],
   "source": [
    "x[idx[0],2]"
   ]
  },
  {
   "cell_type": "code",
   "execution_count": 55,
   "metadata": {
    "scrolled": true
   },
   "outputs": [],
   "source": [
    "if(angle == np.pi/2):\n",
    "    for i in range(3):\n",
    "        x[idx[i],2] = (i+2)*(x[idx[i],0] + x[idx[i],1])/(x[idx[i],0] + x[idx[i],1])\n",
    "else:\n",
    "    for i in range(3):\n",
    "        x[idx[i],2] = (2*x[idx[i],0] + 3*x[idx[i],1])/c\n"
   ]
  },
  {
   "cell_type": "code",
   "execution_count": 56,
   "metadata": {
    "scrolled": true
   },
   "outputs": [
    {
     "data": {
      "text/plain": [
       "array([[ 2.08428544,  2.02457957, -4.92024637],\n",
       "       [ 2.00140905,  1.9552484 , -4.74070447],\n",
       "       [ 1.93216217,  1.93693207, -4.64777758],\n",
       "       [ 2.029092  ,  2.01910873, -4.85933392],\n",
       "       [ 1.86450837,  1.97422274, -4.63651949],\n",
       "       [ 1.96448121,  1.94383776, -4.68878087],\n",
       "       [ 2.0111606 ,  1.97487998, -4.77836556],\n",
       "       [ 2.00619666,  1.96232258, -4.75549922],\n",
       "       [ 2.17859399,  1.94839989, -4.9010685 ],\n",
       "       [ 1.68575108,  2.00517189, -4.50937751],\n",
       "       [ 1.84353841,  2.00525088, -4.6610885 ],\n",
       "       [ 2.05022635,  2.0730357 , -4.95735617],\n",
       "       [ 2.05611253,  1.86131997, -4.6578966 ],\n",
       "       [ 2.08252436,  2.03910608, -4.93948931],\n",
       "       [ 1.87356332,  2.18453267, -4.94830806],\n",
       "       [ 1.90500562,  1.98675058, -4.69348252],\n",
       "       [ 2.04595418,  1.9302237 , -4.74743762],\n",
       "       [ 1.82521617,  1.98731507, -4.61763681],\n",
       "       [ 1.92812935,  1.96719305, -4.68751369],\n",
       "       [ 2.00822276,  2.16658937, -5.05182562],\n",
       "       [ 1.93322097,  1.89444715, -4.58756756],\n",
       "       [ 2.05387105,  2.08922825, -4.98419384],\n",
       "       [ 2.01171887,  2.12403863, -4.99386243],\n",
       "       [ 1.9494745 ,  1.99503766, -4.7481498 ],\n",
       "       [ 2.02293342,  2.06223403, -4.91556712],\n",
       "       [ 2.0055626 ,  2.03722923, -4.86284201],\n",
       "       [ 2.07498546,  2.19328973, -5.15444846],\n",
       "       [ 1.88709915,  2.06119668, -4.78356679],\n",
       "       [ 2.06123204,  2.03862932, -4.91834523],\n",
       "       [ 2.10569538,  1.85800784, -4.70076097],\n",
       "       [ 2.06863249,  1.92928889, -4.76787901],\n",
       "       [ 1.80177478,  2.0420191 , -4.67395195],\n",
       "       [ 1.91785981,  1.93344705, -4.62901386],\n",
       "       [ 1.8934224 ,  1.9289819 , -4.5991002 ],\n",
       "       [ 2.00310262,  2.11161947, -4.96768629],\n",
       "       [ 1.8452291 ,  2.15955316, -4.88508613],\n",
       "       [ 1.99445701,  1.83297762, -4.55781421],\n",
       "       [ 2.02948481,  2.11500493, -4.99791244],\n",
       "       [ 2.12058212,  1.95638065, -4.856834  ],\n",
       "       [ 2.09668265,  1.99773219, -4.89346604],\n",
       "       [ 2.01405896,  2.05345759, -4.89439261],\n",
       "       [ 1.86446308,  2.00644027, -4.68290637],\n",
       "       [ 2.10943166,  1.99669444, -4.90421933],\n",
       "       [ 1.84628187,  1.99849744, -4.6539916 ],\n",
       "       [ 2.16796942,  1.98507192, -4.94371076],\n",
       "       [ 1.91719449,  1.97085126, -4.68227985],\n",
       "       [ 1.82593124,  1.96823266, -4.59082315],\n",
       "       [ 1.74614166,  1.89679213, -4.41120703],\n",
       "       [ 1.90479285,  1.97449465, -4.67561542],\n",
       "       [ 2.02828172,  2.06932812, -4.93092926],\n",
       "       [ 2.09952411,  2.05245164, -4.97505514],\n",
       "       [ 1.91671431,  2.11432287, -4.8885831 ],\n",
       "       [ 1.95123072,  1.91787659, -4.63863617],\n",
       "       [ 1.97639596,  2.06774835, -4.87880235],\n",
       "       [ 1.94804453,  2.08284188, -4.87331527],\n",
       "       [ 2.09650696,  2.05227034, -4.97189507],\n",
       "       [ 2.07740529,  2.02746784, -4.91779858],\n",
       "       [ 1.95871818,  1.96224295, -4.70976863],\n",
       "       [ 2.1037139 ,  1.80300143, -4.61958454],\n",
       "       [ 1.92734392,  2.20911716, -5.03540882],\n",
       "       [ 1.99585955,  1.86205091, -4.60106081],\n",
       "       [ 1.78099089,  2.01679825, -4.61763632],\n",
       "       [ 1.95037549,  1.82825595, -4.50865741],\n",
       "       [ 1.9996537 ,  2.23377039, -5.14041089],\n",
       "       [ 1.95227753,  2.07506576, -4.86617563],\n",
       "       [ 2.28763475,  1.8796911 , -4.90681156],\n",
       "       [ 2.13247181,  2.00850578, -4.94337754],\n",
       "       [ 1.86729301,  1.90316397, -4.5367883 ],\n",
       "       [ 1.96823002,  2.11424911, -4.9379715 ],\n",
       "       [ 2.129454  ,  1.98597783, -4.9080119 ],\n",
       "       [ 1.90183502,  2.0282837 , -4.7502919 ],\n",
       "       [ 1.95511276,  1.92122453, -4.64719082],\n",
       "       [ 2.05869237,  1.98954691, -4.84516991],\n",
       "       [ 2.01489077,  1.97562886, -4.78302865],\n",
       "       [ 2.02281907,  2.21121215, -5.13015757],\n",
       "       [ 2.06779159,  1.93102781, -4.76957717],\n",
       "       [ 1.93007831,  2.00006112, -4.7367541 ],\n",
       "       [ 2.14146266,  1.9093429 , -4.80910675],\n",
       "       [ 1.93085703,  2.17580669, -4.99077859],\n",
       "       [ 2.13037427,  2.01397453, -4.9492436 ],\n",
       "       [ 2.00762526,  2.21229339, -5.11711807],\n",
       "       [ 2.07225184,  1.87477213, -4.69278937],\n",
       "       [ 1.91293833,  1.81757415, -4.45729484],\n",
       "       [ 1.99612951,  2.1174096 , -4.96933121],\n",
       "       [ 1.94819656,  2.01685106, -4.77835844],\n",
       "       [ 2.14937609,  1.90304698, -4.80763635],\n",
       "       [ 1.82846319,  1.91387981, -4.51492497],\n",
       "       [ 2.02716019,  2.08377547, -4.95067258],\n",
       "       [ 2.10075984,  2.07877333, -5.01417599],\n",
       "       [ 1.88989621,  1.87855119, -4.52303394],\n",
       "       [ 2.05230407,  1.9889426 , -4.83816133],\n",
       "       [ 2.01612404,  1.87588167, -4.64046254],\n",
       "       [ 1.92101143,  2.07863413, -4.84127868],\n",
       "       [ 2.0282422 ,  2.01692188, -4.85536587],\n",
       "       [ 2.09874453,  1.95829242, -4.83860827],\n",
       "       [ 2.06629589,  1.89416936, -4.71502146],\n",
       "       [ 2.10185513,  1.99545209, -4.89514962],\n",
       "       [ 1.8761904 ,  1.94343671, -4.60337583],\n",
       "       [ 1.83770218,  1.77955291, -4.33021585],\n",
       "       [ 1.95333092,  1.84951897, -4.54214016],\n",
       "       [ 1.75253051,  1.98739375, -4.54791609]])"
      ]
     },
     "execution_count": 56,
     "metadata": {},
     "output_type": "execute_result"
    }
   ],
   "source": [
    "x[idx[0],:]"
   ]
  },
  {
   "cell_type": "code",
   "execution_count": 57,
   "metadata": {
    "scrolled": true
   },
   "outputs": [
    {
     "data": {
      "text/plain": [
       "<matplotlib.legend.Legend at 0x7fab521246d0>"
      ]
     },
     "execution_count": 57,
     "metadata": {},
     "output_type": "execute_result"
    },
    {
     "data": {
      "image/png": "[encoded data removed]",
      "text/plain": [
       "<Figure size 432x288 with 1 Axes>"
      ]
     },
     "metadata": {
      "needs_background": "light"
     },
     "output_type": "display_data"
    }
   ],
   "source": [
    "fig = plt.figure()\n",
    "ax = fig.add_subplot(111, projection='3d')\n",
    "for i in range(10):\n",
    "    ax.scatter(x[idx[i],0],x[idx[i],1],x[idx[i],2],label=\"class_\"+str(i))\n",
    "ax.legend(loc='center left', bbox_to_anchor=(1, 0.5))"
   ]
  },
  {
   "cell_type": "code",
   "execution_count": 58,
   "metadata": {},
   "outputs": [
    {
     "data": {
      "text/plain": [
       "<matplotlib.legend.Legend at 0x7fab520af550>"
      ]
     },
     "execution_count": 58,
     "metadata": {},
     "output_type": "execute_result"
    },
    {
     "data": {
      "image/png": "[encoded data removed]",
      "text/plain": [
       "<Figure size 432x288 with 1 Axes>"
      ]
     },
     "metadata": {
      "needs_background": "light"
     },
     "output_type": "display_data"
    }
   ],
   "source": [
    "normal = np.array([a,b,c])\n",
    "# a plane is a*x+b*y+c*z+d=0\n",
    "# [a,b,c] is the normal. Thus, we have to calculate\n",
    "# d and we're set\n",
    "d = 0\n",
    "\n",
    "# create x,y\n",
    "xx, yy = np.meshgrid(range(5), range(5))\n",
    "\n",
    "# calculate corresponding z\n",
    "z = -(-normal[0] * xx - normal[1] * yy - d) * 1. /normal[2]\n",
    "\n",
    "# plot the surface\n",
    "plt3d = plt.figure().gca(projection='3d')\n",
    "plt3d.plot_surface(xx, yy, z, alpha=0.5)\n",
    "\n",
    "# fig = plt.figure()\n",
    "ax = plt.gca()\n",
    "for i in range(10):\n",
    "    ax.scatter(x[idx[i],0],x[idx[i],1],x[idx[i],2],label=\"class_\"+str(i))\n",
    "ax.legend(loc='center left', bbox_to_anchor=(1, 0.5))"
   ]
  },
  {
   "cell_type": "code",
   "execution_count": 59,
   "metadata": {
    "colab": {},
    "colab_type": "code",
    "id": "4HnwQL6BNWvL"
   },
   "outputs": [],
   "source": [
    "# true_data = 30\n",
    "# true_class_size = int(true_data/2)\n",
    "# corruption_size = 240\n",
    "# corrupted_class_size = int(corruption_size/8)\n",
    "\n",
    "# x0 = np.random.uniform(low=[2,1.5], high = [2.5,2],size =(true_class_size,2) )\n",
    "# x1 = np.random.uniform(low=[2.5,2], high = [3,2.5],size =(true_class_size,2) )\n",
    "\n",
    "# x2 = np.random.uniform(low = [0,1.5] , high = [1,2.5],size=(corrupted_class_size,2))\n",
    "# x3 = np.random.uniform(low = [0,3] , high = [1,4],size=(corrupted_class_size,2))\n",
    "\n",
    "# x4 = np.random.uniform(low = [2,0] , high = [3,1],size=(corrupted_class_size,2))\n",
    "# x5 = np.random.uniform(low = [0,0] , high = [1,1],size=(corrupted_class_size,2))\n",
    "\n",
    "# x6 = np.random.uniform(low = [2,3] , high = [3,4],size=(corrupted_class_size,2))\n",
    "# x7 = np.random.uniform(low = [4,0] , high = [5,1],size=(corrupted_class_size,2))\n",
    "\n",
    "# x8 = np.random.uniform(low = [4,1.5] , high = [5,2.5],size=(corrupted_class_size,2))\n",
    "# x9 = np.random.uniform(low = [4,3] , high = [5,4],size=(corrupted_class_size,2))\n",
    "\n"
   ]
  },
  {
   "cell_type": "code",
   "execution_count": 60,
   "metadata": {
    "colab": {},
    "colab_type": "code",
    "id": "Dork_enxRovA"
   },
   "outputs": [],
   "source": [
    "# z = np.zeros((true_class_size,1))\n",
    "# x0 = np.concatenate((x0, z) , axis =1)\n",
    "# x1 = np.concatenate((x1, z) , axis =1)\n",
    "\n",
    "# z= np.zeros((corrupted_class_size,1))\n",
    "\n",
    "# x2 = np.concatenate((x2, z) , axis =1)\n",
    "# x3 = np.concatenate((x3, z) , axis =1)\n",
    "\n",
    "# x4 = np.concatenate((x4, z) , axis =1)\n",
    "\n",
    "# x5 = np.concatenate((x5, z) , axis =1)\n",
    "\n",
    "# x6 = np.concatenate((x6, z) , axis =1)\n",
    "\n",
    "# x7 = np.concatenate((x7, z) , axis =1)\n",
    "\n",
    "# x8 = np.concatenate((x8, z) , axis =1)\n",
    "\n",
    "# x9 = np.concatenate((x9, z) , axis =1)"
   ]
  },
  {
   "cell_type": "code",
   "execution_count": 61,
   "metadata": {
    "colab": {
     "base_uri": "https://localhost:8080/",
     "height": 34
    },
    "colab_type": "code",
    "id": "x6u0HaL8SDNk",
    "outputId": "1892cf36-6722-4890-da60-100c530883fa"
   },
   "outputs": [],
   "source": [
    "# x0.shape , x1.shape , x2.shape, x3.shape\n"
   ]
  },
  {
   "cell_type": "code",
   "execution_count": 62,
   "metadata": {
    "colab": {
     "base_uri": "https://localhost:8080/",
     "height": 52
    },
    "colab_type": "code",
    "id": "mYowRFzBTjrk",
    "outputId": "769ae0f7-24ae-451b-9726-6af2c04baf3c"
   },
   "outputs": [],
   "source": [
    "# fig = plt.figure()\n",
    "# ax = fig.add_subplot(111, projection='3d')\n",
    "# # ax = plt.gca()\n",
    "# ax.scatter(x0[:,0], x0[:, 1], x0[:,2])\n",
    "# ax.scatter(x1[:,0],x1[:,1], x1[:,2])\n",
    "# ax.scatter(x2[:,0],x2[:,1], x2[:,2])\n",
    "# ax.scatter(x3[:,0],x3[:,1], x3[:,2])\n",
    "# ax.scatter(x4[:,0],x4[:,1], x4[:,2])\n",
    "# ax.scatter(x5[:,0],x5[:,1], x5[:,2])\n",
    "# ax.scatter(x6[:,0],x6[:,1], x6[:,2])\n",
    "# ax.scatter(x7[:,0],x7[:,1], x7[:,2])\n",
    "# ax.scatter(x8[:,0],x8[:,1], x8[:,2])\n",
    "# ax.scatter(x9[:,0],x9[:,1], x9[:,2])"
   ]
  },
  {
   "cell_type": "code",
   "execution_count": 63,
   "metadata": {
    "colab": {},
    "colab_type": "code",
    "id": "ul-o7uHmVxLo"
   },
   "outputs": [],
   "source": [
    "# import plotly.express as px\n",
    "# fig = px.scatter_3d(x0, x='sepal_length', y='sepal_width', z='petal_width',\n",
    "#                     color='petal_length', symbol='species')\n",
    "# fig.show()\n",
    "\n"
   ]
  },
  {
   "cell_type": "code",
   "execution_count": 65,
   "metadata": {},
   "outputs": [
    {
     "data": {
      "text/plain": [
       "((1000, 3), (1000,))"
      ]
     },
     "execution_count": 65,
     "metadata": {},
     "output_type": "execute_result"
    }
   ],
   "source": [
    "x.shape,y.shape"
   ]
  },
  {
   "cell_type": "code",
   "execution_count": 81,
   "metadata": {},
   "outputs": [],
   "source": [
    "classes  = ('0', '1', '2','3', '4', '5', '6', '7','8', '9')\n",
    "foreground_classes = {'0', '1', '2'}\n",
    "\n",
    "background_classes = {'3', '4', '5', '6', '7','8', '9'}\n"
   ]
  },
  {
   "cell_type": "code",
   "execution_count": 82,
   "metadata": {},
   "outputs": [],
   "source": [
    "class sub_clust_data(Dataset):\n",
    "    def __init__(self,x, y):\n",
    "        self.x = torch.Tensor(x)\n",
    "        self.y = torch.Tensor(y).type(torch.LongTensor)\n",
    "    #self.fore_idx = fore_idx\n",
    "    \n",
    "    def __len__(self):\n",
    "        return len(self.y)\n",
    "\n",
    "    def __getitem__(self, idx):\n",
    "        return self.x[idx] , self.y[idx] #, self.fore_idx[idx]"
   ]
  },
  {
   "cell_type": "code",
   "execution_count": 83,
   "metadata": {},
   "outputs": [],
   "source": [
    "trainset = sub_clust_data(x,y)"
   ]
  },
  {
   "cell_type": "code",
   "execution_count": 84,
   "metadata": {},
   "outputs": [],
   "source": [
    "trainloader = torch.utils.data.DataLoader(trainset, batch_size=10, shuffle=True)"
   ]
  },
  {
   "cell_type": "code",
   "execution_count": 86,
   "metadata": {},
   "outputs": [],
   "source": [
    "dataiter = iter(trainloader)\n",
    "background_data=[]\n",
    "background_label=[]\n",
    "foreground_data=[]\n",
    "foreground_label=[]\n",
    "batch_size=10\n",
    "\n",
    "for i in range(100):   #5000*batch_size = 50000 data points\n",
    "    images, labels = dataiter.next()\n",
    "    for j in range(batch_size):\n",
    "        if(classes[labels[j]] in background_classes):\n",
    "            img = images[j].tolist()\n",
    "            background_data.append(img)\n",
    "            background_label.append(labels[j])\n",
    "        else:\n",
    "            img = images[j].tolist()\n",
    "            foreground_data.append(img)\n",
    "            foreground_label.append(labels[j])"
   ]
  },
  {
   "cell_type": "code",
   "execution_count": 90,
   "metadata": {},
   "outputs": [
    {
     "data": {
      "text/plain": [
       "((298, 3), (298,))"
      ]
     },
     "execution_count": 90,
     "metadata": {},
     "output_type": "execute_result"
    }
   ],
   "source": [
    "np.shape(foreground_data),np.shape(foreground_label)"
   ]
  },
  {
   "cell_type": "code",
   "execution_count": 91,
   "metadata": {},
   "outputs": [
    {
     "data": {
      "text/plain": [
       "((702, 3), (702,))"
      ]
     },
     "execution_count": 91,
     "metadata": {},
     "output_type": "execute_result"
    }
   ],
   "source": [
    "np.shape(background_data),np.shape(background_label)"
   ]
  },
  {
   "cell_type": "code",
   "execution_count": 92,
   "metadata": {},
   "outputs": [],
   "source": [
    "foreground_data = torch.tensor(foreground_data)\n",
    "foreground_label = torch.tensor(foreground_label).type(torch.LongTensor)\n",
    "background_data = torch.tensor(background_data)\n",
    "background_label = torch.tensor(background_label).type(torch.LongTensor)"
   ]
  },
  {
   "cell_type": "code",
   "execution_count": 93,
   "metadata": {},
   "outputs": [],
   "source": [
    "def create_mosaic_img(bg_idx,fg_idx,fg): \n",
    "    image_list=[]\n",
    "    j=0\n",
    "    for i in range(9):\n",
    "        if i != fg:\n",
    "            image_list.append(background_data[bg_idx[j]].type(\"torch.DoubleTensor\"))\n",
    "            j+=1\n",
    "        else: \n",
    "            image_list.append(foreground_data[fg_idx].type(\"torch.DoubleTensor\"))\n",
    "            label = foreground_label[fg_idx]  #-7  # minus 7 because our fore ground classes are 7,8,9 but we have to store it as 0,1,2\n",
    "    #image_list = np.concatenate(image_list ,axis=0)\n",
    "    image_list = torch.stack(image_list) \n",
    "    return image_list,label"
   ]
  },
  {
   "cell_type": "code",
   "execution_count": 96,
   "metadata": {},
   "outputs": [],
   "source": [
    "desired_num = 1000\n",
    "mosaic_list_of_images =[]      # list of mosaic images, each mosaic image is saved as list of 9 images\n",
    "fore_idx =[]                   # list of indexes at which foreground image is present in a mosaic image i.e from 0 to 9               \n",
    "mosaic_label=[]                # label of mosaic image = foreground class present in that mosaic\n",
    "for i in range(desired_num):\n",
    "    bg_idx = np.random.randint(0,702,8)\n",
    "    fg_idx = np.random.randint(0,298)\n",
    "    fg = np.random.randint(0,9)\n",
    "    fore_idx.append(fg)\n",
    "    image_list,label = create_mosaic_img(bg_idx,fg_idx,fg)\n",
    "    mosaic_list_of_images.append(image_list)\n",
    "    mosaic_label.append(label)"
   ]
  },
  {
   "cell_type": "code",
   "execution_count": 98,
   "metadata": {},
   "outputs": [],
   "source": [
    "def create_avg_image_from_mosaic_dataset(mosaic_dataset,labels,foreground_index,dataset_number):\n",
    "    avg_image_dataset = []\n",
    "    for i in range(len(mosaic_dataset)):\n",
    "        img = torch.zeros([3], dtype=torch.float64)\n",
    "        for j in range(9):\n",
    "            if j == foreground_index[i]:\n",
    "                img = img + mosaic_dataset[i][j]*dataset_number/9\n",
    "            else :\n",
    "                img = img + mosaic_dataset[i][j]*(9-dataset_number)/(8*9)\n",
    "    \n",
    "        avg_image_dataset.append(img)\n",
    "    \n",
    "    return avg_image_dataset , labels , foreground_index"
   ]
  },
  {
   "cell_type": "code",
   "execution_count": 99,
   "metadata": {},
   "outputs": [],
   "source": [
    "avg_image_dataset_1 , labels_1,  fg_index_1 = create_avg_image_from_mosaic_dataset(mosaic_list_of_images[0:1000], mosaic_label[0:1000], fore_idx[0:1000] , 1)\n",
    "avg_image_dataset_2 , labels_2,  fg_index_2 = create_avg_image_from_mosaic_dataset(mosaic_list_of_images[0:1000], mosaic_label[0:1000], fore_idx[0:1000] , 2)\n",
    "avg_image_dataset_3 , labels_3,  fg_index_3 = create_avg_image_from_mosaic_dataset(mosaic_list_of_images[0:1000], mosaic_label[0:1000], fore_idx[0:1000] , 3)\n",
    "avg_image_dataset_4 , labels_4,  fg_index_4 = create_avg_image_from_mosaic_dataset(mosaic_list_of_images[0:1000], mosaic_label[0:1000], fore_idx[0:1000] , 4)\n",
    "avg_image_dataset_5 , labels_5,  fg_index_5 = create_avg_image_from_mosaic_dataset(mosaic_list_of_images[0:1000], mosaic_label[0:1000], fore_idx[0:1000] , 5)\n",
    "avg_image_dataset_6 , labels_6,  fg_index_6 = create_avg_image_from_mosaic_dataset(mosaic_list_of_images[0:1000], mosaic_label[0:1000], fore_idx[0:1000] , 6)\n",
    "avg_image_dataset_7 , labels_7,  fg_index_7 = create_avg_image_from_mosaic_dataset(mosaic_list_of_images[0:1000], mosaic_label[0:1000], fore_idx[0:1000] , 7)\n",
    "avg_image_dataset_8 , labels_8,  fg_index_8 = create_avg_image_from_mosaic_dataset(mosaic_list_of_images[0:1000], mosaic_label[0:1000], fore_idx[0:1000] , 8)\n",
    "avg_image_dataset_9 , labels_9,  fg_index_9 = create_avg_image_from_mosaic_dataset(mosaic_list_of_images[0:1000], mosaic_label[0:1000], fore_idx[0:1000] , 9)\n",
    "\n",
    "#test_dataset_10 , labels_10 , fg_index_10 = create_avg_image_from_mosaic_dataset(mosaic_list_of_images[10000:20000], mosaic_label[10000:20000], fore_idx[10000:20000] , 9)"
   ]
  },
  {
   "cell_type": "code",
   "execution_count": 103,
   "metadata": {},
   "outputs": [],
   "source": [
    "class MosaicDataset(Dataset):\n",
    "    \"\"\"MosaicDataset dataset.\"\"\"\n",
    "\n",
    "    def __init__(self, mosaic_list_of_images, mosaic_label):\n",
    "        \"\"\"\n",
    "          Args:\n",
    "            csv_file (string): Path to the csv file with annotations.\n",
    "            root_dir (string): Directory with all the images.\n",
    "            transform (callable, optional): Optional transform to be applied\n",
    "                on a sample.\n",
    "        \"\"\"\n",
    "        self.mosaic = mosaic_list_of_images\n",
    "        self.label = mosaic_label\n",
    "        #self.fore_idx = fore_idx\n",
    "    \n",
    "    def __len__(self):\n",
    "        return len(self.label)\n",
    "\n",
    "    def __getitem__(self, idx):\n",
    "        return self.mosaic[idx] , self.label[idx] #, self.fore_idx[idx]"
   ]
  },
  {
   "cell_type": "code",
   "execution_count": 106,
   "metadata": {},
   "outputs": [],
   "source": [
    "batch = 256\n",
    "\n",
    "\n",
    "# training_data = avg_image_dataset_5    #just change this and training_label to desired dataset for training\n",
    "# training_label = labels_5\n",
    "\n",
    "traindata_1 = MosaicDataset(avg_image_dataset_1, labels_1 )\n",
    "trainloader_1 = DataLoader( traindata_1 , batch_size= batch ,shuffle=True)\n",
    "\n",
    "traindata_2 = MosaicDataset(avg_image_dataset_2, labels_2 )\n",
    "trainloader_2 = DataLoader( traindata_2 , batch_size= batch ,shuffle=True)\n",
    "\n",
    "traindata_3 = MosaicDataset(avg_image_dataset_3, labels_3 )\n",
    "trainloader_3 = DataLoader( traindata_3 , batch_size= batch ,shuffle=True)\n",
    "\n",
    "traindata_4 = MosaicDataset(avg_image_dataset_4, labels_4 )\n",
    "trainloader_4 = DataLoader( traindata_4 , batch_size= batch ,shuffle=True)\n",
    "\n",
    "traindata_5 = MosaicDataset(avg_image_dataset_5, labels_5 )\n",
    "trainloader_5 = DataLoader( traindata_5 , batch_size= batch ,shuffle=True)\n",
    "\n",
    "traindata_6 = MosaicDataset(avg_image_dataset_6, labels_6 )\n",
    "trainloader_6 = DataLoader( traindata_6 , batch_size= batch ,shuffle=True)\n",
    "\n",
    "traindata_7 = MosaicDataset(avg_image_dataset_7, labels_7 )\n",
    "trainloader_7 = DataLoader( traindata_7 , batch_size= batch ,shuffle=True)\n",
    "\n",
    "traindata_8 = MosaicDataset(avg_image_dataset_8, labels_8 )\n",
    "trainloader_8 = DataLoader( traindata_8 , batch_size= batch ,shuffle=True)\n",
    "\n",
    "traindata_9 = MosaicDataset(avg_image_dataset_9, labels_9 )\n",
    "trainloader_9 = DataLoader( traindata_9 , batch_size= batch ,shuffle=True)\n",
    "\n",
    "testdata_1 = MosaicDataset(avg_image_dataset_1, labels_1 )\n",
    "testloader_1 = DataLoader( testdata_1 , batch_size= batch ,shuffle=False)\n",
    "\n",
    "testdata_2 = MosaicDataset(avg_image_dataset_2, labels_2 )\n",
    "testloader_2 = DataLoader( testdata_2 , batch_size= batch ,shuffle=False)\n",
    "\n",
    "testdata_3 = MosaicDataset(avg_image_dataset_3, labels_3 )\n",
    "testloader_3 = DataLoader( testdata_3 , batch_size= batch ,shuffle=False)\n",
    "\n",
    "testdata_4 = MosaicDataset(avg_image_dataset_4, labels_4 )\n",
    "testloader_4 = DataLoader( testdata_4 , batch_size= batch ,shuffle=False)\n",
    "\n",
    "testdata_5 = MosaicDataset(avg_image_dataset_5, labels_5 )\n",
    "testloader_5 = DataLoader( testdata_5 , batch_size= batch ,shuffle=False)\n",
    "\n",
    "testdata_6 = MosaicDataset(avg_image_dataset_6, labels_6 )\n",
    "testloader_6 = DataLoader( testdata_6 , batch_size= batch ,shuffle=False)\n",
    "\n",
    "testdata_7 = MosaicDataset(avg_image_dataset_7, labels_7 )\n",
    "testloader_7 = DataLoader( testdata_7 , batch_size= batch ,shuffle=False)\n",
    "\n",
    "testdata_8 = MosaicDataset(avg_image_dataset_8, labels_8 )\n",
    "testloader_8 = DataLoader( testdata_8 , batch_size= batch ,shuffle=False)\n",
    "\n",
    "testdata_9 = MosaicDataset(avg_image_dataset_9, labels_9 )\n",
    "testloader_9 = DataLoader( testdata_9 , batch_size= batch ,shuffle=False)\n",
    "\n"
   ]
  },
  {
   "cell_type": "code",
   "execution_count": 107,
   "metadata": {},
   "outputs": [],
   "source": [
    "class Net(nn.Module):\n",
    "    def __init__(self):\n",
    "        super(Net,self).__init__()\n",
    "        self.linear1 = nn.Linear(3,64)\n",
    "        self.linear2 = nn.Linear(64,128)\n",
    "        \n",
    "        self.linear3 = nn.Linear(128,3)\n",
    "        \n",
    "    def forward(self,x):\n",
    "        x = F.relu(self.linear1(x))\n",
    "        \n",
    "        x = F.relu(self.linear2(x))\n",
    "        \n",
    "        x = self.linear3(x)\n",
    "        \n",
    "        return x"
   ]
  },
  {
   "cell_type": "code",
   "execution_count": 109,
   "metadata": {},
   "outputs": [],
   "source": [
    "def test_all(number, testloader,inc):\n",
    "    correct = 0\n",
    "    total = 0\n",
    "    out = []\n",
    "    pred = []\n",
    "    with torch.no_grad():\n",
    "        for data in testloader:\n",
    "            images, labels = data\n",
    "            images, labels = images.to(\"cuda\"),labels.to(\"cuda\")\n",
    "            out.append(labels.cpu().numpy())\n",
    "            outputs= inc(images)\n",
    "            _, predicted = torch.max(outputs.data, 1)\n",
    "            pred.append(predicted.cpu().numpy())\n",
    "            total += labels.size(0)\n",
    "            correct += (predicted == labels).sum().item()\n",
    "\n",
    "    print('Accuracy of the network on the 1000 test dataset %d: %d %%' % (number , 100 * correct / total))"
   ]
  },
  {
   "cell_type": "code",
   "execution_count": 121,
   "metadata": {},
   "outputs": [],
   "source": [
    "def train_all(trainloader, ds_number, testloader_list):\n",
    "    \n",
    "    print(\"--\"*40)\n",
    "    print(\"training on data set  \", ds_number)\n",
    "    \n",
    "    inc = Net().double()\n",
    "    inc = inc.to(\"cuda\")\n",
    "    \n",
    "    criterion_inception = nn.CrossEntropyLoss()\n",
    "    optimizer_inception = optim.SGD(inc.parameters(), lr=0.01, momentum=0.9)\n",
    "    \n",
    "    acti = []\n",
    "    loss_curi = []\n",
    "    epochs = 70\n",
    "    \n",
    "    for epoch in range(epochs): # loop over the dataset multiple times\n",
    "        ep_lossi = []\n",
    "\n",
    "        running_loss = 0.0\n",
    "        for i, data in enumerate(trainloader, 0):\n",
    "            # get the inputs\n",
    "            inputs, labels = data\n",
    "            inputs, labels = inputs.to(\"cuda\"),labels.to(\"cuda\")\n",
    "\n",
    "            # zero the parameter gradients\n",
    "            optimizer_inception.zero_grad()\n",
    "\n",
    "            # forward + backward + optimize\n",
    "            outputs = inc(inputs)\n",
    "            loss = criterion_inception(outputs, labels)\n",
    "            loss.backward()\n",
    "            optimizer_inception.step()\n",
    "\n",
    "            # print statistics\n",
    "            running_loss += loss.item()\n",
    "            mini=4\n",
    "            if i % mini == mini-1:    # print every 10 mini-batches\n",
    "                print('[%d, %5d] loss: %.3f' %\n",
    "                      (epoch + 1, i + 1, running_loss / mini))\n",
    "                ep_lossi.append(running_loss/mini) # loss per minibatch\n",
    "                running_loss = 0.0\n",
    "        \n",
    "        if(np.mean(ep_lossi)<=0.01):\n",
    "            break\n",
    "        loss_curi.append(np.mean(ep_lossi))   #loss per epoch\n",
    "    #     if (epoch%5 == 0):\n",
    "    #         _,actis= inc(inputs)\n",
    "    #         acti.append(actis)\n",
    "\n",
    "\n",
    "\n",
    "    print('Finished Training')\n",
    "#     torch.save(inc.state_dict(),\"/content/drive/My Drive/Research/Experiments on CIFAR mosaic/Exp_2_Attention_models_on_9_datasets_made_from_10k_mosaic/weights/train_dataset_\"+str(ds_number)+\"_\"+str(epochs)+\".pt\")\n",
    "    \n",
    "    correct = 0\n",
    "    total = 0\n",
    "    with torch.no_grad():\n",
    "        for data in trainloader:\n",
    "            images, labels = data\n",
    "            images, labels = images.to(\"cuda\"), labels.to(\"cuda\")\n",
    "            outputs = inc(images)\n",
    "            _, predicted = torch.max(outputs.data, 1)\n",
    "            total += labels.size(0)\n",
    "            correct += (predicted == labels).sum().item()\n",
    "\n",
    "    print('Accuracy of the network on the 10000 train images: %d %%' % (  100 * correct / total))\n",
    "    \n",
    "    for i, j in enumerate(testloader_list):\n",
    "        test_all(i+1, j,inc)\n",
    "    \n",
    "    print(\"--\"*40)\n",
    "    \n",
    "    return loss_curi"
   ]
  },
  {
   "cell_type": "code",
   "execution_count": 122,
   "metadata": {},
   "outputs": [
    {
     "name": "stdout",
     "output_type": "stream",
     "text": [
      "--------------------------------------------------------------------------------\n",
      "training on data set   1\n",
      "[1,     4] loss: 1.109\n",
      "[2,     4] loss: 1.094\n",
      "[3,     4] loss: 1.074\n",
      "[4,     4] loss: 1.054\n",
      "[5,     4] loss: 1.035\n",
      "[6,     4] loss: 1.017\n",
      "[7,     4] loss: 0.997\n",
      "[8,     4] loss: 0.977\n",
      "[9,     4] loss: 0.954\n",
      "[10,     4] loss: 0.931\n",
      "[11,     4] loss: 0.907\n",
      "[12,     4] loss: 0.880\n",
      "[13,     4] loss: 0.854\n",
      "[14,     4] loss: 0.824\n",
      "[15,     4] loss: 0.793\n",
      "[16,     4] loss: 0.758\n",
      "[17,     4] loss: 0.724\n",
      "[18,     4] loss: 0.687\n",
      "[19,     4] loss: 0.650\n",
      "[20,     4] loss: 0.611\n",
      "[21,     4] loss: 0.572\n",
      "[22,     4] loss: 0.536\n",
      "[23,     4] loss: 0.499\n",
      "[24,     4] loss: 0.465\n",
      "[25,     4] loss: 0.432\n",
      "[26,     4] loss: 0.401\n",
      "[27,     4] loss: 0.371\n",
      "[28,     4] loss: 0.342\n",
      "[29,     4] loss: 0.316\n",
      "[30,     4] loss: 0.291\n",
      "[31,     4] loss: 0.268\n",
      "[32,     4] loss: 0.245\n",
      "[33,     4] loss: 0.225\n",
      "[34,     4] loss: 0.206\n",
      "[35,     4] loss: 0.188\n",
      "[36,     4] loss: 0.171\n",
      "[37,     4] loss: 0.157\n",
      "[38,     4] loss: 0.144\n",
      "[39,     4] loss: 0.132\n",
      "[40,     4] loss: 0.121\n",
      "[41,     4] loss: 0.111\n",
      "[42,     4] loss: 0.102\n",
      "[43,     4] loss: 0.094\n",
      "[44,     4] loss: 0.087\n",
      "[45,     4] loss: 0.080\n",
      "[46,     4] loss: 0.074\n",
      "[47,     4] loss: 0.069\n",
      "[48,     4] loss: 0.065\n",
      "[49,     4] loss: 0.060\n",
      "[50,     4] loss: 0.056\n",
      "[51,     4] loss: 0.053\n",
      "[52,     4] loss: 0.050\n",
      "[53,     4] loss: 0.047\n",
      "[54,     4] loss: 0.044\n",
      "[55,     4] loss: 0.042\n",
      "[56,     4] loss: 0.040\n",
      "[57,     4] loss: 0.038\n",
      "[58,     4] loss: 0.036\n",
      "[59,     4] loss: 0.034\n",
      "[60,     4] loss: 0.032\n",
      "[61,     4] loss: 0.031\n",
      "[62,     4] loss: 0.030\n",
      "[63,     4] loss: 0.028\n",
      "[64,     4] loss: 0.027\n",
      "[65,     4] loss: 0.026\n",
      "[66,     4] loss: 0.025\n",
      "[67,     4] loss: 0.024\n",
      "[68,     4] loss: 0.023\n",
      "[69,     4] loss: 0.022\n",
      "[70,     4] loss: 0.022\n",
      "Finished Training\n",
      "Accuracy of the network on the 10000 train images: 100 %\n",
      "Accuracy of the network on the 1000 test dataset 1: 100 %\n",
      "Accuracy of the network on the 1000 test dataset 2: 99 %\n",
      "Accuracy of the network on the 1000 test dataset 3: 84 %\n",
      "Accuracy of the network on the 1000 test dataset 4: 68 %\n",
      "Accuracy of the network on the 1000 test dataset 5: 64 %\n",
      "Accuracy of the network on the 1000 test dataset 6: 64 %\n",
      "Accuracy of the network on the 1000 test dataset 7: 63 %\n",
      "Accuracy of the network on the 1000 test dataset 8: 63 %\n",
      "Accuracy of the network on the 1000 test dataset 9: 63 %\n",
      "--------------------------------------------------------------------------------\n",
      "--------------------------------------------------------------------------------\n",
      "training on data set   2\n",
      "[1,     4] loss: 1.079\n",
      "[2,     4] loss: 1.052\n",
      "[3,     4] loss: 1.007\n",
      "[4,     4] loss: 0.957\n",
      "[5,     4] loss: 0.905\n",
      "[6,     4] loss: 0.849\n",
      "[7,     4] loss: 0.798\n",
      "[8,     4] loss: 0.742\n",
      "[9,     4] loss: 0.688\n",
      "[10,     4] loss: 0.634\n",
      "[11,     4] loss: 0.584\n",
      "[12,     4] loss: 0.537\n",
      "[13,     4] loss: 0.493\n",
      "[14,     4] loss: 0.451\n",
      "[15,     4] loss: 0.413\n",
      "[16,     4] loss: 0.376\n",
      "[17,     4] loss: 0.342\n",
      "[18,     4] loss: 0.311\n",
      "[19,     4] loss: 0.282\n",
      "[20,     4] loss: 0.255\n",
      "[21,     4] loss: 0.231\n",
      "[22,     4] loss: 0.209\n",
      "[23,     4] loss: 0.189\n",
      "[24,     4] loss: 0.172\n",
      "[25,     4] loss: 0.156\n",
      "[26,     4] loss: 0.141\n",
      "[27,     4] loss: 0.128\n",
      "[28,     4] loss: 0.117\n",
      "[29,     4] loss: 0.106\n",
      "[30,     4] loss: 0.097\n",
      "[31,     4] loss: 0.089\n",
      "[32,     4] loss: 0.081\n",
      "[33,     4] loss: 0.074\n",
      "[34,     4] loss: 0.068\n",
      "[35,     4] loss: 0.063\n",
      "[36,     4] loss: 0.058\n",
      "[37,     4] loss: 0.054\n",
      "[38,     4] loss: 0.050\n",
      "[39,     4] loss: 0.046\n",
      "[40,     4] loss: 0.043\n",
      "[41,     4] loss: 0.041\n",
      "[42,     4] loss: 0.038\n",
      "[43,     4] loss: 0.036\n",
      "[44,     4] loss: 0.034\n",
      "[45,     4] loss: 0.032\n",
      "[46,     4] loss: 0.030\n",
      "[47,     4] loss: 0.029\n",
      "[48,     4] loss: 0.027\n",
      "[49,     4] loss: 0.026\n",
      "[50,     4] loss: 0.024\n",
      "[51,     4] loss: 0.023\n",
      "[52,     4] loss: 0.022\n",
      "[53,     4] loss: 0.021\n",
      "[54,     4] loss: 0.020\n",
      "[55,     4] loss: 0.020\n",
      "[56,     4] loss: 0.019\n",
      "[57,     4] loss: 0.018\n",
      "[58,     4] loss: 0.017\n",
      "[59,     4] loss: 0.017\n",
      "[60,     4] loss: 0.016\n",
      "[61,     4] loss: 0.016\n",
      "[62,     4] loss: 0.015\n",
      "[63,     4] loss: 0.015\n",
      "[64,     4] loss: 0.014\n",
      "[65,     4] loss: 0.014\n",
      "[66,     4] loss: 0.013\n",
      "[67,     4] loss: 0.013\n",
      "[68,     4] loss: 0.012\n",
      "[69,     4] loss: 0.012\n",
      "[70,     4] loss: 0.012\n",
      "Finished Training\n",
      "Accuracy of the network on the 10000 train images: 100 %\n",
      "Accuracy of the network on the 1000 test dataset 1: 79 %\n",
      "Accuracy of the network on the 1000 test dataset 2: 100 %\n",
      "Accuracy of the network on the 1000 test dataset 3: 100 %\n",
      "Accuracy of the network on the 1000 test dataset 4: 100 %\n",
      "Accuracy of the network on the 1000 test dataset 5: 98 %\n",
      "Accuracy of the network on the 1000 test dataset 6: 96 %\n",
      "Accuracy of the network on the 1000 test dataset 7: 91 %\n",
      "Accuracy of the network on the 1000 test dataset 8: 86 %\n",
      "Accuracy of the network on the 1000 test dataset 9: 79 %\n",
      "--------------------------------------------------------------------------------\n",
      "--------------------------------------------------------------------------------\n",
      "training on data set   3\n",
      "[1,     4] loss: 1.082\n",
      "[2,     4] loss: 1.022\n",
      "[3,     4] loss: 0.930\n",
      "[4,     4] loss: 0.826\n",
      "[5,     4] loss: 0.720\n",
      "[6,     4] loss: 0.615\n",
      "[7,     4] loss: 0.515\n",
      "[8,     4] loss: 0.424\n",
      "[9,     4] loss: 0.349\n",
      "[10,     4] loss: 0.288\n",
      "[11,     4] loss: 0.240\n",
      "[12,     4] loss: 0.205\n",
      "[13,     4] loss: 0.176\n",
      "[14,     4] loss: 0.154\n",
      "[15,     4] loss: 0.138\n",
      "[16,     4] loss: 0.124\n",
      "[17,     4] loss: 0.113\n",
      "[18,     4] loss: 0.103\n",
      "[19,     4] loss: 0.095\n",
      "[20,     4] loss: 0.088\n",
      "[21,     4] loss: 0.082\n",
      "[22,     4] loss: 0.076\n",
      "[23,     4] loss: 0.072\n",
      "[24,     4] loss: 0.067\n",
      "[25,     4] loss: 0.063\n",
      "[26,     4] loss: 0.059\n",
      "[27,     4] loss: 0.055\n",
      "[28,     4] loss: 0.052\n",
      "[29,     4] loss: 0.049\n",
      "[30,     4] loss: 0.047\n",
      "[31,     4] loss: 0.044\n",
      "[32,     4] loss: 0.042\n",
      "[33,     4] loss: 0.040\n",
      "[34,     4] loss: 0.037\n",
      "[35,     4] loss: 0.035\n",
      "[36,     4] loss: 0.034\n",
      "[37,     4] loss: 0.032\n",
      "[38,     4] loss: 0.031\n",
      "[39,     4] loss: 0.029\n",
      "[40,     4] loss: 0.028\n",
      "[41,     4] loss: 0.026\n",
      "[42,     4] loss: 0.025\n",
      "[43,     4] loss: 0.024\n",
      "[44,     4] loss: 0.023\n",
      "[45,     4] loss: 0.022\n",
      "[46,     4] loss: 0.021\n",
      "[47,     4] loss: 0.020\n",
      "[48,     4] loss: 0.020\n",
      "[49,     4] loss: 0.019\n",
      "[50,     4] loss: 0.018\n",
      "[51,     4] loss: 0.017\n",
      "[52,     4] loss: 0.017\n",
      "[53,     4] loss: 0.016\n",
      "[54,     4] loss: 0.016\n",
      "[55,     4] loss: 0.015\n",
      "[56,     4] loss: 0.015\n",
      "[57,     4] loss: 0.014\n",
      "[58,     4] loss: 0.014\n",
      "[59,     4] loss: 0.013\n",
      "[60,     4] loss: 0.013\n",
      "[61,     4] loss: 0.012\n",
      "[62,     4] loss: 0.012\n",
      "[63,     4] loss: 0.012\n",
      "[64,     4] loss: 0.011\n",
      "[65,     4] loss: 0.011\n",
      "[66,     4] loss: 0.011\n",
      "[67,     4] loss: 0.010\n",
      "[68,     4] loss: 0.010\n",
      "[69,     4] loss: 0.010\n",
      "Finished Training\n",
      "Accuracy of the network on the 10000 train images: 100 %\n",
      "Accuracy of the network on the 1000 test dataset 1: 58 %\n",
      "Accuracy of the network on the 1000 test dataset 2: 95 %\n",
      "Accuracy of the network on the 1000 test dataset 3: 100 %\n",
      "Accuracy of the network on the 1000 test dataset 4: 100 %\n",
      "Accuracy of the network on the 1000 test dataset 5: 100 %\n",
      "Accuracy of the network on the 1000 test dataset 6: 100 %\n",
      "Accuracy of the network on the 1000 test dataset 7: 100 %\n",
      "Accuracy of the network on the 1000 test dataset 8: 100 %\n",
      "Accuracy of the network on the 1000 test dataset 9: 100 %\n",
      "--------------------------------------------------------------------------------\n",
      "--------------------------------------------------------------------------------\n",
      "training on data set   4\n",
      "[1,     4] loss: 1.041\n",
      "[2,     4] loss: 0.946\n",
      "[3,     4] loss: 0.808\n",
      "[4,     4] loss: 0.657\n",
      "[5,     4] loss: 0.510\n",
      "[6,     4] loss: 0.378\n",
      "[7,     4] loss: 0.268\n",
      "[8,     4] loss: 0.190\n",
      "[9,     4] loss: 0.138\n",
      "[10,     4] loss: 0.103\n",
      "[11,     4] loss: 0.081\n",
      "[12,     4] loss: 0.067\n",
      "[13,     4] loss: 0.058\n",
      "[14,     4] loss: 0.051\n",
      "[15,     4] loss: 0.046\n",
      "[16,     4] loss: 0.042\n",
      "[17,     4] loss: 0.039\n",
      "[18,     4] loss: 0.037\n",
      "[19,     4] loss: 0.034\n",
      "[20,     4] loss: 0.033\n",
      "[21,     4] loss: 0.031\n",
      "[22,     4] loss: 0.030\n",
      "[23,     4] loss: 0.028\n",
      "[24,     4] loss: 0.027\n",
      "[25,     4] loss: 0.026\n",
      "[26,     4] loss: 0.025\n",
      "[27,     4] loss: 0.024\n",
      "[28,     4] loss: 0.024\n",
      "[29,     4] loss: 0.022\n",
      "[30,     4] loss: 0.022\n",
      "[31,     4] loss: 0.021\n",
      "[32,     4] loss: 0.021\n",
      "[33,     4] loss: 0.020\n",
      "[34,     4] loss: 0.019\n",
      "[35,     4] loss: 0.019\n",
      "[36,     4] loss: 0.018\n",
      "[37,     4] loss: 0.018\n",
      "[38,     4] loss: 0.017\n",
      "[39,     4] loss: 0.017\n",
      "[40,     4] loss: 0.017\n",
      "[41,     4] loss: 0.016\n",
      "[42,     4] loss: 0.016\n"
     ]
    },
    {
     "name": "stdout",
     "output_type": "stream",
     "text": [
      "[43,     4] loss: 0.015\n",
      "[44,     4] loss: 0.015\n",
      "[45,     4] loss: 0.015\n",
      "[46,     4] loss: 0.014\n",
      "[47,     4] loss: 0.014\n",
      "[48,     4] loss: 0.014\n",
      "[49,     4] loss: 0.013\n",
      "[50,     4] loss: 0.013\n",
      "[51,     4] loss: 0.013\n",
      "[52,     4] loss: 0.013\n",
      "[53,     4] loss: 0.012\n",
      "[54,     4] loss: 0.012\n",
      "[55,     4] loss: 0.012\n",
      "[56,     4] loss: 0.011\n",
      "[57,     4] loss: 0.011\n",
      "[58,     4] loss: 0.011\n",
      "[59,     4] loss: 0.011\n",
      "[60,     4] loss: 0.011\n",
      "[61,     4] loss: 0.010\n",
      "[62,     4] loss: 0.010\n",
      "[63,     4] loss: 0.010\n",
      "[64,     4] loss: 0.010\n",
      "[65,     4] loss: 0.010\n",
      "Finished Training\n",
      "Accuracy of the network on the 10000 train images: 99 %\n",
      "Accuracy of the network on the 1000 test dataset 1: 53 %\n",
      "Accuracy of the network on the 1000 test dataset 2: 78 %\n",
      "Accuracy of the network on the 1000 test dataset 3: 96 %\n",
      "Accuracy of the network on the 1000 test dataset 4: 99 %\n",
      "Accuracy of the network on the 1000 test dataset 5: 100 %\n",
      "Accuracy of the network on the 1000 test dataset 6: 100 %\n",
      "Accuracy of the network on the 1000 test dataset 7: 100 %\n",
      "Accuracy of the network on the 1000 test dataset 8: 100 %\n",
      "Accuracy of the network on the 1000 test dataset 9: 100 %\n",
      "--------------------------------------------------------------------------------\n",
      "--------------------------------------------------------------------------------\n",
      "training on data set   5\n",
      "[1,     4] loss: 1.128\n",
      "[2,     4] loss: 0.967\n",
      "[3,     4] loss: 0.754\n",
      "[4,     4] loss: 0.548\n",
      "[5,     4] loss: 0.371\n",
      "[6,     4] loss: 0.233\n",
      "[7,     4] loss: 0.139\n",
      "[8,     4] loss: 0.086\n",
      "[9,     4] loss: 0.056\n",
      "[10,     4] loss: 0.039\n",
      "[11,     4] loss: 0.029\n",
      "[12,     4] loss: 0.023\n",
      "[13,     4] loss: 0.019\n",
      "[14,     4] loss: 0.016\n",
      "[15,     4] loss: 0.014\n",
      "[16,     4] loss: 0.013\n",
      "[17,     4] loss: 0.011\n",
      "[18,     4] loss: 0.011\n",
      "[19,     4] loss: 0.010\n",
      "Finished Training\n",
      "Accuracy of the network on the 10000 train images: 100 %\n",
      "Accuracy of the network on the 1000 test dataset 1: 63 %\n",
      "Accuracy of the network on the 1000 test dataset 2: 82 %\n",
      "Accuracy of the network on the 1000 test dataset 3: 95 %\n",
      "Accuracy of the network on the 1000 test dataset 4: 99 %\n",
      "Accuracy of the network on the 1000 test dataset 5: 100 %\n",
      "Accuracy of the network on the 1000 test dataset 6: 100 %\n",
      "Accuracy of the network on the 1000 test dataset 7: 100 %\n",
      "Accuracy of the network on the 1000 test dataset 8: 100 %\n",
      "Accuracy of the network on the 1000 test dataset 9: 100 %\n",
      "--------------------------------------------------------------------------------\n",
      "--------------------------------------------------------------------------------\n",
      "training on data set   6\n",
      "[1,     4] loss: 0.998\n",
      "[2,     4] loss: 0.766\n",
      "[3,     4] loss: 0.521\n",
      "[4,     4] loss: 0.332\n",
      "[5,     4] loss: 0.195\n",
      "[6,     4] loss: 0.105\n",
      "[7,     4] loss: 0.055\n",
      "[8,     4] loss: 0.032\n",
      "[9,     4] loss: 0.020\n",
      "[10,     4] loss: 0.014\n",
      "[11,     4] loss: 0.011\n",
      "[12,     4] loss: 0.009\n",
      "Finished Training\n",
      "Accuracy of the network on the 10000 train images: 100 %\n",
      "Accuracy of the network on the 1000 test dataset 1: 54 %\n",
      "Accuracy of the network on the 1000 test dataset 2: 74 %\n",
      "Accuracy of the network on the 1000 test dataset 3: 91 %\n",
      "Accuracy of the network on the 1000 test dataset 4: 99 %\n",
      "Accuracy of the network on the 1000 test dataset 5: 100 %\n",
      "Accuracy of the network on the 1000 test dataset 6: 100 %\n",
      "Accuracy of the network on the 1000 test dataset 7: 100 %\n",
      "Accuracy of the network on the 1000 test dataset 8: 100 %\n",
      "Accuracy of the network on the 1000 test dataset 9: 100 %\n",
      "--------------------------------------------------------------------------------\n",
      "--------------------------------------------------------------------------------\n",
      "training on data set   7\n",
      "[1,     4] loss: 0.950\n",
      "[2,     4] loss: 0.697\n",
      "[3,     4] loss: 0.453\n",
      "[4,     4] loss: 0.261\n",
      "[5,     4] loss: 0.132\n",
      "[6,     4] loss: 0.064\n",
      "[7,     4] loss: 0.034\n",
      "[8,     4] loss: 0.020\n",
      "[9,     4] loss: 0.013\n",
      "[10,     4] loss: 0.009\n",
      "Finished Training\n",
      "Accuracy of the network on the 10000 train images: 100 %\n",
      "Accuracy of the network on the 1000 test dataset 1: 56 %\n",
      "Accuracy of the network on the 1000 test dataset 2: 77 %\n",
      "Accuracy of the network on the 1000 test dataset 3: 92 %\n",
      "Accuracy of the network on the 1000 test dataset 4: 98 %\n",
      "Accuracy of the network on the 1000 test dataset 5: 100 %\n",
      "Accuracy of the network on the 1000 test dataset 6: 100 %\n",
      "Accuracy of the network on the 1000 test dataset 7: 100 %\n",
      "Accuracy of the network on the 1000 test dataset 8: 100 %\n",
      "Accuracy of the network on the 1000 test dataset 9: 100 %\n",
      "--------------------------------------------------------------------------------\n",
      "--------------------------------------------------------------------------------\n",
      "training on data set   8\n",
      "[1,     4] loss: 1.123\n",
      "[2,     4] loss: 0.768\n",
      "[3,     4] loss: 0.430\n",
      "[4,     4] loss: 0.210\n",
      "[5,     4] loss: 0.089\n",
      "[6,     4] loss: 0.038\n",
      "[7,     4] loss: 0.018\n",
      "[8,     4] loss: 0.010\n",
      "[9,     4] loss: 0.007\n",
      "Finished Training\n",
      "Accuracy of the network on the 10000 train images: 100 %\n",
      "Accuracy of the network on the 1000 test dataset 1: 56 %\n",
      "Accuracy of the network on the 1000 test dataset 2: 75 %\n",
      "Accuracy of the network on the 1000 test dataset 3: 90 %\n",
      "Accuracy of the network on the 1000 test dataset 4: 98 %\n",
      "Accuracy of the network on the 1000 test dataset 5: 100 %\n",
      "Accuracy of the network on the 1000 test dataset 6: 100 %\n",
      "Accuracy of the network on the 1000 test dataset 7: 100 %\n",
      "Accuracy of the network on the 1000 test dataset 8: 100 %\n",
      "Accuracy of the network on the 1000 test dataset 9: 100 %\n",
      "--------------------------------------------------------------------------------\n",
      "--------------------------------------------------------------------------------\n",
      "training on data set   9\n",
      "[1,     4] loss: 0.879\n",
      "[2,     4] loss: 0.511\n",
      "[3,     4] loss: 0.237\n",
      "[4,     4] loss: 0.088\n",
      "[5,     4] loss: 0.033\n",
      "[6,     4] loss: 0.015\n",
      "[7,     4] loss: 0.008\n",
      "Finished Training\n",
      "Accuracy of the network on the 10000 train images: 100 %\n",
      "Accuracy of the network on the 1000 test dataset 1: 55 %\n",
      "Accuracy of the network on the 1000 test dataset 2: 76 %\n",
      "Accuracy of the network on the 1000 test dataset 3: 88 %\n",
      "Accuracy of the network on the 1000 test dataset 4: 96 %\n",
      "Accuracy of the network on the 1000 test dataset 5: 99 %\n",
      "Accuracy of the network on the 1000 test dataset 6: 100 %\n",
      "Accuracy of the network on the 1000 test dataset 7: 100 %\n",
      "Accuracy of the network on the 1000 test dataset 8: 100 %\n",
      "Accuracy of the network on the 1000 test dataset 9: 100 %\n",
      "--------------------------------------------------------------------------------\n"
     ]
    }
   ],
   "source": [
    "train_loss_all=[]\n",
    "\n",
    "testloader_list= [ testloader_1, testloader_2, testloader_3, testloader_4, testloader_5, testloader_6,\n",
    "                 testloader_7, testloader_8, testloader_9]\n",
    "\n",
    "train_loss_all.append(train_all(trainloader_1, 1, testloader_list))\n",
    "train_loss_all.append(train_all(trainloader_2, 2, testloader_list))\n",
    "train_loss_all.append(train_all(trainloader_3, 3, testloader_list))\n",
    "train_loss_all.append(train_all(trainloader_4, 4, testloader_list))\n",
    "train_loss_all.append(train_all(trainloader_5, 5, testloader_list))\n",
    "train_loss_all.append(train_all(trainloader_6, 6, testloader_list))\n",
    "train_loss_all.append(train_all(trainloader_7, 7, testloader_list))\n",
    "train_loss_all.append(train_all(trainloader_8, 8, testloader_list))\n",
    "train_loss_all.append(train_all(trainloader_9, 9, testloader_list))"
   ]
  },
  {
   "cell_type": "code",
   "execution_count": null,
   "metadata": {},
   "outputs": [],
   "source": []
  }
 ],
 "metadata": {
  "accelerator": "GPU",
  "colab": {
   "name": "Untitled3.ipynb",
   "provenance": []
  },
  "kernelspec": {
   "display_name": "Python 3",
   "language": "python",
   "name": "python3"
  },
  "language_info": {
   "codemirror_mode": {
    "name": "ipython",
    "version": 3
   },
   "file_extension": ".py",
   "mimetype": "text/x-python",
   "name": "python",
   "nbconvert_exporter": "python",
   "pygments_lexer": "ipython3",
   "version": "3.7.4"
  }
 },
 "nbformat": 4,
 "nbformat_minor": 1
}
