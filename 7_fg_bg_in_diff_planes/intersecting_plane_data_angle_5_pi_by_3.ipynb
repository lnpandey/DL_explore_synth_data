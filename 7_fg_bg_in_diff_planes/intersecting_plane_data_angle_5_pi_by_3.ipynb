{
  "nbformat": 4,
  "nbformat_minor": 0,
  "metadata": {
    "accelerator": "GPU",
    "colab": {
      "name": "intersecting plane data.ipynb",
      "provenance": []
    },
    "kernelspec": {
      "name": "python3",
      "display_name": "Python 3"
    },
    "language_info": {
      "codemirror_mode": {
        "name": "ipython",
        "version": 3
      },
      "file_extension": ".py",
      "mimetype": "text/x-python",
      "name": "python",
      "nbconvert_exporter": "python",
      "pygments_lexer": "ipython3",
      "version": "3.7.4"
    }
  },
  "cells": [
    {
      "cell_type": "code",
      "metadata": {
        "colab_type": "code",
        "id": "1BoZq7wLFmUz",
        "colab": {}
      },
      "source": [
        "import numpy as np\n",
        "import pandas as pd\n",
        "from matplotlib import pyplot as plt\n",
        "\n",
        "import math as m\n",
        "%matplotlib inline\n",
        "\n",
        "import torch\n",
        "import torchvision\n",
        "\n",
        "import torchvision.transforms as transforms\n",
        "import torch.nn as nn\n",
        "import torch.optim as optim\n",
        "import torch.nn.functional as F\n",
        "import random\n",
        "\n",
        "from torch.utils.data import Dataset, DataLoader\n",
        "from mpl_toolkits.mplot3d import Axes3D"
      ],
      "execution_count": 0,
      "outputs": []
    },
    {
      "cell_type": "code",
      "metadata": {
        "id": "tUJ_Yy2K7rcu",
        "colab_type": "code",
        "colab": {
          "base_uri": "https://localhost:8080/",
          "height": 191
        },
        "outputId": "2f68057f-e588-4445-e087-11e501dfc197"
      },
      "source": [
        "y = np.random.randint(0,10,1000)\n",
        "idx= []\n",
        "for i in range(10):\n",
        "    print(i,sum(y==i))\n",
        "    idx.append(y==i) \n",
        "x = np.zeros((1000,2))\n",
        "\n",
        "x0=x[idx[0],:] = np.random.multivariate_normal(mean = [2,2],cov=[[0.01,0],[0,0.01]],size=sum(idx[0]))\n",
        "\n",
        "\n",
        "x[idx[1],:] = np.random.multivariate_normal(mean = [0,-2],cov=[[0.01,0],[0,0.01]],size=sum(idx[1]))\n",
        "\n",
        "\n",
        "x[idx[2],:] = np.random.multivariate_normal(mean = [-2,2],cov=[[0.01,0],[0,0.01]],size=sum(idx[2]))\n",
        "\n",
        "\n",
        "\n",
        "x[idx[3],:] = np.random.multivariate_normal(mean = [0,0],cov=[[0.01,0],[0,0.01]],size=sum(idx[3]))\n",
        "\n",
        "\n",
        "x[idx[4],:] = np.random.multivariate_normal(mean =[-2,-4] ,cov=[[0.01,0],[0,0.01]],size=sum(idx[4]))\n",
        "\n",
        "\n",
        "\n",
        "x[idx[5],:] = np.random.multivariate_normal(mean = [2,-4],cov=[[0.01,0],[0,0.01]],size=sum(idx[5]))\n",
        "\n",
        "\n",
        "x[idx[6],:] = np.random.multivariate_normal(mean = [-4,0],cov=[[0.01,0],[0,0.01]],size=sum(idx[6]))\n",
        "\n",
        "\n",
        "x[idx[7],:] = np.random.multivariate_normal(mean = [-2,4],cov=[[0.01,0],[0,0.01]],size=sum(idx[7]))\n",
        "\n",
        "\n",
        "x[idx[8],:] = np.random.multivariate_normal(mean = [2,4],cov=[[0.01,0],[0,0.01]],size=sum(idx[8]))\n",
        "\n",
        "\n",
        "x[idx[9],:] = np.random.multivariate_normal(mean = [4,0],cov=[[0.01,0],[0,0.01]],size=sum(idx[9]))\n",
        "\n",
        "idx= []\n",
        "for i in range(10):\n",
        "    #print(i,sum(y==i))\n",
        "    idx.append(y==i)"
      ],
      "execution_count": 395,
      "outputs": [
        {
          "output_type": "stream",
          "text": [
            "0 99\n",
            "1 103\n",
            "2 105\n",
            "3 107\n",
            "4 115\n",
            "5 97\n",
            "6 93\n",
            "7 94\n",
            "8 98\n",
            "9 89\n"
          ],
          "name": "stdout"
        }
      ]
    },
    {
      "cell_type": "code",
      "metadata": {
        "id": "JU6oN0Kh7rc2",
        "colab_type": "code",
        "colab": {
          "base_uri": "https://localhost:8080/",
          "height": 282
        },
        "outputId": "d5d118fd-5408-4710-aaf1-671599741cd2"
      },
      "source": [
        "for i in range(10):\n",
        "    plt.scatter(x[idx[i],0],x[idx[i],1],label=\"class_\"+str(i))\n",
        "plt.legend(loc='center left', bbox_to_anchor=(1, 0.5))"
      ],
      "execution_count": 396,
      "outputs": [
        {
          "output_type": "execute_result",
          "data": {
            "text/plain": [
              "<matplotlib.legend.Legend at 0x7f5e10ba20f0>"
            ]
          },
          "metadata": {
            "tags": []
          },
          "execution_count": 396
        },
        {
          "output_type": "display_data",
          "data": {
            "image/png": "[encoded data removed]",
            "text/plain": [
              "<Figure size 432x288 with 1 Axes>"
            ]
          },
          "metadata": {
            "tags": []
          }
        }
      ]
    },
    {
      "cell_type": "code",
      "metadata": {
        "id": "14ashkYi7rc8",
        "colab_type": "code",
        "colab": {
          "base_uri": "https://localhost:8080/",
          "height": 139
        },
        "outputId": "9ca0ebf9-3d67-4216-b95e-13f8b7254e7d"
      },
      "source": [
        "z = np.zeros((1000,1))\n",
        "x = np.concatenate((x, z) , axis =1)\n",
        "x"
      ],
      "execution_count": 397,
      "outputs": [
        {
          "output_type": "execute_result",
          "data": {
            "text/plain": [
              "array([[ 0.1309817 , -2.05803164,  0.        ],\n",
              "       [ 3.84351454,  0.05648735,  0.        ],\n",
              "       [ 2.23199171, -4.07988132,  0.        ],\n",
              "       ...,\n",
              "       [ 2.24234779,  2.01553882,  0.        ],\n",
              "       [-0.1998138 , -1.99056506,  0.        ],\n",
              "       [ 0.12661587, -0.02144912,  0.        ]])"
            ]
          },
          "metadata": {
            "tags": []
          },
          "execution_count": 397
        }
      ]
    },
    {
      "cell_type": "code",
      "metadata": {
        "id": "DVFOWDxp7rdB",
        "colab_type": "code",
        "colab": {
          "base_uri": "https://localhost:8080/",
          "height": 34
        },
        "outputId": "3b05103f-828b-496a-c05c-a3e746998f13"
      },
      "source": [
        "x.shape"
      ],
      "execution_count": 398,
      "outputs": [
        {
          "output_type": "execute_result",
          "data": {
            "text/plain": [
              "(1000, 3)"
            ]
          },
          "metadata": {
            "tags": []
          },
          "execution_count": 398
        }
      ]
    },
    {
      "cell_type": "code",
      "metadata": {
        "scrolled": true,
        "id": "2Y0sMSmk7rdG",
        "colab_type": "code",
        "colab": {
          "base_uri": "https://localhost:8080/",
          "height": 265
        },
        "outputId": "5ab754ad-c75d-4827-c23d-8370ad8c05b4"
      },
      "source": [
        "fig = plt.figure()\n",
        "ax = fig.add_subplot(111, projection='3d')\n",
        "for i in range(10):\n",
        "    ax.scatter(x[idx[i],0],x[idx[i],1],x[idx[i],2],label=\"class_\"+str(i))\n",
        "ax.legend(loc='center left', bbox_to_anchor=(1, 0.5))"
      ],
      "execution_count": 399,
      "outputs": [
        {
          "output_type": "execute_result",
          "data": {
            "text/plain": [
              "<matplotlib.legend.Legend at 0x7f5e10ae5748>"
            ]
          },
          "metadata": {
            "tags": []
          },
          "execution_count": 399
        },
        {
          "output_type": "display_data",
          "data": {
            "image/png": "[encoded data removed]",
            "text/plain": [
              "<Figure size 432x288 with 1 Axes>"
            ]
          },
          "metadata": {
            "tags": []
          }
        }
      ]
    },
    {
      "cell_type": "code",
      "metadata": {
        "id": "lcg9BoOD7rdL",
        "colab_type": "code",
        "colab": {
          "base_uri": "https://localhost:8080/",
          "height": 265
        },
        "outputId": "d14bcfc2-6069-4598-c443-2f3b27b4c719"
      },
      "source": [
        "normal = np.array([0,0,1])\n",
        "# a plane is a*x+b*y+c*z+d=0\n",
        "# [a,b,c] is the normal. Thus, we have to calculate\n",
        "# d and we're set\n",
        "d = 0\n",
        "\n",
        "# create x,y\n",
        "xx, yy = np.meshgrid(range(5), range(5))\n",
        "\n",
        "# calculate corresponding z\n",
        "z = (-normal[0] * xx - normal[1] * yy - d) * 1. /normal[2]\n",
        "\n",
        "# plot the surface\n",
        "plt3d = plt.figure().gca(projection='3d')\n",
        "plt3d.plot_surface(xx, yy, z, alpha=0.5)\n",
        "\n",
        "# fig = plt.figure()\n",
        "ax = plt.gca()\n",
        "for i in range(10):\n",
        "    ax.scatter(x[idx[i],0],x[idx[i],1],x[idx[i],2],label=\"class_\"+str(i))\n",
        "ax.legend(loc='center left', bbox_to_anchor=(1, 0.5))"
      ],
      "execution_count": 400,
      "outputs": [
        {
          "output_type": "execute_result",
          "data": {
            "text/plain": [
              "<matplotlib.legend.Legend at 0x7f5e10a20198>"
            ]
          },
          "metadata": {
            "tags": []
          },
          "execution_count": 400
        },
        {
          "output_type": "display_data",
          "data": {
            "image/png": "[encoded data removed]",
            "text/plain": [
              "<Figure size 432x288 with 1 Axes>"
            ]
          },
          "metadata": {
            "tags": []
          }
        }
      ]
    },
    {
      "cell_type": "markdown",
      "metadata": {
        "id": "l-7ncm8a7rdQ",
        "colab_type": "text"
      },
      "source": [
        "## angle = pi/2, p1: z = 0, p2: 2x + 3y = 0\n",
        "## angle = pi/6, p1: z = 0, p2: 2x + 3y + sqrt(39)z = 0\n",
        "## angle = pi/3, p1: z = 0, p2: 2x + 3y + sqrt(13/3)z = 0"
      ]
    },
    {
      "cell_type": "code",
      "metadata": {
        "id": "_vup63g47rdR",
        "colab_type": "code",
        "colab": {
          "base_uri": "https://localhost:8080/",
          "height": 34
        },
        "outputId": "2fab8818-7e63-4bbd-eca5-8e4a77a91ee6"
      },
      "source": [
        "angle = 5*np.pi/3\n",
        "\n",
        "a = 2\n",
        "b = 3\n",
        "if(angle == np.pi/2):\n",
        "    c=0\n",
        "else:\n",
        "    c = np.sqrt(a*a + b*b )/m.tan(angle)\n",
        "print(c)"
      ],
      "execution_count": 401,
      "outputs": [
        {
          "output_type": "stream",
          "text": [
            "-2.081665999466133\n"
          ],
          "name": "stdout"
        }
      ]
    },
    {
      "cell_type": "code",
      "metadata": {
        "scrolled": true,
        "id": "pLqmqeA47rdY",
        "colab_type": "code",
        "colab": {
          "base_uri": "https://localhost:8080/",
          "height": 1000
        },
        "outputId": "405a98ae-9151-4820-ccb5-112a05ff2731"
      },
      "source": [
        "x[idx[0],:]"
      ],
      "execution_count": 402,
      "outputs": [
        {
          "output_type": "execute_result",
          "data": {
            "text/plain": [
              "array([[1.92967318, 2.04701997, 0.        ],\n",
              "       [1.92732267, 1.89484378, 0.        ],\n",
              "       [2.2574524 , 1.84283836, 0.        ],\n",
              "       [2.11844994, 1.95305543, 0.        ],\n",
              "       [1.92799598, 2.10468101, 0.        ],\n",
              "       [1.88764491, 1.98728417, 0.        ],\n",
              "       [2.06568452, 1.97724913, 0.        ],\n",
              "       [2.06976423, 1.9578933 , 0.        ],\n",
              "       [1.96586599, 2.01528043, 0.        ],\n",
              "       [1.87693549, 2.03788803, 0.        ],\n",
              "       [1.93863358, 1.97787505, 0.        ],\n",
              "       [1.97239807, 1.87633009, 0.        ],\n",
              "       [2.12916846, 1.96314528, 0.        ],\n",
              "       [1.97315442, 1.91711049, 0.        ],\n",
              "       [2.03573223, 1.91341765, 0.        ],\n",
              "       [2.02074307, 2.07096301, 0.        ],\n",
              "       [2.02515467, 1.79651301, 0.        ],\n",
              "       [1.81538165, 2.06448539, 0.        ],\n",
              "       [1.9852806 , 2.00834116, 0.        ],\n",
              "       [1.95883121, 1.91962221, 0.        ],\n",
              "       [1.98495726, 1.81413747, 0.        ],\n",
              "       [2.11469306, 2.01082043, 0.        ],\n",
              "       [1.77459425, 1.8585344 , 0.        ],\n",
              "       [1.89913945, 1.88495493, 0.        ],\n",
              "       [1.99919023, 2.08794467, 0.        ],\n",
              "       [2.00215082, 1.96793905, 0.        ],\n",
              "       [1.91301094, 1.92845489, 0.        ],\n",
              "       [2.02972671, 1.97637875, 0.        ],\n",
              "       [1.75366609, 2.03618879, 0.        ],\n",
              "       [1.99831163, 1.96554806, 0.        ],\n",
              "       [1.94149901, 2.24167617, 0.        ],\n",
              "       [2.02879502, 2.29483424, 0.        ],\n",
              "       [2.15133203, 1.94719636, 0.        ],\n",
              "       [1.83562691, 2.00767783, 0.        ],\n",
              "       [1.79232528, 1.85564637, 0.        ],\n",
              "       [1.7817156 , 1.95566325, 0.        ],\n",
              "       [2.16215228, 1.94045302, 0.        ],\n",
              "       [2.12552895, 2.03282592, 0.        ],\n",
              "       [1.99665743, 2.18727519, 0.        ],\n",
              "       [1.86906457, 1.97026155, 0.        ],\n",
              "       [2.0016933 , 2.22230599, 0.        ],\n",
              "       [1.9120667 , 2.08274482, 0.        ],\n",
              "       [1.91562737, 2.02653255, 0.        ],\n",
              "       [1.89011899, 2.29821567, 0.        ],\n",
              "       [2.05333685, 2.02066196, 0.        ],\n",
              "       [2.00224174, 1.94269564, 0.        ],\n",
              "       [2.07383806, 1.95193012, 0.        ],\n",
              "       [2.04323171, 1.87465765, 0.        ],\n",
              "       [1.89956651, 1.96679583, 0.        ],\n",
              "       [1.79614649, 1.8851575 , 0.        ],\n",
              "       [1.90749858, 2.10167732, 0.        ],\n",
              "       [2.01985176, 1.77322862, 0.        ],\n",
              "       [1.96210861, 1.92035761, 0.        ],\n",
              "       [2.21111839, 2.13423833, 0.        ],\n",
              "       [1.95628898, 2.00506692, 0.        ],\n",
              "       [2.00996156, 1.95932823, 0.        ],\n",
              "       [2.10616206, 2.07974828, 0.        ],\n",
              "       [2.06740648, 2.04623444, 0.        ],\n",
              "       [2.13523916, 1.99874143, 0.        ],\n",
              "       [1.95856918, 1.93370645, 0.        ],\n",
              "       [1.88936518, 1.96302152, 0.        ],\n",
              "       [1.93984029, 2.07861628, 0.        ],\n",
              "       [2.04092829, 1.87193728, 0.        ],\n",
              "       [1.99953661, 2.02569085, 0.        ],\n",
              "       [1.9655323 , 2.12267501, 0.        ],\n",
              "       [1.96893185, 2.07469227, 0.        ],\n",
              "       [2.05731743, 1.96086067, 0.        ],\n",
              "       [2.04114861, 1.99480209, 0.        ],\n",
              "       [1.98008587, 2.00843337, 0.        ],\n",
              "       [1.83301453, 1.89323567, 0.        ],\n",
              "       [2.02611345, 1.96567392, 0.        ],\n",
              "       [2.13078329, 1.92921473, 0.        ],\n",
              "       [2.06972394, 2.06963192, 0.        ],\n",
              "       [1.9952199 , 2.11443603, 0.        ],\n",
              "       [2.22992076, 2.01545723, 0.        ],\n",
              "       [1.9761561 , 2.18405013, 0.        ],\n",
              "       [2.16986207, 1.9643879 , 0.        ],\n",
              "       [1.95464101, 1.92677089, 0.        ],\n",
              "       [2.02079658, 2.09160788, 0.        ],\n",
              "       [1.92558343, 2.12066918, 0.        ],\n",
              "       [2.11681599, 1.94713629, 0.        ],\n",
              "       [1.99736569, 1.8078964 , 0.        ],\n",
              "       [1.78461688, 1.82249469, 0.        ],\n",
              "       [1.94137577, 2.05951485, 0.        ],\n",
              "       [1.9429465 , 2.09877153, 0.        ],\n",
              "       [2.00997183, 1.8834323 , 0.        ],\n",
              "       [1.92161314, 1.99951676, 0.        ],\n",
              "       [1.93705873, 1.91266986, 0.        ],\n",
              "       [1.88697651, 2.21414087, 0.        ],\n",
              "       [1.94243405, 1.88867947, 0.        ],\n",
              "       [1.84210749, 1.81763741, 0.        ],\n",
              "       [1.9183152 , 1.99232974, 0.        ],\n",
              "       [2.0895052 , 2.09042013, 0.        ],\n",
              "       [1.88606594, 2.02071003, 0.        ],\n",
              "       [1.96765062, 2.01467753, 0.        ],\n",
              "       [2.03846913, 2.09360023, 0.        ],\n",
              "       [1.86678518, 1.85936676, 0.        ],\n",
              "       [2.00648436, 2.17853066, 0.        ],\n",
              "       [2.24234779, 2.01553882, 0.        ]])"
            ]
          },
          "metadata": {
            "tags": []
          },
          "execution_count": 402
        }
      ]
    },
    {
      "cell_type": "code",
      "metadata": {
        "id": "2WeuxtXx7rdd",
        "colab_type": "code",
        "colab": {
          "base_uri": "https://localhost:8080/",
          "height": 121
        },
        "outputId": "b57b3366-e09d-4b4c-acec-1a2d2045e6f3"
      },
      "source": [
        "x[idx[0],2]"
      ],
      "execution_count": 403,
      "outputs": [
        {
          "output_type": "execute_result",
          "data": {
            "text/plain": [
              "array([0., 0., 0., 0., 0., 0., 0., 0., 0., 0., 0., 0., 0., 0., 0., 0., 0.,\n",
              "       0., 0., 0., 0., 0., 0., 0., 0., 0., 0., 0., 0., 0., 0., 0., 0., 0.,\n",
              "       0., 0., 0., 0., 0., 0., 0., 0., 0., 0., 0., 0., 0., 0., 0., 0., 0.,\n",
              "       0., 0., 0., 0., 0., 0., 0., 0., 0., 0., 0., 0., 0., 0., 0., 0., 0.,\n",
              "       0., 0., 0., 0., 0., 0., 0., 0., 0., 0., 0., 0., 0., 0., 0., 0., 0.,\n",
              "       0., 0., 0., 0., 0., 0., 0., 0., 0., 0., 0., 0., 0., 0.])"
            ]
          },
          "metadata": {
            "tags": []
          },
          "execution_count": 403
        }
      ]
    },
    {
      "cell_type": "code",
      "metadata": {
        "scrolled": true,
        "id": "rlCv6Q4S7rdh",
        "colab_type": "code",
        "colab": {}
      },
      "source": [
        "if(angle == np.pi/2):\n",
        "    for i in range(3):\n",
        "        x[idx[i],2] = (i+2)*(x[idx[i],0] + x[idx[i],1])/(x[idx[i],0] + x[idx[i],1])\n",
        "else:\n",
        "    for i in range(3):\n",
        "        x[idx[i],2] = (2*x[idx[i],0] + 3*x[idx[i],1])/c\n"
      ],
      "execution_count": 0,
      "outputs": []
    },
    {
      "cell_type": "code",
      "metadata": {
        "scrolled": true,
        "id": "bRw7_9wU7rdl",
        "colab_type": "code",
        "colab": {
          "base_uri": "https://localhost:8080/",
          "height": 1000
        },
        "outputId": "8e677217-7f75-4496-c122-a79eb94e3731"
      },
      "source": [
        "x[idx[0],:]"
      ],
      "execution_count": 405,
      "outputs": [
        {
          "output_type": "execute_result",
          "data": {
            "text/plain": [
              "array([[ 1.92967318,  2.04701997, -4.80403979],\n",
              "       [ 1.92732267,  1.89484378, -4.58247225],\n",
              "       [ 2.2574524 ,  1.84283836, -4.82470286],\n",
              "       [ 2.11844994,  1.95305543, -4.84999331],\n",
              "       [ 1.92799598,  2.10468101, -4.88552678],\n",
              "       [ 1.88764491,  1.98728417, -4.67757188],\n",
              "       [ 2.06568452,  1.97724913, -4.83416476],\n",
              "       [ 2.06976423,  1.9578933 , -4.8101897 ],\n",
              "       [ 1.96586599,  2.01528043, -4.79307116],\n",
              "       [ 1.87693549,  2.03788803, -4.74021052],\n",
              "       [ 1.93863358,  1.97787505, -4.71300022],\n",
              "       [ 1.97239807,  1.87633009, -4.59909824],\n",
              "       [ 2.12916846,  1.96314528, -4.87483234],\n",
              "       [ 1.97315442,  1.91711049, -4.65859572],\n",
              "       [ 2.03573223,  1.91341765, -4.71339658],\n",
              "       [ 2.02074307,  2.07096301, -4.92604249],\n",
              "       [ 2.02515467,  1.79651301, -4.53475648],\n",
              "       [ 1.81538165,  2.06448539, -4.71940237],\n",
              "       [ 1.9852806 ,  2.00834116, -4.80172357],\n",
              "       [ 1.95883121,  1.91962221, -4.64845419],\n",
              "       [ 1.98495726,  1.81413747, -4.52153561],\n",
              "       [ 2.11469306,  2.01082043, -4.92963205],\n",
              "       [ 1.77459425,  1.8585344 , -4.38340814],\n",
              "       [ 1.89913945,  1.88495493, -4.54114335],\n",
              "       [ 1.99919023,  2.08794467, -4.92980837],\n",
              "       [ 2.00215082,  1.96793905, -4.75970631],\n",
              "       [ 1.91301094,  1.92845489, -4.61716075],\n",
              "       [ 2.02972671,  1.97637875, -4.79836327],\n",
              "       [ 1.75366609,  2.03618879, -4.61932825],\n",
              "       [ 1.99831163,  1.96554806, -4.75257196],\n",
              "       [ 1.94149901,  2.24167617, -5.09593111],\n",
              "       [ 2.02879502,  2.29483424, -5.25641133],\n",
              "       [ 2.15133203,  1.94719636, -4.87314158],\n",
              "       [ 1.83562691,  2.00767783, -4.65698499],\n",
              "       [ 1.79232528,  1.85564637, -4.39628147],\n",
              "       [ 1.7817156 ,  1.95566325, -4.53022769],\n",
              "       [ 2.16215228,  1.94045302, -4.87381916],\n",
              "       [ 2.12552895,  2.03282592, -4.97175612],\n",
              "       [ 1.99665743,  2.18727519, -5.07052545],\n",
              "       [ 1.86906457,  1.97026155, -4.63518826],\n",
              "       [ 2.0016933 ,  2.22230599, -5.12584851],\n",
              "       [ 1.9120667 ,  2.08274482, -4.83860901],\n",
              "       [ 1.91562737,  2.02653255, -4.76101949],\n",
              "       [ 1.89011899,  2.29821567, -5.12804888],\n",
              "       [ 2.05333685,  2.02066196, -4.88486606],\n",
              "       [ 2.00224174,  1.94269564, -4.72341404],\n",
              "       [ 2.07383806,  1.95193012, -4.80550986],\n",
              "       [ 2.04323171,  1.87465765, -4.66474274],\n",
              "       [ 1.89956651,  1.96679583, -4.65949893],\n",
              "       [ 1.79614649,  1.8851575 , -4.44248285],\n",
              "       [ 1.90749858,  2.10167732, -4.86150474],\n",
              "       [ 2.01985176,  1.77322862, -4.49610523],\n",
              "       [ 1.96210861,  1.92035761, -4.65266284],\n",
              "       [ 2.21111839,  2.13423833, -5.20013863],\n",
              "       [ 1.95628898,  2.00506692, -4.76915063],\n",
              "       [ 2.00996156,  1.95932823, -4.75480112],\n",
              "       [ 2.10616206,  2.07974828, -5.02077133],\n",
              "       [ 2.06740648,  2.04623444, -4.93523759],\n",
              "       [ 2.13523916,  1.99874143, -4.93196441],\n",
              "       [ 1.95856918,  1.93370645, -4.66849999],\n",
              "       [ 1.88936518,  1.96302152, -4.64425846],\n",
              "       [ 1.93984029,  2.07861628, -4.85934315],\n",
              "       [ 2.04092829,  1.87193728, -4.65860921],\n",
              "       [ 1.99953661,  2.02569085, -4.84042387],\n",
              "       [ 1.9655323 ,  2.12267501, -4.94752262],\n",
              "       [ 1.96893185,  2.07469227, -4.88163832],\n",
              "       [ 2.05731743,  1.96086067, -4.80250765],\n",
              "       [ 2.04114861,  1.99480209, -4.83588793],\n",
              "       [ 1.98008587,  2.00843337, -4.79686551],\n",
              "       [ 1.83301453,  1.89323567, -4.4895464 ],\n",
              "       [ 2.02611345,  1.96567392, -4.77946446],\n",
              "       [ 2.13078329,  1.92921473, -4.82748471],\n",
              "       [ 2.06972394,  2.06963192, -4.97118349],\n",
              "       [ 1.9952199 ,  2.11443603, -4.96417192],\n",
              "       [ 2.22992076,  2.01545723, -5.04702157],\n",
              "       [ 1.9761561 ,  2.18405013, -5.0461806 ],\n",
              "       [ 2.16986207,  1.9643879 , -4.91572031],\n",
              "       [ 1.95464101,  1.92677089, -4.65473073],\n",
              "       [ 2.02079658,  2.09160788, -4.95584632],\n",
              "       [ 1.92558343,  2.12066918, -4.90625029],\n",
              "       [ 2.11681599,  1.94713629, -4.83989307],\n",
              "       [ 1.99736569,  1.8078964 , -4.52446289],\n",
              "       [ 1.78461688,  1.82249469, -4.34109883],\n",
              "       [ 1.94137577,  2.05951485, -4.8332903 ],\n",
              "       [ 1.9429465 ,  2.09877153, -4.8913743 ],\n",
              "       [ 2.00997183,  1.8834323 , -4.6454333 ],\n",
              "       [ 1.92161314,  1.99951676, -4.72783653],\n",
              "       [ 1.93705873,  1.91266986, -4.61751647],\n",
              "       [ 1.88697651,  2.21414087, -5.00386499],\n",
              "       [ 1.94243405,  1.88867947, -4.58810707],\n",
              "       [ 1.84210749,  1.81763741, -4.38933394],\n",
              "       [ 1.9183152 ,  1.99232974, -4.71431038],\n",
              "       [ 2.0895052 ,  2.09042013, -5.02014771],\n",
              "       [ 1.88606594,  2.02071003, -4.72422664],\n",
              "       [ 1.96765062,  2.01467753, -4.79391691],\n",
              "       [ 2.03846913,  2.09360023, -4.97569684],\n",
              "       [ 1.86678518,  1.85936676, -4.47318189],\n",
              "       [ 2.00648436,  2.17853066, -5.06736465],\n",
              "       [ 2.24234779,  2.01553882, -5.05907866]])"
            ]
          },
          "metadata": {
            "tags": []
          },
          "execution_count": 405
        }
      ]
    },
    {
      "cell_type": "code",
      "metadata": {
        "scrolled": true,
        "id": "oVrnw8Yj7rdp",
        "colab_type": "code",
        "colab": {
          "base_uri": "https://localhost:8080/",
          "height": 265
        },
        "outputId": "4f41fc15-8131-4306-cdf1-34ee83d87cc0"
      },
      "source": [
        "fig = plt.figure()\n",
        "ax = fig.add_subplot(111, projection='3d')\n",
        "for i in range(10):\n",
        "    ax.scatter(x[idx[i],0],x[idx[i],1],x[idx[i],2],label=\"class_\"+str(i))\n",
        "ax.legend(loc='center left', bbox_to_anchor=(1, 0.5))"
      ],
      "execution_count": 406,
      "outputs": [
        {
          "output_type": "execute_result",
          "data": {
            "text/plain": [
              "<matplotlib.legend.Legend at 0x7f5e10949908>"
            ]
          },
          "metadata": {
            "tags": []
          },
          "execution_count": 406
        },
        {
          "output_type": "display_data",
          "data": {
            "image/png": "[encoded data removed]",
            "text/plain": [
              "<Figure size 432x288 with 1 Axes>"
            ]
          },
          "metadata": {
            "tags": []
          }
        }
      ]
    },
    {
      "cell_type": "code",
      "metadata": {
        "id": "8J5HPflY7rdt",
        "colab_type": "code",
        "colab": {
          "base_uri": "https://localhost:8080/",
          "height": 265
        },
        "outputId": "892b296b-7092-4ce8-f01f-406b773065fe"
      },
      "source": [
        "normal = np.array([a,b,c])\n",
        "# a plane is a*x+b*y+c*z+d=0\n",
        "# [a,b,c] is the normal. Thus, we have to calculate\n",
        "# d and we're set\n",
        "d = 0\n",
        "\n",
        "# create x,y\n",
        "xx, yy = np.meshgrid(range(5), range(5))\n",
        "\n",
        "# calculate corresponding z\n",
        "z = -(-normal[0] * xx - normal[1] * yy - d) * 1. /normal[2]\n",
        "\n",
        "# plot the surface\n",
        "plt3d = plt.figure().gca(projection='3d')\n",
        "plt3d.plot_surface(xx, yy, z, alpha=0.5)\n",
        "\n",
        "# fig = plt.figure()\n",
        "ax = plt.gca()\n",
        "for i in range(10):\n",
        "    ax.scatter(x[idx[i],0],x[idx[i],1],x[idx[i],2],label=\"class_\"+str(i))\n",
        "ax.legend(loc='center left', bbox_to_anchor=(1, 0.5))"
      ],
      "execution_count": 407,
      "outputs": [
        {
          "output_type": "execute_result",
          "data": {
            "text/plain": [
              "<matplotlib.legend.Legend at 0x7f5e108fce10>"
            ]
          },
          "metadata": {
            "tags": []
          },
          "execution_count": 407
        },
        {
          "output_type": "display_data",
          "data": {
            "image/png": "[encoded data removed]",
            "text/plain": [
              "<Figure size 432x288 with 1 Axes>"
            ]
          },
          "metadata": {
            "tags": []
          }
        }
      ]
    },
    {
      "cell_type": "code",
      "metadata": {
        "id": "TJYoUUi27reF",
        "colab_type": "code",
        "colab": {
          "base_uri": "https://localhost:8080/",
          "height": 34
        },
        "outputId": "f76d5f79-377d-46cc-b40e-88daa1674743"
      },
      "source": [
        "x.shape,y.shape"
      ],
      "execution_count": 408,
      "outputs": [
        {
          "output_type": "execute_result",
          "data": {
            "text/plain": [
              "((1000, 3), (1000,))"
            ]
          },
          "metadata": {
            "tags": []
          },
          "execution_count": 408
        }
      ]
    },
    {
      "cell_type": "code",
      "metadata": {
        "id": "57yfZoDX7reI",
        "colab_type": "code",
        "colab": {}
      },
      "source": [
        "classes  = ('0', '1', '2','3', '4', '5', '6', '7','8', '9')\n",
        "foreground_classes = {'0', '1', '2'}\n",
        "\n",
        "background_classes = {'3', '4', '5', '6', '7','8', '9'}\n"
      ],
      "execution_count": 0,
      "outputs": []
    },
    {
      "cell_type": "code",
      "metadata": {
        "id": "XQ0Lz_GW7reL",
        "colab_type": "code",
        "colab": {}
      },
      "source": [
        "class sub_clust_data(Dataset):\n",
        "    def __init__(self,x, y):\n",
        "        self.x = torch.Tensor(x)\n",
        "        self.y = torch.Tensor(y).type(torch.LongTensor)\n",
        "    #self.fore_idx = fore_idx\n",
        "    \n",
        "    def __len__(self):\n",
        "        return len(self.y)\n",
        "\n",
        "    def __getitem__(self, idx):\n",
        "        return self.x[idx] , self.y[idx] #, self.fore_idx[idx]"
      ],
      "execution_count": 0,
      "outputs": []
    },
    {
      "cell_type": "code",
      "metadata": {
        "id": "1pH6faRT7reO",
        "colab_type": "code",
        "colab": {}
      },
      "source": [
        "trainset = sub_clust_data(x,y)"
      ],
      "execution_count": 0,
      "outputs": []
    },
    {
      "cell_type": "code",
      "metadata": {
        "id": "nQQBN6d47reR",
        "colab_type": "code",
        "colab": {}
      },
      "source": [
        "trainloader = torch.utils.data.DataLoader(trainset, batch_size=10, shuffle=True)"
      ],
      "execution_count": 0,
      "outputs": []
    },
    {
      "cell_type": "code",
      "metadata": {
        "id": "UUU-ibU47reU",
        "colab_type": "code",
        "colab": {}
      },
      "source": [
        "dataiter = iter(trainloader)\n",
        "background_data=[]\n",
        "background_label=[]\n",
        "foreground_data=[]\n",
        "foreground_label=[]\n",
        "batch_size=10\n",
        "\n",
        "for i in range(100):   #5000*batch_size = 50000 data points\n",
        "    images, labels = dataiter.next()\n",
        "    for j in range(batch_size):\n",
        "        if(classes[labels[j]] in background_classes):\n",
        "            img = images[j].tolist()\n",
        "            background_data.append(img)\n",
        "            background_label.append(labels[j])\n",
        "        else:\n",
        "            img = images[j].tolist()\n",
        "            foreground_data.append(img)\n",
        "            foreground_label.append(labels[j])"
      ],
      "execution_count": 0,
      "outputs": []
    },
    {
      "cell_type": "code",
      "metadata": {
        "id": "mh7y2Afy7reW",
        "colab_type": "code",
        "colab": {
          "base_uri": "https://localhost:8080/",
          "height": 34
        },
        "outputId": "a1fd41c0-a352-41cc-cd08-ceb03caf7a6d"
      },
      "source": [
        "np.shape(foreground_data),np.shape(foreground_label)"
      ],
      "execution_count": 414,
      "outputs": [
        {
          "output_type": "execute_result",
          "data": {
            "text/plain": [
              "((307, 3), (307,))"
            ]
          },
          "metadata": {
            "tags": []
          },
          "execution_count": 414
        }
      ]
    },
    {
      "cell_type": "code",
      "metadata": {
        "id": "bIk5bgiq7reZ",
        "colab_type": "code",
        "colab": {
          "base_uri": "https://localhost:8080/",
          "height": 34
        },
        "outputId": "748d4b86-0a21-4bc5-ec1a-b50323a7d103"
      },
      "source": [
        "np.shape(background_data),np.shape(background_label)"
      ],
      "execution_count": 415,
      "outputs": [
        {
          "output_type": "execute_result",
          "data": {
            "text/plain": [
              "((693, 3), (693,))"
            ]
          },
          "metadata": {
            "tags": []
          },
          "execution_count": 415
        }
      ]
    },
    {
      "cell_type": "code",
      "metadata": {
        "id": "kF9mgUkz7red",
        "colab_type": "code",
        "colab": {}
      },
      "source": [
        "foreground_data = torch.tensor(foreground_data)\n",
        "foreground_label = torch.tensor(foreground_label).type(torch.LongTensor)\n",
        "background_data = torch.tensor(background_data)\n",
        "background_label = torch.tensor(background_label).type(torch.LongTensor)"
      ],
      "execution_count": 0,
      "outputs": []
    },
    {
      "cell_type": "code",
      "metadata": {
        "id": "QmYT2mXj7reg",
        "colab_type": "code",
        "colab": {}
      },
      "source": [
        "def create_mosaic_img(bg_idx,fg_idx,fg): \n",
        "    image_list=[]\n",
        "    j=0\n",
        "    for i in range(9):\n",
        "        if i != fg:\n",
        "            image_list.append(background_data[bg_idx[j]].type(\"torch.DoubleTensor\"))\n",
        "            j+=1\n",
        "        else: \n",
        "            image_list.append(foreground_data[fg_idx].type(\"torch.DoubleTensor\"))\n",
        "            label = foreground_label[fg_idx]  #-7  # minus 7 because our fore ground classes are 7,8,9 but we have to store it as 0,1,2\n",
        "    #image_list = np.concatenate(image_list ,axis=0)\n",
        "    image_list = torch.stack(image_list) \n",
        "    return image_list,label"
      ],
      "execution_count": 0,
      "outputs": []
    },
    {
      "cell_type": "code",
      "metadata": {
        "id": "mGueYoxU-3wL",
        "colab_type": "code",
        "colab": {
          "base_uri": "https://localhost:8080/",
          "height": 34
        },
        "outputId": "14844c8b-639e-4934-d859-5f1fa6830685"
      },
      "source": [
        "fg_nos = np.shape(foreground_label)[0]\n",
        "bg_nos = np.shape(background_label)[0]\n",
        "bg_nos, fg_nos"
      ],
      "execution_count": 418,
      "outputs": [
        {
          "output_type": "execute_result",
          "data": {
            "text/plain": [
              "(693, 307)"
            ]
          },
          "metadata": {
            "tags": []
          },
          "execution_count": 418
        }
      ]
    },
    {
      "cell_type": "code",
      "metadata": {
        "id": "sHCgXuqs7rek",
        "colab_type": "code",
        "colab": {}
      },
      "source": [
        "desired_num = 1000\n",
        "mosaic_list_of_images =[]      # list of mosaic images, each mosaic image is saved as list of 9 images\n",
        "fore_idx =[]                   # list of indexes at which foreground image is present in a mosaic image i.e from 0 to 9               \n",
        "mosaic_label=[]                # label of mosaic image = foreground class present in that mosaic\n",
        "for i in range(desired_num):\n",
        "    bg_idx = np.random.randint(0,bg_nos,8)\n",
        "    fg_idx = np.random.randint(0,fg_nos)\n",
        "    fg = np.random.randint(0,9)\n",
        "    fore_idx.append(fg)\n",
        "    image_list,label = create_mosaic_img(bg_idx,fg_idx,fg)\n",
        "    mosaic_list_of_images.append(image_list)\n",
        "    mosaic_label.append(label)"
      ],
      "execution_count": 0,
      "outputs": []
    },
    {
      "cell_type": "code",
      "metadata": {
        "id": "4vSUeW8M7rem",
        "colab_type": "code",
        "colab": {}
      },
      "source": [
        "def create_avg_image_from_mosaic_dataset(mosaic_dataset,labels,foreground_index,dataset_number):\n",
        "    avg_image_dataset = []\n",
        "    for i in range(len(mosaic_dataset)):\n",
        "        img = torch.zeros([3], dtype=torch.float64)\n",
        "        for j in range(9):\n",
        "            if j == foreground_index[i]:\n",
        "                img = img + mosaic_dataset[i][j]*dataset_number/9\n",
        "            else :\n",
        "                img = img + mosaic_dataset[i][j]*(9-dataset_number)/(8*9)\n",
        "    \n",
        "        avg_image_dataset.append(img)\n",
        "    \n",
        "    return avg_image_dataset , labels , foreground_index"
      ],
      "execution_count": 0,
      "outputs": []
    },
    {
      "cell_type": "code",
      "metadata": {
        "id": "YXlqfhEr7rep",
        "colab_type": "code",
        "colab": {}
      },
      "source": [
        "avg_image_dataset_1 , labels_1,  fg_index_1 = create_avg_image_from_mosaic_dataset(mosaic_list_of_images[0:1000], mosaic_label[0:1000], fore_idx[0:1000] , 1)\n",
        "avg_image_dataset_2 , labels_2,  fg_index_2 = create_avg_image_from_mosaic_dataset(mosaic_list_of_images[0:1000], mosaic_label[0:1000], fore_idx[0:1000] , 2)\n",
        "avg_image_dataset_3 , labels_3,  fg_index_3 = create_avg_image_from_mosaic_dataset(mosaic_list_of_images[0:1000], mosaic_label[0:1000], fore_idx[0:1000] , 3)\n",
        "avg_image_dataset_4 , labels_4,  fg_index_4 = create_avg_image_from_mosaic_dataset(mosaic_list_of_images[0:1000], mosaic_label[0:1000], fore_idx[0:1000] , 4)\n",
        "avg_image_dataset_5 , labels_5,  fg_index_5 = create_avg_image_from_mosaic_dataset(mosaic_list_of_images[0:1000], mosaic_label[0:1000], fore_idx[0:1000] , 5)\n",
        "avg_image_dataset_6 , labels_6,  fg_index_6 = create_avg_image_from_mosaic_dataset(mosaic_list_of_images[0:1000], mosaic_label[0:1000], fore_idx[0:1000] , 6)\n",
        "avg_image_dataset_7 , labels_7,  fg_index_7 = create_avg_image_from_mosaic_dataset(mosaic_list_of_images[0:1000], mosaic_label[0:1000], fore_idx[0:1000] , 7)\n",
        "avg_image_dataset_8 , labels_8,  fg_index_8 = create_avg_image_from_mosaic_dataset(mosaic_list_of_images[0:1000], mosaic_label[0:1000], fore_idx[0:1000] , 8)\n",
        "avg_image_dataset_9 , labels_9,  fg_index_9 = create_avg_image_from_mosaic_dataset(mosaic_list_of_images[0:1000], mosaic_label[0:1000], fore_idx[0:1000] , 9)\n",
        "\n",
        "#test_dataset_10 , labels_10 , fg_index_10 = create_avg_image_from_mosaic_dataset(mosaic_list_of_images[10000:20000], mosaic_label[10000:20000], fore_idx[10000:20000] , 9)"
      ],
      "execution_count": 0,
      "outputs": []
    },
    {
      "cell_type": "code",
      "metadata": {
        "id": "ZHeLv0Fg7res",
        "colab_type": "code",
        "colab": {}
      },
      "source": [
        "class MosaicDataset(Dataset):\n",
        "    \"\"\"MosaicDataset dataset.\"\"\"\n",
        "\n",
        "    def __init__(self, mosaic_list_of_images, mosaic_label):\n",
        "        \"\"\"\n",
        "          Args:\n",
        "            csv_file (string): Path to the csv file with annotations.\n",
        "            root_dir (string): Directory with all the images.\n",
        "            transform (callable, optional): Optional transform to be applied\n",
        "                on a sample.\n",
        "        \"\"\"\n",
        "        self.mosaic = mosaic_list_of_images\n",
        "        self.label = mosaic_label\n",
        "        #self.fore_idx = fore_idx\n",
        "    \n",
        "    def __len__(self):\n",
        "        return len(self.label)\n",
        "\n",
        "    def __getitem__(self, idx):\n",
        "        return self.mosaic[idx] , self.label[idx] #, self.fore_idx[idx]"
      ],
      "execution_count": 0,
      "outputs": []
    },
    {
      "cell_type": "code",
      "metadata": {
        "id": "Wa7qkACK7reu",
        "colab_type": "code",
        "colab": {}
      },
      "source": [
        "batch = 256\n",
        "\n",
        "\n",
        "# training_data = avg_image_dataset_5    #just change this and training_label to desired dataset for training\n",
        "# training_label = labels_5\n",
        "\n",
        "traindata_1 = MosaicDataset(avg_image_dataset_1, labels_1 )\n",
        "trainloader_1 = DataLoader( traindata_1 , batch_size= batch ,shuffle=True)\n",
        "\n",
        "traindata_2 = MosaicDataset(avg_image_dataset_2, labels_2 )\n",
        "trainloader_2 = DataLoader( traindata_2 , batch_size= batch ,shuffle=True)\n",
        "\n",
        "traindata_3 = MosaicDataset(avg_image_dataset_3, labels_3 )\n",
        "trainloader_3 = DataLoader( traindata_3 , batch_size= batch ,shuffle=True)\n",
        "\n",
        "traindata_4 = MosaicDataset(avg_image_dataset_4, labels_4 )\n",
        "trainloader_4 = DataLoader( traindata_4 , batch_size= batch ,shuffle=True)\n",
        "\n",
        "traindata_5 = MosaicDataset(avg_image_dataset_5, labels_5 )\n",
        "trainloader_5 = DataLoader( traindata_5 , batch_size= batch ,shuffle=True)\n",
        "\n",
        "traindata_6 = MosaicDataset(avg_image_dataset_6, labels_6 )\n",
        "trainloader_6 = DataLoader( traindata_6 , batch_size= batch ,shuffle=True)\n",
        "\n",
        "traindata_7 = MosaicDataset(avg_image_dataset_7, labels_7 )\n",
        "trainloader_7 = DataLoader( traindata_7 , batch_size= batch ,shuffle=True)\n",
        "\n",
        "traindata_8 = MosaicDataset(avg_image_dataset_8, labels_8 )\n",
        "trainloader_8 = DataLoader( traindata_8 , batch_size= batch ,shuffle=True)\n",
        "\n",
        "traindata_9 = MosaicDataset(avg_image_dataset_9, labels_9 )\n",
        "trainloader_9 = DataLoader( traindata_9 , batch_size= batch ,shuffle=True)\n",
        "\n",
        "testdata_1 = MosaicDataset(avg_image_dataset_1, labels_1 )\n",
        "testloader_1 = DataLoader( testdata_1 , batch_size= batch ,shuffle=False)\n",
        "\n",
        "testdata_2 = MosaicDataset(avg_image_dataset_2, labels_2 )\n",
        "testloader_2 = DataLoader( testdata_2 , batch_size= batch ,shuffle=False)\n",
        "\n",
        "testdata_3 = MosaicDataset(avg_image_dataset_3, labels_3 )\n",
        "testloader_3 = DataLoader( testdata_3 , batch_size= batch ,shuffle=False)\n",
        "\n",
        "testdata_4 = MosaicDataset(avg_image_dataset_4, labels_4 )\n",
        "testloader_4 = DataLoader( testdata_4 , batch_size= batch ,shuffle=False)\n",
        "\n",
        "testdata_5 = MosaicDataset(avg_image_dataset_5, labels_5 )\n",
        "testloader_5 = DataLoader( testdata_5 , batch_size= batch ,shuffle=False)\n",
        "\n",
        "testdata_6 = MosaicDataset(avg_image_dataset_6, labels_6 )\n",
        "testloader_6 = DataLoader( testdata_6 , batch_size= batch ,shuffle=False)\n",
        "\n",
        "testdata_7 = MosaicDataset(avg_image_dataset_7, labels_7 )\n",
        "testloader_7 = DataLoader( testdata_7 , batch_size= batch ,shuffle=False)\n",
        "\n",
        "testdata_8 = MosaicDataset(avg_image_dataset_8, labels_8 )\n",
        "testloader_8 = DataLoader( testdata_8 , batch_size= batch ,shuffle=False)\n",
        "\n",
        "testdata_9 = MosaicDataset(avg_image_dataset_9, labels_9 )\n",
        "testloader_9 = DataLoader( testdata_9 , batch_size= batch ,shuffle=False)\n",
        "\n"
      ],
      "execution_count": 0,
      "outputs": []
    },
    {
      "cell_type": "code",
      "metadata": {
        "id": "BQZy-c_O7rew",
        "colab_type": "code",
        "colab": {}
      },
      "source": [
        "class Net(nn.Module):\n",
        "    def __init__(self):\n",
        "        super(Net,self).__init__()\n",
        "        self.linear1 = nn.Linear(3,64)\n",
        "        self.linear2 = nn.Linear(64,128)\n",
        "        \n",
        "        self.linear3 = nn.Linear(128,3)\n",
        "        \n",
        "    def forward(self,x):\n",
        "        x = F.relu(self.linear1(x))\n",
        "        \n",
        "        x = F.relu(self.linear2(x))\n",
        "        \n",
        "        x = self.linear3(x)\n",
        "        \n",
        "        return x"
      ],
      "execution_count": 0,
      "outputs": []
    },
    {
      "cell_type": "code",
      "metadata": {
        "id": "EAEYaDjw8_wT",
        "colab_type": "code",
        "colab": {}
      },
      "source": [
        ""
      ],
      "execution_count": 0,
      "outputs": []
    },
    {
      "cell_type": "code",
      "metadata": {
        "id": "VR-IzVmU7rez",
        "colab_type": "code",
        "colab": {}
      },
      "source": [
        "def test_all(number, testloader,inc):\n",
        "    correct = 0\n",
        "    total = 0\n",
        "    out = []\n",
        "    pred = []\n",
        "    with torch.no_grad():\n",
        "        for data in testloader:\n",
        "            images, labels = data\n",
        "            images, labels = images.to(\"cuda\"),labels.to(\"cuda\")\n",
        "            out.append(labels.cpu().numpy())\n",
        "            outputs= inc(images)\n",
        "            _, predicted = torch.max(outputs.data, 1)\n",
        "            pred.append(predicted.cpu().numpy())\n",
        "            total += labels.size(0)\n",
        "            correct += (predicted == labels).sum().item()\n",
        "\n",
        "    print('Accuracy of the network on the 1000 test dataset %d: %d %%' % (number , 100 * correct / total))\n",
        "    return 100 * correct / total"
      ],
      "execution_count": 0,
      "outputs": []
    },
    {
      "cell_type": "code",
      "metadata": {
        "id": "1_FPcf0t7re2",
        "colab_type": "code",
        "colab": {}
      },
      "source": [
        "def train_all(trainloader, ds_number, testloader_list):\n",
        "    \n",
        "    print(\"--\"*40)\n",
        "    print(\"training on data set  \", ds_number)\n",
        "    \n",
        "    inc = Net().double()\n",
        "    inc = inc.to(\"cuda\")\n",
        "    \n",
        "    criterion_inception = nn.CrossEntropyLoss()\n",
        "    optimizer_inception = optim.SGD(inc.parameters(), lr=0.01, momentum=0.9)\n",
        "    \n",
        "    acti = []\n",
        "    loss_curi = []\n",
        "    epochs = 70\n",
        "    \n",
        "    for epoch in range(epochs): # loop over the dataset multiple times\n",
        "        ep_lossi = []\n",
        "\n",
        "        running_loss = 0.0\n",
        "        for i, data in enumerate(trainloader, 0):\n",
        "            # get the inputs\n",
        "            inputs, labels = data\n",
        "            inputs, labels = inputs.to(\"cuda\"),labels.to(\"cuda\")\n",
        "\n",
        "            # zero the parameter gradients\n",
        "            optimizer_inception.zero_grad()\n",
        "\n",
        "            # forward + backward + optimize\n",
        "            outputs = inc(inputs)\n",
        "            loss = criterion_inception(outputs, labels)\n",
        "            loss.backward()\n",
        "            optimizer_inception.step()\n",
        "\n",
        "            # print statistics\n",
        "            running_loss += loss.item()\n",
        "            mini=4\n",
        "            if i % mini == mini-1:    # print every 10 mini-batches\n",
        "                print('[%d, %5d] loss: %.3f' %\n",
        "                      (epoch + 1, i + 1, running_loss / mini))\n",
        "                ep_lossi.append(running_loss/mini) # loss per minibatch\n",
        "                running_loss = 0.0\n",
        "        \n",
        "        # if(np.mean(ep_lossi)<=0.01):\n",
        "        #     break\n",
        "        loss_curi.append(np.mean(ep_lossi))   #loss per epoch\n",
        "\n",
        "\n",
        "\n",
        "\n",
        "    print('Finished Training')\n",
        "#     torch.save(inc.state_dict(),\"/content/drive/My Drive/Research/Experiments on CIFAR mosaic/Exp_2_Attention_models_on_9_datasets_made_from_10k_mosaic/weights/train_dataset_\"+str(ds_number)+\"_\"+str(epochs)+\".pt\")\n",
        "    \n",
        "    correct = 0\n",
        "    total = 0\n",
        "    with torch.no_grad():\n",
        "        for data in trainloader:\n",
        "            images, labels = data\n",
        "            images, labels = images.to(\"cuda\"), labels.to(\"cuda\")\n",
        "            outputs = inc(images)\n",
        "            _, predicted = torch.max(outputs.data, 1)\n",
        "            total += labels.size(0)\n",
        "            correct += (predicted == labels).sum().item()\n",
        "\n",
        "    print('Accuracy of the network on the 1000 train images: %d %%' % (  100 * correct / total))\n",
        "    \n",
        "    test_list=[]\n",
        "    for i, j in enumerate(testloader_list):\n",
        "        test_list.append(test_all(i+1, j,inc))\n",
        "    \n",
        "    print(\"--\"*40)\n",
        "    \n",
        "    return loss_curi,test_list"
      ],
      "execution_count": 0,
      "outputs": []
    },
    {
      "cell_type": "code",
      "metadata": {
        "id": "xC65oNSz7re3",
        "colab_type": "code",
        "colab": {
          "base_uri": "https://localhost:8080/",
          "height": 1000
        },
        "outputId": "bb1d3755-87da-4111-cfa1-4d1dd6dc0eec"
      },
      "source": [
        "train_loss_all=[]\n",
        "\n",
        "testloader_list= [ testloader_1, testloader_2, testloader_3, testloader_4, testloader_5, testloader_6,\n",
        "                 testloader_7, testloader_8, testloader_9]\n",
        "\n",
        "test1 = train_loss_all.append(train_all(trainloader_1, 1, testloader_list))\n",
        "test2 = train_loss_all.append(train_all(trainloader_2, 2, testloader_list))\n",
        "test3 = train_loss_all.append(train_all(trainloader_3, 3, testloader_list))\n",
        "test4 = train_loss_all.append(train_all(trainloader_4, 4, testloader_list))\n",
        "test5 = train_loss_all.append(train_all(trainloader_5, 5, testloader_list))\n",
        "test6 = train_loss_all.append(train_all(trainloader_6, 6, testloader_list))\n",
        "test7 = train_loss_all.append(train_all(trainloader_7, 7, testloader_list))\n",
        "test8 = train_loss_all.append(train_all(trainloader_8, 8, testloader_list))\n",
        "test9 = train_loss_all.append(train_all(trainloader_9, 9, testloader_list))"
      ],
      "execution_count": 427,
      "outputs": [
        {
          "output_type": "stream",
          "text": [
            "--------------------------------------------------------------------------------\n",
            "training on data set   1\n",
            "[1,     4] loss: 1.107\n",
            "[2,     4] loss: 1.097\n",
            "[3,     4] loss: 1.080\n",
            "[4,     4] loss: 1.061\n",
            "[5,     4] loss: 1.041\n",
            "[6,     4] loss: 1.020\n",
            "[7,     4] loss: 0.998\n",
            "[8,     4] loss: 0.974\n",
            "[9,     4] loss: 0.949\n",
            "[10,     4] loss: 0.923\n",
            "[11,     4] loss: 0.894\n",
            "[12,     4] loss: 0.862\n",
            "[13,     4] loss: 0.828\n",
            "[14,     4] loss: 0.791\n",
            "[15,     4] loss: 0.752\n",
            "[16,     4] loss: 0.711\n",
            "[17,     4] loss: 0.667\n",
            "[18,     4] loss: 0.623\n",
            "[19,     4] loss: 0.580\n",
            "[20,     4] loss: 0.539\n",
            "[21,     4] loss: 0.499\n",
            "[22,     4] loss: 0.460\n",
            "[23,     4] loss: 0.425\n",
            "[24,     4] loss: 0.391\n",
            "[25,     4] loss: 0.359\n",
            "[26,     4] loss: 0.330\n",
            "[27,     4] loss: 0.303\n",
            "[28,     4] loss: 0.276\n",
            "[29,     4] loss: 0.252\n",
            "[30,     4] loss: 0.230\n",
            "[31,     4] loss: 0.209\n",
            "[32,     4] loss: 0.190\n",
            "[33,     4] loss: 0.173\n",
            "[34,     4] loss: 0.158\n",
            "[35,     4] loss: 0.144\n",
            "[36,     4] loss: 0.131\n",
            "[37,     4] loss: 0.120\n",
            "[38,     4] loss: 0.110\n",
            "[39,     4] loss: 0.100\n",
            "[40,     4] loss: 0.092\n",
            "[41,     4] loss: 0.085\n",
            "[42,     4] loss: 0.078\n",
            "[43,     4] loss: 0.073\n",
            "[44,     4] loss: 0.067\n",
            "[45,     4] loss: 0.063\n",
            "[46,     4] loss: 0.058\n",
            "[47,     4] loss: 0.055\n",
            "[48,     4] loss: 0.051\n",
            "[49,     4] loss: 0.048\n",
            "[50,     4] loss: 0.045\n",
            "[51,     4] loss: 0.043\n",
            "[52,     4] loss: 0.040\n",
            "[53,     4] loss: 0.038\n",
            "[54,     4] loss: 0.036\n",
            "[55,     4] loss: 0.034\n",
            "[56,     4] loss: 0.033\n",
            "[57,     4] loss: 0.031\n",
            "[58,     4] loss: 0.030\n",
            "[59,     4] loss: 0.029\n",
            "[60,     4] loss: 0.027\n",
            "[61,     4] loss: 0.026\n",
            "[62,     4] loss: 0.025\n",
            "[63,     4] loss: 0.024\n",
            "[64,     4] loss: 0.023\n",
            "[65,     4] loss: 0.022\n",
            "[66,     4] loss: 0.022\n",
            "[67,     4] loss: 0.021\n",
            "[68,     4] loss: 0.020\n",
            "[69,     4] loss: 0.019\n",
            "[70,     4] loss: 0.019\n",
            "Finished Training\n",
            "Accuracy of the network on the 1000 train images: 100 %\n",
            "Accuracy of the network on the 1000 test dataset 1: 100 %\n",
            "Accuracy of the network on the 1000 test dataset 2: 99 %\n",
            "Accuracy of the network on the 1000 test dataset 3: 83 %\n",
            "Accuracy of the network on the 1000 test dataset 4: 71 %\n",
            "Accuracy of the network on the 1000 test dataset 5: 68 %\n",
            "Accuracy of the network on the 1000 test dataset 6: 67 %\n",
            "Accuracy of the network on the 1000 test dataset 7: 66 %\n",
            "Accuracy of the network on the 1000 test dataset 8: 66 %\n",
            "Accuracy of the network on the 1000 test dataset 9: 66 %\n",
            "--------------------------------------------------------------------------------\n",
            "--------------------------------------------------------------------------------\n",
            "training on data set   2\n",
            "[1,     4] loss: 1.066\n",
            "[2,     4] loss: 1.029\n",
            "[3,     4] loss: 0.968\n",
            "[4,     4] loss: 0.897\n",
            "[5,     4] loss: 0.820\n",
            "[6,     4] loss: 0.740\n",
            "[7,     4] loss: 0.659\n",
            "[8,     4] loss: 0.582\n",
            "[9,     4] loss: 0.509\n",
            "[10,     4] loss: 0.447\n",
            "[11,     4] loss: 0.394\n",
            "[12,     4] loss: 0.347\n",
            "[13,     4] loss: 0.308\n",
            "[14,     4] loss: 0.274\n",
            "[15,     4] loss: 0.245\n",
            "[16,     4] loss: 0.219\n",
            "[17,     4] loss: 0.197\n",
            "[18,     4] loss: 0.178\n",
            "[19,     4] loss: 0.161\n",
            "[20,     4] loss: 0.145\n",
            "[21,     4] loss: 0.132\n",
            "[22,     4] loss: 0.120\n",
            "[23,     4] loss: 0.110\n",
            "[24,     4] loss: 0.100\n",
            "[25,     4] loss: 0.092\n",
            "[26,     4] loss: 0.084\n",
            "[27,     4] loss: 0.077\n",
            "[28,     4] loss: 0.071\n",
            "[29,     4] loss: 0.065\n",
            "[30,     4] loss: 0.061\n",
            "[31,     4] loss: 0.056\n",
            "[32,     4] loss: 0.052\n",
            "[33,     4] loss: 0.049\n",
            "[34,     4] loss: 0.045\n",
            "[35,     4] loss: 0.042\n",
            "[36,     4] loss: 0.040\n",
            "[37,     4] loss: 0.037\n",
            "[38,     4] loss: 0.035\n",
            "[39,     4] loss: 0.033\n",
            "[40,     4] loss: 0.031\n",
            "[41,     4] loss: 0.030\n",
            "[42,     4] loss: 0.028\n",
            "[43,     4] loss: 0.027\n",
            "[44,     4] loss: 0.025\n",
            "[45,     4] loss: 0.024\n",
            "[46,     4] loss: 0.023\n",
            "[47,     4] loss: 0.022\n",
            "[48,     4] loss: 0.021\n",
            "[49,     4] loss: 0.020\n",
            "[50,     4] loss: 0.019\n",
            "[51,     4] loss: 0.019\n",
            "[52,     4] loss: 0.018\n",
            "[53,     4] loss: 0.017\n",
            "[54,     4] loss: 0.017\n",
            "[55,     4] loss: 0.016\n",
            "[56,     4] loss: 0.015\n",
            "[57,     4] loss: 0.015\n",
            "[58,     4] loss: 0.014\n",
            "[59,     4] loss: 0.014\n",
            "[60,     4] loss: 0.013\n",
            "[61,     4] loss: 0.013\n",
            "[62,     4] loss: 0.013\n",
            "[63,     4] loss: 0.012\n",
            "[64,     4] loss: 0.012\n",
            "[65,     4] loss: 0.012\n",
            "[66,     4] loss: 0.011\n",
            "[67,     4] loss: 0.011\n",
            "[68,     4] loss: 0.011\n",
            "[69,     4] loss: 0.010\n",
            "[70,     4] loss: 0.010\n",
            "Finished Training\n",
            "Accuracy of the network on the 1000 train images: 100 %\n",
            "Accuracy of the network on the 1000 test dataset 1: 81 %\n",
            "Accuracy of the network on the 1000 test dataset 2: 100 %\n",
            "Accuracy of the network on the 1000 test dataset 3: 100 %\n",
            "Accuracy of the network on the 1000 test dataset 4: 99 %\n",
            "Accuracy of the network on the 1000 test dataset 5: 99 %\n",
            "Accuracy of the network on the 1000 test dataset 6: 98 %\n",
            "Accuracy of the network on the 1000 test dataset 7: 94 %\n",
            "Accuracy of the network on the 1000 test dataset 8: 89 %\n",
            "Accuracy of the network on the 1000 test dataset 9: 86 %\n",
            "--------------------------------------------------------------------------------\n",
            "--------------------------------------------------------------------------------\n",
            "training on data set   3\n",
            "[1,     4] loss: 1.139\n",
            "[2,     4] loss: 1.057\n",
            "[3,     4] loss: 0.937\n",
            "[4,     4] loss: 0.803\n",
            "[5,     4] loss: 0.669\n",
            "[6,     4] loss: 0.539\n",
            "[7,     4] loss: 0.428\n",
            "[8,     4] loss: 0.337\n",
            "[9,     4] loss: 0.267\n",
            "[10,     4] loss: 0.214\n",
            "[11,     4] loss: 0.176\n",
            "[12,     4] loss: 0.147\n",
            "[13,     4] loss: 0.127\n",
            "[14,     4] loss: 0.111\n",
            "[15,     4] loss: 0.099\n",
            "[16,     4] loss: 0.089\n",
            "[17,     4] loss: 0.081\n",
            "[18,     4] loss: 0.075\n",
            "[19,     4] loss: 0.069\n",
            "[20,     4] loss: 0.063\n",
            "[21,     4] loss: 0.059\n",
            "[22,     4] loss: 0.055\n",
            "[23,     4] loss: 0.052\n",
            "[24,     4] loss: 0.049\n",
            "[25,     4] loss: 0.046\n",
            "[26,     4] loss: 0.044\n",
            "[27,     4] loss: 0.041\n",
            "[28,     4] loss: 0.039\n",
            "[29,     4] loss: 0.037\n",
            "[30,     4] loss: 0.035\n",
            "[31,     4] loss: 0.033\n",
            "[32,     4] loss: 0.032\n",
            "[33,     4] loss: 0.030\n",
            "[34,     4] loss: 0.029\n",
            "[35,     4] loss: 0.028\n",
            "[36,     4] loss: 0.027\n",
            "[37,     4] loss: 0.026\n",
            "[38,     4] loss: 0.025\n",
            "[39,     4] loss: 0.024\n",
            "[40,     4] loss: 0.023\n",
            "[41,     4] loss: 0.022\n",
            "[42,     4] loss: 0.021\n",
            "[43,     4] loss: 0.020\n",
            "[44,     4] loss: 0.019\n",
            "[45,     4] loss: 0.019\n",
            "[46,     4] loss: 0.018\n",
            "[47,     4] loss: 0.018\n",
            "[48,     4] loss: 0.017\n",
            "[49,     4] loss: 0.017\n",
            "[50,     4] loss: 0.016\n",
            "[51,     4] loss: 0.015\n",
            "[52,     4] loss: 0.015\n",
            "[53,     4] loss: 0.014\n",
            "[54,     4] loss: 0.014\n",
            "[55,     4] loss: 0.014\n",
            "[56,     4] loss: 0.013\n",
            "[57,     4] loss: 0.013\n",
            "[58,     4] loss: 0.013\n",
            "[59,     4] loss: 0.012\n",
            "[60,     4] loss: 0.012\n",
            "[61,     4] loss: 0.012\n",
            "[62,     4] loss: 0.011\n",
            "[63,     4] loss: 0.011\n",
            "[64,     4] loss: 0.011\n",
            "[65,     4] loss: 0.010\n",
            "[66,     4] loss: 0.010\n",
            "[67,     4] loss: 0.010\n",
            "[68,     4] loss: 0.010\n",
            "[69,     4] loss: 0.010\n",
            "[70,     4] loss: 0.009\n",
            "Finished Training\n",
            "Accuracy of the network on the 1000 train images: 100 %\n",
            "Accuracy of the network on the 1000 test dataset 1: 65 %\n",
            "Accuracy of the network on the 1000 test dataset 2: 93 %\n",
            "Accuracy of the network on the 1000 test dataset 3: 100 %\n",
            "Accuracy of the network on the 1000 test dataset 4: 100 %\n",
            "Accuracy of the network on the 1000 test dataset 5: 100 %\n",
            "Accuracy of the network on the 1000 test dataset 6: 100 %\n",
            "Accuracy of the network on the 1000 test dataset 7: 100 %\n",
            "Accuracy of the network on the 1000 test dataset 8: 100 %\n",
            "Accuracy of the network on the 1000 test dataset 9: 100 %\n",
            "--------------------------------------------------------------------------------\n",
            "--------------------------------------------------------------------------------\n",
            "training on data set   4\n",
            "[1,     4] loss: 1.085\n",
            "[2,     4] loss: 0.951\n",
            "[3,     4] loss: 0.774\n",
            "[4,     4] loss: 0.602\n",
            "[5,     4] loss: 0.442\n",
            "[6,     4] loss: 0.305\n",
            "[7,     4] loss: 0.210\n",
            "[8,     4] loss: 0.147\n",
            "[9,     4] loss: 0.107\n",
            "[10,     4] loss: 0.080\n",
            "[11,     4] loss: 0.063\n",
            "[12,     4] loss: 0.052\n",
            "[13,     4] loss: 0.045\n",
            "[14,     4] loss: 0.039\n",
            "[15,     4] loss: 0.035\n",
            "[16,     4] loss: 0.032\n",
            "[17,     4] loss: 0.030\n",
            "[18,     4] loss: 0.028\n",
            "[19,     4] loss: 0.026\n",
            "[20,     4] loss: 0.025\n",
            "[21,     4] loss: 0.023\n",
            "[22,     4] loss: 0.022\n",
            "[23,     4] loss: 0.021\n",
            "[24,     4] loss: 0.020\n",
            "[25,     4] loss: 0.020\n",
            "[26,     4] loss: 0.019\n",
            "[27,     4] loss: 0.018\n",
            "[28,     4] loss: 0.017\n",
            "[29,     4] loss: 0.017\n",
            "[30,     4] loss: 0.016\n",
            "[31,     4] loss: 0.016\n",
            "[32,     4] loss: 0.015\n",
            "[33,     4] loss: 0.015\n",
            "[34,     4] loss: 0.014\n",
            "[35,     4] loss: 0.014\n",
            "[36,     4] loss: 0.014\n",
            "[37,     4] loss: 0.014\n",
            "[38,     4] loss: 0.013\n",
            "[39,     4] loss: 0.013\n",
            "[40,     4] loss: 0.013\n",
            "[41,     4] loss: 0.012\n",
            "[42,     4] loss: 0.012\n",
            "[43,     4] loss: 0.012\n",
            "[44,     4] loss: 0.011\n",
            "[45,     4] loss: 0.011\n",
            "[46,     4] loss: 0.011\n",
            "[47,     4] loss: 0.011\n",
            "[48,     4] loss: 0.010\n",
            "[49,     4] loss: 0.010\n",
            "[50,     4] loss: 0.010\n",
            "[51,     4] loss: 0.010\n",
            "[52,     4] loss: 0.010\n",
            "[53,     4] loss: 0.009\n",
            "[54,     4] loss: 0.009\n",
            "[55,     4] loss: 0.009\n",
            "[56,     4] loss: 0.009\n",
            "[57,     4] loss: 0.009\n",
            "[58,     4] loss: 0.009\n",
            "[59,     4] loss: 0.008\n",
            "[60,     4] loss: 0.008\n",
            "[61,     4] loss: 0.008\n",
            "[62,     4] loss: 0.008\n",
            "[63,     4] loss: 0.008\n",
            "[64,     4] loss: 0.008\n",
            "[65,     4] loss: 0.008\n",
            "[66,     4] loss: 0.008\n",
            "[67,     4] loss: 0.007\n",
            "[68,     4] loss: 0.007\n",
            "[69,     4] loss: 0.007\n",
            "[70,     4] loss: 0.007\n",
            "Finished Training\n",
            "Accuracy of the network on the 1000 train images: 99 %\n",
            "Accuracy of the network on the 1000 test dataset 1: 53 %\n",
            "Accuracy of the network on the 1000 test dataset 2: 81 %\n",
            "Accuracy of the network on the 1000 test dataset 3: 97 %\n",
            "Accuracy of the network on the 1000 test dataset 4: 99 %\n",
            "Accuracy of the network on the 1000 test dataset 5: 100 %\n",
            "Accuracy of the network on the 1000 test dataset 6: 100 %\n",
            "Accuracy of the network on the 1000 test dataset 7: 100 %\n",
            "Accuracy of the network on the 1000 test dataset 8: 100 %\n",
            "Accuracy of the network on the 1000 test dataset 9: 100 %\n",
            "--------------------------------------------------------------------------------\n",
            "--------------------------------------------------------------------------------\n",
            "training on data set   5\n",
            "[1,     4] loss: 1.050\n",
            "[2,     4] loss: 0.889\n",
            "[3,     4] loss: 0.691\n",
            "[4,     4] loss: 0.508\n",
            "[5,     4] loss: 0.349\n",
            "[6,     4] loss: 0.225\n",
            "[7,     4] loss: 0.142\n",
            "[8,     4] loss: 0.091\n",
            "[9,     4] loss: 0.060\n",
            "[10,     4] loss: 0.042\n",
            "[11,     4] loss: 0.031\n",
            "[12,     4] loss: 0.024\n",
            "[13,     4] loss: 0.019\n",
            "[14,     4] loss: 0.016\n",
            "[15,     4] loss: 0.014\n",
            "[16,     4] loss: 0.012\n",
            "[17,     4] loss: 0.011\n",
            "[18,     4] loss: 0.010\n",
            "[19,     4] loss: 0.010\n",
            "[20,     4] loss: 0.009\n",
            "[21,     4] loss: 0.008\n",
            "[22,     4] loss: 0.008\n",
            "[23,     4] loss: 0.008\n",
            "[24,     4] loss: 0.007\n",
            "[25,     4] loss: 0.007\n",
            "[26,     4] loss: 0.007\n",
            "[27,     4] loss: 0.006\n",
            "[28,     4] loss: 0.006\n",
            "[29,     4] loss: 0.006\n",
            "[30,     4] loss: 0.006\n",
            "[31,     4] loss: 0.005\n",
            "[32,     4] loss: 0.005\n",
            "[33,     4] loss: 0.005\n",
            "[34,     4] loss: 0.005\n",
            "[35,     4] loss: 0.005\n",
            "[36,     4] loss: 0.005\n",
            "[37,     4] loss: 0.005\n",
            "[38,     4] loss: 0.004\n",
            "[39,     4] loss: 0.004\n",
            "[40,     4] loss: 0.004\n",
            "[41,     4] loss: 0.004\n",
            "[42,     4] loss: 0.004\n",
            "[43,     4] loss: 0.004\n",
            "[44,     4] loss: 0.004\n",
            "[45,     4] loss: 0.004\n",
            "[46,     4] loss: 0.004\n",
            "[47,     4] loss: 0.004\n",
            "[48,     4] loss: 0.003\n",
            "[49,     4] loss: 0.003\n",
            "[50,     4] loss: 0.003\n",
            "[51,     4] loss: 0.003\n",
            "[52,     4] loss: 0.003\n",
            "[53,     4] loss: 0.003\n",
            "[54,     4] loss: 0.003\n",
            "[55,     4] loss: 0.003\n",
            "[56,     4] loss: 0.003\n",
            "[57,     4] loss: 0.003\n",
            "[58,     4] loss: 0.003\n",
            "[59,     4] loss: 0.003\n",
            "[60,     4] loss: 0.003\n",
            "[61,     4] loss: 0.003\n",
            "[62,     4] loss: 0.003\n",
            "[63,     4] loss: 0.003\n",
            "[64,     4] loss: 0.003\n",
            "[65,     4] loss: 0.002\n",
            "[66,     4] loss: 0.002\n",
            "[67,     4] loss: 0.002\n",
            "[68,     4] loss: 0.002\n",
            "[69,     4] loss: 0.002\n",
            "[70,     4] loss: 0.002\n",
            "Finished Training\n",
            "Accuracy of the network on the 1000 train images: 100 %\n",
            "Accuracy of the network on the 1000 test dataset 1: 53 %\n",
            "Accuracy of the network on the 1000 test dataset 2: 76 %\n",
            "Accuracy of the network on the 1000 test dataset 3: 94 %\n",
            "Accuracy of the network on the 1000 test dataset 4: 99 %\n",
            "Accuracy of the network on the 1000 test dataset 5: 100 %\n",
            "Accuracy of the network on the 1000 test dataset 6: 100 %\n",
            "Accuracy of the network on the 1000 test dataset 7: 100 %\n",
            "Accuracy of the network on the 1000 test dataset 8: 100 %\n",
            "Accuracy of the network on the 1000 test dataset 9: 100 %\n",
            "--------------------------------------------------------------------------------\n",
            "--------------------------------------------------------------------------------\n",
            "training on data set   6\n",
            "[1,     4] loss: 1.048\n",
            "[2,     4] loss: 0.784\n",
            "[3,     4] loss: 0.553\n",
            "[4,     4] loss: 0.342\n",
            "[5,     4] loss: 0.185\n",
            "[6,     4] loss: 0.097\n",
            "[7,     4] loss: 0.055\n",
            "[8,     4] loss: 0.032\n",
            "[9,     4] loss: 0.020\n",
            "[10,     4] loss: 0.014\n",
            "[11,     4] loss: 0.010\n",
            "[12,     4] loss: 0.008\n",
            "[13,     4] loss: 0.007\n",
            "[14,     4] loss: 0.006\n",
            "[15,     4] loss: 0.006\n",
            "[16,     4] loss: 0.005\n",
            "[17,     4] loss: 0.005\n",
            "[18,     4] loss: 0.004\n",
            "[19,     4] loss: 0.004\n",
            "[20,     4] loss: 0.004\n",
            "[21,     4] loss: 0.004\n",
            "[22,     4] loss: 0.004\n",
            "[23,     4] loss: 0.003\n",
            "[24,     4] loss: 0.003\n",
            "[25,     4] loss: 0.003\n",
            "[26,     4] loss: 0.003\n",
            "[27,     4] loss: 0.003\n",
            "[28,     4] loss: 0.003\n",
            "[29,     4] loss: 0.003\n",
            "[30,     4] loss: 0.003\n",
            "[31,     4] loss: 0.003\n",
            "[32,     4] loss: 0.003\n",
            "[33,     4] loss: 0.002\n",
            "[34,     4] loss: 0.002\n",
            "[35,     4] loss: 0.002\n",
            "[36,     4] loss: 0.002\n",
            "[37,     4] loss: 0.002\n",
            "[38,     4] loss: 0.002\n",
            "[39,     4] loss: 0.002\n",
            "[40,     4] loss: 0.002\n",
            "[41,     4] loss: 0.002\n",
            "[42,     4] loss: 0.002\n",
            "[43,     4] loss: 0.002\n",
            "[44,     4] loss: 0.002\n",
            "[45,     4] loss: 0.002\n",
            "[46,     4] loss: 0.002\n",
            "[47,     4] loss: 0.002\n",
            "[48,     4] loss: 0.002\n",
            "[49,     4] loss: 0.002\n",
            "[50,     4] loss: 0.002\n",
            "[51,     4] loss: 0.002\n",
            "[52,     4] loss: 0.002\n",
            "[53,     4] loss: 0.002\n",
            "[54,     4] loss: 0.002\n",
            "[55,     4] loss: 0.002\n",
            "[56,     4] loss: 0.002\n",
            "[57,     4] loss: 0.001\n",
            "[58,     4] loss: 0.001\n",
            "[59,     4] loss: 0.001\n",
            "[60,     4] loss: 0.001\n",
            "[61,     4] loss: 0.001\n",
            "[62,     4] loss: 0.001\n",
            "[63,     4] loss: 0.001\n",
            "[64,     4] loss: 0.001\n",
            "[65,     4] loss: 0.001\n",
            "[66,     4] loss: 0.001\n",
            "[67,     4] loss: 0.001\n",
            "[68,     4] loss: 0.001\n",
            "[69,     4] loss: 0.001\n",
            "[70,     4] loss: 0.001\n",
            "Finished Training\n",
            "Accuracy of the network on the 1000 train images: 100 %\n",
            "Accuracy of the network on the 1000 test dataset 1: 52 %\n",
            "Accuracy of the network on the 1000 test dataset 2: 75 %\n",
            "Accuracy of the network on the 1000 test dataset 3: 92 %\n",
            "Accuracy of the network on the 1000 test dataset 4: 99 %\n",
            "Accuracy of the network on the 1000 test dataset 5: 100 %\n",
            "Accuracy of the network on the 1000 test dataset 6: 100 %\n",
            "Accuracy of the network on the 1000 test dataset 7: 100 %\n",
            "Accuracy of the network on the 1000 test dataset 8: 100 %\n",
            "Accuracy of the network on the 1000 test dataset 9: 100 %\n",
            "--------------------------------------------------------------------------------\n",
            "--------------------------------------------------------------------------------\n",
            "training on data set   7\n",
            "[1,     4] loss: 1.020\n",
            "[2,     4] loss: 0.765\n",
            "[3,     4] loss: 0.500\n",
            "[4,     4] loss: 0.297\n",
            "[5,     4] loss: 0.157\n",
            "[6,     4] loss: 0.077\n",
            "[7,     4] loss: 0.041\n",
            "[8,     4] loss: 0.024\n",
            "[9,     4] loss: 0.016\n",
            "[10,     4] loss: 0.011\n",
            "[11,     4] loss: 0.008\n",
            "[12,     4] loss: 0.006\n",
            "[13,     4] loss: 0.005\n",
            "[14,     4] loss: 0.005\n",
            "[15,     4] loss: 0.004\n",
            "[16,     4] loss: 0.004\n",
            "[17,     4] loss: 0.004\n",
            "[18,     4] loss: 0.003\n",
            "[19,     4] loss: 0.003\n",
            "[20,     4] loss: 0.003\n",
            "[21,     4] loss: 0.003\n",
            "[22,     4] loss: 0.003\n",
            "[23,     4] loss: 0.003\n",
            "[24,     4] loss: 0.003\n",
            "[25,     4] loss: 0.002\n",
            "[26,     4] loss: 0.002\n",
            "[27,     4] loss: 0.002\n",
            "[28,     4] loss: 0.002\n",
            "[29,     4] loss: 0.002\n",
            "[30,     4] loss: 0.002\n",
            "[31,     4] loss: 0.002\n",
            "[32,     4] loss: 0.002\n",
            "[33,     4] loss: 0.002\n",
            "[34,     4] loss: 0.002\n",
            "[35,     4] loss: 0.002\n",
            "[36,     4] loss: 0.002\n",
            "[37,     4] loss: 0.002\n",
            "[38,     4] loss: 0.002\n",
            "[39,     4] loss: 0.002\n",
            "[40,     4] loss: 0.002\n",
            "[41,     4] loss: 0.002\n",
            "[42,     4] loss: 0.002\n",
            "[43,     4] loss: 0.001\n",
            "[44,     4] loss: 0.001\n",
            "[45,     4] loss: 0.001\n",
            "[46,     4] loss: 0.001\n",
            "[47,     4] loss: 0.001\n",
            "[48,     4] loss: 0.001\n",
            "[49,     4] loss: 0.001\n",
            "[50,     4] loss: 0.001\n",
            "[51,     4] loss: 0.001\n",
            "[52,     4] loss: 0.001\n",
            "[53,     4] loss: 0.001\n",
            "[54,     4] loss: 0.001\n",
            "[55,     4] loss: 0.001\n",
            "[56,     4] loss: 0.001\n",
            "[57,     4] loss: 0.001\n",
            "[58,     4] loss: 0.001\n",
            "[59,     4] loss: 0.001\n",
            "[60,     4] loss: 0.001\n",
            "[61,     4] loss: 0.001\n",
            "[62,     4] loss: 0.001\n",
            "[63,     4] loss: 0.001\n",
            "[64,     4] loss: 0.001\n",
            "[65,     4] loss: 0.001\n",
            "[66,     4] loss: 0.001\n",
            "[67,     4] loss: 0.001\n",
            "[68,     4] loss: 0.001\n",
            "[69,     4] loss: 0.001\n",
            "[70,     4] loss: 0.001\n",
            "Finished Training\n",
            "Accuracy of the network on the 1000 train images: 100 %\n",
            "Accuracy of the network on the 1000 test dataset 1: 49 %\n",
            "Accuracy of the network on the 1000 test dataset 2: 72 %\n",
            "Accuracy of the network on the 1000 test dataset 3: 90 %\n",
            "Accuracy of the network on the 1000 test dataset 4: 99 %\n",
            "Accuracy of the network on the 1000 test dataset 5: 100 %\n",
            "Accuracy of the network on the 1000 test dataset 6: 100 %\n",
            "Accuracy of the network on the 1000 test dataset 7: 100 %\n",
            "Accuracy of the network on the 1000 test dataset 8: 100 %\n",
            "Accuracy of the network on the 1000 test dataset 9: 100 %\n",
            "--------------------------------------------------------------------------------\n",
            "--------------------------------------------------------------------------------\n",
            "training on data set   8\n",
            "[1,     4] loss: 1.145\n",
            "[2,     4] loss: 0.728\n",
            "[3,     4] loss: 0.411\n",
            "[4,     4] loss: 0.200\n",
            "[5,     4] loss: 0.085\n",
            "[6,     4] loss: 0.039\n",
            "[7,     4] loss: 0.021\n",
            "[8,     4] loss: 0.012\n",
            "[9,     4] loss: 0.008\n",
            "[10,     4] loss: 0.005\n",
            "[11,     4] loss: 0.004\n",
            "[12,     4] loss: 0.003\n",
            "[13,     4] loss: 0.003\n",
            "[14,     4] loss: 0.003\n",
            "[15,     4] loss: 0.002\n",
            "[16,     4] loss: 0.002\n",
            "[17,     4] loss: 0.002\n",
            "[18,     4] loss: 0.002\n",
            "[19,     4] loss: 0.002\n",
            "[20,     4] loss: 0.002\n",
            "[21,     4] loss: 0.002\n",
            "[22,     4] loss: 0.002\n",
            "[23,     4] loss: 0.002\n",
            "[24,     4] loss: 0.002\n",
            "[25,     4] loss: 0.002\n",
            "[26,     4] loss: 0.002\n",
            "[27,     4] loss: 0.001\n",
            "[28,     4] loss: 0.001\n",
            "[29,     4] loss: 0.001\n",
            "[30,     4] loss: 0.001\n",
            "[31,     4] loss: 0.001\n",
            "[32,     4] loss: 0.001\n",
            "[33,     4] loss: 0.001\n",
            "[34,     4] loss: 0.001\n",
            "[35,     4] loss: 0.001\n",
            "[36,     4] loss: 0.001\n",
            "[37,     4] loss: 0.001\n",
            "[38,     4] loss: 0.001\n",
            "[39,     4] loss: 0.001\n",
            "[40,     4] loss: 0.001\n",
            "[41,     4] loss: 0.001\n",
            "[42,     4] loss: 0.001\n",
            "[43,     4] loss: 0.001\n",
            "[44,     4] loss: 0.001\n",
            "[45,     4] loss: 0.001\n",
            "[46,     4] loss: 0.001\n",
            "[47,     4] loss: 0.001\n",
            "[48,     4] loss: 0.001\n",
            "[49,     4] loss: 0.001\n",
            "[50,     4] loss: 0.001\n",
            "[51,     4] loss: 0.001\n",
            "[52,     4] loss: 0.001\n",
            "[53,     4] loss: 0.001\n",
            "[54,     4] loss: 0.001\n",
            "[55,     4] loss: 0.001\n",
            "[56,     4] loss: 0.001\n",
            "[57,     4] loss: 0.001\n",
            "[58,     4] loss: 0.001\n",
            "[59,     4] loss: 0.001\n",
            "[60,     4] loss: 0.001\n",
            "[61,     4] loss: 0.001\n",
            "[62,     4] loss: 0.001\n",
            "[63,     4] loss: 0.001\n",
            "[64,     4] loss: 0.001\n",
            "[65,     4] loss: 0.001\n",
            "[66,     4] loss: 0.001\n",
            "[67,     4] loss: 0.001\n",
            "[68,     4] loss: 0.001\n",
            "[69,     4] loss: 0.001\n",
            "[70,     4] loss: 0.001\n",
            "Finished Training\n",
            "Accuracy of the network on the 1000 train images: 100 %\n",
            "Accuracy of the network on the 1000 test dataset 1: 50 %\n",
            "Accuracy of the network on the 1000 test dataset 2: 74 %\n",
            "Accuracy of the network on the 1000 test dataset 3: 92 %\n",
            "Accuracy of the network on the 1000 test dataset 4: 99 %\n",
            "Accuracy of the network on the 1000 test dataset 5: 100 %\n",
            "Accuracy of the network on the 1000 test dataset 6: 100 %\n",
            "Accuracy of the network on the 1000 test dataset 7: 100 %\n",
            "Accuracy of the network on the 1000 test dataset 8: 100 %\n",
            "Accuracy of the network on the 1000 test dataset 9: 100 %\n",
            "--------------------------------------------------------------------------------\n",
            "--------------------------------------------------------------------------------\n",
            "training on data set   9\n",
            "[1,     4] loss: 1.118\n",
            "[2,     4] loss: 0.666\n",
            "[3,     4] loss: 0.350\n",
            "[4,     4] loss: 0.168\n",
            "[5,     4] loss: 0.072\n",
            "[6,     4] loss: 0.030\n",
            "[7,     4] loss: 0.015\n",
            "[8,     4] loss: 0.008\n",
            "[9,     4] loss: 0.005\n",
            "[10,     4] loss: 0.004\n",
            "[11,     4] loss: 0.003\n",
            "[12,     4] loss: 0.003\n",
            "[13,     4] loss: 0.002\n",
            "[14,     4] loss: 0.002\n",
            "[15,     4] loss: 0.002\n",
            "[16,     4] loss: 0.002\n",
            "[17,     4] loss: 0.002\n",
            "[18,     4] loss: 0.001\n",
            "[19,     4] loss: 0.001\n",
            "[20,     4] loss: 0.001\n",
            "[21,     4] loss: 0.001\n",
            "[22,     4] loss: 0.001\n",
            "[23,     4] loss: 0.001\n",
            "[24,     4] loss: 0.001\n",
            "[25,     4] loss: 0.001\n",
            "[26,     4] loss: 0.001\n",
            "[27,     4] loss: 0.001\n",
            "[28,     4] loss: 0.001\n",
            "[29,     4] loss: 0.001\n",
            "[30,     4] loss: 0.001\n",
            "[31,     4] loss: 0.001\n",
            "[32,     4] loss: 0.001\n",
            "[33,     4] loss: 0.001\n",
            "[34,     4] loss: 0.001\n",
            "[35,     4] loss: 0.001\n",
            "[36,     4] loss: 0.001\n",
            "[37,     4] loss: 0.001\n",
            "[38,     4] loss: 0.001\n",
            "[39,     4] loss: 0.001\n",
            "[40,     4] loss: 0.001\n",
            "[41,     4] loss: 0.001\n",
            "[42,     4] loss: 0.001\n",
            "[43,     4] loss: 0.001\n",
            "[44,     4] loss: 0.001\n",
            "[45,     4] loss: 0.001\n",
            "[46,     4] loss: 0.001\n",
            "[47,     4] loss: 0.001\n",
            "[48,     4] loss: 0.001\n",
            "[49,     4] loss: 0.001\n",
            "[50,     4] loss: 0.001\n",
            "[51,     4] loss: 0.001\n",
            "[52,     4] loss: 0.001\n",
            "[53,     4] loss: 0.001\n",
            "[54,     4] loss: 0.001\n",
            "[55,     4] loss: 0.001\n",
            "[56,     4] loss: 0.001\n",
            "[57,     4] loss: 0.001\n",
            "[58,     4] loss: 0.001\n",
            "[59,     4] loss: 0.001\n",
            "[60,     4] loss: 0.001\n",
            "[61,     4] loss: 0.001\n",
            "[62,     4] loss: 0.001\n",
            "[63,     4] loss: 0.001\n",
            "[64,     4] loss: 0.001\n",
            "[65,     4] loss: 0.001\n",
            "[66,     4] loss: 0.001\n",
            "[67,     4] loss: 0.001\n",
            "[68,     4] loss: 0.001\n",
            "[69,     4] loss: 0.001\n",
            "[70,     4] loss: 0.001\n",
            "Finished Training\n",
            "Accuracy of the network on the 1000 train images: 100 %\n",
            "Accuracy of the network on the 1000 test dataset 1: 53 %\n",
            "Accuracy of the network on the 1000 test dataset 2: 73 %\n",
            "Accuracy of the network on the 1000 test dataset 3: 90 %\n",
            "Accuracy of the network on the 1000 test dataset 4: 98 %\n",
            "Accuracy of the network on the 1000 test dataset 5: 100 %\n",
            "Accuracy of the network on the 1000 test dataset 6: 100 %\n",
            "Accuracy of the network on the 1000 test dataset 7: 100 %\n",
            "Accuracy of the network on the 1000 test dataset 8: 100 %\n",
            "Accuracy of the network on the 1000 test dataset 9: 100 %\n",
            "--------------------------------------------------------------------------------\n"
          ],
          "name": "stdout"
        }
      ]
    },
    {
      "cell_type": "code",
      "metadata": {
        "id": "kdh1-GQ17re7",
        "colab_type": "code",
        "colab": {
          "base_uri": "https://localhost:8080/",
          "height": 296
        },
        "outputId": "1b22aed4-8319-4710-cd34-f2ab7b12eee5"
      },
      "source": [
        "ds = np.arange(1,10)\n",
        "for i in range(9):\n",
        "  plt.plot(ds,train_loss_all[i][1], label=\"dataset_\"+str(i+1))\n",
        "plt.legend(loc='center left', bbox_to_anchor=(1, 0.5))\n",
        "plt.xlabel(\"dataset\")\n",
        "plt.ylabel(\"train accuracy\")"
      ],
      "execution_count": 428,
      "outputs": [
        {
          "output_type": "execute_result",
          "data": {
            "text/plain": [
              "Text(0, 0.5, 'train accuracy')"
            ]
          },
          "metadata": {
            "tags": []
          },
          "execution_count": 428
        },
        {
          "output_type": "display_data",
          "data": {
            "image/png": "[encoded data removed]",
            "text/plain": [
              "<Figure size 432x288 with 1 Axes>"
            ]
          },
          "metadata": {
            "tags": []
          }
        }
      ]
    },
    {
      "cell_type": "code",
      "metadata": {
        "id": "eQVRrvG5_kgi",
        "colab_type": "code",
        "colab": {
          "base_uri": "https://localhost:8080/",
          "height": 300
        },
        "outputId": "03c4034d-0b76-47a4-851a-ed4e12b3f0db"
      },
      "source": [
        "ds = np.arange(1,71)\n",
        "for i in range(9):\n",
        "  plt.plot(ds,train_loss_all[i][0], label=\"dataset_\"+str(i))\n",
        "plt.legend(loc='center left', bbox_to_anchor=(1, 0.5))\n",
        "plt.xlabel(\"epochs\")\n",
        "plt.ylabel(\"log loss\")"
      ],
      "execution_count": 429,
      "outputs": [
        {
          "output_type": "execute_result",
          "data": {
            "text/plain": [
              "Text(0, 0.5, 'log loss')"
            ]
          },
          "metadata": {
            "tags": []
          },
          "execution_count": 429
        },
        {
          "output_type": "display_data",
          "data": {
            "image/png": "[encoded data removed]",
            "text/plain": [
              "<Figure size 432x288 with 1 Axes>"
            ]
          },
          "metadata": {
            "tags": []
          }
        }
      ]
    },
    {
      "cell_type": "code",
      "metadata": {
        "id": "fZBBg7gMA0D7",
        "colab_type": "code",
        "colab": {}
      },
      "source": [
        ""
      ],
      "execution_count": 0,
      "outputs": []
    }
  ]
}