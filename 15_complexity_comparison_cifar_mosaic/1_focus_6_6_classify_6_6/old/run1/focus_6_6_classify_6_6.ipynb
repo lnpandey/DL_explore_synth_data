{
  "nbformat": 4,
  "nbformat_minor": 0,
  "metadata": {
    "accelerator": "GPU",
    "colab": {
      "name": "focus_6_6_classify_6_6.ipynb",
      "provenance": [],
      "collapsed_sections": [],
      "machine_shape": "hm"
    },
    "kernelspec": {
      "display_name": "Python 3",
      "language": "python",
      "name": "python3"
    },
    "language_info": {
      "codemirror_mode": {
        "name": "ipython",
        "version": 3
      },
      "file_extension": ".py",
      "mimetype": "text/x-python",
      "name": "python",
      "nbconvert_exporter": "python",
      "pygments_lexer": "ipython3",
      "version": "3.6.5"
    }
  },
  "cells": [
    {
      "cell_type": "code",
      "metadata": {
        "id": "JSjG64ra4aFu"
      },
      "source": [
        "# from google.colab import drive\n",
        "# drive.mount('/content/drive')"
      ],
      "execution_count": 41,
      "outputs": []
    },
    {
      "cell_type": "code",
      "metadata": {
        "id": "V8-7SARDZErK"
      },
      "source": [
        "import torch.nn as nn\n",
        "import torch.nn.functional as F\n",
        "\n",
        "import pandas as pd\n",
        "import numpy as np\n",
        "import matplotlib.pyplot as plt\n",
        "\n",
        "import torch\n",
        "import torchvision\n",
        "import torchvision.transforms as transforms\n",
        "from torch.utils.data import Dataset, DataLoader\n",
        "from torchvision import transforms, utils\n",
        "\n",
        "from matplotlib import pyplot as plt\n",
        "\n",
        "import copy\n",
        "\n",
        "# Ignore warnings\n",
        "import warnings\n",
        "warnings.filterwarnings(\"ignore\")\n"
      ],
      "execution_count": 42,
      "outputs": []
    },
    {
      "cell_type": "code",
      "metadata": {
        "id": "acRFqJNrZErV",
        "colab": {
          "base_uri": "https://localhost:8080/"
        },
        "outputId": "9b227c2d-cd61-4354-aa50-c00c954a776b"
      },
      "source": [
        "transform = transforms.Compose(\n",
        "    [transforms.ToTensor(),\n",
        "     transforms.Normalize((0.5, 0.5, 0.5), (0.5, 0.5, 0.5))])\n",
        "\n",
        "trainset = torchvision.datasets.CIFAR10(root='./data', train=True, download=True, transform=transform)\n",
        "\n",
        "\n",
        "testset = torchvision.datasets.CIFAR10(root='./data', train=False, download=True, transform=transform)\n"
      ],
      "execution_count": 43,
      "outputs": [
        {
          "output_type": "stream",
          "text": [
            "Files already downloaded and verified\n",
            "Files already downloaded and verified\n"
          ],
          "name": "stdout"
        }
      ]
    },
    {
      "cell_type": "code",
      "metadata": {
        "id": "gh5DXuAV1tp5"
      },
      "source": [
        "trainloader = torch.utils.data.DataLoader(trainset, batch_size=10, shuffle=True)\n",
        "testloader = torch.utils.data.DataLoader(testset, batch_size=10, shuffle=False)\n",
        "\n",
        "\n",
        "classes = ('plane', 'car', 'bird', 'cat', 'deer', 'dog', 'frog', 'horse', 'ship', 'truck')\n",
        "\n",
        "foreground_classes = {'plane', 'car', 'bird'}\n",
        "\n",
        "background_classes = {'cat', 'deer', 'dog', 'frog', 'horse','ship', 'truck'}\n",
        "\n",
        "fg1,fg2,fg3 = 0,1,2"
      ],
      "execution_count": 44,
      "outputs": []
    },
    {
      "cell_type": "code",
      "metadata": {
        "id": "V_JUhwCeZErk"
      },
      "source": [
        "dataiter = iter(trainloader)\n",
        "background_data=[]\n",
        "background_label=[]\n",
        "foreground_data=[]\n",
        "foreground_label=[]\n",
        "batch_size=10\n",
        "\n",
        "for i in range(5000):\n",
        "  images, labels = dataiter.next()\n",
        "  for j in range(batch_size):\n",
        "    if(classes[labels[j]] in background_classes):\n",
        "      img = images[j].tolist()\n",
        "      background_data.append(img)\n",
        "      background_label.append(labels[j])\n",
        "    else:\n",
        "      img = images[j].tolist()\n",
        "      foreground_data.append(img)\n",
        "      foreground_label.append(labels[j])\n",
        "            \n",
        "foreground_data = torch.tensor(foreground_data)\n",
        "foreground_label = torch.tensor(foreground_label)\n",
        "background_data = torch.tensor(background_data)\n",
        "background_label = torch.tensor(background_label)"
      ],
      "execution_count": 45,
      "outputs": []
    },
    {
      "cell_type": "code",
      "metadata": {
        "id": "uW9MkktGysAp"
      },
      "source": [
        "def create_mosaic_img(bg_idx,fg_idx,fg): \n",
        "  \"\"\"\n",
        "  bg_idx : list of indexes of background_data[] to be used as background images in mosaic\n",
        "  fg_idx : index of image to be used as foreground image from foreground data\n",
        "  fg : at what position/index foreground image has to be stored out of 0-8\n",
        "  \"\"\"\n",
        "  image_list=[]\n",
        "  j=0\n",
        "  for i in range(9):\n",
        "    if i != fg:\n",
        "      image_list.append(background_data[bg_idx[j]].type(\"torch.DoubleTensor\"))\n",
        "      j+=1\n",
        "    else: \n",
        "      image_list.append(foreground_data[fg_idx].type(\"torch.DoubleTensor\"))\n",
        "      label = foreground_label[fg_idx]- fg1  # minus 7 because our fore ground classes are 7,8,9 but we have to store it as 0,1,2\n",
        "  #image_list = np.concatenate(image_list ,axis=0)\n",
        "  image_list = torch.stack(image_list) \n",
        "  return image_list,label"
      ],
      "execution_count": 46,
      "outputs": []
    },
    {
      "cell_type": "code",
      "metadata": {
        "id": "lWxkp87fNwnM"
      },
      "source": [
        "desired_num = 30000\n",
        "mosaic_list_of_images =[]      # list of mosaic images, each mosaic image is saved as list of 9 images\n",
        "fore_idx =[]                   # list of indexes at which foreground image is present in a mosaic image i.e from 0 to 9               \n",
        "mosaic_label=[]                # label of mosaic image = foreground class present in that mosaic\n",
        "for i in range(desired_num):\n",
        "  bg_idx = np.random.randint(0,35000,8)\n",
        "  fg_idx = np.random.randint(0,15000)\n",
        "  fg = np.random.randint(0,9)\n",
        "  fore_idx.append(fg)\n",
        "  image_list,label = create_mosaic_img(bg_idx,fg_idx,fg)\n",
        "  mosaic_list_of_images.append(image_list)\n",
        "  mosaic_label.append(label)"
      ],
      "execution_count": 47,
      "outputs": []
    },
    {
      "cell_type": "code",
      "metadata": {
        "id": "AJuGak6_zXgx"
      },
      "source": [
        "class MosaicDataset(Dataset):\n",
        "  \"\"\"MosaicDataset dataset.\"\"\"\n",
        "\n",
        "  def __init__(self, mosaic_list_of_images, mosaic_label, fore_idx):\n",
        "    \"\"\"\n",
        "      Args:\n",
        "        csv_file (string): Path to the csv file with annotations.\n",
        "        root_dir (string): Directory with all the images.\n",
        "        transform (callable, optional): Optional transform to be applied\n",
        "            on a sample.\n",
        "    \"\"\"\n",
        "    self.mosaic = mosaic_list_of_images\n",
        "    self.label = mosaic_label\n",
        "    self.fore_idx = fore_idx\n",
        "\n",
        "  def __len__(self):\n",
        "    return len(self.label)\n",
        "\n",
        "  def __getitem__(self, idx):\n",
        "    return self.mosaic[idx] , self.label[idx], self.fore_idx[idx]\n",
        "\n",
        "batch = 125\n",
        "msd = MosaicDataset(mosaic_list_of_images, mosaic_label , fore_idx)\n",
        "train_loader = DataLoader( msd,batch_size= batch ,shuffle=True)"
      ],
      "execution_count": 48,
      "outputs": []
    },
    {
      "cell_type": "code",
      "metadata": {
        "id": "SadRzWBBZEsP"
      },
      "source": [
        "class Focus(nn.Module):\n",
        "  def __init__(self):\n",
        "    super(Focus, self).__init__()\n",
        "    self.conv1 = nn.Conv2d(in_channels=3, out_channels=6, kernel_size=3, padding=0)\n",
        "    self.pool = nn.MaxPool2d(2, 2)\n",
        "    self.conv2 = nn.Conv2d(in_channels=6, out_channels=6, kernel_size=3, padding=0)\n",
        "    # self.conv3 = nn.Conv2d(in_channels=64, out_channels=64, kernel_size=3, padding=0)\n",
        "    self.fc1 = nn.Linear(1014, 512)\n",
        "    self.fc2 = nn.Linear(512, 64)\n",
        "    self.fc3 = nn.Linear(64, 10)\n",
        "    self.fc4 = nn.Linear(10,2)\n",
        "\n",
        "  def forward(self,z):  #y is avg image #z batch of list of 9 images\n",
        "    y = torch.zeros([batch,3, 32,32], dtype=torch.float64)\n",
        "    x = torch.zeros([batch,9],dtype=torch.float64)\n",
        "    y = y.to(\"cuda\")\n",
        "    x = x.to(\"cuda\")\n",
        "    \n",
        "    for i in range(9):\n",
        "        x[:,i] = self.helper(z[:,i])[:,0]\n",
        "\n",
        "    x = F.softmax(x,dim=1)\n",
        "\n",
        "    x1 = x[:,0]\n",
        "    torch.mul(x1[:,None,None,None],z[:,0])\n",
        "\n",
        "    for i in range(9):            \n",
        "      x1 = x[:,i]          \n",
        "      y = y + torch.mul(x1[:,None,None,None],z[:,i])\n",
        "\n",
        "    return x, y\n",
        "    \n",
        "  def helper(self, x):\n",
        "    x = self.pool(F.relu(self.conv1(x)))\n",
        "    x = (F.relu(self.conv2(x)))\n",
        "    # print(x.shape)\n",
        "    # x = (F.relu(self.conv3(x)))\n",
        "    x =  x.view(x.size(0), -1)\n",
        "    # print(x.shape)\n",
        "    x = F.relu(self.fc1(x))\n",
        "    x = F.relu(self.fc2(x))\n",
        "    x = F.relu(self.fc3(x))\n",
        "    x = self.fc4(x)\n",
        "    return x"
      ],
      "execution_count": 49,
      "outputs": []
    },
    {
      "cell_type": "code",
      "metadata": {
        "id": "1GvXR1zV5n4w"
      },
      "source": [
        "focus_net = Focus().double()\n",
        "focus_net = focus_net.to(\"cuda\")"
      ],
      "execution_count": 50,
      "outputs": []
    },
    {
      "cell_type": "code",
      "metadata": {
        "id": "LYdCXceZzSk9"
      },
      "source": [
        "class Classification(nn.Module):\n",
        "  def __init__(self):\n",
        "    super(Classification, self).__init__()\n",
        "    self.conv1 = nn.Conv2d(in_channels=3, out_channels=6, kernel_size=3, padding=0)\n",
        "    self.pool = nn.MaxPool2d(2, 2)\n",
        "    self.conv2 = nn.Conv2d(in_channels=6, out_channels=6, kernel_size=3, padding=0)\n",
        "    # self.conv3 = nn.Conv2d(in_channels=64, out_channels=64, kernel_size=3, padding=0)\n",
        "    self.fc1 = nn.Linear(1014, 512)\n",
        "    self.fc2 = nn.Linear(512, 64)\n",
        "    self.fc3 = nn.Linear(64, 10)\n",
        "    self.fc4 = nn.Linear(10,3)\n",
        "\n",
        "  def forward(self, x):\n",
        "    x = self.pool(F.relu(self.conv1(x)))\n",
        "    x = (F.relu(self.conv2(x)))\n",
        "    # print(x.shape)\n",
        "    # x = (F.relu(self.conv3(x)))\n",
        "    x =  x.view(x.size(0), -1)\n",
        "    # print(x.shape)\n",
        "    x = F.relu(self.fc1(x))\n",
        "    x = F.relu(self.fc2(x))\n",
        "    x = F.relu(self.fc3(x))\n",
        "    x = self.fc4(x)\n",
        "    return x"
      ],
      "execution_count": 51,
      "outputs": []
    },
    {
      "cell_type": "code",
      "metadata": {
        "id": "uPYplUGazU9I"
      },
      "source": [
        "classify = Classification().double()\n",
        "classify = classify.to(\"cuda\")"
      ],
      "execution_count": 52,
      "outputs": []
    },
    {
      "cell_type": "code",
      "metadata": {
        "id": "l789TLMP9zJX"
      },
      "source": [
        "test_images =[]        #list of mosaic images, each mosaic image is saved as laist of 9 images\n",
        "fore_idx_test =[]                   #list of indexes at which foreground image is present in a mosaic image                \n",
        "test_label=[]                # label of mosaic image = foreground class present in that mosaic\n",
        "for i in range(10000):\n",
        "  bg_idx = np.random.randint(0,35000,8)\n",
        "  fg_idx = np.random.randint(0,15000)\n",
        "  fg = np.random.randint(0,9)\n",
        "  fore_idx_test.append(fg)\n",
        "  image_list,label = create_mosaic_img(bg_idx,fg_idx,fg)\n",
        "  test_images.append(image_list)\n",
        "  test_label.append(label)"
      ],
      "execution_count": 53,
      "outputs": []
    },
    {
      "cell_type": "code",
      "metadata": {
        "id": "bBzV9dKS5po7"
      },
      "source": [
        "test_data = MosaicDataset(test_images,test_label,fore_idx_test)\n",
        "test_loader = DataLoader( test_data,batch_size= batch ,shuffle=False)"
      ],
      "execution_count": 54,
      "outputs": []
    },
    {
      "cell_type": "code",
      "metadata": {
        "id": "n5g3geNJ5zEu"
      },
      "source": [
        "import torch.optim as optim\n",
        "criterion = nn.CrossEntropyLoss()\n",
        "optimizer_classify = optim.SGD(classify.parameters(), lr=0.01, momentum=0.9)\n",
        "optimizer_focus = optim.SGD(focus_net.parameters(), lr=0.001, momentum=0.9)"
      ],
      "execution_count": 55,
      "outputs": []
    },
    {
      "cell_type": "code",
      "metadata": {
        "id": "Nvr_dqW5ReUP"
      },
      "source": [
        "col1=[]\n",
        "col2=[]\n",
        "col3=[]\n",
        "col4=[]\n",
        "col5=[]\n",
        "col6=[]\n",
        "col7=[]\n",
        "col8=[]\n",
        "col9=[]\n",
        "col10=[]\n",
        "col11=[]\n",
        "col12=[]\n",
        "col13=[]"
      ],
      "execution_count": 56,
      "outputs": []
    },
    {
      "cell_type": "code",
      "metadata": {
        "id": "iwk82DG9RfYe",
        "colab": {
          "base_uri": "https://localhost:8080/"
        },
        "outputId": "53d8a10c-fe70-46c4-b51e-0701c625d695"
      },
      "source": [
        "correct = 0\n",
        "total = 0\n",
        "count = 0\n",
        "flag = 1\n",
        "focus_true_pred_true =0\n",
        "focus_false_pred_true =0\n",
        "focus_true_pred_false =0\n",
        "focus_false_pred_false =0\n",
        "\n",
        "argmax_more_than_half = 0\n",
        "argmax_less_than_half =0\n",
        "\n",
        "with torch.no_grad():\n",
        "  for data in train_loader:\n",
        "    inputs, labels , fore_idx = data\n",
        "    inputs, labels , fore_idx = inputs.to(\"cuda\"),labels.to(\"cuda\"), fore_idx.to(\"cuda\")\n",
        "    alphas, avg_images = focus_net(inputs)\n",
        "    outputs = classify(avg_images)\n",
        "\n",
        "    _, predicted = torch.max(outputs.data, 1)\n",
        "\n",
        "    for j in range(labels.size(0)):\n",
        "      count += 1\n",
        "      focus = torch.argmax(alphas[j])\n",
        "      if alphas[j][focus] >= 0.5 :\n",
        "        argmax_more_than_half += 1\n",
        "      else:\n",
        "        argmax_less_than_half += 1\n",
        "\n",
        "      if(focus == fore_idx[j] and predicted[j] == labels[j]):\n",
        "          focus_true_pred_true += 1\n",
        "      elif(focus != fore_idx[j] and predicted[j] == labels[j]):\n",
        "        focus_false_pred_true += 1\n",
        "      elif(focus == fore_idx[j] and predicted[j] != labels[j]):\n",
        "        focus_true_pred_false += 1\n",
        "      elif(focus != fore_idx[j] and predicted[j] != labels[j]):\n",
        "        focus_false_pred_false += 1\n",
        "\n",
        "    total += labels.size(0)\n",
        "    correct += (predicted == labels).sum().item()\n",
        "\n",
        "print('Accuracy of the network on the 30000 train images: %d %%' % ( 100 * correct / total))\n",
        "print(\"total correct\", correct)\n",
        "print(\"total train set images\", total)\n",
        "\n",
        "print(\"focus_true_pred_true %d =============> FTPT : %d %%\" % (focus_true_pred_true , (100 * focus_true_pred_true / total) ) )\n",
        "print(\"focus_false_pred_true %d =============> FFPT : %d %%\" % (focus_false_pred_true, (100 * focus_false_pred_true / total) ) )\n",
        "print(\"focus_true_pred_false %d =============> FTPF : %d %%\" %( focus_true_pred_false , ( 100 * focus_true_pred_false / total) ) )\n",
        "print(\"focus_false_pred_false %d =============> FFPF : %d %%\" % (focus_false_pred_false, ( 100 * focus_false_pred_false / total) ) )\n",
        "\n",
        "print(\"argmax_more_than_half ==================> \",argmax_more_than_half)\n",
        "print(\"argmax_less_than_half ==================> \",argmax_less_than_half)\n",
        "print(count)\n",
        "\n",
        "print(\"=\"*100)\n",
        "\n",
        "col1.append(0)\n",
        "col2.append(argmax_more_than_half)\n",
        "col3.append(argmax_less_than_half)\n",
        "col4.append(focus_true_pred_true)\n",
        "col5.append(focus_false_pred_true)\n",
        "col6.append(focus_true_pred_false)\n",
        "col7.append(focus_false_pred_false)"
      ],
      "execution_count": 57,
      "outputs": [
        {
          "output_type": "stream",
          "text": [
            "Accuracy of the network on the 30000 train images: 33 %\n",
            "total correct 10020\n",
            "total train set images 30000\n",
            "focus_true_pred_true 1003 =============> FTPT : 3 %\n",
            "focus_false_pred_true 9017 =============> FFPT : 30 %\n",
            "focus_true_pred_false 1596 =============> FTPF : 5 %\n",
            "focus_false_pred_false 18384 =============> FFPF : 61 %\n",
            "argmax_more_than_half ==================>  0\n",
            "argmax_less_than_half ==================>  30000\n",
            "30000\n",
            "====================================================================================================\n"
          ],
          "name": "stdout"
        }
      ]
    },
    {
      "cell_type": "code",
      "metadata": {
        "id": "XYGo-DLbR1ZV",
        "colab": {
          "base_uri": "https://localhost:8080/"
        },
        "outputId": "337e8222-6571-4e17-ee0e-1f4f84a36c4f"
      },
      "source": [
        "correct = 0\n",
        "total = 0\n",
        "count = 0\n",
        "flag = 1\n",
        "focus_true_pred_true =0\n",
        "focus_false_pred_true =0\n",
        "focus_true_pred_false =0\n",
        "focus_false_pred_false =0\n",
        "\n",
        "argmax_more_than_half = 0\n",
        "argmax_less_than_half =0\n",
        "\n",
        "with torch.no_grad():\n",
        "  for data in test_loader:\n",
        "    inputs, labels , fore_idx = data\n",
        "    inputs, labels , fore_idx = inputs.to(\"cuda\"),labels.to(\"cuda\"), fore_idx.to(\"cuda\")\n",
        "    alphas, avg_images = focus_net(inputs)\n",
        "    outputs = classify(avg_images)\n",
        "\n",
        "    _, predicted = torch.max(outputs.data, 1)\n",
        "\n",
        "    for j in range(labels.size(0)):\n",
        "      focus = torch.argmax(alphas[j])\n",
        "      if alphas[j][focus] >= 0.5 :\n",
        "        argmax_more_than_half += 1\n",
        "      else:\n",
        "        argmax_less_than_half += 1\n",
        "\n",
        "      if(focus == fore_idx[j] and predicted[j] == labels[j]):\n",
        "          focus_true_pred_true += 1\n",
        "      elif(focus != fore_idx[j] and predicted[j] == labels[j]):\n",
        "        focus_false_pred_true += 1\n",
        "      elif(focus == fore_idx[j] and predicted[j] != labels[j]):\n",
        "        focus_true_pred_false += 1\n",
        "      elif(focus != fore_idx[j] and predicted[j] != labels[j]):\n",
        "        focus_false_pred_false += 1\n",
        "\n",
        "    total += labels.size(0)\n",
        "    correct += (predicted == labels).sum().item()\n",
        "\n",
        "print('Accuracy of the network on the 10000 test images: %d %%' % (\n",
        "    100 * correct / total))\n",
        "print(\"total correct\", correct)\n",
        "print(\"total train set images\", total)\n",
        "\n",
        "print(\"focus_true_pred_true %d =============> FTPT : %d %%\" % (focus_true_pred_true , (100 * focus_true_pred_true / total) ) )\n",
        "print(\"focus_false_pred_true %d =============> FFPT : %d %%\" % (focus_false_pred_true, (100 * focus_false_pred_true / total) ) )\n",
        "print(\"focus_true_pred_false %d =============> FTPF : %d %%\" %( focus_true_pred_false , ( 100 * focus_true_pred_false / total) ) )\n",
        "print(\"focus_false_pred_false %d =============> FFPF : %d %%\" % (focus_false_pred_false, ( 100 * focus_false_pred_false / total) ) )\n",
        "\n",
        "print(\"argmax_more_than_half ==================> \",argmax_more_than_half)\n",
        "print(\"argmax_less_than_half ==================> \",argmax_less_than_half)\n",
        "col8.append(argmax_more_than_half)\n",
        "col9.append(argmax_less_than_half)\n",
        "col10.append(focus_true_pred_true)\n",
        "col11.append(focus_false_pred_true)\n",
        "col12.append(focus_true_pred_false)\n",
        "col13.append(focus_false_pred_false)"
      ],
      "execution_count": 58,
      "outputs": [
        {
          "output_type": "stream",
          "text": [
            "Accuracy of the network on the 10000 test images: 33 %\n",
            "total correct 3342\n",
            "total train set images 10000\n",
            "focus_true_pred_true 347 =============> FTPT : 3 %\n",
            "focus_false_pred_true 2995 =============> FFPT : 29 %\n",
            "focus_true_pred_false 508 =============> FTPF : 5 %\n",
            "focus_false_pred_false 6150 =============> FFPF : 61 %\n",
            "argmax_more_than_half ==================>  0\n",
            "argmax_less_than_half ==================>  10000\n"
          ],
          "name": "stdout"
        }
      ]
    },
    {
      "cell_type": "code",
      "metadata": {
        "id": "tFfAJZkcZEsY",
        "colab": {
          "base_uri": "https://localhost:8080/"
        },
        "outputId": "2af2bd62-18d1-4b02-8d85-ca3341f348c2"
      },
      "source": [
        "nos_epochs = 200\n",
        "focus_true_pred_true =0\n",
        "focus_false_pred_true =0\n",
        "focus_true_pred_false =0\n",
        "focus_false_pred_false =0\n",
        "\n",
        "argmax_more_than_half = 0\n",
        "argmax_less_than_half =0\n",
        "\n",
        "for epoch in range(nos_epochs):  # loop over the dataset multiple times\n",
        "\n",
        "  focus_true_pred_true =0\n",
        "  focus_false_pred_true =0\n",
        "  focus_true_pred_false =0\n",
        "  focus_false_pred_false =0\n",
        "  \n",
        "  argmax_more_than_half = 0\n",
        "  argmax_less_than_half =0\n",
        "  \n",
        "  running_loss = 0.0\n",
        "  epoch_loss = []\n",
        "  cnt=0\n",
        "\n",
        "  iteration = desired_num // batch\n",
        "  \n",
        "  #training data set\n",
        "  \n",
        "  for i, data in  enumerate(train_loader):\n",
        "    inputs , labels , fore_idx = data\n",
        "    inputs, labels = inputs.to(\"cuda\"), labels.to(\"cuda\")\n",
        "    # zero the parameter gradients\n",
        "    \n",
        "    optimizer_focus.zero_grad()\n",
        "    optimizer_classify.zero_grad()\n",
        "    \n",
        "    alphas, avg_images = focus_net(inputs)\n",
        "    outputs = classify(avg_images)\n",
        "\n",
        "    _, predicted = torch.max(outputs.data, 1)\n",
        "#     print(outputs)\n",
        "#     print(outputs.shape,labels.shape , torch.argmax(outputs, dim=1))\n",
        "\n",
        "    loss = criterion(outputs, labels) \n",
        "    loss.backward()\n",
        "    optimizer_focus.step()\n",
        "    optimizer_classify.step()\n",
        "\n",
        "    running_loss += loss.item()\n",
        "    mini = 60\n",
        "    if cnt % mini == mini-1:    # print every 40 mini-batches\n",
        "      print('[%d, %5d] loss: %.3f' %(epoch + 1, cnt + 1, running_loss / mini))\n",
        "      epoch_loss.append(running_loss/mini)\n",
        "      running_loss = 0.0\n",
        "    cnt=cnt+1\n",
        "    \n",
        "    if epoch % 5 == 0:\n",
        "      for j in range (batch):\n",
        "        focus = torch.argmax(alphas[j])\n",
        "\n",
        "        if(alphas[j][focus] >= 0.5):\n",
        "          argmax_more_than_half +=1\n",
        "        else:\n",
        "          argmax_less_than_half +=1\n",
        "\n",
        "        if(focus == fore_idx[j] and predicted[j] == labels[j]):\n",
        "          focus_true_pred_true += 1\n",
        "\n",
        "        elif(focus != fore_idx[j] and predicted[j] == labels[j]):\n",
        "          focus_false_pred_true +=1\n",
        "\n",
        "        elif(focus == fore_idx[j] and predicted[j] != labels[j]):\n",
        "          focus_true_pred_false +=1\n",
        "\n",
        "        elif(focus != fore_idx[j] and predicted[j] != labels[j]):\n",
        "          focus_false_pred_false +=1\n",
        "\n",
        "  if(np.mean(epoch_loss) <= 0.03):\n",
        "      break;\n",
        "\n",
        "  if epoch % 5 == 0:\n",
        "    # focus_net.eval()\n",
        "    # classify.eval()\n",
        "    col1.append(epoch+1)\n",
        "    col2.append(argmax_more_than_half)\n",
        "    col3.append(argmax_less_than_half)\n",
        "    col4.append(focus_true_pred_true)\n",
        "    col5.append(focus_false_pred_true)\n",
        "    col6.append(focus_true_pred_false)\n",
        "    col7.append(focus_false_pred_false)\n",
        "  \n",
        "    #************************************************************************\n",
        "    #testing data set  \n",
        "    with torch.no_grad():\n",
        "      focus_true_pred_true =0\n",
        "      focus_false_pred_true =0\n",
        "      focus_true_pred_false =0\n",
        "      focus_false_pred_false =0\n",
        "\n",
        "      argmax_more_than_half = 0\n",
        "      argmax_less_than_half =0\n",
        "      for data in test_loader:\n",
        "        inputs, labels , fore_idx = data\n",
        "        inputs, labels = inputs.to(\"cuda\"), labels.to(\"cuda\")\n",
        "        alphas, avg_images = focus_net(inputs)\n",
        "        outputs = classify(avg_images)\n",
        "        _, predicted = torch.max(outputs.data, 1)\n",
        "\n",
        "        for j in range (batch):\n",
        "          focus = torch.argmax(alphas[j])\n",
        "\n",
        "          if(alphas[j][focus] >= 0.5):\n",
        "            argmax_more_than_half +=1\n",
        "          else:\n",
        "            argmax_less_than_half +=1\n",
        "\n",
        "          if(focus == fore_idx[j] and predicted[j] == labels[j]):\n",
        "            focus_true_pred_true += 1\n",
        "\n",
        "          elif(focus != fore_idx[j] and predicted[j] == labels[j]):\n",
        "            focus_false_pred_true +=1\n",
        "\n",
        "          elif(focus == fore_idx[j] and predicted[j] != labels[j]):\n",
        "            focus_true_pred_false +=1\n",
        "\n",
        "          elif(focus != fore_idx[j] and predicted[j] != labels[j]):\n",
        "            focus_false_pred_false +=1\n",
        "      \n",
        "    col8.append(argmax_more_than_half)\n",
        "    col9.append(argmax_less_than_half)\n",
        "    col10.append(focus_true_pred_true)\n",
        "    col11.append(focus_false_pred_true)\n",
        "    col12.append(focus_true_pred_false)\n",
        "    col13.append(focus_false_pred_false)\n",
        "    \n",
        "    \n",
        "print('Finished Training')"
      ],
      "execution_count": 59,
      "outputs": [
        {
          "output_type": "stream",
          "text": [
            "[1,    60] loss: 1.102\n",
            "[1,   120] loss: 1.099\n",
            "[1,   180] loss: 1.099\n",
            "[1,   240] loss: 1.098\n",
            "[2,    60] loss: 1.099\n",
            "[2,   120] loss: 1.099\n",
            "[2,   180] loss: 1.098\n",
            "[2,   240] loss: 1.098\n",
            "[3,    60] loss: 1.099\n",
            "[3,   120] loss: 1.098\n",
            "[3,   180] loss: 1.098\n",
            "[3,   240] loss: 1.098\n",
            "[4,    60] loss: 1.097\n",
            "[4,   120] loss: 1.096\n",
            "[4,   180] loss: 1.094\n",
            "[4,   240] loss: 1.090\n",
            "[5,    60] loss: 1.086\n",
            "[5,   120] loss: 1.080\n",
            "[5,   180] loss: 1.082\n",
            "[5,   240] loss: 1.076\n",
            "[6,    60] loss: 1.075\n",
            "[6,   120] loss: 1.070\n",
            "[6,   180] loss: 1.068\n",
            "[6,   240] loss: 1.064\n",
            "[7,    60] loss: 1.071\n",
            "[7,   120] loss: 1.061\n",
            "[7,   180] loss: 1.059\n",
            "[7,   240] loss: 1.058\n",
            "[8,    60] loss: 1.057\n",
            "[8,   120] loss: 1.056\n",
            "[8,   180] loss: 1.059\n",
            "[8,   240] loss: 1.058\n",
            "[9,    60] loss: 1.051\n",
            "[9,   120] loss: 1.056\n",
            "[9,   180] loss: 1.057\n",
            "[9,   240] loss: 1.054\n",
            "[10,    60] loss: 1.051\n",
            "[10,   120] loss: 1.053\n",
            "[10,   180] loss: 1.059\n",
            "[10,   240] loss: 1.049\n",
            "[11,    60] loss: 1.047\n",
            "[11,   120] loss: 1.052\n",
            "[11,   180] loss: 1.050\n",
            "[11,   240] loss: 1.051\n",
            "[12,    60] loss: 1.049\n",
            "[12,   120] loss: 1.046\n",
            "[12,   180] loss: 1.046\n",
            "[12,   240] loss: 1.048\n",
            "[13,    60] loss: 1.042\n",
            "[13,   120] loss: 1.047\n",
            "[13,   180] loss: 1.047\n",
            "[13,   240] loss: 1.044\n",
            "[14,    60] loss: 1.043\n",
            "[14,   120] loss: 1.039\n",
            "[14,   180] loss: 1.040\n",
            "[14,   240] loss: 1.038\n",
            "[15,    60] loss: 1.035\n",
            "[15,   120] loss: 1.035\n",
            "[15,   180] loss: 1.035\n",
            "[15,   240] loss: 1.040\n",
            "[16,    60] loss: 1.028\n",
            "[16,   120] loss: 1.037\n",
            "[16,   180] loss: 1.036\n",
            "[16,   240] loss: 1.031\n",
            "[17,    60] loss: 1.029\n",
            "[17,   120] loss: 1.030\n",
            "[17,   180] loss: 1.031\n",
            "[17,   240] loss: 1.027\n",
            "[18,    60] loss: 1.030\n",
            "[18,   120] loss: 1.024\n",
            "[18,   180] loss: 1.033\n",
            "[18,   240] loss: 1.022\n",
            "[19,    60] loss: 1.021\n",
            "[19,   120] loss: 1.029\n",
            "[19,   180] loss: 1.022\n",
            "[19,   240] loss: 1.021\n",
            "[20,    60] loss: 1.020\n",
            "[20,   120] loss: 1.020\n",
            "[20,   180] loss: 1.019\n",
            "[20,   240] loss: 1.022\n",
            "[21,    60] loss: 1.017\n",
            "[21,   120] loss: 1.011\n",
            "[21,   180] loss: 1.021\n",
            "[21,   240] loss: 1.016\n",
            "[22,    60] loss: 1.010\n",
            "[22,   120] loss: 1.013\n",
            "[22,   180] loss: 1.009\n",
            "[22,   240] loss: 1.014\n",
            "[23,    60] loss: 1.012\n",
            "[23,   120] loss: 1.004\n",
            "[23,   180] loss: 1.011\n",
            "[23,   240] loss: 1.008\n",
            "[24,    60] loss: 0.996\n",
            "[24,   120] loss: 1.001\n",
            "[24,   180] loss: 1.006\n",
            "[24,   240] loss: 1.004\n",
            "[25,    60] loss: 0.993\n",
            "[25,   120] loss: 0.981\n",
            "[25,   180] loss: 1.001\n",
            "[25,   240] loss: 1.001\n",
            "[26,    60] loss: 0.997\n",
            "[26,   120] loss: 0.979\n",
            "[26,   180] loss: 0.982\n",
            "[26,   240] loss: 0.990\n",
            "[27,    60] loss: 0.983\n",
            "[27,   120] loss: 0.985\n",
            "[27,   180] loss: 0.981\n",
            "[27,   240] loss: 0.985\n",
            "[28,    60] loss: 0.956\n",
            "[28,   120] loss: 0.963\n",
            "[28,   180] loss: 0.974\n",
            "[28,   240] loss: 0.977\n",
            "[29,    60] loss: 0.953\n",
            "[29,   120] loss: 0.950\n",
            "[29,   180] loss: 0.962\n",
            "[29,   240] loss: 0.963\n",
            "[30,    60] loss: 0.924\n",
            "[30,   120] loss: 0.936\n",
            "[30,   180] loss: 0.937\n",
            "[30,   240] loss: 0.947\n",
            "[31,    60] loss: 0.903\n",
            "[31,   120] loss: 0.921\n",
            "[31,   180] loss: 0.912\n",
            "[31,   240] loss: 0.929\n",
            "[32,    60] loss: 0.859\n",
            "[32,   120] loss: 0.883\n",
            "[32,   180] loss: 0.900\n",
            "[32,   240] loss: 0.909\n",
            "[33,    60] loss: 0.837\n",
            "[33,   120] loss: 0.864\n",
            "[33,   180] loss: 0.862\n",
            "[33,   240] loss: 0.866\n",
            "[34,    60] loss: 0.777\n",
            "[34,   120] loss: 0.807\n",
            "[34,   180] loss: 0.826\n",
            "[34,   240] loss: 0.836\n",
            "[35,    60] loss: 0.718\n",
            "[35,   120] loss: 0.746\n",
            "[35,   180] loss: 0.763\n",
            "[35,   240] loss: 0.786\n",
            "[36,    60] loss: 0.659\n",
            "[36,   120] loss: 0.671\n",
            "[36,   180] loss: 0.726\n",
            "[36,   240] loss: 0.707\n",
            "[37,    60] loss: 0.522\n",
            "[37,   120] loss: 0.600\n",
            "[37,   180] loss: 0.614\n",
            "[37,   240] loss: 0.652\n",
            "[38,    60] loss: 0.463\n",
            "[38,   120] loss: 0.498\n",
            "[38,   180] loss: 0.522\n",
            "[38,   240] loss: 0.565\n",
            "[39,    60] loss: 0.364\n",
            "[39,   120] loss: 0.398\n",
            "[39,   180] loss: 0.425\n",
            "[39,   240] loss: 0.493\n",
            "[40,    60] loss: 0.297\n",
            "[40,   120] loss: 0.327\n",
            "[40,   180] loss: 0.375\n",
            "[40,   240] loss: 0.392\n",
            "[41,    60] loss: 0.245\n",
            "[41,   120] loss: 0.238\n",
            "[41,   180] loss: 0.312\n",
            "[41,   240] loss: 0.334\n",
            "[42,    60] loss: 0.178\n",
            "[42,   120] loss: 0.208\n",
            "[42,   180] loss: 0.227\n",
            "[42,   240] loss: 0.269\n",
            "[43,    60] loss: 0.134\n",
            "[43,   120] loss: 0.159\n",
            "[43,   180] loss: 0.196\n",
            "[43,   240] loss: 0.198\n",
            "[44,    60] loss: 0.109\n",
            "[44,   120] loss: 0.121\n",
            "[44,   180] loss: 0.162\n",
            "[44,   240] loss: 0.214\n",
            "[45,    60] loss: 0.130\n",
            "[45,   120] loss: 0.108\n",
            "[45,   180] loss: 0.116\n",
            "[45,   240] loss: 0.167\n",
            "[46,    60] loss: 0.115\n",
            "[46,   120] loss: 0.103\n",
            "[46,   180] loss: 0.128\n",
            "[46,   240] loss: 0.140\n",
            "[47,    60] loss: 0.081\n",
            "[47,   120] loss: 0.081\n",
            "[47,   180] loss: 0.104\n",
            "[47,   240] loss: 0.103\n",
            "[48,    60] loss: 0.053\n",
            "[48,   120] loss: 0.055\n",
            "[48,   180] loss: 0.062\n",
            "[48,   240] loss: 0.085\n",
            "[49,    60] loss: 0.050\n",
            "[49,   120] loss: 0.060\n",
            "[49,   180] loss: 0.062\n",
            "[49,   240] loss: 0.091\n",
            "[50,    60] loss: 0.066\n",
            "[50,   120] loss: 0.070\n",
            "[50,   180] loss: 0.083\n",
            "[50,   240] loss: 0.084\n",
            "[51,    60] loss: 0.045\n",
            "[51,   120] loss: 0.059\n",
            "[51,   180] loss: 0.058\n",
            "[51,   240] loss: 0.068\n",
            "[52,    60] loss: 0.048\n",
            "[52,   120] loss: 0.046\n",
            "[52,   180] loss: 0.041\n",
            "[52,   240] loss: 0.071\n",
            "[53,    60] loss: 0.055\n",
            "[53,   120] loss: 0.041\n",
            "[53,   180] loss: 0.043\n",
            "[53,   240] loss: 0.054\n",
            "[54,    60] loss: 0.039\n",
            "[54,   120] loss: 0.054\n",
            "[54,   180] loss: 0.055\n",
            "[54,   240] loss: 0.048\n",
            "[55,    60] loss: 0.029\n",
            "[55,   120] loss: 0.035\n",
            "[55,   180] loss: 0.042\n",
            "[55,   240] loss: 0.065\n",
            "[56,    60] loss: 0.037\n",
            "[56,   120] loss: 0.035\n",
            "[56,   180] loss: 0.041\n",
            "[56,   240] loss: 0.055\n",
            "[57,    60] loss: 0.048\n",
            "[57,   120] loss: 0.028\n",
            "[57,   180] loss: 0.035\n",
            "[57,   240] loss: 0.047\n",
            "[58,    60] loss: 0.024\n",
            "[58,   120] loss: 0.034\n",
            "[58,   180] loss: 0.025\n",
            "[58,   240] loss: 0.029\n",
            "Finished Training\n"
          ],
          "name": "stdout"
        }
      ]
    },
    {
      "cell_type": "code",
      "metadata": {
        "id": "n0zuujPPzLHq"
      },
      "source": [
        "# torch.save(focus_net.state_dict(),\"/content/drive/My Drive/Research/Cheating_data/16_experiments_on_cnn_3layers/\"+name+\"_focus_net.pt\")"
      ],
      "execution_count": 60,
      "outputs": []
    },
    {
      "cell_type": "code",
      "metadata": {
        "id": "WIAJ3UZN8rPE"
      },
      "source": [
        "# torch.save(classify.state_dict(),\"/content/drive/My Drive/Research/Cheating_data/16_experiments_on_cnn_3layers/\"+name+\"_classify.pt\")"
      ],
      "execution_count": 61,
      "outputs": []
    },
    {
      "cell_type": "code",
      "metadata": {
        "id": "2LgQKXW-8MH-"
      },
      "source": [
        "columns = [\"epochs\", \"argmax > 0.5\" ,\"argmax < 0.5\", \"focus_true_pred_true\", \"focus_false_pred_true\", \"focus_true_pred_false\", \"focus_false_pred_false\" ]"
      ],
      "execution_count": 62,
      "outputs": []
    },
    {
      "cell_type": "code",
      "metadata": {
        "id": "tSKphM888Y5o"
      },
      "source": [
        "df_train = pd.DataFrame()\n",
        "df_test = pd.DataFrame()"
      ],
      "execution_count": 63,
      "outputs": []
    },
    {
      "cell_type": "code",
      "metadata": {
        "id": "FrWoEGXZ8cBO"
      },
      "source": [
        "df_train[columns[0]] = col1\n",
        "df_train[columns[1]] = col2\n",
        "df_train[columns[2]] = col3\n",
        "df_train[columns[3]] = col4\n",
        "df_train[columns[4]] = col5\n",
        "df_train[columns[5]] = col6\n",
        "df_train[columns[6]] = col7\n",
        "\n",
        "df_test[columns[0]] = col1\n",
        "df_test[columns[1]] = col8\n",
        "df_test[columns[2]] = col9\n",
        "df_test[columns[3]] = col10\n",
        "df_test[columns[4]] = col11\n",
        "df_test[columns[5]] = col12\n",
        "df_test[columns[6]] = col13"
      ],
      "execution_count": 64,
      "outputs": []
    },
    {
      "cell_type": "code",
      "metadata": {
        "id": "RGJoMFcK8eTe",
        "colab": {
          "base_uri": "https://localhost:8080/",
          "height": 457
        },
        "outputId": "b20aedd6-f3a4-465c-c0b4-1ed7111c92f7"
      },
      "source": [
        "df_train"
      ],
      "execution_count": 65,
      "outputs": [
        {
          "output_type": "execute_result",
          "data": {
            "text/html": [
              "<div>\n",
              "<style scoped>\n",
              "    .dataframe tbody tr th:only-of-type {\n",
              "        vertical-align: middle;\n",
              "    }\n",
              "\n",
              "    .dataframe tbody tr th {\n",
              "        vertical-align: top;\n",
              "    }\n",
              "\n",
              "    .dataframe thead th {\n",
              "        text-align: right;\n",
              "    }\n",
              "</style>\n",
              "<table border=\"1\" class=\"dataframe\">\n",
              "  <thead>\n",
              "    <tr style=\"text-align: right;\">\n",
              "      <th></th>\n",
              "      <th>epochs</th>\n",
              "      <th>argmax &gt; 0.5</th>\n",
              "      <th>argmax &lt; 0.5</th>\n",
              "      <th>focus_true_pred_true</th>\n",
              "      <th>focus_false_pred_true</th>\n",
              "      <th>focus_true_pred_false</th>\n",
              "      <th>focus_false_pred_false</th>\n",
              "    </tr>\n",
              "  </thead>\n",
              "  <tbody>\n",
              "    <tr>\n",
              "      <th>0</th>\n",
              "      <td>0</td>\n",
              "      <td>0</td>\n",
              "      <td>30000</td>\n",
              "      <td>1003</td>\n",
              "      <td>9017</td>\n",
              "      <td>1596</td>\n",
              "      <td>18384</td>\n",
              "    </tr>\n",
              "    <tr>\n",
              "      <th>1</th>\n",
              "      <td>1</td>\n",
              "      <td>0</td>\n",
              "      <td>30000</td>\n",
              "      <td>782</td>\n",
              "      <td>9342</td>\n",
              "      <td>1817</td>\n",
              "      <td>18059</td>\n",
              "    </tr>\n",
              "    <tr>\n",
              "      <th>2</th>\n",
              "      <td>6</td>\n",
              "      <td>0</td>\n",
              "      <td>30000</td>\n",
              "      <td>1282</td>\n",
              "      <td>11457</td>\n",
              "      <td>1778</td>\n",
              "      <td>15483</td>\n",
              "    </tr>\n",
              "    <tr>\n",
              "      <th>3</th>\n",
              "      <td>11</td>\n",
              "      <td>0</td>\n",
              "      <td>30000</td>\n",
              "      <td>3055</td>\n",
              "      <td>10496</td>\n",
              "      <td>3247</td>\n",
              "      <td>13202</td>\n",
              "    </tr>\n",
              "    <tr>\n",
              "      <th>4</th>\n",
              "      <td>16</td>\n",
              "      <td>0</td>\n",
              "      <td>30000</td>\n",
              "      <td>3315</td>\n",
              "      <td>10658</td>\n",
              "      <td>3477</td>\n",
              "      <td>12550</td>\n",
              "    </tr>\n",
              "    <tr>\n",
              "      <th>5</th>\n",
              "      <td>21</td>\n",
              "      <td>0</td>\n",
              "      <td>30000</td>\n",
              "      <td>3624</td>\n",
              "      <td>10882</td>\n",
              "      <td>3413</td>\n",
              "      <td>12081</td>\n",
              "    </tr>\n",
              "    <tr>\n",
              "      <th>6</th>\n",
              "      <td>26</td>\n",
              "      <td>0</td>\n",
              "      <td>30000</td>\n",
              "      <td>3858</td>\n",
              "      <td>11574</td>\n",
              "      <td>3293</td>\n",
              "      <td>11275</td>\n",
              "    </tr>\n",
              "    <tr>\n",
              "      <th>7</th>\n",
              "      <td>31</td>\n",
              "      <td>0</td>\n",
              "      <td>30000</td>\n",
              "      <td>4338</td>\n",
              "      <td>12839</td>\n",
              "      <td>2900</td>\n",
              "      <td>9923</td>\n",
              "    </tr>\n",
              "    <tr>\n",
              "      <th>8</th>\n",
              "      <td>36</td>\n",
              "      <td>0</td>\n",
              "      <td>30000</td>\n",
              "      <td>5654</td>\n",
              "      <td>15518</td>\n",
              "      <td>2070</td>\n",
              "      <td>6758</td>\n",
              "    </tr>\n",
              "    <tr>\n",
              "      <th>9</th>\n",
              "      <td>41</td>\n",
              "      <td>0</td>\n",
              "      <td>30000</td>\n",
              "      <td>7361</td>\n",
              "      <td>19359</td>\n",
              "      <td>789</td>\n",
              "      <td>2491</td>\n",
              "    </tr>\n",
              "    <tr>\n",
              "      <th>10</th>\n",
              "      <td>46</td>\n",
              "      <td>0</td>\n",
              "      <td>30000</td>\n",
              "      <td>7842</td>\n",
              "      <td>20850</td>\n",
              "      <td>386</td>\n",
              "      <td>922</td>\n",
              "    </tr>\n",
              "    <tr>\n",
              "      <th>11</th>\n",
              "      <td>51</td>\n",
              "      <td>0</td>\n",
              "      <td>30000</td>\n",
              "      <td>8166</td>\n",
              "      <td>21205</td>\n",
              "      <td>170</td>\n",
              "      <td>459</td>\n",
              "    </tr>\n",
              "    <tr>\n",
              "      <th>12</th>\n",
              "      <td>56</td>\n",
              "      <td>0</td>\n",
              "      <td>30000</td>\n",
              "      <td>8318</td>\n",
              "      <td>21245</td>\n",
              "      <td>105</td>\n",
              "      <td>332</td>\n",
              "    </tr>\n",
              "  </tbody>\n",
              "</table>\n",
              "</div>"
            ],
            "text/plain": [
              "    epochs  argmax > 0.5  ...  focus_true_pred_false  focus_false_pred_false\n",
              "0        0             0  ...                   1596                   18384\n",
              "1        1             0  ...                   1817                   18059\n",
              "2        6             0  ...                   1778                   15483\n",
              "3       11             0  ...                   3247                   13202\n",
              "4       16             0  ...                   3477                   12550\n",
              "5       21             0  ...                   3413                   12081\n",
              "6       26             0  ...                   3293                   11275\n",
              "7       31             0  ...                   2900                    9923\n",
              "8       36             0  ...                   2070                    6758\n",
              "9       41             0  ...                    789                    2491\n",
              "10      46             0  ...                    386                     922\n",
              "11      51             0  ...                    170                     459\n",
              "12      56             0  ...                    105                     332\n",
              "\n",
              "[13 rows x 7 columns]"
            ]
          },
          "metadata": {
            "tags": []
          },
          "execution_count": 65
        }
      ]
    },
    {
      "cell_type": "code",
      "metadata": {
        "id": "Ei9HVQBZ8gn4",
        "colab": {
          "base_uri": "https://localhost:8080/",
          "height": 573
        },
        "outputId": "8d54147e-7699-4b4b-d254-3c08e8e2155a"
      },
      "source": [
        "# plt.figure(12,12)\n",
        "plt.plot(col1,col2, label='argmax > 0.5')\n",
        "plt.plot(col1,col3, label='argmax < 0.5')\n",
        "\n",
        "plt.legend(loc='center left', bbox_to_anchor=(1, 0.5))\n",
        "plt.xlabel(\"epochs\")\n",
        "plt.ylabel(\"training data\")\n",
        "plt.title(\"On Training set\")\n",
        "plt.show()\n",
        "\n",
        "plt.plot(col1,col4, label =\"focus_true_pred_true \")\n",
        "plt.plot(col1,col5, label =\"focus_false_pred_true \")\n",
        "plt.plot(col1,col6, label =\"focus_true_pred_false \")\n",
        "plt.plot(col1,col7, label =\"focus_false_pred_false \")\n",
        "plt.title(\"On Training set\")\n",
        "plt.legend(loc='center left', bbox_to_anchor=(1, 0.5))\n",
        "plt.xlabel(\"epochs\")\n",
        "plt.ylabel(\"training data\")\n",
        "plt.savefig(\"train_ftpt.pdf\", bbox_inches='tight')\n",
        "plt.show()"
      ],
      "execution_count": 66,
      "outputs": [
        {
          "output_type": "display_data",
          "data": {
            "image/png": "[encoded data removed]",
            "text/plain": [
              "<Figure size 432x288 with 1 Axes>"
            ]
          },
          "metadata": {
            "tags": [],
            "needs_background": "light"
          }
        },
        {
          "output_type": "display_data",
          "data": {
            "image/png": "[encoded data removed]",
            "text/plain": [
              "<Figure size 432x288 with 1 Axes>"
            ]
          },
          "metadata": {
            "tags": [],
            "needs_background": "light"
          }
        }
      ]
    },
    {
      "cell_type": "code",
      "metadata": {
        "id": "_QKYVO8i8ivA",
        "colab": {
          "base_uri": "https://localhost:8080/",
          "height": 457
        },
        "outputId": "7ac82424-7a69-4dd8-8dc3-5d3b5ecb587f"
      },
      "source": [
        "df_test"
      ],
      "execution_count": 67,
      "outputs": [
        {
          "output_type": "execute_result",
          "data": {
            "text/html": [
              "<div>\n",
              "<style scoped>\n",
              "    .dataframe tbody tr th:only-of-type {\n",
              "        vertical-align: middle;\n",
              "    }\n",
              "\n",
              "    .dataframe tbody tr th {\n",
              "        vertical-align: top;\n",
              "    }\n",
              "\n",
              "    .dataframe thead th {\n",
              "        text-align: right;\n",
              "    }\n",
              "</style>\n",
              "<table border=\"1\" class=\"dataframe\">\n",
              "  <thead>\n",
              "    <tr style=\"text-align: right;\">\n",
              "      <th></th>\n",
              "      <th>epochs</th>\n",
              "      <th>argmax &gt; 0.5</th>\n",
              "      <th>argmax &lt; 0.5</th>\n",
              "      <th>focus_true_pred_true</th>\n",
              "      <th>focus_false_pred_true</th>\n",
              "      <th>focus_true_pred_false</th>\n",
              "      <th>focus_false_pred_false</th>\n",
              "    </tr>\n",
              "  </thead>\n",
              "  <tbody>\n",
              "    <tr>\n",
              "      <th>0</th>\n",
              "      <td>0</td>\n",
              "      <td>0</td>\n",
              "      <td>10000</td>\n",
              "      <td>347</td>\n",
              "      <td>2995</td>\n",
              "      <td>508</td>\n",
              "      <td>6150</td>\n",
              "    </tr>\n",
              "    <tr>\n",
              "      <th>1</th>\n",
              "      <td>1</td>\n",
              "      <td>0</td>\n",
              "      <td>10000</td>\n",
              "      <td>218</td>\n",
              "      <td>3197</td>\n",
              "      <td>636</td>\n",
              "      <td>5949</td>\n",
              "    </tr>\n",
              "    <tr>\n",
              "      <th>2</th>\n",
              "      <td>6</td>\n",
              "      <td>0</td>\n",
              "      <td>10000</td>\n",
              "      <td>428</td>\n",
              "      <td>3727</td>\n",
              "      <td>653</td>\n",
              "      <td>5192</td>\n",
              "    </tr>\n",
              "    <tr>\n",
              "      <th>3</th>\n",
              "      <td>11</td>\n",
              "      <td>0</td>\n",
              "      <td>10000</td>\n",
              "      <td>1022</td>\n",
              "      <td>3437</td>\n",
              "      <td>1128</td>\n",
              "      <td>4413</td>\n",
              "    </tr>\n",
              "    <tr>\n",
              "      <th>4</th>\n",
              "      <td>16</td>\n",
              "      <td>0</td>\n",
              "      <td>10000</td>\n",
              "      <td>989</td>\n",
              "      <td>3496</td>\n",
              "      <td>1327</td>\n",
              "      <td>4188</td>\n",
              "    </tr>\n",
              "    <tr>\n",
              "      <th>5</th>\n",
              "      <td>21</td>\n",
              "      <td>0</td>\n",
              "      <td>10000</td>\n",
              "      <td>1073</td>\n",
              "      <td>3591</td>\n",
              "      <td>1309</td>\n",
              "      <td>4027</td>\n",
              "    </tr>\n",
              "    <tr>\n",
              "      <th>6</th>\n",
              "      <td>26</td>\n",
              "      <td>0</td>\n",
              "      <td>10000</td>\n",
              "      <td>1102</td>\n",
              "      <td>3606</td>\n",
              "      <td>1288</td>\n",
              "      <td>4004</td>\n",
              "    </tr>\n",
              "    <tr>\n",
              "      <th>7</th>\n",
              "      <td>31</td>\n",
              "      <td>0</td>\n",
              "      <td>10000</td>\n",
              "      <td>1117</td>\n",
              "      <td>3359</td>\n",
              "      <td>1346</td>\n",
              "      <td>4178</td>\n",
              "    </tr>\n",
              "    <tr>\n",
              "      <th>8</th>\n",
              "      <td>36</td>\n",
              "      <td>0</td>\n",
              "      <td>10000</td>\n",
              "      <td>1169</td>\n",
              "      <td>3159</td>\n",
              "      <td>1468</td>\n",
              "      <td>4204</td>\n",
              "    </tr>\n",
              "    <tr>\n",
              "      <th>9</th>\n",
              "      <td>41</td>\n",
              "      <td>0</td>\n",
              "      <td>10000</td>\n",
              "      <td>1175</td>\n",
              "      <td>3018</td>\n",
              "      <td>1610</td>\n",
              "      <td>4197</td>\n",
              "    </tr>\n",
              "    <tr>\n",
              "      <th>10</th>\n",
              "      <td>46</td>\n",
              "      <td>0</td>\n",
              "      <td>10000</td>\n",
              "      <td>1324</td>\n",
              "      <td>2908</td>\n",
              "      <td>1508</td>\n",
              "      <td>4260</td>\n",
              "    </tr>\n",
              "    <tr>\n",
              "      <th>11</th>\n",
              "      <td>51</td>\n",
              "      <td>0</td>\n",
              "      <td>10000</td>\n",
              "      <td>1299</td>\n",
              "      <td>2897</td>\n",
              "      <td>1570</td>\n",
              "      <td>4234</td>\n",
              "    </tr>\n",
              "    <tr>\n",
              "      <th>12</th>\n",
              "      <td>56</td>\n",
              "      <td>0</td>\n",
              "      <td>10000</td>\n",
              "      <td>1259</td>\n",
              "      <td>2963</td>\n",
              "      <td>1614</td>\n",
              "      <td>4164</td>\n",
              "    </tr>\n",
              "  </tbody>\n",
              "</table>\n",
              "</div>"
            ],
            "text/plain": [
              "    epochs  argmax > 0.5  ...  focus_true_pred_false  focus_false_pred_false\n",
              "0        0             0  ...                    508                    6150\n",
              "1        1             0  ...                    636                    5949\n",
              "2        6             0  ...                    653                    5192\n",
              "3       11             0  ...                   1128                    4413\n",
              "4       16             0  ...                   1327                    4188\n",
              "5       21             0  ...                   1309                    4027\n",
              "6       26             0  ...                   1288                    4004\n",
              "7       31             0  ...                   1346                    4178\n",
              "8       36             0  ...                   1468                    4204\n",
              "9       41             0  ...                   1610                    4197\n",
              "10      46             0  ...                   1508                    4260\n",
              "11      51             0  ...                   1570                    4234\n",
              "12      56             0  ...                   1614                    4164\n",
              "\n",
              "[13 rows x 7 columns]"
            ]
          },
          "metadata": {
            "tags": []
          },
          "execution_count": 67
        }
      ]
    },
    {
      "cell_type": "code",
      "metadata": {
        "id": "aRlpgnjy8k1n",
        "colab": {
          "base_uri": "https://localhost:8080/",
          "height": 573
        },
        "outputId": "b9123e42-d71e-4d46-f1ef-722f64804106"
      },
      "source": [
        "# plt.figure(12,12)\n",
        "plt.plot(col1,col8, label='argmax > 0.5')\n",
        "plt.plot(col1,col9, label='argmax < 0.5')\n",
        "\n",
        "plt.legend(loc='center left', bbox_to_anchor=(1, 0.5))\n",
        "plt.xlabel(\"epochs\")\n",
        "plt.ylabel(\"Testing data\")\n",
        "plt.title(\"On Testing set\")\n",
        "plt.show()\n",
        "\n",
        "plt.plot(col1,col10, label =\"focus_true_pred_true \")\n",
        "plt.plot(col1,col11, label =\"focus_false_pred_true \")\n",
        "plt.plot(col1,col12, label =\"focus_true_pred_false \")\n",
        "plt.plot(col1,col13, label =\"focus_false_pred_false \")\n",
        "plt.title(\"On Testing set\")\n",
        "plt.legend(loc='center left', bbox_to_anchor=(1, 0.5))\n",
        "plt.xlabel(\"epochs\")\n",
        "plt.ylabel(\"Testing data\")\n",
        "plt.savefig(\"test_ftpt.pdf\", bbox_inches='tight')\n",
        "plt.show()"
      ],
      "execution_count": 68,
      "outputs": [
        {
          "output_type": "display_data",
          "data": {
            "image/png": "[encoded data removed]",
            "text/plain": [
              "<Figure size 432x288 with 1 Axes>"
            ]
          },
          "metadata": {
            "tags": [],
            "needs_background": "light"
          }
        },
        {
          "output_type": "display_data",
          "data": {
            "image/png": "[encoded data removed]",
            "text/plain": [
              "<Figure size 432x288 with 1 Axes>"
            ]
          },
          "metadata": {
            "tags": [],
            "needs_background": "light"
          }
        }
      ]
    },
    {
      "cell_type": "code",
      "metadata": {
        "id": "TTmdoz9L--GB",
        "colab": {
          "base_uri": "https://localhost:8080/"
        },
        "outputId": "0a3adb53-770c-494d-aaa7-bd369e0e1e6f"
      },
      "source": [
        "correct = 0\n",
        "total = 0\n",
        "count = 0\n",
        "flag = 1\n",
        "focus_true_pred_true =0\n",
        "focus_false_pred_true =0\n",
        "focus_true_pred_false =0\n",
        "focus_false_pred_false =0\n",
        "\n",
        "argmax_more_than_half = 0\n",
        "argmax_less_than_half =0\n",
        "\n",
        "with torch.no_grad():\n",
        "  for data in train_loader:\n",
        "    inputs, labels , fore_idx = data\n",
        "    inputs, labels , fore_idx = inputs.to(\"cuda\"),labels.to(\"cuda\"), fore_idx.to(\"cuda\")\n",
        "    alphas, avg_images = focus_net(inputs)\n",
        "    outputs = classify(avg_images)\n",
        "\n",
        "    _, predicted = torch.max(outputs.data, 1)\n",
        "\n",
        "    for j in range(labels.size(0)):\n",
        "      focus = torch.argmax(alphas[j])\n",
        "      if alphas[j][focus] >= 0.5 :\n",
        "        argmax_more_than_half += 1\n",
        "      else:\n",
        "        argmax_less_than_half += 1\n",
        "\n",
        "      if(focus == fore_idx[j] and predicted[j] == labels[j]):\n",
        "          focus_true_pred_true += 1\n",
        "      elif(focus != fore_idx[j] and predicted[j] == labels[j]):\n",
        "        focus_false_pred_true += 1\n",
        "      elif(focus == fore_idx[j] and predicted[j] != labels[j]):\n",
        "        focus_true_pred_false += 1\n",
        "      elif(focus != fore_idx[j] and predicted[j] != labels[j]):\n",
        "        focus_false_pred_false += 1\n",
        "\n",
        "    total += labels.size(0)\n",
        "    correct += (predicted == labels).sum().item()\n",
        "\n",
        "print('Accuracy of the network on the 30000 train images: %d %%' % (\n",
        "    100 * correct / total))\n",
        "print(\"total correct\", correct)\n",
        "print(\"total train set images\", total)\n",
        "\n",
        "print(\"focus_true_pred_true %d =============> FTPT : %d %%\" % (focus_true_pred_true , (100 * focus_true_pred_true / total) ) )\n",
        "print(\"focus_false_pred_true %d =============> FFPT : %d %%\" % (focus_false_pred_true, (100 * focus_false_pred_true / total) ) )\n",
        "print(\"focus_true_pred_false %d =============> FTPF : %d %%\" %( focus_true_pred_false , ( 100 * focus_true_pred_false / total) ) )\n",
        "print(\"focus_false_pred_false %d =============> FFPF : %d %%\" % (focus_false_pred_false, ( 100 * focus_false_pred_false / total) ) )\n",
        "\n",
        "print(\"argmax_more_than_half ==================> \",argmax_more_than_half)\n",
        "print(\"argmax_less_than_half ==================> \",argmax_less_than_half)"
      ],
      "execution_count": 69,
      "outputs": [
        {
          "output_type": "stream",
          "text": [
            "Accuracy of the network on the 30000 train images: 99 %\n",
            "total correct 29799\n",
            "total train set images 30000\n",
            "focus_true_pred_true 8309 =============> FTPT : 27 %\n",
            "focus_false_pred_true 21490 =============> FFPT : 71 %\n",
            "focus_true_pred_false 69 =============> FTPF : 0 %\n",
            "focus_false_pred_false 132 =============> FFPF : 0 %\n",
            "argmax_more_than_half ==================>  0\n",
            "argmax_less_than_half ==================>  30000\n"
          ],
          "name": "stdout"
        }
      ]
    },
    {
      "cell_type": "code",
      "metadata": {
        "id": "40RP4DzU_A2C",
        "colab": {
          "base_uri": "https://localhost:8080/"
        },
        "outputId": "4638d5ba-685f-4e6b-ccc4-ef6c0b9c93b1"
      },
      "source": [
        "correct = 0\n",
        "total = 0\n",
        "count = 0\n",
        "flag = 1\n",
        "focus_true_pred_true =0\n",
        "focus_false_pred_true =0\n",
        "focus_true_pred_false =0\n",
        "focus_false_pred_false =0\n",
        "\n",
        "argmax_more_than_half = 0\n",
        "argmax_less_than_half =0\n",
        "\n",
        "with torch.no_grad():\n",
        "  for data in test_loader:\n",
        "    inputs, labels , fore_idx = data\n",
        "    inputs, labels , fore_idx = inputs.to(\"cuda\"),labels.to(\"cuda\"), fore_idx.to(\"cuda\")\n",
        "    alphas, avg_images = focus_net(inputs)\n",
        "    outputs = classify(avg_images)\n",
        "\n",
        "    _, predicted = torch.max(outputs.data, 1)\n",
        "\n",
        "    for j in range(labels.size(0)):\n",
        "      focus = torch.argmax(alphas[j])\n",
        "      if alphas[j][focus] >= 0.5 :\n",
        "        argmax_more_than_half += 1\n",
        "      else:\n",
        "        argmax_less_than_half += 1\n",
        "\n",
        "      if(focus == fore_idx[j] and predicted[j] == labels[j]):\n",
        "          focus_true_pred_true += 1\n",
        "      elif(focus != fore_idx[j] and predicted[j] == labels[j]):\n",
        "        focus_false_pred_true += 1\n",
        "      elif(focus == fore_idx[j] and predicted[j] != labels[j]):\n",
        "        focus_true_pred_false += 1\n",
        "      elif(focus != fore_idx[j] and predicted[j] != labels[j]):\n",
        "        focus_false_pred_false += 1\n",
        "\n",
        "    total += labels.size(0)\n",
        "    correct += (predicted == labels).sum().item()\n",
        "\n",
        "print('Accuracy of the network on the 10000 test images: %d %%' % (\n",
        "    100 * correct / total))\n",
        "print(\"total correct\", correct)\n",
        "print(\"total train set images\", total)\n",
        "\n",
        "print(\"focus_true_pred_true %d =============> FTPT : %d %%\" % (focus_true_pred_true , (100 * focus_true_pred_true / total) ) )\n",
        "print(\"focus_false_pred_true %d =============> FFPT : %d %%\" % (focus_false_pred_true, (100 * focus_false_pred_true / total) ) )\n",
        "print(\"focus_true_pred_false %d =============> FTPF : %d %%\" %( focus_true_pred_false , ( 100 * focus_true_pred_false / total) ) )\n",
        "print(\"focus_false_pred_false %d =============> FFPF : %d %%\" % (focus_false_pred_false, ( 100 * focus_false_pred_false / total) ) )\n",
        "\n",
        "print(\"argmax_more_than_half ==================> \",argmax_more_than_half)\n",
        "print(\"argmax_less_than_half ==================> \",argmax_less_than_half)"
      ],
      "execution_count": 70,
      "outputs": [
        {
          "output_type": "stream",
          "text": [
            "Accuracy of the network on the 10000 test images: 42 %\n",
            "total correct 4247\n",
            "total train set images 10000\n",
            "focus_true_pred_true 1254 =============> FTPT : 12 %\n",
            "focus_false_pred_true 2993 =============> FFPT : 29 %\n",
            "focus_true_pred_false 1598 =============> FTPF : 15 %\n",
            "focus_false_pred_false 4155 =============> FFPF : 41 %\n",
            "argmax_more_than_half ==================>  0\n",
            "argmax_less_than_half ==================>  10000\n"
          ],
          "name": "stdout"
        }
      ]
    },
    {
      "cell_type": "code",
      "metadata": {
        "id": "iJEMJnUI9FP2",
        "colab": {
          "base_uri": "https://localhost:8080/"
        },
        "outputId": "c1bb6ba0-7251-4a21-e30c-a76b38944420"
      },
      "source": [
        "correct = 0\n",
        "total = 0\n",
        "\n",
        "with torch.no_grad():\n",
        "  for data in train_loader:\n",
        "    inputs, labels , fore_idx = data\n",
        "    inputs, labels = inputs.to(\"cuda\"), labels.to(\"cuda\")\n",
        "    alphas, avg_images = focus_net(inputs)\n",
        "    outputs = classify(avg_images)\n",
        "\n",
        "    _, predicted = torch.max(outputs.data, 1)\n",
        "\n",
        "    total += labels.size(0)\n",
        "    correct += (predicted == labels).sum().item()\n",
        "\n",
        "print('Accuracy of the network on the 30000 train images: %d %%' % ( 100 * correct / total))\n",
        "print(\"total correct\", correct)\n",
        "print(\"total train set images\", total)"
      ],
      "execution_count": 71,
      "outputs": [
        {
          "output_type": "stream",
          "text": [
            "Accuracy of the network on the 30000 train images: 99 %\n",
            "total correct 29799\n",
            "total train set images 30000\n"
          ],
          "name": "stdout"
        }
      ]
    },
    {
      "cell_type": "code",
      "metadata": {
        "id": "an7qmNLB-Ilb",
        "colab": {
          "base_uri": "https://localhost:8080/"
        },
        "outputId": "43c7fbea-8267-44f4-be1c-6c4b0958e4ad"
      },
      "source": [
        "correct = 0\n",
        "total = 0\n",
        "\n",
        "with torch.no_grad():\n",
        "  for data in test_loader:\n",
        "    inputs, labels , fore_idx = data\n",
        "    inputs, labels = inputs.to(\"cuda\"), labels.to(\"cuda\")\n",
        "    alphas, avg_images = focus_net(inputs)\n",
        "    outputs = classify(avg_images)\n",
        "\n",
        "    _, predicted = torch.max(outputs.data, 1)\n",
        "\n",
        "    total += labels.size(0)\n",
        "    correct += (predicted == labels).sum().item()\n",
        "\n",
        "print('Accuracy of the network on the 10000 test images: %d %%' % ( 100 * correct / total))\n",
        "print(\"total correct\", correct)\n",
        "print(\"total train set images\", total)"
      ],
      "execution_count": 72,
      "outputs": [
        {
          "output_type": "stream",
          "text": [
            "Accuracy of the network on the 10000 test images: 42 %\n",
            "total correct 4247\n",
            "total train set images 10000\n"
          ],
          "name": "stdout"
        }
      ]
    },
    {
      "cell_type": "code",
      "metadata": {
        "colab": {
          "base_uri": "https://localhost:8080/"
        },
        "id": "BXCzL7CJYegv",
        "outputId": "7e55fb1f-558f-4e65-a9b2-7486213287c4"
      },
      "source": [
        "max_alpha =[]\r\n",
        "alpha_ftpt=[]\r\n",
        "argmax_more_than_half=0\r\n",
        "argmax_less_than_half=0\r\n",
        "for i, data in  enumerate(test_loader):\r\n",
        "  inputs, labels,_ = data\r\n",
        "  inputs = inputs.double()\r\n",
        "  inputs, labels = inputs.to(\"cuda\"),labels.to(\"cuda\")\r\n",
        "  alphas, avg = focus_net(inputs)\r\n",
        "  outputs = classify(avg)\r\n",
        "  mx,_ = torch.max(alphas,1)\r\n",
        "  max_alpha.append(mx.cpu().detach().numpy())\r\n",
        "\r\n",
        "  for j in range(labels.size(0)):\r\n",
        "    focus = torch.argmax(alphas[j])\r\n",
        "    if alphas[j][focus] >= 0.5 :\r\n",
        "      argmax_more_than_half += 1\r\n",
        "    else:\r\n",
        "      argmax_less_than_half += 1\r\n",
        "\r\n",
        "    if (focus == fore_idx[j] and predicted[j] == labels[j]):\r\n",
        "        alpha_ftpt.append(alphas[j][focus].item())\r\n",
        "\r\n",
        "max_alpha = np.concatenate(max_alpha,axis=0)\r\n",
        "print(max_alpha.shape)"
      ],
      "execution_count": 76,
      "outputs": [
        {
          "output_type": "stream",
          "text": [
            "(10000,)\n"
          ],
          "name": "stdout"
        }
      ]
    },
    {
      "cell_type": "code",
      "metadata": {
        "colab": {
          "base_uri": "https://localhost:8080/",
          "height": 390
        },
        "id": "AjoipAyjYgEI",
        "outputId": "60be9da5-2757-4d9b-fdbf-06457b99bff5"
      },
      "source": [
        "plt.figure(figsize=(6,6))\r\n",
        "_,bins,_ = plt.hist(max_alpha,bins=50,color =\"c\")\r\n",
        "plt.title(\"alpha values histogram\")\r\n",
        "plt.savefig(\"alpha_hist.pdf\")"
      ],
      "execution_count": 77,
      "outputs": [
        {
          "output_type": "display_data",
          "data": {
            "image/png": "[encoded data removed]",
            "text/plain": [
              "<Figure size 432x432 with 1 Axes>"
            ]
          },
          "metadata": {
            "tags": [],
            "needs_background": "light"
          }
        }
      ]
    },
    {
      "cell_type": "code",
      "metadata": {
        "colab": {
          "base_uri": "https://localhost:8080/",
          "height": 390
        },
        "id": "H4I73-wzYmwv",
        "outputId": "4b4b3ace-de4c-43a0-fedc-27c00ab3dd22"
      },
      "source": [
        "plt.figure(figsize=(6,6))\r\n",
        "_,bins,_ = plt.hist(np.array(alpha_ftpt),bins=50,color =\"c\")\r\n",
        "plt.title(\"alpha values in ftpt\")\r\n",
        "plt.savefig(\"alpha_hist_ftpt.pdf\")"
      ],
      "execution_count": 78,
      "outputs": [
        {
          "output_type": "display_data",
          "data": {
            "image/png": "[encoded data removed]",
            "text/plain": [
              "<Figure size 432x432 with 1 Axes>"
            ]
          },
          "metadata": {
            "tags": [],
            "needs_background": "light"
          }
        }
      ]
    },
    {
      "cell_type": "code",
      "metadata": {
        "id": "_VlCBPbwYzsM"
      },
      "source": [
        ""
      ],
      "execution_count": 75,
      "outputs": []
    }
  ]
}