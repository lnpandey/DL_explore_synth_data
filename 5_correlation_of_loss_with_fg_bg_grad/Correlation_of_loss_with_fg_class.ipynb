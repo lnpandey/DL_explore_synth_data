{
  "nbformat": 4,
  "nbformat_minor": 0,
  "metadata": {
    "kernelspec": {
      "display_name": "Python 3",
      "language": "python",
      "name": "python3"
    },
    "language_info": {
      "codemirror_mode": {
        "name": "ipython",
        "version": 3
      },
      "file_extension": ".py",
      "mimetype": "text/x-python",
      "name": "python",
      "nbconvert_exporter": "python",
      "pygments_lexer": "ipython3",
      "version": "3.6.5"
    },
    "colab": {
      "name": "Correlation_of_loss_with_fg_class.ipynb",
      "provenance": []
    }
  },
  "cells": [
    {
      "cell_type": "code",
      "metadata": {
        "id": "lU9pDL7Fre2C",
        "colab_type": "code",
        "colab": {
          "base_uri": "https://localhost:8080/",
          "height": 34
        },
        "outputId": "0ad80427-3081-4b56-e643-bc19140eaa69"
      },
      "source": [
        "import numpy as np\n",
        "import pandas as pd\n",
        "from matplotlib import pyplot as plt\n",
        "from tqdm import tqdm\n",
        "%matplotlib inline\n",
        "from torch.utils.data import Dataset, DataLoader\n",
        "import torch\n",
        "import torchvision\n",
        "\n",
        "import torch.nn as nn\n",
        "import torch.optim as optim\n",
        "from torch.nn import functional as F\n",
        "device = torch.device(\"cuda\" if torch.cuda.is_available() else \"cpu\")\n",
        "print(device)"
      ],
      "execution_count": 1,
      "outputs": [
        {
          "output_type": "stream",
          "text": [
            "cpu\n"
          ],
          "name": "stdout"
        }
      ]
    },
    {
      "cell_type": "code",
      "metadata": {
        "id": "pamOvKSFre2P",
        "colab_type": "code",
        "colab": {}
      },
      "source": [
        "class Wherenet(nn.Module):\n",
        "    def __init__(self):\n",
        "        super(Wherenet,self).__init__()\n",
        "        self.linear1 = nn.Linear(2,16)\n",
        "        self.linear2 = nn.Linear(16,32)\n",
        "        self.linear3 = nn.Linear(32,1)\n",
        "    def forward(self,z):\n",
        "        x = torch.zeros([batch,9],dtype=torch.float64)\n",
        "        y = torch.zeros([batch,2], dtype=torch.float64)\n",
        "        #x,y = x.to(\"cuda\"),y.to(\"cuda\")\n",
        "        for i in range(9):\n",
        "            x[:,i] = self.helper(z[:,2*i:2*i+2])[:,0]\n",
        "            #print(k[:,0].shape,x[:,i].shape)\n",
        "        x = F.softmax(x,dim=1)   # alphas\n",
        "        x1 = x[:,0]\n",
        "        for i in range(9):\n",
        "            x1 = x[:,i]          \n",
        "            #print()\n",
        "            y = y+torch.mul(x1[:,None],z[:,2*i:2*i+2])\n",
        "        return y , x \n",
        "\n",
        "    \n",
        "    def helper(self,x):\n",
        "        x = F.relu(self.linear1(x))\n",
        "        x = F.relu(self.linear2(x))\n",
        "        x = self.linear3(x)\n",
        "        return x\n"
      ],
      "execution_count": 0,
      "outputs": []
    },
    {
      "cell_type": "code",
      "metadata": {
        "id": "GGyrlc12re2X",
        "colab_type": "code",
        "colab": {}
      },
      "source": [
        "class Whatnet(nn.Module):\n",
        "    def __init__(self):\n",
        "        super(Whatnet,self).__init__()\n",
        "        self.linear1 = nn.Linear(2,8)\n",
        "        self.linear2 = nn.Linear(8,16)\n",
        "        self.linear3 = nn.Linear(16,3)\n",
        "    def forward(self,x):\n",
        "        x = F.relu(self.linear1(x))\n",
        "        x = F.relu(self.linear2(x))\n",
        "        x = self.linear3(x)\n",
        "        return x"
      ],
      "execution_count": 0,
      "outputs": []
    },
    {
      "cell_type": "code",
      "metadata": {
        "id": "E4PdInlMre2e",
        "colab_type": "code",
        "colab": {}
      },
      "source": [
        "criterion = nn.CrossEntropyLoss()"
      ],
      "execution_count": 0,
      "outputs": []
    },
    {
      "cell_type": "code",
      "metadata": {
        "id": "H6n1QJyHre2k",
        "colab_type": "code",
        "colab": {
          "base_uri": "https://localhost:8080/",
          "height": 191
        },
        "outputId": "c7c2bd61-4a83-4252-f915-8768eaba0a55"
      },
      "source": [
        "y = np.random.randint(0,10,1000)\n",
        "idx= []\n",
        "for i in range(10):\n",
        "    print(i,sum(y==i))\n",
        "    idx.append(y==i) "
      ],
      "execution_count": 5,
      "outputs": [
        {
          "output_type": "stream",
          "text": [
            "0 91\n",
            "1 100\n",
            "2 98\n",
            "3 88\n",
            "4 102\n",
            "5 100\n",
            "6 94\n",
            "7 131\n",
            "8 93\n",
            "9 103\n"
          ],
          "name": "stdout"
        }
      ]
    },
    {
      "cell_type": "code",
      "metadata": {
        "id": "nbkU4CKDre2q",
        "colab_type": "code",
        "colab": {}
      },
      "source": [
        "x = np.zeros((1000,2))"
      ],
      "execution_count": 0,
      "outputs": []
    },
    {
      "cell_type": "code",
      "metadata": {
        "id": "vCBbWx9ire2v",
        "colab_type": "code",
        "colab": {}
      },
      "source": [
        "x[idx[0],:] = np.random.multivariate_normal(mean = [2,2],cov=[[0.01,0],[0,0.01]],size=sum(idx[0]))\n",
        "\n",
        "\n",
        "x[idx[1],:] = np.random.multivariate_normal(mean = [0,-2],cov=[[0.01,0],[0,0.01]],size=sum(idx[1]))\n",
        "\n",
        "\n",
        "x[idx[2],:] = np.random.multivariate_normal(mean = [-2,2],cov=[[0.01,0],[0,0.01]],size=sum(idx[2]))\n",
        "\n",
        "\n",
        "\n",
        "x[idx[3],:] = np.random.multivariate_normal(mean = [0,0],cov=[[0.01,0],[0,0.01]],size=sum(idx[3]))\n",
        "\n",
        "\n",
        "x[idx[4],:] = np.random.multivariate_normal(mean =[-2,-4] ,cov=[[0.01,0],[0,0.01]],size=sum(idx[4]))\n",
        "\n",
        "\n",
        "\n",
        "x[idx[5],:] = np.random.multivariate_normal(mean = [2,-4],cov=[[0.01,0],[0,0.01]],size=sum(idx[5]))\n",
        "\n",
        "\n",
        "x[idx[6],:] = np.random.multivariate_normal(mean = [-4,0],cov=[[0.01,0],[0,0.01]],size=sum(idx[6]))\n",
        "\n",
        "\n",
        "x[idx[7],:] = np.random.multivariate_normal(mean = [-2,4],cov=[[0.01,0],[0,0.01]],size=sum(idx[7]))\n",
        "\n",
        "\n",
        "x[idx[8],:] = np.random.multivariate_normal(mean = [2,4],cov=[[0.01,0],[0,0.01]],size=sum(idx[8]))\n",
        "\n",
        "\n",
        "x[idx[9],:] = np.random.multivariate_normal(mean = [4,0],cov=[[0.01,0],[0,0.01]],size=sum(idx[9]))\n"
      ],
      "execution_count": 0,
      "outputs": []
    },
    {
      "cell_type": "code",
      "metadata": {
        "id": "uy_hHsWjre2z",
        "colab_type": "code",
        "colab": {}
      },
      "source": [
        "# y = np.random.randint(0,10,1000)\n",
        "idx= []\n",
        "for i in range(10):\n",
        "    #print(i,sum(y==i))\n",
        "    idx.append(y==i)"
      ],
      "execution_count": 0,
      "outputs": []
    },
    {
      "cell_type": "code",
      "metadata": {
        "id": "yj6duXwCre24",
        "colab_type": "code",
        "colab": {
          "base_uri": "https://localhost:8080/",
          "height": 282
        },
        "outputId": "8a7a604c-3b79-42da-d188-f009d8a364f6"
      },
      "source": [
        "for i in range(10):\n",
        "    plt.scatter(x[idx[i],0],x[idx[i],1],label=\"class_\"+str(i))\n",
        "plt.legend(loc='center left', bbox_to_anchor=(1, 0.5))"
      ],
      "execution_count": 9,
      "outputs": [
        {
          "output_type": "execute_result",
          "data": {
            "text/plain": [
              "<matplotlib.legend.Legend at 0x7f6037d0aa20>"
            ]
          },
          "metadata": {
            "tags": []
          },
          "execution_count": 9
        },
        {
          "output_type": "display_data",
          "data": {
            "image/png": "[encoded data removed]",
            "text/plain": [
              "<Figure size 432x288 with 1 Axes>"
            ]
          },
          "metadata": {
            "tags": []
          }
        }
      ]
    },
    {
      "cell_type": "code",
      "metadata": {
        "id": "89F_Sd9ure29",
        "colab_type": "code",
        "colab": {}
      },
      "source": [
        "foreground_classes = {'class_0','class_1', 'class_2'}\n",
        "\n",
        "background_classes = {'class_3','class_4', 'class_5', 'class_6','class_7', 'class_8', 'class_9'}"
      ],
      "execution_count": 0,
      "outputs": []
    },
    {
      "cell_type": "code",
      "metadata": {
        "id": "-NaZhKvJre3D",
        "colab_type": "code",
        "colab": {
          "base_uri": "https://localhost:8080/",
          "height": 208
        },
        "outputId": "406c0fa4-da69-4bde-fff7-0fcecc4f9949"
      },
      "source": [
        "fg_class  = np.random.randint(0,3)\n",
        "fg_idx = np.random.randint(0,9)\n",
        "\n",
        "a = []\n",
        "for i in range(9):\n",
        "    if i == fg_idx:\n",
        "        b = np.random.choice(np.where(idx[fg_class]==True)[0],size=1)\n",
        "        a.append(x[b])\n",
        "        print(\"foreground \"+str(fg_class)+\" present at \" + str(fg_idx))\n",
        "    else:\n",
        "        bg_class = np.random.randint(3,10)\n",
        "        b = np.random.choice(np.where(idx[bg_class]==True)[0],size=1)\n",
        "        a.append(x[b])\n",
        "        print(\"background \"+str(bg_class)+\" present at \" + str(i))\n",
        "a = np.concatenate(a,axis=0)\n",
        "print(a.shape)\n",
        "\n",
        "print(fg_class , fg_idx)"
      ],
      "execution_count": 11,
      "outputs": [
        {
          "output_type": "stream",
          "text": [
            "background 5 present at 0\n",
            "background 7 present at 1\n",
            "background 7 present at 2\n",
            "foreground 2 present at 3\n",
            "background 6 present at 4\n",
            "background 5 present at 5\n",
            "background 9 present at 6\n",
            "background 5 present at 7\n",
            "background 4 present at 8\n",
            "(9, 2)\n",
            "2 3\n"
          ],
          "name": "stdout"
        }
      ]
    },
    {
      "cell_type": "code",
      "metadata": {
        "id": "jKmst8B9re3J",
        "colab_type": "code",
        "colab": {}
      },
      "source": [
        "desired_num = 3000\n",
        "mosaic_list =[]\n",
        "mosaic_label = []\n",
        "fore_idx=[]\n",
        "for j in range(desired_num):\n",
        "    fg_class  = np.random.randint(0,3)\n",
        "    fg_idx = np.random.randint(0,9)\n",
        "    a = []\n",
        "    for i in range(9):\n",
        "        if i == fg_idx:\n",
        "            b = np.random.choice(np.where(idx[fg_class]==True)[0],size=1)\n",
        "            a.append(x[b])\n",
        "#             print(\"foreground \"+str(fg_class)+\" present at \" + str(fg_idx))\n",
        "        else:\n",
        "            bg_class = np.random.randint(3,10)\n",
        "            b = np.random.choice(np.where(idx[bg_class]==True)[0],size=1)\n",
        "            a.append(x[b])\n",
        "#             print(\"background \"+str(bg_class)+\" present at \" + str(i))\n",
        "    a = np.concatenate(a,axis=0)\n",
        "    mosaic_list.append(np.reshape(a,(18,1)))\n",
        "    mosaic_label.append(fg_class)\n",
        "    fore_idx.append(fg_idx)"
      ],
      "execution_count": 0,
      "outputs": []
    },
    {
      "cell_type": "code",
      "metadata": {
        "id": "Ej8hhoKmre3N",
        "colab_type": "code",
        "colab": {}
      },
      "source": [
        "mosaic_list = np.concatenate(mosaic_list,axis=1).T\n",
        "#print(mosaic_list)"
      ],
      "execution_count": 0,
      "outputs": []
    },
    {
      "cell_type": "code",
      "metadata": {
        "id": "9hLCxpvZre3S",
        "colab_type": "code",
        "colab": {}
      },
      "source": [
        "class MosaicDataset(Dataset):\n",
        "  \"\"\"MosaicDataset dataset.\"\"\"\n",
        "\n",
        "  def __init__(self, mosaic_list, mosaic_label, fore_idx):\n",
        "    \"\"\"\n",
        "      Args:\n",
        "        csv_file (string): Path to the csv file with annotations.\n",
        "        root_dir (string): Directory with all the images.\n",
        "        transform (callable, optional): Optional transform to be applied\n",
        "            on a sample.\n",
        "    \"\"\"\n",
        "    self.mosaic = mosaic_list\n",
        "    self.label = mosaic_label\n",
        "    self.fore_idx = fore_idx\n",
        "\n",
        "  def __len__(self):\n",
        "    return len(self.label)\n",
        "\n",
        "  def __getitem__(self, idx):\n",
        "    return self.mosaic[idx] , self.label[idx], self.fore_idx[idx]\n",
        "\n",
        "batch = 250\n",
        "msd = MosaicDataset(mosaic_list, mosaic_label , fore_idx)\n",
        "train_loader = DataLoader( msd,batch_size= batch ,shuffle=True)"
      ],
      "execution_count": 0,
      "outputs": []
    },
    {
      "cell_type": "code",
      "metadata": {
        "id": "dxqMo8usre3W",
        "colab_type": "code",
        "colab": {}
      },
      "source": [
        "where = Wherenet().double()\n",
        "what = Whatnet().double()"
      ],
      "execution_count": 0,
      "outputs": []
    },
    {
      "cell_type": "code",
      "metadata": {
        "id": "MEk6KPz6re3a",
        "colab_type": "code",
        "colab": {
          "base_uri": "https://localhost:8080/",
          "height": 1000
        },
        "outputId": "951cf90c-5803-45af-9fb5-e180b600f27f"
      },
      "source": [
        "criterion = nn.CrossEntropyLoss()\n",
        "optimizer_where = optim.SGD(where.parameters(), lr=0.01, momentum=0.9)\n",
        "optimizer_what = optim.SGD(what.parameters(), lr=0.01, momentum=0.9)\n",
        "\n",
        "nos_epochs = 100\n",
        "\n",
        "train_loss=[]\n",
        "train_loss_tot=[]\n",
        "test_loss =[]\n",
        "train_acc = []\n",
        "test_acc = []\n",
        "fg_grad=[]\n",
        "bg_grad=[]\n",
        "for epoch in range(nos_epochs):  # loop over the dataset multiple times\n",
        "    \n",
        "    running_loss = 0.0\n",
        "    running_acc = 0.0\n",
        "    cnt=0\n",
        "    loss_alpha_fg = 0\n",
        "    loss_alpha_bg = 0\n",
        "    iteration = desired_num // batch\n",
        "    \n",
        "    for i, data in  enumerate(train_loader):\n",
        "        inputs , labels , fidx = data\n",
        "        \n",
        "        optimizer_what.zero_grad()\n",
        "        optimizer_where.zero_grad()\n",
        "        \n",
        "        avg_inp,alphas = where(inputs)\n",
        "        \n",
        "        outputs = what(avg_inp)\n",
        "        \n",
        "        _, predicted = torch.max(outputs.data, 1)\n",
        "        \n",
        "        loss = criterion(outputs, labels) \n",
        "        \n",
        "        grd = torch.autograd.grad(loss,alphas,retain_graph=True)\n",
        "        \n",
        "        one_hot_fg = torch.zeros(len(fidx),fidx.max()+1).scatter_(1,fidx.unsqueeze(1),1.)\n",
        "        one_hot_bg = (1-one_hot_fg)/8\n",
        "        loss_alpha_fg += torch.sum(torch.sum(torch.mul(one_hot_fg, grd[0]),dim=1))\n",
        "        loss_alpha_bg += torch.sum(torch.sum(torch.mul(one_hot_bg, grd[0]),dim=1))\n",
        " \n",
        "        loss.backward(retain_graph =True)\n",
        "        \n",
        "        optimizer_where.step()\n",
        "        optimizer_what.step()\n",
        "        \n",
        "        running_loss += loss.item()\n",
        "        if cnt % 4 == 3:    # print every 6 mini-batches\n",
        "            print('[%d, %5d] loss: %.3f' %(epoch + 1, cnt + 1, running_loss / 4))\n",
        "#             print('[%d,%5d] accuracy: %.3f' %(epoch + 1, cnt+1,running_acc/desired_num))\n",
        "            running_loss = 0.0\n",
        "            train_loss.append(running_loss)\n",
        "#             train_acc.append(running_acc /desired_num)\n",
        "            running_acc = 0\n",
        "        cnt=cnt+1\n",
        "        \n",
        "        \n",
        "    fg_grad.append(loss_alpha_fg.item()/desired_num)\n",
        "    bg_grad.append(loss_alpha_bg.item()/desired_num)\n",
        "    \n",
        "    with torch.no_grad():\n",
        "        correct = 0\n",
        "        total = 0\n",
        "        train_loss_epoch = 0\n",
        "        for data in train_loader:\n",
        "            \n",
        "            inputs, labels , fore_idx = data\n",
        "            avg_inp,alphas = where(inputs)\n",
        "            outputs = what(avg_inp)\n",
        "            _, predicted = torch.max(outputs.data, 1)\n",
        "            train_loss_epoch += criterion(outputs, labels).item()\n",
        "            total += labels.size(0)\n",
        "            correct += (predicted == labels).sum().item()\n",
        "        train_loss_tot.append(train_loss_epoch)\n",
        "    print('Accuracy of the network on the 1000 train images: %d %%' % (100 * correct / total))\n",
        "print(\"finished training\")\n",
        "    \n",
        "    "
      ],
      "execution_count": 16,
      "outputs": [
        {
          "output_type": "stream",
          "text": [
            "[1,     4] loss: 1.151\n",
            "[1,     8] loss: 1.127\n",
            "[1,    12] loss: 1.114\n",
            "Accuracy of the network on the 1000 train images: 31 %\n",
            "[2,     4] loss: 1.108\n",
            "[2,     8] loss: 1.099\n",
            "[2,    12] loss: 1.097\n",
            "Accuracy of the network on the 1000 train images: 34 %\n",
            "[3,     4] loss: 1.096\n",
            "[3,     8] loss: 1.096\n",
            "[3,    12] loss: 1.095\n",
            "Accuracy of the network on the 1000 train images: 35 %\n",
            "[4,     4] loss: 1.096\n",
            "[4,     8] loss: 1.090\n",
            "[4,    12] loss: 1.093\n",
            "Accuracy of the network on the 1000 train images: 35 %\n",
            "[5,     4] loss: 1.090\n",
            "[5,     8] loss: 1.088\n",
            "[5,    12] loss: 1.090\n",
            "Accuracy of the network on the 1000 train images: 38 %\n",
            "[6,     4] loss: 1.084\n",
            "[6,     8] loss: 1.088\n",
            "[6,    12] loss: 1.086\n",
            "Accuracy of the network on the 1000 train images: 40 %\n",
            "[7,     4] loss: 1.084\n",
            "[7,     8] loss: 1.082\n",
            "[7,    12] loss: 1.083\n",
            "Accuracy of the network on the 1000 train images: 41 %\n",
            "[8,     4] loss: 1.081\n",
            "[8,     8] loss: 1.078\n",
            "[8,    12] loss: 1.079\n",
            "Accuracy of the network on the 1000 train images: 43 %\n",
            "[9,     4] loss: 1.075\n",
            "[9,     8] loss: 1.080\n",
            "[9,    12] loss: 1.071\n",
            "Accuracy of the network on the 1000 train images: 43 %\n",
            "[10,     4] loss: 1.073\n",
            "[10,     8] loss: 1.075\n",
            "[10,    12] loss: 1.064\n",
            "Accuracy of the network on the 1000 train images: 43 %\n",
            "[11,     4] loss: 1.061\n",
            "[11,     8] loss: 1.066\n",
            "[11,    12] loss: 1.070\n",
            "Accuracy of the network on the 1000 train images: 44 %\n",
            "[12,     4] loss: 1.064\n",
            "[12,     8] loss: 1.061\n",
            "[12,    12] loss: 1.052\n",
            "Accuracy of the network on the 1000 train images: 45 %\n",
            "[13,     4] loss: 1.053\n",
            "[13,     8] loss: 1.044\n",
            "[13,    12] loss: 1.056\n",
            "Accuracy of the network on the 1000 train images: 46 %\n",
            "[14,     4] loss: 1.049\n",
            "[14,     8] loss: 1.038\n",
            "[14,    12] loss: 1.040\n",
            "Accuracy of the network on the 1000 train images: 47 %\n",
            "[15,     4] loss: 1.038\n",
            "[15,     8] loss: 1.023\n",
            "[15,    12] loss: 1.036\n",
            "Accuracy of the network on the 1000 train images: 48 %\n",
            "[16,     4] loss: 1.007\n",
            "[16,     8] loss: 1.030\n",
            "[16,    12] loss: 1.018\n",
            "Accuracy of the network on the 1000 train images: 50 %\n",
            "[17,     4] loss: 1.000\n",
            "[17,     8] loss: 1.006\n",
            "[17,    12] loss: 0.994\n",
            "Accuracy of the network on the 1000 train images: 52 %\n",
            "[18,     4] loss: 0.984\n",
            "[18,     8] loss: 0.967\n",
            "[18,    12] loss: 0.965\n",
            "Accuracy of the network on the 1000 train images: 56 %\n",
            "[19,     4] loss: 0.932\n",
            "[19,     8] loss: 0.931\n",
            "[19,    12] loss: 0.919\n",
            "Accuracy of the network on the 1000 train images: 64 %\n",
            "[20,     4] loss: 0.874\n",
            "[20,     8] loss: 0.858\n",
            "[20,    12] loss: 0.840\n",
            "Accuracy of the network on the 1000 train images: 73 %\n",
            "[21,     4] loss: 0.803\n",
            "[21,     8] loss: 0.775\n",
            "[21,    12] loss: 0.711\n",
            "Accuracy of the network on the 1000 train images: 82 %\n",
            "[22,     4] loss: 0.699\n",
            "[22,     8] loss: 0.665\n",
            "[22,    12] loss: 0.610\n",
            "Accuracy of the network on the 1000 train images: 88 %\n",
            "[23,     4] loss: 0.573\n",
            "[23,     8] loss: 0.544\n",
            "[23,    12] loss: 0.502\n",
            "Accuracy of the network on the 1000 train images: 91 %\n",
            "[24,     4] loss: 0.445\n",
            "[24,     8] loss: 0.419\n",
            "[24,    12] loss: 0.379\n",
            "Accuracy of the network on the 1000 train images: 96 %\n",
            "[25,     4] loss: 0.324\n",
            "[25,     8] loss: 0.308\n",
            "[25,    12] loss: 0.268\n",
            "Accuracy of the network on the 1000 train images: 98 %\n",
            "[26,     4] loss: 0.231\n",
            "[26,     8] loss: 0.193\n",
            "[26,    12] loss: 0.176\n",
            "Accuracy of the network on the 1000 train images: 99 %\n",
            "[27,     4] loss: 0.151\n",
            "[27,     8] loss: 0.119\n",
            "[27,    12] loss: 0.110\n",
            "Accuracy of the network on the 1000 train images: 99 %\n",
            "[28,     4] loss: 0.095\n",
            "[28,     8] loss: 0.077\n",
            "[28,    12] loss: 0.068\n",
            "Accuracy of the network on the 1000 train images: 100 %\n",
            "[29,     4] loss: 0.060\n",
            "[29,     8] loss: 0.051\n",
            "[29,    12] loss: 0.046\n",
            "Accuracy of the network on the 1000 train images: 100 %\n",
            "[30,     4] loss: 0.039\n",
            "[30,     8] loss: 0.035\n",
            "[30,    12] loss: 0.033\n",
            "Accuracy of the network on the 1000 train images: 100 %\n",
            "[31,     4] loss: 0.029\n",
            "[31,     8] loss: 0.027\n",
            "[31,    12] loss: 0.021\n",
            "Accuracy of the network on the 1000 train images: 100 %\n",
            "[32,     4] loss: 0.021\n",
            "[32,     8] loss: 0.019\n",
            "[32,    12] loss: 0.017\n",
            "Accuracy of the network on the 1000 train images: 100 %\n",
            "[33,     4] loss: 0.015\n",
            "[33,     8] loss: 0.016\n",
            "[33,    12] loss: 0.014\n",
            "Accuracy of the network on the 1000 train images: 100 %\n",
            "[34,     4] loss: 0.013\n",
            "[34,     8] loss: 0.013\n",
            "[34,    12] loss: 0.011\n",
            "Accuracy of the network on the 1000 train images: 100 %\n",
            "[35,     4] loss: 0.011\n",
            "[35,     8] loss: 0.010\n",
            "[35,    12] loss: 0.009\n",
            "Accuracy of the network on the 1000 train images: 100 %\n",
            "[36,     4] loss: 0.009\n",
            "[36,     8] loss: 0.008\n",
            "[36,    12] loss: 0.008\n",
            "Accuracy of the network on the 1000 train images: 100 %\n",
            "[37,     4] loss: 0.008\n",
            "[37,     8] loss: 0.007\n",
            "[37,    12] loss: 0.007\n",
            "Accuracy of the network on the 1000 train images: 100 %\n",
            "[38,     4] loss: 0.006\n",
            "[38,     8] loss: 0.006\n",
            "[38,    12] loss: 0.007\n",
            "Accuracy of the network on the 1000 train images: 100 %\n",
            "[39,     4] loss: 0.006\n",
            "[39,     8] loss: 0.006\n",
            "[39,    12] loss: 0.005\n",
            "Accuracy of the network on the 1000 train images: 100 %\n",
            "[40,     4] loss: 0.005\n",
            "[40,     8] loss: 0.005\n",
            "[40,    12] loss: 0.005\n",
            "Accuracy of the network on the 1000 train images: 100 %\n",
            "[41,     4] loss: 0.005\n",
            "[41,     8] loss: 0.005\n",
            "[41,    12] loss: 0.004\n",
            "Accuracy of the network on the 1000 train images: 100 %\n",
            "[42,     4] loss: 0.004\n",
            "[42,     8] loss: 0.004\n",
            "[42,    12] loss: 0.004\n",
            "Accuracy of the network on the 1000 train images: 100 %\n",
            "[43,     4] loss: 0.004\n",
            "[43,     8] loss: 0.004\n",
            "[43,    12] loss: 0.004\n",
            "Accuracy of the network on the 1000 train images: 100 %\n",
            "[44,     4] loss: 0.004\n",
            "[44,     8] loss: 0.003\n",
            "[44,    12] loss: 0.003\n",
            "Accuracy of the network on the 1000 train images: 100 %\n",
            "[45,     4] loss: 0.003\n",
            "[45,     8] loss: 0.003\n",
            "[45,    12] loss: 0.003\n",
            "Accuracy of the network on the 1000 train images: 100 %\n",
            "[46,     4] loss: 0.003\n",
            "[46,     8] loss: 0.003\n",
            "[46,    12] loss: 0.003\n",
            "Accuracy of the network on the 1000 train images: 100 %\n",
            "[47,     4] loss: 0.003\n",
            "[47,     8] loss: 0.003\n",
            "[47,    12] loss: 0.003\n",
            "Accuracy of the network on the 1000 train images: 100 %\n",
            "[48,     4] loss: 0.003\n",
            "[48,     8] loss: 0.002\n",
            "[48,    12] loss: 0.003\n",
            "Accuracy of the network on the 1000 train images: 100 %\n",
            "[49,     4] loss: 0.002\n",
            "[49,     8] loss: 0.002\n",
            "[49,    12] loss: 0.002\n",
            "Accuracy of the network on the 1000 train images: 100 %\n",
            "[50,     4] loss: 0.002\n",
            "[50,     8] loss: 0.002\n",
            "[50,    12] loss: 0.002\n",
            "Accuracy of the network on the 1000 train images: 100 %\n",
            "[51,     4] loss: 0.002\n",
            "[51,     8] loss: 0.002\n",
            "[51,    12] loss: 0.002\n",
            "Accuracy of the network on the 1000 train images: 100 %\n",
            "[52,     4] loss: 0.002\n",
            "[52,     8] loss: 0.002\n",
            "[52,    12] loss: 0.002\n",
            "Accuracy of the network on the 1000 train images: 100 %\n",
            "[53,     4] loss: 0.002\n",
            "[53,     8] loss: 0.002\n",
            "[53,    12] loss: 0.002\n",
            "Accuracy of the network on the 1000 train images: 100 %\n",
            "[54,     4] loss: 0.002\n",
            "[54,     8] loss: 0.002\n",
            "[54,    12] loss: 0.002\n",
            "Accuracy of the network on the 1000 train images: 100 %\n",
            "[55,     4] loss: 0.002\n",
            "[55,     8] loss: 0.002\n",
            "[55,    12] loss: 0.002\n",
            "Accuracy of the network on the 1000 train images: 100 %\n",
            "[56,     4] loss: 0.002\n",
            "[56,     8] loss: 0.002\n",
            "[56,    12] loss: 0.002\n",
            "Accuracy of the network on the 1000 train images: 100 %\n",
            "[57,     4] loss: 0.002\n",
            "[57,     8] loss: 0.002\n",
            "[57,    12] loss: 0.001\n",
            "Accuracy of the network on the 1000 train images: 100 %\n",
            "[58,     4] loss: 0.001\n",
            "[58,     8] loss: 0.001\n",
            "[58,    12] loss: 0.001\n",
            "Accuracy of the network on the 1000 train images: 100 %\n",
            "[59,     4] loss: 0.001\n",
            "[59,     8] loss: 0.001\n",
            "[59,    12] loss: 0.001\n",
            "Accuracy of the network on the 1000 train images: 100 %\n",
            "[60,     4] loss: 0.001\n",
            "[60,     8] loss: 0.001\n",
            "[60,    12] loss: 0.001\n",
            "Accuracy of the network on the 1000 train images: 100 %\n",
            "[61,     4] loss: 0.001\n",
            "[61,     8] loss: 0.001\n",
            "[61,    12] loss: 0.001\n",
            "Accuracy of the network on the 1000 train images: 100 %\n",
            "[62,     4] loss: 0.001\n",
            "[62,     8] loss: 0.001\n",
            "[62,    12] loss: 0.001\n",
            "Accuracy of the network on the 1000 train images: 100 %\n",
            "[63,     4] loss: 0.001\n",
            "[63,     8] loss: 0.001\n",
            "[63,    12] loss: 0.001\n",
            "Accuracy of the network on the 1000 train images: 100 %\n",
            "[64,     4] loss: 0.001\n",
            "[64,     8] loss: 0.001\n",
            "[64,    12] loss: 0.001\n",
            "Accuracy of the network on the 1000 train images: 100 %\n",
            "[65,     4] loss: 0.001\n",
            "[65,     8] loss: 0.001\n",
            "[65,    12] loss: 0.001\n",
            "Accuracy of the network on the 1000 train images: 100 %\n",
            "[66,     4] loss: 0.001\n",
            "[66,     8] loss: 0.001\n",
            "[66,    12] loss: 0.001\n",
            "Accuracy of the network on the 1000 train images: 100 %\n",
            "[67,     4] loss: 0.001\n",
            "[67,     8] loss: 0.001\n",
            "[67,    12] loss: 0.001\n",
            "Accuracy of the network on the 1000 train images: 100 %\n",
            "[68,     4] loss: 0.001\n",
            "[68,     8] loss: 0.001\n",
            "[68,    12] loss: 0.001\n",
            "Accuracy of the network on the 1000 train images: 100 %\n",
            "[69,     4] loss: 0.001\n",
            "[69,     8] loss: 0.001\n",
            "[69,    12] loss: 0.001\n",
            "Accuracy of the network on the 1000 train images: 100 %\n",
            "[70,     4] loss: 0.001\n",
            "[70,     8] loss: 0.001\n",
            "[70,    12] loss: 0.001\n",
            "Accuracy of the network on the 1000 train images: 100 %\n",
            "[71,     4] loss: 0.001\n",
            "[71,     8] loss: 0.001\n",
            "[71,    12] loss: 0.001\n",
            "Accuracy of the network on the 1000 train images: 100 %\n",
            "[72,     4] loss: 0.001\n",
            "[72,     8] loss: 0.001\n",
            "[72,    12] loss: 0.001\n",
            "Accuracy of the network on the 1000 train images: 100 %\n",
            "[73,     4] loss: 0.001\n",
            "[73,     8] loss: 0.001\n",
            "[73,    12] loss: 0.001\n",
            "Accuracy of the network on the 1000 train images: 100 %\n",
            "[74,     4] loss: 0.001\n",
            "[74,     8] loss: 0.001\n",
            "[74,    12] loss: 0.001\n",
            "Accuracy of the network on the 1000 train images: 100 %\n",
            "[75,     4] loss: 0.001\n",
            "[75,     8] loss: 0.001\n",
            "[75,    12] loss: 0.001\n",
            "Accuracy of the network on the 1000 train images: 100 %\n",
            "[76,     4] loss: 0.001\n",
            "[76,     8] loss: 0.001\n",
            "[76,    12] loss: 0.001\n",
            "Accuracy of the network on the 1000 train images: 100 %\n",
            "[77,     4] loss: 0.001\n",
            "[77,     8] loss: 0.001\n",
            "[77,    12] loss: 0.001\n",
            "Accuracy of the network on the 1000 train images: 100 %\n",
            "[78,     4] loss: 0.001\n",
            "[78,     8] loss: 0.001\n",
            "[78,    12] loss: 0.001\n",
            "Accuracy of the network on the 1000 train images: 100 %\n",
            "[79,     4] loss: 0.001\n",
            "[79,     8] loss: 0.001\n",
            "[79,    12] loss: 0.001\n",
            "Accuracy of the network on the 1000 train images: 100 %\n",
            "[80,     4] loss: 0.001\n",
            "[80,     8] loss: 0.001\n",
            "[80,    12] loss: 0.001\n",
            "Accuracy of the network on the 1000 train images: 100 %\n",
            "[81,     4] loss: 0.001\n",
            "[81,     8] loss: 0.001\n",
            "[81,    12] loss: 0.001\n",
            "Accuracy of the network on the 1000 train images: 100 %\n",
            "[82,     4] loss: 0.001\n",
            "[82,     8] loss: 0.001\n",
            "[82,    12] loss: 0.001\n",
            "Accuracy of the network on the 1000 train images: 100 %\n",
            "[83,     4] loss: 0.001\n",
            "[83,     8] loss: 0.001\n",
            "[83,    12] loss: 0.001\n",
            "Accuracy of the network on the 1000 train images: 100 %\n",
            "[84,     4] loss: 0.001\n",
            "[84,     8] loss: 0.001\n",
            "[84,    12] loss: 0.001\n",
            "Accuracy of the network on the 1000 train images: 100 %\n",
            "[85,     4] loss: 0.001\n",
            "[85,     8] loss: 0.001\n",
            "[85,    12] loss: 0.001\n",
            "Accuracy of the network on the 1000 train images: 100 %\n",
            "[86,     4] loss: 0.001\n",
            "[86,     8] loss: 0.001\n",
            "[86,    12] loss: 0.001\n",
            "Accuracy of the network on the 1000 train images: 100 %\n",
            "[87,     4] loss: 0.001\n",
            "[87,     8] loss: 0.001\n",
            "[87,    12] loss: 0.001\n",
            "Accuracy of the network on the 1000 train images: 100 %\n",
            "[88,     4] loss: 0.001\n",
            "[88,     8] loss: 0.001\n",
            "[88,    12] loss: 0.001\n",
            "Accuracy of the network on the 1000 train images: 100 %\n",
            "[89,     4] loss: 0.001\n",
            "[89,     8] loss: 0.001\n",
            "[89,    12] loss: 0.001\n",
            "Accuracy of the network on the 1000 train images: 100 %\n",
            "[90,     4] loss: 0.001\n",
            "[90,     8] loss: 0.001\n",
            "[90,    12] loss: 0.001\n",
            "Accuracy of the network on the 1000 train images: 100 %\n",
            "[91,     4] loss: 0.001\n",
            "[91,     8] loss: 0.001\n",
            "[91,    12] loss: 0.001\n",
            "Accuracy of the network on the 1000 train images: 100 %\n",
            "[92,     4] loss: 0.000\n",
            "[92,     8] loss: 0.001\n",
            "[92,    12] loss: 0.001\n",
            "Accuracy of the network on the 1000 train images: 100 %\n",
            "[93,     4] loss: 0.001\n",
            "[93,     8] loss: 0.000\n",
            "[93,    12] loss: 0.001\n",
            "Accuracy of the network on the 1000 train images: 100 %\n",
            "[94,     4] loss: 0.000\n",
            "[94,     8] loss: 0.000\n",
            "[94,    12] loss: 0.001\n",
            "Accuracy of the network on the 1000 train images: 100 %\n",
            "[95,     4] loss: 0.001\n",
            "[95,     8] loss: 0.000\n",
            "[95,    12] loss: 0.000\n",
            "Accuracy of the network on the 1000 train images: 100 %\n",
            "[96,     4] loss: 0.001\n",
            "[96,     8] loss: 0.000\n",
            "[96,    12] loss: 0.000\n",
            "Accuracy of the network on the 1000 train images: 100 %\n",
            "[97,     4] loss: 0.000\n",
            "[97,     8] loss: 0.000\n",
            "[97,    12] loss: 0.000\n",
            "Accuracy of the network on the 1000 train images: 100 %\n",
            "[98,     4] loss: 0.000\n",
            "[98,     8] loss: 0.000\n",
            "[98,    12] loss: 0.000\n",
            "Accuracy of the network on the 1000 train images: 100 %\n",
            "[99,     4] loss: 0.000\n",
            "[99,     8] loss: 0.000\n",
            "[99,    12] loss: 0.000\n",
            "Accuracy of the network on the 1000 train images: 100 %\n",
            "[100,     4] loss: 0.000\n",
            "[100,     8] loss: 0.000\n",
            "[100,    12] loss: 0.000\n",
            "Accuracy of the network on the 1000 train images: 100 %\n",
            "finished training\n"
          ],
          "name": "stdout"
        }
      ]
    },
    {
      "cell_type": "code",
      "metadata": {
        "id": "-glftzMcre3e",
        "colab_type": "code",
        "colab": {
          "base_uri": "https://localhost:8080/",
          "height": 282
        },
        "outputId": "f75b9770-442e-4e14-c1fb-eeb99b1b812e"
      },
      "source": [
        "x = np.arange(1,nos_epochs+1)\n",
        "# print(x)\n",
        "plt.plot(x,fg_grad,label = \"grad_alpha_fg\")\n",
        "plt.plot(x,bg_grad, label = \"grad_alpha_bg\")\n",
        "\n",
        "plt.legend()"
      ],
      "execution_count": 17,
      "outputs": [
        {
          "output_type": "execute_result",
          "data": {
            "text/plain": [
              "<matplotlib.legend.Legend at 0x7f60377cbeb8>"
            ]
          },
          "metadata": {
            "tags": []
          },
          "execution_count": 17
        },
        {
          "output_type": "display_data",
          "data": {
            "image/png": "[encoded data removed]",
            "text/plain": [
              "<Figure size 432x288 with 1 Axes>"
            ]
          },
          "metadata": {
            "tags": []
          }
        }
      ]
    },
    {
      "cell_type": "code",
      "metadata": {
        "id": "8R5lLY4Jre3i",
        "colab_type": "code",
        "colab": {
          "base_uri": "https://localhost:8080/",
          "height": 282
        },
        "outputId": "06b36b7f-110d-4f1d-85a3-67de557d9f3c"
      },
      "source": [
        "plt.plot(x,train_loss_tot, label = \"train loss\")\n",
        "plt.legend()"
      ],
      "execution_count": 18,
      "outputs": [
        {
          "output_type": "execute_result",
          "data": {
            "text/plain": [
              "<matplotlib.legend.Legend at 0x7f60377f9fd0>"
            ]
          },
          "metadata": {
            "tags": []
          },
          "execution_count": 18
        },
        {
          "output_type": "display_data",
          "data": {
            "image/png": "[encoded data removed]",
            "text/plain": [
              "<Figure size 432x288 with 1 Axes>"
            ]
          },
          "metadata": {
            "tags": []
          }
        }
      ]
    },
    {
      "cell_type": "code",
      "metadata": {
        "id": "qKMLIie7re3l",
        "colab_type": "code",
        "colab": {}
      },
      "source": [
        "xs,ys,fidx = iter(train_loader).next()"
      ],
      "execution_count": 0,
      "outputs": []
    },
    {
      "cell_type": "code",
      "metadata": {
        "id": "oLzIuV74re3p",
        "colab_type": "code",
        "colab": {}
      },
      "source": [
        "avg_data,alpha = where(xs)\n",
        "out = what(avg_data)\n",
        "_, predicted = torch.max(out.data, 1)\n",
        "loss = criterion(out, ys) "
      ],
      "execution_count": 0,
      "outputs": []
    },
    {
      "cell_type": "code",
      "metadata": {
        "id": "E6uCbRjIre3t",
        "colab_type": "code",
        "colab": {}
      },
      "source": [
        "grd = torch.autograd.grad(loss,alpha,retain_graph=True)"
      ],
      "execution_count": 0,
      "outputs": []
    },
    {
      "cell_type": "code",
      "metadata": {
        "id": "qPSQUz0ere3x",
        "colab_type": "code",
        "colab": {
          "base_uri": "https://localhost:8080/",
          "height": 243
        },
        "outputId": "9f579a4b-af89-417a-b164-5c3b458fdeaf"
      },
      "source": [
        "grd[0]"
      ],
      "execution_count": 22,
      "outputs": [
        {
          "output_type": "execute_result",
          "data": {
            "text/plain": [
              "tensor([[ 2.2522e-05, -6.8606e-07, -1.0553e-05,  ..., -2.0267e-05,\n",
              "          2.2045e-05, -2.2113e-05],\n",
              "        [-2.1212e-07, -1.6358e-05, -4.8722e-07,  ..., -9.8655e-06,\n",
              "          6.9900e-06,  2.0904e-07],\n",
              "        [-6.9754e-08,  7.3753e-08,  7.7039e-08,  ...,  6.8580e-08,\n",
              "          1.5655e-07, -1.5389e-07],\n",
              "        ...,\n",
              "        [-2.4701e-06, -1.9021e-06,  2.1452e-06,  ..., -1.7591e-06,\n",
              "         -2.3683e-06, -1.9166e-06],\n",
              "        [-7.2331e-06,  1.6387e-05,  7.2392e-06,  ..., -9.0505e-06,\n",
              "          4.2444e-07, -1.0612e-05],\n",
              "        [ 2.9272e-05,  2.3700e-06, -2.7477e-05,  ..., -1.2742e-05,\n",
              "          1.5840e-07, -2.5843e-05]], dtype=torch.float64)"
            ]
          },
          "metadata": {
            "tags": []
          },
          "execution_count": 22
        }
      ]
    },
    {
      "cell_type": "code",
      "metadata": {
        "id": "PodH4SOIre31",
        "colab_type": "code",
        "colab": {}
      },
      "source": [
        "one_hot = torch.zeros(len(fidx),fidx.max()+1).scatter_(1,fidx.unsqueeze(1),1.)\n"
      ],
      "execution_count": 0,
      "outputs": []
    },
    {
      "cell_type": "code",
      "metadata": {
        "id": "lnJmGIVjre34",
        "colab_type": "code",
        "colab": {
          "base_uri": "https://localhost:8080/",
          "height": 34
        },
        "outputId": "d62aaa13-be57-4c95-b38f-ecb5ca8ce7aa"
      },
      "source": [
        "s = torch.sum(torch.sum(torch.mul(one_hot, grd[0]),dim=1))\n",
        "torch.sum(s)"
      ],
      "execution_count": 24,
      "outputs": [
        {
          "output_type": "execute_result",
          "data": {
            "text/plain": [
              "tensor(-0.0022, dtype=torch.float64)"
            ]
          },
          "metadata": {
            "tags": []
          },
          "execution_count": 24
        }
      ]
    },
    {
      "cell_type": "code",
      "metadata": {
        "id": "3PjI4Ow7re37",
        "colab_type": "code",
        "colab": {
          "base_uri": "https://localhost:8080/",
          "height": 34
        },
        "outputId": "56ad4e00-6190-4e55-c26a-a461764eeeae"
      },
      "source": [
        "(1-one_hot[0])/8"
      ],
      "execution_count": 25,
      "outputs": [
        {
          "output_type": "execute_result",
          "data": {
            "text/plain": [
              "tensor([0.1250, 0.1250, 0.0000, 0.1250, 0.1250, 0.1250, 0.1250, 0.1250, 0.1250])"
            ]
          },
          "metadata": {
            "tags": []
          },
          "execution_count": 25
        }
      ]
    },
    {
      "cell_type": "code",
      "metadata": {
        "id": "B1Hrsevxre3-",
        "colab_type": "code",
        "colab": {
          "base_uri": "https://localhost:8080/",
          "height": 69
        },
        "outputId": "c1faf85e-5e28-4de8-c997-b709cb1ff0ca"
      },
      "source": [
        "torch.mul(one_hot[1], grd[0][1])"
      ],
      "execution_count": 26,
      "outputs": [
        {
          "output_type": "execute_result",
          "data": {
            "text/plain": [
              "tensor([-0.0000e+00, -0.0000e+00, -0.0000e+00,  0.0000e+00,  0.0000e+00,\n",
              "        -0.0000e+00, -9.8655e-06,  0.0000e+00,  0.0000e+00],\n",
              "       dtype=torch.float64)"
            ]
          },
          "metadata": {
            "tags": []
          },
          "execution_count": 26
        }
      ]
    }
  ]
}