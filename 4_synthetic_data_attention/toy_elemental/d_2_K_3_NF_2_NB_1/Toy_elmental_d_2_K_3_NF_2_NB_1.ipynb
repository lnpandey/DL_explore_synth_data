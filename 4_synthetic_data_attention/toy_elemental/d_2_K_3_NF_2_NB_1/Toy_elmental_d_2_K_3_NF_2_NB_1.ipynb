{
 "cells": [
  {
   "cell_type": "code",
   "execution_count": 1,
   "metadata": {},
   "outputs": [
    {
     "name": "stdout",
     "output_type": "stream",
     "text": [
      "cuda\n"
     ]
    }
   ],
   "source": [
    "import numpy as np\n",
    "import pandas as pd\n",
    "from matplotlib import pyplot as plt\n",
    "from tqdm import tqdm\n",
    "%matplotlib inline\n",
    "from torch.utils.data import Dataset, DataLoader\n",
    "import torch\n",
    "import torchvision\n",
    "\n",
    "import torch.nn as nn\n",
    "import torch.optim as optim\n",
    "from torch.nn import functional as F\n",
    "device = torch.device(\"cuda\" if torch.cuda.is_available() else \"cpu\")\n",
    "print(device)"
   ]
  },
  {
   "cell_type": "markdown",
   "metadata": {},
   "source": [
    "# Generate dataset"
   ]
  },
  {
   "cell_type": "code",
   "execution_count": 2,
   "metadata": {},
   "outputs": [
    {
     "name": "stdout",
     "output_type": "stream",
     "text": [
      "0 53\n",
      "1 39\n",
      "2 58\n"
     ]
    }
   ],
   "source": [
    "y = np.random.randint(0,3,150)\n",
    "idx= []\n",
    "for i in range(3):\n",
    "    print(i,sum(y==i))\n",
    "    idx.append(y==i)"
   ]
  },
  {
   "cell_type": "code",
   "execution_count": 3,
   "metadata": {},
   "outputs": [],
   "source": [
    "x = np.zeros((150,2))\n",
    "# x1 = np.zeros((500,2))"
   ]
  },
  {
   "cell_type": "code",
   "execution_count": 4,
   "metadata": {},
   "outputs": [],
   "source": [
    "# x[idx[0]] = np.random.uniform(low =-1,high =0,size= sum(idx[0]))\n",
    "# x[idx[1]] = np.random.uniform(low =0,high =1,size= sum(idx[1]))\n",
    "# x[idx[2]] = np.random.uniform(low =2,high =3,size= sum(idx[2]))\n",
    "# x[idx[3],:] = np.random.normal(loc = 3)\n"
   ]
  },
  {
   "cell_type": "code",
   "execution_count": 63,
   "metadata": {},
   "outputs": [],
   "source": [
    "x[idx[0],:] = np.random.multivariate_normal(mean =[2,7],cov=[[0.1,0],[0,0.1]],size=sum(idx[0]))\n",
    "# x1[idx[0],:] = np.random.multivariate_normal(mean = [0,-10],cov=[[0.1,0],[0,0.1]],size=sum(idx[0]))\n",
    "\n",
    "x[idx[1],:] = np.random.multivariate_normal(mean = [2,6],cov=[[0.1,0],[0,0.1]],size=sum(idx[1]))\n",
    "# x1[idx[1],:] = np.random.multivariate_normal(mean = [-5,15],cov=[[0.1,0],[0,0.1]],size=sum(idx[1]))\n",
    "\n",
    "x[idx[2],:] = np.random.multivariate_normal(mean = [3.5,6],cov=[[0.1,0],[0,0.1]],size=sum(idx[2]))\n",
    "# x1[idx[2],:] = np.random.multivariate_normal(mean = [-10,0],cov=[[0.1,0],[0,0.1]],size=sum(idx[2]))\n",
    "\n",
    "\n",
    "# x[idx[3],:] = np.random.multivariate_normal(mean = [-5,0],cov=[[0.1,0],[0,0.1]],size=sum(idx[3]))\n",
    "# x1[idx[3],:] = np.random.multivariate_normal(mean = [-20,10],cov=[[0.1,0],[0,0.1]],size=sum(idx[3]))\n",
    "\n",
    "# x[idx[4],:] = np.random.multivariate_normal(mean =[-8,10] ,cov=[[0.1,0],[0,0.1]],size=sum(idx[4]))\n",
    "# x1[idx[4],:] = np.random.multivariate_normal(mean = [10,20],cov=[[0.1,0],[0,0.1]],size=sum(idx[4]))\n",
    "\n",
    "\n",
    "# x[idx[5],:] = np.random.multivariate_normal(mean = [-15,6],cov=[[0.1,0],[0,0.1]],size=sum(idx[5]))\n",
    "# x1[idx[5],:] = np.random.multivariate_normal(mean = [0,2],cov=[[0.1,0],[0,0.1]],size=sum(idx[5]))\n",
    "\n",
    "# x[idx[6],:] = np.random.multivariate_normal(mean = [2,-18],cov=[[0.1,0],[0,0.1]],size=sum(idx[6]))\n",
    "# x1[idx[6],:] = np.random.multivariate_normal(mean = [7,7],cov=[[0.1,0],[0,0.1]],size=sum(idx[6]))\n",
    "\n",
    "# x[idx[7],:] = np.random.multivariate_normal(mean = [10,-10],cov=[[0.1,0],[0,0.1]],size=sum(idx[7]))\n",
    "# x1[idx[7],:] = np.random.multivariate_normal(mean = [-8,-11],cov=[[0.1,0],[0,0.1]],size=sum(idx[7]))\n",
    "\n",
    "# x[idx[8],:] = np.random.multivariate_normal(mean = [-10,-15],cov=[[0.1,0],[0,0.1]],size=sum(idx[8]))\n",
    "# x1[idx[8],:] = np.random.multivariate_normal(mean = [10,-2],cov=[[0.1,0],[0,0.1]],size=sum(idx[8]))\n",
    "\n",
    "# x[idx[9],:] = np.random.multivariate_normal(mean = [15,8],cov=[[0.1,0],[0,0.1]],size=sum(idx[9]))\n",
    "# x1[idx[9],:] = np.random.multivariate_normal(mean = [2,20],cov=[[0.1,0],[0,0.1]],size=sum(idx[9]))"
   ]
  },
  {
   "cell_type": "code",
   "execution_count": 64,
   "metadata": {},
   "outputs": [
    {
     "data": {
      "text/plain": [
       "((150, 2), (150,))"
      ]
     },
     "execution_count": 64,
     "metadata": {},
     "output_type": "execute_result"
    }
   ],
   "source": [
    "# x,y = np.concatenate((x,x1),axis=0),np.concatenate((y,y),axis=0)\n",
    "x.shape,y.shape"
   ]
  },
  {
   "cell_type": "markdown",
   "metadata": {},
   "source": [
    "# save data"
   ]
  },
  {
   "cell_type": "code",
   "execution_count": 65,
   "metadata": {},
   "outputs": [],
   "source": [
    "np.save(\"data_elemental2/toy_gaus_mixture_input.npy\",x)\n",
    "np.save(\"data_elemental2/toy_gaus_mixture_target.npy\",y)\n"
   ]
  },
  {
   "cell_type": "markdown",
   "metadata": {},
   "source": [
    "# load data"
   ]
  },
  {
   "cell_type": "code",
   "execution_count": 66,
   "metadata": {},
   "outputs": [
    {
     "name": "stdout",
     "output_type": "stream",
     "text": [
      "(150, 2) (150,)\n"
     ]
    }
   ],
   "source": [
    "x = np.load(\"data_elemental2/toy_gaus_mixture_input.npy\")\n",
    "y = np.load(\"data_elemental2/toy_gaus_mixture_target.npy\")\n",
    "print(x.shape,y.shape)"
   ]
  },
  {
   "cell_type": "code",
   "execution_count": 67,
   "metadata": {},
   "outputs": [],
   "source": [
    "idx= []\n",
    "for i in range(3):\n",
    "    #print(i,sum(y==i))\n",
    "    idx.append(y==i)\n",
    "    "
   ]
  },
  {
   "cell_type": "code",
   "execution_count": 68,
   "metadata": {},
   "outputs": [
    {
     "data": {
      "text/plain": [
       "<matplotlib.legend.Legend at 0x7fa5291c9ad0>"
      ]
     },
     "execution_count": 68,
     "metadata": {},
     "output_type": "execute_result"
    },
    {
     "data": {
      "image/png": "[encoded data removed]",
      "text/plain": [
       "<Figure size 432x288 with 1 Axes>"
      ]
     },
     "metadata": {
      "needs_background": "light"
     },
     "output_type": "display_data"
    }
   ],
   "source": [
    "for i in range(3):\n",
    "    #y= np.zeros(x[idx[i]].shape[0])\n",
    "    plt.scatter(x[idx[i],0],x[idx[i],1],label=\"class_\"+str(i))\n",
    "plt.legend(loc='center left', bbox_to_anchor=(1, 0.5))"
   ]
  },
  {
   "cell_type": "code",
   "execution_count": 47,
   "metadata": {},
   "outputs": [],
   "source": [
    "foreground_classes = {'class_0','class_1'}\n",
    "\n",
    "background_classes = {'class_2'}"
   ]
  },
  {
   "cell_type": "code",
   "execution_count": 48,
   "metadata": {},
   "outputs": [
    {
     "name": "stdout",
     "output_type": "stream",
     "text": [
      "foreground 1 present at 0\n",
      "background 2 present at 1\n",
      "background 2 present at 2\n",
      "1 0\n"
     ]
    }
   ],
   "source": [
    "fg_class  = np.random.randint(0,2)\n",
    "fg_idx = np.random.randint(0,2)\n",
    "\n",
    "a = []\n",
    "for i in range(3):\n",
    "    if i == fg_idx:\n",
    "        b = np.random.choice(np.where(idx[fg_class]==True)[0],size=1)\n",
    "        a.append(x[b])\n",
    "        print(\"foreground \"+str(fg_class)+\" present at \" + str(fg_idx))\n",
    "    else:\n",
    "        bg_class = np.random.randint(2,3)\n",
    "        b = np.random.choice(np.where(idx[bg_class]==True)[0],size=1)\n",
    "        a.append(x[b])\n",
    "        print(\"background \"+str(bg_class)+\" present at \" + str(i))\n",
    "a = np.concatenate(a,axis=0)\n",
    "#print(a.shape)\n",
    "\n",
    "print(fg_class , fg_idx)"
   ]
  },
  {
   "cell_type": "code",
   "execution_count": 49,
   "metadata": {},
   "outputs": [
    {
     "data": {
      "text/plain": [
       "array([[1.82311056, 5.08699715],\n",
       "       [2.81802438, 5.99079823],\n",
       "       [3.14785558, 5.96557241]])"
      ]
     },
     "execution_count": 49,
     "metadata": {},
     "output_type": "execute_result"
    }
   ],
   "source": [
    "a"
   ]
  },
  {
   "cell_type": "code",
   "execution_count": 50,
   "metadata": {},
   "outputs": [],
   "source": [
    "desired_num = 1000\n",
    "mosaic_list =[]\n",
    "mosaic_label = []\n",
    "fore_idx=[]\n",
    "for j in range(desired_num):\n",
    "    fg_class  = np.random.randint(0,2)\n",
    "    fg_idx = np.random.randint(0,2)\n",
    "    a = []\n",
    "    for i in range(3):\n",
    "        if i == fg_idx:\n",
    "            b = np.random.choice(np.where(idx[fg_class]==True)[0],size=1)\n",
    "            a.append(x[b])\n",
    "#             print(\"foreground \"+str(fg_class)+\" present at \" + str(fg_idx))\n",
    "        else:\n",
    "            bg_class = np.random.randint(2,3)\n",
    "            b = np.random.choice(np.where(idx[bg_class]==True)[0],size=1)\n",
    "            a.append(x[b])\n",
    "#             print(\"background \"+str(bg_class)+\" present at \" + str(i))\n",
    "    a = np.concatenate(a,axis=0)\n",
    "    mosaic_list.append(np.reshape(a,(6,1)))\n",
    "    mosaic_label.append(fg_class)\n",
    "    fore_idx.append(fg_idx)"
   ]
  },
  {
   "cell_type": "code",
   "execution_count": 51,
   "metadata": {},
   "outputs": [
    {
     "name": "stdout",
     "output_type": "stream",
     "text": [
      "[[1.57827627 6.32114696 2.96451231 6.27097205 3.33139669 6.07330008]\n",
      " [2.39599851 5.68350229 1.60921285 5.71141474 2.58941118 5.90226293]\n",
      " [1.81608402 5.67527212 3.02757419 6.22300373 3.55052707 5.94480923]\n",
      " ...\n",
      " [2.81802438 5.99079823 2.29249591 7.34877023 2.88649863 6.01013112]\n",
      " [2.88641318 6.04344962 1.57346888 7.20288443 2.7454995  6.44833534]\n",
      " [2.08526963 5.60407526 3.39331262 5.96226118 3.08448994 5.91975335]]\n"
     ]
    }
   ],
   "source": [
    "mosaic_list = np.concatenate(mosaic_list,axis=1).T\n",
    "print(mosaic_list)"
   ]
  },
  {
   "cell_type": "code",
   "execution_count": 52,
   "metadata": {},
   "outputs": [
    {
     "name": "stdout",
     "output_type": "stream",
     "text": [
      "(1000,)\n",
      "(1000,)\n"
     ]
    }
   ],
   "source": [
    "print(np.shape(mosaic_label))\n",
    "print(np.shape(fore_idx))"
   ]
  },
  {
   "cell_type": "code",
   "execution_count": 53,
   "metadata": {},
   "outputs": [],
   "source": [
    "class MosaicDataset(Dataset):\n",
    "    \"\"\"MosaicDataset dataset.\"\"\"\n",
    "    \n",
    "    \n",
    "    def __init__(self, mosaic_list, mosaic_label, fore_idx):\n",
    "        \"\"\"\n",
    "          Args:\n",
    "            csv_file (string): Path to the csv file with annotations.\n",
    "            root_dir (string): Directory with all the images.\n",
    "            transform (callable, optional): Optional transform to be applied\n",
    "                on a sample.\n",
    "        \"\"\"\n",
    "        self.mosaic = mosaic_list\n",
    "        self.label = mosaic_label\n",
    "        self.fore_idx = fore_idx\n",
    "\n",
    "    def __len__(self):\n",
    "        return len(self.label)\n",
    "\n",
    "    def __getitem__(self, idx):\n",
    "        return self.mosaic[idx] , self.label[idx], self.fore_idx[idx]\n",
    "\n",
    "batch = 250\n",
    "msd = MosaicDataset(mosaic_list, mosaic_label , fore_idx)\n",
    "train_loader = DataLoader( msd,batch_size= batch ,shuffle=False)"
   ]
  },
  {
   "cell_type": "code",
   "execution_count": 54,
   "metadata": {},
   "outputs": [],
   "source": [
    "class Wherenet(nn.Module):\n",
    "    def __init__(self):\n",
    "        super(Wherenet,self).__init__()\n",
    "        self.linear1 = nn.Linear(2,1)\n",
    "    def forward(self,z):\n",
    "        x = torch.zeros([batch,6],dtype=torch.float64)\n",
    "        y = torch.zeros([batch,2], dtype=torch.float64)\n",
    "        #x,y = x.to(\"cuda\"),y.to(\"cuda\")\n",
    "        for i in range(3):\n",
    "            x[:,i] = self.helper(z[:,2*i:2*i+2])[:,0]\n",
    "            #print(k[:,0].shape,x[:,i].shape)\n",
    "        x = F.softmax(x,dim=1)   # alphas\n",
    "        #print(x.shape)\n",
    "        x1 = x[:,0]\n",
    "        for i in range(3):\n",
    "            x1 = x[:,i]          \n",
    "            y = y+torch.mul(x1[:,None],z[:,2*i:2*i+2])\n",
    "        return y , x \n",
    "\n",
    "    \n",
    "    def helper(self,x):\n",
    "        x = self.linear1(x)\n",
    "        #x = F.relu(self.linear2(x))\n",
    "        #x = self.linear3(x)\n",
    "        return x\n",
    "\n",
    "    "
   ]
  },
  {
   "cell_type": "code",
   "execution_count": 55,
   "metadata": {},
   "outputs": [
    {
     "name": "stdout",
     "output_type": "stream",
     "text": [
      "0 2\n",
      "2 4\n",
      "4 6\n"
     ]
    }
   ],
   "source": [
    "for i in range(3):\n",
    "    print(2*i,2*i+2)"
   ]
  },
  {
   "cell_type": "code",
   "execution_count": 56,
   "metadata": {},
   "outputs": [],
   "source": [
    "trainiter = iter(train_loader)\n",
    "input1,labels1,index1 = trainiter.next()\n",
    "\n"
   ]
  },
  {
   "cell_type": "code",
   "execution_count": 57,
   "metadata": {},
   "outputs": [],
   "source": [
    "where = Wherenet().double()\n",
    "where = where\n",
    "out_avg,alphas = where(input1)\n",
    "# out_avg.shape,alphas.shape"
   ]
  },
  {
   "cell_type": "code",
   "execution_count": 58,
   "metadata": {},
   "outputs": [
    {
     "data": {
      "text/plain": [
       "(torch.Size([250, 2]), torch.Size([250, 6]))"
      ]
     },
     "execution_count": 58,
     "metadata": {},
     "output_type": "execute_result"
    }
   ],
   "source": [
    "out_avg.shape,alphas.shape"
   ]
  },
  {
   "cell_type": "code",
   "execution_count": 59,
   "metadata": {},
   "outputs": [],
   "source": [
    "class Whatnet(nn.Module):\n",
    "    def __init__(self):\n",
    "        super(Whatnet,self).__init__()\n",
    "        self.linear1 = nn.Linear(2,2)\n",
    "#         self.linear2 = nn.Linear(8,16)\n",
    "#         self.linear3 = nn.Linear(16,3)\n",
    "    def forward(self,x):\n",
    "        x = self.linear1(x)\n",
    "#         x = F.relu(self.linear2(x))\n",
    "#         x = self.linear3(x)\n",
    "        return x"
   ]
  },
  {
   "cell_type": "code",
   "execution_count": 60,
   "metadata": {},
   "outputs": [
    {
     "data": {
      "text/plain": [
       "tensor([[-0.7179, -0.4317],\n",
       "        [-0.7546, -0.4524],\n",
       "        [-0.6928, -0.4247],\n",
       "        [-0.6936, -0.4275],\n",
       "        [-0.7008, -0.4297],\n",
       "        [-0.6775, -0.4199],\n",
       "        [-0.6480, -0.4043],\n",
       "        [-0.7076, -0.4306],\n",
       "        [-0.7256, -0.4338],\n",
       "        [-0.7062, -0.4284],\n",
       "        [-0.7328, -0.4361],\n",
       "        [-0.6764, -0.4158],\n",
       "        [-0.7023, -0.4223],\n",
       "        [-0.7229, -0.4373],\n",
       "        [-0.6958, -0.4247],\n",
       "        [-0.6832, -0.4182],\n",
       "        [-0.7051, -0.4205],\n",
       "        [-0.6837, -0.4182],\n",
       "        [-0.7044, -0.4276],\n",
       "        [-0.6947, -0.4258],\n",
       "        [-0.6958, -0.4287],\n",
       "        [-0.6928, -0.4234],\n",
       "        [-0.6726, -0.4125],\n",
       "        [-0.6683, -0.4122],\n",
       "        [-0.6775, -0.4222],\n",
       "        [-0.6663, -0.4111],\n",
       "        [-0.6738, -0.4154],\n",
       "        [-0.7023, -0.4250],\n",
       "        [-0.6758, -0.4143],\n",
       "        [-0.6920, -0.4236],\n",
       "        [-0.7041, -0.4256],\n",
       "        [-0.7557, -0.4517],\n",
       "        [-0.6668, -0.4081],\n",
       "        [-0.7210, -0.4357],\n",
       "        [-0.6867, -0.4159],\n",
       "        [-0.6868, -0.4246],\n",
       "        [-0.7079, -0.4289],\n",
       "        [-0.6703, -0.4137],\n",
       "        [-0.6854, -0.4154],\n",
       "        [-0.6761, -0.4171],\n",
       "        [-0.6997, -0.4273],\n",
       "        [-0.6916, -0.4144],\n",
       "        [-0.6970, -0.4223],\n",
       "        [-0.6984, -0.4211],\n",
       "        [-0.6915, -0.4267],\n",
       "        [-0.7024, -0.4316],\n",
       "        [-0.6826, -0.4223],\n",
       "        [-0.7267, -0.4361],\n",
       "        [-0.6530, -0.4083],\n",
       "        [-0.7293, -0.4334],\n",
       "        [-0.7109, -0.4246],\n",
       "        [-0.6974, -0.4238],\n",
       "        [-0.6986, -0.4205],\n",
       "        [-0.7066, -0.4293],\n",
       "        [-0.6658, -0.4149],\n",
       "        [-0.6999, -0.4274],\n",
       "        [-0.7253, -0.4376],\n",
       "        [-0.6995, -0.4268],\n",
       "        [-0.7312, -0.4385],\n",
       "        [-0.7067, -0.4311],\n",
       "        [-0.6951, -0.4238],\n",
       "        [-0.7187, -0.4322],\n",
       "        [-0.7398, -0.4470],\n",
       "        [-0.7057, -0.4271],\n",
       "        [-0.7131, -0.4320],\n",
       "        [-0.6557, -0.4085],\n",
       "        [-0.6938, -0.4250],\n",
       "        [-0.6644, -0.4126],\n",
       "        [-0.7121, -0.4297],\n",
       "        [-0.6946, -0.4236],\n",
       "        [-0.6810, -0.4186],\n",
       "        [-0.7156, -0.4365],\n",
       "        [-0.7198, -0.4368],\n",
       "        [-0.6770, -0.4188],\n",
       "        [-0.6701, -0.4079],\n",
       "        [-0.7043, -0.4289],\n",
       "        [-0.7274, -0.4328],\n",
       "        [-0.6704, -0.4137],\n",
       "        [-0.7304, -0.4360],\n",
       "        [-0.6838, -0.4183],\n",
       "        [-0.6893, -0.4208],\n",
       "        [-0.6888, -0.4197],\n",
       "        [-0.7054, -0.4267],\n",
       "        [-0.7060, -0.4315],\n",
       "        [-0.7056, -0.4269],\n",
       "        [-0.7369, -0.4421],\n",
       "        [-0.7443, -0.4428],\n",
       "        [-0.6949, -0.4216],\n",
       "        [-0.6881, -0.4190],\n",
       "        [-0.6946, -0.4258],\n",
       "        [-0.6950, -0.4242],\n",
       "        [-0.6812, -0.4155],\n",
       "        [-0.7043, -0.4268],\n",
       "        [-0.6945, -0.4209],\n",
       "        [-0.6682, -0.4153],\n",
       "        [-0.6827, -0.4185],\n",
       "        [-0.6891, -0.4230],\n",
       "        [-0.6812, -0.4178],\n",
       "        [-0.7227, -0.4323],\n",
       "        [-0.7352, -0.4417],\n",
       "        [-0.6457, -0.4056],\n",
       "        [-0.7012, -0.4222],\n",
       "        [-0.7093, -0.4260],\n",
       "        [-0.7101, -0.4330],\n",
       "        [-0.6948, -0.4235],\n",
       "        [-0.7364, -0.4426],\n",
       "        [-0.6764, -0.4171],\n",
       "        [-0.7175, -0.4329],\n",
       "        [-0.6801, -0.4190],\n",
       "        [-0.6850, -0.4195],\n",
       "        [-0.7475, -0.4456],\n",
       "        [-0.6871, -0.4165],\n",
       "        [-0.7003, -0.4261],\n",
       "        [-0.6513, -0.4130],\n",
       "        [-0.6849, -0.4211],\n",
       "        [-0.7184, -0.4291],\n",
       "        [-0.7036, -0.4223],\n",
       "        [-0.7168, -0.4352],\n",
       "        [-0.7104, -0.4276],\n",
       "        [-0.7497, -0.4446],\n",
       "        [-0.7147, -0.4303],\n",
       "        [-0.7205, -0.4364],\n",
       "        [-0.6927, -0.4207],\n",
       "        [-0.6886, -0.4202],\n",
       "        [-0.6890, -0.4147],\n",
       "        [-0.7108, -0.4293],\n",
       "        [-0.7344, -0.4369],\n",
       "        [-0.6951, -0.4218],\n",
       "        [-0.6727, -0.4119],\n",
       "        [-0.6957, -0.4285],\n",
       "        [-0.6831, -0.4198],\n",
       "        [-0.6905, -0.4216],\n",
       "        [-0.7055, -0.4215],\n",
       "        [-0.7043, -0.4310],\n",
       "        [-0.6689, -0.4161],\n",
       "        [-0.6640, -0.4078],\n",
       "        [-0.7138, -0.4325],\n",
       "        [-0.7139, -0.4289],\n",
       "        [-0.6883, -0.4214],\n",
       "        [-0.7272, -0.4341],\n",
       "        [-0.6853, -0.4213],\n",
       "        [-0.6934, -0.4264],\n",
       "        [-0.6694, -0.4137],\n",
       "        [-0.7091, -0.4274],\n",
       "        [-0.7021, -0.4314],\n",
       "        [-0.6499, -0.4122],\n",
       "        [-0.6974, -0.4244],\n",
       "        [-0.6476, -0.4072],\n",
       "        [-0.7308, -0.4389],\n",
       "        [-0.6913, -0.4240],\n",
       "        [-0.7276, -0.4343],\n",
       "        [-0.7260, -0.4365],\n",
       "        [-0.7031, -0.4281],\n",
       "        [-0.6843, -0.4193],\n",
       "        [-0.6555, -0.4109],\n",
       "        [-0.6607, -0.4125],\n",
       "        [-0.7082, -0.4313],\n",
       "        [-0.6610, -0.4106],\n",
       "        [-0.7052, -0.4248],\n",
       "        [-0.7164, -0.4284],\n",
       "        [-0.7146, -0.4341],\n",
       "        [-0.6921, -0.4234],\n",
       "        [-0.7291, -0.4384],\n",
       "        [-0.7265, -0.4362],\n",
       "        [-0.6876, -0.4210],\n",
       "        [-0.6902, -0.4213],\n",
       "        [-0.7284, -0.4383],\n",
       "        [-0.6677, -0.4138],\n",
       "        [-0.7193, -0.4384],\n",
       "        [-0.6982, -0.4280],\n",
       "        [-0.6947, -0.4251],\n",
       "        [-0.6918, -0.4179],\n",
       "        [-0.6870, -0.4219],\n",
       "        [-0.7153, -0.4298],\n",
       "        [-0.7286, -0.4362],\n",
       "        [-0.7181, -0.4365],\n",
       "        [-0.6875, -0.4267],\n",
       "        [-0.7282, -0.4391],\n",
       "        [-0.7381, -0.4441],\n",
       "        [-0.7154, -0.4277],\n",
       "        [-0.7146, -0.4347],\n",
       "        [-0.7287, -0.4366],\n",
       "        [-0.7255, -0.4330],\n",
       "        [-0.6938, -0.4262],\n",
       "        [-0.6766, -0.4161],\n",
       "        [-0.6936, -0.4206],\n",
       "        [-0.7128, -0.4345],\n",
       "        [-0.6563, -0.4046],\n",
       "        [-0.6828, -0.4165],\n",
       "        [-0.7015, -0.4302],\n",
       "        [-0.6982, -0.4257],\n",
       "        [-0.7099, -0.4313],\n",
       "        [-0.7250, -0.4306],\n",
       "        [-0.7238, -0.4355],\n",
       "        [-0.6722, -0.4166],\n",
       "        [-0.7191, -0.4333],\n",
       "        [-0.7206, -0.4329],\n",
       "        [-0.6931, -0.4240],\n",
       "        [-0.6810, -0.4156],\n",
       "        [-0.6847, -0.4217],\n",
       "        [-0.7044, -0.4300],\n",
       "        [-0.6877, -0.4179],\n",
       "        [-0.6701, -0.4104],\n",
       "        [-0.7176, -0.4286],\n",
       "        [-0.7166, -0.4312],\n",
       "        [-0.7204, -0.4353],\n",
       "        [-0.6951, -0.4273],\n",
       "        [-0.6707, -0.4150],\n",
       "        [-0.7047, -0.4280],\n",
       "        [-0.6826, -0.4180],\n",
       "        [-0.7253, -0.4314],\n",
       "        [-0.6693, -0.4066],\n",
       "        [-0.7233, -0.4328],\n",
       "        [-0.6949, -0.4244],\n",
       "        [-0.7010, -0.4269],\n",
       "        [-0.7010, -0.4242],\n",
       "        [-0.7063, -0.4266],\n",
       "        [-0.7301, -0.4392],\n",
       "        [-0.7267, -0.4340],\n",
       "        [-0.7226, -0.4325],\n",
       "        [-0.7222, -0.4369],\n",
       "        [-0.7057, -0.4264],\n",
       "        [-0.7112, -0.4298],\n",
       "        [-0.7344, -0.4383],\n",
       "        [-0.6581, -0.4092],\n",
       "        [-0.7067, -0.4311],\n",
       "        [-0.7124, -0.4333],\n",
       "        [-0.6747, -0.4135],\n",
       "        [-0.6904, -0.4213],\n",
       "        [-0.6831, -0.4207],\n",
       "        [-0.7138, -0.4313],\n",
       "        [-0.7225, -0.4385],\n",
       "        [-0.6625, -0.4117],\n",
       "        [-0.7161, -0.4326],\n",
       "        [-0.6919, -0.4258],\n",
       "        [-0.6827, -0.4203],\n",
       "        [-0.7392, -0.4442],\n",
       "        [-0.6866, -0.4220],\n",
       "        [-0.6849, -0.4244],\n",
       "        [-0.7085, -0.4290],\n",
       "        [-0.6759, -0.4123],\n",
       "        [-0.7060, -0.4266],\n",
       "        [-0.7189, -0.4315],\n",
       "        [-0.6948, -0.4200],\n",
       "        [-0.7448, -0.4473],\n",
       "        [-0.6957, -0.4240],\n",
       "        [-0.7055, -0.4278],\n",
       "        [-0.7095, -0.4311],\n",
       "        [-0.6894, -0.4257],\n",
       "        [-0.6505, -0.4063]], dtype=torch.float64, grad_fn=<AddmmBackward>)"
      ]
     },
     "execution_count": 60,
     "metadata": {},
     "output_type": "execute_result"
    }
   ],
   "source": [
    "what =Whatnet().double()\n",
    "what(out_avg)"
   ]
  },
  {
   "cell_type": "code",
   "execution_count": 61,
   "metadata": {},
   "outputs": [],
   "source": [
    "def disp_plot(data,avg_data,i,true_label,pred_label,alpha,true_idx):\n",
    "    plt.figure(figsize=(6,6))\n",
    "    data = data.numpy()\n",
    "    alpha = alpha.detach().numpy()\n",
    "    avg_data = avg_data.detach().numpy()\n",
    "    \n",
    "    #print(\"data\",data)\n",
    "    #print(\"avg_data\",avg_data)\n",
    "    #print(\"alpha0\",alpha[0])\n",
    "    #print(\"alpha1\",alpha[1])\n",
    "    x = data[:,0] \n",
    "    y = data[:,1]\n",
    "    \n",
    "    \n",
    "    #print(inputs[0])\n",
    "    #print(x)\n",
    "    np.random.seed(1234)\n",
    "    x1 = np.random.randint(low=0,high=10,size= x.size)\n",
    "    #print(\"s\",x)\n",
    "    #print(avg_data[0])\n",
    "    for i in range(0,10):\n",
    "        plt.plot([x[i],y[i]],[x1[i],x1[i]],'ro-')\n",
    "        plt.scatter(avg_data[i],x1[i],marker=\"X\",linewidths=10)\n",
    "        \n",
    "        #print(\"dasfd\",x[i],x1[i],y[i],x1[i],avg_data[i])\n",
    "\n",
    "    \n",
    "    \n",
    "#     plt.axvline(x)\n",
    "#     plt.axvline(y)\n",
    "#     plt.axvline(avg_data[0])\n",
    "    #plt.plot(data[0],data[1],\"o\",label=str(alpha[0]))\n",
    "#     plt.plot(data[2],data[3],\"o\",label=str(alpha[1]))\n",
    "#     plt.plot(data[4],data[5],\"o\",label=str(alpha[2]))\n",
    "#     plt.plot(data[6],data[7],\"o\",label=str(alpha[3]))\n",
    "    \n",
    "    #plt.text(data[0],np.zeros(data[0].size)+0.001,str(float(alpha[0]))+\"idx_0\")\n",
    "    #plt.text(data[1],np.zeros(data[1].size)+0.001,str(float(alpha[1]))+\"idx_1\")\n",
    "\n",
    "    #plt.text(data[0]+0.2,data[1]+0.2,\"0\")\n",
    "#     plt.text(data[2]+0.2,data[3]+0.2,\"1\")\n",
    "#     plt.text(data[4]+0.2,data[5]+0.2,\"2\")\n",
    "#     plt.text(data[6]+0.2,data[7]+0.2,\"3\")\n",
    "    #plt.legend(loc='center left', bbox_to_anchor=(1, 0.5))"
   ]
  },
  {
   "cell_type": "code",
   "execution_count": 62,
   "metadata": {},
   "outputs": [
    {
     "name": "stdout",
     "output_type": "stream",
     "text": [
      "[1,     4] loss: 0.699\n",
      "[1,    4] accuracy: 0.516\n",
      "[2,     4] loss: 0.698\n",
      "[2,    4] accuracy: 0.516\n",
      "[3,     4] loss: 0.697\n",
      "[3,    4] accuracy: 0.516\n",
      "[4,     4] loss: 0.696\n",
      "[4,    4] accuracy: 0.516\n",
      "[5,     4] loss: 0.695\n",
      "[5,    4] accuracy: 0.516\n",
      "[6,     4] loss: 0.695\n",
      "[6,    4] accuracy: 0.516\n",
      "[7,     4] loss: 0.695\n",
      "[7,    4] accuracy: 0.516\n",
      "[8,     4] loss: 0.695\n",
      "[8,    4] accuracy: 0.516\n",
      "[9,     4] loss: 0.694\n",
      "[9,    4] accuracy: 0.516\n",
      "[10,     4] loss: 0.694\n",
      "[10,    4] accuracy: 0.516\n",
      "[11,     4] loss: 0.694\n",
      "[11,    4] accuracy: 0.516\n",
      "[12,     4] loss: 0.694\n",
      "[12,    4] accuracy: 0.516\n",
      "[13,     4] loss: 0.694\n",
      "[13,    4] accuracy: 0.516\n",
      "[14,     4] loss: 0.694\n",
      "[14,    4] accuracy: 0.516\n",
      "[15,     4] loss: 0.694\n",
      "[15,    4] accuracy: 0.516\n",
      "[16,     4] loss: 0.694\n",
      "[16,    4] accuracy: 0.516\n",
      "[17,     4] loss: 0.694\n",
      "[17,    4] accuracy: 0.516\n",
      "[18,     4] loss: 0.694\n",
      "[18,    4] accuracy: 0.516\n",
      "[19,     4] loss: 0.694\n",
      "[19,    4] accuracy: 0.516\n",
      "[20,     4] loss: 0.694\n",
      "[20,    4] accuracy: 0.516\n",
      "[21,     4] loss: 0.694\n",
      "[21,    4] accuracy: 0.516\n",
      "[22,     4] loss: 0.693\n",
      "[22,    4] accuracy: 0.516\n",
      "[23,     4] loss: 0.693\n",
      "[23,    4] accuracy: 0.516\n",
      "[24,     4] loss: 0.693\n",
      "[24,    4] accuracy: 0.516\n",
      "[25,     4] loss: 0.693\n",
      "[25,    4] accuracy: 0.516\n",
      "[26,     4] loss: 0.693\n",
      "[26,    4] accuracy: 0.516\n",
      "[27,     4] loss: 0.693\n",
      "[27,    4] accuracy: 0.516\n",
      "[28,     4] loss: 0.693\n",
      "[28,    4] accuracy: 0.516\n",
      "[29,     4] loss: 0.693\n",
      "[29,    4] accuracy: 0.516\n",
      "[30,     4] loss: 0.693\n",
      "[30,    4] accuracy: 0.516\n",
      "[31,     4] loss: 0.693\n",
      "[31,    4] accuracy: 0.516\n",
      "[32,     4] loss: 0.693\n",
      "[32,    4] accuracy: 0.516\n",
      "[33,     4] loss: 0.693\n",
      "[33,    4] accuracy: 0.516\n",
      "[34,     4] loss: 0.693\n",
      "[34,    4] accuracy: 0.516\n",
      "[35,     4] loss: 0.693\n",
      "[35,    4] accuracy: 0.516\n",
      "[36,     4] loss: 0.693\n",
      "[36,    4] accuracy: 0.516\n",
      "[37,     4] loss: 0.692\n",
      "[37,    4] accuracy: 0.516\n",
      "[38,     4] loss: 0.692\n",
      "[38,    4] accuracy: 0.516\n",
      "[39,     4] loss: 0.692\n",
      "[39,    4] accuracy: 0.516\n",
      "[40,     4] loss: 0.692\n",
      "[40,    4] accuracy: 0.516\n",
      "[41,     4] loss: 0.692\n",
      "[41,    4] accuracy: 0.516\n",
      "[42,     4] loss: 0.692\n",
      "[42,    4] accuracy: 0.516\n",
      "[43,     4] loss: 0.692\n",
      "[43,    4] accuracy: 0.516\n",
      "[44,     4] loss: 0.692\n",
      "[44,    4] accuracy: 0.516\n",
      "[45,     4] loss: 0.692\n",
      "[45,    4] accuracy: 0.516\n",
      "[46,     4] loss: 0.692\n",
      "[46,    4] accuracy: 0.516\n",
      "[47,     4] loss: 0.692\n",
      "[47,    4] accuracy: 0.516\n",
      "[48,     4] loss: 0.692\n",
      "[48,    4] accuracy: 0.516\n",
      "[49,     4] loss: 0.692\n",
      "[49,    4] accuracy: 0.516\n",
      "[50,     4] loss: 0.692\n",
      "[50,    4] accuracy: 0.516\n",
      "[51,     4] loss: 0.692\n",
      "[51,    4] accuracy: 0.516\n",
      "[52,     4] loss: 0.692\n",
      "[52,    4] accuracy: 0.516\n",
      "[53,     4] loss: 0.692\n",
      "[53,    4] accuracy: 0.516\n",
      "[54,     4] loss: 0.692\n",
      "[54,    4] accuracy: 0.516\n",
      "[55,     4] loss: 0.692\n",
      "[55,    4] accuracy: 0.516\n",
      "[56,     4] loss: 0.691\n",
      "[56,    4] accuracy: 0.516\n",
      "[57,     4] loss: 0.691\n",
      "[57,    4] accuracy: 0.516\n",
      "[58,     4] loss: 0.691\n",
      "[58,    4] accuracy: 0.516\n",
      "[59,     4] loss: 0.691\n",
      "[59,    4] accuracy: 0.516\n",
      "[60,     4] loss: 0.691\n",
      "[60,    4] accuracy: 0.516\n",
      "Finished Training\n"
     ]
    }
   ],
   "source": [
    "criterion = nn.CrossEntropyLoss()\n",
    "optimizer_where = optim.SGD(where.parameters(), lr=0.01, momentum=0.9)\n",
    "optimizer_what = optim.SGD(what.parameters(), lr=0.01, momentum=0.9)\n",
    "\n",
    "nos_epochs = 60\n",
    "\n",
    "train_loss=[]\n",
    "\n",
    "train_acc = [] \n",
    "ig = np.random.randint(0,250)\n",
    "for epoch in range(nos_epochs):  # loop over the dataset multiple times\n",
    "    \n",
    "    running_loss = 0.0\n",
    "    running_acc = 0\n",
    "    cnt=0\n",
    "    c = 0\n",
    "    iteration = desired_num // batch\n",
    "    \n",
    "    for i, data in  enumerate(train_loader):\n",
    "        inputs , labels , fore_idx = data\n",
    "        \n",
    "        optimizer_what.zero_grad()\n",
    "        optimizer_where.zero_grad()\n",
    "        \n",
    "        avg_inp,alphas = where(inputs)\n",
    "        \n",
    "        outputs = what(avg_inp)\n",
    "        \n",
    "        _, predicted = torch.max(outputs.data, 1)\n",
    "        \n",
    "        \n",
    "        \n",
    "        \n",
    "        # display plots \n",
    "        #print(inputs[:10])\n",
    "        \n",
    "#         if(c==0):\n",
    "#             #p = inputs[:10].numpy()\n",
    "#             #print(\"kkldsksd\",p)\n",
    "#             #print(\"ddasdas\",p[:,0])\n",
    "#             disp_plot(inputs[:10,:],avg_inp[:10],1,labels[:10].numpy()\n",
    "#                       ,predicted[:10].numpy(), alphas[:10,:], fore_idx[:10].numpy())\n",
    "#             c+=1\n",
    "            \n",
    "        loss = criterion(outputs, labels) \n",
    "        loss.backward() \n",
    "        \n",
    "        optimizer_what.step()\n",
    "        optimizer_where.step() \n",
    "        \n",
    "\n",
    "        running_loss += loss.item()\n",
    "        running_acc+=sum(predicted.cpu().numpy()== labels.cpu().numpy())\n",
    "        \n",
    "        if cnt % 4 == 3:    # print every 6 mini-batches\n",
    "            print('[%d, %5d] loss: %.3f' %(epoch + 1, cnt + 1, running_loss/4 ))\n",
    "            print('[%d,%5d] accuracy: %.3f' %(epoch + 1, cnt+1,running_acc/1000))\n",
    "            \n",
    "            train_loss.append(running_loss)\n",
    "            train_acc.append(running_acc /1000)\n",
    "            running_loss = 0.0\n",
    "            running_acc = 0\n",
    "            torch.save(where.state_dict(),\"weight_elemental_2/where_model_epoch\"+str(epoch)+\".pt\")\n",
    "            torch.save(what.state_dict(),\"weight_elemental_2/what_model_epoch\"+str(epoch)+\".pt\")\n",
    "        cnt=cnt+1\n",
    "        \n",
    "print('Finished Training')\n",
    "torch.save(where.state_dict(),\"weight_elemental_2/where_model_epoch\"+str(nos_epochs)+\".pt\")\n",
    "torch.save(what.state_dict(),\"weight_elemental_2/what_model_epoch\"+str(epoch)+\".pt\")       \n",
    "        \n",
    "        \n",
    "        "
   ]
  },
  {
   "cell_type": "code",
   "execution_count": 27,
   "metadata": {},
   "outputs": [
    {
     "data": {
      "text/plain": [
       "<matplotlib.legend.Legend at 0x7fa52c3e9f50>"
      ]
     },
     "execution_count": 27,
     "metadata": {},
     "output_type": "execute_result"
    },
    {
     "data": {
      "image/png": "[encoded data removed]",
      "text/plain": [
       "<Figure size 432x288 with 1 Axes>"
      ]
     },
     "metadata": {
      "needs_background": "light"
     },
     "output_type": "display_data"
    }
   ],
   "source": [
    "plt.plot(train_loss,label = \"train loss\")\n",
    "plt.legend(loc='center left', bbox_to_anchor=(1, 0.5))"
   ]
  },
  {
   "cell_type": "code",
   "execution_count": 28,
   "metadata": {},
   "outputs": [
    {
     "data": {
      "text/plain": [
       "<matplotlib.legend.Legend at 0x7fa5293823d0>"
      ]
     },
     "execution_count": 28,
     "metadata": {},
     "output_type": "execute_result"
    },
    {
     "data": {
      "image/png": "[encoded data removed]",
      "text/plain": [
       "<Figure size 432x288 with 1 Axes>"
      ]
     },
     "metadata": {
      "needs_background": "light"
     },
     "output_type": "display_data"
    }
   ],
   "source": [
    "plt.plot(train_acc,label =\"train_acc\")\n",
    "plt.legend(loc='center left', bbox_to_anchor=(1, 0.5))"
   ]
  },
  {
   "cell_type": "code",
   "execution_count": null,
   "metadata": {},
   "outputs": [],
   "source": []
  }
 ],
 "metadata": {
  "kernelspec": {
   "display_name": "Python 3",
   "language": "python",
   "name": "python3"
  },
  "language_info": {
   "codemirror_mode": {
    "name": "ipython",
    "version": 3
   },
   "file_extension": ".py",
   "mimetype": "text/x-python",
   "name": "python",
   "nbconvert_exporter": "python",
   "pygments_lexer": "ipython3",
   "version": "3.7.4"
  }
 },
 "nbformat": 4,
 "nbformat_minor": 2
}
