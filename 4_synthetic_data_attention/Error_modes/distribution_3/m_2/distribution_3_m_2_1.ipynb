{
  "nbformat": 4,
  "nbformat_minor": 0,
  "metadata": {
    "accelerator": "GPU",
    "colab": {
      "name": "distribution_3_m_2.ipynb",
      "provenance": [],
      "collapsed_sections": [],
      "toc_visible": true
    },
    "kernelspec": {
      "display_name": "Python 3",
      "language": "python",
      "name": "python3"
    },
    "language_info": {
      "codemirror_mode": {
        "name": "ipython",
        "version": 3
      },
      "file_extension": ".py",
      "mimetype": "text/x-python",
      "name": "python",
      "nbconvert_exporter": "python",
      "pygments_lexer": "ipython3",
      "version": "3.6.5"
    }
  },
  "cells": [
    {
      "cell_type": "code",
      "metadata": {
        "colab": {
          "base_uri": "https://localhost:8080/"
        },
        "id": "N2_J4Rw2r0SQ",
        "outputId": "419f19fa-e9fa-4d35-b1a3-e48539d967b9"
      },
      "source": [
        "import numpy as np\n",
        "import pandas as pd\n",
        "from matplotlib import pyplot as plt\n",
        "from tqdm import tqdm\n",
        "%matplotlib inline\n",
        "from torch.utils.data import Dataset, DataLoader\n",
        "import torch\n",
        "import torchvision\n",
        "\n",
        "import torch.nn as nn\n",
        "import torch.optim as optim\n",
        "from torch.nn import functional as F\n",
        "device = torch.device(\"cuda\" if torch.cuda.is_available() else \"cpu\")\n",
        "print(device)"
      ],
      "execution_count": 1,
      "outputs": [
        {
          "output_type": "stream",
          "text": [
            "cuda\n"
          ],
          "name": "stdout"
        }
      ]
    },
    {
      "cell_type": "markdown",
      "metadata": {
        "id": "F6fjud_Fr0Sa"
      },
      "source": [
        "# Generate dataset"
      ]
    },
    {
      "cell_type": "code",
      "metadata": {
        "colab": {
          "base_uri": "https://localhost:8080/"
        },
        "id": "CqdXHO0Cr0Sd",
        "outputId": "ce2f4ae0-8a20-4a87-b135-970388339e1a"
      },
      "source": [
        "y = np.random.randint(0,3,1200)\n",
        "idx= []\n",
        "for i in range(3):\n",
        "    print(i,sum(y==i))\n",
        "    idx.append(y==i)"
      ],
      "execution_count": 2,
      "outputs": [
        {
          "output_type": "stream",
          "text": [
            "0 416\n",
            "1 386\n",
            "2 398\n"
          ],
          "name": "stdout"
        }
      ]
    },
    {
      "cell_type": "code",
      "metadata": {
        "id": "ddhXyODwr0Sk"
      },
      "source": [
        "x = np.zeros((1200,2))"
      ],
      "execution_count": 3,
      "outputs": []
    },
    {
      "cell_type": "code",
      "metadata": {
        "id": "DbWPELOH0ae4"
      },
      "source": [
        "\r\n",
        "\r\n",
        "x[idx[0],:] = np.random.uniform(low=[1,-8],high=[2,-5],size=(sum(idx[0]),2))\r\n",
        "\r\n",
        "x[idx[1],:] = np.random.uniform(low=[1,-2],high=[2,1],size=(sum(idx[1]),2))\r\n",
        "\r\n",
        "#x[idx[2],:] = np.random.uniform(low=[-2,0],high=[-3,-2],size=(sum(idx[2]),2))\r\n",
        "\r\n",
        "x[idx[2],:] = np.random.uniform(low=[4,-5],high=[5,-2],size=(sum(idx[2]),2))"
      ],
      "execution_count": 4,
      "outputs": []
    },
    {
      "cell_type": "code",
      "metadata": {
        "colab": {
          "base_uri": "https://localhost:8080/",
          "height": 265
        },
        "id": "hJ8Jm7YUr0St",
        "outputId": "df60b4ed-b282-4bce-b82b-6442b398ecf7"
      },
      "source": [
        "for i in range(3):\n",
        "    plt.scatter(x[idx[i],0],x[idx[i],1],label=\"class_\"+str(i))\n",
        "plt.legend(loc='center left', bbox_to_anchor=(1, 0.5))\n",
        "plt.savefig(\"type3_2_dist.png\",bbox_inches=\"tight\")\n",
        "plt.savefig(\"type3_2_dist.pdf\",bbox_inches=\"tight\")\n"
      ],
      "execution_count": 5,
      "outputs": [
        {
          "output_type": "display_data",
          "data": {
            "image/png": "[encoded data removed]",
            "text/plain": [
              "<Figure size 432x288 with 1 Axes>"
            ]
          },
          "metadata": {
            "tags": [],
            "needs_background": "light"
          }
        }
      ]
    },
    {
      "cell_type": "code",
      "metadata": {
        "id": "UfFHcZJOr0Sz"
      },
      "source": [
        "foreground_classes = {'class_0','class_1'}\n",
        "\n",
        "background_classes = {'class_2'}"
      ],
      "execution_count": 6,
      "outputs": []
    },
    {
      "cell_type": "code",
      "metadata": {
        "colab": {
          "base_uri": "https://localhost:8080/"
        },
        "id": "OplNpNQVr0S2",
        "outputId": "b6919964-343a-4d59-84e4-f41766eb31fb"
      },
      "source": [
        "fg_class  = np.random.randint(0,2)\n",
        "fg_idx = np.random.randint(0,2) #m=2\n",
        "\n",
        "a = []\n",
        "for i in range(2): #m=2\n",
        "    if i == fg_idx:\n",
        "        b = np.random.choice(np.where(idx[fg_class]==True)[0],size=1)\n",
        "        a.append(x[b])\n",
        "        print(\"foreground \"+str(fg_class)+\" present at \" + str(fg_idx))\n",
        "    else:\n",
        "        bg_class = np.random.randint(2,3)\n",
        "        b = np.random.choice(np.where(idx[bg_class]==True)[0],size=1)\n",
        "        a.append(x[b])\n",
        "        print(\"background \"+str(bg_class)+\" present at \" + str(i))\n",
        "a = np.concatenate(a,axis=0)\n",
        "print(a.shape)\n",
        "\n",
        "print(fg_class , fg_idx)"
      ],
      "execution_count": 7,
      "outputs": [
        {
          "output_type": "stream",
          "text": [
            "background 2 present at 0\n",
            "foreground 0 present at 1\n",
            "(2, 2)\n",
            "0 1\n"
          ],
          "name": "stdout"
        }
      ]
    },
    {
      "cell_type": "code",
      "metadata": {
        "colab": {
          "base_uri": "https://localhost:8080/"
        },
        "id": "dwZVmmRBr0S8",
        "outputId": "39ac539e-ec08-4bb9-85af-8386f20883f8"
      },
      "source": [
        "a.shape"
      ],
      "execution_count": 8,
      "outputs": [
        {
          "output_type": "execute_result",
          "data": {
            "text/plain": [
              "(2, 2)"
            ]
          },
          "metadata": {
            "tags": []
          },
          "execution_count": 8
        }
      ]
    },
    {
      "cell_type": "code",
      "metadata": {
        "colab": {
          "base_uri": "https://localhost:8080/"
        },
        "id": "OoxzYI-ur0S_",
        "outputId": "baff629e-1a60-4414-cf9a-cdacf87daf6b"
      },
      "source": [
        "np.reshape(a,(4,1))"
      ],
      "execution_count": 9,
      "outputs": [
        {
          "output_type": "execute_result",
          "data": {
            "text/plain": [
              "array([[ 4.85406688],\n",
              "       [-4.63370498],\n",
              "       [ 1.43305019],\n",
              "       [-6.17600004]])"
            ]
          },
          "metadata": {
            "tags": []
          },
          "execution_count": 9
        }
      ]
    },
    {
      "cell_type": "code",
      "metadata": {
        "id": "jqbvfbwVr0TN"
      },
      "source": [
        "desired_num = 3000\n",
        "mosaic_list =[]\n",
        "mosaic_label = []\n",
        "fore_idx=[]\n",
        "for j in range(desired_num):\n",
        "    fg_class  = np.random.randint(0,2)\n",
        "    fg_idx = np.random.randint(0,2) #m=2\n",
        "    a = []\n",
        "    for i in range(2):  #m=2\n",
        "        if i == fg_idx:\n",
        "            b = np.random.choice(np.where(idx[fg_class]==True)[0],size=1)\n",
        "            a.append(x[b])\n",
        "#             print(\"foreground \"+str(fg_class)+\" present at \" + str(fg_idx))\n",
        "        else:\n",
        "            bg_class = np.random.randint(2,3)\n",
        "            b = np.random.choice(np.where(idx[bg_class]==True)[0],size=1)\n",
        "            a.append(x[b])\n",
        "#             print(\"background \"+str(bg_class)+\" present at \" + str(i))\n",
        "    a = np.concatenate(a,axis=0)\n",
        "    mosaic_list.append(np.reshape(a,(4,1)))\n",
        "    mosaic_label.append(fg_class)\n",
        "    fore_idx.append(fg_idx)"
      ],
      "execution_count": 10,
      "outputs": []
    },
    {
      "cell_type": "code",
      "metadata": {
        "id": "BOsFmWfMr0TR"
      },
      "source": [
        "mosaic_list = np.concatenate(mosaic_list,axis=1).T\n",
        "# print(mosaic_list)"
      ],
      "execution_count": 11,
      "outputs": []
    },
    {
      "cell_type": "code",
      "metadata": {
        "colab": {
          "base_uri": "https://localhost:8080/"
        },
        "id": "C2PnW7aQr0TT",
        "outputId": "e20b6bf1-5f94-4c6a-dcc2-ca93455e585d"
      },
      "source": [
        "print(np.shape(mosaic_label))\n",
        "print(np.shape(fore_idx))"
      ],
      "execution_count": 12,
      "outputs": [
        {
          "output_type": "stream",
          "text": [
            "(3000,)\n",
            "(3000,)\n"
          ],
          "name": "stdout"
        }
      ]
    },
    {
      "cell_type": "code",
      "metadata": {
        "id": "yL0BRf8er0TX"
      },
      "source": [
        "class MosaicDataset(Dataset):\n",
        "  \"\"\"MosaicDataset dataset.\"\"\"\n",
        "\n",
        "  def __init__(self, mosaic_list, mosaic_label, fore_idx):\n",
        "    \"\"\"\n",
        "      Args:\n",
        "        csv_file (string): Path to the csv file with annotations.\n",
        "        root_dir (string): Directory with all the images.\n",
        "        transform (callable, optional): Optional transform to be applied\n",
        "            on a sample.\n",
        "    \"\"\"\n",
        "    self.mosaic = mosaic_list\n",
        "    self.label = mosaic_label\n",
        "    self.fore_idx = fore_idx\n",
        "\n",
        "  def __len__(self):\n",
        "    return len(self.label)\n",
        "\n",
        "  def __getitem__(self, idx):\n",
        "    return self.mosaic[idx] , self.label[idx], self.fore_idx[idx]\n",
        "\n",
        "batch = 250\n",
        "msd = MosaicDataset(mosaic_list, mosaic_label , fore_idx)\n",
        "train_loader = DataLoader( msd,batch_size= batch ,shuffle=True)"
      ],
      "execution_count": 13,
      "outputs": []
    },
    {
      "cell_type": "code",
      "metadata": {
        "id": "ZVRXgwwNr0Tb"
      },
      "source": [
        "class Wherenet(nn.Module):\n",
        "    def __init__(self):\n",
        "        super(Wherenet,self).__init__()\n",
        "        self.linear1 = nn.Linear(2,1)\n",
        "\n",
        "    def forward(self,z):\n",
        "        x = torch.zeros([batch,2],dtype=torch.float64)  #m=2\n",
        "        y = torch.zeros([batch,2], dtype=torch.float64)\n",
        "        #x,y = x.to(\"cuda\"),y.to(\"cuda\")\n",
        "        for i in range(2):  #m=9\n",
        "          x[:,i] = self.helper(z[:,2*i:2*i+2])[:,0]\n",
        "            #print(k[:,0].shape,x[:,i].shape)\n",
        "        x = F.softmax(x,dim=1)   # alphas\n",
        "        x1 = x[:,0]\n",
        "        for i in range(2): #m=2\n",
        "            x1 = x[:,i]          \n",
        "            #print()\n",
        "            y = y+torch.mul(x1[:,None],z[:,2*i:2*i+2])\n",
        "        return y , x \n",
        "\n",
        "    \n",
        "    def helper(self,x):\n",
        "        #x = F.relu(self.linear1(x))\n",
        "        #x = F.relu(self.linear2(x))\n",
        "        x = self.linear1(x)\n",
        "        return x\n",
        "\n",
        "    "
      ],
      "execution_count": 14,
      "outputs": []
    },
    {
      "cell_type": "code",
      "metadata": {
        "id": "f-Ek05Kxr0Te"
      },
      "source": [
        "trainiter = iter(train_loader)\n",
        "input1,labels1,index1 = trainiter.next()\n",
        "\n"
      ],
      "execution_count": 15,
      "outputs": []
    },
    {
      "cell_type": "code",
      "metadata": {
        "colab": {
          "base_uri": "https://localhost:8080/"
        },
        "id": "SxEmWZI6r0Ti",
        "outputId": "10032f59-cb83-48f3-e6bf-ede3bd47318e"
      },
      "source": [
        "where = Wherenet().double()\n",
        "where = where\n",
        "out_where,alphas = where(input1)\n",
        "out_where.shape,alphas.shape"
      ],
      "execution_count": 16,
      "outputs": [
        {
          "output_type": "execute_result",
          "data": {
            "text/plain": [
              "(torch.Size([250, 2]), torch.Size([250, 2]))"
            ]
          },
          "metadata": {
            "tags": []
          },
          "execution_count": 16
        }
      ]
    },
    {
      "cell_type": "code",
      "metadata": {
        "id": "5_XeIUk0r0Tl"
      },
      "source": [
        "class Whatnet(nn.Module):\n",
        "    def __init__(self):\n",
        "        super(Whatnet,self).__init__()\n",
        "        self.linear1 = nn.Linear(2,2)\n",
        "        #self.linear2 = nn.Linear(4,3)\n",
        "#         self.linear3 = nn.Linear(8,3)\n",
        "    def forward(self,x):\n",
        "        #x = F.relu(self.linear1(x))\n",
        "        #x = F.relu(self.linear2(x))\n",
        "        x = self.linear1(x)\n",
        "        return x"
      ],
      "execution_count": 17,
      "outputs": []
    },
    {
      "cell_type": "code",
      "metadata": {
        "id": "l35i9bIlr0Tp"
      },
      "source": [
        "what = Whatnet().double()\n",
        "# what(out_where)"
      ],
      "execution_count": 18,
      "outputs": []
    },
    {
      "cell_type": "code",
      "metadata": {
        "id": "tMEoCLo1r0Tt"
      },
      "source": [
        "test_data_required = 1000\n",
        "mosaic_list_test =[]\n",
        "mosaic_label_test = []\n",
        "fore_idx_test=[]\n",
        "for j in range(test_data_required):\n",
        "    fg_class  = np.random.randint(0,2)\n",
        "    fg_idx = np.random.randint(0,2)  #m=2\n",
        "    a = []\n",
        "    for i in range(2): #m=2\n",
        "        if i == fg_idx:\n",
        "            b = np.random.choice(np.where(idx[fg_class]==True)[0],size=1)\n",
        "            a.append(x[b])\n",
        "#             print(\"foreground \"+str(fg_class)+\" present at \" + str(fg_idx))\n",
        "        else:\n",
        "            bg_class = np.random.randint(2,3)\n",
        "            b = np.random.choice(np.where(idx[bg_class]==True)[0],size=1)\n",
        "            a.append(x[b])\n",
        "#             print(\"background \"+str(bg_class)+\" present at \" + str(i))\n",
        "    a = np.concatenate(a,axis=0)\n",
        "    mosaic_list_test.append(np.reshape(a,(4,1)))\n",
        "    mosaic_label_test.append(fg_class)\n",
        "    fore_idx_test.append(fg_idx)"
      ],
      "execution_count": 19,
      "outputs": []
    },
    {
      "cell_type": "code",
      "metadata": {
        "colab": {
          "base_uri": "https://localhost:8080/"
        },
        "id": "2Naetxvbr0Tw",
        "outputId": "0081376c-d501-4f61-f566-03c59f329486"
      },
      "source": [
        "mosaic_list_test = np.concatenate(mosaic_list_test,axis=1).T\n",
        "print(mosaic_list_test.shape)"
      ],
      "execution_count": 20,
      "outputs": [
        {
          "output_type": "stream",
          "text": [
            "(1000, 4)\n"
          ],
          "name": "stdout"
        }
      ]
    },
    {
      "cell_type": "code",
      "metadata": {
        "id": "Os4KxqrFr0Tz"
      },
      "source": [
        "test_data = MosaicDataset(mosaic_list_test,mosaic_label_test,fore_idx_test)\n",
        "test_loader = DataLoader( test_data,batch_size= batch ,shuffle=False)"
      ],
      "execution_count": 21,
      "outputs": []
    },
    {
      "cell_type": "code",
      "metadata": {
        "colab": {
          "base_uri": "https://localhost:8080/"
        },
        "id": "pPQY-Wpcr0T2",
        "scrolled": true,
        "outputId": "248c2dfc-f8c4-4bd5-ac18-7bdef3b624cc"
      },
      "source": [
        "\n",
        "focus_true_pred_true =0\n",
        "focus_false_pred_true =0\n",
        "focus_true_pred_false =0\n",
        "focus_false_pred_false =0\n",
        "\n",
        "argmax_more_than_half = 0\n",
        "argmax_less_than_half =0\n",
        "\n",
        "col1=[]\n",
        "col2=[]\n",
        "col3=[]\n",
        "col4=[]\n",
        "col5=[]\n",
        "col6=[]\n",
        "col7=[]\n",
        "col8=[]\n",
        "col9=[]\n",
        "col10=[]\n",
        "col11=[]\n",
        "col12=[]\n",
        "col13=[]\n",
        "\n",
        "criterion = nn.CrossEntropyLoss()\n",
        "optimizer_where = optim.SGD(where.parameters(), lr=0.01, momentum=0.9)\n",
        "optimizer_what = optim.SGD(what.parameters(), lr=0.01, momentum=0.9)\n",
        "\n",
        "nos_epochs = 100\n",
        "\n",
        "train_loss=[]\n",
        "test_loss =[]\n",
        "train_acc = []\n",
        "test_acc = []\n",
        "for epoch in range(nos_epochs):  # loop over the dataset multiple times\n",
        "\n",
        "    focus_true_pred_true =0\n",
        "    focus_false_pred_true =0\n",
        "    focus_true_pred_false =0\n",
        "    focus_false_pred_false =0\n",
        "\n",
        "    argmax_more_than_half = 0\n",
        "    argmax_less_than_half =0\n",
        "\n",
        "    running_loss = 0.0\n",
        "    cnt=0\n",
        "\n",
        "    iteration = desired_num // batch\n",
        "\n",
        "    #training data set\n",
        "\n",
        "    for i, data in  enumerate(train_loader):\n",
        "        inputs , labels , fore_idx = data\n",
        "        #inputs,labels,fore_idx = inputs.to(device),labels.to(device),fore_idx.to(device)\n",
        "        # zero the parameter gradients\n",
        "\n",
        "        optimizer_what.zero_grad()\n",
        "        optimizer_where.zero_grad()\n",
        "        \n",
        "        \n",
        "        avg_inp,alphas = where(inputs)\n",
        "        \n",
        "        outputs = what(avg_inp)\n",
        "        \n",
        "        _, predicted = torch.max(outputs.data, 1)\n",
        "        \n",
        "        loss = criterion(outputs, labels) \n",
        "        loss.backward() \n",
        "        \n",
        "        optimizer_what.step()\n",
        "        optimizer_where.step() \n",
        "        \n",
        "\n",
        "        running_loss += loss.item()\n",
        "        if cnt % 6 == 5:    # print every 6 mini-batches\n",
        "            print('[%d, %5d] loss: %.3f' %(epoch + 1, cnt + 1, running_loss / 6))\n",
        "            running_loss = 0.0\n",
        "        cnt=cnt+1\n",
        "    \n",
        "        if epoch % 5 == 4:\n",
        "            for j in range (batch):\n",
        "                focus = torch.argmax(alphas[j])\n",
        "\n",
        "                if(alphas[j][focus] >= 0.5):\n",
        "                    argmax_more_than_half +=1\n",
        "                else:\n",
        "                    argmax_less_than_half +=1\n",
        "\n",
        "                if(focus == fore_idx[j] and predicted[j] == labels[j]):\n",
        "                    focus_true_pred_true += 1\n",
        "\n",
        "                elif(focus != fore_idx[j] and predicted[j] == labels[j]):\n",
        "                    focus_false_pred_true +=1\n",
        "\n",
        "                elif(focus == fore_idx[j] and predicted[j] != labels[j]):\n",
        "                    focus_true_pred_false +=1\n",
        "\n",
        "                elif(focus != fore_idx[j] and predicted[j] != labels[j]):\n",
        "                    focus_false_pred_false +=1\n",
        "\n",
        "    if epoch % 5 == 4:\n",
        "        col1.append(epoch)\n",
        "        col2.append(argmax_more_than_half)\n",
        "        col3.append(argmax_less_than_half)\n",
        "        col4.append(focus_true_pred_true)\n",
        "        col5.append(focus_false_pred_true)\n",
        "        col6.append(focus_true_pred_false)\n",
        "        col7.append(focus_false_pred_false)\n",
        "\n",
        "    #************************************************************************\n",
        "        #testing data set  \n",
        "        with torch.no_grad():\n",
        "            focus_true_pred_true =0\n",
        "            focus_false_pred_true =0\n",
        "            focus_true_pred_false =0\n",
        "            focus_false_pred_false =0\n",
        "\n",
        "            argmax_more_than_half = 0\n",
        "            argmax_less_than_half =0\n",
        "            for data in test_loader:\n",
        "                inputs, labels , fore_idx = data\n",
        "                #inputs,labels,fore_idx = inputs.to(device),labels.to(device),fore_idx.to(device) \n",
        "#                 print(inputs.shtorch.save(where.state_dict(),\"model_epoch\"+str(epoch)+\".pt\")ape,labels.shape)\n",
        "                avg_inp,alphas = where(inputs)\n",
        "                outputs = what(avg_inp)\n",
        "                _, predicted = torch.max(outputs.data, 1)\n",
        "\n",
        "                for j in range (batch):\n",
        "                    focus = torch.argmax(alphas[j])\n",
        "\n",
        "                    if(alphas[j][focus] >= 0.5):\n",
        "                        argmax_more_than_half +=1\n",
        "                    else:\n",
        "                        argmax_less_than_half +=1\n",
        "\n",
        "                    if(focus == fore_idx[j] and predicted[j] == labels[j]):\n",
        "                        focus_true_pred_true += 1\n",
        "\n",
        "                    elif(focus != fore_idx[j] and predicted[j] == labels[j]):\n",
        "                        focus_false_pred_true +=1\n",
        "\n",
        "                    elif(focus == fore_idx[j] and predicted[j] != labels[j]):\n",
        "                        focus_true_pred_false +=1\n",
        "\n",
        "                    elif(focus != fore_idx[j] and predicted[j] != labels[j]):\n",
        "                        focus_false_pred_false +=1\n",
        "\n",
        "        col8.append(argmax_more_than_half)\n",
        "        col9.append(argmax_less_than_half)\n",
        "        col10.append(focus_true_pred_true)\n",
        "        col11.append(focus_false_pred_true)\n",
        "        col12.append(focus_true_pred_false)\n",
        "        col13.append(focus_false_pred_false)\n",
        "        \n",
        "        #torch.save(where.state_dict(),\"where_model_epoch\"+str(epoch)+\".pt\")\n",
        "        #torch.save(what.state_dict(),\"what_model_epoch\"+str(epoch)+\".pt\")\n",
        "    \n",
        "print('Finished Training')\n",
        "#torch.save(where.state_dict(),\"where_model_epoch\"+str(nos_epochs)+\".pt\")\n",
        "#torch.save(what.state_dict(),\"what_model_epoch\"+str(epoch)+\".pt\")\n"
      ],
      "execution_count": 22,
      "outputs": [
        {
          "output_type": "stream",
          "text": [
            "[1,     6] loss: 1.840\n",
            "[1,    12] loss: 0.394\n",
            "[2,     6] loss: 0.592\n",
            "[2,    12] loss: 0.445\n",
            "[3,     6] loss: 0.256\n",
            "[3,    12] loss: 0.127\n",
            "[4,     6] loss: 0.080\n",
            "[4,    12] loss: 0.068\n",
            "[5,     6] loss: 0.065\n",
            "[5,    12] loss: 0.058\n",
            "[6,     6] loss: 0.052\n",
            "[6,    12] loss: 0.048\n",
            "[7,     6] loss: 0.045\n",
            "[7,    12] loss: 0.045\n",
            "[8,     6] loss: 0.042\n",
            "[8,    12] loss: 0.041\n",
            "[9,     6] loss: 0.041\n",
            "[9,    12] loss: 0.036\n",
            "[10,     6] loss: 0.038\n",
            "[10,    12] loss: 0.034\n",
            "[11,     6] loss: 0.035\n",
            "[11,    12] loss: 0.033\n",
            "[12,     6] loss: 0.033\n",
            "[12,    12] loss: 0.031\n",
            "[13,     6] loss: 0.031\n",
            "[13,    12] loss: 0.029\n",
            "[14,     6] loss: 0.029\n",
            "[14,    12] loss: 0.029\n",
            "[15,     6] loss: 0.028\n",
            "[15,    12] loss: 0.027\n",
            "[16,     6] loss: 0.028\n",
            "[16,    12] loss: 0.025\n",
            "[17,     6] loss: 0.025\n",
            "[17,    12] loss: 0.026\n",
            "[18,     6] loss: 0.024\n",
            "[18,    12] loss: 0.025\n",
            "[19,     6] loss: 0.024\n",
            "[19,    12] loss: 0.023\n",
            "[20,     6] loss: 0.023\n",
            "[20,    12] loss: 0.023\n",
            "[21,     6] loss: 0.023\n",
            "[21,    12] loss: 0.021\n",
            "[22,     6] loss: 0.023\n",
            "[22,    12] loss: 0.020\n",
            "[23,     6] loss: 0.019\n",
            "[23,    12] loss: 0.023\n",
            "[24,     6] loss: 0.021\n",
            "[24,    12] loss: 0.019\n",
            "[25,     6] loss: 0.019\n",
            "[25,    12] loss: 0.020\n",
            "[26,     6] loss: 0.020\n",
            "[26,    12] loss: 0.018\n",
            "[27,     6] loss: 0.019\n",
            "[27,    12] loss: 0.018\n",
            "[28,     6] loss: 0.019\n",
            "[28,    12] loss: 0.018\n",
            "[29,     6] loss: 0.017\n",
            "[29,    12] loss: 0.018\n",
            "[30,     6] loss: 0.017\n",
            "[30,    12] loss: 0.018\n",
            "[31,     6] loss: 0.018\n",
            "[31,    12] loss: 0.016\n",
            "[32,     6] loss: 0.016\n",
            "[32,    12] loss: 0.017\n",
            "[33,     6] loss: 0.016\n",
            "[33,    12] loss: 0.016\n",
            "[34,     6] loss: 0.015\n",
            "[34,    12] loss: 0.016\n",
            "[35,     6] loss: 0.016\n",
            "[35,    12] loss: 0.015\n",
            "[36,     6] loss: 0.015\n",
            "[36,    12] loss: 0.015\n",
            "[37,     6] loss: 0.014\n",
            "[37,    12] loss: 0.015\n",
            "[38,     6] loss: 0.014\n",
            "[38,    12] loss: 0.015\n",
            "[39,     6] loss: 0.013\n",
            "[39,    12] loss: 0.015\n",
            "[40,     6] loss: 0.014\n",
            "[40,    12] loss: 0.014\n",
            "[41,     6] loss: 0.014\n",
            "[41,    12] loss: 0.013\n",
            "[42,     6] loss: 0.013\n",
            "[42,    12] loss: 0.014\n",
            "[43,     6] loss: 0.014\n",
            "[43,    12] loss: 0.012\n",
            "[44,     6] loss: 0.014\n",
            "[44,    12] loss: 0.012\n",
            "[45,     6] loss: 0.014\n",
            "[45,    12] loss: 0.011\n",
            "[46,     6] loss: 0.014\n",
            "[46,    12] loss: 0.011\n",
            "[47,     6] loss: 0.011\n",
            "[47,    12] loss: 0.013\n",
            "[48,     6] loss: 0.011\n",
            "[48,    12] loss: 0.013\n",
            "[49,     6] loss: 0.012\n",
            "[49,    12] loss: 0.012\n",
            "[50,     6] loss: 0.011\n",
            "[50,    12] loss: 0.012\n",
            "[51,     6] loss: 0.011\n",
            "[51,    12] loss: 0.012\n",
            "[52,     6] loss: 0.011\n",
            "[52,    12] loss: 0.012\n",
            "[53,     6] loss: 0.012\n",
            "[53,    12] loss: 0.011\n",
            "[54,     6] loss: 0.012\n",
            "[54,    12] loss: 0.010\n",
            "[55,     6] loss: 0.012\n",
            "[55,    12] loss: 0.010\n",
            "[56,     6] loss: 0.010\n",
            "[56,    12] loss: 0.011\n",
            "[57,     6] loss: 0.010\n",
            "[57,    12] loss: 0.012\n",
            "[58,     6] loss: 0.009\n",
            "[58,    12] loss: 0.012\n",
            "[59,     6] loss: 0.010\n",
            "[59,    12] loss: 0.010\n",
            "[60,     6] loss: 0.009\n",
            "[60,    12] loss: 0.011\n",
            "[61,     6] loss: 0.010\n",
            "[61,    12] loss: 0.010\n",
            "[62,     6] loss: 0.010\n",
            "[62,    12] loss: 0.010\n",
            "[63,     6] loss: 0.009\n",
            "[63,    12] loss: 0.010\n",
            "[64,     6] loss: 0.010\n",
            "[64,    12] loss: 0.010\n",
            "[65,     6] loss: 0.010\n",
            "[65,    12] loss: 0.009\n",
            "[66,     6] loss: 0.009\n",
            "[66,    12] loss: 0.009\n",
            "[67,     6] loss: 0.010\n",
            "[67,    12] loss: 0.009\n",
            "[68,     6] loss: 0.009\n",
            "[68,    12] loss: 0.009\n",
            "[69,     6] loss: 0.009\n",
            "[69,    12] loss: 0.010\n",
            "[70,     6] loss: 0.010\n",
            "[70,    12] loss: 0.008\n",
            "[71,     6] loss: 0.009\n",
            "[71,    12] loss: 0.009\n",
            "[72,     6] loss: 0.009\n",
            "[72,    12] loss: 0.009\n",
            "[73,     6] loss: 0.008\n",
            "[73,    12] loss: 0.009\n",
            "[74,     6] loss: 0.009\n",
            "[74,    12] loss: 0.008\n",
            "[75,     6] loss: 0.009\n",
            "[75,    12] loss: 0.008\n",
            "[76,     6] loss: 0.009\n",
            "[76,    12] loss: 0.008\n",
            "[77,     6] loss: 0.009\n",
            "[77,    12] loss: 0.007\n",
            "[78,     6] loss: 0.009\n",
            "[78,    12] loss: 0.007\n",
            "[79,     6] loss: 0.008\n",
            "[79,    12] loss: 0.008\n",
            "[80,     6] loss: 0.008\n",
            "[80,    12] loss: 0.009\n",
            "[81,     6] loss: 0.008\n",
            "[81,    12] loss: 0.008\n",
            "[82,     6] loss: 0.008\n",
            "[82,    12] loss: 0.008\n",
            "[83,     6] loss: 0.008\n",
            "[83,    12] loss: 0.008\n",
            "[84,     6] loss: 0.008\n",
            "[84,    12] loss: 0.008\n",
            "[85,     6] loss: 0.008\n",
            "[85,    12] loss: 0.008\n",
            "[86,     6] loss: 0.008\n",
            "[86,    12] loss: 0.007\n",
            "[87,     6] loss: 0.008\n",
            "[87,    12] loss: 0.007\n",
            "[88,     6] loss: 0.007\n",
            "[88,    12] loss: 0.008\n",
            "[89,     6] loss: 0.008\n",
            "[89,    12] loss: 0.007\n",
            "[90,     6] loss: 0.008\n",
            "[90,    12] loss: 0.007\n",
            "[91,     6] loss: 0.008\n",
            "[91,    12] loss: 0.007\n",
            "[92,     6] loss: 0.007\n",
            "[92,    12] loss: 0.008\n",
            "[93,     6] loss: 0.007\n",
            "[93,    12] loss: 0.007\n",
            "[94,     6] loss: 0.007\n",
            "[94,    12] loss: 0.007\n",
            "[95,     6] loss: 0.007\n",
            "[95,    12] loss: 0.007\n",
            "[96,     6] loss: 0.007\n",
            "[96,    12] loss: 0.007\n",
            "[97,     6] loss: 0.007\n",
            "[97,    12] loss: 0.007\n",
            "[98,     6] loss: 0.007\n",
            "[98,    12] loss: 0.007\n",
            "[99,     6] loss: 0.007\n",
            "[99,    12] loss: 0.007\n",
            "[100,     6] loss: 0.006\n",
            "[100,    12] loss: 0.007\n",
            "Finished Training\n"
          ],
          "name": "stdout"
        }
      ]
    },
    {
      "cell_type": "code",
      "metadata": {
        "id": "UvP97PKnr0T5"
      },
      "source": [
        "columns = [\"epochs\", \"argmax > 0.5\" ,\"argmax < 0.5\", \"focus_true_pred_true\", \"focus_false_pred_true\", \"focus_true_pred_false\", \"focus_false_pred_false\" ]\n",
        "df_train = pd.DataFrame()\n",
        "df_test = pd.DataFrame()\n",
        "df_train[columns[0]] = col1\n",
        "df_train[columns[1]] = col2\n",
        "df_train[columns[2]] = col3\n",
        "df_train[columns[3]] = col4\n",
        "df_train[columns[4]] = col5\n",
        "df_train[columns[5]] = col6\n",
        "df_train[columns[6]] = col7\n",
        "\n",
        "df_test[columns[0]] = col1\n",
        "df_test[columns[1]] = col8\n",
        "df_test[columns[2]] = col9\n",
        "df_test[columns[3]] = col10\n",
        "df_test[columns[4]] = col11\n",
        "df_test[columns[5]] = col12\n",
        "df_test[columns[6]] = col13"
      ],
      "execution_count": 23,
      "outputs": []
    },
    {
      "cell_type": "code",
      "metadata": {
        "id": "0hAVV2I5r0T7",
        "scrolled": false,
        "colab": {
          "base_uri": "https://localhost:8080/",
          "height": 686
        },
        "outputId": "14698eb1-80a2-4706-a026-b169bf8878ed"
      },
      "source": [
        "df_train"
      ],
      "execution_count": 24,
      "outputs": [
        {
          "output_type": "execute_result",
          "data": {
            "text/html": [
              "<div>\n",
              "<style scoped>\n",
              "    .dataframe tbody tr th:only-of-type {\n",
              "        vertical-align: middle;\n",
              "    }\n",
              "\n",
              "    .dataframe tbody tr th {\n",
              "        vertical-align: top;\n",
              "    }\n",
              "\n",
              "    .dataframe thead th {\n",
              "        text-align: right;\n",
              "    }\n",
              "</style>\n",
              "<table border=\"1\" class=\"dataframe\">\n",
              "  <thead>\n",
              "    <tr style=\"text-align: right;\">\n",
              "      <th></th>\n",
              "      <th>epochs</th>\n",
              "      <th>argmax &gt; 0.5</th>\n",
              "      <th>argmax &lt; 0.5</th>\n",
              "      <th>focus_true_pred_true</th>\n",
              "      <th>focus_false_pred_true</th>\n",
              "      <th>focus_true_pred_false</th>\n",
              "      <th>focus_false_pred_false</th>\n",
              "    </tr>\n",
              "  </thead>\n",
              "  <tbody>\n",
              "    <tr>\n",
              "      <th>0</th>\n",
              "      <td>4</td>\n",
              "      <td>3000</td>\n",
              "      <td>0</td>\n",
              "      <td>3000</td>\n",
              "      <td>0</td>\n",
              "      <td>0</td>\n",
              "      <td>0</td>\n",
              "    </tr>\n",
              "    <tr>\n",
              "      <th>1</th>\n",
              "      <td>9</td>\n",
              "      <td>3000</td>\n",
              "      <td>0</td>\n",
              "      <td>3000</td>\n",
              "      <td>0</td>\n",
              "      <td>0</td>\n",
              "      <td>0</td>\n",
              "    </tr>\n",
              "    <tr>\n",
              "      <th>2</th>\n",
              "      <td>14</td>\n",
              "      <td>3000</td>\n",
              "      <td>0</td>\n",
              "      <td>3000</td>\n",
              "      <td>0</td>\n",
              "      <td>0</td>\n",
              "      <td>0</td>\n",
              "    </tr>\n",
              "    <tr>\n",
              "      <th>3</th>\n",
              "      <td>19</td>\n",
              "      <td>3000</td>\n",
              "      <td>0</td>\n",
              "      <td>3000</td>\n",
              "      <td>0</td>\n",
              "      <td>0</td>\n",
              "      <td>0</td>\n",
              "    </tr>\n",
              "    <tr>\n",
              "      <th>4</th>\n",
              "      <td>24</td>\n",
              "      <td>3000</td>\n",
              "      <td>0</td>\n",
              "      <td>3000</td>\n",
              "      <td>0</td>\n",
              "      <td>0</td>\n",
              "      <td>0</td>\n",
              "    </tr>\n",
              "    <tr>\n",
              "      <th>5</th>\n",
              "      <td>29</td>\n",
              "      <td>3000</td>\n",
              "      <td>0</td>\n",
              "      <td>3000</td>\n",
              "      <td>0</td>\n",
              "      <td>0</td>\n",
              "      <td>0</td>\n",
              "    </tr>\n",
              "    <tr>\n",
              "      <th>6</th>\n",
              "      <td>34</td>\n",
              "      <td>3000</td>\n",
              "      <td>0</td>\n",
              "      <td>3000</td>\n",
              "      <td>0</td>\n",
              "      <td>0</td>\n",
              "      <td>0</td>\n",
              "    </tr>\n",
              "    <tr>\n",
              "      <th>7</th>\n",
              "      <td>39</td>\n",
              "      <td>3000</td>\n",
              "      <td>0</td>\n",
              "      <td>3000</td>\n",
              "      <td>0</td>\n",
              "      <td>0</td>\n",
              "      <td>0</td>\n",
              "    </tr>\n",
              "    <tr>\n",
              "      <th>8</th>\n",
              "      <td>44</td>\n",
              "      <td>3000</td>\n",
              "      <td>0</td>\n",
              "      <td>3000</td>\n",
              "      <td>0</td>\n",
              "      <td>0</td>\n",
              "      <td>0</td>\n",
              "    </tr>\n",
              "    <tr>\n",
              "      <th>9</th>\n",
              "      <td>49</td>\n",
              "      <td>3000</td>\n",
              "      <td>0</td>\n",
              "      <td>3000</td>\n",
              "      <td>0</td>\n",
              "      <td>0</td>\n",
              "      <td>0</td>\n",
              "    </tr>\n",
              "    <tr>\n",
              "      <th>10</th>\n",
              "      <td>54</td>\n",
              "      <td>3000</td>\n",
              "      <td>0</td>\n",
              "      <td>3000</td>\n",
              "      <td>0</td>\n",
              "      <td>0</td>\n",
              "      <td>0</td>\n",
              "    </tr>\n",
              "    <tr>\n",
              "      <th>11</th>\n",
              "      <td>59</td>\n",
              "      <td>3000</td>\n",
              "      <td>0</td>\n",
              "      <td>3000</td>\n",
              "      <td>0</td>\n",
              "      <td>0</td>\n",
              "      <td>0</td>\n",
              "    </tr>\n",
              "    <tr>\n",
              "      <th>12</th>\n",
              "      <td>64</td>\n",
              "      <td>3000</td>\n",
              "      <td>0</td>\n",
              "      <td>3000</td>\n",
              "      <td>0</td>\n",
              "      <td>0</td>\n",
              "      <td>0</td>\n",
              "    </tr>\n",
              "    <tr>\n",
              "      <th>13</th>\n",
              "      <td>69</td>\n",
              "      <td>3000</td>\n",
              "      <td>0</td>\n",
              "      <td>3000</td>\n",
              "      <td>0</td>\n",
              "      <td>0</td>\n",
              "      <td>0</td>\n",
              "    </tr>\n",
              "    <tr>\n",
              "      <th>14</th>\n",
              "      <td>74</td>\n",
              "      <td>3000</td>\n",
              "      <td>0</td>\n",
              "      <td>3000</td>\n",
              "      <td>0</td>\n",
              "      <td>0</td>\n",
              "      <td>0</td>\n",
              "    </tr>\n",
              "    <tr>\n",
              "      <th>15</th>\n",
              "      <td>79</td>\n",
              "      <td>3000</td>\n",
              "      <td>0</td>\n",
              "      <td>3000</td>\n",
              "      <td>0</td>\n",
              "      <td>0</td>\n",
              "      <td>0</td>\n",
              "    </tr>\n",
              "    <tr>\n",
              "      <th>16</th>\n",
              "      <td>84</td>\n",
              "      <td>3000</td>\n",
              "      <td>0</td>\n",
              "      <td>3000</td>\n",
              "      <td>0</td>\n",
              "      <td>0</td>\n",
              "      <td>0</td>\n",
              "    </tr>\n",
              "    <tr>\n",
              "      <th>17</th>\n",
              "      <td>89</td>\n",
              "      <td>3000</td>\n",
              "      <td>0</td>\n",
              "      <td>3000</td>\n",
              "      <td>0</td>\n",
              "      <td>0</td>\n",
              "      <td>0</td>\n",
              "    </tr>\n",
              "    <tr>\n",
              "      <th>18</th>\n",
              "      <td>94</td>\n",
              "      <td>3000</td>\n",
              "      <td>0</td>\n",
              "      <td>3000</td>\n",
              "      <td>0</td>\n",
              "      <td>0</td>\n",
              "      <td>0</td>\n",
              "    </tr>\n",
              "    <tr>\n",
              "      <th>19</th>\n",
              "      <td>99</td>\n",
              "      <td>3000</td>\n",
              "      <td>0</td>\n",
              "      <td>3000</td>\n",
              "      <td>0</td>\n",
              "      <td>0</td>\n",
              "      <td>0</td>\n",
              "    </tr>\n",
              "  </tbody>\n",
              "</table>\n",
              "</div>"
            ],
            "text/plain": [
              "    epochs  argmax > 0.5  ...  focus_true_pred_false  focus_false_pred_false\n",
              "0        4          3000  ...                      0                       0\n",
              "1        9          3000  ...                      0                       0\n",
              "2       14          3000  ...                      0                       0\n",
              "3       19          3000  ...                      0                       0\n",
              "4       24          3000  ...                      0                       0\n",
              "5       29          3000  ...                      0                       0\n",
              "6       34          3000  ...                      0                       0\n",
              "7       39          3000  ...                      0                       0\n",
              "8       44          3000  ...                      0                       0\n",
              "9       49          3000  ...                      0                       0\n",
              "10      54          3000  ...                      0                       0\n",
              "11      59          3000  ...                      0                       0\n",
              "12      64          3000  ...                      0                       0\n",
              "13      69          3000  ...                      0                       0\n",
              "14      74          3000  ...                      0                       0\n",
              "15      79          3000  ...                      0                       0\n",
              "16      84          3000  ...                      0                       0\n",
              "17      89          3000  ...                      0                       0\n",
              "18      94          3000  ...                      0                       0\n",
              "19      99          3000  ...                      0                       0\n",
              "\n",
              "[20 rows x 7 columns]"
            ]
          },
          "metadata": {
            "tags": []
          },
          "execution_count": 24
        }
      ]
    },
    {
      "cell_type": "code",
      "metadata": {
        "id": "s-ZXousDr0T-",
        "colab": {
          "base_uri": "https://localhost:8080/",
          "height": 573
        },
        "outputId": "d7dcb31e-4b6d-46eb-aea9-911d89897171"
      },
      "source": [
        "plt.plot(col1,col2, label='argmax > 0.5')\n",
        "plt.plot(col1,col3, label='argmax < 0.5')\n",
        "\n",
        "plt.legend(loc='center left', bbox_to_anchor=(1, 0.5))\n",
        "plt.xlabel(\"epochs\")\n",
        "plt.ylabel(\"training data\")\n",
        "plt.title(\"On Training set\")\n",
        "plt.show()\n",
        "\n",
        "plt.plot(col1,col4, label =\"focus_true_pred_true \")\n",
        "plt.plot(col1,col5, label =\"focus_false_pred_true \")\n",
        "plt.plot(col1,col6, label =\"focus_true_pred_false \")\n",
        "plt.plot(col1,col7, label =\"focus_false_pred_false \")\n",
        "plt.title(\"On Training set\")\n",
        "plt.legend(loc='center left', bbox_to_anchor=(1, 0.5))\n",
        "plt.xlabel(\"epochs\")\n",
        "plt.ylabel(\"training data\")\n",
        "plt.savefig(\"linear_type3_21.png\",bbox_inches=\"tight\")\n",
        "plt.savefig(\"linear_type3_21.pdf\",bbox_inches=\"tight\")\n",
        "plt.show()"
      ],
      "execution_count": 25,
      "outputs": [
        {
          "output_type": "display_data",
          "data": {
            "image/png": "[encoded data removed]",
            "text/plain": [
              "<Figure size 432x288 with 1 Axes>"
            ]
          },
          "metadata": {
            "tags": [],
            "needs_background": "light"
          }
        },
        {
          "output_type": "display_data",
          "data": {
            "image/png": "[encoded data removed]",
            "text/plain": [
              "<Figure size 432x288 with 1 Axes>"
            ]
          },
          "metadata": {
            "tags": [],
            "needs_background": "light"
          }
        }
      ]
    },
    {
      "cell_type": "code",
      "metadata": {
        "id": "LQip8h8jr0UA",
        "scrolled": true,
        "colab": {
          "base_uri": "https://localhost:8080/",
          "height": 686
        },
        "outputId": "5ef7026a-ee5e-455e-f088-6d3e958968fe"
      },
      "source": [
        "df_test"
      ],
      "execution_count": 26,
      "outputs": [
        {
          "output_type": "execute_result",
          "data": {
            "text/html": [
              "<div>\n",
              "<style scoped>\n",
              "    .dataframe tbody tr th:only-of-type {\n",
              "        vertical-align: middle;\n",
              "    }\n",
              "\n",
              "    .dataframe tbody tr th {\n",
              "        vertical-align: top;\n",
              "    }\n",
              "\n",
              "    .dataframe thead th {\n",
              "        text-align: right;\n",
              "    }\n",
              "</style>\n",
              "<table border=\"1\" class=\"dataframe\">\n",
              "  <thead>\n",
              "    <tr style=\"text-align: right;\">\n",
              "      <th></th>\n",
              "      <th>epochs</th>\n",
              "      <th>argmax &gt; 0.5</th>\n",
              "      <th>argmax &lt; 0.5</th>\n",
              "      <th>focus_true_pred_true</th>\n",
              "      <th>focus_false_pred_true</th>\n",
              "      <th>focus_true_pred_false</th>\n",
              "      <th>focus_false_pred_false</th>\n",
              "    </tr>\n",
              "  </thead>\n",
              "  <tbody>\n",
              "    <tr>\n",
              "      <th>0</th>\n",
              "      <td>4</td>\n",
              "      <td>1000</td>\n",
              "      <td>0</td>\n",
              "      <td>1000</td>\n",
              "      <td>0</td>\n",
              "      <td>0</td>\n",
              "      <td>0</td>\n",
              "    </tr>\n",
              "    <tr>\n",
              "      <th>1</th>\n",
              "      <td>9</td>\n",
              "      <td>1000</td>\n",
              "      <td>0</td>\n",
              "      <td>1000</td>\n",
              "      <td>0</td>\n",
              "      <td>0</td>\n",
              "      <td>0</td>\n",
              "    </tr>\n",
              "    <tr>\n",
              "      <th>2</th>\n",
              "      <td>14</td>\n",
              "      <td>1000</td>\n",
              "      <td>0</td>\n",
              "      <td>1000</td>\n",
              "      <td>0</td>\n",
              "      <td>0</td>\n",
              "      <td>0</td>\n",
              "    </tr>\n",
              "    <tr>\n",
              "      <th>3</th>\n",
              "      <td>19</td>\n",
              "      <td>1000</td>\n",
              "      <td>0</td>\n",
              "      <td>1000</td>\n",
              "      <td>0</td>\n",
              "      <td>0</td>\n",
              "      <td>0</td>\n",
              "    </tr>\n",
              "    <tr>\n",
              "      <th>4</th>\n",
              "      <td>24</td>\n",
              "      <td>1000</td>\n",
              "      <td>0</td>\n",
              "      <td>1000</td>\n",
              "      <td>0</td>\n",
              "      <td>0</td>\n",
              "      <td>0</td>\n",
              "    </tr>\n",
              "    <tr>\n",
              "      <th>5</th>\n",
              "      <td>29</td>\n",
              "      <td>1000</td>\n",
              "      <td>0</td>\n",
              "      <td>1000</td>\n",
              "      <td>0</td>\n",
              "      <td>0</td>\n",
              "      <td>0</td>\n",
              "    </tr>\n",
              "    <tr>\n",
              "      <th>6</th>\n",
              "      <td>34</td>\n",
              "      <td>1000</td>\n",
              "      <td>0</td>\n",
              "      <td>1000</td>\n",
              "      <td>0</td>\n",
              "      <td>0</td>\n",
              "      <td>0</td>\n",
              "    </tr>\n",
              "    <tr>\n",
              "      <th>7</th>\n",
              "      <td>39</td>\n",
              "      <td>1000</td>\n",
              "      <td>0</td>\n",
              "      <td>1000</td>\n",
              "      <td>0</td>\n",
              "      <td>0</td>\n",
              "      <td>0</td>\n",
              "    </tr>\n",
              "    <tr>\n",
              "      <th>8</th>\n",
              "      <td>44</td>\n",
              "      <td>1000</td>\n",
              "      <td>0</td>\n",
              "      <td>1000</td>\n",
              "      <td>0</td>\n",
              "      <td>0</td>\n",
              "      <td>0</td>\n",
              "    </tr>\n",
              "    <tr>\n",
              "      <th>9</th>\n",
              "      <td>49</td>\n",
              "      <td>1000</td>\n",
              "      <td>0</td>\n",
              "      <td>1000</td>\n",
              "      <td>0</td>\n",
              "      <td>0</td>\n",
              "      <td>0</td>\n",
              "    </tr>\n",
              "    <tr>\n",
              "      <th>10</th>\n",
              "      <td>54</td>\n",
              "      <td>1000</td>\n",
              "      <td>0</td>\n",
              "      <td>1000</td>\n",
              "      <td>0</td>\n",
              "      <td>0</td>\n",
              "      <td>0</td>\n",
              "    </tr>\n",
              "    <tr>\n",
              "      <th>11</th>\n",
              "      <td>59</td>\n",
              "      <td>1000</td>\n",
              "      <td>0</td>\n",
              "      <td>1000</td>\n",
              "      <td>0</td>\n",
              "      <td>0</td>\n",
              "      <td>0</td>\n",
              "    </tr>\n",
              "    <tr>\n",
              "      <th>12</th>\n",
              "      <td>64</td>\n",
              "      <td>1000</td>\n",
              "      <td>0</td>\n",
              "      <td>1000</td>\n",
              "      <td>0</td>\n",
              "      <td>0</td>\n",
              "      <td>0</td>\n",
              "    </tr>\n",
              "    <tr>\n",
              "      <th>13</th>\n",
              "      <td>69</td>\n",
              "      <td>1000</td>\n",
              "      <td>0</td>\n",
              "      <td>1000</td>\n",
              "      <td>0</td>\n",
              "      <td>0</td>\n",
              "      <td>0</td>\n",
              "    </tr>\n",
              "    <tr>\n",
              "      <th>14</th>\n",
              "      <td>74</td>\n",
              "      <td>1000</td>\n",
              "      <td>0</td>\n",
              "      <td>1000</td>\n",
              "      <td>0</td>\n",
              "      <td>0</td>\n",
              "      <td>0</td>\n",
              "    </tr>\n",
              "    <tr>\n",
              "      <th>15</th>\n",
              "      <td>79</td>\n",
              "      <td>1000</td>\n",
              "      <td>0</td>\n",
              "      <td>1000</td>\n",
              "      <td>0</td>\n",
              "      <td>0</td>\n",
              "      <td>0</td>\n",
              "    </tr>\n",
              "    <tr>\n",
              "      <th>16</th>\n",
              "      <td>84</td>\n",
              "      <td>1000</td>\n",
              "      <td>0</td>\n",
              "      <td>1000</td>\n",
              "      <td>0</td>\n",
              "      <td>0</td>\n",
              "      <td>0</td>\n",
              "    </tr>\n",
              "    <tr>\n",
              "      <th>17</th>\n",
              "      <td>89</td>\n",
              "      <td>1000</td>\n",
              "      <td>0</td>\n",
              "      <td>1000</td>\n",
              "      <td>0</td>\n",
              "      <td>0</td>\n",
              "      <td>0</td>\n",
              "    </tr>\n",
              "    <tr>\n",
              "      <th>18</th>\n",
              "      <td>94</td>\n",
              "      <td>1000</td>\n",
              "      <td>0</td>\n",
              "      <td>1000</td>\n",
              "      <td>0</td>\n",
              "      <td>0</td>\n",
              "      <td>0</td>\n",
              "    </tr>\n",
              "    <tr>\n",
              "      <th>19</th>\n",
              "      <td>99</td>\n",
              "      <td>1000</td>\n",
              "      <td>0</td>\n",
              "      <td>1000</td>\n",
              "      <td>0</td>\n",
              "      <td>0</td>\n",
              "      <td>0</td>\n",
              "    </tr>\n",
              "  </tbody>\n",
              "</table>\n",
              "</div>"
            ],
            "text/plain": [
              "    epochs  argmax > 0.5  ...  focus_true_pred_false  focus_false_pred_false\n",
              "0        4          1000  ...                      0                       0\n",
              "1        9          1000  ...                      0                       0\n",
              "2       14          1000  ...                      0                       0\n",
              "3       19          1000  ...                      0                       0\n",
              "4       24          1000  ...                      0                       0\n",
              "5       29          1000  ...                      0                       0\n",
              "6       34          1000  ...                      0                       0\n",
              "7       39          1000  ...                      0                       0\n",
              "8       44          1000  ...                      0                       0\n",
              "9       49          1000  ...                      0                       0\n",
              "10      54          1000  ...                      0                       0\n",
              "11      59          1000  ...                      0                       0\n",
              "12      64          1000  ...                      0                       0\n",
              "13      69          1000  ...                      0                       0\n",
              "14      74          1000  ...                      0                       0\n",
              "15      79          1000  ...                      0                       0\n",
              "16      84          1000  ...                      0                       0\n",
              "17      89          1000  ...                      0                       0\n",
              "18      94          1000  ...                      0                       0\n",
              "19      99          1000  ...                      0                       0\n",
              "\n",
              "[20 rows x 7 columns]"
            ]
          },
          "metadata": {
            "tags": []
          },
          "execution_count": 26
        }
      ]
    },
    {
      "cell_type": "code",
      "metadata": {
        "colab": {
          "base_uri": "https://localhost:8080/",
          "height": 573
        },
        "id": "oCJcmk19r0UD",
        "outputId": "1c420f95-2e89-44f6-abb1-04db8f33a32e"
      },
      "source": [
        "plt.plot(col1,col8, label='argmax > 0.5')\n",
        "plt.plot(col1,col9, label='argmax < 0.5')\n",
        "\n",
        "plt.legend(loc='center left', bbox_to_anchor=(1, 0.5))\n",
        "plt.xlabel(\"epochs\")\n",
        "plt.ylabel(\"Testing data\")\n",
        "plt.title(\"On Testing set\")\n",
        "plt.show()\n",
        "\n",
        "plt.plot(col1,col10, label =\"focus_true_pred_true \")\n",
        "plt.plot(col1,col11, label =\"focus_false_pred_true \")\n",
        "plt.plot(col1,col12, label =\"focus_true_pred_false \")\n",
        "plt.plot(col1,col13, label =\"focus_false_pred_false \")\n",
        "plt.title(\"On Testing set\")\n",
        "plt.legend(loc='center left', bbox_to_anchor=(1, 0.5))\n",
        "plt.xlabel(\"epochs\")\n",
        "plt.ylabel(\"Testing data\")\n",
        "plt.show()"
      ],
      "execution_count": 27,
      "outputs": [
        {
          "output_type": "display_data",
          "data": {
            "image/png": "[encoded data removed]",
            "text/plain": [
              "<Figure size 432x288 with 1 Axes>"
            ]
          },
          "metadata": {
            "tags": [],
            "needs_background": "light"
          }
        },
        {
          "output_type": "display_data",
          "data": {
            "image/png": "[encoded data removed]",
            "text/plain": [
              "<Figure size 432x288 with 1 Axes>"
            ]
          },
          "metadata": {
            "tags": [],
            "needs_background": "light"
          }
        }
      ]
    },
    {
      "cell_type": "code",
      "metadata": {
        "id": "wjKKoslK55jo"
      },
      "source": [
        "# where.state_dict()[\"linear1.weight\"][:]  = torch.Tensor(np.array([[ 0, -1]]))\r\n",
        "# where.state_dict()[\"linear1.bias\"][:] = torch.Tensor(np.array([0]))"
      ],
      "execution_count": 28,
      "outputs": []
    },
    {
      "cell_type": "code",
      "metadata": {
        "colab": {
          "base_uri": "https://localhost:8080/"
        },
        "id": "YH_sdpkhr0UK",
        "outputId": "d3932d5a-8d65-457e-9142-6bce21bc2bc1"
      },
      "source": [
        "for param in where.named_parameters():\r\n",
        "  print(param)"
      ],
      "execution_count": 29,
      "outputs": [
        {
          "output_type": "stream",
          "text": [
            "('linear1.weight', Parameter containing:\n",
            "tensor([[-1.1924, -0.3056]], dtype=torch.float64, requires_grad=True))\n",
            "('linear1.bias', Parameter containing:\n",
            "tensor([0.5759], dtype=torch.float64, requires_grad=True))\n"
          ],
          "name": "stdout"
        }
      ]
    },
    {
      "cell_type": "code",
      "metadata": {
        "id": "6ANS5bw67RvG"
      },
      "source": [
        "# what.state_dict()[\"linear1.weight\"][:]  = torch.Tensor(np.array([[ 5,  0],\r\n",
        "#         [0,5],\r\n",
        "#         [ 0, 0]]))\r\n",
        "# what.state_dict()[\"linear1.bias\"][:] = torch.Tensor(np.array([0,  0, 0]))"
      ],
      "execution_count": 30,
      "outputs": []
    },
    {
      "cell_type": "code",
      "metadata": {
        "colab": {
          "base_uri": "https://localhost:8080/"
        },
        "id": "j3dOF2b3fkgp",
        "outputId": "29b13f0d-b5be-4496-e215-00fbc9693924"
      },
      "source": [
        "for param in what.named_parameters():\r\n",
        "  print(param)"
      ],
      "execution_count": 31,
      "outputs": [
        {
          "output_type": "stream",
          "text": [
            "('linear1.weight', Parameter containing:\n",
            "tensor([[-1.7584, -0.7929],\n",
            "        [ 1.5627,  1.6430]], dtype=torch.float64, requires_grad=True))\n",
            "('linear1.bias', Parameter containing:\n",
            "tensor([-1.1576,  1.8597], dtype=torch.float64, requires_grad=True))\n"
          ],
          "name": "stdout"
        }
      ]
    },
    {
      "cell_type": "code",
      "metadata": {
        "id": "EZk8Ve_3foPS"
      },
      "source": [
        "xx,yy= np.meshgrid(np.arange(0,5.1,0.05),np.arange(-8,1.1,0.05))\r\n",
        "X = np.concatenate((xx.reshape(-1,1),yy.reshape(-1,1)),axis=1)\r\n",
        "X = torch.Tensor(X).double()\r\n",
        "Y = where.helper(X)\r\n",
        "Y1 = what(X)"
      ],
      "execution_count": 32,
      "outputs": []
    },
    {
      "cell_type": "code",
      "metadata": {
        "colab": {
          "base_uri": "https://localhost:8080/"
        },
        "id": "-d0ldqGnhMrZ",
        "outputId": "5d2a171c-1eab-493a-e91c-c7f3e4d8cf2e"
      },
      "source": [
        "X.shape,Y.shape"
      ],
      "execution_count": 33,
      "outputs": [
        {
          "output_type": "execute_result",
          "data": {
            "text/plain": [
              "(torch.Size([18564, 2]), torch.Size([18564, 1]))"
            ]
          },
          "metadata": {
            "tags": []
          },
          "execution_count": 33
        }
      ]
    },
    {
      "cell_type": "code",
      "metadata": {
        "id": "ybdSCa9mhUGp"
      },
      "source": [
        "X = X.detach().numpy()\r\n",
        "Y = Y[:,0].detach().numpy()"
      ],
      "execution_count": 34,
      "outputs": []
    },
    {
      "cell_type": "code",
      "metadata": {
        "colab": {
          "base_uri": "https://localhost:8080/",
          "height": 392
        },
        "id": "e5Mg9wiahXTt",
        "outputId": "af350e78-aad7-4325-b7ed-85f7017977a8"
      },
      "source": [
        "fig = plt.figure(figsize=(6,6))\r\n",
        "cs = plt.contourf(X[:,0].reshape(xx.shape),X[:,1].reshape(yy.shape),Y.reshape(xx.shape))\r\n",
        "plt.xlabel(\"X1\")\r\n",
        "plt.ylabel(\"X2\")\r\n",
        "fig.colorbar(cs)\r\n",
        "for i in range(3):\r\n",
        "    plt.scatter(x[idx[i],0],x[idx[i],1],label=\"class_\"+str(i))\r\n",
        "plt.legend(loc='center left', bbox_to_anchor=(1, 0.5))\r\n",
        "plt.savefig(\"focus_contour.png\")#,bbox_inches='tight')\r\n"
      ],
      "execution_count": 35,
      "outputs": [
        {
          "output_type": "display_data",
          "data": {
            "image/png": "[encoded data removed]",
            "text/plain": [
              "<Figure size 432x432 with 2 Axes>"
            ]
          },
          "metadata": {
            "tags": [],
            "needs_background": "light"
          }
        }
      ]
    },
    {
      "cell_type": "code",
      "metadata": {
        "id": "BYTbfs7Thay0"
      },
      "source": [
        "Y1 = Y1.detach().numpy()\r\n",
        "Y1 = torch.softmax(torch.Tensor(Y1),dim=1)\r\n",
        "_,Z4= torch.max(Y1,1)\r\n",
        "Z1 = Y1[:,0]\r\n",
        "Z2 = Y1[:,1]\r\n",
        "#Z3 = Y1[:,2]"
      ],
      "execution_count": 36,
      "outputs": []
    },
    {
      "cell_type": "code",
      "metadata": {
        "colab": {
          "base_uri": "https://localhost:8080/"
        },
        "id": "8kG2vKUPYaI7",
        "outputId": "497655f4-1f1e-48fb-8e37-2059542f8722"
      },
      "source": [
        "Z4"
      ],
      "execution_count": 37,
      "outputs": [
        {
          "output_type": "execute_result",
          "data": {
            "text/plain": [
              "tensor([0, 0, 0,  ..., 1, 1, 1])"
            ]
          },
          "metadata": {
            "tags": []
          },
          "execution_count": 37
        }
      ]
    },
    {
      "cell_type": "code",
      "metadata": {
        "id": "1esFxcEMhiNw"
      },
      "source": [
        "#fig = plt.figure(figsize=(6,6))\r\n",
        "# plt.scatter(X[:,0],X[:,1],c=Z1)\r\n",
        "# plt.scatter(X[:,0],X[:,1],c=Z2)\r\n",
        "# plt.scatter(X[:,0],X[:,1],c=Z3)\r\n",
        "#cs = plt.contourf(X[:,0].reshape(xx.shape),X[:,1].reshape(yy.shape),Z1.reshape(xx.shape))\r\n",
        "# #plt.colorbar(cs)\r\n",
        "# cs = plt.contourf(X[:,0].reshape(xx.shape),X[:,1].reshape(yy.shape),Z2.reshape(xx.shape))\r\n",
        "# #plt.colorbar(cs)\r\n",
        "# cs = plt.contourf(X[:,0].reshape(xx.shape),X[:,1].reshape(yy.shape),Z3.reshape(xx.shape))\r\n",
        "#plt.colorbar(cs)\r\n",
        "# plt.xlabel(\"X1\")\r\n",
        "# plt.ylabel(\"X2\")\r\n",
        "#ax.view_init(60,100)\r\n",
        "#plt.savefig(\"non_interpretable_class_2d.pdf\",bbox_inches='tight')\r\n"
      ],
      "execution_count": 38,
      "outputs": []
    },
    {
      "cell_type": "code",
      "metadata": {
        "id": "2jRVEsBy9Rxc"
      },
      "source": [
        "avrg = []\r\n",
        "with torch.no_grad():\r\n",
        "  for i, data in  enumerate(train_loader):\r\n",
        "          inputs , labels , fore_idx = data\r\n",
        "          avg_inp,alphas = where(inputs)\r\n",
        "          avrg.append(avg_inp)\r\n",
        "avrg= np.concatenate(avrg,axis=0)"
      ],
      "execution_count": 39,
      "outputs": []
    },
    {
      "cell_type": "code",
      "metadata": {
        "colab": {
          "base_uri": "https://localhost:8080/",
          "height": 265
        },
        "id": "IYMofwarmEE5",
        "outputId": "480c0b72-0f5b-47c7-f9b0-c6439bd4c40c"
      },
      "source": [
        "plt.scatter(X[:,0],X[:,1],c=Z4)\r\n",
        "for i in range(3):\r\n",
        "    plt.scatter(x[idx[i],0],x[idx[i],1],label=\"class_\"+str(i))\r\n",
        "plt.legend(loc='center left', bbox_to_anchor=(1, 0.5))\r\n",
        "plt.scatter(avrg[:,0],avrg[:,1],c=\"c\")\r\n",
        "plt.savefig(\"decision_boundary.png\",bbox_inches=\"tight\")"
      ],
      "execution_count": 40,
      "outputs": [
        {
          "output_type": "display_data",
          "data": {
            "image/png": "[encoded data removed]",
            "text/plain": [
              "<Figure size 432x288 with 1 Axes>"
            ]
          },
          "metadata": {
            "tags": [],
            "needs_background": "light"
          }
        }
      ]
    },
    {
      "cell_type": "code",
      "metadata": {
        "id": "gpyN2mafZ5Av"
      },
      "source": [
        "true = []\r\n",
        "pred = []\r\n",
        "acc= 0\r\n",
        "for i, data in  enumerate(train_loader):\r\n",
        "        inputs , labels , fore_idx = data\r\n",
        "        avg_inp,alphas = where(inputs)\r\n",
        "        outputs = what(avg_inp)\r\n",
        "        _, predicted = torch.max(outputs.data, 1)\r\n",
        "        true.append(labels)\r\n",
        "        pred.append(predicted)\r\n",
        "        acc+=sum(predicted == labels)"
      ],
      "execution_count": 41,
      "outputs": []
    },
    {
      "cell_type": "code",
      "metadata": {
        "id": "Ol7vxjD0bxYJ"
      },
      "source": [
        "true = np.concatenate(true,axis=0)\r\n",
        "pred = np.concatenate(pred,axis=0)"
      ],
      "execution_count": 42,
      "outputs": []
    },
    {
      "cell_type": "code",
      "metadata": {
        "colab": {
          "base_uri": "https://localhost:8080/"
        },
        "id": "MR7LkXexbzEi",
        "outputId": "56cc79c3-27e7-46cb-b5b6-2bf911ca4104"
      },
      "source": [
        "from sklearn.metrics import confusion_matrix\r\n",
        "confusion_matrix(true,pred)"
      ],
      "execution_count": 43,
      "outputs": [
        {
          "output_type": "execute_result",
          "data": {
            "text/plain": [
              "array([[1484,    0],\n",
              "       [   0, 1516]])"
            ]
          },
          "metadata": {
            "tags": []
          },
          "execution_count": 43
        }
      ]
    },
    {
      "cell_type": "code",
      "metadata": {
        "id": "HBbAemTR8wRY"
      },
      "source": [
        ""
      ],
      "execution_count": 43,
      "outputs": []
    }
  ]
}