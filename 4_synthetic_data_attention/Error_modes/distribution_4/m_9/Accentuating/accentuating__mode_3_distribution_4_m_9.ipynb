{
  "nbformat": 4,
  "nbformat_minor": 0,
  "metadata": {
    "accelerator": "GPU",
    "colab": {
      "name": "accentuating _mode_3_distribution_4_m_9.ipynb",
      "provenance": [],
      "collapsed_sections": [],
      "toc_visible": true
    },
    "kernelspec": {
      "display_name": "Python 3",
      "language": "python",
      "name": "python3"
    },
    "language_info": {
      "codemirror_mode": {
        "name": "ipython",
        "version": 3
      },
      "file_extension": ".py",
      "mimetype": "text/x-python",
      "name": "python",
      "nbconvert_exporter": "python",
      "pygments_lexer": "ipython3",
      "version": "3.6.5"
    }
  },
  "cells": [
    {
      "cell_type": "code",
      "metadata": {
        "colab": {
          "base_uri": "https://localhost:8080/"
        },
        "id": "N2_J4Rw2r0SQ",
        "outputId": "bbab0866-4c9e-4693-b4a7-643637f320b1"
      },
      "source": [
        "import numpy as np\n",
        "import pandas as pd\n",
        "from matplotlib import pyplot as plt\n",
        "from tqdm import tqdm\n",
        "%matplotlib inline\n",
        "from torch.utils.data import Dataset, DataLoader\n",
        "import torch\n",
        "import torchvision\n",
        "\n",
        "import torch.nn as nn\n",
        "import torch.optim as optim\n",
        "from torch.nn import functional as F\n",
        "device = torch.device(\"cuda\" if torch.cuda.is_available() else \"cpu\")\n",
        "print(device)"
      ],
      "execution_count": null,
      "outputs": [
        {
          "output_type": "stream",
          "text": [
            "cuda\n"
          ],
          "name": "stdout"
        }
      ]
    },
    {
      "cell_type": "markdown",
      "metadata": {
        "id": "F6fjud_Fr0Sa"
      },
      "source": [
        "# Generate dataset"
      ]
    },
    {
      "cell_type": "code",
      "metadata": {
        "id": "CqdXHO0Cr0Sd",
        "colab": {
          "base_uri": "https://localhost:8080/"
        },
        "outputId": "2edad965-4933-4a2a-aa62-3fb792e130c4"
      },
      "source": [
        "y = np.random.randint(0,7,2100)\n",
        "idx= []\n",
        "for i in range(7):\n",
        "    print(i,sum(y==i))\n",
        "    idx.append(y==i)"
      ],
      "execution_count": null,
      "outputs": [
        {
          "output_type": "stream",
          "text": [
            "0 297\n",
            "1 295\n",
            "2 282\n",
            "3 313\n",
            "4 303\n",
            "5 318\n",
            "6 292\n"
          ],
          "name": "stdout"
        }
      ]
    },
    {
      "cell_type": "code",
      "metadata": {
        "id": "ddhXyODwr0Sk"
      },
      "source": [
        "x1 = np.zeros((2100,2))\r\n",
        "x = np.zeros((2100,8))"
      ],
      "execution_count": null,
      "outputs": []
    },
    {
      "cell_type": "code",
      "metadata": {
        "id": "DbWPELOH0ae4"
      },
      "source": [
        "\r\n",
        "con_data = 0.0015*np.eye(6)\r\n",
        "\r\n",
        "\r\n",
        "\r\n",
        "d1 = np.tile(con_data[:,0],(sum(idx[0]),1))\r\n",
        "x1[idx[0],:] = np.random.uniform(low=[1,8],high=[2,7],size=(sum(idx[0]),2))\r\n",
        "x[idx[0],:] = np.concatenate((x1[idx[0],:],d1),axis=1)\r\n",
        "\r\n",
        "\r\n",
        "d2 = np.tile(con_data[:,1],(sum(idx[1]),1))\r\n",
        "x1[idx[1],:] = np.random.uniform(low=[1,5],high=[2,6],size=(sum(idx[1]),2))\r\n",
        "x[idx[1],:] = np.concatenate((x1[idx[1],:],d2),axis=1)\r\n",
        "\r\n",
        "d3 = np.tile(con_data[:,2],(sum(idx[2]),1))\r\n",
        "x1[idx[2],:] = np.random.uniform(low=[1,3],high=[2,4],size=(sum(idx[2]),2))\r\n",
        "x[idx[2],:] = np.concatenate((x1[idx[2],:],d3),axis=1)\r\n",
        "\r\n",
        "d4 = np.tile(con_data[:,3],(sum(idx[3]),1))\r\n",
        "x1[idx[3],:] = np.random.uniform(low=[1,1],high=[2,2],size=(sum(idx[3]),2))\r\n",
        "x[idx[3],:] = np.concatenate((x1[idx[3],:],d4),axis=1)\r\n",
        "\r\n",
        "\r\n",
        "d5 = np.tile(con_data[:,4],(sum(idx[4]),1))\r\n",
        "x1[idx[4],:] = np.random.uniform(low=[1,-1],high=[2,0],size=(sum(idx[4]),2))\r\n",
        "x[idx[4],:] = np.concatenate((x1[idx[4],:],d5),axis=1)\r\n",
        "\r\n",
        "\r\n",
        "\r\n",
        "d6 = np.tile(con_data[:,5],(sum(idx[5]),1))\r\n",
        "x1[idx[5],:] = np.random.uniform(low=[1,-2],high=[2,-3],size=(sum(idx[5]),2))\r\n",
        "x[idx[5],:] = np.concatenate((x1[idx[5],:],d6),axis=1)\r\n",
        "\r\n",
        "\r\n",
        "d7 = np.tile(np.zeros(6),(sum(idx[6]),1))\r\n",
        "x1[idx[6],:] = np.random.uniform(low=[2.75,0],high=[3.75,3],size=(sum(idx[6]),2))\r\n",
        "x[idx[6],:] = np.concatenate((x1[idx[6],:],d7),axis=1)\r\n",
        "\r\n"
      ],
      "execution_count": null,
      "outputs": []
    },
    {
      "cell_type": "code",
      "metadata": {
        "colab": {
          "base_uri": "https://localhost:8080/"
        },
        "id": "z_yWRDIJqQpY",
        "outputId": "dba65142-6c01-4cdf-d44f-8b250ad23ecc"
      },
      "source": [
        "x[idx[0],:][0],x[idx[1],:][0],x[idx[2],:][0],x[idx[3],:][0],x[idx[4],:][0],x[idx[5],:][0]"
      ],
      "execution_count": null,
      "outputs": [
        {
          "output_type": "execute_result",
          "data": {
            "text/plain": [
              "(array([1.75755355e+00, 7.66953726e+00, 1.50000000e-03, 0.00000000e+00,\n",
              "        0.00000000e+00, 0.00000000e+00, 0.00000000e+00, 0.00000000e+00]),\n",
              " array([1.70137288e+00, 5.80099704e+00, 0.00000000e+00, 1.50000000e-03,\n",
              "        0.00000000e+00, 0.00000000e+00, 0.00000000e+00, 0.00000000e+00]),\n",
              " array([1.82202510e+00, 3.68068922e+00, 0.00000000e+00, 0.00000000e+00,\n",
              "        1.50000000e-03, 0.00000000e+00, 0.00000000e+00, 0.00000000e+00]),\n",
              " array([1.87426946e+00, 1.04713414e+00, 0.00000000e+00, 0.00000000e+00,\n",
              "        0.00000000e+00, 1.50000000e-03, 0.00000000e+00, 0.00000000e+00]),\n",
              " array([ 1.46371453, -0.42172462,  0.        ,  0.        ,  0.        ,\n",
              "         0.        ,  0.0015    ,  0.        ]),\n",
              " array([ 1.88559184e+00, -2.94103765e+00,  0.00000000e+00,  0.00000000e+00,\n",
              "         0.00000000e+00,  0.00000000e+00,  0.00000000e+00,  1.50000000e-03]))"
            ]
          },
          "metadata": {
            "tags": []
          },
          "execution_count": 5
        }
      ]
    },
    {
      "cell_type": "code",
      "metadata": {
        "id": "hJ8Jm7YUr0St",
        "colab": {
          "base_uri": "https://localhost:8080/",
          "height": 265
        },
        "outputId": "5f7c22e6-57ea-445e-eeb2-2d184a1fd068"
      },
      "source": [
        "for i in range(7):\n",
        "    plt.scatter(x[idx[i],0],x[idx[i],1],label=\"class_\"+str(i))\n",
        "plt.legend(loc='center left', bbox_to_anchor=(1, 0.5))\n",
        "plt.savefig(\"dist_4.png\",bbox_inches=\"tight\")\n",
        "plt.savefig(\"dist_4.pdf\",bbox_inches=\"tight\")\n"
      ],
      "execution_count": null,
      "outputs": [
        {
          "output_type": "display_data",
          "data": {
            "image/png": "[encoded data removed]",
            "text/plain": [
              "<Figure size 432x288 with 1 Axes>"
            ]
          },
          "metadata": {
            "tags": [],
            "needs_background": "light"
          }
        }
      ]
    },
    {
      "cell_type": "code",
      "metadata": {
        "id": "UfFHcZJOr0Sz"
      },
      "source": [
        "foreground_classes = {'class_0','class_1','class_2','class_3','class_4','class_5',}\n",
        "\n",
        "background_classes = {'class_6'}"
      ],
      "execution_count": null,
      "outputs": []
    },
    {
      "cell_type": "code",
      "metadata": {
        "id": "OplNpNQVr0S2",
        "colab": {
          "base_uri": "https://localhost:8080/"
        },
        "outputId": "c040e817-b893-486f-d8da-df61ba4be988"
      },
      "source": [
        "fg_class  = np.random.randint(0,6)\n",
        "fg_idx = np.random.randint(0,9) #m=2\n",
        "\n",
        "a = []\n",
        "for i in range(9): #m=2\n",
        "    if i == fg_idx:\n",
        "        b = np.random.choice(np.where(idx[fg_class]==True)[0],size=1)\n",
        "        a.append(x[b])\n",
        "        print(\"foreground \"+str(fg_class)+\" present at \" + str(fg_idx))\n",
        "    else:\n",
        "        bg_class = np.random.randint(6,7)\n",
        "        b = np.random.choice(np.where(idx[bg_class]==True)[0],size=1)\n",
        "        a.append(x[b])\n",
        "        print(\"background \"+str(bg_class)+\" present at \" + str(i))\n",
        "a = np.concatenate(a,axis=0)\n",
        "print(a.shape)\n",
        "\n",
        "print(fg_class , fg_idx)"
      ],
      "execution_count": null,
      "outputs": [
        {
          "output_type": "stream",
          "text": [
            "background 6 present at 0\n",
            "background 6 present at 1\n",
            "background 6 present at 2\n",
            "background 6 present at 3\n",
            "background 6 present at 4\n",
            "background 6 present at 5\n",
            "foreground 4 present at 6\n",
            "background 6 present at 7\n",
            "background 6 present at 8\n",
            "(9, 8)\n",
            "4 6\n"
          ],
          "name": "stdout"
        }
      ]
    },
    {
      "cell_type": "code",
      "metadata": {
        "id": "dwZVmmRBr0S8",
        "colab": {
          "base_uri": "https://localhost:8080/"
        },
        "outputId": "e56505b9-55a1-4b6d-b6d7-95520a2b8947"
      },
      "source": [
        "a.shape"
      ],
      "execution_count": null,
      "outputs": [
        {
          "output_type": "execute_result",
          "data": {
            "text/plain": [
              "(9, 8)"
            ]
          },
          "metadata": {
            "tags": []
          },
          "execution_count": 9
        }
      ]
    },
    {
      "cell_type": "code",
      "metadata": {
        "id": "jqbvfbwVr0TN"
      },
      "source": [
        "desired_num = 3000\n",
        "mosaic_list =[]\n",
        "mosaic_label = []\n",
        "fore_idx=[]\n",
        "for j in range(desired_num):\n",
        "    fg_class  = np.random.randint(0,6)\n",
        "    fg_idx = np.random.randint(0,9) #m=2\n",
        "    a = []\n",
        "    for i in range(9):  #m=2\n",
        "        if i == fg_idx:\n",
        "            b = np.random.choice(np.where(idx[fg_class]==True)[0],size=1)\n",
        "            a.append(x[b])\n",
        "#             print(\"foreground \"+str(fg_class)+\" present at \" + str(fg_idx))\n",
        "        else:\n",
        "            bg_class = np.random.randint(6,7)\n",
        "            b = np.random.choice(np.where(idx[bg_class]==True)[0],size=1)\n",
        "            a.append(x[b])\n",
        "#             print(\"background \"+str(bg_class)+\" present at \" + str(i))\n",
        "    a = np.concatenate(a,axis=0)\n",
        "    mosaic_list.append(np.reshape(a,(72,1)))\n",
        "    mosaic_label.append(fg_class)\n",
        "    fore_idx.append(fg_idx)"
      ],
      "execution_count": null,
      "outputs": []
    },
    {
      "cell_type": "code",
      "metadata": {
        "id": "BOsFmWfMr0TR"
      },
      "source": [
        "mosaic_list = np.concatenate(mosaic_list,axis=1).T\n",
        "# print(mosaic_list)"
      ],
      "execution_count": null,
      "outputs": []
    },
    {
      "cell_type": "code",
      "metadata": {
        "id": "C2PnW7aQr0TT",
        "colab": {
          "base_uri": "https://localhost:8080/"
        },
        "outputId": "f586f2b4-9dab-488f-fa0b-c733c1d15142"
      },
      "source": [
        "print(np.shape(mosaic_label))\n",
        "print(np.shape(fore_idx))"
      ],
      "execution_count": null,
      "outputs": [
        {
          "output_type": "stream",
          "text": [
            "(3000,)\n",
            "(3000,)\n"
          ],
          "name": "stdout"
        }
      ]
    },
    {
      "cell_type": "code",
      "metadata": {
        "id": "yL0BRf8er0TX"
      },
      "source": [
        "class MosaicDataset(Dataset):\n",
        "  \"\"\"MosaicDataset dataset.\"\"\"\n",
        "\n",
        "  def __init__(self, mosaic_list, mosaic_label, fore_idx):\n",
        "    \"\"\"\n",
        "      Args:\n",
        "        csv_file (string): Path to the csv file with annotations.\n",
        "        root_dir (string): Directory with all the images.\n",
        "        transform (callable, optional): Optional transform to be applied\n",
        "            on a sample.\n",
        "    \"\"\"\n",
        "    self.mosaic = mosaic_list\n",
        "    self.label = mosaic_label\n",
        "    self.fore_idx = fore_idx\n",
        "\n",
        "  def __len__(self):\n",
        "    return len(self.label)\n",
        "\n",
        "  def __getitem__(self, idx):\n",
        "    return self.mosaic[idx] , self.label[idx], self.fore_idx[idx]\n",
        "\n",
        "batch = 250\n",
        "msd = MosaicDataset(mosaic_list, mosaic_label , fore_idx)\n",
        "train_loader = DataLoader( msd,batch_size= batch ,shuffle=True)"
      ],
      "execution_count": null,
      "outputs": []
    },
    {
      "cell_type": "code",
      "metadata": {
        "id": "ZVRXgwwNr0Tb"
      },
      "source": [
        "class Wherenet(nn.Module):\n",
        "    def __init__(self):\n",
        "        super(Wherenet,self).__init__()\n",
        "        self.linear1 = nn.Linear(8,1)\n",
        "\n",
        "    def forward(self,z):\n",
        "        x = torch.zeros([batch,9],dtype=torch.float64)  #m=2\n",
        "        y = torch.zeros([batch,8], dtype=torch.float64)  # 8-d data\n",
        "        #x,y = x.to(\"cuda\"),y.to(\"cuda\")\n",
        "        for i in range(9):  #m=9\n",
        "          x[:,i] = self.helper(z[:,8*i:8*i+8])[:,0]\n",
        "            #print(k[:,0].shape,x[:,i].shape)\n",
        "        x = F.softmax(x,dim=1)   # alphas\n",
        "        x1 = x[:,0]\n",
        "        for i in range(9): #m=9\n",
        "            x1 = x[:,i]          \n",
        "            #print()\n",
        "            y = y+torch.mul(x1[:,None],z[:,8*i:8*i+8])\n",
        "        return y , x \n",
        "\n",
        "    \n",
        "    def helper(self,x):\n",
        "        #x = F.relu(self.linear1(x))\n",
        "        #x = F.relu(self.linear2(x))\n",
        "        x = self.linear1(x)\n",
        "        return x\n",
        "\n",
        "    "
      ],
      "execution_count": null,
      "outputs": []
    },
    {
      "cell_type": "code",
      "metadata": {
        "id": "f-Ek05Kxr0Te"
      },
      "source": [
        "trainiter = iter(train_loader)\n",
        "input1,labels1,index1 = trainiter.next()\n",
        "\n"
      ],
      "execution_count": null,
      "outputs": []
    },
    {
      "cell_type": "code",
      "metadata": {
        "id": "SxEmWZI6r0Ti",
        "colab": {
          "base_uri": "https://localhost:8080/"
        },
        "outputId": "6f075c06-875f-4a7c-c249-799548b25160"
      },
      "source": [
        "where = Wherenet().double()\n",
        "where = where\n",
        "out_where,alphas = where(input1)\n",
        "out_where.shape,alphas.shape"
      ],
      "execution_count": null,
      "outputs": [
        {
          "output_type": "execute_result",
          "data": {
            "text/plain": [
              "(torch.Size([250, 8]), torch.Size([250, 9]))"
            ]
          },
          "metadata": {
            "tags": []
          },
          "execution_count": 16
        }
      ]
    },
    {
      "cell_type": "code",
      "metadata": {
        "id": "5_XeIUk0r0Tl"
      },
      "source": [
        "class Whatnet(nn.Module):\n",
        "    def __init__(self):\n",
        "        super(Whatnet,self).__init__()\n",
        "        self.linear1 = nn.Linear(8,6)\n",
        "        #self.linear2 = nn.Linear(4,3)\n",
        "#         self.linear3 = nn.Linear(8,3)\n",
        "    def forward(self,x):\n",
        "        #x = F.relu(self.linear1(x))\n",
        "        #x = F.relu(self.linear2(x))\n",
        "        x = self.linear1(x)\n",
        "        return x"
      ],
      "execution_count": null,
      "outputs": []
    },
    {
      "cell_type": "code",
      "metadata": {
        "id": "l35i9bIlr0Tp"
      },
      "source": [
        "what = Whatnet().double()\n",
        "# what(out_where)"
      ],
      "execution_count": null,
      "outputs": []
    },
    {
      "cell_type": "code",
      "metadata": {
        "id": "tMEoCLo1r0Tt"
      },
      "source": [
        "test_data_required = 1000\n",
        "mosaic_list_test =[]\n",
        "mosaic_label_test = []\n",
        "fore_idx_test=[]\n",
        "for j in range(test_data_required):\n",
        "    fg_class  = np.random.randint(0,6)\n",
        "    fg_idx = np.random.randint(0,9)  #m=2\n",
        "    a = []\n",
        "    for i in range(9): #m=2\n",
        "        if i == fg_idx:\n",
        "            b = np.random.choice(np.where(idx[fg_class]==True)[0],size=1)\n",
        "            a.append(x[b])\n",
        "#             print(\"foreground \"+str(fg_class)+\" present at \" + str(fg_idx))\n",
        "        else:\n",
        "            bg_class = np.random.randint(6,7)\n",
        "            b = np.random.choice(np.where(idx[bg_class]==True)[0],size=1)\n",
        "            a.append(x[b])\n",
        "#             print(\"background \"+str(bg_class)+\" present at \" + str(i))\n",
        "    a = np.concatenate(a,axis=0)\n",
        "    mosaic_list_test.append(np.reshape(a,(72,1)))\n",
        "    mosaic_label_test.append(fg_class)\n",
        "    fore_idx_test.append(fg_idx)"
      ],
      "execution_count": null,
      "outputs": []
    },
    {
      "cell_type": "code",
      "metadata": {
        "id": "2Naetxvbr0Tw",
        "colab": {
          "base_uri": "https://localhost:8080/"
        },
        "outputId": "3f7451d7-7ad6-4ac8-e0be-3b81fe8b29fa"
      },
      "source": [
        "mosaic_list_test = np.concatenate(mosaic_list_test,axis=1).T\n",
        "print(mosaic_list_test.shape)"
      ],
      "execution_count": null,
      "outputs": [
        {
          "output_type": "stream",
          "text": [
            "(1000, 72)\n"
          ],
          "name": "stdout"
        }
      ]
    },
    {
      "cell_type": "code",
      "metadata": {
        "id": "Os4KxqrFr0Tz"
      },
      "source": [
        "test_data = MosaicDataset(mosaic_list_test,mosaic_label_test,fore_idx_test)\n",
        "test_loader = DataLoader( test_data,batch_size= batch ,shuffle=False)"
      ],
      "execution_count": null,
      "outputs": []
    },
    {
      "cell_type": "code",
      "metadata": {
        "id": "pPQY-Wpcr0T2",
        "scrolled": true,
        "colab": {
          "base_uri": "https://localhost:8080/"
        },
        "outputId": "9178acc1-d7e7-4574-97bf-7f764579f2ca"
      },
      "source": [
        "\n",
        "focus_true_pred_true =0\n",
        "focus_false_pred_true =0\n",
        "focus_true_pred_false =0\n",
        "focus_false_pred_false =0\n",
        "\n",
        "argmax_more_than_half = 0\n",
        "argmax_less_than_half =0\n",
        "\n",
        "col1=[]\n",
        "col2=[]\n",
        "col3=[]\n",
        "col4=[]\n",
        "col5=[]\n",
        "col6=[]\n",
        "col7=[]\n",
        "col8=[]\n",
        "col9=[]\n",
        "col10=[]\n",
        "col11=[]\n",
        "col12=[]\n",
        "col13=[]\n",
        "\n",
        "criterion = nn.CrossEntropyLoss()\n",
        "optimizer_where = optim.SGD(where.parameters(), lr=0.01)#,momentum=0.9)\n",
        "optimizer_what = optim.SGD(what.parameters(), lr=0.01)#, momentum=0.9)\n",
        "\n",
        "nos_epochs = 500\n",
        "\n",
        "train_loss=[]\n",
        "test_loss =[]\n",
        "train_acc = []\n",
        "test_acc = []\n",
        "for epoch in range(nos_epochs):  # loop over the dataset multiple times\n",
        "\n",
        "    focus_true_pred_true =0\n",
        "    focus_false_pred_true =0\n",
        "    focus_true_pred_false =0\n",
        "    focus_false_pred_false =0\n",
        "\n",
        "    argmax_more_than_half = 0\n",
        "    argmax_less_than_half =0\n",
        "\n",
        "    running_loss = 0.0\n",
        "    cnt=0\n",
        "\n",
        "    iteration = desired_num // batch\n",
        "\n",
        "    #training data set\n",
        "\n",
        "    for i, data in  enumerate(train_loader):\n",
        "        inputs , labels , fore_idx = data\n",
        "        #inputs,labels,fore_idx = inputs.to(device),labels.to(device),fore_idx.to(device)\n",
        "        # zero the parameter gradients\n",
        "\n",
        "        optimizer_what.zero_grad()\n",
        "        optimizer_where.zero_grad()\n",
        "        \n",
        "        \n",
        "        avg_inp,alphas = where(inputs)\n",
        "        \n",
        "        outputs = what(avg_inp)\n",
        "        \n",
        "        _, predicted = torch.max(outputs.data, 1)\n",
        "        \n",
        "        loss = criterion(outputs, labels) \n",
        "        loss.backward() \n",
        "        \n",
        "        optimizer_what.step()\n",
        "        optimizer_where.step() \n",
        "        \n",
        "\n",
        "        running_loss += loss.item()\n",
        "        #if  ((1.0*running_loss)/6) <0.01:\n",
        "         # break\n",
        "        if cnt % 6 == 5:    # print every 6 mini-batches\n",
        "            print('[%d, %5d] loss: %.3f' %(epoch + 1, cnt + 1, running_loss / 6))\n",
        "            running_loss = 0.0\n",
        "\n",
        "        cnt=cnt+1\n",
        "    \n",
        "        if epoch % 5 == 4:\n",
        "            for j in range (batch):\n",
        "                focus = torch.argmax(alphas[j])\n",
        "\n",
        "                if(alphas[j][focus] >= 0.5):\n",
        "                    argmax_more_than_half +=1\n",
        "                else:\n",
        "                    argmax_less_than_half +=1\n",
        "\n",
        "                if(focus == fore_idx[j] and predicted[j] == labels[j]):\n",
        "                    focus_true_pred_true += 1\n",
        "\n",
        "                elif(focus != fore_idx[j] and predicted[j] == labels[j]):\n",
        "                    focus_false_pred_true +=1\n",
        "\n",
        "                elif(focus == fore_idx[j] and predicted[j] != labels[j]):\n",
        "                    focus_true_pred_false +=1\n",
        "\n",
        "                elif(focus != fore_idx[j] and predicted[j] != labels[j]):\n",
        "                    focus_false_pred_false +=1\n",
        "\n",
        "    if epoch % 5 == 4:\n",
        "        col1.append(epoch)\n",
        "        col2.append(argmax_more_than_half)\n",
        "        col3.append(argmax_less_than_half)\n",
        "        col4.append(focus_true_pred_true)\n",
        "        col5.append(focus_false_pred_true)\n",
        "        col6.append(focus_true_pred_false)\n",
        "        col7.append(focus_false_pred_false)\n",
        "\n",
        "    #************************************************************************\n",
        "        #testing data set  \n",
        "        with torch.no_grad():\n",
        "            focus_true_pred_true =0\n",
        "            focus_false_pred_true =0\n",
        "            focus_true_pred_false =0\n",
        "            focus_false_pred_false =0\n",
        "\n",
        "            argmax_more_than_half = 0\n",
        "            argmax_less_than_half =0\n",
        "            for data in test_loader:\n",
        "                inputs, labels , fore_idx = data\n",
        "                #inputs,labels,fore_idx = inputs.to(device),labels.to(device),fore_idx.to(device) \n",
        "#                 print(inputs.shtorch.save(where.state_dict(),\"model_epoch\"+str(epoch)+\".pt\")ape,labels.shape)\n",
        "                avg_inp,alphas = where(inputs)\n",
        "                outputs = what(avg_inp)\n",
        "                _, predicted = torch.max(outputs.data, 1)\n",
        "\n",
        "                for j in range (batch):\n",
        "                    focus = torch.argmax(alphas[j])\n",
        "\n",
        "                    if(alphas[j][focus] >= 0.5):\n",
        "                        argmax_more_than_half +=1\n",
        "                    else:\n",
        "                        argmax_less_than_half +=1\n",
        "\n",
        "                    if(focus == fore_idx[j] and predicted[j] == labels[j]):\n",
        "                        focus_true_pred_true += 1\n",
        "\n",
        "                    elif(focus != fore_idx[j] and predicted[j] == labels[j]):\n",
        "                        focus_false_pred_true +=1\n",
        "\n",
        "                    elif(focus == fore_idx[j] and predicted[j] != labels[j]):\n",
        "                        focus_true_pred_false +=1\n",
        "\n",
        "                    elif(focus != fore_idx[j] and predicted[j] != labels[j]):\n",
        "                        focus_false_pred_false +=1\n",
        "\n",
        "        col8.append(argmax_more_than_half)\n",
        "        col9.append(argmax_less_than_half)\n",
        "        col10.append(focus_true_pred_true)\n",
        "        col11.append(focus_false_pred_true)\n",
        "        col12.append(focus_true_pred_false)\n",
        "        col13.append(focus_false_pred_false)\n",
        "        \n",
        "        #torch.save(where.state_dict(),\"where_model_epoch\"+str(epoch)+\".pt\")\n",
        "        #torch.save(what.state_dict(),\"what_model_epoch\"+str(epoch)+\".pt\")\n",
        "    \n",
        "print('Finished Training')\n",
        "#torch.save(where.state_dict(),\"where_model_epoch\"+str(nos_epochs)+\".pt\")\n",
        "#torch.save(what.state_dict(),\"what_model_epoch\"+str(epoch)+\".pt\")\n"
      ],
      "execution_count": null,
      "outputs": [
        {
          "output_type": "stream",
          "text": [
            "[1,     6] loss: 1.934\n",
            "[1,    12] loss: 1.880\n",
            "[2,     6] loss: 1.869\n",
            "[2,    12] loss: 1.860\n",
            "[3,     6] loss: 1.843\n",
            "[3,    12] loss: 1.830\n",
            "[4,     6] loss: 1.821\n",
            "[4,    12] loss: 1.815\n",
            "[5,     6] loss: 1.810\n",
            "[5,    12] loss: 1.799\n",
            "[6,     6] loss: 1.803\n",
            "[6,    12] loss: 1.787\n",
            "[7,     6] loss: 1.788\n",
            "[7,    12] loss: 1.790\n",
            "[8,     6] loss: 1.787\n",
            "[8,    12] loss: 1.781\n",
            "[9,     6] loss: 1.782\n",
            "[9,    12] loss: 1.779\n",
            "[10,     6] loss: 1.782\n",
            "[10,    12] loss: 1.774\n",
            "[11,     6] loss: 1.778\n",
            "[11,    12] loss: 1.773\n",
            "[12,     6] loss: 1.773\n",
            "[12,    12] loss: 1.774\n",
            "[13,     6] loss: 1.770\n",
            "[13,    12] loss: 1.773\n",
            "[14,     6] loss: 1.767\n",
            "[14,    12] loss: 1.773\n",
            "[15,     6] loss: 1.771\n",
            "[15,    12] loss: 1.765\n",
            "[16,     6] loss: 1.765\n",
            "[16,    12] loss: 1.767\n",
            "[17,     6] loss: 1.763\n",
            "[17,    12] loss: 1.765\n",
            "[18,     6] loss: 1.764\n",
            "[18,    12] loss: 1.760\n",
            "[19,     6] loss: 1.760\n",
            "[19,    12] loss: 1.759\n",
            "[20,     6] loss: 1.757\n",
            "[20,    12] loss: 1.756\n",
            "[21,     6] loss: 1.752\n",
            "[21,    12] loss: 1.755\n",
            "[22,     6] loss: 1.750\n",
            "[22,    12] loss: 1.749\n",
            "[23,     6] loss: 1.748\n",
            "[23,    12] loss: 1.742\n",
            "[24,     6] loss: 1.744\n",
            "[24,    12] loss: 1.736\n",
            "[25,     6] loss: 1.738\n",
            "[25,    12] loss: 1.728\n",
            "[26,     6] loss: 1.727\n",
            "[26,    12] loss: 1.722\n",
            "[27,     6] loss: 1.718\n",
            "[27,    12] loss: 1.711\n",
            "[28,     6] loss: 1.704\n",
            "[28,    12] loss: 1.699\n",
            "[29,     6] loss: 1.689\n",
            "[29,    12] loss: 1.681\n",
            "[30,     6] loss: 1.676\n",
            "[30,    12] loss: 1.654\n",
            "[31,     6] loss: 1.648\n",
            "[31,    12] loss: 1.633\n",
            "[32,     6] loss: 1.617\n",
            "[32,    12] loss: 1.611\n",
            "[33,     6] loss: 1.586\n",
            "[33,    12] loss: 1.585\n",
            "[34,     6] loss: 1.555\n",
            "[34,    12] loss: 1.560\n",
            "[35,     6] loss: 1.534\n",
            "[35,    12] loss: 1.528\n",
            "[36,     6] loss: 1.496\n",
            "[36,    12] loss: 1.517\n",
            "[37,     6] loss: 1.481\n",
            "[37,    12] loss: 1.487\n",
            "[38,     6] loss: 1.469\n",
            "[38,    12] loss: 1.459\n",
            "[39,     6] loss: 1.461\n",
            "[39,    12] loss: 1.431\n",
            "[40,     6] loss: 1.439\n",
            "[40,    12] loss: 1.421\n",
            "[41,     6] loss: 1.425\n",
            "[41,    12] loss: 1.405\n",
            "[42,     6] loss: 1.398\n",
            "[42,    12] loss: 1.405\n",
            "[43,     6] loss: 1.391\n",
            "[43,    12] loss: 1.387\n",
            "[44,     6] loss: 1.383\n",
            "[44,    12] loss: 1.371\n",
            "[45,     6] loss: 1.374\n",
            "[45,    12] loss: 1.360\n",
            "[46,     6] loss: 1.364\n",
            "[46,    12] loss: 1.349\n",
            "[47,     6] loss: 1.356\n",
            "[47,    12] loss: 1.339\n",
            "[48,     6] loss: 1.345\n",
            "[48,    12] loss: 1.333\n",
            "[49,     6] loss: 1.333\n",
            "[49,    12] loss: 1.328\n",
            "[50,     6] loss: 1.323\n",
            "[50,    12] loss: 1.322\n",
            "[51,     6] loss: 1.323\n",
            "[51,    12] loss: 1.308\n",
            "[52,     6] loss: 1.319\n",
            "[52,    12] loss: 1.298\n",
            "[53,     6] loss: 1.321\n",
            "[53,    12] loss: 1.283\n",
            "[54,     6] loss: 1.287\n",
            "[54,    12] loss: 1.305\n",
            "[55,     6] loss: 1.281\n",
            "[55,    12] loss: 1.298\n",
            "[56,     6] loss: 1.282\n",
            "[56,    12] loss: 1.285\n",
            "[57,     6] loss: 1.287\n",
            "[57,    12] loss: 1.270\n",
            "[58,     6] loss: 1.270\n",
            "[58,    12] loss: 1.276\n",
            "[59,     6] loss: 1.263\n",
            "[59,    12] loss: 1.274\n",
            "[60,     6] loss: 1.252\n",
            "[60,    12] loss: 1.275\n",
            "[61,     6] loss: 1.256\n",
            "[61,    12] loss: 1.261\n",
            "[62,     6] loss: 1.247\n",
            "[62,    12] loss: 1.261\n",
            "[63,     6] loss: 1.263\n",
            "[63,    12] loss: 1.236\n",
            "[64,     6] loss: 1.244\n",
            "[64,    12] loss: 1.247\n",
            "[65,     6] loss: 1.239\n",
            "[65,    12] loss: 1.244\n",
            "[66,     6] loss: 1.240\n",
            "[66,    12] loss: 1.236\n",
            "[67,     6] loss: 1.228\n",
            "[67,    12] loss: 1.240\n",
            "[68,     6] loss: 1.236\n",
            "[68,    12] loss: 1.224\n",
            "[69,     6] loss: 1.237\n",
            "[69,    12] loss: 1.216\n",
            "[70,     6] loss: 1.223\n",
            "[70,    12] loss: 1.224\n",
            "[71,     6] loss: 1.205\n",
            "[71,    12] loss: 1.235\n",
            "[72,     6] loss: 1.218\n",
            "[72,    12] loss: 1.215\n",
            "[73,     6] loss: 1.215\n",
            "[73,    12] loss: 1.211\n",
            "[74,     6] loss: 1.206\n",
            "[74,    12] loss: 1.214\n",
            "[75,     6] loss: 1.201\n",
            "[75,    12] loss: 1.213\n",
            "[76,     6] loss: 1.201\n",
            "[76,    12] loss: 1.207\n",
            "[77,     6] loss: 1.200\n",
            "[77,    12] loss: 1.202\n",
            "[78,     6] loss: 1.196\n",
            "[78,    12] loss: 1.201\n",
            "[79,     6] loss: 1.201\n",
            "[79,    12] loss: 1.190\n",
            "[80,     6] loss: 1.200\n",
            "[80,    12] loss: 1.186\n",
            "[81,     6] loss: 1.184\n",
            "[81,    12] loss: 1.197\n",
            "[82,     6] loss: 1.198\n",
            "[82,    12] loss: 1.178\n",
            "[83,     6] loss: 1.187\n",
            "[83,    12] loss: 1.183\n",
            "[84,     6] loss: 1.171\n",
            "[84,    12] loss: 1.195\n",
            "[85,     6] loss: 1.175\n",
            "[85,    12] loss: 1.186\n",
            "[86,     6] loss: 1.182\n",
            "[86,    12] loss: 1.174\n",
            "[87,     6] loss: 1.177\n",
            "[87,    12] loss: 1.174\n",
            "[88,     6] loss: 1.180\n",
            "[88,    12] loss: 1.167\n",
            "[89,     6] loss: 1.173\n",
            "[89,    12] loss: 1.169\n",
            "[90,     6] loss: 1.170\n",
            "[90,    12] loss: 1.168\n",
            "[91,     6] loss: 1.168\n",
            "[91,    12] loss: 1.165\n",
            "[92,     6] loss: 1.164\n",
            "[92,    12] loss: 1.165\n",
            "[93,     6] loss: 1.159\n",
            "[93,    12] loss: 1.166\n",
            "[94,     6] loss: 1.180\n",
            "[94,    12] loss: 1.141\n",
            "[95,     6] loss: 1.154\n",
            "[95,    12] loss: 1.163\n",
            "[96,     6] loss: 1.157\n",
            "[96,    12] loss: 1.156\n",
            "[97,     6] loss: 1.153\n",
            "[97,    12] loss: 1.156\n",
            "[98,     6] loss: 1.160\n",
            "[98,    12] loss: 1.145\n",
            "[99,     6] loss: 1.151\n",
            "[99,    12] loss: 1.150\n",
            "[100,     6] loss: 1.156\n",
            "[100,    12] loss: 1.141\n",
            "[101,     6] loss: 1.137\n",
            "[101,    12] loss: 1.157\n",
            "[102,     6] loss: 1.153\n",
            "[102,    12] loss: 1.137\n",
            "[103,     6] loss: 1.146\n",
            "[103,    12] loss: 1.141\n",
            "[104,     6] loss: 1.142\n",
            "[104,    12] loss: 1.142\n",
            "[105,     6] loss: 1.148\n",
            "[105,    12] loss: 1.131\n",
            "[106,     6] loss: 1.135\n",
            "[106,    12] loss: 1.141\n",
            "[107,     6] loss: 1.135\n",
            "[107,    12] loss: 1.138\n",
            "[108,     6] loss: 1.123\n",
            "[108,    12] loss: 1.147\n",
            "[109,     6] loss: 1.146\n",
            "[109,    12] loss: 1.120\n",
            "[110,     6] loss: 1.130\n",
            "[110,    12] loss: 1.133\n",
            "[111,     6] loss: 1.117\n",
            "[111,    12] loss: 1.143\n",
            "[112,     6] loss: 1.130\n",
            "[112,    12] loss: 1.127\n",
            "[113,     6] loss: 1.131\n",
            "[113,    12] loss: 1.123\n",
            "[114,     6] loss: 1.121\n",
            "[114,    12] loss: 1.129\n",
            "[115,     6] loss: 1.105\n",
            "[115,    12] loss: 1.142\n",
            "[116,     6] loss: 1.118\n",
            "[116,    12] loss: 1.126\n",
            "[117,     6] loss: 1.117\n",
            "[117,    12] loss: 1.124\n",
            "[118,     6] loss: 1.126\n",
            "[118,    12] loss: 1.112\n",
            "[119,     6] loss: 1.117\n",
            "[119,    12] loss: 1.118\n",
            "[120,     6] loss: 1.124\n",
            "[120,    12] loss: 1.108\n",
            "[121,     6] loss: 1.103\n",
            "[121,    12] loss: 1.126\n",
            "[122,     6] loss: 1.120\n",
            "[122,    12] loss: 1.107\n",
            "[123,     6] loss: 1.110\n",
            "[123,    12] loss: 1.113\n",
            "[124,     6] loss: 1.108\n",
            "[124,    12] loss: 1.113\n",
            "[125,     6] loss: 1.107\n",
            "[125,    12] loss: 1.111\n",
            "[126,     6] loss: 1.106\n",
            "[126,    12] loss: 1.109\n",
            "[127,     6] loss: 1.107\n",
            "[127,    12] loss: 1.105\n",
            "[128,     6] loss: 1.102\n",
            "[128,    12] loss: 1.108\n",
            "[129,     6] loss: 1.098\n",
            "[129,    12] loss: 1.110\n",
            "[130,     6] loss: 1.098\n",
            "[130,    12] loss: 1.107\n",
            "[131,     6] loss: 1.100\n",
            "[131,    12] loss: 1.102\n",
            "[132,     6] loss: 1.091\n",
            "[132,    12] loss: 1.108\n",
            "[133,     6] loss: 1.106\n",
            "[133,    12] loss: 1.090\n",
            "[134,     6] loss: 1.099\n",
            "[134,    12] loss: 1.095\n",
            "[135,     6] loss: 1.096\n",
            "[135,    12] loss: 1.096\n",
            "[136,     6] loss: 1.087\n",
            "[136,    12] loss: 1.102\n",
            "[137,     6] loss: 1.106\n",
            "[137,    12] loss: 1.081\n",
            "[138,     6] loss: 1.100\n",
            "[138,    12] loss: 1.084\n",
            "[139,     6] loss: 1.094\n",
            "[139,    12] loss: 1.088\n",
            "[140,     6] loss: 1.087\n",
            "[140,    12] loss: 1.093\n",
            "[141,     6] loss: 1.093\n",
            "[141,    12] loss: 1.084\n",
            "[142,     6] loss: 1.085\n",
            "[142,    12] loss: 1.089\n",
            "[143,     6] loss: 1.085\n",
            "[143,    12] loss: 1.087\n",
            "[144,     6] loss: 1.088\n",
            "[144,    12] loss: 1.082\n",
            "[145,     6] loss: 1.085\n",
            "[145,    12] loss: 1.082\n",
            "[146,     6] loss: 1.089\n",
            "[146,    12] loss: 1.076\n",
            "[147,     6] loss: 1.080\n",
            "[147,    12] loss: 1.084\n",
            "[148,     6] loss: 1.079\n",
            "[148,    12] loss: 1.082\n",
            "[149,     6] loss: 1.083\n",
            "[149,    12] loss: 1.076\n",
            "[150,     6] loss: 1.083\n",
            "[150,    12] loss: 1.073\n",
            "[151,     6] loss: 1.072\n",
            "[151,    12] loss: 1.082\n",
            "[152,     6] loss: 1.067\n",
            "[152,    12] loss: 1.085\n",
            "[153,     6] loss: 1.062\n",
            "[153,    12] loss: 1.087\n",
            "[154,     6] loss: 1.070\n",
            "[154,    12] loss: 1.077\n",
            "[155,     6] loss: 1.066\n",
            "[155,    12] loss: 1.079\n",
            "[156,     6] loss: 1.069\n",
            "[156,    12] loss: 1.073\n",
            "[157,     6] loss: 1.066\n",
            "[157,    12] loss: 1.075\n",
            "[158,     6] loss: 1.064\n",
            "[158,    12] loss: 1.074\n",
            "[159,     6] loss: 1.075\n",
            "[159,    12] loss: 1.062\n",
            "[160,     6] loss: 1.059\n",
            "[160,    12] loss: 1.075\n",
            "[161,     6] loss: 1.071\n",
            "[161,    12] loss: 1.062\n",
            "[162,     6] loss: 1.067\n",
            "[162,    12] loss: 1.063\n",
            "[163,     6] loss: 1.062\n",
            "[163,    12] loss: 1.067\n",
            "[164,     6] loss: 1.059\n",
            "[164,    12] loss: 1.067\n",
            "[165,     6] loss: 1.056\n",
            "[165,    12] loss: 1.068\n",
            "[166,     6] loss: 1.060\n",
            "[166,    12] loss: 1.062\n",
            "[167,     6] loss: 1.059\n",
            "[167,    12] loss: 1.061\n",
            "[168,     6] loss: 1.059\n",
            "[168,    12] loss: 1.060\n",
            "[169,     6] loss: 1.055\n",
            "[169,    12] loss: 1.061\n",
            "[170,     6] loss: 1.059\n",
            "[170,    12] loss: 1.056\n",
            "[171,     6] loss: 1.054\n",
            "[171,    12] loss: 1.058\n",
            "[172,     6] loss: 1.052\n",
            "[172,    12] loss: 1.058\n",
            "[173,     6] loss: 1.061\n",
            "[173,    12] loss: 1.047\n",
            "[174,     6] loss: 1.047\n",
            "[174,    12] loss: 1.060\n",
            "[175,     6] loss: 1.056\n",
            "[175,    12] loss: 1.048\n",
            "[176,     6] loss: 1.052\n",
            "[176,    12] loss: 1.051\n",
            "[177,     6] loss: 1.051\n",
            "[177,    12] loss: 1.050\n",
            "[178,     6] loss: 1.054\n",
            "[178,    12] loss: 1.045\n",
            "[179,     6] loss: 1.055\n",
            "[179,    12] loss: 1.042\n",
            "[180,     6] loss: 1.050\n",
            "[180,    12] loss: 1.045\n",
            "[181,     6] loss: 1.055\n",
            "[181,    12] loss: 1.038\n",
            "[182,     6] loss: 1.053\n",
            "[182,    12] loss: 1.038\n",
            "[183,     6] loss: 1.035\n",
            "[183,    12] loss: 1.054\n",
            "[184,     6] loss: 1.039\n",
            "[184,    12] loss: 1.049\n",
            "[185,     6] loss: 1.046\n",
            "[185,    12] loss: 1.040\n",
            "[186,     6] loss: 1.061\n",
            "[186,    12] loss: 1.023\n",
            "[187,     6] loss: 1.039\n",
            "[187,    12] loss: 1.043\n",
            "[188,     6] loss: 1.050\n",
            "[188,    12] loss: 1.031\n",
            "[189,     6] loss: 1.039\n",
            "[189,    12] loss: 1.040\n",
            "[190,     6] loss: 1.031\n",
            "[190,    12] loss: 1.047\n",
            "[191,     6] loss: 1.053\n",
            "[191,    12] loss: 1.022\n",
            "[192,     6] loss: 1.026\n",
            "[192,    12] loss: 1.047\n",
            "[193,     6] loss: 1.043\n",
            "[193,    12] loss: 1.029\n",
            "[194,     6] loss: 1.026\n",
            "[194,    12] loss: 1.044\n",
            "[195,     6] loss: 1.040\n",
            "[195,    12] loss: 1.028\n",
            "[196,     6] loss: 1.029\n",
            "[196,    12] loss: 1.038\n",
            "[197,     6] loss: 1.027\n",
            "[197,    12] loss: 1.038\n",
            "[198,     6] loss: 1.035\n",
            "[198,    12] loss: 1.029\n",
            "[199,     6] loss: 1.036\n",
            "[199,    12] loss: 1.026\n",
            "[200,     6] loss: 1.026\n",
            "[200,    12] loss: 1.034\n",
            "[201,     6] loss: 1.038\n",
            "[201,    12] loss: 1.021\n",
            "[202,     6] loss: 1.022\n",
            "[202,    12] loss: 1.035\n",
            "[203,     6] loss: 1.036\n",
            "[203,    12] loss: 1.019\n",
            "[204,     6] loss: 1.027\n",
            "[204,    12] loss: 1.027\n",
            "[205,     6] loss: 1.030\n",
            "[205,    12] loss: 1.022\n",
            "[206,     6] loss: 1.029\n",
            "[206,    12] loss: 1.021\n",
            "[207,     6] loss: 1.021\n",
            "[207,    12] loss: 1.028\n",
            "[208,     6] loss: 1.014\n",
            "[208,    12] loss: 1.033\n",
            "[209,     6] loss: 1.022\n",
            "[209,    12] loss: 1.023\n",
            "[210,     6] loss: 1.019\n",
            "[210,    12] loss: 1.025\n",
            "[211,     6] loss: 1.023\n",
            "[211,    12] loss: 1.020\n",
            "[212,     6] loss: 1.026\n",
            "[212,    12] loss: 1.015\n",
            "[213,     6] loss: 1.022\n",
            "[213,    12] loss: 1.017\n",
            "[214,     6] loss: 1.025\n",
            "[214,    12] loss: 1.013\n",
            "[215,     6] loss: 1.014\n",
            "[215,    12] loss: 1.022\n",
            "[216,     6] loss: 1.015\n",
            "[216,    12] loss: 1.019\n",
            "[217,     6] loss: 1.017\n",
            "[217,    12] loss: 1.015\n",
            "[218,     6] loss: 1.010\n",
            "[218,    12] loss: 1.021\n",
            "[219,     6] loss: 1.021\n",
            "[219,    12] loss: 1.009\n",
            "[220,     6] loss: 1.011\n",
            "[220,    12] loss: 1.017\n",
            "[221,     6] loss: 1.012\n",
            "[221,    12] loss: 1.015\n",
            "[222,     6] loss: 1.000\n",
            "[222,    12] loss: 1.026\n",
            "[223,     6] loss: 1.012\n",
            "[223,    12] loss: 1.011\n",
            "[224,     6] loss: 1.011\n",
            "[224,    12] loss: 1.011\n",
            "[225,     6] loss: 1.006\n",
            "[225,    12] loss: 1.015\n",
            "[226,     6] loss: 1.010\n",
            "[226,    12] loss: 1.010\n",
            "[227,     6] loss: 1.005\n",
            "[227,    12] loss: 1.012\n",
            "[228,     6] loss: 1.011\n",
            "[228,    12] loss: 1.006\n",
            "[229,     6] loss: 1.011\n",
            "[229,    12] loss: 1.004\n",
            "[230,     6] loss: 1.007\n",
            "[230,    12] loss: 1.006\n",
            "[231,     6] loss: 1.006\n",
            "[231,    12] loss: 1.006\n",
            "[232,     6] loss: 1.010\n",
            "[232,    12] loss: 1.001\n",
            "[233,     6] loss: 1.002\n",
            "[233,    12] loss: 1.007\n",
            "[234,     6] loss: 1.007\n",
            "[234,    12] loss: 1.001\n",
            "[235,     6] loss: 1.010\n",
            "[235,    12] loss: 0.996\n",
            "[236,     6] loss: 1.000\n",
            "[236,    12] loss: 1.005\n",
            "[237,     6] loss: 0.996\n",
            "[237,    12] loss: 1.007\n",
            "[238,     6] loss: 0.994\n",
            "[238,    12] loss: 1.008\n",
            "[239,     6] loss: 0.998\n",
            "[239,    12] loss: 1.002\n",
            "[240,     6] loss: 0.996\n",
            "[240,    12] loss: 1.003\n",
            "[241,     6] loss: 0.996\n",
            "[241,    12] loss: 1.001\n",
            "[242,     6] loss: 1.001\n",
            "[242,    12] loss: 0.995\n",
            "[243,     6] loss: 0.998\n",
            "[243,    12] loss: 0.997\n",
            "[244,     6] loss: 0.992\n",
            "[244,    12] loss: 1.001\n",
            "[245,     6] loss: 1.002\n",
            "[245,    12] loss: 0.990\n",
            "[246,     6] loss: 0.990\n",
            "[246,    12] loss: 1.000\n",
            "[247,     6] loss: 1.010\n",
            "[247,    12] loss: 0.979\n",
            "[248,     6] loss: 0.995\n",
            "[248,    12] loss: 0.993\n",
            "[249,     6] loss: 0.988\n",
            "[249,    12] loss: 0.998\n",
            "[250,     6] loss: 0.995\n",
            "[250,    12] loss: 0.990\n",
            "[251,     6] loss: 0.990\n",
            "[251,    12] loss: 0.994\n",
            "[252,     6] loss: 0.995\n",
            "[252,    12] loss: 0.987\n",
            "[253,     6] loss: 0.984\n",
            "[253,    12] loss: 0.997\n",
            "[254,     6] loss: 0.975\n",
            "[254,    12] loss: 1.004\n",
            "[255,     6] loss: 0.994\n",
            "[255,    12] loss: 0.984\n",
            "[256,     6] loss: 0.984\n",
            "[256,    12] loss: 0.993\n",
            "[257,     6] loss: 0.992\n",
            "[257,    12] loss: 0.983\n",
            "[258,     6] loss: 0.977\n",
            "[258,    12] loss: 0.997\n",
            "[259,     6] loss: 0.994\n",
            "[259,    12] loss: 0.978\n",
            "[260,     6] loss: 0.993\n",
            "[260,    12] loss: 0.979\n",
            "[261,     6] loss: 0.988\n",
            "[261,    12] loss: 0.982\n",
            "[262,     6] loss: 0.986\n",
            "[262,    12] loss: 0.983\n",
            "[263,     6] loss: 0.994\n",
            "[263,    12] loss: 0.973\n",
            "[264,     6] loss: 0.979\n",
            "[264,    12] loss: 0.987\n",
            "[265,     6] loss: 0.979\n",
            "[265,    12] loss: 0.986\n",
            "[266,     6] loss: 0.976\n",
            "[266,    12] loss: 0.988\n",
            "[267,     6] loss: 0.997\n",
            "[267,    12] loss: 0.966\n",
            "[268,     6] loss: 0.976\n",
            "[268,    12] loss: 0.985\n",
            "[269,     6] loss: 0.990\n",
            "[269,    12] loss: 0.970\n",
            "[270,     6] loss: 0.966\n",
            "[270,    12] loss: 0.993\n",
            "[271,     6] loss: 0.982\n",
            "[271,    12] loss: 0.975\n",
            "[272,     6] loss: 0.980\n",
            "[272,    12] loss: 0.976\n",
            "[273,     6] loss: 0.981\n",
            "[273,    12] loss: 0.974\n",
            "[274,     6] loss: 0.973\n",
            "[274,    12] loss: 0.980\n",
            "[275,     6] loss: 0.974\n",
            "[275,    12] loss: 0.978\n",
            "[276,     6] loss: 0.982\n",
            "[276,    12] loss: 0.969\n",
            "[277,     6] loss: 0.977\n",
            "[277,    12] loss: 0.972\n",
            "[278,     6] loss: 0.978\n",
            "[278,    12] loss: 0.971\n",
            "[279,     6] loss: 0.977\n",
            "[279,    12] loss: 0.970\n",
            "[280,     6] loss: 0.981\n",
            "[280,    12] loss: 0.964\n",
            "[281,     6] loss: 0.968\n",
            "[281,    12] loss: 0.976\n",
            "[282,     6] loss: 0.971\n",
            "[282,    12] loss: 0.972\n",
            "[283,     6] loss: 0.977\n",
            "[283,    12] loss: 0.965\n",
            "[284,     6] loss: 0.976\n",
            "[284,    12] loss: 0.964\n",
            "[285,     6] loss: 0.973\n",
            "[285,    12] loss: 0.967\n",
            "[286,     6] loss: 0.960\n",
            "[286,    12] loss: 0.978\n",
            "[287,     6] loss: 0.969\n",
            "[287,    12] loss: 0.967\n",
            "[288,     6] loss: 0.970\n",
            "[288,    12] loss: 0.966\n",
            "[289,     6] loss: 0.968\n",
            "[289,    12] loss: 0.966\n",
            "[290,     6] loss: 0.969\n",
            "[290,    12] loss: 0.964\n",
            "[291,     6] loss: 0.976\n",
            "[291,    12] loss: 0.956\n",
            "[292,     6] loss: 0.969\n",
            "[292,    12] loss: 0.961\n",
            "[293,     6] loss: 0.966\n",
            "[293,    12] loss: 0.964\n",
            "[294,     6] loss: 0.974\n",
            "[294,    12] loss: 0.954\n",
            "[295,     6] loss: 0.969\n",
            "[295,    12] loss: 0.958\n",
            "[296,     6] loss: 0.971\n",
            "[296,    12] loss: 0.955\n",
            "[297,     6] loss: 0.956\n",
            "[297,    12] loss: 0.968\n",
            "[298,     6] loss: 0.958\n",
            "[298,    12] loss: 0.966\n",
            "[299,     6] loss: 0.956\n",
            "[299,    12] loss: 0.966\n",
            "[300,     6] loss: 0.956\n",
            "[300,    12] loss: 0.965\n",
            "[301,     6] loss: 0.962\n",
            "[301,    12] loss: 0.958\n",
            "[302,     6] loss: 0.963\n",
            "[302,    12] loss: 0.955\n",
            "[303,     6] loss: 0.968\n",
            "[303,    12] loss: 0.949\n",
            "[304,     6] loss: 0.964\n",
            "[304,    12] loss: 0.952\n",
            "[305,     6] loss: 0.955\n",
            "[305,    12] loss: 0.960\n",
            "[306,     6] loss: 0.971\n",
            "[306,    12] loss: 0.943\n",
            "[307,     6] loss: 0.950\n",
            "[307,    12] loss: 0.963\n",
            "[308,     6] loss: 0.942\n",
            "[308,    12] loss: 0.969\n",
            "[309,     6] loss: 0.957\n",
            "[309,    12] loss: 0.954\n",
            "[310,     6] loss: 0.961\n",
            "[310,    12] loss: 0.948\n",
            "[311,     6] loss: 0.952\n",
            "[311,    12] loss: 0.956\n",
            "[312,     6] loss: 0.943\n",
            "[312,    12] loss: 0.964\n",
            "[313,     6] loss: 0.951\n",
            "[313,    12] loss: 0.955\n",
            "[314,     6] loss: 0.966\n",
            "[314,    12] loss: 0.938\n",
            "[315,     6] loss: 0.963\n",
            "[315,    12] loss: 0.941\n",
            "[316,     6] loss: 0.956\n",
            "[316,    12] loss: 0.947\n",
            "[317,     6] loss: 0.948\n",
            "[317,    12] loss: 0.953\n",
            "[318,     6] loss: 0.954\n",
            "[318,    12] loss: 0.946\n",
            "[319,     6] loss: 0.954\n",
            "[319,    12] loss: 0.944\n",
            "[320,     6] loss: 0.945\n",
            "[320,    12] loss: 0.952\n",
            "[321,     6] loss: 0.950\n",
            "[321,    12] loss: 0.946\n",
            "[322,     6] loss: 0.957\n",
            "[322,    12] loss: 0.938\n",
            "[323,     6] loss: 0.946\n",
            "[323,    12] loss: 0.948\n",
            "[324,     6] loss: 0.948\n",
            "[324,    12] loss: 0.945\n",
            "[325,     6] loss: 0.946\n",
            "[325,    12] loss: 0.946\n",
            "[326,     6] loss: 0.942\n",
            "[326,    12] loss: 0.948\n",
            "[327,     6] loss: 0.944\n",
            "[327,    12] loss: 0.946\n",
            "[328,     6] loss: 0.951\n",
            "[328,    12] loss: 0.937\n",
            "[329,     6] loss: 0.955\n",
            "[329,    12] loss: 0.933\n",
            "[330,     6] loss: 0.939\n",
            "[330,    12] loss: 0.947\n",
            "[331,     6] loss: 0.944\n",
            "[331,    12] loss: 0.941\n",
            "[332,     6] loss: 0.940\n",
            "[332,    12] loss: 0.944\n",
            "[333,     6] loss: 0.942\n",
            "[333,    12] loss: 0.941\n",
            "[334,     6] loss: 0.944\n",
            "[334,    12] loss: 0.937\n",
            "[335,     6] loss: 0.934\n",
            "[335,    12] loss: 0.946\n",
            "[336,     6] loss: 0.935\n",
            "[336,    12] loss: 0.944\n",
            "[337,     6] loss: 0.940\n",
            "[337,    12] loss: 0.937\n",
            "[338,     6] loss: 0.934\n",
            "[338,    12] loss: 0.943\n",
            "[339,     6] loss: 0.952\n",
            "[339,    12] loss: 0.924\n",
            "[340,     6] loss: 0.943\n",
            "[340,    12] loss: 0.931\n",
            "[341,     6] loss: 0.936\n",
            "[341,    12] loss: 0.938\n",
            "[342,     6] loss: 0.937\n",
            "[342,    12] loss: 0.935\n",
            "[343,     6] loss: 0.942\n",
            "[343,    12] loss: 0.929\n",
            "[344,     6] loss: 0.936\n",
            "[344,    12] loss: 0.935\n",
            "[345,     6] loss: 0.936\n",
            "[345,    12] loss: 0.933\n",
            "[346,     6] loss: 0.937\n",
            "[346,    12] loss: 0.931\n",
            "[347,     6] loss: 0.929\n",
            "[347,    12] loss: 0.938\n",
            "[348,     6] loss: 0.940\n",
            "[348,    12] loss: 0.926\n",
            "[349,     6] loss: 0.938\n",
            "[349,    12] loss: 0.926\n",
            "[350,     6] loss: 0.915\n",
            "[350,    12] loss: 0.948\n",
            "[351,     6] loss: 0.928\n",
            "[351,    12] loss: 0.934\n",
            "[352,     6] loss: 0.937\n",
            "[352,    12] loss: 0.925\n",
            "[353,     6] loss: 0.922\n",
            "[353,    12] loss: 0.938\n",
            "[354,     6] loss: 0.932\n",
            "[354,    12] loss: 0.927\n",
            "[355,     6] loss: 0.931\n",
            "[355,    12] loss: 0.927\n",
            "[356,     6] loss: 0.936\n",
            "[356,    12] loss: 0.921\n",
            "[357,     6] loss: 0.920\n",
            "[357,    12] loss: 0.936\n",
            "[358,     6] loss: 0.928\n",
            "[358,    12] loss: 0.927\n",
            "[359,     6] loss: 0.924\n",
            "[359,    12] loss: 0.929\n",
            "[360,     6] loss: 0.923\n",
            "[360,    12] loss: 0.930\n",
            "[361,     6] loss: 0.931\n",
            "[361,    12] loss: 0.920\n",
            "[362,     6] loss: 0.927\n",
            "[362,    12] loss: 0.923\n",
            "[363,     6] loss: 0.928\n",
            "[363,    12] loss: 0.921\n",
            "[364,     6] loss: 0.931\n",
            "[364,    12] loss: 0.917\n",
            "[365,     6] loss: 0.921\n",
            "[365,    12] loss: 0.925\n",
            "[366,     6] loss: 0.922\n",
            "[366,    12] loss: 0.924\n",
            "[367,     6] loss: 0.928\n",
            "[367,    12] loss: 0.917\n",
            "[368,     6] loss: 0.921\n",
            "[368,    12] loss: 0.923\n",
            "[369,     6] loss: 0.917\n",
            "[369,    12] loss: 0.926\n",
            "[370,     6] loss: 0.921\n",
            "[370,    12] loss: 0.920\n",
            "[371,     6] loss: 0.912\n",
            "[371,    12] loss: 0.929\n",
            "[372,     6] loss: 0.926\n",
            "[372,    12] loss: 0.913\n",
            "[373,     6] loss: 0.903\n",
            "[373,    12] loss: 0.935\n",
            "[374,     6] loss: 0.922\n",
            "[374,    12] loss: 0.915\n",
            "[375,     6] loss: 0.922\n",
            "[375,    12] loss: 0.914\n",
            "[376,     6] loss: 0.906\n",
            "[376,    12] loss: 0.929\n",
            "[377,     6] loss: 0.923\n",
            "[377,    12] loss: 0.911\n",
            "[378,     6] loss: 0.922\n",
            "[378,    12] loss: 0.910\n",
            "[379,     6] loss: 0.923\n",
            "[379,    12] loss: 0.909\n",
            "[380,     6] loss: 0.915\n",
            "[380,    12] loss: 0.915\n",
            "[381,     6] loss: 0.921\n",
            "[381,    12] loss: 0.909\n",
            "[382,     6] loss: 0.918\n",
            "[382,    12] loss: 0.911\n",
            "[383,     6] loss: 0.908\n",
            "[383,    12] loss: 0.919\n",
            "[384,     6] loss: 0.903\n",
            "[384,    12] loss: 0.923\n",
            "[385,     6] loss: 0.911\n",
            "[385,    12] loss: 0.914\n",
            "[386,     6] loss: 0.908\n",
            "[386,    12] loss: 0.915\n",
            "[387,     6] loss: 0.914\n",
            "[387,    12] loss: 0.909\n",
            "[388,     6] loss: 0.908\n",
            "[388,    12] loss: 0.914\n",
            "[389,     6] loss: 0.911\n",
            "[389,    12] loss: 0.910\n",
            "[390,     6] loss: 0.915\n",
            "[390,    12] loss: 0.904\n",
            "[391,     6] loss: 0.909\n",
            "[391,    12] loss: 0.909\n",
            "[392,     6] loss: 0.903\n",
            "[392,    12] loss: 0.914\n",
            "[393,     6] loss: 0.907\n",
            "[393,    12] loss: 0.909\n",
            "[394,     6] loss: 0.902\n",
            "[394,    12] loss: 0.913\n",
            "[395,     6] loss: 0.912\n",
            "[395,    12] loss: 0.902\n",
            "[396,     6] loss: 0.914\n",
            "[396,    12] loss: 0.899\n",
            "[397,     6] loss: 0.908\n",
            "[397,    12] loss: 0.904\n",
            "[398,     6] loss: 0.902\n",
            "[398,    12] loss: 0.908\n",
            "[399,     6] loss: 0.903\n",
            "[399,    12] loss: 0.906\n",
            "[400,     6] loss: 0.905\n",
            "[400,    12] loss: 0.903\n",
            "[401,     6] loss: 0.907\n",
            "[401,    12] loss: 0.901\n",
            "[402,     6] loss: 0.915\n",
            "[402,    12] loss: 0.891\n",
            "[403,     6] loss: 0.900\n",
            "[403,    12] loss: 0.905\n",
            "[404,     6] loss: 0.906\n",
            "[404,    12] loss: 0.897\n",
            "[405,     6] loss: 0.899\n",
            "[405,    12] loss: 0.904\n",
            "[406,     6] loss: 0.898\n",
            "[406,    12] loss: 0.904\n",
            "[407,     6] loss: 0.905\n",
            "[407,    12] loss: 0.896\n",
            "[408,     6] loss: 0.897\n",
            "[408,    12] loss: 0.903\n",
            "[409,     6] loss: 0.895\n",
            "[409,    12] loss: 0.903\n",
            "[410,     6] loss: 0.897\n",
            "[410,    12] loss: 0.900\n",
            "[411,     6] loss: 0.905\n",
            "[411,    12] loss: 0.891\n",
            "[412,     6] loss: 0.900\n",
            "[412,    12] loss: 0.895\n",
            "[413,     6] loss: 0.901\n",
            "[413,    12] loss: 0.892\n",
            "[414,     6] loss: 0.903\n",
            "[414,    12] loss: 0.889\n",
            "[415,     6] loss: 0.893\n",
            "[415,    12] loss: 0.899\n",
            "[416,     6] loss: 0.899\n",
            "[416,    12] loss: 0.892\n",
            "[417,     6] loss: 0.888\n",
            "[417,    12] loss: 0.901\n",
            "[418,     6] loss: 0.886\n",
            "[418,    12] loss: 0.902\n",
            "[419,     6] loss: 0.899\n",
            "[419,    12] loss: 0.888\n",
            "[420,     6] loss: 0.889\n",
            "[420,    12] loss: 0.897\n",
            "[421,     6] loss: 0.892\n",
            "[421,    12] loss: 0.893\n",
            "[422,     6] loss: 0.889\n",
            "[422,    12] loss: 0.895\n",
            "[423,     6] loss: 0.900\n",
            "[423,    12] loss: 0.882\n",
            "[424,     6] loss: 0.886\n",
            "[424,    12] loss: 0.895\n",
            "[425,     6] loss: 0.887\n",
            "[425,    12] loss: 0.893\n",
            "[426,     6] loss: 0.893\n",
            "[426,    12] loss: 0.886\n",
            "[427,     6] loss: 0.893\n",
            "[427,    12] loss: 0.885\n",
            "[428,     6] loss: 0.885\n",
            "[428,    12] loss: 0.891\n",
            "[429,     6] loss: 0.884\n",
            "[429,    12] loss: 0.891\n",
            "[430,     6] loss: 0.874\n",
            "[430,    12] loss: 0.900\n",
            "[431,     6] loss: 0.886\n",
            "[431,    12] loss: 0.887\n",
            "[432,     6] loss: 0.890\n",
            "[432,    12] loss: 0.882\n",
            "[433,     6] loss: 0.888\n",
            "[433,    12] loss: 0.883\n",
            "[434,     6] loss: 0.889\n",
            "[434,    12] loss: 0.881\n",
            "[435,     6] loss: 0.886\n",
            "[435,    12] loss: 0.883\n",
            "[436,     6] loss: 0.886\n",
            "[436,    12] loss: 0.881\n",
            "[437,     6] loss: 0.881\n",
            "[437,    12] loss: 0.885\n",
            "[438,     6] loss: 0.890\n",
            "[438,    12] loss: 0.875\n",
            "[439,     6] loss: 0.883\n",
            "[439,    12] loss: 0.880\n",
            "[440,     6] loss: 0.870\n",
            "[440,    12] loss: 0.892\n",
            "[441,     6] loss: 0.879\n",
            "[441,    12] loss: 0.881\n",
            "[442,     6] loss: 0.886\n",
            "[442,    12] loss: 0.874\n",
            "[443,     6] loss: 0.885\n",
            "[443,    12] loss: 0.874\n",
            "[444,     6] loss: 0.883\n",
            "[444,    12] loss: 0.874\n",
            "[445,     6] loss: 0.885\n",
            "[445,    12] loss: 0.871\n",
            "[446,     6] loss: 0.865\n",
            "[446,    12] loss: 0.890\n",
            "[447,     6] loss: 0.873\n",
            "[447,    12] loss: 0.881\n",
            "[448,     6] loss: 0.881\n",
            "[448,    12] loss: 0.871\n",
            "[449,     6] loss: 0.869\n",
            "[449,    12] loss: 0.882\n",
            "[450,     6] loss: 0.870\n",
            "[450,    12] loss: 0.879\n",
            "[451,     6] loss: 0.874\n",
            "[451,    12] loss: 0.875\n",
            "[452,     6] loss: 0.877\n",
            "[452,    12] loss: 0.871\n",
            "[453,     6] loss: 0.882\n",
            "[453,    12] loss: 0.864\n",
            "[454,     6] loss: 0.870\n",
            "[454,    12] loss: 0.875\n",
            "[455,     6] loss: 0.864\n",
            "[455,    12] loss: 0.879\n",
            "[456,     6] loss: 0.865\n",
            "[456,    12] loss: 0.877\n",
            "[457,     6] loss: 0.864\n",
            "[457,    12] loss: 0.877\n",
            "[458,     6] loss: 0.862\n",
            "[458,    12] loss: 0.878\n",
            "[459,     6] loss: 0.869\n",
            "[459,    12] loss: 0.870\n",
            "[460,     6] loss: 0.856\n",
            "[460,    12] loss: 0.881\n",
            "[461,     6] loss: 0.865\n",
            "[461,    12] loss: 0.871\n",
            "[462,     6] loss: 0.876\n",
            "[462,    12] loss: 0.858\n",
            "[463,     6] loss: 0.868\n",
            "[463,    12] loss: 0.865\n",
            "[464,     6] loss: 0.863\n",
            "[464,    12] loss: 0.868\n",
            "[465,     6] loss: 0.861\n",
            "[465,    12] loss: 0.869\n",
            "[466,     6] loss: 0.870\n",
            "[466,    12] loss: 0.858\n",
            "[467,     6] loss: 0.870\n",
            "[467,    12] loss: 0.857\n",
            "[468,     6] loss: 0.871\n",
            "[468,    12] loss: 0.855\n",
            "[469,     6] loss: 0.871\n",
            "[469,    12] loss: 0.854\n",
            "[470,     6] loss: 0.864\n",
            "[470,    12] loss: 0.859\n",
            "[471,     6] loss: 0.861\n",
            "[471,    12] loss: 0.861\n",
            "[472,     6] loss: 0.862\n",
            "[472,    12] loss: 0.858\n",
            "[473,     6] loss: 0.850\n",
            "[473,    12] loss: 0.868\n",
            "[474,     6] loss: 0.862\n",
            "[474,    12] loss: 0.855\n",
            "[475,     6] loss: 0.862\n",
            "[475,    12] loss: 0.854\n",
            "[476,     6] loss: 0.859\n",
            "[476,    12] loss: 0.856\n",
            "[477,     6] loss: 0.851\n",
            "[477,    12] loss: 0.862\n",
            "[478,     6] loss: 0.856\n",
            "[478,    12] loss: 0.855\n",
            "[479,     6] loss: 0.858\n",
            "[479,    12] loss: 0.853\n",
            "[480,     6] loss: 0.854\n",
            "[480,    12] loss: 0.855\n",
            "[481,     6] loss: 0.852\n",
            "[481,    12] loss: 0.855\n",
            "[482,     6] loss: 0.853\n",
            "[482,    12] loss: 0.853\n",
            "[483,     6] loss: 0.849\n",
            "[483,    12] loss: 0.855\n",
            "[484,     6] loss: 0.856\n",
            "[484,    12] loss: 0.846\n",
            "[485,     6] loss: 0.857\n",
            "[485,    12] loss: 0.844\n",
            "[486,     6] loss: 0.848\n",
            "[486,    12] loss: 0.851\n",
            "[487,     6] loss: 0.860\n",
            "[487,    12] loss: 0.838\n",
            "[488,     6] loss: 0.853\n",
            "[488,    12] loss: 0.843\n",
            "[489,     6] loss: 0.848\n",
            "[489,    12] loss: 0.847\n",
            "[490,     6] loss: 0.855\n",
            "[490,    12] loss: 0.838\n",
            "[491,     6] loss: 0.845\n",
            "[491,    12] loss: 0.847\n",
            "[492,     6] loss: 0.857\n",
            "[492,    12] loss: 0.833\n",
            "[493,     6] loss: 0.837\n",
            "[493,    12] loss: 0.851\n",
            "[494,     6] loss: 0.841\n",
            "[494,    12] loss: 0.846\n",
            "[495,     6] loss: 0.846\n",
            "[495,    12] loss: 0.839\n",
            "[496,     6] loss: 0.845\n",
            "[496,    12] loss: 0.838\n",
            "[497,     6] loss: 0.839\n",
            "[497,    12] loss: 0.843\n",
            "[498,     6] loss: 0.844\n",
            "[498,    12] loss: 0.836\n",
            "[499,     6] loss: 0.842\n",
            "[499,    12] loss: 0.836\n",
            "[500,     6] loss: 0.836\n",
            "[500,    12] loss: 0.840\n",
            "Finished Training\n"
          ],
          "name": "stdout"
        }
      ]
    },
    {
      "cell_type": "code",
      "metadata": {
        "id": "UvP97PKnr0T5"
      },
      "source": [
        "columns = [\"epochs\", \"argmax > 0.5\" ,\"argmax < 0.5\", \"focus_true_pred_true\", \"focus_false_pred_true\", \"focus_true_pred_false\", \"focus_false_pred_false\" ]\n",
        "df_train = pd.DataFrame()\n",
        "df_test = pd.DataFrame()\n",
        "df_train[columns[0]] = col1\n",
        "df_train[columns[1]] = col2\n",
        "df_train[columns[2]] = col3\n",
        "df_train[columns[3]] = col4\n",
        "df_train[columns[4]] = col5\n",
        "df_train[columns[5]] = col6\n",
        "df_train[columns[6]] = col7\n",
        "\n",
        "df_test[columns[0]] = col1\n",
        "df_test[columns[1]] = col8\n",
        "df_test[columns[2]] = col9\n",
        "df_test[columns[3]] = col10\n",
        "df_test[columns[4]] = col11\n",
        "df_test[columns[5]] = col12\n",
        "df_test[columns[6]] = col13"
      ],
      "execution_count": null,
      "outputs": []
    },
    {
      "cell_type": "code",
      "metadata": {
        "id": "0hAVV2I5r0T7",
        "scrolled": false,
        "colab": {
          "base_uri": "https://localhost:8080/",
          "height": 436
        },
        "outputId": "ea58eb63-0b08-4240-f778-6e8e54ad718a"
      },
      "source": [
        "df_train"
      ],
      "execution_count": null,
      "outputs": [
        {
          "output_type": "execute_result",
          "data": {
            "text/html": [
              "<div>\n",
              "<style scoped>\n",
              "    .dataframe tbody tr th:only-of-type {\n",
              "        vertical-align: middle;\n",
              "    }\n",
              "\n",
              "    .dataframe tbody tr th {\n",
              "        vertical-align: top;\n",
              "    }\n",
              "\n",
              "    .dataframe thead th {\n",
              "        text-align: right;\n",
              "    }\n",
              "</style>\n",
              "<table border=\"1\" class=\"dataframe\">\n",
              "  <thead>\n",
              "    <tr style=\"text-align: right;\">\n",
              "      <th></th>\n",
              "      <th>epochs</th>\n",
              "      <th>argmax &gt; 0.5</th>\n",
              "      <th>argmax &lt; 0.5</th>\n",
              "      <th>focus_true_pred_true</th>\n",
              "      <th>focus_false_pred_true</th>\n",
              "      <th>focus_true_pred_false</th>\n",
              "      <th>focus_false_pred_false</th>\n",
              "    </tr>\n",
              "  </thead>\n",
              "  <tbody>\n",
              "    <tr>\n",
              "      <th>0</th>\n",
              "      <td>4</td>\n",
              "      <td>0</td>\n",
              "      <td>3000</td>\n",
              "      <td>0</td>\n",
              "      <td>902</td>\n",
              "      <td>0</td>\n",
              "      <td>2098</td>\n",
              "    </tr>\n",
              "    <tr>\n",
              "      <th>1</th>\n",
              "      <td>9</td>\n",
              "      <td>0</td>\n",
              "      <td>3000</td>\n",
              "      <td>0</td>\n",
              "      <td>730</td>\n",
              "      <td>0</td>\n",
              "      <td>2270</td>\n",
              "    </tr>\n",
              "    <tr>\n",
              "      <th>2</th>\n",
              "      <td>14</td>\n",
              "      <td>0</td>\n",
              "      <td>3000</td>\n",
              "      <td>0</td>\n",
              "      <td>669</td>\n",
              "      <td>0</td>\n",
              "      <td>2331</td>\n",
              "    </tr>\n",
              "    <tr>\n",
              "      <th>3</th>\n",
              "      <td>19</td>\n",
              "      <td>0</td>\n",
              "      <td>3000</td>\n",
              "      <td>0</td>\n",
              "      <td>831</td>\n",
              "      <td>21</td>\n",
              "      <td>2148</td>\n",
              "    </tr>\n",
              "    <tr>\n",
              "      <th>4</th>\n",
              "      <td>24</td>\n",
              "      <td>0</td>\n",
              "      <td>3000</td>\n",
              "      <td>430</td>\n",
              "      <td>475</td>\n",
              "      <td>498</td>\n",
              "      <td>1597</td>\n",
              "    </tr>\n",
              "    <tr>\n",
              "      <th>...</th>\n",
              "      <td>...</td>\n",
              "      <td>...</td>\n",
              "      <td>...</td>\n",
              "      <td>...</td>\n",
              "      <td>...</td>\n",
              "      <td>...</td>\n",
              "      <td>...</td>\n",
              "    </tr>\n",
              "    <tr>\n",
              "      <th>95</th>\n",
              "      <td>479</td>\n",
              "      <td>1697</td>\n",
              "      <td>1303</td>\n",
              "      <td>1782</td>\n",
              "      <td>406</td>\n",
              "      <td>755</td>\n",
              "      <td>57</td>\n",
              "    </tr>\n",
              "    <tr>\n",
              "      <th>96</th>\n",
              "      <td>484</td>\n",
              "      <td>1720</td>\n",
              "      <td>1280</td>\n",
              "      <td>1818</td>\n",
              "      <td>377</td>\n",
              "      <td>758</td>\n",
              "      <td>47</td>\n",
              "    </tr>\n",
              "    <tr>\n",
              "      <th>97</th>\n",
              "      <td>489</td>\n",
              "      <td>1744</td>\n",
              "      <td>1256</td>\n",
              "      <td>1864</td>\n",
              "      <td>338</td>\n",
              "      <td>759</td>\n",
              "      <td>39</td>\n",
              "    </tr>\n",
              "    <tr>\n",
              "      <th>98</th>\n",
              "      <td>494</td>\n",
              "      <td>1776</td>\n",
              "      <td>1224</td>\n",
              "      <td>1918</td>\n",
              "      <td>294</td>\n",
              "      <td>750</td>\n",
              "      <td>38</td>\n",
              "    </tr>\n",
              "    <tr>\n",
              "      <th>99</th>\n",
              "      <td>499</td>\n",
              "      <td>1812</td>\n",
              "      <td>1188</td>\n",
              "      <td>1971</td>\n",
              "      <td>254</td>\n",
              "      <td>746</td>\n",
              "      <td>29</td>\n",
              "    </tr>\n",
              "  </tbody>\n",
              "</table>\n",
              "<p>100 rows × 7 columns</p>\n",
              "</div>"
            ],
            "text/plain": [
              "    epochs  argmax > 0.5  ...  focus_true_pred_false  focus_false_pred_false\n",
              "0        4             0  ...                      0                    2098\n",
              "1        9             0  ...                      0                    2270\n",
              "2       14             0  ...                      0                    2331\n",
              "3       19             0  ...                     21                    2148\n",
              "4       24             0  ...                    498                    1597\n",
              "..     ...           ...  ...                    ...                     ...\n",
              "95     479          1697  ...                    755                      57\n",
              "96     484          1720  ...                    758                      47\n",
              "97     489          1744  ...                    759                      39\n",
              "98     494          1776  ...                    750                      38\n",
              "99     499          1812  ...                    746                      29\n",
              "\n",
              "[100 rows x 7 columns]"
            ]
          },
          "metadata": {
            "tags": []
          },
          "execution_count": 24
        }
      ]
    },
    {
      "cell_type": "code",
      "metadata": {
        "id": "s-ZXousDr0T-",
        "colab": {
          "base_uri": "https://localhost:8080/",
          "height": 573
        },
        "outputId": "9ebd6e5d-9419-4a03-fdf0-57a8594323eb"
      },
      "source": [
        "plt.plot(col1,col2, label='argmax > 0.5')\n",
        "plt.plot(col1,col3, label='argmax < 0.5')\n",
        "\n",
        "plt.legend(loc='center left', bbox_to_anchor=(1, 0.5))\n",
        "plt.xlabel(\"epochs\")\n",
        "plt.ylabel(\"training data\")\n",
        "plt.title(\"On Training set\")\n",
        "plt.show()\n",
        "\n",
        "plt.plot(col1,col4, label =\"focus_true_pred_true \")\n",
        "plt.plot(col1,col5, label =\"focus_false_pred_true \")\n",
        "plt.plot(col1,col6, label =\"focus_true_pred_false \")\n",
        "plt.plot(col1,col7, label =\"focus_false_pred_false \")\n",
        "plt.title(\"On Training set\")\n",
        "plt.legend(loc='center left', bbox_to_anchor=(1, 0.5))\n",
        "plt.xlabel(\"epochs\")\n",
        "plt.ylabel(\"training data\")\n",
        "plt.savefig(\"dist_4_train.png\",bbox_inches=\"tight\")\n",
        "plt.savefig(\"dist_4_train.pdf\",bbox_inches=\"tight\")\n",
        "plt.show()"
      ],
      "execution_count": null,
      "outputs": [
        {
          "output_type": "display_data",
          "data": {
            "image/png": "[encoded data removed]",
            "text/plain": [
              "<Figure size 432x288 with 1 Axes>"
            ]
          },
          "metadata": {
            "tags": [],
            "needs_background": "light"
          }
        },
        {
          "output_type": "display_data",
          "data": {
            "image/png": "[encoded data removed]",
            "text/plain": [
              "<Figure size 432x288 with 1 Axes>"
            ]
          },
          "metadata": {
            "tags": [],
            "needs_background": "light"
          }
        }
      ]
    },
    {
      "cell_type": "code",
      "metadata": {
        "id": "LQip8h8jr0UA",
        "scrolled": true,
        "colab": {
          "base_uri": "https://localhost:8080/",
          "height": 436
        },
        "outputId": "375c23c9-f729-4374-b88e-4708895b4a80"
      },
      "source": [
        "df_test"
      ],
      "execution_count": null,
      "outputs": [
        {
          "output_type": "execute_result",
          "data": {
            "text/html": [
              "<div>\n",
              "<style scoped>\n",
              "    .dataframe tbody tr th:only-of-type {\n",
              "        vertical-align: middle;\n",
              "    }\n",
              "\n",
              "    .dataframe tbody tr th {\n",
              "        vertical-align: top;\n",
              "    }\n",
              "\n",
              "    .dataframe thead th {\n",
              "        text-align: right;\n",
              "    }\n",
              "</style>\n",
              "<table border=\"1\" class=\"dataframe\">\n",
              "  <thead>\n",
              "    <tr style=\"text-align: right;\">\n",
              "      <th></th>\n",
              "      <th>epochs</th>\n",
              "      <th>argmax &gt; 0.5</th>\n",
              "      <th>argmax &lt; 0.5</th>\n",
              "      <th>focus_true_pred_true</th>\n",
              "      <th>focus_false_pred_true</th>\n",
              "      <th>focus_true_pred_false</th>\n",
              "      <th>focus_false_pred_false</th>\n",
              "    </tr>\n",
              "  </thead>\n",
              "  <tbody>\n",
              "    <tr>\n",
              "      <th>0</th>\n",
              "      <td>4</td>\n",
              "      <td>0</td>\n",
              "      <td>1000</td>\n",
              "      <td>0</td>\n",
              "      <td>278</td>\n",
              "      <td>0</td>\n",
              "      <td>722</td>\n",
              "    </tr>\n",
              "    <tr>\n",
              "      <th>1</th>\n",
              "      <td>9</td>\n",
              "      <td>0</td>\n",
              "      <td>1000</td>\n",
              "      <td>0</td>\n",
              "      <td>216</td>\n",
              "      <td>0</td>\n",
              "      <td>784</td>\n",
              "    </tr>\n",
              "    <tr>\n",
              "      <th>2</th>\n",
              "      <td>14</td>\n",
              "      <td>0</td>\n",
              "      <td>1000</td>\n",
              "      <td>0</td>\n",
              "      <td>189</td>\n",
              "      <td>0</td>\n",
              "      <td>811</td>\n",
              "    </tr>\n",
              "    <tr>\n",
              "      <th>3</th>\n",
              "      <td>19</td>\n",
              "      <td>0</td>\n",
              "      <td>1000</td>\n",
              "      <td>0</td>\n",
              "      <td>267</td>\n",
              "      <td>26</td>\n",
              "      <td>707</td>\n",
              "    </tr>\n",
              "    <tr>\n",
              "      <th>4</th>\n",
              "      <td>24</td>\n",
              "      <td>0</td>\n",
              "      <td>1000</td>\n",
              "      <td>140</td>\n",
              "      <td>145</td>\n",
              "      <td>184</td>\n",
              "      <td>531</td>\n",
              "    </tr>\n",
              "    <tr>\n",
              "      <th>...</th>\n",
              "      <td>...</td>\n",
              "      <td>...</td>\n",
              "      <td>...</td>\n",
              "      <td>...</td>\n",
              "      <td>...</td>\n",
              "      <td>...</td>\n",
              "      <td>...</td>\n",
              "    </tr>\n",
              "    <tr>\n",
              "      <th>95</th>\n",
              "      <td>479</td>\n",
              "      <td>565</td>\n",
              "      <td>435</td>\n",
              "      <td>597</td>\n",
              "      <td>146</td>\n",
              "      <td>243</td>\n",
              "      <td>14</td>\n",
              "    </tr>\n",
              "    <tr>\n",
              "      <th>96</th>\n",
              "      <td>484</td>\n",
              "      <td>571</td>\n",
              "      <td>429</td>\n",
              "      <td>615</td>\n",
              "      <td>134</td>\n",
              "      <td>239</td>\n",
              "      <td>12</td>\n",
              "    </tr>\n",
              "    <tr>\n",
              "      <th>97</th>\n",
              "      <td>489</td>\n",
              "      <td>580</td>\n",
              "      <td>420</td>\n",
              "      <td>632</td>\n",
              "      <td>121</td>\n",
              "      <td>239</td>\n",
              "      <td>8</td>\n",
              "    </tr>\n",
              "    <tr>\n",
              "      <th>98</th>\n",
              "      <td>494</td>\n",
              "      <td>586</td>\n",
              "      <td>414</td>\n",
              "      <td>649</td>\n",
              "      <td>106</td>\n",
              "      <td>238</td>\n",
              "      <td>7</td>\n",
              "    </tr>\n",
              "    <tr>\n",
              "      <th>99</th>\n",
              "      <td>499</td>\n",
              "      <td>594</td>\n",
              "      <td>406</td>\n",
              "      <td>658</td>\n",
              "      <td>92</td>\n",
              "      <td>247</td>\n",
              "      <td>3</td>\n",
              "    </tr>\n",
              "  </tbody>\n",
              "</table>\n",
              "<p>100 rows × 7 columns</p>\n",
              "</div>"
            ],
            "text/plain": [
              "    epochs  argmax > 0.5  ...  focus_true_pred_false  focus_false_pred_false\n",
              "0        4             0  ...                      0                     722\n",
              "1        9             0  ...                      0                     784\n",
              "2       14             0  ...                      0                     811\n",
              "3       19             0  ...                     26                     707\n",
              "4       24             0  ...                    184                     531\n",
              "..     ...           ...  ...                    ...                     ...\n",
              "95     479           565  ...                    243                      14\n",
              "96     484           571  ...                    239                      12\n",
              "97     489           580  ...                    239                       8\n",
              "98     494           586  ...                    238                       7\n",
              "99     499           594  ...                    247                       3\n",
              "\n",
              "[100 rows x 7 columns]"
            ]
          },
          "metadata": {
            "tags": []
          },
          "execution_count": 26
        }
      ]
    },
    {
      "cell_type": "code",
      "metadata": {
        "id": "oCJcmk19r0UD",
        "colab": {
          "base_uri": "https://localhost:8080/",
          "height": 573
        },
        "outputId": "5deda3cf-3a9a-4d42-d0b7-7dba6449ffb8"
      },
      "source": [
        "plt.plot(col1,col8, label='argmax > 0.5')\n",
        "plt.plot(col1,col9, label='argmax < 0.5')\n",
        "\n",
        "plt.legend(loc='center left', bbox_to_anchor=(1, 0.5))\n",
        "plt.xlabel(\"epochs\")\n",
        "plt.ylabel(\"Testing data\")\n",
        "plt.title(\"On Testing set\")\n",
        "plt.show()\n",
        "\n",
        "plt.plot(col1,col10, label =\"focus_true_pred_true \")\n",
        "plt.plot(col1,col11, label =\"focus_false_pred_true \")\n",
        "plt.plot(col1,col12, label =\"focus_true_pred_false \")\n",
        "plt.plot(col1,col13, label =\"focus_false_pred_false \")\n",
        "plt.title(\"On Testing set\")\n",
        "plt.legend(loc='center left', bbox_to_anchor=(1, 0.5))\n",
        "plt.xlabel(\"epochs\")\n",
        "plt.ylabel(\"Testing data\")\n",
        "plt.savefig(\"dist_4_test.png\",bbox_inches=\"tight\")\n",
        "plt.savefig(\"dist_4_test.pdf\",bbox_inches=\"tight\")\n",
        "plt.show()"
      ],
      "execution_count": null,
      "outputs": [
        {
          "output_type": "display_data",
          "data": {
            "image/png": "[encoded data removed]",
            "text/plain": [
              "<Figure size 432x288 with 1 Axes>"
            ]
          },
          "metadata": {
            "tags": [],
            "needs_background": "light"
          }
        },
        {
          "output_type": "display_data",
          "data": {
            "image/png": "[encoded data removed]",
            "text/plain": [
              "<Figure size 432x288 with 1 Axes>"
            ]
          },
          "metadata": {
            "tags": [],
            "needs_background": "light"
          }
        }
      ]
    },
    {
      "cell_type": "code",
      "metadata": {
        "id": "wjKKoslK55jo"
      },
      "source": [
        "# where.state_dict()[\"linear1.weight\"][:]  = torch.Tensor(np.array([[ 0, -1]]))\r\n",
        "# where.state_dict()[\"linear1.bias\"][:] = torch.Tensor(np.array([0]))"
      ],
      "execution_count": null,
      "outputs": []
    },
    {
      "cell_type": "code",
      "metadata": {
        "id": "YH_sdpkhr0UK",
        "colab": {
          "base_uri": "https://localhost:8080/"
        },
        "outputId": "499d6392-6f72-4eaf-ac13-6ebd274d0149"
      },
      "source": [
        "for param in where.named_parameters():\r\n",
        "  print(param)"
      ],
      "execution_count": null,
      "outputs": [
        {
          "output_type": "stream",
          "text": [
            "('linear1.weight', Parameter containing:\n",
            "tensor([[-1.3579,  0.4067, -0.2029, -0.0777, -0.3421, -0.3126, -0.0272, -0.1855]],\n",
            "       dtype=torch.float64, requires_grad=True))\n",
            "('linear1.bias', Parameter containing:\n",
            "tensor([-0.0408], dtype=torch.float64, requires_grad=True))\n"
          ],
          "name": "stdout"
        }
      ]
    },
    {
      "cell_type": "code",
      "metadata": {
        "id": "6ANS5bw67RvG"
      },
      "source": [
        "# what.state_dict()[\"linear1.weight\"][:]  = torch.Tensor(np.array([[ 5,  0],\r\n",
        "#         [0,5],\r\n",
        "#         [ 0, 0]]))\r\n",
        "# what.state_dict()[\"linear1.bias\"][:] = torch.Tensor(np.array([0,  0, 0]))"
      ],
      "execution_count": null,
      "outputs": []
    },
    {
      "cell_type": "code",
      "metadata": {
        "id": "j3dOF2b3fkgp",
        "colab": {
          "base_uri": "https://localhost:8080/"
        },
        "outputId": "a02e6860-97b4-490e-ae3a-19a3506947c3"
      },
      "source": [
        "for param in what.named_parameters():\r\n",
        "  print(param)"
      ],
      "execution_count": null,
      "outputs": [
        {
          "output_type": "stream",
          "text": [
            "('linear1.weight', Parameter containing:\n",
            "tensor([[-2.9049,  1.8994, -0.0424,  0.1709, -0.3395,  0.0617, -0.1373, -0.1406],\n",
            "        [-1.2169,  1.2625,  0.3327,  0.3584,  0.0424,  0.1279,  0.3495, -0.2506],\n",
            "        [-0.2056,  0.5021, -0.0158, -0.0483, -0.3091, -0.2096, -0.2991,  0.1948],\n",
            "        [ 1.0411, -0.5671,  0.1435, -0.2201, -0.0676, -0.0970,  0.2956, -0.1055],\n",
            "        [ 1.5995, -1.5881,  0.1664,  0.0668, -0.1451,  0.3503, -0.1621, -0.0565],\n",
            "        [ 1.8837, -1.4537,  0.2842, -0.1853,  0.1178, -0.2732,  0.0619, -0.1824]],\n",
            "       dtype=torch.float64, requires_grad=True))\n",
            "('linear1.bias', Parameter containing:\n",
            "tensor([-1.0254, -0.2003,  0.6936,  0.3131,  0.2728, -0.4969],\n",
            "       dtype=torch.float64, requires_grad=True))\n"
          ],
          "name": "stdout"
        }
      ]
    },
    {
      "cell_type": "code",
      "metadata": {
        "id": "EZk8Ve_3foPS"
      },
      "source": [
        "# xx,yy= np.meshgrid(np.arange(0.9,6.5,0.05),np.arange(-5.1,6.5,0.05))\r\n",
        "# X = np.concatenate((xx.reshape(-1,1),yy.reshape(-1,1)),axis=1)\r\n",
        "# X = torch.Tensor(X).double()\r\n",
        "# Y = where.helper(X)\r\n",
        "# Y1 = what(X)"
      ],
      "execution_count": null,
      "outputs": []
    },
    {
      "cell_type": "code",
      "metadata": {
        "id": "-d0ldqGnhMrZ"
      },
      "source": [
        "# X.shape,Y.shape"
      ],
      "execution_count": null,
      "outputs": []
    },
    {
      "cell_type": "code",
      "metadata": {
        "id": "ybdSCa9mhUGp"
      },
      "source": [
        "# X = X.detach().numpy()\r\n",
        "# Y = Y[:,0].detach().numpy()"
      ],
      "execution_count": null,
      "outputs": []
    },
    {
      "cell_type": "code",
      "metadata": {
        "id": "e5Mg9wiahXTt"
      },
      "source": [
        "# fig = plt.figure(figsize=(6,6))\r\n",
        "# cs = plt.contourf(X[:,0].reshape(xx.shape),X[:,1].reshape(yy.shape),Y.reshape(xx.shape))\r\n",
        "# plt.xlabel(\"X1\")\r\n",
        "# plt.ylabel(\"X2\")\r\n",
        "# fig.colorbar(cs)\r\n",
        "# for i in range(7):\r\n",
        "#     plt.scatter(x[idx[i],0],x[idx[i],1],label=\"class_\"+str(i))\r\n",
        "# #plt.legend(loc='center left', bbox_to_anchor=(1, 0.5))\r\n",
        "# plt.savefig(\"dist_4_fc.png\")#,bbox_inches='tight')\r\n",
        "# plt.savefig(\"dist_4_fc.pdf\")"
      ],
      "execution_count": null,
      "outputs": []
    },
    {
      "cell_type": "code",
      "metadata": {
        "id": "BYTbfs7Thay0"
      },
      "source": [
        "# Y1 = Y1.detach().numpy()\r\n",
        "# Y1 = torch.softmax(torch.Tensor(Y1),dim=1)\r\n",
        "# _,Z4= torch.max(Y1,1)\r\n",
        "# Z1 = Y1[:,0]\r\n",
        "# Z2 = Y1[:,1]\r\n",
        "# #Z3 = Y1[:,2]"
      ],
      "execution_count": null,
      "outputs": []
    },
    {
      "cell_type": "code",
      "metadata": {
        "id": "8kG2vKUPYaI7"
      },
      "source": [
        "# np.unique(Z4)"
      ],
      "execution_count": null,
      "outputs": []
    },
    {
      "cell_type": "code",
      "metadata": {
        "id": "1esFxcEMhiNw"
      },
      "source": [
        "#fig = plt.figure(figsize=(6,6))\r\n",
        "# plt.scatter(X[:,0],X[:,1],c=Z1)\r\n",
        "# plt.scatter(X[:,0],X[:,1],c=Z2)\r\n",
        "# plt.scatter(X[:,0],X[:,1],c=Z3)\r\n",
        "#cs = plt.contourf(X[:,0].reshape(xx.shape),X[:,1].reshape(yy.shape),Z1.reshape(xx.shape))\r\n",
        "# #plt.colorbar(cs)\r\n",
        "# cs = plt.contourf(X[:,0].reshape(xx.shape),X[:,1].reshape(yy.shape),Z2.reshape(xx.shape))\r\n",
        "# #plt.colorbar(cs)\r\n",
        "# cs = plt.contourf(X[:,0].reshape(xx.shape),X[:,1].reshape(yy.shape),Z3.reshape(xx.shape))\r\n",
        "#plt.colorbar(cs)\r\n",
        "# plt.xlabel(\"X1\")\r\n",
        "# plt.ylabel(\"X2\")\r\n",
        "#ax.view_init(60,100)\r\n",
        "#plt.savefig(\"non_interpretable_class_2d.pdf\",bbox_inches='tight')\r\n"
      ],
      "execution_count": null,
      "outputs": []
    },
    {
      "cell_type": "code",
      "metadata": {
        "id": "2jRVEsBy9Rxc"
      },
      "source": [
        "avrg = []\r\n",
        "lbl = []\r\n",
        "with torch.no_grad():\r\n",
        "  for i, data in  enumerate(train_loader):\r\n",
        "          inputs , labels , fore_idx = data\r\n",
        "          avg_inp,alphas = where(inputs)\r\n",
        "          avrg.append(avg_inp)\r\n",
        "          lbl.append(labels.numpy())\r\n",
        "avrg= np.concatenate(avrg,axis=0)\r\n",
        "lbl = np.concatenate(lbl,axis=0)"
      ],
      "execution_count": null,
      "outputs": []
    },
    {
      "cell_type": "code",
      "metadata": {
        "colab": {
          "base_uri": "https://localhost:8080/"
        },
        "id": "cHMs5u8EqfMd",
        "outputId": "982965f4-f551-4ca3-81a0-b7f8e78f3351"
      },
      "source": [
        "indices = []\r\n",
        "for i in range(6):\r\n",
        "    print(i,sum(lbl==i))\r\n",
        "    indices.append(lbl==i)"
      ],
      "execution_count": null,
      "outputs": [
        {
          "output_type": "stream",
          "text": [
            "0 483\n",
            "1 536\n",
            "2 457\n",
            "3 505\n",
            "4 495\n",
            "5 524\n"
          ],
          "name": "stdout"
        }
      ]
    },
    {
      "cell_type": "code",
      "metadata": {
        "id": "IYMofwarmEE5",
        "colab": {
          "base_uri": "https://localhost:8080/"
        },
        "outputId": "9864e041-354c-4f86-a939-cbd299e8ae06"
      },
      "source": [
        "avrg[indices[4],:][0]"
      ],
      "execution_count": null,
      "outputs": [
        {
          "output_type": "execute_result",
          "data": {
            "text/plain": [
              "array([2.91861884e+00, 1.10274218e+00, 0.00000000e+00, 0.00000000e+00,\n",
              "       0.00000000e+00, 0.00000000e+00, 3.23717990e-04, 0.00000000e+00])"
            ]
          },
          "metadata": {
            "tags": []
          },
          "execution_count": 41
        }
      ]
    },
    {
      "cell_type": "code",
      "metadata": {
        "id": "gpyN2mafZ5Av"
      },
      "source": [
        "true = []\r\n",
        "pred = []\r\n",
        "acc= 0\r\n",
        "for i, data in  enumerate(train_loader):\r\n",
        "        inputs , labels , fore_idx = data\r\n",
        "        avg_inp,alphas = where(inputs)\r\n",
        "        outputs = what(avg_inp)\r\n",
        "        _, predicted = torch.max(outputs.data, 1)\r\n",
        "        true.append(labels)\r\n",
        "        pred.append(predicted)\r\n",
        "        acc+=sum(predicted == labels)"
      ],
      "execution_count": null,
      "outputs": []
    },
    {
      "cell_type": "code",
      "metadata": {
        "id": "Ol7vxjD0bxYJ"
      },
      "source": [
        "true = np.concatenate(true,axis=0)\r\n",
        "pred = np.concatenate(pred,axis=0)"
      ],
      "execution_count": null,
      "outputs": []
    },
    {
      "cell_type": "code",
      "metadata": {
        "id": "MR7LkXexbzEi",
        "colab": {
          "base_uri": "https://localhost:8080/"
        },
        "outputId": "c0405fcf-72dc-4140-ea04-edd447d6c31c"
      },
      "source": [
        "from sklearn.metrics import confusion_matrix\r\n",
        "confusion_matrix(true,pred)"
      ],
      "execution_count": null,
      "outputs": [
        {
          "output_type": "execute_result",
          "data": {
            "text/plain": [
              "array([[453,  30,   0,   0,   0,   0],\n",
              "       [149, 385,   2,   0,   0,   0],\n",
              "       [  0,  62, 381,  14,   0,   0],\n",
              "       [  0,   0,  41, 391,   1,  72],\n",
              "       [  0,   0,   0,   5, 134, 356],\n",
              "       [  0,   0,   0,   6,  37, 481]])"
            ]
          },
          "metadata": {
            "tags": []
          },
          "execution_count": 44
        }
      ]
    },
    {
      "cell_type": "code",
      "metadata": {
        "id": "HBbAemTR8wRY",
        "colab": {
          "base_uri": "https://localhost:8080/"
        },
        "outputId": "00504a3a-2438-43bb-ee76-4893da03e7e1"
      },
      "source": [
        "sum(true==pred)"
      ],
      "execution_count": null,
      "outputs": [
        {
          "output_type": "execute_result",
          "data": {
            "text/plain": [
              "2225"
            ]
          },
          "metadata": {
            "tags": []
          },
          "execution_count": 45
        }
      ]
    },
    {
      "cell_type": "code",
      "metadata": {
        "id": "dL82mI2pgmUm"
      },
      "source": [
        "a = [1,2,3]\r\n",
        "b = [4,5,6]"
      ],
      "execution_count": null,
      "outputs": []
    },
    {
      "cell_type": "code",
      "metadata": {
        "colab": {
          "base_uri": "https://localhost:8080/"
        },
        "id": "bA_tHtpQcIGL",
        "outputId": "f6a39ee3-21fa-4e02-ba4f-e3c057584f7e"
      },
      "source": [
        "list(np.append(a,b))"
      ],
      "execution_count": null,
      "outputs": [
        {
          "output_type": "execute_result",
          "data": {
            "text/plain": [
              "[1, 2, 3, 4, 5, 6]"
            ]
          },
          "metadata": {
            "tags": []
          },
          "execution_count": 47
        }
      ]
    },
    {
      "cell_type": "code",
      "metadata": {
        "colab": {
          "base_uri": "https://localhost:8080/"
        },
        "id": "TsCGv-AfcKBH",
        "outputId": "19217682-99c3-405d-ce65-31f4e462ea2e"
      },
      "source": [
        "a"
      ],
      "execution_count": null,
      "outputs": [
        {
          "output_type": "execute_result",
          "data": {
            "text/plain": [
              "[1, 2, 3]"
            ]
          },
          "metadata": {
            "tags": []
          },
          "execution_count": 48
        }
      ]
    },
    {
      "cell_type": "code",
      "metadata": {
        "id": "ERuqhKkocLKJ"
      },
      "source": [
        ""
      ],
      "execution_count": null,
      "outputs": []
    }
  ]
}