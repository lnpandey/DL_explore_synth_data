{
  "nbformat": 4,
  "nbformat_minor": 0,
  "metadata": {
    "accelerator": "GPU",
    "colab": {
      "name": "Error_Mode3_non_linear_clssy.ipynb",
      "provenance": [],
      "collapsed_sections": []
    },
    "kernelspec": {
      "display_name": "Python 3",
      "language": "python",
      "name": "python3"
    },
    "language_info": {
      "codemirror_mode": {
        "name": "ipython",
        "version": 3
      },
      "file_extension": ".py",
      "mimetype": "text/x-python",
      "name": "python",
      "nbconvert_exporter": "python",
      "pygments_lexer": "ipython3",
      "version": "3.6.5"
    }
  },
  "cells": [
    {
      "cell_type": "code",
      "metadata": {
        "colab": {
          "base_uri": "https://localhost:8080/"
        },
        "id": "N2_J4Rw2r0SQ",
        "outputId": "cee8fc5e-2bca-4f51-87ae-8415db3455ea"
      },
      "source": [
        "import numpy as np\n",
        "import pandas as pd\n",
        "from matplotlib import pyplot as plt\n",
        "from tqdm import tqdm\n",
        "%matplotlib inline\n",
        "from torch.utils.data import Dataset, DataLoader\n",
        "import torch\n",
        "import torchvision\n",
        "\n",
        "import torch.nn as nn\n",
        "import torch.optim as optim\n",
        "from torch.nn import functional as F\n",
        "device = torch.device(\"cuda\" if torch.cuda.is_available() else \"cpu\")\n",
        "print(device)"
      ],
      "execution_count": 1,
      "outputs": [
        {
          "output_type": "stream",
          "text": [
            "cuda\n"
          ],
          "name": "stdout"
        }
      ]
    },
    {
      "cell_type": "markdown",
      "metadata": {
        "id": "F6fjud_Fr0Sa"
      },
      "source": [
        "# Generate dataset"
      ]
    },
    {
      "cell_type": "code",
      "metadata": {
        "id": "CqdXHO0Cr0Sd",
        "colab": {
          "base_uri": "https://localhost:8080/"
        },
        "outputId": "5c90f285-607b-4956-bcc2-63ec2f840a3d"
      },
      "source": [
        "y = np.random.randint(0,7,2100)\n",
        "idx= []\n",
        "for i in range(7):\n",
        "    print(i,sum(y==i))\n",
        "    idx.append(y==i)"
      ],
      "execution_count": 2,
      "outputs": [
        {
          "output_type": "stream",
          "text": [
            "0 286\n",
            "1 310\n",
            "2 321\n",
            "3 298\n",
            "4 318\n",
            "5 268\n",
            "6 299\n"
          ],
          "name": "stdout"
        }
      ]
    },
    {
      "cell_type": "code",
      "metadata": {
        "id": "ddhXyODwr0Sk"
      },
      "source": [
        "x = np.zeros((2100,2))"
      ],
      "execution_count": 3,
      "outputs": []
    },
    {
      "cell_type": "code",
      "metadata": {
        "id": "DbWPELOH0ae4"
      },
      "source": [
        "\r\n",
        "\r\n",
        "x[idx[0],:] = np.random.uniform(low=[1.5,8],high=[2,7],size=(sum(idx[0]),2))\r\n",
        "\r\n",
        "x[idx[1],:] = np.random.uniform(low=[1.5,5],high=[2,6],size=(sum(idx[1]),2))\r\n",
        "\r\n",
        "x[idx[2],:] = np.random.uniform(low=[1.5,3],high=[2,4],size=(sum(idx[2]),2))\r\n",
        "\r\n",
        "x[idx[3],:] = np.random.uniform(low=[1.5,1],high=[2,2],size=(sum(idx[3]),2))\r\n",
        "\r\n",
        "x[idx[4],:] = np.random.uniform(low=[1.5,-1],high=[2,0],size=(sum(idx[4]),2))\r\n",
        "\r\n",
        "x[idx[5],:] = np.random.uniform(low=[1.5,-2],high=[2,-3],size=(sum(idx[5]),2))\r\n",
        "\r\n",
        "\r\n",
        "x[idx[6],:] = np.random.uniform(low=[2.1,-0.3],high=[2.2,-0.2],size=(sum(idx[6]),2))\r\n",
        "\r\n",
        "\r\n",
        "#x[idx[7],:] = np.random.uniform(low=[2.5,1],high=[3.5,4],size=(sum(idx[7]),2))\r\n"
      ],
      "execution_count": 4,
      "outputs": []
    },
    {
      "cell_type": "code",
      "metadata": {
        "id": "hJ8Jm7YUr0St",
        "colab": {
          "base_uri": "https://localhost:8080/",
          "height": 265
        },
        "outputId": "f920ef76-d34e-45ea-d9de-8ea674e4f957"
      },
      "source": [
        "for i in range(7):\n",
        "    plt.scatter(x[idx[i],0],x[idx[i],1],label=\"class_\"+str(i))\n",
        "plt.legend(loc='center left', bbox_to_anchor=(1, 0.5))\n",
        "plt.savefig(\"dist_4.png\",bbox_inches=\"tight\")\n",
        "plt.savefig(\"dist_4.pdf\",bbox_inches=\"tight\")\n"
      ],
      "execution_count": 5,
      "outputs": [
        {
          "output_type": "display_data",
          "data": {
            "image/png": "[encoded data removed]",
            "text/plain": [
              "<Figure size 432x288 with 1 Axes>"
            ]
          },
          "metadata": {
            "tags": [],
            "needs_background": "light"
          }
        }
      ]
    },
    {
      "cell_type": "code",
      "metadata": {
        "id": "UfFHcZJOr0Sz"
      },
      "source": [
        "foreground_classes = {'class_0','class_1'}\n",
        "\n",
        "background_classes = {'class_2'}"
      ],
      "execution_count": 6,
      "outputs": []
    },
    {
      "cell_type": "code",
      "metadata": {
        "id": "OplNpNQVr0S2",
        "colab": {
          "base_uri": "https://localhost:8080/"
        },
        "outputId": "f8e3ddfb-b24f-4610-d2dd-9e68be236b3b"
      },
      "source": [
        "fg_class  = np.random.randint(0,6)\n",
        "fg_idx = np.random.randint(0,9) #m=2\n",
        "\n",
        "a = []\n",
        "\n",
        "for i in range(9): #m=2\n",
        "    if i == fg_idx:\n",
        "        b = np.random.choice(np.where(idx[fg_class]==True)[0],size=1)\n",
        "        a.append(x[b])\n",
        "        print(\"foreground \"+str(fg_class)+\" present at \" + str(fg_idx))\n",
        "    else:\n",
        "        bg_class = np.random.randint(6,7)\n",
        "        b = np.random.choice(np.where(idx[bg_class]==True)[0],size=1)\n",
        "        a.append(x[b])\n",
        "        print(\"background \"+str(bg_class)+\" present at \" + str(i))\n",
        "a = np.concatenate(a,axis=0)\n",
        "print(a.shape)\n",
        "\n",
        "print(fg_class , fg_idx)"
      ],
      "execution_count": 7,
      "outputs": [
        {
          "output_type": "stream",
          "text": [
            "background 6 present at 0\n",
            "background 6 present at 1\n",
            "foreground 4 present at 2\n",
            "background 6 present at 3\n",
            "background 6 present at 4\n",
            "background 6 present at 5\n",
            "background 6 present at 6\n",
            "background 6 present at 7\n",
            "background 6 present at 8\n",
            "(9, 2)\n",
            "4 2\n"
          ],
          "name": "stdout"
        }
      ]
    },
    {
      "cell_type": "code",
      "metadata": {
        "id": "dwZVmmRBr0S8",
        "colab": {
          "base_uri": "https://localhost:8080/"
        },
        "outputId": "c5ecdc40-fe40-484e-a4dc-63295cc88f21"
      },
      "source": [
        "a.shape"
      ],
      "execution_count": 8,
      "outputs": [
        {
          "output_type": "execute_result",
          "data": {
            "text/plain": [
              "(9, 2)"
            ]
          },
          "metadata": {
            "tags": []
          },
          "execution_count": 8
        }
      ]
    },
    {
      "cell_type": "code",
      "metadata": {
        "id": "OoxzYI-ur0S_",
        "colab": {
          "base_uri": "https://localhost:8080/"
        },
        "outputId": "f168dce5-3d04-41b9-9df1-88361fbca0a1"
      },
      "source": [
        "np.reshape(a,(18,1))"
      ],
      "execution_count": 9,
      "outputs": [
        {
          "output_type": "execute_result",
          "data": {
            "text/plain": [
              "array([[ 2.16776223],\n",
              "       [-0.20513277],\n",
              "       [ 2.14632807],\n",
              "       [-0.2292483 ],\n",
              "       [ 1.66340304],\n",
              "       [-0.45381708],\n",
              "       [ 2.15879037],\n",
              "       [-0.25264561],\n",
              "       [ 2.13969417],\n",
              "       [-0.29600913],\n",
              "       [ 2.19234433],\n",
              "       [-0.2160324 ],\n",
              "       [ 2.19345813],\n",
              "       [-0.22158714],\n",
              "       [ 2.14631615],\n",
              "       [-0.21692672],\n",
              "       [ 2.19985662],\n",
              "       [-0.22239987]])"
            ]
          },
          "metadata": {
            "tags": []
          },
          "execution_count": 9
        }
      ]
    },
    {
      "cell_type": "code",
      "metadata": {
        "id": "jqbvfbwVr0TN"
      },
      "source": [
        "desired_num = 3000\n",
        "mosaic_list =[]\n",
        "mosaic_label = []\n",
        "fore_idx=[]\n",
        "for j in range(desired_num):\n",
        "    fg_class  = np.random.randint(0,6)\n",
        "    fg_idx = np.random.randint(0,9) #m=2\n",
        "    a = []\n",
        "    np.random.seed(i+j)\n",
        "    for i in range(9):  #m=2\n",
        "        if i == fg_idx: \n",
        "            b = np.random.choice(np.where(idx[fg_class]==True)[0],size=1)\n",
        "            a.append(x[b])\n",
        "#             print(\"foreground \"+str(fg_class)+\" present at \" + str(fg_idx))\n",
        "        else:\n",
        "            bg_class = np.random.randint(6,7)\n",
        "            b = np.random.choice(np.where(idx[bg_class]==True)[0],size=1)\n",
        "            a.append(x[b])\n",
        "#             print(\"background \"+str(bg_class)+\" present at \" + str(i))\n",
        "    a = np.concatenate(a,axis=0)\n",
        "    mosaic_list.append(np.reshape(a,(18,1)))\n",
        "    mosaic_label.append(fg_class)\n",
        "    fore_idx.append(fg_idx)"
      ],
      "execution_count": 10,
      "outputs": []
    },
    {
      "cell_type": "code",
      "metadata": {
        "id": "BOsFmWfMr0TR"
      },
      "source": [
        "mosaic_list = np.concatenate(mosaic_list,axis=1).T\n",
        "# print(mosaic_list)"
      ],
      "execution_count": 11,
      "outputs": []
    },
    {
      "cell_type": "code",
      "metadata": {
        "id": "C2PnW7aQr0TT",
        "colab": {
          "base_uri": "https://localhost:8080/"
        },
        "outputId": "8777f85d-0ee3-4466-c7b2-6743777070db"
      },
      "source": [
        "print(np.shape(mosaic_label))\n",
        "print(np.shape(fore_idx))"
      ],
      "execution_count": 12,
      "outputs": [
        {
          "output_type": "stream",
          "text": [
            "(3000,)\n",
            "(3000,)\n"
          ],
          "name": "stdout"
        }
      ]
    },
    {
      "cell_type": "code",
      "metadata": {
        "id": "yL0BRf8er0TX"
      },
      "source": [
        "class MosaicDataset(Dataset):\n",
        "  \"\"\"MosaicDataset dataset.\"\"\"\n",
        "\n",
        "  def __init__(self, mosaic_list, mosaic_label, fore_idx):\n",
        "    \"\"\"\n",
        "      Args:\n",
        "        csv_file (string): Path to the csv file with annotations.\n",
        "        root_dir (string): Directory with all the images.\n",
        "        transform (callable, optional): Optional transform to be applied\n",
        "            on a sample.\n",
        "    \"\"\"\n",
        "    self.mosaic = mosaic_list\n",
        "    self.label = mosaic_label\n",
        "    self.fore_idx = fore_idx\n",
        "\n",
        "  def __len__(self):\n",
        "    return len(self.label)\n",
        "\n",
        "  def __getitem__(self, idx):\n",
        "    return self.mosaic[idx] , self.label[idx], self.fore_idx[idx]\n",
        "\n",
        "batch = 250\n",
        "msd = MosaicDataset(mosaic_list, mosaic_label , fore_idx)\n",
        "train_loader = DataLoader( msd,batch_size= batch ,shuffle=True)"
      ],
      "execution_count": 13,
      "outputs": []
    },
    {
      "cell_type": "code",
      "metadata": {
        "id": "ZVRXgwwNr0Tb"
      },
      "source": [
        "class Wherenet(nn.Module):\n",
        "    def __init__(self):\n",
        "        super(Wherenet,self).__init__()\n",
        "        self.linear1 = nn.Linear(2,1)\n",
        "        #self.linear2 = nn.Linear(100,200)\n",
        "        #self.linear3 = nn.Linear(200,1)\n",
        "\n",
        "    def forward(self,z):\n",
        "        x = torch.zeros([batch,9],dtype=torch.float64)  #m=2\n",
        "        y = torch.zeros([batch,2], dtype=torch.float64)\n",
        "        #x,y = x.to(\"cuda\"),y.to(\"cuda\")\n",
        "        for i in range(9):  #m=9\n",
        "          x[:,i] = self.helper(z[:,2*i:2*i+2])[:,0]\n",
        "            #print(k[:,0].shape,x[:,i].shape)\n",
        "        x = F.softmax(x,dim=1)   # alphas\n",
        "        x1 = x[:,0]\n",
        "        for i in range(9): #m=9\n",
        "            x1 = x[:,i]          \n",
        "            #print()\n",
        "            y = y+torch.mul(x1[:,None],z[:,2*i:2*i+2])\n",
        "        return y , x \n",
        "\n",
        "    \n",
        "    def helper(self,x):\n",
        "        #x = F.relu(self.linear1(x))\n",
        "        #x = F.relu(self.linear2(x))\n",
        "        x = self.linear1(x)\n",
        "        return x\n",
        "\n",
        "    "
      ],
      "execution_count": 14,
      "outputs": []
    },
    {
      "cell_type": "code",
      "metadata": {
        "id": "f-Ek05Kxr0Te"
      },
      "source": [
        "trainiter = iter(train_loader)\n",
        "input1,labels1,index1 = trainiter.next()\n",
        "\n"
      ],
      "execution_count": 15,
      "outputs": []
    },
    {
      "cell_type": "code",
      "metadata": {
        "id": "SxEmWZI6r0Ti",
        "colab": {
          "base_uri": "https://localhost:8080/"
        },
        "outputId": "0e1fcde9-901c-4919-8c72-7609e09d2694"
      },
      "source": [
        "torch.manual_seed(1236)\n",
        "where = Wherenet().double()\n",
        "where = where\n",
        "out_where,alphas = where(input1)\n",
        "out_where.shape,alphas.shape"
      ],
      "execution_count": 16,
      "outputs": [
        {
          "output_type": "execute_result",
          "data": {
            "text/plain": [
              "(torch.Size([250, 2]), torch.Size([250, 9]))"
            ]
          },
          "metadata": {
            "tags": []
          },
          "execution_count": 16
        }
      ]
    },
    {
      "cell_type": "code",
      "metadata": {
        "id": "5_XeIUk0r0Tl"
      },
      "source": [
        "class Whatnet(nn.Module):\n",
        "    def __init__(self):\n",
        "        super(Whatnet,self).__init__()\n",
        "        self.linear1 = nn.Linear(2,2000)\n",
        "        self.linear2 = nn.Linear(2000,4000)\n",
        "        self.linear3 = nn.Linear(4000,6)\n",
        "        #self.linear4 = nn.Linear(15,20)\n",
        "        #self.linear5 = nn.Linear(20,25)\n",
        "        #self.linear6 = nn.Linear(25,6)\n",
        "    \n",
        "    def forward(self,x):\n",
        "      x = F.relu(self.linear1(x))\n",
        "      x = F.relu(self.linear2(x))\n",
        "      #x = F.relu(self.linear3(x))\n",
        "      #x = F.relu(self.linear4(x))\n",
        "      #x = F.relu(self.linear5(x))\n",
        "      x = self.linear3(x)\n",
        "      return x"
      ],
      "execution_count": 17,
      "outputs": []
    },
    {
      "cell_type": "code",
      "metadata": {
        "id": "l35i9bIlr0Tp"
      },
      "source": [
        "torch.manual_seed(1236)\n",
        "what = Whatnet().double()\n",
        "# what(out_where)"
      ],
      "execution_count": 18,
      "outputs": []
    },
    {
      "cell_type": "code",
      "metadata": {
        "id": "tMEoCLo1r0Tt"
      },
      "source": [
        "test_data_required = 1000\n",
        "mosaic_list_test =[]\n",
        "mosaic_label_test = []\n",
        "fore_idx_test=[]\n",
        "for j in range(test_data_required):\n",
        "    fg_class  = np.random.randint(0,6)\n",
        "    fg_idx = np.random.randint(0,9)  #m=2\n",
        "    a = []\n",
        "    for i in range(9): #m=2\n",
        "        np.random.seed(i+j+3000)\n",
        "        if i == fg_idx:\n",
        "            b = np.random.choice(np.where(idx[fg_class]==True)[0],size=1)\n",
        "            a.append(x[b])\n",
        "#             print(\"foreground \"+str(fg_class)+\" present at \" + str(fg_idx))\n",
        "        else:\n",
        "            bg_class = np.random.randint(6,7)\n",
        "            b = np.random.choice(np.where(idx[bg_class]==True)[0],size=1)\n",
        "            a.append(x[b])\n",
        "#             print(\"background \"+str(bg_class)+\" present at \" + str(i))\n",
        "    a = np.concatenate(a,axis=0)\n",
        "    mosaic_list_test.append(np.reshape(a,(18,1)))\n",
        "    mosaic_label_test.append(fg_class)\n",
        "    fore_idx_test.append(fg_idx)"
      ],
      "execution_count": 19,
      "outputs": []
    },
    {
      "cell_type": "code",
      "metadata": {
        "id": "2Naetxvbr0Tw",
        "colab": {
          "base_uri": "https://localhost:8080/"
        },
        "outputId": "198fdec9-44ed-4190-e7de-bb231d28babe"
      },
      "source": [
        "mosaic_list_test = np.concatenate(mosaic_list_test,axis=1).T\n",
        "print(mosaic_list_test.shape)"
      ],
      "execution_count": 20,
      "outputs": [
        {
          "output_type": "stream",
          "text": [
            "(1000, 18)\n"
          ],
          "name": "stdout"
        }
      ]
    },
    {
      "cell_type": "code",
      "metadata": {
        "id": "Os4KxqrFr0Tz"
      },
      "source": [
        "test_data = MosaicDataset(mosaic_list_test,mosaic_label_test,fore_idx_test)\n",
        "test_loader = DataLoader( test_data,batch_size= batch ,shuffle=False)"
      ],
      "execution_count": 21,
      "outputs": []
    },
    {
      "cell_type": "code",
      "metadata": {
        "id": "Aoe6LZpNQhE-"
      },
      "source": [
        "col1=[]\r\n",
        "col2=[]\r\n",
        "col3=[]\r\n",
        "col4=[]\r\n",
        "col5=[]\r\n",
        "col6=[]\r\n",
        "col7=[]\r\n",
        "col8=[]\r\n",
        "col9=[]\r\n",
        "col10=[]\r\n",
        "col11=[]\r\n",
        "col12=[]\r\n",
        "col13=[]"
      ],
      "execution_count": 22,
      "outputs": []
    },
    {
      "cell_type": "code",
      "metadata": {
        "colab": {
          "base_uri": "https://localhost:8080/"
        },
        "id": "BYE00bqMQbzv",
        "outputId": "ce742eeb-6e60-46d4-80ce-1c3be26a703a"
      },
      "source": [
        "correct = 0\r\n",
        "total = 0\r\n",
        "count = 0\r\n",
        "flag = 1\r\n",
        "focus_true_pred_true =0\r\n",
        "focus_false_pred_true =0\r\n",
        "focus_true_pred_false =0\r\n",
        "focus_false_pred_false =0\r\n",
        "\r\n",
        "argmax_more_than_half = 0\r\n",
        "argmax_less_than_half =0\r\n",
        "\r\n",
        "with torch.no_grad():\r\n",
        "  for data in train_loader:\r\n",
        "    inputs, labels , fore_idx = data\r\n",
        "    avg_inp,alphas = where(inputs)\r\n",
        "    outputs = what(avg_inp)\r\n",
        "\r\n",
        "    _, predicted = torch.max(outputs.data, 1)\r\n",
        "\r\n",
        "    for j in range(labels.size(0)):\r\n",
        "      count += 1\r\n",
        "      focus = torch.argmax(alphas[j])\r\n",
        "      if alphas[j][focus] >= 0.5 :\r\n",
        "        argmax_more_than_half += 1\r\n",
        "      else:\r\n",
        "        argmax_less_than_half += 1\r\n",
        "\r\n",
        "      if(focus == fore_idx[j] and predicted[j] == labels[j]):\r\n",
        "          focus_true_pred_true += 1\r\n",
        "      elif(focus != fore_idx[j] and predicted[j] == labels[j]):\r\n",
        "        focus_false_pred_true += 1\r\n",
        "      elif(focus == fore_idx[j] and predicted[j] != labels[j]):\r\n",
        "        focus_true_pred_false += 1\r\n",
        "      elif(focus != fore_idx[j] and predicted[j] != labels[j]):\r\n",
        "        focus_false_pred_false += 1\r\n",
        "\r\n",
        "    total += labels.size(0)\r\n",
        "    correct += (predicted == labels).sum().item()\r\n",
        "\r\n",
        "print('Accuracy of the network on the 30000 train images: %d %%' % ( 100 * correct / total))\r\n",
        "print(\"total correct\", correct)\r\n",
        "print(\"total train set images\", total)\r\n",
        "\r\n",
        "print(\"focus_true_pred_true %d =============> FTPT : %d %%\" % (focus_true_pred_true , (100 * focus_true_pred_true / total) ) )\r\n",
        "print(\"focus_false_pred_true %d =============> FFPT : %d %%\" % (focus_false_pred_true, (100 * focus_false_pred_true / total) ) )\r\n",
        "print(\"focus_true_pred_false %d =============> FTPF : %d %%\" %( focus_true_pred_false , ( 100 * focus_true_pred_false / total) ) )\r\n",
        "print(\"focus_false_pred_false %d =============> FFPF : %d %%\" % (focus_false_pred_false, ( 100 * focus_false_pred_false / total) ) )\r\n",
        "\r\n",
        "print(\"argmax_more_than_half ==================> \",argmax_more_than_half)\r\n",
        "print(\"argmax_less_than_half ==================> \",argmax_less_than_half)\r\n",
        "print(count)\r\n",
        "\r\n",
        "print(\"=\"*100)\r\n",
        "\r\n",
        "col1.append(0)\r\n",
        "col2.append(argmax_more_than_half)\r\n",
        "col3.append(argmax_less_than_half)\r\n",
        "col4.append(focus_true_pred_true)\r\n",
        "col5.append(focus_false_pred_true)\r\n",
        "col6.append(focus_true_pred_false)\r\n",
        "col7.append(focus_false_pred_false)"
      ],
      "execution_count": 23,
      "outputs": [
        {
          "output_type": "stream",
          "text": [
            "Accuracy of the network on the 30000 train images: 16 %\n",
            "total correct 493\n",
            "total train set images 3000\n",
            "focus_true_pred_true 493 =============> FTPT : 16 %\n",
            "focus_false_pred_true 0 =============> FFPT : 0 %\n",
            "focus_true_pred_false 505 =============> FTPF : 16 %\n",
            "focus_false_pred_false 2002 =============> FFPF : 66 %\n",
            "argmax_more_than_half ==================>  0\n",
            "argmax_less_than_half ==================>  3000\n",
            "3000\n",
            "====================================================================================================\n"
          ],
          "name": "stdout"
        }
      ]
    },
    {
      "cell_type": "code",
      "metadata": {
        "colab": {
          "base_uri": "https://localhost:8080/"
        },
        "id": "ohy-B9DpQjFn",
        "outputId": "0140cbcb-53a7-412b-f32b-afec9f00c0f6"
      },
      "source": [
        "correct = 0\r\n",
        "total = 0\r\n",
        "count = 0\r\n",
        "flag = 1\r\n",
        "focus_true_pred_true =0\r\n",
        "focus_false_pred_true =0\r\n",
        "focus_true_pred_false =0\r\n",
        "focus_false_pred_false =0\r\n",
        "\r\n",
        "argmax_more_than_half = 0\r\n",
        "argmax_less_than_half =0\r\n",
        "\r\n",
        "with torch.no_grad():\r\n",
        "  for data in test_loader:\r\n",
        "    inputs, labels , fore_idx = data\r\n",
        "    avg_inp,alphas = where(inputs)    \r\n",
        "    outputs = what(avg_inp)\r\n",
        "\r\n",
        "    _, predicted = torch.max(outputs.data, 1)\r\n",
        "\r\n",
        "    for j in range(labels.size(0)):\r\n",
        "      focus = torch.argmax(alphas[j])\r\n",
        "      if alphas[j][focus] >= 0.5 :\r\n",
        "        argmax_more_than_half += 1\r\n",
        "      else:\r\n",
        "        argmax_less_than_half += 1\r\n",
        "\r\n",
        "      if(focus == fore_idx[j] and predicted[j] == labels[j]):\r\n",
        "          focus_true_pred_true += 1\r\n",
        "      elif(focus != fore_idx[j] and predicted[j] == labels[j]):\r\n",
        "        focus_false_pred_true += 1\r\n",
        "      elif(focus == fore_idx[j] and predicted[j] != labels[j]):\r\n",
        "        focus_true_pred_false += 1\r\n",
        "      elif(focus != fore_idx[j] and predicted[j] != labels[j]):\r\n",
        "        focus_false_pred_false += 1\r\n",
        "\r\n",
        "    total += labels.size(0)\r\n",
        "    correct += (predicted == labels).sum().item()\r\n",
        "\r\n",
        "print('Accuracy of the network on the 10000 test images: %d %%' % (\r\n",
        "    100 * correct / total))\r\n",
        "print(\"total correct\", correct)\r\n",
        "print(\"total train set images\", total)\r\n",
        "\r\n",
        "print(\"focus_true_pred_true %d =============> FTPT : %d %%\" % (focus_true_pred_true , (100 * focus_true_pred_true / total) ) )\r\n",
        "print(\"focus_false_pred_true %d =============> FFPT : %d %%\" % (focus_false_pred_true, (100 * focus_false_pred_true / total) ) )\r\n",
        "print(\"focus_true_pred_false %d =============> FTPF : %d %%\" %( focus_true_pred_false , ( 100 * focus_true_pred_false / total) ) )\r\n",
        "print(\"focus_false_pred_false %d =============> FFPF : %d %%\" % (focus_false_pred_false, ( 100 * focus_false_pred_false / total) ) )\r\n",
        "\r\n",
        "print(\"argmax_more_than_half ==================> \",argmax_more_than_half)\r\n",
        "print(\"argmax_less_than_half ==================> \",argmax_less_than_half)\r\n",
        "col8.append(argmax_more_than_half)\r\n",
        "col9.append(argmax_less_than_half)\r\n",
        "col10.append(focus_true_pred_true)\r\n",
        "col11.append(focus_false_pred_true)\r\n",
        "col12.append(focus_true_pred_false)\r\n",
        "col13.append(focus_false_pred_false)"
      ],
      "execution_count": 24,
      "outputs": [
        {
          "output_type": "stream",
          "text": [
            "Accuracy of the network on the 10000 test images: 17 %\n",
            "total correct 175\n",
            "total train set images 1000\n",
            "focus_true_pred_true 175 =============> FTPT : 17 %\n",
            "focus_false_pred_true 0 =============> FFPT : 0 %\n",
            "focus_true_pred_false 157 =============> FTPF : 15 %\n",
            "focus_false_pred_false 668 =============> FFPF : 66 %\n",
            "argmax_more_than_half ==================>  0\n",
            "argmax_less_than_half ==================>  1000\n"
          ],
          "name": "stdout"
        }
      ]
    },
    {
      "cell_type": "code",
      "metadata": {
        "id": "pPQY-Wpcr0T2",
        "scrolled": true,
        "colab": {
          "base_uri": "https://localhost:8080/"
        },
        "outputId": "ebc172be-c649-48d8-f2ed-dafff633337b"
      },
      "source": [
        "\n",
        "focus_true_pred_true =0\n",
        "focus_false_pred_true =0\n",
        "focus_true_pred_false =0\n",
        "focus_false_pred_false =0\n",
        "\n",
        "argmax_more_than_half = 0\n",
        "argmax_less_than_half =0\n",
        "\n",
        "\n",
        "criterion = nn.CrossEntropyLoss()\n",
        "optimizer_where = optim.Adam(where.parameters(), lr=0.01)#,momentum=0.9)\n",
        "optimizer_what = optim.Adam(what.parameters(), lr=0.01)#, momentum=0.9)\n",
        "\n",
        "nos_epochs = 150\n",
        "train_loss=[]\n",
        "test_loss =[]\n",
        "train_acc = []\n",
        "test_acc = []\n",
        "for epoch in range(nos_epochs):  # loop over the dataset multiple times\n",
        "\n",
        "    focus_true_pred_true =0\n",
        "    focus_false_pred_true =0\n",
        "    focus_true_pred_false =0\n",
        "    focus_false_pred_false =0\n",
        "\n",
        "    argmax_more_than_half = 0\n",
        "    argmax_less_than_half =0\n",
        "\n",
        "    running_loss = 0.0\n",
        "    cnt=0\n",
        "\n",
        "    iteration = desired_num // batch\n",
        "\n",
        "    #training data set\n",
        "\n",
        "    for i, data in  enumerate(train_loader):\n",
        "        inputs , labels , fore_idx = data\n",
        "        #inputs,labels,fore_idx = inputs.to(device),labels.to(device),fore_idx.to(device)\n",
        "        # zero the parameter gradients\n",
        "\n",
        "        optimizer_what.zero_grad()\n",
        "        optimizer_where.zero_grad()\n",
        "        \n",
        "        \n",
        "        avg_inp,alphas = where(inputs)\n",
        "        \n",
        "        outputs = what(avg_inp)\n",
        "        \n",
        "        _, predicted = torch.max(outputs.data, 1)\n",
        "        \n",
        "        loss = criterion(outputs, labels) \n",
        "        loss.backward() \n",
        "        \n",
        "        optimizer_what.step()\n",
        "        optimizer_where.step() \n",
        "        \n",
        "\n",
        "        running_loss += loss.item()\n",
        "        if cnt % 6 == 5:    # print every 6 mini-batches\n",
        "            print('[%d, %5d] loss: %.3f' %(epoch + 1, cnt + 1, running_loss / 6))\n",
        "            running_loss = 0.0\n",
        "        cnt=cnt+1\n",
        "    \n",
        "        if epoch % 5 == 4:\n",
        "            for j in range (batch):\n",
        "                focus = torch.argmax(alphas[j])\n",
        "\n",
        "                if(alphas[j][focus] >= 0.5):\n",
        "                    argmax_more_than_half +=1\n",
        "                else:\n",
        "                    argmax_less_than_half +=1\n",
        "\n",
        "                if(focus == fore_idx[j] and predicted[j] == labels[j]):\n",
        "                    focus_true_pred_true += 1\n",
        "\n",
        "                elif(focus != fore_idx[j] and predicted[j] == labels[j]):\n",
        "                    focus_false_pred_true +=1\n",
        "\n",
        "                elif(focus == fore_idx[j] and predicted[j] != labels[j]):\n",
        "                    focus_true_pred_false +=1\n",
        "\n",
        "                elif(focus != fore_idx[j] and predicted[j] != labels[j]):\n",
        "                    focus_false_pred_false +=1\n",
        "\n",
        "    if epoch % 5 == 4:\n",
        "        col1.append(epoch)\n",
        "        col2.append(argmax_more_than_half)\n",
        "        col3.append(argmax_less_than_half)\n",
        "        col4.append(focus_true_pred_true)\n",
        "        col5.append(focus_false_pred_true)\n",
        "        col6.append(focus_true_pred_false)\n",
        "        col7.append(focus_false_pred_false)\n",
        "\n",
        "    #************************************************************************\n",
        "        #testing data set  \n",
        "        with torch.no_grad():\n",
        "            focus_true_pred_true =0\n",
        "            focus_false_pred_true =0\n",
        "            focus_true_pred_false =0\n",
        "            focus_false_pred_false =0\n",
        "\n",
        "            argmax_more_than_half = 0\n",
        "            argmax_less_than_half =0\n",
        "            for data in test_loader:\n",
        "                inputs, labels , fore_idx = data\n",
        "                #inputs,labels,fore_idx = inputs.to(device),labels.to(device),fore_idx.to(device) \n",
        "#                 print(inputs.shtorch.save(where.state_dict(),\"model_epoch\"+str(epoch)+\".pt\")ape,labels.shape)\n",
        "                avg_inp,alphas = where(inputs)\n",
        "                outputs = what(avg_inp)\n",
        "                _, predicted = torch.max(outputs.data, 1)\n",
        "\n",
        "                for j in range (batch):\n",
        "                    focus = torch.argmax(alphas[j])\n",
        "\n",
        "                    if(alphas[j][focus] >= 0.5):\n",
        "                        argmax_more_than_half +=1\n",
        "                    else:\n",
        "                        argmax_less_than_half +=1\n",
        "\n",
        "                    if(focus == fore_idx[j] and predicted[j] == labels[j]):\n",
        "                        focus_true_pred_true += 1\n",
        "\n",
        "                    elif(focus != fore_idx[j] and predicted[j] == labels[j]):\n",
        "                        focus_false_pred_true +=1\n",
        "\n",
        "                    elif(focus == fore_idx[j] and predicted[j] != labels[j]):\n",
        "                        focus_true_pred_false +=1\n",
        "\n",
        "                    elif(focus != fore_idx[j] and predicted[j] != labels[j]):\n",
        "                        focus_false_pred_false +=1\n",
        "\n",
        "        col8.append(argmax_more_than_half)\n",
        "        col9.append(argmax_less_than_half)\n",
        "        col10.append(focus_true_pred_true)\n",
        "        col11.append(focus_false_pred_true)\n",
        "        col12.append(focus_true_pred_false)\n",
        "        col13.append(focus_false_pred_false)\n",
        "        \n",
        "        #torch.save(where.state_dict(),\"where_model_epoch\"+str(epoch)+\".pt\")\n",
        "        #torch.save(what.state_dict(),\"what_model_epoch\"+str(epoch)+\".pt\")\n",
        "    \n",
        "print('Finished Training')\n",
        "#torch.save(where.state_dict(),\"where_model_epoch\"+str(nos_epochs)+\".pt\")\n",
        "#torch.save(what.state_dict(),\"what_model_epoch\"+str(epoch)+\".pt\")\n"
      ],
      "execution_count": 25,
      "outputs": [
        {
          "output_type": "stream",
          "text": [
            "[1,     6] loss: 34.630\n",
            "[1,    12] loss: 5.125\n",
            "[2,     6] loss: 1.525\n",
            "[2,    12] loss: 1.353\n",
            "[3,     6] loss: 1.205\n",
            "[3,    12] loss: 0.992\n",
            "[4,     6] loss: 0.820\n",
            "[4,    12] loss: 0.736\n",
            "[5,     6] loss: 0.690\n",
            "[5,    12] loss: 0.619\n",
            "[6,     6] loss: 0.547\n",
            "[6,    12] loss: 0.582\n",
            "[7,     6] loss: 0.641\n",
            "[7,    12] loss: 0.584\n",
            "[8,     6] loss: 0.546\n",
            "[8,    12] loss: 0.503\n",
            "[9,     6] loss: 0.510\n",
            "[9,    12] loss: 0.477\n",
            "[10,     6] loss: 0.477\n",
            "[10,    12] loss: 0.473\n",
            "[11,     6] loss: 0.467\n",
            "[11,    12] loss: 0.470\n",
            "[12,     6] loss: 0.439\n",
            "[12,    12] loss: 0.452\n",
            "[13,     6] loss: 0.433\n",
            "[13,    12] loss: 0.456\n",
            "[14,     6] loss: 0.473\n",
            "[14,    12] loss: 0.469\n",
            "[15,     6] loss: 0.471\n",
            "[15,    12] loss: 0.485\n",
            "[16,     6] loss: 0.471\n",
            "[16,    12] loss: 0.473\n",
            "[17,     6] loss: 0.428\n",
            "[17,    12] loss: 0.468\n",
            "[18,     6] loss: 0.505\n",
            "[18,    12] loss: 0.462\n",
            "[19,     6] loss: 0.449\n",
            "[19,    12] loss: 0.443\n",
            "[20,     6] loss: 0.467\n",
            "[20,    12] loss: 0.469\n",
            "[21,     6] loss: 0.483\n",
            "[21,    12] loss: 0.434\n",
            "[22,     6] loss: 0.433\n",
            "[22,    12] loss: 0.410\n",
            "[23,     6] loss: 0.414\n",
            "[23,    12] loss: 0.421\n",
            "[24,     6] loss: 0.491\n",
            "[24,    12] loss: 0.457\n",
            "[25,     6] loss: 0.455\n",
            "[25,    12] loss: 0.435\n",
            "[26,     6] loss: 0.392\n",
            "[26,    12] loss: 0.447\n",
            "[27,     6] loss: 0.464\n",
            "[27,    12] loss: 0.525\n",
            "[28,     6] loss: 0.454\n",
            "[28,    12] loss: 0.442\n",
            "[29,     6] loss: 0.422\n",
            "[29,    12] loss: 0.398\n",
            "[30,     6] loss: 0.445\n",
            "[30,    12] loss: 0.409\n",
            "[31,     6] loss: 0.430\n",
            "[31,    12] loss: 0.390\n",
            "[32,     6] loss: 0.418\n",
            "[32,    12] loss: 0.462\n",
            "[33,     6] loss: 0.408\n",
            "[33,    12] loss: 0.397\n",
            "[34,     6] loss: 0.380\n",
            "[34,    12] loss: 0.397\n",
            "[35,     6] loss: 0.471\n",
            "[35,    12] loss: 0.406\n",
            "[36,     6] loss: 0.362\n",
            "[36,    12] loss: 0.402\n",
            "[37,     6] loss: 0.424\n",
            "[37,    12] loss: 0.434\n",
            "[38,     6] loss: 0.508\n",
            "[38,    12] loss: 0.457\n",
            "[39,     6] loss: 0.514\n",
            "[39,    12] loss: 0.462\n",
            "[40,     6] loss: 0.411\n",
            "[40,    12] loss: 0.399\n",
            "[41,     6] loss: 0.443\n",
            "[41,    12] loss: 0.381\n",
            "[42,     6] loss: 0.402\n",
            "[42,    12] loss: 0.453\n",
            "[43,     6] loss: 0.441\n",
            "[43,    12] loss: 0.426\n",
            "[44,     6] loss: 0.413\n",
            "[44,    12] loss: 0.375\n",
            "[45,     6] loss: 0.387\n",
            "[45,    12] loss: 0.420\n",
            "[46,     6] loss: 0.392\n",
            "[46,    12] loss: 0.446\n",
            "[47,     6] loss: 0.456\n",
            "[47,    12] loss: 0.410\n",
            "[48,     6] loss: 0.418\n",
            "[48,    12] loss: 0.361\n",
            "[49,     6] loss: 0.418\n",
            "[49,    12] loss: 0.365\n",
            "[50,     6] loss: 0.373\n",
            "[50,    12] loss: 0.389\n",
            "[51,     6] loss: 0.393\n",
            "[51,    12] loss: 0.440\n",
            "[52,     6] loss: 0.440\n",
            "[52,    12] loss: 0.402\n",
            "[53,     6] loss: 0.397\n",
            "[53,    12] loss: 0.356\n",
            "[54,     6] loss: 0.379\n",
            "[54,    12] loss: 0.364\n",
            "[55,     6] loss: 0.413\n",
            "[55,    12] loss: 0.361\n",
            "[56,     6] loss: 0.421\n",
            "[56,    12] loss: 0.601\n",
            "[57,     6] loss: 0.579\n",
            "[57,    12] loss: 0.468\n",
            "[58,     6] loss: 0.419\n",
            "[58,    12] loss: 0.411\n",
            "[59,     6] loss: 0.398\n",
            "[59,    12] loss: 0.398\n",
            "[60,     6] loss: 0.426\n",
            "[60,    12] loss: 0.431\n",
            "[61,     6] loss: 0.380\n",
            "[61,    12] loss: 0.391\n",
            "[62,     6] loss: 0.360\n",
            "[62,    12] loss: 0.372\n",
            "[63,     6] loss: 0.368\n",
            "[63,    12] loss: 0.366\n",
            "[64,     6] loss: 0.374\n",
            "[64,    12] loss: 0.366\n",
            "[65,     6] loss: 0.351\n",
            "[65,    12] loss: 0.364\n",
            "[66,     6] loss: 0.366\n",
            "[66,    12] loss: 0.363\n",
            "[67,     6] loss: 0.372\n",
            "[67,    12] loss: 0.397\n",
            "[68,     6] loss: 0.428\n",
            "[68,    12] loss: 0.450\n",
            "[69,     6] loss: 0.478\n",
            "[69,    12] loss: 0.515\n",
            "[70,     6] loss: 0.569\n",
            "[70,    12] loss: 0.400\n",
            "[71,     6] loss: 0.386\n",
            "[71,    12] loss: 0.396\n",
            "[72,     6] loss: 0.365\n",
            "[72,    12] loss: 0.344\n",
            "[73,     6] loss: 0.374\n",
            "[73,    12] loss: 0.379\n",
            "[74,     6] loss: 0.400\n",
            "[74,    12] loss: 0.466\n",
            "[75,     6] loss: 0.399\n",
            "[75,    12] loss: 0.377\n",
            "[76,     6] loss: 0.344\n",
            "[76,    12] loss: 0.358\n",
            "[77,     6] loss: 0.350\n",
            "[77,    12] loss: 0.369\n",
            "[78,     6] loss: 0.427\n",
            "[78,    12] loss: 0.414\n",
            "[79,     6] loss: 0.422\n",
            "[79,    12] loss: 0.400\n",
            "[80,     6] loss: 0.383\n",
            "[80,    12] loss: 0.373\n",
            "[81,     6] loss: 0.365\n",
            "[81,    12] loss: 0.380\n",
            "[82,     6] loss: 0.376\n",
            "[82,    12] loss: 0.380\n",
            "[83,     6] loss: 0.386\n",
            "[83,    12] loss: 0.368\n",
            "[84,     6] loss: 0.381\n",
            "[84,    12] loss: 0.364\n",
            "[85,     6] loss: 0.347\n",
            "[85,    12] loss: 0.345\n",
            "[86,     6] loss: 0.331\n",
            "[86,    12] loss: 0.360\n",
            "[87,     6] loss: 0.344\n",
            "[87,    12] loss: 0.387\n",
            "[88,     6] loss: 0.384\n",
            "[88,    12] loss: 0.336\n",
            "[89,     6] loss: 0.349\n",
            "[89,    12] loss: 0.424\n",
            "[90,     6] loss: 0.404\n",
            "[90,    12] loss: 0.425\n",
            "[91,     6] loss: 0.392\n",
            "[91,    12] loss: 0.421\n",
            "[92,     6] loss: 0.380\n",
            "[92,    12] loss: 0.331\n",
            "[93,     6] loss: 0.347\n",
            "[93,    12] loss: 0.330\n",
            "[94,     6] loss: 0.384\n",
            "[94,    12] loss: 0.356\n",
            "[95,     6] loss: 0.369\n",
            "[95,    12] loss: 0.380\n",
            "[96,     6] loss: 0.366\n",
            "[96,    12] loss: 0.377\n",
            "[97,     6] loss: 0.354\n",
            "[97,    12] loss: 0.339\n",
            "[98,     6] loss: 0.330\n",
            "[98,    12] loss: 0.359\n",
            "[99,     6] loss: 0.355\n",
            "[99,    12] loss: 0.347\n",
            "[100,     6] loss: 0.368\n",
            "[100,    12] loss: 0.324\n",
            "[101,     6] loss: 0.359\n",
            "[101,    12] loss: 0.359\n",
            "[102,     6] loss: 0.377\n",
            "[102,    12] loss: 0.373\n",
            "[103,     6] loss: 0.378\n",
            "[103,    12] loss: 0.367\n",
            "[104,     6] loss: 0.354\n",
            "[104,    12] loss: 0.355\n",
            "[105,     6] loss: 0.360\n",
            "[105,    12] loss: 0.321\n",
            "[106,     6] loss: 0.360\n",
            "[106,    12] loss: 0.403\n",
            "[107,     6] loss: 0.415\n",
            "[107,    12] loss: 0.360\n",
            "[108,     6] loss: 0.336\n",
            "[108,    12] loss: 0.357\n",
            "[109,     6] loss: 0.353\n",
            "[109,    12] loss: 0.356\n",
            "[110,     6] loss: 0.423\n",
            "[110,    12] loss: 0.370\n",
            "[111,     6] loss: 0.391\n",
            "[111,    12] loss: 0.331\n",
            "[112,     6] loss: 0.364\n",
            "[112,    12] loss: 0.357\n",
            "[113,     6] loss: 0.360\n",
            "[113,    12] loss: 0.372\n",
            "[114,     6] loss: 0.460\n",
            "[114,    12] loss: 0.575\n",
            "[115,     6] loss: 0.748\n",
            "[115,    12] loss: 0.634\n",
            "[116,     6] loss: 3.090\n",
            "[116,    12] loss: 1.943\n",
            "[117,     6] loss: 1.034\n",
            "[117,    12] loss: 0.516\n",
            "[118,     6] loss: 0.440\n",
            "[118,    12] loss: 0.396\n",
            "[119,     6] loss: 0.480\n",
            "[119,    12] loss: 0.380\n",
            "[120,     6] loss: 0.401\n",
            "[120,    12] loss: 0.349\n",
            "[121,     6] loss: 0.367\n",
            "[121,    12] loss: 0.368\n",
            "[122,     6] loss: 0.437\n",
            "[122,    12] loss: 0.375\n",
            "[123,     6] loss: 0.403\n",
            "[123,    12] loss: 0.375\n",
            "[124,     6] loss: 0.371\n",
            "[124,    12] loss: 0.391\n",
            "[125,     6] loss: 0.461\n",
            "[125,    12] loss: 0.376\n",
            "[126,     6] loss: 0.381\n",
            "[126,    12] loss: 0.344\n",
            "[127,     6] loss: 0.338\n",
            "[127,    12] loss: 0.362\n",
            "[128,     6] loss: 0.347\n",
            "[128,    12] loss: 0.331\n",
            "[129,     6] loss: 0.335\n",
            "[129,    12] loss: 0.357\n",
            "[130,     6] loss: 0.350\n",
            "[130,    12] loss: 0.361\n",
            "[131,     6] loss: 0.339\n",
            "[131,    12] loss: 0.360\n",
            "[132,     6] loss: 0.348\n",
            "[132,    12] loss: 0.368\n",
            "[133,     6] loss: 0.349\n",
            "[133,    12] loss: 0.364\n",
            "[134,     6] loss: 0.375\n",
            "[134,    12] loss: 0.433\n",
            "[135,     6] loss: 0.366\n",
            "[135,    12] loss: 0.384\n",
            "[136,     6] loss: 0.384\n",
            "[136,    12] loss: 0.348\n",
            "[137,     6] loss: 0.358\n",
            "[137,    12] loss: 0.324\n",
            "[138,     6] loss: 0.334\n",
            "[138,    12] loss: 0.336\n",
            "[139,     6] loss: 0.370\n",
            "[139,    12] loss: 0.345\n",
            "[140,     6] loss: 0.330\n",
            "[140,    12] loss: 0.362\n",
            "[141,     6] loss: 0.351\n",
            "[141,    12] loss: 0.333\n",
            "[142,     6] loss: 0.326\n",
            "[142,    12] loss: 0.330\n",
            "[143,     6] loss: 0.332\n",
            "[143,    12] loss: 0.338\n",
            "[144,     6] loss: 0.346\n",
            "[144,    12] loss: 0.371\n",
            "[145,     6] loss: 0.347\n",
            "[145,    12] loss: 0.422\n",
            "[146,     6] loss: 0.455\n",
            "[146,    12] loss: 0.363\n",
            "[147,     6] loss: 0.344\n",
            "[147,    12] loss: 0.353\n",
            "[148,     6] loss: 0.379\n",
            "[148,    12] loss: 0.339\n",
            "[149,     6] loss: 0.342\n",
            "[149,    12] loss: 0.347\n",
            "[150,     6] loss: 0.336\n",
            "[150,    12] loss: 0.338\n",
            "Finished Training\n"
          ],
          "name": "stdout"
        }
      ]
    },
    {
      "cell_type": "code",
      "metadata": {
        "id": "UvP97PKnr0T5"
      },
      "source": [
        "columns = [\"epochs\", \"argmax > 0.5\" ,\"argmax < 0.5\", \"focus_true_pred_true\", \"focus_false_pred_true\", \"focus_true_pred_false\", \"focus_false_pred_false\" ]\n",
        "df_train = pd.DataFrame()\n",
        "df_test = pd.DataFrame()\n",
        "df_train[columns[0]] = col1\n",
        "df_train[columns[1]] = col2\n",
        "df_train[columns[2]] = col3\n",
        "df_train[columns[3]] = col4\n",
        "df_train[columns[4]] = col5\n",
        "df_train[columns[5]] = col6\n",
        "df_train[columns[6]] = col7\n",
        "\n",
        "df_test[columns[0]] = col1\n",
        "df_test[columns[1]] = col8\n",
        "df_test[columns[2]] = col9\n",
        "df_test[columns[3]] = col10\n",
        "df_test[columns[4]] = col11\n",
        "df_test[columns[5]] = col12\n",
        "df_test[columns[6]] = col13"
      ],
      "execution_count": 26,
      "outputs": []
    },
    {
      "cell_type": "code",
      "metadata": {
        "id": "0hAVV2I5r0T7",
        "scrolled": false,
        "colab": {
          "base_uri": "https://localhost:8080/",
          "height": 1000
        },
        "outputId": "ca9bcaf2-c997-4e9d-ce15-0bd1e7e4fc8f"
      },
      "source": [
        "df_train"
      ],
      "execution_count": 27,
      "outputs": [
        {
          "output_type": "execute_result",
          "data": {
            "text/html": [
              "<div>\n",
              "<style scoped>\n",
              "    .dataframe tbody tr th:only-of-type {\n",
              "        vertical-align: middle;\n",
              "    }\n",
              "\n",
              "    .dataframe tbody tr th {\n",
              "        vertical-align: top;\n",
              "    }\n",
              "\n",
              "    .dataframe thead th {\n",
              "        text-align: right;\n",
              "    }\n",
              "</style>\n",
              "<table border=\"1\" class=\"dataframe\">\n",
              "  <thead>\n",
              "    <tr style=\"text-align: right;\">\n",
              "      <th></th>\n",
              "      <th>epochs</th>\n",
              "      <th>argmax &gt; 0.5</th>\n",
              "      <th>argmax &lt; 0.5</th>\n",
              "      <th>focus_true_pred_true</th>\n",
              "      <th>focus_false_pred_true</th>\n",
              "      <th>focus_true_pred_false</th>\n",
              "      <th>focus_false_pred_false</th>\n",
              "    </tr>\n",
              "  </thead>\n",
              "  <tbody>\n",
              "    <tr>\n",
              "      <th>0</th>\n",
              "      <td>0</td>\n",
              "      <td>0</td>\n",
              "      <td>3000</td>\n",
              "      <td>493</td>\n",
              "      <td>0</td>\n",
              "      <td>505</td>\n",
              "      <td>2002</td>\n",
              "    </tr>\n",
              "    <tr>\n",
              "      <th>1</th>\n",
              "      <td>4</td>\n",
              "      <td>0</td>\n",
              "      <td>3000</td>\n",
              "      <td>896</td>\n",
              "      <td>1212</td>\n",
              "      <td>103</td>\n",
              "      <td>789</td>\n",
              "    </tr>\n",
              "    <tr>\n",
              "      <th>2</th>\n",
              "      <td>9</td>\n",
              "      <td>0</td>\n",
              "      <td>3000</td>\n",
              "      <td>937</td>\n",
              "      <td>1386</td>\n",
              "      <td>62</td>\n",
              "      <td>615</td>\n",
              "    </tr>\n",
              "    <tr>\n",
              "      <th>3</th>\n",
              "      <td>14</td>\n",
              "      <td>0</td>\n",
              "      <td>3000</td>\n",
              "      <td>928</td>\n",
              "      <td>1381</td>\n",
              "      <td>71</td>\n",
              "      <td>620</td>\n",
              "    </tr>\n",
              "    <tr>\n",
              "      <th>4</th>\n",
              "      <td>19</td>\n",
              "      <td>0</td>\n",
              "      <td>3000</td>\n",
              "      <td>948</td>\n",
              "      <td>1390</td>\n",
              "      <td>51</td>\n",
              "      <td>611</td>\n",
              "    </tr>\n",
              "    <tr>\n",
              "      <th>5</th>\n",
              "      <td>24</td>\n",
              "      <td>0</td>\n",
              "      <td>3000</td>\n",
              "      <td>959</td>\n",
              "      <td>1421</td>\n",
              "      <td>39</td>\n",
              "      <td>581</td>\n",
              "    </tr>\n",
              "    <tr>\n",
              "      <th>6</th>\n",
              "      <td>29</td>\n",
              "      <td>0</td>\n",
              "      <td>3000</td>\n",
              "      <td>957</td>\n",
              "      <td>1448</td>\n",
              "      <td>41</td>\n",
              "      <td>554</td>\n",
              "    </tr>\n",
              "    <tr>\n",
              "      <th>7</th>\n",
              "      <td>34</td>\n",
              "      <td>0</td>\n",
              "      <td>3000</td>\n",
              "      <td>955</td>\n",
              "      <td>1423</td>\n",
              "      <td>43</td>\n",
              "      <td>579</td>\n",
              "    </tr>\n",
              "    <tr>\n",
              "      <th>8</th>\n",
              "      <td>39</td>\n",
              "      <td>0</td>\n",
              "      <td>3000</td>\n",
              "      <td>965</td>\n",
              "      <td>1493</td>\n",
              "      <td>33</td>\n",
              "      <td>509</td>\n",
              "    </tr>\n",
              "    <tr>\n",
              "      <th>9</th>\n",
              "      <td>44</td>\n",
              "      <td>0</td>\n",
              "      <td>3000</td>\n",
              "      <td>971</td>\n",
              "      <td>1483</td>\n",
              "      <td>27</td>\n",
              "      <td>519</td>\n",
              "    </tr>\n",
              "    <tr>\n",
              "      <th>10</th>\n",
              "      <td>49</td>\n",
              "      <td>0</td>\n",
              "      <td>3000</td>\n",
              "      <td>958</td>\n",
              "      <td>1515</td>\n",
              "      <td>40</td>\n",
              "      <td>487</td>\n",
              "    </tr>\n",
              "    <tr>\n",
              "      <th>11</th>\n",
              "      <td>54</td>\n",
              "      <td>0</td>\n",
              "      <td>3000</td>\n",
              "      <td>966</td>\n",
              "      <td>1509</td>\n",
              "      <td>32</td>\n",
              "      <td>493</td>\n",
              "    </tr>\n",
              "    <tr>\n",
              "      <th>12</th>\n",
              "      <td>59</td>\n",
              "      <td>0</td>\n",
              "      <td>3000</td>\n",
              "      <td>964</td>\n",
              "      <td>1454</td>\n",
              "      <td>34</td>\n",
              "      <td>548</td>\n",
              "    </tr>\n",
              "    <tr>\n",
              "      <th>13</th>\n",
              "      <td>64</td>\n",
              "      <td>0</td>\n",
              "      <td>3000</td>\n",
              "      <td>972</td>\n",
              "      <td>1563</td>\n",
              "      <td>26</td>\n",
              "      <td>439</td>\n",
              "    </tr>\n",
              "    <tr>\n",
              "      <th>14</th>\n",
              "      <td>69</td>\n",
              "      <td>0</td>\n",
              "      <td>3000</td>\n",
              "      <td>952</td>\n",
              "      <td>1428</td>\n",
              "      <td>46</td>\n",
              "      <td>574</td>\n",
              "    </tr>\n",
              "    <tr>\n",
              "      <th>15</th>\n",
              "      <td>74</td>\n",
              "      <td>0</td>\n",
              "      <td>3000</td>\n",
              "      <td>963</td>\n",
              "      <td>1517</td>\n",
              "      <td>35</td>\n",
              "      <td>485</td>\n",
              "    </tr>\n",
              "    <tr>\n",
              "      <th>16</th>\n",
              "      <td>79</td>\n",
              "      <td>0</td>\n",
              "      <td>3000</td>\n",
              "      <td>976</td>\n",
              "      <td>1513</td>\n",
              "      <td>22</td>\n",
              "      <td>489</td>\n",
              "    </tr>\n",
              "    <tr>\n",
              "      <th>17</th>\n",
              "      <td>84</td>\n",
              "      <td>0</td>\n",
              "      <td>3000</td>\n",
              "      <td>976</td>\n",
              "      <td>1570</td>\n",
              "      <td>22</td>\n",
              "      <td>432</td>\n",
              "    </tr>\n",
              "    <tr>\n",
              "      <th>18</th>\n",
              "      <td>89</td>\n",
              "      <td>0</td>\n",
              "      <td>3000</td>\n",
              "      <td>965</td>\n",
              "      <td>1469</td>\n",
              "      <td>33</td>\n",
              "      <td>533</td>\n",
              "    </tr>\n",
              "    <tr>\n",
              "      <th>19</th>\n",
              "      <td>94</td>\n",
              "      <td>0</td>\n",
              "      <td>3000</td>\n",
              "      <td>968</td>\n",
              "      <td>1565</td>\n",
              "      <td>29</td>\n",
              "      <td>438</td>\n",
              "    </tr>\n",
              "    <tr>\n",
              "      <th>20</th>\n",
              "      <td>99</td>\n",
              "      <td>0</td>\n",
              "      <td>3000</td>\n",
              "      <td>973</td>\n",
              "      <td>1582</td>\n",
              "      <td>23</td>\n",
              "      <td>422</td>\n",
              "    </tr>\n",
              "    <tr>\n",
              "      <th>21</th>\n",
              "      <td>104</td>\n",
              "      <td>0</td>\n",
              "      <td>3000</td>\n",
              "      <td>975</td>\n",
              "      <td>1574</td>\n",
              "      <td>21</td>\n",
              "      <td>430</td>\n",
              "    </tr>\n",
              "    <tr>\n",
              "      <th>22</th>\n",
              "      <td>109</td>\n",
              "      <td>0</td>\n",
              "      <td>3000</td>\n",
              "      <td>958</td>\n",
              "      <td>1519</td>\n",
              "      <td>38</td>\n",
              "      <td>485</td>\n",
              "    </tr>\n",
              "    <tr>\n",
              "      <th>23</th>\n",
              "      <td>114</td>\n",
              "      <td>0</td>\n",
              "      <td>3000</td>\n",
              "      <td>901</td>\n",
              "      <td>1232</td>\n",
              "      <td>97</td>\n",
              "      <td>770</td>\n",
              "    </tr>\n",
              "    <tr>\n",
              "      <th>24</th>\n",
              "      <td>119</td>\n",
              "      <td>0</td>\n",
              "      <td>3000</td>\n",
              "      <td>963</td>\n",
              "      <td>1560</td>\n",
              "      <td>35</td>\n",
              "      <td>442</td>\n",
              "    </tr>\n",
              "    <tr>\n",
              "      <th>25</th>\n",
              "      <td>124</td>\n",
              "      <td>0</td>\n",
              "      <td>3000</td>\n",
              "      <td>969</td>\n",
              "      <td>1465</td>\n",
              "      <td>29</td>\n",
              "      <td>537</td>\n",
              "    </tr>\n",
              "    <tr>\n",
              "      <th>26</th>\n",
              "      <td>129</td>\n",
              "      <td>0</td>\n",
              "      <td>3000</td>\n",
              "      <td>965</td>\n",
              "      <td>1562</td>\n",
              "      <td>33</td>\n",
              "      <td>440</td>\n",
              "    </tr>\n",
              "    <tr>\n",
              "      <th>27</th>\n",
              "      <td>134</td>\n",
              "      <td>0</td>\n",
              "      <td>3000</td>\n",
              "      <td>964</td>\n",
              "      <td>1541</td>\n",
              "      <td>34</td>\n",
              "      <td>461</td>\n",
              "    </tr>\n",
              "    <tr>\n",
              "      <th>28</th>\n",
              "      <td>139</td>\n",
              "      <td>0</td>\n",
              "      <td>3000</td>\n",
              "      <td>974</td>\n",
              "      <td>1577</td>\n",
              "      <td>22</td>\n",
              "      <td>427</td>\n",
              "    </tr>\n",
              "    <tr>\n",
              "      <th>29</th>\n",
              "      <td>144</td>\n",
              "      <td>0</td>\n",
              "      <td>3000</td>\n",
              "      <td>955</td>\n",
              "      <td>1553</td>\n",
              "      <td>41</td>\n",
              "      <td>451</td>\n",
              "    </tr>\n",
              "    <tr>\n",
              "      <th>30</th>\n",
              "      <td>149</td>\n",
              "      <td>0</td>\n",
              "      <td>3000</td>\n",
              "      <td>973</td>\n",
              "      <td>1583</td>\n",
              "      <td>23</td>\n",
              "      <td>421</td>\n",
              "    </tr>\n",
              "  </tbody>\n",
              "</table>\n",
              "</div>"
            ],
            "text/plain": [
              "    epochs  argmax > 0.5  ...  focus_true_pred_false  focus_false_pred_false\n",
              "0        0             0  ...                    505                    2002\n",
              "1        4             0  ...                    103                     789\n",
              "2        9             0  ...                     62                     615\n",
              "3       14             0  ...                     71                     620\n",
              "4       19             0  ...                     51                     611\n",
              "5       24             0  ...                     39                     581\n",
              "6       29             0  ...                     41                     554\n",
              "7       34             0  ...                     43                     579\n",
              "8       39             0  ...                     33                     509\n",
              "9       44             0  ...                     27                     519\n",
              "10      49             0  ...                     40                     487\n",
              "11      54             0  ...                     32                     493\n",
              "12      59             0  ...                     34                     548\n",
              "13      64             0  ...                     26                     439\n",
              "14      69             0  ...                     46                     574\n",
              "15      74             0  ...                     35                     485\n",
              "16      79             0  ...                     22                     489\n",
              "17      84             0  ...                     22                     432\n",
              "18      89             0  ...                     33                     533\n",
              "19      94             0  ...                     29                     438\n",
              "20      99             0  ...                     23                     422\n",
              "21     104             0  ...                     21                     430\n",
              "22     109             0  ...                     38                     485\n",
              "23     114             0  ...                     97                     770\n",
              "24     119             0  ...                     35                     442\n",
              "25     124             0  ...                     29                     537\n",
              "26     129             0  ...                     33                     440\n",
              "27     134             0  ...                     34                     461\n",
              "28     139             0  ...                     22                     427\n",
              "29     144             0  ...                     41                     451\n",
              "30     149             0  ...                     23                     421\n",
              "\n",
              "[31 rows x 7 columns]"
            ]
          },
          "metadata": {
            "tags": []
          },
          "execution_count": 27
        }
      ]
    },
    {
      "cell_type": "code",
      "metadata": {
        "id": "s-ZXousDr0T-",
        "colab": {
          "base_uri": "https://localhost:8080/",
          "height": 573
        },
        "outputId": "771c79af-28ae-44b4-89c3-0f12eb38976b"
      },
      "source": [
        "plt.plot(col1,col2, label='argmax > 0.5')\n",
        "plt.plot(col1,col3, label='argmax < 0.5')\n",
        "\n",
        "plt.legend(loc='center left', bbox_to_anchor=(1, 0.5))\n",
        "plt.xlabel(\"epochs\")\n",
        "plt.ylabel(\"training data\")\n",
        "plt.title(\"On Training set\")\n",
        "plt.show()\n",
        "\n",
        "plt.plot(col1,col4, label =\"focus_true_pred_true \")\n",
        "plt.plot(col1,col5, label =\"focus_false_pred_true \")\n",
        "plt.plot(col1,col6, label =\"focus_true_pred_false \")\n",
        "plt.plot(col1,col7, label =\"focus_false_pred_false \")\n",
        "plt.title(\"On Training set\")\n",
        "plt.legend(loc='center left', bbox_to_anchor=(1, 0.5))\n",
        "plt.xlabel(\"epochs\")\n",
        "plt.ylabel(\"training data\")\n",
        "plt.savefig(\"dist_4_train.png\",bbox_inches=\"tight\")\n",
        "plt.savefig(\"dist_4_train.pdf\",bbox_inches=\"tight\")\n",
        "plt.show()"
      ],
      "execution_count": 28,
      "outputs": [
        {
          "output_type": "display_data",
          "data": {
            "image/png": "[encoded data removed]",
            "text/plain": [
              "<Figure size 432x288 with 1 Axes>"
            ]
          },
          "metadata": {
            "tags": [],
            "needs_background": "light"
          }
        },
        {
          "output_type": "display_data",
          "data": {
            "image/png": "[encoded data removed]",
            "text/plain": [
              "<Figure size 432x288 with 1 Axes>"
            ]
          },
          "metadata": {
            "tags": [],
            "needs_background": "light"
          }
        }
      ]
    },
    {
      "cell_type": "code",
      "metadata": {
        "id": "LQip8h8jr0UA",
        "scrolled": true,
        "colab": {
          "base_uri": "https://localhost:8080/",
          "height": 1000
        },
        "outputId": "da849458-d1cf-4bf4-b5e6-6387b654c7f3"
      },
      "source": [
        "df_test"
      ],
      "execution_count": 29,
      "outputs": [
        {
          "output_type": "execute_result",
          "data": {
            "text/html": [
              "<div>\n",
              "<style scoped>\n",
              "    .dataframe tbody tr th:only-of-type {\n",
              "        vertical-align: middle;\n",
              "    }\n",
              "\n",
              "    .dataframe tbody tr th {\n",
              "        vertical-align: top;\n",
              "    }\n",
              "\n",
              "    .dataframe thead th {\n",
              "        text-align: right;\n",
              "    }\n",
              "</style>\n",
              "<table border=\"1\" class=\"dataframe\">\n",
              "  <thead>\n",
              "    <tr style=\"text-align: right;\">\n",
              "      <th></th>\n",
              "      <th>epochs</th>\n",
              "      <th>argmax &gt; 0.5</th>\n",
              "      <th>argmax &lt; 0.5</th>\n",
              "      <th>focus_true_pred_true</th>\n",
              "      <th>focus_false_pred_true</th>\n",
              "      <th>focus_true_pred_false</th>\n",
              "      <th>focus_false_pred_false</th>\n",
              "    </tr>\n",
              "  </thead>\n",
              "  <tbody>\n",
              "    <tr>\n",
              "      <th>0</th>\n",
              "      <td>0</td>\n",
              "      <td>0</td>\n",
              "      <td>1000</td>\n",
              "      <td>175</td>\n",
              "      <td>0</td>\n",
              "      <td>157</td>\n",
              "      <td>668</td>\n",
              "    </tr>\n",
              "    <tr>\n",
              "      <th>1</th>\n",
              "      <td>4</td>\n",
              "      <td>0</td>\n",
              "      <td>1000</td>\n",
              "      <td>318</td>\n",
              "      <td>472</td>\n",
              "      <td>14</td>\n",
              "      <td>196</td>\n",
              "    </tr>\n",
              "    <tr>\n",
              "      <th>2</th>\n",
              "      <td>9</td>\n",
              "      <td>0</td>\n",
              "      <td>1000</td>\n",
              "      <td>329</td>\n",
              "      <td>452</td>\n",
              "      <td>3</td>\n",
              "      <td>216</td>\n",
              "    </tr>\n",
              "    <tr>\n",
              "      <th>3</th>\n",
              "      <td>14</td>\n",
              "      <td>0</td>\n",
              "      <td>1000</td>\n",
              "      <td>330</td>\n",
              "      <td>450</td>\n",
              "      <td>2</td>\n",
              "      <td>218</td>\n",
              "    </tr>\n",
              "    <tr>\n",
              "      <th>4</th>\n",
              "      <td>19</td>\n",
              "      <td>0</td>\n",
              "      <td>1000</td>\n",
              "      <td>325</td>\n",
              "      <td>469</td>\n",
              "      <td>7</td>\n",
              "      <td>199</td>\n",
              "    </tr>\n",
              "    <tr>\n",
              "      <th>5</th>\n",
              "      <td>24</td>\n",
              "      <td>0</td>\n",
              "      <td>1000</td>\n",
              "      <td>328</td>\n",
              "      <td>465</td>\n",
              "      <td>4</td>\n",
              "      <td>203</td>\n",
              "    </tr>\n",
              "    <tr>\n",
              "      <th>6</th>\n",
              "      <td>29</td>\n",
              "      <td>0</td>\n",
              "      <td>1000</td>\n",
              "      <td>303</td>\n",
              "      <td>482</td>\n",
              "      <td>29</td>\n",
              "      <td>186</td>\n",
              "    </tr>\n",
              "    <tr>\n",
              "      <th>7</th>\n",
              "      <td>34</td>\n",
              "      <td>0</td>\n",
              "      <td>1000</td>\n",
              "      <td>321</td>\n",
              "      <td>487</td>\n",
              "      <td>11</td>\n",
              "      <td>181</td>\n",
              "    </tr>\n",
              "    <tr>\n",
              "      <th>8</th>\n",
              "      <td>39</td>\n",
              "      <td>0</td>\n",
              "      <td>1000</td>\n",
              "      <td>323</td>\n",
              "      <td>482</td>\n",
              "      <td>9</td>\n",
              "      <td>186</td>\n",
              "    </tr>\n",
              "    <tr>\n",
              "      <th>9</th>\n",
              "      <td>44</td>\n",
              "      <td>0</td>\n",
              "      <td>1000</td>\n",
              "      <td>325</td>\n",
              "      <td>487</td>\n",
              "      <td>7</td>\n",
              "      <td>181</td>\n",
              "    </tr>\n",
              "    <tr>\n",
              "      <th>10</th>\n",
              "      <td>49</td>\n",
              "      <td>0</td>\n",
              "      <td>1000</td>\n",
              "      <td>319</td>\n",
              "      <td>482</td>\n",
              "      <td>13</td>\n",
              "      <td>186</td>\n",
              "    </tr>\n",
              "    <tr>\n",
              "      <th>11</th>\n",
              "      <td>54</td>\n",
              "      <td>0</td>\n",
              "      <td>1000</td>\n",
              "      <td>330</td>\n",
              "      <td>501</td>\n",
              "      <td>2</td>\n",
              "      <td>167</td>\n",
              "    </tr>\n",
              "    <tr>\n",
              "      <th>12</th>\n",
              "      <td>59</td>\n",
              "      <td>0</td>\n",
              "      <td>1000</td>\n",
              "      <td>324</td>\n",
              "      <td>498</td>\n",
              "      <td>8</td>\n",
              "      <td>170</td>\n",
              "    </tr>\n",
              "    <tr>\n",
              "      <th>13</th>\n",
              "      <td>64</td>\n",
              "      <td>0</td>\n",
              "      <td>1000</td>\n",
              "      <td>324</td>\n",
              "      <td>505</td>\n",
              "      <td>8</td>\n",
              "      <td>163</td>\n",
              "    </tr>\n",
              "    <tr>\n",
              "      <th>14</th>\n",
              "      <td>69</td>\n",
              "      <td>0</td>\n",
              "      <td>1000</td>\n",
              "      <td>308</td>\n",
              "      <td>491</td>\n",
              "      <td>24</td>\n",
              "      <td>177</td>\n",
              "    </tr>\n",
              "    <tr>\n",
              "      <th>15</th>\n",
              "      <td>74</td>\n",
              "      <td>0</td>\n",
              "      <td>1000</td>\n",
              "      <td>324</td>\n",
              "      <td>492</td>\n",
              "      <td>8</td>\n",
              "      <td>176</td>\n",
              "    </tr>\n",
              "    <tr>\n",
              "      <th>16</th>\n",
              "      <td>79</td>\n",
              "      <td>0</td>\n",
              "      <td>1000</td>\n",
              "      <td>311</td>\n",
              "      <td>496</td>\n",
              "      <td>21</td>\n",
              "      <td>172</td>\n",
              "    </tr>\n",
              "    <tr>\n",
              "      <th>17</th>\n",
              "      <td>84</td>\n",
              "      <td>0</td>\n",
              "      <td>1000</td>\n",
              "      <td>321</td>\n",
              "      <td>510</td>\n",
              "      <td>10</td>\n",
              "      <td>159</td>\n",
              "    </tr>\n",
              "    <tr>\n",
              "      <th>18</th>\n",
              "      <td>89</td>\n",
              "      <td>0</td>\n",
              "      <td>1000</td>\n",
              "      <td>320</td>\n",
              "      <td>507</td>\n",
              "      <td>11</td>\n",
              "      <td>162</td>\n",
              "    </tr>\n",
              "    <tr>\n",
              "      <th>19</th>\n",
              "      <td>94</td>\n",
              "      <td>0</td>\n",
              "      <td>1000</td>\n",
              "      <td>328</td>\n",
              "      <td>509</td>\n",
              "      <td>3</td>\n",
              "      <td>160</td>\n",
              "    </tr>\n",
              "    <tr>\n",
              "      <th>20</th>\n",
              "      <td>99</td>\n",
              "      <td>0</td>\n",
              "      <td>1000</td>\n",
              "      <td>317</td>\n",
              "      <td>525</td>\n",
              "      <td>14</td>\n",
              "      <td>144</td>\n",
              "    </tr>\n",
              "    <tr>\n",
              "      <th>21</th>\n",
              "      <td>104</td>\n",
              "      <td>0</td>\n",
              "      <td>1000</td>\n",
              "      <td>326</td>\n",
              "      <td>494</td>\n",
              "      <td>5</td>\n",
              "      <td>175</td>\n",
              "    </tr>\n",
              "    <tr>\n",
              "      <th>22</th>\n",
              "      <td>109</td>\n",
              "      <td>0</td>\n",
              "      <td>1000</td>\n",
              "      <td>331</td>\n",
              "      <td>478</td>\n",
              "      <td>0</td>\n",
              "      <td>191</td>\n",
              "    </tr>\n",
              "    <tr>\n",
              "      <th>23</th>\n",
              "      <td>114</td>\n",
              "      <td>0</td>\n",
              "      <td>1000</td>\n",
              "      <td>322</td>\n",
              "      <td>461</td>\n",
              "      <td>10</td>\n",
              "      <td>207</td>\n",
              "    </tr>\n",
              "    <tr>\n",
              "      <th>24</th>\n",
              "      <td>119</td>\n",
              "      <td>0</td>\n",
              "      <td>1000</td>\n",
              "      <td>328</td>\n",
              "      <td>508</td>\n",
              "      <td>3</td>\n",
              "      <td>161</td>\n",
              "    </tr>\n",
              "    <tr>\n",
              "      <th>25</th>\n",
              "      <td>124</td>\n",
              "      <td>0</td>\n",
              "      <td>1000</td>\n",
              "      <td>332</td>\n",
              "      <td>443</td>\n",
              "      <td>0</td>\n",
              "      <td>225</td>\n",
              "    </tr>\n",
              "    <tr>\n",
              "      <th>26</th>\n",
              "      <td>129</td>\n",
              "      <td>0</td>\n",
              "      <td>1000</td>\n",
              "      <td>312</td>\n",
              "      <td>520</td>\n",
              "      <td>19</td>\n",
              "      <td>149</td>\n",
              "    </tr>\n",
              "    <tr>\n",
              "      <th>27</th>\n",
              "      <td>134</td>\n",
              "      <td>0</td>\n",
              "      <td>1000</td>\n",
              "      <td>331</td>\n",
              "      <td>493</td>\n",
              "      <td>0</td>\n",
              "      <td>176</td>\n",
              "    </tr>\n",
              "    <tr>\n",
              "      <th>28</th>\n",
              "      <td>139</td>\n",
              "      <td>0</td>\n",
              "      <td>1000</td>\n",
              "      <td>331</td>\n",
              "      <td>484</td>\n",
              "      <td>0</td>\n",
              "      <td>185</td>\n",
              "    </tr>\n",
              "    <tr>\n",
              "      <th>29</th>\n",
              "      <td>144</td>\n",
              "      <td>0</td>\n",
              "      <td>1000</td>\n",
              "      <td>316</td>\n",
              "      <td>447</td>\n",
              "      <td>15</td>\n",
              "      <td>222</td>\n",
              "    </tr>\n",
              "    <tr>\n",
              "      <th>30</th>\n",
              "      <td>149</td>\n",
              "      <td>0</td>\n",
              "      <td>1000</td>\n",
              "      <td>331</td>\n",
              "      <td>461</td>\n",
              "      <td>0</td>\n",
              "      <td>208</td>\n",
              "    </tr>\n",
              "  </tbody>\n",
              "</table>\n",
              "</div>"
            ],
            "text/plain": [
              "    epochs  argmax > 0.5  ...  focus_true_pred_false  focus_false_pred_false\n",
              "0        0             0  ...                    157                     668\n",
              "1        4             0  ...                     14                     196\n",
              "2        9             0  ...                      3                     216\n",
              "3       14             0  ...                      2                     218\n",
              "4       19             0  ...                      7                     199\n",
              "5       24             0  ...                      4                     203\n",
              "6       29             0  ...                     29                     186\n",
              "7       34             0  ...                     11                     181\n",
              "8       39             0  ...                      9                     186\n",
              "9       44             0  ...                      7                     181\n",
              "10      49             0  ...                     13                     186\n",
              "11      54             0  ...                      2                     167\n",
              "12      59             0  ...                      8                     170\n",
              "13      64             0  ...                      8                     163\n",
              "14      69             0  ...                     24                     177\n",
              "15      74             0  ...                      8                     176\n",
              "16      79             0  ...                     21                     172\n",
              "17      84             0  ...                     10                     159\n",
              "18      89             0  ...                     11                     162\n",
              "19      94             0  ...                      3                     160\n",
              "20      99             0  ...                     14                     144\n",
              "21     104             0  ...                      5                     175\n",
              "22     109             0  ...                      0                     191\n",
              "23     114             0  ...                     10                     207\n",
              "24     119             0  ...                      3                     161\n",
              "25     124             0  ...                      0                     225\n",
              "26     129             0  ...                     19                     149\n",
              "27     134             0  ...                      0                     176\n",
              "28     139             0  ...                      0                     185\n",
              "29     144             0  ...                     15                     222\n",
              "30     149             0  ...                      0                     208\n",
              "\n",
              "[31 rows x 7 columns]"
            ]
          },
          "metadata": {
            "tags": []
          },
          "execution_count": 29
        }
      ]
    },
    {
      "cell_type": "code",
      "metadata": {
        "id": "oCJcmk19r0UD",
        "colab": {
          "base_uri": "https://localhost:8080/",
          "height": 573
        },
        "outputId": "1a79fe7d-2ab0-41d0-e175-a0fcbcfed42a"
      },
      "source": [
        "plt.plot(col1,col8, label='argmax > 0.5')\n",
        "plt.plot(col1,col9, label='argmax < 0.5')\n",
        "\n",
        "plt.legend(loc='center left', bbox_to_anchor=(1, 0.5))\n",
        "plt.xlabel(\"epochs\")\n",
        "plt.ylabel(\"Testing data\")\n",
        "plt.title(\"On Testing set\")\n",
        "plt.show()\n",
        "\n",
        "plt.plot(col1,col10, label =\"focus_true_pred_true \")\n",
        "plt.plot(col1,col11, label =\"focus_false_pred_true \")\n",
        "plt.plot(col1,col12, label =\"focus_true_pred_false \")\n",
        "plt.plot(col1,col13, label =\"focus_false_pred_false \")\n",
        "plt.title(\"On Testing set\")\n",
        "plt.legend(loc='center left', bbox_to_anchor=(1, 0.5))\n",
        "plt.xlabel(\"epochs\")\n",
        "plt.ylabel(\"Testing data\")\n",
        "plt.savefig(\"dist_4_test.png\",bbox_inches=\"tight\")\n",
        "plt.savefig(\"dist_4_test.pdf\",bbox_inches=\"tight\")\n",
        "plt.show()"
      ],
      "execution_count": 30,
      "outputs": [
        {
          "output_type": "display_data",
          "data": {
            "image/png": "[encoded data removed]",
            "text/plain": [
              "<Figure size 432x288 with 1 Axes>"
            ]
          },
          "metadata": {
            "tags": [],
            "needs_background": "light"
          }
        },
        {
          "output_type": "display_data",
          "data": {
            "image/png": "[encoded data removed]",
            "text/plain": [
              "<Figure size 432x288 with 1 Axes>"
            ]
          },
          "metadata": {
            "tags": [],
            "needs_background": "light"
          }
        }
      ]
    },
    {
      "cell_type": "code",
      "metadata": {
        "id": "wjKKoslK55jo"
      },
      "source": [
        "# where.state_dict()[\"linear1.weight\"][:]  = torch.Tensor(np.array([[ 0, -1]]))\r\n",
        "# where.state_dict()[\"linear1.bias\"][:] = torch.Tensor(np.array([0]))"
      ],
      "execution_count": 31,
      "outputs": []
    },
    {
      "cell_type": "code",
      "metadata": {
        "id": "YH_sdpkhr0UK",
        "colab": {
          "base_uri": "https://localhost:8080/"
        },
        "outputId": "34ee2668-3d72-4172-a75b-629f159e31a3"
      },
      "source": [
        "for param in where.named_parameters():\r\n",
        "  print(param)"
      ],
      "execution_count": 32,
      "outputs": [
        {
          "output_type": "stream",
          "text": [
            "('linear1.weight', Parameter containing:\n",
            "tensor([[-0.6150, -0.5244]], dtype=torch.float64, requires_grad=True))\n",
            "('linear1.bias', Parameter containing:\n",
            "tensor([0.1158], dtype=torch.float64, requires_grad=True))\n"
          ],
          "name": "stdout"
        }
      ]
    },
    {
      "cell_type": "code",
      "metadata": {
        "id": "6ANS5bw67RvG"
      },
      "source": [
        "# what.state_dict()[\"linear1.weight\"][:]  = torch.Tensor(np.array([[ 5,  0],\r\n",
        "#         [0,5],\r\n",
        "#         [ 0, 0]]))\r\n",
        "# what.state_dict()[\"linear1.bias\"][:] = torch.Tensor(np.array([0,  0, 0]))"
      ],
      "execution_count": 33,
      "outputs": []
    },
    {
      "cell_type": "code",
      "metadata": {
        "id": "j3dOF2b3fkgp"
      },
      "source": [
        "# for param in what.named_parameters():\r\n",
        "#   print(param)"
      ],
      "execution_count": 34,
      "outputs": []
    },
    {
      "cell_type": "code",
      "metadata": {
        "id": "EZk8Ve_3foPS"
      },
      "source": [
        "xx,yy= np.meshgrid(np.arange(1.4,3,0.03),np.arange(-3.5,8.5,0.03))\r\n",
        "X = np.concatenate((xx.reshape(-1,1),yy.reshape(-1,1)),axis=1)\r\n",
        "X = torch.Tensor(X).double()\r\n",
        "Y = where.helper(X)\r\n",
        "Y1 = what(X)"
      ],
      "execution_count": 35,
      "outputs": []
    },
    {
      "cell_type": "code",
      "metadata": {
        "id": "-d0ldqGnhMrZ",
        "colab": {
          "base_uri": "https://localhost:8080/"
        },
        "outputId": "9b6468a8-15fa-49b1-e633-fb71545b463f"
      },
      "source": [
        "X.shape,Y.shape"
      ],
      "execution_count": 36,
      "outputs": [
        {
          "output_type": "execute_result",
          "data": {
            "text/plain": [
              "(torch.Size([21600, 2]), torch.Size([21600, 1]))"
            ]
          },
          "metadata": {
            "tags": []
          },
          "execution_count": 36
        }
      ]
    },
    {
      "cell_type": "code",
      "metadata": {
        "id": "ybdSCa9mhUGp"
      },
      "source": [
        "X = X.detach().numpy()\r\n",
        "Y = Y[:,0].detach().numpy()"
      ],
      "execution_count": 37,
      "outputs": []
    },
    {
      "cell_type": "code",
      "metadata": {
        "id": "e5Mg9wiahXTt",
        "colab": {
          "base_uri": "https://localhost:8080/",
          "height": 392
        },
        "outputId": "c5b1f6df-f94f-4277-8eea-45b029bfc649"
      },
      "source": [
        "fig = plt.figure(figsize=(6,6))\r\n",
        "cs = plt.contourf(X[:,0].reshape(xx.shape),X[:,1].reshape(yy.shape),Y.reshape(xx.shape))\r\n",
        "plt.xlabel(\"X1\")\r\n",
        "plt.ylabel(\"X2\")\r\n",
        "fig.colorbar(cs)\r\n",
        "for i in range(7):\r\n",
        "    plt.scatter(x[idx[i],0],x[idx[i],1],label=\"class_\"+str(i))\r\n",
        "#plt.legend(loc='center left', bbox_to_anchor=(1, 0.5))\r\n",
        "plt.savefig(\"dist_4_fc.png\")#,bbox_inches='tight')\r\n",
        "plt.savefig(\"dist_4_fc.pdf\")"
      ],
      "execution_count": 38,
      "outputs": [
        {
          "output_type": "display_data",
          "data": {
            "image/png": "[encoded data removed]",
            "text/plain": [
              "<Figure size 432x432 with 2 Axes>"
            ]
          },
          "metadata": {
            "tags": [],
            "needs_background": "light"
          }
        }
      ]
    },
    {
      "cell_type": "code",
      "metadata": {
        "id": "BYTbfs7Thay0"
      },
      "source": [
        "Y1 = Y1.detach().numpy()\r\n",
        "Y1 = torch.softmax(torch.Tensor(Y1),dim=1)\r\n",
        "_,Z4= torch.max(Y1,1)\r\n",
        "Z1 = Y1[:,0]\r\n",
        "Z2 = Y1[:,1]\r\n",
        "#Z3 = Y1[:,2]"
      ],
      "execution_count": 39,
      "outputs": []
    },
    {
      "cell_type": "code",
      "metadata": {
        "id": "8kG2vKUPYaI7",
        "colab": {
          "base_uri": "https://localhost:8080/"
        },
        "outputId": "c9f2d71e-20d7-413b-86f1-87437825f551"
      },
      "source": [
        "np.unique(Z4)"
      ],
      "execution_count": 40,
      "outputs": [
        {
          "output_type": "execute_result",
          "data": {
            "text/plain": [
              "array([0, 1, 2, 3, 4, 5])"
            ]
          },
          "metadata": {
            "tags": []
          },
          "execution_count": 40
        }
      ]
    },
    {
      "cell_type": "code",
      "metadata": {
        "id": "1esFxcEMhiNw"
      },
      "source": [
        "#fig = plt.figure(figsize=(6,6))\r\n",
        "# plt.scatter(X[:,0],X[:,1],c=Z1)\r\n",
        "# plt.scatter(X[:,0],X[:,1],c=Z2)\r\n",
        "# plt.scatter(X[:,0],X[:,1],c=Z3)\r\n",
        "#cs = plt.contourf(X[:,0].reshape(xx.shape),X[:,1].reshape(yy.shape),Z1.reshape(xx.shape))\r\n",
        "# #plt.colorbar(cs)\r\n",
        "# cs = plt.contourf(X[:,0].reshape(xx.shape),X[:,1].reshape(yy.shape),Z2.reshape(xx.shape))\r\n",
        "# #plt.colorbar(cs)\r\n",
        "# cs = plt.contourf(X[:,0].reshape(xx.shape),X[:,1].reshape(yy.shape),Z3.reshape(xx.shape))\r\n",
        "#plt.colorbar(cs)\r\n",
        "# plt.xlabel(\"X1\")\r\n",
        "# plt.ylabel(\"X2\")\r\n",
        "#ax.view_init(60,100)\r\n",
        "#plt.savefig(\"non_interpretable_class_2d.pdf\",bbox_inches='tight')\r\n"
      ],
      "execution_count": 41,
      "outputs": []
    },
    {
      "cell_type": "code",
      "metadata": {
        "id": "2jRVEsBy9Rxc"
      },
      "source": [
        "avrg = []\r\n",
        "lbl = []\r\n",
        "with torch.no_grad():\r\n",
        "  for i, data in  enumerate(train_loader):\r\n",
        "          inputs , labels , fore_idx = data\r\n",
        "          avg_inp,alphas = where(inputs)\r\n",
        "          avrg.append(avg_inp)\r\n",
        "          lbl.append(labels.numpy())\r\n",
        "avrg= np.concatenate(avrg,axis=0)\r\n",
        "lbl = np.concatenate(lbl,axis=0)"
      ],
      "execution_count": 42,
      "outputs": []
    },
    {
      "cell_type": "code",
      "metadata": {
        "colab": {
          "base_uri": "https://localhost:8080/"
        },
        "id": "cHMs5u8EqfMd",
        "outputId": "cbc294c3-5794-4b4d-c1ad-b451db330a59"
      },
      "source": [
        "indices = []\r\n",
        "for i in range(6):\r\n",
        "    print(i,sum(lbl==i))\r\n",
        "    indices.append(lbl==i)"
      ],
      "execution_count": 43,
      "outputs": [
        {
          "output_type": "stream",
          "text": [
            "0 522\n",
            "1 492\n",
            "2 510\n",
            "3 473\n",
            "4 510\n",
            "5 493\n"
          ],
          "name": "stdout"
        }
      ]
    },
    {
      "cell_type": "code",
      "metadata": {
        "id": "IYMofwarmEE5",
        "colab": {
          "base_uri": "https://localhost:8080/",
          "height": 265
        },
        "outputId": "5bc3233e-8f69-4b9b-fc36-010231dac20b"
      },
      "source": [
        "cs = plt.contourf(X[:,0].reshape(xx.shape),X[:,1].reshape(yy.shape),Z4.reshape(xx.shape))\r\n",
        "for i in range(6):\r\n",
        "    plt.scatter(avrg[indices[i],0],avrg[indices[i],1],label=\"class_\"+str(i))\r\n",
        "# plt.legend(loc='center left', bbox_to_anchor=(1, 0.5))\r\n",
        "#plt.scatter(avrg[:,0],avrg[:,1],c=\"c\")\r\n",
        "plt.savefig(\"dist_4_db.png\",bbox_inches=\"tight\")\r\n",
        "plt.savefig(\"dist_4_db.pdf\",bbox_inches=\"tight\")"
      ],
      "execution_count": 44,
      "outputs": [
        {
          "output_type": "display_data",
          "data": {
            "image/png": "[encoded data removed]",
            "text/plain": [
              "<Figure size 432x288 with 1 Axes>"
            ]
          },
          "metadata": {
            "tags": [],
            "needs_background": "light"
          }
        }
      ]
    },
    {
      "cell_type": "code",
      "metadata": {
        "id": "gpyN2mafZ5Av"
      },
      "source": [
        "true = []\r\n",
        "pred = []\r\n",
        "acc= 0\r\n",
        "for i, data in  enumerate(train_loader):\r\n",
        "        inputs , labels , fore_idx = data\r\n",
        "        avg_inp,alphas = where(inputs)\r\n",
        "        outputs = what(avg_inp)\r\n",
        "        _, predicted = torch.max(outputs.data, 1)\r\n",
        "        true.append(labels)\r\n",
        "        pred.append(predicted)\r\n",
        "        acc+=sum(predicted == labels)"
      ],
      "execution_count": 45,
      "outputs": []
    },
    {
      "cell_type": "code",
      "metadata": {
        "id": "Ol7vxjD0bxYJ"
      },
      "source": [
        "true = np.concatenate(true,axis=0)\r\n",
        "pred = np.concatenate(pred,axis=0)"
      ],
      "execution_count": 46,
      "outputs": []
    },
    {
      "cell_type": "code",
      "metadata": {
        "id": "MR7LkXexbzEi",
        "colab": {
          "base_uri": "https://localhost:8080/"
        },
        "outputId": "f85e8ede-8292-4536-9b43-f2872f0247fc"
      },
      "source": [
        "from sklearn.metrics import confusion_matrix\r\n",
        "confusion_matrix(true,pred)"
      ],
      "execution_count": 47,
      "outputs": [
        {
          "output_type": "execute_result",
          "data": {
            "text/plain": [
              "array([[339,  58,   0,   0, 125,   0],\n",
              "       [ 49, 390,  32,   0,  21,   0],\n",
              "       [  0,  36, 321, 153,   0,   0],\n",
              "       [  0,   0,  51, 422,   0,   0],\n",
              "       [  1,   0,   0,   0, 509,   0],\n",
              "       [  0,   0,   0,   0,   0, 493]])"
            ]
          },
          "metadata": {
            "tags": []
          },
          "execution_count": 47
        }
      ]
    },
    {
      "cell_type": "code",
      "metadata": {
        "id": "HBbAemTR8wRY",
        "colab": {
          "base_uri": "https://localhost:8080/"
        },
        "outputId": "297f6a89-9327-4c86-cf6f-d8950be3c46e"
      },
      "source": [
        "sum(true==pred)/3000"
      ],
      "execution_count": 48,
      "outputs": [
        {
          "output_type": "execute_result",
          "data": {
            "text/plain": [
              "0.8246666666666667"
            ]
          },
          "metadata": {
            "tags": []
          },
          "execution_count": 48
        }
      ]
    }
  ]
}