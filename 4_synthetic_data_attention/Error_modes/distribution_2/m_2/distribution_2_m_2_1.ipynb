{
  "nbformat": 4,
  "nbformat_minor": 0,
  "metadata": {
    "accelerator": "GPU",
    "colab": {
      "name": "distribution_2_m_2.ipynb",
      "provenance": [],
      "collapsed_sections": [],
      "toc_visible": true
    },
    "kernelspec": {
      "display_name": "Python 3",
      "language": "python",
      "name": "python3"
    },
    "language_info": {
      "codemirror_mode": {
        "name": "ipython",
        "version": 3
      },
      "file_extension": ".py",
      "mimetype": "text/x-python",
      "name": "python",
      "nbconvert_exporter": "python",
      "pygments_lexer": "ipython3",
      "version": "3.6.5"
    }
  },
  "cells": [
    {
      "cell_type": "code",
      "metadata": {
        "colab": {
          "base_uri": "https://localhost:8080/"
        },
        "id": "N2_J4Rw2r0SQ",
        "outputId": "1ba37206-681d-491a-d931-6a8af17e59a5"
      },
      "source": [
        "import numpy as np\n",
        "import pandas as pd\n",
        "from matplotlib import pyplot as plt\n",
        "from tqdm import tqdm\n",
        "%matplotlib inline\n",
        "from torch.utils.data import Dataset, DataLoader\n",
        "import torch\n",
        "import torchvision\n",
        "\n",
        "import torch.nn as nn\n",
        "import torch.optim as optim\n",
        "from torch.nn import functional as F\n",
        "device = torch.device(\"cuda\" if torch.cuda.is_available() else \"cpu\")\n",
        "print(device)"
      ],
      "execution_count": 1,
      "outputs": [
        {
          "output_type": "stream",
          "text": [
            "cuda\n"
          ],
          "name": "stdout"
        }
      ]
    },
    {
      "cell_type": "markdown",
      "metadata": {
        "id": "F6fjud_Fr0Sa"
      },
      "source": [
        "# Generate dataset"
      ]
    },
    {
      "cell_type": "code",
      "metadata": {
        "colab": {
          "base_uri": "https://localhost:8080/"
        },
        "id": "CqdXHO0Cr0Sd",
        "outputId": "305ff47f-7ecd-498a-f79c-2b0b496abd17"
      },
      "source": [
        "y = np.random.randint(0,4,1200)\n",
        "idx= []\n",
        "for i in range(4):\n",
        "    print(i,sum(y==i))\n",
        "    idx.append(y==i)"
      ],
      "execution_count": 2,
      "outputs": [
        {
          "output_type": "stream",
          "text": [
            "0 290\n",
            "1 311\n",
            "2 313\n",
            "3 286\n"
          ],
          "name": "stdout"
        }
      ]
    },
    {
      "cell_type": "code",
      "metadata": {
        "id": "ddhXyODwr0Sk"
      },
      "source": [
        "x = np.zeros((1200,2))"
      ],
      "execution_count": 3,
      "outputs": []
    },
    {
      "cell_type": "code",
      "metadata": {
        "id": "DbWPELOH0ae4"
      },
      "source": [
        "\r\n",
        "\r\n",
        "x[idx[0],:] = np.random.uniform(low=[5,2],high=[6,4],size=(sum(idx[0]),2))\r\n",
        "\r\n",
        "x[idx[1],:] = np.random.uniform(low=[5,-3],high=[6,-5],size=(sum(idx[1]),2))\r\n",
        "\r\n",
        "x[idx[2],:] = np.random.uniform(low=[-2,0],high=[-3,-2],size=(sum(idx[2]),2))\r\n",
        "\r\n",
        "x[idx[3],:] = np.random.uniform(low=[1,-8],high=[2,5],size=(sum(idx[3]),2))"
      ],
      "execution_count": 4,
      "outputs": []
    },
    {
      "cell_type": "code",
      "metadata": {
        "id": "DyV3N2DIr0Sp"
      },
      "source": [
        "# x[idx[0],:] = np.random.multivariate_normal(mean = [5,5],cov=[[0.1,0],[0,0.1]],size=sum(idx[0]))\n",
        "\n",
        "# x[idx[1],:] = np.random.multivariate_normal(mean = [-6,7],cov=[[0.1,0],[0,0.1]],size=sum(idx[1]))\n",
        "\n",
        "# x[idx[2],:] = np.random.multivariate_normal(mean = [-5,-4],cov=[[0.1,0],[0,0.1]],size=sum(idx[2]))\n",
        "\n",
        "# x[idx[0],:] = np.random.multivariate_normal(mean = [5.5,4],cov=[[0.1,0],[0,0.1]],size=sum(idx[0]))\n",
        "\n",
        "# x[idx[1],:] = np.random.multivariate_normal(mean = [6,6.5],cov=[[0.1,0],[0,0.1]],size=sum(idx[1]))\n",
        "\n",
        "# x[idx[2],:] = np.random.multivariate_normal(mean = [4,6],cov=[[0.1,0],[0,0.1]],size=sum(idx[2]))\n",
        "\n",
        "# x[idx[3],:] = np.random.multivariate_normal(mean = [-1,0],cov=[[0.1,0],[0,0.1]],size=sum(idx[3]))\n",
        "\n",
        "\n",
        "# x[idx[4],:] = np.random.multivariate_normal(mean = [0,2],cov=[[0.1,0],[0,0.1]],size=sum(idx[4]))\n",
        "\n",
        "# x[idx[5],:] = np.random.multivariate_normal(mean = [1,0],cov=[[0.1,0],[0,0.1]],size=sum(idx[5]))\n",
        "\n",
        "# x[idx[6],:] = np.random.multivariate_normal(mean = [0,-1],cov=[[0.1,0],[0,0.1]],size=sum(idx[6]))\n",
        "\n",
        "# x[idx[7],:] = np.random.multivariate_normal(mean = [0,0],cov=[[0.1,0],[0,0.1]],size=sum(idx[7]))\n",
        "\n",
        "# x[idx[8],:] = np.random.multivariate_normal(mean = [-0.5,-0.5],cov=[[0.1,0],[0,0.1]],size=sum(idx[8]))\n",
        "\n",
        "# x[idx[9],:] = np.random.multivariate_normal(mean = [0.4,0.2],cov=[[0.1,0],[0,0.1]],size=sum(idx[9]))"
      ],
      "execution_count": 5,
      "outputs": []
    },
    {
      "cell_type": "code",
      "metadata": {
        "colab": {
          "base_uri": "https://localhost:8080/",
          "height": 265
        },
        "id": "hJ8Jm7YUr0St",
        "outputId": "ce682c87-c0a6-4b8b-e9a4-dc073dd7b85d"
      },
      "source": [
        "for i in range(4):\n",
        "    plt.scatter(x[idx[i],0],x[idx[i],1],label=\"class_\"+str(i))\n",
        "plt.legend(loc='center left', bbox_to_anchor=(1, 0.5))\n",
        "plt.savefig(\"type3_2_dist.png\",bbox_inches=\"tight\")\n",
        "plt.savefig(\"type3_2_dist.pdf\",bbox_inches=\"tight\")\n"
      ],
      "execution_count": 6,
      "outputs": [
        {
          "output_type": "display_data",
          "data": {
            "image/png": "[encoded data removed]",
            "text/plain": [
              "<Figure size 432x288 with 1 Axes>"
            ]
          },
          "metadata": {
            "tags": [],
            "needs_background": "light"
          }
        }
      ]
    },
    {
      "cell_type": "code",
      "metadata": {
        "id": "UfFHcZJOr0Sz"
      },
      "source": [
        "foreground_classes = {'class_0','class_1', 'class_2'}\n",
        "\n",
        "background_classes = {'class_3'}"
      ],
      "execution_count": 7,
      "outputs": []
    },
    {
      "cell_type": "code",
      "metadata": {
        "colab": {
          "base_uri": "https://localhost:8080/"
        },
        "id": "OplNpNQVr0S2",
        "outputId": "1de5e032-4a3b-4c50-9882-61e562691044"
      },
      "source": [
        "fg_class  = np.random.randint(0,3)\n",
        "fg_idx = np.random.randint(0,2) #m=2\n",
        "\n",
        "a = []\n",
        "for i in range(2): #m=2\n",
        "    if i == fg_idx:\n",
        "        b = np.random.choice(np.where(idx[fg_class]==True)[0],size=1)\n",
        "        a.append(x[b])\n",
        "        print(\"foreground \"+str(fg_class)+\" present at \" + str(fg_idx))\n",
        "    else:\n",
        "        bg_class = np.random.randint(3,4)\n",
        "        b = np.random.choice(np.where(idx[bg_class]==True)[0],size=1)\n",
        "        a.append(x[b])\n",
        "        print(\"background \"+str(bg_class)+\" present at \" + str(i))\n",
        "a = np.concatenate(a,axis=0)\n",
        "print(a.shape)\n",
        "\n",
        "print(fg_class , fg_idx)"
      ],
      "execution_count": 8,
      "outputs": [
        {
          "output_type": "stream",
          "text": [
            "foreground 0 present at 0\n",
            "background 3 present at 1\n",
            "(2, 2)\n",
            "0 0\n"
          ],
          "name": "stdout"
        }
      ]
    },
    {
      "cell_type": "code",
      "metadata": {
        "colab": {
          "base_uri": "https://localhost:8080/"
        },
        "id": "dwZVmmRBr0S8",
        "outputId": "26d3ee4c-c6e9-4b0a-f1b3-53c009f8a9de"
      },
      "source": [
        "a.shape"
      ],
      "execution_count": 9,
      "outputs": [
        {
          "output_type": "execute_result",
          "data": {
            "text/plain": [
              "(2, 2)"
            ]
          },
          "metadata": {
            "tags": []
          },
          "execution_count": 9
        }
      ]
    },
    {
      "cell_type": "code",
      "metadata": {
        "colab": {
          "base_uri": "https://localhost:8080/"
        },
        "id": "OoxzYI-ur0S_",
        "outputId": "1b34b48e-914d-435d-de51-0c35613c501e"
      },
      "source": [
        "np.reshape(a,(4,1))"
      ],
      "execution_count": 10,
      "outputs": [
        {
          "output_type": "execute_result",
          "data": {
            "text/plain": [
              "array([[ 5.48466698],\n",
              "       [ 2.58374544],\n",
              "       [ 1.91732177],\n",
              "       [-4.0364059 ]])"
            ]
          },
          "metadata": {
            "tags": []
          },
          "execution_count": 10
        }
      ]
    },
    {
      "cell_type": "code",
      "metadata": {
        "id": "jqbvfbwVr0TN"
      },
      "source": [
        "desired_num = 3000\n",
        "mosaic_list =[]\n",
        "mosaic_label = []\n",
        "fore_idx=[]\n",
        "for j in range(desired_num):\n",
        "    fg_class  = np.random.randint(0,3)\n",
        "    fg_idx = np.random.randint(0,2) #m=2\n",
        "    a = []\n",
        "    for i in range(2):  #m=2\n",
        "        if i == fg_idx:\n",
        "            b = np.random.choice(np.where(idx[fg_class]==True)[0],size=1)\n",
        "            a.append(x[b])\n",
        "#             print(\"foreground \"+str(fg_class)+\" present at \" + str(fg_idx))\n",
        "        else:\n",
        "            bg_class = np.random.randint(3,4)\n",
        "            b = np.random.choice(np.where(idx[bg_class]==True)[0],size=1)\n",
        "            a.append(x[b])\n",
        "#             print(\"background \"+str(bg_class)+\" present at \" + str(i))\n",
        "    a = np.concatenate(a,axis=0)\n",
        "    mosaic_list.append(np.reshape(a,(4,1)))\n",
        "    mosaic_label.append(fg_class)\n",
        "    fore_idx.append(fg_idx)"
      ],
      "execution_count": 11,
      "outputs": []
    },
    {
      "cell_type": "code",
      "metadata": {
        "id": "BOsFmWfMr0TR"
      },
      "source": [
        "mosaic_list = np.concatenate(mosaic_list,axis=1).T\n",
        "# print(mosaic_list)"
      ],
      "execution_count": 12,
      "outputs": []
    },
    {
      "cell_type": "code",
      "metadata": {
        "colab": {
          "base_uri": "https://localhost:8080/"
        },
        "id": "C2PnW7aQr0TT",
        "outputId": "c8e54adf-0283-48d1-ce34-b599d3acfb05"
      },
      "source": [
        "print(np.shape(mosaic_label))\n",
        "print(np.shape(fore_idx))"
      ],
      "execution_count": 13,
      "outputs": [
        {
          "output_type": "stream",
          "text": [
            "(3000,)\n",
            "(3000,)\n"
          ],
          "name": "stdout"
        }
      ]
    },
    {
      "cell_type": "code",
      "metadata": {
        "id": "yL0BRf8er0TX"
      },
      "source": [
        "class MosaicDataset(Dataset):\n",
        "  \"\"\"MosaicDataset dataset.\"\"\"\n",
        "\n",
        "  def __init__(self, mosaic_list, mosaic_label, fore_idx):\n",
        "    \"\"\"\n",
        "      Args:\n",
        "        csv_file (string): Path to the csv file with annotations.\n",
        "        root_dir (string): Directory with all the images.\n",
        "        transform (callable, optional): Optional transform to be applied\n",
        "            on a sample.\n",
        "    \"\"\"\n",
        "    self.mosaic = mosaic_list\n",
        "    self.label = mosaic_label\n",
        "    self.fore_idx = fore_idx\n",
        "\n",
        "  def __len__(self):\n",
        "    return len(self.label)\n",
        "\n",
        "  def __getitem__(self, idx):\n",
        "    return self.mosaic[idx] , self.label[idx], self.fore_idx[idx]\n",
        "\n",
        "batch = 250\n",
        "msd = MosaicDataset(mosaic_list, mosaic_label , fore_idx)\n",
        "train_loader = DataLoader( msd,batch_size= batch ,shuffle=True)"
      ],
      "execution_count": 14,
      "outputs": []
    },
    {
      "cell_type": "code",
      "metadata": {
        "id": "ZVRXgwwNr0Tb"
      },
      "source": [
        "class Wherenet(nn.Module):\n",
        "    def __init__(self):\n",
        "        super(Wherenet,self).__init__()\n",
        "        self.linear1 = nn.Linear(2,1)\n",
        "\n",
        "    def forward(self,z):\n",
        "        x = torch.zeros([batch,2],dtype=torch.float64)  #m=2\n",
        "        y = torch.zeros([batch,2], dtype=torch.float64)\n",
        "        #x,y = x.to(\"cuda\"),y.to(\"cuda\")\n",
        "        for i in range(2):  #m=9\n",
        "          x[:,i] = self.helper(z[:,2*i:2*i+2])[:,0]\n",
        "            #print(k[:,0].shape,x[:,i].shape)\n",
        "        x = F.softmax(x,dim=1)   # alphas\n",
        "        x1 = x[:,0]\n",
        "        for i in range(2): #m=2\n",
        "            x1 = x[:,i]          \n",
        "            #print()\n",
        "            y = y+torch.mul(x1[:,None],z[:,2*i:2*i+2])\n",
        "        return y , x \n",
        "\n",
        "    \n",
        "    def helper(self,x):\n",
        "        #x = F.relu(self.linear1(x))\n",
        "        #x = F.relu(self.linear2(x))\n",
        "        x = self.linear1(x)\n",
        "        return x\n",
        "\n",
        "    "
      ],
      "execution_count": 15,
      "outputs": []
    },
    {
      "cell_type": "code",
      "metadata": {
        "id": "f-Ek05Kxr0Te"
      },
      "source": [
        "trainiter = iter(train_loader)\n",
        "input1,labels1,index1 = trainiter.next()\n",
        "\n"
      ],
      "execution_count": 16,
      "outputs": []
    },
    {
      "cell_type": "code",
      "metadata": {
        "colab": {
          "base_uri": "https://localhost:8080/"
        },
        "id": "SxEmWZI6r0Ti",
        "outputId": "0536d9d4-3cf7-4e19-c86f-b6cc7138c104"
      },
      "source": [
        "where = Wherenet().double()\n",
        "where = where\n",
        "out_where,alphas = where(input1)\n",
        "out_where.shape,alphas.shape"
      ],
      "execution_count": 17,
      "outputs": [
        {
          "output_type": "execute_result",
          "data": {
            "text/plain": [
              "(torch.Size([250, 2]), torch.Size([250, 2]))"
            ]
          },
          "metadata": {
            "tags": []
          },
          "execution_count": 17
        }
      ]
    },
    {
      "cell_type": "code",
      "metadata": {
        "id": "5_XeIUk0r0Tl"
      },
      "source": [
        "class Whatnet(nn.Module):\n",
        "    def __init__(self):\n",
        "        super(Whatnet,self).__init__()\n",
        "        self.linear1 = nn.Linear(2,3)\n",
        "        #self.linear2 = nn.Linear(4,3)\n",
        "#         self.linear3 = nn.Linear(8,3)\n",
        "    def forward(self,x):\n",
        "        #x = F.relu(self.linear1(x))\n",
        "        #x = F.relu(self.linear2(x))\n",
        "        x = self.linear1(x)\n",
        "        return x"
      ],
      "execution_count": 18,
      "outputs": []
    },
    {
      "cell_type": "code",
      "metadata": {
        "id": "l35i9bIlr0Tp"
      },
      "source": [
        "what = Whatnet().double()\n",
        "# what(out_where)"
      ],
      "execution_count": 19,
      "outputs": []
    },
    {
      "cell_type": "code",
      "metadata": {
        "id": "tMEoCLo1r0Tt"
      },
      "source": [
        "test_data_required = 1000\n",
        "mosaic_list_test =[]\n",
        "mosaic_label_test = []\n",
        "fore_idx_test=[]\n",
        "for j in range(test_data_required):\n",
        "    fg_class  = np.random.randint(0,3)\n",
        "    fg_idx = np.random.randint(0,2)  #m=2\n",
        "    a = []\n",
        "    for i in range(2): #m=2\n",
        "        if i == fg_idx:\n",
        "            b = np.random.choice(np.where(idx[fg_class]==True)[0],size=1)\n",
        "            a.append(x[b])\n",
        "#             print(\"foreground \"+str(fg_class)+\" present at \" + str(fg_idx))\n",
        "        else:\n",
        "            bg_class = np.random.randint(3,4)\n",
        "            b = np.random.choice(np.where(idx[bg_class]==True)[0],size=1)\n",
        "            a.append(x[b])\n",
        "#             print(\"background \"+str(bg_class)+\" present at \" + str(i))\n",
        "    a = np.concatenate(a,axis=0)\n",
        "    mosaic_list_test.append(np.reshape(a,(4,1)))\n",
        "    mosaic_label_test.append(fg_class)\n",
        "    fore_idx_test.append(fg_idx)"
      ],
      "execution_count": 20,
      "outputs": []
    },
    {
      "cell_type": "code",
      "metadata": {
        "colab": {
          "base_uri": "https://localhost:8080/"
        },
        "id": "2Naetxvbr0Tw",
        "outputId": "3afb83e0-3e55-493f-ffaa-0ab3da86b76d"
      },
      "source": [
        "mosaic_list_test = np.concatenate(mosaic_list_test,axis=1).T\n",
        "print(mosaic_list_test.shape)"
      ],
      "execution_count": 21,
      "outputs": [
        {
          "output_type": "stream",
          "text": [
            "(1000, 4)\n"
          ],
          "name": "stdout"
        }
      ]
    },
    {
      "cell_type": "code",
      "metadata": {
        "id": "Os4KxqrFr0Tz"
      },
      "source": [
        "test_data = MosaicDataset(mosaic_list_test,mosaic_label_test,fore_idx_test)\n",
        "test_loader = DataLoader( test_data,batch_size= batch ,shuffle=False)"
      ],
      "execution_count": 22,
      "outputs": []
    },
    {
      "cell_type": "code",
      "metadata": {
        "colab": {
          "base_uri": "https://localhost:8080/"
        },
        "id": "pPQY-Wpcr0T2",
        "scrolled": true,
        "outputId": "03432327-eab2-4293-a8be-b11280386ec4"
      },
      "source": [
        "\n",
        "focus_true_pred_true =0\n",
        "focus_false_pred_true =0\n",
        "focus_true_pred_false =0\n",
        "focus_false_pred_false =0\n",
        "\n",
        "argmax_more_than_half = 0\n",
        "argmax_less_than_half =0\n",
        "\n",
        "col1=[]\n",
        "col2=[]\n",
        "col3=[]\n",
        "col4=[]\n",
        "col5=[]\n",
        "col6=[]\n",
        "col7=[]\n",
        "col8=[]\n",
        "col9=[]\n",
        "col10=[]\n",
        "col11=[]\n",
        "col12=[]\n",
        "col13=[]\n",
        "\n",
        "criterion = nn.CrossEntropyLoss()\n",
        "optimizer_where = optim.SGD(where.parameters(), lr=0.01, momentum=0.9)\n",
        "optimizer_what = optim.SGD(what.parameters(), lr=0.01, momentum=0.9)\n",
        "\n",
        "nos_epochs = 100\n",
        "\n",
        "train_loss=[]\n",
        "test_loss =[]\n",
        "train_acc = []\n",
        "test_acc = []\n",
        "for epoch in range(nos_epochs):  # loop over the dataset multiple times\n",
        "\n",
        "    focus_true_pred_true =0\n",
        "    focus_false_pred_true =0\n",
        "    focus_true_pred_false =0\n",
        "    focus_false_pred_false =0\n",
        "\n",
        "    argmax_more_than_half = 0\n",
        "    argmax_less_than_half =0\n",
        "\n",
        "    running_loss = 0.0\n",
        "    cnt=0\n",
        "\n",
        "    iteration = desired_num // batch\n",
        "\n",
        "    #training data set\n",
        "\n",
        "    for i, data in  enumerate(train_loader):\n",
        "        inputs , labels , fore_idx = data\n",
        "        #inputs,labels,fore_idx = inputs.to(device),labels.to(device),fore_idx.to(device)\n",
        "        # zero the parameter gradients\n",
        "\n",
        "        optimizer_what.zero_grad()\n",
        "        optimizer_where.zero_grad()\n",
        "        \n",
        "        \n",
        "        avg_inp,alphas = where(inputs)\n",
        "        \n",
        "        outputs = what(avg_inp)\n",
        "        \n",
        "        _, predicted = torch.max(outputs.data, 1)\n",
        "        \n",
        "        loss = criterion(outputs, labels) \n",
        "        loss.backward() \n",
        "        \n",
        "        optimizer_what.step()\n",
        "        optimizer_where.step() \n",
        "        \n",
        "\n",
        "        running_loss += loss.item()\n",
        "        if cnt % 6 == 5:    # print every 6 mini-batches\n",
        "            print('[%d, %5d] loss: %.3f' %(epoch + 1, cnt + 1, running_loss / 6))\n",
        "            running_loss = 0.0\n",
        "        cnt=cnt+1\n",
        "    \n",
        "        if epoch % 5 == 4:\n",
        "            for j in range (batch):\n",
        "                focus = torch.argmax(alphas[j])\n",
        "\n",
        "                if(alphas[j][focus] >= 0.5):\n",
        "                    argmax_more_than_half +=1\n",
        "                else:\n",
        "                    argmax_less_than_half +=1\n",
        "\n",
        "                if(focus == fore_idx[j] and predicted[j] == labels[j]):\n",
        "                    focus_true_pred_true += 1\n",
        "\n",
        "                elif(focus != fore_idx[j] and predicted[j] == labels[j]):\n",
        "                    focus_false_pred_true +=1\n",
        "\n",
        "                elif(focus == fore_idx[j] and predicted[j] != labels[j]):\n",
        "                    focus_true_pred_false +=1\n",
        "\n",
        "                elif(focus != fore_idx[j] and predicted[j] != labels[j]):\n",
        "                    focus_false_pred_false +=1\n",
        "\n",
        "    if epoch % 5 == 4:\n",
        "        col1.append(epoch)\n",
        "        col2.append(argmax_more_than_half)\n",
        "        col3.append(argmax_less_than_half)\n",
        "        col4.append(focus_true_pred_true)\n",
        "        col5.append(focus_false_pred_true)\n",
        "        col6.append(focus_true_pred_false)\n",
        "        col7.append(focus_false_pred_false)\n",
        "\n",
        "    #************************************************************************\n",
        "        #testing data set  \n",
        "        with torch.no_grad():\n",
        "            focus_true_pred_true =0\n",
        "            focus_false_pred_true =0\n",
        "            focus_true_pred_false =0\n",
        "            focus_false_pred_false =0\n",
        "\n",
        "            argmax_more_than_half = 0\n",
        "            argmax_less_than_half =0\n",
        "            for data in test_loader:\n",
        "                inputs, labels , fore_idx = data\n",
        "                #inputs,labels,fore_idx = inputs.to(device),labels.to(device),fore_idx.to(device) \n",
        "#                 print(inputs.shtorch.save(where.state_dict(),\"model_epoch\"+str(epoch)+\".pt\")ape,labels.shape)\n",
        "                avg_inp,alphas = where(inputs)\n",
        "                outputs = what(avg_inp)\n",
        "                _, predicted = torch.max(outputs.data, 1)\n",
        "\n",
        "                for j in range (batch):\n",
        "                    focus = torch.argmax(alphas[j])\n",
        "\n",
        "                    if(alphas[j][focus] >= 0.5):\n",
        "                        argmax_more_than_half +=1\n",
        "                    else:\n",
        "                        argmax_less_than_half +=1\n",
        "\n",
        "                    if(focus == fore_idx[j] and predicted[j] == labels[j]):\n",
        "                        focus_true_pred_true += 1\n",
        "\n",
        "                    elif(focus != fore_idx[j] and predicted[j] == labels[j]):\n",
        "                        focus_false_pred_true +=1\n",
        "\n",
        "                    elif(focus == fore_idx[j] and predicted[j] != labels[j]):\n",
        "                        focus_true_pred_false +=1\n",
        "\n",
        "                    elif(focus != fore_idx[j] and predicted[j] != labels[j]):\n",
        "                        focus_false_pred_false +=1\n",
        "\n",
        "        col8.append(argmax_more_than_half)\n",
        "        col9.append(argmax_less_than_half)\n",
        "        col10.append(focus_true_pred_true)\n",
        "        col11.append(focus_false_pred_true)\n",
        "        col12.append(focus_true_pred_false)\n",
        "        col13.append(focus_false_pred_false)\n",
        "        \n",
        "        #torch.save(where.state_dict(),\"where_model_epoch\"+str(epoch)+\".pt\")\n",
        "        #torch.save(what.state_dict(),\"what_model_epoch\"+str(epoch)+\".pt\")\n",
        "    \n",
        "print('Finished Training')\n",
        "#torch.save(where.state_dict(),\"where_model_epoch\"+str(nos_epochs)+\".pt\")\n",
        "#torch.save(what.state_dict(),\"what_model_epoch\"+str(epoch)+\".pt\")\n"
      ],
      "execution_count": 23,
      "outputs": [
        {
          "output_type": "stream",
          "text": [
            "[1,     6] loss: 1.735\n",
            "[1,    12] loss: 1.245\n",
            "[2,     6] loss: 0.808\n",
            "[2,    12] loss: 0.664\n",
            "[3,     6] loss: 0.577\n",
            "[3,    12] loss: 0.555\n",
            "[4,     6] loss: 0.506\n",
            "[4,    12] loss: 0.493\n",
            "[5,     6] loss: 0.485\n",
            "[5,    12] loss: 0.467\n",
            "[6,     6] loss: 0.470\n",
            "[6,    12] loss: 0.454\n",
            "[7,     6] loss: 0.446\n",
            "[7,    12] loss: 0.457\n",
            "[8,     6] loss: 0.444\n",
            "[8,    12] loss: 0.436\n",
            "[9,     6] loss: 0.415\n",
            "[9,    12] loss: 0.448\n",
            "[10,     6] loss: 0.433\n",
            "[10,    12] loss: 0.409\n",
            "[11,     6] loss: 0.409\n",
            "[11,    12] loss: 0.418\n",
            "[12,     6] loss: 0.407\n",
            "[12,    12] loss: 0.401\n",
            "[13,     6] loss: 0.403\n",
            "[13,    12] loss: 0.390\n",
            "[14,     6] loss: 0.394\n",
            "[14,    12] loss: 0.385\n",
            "[15,     6] loss: 0.369\n",
            "[15,    12] loss: 0.396\n",
            "[16,     6] loss: 0.377\n",
            "[16,    12] loss: 0.374\n",
            "[17,     6] loss: 0.375\n",
            "[17,    12] loss: 0.363\n",
            "[18,     6] loss: 0.356\n",
            "[18,    12] loss: 0.370\n",
            "[19,     6] loss: 0.351\n",
            "[19,    12] loss: 0.362\n",
            "[20,     6] loss: 0.344\n",
            "[20,    12] loss: 0.358\n",
            "[21,     6] loss: 0.357\n",
            "[21,    12] loss: 0.334\n",
            "[22,     6] loss: 0.331\n",
            "[22,    12] loss: 0.347\n",
            "[23,     6] loss: 0.325\n",
            "[23,    12] loss: 0.339\n",
            "[24,     6] loss: 0.324\n",
            "[24,    12] loss: 0.330\n",
            "[25,     6] loss: 0.322\n",
            "[25,    12] loss: 0.320\n",
            "[26,     6] loss: 0.309\n",
            "[26,    12] loss: 0.324\n",
            "[27,     6] loss: 0.320\n",
            "[27,    12] loss: 0.303\n",
            "[28,     6] loss: 0.311\n",
            "[28,    12] loss: 0.303\n",
            "[29,     6] loss: 0.302\n",
            "[29,    12] loss: 0.303\n",
            "[30,     6] loss: 0.289\n",
            "[30,    12] loss: 0.307\n",
            "[31,     6] loss: 0.300\n",
            "[31,    12] loss: 0.287\n",
            "[32,     6] loss: 0.287\n",
            "[32,    12] loss: 0.293\n",
            "[33,     6] loss: 0.293\n",
            "[33,    12] loss: 0.281\n",
            "[34,     6] loss: 0.287\n",
            "[34,    12] loss: 0.276\n",
            "[35,     6] loss: 0.276\n",
            "[35,    12] loss: 0.280\n",
            "[36,     6] loss: 0.278\n",
            "[36,    12] loss: 0.272\n",
            "[37,     6] loss: 0.275\n",
            "[37,    12] loss: 0.269\n",
            "[38,     6] loss: 0.270\n",
            "[38,    12] loss: 0.266\n",
            "[39,     6] loss: 0.271\n",
            "[39,    12] loss: 0.260\n",
            "[40,     6] loss: 0.259\n",
            "[40,    12] loss: 0.266\n",
            "[41,     6] loss: 0.261\n",
            "[41,    12] loss: 0.257\n",
            "[42,     6] loss: 0.254\n",
            "[42,    12] loss: 0.259\n",
            "[43,     6] loss: 0.261\n",
            "[43,    12] loss: 0.246\n",
            "[44,     6] loss: 0.243\n",
            "[44,    12] loss: 0.260\n",
            "[45,     6] loss: 0.244\n",
            "[45,    12] loss: 0.252\n",
            "[46,     6] loss: 0.245\n",
            "[46,    12] loss: 0.248\n",
            "[47,     6] loss: 0.250\n",
            "[47,    12] loss: 0.237\n",
            "[48,     6] loss: 0.252\n",
            "[48,    12] loss: 0.229\n",
            "[49,     6] loss: 0.242\n",
            "[49,    12] loss: 0.234\n",
            "[50,     6] loss: 0.234\n",
            "[50,    12] loss: 0.238\n",
            "[51,     6] loss: 0.233\n",
            "[51,    12] loss: 0.236\n",
            "[52,     6] loss: 0.234\n",
            "[52,    12] loss: 0.230\n",
            "[53,     6] loss: 0.235\n",
            "[53,    12] loss: 0.225\n",
            "[54,     6] loss: 0.231\n",
            "[54,    12] loss: 0.224\n",
            "[55,     6] loss: 0.229\n",
            "[55,    12] loss: 0.222\n",
            "[56,     6] loss: 0.222\n",
            "[56,    12] loss: 0.226\n",
            "[57,     6] loss: 0.218\n",
            "[57,    12] loss: 0.226\n",
            "[58,     6] loss: 0.228\n",
            "[58,    12] loss: 0.212\n",
            "[59,     6] loss: 0.209\n",
            "[59,    12] loss: 0.228\n",
            "[60,     6] loss: 0.217\n",
            "[60,    12] loss: 0.215\n",
            "[61,     6] loss: 0.214\n",
            "[61,    12] loss: 0.215\n",
            "[62,     6] loss: 0.207\n",
            "[62,    12] loss: 0.220\n",
            "[63,     6] loss: 0.214\n",
            "[63,    12] loss: 0.208\n",
            "[64,     6] loss: 0.206\n",
            "[64,    12] loss: 0.213\n",
            "[65,     6] loss: 0.214\n",
            "[65,    12] loss: 0.202\n",
            "[66,     6] loss: 0.204\n",
            "[66,    12] loss: 0.208\n",
            "[67,     6] loss: 0.211\n",
            "[67,    12] loss: 0.199\n",
            "[68,     6] loss: 0.201\n",
            "[68,    12] loss: 0.206\n",
            "[69,     6] loss: 0.206\n",
            "[69,    12] loss: 0.198\n",
            "[70,     6] loss: 0.203\n",
            "[70,    12] loss: 0.198\n",
            "[71,     6] loss: 0.206\n",
            "[71,    12] loss: 0.192\n",
            "[72,     6] loss: 0.207\n",
            "[72,    12] loss: 0.187\n",
            "[73,     6] loss: 0.200\n",
            "[73,    12] loss: 0.192\n",
            "[74,     6] loss: 0.195\n",
            "[74,    12] loss: 0.194\n",
            "[75,     6] loss: 0.193\n",
            "[75,    12] loss: 0.194\n",
            "[76,     6] loss: 0.191\n",
            "[76,    12] loss: 0.193\n",
            "[77,     6] loss: 0.193\n",
            "[77,    12] loss: 0.189\n",
            "[78,     6] loss: 0.190\n",
            "[78,    12] loss: 0.189\n",
            "[79,     6] loss: 0.185\n",
            "[79,    12] loss: 0.192\n",
            "[80,     6] loss: 0.184\n",
            "[80,    12] loss: 0.190\n",
            "[81,     6] loss: 0.186\n",
            "[81,    12] loss: 0.185\n",
            "[82,     6] loss: 0.174\n",
            "[82,    12] loss: 0.196\n",
            "[83,     6] loss: 0.186\n",
            "[83,    12] loss: 0.180\n",
            "[84,     6] loss: 0.179\n",
            "[84,    12] loss: 0.185\n",
            "[85,     6] loss: 0.180\n",
            "[85,    12] loss: 0.182\n",
            "[86,     6] loss: 0.181\n",
            "[86,    12] loss: 0.179\n",
            "[87,     6] loss: 0.187\n",
            "[87,    12] loss: 0.171\n",
            "[88,     6] loss: 0.177\n",
            "[88,    12] loss: 0.178\n",
            "[89,     6] loss: 0.175\n",
            "[89,    12] loss: 0.178\n",
            "[90,     6] loss: 0.168\n",
            "[90,    12] loss: 0.184\n",
            "[91,     6] loss: 0.178\n",
            "[91,    12] loss: 0.171\n",
            "[92,     6] loss: 0.178\n",
            "[92,    12] loss: 0.169\n",
            "[93,     6] loss: 0.172\n",
            "[93,    12] loss: 0.173\n",
            "[94,     6] loss: 0.172\n",
            "[94,    12] loss: 0.171\n",
            "[95,     6] loss: 0.170\n",
            "[95,    12] loss: 0.171\n",
            "[96,     6] loss: 0.166\n",
            "[96,    12] loss: 0.174\n",
            "[97,     6] loss: 0.163\n",
            "[97,    12] loss: 0.174\n",
            "[98,     6] loss: 0.163\n",
            "[98,    12] loss: 0.172\n",
            "[99,     6] loss: 0.165\n",
            "[99,    12] loss: 0.168\n",
            "[100,     6] loss: 0.165\n",
            "[100,    12] loss: 0.166\n",
            "Finished Training\n"
          ],
          "name": "stdout"
        }
      ]
    },
    {
      "cell_type": "code",
      "metadata": {
        "id": "UvP97PKnr0T5"
      },
      "source": [
        "columns = [\"epochs\", \"argmax > 0.5\" ,\"argmax < 0.5\", \"focus_true_pred_true\", \"focus_false_pred_true\", \"focus_true_pred_false\", \"focus_false_pred_false\" ]\n",
        "df_train = pd.DataFrame()\n",
        "df_test = pd.DataFrame()\n",
        "df_train[columns[0]] = col1\n",
        "df_train[columns[1]] = col2\n",
        "df_train[columns[2]] = col3\n",
        "df_train[columns[3]] = col4\n",
        "df_train[columns[4]] = col5\n",
        "df_train[columns[5]] = col6\n",
        "df_train[columns[6]] = col7\n",
        "\n",
        "df_test[columns[0]] = col1\n",
        "df_test[columns[1]] = col8\n",
        "df_test[columns[2]] = col9\n",
        "df_test[columns[3]] = col10\n",
        "df_test[columns[4]] = col11\n",
        "df_test[columns[5]] = col12\n",
        "df_test[columns[6]] = col13"
      ],
      "execution_count": 24,
      "outputs": []
    },
    {
      "cell_type": "code",
      "metadata": {
        "colab": {
          "base_uri": "https://localhost:8080/",
          "height": 686
        },
        "id": "0hAVV2I5r0T7",
        "scrolled": false,
        "outputId": "29a21d44-6c63-4f2d-8c35-1b3b18db4fa6"
      },
      "source": [
        "df_train"
      ],
      "execution_count": 25,
      "outputs": [
        {
          "output_type": "execute_result",
          "data": {
            "text/html": [
              "<div>\n",
              "<style scoped>\n",
              "    .dataframe tbody tr th:only-of-type {\n",
              "        vertical-align: middle;\n",
              "    }\n",
              "\n",
              "    .dataframe tbody tr th {\n",
              "        vertical-align: top;\n",
              "    }\n",
              "\n",
              "    .dataframe thead th {\n",
              "        text-align: right;\n",
              "    }\n",
              "</style>\n",
              "<table border=\"1\" class=\"dataframe\">\n",
              "  <thead>\n",
              "    <tr style=\"text-align: right;\">\n",
              "      <th></th>\n",
              "      <th>epochs</th>\n",
              "      <th>argmax &gt; 0.5</th>\n",
              "      <th>argmax &lt; 0.5</th>\n",
              "      <th>focus_true_pred_true</th>\n",
              "      <th>focus_false_pred_true</th>\n",
              "      <th>focus_true_pred_false</th>\n",
              "      <th>focus_false_pred_false</th>\n",
              "    </tr>\n",
              "  </thead>\n",
              "  <tbody>\n",
              "    <tr>\n",
              "      <th>0</th>\n",
              "      <td>4</td>\n",
              "      <td>3000</td>\n",
              "      <td>0</td>\n",
              "      <td>1109</td>\n",
              "      <td>1333</td>\n",
              "      <td>0</td>\n",
              "      <td>558</td>\n",
              "    </tr>\n",
              "    <tr>\n",
              "      <th>1</th>\n",
              "      <td>9</td>\n",
              "      <td>3000</td>\n",
              "      <td>0</td>\n",
              "      <td>1162</td>\n",
              "      <td>1372</td>\n",
              "      <td>0</td>\n",
              "      <td>466</td>\n",
              "    </tr>\n",
              "    <tr>\n",
              "      <th>2</th>\n",
              "      <td>14</td>\n",
              "      <td>3000</td>\n",
              "      <td>0</td>\n",
              "      <td>1182</td>\n",
              "      <td>1410</td>\n",
              "      <td>0</td>\n",
              "      <td>408</td>\n",
              "    </tr>\n",
              "    <tr>\n",
              "      <th>3</th>\n",
              "      <td>19</td>\n",
              "      <td>3000</td>\n",
              "      <td>0</td>\n",
              "      <td>1194</td>\n",
              "      <td>1448</td>\n",
              "      <td>0</td>\n",
              "      <td>358</td>\n",
              "    </tr>\n",
              "    <tr>\n",
              "      <th>4</th>\n",
              "      <td>24</td>\n",
              "      <td>3000</td>\n",
              "      <td>0</td>\n",
              "      <td>1191</td>\n",
              "      <td>1526</td>\n",
              "      <td>0</td>\n",
              "      <td>283</td>\n",
              "    </tr>\n",
              "    <tr>\n",
              "      <th>5</th>\n",
              "      <td>29</td>\n",
              "      <td>3000</td>\n",
              "      <td>0</td>\n",
              "      <td>1189</td>\n",
              "      <td>1567</td>\n",
              "      <td>0</td>\n",
              "      <td>244</td>\n",
              "    </tr>\n",
              "    <tr>\n",
              "      <th>6</th>\n",
              "      <td>34</td>\n",
              "      <td>3000</td>\n",
              "      <td>0</td>\n",
              "      <td>1202</td>\n",
              "      <td>1572</td>\n",
              "      <td>0</td>\n",
              "      <td>226</td>\n",
              "    </tr>\n",
              "    <tr>\n",
              "      <th>7</th>\n",
              "      <td>39</td>\n",
              "      <td>3000</td>\n",
              "      <td>0</td>\n",
              "      <td>1216</td>\n",
              "      <td>1561</td>\n",
              "      <td>0</td>\n",
              "      <td>223</td>\n",
              "    </tr>\n",
              "    <tr>\n",
              "      <th>8</th>\n",
              "      <td>44</td>\n",
              "      <td>3000</td>\n",
              "      <td>0</td>\n",
              "      <td>1241</td>\n",
              "      <td>1568</td>\n",
              "      <td>0</td>\n",
              "      <td>191</td>\n",
              "    </tr>\n",
              "    <tr>\n",
              "      <th>9</th>\n",
              "      <td>49</td>\n",
              "      <td>3000</td>\n",
              "      <td>0</td>\n",
              "      <td>1255</td>\n",
              "      <td>1565</td>\n",
              "      <td>0</td>\n",
              "      <td>180</td>\n",
              "    </tr>\n",
              "    <tr>\n",
              "      <th>10</th>\n",
              "      <td>54</td>\n",
              "      <td>3000</td>\n",
              "      <td>0</td>\n",
              "      <td>1278</td>\n",
              "      <td>1550</td>\n",
              "      <td>0</td>\n",
              "      <td>172</td>\n",
              "    </tr>\n",
              "    <tr>\n",
              "      <th>11</th>\n",
              "      <td>59</td>\n",
              "      <td>3000</td>\n",
              "      <td>0</td>\n",
              "      <td>1287</td>\n",
              "      <td>1555</td>\n",
              "      <td>0</td>\n",
              "      <td>158</td>\n",
              "    </tr>\n",
              "    <tr>\n",
              "      <th>12</th>\n",
              "      <td>64</td>\n",
              "      <td>3000</td>\n",
              "      <td>0</td>\n",
              "      <td>1301</td>\n",
              "      <td>1547</td>\n",
              "      <td>0</td>\n",
              "      <td>152</td>\n",
              "    </tr>\n",
              "    <tr>\n",
              "      <th>13</th>\n",
              "      <td>69</td>\n",
              "      <td>3000</td>\n",
              "      <td>0</td>\n",
              "      <td>1304</td>\n",
              "      <td>1567</td>\n",
              "      <td>0</td>\n",
              "      <td>129</td>\n",
              "    </tr>\n",
              "    <tr>\n",
              "      <th>14</th>\n",
              "      <td>74</td>\n",
              "      <td>3000</td>\n",
              "      <td>0</td>\n",
              "      <td>1304</td>\n",
              "      <td>1569</td>\n",
              "      <td>0</td>\n",
              "      <td>127</td>\n",
              "    </tr>\n",
              "    <tr>\n",
              "      <th>15</th>\n",
              "      <td>79</td>\n",
              "      <td>3000</td>\n",
              "      <td>0</td>\n",
              "      <td>1309</td>\n",
              "      <td>1566</td>\n",
              "      <td>0</td>\n",
              "      <td>125</td>\n",
              "    </tr>\n",
              "    <tr>\n",
              "      <th>16</th>\n",
              "      <td>84</td>\n",
              "      <td>3000</td>\n",
              "      <td>0</td>\n",
              "      <td>1317</td>\n",
              "      <td>1556</td>\n",
              "      <td>0</td>\n",
              "      <td>127</td>\n",
              "    </tr>\n",
              "    <tr>\n",
              "      <th>17</th>\n",
              "      <td>89</td>\n",
              "      <td>3000</td>\n",
              "      <td>0</td>\n",
              "      <td>1323</td>\n",
              "      <td>1561</td>\n",
              "      <td>0</td>\n",
              "      <td>116</td>\n",
              "    </tr>\n",
              "    <tr>\n",
              "      <th>18</th>\n",
              "      <td>94</td>\n",
              "      <td>3000</td>\n",
              "      <td>0</td>\n",
              "      <td>1330</td>\n",
              "      <td>1561</td>\n",
              "      <td>0</td>\n",
              "      <td>109</td>\n",
              "    </tr>\n",
              "    <tr>\n",
              "      <th>19</th>\n",
              "      <td>99</td>\n",
              "      <td>3000</td>\n",
              "      <td>0</td>\n",
              "      <td>1332</td>\n",
              "      <td>1564</td>\n",
              "      <td>0</td>\n",
              "      <td>104</td>\n",
              "    </tr>\n",
              "  </tbody>\n",
              "</table>\n",
              "</div>"
            ],
            "text/plain": [
              "    epochs  argmax > 0.5  ...  focus_true_pred_false  focus_false_pred_false\n",
              "0        4          3000  ...                      0                     558\n",
              "1        9          3000  ...                      0                     466\n",
              "2       14          3000  ...                      0                     408\n",
              "3       19          3000  ...                      0                     358\n",
              "4       24          3000  ...                      0                     283\n",
              "5       29          3000  ...                      0                     244\n",
              "6       34          3000  ...                      0                     226\n",
              "7       39          3000  ...                      0                     223\n",
              "8       44          3000  ...                      0                     191\n",
              "9       49          3000  ...                      0                     180\n",
              "10      54          3000  ...                      0                     172\n",
              "11      59          3000  ...                      0                     158\n",
              "12      64          3000  ...                      0                     152\n",
              "13      69          3000  ...                      0                     129\n",
              "14      74          3000  ...                      0                     127\n",
              "15      79          3000  ...                      0                     125\n",
              "16      84          3000  ...                      0                     127\n",
              "17      89          3000  ...                      0                     116\n",
              "18      94          3000  ...                      0                     109\n",
              "19      99          3000  ...                      0                     104\n",
              "\n",
              "[20 rows x 7 columns]"
            ]
          },
          "metadata": {
            "tags": []
          },
          "execution_count": 25
        }
      ]
    },
    {
      "cell_type": "code",
      "metadata": {
        "colab": {
          "base_uri": "https://localhost:8080/",
          "height": 573
        },
        "id": "s-ZXousDr0T-",
        "outputId": "f5da17ec-4d4d-4aef-cd0c-5b9f022d0928"
      },
      "source": [
        "plt.plot(col1,col2, label='argmax > 0.5')\n",
        "plt.plot(col1,col3, label='argmax < 0.5')\n",
        "\n",
        "plt.legend(loc='center left', bbox_to_anchor=(1, 0.5))\n",
        "plt.xlabel(\"epochs\")\n",
        "plt.ylabel(\"training data\")\n",
        "plt.title(\"On Training set\")\n",
        "plt.show()\n",
        "\n",
        "plt.plot(col1,col4, label =\"focus_true_pred_true \")\n",
        "plt.plot(col1,col5, label =\"focus_false_pred_true \")\n",
        "plt.plot(col1,col6, label =\"focus_true_pred_false \")\n",
        "plt.plot(col1,col7, label =\"focus_false_pred_false \")\n",
        "plt.title(\"On Training set\")\n",
        "plt.legend(loc='center left', bbox_to_anchor=(1, 0.5))\n",
        "plt.xlabel(\"epochs\")\n",
        "plt.ylabel(\"training data\")\n",
        "plt.savefig(\"linear_type3_21.png\",bbox_inches=\"tight\")\n",
        "plt.savefig(\"linear_type3_21.pdf\",bbox_inches=\"tight\")\n",
        "plt.show()"
      ],
      "execution_count": 26,
      "outputs": [
        {
          "output_type": "display_data",
          "data": {
            "image/png": "[encoded data removed]",
            "text/plain": [
              "<Figure size 432x288 with 1 Axes>"
            ]
          },
          "metadata": {
            "tags": [],
            "needs_background": "light"
          }
        },
        {
          "output_type": "display_data",
          "data": {
            "image/png": "[encoded data removed]",
            "text/plain": [
              "<Figure size 432x288 with 1 Axes>"
            ]
          },
          "metadata": {
            "tags": [],
            "needs_background": "light"
          }
        }
      ]
    },
    {
      "cell_type": "code",
      "metadata": {
        "colab": {
          "base_uri": "https://localhost:8080/",
          "height": 686
        },
        "id": "LQip8h8jr0UA",
        "scrolled": true,
        "outputId": "6ccff9ef-1580-4629-9a40-d1ff975673f3"
      },
      "source": [
        "df_test"
      ],
      "execution_count": 27,
      "outputs": [
        {
          "output_type": "execute_result",
          "data": {
            "text/html": [
              "<div>\n",
              "<style scoped>\n",
              "    .dataframe tbody tr th:only-of-type {\n",
              "        vertical-align: middle;\n",
              "    }\n",
              "\n",
              "    .dataframe tbody tr th {\n",
              "        vertical-align: top;\n",
              "    }\n",
              "\n",
              "    .dataframe thead th {\n",
              "        text-align: right;\n",
              "    }\n",
              "</style>\n",
              "<table border=\"1\" class=\"dataframe\">\n",
              "  <thead>\n",
              "    <tr style=\"text-align: right;\">\n",
              "      <th></th>\n",
              "      <th>epochs</th>\n",
              "      <th>argmax &gt; 0.5</th>\n",
              "      <th>argmax &lt; 0.5</th>\n",
              "      <th>focus_true_pred_true</th>\n",
              "      <th>focus_false_pred_true</th>\n",
              "      <th>focus_true_pred_false</th>\n",
              "      <th>focus_false_pred_false</th>\n",
              "    </tr>\n",
              "  </thead>\n",
              "  <tbody>\n",
              "    <tr>\n",
              "      <th>0</th>\n",
              "      <td>4</td>\n",
              "      <td>1000</td>\n",
              "      <td>0</td>\n",
              "      <td>375</td>\n",
              "      <td>429</td>\n",
              "      <td>0</td>\n",
              "      <td>196</td>\n",
              "    </tr>\n",
              "    <tr>\n",
              "      <th>1</th>\n",
              "      <td>9</td>\n",
              "      <td>1000</td>\n",
              "      <td>0</td>\n",
              "      <td>392</td>\n",
              "      <td>449</td>\n",
              "      <td>0</td>\n",
              "      <td>159</td>\n",
              "    </tr>\n",
              "    <tr>\n",
              "      <th>2</th>\n",
              "      <td>14</td>\n",
              "      <td>1000</td>\n",
              "      <td>0</td>\n",
              "      <td>396</td>\n",
              "      <td>464</td>\n",
              "      <td>0</td>\n",
              "      <td>140</td>\n",
              "    </tr>\n",
              "    <tr>\n",
              "      <th>3</th>\n",
              "      <td>19</td>\n",
              "      <td>1000</td>\n",
              "      <td>0</td>\n",
              "      <td>396</td>\n",
              "      <td>478</td>\n",
              "      <td>0</td>\n",
              "      <td>126</td>\n",
              "    </tr>\n",
              "    <tr>\n",
              "      <th>4</th>\n",
              "      <td>24</td>\n",
              "      <td>1000</td>\n",
              "      <td>0</td>\n",
              "      <td>396</td>\n",
              "      <td>513</td>\n",
              "      <td>0</td>\n",
              "      <td>91</td>\n",
              "    </tr>\n",
              "    <tr>\n",
              "      <th>5</th>\n",
              "      <td>29</td>\n",
              "      <td>1000</td>\n",
              "      <td>0</td>\n",
              "      <td>398</td>\n",
              "      <td>520</td>\n",
              "      <td>0</td>\n",
              "      <td>82</td>\n",
              "    </tr>\n",
              "    <tr>\n",
              "      <th>6</th>\n",
              "      <td>34</td>\n",
              "      <td>1000</td>\n",
              "      <td>0</td>\n",
              "      <td>399</td>\n",
              "      <td>530</td>\n",
              "      <td>0</td>\n",
              "      <td>71</td>\n",
              "    </tr>\n",
              "    <tr>\n",
              "      <th>7</th>\n",
              "      <td>39</td>\n",
              "      <td>1000</td>\n",
              "      <td>0</td>\n",
              "      <td>395</td>\n",
              "      <td>535</td>\n",
              "      <td>0</td>\n",
              "      <td>70</td>\n",
              "    </tr>\n",
              "    <tr>\n",
              "      <th>8</th>\n",
              "      <td>44</td>\n",
              "      <td>1000</td>\n",
              "      <td>0</td>\n",
              "      <td>402</td>\n",
              "      <td>536</td>\n",
              "      <td>0</td>\n",
              "      <td>62</td>\n",
              "    </tr>\n",
              "    <tr>\n",
              "      <th>9</th>\n",
              "      <td>49</td>\n",
              "      <td>1000</td>\n",
              "      <td>0</td>\n",
              "      <td>401</td>\n",
              "      <td>540</td>\n",
              "      <td>0</td>\n",
              "      <td>59</td>\n",
              "    </tr>\n",
              "    <tr>\n",
              "      <th>10</th>\n",
              "      <td>54</td>\n",
              "      <td>1000</td>\n",
              "      <td>0</td>\n",
              "      <td>403</td>\n",
              "      <td>538</td>\n",
              "      <td>0</td>\n",
              "      <td>59</td>\n",
              "    </tr>\n",
              "    <tr>\n",
              "      <th>11</th>\n",
              "      <td>59</td>\n",
              "      <td>1000</td>\n",
              "      <td>0</td>\n",
              "      <td>409</td>\n",
              "      <td>536</td>\n",
              "      <td>0</td>\n",
              "      <td>55</td>\n",
              "    </tr>\n",
              "    <tr>\n",
              "      <th>12</th>\n",
              "      <td>64</td>\n",
              "      <td>1000</td>\n",
              "      <td>0</td>\n",
              "      <td>409</td>\n",
              "      <td>536</td>\n",
              "      <td>0</td>\n",
              "      <td>55</td>\n",
              "    </tr>\n",
              "    <tr>\n",
              "      <th>13</th>\n",
              "      <td>69</td>\n",
              "      <td>1000</td>\n",
              "      <td>0</td>\n",
              "      <td>410</td>\n",
              "      <td>537</td>\n",
              "      <td>0</td>\n",
              "      <td>53</td>\n",
              "    </tr>\n",
              "    <tr>\n",
              "      <th>14</th>\n",
              "      <td>74</td>\n",
              "      <td>1000</td>\n",
              "      <td>0</td>\n",
              "      <td>416</td>\n",
              "      <td>538</td>\n",
              "      <td>0</td>\n",
              "      <td>46</td>\n",
              "    </tr>\n",
              "    <tr>\n",
              "      <th>15</th>\n",
              "      <td>79</td>\n",
              "      <td>1000</td>\n",
              "      <td>0</td>\n",
              "      <td>419</td>\n",
              "      <td>533</td>\n",
              "      <td>0</td>\n",
              "      <td>48</td>\n",
              "    </tr>\n",
              "    <tr>\n",
              "      <th>16</th>\n",
              "      <td>84</td>\n",
              "      <td>1000</td>\n",
              "      <td>0</td>\n",
              "      <td>419</td>\n",
              "      <td>535</td>\n",
              "      <td>0</td>\n",
              "      <td>46</td>\n",
              "    </tr>\n",
              "    <tr>\n",
              "      <th>17</th>\n",
              "      <td>89</td>\n",
              "      <td>1000</td>\n",
              "      <td>0</td>\n",
              "      <td>422</td>\n",
              "      <td>533</td>\n",
              "      <td>0</td>\n",
              "      <td>45</td>\n",
              "    </tr>\n",
              "    <tr>\n",
              "      <th>18</th>\n",
              "      <td>94</td>\n",
              "      <td>1000</td>\n",
              "      <td>0</td>\n",
              "      <td>425</td>\n",
              "      <td>535</td>\n",
              "      <td>0</td>\n",
              "      <td>40</td>\n",
              "    </tr>\n",
              "    <tr>\n",
              "      <th>19</th>\n",
              "      <td>99</td>\n",
              "      <td>1000</td>\n",
              "      <td>0</td>\n",
              "      <td>427</td>\n",
              "      <td>535</td>\n",
              "      <td>0</td>\n",
              "      <td>38</td>\n",
              "    </tr>\n",
              "  </tbody>\n",
              "</table>\n",
              "</div>"
            ],
            "text/plain": [
              "    epochs  argmax > 0.5  ...  focus_true_pred_false  focus_false_pred_false\n",
              "0        4          1000  ...                      0                     196\n",
              "1        9          1000  ...                      0                     159\n",
              "2       14          1000  ...                      0                     140\n",
              "3       19          1000  ...                      0                     126\n",
              "4       24          1000  ...                      0                      91\n",
              "5       29          1000  ...                      0                      82\n",
              "6       34          1000  ...                      0                      71\n",
              "7       39          1000  ...                      0                      70\n",
              "8       44          1000  ...                      0                      62\n",
              "9       49          1000  ...                      0                      59\n",
              "10      54          1000  ...                      0                      59\n",
              "11      59          1000  ...                      0                      55\n",
              "12      64          1000  ...                      0                      55\n",
              "13      69          1000  ...                      0                      53\n",
              "14      74          1000  ...                      0                      46\n",
              "15      79          1000  ...                      0                      48\n",
              "16      84          1000  ...                      0                      46\n",
              "17      89          1000  ...                      0                      45\n",
              "18      94          1000  ...                      0                      40\n",
              "19      99          1000  ...                      0                      38\n",
              "\n",
              "[20 rows x 7 columns]"
            ]
          },
          "metadata": {
            "tags": []
          },
          "execution_count": 27
        }
      ]
    },
    {
      "cell_type": "code",
      "metadata": {
        "id": "oCJcmk19r0UD",
        "colab": {
          "base_uri": "https://localhost:8080/",
          "height": 573
        },
        "outputId": "71bbbee0-eed0-4a9b-94a1-68565587d54d"
      },
      "source": [
        "plt.plot(col1,col8, label='argmax > 0.5')\n",
        "plt.plot(col1,col9, label='argmax < 0.5')\n",
        "\n",
        "plt.legend(loc='center left', bbox_to_anchor=(1, 0.5))\n",
        "plt.xlabel(\"epochs\")\n",
        "plt.ylabel(\"Testing data\")\n",
        "plt.title(\"On Testing set\")\n",
        "plt.show()\n",
        "\n",
        "plt.plot(col1,col10, label =\"focus_true_pred_true \")\n",
        "plt.plot(col1,col11, label =\"focus_false_pred_true \")\n",
        "plt.plot(col1,col12, label =\"focus_true_pred_false \")\n",
        "plt.plot(col1,col13, label =\"focus_false_pred_false \")\n",
        "plt.title(\"On Testing set\")\n",
        "plt.legend(loc='center left', bbox_to_anchor=(1, 0.5))\n",
        "plt.xlabel(\"epochs\")\n",
        "plt.ylabel(\"Testing data\")\n",
        "plt.show()"
      ],
      "execution_count": 28,
      "outputs": [
        {
          "output_type": "display_data",
          "data": {
            "image/png": "[encoded data removed]",
            "text/plain": [
              "<Figure size 432x288 with 1 Axes>"
            ]
          },
          "metadata": {
            "tags": [],
            "needs_background": "light"
          }
        },
        {
          "output_type": "display_data",
          "data": {
            "image/png": "[encoded data removed]",
            "text/plain": [
              "<Figure size 432x288 with 1 Axes>"
            ]
          },
          "metadata": {
            "tags": [],
            "needs_background": "light"
          }
        }
      ]
    },
    {
      "cell_type": "code",
      "metadata": {
        "id": "wjKKoslK55jo"
      },
      "source": [
        "# where.state_dict()[\"linear1.weight\"][:]  = torch.Tensor(np.array([[ 0, -1]]))\r\n",
        "# where.state_dict()[\"linear1.bias\"][:] = torch.Tensor(np.array([0]))"
      ],
      "execution_count": 29,
      "outputs": []
    },
    {
      "cell_type": "code",
      "metadata": {
        "id": "YH_sdpkhr0UK",
        "colab": {
          "base_uri": "https://localhost:8080/"
        },
        "outputId": "8df10397-047d-4ac0-9b35-81e6ca357565"
      },
      "source": [
        "for param in where.named_parameters():\r\n",
        "  print(param)"
      ],
      "execution_count": 30,
      "outputs": [
        {
          "output_type": "stream",
          "text": [
            "('linear1.weight', Parameter containing:\n",
            "tensor([[-0.0439, -0.2173]], dtype=torch.float64, requires_grad=True))\n",
            "('linear1.bias', Parameter containing:\n",
            "tensor([0.6125], dtype=torch.float64, requires_grad=True))\n"
          ],
          "name": "stdout"
        }
      ]
    },
    {
      "cell_type": "code",
      "metadata": {
        "id": "6ANS5bw67RvG"
      },
      "source": [
        "# what.state_dict()[\"linear1.weight\"][:]  = torch.Tensor(np.array([[ 5,  0],\r\n",
        "#         [0,5],\r\n",
        "#         [ 0, 0]]))\r\n",
        "# what.state_dict()[\"linear1.bias\"][:] = torch.Tensor(np.array([0,  0, 0]))"
      ],
      "execution_count": 31,
      "outputs": []
    },
    {
      "cell_type": "code",
      "metadata": {
        "colab": {
          "base_uri": "https://localhost:8080/"
        },
        "id": "j3dOF2b3fkgp",
        "outputId": "e0d31a3b-218c-4851-cfac-e899767f3f63"
      },
      "source": [
        "for param in what.named_parameters():\r\n",
        "  print(param)"
      ],
      "execution_count": 32,
      "outputs": [
        {
          "output_type": "stream",
          "text": [
            "('linear1.weight', Parameter containing:\n",
            "tensor([[ 1.2787,  0.7839],\n",
            "        [ 2.9050,  0.2038],\n",
            "        [-3.1374, -0.4746]], dtype=torch.float64, requires_grad=True))\n",
            "('linear1.bias', Parameter containing:\n",
            "tensor([ 2.6338, -3.5995,  1.4161], dtype=torch.float64, requires_grad=True))\n"
          ],
          "name": "stdout"
        }
      ]
    },
    {
      "cell_type": "code",
      "metadata": {
        "id": "EZk8Ve_3foPS"
      },
      "source": [
        "xx,yy= np.meshgrid(np.arange(-4,10,0.05),np.arange(-8,6,0.05))\r\n",
        "X = np.concatenate((xx.reshape(-1,1),yy.reshape(-1,1)),axis=1)\r\n",
        "X = torch.Tensor(X).double()\r\n",
        "Y = where.helper(X)\r\n",
        "Y1 = what(X)"
      ],
      "execution_count": 33,
      "outputs": []
    },
    {
      "cell_type": "code",
      "metadata": {
        "colab": {
          "base_uri": "https://localhost:8080/"
        },
        "id": "-d0ldqGnhMrZ",
        "outputId": "fa67d960-40d6-4b08-ac20-46ce115a40a5"
      },
      "source": [
        "X.shape,Y.shape"
      ],
      "execution_count": 34,
      "outputs": [
        {
          "output_type": "execute_result",
          "data": {
            "text/plain": [
              "(torch.Size([78400, 2]), torch.Size([78400, 1]))"
            ]
          },
          "metadata": {
            "tags": []
          },
          "execution_count": 34
        }
      ]
    },
    {
      "cell_type": "code",
      "metadata": {
        "id": "ybdSCa9mhUGp"
      },
      "source": [
        "X = X.detach().numpy()\r\n",
        "Y = Y[:,0].detach().numpy()"
      ],
      "execution_count": 35,
      "outputs": []
    },
    {
      "cell_type": "code",
      "metadata": {
        "colab": {
          "base_uri": "https://localhost:8080/",
          "height": 392
        },
        "id": "e5Mg9wiahXTt",
        "outputId": "09f1a3aa-8eab-4ac4-85f5-3204a8964e78"
      },
      "source": [
        "fig = plt.figure(figsize=(6,6))\r\n",
        "cs = plt.contourf(X[:,0].reshape(xx.shape),X[:,1].reshape(yy.shape),Y.reshape(xx.shape))\r\n",
        "plt.xlabel(\"X1\")\r\n",
        "plt.ylabel(\"X2\")\r\n",
        "fig.colorbar(cs)\r\n",
        "for i in range(4):\r\n",
        "    plt.scatter(x[idx[i],0],x[idx[i],1],label=\"class_\"+str(i))\r\n",
        "plt.legend(loc='center left', bbox_to_anchor=(1, 0.5))\r\n",
        "plt.savefig(\"focus_contour.png\")#,bbox_inches='tight')\r\n"
      ],
      "execution_count": 36,
      "outputs": [
        {
          "output_type": "display_data",
          "data": {
            "image/png": "[encoded data removed]",
            "text/plain": [
              "<Figure size 432x432 with 2 Axes>"
            ]
          },
          "metadata": {
            "tags": [],
            "needs_background": "light"
          }
        }
      ]
    },
    {
      "cell_type": "code",
      "metadata": {
        "id": "BYTbfs7Thay0"
      },
      "source": [
        "Y1 = Y1.detach().numpy()\r\n",
        "Y1 = torch.softmax(torch.Tensor(Y1),dim=1)\r\n",
        "_,Z4= torch.max(Y1,1)\r\n",
        "Z1 = Y1[:,0]\r\n",
        "Z2 = Y1[:,1]\r\n",
        "Z3 = Y1[:,2]"
      ],
      "execution_count": 37,
      "outputs": []
    },
    {
      "cell_type": "code",
      "metadata": {
        "colab": {
          "base_uri": "https://localhost:8080/"
        },
        "id": "8kG2vKUPYaI7",
        "outputId": "450d1aeb-35fe-40ec-88d7-1f19a2c09bd6"
      },
      "source": [
        "Z4"
      ],
      "execution_count": 38,
      "outputs": [
        {
          "output_type": "execute_result",
          "data": {
            "text/plain": [
              "tensor([2, 2, 2,  ..., 1, 1, 1])"
            ]
          },
          "metadata": {
            "tags": []
          },
          "execution_count": 38
        }
      ]
    },
    {
      "cell_type": "code",
      "metadata": {
        "id": "1esFxcEMhiNw"
      },
      "source": [
        "#fig = plt.figure(figsize=(6,6))\r\n",
        "# plt.scatter(X[:,0],X[:,1],c=Z1)\r\n",
        "# plt.scatter(X[:,0],X[:,1],c=Z2)\r\n",
        "# plt.scatter(X[:,0],X[:,1],c=Z3)\r\n",
        "#cs = plt.contourf(X[:,0].reshape(xx.shape),X[:,1].reshape(yy.shape),Z1.reshape(xx.shape))\r\n",
        "# #plt.colorbar(cs)\r\n",
        "# cs = plt.contourf(X[:,0].reshape(xx.shape),X[:,1].reshape(yy.shape),Z2.reshape(xx.shape))\r\n",
        "# #plt.colorbar(cs)\r\n",
        "# cs = plt.contourf(X[:,0].reshape(xx.shape),X[:,1].reshape(yy.shape),Z3.reshape(xx.shape))\r\n",
        "#plt.colorbar(cs)\r\n",
        "# plt.xlabel(\"X1\")\r\n",
        "# plt.ylabel(\"X2\")\r\n",
        "#ax.view_init(60,100)\r\n",
        "#plt.savefig(\"non_interpretable_class_2d.pdf\",bbox_inches='tight')\r\n"
      ],
      "execution_count": 39,
      "outputs": []
    },
    {
      "cell_type": "code",
      "metadata": {
        "id": "2jRVEsBy9Rxc"
      },
      "source": [
        "avrg = []\r\n",
        "with torch.no_grad():\r\n",
        "  for i, data in  enumerate(train_loader):\r\n",
        "          inputs , labels , fore_idx = data\r\n",
        "          avg_inp,alphas = where(inputs)\r\n",
        "          avrg.append(avg_inp)\r\n",
        "avrg= np.concatenate(avrg,axis=0)"
      ],
      "execution_count": 40,
      "outputs": []
    },
    {
      "cell_type": "code",
      "metadata": {
        "id": "IYMofwarmEE5",
        "colab": {
          "base_uri": "https://localhost:8080/",
          "height": 265
        },
        "outputId": "5d8ea58b-fe6d-420f-af78-678bac0e738e"
      },
      "source": [
        "plt.scatter(X[:,0],X[:,1],c=Z4)\r\n",
        "for i in range(4):\r\n",
        "    plt.scatter(x[idx[i],0],x[idx[i],1],label=\"class_\"+str(i))\r\n",
        "plt.legend(loc='center left', bbox_to_anchor=(1, 0.5))\r\n",
        "plt.scatter(avrg[:,0],avrg[:,1])\r\n",
        "plt.savefig(\"decision_boundary.png\",bbox_inches=\"tight\")"
      ],
      "execution_count": 41,
      "outputs": [
        {
          "output_type": "display_data",
          "data": {
            "image/png": "[encoded data removed]",
            "text/plain": [
              "<Figure size 432x288 with 1 Axes>"
            ]
          },
          "metadata": {
            "tags": [],
            "needs_background": "light"
          }
        }
      ]
    },
    {
      "cell_type": "code",
      "metadata": {
        "id": "gpyN2mafZ5Av"
      },
      "source": [
        "true = []\r\n",
        "pred = []\r\n",
        "acc= 0\r\n",
        "for i, data in  enumerate(train_loader):\r\n",
        "        inputs , labels , fore_idx = data\r\n",
        "        avg_inp,alphas = where(inputs)\r\n",
        "        outputs = what(avg_inp)\r\n",
        "        _, predicted = torch.max(outputs.data, 1)\r\n",
        "        true.append(labels)\r\n",
        "        pred.append(predicted)\r\n",
        "        acc+=sum(predicted == labels)"
      ],
      "execution_count": 42,
      "outputs": []
    },
    {
      "cell_type": "code",
      "metadata": {
        "id": "Ol7vxjD0bxYJ"
      },
      "source": [
        "true = np.concatenate(true,axis=0)\r\n",
        "pred = np.concatenate(pred,axis=0)"
      ],
      "execution_count": 43,
      "outputs": []
    },
    {
      "cell_type": "code",
      "metadata": {
        "colab": {
          "base_uri": "https://localhost:8080/"
        },
        "id": "MR7LkXexbzEi",
        "outputId": "b728037d-2015-4800-fb2a-616358fd5be9"
      },
      "source": [
        "from sklearn.metrics import confusion_matrix\r\n",
        "confusion_matrix(true,pred)"
      ],
      "execution_count": 44,
      "outputs": [
        {
          "output_type": "execute_result",
          "data": {
            "text/plain": [
              "array([[ 922,   93,   12],\n",
              "       [   0, 1027,    0],\n",
              "       [   2,    0,  944]])"
            ]
          },
          "metadata": {
            "tags": []
          },
          "execution_count": 44
        }
      ]
    },
    {
      "cell_type": "code",
      "metadata": {
        "id": "HBbAemTR8wRY"
      },
      "source": [
        ""
      ],
      "execution_count": 44,
      "outputs": []
    }
  ]
}