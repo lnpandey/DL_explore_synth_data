{
  "nbformat": 4,
  "nbformat_minor": 0,
  "metadata": {
    "accelerator": "GPU",
    "colab": {
      "name": "distribution_2_m_9.ipynb",
      "provenance": [],
      "collapsed_sections": [],
      "toc_visible": true
    },
    "kernelspec": {
      "display_name": "Python 3",
      "language": "python",
      "name": "python3"
    },
    "language_info": {
      "codemirror_mode": {
        "name": "ipython",
        "version": 3
      },
      "file_extension": ".py",
      "mimetype": "text/x-python",
      "name": "python",
      "nbconvert_exporter": "python",
      "pygments_lexer": "ipython3",
      "version": "3.6.5"
    }
  },
  "cells": [
    {
      "cell_type": "code",
      "metadata": {
        "colab": {
          "base_uri": "https://localhost:8080/"
        },
        "id": "N2_J4Rw2r0SQ",
        "outputId": "0c27bd1e-7d05-4dca-d74e-571b60d6b813"
      },
      "source": [
        "import numpy as np\n",
        "import pandas as pd\n",
        "from matplotlib import pyplot as plt\n",
        "from tqdm import tqdm\n",
        "%matplotlib inline\n",
        "from torch.utils.data import Dataset, DataLoader\n",
        "import torch\n",
        "import torchvision\n",
        "\n",
        "import torch.nn as nn\n",
        "import torch.optim as optim\n",
        "from torch.nn import functional as F\n",
        "device = torch.device(\"cuda\" if torch.cuda.is_available() else \"cpu\")\n",
        "print(device)"
      ],
      "execution_count": 1,
      "outputs": [
        {
          "output_type": "stream",
          "text": [
            "cuda\n"
          ],
          "name": "stdout"
        }
      ]
    },
    {
      "cell_type": "markdown",
      "metadata": {
        "id": "F6fjud_Fr0Sa"
      },
      "source": [
        "# Generate dataset"
      ]
    },
    {
      "cell_type": "code",
      "metadata": {
        "colab": {
          "base_uri": "https://localhost:8080/"
        },
        "id": "CqdXHO0Cr0Sd",
        "outputId": "bc5caed6-cb8d-47e0-d13e-05e9e9014c76"
      },
      "source": [
        "y = np.random.randint(0,4,1200)\n",
        "idx= []\n",
        "for i in range(4):\n",
        "    print(i,sum(y==i))\n",
        "    idx.append(y==i)"
      ],
      "execution_count": 2,
      "outputs": [
        {
          "output_type": "stream",
          "text": [
            "0 297\n",
            "1 307\n",
            "2 268\n",
            "3 328\n"
          ],
          "name": "stdout"
        }
      ]
    },
    {
      "cell_type": "code",
      "metadata": {
        "id": "ddhXyODwr0Sk"
      },
      "source": [
        "x = np.zeros((1200,2))"
      ],
      "execution_count": 3,
      "outputs": []
    },
    {
      "cell_type": "code",
      "metadata": {
        "id": "DbWPELOH0ae4"
      },
      "source": [
        "\r\n",
        "\r\n",
        "x[idx[0],:] = np.random.uniform(low=[5,2],high=[6,4],size=(sum(idx[0]),2))\r\n",
        "\r\n",
        "x[idx[1],:] = np.random.uniform(low=[5,-3],high=[6,-5],size=(sum(idx[1]),2))\r\n",
        "\r\n",
        "x[idx[2],:] = np.random.uniform(low=[-2,0],high=[-3,-2],size=(sum(idx[2]),2))\r\n",
        "\r\n",
        "x[idx[3],:] = np.random.uniform(low=[1,-8],high=[2,5],size=(sum(idx[3]),2))"
      ],
      "execution_count": 4,
      "outputs": []
    },
    {
      "cell_type": "code",
      "metadata": {
        "id": "DyV3N2DIr0Sp"
      },
      "source": [
        "# x[idx[0],:] = np.random.multivariate_normal(mean = [5,5],cov=[[0.1,0],[0,0.1]],size=sum(idx[0]))\n",
        "\n",
        "# x[idx[1],:] = np.random.multivariate_normal(mean = [-6,7],cov=[[0.1,0],[0,0.1]],size=sum(idx[1]))\n",
        "\n",
        "# x[idx[2],:] = np.random.multivariate_normal(mean = [-5,-4],cov=[[0.1,0],[0,0.1]],size=sum(idx[2]))\n",
        "\n",
        "# x[idx[0],:] = np.random.multivariate_normal(mean = [5.5,4],cov=[[0.1,0],[0,0.1]],size=sum(idx[0]))\n",
        "\n",
        "# x[idx[1],:] = np.random.multivariate_normal(mean = [6,6.5],cov=[[0.1,0],[0,0.1]],size=sum(idx[1]))\n",
        "\n",
        "# x[idx[2],:] = np.random.multivariate_normal(mean = [4,6],cov=[[0.1,0],[0,0.1]],size=sum(idx[2]))\n",
        "\n",
        "# x[idx[3],:] = np.random.multivariate_normal(mean = [-1,0],cov=[[0.1,0],[0,0.1]],size=sum(idx[3]))\n",
        "\n",
        "\n",
        "# x[idx[4],:] = np.random.multivariate_normal(mean = [0,2],cov=[[0.1,0],[0,0.1]],size=sum(idx[4]))\n",
        "\n",
        "# x[idx[5],:] = np.random.multivariate_normal(mean = [1,0],cov=[[0.1,0],[0,0.1]],size=sum(idx[5]))\n",
        "\n",
        "# x[idx[6],:] = np.random.multivariate_normal(mean = [0,-1],cov=[[0.1,0],[0,0.1]],size=sum(idx[6]))\n",
        "\n",
        "# x[idx[7],:] = np.random.multivariate_normal(mean = [0,0],cov=[[0.1,0],[0,0.1]],size=sum(idx[7]))\n",
        "\n",
        "# x[idx[8],:] = np.random.multivariate_normal(mean = [-0.5,-0.5],cov=[[0.1,0],[0,0.1]],size=sum(idx[8]))\n",
        "\n",
        "# x[idx[9],:] = np.random.multivariate_normal(mean = [0.4,0.2],cov=[[0.1,0],[0,0.1]],size=sum(idx[9]))"
      ],
      "execution_count": 5,
      "outputs": []
    },
    {
      "cell_type": "code",
      "metadata": {
        "colab": {
          "base_uri": "https://localhost:8080/",
          "height": 265
        },
        "id": "hJ8Jm7YUr0St",
        "outputId": "635c6f4e-4948-4c95-de41-880ac2085a2a"
      },
      "source": [
        "for i in range(4):\n",
        "    plt.scatter(x[idx[i],0],x[idx[i],1],label=\"class_\"+str(i))\n",
        "plt.legend(loc='center left', bbox_to_anchor=(1, 0.5))\n",
        "plt.savefig(\"type3_2_dist.png\",bbox_inches=\"tight\")\n",
        "plt.savefig(\"type3_2_dist.pdf\",bbox_inches=\"tight\")\n"
      ],
      "execution_count": 6,
      "outputs": [
        {
          "output_type": "display_data",
          "data": {
            "image/png": "[encoded data removed]",
            "text/plain": [
              "<Figure size 432x288 with 1 Axes>"
            ]
          },
          "metadata": {
            "tags": [],
            "needs_background": "light"
          }
        }
      ]
    },
    {
      "cell_type": "code",
      "metadata": {
        "id": "UfFHcZJOr0Sz"
      },
      "source": [
        "foreground_classes = {'class_0','class_1', 'class_2'}\n",
        "\n",
        "background_classes = {'class_3'}"
      ],
      "execution_count": 7,
      "outputs": []
    },
    {
      "cell_type": "code",
      "metadata": {
        "colab": {
          "base_uri": "https://localhost:8080/"
        },
        "id": "OplNpNQVr0S2",
        "outputId": "cb6b9421-eef1-4ed2-c677-3957925cfbe4"
      },
      "source": [
        "fg_class  = np.random.randint(0,3)\n",
        "fg_idx = np.random.randint(0,9)\n",
        "\n",
        "a = []\n",
        "for i in range(9):\n",
        "    if i == fg_idx:\n",
        "        b = np.random.choice(np.where(idx[fg_class]==True)[0],size=1)\n",
        "        a.append(x[b])\n",
        "        print(\"foreground \"+str(fg_class)+\" present at \" + str(fg_idx))\n",
        "    else:\n",
        "        bg_class = np.random.randint(3,4)\n",
        "        b = np.random.choice(np.where(idx[bg_class]==True)[0],size=1)\n",
        "        a.append(x[b])\n",
        "        print(\"background \"+str(bg_class)+\" present at \" + str(i))\n",
        "a = np.concatenate(a,axis=0)\n",
        "print(a.shape)\n",
        "\n",
        "print(fg_class , fg_idx)"
      ],
      "execution_count": 8,
      "outputs": [
        {
          "output_type": "stream",
          "text": [
            "background 3 present at 0\n",
            "background 3 present at 1\n",
            "background 3 present at 2\n",
            "background 3 present at 3\n",
            "background 3 present at 4\n",
            "background 3 present at 5\n",
            "background 3 present at 6\n",
            "background 3 present at 7\n",
            "foreground 1 present at 8\n",
            "(9, 2)\n",
            "1 8\n"
          ],
          "name": "stdout"
        }
      ]
    },
    {
      "cell_type": "code",
      "metadata": {
        "colab": {
          "base_uri": "https://localhost:8080/"
        },
        "id": "dwZVmmRBr0S8",
        "outputId": "577967eb-c146-4a1d-e0c9-2bc6e8f2ec8e"
      },
      "source": [
        "a.shape"
      ],
      "execution_count": 9,
      "outputs": [
        {
          "output_type": "execute_result",
          "data": {
            "text/plain": [
              "(9, 2)"
            ]
          },
          "metadata": {
            "tags": []
          },
          "execution_count": 9
        }
      ]
    },
    {
      "cell_type": "code",
      "metadata": {
        "colab": {
          "base_uri": "https://localhost:8080/"
        },
        "id": "OoxzYI-ur0S_",
        "outputId": "4c127dda-26c2-4fbf-b792-12d5954a6fce"
      },
      "source": [
        "np.reshape(a,(18,1))"
      ],
      "execution_count": 10,
      "outputs": [
        {
          "output_type": "execute_result",
          "data": {
            "text/plain": [
              "array([[ 1.16304736],\n",
              "       [-0.95975739],\n",
              "       [ 1.52929769],\n",
              "       [ 0.45717669],\n",
              "       [ 1.71777822],\n",
              "       [-6.53800634],\n",
              "       [ 1.04684538],\n",
              "       [ 3.56034437],\n",
              "       [ 1.26708067],\n",
              "       [-4.59624366],\n",
              "       [ 1.21819036],\n",
              "       [ 3.76020414],\n",
              "       [ 1.25855584],\n",
              "       [-6.78883738],\n",
              "       [ 1.93504727],\n",
              "       [ 4.69528567],\n",
              "       [ 5.6926565 ],\n",
              "       [-3.53857058]])"
            ]
          },
          "metadata": {
            "tags": []
          },
          "execution_count": 10
        }
      ]
    },
    {
      "cell_type": "code",
      "metadata": {
        "id": "jqbvfbwVr0TN"
      },
      "source": [
        "desired_num = 3000\n",
        "mosaic_list =[]\n",
        "mosaic_label = []\n",
        "fore_idx=[]\n",
        "for j in range(desired_num):\n",
        "    fg_class  = np.random.randint(0,3)\n",
        "    fg_idx = np.random.randint(0,9) #m=9\n",
        "    a = []\n",
        "    for i in range(9):  #m=9\n",
        "        if i == fg_idx:\n",
        "            b = np.random.choice(np.where(idx[fg_class]==True)[0],size=1)\n",
        "            a.append(x[b])\n",
        "#             print(\"foreground \"+str(fg_class)+\" present at \" + str(fg_idx))\n",
        "        else:\n",
        "            bg_class = np.random.randint(3,4)\n",
        "            b = np.random.choice(np.where(idx[bg_class]==True)[0],size=1)\n",
        "            a.append(x[b])\n",
        "#             print(\"background \"+str(bg_class)+\" present at \" + str(i))\n",
        "    a = np.concatenate(a,axis=0)\n",
        "    mosaic_list.append(np.reshape(a,(18,1)))\n",
        "    mosaic_label.append(fg_class)\n",
        "    fore_idx.append(fg_idx)"
      ],
      "execution_count": 11,
      "outputs": []
    },
    {
      "cell_type": "code",
      "metadata": {
        "id": "BOsFmWfMr0TR"
      },
      "source": [
        "mosaic_list = np.concatenate(mosaic_list,axis=1).T\n",
        "# print(mosaic_list)"
      ],
      "execution_count": 12,
      "outputs": []
    },
    {
      "cell_type": "code",
      "metadata": {
        "colab": {
          "base_uri": "https://localhost:8080/"
        },
        "id": "C2PnW7aQr0TT",
        "outputId": "59849eb2-2edd-4a0a-f2e0-cde0ceb44164"
      },
      "source": [
        "print(np.shape(mosaic_label))\n",
        "print(np.shape(fore_idx))"
      ],
      "execution_count": 13,
      "outputs": [
        {
          "output_type": "stream",
          "text": [
            "(3000,)\n",
            "(3000,)\n"
          ],
          "name": "stdout"
        }
      ]
    },
    {
      "cell_type": "code",
      "metadata": {
        "id": "yL0BRf8er0TX"
      },
      "source": [
        "class MosaicDataset(Dataset):\n",
        "  \"\"\"MosaicDataset dataset.\"\"\"\n",
        "\n",
        "  def __init__(self, mosaic_list, mosaic_label, fore_idx):\n",
        "    \"\"\"\n",
        "      Args:\n",
        "        csv_file (string): Path to the csv file with annotations.\n",
        "        root_dir (string): Directory with all the images.\n",
        "        transform (callable, optional): Optional transform to be applied\n",
        "            on a sample.\n",
        "    \"\"\"\n",
        "    self.mosaic = mosaic_list\n",
        "    self.label = mosaic_label\n",
        "    self.fore_idx = fore_idx\n",
        "\n",
        "  def __len__(self):\n",
        "    return len(self.label)\n",
        "\n",
        "  def __getitem__(self, idx):\n",
        "    return self.mosaic[idx] , self.label[idx], self.fore_idx[idx]\n",
        "\n",
        "batch = 250\n",
        "msd = MosaicDataset(mosaic_list, mosaic_label , fore_idx)\n",
        "train_loader = DataLoader( msd,batch_size= batch ,shuffle=True)"
      ],
      "execution_count": 14,
      "outputs": []
    },
    {
      "cell_type": "code",
      "metadata": {
        "id": "ZVRXgwwNr0Tb"
      },
      "source": [
        "class Wherenet(nn.Module):\n",
        "    def __init__(self):\n",
        "        super(Wherenet,self).__init__()\n",
        "        self.linear1 = nn.Linear(2,1)\n",
        "\n",
        "    def forward(self,z):\n",
        "        x = torch.zeros([batch,9],dtype=torch.float64)  #m=2\n",
        "        y = torch.zeros([batch,2], dtype=torch.float64)\n",
        "        #x,y = x.to(\"cuda\"),y.to(\"cuda\")\n",
        "        for i in range(9):  #m=9\n",
        "          x[:,i] = self.helper(z[:,2*i:2*i+2])[:,0]\n",
        "            #print(k[:,0].shape,x[:,i].shape)\n",
        "        x = F.softmax(x,dim=1)   # alphas\n",
        "        x1 = x[:,0]\n",
        "        for i in range(9): #m=9\n",
        "            x1 = x[:,i]          \n",
        "            #print()\n",
        "            y = y+torch.mul(x1[:,None],z[:,2*i:2*i+2])\n",
        "        return y , x \n",
        "\n",
        "    \n",
        "    def helper(self,x):\n",
        "        #x = F.relu(self.linear1(x))\n",
        "        #x = F.relu(self.linear2(x))\n",
        "        x = self.linear1(x)\n",
        "        return x\n",
        "\n",
        "    "
      ],
      "execution_count": 15,
      "outputs": []
    },
    {
      "cell_type": "code",
      "metadata": {
        "id": "f-Ek05Kxr0Te"
      },
      "source": [
        "trainiter = iter(train_loader)\n",
        "input1,labels1,index1 = trainiter.next()\n",
        "\n"
      ],
      "execution_count": 16,
      "outputs": []
    },
    {
      "cell_type": "code",
      "metadata": {
        "colab": {
          "base_uri": "https://localhost:8080/"
        },
        "id": "SxEmWZI6r0Ti",
        "outputId": "d602d0a5-1d96-4862-e99e-e3f10da431e4"
      },
      "source": [
        "where = Wherenet().double()\n",
        "where = where\n",
        "out_where,alphas = where(input1)\n",
        "out_where.shape,alphas.shape"
      ],
      "execution_count": 17,
      "outputs": [
        {
          "output_type": "execute_result",
          "data": {
            "text/plain": [
              "(torch.Size([250, 2]), torch.Size([250, 9]))"
            ]
          },
          "metadata": {
            "tags": []
          },
          "execution_count": 17
        }
      ]
    },
    {
      "cell_type": "code",
      "metadata": {
        "id": "5_XeIUk0r0Tl"
      },
      "source": [
        "class Whatnet(nn.Module):\n",
        "    def __init__(self):\n",
        "        super(Whatnet,self).__init__()\n",
        "        self.linear1 = nn.Linear(2,3)\n",
        "        #self.linear2 = nn.Linear(4,3)\n",
        "#         self.linear3 = nn.Linear(8,3)\n",
        "    def forward(self,x):\n",
        "        #x = F.relu(self.linear1(x))\n",
        "        #x = F.relu(self.linear2(x))\n",
        "        x = self.linear1(x)\n",
        "        return x"
      ],
      "execution_count": 18,
      "outputs": []
    },
    {
      "cell_type": "code",
      "metadata": {
        "id": "l35i9bIlr0Tp"
      },
      "source": [
        "what = Whatnet().double()\n",
        "# what(out_where)"
      ],
      "execution_count": 19,
      "outputs": []
    },
    {
      "cell_type": "code",
      "metadata": {
        "id": "tMEoCLo1r0Tt"
      },
      "source": [
        "test_data_required = 1000\n",
        "mosaic_list_test =[]\n",
        "mosaic_label_test = []\n",
        "fore_idx_test=[]\n",
        "for j in range(test_data_required):\n",
        "    fg_class  = np.random.randint(0,3)\n",
        "    fg_idx = np.random.randint(0,9)  #m=9\n",
        "    a = []\n",
        "    for i in range(9): #m=9\n",
        "        if i == fg_idx:\n",
        "            b = np.random.choice(np.where(idx[fg_class]==True)[0],size=1)\n",
        "            a.append(x[b])\n",
        "#             print(\"foreground \"+str(fg_class)+\" present at \" + str(fg_idx))\n",
        "        else:\n",
        "            bg_class = np.random.randint(3,4)\n",
        "            b = np.random.choice(np.where(idx[bg_class]==True)[0],size=1)\n",
        "            a.append(x[b])\n",
        "#             print(\"background \"+str(bg_class)+\" present at \" + str(i))\n",
        "    a = np.concatenate(a,axis=0)\n",
        "    mosaic_list_test.append(np.reshape(a,(18,1)))\n",
        "    mosaic_label_test.append(fg_class)\n",
        "    fore_idx_test.append(fg_idx)"
      ],
      "execution_count": 20,
      "outputs": []
    },
    {
      "cell_type": "code",
      "metadata": {
        "colab": {
          "base_uri": "https://localhost:8080/"
        },
        "id": "2Naetxvbr0Tw",
        "outputId": "ee8df400-21ec-45a0-d98a-5e605b2b0726"
      },
      "source": [
        "mosaic_list_test = np.concatenate(mosaic_list_test,axis=1).T\n",
        "print(mosaic_list_test.shape)"
      ],
      "execution_count": 21,
      "outputs": [
        {
          "output_type": "stream",
          "text": [
            "(1000, 18)\n"
          ],
          "name": "stdout"
        }
      ]
    },
    {
      "cell_type": "code",
      "metadata": {
        "id": "Os4KxqrFr0Tz"
      },
      "source": [
        "test_data = MosaicDataset(mosaic_list_test,mosaic_label_test,fore_idx_test)\n",
        "test_loader = DataLoader( test_data,batch_size= batch ,shuffle=False)"
      ],
      "execution_count": 22,
      "outputs": []
    },
    {
      "cell_type": "code",
      "metadata": {
        "colab": {
          "base_uri": "https://localhost:8080/"
        },
        "id": "pPQY-Wpcr0T2",
        "scrolled": true,
        "outputId": "5a2d91c9-e959-4801-bde5-48822e8f88fe"
      },
      "source": [
        "\n",
        "focus_true_pred_true =0\n",
        "focus_false_pred_true =0\n",
        "focus_true_pred_false =0\n",
        "focus_false_pred_false =0\n",
        "\n",
        "argmax_more_than_half = 0\n",
        "argmax_less_than_half =0\n",
        "\n",
        "col1=[]\n",
        "col2=[]\n",
        "col3=[]\n",
        "col4=[]\n",
        "col5=[]\n",
        "col6=[]\n",
        "col7=[]\n",
        "col8=[]\n",
        "col9=[]\n",
        "col10=[]\n",
        "col11=[]\n",
        "col12=[]\n",
        "col13=[]\n",
        "\n",
        "criterion = nn.CrossEntropyLoss()\n",
        "optimizer_where = optim.SGD(where.parameters(), lr=0.01, momentum=0.9)\n",
        "optimizer_what = optim.SGD(what.parameters(), lr=0.01, momentum=0.9)\n",
        "\n",
        "nos_epochs = 100\n",
        "\n",
        "train_loss=[]\n",
        "test_loss =[]\n",
        "train_acc = []\n",
        "test_acc = []\n",
        "for epoch in range(nos_epochs):  # loop over the dataset multiple times\n",
        "\n",
        "    focus_true_pred_true =0\n",
        "    focus_false_pred_true =0\n",
        "    focus_true_pred_false =0\n",
        "    focus_false_pred_false =0\n",
        "\n",
        "    argmax_more_than_half = 0\n",
        "    argmax_less_than_half =0\n",
        "\n",
        "    running_loss = 0.0\n",
        "    cnt=0\n",
        "\n",
        "    iteration = desired_num // batch\n",
        "\n",
        "    #training data set\n",
        "\n",
        "    for i, data in  enumerate(train_loader):\n",
        "        inputs , labels , fore_idx = data\n",
        "        #inputs,labels,fore_idx = inputs.to(device),labels.to(device),fore_idx.to(device)\n",
        "        # zero the parameter gradients\n",
        "\n",
        "        optimizer_what.zero_grad()\n",
        "        optimizer_where.zero_grad()\n",
        "        \n",
        "        \n",
        "        avg_inp,alphas = where(inputs)\n",
        "        \n",
        "        outputs = what(avg_inp)\n",
        "        \n",
        "        _, predicted = torch.max(outputs.data, 1)\n",
        "        \n",
        "        loss = criterion(outputs, labels) \n",
        "        loss.backward() \n",
        "        \n",
        "        optimizer_what.step()\n",
        "        optimizer_where.step() \n",
        "        \n",
        "\n",
        "        running_loss += loss.item()\n",
        "        if cnt % 6 == 5:    # print every 6 mini-batches\n",
        "            print('[%d, %5d] loss: %.3f' %(epoch + 1, cnt + 1, running_loss / 6))\n",
        "            running_loss = 0.0\n",
        "        cnt=cnt+1\n",
        "    \n",
        "        if epoch % 5 == 4:\n",
        "            for j in range (batch):\n",
        "                focus = torch.argmax(alphas[j])\n",
        "\n",
        "                if(alphas[j][focus] >= 0.5):\n",
        "                    argmax_more_than_half +=1\n",
        "                else:\n",
        "                    argmax_less_than_half +=1\n",
        "\n",
        "                if(focus == fore_idx[j] and predicted[j] == labels[j]):\n",
        "                    focus_true_pred_true += 1\n",
        "\n",
        "                elif(focus != fore_idx[j] and predicted[j] == labels[j]):\n",
        "                    focus_false_pred_true +=1\n",
        "\n",
        "                elif(focus == fore_idx[j] and predicted[j] != labels[j]):\n",
        "                    focus_true_pred_false +=1\n",
        "\n",
        "                elif(focus != fore_idx[j] and predicted[j] != labels[j]):\n",
        "                    focus_false_pred_false +=1\n",
        "\n",
        "    if epoch % 5 == 4:\n",
        "        col1.append(epoch)\n",
        "        col2.append(argmax_more_than_half)\n",
        "        col3.append(argmax_less_than_half)\n",
        "        col4.append(focus_true_pred_true)\n",
        "        col5.append(focus_false_pred_true)\n",
        "        col6.append(focus_true_pred_false)\n",
        "        col7.append(focus_false_pred_false)\n",
        "\n",
        "    #************************************************************************\n",
        "        #testing data set  \n",
        "        with torch.no_grad():\n",
        "            focus_true_pred_true =0\n",
        "            focus_false_pred_true =0\n",
        "            focus_true_pred_false =0\n",
        "            focus_false_pred_false =0\n",
        "\n",
        "            argmax_more_than_half = 0\n",
        "            argmax_less_than_half =0\n",
        "            for data in test_loader:\n",
        "                inputs, labels , fore_idx = data\n",
        "                #inputs,labels,fore_idx = inputs.to(device),labels.to(device),fore_idx.to(device) \n",
        "#                 print(inputs.shtorch.save(where.state_dict(),\"model_epoch\"+str(epoch)+\".pt\")ape,labels.shape)\n",
        "                avg_inp,alphas = where(inputs)\n",
        "                outputs = what(avg_inp)\n",
        "                _, predicted = torch.max(outputs.data, 1)\n",
        "\n",
        "                for j in range (batch):\n",
        "                    focus = torch.argmax(alphas[j])\n",
        "\n",
        "                    if(alphas[j][focus] >= 0.5):\n",
        "                        argmax_more_than_half +=1\n",
        "                    else:\n",
        "                        argmax_less_than_half +=1\n",
        "\n",
        "                    if(focus == fore_idx[j] and predicted[j] == labels[j]):\n",
        "                        focus_true_pred_true += 1\n",
        "\n",
        "                    elif(focus != fore_idx[j] and predicted[j] == labels[j]):\n",
        "                        focus_false_pred_true +=1\n",
        "\n",
        "                    elif(focus == fore_idx[j] and predicted[j] != labels[j]):\n",
        "                        focus_true_pred_false +=1\n",
        "\n",
        "                    elif(focus != fore_idx[j] and predicted[j] != labels[j]):\n",
        "                        focus_false_pred_false +=1\n",
        "\n",
        "        col8.append(argmax_more_than_half)\n",
        "        col9.append(argmax_less_than_half)\n",
        "        col10.append(focus_true_pred_true)\n",
        "        col11.append(focus_false_pred_true)\n",
        "        col12.append(focus_true_pred_false)\n",
        "        col13.append(focus_false_pred_false)\n",
        "        \n",
        "        #torch.save(where.state_dict(),\"where_model_epoch\"+str(epoch)+\".pt\")\n",
        "        #torch.save(what.state_dict(),\"what_model_epoch\"+str(epoch)+\".pt\")\n",
        "    \n",
        "print('Finished Training')\n",
        "#torch.save(where.state_dict(),\"where_model_epoch\"+str(nos_epochs)+\".pt\")\n",
        "#torch.save(what.state_dict(),\"what_model_epoch\"+str(epoch)+\".pt\")\n"
      ],
      "execution_count": 23,
      "outputs": [
        {
          "output_type": "stream",
          "text": [
            "[1,     6] loss: 1.843\n",
            "[1,    12] loss: 1.282\n",
            "[2,     6] loss: 1.149\n",
            "[2,    12] loss: 1.020\n",
            "[3,     6] loss: 0.882\n",
            "[3,    12] loss: 0.732\n",
            "[4,     6] loss: 0.627\n",
            "[4,    12] loss: 0.569\n",
            "[5,     6] loss: 0.519\n",
            "[5,    12] loss: 0.507\n",
            "[6,     6] loss: 0.484\n",
            "[6,    12] loss: 0.496\n",
            "[7,     6] loss: 0.486\n",
            "[7,    12] loss: 0.473\n",
            "[8,     6] loss: 0.482\n",
            "[8,    12] loss: 0.467\n",
            "[9,     6] loss: 0.471\n",
            "[9,    12] loss: 0.470\n",
            "[10,     6] loss: 0.472\n",
            "[10,    12] loss: 0.465\n",
            "[11,     6] loss: 0.462\n",
            "[11,    12] loss: 0.472\n",
            "[12,     6] loss: 0.474\n",
            "[12,    12] loss: 0.457\n",
            "[13,     6] loss: 0.470\n",
            "[13,    12] loss: 0.459\n",
            "[14,     6] loss: 0.470\n",
            "[14,    12] loss: 0.458\n",
            "[15,     6] loss: 0.463\n",
            "[15,    12] loss: 0.463\n",
            "[16,     6] loss: 0.461\n",
            "[16,    12] loss: 0.464\n",
            "[17,     6] loss: 0.461\n",
            "[17,    12] loss: 0.463\n",
            "[18,     6] loss: 0.464\n",
            "[18,    12] loss: 0.459\n",
            "[19,     6] loss: 0.462\n",
            "[19,    12] loss: 0.460\n",
            "[20,     6] loss: 0.453\n",
            "[20,    12] loss: 0.468\n",
            "[21,     6] loss: 0.460\n",
            "[21,    12] loss: 0.460\n",
            "[22,     6] loss: 0.453\n",
            "[22,    12] loss: 0.466\n",
            "[23,     6] loss: 0.453\n",
            "[23,    12] loss: 0.467\n",
            "[24,     6] loss: 0.454\n",
            "[24,    12] loss: 0.465\n",
            "[25,     6] loss: 0.459\n",
            "[25,    12] loss: 0.460\n",
            "[26,     6] loss: 0.458\n",
            "[26,    12] loss: 0.460\n",
            "[27,     6] loss: 0.457\n",
            "[27,    12] loss: 0.461\n",
            "[28,     6] loss: 0.446\n",
            "[28,    12] loss: 0.471\n",
            "[29,     6] loss: 0.453\n",
            "[29,    12] loss: 0.463\n",
            "[30,     6] loss: 0.448\n",
            "[30,    12] loss: 0.468\n",
            "[31,     6] loss: 0.466\n",
            "[31,    12] loss: 0.450\n",
            "[32,     6] loss: 0.458\n",
            "[32,    12] loss: 0.457\n",
            "[33,     6] loss: 0.457\n",
            "[33,    12] loss: 0.458\n",
            "[34,     6] loss: 0.460\n",
            "[34,    12] loss: 0.455\n",
            "[35,     6] loss: 0.459\n",
            "[35,    12] loss: 0.455\n",
            "[36,     6] loss: 0.454\n",
            "[36,    12] loss: 0.460\n",
            "[37,     6] loss: 0.452\n",
            "[37,    12] loss: 0.462\n",
            "[38,     6] loss: 0.457\n",
            "[38,    12] loss: 0.456\n",
            "[39,     6] loss: 0.454\n",
            "[39,    12] loss: 0.460\n",
            "[40,     6] loss: 0.455\n",
            "[40,    12] loss: 0.459\n",
            "[41,     6] loss: 0.459\n",
            "[41,    12] loss: 0.455\n",
            "[42,     6] loss: 0.449\n",
            "[42,    12] loss: 0.465\n",
            "[43,     6] loss: 0.462\n",
            "[43,    12] loss: 0.452\n",
            "[44,     6] loss: 0.457\n",
            "[44,    12] loss: 0.455\n",
            "[45,     6] loss: 0.455\n",
            "[45,    12] loss: 0.458\n",
            "[46,     6] loss: 0.450\n",
            "[46,    12] loss: 0.462\n",
            "[47,     6] loss: 0.462\n",
            "[47,    12] loss: 0.451\n",
            "[48,     6] loss: 0.458\n",
            "[48,    12] loss: 0.456\n",
            "[49,     6] loss: 0.462\n",
            "[49,    12] loss: 0.450\n",
            "[50,     6] loss: 0.454\n",
            "[50,    12] loss: 0.458\n",
            "[51,     6] loss: 0.444\n",
            "[51,    12] loss: 0.467\n",
            "[52,     6] loss: 0.458\n",
            "[52,    12] loss: 0.453\n",
            "[53,     6] loss: 0.463\n",
            "[53,    12] loss: 0.448\n",
            "[54,     6] loss: 0.457\n",
            "[54,    12] loss: 0.454\n",
            "[55,     6] loss: 0.462\n",
            "[55,    12] loss: 0.449\n",
            "[56,     6] loss: 0.453\n",
            "[56,    12] loss: 0.460\n",
            "[57,     6] loss: 0.460\n",
            "[57,    12] loss: 0.453\n",
            "[58,     6] loss: 0.451\n",
            "[58,    12] loss: 0.463\n",
            "[59,     6] loss: 0.449\n",
            "[59,    12] loss: 0.462\n",
            "[60,     6] loss: 0.453\n",
            "[60,    12] loss: 0.458\n",
            "[61,     6] loss: 0.459\n",
            "[61,    12] loss: 0.452\n",
            "[62,     6] loss: 0.455\n",
            "[62,    12] loss: 0.455\n",
            "[63,     6] loss: 0.451\n",
            "[63,    12] loss: 0.459\n",
            "[64,     6] loss: 0.453\n",
            "[64,    12] loss: 0.457\n",
            "[65,     6] loss: 0.446\n",
            "[65,    12] loss: 0.465\n",
            "[66,     6] loss: 0.461\n",
            "[66,    12] loss: 0.449\n",
            "[67,     6] loss: 0.456\n",
            "[67,    12] loss: 0.453\n",
            "[68,     6] loss: 0.460\n",
            "[68,    12] loss: 0.450\n",
            "[69,     6] loss: 0.453\n",
            "[69,    12] loss: 0.456\n",
            "[70,     6] loss: 0.456\n",
            "[70,    12] loss: 0.453\n",
            "[71,     6] loss: 0.468\n",
            "[71,    12] loss: 0.441\n",
            "[72,     6] loss: 0.455\n",
            "[72,    12] loss: 0.455\n",
            "[73,     6] loss: 0.452\n",
            "[73,    12] loss: 0.458\n",
            "[74,     6] loss: 0.462\n",
            "[74,    12] loss: 0.448\n",
            "[75,     6] loss: 0.456\n",
            "[75,    12] loss: 0.454\n",
            "[76,     6] loss: 0.467\n",
            "[76,    12] loss: 0.442\n",
            "[77,     6] loss: 0.450\n",
            "[77,    12] loss: 0.459\n",
            "[78,     6] loss: 0.460\n",
            "[78,    12] loss: 0.449\n",
            "[79,     6] loss: 0.448\n",
            "[79,    12] loss: 0.461\n",
            "[80,     6] loss: 0.451\n",
            "[80,    12] loss: 0.457\n",
            "[81,     6] loss: 0.447\n",
            "[81,    12] loss: 0.462\n",
            "[82,     6] loss: 0.456\n",
            "[82,    12] loss: 0.452\n",
            "[83,     6] loss: 0.452\n",
            "[83,    12] loss: 0.457\n",
            "[84,     6] loss: 0.465\n",
            "[84,    12] loss: 0.444\n",
            "[85,     6] loss: 0.452\n",
            "[85,    12] loss: 0.457\n",
            "[86,     6] loss: 0.449\n",
            "[86,    12] loss: 0.459\n",
            "[87,     6] loss: 0.451\n",
            "[87,    12] loss: 0.458\n",
            "[88,     6] loss: 0.457\n",
            "[88,    12] loss: 0.451\n",
            "[89,     6] loss: 0.446\n",
            "[89,    12] loss: 0.462\n",
            "[90,     6] loss: 0.450\n",
            "[90,    12] loss: 0.458\n",
            "[91,     6] loss: 0.452\n",
            "[91,    12] loss: 0.457\n",
            "[92,     6] loss: 0.449\n",
            "[92,    12] loss: 0.459\n",
            "[93,     6] loss: 0.454\n",
            "[93,    12] loss: 0.454\n",
            "[94,     6] loss: 0.453\n",
            "[94,    12] loss: 0.454\n",
            "[95,     6] loss: 0.447\n",
            "[95,    12] loss: 0.461\n",
            "[96,     6] loss: 0.454\n",
            "[96,    12] loss: 0.454\n",
            "[97,     6] loss: 0.463\n",
            "[97,    12] loss: 0.446\n",
            "[98,     6] loss: 0.440\n",
            "[98,    12] loss: 0.468\n",
            "[99,     6] loss: 0.466\n",
            "[99,    12] loss: 0.442\n",
            "[100,     6] loss: 0.451\n",
            "[100,    12] loss: 0.457\n",
            "Finished Training\n"
          ],
          "name": "stdout"
        }
      ]
    },
    {
      "cell_type": "code",
      "metadata": {
        "id": "UvP97PKnr0T5"
      },
      "source": [
        "columns = [\"epochs\", \"argmax > 0.5\" ,\"argmax < 0.5\", \"focus_true_pred_true\", \"focus_false_pred_true\", \"focus_true_pred_false\", \"focus_false_pred_false\" ]\n",
        "df_train = pd.DataFrame()\n",
        "df_test = pd.DataFrame()\n",
        "df_train[columns[0]] = col1\n",
        "df_train[columns[1]] = col2\n",
        "df_train[columns[2]] = col3\n",
        "df_train[columns[3]] = col4\n",
        "df_train[columns[4]] = col5\n",
        "df_train[columns[5]] = col6\n",
        "df_train[columns[6]] = col7\n",
        "\n",
        "df_test[columns[0]] = col1\n",
        "df_test[columns[1]] = col8\n",
        "df_test[columns[2]] = col9\n",
        "df_test[columns[3]] = col10\n",
        "df_test[columns[4]] = col11\n",
        "df_test[columns[5]] = col12\n",
        "df_test[columns[6]] = col13"
      ],
      "execution_count": 24,
      "outputs": []
    },
    {
      "cell_type": "code",
      "metadata": {
        "colab": {
          "base_uri": "https://localhost:8080/",
          "height": 686
        },
        "id": "0hAVV2I5r0T7",
        "scrolled": false,
        "outputId": "c35fa92e-4b38-4d24-b452-bb29dd07335e"
      },
      "source": [
        "df_train"
      ],
      "execution_count": 25,
      "outputs": [
        {
          "output_type": "execute_result",
          "data": {
            "text/html": [
              "<div>\n",
              "<style scoped>\n",
              "    .dataframe tbody tr th:only-of-type {\n",
              "        vertical-align: middle;\n",
              "    }\n",
              "\n",
              "    .dataframe tbody tr th {\n",
              "        vertical-align: top;\n",
              "    }\n",
              "\n",
              "    .dataframe thead th {\n",
              "        text-align: right;\n",
              "    }\n",
              "</style>\n",
              "<table border=\"1\" class=\"dataframe\">\n",
              "  <thead>\n",
              "    <tr style=\"text-align: right;\">\n",
              "      <th></th>\n",
              "      <th>epochs</th>\n",
              "      <th>argmax &gt; 0.5</th>\n",
              "      <th>argmax &lt; 0.5</th>\n",
              "      <th>focus_true_pred_true</th>\n",
              "      <th>focus_false_pred_true</th>\n",
              "      <th>focus_true_pred_false</th>\n",
              "      <th>focus_false_pred_false</th>\n",
              "    </tr>\n",
              "  </thead>\n",
              "  <tbody>\n",
              "    <tr>\n",
              "      <th>0</th>\n",
              "      <td>4</td>\n",
              "      <td>1336</td>\n",
              "      <td>1664</td>\n",
              "      <td>1039</td>\n",
              "      <td>968</td>\n",
              "      <td>0</td>\n",
              "      <td>993</td>\n",
              "    </tr>\n",
              "    <tr>\n",
              "      <th>1</th>\n",
              "      <td>9</td>\n",
              "      <td>1755</td>\n",
              "      <td>1245</td>\n",
              "      <td>1039</td>\n",
              "      <td>999</td>\n",
              "      <td>0</td>\n",
              "      <td>962</td>\n",
              "    </tr>\n",
              "    <tr>\n",
              "      <th>2</th>\n",
              "      <td>14</td>\n",
              "      <td>1852</td>\n",
              "      <td>1148</td>\n",
              "      <td>1039</td>\n",
              "      <td>1019</td>\n",
              "      <td>0</td>\n",
              "      <td>942</td>\n",
              "    </tr>\n",
              "    <tr>\n",
              "      <th>3</th>\n",
              "      <td>19</td>\n",
              "      <td>1917</td>\n",
              "      <td>1083</td>\n",
              "      <td>1039</td>\n",
              "      <td>1037</td>\n",
              "      <td>0</td>\n",
              "      <td>924</td>\n",
              "    </tr>\n",
              "    <tr>\n",
              "      <th>4</th>\n",
              "      <td>24</td>\n",
              "      <td>1963</td>\n",
              "      <td>1037</td>\n",
              "      <td>1039</td>\n",
              "      <td>1028</td>\n",
              "      <td>0</td>\n",
              "      <td>933</td>\n",
              "    </tr>\n",
              "    <tr>\n",
              "      <th>5</th>\n",
              "      <td>29</td>\n",
              "      <td>1993</td>\n",
              "      <td>1007</td>\n",
              "      <td>1039</td>\n",
              "      <td>1030</td>\n",
              "      <td>0</td>\n",
              "      <td>931</td>\n",
              "    </tr>\n",
              "    <tr>\n",
              "      <th>6</th>\n",
              "      <td>34</td>\n",
              "      <td>2015</td>\n",
              "      <td>985</td>\n",
              "      <td>1039</td>\n",
              "      <td>1034</td>\n",
              "      <td>0</td>\n",
              "      <td>927</td>\n",
              "    </tr>\n",
              "    <tr>\n",
              "      <th>7</th>\n",
              "      <td>39</td>\n",
              "      <td>2033</td>\n",
              "      <td>967</td>\n",
              "      <td>1039</td>\n",
              "      <td>1015</td>\n",
              "      <td>0</td>\n",
              "      <td>946</td>\n",
              "    </tr>\n",
              "    <tr>\n",
              "      <th>8</th>\n",
              "      <td>44</td>\n",
              "      <td>2044</td>\n",
              "      <td>956</td>\n",
              "      <td>1039</td>\n",
              "      <td>1031</td>\n",
              "      <td>0</td>\n",
              "      <td>930</td>\n",
              "    </tr>\n",
              "    <tr>\n",
              "      <th>9</th>\n",
              "      <td>49</td>\n",
              "      <td>2063</td>\n",
              "      <td>937</td>\n",
              "      <td>1039</td>\n",
              "      <td>1041</td>\n",
              "      <td>0</td>\n",
              "      <td>920</td>\n",
              "    </tr>\n",
              "    <tr>\n",
              "      <th>10</th>\n",
              "      <td>54</td>\n",
              "      <td>2073</td>\n",
              "      <td>927</td>\n",
              "      <td>1039</td>\n",
              "      <td>1014</td>\n",
              "      <td>0</td>\n",
              "      <td>947</td>\n",
              "    </tr>\n",
              "    <tr>\n",
              "      <th>11</th>\n",
              "      <td>59</td>\n",
              "      <td>2078</td>\n",
              "      <td>922</td>\n",
              "      <td>1039</td>\n",
              "      <td>1012</td>\n",
              "      <td>0</td>\n",
              "      <td>949</td>\n",
              "    </tr>\n",
              "    <tr>\n",
              "      <th>12</th>\n",
              "      <td>64</td>\n",
              "      <td>2084</td>\n",
              "      <td>916</td>\n",
              "      <td>1039</td>\n",
              "      <td>1029</td>\n",
              "      <td>0</td>\n",
              "      <td>932</td>\n",
              "    </tr>\n",
              "    <tr>\n",
              "      <th>13</th>\n",
              "      <td>69</td>\n",
              "      <td>2094</td>\n",
              "      <td>906</td>\n",
              "      <td>1039</td>\n",
              "      <td>1020</td>\n",
              "      <td>0</td>\n",
              "      <td>941</td>\n",
              "    </tr>\n",
              "    <tr>\n",
              "      <th>14</th>\n",
              "      <td>74</td>\n",
              "      <td>2104</td>\n",
              "      <td>896</td>\n",
              "      <td>1039</td>\n",
              "      <td>1010</td>\n",
              "      <td>0</td>\n",
              "      <td>951</td>\n",
              "    </tr>\n",
              "    <tr>\n",
              "      <th>15</th>\n",
              "      <td>79</td>\n",
              "      <td>2109</td>\n",
              "      <td>891</td>\n",
              "      <td>1039</td>\n",
              "      <td>1015</td>\n",
              "      <td>0</td>\n",
              "      <td>946</td>\n",
              "    </tr>\n",
              "    <tr>\n",
              "      <th>16</th>\n",
              "      <td>84</td>\n",
              "      <td>2118</td>\n",
              "      <td>882</td>\n",
              "      <td>1039</td>\n",
              "      <td>1038</td>\n",
              "      <td>0</td>\n",
              "      <td>923</td>\n",
              "    </tr>\n",
              "    <tr>\n",
              "      <th>17</th>\n",
              "      <td>89</td>\n",
              "      <td>2123</td>\n",
              "      <td>877</td>\n",
              "      <td>1039</td>\n",
              "      <td>1017</td>\n",
              "      <td>0</td>\n",
              "      <td>944</td>\n",
              "    </tr>\n",
              "    <tr>\n",
              "      <th>18</th>\n",
              "      <td>94</td>\n",
              "      <td>2125</td>\n",
              "      <td>875</td>\n",
              "      <td>1039</td>\n",
              "      <td>1022</td>\n",
              "      <td>0</td>\n",
              "      <td>939</td>\n",
              "    </tr>\n",
              "    <tr>\n",
              "      <th>19</th>\n",
              "      <td>99</td>\n",
              "      <td>2128</td>\n",
              "      <td>872</td>\n",
              "      <td>1039</td>\n",
              "      <td>1021</td>\n",
              "      <td>0</td>\n",
              "      <td>940</td>\n",
              "    </tr>\n",
              "  </tbody>\n",
              "</table>\n",
              "</div>"
            ],
            "text/plain": [
              "    epochs  argmax > 0.5  ...  focus_true_pred_false  focus_false_pred_false\n",
              "0        4          1336  ...                      0                     993\n",
              "1        9          1755  ...                      0                     962\n",
              "2       14          1852  ...                      0                     942\n",
              "3       19          1917  ...                      0                     924\n",
              "4       24          1963  ...                      0                     933\n",
              "5       29          1993  ...                      0                     931\n",
              "6       34          2015  ...                      0                     927\n",
              "7       39          2033  ...                      0                     946\n",
              "8       44          2044  ...                      0                     930\n",
              "9       49          2063  ...                      0                     920\n",
              "10      54          2073  ...                      0                     947\n",
              "11      59          2078  ...                      0                     949\n",
              "12      64          2084  ...                      0                     932\n",
              "13      69          2094  ...                      0                     941\n",
              "14      74          2104  ...                      0                     951\n",
              "15      79          2109  ...                      0                     946\n",
              "16      84          2118  ...                      0                     923\n",
              "17      89          2123  ...                      0                     944\n",
              "18      94          2125  ...                      0                     939\n",
              "19      99          2128  ...                      0                     940\n",
              "\n",
              "[20 rows x 7 columns]"
            ]
          },
          "metadata": {
            "tags": []
          },
          "execution_count": 25
        }
      ]
    },
    {
      "cell_type": "code",
      "metadata": {
        "colab": {
          "base_uri": "https://localhost:8080/",
          "height": 573
        },
        "id": "s-ZXousDr0T-",
        "outputId": "7123f41c-e88c-4fd0-8b56-de0aef563082"
      },
      "source": [
        "plt.plot(col1,col2, label='argmax > 0.5')\n",
        "plt.plot(col1,col3, label='argmax < 0.5')\n",
        "\n",
        "plt.legend(loc='center left', bbox_to_anchor=(1, 0.5))\n",
        "plt.xlabel(\"epochs\")\n",
        "plt.ylabel(\"training data\")\n",
        "plt.title(\"On Training set\")\n",
        "plt.show()\n",
        "\n",
        "plt.plot(col1,col4, label =\"focus_true_pred_true \")\n",
        "plt.plot(col1,col5, label =\"focus_false_pred_true \")\n",
        "plt.plot(col1,col6, label =\"focus_true_pred_false \")\n",
        "plt.plot(col1,col7, label =\"focus_false_pred_false \")\n",
        "plt.title(\"On Training set\")\n",
        "plt.legend(loc='center left', bbox_to_anchor=(1, 0.5))\n",
        "plt.xlabel(\"epochs\")\n",
        "plt.ylabel(\"training data\")\n",
        "plt.savefig(\"linear_type3_21.png\",bbox_inches=\"tight\")\n",
        "plt.savefig(\"linear_type3_21.pdf\",bbox_inches=\"tight\")\n",
        "plt.show()"
      ],
      "execution_count": 26,
      "outputs": [
        {
          "output_type": "display_data",
          "data": {
            "image/png": "[encoded data removed]",
            "text/plain": [
              "<Figure size 432x288 with 1 Axes>"
            ]
          },
          "metadata": {
            "tags": [],
            "needs_background": "light"
          }
        },
        {
          "output_type": "display_data",
          "data": {
            "image/png": "[encoded data removed]",
            "text/plain": [
              "<Figure size 432x288 with 1 Axes>"
            ]
          },
          "metadata": {
            "tags": [],
            "needs_background": "light"
          }
        }
      ]
    },
    {
      "cell_type": "code",
      "metadata": {
        "colab": {
          "base_uri": "https://localhost:8080/",
          "height": 686
        },
        "id": "LQip8h8jr0UA",
        "scrolled": true,
        "outputId": "76c8fd1b-632a-4c10-8755-adea372826cb"
      },
      "source": [
        "df_test"
      ],
      "execution_count": 27,
      "outputs": [
        {
          "output_type": "execute_result",
          "data": {
            "text/html": [
              "<div>\n",
              "<style scoped>\n",
              "    .dataframe tbody tr th:only-of-type {\n",
              "        vertical-align: middle;\n",
              "    }\n",
              "\n",
              "    .dataframe tbody tr th {\n",
              "        vertical-align: top;\n",
              "    }\n",
              "\n",
              "    .dataframe thead th {\n",
              "        text-align: right;\n",
              "    }\n",
              "</style>\n",
              "<table border=\"1\" class=\"dataframe\">\n",
              "  <thead>\n",
              "    <tr style=\"text-align: right;\">\n",
              "      <th></th>\n",
              "      <th>epochs</th>\n",
              "      <th>argmax &gt; 0.5</th>\n",
              "      <th>argmax &lt; 0.5</th>\n",
              "      <th>focus_true_pred_true</th>\n",
              "      <th>focus_false_pred_true</th>\n",
              "      <th>focus_true_pred_false</th>\n",
              "      <th>focus_false_pred_false</th>\n",
              "    </tr>\n",
              "  </thead>\n",
              "  <tbody>\n",
              "    <tr>\n",
              "      <th>0</th>\n",
              "      <td>4</td>\n",
              "      <td>482</td>\n",
              "      <td>518</td>\n",
              "      <td>338</td>\n",
              "      <td>332</td>\n",
              "      <td>0</td>\n",
              "      <td>330</td>\n",
              "    </tr>\n",
              "    <tr>\n",
              "      <th>1</th>\n",
              "      <td>9</td>\n",
              "      <td>589</td>\n",
              "      <td>411</td>\n",
              "      <td>338</td>\n",
              "      <td>337</td>\n",
              "      <td>0</td>\n",
              "      <td>325</td>\n",
              "    </tr>\n",
              "    <tr>\n",
              "      <th>2</th>\n",
              "      <td>14</td>\n",
              "      <td>612</td>\n",
              "      <td>388</td>\n",
              "      <td>338</td>\n",
              "      <td>333</td>\n",
              "      <td>0</td>\n",
              "      <td>329</td>\n",
              "    </tr>\n",
              "    <tr>\n",
              "      <th>3</th>\n",
              "      <td>19</td>\n",
              "      <td>635</td>\n",
              "      <td>365</td>\n",
              "      <td>338</td>\n",
              "      <td>340</td>\n",
              "      <td>0</td>\n",
              "      <td>322</td>\n",
              "    </tr>\n",
              "    <tr>\n",
              "      <th>4</th>\n",
              "      <td>24</td>\n",
              "      <td>649</td>\n",
              "      <td>351</td>\n",
              "      <td>338</td>\n",
              "      <td>345</td>\n",
              "      <td>0</td>\n",
              "      <td>317</td>\n",
              "    </tr>\n",
              "    <tr>\n",
              "      <th>5</th>\n",
              "      <td>29</td>\n",
              "      <td>660</td>\n",
              "      <td>340</td>\n",
              "      <td>338</td>\n",
              "      <td>329</td>\n",
              "      <td>0</td>\n",
              "      <td>333</td>\n",
              "    </tr>\n",
              "    <tr>\n",
              "      <th>6</th>\n",
              "      <td>34</td>\n",
              "      <td>665</td>\n",
              "      <td>335</td>\n",
              "      <td>338</td>\n",
              "      <td>330</td>\n",
              "      <td>0</td>\n",
              "      <td>332</td>\n",
              "    </tr>\n",
              "    <tr>\n",
              "      <th>7</th>\n",
              "      <td>39</td>\n",
              "      <td>673</td>\n",
              "      <td>327</td>\n",
              "      <td>338</td>\n",
              "      <td>345</td>\n",
              "      <td>0</td>\n",
              "      <td>317</td>\n",
              "    </tr>\n",
              "    <tr>\n",
              "      <th>8</th>\n",
              "      <td>44</td>\n",
              "      <td>679</td>\n",
              "      <td>321</td>\n",
              "      <td>338</td>\n",
              "      <td>336</td>\n",
              "      <td>0</td>\n",
              "      <td>326</td>\n",
              "    </tr>\n",
              "    <tr>\n",
              "      <th>9</th>\n",
              "      <td>49</td>\n",
              "      <td>685</td>\n",
              "      <td>315</td>\n",
              "      <td>338</td>\n",
              "      <td>332</td>\n",
              "      <td>0</td>\n",
              "      <td>330</td>\n",
              "    </tr>\n",
              "    <tr>\n",
              "      <th>10</th>\n",
              "      <td>54</td>\n",
              "      <td>690</td>\n",
              "      <td>310</td>\n",
              "      <td>338</td>\n",
              "      <td>333</td>\n",
              "      <td>0</td>\n",
              "      <td>329</td>\n",
              "    </tr>\n",
              "    <tr>\n",
              "      <th>11</th>\n",
              "      <td>59</td>\n",
              "      <td>691</td>\n",
              "      <td>309</td>\n",
              "      <td>338</td>\n",
              "      <td>336</td>\n",
              "      <td>0</td>\n",
              "      <td>326</td>\n",
              "    </tr>\n",
              "    <tr>\n",
              "      <th>12</th>\n",
              "      <td>64</td>\n",
              "      <td>695</td>\n",
              "      <td>305</td>\n",
              "      <td>338</td>\n",
              "      <td>339</td>\n",
              "      <td>0</td>\n",
              "      <td>323</td>\n",
              "    </tr>\n",
              "    <tr>\n",
              "      <th>13</th>\n",
              "      <td>69</td>\n",
              "      <td>699</td>\n",
              "      <td>301</td>\n",
              "      <td>338</td>\n",
              "      <td>334</td>\n",
              "      <td>0</td>\n",
              "      <td>328</td>\n",
              "    </tr>\n",
              "    <tr>\n",
              "      <th>14</th>\n",
              "      <td>74</td>\n",
              "      <td>704</td>\n",
              "      <td>296</td>\n",
              "      <td>338</td>\n",
              "      <td>336</td>\n",
              "      <td>0</td>\n",
              "      <td>326</td>\n",
              "    </tr>\n",
              "    <tr>\n",
              "      <th>15</th>\n",
              "      <td>79</td>\n",
              "      <td>705</td>\n",
              "      <td>295</td>\n",
              "      <td>338</td>\n",
              "      <td>346</td>\n",
              "      <td>0</td>\n",
              "      <td>316</td>\n",
              "    </tr>\n",
              "    <tr>\n",
              "      <th>16</th>\n",
              "      <td>84</td>\n",
              "      <td>708</td>\n",
              "      <td>292</td>\n",
              "      <td>338</td>\n",
              "      <td>342</td>\n",
              "      <td>0</td>\n",
              "      <td>320</td>\n",
              "    </tr>\n",
              "    <tr>\n",
              "      <th>17</th>\n",
              "      <td>89</td>\n",
              "      <td>708</td>\n",
              "      <td>292</td>\n",
              "      <td>338</td>\n",
              "      <td>344</td>\n",
              "      <td>0</td>\n",
              "      <td>318</td>\n",
              "    </tr>\n",
              "    <tr>\n",
              "      <th>18</th>\n",
              "      <td>94</td>\n",
              "      <td>710</td>\n",
              "      <td>290</td>\n",
              "      <td>338</td>\n",
              "      <td>336</td>\n",
              "      <td>0</td>\n",
              "      <td>326</td>\n",
              "    </tr>\n",
              "    <tr>\n",
              "      <th>19</th>\n",
              "      <td>99</td>\n",
              "      <td>712</td>\n",
              "      <td>288</td>\n",
              "      <td>338</td>\n",
              "      <td>342</td>\n",
              "      <td>0</td>\n",
              "      <td>320</td>\n",
              "    </tr>\n",
              "  </tbody>\n",
              "</table>\n",
              "</div>"
            ],
            "text/plain": [
              "    epochs  argmax > 0.5  ...  focus_true_pred_false  focus_false_pred_false\n",
              "0        4           482  ...                      0                     330\n",
              "1        9           589  ...                      0                     325\n",
              "2       14           612  ...                      0                     329\n",
              "3       19           635  ...                      0                     322\n",
              "4       24           649  ...                      0                     317\n",
              "5       29           660  ...                      0                     333\n",
              "6       34           665  ...                      0                     332\n",
              "7       39           673  ...                      0                     317\n",
              "8       44           679  ...                      0                     326\n",
              "9       49           685  ...                      0                     330\n",
              "10      54           690  ...                      0                     329\n",
              "11      59           691  ...                      0                     326\n",
              "12      64           695  ...                      0                     323\n",
              "13      69           699  ...                      0                     328\n",
              "14      74           704  ...                      0                     326\n",
              "15      79           705  ...                      0                     316\n",
              "16      84           708  ...                      0                     320\n",
              "17      89           708  ...                      0                     318\n",
              "18      94           710  ...                      0                     326\n",
              "19      99           712  ...                      0                     320\n",
              "\n",
              "[20 rows x 7 columns]"
            ]
          },
          "metadata": {
            "tags": []
          },
          "execution_count": 27
        }
      ]
    },
    {
      "cell_type": "code",
      "metadata": {
        "id": "oCJcmk19r0UD",
        "colab": {
          "base_uri": "https://localhost:8080/",
          "height": 573
        },
        "outputId": "f6463b1f-1762-4ca0-c674-cccfb2d53114"
      },
      "source": [
        "plt.plot(col1,col8, label='argmax > 0.5')\n",
        "plt.plot(col1,col9, label='argmax < 0.5')\n",
        "\n",
        "plt.legend(loc='center left', bbox_to_anchor=(1, 0.5))\n",
        "plt.xlabel(\"epochs\")\n",
        "plt.ylabel(\"Testing data\")\n",
        "plt.title(\"On Testing set\")\n",
        "plt.show()\n",
        "\n",
        "plt.plot(col1,col10, label =\"focus_true_pred_true \")\n",
        "plt.plot(col1,col11, label =\"focus_false_pred_true \")\n",
        "plt.plot(col1,col12, label =\"focus_true_pred_false \")\n",
        "plt.plot(col1,col13, label =\"focus_false_pred_false \")\n",
        "plt.title(\"On Testing set\")\n",
        "plt.legend(loc='center left', bbox_to_anchor=(1, 0.5))\n",
        "plt.xlabel(\"epochs\")\n",
        "plt.ylabel(\"Testing data\")\n",
        "plt.show()"
      ],
      "execution_count": 28,
      "outputs": [
        {
          "output_type": "display_data",
          "data": {
            "image/png": "[encoded data removed]",
            "text/plain": [
              "<Figure size 432x288 with 1 Axes>"
            ]
          },
          "metadata": {
            "tags": [],
            "needs_background": "light"
          }
        },
        {
          "output_type": "display_data",
          "data": {
            "image/png": "[encoded data removed]",
            "text/plain": [
              "<Figure size 432x288 with 1 Axes>"
            ]
          },
          "metadata": {
            "tags": [],
            "needs_background": "light"
          }
        }
      ]
    },
    {
      "cell_type": "code",
      "metadata": {
        "id": "wjKKoslK55jo"
      },
      "source": [
        "# where.state_dict()[\"linear1.weight\"][:]  = torch.Tensor(np.array([[ 0, -1]]))\r\n",
        "# where.state_dict()[\"linear1.bias\"][:] = torch.Tensor(np.array([0]))"
      ],
      "execution_count": 29,
      "outputs": []
    },
    {
      "cell_type": "code",
      "metadata": {
        "id": "YH_sdpkhr0UK",
        "colab": {
          "base_uri": "https://localhost:8080/"
        },
        "outputId": "1cbc0ce8-ca80-41db-e7cd-5263b34314b9"
      },
      "source": [
        "for param in where.named_parameters():\r\n",
        "  print(param)"
      ],
      "execution_count": 30,
      "outputs": [
        {
          "output_type": "stream",
          "text": [
            "('linear1.weight', Parameter containing:\n",
            "tensor([[-1.8704,  0.6092]], dtype=torch.float64, requires_grad=True))\n",
            "('linear1.bias', Parameter containing:\n",
            "tensor([0.3696], dtype=torch.float64, requires_grad=True))\n"
          ],
          "name": "stdout"
        }
      ]
    },
    {
      "cell_type": "code",
      "metadata": {
        "id": "6ANS5bw67RvG"
      },
      "source": [
        "# what.state_dict()[\"linear1.weight\"][:]  = torch.Tensor(np.array([[ 5,  0],\r\n",
        "#         [0,5],\r\n",
        "#         [ 0, 0]]))\r\n",
        "# what.state_dict()[\"linear1.bias\"][:] = torch.Tensor(np.array([0,  0, 0]))"
      ],
      "execution_count": 31,
      "outputs": []
    },
    {
      "cell_type": "code",
      "metadata": {
        "colab": {
          "base_uri": "https://localhost:8080/"
        },
        "id": "j3dOF2b3fkgp",
        "outputId": "e20137f3-8713-4ab1-f614-2fd9ef965f6e"
      },
      "source": [
        "for param in what.named_parameters():\r\n",
        "  print(param)"
      ],
      "execution_count": 32,
      "outputs": [
        {
          "output_type": "stream",
          "text": [
            "('linear1.weight', Parameter containing:\n",
            "tensor([[ 0.9846,  0.2894],\n",
            "        [ 1.1124,  0.3636],\n",
            "        [-2.0009, -0.5128]], dtype=torch.float64, requires_grad=True))\n",
            "('linear1.bias', Parameter containing:\n",
            "tensor([0.5367, 0.1853, 0.3782], dtype=torch.float64, requires_grad=True))\n"
          ],
          "name": "stdout"
        }
      ]
    },
    {
      "cell_type": "code",
      "metadata": {
        "id": "EZk8Ve_3foPS"
      },
      "source": [
        "xx,yy= np.meshgrid(np.arange(-4,10,0.05),np.arange(-8,6,0.05))\r\n",
        "X = np.concatenate((xx.reshape(-1,1),yy.reshape(-1,1)),axis=1)\r\n",
        "X = torch.Tensor(X).double()\r\n",
        "Y = where.helper(X)\r\n",
        "Y1 = what(X)"
      ],
      "execution_count": 58,
      "outputs": []
    },
    {
      "cell_type": "code",
      "metadata": {
        "colab": {
          "base_uri": "https://localhost:8080/"
        },
        "id": "-d0ldqGnhMrZ",
        "outputId": "e94b7665-3261-43fe-ef72-fc2789d700f3"
      },
      "source": [
        "X.shape,Y.shape"
      ],
      "execution_count": 59,
      "outputs": [
        {
          "output_type": "execute_result",
          "data": {
            "text/plain": [
              "(torch.Size([78400, 2]), torch.Size([78400, 1]))"
            ]
          },
          "metadata": {
            "tags": []
          },
          "execution_count": 59
        }
      ]
    },
    {
      "cell_type": "code",
      "metadata": {
        "id": "ybdSCa9mhUGp"
      },
      "source": [
        "X = X.detach().numpy()\r\n",
        "Y = Y[:,0].detach().numpy()"
      ],
      "execution_count": 60,
      "outputs": []
    },
    {
      "cell_type": "code",
      "metadata": {
        "colab": {
          "base_uri": "https://localhost:8080/",
          "height": 392
        },
        "id": "e5Mg9wiahXTt",
        "outputId": "cdbe1151-60da-40a8-beaa-eca9a3c72306"
      },
      "source": [
        "fig = plt.figure(figsize=(6,6))\r\n",
        "cs = plt.contourf(X[:,0].reshape(xx.shape),X[:,1].reshape(yy.shape),Y.reshape(xx.shape))\r\n",
        "plt.xlabel(\"X1\")\r\n",
        "plt.ylabel(\"X2\")\r\n",
        "fig.colorbar(cs)\r\n",
        "for i in range(4):\r\n",
        "    plt.scatter(x[idx[i],0],x[idx[i],1],label=\"class_\"+str(i))\r\n",
        "plt.legend(loc='center left', bbox_to_anchor=(1, 0.5))\r\n",
        "plt.savefig(\"focus_contour.png\")#,bbox_inches='tight')\r\n"
      ],
      "execution_count": 61,
      "outputs": [
        {
          "output_type": "display_data",
          "data": {
            "image/png": "[encoded data removed]",
            "text/plain": [
              "<Figure size 432x432 with 2 Axes>"
            ]
          },
          "metadata": {
            "tags": [],
            "needs_background": "light"
          }
        }
      ]
    },
    {
      "cell_type": "code",
      "metadata": {
        "id": "BYTbfs7Thay0"
      },
      "source": [
        "Y1 = Y1.detach().numpy()\r\n",
        "Y1 = torch.softmax(torch.Tensor(Y1),dim=1)\r\n",
        "_,Z4= torch.max(Y1,1)\r\n",
        "Z1 = Y1[:,0]\r\n",
        "Z2 = Y1[:,1]\r\n",
        "Z3 = Y1[:,2]"
      ],
      "execution_count": 62,
      "outputs": []
    },
    {
      "cell_type": "code",
      "metadata": {
        "colab": {
          "base_uri": "https://localhost:8080/"
        },
        "id": "8kG2vKUPYaI7",
        "outputId": "6fda4e0e-768d-4964-876b-e8896be4a357"
      },
      "source": [
        "Z4"
      ],
      "execution_count": 63,
      "outputs": [
        {
          "output_type": "execute_result",
          "data": {
            "text/plain": [
              "tensor([2, 2, 2,  ..., 1, 1, 1])"
            ]
          },
          "metadata": {
            "tags": []
          },
          "execution_count": 63
        }
      ]
    },
    {
      "cell_type": "code",
      "metadata": {
        "id": "1esFxcEMhiNw"
      },
      "source": [
        "#fig = plt.figure(figsize=(6,6))\r\n",
        "# plt.scatter(X[:,0],X[:,1],c=Z1)\r\n",
        "# plt.scatter(X[:,0],X[:,1],c=Z2)\r\n",
        "# plt.scatter(X[:,0],X[:,1],c=Z3)\r\n",
        "#cs = plt.contourf(X[:,0].reshape(xx.shape),X[:,1].reshape(yy.shape),Z1.reshape(xx.shape))\r\n",
        "# #plt.colorbar(cs)\r\n",
        "# cs = plt.contourf(X[:,0].reshape(xx.shape),X[:,1].reshape(yy.shape),Z2.reshape(xx.shape))\r\n",
        "# #plt.colorbar(cs)\r\n",
        "# cs = plt.contourf(X[:,0].reshape(xx.shape),X[:,1].reshape(yy.shape),Z3.reshape(xx.shape))\r\n",
        "#plt.colorbar(cs)\r\n",
        "# plt.xlabel(\"X1\")\r\n",
        "# plt.ylabel(\"X2\")\r\n",
        "#ax.view_init(60,100)\r\n",
        "#plt.savefig(\"non_interpretable_class_2d.pdf\",bbox_inches='tight')\r\n"
      ],
      "execution_count": 64,
      "outputs": []
    },
    {
      "cell_type": "code",
      "metadata": {
        "id": "2jRVEsBy9Rxc"
      },
      "source": [
        "avrg = []\r\n",
        "with torch.no_grad():\r\n",
        "  for i, data in  enumerate(train_loader):\r\n",
        "          inputs , labels , fore_idx = data\r\n",
        "          avg_inp,alphas = where(inputs)\r\n",
        "          avrg.append(avg_inp)\r\n",
        "avrg= np.concatenate(avrg,axis=0)"
      ],
      "execution_count": 65,
      "outputs": []
    },
    {
      "cell_type": "code",
      "metadata": {
        "id": "IYMofwarmEE5",
        "colab": {
          "base_uri": "https://localhost:8080/",
          "height": 265
        },
        "outputId": "813f3a1d-c388-41f8-bd1d-bef59591007d"
      },
      "source": [
        "plt.scatter(X[:,0],X[:,1],c=Z4)\r\n",
        "for i in range(4):\r\n",
        "    plt.scatter(x[idx[i],0],x[idx[i],1],label=\"class_\"+str(i))\r\n",
        "plt.legend(loc='center left', bbox_to_anchor=(1, 0.5))\r\n",
        "plt.scatter(avrg[:,0],avrg[:,1])\r\n",
        "plt.savefig(\"decision_boundary.png\",bbox_inches=\"tight\")"
      ],
      "execution_count": 66,
      "outputs": [
        {
          "output_type": "display_data",
          "data": {
            "image/png": "[encoded data removed]",
            "text/plain": [
              "<Figure size 432x288 with 1 Axes>"
            ]
          },
          "metadata": {
            "tags": [],
            "needs_background": "light"
          }
        }
      ]
    },
    {
      "cell_type": "code",
      "metadata": {
        "id": "gpyN2mafZ5Av"
      },
      "source": [
        "true = []\r\n",
        "pred = []\r\n",
        "acc= 0\r\n",
        "for i, data in  enumerate(train_loader):\r\n",
        "        inputs , labels , fore_idx = data\r\n",
        "        avg_inp,alphas = where(inputs)\r\n",
        "        outputs = what(avg_inp)\r\n",
        "        _, predicted = torch.max(outputs.data, 1)\r\n",
        "        true.append(labels)\r\n",
        "        pred.append(predicted)\r\n",
        "        acc+=sum(predicted == labels)"
      ],
      "execution_count": 42,
      "outputs": []
    },
    {
      "cell_type": "code",
      "metadata": {
        "id": "Ol7vxjD0bxYJ"
      },
      "source": [
        "true = np.concatenate(true,axis=0)\r\n",
        "pred = np.concatenate(pred,axis=0)"
      ],
      "execution_count": 43,
      "outputs": []
    },
    {
      "cell_type": "code",
      "metadata": {
        "colab": {
          "base_uri": "https://localhost:8080/"
        },
        "id": "MR7LkXexbzEi",
        "outputId": "02daa794-5c1f-410c-ccc8-19409e178010"
      },
      "source": [
        "from sklearn.metrics import confusion_matrix\r\n",
        "confusion_matrix(true,pred)"
      ],
      "execution_count": 44,
      "outputs": [
        {
          "output_type": "execute_result",
          "data": {
            "text/plain": [
              "array([[ 291,  672,    0],\n",
              "       [ 263,  735,    0],\n",
              "       [   0,    0, 1039]])"
            ]
          },
          "metadata": {
            "tags": []
          },
          "execution_count": 44
        }
      ]
    },
    {
      "cell_type": "code",
      "metadata": {
        "id": "HBbAemTR8wRY"
      },
      "source": [
        ""
      ],
      "execution_count": 44,
      "outputs": []
    }
  ]
}