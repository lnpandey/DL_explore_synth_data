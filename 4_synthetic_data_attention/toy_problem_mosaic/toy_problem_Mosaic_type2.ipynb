{
 "cells": [
  {
   "cell_type": "code",
   "execution_count": 321,
   "metadata": {
    "colab": {
     "base_uri": "https://localhost:8080/",
     "height": 34
    },
    "colab_type": "code",
    "id": "N2_J4Rw2r0SQ",
    "outputId": "c2b52308-501a-43de-e27d-6c295a68d738"
   },
   "outputs": [
    {
     "name": "stdout",
     "output_type": "stream",
     "text": [
      "cuda\n"
     ]
    }
   ],
   "source": [
    "import numpy as np\n",
    "import pandas as pd\n",
    "from matplotlib import pyplot as plt\n",
    "from tqdm import tqdm\n",
    "%matplotlib inline\n",
    "from torch.utils.data import Dataset, DataLoader\n",
    "import torch\n",
    "import torchvision\n",
    "\n",
    "import torch.nn as nn\n",
    "import torch.optim as optim\n",
    "from torch.nn import functional as F\n",
    "device = torch.device(\"cuda\" if torch.cuda.is_available() else \"cpu\")\n",
    "print(device)"
   ]
  },
  {
   "cell_type": "markdown",
   "metadata": {
    "colab_type": "text",
    "id": "F6fjud_Fr0Sa"
   },
   "source": [
    "# Generate dataset"
   ]
  },
  {
   "cell_type": "code",
   "execution_count": 322,
   "metadata": {
    "colab": {
     "base_uri": "https://localhost:8080/",
     "height": 191
    },
    "colab_type": "code",
    "id": "CqdXHO0Cr0Sd",
    "outputId": "679683f2-e6fa-43a0-fbd1-670a7416bfcd"
   },
   "outputs": [
    {
     "name": "stdout",
     "output_type": "stream",
     "text": [
      "0 499\n",
      "1 515\n",
      "2 497\n",
      "3 509\n",
      "4 486\n",
      "5 476\n",
      "6 529\n",
      "7 487\n",
      "8 483\n",
      "9 519\n"
     ]
    }
   ],
   "source": [
    "y = np.random.randint(0,10,5000)\n",
    "idx= []\n",
    "for i in range(10):\n",
    "    print(i,sum(y==i))\n",
    "    idx.append(y==i)"
   ]
  },
  {
   "cell_type": "code",
   "execution_count": 0,
   "metadata": {
    "colab": {},
    "colab_type": "code",
    "id": "ddhXyODwr0Sk"
   },
   "outputs": [],
   "source": [
    "x = np.zeros((5000,2))"
   ]
  },
  {
   "cell_type": "code",
   "execution_count": 0,
   "metadata": {
    "colab": {},
    "colab_type": "code",
    "id": "DyV3N2DIr0Sp"
   },
   "outputs": [],
   "source": [
    "x[idx[0],:] = np.random.multivariate_normal(mean = [5,5],cov=[[0.1,0],[0,0.1]],size=sum(idx[0]))\n",
    "\n",
    "x[idx[1],:] = np.random.multivariate_normal(mean = [-6,7],cov=[[0.1,0],[0,0.1]],size=sum(idx[1]))\n",
    "\n",
    "x[idx[2],:] = np.random.multivariate_normal(mean = [-5,-4],cov=[[0.1,0],[0,0.1]],size=sum(idx[2]))\n",
    "\n",
    "# x[idx[0],:] = np.random.multivariate_normal(mean = [5,5],cov=[[0.1,0],[0,0.1]],size=sum(idx[0]))\n",
    "\n",
    "# x[idx[1],:] = np.random.multivariate_normal(mean = [6,6],cov=[[0.1,0],[0,0.1]],size=sum(idx[1]))\n",
    "\n",
    "# x[idx[2],:] = np.random.multivariate_normal(mean = [5.5,6.5],cov=[[0.1,0],[0,0.1]],size=sum(idx[2]))\n",
    "\n",
    "x[idx[3],:] = np.random.multivariate_normal(mean = [-1,0],cov=[[0.1,0],[0,0.1]],size=sum(idx[3]))\n",
    "\n",
    "\n",
    "x[idx[4],:] = np.random.multivariate_normal(mean = [0,2],cov=[[0.1,0],[0,0.1]],size=sum(idx[4]))\n",
    "\n",
    "x[idx[5],:] = np.random.multivariate_normal(mean = [1,0],cov=[[0.1,0],[0,0.1]],size=sum(idx[5]))\n",
    "\n",
    "x[idx[6],:] = np.random.multivariate_normal(mean = [0,-1],cov=[[0.1,0],[0,0.1]],size=sum(idx[6]))\n",
    "\n",
    "x[idx[7],:] = np.random.multivariate_normal(mean = [0,0],cov=[[0.1,0],[0,0.1]],size=sum(idx[7]))\n",
    "\n",
    "x[idx[8],:] = np.random.multivariate_normal(mean = [-0.5,-0.5],cov=[[0.1,0],[0,0.1]],size=sum(idx[8]))\n",
    "\n",
    "x[idx[9],:] = np.random.multivariate_normal(mean = [0.4,0.2],cov=[[0.1,0],[0,0.1]],size=sum(idx[9]))"
   ]
  },
  {
   "cell_type": "code",
   "execution_count": 325,
   "metadata": {
    "colab": {
     "base_uri": "https://localhost:8080/",
     "height": 282
    },
    "colab_type": "code",
    "id": "hJ8Jm7YUr0St",
    "outputId": "aa5734c1-2828-443a-8f7f-d17be0772800"
   },
   "outputs": [
    {
     "data": {
      "text/plain": [
       "<matplotlib.legend.Legend at 0x7ff1b1bd1cf8>"
      ]
     },
     "execution_count": 325,
     "metadata": {
      "tags": []
     },
     "output_type": "execute_result"
    },
    {
     "data": {
      "image/png": "[encoded data removed]",
      "text/plain": [
       "<Figure size 432x288 with 1 Axes>"
      ]
     },
     "metadata": {
      "tags": []
     },
     "output_type": "display_data"
    }
   ],
   "source": [
    "for i in range(10):\n",
    "    plt.scatter(x[idx[i],0],x[idx[i],1],label=\"class_\"+str(i))\n",
    "plt.legend(loc='center left', bbox_to_anchor=(1, 0.5))"
   ]
  },
  {
   "cell_type": "code",
   "execution_count": 0,
   "metadata": {
    "colab": {},
    "colab_type": "code",
    "id": "UfFHcZJOr0Sz"
   },
   "outputs": [],
   "source": [
    "foreground_classes = {'class_0','class_1', 'class_2'}\n",
    "\n",
    "background_classes = {'class_3','class_4', 'class_5', 'class_6','class_7', 'class_8', 'class_9'}"
   ]
  },
  {
   "cell_type": "code",
   "execution_count": 327,
   "metadata": {
    "colab": {
     "base_uri": "https://localhost:8080/",
     "height": 208
    },
    "colab_type": "code",
    "id": "OplNpNQVr0S2",
    "outputId": "4248ccb1-74b7-4d72-9f84-8bb3d2c8b185"
   },
   "outputs": [
    {
     "name": "stdout",
     "output_type": "stream",
     "text": [
      "background 6 present at 0\n",
      "background 6 present at 1\n",
      "background 9 present at 2\n",
      "background 7 present at 3\n",
      "background 5 present at 4\n",
      "background 8 present at 5\n",
      "background 7 present at 6\n",
      "foreground 0 present at 7\n",
      "background 3 present at 8\n",
      "(9, 2)\n",
      "0 7\n"
     ]
    }
   ],
   "source": [
    "fg_class  = np.random.randint(0,3)\n",
    "fg_idx = np.random.randint(0,9)\n",
    "\n",
    "a = []\n",
    "for i in range(9):\n",
    "    if i == fg_idx:\n",
    "        b = np.random.choice(np.where(idx[fg_class]==True)[0],size=1)\n",
    "        a.append(x[b])\n",
    "        print(\"foreground \"+str(fg_class)+\" present at \" + str(fg_idx))\n",
    "    else:\n",
    "        bg_class = np.random.randint(3,10)\n",
    "        b = np.random.choice(np.where(idx[bg_class]==True)[0],size=1)\n",
    "        a.append(x[b])\n",
    "        print(\"background \"+str(bg_class)+\" present at \" + str(i))\n",
    "a = np.concatenate(a,axis=0)\n",
    "print(a.shape)\n",
    "\n",
    "print(fg_class , fg_idx)"
   ]
  },
  {
   "cell_type": "code",
   "execution_count": 328,
   "metadata": {
    "colab": {
     "base_uri": "https://localhost:8080/",
     "height": 34
    },
    "colab_type": "code",
    "id": "dwZVmmRBr0S8",
    "outputId": "61973860-dcca-417e-c5a2-4deeedf7451d"
   },
   "outputs": [
    {
     "data": {
      "text/plain": [
       "(9, 2)"
      ]
     },
     "execution_count": 328,
     "metadata": {
      "tags": []
     },
     "output_type": "execute_result"
    }
   ],
   "source": [
    "a.shape"
   ]
  },
  {
   "cell_type": "code",
   "execution_count": 329,
   "metadata": {
    "colab": {
     "base_uri": "https://localhost:8080/",
     "height": 330
    },
    "colab_type": "code",
    "id": "OoxzYI-ur0S_",
    "outputId": "053cc0f2-9316-4bc2-95f5-64836888910b"
   },
   "outputs": [
    {
     "data": {
      "text/plain": [
       "array([[-0.16905224],\n",
       "       [-0.80359968],\n",
       "       [-0.2498498 ],\n",
       "       [-1.13881866],\n",
       "       [ 0.67407084],\n",
       "       [ 0.42657997],\n",
       "       [ 0.08897901],\n",
       "       [-0.05954529],\n",
       "       [ 1.45124277],\n",
       "       [ 0.0062078 ],\n",
       "       [-0.55787961],\n",
       "       [-0.6924222 ],\n",
       "       [-0.28956259],\n",
       "       [ 0.41905213],\n",
       "       [ 4.59343068],\n",
       "       [ 4.21569452],\n",
       "       [-0.99762758],\n",
       "       [-0.34475394]])"
      ]
     },
     "execution_count": 329,
     "metadata": {
      "tags": []
     },
     "output_type": "execute_result"
    }
   ],
   "source": [
    "np.reshape(a,(18,1))"
   ]
  },
  {
   "cell_type": "code",
   "execution_count": 0,
   "metadata": {
    "colab": {},
    "colab_type": "code",
    "id": "y4ruI0cxr0TE"
   },
   "outputs": [],
   "source": [
    "a=np.reshape(a,(3,6))"
   ]
  },
  {
   "cell_type": "code",
   "execution_count": 331,
   "metadata": {
    "colab": {
     "base_uri": "https://localhost:8080/",
     "height": 236
    },
    "colab_type": "code",
    "id": "RTUTFhJIr0TI",
    "outputId": "ed24273a-029c-4c7e-fb51-93c82ed62f06"
   },
   "outputs": [
    {
     "data": {
      "text/plain": [
       "<matplotlib.image.AxesImage at 0x7ff1b1b2a7b8>"
      ]
     },
     "execution_count": 331,
     "metadata": {
      "tags": []
     },
     "output_type": "execute_result"
    },
    {
     "data": {
      "image/png": "[encoded data removed]",
      "text/plain": [
       "<Figure size 432x288 with 1 Axes>"
      ]
     },
     "metadata": {
      "tags": []
     },
     "output_type": "display_data"
    }
   ],
   "source": [
    "plt.imshow(a)"
   ]
  },
  {
   "cell_type": "code",
   "execution_count": 0,
   "metadata": {
    "colab": {},
    "colab_type": "code",
    "id": "jqbvfbwVr0TN"
   },
   "outputs": [],
   "source": [
    "desired_num = 3000\n",
    "mosaic_list =[]\n",
    "mosaic_label = []\n",
    "fore_idx=[]\n",
    "for j in range(desired_num):\n",
    "    fg_class  = np.random.randint(0,3)\n",
    "    fg_idx = np.random.randint(0,9)\n",
    "    a = []\n",
    "    for i in range(9):\n",
    "        if i == fg_idx:\n",
    "            b = np.random.choice(np.where(idx[fg_class]==True)[0],size=1)\n",
    "            a.append(x[b])\n",
    "#             print(\"foreground \"+str(fg_class)+\" present at \" + str(fg_idx))\n",
    "        else:\n",
    "            bg_class = np.random.randint(3,10)\n",
    "            b = np.random.choice(np.where(idx[bg_class]==True)[0],size=1)\n",
    "            a.append(x[b])\n",
    "#             print(\"background \"+str(bg_class)+\" present at \" + str(i))\n",
    "    a = np.concatenate(a,axis=0)\n",
    "    mosaic_list.append(np.reshape(a,(18,1)))\n",
    "    mosaic_label.append(fg_class)\n",
    "    fore_idx.append(fg_idx)"
   ]
  },
  {
   "cell_type": "code",
   "execution_count": 0,
   "metadata": {
    "colab": {},
    "colab_type": "code",
    "id": "BOsFmWfMr0TR"
   },
   "outputs": [],
   "source": [
    "mosaic_list = np.concatenate(mosaic_list,axis=1).T\n",
    "# print(mosaic_list)"
   ]
  },
  {
   "cell_type": "code",
   "execution_count": 334,
   "metadata": {
    "colab": {
     "base_uri": "https://localhost:8080/",
     "height": 52
    },
    "colab_type": "code",
    "id": "C2PnW7aQr0TT",
    "outputId": "f4053c42-29f7-47c0-c6d5-8519a8f2d85a"
   },
   "outputs": [
    {
     "name": "stdout",
     "output_type": "stream",
     "text": [
      "(3000,)\n",
      "(3000,)\n"
     ]
    }
   ],
   "source": [
    "print(np.shape(mosaic_label))\n",
    "print(np.shape(fore_idx))"
   ]
  },
  {
   "cell_type": "code",
   "execution_count": 0,
   "metadata": {
    "colab": {},
    "colab_type": "code",
    "id": "yL0BRf8er0TX"
   },
   "outputs": [],
   "source": [
    "class MosaicDataset(Dataset):\n",
    "  \"\"\"MosaicDataset dataset.\"\"\"\n",
    "\n",
    "  def __init__(self, mosaic_list, mosaic_label, fore_idx):\n",
    "    \"\"\"\n",
    "      Args:\n",
    "        csv_file (string): Path to the csv file with annotations.\n",
    "        root_dir (string): Directory with all the images.\n",
    "        transform (callable, optional): Optional transform to be applied\n",
    "            on a sample.\n",
    "    \"\"\"\n",
    "    self.mosaic = mosaic_list\n",
    "    self.label = mosaic_label\n",
    "    self.fore_idx = fore_idx\n",
    "\n",
    "  def __len__(self):\n",
    "    return len(self.label)\n",
    "\n",
    "  def __getitem__(self, idx):\n",
    "    return self.mosaic[idx] , self.label[idx], self.fore_idx[idx]\n",
    "\n",
    "batch = 250\n",
    "msd = MosaicDataset(mosaic_list, mosaic_label , fore_idx)\n",
    "train_loader = DataLoader( msd,batch_size= batch ,shuffle=True)"
   ]
  },
  {
   "cell_type": "code",
   "execution_count": 0,
   "metadata": {
    "colab": {},
    "colab_type": "code",
    "id": "ZVRXgwwNr0Tb"
   },
   "outputs": [],
   "source": [
    "class Wherenet(nn.Module):\n",
    "    def __init__(self):\n",
    "        super(Wherenet,self).__init__()\n",
    "        self.linear1 = nn.Linear(2,4)\n",
    "        self.linear2 = nn.Linear(4,8)\n",
    "        self.linear3 = nn.Linear(8,1)\n",
    "    def forward(self,z):\n",
    "        x = torch.zeros([batch,9],dtype=torch.float64)\n",
    "        y = torch.zeros([batch,2], dtype=torch.float64)\n",
    "        #x,y = x.to(\"cuda\"),y.to(\"cuda\")\n",
    "        for i in range(9):\n",
    "            x[:,i] = self.helper(z[:,2*i:2*i+2])[:,0]\n",
    "            #print(k[:,0].shape,x[:,i].shape)\n",
    "        x = F.softmax(x,dim=1)   # alphas\n",
    "        x1 = x[:,0]\n",
    "        for i in range(9):\n",
    "            x1 = x[:,i]          \n",
    "            #print()\n",
    "            y = y+torch.mul(x1[:,None],z[:,2*i:2*i+2])\n",
    "        return y , x \n",
    "\n",
    "    \n",
    "    def helper(self,x):\n",
    "        x = F.relu(self.linear1(x))\n",
    "        x = F.relu(self.linear2(x))\n",
    "        x = self.linear3(x)\n",
    "        return x\n",
    "\n",
    "    "
   ]
  },
  {
   "cell_type": "code",
   "execution_count": 0,
   "metadata": {
    "colab": {},
    "colab_type": "code",
    "id": "f-Ek05Kxr0Te"
   },
   "outputs": [],
   "source": [
    "trainiter = iter(train_loader)\n",
    "input1,labels1,index1 = trainiter.next()\n",
    "\n"
   ]
  },
  {
   "cell_type": "code",
   "execution_count": 338,
   "metadata": {
    "colab": {
     "base_uri": "https://localhost:8080/",
     "height": 34
    },
    "colab_type": "code",
    "id": "SxEmWZI6r0Ti",
    "outputId": "46966489-348d-4373-d180-bd063654e4fa"
   },
   "outputs": [
    {
     "data": {
      "text/plain": [
       "(torch.Size([250, 2]), torch.Size([250, 9]))"
      ]
     },
     "execution_count": 338,
     "metadata": {
      "tags": []
     },
     "output_type": "execute_result"
    }
   ],
   "source": [
    "where = Wherenet().double()\n",
    "where = where\n",
    "out_where,alphas = where(input1)\n",
    "out_where.shape,alphas.shape"
   ]
  },
  {
   "cell_type": "code",
   "execution_count": 0,
   "metadata": {
    "colab": {},
    "colab_type": "code",
    "id": "5_XeIUk0r0Tl"
   },
   "outputs": [],
   "source": [
    "class Whatnet(nn.Module):\n",
    "    def __init__(self):\n",
    "        super(Whatnet,self).__init__()\n",
    "        self.linear1 = nn.Linear(2,4)\n",
    "        self.linear2 = nn.Linear(4,3)\n",
    "#         self.linear3 = nn.Linear(8,3)\n",
    "    def forward(self,x):\n",
    "        x = F.relu(self.linear1(x))\n",
    "        #x = F.relu(self.linear2(x))\n",
    "        x = self.linear2(x)\n",
    "        return x"
   ]
  },
  {
   "cell_type": "code",
   "execution_count": 0,
   "metadata": {
    "colab": {},
    "colab_type": "code",
    "id": "l35i9bIlr0Tp"
   },
   "outputs": [],
   "source": [
    "what = Whatnet().double()\n",
    "# what(out_where)"
   ]
  },
  {
   "cell_type": "code",
   "execution_count": 0,
   "metadata": {
    "colab": {},
    "colab_type": "code",
    "id": "tMEoCLo1r0Tt"
   },
   "outputs": [],
   "source": [
    "test_data_required = 1000\n",
    "mosaic_list_test =[]\n",
    "mosaic_label_test = []\n",
    "fore_idx_test=[]\n",
    "for j in range(test_data_required):\n",
    "    fg_class  = np.random.randint(0,3)\n",
    "    fg_idx = np.random.randint(0,9)\n",
    "    a = []\n",
    "    for i in range(9):\n",
    "        if i == fg_idx:\n",
    "            b = np.random.choice(np.where(idx[fg_class]==True)[0],size=1)\n",
    "            a.append(x[b])\n",
    "#             print(\"foreground \"+str(fg_class)+\" present at \" + str(fg_idx))\n",
    "        else:\n",
    "            bg_class = np.random.randint(3,10)\n",
    "            b = np.random.choice(np.where(idx[bg_class]==True)[0],size=1)\n",
    "            a.append(x[b])\n",
    "#             print(\"background \"+str(bg_class)+\" present at \" + str(i))\n",
    "    a = np.concatenate(a,axis=0)\n",
    "    mosaic_list_test.append(np.reshape(a,(18,1)))\n",
    "    mosaic_label_test.append(fg_class)\n",
    "    fore_idx_test.append(fg_idx)"
   ]
  },
  {
   "cell_type": "code",
   "execution_count": 342,
   "metadata": {
    "colab": {
     "base_uri": "https://localhost:8080/",
     "height": 34
    },
    "colab_type": "code",
    "id": "2Naetxvbr0Tw",
    "outputId": "3357f563-fc56-4b63-e3a8-82c3b1b146a0"
   },
   "outputs": [
    {
     "name": "stdout",
     "output_type": "stream",
     "text": [
      "(1000, 18)\n"
     ]
    }
   ],
   "source": [
    "mosaic_list_test = np.concatenate(mosaic_list_test,axis=1).T\n",
    "print(mosaic_list_test.shape)"
   ]
  },
  {
   "cell_type": "code",
   "execution_count": 0,
   "metadata": {
    "colab": {},
    "colab_type": "code",
    "id": "Os4KxqrFr0Tz"
   },
   "outputs": [],
   "source": [
    "test_data = MosaicDataset(mosaic_list_test,mosaic_label_test,fore_idx_test)\n",
    "test_loader = DataLoader( test_data,batch_size= batch ,shuffle=False)"
   ]
  },
  {
   "cell_type": "code",
   "execution_count": 344,
   "metadata": {
    "colab": {
     "base_uri": "https://localhost:8080/",
     "height": 382
    },
    "colab_type": "code",
    "id": "pPQY-Wpcr0T2",
    "outputId": "86823199-1ab6-4bf4-c9d8-1815d94ed46a",
    "scrolled": true
   },
   "outputs": [
    {
     "name": "stdout",
     "output_type": "stream",
     "text": [
      "[1,     6] loss: 1.055\n",
      "[1,    12] loss: 1.024\n",
      "[2,     6] loss: 0.975\n",
      "[2,    12] loss: 0.883\n",
      "[3,     6] loss: 0.780\n",
      "[3,    12] loss: 0.724\n",
      "[4,     6] loss: 0.680\n",
      "[4,    12] loss: 0.646\n",
      "[5,     6] loss: 0.623\n",
      "[5,    12] loss: 0.573\n",
      "[6,     6] loss: 0.478\n",
      "[6,    12] loss: 0.354\n",
      "[7,     6] loss: 0.278\n",
      "[7,    12] loss: 0.232\n",
      "[8,     6] loss: 0.212\n",
      "[8,    12] loss: 0.197\n",
      "[9,     6] loss: 0.177\n",
      "[9,    12] loss: 0.153\n",
      "[10,     6] loss: 0.140\n",
      "[10,    12] loss: 0.129\n",
      "Finished Training\n"
     ]
    }
   ],
   "source": [
    "\n",
    "focus_true_pred_true =0\n",
    "focus_false_pred_true =0\n",
    "focus_true_pred_false =0\n",
    "focus_false_pred_false =0\n",
    "\n",
    "argmax_more_than_half = 0\n",
    "argmax_less_than_half =0\n",
    "\n",
    "col1=[]\n",
    "col2=[]\n",
    "col3=[]\n",
    "col4=[]\n",
    "col5=[]\n",
    "col6=[]\n",
    "col7=[]\n",
    "col8=[]\n",
    "col9=[]\n",
    "col10=[]\n",
    "col11=[]\n",
    "col12=[]\n",
    "col13=[]\n",
    "\n",
    "criterion = nn.CrossEntropyLoss()\n",
    "optimizer_where = optim.SGD(where.parameters(), lr=0.01, momentum=0.9)\n",
    "optimizer_what = optim.SGD(what.parameters(), lr=0.01, momentum=0.9)\n",
    "\n",
    "nos_epochs = 10\n",
    "\n",
    "train_loss=[]\n",
    "test_loss =[]\n",
    "train_acc = []\n",
    "test_acc = []\n",
    "for epoch in range(nos_epochs):  # loop over the dataset multiple times\n",
    "\n",
    "    focus_true_pred_true =0\n",
    "    focus_false_pred_true =0\n",
    "    focus_true_pred_false =0\n",
    "    focus_false_pred_false =0\n",
    "\n",
    "    argmax_more_than_half = 0\n",
    "    argmax_less_than_half =0\n",
    "\n",
    "    running_loss = 0.0\n",
    "    cnt=0\n",
    "\n",
    "    iteration = desired_num // batch\n",
    "\n",
    "    #training data set\n",
    "\n",
    "    for i, data in  enumerate(train_loader):\n",
    "        inputs , labels , fore_idx = data\n",
    "        #inputs,labels,fore_idx = inputs.to(device),labels.to(device),fore_idx.to(device)\n",
    "        # zero the parameter gradients\n",
    "\n",
    "        optimizer_what.zero_grad()\n",
    "        optimizer_where.zero_grad()\n",
    "        \n",
    "        \n",
    "        avg_inp,alphas = where(inputs)\n",
    "        \n",
    "        outputs = what(avg_inp)\n",
    "        \n",
    "        _, predicted = torch.max(outputs.data, 1)\n",
    "        \n",
    "        loss = criterion(outputs, labels) \n",
    "        loss.backward() \n",
    "        \n",
    "        optimizer_what.step()\n",
    "        optimizer_where.step() \n",
    "        \n",
    "\n",
    "        running_loss += loss.item()\n",
    "        if cnt % 6 == 5:    # print every 6 mini-batches\n",
    "            print('[%d, %5d] loss: %.3f' %(epoch + 1, cnt + 1, running_loss / 6))\n",
    "            running_loss = 0.0\n",
    "        cnt=cnt+1\n",
    "    \n",
    "        if epoch % 1 == 0:\n",
    "            for j in range (batch):\n",
    "                focus = torch.argmax(alphas[j])\n",
    "\n",
    "                if(alphas[j][focus] >= 0.5):\n",
    "                    argmax_more_than_half +=1\n",
    "                else:\n",
    "                    argmax_less_than_half +=1\n",
    "\n",
    "                if(focus == fore_idx[j] and predicted[j] == labels[j]):\n",
    "                    focus_true_pred_true += 1\n",
    "\n",
    "                elif(focus != fore_idx[j] and predicted[j] == labels[j]):\n",
    "                    focus_false_pred_true +=1\n",
    "\n",
    "                elif(focus == fore_idx[j] and predicted[j] != labels[j]):\n",
    "                    focus_true_pred_false +=1\n",
    "\n",
    "                elif(focus != fore_idx[j] and predicted[j] != labels[j]):\n",
    "                    focus_false_pred_false +=1\n",
    "\n",
    "    if epoch % 1 == 0:\n",
    "        col1.append(epoch)\n",
    "        col2.append(argmax_more_than_half)\n",
    "        col3.append(argmax_less_than_half)\n",
    "        col4.append(focus_true_pred_true)\n",
    "        col5.append(focus_false_pred_true)\n",
    "        col6.append(focus_true_pred_false)\n",
    "        col7.append(focus_false_pred_false)\n",
    "\n",
    "    #************************************************************************\n",
    "        #testing data set  \n",
    "        with torch.no_grad():\n",
    "            focus_true_pred_true =0\n",
    "            focus_false_pred_true =0\n",
    "            focus_true_pred_false =0\n",
    "            focus_false_pred_false =0\n",
    "\n",
    "            argmax_more_than_half = 0\n",
    "            argmax_less_than_half =0\n",
    "            for data in test_loader:\n",
    "                inputs, labels , fore_idx = data\n",
    "                #inputs,labels,fore_idx = inputs.to(device),labels.to(device),fore_idx.to(device) \n",
    "#                 print(inputs.shtorch.save(where.state_dict(),\"model_epoch\"+str(epoch)+\".pt\")ape,labels.shape)\n",
    "                avg_inp,alphas = where(inputs)\n",
    "                outputs = what(avg_inp)\n",
    "                _, predicted = torch.max(outputs.data, 1)\n",
    "\n",
    "                for j in range (batch):\n",
    "                    focus = torch.argmax(alphas[j])\n",
    "\n",
    "                    if(alphas[j][focus] >= 0.5):\n",
    "                        argmax_more_than_half +=1\n",
    "                    else:\n",
    "                        argmax_less_than_half +=1\n",
    "\n",
    "                    if(focus == fore_idx[j] and predicted[j] == labels[j]):\n",
    "                        focus_true_pred_true += 1\n",
    "\n",
    "                    elif(focus != fore_idx[j] and predicted[j] == labels[j]):\n",
    "                        focus_false_pred_true +=1\n",
    "\n",
    "                    elif(focus == fore_idx[j] and predicted[j] != labels[j]):\n",
    "                        focus_true_pred_false +=1\n",
    "\n",
    "                    elif(focus != fore_idx[j] and predicted[j] != labels[j]):\n",
    "                        focus_false_pred_false +=1\n",
    "\n",
    "        col8.append(argmax_more_than_half)\n",
    "        col9.append(argmax_less_than_half)\n",
    "        col10.append(focus_true_pred_true)\n",
    "        col11.append(focus_false_pred_true)\n",
    "        col12.append(focus_true_pred_false)\n",
    "        col13.append(focus_false_pred_false)\n",
    "        torch.save(where.state_dict(),\"where_model_epoch\"+str(epoch)+\".pt\")\n",
    "        torch.save(what.state_dict(),\"what_model_epoch\"+str(epoch)+\".pt\")\n",
    "    \n",
    "print('Finished Training')\n",
    "torch.save(where.state_dict(),\"where_model_epoch\"+str(nos_epochs)+\".pt\")\n",
    "torch.save(what.state_dict(),\"what_model_epoch\"+str(epoch)+\".pt\")\n"
   ]
  },
  {
   "cell_type": "code",
   "execution_count": 0,
   "metadata": {
    "colab": {},
    "colab_type": "code",
    "id": "UvP97PKnr0T5"
   },
   "outputs": [],
   "source": [
    "columns = [\"epochs\", \"argmax > 0.5\" ,\"argmax < 0.5\", \"focus_true_pred_true\", \"focus_false_pred_true\", \"focus_true_pred_false\", \"focus_false_pred_false\" ]\n",
    "df_train = pd.DataFrame()\n",
    "df_test = pd.DataFrame()\n",
    "df_train[columns[0]] = col1\n",
    "df_train[columns[1]] = col2\n",
    "df_train[columns[2]] = col3\n",
    "df_train[columns[3]] = col4\n",
    "df_train[columns[4]] = col5\n",
    "df_train[columns[5]] = col6\n",
    "df_train[columns[6]] = col7\n",
    "\n",
    "df_test[columns[0]] = col1\n",
    "df_test[columns[1]] = col8\n",
    "df_test[columns[2]] = col9\n",
    "df_test[columns[3]] = col10\n",
    "df_test[columns[4]] = col11\n",
    "df_test[columns[5]] = col12\n",
    "df_test[columns[6]] = col13"
   ]
  },
  {
   "cell_type": "code",
   "execution_count": 346,
   "metadata": {
    "colab": {
     "base_uri": "https://localhost:8080/",
     "height": 363
    },
    "colab_type": "code",
    "id": "0hAVV2I5r0T7",
    "outputId": "885d7615-cd70-4c51-8998-6d64b1e5c6f6",
    "scrolled": false
   },
   "outputs": [
    {
     "data": {
      "text/html": [
       "<div>\n",
       "<style scoped>\n",
       "    .dataframe tbody tr th:only-of-type {\n",
       "        vertical-align: middle;\n",
       "    }\n",
       "\n",
       "    .dataframe tbody tr th {\n",
       "        vertical-align: top;\n",
       "    }\n",
       "\n",
       "    .dataframe thead th {\n",
       "        text-align: right;\n",
       "    }\n",
       "</style>\n",
       "<table border=\"1\" class=\"dataframe\">\n",
       "  <thead>\n",
       "    <tr style=\"text-align: right;\">\n",
       "      <th></th>\n",
       "      <th>epochs</th>\n",
       "      <th>argmax &gt; 0.5</th>\n",
       "      <th>argmax &lt; 0.5</th>\n",
       "      <th>focus_true_pred_true</th>\n",
       "      <th>focus_false_pred_true</th>\n",
       "      <th>focus_true_pred_false</th>\n",
       "      <th>focus_false_pred_false</th>\n",
       "    </tr>\n",
       "  </thead>\n",
       "  <tbody>\n",
       "    <tr>\n",
       "      <th>0</th>\n",
       "      <td>0</td>\n",
       "      <td>0</td>\n",
       "      <td>3000</td>\n",
       "      <td>1487</td>\n",
       "      <td>443</td>\n",
       "      <td>1047</td>\n",
       "      <td>23</td>\n",
       "    </tr>\n",
       "    <tr>\n",
       "      <th>1</th>\n",
       "      <td>1</td>\n",
       "      <td>0</td>\n",
       "      <td>3000</td>\n",
       "      <td>1933</td>\n",
       "      <td>1</td>\n",
       "      <td>1065</td>\n",
       "      <td>1</td>\n",
       "    </tr>\n",
       "    <tr>\n",
       "      <th>2</th>\n",
       "      <td>2</td>\n",
       "      <td>406</td>\n",
       "      <td>2594</td>\n",
       "      <td>1726</td>\n",
       "      <td>181</td>\n",
       "      <td>531</td>\n",
       "      <td>562</td>\n",
       "    </tr>\n",
       "    <tr>\n",
       "      <th>3</th>\n",
       "      <td>3</td>\n",
       "      <td>959</td>\n",
       "      <td>2041</td>\n",
       "      <td>1833</td>\n",
       "      <td>123</td>\n",
       "      <td>374</td>\n",
       "      <td>670</td>\n",
       "    </tr>\n",
       "    <tr>\n",
       "      <th>4</th>\n",
       "      <td>4</td>\n",
       "      <td>959</td>\n",
       "      <td>2041</td>\n",
       "      <td>2259</td>\n",
       "      <td>7</td>\n",
       "      <td>600</td>\n",
       "      <td>134</td>\n",
       "    </tr>\n",
       "    <tr>\n",
       "      <th>5</th>\n",
       "      <td>5</td>\n",
       "      <td>1419</td>\n",
       "      <td>1581</td>\n",
       "      <td>2972</td>\n",
       "      <td>0</td>\n",
       "      <td>28</td>\n",
       "      <td>0</td>\n",
       "    </tr>\n",
       "    <tr>\n",
       "      <th>6</th>\n",
       "      <td>6</td>\n",
       "      <td>2036</td>\n",
       "      <td>964</td>\n",
       "      <td>3000</td>\n",
       "      <td>0</td>\n",
       "      <td>0</td>\n",
       "      <td>0</td>\n",
       "    </tr>\n",
       "    <tr>\n",
       "      <th>7</th>\n",
       "      <td>7</td>\n",
       "      <td>2199</td>\n",
       "      <td>801</td>\n",
       "      <td>3000</td>\n",
       "      <td>0</td>\n",
       "      <td>0</td>\n",
       "      <td>0</td>\n",
       "    </tr>\n",
       "    <tr>\n",
       "      <th>8</th>\n",
       "      <td>8</td>\n",
       "      <td>2231</td>\n",
       "      <td>769</td>\n",
       "      <td>3000</td>\n",
       "      <td>0</td>\n",
       "      <td>0</td>\n",
       "      <td>0</td>\n",
       "    </tr>\n",
       "    <tr>\n",
       "      <th>9</th>\n",
       "      <td>9</td>\n",
       "      <td>2210</td>\n",
       "      <td>790</td>\n",
       "      <td>3000</td>\n",
       "      <td>0</td>\n",
       "      <td>0</td>\n",
       "      <td>0</td>\n",
       "    </tr>\n",
       "  </tbody>\n",
       "</table>\n",
       "</div>"
      ],
      "text/plain": [
       "   epochs  argmax > 0.5  ...  focus_true_pred_false  focus_false_pred_false\n",
       "0       0             0  ...                   1047                      23\n",
       "1       1             0  ...                   1065                       1\n",
       "2       2           406  ...                    531                     562\n",
       "3       3           959  ...                    374                     670\n",
       "4       4           959  ...                    600                     134\n",
       "5       5          1419  ...                     28                       0\n",
       "6       6          2036  ...                      0                       0\n",
       "7       7          2199  ...                      0                       0\n",
       "8       8          2231  ...                      0                       0\n",
       "9       9          2210  ...                      0                       0\n",
       "\n",
       "[10 rows x 7 columns]"
      ]
     },
     "execution_count": 346,
     "metadata": {
      "tags": []
     },
     "output_type": "execute_result"
    }
   ],
   "source": [
    "df_train"
   ]
  },
  {
   "cell_type": "code",
   "execution_count": 347,
   "metadata": {
    "colab": {
     "base_uri": "https://localhost:8080/",
     "height": 573
    },
    "colab_type": "code",
    "id": "s-ZXousDr0T-",
    "outputId": "676acc3a-4bd5-4180-ef2d-da3a6e3b0203"
   },
   "outputs": [
    {
     "data": {
      "image/png": "[encoded data removed]",
      "text/plain": [
       "<Figure size 432x288 with 1 Axes>"
      ]
     },
     "metadata": {
      "tags": []
     },
     "output_type": "display_data"
    },
    {
     "data": {
      "image/png": "[encoded data removed]",
      "text/plain": [
       "<Figure size 432x288 with 1 Axes>"
      ]
     },
     "metadata": {
      "tags": []
     },
     "output_type": "display_data"
    }
   ],
   "source": [
    "plt.plot(col1,col2, label='argmax > 0.5')\n",
    "plt.plot(col1,col3, label='argmax < 0.5')\n",
    "\n",
    "plt.legend(loc='center left', bbox_to_anchor=(1, 0.5))\n",
    "plt.xlabel(\"epochs\")\n",
    "plt.ylabel(\"training data\")\n",
    "plt.title(\"On Training set\")\n",
    "plt.show()\n",
    "\n",
    "plt.plot(col1,col4, label =\"focus_true_pred_true \")\n",
    "plt.plot(col1,col5, label =\"focus_false_pred_true \")\n",
    "plt.plot(col1,col6, label =\"focus_true_pred_false \")\n",
    "plt.plot(col1,col7, label =\"focus_false_pred_false \")\n",
    "plt.title(\"On Training set\")\n",
    "plt.legend(loc='center left', bbox_to_anchor=(1, 0.5))\n",
    "plt.xlabel(\"epochs\")\n",
    "plt.ylabel(\"training data\")\n",
    "plt.show()"
   ]
  },
  {
   "cell_type": "code",
   "execution_count": 348,
   "metadata": {
    "colab": {
     "base_uri": "https://localhost:8080/",
     "height": 363
    },
    "colab_type": "code",
    "id": "LQip8h8jr0UA",
    "outputId": "335c6380-bb0e-4775-9008-2ec39c1bee7d",
    "scrolled": true
   },
   "outputs": [
    {
     "data": {
      "text/html": [
       "<div>\n",
       "<style scoped>\n",
       "    .dataframe tbody tr th:only-of-type {\n",
       "        vertical-align: middle;\n",
       "    }\n",
       "\n",
       "    .dataframe tbody tr th {\n",
       "        vertical-align: top;\n",
       "    }\n",
       "\n",
       "    .dataframe thead th {\n",
       "        text-align: right;\n",
       "    }\n",
       "</style>\n",
       "<table border=\"1\" class=\"dataframe\">\n",
       "  <thead>\n",
       "    <tr style=\"text-align: right;\">\n",
       "      <th></th>\n",
       "      <th>epochs</th>\n",
       "      <th>argmax &gt; 0.5</th>\n",
       "      <th>argmax &lt; 0.5</th>\n",
       "      <th>focus_true_pred_true</th>\n",
       "      <th>focus_false_pred_true</th>\n",
       "      <th>focus_true_pred_false</th>\n",
       "      <th>focus_false_pred_false</th>\n",
       "    </tr>\n",
       "  </thead>\n",
       "  <tbody>\n",
       "    <tr>\n",
       "      <th>0</th>\n",
       "      <td>0</td>\n",
       "      <td>0</td>\n",
       "      <td>1000</td>\n",
       "      <td>676</td>\n",
       "      <td>0</td>\n",
       "      <td>324</td>\n",
       "      <td>0</td>\n",
       "    </tr>\n",
       "    <tr>\n",
       "      <th>1</th>\n",
       "      <td>1</td>\n",
       "      <td>0</td>\n",
       "      <td>1000</td>\n",
       "      <td>663</td>\n",
       "      <td>1</td>\n",
       "      <td>314</td>\n",
       "      <td>22</td>\n",
       "    </tr>\n",
       "    <tr>\n",
       "      <th>2</th>\n",
       "      <td>2</td>\n",
       "      <td>335</td>\n",
       "      <td>665</td>\n",
       "      <td>573</td>\n",
       "      <td>97</td>\n",
       "      <td>82</td>\n",
       "      <td>248</td>\n",
       "    </tr>\n",
       "    <tr>\n",
       "      <th>3</th>\n",
       "      <td>3</td>\n",
       "      <td>335</td>\n",
       "      <td>665</td>\n",
       "      <td>697</td>\n",
       "      <td>1</td>\n",
       "      <td>193</td>\n",
       "      <td>109</td>\n",
       "    </tr>\n",
       "    <tr>\n",
       "      <th>4</th>\n",
       "      <td>4</td>\n",
       "      <td>335</td>\n",
       "      <td>665</td>\n",
       "      <td>939</td>\n",
       "      <td>0</td>\n",
       "      <td>61</td>\n",
       "      <td>0</td>\n",
       "    </tr>\n",
       "    <tr>\n",
       "      <th>5</th>\n",
       "      <td>5</td>\n",
       "      <td>652</td>\n",
       "      <td>348</td>\n",
       "      <td>1000</td>\n",
       "      <td>0</td>\n",
       "      <td>0</td>\n",
       "      <td>0</td>\n",
       "    </tr>\n",
       "    <tr>\n",
       "      <th>6</th>\n",
       "      <td>6</td>\n",
       "      <td>701</td>\n",
       "      <td>299</td>\n",
       "      <td>1000</td>\n",
       "      <td>0</td>\n",
       "      <td>0</td>\n",
       "      <td>0</td>\n",
       "    </tr>\n",
       "    <tr>\n",
       "      <th>7</th>\n",
       "      <td>7</td>\n",
       "      <td>729</td>\n",
       "      <td>271</td>\n",
       "      <td>1000</td>\n",
       "      <td>0</td>\n",
       "      <td>0</td>\n",
       "      <td>0</td>\n",
       "    </tr>\n",
       "    <tr>\n",
       "      <th>8</th>\n",
       "      <td>8</td>\n",
       "      <td>729</td>\n",
       "      <td>271</td>\n",
       "      <td>1000</td>\n",
       "      <td>0</td>\n",
       "      <td>0</td>\n",
       "      <td>0</td>\n",
       "    </tr>\n",
       "    <tr>\n",
       "      <th>9</th>\n",
       "      <td>9</td>\n",
       "      <td>721</td>\n",
       "      <td>279</td>\n",
       "      <td>1000</td>\n",
       "      <td>0</td>\n",
       "      <td>0</td>\n",
       "      <td>0</td>\n",
       "    </tr>\n",
       "  </tbody>\n",
       "</table>\n",
       "</div>"
      ],
      "text/plain": [
       "   epochs  argmax > 0.5  ...  focus_true_pred_false  focus_false_pred_false\n",
       "0       0             0  ...                    324                       0\n",
       "1       1             0  ...                    314                      22\n",
       "2       2           335  ...                     82                     248\n",
       "3       3           335  ...                    193                     109\n",
       "4       4           335  ...                     61                       0\n",
       "5       5           652  ...                      0                       0\n",
       "6       6           701  ...                      0                       0\n",
       "7       7           729  ...                      0                       0\n",
       "8       8           729  ...                      0                       0\n",
       "9       9           721  ...                      0                       0\n",
       "\n",
       "[10 rows x 7 columns]"
      ]
     },
     "execution_count": 348,
     "metadata": {
      "tags": []
     },
     "output_type": "execute_result"
    }
   ],
   "source": [
    "df_test"
   ]
  },
  {
   "cell_type": "code",
   "execution_count": 349,
   "metadata": {
    "colab": {
     "base_uri": "https://localhost:8080/",
     "height": 573
    },
    "colab_type": "code",
    "id": "oCJcmk19r0UD",
    "outputId": "97aab739-c523-4256-8760-488afece9134"
   },
   "outputs": [
    {
     "data": {
      "image/png": "[encoded data removed]",
      "text/plain": [
       "<Figure size 432x288 with 1 Axes>"
      ]
     },
     "metadata": {
      "tags": []
     },
     "output_type": "display_data"
    },
    {
     "data": {
      "image/png": "[encoded data removed]",
      "text/plain": [
       "<Figure size 432x288 with 1 Axes>"
      ]
     },
     "metadata": {
      "tags": []
     },
     "output_type": "display_data"
    }
   ],
   "source": [
    "plt.plot(col1,col8, label='argmax > 0.5')\n",
    "plt.plot(col1,col9, label='argmax < 0.5')\n",
    "\n",
    "plt.legend(loc='center left', bbox_to_anchor=(1, 0.5))\n",
    "plt.xlabel(\"epochs\")\n",
    "plt.ylabel(\"Testing data\")\n",
    "plt.title(\"On Testing set\")\n",
    "plt.show()\n",
    "\n",
    "plt.plot(col1,col10, label =\"focus_true_pred_true \")\n",
    "plt.plot(col1,col11, label =\"focus_false_pred_true \")\n",
    "plt.plot(col1,col12, label =\"focus_true_pred_false \")\n",
    "plt.plot(col1,col13, label =\"focus_false_pred_false \")\n",
    "plt.title(\"On Testing set\")\n",
    "plt.legend(loc='center left', bbox_to_anchor=(1, 0.5))\n",
    "plt.xlabel(\"epochs\")\n",
    "plt.ylabel(\"Testing data\")\n",
    "plt.show()"
   ]
  },
  {
   "cell_type": "code",
   "execution_count": 350,
   "metadata": {
    "colab": {
     "base_uri": "https://localhost:8080/",
     "height": 34
    },
    "colab_type": "code",
    "id": "GJusn9Dsr0UF",
    "outputId": "2bbd8f38-8a2d-458c-bf82-09b78ac68b88"
   },
   "outputs": [
    {
     "name": "stdout",
     "output_type": "stream",
     "text": [
      "[ 0.21352607 -0.3170233 ]\n"
     ]
    }
   ],
   "source": [
    "print(x[0])"
   ]
  },
  {
   "cell_type": "code",
   "execution_count": 351,
   "metadata": {
    "colab": {
     "base_uri": "https://localhost:8080/",
     "height": 173
    },
    "colab_type": "code",
    "id": "KmTzai-gr0UH",
    "outputId": "32a41953-bce8-45e3-b4ad-7ba5461b9886"
   },
   "outputs": [
    {
     "name": "stdout",
     "output_type": "stream",
     "text": [
      "[ 0.21352607 -0.3170233 ]\n",
      "[]\n",
      "[]\n",
      "[]\n",
      "[]\n",
      "[]\n",
      "[]\n",
      "[]\n",
      "[]\n"
     ]
    }
   ],
   "source": [
    "for i in range(9):\n",
    "    print(x[0,2*i:2*i+2])"
   ]
  },
  {
   "cell_type": "code",
   "execution_count": 0,
   "metadata": {
    "colab": {},
    "colab_type": "code",
    "id": "YH_sdpkhr0UK"
   },
   "outputs": [],
   "source": []
  }
 ],
 "metadata": {
  "accelerator": "GPU",
  "colab": {
   "name": "Copy of toy_problem_Mosaic.ipynb",
   "provenance": []
  },
  "kernelspec": {
   "display_name": "Python 3",
   "language": "python",
   "name": "python3"
  },
  "language_info": {
   "codemirror_mode": {
    "name": "ipython",
    "version": 3
   },
   "file_extension": ".py",
   "mimetype": "text/x-python",
   "name": "python",
   "nbconvert_exporter": "python",
   "pygments_lexer": "ipython3",
   "version": "3.6.5"
  }
 },
 "nbformat": 4,
 "nbformat_minor": 1
}
