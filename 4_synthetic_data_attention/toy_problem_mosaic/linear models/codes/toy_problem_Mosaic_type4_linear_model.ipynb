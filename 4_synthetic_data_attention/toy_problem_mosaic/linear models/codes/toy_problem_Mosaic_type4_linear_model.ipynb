{
  "nbformat": 4,
  "nbformat_minor": 0,
  "metadata": {
    "accelerator": "GPU",
    "colab": {
      "name": "toy_problem_Mosaic_type4_linear_model.ipynb",
      "provenance": [],
      "collapsed_sections": []
    },
    "kernelspec": {
      "display_name": "Python 3",
      "language": "python",
      "name": "python3"
    },
    "language_info": {
      "codemirror_mode": {
        "name": "ipython",
        "version": 3
      },
      "file_extension": ".py",
      "mimetype": "text/x-python",
      "name": "python",
      "nbconvert_exporter": "python",
      "pygments_lexer": "ipython3",
      "version": "3.6.5"
    }
  },
  "cells": [
    {
      "cell_type": "code",
      "metadata": {
        "id": "N2_J4Rw2r0SQ",
        "colab": {
          "base_uri": "https://localhost:8080/"
        },
        "outputId": "fbe4b17e-e2e6-487c-98b9-ce68381e0c03"
      },
      "source": [
        "import numpy as np\n",
        "import pandas as pd\n",
        "from matplotlib import pyplot as plt\n",
        "from tqdm import tqdm\n",
        "%matplotlib inline\n",
        "from torch.utils.data import Dataset, DataLoader\n",
        "import torch\n",
        "import torchvision\n",
        "\n",
        "import torch.nn as nn\n",
        "import torch.optim as optim\n",
        "from torch.nn import functional as F\n",
        "device = torch.device(\"cuda\" if torch.cuda.is_available() else \"cpu\")\n",
        "print(device)"
      ],
      "execution_count": null,
      "outputs": [
        {
          "output_type": "stream",
          "text": [
            "cuda\n"
          ],
          "name": "stdout"
        }
      ]
    },
    {
      "cell_type": "markdown",
      "metadata": {
        "id": "F6fjud_Fr0Sa"
      },
      "source": [
        "# Generate dataset"
      ]
    },
    {
      "cell_type": "code",
      "metadata": {
        "id": "CqdXHO0Cr0Sd",
        "colab": {
          "base_uri": "https://localhost:8080/"
        },
        "outputId": "83f9d916-397f-492e-9368-c489318cf4db"
      },
      "source": [
        "y = np.random.randint(0,10,5000)\n",
        "idx= []\n",
        "for i in range(10):\n",
        "    print(i,sum(y==i))\n",
        "    idx.append(y==i)"
      ],
      "execution_count": null,
      "outputs": [
        {
          "output_type": "stream",
          "text": [
            "0 504\n",
            "1 518\n",
            "2 505\n",
            "3 499\n",
            "4 485\n",
            "5 472\n",
            "6 476\n",
            "7 528\n",
            "8 533\n",
            "9 480\n"
          ],
          "name": "stdout"
        }
      ]
    },
    {
      "cell_type": "code",
      "metadata": {
        "id": "ddhXyODwr0Sk"
      },
      "source": [
        "x = np.zeros((5000,2))"
      ],
      "execution_count": null,
      "outputs": []
    },
    {
      "cell_type": "code",
      "metadata": {
        "id": "DyV3N2DIr0Sp"
      },
      "source": [
        "x[idx[0],:] = np.random.multivariate_normal(mean = [4,6.5],cov=[[0.01,0],[0,0.01]],size=sum(idx[0]))\n",
        "\n",
        "x[idx[1],:] = np.random.multivariate_normal(mean = [5.5,6],cov=[[0.01,0],[0,0.01]],size=sum(idx[1]))\n",
        "\n",
        "x[idx[2],:] = np.random.multivariate_normal(mean = [4.5,4.5],cov=[[0.01,0],[0,0.01]],size=sum(idx[2]))\n",
        "\n",
        "# x[idx[0],:] = np.random.multivariate_normal(mean = [5,5],cov=[[0.1,0],[0,0.1]],size=sum(idx[0]))\n",
        "\n",
        "# x[idx[1],:] = np.random.multivariate_normal(mean = [6,6],cov=[[0.1,0],[0,0.1]],size=sum(idx[1]))\n",
        "\n",
        "# x[idx[2],:] = np.random.multivariate_normal(mean = [5.5,6.5],cov=[[0.1,0],[0,0.1]],size=sum(idx[2]))\n",
        "\n",
        "x[idx[3],:] = np.random.multivariate_normal(mean = [3,3.5],cov=[[0.01,0],[0,0.01]],size=sum(idx[3]))\n",
        "\n",
        "\n",
        "x[idx[4],:] = np.random.multivariate_normal(mean = [2.5,5.5],cov=[[0.01,0],[0,0.01]],size=sum(idx[4]))\n",
        "\n",
        "x[idx[5],:] = np.random.multivariate_normal(mean = [3.5,8],cov=[[0.01,0],[0,0.01]],size=sum(idx[5]))\n",
        "\n",
        "x[idx[6],:] = np.random.multivariate_normal(mean = [5.5,8],cov=[[0.01,0],[0,0.01]],size=sum(idx[6]))\n",
        "\n",
        "x[idx[7],:] = np.random.multivariate_normal(mean = [7,6.5],cov=[[0.01,0],[0,0.01]],size=sum(idx[7]))\n",
        "\n",
        "x[idx[8],:] = np.random.multivariate_normal(mean = [6.5,4.5],cov=[[0.01,0],[0,0.01]],size=sum(idx[8]))\n",
        "\n",
        "x[idx[9],:] = np.random.multivariate_normal(mean = [5,3],cov=[[0.01,0],[0,0.01]],size=sum(idx[9]))"
      ],
      "execution_count": null,
      "outputs": []
    },
    {
      "cell_type": "code",
      "metadata": {
        "id": "hJ8Jm7YUr0St",
        "colab": {
          "base_uri": "https://localhost:8080/",
          "height": 282
        },
        "outputId": "332b98fc-e2b0-4f9e-9075-fe0768261ebf"
      },
      "source": [
        "for i in range(10):\n",
        "    plt.scatter(x[idx[i],0],x[idx[i],1],label=\"class_\"+str(i))\n",
        "plt.legend(loc='center left', bbox_to_anchor=(1, 0.5))"
      ],
      "execution_count": null,
      "outputs": [
        {
          "output_type": "execute_result",
          "data": {
            "text/plain": [
              "<matplotlib.legend.Legend at 0x7f2ee3b6ae80>"
            ]
          },
          "metadata": {
            "tags": []
          },
          "execution_count": 5
        },
        {
          "output_type": "display_data",
          "data": {
            "image/png": "[encoded data removed]",
            "text/plain": [
              "<Figure size 432x288 with 1 Axes>"
            ]
          },
          "metadata": {
            "tags": [],
            "needs_background": "light"
          }
        }
      ]
    },
    {
      "cell_type": "code",
      "metadata": {
        "id": "UfFHcZJOr0Sz"
      },
      "source": [
        "foreground_classes = {'class_0','class_1', 'class_2'}\n",
        "\n",
        "background_classes = {'class_3','class_4', 'class_5', 'class_6','class_7', 'class_8', 'class_9'}"
      ],
      "execution_count": null,
      "outputs": []
    },
    {
      "cell_type": "code",
      "metadata": {
        "id": "OplNpNQVr0S2",
        "colab": {
          "base_uri": "https://localhost:8080/"
        },
        "outputId": "c0293521-037f-4acb-f855-fd612c9a82ae"
      },
      "source": [
        "fg_class  = np.random.randint(0,3)\n",
        "fg_idx = np.random.randint(0,9)\n",
        "\n",
        "a = []\n",
        "for i in range(9):\n",
        "    if i == fg_idx:\n",
        "        b = np.random.choice(np.where(idx[fg_class]==True)[0],size=1)\n",
        "        a.append(x[b])\n",
        "        print(\"foreground \"+str(fg_class)+\" present at \" + str(fg_idx))\n",
        "    else:\n",
        "        bg_class = np.random.randint(3,10)\n",
        "        b = np.random.choice(np.where(idx[bg_class]==True)[0],size=1)\n",
        "        a.append(x[b])\n",
        "        print(\"background \"+str(bg_class)+\" present at \" + str(i))\n",
        "a = np.concatenate(a,axis=0)\n",
        "print(a.shape)\n",
        "\n",
        "print(fg_class , fg_idx)"
      ],
      "execution_count": null,
      "outputs": [
        {
          "output_type": "stream",
          "text": [
            "background 4 present at 0\n",
            "background 9 present at 1\n",
            "background 5 present at 2\n",
            "background 4 present at 3\n",
            "background 9 present at 4\n",
            "background 3 present at 5\n",
            "background 8 present at 6\n",
            "background 4 present at 7\n",
            "foreground 2 present at 8\n",
            "(9, 2)\n",
            "2 8\n"
          ],
          "name": "stdout"
        }
      ]
    },
    {
      "cell_type": "code",
      "metadata": {
        "id": "dwZVmmRBr0S8",
        "colab": {
          "base_uri": "https://localhost:8080/"
        },
        "outputId": "faa9b5bd-2b16-4310-de67-db002d0f695a"
      },
      "source": [
        "a.shape"
      ],
      "execution_count": null,
      "outputs": [
        {
          "output_type": "execute_result",
          "data": {
            "text/plain": [
              "(9, 2)"
            ]
          },
          "metadata": {
            "tags": []
          },
          "execution_count": 8
        }
      ]
    },
    {
      "cell_type": "code",
      "metadata": {
        "id": "OoxzYI-ur0S_",
        "colab": {
          "base_uri": "https://localhost:8080/"
        },
        "outputId": "82cc0ca1-9b2b-4800-ac39-a2994996fa6d"
      },
      "source": [
        "np.reshape(a,(18,1))"
      ],
      "execution_count": null,
      "outputs": [
        {
          "output_type": "execute_result",
          "data": {
            "text/plain": [
              "array([[2.43917122],\n",
              "       [5.42619361],\n",
              "       [4.98550133],\n",
              "       [3.04334555],\n",
              "       [3.4834295 ],\n",
              "       [8.04074859],\n",
              "       [2.47411035],\n",
              "       [5.58555192],\n",
              "       [5.15413157],\n",
              "       [3.1833102 ],\n",
              "       [2.90751495],\n",
              "       [3.66714092],\n",
              "       [6.6176415 ],\n",
              "       [4.45182103],\n",
              "       [2.41822495],\n",
              "       [5.49261852],\n",
              "       [4.52353036],\n",
              "       [4.59019755]])"
            ]
          },
          "metadata": {
            "tags": []
          },
          "execution_count": 9
        }
      ]
    },
    {
      "cell_type": "code",
      "metadata": {
        "id": "y4ruI0cxr0TE"
      },
      "source": [
        "a=np.reshape(a,(3,6))"
      ],
      "execution_count": null,
      "outputs": []
    },
    {
      "cell_type": "code",
      "metadata": {
        "id": "RTUTFhJIr0TI",
        "colab": {
          "base_uri": "https://localhost:8080/",
          "height": 236
        },
        "outputId": "388f4918-0a64-4347-8745-66c262e9f653"
      },
      "source": [
        "plt.imshow(a)"
      ],
      "execution_count": null,
      "outputs": [
        {
          "output_type": "execute_result",
          "data": {
            "text/plain": [
              "<matplotlib.image.AxesImage at 0x7f2ee3666828>"
            ]
          },
          "metadata": {
            "tags": []
          },
          "execution_count": 11
        },
        {
          "output_type": "display_data",
          "data": {
            "image/png": "[encoded data removed]",
            "text/plain": [
              "<Figure size 432x288 with 1 Axes>"
            ]
          },
          "metadata": {
            "tags": [],
            "needs_background": "light"
          }
        }
      ]
    },
    {
      "cell_type": "code",
      "metadata": {
        "id": "jqbvfbwVr0TN"
      },
      "source": [
        "desired_num = 3000\n",
        "mosaic_list =[]\n",
        "mosaic_label = []\n",
        "fore_idx=[]\n",
        "for j in range(desired_num):\n",
        "    fg_class  = np.random.randint(0,3)\n",
        "    fg_idx = np.random.randint(0,9)\n",
        "    a = []\n",
        "    for i in range(9):\n",
        "        if i == fg_idx:\n",
        "            b = np.random.choice(np.where(idx[fg_class]==True)[0],size=1)\n",
        "            a.append(x[b])\n",
        "#             print(\"foreground \"+str(fg_class)+\" present at \" + str(fg_idx))\n",
        "        else:\n",
        "            bg_class = np.random.randint(3,10)\n",
        "            b = np.random.choice(np.where(idx[bg_class]==True)[0],size=1)\n",
        "            a.append(x[b])\n",
        "#             print(\"background \"+str(bg_class)+\" present at \" + str(i))\n",
        "    a = np.concatenate(a,axis=0)\n",
        "    mosaic_list.append(np.reshape(a,(18,1)))\n",
        "    mosaic_label.append(fg_class)\n",
        "    fore_idx.append(fg_idx)"
      ],
      "execution_count": null,
      "outputs": []
    },
    {
      "cell_type": "code",
      "metadata": {
        "id": "BOsFmWfMr0TR"
      },
      "source": [
        "mosaic_list = np.concatenate(mosaic_list,axis=1).T\n",
        "# print(mosaic_list)"
      ],
      "execution_count": null,
      "outputs": []
    },
    {
      "cell_type": "code",
      "metadata": {
        "id": "C2PnW7aQr0TT",
        "colab": {
          "base_uri": "https://localhost:8080/"
        },
        "outputId": "5a460acf-2bff-4fd8-9a17-a01ff2911ccb"
      },
      "source": [
        "print(np.shape(mosaic_label))\n",
        "print(np.shape(fore_idx))"
      ],
      "execution_count": null,
      "outputs": [
        {
          "output_type": "stream",
          "text": [
            "(3000,)\n",
            "(3000,)\n"
          ],
          "name": "stdout"
        }
      ]
    },
    {
      "cell_type": "code",
      "metadata": {
        "id": "yL0BRf8er0TX"
      },
      "source": [
        "class MosaicDataset(Dataset):\n",
        "  \"\"\"MosaicDataset dataset.\"\"\"\n",
        "\n",
        "  def __init__(self, mosaic_list, mosaic_label, fore_idx):\n",
        "    \"\"\"\n",
        "      Args:\n",
        "        csv_file (string): Path to the csv file with annotations.\n",
        "        root_dir (string): Directory with all the images.\n",
        "        transform (callable, optional): Optional transform to be applied\n",
        "            on a sample.\n",
        "    \"\"\"\n",
        "    self.mosaic = mosaic_list\n",
        "    self.label = mosaic_label\n",
        "    self.fore_idx = fore_idx\n",
        "\n",
        "  def __len__(self):\n",
        "    return len(self.label)\n",
        "\n",
        "  def __getitem__(self, idx):\n",
        "    return self.mosaic[idx] , self.label[idx], self.fore_idx[idx]\n",
        "\n",
        "batch = 250\n",
        "msd = MosaicDataset(mosaic_list, mosaic_label , fore_idx)\n",
        "train_loader = DataLoader( msd,batch_size= batch ,shuffle=True)"
      ],
      "execution_count": null,
      "outputs": []
    },
    {
      "cell_type": "code",
      "metadata": {
        "id": "ZVRXgwwNr0Tb"
      },
      "source": [
        "class Wherenet(nn.Module):\n",
        "    def __init__(self):\n",
        "        super(Wherenet,self).__init__()\n",
        "        self.linear1 = nn.Linear(2,1)\n",
        "        #self.linear2 = nn.Linear(50,50)\n",
        "        #self.linear3 = nn.Linear(50,1)\n",
        "    def forward(self,z):\n",
        "        x = torch.zeros([batch,9],dtype=torch.float64)\n",
        "        y = torch.zeros([batch,2], dtype=torch.float64)\n",
        "        #x,y = x.to(\"cuda\"),y.to(\"cuda\")\n",
        "        for i in range(9):\n",
        "            x[:,i] = self.helper(z[:,2*i:2*i+2])[:,0]\n",
        "            #print(k[:,0].shape,x[:,i].shape)\n",
        "        x = F.softmax(x,dim=1)   # alphas\n",
        "        x1 = x[:,0]\n",
        "        for i in range(9):\n",
        "            x1 = x[:,i]          \n",
        "            #print()\n",
        "            y = y+torch.mul(x1[:,None],z[:,2*i:2*i+2])\n",
        "        return y , x \n",
        "\n",
        "    \n",
        "    def helper(self,x):\n",
        "        #x = F.relu(self.linear1(x))\n",
        "        #x = F.relu(self.linear2(x))\n",
        "        x = self.linear1(x)\n",
        "        return x\n",
        "\n",
        "    "
      ],
      "execution_count": null,
      "outputs": []
    },
    {
      "cell_type": "code",
      "metadata": {
        "id": "f-Ek05Kxr0Te"
      },
      "source": [
        "trainiter = iter(train_loader)\n",
        "input1,labels1,index1 = trainiter.next()\n",
        "\n"
      ],
      "execution_count": null,
      "outputs": []
    },
    {
      "cell_type": "code",
      "metadata": {
        "id": "SxEmWZI6r0Ti",
        "colab": {
          "base_uri": "https://localhost:8080/"
        },
        "outputId": "971b5262-e79c-4ccd-f880-678d60f80609"
      },
      "source": [
        "where = Wherenet().double()\n",
        "where = where\n",
        "out_where,alphas = where(input1)\n",
        "out_where.shape,alphas.shape"
      ],
      "execution_count": null,
      "outputs": [
        {
          "output_type": "execute_result",
          "data": {
            "text/plain": [
              "(torch.Size([250, 2]), torch.Size([250, 9]))"
            ]
          },
          "metadata": {
            "tags": []
          },
          "execution_count": 18
        }
      ]
    },
    {
      "cell_type": "code",
      "metadata": {
        "id": "5_XeIUk0r0Tl"
      },
      "source": [
        "class Whatnet(nn.Module):\n",
        "    def __init__(self):\n",
        "        super(Whatnet,self).__init__()\n",
        "        self.linear1 = nn.Linear(2,3)\n",
        "        #self.linear2 = nn.Linear(50,3)\n",
        "#         self.linear3 = nn.Linear(8,3)\n",
        "    def forward(self,x):\n",
        "        #x = F.relu(self.linear1(x))\n",
        "        #x = F.relu(self.linear2(x))\n",
        "        x = self.linear1(x)\n",
        "        return x"
      ],
      "execution_count": null,
      "outputs": []
    },
    {
      "cell_type": "code",
      "metadata": {
        "id": "l35i9bIlr0Tp"
      },
      "source": [
        "what = Whatnet().double()\n",
        "# what(out_where)"
      ],
      "execution_count": null,
      "outputs": []
    },
    {
      "cell_type": "code",
      "metadata": {
        "id": "tMEoCLo1r0Tt"
      },
      "source": [
        "test_data_required = 1000\n",
        "mosaic_list_test =[]\n",
        "mosaic_label_test = []\n",
        "fore_idx_test=[]\n",
        "for j in range(test_data_required):\n",
        "    fg_class  = np.random.randint(0,3)\n",
        "    fg_idx = np.random.randint(0,9)\n",
        "    a = []\n",
        "    for i in range(9):\n",
        "        if i == fg_idx:\n",
        "            b = np.random.choice(np.where(idx[fg_class]==True)[0],size=1)\n",
        "            a.append(x[b])\n",
        "#             print(\"foreground \"+str(fg_class)+\" present at \" + str(fg_idx))\n",
        "        else:\n",
        "            bg_class = np.random.randint(3,10)\n",
        "            b = np.random.choice(np.where(idx[bg_class]==True)[0],size=1)\n",
        "            a.append(x[b])\n",
        "#             print(\"background \"+str(bg_class)+\" present at \" + str(i))\n",
        "    a = np.concatenate(a,axis=0)\n",
        "    mosaic_list_test.append(np.reshape(a,(18,1)))\n",
        "    mosaic_label_test.append(fg_class)\n",
        "    fore_idx_test.append(fg_idx)"
      ],
      "execution_count": null,
      "outputs": []
    },
    {
      "cell_type": "code",
      "metadata": {
        "id": "2Naetxvbr0Tw",
        "colab": {
          "base_uri": "https://localhost:8080/"
        },
        "outputId": "ebb4f5c5-a282-42cd-c950-c9361b9067f3"
      },
      "source": [
        "mosaic_list_test = np.concatenate(mosaic_list_test,axis=1).T\n",
        "print(mosaic_list_test.shape)"
      ],
      "execution_count": null,
      "outputs": [
        {
          "output_type": "stream",
          "text": [
            "(1000, 18)\n"
          ],
          "name": "stdout"
        }
      ]
    },
    {
      "cell_type": "code",
      "metadata": {
        "id": "Os4KxqrFr0Tz"
      },
      "source": [
        "test_data = MosaicDataset(mosaic_list_test,mosaic_label_test,fore_idx_test)\n",
        "test_loader = DataLoader( test_data,batch_size= batch ,shuffle=False)"
      ],
      "execution_count": null,
      "outputs": []
    },
    {
      "cell_type": "code",
      "metadata": {
        "id": "pPQY-Wpcr0T2",
        "scrolled": true,
        "colab": {
          "base_uri": "https://localhost:8080/"
        },
        "outputId": "e7806fed-7f61-49ad-c752-e8a67c1f621d"
      },
      "source": [
        "focus_true_pred_true =0\n",
        "focus_false_pred_true =0\n",
        "focus_true_pred_false =0\n",
        "focus_false_pred_false =0\n",
        "\n",
        "argmax_more_than_half = 0\n",
        "argmax_less_than_half =0\n",
        "\n",
        "col1=[]\n",
        "col2=[]\n",
        "col3=[]\n",
        "col4=[]\n",
        "col5=[]\n",
        "col6=[]\n",
        "col7=[]\n",
        "col8=[]\n",
        "col9=[]\n",
        "col10=[]\n",
        "col11=[]\n",
        "col12=[]\n",
        "col13=[]\n",
        "\n",
        "criterion = nn.CrossEntropyLoss()\n",
        "optimizer_where = optim.SGD(where.parameters(), lr=0.01, momentum=0.9)\n",
        "optimizer_what = optim.SGD(what.parameters(), lr=0.01, momentum=0.9)\n",
        "\n",
        "nos_epochs = 300\n",
        "\n",
        "train_loss=[]\n",
        "test_loss =[]\n",
        "train_acc = []\n",
        "test_acc = []\n",
        "loss_curi = []\n",
        "for epoch in range(nos_epochs):  # loop over the dataset multiple times\n",
        "\n",
        "    focus_true_pred_true =0\n",
        "    focus_false_pred_true =0\n",
        "    focus_true_pred_false =0\n",
        "    focus_false_pred_false =0\n",
        "\n",
        "    argmax_more_than_half = 0\n",
        "    argmax_less_than_half =0\n",
        "\n",
        "    running_loss = 0.0\n",
        "    cnt=0\n",
        "    ep_lossi = []\n",
        "    iteration = desired_num // batch\n",
        "\n",
        "    #training data set\n",
        "\n",
        "    for i, data in  enumerate(train_loader):\n",
        "        inputs , labels , fore_idx = data\n",
        "        #inputs,labels,fore_idx = inputs.to(device),labels.to(device),fore_idx.to(device)\n",
        "        # zero the parameter gradients\n",
        "\n",
        "        optimizer_what.zero_grad()\n",
        "        optimizer_where.zero_grad()\n",
        "        \n",
        "        \n",
        "        avg_inp,alphas = where(inputs)\n",
        "        \n",
        "        outputs = what(avg_inp)\n",
        "        \n",
        "        _, predicted = torch.max(outputs.data, 1)\n",
        "        \n",
        "        loss = criterion(outputs, labels) \n",
        "        loss.backward() \n",
        "        \n",
        "        optimizer_what.step()\n",
        "        optimizer_where.step() \n",
        "        \n",
        "\n",
        "        running_loss += loss.item()\n",
        "        if cnt % 6 == 5:    # print every 6 mini-batches\n",
        "            print('[%d, %5d] loss: %.3f' %(epoch + 1, cnt + 1, running_loss / 6))\n",
        "            ep_lossi.append(running_loss/6)\n",
        "            running_loss = 0.0\n",
        "        cnt=cnt+1\n",
        "        \n",
        "    \n",
        "        if epoch % 1 == 0:\n",
        "            for j in range (batch):\n",
        "                focus = torch.argmax(alphas[j])\n",
        "\n",
        "                if(alphas[j][focus] >= 0.5):\n",
        "                    argmax_more_than_half +=1\n",
        "                else:\n",
        "                    argmax_less_than_half +=1\n",
        "\n",
        "                if(focus == fore_idx[j] and predicted[j] == labels[j]):\n",
        "                    focus_true_pred_true += 1\n",
        "\n",
        "                elif(focus != fore_idx[j] and predicted[j] == labels[j]):\n",
        "                    focus_false_pred_true +=1\n",
        "\n",
        "                elif(focus == fore_idx[j] and predicted[j] != labels[j]):\n",
        "                    focus_true_pred_false +=1\n",
        "\n",
        "                elif(focus != fore_idx[j] and predicted[j] != labels[j]):\n",
        "                    focus_false_pred_false +=1\n",
        "\n",
        "    loss_curi.append(np.mean(ep_lossi))   #loss per epoch\n",
        "    if (np.mean(ep_lossi) <= 0.01):\n",
        "      break\n",
        "    \n",
        "    if epoch % 1 == 0:\n",
        "        col1.append(epoch)\n",
        "        col2.append(argmax_more_than_half)\n",
        "        col3.append(argmax_less_than_half)\n",
        "        col4.append(focus_true_pred_true)\n",
        "        col5.append(focus_false_pred_true)\n",
        "        col6.append(focus_true_pred_false)\n",
        "        col7.append(focus_false_pred_false)\n",
        "\n",
        "    #************************************************************************\n",
        "        #testing data set  \n",
        "        with torch.no_grad():\n",
        "            focus_true_pred_true =0\n",
        "            focus_false_pred_true =0\n",
        "            focus_true_pred_false =0\n",
        "            focus_false_pred_false =0\n",
        "\n",
        "            argmax_more_than_half = 0\n",
        "            argmax_less_than_half =0\n",
        "            for data in test_loader:\n",
        "                inputs, labels , fore_idx = data\n",
        "                #inputs,labels,fore_idx = inputs.to(device),labels.to(device),fore_idx.to(device) \n",
        "#                 print(inputs.shtorch.save(where.state_dict(),\"model_epoch\"+str(epoch)+\".pt\")ape,labels.shape)\n",
        "                avg_inp,alphas = where(inputs)\n",
        "                outputs = what(avg_inp)\n",
        "                _, predicted = torch.max(outputs.data, 1)\n",
        "\n",
        "                for j in range (batch):\n",
        "                    focus = torch.argmax(alphas[j])\n",
        "\n",
        "                    if(alphas[j][focus] >= 0.5):\n",
        "                        argmax_more_than_half +=1\n",
        "                    else:\n",
        "                        argmax_less_than_half +=1\n",
        "\n",
        "                    if(focus == fore_idx[j] and predicted[j] == labels[j]):\n",
        "                        focus_true_pred_true += 1\n",
        "\n",
        "                    elif(focus != fore_idx[j] and predicted[j] == labels[j]):\n",
        "                        focus_false_pred_true +=1\n",
        "\n",
        "                    elif(focus == fore_idx[j] and predicted[j] != labels[j]):\n",
        "                        focus_true_pred_false +=1\n",
        "\n",
        "                    elif(focus != fore_idx[j] and predicted[j] != labels[j]):\n",
        "                        focus_false_pred_false +=1\n",
        "\n",
        "        col8.append(argmax_more_than_half)\n",
        "        col9.append(argmax_less_than_half)\n",
        "        col10.append(focus_true_pred_true)\n",
        "        col11.append(focus_false_pred_true)\n",
        "        col12.append(focus_true_pred_false)\n",
        "        col13.append(focus_false_pred_false)\n",
        "        #torch.save(where.state_dict(),\"where_model_epoch\"+str(epoch)+\".pt\")\n",
        "       #torch.save(what.state_dict(),\"what_model_epoch\"+str(epoch)+\".pt\")\n",
        "    \n",
        "print('Finished Training')\n",
        "# torch.save(where.state_dict(),\"where_model_epoch\"+str(nos_epochs)+\".pt\")\n",
        "# torch.save(what.state_dict(),\"what_model_epoch\"+str(epoch)+\".pt\")\n"
      ],
      "execution_count": null,
      "outputs": [
        {
          "output_type": "stream",
          "text": [
            "[1,     6] loss: 1.522\n",
            "[1,    12] loss: 1.361\n",
            "[2,     6] loss: 1.166\n",
            "[2,    12] loss: 1.177\n",
            "[3,     6] loss: 1.156\n",
            "[3,    12] loss: 1.123\n",
            "[4,     6] loss: 1.123\n",
            "[4,    12] loss: 1.108\n",
            "[5,     6] loss: 1.106\n",
            "[5,    12] loss: 1.108\n",
            "[6,     6] loss: 1.101\n",
            "[6,    12] loss: 1.107\n",
            "[7,     6] loss: 1.102\n",
            "[7,    12] loss: 1.102\n",
            "[8,     6] loss: 1.103\n",
            "[8,    12] loss: 1.106\n",
            "[9,     6] loss: 1.101\n",
            "[9,    12] loss: 1.103\n",
            "[10,     6] loss: 1.102\n",
            "[10,    12] loss: 1.101\n",
            "[11,     6] loss: 1.102\n",
            "[11,    12] loss: 1.099\n",
            "[12,     6] loss: 1.106\n",
            "[12,    12] loss: 1.106\n",
            "[13,     6] loss: 1.102\n",
            "[13,    12] loss: 1.105\n",
            "[14,     6] loss: 1.103\n",
            "[14,    12] loss: 1.104\n",
            "[15,     6] loss: 1.097\n",
            "[15,    12] loss: 1.103\n",
            "[16,     6] loss: 1.103\n",
            "[16,    12] loss: 1.099\n",
            "[17,     6] loss: 1.104\n",
            "[17,    12] loss: 1.107\n",
            "[18,     6] loss: 1.102\n",
            "[18,    12] loss: 1.102\n",
            "[19,     6] loss: 1.100\n",
            "[19,    12] loss: 1.100\n",
            "[20,     6] loss: 1.099\n",
            "[20,    12] loss: 1.100\n",
            "[21,     6] loss: 1.103\n",
            "[21,    12] loss: 1.102\n",
            "[22,     6] loss: 1.100\n",
            "[22,    12] loss: 1.102\n",
            "[23,     6] loss: 1.100\n",
            "[23,    12] loss: 1.103\n",
            "[24,     6] loss: 1.102\n",
            "[24,    12] loss: 1.101\n",
            "[25,     6] loss: 1.098\n",
            "[25,    12] loss: 1.099\n",
            "[26,     6] loss: 1.101\n",
            "[26,    12] loss: 1.099\n",
            "[27,     6] loss: 1.099\n",
            "[27,    12] loss: 1.100\n",
            "[28,     6] loss: 1.099\n",
            "[28,    12] loss: 1.101\n",
            "[29,     6] loss: 1.098\n",
            "[29,    12] loss: 1.099\n",
            "[30,     6] loss: 1.104\n",
            "[30,    12] loss: 1.100\n",
            "[31,     6] loss: 1.102\n",
            "[31,    12] loss: 1.104\n",
            "[32,     6] loss: 1.102\n",
            "[32,    12] loss: 1.096\n",
            "[33,     6] loss: 1.099\n",
            "[33,    12] loss: 1.097\n",
            "[34,     6] loss: 1.099\n",
            "[34,    12] loss: 1.099\n",
            "[35,     6] loss: 1.100\n",
            "[35,    12] loss: 1.101\n",
            "[36,     6] loss: 1.098\n",
            "[36,    12] loss: 1.105\n",
            "[37,     6] loss: 1.101\n",
            "[37,    12] loss: 1.098\n",
            "[38,     6] loss: 1.099\n",
            "[38,    12] loss: 1.097\n",
            "[39,     6] loss: 1.102\n",
            "[39,    12] loss: 1.096\n",
            "[40,     6] loss: 1.100\n",
            "[40,    12] loss: 1.099\n",
            "[41,     6] loss: 1.103\n",
            "[41,    12] loss: 1.098\n",
            "[42,     6] loss: 1.097\n",
            "[42,    12] loss: 1.099\n",
            "[43,     6] loss: 1.101\n",
            "[43,    12] loss: 1.098\n",
            "[44,     6] loss: 1.100\n",
            "[44,    12] loss: 1.098\n",
            "[45,     6] loss: 1.100\n",
            "[45,    12] loss: 1.102\n",
            "[46,     6] loss: 1.104\n",
            "[46,    12] loss: 1.100\n",
            "[47,     6] loss: 1.102\n",
            "[47,    12] loss: 1.099\n",
            "[48,     6] loss: 1.098\n",
            "[48,    12] loss: 1.099\n",
            "[49,     6] loss: 1.098\n",
            "[49,    12] loss: 1.097\n",
            "[50,     6] loss: 1.100\n",
            "[50,    12] loss: 1.098\n",
            "[51,     6] loss: 1.098\n",
            "[51,    12] loss: 1.103\n",
            "[52,     6] loss: 1.105\n",
            "[52,    12] loss: 1.099\n",
            "[53,     6] loss: 1.096\n",
            "[53,    12] loss: 1.101\n",
            "[54,     6] loss: 1.097\n",
            "[54,    12] loss: 1.098\n",
            "[55,     6] loss: 1.098\n",
            "[55,    12] loss: 1.098\n",
            "[56,     6] loss: 1.096\n",
            "[56,    12] loss: 1.096\n",
            "[57,     6] loss: 1.096\n",
            "[57,    12] loss: 1.098\n",
            "[58,     6] loss: 1.096\n",
            "[58,    12] loss: 1.098\n",
            "[59,     6] loss: 1.094\n",
            "[59,    12] loss: 1.101\n",
            "[60,     6] loss: 1.094\n",
            "[60,    12] loss: 1.097\n",
            "[61,     6] loss: 1.092\n",
            "[61,    12] loss: 1.097\n",
            "[62,     6] loss: 1.094\n",
            "[62,    12] loss: 1.096\n",
            "[63,     6] loss: 1.099\n",
            "[63,    12] loss: 1.096\n",
            "[64,     6] loss: 1.097\n",
            "[64,    12] loss: 1.095\n",
            "[65,     6] loss: 1.097\n",
            "[65,    12] loss: 1.098\n",
            "[66,     6] loss: 1.097\n",
            "[66,    12] loss: 1.092\n",
            "[67,     6] loss: 1.097\n",
            "[67,    12] loss: 1.092\n",
            "[68,     6] loss: 1.094\n",
            "[68,    12] loss: 1.093\n",
            "[69,     6] loss: 1.093\n",
            "[69,    12] loss: 1.096\n",
            "[70,     6] loss: 1.093\n",
            "[70,    12] loss: 1.100\n",
            "[71,     6] loss: 1.096\n",
            "[71,    12] loss: 1.086\n",
            "[72,     6] loss: 1.093\n",
            "[72,    12] loss: 1.095\n",
            "[73,     6] loss: 1.092\n",
            "[73,    12] loss: 1.096\n",
            "[74,     6] loss: 1.092\n",
            "[74,    12] loss: 1.098\n",
            "[75,     6] loss: 1.094\n",
            "[75,    12] loss: 1.093\n",
            "[76,     6] loss: 1.096\n",
            "[76,    12] loss: 1.097\n",
            "[77,     6] loss: 1.089\n",
            "[77,    12] loss: 1.097\n",
            "[78,     6] loss: 1.095\n",
            "[78,    12] loss: 1.089\n",
            "[79,     6] loss: 1.095\n",
            "[79,    12] loss: 1.091\n",
            "[80,     6] loss: 1.092\n",
            "[80,    12] loss: 1.094\n",
            "[81,     6] loss: 1.095\n",
            "[81,    12] loss: 1.087\n",
            "[82,     6] loss: 1.096\n",
            "[82,    12] loss: 1.092\n",
            "[83,     6] loss: 1.089\n",
            "[83,    12] loss: 1.095\n",
            "[84,     6] loss: 1.092\n",
            "[84,    12] loss: 1.088\n",
            "[85,     6] loss: 1.088\n",
            "[85,    12] loss: 1.096\n",
            "[86,     6] loss: 1.103\n",
            "[86,    12] loss: 1.092\n",
            "[87,     6] loss: 1.087\n",
            "[87,    12] loss: 1.094\n",
            "[88,     6] loss: 1.096\n",
            "[88,    12] loss: 1.092\n",
            "[89,     6] loss: 1.093\n",
            "[89,    12] loss: 1.087\n",
            "[90,     6] loss: 1.089\n",
            "[90,    12] loss: 1.105\n",
            "[91,     6] loss: 1.093\n",
            "[91,    12] loss: 1.100\n",
            "[92,     6] loss: 1.101\n",
            "[92,    12] loss: 1.101\n",
            "[93,     6] loss: 1.106\n",
            "[93,    12] loss: 1.095\n",
            "[94,     6] loss: 1.090\n",
            "[94,    12] loss: 1.097\n",
            "[95,     6] loss: 1.101\n",
            "[95,    12] loss: 1.082\n",
            "[96,     6] loss: 1.095\n",
            "[96,    12] loss: 1.090\n",
            "[97,     6] loss: 1.093\n",
            "[97,    12] loss: 1.089\n",
            "[98,     6] loss: 1.092\n",
            "[98,    12] loss: 1.096\n",
            "[99,     6] loss: 1.099\n",
            "[99,    12] loss: 1.085\n",
            "[100,     6] loss: 1.088\n",
            "[100,    12] loss: 1.095\n",
            "[101,     6] loss: 1.095\n",
            "[101,    12] loss: 1.087\n",
            "[102,     6] loss: 1.093\n",
            "[102,    12] loss: 1.087\n",
            "[103,     6] loss: 1.098\n",
            "[103,    12] loss: 1.095\n",
            "[104,     6] loss: 1.090\n",
            "[104,    12] loss: 1.090\n",
            "[105,     6] loss: 1.086\n",
            "[105,    12] loss: 1.094\n",
            "[106,     6] loss: 1.090\n",
            "[106,    12] loss: 1.091\n",
            "[107,     6] loss: 1.093\n",
            "[107,    12] loss: 1.096\n",
            "[108,     6] loss: 1.098\n",
            "[108,    12] loss: 1.092\n",
            "[109,     6] loss: 1.090\n",
            "[109,    12] loss: 1.093\n",
            "[110,     6] loss: 1.106\n",
            "[110,    12] loss: 1.088\n",
            "[111,     6] loss: 1.090\n",
            "[111,    12] loss: 1.093\n",
            "[112,     6] loss: 1.098\n",
            "[112,    12] loss: 1.093\n",
            "[113,     6] loss: 1.089\n",
            "[113,    12] loss: 1.090\n",
            "[114,     6] loss: 1.092\n",
            "[114,    12] loss: 1.086\n",
            "[115,     6] loss: 1.086\n",
            "[115,    12] loss: 1.094\n",
            "[116,     6] loss: 1.089\n",
            "[116,    12] loss: 1.089\n",
            "[117,     6] loss: 1.088\n",
            "[117,    12] loss: 1.089\n",
            "[118,     6] loss: 1.092\n",
            "[118,    12] loss: 1.089\n",
            "[119,     6] loss: 1.090\n",
            "[119,    12] loss: 1.089\n",
            "[120,     6] loss: 1.092\n",
            "[120,    12] loss: 1.094\n",
            "[121,     6] loss: 1.096\n",
            "[121,    12] loss: 1.088\n",
            "[122,     6] loss: 1.091\n",
            "[122,    12] loss: 1.087\n",
            "[123,     6] loss: 1.095\n",
            "[123,    12] loss: 1.093\n",
            "[124,     6] loss: 1.099\n",
            "[124,    12] loss: 1.093\n",
            "[125,     6] loss: 1.092\n",
            "[125,    12] loss: 1.100\n",
            "[126,     6] loss: 1.098\n",
            "[126,    12] loss: 1.088\n",
            "[127,     6] loss: 1.098\n",
            "[127,    12] loss: 1.089\n",
            "[128,     6] loss: 1.092\n",
            "[128,    12] loss: 1.089\n",
            "[129,     6] loss: 1.091\n",
            "[129,    12] loss: 1.090\n",
            "[130,     6] loss: 1.093\n",
            "[130,    12] loss: 1.087\n",
            "[131,     6] loss: 1.094\n",
            "[131,    12] loss: 1.084\n",
            "[132,     6] loss: 1.088\n",
            "[132,    12] loss: 1.091\n",
            "[133,     6] loss: 1.095\n",
            "[133,    12] loss: 1.090\n",
            "[134,     6] loss: 1.092\n",
            "[134,    12] loss: 1.087\n",
            "[135,     6] loss: 1.087\n",
            "[135,    12] loss: 1.091\n",
            "[136,     6] loss: 1.089\n",
            "[136,    12] loss: 1.090\n",
            "[137,     6] loss: 1.087\n",
            "[137,    12] loss: 1.092\n",
            "[138,     6] loss: 1.089\n",
            "[138,    12] loss: 1.090\n",
            "[139,     6] loss: 1.089\n",
            "[139,    12] loss: 1.096\n",
            "[140,     6] loss: 1.092\n",
            "[140,    12] loss: 1.097\n",
            "[141,     6] loss: 1.094\n",
            "[141,    12] loss: 1.108\n",
            "[142,     6] loss: 1.101\n",
            "[142,    12] loss: 1.090\n",
            "[143,     6] loss: 1.090\n",
            "[143,    12] loss: 1.093\n",
            "[144,     6] loss: 1.091\n",
            "[144,    12] loss: 1.100\n",
            "[145,     6] loss: 1.090\n",
            "[145,    12] loss: 1.091\n",
            "[146,     6] loss: 1.088\n",
            "[146,    12] loss: 1.093\n",
            "[147,     6] loss: 1.088\n",
            "[147,    12] loss: 1.087\n",
            "[148,     6] loss: 1.087\n",
            "[148,    12] loss: 1.087\n",
            "[149,     6] loss: 1.088\n",
            "[149,    12] loss: 1.092\n",
            "[150,     6] loss: 1.098\n",
            "[150,    12] loss: 1.092\n",
            "[151,     6] loss: 1.093\n",
            "[151,    12] loss: 1.088\n",
            "[152,     6] loss: 1.084\n",
            "[152,    12] loss: 1.093\n",
            "[153,     6] loss: 1.088\n",
            "[153,    12] loss: 1.096\n",
            "[154,     6] loss: 1.089\n",
            "[154,    12] loss: 1.088\n",
            "[155,     6] loss: 1.088\n",
            "[155,    12] loss: 1.093\n",
            "[156,     6] loss: 1.090\n",
            "[156,    12] loss: 1.092\n",
            "[157,     6] loss: 1.095\n",
            "[157,    12] loss: 1.093\n",
            "[158,     6] loss: 1.097\n",
            "[158,    12] loss: 1.095\n",
            "[159,     6] loss: 1.095\n",
            "[159,    12] loss: 1.092\n",
            "[160,     6] loss: 1.096\n",
            "[160,    12] loss: 1.089\n",
            "[161,     6] loss: 1.091\n",
            "[161,    12] loss: 1.088\n",
            "[162,     6] loss: 1.096\n",
            "[162,    12] loss: 1.078\n",
            "[163,     6] loss: 1.093\n",
            "[163,    12] loss: 1.089\n",
            "[164,     6] loss: 1.086\n",
            "[164,    12] loss: 1.089\n",
            "[165,     6] loss: 1.091\n",
            "[165,    12] loss: 1.088\n",
            "[166,     6] loss: 1.091\n",
            "[166,    12] loss: 1.092\n",
            "[167,     6] loss: 1.094\n",
            "[167,    12] loss: 1.087\n",
            "[168,     6] loss: 1.091\n",
            "[168,    12] loss: 1.086\n",
            "[169,     6] loss: 1.086\n",
            "[169,    12] loss: 1.090\n",
            "[170,     6] loss: 1.086\n",
            "[170,    12] loss: 1.090\n",
            "[171,     6] loss: 1.084\n",
            "[171,    12] loss: 1.093\n",
            "[172,     6] loss: 1.086\n",
            "[172,    12] loss: 1.093\n",
            "[173,     6] loss: 1.090\n",
            "[173,    12] loss: 1.089\n",
            "[174,     6] loss: 1.089\n",
            "[174,    12] loss: 1.088\n",
            "[175,     6] loss: 1.092\n",
            "[175,    12] loss: 1.084\n",
            "[176,     6] loss: 1.089\n",
            "[176,    12] loss: 1.094\n",
            "[177,     6] loss: 1.092\n",
            "[177,    12] loss: 1.090\n",
            "[178,     6] loss: 1.094\n",
            "[178,    12] loss: 1.087\n",
            "[179,     6] loss: 1.093\n",
            "[179,    12] loss: 1.095\n",
            "[180,     6] loss: 1.087\n",
            "[180,    12] loss: 1.090\n",
            "[181,     6] loss: 1.086\n",
            "[181,    12] loss: 1.088\n",
            "[182,     6] loss: 1.088\n",
            "[182,    12] loss: 1.086\n",
            "[183,     6] loss: 1.087\n",
            "[183,    12] loss: 1.091\n",
            "[184,     6] loss: 1.087\n",
            "[184,    12] loss: 1.085\n",
            "[185,     6] loss: 1.087\n",
            "[185,    12] loss: 1.089\n",
            "[186,     6] loss: 1.088\n",
            "[186,    12] loss: 1.086\n",
            "[187,     6] loss: 1.088\n",
            "[187,    12] loss: 1.090\n",
            "[188,     6] loss: 1.093\n",
            "[188,    12] loss: 1.089\n",
            "[189,     6] loss: 1.087\n",
            "[189,    12] loss: 1.088\n",
            "[190,     6] loss: 1.086\n",
            "[190,    12] loss: 1.090\n",
            "[191,     6] loss: 1.088\n",
            "[191,    12] loss: 1.083\n",
            "[192,     6] loss: 1.084\n",
            "[192,    12] loss: 1.090\n",
            "[193,     6] loss: 1.088\n",
            "[193,    12] loss: 1.087\n",
            "[194,     6] loss: 1.080\n",
            "[194,    12] loss: 1.098\n",
            "[195,     6] loss: 1.097\n",
            "[195,    12] loss: 1.086\n",
            "[196,     6] loss: 1.085\n",
            "[196,    12] loss: 1.101\n",
            "[197,     6] loss: 1.092\n",
            "[197,    12] loss: 1.091\n",
            "[198,     6] loss: 1.098\n",
            "[198,    12] loss: 1.095\n",
            "[199,     6] loss: 1.090\n",
            "[199,    12] loss: 1.095\n",
            "[200,     6] loss: 1.089\n",
            "[200,    12] loss: 1.086\n",
            "[201,     6] loss: 1.095\n",
            "[201,    12] loss: 1.091\n",
            "[202,     6] loss: 1.085\n",
            "[202,    12] loss: 1.091\n",
            "[203,     6] loss: 1.096\n",
            "[203,    12] loss: 1.091\n",
            "[204,     6] loss: 1.093\n",
            "[204,    12] loss: 1.087\n",
            "[205,     6] loss: 1.089\n",
            "[205,    12] loss: 1.090\n",
            "[206,     6] loss: 1.092\n",
            "[206,    12] loss: 1.080\n",
            "[207,     6] loss: 1.082\n",
            "[207,    12] loss: 1.092\n",
            "[208,     6] loss: 1.090\n",
            "[208,    12] loss: 1.085\n",
            "[209,     6] loss: 1.092\n",
            "[209,    12] loss: 1.091\n",
            "[210,     6] loss: 1.092\n",
            "[210,    12] loss: 1.090\n",
            "[211,     6] loss: 1.087\n",
            "[211,    12] loss: 1.085\n",
            "[212,     6] loss: 1.079\n",
            "[212,    12] loss: 1.091\n",
            "[213,     6] loss: 1.088\n",
            "[213,    12] loss: 1.083\n",
            "[214,     6] loss: 1.085\n",
            "[214,    12] loss: 1.089\n",
            "[215,     6] loss: 1.092\n",
            "[215,    12] loss: 1.085\n",
            "[216,     6] loss: 1.087\n",
            "[216,    12] loss: 1.089\n",
            "[217,     6] loss: 1.092\n",
            "[217,    12] loss: 1.090\n",
            "[218,     6] loss: 1.089\n",
            "[218,    12] loss: 1.092\n",
            "[219,     6] loss: 1.089\n",
            "[219,    12] loss: 1.091\n",
            "[220,     6] loss: 1.089\n",
            "[220,    12] loss: 1.085\n",
            "[221,     6] loss: 1.084\n",
            "[221,    12] loss: 1.089\n",
            "[222,     6] loss: 1.092\n",
            "[222,    12] loss: 1.085\n",
            "[223,     6] loss: 1.088\n",
            "[223,    12] loss: 1.084\n",
            "[224,     6] loss: 1.088\n",
            "[224,    12] loss: 1.086\n",
            "[225,     6] loss: 1.083\n",
            "[225,    12] loss: 1.089\n",
            "[226,     6] loss: 1.084\n",
            "[226,    12] loss: 1.091\n",
            "[227,     6] loss: 1.091\n",
            "[227,    12] loss: 1.082\n",
            "[228,     6] loss: 1.081\n",
            "[228,    12] loss: 1.090\n",
            "[229,     6] loss: 1.089\n",
            "[229,    12] loss: 1.086\n",
            "[230,     6] loss: 1.087\n",
            "[230,    12] loss: 1.087\n",
            "[231,     6] loss: 1.097\n",
            "[231,    12] loss: 1.086\n",
            "[232,     6] loss: 1.086\n",
            "[232,    12] loss: 1.085\n",
            "[233,     6] loss: 1.084\n",
            "[233,    12] loss: 1.085\n",
            "[234,     6] loss: 1.090\n",
            "[234,    12] loss: 1.084\n",
            "[235,     6] loss: 1.084\n",
            "[235,    12] loss: 1.096\n",
            "[236,     6] loss: 1.090\n",
            "[236,    12] loss: 1.088\n",
            "[237,     6] loss: 1.088\n",
            "[237,    12] loss: 1.082\n",
            "[238,     6] loss: 1.087\n",
            "[238,    12] loss: 1.088\n",
            "[239,     6] loss: 1.088\n",
            "[239,    12] loss: 1.088\n",
            "[240,     6] loss: 1.085\n",
            "[240,    12] loss: 1.092\n",
            "[241,     6] loss: 1.084\n",
            "[241,    12] loss: 1.088\n",
            "[242,     6] loss: 1.085\n",
            "[242,    12] loss: 1.087\n",
            "[243,     6] loss: 1.083\n",
            "[243,    12] loss: 1.089\n",
            "[244,     6] loss: 1.084\n",
            "[244,    12] loss: 1.088\n",
            "[245,     6] loss: 1.092\n",
            "[245,    12] loss: 1.082\n",
            "[246,     6] loss: 1.089\n",
            "[246,    12] loss: 1.083\n",
            "[247,     6] loss: 1.087\n",
            "[247,    12] loss: 1.091\n",
            "[248,     6] loss: 1.085\n",
            "[248,    12] loss: 1.084\n",
            "[249,     6] loss: 1.084\n",
            "[249,    12] loss: 1.087\n",
            "[250,     6] loss: 1.092\n",
            "[250,    12] loss: 1.081\n",
            "[251,     6] loss: 1.083\n",
            "[251,    12] loss: 1.091\n",
            "[252,     6] loss: 1.087\n",
            "[252,    12] loss: 1.090\n",
            "[253,     6] loss: 1.091\n",
            "[253,    12] loss: 1.083\n",
            "[254,     6] loss: 1.085\n",
            "[254,    12] loss: 1.086\n",
            "[255,     6] loss: 1.086\n",
            "[255,    12] loss: 1.085\n",
            "[256,     6] loss: 1.082\n",
            "[256,    12] loss: 1.086\n",
            "[257,     6] loss: 1.084\n",
            "[257,    12] loss: 1.088\n",
            "[258,     6] loss: 1.088\n",
            "[258,    12] loss: 1.084\n",
            "[259,     6] loss: 1.083\n",
            "[259,    12] loss: 1.094\n",
            "[260,     6] loss: 1.082\n",
            "[260,    12] loss: 1.090\n",
            "[261,     6] loss: 1.079\n",
            "[261,    12] loss: 1.098\n",
            "[262,     6] loss: 1.086\n",
            "[262,    12] loss: 1.086\n",
            "[263,     6] loss: 1.088\n",
            "[263,    12] loss: 1.080\n",
            "[264,     6] loss: 1.088\n",
            "[264,    12] loss: 1.087\n",
            "[265,     6] loss: 1.084\n",
            "[265,    12] loss: 1.088\n",
            "[266,     6] loss: 1.088\n",
            "[266,    12] loss: 1.090\n",
            "[267,     6] loss: 1.086\n",
            "[267,    12] loss: 1.089\n",
            "[268,     6] loss: 1.083\n",
            "[268,    12] loss: 1.087\n",
            "[269,     6] loss: 1.085\n",
            "[269,    12] loss: 1.092\n",
            "[270,     6] loss: 1.092\n",
            "[270,    12] loss: 1.085\n",
            "[271,     6] loss: 1.085\n",
            "[271,    12] loss: 1.093\n",
            "[272,     6] loss: 1.088\n",
            "[272,    12] loss: 1.088\n",
            "[273,     6] loss: 1.084\n",
            "[273,    12] loss: 1.089\n",
            "[274,     6] loss: 1.087\n",
            "[274,    12] loss: 1.084\n",
            "[275,     6] loss: 1.083\n",
            "[275,    12] loss: 1.088\n",
            "[276,     6] loss: 1.090\n",
            "[276,    12] loss: 1.085\n",
            "[277,     6] loss: 1.089\n",
            "[277,    12] loss: 1.087\n",
            "[278,     6] loss: 1.091\n",
            "[278,    12] loss: 1.094\n",
            "[279,     6] loss: 1.089\n",
            "[279,    12] loss: 1.096\n",
            "[280,     6] loss: 1.086\n",
            "[280,    12] loss: 1.085\n",
            "[281,     6] loss: 1.084\n",
            "[281,    12] loss: 1.088\n",
            "[282,     6] loss: 1.084\n",
            "[282,    12] loss: 1.088\n",
            "[283,     6] loss: 1.086\n",
            "[283,    12] loss: 1.085\n",
            "[284,     6] loss: 1.088\n",
            "[284,    12] loss: 1.084\n",
            "[285,     6] loss: 1.087\n",
            "[285,    12] loss: 1.082\n",
            "[286,     6] loss: 1.085\n",
            "[286,    12] loss: 1.082\n",
            "[287,     6] loss: 1.083\n",
            "[287,    12] loss: 1.087\n",
            "[288,     6] loss: 1.087\n",
            "[288,    12] loss: 1.090\n",
            "[289,     6] loss: 1.088\n",
            "[289,    12] loss: 1.088\n",
            "[290,     6] loss: 1.080\n",
            "[290,    12] loss: 1.090\n",
            "[291,     6] loss: 1.081\n",
            "[291,    12] loss: 1.087\n",
            "[292,     6] loss: 1.088\n",
            "[292,    12] loss: 1.085\n",
            "[293,     6] loss: 1.081\n",
            "[293,    12] loss: 1.091\n",
            "[294,     6] loss: 1.089\n",
            "[294,    12] loss: 1.088\n",
            "[295,     6] loss: 1.088\n",
            "[295,    12] loss: 1.085\n",
            "[296,     6] loss: 1.085\n",
            "[296,    12] loss: 1.089\n",
            "[297,     6] loss: 1.086\n",
            "[297,    12] loss: 1.085\n",
            "[298,     6] loss: 1.086\n",
            "[298,    12] loss: 1.090\n",
            "[299,     6] loss: 1.080\n",
            "[299,    12] loss: 1.088\n",
            "[300,     6] loss: 1.087\n",
            "[300,    12] loss: 1.081\n",
            "Finished Training\n"
          ],
          "name": "stdout"
        }
      ]
    },
    {
      "cell_type": "code",
      "metadata": {
        "id": "UvP97PKnr0T5"
      },
      "source": [
        "columns = [\"epochs\", \"argmax > 0.5\" ,\"argmax < 0.5\", \"focus_true_pred_true\", \"focus_false_pred_true\", \"focus_true_pred_false\", \"focus_false_pred_false\" ]\n",
        "df_train = pd.DataFrame()\n",
        "df_test = pd.DataFrame()\n",
        "df_train[columns[0]] = col1\n",
        "df_train[columns[1]] = col2\n",
        "df_train[columns[2]] = col3\n",
        "df_train[columns[3]] = col4\n",
        "df_train[columns[4]] = col5\n",
        "df_train[columns[5]] = col6\n",
        "df_train[columns[6]] = col7\n",
        "\n",
        "df_test[columns[0]] = col1\n",
        "df_test[columns[1]] = col8\n",
        "df_test[columns[2]] = col9\n",
        "df_test[columns[3]] = col10\n",
        "df_test[columns[4]] = col11\n",
        "df_test[columns[5]] = col12\n",
        "df_test[columns[6]] = col13"
      ],
      "execution_count": null,
      "outputs": []
    },
    {
      "cell_type": "code",
      "metadata": {
        "id": "0hAVV2I5r0T7",
        "scrolled": false,
        "colab": {
          "base_uri": "https://localhost:8080/",
          "height": 419
        },
        "outputId": "d57e91bf-38c5-4aeb-ded4-6665bc95d90f"
      },
      "source": [
        "df_train"
      ],
      "execution_count": null,
      "outputs": [
        {
          "output_type": "execute_result",
          "data": {
            "text/html": [
              "<div>\n",
              "<style scoped>\n",
              "    .dataframe tbody tr th:only-of-type {\n",
              "        vertical-align: middle;\n",
              "    }\n",
              "\n",
              "    .dataframe tbody tr th {\n",
              "        vertical-align: top;\n",
              "    }\n",
              "\n",
              "    .dataframe thead th {\n",
              "        text-align: right;\n",
              "    }\n",
              "</style>\n",
              "<table border=\"1\" class=\"dataframe\">\n",
              "  <thead>\n",
              "    <tr style=\"text-align: right;\">\n",
              "      <th></th>\n",
              "      <th>epochs</th>\n",
              "      <th>argmax &gt; 0.5</th>\n",
              "      <th>argmax &lt; 0.5</th>\n",
              "      <th>focus_true_pred_true</th>\n",
              "      <th>focus_false_pred_true</th>\n",
              "      <th>focus_true_pred_false</th>\n",
              "      <th>focus_false_pred_false</th>\n",
              "    </tr>\n",
              "  </thead>\n",
              "  <tbody>\n",
              "    <tr>\n",
              "      <th>0</th>\n",
              "      <td>0</td>\n",
              "      <td>49</td>\n",
              "      <td>2951</td>\n",
              "      <td>3</td>\n",
              "      <td>990</td>\n",
              "      <td>11</td>\n",
              "      <td>1996</td>\n",
              "    </tr>\n",
              "    <tr>\n",
              "      <th>1</th>\n",
              "      <td>1</td>\n",
              "      <td>115</td>\n",
              "      <td>2885</td>\n",
              "      <td>6</td>\n",
              "      <td>999</td>\n",
              "      <td>7</td>\n",
              "      <td>1988</td>\n",
              "    </tr>\n",
              "    <tr>\n",
              "      <th>2</th>\n",
              "      <td>2</td>\n",
              "      <td>167</td>\n",
              "      <td>2833</td>\n",
              "      <td>8</td>\n",
              "      <td>1006</td>\n",
              "      <td>9</td>\n",
              "      <td>1977</td>\n",
              "    </tr>\n",
              "    <tr>\n",
              "      <th>3</th>\n",
              "      <td>3</td>\n",
              "      <td>182</td>\n",
              "      <td>2818</td>\n",
              "      <td>11</td>\n",
              "      <td>1029</td>\n",
              "      <td>21</td>\n",
              "      <td>1939</td>\n",
              "    </tr>\n",
              "    <tr>\n",
              "      <th>4</th>\n",
              "      <td>4</td>\n",
              "      <td>180</td>\n",
              "      <td>2820</td>\n",
              "      <td>19</td>\n",
              "      <td>1004</td>\n",
              "      <td>18</td>\n",
              "      <td>1959</td>\n",
              "    </tr>\n",
              "    <tr>\n",
              "      <th>...</th>\n",
              "      <td>...</td>\n",
              "      <td>...</td>\n",
              "      <td>...</td>\n",
              "      <td>...</td>\n",
              "      <td>...</td>\n",
              "      <td>...</td>\n",
              "      <td>...</td>\n",
              "    </tr>\n",
              "    <tr>\n",
              "      <th>295</th>\n",
              "      <td>295</td>\n",
              "      <td>0</td>\n",
              "      <td>3000</td>\n",
              "      <td>4</td>\n",
              "      <td>1141</td>\n",
              "      <td>14</td>\n",
              "      <td>1841</td>\n",
              "    </tr>\n",
              "    <tr>\n",
              "      <th>296</th>\n",
              "      <td>296</td>\n",
              "      <td>0</td>\n",
              "      <td>3000</td>\n",
              "      <td>3</td>\n",
              "      <td>1161</td>\n",
              "      <td>15</td>\n",
              "      <td>1821</td>\n",
              "    </tr>\n",
              "    <tr>\n",
              "      <th>297</th>\n",
              "      <td>297</td>\n",
              "      <td>0</td>\n",
              "      <td>3000</td>\n",
              "      <td>2</td>\n",
              "      <td>1118</td>\n",
              "      <td>16</td>\n",
              "      <td>1864</td>\n",
              "    </tr>\n",
              "    <tr>\n",
              "      <th>298</th>\n",
              "      <td>298</td>\n",
              "      <td>0</td>\n",
              "      <td>3000</td>\n",
              "      <td>3</td>\n",
              "      <td>1156</td>\n",
              "      <td>15</td>\n",
              "      <td>1826</td>\n",
              "    </tr>\n",
              "    <tr>\n",
              "      <th>299</th>\n",
              "      <td>299</td>\n",
              "      <td>0</td>\n",
              "      <td>3000</td>\n",
              "      <td>2</td>\n",
              "      <td>1119</td>\n",
              "      <td>16</td>\n",
              "      <td>1863</td>\n",
              "    </tr>\n",
              "  </tbody>\n",
              "</table>\n",
              "<p>300 rows × 7 columns</p>\n",
              "</div>"
            ],
            "text/plain": [
              "     epochs  argmax > 0.5  ...  focus_true_pred_false  focus_false_pred_false\n",
              "0         0            49  ...                     11                    1996\n",
              "1         1           115  ...                      7                    1988\n",
              "2         2           167  ...                      9                    1977\n",
              "3         3           182  ...                     21                    1939\n",
              "4         4           180  ...                     18                    1959\n",
              "..      ...           ...  ...                    ...                     ...\n",
              "295     295             0  ...                     14                    1841\n",
              "296     296             0  ...                     15                    1821\n",
              "297     297             0  ...                     16                    1864\n",
              "298     298             0  ...                     15                    1826\n",
              "299     299             0  ...                     16                    1863\n",
              "\n",
              "[300 rows x 7 columns]"
            ]
          },
          "metadata": {
            "tags": []
          },
          "execution_count": 26
        }
      ]
    },
    {
      "cell_type": "code",
      "metadata": {
        "id": "s-ZXousDr0T-",
        "colab": {
          "base_uri": "https://localhost:8080/",
          "height": 573
        },
        "outputId": "581cc80e-7429-4012-e49b-ec025416b072"
      },
      "source": [
        "plt.plot(col1,col2, label='argmax > 0.5')\n",
        "plt.plot(col1,col3, label='argmax < 0.5')\n",
        "\n",
        "plt.legend(loc='center left', bbox_to_anchor=(1, 0.5))\n",
        "plt.xlabel(\"epochs\")\n",
        "plt.ylabel(\"training data\")\n",
        "plt.title(\"On Training set\")\n",
        "plt.show()\n",
        "\n",
        "plt.plot(col1,col4, label =\"focus_true_pred_true \")\n",
        "plt.plot(col1,col5, label =\"focus_false_pred_true \")\n",
        "plt.plot(col1,col6, label =\"focus_true_pred_false \")\n",
        "plt.plot(col1,col7, label =\"focus_false_pred_false \")\n",
        "plt.title(\"On Training set\")\n",
        "plt.legend(loc='center left', bbox_to_anchor=(1, 0.5))\n",
        "plt.xlabel(\"epochs\")\n",
        "plt.ylabel(\"training data\")\n",
        "plt.savefig(\"type4_linear.png\",bbox_inches=\"tight\")\n",
        "plt.savefig(\"type4_linear.pdf\",bbox_inches=\"tight\")\n",
        "plt.show()"
      ],
      "execution_count": null,
      "outputs": [
        {
          "output_type": "display_data",
          "data": {
            "image/png": "[encoded data removed]",
            "text/plain": [
              "<Figure size 432x288 with 1 Axes>"
            ]
          },
          "metadata": {
            "tags": [],
            "needs_background": "light"
          }
        },
        {
          "output_type": "display_data",
          "data": {
            "image/png": "[encoded data removed]",
            "text/plain": [
              "<Figure size 432x288 with 1 Axes>"
            ]
          },
          "metadata": {
            "tags": [],
            "needs_background": "light"
          }
        }
      ]
    },
    {
      "cell_type": "code",
      "metadata": {
        "id": "LQip8h8jr0UA",
        "scrolled": true,
        "colab": {
          "base_uri": "https://localhost:8080/",
          "height": 419
        },
        "outputId": "c721021e-07d1-4fac-cda9-0af75f30bab7"
      },
      "source": [
        "df_test"
      ],
      "execution_count": null,
      "outputs": [
        {
          "output_type": "execute_result",
          "data": {
            "text/html": [
              "<div>\n",
              "<style scoped>\n",
              "    .dataframe tbody tr th:only-of-type {\n",
              "        vertical-align: middle;\n",
              "    }\n",
              "\n",
              "    .dataframe tbody tr th {\n",
              "        vertical-align: top;\n",
              "    }\n",
              "\n",
              "    .dataframe thead th {\n",
              "        text-align: right;\n",
              "    }\n",
              "</style>\n",
              "<table border=\"1\" class=\"dataframe\">\n",
              "  <thead>\n",
              "    <tr style=\"text-align: right;\">\n",
              "      <th></th>\n",
              "      <th>epochs</th>\n",
              "      <th>argmax &gt; 0.5</th>\n",
              "      <th>argmax &lt; 0.5</th>\n",
              "      <th>focus_true_pred_true</th>\n",
              "      <th>focus_false_pred_true</th>\n",
              "      <th>focus_true_pred_false</th>\n",
              "      <th>focus_false_pred_false</th>\n",
              "    </tr>\n",
              "  </thead>\n",
              "  <tbody>\n",
              "    <tr>\n",
              "      <th>0</th>\n",
              "      <td>0</td>\n",
              "      <td>20</td>\n",
              "      <td>980</td>\n",
              "      <td>0</td>\n",
              "      <td>328</td>\n",
              "      <td>9</td>\n",
              "      <td>663</td>\n",
              "    </tr>\n",
              "    <tr>\n",
              "      <th>1</th>\n",
              "      <td>1</td>\n",
              "      <td>44</td>\n",
              "      <td>956</td>\n",
              "      <td>0</td>\n",
              "      <td>320</td>\n",
              "      <td>11</td>\n",
              "      <td>669</td>\n",
              "    </tr>\n",
              "    <tr>\n",
              "      <th>2</th>\n",
              "      <td>2</td>\n",
              "      <td>52</td>\n",
              "      <td>948</td>\n",
              "      <td>17</td>\n",
              "      <td>334</td>\n",
              "      <td>0</td>\n",
              "      <td>649</td>\n",
              "    </tr>\n",
              "    <tr>\n",
              "      <th>3</th>\n",
              "      <td>3</td>\n",
              "      <td>55</td>\n",
              "      <td>945</td>\n",
              "      <td>0</td>\n",
              "      <td>318</td>\n",
              "      <td>19</td>\n",
              "      <td>663</td>\n",
              "    </tr>\n",
              "    <tr>\n",
              "      <th>4</th>\n",
              "      <td>4</td>\n",
              "      <td>53</td>\n",
              "      <td>947</td>\n",
              "      <td>11</td>\n",
              "      <td>305</td>\n",
              "      <td>10</td>\n",
              "      <td>674</td>\n",
              "    </tr>\n",
              "    <tr>\n",
              "      <th>...</th>\n",
              "      <td>...</td>\n",
              "      <td>...</td>\n",
              "      <td>...</td>\n",
              "      <td>...</td>\n",
              "      <td>...</td>\n",
              "      <td>...</td>\n",
              "      <td>...</td>\n",
              "    </tr>\n",
              "    <tr>\n",
              "      <th>295</th>\n",
              "      <td>295</td>\n",
              "      <td>0</td>\n",
              "      <td>1000</td>\n",
              "      <td>0</td>\n",
              "      <td>392</td>\n",
              "      <td>9</td>\n",
              "      <td>599</td>\n",
              "    </tr>\n",
              "    <tr>\n",
              "      <th>296</th>\n",
              "      <td>296</td>\n",
              "      <td>0</td>\n",
              "      <td>1000</td>\n",
              "      <td>3</td>\n",
              "      <td>380</td>\n",
              "      <td>6</td>\n",
              "      <td>611</td>\n",
              "    </tr>\n",
              "    <tr>\n",
              "      <th>297</th>\n",
              "      <td>297</td>\n",
              "      <td>0</td>\n",
              "      <td>1000</td>\n",
              "      <td>2</td>\n",
              "      <td>389</td>\n",
              "      <td>7</td>\n",
              "      <td>602</td>\n",
              "    </tr>\n",
              "    <tr>\n",
              "      <th>298</th>\n",
              "      <td>298</td>\n",
              "      <td>0</td>\n",
              "      <td>1000</td>\n",
              "      <td>0</td>\n",
              "      <td>381</td>\n",
              "      <td>9</td>\n",
              "      <td>610</td>\n",
              "    </tr>\n",
              "    <tr>\n",
              "      <th>299</th>\n",
              "      <td>299</td>\n",
              "      <td>0</td>\n",
              "      <td>1000</td>\n",
              "      <td>0</td>\n",
              "      <td>420</td>\n",
              "      <td>9</td>\n",
              "      <td>571</td>\n",
              "    </tr>\n",
              "  </tbody>\n",
              "</table>\n",
              "<p>300 rows × 7 columns</p>\n",
              "</div>"
            ],
            "text/plain": [
              "     epochs  argmax > 0.5  ...  focus_true_pred_false  focus_false_pred_false\n",
              "0         0            20  ...                      9                     663\n",
              "1         1            44  ...                     11                     669\n",
              "2         2            52  ...                      0                     649\n",
              "3         3            55  ...                     19                     663\n",
              "4         4            53  ...                     10                     674\n",
              "..      ...           ...  ...                    ...                     ...\n",
              "295     295             0  ...                      9                     599\n",
              "296     296             0  ...                      6                     611\n",
              "297     297             0  ...                      7                     602\n",
              "298     298             0  ...                      9                     610\n",
              "299     299             0  ...                      9                     571\n",
              "\n",
              "[300 rows x 7 columns]"
            ]
          },
          "metadata": {
            "tags": []
          },
          "execution_count": 28
        }
      ]
    },
    {
      "cell_type": "code",
      "metadata": {
        "id": "oCJcmk19r0UD",
        "colab": {
          "base_uri": "https://localhost:8080/",
          "height": 573
        },
        "outputId": "1124ba23-09e9-4feb-99bf-635ba3e6ec0b"
      },
      "source": [
        "plt.plot(col1,col8, label='argmax > 0.5')\n",
        "plt.plot(col1,col9, label='argmax < 0.5')\n",
        "\n",
        "plt.legend(loc='center left', bbox_to_anchor=(1, 0.5))\n",
        "plt.xlabel(\"epochs\")\n",
        "plt.ylabel(\"Testing data\")\n",
        "plt.title(\"On Testing set\")\n",
        "plt.show()\n",
        "\n",
        "plt.plot(col1,col10, label =\"focus_true_pred_true \")\n",
        "plt.plot(col1,col11, label =\"focus_false_pred_true \")\n",
        "plt.plot(col1,col12, label =\"focus_true_pred_false \")\n",
        "plt.plot(col1,col13, label =\"focus_false_pred_false \")\n",
        "plt.title(\"On Testing set\")\n",
        "plt.legend(loc='center left', bbox_to_anchor=(1, 0.5))\n",
        "plt.xlabel(\"epochs\")\n",
        "plt.ylabel(\"Testing data\")\n",
        "plt.show()"
      ],
      "execution_count": null,
      "outputs": [
        {
          "output_type": "display_data",
          "data": {
            "image/png": "[encoded data removed]",
            "text/plain": [
              "<Figure size 432x288 with 1 Axes>"
            ]
          },
          "metadata": {
            "tags": [],
            "needs_background": "light"
          }
        },
        {
          "output_type": "display_data",
          "data": {
            "image/png": "[encoded data removed]",
            "text/plain": [
              "<Figure size 432x288 with 1 Axes>"
            ]
          },
          "metadata": {
            "tags": [],
            "needs_background": "light"
          }
        }
      ]
    },
    {
      "cell_type": "code",
      "metadata": {
        "id": "GJusn9Dsr0UF",
        "colab": {
          "base_uri": "https://localhost:8080/"
        },
        "outputId": "73b52aa9-6dea-47b1-80fa-931c99ff1f63"
      },
      "source": [
        "print(x[0])"
      ],
      "execution_count": null,
      "outputs": [
        {
          "output_type": "stream",
          "text": [
            "[2.61925776 5.54642145]\n"
          ],
          "name": "stdout"
        }
      ]
    },
    {
      "cell_type": "code",
      "metadata": {
        "id": "KmTzai-gr0UH",
        "colab": {
          "base_uri": "https://localhost:8080/"
        },
        "outputId": "e3956ab4-59f8-4e37-d000-79524a6d76a6"
      },
      "source": [
        "for i in range(9):\n",
        "    print(x[0,2*i:2*i+2])"
      ],
      "execution_count": null,
      "outputs": [
        {
          "output_type": "stream",
          "text": [
            "[2.61925776 5.54642145]\n",
            "[]\n",
            "[]\n",
            "[]\n",
            "[]\n",
            "[]\n",
            "[]\n",
            "[]\n",
            "[]\n"
          ],
          "name": "stdout"
        }
      ]
    },
    {
      "cell_type": "code",
      "metadata": {
        "id": "YH_sdpkhr0UK",
        "colab": {
          "base_uri": "https://localhost:8080/"
        },
        "outputId": "3bbabf31-6689-48f4-85bd-a8c9bb34d6e1"
      },
      "source": [
        "correct = 0\n",
        "total = 0\n",
        "count = 0\n",
        "flag = 1\n",
        "focus_true_pred_true =0\n",
        "focus_false_pred_true =0\n",
        "focus_true_pred_false =0\n",
        "focus_false_pred_false =0\n",
        "\n",
        "argmax_more_than_half = 0\n",
        "argmax_less_than_half =0\n",
        "\n",
        "with torch.no_grad():\n",
        "  for data in train_loader:\n",
        "    inputs , labels , fore_idx = data\n",
        "    #inputs,labels,fore_idx = inputs.to(device),labels.to(device),fore_idx.to(device)\n",
        "    # zero the parameter gradients\n",
        "\n",
        "    optimizer_what.zero_grad()\n",
        "    optimizer_where.zero_grad()\n",
        "    \n",
        "    \n",
        "    avg_inp,alphas = where(inputs)\n",
        "    \n",
        "    outputs = what(avg_inp)\n",
        "    \n",
        "    _, predicted = torch.max(outputs.data, 1)\n",
        "\n",
        "\n",
        "    for j in range(labels.size(0)):\n",
        "      count += 1\n",
        "      focus = torch.argmax(alphas[j])\n",
        "      if alphas[j][focus] >= 0.5 :\n",
        "        argmax_more_than_half += 1\n",
        "      else:\n",
        "        argmax_less_than_half += 1\n",
        "\n",
        "      if(focus == fore_idx[j] and predicted[j] == labels[j]):\n",
        "          focus_true_pred_true += 1\n",
        "      elif(focus != fore_idx[j] and predicted[j] == labels[j]):\n",
        "        focus_false_pred_true += 1\n",
        "      elif(focus == fore_idx[j] and predicted[j] != labels[j]):\n",
        "        focus_true_pred_false += 1\n",
        "      elif(focus != fore_idx[j] and predicted[j] != labels[j]):\n",
        "        focus_false_pred_false += 1\n",
        "\n",
        "    total += labels.size(0)\n",
        "    correct += (predicted == labels).sum().item()\n",
        "\n",
        "print('Accuracy of the network on the 3000 train images: %d %%' % ( 100 * correct / total))\n",
        "print(\"total correct\", correct)\n",
        "print(\"total train set images\", total)\n",
        "\n",
        "print(\"focus_true_pred_true %d =============> FTPT : %d %%\" % (focus_true_pred_true , (100 * focus_true_pred_true / total) ) )\n",
        "print(\"focus_false_pred_true %d =============> FFPT : %d %%\" % (focus_false_pred_true, (100 * focus_false_pred_true / total) ) )\n",
        "print(\"focus_true_pred_false %d =============> FTPF : %d %%\" %( focus_true_pred_false , ( 100 * focus_true_pred_false / total) ) )\n",
        "print(\"focus_false_pred_false %d =============> FFPF : %d %%\" % (focus_false_pred_false, ( 100 * focus_false_pred_false / total) ) )\n",
        "\n",
        "print(\"argmax_more_than_half ==================> \",argmax_more_than_half)\n",
        "print(\"argmax_less_than_half ==================> \",argmax_less_than_half)\n",
        "print(count)\n",
        "\n",
        "print(\"=\"*100)"
      ],
      "execution_count": null,
      "outputs": [
        {
          "output_type": "stream",
          "text": [
            "Accuracy of the network on the 3000 train images: 39 %\n",
            "total correct 1181\n",
            "total train set images 3000\n",
            "focus_true_pred_true 2 =============> FTPT : 0 %\n",
            "focus_false_pred_true 1179 =============> FFPT : 39 %\n",
            "focus_true_pred_false 16 =============> FTPF : 0 %\n",
            "focus_false_pred_false 1803 =============> FFPF : 60 %\n",
            "argmax_more_than_half ==================>  0\n",
            "argmax_less_than_half ==================>  3000\n",
            "3000\n",
            "====================================================================================================\n"
          ],
          "name": "stdout"
        }
      ]
    },
    {
      "cell_type": "code",
      "metadata": {
        "id": "xmzdKb85D1ZS",
        "colab": {
          "base_uri": "https://localhost:8080/"
        },
        "outputId": "fac746bd-0f5b-44a9-f360-1ce83d151ecd"
      },
      "source": [
        "correct = 0\n",
        "total = 0\n",
        "count = 0\n",
        "flag = 1\n",
        "focus_true_pred_true =0\n",
        "focus_false_pred_true =0\n",
        "focus_true_pred_false =0\n",
        "focus_false_pred_false =0\n",
        "\n",
        "argmax_more_than_half = 0\n",
        "argmax_less_than_half =0\n",
        "\n",
        "with torch.no_grad():\n",
        "  for data in test_loader:\n",
        "    inputs , labels , fore_idx = data\n",
        "    #inputs,labels,fore_idx = inputs.to(device),labels.to(device),fore_idx.to(device)\n",
        "    # zero the parameter gradients\n",
        "\n",
        "    optimizer_what.zero_grad()\n",
        "    optimizer_where.zero_grad()\n",
        "    \n",
        "    \n",
        "    avg_inp,alphas = where(inputs)\n",
        "    \n",
        "    outputs = what(avg_inp)\n",
        "    \n",
        "    _, predicted = torch.max(outputs.data, 1)\n",
        "\n",
        "    for j in range(labels.size(0)):\n",
        "      focus = torch.argmax(alphas[j])\n",
        "      if alphas[j][focus] >= 0.5 :\n",
        "        argmax_more_than_half += 1\n",
        "      else:\n",
        "        argmax_less_than_half += 1\n",
        "\n",
        "      if(focus == fore_idx[j] and predicted[j] == labels[j]):\n",
        "          focus_true_pred_true += 1\n",
        "      elif(focus != fore_idx[j] and predicted[j] == labels[j]):\n",
        "        focus_false_pred_true += 1\n",
        "      elif(focus == fore_idx[j] and predicted[j] != labels[j]):\n",
        "        focus_true_pred_false += 1\n",
        "      elif(focus != fore_idx[j] and predicted[j] != labels[j]):\n",
        "        focus_false_pred_false += 1\n",
        "\n",
        "    total += labels.size(0)\n",
        "    correct += (predicted == labels).sum().item()\n",
        "\n",
        "print('Accuracy of the network on the 1000 test images: %d %%' % (\n",
        "    100 * correct / total))\n",
        "print(\"total correct\", correct)\n",
        "print(\"total train set images\", total)\n",
        "\n",
        "print(\"focus_true_pred_true %d =============> FTPT : %d %%\" % (focus_true_pred_true , (100 * focus_true_pred_true / total) ) )\n",
        "print(\"focus_false_pred_true %d =============> FFPT : %d %%\" % (focus_false_pred_true, (100 * focus_false_pred_true / total) ) )\n",
        "print(\"focus_true_pred_false %d =============> FTPF : %d %%\" %( focus_true_pred_false , ( 100 * focus_true_pred_false / total) ) )\n",
        "print(\"focus_false_pred_false %d =============> FFPF : %d %%\" % (focus_false_pred_false, ( 100 * focus_false_pred_false / total) ) )\n",
        "\n",
        "print(\"argmax_more_than_half ==================> \",argmax_more_than_half)\n",
        "print(\"argmax_less_than_half ==================> \",argmax_less_than_half)"
      ],
      "execution_count": null,
      "outputs": [
        {
          "output_type": "stream",
          "text": [
            "Accuracy of the network on the 1000 test images: 42 %\n",
            "total correct 420\n",
            "total train set images 1000\n",
            "focus_true_pred_true 0 =============> FTPT : 0 %\n",
            "focus_false_pred_true 420 =============> FFPT : 42 %\n",
            "focus_true_pred_false 9 =============> FTPF : 0 %\n",
            "focus_false_pred_false 571 =============> FFPF : 57 %\n",
            "argmax_more_than_half ==================>  0\n",
            "argmax_less_than_half ==================>  1000\n"
          ],
          "name": "stdout"
        }
      ]
    },
    {
      "cell_type": "code",
      "metadata": {
        "id": "JYjBhJiREWiY"
      },
      "source": [
        ""
      ],
      "execution_count": null,
      "outputs": []
    }
  ]
}