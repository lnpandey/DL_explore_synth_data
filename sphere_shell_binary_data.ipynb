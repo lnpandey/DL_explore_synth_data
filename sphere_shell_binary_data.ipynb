{
 "cells": [
  {
   "cell_type": "code",
   "execution_count": 2,
   "metadata": {},
   "outputs": [],
   "source": [
    "from __future__ import absolute_import\n",
    "from __future__ import division\n",
    "from __future__ import print_function\n",
    "import numpy as np\n",
    "import random\n",
    "import matplotlib.pyplot as plt\n",
    "from mpl_toolkits.mplot3d import Axes3D"
   ]
  },
  {
   "cell_type": "code",
   "execution_count": 4,
   "metadata": {},
   "outputs": [],
   "source": [
    "def data_circle(num_samples,points_dim,radius_of_sphere, radius_of_shell, thickness_of_shell):\n",
    "\n",
    "    def get_circle_label(v):           \n",
    "        return 1 if np.sqrt(np.sum(np.square(v))) <= radius_of_sphere else 0\n",
    "\n",
    "    points = np.zeros([num_samples, points_dim])\n",
    "    labels = np.zeros([num_samples,1]).astype(int)\n",
    "    \n",
    "    # Generate positive points inside the circle.\n",
    "    for i in range(num_samples // 2):\n",
    "        r = random.uniform(0, radius_of_sphere)\n",
    "        angle = np.zeros(points_dim-1)\n",
    "        for j in range(points_dim-1):\n",
    "            angle[j] = random.uniform(0, 2 * np.pi)\n",
    "        \n",
    "        x = np.zeros(points_dim)\n",
    "        for j in range(points_dim-1):\n",
    "            x[j] = r * np.cos(angle[j])\n",
    "            r = r * np.sin(angle[j])\n",
    "        x[points_dim-1] = r\n",
    "        labels[i] = get_circle_label(x)\n",
    "        points[i] = x\n",
    "\n",
    "    # Generate negative points outside the circle.\n",
    "    for i in range(num_samples // 2, num_samples):\n",
    "        r = random.uniform(radius_of_shell-(thickness_of_shell/2), radius_of_shell+(thickness_of_shell/2))\n",
    "        angle = np.zeros(points_dim-1)\n",
    "        for j in range(points_dim-1):\n",
    "            angle[j] = random.uniform(0, 2 * np.pi)\n",
    "        \n",
    "        x = np.zeros(points_dim)\n",
    "        for j in range(points_dim-1):\n",
    "            x[j] = r * np.cos(angle[j])\n",
    "            r = r * np.sin(angle[j])\n",
    "        x[points_dim-1] = r\n",
    "        labels[i] = get_circle_label(x)\n",
    "        points[i] = x\n",
    "        \n",
    "    return points, labels\n",
    "\n",
    "def plot_3D_data(points,labels):\n",
    "    fig = plt.figure()\n",
    "    ax = fig.add_subplot(111, projection='3d')\n",
    "    ax.scatter(points[np.where(labels == 1)[0],0],points[np.where(labels == 1)[0],1],points[np.where(labels == 1)[0],2])\n",
    "    ax.scatter(points[np.where(labels == 0)[0],0],points[np.where(labels == 0)[0],1],points[np.where(labels == 0)[0],2])\n",
    "    plt.show()\n",
    "\n",
    "\n",
    "def plot_2D_data(points,labels):\n",
    "    plt.scatter(points[np.where(labels == 1)[0],0],points[np.where(labels == 1)[0],1])\n",
    "    plt.scatter(points[np.where(labels == 0)[0],0],points[np.where(labels == 0)[0],1])\n",
    "    plt.xlabel('x')\n",
    "    plt.ylabel('y')\n",
    "    plt.show()\n",
    "    \n",
    "points_dim = 3\n",
    "num_samples = 300\n",
    "radius_of_sphere = 2\n",
    "radius_of_shell = 7\n",
    "thickness_of_shell = 2\n",
    "points, labels = data_circle(num_samples,points_dim,radius_of_sphere, radius_of_shell, thickness_of_shell)\n",
    "\n",
    "#plot_3D_data(points,labels)"
   ]
  },
  {
   "cell_type": "code",
   "execution_count": null,
   "metadata": {},
   "outputs": [],
   "source": []
  }
 ],
 "metadata": {
  "kernelspec": {
   "display_name": "Python 3",
   "language": "python",
   "name": "python3"
  },
  "language_info": {
   "codemirror_mode": {
    "name": "ipython",
    "version": 3
   },
   "file_extension": ".py",
   "mimetype": "text/x-python",
   "name": "python",
   "nbconvert_exporter": "python",
   "pygments_lexer": "ipython3",
   "version": "3.7.2"
  }
 },
 "nbformat": 4,
 "nbformat_minor": 2
}
