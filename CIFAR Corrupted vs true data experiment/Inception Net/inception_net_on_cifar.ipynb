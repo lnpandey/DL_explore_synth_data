{
  "nbformat": 4,
  "nbformat_minor": 0,
  "metadata": {
    "colab": {
      "name": "inception net on cifar",
      "version": "0.3.2",
      "provenance": []
    },
    "kernelspec": {
      "name": "python3",
      "display_name": "Python 3"
    },
    "accelerator": "GPU"
  },
  "cells": [
    {
      "cell_type": "code",
      "metadata": {
        "id": "7oi22T390nIu",
        "colab_type": "code",
        "colab": {}
      },
      "source": [
        "import numpy as np\n",
        "import pandas as pd\n",
        "from matplotlib import pyplot as plt\n",
        "\n",
        "\n",
        "import torch\n",
        "import torchvision\n",
        "import torchvision.transforms as transforms\n",
        "\n",
        "\n",
        "import torch.nn as nn\n",
        "import torch.nn.functional as F\n",
        "import torch.optim as optim\n",
        "\n",
        "from tqdm import tqdm\n",
        "\n",
        "%matplotlib inline"
      ],
      "execution_count": 0,
      "outputs": []
    },
    {
      "cell_type": "code",
      "metadata": {
        "id": "TqD8ERO90pPp",
        "colab_type": "code",
        "colab": {}
      },
      "source": [
        "transform = transforms.Compose(\n",
        "    [transforms.CenterCrop((28,28)),transforms.ToTensor(),transforms.Normalize((0.5, 0.5, 0.5), (0.5, 0.5, 0.5))])\n",
        "# transform = transforms.Compose(\n",
        "#     [transforms.ToTensor(),transforms.CenterCrop(28,28)])"
      ],
      "execution_count": 0,
      "outputs": []
    },
    {
      "cell_type": "code",
      "metadata": {
        "id": "r2pftMQS0mkt",
        "colab_type": "code",
        "outputId": "891eefa4-5db3-452a-ba7c-7f29208de64d",
        "colab": {
          "base_uri": "https://localhost:8080/",
          "height": 52
        }
      },
      "source": [
        "cifar_trainset = torchvision.datasets.CIFAR10(root='./data', train=True, download=True, transform=transform)\n",
        "cifar_testset = torchvision.datasets.CIFAR10(root='./data', train=False, download=True, transform=transform)"
      ],
      "execution_count": 210,
      "outputs": [
        {
          "output_type": "stream",
          "text": [
            "Files already downloaded and verified\n",
            "Files already downloaded and verified\n"
          ],
          "name": "stdout"
        }
      ]
    },
    {
      "cell_type": "code",
      "metadata": {
        "id": "OcWNogmU00_U",
        "colab_type": "code",
        "outputId": "501dfab2-f3b3-4788-f7ed-d00e43157d0c",
        "colab": {
          "base_uri": "https://localhost:8080/",
          "height": 69
        }
      },
      "source": [
        "corruption_percentage = 0.1\n",
        "cifar_trainset_random = torchvision.datasets.CIFAR10(root='./data', train=True, download=True, transform=transform)\n",
        "np.random.seed(1234)\n",
        "mask = np.random.uniform(0,1,50000) < corruption_percentage\n",
        "\n",
        "a = np.array(cifar_trainset_random.targets)\n",
        "print(\"true\",a[mask])\n",
        "a[mask] = np.random.randint(0,10,sum(mask))\n",
        "print(\"randomized\",a[mask])\n",
        "cifar_trainset_random.targets = list(a)\n",
        "cifar_trainset_random.targets\n",
        "# cifar_trainset_random.targets[:50000] = np.random.randint(low=0,high=9,size=50000)\n",
        "trainloader_random = torch.utils.data.DataLoader(cifar_trainset_random,batch_size=256,shuffle=False,num_workers=2)"
      ],
      "execution_count": 211,
      "outputs": [
        {
          "output_type": "stream",
          "text": [
            "Files already downloaded and verified\n",
            "true [3 6 5 ... 6 7 7]\n",
            "randomized [9 1 5 ... 0 0 4]\n"
          ],
          "name": "stdout"
        }
      ]
    },
    {
      "cell_type": "code",
      "metadata": {
        "id": "9PRJWV3S1DXY",
        "colab_type": "code",
        "outputId": "1d8d1b83-3073-4a20-cec6-9762c99aff95",
        "colab": {
          "base_uri": "https://localhost:8080/",
          "height": 34
        }
      },
      "source": [
        "np.unique(cifar_trainset.targets),sum(mask)"
      ],
      "execution_count": 212,
      "outputs": [
        {
          "output_type": "execute_result",
          "data": {
            "text/plain": [
              "(array([0, 1, 2, 3, 4, 5, 6, 7, 8, 9]), 5054)"
            ]
          },
          "metadata": {
            "tags": []
          },
          "execution_count": 212
        }
      ]
    },
    {
      "cell_type": "code",
      "metadata": {
        "id": "R2l19kSt07W1",
        "colab_type": "code",
        "colab": {}
      },
      "source": [
        "\n",
        "trainloader = torch.utils.data.DataLoader(cifar_trainset, batch_size=256,\n",
        "                                          shuffle=False, num_workers=2)\n",
        "testloader = torch.utils.data.DataLoader(cifar_testset, batch_size=256,\n",
        "                                         shuffle=False, num_workers=2)\n"
      ],
      "execution_count": 0,
      "outputs": []
    },
    {
      "cell_type": "code",
      "metadata": {
        "id": "86Os-wul1BgN",
        "colab_type": "code",
        "colab": {}
      },
      "source": [
        "classes = ('plane', 'car', 'bird', 'cat',\n",
        "           'deer', 'dog', 'frog', 'horse', 'ship', 'truck')"
      ],
      "execution_count": 0,
      "outputs": []
    },
    {
      "cell_type": "code",
      "metadata": {
        "id": "fLv_gbPq0bST",
        "colab_type": "code",
        "colab": {}
      },
      "source": [
        "class Conv_module(nn.Module):\n",
        "    def __init__(self,inp_ch,f,s,k,pad):\n",
        "        super(Conv_module,self).__init__()\n",
        "        self.inp_ch = inp_ch\n",
        "        self.f = f\n",
        "        self.s = s \n",
        "        self.k = k \n",
        "        self.pad = pad\n",
        "        \n",
        "        \n",
        "        self.conv = nn.Conv2d(self.inp_ch,self.f,k,stride=s,padding=self.pad)\n",
        "        self.bn = nn.BatchNorm2d(self.f)\n",
        "        self.act = nn.ReLU()\n",
        "    def forward(self,x):\n",
        "        x = self.conv(x)\n",
        "        x = self.bn(x)\n",
        "        x = self.act(x)\n",
        "        return x"
      ],
      "execution_count": 0,
      "outputs": []
    },
    {
      "cell_type": "code",
      "metadata": {
        "id": "IcUaTTOx0hqJ",
        "colab_type": "code",
        "colab": {}
      },
      "source": [
        "conv = Conv_module(3,64,1,3,1)\n",
        "# conv.forward(images).shape"
      ],
      "execution_count": 0,
      "outputs": []
    },
    {
      "cell_type": "code",
      "metadata": {
        "id": "Q1z-jeYa0iKx",
        "colab_type": "code",
        "colab": {}
      },
      "source": [
        "class inception_module(nn.Module):\n",
        "    def __init__(self,inp_ch,f0,f1):\n",
        "        super(inception_module, self).__init__()\n",
        "        self.inp_ch = inp_ch\n",
        "        self.f0 = f0\n",
        "        self.f1 = f1\n",
        "        \n",
        "        \n",
        "        \n",
        "        self.conv1 = Conv_module(self.inp_ch,self.f0,1,1,pad=0)\n",
        "        self.conv3 = Conv_module(self.inp_ch,self.f1,1,3,pad=1)\n",
        "        #self.conv1 = nn.Conv2d(3,self.f0,1)\n",
        "        #self.conv3 = nn.Conv2d(3,self.f1,3,padding=1)\n",
        "    def forward(self,x):\n",
        "        x1 = self.conv1.forward(x)\n",
        "        x3 = self.conv3.forward(x)\n",
        "        #print(x1.shape,x3.shape)\n",
        "        \n",
        "        x = torch.cat((x1,x3),dim=1)\n",
        "        \n",
        "    \n",
        "        return x"
      ],
      "execution_count": 0,
      "outputs": []
    },
    {
      "cell_type": "code",
      "metadata": {
        "id": "qV-5PAD91U0f",
        "colab_type": "code",
        "colab": {}
      },
      "source": [
        "inc_module = inception_module(96,32,32)\n",
        "conv_module = Conv_module(3,96,1,1,0)"
      ],
      "execution_count": 0,
      "outputs": []
    },
    {
      "cell_type": "code",
      "metadata": {
        "id": "q-44Zw_21Vtr",
        "colab_type": "code",
        "colab": {}
      },
      "source": [
        "class downsample_module(nn.Module):\n",
        "    def __init__(self,inp_ch,f):\n",
        "        super(downsample_module,self).__init__()\n",
        "        self.inp_ch = inp_ch\n",
        "        self.f = f\n",
        "        self.conv = Conv_module(self.inp_ch,self.f,2,3,pad=0)\n",
        "        self.pool = nn.MaxPool2d(3,stride=2,padding=0)\n",
        "    def forward(self,x):\n",
        "        x1 = self.conv(x)\n",
        "        #print(x1.shape)\n",
        "        x2 = self.pool(x)\n",
        "        #print(x2.shape)\n",
        "        x = torch.cat((x1,x2),dim=1)\n",
        "        \n",
        "        return x,x1"
      ],
      "execution_count": 0,
      "outputs": []
    },
    {
      "cell_type": "code",
      "metadata": {
        "id": "0Rty7FDB1Zsk",
        "colab_type": "code",
        "colab": {}
      },
      "source": [
        "class inception_net(nn.Module):\n",
        "    def __init__(self):\n",
        "        super(inception_net,self).__init__()\n",
        "        self.conv1 = Conv_module(3,96,1,3,0)\n",
        "        \n",
        "        self.incept1 = inception_module(96,32,32)\n",
        "        self.incept2 = inception_module(64,32,48)\n",
        "        \n",
        "        self.downsample1 = downsample_module(80,80)\n",
        "        \n",
        "        self.incept3 = inception_module(160,112,48)\n",
        "        self.incept4 = inception_module(160,96,64)\n",
        "        self.incept5 = inception_module(160,80,80)\n",
        "        self.incept6 = inception_module(160,48,96)\n",
        "        \n",
        "        self.downsample2 = downsample_module(144,96)\n",
        "        \n",
        "        self.incept7 = inception_module(240,176,60)\n",
        "        self.incept8 = inception_module(236,176,60)\n",
        "        \n",
        "        self.pool = nn.AvgPool2d(7)\n",
        "        \n",
        "        \n",
        "        \n",
        "        self.linear = nn.Linear(236,10)\n",
        "    def forward(self,x):\n",
        "        x = self.conv1.forward(x)\n",
        "        #act1 = x\n",
        "        \n",
        "        x = self.incept1.forward(x)\n",
        "        #act2 = x\n",
        "        \n",
        "        x = self.incept2.forward(x)\n",
        "        #act3 = x\n",
        "        \n",
        "        x,act4 = self.downsample1.forward(x)\n",
        "        \n",
        "        x = self.incept3.forward(x)\n",
        "        #act5 = x\n",
        "        \n",
        "        x = self.incept4.forward(x)\n",
        "        #act6 = x\n",
        "        \n",
        "        x = self.incept5.forward(x)\n",
        "        #act7 = x\n",
        "        \n",
        "        x = self.incept6.forward(x)\n",
        "        #act8 = x\n",
        "        \n",
        "        x,act9 = self.downsample2.forward(x)\n",
        "        \n",
        "        x = self.incept7.forward(x)\n",
        "        #act10 = x\n",
        "        x = self.incept8.forward(x)\n",
        "        #act11 = x\n",
        "        \n",
        "        x = self.pool(x)\n",
        "        x = x.view(-1,1*1*236)\n",
        "        x = self.linear(x) \n",
        "        #activatn = {\"act1\":act1,\"act2\":act2,\"act3\":act3,\"act4\":act4,\"act5\":act5,\"act6\":act6,\n",
        "         #           \"act7\":act7,\"act8\":act8,\"act9\":act9,\"act10\":act10,\"act11\":act11}\n",
        "        return x\n",
        "        \n",
        "        \n",
        "    "
      ],
      "execution_count": 0,
      "outputs": []
    },
    {
      "cell_type": "code",
      "metadata": {
        "id": "jFFK9gqW1zhH",
        "colab_type": "code",
        "colab": {}
      },
      "source": [
        "inc_net_random_labels = inception_net()\n",
        "inc_net_random_labels = inc_net_random_labels.to(\"cuda\")"
      ],
      "execution_count": 0,
      "outputs": []
    },
    {
      "cell_type": "code",
      "metadata": {
        "id": "TQ_d4V2z12Iq",
        "colab_type": "code",
        "colab": {}
      },
      "source": [
        "criterion_inc_rand = nn.CrossEntropyLoss()\n",
        "optimizer_inc_rand = optim.SGD(inc_net_random_labels.parameters(), lr=0.01, momentum=0.9)"
      ],
      "execution_count": 0,
      "outputs": []
    },
    {
      "cell_type": "code",
      "metadata": {
        "id": "McNIPD3815dH",
        "colab_type": "code",
        "colab": {}
      },
      "source": [
        "# actri = []\n",
        "# lossr_curi = []\n",
        "# inc_net_random_labels.train()\n",
        "# for epoch in range(100):  # loop over the dataset multiple times\n",
        "#     ep_lossri = []\n",
        "    \n",
        "\n",
        "#     running_loss = 0.0\n",
        "#     for i, data in enumerate(trainloader_random, 0):\n",
        "#         # get the inputs\n",
        "#         inputs, labels = data\n",
        "#         inputs,labels = inputs.to(\"cuda\"),labels.to(\"cuda\")\n",
        "\n",
        "#         # zero the parameter gradients\n",
        "#         optimizer_inc_rand.zero_grad()\n",
        "\n",
        "#         # forward + backward + optimize\n",
        "#         outputs = inc_net_random_labels(inputs)\n",
        "#         loss = criterion_inc_rand(outputs, labels)\n",
        "#         loss.backward()\n",
        "#         optimizer_inc_rand.step()\n",
        "\n",
        "#         # print statistics\n",
        "#         running_loss += loss.item()\n",
        "#         if i % 50 == 49:    # print every 50 mini-batches\n",
        "#             print('[%d, %5d] loss: %.3f' %\n",
        "#                   (epoch + 1, i + 1, running_loss / 50))\n",
        "#             ep_lossri.append(running_loss)\n",
        "#             running_loss = 0.0\n",
        "            \n",
        "#     lossr_curi.append(np.mean(ep_lossri))   #loss per epoch\n",
        "# #     if (epoch%5 == 0):\n",
        "# #         _,actirs= inc(inputs)\n",
        "# #         actri.append(actirs)\n",
        "    \n",
        "\n",
        "# print('Finished Training')"
      ],
      "execution_count": 0,
      "outputs": []
    },
    {
      "cell_type": "code",
      "metadata": {
        "id": "wZZRlQnx2Hyr",
        "colab_type": "code",
        "colab": {
          "base_uri": "https://localhost:8080/",
          "height": 34
        },
        "outputId": "9f3d9800-571c-4347-df6e-f5eda3523ecb"
      },
      "source": [
        "inc_net_random_labels.load_state_dict(torch.load(\"inception10_lr_random_01.pt\"))"
      ],
      "execution_count": 224,
      "outputs": [
        {
          "output_type": "execute_result",
          "data": {
            "text/plain": [
              "IncompatibleKeys(missing_keys=[], unexpected_keys=[])"
            ]
          },
          "metadata": {
            "tags": []
          },
          "execution_count": 224
        }
      ]
    },
    {
      "cell_type": "code",
      "metadata": {
        "id": "S_m2cKw219bA",
        "colab_type": "code",
        "colab": {
          "base_uri": "https://localhost:8080/",
          "height": 34
        },
        "outputId": "80eaca35-0f35-4761-bf35-3f74f89ff480"
      },
      "source": [
        "correct = 0\n",
        "total = 0\n",
        "inc_net_random_labels.eval()\n",
        "with torch.no_grad():\n",
        "    for data in trainloader_random:\n",
        "        images, labels = data\n",
        "        images,labels = images.to(\"cuda\"),labels.to(\"cuda\")\n",
        "        outputs = inc_net_random_labels(images)\n",
        "        _, predicted = torch.max(outputs.data, 1)\n",
        "        total += labels.size(0)\n",
        "        correct += (predicted == labels).sum().item()\n",
        "\n",
        "print('Accuracy of the network on the 50000 train images: %d %%' % (\n",
        "    100 * correct / total))"
      ],
      "execution_count": 225,
      "outputs": [
        {
          "output_type": "stream",
          "text": [
            "Accuracy of the network on the 50000 train images: 100 %\n"
          ],
          "name": "stdout"
        }
      ]
    },
    {
      "cell_type": "code",
      "metadata": {
        "id": "z9YLjC5S1-L8",
        "colab_type": "code",
        "colab": {
          "base_uri": "https://localhost:8080/",
          "height": 52
        },
        "outputId": "5ff79b33-959e-49e6-ca4d-a87d4bd410da"
      },
      "source": [
        "correct = 0\n",
        "total = 0\n",
        "loss = 0\n",
        "batch = 0\n",
        "inc_net_random_labels.eval()\n",
        "with torch.no_grad():\n",
        "    for data in testloader:\n",
        "        images, labels = data\n",
        "        images,labels = images.to(\"cuda\"),labels.to(\"cuda\")\n",
        "        outputs = inc_net_random_labels(images)\n",
        "        \n",
        "        loss += criterion_inc_rand(outputs, labels)\n",
        "        \n",
        "        _, predicted = torch.max(outputs.data, 1)\n",
        "        total += labels.size(0)\n",
        "        correct += (predicted == labels).sum().item()\n",
        "        batch+=1\n",
        "\n",
        "print('Accuracy of the network on the 10000 test images: %d %%' % (\n",
        "    100 * correct / total))\n",
        "print(\"loss\", loss/batch)"
      ],
      "execution_count": 226,
      "outputs": [
        {
          "output_type": "stream",
          "text": [
            "Accuracy of the network on the 10000 test images: 75 %\n",
            "loss tensor(1.3478, device='cuda:0')\n"
          ],
          "name": "stdout"
        }
      ]
    },
    {
      "cell_type": "code",
      "metadata": {
        "id": "6OUw-1BZ8f4t",
        "colab_type": "code",
        "colab": {}
      },
      "source": [
        "def accuracy( a, b):\n",
        "  length = a.shape\n",
        "  correct = a==b\n",
        "  return sum(correct)/length"
      ],
      "execution_count": 0,
      "outputs": []
    },
    {
      "cell_type": "code",
      "metadata": {
        "id": "E90q4nsN6mhr",
        "colab_type": "code",
        "colab": {
          "base_uri": "https://localhost:8080/",
          "height": 173
        },
        "outputId": "470ae7b6-8c0f-4a2a-ec44-240caffc0a49"
      },
      "source": [
        "correct = 0\n",
        "total = 0\n",
        "train_loss = 0\n",
        "true = []\n",
        "pred=[]\n",
        "out =[]\n",
        "\n",
        "inc_net_random_labels.eval()\n",
        "\n",
        "with torch.no_grad():\n",
        "    for data in trainloader_random:\n",
        "        images, labels = data\n",
        "        images,labels = images.to(\"cuda\"),labels.to(\"cuda\")\n",
        "        true.append(labels.cpu().numpy())\n",
        "        \n",
        "        outputs = inc_net_random_labels(images)\n",
        "        out.append(outputs.cpu())\n",
        "        loss = criterion_inc_rand(outputs, labels)\n",
        "        \n",
        "        train_loss += loss.item()\n",
        "        \n",
        "        _, predicted = torch.max(outputs.data, 1)\n",
        "        pred.append(predicted.cpu().numpy())\n",
        "        total += labels.size(0)\n",
        "        correct += (predicted == labels).sum().item()\n",
        "\n",
        "print('Accuracy of the network on the 50000 train images: %d %%' % (\n",
        "    100 * correct / total))\n",
        "true_targets = np.concatenate(true,axis=0)\n",
        "predicted_targets = np.concatenate(pred,axis =0)\n",
        "\n",
        "print(\"---\"*20)\n",
        "print(\"Train accuracy on corrupt data\",accuracy(true_targets[mask], predicted_targets[mask]))\n",
        "print(\"Train accuracy on un-corrupt data\",accuracy(true_targets[~mask], predicted_targets[~mask]))\n",
        "print(\"Train accuracy on full data\", accuracy(true_targets, predicted_targets))\n",
        "\n",
        "# print( sum (predicted_targets == np.argmax(out, axis =1)))\n",
        "\n",
        "l= np.where(mask ==True)\n",
        "p = np.where(mask == False)\n",
        "\n",
        "out = torch.cat(out, dim =0)\n",
        "\n",
        "print(\"Train cross entropy loss on corrupt data\", criterion_inc_rand(out[l], torch.Tensor(true_targets[l]).type(torch.LongTensor)))\n",
        "print(\"Train cross entropy loss on un-corrupt data\",criterion_inc_rand(out[p], torch.Tensor(true_targets[p]).type(torch.LongTensor)))\n",
        "print(\"Train cross entropy loss on full data\",criterion_inc_rand(out, torch.Tensor(true_targets).type(torch.LongTensor)))\n",
        "print(\"---\"*20)"
      ],
      "execution_count": 228,
      "outputs": [
        {
          "output_type": "stream",
          "text": [
            "Accuracy of the network on the 50000 train images: 100 %\n",
            "------------------------------------------------------------\n",
            "Train accuracy on corrupt data [1.]\n",
            "Train accuracy on un-corrupt data [1.]\n",
            "Train accuracy on full data [1.]\n",
            "Train cross entropy loss on corrupt data tensor(0.0005)\n",
            "Train cross entropy loss on un-corrupt data tensor(0.0001)\n",
            "Train cross entropy loss on full data tensor(0.0002)\n",
            "------------------------------------------------------------\n"
          ],
          "name": "stdout"
        }
      ]
    },
    {
      "cell_type": "code",
      "metadata": {
        "id": "b3it-gN58vMZ",
        "colab_type": "code",
        "colab": {
          "base_uri": "https://localhost:8080/",
          "height": 225
        },
        "outputId": "3eac37a5-df4d-48f8-ec84-6b66fad33043"
      },
      "source": [
        "testset=cifar_testset\n",
        "testset_len = len(testset.targets)\n",
        "np.random.seed(1234)\n",
        "mask1 = np.random.uniform(0,1,testset_len) < corruption_percentage\n",
        "\n",
        "a = np.array(testset.targets)\n",
        "print(\"true\",a[mask1])\n",
        "print(np.sum(mask1))\n",
        "a[mask1] = np.random.randint(0,10,sum(mask1))\n",
        "print(\"randomized\",a[mask1])\n",
        "testset.targets = list(a)\n",
        "\n",
        "\n",
        "correct = 0\n",
        "total = 0\n",
        "test_loss = 0\n",
        "true = []\n",
        "pred=[]\n",
        "out =[]\n",
        "inc_net_random_labels.eval()\n",
        "with torch.no_grad():\n",
        "    for data in testloader:\n",
        "        images, labels = data\n",
        "        images,labels = images.to(\"cuda\"),labels.to(\"cuda\")\n",
        "        true.append(labels.cpu().numpy())\n",
        "                \n",
        "        outputs = inc_net_random_labels(images)\n",
        "        out.append(outputs.cpu())\n",
        "        loss = criterion_inc_rand(outputs, labels)\n",
        "        \n",
        "        test_loss += loss.item()\n",
        "        _, predicted = torch.max(outputs.data, 1)\n",
        "        pred.append(predicted.cpu().numpy())\n",
        "        total += labels.size(0)\n",
        "        correct += (predicted == labels).sum().item()\n",
        "\n",
        "print('Accuracy of the network on the 10000 test images: %d %%' % (\n",
        "    100 * correct / total))\n",
        "true_targets = np.concatenate(true,axis=0)\n",
        "predicted_targets = np.concatenate(pred,axis =0)\n",
        "print(\"---\"*20)\n",
        "print(\"Test accuracy on corrupt data\",accuracy(true_targets[mask1], predicted_targets[mask1]))\n",
        "print(\"Test accuracy on un-corrupt data\",accuracy(true_targets[~mask1], predicted_targets[~mask1]))\n",
        "print(\"Test accuracy on full data\", accuracy(true_targets, predicted_targets))\n",
        "\n",
        "l = np.where(mask1 ==True)\n",
        "p  = np.where(mask1 == False)\n",
        "out = torch.cat(out, dim =0)\n",
        "\n",
        "print(\"Test cross entropy loss on corrupt data\", criterion_inc_rand(out[l], torch.Tensor(true_targets[l]).type(torch.LongTensor)))\n",
        "print(\"Test cross entropy loss on un-corrupt data\",criterion_inc_rand(out[p], torch.Tensor(true_targets[p]).type(torch.LongTensor)))\n",
        "print(\"Test cross entropy loss on full data\",criterion_inc_rand(out, torch.Tensor(true_targets).type(torch.LongTensor)))\n",
        "print(\"---\"*20)"
      ],
      "execution_count": 229,
      "outputs": [
        {
          "output_type": "stream",
          "text": [
            "true [7 4 4 ... 1 0 0]\n",
            "1031\n",
            "randomized [3 9 1 ... 0 6 0]\n",
            "Accuracy of the network on the 10000 test images: 68 %\n",
            "------------------------------------------------------------\n",
            "Test accuracy on corrupt data [0.1028128]\n",
            "Test accuracy on un-corrupt data [0.75091983]\n",
            "Test accuracy on full data [0.6841]\n",
            "Test cross entropy loss on corrupt data tensor(11.2546)\n",
            "Test cross entropy loss on un-corrupt data tensor(1.3577)\n",
            "Test cross entropy loss on full data tensor(2.3781)\n",
            "------------------------------------------------------------\n"
          ],
          "name": "stdout"
        }
      ]
    }
  ]
}