{
  "nbformat": 4,
  "nbformat_minor": 0,
  "metadata": {
    "accelerator": "GPU",
    "colab": {
      "name": "what_where_blob_data_every_1.ipynb",
      "provenance": [],
      "collapsed_sections": [
        "H0VVjc9qFqf_"
      ],
      "toc_visible": true
    },
    "kernelspec": {
      "display_name": "Python 3",
      "name": "python3"
    }
  },
  "cells": [
    {
      "cell_type": "code",
      "metadata": {
        "id": "VAYu3ISwwGks"
      },
      "source": [
        "import numpy as np\n",
        "import pandas as pd\n",
        "\n",
        "import torch\n",
        "import torchvision\n",
        "from torch.utils.data import Dataset, DataLoader\n",
        "from torchvision import transforms, utils\n",
        "import torch.nn as nn\n",
        "import torch.nn.functional as F\n",
        "import torch.optim as optim\n",
        "\n",
        "from matplotlib import pyplot as plt\n",
        "%matplotlib inline"
      ],
      "execution_count": 1,
      "outputs": []
    },
    {
      "cell_type": "markdown",
      "metadata": {
        "id": "H0VVjc9qFqf_"
      },
      "source": [
        "# Create blob Train and Test data"
      ]
    },
    {
      "cell_type": "code",
      "metadata": {
        "id": "mpdNNb8wFp56"
      },
      "source": [
        "# mu1 = np.array([3,3,3,3,0])\n",
        "# sigma1 = np.array([[1,1,1,1,1],[1,16,1,1,1],[1,1,1,1,1],[1,1,1,1,1],[1,1,1,1,1]])\n",
        "\n",
        "# mu2 = np.array([4,4,4,4,0])\n",
        "# sigma2 = np.array([[16,1,1,1,1],[1,1,1,1,1],[1,1,1,1,1],[1,1,1,1,1],[1,1,1,1,1]])\n",
        "\n",
        "# mu3 = np.array([10,5,5,10,0])\n",
        "# sigma3 = np.array([[1,1,1,1,1],[1,16,1,1,1],[1,1,1,1,1],[1,1,1,1,1],[1,1,1,1,1]])\n",
        "\n",
        "# mu4 = np.array([-10,-10,-10,-10,0])\n",
        "# sigma4 = np.array([[1,1,1,1,1],[1,16,1,1,1],[1,1,1,1,1],[1,1,1,1,1],[1,1,1,1,1]])\n",
        "\n",
        "# mu5 = np.array([-21,4,4,-21,0])\n",
        "# sigma5 = np.array([[16,1,1,1,1],[1,1,1,1,1],[1,1,1,1,1],[1,1,1,1,1],[1,1,1,1,1]])\n",
        "\n",
        "# mu6 = np.array([-10,18,18,-10,0])\n",
        "# sigma6 = np.array([[1,1,1,1,1],[1,16,1,1,1],[1,1,1,1,1],[1,1,1,1,1],[1,1,1,1,1]])\n",
        "\n",
        "# mu7 = np.array([4,20,4,20,0])\n",
        "# sigma7 = np.array([[16,1,1,1,1],[1,1,1,1,1],[1,1,1,1,1],[1,1,1,1,1],[1,1,1,1,1]])\n",
        "\n",
        "# mu8 = np.array([4,-20,-20,4,0])\n",
        "# sigma8 = np.array([[16,1,1,1,1],[1,1,1,1,1],[1,1,1,1,1],[1,1,1,1,1],[1,1,1,1,1]])\n",
        "\n",
        "# mu9 = np.array([20,20,20,20,0])\n",
        "# sigma9 = np.array([[1,1,1,1,1],[1,16,1,1,1],[1,1,1,1,1],[1,1,1,1,1],[1,1,1,1,1]])\n",
        "\n",
        "# mu10 = np.array([20,-10,-10,20,0])\n",
        "# sigma10 = np.array([[1,1,1,1,1],[1,16,1,1,1],[1,1,1,1,1],[1,1,1,1,1],[1,1,1,1,1]])\n",
        "\n",
        "\n",
        "\n",
        "# sample1 = np.random.multivariate_normal(mean=mu1,cov= sigma1,size=500)\n",
        "# sample2 = np.random.multivariate_normal(mean=mu2,cov= sigma2,size=500)\n",
        "# sample3 = np.random.multivariate_normal(mean=mu3,cov= sigma3,size=500)\n",
        "# sample4 = np.random.multivariate_normal(mean=mu4,cov= sigma4,size=500)\n",
        "# sample5 = np.random.multivariate_normal(mean=mu5,cov= sigma5,size=500)\n",
        "# sample6 = np.random.multivariate_normal(mean=mu6,cov= sigma6,size=500)\n",
        "# sample7 = np.random.multivariate_normal(mean=mu7,cov= sigma7,size=500)\n",
        "# sample8 = np.random.multivariate_normal(mean=mu8,cov= sigma8,size=500)\n",
        "# sample9 = np.random.multivariate_normal(mean=mu9,cov= sigma9,size=500)\n",
        "# sample10 = np.random.multivariate_normal(mean=mu10,cov= sigma10,size=500)"
      ],
      "execution_count": 2,
      "outputs": []
    },
    {
      "cell_type": "code",
      "metadata": {
        "id": "GVwzqqNxFwzN"
      },
      "source": [
        "# X = np.concatenate((sample1,sample2,sample3,sample4,sample5,sample6,sample7,sample8,sample9,sample10),axis=0)\n",
        "# Y = np.concatenate((np.zeros((500,1)),np.ones((500,1)),2*np.ones((500,1)),3*np.ones((500,1)),4*np.ones((500,1)),\n",
        "#                     5*np.ones((500,1)),6*np.ones((500,1)),7*np.ones((500,1)),8*np.ones((500,1)),9*np.ones((500,1))),axis=0).astype(int)\n",
        "# print(X.shape,Y.shape)\n",
        "# plt.scatter(sample1[:,0],sample1[:,1],label=\"class_0\")\n",
        "# plt.scatter(sample2[:,0],sample2[:,1],label=\"class_1\")\n",
        "# plt.scatter(sample3[:,0],sample3[:,1],label=\"class_2\")\n",
        "# plt.scatter(sample4[:,0],sample4[:,1],label=\"class_3\")\n",
        "# plt.scatter(sample5[:,0],sample5[:,1],label=\"class_4\")\n",
        "# plt.scatter(sample6[:,0],sample6[:,1],label=\"class_5\")\n",
        "# plt.scatter(sample7[:,0],sample7[:,1],label=\"class_6\")\n",
        "# plt.scatter(sample8[:,0],sample8[:,1],label=\"class_7\")\n",
        "# plt.scatter(sample9[:,0],sample9[:,1],label=\"class_8\")\n",
        "# plt.scatter(sample10[:,0],sample10[:,1],label=\"class_9\")\n",
        "# plt.legend(bbox_to_anchor=(1.05, 1), loc='upper left')"
      ],
      "execution_count": 3,
      "outputs": []
    },
    {
      "cell_type": "code",
      "metadata": {
        "id": "kdLONe1TFwcv"
      },
      "source": [
        "# class SyntheticDataset(Dataset):\n",
        "#   \"\"\"MosaicDataset dataset.\"\"\"\n",
        "\n",
        "#   def __init__(self, x, y):\n",
        "#     \"\"\"\n",
        "#       Args:\n",
        "#         csv_file (string): Path to the csv file with annotations.\n",
        "#         root_dir (string): Directory with all the images.\n",
        "#         transform (callable, optional): Optional transform to be applied\n",
        "#             on a sample.\n",
        "#     \"\"\"\n",
        "#     self.x = x\n",
        "#     self.y = y\n",
        "#     #self.fore_idx = fore_idx\n",
        "    \n",
        "#   def __len__(self):\n",
        "#     return len(self.y)\n",
        "\n",
        "#   def __getitem__(self, idx):\n",
        "#     return self.x[idx] , self.y[idx] #, self.fore_idx[idx]"
      ],
      "execution_count": 4,
      "outputs": []
    },
    {
      "cell_type": "code",
      "metadata": {
        "id": "am81Wr7lFwTn"
      },
      "source": [
        "# trainset = SyntheticDataset(X,Y)\n",
        "# trainloader = torch.utils.data.DataLoader(trainset, batch_size=100, shuffle=True)\n",
        "# classes = ('zero','one','two','three','four','five','six','seven','eight','nine')\n",
        "\n",
        "# foreground_classes = {'zero','one','two'}\n",
        "# fg_used = '012'\n",
        "# fg1, fg2, fg3 = 0,1,2\n",
        "\n",
        "\n",
        "# all_classes = {'zero','one','two','three','four','five','six','seven','eight','nine'}\n",
        "# background_classes = all_classes - foreground_classes\n",
        "# background_classes"
      ],
      "execution_count": 5,
      "outputs": []
    },
    {
      "cell_type": "code",
      "metadata": {
        "id": "_lopYyy7G--q"
      },
      "source": [
        "# dataiter = iter(trainloader)\n",
        "# background_data=[]\n",
        "# background_label=[]\n",
        "# foreground_data=[]\n",
        "# foreground_label=[]\n",
        "# batch_size=100\n",
        "\n",
        "# for i in range(50):\n",
        "#   images, labels = dataiter.next()\n",
        "#   for j in range(batch_size):\n",
        "#     if(classes[labels[j]] in background_classes):\n",
        "#       img = images[j].tolist()\n",
        "#       background_data.append(img)\n",
        "#       background_label.append(labels[j])\n",
        "#     else:\n",
        "#       img = images[j].tolist()\n",
        "#       foreground_data.append(img)\n",
        "#       foreground_label.append(labels[j])\n",
        "            \n",
        "# foreground_data = torch.tensor(foreground_data)\n",
        "# foreground_label = torch.tensor(foreground_label)\n",
        "# background_data = torch.tensor(background_data)\n",
        "# background_label = torch.tensor(background_label)"
      ],
      "execution_count": 6,
      "outputs": []
    },
    {
      "cell_type": "code",
      "metadata": {
        "id": "JnT8fc5DMAa0"
      },
      "source": [
        "# def create_mosaic_img(bg_idx,fg_idx,fg): \n",
        "#   \"\"\"\n",
        "#   bg_idx : list of indexes of background_data[] to be used as background images in mosaic\n",
        "#   fg_idx : index of image to be used as foreground image from foreground data\n",
        "#   fg : at what position/index foreground image has to be stored out of 0-8\n",
        "#   \"\"\"\n",
        "#   image_list=[]\n",
        "#   j=0\n",
        "#   for i in range(9):\n",
        "#     if i != fg:\n",
        "#       image_list.append(background_data[bg_idx[j]])\n",
        "#       j+=1\n",
        "#     else: \n",
        "#       image_list.append(foreground_data[fg_idx])\n",
        "#       label = foreground_label[fg_idx] - fg1  # minus fg1 because our fore ground classes are fg1,fg2,fg3 but we have to store it as 0,1,2\n",
        "#   #image_list = np.concatenate(image_list ,axis=0)\n",
        "#   image_list = torch.stack(image_list) \n",
        "#   return image_list,label"
      ],
      "execution_count": 7,
      "outputs": []
    },
    {
      "cell_type": "code",
      "metadata": {
        "id": "kd4r_sXhMDCu"
      },
      "source": [
        "# # number of data points in bg class and fg class\n",
        "# nbg = 500*7\n",
        "# nfg   = 500*3\n",
        "\n",
        "# print(nbg, nfg, nbg+nfg)"
      ],
      "execution_count": 8,
      "outputs": []
    },
    {
      "cell_type": "code",
      "metadata": {
        "id": "2zq2xQCBMC7j"
      },
      "source": [
        "# desired_num = 3000\n",
        "# mosaic_list_of_images =[]      # list of mosaic images, each mosaic image is saved as list of 9 images\n",
        "# fore_idx =[]                   # list of indexes at which foreground image is present in a mosaic image i.e from 0 to 9               \n",
        "# mosaic_label=[]                # label of mosaic image = foreground class present in that mosaic\n",
        "# list_set_labels = [] \n",
        "# for i in range(desired_num):\n",
        "#   set_idx = set()\n",
        "#   np.random.seed(i)\n",
        "#   bg_idx = np.random.randint(0,nbg,8)\n",
        "#   set_idx = set(background_label[bg_idx].tolist())\n",
        "#   fg_idx = np.random.randint(0,nfg)\n",
        "#   set_idx.add(foreground_label[fg_idx].item())\n",
        "#   fg = np.random.randint(0,9)\n",
        "#   fore_idx.append(fg)\n",
        "#   image_list,label = create_mosaic_img(bg_idx,fg_idx,fg)\n",
        "#   mosaic_list_of_images.append(image_list)\n",
        "#   mosaic_label.append(label)\n",
        "#   list_set_labels.append(set_idx)\n"
      ],
      "execution_count": 9,
      "outputs": []
    },
    {
      "cell_type": "code",
      "metadata": {
        "id": "8pqXIPlNMCyz"
      },
      "source": [
        "# desired_num = 2000\n",
        "# test_mosaic_list_of_images =[]      # list of mosaic images, each mosaic image is saved as list of 9 images\n",
        "# test_fore_idx =[]                   # list of indexes at which foreground image is present in a mosaic image i.e from 0 to 9               \n",
        "# test_mosaic_label=[]                # label of mosaic image = foreground class present in that mosaic\n",
        "# test_list_set_labels = [] \n",
        "# for i in range(desired_num):\n",
        "#   set_idx = set()\n",
        "#   np.random.seed(i+3000)\n",
        "#   bg_idx = np.random.randint(0,nbg,8)\n",
        "#   set_idx = set(background_label[bg_idx].tolist())\n",
        "#   fg_idx = np.random.randint(0,nfg)\n",
        "#   set_idx.add(foreground_label[fg_idx].item())\n",
        "#   fg = np.random.randint(0,9)\n",
        "#   test_fore_idx.append(fg)\n",
        "#   test_image_list,test_label = create_mosaic_img(bg_idx,fg_idx,fg)\n",
        "#   test_mosaic_list_of_images.append(test_image_list)\n",
        "#   test_mosaic_label.append(test_label)\n",
        "#   test_list_set_labels.append(set_idx)\n"
      ],
      "execution_count": 10,
      "outputs": []
    },
    {
      "cell_type": "code",
      "metadata": {
        "id": "Sxq58WbtMmKq"
      },
      "source": [
        "# data =  [{\"mosaic_list\":mosaic_list_of_images, \"mosaic_label\": mosaic_label, \"fore_idx\":fore_idx}]\n",
        "# np.save(\"train_blob_data.npy\",data)"
      ],
      "execution_count": 11,
      "outputs": []
    },
    {
      "cell_type": "code",
      "metadata": {
        "id": "hNnqO6yKMCoR"
      },
      "source": [
        "# data =  [{\"mosaic_list\":test_mosaic_list_of_images, \"mosaic_label\": test_mosaic_label, \"fore_idx\":test_fore_idx}]\n",
        "# np.save(\"test_blob_data.npy\",data)"
      ],
      "execution_count": 12,
      "outputs": []
    },
    {
      "cell_type": "code",
      "metadata": {
        "id": "DSZpS3F5Jnhz"
      },
      "source": [
        "# data = [{\"X\":X,\"Y\":Y}]\n",
        "# np.save(\"blob_data.npy\",data)"
      ],
      "execution_count": 13,
      "outputs": []
    },
    {
      "cell_type": "markdown",
      "metadata": {
        "id": "y4ZKaqzq_vcD"
      },
      "source": [
        "# load mosaic data"
      ]
    },
    {
      "cell_type": "code",
      "metadata": {
        "id": "6_dZKEaJAQ2Y"
      },
      "source": [
        "class MosaicDataset1(Dataset):\n",
        "  \"\"\"MosaicDataset dataset.\"\"\"\n",
        "\n",
        "  def __init__(self, mosaic_list, mosaic_label,fore_idx):\n",
        "    \"\"\"\n",
        "      Args:\n",
        "        csv_file (string): Path to the csv file with annotations.\n",
        "        root_dir (string): Directory with all the images.\n",
        "        transform (callable, optional): Optional transform to be applied\n",
        "            on a sample.\n",
        "    \"\"\"\n",
        "    self.mosaic = mosaic_list\n",
        "    self.label = mosaic_label\n",
        "    self.fore_idx = fore_idx\n",
        "    \n",
        "  def __len__(self):\n",
        "    return len(self.label)\n",
        "\n",
        "  def __getitem__(self, idx):\n",
        "    return self.mosaic[idx] , self.label[idx] , self.fore_idx[idx]"
      ],
      "execution_count": 14,
      "outputs": []
    },
    {
      "cell_type": "code",
      "metadata": {
        "id": "9tn26Ne1KXs4"
      },
      "source": [
        "class SyntheticDataset(Dataset):\n",
        "  \"\"\"MosaicDataset dataset.\"\"\"\n",
        "\n",
        "  def __init__(self, x, y):\n",
        "    \"\"\"\n",
        "      Args:\n",
        "        csv_file (string): Path to the csv file with annotations.\n",
        "        root_dir (string): Directory with all the images.\n",
        "        transform (callable, optional): Optional transform to be applied\n",
        "            on a sample.\n",
        "    \"\"\"\n",
        "    self.x = x\n",
        "    self.y = y\n",
        "    #self.fore_idx = fore_idx\n",
        "    \n",
        "  def __len__(self):\n",
        "    return len(self.y)\n",
        "\n",
        "  def __getitem__(self, idx):\n",
        "    return self.x[idx] , self.y[idx] #, self.fore_idx[idx]"
      ],
      "execution_count": 15,
      "outputs": []
    },
    {
      "cell_type": "code",
      "metadata": {
        "id": "UWxCb_h8AQpf"
      },
      "source": [
        "train_data = np.load(\"train_blob_data.npy\",allow_pickle=True)\n",
        "test_data = np.load(\"test_blob_data.npy\",allow_pickle=True)\n",
        "data = np.load(\"blob_data.npy\",allow_pickle=True)"
      ],
      "execution_count": 16,
      "outputs": []
    },
    {
      "cell_type": "code",
      "metadata": {
        "id": "WR0bl63TAQI9"
      },
      "source": [
        "train_mosaic_list_of_images = train_data[0][\"mosaic_list\"]\n",
        "train_mosaic_label = train_data[0][\"mosaic_label\"]\n",
        "train_fore_idx = train_data[0][\"fore_idx\"]\n",
        "\n",
        "\n",
        "test_mosaic_list_of_images = test_data[0][\"mosaic_list\"]\n",
        "test_mosaic_label = test_data[0][\"mosaic_label\"]\n",
        "test_fore_idx = test_data[0][\"fore_idx\"]\n",
        "X = data[0][\"X\"]\n",
        "Y = data[0][\"Y\"]"
      ],
      "execution_count": 17,
      "outputs": []
    },
    {
      "cell_type": "code",
      "metadata": {
        "id": "GVS6xb4fAZ_P"
      },
      "source": [
        "batch = 250\n",
        "tr_msd = MosaicDataset1(train_mosaic_list_of_images, train_mosaic_label, train_fore_idx)\n",
        "train_loader = DataLoader( tr_msd,batch_size= batch ,shuffle=True)"
      ],
      "execution_count": 18,
      "outputs": []
    },
    {
      "cell_type": "code",
      "metadata": {
        "id": "Mn1Xql2gNrUH"
      },
      "source": [
        "batch = 250\n",
        "tst_msd = MosaicDataset1(test_mosaic_list_of_images, test_mosaic_label, test_fore_idx)\n",
        "test_loader = DataLoader( tst_msd,batch_size= batch ,shuffle=True)"
      ],
      "execution_count": 19,
      "outputs": []
    },
    {
      "cell_type": "code",
      "metadata": {
        "id": "hQNLGobaKa2s"
      },
      "source": [
        "dset = SyntheticDataset(X,Y)\n",
        "dtloader = DataLoader(dset,batch_size =batch,shuffle=True )"
      ],
      "execution_count": 20,
      "outputs": []
    },
    {
      "cell_type": "markdown",
      "metadata": {
        "id": "ARLPPASQ_2gB"
      },
      "source": [
        "# models"
      ]
    },
    {
      "cell_type": "code",
      "metadata": {
        "id": "T1Y0mCQzjSV0"
      },
      "source": [
        "class Module1(nn.Module):\n",
        "  def __init__(self):\n",
        "    super(Module1, self).__init__()\n",
        "    self.fc1 = nn.Linear(5, 100)\n",
        "    self.fc2 = nn.Linear(100, 1)\n",
        "\n",
        "  def forward(self, z):\n",
        "    x = torch.zeros([batch,9],dtype=torch.float64)\n",
        "    y = torch.zeros([batch,5], dtype=torch.float64)\n",
        "    x,y = x.to(\"cuda\"),y.to(\"cuda\")\n",
        "    for i in range(9):\n",
        "      x[:,i] = self.helper(z[:,i])[:,0]\n",
        "    x = F.softmax(x,dim=1)   # alphas\n",
        "    \n",
        "\n",
        "    for i in range(9):            \n",
        "      x1 = x[:,i]          \n",
        "      y = y + torch.mul(x1[:,None],z[:,i])\n",
        "    return y , x \n",
        "  \n",
        "  def helper(self,x):\n",
        "    x = F.relu(self.fc1(x))\n",
        "    x = self.fc2(x)\n",
        "    return x\n",
        "      \n"
      ],
      "execution_count": 21,
      "outputs": []
    },
    {
      "cell_type": "code",
      "metadata": {
        "id": "zt9YwV5rjSK_"
      },
      "source": [
        " class Module2(nn.Module):\n",
        "  def __init__(self):\n",
        "    super(Module2, self).__init__()\n",
        "    self.fc1 = nn.Linear(5, 100)\n",
        "    self.fc2 = nn.Linear(100, 3)\n",
        "\n",
        "  def forward(self,y):  \n",
        "    y = F.relu(self.fc1(y))\n",
        "    y = self.fc2(y)\n",
        "    return y\n"
      ],
      "execution_count": 22,
      "outputs": []
    },
    {
      "cell_type": "code",
      "metadata": {
        "id": "UJbdW7cijRsr"
      },
      "source": [
        "torch.manual_seed(1234)\n",
        "where_net = Module1().double()\n",
        "where_net = where_net.to(\"cuda\")\n",
        "# print(net.parameters)\n",
        "torch.manual_seed(1234)\n",
        "what_net = Module2().double()\n",
        "what_net = what_net.to(\"cuda\")"
      ],
      "execution_count": 23,
      "outputs": []
    },
    {
      "cell_type": "code",
      "metadata": {
        "id": "ehAfQnNwgFYX"
      },
      "source": [
        "def calculate_attn_loss(dataloader,what,where,criter):\n",
        "  what.eval()\n",
        "  where.eval()\n",
        "  r_loss = 0\n",
        "  alphas = []\n",
        "  lbls = []\n",
        "  pred = []\n",
        "  fidices = []\n",
        "  correct = 0\n",
        "  tot = 0\n",
        "  with torch.no_grad():\n",
        "    for i, data in enumerate(dataloader, 0):\n",
        "      inputs, labels,fidx = data\n",
        "      lbls.append(labels)\n",
        "      fidices.append(fidx)\n",
        "      inputs = inputs.double()\n",
        "      inputs, labels = inputs.to(\"cuda\"),labels.to(\"cuda\")\n",
        "      avg,alpha = where(inputs)\n",
        "      outputs = what(avg)\n",
        "      _, predicted = torch.max(outputs.data, 1)\n",
        "      correct += sum(predicted == labels)\n",
        "      tot += len(predicted)\n",
        "      pred.append(predicted.cpu().numpy())\n",
        "      alphas.append(alpha.cpu().numpy())\n",
        "      loss = criter(outputs, labels)\n",
        "      r_loss += loss.item()\n",
        "  alphas = np.concatenate(alphas,axis=0)\n",
        "  pred = np.concatenate(pred,axis=0)\n",
        "  lbls = np.concatenate(lbls,axis=0)\n",
        "  fidices = np.concatenate(fidices,axis=0)\n",
        "  #print(alphas.shape,pred.shape,lbls.shape,fidices.shape) \n",
        "  analysis = analyse_data(alphas,lbls,pred,fidices)\n",
        "  return r_loss/i,analysis,correct.item(),tot,correct.item()/tot"
      ],
      "execution_count": 24,
      "outputs": []
    },
    {
      "cell_type": "code",
      "metadata": {
        "id": "6e9HQJMzxBhp"
      },
      "source": [
        "def analyse_data(alphas,lbls,predicted,f_idx):\n",
        "    '''\n",
        "       analysis data is created here\n",
        "    '''\n",
        "    batch = len(predicted)\n",
        "    amth,alth,ftpt,ffpt,ftpf,ffpf = 0,0,0,0,0,0\n",
        "    for j in range (batch):\n",
        "      focus = np.argmax(alphas[j])\n",
        "      if(alphas[j][focus] >= 0.5):\n",
        "        amth +=1\n",
        "      else:\n",
        "        alth +=1\n",
        "      if(focus == f_idx[j] and predicted[j] == lbls[j]):\n",
        "        ftpt += 1\n",
        "      elif(focus != f_idx[j] and predicted[j] == lbls[j]):\n",
        "        ffpt +=1\n",
        "      elif(focus == f_idx[j] and predicted[j] != lbls[j]):\n",
        "        ftpf +=1\n",
        "      elif(focus != f_idx[j] and predicted[j] != lbls[j]):\n",
        "        ffpf +=1\n",
        "    #print(sum(predicted==lbls),ftpt+ffpt)\n",
        "    return [ftpt,ffpt,ftpf,ffpf,amth,alth]"
      ],
      "execution_count": 25,
      "outputs": []
    },
    {
      "cell_type": "code",
      "metadata": {
        "id": "cu6qMiWpK1IA"
      },
      "source": [
        "def cal_blob_accuracy(data_loader):\n",
        "  net = Module2().double()\n",
        "  net = net.to(\"cuda\")\n",
        "  net.load_state_dict(torch.load(\"Net.pt\"))\n",
        "  pred = []\n",
        "  lbls = []\n",
        "  net.eval()\n",
        "  with torch.no_grad():\n",
        "    for i, data in enumerate(data_loader, 0):\n",
        "      inputs, labels= data\n",
        "      inputs = inputs.double()\n",
        "      inputs, labels = inputs.to(\"cuda\"),labels.to(\"cuda\")\n",
        "      lbls.append(labels.cpu().numpy())\n",
        "      outputs = net(inputs)\n",
        "      _, predicted = torch.max(outputs.data, 1)\n",
        "      pred.append(predicted.cpu().numpy())\n",
        "  #print(np.shape(lbls))\n",
        "  lbls  = np.concatenate(lbls,axis=0)\n",
        "  lbls = lbls[:,0]\n",
        "  #print(lbls.shape)\n",
        "  pred = np.concatenate(pred,axis=0)\n",
        "  idxs = np.logical_or(np.logical_or(lbls==0,lbls==1),lbls ==2)\n",
        "  #print(idxs)\n",
        "  acc = (np.sum(lbls[idxs] == pred[idxs]) / (len(lbls[idxs])) )*100\n",
        "\n",
        "  print(\"Accuracy on CIFAR10 0,1,2 classes is \",acc )\n",
        "  return acc"
      ],
      "execution_count": 26,
      "outputs": []
    },
    {
      "cell_type": "markdown",
      "metadata": {
        "id": "a2AlGgRa_6_H"
      },
      "source": [
        "# training"
      ]
    },
    {
      "cell_type": "code",
      "metadata": {
        "colab": {
          "base_uri": "https://localhost:8080/"
        },
        "id": "MOfxUJZ_eFKw",
        "outputId": "59db2204-8d08-4fd2-fd31-58afad38a67c"
      },
      "source": [
        "# instantiate optimizer\n",
        "optimizer_where = optim.RMSprop(where_net.parameters(),lr =0.001)#,nesterov=True)\n",
        "optimizer_what = optim.RMSprop(what_net.parameters(), lr=0.001)#,nesterov=True)\n",
        " \n",
        "\n",
        "criterion = nn.CrossEntropyLoss()\n",
        "acti = []\n",
        "analysis_data_tr = []\n",
        "analysis_data_tst = []\n",
        "loss_curi_tst = []\n",
        "loss_curi_tr = []\n",
        "blob_classify_acc  = []\n",
        "epochs = 450\n",
        "\n",
        "every_what_epoch = 1\n",
        "\n",
        "# calculate zeroth epoch loss and FTPT values\n",
        "running_loss,anlys_data,correct,total,accuracy = calculate_attn_loss(train_loader,what_net,where_net,criterion)\n",
        "print('training epoch: [%d ] loss: %.3f correct: %.3f, total: %.3f, accuracy: %.3f' %(0,running_loss,correct,total,accuracy)) \n",
        "loss_curi_tr.append(running_loss)\n",
        "analysis_data_tr.append(anlys_data)\n",
        "\n",
        "\n",
        "\n",
        "running_loss,anlys_data,correct,total,accuracy = calculate_attn_loss(test_loader,what_net,where_net,criterion)\n",
        "print('test epoch: [%d ] loss: %.3f correct: %.3f, total: %.3f, accuracy: %.3f' %(0,running_loss,correct,total,accuracy)) \n",
        "\n",
        "loss_curi_tst.append(running_loss)\n",
        "analysis_data_tst.append(anlys_data)\n",
        "\n",
        "\n",
        "# training starts \n",
        "for epoch in range(epochs): # loop over the dataset multiple times\n",
        "  ep_lossi = []\n",
        "  running_loss = 0.0\n",
        "  what_net.train()\n",
        "  where_net.train()\n",
        "  if ((epoch) % (every_what_epoch*2) ) <= every_what_epoch-1 :\n",
        "    print(epoch+1,\"updating what_net, where_net is freezed\")\n",
        "    print(\"--\"*40)\n",
        "  elif ((epoch) % (every_what_epoch*2)) > every_what_epoch-1 :\n",
        "    print(epoch+1,\"updating where_net, what_net is freezed\")\n",
        "    print(\"--\"*40)\n",
        "  for i, data in enumerate(train_loader, 0):\n",
        "    # get the inputs\n",
        "    inputs, labels,_ = data\n",
        "    inputs = inputs.double()\n",
        "    inputs, labels = inputs.to(\"cuda\"),labels.to(\"cuda\")\n",
        "        \n",
        "    # zero the parameter gradients\n",
        "    optimizer_where.zero_grad()\n",
        "    optimizer_what.zero_grad()\n",
        "      \n",
        "    # forward + backward + optimize\n",
        "    avg, alpha = where_net(inputs)\n",
        "    outputs = what_net(avg)\n",
        "    loss = criterion(outputs, labels)\n",
        "\n",
        "    # print statistics\n",
        "    running_loss += loss.item()\n",
        "    loss.backward()\n",
        "    if ((epoch) % (every_what_epoch*2) ) <= every_what_epoch-1 :\n",
        "      optimizer_what.step()\n",
        "    elif ( (epoch) % (every_what_epoch*2)) > every_what_epoch-1 :\n",
        "      optimizer_where.step()\n",
        "  running_loss_tr,anls_data,correct,total,accuracy = calculate_attn_loss(train_loader,what_net,where_net,criterion)\n",
        "  analysis_data_tr.append(anls_data)\n",
        "  loss_curi_tr.append(running_loss_tr)   #loss per epoch\n",
        "  print('training epoch: [%d ] loss: %.3f correct: %.3f, total: %.3f, accuracy: %.3f' %(epoch+1,running_loss_tr,correct,total,accuracy)) \n",
        "\n",
        "\n",
        "  # calculate loss for test data\n",
        "  running_loss_tst,anls_data,correct,total,accuracy = calculate_attn_loss(test_loader,what_net,where_net,criterion)\n",
        "  analysis_data_tst.append(anls_data)\n",
        "  loss_curi_tst.append(running_loss_tst)   #loss per epoch\n",
        "  print('test epoch: [%d ] loss: %.3f correct: %.3f, total: %.3f, accuracy: %.3f' %(epoch+1,running_loss_tst,correct,total,accuracy)) \n",
        "  torch.save(what_net.state_dict(),\"Net.pt\")\n",
        "  blob_classify_acc.append(cal_blob_accuracy(dtloader))\n",
        "  if running_loss_tr<=0.05:\n",
        "    break\n",
        "  # if ((epoch) % (every_what_epoch*2) ) <= every_what_epoch-1 :\n",
        "  #   scheduler_what.step(running_loss_val)\n",
        "  # elif ( (epoch) % (every_what_epoch*2)) > every_what_epoch-1 :\n",
        "  #   scheduler_where.step(running_loss_val)\n",
        "print('Finished Training run ')\n",
        "analysis_data_tr = np.array(analysis_data_tr) \n",
        "analysis_data_tst = np.array(analysis_data_tst)"
      ],
      "execution_count": 27,
      "outputs": [
        {
          "output_type": "stream",
          "text": [
            "training epoch: [0 ] loss: 1.938 correct: 969.000, total: 3000.000, accuracy: 0.323\n",
            "test epoch: [0 ] loss: 2.015 correct: 645.000, total: 2000.000, accuracy: 0.323\n",
            "1 updating what_net, where_net is freezed\n",
            "--------------------------------------------------------------------------------\n",
            "training epoch: [1 ] loss: 1.206 correct: 1010.000, total: 3000.000, accuracy: 0.337\n",
            "test epoch: [1 ] loss: 1.261 correct: 674.000, total: 2000.000, accuracy: 0.337\n",
            "Accuracy on CIFAR10 0,1,2 classes is  43.46666666666666\n",
            "2 updating where_net, what_net is freezed\n",
            "--------------------------------------------------------------------------------\n",
            "training epoch: [2 ] loss: 1.014 correct: 1221.000, total: 3000.000, accuracy: 0.407\n",
            "test epoch: [2 ] loss: 1.063 correct: 776.000, total: 2000.000, accuracy: 0.388\n",
            "Accuracy on CIFAR10 0,1,2 classes is  43.46666666666666\n",
            "3 updating what_net, where_net is freezed\n",
            "--------------------------------------------------------------------------------\n",
            "training epoch: [3 ] loss: 0.804 correct: 2179.000, total: 3000.000, accuracy: 0.726\n",
            "test epoch: [3 ] loss: 0.842 correct: 1403.000, total: 2000.000, accuracy: 0.702\n",
            "Accuracy on CIFAR10 0,1,2 classes is  44.93333333333333\n",
            "4 updating where_net, what_net is freezed\n",
            "--------------------------------------------------------------------------------\n",
            "training epoch: [4 ] loss: 0.708 correct: 2331.000, total: 3000.000, accuracy: 0.777\n",
            "test epoch: [4 ] loss: 0.744 correct: 1525.000, total: 2000.000, accuracy: 0.762\n",
            "Accuracy on CIFAR10 0,1,2 classes is  44.93333333333333\n",
            "5 updating what_net, where_net is freezed\n",
            "--------------------------------------------------------------------------------\n",
            "training epoch: [5 ] loss: 0.586 correct: 2492.000, total: 3000.000, accuracy: 0.831\n",
            "test epoch: [5 ] loss: 0.611 correct: 1619.000, total: 2000.000, accuracy: 0.809\n",
            "Accuracy on CIFAR10 0,1,2 classes is  49.266666666666666\n",
            "6 updating where_net, what_net is freezed\n",
            "--------------------------------------------------------------------------------\n",
            "training epoch: [6 ] loss: 0.536 correct: 2523.000, total: 3000.000, accuracy: 0.841\n",
            "test epoch: [6 ] loss: 0.559 correct: 1658.000, total: 2000.000, accuracy: 0.829\n",
            "Accuracy on CIFAR10 0,1,2 classes is  49.266666666666666\n",
            "7 updating what_net, where_net is freezed\n",
            "--------------------------------------------------------------------------------\n",
            "training epoch: [7 ] loss: 0.462 correct: 2575.000, total: 3000.000, accuracy: 0.858\n",
            "test epoch: [7 ] loss: 0.476 correct: 1690.000, total: 2000.000, accuracy: 0.845\n",
            "Accuracy on CIFAR10 0,1,2 classes is  49.06666666666666\n",
            "8 updating where_net, what_net is freezed\n",
            "--------------------------------------------------------------------------------\n",
            "training epoch: [8 ] loss: 0.446 correct: 2582.000, total: 3000.000, accuracy: 0.861\n",
            "test epoch: [8 ] loss: 0.461 correct: 1699.000, total: 2000.000, accuracy: 0.850\n",
            "Accuracy on CIFAR10 0,1,2 classes is  49.06666666666666\n",
            "9 updating what_net, where_net is freezed\n",
            "--------------------------------------------------------------------------------\n",
            "training epoch: [9 ] loss: 0.403 correct: 2648.000, total: 3000.000, accuracy: 0.883\n",
            "test epoch: [9 ] loss: 0.413 correct: 1745.000, total: 2000.000, accuracy: 0.873\n",
            "Accuracy on CIFAR10 0,1,2 classes is  50.53333333333333\n",
            "10 updating where_net, what_net is freezed\n",
            "--------------------------------------------------------------------------------\n",
            "training epoch: [10 ] loss: 0.396 correct: 2640.000, total: 3000.000, accuracy: 0.880\n",
            "test epoch: [10 ] loss: 0.413 correct: 1735.000, total: 2000.000, accuracy: 0.868\n",
            "Accuracy on CIFAR10 0,1,2 classes is  50.53333333333333\n",
            "11 updating what_net, where_net is freezed\n",
            "--------------------------------------------------------------------------------\n",
            "training epoch: [11 ] loss: 0.357 correct: 2646.000, total: 3000.000, accuracy: 0.882\n",
            "test epoch: [11 ] loss: 0.367 correct: 1747.000, total: 2000.000, accuracy: 0.874\n",
            "Accuracy on CIFAR10 0,1,2 classes is  47.199999999999996\n",
            "12 updating where_net, what_net is freezed\n",
            "--------------------------------------------------------------------------------\n",
            "training epoch: [12 ] loss: 0.350 correct: 2657.000, total: 3000.000, accuracy: 0.886\n",
            "test epoch: [12 ] loss: 0.363 correct: 1756.000, total: 2000.000, accuracy: 0.878\n",
            "Accuracy on CIFAR10 0,1,2 classes is  47.199999999999996\n",
            "13 updating what_net, where_net is freezed\n",
            "--------------------------------------------------------------------------------\n",
            "training epoch: [13 ] loss: 0.322 correct: 2672.000, total: 3000.000, accuracy: 0.891\n",
            "test epoch: [13 ] loss: 0.332 correct: 1783.000, total: 2000.000, accuracy: 0.891\n",
            "Accuracy on CIFAR10 0,1,2 classes is  57.266666666666666\n",
            "14 updating where_net, what_net is freezed\n",
            "--------------------------------------------------------------------------------\n",
            "training epoch: [14 ] loss: 0.316 correct: 2682.000, total: 3000.000, accuracy: 0.894\n",
            "test epoch: [14 ] loss: 0.328 correct: 1786.000, total: 2000.000, accuracy: 0.893\n",
            "Accuracy on CIFAR10 0,1,2 classes is  57.266666666666666\n",
            "15 updating what_net, where_net is freezed\n",
            "--------------------------------------------------------------------------------\n",
            "training epoch: [15 ] loss: 0.282 correct: 2791.000, total: 3000.000, accuracy: 0.930\n",
            "test epoch: [15 ] loss: 0.293 correct: 1844.000, total: 2000.000, accuracy: 0.922\n",
            "Accuracy on CIFAR10 0,1,2 classes is  61.0\n",
            "16 updating where_net, what_net is freezed\n",
            "--------------------------------------------------------------------------------\n",
            "training epoch: [16 ] loss: 0.285 correct: 2771.000, total: 3000.000, accuracy: 0.924\n",
            "test epoch: [16 ] loss: 0.291 correct: 1834.000, total: 2000.000, accuracy: 0.917\n",
            "Accuracy on CIFAR10 0,1,2 classes is  61.0\n",
            "17 updating what_net, where_net is freezed\n",
            "--------------------------------------------------------------------------------\n",
            "training epoch: [17 ] loss: 0.259 correct: 2824.000, total: 3000.000, accuracy: 0.941\n",
            "test epoch: [17 ] loss: 0.265 correct: 1867.000, total: 2000.000, accuracy: 0.933\n",
            "Accuracy on CIFAR10 0,1,2 classes is  62.93333333333333\n",
            "18 updating where_net, what_net is freezed\n",
            "--------------------------------------------------------------------------------\n",
            "training epoch: [18 ] loss: 0.252 correct: 2855.000, total: 3000.000, accuracy: 0.952\n",
            "test epoch: [18 ] loss: 0.261 correct: 1892.000, total: 2000.000, accuracy: 0.946\n",
            "Accuracy on CIFAR10 0,1,2 classes is  62.93333333333333\n",
            "19 updating what_net, where_net is freezed\n",
            "--------------------------------------------------------------------------------\n",
            "training epoch: [19 ] loss: 0.232 correct: 2896.000, total: 3000.000, accuracy: 0.965\n",
            "test epoch: [19 ] loss: 0.241 correct: 1924.000, total: 2000.000, accuracy: 0.962\n",
            "Accuracy on CIFAR10 0,1,2 classes is  65.06666666666666\n",
            "20 updating where_net, what_net is freezed\n",
            "--------------------------------------------------------------------------------\n",
            "training epoch: [20 ] loss: 0.236 correct: 2932.000, total: 3000.000, accuracy: 0.977\n",
            "test epoch: [20 ] loss: 0.249 correct: 1944.000, total: 2000.000, accuracy: 0.972\n",
            "Accuracy on CIFAR10 0,1,2 classes is  65.06666666666666\n",
            "21 updating what_net, where_net is freezed\n",
            "--------------------------------------------------------------------------------\n",
            "training epoch: [21 ] loss: 0.215 correct: 2826.000, total: 3000.000, accuracy: 0.942\n",
            "test epoch: [21 ] loss: 0.227 correct: 1869.000, total: 2000.000, accuracy: 0.934\n",
            "Accuracy on CIFAR10 0,1,2 classes is  61.73333333333333\n",
            "22 updating where_net, what_net is freezed\n",
            "--------------------------------------------------------------------------------\n",
            "training epoch: [22 ] loss: 0.212 correct: 2826.000, total: 3000.000, accuracy: 0.942\n",
            "test epoch: [22 ] loss: 0.223 correct: 1869.000, total: 2000.000, accuracy: 0.934\n",
            "Accuracy on CIFAR10 0,1,2 classes is  61.73333333333333\n",
            "23 updating what_net, where_net is freezed\n",
            "--------------------------------------------------------------------------------\n",
            "training epoch: [23 ] loss: 0.194 correct: 2937.000, total: 3000.000, accuracy: 0.979\n",
            "test epoch: [23 ] loss: 0.205 correct: 1948.000, total: 2000.000, accuracy: 0.974\n",
            "Accuracy on CIFAR10 0,1,2 classes is  65.46666666666667\n",
            "24 updating where_net, what_net is freezed\n",
            "--------------------------------------------------------------------------------\n",
            "training epoch: [24 ] loss: 0.193 correct: 2918.000, total: 3000.000, accuracy: 0.973\n",
            "test epoch: [24 ] loss: 0.203 correct: 1942.000, total: 2000.000, accuracy: 0.971\n",
            "Accuracy on CIFAR10 0,1,2 classes is  65.46666666666667\n",
            "25 updating what_net, where_net is freezed\n",
            "--------------------------------------------------------------------------------\n",
            "training epoch: [25 ] loss: 0.179 correct: 2929.000, total: 3000.000, accuracy: 0.976\n",
            "test epoch: [25 ] loss: 0.189 correct: 1949.000, total: 2000.000, accuracy: 0.975\n",
            "Accuracy on CIFAR10 0,1,2 classes is  65.66666666666666\n",
            "26 updating where_net, what_net is freezed\n",
            "--------------------------------------------------------------------------------\n",
            "training epoch: [26 ] loss: 0.178 correct: 2943.000, total: 3000.000, accuracy: 0.981\n",
            "test epoch: [26 ] loss: 0.189 correct: 1955.000, total: 2000.000, accuracy: 0.978\n",
            "Accuracy on CIFAR10 0,1,2 classes is  65.66666666666666\n",
            "27 updating what_net, where_net is freezed\n",
            "--------------------------------------------------------------------------------\n",
            "training epoch: [27 ] loss: 0.175 correct: 2823.000, total: 3000.000, accuracy: 0.941\n",
            "test epoch: [27 ] loss: 0.186 correct: 1869.000, total: 2000.000, accuracy: 0.934\n",
            "Accuracy on CIFAR10 0,1,2 classes is  61.86666666666667\n",
            "28 updating where_net, what_net is freezed\n",
            "--------------------------------------------------------------------------------\n",
            "training epoch: [28 ] loss: 0.174 correct: 2827.000, total: 3000.000, accuracy: 0.942\n",
            "test epoch: [28 ] loss: 0.182 correct: 1873.000, total: 2000.000, accuracy: 0.936\n",
            "Accuracy on CIFAR10 0,1,2 classes is  61.86666666666667\n",
            "29 updating what_net, where_net is freezed\n",
            "--------------------------------------------------------------------------------\n",
            "training epoch: [29 ] loss: 0.155 correct: 2926.000, total: 3000.000, accuracy: 0.975\n",
            "test epoch: [29 ] loss: 0.164 correct: 1950.000, total: 2000.000, accuracy: 0.975\n",
            "Accuracy on CIFAR10 0,1,2 classes is  65.73333333333333\n",
            "30 updating where_net, what_net is freezed\n",
            "--------------------------------------------------------------------------------\n",
            "training epoch: [30 ] loss: 0.154 correct: 2934.000, total: 3000.000, accuracy: 0.978\n",
            "test epoch: [30 ] loss: 0.166 correct: 1948.000, total: 2000.000, accuracy: 0.974\n",
            "Accuracy on CIFAR10 0,1,2 classes is  65.73333333333333\n",
            "31 updating what_net, where_net is freezed\n",
            "--------------------------------------------------------------------------------\n",
            "training epoch: [31 ] loss: 0.145 correct: 2917.000, total: 3000.000, accuracy: 0.972\n",
            "test epoch: [31 ] loss: 0.157 correct: 1940.000, total: 2000.000, accuracy: 0.970\n",
            "Accuracy on CIFAR10 0,1,2 classes is  78.26666666666667\n",
            "32 updating where_net, what_net is freezed\n",
            "--------------------------------------------------------------------------------\n",
            "training epoch: [32 ] loss: 0.144 correct: 2931.000, total: 3000.000, accuracy: 0.977\n",
            "test epoch: [32 ] loss: 0.156 correct: 1944.000, total: 2000.000, accuracy: 0.972\n",
            "Accuracy on CIFAR10 0,1,2 classes is  78.26666666666667\n",
            "33 updating what_net, where_net is freezed\n",
            "--------------------------------------------------------------------------------\n",
            "training epoch: [33 ] loss: 0.135 correct: 2946.000, total: 3000.000, accuracy: 0.982\n",
            "test epoch: [33 ] loss: 0.147 correct: 1954.000, total: 2000.000, accuracy: 0.977\n",
            "Accuracy on CIFAR10 0,1,2 classes is  81.66666666666667\n",
            "34 updating where_net, what_net is freezed\n",
            "--------------------------------------------------------------------------------\n",
            "training epoch: [34 ] loss: 0.135 correct: 2944.000, total: 3000.000, accuracy: 0.981\n",
            "test epoch: [34 ] loss: 0.146 correct: 1953.000, total: 2000.000, accuracy: 0.977\n",
            "Accuracy on CIFAR10 0,1,2 classes is  81.66666666666667\n",
            "35 updating what_net, where_net is freezed\n",
            "--------------------------------------------------------------------------------\n",
            "training epoch: [35 ] loss: 0.128 correct: 2985.000, total: 3000.000, accuracy: 0.995\n",
            "test epoch: [35 ] loss: 0.139 correct: 1986.000, total: 2000.000, accuracy: 0.993\n",
            "Accuracy on CIFAR10 0,1,2 classes is  80.66666666666666\n",
            "36 updating where_net, what_net is freezed\n",
            "--------------------------------------------------------------------------------\n",
            "training epoch: [36 ] loss: 0.128 correct: 2981.000, total: 3000.000, accuracy: 0.994\n",
            "test epoch: [36 ] loss: 0.137 correct: 1980.000, total: 2000.000, accuracy: 0.990\n",
            "Accuracy on CIFAR10 0,1,2 classes is  80.66666666666666\n",
            "37 updating what_net, where_net is freezed\n",
            "--------------------------------------------------------------------------------\n",
            "training epoch: [37 ] loss: 0.120 correct: 2949.000, total: 3000.000, accuracy: 0.983\n",
            "test epoch: [37 ] loss: 0.130 correct: 1963.000, total: 2000.000, accuracy: 0.982\n",
            "Accuracy on CIFAR10 0,1,2 classes is  88.13333333333333\n",
            "38 updating where_net, what_net is freezed\n",
            "--------------------------------------------------------------------------------\n",
            "training epoch: [38 ] loss: 0.119 correct: 2962.000, total: 3000.000, accuracy: 0.987\n",
            "test epoch: [38 ] loss: 0.131 correct: 1968.000, total: 2000.000, accuracy: 0.984\n",
            "Accuracy on CIFAR10 0,1,2 classes is  88.13333333333333\n",
            "39 updating what_net, where_net is freezed\n",
            "--------------------------------------------------------------------------------\n",
            "training epoch: [39 ] loss: 0.113 correct: 2948.000, total: 3000.000, accuracy: 0.983\n",
            "test epoch: [39 ] loss: 0.125 correct: 1960.000, total: 2000.000, accuracy: 0.980\n",
            "Accuracy on CIFAR10 0,1,2 classes is  85.6\n",
            "40 updating where_net, what_net is freezed\n",
            "--------------------------------------------------------------------------------\n",
            "training epoch: [40 ] loss: 0.114 correct: 2943.000, total: 3000.000, accuracy: 0.981\n",
            "test epoch: [40 ] loss: 0.121 correct: 1960.000, total: 2000.000, accuracy: 0.980\n",
            "Accuracy on CIFAR10 0,1,2 classes is  85.6\n",
            "41 updating what_net, where_net is freezed\n",
            "--------------------------------------------------------------------------------\n",
            "training epoch: [41 ] loss: 0.106 correct: 2985.000, total: 3000.000, accuracy: 0.995\n",
            "test epoch: [41 ] loss: 0.112 correct: 1985.000, total: 2000.000, accuracy: 0.993\n",
            "Accuracy on CIFAR10 0,1,2 classes is  83.46666666666667\n",
            "42 updating where_net, what_net is freezed\n",
            "--------------------------------------------------------------------------------\n",
            "training epoch: [42 ] loss: 0.104 correct: 2987.000, total: 3000.000, accuracy: 0.996\n",
            "test epoch: [42 ] loss: 0.114 correct: 1986.000, total: 2000.000, accuracy: 0.993\n",
            "Accuracy on CIFAR10 0,1,2 classes is  83.46666666666667\n",
            "43 updating what_net, where_net is freezed\n",
            "--------------------------------------------------------------------------------\n",
            "training epoch: [43 ] loss: 0.099 correct: 2985.000, total: 3000.000, accuracy: 0.995\n",
            "test epoch: [43 ] loss: 0.109 correct: 1984.000, total: 2000.000, accuracy: 0.992\n",
            "Accuracy on CIFAR10 0,1,2 classes is  82.8\n",
            "44 updating where_net, what_net is freezed\n",
            "--------------------------------------------------------------------------------\n",
            "training epoch: [44 ] loss: 0.097 correct: 2988.000, total: 3000.000, accuracy: 0.996\n",
            "test epoch: [44 ] loss: 0.109 correct: 1984.000, total: 2000.000, accuracy: 0.992\n",
            "Accuracy on CIFAR10 0,1,2 classes is  82.8\n",
            "45 updating what_net, where_net is freezed\n",
            "--------------------------------------------------------------------------------\n",
            "training epoch: [45 ] loss: 0.092 correct: 2989.000, total: 3000.000, accuracy: 0.996\n",
            "test epoch: [45 ] loss: 0.103 correct: 1989.000, total: 2000.000, accuracy: 0.995\n",
            "Accuracy on CIFAR10 0,1,2 classes is  80.60000000000001\n",
            "46 updating where_net, what_net is freezed\n",
            "--------------------------------------------------------------------------------\n",
            "training epoch: [46 ] loss: 0.092 correct: 2995.000, total: 3000.000, accuracy: 0.998\n",
            "test epoch: [46 ] loss: 0.104 correct: 1994.000, total: 2000.000, accuracy: 0.997\n",
            "Accuracy on CIFAR10 0,1,2 classes is  80.60000000000001\n",
            "47 updating what_net, where_net is freezed\n",
            "--------------------------------------------------------------------------------\n",
            "training epoch: [47 ] loss: 0.088 correct: 2989.000, total: 3000.000, accuracy: 0.996\n",
            "test epoch: [47 ] loss: 0.100 correct: 1984.000, total: 2000.000, accuracy: 0.992\n",
            "Accuracy on CIFAR10 0,1,2 classes is  76.93333333333334\n",
            "48 updating where_net, what_net is freezed\n",
            "--------------------------------------------------------------------------------\n",
            "training epoch: [48 ] loss: 0.089 correct: 2991.000, total: 3000.000, accuracy: 0.997\n",
            "test epoch: [48 ] loss: 0.098 correct: 1989.000, total: 2000.000, accuracy: 0.995\n",
            "Accuracy on CIFAR10 0,1,2 classes is  76.93333333333334\n",
            "49 updating what_net, where_net is freezed\n",
            "--------------------------------------------------------------------------------\n",
            "training epoch: [49 ] loss: 0.084 correct: 2996.000, total: 3000.000, accuracy: 0.999\n",
            "test epoch: [49 ] loss: 0.093 correct: 1996.000, total: 2000.000, accuracy: 0.998\n",
            "Accuracy on CIFAR10 0,1,2 classes is  69.33333333333334\n",
            "50 updating where_net, what_net is freezed\n",
            "--------------------------------------------------------------------------------\n",
            "training epoch: [50 ] loss: 0.082 correct: 2995.000, total: 3000.000, accuracy: 0.998\n",
            "test epoch: [50 ] loss: 0.094 correct: 1991.000, total: 2000.000, accuracy: 0.996\n",
            "Accuracy on CIFAR10 0,1,2 classes is  69.33333333333334\n",
            "51 updating what_net, where_net is freezed\n",
            "--------------------------------------------------------------------------------\n",
            "training epoch: [51 ] loss: 0.079 correct: 2995.000, total: 3000.000, accuracy: 0.998\n",
            "test epoch: [51 ] loss: 0.090 correct: 1989.000, total: 2000.000, accuracy: 0.995\n",
            "Accuracy on CIFAR10 0,1,2 classes is  68.26666666666667\n",
            "52 updating where_net, what_net is freezed\n",
            "--------------------------------------------------------------------------------\n",
            "training epoch: [52 ] loss: 0.078 correct: 2995.000, total: 3000.000, accuracy: 0.998\n",
            "test epoch: [52 ] loss: 0.089 correct: 1992.000, total: 2000.000, accuracy: 0.996\n",
            "Accuracy on CIFAR10 0,1,2 classes is  68.26666666666667\n",
            "53 updating what_net, where_net is freezed\n",
            "--------------------------------------------------------------------------------\n",
            "training epoch: [53 ] loss: 0.075 correct: 2995.000, total: 3000.000, accuracy: 0.998\n",
            "test epoch: [53 ] loss: 0.085 correct: 1991.000, total: 2000.000, accuracy: 0.996\n",
            "Accuracy on CIFAR10 0,1,2 classes is  68.93333333333334\n",
            "54 updating where_net, what_net is freezed\n",
            "--------------------------------------------------------------------------------\n",
            "training epoch: [54 ] loss: 0.075 correct: 2995.000, total: 3000.000, accuracy: 0.998\n",
            "test epoch: [54 ] loss: 0.085 correct: 1993.000, total: 2000.000, accuracy: 0.997\n",
            "Accuracy on CIFAR10 0,1,2 classes is  68.93333333333334\n",
            "55 updating what_net, where_net is freezed\n",
            "--------------------------------------------------------------------------------\n",
            "training epoch: [55 ] loss: 0.072 correct: 2998.000, total: 3000.000, accuracy: 0.999\n",
            "test epoch: [55 ] loss: 0.082 correct: 1998.000, total: 2000.000, accuracy: 0.999\n",
            "Accuracy on CIFAR10 0,1,2 classes is  67.73333333333333\n",
            "56 updating where_net, what_net is freezed\n",
            "--------------------------------------------------------------------------------\n",
            "training epoch: [56 ] loss: 0.072 correct: 2998.000, total: 3000.000, accuracy: 0.999\n",
            "test epoch: [56 ] loss: 0.081 correct: 1998.000, total: 2000.000, accuracy: 0.999\n",
            "Accuracy on CIFAR10 0,1,2 classes is  67.73333333333333\n",
            "57 updating what_net, where_net is freezed\n",
            "--------------------------------------------------------------------------------\n",
            "training epoch: [57 ] loss: 0.068 correct: 2998.000, total: 3000.000, accuracy: 0.999\n",
            "test epoch: [57 ] loss: 0.078 correct: 1998.000, total: 2000.000, accuracy: 0.999\n",
            "Accuracy on CIFAR10 0,1,2 classes is  68.33333333333333\n",
            "58 updating where_net, what_net is freezed\n",
            "--------------------------------------------------------------------------------\n",
            "training epoch: [58 ] loss: 0.068 correct: 2998.000, total: 3000.000, accuracy: 0.999\n",
            "test epoch: [58 ] loss: 0.079 correct: 1998.000, total: 2000.000, accuracy: 0.999\n",
            "Accuracy on CIFAR10 0,1,2 classes is  68.33333333333333\n",
            "59 updating what_net, where_net is freezed\n",
            "--------------------------------------------------------------------------------\n",
            "training epoch: [59 ] loss: 0.066 correct: 2993.000, total: 3000.000, accuracy: 0.998\n",
            "test epoch: [59 ] loss: 0.077 correct: 1990.000, total: 2000.000, accuracy: 0.995\n",
            "Accuracy on CIFAR10 0,1,2 classes is  70.33333333333334\n",
            "60 updating where_net, what_net is freezed\n",
            "--------------------------------------------------------------------------------\n",
            "training epoch: [60 ] loss: 0.066 correct: 2996.000, total: 3000.000, accuracy: 0.999\n",
            "test epoch: [60 ] loss: 0.077 correct: 1993.000, total: 2000.000, accuracy: 0.997\n",
            "Accuracy on CIFAR10 0,1,2 classes is  70.33333333333334\n",
            "61 updating what_net, where_net is freezed\n",
            "--------------------------------------------------------------------------------\n",
            "training epoch: [61 ] loss: 0.062 correct: 2998.000, total: 3000.000, accuracy: 0.999\n",
            "test epoch: [61 ] loss: 0.073 correct: 1997.000, total: 2000.000, accuracy: 0.999\n",
            "Accuracy on CIFAR10 0,1,2 classes is  71.0\n",
            "62 updating where_net, what_net is freezed\n",
            "--------------------------------------------------------------------------------\n",
            "training epoch: [62 ] loss: 0.062 correct: 2998.000, total: 3000.000, accuracy: 0.999\n",
            "test epoch: [62 ] loss: 0.073 correct: 1997.000, total: 2000.000, accuracy: 0.999\n",
            "Accuracy on CIFAR10 0,1,2 classes is  71.0\n",
            "63 updating what_net, where_net is freezed\n",
            "--------------------------------------------------------------------------------\n",
            "training epoch: [63 ] loss: 0.060 correct: 2998.000, total: 3000.000, accuracy: 0.999\n",
            "test epoch: [63 ] loss: 0.071 correct: 1998.000, total: 2000.000, accuracy: 0.999\n",
            "Accuracy on CIFAR10 0,1,2 classes is  72.46666666666667\n",
            "64 updating where_net, what_net is freezed\n",
            "--------------------------------------------------------------------------------\n",
            "training epoch: [64 ] loss: 0.060 correct: 2998.000, total: 3000.000, accuracy: 0.999\n",
            "test epoch: [64 ] loss: 0.071 correct: 1998.000, total: 2000.000, accuracy: 0.999\n",
            "Accuracy on CIFAR10 0,1,2 classes is  72.46666666666667\n",
            "65 updating what_net, where_net is freezed\n",
            "--------------------------------------------------------------------------------\n",
            "training epoch: [65 ] loss: 0.057 correct: 2998.000, total: 3000.000, accuracy: 0.999\n",
            "test epoch: [65 ] loss: 0.068 correct: 1998.000, total: 2000.000, accuracy: 0.999\n",
            "Accuracy on CIFAR10 0,1,2 classes is  72.66666666666667\n",
            "66 updating where_net, what_net is freezed\n",
            "--------------------------------------------------------------------------------\n",
            "training epoch: [66 ] loss: 0.057 correct: 2998.000, total: 3000.000, accuracy: 0.999\n",
            "test epoch: [66 ] loss: 0.067 correct: 1998.000, total: 2000.000, accuracy: 0.999\n",
            "Accuracy on CIFAR10 0,1,2 classes is  72.66666666666667\n",
            "67 updating what_net, where_net is freezed\n",
            "--------------------------------------------------------------------------------\n",
            "training epoch: [67 ] loss: 0.055 correct: 2998.000, total: 3000.000, accuracy: 0.999\n",
            "test epoch: [67 ] loss: 0.065 correct: 1997.000, total: 2000.000, accuracy: 0.999\n",
            "Accuracy on CIFAR10 0,1,2 classes is  74.73333333333333\n",
            "68 updating where_net, what_net is freezed\n",
            "--------------------------------------------------------------------------------\n",
            "training epoch: [68 ] loss: 0.055 correct: 2998.000, total: 3000.000, accuracy: 0.999\n",
            "test epoch: [68 ] loss: 0.065 correct: 1998.000, total: 2000.000, accuracy: 0.999\n",
            "Accuracy on CIFAR10 0,1,2 classes is  74.73333333333333\n",
            "69 updating what_net, where_net is freezed\n",
            "--------------------------------------------------------------------------------\n",
            "training epoch: [69 ] loss: 0.053 correct: 2998.000, total: 3000.000, accuracy: 0.999\n",
            "test epoch: [69 ] loss: 0.063 correct: 1998.000, total: 2000.000, accuracy: 0.999\n",
            "Accuracy on CIFAR10 0,1,2 classes is  77.60000000000001\n",
            "70 updating where_net, what_net is freezed\n",
            "--------------------------------------------------------------------------------\n",
            "training epoch: [70 ] loss: 0.053 correct: 2998.000, total: 3000.000, accuracy: 0.999\n",
            "test epoch: [70 ] loss: 0.062 correct: 1998.000, total: 2000.000, accuracy: 0.999\n",
            "Accuracy on CIFAR10 0,1,2 classes is  77.60000000000001\n",
            "71 updating what_net, where_net is freezed\n",
            "--------------------------------------------------------------------------------\n",
            "training epoch: [71 ] loss: 0.051 correct: 2998.000, total: 3000.000, accuracy: 0.999\n",
            "test epoch: [71 ] loss: 0.060 correct: 1998.000, total: 2000.000, accuracy: 0.999\n",
            "Accuracy on CIFAR10 0,1,2 classes is  79.66666666666666\n",
            "72 updating where_net, what_net is freezed\n",
            "--------------------------------------------------------------------------------\n",
            "training epoch: [72 ] loss: 0.051 correct: 2998.000, total: 3000.000, accuracy: 0.999\n",
            "test epoch: [72 ] loss: 0.059 correct: 1998.000, total: 2000.000, accuracy: 0.999\n",
            "Accuracy on CIFAR10 0,1,2 classes is  79.66666666666666\n",
            "73 updating what_net, where_net is freezed\n",
            "--------------------------------------------------------------------------------\n",
            "training epoch: [73 ] loss: 0.050 correct: 2997.000, total: 3000.000, accuracy: 0.999\n",
            "test epoch: [73 ] loss: 0.058 correct: 1997.000, total: 2000.000, accuracy: 0.999\n",
            "Accuracy on CIFAR10 0,1,2 classes is  78.8\n",
            "Finished Training run \n"
          ],
          "name": "stdout"
        }
      ]
    },
    {
      "cell_type": "code",
      "metadata": {
        "id": "dwRqaz3Wxc23",
        "colab": {
          "base_uri": "https://localhost:8080/",
          "height": 513
        },
        "outputId": "1512e8f4-1f72-4f38-c871-0d9a90e4f371"
      },
      "source": [
        "fig = plt.figure(figsize = (8,8)) \n",
        "vline_list = np.arange(every_what_epoch, epoch + every_what_epoch, every_what_epoch)\n",
        "# train_loss = np.random.randn(340)\n",
        "# test_loss = np.random.randn(340)\n",
        "epoch_list = np.arange(0, epoch+2)\n",
        "plt.plot(epoch_list,loss_curi_tr, label='train_loss')\n",
        "#plt.plot(epoch_list,loss_curi_tst, label='test_loss')\n",
        "\n",
        "plt.legend(loc='center left', bbox_to_anchor=(1, 0.5))\n",
        "plt.xlabel(\"epochs\")\n",
        "plt.ylabel(\"CE Loss\")\n",
        "#plt.vlines(vline_list,min(min(loss_curi_tr),min(loss_curi_tst)), max(max(loss_curi_tst),max(loss_curi_tr)),linestyles='dotted')\n",
        "plt.title(\"train loss\")\n",
        "plt.show()\n",
        "fig.savefig(\"train_loss_every_1_plot.pdf\")\n",
        "fig.savefig(\"train_loss_every_1_plot.png\")"
      ],
      "execution_count": 28,
      "outputs": [
        {
          "output_type": "display_data",
          "data": {
            "image/png": "[encoded data removed]",
            "text/plain": [
              "<Figure size 576x576 with 1 Axes>"
            ]
          },
          "metadata": {
            "tags": [],
            "needs_background": "light"
          }
        }
      ]
    },
    {
      "cell_type": "code",
      "metadata": {
        "id": "EZtPJ-rnRr-x",
        "colab": {
          "base_uri": "https://localhost:8080/"
        },
        "outputId": "6064fc5c-baff-4cc4-c95b-48efe26a5970"
      },
      "source": [
        "analysis_data_tr"
      ],
      "execution_count": 29,
      "outputs": [
        {
          "output_type": "execute_result",
          "data": {
            "text/plain": [
              "array([[ 162,  807, 1708,  323,  467, 2533],\n",
              "       [ 252,  758, 1618,  372,  467, 2533],\n",
              "       [ 301,  920, 1648,  131, 2229,  771],\n",
              "       [1297,  882,  652,  169, 2229,  771],\n",
              "       [1449,  882,  511,  158, 2419,  581],\n",
              "       [1553,  939,  407,  101, 2419,  581],\n",
              "       [1565,  958,  431,   46, 2372,  628],\n",
              "       [1614,  961,  382,   43, 2372,  628],\n",
              "       [1612,  970,  391,   27, 2366,  634],\n",
              "       [1680,  968,  323,   29, 2366,  634],\n",
              "       [1674,  966,  348,   12, 2403,  597],\n",
              "       [1678,  968,  344,   10, 2403,  597],\n",
              "       [1693,  964,  336,    7, 2410,  590],\n",
              "       [1705,  967,  324,    4, 2410,  590],\n",
              "       [1715,  967,  316,    2, 2454,  546],\n",
              "       [1824,  967,  207,    2, 2454,  546],\n",
              "       [1793,  978,  225,    4, 2493,  507],\n",
              "       [1846,  978,  172,    4, 2493,  507],\n",
              "       [1882,  973,  144,    1, 2484,  516],\n",
              "       [1923,  973,  103,    1, 2484,  516],\n",
              "       [1967,  965,   68,    0, 2457,  543],\n",
              "       [1861,  965,  174,    0, 2457,  543],\n",
              "       [1856,  970,  174,    0, 2472,  528],\n",
              "       [1967,  970,   63,    0, 2472,  528],\n",
              "       [1945,  973,   82,    0, 2507,  493],\n",
              "       [1956,  973,   71,    0, 2507,  493],\n",
              "       [1970,  973,   57,    0, 2497,  503],\n",
              "       [1850,  973,  177,    0, 2497,  503],\n",
              "       [1851,  976,  173,    0, 2473,  527],\n",
              "       [1950,  976,   74,    0, 2473,  527],\n",
              "       [1962,  972,   66,    0, 2501,  499],\n",
              "       [1945,  972,   83,    0, 2501,  499],\n",
              "       [1959,  972,   69,    0, 2479,  521],\n",
              "       [1974,  972,   54,    0, 2479,  521],\n",
              "       [1972,  972,   56,    0, 2498,  502],\n",
              "       [2013,  972,   15,    0, 2498,  502],\n",
              "       [2005,  976,   19,    0, 2556,  444],\n",
              "       [1973,  976,   51,    0, 2556,  444],\n",
              "       [1990,  972,   38,    0, 2552,  448],\n",
              "       [1976,  972,   52,    0, 2552,  448],\n",
              "       [1965,  978,   57,    0, 2523,  477],\n",
              "       [2007,  978,   15,    0, 2523,  477],\n",
              "       [2014,  973,   13,    0, 2568,  432],\n",
              "       [2012,  973,   15,    0, 2568,  432],\n",
              "       [2015,  973,   12,    0, 2566,  434],\n",
              "       [2016,  973,   11,    0, 2566,  434],\n",
              "       [2022,  973,    5,    0, 2538,  462],\n",
              "       [2016,  973,   11,    0, 2538,  462],\n",
              "       [2015,  976,    9,    0, 2457,  543],\n",
              "       [2020,  976,    4,    0, 2457,  543],\n",
              "       [2019,  976,    5,    0, 2508,  492],\n",
              "       [2019,  976,    5,    0, 2508,  492],\n",
              "       [2019,  976,    5,    0, 2516,  484],\n",
              "       [2019,  976,    5,    0, 2516,  484],\n",
              "       [2019,  976,    5,    0, 2512,  488],\n",
              "       [2022,  976,    2,    0, 2512,  488],\n",
              "       [2022,  976,    2,    0, 2570,  430],\n",
              "       [2022,  976,    2,    0, 2570,  430],\n",
              "       [2023,  975,    2,    0, 2570,  430],\n",
              "       [2018,  975,    7,    0, 2570,  430],\n",
              "       [2021,  975,    4,    0, 2543,  457],\n",
              "       [2023,  975,    2,    0, 2543,  457],\n",
              "       [2023,  975,    2,    0, 2560,  440],\n",
              "       [2023,  975,    2,    0, 2560,  440],\n",
              "       [2025,  973,    2,    0, 2575,  425],\n",
              "       [2025,  973,    2,    0, 2575,  425],\n",
              "       [2025,  973,    2,    0, 2585,  415],\n",
              "       [2025,  973,    2,    0, 2585,  415],\n",
              "       [2025,  973,    2,    0, 2580,  420],\n",
              "       [2025,  973,    2,    0, 2580,  420],\n",
              "       [2024,  974,    2,    0, 2589,  411],\n",
              "       [2024,  974,    2,    0, 2589,  411],\n",
              "       [2023,  975,    2,    0, 2623,  377],\n",
              "       [2022,  975,    3,    0, 2623,  377]])"
            ]
          },
          "metadata": {
            "tags": []
          },
          "execution_count": 29
        }
      ]
    },
    {
      "cell_type": "code",
      "metadata": {
        "colab": {
          "base_uri": "https://localhost:8080/"
        },
        "id": "RQ3OzJlOOyY8",
        "outputId": "e8a0df83-a24c-476b-fe14-ea449e110cde"
      },
      "source": [
        "analysis_data_tst"
      ],
      "execution_count": 30,
      "outputs": [
        {
          "output_type": "execute_result",
          "data": {
            "text/plain": [
              "array([[ 101,  544, 1101,  254,  284, 1716],\n",
              "       [ 156,  518, 1046,  280,  284, 1716],\n",
              "       [ 175,  601, 1138,   86, 1481,  519],\n",
              "       [ 811,  592,  502,   95, 1481,  519],\n",
              "       [ 931,  594,  389,   86, 1624,  376],\n",
              "       [ 992,  627,  328,   53, 1624,  376],\n",
              "       [1017,  641,  320,   22, 1609,  391],\n",
              "       [1043,  647,  294,   16, 1609,  391],\n",
              "       [1047,  652,  290,   11, 1617,  383],\n",
              "       [1094,  651,  243,   12, 1617,  383],\n",
              "       [1085,  650,  262,    3, 1620,  380],\n",
              "       [1097,  650,  250,    3, 1620,  380],\n",
              "       [1105,  651,  242,    2, 1630,  370],\n",
              "       [1132,  651,  215,    2, 1630,  370],\n",
              "       [1137,  649,  213,    1, 1653,  347],\n",
              "       [1195,  649,  155,    1, 1653,  347],\n",
              "       [1180,  654,  165,    1, 1680,  320],\n",
              "       [1213,  654,  132,    1, 1680,  320],\n",
              "       [1241,  651,  107,    1, 1677,  323],\n",
              "       [1273,  651,   75,    1, 1677,  323],\n",
              "       [1299,  645,   56,    0, 1654,  346],\n",
              "       [1224,  645,  131,    0, 1654,  346],\n",
              "       [1222,  647,  131,    0, 1669,  331],\n",
              "       [1301,  647,   52,    0, 1669,  331],\n",
              "       [1291,  651,   58,    0, 1695,  305],\n",
              "       [1298,  651,   51,    0, 1695,  305],\n",
              "       [1307,  648,   45,    0, 1693,  307],\n",
              "       [1221,  648,  131,    0, 1693,  307],\n",
              "       [1217,  656,  127,    0, 1673,  327],\n",
              "       [1294,  656,   50,    0, 1673,  327],\n",
              "       [1300,  648,   52,    0, 1691,  309],\n",
              "       [1292,  648,   60,    0, 1691,  309],\n",
              "       [1295,  649,   56,    0, 1673,  327],\n",
              "       [1305,  649,   46,    0, 1673,  327],\n",
              "       [1303,  650,   47,    0, 1689,  311],\n",
              "       [1336,  650,   14,    0, 1689,  311],\n",
              "       [1325,  655,   19,    1, 1714,  286],\n",
              "       [1308,  655,   36,    1, 1714,  286],\n",
              "       [1317,  651,   32,    0, 1711,  289],\n",
              "       [1309,  651,   40,    0, 1711,  289],\n",
              "       [1303,  657,   40,    0, 1701,  299],\n",
              "       [1328,  657,   15,    0, 1701,  299],\n",
              "       [1331,  655,   14,    0, 1725,  275],\n",
              "       [1329,  655,   16,    0, 1725,  275],\n",
              "       [1330,  654,   16,    0, 1726,  274],\n",
              "       [1335,  654,   11,    0, 1726,  274],\n",
              "       [1340,  654,    6,    0, 1713,  287],\n",
              "       [1330,  654,   16,    0, 1713,  287],\n",
              "       [1333,  656,   11,    0, 1660,  340],\n",
              "       [1340,  656,    4,    0, 1660,  340],\n",
              "       [1336,  655,    9,    0, 1711,  289],\n",
              "       [1334,  655,   11,    0, 1711,  289],\n",
              "       [1337,  655,    8,    0, 1712,  288],\n",
              "       [1336,  655,    9,    0, 1712,  288],\n",
              "       [1338,  655,    7,    0, 1707,  293],\n",
              "       [1343,  655,    2,    0, 1707,  293],\n",
              "       [1342,  656,    2,    0, 1739,  261],\n",
              "       [1342,  656,    2,    0, 1739,  261],\n",
              "       [1343,  655,    2,    0, 1738,  262],\n",
              "       [1335,  655,   10,    0, 1738,  262],\n",
              "       [1338,  655,    7,    0, 1723,  277],\n",
              "       [1342,  655,    3,    0, 1723,  277],\n",
              "       [1341,  656,    3,    0, 1731,  269],\n",
              "       [1342,  656,    2,    0, 1731,  269],\n",
              "       [1343,  655,    2,    0, 1739,  261],\n",
              "       [1343,  655,    2,    0, 1739,  261],\n",
              "       [1342,  656,    2,    0, 1751,  249],\n",
              "       [1341,  656,    3,    0, 1751,  249],\n",
              "       [1343,  655,    2,    0, 1743,  257],\n",
              "       [1343,  655,    2,    0, 1743,  257],\n",
              "       [1343,  655,    2,    0, 1749,  251],\n",
              "       [1343,  655,    2,    0, 1749,  251],\n",
              "       [1343,  655,    2,    0, 1776,  224],\n",
              "       [1342,  655,    3,    0, 1776,  224]])"
            ]
          },
          "metadata": {
            "tags": []
          },
          "execution_count": 30
        }
      ]
    },
    {
      "cell_type": "code",
      "metadata": {
        "id": "GR7i12R_QymL"
      },
      "source": [
        "columns = [\"epochs\", \"argmax > 0.5\" ,\"argmax < 0.5\", \"focus_true_pred_true\", \"focus_false_pred_true\", \"focus_true_pred_false\", \"focus_false_pred_false\" ]\n",
        "df_train = pd.DataFrame()\n",
        "df_test = pd.DataFrame()\n",
        "df_train[columns[0]] = np.arange(0,epoch+2)\n",
        "df_train[columns[1]] = analysis_data_tr[:,-2]\n",
        "df_train[columns[2]] = analysis_data_tr[:,-1]\n",
        "df_train[columns[3]] = analysis_data_tr[:,0]/30\n",
        "df_train[columns[4]] = analysis_data_tr[:,1]/30\n",
        "df_train[columns[5]] = analysis_data_tr[:,2]/30\n",
        "df_train[columns[6]] = analysis_data_tr[:,3]/30\n",
        "\n",
        "df_test[columns[0]] = np.arange(0,epoch+2)\n",
        "df_test[columns[1]] = analysis_data_tst[:,-2]\n",
        "df_test[columns[2]] = analysis_data_tst[:,-1]\n",
        "df_test[columns[3]] = analysis_data_tst[:,0]/20\n",
        "df_test[columns[4]] = analysis_data_tst[:,1]/20\n",
        "df_test[columns[5]] = analysis_data_tst[:,2]/20\n",
        "df_test[columns[6]] = analysis_data_tst[:,3]/20"
      ],
      "execution_count": 31,
      "outputs": []
    },
    {
      "cell_type": "code",
      "metadata": {
        "id": "gYIlDhfYSg4y",
        "colab": {
          "base_uri": "https://localhost:8080/",
          "height": 404
        },
        "outputId": "98cef0dd-f2c9-46b7-e82d-4602f2e0c060"
      },
      "source": [
        "# plt.figure(figsize=(12,12))\n",
        "# plt.plot(df_train[columns[0]],df_train[columns[1]], label='argmax > 0.5')\n",
        "# plt.plot(df_train[columns[0]],df_train[columns[2]], label='argmax < 0.5')\n",
        "\n",
        "# plt.legend(loc='center left', bbox_to_anchor=(1, 0.5))\n",
        "# plt.xlabel(\"epochs\")\n",
        "# plt.ylabel(\"training data\")\n",
        "# plt.title(\"On Training set\")\n",
        "# #plt.vlines(vline_list,min(min(df_train[columns[1]]),min(df_train[columns[2]])), max(max(df_train[columns[1]]),max(df_train[columns[2]])),linestyles='dotted')\n",
        "# plt.show()\n",
        "\n",
        "fig=plt.figure(figsize=(8,6))\n",
        "plt.plot(df_train[columns[0]],df_train[columns[3]], label =\"focus_true_pred_true \")\n",
        "plt.plot(df_train[columns[0]],df_train[columns[4]], label =\"focus_false_pred_true \")\n",
        "plt.plot(df_train[columns[0]],df_train[columns[5]], label =\"focus_true_pred_false \")\n",
        "plt.plot(df_train[columns[0]],df_train[columns[6]], label =\"focus_false_pred_false \")\n",
        "plt.title(\"On Train set\")\n",
        "plt.legend(loc='center left', bbox_to_anchor=(1, 0.5))\n",
        "plt.xlabel(\"epochs\")\n",
        "plt.ylabel(\"training data\")\n",
        "#plt.vlines(vline_list,min(min(df_train[columns[3]]),min(df_train[columns[4]]),min(df_train[columns[5]]),min(df_train[columns[6]])), max(max(df_train[columns[3]]),max(df_train[columns[4]]),max(df_train[columns[5]]),max(df_train[columns[6]])),linestyles='dotted')\n",
        "plt.show()\n",
        "fig.savefig(\"train_analysis_every_1.pdf\")\n",
        "fig.savefig(\"train_analysis_every_1.png\")"
      ],
      "execution_count": 32,
      "outputs": [
        {
          "output_type": "display_data",
          "data": {
            "image/png": "[encoded data removed]",
            "text/plain": [
              "<Figure size 576x432 with 1 Axes>"
            ]
          },
          "metadata": {
            "tags": [],
            "needs_background": "light"
          }
        }
      ]
    },
    {
      "cell_type": "code",
      "metadata": {
        "id": "UPvuau_Id_Fi",
        "colab": {
          "base_uri": "https://localhost:8080/",
          "height": 404
        },
        "outputId": "74ae827f-8326-4be3-c668-68b79814d7b2"
      },
      "source": [
        "# plt.figure(figsize=(12,12))\n",
        "# plt.plot(df_test[columns[0]],df_test[columns[1]], label='argmax > 0.5')\n",
        "# plt.plot(df_test[columns[0]],df_test[columns[2]], label='argmax < 0.5')\n",
        "\n",
        "# plt.legend(loc='center left', bbox_to_anchor=(1, 0.5))\n",
        "# plt.xlabel(\"epochs\")\n",
        "# plt.ylabel(\"test data\")\n",
        "# plt.title(\"On Testing set\")\n",
        "# #plt.vlines(vline_list,min(min(df_test[columns[1]]),min(df_test[columns[2]])), max(max(df_test[columns[1]]),max(df_test[columns[2]])),linestyles='dotted')\n",
        "# plt.show()\n",
        "\n",
        "fig=plt.figure(figsize=(8,6))\n",
        "plt.plot(df_test[columns[0]],df_test[columns[3]], label =\"focus_true_pred_true \")\n",
        "plt.plot(df_test[columns[0]],df_test[columns[4]], label =\"focus_false_pred_true \")\n",
        "plt.plot(df_test[columns[0]],df_test[columns[5]], label =\"focus_true_pred_false \")\n",
        "plt.plot(df_test[columns[0]],df_test[columns[6]], label =\"focus_false_pred_false \")\n",
        "plt.title(\"On Test set\")\n",
        "plt.legend(loc='center left', bbox_to_anchor=(1, 0.5))\n",
        "plt.xlabel(\"epochs\")\n",
        "plt.ylabel(\"testing data\")\n",
        "#plt.vlines(vline_list,min(min(df_test[columns[3]]),min(df_test[columns[4]]),min(df_test[columns[5]]),min(df_test[columns[6]])), max(max(df_test[columns[3]]),max(df_test[columns[4]]),max(df_test[columns[5]]),max(df_test[columns[6]])),linestyles='dotted')\n",
        "plt.show()\n",
        "fig.savefig(\"test_analysis_every_1.pdf\")\n",
        "fig.savefig(\"test_analysis_every_1.png\")"
      ],
      "execution_count": 33,
      "outputs": [
        {
          "output_type": "display_data",
          "data": {
            "image/png": "[encoded data removed]",
            "text/plain": [
              "<Figure size 576x432 with 1 Axes>"
            ]
          },
          "metadata": {
            "tags": [],
            "needs_background": "light"
          }
        }
      ]
    },
    {
      "cell_type": "code",
      "metadata": {
        "id": "hGgOLQseShsw",
        "colab": {
          "base_uri": "https://localhost:8080/",
          "height": 513
        },
        "outputId": "084b7085-a308-4c60-f980-809324cab2eb"
      },
      "source": [
        "fig = plt.figure(figsize = (8,8)) \n",
        "vline_list = np.arange(every_what_epoch, epoch + every_what_epoch, every_what_epoch)\n",
        "# train_loss = np.random.randn(340)\n",
        "# test_loss = np.random.randn(340)\n",
        "epoch_list = np.arange(0, epoch+1)\n",
        "plt.plot(epoch_list, blob_classify_acc , label='blob_classify_acc')\n",
        "#plt.plot(epoch_list,loss_curi_tst, label='test_loss')\n",
        "\n",
        "# plt.legend(loc='center left', bbox_to_anchor=(1, 0.5))\n",
        "plt.legend()\n",
        "plt.xlabel(\"epochs\")\n",
        "plt.ylabel(\"accuracy\")\n",
        "#plt.vlines(vline_list,min(min(loss_curi_tr),min(loss_curi_tst)), max(max(loss_curi_tst),max(loss_curi_tr)),linestyles='dotted')\n",
        "plt.title(\"blob 3 class classify accuracy\")\n",
        "plt.show()\n",
        "fig.savefig(\"blob_classify_acc_every_1_plot.pdf\")\n",
        "fig.savefig(\"blob_classify_acc_every_1_plot.png\")"
      ],
      "execution_count": 34,
      "outputs": [
        {
          "output_type": "display_data",
          "data": {
            "image/png": "[encoded data removed]",
            "text/plain": [
              "<Figure size 576x576 with 1 Axes>"
            ]
          },
          "metadata": {
            "tags": [],
            "needs_background": "light"
          }
        }
      ]
    },
    {
      "cell_type": "code",
      "metadata": {
        "id": "yanNSw3vO7j4"
      },
      "source": [
        ""
      ],
      "execution_count": 34,
      "outputs": []
    }
  ]
}