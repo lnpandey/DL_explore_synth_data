{
  "nbformat": 4,
  "nbformat_minor": 0,
  "metadata": {
    "accelerator": "GPU",
    "colab": {
      "name": "where_what_blob_data_every_20.ipynb",
      "provenance": [],
      "collapsed_sections": [
        "H0VVjc9qFqf_"
      ],
      "toc_visible": true
    },
    "kernelspec": {
      "display_name": "Python 3",
      "name": "python3"
    }
  },
  "cells": [
    {
      "cell_type": "code",
      "metadata": {
        "id": "VAYu3ISwwGks"
      },
      "source": [
        "import numpy as np\n",
        "import pandas as pd\n",
        "\n",
        "import torch\n",
        "import torchvision\n",
        "from torch.utils.data import Dataset, DataLoader\n",
        "from torchvision import transforms, utils\n",
        "import torch.nn as nn\n",
        "import torch.nn.functional as F\n",
        "import torch.optim as optim\n",
        "\n",
        "from matplotlib import pyplot as plt\n",
        "%matplotlib inline"
      ],
      "execution_count": 1,
      "outputs": []
    },
    {
      "cell_type": "markdown",
      "metadata": {
        "id": "H0VVjc9qFqf_"
      },
      "source": [
        "# Create blob Train and Test data"
      ]
    },
    {
      "cell_type": "code",
      "metadata": {
        "id": "mpdNNb8wFp56"
      },
      "source": [
        "# mu1 = np.array([3,3,3,3,0])\n",
        "# sigma1 = np.array([[1,1,1,1,1],[1,16,1,1,1],[1,1,1,1,1],[1,1,1,1,1],[1,1,1,1,1]])\n",
        "\n",
        "# mu2 = np.array([4,4,4,4,0])\n",
        "# sigma2 = np.array([[16,1,1,1,1],[1,1,1,1,1],[1,1,1,1,1],[1,1,1,1,1],[1,1,1,1,1]])\n",
        "\n",
        "# mu3 = np.array([10,5,5,10,0])\n",
        "# sigma3 = np.array([[1,1,1,1,1],[1,16,1,1,1],[1,1,1,1,1],[1,1,1,1,1],[1,1,1,1,1]])\n",
        "\n",
        "# mu4 = np.array([-10,-10,-10,-10,0])\n",
        "# sigma4 = np.array([[1,1,1,1,1],[1,16,1,1,1],[1,1,1,1,1],[1,1,1,1,1],[1,1,1,1,1]])\n",
        "\n",
        "# mu5 = np.array([-21,4,4,-21,0])\n",
        "# sigma5 = np.array([[16,1,1,1,1],[1,1,1,1,1],[1,1,1,1,1],[1,1,1,1,1],[1,1,1,1,1]])\n",
        "\n",
        "# mu6 = np.array([-10,18,18,-10,0])\n",
        "# sigma6 = np.array([[1,1,1,1,1],[1,16,1,1,1],[1,1,1,1,1],[1,1,1,1,1],[1,1,1,1,1]])\n",
        "\n",
        "# mu7 = np.array([4,20,4,20,0])\n",
        "# sigma7 = np.array([[16,1,1,1,1],[1,1,1,1,1],[1,1,1,1,1],[1,1,1,1,1],[1,1,1,1,1]])\n",
        "\n",
        "# mu8 = np.array([4,-20,-20,4,0])\n",
        "# sigma8 = np.array([[16,1,1,1,1],[1,1,1,1,1],[1,1,1,1,1],[1,1,1,1,1],[1,1,1,1,1]])\n",
        "\n",
        "# mu9 = np.array([20,20,20,20,0])\n",
        "# sigma9 = np.array([[1,1,1,1,1],[1,16,1,1,1],[1,1,1,1,1],[1,1,1,1,1],[1,1,1,1,1]])\n",
        "\n",
        "# mu10 = np.array([20,-10,-10,20,0])\n",
        "# sigma10 = np.array([[1,1,1,1,1],[1,16,1,1,1],[1,1,1,1,1],[1,1,1,1,1],[1,1,1,1,1]])\n",
        "\n",
        "\n",
        "\n",
        "# sample1 = np.random.multivariate_normal(mean=mu1,cov= sigma1,size=500)\n",
        "# sample2 = np.random.multivariate_normal(mean=mu2,cov= sigma2,size=500)\n",
        "# sample3 = np.random.multivariate_normal(mean=mu3,cov= sigma3,size=500)\n",
        "# sample4 = np.random.multivariate_normal(mean=mu4,cov= sigma4,size=500)\n",
        "# sample5 = np.random.multivariate_normal(mean=mu5,cov= sigma5,size=500)\n",
        "# sample6 = np.random.multivariate_normal(mean=mu6,cov= sigma6,size=500)\n",
        "# sample7 = np.random.multivariate_normal(mean=mu7,cov= sigma7,size=500)\n",
        "# sample8 = np.random.multivariate_normal(mean=mu8,cov= sigma8,size=500)\n",
        "# sample9 = np.random.multivariate_normal(mean=mu9,cov= sigma9,size=500)\n",
        "# sample10 = np.random.multivariate_normal(mean=mu10,cov= sigma10,size=500)"
      ],
      "execution_count": 2,
      "outputs": []
    },
    {
      "cell_type": "code",
      "metadata": {
        "id": "GVwzqqNxFwzN"
      },
      "source": [
        "# X = np.concatenate((sample1,sample2,sample3,sample4,sample5,sample6,sample7,sample8,sample9,sample10),axis=0)\n",
        "# Y = np.concatenate((np.zeros((500,1)),np.ones((500,1)),2*np.ones((500,1)),3*np.ones((500,1)),4*np.ones((500,1)),\n",
        "#                     5*np.ones((500,1)),6*np.ones((500,1)),7*np.ones((500,1)),8*np.ones((500,1)),9*np.ones((500,1))),axis=0).astype(int)\n",
        "# print(X.shape,Y.shape)\n",
        "# plt.scatter(sample1[:,0],sample1[:,1],label=\"class_0\")\n",
        "# plt.scatter(sample2[:,0],sample2[:,1],label=\"class_1\")\n",
        "# plt.scatter(sample3[:,0],sample3[:,1],label=\"class_2\")\n",
        "# plt.scatter(sample4[:,0],sample4[:,1],label=\"class_3\")\n",
        "# plt.scatter(sample5[:,0],sample5[:,1],label=\"class_4\")\n",
        "# plt.scatter(sample6[:,0],sample6[:,1],label=\"class_5\")\n",
        "# plt.scatter(sample7[:,0],sample7[:,1],label=\"class_6\")\n",
        "# plt.scatter(sample8[:,0],sample8[:,1],label=\"class_7\")\n",
        "# plt.scatter(sample9[:,0],sample9[:,1],label=\"class_8\")\n",
        "# plt.scatter(sample10[:,0],sample10[:,1],label=\"class_9\")\n",
        "# plt.legend(bbox_to_anchor=(1.05, 1), loc='upper left')"
      ],
      "execution_count": 3,
      "outputs": []
    },
    {
      "cell_type": "code",
      "metadata": {
        "id": "kdLONe1TFwcv"
      },
      "source": [
        "# class SyntheticDataset(Dataset):\n",
        "#   \"\"\"MosaicDataset dataset.\"\"\"\n",
        "\n",
        "#   def __init__(self, x, y):\n",
        "#     \"\"\"\n",
        "#       Args:\n",
        "#         csv_file (string): Path to the csv file with annotations.\n",
        "#         root_dir (string): Directory with all the images.\n",
        "#         transform (callable, optional): Optional transform to be applied\n",
        "#             on a sample.\n",
        "#     \"\"\"\n",
        "#     self.x = x\n",
        "#     self.y = y\n",
        "#     #self.fore_idx = fore_idx\n",
        "    \n",
        "#   def __len__(self):\n",
        "#     return len(self.y)\n",
        "\n",
        "#   def __getitem__(self, idx):\n",
        "#     return self.x[idx] , self.y[idx] #, self.fore_idx[idx]"
      ],
      "execution_count": 4,
      "outputs": []
    },
    {
      "cell_type": "code",
      "metadata": {
        "id": "am81Wr7lFwTn"
      },
      "source": [
        "# trainset = SyntheticDataset(X,Y)\n",
        "# trainloader = torch.utils.data.DataLoader(trainset, batch_size=100, shuffle=True)\n",
        "# classes = ('zero','one','two','three','four','five','six','seven','eight','nine')\n",
        "\n",
        "# foreground_classes = {'zero','one','two'}\n",
        "# fg_used = '012'\n",
        "# fg1, fg2, fg3 = 0,1,2\n",
        "\n",
        "\n",
        "# all_classes = {'zero','one','two','three','four','five','six','seven','eight','nine'}\n",
        "# background_classes = all_classes - foreground_classes\n",
        "# background_classes"
      ],
      "execution_count": 5,
      "outputs": []
    },
    {
      "cell_type": "code",
      "metadata": {
        "id": "_lopYyy7G--q"
      },
      "source": [
        "# dataiter = iter(trainloader)\n",
        "# background_data=[]\n",
        "# background_label=[]\n",
        "# foreground_data=[]\n",
        "# foreground_label=[]\n",
        "# batch_size=100\n",
        "\n",
        "# for i in range(50):\n",
        "#   images, labels = dataiter.next()\n",
        "#   for j in range(batch_size):\n",
        "#     if(classes[labels[j]] in background_classes):\n",
        "#       img = images[j].tolist()\n",
        "#       background_data.append(img)\n",
        "#       background_label.append(labels[j])\n",
        "#     else:\n",
        "#       img = images[j].tolist()\n",
        "#       foreground_data.append(img)\n",
        "#       foreground_label.append(labels[j])\n",
        "            \n",
        "# foreground_data = torch.tensor(foreground_data)\n",
        "# foreground_label = torch.tensor(foreground_label)\n",
        "# background_data = torch.tensor(background_data)\n",
        "# background_label = torch.tensor(background_label)"
      ],
      "execution_count": 6,
      "outputs": []
    },
    {
      "cell_type": "code",
      "metadata": {
        "id": "JnT8fc5DMAa0"
      },
      "source": [
        "# def create_mosaic_img(bg_idx,fg_idx,fg): \n",
        "#   \"\"\"\n",
        "#   bg_idx : list of indexes of background_data[] to be used as background images in mosaic\n",
        "#   fg_idx : index of image to be used as foreground image from foreground data\n",
        "#   fg : at what position/index foreground image has to be stored out of 0-8\n",
        "#   \"\"\"\n",
        "#   image_list=[]\n",
        "#   j=0\n",
        "#   for i in range(9):\n",
        "#     if i != fg:\n",
        "#       image_list.append(background_data[bg_idx[j]])\n",
        "#       j+=1\n",
        "#     else: \n",
        "#       image_list.append(foreground_data[fg_idx])\n",
        "#       label = foreground_label[fg_idx] - fg1  # minus fg1 because our fore ground classes are fg1,fg2,fg3 but we have to store it as 0,1,2\n",
        "#   #image_list = np.concatenate(image_list ,axis=0)\n",
        "#   image_list = torch.stack(image_list) \n",
        "#   return image_list,label"
      ],
      "execution_count": 7,
      "outputs": []
    },
    {
      "cell_type": "code",
      "metadata": {
        "id": "kd4r_sXhMDCu"
      },
      "source": [
        "# # number of data points in bg class and fg class\n",
        "# nbg = 500*7\n",
        "# nfg   = 500*3\n",
        "\n",
        "# print(nbg, nfg, nbg+nfg)"
      ],
      "execution_count": 8,
      "outputs": []
    },
    {
      "cell_type": "code",
      "metadata": {
        "id": "2zq2xQCBMC7j"
      },
      "source": [
        "# desired_num = 3000\n",
        "# mosaic_list_of_images =[]      # list of mosaic images, each mosaic image is saved as list of 9 images\n",
        "# fore_idx =[]                   # list of indexes at which foreground image is present in a mosaic image i.e from 0 to 9               \n",
        "# mosaic_label=[]                # label of mosaic image = foreground class present in that mosaic\n",
        "# list_set_labels = [] \n",
        "# for i in range(desired_num):\n",
        "#   set_idx = set()\n",
        "#   np.random.seed(i)\n",
        "#   bg_idx = np.random.randint(0,nbg,8)\n",
        "#   set_idx = set(background_label[bg_idx].tolist())\n",
        "#   fg_idx = np.random.randint(0,nfg)\n",
        "#   set_idx.add(foreground_label[fg_idx].item())\n",
        "#   fg = np.random.randint(0,9)\n",
        "#   fore_idx.append(fg)\n",
        "#   image_list,label = create_mosaic_img(bg_idx,fg_idx,fg)\n",
        "#   mosaic_list_of_images.append(image_list)\n",
        "#   mosaic_label.append(label)\n",
        "#   list_set_labels.append(set_idx)\n"
      ],
      "execution_count": 9,
      "outputs": []
    },
    {
      "cell_type": "code",
      "metadata": {
        "id": "8pqXIPlNMCyz"
      },
      "source": [
        "# desired_num = 2000\n",
        "# test_mosaic_list_of_images =[]      # list of mosaic images, each mosaic image is saved as list of 9 images\n",
        "# test_fore_idx =[]                   # list of indexes at which foreground image is present in a mosaic image i.e from 0 to 9               \n",
        "# test_mosaic_label=[]                # label of mosaic image = foreground class present in that mosaic\n",
        "# test_list_set_labels = [] \n",
        "# for i in range(desired_num):\n",
        "#   set_idx = set()\n",
        "#   np.random.seed(i+3000)\n",
        "#   bg_idx = np.random.randint(0,nbg,8)\n",
        "#   set_idx = set(background_label[bg_idx].tolist())\n",
        "#   fg_idx = np.random.randint(0,nfg)\n",
        "#   set_idx.add(foreground_label[fg_idx].item())\n",
        "#   fg = np.random.randint(0,9)\n",
        "#   test_fore_idx.append(fg)\n",
        "#   test_image_list,test_label = create_mosaic_img(bg_idx,fg_idx,fg)\n",
        "#   test_mosaic_list_of_images.append(test_image_list)\n",
        "#   test_mosaic_label.append(test_label)\n",
        "#   test_list_set_labels.append(set_idx)\n"
      ],
      "execution_count": 10,
      "outputs": []
    },
    {
      "cell_type": "code",
      "metadata": {
        "id": "Sxq58WbtMmKq"
      },
      "source": [
        "# data =  [{\"mosaic_list\":mosaic_list_of_images, \"mosaic_label\": mosaic_label, \"fore_idx\":fore_idx}]\n",
        "# np.save(\"train_blob_data.npy\",data)"
      ],
      "execution_count": 11,
      "outputs": []
    },
    {
      "cell_type": "code",
      "metadata": {
        "id": "hNnqO6yKMCoR"
      },
      "source": [
        "# data =  [{\"mosaic_list\":test_mosaic_list_of_images, \"mosaic_label\": test_mosaic_label, \"fore_idx\":test_fore_idx}]\n",
        "# np.save(\"test_blob_data.npy\",data)"
      ],
      "execution_count": 12,
      "outputs": []
    },
    {
      "cell_type": "code",
      "metadata": {
        "id": "DSZpS3F5Jnhz"
      },
      "source": [
        "# data = [{\"X\":X,\"Y\":Y}]\n",
        "# np.save(\"blob_data.npy\",data)"
      ],
      "execution_count": 13,
      "outputs": []
    },
    {
      "cell_type": "markdown",
      "metadata": {
        "id": "y4ZKaqzq_vcD"
      },
      "source": [
        "# load mosaic data"
      ]
    },
    {
      "cell_type": "code",
      "metadata": {
        "id": "6_dZKEaJAQ2Y"
      },
      "source": [
        "class MosaicDataset1(Dataset):\n",
        "  \"\"\"MosaicDataset dataset.\"\"\"\n",
        "\n",
        "  def __init__(self, mosaic_list, mosaic_label,fore_idx):\n",
        "    \"\"\"\n",
        "      Args:\n",
        "        csv_file (string): Path to the csv file with annotations.\n",
        "        root_dir (string): Directory with all the images.\n",
        "        transform (callable, optional): Optional transform to be applied\n",
        "            on a sample.\n",
        "    \"\"\"\n",
        "    self.mosaic = mosaic_list\n",
        "    self.label = mosaic_label\n",
        "    self.fore_idx = fore_idx\n",
        "    \n",
        "  def __len__(self):\n",
        "    return len(self.label)\n",
        "\n",
        "  def __getitem__(self, idx):\n",
        "    return self.mosaic[idx] , self.label[idx] , self.fore_idx[idx]"
      ],
      "execution_count": 14,
      "outputs": []
    },
    {
      "cell_type": "code",
      "metadata": {
        "id": "9tn26Ne1KXs4"
      },
      "source": [
        "class SyntheticDataset(Dataset):\n",
        "  \"\"\"MosaicDataset dataset.\"\"\"\n",
        "\n",
        "  def __init__(self, x, y):\n",
        "    \"\"\"\n",
        "      Args:\n",
        "        csv_file (string): Path to the csv file with annotations.\n",
        "        root_dir (string): Directory with all the images.\n",
        "        transform (callable, optional): Optional transform to be applied\n",
        "            on a sample.\n",
        "    \"\"\"\n",
        "    self.x = x\n",
        "    self.y = y\n",
        "    #self.fore_idx = fore_idx\n",
        "    \n",
        "  def __len__(self):\n",
        "    return len(self.y)\n",
        "\n",
        "  def __getitem__(self, idx):\n",
        "    return self.x[idx] , self.y[idx] #, self.fore_idx[idx]"
      ],
      "execution_count": 15,
      "outputs": []
    },
    {
      "cell_type": "code",
      "metadata": {
        "id": "UWxCb_h8AQpf"
      },
      "source": [
        "train_data = np.load(\"train_blob_data.npy\",allow_pickle=True)\n",
        "test_data = np.load(\"test_blob_data.npy\",allow_pickle=True)\n",
        "data = np.load(\"blob_data.npy\",allow_pickle=True)"
      ],
      "execution_count": 16,
      "outputs": []
    },
    {
      "cell_type": "code",
      "metadata": {
        "id": "WR0bl63TAQI9"
      },
      "source": [
        "train_mosaic_list_of_images = train_data[0][\"mosaic_list\"]\n",
        "train_mosaic_label = train_data[0][\"mosaic_label\"]\n",
        "train_fore_idx = train_data[0][\"fore_idx\"]\n",
        "\n",
        "\n",
        "test_mosaic_list_of_images = test_data[0][\"mosaic_list\"]\n",
        "test_mosaic_label = test_data[0][\"mosaic_label\"]\n",
        "test_fore_idx = test_data[0][\"fore_idx\"]\n",
        "X = data[0][\"X\"]\n",
        "Y = data[0][\"Y\"]"
      ],
      "execution_count": 17,
      "outputs": []
    },
    {
      "cell_type": "code",
      "metadata": {
        "id": "GVS6xb4fAZ_P"
      },
      "source": [
        "batch = 250\n",
        "tr_msd = MosaicDataset1(train_mosaic_list_of_images, train_mosaic_label, train_fore_idx)\n",
        "train_loader = DataLoader( tr_msd,batch_size= batch ,shuffle=True)"
      ],
      "execution_count": 18,
      "outputs": []
    },
    {
      "cell_type": "code",
      "metadata": {
        "id": "Mn1Xql2gNrUH"
      },
      "source": [
        "batch = 250\n",
        "tst_msd = MosaicDataset1(test_mosaic_list_of_images, test_mosaic_label, test_fore_idx)\n",
        "test_loader = DataLoader( tst_msd,batch_size= batch ,shuffle=True)"
      ],
      "execution_count": 19,
      "outputs": []
    },
    {
      "cell_type": "code",
      "metadata": {
        "id": "hQNLGobaKa2s"
      },
      "source": [
        "dset = SyntheticDataset(X,Y)\n",
        "dtloader = DataLoader(dset,batch_size =batch,shuffle=True )"
      ],
      "execution_count": 20,
      "outputs": []
    },
    {
      "cell_type": "markdown",
      "metadata": {
        "id": "ARLPPASQ_2gB"
      },
      "source": [
        "# models"
      ]
    },
    {
      "cell_type": "code",
      "metadata": {
        "id": "T1Y0mCQzjSV0"
      },
      "source": [
        "class Module1(nn.Module):\n",
        "  def __init__(self):\n",
        "    super(Module1, self).__init__()\n",
        "    self.fc1 = nn.Linear(5, 100)\n",
        "    self.fc2 = nn.Linear(100, 1)\n",
        "\n",
        "  def forward(self, z):\n",
        "    x = torch.zeros([batch,9],dtype=torch.float64)\n",
        "    y = torch.zeros([batch,5], dtype=torch.float64)\n",
        "    x,y = x.to(\"cuda\"),y.to(\"cuda\")\n",
        "    for i in range(9):\n",
        "      x[:,i] = self.helper(z[:,i])[:,0]\n",
        "    x = F.softmax(x,dim=1)   # alphas\n",
        "    \n",
        "\n",
        "    for i in range(9):            \n",
        "      x1 = x[:,i]          \n",
        "      y = y + torch.mul(x1[:,None],z[:,i])\n",
        "    return y , x \n",
        "  \n",
        "  def helper(self,x):\n",
        "    x = F.relu(self.fc1(x))\n",
        "    x = self.fc2(x)\n",
        "    return x\n",
        "      \n"
      ],
      "execution_count": 21,
      "outputs": []
    },
    {
      "cell_type": "code",
      "metadata": {
        "id": "zt9YwV5rjSK_"
      },
      "source": [
        " class Module2(nn.Module):\n",
        "  def __init__(self):\n",
        "    super(Module2, self).__init__()\n",
        "    self.fc1 = nn.Linear(5, 100)\n",
        "    self.fc2 = nn.Linear(100, 3)\n",
        "\n",
        "  def forward(self,y):  \n",
        "    y = F.relu(self.fc1(y))\n",
        "    y = self.fc2(y)\n",
        "    return y\n"
      ],
      "execution_count": 22,
      "outputs": []
    },
    {
      "cell_type": "code",
      "metadata": {
        "id": "UJbdW7cijRsr"
      },
      "source": [
        "torch.manual_seed(1234)\n",
        "where_net = Module1().double()\n",
        "where_net = where_net.to(\"cuda\")\n",
        "# print(net.parameters)\n",
        "torch.manual_seed(1234)\n",
        "what_net = Module2().double()\n",
        "what_net = what_net.to(\"cuda\")"
      ],
      "execution_count": 23,
      "outputs": []
    },
    {
      "cell_type": "code",
      "metadata": {
        "id": "ehAfQnNwgFYX"
      },
      "source": [
        "def calculate_attn_loss(dataloader,what,where,criter):\n",
        "  what.eval()\n",
        "  where.eval()\n",
        "  r_loss = 0\n",
        "  alphas = []\n",
        "  lbls = []\n",
        "  pred = []\n",
        "  fidices = []\n",
        "  correct = 0\n",
        "  tot = 0\n",
        "  with torch.no_grad():\n",
        "    for i, data in enumerate(dataloader, 0):\n",
        "      inputs, labels,fidx = data\n",
        "      lbls.append(labels)\n",
        "      fidices.append(fidx)\n",
        "      inputs = inputs.double()\n",
        "      inputs, labels = inputs.to(\"cuda\"),labels.to(\"cuda\")\n",
        "      avg,alpha = where(inputs)\n",
        "      outputs = what(avg)\n",
        "      _, predicted = torch.max(outputs.data, 1)\n",
        "      correct += sum(predicted == labels)\n",
        "      tot += len(predicted)\n",
        "      pred.append(predicted.cpu().numpy())\n",
        "      alphas.append(alpha.cpu().numpy())\n",
        "      loss = criter(outputs, labels)\n",
        "      r_loss += loss.item()\n",
        "  alphas = np.concatenate(alphas,axis=0)\n",
        "  pred = np.concatenate(pred,axis=0)\n",
        "  lbls = np.concatenate(lbls,axis=0)\n",
        "  fidices = np.concatenate(fidices,axis=0)\n",
        "  #print(alphas.shape,pred.shape,lbls.shape,fidices.shape) \n",
        "  analysis = analyse_data(alphas,lbls,pred,fidices)\n",
        "  return r_loss/i,analysis,correct.item(),tot,correct.item()/tot"
      ],
      "execution_count": 24,
      "outputs": []
    },
    {
      "cell_type": "code",
      "metadata": {
        "id": "6e9HQJMzxBhp"
      },
      "source": [
        "def analyse_data(alphas,lbls,predicted,f_idx):\n",
        "    '''\n",
        "       analysis data is created here\n",
        "    '''\n",
        "    batch = len(predicted)\n",
        "    amth,alth,ftpt,ffpt,ftpf,ffpf = 0,0,0,0,0,0\n",
        "    for j in range (batch):\n",
        "      focus = np.argmax(alphas[j])\n",
        "      if(alphas[j][focus] >= 0.5):\n",
        "        amth +=1\n",
        "      else:\n",
        "        alth +=1\n",
        "      if(focus == f_idx[j] and predicted[j] == lbls[j]):\n",
        "        ftpt += 1\n",
        "      elif(focus != f_idx[j] and predicted[j] == lbls[j]):\n",
        "        ffpt +=1\n",
        "      elif(focus == f_idx[j] and predicted[j] != lbls[j]):\n",
        "        ftpf +=1\n",
        "      elif(focus != f_idx[j] and predicted[j] != lbls[j]):\n",
        "        ffpf +=1\n",
        "    #print(sum(predicted==lbls),ftpt+ffpt)\n",
        "    return [ftpt,ffpt,ftpf,ffpf,amth,alth]"
      ],
      "execution_count": 25,
      "outputs": []
    },
    {
      "cell_type": "code",
      "metadata": {
        "id": "cu6qMiWpK1IA"
      },
      "source": [
        "def cal_blob_accuracy(data_loader):\n",
        "  net = Module2().double()\n",
        "  net = net.to(\"cuda\")\n",
        "  net.load_state_dict(torch.load(\"Net.pt\"))\n",
        "  pred = []\n",
        "  lbls = []\n",
        "  net.eval()\n",
        "  with torch.no_grad():\n",
        "    for i, data in enumerate(data_loader, 0):\n",
        "      inputs, labels= data\n",
        "      inputs = inputs.double()\n",
        "      inputs, labels = inputs.to(\"cuda\"),labels.to(\"cuda\")\n",
        "      lbls.append(labels.cpu().numpy())\n",
        "      outputs = net(inputs)\n",
        "      _, predicted = torch.max(outputs.data, 1)\n",
        "      pred.append(predicted.cpu().numpy())\n",
        "  #print(np.shape(lbls))\n",
        "  lbls  = np.concatenate(lbls,axis=0)\n",
        "  lbls = lbls[:,0]\n",
        "  #print(lbls.shape)\n",
        "  pred = np.concatenate(pred,axis=0)\n",
        "  idxs = np.logical_or(np.logical_or(lbls==0,lbls==1),lbls ==2)\n",
        "  #print(idxs)\n",
        "  acc = (np.sum(lbls[idxs] == pred[idxs]) / (len(lbls[idxs])) )*100\n",
        "\n",
        "  print(\"Accuracy on CIFAR10 0,1,2 classes is \",acc )\n",
        "  return acc"
      ],
      "execution_count": 26,
      "outputs": []
    },
    {
      "cell_type": "markdown",
      "metadata": {
        "id": "a2AlGgRa_6_H"
      },
      "source": [
        "# training"
      ]
    },
    {
      "cell_type": "code",
      "metadata": {
        "colab": {
          "base_uri": "https://localhost:8080/"
        },
        "id": "MOfxUJZ_eFKw",
        "outputId": "dd19e73a-6420-4d5e-8553-a5821c82b28e"
      },
      "source": [
        "# instantiate optimizer\n",
        "optimizer_where = optim.RMSprop(where_net.parameters(),lr =0.001)#,nesterov=True)\n",
        "optimizer_what = optim.RMSprop(what_net.parameters(), lr=0.001)#,nesterov=True)\n",
        " \n",
        "\n",
        "criterion = nn.CrossEntropyLoss()\n",
        "acti = []\n",
        "analysis_data_tr = []\n",
        "analysis_data_tst = []\n",
        "loss_curi_tst = []\n",
        "loss_curi_tr = []\n",
        "blob_classify_acc  = []\n",
        "epochs = 450\n",
        "\n",
        "every_what_epoch = 20\n",
        "\n",
        "# calculate zeroth epoch loss and FTPT values\n",
        "running_loss,anlys_data,correct,total,accuracy = calculate_attn_loss(train_loader,what_net,where_net,criterion)\n",
        "print('training epoch: [%d ] loss: %.3f correct: %.3f, total: %.3f, accuracy: %.3f' %(0,running_loss,correct,total,accuracy)) \n",
        "loss_curi_tr.append(running_loss)\n",
        "analysis_data_tr.append(anlys_data)\n",
        "\n",
        "\n",
        "\n",
        "running_loss,anlys_data,correct,total,accuracy = calculate_attn_loss(test_loader,what_net,where_net,criterion)\n",
        "print('test epoch: [%d ] loss: %.3f correct: %.3f, total: %.3f, accuracy: %.3f' %(0,running_loss,correct,total,accuracy)) \n",
        "\n",
        "loss_curi_tst.append(running_loss)\n",
        "analysis_data_tst.append(anlys_data)\n",
        "\n",
        "\n",
        "# training starts \n",
        "for epoch in range(epochs): # loop over the dataset multiple times\n",
        "  ep_lossi = []\n",
        "  running_loss = 0.0\n",
        "  what_net.train()\n",
        "  where_net.train()\n",
        "  if ((epoch) % (every_what_epoch*2) ) <= every_what_epoch-1 :\n",
        "    print(epoch+1,\"updating where_net, what_net is freezed\")\n",
        "    print(\"--\"*40)\n",
        "  elif ((epoch) % (every_what_epoch*2)) > every_what_epoch-1 :\n",
        "    print(epoch+1,\"updating what_net, where_net is freezed\")\n",
        "    print(\"--\"*40)\n",
        "  for i, data in enumerate(train_loader, 0):\n",
        "    # get the inputs\n",
        "    inputs, labels,_ = data\n",
        "    inputs = inputs.double()\n",
        "    inputs, labels = inputs.to(\"cuda\"),labels.to(\"cuda\")\n",
        "        \n",
        "    # zero the parameter gradients\n",
        "    optimizer_where.zero_grad()\n",
        "    optimizer_what.zero_grad()\n",
        "      \n",
        "    # forward + backward + optimize\n",
        "    avg, alpha = where_net(inputs)\n",
        "    outputs = what_net(avg)\n",
        "    loss = criterion(outputs, labels)\n",
        "\n",
        "    # print statistics\n",
        "    running_loss += loss.item()\n",
        "    loss.backward()\n",
        "    if ((epoch) % (every_what_epoch*2) ) <= every_what_epoch-1 :\n",
        "      optimizer_where.step()\n",
        "    elif ( (epoch) % (every_what_epoch*2)) > every_what_epoch-1 :\n",
        "      optimizer_what.step()\n",
        "      \n",
        "  running_loss_tr,anls_data,correct,total,accuracy = calculate_attn_loss(train_loader,what_net,where_net,criterion)\n",
        "  analysis_data_tr.append(anls_data)\n",
        "  loss_curi_tr.append(running_loss_tr)   #loss per epoch\n",
        "  print('training epoch: [%d ] loss: %.3f correct: %.3f, total: %.3f, accuracy: %.3f' %(epoch+1,running_loss_tr,correct,total,accuracy)) \n",
        "\n",
        "\n",
        "  # calculate loss for test data\n",
        "  running_loss_tst,anls_data,correct,total,accuracy = calculate_attn_loss(test_loader,what_net,where_net,criterion)\n",
        "  analysis_data_tst.append(anls_data)\n",
        "  loss_curi_tst.append(running_loss_tst)   #loss per epoch\n",
        "  print('test epoch: [%d ] loss: %.3f correct: %.3f, total: %.3f, accuracy: %.3f' %(epoch+1,running_loss_tst,correct,total,accuracy)) \n",
        "  torch.save(what_net.state_dict(),\"Net.pt\")\n",
        "  blob_classify_acc.append(cal_blob_accuracy(dtloader))\n",
        "  if running_loss_tr<=0.05:\n",
        "    break\n",
        "  # if ((epoch) % (every_what_epoch*2) ) <= every_what_epoch-1 :\n",
        "  #   scheduler_what.step(running_loss_val)\n",
        "  # elif ( (epoch) % (every_what_epoch*2)) > every_what_epoch-1 :\n",
        "  #   scheduler_where.step(running_loss_val)\n",
        "print('Finished Training run ')\n",
        "analysis_data_tr = np.array(analysis_data_tr) \n",
        "analysis_data_tst = np.array(analysis_data_tst)"
      ],
      "execution_count": 27,
      "outputs": [
        {
          "output_type": "stream",
          "text": [
            "training epoch: [0 ] loss: 1.938 correct: 969.000, total: 3000.000, accuracy: 0.323\n",
            "test epoch: [0 ] loss: 2.015 correct: 645.000, total: 2000.000, accuracy: 0.323\n",
            "1 updating where_net, what_net is freezed\n",
            "--------------------------------------------------------------------------------\n",
            "training epoch: [1 ] loss: 1.299 correct: 777.000, total: 3000.000, accuracy: 0.259\n",
            "test epoch: [1 ] loss: 1.351 correct: 533.000, total: 2000.000, accuracy: 0.267\n",
            "Accuracy on CIFAR10 0,1,2 classes is  13.933333333333334\n",
            "2 updating where_net, what_net is freezed\n",
            "--------------------------------------------------------------------------------\n",
            "training epoch: [2 ] loss: 1.157 correct: 1020.000, total: 3000.000, accuracy: 0.340\n",
            "test epoch: [2 ] loss: 1.209 correct: 689.000, total: 2000.000, accuracy: 0.344\n",
            "Accuracy on CIFAR10 0,1,2 classes is  13.933333333333334\n",
            "3 updating where_net, what_net is freezed\n",
            "--------------------------------------------------------------------------------\n",
            "training epoch: [3 ] loss: 1.094 correct: 1078.000, total: 3000.000, accuracy: 0.359\n",
            "test epoch: [3 ] loss: 1.142 correct: 739.000, total: 2000.000, accuracy: 0.369\n",
            "Accuracy on CIFAR10 0,1,2 classes is  13.933333333333334\n",
            "4 updating where_net, what_net is freezed\n",
            "--------------------------------------------------------------------------------\n",
            "training epoch: [4 ] loss: 1.059 correct: 1097.000, total: 3000.000, accuracy: 0.366\n",
            "test epoch: [4 ] loss: 1.103 correct: 753.000, total: 2000.000, accuracy: 0.377\n",
            "Accuracy on CIFAR10 0,1,2 classes is  13.933333333333334\n",
            "5 updating where_net, what_net is freezed\n",
            "--------------------------------------------------------------------------------\n",
            "training epoch: [5 ] loss: 1.035 correct: 1141.000, total: 3000.000, accuracy: 0.380\n",
            "test epoch: [5 ] loss: 1.079 correct: 777.000, total: 2000.000, accuracy: 0.389\n",
            "Accuracy on CIFAR10 0,1,2 classes is  13.933333333333334\n",
            "6 updating where_net, what_net is freezed\n",
            "--------------------------------------------------------------------------------\n",
            "training epoch: [6 ] loss: 1.017 correct: 1171.000, total: 3000.000, accuracy: 0.390\n",
            "test epoch: [6 ] loss: 1.062 correct: 795.000, total: 2000.000, accuracy: 0.398\n",
            "Accuracy on CIFAR10 0,1,2 classes is  13.933333333333334\n",
            "7 updating where_net, what_net is freezed\n",
            "--------------------------------------------------------------------------------\n",
            "training epoch: [7 ] loss: 1.004 correct: 1199.000, total: 3000.000, accuracy: 0.400\n",
            "test epoch: [7 ] loss: 1.049 correct: 813.000, total: 2000.000, accuracy: 0.406\n",
            "Accuracy on CIFAR10 0,1,2 classes is  13.933333333333334\n",
            "8 updating where_net, what_net is freezed\n",
            "--------------------------------------------------------------------------------\n",
            "training epoch: [8 ] loss: 0.994 correct: 1220.000, total: 3000.000, accuracy: 0.407\n",
            "test epoch: [8 ] loss: 1.039 correct: 831.000, total: 2000.000, accuracy: 0.415\n",
            "Accuracy on CIFAR10 0,1,2 classes is  13.933333333333334\n",
            "9 updating where_net, what_net is freezed\n",
            "--------------------------------------------------------------------------------\n",
            "training epoch: [9 ] loss: 0.985 correct: 1237.000, total: 3000.000, accuracy: 0.412\n",
            "test epoch: [9 ] loss: 1.031 correct: 844.000, total: 2000.000, accuracy: 0.422\n",
            "Accuracy on CIFAR10 0,1,2 classes is  13.933333333333334\n",
            "10 updating where_net, what_net is freezed\n",
            "--------------------------------------------------------------------------------\n",
            "training epoch: [10 ] loss: 0.979 correct: 1253.000, total: 3000.000, accuracy: 0.418\n",
            "test epoch: [10 ] loss: 1.025 correct: 857.000, total: 2000.000, accuracy: 0.428\n",
            "Accuracy on CIFAR10 0,1,2 classes is  13.933333333333334\n",
            "11 updating where_net, what_net is freezed\n",
            "--------------------------------------------------------------------------------\n",
            "training epoch: [11 ] loss: 0.973 correct: 1254.000, total: 3000.000, accuracy: 0.418\n",
            "test epoch: [11 ] loss: 1.018 correct: 853.000, total: 2000.000, accuracy: 0.426\n",
            "Accuracy on CIFAR10 0,1,2 classes is  13.933333333333334\n",
            "12 updating where_net, what_net is freezed\n",
            "--------------------------------------------------------------------------------\n",
            "training epoch: [12 ] loss: 0.968 correct: 1270.000, total: 3000.000, accuracy: 0.423\n",
            "test epoch: [12 ] loss: 1.014 correct: 877.000, total: 2000.000, accuracy: 0.439\n",
            "Accuracy on CIFAR10 0,1,2 classes is  13.933333333333334\n",
            "13 updating where_net, what_net is freezed\n",
            "--------------------------------------------------------------------------------\n",
            "training epoch: [13 ] loss: 0.965 correct: 1288.000, total: 3000.000, accuracy: 0.429\n",
            "test epoch: [13 ] loss: 1.011 correct: 885.000, total: 2000.000, accuracy: 0.443\n",
            "Accuracy on CIFAR10 0,1,2 classes is  13.933333333333334\n",
            "14 updating where_net, what_net is freezed\n",
            "--------------------------------------------------------------------------------\n",
            "training epoch: [14 ] loss: 0.960 correct: 1280.000, total: 3000.000, accuracy: 0.427\n",
            "test epoch: [14 ] loss: 1.005 correct: 884.000, total: 2000.000, accuracy: 0.442\n",
            "Accuracy on CIFAR10 0,1,2 classes is  13.933333333333334\n",
            "15 updating where_net, what_net is freezed\n",
            "--------------------------------------------------------------------------------\n",
            "training epoch: [15 ] loss: 0.957 correct: 1288.000, total: 3000.000, accuracy: 0.429\n",
            "test epoch: [15 ] loss: 1.002 correct: 889.000, total: 2000.000, accuracy: 0.445\n",
            "Accuracy on CIFAR10 0,1,2 classes is  13.933333333333334\n",
            "16 updating where_net, what_net is freezed\n",
            "--------------------------------------------------------------------------------\n",
            "training epoch: [16 ] loss: 0.955 correct: 1304.000, total: 3000.000, accuracy: 0.435\n",
            "test epoch: [16 ] loss: 1.000 correct: 895.000, total: 2000.000, accuracy: 0.448\n",
            "Accuracy on CIFAR10 0,1,2 classes is  13.933333333333334\n",
            "17 updating where_net, what_net is freezed\n",
            "--------------------------------------------------------------------------------\n",
            "training epoch: [17 ] loss: 0.953 correct: 1302.000, total: 3000.000, accuracy: 0.434\n",
            "test epoch: [17 ] loss: 0.997 correct: 894.000, total: 2000.000, accuracy: 0.447\n",
            "Accuracy on CIFAR10 0,1,2 classes is  13.933333333333334\n",
            "18 updating where_net, what_net is freezed\n",
            "--------------------------------------------------------------------------------\n",
            "training epoch: [18 ] loss: 0.953 correct: 1282.000, total: 3000.000, accuracy: 0.427\n",
            "test epoch: [18 ] loss: 0.998 correct: 876.000, total: 2000.000, accuracy: 0.438\n",
            "Accuracy on CIFAR10 0,1,2 classes is  13.933333333333334\n",
            "19 updating where_net, what_net is freezed\n",
            "--------------------------------------------------------------------------------\n",
            "training epoch: [19 ] loss: 0.948 correct: 1322.000, total: 3000.000, accuracy: 0.441\n",
            "test epoch: [19 ] loss: 0.994 correct: 898.000, total: 2000.000, accuracy: 0.449\n",
            "Accuracy on CIFAR10 0,1,2 classes is  13.933333333333334\n",
            "20 updating where_net, what_net is freezed\n",
            "--------------------------------------------------------------------------------\n",
            "training epoch: [20 ] loss: 0.947 correct: 1311.000, total: 3000.000, accuracy: 0.437\n",
            "test epoch: [20 ] loss: 0.992 correct: 899.000, total: 2000.000, accuracy: 0.450\n",
            "Accuracy on CIFAR10 0,1,2 classes is  13.933333333333334\n",
            "21 updating what_net, where_net is freezed\n",
            "--------------------------------------------------------------------------------\n",
            "training epoch: [21 ] loss: 0.498 correct: 2617.000, total: 3000.000, accuracy: 0.872\n",
            "test epoch: [21 ] loss: 0.517 correct: 1721.000, total: 2000.000, accuracy: 0.861\n",
            "Accuracy on CIFAR10 0,1,2 classes is  54.46666666666666\n",
            "22 updating what_net, where_net is freezed\n",
            "--------------------------------------------------------------------------------\n",
            "training epoch: [22 ] loss: 0.420 correct: 2681.000, total: 3000.000, accuracy: 0.894\n",
            "test epoch: [22 ] loss: 0.432 correct: 1768.000, total: 2000.000, accuracy: 0.884\n",
            "Accuracy on CIFAR10 0,1,2 classes is  56.46666666666667\n",
            "23 updating what_net, where_net is freezed\n",
            "--------------------------------------------------------------------------------\n",
            "training epoch: [23 ] loss: 0.367 correct: 2757.000, total: 3000.000, accuracy: 0.919\n",
            "test epoch: [23 ] loss: 0.378 correct: 1819.000, total: 2000.000, accuracy: 0.909\n",
            "Accuracy on CIFAR10 0,1,2 classes is  58.666666666666664\n",
            "24 updating what_net, where_net is freezed\n",
            "--------------------------------------------------------------------------------\n",
            "training epoch: [24 ] loss: 0.330 correct: 2802.000, total: 3000.000, accuracy: 0.934\n",
            "test epoch: [24 ] loss: 0.340 correct: 1851.000, total: 2000.000, accuracy: 0.925\n",
            "Accuracy on CIFAR10 0,1,2 classes is  61.0\n",
            "25 updating what_net, where_net is freezed\n",
            "--------------------------------------------------------------------------------\n",
            "training epoch: [25 ] loss: 0.304 correct: 2864.000, total: 3000.000, accuracy: 0.955\n",
            "test epoch: [25 ] loss: 0.314 correct: 1896.000, total: 2000.000, accuracy: 0.948\n",
            "Accuracy on CIFAR10 0,1,2 classes is  64.33333333333333\n",
            "26 updating what_net, where_net is freezed\n",
            "--------------------------------------------------------------------------------\n",
            "training epoch: [26 ] loss: 0.279 correct: 2826.000, total: 3000.000, accuracy: 0.942\n",
            "test epoch: [26 ] loss: 0.288 correct: 1864.000, total: 2000.000, accuracy: 0.932\n",
            "Accuracy on CIFAR10 0,1,2 classes is  61.86666666666667\n",
            "27 updating what_net, where_net is freezed\n",
            "--------------------------------------------------------------------------------\n",
            "training epoch: [27 ] loss: 0.267 correct: 2777.000, total: 3000.000, accuracy: 0.926\n",
            "test epoch: [27 ] loss: 0.274 correct: 1836.000, total: 2000.000, accuracy: 0.918\n",
            "Accuracy on CIFAR10 0,1,2 classes is  59.266666666666666\n",
            "28 updating what_net, where_net is freezed\n",
            "--------------------------------------------------------------------------------\n",
            "training epoch: [28 ] loss: 0.244 correct: 2892.000, total: 3000.000, accuracy: 0.964\n",
            "test epoch: [28 ] loss: 0.254 correct: 1918.000, total: 2000.000, accuracy: 0.959\n",
            "Accuracy on CIFAR10 0,1,2 classes is  64.60000000000001\n",
            "29 updating what_net, where_net is freezed\n",
            "--------------------------------------------------------------------------------\n",
            "training epoch: [29 ] loss: 0.228 correct: 2865.000, total: 3000.000, accuracy: 0.955\n",
            "test epoch: [29 ] loss: 0.238 correct: 1898.000, total: 2000.000, accuracy: 0.949\n",
            "Accuracy on CIFAR10 0,1,2 classes is  63.800000000000004\n",
            "30 updating what_net, where_net is freezed\n",
            "--------------------------------------------------------------------------------\n",
            "training epoch: [30 ] loss: 0.217 correct: 2893.000, total: 3000.000, accuracy: 0.964\n",
            "test epoch: [30 ] loss: 0.227 correct: 1923.000, total: 2000.000, accuracy: 0.962\n",
            "Accuracy on CIFAR10 0,1,2 classes is  64.66666666666666\n",
            "31 updating what_net, where_net is freezed\n",
            "--------------------------------------------------------------------------------\n",
            "training epoch: [31 ] loss: 0.203 correct: 2879.000, total: 3000.000, accuracy: 0.960\n",
            "test epoch: [31 ] loss: 0.213 correct: 1908.000, total: 2000.000, accuracy: 0.954\n",
            "Accuracy on CIFAR10 0,1,2 classes is  63.800000000000004\n",
            "32 updating what_net, where_net is freezed\n",
            "--------------------------------------------------------------------------------\n",
            "training epoch: [32 ] loss: 0.193 correct: 2917.000, total: 3000.000, accuracy: 0.972\n",
            "test epoch: [32 ] loss: 0.204 correct: 1942.000, total: 2000.000, accuracy: 0.971\n",
            "Accuracy on CIFAR10 0,1,2 classes is  65.4\n",
            "33 updating what_net, where_net is freezed\n",
            "--------------------------------------------------------------------------------\n",
            "training epoch: [33 ] loss: 0.183 correct: 2898.000, total: 3000.000, accuracy: 0.966\n",
            "test epoch: [33 ] loss: 0.195 correct: 1920.000, total: 2000.000, accuracy: 0.960\n",
            "Accuracy on CIFAR10 0,1,2 classes is  64.53333333333333\n",
            "34 updating what_net, where_net is freezed\n",
            "--------------------------------------------------------------------------------\n",
            "training epoch: [34 ] loss: 0.174 correct: 2920.000, total: 3000.000, accuracy: 0.973\n",
            "test epoch: [34 ] loss: 0.186 correct: 1941.000, total: 2000.000, accuracy: 0.971\n",
            "Accuracy on CIFAR10 0,1,2 classes is  64.86666666666666\n",
            "35 updating what_net, where_net is freezed\n",
            "--------------------------------------------------------------------------------\n",
            "training epoch: [35 ] loss: 0.166 correct: 2928.000, total: 3000.000, accuracy: 0.976\n",
            "test epoch: [35 ] loss: 0.179 correct: 1945.000, total: 2000.000, accuracy: 0.973\n",
            "Accuracy on CIFAR10 0,1,2 classes is  65.2\n",
            "36 updating what_net, where_net is freezed\n",
            "--------------------------------------------------------------------------------\n",
            "training epoch: [36 ] loss: 0.158 correct: 2928.000, total: 3000.000, accuracy: 0.976\n",
            "test epoch: [36 ] loss: 0.172 correct: 1938.000, total: 2000.000, accuracy: 0.969\n",
            "Accuracy on CIFAR10 0,1,2 classes is  64.8\n",
            "37 updating what_net, where_net is freezed\n",
            "--------------------------------------------------------------------------------\n",
            "training epoch: [37 ] loss: 0.153 correct: 2904.000, total: 3000.000, accuracy: 0.968\n",
            "test epoch: [37 ] loss: 0.167 correct: 1927.000, total: 2000.000, accuracy: 0.964\n",
            "Accuracy on CIFAR10 0,1,2 classes is  64.46666666666667\n",
            "38 updating what_net, where_net is freezed\n",
            "--------------------------------------------------------------------------------\n",
            "training epoch: [38 ] loss: 0.146 correct: 2923.000, total: 3000.000, accuracy: 0.974\n",
            "test epoch: [38 ] loss: 0.161 correct: 1939.000, total: 2000.000, accuracy: 0.970\n",
            "Accuracy on CIFAR10 0,1,2 classes is  64.8\n",
            "39 updating what_net, where_net is freezed\n",
            "--------------------------------------------------------------------------------\n",
            "training epoch: [39 ] loss: 0.140 correct: 2900.000, total: 3000.000, accuracy: 0.967\n",
            "test epoch: [39 ] loss: 0.156 correct: 1927.000, total: 2000.000, accuracy: 0.964\n",
            "Accuracy on CIFAR10 0,1,2 classes is  63.93333333333333\n",
            "40 updating what_net, where_net is freezed\n",
            "--------------------------------------------------------------------------------\n",
            "training epoch: [40 ] loss: 0.134 correct: 2903.000, total: 3000.000, accuracy: 0.968\n",
            "test epoch: [40 ] loss: 0.150 correct: 1927.000, total: 2000.000, accuracy: 0.964\n",
            "Accuracy on CIFAR10 0,1,2 classes is  64.2\n",
            "41 updating where_net, what_net is freezed\n",
            "--------------------------------------------------------------------------------\n",
            "training epoch: [41 ] loss: 0.118 correct: 2914.000, total: 3000.000, accuracy: 0.971\n",
            "test epoch: [41 ] loss: 0.128 correct: 1944.000, total: 2000.000, accuracy: 0.972\n",
            "Accuracy on CIFAR10 0,1,2 classes is  64.2\n",
            "42 updating where_net, what_net is freezed\n",
            "--------------------------------------------------------------------------------\n",
            "training epoch: [42 ] loss: 0.116 correct: 2912.000, total: 3000.000, accuracy: 0.971\n",
            "test epoch: [42 ] loss: 0.128 correct: 1938.000, total: 2000.000, accuracy: 0.969\n",
            "Accuracy on CIFAR10 0,1,2 classes is  64.2\n",
            "43 updating where_net, what_net is freezed\n",
            "--------------------------------------------------------------------------------\n",
            "training epoch: [43 ] loss: 0.116 correct: 2914.000, total: 3000.000, accuracy: 0.971\n",
            "test epoch: [43 ] loss: 0.125 correct: 1941.000, total: 2000.000, accuracy: 0.971\n",
            "Accuracy on CIFAR10 0,1,2 classes is  64.2\n",
            "44 updating where_net, what_net is freezed\n",
            "--------------------------------------------------------------------------------\n",
            "training epoch: [44 ] loss: 0.116 correct: 2915.000, total: 3000.000, accuracy: 0.972\n",
            "test epoch: [44 ] loss: 0.124 correct: 1942.000, total: 2000.000, accuracy: 0.971\n",
            "Accuracy on CIFAR10 0,1,2 classes is  64.2\n",
            "45 updating where_net, what_net is freezed\n",
            "--------------------------------------------------------------------------------\n",
            "training epoch: [45 ] loss: 0.115 correct: 2911.000, total: 3000.000, accuracy: 0.970\n",
            "test epoch: [45 ] loss: 0.127 correct: 1935.000, total: 2000.000, accuracy: 0.968\n",
            "Accuracy on CIFAR10 0,1,2 classes is  64.2\n",
            "46 updating where_net, what_net is freezed\n",
            "--------------------------------------------------------------------------------\n",
            "training epoch: [46 ] loss: 0.115 correct: 2911.000, total: 3000.000, accuracy: 0.970\n",
            "test epoch: [46 ] loss: 0.124 correct: 1937.000, total: 2000.000, accuracy: 0.969\n",
            "Accuracy on CIFAR10 0,1,2 classes is  64.2\n",
            "47 updating where_net, what_net is freezed\n",
            "--------------------------------------------------------------------------------\n",
            "training epoch: [47 ] loss: 0.115 correct: 2911.000, total: 3000.000, accuracy: 0.970\n",
            "test epoch: [47 ] loss: 0.123 correct: 1938.000, total: 2000.000, accuracy: 0.969\n",
            "Accuracy on CIFAR10 0,1,2 classes is  64.2\n",
            "48 updating where_net, what_net is freezed\n",
            "--------------------------------------------------------------------------------\n",
            "training epoch: [48 ] loss: 0.114 correct: 2912.000, total: 3000.000, accuracy: 0.971\n",
            "test epoch: [48 ] loss: 0.124 correct: 1937.000, total: 2000.000, accuracy: 0.969\n",
            "Accuracy on CIFAR10 0,1,2 classes is  64.2\n",
            "49 updating where_net, what_net is freezed\n",
            "--------------------------------------------------------------------------------\n",
            "training epoch: [49 ] loss: 0.114 correct: 2912.000, total: 3000.000, accuracy: 0.971\n",
            "test epoch: [49 ] loss: 0.123 correct: 1937.000, total: 2000.000, accuracy: 0.969\n",
            "Accuracy on CIFAR10 0,1,2 classes is  64.2\n",
            "50 updating where_net, what_net is freezed\n",
            "--------------------------------------------------------------------------------\n",
            "training epoch: [50 ] loss: 0.114 correct: 2912.000, total: 3000.000, accuracy: 0.971\n",
            "test epoch: [50 ] loss: 0.123 correct: 1938.000, total: 2000.000, accuracy: 0.969\n",
            "Accuracy on CIFAR10 0,1,2 classes is  64.2\n",
            "51 updating where_net, what_net is freezed\n",
            "--------------------------------------------------------------------------------\n",
            "training epoch: [51 ] loss: 0.114 correct: 2912.000, total: 3000.000, accuracy: 0.971\n",
            "test epoch: [51 ] loss: 0.122 correct: 1938.000, total: 2000.000, accuracy: 0.969\n",
            "Accuracy on CIFAR10 0,1,2 classes is  64.2\n",
            "52 updating where_net, what_net is freezed\n",
            "--------------------------------------------------------------------------------\n",
            "training epoch: [52 ] loss: 0.114 correct: 2912.000, total: 3000.000, accuracy: 0.971\n",
            "test epoch: [52 ] loss: 0.123 correct: 1937.000, total: 2000.000, accuracy: 0.969\n",
            "Accuracy on CIFAR10 0,1,2 classes is  64.2\n",
            "53 updating where_net, what_net is freezed\n",
            "--------------------------------------------------------------------------------\n",
            "training epoch: [53 ] loss: 0.114 correct: 2912.000, total: 3000.000, accuracy: 0.971\n",
            "test epoch: [53 ] loss: 0.123 correct: 1937.000, total: 2000.000, accuracy: 0.969\n",
            "Accuracy on CIFAR10 0,1,2 classes is  64.2\n",
            "54 updating where_net, what_net is freezed\n",
            "--------------------------------------------------------------------------------\n",
            "training epoch: [54 ] loss: 0.114 correct: 2912.000, total: 3000.000, accuracy: 0.971\n",
            "test epoch: [54 ] loss: 0.122 correct: 1938.000, total: 2000.000, accuracy: 0.969\n",
            "Accuracy on CIFAR10 0,1,2 classes is  64.2\n",
            "55 updating where_net, what_net is freezed\n",
            "--------------------------------------------------------------------------------\n",
            "training epoch: [55 ] loss: 0.114 correct: 2911.000, total: 3000.000, accuracy: 0.970\n",
            "test epoch: [55 ] loss: 0.122 correct: 1938.000, total: 2000.000, accuracy: 0.969\n",
            "Accuracy on CIFAR10 0,1,2 classes is  64.2\n",
            "56 updating where_net, what_net is freezed\n",
            "--------------------------------------------------------------------------------\n",
            "training epoch: [56 ] loss: 0.114 correct: 2911.000, total: 3000.000, accuracy: 0.970\n",
            "test epoch: [56 ] loss: 0.121 correct: 1938.000, total: 2000.000, accuracy: 0.969\n",
            "Accuracy on CIFAR10 0,1,2 classes is  64.2\n",
            "57 updating where_net, what_net is freezed\n",
            "--------------------------------------------------------------------------------\n",
            "training epoch: [57 ] loss: 0.113 correct: 2911.000, total: 3000.000, accuracy: 0.970\n",
            "test epoch: [57 ] loss: 0.120 correct: 1938.000, total: 2000.000, accuracy: 0.969\n",
            "Accuracy on CIFAR10 0,1,2 classes is  64.2\n",
            "58 updating where_net, what_net is freezed\n",
            "--------------------------------------------------------------------------------\n",
            "training epoch: [58 ] loss: 0.113 correct: 2911.000, total: 3000.000, accuracy: 0.970\n",
            "test epoch: [58 ] loss: 0.120 correct: 1938.000, total: 2000.000, accuracy: 0.969\n",
            "Accuracy on CIFAR10 0,1,2 classes is  64.2\n",
            "59 updating where_net, what_net is freezed\n",
            "--------------------------------------------------------------------------------\n",
            "training epoch: [59 ] loss: 0.113 correct: 2911.000, total: 3000.000, accuracy: 0.970\n",
            "test epoch: [59 ] loss: 0.120 correct: 1938.000, total: 2000.000, accuracy: 0.969\n",
            "Accuracy on CIFAR10 0,1,2 classes is  64.2\n",
            "60 updating where_net, what_net is freezed\n",
            "--------------------------------------------------------------------------------\n",
            "training epoch: [60 ] loss: 0.113 correct: 2911.000, total: 3000.000, accuracy: 0.970\n",
            "test epoch: [60 ] loss: 0.120 correct: 1938.000, total: 2000.000, accuracy: 0.969\n",
            "Accuracy on CIFAR10 0,1,2 classes is  64.2\n",
            "61 updating what_net, where_net is freezed\n",
            "--------------------------------------------------------------------------------\n",
            "training epoch: [61 ] loss: 0.102 correct: 2972.000, total: 3000.000, accuracy: 0.991\n",
            "test epoch: [61 ] loss: 0.106 correct: 1980.000, total: 2000.000, accuracy: 0.990\n",
            "Accuracy on CIFAR10 0,1,2 classes is  65.86666666666666\n",
            "62 updating what_net, where_net is freezed\n",
            "--------------------------------------------------------------------------------\n",
            "training epoch: [62 ] loss: 0.095 correct: 2983.000, total: 3000.000, accuracy: 0.994\n",
            "test epoch: [62 ] loss: 0.100 correct: 1989.000, total: 2000.000, accuracy: 0.995\n",
            "Accuracy on CIFAR10 0,1,2 classes is  66.33333333333333\n",
            "63 updating what_net, where_net is freezed\n",
            "--------------------------------------------------------------------------------\n",
            "training epoch: [63 ] loss: 0.091 correct: 2987.000, total: 3000.000, accuracy: 0.996\n",
            "test epoch: [63 ] loss: 0.095 correct: 1989.000, total: 2000.000, accuracy: 0.995\n",
            "Accuracy on CIFAR10 0,1,2 classes is  71.26666666666667\n",
            "64 updating what_net, where_net is freezed\n",
            "--------------------------------------------------------------------------------\n",
            "training epoch: [64 ] loss: 0.086 correct: 2963.000, total: 3000.000, accuracy: 0.988\n",
            "test epoch: [64 ] loss: 0.091 correct: 1968.000, total: 2000.000, accuracy: 0.984\n",
            "Accuracy on CIFAR10 0,1,2 classes is  75.8\n",
            "65 updating what_net, where_net is freezed\n",
            "--------------------------------------------------------------------------------\n",
            "training epoch: [65 ] loss: 0.081 correct: 2991.000, total: 3000.000, accuracy: 0.997\n",
            "test epoch: [65 ] loss: 0.085 correct: 1995.000, total: 2000.000, accuracy: 0.998\n",
            "Accuracy on CIFAR10 0,1,2 classes is  79.4\n",
            "66 updating what_net, where_net is freezed\n",
            "--------------------------------------------------------------------------------\n",
            "training epoch: [66 ] loss: 0.077 correct: 2991.000, total: 3000.000, accuracy: 0.997\n",
            "test epoch: [66 ] loss: 0.081 correct: 1995.000, total: 2000.000, accuracy: 0.998\n",
            "Accuracy on CIFAR10 0,1,2 classes is  82.13333333333334\n",
            "67 updating what_net, where_net is freezed\n",
            "--------------------------------------------------------------------------------\n",
            "training epoch: [67 ] loss: 0.074 correct: 2991.000, total: 3000.000, accuracy: 0.997\n",
            "test epoch: [67 ] loss: 0.077 correct: 1994.000, total: 2000.000, accuracy: 0.997\n",
            "Accuracy on CIFAR10 0,1,2 classes is  82.26666666666667\n",
            "68 updating what_net, where_net is freezed\n",
            "--------------------------------------------------------------------------------\n",
            "training epoch: [68 ] loss: 0.072 correct: 2969.000, total: 3000.000, accuracy: 0.990\n",
            "test epoch: [68 ] loss: 0.076 correct: 1977.000, total: 2000.000, accuracy: 0.989\n",
            "Accuracy on CIFAR10 0,1,2 classes is  81.39999999999999\n",
            "69 updating what_net, where_net is freezed\n",
            "--------------------------------------------------------------------------------\n",
            "training epoch: [69 ] loss: 0.067 correct: 2994.000, total: 3000.000, accuracy: 0.998\n",
            "test epoch: [69 ] loss: 0.071 correct: 1996.000, total: 2000.000, accuracy: 0.998\n",
            "Accuracy on CIFAR10 0,1,2 classes is  84.46666666666667\n",
            "70 updating what_net, where_net is freezed\n",
            "--------------------------------------------------------------------------------\n",
            "training epoch: [70 ] loss: 0.065 correct: 2994.000, total: 3000.000, accuracy: 0.998\n",
            "test epoch: [70 ] loss: 0.068 correct: 1996.000, total: 2000.000, accuracy: 0.998\n",
            "Accuracy on CIFAR10 0,1,2 classes is  85.86666666666667\n",
            "71 updating what_net, where_net is freezed\n",
            "--------------------------------------------------------------------------------\n",
            "training epoch: [71 ] loss: 0.062 correct: 2994.000, total: 3000.000, accuracy: 0.998\n",
            "test epoch: [71 ] loss: 0.066 correct: 1997.000, total: 2000.000, accuracy: 0.999\n",
            "Accuracy on CIFAR10 0,1,2 classes is  87.86666666666667\n",
            "72 updating what_net, where_net is freezed\n",
            "--------------------------------------------------------------------------------\n",
            "training epoch: [72 ] loss: 0.060 correct: 2994.000, total: 3000.000, accuracy: 0.998\n",
            "test epoch: [72 ] loss: 0.063 correct: 1998.000, total: 2000.000, accuracy: 0.999\n",
            "Accuracy on CIFAR10 0,1,2 classes is  87.46666666666667\n",
            "73 updating what_net, where_net is freezed\n",
            "--------------------------------------------------------------------------------\n",
            "training epoch: [73 ] loss: 0.058 correct: 2994.000, total: 3000.000, accuracy: 0.998\n",
            "test epoch: [73 ] loss: 0.060 correct: 1997.000, total: 2000.000, accuracy: 0.999\n",
            "Accuracy on CIFAR10 0,1,2 classes is  88.93333333333334\n",
            "74 updating what_net, where_net is freezed\n",
            "--------------------------------------------------------------------------------\n",
            "training epoch: [74 ] loss: 0.055 correct: 2994.000, total: 3000.000, accuracy: 0.998\n",
            "test epoch: [74 ] loss: 0.058 correct: 1998.000, total: 2000.000, accuracy: 0.999\n",
            "Accuracy on CIFAR10 0,1,2 classes is  89.60000000000001\n",
            "75 updating what_net, where_net is freezed\n",
            "--------------------------------------------------------------------------------\n",
            "training epoch: [75 ] loss: 0.053 correct: 2994.000, total: 3000.000, accuracy: 0.998\n",
            "test epoch: [75 ] loss: 0.056 correct: 1998.000, total: 2000.000, accuracy: 0.999\n",
            "Accuracy on CIFAR10 0,1,2 classes is  90.46666666666667\n",
            "76 updating what_net, where_net is freezed\n",
            "--------------------------------------------------------------------------------\n",
            "training epoch: [76 ] loss: 0.050 correct: 2994.000, total: 3000.000, accuracy: 0.998\n",
            "test epoch: [76 ] loss: 0.054 correct: 1998.000, total: 2000.000, accuracy: 0.999\n",
            "Accuracy on CIFAR10 0,1,2 classes is  90.66666666666666\n",
            "77 updating what_net, where_net is freezed\n",
            "--------------------------------------------------------------------------------\n",
            "training epoch: [77 ] loss: 0.049 correct: 2998.000, total: 3000.000, accuracy: 0.999\n",
            "test epoch: [77 ] loss: 0.052 correct: 1999.000, total: 2000.000, accuracy: 1.000\n",
            "Accuracy on CIFAR10 0,1,2 classes is  94.26666666666667\n",
            "Finished Training run \n"
          ],
          "name": "stdout"
        }
      ]
    },
    {
      "cell_type": "code",
      "metadata": {
        "id": "dwRqaz3Wxc23",
        "colab": {
          "base_uri": "https://localhost:8080/",
          "height": 513
        },
        "outputId": "f05f322f-cc39-464e-fe58-4334e565e440"
      },
      "source": [
        "fig = plt.figure(figsize = (8,8)) \n",
        "vline_list = np.arange(every_what_epoch, epoch + every_what_epoch, every_what_epoch)\n",
        "# train_loss = np.random.randn(340)\n",
        "# test_loss = np.random.randn(340)\n",
        "epoch_list = np.arange(0, epoch+2)\n",
        "plt.plot(epoch_list,loss_curi_tr, label='train_loss')\n",
        "#plt.plot(epoch_list,loss_curi_tst, label='test_loss')\n",
        "\n",
        "plt.legend(loc='center left', bbox_to_anchor=(1, 0.5))\n",
        "plt.xlabel(\"epochs\")\n",
        "plt.ylabel(\"CE Loss\")\n",
        "#plt.vlines(vline_list,min(min(loss_curi_tr),min(loss_curi_tst)), max(max(loss_curi_tst),max(loss_curi_tr)),linestyles='dotted')\n",
        "plt.title(\"train loss\")\n",
        "plt.show()\n",
        "fig.savefig(\"train_loss_every_20_plot.pdf\")\n",
        "fig.savefig(\"train_loss_every_20_plot.png\")"
      ],
      "execution_count": 28,
      "outputs": [
        {
          "output_type": "display_data",
          "data": {
            "image/png": "[encoded data removed]",
            "text/plain": [
              "<Figure size 576x576 with 1 Axes>"
            ]
          },
          "metadata": {
            "tags": [],
            "needs_background": "light"
          }
        }
      ]
    },
    {
      "cell_type": "code",
      "metadata": {
        "id": "EZtPJ-rnRr-x",
        "colab": {
          "base_uri": "https://localhost:8080/"
        },
        "outputId": "8e7532a6-e9d7-4004-a76c-53a007edcf1c"
      },
      "source": [
        "analysis_data_tr"
      ],
      "execution_count": 29,
      "outputs": [
        {
          "output_type": "execute_result",
          "data": {
            "text/plain": [
              "array([[ 162,  807, 1708,  323,  467, 2533],\n",
              "       [ 652,  125, 2182,   41, 1387, 1613],\n",
              "       [ 323,  697, 1977,    3, 2265,  735],\n",
              "       [ 368,  710, 1920,    2, 2469,  531],\n",
              "       [ 307,  790, 1900,    3, 2491,  509],\n",
              "       [ 353,  788, 1857,    2, 2565,  435],\n",
              "       [ 369,  802, 1828,    1, 2592,  408],\n",
              "       [ 386,  813, 1801,    0, 2612,  388],\n",
              "       [ 385,  835, 1780,    0, 2613,  387],\n",
              "       [ 383,  854, 1763,    0, 2628,  372],\n",
              "       [ 398,  855, 1747,    0, 2644,  356],\n",
              "       [ 370,  884, 1746,    0, 2649,  351],\n",
              "       [ 384,  886, 1730,    0, 2653,  347],\n",
              "       [ 399,  889, 1712,    0, 2651,  349],\n",
              "       [ 377,  903, 1720,    0, 2664,  336],\n",
              "       [ 379,  909, 1712,    0, 2664,  336],\n",
              "       [ 397,  907, 1696,    0, 2664,  336],\n",
              "       [ 369,  933, 1698,    0, 2669,  331],\n",
              "       [ 341,  941, 1718,    0, 2678,  322],\n",
              "       [ 402,  920, 1678,    0, 2670,  330],\n",
              "       [ 369,  942, 1689,    0, 2687,  313],\n",
              "       [1675,  942,  383,    0, 2687,  313],\n",
              "       [1739,  942,  319,    0, 2687,  313],\n",
              "       [1815,  942,  243,    0, 2687,  313],\n",
              "       [1860,  942,  198,    0, 2687,  313],\n",
              "       [1922,  942,  136,    0, 2687,  313],\n",
              "       [1884,  942,  174,    0, 2687,  313],\n",
              "       [1835,  942,  223,    0, 2687,  313],\n",
              "       [1950,  942,  108,    0, 2687,  313],\n",
              "       [1923,  942,  135,    0, 2687,  313],\n",
              "       [1951,  942,  107,    0, 2687,  313],\n",
              "       [1937,  942,  121,    0, 2687,  313],\n",
              "       [1975,  942,   83,    0, 2687,  313],\n",
              "       [1956,  942,  102,    0, 2687,  313],\n",
              "       [1978,  942,   80,    0, 2687,  313],\n",
              "       [1986,  942,   72,    0, 2687,  313],\n",
              "       [1986,  942,   72,    0, 2687,  313],\n",
              "       [1962,  942,   96,    0, 2687,  313],\n",
              "       [1981,  942,   77,    0, 2687,  313],\n",
              "       [1958,  942,  100,    0, 2687,  313],\n",
              "       [1961,  942,   97,    0, 2687,  313],\n",
              "       [1954,  960,   86,    0, 2641,  359],\n",
              "       [1958,  954,   88,    0, 2634,  366],\n",
              "       [1955,  959,   86,    0, 2626,  374],\n",
              "       [1945,  970,   85,    0, 2604,  396],\n",
              "       [1962,  949,   89,    0, 2580,  420],\n",
              "       [1954,  957,   89,    0, 2569,  431],\n",
              "       [1938,  973,   89,    0, 2582,  418],\n",
              "       [1958,  954,   88,    0, 2560,  440],\n",
              "       [1947,  965,   88,    0, 2569,  431],\n",
              "       [1952,  960,   88,    0, 2548,  452],\n",
              "       [1941,  971,   88,    0, 2547,  453],\n",
              "       [1951,  961,   88,    0, 2525,  475],\n",
              "       [1952,  960,   88,    0, 2513,  487],\n",
              "       [1949,  963,   88,    0, 2505,  495],\n",
              "       [1945,  966,   89,    0, 2488,  512],\n",
              "       [1940,  971,   89,    0, 2460,  540],\n",
              "       [1935,  976,   89,    0, 2462,  538],\n",
              "       [1936,  975,   89,    0, 2459,  541],\n",
              "       [1936,  975,   89,    0, 2447,  553],\n",
              "       [1935,  976,   89,    0, 2443,  557],\n",
              "       [1996,  976,   28,    0, 2443,  557],\n",
              "       [2007,  976,   17,    0, 2443,  557],\n",
              "       [2011,  976,   13,    0, 2443,  557],\n",
              "       [1987,  976,   37,    0, 2443,  557],\n",
              "       [2015,  976,    9,    0, 2443,  557],\n",
              "       [2015,  976,    9,    0, 2443,  557],\n",
              "       [2015,  976,    9,    0, 2443,  557],\n",
              "       [1993,  976,   31,    0, 2443,  557],\n",
              "       [2018,  976,    6,    0, 2443,  557],\n",
              "       [2018,  976,    6,    0, 2443,  557],\n",
              "       [2018,  976,    6,    0, 2443,  557],\n",
              "       [2018,  976,    6,    0, 2443,  557],\n",
              "       [2018,  976,    6,    0, 2443,  557],\n",
              "       [2018,  976,    6,    0, 2443,  557],\n",
              "       [2018,  976,    6,    0, 2443,  557],\n",
              "       [2018,  976,    6,    0, 2443,  557],\n",
              "       [2022,  976,    2,    0, 2443,  557]])"
            ]
          },
          "metadata": {
            "tags": []
          },
          "execution_count": 29
        }
      ]
    },
    {
      "cell_type": "code",
      "metadata": {
        "colab": {
          "base_uri": "https://localhost:8080/"
        },
        "id": "RQ3OzJlOOyY8",
        "outputId": "dfa7a76d-3f19-4439-f8e5-ff49733ba273"
      },
      "source": [
        "analysis_data_tst"
      ],
      "execution_count": 30,
      "outputs": [
        {
          "output_type": "execute_result",
          "data": {
            "text/plain": [
              "array([[ 101,  544, 1101,  254,  284, 1716],\n",
              "       [ 449,   84, 1435,   32,  901, 1099],\n",
              "       [ 241,  448, 1311,    0, 1522,  478],\n",
              "       [ 281,  458, 1261,    0, 1651,  349],\n",
              "       [ 233,  520, 1247,    0, 1672,  328],\n",
              "       [ 256,  521, 1223,    0, 1714,  286],\n",
              "       [ 272,  523, 1205,    0, 1737,  263],\n",
              "       [ 282,  531, 1187,    0, 1758,  242],\n",
              "       [ 282,  549, 1169,    0, 1758,  242],\n",
              "       [ 289,  555, 1156,    0, 1764,  236],\n",
              "       [ 302,  555, 1143,    0, 1768,  232],\n",
              "       [ 274,  579, 1147,    0, 1775,  225],\n",
              "       [ 298,  579, 1123,    0, 1777,  223],\n",
              "       [ 303,  582, 1115,    0, 1782,  218],\n",
              "       [ 287,  597, 1116,    0, 1782,  218],\n",
              "       [ 289,  600, 1111,    0, 1784,  216],\n",
              "       [ 295,  600, 1105,    0, 1789,  211],\n",
              "       [ 279,  615, 1106,    0, 1787,  213],\n",
              "       [ 253,  623, 1124,    0, 1793,  207],\n",
              "       [ 291,  607, 1102,    0, 1790,  210],\n",
              "       [ 276,  623, 1101,    0, 1794,  206],\n",
              "       [1098,  623,  279,    0, 1794,  206],\n",
              "       [1145,  623,  232,    0, 1794,  206],\n",
              "       [1196,  623,  181,    0, 1794,  206],\n",
              "       [1228,  623,  149,    0, 1794,  206],\n",
              "       [1273,  623,  104,    0, 1794,  206],\n",
              "       [1241,  623,  136,    0, 1794,  206],\n",
              "       [1213,  623,  164,    0, 1794,  206],\n",
              "       [1295,  623,   82,    0, 1794,  206],\n",
              "       [1275,  623,  102,    0, 1794,  206],\n",
              "       [1300,  623,   77,    0, 1794,  206],\n",
              "       [1285,  623,   92,    0, 1794,  206],\n",
              "       [1319,  623,   58,    0, 1794,  206],\n",
              "       [1297,  623,   80,    0, 1794,  206],\n",
              "       [1318,  623,   59,    0, 1794,  206],\n",
              "       [1322,  623,   55,    0, 1794,  206],\n",
              "       [1315,  623,   62,    0, 1794,  206],\n",
              "       [1304,  623,   73,    0, 1794,  206],\n",
              "       [1316,  623,   61,    0, 1794,  206],\n",
              "       [1304,  623,   73,    0, 1794,  206],\n",
              "       [1304,  623,   73,    0, 1794,  206],\n",
              "       [1299,  645,   56,    0, 1755,  245],\n",
              "       [1302,  636,   62,    0, 1754,  246],\n",
              "       [1295,  646,   59,    0, 1755,  245],\n",
              "       [1290,  652,   58,    0, 1750,  250],\n",
              "       [1300,  635,   65,    0, 1736,  264],\n",
              "       [1291,  646,   63,    0, 1727,  273],\n",
              "       [1286,  652,   62,    0, 1733,  267],\n",
              "       [1294,  643,   63,    0, 1721,  279],\n",
              "       [1290,  647,   63,    0, 1719,  281],\n",
              "       [1291,  647,   62,    0, 1706,  294],\n",
              "       [1286,  652,   62,    0, 1707,  293],\n",
              "       [1289,  648,   63,    0, 1693,  307],\n",
              "       [1290,  647,   63,    0, 1685,  315],\n",
              "       [1286,  652,   62,    0, 1680,  320],\n",
              "       [1286,  652,   62,    0, 1658,  342],\n",
              "       [1286,  652,   62,    0, 1643,  357],\n",
              "       [1285,  653,   62,    0, 1638,  362],\n",
              "       [1285,  653,   62,    0, 1640,  360],\n",
              "       [1285,  653,   62,    0, 1634,  366],\n",
              "       [1285,  653,   62,    0, 1632,  368],\n",
              "       [1327,  653,   20,    0, 1632,  368],\n",
              "       [1336,  653,   11,    0, 1632,  368],\n",
              "       [1336,  653,   11,    0, 1632,  368],\n",
              "       [1315,  653,   32,    0, 1632,  368],\n",
              "       [1342,  653,    5,    0, 1632,  368],\n",
              "       [1342,  653,    5,    0, 1632,  368],\n",
              "       [1341,  653,    6,    0, 1632,  368],\n",
              "       [1324,  653,   23,    0, 1632,  368],\n",
              "       [1343,  653,    4,    0, 1632,  368],\n",
              "       [1343,  653,    4,    0, 1632,  368],\n",
              "       [1344,  653,    3,    0, 1632,  368],\n",
              "       [1345,  653,    2,    0, 1632,  368],\n",
              "       [1344,  653,    3,    0, 1632,  368],\n",
              "       [1345,  653,    2,    0, 1632,  368],\n",
              "       [1345,  653,    2,    0, 1632,  368],\n",
              "       [1345,  653,    2,    0, 1632,  368],\n",
              "       [1346,  653,    1,    0, 1632,  368]])"
            ]
          },
          "metadata": {
            "tags": []
          },
          "execution_count": 30
        }
      ]
    },
    {
      "cell_type": "code",
      "metadata": {
        "id": "GR7i12R_QymL"
      },
      "source": [
        "columns = [\"epochs\", \"argmax > 0.5\" ,\"argmax < 0.5\", \"focus_true_pred_true\", \"focus_false_pred_true\", \"focus_true_pred_false\", \"focus_false_pred_false\" ]\n",
        "df_train = pd.DataFrame()\n",
        "df_test = pd.DataFrame()\n",
        "df_train[columns[0]] = np.arange(0,epoch+2)\n",
        "df_train[columns[1]] = analysis_data_tr[:,-2]\n",
        "df_train[columns[2]] = analysis_data_tr[:,-1]\n",
        "df_train[columns[3]] = analysis_data_tr[:,0]/30\n",
        "df_train[columns[4]] = analysis_data_tr[:,1]/30\n",
        "df_train[columns[5]] = analysis_data_tr[:,2]/30\n",
        "df_train[columns[6]] = analysis_data_tr[:,3]/30\n",
        "\n",
        "df_test[columns[0]] = np.arange(0,epoch+2)\n",
        "df_test[columns[1]] = analysis_data_tst[:,-2]\n",
        "df_test[columns[2]] = analysis_data_tst[:,-1]\n",
        "df_test[columns[3]] = analysis_data_tst[:,0]/20\n",
        "df_test[columns[4]] = analysis_data_tst[:,1]/20\n",
        "df_test[columns[5]] = analysis_data_tst[:,2]/20\n",
        "df_test[columns[6]] = analysis_data_tst[:,3]/20"
      ],
      "execution_count": 31,
      "outputs": []
    },
    {
      "cell_type": "code",
      "metadata": {
        "id": "gYIlDhfYSg4y",
        "colab": {
          "base_uri": "https://localhost:8080/",
          "height": 404
        },
        "outputId": "543a0b08-7eba-4edf-befe-3cd3b328321d"
      },
      "source": [
        "# plt.figure(figsize=(12,12))\n",
        "# plt.plot(df_train[columns[0]],df_train[columns[1]], label='argmax > 0.5')\n",
        "# plt.plot(df_train[columns[0]],df_train[columns[2]], label='argmax < 0.5')\n",
        "\n",
        "# plt.legend(loc='center left', bbox_to_anchor=(1, 0.5))\n",
        "# plt.xlabel(\"epochs\")\n",
        "# plt.ylabel(\"training data\")\n",
        "# plt.title(\"On Training set\")\n",
        "# #plt.vlines(vline_list,min(min(df_train[columns[1]]),min(df_train[columns[2]])), max(max(df_train[columns[1]]),max(df_train[columns[2]])),linestyles='dotted')\n",
        "# plt.show()\n",
        "\n",
        "fig=plt.figure(figsize=(8,6))\n",
        "plt.plot(df_train[columns[0]],df_train[columns[3]], label =\"focus_true_pred_true \")\n",
        "plt.plot(df_train[columns[0]],df_train[columns[4]], label =\"focus_false_pred_true \")\n",
        "plt.plot(df_train[columns[0]],df_train[columns[5]], label =\"focus_true_pred_false \")\n",
        "plt.plot(df_train[columns[0]],df_train[columns[6]], label =\"focus_false_pred_false \")\n",
        "plt.title(\"On Train set\")\n",
        "plt.legend(loc='center left', bbox_to_anchor=(1, 0.5))\n",
        "plt.xlabel(\"epochs\")\n",
        "plt.ylabel(\"training data\")\n",
        "plt.vlines(vline_list,min(min(df_train[columns[3]]),min(df_train[columns[4]]),min(df_train[columns[5]]),min(df_train[columns[6]])), max(max(df_train[columns[3]]),max(df_train[columns[4]]),max(df_train[columns[5]]),max(df_train[columns[6]])),linestyles='dotted')\n",
        "plt.show()\n",
        "fig.savefig(\"train_analysis_every_20.pdf\")\n",
        "fig.savefig(\"train_analysis_every_20.png\")"
      ],
      "execution_count": 35,
      "outputs": [
        {
          "output_type": "display_data",
          "data": {
            "image/png": "[encoded data removed]",
            "text/plain": [
              "<Figure size 576x432 with 1 Axes>"
            ]
          },
          "metadata": {
            "tags": [],
            "needs_background": "light"
          }
        }
      ]
    },
    {
      "cell_type": "code",
      "metadata": {
        "id": "UPvuau_Id_Fi",
        "colab": {
          "base_uri": "https://localhost:8080/",
          "height": 404
        },
        "outputId": "1abc87c1-4445-4683-d2f2-60b7f1cde689"
      },
      "source": [
        "# plt.figure(figsize=(12,12))\n",
        "# plt.plot(df_test[columns[0]],df_test[columns[1]], label='argmax > 0.5')\n",
        "# plt.plot(df_test[columns[0]],df_test[columns[2]], label='argmax < 0.5')\n",
        "\n",
        "# plt.legend(loc='center left', bbox_to_anchor=(1, 0.5))\n",
        "# plt.xlabel(\"epochs\")\n",
        "# plt.ylabel(\"test data\")\n",
        "# plt.title(\"On Testing set\")\n",
        "# #plt.vlines(vline_list,min(min(df_test[columns[1]]),min(df_test[columns[2]])), max(max(df_test[columns[1]]),max(df_test[columns[2]])),linestyles='dotted')\n",
        "# plt.show()\n",
        "\n",
        "fig=plt.figure(figsize=(8,6))\n",
        "plt.plot(df_test[columns[0]],df_test[columns[3]], label =\"focus_true_pred_true \")\n",
        "plt.plot(df_test[columns[0]],df_test[columns[4]], label =\"focus_false_pred_true \")\n",
        "plt.plot(df_test[columns[0]],df_test[columns[5]], label =\"focus_true_pred_false \")\n",
        "plt.plot(df_test[columns[0]],df_test[columns[6]], label =\"focus_false_pred_false \")\n",
        "plt.title(\"On Test set\")\n",
        "plt.legend(loc='center left', bbox_to_anchor=(1, 0.5))\n",
        "plt.xlabel(\"epochs\")\n",
        "plt.ylabel(\"testing data\")\n",
        "plt.vlines(vline_list,min(min(df_test[columns[3]]),min(df_test[columns[4]]),min(df_test[columns[5]]),min(df_test[columns[6]])), max(max(df_test[columns[3]]),max(df_test[columns[4]]),max(df_test[columns[5]]),max(df_test[columns[6]])),linestyles='dotted')\n",
        "plt.show()\n",
        "fig.savefig(\"test_analysis_every_20.pdf\")\n",
        "fig.savefig(\"test_analysis_every_20.png\")"
      ],
      "execution_count": 36,
      "outputs": [
        {
          "output_type": "display_data",
          "data": {
            "image/png": "[encoded data removed]",
            "text/plain": [
              "<Figure size 576x432 with 1 Axes>"
            ]
          },
          "metadata": {
            "tags": [],
            "needs_background": "light"
          }
        }
      ]
    },
    {
      "cell_type": "code",
      "metadata": {
        "id": "hGgOLQseShsw",
        "colab": {
          "base_uri": "https://localhost:8080/",
          "height": 513
        },
        "outputId": "f1f51a45-8266-4ed9-cbf8-148d186fc633"
      },
      "source": [
        "fig = plt.figure(figsize = (8,8)) \n",
        "vline_list = np.arange(every_what_epoch, epoch + every_what_epoch, every_what_epoch)\n",
        "# train_loss = np.random.randn(340)\n",
        "# test_loss = np.random.randn(340)\n",
        "epoch_list = np.arange(0, epoch+1)\n",
        "plt.plot(epoch_list, blob_classify_acc , label='blob_classify_acc')\n",
        "#plt.plot(epoch_list,loss_curi_tst, label='test_loss')\n",
        "\n",
        "# plt.legend(loc='center left', bbox_to_anchor=(1, 0.5))\n",
        "plt.legend()\n",
        "plt.xlabel(\"epochs\")\n",
        "plt.ylabel(\"accuracy\")\n",
        "#plt.vlines(vline_list,min(min(loss_curi_tr),min(loss_curi_tst)), max(max(loss_curi_tst),max(loss_curi_tr)),linestyles='dotted')\n",
        "plt.title(\"blob 3 class classify accuracy\")\n",
        "plt.show()\n",
        "fig.savefig(\"blob_classify_acc_every_20_plot.pdf\")\n",
        "fig.savefig(\"blob_classify_acc_every_20_plot.png\")"
      ],
      "execution_count": 34,
      "outputs": [
        {
          "output_type": "display_data",
          "data": {
            "image/png": "[encoded data removed]",
            "text/plain": [
              "<Figure size 576x576 with 1 Axes>"
            ]
          },
          "metadata": {
            "tags": [],
            "needs_background": "light"
          }
        }
      ]
    },
    {
      "cell_type": "code",
      "metadata": {
        "id": "yanNSw3vO7j4"
      },
      "source": [
        ""
      ],
      "execution_count": 34,
      "outputs": []
    }
  ]
}