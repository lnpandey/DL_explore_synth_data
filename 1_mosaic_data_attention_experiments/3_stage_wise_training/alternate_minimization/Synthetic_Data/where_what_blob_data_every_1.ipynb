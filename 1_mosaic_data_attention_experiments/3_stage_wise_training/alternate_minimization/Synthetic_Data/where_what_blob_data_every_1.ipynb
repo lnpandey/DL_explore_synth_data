{
  "nbformat": 4,
  "nbformat_minor": 0,
  "metadata": {
    "accelerator": "GPU",
    "colab": {
      "name": "where_what_blob_data_every_1.ipynb",
      "provenance": [],
      "collapsed_sections": [
        "H0VVjc9qFqf_"
      ],
      "toc_visible": true
    },
    "kernelspec": {
      "display_name": "Python 3",
      "name": "python3"
    }
  },
  "cells": [
    {
      "cell_type": "code",
      "metadata": {
        "id": "VAYu3ISwwGks"
      },
      "source": [
        "import numpy as np\n",
        "import pandas as pd\n",
        "\n",
        "import torch\n",
        "import torchvision\n",
        "from torch.utils.data import Dataset, DataLoader\n",
        "from torchvision import transforms, utils\n",
        "import torch.nn as nn\n",
        "import torch.nn.functional as F\n",
        "import torch.optim as optim\n",
        "\n",
        "from matplotlib import pyplot as plt\n",
        "%matplotlib inline"
      ],
      "execution_count": 1,
      "outputs": []
    },
    {
      "cell_type": "markdown",
      "metadata": {
        "id": "H0VVjc9qFqf_"
      },
      "source": [
        "# Create blob Train and Test data"
      ]
    },
    {
      "cell_type": "code",
      "metadata": {
        "id": "mpdNNb8wFp56"
      },
      "source": [
        "# mu1 = np.array([3,3,3,3,0])\n",
        "# sigma1 = np.array([[1,1,1,1,1],[1,16,1,1,1],[1,1,1,1,1],[1,1,1,1,1],[1,1,1,1,1]])\n",
        "\n",
        "# mu2 = np.array([4,4,4,4,0])\n",
        "# sigma2 = np.array([[16,1,1,1,1],[1,1,1,1,1],[1,1,1,1,1],[1,1,1,1,1],[1,1,1,1,1]])\n",
        "\n",
        "# mu3 = np.array([10,5,5,10,0])\n",
        "# sigma3 = np.array([[1,1,1,1,1],[1,16,1,1,1],[1,1,1,1,1],[1,1,1,1,1],[1,1,1,1,1]])\n",
        "\n",
        "# mu4 = np.array([-10,-10,-10,-10,0])\n",
        "# sigma4 = np.array([[1,1,1,1,1],[1,16,1,1,1],[1,1,1,1,1],[1,1,1,1,1],[1,1,1,1,1]])\n",
        "\n",
        "# mu5 = np.array([-21,4,4,-21,0])\n",
        "# sigma5 = np.array([[16,1,1,1,1],[1,1,1,1,1],[1,1,1,1,1],[1,1,1,1,1],[1,1,1,1,1]])\n",
        "\n",
        "# mu6 = np.array([-10,18,18,-10,0])\n",
        "# sigma6 = np.array([[1,1,1,1,1],[1,16,1,1,1],[1,1,1,1,1],[1,1,1,1,1],[1,1,1,1,1]])\n",
        "\n",
        "# mu7 = np.array([4,20,4,20,0])\n",
        "# sigma7 = np.array([[16,1,1,1,1],[1,1,1,1,1],[1,1,1,1,1],[1,1,1,1,1],[1,1,1,1,1]])\n",
        "\n",
        "# mu8 = np.array([4,-20,-20,4,0])\n",
        "# sigma8 = np.array([[16,1,1,1,1],[1,1,1,1,1],[1,1,1,1,1],[1,1,1,1,1],[1,1,1,1,1]])\n",
        "\n",
        "# mu9 = np.array([20,20,20,20,0])\n",
        "# sigma9 = np.array([[1,1,1,1,1],[1,16,1,1,1],[1,1,1,1,1],[1,1,1,1,1],[1,1,1,1,1]])\n",
        "\n",
        "# mu10 = np.array([20,-10,-10,20,0])\n",
        "# sigma10 = np.array([[1,1,1,1,1],[1,16,1,1,1],[1,1,1,1,1],[1,1,1,1,1],[1,1,1,1,1]])\n",
        "\n",
        "\n",
        "\n",
        "# sample1 = np.random.multivariate_normal(mean=mu1,cov= sigma1,size=500)\n",
        "# sample2 = np.random.multivariate_normal(mean=mu2,cov= sigma2,size=500)\n",
        "# sample3 = np.random.multivariate_normal(mean=mu3,cov= sigma3,size=500)\n",
        "# sample4 = np.random.multivariate_normal(mean=mu4,cov= sigma4,size=500)\n",
        "# sample5 = np.random.multivariate_normal(mean=mu5,cov= sigma5,size=500)\n",
        "# sample6 = np.random.multivariate_normal(mean=mu6,cov= sigma6,size=500)\n",
        "# sample7 = np.random.multivariate_normal(mean=mu7,cov= sigma7,size=500)\n",
        "# sample8 = np.random.multivariate_normal(mean=mu8,cov= sigma8,size=500)\n",
        "# sample9 = np.random.multivariate_normal(mean=mu9,cov= sigma9,size=500)\n",
        "# sample10 = np.random.multivariate_normal(mean=mu10,cov= sigma10,size=500)"
      ],
      "execution_count": 2,
      "outputs": []
    },
    {
      "cell_type": "code",
      "metadata": {
        "id": "GVwzqqNxFwzN"
      },
      "source": [
        "# X = np.concatenate((sample1,sample2,sample3,sample4,sample5,sample6,sample7,sample8,sample9,sample10),axis=0)\n",
        "# Y = np.concatenate((np.zeros((500,1)),np.ones((500,1)),2*np.ones((500,1)),3*np.ones((500,1)),4*np.ones((500,1)),\n",
        "#                     5*np.ones((500,1)),6*np.ones((500,1)),7*np.ones((500,1)),8*np.ones((500,1)),9*np.ones((500,1))),axis=0).astype(int)\n",
        "# print(X.shape,Y.shape)\n",
        "# plt.scatter(sample1[:,0],sample1[:,1],label=\"class_0\")\n",
        "# plt.scatter(sample2[:,0],sample2[:,1],label=\"class_1\")\n",
        "# plt.scatter(sample3[:,0],sample3[:,1],label=\"class_2\")\n",
        "# plt.scatter(sample4[:,0],sample4[:,1],label=\"class_3\")\n",
        "# plt.scatter(sample5[:,0],sample5[:,1],label=\"class_4\")\n",
        "# plt.scatter(sample6[:,0],sample6[:,1],label=\"class_5\")\n",
        "# plt.scatter(sample7[:,0],sample7[:,1],label=\"class_6\")\n",
        "# plt.scatter(sample8[:,0],sample8[:,1],label=\"class_7\")\n",
        "# plt.scatter(sample9[:,0],sample9[:,1],label=\"class_8\")\n",
        "# plt.scatter(sample10[:,0],sample10[:,1],label=\"class_9\")\n",
        "# plt.legend(bbox_to_anchor=(1.05, 1), loc='upper left')"
      ],
      "execution_count": 3,
      "outputs": []
    },
    {
      "cell_type": "code",
      "metadata": {
        "id": "kdLONe1TFwcv"
      },
      "source": [
        "# class SyntheticDataset(Dataset):\n",
        "#   \"\"\"MosaicDataset dataset.\"\"\"\n",
        "\n",
        "#   def __init__(self, x, y):\n",
        "#     \"\"\"\n",
        "#       Args:\n",
        "#         csv_file (string): Path to the csv file with annotations.\n",
        "#         root_dir (string): Directory with all the images.\n",
        "#         transform (callable, optional): Optional transform to be applied\n",
        "#             on a sample.\n",
        "#     \"\"\"\n",
        "#     self.x = x\n",
        "#     self.y = y\n",
        "#     #self.fore_idx = fore_idx\n",
        "    \n",
        "#   def __len__(self):\n",
        "#     return len(self.y)\n",
        "\n",
        "#   def __getitem__(self, idx):\n",
        "#     return self.x[idx] , self.y[idx] #, self.fore_idx[idx]"
      ],
      "execution_count": 4,
      "outputs": []
    },
    {
      "cell_type": "code",
      "metadata": {
        "id": "am81Wr7lFwTn"
      },
      "source": [
        "# trainset = SyntheticDataset(X,Y)\n",
        "# trainloader = torch.utils.data.DataLoader(trainset, batch_size=100, shuffle=True)\n",
        "# classes = ('zero','one','two','three','four','five','six','seven','eight','nine')\n",
        "\n",
        "# foreground_classes = {'zero','one','two'}\n",
        "# fg_used = '012'\n",
        "# fg1, fg2, fg3 = 0,1,2\n",
        "\n",
        "\n",
        "# all_classes = {'zero','one','two','three','four','five','six','seven','eight','nine'}\n",
        "# background_classes = all_classes - foreground_classes\n",
        "# background_classes"
      ],
      "execution_count": 5,
      "outputs": []
    },
    {
      "cell_type": "code",
      "metadata": {
        "id": "_lopYyy7G--q"
      },
      "source": [
        "# dataiter = iter(trainloader)\n",
        "# background_data=[]\n",
        "# background_label=[]\n",
        "# foreground_data=[]\n",
        "# foreground_label=[]\n",
        "# batch_size=100\n",
        "\n",
        "# for i in range(50):\n",
        "#   images, labels = dataiter.next()\n",
        "#   for j in range(batch_size):\n",
        "#     if(classes[labels[j]] in background_classes):\n",
        "#       img = images[j].tolist()\n",
        "#       background_data.append(img)\n",
        "#       background_label.append(labels[j])\n",
        "#     else:\n",
        "#       img = images[j].tolist()\n",
        "#       foreground_data.append(img)\n",
        "#       foreground_label.append(labels[j])\n",
        "            \n",
        "# foreground_data = torch.tensor(foreground_data)\n",
        "# foreground_label = torch.tensor(foreground_label)\n",
        "# background_data = torch.tensor(background_data)\n",
        "# background_label = torch.tensor(background_label)"
      ],
      "execution_count": 6,
      "outputs": []
    },
    {
      "cell_type": "code",
      "metadata": {
        "id": "JnT8fc5DMAa0"
      },
      "source": [
        "# def create_mosaic_img(bg_idx,fg_idx,fg): \n",
        "#   \"\"\"\n",
        "#   bg_idx : list of indexes of background_data[] to be used as background images in mosaic\n",
        "#   fg_idx : index of image to be used as foreground image from foreground data\n",
        "#   fg : at what position/index foreground image has to be stored out of 0-8\n",
        "#   \"\"\"\n",
        "#   image_list=[]\n",
        "#   j=0\n",
        "#   for i in range(9):\n",
        "#     if i != fg:\n",
        "#       image_list.append(background_data[bg_idx[j]])\n",
        "#       j+=1\n",
        "#     else: \n",
        "#       image_list.append(foreground_data[fg_idx])\n",
        "#       label = foreground_label[fg_idx] - fg1  # minus fg1 because our fore ground classes are fg1,fg2,fg3 but we have to store it as 0,1,2\n",
        "#   #image_list = np.concatenate(image_list ,axis=0)\n",
        "#   image_list = torch.stack(image_list) \n",
        "#   return image_list,label"
      ],
      "execution_count": 7,
      "outputs": []
    },
    {
      "cell_type": "code",
      "metadata": {
        "id": "kd4r_sXhMDCu"
      },
      "source": [
        "# # number of data points in bg class and fg class\n",
        "# nbg = 500*7\n",
        "# nfg   = 500*3\n",
        "\n",
        "# print(nbg, nfg, nbg+nfg)"
      ],
      "execution_count": 8,
      "outputs": []
    },
    {
      "cell_type": "code",
      "metadata": {
        "id": "2zq2xQCBMC7j"
      },
      "source": [
        "# desired_num = 3000\n",
        "# mosaic_list_of_images =[]      # list of mosaic images, each mosaic image is saved as list of 9 images\n",
        "# fore_idx =[]                   # list of indexes at which foreground image is present in a mosaic image i.e from 0 to 9               \n",
        "# mosaic_label=[]                # label of mosaic image = foreground class present in that mosaic\n",
        "# list_set_labels = [] \n",
        "# for i in range(desired_num):\n",
        "#   set_idx = set()\n",
        "#   np.random.seed(i)\n",
        "#   bg_idx = np.random.randint(0,nbg,8)\n",
        "#   set_idx = set(background_label[bg_idx].tolist())\n",
        "#   fg_idx = np.random.randint(0,nfg)\n",
        "#   set_idx.add(foreground_label[fg_idx].item())\n",
        "#   fg = np.random.randint(0,9)\n",
        "#   fore_idx.append(fg)\n",
        "#   image_list,label = create_mosaic_img(bg_idx,fg_idx,fg)\n",
        "#   mosaic_list_of_images.append(image_list)\n",
        "#   mosaic_label.append(label)\n",
        "#   list_set_labels.append(set_idx)\n"
      ],
      "execution_count": 9,
      "outputs": []
    },
    {
      "cell_type": "code",
      "metadata": {
        "id": "8pqXIPlNMCyz"
      },
      "source": [
        "# desired_num = 2000\n",
        "# test_mosaic_list_of_images =[]      # list of mosaic images, each mosaic image is saved as list of 9 images\n",
        "# test_fore_idx =[]                   # list of indexes at which foreground image is present in a mosaic image i.e from 0 to 9               \n",
        "# test_mosaic_label=[]                # label of mosaic image = foreground class present in that mosaic\n",
        "# test_list_set_labels = [] \n",
        "# for i in range(desired_num):\n",
        "#   set_idx = set()\n",
        "#   np.random.seed(i+3000)\n",
        "#   bg_idx = np.random.randint(0,nbg,8)\n",
        "#   set_idx = set(background_label[bg_idx].tolist())\n",
        "#   fg_idx = np.random.randint(0,nfg)\n",
        "#   set_idx.add(foreground_label[fg_idx].item())\n",
        "#   fg = np.random.randint(0,9)\n",
        "#   test_fore_idx.append(fg)\n",
        "#   test_image_list,test_label = create_mosaic_img(bg_idx,fg_idx,fg)\n",
        "#   test_mosaic_list_of_images.append(test_image_list)\n",
        "#   test_mosaic_label.append(test_label)\n",
        "#   test_list_set_labels.append(set_idx)\n"
      ],
      "execution_count": 10,
      "outputs": []
    },
    {
      "cell_type": "code",
      "metadata": {
        "id": "Sxq58WbtMmKq"
      },
      "source": [
        "# data =  [{\"mosaic_list\":mosaic_list_of_images, \"mosaic_label\": mosaic_label, \"fore_idx\":fore_idx}]\n",
        "# np.save(\"train_blob_data.npy\",data)"
      ],
      "execution_count": 11,
      "outputs": []
    },
    {
      "cell_type": "code",
      "metadata": {
        "id": "hNnqO6yKMCoR"
      },
      "source": [
        "# data =  [{\"mosaic_list\":test_mosaic_list_of_images, \"mosaic_label\": test_mosaic_label, \"fore_idx\":test_fore_idx}]\n",
        "# np.save(\"test_blob_data.npy\",data)"
      ],
      "execution_count": 12,
      "outputs": []
    },
    {
      "cell_type": "code",
      "metadata": {
        "id": "DSZpS3F5Jnhz"
      },
      "source": [
        "# data = [{\"X\":X,\"Y\":Y}]\n",
        "# np.save(\"blob_data.npy\",data)"
      ],
      "execution_count": 13,
      "outputs": []
    },
    {
      "cell_type": "markdown",
      "metadata": {
        "id": "y4ZKaqzq_vcD"
      },
      "source": [
        "# load mosaic data"
      ]
    },
    {
      "cell_type": "code",
      "metadata": {
        "id": "6_dZKEaJAQ2Y"
      },
      "source": [
        "class MosaicDataset1(Dataset):\n",
        "  \"\"\"MosaicDataset dataset.\"\"\"\n",
        "\n",
        "  def __init__(self, mosaic_list, mosaic_label,fore_idx):\n",
        "    \"\"\"\n",
        "      Args:\n",
        "        csv_file (string): Path to the csv file with annotations.\n",
        "        root_dir (string): Directory with all the images.\n",
        "        transform (callable, optional): Optional transform to be applied\n",
        "            on a sample.\n",
        "    \"\"\"\n",
        "    self.mosaic = mosaic_list\n",
        "    self.label = mosaic_label\n",
        "    self.fore_idx = fore_idx\n",
        "    \n",
        "  def __len__(self):\n",
        "    return len(self.label)\n",
        "\n",
        "  def __getitem__(self, idx):\n",
        "    return self.mosaic[idx] , self.label[idx] , self.fore_idx[idx]"
      ],
      "execution_count": 14,
      "outputs": []
    },
    {
      "cell_type": "code",
      "metadata": {
        "id": "9tn26Ne1KXs4"
      },
      "source": [
        "class SyntheticDataset(Dataset):\n",
        "  \"\"\"MosaicDataset dataset.\"\"\"\n",
        "\n",
        "  def __init__(self, x, y):\n",
        "    \"\"\"\n",
        "      Args:\n",
        "        csv_file (string): Path to the csv file with annotations.\n",
        "        root_dir (string): Directory with all the images.\n",
        "        transform (callable, optional): Optional transform to be applied\n",
        "            on a sample.\n",
        "    \"\"\"\n",
        "    self.x = x\n",
        "    self.y = y\n",
        "    #self.fore_idx = fore_idx\n",
        "    \n",
        "  def __len__(self):\n",
        "    return len(self.y)\n",
        "\n",
        "  def __getitem__(self, idx):\n",
        "    return self.x[idx] , self.y[idx] #, self.fore_idx[idx]"
      ],
      "execution_count": 15,
      "outputs": []
    },
    {
      "cell_type": "code",
      "metadata": {
        "id": "UWxCb_h8AQpf"
      },
      "source": [
        "train_data = np.load(\"train_blob_data.npy\",allow_pickle=True)\n",
        "test_data = np.load(\"test_blob_data.npy\",allow_pickle=True)\n",
        "data = np.load(\"blob_data.npy\",allow_pickle=True)"
      ],
      "execution_count": 16,
      "outputs": []
    },
    {
      "cell_type": "code",
      "metadata": {
        "id": "WR0bl63TAQI9"
      },
      "source": [
        "train_mosaic_list_of_images = train_data[0][\"mosaic_list\"]\n",
        "train_mosaic_label = train_data[0][\"mosaic_label\"]\n",
        "train_fore_idx = train_data[0][\"fore_idx\"]\n",
        "\n",
        "\n",
        "test_mosaic_list_of_images = test_data[0][\"mosaic_list\"]\n",
        "test_mosaic_label = test_data[0][\"mosaic_label\"]\n",
        "test_fore_idx = test_data[0][\"fore_idx\"]\n",
        "X = data[0][\"X\"]\n",
        "Y = data[0][\"Y\"]"
      ],
      "execution_count": 17,
      "outputs": []
    },
    {
      "cell_type": "code",
      "metadata": {
        "id": "GVS6xb4fAZ_P"
      },
      "source": [
        "batch = 250\n",
        "tr_msd = MosaicDataset1(train_mosaic_list_of_images, train_mosaic_label, train_fore_idx)\n",
        "train_loader = DataLoader( tr_msd,batch_size= batch ,shuffle=True)"
      ],
      "execution_count": 18,
      "outputs": []
    },
    {
      "cell_type": "code",
      "metadata": {
        "id": "Mn1Xql2gNrUH"
      },
      "source": [
        "batch = 250\n",
        "tst_msd = MosaicDataset1(test_mosaic_list_of_images, test_mosaic_label, test_fore_idx)\n",
        "test_loader = DataLoader( tst_msd,batch_size= batch ,shuffle=True)"
      ],
      "execution_count": 19,
      "outputs": []
    },
    {
      "cell_type": "code",
      "metadata": {
        "id": "hQNLGobaKa2s"
      },
      "source": [
        "dset = SyntheticDataset(X,Y)\n",
        "dtloader = DataLoader(dset,batch_size =batch,shuffle=True )"
      ],
      "execution_count": 20,
      "outputs": []
    },
    {
      "cell_type": "markdown",
      "metadata": {
        "id": "ARLPPASQ_2gB"
      },
      "source": [
        "# models"
      ]
    },
    {
      "cell_type": "code",
      "metadata": {
        "id": "T1Y0mCQzjSV0"
      },
      "source": [
        "class Module1(nn.Module):\n",
        "  def __init__(self):\n",
        "    super(Module1, self).__init__()\n",
        "    self.fc1 = nn.Linear(5, 100)\n",
        "    self.fc2 = nn.Linear(100, 1)\n",
        "\n",
        "  def forward(self, z):\n",
        "    x = torch.zeros([batch,9],dtype=torch.float64)\n",
        "    y = torch.zeros([batch,5], dtype=torch.float64)\n",
        "    x,y = x.to(\"cuda\"),y.to(\"cuda\")\n",
        "    for i in range(9):\n",
        "      x[:,i] = self.helper(z[:,i])[:,0]\n",
        "    x = F.softmax(x,dim=1)   # alphas\n",
        "    \n",
        "\n",
        "    for i in range(9):            \n",
        "      x1 = x[:,i]          \n",
        "      y = y + torch.mul(x1[:,None],z[:,i])\n",
        "    return y , x \n",
        "  \n",
        "  def helper(self,x):\n",
        "    x = F.relu(self.fc1(x))\n",
        "    x = self.fc2(x)\n",
        "    return x\n",
        "      \n"
      ],
      "execution_count": 21,
      "outputs": []
    },
    {
      "cell_type": "code",
      "metadata": {
        "id": "zt9YwV5rjSK_"
      },
      "source": [
        " class Module2(nn.Module):\n",
        "  def __init__(self):\n",
        "    super(Module2, self).__init__()\n",
        "    self.fc1 = nn.Linear(5, 100)\n",
        "    self.fc2 = nn.Linear(100, 3)\n",
        "\n",
        "  def forward(self,y):  \n",
        "    y = F.relu(self.fc1(y))\n",
        "    y = self.fc2(y)\n",
        "    return y\n"
      ],
      "execution_count": 22,
      "outputs": []
    },
    {
      "cell_type": "code",
      "metadata": {
        "id": "UJbdW7cijRsr"
      },
      "source": [
        "torch.manual_seed(1234)\n",
        "where_net = Module1().double()\n",
        "where_net = where_net.to(\"cuda\")\n",
        "# print(net.parameters)\n",
        "torch.manual_seed(1234)\n",
        "what_net = Module2().double()\n",
        "what_net = what_net.to(\"cuda\")"
      ],
      "execution_count": 23,
      "outputs": []
    },
    {
      "cell_type": "code",
      "metadata": {
        "id": "ehAfQnNwgFYX"
      },
      "source": [
        "def calculate_attn_loss(dataloader,what,where,criter):\n",
        "  what.eval()\n",
        "  where.eval()\n",
        "  r_loss = 0\n",
        "  alphas = []\n",
        "  lbls = []\n",
        "  pred = []\n",
        "  fidices = []\n",
        "  correct = 0\n",
        "  tot = 0\n",
        "  with torch.no_grad():\n",
        "    for i, data in enumerate(dataloader, 0):\n",
        "      inputs, labels,fidx = data\n",
        "      lbls.append(labels)\n",
        "      fidices.append(fidx)\n",
        "      inputs = inputs.double()\n",
        "      inputs, labels = inputs.to(\"cuda\"),labels.to(\"cuda\")\n",
        "      avg,alpha = where(inputs)\n",
        "      outputs = what(avg)\n",
        "      _, predicted = torch.max(outputs.data, 1)\n",
        "      correct += sum(predicted == labels)\n",
        "      tot += len(predicted)\n",
        "      pred.append(predicted.cpu().numpy())\n",
        "      alphas.append(alpha.cpu().numpy())\n",
        "      loss = criter(outputs, labels)\n",
        "      r_loss += loss.item()\n",
        "  alphas = np.concatenate(alphas,axis=0)\n",
        "  pred = np.concatenate(pred,axis=0)\n",
        "  lbls = np.concatenate(lbls,axis=0)\n",
        "  fidices = np.concatenate(fidices,axis=0)\n",
        "  #print(alphas.shape,pred.shape,lbls.shape,fidices.shape) \n",
        "  analysis = analyse_data(alphas,lbls,pred,fidices)\n",
        "  return r_loss/i,analysis,correct.item(),tot,correct.item()/tot"
      ],
      "execution_count": 24,
      "outputs": []
    },
    {
      "cell_type": "code",
      "metadata": {
        "id": "6e9HQJMzxBhp"
      },
      "source": [
        "def analyse_data(alphas,lbls,predicted,f_idx):\n",
        "    '''\n",
        "       analysis data is created here\n",
        "    '''\n",
        "    batch = len(predicted)\n",
        "    amth,alth,ftpt,ffpt,ftpf,ffpf = 0,0,0,0,0,0\n",
        "    for j in range (batch):\n",
        "      focus = np.argmax(alphas[j])\n",
        "      if(alphas[j][focus] >= 0.5):\n",
        "        amth +=1\n",
        "      else:\n",
        "        alth +=1\n",
        "      if(focus == f_idx[j] and predicted[j] == lbls[j]):\n",
        "        ftpt += 1\n",
        "      elif(focus != f_idx[j] and predicted[j] == lbls[j]):\n",
        "        ffpt +=1\n",
        "      elif(focus == f_idx[j] and predicted[j] != lbls[j]):\n",
        "        ftpf +=1\n",
        "      elif(focus != f_idx[j] and predicted[j] != lbls[j]):\n",
        "        ffpf +=1\n",
        "    #print(sum(predicted==lbls),ftpt+ffpt)\n",
        "    return [ftpt,ffpt,ftpf,ffpf,amth,alth]"
      ],
      "execution_count": 25,
      "outputs": []
    },
    {
      "cell_type": "code",
      "metadata": {
        "id": "cu6qMiWpK1IA"
      },
      "source": [
        "def cal_blob_accuracy(data_loader):\n",
        "  net = Module2().double()\n",
        "  net = net.to(\"cuda\")\n",
        "  net.load_state_dict(torch.load(\"Net.pt\"))\n",
        "  pred = []\n",
        "  lbls = []\n",
        "  net.eval()\n",
        "  with torch.no_grad():\n",
        "    for i, data in enumerate(data_loader, 0):\n",
        "      inputs, labels= data\n",
        "      inputs = inputs.double()\n",
        "      inputs, labels = inputs.to(\"cuda\"),labels.to(\"cuda\")\n",
        "      lbls.append(labels.cpu().numpy())\n",
        "      outputs = net(inputs)\n",
        "      _, predicted = torch.max(outputs.data, 1)\n",
        "      pred.append(predicted.cpu().numpy())\n",
        "  #print(np.shape(lbls))\n",
        "  lbls  = np.concatenate(lbls,axis=0)\n",
        "  lbls = lbls[:,0]\n",
        "  #print(lbls.shape)\n",
        "  pred = np.concatenate(pred,axis=0)\n",
        "  idxs = np.logical_or(np.logical_or(lbls==0,lbls==1),lbls ==2)\n",
        "  #print(idxs)\n",
        "  acc = (np.sum(lbls[idxs] == pred[idxs]) / (len(lbls[idxs])) )*100\n",
        "\n",
        "  print(\"Accuracy on CIFAR10 0,1,2 classes is \",acc )\n",
        "  return acc"
      ],
      "execution_count": 26,
      "outputs": []
    },
    {
      "cell_type": "markdown",
      "metadata": {
        "id": "a2AlGgRa_6_H"
      },
      "source": [
        "# training"
      ]
    },
    {
      "cell_type": "code",
      "metadata": {
        "colab": {
          "base_uri": "https://localhost:8080/"
        },
        "id": "MOfxUJZ_eFKw",
        "outputId": "47d84ed0-6b1d-4e57-ad7e-3cb3806968d9"
      },
      "source": [
        "# instantiate optimizer\n",
        "optimizer_where = optim.RMSprop(where_net.parameters(),lr =0.001)#,nesterov=True)\n",
        "optimizer_what = optim.RMSprop(what_net.parameters(), lr=0.001)#,nesterov=True)\n",
        " \n",
        "\n",
        "criterion = nn.CrossEntropyLoss()\n",
        "acti = []\n",
        "analysis_data_tr = []\n",
        "analysis_data_tst = []\n",
        "loss_curi_tst = []\n",
        "loss_curi_tr = []\n",
        "blob_classify_acc  = []\n",
        "epochs = 450\n",
        "\n",
        "every_what_epoch = 1 \n",
        "\n",
        "# calculate zeroth epoch loss and FTPT values\n",
        "running_loss,anlys_data,correct,total,accuracy = calculate_attn_loss(train_loader,what_net,where_net,criterion)\n",
        "print('training epoch: [%d ] loss: %.3f correct: %.3f, total: %.3f, accuracy: %.3f' %(0,running_loss,correct,total,accuracy)) \n",
        "loss_curi_tr.append(running_loss)\n",
        "analysis_data_tr.append(anlys_data)\n",
        "\n",
        "\n",
        "\n",
        "running_loss,anlys_data,correct,total,accuracy = calculate_attn_loss(test_loader,what_net,where_net,criterion)\n",
        "print('test epoch: [%d ] loss: %.3f correct: %.3f, total: %.3f, accuracy: %.3f' %(0,running_loss,correct,total,accuracy)) \n",
        "\n",
        "loss_curi_tst.append(running_loss)\n",
        "analysis_data_tst.append(anlys_data)\n",
        "\n",
        "\n",
        "# training starts \n",
        "for epoch in range(epochs): # loop over the dataset multiple times\n",
        "  ep_lossi = []\n",
        "  running_loss = 0.0\n",
        "  what_net.train()\n",
        "  where_net.train()\n",
        "  if ((epoch) % (every_what_epoch*2) ) <= every_what_epoch-1 :\n",
        "    print(epoch+1,\"updating where_net, what_net is freezed\")\n",
        "    print(\"--\"*40)\n",
        "  elif ((epoch) % (every_what_epoch*2)) > every_what_epoch-1 :\n",
        "    print(epoch+1,\"updating what_net, where_net is freezed\")\n",
        "    print(\"--\"*40)\n",
        "  for i, data in enumerate(train_loader, 0):\n",
        "    # get the inputs\n",
        "    inputs, labels,_ = data\n",
        "    inputs = inputs.double()\n",
        "    inputs, labels = inputs.to(\"cuda\"),labels.to(\"cuda\")\n",
        "        \n",
        "    # zero the parameter gradients\n",
        "    optimizer_where.zero_grad()\n",
        "    optimizer_what.zero_grad()\n",
        "      \n",
        "    # forward + backward + optimize\n",
        "    avg, alpha = where_net(inputs)\n",
        "    outputs = what_net(avg)\n",
        "    loss = criterion(outputs, labels)\n",
        "\n",
        "    # print statistics\n",
        "    running_loss += loss.item()\n",
        "    loss.backward()\n",
        "    if ((epoch) % (every_what_epoch*2) ) <= every_what_epoch-1 :\n",
        "      optimizer_where.step()\n",
        "    elif ( (epoch) % (every_what_epoch*2)) > every_what_epoch-1 :\n",
        "      optimizer_what.step()\n",
        "      \n",
        "  running_loss_tr,anls_data,correct,total,accuracy = calculate_attn_loss(train_loader,what_net,where_net,criterion)\n",
        "  analysis_data_tr.append(anls_data)\n",
        "  loss_curi_tr.append(running_loss_tr)   #loss per epoch\n",
        "  print('training epoch: [%d ] loss: %.3f correct: %.3f, total: %.3f, accuracy: %.3f' %(epoch+1,running_loss_tr,correct,total,accuracy)) \n",
        "\n",
        "\n",
        "  # calculate loss for test data\n",
        "  running_loss_tst,anls_data,correct,total,accuracy = calculate_attn_loss(test_loader,what_net,where_net,criterion)\n",
        "  analysis_data_tst.append(anls_data)\n",
        "  loss_curi_tst.append(running_loss_tst)   #loss per epoch\n",
        "  print('test epoch: [%d ] loss: %.3f correct: %.3f, total: %.3f, accuracy: %.3f' %(epoch+1,running_loss_tst,correct,total,accuracy)) \n",
        "  torch.save(what_net.state_dict(),\"Net.pt\")\n",
        "  blob_classify_acc.append(cal_blob_accuracy(dtloader))\n",
        "  if running_loss_tr<=0.05:\n",
        "    break\n",
        "  # if ((epoch) % (every_what_epoch*2) ) <= every_what_epoch-1 :\n",
        "  #   scheduler_what.step(running_loss_val)\n",
        "  # elif ( (epoch) % (every_what_epoch*2)) > every_what_epoch-1 :\n",
        "  #   scheduler_where.step(running_loss_val)\n",
        "print('Finished Training run ')\n",
        "analysis_data_tr = np.array(analysis_data_tr) \n",
        "analysis_data_tst = np.array(analysis_data_tst)"
      ],
      "execution_count": 27,
      "outputs": [
        {
          "output_type": "stream",
          "text": [
            "training epoch: [0 ] loss: 1.938 correct: 969.000, total: 3000.000, accuracy: 0.323\n",
            "test epoch: [0 ] loss: 2.015 correct: 645.000, total: 2000.000, accuracy: 0.323\n",
            "1 updating where_net, what_net is freezed\n",
            "--------------------------------------------------------------------------------\n",
            "training epoch: [1 ] loss: 1.299 correct: 777.000, total: 3000.000, accuracy: 0.259\n",
            "test epoch: [1 ] loss: 1.351 correct: 533.000, total: 2000.000, accuracy: 0.267\n",
            "Accuracy on CIFAR10 0,1,2 classes is  13.933333333333334\n",
            "2 updating what_net, where_net is freezed\n",
            "--------------------------------------------------------------------------------\n",
            "training epoch: [2 ] loss: 1.096 correct: 1480.000, total: 3000.000, accuracy: 0.493\n",
            "test epoch: [2 ] loss: 1.150 correct: 949.000, total: 2000.000, accuracy: 0.474\n",
            "Accuracy on CIFAR10 0,1,2 classes is  59.333333333333336\n",
            "3 updating where_net, what_net is freezed\n",
            "--------------------------------------------------------------------------------\n",
            "training epoch: [3 ] loss: 0.920 correct: 1687.000, total: 3000.000, accuracy: 0.562\n",
            "test epoch: [3 ] loss: 0.977 correct: 1090.000, total: 2000.000, accuracy: 0.545\n",
            "Accuracy on CIFAR10 0,1,2 classes is  59.333333333333336\n",
            "4 updating what_net, where_net is freezed\n",
            "--------------------------------------------------------------------------------\n",
            "training epoch: [4 ] loss: 0.605 correct: 2628.000, total: 3000.000, accuracy: 0.876\n",
            "test epoch: [4 ] loss: 0.649 correct: 1735.000, total: 2000.000, accuracy: 0.868\n",
            "Accuracy on CIFAR10 0,1,2 classes is  86.46666666666667\n",
            "5 updating where_net, what_net is freezed\n",
            "--------------------------------------------------------------------------------\n",
            "training epoch: [5 ] loss: 0.540 correct: 2643.000, total: 3000.000, accuracy: 0.881\n",
            "test epoch: [5 ] loss: 0.577 correct: 1748.000, total: 2000.000, accuracy: 0.874\n",
            "Accuracy on CIFAR10 0,1,2 classes is  86.46666666666667\n",
            "6 updating what_net, where_net is freezed\n",
            "--------------------------------------------------------------------------------\n",
            "training epoch: [6 ] loss: 0.407 correct: 2767.000, total: 3000.000, accuracy: 0.922\n",
            "test epoch: [6 ] loss: 0.439 correct: 1816.000, total: 2000.000, accuracy: 0.908\n",
            "Accuracy on CIFAR10 0,1,2 classes is  89.60000000000001\n",
            "7 updating where_net, what_net is freezed\n",
            "--------------------------------------------------------------------------------\n",
            "training epoch: [7 ] loss: 0.391 correct: 2773.000, total: 3000.000, accuracy: 0.924\n",
            "test epoch: [7 ] loss: 0.420 correct: 1820.000, total: 2000.000, accuracy: 0.910\n",
            "Accuracy on CIFAR10 0,1,2 classes is  89.60000000000001\n",
            "8 updating what_net, where_net is freezed\n",
            "--------------------------------------------------------------------------------\n",
            "training epoch: [8 ] loss: 0.314 correct: 2819.000, total: 3000.000, accuracy: 0.940\n",
            "test epoch: [8 ] loss: 0.339 correct: 1857.000, total: 2000.000, accuracy: 0.928\n",
            "Accuracy on CIFAR10 0,1,2 classes is  90.8\n",
            "9 updating where_net, what_net is freezed\n",
            "--------------------------------------------------------------------------------\n",
            "training epoch: [9 ] loss: 0.308 correct: 2820.000, total: 3000.000, accuracy: 0.940\n",
            "test epoch: [9 ] loss: 0.331 correct: 1857.000, total: 2000.000, accuracy: 0.928\n",
            "Accuracy on CIFAR10 0,1,2 classes is  90.8\n",
            "10 updating what_net, where_net is freezed\n",
            "--------------------------------------------------------------------------------\n",
            "training epoch: [10 ] loss: 0.261 correct: 2864.000, total: 3000.000, accuracy: 0.955\n",
            "test epoch: [10 ] loss: 0.283 correct: 1886.000, total: 2000.000, accuracy: 0.943\n",
            "Accuracy on CIFAR10 0,1,2 classes is  92.2\n",
            "11 updating where_net, what_net is freezed\n",
            "--------------------------------------------------------------------------------\n",
            "training epoch: [11 ] loss: 0.258 correct: 2862.000, total: 3000.000, accuracy: 0.954\n",
            "test epoch: [11 ] loss: 0.279 correct: 1882.000, total: 2000.000, accuracy: 0.941\n",
            "Accuracy on CIFAR10 0,1,2 classes is  92.2\n",
            "12 updating what_net, where_net is freezed\n",
            "--------------------------------------------------------------------------------\n",
            "training epoch: [12 ] loss: 0.225 correct: 2889.000, total: 3000.000, accuracy: 0.963\n",
            "test epoch: [12 ] loss: 0.244 correct: 1903.000, total: 2000.000, accuracy: 0.952\n",
            "Accuracy on CIFAR10 0,1,2 classes is  94.06666666666666\n",
            "13 updating where_net, what_net is freezed\n",
            "--------------------------------------------------------------------------------\n",
            "training epoch: [13 ] loss: 0.223 correct: 2889.000, total: 3000.000, accuracy: 0.963\n",
            "test epoch: [13 ] loss: 0.241 correct: 1903.000, total: 2000.000, accuracy: 0.952\n",
            "Accuracy on CIFAR10 0,1,2 classes is  94.06666666666666\n",
            "14 updating what_net, where_net is freezed\n",
            "--------------------------------------------------------------------------------\n",
            "training epoch: [14 ] loss: 0.200 correct: 2954.000, total: 3000.000, accuracy: 0.985\n",
            "test epoch: [14 ] loss: 0.217 correct: 1962.000, total: 2000.000, accuracy: 0.981\n",
            "Accuracy on CIFAR10 0,1,2 classes is  96.66666666666667\n",
            "15 updating where_net, what_net is freezed\n",
            "--------------------------------------------------------------------------------\n",
            "training epoch: [15 ] loss: 0.199 correct: 2954.000, total: 3000.000, accuracy: 0.985\n",
            "test epoch: [15 ] loss: 0.216 correct: 1963.000, total: 2000.000, accuracy: 0.982\n",
            "Accuracy on CIFAR10 0,1,2 classes is  96.66666666666667\n",
            "16 updating what_net, where_net is freezed\n",
            "--------------------------------------------------------------------------------\n",
            "training epoch: [16 ] loss: 0.178 correct: 2894.000, total: 3000.000, accuracy: 0.965\n",
            "test epoch: [16 ] loss: 0.193 correct: 1911.000, total: 2000.000, accuracy: 0.956\n",
            "Accuracy on CIFAR10 0,1,2 classes is  94.8\n",
            "17 updating where_net, what_net is freezed\n",
            "--------------------------------------------------------------------------------\n",
            "training epoch: [17 ] loss: 0.177 correct: 2894.000, total: 3000.000, accuracy: 0.965\n",
            "test epoch: [17 ] loss: 0.192 correct: 1912.000, total: 2000.000, accuracy: 0.956\n",
            "Accuracy on CIFAR10 0,1,2 classes is  94.8\n",
            "18 updating what_net, where_net is freezed\n",
            "--------------------------------------------------------------------------------\n",
            "training epoch: [18 ] loss: 0.160 correct: 2929.000, total: 3000.000, accuracy: 0.976\n",
            "test epoch: [18 ] loss: 0.174 correct: 1941.000, total: 2000.000, accuracy: 0.971\n",
            "Accuracy on CIFAR10 0,1,2 classes is  96.13333333333334\n",
            "19 updating where_net, what_net is freezed\n",
            "--------------------------------------------------------------------------------\n",
            "training epoch: [19 ] loss: 0.159 correct: 2930.000, total: 3000.000, accuracy: 0.977\n",
            "test epoch: [19 ] loss: 0.173 correct: 1943.000, total: 2000.000, accuracy: 0.972\n",
            "Accuracy on CIFAR10 0,1,2 classes is  96.13333333333334\n",
            "20 updating what_net, where_net is freezed\n",
            "--------------------------------------------------------------------------------\n",
            "training epoch: [20 ] loss: 0.147 correct: 2998.000, total: 3000.000, accuracy: 0.999\n",
            "test epoch: [20 ] loss: 0.160 correct: 1995.000, total: 2000.000, accuracy: 0.998\n",
            "Accuracy on CIFAR10 0,1,2 classes is  98.4\n",
            "21 updating where_net, what_net is freezed\n",
            "--------------------------------------------------------------------------------\n",
            "training epoch: [21 ] loss: 0.146 correct: 2999.000, total: 3000.000, accuracy: 1.000\n",
            "test epoch: [21 ] loss: 0.159 correct: 1997.000, total: 2000.000, accuracy: 0.999\n",
            "Accuracy on CIFAR10 0,1,2 classes is  98.4\n",
            "22 updating what_net, where_net is freezed\n",
            "--------------------------------------------------------------------------------\n",
            "training epoch: [22 ] loss: 0.135 correct: 2947.000, total: 3000.000, accuracy: 0.982\n",
            "test epoch: [22 ] loss: 0.147 correct: 1953.000, total: 2000.000, accuracy: 0.977\n",
            "Accuracy on CIFAR10 0,1,2 classes is  96.93333333333334\n",
            "23 updating where_net, what_net is freezed\n",
            "--------------------------------------------------------------------------------\n",
            "training epoch: [23 ] loss: 0.134 correct: 2947.000, total: 3000.000, accuracy: 0.982\n",
            "test epoch: [23 ] loss: 0.146 correct: 1953.000, total: 2000.000, accuracy: 0.977\n",
            "Accuracy on CIFAR10 0,1,2 classes is  96.93333333333334\n",
            "24 updating what_net, where_net is freezed\n",
            "--------------------------------------------------------------------------------\n",
            "training epoch: [24 ] loss: 0.124 correct: 2975.000, total: 3000.000, accuracy: 0.992\n",
            "test epoch: [24 ] loss: 0.136 correct: 1970.000, total: 2000.000, accuracy: 0.985\n",
            "Accuracy on CIFAR10 0,1,2 classes is  97.13333333333334\n",
            "25 updating where_net, what_net is freezed\n",
            "--------------------------------------------------------------------------------\n",
            "training epoch: [25 ] loss: 0.124 correct: 2973.000, total: 3000.000, accuracy: 0.991\n",
            "test epoch: [25 ] loss: 0.135 correct: 1971.000, total: 2000.000, accuracy: 0.986\n",
            "Accuracy on CIFAR10 0,1,2 classes is  97.13333333333334\n",
            "26 updating what_net, where_net is freezed\n",
            "--------------------------------------------------------------------------------\n",
            "training epoch: [26 ] loss: 0.116 correct: 2991.000, total: 3000.000, accuracy: 0.997\n",
            "test epoch: [26 ] loss: 0.127 correct: 1987.000, total: 2000.000, accuracy: 0.994\n",
            "Accuracy on CIFAR10 0,1,2 classes is  98.53333333333333\n",
            "27 updating where_net, what_net is freezed\n",
            "--------------------------------------------------------------------------------\n",
            "training epoch: [27 ] loss: 0.116 correct: 2991.000, total: 3000.000, accuracy: 0.997\n",
            "test epoch: [27 ] loss: 0.126 correct: 1986.000, total: 2000.000, accuracy: 0.993\n",
            "Accuracy on CIFAR10 0,1,2 classes is  98.53333333333333\n",
            "28 updating what_net, where_net is freezed\n",
            "--------------------------------------------------------------------------------\n",
            "training epoch: [28 ] loss: 0.109 correct: 3000.000, total: 3000.000, accuracy: 1.000\n",
            "test epoch: [28 ] loss: 0.120 correct: 1997.000, total: 2000.000, accuracy: 0.999\n",
            "Accuracy on CIFAR10 0,1,2 classes is  99.0\n",
            "29 updating where_net, what_net is freezed\n",
            "--------------------------------------------------------------------------------\n",
            "training epoch: [29 ] loss: 0.109 correct: 3000.000, total: 3000.000, accuracy: 1.000\n",
            "test epoch: [29 ] loss: 0.120 correct: 1996.000, total: 2000.000, accuracy: 0.998\n",
            "Accuracy on CIFAR10 0,1,2 classes is  99.0\n",
            "30 updating what_net, where_net is freezed\n",
            "--------------------------------------------------------------------------------\n",
            "training epoch: [30 ] loss: 0.102 correct: 3000.000, total: 3000.000, accuracy: 1.000\n",
            "test epoch: [30 ] loss: 0.112 correct: 1996.000, total: 2000.000, accuracy: 0.998\n",
            "Accuracy on CIFAR10 0,1,2 classes is  99.06666666666666\n",
            "31 updating where_net, what_net is freezed\n",
            "--------------------------------------------------------------------------------\n",
            "training epoch: [31 ] loss: 0.102 correct: 3000.000, total: 3000.000, accuracy: 1.000\n",
            "test epoch: [31 ] loss: 0.112 correct: 1997.000, total: 2000.000, accuracy: 0.999\n",
            "Accuracy on CIFAR10 0,1,2 classes is  99.06666666666666\n",
            "32 updating what_net, where_net is freezed\n",
            "--------------------------------------------------------------------------------\n",
            "training epoch: [32 ] loss: 0.097 correct: 2999.000, total: 3000.000, accuracy: 1.000\n",
            "test epoch: [32 ] loss: 0.106 correct: 1997.000, total: 2000.000, accuracy: 0.999\n",
            "Accuracy on CIFAR10 0,1,2 classes is  99.06666666666666\n",
            "33 updating where_net, what_net is freezed\n",
            "--------------------------------------------------------------------------------\n",
            "training epoch: [33 ] loss: 0.097 correct: 3000.000, total: 3000.000, accuracy: 1.000\n",
            "test epoch: [33 ] loss: 0.106 correct: 1997.000, total: 2000.000, accuracy: 0.999\n",
            "Accuracy on CIFAR10 0,1,2 classes is  99.06666666666666\n",
            "34 updating what_net, where_net is freezed\n",
            "--------------------------------------------------------------------------------\n",
            "training epoch: [34 ] loss: 0.091 correct: 3000.000, total: 3000.000, accuracy: 1.000\n",
            "test epoch: [34 ] loss: 0.099 correct: 1997.000, total: 2000.000, accuracy: 0.999\n",
            "Accuracy on CIFAR10 0,1,2 classes is  99.26666666666667\n",
            "35 updating where_net, what_net is freezed\n",
            "--------------------------------------------------------------------------------\n",
            "training epoch: [35 ] loss: 0.090 correct: 3000.000, total: 3000.000, accuracy: 1.000\n",
            "test epoch: [35 ] loss: 0.099 correct: 1997.000, total: 2000.000, accuracy: 0.999\n",
            "Accuracy on CIFAR10 0,1,2 classes is  99.26666666666667\n",
            "36 updating what_net, where_net is freezed\n",
            "--------------------------------------------------------------------------------\n",
            "training epoch: [36 ] loss: 0.085 correct: 3000.000, total: 3000.000, accuracy: 1.000\n",
            "test epoch: [36 ] loss: 0.094 correct: 1997.000, total: 2000.000, accuracy: 0.999\n",
            "Accuracy on CIFAR10 0,1,2 classes is  99.33333333333333\n",
            "37 updating where_net, what_net is freezed\n",
            "--------------------------------------------------------------------------------\n",
            "training epoch: [37 ] loss: 0.085 correct: 3000.000, total: 3000.000, accuracy: 1.000\n",
            "test epoch: [37 ] loss: 0.094 correct: 1997.000, total: 2000.000, accuracy: 0.999\n",
            "Accuracy on CIFAR10 0,1,2 classes is  99.33333333333333\n",
            "38 updating what_net, where_net is freezed\n",
            "--------------------------------------------------------------------------------\n",
            "training epoch: [38 ] loss: 0.080 correct: 3000.000, total: 3000.000, accuracy: 1.000\n",
            "test epoch: [38 ] loss: 0.088 correct: 1997.000, total: 2000.000, accuracy: 0.999\n",
            "Accuracy on CIFAR10 0,1,2 classes is  99.33333333333333\n",
            "39 updating where_net, what_net is freezed\n",
            "--------------------------------------------------------------------------------\n",
            "training epoch: [39 ] loss: 0.080 correct: 3000.000, total: 3000.000, accuracy: 1.000\n",
            "test epoch: [39 ] loss: 0.088 correct: 1997.000, total: 2000.000, accuracy: 0.999\n",
            "Accuracy on CIFAR10 0,1,2 classes is  99.33333333333333\n",
            "40 updating what_net, where_net is freezed\n",
            "--------------------------------------------------------------------------------\n",
            "training epoch: [40 ] loss: 0.077 correct: 2997.000, total: 3000.000, accuracy: 0.999\n",
            "test epoch: [40 ] loss: 0.085 correct: 1998.000, total: 2000.000, accuracy: 0.999\n",
            "Accuracy on CIFAR10 0,1,2 classes is  99.46666666666667\n",
            "41 updating where_net, what_net is freezed\n",
            "--------------------------------------------------------------------------------\n",
            "training epoch: [41 ] loss: 0.077 correct: 2997.000, total: 3000.000, accuracy: 0.999\n",
            "test epoch: [41 ] loss: 0.085 correct: 1998.000, total: 2000.000, accuracy: 0.999\n",
            "Accuracy on CIFAR10 0,1,2 classes is  99.46666666666667\n",
            "42 updating what_net, where_net is freezed\n",
            "--------------------------------------------------------------------------------\n",
            "training epoch: [42 ] loss: 0.073 correct: 3000.000, total: 3000.000, accuracy: 1.000\n",
            "test epoch: [42 ] loss: 0.080 correct: 1997.000, total: 2000.000, accuracy: 0.999\n",
            "Accuracy on CIFAR10 0,1,2 classes is  99.46666666666667\n",
            "43 updating where_net, what_net is freezed\n",
            "--------------------------------------------------------------------------------\n",
            "training epoch: [43 ] loss: 0.073 correct: 3000.000, total: 3000.000, accuracy: 1.000\n",
            "test epoch: [43 ] loss: 0.080 correct: 1997.000, total: 2000.000, accuracy: 0.999\n",
            "Accuracy on CIFAR10 0,1,2 classes is  99.46666666666667\n",
            "44 updating what_net, where_net is freezed\n",
            "--------------------------------------------------------------------------------\n",
            "training epoch: [44 ] loss: 0.069 correct: 3000.000, total: 3000.000, accuracy: 1.000\n",
            "test epoch: [44 ] loss: 0.076 correct: 1999.000, total: 2000.000, accuracy: 1.000\n",
            "Accuracy on CIFAR10 0,1,2 classes is  99.53333333333333\n",
            "45 updating where_net, what_net is freezed\n",
            "--------------------------------------------------------------------------------\n",
            "training epoch: [45 ] loss: 0.069 correct: 3000.000, total: 3000.000, accuracy: 1.000\n",
            "test epoch: [45 ] loss: 0.076 correct: 1999.000, total: 2000.000, accuracy: 1.000\n",
            "Accuracy on CIFAR10 0,1,2 classes is  99.53333333333333\n",
            "46 updating what_net, where_net is freezed\n",
            "--------------------------------------------------------------------------------\n",
            "training epoch: [46 ] loss: 0.066 correct: 3000.000, total: 3000.000, accuracy: 1.000\n",
            "test epoch: [46 ] loss: 0.072 correct: 2000.000, total: 2000.000, accuracy: 1.000\n",
            "Accuracy on CIFAR10 0,1,2 classes is  99.6\n",
            "47 updating where_net, what_net is freezed\n",
            "--------------------------------------------------------------------------------\n",
            "training epoch: [47 ] loss: 0.066 correct: 3000.000, total: 3000.000, accuracy: 1.000\n",
            "test epoch: [47 ] loss: 0.072 correct: 2000.000, total: 2000.000, accuracy: 1.000\n",
            "Accuracy on CIFAR10 0,1,2 classes is  99.6\n",
            "48 updating what_net, where_net is freezed\n",
            "--------------------------------------------------------------------------------\n",
            "training epoch: [48 ] loss: 0.063 correct: 3000.000, total: 3000.000, accuracy: 1.000\n",
            "test epoch: [48 ] loss: 0.069 correct: 2000.000, total: 2000.000, accuracy: 1.000\n",
            "Accuracy on CIFAR10 0,1,2 classes is  99.66666666666667\n",
            "49 updating where_net, what_net is freezed\n",
            "--------------------------------------------------------------------------------\n",
            "training epoch: [49 ] loss: 0.063 correct: 3000.000, total: 3000.000, accuracy: 1.000\n",
            "test epoch: [49 ] loss: 0.069 correct: 2000.000, total: 2000.000, accuracy: 1.000\n",
            "Accuracy on CIFAR10 0,1,2 classes is  99.66666666666667\n",
            "50 updating what_net, where_net is freezed\n",
            "--------------------------------------------------------------------------------\n",
            "training epoch: [50 ] loss: 0.060 correct: 3000.000, total: 3000.000, accuracy: 1.000\n",
            "test epoch: [50 ] loss: 0.066 correct: 2000.000, total: 2000.000, accuracy: 1.000\n",
            "Accuracy on CIFAR10 0,1,2 classes is  99.8\n",
            "51 updating where_net, what_net is freezed\n",
            "--------------------------------------------------------------------------------\n",
            "training epoch: [51 ] loss: 0.060 correct: 3000.000, total: 3000.000, accuracy: 1.000\n",
            "test epoch: [51 ] loss: 0.065 correct: 2000.000, total: 2000.000, accuracy: 1.000\n",
            "Accuracy on CIFAR10 0,1,2 classes is  99.8\n",
            "52 updating what_net, where_net is freezed\n",
            "--------------------------------------------------------------------------------\n",
            "training epoch: [52 ] loss: 0.057 correct: 3000.000, total: 3000.000, accuracy: 1.000\n",
            "test epoch: [52 ] loss: 0.063 correct: 2000.000, total: 2000.000, accuracy: 1.000\n",
            "Accuracy on CIFAR10 0,1,2 classes is  99.66666666666667\n",
            "53 updating where_net, what_net is freezed\n",
            "--------------------------------------------------------------------------------\n",
            "training epoch: [53 ] loss: 0.057 correct: 3000.000, total: 3000.000, accuracy: 1.000\n",
            "test epoch: [53 ] loss: 0.063 correct: 2000.000, total: 2000.000, accuracy: 1.000\n",
            "Accuracy on CIFAR10 0,1,2 classes is  99.66666666666667\n",
            "54 updating what_net, where_net is freezed\n",
            "--------------------------------------------------------------------------------\n",
            "training epoch: [54 ] loss: 0.058 correct: 3000.000, total: 3000.000, accuracy: 1.000\n",
            "test epoch: [54 ] loss: 0.062 correct: 2000.000, total: 2000.000, accuracy: 1.000\n",
            "Accuracy on CIFAR10 0,1,2 classes is  99.8\n",
            "55 updating where_net, what_net is freezed\n",
            "--------------------------------------------------------------------------------\n",
            "training epoch: [55 ] loss: 0.058 correct: 3000.000, total: 3000.000, accuracy: 1.000\n",
            "test epoch: [55 ] loss: 0.062 correct: 2000.000, total: 2000.000, accuracy: 1.000\n",
            "Accuracy on CIFAR10 0,1,2 classes is  99.8\n",
            "56 updating what_net, where_net is freezed\n",
            "--------------------------------------------------------------------------------\n",
            "training epoch: [56 ] loss: 0.053 correct: 3000.000, total: 3000.000, accuracy: 1.000\n",
            "test epoch: [56 ] loss: 0.058 correct: 2000.000, total: 2000.000, accuracy: 1.000\n",
            "Accuracy on CIFAR10 0,1,2 classes is  99.86666666666667\n",
            "57 updating where_net, what_net is freezed\n",
            "--------------------------------------------------------------------------------\n",
            "training epoch: [57 ] loss: 0.053 correct: 3000.000, total: 3000.000, accuracy: 1.000\n",
            "test epoch: [57 ] loss: 0.058 correct: 2000.000, total: 2000.000, accuracy: 1.000\n",
            "Accuracy on CIFAR10 0,1,2 classes is  99.86666666666667\n",
            "58 updating what_net, where_net is freezed\n",
            "--------------------------------------------------------------------------------\n",
            "training epoch: [58 ] loss: 0.050 correct: 3000.000, total: 3000.000, accuracy: 1.000\n",
            "test epoch: [58 ] loss: 0.055 correct: 2000.000, total: 2000.000, accuracy: 1.000\n",
            "Accuracy on CIFAR10 0,1,2 classes is  99.86666666666667\n",
            "59 updating where_net, what_net is freezed\n",
            "--------------------------------------------------------------------------------\n",
            "training epoch: [59 ] loss: 0.050 correct: 3000.000, total: 3000.000, accuracy: 1.000\n",
            "test epoch: [59 ] loss: 0.055 correct: 2000.000, total: 2000.000, accuracy: 1.000\n",
            "Accuracy on CIFAR10 0,1,2 classes is  99.86666666666667\n",
            "60 updating what_net, where_net is freezed\n",
            "--------------------------------------------------------------------------------\n",
            "training epoch: [60 ] loss: 0.049 correct: 3000.000, total: 3000.000, accuracy: 1.000\n",
            "test epoch: [60 ] loss: 0.054 correct: 2000.000, total: 2000.000, accuracy: 1.000\n",
            "Accuracy on CIFAR10 0,1,2 classes is  99.86666666666667\n",
            "Finished Training run \n"
          ],
          "name": "stdout"
        }
      ]
    },
    {
      "cell_type": "code",
      "metadata": {
        "id": "dwRqaz3Wxc23",
        "colab": {
          "base_uri": "https://localhost:8080/",
          "height": 513
        },
        "outputId": "de615a86-6179-4233-db86-ad42ebdd87b0"
      },
      "source": [
        "fig = plt.figure(figsize = (8,8)) \n",
        "vline_list = np.arange(every_what_epoch, epoch + every_what_epoch, every_what_epoch)\n",
        "# train_loss = np.random.randn(340)\n",
        "# test_loss = np.random.randn(340)\n",
        "epoch_list = np.arange(0, epoch+2)\n",
        "plt.plot(epoch_list,loss_curi_tr, label='train_loss')\n",
        "#plt.plot(epoch_list,loss_curi_tst, label='test_loss')\n",
        "\n",
        "plt.legend(loc='center left', bbox_to_anchor=(1, 0.5))\n",
        "plt.xlabel(\"epochs\")\n",
        "plt.ylabel(\"CE Loss\")\n",
        "#plt.vlines(vline_list,min(min(loss_curi_tr),min(loss_curi_tst)), max(max(loss_curi_tst),max(loss_curi_tr)),linestyles='dotted')\n",
        "plt.title(\"train loss\")\n",
        "plt.show()\n",
        "fig.savefig(\"train_loss_every_1_plot.pdf\")\n",
        "fig.savefig(\"train_loss_every_1_plot.png\")"
      ],
      "execution_count": 28,
      "outputs": [
        {
          "output_type": "display_data",
          "data": {
            "image/png": "[encoded data removed]",
            "text/plain": [
              "<Figure size 576x576 with 1 Axes>"
            ]
          },
          "metadata": {
            "tags": [],
            "needs_background": "light"
          }
        }
      ]
    },
    {
      "cell_type": "code",
      "metadata": {
        "id": "EZtPJ-rnRr-x",
        "colab": {
          "base_uri": "https://localhost:8080/"
        },
        "outputId": "04a8d6dd-d817-4cd3-d778-75a970cec422"
      },
      "source": [
        "analysis_data_tr"
      ],
      "execution_count": 29,
      "outputs": [
        {
          "output_type": "execute_result",
          "data": {
            "text/plain": [
              "array([[ 162,  807, 1708,  323,  467, 2533],\n",
              "       [ 652,  125, 2182,   41, 1387, 1613],\n",
              "       [1343,  137, 1491,   29, 1387, 1613],\n",
              "       [1687,    0, 1313,    0, 2959,   41],\n",
              "       [2628,    0,  372,    0, 2959,   41],\n",
              "       [2643,    0,  357,    0, 2999,    1],\n",
              "       [2767,    0,  233,    0, 2999,    1],\n",
              "       [2773,    0,  227,    0, 2999,    1],\n",
              "       [2819,    0,  181,    0, 2999,    1],\n",
              "       [2820,    0,  180,    0, 2999,    1],\n",
              "       [2864,    0,  136,    0, 2999,    1],\n",
              "       [2862,    0,  138,    0, 2999,    1],\n",
              "       [2889,    0,  111,    0, 2999,    1],\n",
              "       [2889,    0,  111,    0, 2999,    1],\n",
              "       [2954,    0,   46,    0, 2999,    1],\n",
              "       [2954,    0,   46,    0, 2999,    1],\n",
              "       [2894,    0,  106,    0, 2999,    1],\n",
              "       [2894,    0,  106,    0, 2999,    1],\n",
              "       [2929,    0,   71,    0, 2999,    1],\n",
              "       [2930,    0,   70,    0, 2999,    1],\n",
              "       [2998,    0,    2,    0, 2999,    1],\n",
              "       [2999,    0,    1,    0, 2999,    1],\n",
              "       [2947,    0,   53,    0, 2999,    1],\n",
              "       [2947,    0,   53,    0, 2999,    1],\n",
              "       [2975,    0,   25,    0, 2999,    1],\n",
              "       [2973,    0,   27,    0, 2999,    1],\n",
              "       [2991,    0,    9,    0, 2999,    1],\n",
              "       [2991,    0,    9,    0, 2999,    1],\n",
              "       [3000,    0,    0,    0, 2999,    1],\n",
              "       [3000,    0,    0,    0, 3000,    0],\n",
              "       [3000,    0,    0,    0, 3000,    0],\n",
              "       [3000,    0,    0,    0, 3000,    0],\n",
              "       [2999,    0,    1,    0, 3000,    0],\n",
              "       [3000,    0,    0,    0, 3000,    0],\n",
              "       [3000,    0,    0,    0, 3000,    0],\n",
              "       [3000,    0,    0,    0, 3000,    0],\n",
              "       [3000,    0,    0,    0, 3000,    0],\n",
              "       [3000,    0,    0,    0, 3000,    0],\n",
              "       [3000,    0,    0,    0, 3000,    0],\n",
              "       [3000,    0,    0,    0, 3000,    0],\n",
              "       [2997,    0,    3,    0, 3000,    0],\n",
              "       [2997,    0,    3,    0, 3000,    0],\n",
              "       [3000,    0,    0,    0, 3000,    0],\n",
              "       [3000,    0,    0,    0, 3000,    0],\n",
              "       [3000,    0,    0,    0, 3000,    0],\n",
              "       [3000,    0,    0,    0, 3000,    0],\n",
              "       [3000,    0,    0,    0, 3000,    0],\n",
              "       [3000,    0,    0,    0, 3000,    0],\n",
              "       [3000,    0,    0,    0, 3000,    0],\n",
              "       [3000,    0,    0,    0, 3000,    0],\n",
              "       [3000,    0,    0,    0, 3000,    0],\n",
              "       [3000,    0,    0,    0, 3000,    0],\n",
              "       [3000,    0,    0,    0, 3000,    0],\n",
              "       [3000,    0,    0,    0, 3000,    0],\n",
              "       [3000,    0,    0,    0, 3000,    0],\n",
              "       [3000,    0,    0,    0, 3000,    0],\n",
              "       [3000,    0,    0,    0, 3000,    0],\n",
              "       [3000,    0,    0,    0, 3000,    0],\n",
              "       [3000,    0,    0,    0, 3000,    0],\n",
              "       [3000,    0,    0,    0, 3000,    0],\n",
              "       [3000,    0,    0,    0, 3000,    0]])"
            ]
          },
          "metadata": {
            "tags": []
          },
          "execution_count": 29
        }
      ]
    },
    {
      "cell_type": "code",
      "metadata": {
        "colab": {
          "base_uri": "https://localhost:8080/"
        },
        "id": "RQ3OzJlOOyY8",
        "outputId": "385b9373-d652-4301-fbd9-7a649b49c6d5"
      },
      "source": [
        "analysis_data_tst"
      ],
      "execution_count": 30,
      "outputs": [
        {
          "output_type": "execute_result",
          "data": {
            "text/plain": [
              "array([[ 101,  544, 1101,  254,  284, 1716],\n",
              "       [ 449,   84, 1435,   32,  901, 1099],\n",
              "       [ 852,   97, 1032,   19,  901, 1099],\n",
              "       [1090,    0,  910,    0, 1978,   22],\n",
              "       [1735,    0,  265,    0, 1978,   22],\n",
              "       [1748,    0,  252,    0, 2000,    0],\n",
              "       [1816,    0,  184,    0, 2000,    0],\n",
              "       [1820,    0,  180,    0, 2000,    0],\n",
              "       [1857,    0,  143,    0, 2000,    0],\n",
              "       [1857,    0,  143,    0, 1999,    1],\n",
              "       [1886,    0,  114,    0, 1999,    1],\n",
              "       [1882,    0,  118,    0, 2000,    0],\n",
              "       [1903,    0,   97,    0, 2000,    0],\n",
              "       [1903,    0,   97,    0, 1999,    1],\n",
              "       [1962,    0,   38,    0, 1999,    1],\n",
              "       [1963,    0,   37,    0, 2000,    0],\n",
              "       [1911,    0,   89,    0, 2000,    0],\n",
              "       [1912,    0,   88,    0, 2000,    0],\n",
              "       [1941,    0,   59,    0, 2000,    0],\n",
              "       [1943,    0,   57,    0, 2000,    0],\n",
              "       [1995,    0,    5,    0, 2000,    0],\n",
              "       [1997,    0,    3,    0, 2000,    0],\n",
              "       [1953,    0,   47,    0, 2000,    0],\n",
              "       [1953,    0,   47,    0, 2000,    0],\n",
              "       [1970,    0,   30,    0, 2000,    0],\n",
              "       [1971,    0,   29,    0, 2000,    0],\n",
              "       [1987,    0,   13,    0, 2000,    0],\n",
              "       [1986,    0,   14,    0, 2000,    0],\n",
              "       [1997,    0,    3,    0, 2000,    0],\n",
              "       [1996,    0,    4,    0, 2000,    0],\n",
              "       [1996,    0,    4,    0, 2000,    0],\n",
              "       [1997,    0,    3,    0, 2000,    0],\n",
              "       [1997,    0,    3,    0, 2000,    0],\n",
              "       [1997,    0,    3,    0, 2000,    0],\n",
              "       [1997,    0,    3,    0, 2000,    0],\n",
              "       [1997,    0,    3,    0, 2000,    0],\n",
              "       [1997,    0,    3,    0, 2000,    0],\n",
              "       [1997,    0,    3,    0, 2000,    0],\n",
              "       [1997,    0,    3,    0, 2000,    0],\n",
              "       [1997,    0,    3,    0, 2000,    0],\n",
              "       [1998,    0,    2,    0, 2000,    0],\n",
              "       [1998,    0,    2,    0, 2000,    0],\n",
              "       [1997,    0,    3,    0, 2000,    0],\n",
              "       [1997,    0,    3,    0, 2000,    0],\n",
              "       [1999,    0,    1,    0, 2000,    0],\n",
              "       [1999,    0,    1,    0, 2000,    0],\n",
              "       [2000,    0,    0,    0, 2000,    0],\n",
              "       [2000,    0,    0,    0, 2000,    0],\n",
              "       [2000,    0,    0,    0, 2000,    0],\n",
              "       [2000,    0,    0,    0, 2000,    0],\n",
              "       [2000,    0,    0,    0, 2000,    0],\n",
              "       [2000,    0,    0,    0, 2000,    0],\n",
              "       [2000,    0,    0,    0, 2000,    0],\n",
              "       [2000,    0,    0,    0, 2000,    0],\n",
              "       [2000,    0,    0,    0, 2000,    0],\n",
              "       [2000,    0,    0,    0, 2000,    0],\n",
              "       [2000,    0,    0,    0, 2000,    0],\n",
              "       [2000,    0,    0,    0, 2000,    0],\n",
              "       [2000,    0,    0,    0, 2000,    0],\n",
              "       [2000,    0,    0,    0, 1999,    1],\n",
              "       [2000,    0,    0,    0, 1999,    1]])"
            ]
          },
          "metadata": {
            "tags": []
          },
          "execution_count": 30
        }
      ]
    },
    {
      "cell_type": "code",
      "metadata": {
        "id": "GR7i12R_QymL"
      },
      "source": [
        "columns = [\"epochs\", \"argmax > 0.5\" ,\"argmax < 0.5\", \"focus_true_pred_true\", \"focus_false_pred_true\", \"focus_true_pred_false\", \"focus_false_pred_false\" ]\n",
        "df_train = pd.DataFrame()\n",
        "df_test = pd.DataFrame()\n",
        "df_train[columns[0]] = np.arange(0,epoch+2)\n",
        "df_train[columns[1]] = analysis_data_tr[:,-2]\n",
        "df_train[columns[2]] = analysis_data_tr[:,-1]\n",
        "df_train[columns[3]] = analysis_data_tr[:,0]/30\n",
        "df_train[columns[4]] = analysis_data_tr[:,1]/30\n",
        "df_train[columns[5]] = analysis_data_tr[:,2]/30\n",
        "df_train[columns[6]] = analysis_data_tr[:,3]/30\n",
        "\n",
        "df_test[columns[0]] = np.arange(0,epoch+2)\n",
        "df_test[columns[1]] = analysis_data_tst[:,-2]\n",
        "df_test[columns[2]] = analysis_data_tst[:,-1]\n",
        "df_test[columns[3]] = analysis_data_tst[:,0]/20\n",
        "df_test[columns[4]] = analysis_data_tst[:,1]/20\n",
        "df_test[columns[5]] = analysis_data_tst[:,2]/20\n",
        "df_test[columns[6]] = analysis_data_tst[:,3]/20"
      ],
      "execution_count": 31,
      "outputs": []
    },
    {
      "cell_type": "code",
      "metadata": {
        "id": "gYIlDhfYSg4y",
        "colab": {
          "base_uri": "https://localhost:8080/",
          "height": 404
        },
        "outputId": "3c67773a-6b1e-4bbf-b63b-47787da862bb"
      },
      "source": [
        "# plt.figure(figsize=(12,12))\n",
        "# plt.plot(df_train[columns[0]],df_train[columns[1]], label='argmax > 0.5')\n",
        "# plt.plot(df_train[columns[0]],df_train[columns[2]], label='argmax < 0.5')\n",
        "\n",
        "# plt.legend(loc='center left', bbox_to_anchor=(1, 0.5))\n",
        "# plt.xlabel(\"epochs\")\n",
        "# plt.ylabel(\"training data\")\n",
        "# plt.title(\"On Training set\")\n",
        "# #plt.vlines(vline_list,min(min(df_train[columns[1]]),min(df_train[columns[2]])), max(max(df_train[columns[1]]),max(df_train[columns[2]])),linestyles='dotted')\n",
        "# plt.show()\n",
        "\n",
        "fig=plt.figure(figsize=(8,6))\n",
        "plt.plot(df_train[columns[0]],df_train[columns[3]], label =\"focus_true_pred_true \")\n",
        "plt.plot(df_train[columns[0]],df_train[columns[4]], label =\"focus_false_pred_true \")\n",
        "plt.plot(df_train[columns[0]],df_train[columns[5]], label =\"focus_true_pred_false \")\n",
        "plt.plot(df_train[columns[0]],df_train[columns[6]], label =\"focus_false_pred_false \")\n",
        "plt.title(\"On Train set\")\n",
        "plt.legend(loc='center left', bbox_to_anchor=(1, 0.5))\n",
        "plt.xlabel(\"epochs\")\n",
        "plt.ylabel(\"training data\")\n",
        "#plt.vlines(vline_list,min(min(df_train[columns[3]]),min(df_train[columns[4]]),min(df_train[columns[5]]),min(df_train[columns[6]])), max(max(df_train[columns[3]]),max(df_train[columns[4]]),max(df_train[columns[5]]),max(df_train[columns[6]])),linestyles='dotted')\n",
        "plt.show()\n",
        "fig.savefig(\"train_analysis_every_1.pdf\")\n",
        "fig.savefig(\"train_analysis_every_1.png\")"
      ],
      "execution_count": 35,
      "outputs": [
        {
          "output_type": "display_data",
          "data": {
            "image/png": "[encoded data removed]",
            "text/plain": [
              "<Figure size 576x432 with 1 Axes>"
            ]
          },
          "metadata": {
            "tags": [],
            "needs_background": "light"
          }
        }
      ]
    },
    {
      "cell_type": "code",
      "metadata": {
        "id": "UPvuau_Id_Fi",
        "colab": {
          "base_uri": "https://localhost:8080/",
          "height": 404
        },
        "outputId": "f656a541-d76e-4bee-a380-8374f06aed34"
      },
      "source": [
        "# plt.figure(figsize=(12,12))\n",
        "# plt.plot(df_test[columns[0]],df_test[columns[1]], label='argmax > 0.5')\n",
        "# plt.plot(df_test[columns[0]],df_test[columns[2]], label='argmax < 0.5')\n",
        "\n",
        "# plt.legend(loc='center left', bbox_to_anchor=(1, 0.5))\n",
        "# plt.xlabel(\"epochs\")\n",
        "# plt.ylabel(\"test data\")\n",
        "# plt.title(\"On Testing set\")\n",
        "# #plt.vlines(vline_list,min(min(df_test[columns[1]]),min(df_test[columns[2]])), max(max(df_test[columns[1]]),max(df_test[columns[2]])),linestyles='dotted')\n",
        "# plt.show()\n",
        "\n",
        "fig=plt.figure(figsize=(8,6))\n",
        "plt.plot(df_test[columns[0]],df_test[columns[3]], label =\"focus_true_pred_true \")\n",
        "plt.plot(df_test[columns[0]],df_test[columns[4]], label =\"focus_false_pred_true \")\n",
        "plt.plot(df_test[columns[0]],df_test[columns[5]], label =\"focus_true_pred_false \")\n",
        "plt.plot(df_test[columns[0]],df_test[columns[6]], label =\"focus_false_pred_false \")\n",
        "plt.title(\"On Test set\")\n",
        "plt.legend(loc='center left', bbox_to_anchor=(1, 0.5))\n",
        "plt.xlabel(\"epochs\")\n",
        "plt.ylabel(\"testing data\")\n",
        "#plt.vlines(vline_list,min(min(df_test[columns[3]]),min(df_test[columns[4]]),min(df_test[columns[5]]),min(df_test[columns[6]])), max(max(df_test[columns[3]]),max(df_test[columns[4]]),max(df_test[columns[5]]),max(df_test[columns[6]])),linestyles='dotted')\n",
        "plt.show()\n",
        "fig.savefig(\"test_analysis_every_1.pdf\")\n",
        "fig.savefig(\"test_analysis_every_1.png\")"
      ],
      "execution_count": 36,
      "outputs": [
        {
          "output_type": "display_data",
          "data": {
            "image/png": "[encoded data removed]",
            "text/plain": [
              "<Figure size 576x432 with 1 Axes>"
            ]
          },
          "metadata": {
            "tags": [],
            "needs_background": "light"
          }
        }
      ]
    },
    {
      "cell_type": "code",
      "metadata": {
        "id": "hGgOLQseShsw",
        "colab": {
          "base_uri": "https://localhost:8080/",
          "height": 513
        },
        "outputId": "b980ea8e-d597-4a20-f22e-315d2eb25009"
      },
      "source": [
        "fig = plt.figure(figsize = (8,8)) \n",
        "vline_list = np.arange(every_what_epoch, epoch + every_what_epoch, every_what_epoch)\n",
        "# train_loss = np.random.randn(340)\n",
        "# test_loss = np.random.randn(340)\n",
        "epoch_list = np.arange(0, epoch+1)\n",
        "plt.plot(epoch_list, blob_classify_acc , label='blob_classify_acc')\n",
        "#plt.plot(epoch_list,loss_curi_tst, label='test_loss')\n",
        "\n",
        "# plt.legend(loc='center left', bbox_to_anchor=(1, 0.5))\n",
        "plt.legend()\n",
        "plt.xlabel(\"epochs\")\n",
        "plt.ylabel(\"accuracy\")\n",
        "#plt.vlines(vline_list,min(min(loss_curi_tr),min(loss_curi_tst)), max(max(loss_curi_tst),max(loss_curi_tr)),linestyles='dotted')\n",
        "plt.title(\"blob 3 class classify accuracy\")\n",
        "plt.show()\n",
        "fig.savefig(\"blob_classify_acc_every_1_plot.pdf\")\n",
        "fig.savefig(\"blob_classify_acc_every_1_plot.png\")"
      ],
      "execution_count": 34,
      "outputs": [
        {
          "output_type": "display_data",
          "data": {
            "image/png": "[encoded data removed]",
            "text/plain": [
              "<Figure size 576x576 with 1 Axes>"
            ]
          },
          "metadata": {
            "tags": [],
            "needs_background": "light"
          }
        }
      ]
    },
    {
      "cell_type": "code",
      "metadata": {
        "id": "yanNSw3vO7j4"
      },
      "source": [
        ""
      ],
      "execution_count": 34,
      "outputs": []
    }
  ]
}