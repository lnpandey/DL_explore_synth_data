{
  "nbformat": 4,
  "nbformat_minor": 0,
  "metadata": {
    "accelerator": "GPU",
    "colab": {
      "name": "Simultaneous_type4_data.ipynb",
      "provenance": [],
      "collapsed_sections": [
        "H0VVjc9qFqf_"
      ]
    },
    "kernelspec": {
      "display_name": "Python 3",
      "name": "python3"
    }
  },
  "cells": [
    {
      "cell_type": "code",
      "metadata": {
        "id": "VAYu3ISwwGks"
      },
      "source": [
        "import numpy as np\n",
        "import pandas as pd\n",
        "\n",
        "import torch\n",
        "import torchvision\n",
        "from torch.utils.data import Dataset, DataLoader\n",
        "from torchvision import transforms, utils\n",
        "import torch.nn as nn\n",
        "import torch.nn.functional as F\n",
        "import torch.optim as optim\n",
        "\n",
        "from matplotlib import pyplot as plt\n",
        "%matplotlib inline"
      ],
      "execution_count": 1,
      "outputs": []
    },
    {
      "cell_type": "markdown",
      "metadata": {
        "id": "H0VVjc9qFqf_"
      },
      "source": [
        "# Create blob Train and Test data"
      ]
    },
    {
      "cell_type": "code",
      "metadata": {
        "id": "mpdNNb8wFp56"
      },
      "source": [
        "# mu1 = np.array([3,3,3,3,0])\n",
        "# sigma1 = np.array([[1,1,1,1,1],[1,16,1,1,1],[1,1,1,1,1],[1,1,1,1,1],[1,1,1,1,1]])\n",
        "\n",
        "# mu2 = np.array([4,4,4,4,0])\n",
        "# sigma2 = np.array([[16,1,1,1,1],[1,1,1,1,1],[1,1,1,1,1],[1,1,1,1,1],[1,1,1,1,1]])\n",
        "\n",
        "# mu3 = np.array([10,5,5,10,0])\n",
        "# sigma3 = np.array([[1,1,1,1,1],[1,16,1,1,1],[1,1,1,1,1],[1,1,1,1,1],[1,1,1,1,1]])\n",
        "\n",
        "# mu4 = np.array([-10,-10,-10,-10,0])\n",
        "# sigma4 = np.array([[1,1,1,1,1],[1,16,1,1,1],[1,1,1,1,1],[1,1,1,1,1],[1,1,1,1,1]])\n",
        "\n",
        "# mu5 = np.array([-21,4,4,-21,0])\n",
        "# sigma5 = np.array([[16,1,1,1,1],[1,1,1,1,1],[1,1,1,1,1],[1,1,1,1,1],[1,1,1,1,1]])\n",
        "\n",
        "# mu6 = np.array([-10,18,18,-10,0])\n",
        "# sigma6 = np.array([[1,1,1,1,1],[1,16,1,1,1],[1,1,1,1,1],[1,1,1,1,1],[1,1,1,1,1]])\n",
        "\n",
        "# mu7 = np.array([4,20,4,20,0])\n",
        "# sigma7 = np.array([[16,1,1,1,1],[1,1,1,1,1],[1,1,1,1,1],[1,1,1,1,1],[1,1,1,1,1]])\n",
        "\n",
        "# mu8 = np.array([4,-20,-20,4,0])\n",
        "# sigma8 = np.array([[16,1,1,1,1],[1,1,1,1,1],[1,1,1,1,1],[1,1,1,1,1],[1,1,1,1,1]])\n",
        "\n",
        "# mu9 = np.array([20,20,20,20,0])\n",
        "# sigma9 = np.array([[1,1,1,1,1],[1,16,1,1,1],[1,1,1,1,1],[1,1,1,1,1],[1,1,1,1,1]])\n",
        "\n",
        "# mu10 = np.array([20,-10,-10,20,0])\n",
        "# sigma10 = np.array([[1,1,1,1,1],[1,16,1,1,1],[1,1,1,1,1],[1,1,1,1,1],[1,1,1,1,1]])\n",
        "\n",
        "\n",
        "\n",
        "# sample1 = np.random.multivariate_normal(mean=mu1,cov= sigma1,size=500)\n",
        "# sample2 = np.random.multivariate_normal(mean=mu2,cov= sigma2,size=500)\n",
        "# sample3 = np.random.multivariate_normal(mean=mu3,cov= sigma3,size=500)\n",
        "# sample4 = np.random.multivariate_normal(mean=mu4,cov= sigma4,size=500)\n",
        "# sample5 = np.random.multivariate_normal(mean=mu5,cov= sigma5,size=500)\n",
        "# sample6 = np.random.multivariate_normal(mean=mu6,cov= sigma6,size=500)\n",
        "# sample7 = np.random.multivariate_normal(mean=mu7,cov= sigma7,size=500)\n",
        "# sample8 = np.random.multivariate_normal(mean=mu8,cov= sigma8,size=500)\n",
        "# sample9 = np.random.multivariate_normal(mean=mu9,cov= sigma9,size=500)\n",
        "# sample10 = np.random.multivariate_normal(mean=mu10,cov= sigma10,size=500)"
      ],
      "execution_count": 2,
      "outputs": []
    },
    {
      "cell_type": "code",
      "metadata": {
        "id": "GVwzqqNxFwzN"
      },
      "source": [
        "# X = np.concatenate((sample1,sample2,sample3,sample4,sample5,sample6,sample7,sample8,sample9,sample10),axis=0)\n",
        "# Y = np.concatenate((np.zeros((500,1)),np.ones((500,1)),2*np.ones((500,1)),3*np.ones((500,1)),4*np.ones((500,1)),\n",
        "#                     5*np.ones((500,1)),6*np.ones((500,1)),7*np.ones((500,1)),8*np.ones((500,1)),9*np.ones((500,1))),axis=0).astype(int)\n",
        "# print(X.shape,Y.shape)\n",
        "# plt.scatter(sample1[:,0],sample1[:,1],label=\"class_0\")\n",
        "# plt.scatter(sample2[:,0],sample2[:,1],label=\"class_1\")\n",
        "# plt.scatter(sample3[:,0],sample3[:,1],label=\"class_2\")\n",
        "# plt.scatter(sample4[:,0],sample4[:,1],label=\"class_3\")\n",
        "# plt.scatter(sample5[:,0],sample5[:,1],label=\"class_4\")\n",
        "# plt.scatter(sample6[:,0],sample6[:,1],label=\"class_5\")\n",
        "# plt.scatter(sample7[:,0],sample7[:,1],label=\"class_6\")\n",
        "# plt.scatter(sample8[:,0],sample8[:,1],label=\"class_7\")\n",
        "# plt.scatter(sample9[:,0],sample9[:,1],label=\"class_8\")\n",
        "# plt.scatter(sample10[:,0],sample10[:,1],label=\"class_9\")\n",
        "# plt.legend(bbox_to_anchor=(1.05, 1), loc='upper left')"
      ],
      "execution_count": 3,
      "outputs": []
    },
    {
      "cell_type": "code",
      "metadata": {
        "id": "kdLONe1TFwcv"
      },
      "source": [
        "# class SyntheticDataset(Dataset):\n",
        "#   \"\"\"MosaicDataset dataset.\"\"\"\n",
        "\n",
        "#   def __init__(self, x, y):\n",
        "#     \"\"\"\n",
        "#       Args:\n",
        "#         csv_file (string): Path to the csv file with annotations.\n",
        "#         root_dir (string): Directory with all the images.\n",
        "#         transform (callable, optional): Optional transform to be applied\n",
        "#             on a sample.\n",
        "#     \"\"\"\n",
        "#     self.x = x\n",
        "#     self.y = y\n",
        "#     #self.fore_idx = fore_idx\n",
        "    \n",
        "#   def __len__(self):\n",
        "#     return len(self.y)\n",
        "\n",
        "#   def __getitem__(self, idx):\n",
        "#     return self.x[idx] , self.y[idx] #, self.fore_idx[idx]"
      ],
      "execution_count": 4,
      "outputs": []
    },
    {
      "cell_type": "code",
      "metadata": {
        "id": "am81Wr7lFwTn"
      },
      "source": [
        "# trainset = SyntheticDataset(X,Y)\n",
        "# trainloader = torch.utils.data.DataLoader(trainset, batch_size=100, shuffle=True)\n",
        "# classes = ('zero','one','two','three','four','five','six','seven','eight','nine')\n",
        "\n",
        "# foreground_classes = {'zero','one','two'}\n",
        "# fg_used = '012'\n",
        "# fg1, fg2, fg3 = 0,1,2\n",
        "\n",
        "\n",
        "# all_classes = {'zero','one','two','three','four','five','six','seven','eight','nine'}\n",
        "# background_classes = all_classes - foreground_classes\n",
        "# background_classes"
      ],
      "execution_count": 5,
      "outputs": []
    },
    {
      "cell_type": "code",
      "metadata": {
        "id": "_lopYyy7G--q"
      },
      "source": [
        "# dataiter = iter(trainloader)\n",
        "# background_data=[]\n",
        "# background_label=[]\n",
        "# foreground_data=[]\n",
        "# foreground_label=[]\n",
        "# batch_size=100\n",
        "\n",
        "# for i in range(50):\n",
        "#   images, labels = dataiter.next()\n",
        "#   for j in range(batch_size):\n",
        "#     if(classes[labels[j]] in background_classes):\n",
        "#       img = images[j].tolist()\n",
        "#       background_data.append(img)\n",
        "#       background_label.append(labels[j])\n",
        "#     else:\n",
        "#       img = images[j].tolist()\n",
        "#       foreground_data.append(img)\n",
        "#       foreground_label.append(labels[j])\n",
        "            \n",
        "# foreground_data = torch.tensor(foreground_data)\n",
        "# foreground_label = torch.tensor(foreground_label)\n",
        "# background_data = torch.tensor(background_data)\n",
        "# background_label = torch.tensor(background_label)"
      ],
      "execution_count": 6,
      "outputs": []
    },
    {
      "cell_type": "code",
      "metadata": {
        "id": "JnT8fc5DMAa0"
      },
      "source": [
        "# def create_mosaic_img(bg_idx,fg_idx,fg): \n",
        "#   \"\"\"\n",
        "#   bg_idx : list of indexes of background_data[] to be used as background images in mosaic\n",
        "#   fg_idx : index of image to be used as foreground image from foreground data\n",
        "#   fg : at what position/index foreground image has to be stored out of 0-8\n",
        "#   \"\"\"\n",
        "#   image_list=[]\n",
        "#   j=0\n",
        "#   for i in range(9):\n",
        "#     if i != fg:\n",
        "#       image_list.append(background_data[bg_idx[j]])\n",
        "#       j+=1\n",
        "#     else: \n",
        "#       image_list.append(foreground_data[fg_idx])\n",
        "#       label = foreground_label[fg_idx] - fg1  # minus fg1 because our fore ground classes are fg1,fg2,fg3 but we have to store it as 0,1,2\n",
        "#   #image_list = np.concatenate(image_list ,axis=0)\n",
        "#   image_list = torch.stack(image_list) \n",
        "#   return image_list,label"
      ],
      "execution_count": 7,
      "outputs": []
    },
    {
      "cell_type": "code",
      "metadata": {
        "id": "kd4r_sXhMDCu"
      },
      "source": [
        "# # number of data points in bg class and fg class\n",
        "# nbg = 500*7\n",
        "# nfg   = 500*3\n",
        "\n",
        "# print(nbg, nfg, nbg+nfg)"
      ],
      "execution_count": 8,
      "outputs": []
    },
    {
      "cell_type": "code",
      "metadata": {
        "id": "2zq2xQCBMC7j"
      },
      "source": [
        "# desired_num = 3000\n",
        "# mosaic_list_of_images =[]      # list of mosaic images, each mosaic image is saved as list of 9 images\n",
        "# fore_idx =[]                   # list of indexes at which foreground image is present in a mosaic image i.e from 0 to 9               \n",
        "# mosaic_label=[]                # label of mosaic image = foreground class present in that mosaic\n",
        "# list_set_labels = [] \n",
        "# for i in range(desired_num):\n",
        "#   set_idx = set()\n",
        "#   np.random.seed(i)\n",
        "#   bg_idx = np.random.randint(0,nbg,8)\n",
        "#   set_idx = set(background_label[bg_idx].tolist())\n",
        "#   fg_idx = np.random.randint(0,nfg)\n",
        "#   set_idx.add(foreground_label[fg_idx].item())\n",
        "#   fg = np.random.randint(0,9)\n",
        "#   fore_idx.append(fg)\n",
        "#   image_list,label = create_mosaic_img(bg_idx,fg_idx,fg)\n",
        "#   mosaic_list_of_images.append(image_list)\n",
        "#   mosaic_label.append(label)\n",
        "#   list_set_labels.append(set_idx)\n"
      ],
      "execution_count": 9,
      "outputs": []
    },
    {
      "cell_type": "code",
      "metadata": {
        "id": "8pqXIPlNMCyz"
      },
      "source": [
        "# desired_num = 2000\n",
        "# test_mosaic_list_of_images =[]      # list of mosaic images, each mosaic image is saved as list of 9 images\n",
        "# test_fore_idx =[]                   # list of indexes at which foreground image is present in a mosaic image i.e from 0 to 9               \n",
        "# test_mosaic_label=[]                # label of mosaic image = foreground class present in that mosaic\n",
        "# test_list_set_labels = [] \n",
        "# for i in range(desired_num):\n",
        "#   set_idx = set()\n",
        "#   np.random.seed(i+3000)\n",
        "#   bg_idx = np.random.randint(0,nbg,8)\n",
        "#   set_idx = set(background_label[bg_idx].tolist())\n",
        "#   fg_idx = np.random.randint(0,nfg)\n",
        "#   set_idx.add(foreground_label[fg_idx].item())\n",
        "#   fg = np.random.randint(0,9)\n",
        "#   test_fore_idx.append(fg)\n",
        "#   test_image_list,test_label = create_mosaic_img(bg_idx,fg_idx,fg)\n",
        "#   test_mosaic_list_of_images.append(test_image_list)\n",
        "#   test_mosaic_label.append(test_label)\n",
        "#   test_list_set_labels.append(set_idx)\n"
      ],
      "execution_count": 10,
      "outputs": []
    },
    {
      "cell_type": "code",
      "metadata": {
        "id": "Sxq58WbtMmKq"
      },
      "source": [
        "# data =  [{\"mosaic_list\":mosaic_list_of_images, \"mosaic_label\": mosaic_label, \"fore_idx\":fore_idx}]\n",
        "# np.save(\"train_blob_data.npy\",data)"
      ],
      "execution_count": 11,
      "outputs": []
    },
    {
      "cell_type": "code",
      "metadata": {
        "id": "hNnqO6yKMCoR"
      },
      "source": [
        "# data =  [{\"mosaic_list\":test_mosaic_list_of_images, \"mosaic_label\": test_mosaic_label, \"fore_idx\":test_fore_idx}]\n",
        "# np.save(\"test_blob_data.npy\",data)"
      ],
      "execution_count": 12,
      "outputs": []
    },
    {
      "cell_type": "code",
      "metadata": {
        "id": "DSZpS3F5Jnhz"
      },
      "source": [
        "# data = [{\"X\":X,\"Y\":Y}]\n",
        "# np.save(\"blob_data.npy\",data)"
      ],
      "execution_count": 13,
      "outputs": []
    },
    {
      "cell_type": "markdown",
      "metadata": {
        "id": "y4ZKaqzq_vcD"
      },
      "source": [
        "# load mosaic data"
      ]
    },
    {
      "cell_type": "code",
      "metadata": {
        "id": "6_dZKEaJAQ2Y"
      },
      "source": [
        "class MosaicDataset1(Dataset):\n",
        "  \"\"\"MosaicDataset dataset.\"\"\"\n",
        "\n",
        "  def __init__(self, mosaic_list, mosaic_label,fore_idx):\n",
        "    \"\"\"\n",
        "      Args:\n",
        "        csv_file (string): Path to the csv file with annotations.\n",
        "        root_dir (string): Directory with all the images.\n",
        "        transform (callable, optional): Optional transform to be applied\n",
        "            on a sample.\n",
        "    \"\"\"\n",
        "    self.mosaic = mosaic_list\n",
        "    self.label = mosaic_label\n",
        "    self.fore_idx = fore_idx\n",
        "    \n",
        "  def __len__(self):\n",
        "    return len(self.label)\n",
        "\n",
        "  def __getitem__(self, idx):\n",
        "    return self.mosaic[idx] , self.label[idx] , self.fore_idx[idx]"
      ],
      "execution_count": 14,
      "outputs": []
    },
    {
      "cell_type": "code",
      "metadata": {
        "id": "9tn26Ne1KXs4"
      },
      "source": [
        "class SyntheticDataset(Dataset):\n",
        "  \"\"\"MosaicDataset dataset.\"\"\"\n",
        "\n",
        "  def __init__(self, x, y):\n",
        "    \"\"\"\n",
        "      Args:\n",
        "        csv_file (string): Path to the csv file with annotations.\n",
        "        root_dir (string): Directory with all the images.\n",
        "        transform (callable, optional): Optional transform to be applied\n",
        "            on a sample.\n",
        "    \"\"\"\n",
        "    self.x = x\n",
        "    self.y = y\n",
        "    #self.fore_idx = fore_idx\n",
        "    \n",
        "  def __len__(self):\n",
        "    return len(self.y)\n",
        "\n",
        "  def __getitem__(self, idx):\n",
        "    return self.x[idx] , self.y[idx] #, self.fore_idx[idx]"
      ],
      "execution_count": 15,
      "outputs": []
    },
    {
      "cell_type": "code",
      "metadata": {
        "id": "UWxCb_h8AQpf"
      },
      "source": [
        "train_data = np.load(\"train_type4_data.npy\",allow_pickle=True)\n",
        "test_data = np.load(\"test_type4_data.npy\",allow_pickle=True)\n",
        "data = np.load(\"type_4_data.npy\",allow_pickle=True)"
      ],
      "execution_count": 16,
      "outputs": []
    },
    {
      "cell_type": "code",
      "metadata": {
        "id": "WR0bl63TAQI9"
      },
      "source": [
        "train_mosaic_list_of_images = train_data[0][\"mosaic_list\"]\n",
        "train_mosaic_label = train_data[0][\"mosaic_label\"]\n",
        "train_fore_idx = train_data[0][\"fore_idx\"]\n",
        "\n",
        "\n",
        "test_mosaic_list_of_images = test_data[0][\"mosaic_list\"]\n",
        "test_mosaic_label = test_data[0][\"mosaic_label\"]\n",
        "test_fore_idx = test_data[0][\"fore_idx\"]\n",
        "X = data[0][\"X\"]\n",
        "Y = data[0][\"Y\"]"
      ],
      "execution_count": 17,
      "outputs": []
    },
    {
      "cell_type": "code",
      "metadata": {
        "id": "GVS6xb4fAZ_P"
      },
      "source": [
        "batch = 250\n",
        "tr_msd = MosaicDataset1(train_mosaic_list_of_images, train_mosaic_label, train_fore_idx)\n",
        "train_loader = DataLoader( tr_msd,batch_size= batch ,shuffle=True)"
      ],
      "execution_count": 18,
      "outputs": []
    },
    {
      "cell_type": "code",
      "metadata": {
        "id": "Mn1Xql2gNrUH"
      },
      "source": [
        "batch = 250\n",
        "tst_msd = MosaicDataset1(test_mosaic_list_of_images, test_mosaic_label, test_fore_idx)\n",
        "test_loader = DataLoader( tst_msd,batch_size= batch ,shuffle=True)"
      ],
      "execution_count": 19,
      "outputs": []
    },
    {
      "cell_type": "code",
      "metadata": {
        "id": "hQNLGobaKa2s"
      },
      "source": [
        "dset = SyntheticDataset(X,Y)\n",
        "dtloader = DataLoader(dset,batch_size =batch,shuffle=True )"
      ],
      "execution_count": 20,
      "outputs": []
    },
    {
      "cell_type": "markdown",
      "metadata": {
        "id": "ARLPPASQ_2gB"
      },
      "source": [
        "# models"
      ]
    },
    {
      "cell_type": "code",
      "metadata": {
        "id": "T1Y0mCQzjSV0"
      },
      "source": [
        "class Module1(nn.Module):\n",
        "  def __init__(self):\n",
        "    super(Module1, self).__init__()\n",
        "    self.fc1 = nn.Linear(2, 100)\n",
        "    self.fc2 = nn.Linear(100, 1)\n",
        "\n",
        "  def forward(self, z):\n",
        "    x = torch.zeros([batch,9],dtype=torch.float64)\n",
        "    y = torch.zeros([batch,2], dtype=torch.float64)\n",
        "    x,y = x.to(\"cuda\"),y.to(\"cuda\")\n",
        "    for i in range(9):\n",
        "      x[:,i] = self.helper(z[:,i])[:,0]\n",
        "    x = F.softmax(x,dim=1)   # alphas\n",
        "    \n",
        "\n",
        "    for i in range(9):            \n",
        "      x1 = x[:,i]          \n",
        "      y = y + torch.mul(x1[:,None],z[:,i])\n",
        "    return y , x \n",
        "  \n",
        "  def helper(self,x):\n",
        "    x = F.relu(self.fc1(x))\n",
        "    x = self.fc2(x)\n",
        "    return x\n",
        "      \n"
      ],
      "execution_count": 21,
      "outputs": []
    },
    {
      "cell_type": "code",
      "metadata": {
        "id": "zt9YwV5rjSK_"
      },
      "source": [
        " class Module2(nn.Module):\n",
        "  def __init__(self):\n",
        "    super(Module2, self).__init__()\n",
        "    self.fc1 = nn.Linear(2, 100)\n",
        "    self.fc2 = nn.Linear(100, 3)\n",
        "\n",
        "  def forward(self,y):  \n",
        "    y = F.relu(self.fc1(y))\n",
        "    y = self.fc2(y)\n",
        "    return y\n"
      ],
      "execution_count": 22,
      "outputs": []
    },
    {
      "cell_type": "code",
      "metadata": {
        "id": "UJbdW7cijRsr"
      },
      "source": [
        "torch.manual_seed(1234)\n",
        "where_net = Module1().double()\n",
        "where_net = where_net.to(\"cuda\")\n",
        "# print(net.parameters)\n",
        "torch.manual_seed(1234)\n",
        "what_net = Module2().double()\n",
        "what_net = what_net.to(\"cuda\")"
      ],
      "execution_count": 23,
      "outputs": []
    },
    {
      "cell_type": "code",
      "metadata": {
        "id": "ehAfQnNwgFYX"
      },
      "source": [
        "def calculate_attn_loss(dataloader,what,where,criter):\n",
        "  what.eval()\n",
        "  where.eval()\n",
        "  r_loss = 0\n",
        "  alphas = []\n",
        "  lbls = []\n",
        "  pred = []\n",
        "  fidices = []\n",
        "  correct = 0\n",
        "  tot = 0\n",
        "  with torch.no_grad():\n",
        "    for i, data in enumerate(dataloader, 0):\n",
        "      inputs, labels,fidx = data\n",
        "      lbls.append(labels)\n",
        "      fidices.append(fidx)\n",
        "      inputs = inputs.double()\n",
        "      inputs, labels = inputs.to(\"cuda\"),labels.to(\"cuda\")\n",
        "      avg,alpha = where(inputs)\n",
        "      outputs = what(avg)\n",
        "      _, predicted = torch.max(outputs.data, 1)\n",
        "      correct += sum(predicted == labels)\n",
        "      tot += len(predicted)\n",
        "      pred.append(predicted.cpu().numpy())\n",
        "      alphas.append(alpha.cpu().numpy())\n",
        "      loss = criter(outputs, labels)\n",
        "      r_loss += loss.item()\n",
        "  alphas = np.concatenate(alphas,axis=0)\n",
        "  pred = np.concatenate(pred,axis=0)\n",
        "  lbls = np.concatenate(lbls,axis=0)\n",
        "  fidices = np.concatenate(fidices,axis=0)\n",
        "  #print(alphas.shape,pred.shape,lbls.shape,fidices.shape) \n",
        "  analysis = analyse_data(alphas,lbls,pred,fidices)\n",
        "  return r_loss/i,analysis,correct.item(),tot,correct.item()/tot"
      ],
      "execution_count": 24,
      "outputs": []
    },
    {
      "cell_type": "code",
      "metadata": {
        "id": "6e9HQJMzxBhp"
      },
      "source": [
        "def analyse_data(alphas,lbls,predicted,f_idx):\n",
        "    '''\n",
        "       analysis data is created here\n",
        "    '''\n",
        "    batch = len(predicted)\n",
        "    amth,alth,ftpt,ffpt,ftpf,ffpf = 0,0,0,0,0,0\n",
        "    for j in range (batch):\n",
        "      focus = np.argmax(alphas[j])\n",
        "      if(alphas[j][focus] >= 0.5):\n",
        "        amth +=1\n",
        "      else:\n",
        "        alth +=1\n",
        "      if(focus == f_idx[j] and predicted[j] == lbls[j]):\n",
        "        ftpt += 1\n",
        "      elif(focus != f_idx[j] and predicted[j] == lbls[j]):\n",
        "        ffpt +=1\n",
        "      elif(focus == f_idx[j] and predicted[j] != lbls[j]):\n",
        "        ftpf +=1\n",
        "      elif(focus != f_idx[j] and predicted[j] != lbls[j]):\n",
        "        ffpf +=1\n",
        "    #print(sum(predicted==lbls),ftpt+ffpt)\n",
        "    return [ftpt,ffpt,ftpf,ffpf,amth,alth]"
      ],
      "execution_count": 25,
      "outputs": []
    },
    {
      "cell_type": "code",
      "metadata": {
        "id": "cu6qMiWpK1IA"
      },
      "source": [
        "def cal_blob_accuracy(dat_loader):\n",
        "  net = Module2().double()\n",
        "  net = net.to(\"cuda\")\n",
        "  net.load_state_dict(torch.load(\"Net.pt\"))\n",
        "  pred1 = []\n",
        "  lbls1 = []\n",
        "  net.eval()\n",
        "  with torch.no_grad():\n",
        "    for i1, data1 in enumerate(dat_loader, 0):\n",
        "      inputs1, labels1= data1\n",
        "      inputs1 = inputs1.double()\n",
        "      inputs1, labels1 = inputs1.to(\"cuda\"),labels1.to(\"cuda\")\n",
        "      lbls1.append(labels1.cpu().numpy())\n",
        "      outputs1 = net(inputs1)\n",
        "      _, predicted1 = torch.max(outputs1.data, 1)\n",
        "      pred1.append(predicted1.cpu().numpy())\n",
        "  #print(np.shape(lbls))\n",
        "  lbls1  = np.concatenate(lbls1,axis=0)\n",
        "  #lbls = lbls[:,0]\n",
        "  #print(lbls.shape)\n",
        "  pred1 = np.concatenate(pred1,axis=0)\n",
        "  idxs1 = np.logical_or(np.logical_or(lbls1==0,lbls1==1),lbls1 ==2)\n",
        "  #print(idxs)\n",
        "  acc1 = (np.sum(lbls1[idxs1] == pred1[idxs1]) / (len(lbls1[idxs1])) )*100\n",
        "\n",
        "  print(\"Accuracy on blob 0,1,2 classes is \",acc1 )\n",
        "  return acc1"
      ],
      "execution_count": 26,
      "outputs": []
    },
    {
      "cell_type": "markdown",
      "metadata": {
        "id": "a2AlGgRa_6_H"
      },
      "source": [
        "# training"
      ]
    },
    {
      "cell_type": "code",
      "metadata": {
        "colab": {
          "base_uri": "https://localhost:8080/"
        },
        "id": "MOfxUJZ_eFKw",
        "outputId": "e85c78db-aaf4-4a10-a6dc-21bedda548be"
      },
      "source": [
        "# instantiate optimizer\n",
        "optimizer_where = optim.RMSprop(where_net.parameters(),lr =0.001)#,nesterov=True)\n",
        "optimizer_what = optim.RMSprop(what_net.parameters(), lr=0.001)#,nesterov=True)\n",
        " \n",
        "\n",
        "criterion = nn.CrossEntropyLoss()\n",
        "acti = []\n",
        "analysis_data_tr = []\n",
        "analysis_data_tst = []\n",
        "loss_curi_tst = []\n",
        "loss_curi_tr = []\n",
        "blob_classify_acc  = []\n",
        "epochs = 450\n",
        "\n",
        "every_what_epoch = 20\n",
        "\n",
        "# calculate zeroth epoch loss and FTPT values\n",
        "running_loss,anlys_data,correct,total,accuracy = calculate_attn_loss(train_loader,what_net,where_net,criterion)\n",
        "print('training epoch: [%d ] loss: %.3f correct: %.3f, total: %.3f, accuracy: %.3f' %(0,running_loss,correct,total,accuracy)) \n",
        "loss_curi_tr.append(running_loss)\n",
        "analysis_data_tr.append(anlys_data)\n",
        "\n",
        "\n",
        "\n",
        "running_loss,anlys_data,correct,total,accuracy = calculate_attn_loss(test_loader,what_net,where_net,criterion)\n",
        "print('test epoch: [%d ] loss: %.3f correct: %.3f, total: %.3f, accuracy: %.3f' %(0,running_loss,correct,total,accuracy)) \n",
        "\n",
        "loss_curi_tst.append(running_loss)\n",
        "analysis_data_tst.append(anlys_data)\n",
        "\n",
        "\n",
        "# training starts \n",
        "for epoch in range(epochs): # loop over the dataset multiple times\n",
        "  ep_lossi = []\n",
        "  running_loss = 0.0\n",
        "  what_net.train()\n",
        "  where_net.train()\n",
        "  # if ((epoch) % (every_what_epoch*2) ) <= every_what_epoch-1 :\n",
        "  #   print(epoch+1,\"updating what_net, where_net is freezed\")\n",
        "  #   print(\"--\"*40)\n",
        "  # elif ((epoch) % (every_what_epoch*2)) > every_what_epoch-1 :\n",
        "  #   print(epoch+1,\"updating where_net, what_net is freezed\")\n",
        "  #   print(\"--\"*40)\n",
        "  for i, data in enumerate(train_loader, 0):\n",
        "    # get the inputs\n",
        "    inputs, labels,_ = data\n",
        "    inputs = inputs.double()\n",
        "    inputs, labels = inputs.to(\"cuda\"),labels.to(\"cuda\")\n",
        "        \n",
        "    # zero the parameter gradients\n",
        "    optimizer_where.zero_grad()\n",
        "    optimizer_what.zero_grad()\n",
        "      \n",
        "    # forward + backward + optimize\n",
        "    avg, alpha = where_net(inputs)\n",
        "    outputs = what_net(avg)\n",
        "    loss = criterion(outputs, labels)\n",
        "\n",
        "    # print statistics\n",
        "    running_loss += loss.item()\n",
        "    loss.backward()\n",
        "    optimizer_what.step()\n",
        "    optimizer_where.step()\n",
        "  running_loss_tr,anls_data,correct,total,accuracy = calculate_attn_loss(train_loader,what_net,where_net,criterion)\n",
        "  analysis_data_tr.append(anls_data)\n",
        "  loss_curi_tr.append(running_loss_tr)   #loss per epoch\n",
        "  print('training epoch: [%d ] loss: %.3f correct: %.3f, total: %.3f, accuracy: %.3f' %(epoch+1,running_loss_tr,correct,total,accuracy)) \n",
        "\n",
        "\n",
        "  # calculate loss for test data\n",
        "  running_loss_tst,anls_data,correct,total,accuracy = calculate_attn_loss(test_loader,what_net,where_net,criterion)\n",
        "  analysis_data_tst.append(anls_data)\n",
        "  loss_curi_tst.append(running_loss_tst)   #loss per epoch\n",
        "  print('test epoch: [%d ] loss: %.3f correct: %.3f, total: %.3f, accuracy: %.3f' %(epoch+1,running_loss_tst,correct,total,accuracy)) \n",
        "  \n",
        "  #torch.save(what_net.state_dict(),\"Net.pt\")\n",
        "  #blob_classify_acc.append(cal_blob_accuracy(dtloader))\n",
        "  \n",
        "  if running_loss_tr<=0.05:\n",
        "    break\n",
        "  # if ((epoch) % (every_what_epoch*2) ) <= every_what_epoch-1 :\n",
        "  #   scheduler_what.step(running_loss_val)\n",
        "  # elif ( (epoch) % (every_what_epoch*2)) > every_what_epoch-1 :\n",
        "  #   scheduler_where.step(running_loss_val)\n",
        "print('Finished Training run ')\n",
        "analysis_data_tr = np.array(analysis_data_tr) \n",
        "analysis_data_tst = np.array(analysis_data_tst)"
      ],
      "execution_count": 27,
      "outputs": [
        {
          "output_type": "stream",
          "text": [
            "training epoch: [0 ] loss: 1.704 correct: 964.000, total: 3000.000, accuracy: 0.321\n",
            "test epoch: [0 ] loss: 1.778 correct: 642.000, total: 2000.000, accuracy: 0.321\n",
            "training epoch: [1 ] loss: 1.223 correct: 992.000, total: 3000.000, accuracy: 0.331\n",
            "test epoch: [1 ] loss: 1.285 correct: 658.000, total: 2000.000, accuracy: 0.329\n",
            "training epoch: [2 ] loss: 1.186 correct: 1112.000, total: 3000.000, accuracy: 0.371\n",
            "test epoch: [2 ] loss: 1.245 correct: 753.000, total: 2000.000, accuracy: 0.377\n",
            "training epoch: [3 ] loss: 1.188 correct: 1115.000, total: 3000.000, accuracy: 0.372\n",
            "test epoch: [3 ] loss: 1.248 correct: 746.000, total: 2000.000, accuracy: 0.373\n",
            "training epoch: [4 ] loss: 1.199 correct: 1147.000, total: 3000.000, accuracy: 0.382\n",
            "test epoch: [4 ] loss: 1.259 correct: 763.000, total: 2000.000, accuracy: 0.382\n",
            "training epoch: [5 ] loss: 1.184 correct: 1123.000, total: 3000.000, accuracy: 0.374\n",
            "test epoch: [5 ] loss: 1.245 correct: 746.000, total: 2000.000, accuracy: 0.373\n",
            "training epoch: [6 ] loss: 1.173 correct: 1107.000, total: 3000.000, accuracy: 0.369\n",
            "test epoch: [6 ] loss: 1.234 correct: 732.000, total: 2000.000, accuracy: 0.366\n",
            "training epoch: [7 ] loss: 1.173 correct: 1167.000, total: 3000.000, accuracy: 0.389\n",
            "test epoch: [7 ] loss: 1.233 correct: 765.000, total: 2000.000, accuracy: 0.383\n",
            "training epoch: [8 ] loss: 1.163 correct: 1195.000, total: 3000.000, accuracy: 0.398\n",
            "test epoch: [8 ] loss: 1.223 correct: 810.000, total: 2000.000, accuracy: 0.405\n",
            "training epoch: [9 ] loss: 1.164 correct: 1194.000, total: 3000.000, accuracy: 0.398\n",
            "test epoch: [9 ] loss: 1.223 correct: 782.000, total: 2000.000, accuracy: 0.391\n",
            "training epoch: [10 ] loss: 1.171 correct: 1139.000, total: 3000.000, accuracy: 0.380\n",
            "test epoch: [10 ] loss: 1.232 correct: 753.000, total: 2000.000, accuracy: 0.377\n",
            "training epoch: [11 ] loss: 1.148 correct: 1239.000, total: 3000.000, accuracy: 0.413\n",
            "test epoch: [11 ] loss: 1.206 correct: 817.000, total: 2000.000, accuracy: 0.408\n",
            "training epoch: [12 ] loss: 1.143 correct: 1285.000, total: 3000.000, accuracy: 0.428\n",
            "test epoch: [12 ] loss: 1.199 correct: 861.000, total: 2000.000, accuracy: 0.430\n",
            "training epoch: [13 ] loss: 1.139 correct: 1292.000, total: 3000.000, accuracy: 0.431\n",
            "test epoch: [13 ] loss: 1.196 correct: 852.000, total: 2000.000, accuracy: 0.426\n",
            "training epoch: [14 ] loss: 1.133 correct: 1325.000, total: 3000.000, accuracy: 0.442\n",
            "test epoch: [14 ] loss: 1.190 correct: 923.000, total: 2000.000, accuracy: 0.462\n",
            "training epoch: [15 ] loss: 1.133 correct: 1277.000, total: 3000.000, accuracy: 0.426\n",
            "test epoch: [15 ] loss: 1.188 correct: 871.000, total: 2000.000, accuracy: 0.435\n",
            "training epoch: [16 ] loss: 1.123 correct: 1315.000, total: 3000.000, accuracy: 0.438\n",
            "test epoch: [16 ] loss: 1.179 correct: 866.000, total: 2000.000, accuracy: 0.433\n",
            "training epoch: [17 ] loss: 1.134 correct: 1319.000, total: 3000.000, accuracy: 0.440\n",
            "test epoch: [17 ] loss: 1.189 correct: 879.000, total: 2000.000, accuracy: 0.440\n",
            "training epoch: [18 ] loss: 1.108 correct: 1368.000, total: 3000.000, accuracy: 0.456\n",
            "test epoch: [18 ] loss: 1.163 correct: 916.000, total: 2000.000, accuracy: 0.458\n",
            "training epoch: [19 ] loss: 1.120 correct: 1422.000, total: 3000.000, accuracy: 0.474\n",
            "test epoch: [19 ] loss: 1.176 correct: 933.000, total: 2000.000, accuracy: 0.467\n",
            "training epoch: [20 ] loss: 1.097 correct: 1367.000, total: 3000.000, accuracy: 0.456\n",
            "test epoch: [20 ] loss: 1.149 correct: 936.000, total: 2000.000, accuracy: 0.468\n",
            "training epoch: [21 ] loss: 1.108 correct: 1425.000, total: 3000.000, accuracy: 0.475\n",
            "test epoch: [21 ] loss: 1.158 correct: 927.000, total: 2000.000, accuracy: 0.464\n",
            "training epoch: [22 ] loss: 1.079 correct: 1507.000, total: 3000.000, accuracy: 0.502\n",
            "test epoch: [22 ] loss: 1.130 correct: 1015.000, total: 2000.000, accuracy: 0.507\n",
            "training epoch: [23 ] loss: 1.076 correct: 1378.000, total: 3000.000, accuracy: 0.459\n",
            "test epoch: [23 ] loss: 1.126 correct: 938.000, total: 2000.000, accuracy: 0.469\n",
            "training epoch: [24 ] loss: 1.071 correct: 1452.000, total: 3000.000, accuracy: 0.484\n",
            "test epoch: [24 ] loss: 1.120 correct: 973.000, total: 2000.000, accuracy: 0.486\n",
            "training epoch: [25 ] loss: 1.058 correct: 1538.000, total: 3000.000, accuracy: 0.513\n",
            "test epoch: [25 ] loss: 1.108 correct: 1039.000, total: 2000.000, accuracy: 0.519\n",
            "training epoch: [26 ] loss: 1.051 correct: 1449.000, total: 3000.000, accuracy: 0.483\n",
            "test epoch: [26 ] loss: 1.099 correct: 994.000, total: 2000.000, accuracy: 0.497\n",
            "training epoch: [27 ] loss: 1.052 correct: 1493.000, total: 3000.000, accuracy: 0.498\n",
            "test epoch: [27 ] loss: 1.097 correct: 1018.000, total: 2000.000, accuracy: 0.509\n",
            "training epoch: [28 ] loss: 1.033 correct: 1571.000, total: 3000.000, accuracy: 0.524\n",
            "test epoch: [28 ] loss: 1.079 correct: 1083.000, total: 2000.000, accuracy: 0.541\n",
            "training epoch: [29 ] loss: 1.033 correct: 1502.000, total: 3000.000, accuracy: 0.501\n",
            "test epoch: [29 ] loss: 1.077 correct: 1028.000, total: 2000.000, accuracy: 0.514\n",
            "training epoch: [30 ] loss: 1.015 correct: 1602.000, total: 3000.000, accuracy: 0.534\n",
            "test epoch: [30 ] loss: 1.058 correct: 1105.000, total: 2000.000, accuracy: 0.552\n",
            "training epoch: [31 ] loss: 1.008 correct: 1648.000, total: 3000.000, accuracy: 0.549\n",
            "test epoch: [31 ] loss: 1.051 correct: 1126.000, total: 2000.000, accuracy: 0.563\n",
            "training epoch: [32 ] loss: 1.001 correct: 1645.000, total: 3000.000, accuracy: 0.548\n",
            "test epoch: [32 ] loss: 1.043 correct: 1129.000, total: 2000.000, accuracy: 0.565\n",
            "training epoch: [33 ] loss: 0.993 correct: 1696.000, total: 3000.000, accuracy: 0.565\n",
            "test epoch: [33 ] loss: 1.035 correct: 1151.000, total: 2000.000, accuracy: 0.576\n",
            "training epoch: [34 ] loss: 0.985 correct: 1665.000, total: 3000.000, accuracy: 0.555\n",
            "test epoch: [34 ] loss: 1.024 correct: 1139.000, total: 2000.000, accuracy: 0.570\n",
            "training epoch: [35 ] loss: 0.977 correct: 1623.000, total: 3000.000, accuracy: 0.541\n",
            "test epoch: [35 ] loss: 1.016 correct: 1115.000, total: 2000.000, accuracy: 0.557\n",
            "training epoch: [36 ] loss: 0.982 correct: 1653.000, total: 3000.000, accuracy: 0.551\n",
            "test epoch: [36 ] loss: 1.022 correct: 1103.000, total: 2000.000, accuracy: 0.551\n",
            "training epoch: [37 ] loss: 0.993 correct: 1608.000, total: 3000.000, accuracy: 0.536\n",
            "test epoch: [37 ] loss: 1.033 correct: 1099.000, total: 2000.000, accuracy: 0.549\n",
            "training epoch: [38 ] loss: 0.955 correct: 1769.000, total: 3000.000, accuracy: 0.590\n",
            "test epoch: [38 ] loss: 0.993 correct: 1169.000, total: 2000.000, accuracy: 0.585\n",
            "training epoch: [39 ] loss: 0.940 correct: 1817.000, total: 3000.000, accuracy: 0.606\n",
            "test epoch: [39 ] loss: 0.976 correct: 1217.000, total: 2000.000, accuracy: 0.609\n",
            "training epoch: [40 ] loss: 0.932 correct: 1721.000, total: 3000.000, accuracy: 0.574\n",
            "test epoch: [40 ] loss: 0.967 correct: 1180.000, total: 2000.000, accuracy: 0.590\n",
            "training epoch: [41 ] loss: 0.929 correct: 1838.000, total: 3000.000, accuracy: 0.613\n",
            "test epoch: [41 ] loss: 0.964 correct: 1213.000, total: 2000.000, accuracy: 0.607\n",
            "training epoch: [42 ] loss: 0.935 correct: 1816.000, total: 3000.000, accuracy: 0.605\n",
            "test epoch: [42 ] loss: 0.968 correct: 1214.000, total: 2000.000, accuracy: 0.607\n",
            "training epoch: [43 ] loss: 0.918 correct: 1823.000, total: 3000.000, accuracy: 0.608\n",
            "test epoch: [43 ] loss: 0.954 correct: 1197.000, total: 2000.000, accuracy: 0.599\n",
            "training epoch: [44 ] loss: 0.900 correct: 1831.000, total: 3000.000, accuracy: 0.610\n",
            "test epoch: [44 ] loss: 0.932 correct: 1247.000, total: 2000.000, accuracy: 0.624\n",
            "training epoch: [45 ] loss: 0.897 correct: 1843.000, total: 3000.000, accuracy: 0.614\n",
            "test epoch: [45 ] loss: 0.929 correct: 1258.000, total: 2000.000, accuracy: 0.629\n",
            "training epoch: [46 ] loss: 0.881 correct: 1893.000, total: 3000.000, accuracy: 0.631\n",
            "test epoch: [46 ] loss: 0.912 correct: 1300.000, total: 2000.000, accuracy: 0.650\n",
            "training epoch: [47 ] loss: 0.885 correct: 1829.000, total: 3000.000, accuracy: 0.610\n",
            "test epoch: [47 ] loss: 0.915 correct: 1231.000, total: 2000.000, accuracy: 0.616\n",
            "training epoch: [48 ] loss: 0.870 correct: 1814.000, total: 3000.000, accuracy: 0.605\n",
            "test epoch: [48 ] loss: 0.900 correct: 1251.000, total: 2000.000, accuracy: 0.625\n",
            "training epoch: [49 ] loss: 0.875 correct: 1855.000, total: 3000.000, accuracy: 0.618\n",
            "test epoch: [49 ] loss: 0.907 correct: 1222.000, total: 2000.000, accuracy: 0.611\n",
            "training epoch: [50 ] loss: 0.848 correct: 1988.000, total: 3000.000, accuracy: 0.663\n",
            "test epoch: [50 ] loss: 0.878 correct: 1358.000, total: 2000.000, accuracy: 0.679\n",
            "training epoch: [51 ] loss: 0.851 correct: 1796.000, total: 3000.000, accuracy: 0.599\n",
            "test epoch: [51 ] loss: 0.878 correct: 1205.000, total: 2000.000, accuracy: 0.603\n",
            "training epoch: [52 ] loss: 0.880 correct: 1753.000, total: 3000.000, accuracy: 0.584\n",
            "test epoch: [52 ] loss: 0.914 correct: 1166.000, total: 2000.000, accuracy: 0.583\n",
            "training epoch: [53 ] loss: 0.845 correct: 1963.000, total: 3000.000, accuracy: 0.654\n",
            "test epoch: [53 ] loss: 0.875 correct: 1347.000, total: 2000.000, accuracy: 0.673\n",
            "training epoch: [54 ] loss: 0.814 correct: 2085.000, total: 3000.000, accuracy: 0.695\n",
            "test epoch: [54 ] loss: 0.841 correct: 1375.000, total: 2000.000, accuracy: 0.688\n",
            "training epoch: [55 ] loss: 0.807 correct: 1960.000, total: 3000.000, accuracy: 0.653\n",
            "test epoch: [55 ] loss: 0.832 correct: 1342.000, total: 2000.000, accuracy: 0.671\n",
            "training epoch: [56 ] loss: 0.809 correct: 2068.000, total: 3000.000, accuracy: 0.689\n",
            "test epoch: [56 ] loss: 0.837 correct: 1385.000, total: 2000.000, accuracy: 0.693\n",
            "training epoch: [57 ] loss: 0.791 correct: 2004.000, total: 3000.000, accuracy: 0.668\n",
            "test epoch: [57 ] loss: 0.816 correct: 1379.000, total: 2000.000, accuracy: 0.690\n",
            "training epoch: [58 ] loss: 0.791 correct: 2043.000, total: 3000.000, accuracy: 0.681\n",
            "test epoch: [58 ] loss: 0.819 correct: 1335.000, total: 2000.000, accuracy: 0.667\n",
            "training epoch: [59 ] loss: 0.771 correct: 2109.000, total: 3000.000, accuracy: 0.703\n",
            "test epoch: [59 ] loss: 0.796 correct: 1440.000, total: 2000.000, accuracy: 0.720\n",
            "training epoch: [60 ] loss: 0.767 correct: 2137.000, total: 3000.000, accuracy: 0.712\n",
            "test epoch: [60 ] loss: 0.792 correct: 1457.000, total: 2000.000, accuracy: 0.729\n",
            "training epoch: [61 ] loss: 0.760 correct: 2118.000, total: 3000.000, accuracy: 0.706\n",
            "test epoch: [61 ] loss: 0.783 correct: 1435.000, total: 2000.000, accuracy: 0.718\n",
            "training epoch: [62 ] loss: 0.749 correct: 2131.000, total: 3000.000, accuracy: 0.710\n",
            "test epoch: [62 ] loss: 0.772 correct: 1458.000, total: 2000.000, accuracy: 0.729\n",
            "training epoch: [63 ] loss: 0.739 correct: 2191.000, total: 3000.000, accuracy: 0.730\n",
            "test epoch: [63 ] loss: 0.762 correct: 1485.000, total: 2000.000, accuracy: 0.743\n",
            "training epoch: [64 ] loss: 0.733 correct: 2256.000, total: 3000.000, accuracy: 0.752\n",
            "test epoch: [64 ] loss: 0.758 correct: 1501.000, total: 2000.000, accuracy: 0.750\n",
            "training epoch: [65 ] loss: 0.729 correct: 2171.000, total: 3000.000, accuracy: 0.724\n",
            "test epoch: [65 ] loss: 0.754 correct: 1420.000, total: 2000.000, accuracy: 0.710\n",
            "training epoch: [66 ] loss: 0.716 correct: 2287.000, total: 3000.000, accuracy: 0.762\n",
            "test epoch: [66 ] loss: 0.738 correct: 1517.000, total: 2000.000, accuracy: 0.758\n",
            "training epoch: [67 ] loss: 0.710 correct: 2281.000, total: 3000.000, accuracy: 0.760\n",
            "test epoch: [67 ] loss: 0.732 correct: 1511.000, total: 2000.000, accuracy: 0.755\n",
            "training epoch: [68 ] loss: 0.700 correct: 2264.000, total: 3000.000, accuracy: 0.755\n",
            "test epoch: [68 ] loss: 0.723 correct: 1538.000, total: 2000.000, accuracy: 0.769\n",
            "training epoch: [69 ] loss: 0.709 correct: 2231.000, total: 3000.000, accuracy: 0.744\n",
            "test epoch: [69 ] loss: 0.736 correct: 1486.000, total: 2000.000, accuracy: 0.743\n",
            "training epoch: [70 ] loss: 0.718 correct: 2034.000, total: 3000.000, accuracy: 0.678\n",
            "test epoch: [70 ] loss: 0.749 correct: 1329.000, total: 2000.000, accuracy: 0.664\n",
            "training epoch: [71 ] loss: 0.678 correct: 2344.000, total: 3000.000, accuracy: 0.781\n",
            "test epoch: [71 ] loss: 0.700 correct: 1553.000, total: 2000.000, accuracy: 0.776\n",
            "training epoch: [72 ] loss: 0.672 correct: 2366.000, total: 3000.000, accuracy: 0.789\n",
            "test epoch: [72 ] loss: 0.696 correct: 1593.000, total: 2000.000, accuracy: 0.796\n",
            "training epoch: [73 ] loss: 0.665 correct: 2263.000, total: 3000.000, accuracy: 0.754\n",
            "test epoch: [73 ] loss: 0.690 correct: 1494.000, total: 2000.000, accuracy: 0.747\n",
            "training epoch: [74 ] loss: 0.649 correct: 2427.000, total: 3000.000, accuracy: 0.809\n",
            "test epoch: [74 ] loss: 0.670 correct: 1604.000, total: 2000.000, accuracy: 0.802\n",
            "training epoch: [75 ] loss: 0.641 correct: 2454.000, total: 3000.000, accuracy: 0.818\n",
            "test epoch: [75 ] loss: 0.663 correct: 1619.000, total: 2000.000, accuracy: 0.809\n",
            "training epoch: [76 ] loss: 0.634 correct: 2435.000, total: 3000.000, accuracy: 0.812\n",
            "test epoch: [76 ] loss: 0.656 correct: 1619.000, total: 2000.000, accuracy: 0.809\n",
            "training epoch: [77 ] loss: 0.626 correct: 2469.000, total: 3000.000, accuracy: 0.823\n",
            "test epoch: [77 ] loss: 0.646 correct: 1639.000, total: 2000.000, accuracy: 0.820\n",
            "training epoch: [78 ] loss: 0.630 correct: 2392.000, total: 3000.000, accuracy: 0.797\n",
            "test epoch: [78 ] loss: 0.651 correct: 1599.000, total: 2000.000, accuracy: 0.799\n",
            "training epoch: [79 ] loss: 0.624 correct: 2345.000, total: 3000.000, accuracy: 0.782\n",
            "test epoch: [79 ] loss: 0.641 correct: 1559.000, total: 2000.000, accuracy: 0.779\n",
            "training epoch: [80 ] loss: 0.605 correct: 2453.000, total: 3000.000, accuracy: 0.818\n",
            "test epoch: [80 ] loss: 0.627 correct: 1627.000, total: 2000.000, accuracy: 0.814\n",
            "training epoch: [81 ] loss: 0.599 correct: 2458.000, total: 3000.000, accuracy: 0.819\n",
            "test epoch: [81 ] loss: 0.620 correct: 1629.000, total: 2000.000, accuracy: 0.815\n",
            "training epoch: [82 ] loss: 0.589 correct: 2538.000, total: 3000.000, accuracy: 0.846\n",
            "test epoch: [82 ] loss: 0.611 correct: 1672.000, total: 2000.000, accuracy: 0.836\n",
            "training epoch: [83 ] loss: 0.580 correct: 2544.000, total: 3000.000, accuracy: 0.848\n",
            "test epoch: [83 ] loss: 0.601 correct: 1685.000, total: 2000.000, accuracy: 0.843\n",
            "training epoch: [84 ] loss: 0.584 correct: 2411.000, total: 3000.000, accuracy: 0.804\n",
            "test epoch: [84 ] loss: 0.608 correct: 1596.000, total: 2000.000, accuracy: 0.798\n",
            "training epoch: [85 ] loss: 0.565 correct: 2584.000, total: 3000.000, accuracy: 0.861\n",
            "test epoch: [85 ] loss: 0.585 correct: 1708.000, total: 2000.000, accuracy: 0.854\n",
            "training epoch: [86 ] loss: 0.565 correct: 2532.000, total: 3000.000, accuracy: 0.844\n",
            "test epoch: [86 ] loss: 0.588 correct: 1667.000, total: 2000.000, accuracy: 0.834\n",
            "training epoch: [87 ] loss: 0.568 correct: 2525.000, total: 3000.000, accuracy: 0.842\n",
            "test epoch: [87 ] loss: 0.593 correct: 1675.000, total: 2000.000, accuracy: 0.838\n",
            "training epoch: [88 ] loss: 0.550 correct: 2553.000, total: 3000.000, accuracy: 0.851\n",
            "test epoch: [88 ] loss: 0.566 correct: 1701.000, total: 2000.000, accuracy: 0.851\n",
            "training epoch: [89 ] loss: 0.551 correct: 2501.000, total: 3000.000, accuracy: 0.834\n",
            "test epoch: [89 ] loss: 0.575 correct: 1644.000, total: 2000.000, accuracy: 0.822\n",
            "training epoch: [90 ] loss: 0.534 correct: 2559.000, total: 3000.000, accuracy: 0.853\n",
            "test epoch: [90 ] loss: 0.555 correct: 1685.000, total: 2000.000, accuracy: 0.843\n",
            "training epoch: [91 ] loss: 0.522 correct: 2639.000, total: 3000.000, accuracy: 0.880\n",
            "test epoch: [91 ] loss: 0.540 correct: 1747.000, total: 2000.000, accuracy: 0.874\n",
            "training epoch: [92 ] loss: 0.537 correct: 2510.000, total: 3000.000, accuracy: 0.837\n",
            "test epoch: [92 ] loss: 0.550 correct: 1669.000, total: 2000.000, accuracy: 0.835\n",
            "training epoch: [93 ] loss: 0.554 correct: 2374.000, total: 3000.000, accuracy: 0.791\n",
            "test epoch: [93 ] loss: 0.564 correct: 1594.000, total: 2000.000, accuracy: 0.797\n",
            "training epoch: [94 ] loss: 0.502 correct: 2661.000, total: 3000.000, accuracy: 0.887\n",
            "test epoch: [94 ] loss: 0.519 correct: 1763.000, total: 2000.000, accuracy: 0.881\n",
            "training epoch: [95 ] loss: 0.499 correct: 2634.000, total: 3000.000, accuracy: 0.878\n",
            "test epoch: [95 ] loss: 0.513 correct: 1741.000, total: 2000.000, accuracy: 0.871\n",
            "training epoch: [96 ] loss: 0.489 correct: 2663.000, total: 3000.000, accuracy: 0.888\n",
            "test epoch: [96 ] loss: 0.504 correct: 1758.000, total: 2000.000, accuracy: 0.879\n",
            "training epoch: [97 ] loss: 0.485 correct: 2659.000, total: 3000.000, accuracy: 0.886\n",
            "test epoch: [97 ] loss: 0.501 correct: 1767.000, total: 2000.000, accuracy: 0.883\n",
            "training epoch: [98 ] loss: 0.482 correct: 2648.000, total: 3000.000, accuracy: 0.883\n",
            "test epoch: [98 ] loss: 0.496 correct: 1756.000, total: 2000.000, accuracy: 0.878\n",
            "training epoch: [99 ] loss: 0.467 correct: 2686.000, total: 3000.000, accuracy: 0.895\n",
            "test epoch: [99 ] loss: 0.486 correct: 1779.000, total: 2000.000, accuracy: 0.889\n",
            "training epoch: [100 ] loss: 0.463 correct: 2699.000, total: 3000.000, accuracy: 0.900\n",
            "test epoch: [100 ] loss: 0.481 correct: 1801.000, total: 2000.000, accuracy: 0.900\n",
            "training epoch: [101 ] loss: 0.456 correct: 2720.000, total: 3000.000, accuracy: 0.907\n",
            "test epoch: [101 ] loss: 0.474 correct: 1807.000, total: 2000.000, accuracy: 0.903\n",
            "training epoch: [102 ] loss: 0.455 correct: 2692.000, total: 3000.000, accuracy: 0.897\n",
            "test epoch: [102 ] loss: 0.469 correct: 1784.000, total: 2000.000, accuracy: 0.892\n",
            "training epoch: [103 ] loss: 0.443 correct: 2728.000, total: 3000.000, accuracy: 0.909\n",
            "test epoch: [103 ] loss: 0.460 correct: 1819.000, total: 2000.000, accuracy: 0.909\n",
            "training epoch: [104 ] loss: 0.439 correct: 2711.000, total: 3000.000, accuracy: 0.904\n",
            "test epoch: [104 ] loss: 0.454 correct: 1800.000, total: 2000.000, accuracy: 0.900\n",
            "training epoch: [105 ] loss: 0.431 correct: 2719.000, total: 3000.000, accuracy: 0.906\n",
            "test epoch: [105 ] loss: 0.445 correct: 1797.000, total: 2000.000, accuracy: 0.898\n",
            "training epoch: [106 ] loss: 0.426 correct: 2712.000, total: 3000.000, accuracy: 0.904\n",
            "test epoch: [106 ] loss: 0.444 correct: 1795.000, total: 2000.000, accuracy: 0.897\n",
            "training epoch: [107 ] loss: 0.418 correct: 2730.000, total: 3000.000, accuracy: 0.910\n",
            "test epoch: [107 ] loss: 0.436 correct: 1814.000, total: 2000.000, accuracy: 0.907\n",
            "training epoch: [108 ] loss: 0.410 correct: 2754.000, total: 3000.000, accuracy: 0.918\n",
            "test epoch: [108 ] loss: 0.424 correct: 1830.000, total: 2000.000, accuracy: 0.915\n",
            "training epoch: [109 ] loss: 0.418 correct: 2709.000, total: 3000.000, accuracy: 0.903\n",
            "test epoch: [109 ] loss: 0.428 correct: 1804.000, total: 2000.000, accuracy: 0.902\n",
            "training epoch: [110 ] loss: 0.411 correct: 2733.000, total: 3000.000, accuracy: 0.911\n",
            "test epoch: [110 ] loss: 0.430 correct: 1809.000, total: 2000.000, accuracy: 0.904\n",
            "training epoch: [111 ] loss: 0.421 correct: 2675.000, total: 3000.000, accuracy: 0.892\n",
            "test epoch: [111 ] loss: 0.444 correct: 1787.000, total: 2000.000, accuracy: 0.893\n",
            "training epoch: [112 ] loss: 0.386 correct: 2767.000, total: 3000.000, accuracy: 0.922\n",
            "test epoch: [112 ] loss: 0.401 correct: 1833.000, total: 2000.000, accuracy: 0.916\n",
            "training epoch: [113 ] loss: 0.381 correct: 2779.000, total: 3000.000, accuracy: 0.926\n",
            "test epoch: [113 ] loss: 0.395 correct: 1851.000, total: 2000.000, accuracy: 0.925\n",
            "training epoch: [114 ] loss: 0.382 correct: 2773.000, total: 3000.000, accuracy: 0.924\n",
            "test epoch: [114 ] loss: 0.400 correct: 1842.000, total: 2000.000, accuracy: 0.921\n",
            "training epoch: [115 ] loss: 0.369 correct: 2785.000, total: 3000.000, accuracy: 0.928\n",
            "test epoch: [115 ] loss: 0.382 correct: 1845.000, total: 2000.000, accuracy: 0.922\n",
            "training epoch: [116 ] loss: 0.380 correct: 2708.000, total: 3000.000, accuracy: 0.903\n",
            "test epoch: [116 ] loss: 0.401 correct: 1811.000, total: 2000.000, accuracy: 0.905\n",
            "training epoch: [117 ] loss: 0.370 correct: 2759.000, total: 3000.000, accuracy: 0.920\n",
            "test epoch: [117 ] loss: 0.389 correct: 1837.000, total: 2000.000, accuracy: 0.918\n",
            "training epoch: [118 ] loss: 0.356 correct: 2791.000, total: 3000.000, accuracy: 0.930\n",
            "test epoch: [118 ] loss: 0.373 correct: 1851.000, total: 2000.000, accuracy: 0.925\n",
            "training epoch: [119 ] loss: 0.347 correct: 2792.000, total: 3000.000, accuracy: 0.931\n",
            "test epoch: [119 ] loss: 0.363 correct: 1862.000, total: 2000.000, accuracy: 0.931\n",
            "training epoch: [120 ] loss: 0.345 correct: 2786.000, total: 3000.000, accuracy: 0.929\n",
            "test epoch: [120 ] loss: 0.363 correct: 1854.000, total: 2000.000, accuracy: 0.927\n",
            "training epoch: [121 ] loss: 0.337 correct: 2799.000, total: 3000.000, accuracy: 0.933\n",
            "test epoch: [121 ] loss: 0.349 correct: 1862.000, total: 2000.000, accuracy: 0.931\n",
            "training epoch: [122 ] loss: 0.336 correct: 2811.000, total: 3000.000, accuracy: 0.937\n",
            "test epoch: [122 ] loss: 0.347 correct: 1859.000, total: 2000.000, accuracy: 0.929\n",
            "training epoch: [123 ] loss: 0.327 correct: 2820.000, total: 3000.000, accuracy: 0.940\n",
            "test epoch: [123 ] loss: 0.341 correct: 1876.000, total: 2000.000, accuracy: 0.938\n",
            "training epoch: [124 ] loss: 0.322 correct: 2819.000, total: 3000.000, accuracy: 0.940\n",
            "test epoch: [124 ] loss: 0.335 correct: 1873.000, total: 2000.000, accuracy: 0.936\n",
            "training epoch: [125 ] loss: 0.317 correct: 2826.000, total: 3000.000, accuracy: 0.942\n",
            "test epoch: [125 ] loss: 0.328 correct: 1886.000, total: 2000.000, accuracy: 0.943\n",
            "training epoch: [126 ] loss: 0.316 correct: 2826.000, total: 3000.000, accuracy: 0.942\n",
            "test epoch: [126 ] loss: 0.325 correct: 1874.000, total: 2000.000, accuracy: 0.937\n",
            "training epoch: [127 ] loss: 0.315 correct: 2814.000, total: 3000.000, accuracy: 0.938\n",
            "test epoch: [127 ] loss: 0.325 correct: 1863.000, total: 2000.000, accuracy: 0.931\n",
            "training epoch: [128 ] loss: 0.315 correct: 2790.000, total: 3000.000, accuracy: 0.930\n",
            "test epoch: [128 ] loss: 0.327 correct: 1846.000, total: 2000.000, accuracy: 0.923\n",
            "training epoch: [129 ] loss: 0.309 correct: 2814.000, total: 3000.000, accuracy: 0.938\n",
            "test epoch: [129 ] loss: 0.314 correct: 1881.000, total: 2000.000, accuracy: 0.941\n",
            "training epoch: [130 ] loss: 0.296 correct: 2819.000, total: 3000.000, accuracy: 0.940\n",
            "test epoch: [130 ] loss: 0.309 correct: 1872.000, total: 2000.000, accuracy: 0.936\n",
            "training epoch: [131 ] loss: 0.291 correct: 2831.000, total: 3000.000, accuracy: 0.944\n",
            "test epoch: [131 ] loss: 0.308 correct: 1886.000, total: 2000.000, accuracy: 0.943\n",
            "training epoch: [132 ] loss: 0.284 correct: 2843.000, total: 3000.000, accuracy: 0.948\n",
            "test epoch: [132 ] loss: 0.294 correct: 1894.000, total: 2000.000, accuracy: 0.947\n",
            "training epoch: [133 ] loss: 0.282 correct: 2837.000, total: 3000.000, accuracy: 0.946\n",
            "test epoch: [133 ] loss: 0.298 correct: 1884.000, total: 2000.000, accuracy: 0.942\n",
            "training epoch: [134 ] loss: 0.274 correct: 2842.000, total: 3000.000, accuracy: 0.947\n",
            "test epoch: [134 ] loss: 0.288 correct: 1895.000, total: 2000.000, accuracy: 0.948\n",
            "training epoch: [135 ] loss: 0.271 correct: 2866.000, total: 3000.000, accuracy: 0.955\n",
            "test epoch: [135 ] loss: 0.282 correct: 1906.000, total: 2000.000, accuracy: 0.953\n",
            "training epoch: [136 ] loss: 0.268 correct: 2866.000, total: 3000.000, accuracy: 0.955\n",
            "test epoch: [136 ] loss: 0.280 correct: 1907.000, total: 2000.000, accuracy: 0.954\n",
            "training epoch: [137 ] loss: 0.311 correct: 2751.000, total: 3000.000, accuracy: 0.917\n",
            "test epoch: [137 ] loss: 0.315 correct: 1824.000, total: 2000.000, accuracy: 0.912\n",
            "training epoch: [138 ] loss: 0.257 correct: 2876.000, total: 3000.000, accuracy: 0.959\n",
            "test epoch: [138 ] loss: 0.267 correct: 1910.000, total: 2000.000, accuracy: 0.955\n",
            "training epoch: [139 ] loss: 0.257 correct: 2855.000, total: 3000.000, accuracy: 0.952\n",
            "test epoch: [139 ] loss: 0.264 correct: 1905.000, total: 2000.000, accuracy: 0.953\n",
            "training epoch: [140 ] loss: 0.282 correct: 2800.000, total: 3000.000, accuracy: 0.933\n",
            "test epoch: [140 ] loss: 0.286 correct: 1864.000, total: 2000.000, accuracy: 0.932\n",
            "training epoch: [141 ] loss: 0.265 correct: 2835.000, total: 3000.000, accuracy: 0.945\n",
            "test epoch: [141 ] loss: 0.269 correct: 1891.000, total: 2000.000, accuracy: 0.946\n",
            "training epoch: [142 ] loss: 0.245 correct: 2868.000, total: 3000.000, accuracy: 0.956\n",
            "test epoch: [142 ] loss: 0.253 correct: 1916.000, total: 2000.000, accuracy: 0.958\n",
            "training epoch: [143 ] loss: 0.245 correct: 2874.000, total: 3000.000, accuracy: 0.958\n",
            "test epoch: [143 ] loss: 0.260 correct: 1900.000, total: 2000.000, accuracy: 0.950\n",
            "training epoch: [144 ] loss: 0.238 correct: 2871.000, total: 3000.000, accuracy: 0.957\n",
            "test epoch: [144 ] loss: 0.252 correct: 1911.000, total: 2000.000, accuracy: 0.956\n",
            "training epoch: [145 ] loss: 0.238 correct: 2869.000, total: 3000.000, accuracy: 0.956\n",
            "test epoch: [145 ] loss: 0.242 correct: 1915.000, total: 2000.000, accuracy: 0.958\n",
            "training epoch: [146 ] loss: 0.235 correct: 2873.000, total: 3000.000, accuracy: 0.958\n",
            "test epoch: [146 ] loss: 0.251 correct: 1902.000, total: 2000.000, accuracy: 0.951\n",
            "training epoch: [147 ] loss: 0.227 correct: 2876.000, total: 3000.000, accuracy: 0.959\n",
            "test epoch: [147 ] loss: 0.241 correct: 1910.000, total: 2000.000, accuracy: 0.955\n",
            "training epoch: [148 ] loss: 0.227 correct: 2864.000, total: 3000.000, accuracy: 0.955\n",
            "test epoch: [148 ] loss: 0.237 correct: 1903.000, total: 2000.000, accuracy: 0.952\n",
            "training epoch: [149 ] loss: 0.239 correct: 2858.000, total: 3000.000, accuracy: 0.953\n",
            "test epoch: [149 ] loss: 0.258 correct: 1889.000, total: 2000.000, accuracy: 0.945\n",
            "training epoch: [150 ] loss: 0.228 correct: 2863.000, total: 3000.000, accuracy: 0.954\n",
            "test epoch: [150 ] loss: 0.230 correct: 1914.000, total: 2000.000, accuracy: 0.957\n",
            "training epoch: [151 ] loss: 0.225 correct: 2872.000, total: 3000.000, accuracy: 0.957\n",
            "test epoch: [151 ] loss: 0.227 correct: 1928.000, total: 2000.000, accuracy: 0.964\n",
            "training epoch: [152 ] loss: 0.219 correct: 2871.000, total: 3000.000, accuracy: 0.957\n",
            "test epoch: [152 ] loss: 0.223 correct: 1908.000, total: 2000.000, accuracy: 0.954\n",
            "training epoch: [153 ] loss: 0.220 correct: 2874.000, total: 3000.000, accuracy: 0.958\n",
            "test epoch: [153 ] loss: 0.237 correct: 1894.000, total: 2000.000, accuracy: 0.947\n",
            "training epoch: [154 ] loss: 0.202 correct: 2901.000, total: 3000.000, accuracy: 0.967\n",
            "test epoch: [154 ] loss: 0.214 correct: 1924.000, total: 2000.000, accuracy: 0.962\n",
            "training epoch: [155 ] loss: 0.199 correct: 2894.000, total: 3000.000, accuracy: 0.965\n",
            "test epoch: [155 ] loss: 0.210 correct: 1928.000, total: 2000.000, accuracy: 0.964\n",
            "training epoch: [156 ] loss: 0.194 correct: 2900.000, total: 3000.000, accuracy: 0.967\n",
            "test epoch: [156 ] loss: 0.203 correct: 1932.000, total: 2000.000, accuracy: 0.966\n",
            "training epoch: [157 ] loss: 0.195 correct: 2908.000, total: 3000.000, accuracy: 0.969\n",
            "test epoch: [157 ] loss: 0.202 correct: 1940.000, total: 2000.000, accuracy: 0.970\n",
            "training epoch: [158 ] loss: 0.193 correct: 2898.000, total: 3000.000, accuracy: 0.966\n",
            "test epoch: [158 ] loss: 0.196 correct: 1933.000, total: 2000.000, accuracy: 0.967\n",
            "training epoch: [159 ] loss: 0.186 correct: 2914.000, total: 3000.000, accuracy: 0.971\n",
            "test epoch: [159 ] loss: 0.198 correct: 1934.000, total: 2000.000, accuracy: 0.967\n",
            "training epoch: [160 ] loss: 0.202 correct: 2874.000, total: 3000.000, accuracy: 0.958\n",
            "test epoch: [160 ] loss: 0.201 correct: 1932.000, total: 2000.000, accuracy: 0.966\n",
            "training epoch: [161 ] loss: 0.180 correct: 2912.000, total: 3000.000, accuracy: 0.971\n",
            "test epoch: [161 ] loss: 0.186 correct: 1941.000, total: 2000.000, accuracy: 0.971\n",
            "training epoch: [162 ] loss: 0.203 correct: 2865.000, total: 3000.000, accuracy: 0.955\n",
            "test epoch: [162 ] loss: 0.202 correct: 1912.000, total: 2000.000, accuracy: 0.956\n",
            "training epoch: [163 ] loss: 0.176 correct: 2905.000, total: 3000.000, accuracy: 0.968\n",
            "test epoch: [163 ] loss: 0.183 correct: 1938.000, total: 2000.000, accuracy: 0.969\n",
            "training epoch: [164 ] loss: 0.187 correct: 2891.000, total: 3000.000, accuracy: 0.964\n",
            "test epoch: [164 ] loss: 0.205 correct: 1915.000, total: 2000.000, accuracy: 0.958\n",
            "training epoch: [165 ] loss: 0.170 correct: 2919.000, total: 3000.000, accuracy: 0.973\n",
            "test epoch: [165 ] loss: 0.175 correct: 1944.000, total: 2000.000, accuracy: 0.972\n",
            "training epoch: [166 ] loss: 0.172 correct: 2921.000, total: 3000.000, accuracy: 0.974\n",
            "test epoch: [166 ] loss: 0.174 correct: 1947.000, total: 2000.000, accuracy: 0.974\n",
            "training epoch: [167 ] loss: 0.163 correct: 2927.000, total: 3000.000, accuracy: 0.976\n",
            "test epoch: [167 ] loss: 0.172 correct: 1950.000, total: 2000.000, accuracy: 0.975\n",
            "training epoch: [168 ] loss: 0.162 correct: 2924.000, total: 3000.000, accuracy: 0.975\n",
            "test epoch: [168 ] loss: 0.174 correct: 1940.000, total: 2000.000, accuracy: 0.970\n",
            "training epoch: [169 ] loss: 0.163 correct: 2909.000, total: 3000.000, accuracy: 0.970\n",
            "test epoch: [169 ] loss: 0.176 correct: 1931.000, total: 2000.000, accuracy: 0.966\n",
            "training epoch: [170 ] loss: 0.156 correct: 2934.000, total: 3000.000, accuracy: 0.978\n",
            "test epoch: [170 ] loss: 0.164 correct: 1952.000, total: 2000.000, accuracy: 0.976\n",
            "training epoch: [171 ] loss: 0.171 correct: 2911.000, total: 3000.000, accuracy: 0.970\n",
            "test epoch: [171 ] loss: 0.186 correct: 1923.000, total: 2000.000, accuracy: 0.962\n",
            "training epoch: [172 ] loss: 0.156 correct: 2927.000, total: 3000.000, accuracy: 0.976\n",
            "test epoch: [172 ] loss: 0.159 correct: 1951.000, total: 2000.000, accuracy: 0.976\n",
            "training epoch: [173 ] loss: 0.151 correct: 2925.000, total: 3000.000, accuracy: 0.975\n",
            "test epoch: [173 ] loss: 0.161 correct: 1950.000, total: 2000.000, accuracy: 0.975\n",
            "training epoch: [174 ] loss: 0.148 correct: 2936.000, total: 3000.000, accuracy: 0.979\n",
            "test epoch: [174 ] loss: 0.153 correct: 1955.000, total: 2000.000, accuracy: 0.978\n",
            "training epoch: [175 ] loss: 0.144 correct: 2942.000, total: 3000.000, accuracy: 0.981\n",
            "test epoch: [175 ] loss: 0.150 correct: 1957.000, total: 2000.000, accuracy: 0.979\n",
            "training epoch: [176 ] loss: 0.145 correct: 2944.000, total: 3000.000, accuracy: 0.981\n",
            "test epoch: [176 ] loss: 0.155 correct: 1954.000, total: 2000.000, accuracy: 0.977\n",
            "training epoch: [177 ] loss: 0.147 correct: 2927.000, total: 3000.000, accuracy: 0.976\n",
            "test epoch: [177 ] loss: 0.162 correct: 1937.000, total: 2000.000, accuracy: 0.969\n",
            "training epoch: [178 ] loss: 0.139 correct: 2944.000, total: 3000.000, accuracy: 0.981\n",
            "test epoch: [178 ] loss: 0.143 correct: 1955.000, total: 2000.000, accuracy: 0.978\n",
            "training epoch: [179 ] loss: 0.137 correct: 2938.000, total: 3000.000, accuracy: 0.979\n",
            "test epoch: [179 ] loss: 0.140 correct: 1959.000, total: 2000.000, accuracy: 0.980\n",
            "training epoch: [180 ] loss: 0.138 correct: 2938.000, total: 3000.000, accuracy: 0.979\n",
            "test epoch: [180 ] loss: 0.149 correct: 1952.000, total: 2000.000, accuracy: 0.976\n",
            "training epoch: [181 ] loss: 0.131 correct: 2942.000, total: 3000.000, accuracy: 0.981\n",
            "test epoch: [181 ] loss: 0.138 correct: 1956.000, total: 2000.000, accuracy: 0.978\n",
            "training epoch: [182 ] loss: 0.137 correct: 2929.000, total: 3000.000, accuracy: 0.976\n",
            "test epoch: [182 ] loss: 0.152 correct: 1943.000, total: 2000.000, accuracy: 0.972\n",
            "training epoch: [183 ] loss: 0.127 correct: 2946.000, total: 3000.000, accuracy: 0.982\n",
            "test epoch: [183 ] loss: 0.133 correct: 1959.000, total: 2000.000, accuracy: 0.980\n",
            "training epoch: [184 ] loss: 0.125 correct: 2950.000, total: 3000.000, accuracy: 0.983\n",
            "test epoch: [184 ] loss: 0.135 correct: 1958.000, total: 2000.000, accuracy: 0.979\n",
            "training epoch: [185 ] loss: 0.124 correct: 2957.000, total: 3000.000, accuracy: 0.986\n",
            "test epoch: [185 ] loss: 0.130 correct: 1963.000, total: 2000.000, accuracy: 0.982\n",
            "training epoch: [186 ] loss: 0.125 correct: 2936.000, total: 3000.000, accuracy: 0.979\n",
            "test epoch: [186 ] loss: 0.128 correct: 1959.000, total: 2000.000, accuracy: 0.980\n",
            "training epoch: [187 ] loss: 0.122 correct: 2937.000, total: 3000.000, accuracy: 0.979\n",
            "test epoch: [187 ] loss: 0.126 correct: 1956.000, total: 2000.000, accuracy: 0.978\n",
            "training epoch: [188 ] loss: 0.120 correct: 2936.000, total: 3000.000, accuracy: 0.979\n",
            "test epoch: [188 ] loss: 0.126 correct: 1953.000, total: 2000.000, accuracy: 0.977\n",
            "training epoch: [189 ] loss: 0.155 correct: 2888.000, total: 3000.000, accuracy: 0.963\n",
            "test epoch: [189 ] loss: 0.148 correct: 1931.000, total: 2000.000, accuracy: 0.966\n",
            "training epoch: [190 ] loss: 0.115 correct: 2962.000, total: 3000.000, accuracy: 0.987\n",
            "test epoch: [190 ] loss: 0.124 correct: 1961.000, total: 2000.000, accuracy: 0.981\n",
            "training epoch: [191 ] loss: 0.161 correct: 2876.000, total: 3000.000, accuracy: 0.959\n",
            "test epoch: [191 ] loss: 0.154 correct: 1923.000, total: 2000.000, accuracy: 0.962\n",
            "training epoch: [192 ] loss: 0.112 correct: 2950.000, total: 3000.000, accuracy: 0.983\n",
            "test epoch: [192 ] loss: 0.116 correct: 1962.000, total: 2000.000, accuracy: 0.981\n",
            "training epoch: [193 ] loss: 0.111 correct: 2948.000, total: 3000.000, accuracy: 0.983\n",
            "test epoch: [193 ] loss: 0.115 correct: 1958.000, total: 2000.000, accuracy: 0.979\n",
            "training epoch: [194 ] loss: 0.112 correct: 2952.000, total: 3000.000, accuracy: 0.984\n",
            "test epoch: [194 ] loss: 0.125 correct: 1956.000, total: 2000.000, accuracy: 0.978\n",
            "training epoch: [195 ] loss: 0.107 correct: 2951.000, total: 3000.000, accuracy: 0.984\n",
            "test epoch: [195 ] loss: 0.112 correct: 1963.000, total: 2000.000, accuracy: 0.982\n",
            "training epoch: [196 ] loss: 0.104 correct: 2959.000, total: 3000.000, accuracy: 0.986\n",
            "test epoch: [196 ] loss: 0.112 correct: 1965.000, total: 2000.000, accuracy: 0.983\n",
            "training epoch: [197 ] loss: 0.102 correct: 2965.000, total: 3000.000, accuracy: 0.988\n",
            "test epoch: [197 ] loss: 0.109 correct: 1967.000, total: 2000.000, accuracy: 0.984\n",
            "training epoch: [198 ] loss: 0.105 correct: 2963.000, total: 3000.000, accuracy: 0.988\n",
            "test epoch: [198 ] loss: 0.113 correct: 1965.000, total: 2000.000, accuracy: 0.983\n",
            "training epoch: [199 ] loss: 0.100 correct: 2957.000, total: 3000.000, accuracy: 0.986\n",
            "test epoch: [199 ] loss: 0.105 correct: 1964.000, total: 2000.000, accuracy: 0.982\n",
            "training epoch: [200 ] loss: 0.098 correct: 2964.000, total: 3000.000, accuracy: 0.988\n",
            "test epoch: [200 ] loss: 0.106 correct: 1968.000, total: 2000.000, accuracy: 0.984\n",
            "training epoch: [201 ] loss: 0.104 correct: 2939.000, total: 3000.000, accuracy: 0.980\n",
            "test epoch: [201 ] loss: 0.106 correct: 1960.000, total: 2000.000, accuracy: 0.980\n",
            "training epoch: [202 ] loss: 0.097 correct: 2957.000, total: 3000.000, accuracy: 0.986\n",
            "test epoch: [202 ] loss: 0.102 correct: 1964.000, total: 2000.000, accuracy: 0.982\n",
            "training epoch: [203 ] loss: 0.106 correct: 2941.000, total: 3000.000, accuracy: 0.980\n",
            "test epoch: [203 ] loss: 0.104 correct: 1961.000, total: 2000.000, accuracy: 0.981\n",
            "training epoch: [204 ] loss: 0.130 correct: 2907.000, total: 3000.000, accuracy: 0.969\n",
            "test epoch: [204 ] loss: 0.146 correct: 1933.000, total: 2000.000, accuracy: 0.967\n",
            "training epoch: [205 ] loss: 0.095 correct: 2952.000, total: 3000.000, accuracy: 0.984\n",
            "test epoch: [205 ] loss: 0.098 correct: 1967.000, total: 2000.000, accuracy: 0.984\n",
            "training epoch: [206 ] loss: 0.089 correct: 2967.000, total: 3000.000, accuracy: 0.989\n",
            "test epoch: [206 ] loss: 0.095 correct: 1967.000, total: 2000.000, accuracy: 0.984\n",
            "training epoch: [207 ] loss: 0.087 correct: 2969.000, total: 3000.000, accuracy: 0.990\n",
            "test epoch: [207 ] loss: 0.094 correct: 1970.000, total: 2000.000, accuracy: 0.985\n",
            "training epoch: [208 ] loss: 0.087 correct: 2965.000, total: 3000.000, accuracy: 0.988\n",
            "test epoch: [208 ] loss: 0.095 correct: 1966.000, total: 2000.000, accuracy: 0.983\n",
            "training epoch: [209 ] loss: 0.089 correct: 2967.000, total: 3000.000, accuracy: 0.989\n",
            "test epoch: [209 ] loss: 0.098 correct: 1965.000, total: 2000.000, accuracy: 0.983\n",
            "training epoch: [210 ] loss: 0.088 correct: 2963.000, total: 3000.000, accuracy: 0.988\n",
            "test epoch: [210 ] loss: 0.098 correct: 1966.000, total: 2000.000, accuracy: 0.983\n",
            "training epoch: [211 ] loss: 0.084 correct: 2967.000, total: 3000.000, accuracy: 0.989\n",
            "test epoch: [211 ] loss: 0.089 correct: 1972.000, total: 2000.000, accuracy: 0.986\n",
            "training epoch: [212 ] loss: 0.082 correct: 2968.000, total: 3000.000, accuracy: 0.989\n",
            "test epoch: [212 ] loss: 0.092 correct: 1967.000, total: 2000.000, accuracy: 0.984\n",
            "training epoch: [213 ] loss: 0.084 correct: 2956.000, total: 3000.000, accuracy: 0.985\n",
            "test epoch: [213 ] loss: 0.089 correct: 1966.000, total: 2000.000, accuracy: 0.983\n",
            "training epoch: [214 ] loss: 0.080 correct: 2966.000, total: 3000.000, accuracy: 0.989\n",
            "test epoch: [214 ] loss: 0.091 correct: 1964.000, total: 2000.000, accuracy: 0.982\n",
            "training epoch: [215 ] loss: 0.080 correct: 2960.000, total: 3000.000, accuracy: 0.987\n",
            "test epoch: [215 ] loss: 0.089 correct: 1962.000, total: 2000.000, accuracy: 0.981\n",
            "training epoch: [216 ] loss: 0.076 correct: 2968.000, total: 3000.000, accuracy: 0.989\n",
            "test epoch: [216 ] loss: 0.084 correct: 1970.000, total: 2000.000, accuracy: 0.985\n",
            "training epoch: [217 ] loss: 0.080 correct: 2965.000, total: 3000.000, accuracy: 0.988\n",
            "test epoch: [217 ] loss: 0.089 correct: 1969.000, total: 2000.000, accuracy: 0.985\n",
            "training epoch: [218 ] loss: 0.074 correct: 2973.000, total: 3000.000, accuracy: 0.991\n",
            "test epoch: [218 ] loss: 0.080 correct: 1972.000, total: 2000.000, accuracy: 0.986\n",
            "training epoch: [219 ] loss: 0.077 correct: 2971.000, total: 3000.000, accuracy: 0.990\n",
            "test epoch: [219 ] loss: 0.086 correct: 1968.000, total: 2000.000, accuracy: 0.984\n",
            "training epoch: [220 ] loss: 0.073 correct: 2978.000, total: 3000.000, accuracy: 0.993\n",
            "test epoch: [220 ] loss: 0.078 correct: 1976.000, total: 2000.000, accuracy: 0.988\n",
            "training epoch: [221 ] loss: 0.104 correct: 2932.000, total: 3000.000, accuracy: 0.977\n",
            "test epoch: [221 ] loss: 0.098 correct: 1963.000, total: 2000.000, accuracy: 0.982\n",
            "training epoch: [222 ] loss: 0.075 correct: 2967.000, total: 3000.000, accuracy: 0.989\n",
            "test epoch: [222 ] loss: 0.087 correct: 1966.000, total: 2000.000, accuracy: 0.983\n",
            "training epoch: [223 ] loss: 0.071 correct: 2967.000, total: 3000.000, accuracy: 0.989\n",
            "test epoch: [223 ] loss: 0.074 correct: 1971.000, total: 2000.000, accuracy: 0.986\n",
            "training epoch: [224 ] loss: 0.076 correct: 2955.000, total: 3000.000, accuracy: 0.985\n",
            "test epoch: [224 ] loss: 0.076 correct: 1967.000, total: 2000.000, accuracy: 0.984\n",
            "training epoch: [225 ] loss: 0.071 correct: 2969.000, total: 3000.000, accuracy: 0.990\n",
            "test epoch: [225 ] loss: 0.072 correct: 1971.000, total: 2000.000, accuracy: 0.986\n",
            "training epoch: [226 ] loss: 0.066 correct: 2970.000, total: 3000.000, accuracy: 0.990\n",
            "test epoch: [226 ] loss: 0.072 correct: 1971.000, total: 2000.000, accuracy: 0.986\n",
            "training epoch: [227 ] loss: 0.065 correct: 2974.000, total: 3000.000, accuracy: 0.991\n",
            "test epoch: [227 ] loss: 0.071 correct: 1973.000, total: 2000.000, accuracy: 0.987\n",
            "training epoch: [228 ] loss: 0.069 correct: 2975.000, total: 3000.000, accuracy: 0.992\n",
            "test epoch: [228 ] loss: 0.069 correct: 1977.000, total: 2000.000, accuracy: 0.989\n",
            "training epoch: [229 ] loss: 0.064 correct: 2973.000, total: 3000.000, accuracy: 0.991\n",
            "test epoch: [229 ] loss: 0.068 correct: 1974.000, total: 2000.000, accuracy: 0.987\n",
            "training epoch: [230 ] loss: 0.064 correct: 2970.000, total: 3000.000, accuracy: 0.990\n",
            "test epoch: [230 ] loss: 0.070 correct: 1971.000, total: 2000.000, accuracy: 0.986\n",
            "training epoch: [231 ] loss: 0.061 correct: 2978.000, total: 3000.000, accuracy: 0.993\n",
            "test epoch: [231 ] loss: 0.065 correct: 1974.000, total: 2000.000, accuracy: 0.987\n",
            "training epoch: [232 ] loss: 0.074 correct: 2966.000, total: 3000.000, accuracy: 0.989\n",
            "test epoch: [232 ] loss: 0.082 correct: 1969.000, total: 2000.000, accuracy: 0.985\n",
            "training epoch: [233 ] loss: 0.060 correct: 2975.000, total: 3000.000, accuracy: 0.992\n",
            "test epoch: [233 ] loss: 0.067 correct: 1972.000, total: 2000.000, accuracy: 0.986\n",
            "training epoch: [234 ] loss: 0.060 correct: 2976.000, total: 3000.000, accuracy: 0.992\n",
            "test epoch: [234 ] loss: 0.068 correct: 1974.000, total: 2000.000, accuracy: 0.987\n",
            "training epoch: [235 ] loss: 0.064 correct: 2969.000, total: 3000.000, accuracy: 0.990\n",
            "test epoch: [235 ] loss: 0.074 correct: 1968.000, total: 2000.000, accuracy: 0.984\n",
            "training epoch: [236 ] loss: 0.058 correct: 2972.000, total: 3000.000, accuracy: 0.991\n",
            "test epoch: [236 ] loss: 0.064 correct: 1972.000, total: 2000.000, accuracy: 0.986\n",
            "training epoch: [237 ] loss: 0.056 correct: 2977.000, total: 3000.000, accuracy: 0.992\n",
            "test epoch: [237 ] loss: 0.062 correct: 1973.000, total: 2000.000, accuracy: 0.987\n",
            "training epoch: [238 ] loss: 0.058 correct: 2972.000, total: 3000.000, accuracy: 0.991\n",
            "test epoch: [238 ] loss: 0.067 correct: 1972.000, total: 2000.000, accuracy: 0.986\n",
            "training epoch: [239 ] loss: 0.055 correct: 2977.000, total: 3000.000, accuracy: 0.992\n",
            "test epoch: [239 ] loss: 0.059 correct: 1976.000, total: 2000.000, accuracy: 0.988\n",
            "training epoch: [240 ] loss: 0.055 correct: 2976.000, total: 3000.000, accuracy: 0.992\n",
            "test epoch: [240 ] loss: 0.060 correct: 1974.000, total: 2000.000, accuracy: 0.987\n",
            "training epoch: [241 ] loss: 0.055 correct: 2983.000, total: 3000.000, accuracy: 0.994\n",
            "test epoch: [241 ] loss: 0.059 correct: 1976.000, total: 2000.000, accuracy: 0.988\n",
            "training epoch: [242 ] loss: 0.056 correct: 2983.000, total: 3000.000, accuracy: 0.994\n",
            "test epoch: [242 ] loss: 0.058 correct: 1982.000, total: 2000.000, accuracy: 0.991\n",
            "training epoch: [243 ] loss: 0.053 correct: 2986.000, total: 3000.000, accuracy: 0.995\n",
            "test epoch: [243 ] loss: 0.057 correct: 1979.000, total: 2000.000, accuracy: 0.990\n",
            "training epoch: [244 ] loss: 0.051 correct: 2987.000, total: 3000.000, accuracy: 0.996\n",
            "test epoch: [244 ] loss: 0.054 correct: 1981.000, total: 2000.000, accuracy: 0.991\n",
            "training epoch: [245 ] loss: 0.050 correct: 2986.000, total: 3000.000, accuracy: 0.995\n",
            "test epoch: [245 ] loss: 0.055 correct: 1977.000, total: 2000.000, accuracy: 0.989\n",
            "Finished Training run \n"
          ],
          "name": "stdout"
        }
      ]
    },
    {
      "cell_type": "code",
      "metadata": {
        "id": "dwRqaz3Wxc23",
        "colab": {
          "base_uri": "https://localhost:8080/",
          "height": 513
        },
        "outputId": "b90d0e10-eafd-4d4a-a1c8-c1b674d7ace3"
      },
      "source": [
        "fig = plt.figure(figsize = (8,8)) \n",
        "#vline_list = np.arange(every_what_epoch, epoch + every_what_epoch, every_what_epoch)\n",
        "# train_loss = np.random.randn(340)\n",
        "# test_loss = np.random.randn(340)\n",
        "epoch_list = np.arange(0, epoch+2)\n",
        "plt.plot(epoch_list,loss_curi_tr, label='train_loss')\n",
        "#plt.plot(epoch_list,loss_curi_tst, label='test_loss')\n",
        "\n",
        "plt.legend(loc='center left', bbox_to_anchor=(1, 0.5))\n",
        "plt.xlabel(\"epochs\")\n",
        "plt.ylabel(\"CE Loss\")\n",
        "#plt.vlines(vline_list,min(min(loss_curi_tr),min(loss_curi_tst)), max(max(loss_curi_tst),max(loss_curi_tr)),linestyles='dotted')\n",
        "plt.title(\"train loss\")\n",
        "plt.show()\n",
        "fig.savefig(\"train_loss_plot.pdf\")\n",
        "fig.savefig(\"train_loss_plot.png\")"
      ],
      "execution_count": 28,
      "outputs": [
        {
          "output_type": "display_data",
          "data": {
            "image/png": "[encoded data removed]",
            "text/plain": [
              "<Figure size 576x576 with 1 Axes>"
            ]
          },
          "metadata": {
            "tags": [],
            "needs_background": "light"
          }
        }
      ]
    },
    {
      "cell_type": "code",
      "metadata": {
        "id": "EZtPJ-rnRr-x",
        "colab": {
          "base_uri": "https://localhost:8080/"
        },
        "outputId": "d23088be-176b-49bd-f262-b0f7065ed024"
      },
      "source": [
        "analysis_data_tr"
      ],
      "execution_count": 29,
      "outputs": [
        {
          "output_type": "execute_result",
          "data": {
            "text/plain": [
              "array([[   9,  955,   14, 2022,    0, 3000],\n",
              "       [   0,  992,   41, 1967,    0, 3000],\n",
              "       [   6, 1106,   12, 1876,    0, 3000],\n",
              "       ...,\n",
              "       [2432,  554,   13,    1, 1587, 1413],\n",
              "       [2309,  678,   10,    3, 1598, 1402],\n",
              "       [2279,  707,   12,    2, 1611, 1389]])"
            ]
          },
          "metadata": {
            "tags": []
          },
          "execution_count": 29
        }
      ]
    },
    {
      "cell_type": "code",
      "metadata": {
        "colab": {
          "base_uri": "https://localhost:8080/"
        },
        "id": "RQ3OzJlOOyY8",
        "outputId": "e4cf2782-8e93-47e6-c8ed-8805bc0bf54a"
      },
      "source": [
        "analysis_data_tst"
      ],
      "execution_count": 30,
      "outputs": [
        {
          "output_type": "execute_result",
          "data": {
            "text/plain": [
              "array([[   2,  640,    7, 1351,    0, 2000],\n",
              "       [   0,  658,   46, 1296,    0, 2000],\n",
              "       [   3,  750,   15, 1232,    0, 2000],\n",
              "       ...,\n",
              "       [1642,  337,   18,    3, 1104,  896],\n",
              "       [1555,  426,   16,    3, 1107,  893],\n",
              "       [1535,  442,   20,    3, 1112,  888]])"
            ]
          },
          "metadata": {
            "tags": []
          },
          "execution_count": 30
        }
      ]
    },
    {
      "cell_type": "code",
      "metadata": {
        "id": "GR7i12R_QymL"
      },
      "source": [
        "columns = [\"epochs\", \"argmax > 0.5\" ,\"argmax < 0.5\", \"focus_true_pred_true\", \"focus_false_pred_true\", \"focus_true_pred_false\", \"focus_false_pred_false\" ]\n",
        "df_train = pd.DataFrame()\n",
        "df_test = pd.DataFrame()\n",
        "df_train[columns[0]] = np.arange(0,epoch+2)\n",
        "df_train[columns[1]] = analysis_data_tr[:,-2]\n",
        "df_train[columns[2]] = analysis_data_tr[:,-1]\n",
        "df_train[columns[3]] = analysis_data_tr[:,0]/30\n",
        "df_train[columns[4]] = analysis_data_tr[:,1]/30\n",
        "df_train[columns[5]] = analysis_data_tr[:,2]/30\n",
        "df_train[columns[6]] = analysis_data_tr[:,3]/30\n",
        "\n",
        "df_test[columns[0]] = np.arange(0,epoch+2)\n",
        "df_test[columns[1]] = analysis_data_tst[:,-2]\n",
        "df_test[columns[2]] = analysis_data_tst[:,-1]\n",
        "df_test[columns[3]] = analysis_data_tst[:,0]/20\n",
        "df_test[columns[4]] = analysis_data_tst[:,1]/20\n",
        "df_test[columns[5]] = analysis_data_tst[:,2]/20\n",
        "df_test[columns[6]] = analysis_data_tst[:,3]/20"
      ],
      "execution_count": 31,
      "outputs": []
    },
    {
      "cell_type": "code",
      "metadata": {
        "id": "gYIlDhfYSg4y",
        "colab": {
          "base_uri": "https://localhost:8080/",
          "height": 404
        },
        "outputId": "65880884-9307-4bd8-85f7-83f7fa4a4e21"
      },
      "source": [
        "# plt.figure(figsize=(12,12))\n",
        "# plt.plot(df_train[columns[0]],df_train[columns[1]], label='argmax > 0.5')\n",
        "# plt.plot(df_train[columns[0]],df_train[columns[2]], label='argmax < 0.5')\n",
        "\n",
        "# plt.legend(loc='center left', bbox_to_anchor=(1, 0.5))\n",
        "# plt.xlabel(\"epochs\")\n",
        "# plt.ylabel(\"training data\")\n",
        "# plt.title(\"On Training set\")\n",
        "# #plt.vlines(vline_list,min(min(df_train[columns[1]]),min(df_train[columns[2]])), max(max(df_train[columns[1]]),max(df_train[columns[2]])),linestyles='dotted')\n",
        "# plt.show()\n",
        "\n",
        "fig=plt.figure(figsize=(8,6))\n",
        "plt.plot(df_train[columns[0]],df_train[columns[3]], label =\"focus_true_pred_true \")\n",
        "plt.plot(df_train[columns[0]],df_train[columns[4]], label =\"focus_false_pred_true \")\n",
        "plt.plot(df_train[columns[0]],df_train[columns[5]], label =\"focus_true_pred_false \")\n",
        "plt.plot(df_train[columns[0]],df_train[columns[6]], label =\"focus_false_pred_false \")\n",
        "plt.title(\"On Train set\")\n",
        "plt.legend(loc='center left', bbox_to_anchor=(1, 0.5))\n",
        "plt.xlabel(\"epochs\")\n",
        "plt.ylabel(\"training data\")\n",
        "#plt.vlines(vline_list,min(min(df_train[columns[3]]),min(df_train[columns[4]]),min(df_train[columns[5]]),min(df_train[columns[6]])), max(max(df_train[columns[3]]),max(df_train[columns[4]]),max(df_train[columns[5]]),max(df_train[columns[6]])),linestyles='dotted')\n",
        "plt.show()\n",
        "fig.savefig(\"train_analysis.pdf\")\n",
        "fig.savefig(\"train_analysis.png\")"
      ],
      "execution_count": 32,
      "outputs": [
        {
          "output_type": "display_data",
          "data": {
            "image/png": "[encoded data removed]",
            "text/plain": [
              "<Figure size 576x432 with 1 Axes>"
            ]
          },
          "metadata": {
            "tags": [],
            "needs_background": "light"
          }
        }
      ]
    },
    {
      "cell_type": "code",
      "metadata": {
        "id": "UPvuau_Id_Fi",
        "colab": {
          "base_uri": "https://localhost:8080/",
          "height": 404
        },
        "outputId": "08a248a0-15cf-4ff0-fcfc-de41272df6d5"
      },
      "source": [
        "# plt.figure(figsize=(12,12))\n",
        "# plt.plot(df_test[columns[0]],df_test[columns[1]], label='argmax > 0.5')\n",
        "# plt.plot(df_test[columns[0]],df_test[columns[2]], label='argmax < 0.5')\n",
        "\n",
        "# plt.legend(loc='center left', bbox_to_anchor=(1, 0.5))\n",
        "# plt.xlabel(\"epochs\")\n",
        "# plt.ylabel(\"test data\")\n",
        "# plt.title(\"On Testing set\")\n",
        "# #plt.vlines(vline_list,min(min(df_test[columns[1]]),min(df_test[columns[2]])), max(max(df_test[columns[1]]),max(df_test[columns[2]])),linestyles='dotted')\n",
        "# plt.show()\n",
        "\n",
        "fig=plt.figure(figsize=(8,6))\n",
        "plt.plot(df_test[columns[0]],df_test[columns[3]], label =\"focus_true_pred_true \")\n",
        "plt.plot(df_test[columns[0]],df_test[columns[4]], label =\"focus_false_pred_true \")\n",
        "plt.plot(df_test[columns[0]],df_test[columns[5]], label =\"focus_true_pred_false \")\n",
        "plt.plot(df_test[columns[0]],df_test[columns[6]], label =\"focus_false_pred_false \")\n",
        "plt.title(\"On Test set\")\n",
        "plt.legend(loc='center left', bbox_to_anchor=(1, 0.5))\n",
        "plt.xlabel(\"epochs\")\n",
        "plt.ylabel(\"testing data\")\n",
        "#plt.vlines(vline_list,min(min(df_test[columns[3]]),min(df_test[columns[4]]),min(df_test[columns[5]]),min(df_test[columns[6]])), max(max(df_test[columns[3]]),max(df_test[columns[4]]),max(df_test[columns[5]]),max(df_test[columns[6]])),linestyles='dotted')\n",
        "plt.show()\n",
        "fig.savefig(\"test_analysis.pdf\")\n",
        "fig.savefig(\"test_analysis.png\")"
      ],
      "execution_count": 33,
      "outputs": [
        {
          "output_type": "display_data",
          "data": {
            "image/png": "[encoded data removed]",
            "text/plain": [
              "<Figure size 576x432 with 1 Axes>"
            ]
          },
          "metadata": {
            "tags": [],
            "needs_background": "light"
          }
        }
      ]
    },
    {
      "cell_type": "code",
      "metadata": {
        "id": "hGgOLQseShsw"
      },
      "source": [
        "# fig = plt.figure(figsize = (8,8)) \n",
        "# vline_list = np.arange(every_what_epoch, epoch + every_what_epoch, every_what_epoch)\n",
        "# # train_loss = np.random.randn(340)\n",
        "# # test_loss = np.random.randn(340)\n",
        "# epoch_list = np.arange(0, epoch+1)\n",
        "# plt.plot(epoch_list, blob_classify_acc , label='blob_classify_acc')\n",
        "# #plt.plot(epoch_list,loss_curi_tst, label='test_loss')\n",
        "\n",
        "# # plt.legend(loc='center left', bbox_to_anchor=(1, 0.5))\n",
        "# plt.legend()\n",
        "# plt.xlabel(\"epochs\")\n",
        "# plt.ylabel(\"accuracy\")\n",
        "# #plt.vlines(vline_list,min(min(loss_curi_tr),min(loss_curi_tst)), max(max(loss_curi_tst),max(loss_curi_tr)),linestyles='dotted')\n",
        "# plt.title(\"blob 3 class classify accuracy\")\n",
        "# plt.show()\n",
        "# fig.savefig(\"blob_classify_acc_every_20_plot.pdf\")\n",
        "# fig.savefig(\"blob_classify_acc_every_20_plot.png\")"
      ],
      "execution_count": 34,
      "outputs": []
    },
    {
      "cell_type": "code",
      "metadata": {
        "id": "yanNSw3vO7j4"
      },
      "source": [
        ""
      ],
      "execution_count": 34,
      "outputs": []
    }
  ]
}