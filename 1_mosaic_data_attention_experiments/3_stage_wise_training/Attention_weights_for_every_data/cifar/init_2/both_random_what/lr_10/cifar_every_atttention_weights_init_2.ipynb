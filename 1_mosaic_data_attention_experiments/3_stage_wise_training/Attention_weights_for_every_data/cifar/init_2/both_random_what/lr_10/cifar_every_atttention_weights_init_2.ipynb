{
  "nbformat": 4,
  "nbformat_minor": 0,
  "metadata": {
    "accelerator": "GPU",
    "colab": {
      "name": "cifar_every_atttention_weights_init_2.ipynb",
      "provenance": [],
      "collapsed_sections": []
    },
    "kernelspec": {
      "display_name": "Python 3",
      "name": "python3"
    },
    "language_info": {
      "name": "python"
    }
  },
  "cells": [
    {
      "cell_type": "code",
      "metadata": {
        "id": "BWIyC9Ip_bcq"
      },
      "source": [
        "import numpy as np\n",
        "import pandas as pd\n",
        "\n",
        "import torch\n",
        "import torchvision\n",
        "from torch.utils.data import Dataset, DataLoader\n",
        "from torchvision import transforms, utils\n",
        "import torch.nn as nn\n",
        "import torch.nn.functional as F\n",
        "import torch.optim as optim\n",
        "\n",
        "from matplotlib import pyplot as plt\n",
        "%matplotlib inline\n",
        "torch.backends.cudnn.deterministic = True\n",
        "torch.backends.cudnn.benchmark = False"
      ],
      "execution_count": 1,
      "outputs": []
    },
    {
      "cell_type": "code",
      "metadata": {
        "colab": {
          "base_uri": "https://localhost:8080/"
        },
        "id": "cgw1f4rVkGr9",
        "outputId": "d7641737-c066-4f51-8de6-11ced278cf2c"
      },
      "source": [
        "transform = transforms.Compose(\n",
        "    [transforms.ToTensor(),\n",
        "     transforms.Normalize((0.5, 0.5, 0.5), (0.5, 0.5, 0.5))])\n",
        "\n",
        "trainset = torchvision.datasets.CIFAR10(root='./data', train=True, download=True, transform=transform)"
      ],
      "execution_count": 2,
      "outputs": [
        {
          "output_type": "stream",
          "text": [
            "Files already downloaded and verified\n"
          ],
          "name": "stdout"
        }
      ]
    },
    {
      "cell_type": "code",
      "metadata": {
        "id": "D-xlWYTKkQEn"
      },
      "source": [
        "trainloader = torch.utils.data.DataLoader(trainset, batch_size=10, shuffle=False)\n",
        "\n",
        "\n",
        "classes = ('plane', 'car', 'bird', 'cat', 'deer', 'dog', 'frog', 'horse', 'ship', 'truck')\n",
        "\n",
        "foreground_classes = {'plane', 'car', 'bird'}\n",
        "#foreground_classes = {'bird', 'cat', 'deer'}\n",
        "background_classes = {'cat', 'deer', 'dog', 'frog', 'horse', 'ship', 'truck'}\n",
        "#background_classes = {'plane', 'car', 'dog', 'frog', 'horse','ship', 'truck'}\n",
        "\n",
        "fg1,fg2,fg3 = 0,1,2"
      ],
      "execution_count": 3,
      "outputs": []
    },
    {
      "cell_type": "code",
      "metadata": {
        "id": "zrX68qhikUbz"
      },
      "source": [
        "dataiter = iter(trainloader)\n",
        "background_data=[]\n",
        "background_label=[]\n",
        "foreground_data=[]\n",
        "foreground_label=[]\n",
        "batch_size=10\n",
        "\n",
        "for i in range(5000):\n",
        "  images, labels = dataiter.next()\n",
        "  for j in range(batch_size):\n",
        "    if(classes[labels[j]] in background_classes):\n",
        "      img = images[j].tolist()\n",
        "      background_data.append(img)\n",
        "      background_label.append(labels[j])\n",
        "    else:\n",
        "      img = images[j].tolist()\n",
        "      foreground_data.append(img)\n",
        "      foreground_label.append(labels[j])\n",
        "            \n",
        "foreground_data = torch.tensor(foreground_data)\n",
        "foreground_label = torch.tensor(foreground_label)\n",
        "background_data = torch.tensor(background_data)\n",
        "background_label = torch.tensor(background_label)"
      ],
      "execution_count": 4,
      "outputs": []
    },
    {
      "cell_type": "code",
      "metadata": {
        "id": "eD-QJkvnkgyk"
      },
      "source": [
        "def create_mosaic_img(bg_idx,fg_idx,fg): \n",
        "  \"\"\"\n",
        "  bg_idx : list of indexes of background_data[] to be used as background images in mosaic\n",
        "  fg_idx : index of image to be used as foreground image from foreground data\n",
        "  fg : at what position/index foreground image has to be stored out of 0-8\n",
        "  \"\"\"\n",
        "  image_list=[]\n",
        "  j=0\n",
        "  for i in range(9):\n",
        "    if i != fg:\n",
        "      image_list.append(background_data[bg_idx[j]])#.type(\"torch.DoubleTensor\"))\n",
        "      j+=1\n",
        "    else: \n",
        "      image_list.append(foreground_data[fg_idx])#.type(\"torch.DoubleTensor\"))\n",
        "      label = foreground_label[fg_idx]-fg1  # minus 7 because our fore ground classes are 7,8,9 but we have to store it as 0,1,2\n",
        "  #image_list = np.concatenate(image_list ,axis=0)\n",
        "  image_list = torch.stack(image_list) \n",
        "  return image_list,label"
      ],
      "execution_count": 5,
      "outputs": []
    },
    {
      "cell_type": "code",
      "metadata": {
        "id": "Zs10rfXHkli2"
      },
      "source": [
        "desired_num = 30000\n",
        "mosaic_list_of_images =[]      # list of mosaic images, each mosaic image is saved as list of 9 images\n",
        "fore_idx =[]                   # list of indexes at which foreground image is present in a mosaic image i.e from 0 to 9               \n",
        "mosaic_label=[]                # label of mosaic image = foreground class present in that mosaic\n",
        "for i in range(desired_num):\n",
        "  np.random.seed(i)\n",
        "  bg_idx = np.random.randint(0,35000,8)\n",
        "  fg_idx = np.random.randint(0,15000)\n",
        "  fg = np.random.randint(0,9)\n",
        "  fore_idx.append(fg)\n",
        "  image_list,label = create_mosaic_img(bg_idx,fg_idx,fg)\n",
        "  mosaic_list_of_images.append(image_list)\n",
        "  mosaic_label.append(label)"
      ],
      "execution_count": 6,
      "outputs": []
    },
    {
      "cell_type": "code",
      "metadata": {
        "id": "7km9Swb1kq4O"
      },
      "source": [
        "class MosaicDataset(Dataset):\n",
        "  \"\"\"MosaicDataset dataset.\"\"\"\n",
        "\n",
        "  def __init__(self, mosaic_list_of_images, mosaic_label, fore_idx):\n",
        "    \"\"\"\n",
        "      Args:\n",
        "        csv_file (string): Path to the csv file with annotations.\n",
        "        root_dir (string): Directory with all the images.\n",
        "        transform (callable, optional): Optional transform to be applied\n",
        "            on a sample.\n",
        "    \"\"\"\n",
        "    self.mosaic = mosaic_list_of_images\n",
        "    self.label = mosaic_label\n",
        "    self.fore_idx = fore_idx\n",
        "\n",
        "  def __len__(self):\n",
        "    return len(self.label)\n",
        "\n",
        "  def __getitem__(self, idx):\n",
        "    return self.mosaic[idx] , self.label[idx], self.fore_idx[idx]\n",
        "batch = 250\n",
        "msd = MosaicDataset(mosaic_list_of_images, mosaic_label , fore_idx)\n",
        "train_loader = DataLoader( msd,batch_size= batch ,shuffle=False,num_workers=0,)"
      ],
      "execution_count": 7,
      "outputs": []
    },
    {
      "cell_type": "code",
      "metadata": {
        "id": "lGVy-1EllAc_"
      },
      "source": [
        "data,labels,fg_index = iter(train_loader).next()"
      ],
      "execution_count": 8,
      "outputs": []
    },
    {
      "cell_type": "code",
      "metadata": {
        "id": "DOpZfj1bq7wN"
      },
      "source": [
        "bg = []\n",
        "for i in range(120):\n",
        "  torch.manual_seed(i)\n",
        "  betag = torch.ones((250,9))/9  #torch.randn(250,9)\n",
        "  a=bg.append( betag.requires_grad_() )"
      ],
      "execution_count": 9,
      "outputs": []
    },
    {
      "cell_type": "code",
      "metadata": {
        "id": "HbrMidFCla6h"
      },
      "source": [
        "class Module2(nn.Module):\n",
        "  def __init__(self):\n",
        "    super(Module2, self).__init__()\n",
        "    \n",
        "    self.conv1 = nn.Conv2d(3, 6, 5)\n",
        "    self.pool = nn.MaxPool2d(2, 2)\n",
        "    self.conv2 = nn.Conv2d(6, 16, 5)\n",
        "    self.fc1 = nn.Linear(16 * 5 * 5, 120)\n",
        "    self.fc2 = nn.Linear(120, 84)\n",
        "    self.fc3 = nn.Linear(84, 10)\n",
        "    self.fc4 = nn.Linear(10,3)\n",
        "\n",
        "  def forward(self,y):  #z batch of list of 9 images\n",
        "    y1 = self.pool(F.relu(self.conv1(y)))\n",
        "    y1 = self.pool(F.relu(self.conv2(y1)))\n",
        "    y1 = y1.view(-1, 16 * 5 * 5)\n",
        "\n",
        "    y1 = F.relu(self.fc1(y1))\n",
        "    y1 = F.relu(self.fc2(y1))\n",
        "    y1 = F.relu(self.fc3(y1))\n",
        "    y1 = self.fc4(y1)\n",
        "    return y1"
      ],
      "execution_count": 10,
      "outputs": []
    },
    {
      "cell_type": "code",
      "metadata": {
        "id": "rRqj2VELllkX"
      },
      "source": [
        "torch.manual_seed(1234)\n",
        "what_net = Module2().double()\n",
        "\n",
        "#what_net.load_state_dict(torch.load(\"simultaneous_what.pt\"))\n",
        "what_net = what_net.to(\"cuda\")"
      ],
      "execution_count": 11,
      "outputs": []
    },
    {
      "cell_type": "code",
      "metadata": {
        "id": "6d8Wch99l4yB"
      },
      "source": [
        "def attn_avg(x,beta):\n",
        "  y = torch.zeros([batch,3, 32,32], dtype=torch.float64)\n",
        "  y = y.to(\"cuda\")\n",
        "  alpha = F.softmax(beta,dim=1)   # alphas\n",
        "  for i in range(9):            \n",
        "    alpha1 = alpha[:,i]          \n",
        "    y = y + torch.mul(alpha1[:,None,None,None],x[:,i])\n",
        "  return y,alpha"
      ],
      "execution_count": 12,
      "outputs": []
    },
    {
      "cell_type": "code",
      "metadata": {
        "id": "Rz1Kpw12loV6"
      },
      "source": [
        "def calculate_attn_loss(dataloader,what,criter):\n",
        "  what.eval()\n",
        "  r_loss = 0\n",
        "  alphas = []\n",
        "  lbls = []\n",
        "  pred = []\n",
        "  fidices = []\n",
        "  correct = 0\n",
        "  tot = 0\n",
        "  with torch.no_grad():\n",
        "    for i, data in enumerate(dataloader, 0):\n",
        "      inputs, labels,fidx= data\n",
        "      lbls.append(labels)\n",
        "      fidices.append(fidx)\n",
        "      inputs = inputs.double()\n",
        "      beta = bg[i]  # alpha for ith batch\n",
        "      inputs, labels,beta = inputs.to(\"cuda\"),labels.to(\"cuda\"),beta.to(\"cuda\")\n",
        "      avg,alpha = attn_avg(inputs,beta)\n",
        "      alpha = alpha.to(\"cuda\")\n",
        "      outputs = what(avg)\n",
        "      _, predicted = torch.max(outputs.data, 1)\n",
        "      correct += sum(predicted == labels)\n",
        "      tot += len(predicted)\n",
        "      pred.append(predicted.cpu().numpy())\n",
        "      alphas.append(alpha.cpu().numpy())\n",
        "      loss = criter(outputs, labels)\n",
        "      r_loss += loss.item()\n",
        "  alphas = np.concatenate(alphas,axis=0)\n",
        "  pred = np.concatenate(pred,axis=0)\n",
        "  lbls = np.concatenate(lbls,axis=0)\n",
        "  fidices = np.concatenate(fidices,axis=0)\n",
        "  #print(alphas.shape,pred.shape,lbls.shape,fidices.shape) \n",
        "  analysis = analyse_data(alphas,lbls,pred,fidices)\n",
        "  return r_loss/(i+1),analysis,correct.item(),tot,correct.item()/tot"
      ],
      "execution_count": 13,
      "outputs": []
    },
    {
      "cell_type": "code",
      "metadata": {
        "id": "sAY-x6UAwrwE"
      },
      "source": [
        "# for param in what_net.parameters():\n",
        "#     param.requires_grad = False"
      ],
      "execution_count": 14,
      "outputs": []
    },
    {
      "cell_type": "code",
      "metadata": {
        "id": "_toCktPanH0S"
      },
      "source": [
        "def analyse_data(alphas,lbls,predicted,f_idx):\n",
        "    '''\n",
        "       analysis data is created here\n",
        "    '''\n",
        "    batch = len(predicted)\n",
        "    amth,alth,ftpt,ffpt,ftpf,ffpf = 0,0,0,0,0,0\n",
        "    for j in range (batch):\n",
        "      focus = np.argmax(alphas[j])\n",
        "      if(alphas[j][focus] >= 0.5):\n",
        "        amth +=1\n",
        "      else:\n",
        "        alth +=1\n",
        "      if(focus == f_idx[j] and predicted[j] == lbls[j]):\n",
        "        ftpt += 1\n",
        "      elif(focus != f_idx[j] and predicted[j] == lbls[j]):\n",
        "        ffpt +=1\n",
        "      elif(focus == f_idx[j] and predicted[j] != lbls[j]):\n",
        "        ftpf +=1\n",
        "      elif(focus != f_idx[j] and predicted[j] != lbls[j]):\n",
        "        ffpf +=1\n",
        "    #print(sum(predicted==lbls),ftpt+ffpt\n",
        "    return [ftpt,ffpt,ftpf,ffpf,amth,alth]"
      ],
      "execution_count": 15,
      "outputs": []
    },
    {
      "cell_type": "code",
      "metadata": {
        "id": "S633XgMToeN3"
      },
      "source": [
        "optim1 = []\n",
        "for i in range(120):\n",
        "  optim1.append(optim.RMSprop([bg[i]], lr=10))"
      ],
      "execution_count": 16,
      "outputs": []
    },
    {
      "cell_type": "code",
      "metadata": {
        "colab": {
          "base_uri": "https://localhost:8080/"
        },
        "id": "qPaYaojinMTA",
        "outputId": "01bea641-4e63-42c7-8bc1-2d782f03966e"
      },
      "source": [
        "# instantiate optimizer\n",
        "optimizer_what = optim.RMSprop(what_net.parameters(), lr=0.001)#, momentum=0.9)#,nesterov=True)\n",
        "\n",
        "\n",
        " \n",
        "\n",
        "\n",
        "criterion = nn.CrossEntropyLoss()\n",
        "acti = []\n",
        "analysis_data_tr = []\n",
        "analysis_data_tst = []\n",
        "loss_curi_tr = []\n",
        "loss_curi_tst = []\n",
        "epochs = 100\n",
        "\n",
        "\n",
        "# calculate zeroth epoch loss and FTPT values\n",
        "running_loss,anlys_data,correct,total,accuracy = calculate_attn_loss(train_loader,what_net,criterion)\n",
        "print('training epoch: [%d ] loss: %.3f correct: %.3f, total: %.3f, accuracy: %.3f' %(0,running_loss,correct,total,accuracy)) \n",
        "loss_curi_tr.append(running_loss)\n",
        "analysis_data_tr.append(anlys_data)\n",
        "\n",
        "\n",
        "\n",
        "\n",
        "# training starts \n",
        "for epoch in range(epochs): # loop over the dataset multiple times\n",
        "  ep_lossi = []\n",
        "  running_loss = 0.0\n",
        "  what_net.train()\n",
        "  for i, data in enumerate(train_loader, 0):\n",
        "    # get the inputs\n",
        "    inputs, labels,_  = data\n",
        "    inputs = inputs.double()\n",
        "    beta = bg[i] # alpha for ith batch\n",
        "    inputs, labels,beta = inputs.to(\"cuda\"),labels.to(\"cuda\"),beta.to(\"cuda\")\n",
        "        \n",
        "    # zero the parameter gradients\n",
        "    optimizer_what.zero_grad()\n",
        "    optim1[i].zero_grad()\n",
        "      \n",
        "    # forward + backward + optimize\n",
        "    avg,alpha = attn_avg(inputs,beta)\n",
        "    outputs = what_net(avg)     \n",
        "    loss = criterion(outputs, labels)\n",
        "\n",
        "    # print statistics\n",
        "    running_loss += loss.item()\n",
        "    #alpha.retain_grad()\n",
        "    loss.backward(retain_graph=False)\n",
        "    optimizer_what.step()\n",
        "    optim1[i].step()\n",
        "\n",
        "\n",
        "  running_loss_tr,anls_data,correct,total,accuracy = calculate_attn_loss(train_loader,what_net,criterion)\n",
        "  analysis_data_tr.append(anls_data)\n",
        "  loss_curi_tr.append(running_loss_tr)   #loss per epoch\n",
        "  print('training epoch: [%d ] loss: %.3f correct: %.3f, total: %.3f, accuracy: %.3f' %(epoch+1,running_loss_tr,correct,total,accuracy)) \n",
        "\n",
        "\n",
        "  \n",
        "  if running_loss_tr<=0.08:\n",
        "    break\n",
        "print('Finished Training run ')\n",
        "analysis_data_tr = np.array(analysis_data_tr)\n",
        "\n"
      ],
      "execution_count": 17,
      "outputs": [
        {
          "output_type": "stream",
          "text": [
            "/usr/local/lib/python3.7/dist-packages/torch/nn/functional.py:718: UserWarning: Named tensors and all their associated APIs are an experimental feature and subject to change. Please do not use them for anything important until they are released as stable. (Triggered internally at  /pytorch/c10/core/TensorImpl.h:1156.)\n",
            "  return torch.max_pool2d(input, kernel_size, stride, padding, dilation, ceil_mode)\n"
          ],
          "name": "stderr"
        },
        {
          "output_type": "stream",
          "text": [
            "training epoch: [0 ] loss: 1.110 correct: 10137.000, total: 30000.000, accuracy: 0.338\n",
            "training epoch: [1 ] loss: 0.784 correct: 22801.000, total: 30000.000, accuracy: 0.760\n",
            "training epoch: [2 ] loss: 0.505 correct: 25049.000, total: 30000.000, accuracy: 0.835\n",
            "training epoch: [3 ] loss: 0.369 correct: 25643.000, total: 30000.000, accuracy: 0.855\n",
            "training epoch: [4 ] loss: 0.359 correct: 25774.000, total: 30000.000, accuracy: 0.859\n",
            "training epoch: [5 ] loss: 0.360 correct: 25768.000, total: 30000.000, accuracy: 0.859\n",
            "training epoch: [6 ] loss: 0.362 correct: 25751.000, total: 30000.000, accuracy: 0.858\n",
            "training epoch: [7 ] loss: 0.359 correct: 25807.000, total: 30000.000, accuracy: 0.860\n",
            "training epoch: [8 ] loss: 0.360 correct: 25786.000, total: 30000.000, accuracy: 0.860\n",
            "training epoch: [9 ] loss: 0.358 correct: 25802.000, total: 30000.000, accuracy: 0.860\n",
            "training epoch: [10 ] loss: 0.359 correct: 25803.000, total: 30000.000, accuracy: 0.860\n",
            "training epoch: [11 ] loss: 0.358 correct: 25808.000, total: 30000.000, accuracy: 0.860\n",
            "training epoch: [12 ] loss: 0.359 correct: 25799.000, total: 30000.000, accuracy: 0.860\n",
            "training epoch: [13 ] loss: 0.359 correct: 25789.000, total: 30000.000, accuracy: 0.860\n",
            "training epoch: [14 ] loss: 0.359 correct: 25775.000, total: 30000.000, accuracy: 0.859\n",
            "training epoch: [15 ] loss: 0.356 correct: 25822.000, total: 30000.000, accuracy: 0.861\n",
            "training epoch: [16 ] loss: 0.356 correct: 25838.000, total: 30000.000, accuracy: 0.861\n",
            "training epoch: [17 ] loss: 0.356 correct: 25838.000, total: 30000.000, accuracy: 0.861\n",
            "training epoch: [18 ] loss: 0.356 correct: 25859.000, total: 30000.000, accuracy: 0.862\n",
            "training epoch: [19 ] loss: 0.356 correct: 25858.000, total: 30000.000, accuracy: 0.862\n",
            "training epoch: [20 ] loss: 0.354 correct: 25909.000, total: 30000.000, accuracy: 0.864\n",
            "training epoch: [21 ] loss: 0.355 correct: 25901.000, total: 30000.000, accuracy: 0.863\n",
            "training epoch: [22 ] loss: 0.354 correct: 25911.000, total: 30000.000, accuracy: 0.864\n",
            "training epoch: [23 ] loss: 0.356 correct: 25872.000, total: 30000.000, accuracy: 0.862\n",
            "training epoch: [24 ] loss: 0.352 correct: 25940.000, total: 30000.000, accuracy: 0.865\n",
            "training epoch: [25 ] loss: 0.349 correct: 25974.000, total: 30000.000, accuracy: 0.866\n",
            "training epoch: [26 ] loss: 0.349 correct: 25987.000, total: 30000.000, accuracy: 0.866\n",
            "training epoch: [27 ] loss: 0.358 correct: 25903.000, total: 30000.000, accuracy: 0.863\n",
            "training epoch: [28 ] loss: 0.355 correct: 25957.000, total: 30000.000, accuracy: 0.865\n",
            "training epoch: [29 ] loss: 0.349 correct: 26039.000, total: 30000.000, accuracy: 0.868\n",
            "training epoch: [30 ] loss: 0.350 correct: 26055.000, total: 30000.000, accuracy: 0.869\n",
            "training epoch: [31 ] loss: 0.344 correct: 26176.000, total: 30000.000, accuracy: 0.873\n",
            "training epoch: [32 ] loss: 0.344 correct: 26150.000, total: 30000.000, accuracy: 0.872\n",
            "training epoch: [33 ] loss: 0.352 correct: 26109.000, total: 30000.000, accuracy: 0.870\n",
            "training epoch: [34 ] loss: 0.349 correct: 26138.000, total: 30000.000, accuracy: 0.871\n",
            "training epoch: [35 ] loss: 0.365 correct: 25989.000, total: 30000.000, accuracy: 0.866\n",
            "training epoch: [36 ] loss: 0.349 correct: 26156.000, total: 30000.000, accuracy: 0.872\n",
            "training epoch: [37 ] loss: 0.359 correct: 26174.000, total: 30000.000, accuracy: 0.872\n",
            "training epoch: [38 ] loss: 0.364 correct: 26180.000, total: 30000.000, accuracy: 0.873\n",
            "training epoch: [39 ] loss: 0.352 correct: 26203.000, total: 30000.000, accuracy: 0.873\n",
            "training epoch: [40 ] loss: 0.385 correct: 26202.000, total: 30000.000, accuracy: 0.873\n",
            "training epoch: [41 ] loss: 0.377 correct: 26196.000, total: 30000.000, accuracy: 0.873\n",
            "training epoch: [42 ] loss: 0.375 correct: 26247.000, total: 30000.000, accuracy: 0.875\n",
            "training epoch: [43 ] loss: 0.387 correct: 25725.000, total: 30000.000, accuracy: 0.858\n",
            "training epoch: [44 ] loss: 0.416 correct: 26029.000, total: 30000.000, accuracy: 0.868\n",
            "training epoch: [45 ] loss: 0.371 correct: 26290.000, total: 30000.000, accuracy: 0.876\n",
            "training epoch: [46 ] loss: 0.414 correct: 26119.000, total: 30000.000, accuracy: 0.871\n",
            "training epoch: [47 ] loss: 0.392 correct: 26289.000, total: 30000.000, accuracy: 0.876\n",
            "training epoch: [48 ] loss: 0.401 correct: 26375.000, total: 30000.000, accuracy: 0.879\n",
            "training epoch: [49 ] loss: 0.386 correct: 26466.000, total: 30000.000, accuracy: 0.882\n",
            "training epoch: [50 ] loss: 0.414 correct: 26456.000, total: 30000.000, accuracy: 0.882\n",
            "training epoch: [51 ] loss: 0.384 correct: 26592.000, total: 30000.000, accuracy: 0.886\n",
            "training epoch: [52 ] loss: 0.383 correct: 26617.000, total: 30000.000, accuracy: 0.887\n",
            "training epoch: [53 ] loss: 0.433 correct: 26458.000, total: 30000.000, accuracy: 0.882\n",
            "training epoch: [54 ] loss: 0.462 correct: 26487.000, total: 30000.000, accuracy: 0.883\n",
            "training epoch: [55 ] loss: 0.337 correct: 26687.000, total: 30000.000, accuracy: 0.890\n",
            "training epoch: [56 ] loss: 0.414 correct: 26492.000, total: 30000.000, accuracy: 0.883\n",
            "training epoch: [57 ] loss: 0.373 correct: 26769.000, total: 30000.000, accuracy: 0.892\n",
            "training epoch: [58 ] loss: 0.495 correct: 26367.000, total: 30000.000, accuracy: 0.879\n",
            "training epoch: [59 ] loss: 0.454 correct: 26317.000, total: 30000.000, accuracy: 0.877\n",
            "training epoch: [60 ] loss: 0.398 correct: 26277.000, total: 30000.000, accuracy: 0.876\n",
            "training epoch: [61 ] loss: 0.497 correct: 26365.000, total: 30000.000, accuracy: 0.879\n",
            "training epoch: [62 ] loss: 0.377 correct: 26774.000, total: 30000.000, accuracy: 0.892\n",
            "training epoch: [63 ] loss: 0.467 correct: 26625.000, total: 30000.000, accuracy: 0.887\n",
            "training epoch: [64 ] loss: 0.440 correct: 26657.000, total: 30000.000, accuracy: 0.889\n",
            "training epoch: [65 ] loss: 0.497 correct: 26417.000, total: 30000.000, accuracy: 0.881\n",
            "training epoch: [66 ] loss: 0.483 correct: 26827.000, total: 30000.000, accuracy: 0.894\n",
            "training epoch: [67 ] loss: 0.492 correct: 26531.000, total: 30000.000, accuracy: 0.884\n",
            "training epoch: [68 ] loss: 0.375 correct: 26689.000, total: 30000.000, accuracy: 0.890\n",
            "training epoch: [69 ] loss: 0.529 correct: 26146.000, total: 30000.000, accuracy: 0.872\n",
            "training epoch: [70 ] loss: 0.497 correct: 26694.000, total: 30000.000, accuracy: 0.890\n",
            "training epoch: [71 ] loss: 0.439 correct: 26593.000, total: 30000.000, accuracy: 0.886\n",
            "training epoch: [72 ] loss: 0.476 correct: 26722.000, total: 30000.000, accuracy: 0.891\n",
            "training epoch: [73 ] loss: 0.473 correct: 26594.000, total: 30000.000, accuracy: 0.886\n",
            "training epoch: [74 ] loss: 0.525 correct: 26231.000, total: 30000.000, accuracy: 0.874\n",
            "training epoch: [75 ] loss: 0.557 correct: 26443.000, total: 30000.000, accuracy: 0.881\n",
            "training epoch: [76 ] loss: 0.481 correct: 26494.000, total: 30000.000, accuracy: 0.883\n",
            "training epoch: [77 ] loss: 0.522 correct: 26741.000, total: 30000.000, accuracy: 0.891\n",
            "training epoch: [78 ] loss: 0.523 correct: 26564.000, total: 30000.000, accuracy: 0.885\n",
            "training epoch: [79 ] loss: 0.492 correct: 26914.000, total: 30000.000, accuracy: 0.897\n",
            "training epoch: [80 ] loss: 0.501 correct: 26296.000, total: 30000.000, accuracy: 0.877\n",
            "training epoch: [81 ] loss: 0.530 correct: 26623.000, total: 30000.000, accuracy: 0.887\n",
            "training epoch: [82 ] loss: 0.497 correct: 26927.000, total: 30000.000, accuracy: 0.898\n",
            "training epoch: [83 ] loss: 0.510 correct: 26648.000, total: 30000.000, accuracy: 0.888\n",
            "training epoch: [84 ] loss: 0.496 correct: 26765.000, total: 30000.000, accuracy: 0.892\n",
            "training epoch: [85 ] loss: 0.528 correct: 26964.000, total: 30000.000, accuracy: 0.899\n",
            "training epoch: [86 ] loss: 0.525 correct: 26890.000, total: 30000.000, accuracy: 0.896\n",
            "training epoch: [87 ] loss: 0.521 correct: 26666.000, total: 30000.000, accuracy: 0.889\n",
            "training epoch: [88 ] loss: 0.525 correct: 26818.000, total: 30000.000, accuracy: 0.894\n",
            "training epoch: [89 ] loss: 0.587 correct: 26589.000, total: 30000.000, accuracy: 0.886\n",
            "training epoch: [90 ] loss: 0.501 correct: 26949.000, total: 30000.000, accuracy: 0.898\n",
            "training epoch: [91 ] loss: 0.504 correct: 26977.000, total: 30000.000, accuracy: 0.899\n",
            "training epoch: [92 ] loss: 0.547 correct: 26936.000, total: 30000.000, accuracy: 0.898\n",
            "training epoch: [93 ] loss: 0.591 correct: 26951.000, total: 30000.000, accuracy: 0.898\n",
            "training epoch: [94 ] loss: 0.523 correct: 26757.000, total: 30000.000, accuracy: 0.892\n",
            "training epoch: [95 ] loss: 0.548 correct: 27125.000, total: 30000.000, accuracy: 0.904\n",
            "training epoch: [96 ] loss: 0.522 correct: 27050.000, total: 30000.000, accuracy: 0.902\n",
            "training epoch: [97 ] loss: 0.585 correct: 26942.000, total: 30000.000, accuracy: 0.898\n",
            "training epoch: [98 ] loss: 0.530 correct: 27077.000, total: 30000.000, accuracy: 0.903\n",
            "training epoch: [99 ] loss: 0.519 correct: 27128.000, total: 30000.000, accuracy: 0.904\n",
            "training epoch: [100 ] loss: 0.621 correct: 27028.000, total: 30000.000, accuracy: 0.901\n",
            "Finished Training run \n"
          ],
          "name": "stdout"
        }
      ]
    },
    {
      "cell_type": "code",
      "metadata": {
        "id": "AciJnAh5nfug"
      },
      "source": [
        "columns = [\"epochs\", \"argmax > 0.5\" ,\"argmax < 0.5\", \"focus_true_pred_true\", \"focus_false_pred_true\", \"focus_true_pred_false\", \"focus_false_pred_false\" ]\n",
        "df_train = pd.DataFrame()\n",
        "df_test = pd.DataFrame()\n",
        "df_train[columns[0]] = np.arange(0,epoch+2)\n",
        "df_train[columns[1]] = analysis_data_tr[:,-2]/300\n",
        "df_train[columns[2]] = analysis_data_tr[:,-1]/300\n",
        "df_train[columns[3]] = analysis_data_tr[:,0]/300\n",
        "df_train[columns[4]] = analysis_data_tr[:,1]/300\n",
        "df_train[columns[5]] = analysis_data_tr[:,2]/300\n",
        "df_train[columns[6]] = analysis_data_tr[:,3]/300"
      ],
      "execution_count": 18,
      "outputs": []
    },
    {
      "cell_type": "code",
      "metadata": {
        "id": "NoQpS_6scRsC",
        "colab": {
          "base_uri": "https://localhost:8080/",
          "height": 456
        },
        "outputId": "6eaacb52-b9b8-4678-8224-aea6b37bb94a"
      },
      "source": [
        "df_train"
      ],
      "execution_count": 19,
      "outputs": [
        {
          "output_type": "execute_result",
          "data": {
            "text/html": [
              "<div>\n",
              "<style scoped>\n",
              "    .dataframe tbody tr th:only-of-type {\n",
              "        vertical-align: middle;\n",
              "    }\n",
              "\n",
              "    .dataframe tbody tr th {\n",
              "        vertical-align: top;\n",
              "    }\n",
              "\n",
              "    .dataframe thead th {\n",
              "        text-align: right;\n",
              "    }\n",
              "</style>\n",
              "<table border=\"1\" class=\"dataframe\">\n",
              "  <thead>\n",
              "    <tr style=\"text-align: right;\">\n",
              "      <th></th>\n",
              "      <th>epochs</th>\n",
              "      <th>argmax &gt; 0.5</th>\n",
              "      <th>argmax &lt; 0.5</th>\n",
              "      <th>focus_true_pred_true</th>\n",
              "      <th>focus_false_pred_true</th>\n",
              "      <th>focus_true_pred_false</th>\n",
              "      <th>focus_false_pred_false</th>\n",
              "    </tr>\n",
              "  </thead>\n",
              "  <tbody>\n",
              "    <tr>\n",
              "      <th>0</th>\n",
              "      <td>0</td>\n",
              "      <td>0.000000</td>\n",
              "      <td>100.000000</td>\n",
              "      <td>3.863333</td>\n",
              "      <td>29.926667</td>\n",
              "      <td>7.416667</td>\n",
              "      <td>58.793333</td>\n",
              "    </tr>\n",
              "    <tr>\n",
              "      <th>1</th>\n",
              "      <td>1</td>\n",
              "      <td>6.360000</td>\n",
              "      <td>93.640000</td>\n",
              "      <td>20.373333</td>\n",
              "      <td>55.630000</td>\n",
              "      <td>3.063333</td>\n",
              "      <td>20.933333</td>\n",
              "    </tr>\n",
              "    <tr>\n",
              "      <th>2</th>\n",
              "      <td>2</td>\n",
              "      <td>93.586667</td>\n",
              "      <td>6.413333</td>\n",
              "      <td>22.060000</td>\n",
              "      <td>61.436667</td>\n",
              "      <td>1.833333</td>\n",
              "      <td>14.670000</td>\n",
              "    </tr>\n",
              "    <tr>\n",
              "      <th>3</th>\n",
              "      <td>3</td>\n",
              "      <td>99.513333</td>\n",
              "      <td>0.486667</td>\n",
              "      <td>24.043333</td>\n",
              "      <td>61.433333</td>\n",
              "      <td>1.580000</td>\n",
              "      <td>12.943333</td>\n",
              "    </tr>\n",
              "    <tr>\n",
              "      <th>4</th>\n",
              "      <td>4</td>\n",
              "      <td>99.686667</td>\n",
              "      <td>0.313333</td>\n",
              "      <td>24.450000</td>\n",
              "      <td>61.463333</td>\n",
              "      <td>1.503333</td>\n",
              "      <td>12.583333</td>\n",
              "    </tr>\n",
              "    <tr>\n",
              "      <th>...</th>\n",
              "      <td>...</td>\n",
              "      <td>...</td>\n",
              "      <td>...</td>\n",
              "      <td>...</td>\n",
              "      <td>...</td>\n",
              "      <td>...</td>\n",
              "      <td>...</td>\n",
              "    </tr>\n",
              "    <tr>\n",
              "      <th>96</th>\n",
              "      <td>96</td>\n",
              "      <td>99.956667</td>\n",
              "      <td>0.043333</td>\n",
              "      <td>25.546667</td>\n",
              "      <td>64.620000</td>\n",
              "      <td>0.843333</td>\n",
              "      <td>8.990000</td>\n",
              "    </tr>\n",
              "    <tr>\n",
              "      <th>97</th>\n",
              "      <td>97</td>\n",
              "      <td>99.956667</td>\n",
              "      <td>0.043333</td>\n",
              "      <td>25.463333</td>\n",
              "      <td>64.343333</td>\n",
              "      <td>0.926667</td>\n",
              "      <td>9.266667</td>\n",
              "    </tr>\n",
              "    <tr>\n",
              "      <th>98</th>\n",
              "      <td>98</td>\n",
              "      <td>99.956667</td>\n",
              "      <td>0.043333</td>\n",
              "      <td>25.503333</td>\n",
              "      <td>64.753333</td>\n",
              "      <td>0.886667</td>\n",
              "      <td>8.856667</td>\n",
              "    </tr>\n",
              "    <tr>\n",
              "      <th>99</th>\n",
              "      <td>99</td>\n",
              "      <td>99.956667</td>\n",
              "      <td>0.043333</td>\n",
              "      <td>25.573333</td>\n",
              "      <td>64.853333</td>\n",
              "      <td>0.816667</td>\n",
              "      <td>8.756667</td>\n",
              "    </tr>\n",
              "    <tr>\n",
              "      <th>100</th>\n",
              "      <td>100</td>\n",
              "      <td>99.956667</td>\n",
              "      <td>0.043333</td>\n",
              "      <td>25.443333</td>\n",
              "      <td>64.650000</td>\n",
              "      <td>0.940000</td>\n",
              "      <td>8.966667</td>\n",
              "    </tr>\n",
              "  </tbody>\n",
              "</table>\n",
              "<p>101 rows × 7 columns</p>\n",
              "</div>"
            ],
            "text/plain": [
              "     epochs  argmax > 0.5  ...  focus_true_pred_false  focus_false_pred_false\n",
              "0         0      0.000000  ...               7.416667               58.793333\n",
              "1         1      6.360000  ...               3.063333               20.933333\n",
              "2         2     93.586667  ...               1.833333               14.670000\n",
              "3         3     99.513333  ...               1.580000               12.943333\n",
              "4         4     99.686667  ...               1.503333               12.583333\n",
              "..      ...           ...  ...                    ...                     ...\n",
              "96       96     99.956667  ...               0.843333                8.990000\n",
              "97       97     99.956667  ...               0.926667                9.266667\n",
              "98       98     99.956667  ...               0.886667                8.856667\n",
              "99       99     99.956667  ...               0.816667                8.756667\n",
              "100     100     99.956667  ...               0.940000                8.966667\n",
              "\n",
              "[101 rows x 7 columns]"
            ]
          },
          "metadata": {
            "tags": []
          },
          "execution_count": 19
        }
      ]
    },
    {
      "cell_type": "code",
      "metadata": {
        "id": "IMAhRdxOcVf6",
        "colab": {
          "base_uri": "https://localhost:8080/",
          "height": 404
        },
        "outputId": "1b325e2b-a202-4a15-dc22-64601a1f2047"
      },
      "source": [
        "fig= plt.figure(figsize=(6,6))\n",
        "plt.plot(df_train[columns[0]],df_train[columns[3]], label =\"focus_true_pred_true \")\n",
        "plt.plot(df_train[columns[0]],df_train[columns[4]], label =\"focus_false_pred_true \")\n",
        "plt.plot(df_train[columns[0]],df_train[columns[5]], label =\"focus_true_pred_false \")\n",
        "plt.plot(df_train[columns[0]],df_train[columns[6]], label =\"focus_false_pred_false \")\n",
        "plt.title(\"On Train set\")\n",
        "plt.legend(loc='center left', bbox_to_anchor=(1, 0.5))\n",
        "plt.xticks([0,2,4])\n",
        "plt.xlabel(\"epochs\")\n",
        "plt.ylabel(\"percentage of data\")\n",
        "#plt.vlines(vline_list,min(min(df_train[columns[3]]/300),min(df_train[columns[4]]/300),min(df_train[columns[5]]/300),min(df_train[columns[6]]/300)), max(max(df_train[columns[3]]/300),max(df_train[columns[4]]/300),max(df_train[columns[5]]/300),max(df_train[columns[6]]/300)),linestyles='dotted')\n",
        "plt.show()\n",
        "fig.savefig(\"train_analysis.pdf\")\n",
        "fig.savefig(\"train_analysis.png\")"
      ],
      "execution_count": 20,
      "outputs": [
        {
          "output_type": "display_data",
          "data": {
            "image/png": "[encoded data removed]",
            "text/plain": [
              "<Figure size 432x432 with 1 Axes>"
            ]
          },
          "metadata": {
            "tags": [],
            "needs_background": "light"
          }
        }
      ]
    },
    {
      "cell_type": "code",
      "metadata": {
        "id": "VCnS6r2_3WdU"
      },
      "source": [
        "aph = []\n",
        "for i in bg:\n",
        "  aph.append(F.softmax(i,dim=1).detach().numpy())\n",
        "  \n",
        "aph = np.concatenate(aph,axis=0)\n",
        "torch.save({\n",
        "            'epoch': 500,\n",
        "            'model_state_dict': what_net.state_dict(),\n",
        "            #'optimizer_state_dict': optimizer_what.state_dict(),\n",
        "            \"optimizer_alpha\":optim1,\n",
        "            \"FTPT_analysis\":analysis_data_tr,\n",
        "            \"alpha\":aph\n",
        "\n",
        "            }, \"cifar_what_net_500.pt\")"
      ],
      "execution_count": 21,
      "outputs": []
    },
    {
      "cell_type": "code",
      "metadata": {
        "id": "KVzrDOGS4UxU",
        "colab": {
          "base_uri": "https://localhost:8080/"
        },
        "outputId": "e2b44573-1fa7-4686-f1b1-c6668e91eac2"
      },
      "source": [
        "aph"
      ],
      "execution_count": 22,
      "outputs": [
        {
          "output_type": "execute_result",
          "data": {
            "text/plain": [
              "array([[0.0000000e+00, 1.0000000e+00, 0.0000000e+00, ..., 0.0000000e+00,\n",
              "        0.0000000e+00, 0.0000000e+00],\n",
              "       [0.0000000e+00, 0.0000000e+00, 0.0000000e+00, ..., 1.0000000e+00,\n",
              "        0.0000000e+00, 4.9045446e-44],\n",
              "       [0.0000000e+00, 0.0000000e+00, 0.0000000e+00, ..., 0.0000000e+00,\n",
              "        0.0000000e+00, 0.0000000e+00],\n",
              "       ...,\n",
              "       [1.0000000e+00, 0.0000000e+00, 0.0000000e+00, ..., 0.0000000e+00,\n",
              "        0.0000000e+00, 0.0000000e+00],\n",
              "       [9.9873143e-01, 0.0000000e+00, 0.0000000e+00, ..., 0.0000000e+00,\n",
              "        1.4357577e-05, 0.0000000e+00],\n",
              "       [0.0000000e+00, 1.0000000e+00, 1.7576385e-25, ..., 0.0000000e+00,\n",
              "        5.1553771e-42, 0.0000000e+00]], dtype=float32)"
            ]
          },
          "metadata": {
            "tags": []
          },
          "execution_count": 22
        }
      ]
    },
    {
      "cell_type": "code",
      "metadata": {
        "id": "Z6heHND15EMz"
      },
      "source": [
        "running_loss_tr,anls_data,correct,total,accuracy = calculate_attn_loss(train_loader,what_net,criterion)"
      ],
      "execution_count": 23,
      "outputs": []
    },
    {
      "cell_type": "code",
      "metadata": {
        "id": "zeKhsdpYWQvB",
        "colab": {
          "base_uri": "https://localhost:8080/"
        },
        "outputId": "d3407972-9cd9-49fc-dd6f-692c3b387fc5"
      },
      "source": [
        "print(\"argmax>0.5\",anls_data[-2])"
      ],
      "execution_count": 24,
      "outputs": [
        {
          "output_type": "stream",
          "text": [
            "argmax>0.5 29987\n"
          ],
          "name": "stdout"
        }
      ]
    },
    {
      "cell_type": "code",
      "metadata": {
        "id": "yF2bvWdIWUTa"
      },
      "source": [
        ""
      ],
      "execution_count": 24,
      "outputs": []
    }
  ]
}