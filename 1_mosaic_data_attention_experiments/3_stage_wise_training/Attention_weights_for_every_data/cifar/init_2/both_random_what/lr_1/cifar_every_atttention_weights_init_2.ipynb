{
  "nbformat": 4,
  "nbformat_minor": 0,
  "metadata": {
    "accelerator": "GPU",
    "colab": {
      "name": "cifar_every_atttention_weights_init_2.ipynb",
      "provenance": [],
      "collapsed_sections": []
    },
    "kernelspec": {
      "display_name": "Python 3",
      "name": "python3"
    },
    "language_info": {
      "name": "python"
    }
  },
  "cells": [
    {
      "cell_type": "code",
      "metadata": {
        "id": "BWIyC9Ip_bcq"
      },
      "source": [
        "import numpy as np\n",
        "import pandas as pd\n",
        "\n",
        "import torch\n",
        "import torchvision\n",
        "from torch.utils.data import Dataset, DataLoader\n",
        "from torchvision import transforms, utils\n",
        "import torch.nn as nn\n",
        "import torch.nn.functional as F\n",
        "import torch.optim as optim\n",
        "\n",
        "from matplotlib import pyplot as plt\n",
        "%matplotlib inline\n",
        "torch.backends.cudnn.deterministic = True\n",
        "torch.backends.cudnn.benchmark = False"
      ],
      "execution_count": null,
      "outputs": []
    },
    {
      "cell_type": "code",
      "metadata": {
        "colab": {
          "base_uri": "https://localhost:8080/"
        },
        "id": "cgw1f4rVkGr9",
        "outputId": "a4b91841-b85a-4f52-e3e6-fa21d9da5473"
      },
      "source": [
        "transform = transforms.Compose(\n",
        "    [transforms.ToTensor(),\n",
        "     transforms.Normalize((0.5, 0.5, 0.5), (0.5, 0.5, 0.5))])\n",
        "\n",
        "trainset = torchvision.datasets.CIFAR10(root='./data', train=True, download=True, transform=transform)"
      ],
      "execution_count": null,
      "outputs": [
        {
          "output_type": "stream",
          "text": [
            "Files already downloaded and verified\n"
          ],
          "name": "stdout"
        }
      ]
    },
    {
      "cell_type": "code",
      "metadata": {
        "id": "D-xlWYTKkQEn"
      },
      "source": [
        "trainloader = torch.utils.data.DataLoader(trainset, batch_size=10, shuffle=False)\n",
        "\n",
        "\n",
        "classes = ('plane', 'car', 'bird', 'cat', 'deer', 'dog', 'frog', 'horse', 'ship', 'truck')\n",
        "\n",
        "foreground_classes = {'plane', 'car', 'bird'}\n",
        "#foreground_classes = {'bird', 'cat', 'deer'}\n",
        "background_classes = {'cat', 'deer', 'dog', 'frog', 'horse', 'ship', 'truck'}\n",
        "#background_classes = {'plane', 'car', 'dog', 'frog', 'horse','ship', 'truck'}\n",
        "\n",
        "fg1,fg2,fg3 = 0,1,2"
      ],
      "execution_count": null,
      "outputs": []
    },
    {
      "cell_type": "code",
      "metadata": {
        "id": "zrX68qhikUbz"
      },
      "source": [
        "dataiter = iter(trainloader)\n",
        "background_data=[]\n",
        "background_label=[]\n",
        "foreground_data=[]\n",
        "foreground_label=[]\n",
        "batch_size=10\n",
        "\n",
        "for i in range(5000):\n",
        "  images, labels = dataiter.next()\n",
        "  for j in range(batch_size):\n",
        "    if(classes[labels[j]] in background_classes):\n",
        "      img = images[j].tolist()\n",
        "      background_data.append(img)\n",
        "      background_label.append(labels[j])\n",
        "    else:\n",
        "      img = images[j].tolist()\n",
        "      foreground_data.append(img)\n",
        "      foreground_label.append(labels[j])\n",
        "            \n",
        "foreground_data = torch.tensor(foreground_data)\n",
        "foreground_label = torch.tensor(foreground_label)\n",
        "background_data = torch.tensor(background_data)\n",
        "background_label = torch.tensor(background_label)"
      ],
      "execution_count": null,
      "outputs": []
    },
    {
      "cell_type": "code",
      "metadata": {
        "id": "eD-QJkvnkgyk"
      },
      "source": [
        "def create_mosaic_img(bg_idx,fg_idx,fg): \n",
        "  \"\"\"\n",
        "  bg_idx : list of indexes of background_data[] to be used as background images in mosaic\n",
        "  fg_idx : index of image to be used as foreground image from foreground data\n",
        "  fg : at what position/index foreground image has to be stored out of 0-8\n",
        "  \"\"\"\n",
        "  image_list=[]\n",
        "  j=0\n",
        "  for i in range(9):\n",
        "    if i != fg:\n",
        "      image_list.append(background_data[bg_idx[j]])#.type(\"torch.DoubleTensor\"))\n",
        "      j+=1\n",
        "    else: \n",
        "      image_list.append(foreground_data[fg_idx])#.type(\"torch.DoubleTensor\"))\n",
        "      label = foreground_label[fg_idx]-fg1  # minus 7 because our fore ground classes are 7,8,9 but we have to store it as 0,1,2\n",
        "  #image_list = np.concatenate(image_list ,axis=0)\n",
        "  image_list = torch.stack(image_list) \n",
        "  return image_list,label"
      ],
      "execution_count": null,
      "outputs": []
    },
    {
      "cell_type": "code",
      "metadata": {
        "id": "Zs10rfXHkli2"
      },
      "source": [
        "desired_num = 30000\n",
        "mosaic_list_of_images =[]      # list of mosaic images, each mosaic image is saved as list of 9 images\n",
        "fore_idx =[]                   # list of indexes at which foreground image is present in a mosaic image i.e from 0 to 9               \n",
        "mosaic_label=[]                # label of mosaic image = foreground class present in that mosaic\n",
        "for i in range(desired_num):\n",
        "  np.random.seed(i)\n",
        "  bg_idx = np.random.randint(0,35000,8)\n",
        "  fg_idx = np.random.randint(0,15000)\n",
        "  fg = np.random.randint(0,9)\n",
        "  fore_idx.append(fg)\n",
        "  image_list,label = create_mosaic_img(bg_idx,fg_idx,fg)\n",
        "  mosaic_list_of_images.append(image_list)\n",
        "  mosaic_label.append(label)"
      ],
      "execution_count": null,
      "outputs": []
    },
    {
      "cell_type": "code",
      "metadata": {
        "id": "7km9Swb1kq4O"
      },
      "source": [
        "class MosaicDataset(Dataset):\n",
        "  \"\"\"MosaicDataset dataset.\"\"\"\n",
        "\n",
        "  def __init__(self, mosaic_list_of_images, mosaic_label, fore_idx):\n",
        "    \"\"\"\n",
        "      Args:\n",
        "        csv_file (string): Path to the csv file with annotations.\n",
        "        root_dir (string): Directory with all the images.\n",
        "        transform (callable, optional): Optional transform to be applied\n",
        "            on a sample.\n",
        "    \"\"\"\n",
        "    self.mosaic = mosaic_list_of_images\n",
        "    self.label = mosaic_label\n",
        "    self.fore_idx = fore_idx\n",
        "\n",
        "  def __len__(self):\n",
        "    return len(self.label)\n",
        "\n",
        "  def __getitem__(self, idx):\n",
        "    return self.mosaic[idx] , self.label[idx], self.fore_idx[idx]\n",
        "batch = 250\n",
        "msd = MosaicDataset(mosaic_list_of_images, mosaic_label , fore_idx)\n",
        "train_loader = DataLoader( msd,batch_size= batch ,shuffle=False,num_workers=0,)"
      ],
      "execution_count": null,
      "outputs": []
    },
    {
      "cell_type": "code",
      "metadata": {
        "id": "lGVy-1EllAc_"
      },
      "source": [
        "data,labels,fg_index = iter(train_loader).next()"
      ],
      "execution_count": null,
      "outputs": []
    },
    {
      "cell_type": "code",
      "metadata": {
        "id": "DOpZfj1bq7wN"
      },
      "source": [
        "bg = []\n",
        "for i in range(120):\n",
        "  torch.manual_seed(i)\n",
        "  betag = torch.ones((250,9))/9  #torch.randn(250,9)\n",
        "  a=bg.append( betag.requires_grad_() )"
      ],
      "execution_count": null,
      "outputs": []
    },
    {
      "cell_type": "code",
      "metadata": {
        "id": "HbrMidFCla6h"
      },
      "source": [
        "class Module2(nn.Module):\n",
        "  def __init__(self):\n",
        "    super(Module2, self).__init__()\n",
        "    \n",
        "    self.conv1 = nn.Conv2d(3, 6, 5)\n",
        "    self.pool = nn.MaxPool2d(2, 2)\n",
        "    self.conv2 = nn.Conv2d(6, 16, 5)\n",
        "    self.fc1 = nn.Linear(16 * 5 * 5, 120)\n",
        "    self.fc2 = nn.Linear(120, 84)\n",
        "    self.fc3 = nn.Linear(84, 10)\n",
        "    self.fc4 = nn.Linear(10,3)\n",
        "\n",
        "  def forward(self,y):  #z batch of list of 9 images\n",
        "    y1 = self.pool(F.relu(self.conv1(y)))\n",
        "    y1 = self.pool(F.relu(self.conv2(y1)))\n",
        "    y1 = y1.view(-1, 16 * 5 * 5)\n",
        "\n",
        "    y1 = F.relu(self.fc1(y1))\n",
        "    y1 = F.relu(self.fc2(y1))\n",
        "    y1 = F.relu(self.fc3(y1))\n",
        "    y1 = self.fc4(y1)\n",
        "    return y1"
      ],
      "execution_count": null,
      "outputs": []
    },
    {
      "cell_type": "code",
      "metadata": {
        "id": "rRqj2VELllkX"
      },
      "source": [
        "torch.manual_seed(1234)\n",
        "what_net = Module2().double()\n",
        "\n",
        "#what_net.load_state_dict(torch.load(\"simultaneous_what.pt\"))\n",
        "what_net = what_net.to(\"cuda\")"
      ],
      "execution_count": null,
      "outputs": []
    },
    {
      "cell_type": "code",
      "metadata": {
        "id": "6d8Wch99l4yB"
      },
      "source": [
        "def attn_avg(x,beta):\n",
        "  y = torch.zeros([batch,3, 32,32], dtype=torch.float64)\n",
        "  y = y.to(\"cuda\")\n",
        "  alpha = F.softmax(beta,dim=1)   # alphas\n",
        "  for i in range(9):            \n",
        "    alpha1 = alpha[:,i]          \n",
        "    y = y + torch.mul(alpha1[:,None,None,None],x[:,i])\n",
        "  return y,alpha"
      ],
      "execution_count": null,
      "outputs": []
    },
    {
      "cell_type": "code",
      "metadata": {
        "id": "Rz1Kpw12loV6"
      },
      "source": [
        "def calculate_attn_loss(dataloader,what,criter):\n",
        "  what.eval()\n",
        "  r_loss = 0\n",
        "  alphas = []\n",
        "  lbls = []\n",
        "  pred = []\n",
        "  fidices = []\n",
        "  correct = 0\n",
        "  tot = 0\n",
        "  with torch.no_grad():\n",
        "    for i, data in enumerate(dataloader, 0):\n",
        "      inputs, labels,fidx= data\n",
        "      lbls.append(labels)\n",
        "      fidices.append(fidx)\n",
        "      inputs = inputs.double()\n",
        "      beta = bg[i]  # alpha for ith batch\n",
        "      inputs, labels,beta = inputs.to(\"cuda\"),labels.to(\"cuda\"),beta.to(\"cuda\")\n",
        "      avg,alpha = attn_avg(inputs,beta)\n",
        "      alpha = alpha.to(\"cuda\")\n",
        "      outputs = what(avg)\n",
        "      _, predicted = torch.max(outputs.data, 1)\n",
        "      correct += sum(predicted == labels)\n",
        "      tot += len(predicted)\n",
        "      pred.append(predicted.cpu().numpy())\n",
        "      alphas.append(alpha.cpu().numpy())\n",
        "      loss = criter(outputs, labels)\n",
        "      r_loss += loss.item()\n",
        "  alphas = np.concatenate(alphas,axis=0)\n",
        "  pred = np.concatenate(pred,axis=0)\n",
        "  lbls = np.concatenate(lbls,axis=0)\n",
        "  fidices = np.concatenate(fidices,axis=0)\n",
        "  #print(alphas.shape,pred.shape,lbls.shape,fidices.shape) \n",
        "  analysis = analyse_data(alphas,lbls,pred,fidices)\n",
        "  return r_loss/(i+1),analysis,correct.item(),tot,correct.item()/tot"
      ],
      "execution_count": null,
      "outputs": []
    },
    {
      "cell_type": "code",
      "metadata": {
        "id": "sAY-x6UAwrwE"
      },
      "source": [
        "# for param in what_net.parameters():\n",
        "#     param.requires_grad = False"
      ],
      "execution_count": null,
      "outputs": []
    },
    {
      "cell_type": "code",
      "metadata": {
        "id": "_toCktPanH0S"
      },
      "source": [
        "def analyse_data(alphas,lbls,predicted,f_idx):\n",
        "    '''\n",
        "       analysis data is created here\n",
        "    '''\n",
        "    batch = len(predicted)\n",
        "    amth,alth,ftpt,ffpt,ftpf,ffpf = 0,0,0,0,0,0\n",
        "    for j in range (batch):\n",
        "      focus = np.argmax(alphas[j])\n",
        "      if(alphas[j][focus] >= 0.5):\n",
        "        amth +=1\n",
        "      else:\n",
        "        alth +=1\n",
        "      if(focus == f_idx[j] and predicted[j] == lbls[j]):\n",
        "        ftpt += 1\n",
        "      elif(focus != f_idx[j] and predicted[j] == lbls[j]):\n",
        "        ffpt +=1\n",
        "      elif(focus == f_idx[j] and predicted[j] != lbls[j]):\n",
        "        ftpf +=1\n",
        "      elif(focus != f_idx[j] and predicted[j] != lbls[j]):\n",
        "        ffpf +=1\n",
        "    #print(sum(predicted==lbls),ftpt+ffpt\n",
        "    return [ftpt,ffpt,ftpf,ffpf,amth,alth]"
      ],
      "execution_count": null,
      "outputs": []
    },
    {
      "cell_type": "code",
      "metadata": {
        "id": "S633XgMToeN3"
      },
      "source": [
        "optim1 = []\n",
        "for i in range(120):\n",
        "  optim1.append(optim.RMSprop([bg[i]], lr=1))"
      ],
      "execution_count": null,
      "outputs": []
    },
    {
      "cell_type": "code",
      "metadata": {
        "colab": {
          "base_uri": "https://localhost:8080/"
        },
        "id": "qPaYaojinMTA",
        "outputId": "28a2bd27-5db7-4fbc-f872-f5ce6f5d9c85"
      },
      "source": [
        "# instantiate optimizer\n",
        "optimizer_what = optim.RMSprop(what_net.parameters(), lr=0.001)#, momentum=0.9)#,nesterov=True)\n",
        "\n",
        "\n",
        " \n",
        "\n",
        "\n",
        "criterion = nn.CrossEntropyLoss()\n",
        "acti = []\n",
        "analysis_data_tr = []\n",
        "analysis_data_tst = []\n",
        "loss_curi_tr = []\n",
        "loss_curi_tst = []\n",
        "epochs = 100\n",
        "\n",
        "\n",
        "# calculate zeroth epoch loss and FTPT values\n",
        "running_loss,anlys_data,correct,total,accuracy = calculate_attn_loss(train_loader,what_net,criterion)\n",
        "print('training epoch: [%d ] loss: %.3f correct: %.3f, total: %.3f, accuracy: %.3f' %(0,running_loss,correct,total,accuracy)) \n",
        "loss_curi_tr.append(running_loss)\n",
        "analysis_data_tr.append(anlys_data)\n",
        "\n",
        "\n",
        "\n",
        "\n",
        "# training starts \n",
        "for epoch in range(epochs): # loop over the dataset multiple times\n",
        "  ep_lossi = []\n",
        "  running_loss = 0.0\n",
        "  what_net.train()\n",
        "  for i, data in enumerate(train_loader, 0):\n",
        "    # get the inputs\n",
        "    inputs, labels,_  = data\n",
        "    inputs = inputs.double()\n",
        "    beta = bg[i] # alpha for ith batch\n",
        "    inputs, labels,beta = inputs.to(\"cuda\"),labels.to(\"cuda\"),beta.to(\"cuda\")\n",
        "        \n",
        "    # zero the parameter gradients\n",
        "    optimizer_what.zero_grad()\n",
        "    optim1[i].zero_grad()\n",
        "      \n",
        "    # forward + backward + optimize\n",
        "    avg,alpha = attn_avg(inputs,beta)\n",
        "    outputs = what_net(avg)     \n",
        "    loss = criterion(outputs, labels)\n",
        "\n",
        "    # print statistics\n",
        "    running_loss += loss.item()\n",
        "    #alpha.retain_grad()\n",
        "    loss.backward(retain_graph=False)\n",
        "    optimizer_what.step()\n",
        "    optim1[i].step()\n",
        "\n",
        "\n",
        "  running_loss_tr,anls_data,correct,total,accuracy = calculate_attn_loss(train_loader,what_net,criterion)\n",
        "  analysis_data_tr.append(anls_data)\n",
        "  loss_curi_tr.append(running_loss_tr)   #loss per epoch\n",
        "  print('training epoch: [%d ] loss: %.3f correct: %.3f, total: %.3f, accuracy: %.3f' %(epoch+1,running_loss_tr,correct,total,accuracy)) \n",
        "\n",
        "\n",
        "  \n",
        "  if running_loss_tr<=0.08:\n",
        "    break\n",
        "print('Finished Training run ')\n",
        "analysis_data_tr = np.array(analysis_data_tr)\n",
        "\n"
      ],
      "execution_count": null,
      "outputs": [
        {
          "output_type": "stream",
          "text": [
            "/usr/local/lib/python3.7/dist-packages/torch/nn/functional.py:718: UserWarning: Named tensors and all their associated APIs are an experimental feature and subject to change. Please do not use them for anything important until they are released as stable. (Triggered internally at  /pytorch/c10/core/TensorImpl.h:1156.)\n",
            "  return torch.max_pool2d(input, kernel_size, stride, padding, dilation, ceil_mode)\n"
          ],
          "name": "stderr"
        },
        {
          "output_type": "stream",
          "text": [
            "training epoch: [0 ] loss: 1.110 correct: 10137.000, total: 30000.000, accuracy: 0.338\n",
            "training epoch: [1 ] loss: 0.794 correct: 22683.000, total: 30000.000, accuracy: 0.756\n",
            "training epoch: [2 ] loss: 0.419 correct: 25749.000, total: 30000.000, accuracy: 0.858\n",
            "training epoch: [3 ] loss: 0.261 correct: 26946.000, total: 30000.000, accuracy: 0.898\n",
            "training epoch: [4 ] loss: 0.224 correct: 27571.000, total: 30000.000, accuracy: 0.919\n",
            "training epoch: [5 ] loss: 0.232 correct: 27418.000, total: 30000.000, accuracy: 0.914\n",
            "training epoch: [6 ] loss: 0.227 correct: 27477.000, total: 30000.000, accuracy: 0.916\n",
            "training epoch: [7 ] loss: 0.219 correct: 27632.000, total: 30000.000, accuracy: 0.921\n",
            "training epoch: [8 ] loss: 0.218 correct: 27625.000, total: 30000.000, accuracy: 0.921\n",
            "training epoch: [9 ] loss: 0.213 correct: 27746.000, total: 30000.000, accuracy: 0.925\n",
            "training epoch: [10 ] loss: 0.215 correct: 27754.000, total: 30000.000, accuracy: 0.925\n",
            "training epoch: [11 ] loss: 0.209 correct: 27830.000, total: 30000.000, accuracy: 0.928\n",
            "training epoch: [12 ] loss: 0.207 correct: 27864.000, total: 30000.000, accuracy: 0.929\n",
            "training epoch: [13 ] loss: 0.205 correct: 27875.000, total: 30000.000, accuracy: 0.929\n",
            "training epoch: [14 ] loss: 0.204 correct: 27894.000, total: 30000.000, accuracy: 0.930\n",
            "training epoch: [15 ] loss: 0.206 correct: 27865.000, total: 30000.000, accuracy: 0.929\n",
            "training epoch: [16 ] loss: 0.208 correct: 27823.000, total: 30000.000, accuracy: 0.927\n",
            "training epoch: [17 ] loss: 0.207 correct: 27873.000, total: 30000.000, accuracy: 0.929\n",
            "training epoch: [18 ] loss: 0.206 correct: 27867.000, total: 30000.000, accuracy: 0.929\n",
            "training epoch: [19 ] loss: 0.208 correct: 27830.000, total: 30000.000, accuracy: 0.928\n",
            "training epoch: [20 ] loss: 0.205 correct: 27865.000, total: 30000.000, accuracy: 0.929\n",
            "training epoch: [21 ] loss: 0.207 correct: 27850.000, total: 30000.000, accuracy: 0.928\n",
            "training epoch: [22 ] loss: 0.204 correct: 27886.000, total: 30000.000, accuracy: 0.930\n",
            "training epoch: [23 ] loss: 0.204 correct: 27859.000, total: 30000.000, accuracy: 0.929\n",
            "training epoch: [24 ] loss: 0.205 correct: 27877.000, total: 30000.000, accuracy: 0.929\n",
            "training epoch: [25 ] loss: 0.205 correct: 27898.000, total: 30000.000, accuracy: 0.930\n",
            "training epoch: [26 ] loss: 0.206 correct: 27890.000, total: 30000.000, accuracy: 0.930\n",
            "training epoch: [27 ] loss: 0.206 correct: 27905.000, total: 30000.000, accuracy: 0.930\n",
            "training epoch: [28 ] loss: 0.207 correct: 27907.000, total: 30000.000, accuracy: 0.930\n",
            "training epoch: [29 ] loss: 0.207 correct: 27913.000, total: 30000.000, accuracy: 0.930\n",
            "training epoch: [30 ] loss: 0.209 correct: 27888.000, total: 30000.000, accuracy: 0.930\n",
            "training epoch: [31 ] loss: 0.211 correct: 27909.000, total: 30000.000, accuracy: 0.930\n",
            "training epoch: [32 ] loss: 0.213 correct: 27886.000, total: 30000.000, accuracy: 0.930\n",
            "training epoch: [33 ] loss: 0.217 correct: 27920.000, total: 30000.000, accuracy: 0.931\n",
            "training epoch: [34 ] loss: 0.217 correct: 27800.000, total: 30000.000, accuracy: 0.927\n",
            "training epoch: [35 ] loss: 0.221 correct: 27928.000, total: 30000.000, accuracy: 0.931\n",
            "training epoch: [36 ] loss: 0.213 correct: 27918.000, total: 30000.000, accuracy: 0.931\n",
            "training epoch: [37 ] loss: 0.240 correct: 27899.000, total: 30000.000, accuracy: 0.930\n",
            "training epoch: [38 ] loss: 0.224 correct: 27958.000, total: 30000.000, accuracy: 0.932\n",
            "training epoch: [39 ] loss: 0.228 correct: 27913.000, total: 30000.000, accuracy: 0.930\n",
            "training epoch: [40 ] loss: 0.274 correct: 27852.000, total: 30000.000, accuracy: 0.928\n",
            "training epoch: [41 ] loss: 0.220 correct: 27974.000, total: 30000.000, accuracy: 0.932\n",
            "training epoch: [42 ] loss: 0.229 correct: 27962.000, total: 30000.000, accuracy: 0.932\n",
            "training epoch: [43 ] loss: 0.236 correct: 27936.000, total: 30000.000, accuracy: 0.931\n",
            "training epoch: [44 ] loss: 0.234 correct: 28070.000, total: 30000.000, accuracy: 0.936\n",
            "training epoch: [45 ] loss: 0.243 correct: 27980.000, total: 30000.000, accuracy: 0.933\n",
            "training epoch: [46 ] loss: 0.245 correct: 28012.000, total: 30000.000, accuracy: 0.934\n",
            "training epoch: [47 ] loss: 0.250 correct: 27889.000, total: 30000.000, accuracy: 0.930\n",
            "training epoch: [48 ] loss: 0.252 correct: 27972.000, total: 30000.000, accuracy: 0.932\n",
            "training epoch: [49 ] loss: 0.254 correct: 28101.000, total: 30000.000, accuracy: 0.937\n",
            "training epoch: [50 ] loss: 0.259 correct: 27921.000, total: 30000.000, accuracy: 0.931\n",
            "training epoch: [51 ] loss: 0.241 correct: 28098.000, total: 30000.000, accuracy: 0.937\n",
            "training epoch: [52 ] loss: 0.263 correct: 28015.000, total: 30000.000, accuracy: 0.934\n",
            "training epoch: [53 ] loss: 0.255 correct: 27956.000, total: 30000.000, accuracy: 0.932\n",
            "training epoch: [54 ] loss: 0.274 correct: 28087.000, total: 30000.000, accuracy: 0.936\n",
            "training epoch: [55 ] loss: 0.256 correct: 28105.000, total: 30000.000, accuracy: 0.937\n",
            "training epoch: [56 ] loss: 0.276 correct: 28096.000, total: 30000.000, accuracy: 0.937\n",
            "training epoch: [57 ] loss: 0.286 correct: 28060.000, total: 30000.000, accuracy: 0.935\n",
            "training epoch: [58 ] loss: 0.286 correct: 28116.000, total: 30000.000, accuracy: 0.937\n",
            "training epoch: [59 ] loss: 0.307 correct: 27977.000, total: 30000.000, accuracy: 0.933\n",
            "training epoch: [60 ] loss: 0.312 correct: 27996.000, total: 30000.000, accuracy: 0.933\n",
            "training epoch: [61 ] loss: 0.264 correct: 28139.000, total: 30000.000, accuracy: 0.938\n",
            "training epoch: [62 ] loss: 0.290 correct: 28138.000, total: 30000.000, accuracy: 0.938\n",
            "training epoch: [63 ] loss: 0.287 correct: 28152.000, total: 30000.000, accuracy: 0.938\n",
            "training epoch: [64 ] loss: 0.293 correct: 28130.000, total: 30000.000, accuracy: 0.938\n",
            "training epoch: [65 ] loss: 0.297 correct: 28185.000, total: 30000.000, accuracy: 0.940\n",
            "training epoch: [66 ] loss: 0.321 correct: 28045.000, total: 30000.000, accuracy: 0.935\n",
            "training epoch: [67 ] loss: 0.307 correct: 28208.000, total: 30000.000, accuracy: 0.940\n",
            "training epoch: [68 ] loss: 0.286 correct: 28240.000, total: 30000.000, accuracy: 0.941\n",
            "training epoch: [69 ] loss: 0.274 correct: 28139.000, total: 30000.000, accuracy: 0.938\n",
            "training epoch: [70 ] loss: 0.275 correct: 28307.000, total: 30000.000, accuracy: 0.944\n",
            "training epoch: [71 ] loss: 0.272 correct: 28290.000, total: 30000.000, accuracy: 0.943\n",
            "training epoch: [72 ] loss: 0.277 correct: 28173.000, total: 30000.000, accuracy: 0.939\n",
            "training epoch: [73 ] loss: 0.294 correct: 28167.000, total: 30000.000, accuracy: 0.939\n",
            "training epoch: [74 ] loss: 0.301 correct: 28143.000, total: 30000.000, accuracy: 0.938\n",
            "training epoch: [75 ] loss: 0.290 correct: 28128.000, total: 30000.000, accuracy: 0.938\n",
            "training epoch: [76 ] loss: 0.288 correct: 28247.000, total: 30000.000, accuracy: 0.942\n",
            "training epoch: [77 ] loss: 0.301 correct: 28262.000, total: 30000.000, accuracy: 0.942\n",
            "training epoch: [78 ] loss: 0.302 correct: 28155.000, total: 30000.000, accuracy: 0.939\n",
            "training epoch: [79 ] loss: 0.286 correct: 28127.000, total: 30000.000, accuracy: 0.938\n",
            "training epoch: [80 ] loss: 0.310 correct: 28052.000, total: 30000.000, accuracy: 0.935\n",
            "training epoch: [81 ] loss: 0.315 correct: 28123.000, total: 30000.000, accuracy: 0.937\n",
            "training epoch: [82 ] loss: 0.296 correct: 28047.000, total: 30000.000, accuracy: 0.935\n",
            "training epoch: [83 ] loss: 0.352 correct: 27519.000, total: 30000.000, accuracy: 0.917\n",
            "training epoch: [84 ] loss: 0.281 correct: 28316.000, total: 30000.000, accuracy: 0.944\n",
            "training epoch: [85 ] loss: 0.270 correct: 28378.000, total: 30000.000, accuracy: 0.946\n",
            "training epoch: [86 ] loss: 0.294 correct: 28125.000, total: 30000.000, accuracy: 0.938\n",
            "training epoch: [87 ] loss: 0.263 correct: 28232.000, total: 30000.000, accuracy: 0.941\n",
            "training epoch: [88 ] loss: 0.273 correct: 28450.000, total: 30000.000, accuracy: 0.948\n",
            "training epoch: [89 ] loss: 0.293 correct: 28476.000, total: 30000.000, accuracy: 0.949\n",
            "training epoch: [90 ] loss: 0.258 correct: 28469.000, total: 30000.000, accuracy: 0.949\n",
            "training epoch: [91 ] loss: 0.280 correct: 28073.000, total: 30000.000, accuracy: 0.936\n",
            "training epoch: [92 ] loss: 0.242 correct: 28489.000, total: 30000.000, accuracy: 0.950\n",
            "training epoch: [93 ] loss: 0.271 correct: 28452.000, total: 30000.000, accuracy: 0.948\n",
            "training epoch: [94 ] loss: 0.268 correct: 28524.000, total: 30000.000, accuracy: 0.951\n",
            "training epoch: [95 ] loss: 0.267 correct: 28467.000, total: 30000.000, accuracy: 0.949\n",
            "training epoch: [96 ] loss: 0.282 correct: 28531.000, total: 30000.000, accuracy: 0.951\n",
            "training epoch: [97 ] loss: 0.305 correct: 28216.000, total: 30000.000, accuracy: 0.941\n",
            "training epoch: [98 ] loss: 0.283 correct: 28060.000, total: 30000.000, accuracy: 0.935\n",
            "training epoch: [99 ] loss: 0.380 correct: 28273.000, total: 30000.000, accuracy: 0.942\n",
            "training epoch: [100 ] loss: 0.309 correct: 28427.000, total: 30000.000, accuracy: 0.948\n",
            "Finished Training run \n"
          ],
          "name": "stdout"
        }
      ]
    },
    {
      "cell_type": "code",
      "metadata": {
        "id": "AciJnAh5nfug"
      },
      "source": [
        "columns = [\"epochs\", \"argmax > 0.5\" ,\"argmax < 0.5\", \"focus_true_pred_true\", \"focus_false_pred_true\", \"focus_true_pred_false\", \"focus_false_pred_false\" ]\n",
        "df_train = pd.DataFrame()\n",
        "df_test = pd.DataFrame()\n",
        "df_train[columns[0]] = np.arange(0,epoch+2)\n",
        "df_train[columns[1]] = analysis_data_tr[:,-2]/300\n",
        "df_train[columns[2]] = analysis_data_tr[:,-1]/300\n",
        "df_train[columns[3]] = analysis_data_tr[:,0]/300\n",
        "df_train[columns[4]] = analysis_data_tr[:,1]/300\n",
        "df_train[columns[5]] = analysis_data_tr[:,2]/300\n",
        "df_train[columns[6]] = analysis_data_tr[:,3]/300"
      ],
      "execution_count": null,
      "outputs": []
    },
    {
      "cell_type": "code",
      "metadata": {
        "id": "NoQpS_6scRsC",
        "colab": {
          "base_uri": "https://localhost:8080/",
          "height": 456
        },
        "outputId": "cf5470ea-2738-4929-fba1-7a03418a9875"
      },
      "source": [
        "df_train"
      ],
      "execution_count": null,
      "outputs": [
        {
          "output_type": "execute_result",
          "data": {
            "text/html": [
              "<div>\n",
              "<style scoped>\n",
              "    .dataframe tbody tr th:only-of-type {\n",
              "        vertical-align: middle;\n",
              "    }\n",
              "\n",
              "    .dataframe tbody tr th {\n",
              "        vertical-align: top;\n",
              "    }\n",
              "\n",
              "    .dataframe thead th {\n",
              "        text-align: right;\n",
              "    }\n",
              "</style>\n",
              "<table border=\"1\" class=\"dataframe\">\n",
              "  <thead>\n",
              "    <tr style=\"text-align: right;\">\n",
              "      <th></th>\n",
              "      <th>epochs</th>\n",
              "      <th>argmax &gt; 0.5</th>\n",
              "      <th>argmax &lt; 0.5</th>\n",
              "      <th>focus_true_pred_true</th>\n",
              "      <th>focus_false_pred_true</th>\n",
              "      <th>focus_true_pred_false</th>\n",
              "      <th>focus_false_pred_false</th>\n",
              "    </tr>\n",
              "  </thead>\n",
              "  <tbody>\n",
              "    <tr>\n",
              "      <th>0</th>\n",
              "      <td>0</td>\n",
              "      <td>0.000000</td>\n",
              "      <td>100.000000</td>\n",
              "      <td>3.863333</td>\n",
              "      <td>29.926667</td>\n",
              "      <td>7.416667</td>\n",
              "      <td>58.793333</td>\n",
              "    </tr>\n",
              "    <tr>\n",
              "      <th>1</th>\n",
              "      <td>1</td>\n",
              "      <td>1.866667</td>\n",
              "      <td>98.133333</td>\n",
              "      <td>20.126667</td>\n",
              "      <td>55.483333</td>\n",
              "      <td>3.313333</td>\n",
              "      <td>21.076667</td>\n",
              "    </tr>\n",
              "    <tr>\n",
              "      <th>2</th>\n",
              "      <td>2</td>\n",
              "      <td>77.550000</td>\n",
              "      <td>22.450000</td>\n",
              "      <td>22.443333</td>\n",
              "      <td>63.386667</td>\n",
              "      <td>1.540000</td>\n",
              "      <td>12.630000</td>\n",
              "    </tr>\n",
              "    <tr>\n",
              "      <th>3</th>\n",
              "      <td>3</td>\n",
              "      <td>91.613333</td>\n",
              "      <td>8.386667</td>\n",
              "      <td>25.586667</td>\n",
              "      <td>64.233333</td>\n",
              "      <td>1.203333</td>\n",
              "      <td>8.976667</td>\n",
              "    </tr>\n",
              "    <tr>\n",
              "      <th>4</th>\n",
              "      <td>4</td>\n",
              "      <td>92.426667</td>\n",
              "      <td>7.573333</td>\n",
              "      <td>26.160000</td>\n",
              "      <td>65.743333</td>\n",
              "      <td>0.883333</td>\n",
              "      <td>7.213333</td>\n",
              "    </tr>\n",
              "    <tr>\n",
              "      <th>...</th>\n",
              "      <td>...</td>\n",
              "      <td>...</td>\n",
              "      <td>...</td>\n",
              "      <td>...</td>\n",
              "      <td>...</td>\n",
              "      <td>...</td>\n",
              "      <td>...</td>\n",
              "    </tr>\n",
              "    <tr>\n",
              "      <th>96</th>\n",
              "      <td>96</td>\n",
              "      <td>94.920000</td>\n",
              "      <td>5.080000</td>\n",
              "      <td>27.423333</td>\n",
              "      <td>67.680000</td>\n",
              "      <td>0.436667</td>\n",
              "      <td>4.460000</td>\n",
              "    </tr>\n",
              "    <tr>\n",
              "      <th>97</th>\n",
              "      <td>97</td>\n",
              "      <td>94.933333</td>\n",
              "      <td>5.066667</td>\n",
              "      <td>27.150000</td>\n",
              "      <td>66.903333</td>\n",
              "      <td>0.700000</td>\n",
              "      <td>5.246667</td>\n",
              "    </tr>\n",
              "    <tr>\n",
              "      <th>98</th>\n",
              "      <td>98</td>\n",
              "      <td>94.933333</td>\n",
              "      <td>5.066667</td>\n",
              "      <td>27.100000</td>\n",
              "      <td>66.433333</td>\n",
              "      <td>0.743333</td>\n",
              "      <td>5.723333</td>\n",
              "    </tr>\n",
              "    <tr>\n",
              "      <th>99</th>\n",
              "      <td>99</td>\n",
              "      <td>94.930000</td>\n",
              "      <td>5.070000</td>\n",
              "      <td>27.260000</td>\n",
              "      <td>66.983333</td>\n",
              "      <td>0.583333</td>\n",
              "      <td>5.173333</td>\n",
              "    </tr>\n",
              "    <tr>\n",
              "      <th>100</th>\n",
              "      <td>100</td>\n",
              "      <td>94.923333</td>\n",
              "      <td>5.076667</td>\n",
              "      <td>27.373333</td>\n",
              "      <td>67.383333</td>\n",
              "      <td>0.463333</td>\n",
              "      <td>4.780000</td>\n",
              "    </tr>\n",
              "  </tbody>\n",
              "</table>\n",
              "<p>101 rows × 7 columns</p>\n",
              "</div>"
            ],
            "text/plain": [
              "     epochs  argmax > 0.5  ...  focus_true_pred_false  focus_false_pred_false\n",
              "0         0      0.000000  ...               7.416667               58.793333\n",
              "1         1      1.866667  ...               3.313333               21.076667\n",
              "2         2     77.550000  ...               1.540000               12.630000\n",
              "3         3     91.613333  ...               1.203333                8.976667\n",
              "4         4     92.426667  ...               0.883333                7.213333\n",
              "..      ...           ...  ...                    ...                     ...\n",
              "96       96     94.920000  ...               0.436667                4.460000\n",
              "97       97     94.933333  ...               0.700000                5.246667\n",
              "98       98     94.933333  ...               0.743333                5.723333\n",
              "99       99     94.930000  ...               0.583333                5.173333\n",
              "100     100     94.923333  ...               0.463333                4.780000\n",
              "\n",
              "[101 rows x 7 columns]"
            ]
          },
          "metadata": {
            "tags": []
          },
          "execution_count": 19
        }
      ]
    },
    {
      "cell_type": "code",
      "metadata": {
        "id": "IMAhRdxOcVf6",
        "colab": {
          "base_uri": "https://localhost:8080/",
          "height": 404
        },
        "outputId": "45943f13-2ca8-4a81-c646-b99e1d25bc4e"
      },
      "source": [
        "fig= plt.figure(figsize=(6,6))\n",
        "plt.plot(df_train[columns[0]],df_train[columns[3]], label =\"focus_true_pred_true \")\n",
        "plt.plot(df_train[columns[0]],df_train[columns[4]], label =\"focus_false_pred_true \")\n",
        "plt.plot(df_train[columns[0]],df_train[columns[5]], label =\"focus_true_pred_false \")\n",
        "plt.plot(df_train[columns[0]],df_train[columns[6]], label =\"focus_false_pred_false \")\n",
        "plt.title(\"On Train set\")\n",
        "plt.legend(loc='center left', bbox_to_anchor=(1, 0.5))\n",
        "plt.xticks([0,2,4])\n",
        "plt.xlabel(\"epochs\")\n",
        "plt.ylabel(\"percentage of data\")\n",
        "#plt.vlines(vline_list,min(min(df_train[columns[3]]/300),min(df_train[columns[4]]/300),min(df_train[columns[5]]/300),min(df_train[columns[6]]/300)), max(max(df_train[columns[3]]/300),max(df_train[columns[4]]/300),max(df_train[columns[5]]/300),max(df_train[columns[6]]/300)),linestyles='dotted')\n",
        "plt.show()\n",
        "fig.savefig(\"train_analysis.pdf\")\n",
        "fig.savefig(\"train_analysis.png\")"
      ],
      "execution_count": null,
      "outputs": [
        {
          "output_type": "display_data",
          "data": {
            "image/png": "[encoded data removed]",
            "text/plain": [
              "<Figure size 432x432 with 1 Axes>"
            ]
          },
          "metadata": {
            "tags": [],
            "needs_background": "light"
          }
        }
      ]
    },
    {
      "cell_type": "code",
      "metadata": {
        "id": "VCnS6r2_3WdU"
      },
      "source": [
        "aph = []\n",
        "for i in bg:\n",
        "  aph.append(F.softmax(i,dim=1).detach().numpy())\n",
        "  \n",
        "aph = np.concatenate(aph,axis=0)\n",
        "torch.save({\n",
        "            'epoch': 500,\n",
        "            'model_state_dict': what_net.state_dict(),\n",
        "            #'optimizer_state_dict': optimizer_what.state_dict(),\n",
        "            \"optimizer_alpha\":optim1,\n",
        "            \"FTPT_analysis\":analysis_data_tr,\n",
        "            \"alpha\":aph\n",
        "\n",
        "            }, \"cifar_what_net_500.pt\")"
      ],
      "execution_count": null,
      "outputs": []
    },
    {
      "cell_type": "code",
      "metadata": {
        "id": "KVzrDOGS4UxU",
        "colab": {
          "base_uri": "https://localhost:8080/"
        },
        "outputId": "aed40bfe-8e52-4b1a-fe9c-ce38c486e48d"
      },
      "source": [
        "aph"
      ],
      "execution_count": null,
      "outputs": [
        {
          "output_type": "execute_result",
          "data": {
            "text/plain": [
              "array([[2.1314503e-13, 1.0000000e+00, 2.2462463e-09, ..., 3.2773765e-13,\n",
              "        1.6596238e-13, 4.6922351e-13],\n",
              "       [3.0204937e-14, 5.2620248e-14, 3.5024040e-14, ..., 9.9464768e-01,\n",
              "        5.6111570e-11, 5.3522750e-03],\n",
              "       [2.4577660e-13, 1.4520541e-09, 3.9975835e-12, ..., 5.1889109e-12,\n",
              "        1.0465219e-09, 9.0456553e-02],\n",
              "       ...,\n",
              "       [5.4221226e-05, 6.9878901e-15, 1.6475202e-10, ..., 2.6564908e-19,\n",
              "        9.9994576e-01, 2.6684143e-19],\n",
              "       [9.0581924e-01, 9.9405902e-08, 4.1816871e-12, ..., 4.1832826e-12,\n",
              "        2.6571406e-02, 4.2222888e-12],\n",
              "       [4.2216547e-07, 2.6619942e-08, 9.9994600e-01, ..., 2.2995688e-14,\n",
              "        5.5072232e-06, 2.2996916e-14]], dtype=float32)"
            ]
          },
          "metadata": {
            "tags": []
          },
          "execution_count": 22
        }
      ]
    },
    {
      "cell_type": "code",
      "metadata": {
        "id": "Z6heHND15EMz"
      },
      "source": [
        "running_loss_tr,anls_data,correct,total,accuracy = calculate_attn_loss(train_loader,what_net,criterion)"
      ],
      "execution_count": null,
      "outputs": []
    },
    {
      "cell_type": "code",
      "metadata": {
        "id": "zeKhsdpYWQvB",
        "colab": {
          "base_uri": "https://localhost:8080/"
        },
        "outputId": "4ad99655-ce24-446f-de8f-44a0e7874f3a"
      },
      "source": [
        "print(\"argmax>0.5\",anls_data[-2])"
      ],
      "execution_count": null,
      "outputs": [
        {
          "output_type": "stream",
          "text": [
            "argmax>0.5 28477\n"
          ],
          "name": "stdout"
        }
      ]
    },
    {
      "cell_type": "code",
      "metadata": {
        "id": "yF2bvWdIWUTa"
      },
      "source": [
        ""
      ],
      "execution_count": null,
      "outputs": []
    }
  ]
}