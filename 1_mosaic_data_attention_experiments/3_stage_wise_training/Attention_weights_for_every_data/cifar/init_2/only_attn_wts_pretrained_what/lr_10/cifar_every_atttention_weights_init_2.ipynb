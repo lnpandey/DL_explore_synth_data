{
  "nbformat": 4,
  "nbformat_minor": 0,
  "metadata": {
    "accelerator": "GPU",
    "colab": {
      "name": "cifar_every_atttention_weights_init_2.ipynb",
      "provenance": [],
      "collapsed_sections": []
    },
    "kernelspec": {
      "display_name": "Python 3",
      "name": "python3"
    },
    "language_info": {
      "name": "python"
    }
  },
  "cells": [
    {
      "cell_type": "code",
      "metadata": {
        "id": "BWIyC9Ip_bcq"
      },
      "source": [
        "import numpy as np\n",
        "import pandas as pd\n",
        "\n",
        "import torch\n",
        "import torchvision\n",
        "from torch.utils.data import Dataset, DataLoader\n",
        "from torchvision import transforms, utils\n",
        "import torch.nn as nn\n",
        "import torch.nn.functional as F\n",
        "import torch.optim as optim\n",
        "\n",
        "from matplotlib import pyplot as plt\n",
        "%matplotlib inline\n",
        "torch.backends.cudnn.deterministic = True\n",
        "torch.backends.cudnn.benchmark = False"
      ],
      "execution_count": 1,
      "outputs": []
    },
    {
      "cell_type": "code",
      "metadata": {
        "colab": {
          "base_uri": "https://localhost:8080/"
        },
        "id": "cgw1f4rVkGr9",
        "outputId": "51a5b047-afa7-4be6-c919-2100bbfe72b8"
      },
      "source": [
        "transform = transforms.Compose(\n",
        "    [transforms.ToTensor(),\n",
        "     transforms.Normalize((0.5, 0.5, 0.5), (0.5, 0.5, 0.5))])\n",
        "\n",
        "trainset = torchvision.datasets.CIFAR10(root='./data', train=True, download=True, transform=transform)"
      ],
      "execution_count": 2,
      "outputs": [
        {
          "output_type": "stream",
          "text": [
            "Files already downloaded and verified\n"
          ],
          "name": "stdout"
        }
      ]
    },
    {
      "cell_type": "code",
      "metadata": {
        "id": "D-xlWYTKkQEn"
      },
      "source": [
        "trainloader = torch.utils.data.DataLoader(trainset, batch_size=10, shuffle=False)\n",
        "\n",
        "\n",
        "classes = ('plane', 'car', 'bird', 'cat', 'deer', 'dog', 'frog', 'horse', 'ship', 'truck')\n",
        "\n",
        "foreground_classes = {'plane', 'car', 'bird'}\n",
        "#foreground_classes = {'bird', 'cat', 'deer'}\n",
        "background_classes = {'cat', 'deer', 'dog', 'frog', 'horse', 'ship', 'truck'}\n",
        "#background_classes = {'plane', 'car', 'dog', 'frog', 'horse','ship', 'truck'}\n",
        "\n",
        "fg1,fg2,fg3 = 0,1,2"
      ],
      "execution_count": 3,
      "outputs": []
    },
    {
      "cell_type": "code",
      "metadata": {
        "id": "zrX68qhikUbz"
      },
      "source": [
        "dataiter = iter(trainloader)\n",
        "background_data=[]\n",
        "background_label=[]\n",
        "foreground_data=[]\n",
        "foreground_label=[]\n",
        "batch_size=10\n",
        "\n",
        "for i in range(5000):\n",
        "  images, labels = dataiter.next()\n",
        "  for j in range(batch_size):\n",
        "    if(classes[labels[j]] in background_classes):\n",
        "      img = images[j].tolist()\n",
        "      background_data.append(img)\n",
        "      background_label.append(labels[j])\n",
        "    else:\n",
        "      img = images[j].tolist()\n",
        "      foreground_data.append(img)\n",
        "      foreground_label.append(labels[j])\n",
        "            \n",
        "foreground_data = torch.tensor(foreground_data)\n",
        "foreground_label = torch.tensor(foreground_label)\n",
        "background_data = torch.tensor(background_data)\n",
        "background_label = torch.tensor(background_label)"
      ],
      "execution_count": 4,
      "outputs": []
    },
    {
      "cell_type": "code",
      "metadata": {
        "id": "eD-QJkvnkgyk"
      },
      "source": [
        "def create_mosaic_img(bg_idx,fg_idx,fg): \n",
        "  \"\"\"\n",
        "  bg_idx : list of indexes of background_data[] to be used as background images in mosaic\n",
        "  fg_idx : index of image to be used as foreground image from foreground data\n",
        "  fg : at what position/index foreground image has to be stored out of 0-8\n",
        "  \"\"\"\n",
        "  image_list=[]\n",
        "  j=0\n",
        "  for i in range(9):\n",
        "    if i != fg:\n",
        "      image_list.append(background_data[bg_idx[j]])#.type(\"torch.DoubleTensor\"))\n",
        "      j+=1\n",
        "    else: \n",
        "      image_list.append(foreground_data[fg_idx])#.type(\"torch.DoubleTensor\"))\n",
        "      label = foreground_label[fg_idx]-fg1  # minus 7 because our fore ground classes are 7,8,9 but we have to store it as 0,1,2\n",
        "  #image_list = np.concatenate(image_list ,axis=0)\n",
        "  image_list = torch.stack(image_list) \n",
        "  return image_list,label"
      ],
      "execution_count": 5,
      "outputs": []
    },
    {
      "cell_type": "code",
      "metadata": {
        "id": "Zs10rfXHkli2"
      },
      "source": [
        "desired_num = 30000\n",
        "mosaic_list_of_images =[]      # list of mosaic images, each mosaic image is saved as list of 9 images\n",
        "fore_idx =[]                   # list of indexes at which foreground image is present in a mosaic image i.e from 0 to 9               \n",
        "mosaic_label=[]                # label of mosaic image = foreground class present in that mosaic\n",
        "for i in range(desired_num):\n",
        "  np.random.seed(i)\n",
        "  bg_idx = np.random.randint(0,35000,8)\n",
        "  fg_idx = np.random.randint(0,15000)\n",
        "  fg = np.random.randint(0,9)\n",
        "  fore_idx.append(fg)\n",
        "  image_list,label = create_mosaic_img(bg_idx,fg_idx,fg)\n",
        "  mosaic_list_of_images.append(image_list)\n",
        "  mosaic_label.append(label)"
      ],
      "execution_count": 6,
      "outputs": []
    },
    {
      "cell_type": "code",
      "metadata": {
        "id": "7km9Swb1kq4O"
      },
      "source": [
        "class MosaicDataset(Dataset):\n",
        "  \"\"\"MosaicDataset dataset.\"\"\"\n",
        "\n",
        "  def __init__(self, mosaic_list_of_images, mosaic_label, fore_idx):\n",
        "    \"\"\"\n",
        "      Args:\n",
        "        csv_file (string): Path to the csv file with annotations.\n",
        "        root_dir (string): Directory with all the images.\n",
        "        transform (callable, optional): Optional transform to be applied\n",
        "            on a sample.\n",
        "    \"\"\"\n",
        "    self.mosaic = mosaic_list_of_images\n",
        "    self.label = mosaic_label\n",
        "    self.fore_idx = fore_idx\n",
        "\n",
        "  def __len__(self):\n",
        "    return len(self.label)\n",
        "\n",
        "  def __getitem__(self, idx):\n",
        "    return self.mosaic[idx] , self.label[idx], self.fore_idx[idx]\n",
        "batch = 250\n",
        "msd = MosaicDataset(mosaic_list_of_images, mosaic_label , fore_idx)\n",
        "train_loader = DataLoader( msd,batch_size= batch ,shuffle=False,num_workers=0,)"
      ],
      "execution_count": 7,
      "outputs": []
    },
    {
      "cell_type": "code",
      "metadata": {
        "id": "lGVy-1EllAc_"
      },
      "source": [
        "data,labels,fg_index = iter(train_loader).next()"
      ],
      "execution_count": 8,
      "outputs": []
    },
    {
      "cell_type": "code",
      "metadata": {
        "id": "DOpZfj1bq7wN"
      },
      "source": [
        "bg = []\n",
        "for i in range(120):\n",
        "  torch.manual_seed(i)\n",
        "  betag = torch.ones((250,9))/9  #torch.randn(250,9)\n",
        "  a=bg.append( betag.requires_grad_() )"
      ],
      "execution_count": 9,
      "outputs": []
    },
    {
      "cell_type": "code",
      "metadata": {
        "id": "HbrMidFCla6h"
      },
      "source": [
        "class Module2(nn.Module):\n",
        "  def __init__(self):\n",
        "    super(Module2, self).__init__()\n",
        "    \n",
        "    self.conv1 = nn.Conv2d(3, 6, 5)\n",
        "    self.pool = nn.MaxPool2d(2, 2)\n",
        "    self.conv2 = nn.Conv2d(6, 16, 5)\n",
        "    self.fc1 = nn.Linear(16 * 5 * 5, 120)\n",
        "    self.fc2 = nn.Linear(120, 84)\n",
        "    self.fc3 = nn.Linear(84, 10)\n",
        "    self.fc4 = nn.Linear(10,3)\n",
        "\n",
        "  def forward(self,y):  #z batch of list of 9 images\n",
        "    y1 = self.pool(F.relu(self.conv1(y)))\n",
        "    y1 = self.pool(F.relu(self.conv2(y1)))\n",
        "    y1 = y1.view(-1, 16 * 5 * 5)\n",
        "\n",
        "    y1 = F.relu(self.fc1(y1))\n",
        "    y1 = F.relu(self.fc2(y1))\n",
        "    y1 = F.relu(self.fc3(y1))\n",
        "    y1 = self.fc4(y1)\n",
        "    return y1"
      ],
      "execution_count": 10,
      "outputs": []
    },
    {
      "cell_type": "code",
      "metadata": {
        "id": "rRqj2VELllkX"
      },
      "source": [
        "torch.manual_seed(1234)\n",
        "what_net = Module2().double()\n",
        "\n",
        "what_net.load_state_dict(torch.load(\"simultaneous_what.pt\"))\n",
        "what_net = what_net.to(\"cuda\")"
      ],
      "execution_count": 11,
      "outputs": []
    },
    {
      "cell_type": "code",
      "metadata": {
        "id": "6d8Wch99l4yB"
      },
      "source": [
        "def attn_avg(x,beta):\n",
        "  y = torch.zeros([batch,3, 32,32], dtype=torch.float64)\n",
        "  y = y.to(\"cuda\")\n",
        "  alpha = F.softmax(beta,dim=1)   # alphas\n",
        "  for i in range(9):            \n",
        "    alpha1 = alpha[:,i]          \n",
        "    y = y + torch.mul(alpha1[:,None,None,None],x[:,i])\n",
        "  return y,alpha"
      ],
      "execution_count": 12,
      "outputs": []
    },
    {
      "cell_type": "code",
      "metadata": {
        "id": "Rz1Kpw12loV6"
      },
      "source": [
        "def calculate_attn_loss(dataloader,what,criter):\n",
        "  what.eval()\n",
        "  r_loss = 0\n",
        "  alphas = []\n",
        "  lbls = []\n",
        "  pred = []\n",
        "  fidices = []\n",
        "  correct = 0\n",
        "  tot = 0\n",
        "  with torch.no_grad():\n",
        "    for i, data in enumerate(dataloader, 0):\n",
        "      inputs, labels,fidx= data\n",
        "      lbls.append(labels)\n",
        "      fidices.append(fidx)\n",
        "      inputs = inputs.double()\n",
        "      beta = bg[i]  # alpha for ith batch\n",
        "      inputs, labels,beta = inputs.to(\"cuda\"),labels.to(\"cuda\"),beta.to(\"cuda\")\n",
        "      avg,alpha = attn_avg(inputs,beta)\n",
        "      alpha = alpha.to(\"cuda\")\n",
        "      outputs = what(avg)\n",
        "      _, predicted = torch.max(outputs.data, 1)\n",
        "      correct += sum(predicted == labels)\n",
        "      tot += len(predicted)\n",
        "      pred.append(predicted.cpu().numpy())\n",
        "      alphas.append(alpha.cpu().numpy())\n",
        "      loss = criter(outputs, labels)\n",
        "      r_loss += loss.item()\n",
        "  alphas = np.concatenate(alphas,axis=0)\n",
        "  pred = np.concatenate(pred,axis=0)\n",
        "  lbls = np.concatenate(lbls,axis=0)\n",
        "  fidices = np.concatenate(fidices,axis=0)\n",
        "  #print(alphas.shape,pred.shape,lbls.shape,fidices.shape) \n",
        "  analysis = analyse_data(alphas,lbls,pred,fidices)\n",
        "  return r_loss/(i+1),analysis,correct.item(),tot,correct.item()/tot"
      ],
      "execution_count": 13,
      "outputs": []
    },
    {
      "cell_type": "code",
      "metadata": {
        "id": "sAY-x6UAwrwE"
      },
      "source": [
        "for param in what_net.parameters():\n",
        "    param.requires_grad = False"
      ],
      "execution_count": 14,
      "outputs": []
    },
    {
      "cell_type": "code",
      "metadata": {
        "id": "_toCktPanH0S"
      },
      "source": [
        "def analyse_data(alphas,lbls,predicted,f_idx):\n",
        "    '''\n",
        "       analysis data is created here\n",
        "    '''\n",
        "    batch = len(predicted)\n",
        "    amth,alth,ftpt,ffpt,ftpf,ffpf = 0,0,0,0,0,0\n",
        "    for j in range (batch):\n",
        "      focus = np.argmax(alphas[j])\n",
        "      if(alphas[j][focus] >= 0.5):\n",
        "        amth +=1\n",
        "      else:\n",
        "        alth +=1\n",
        "      if(focus == f_idx[j] and predicted[j] == lbls[j]):\n",
        "        ftpt += 1\n",
        "      elif(focus != f_idx[j] and predicted[j] == lbls[j]):\n",
        "        ffpt +=1\n",
        "      elif(focus == f_idx[j] and predicted[j] != lbls[j]):\n",
        "        ftpf +=1\n",
        "      elif(focus != f_idx[j] and predicted[j] != lbls[j]):\n",
        "        ffpf +=1\n",
        "    #print(sum(predicted==lbls),ftpt+ffpt\n",
        "    return [ftpt,ffpt,ftpf,ffpf,amth,alth]"
      ],
      "execution_count": 15,
      "outputs": []
    },
    {
      "cell_type": "code",
      "metadata": {
        "id": "S633XgMToeN3"
      },
      "source": [
        "optim1 = []\n",
        "for i in range(120):\n",
        "  optim1.append(optim.RMSprop([bg[i]], lr=10))"
      ],
      "execution_count": 16,
      "outputs": []
    },
    {
      "cell_type": "code",
      "metadata": {
        "colab": {
          "base_uri": "https://localhost:8080/"
        },
        "id": "qPaYaojinMTA",
        "outputId": "ff20caa3-6e89-42eb-f8c8-03ddd0a64d0a"
      },
      "source": [
        "# instantiate optimizer\n",
        "#optimizer_what = optim.RMSprop(what_net.parameters(), lr=0.001)#, momentum=0.9)#,nesterov=True)\n",
        "\n",
        "\n",
        " \n",
        "\n",
        "\n",
        "criterion = nn.CrossEntropyLoss()\n",
        "acti = []\n",
        "analysis_data_tr = []\n",
        "analysis_data_tst = []\n",
        "loss_curi_tr = []\n",
        "loss_curi_tst = []\n",
        "epochs = 100\n",
        "\n",
        "\n",
        "# calculate zeroth epoch loss and FTPT values\n",
        "running_loss,anlys_data,correct,total,accuracy = calculate_attn_loss(train_loader,what_net,criterion)\n",
        "print('training epoch: [%d ] loss: %.3f correct: %.3f, total: %.3f, accuracy: %.3f' %(0,running_loss,correct,total,accuracy)) \n",
        "loss_curi_tr.append(running_loss)\n",
        "analysis_data_tr.append(anlys_data)\n",
        "\n",
        "\n",
        "\n",
        "\n",
        "# training starts \n",
        "for epoch in range(epochs): # loop over the dataset multiple times\n",
        "  ep_lossi = []\n",
        "  running_loss = 0.0\n",
        "  #what_net.train()\n",
        "  for i, data in enumerate(train_loader, 0):\n",
        "    # get the inputs\n",
        "    inputs, labels,_  = data\n",
        "    inputs = inputs.double()\n",
        "    beta = bg[i] # alpha for ith batch\n",
        "    inputs, labels,beta = inputs.to(\"cuda\"),labels.to(\"cuda\"),beta.to(\"cuda\")\n",
        "        \n",
        "    # zero the parameter gradients\n",
        "    #optimizer_what.zero_grad()\n",
        "    optim1[i].zero_grad()\n",
        "      \n",
        "    # forward + backward + optimize\n",
        "    avg,alpha = attn_avg(inputs,beta)\n",
        "    outputs = what_net(avg)     \n",
        "    loss = criterion(outputs, labels)\n",
        "\n",
        "    # print statistics\n",
        "    running_loss += loss.item()\n",
        "    #alpha.retain_grad()\n",
        "    loss.backward(retain_graph=False)\n",
        "    #optimizer_what.step()\n",
        "    optim1[i].step()\n",
        "\n",
        "\n",
        "  running_loss_tr,anls_data,correct,total,accuracy = calculate_attn_loss(train_loader,what_net,criterion)\n",
        "  analysis_data_tr.append(anls_data)\n",
        "  loss_curi_tr.append(running_loss_tr)   #loss per epoch\n",
        "  print('training epoch: [%d ] loss: %.3f correct: %.3f, total: %.3f, accuracy: %.3f' %(epoch+1,running_loss_tr,correct,total,accuracy)) \n",
        "\n",
        "\n",
        "  \n",
        "  if running_loss_tr<=0.08:\n",
        "    break\n",
        "print('Finished Training run ')\n",
        "analysis_data_tr = np.array(analysis_data_tr)\n",
        "\n"
      ],
      "execution_count": 17,
      "outputs": [
        {
          "output_type": "stream",
          "text": [
            "/usr/local/lib/python3.7/dist-packages/torch/nn/functional.py:718: UserWarning: Named tensors and all their associated APIs are an experimental feature and subject to change. Please do not use them for anything important until they are released as stable. (Triggered internally at  /pytorch/c10/core/TensorImpl.h:1156.)\n",
            "  return torch.max_pool2d(input, kernel_size, stride, padding, dilation, ceil_mode)\n"
          ],
          "name": "stderr"
        },
        {
          "output_type": "stream",
          "text": [
            "training epoch: [0 ] loss: 3.207 correct: 11145.000, total: 30000.000, accuracy: 0.371\n",
            "training epoch: [1 ] loss: 1.552 correct: 18366.000, total: 30000.000, accuracy: 0.612\n",
            "training epoch: [2 ] loss: 2.355 correct: 20229.000, total: 30000.000, accuracy: 0.674\n",
            "training epoch: [3 ] loss: 2.175 correct: 21140.000, total: 30000.000, accuracy: 0.705\n",
            "training epoch: [4 ] loss: 2.140 correct: 21274.000, total: 30000.000, accuracy: 0.709\n",
            "training epoch: [5 ] loss: 2.119 correct: 21341.000, total: 30000.000, accuracy: 0.711\n",
            "training epoch: [6 ] loss: 2.106 correct: 21381.000, total: 30000.000, accuracy: 0.713\n",
            "training epoch: [7 ] loss: 2.100 correct: 21399.000, total: 30000.000, accuracy: 0.713\n",
            "training epoch: [8 ] loss: 2.094 correct: 21419.000, total: 30000.000, accuracy: 0.714\n",
            "training epoch: [9 ] loss: 2.087 correct: 21434.000, total: 30000.000, accuracy: 0.714\n",
            "training epoch: [10 ] loss: 2.083 correct: 21454.000, total: 30000.000, accuracy: 0.715\n",
            "training epoch: [11 ] loss: 2.080 correct: 21464.000, total: 30000.000, accuracy: 0.715\n",
            "training epoch: [12 ] loss: 2.077 correct: 21474.000, total: 30000.000, accuracy: 0.716\n",
            "training epoch: [13 ] loss: 2.073 correct: 21489.000, total: 30000.000, accuracy: 0.716\n",
            "training epoch: [14 ] loss: 2.071 correct: 21496.000, total: 30000.000, accuracy: 0.717\n",
            "training epoch: [15 ] loss: 2.068 correct: 21507.000, total: 30000.000, accuracy: 0.717\n",
            "training epoch: [16 ] loss: 2.067 correct: 21509.000, total: 30000.000, accuracy: 0.717\n",
            "training epoch: [17 ] loss: 2.066 correct: 21513.000, total: 30000.000, accuracy: 0.717\n",
            "training epoch: [18 ] loss: 2.063 correct: 21519.000, total: 30000.000, accuracy: 0.717\n",
            "training epoch: [19 ] loss: 2.062 correct: 21524.000, total: 30000.000, accuracy: 0.717\n",
            "training epoch: [20 ] loss: 2.060 correct: 21530.000, total: 30000.000, accuracy: 0.718\n",
            "training epoch: [21 ] loss: 2.058 correct: 21535.000, total: 30000.000, accuracy: 0.718\n",
            "training epoch: [22 ] loss: 2.058 correct: 21537.000, total: 30000.000, accuracy: 0.718\n",
            "training epoch: [23 ] loss: 2.056 correct: 21540.000, total: 30000.000, accuracy: 0.718\n",
            "training epoch: [24 ] loss: 2.056 correct: 21541.000, total: 30000.000, accuracy: 0.718\n",
            "training epoch: [25 ] loss: 2.054 correct: 21546.000, total: 30000.000, accuracy: 0.718\n",
            "training epoch: [26 ] loss: 2.053 correct: 21550.000, total: 30000.000, accuracy: 0.718\n",
            "training epoch: [27 ] loss: 2.051 correct: 21553.000, total: 30000.000, accuracy: 0.718\n",
            "training epoch: [28 ] loss: 2.051 correct: 21556.000, total: 30000.000, accuracy: 0.719\n",
            "training epoch: [29 ] loss: 2.050 correct: 21556.000, total: 30000.000, accuracy: 0.719\n",
            "training epoch: [30 ] loss: 2.049 correct: 21563.000, total: 30000.000, accuracy: 0.719\n",
            "training epoch: [31 ] loss: 2.047 correct: 21566.000, total: 30000.000, accuracy: 0.719\n",
            "training epoch: [32 ] loss: 2.047 correct: 21565.000, total: 30000.000, accuracy: 0.719\n",
            "training epoch: [33 ] loss: 2.046 correct: 21571.000, total: 30000.000, accuracy: 0.719\n",
            "training epoch: [34 ] loss: 2.046 correct: 21572.000, total: 30000.000, accuracy: 0.719\n",
            "training epoch: [35 ] loss: 2.046 correct: 21574.000, total: 30000.000, accuracy: 0.719\n",
            "training epoch: [36 ] loss: 2.046 correct: 21574.000, total: 30000.000, accuracy: 0.719\n",
            "training epoch: [37 ] loss: 2.044 correct: 21579.000, total: 30000.000, accuracy: 0.719\n",
            "training epoch: [38 ] loss: 2.043 correct: 21582.000, total: 30000.000, accuracy: 0.719\n",
            "training epoch: [39 ] loss: 2.041 correct: 21585.000, total: 30000.000, accuracy: 0.720\n",
            "training epoch: [40 ] loss: 2.040 correct: 21588.000, total: 30000.000, accuracy: 0.720\n",
            "training epoch: [41 ] loss: 2.039 correct: 21590.000, total: 30000.000, accuracy: 0.720\n",
            "training epoch: [42 ] loss: 2.038 correct: 21594.000, total: 30000.000, accuracy: 0.720\n",
            "training epoch: [43 ] loss: 2.039 correct: 21592.000, total: 30000.000, accuracy: 0.720\n",
            "training epoch: [44 ] loss: 2.039 correct: 21594.000, total: 30000.000, accuracy: 0.720\n",
            "training epoch: [45 ] loss: 2.039 correct: 21595.000, total: 30000.000, accuracy: 0.720\n",
            "training epoch: [46 ] loss: 2.038 correct: 21594.000, total: 30000.000, accuracy: 0.720\n",
            "training epoch: [47 ] loss: 2.037 correct: 21599.000, total: 30000.000, accuracy: 0.720\n",
            "training epoch: [48 ] loss: 2.037 correct: 21599.000, total: 30000.000, accuracy: 0.720\n",
            "training epoch: [49 ] loss: 2.037 correct: 21599.000, total: 30000.000, accuracy: 0.720\n",
            "training epoch: [50 ] loss: 2.036 correct: 21605.000, total: 30000.000, accuracy: 0.720\n",
            "training epoch: [51 ] loss: 2.035 correct: 21607.000, total: 30000.000, accuracy: 0.720\n",
            "training epoch: [52 ] loss: 2.035 correct: 21609.000, total: 30000.000, accuracy: 0.720\n",
            "training epoch: [53 ] loss: 2.035 correct: 21609.000, total: 30000.000, accuracy: 0.720\n",
            "training epoch: [54 ] loss: 2.035 correct: 21611.000, total: 30000.000, accuracy: 0.720\n",
            "training epoch: [55 ] loss: 2.036 correct: 21608.000, total: 30000.000, accuracy: 0.720\n",
            "training epoch: [56 ] loss: 2.036 correct: 21608.000, total: 30000.000, accuracy: 0.720\n",
            "training epoch: [57 ] loss: 2.035 correct: 21608.000, total: 30000.000, accuracy: 0.720\n",
            "training epoch: [58 ] loss: 2.034 correct: 21609.000, total: 30000.000, accuracy: 0.720\n",
            "training epoch: [59 ] loss: 2.034 correct: 21610.000, total: 30000.000, accuracy: 0.720\n",
            "training epoch: [60 ] loss: 2.034 correct: 21611.000, total: 30000.000, accuracy: 0.720\n",
            "training epoch: [61 ] loss: 2.034 correct: 21610.000, total: 30000.000, accuracy: 0.720\n",
            "training epoch: [62 ] loss: 2.034 correct: 21611.000, total: 30000.000, accuracy: 0.720\n",
            "training epoch: [63 ] loss: 2.034 correct: 21609.000, total: 30000.000, accuracy: 0.720\n",
            "training epoch: [64 ] loss: 2.034 correct: 21609.000, total: 30000.000, accuracy: 0.720\n",
            "training epoch: [65 ] loss: 2.033 correct: 21614.000, total: 30000.000, accuracy: 0.720\n",
            "training epoch: [66 ] loss: 2.032 correct: 21616.000, total: 30000.000, accuracy: 0.721\n",
            "training epoch: [67 ] loss: 2.031 correct: 21617.000, total: 30000.000, accuracy: 0.721\n",
            "training epoch: [68 ] loss: 2.032 correct: 21618.000, total: 30000.000, accuracy: 0.721\n",
            "training epoch: [69 ] loss: 2.031 correct: 21620.000, total: 30000.000, accuracy: 0.721\n",
            "training epoch: [70 ] loss: 2.031 correct: 21619.000, total: 30000.000, accuracy: 0.721\n",
            "training epoch: [71 ] loss: 2.031 correct: 21620.000, total: 30000.000, accuracy: 0.721\n",
            "training epoch: [72 ] loss: 2.031 correct: 21624.000, total: 30000.000, accuracy: 0.721\n",
            "training epoch: [73 ] loss: 2.031 correct: 21624.000, total: 30000.000, accuracy: 0.721\n",
            "training epoch: [74 ] loss: 2.030 correct: 21626.000, total: 30000.000, accuracy: 0.721\n",
            "training epoch: [75 ] loss: 2.031 correct: 21626.000, total: 30000.000, accuracy: 0.721\n",
            "training epoch: [76 ] loss: 2.030 correct: 21626.000, total: 30000.000, accuracy: 0.721\n",
            "training epoch: [77 ] loss: 2.030 correct: 21628.000, total: 30000.000, accuracy: 0.721\n",
            "training epoch: [78 ] loss: 2.029 correct: 21630.000, total: 30000.000, accuracy: 0.721\n",
            "training epoch: [79 ] loss: 2.029 correct: 21630.000, total: 30000.000, accuracy: 0.721\n",
            "training epoch: [80 ] loss: 2.029 correct: 21630.000, total: 30000.000, accuracy: 0.721\n",
            "training epoch: [81 ] loss: 2.029 correct: 21631.000, total: 30000.000, accuracy: 0.721\n",
            "training epoch: [82 ] loss: 2.028 correct: 21632.000, total: 30000.000, accuracy: 0.721\n",
            "training epoch: [83 ] loss: 2.029 correct: 21632.000, total: 30000.000, accuracy: 0.721\n",
            "training epoch: [84 ] loss: 2.029 correct: 21632.000, total: 30000.000, accuracy: 0.721\n",
            "training epoch: [85 ] loss: 2.029 correct: 21632.000, total: 30000.000, accuracy: 0.721\n",
            "training epoch: [86 ] loss: 2.028 correct: 21634.000, total: 30000.000, accuracy: 0.721\n",
            "training epoch: [87 ] loss: 2.028 correct: 21635.000, total: 30000.000, accuracy: 0.721\n",
            "training epoch: [88 ] loss: 2.028 correct: 21636.000, total: 30000.000, accuracy: 0.721\n",
            "training epoch: [89 ] loss: 2.027 correct: 21639.000, total: 30000.000, accuracy: 0.721\n",
            "training epoch: [90 ] loss: 2.027 correct: 21637.000, total: 30000.000, accuracy: 0.721\n",
            "training epoch: [91 ] loss: 2.027 correct: 21638.000, total: 30000.000, accuracy: 0.721\n",
            "training epoch: [92 ] loss: 2.027 correct: 21639.000, total: 30000.000, accuracy: 0.721\n",
            "training epoch: [93 ] loss: 2.026 correct: 21642.000, total: 30000.000, accuracy: 0.721\n",
            "training epoch: [94 ] loss: 2.025 correct: 21643.000, total: 30000.000, accuracy: 0.721\n",
            "training epoch: [95 ] loss: 2.025 correct: 21644.000, total: 30000.000, accuracy: 0.721\n",
            "training epoch: [96 ] loss: 2.024 correct: 21642.000, total: 30000.000, accuracy: 0.721\n",
            "training epoch: [97 ] loss: 2.024 correct: 21642.000, total: 30000.000, accuracy: 0.721\n",
            "training epoch: [98 ] loss: 2.023 correct: 21645.000, total: 30000.000, accuracy: 0.722\n",
            "training epoch: [99 ] loss: 2.023 correct: 21644.000, total: 30000.000, accuracy: 0.721\n",
            "training epoch: [100 ] loss: 2.022 correct: 21647.000, total: 30000.000, accuracy: 0.722\n",
            "Finished Training run \n"
          ],
          "name": "stdout"
        }
      ]
    },
    {
      "cell_type": "code",
      "metadata": {
        "id": "AciJnAh5nfug"
      },
      "source": [
        "columns = [\"epochs\", \"argmax > 0.5\" ,\"argmax < 0.5\", \"focus_true_pred_true\", \"focus_false_pred_true\", \"focus_true_pred_false\", \"focus_false_pred_false\" ]\n",
        "df_train = pd.DataFrame()\n",
        "df_test = pd.DataFrame()\n",
        "df_train[columns[0]] = np.arange(0,epoch+2)\n",
        "df_train[columns[1]] = analysis_data_tr[:,-2]/300\n",
        "df_train[columns[2]] = analysis_data_tr[:,-1]/300\n",
        "df_train[columns[3]] = analysis_data_tr[:,0]/300\n",
        "df_train[columns[4]] = analysis_data_tr[:,1]/300\n",
        "df_train[columns[5]] = analysis_data_tr[:,2]/300\n",
        "df_train[columns[6]] = analysis_data_tr[:,3]/300"
      ],
      "execution_count": 18,
      "outputs": []
    },
    {
      "cell_type": "code",
      "metadata": {
        "id": "NoQpS_6scRsC",
        "colab": {
          "base_uri": "https://localhost:8080/",
          "height": 456
        },
        "outputId": "b94f5a86-2973-4495-cba0-567064ae0d48"
      },
      "source": [
        "df_train"
      ],
      "execution_count": 19,
      "outputs": [
        {
          "output_type": "execute_result",
          "data": {
            "text/html": [
              "<div>\n",
              "<style scoped>\n",
              "    .dataframe tbody tr th:only-of-type {\n",
              "        vertical-align: middle;\n",
              "    }\n",
              "\n",
              "    .dataframe tbody tr th {\n",
              "        vertical-align: top;\n",
              "    }\n",
              "\n",
              "    .dataframe thead th {\n",
              "        text-align: right;\n",
              "    }\n",
              "</style>\n",
              "<table border=\"1\" class=\"dataframe\">\n",
              "  <thead>\n",
              "    <tr style=\"text-align: right;\">\n",
              "      <th></th>\n",
              "      <th>epochs</th>\n",
              "      <th>argmax &gt; 0.5</th>\n",
              "      <th>argmax &lt; 0.5</th>\n",
              "      <th>focus_true_pred_true</th>\n",
              "      <th>focus_false_pred_true</th>\n",
              "      <th>focus_true_pred_false</th>\n",
              "      <th>focus_false_pred_false</th>\n",
              "    </tr>\n",
              "  </thead>\n",
              "  <tbody>\n",
              "    <tr>\n",
              "      <th>0</th>\n",
              "      <td>0</td>\n",
              "      <td>0.000000</td>\n",
              "      <td>100.000000</td>\n",
              "      <td>4.103333</td>\n",
              "      <td>33.046667</td>\n",
              "      <td>7.176667</td>\n",
              "      <td>55.673333</td>\n",
              "    </tr>\n",
              "    <tr>\n",
              "      <th>1</th>\n",
              "      <td>1</td>\n",
              "      <td>9.476667</td>\n",
              "      <td>90.523333</td>\n",
              "      <td>14.216667</td>\n",
              "      <td>47.003333</td>\n",
              "      <td>6.036667</td>\n",
              "      <td>32.743333</td>\n",
              "    </tr>\n",
              "    <tr>\n",
              "      <th>2</th>\n",
              "      <td>2</td>\n",
              "      <td>86.566667</td>\n",
              "      <td>13.433333</td>\n",
              "      <td>22.283333</td>\n",
              "      <td>45.146667</td>\n",
              "      <td>1.010000</td>\n",
              "      <td>31.560000</td>\n",
              "    </tr>\n",
              "    <tr>\n",
              "      <th>3</th>\n",
              "      <td>3</td>\n",
              "      <td>88.516667</td>\n",
              "      <td>11.483333</td>\n",
              "      <td>24.706667</td>\n",
              "      <td>45.760000</td>\n",
              "      <td>0.860000</td>\n",
              "      <td>28.673333</td>\n",
              "    </tr>\n",
              "    <tr>\n",
              "      <th>4</th>\n",
              "      <td>4</td>\n",
              "      <td>88.833333</td>\n",
              "      <td>11.166667</td>\n",
              "      <td>25.013333</td>\n",
              "      <td>45.900000</td>\n",
              "      <td>0.870000</td>\n",
              "      <td>28.216667</td>\n",
              "    </tr>\n",
              "    <tr>\n",
              "      <th>...</th>\n",
              "      <td>...</td>\n",
              "      <td>...</td>\n",
              "      <td>...</td>\n",
              "      <td>...</td>\n",
              "      <td>...</td>\n",
              "      <td>...</td>\n",
              "      <td>...</td>\n",
              "    </tr>\n",
              "    <tr>\n",
              "      <th>96</th>\n",
              "      <td>96</td>\n",
              "      <td>90.266667</td>\n",
              "      <td>9.733333</td>\n",
              "      <td>26.123333</td>\n",
              "      <td>46.016667</td>\n",
              "      <td>0.846667</td>\n",
              "      <td>27.013333</td>\n",
              "    </tr>\n",
              "    <tr>\n",
              "      <th>97</th>\n",
              "      <td>97</td>\n",
              "      <td>90.293333</td>\n",
              "      <td>9.706667</td>\n",
              "      <td>26.126667</td>\n",
              "      <td>46.013333</td>\n",
              "      <td>0.850000</td>\n",
              "      <td>27.010000</td>\n",
              "    </tr>\n",
              "    <tr>\n",
              "      <th>98</th>\n",
              "      <td>98</td>\n",
              "      <td>90.276667</td>\n",
              "      <td>9.723333</td>\n",
              "      <td>26.136667</td>\n",
              "      <td>46.013333</td>\n",
              "      <td>0.850000</td>\n",
              "      <td>27.000000</td>\n",
              "    </tr>\n",
              "    <tr>\n",
              "      <th>99</th>\n",
              "      <td>99</td>\n",
              "      <td>90.300000</td>\n",
              "      <td>9.700000</td>\n",
              "      <td>26.133333</td>\n",
              "      <td>46.013333</td>\n",
              "      <td>0.853333</td>\n",
              "      <td>27.000000</td>\n",
              "    </tr>\n",
              "    <tr>\n",
              "      <th>100</th>\n",
              "      <td>100</td>\n",
              "      <td>90.300000</td>\n",
              "      <td>9.700000</td>\n",
              "      <td>26.130000</td>\n",
              "      <td>46.026667</td>\n",
              "      <td>0.850000</td>\n",
              "      <td>26.993333</td>\n",
              "    </tr>\n",
              "  </tbody>\n",
              "</table>\n",
              "<p>101 rows × 7 columns</p>\n",
              "</div>"
            ],
            "text/plain": [
              "     epochs  argmax > 0.5  ...  focus_true_pred_false  focus_false_pred_false\n",
              "0         0      0.000000  ...               7.176667               55.673333\n",
              "1         1      9.476667  ...               6.036667               32.743333\n",
              "2         2     86.566667  ...               1.010000               31.560000\n",
              "3         3     88.516667  ...               0.860000               28.673333\n",
              "4         4     88.833333  ...               0.870000               28.216667\n",
              "..      ...           ...  ...                    ...                     ...\n",
              "96       96     90.266667  ...               0.846667               27.013333\n",
              "97       97     90.293333  ...               0.850000               27.010000\n",
              "98       98     90.276667  ...               0.850000               27.000000\n",
              "99       99     90.300000  ...               0.853333               27.000000\n",
              "100     100     90.300000  ...               0.850000               26.993333\n",
              "\n",
              "[101 rows x 7 columns]"
            ]
          },
          "metadata": {
            "tags": []
          },
          "execution_count": 19
        }
      ]
    },
    {
      "cell_type": "code",
      "metadata": {
        "id": "IMAhRdxOcVf6",
        "colab": {
          "base_uri": "https://localhost:8080/",
          "height": 404
        },
        "outputId": "33f38666-c9b1-4338-c7a1-c8d02c6d0e96"
      },
      "source": [
        "fig= plt.figure(figsize=(6,6))\n",
        "plt.plot(df_train[columns[0]],df_train[columns[3]], label =\"focus_true_pred_true \")\n",
        "plt.plot(df_train[columns[0]],df_train[columns[4]], label =\"focus_false_pred_true \")\n",
        "plt.plot(df_train[columns[0]],df_train[columns[5]], label =\"focus_true_pred_false \")\n",
        "plt.plot(df_train[columns[0]],df_train[columns[6]], label =\"focus_false_pred_false \")\n",
        "plt.title(\"On Train set\")\n",
        "plt.legend(loc='center left', bbox_to_anchor=(1, 0.5))\n",
        "plt.xticks([0,50,100])\n",
        "plt.xlabel(\"epochs\")\n",
        "plt.ylabel(\"percentage of data\")\n",
        "#plt.vlines(vline_list,min(min(df_train[columns[3]]/300),min(df_train[columns[4]]/300),min(df_train[columns[5]]/300),min(df_train[columns[6]]/300)), max(max(df_train[columns[3]]/300),max(df_train[columns[4]]/300),max(df_train[columns[5]]/300),max(df_train[columns[6]]/300)),linestyles='dotted')\n",
        "plt.show()\n",
        "fig.savefig(\"train_analysis.pdf\")\n",
        "fig.savefig(\"train_analysis.png\")"
      ],
      "execution_count": 20,
      "outputs": [
        {
          "output_type": "display_data",
          "data": {
            "image/png": "[encoded data removed]",
            "text/plain": [
              "<Figure size 432x432 with 1 Axes>"
            ]
          },
          "metadata": {
            "tags": [],
            "needs_background": "light"
          }
        }
      ]
    },
    {
      "cell_type": "code",
      "metadata": {
        "id": "VCnS6r2_3WdU"
      },
      "source": [
        "aph = []\n",
        "for i in bg:\n",
        "  aph.append(F.softmax(i,dim=1).detach().numpy())\n",
        "  \n",
        "aph = np.concatenate(aph,axis=0)\n",
        "torch.save({\n",
        "            'epoch': 500,\n",
        "            'model_state_dict': what_net.state_dict(),\n",
        "            #'optimizer_state_dict': optimizer_what.state_dict(),\n",
        "            \"optimizer_alpha\":optim1,\n",
        "            \"FTPT_analysis\":analysis_data_tr,\n",
        "            \"alpha\":aph\n",
        "\n",
        "            }, \"cifar_what_net_500.pt\")"
      ],
      "execution_count": 21,
      "outputs": []
    },
    {
      "cell_type": "code",
      "metadata": {
        "id": "KVzrDOGS4UxU",
        "colab": {
          "base_uri": "https://localhost:8080/"
        },
        "outputId": "23d2bddc-bd60-4488-aa0a-f4c84c167139"
      },
      "source": [
        "aph"
      ],
      "execution_count": 22,
      "outputs": [
        {
          "output_type": "execute_result",
          "data": {
            "text/plain": [
              "array([[3.0005374e-04, 9.9959618e-01, 0.0000000e+00, ..., 0.0000000e+00,\n",
              "        0.0000000e+00, 0.0000000e+00],\n",
              "       [0.0000000e+00, 0.0000000e+00, 0.0000000e+00, ..., 0.0000000e+00,\n",
              "        9.9902248e-01, 0.0000000e+00],\n",
              "       [0.0000000e+00, 0.0000000e+00, 0.0000000e+00, ..., 2.0686431e-01,\n",
              "        8.2193956e-02, 1.6953604e-01],\n",
              "       ...,\n",
              "       [9.8748684e-02, 0.0000000e+00, 2.7218416e-01, ..., 0.0000000e+00,\n",
              "        4.3199906e-01, 1.9706813e-01],\n",
              "       [4.1592899e-01, 5.8407104e-01, 0.0000000e+00, ..., 0.0000000e+00,\n",
              "        0.0000000e+00, 1.2627346e-28],\n",
              "       [0.0000000e+00, 0.0000000e+00, 4.8410900e-02, ..., 0.0000000e+00,\n",
              "        1.9929060e-01, 0.0000000e+00]], dtype=float32)"
            ]
          },
          "metadata": {
            "tags": []
          },
          "execution_count": 22
        }
      ]
    },
    {
      "cell_type": "code",
      "metadata": {
        "id": "Z6heHND15EMz"
      },
      "source": [
        "running_loss_tr,anls_data,correct,total,accuracy = calculate_attn_loss(train_loader,what_net,criterion)"
      ],
      "execution_count": 23,
      "outputs": []
    },
    {
      "cell_type": "code",
      "metadata": {
        "id": "zeKhsdpYWQvB",
        "colab": {
          "base_uri": "https://localhost:8080/"
        },
        "outputId": "ae93d462-b3d9-4ef3-d1d1-339cd9a82cc2"
      },
      "source": [
        "print(\"argmax>0.5\",anls_data[-2])"
      ],
      "execution_count": 24,
      "outputs": [
        {
          "output_type": "stream",
          "text": [
            "argmax>0.5 27090\n"
          ],
          "name": "stdout"
        }
      ]
    },
    {
      "cell_type": "code",
      "metadata": {
        "id": "yF2bvWdIWUTa"
      },
      "source": [
        ""
      ],
      "execution_count": 24,
      "outputs": []
    }
  ]
}