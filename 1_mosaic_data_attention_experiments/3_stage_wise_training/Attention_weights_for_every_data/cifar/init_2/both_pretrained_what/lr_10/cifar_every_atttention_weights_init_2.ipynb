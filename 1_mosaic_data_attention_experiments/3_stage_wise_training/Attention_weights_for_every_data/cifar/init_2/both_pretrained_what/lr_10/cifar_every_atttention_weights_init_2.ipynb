{
  "nbformat": 4,
  "nbformat_minor": 0,
  "metadata": {
    "accelerator": "GPU",
    "colab": {
      "name": "cifar_every_atttention_weights_init_2.ipynb",
      "provenance": [],
      "collapsed_sections": []
    },
    "kernelspec": {
      "display_name": "Python 3",
      "name": "python3"
    },
    "language_info": {
      "name": "python"
    },
    "widgets": {
      "application/vnd.jupyter.widget-state+json": {
        "2ad998faa7464c5f9ce62be4169f277a": {
          "model_module": "@jupyter-widgets/controls",
          "model_name": "HBoxModel",
          "state": {
            "_view_name": "HBoxView",
            "_dom_classes": [],
            "_model_name": "HBoxModel",
            "_view_module": "@jupyter-widgets/controls",
            "_model_module_version": "1.5.0",
            "_view_count": null,
            "_view_module_version": "1.5.0",
            "box_style": "",
            "layout": "IPY_MODEL_752f97651d9c4ee88ab3d603052baa98",
            "_model_module": "@jupyter-widgets/controls",
            "children": [
              "IPY_MODEL_7d636621ec2040c28900df6be8006e9d",
              "IPY_MODEL_094484347a4d45ec881c569eaf1e772b"
            ]
          }
        },
        "752f97651d9c4ee88ab3d603052baa98": {
          "model_module": "@jupyter-widgets/base",
          "model_name": "LayoutModel",
          "state": {
            "_view_name": "LayoutView",
            "grid_template_rows": null,
            "right": null,
            "justify_content": null,
            "_view_module": "@jupyter-widgets/base",
            "overflow": null,
            "_model_module_version": "1.2.0",
            "_view_count": null,
            "flex_flow": null,
            "width": null,
            "min_width": null,
            "border": null,
            "align_items": null,
            "bottom": null,
            "_model_module": "@jupyter-widgets/base",
            "top": null,
            "grid_column": null,
            "overflow_y": null,
            "overflow_x": null,
            "grid_auto_flow": null,
            "grid_area": null,
            "grid_template_columns": null,
            "flex": null,
            "_model_name": "LayoutModel",
            "justify_items": null,
            "grid_row": null,
            "max_height": null,
            "align_content": null,
            "visibility": null,
            "align_self": null,
            "height": null,
            "min_height": null,
            "padding": null,
            "grid_auto_rows": null,
            "grid_gap": null,
            "max_width": null,
            "order": null,
            "_view_module_version": "1.2.0",
            "grid_template_areas": null,
            "object_position": null,
            "object_fit": null,
            "grid_auto_columns": null,
            "margin": null,
            "display": null,
            "left": null
          }
        },
        "7d636621ec2040c28900df6be8006e9d": {
          "model_module": "@jupyter-widgets/controls",
          "model_name": "FloatProgressModel",
          "state": {
            "_view_name": "ProgressView",
            "style": "IPY_MODEL_496085b760074244b526709ca372d85e",
            "_dom_classes": [],
            "description": "",
            "_model_name": "FloatProgressModel",
            "bar_style": "success",
            "max": 170498071,
            "_view_module": "@jupyter-widgets/controls",
            "_model_module_version": "1.5.0",
            "value": 170498071,
            "_view_count": null,
            "_view_module_version": "1.5.0",
            "orientation": "horizontal",
            "min": 0,
            "description_tooltip": null,
            "_model_module": "@jupyter-widgets/controls",
            "layout": "IPY_MODEL_2955d3486c79451db0e4b4c3660c8ef1"
          }
        },
        "094484347a4d45ec881c569eaf1e772b": {
          "model_module": "@jupyter-widgets/controls",
          "model_name": "HTMLModel",
          "state": {
            "_view_name": "HTMLView",
            "style": "IPY_MODEL_e57cbb358a8545d7b6792befb904f5ef",
            "_dom_classes": [],
            "description": "",
            "_model_name": "HTMLModel",
            "placeholder": "​",
            "_view_module": "@jupyter-widgets/controls",
            "_model_module_version": "1.5.0",
            "value": " 170499072/? [00:06&lt;00:00, 24705635.92it/s]",
            "_view_count": null,
            "_view_module_version": "1.5.0",
            "description_tooltip": null,
            "_model_module": "@jupyter-widgets/controls",
            "layout": "IPY_MODEL_6637a06cc917406fb172ba3c6940d100"
          }
        },
        "496085b760074244b526709ca372d85e": {
          "model_module": "@jupyter-widgets/controls",
          "model_name": "ProgressStyleModel",
          "state": {
            "_view_name": "StyleView",
            "_model_name": "ProgressStyleModel",
            "description_width": "initial",
            "_view_module": "@jupyter-widgets/base",
            "_model_module_version": "1.5.0",
            "_view_count": null,
            "_view_module_version": "1.2.0",
            "bar_color": null,
            "_model_module": "@jupyter-widgets/controls"
          }
        },
        "2955d3486c79451db0e4b4c3660c8ef1": {
          "model_module": "@jupyter-widgets/base",
          "model_name": "LayoutModel",
          "state": {
            "_view_name": "LayoutView",
            "grid_template_rows": null,
            "right": null,
            "justify_content": null,
            "_view_module": "@jupyter-widgets/base",
            "overflow": null,
            "_model_module_version": "1.2.0",
            "_view_count": null,
            "flex_flow": null,
            "width": null,
            "min_width": null,
            "border": null,
            "align_items": null,
            "bottom": null,
            "_model_module": "@jupyter-widgets/base",
            "top": null,
            "grid_column": null,
            "overflow_y": null,
            "overflow_x": null,
            "grid_auto_flow": null,
            "grid_area": null,
            "grid_template_columns": null,
            "flex": null,
            "_model_name": "LayoutModel",
            "justify_items": null,
            "grid_row": null,
            "max_height": null,
            "align_content": null,
            "visibility": null,
            "align_self": null,
            "height": null,
            "min_height": null,
            "padding": null,
            "grid_auto_rows": null,
            "grid_gap": null,
            "max_width": null,
            "order": null,
            "_view_module_version": "1.2.0",
            "grid_template_areas": null,
            "object_position": null,
            "object_fit": null,
            "grid_auto_columns": null,
            "margin": null,
            "display": null,
            "left": null
          }
        },
        "e57cbb358a8545d7b6792befb904f5ef": {
          "model_module": "@jupyter-widgets/controls",
          "model_name": "DescriptionStyleModel",
          "state": {
            "_view_name": "StyleView",
            "_model_name": "DescriptionStyleModel",
            "description_width": "",
            "_view_module": "@jupyter-widgets/base",
            "_model_module_version": "1.5.0",
            "_view_count": null,
            "_view_module_version": "1.2.0",
            "_model_module": "@jupyter-widgets/controls"
          }
        },
        "6637a06cc917406fb172ba3c6940d100": {
          "model_module": "@jupyter-widgets/base",
          "model_name": "LayoutModel",
          "state": {
            "_view_name": "LayoutView",
            "grid_template_rows": null,
            "right": null,
            "justify_content": null,
            "_view_module": "@jupyter-widgets/base",
            "overflow": null,
            "_model_module_version": "1.2.0",
            "_view_count": null,
            "flex_flow": null,
            "width": null,
            "min_width": null,
            "border": null,
            "align_items": null,
            "bottom": null,
            "_model_module": "@jupyter-widgets/base",
            "top": null,
            "grid_column": null,
            "overflow_y": null,
            "overflow_x": null,
            "grid_auto_flow": null,
            "grid_area": null,
            "grid_template_columns": null,
            "flex": null,
            "_model_name": "LayoutModel",
            "justify_items": null,
            "grid_row": null,
            "max_height": null,
            "align_content": null,
            "visibility": null,
            "align_self": null,
            "height": null,
            "min_height": null,
            "padding": null,
            "grid_auto_rows": null,
            "grid_gap": null,
            "max_width": null,
            "order": null,
            "_view_module_version": "1.2.0",
            "grid_template_areas": null,
            "object_position": null,
            "object_fit": null,
            "grid_auto_columns": null,
            "margin": null,
            "display": null,
            "left": null
          }
        }
      }
    }
  },
  "cells": [
    {
      "cell_type": "code",
      "metadata": {
        "id": "BWIyC9Ip_bcq"
      },
      "source": [
        "import numpy as np\n",
        "import pandas as pd\n",
        "\n",
        "import torch\n",
        "import torchvision\n",
        "from torch.utils.data import Dataset, DataLoader\n",
        "from torchvision import transforms, utils\n",
        "import torch.nn as nn\n",
        "import torch.nn.functional as F\n",
        "import torch.optim as optim\n",
        "\n",
        "from matplotlib import pyplot as plt\n",
        "%matplotlib inline\n",
        "torch.backends.cudnn.deterministic = True\n",
        "torch.backends.cudnn.benchmark = False"
      ],
      "execution_count": 1,
      "outputs": []
    },
    {
      "cell_type": "code",
      "metadata": {
        "colab": {
          "base_uri": "https://localhost:8080/",
          "height": 100,
          "referenced_widgets": [
            "2ad998faa7464c5f9ce62be4169f277a",
            "752f97651d9c4ee88ab3d603052baa98",
            "7d636621ec2040c28900df6be8006e9d",
            "094484347a4d45ec881c569eaf1e772b",
            "496085b760074244b526709ca372d85e",
            "2955d3486c79451db0e4b4c3660c8ef1",
            "e57cbb358a8545d7b6792befb904f5ef",
            "6637a06cc917406fb172ba3c6940d100"
          ]
        },
        "id": "cgw1f4rVkGr9",
        "outputId": "474028fe-ac99-4a7f-dc03-f1b1b00d5f52"
      },
      "source": [
        "transform = transforms.Compose(\n",
        "    [transforms.ToTensor(),\n",
        "     transforms.Normalize((0.5, 0.5, 0.5), (0.5, 0.5, 0.5))])\n",
        "\n",
        "trainset = torchvision.datasets.CIFAR10(root='./data', train=True, download=True, transform=transform)"
      ],
      "execution_count": 2,
      "outputs": [
        {
          "output_type": "stream",
          "text": [
            "Downloading https://www.cs.toronto.edu/~kriz/cifar-10-python.tar.gz to ./data/cifar-10-python.tar.gz\n"
          ],
          "name": "stdout"
        },
        {
          "output_type": "display_data",
          "data": {
            "application/vnd.jupyter.widget-view+json": {
              "model_id": "2ad998faa7464c5f9ce62be4169f277a",
              "version_minor": 0,
              "version_major": 2
            },
            "text/plain": [
              "HBox(children=(FloatProgress(value=0.0, max=170498071.0), HTML(value='')))"
            ]
          },
          "metadata": {
            "tags": []
          }
        },
        {
          "output_type": "stream",
          "text": [
            "\n",
            "Extracting ./data/cifar-10-python.tar.gz to ./data\n"
          ],
          "name": "stdout"
        }
      ]
    },
    {
      "cell_type": "code",
      "metadata": {
        "id": "D-xlWYTKkQEn"
      },
      "source": [
        "trainloader = torch.utils.data.DataLoader(trainset, batch_size=10, shuffle=False)\n",
        "\n",
        "\n",
        "classes = ('plane', 'car', 'bird', 'cat', 'deer', 'dog', 'frog', 'horse', 'ship', 'truck')\n",
        "\n",
        "foreground_classes = {'plane', 'car', 'bird'}\n",
        "#foreground_classes = {'bird', 'cat', 'deer'}\n",
        "background_classes = {'cat', 'deer', 'dog', 'frog', 'horse', 'ship', 'truck'}\n",
        "#background_classes = {'plane', 'car', 'dog', 'frog', 'horse','ship', 'truck'}\n",
        "\n",
        "fg1,fg2,fg3 = 0,1,2"
      ],
      "execution_count": 3,
      "outputs": []
    },
    {
      "cell_type": "code",
      "metadata": {
        "id": "zrX68qhikUbz"
      },
      "source": [
        "dataiter = iter(trainloader)\n",
        "background_data=[]\n",
        "background_label=[]\n",
        "foreground_data=[]\n",
        "foreground_label=[]\n",
        "batch_size=10\n",
        "\n",
        "for i in range(5000):\n",
        "  images, labels = dataiter.next()\n",
        "  for j in range(batch_size):\n",
        "    if(classes[labels[j]] in background_classes):\n",
        "      img = images[j].tolist()\n",
        "      background_data.append(img)\n",
        "      background_label.append(labels[j])\n",
        "    else:\n",
        "      img = images[j].tolist()\n",
        "      foreground_data.append(img)\n",
        "      foreground_label.append(labels[j])\n",
        "            \n",
        "foreground_data = torch.tensor(foreground_data)\n",
        "foreground_label = torch.tensor(foreground_label)\n",
        "background_data = torch.tensor(background_data)\n",
        "background_label = torch.tensor(background_label)"
      ],
      "execution_count": 4,
      "outputs": []
    },
    {
      "cell_type": "code",
      "metadata": {
        "id": "eD-QJkvnkgyk"
      },
      "source": [
        "def create_mosaic_img(bg_idx,fg_idx,fg): \n",
        "  \"\"\"\n",
        "  bg_idx : list of indexes of background_data[] to be used as background images in mosaic\n",
        "  fg_idx : index of image to be used as foreground image from foreground data\n",
        "  fg : at what position/index foreground image has to be stored out of 0-8\n",
        "  \"\"\"\n",
        "  image_list=[]\n",
        "  j=0\n",
        "  for i in range(9):\n",
        "    if i != fg:\n",
        "      image_list.append(background_data[bg_idx[j]])#.type(\"torch.DoubleTensor\"))\n",
        "      j+=1\n",
        "    else: \n",
        "      image_list.append(foreground_data[fg_idx])#.type(\"torch.DoubleTensor\"))\n",
        "      label = foreground_label[fg_idx]-fg1  # minus 7 because our fore ground classes are 7,8,9 but we have to store it as 0,1,2\n",
        "  #image_list = np.concatenate(image_list ,axis=0)\n",
        "  image_list = torch.stack(image_list) \n",
        "  return image_list,label"
      ],
      "execution_count": 5,
      "outputs": []
    },
    {
      "cell_type": "code",
      "metadata": {
        "id": "Zs10rfXHkli2"
      },
      "source": [
        "desired_num = 30000\n",
        "mosaic_list_of_images =[]      # list of mosaic images, each mosaic image is saved as list of 9 images\n",
        "fore_idx =[]                   # list of indexes at which foreground image is present in a mosaic image i.e from 0 to 9               \n",
        "mosaic_label=[]                # label of mosaic image = foreground class present in that mosaic\n",
        "for i in range(desired_num):\n",
        "  np.random.seed(i)\n",
        "  bg_idx = np.random.randint(0,35000,8)\n",
        "  fg_idx = np.random.randint(0,15000)\n",
        "  fg = np.random.randint(0,9)\n",
        "  fore_idx.append(fg)\n",
        "  image_list,label = create_mosaic_img(bg_idx,fg_idx,fg)\n",
        "  mosaic_list_of_images.append(image_list)\n",
        "  mosaic_label.append(label)"
      ],
      "execution_count": 6,
      "outputs": []
    },
    {
      "cell_type": "code",
      "metadata": {
        "id": "7km9Swb1kq4O"
      },
      "source": [
        "class MosaicDataset(Dataset):\n",
        "  \"\"\"MosaicDataset dataset.\"\"\"\n",
        "\n",
        "  def __init__(self, mosaic_list_of_images, mosaic_label, fore_idx):\n",
        "    \"\"\"\n",
        "      Args:\n",
        "        csv_file (string): Path to the csv file with annotations.\n",
        "        root_dir (string): Directory with all the images.\n",
        "        transform (callable, optional): Optional transform to be applied\n",
        "            on a sample.\n",
        "    \"\"\"\n",
        "    self.mosaic = mosaic_list_of_images\n",
        "    self.label = mosaic_label\n",
        "    self.fore_idx = fore_idx\n",
        "\n",
        "  def __len__(self):\n",
        "    return len(self.label)\n",
        "\n",
        "  def __getitem__(self, idx):\n",
        "    return self.mosaic[idx] , self.label[idx], self.fore_idx[idx]\n",
        "batch = 250\n",
        "msd = MosaicDataset(mosaic_list_of_images, mosaic_label , fore_idx)\n",
        "train_loader = DataLoader( msd,batch_size= batch ,shuffle=False,num_workers=0,)"
      ],
      "execution_count": 7,
      "outputs": []
    },
    {
      "cell_type": "code",
      "metadata": {
        "id": "lGVy-1EllAc_"
      },
      "source": [
        "data,labels,fg_index = iter(train_loader).next()"
      ],
      "execution_count": 8,
      "outputs": []
    },
    {
      "cell_type": "code",
      "metadata": {
        "id": "DOpZfj1bq7wN"
      },
      "source": [
        "bg = []\n",
        "for i in range(120):\n",
        "  torch.manual_seed(i)\n",
        "  betag = torch.ones((250,9))/9  #torch.randn(250,9)\n",
        "  a=bg.append( betag.requires_grad_() )"
      ],
      "execution_count": 9,
      "outputs": []
    },
    {
      "cell_type": "code",
      "metadata": {
        "id": "HbrMidFCla6h"
      },
      "source": [
        "class Module2(nn.Module):\n",
        "  def __init__(self):\n",
        "    super(Module2, self).__init__()\n",
        "    \n",
        "    self.conv1 = nn.Conv2d(3, 6, 5)\n",
        "    self.pool = nn.MaxPool2d(2, 2)\n",
        "    self.conv2 = nn.Conv2d(6, 16, 5)\n",
        "    self.fc1 = nn.Linear(16 * 5 * 5, 120)\n",
        "    self.fc2 = nn.Linear(120, 84)\n",
        "    self.fc3 = nn.Linear(84, 10)\n",
        "    self.fc4 = nn.Linear(10,3)\n",
        "\n",
        "  def forward(self,y):  #z batch of list of 9 images\n",
        "    y1 = self.pool(F.relu(self.conv1(y)))\n",
        "    y1 = self.pool(F.relu(self.conv2(y1)))\n",
        "    y1 = y1.view(-1, 16 * 5 * 5)\n",
        "\n",
        "    y1 = F.relu(self.fc1(y1))\n",
        "    y1 = F.relu(self.fc2(y1))\n",
        "    y1 = F.relu(self.fc3(y1))\n",
        "    y1 = self.fc4(y1)\n",
        "    return y1"
      ],
      "execution_count": 10,
      "outputs": []
    },
    {
      "cell_type": "code",
      "metadata": {
        "id": "rRqj2VELllkX"
      },
      "source": [
        "torch.manual_seed(1234)\n",
        "what_net = Module2().double()\n",
        "\n",
        "what_net.load_state_dict(torch.load(\"simultaneous_what.pt\"))\n",
        "what_net = what_net.to(\"cuda\")"
      ],
      "execution_count": 11,
      "outputs": []
    },
    {
      "cell_type": "code",
      "metadata": {
        "id": "6d8Wch99l4yB"
      },
      "source": [
        "def attn_avg(x,beta):\n",
        "  y = torch.zeros([batch,3, 32,32], dtype=torch.float64)\n",
        "  y = y.to(\"cuda\")\n",
        "  alpha = F.softmax(beta,dim=1)   # alphas\n",
        "  for i in range(9):            \n",
        "    alpha1 = alpha[:,i]          \n",
        "    y = y + torch.mul(alpha1[:,None,None,None],x[:,i])\n",
        "  return y,alpha"
      ],
      "execution_count": 12,
      "outputs": []
    },
    {
      "cell_type": "code",
      "metadata": {
        "id": "Rz1Kpw12loV6"
      },
      "source": [
        "def calculate_attn_loss(dataloader,what,criter):\n",
        "  what.eval()\n",
        "  r_loss = 0\n",
        "  alphas = []\n",
        "  lbls = []\n",
        "  pred = []\n",
        "  fidices = []\n",
        "  correct = 0\n",
        "  tot = 0\n",
        "  with torch.no_grad():\n",
        "    for i, data in enumerate(dataloader, 0):\n",
        "      inputs, labels,fidx= data\n",
        "      lbls.append(labels)\n",
        "      fidices.append(fidx)\n",
        "      inputs = inputs.double()\n",
        "      beta = bg[i]  # alpha for ith batch\n",
        "      inputs, labels,beta = inputs.to(\"cuda\"),labels.to(\"cuda\"),beta.to(\"cuda\")\n",
        "      avg,alpha = attn_avg(inputs,beta)\n",
        "      alpha = alpha.to(\"cuda\")\n",
        "      outputs = what(avg)\n",
        "      _, predicted = torch.max(outputs.data, 1)\n",
        "      correct += sum(predicted == labels)\n",
        "      tot += len(predicted)\n",
        "      pred.append(predicted.cpu().numpy())\n",
        "      alphas.append(alpha.cpu().numpy())\n",
        "      loss = criter(outputs, labels)\n",
        "      r_loss += loss.item()\n",
        "  alphas = np.concatenate(alphas,axis=0)\n",
        "  pred = np.concatenate(pred,axis=0)\n",
        "  lbls = np.concatenate(lbls,axis=0)\n",
        "  fidices = np.concatenate(fidices,axis=0)\n",
        "  #print(alphas.shape,pred.shape,lbls.shape,fidices.shape) \n",
        "  analysis = analyse_data(alphas,lbls,pred,fidices)\n",
        "  return r_loss/(i+1),analysis,correct.item(),tot,correct.item()/tot"
      ],
      "execution_count": 13,
      "outputs": []
    },
    {
      "cell_type": "code",
      "metadata": {
        "id": "sAY-x6UAwrwE"
      },
      "source": [
        "# for param in what_net.parameters():\n",
        "#     param.requires_grad = False"
      ],
      "execution_count": null,
      "outputs": []
    },
    {
      "cell_type": "code",
      "metadata": {
        "id": "_toCktPanH0S"
      },
      "source": [
        "def analyse_data(alphas,lbls,predicted,f_idx):\n",
        "    '''\n",
        "       analysis data is created here\n",
        "    '''\n",
        "    batch = len(predicted)\n",
        "    amth,alth,ftpt,ffpt,ftpf,ffpf = 0,0,0,0,0,0\n",
        "    for j in range (batch):\n",
        "      focus = np.argmax(alphas[j])\n",
        "      if(alphas[j][focus] >= 0.5):\n",
        "        amth +=1\n",
        "      else:\n",
        "        alth +=1\n",
        "      if(focus == f_idx[j] and predicted[j] == lbls[j]):\n",
        "        ftpt += 1\n",
        "      elif(focus != f_idx[j] and predicted[j] == lbls[j]):\n",
        "        ffpt +=1\n",
        "      elif(focus == f_idx[j] and predicted[j] != lbls[j]):\n",
        "        ftpf +=1\n",
        "      elif(focus != f_idx[j] and predicted[j] != lbls[j]):\n",
        "        ffpf +=1\n",
        "    #print(sum(predicted==lbls),ftpt+ffpt\n",
        "    return [ftpt,ffpt,ftpf,ffpf,amth,alth]"
      ],
      "execution_count": 14,
      "outputs": []
    },
    {
      "cell_type": "code",
      "metadata": {
        "id": "S633XgMToeN3"
      },
      "source": [
        "optim1 = []\n",
        "for i in range(120):\n",
        "  optim1.append(optim.RMSprop([bg[i]], lr=10))"
      ],
      "execution_count": 15,
      "outputs": []
    },
    {
      "cell_type": "code",
      "metadata": {
        "colab": {
          "base_uri": "https://localhost:8080/"
        },
        "id": "qPaYaojinMTA",
        "outputId": "ac3ae176-0755-441e-d93e-16b7403b94a1"
      },
      "source": [
        "# instantiate optimizer\n",
        "optimizer_what = optim.RMSprop(what_net.parameters(), lr=0.001)#, momentum=0.9)#,nesterov=True)\n",
        "\n",
        "\n",
        " \n",
        "\n",
        "\n",
        "criterion = nn.CrossEntropyLoss()\n",
        "acti = []\n",
        "analysis_data_tr = []\n",
        "analysis_data_tst = []\n",
        "loss_curi_tr = []\n",
        "loss_curi_tst = []\n",
        "epochs = 100\n",
        "\n",
        "\n",
        "# calculate zeroth epoch loss and FTPT values\n",
        "running_loss,anlys_data,correct,total,accuracy = calculate_attn_loss(train_loader,what_net,criterion)\n",
        "print('training epoch: [%d ] loss: %.3f correct: %.3f, total: %.3f, accuracy: %.3f' %(0,running_loss,correct,total,accuracy)) \n",
        "loss_curi_tr.append(running_loss)\n",
        "analysis_data_tr.append(anlys_data)\n",
        "\n",
        "\n",
        "\n",
        "\n",
        "# training starts \n",
        "for epoch in range(epochs): # loop over the dataset multiple times\n",
        "  ep_lossi = []\n",
        "  running_loss = 0.0\n",
        "  what_net.train()\n",
        "  for i, data in enumerate(train_loader, 0):\n",
        "    # get the inputs\n",
        "    inputs, labels,_  = data\n",
        "    inputs = inputs.double()\n",
        "    beta = bg[i] # alpha for ith batch\n",
        "    inputs, labels,beta = inputs.to(\"cuda\"),labels.to(\"cuda\"),beta.to(\"cuda\")\n",
        "        \n",
        "    # zero the parameter gradients\n",
        "    optimizer_what.zero_grad()\n",
        "    optim1[i].zero_grad()\n",
        "      \n",
        "    # forward + backward + optimize\n",
        "    avg,alpha = attn_avg(inputs,beta)\n",
        "    outputs = what_net(avg)     \n",
        "    loss = criterion(outputs, labels)\n",
        "\n",
        "    # print statistics\n",
        "    running_loss += loss.item()\n",
        "    #alpha.retain_grad()\n",
        "    loss.backward(retain_graph=False)\n",
        "    optimizer_what.step()\n",
        "    optim1[i].step()\n",
        "\n",
        "\n",
        "  running_loss_tr,anls_data,correct,total,accuracy = calculate_attn_loss(train_loader,what_net,criterion)\n",
        "  analysis_data_tr.append(anls_data)\n",
        "  loss_curi_tr.append(running_loss_tr)   #loss per epoch\n",
        "  print('training epoch: [%d ] loss: %.3f correct: %.3f, total: %.3f, accuracy: %.3f' %(epoch+1,running_loss_tr,correct,total,accuracy)) \n",
        "\n",
        "\n",
        "  \n",
        "  if running_loss_tr<=0.08:\n",
        "    break\n",
        "print('Finished Training run ')\n",
        "analysis_data_tr = np.array(analysis_data_tr)\n",
        "\n"
      ],
      "execution_count": 16,
      "outputs": [
        {
          "output_type": "stream",
          "text": [
            "/usr/local/lib/python3.7/dist-packages/torch/nn/functional.py:718: UserWarning: Named tensors and all their associated APIs are an experimental feature and subject to change. Please do not use them for anything important until they are released as stable. (Triggered internally at  /pytorch/c10/core/TensorImpl.h:1156.)\n",
            "  return torch.max_pool2d(input, kernel_size, stride, padding, dilation, ceil_mode)\n"
          ],
          "name": "stderr"
        },
        {
          "output_type": "stream",
          "text": [
            "training epoch: [0 ] loss: 3.207 correct: 11145.000, total: 30000.000, accuracy: 0.371\n",
            "training epoch: [1 ] loss: 0.758 correct: 19808.000, total: 30000.000, accuracy: 0.660\n",
            "training epoch: [2 ] loss: 1.373 correct: 19735.000, total: 30000.000, accuracy: 0.658\n",
            "training epoch: [3 ] loss: 0.598 correct: 22728.000, total: 30000.000, accuracy: 0.758\n",
            "training epoch: [4 ] loss: 0.570 correct: 23096.000, total: 30000.000, accuracy: 0.770\n",
            "training epoch: [5 ] loss: 0.561 correct: 23181.000, total: 30000.000, accuracy: 0.773\n",
            "training epoch: [6 ] loss: 0.531 correct: 23538.000, total: 30000.000, accuracy: 0.785\n",
            "training epoch: [7 ] loss: 0.523 correct: 23649.000, total: 30000.000, accuracy: 0.788\n",
            "training epoch: [8 ] loss: 0.506 correct: 23804.000, total: 30000.000, accuracy: 0.793\n",
            "training epoch: [9 ] loss: 0.494 correct: 23995.000, total: 30000.000, accuracy: 0.800\n",
            "training epoch: [10 ] loss: 0.481 correct: 24162.000, total: 30000.000, accuracy: 0.805\n",
            "training epoch: [11 ] loss: 0.474 correct: 24285.000, total: 30000.000, accuracy: 0.809\n",
            "training epoch: [12 ] loss: 0.459 correct: 24433.000, total: 30000.000, accuracy: 0.814\n",
            "training epoch: [13 ] loss: 0.451 correct: 24550.000, total: 30000.000, accuracy: 0.818\n",
            "training epoch: [14 ] loss: 0.460 correct: 24542.000, total: 30000.000, accuracy: 0.818\n",
            "training epoch: [15 ] loss: 0.456 correct: 24611.000, total: 30000.000, accuracy: 0.820\n",
            "training epoch: [16 ] loss: 0.444 correct: 24820.000, total: 30000.000, accuracy: 0.827\n",
            "training epoch: [17 ] loss: 0.431 correct: 24971.000, total: 30000.000, accuracy: 0.832\n",
            "training epoch: [18 ] loss: 0.435 correct: 24927.000, total: 30000.000, accuracy: 0.831\n",
            "training epoch: [19 ] loss: 0.430 correct: 25021.000, total: 30000.000, accuracy: 0.834\n",
            "training epoch: [20 ] loss: 0.468 correct: 24786.000, total: 30000.000, accuracy: 0.826\n",
            "training epoch: [21 ] loss: 0.461 correct: 24913.000, total: 30000.000, accuracy: 0.830\n",
            "training epoch: [22 ] loss: 0.412 correct: 25283.000, total: 30000.000, accuracy: 0.843\n",
            "training epoch: [23 ] loss: 0.449 correct: 25050.000, total: 30000.000, accuracy: 0.835\n",
            "training epoch: [24 ] loss: 0.439 correct: 25206.000, total: 30000.000, accuracy: 0.840\n",
            "training epoch: [25 ] loss: 0.430 correct: 25299.000, total: 30000.000, accuracy: 0.843\n",
            "training epoch: [26 ] loss: 0.432 correct: 25282.000, total: 30000.000, accuracy: 0.843\n",
            "training epoch: [27 ] loss: 0.451 correct: 25342.000, total: 30000.000, accuracy: 0.845\n",
            "training epoch: [28 ] loss: 0.438 correct: 25348.000, total: 30000.000, accuracy: 0.845\n",
            "training epoch: [29 ] loss: 0.428 correct: 25440.000, total: 30000.000, accuracy: 0.848\n",
            "training epoch: [30 ] loss: 0.456 correct: 25312.000, total: 30000.000, accuracy: 0.844\n",
            "training epoch: [31 ] loss: 0.495 correct: 25174.000, total: 30000.000, accuracy: 0.839\n",
            "training epoch: [32 ] loss: 0.430 correct: 25533.000, total: 30000.000, accuracy: 0.851\n",
            "training epoch: [33 ] loss: 0.430 correct: 25633.000, total: 30000.000, accuracy: 0.854\n",
            "training epoch: [34 ] loss: 0.424 correct: 25710.000, total: 30000.000, accuracy: 0.857\n",
            "training epoch: [35 ] loss: 0.420 correct: 25786.000, total: 30000.000, accuracy: 0.860\n",
            "training epoch: [36 ] loss: 0.534 correct: 24421.000, total: 30000.000, accuracy: 0.814\n",
            "training epoch: [37 ] loss: 0.507 correct: 25374.000, total: 30000.000, accuracy: 0.846\n",
            "training epoch: [38 ] loss: 0.437 correct: 25723.000, total: 30000.000, accuracy: 0.857\n",
            "training epoch: [39 ] loss: 0.444 correct: 25779.000, total: 30000.000, accuracy: 0.859\n",
            "training epoch: [40 ] loss: 0.450 correct: 25794.000, total: 30000.000, accuracy: 0.860\n",
            "training epoch: [41 ] loss: 0.464 correct: 25816.000, total: 30000.000, accuracy: 0.861\n",
            "training epoch: [42 ] loss: 0.456 correct: 25787.000, total: 30000.000, accuracy: 0.860\n",
            "training epoch: [43 ] loss: 0.459 correct: 25712.000, total: 30000.000, accuracy: 0.857\n",
            "training epoch: [44 ] loss: 0.475 correct: 25813.000, total: 30000.000, accuracy: 0.860\n",
            "training epoch: [45 ] loss: 0.472 correct: 25874.000, total: 30000.000, accuracy: 0.862\n",
            "training epoch: [46 ] loss: 0.704 correct: 24856.000, total: 30000.000, accuracy: 0.829\n",
            "training epoch: [47 ] loss: 0.535 correct: 25677.000, total: 30000.000, accuracy: 0.856\n",
            "training epoch: [48 ] loss: 0.489 correct: 25772.000, total: 30000.000, accuracy: 0.859\n",
            "training epoch: [49 ] loss: 0.499 correct: 25803.000, total: 30000.000, accuracy: 0.860\n",
            "training epoch: [50 ] loss: 0.473 correct: 25669.000, total: 30000.000, accuracy: 0.856\n",
            "training epoch: [51 ] loss: 0.484 correct: 25828.000, total: 30000.000, accuracy: 0.861\n",
            "training epoch: [52 ] loss: 0.520 correct: 25867.000, total: 30000.000, accuracy: 0.862\n",
            "training epoch: [53 ] loss: 0.490 correct: 25767.000, total: 30000.000, accuracy: 0.859\n",
            "training epoch: [54 ] loss: 0.483 correct: 26062.000, total: 30000.000, accuracy: 0.869\n",
            "training epoch: [55 ] loss: 0.499 correct: 25956.000, total: 30000.000, accuracy: 0.865\n",
            "training epoch: [56 ] loss: 0.541 correct: 25881.000, total: 30000.000, accuracy: 0.863\n",
            "training epoch: [57 ] loss: 0.527 correct: 25899.000, total: 30000.000, accuracy: 0.863\n",
            "training epoch: [58 ] loss: 0.574 correct: 25863.000, total: 30000.000, accuracy: 0.862\n",
            "training epoch: [59 ] loss: 0.540 correct: 25955.000, total: 30000.000, accuracy: 0.865\n",
            "training epoch: [60 ] loss: 0.549 correct: 25852.000, total: 30000.000, accuracy: 0.862\n",
            "training epoch: [61 ] loss: 0.566 correct: 25782.000, total: 30000.000, accuracy: 0.859\n",
            "training epoch: [62 ] loss: 0.577 correct: 25924.000, total: 30000.000, accuracy: 0.864\n",
            "training epoch: [63 ] loss: 0.638 correct: 25613.000, total: 30000.000, accuracy: 0.854\n",
            "training epoch: [64 ] loss: 0.539 correct: 25978.000, total: 30000.000, accuracy: 0.866\n",
            "training epoch: [65 ] loss: 0.588 correct: 25940.000, total: 30000.000, accuracy: 0.865\n",
            "training epoch: [66 ] loss: 0.612 correct: 25899.000, total: 30000.000, accuracy: 0.863\n",
            "training epoch: [67 ] loss: 0.593 correct: 25951.000, total: 30000.000, accuracy: 0.865\n",
            "training epoch: [68 ] loss: 0.637 correct: 25824.000, total: 30000.000, accuracy: 0.861\n",
            "training epoch: [69 ] loss: 0.636 correct: 25915.000, total: 30000.000, accuracy: 0.864\n",
            "training epoch: [70 ] loss: 0.562 correct: 25915.000, total: 30000.000, accuracy: 0.864\n",
            "training epoch: [71 ] loss: 0.594 correct: 25942.000, total: 30000.000, accuracy: 0.865\n",
            "training epoch: [72 ] loss: 0.642 correct: 25853.000, total: 30000.000, accuracy: 0.862\n",
            "training epoch: [73 ] loss: 0.582 correct: 25977.000, total: 30000.000, accuracy: 0.866\n",
            "training epoch: [74 ] loss: 0.566 correct: 26099.000, total: 30000.000, accuracy: 0.870\n",
            "training epoch: [75 ] loss: 0.572 correct: 26053.000, total: 30000.000, accuracy: 0.868\n",
            "training epoch: [76 ] loss: 0.636 correct: 25962.000, total: 30000.000, accuracy: 0.865\n",
            "training epoch: [77 ] loss: 0.672 correct: 25878.000, total: 30000.000, accuracy: 0.863\n",
            "training epoch: [78 ] loss: 0.640 correct: 25968.000, total: 30000.000, accuracy: 0.866\n",
            "training epoch: [79 ] loss: 0.621 correct: 25972.000, total: 30000.000, accuracy: 0.866\n",
            "training epoch: [80 ] loss: 0.718 correct: 25811.000, total: 30000.000, accuracy: 0.860\n",
            "training epoch: [81 ] loss: 0.703 correct: 25800.000, total: 30000.000, accuracy: 0.860\n",
            "training epoch: [82 ] loss: 0.705 correct: 25808.000, total: 30000.000, accuracy: 0.860\n",
            "training epoch: [83 ] loss: 0.676 correct: 25867.000, total: 30000.000, accuracy: 0.862\n",
            "training epoch: [84 ] loss: 0.709 correct: 25767.000, total: 30000.000, accuracy: 0.859\n",
            "training epoch: [85 ] loss: 0.719 correct: 25807.000, total: 30000.000, accuracy: 0.860\n",
            "training epoch: [86 ] loss: 0.707 correct: 25812.000, total: 30000.000, accuracy: 0.860\n",
            "training epoch: [87 ] loss: 0.693 correct: 25600.000, total: 30000.000, accuracy: 0.853\n",
            "training epoch: [88 ] loss: 0.696 correct: 25786.000, total: 30000.000, accuracy: 0.860\n",
            "training epoch: [89 ] loss: 0.716 correct: 25700.000, total: 30000.000, accuracy: 0.857\n",
            "training epoch: [90 ] loss: 0.694 correct: 25762.000, total: 30000.000, accuracy: 0.859\n",
            "training epoch: [91 ] loss: 0.741 correct: 25775.000, total: 30000.000, accuracy: 0.859\n",
            "training epoch: [92 ] loss: 0.823 correct: 25089.000, total: 30000.000, accuracy: 0.836\n",
            "training epoch: [93 ] loss: 0.709 correct: 25849.000, total: 30000.000, accuracy: 0.862\n",
            "training epoch: [94 ] loss: 0.769 correct: 25721.000, total: 30000.000, accuracy: 0.857\n",
            "training epoch: [95 ] loss: 0.793 correct: 25701.000, total: 30000.000, accuracy: 0.857\n",
            "training epoch: [96 ] loss: 0.729 correct: 25818.000, total: 30000.000, accuracy: 0.861\n",
            "training epoch: [97 ] loss: 0.711 correct: 25823.000, total: 30000.000, accuracy: 0.861\n",
            "training epoch: [98 ] loss: 0.692 correct: 25857.000, total: 30000.000, accuracy: 0.862\n",
            "training epoch: [99 ] loss: 0.710 correct: 25836.000, total: 30000.000, accuracy: 0.861\n",
            "training epoch: [100 ] loss: 0.762 correct: 25783.000, total: 30000.000, accuracy: 0.859\n",
            "Finished Training run \n"
          ],
          "name": "stdout"
        }
      ]
    },
    {
      "cell_type": "code",
      "metadata": {
        "id": "AciJnAh5nfug"
      },
      "source": [
        "columns = [\"epochs\", \"argmax > 0.5\" ,\"argmax < 0.5\", \"focus_true_pred_true\", \"focus_false_pred_true\", \"focus_true_pred_false\", \"focus_false_pred_false\" ]\n",
        "df_train = pd.DataFrame()\n",
        "df_test = pd.DataFrame()\n",
        "df_train[columns[0]] = np.arange(0,epoch+2)\n",
        "df_train[columns[1]] = analysis_data_tr[:,-2]/300\n",
        "df_train[columns[2]] = analysis_data_tr[:,-1]/300\n",
        "df_train[columns[3]] = analysis_data_tr[:,0]/300\n",
        "df_train[columns[4]] = analysis_data_tr[:,1]/300\n",
        "df_train[columns[5]] = analysis_data_tr[:,2]/300\n",
        "df_train[columns[6]] = analysis_data_tr[:,3]/300"
      ],
      "execution_count": 17,
      "outputs": []
    },
    {
      "cell_type": "code",
      "metadata": {
        "id": "NoQpS_6scRsC",
        "colab": {
          "base_uri": "https://localhost:8080/",
          "height": 456
        },
        "outputId": "10e2d2c0-00fb-426f-ad63-1d02d6d401ef"
      },
      "source": [
        "df_train"
      ],
      "execution_count": 18,
      "outputs": [
        {
          "output_type": "execute_result",
          "data": {
            "text/html": [
              "<div>\n",
              "<style scoped>\n",
              "    .dataframe tbody tr th:only-of-type {\n",
              "        vertical-align: middle;\n",
              "    }\n",
              "\n",
              "    .dataframe tbody tr th {\n",
              "        vertical-align: top;\n",
              "    }\n",
              "\n",
              "    .dataframe thead th {\n",
              "        text-align: right;\n",
              "    }\n",
              "</style>\n",
              "<table border=\"1\" class=\"dataframe\">\n",
              "  <thead>\n",
              "    <tr style=\"text-align: right;\">\n",
              "      <th></th>\n",
              "      <th>epochs</th>\n",
              "      <th>argmax &gt; 0.5</th>\n",
              "      <th>argmax &lt; 0.5</th>\n",
              "      <th>focus_true_pred_true</th>\n",
              "      <th>focus_false_pred_true</th>\n",
              "      <th>focus_true_pred_false</th>\n",
              "      <th>focus_false_pred_false</th>\n",
              "    </tr>\n",
              "  </thead>\n",
              "  <tbody>\n",
              "    <tr>\n",
              "      <th>0</th>\n",
              "      <td>0</td>\n",
              "      <td>0.000000</td>\n",
              "      <td>100.000000</td>\n",
              "      <td>4.103333</td>\n",
              "      <td>33.046667</td>\n",
              "      <td>7.176667</td>\n",
              "      <td>55.673333</td>\n",
              "    </tr>\n",
              "    <tr>\n",
              "      <th>1</th>\n",
              "      <td>1</td>\n",
              "      <td>1.916667</td>\n",
              "      <td>98.083333</td>\n",
              "      <td>20.400000</td>\n",
              "      <td>45.626667</td>\n",
              "      <td>5.123333</td>\n",
              "      <td>28.850000</td>\n",
              "    </tr>\n",
              "    <tr>\n",
              "      <th>2</th>\n",
              "      <td>2</td>\n",
              "      <td>97.260000</td>\n",
              "      <td>2.740000</td>\n",
              "      <td>25.830000</td>\n",
              "      <td>39.953333</td>\n",
              "      <td>3.203333</td>\n",
              "      <td>31.013333</td>\n",
              "    </tr>\n",
              "    <tr>\n",
              "      <th>3</th>\n",
              "      <td>3</td>\n",
              "      <td>99.956667</td>\n",
              "      <td>0.043333</td>\n",
              "      <td>29.730000</td>\n",
              "      <td>46.030000</td>\n",
              "      <td>1.456667</td>\n",
              "      <td>22.783333</td>\n",
              "    </tr>\n",
              "    <tr>\n",
              "      <th>4</th>\n",
              "      <td>4</td>\n",
              "      <td>99.980000</td>\n",
              "      <td>0.020000</td>\n",
              "      <td>30.306667</td>\n",
              "      <td>46.680000</td>\n",
              "      <td>1.213333</td>\n",
              "      <td>21.800000</td>\n",
              "    </tr>\n",
              "    <tr>\n",
              "      <th>...</th>\n",
              "      <td>...</td>\n",
              "      <td>...</td>\n",
              "      <td>...</td>\n",
              "      <td>...</td>\n",
              "      <td>...</td>\n",
              "      <td>...</td>\n",
              "      <td>...</td>\n",
              "    </tr>\n",
              "    <tr>\n",
              "      <th>96</th>\n",
              "      <td>96</td>\n",
              "      <td>99.986667</td>\n",
              "      <td>0.013333</td>\n",
              "      <td>31.323333</td>\n",
              "      <td>54.736667</td>\n",
              "      <td>0.826667</td>\n",
              "      <td>13.113333</td>\n",
              "    </tr>\n",
              "    <tr>\n",
              "      <th>97</th>\n",
              "      <td>97</td>\n",
              "      <td>99.986667</td>\n",
              "      <td>0.013333</td>\n",
              "      <td>31.316667</td>\n",
              "      <td>54.760000</td>\n",
              "      <td>0.843333</td>\n",
              "      <td>13.080000</td>\n",
              "    </tr>\n",
              "    <tr>\n",
              "      <th>98</th>\n",
              "      <td>98</td>\n",
              "      <td>99.986667</td>\n",
              "      <td>0.013333</td>\n",
              "      <td>31.416667</td>\n",
              "      <td>54.773333</td>\n",
              "      <td>0.740000</td>\n",
              "      <td>13.070000</td>\n",
              "    </tr>\n",
              "    <tr>\n",
              "      <th>99</th>\n",
              "      <td>99</td>\n",
              "      <td>99.986667</td>\n",
              "      <td>0.013333</td>\n",
              "      <td>31.393333</td>\n",
              "      <td>54.726667</td>\n",
              "      <td>0.760000</td>\n",
              "      <td>13.120000</td>\n",
              "    </tr>\n",
              "    <tr>\n",
              "      <th>100</th>\n",
              "      <td>100</td>\n",
              "      <td>99.986667</td>\n",
              "      <td>0.013333</td>\n",
              "      <td>31.353333</td>\n",
              "      <td>54.590000</td>\n",
              "      <td>0.800000</td>\n",
              "      <td>13.256667</td>\n",
              "    </tr>\n",
              "  </tbody>\n",
              "</table>\n",
              "<p>101 rows × 7 columns</p>\n",
              "</div>"
            ],
            "text/plain": [
              "     epochs  argmax > 0.5  ...  focus_true_pred_false  focus_false_pred_false\n",
              "0         0      0.000000  ...               7.176667               55.673333\n",
              "1         1      1.916667  ...               5.123333               28.850000\n",
              "2         2     97.260000  ...               3.203333               31.013333\n",
              "3         3     99.956667  ...               1.456667               22.783333\n",
              "4         4     99.980000  ...               1.213333               21.800000\n",
              "..      ...           ...  ...                    ...                     ...\n",
              "96       96     99.986667  ...               0.826667               13.113333\n",
              "97       97     99.986667  ...               0.843333               13.080000\n",
              "98       98     99.986667  ...               0.740000               13.070000\n",
              "99       99     99.986667  ...               0.760000               13.120000\n",
              "100     100     99.986667  ...               0.800000               13.256667\n",
              "\n",
              "[101 rows x 7 columns]"
            ]
          },
          "metadata": {
            "tags": []
          },
          "execution_count": 18
        }
      ]
    },
    {
      "cell_type": "code",
      "metadata": {
        "id": "IMAhRdxOcVf6",
        "colab": {
          "base_uri": "https://localhost:8080/",
          "height": 404
        },
        "outputId": "bb37c7f8-5292-4a6a-e442-bbfbdd150a7c"
      },
      "source": [
        "fig= plt.figure(figsize=(6,6))\n",
        "plt.plot(df_train[columns[0]],df_train[columns[3]], label =\"focus_true_pred_true \")\n",
        "plt.plot(df_train[columns[0]],df_train[columns[4]], label =\"focus_false_pred_true \")\n",
        "plt.plot(df_train[columns[0]],df_train[columns[5]], label =\"focus_true_pred_false \")\n",
        "plt.plot(df_train[columns[0]],df_train[columns[6]], label =\"focus_false_pred_false \")\n",
        "plt.title(\"On Train set\")\n",
        "plt.legend(loc='center left', bbox_to_anchor=(1, 0.5))\n",
        "plt.xticks([0,2,4])\n",
        "plt.xlabel(\"epochs\")\n",
        "plt.ylabel(\"percentage of data\")\n",
        "#plt.vlines(vline_list,min(min(df_train[columns[3]]/300),min(df_train[columns[4]]/300),min(df_train[columns[5]]/300),min(df_train[columns[6]]/300)), max(max(df_train[columns[3]]/300),max(df_train[columns[4]]/300),max(df_train[columns[5]]/300),max(df_train[columns[6]]/300)),linestyles='dotted')\n",
        "plt.show()\n",
        "fig.savefig(\"train_analysis.pdf\")\n",
        "fig.savefig(\"train_analysis.png\")"
      ],
      "execution_count": 19,
      "outputs": [
        {
          "output_type": "display_data",
          "data": {
            "image/png": "[encoded data removed]",
            "text/plain": [
              "<Figure size 432x432 with 1 Axes>"
            ]
          },
          "metadata": {
            "tags": [],
            "needs_background": "light"
          }
        }
      ]
    },
    {
      "cell_type": "code",
      "metadata": {
        "id": "VCnS6r2_3WdU"
      },
      "source": [
        "aph = []\n",
        "for i in bg:\n",
        "  aph.append(F.softmax(i,dim=1).detach().numpy())\n",
        "  \n",
        "aph = np.concatenate(aph,axis=0)\n",
        "torch.save({\n",
        "            'epoch': 500,\n",
        "            'model_state_dict': what_net.state_dict(),\n",
        "            #'optimizer_state_dict': optimizer_what.state_dict(),\n",
        "            \"optimizer_alpha\":optim1,\n",
        "            \"FTPT_analysis\":analysis_data_tr,\n",
        "            \"alpha\":aph\n",
        "\n",
        "            }, \"cifar_what_net_500.pt\")"
      ],
      "execution_count": 20,
      "outputs": []
    },
    {
      "cell_type": "code",
      "metadata": {
        "id": "KVzrDOGS4UxU",
        "colab": {
          "base_uri": "https://localhost:8080/"
        },
        "outputId": "d682d312-1aa9-4b8a-9c6c-be506c6ef760"
      },
      "source": [
        "aph"
      ],
      "execution_count": 21,
      "outputs": [
        {
          "output_type": "execute_result",
          "data": {
            "text/plain": [
              "array([[1.3321372e-31, 1.0000000e+00, 0.0000000e+00, ..., 0.0000000e+00,\n",
              "        0.0000000e+00, 0.0000000e+00],\n",
              "       [1.7285052e-14, 0.0000000e+00, 0.0000000e+00, ..., 0.0000000e+00,\n",
              "        3.3278247e-10, 0.0000000e+00],\n",
              "       [0.0000000e+00, 0.0000000e+00, 0.0000000e+00, ..., 1.9937190e-09,\n",
              "        0.0000000e+00, 2.8170237e-11],\n",
              "       ...,\n",
              "       [1.1739076e-25, 0.0000000e+00, 0.0000000e+00, ..., 0.0000000e+00,\n",
              "        1.0000000e+00, 0.0000000e+00],\n",
              "       [0.0000000e+00, 9.9999774e-01, 5.2745031e-09, ..., 0.0000000e+00,\n",
              "        0.0000000e+00, 0.0000000e+00],\n",
              "       [0.0000000e+00, 1.0621796e-20, 2.1854449e-28, ..., 0.0000000e+00,\n",
              "        1.0000000e+00, 0.0000000e+00]], dtype=float32)"
            ]
          },
          "metadata": {
            "tags": []
          },
          "execution_count": 21
        }
      ]
    },
    {
      "cell_type": "code",
      "metadata": {
        "id": "Z6heHND15EMz"
      },
      "source": [
        "running_loss_tr,anls_data,correct,total,accuracy = calculate_attn_loss(train_loader,what_net,criterion)"
      ],
      "execution_count": 22,
      "outputs": []
    },
    {
      "cell_type": "code",
      "metadata": {
        "id": "zeKhsdpYWQvB",
        "colab": {
          "base_uri": "https://localhost:8080/"
        },
        "outputId": "5cdf0496-c578-4889-df4a-18eaf71caad0"
      },
      "source": [
        "print(\"argmax>0.5\",anls_data[-2])"
      ],
      "execution_count": 23,
      "outputs": [
        {
          "output_type": "stream",
          "text": [
            "argmax>0.5 29996\n"
          ],
          "name": "stdout"
        }
      ]
    },
    {
      "cell_type": "code",
      "metadata": {
        "id": "yF2bvWdIWUTa"
      },
      "source": [
        ""
      ],
      "execution_count": 23,
      "outputs": []
    }
  ]
}