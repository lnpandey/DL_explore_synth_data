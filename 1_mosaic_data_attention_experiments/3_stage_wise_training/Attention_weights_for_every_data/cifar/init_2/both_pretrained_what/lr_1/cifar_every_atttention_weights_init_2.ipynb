{
  "nbformat": 4,
  "nbformat_minor": 0,
  "metadata": {
    "accelerator": "GPU",
    "colab": {
      "name": "cifar_every_atttention_weights_init_2.ipynb",
      "provenance": [],
      "collapsed_sections": []
    },
    "kernelspec": {
      "display_name": "Python 3",
      "name": "python3"
    },
    "language_info": {
      "name": "python"
    }
  },
  "cells": [
    {
      "cell_type": "code",
      "metadata": {
        "id": "BWIyC9Ip_bcq"
      },
      "source": [
        "import numpy as np\n",
        "import pandas as pd\n",
        "\n",
        "import torch\n",
        "import torchvision\n",
        "from torch.utils.data import Dataset, DataLoader\n",
        "from torchvision import transforms, utils\n",
        "import torch.nn as nn\n",
        "import torch.nn.functional as F\n",
        "import torch.optim as optim\n",
        "\n",
        "from matplotlib import pyplot as plt\n",
        "%matplotlib inline\n",
        "torch.backends.cudnn.deterministic = True\n",
        "torch.backends.cudnn.benchmark = False"
      ],
      "execution_count": 1,
      "outputs": []
    },
    {
      "cell_type": "code",
      "metadata": {
        "colab": {
          "base_uri": "https://localhost:8080/"
        },
        "id": "cgw1f4rVkGr9",
        "outputId": "77a9b3b7-48d0-4bb1-894d-59b48de3f596"
      },
      "source": [
        "transform = transforms.Compose(\n",
        "    [transforms.ToTensor(),\n",
        "     transforms.Normalize((0.5, 0.5, 0.5), (0.5, 0.5, 0.5))])\n",
        "\n",
        "trainset = torchvision.datasets.CIFAR10(root='./data', train=True, download=True, transform=transform)"
      ],
      "execution_count": 2,
      "outputs": [
        {
          "output_type": "stream",
          "text": [
            "Files already downloaded and verified\n"
          ],
          "name": "stdout"
        }
      ]
    },
    {
      "cell_type": "code",
      "metadata": {
        "id": "D-xlWYTKkQEn"
      },
      "source": [
        "trainloader = torch.utils.data.DataLoader(trainset, batch_size=10, shuffle=False)\n",
        "\n",
        "\n",
        "classes = ('plane', 'car', 'bird', 'cat', 'deer', 'dog', 'frog', 'horse', 'ship', 'truck')\n",
        "\n",
        "foreground_classes = {'plane', 'car', 'bird'}\n",
        "#foreground_classes = {'bird', 'cat', 'deer'}\n",
        "background_classes = {'cat', 'deer', 'dog', 'frog', 'horse', 'ship', 'truck'}\n",
        "#background_classes = {'plane', 'car', 'dog', 'frog', 'horse','ship', 'truck'}\n",
        "\n",
        "fg1,fg2,fg3 = 0,1,2"
      ],
      "execution_count": 3,
      "outputs": []
    },
    {
      "cell_type": "code",
      "metadata": {
        "id": "zrX68qhikUbz"
      },
      "source": [
        "dataiter = iter(trainloader)\n",
        "background_data=[]\n",
        "background_label=[]\n",
        "foreground_data=[]\n",
        "foreground_label=[]\n",
        "batch_size=10\n",
        "\n",
        "for i in range(5000):\n",
        "  images, labels = dataiter.next()\n",
        "  for j in range(batch_size):\n",
        "    if(classes[labels[j]] in background_classes):\n",
        "      img = images[j].tolist()\n",
        "      background_data.append(img)\n",
        "      background_label.append(labels[j])\n",
        "    else:\n",
        "      img = images[j].tolist()\n",
        "      foreground_data.append(img)\n",
        "      foreground_label.append(labels[j])\n",
        "            \n",
        "foreground_data = torch.tensor(foreground_data)\n",
        "foreground_label = torch.tensor(foreground_label)\n",
        "background_data = torch.tensor(background_data)\n",
        "background_label = torch.tensor(background_label)"
      ],
      "execution_count": 4,
      "outputs": []
    },
    {
      "cell_type": "code",
      "metadata": {
        "id": "eD-QJkvnkgyk"
      },
      "source": [
        "def create_mosaic_img(bg_idx,fg_idx,fg): \n",
        "  \"\"\"\n",
        "  bg_idx : list of indexes of background_data[] to be used as background images in mosaic\n",
        "  fg_idx : index of image to be used as foreground image from foreground data\n",
        "  fg : at what position/index foreground image has to be stored out of 0-8\n",
        "  \"\"\"\n",
        "  image_list=[]\n",
        "  j=0\n",
        "  for i in range(9):\n",
        "    if i != fg:\n",
        "      image_list.append(background_data[bg_idx[j]])#.type(\"torch.DoubleTensor\"))\n",
        "      j+=1\n",
        "    else: \n",
        "      image_list.append(foreground_data[fg_idx])#.type(\"torch.DoubleTensor\"))\n",
        "      label = foreground_label[fg_idx]-fg1  # minus 7 because our fore ground classes are 7,8,9 but we have to store it as 0,1,2\n",
        "  #image_list = np.concatenate(image_list ,axis=0)\n",
        "  image_list = torch.stack(image_list) \n",
        "  return image_list,label"
      ],
      "execution_count": 5,
      "outputs": []
    },
    {
      "cell_type": "code",
      "metadata": {
        "id": "Zs10rfXHkli2"
      },
      "source": [
        "desired_num = 30000\n",
        "mosaic_list_of_images =[]      # list of mosaic images, each mosaic image is saved as list of 9 images\n",
        "fore_idx =[]                   # list of indexes at which foreground image is present in a mosaic image i.e from 0 to 9               \n",
        "mosaic_label=[]                # label of mosaic image = foreground class present in that mosaic\n",
        "for i in range(desired_num):\n",
        "  np.random.seed(i)\n",
        "  bg_idx = np.random.randint(0,35000,8)\n",
        "  fg_idx = np.random.randint(0,15000)\n",
        "  fg = np.random.randint(0,9)\n",
        "  fore_idx.append(fg)\n",
        "  image_list,label = create_mosaic_img(bg_idx,fg_idx,fg)\n",
        "  mosaic_list_of_images.append(image_list)\n",
        "  mosaic_label.append(label)"
      ],
      "execution_count": 6,
      "outputs": []
    },
    {
      "cell_type": "code",
      "metadata": {
        "id": "7km9Swb1kq4O"
      },
      "source": [
        "class MosaicDataset(Dataset):\n",
        "  \"\"\"MosaicDataset dataset.\"\"\"\n",
        "\n",
        "  def __init__(self, mosaic_list_of_images, mosaic_label, fore_idx):\n",
        "    \"\"\"\n",
        "      Args:\n",
        "        csv_file (string): Path to the csv file with annotations.\n",
        "        root_dir (string): Directory with all the images.\n",
        "        transform (callable, optional): Optional transform to be applied\n",
        "            on a sample.\n",
        "    \"\"\"\n",
        "    self.mosaic = mosaic_list_of_images\n",
        "    self.label = mosaic_label\n",
        "    self.fore_idx = fore_idx\n",
        "\n",
        "  def __len__(self):\n",
        "    return len(self.label)\n",
        "\n",
        "  def __getitem__(self, idx):\n",
        "    return self.mosaic[idx] , self.label[idx], self.fore_idx[idx]\n",
        "batch = 250\n",
        "msd = MosaicDataset(mosaic_list_of_images, mosaic_label , fore_idx)\n",
        "train_loader = DataLoader( msd,batch_size= batch ,shuffle=False,num_workers=0,)"
      ],
      "execution_count": 7,
      "outputs": []
    },
    {
      "cell_type": "code",
      "metadata": {
        "id": "lGVy-1EllAc_"
      },
      "source": [
        "data,labels,fg_index = iter(train_loader).next()"
      ],
      "execution_count": 8,
      "outputs": []
    },
    {
      "cell_type": "code",
      "metadata": {
        "id": "DOpZfj1bq7wN"
      },
      "source": [
        "bg = []\n",
        "for i in range(120):\n",
        "  torch.manual_seed(i)\n",
        "  betag = torch.ones((250,9))/9  #torch.randn(250,9)\n",
        "  a=bg.append( betag.requires_grad_() )"
      ],
      "execution_count": 9,
      "outputs": []
    },
    {
      "cell_type": "code",
      "metadata": {
        "id": "HbrMidFCla6h"
      },
      "source": [
        "class Module2(nn.Module):\n",
        "  def __init__(self):\n",
        "    super(Module2, self).__init__()\n",
        "    \n",
        "    self.conv1 = nn.Conv2d(3, 6, 5)\n",
        "    self.pool = nn.MaxPool2d(2, 2)\n",
        "    self.conv2 = nn.Conv2d(6, 16, 5)\n",
        "    self.fc1 = nn.Linear(16 * 5 * 5, 120)\n",
        "    self.fc2 = nn.Linear(120, 84)\n",
        "    self.fc3 = nn.Linear(84, 10)\n",
        "    self.fc4 = nn.Linear(10,3)\n",
        "\n",
        "  def forward(self,y):  #z batch of list of 9 images\n",
        "    y1 = self.pool(F.relu(self.conv1(y)))\n",
        "    y1 = self.pool(F.relu(self.conv2(y1)))\n",
        "    y1 = y1.view(-1, 16 * 5 * 5)\n",
        "\n",
        "    y1 = F.relu(self.fc1(y1))\n",
        "    y1 = F.relu(self.fc2(y1))\n",
        "    y1 = F.relu(self.fc3(y1))\n",
        "    y1 = self.fc4(y1)\n",
        "    return y1"
      ],
      "execution_count": 10,
      "outputs": []
    },
    {
      "cell_type": "code",
      "metadata": {
        "id": "rRqj2VELllkX"
      },
      "source": [
        "torch.manual_seed(1234)\n",
        "what_net = Module2().double()\n",
        "\n",
        "what_net.load_state_dict(torch.load(\"simultaneous_what.pt\"))\n",
        "what_net = what_net.to(\"cuda\")"
      ],
      "execution_count": 11,
      "outputs": []
    },
    {
      "cell_type": "code",
      "metadata": {
        "id": "6d8Wch99l4yB"
      },
      "source": [
        "def attn_avg(x,beta):\n",
        "  y = torch.zeros([batch,3, 32,32], dtype=torch.float64)\n",
        "  y = y.to(\"cuda\")\n",
        "  alpha = F.softmax(beta,dim=1)   # alphas\n",
        "  for i in range(9):            \n",
        "    alpha1 = alpha[:,i]          \n",
        "    y = y + torch.mul(alpha1[:,None,None,None],x[:,i])\n",
        "  return y,alpha"
      ],
      "execution_count": 12,
      "outputs": []
    },
    {
      "cell_type": "code",
      "metadata": {
        "id": "Rz1Kpw12loV6"
      },
      "source": [
        "def calculate_attn_loss(dataloader,what,criter):\n",
        "  what.eval()\n",
        "  r_loss = 0\n",
        "  alphas = []\n",
        "  lbls = []\n",
        "  pred = []\n",
        "  fidices = []\n",
        "  correct = 0\n",
        "  tot = 0\n",
        "  with torch.no_grad():\n",
        "    for i, data in enumerate(dataloader, 0):\n",
        "      inputs, labels,fidx= data\n",
        "      lbls.append(labels)\n",
        "      fidices.append(fidx)\n",
        "      inputs = inputs.double()\n",
        "      beta = bg[i]  # alpha for ith batch\n",
        "      inputs, labels,beta = inputs.to(\"cuda\"),labels.to(\"cuda\"),beta.to(\"cuda\")\n",
        "      avg,alpha = attn_avg(inputs,beta)\n",
        "      alpha = alpha.to(\"cuda\")\n",
        "      outputs = what(avg)\n",
        "      _, predicted = torch.max(outputs.data, 1)\n",
        "      correct += sum(predicted == labels)\n",
        "      tot += len(predicted)\n",
        "      pred.append(predicted.cpu().numpy())\n",
        "      alphas.append(alpha.cpu().numpy())\n",
        "      loss = criter(outputs, labels)\n",
        "      r_loss += loss.item()\n",
        "  alphas = np.concatenate(alphas,axis=0)\n",
        "  pred = np.concatenate(pred,axis=0)\n",
        "  lbls = np.concatenate(lbls,axis=0)\n",
        "  fidices = np.concatenate(fidices,axis=0)\n",
        "  #print(alphas.shape,pred.shape,lbls.shape,fidices.shape) \n",
        "  analysis = analyse_data(alphas,lbls,pred,fidices)\n",
        "  return r_loss/(i+1),analysis,correct.item(),tot,correct.item()/tot"
      ],
      "execution_count": 13,
      "outputs": []
    },
    {
      "cell_type": "code",
      "metadata": {
        "id": "sAY-x6UAwrwE"
      },
      "source": [
        "# for param in what_net.parameters():\n",
        "#     param.requires_grad = False"
      ],
      "execution_count": 14,
      "outputs": []
    },
    {
      "cell_type": "code",
      "metadata": {
        "id": "_toCktPanH0S"
      },
      "source": [
        "def analyse_data(alphas,lbls,predicted,f_idx):\n",
        "    '''\n",
        "       analysis data is created here\n",
        "    '''\n",
        "    batch = len(predicted)\n",
        "    amth,alth,ftpt,ffpt,ftpf,ffpf = 0,0,0,0,0,0\n",
        "    for j in range (batch):\n",
        "      focus = np.argmax(alphas[j])\n",
        "      if(alphas[j][focus] >= 0.5):\n",
        "        amth +=1\n",
        "      else:\n",
        "        alth +=1\n",
        "      if(focus == f_idx[j] and predicted[j] == lbls[j]):\n",
        "        ftpt += 1\n",
        "      elif(focus != f_idx[j] and predicted[j] == lbls[j]):\n",
        "        ffpt +=1\n",
        "      elif(focus == f_idx[j] and predicted[j] != lbls[j]):\n",
        "        ftpf +=1\n",
        "      elif(focus != f_idx[j] and predicted[j] != lbls[j]):\n",
        "        ffpf +=1\n",
        "    #print(sum(predicted==lbls),ftpt+ffpt\n",
        "    return [ftpt,ffpt,ftpf,ffpf,amth,alth]"
      ],
      "execution_count": 15,
      "outputs": []
    },
    {
      "cell_type": "code",
      "metadata": {
        "id": "S633XgMToeN3"
      },
      "source": [
        "optim1 = []\n",
        "for i in range(120):\n",
        "  optim1.append(optim.RMSprop([bg[i]], lr=1))"
      ],
      "execution_count": 16,
      "outputs": []
    },
    {
      "cell_type": "code",
      "metadata": {
        "colab": {
          "base_uri": "https://localhost:8080/"
        },
        "id": "qPaYaojinMTA",
        "outputId": "f4ab79c5-f59d-410e-c1c7-e22d39ed4131"
      },
      "source": [
        "# instantiate optimizer\n",
        "optimizer_what = optim.RMSprop(what_net.parameters(), lr=0.001)#, momentum=0.9)#,nesterov=True)\n",
        "\n",
        "\n",
        " \n",
        "\n",
        "\n",
        "criterion = nn.CrossEntropyLoss()\n",
        "acti = []\n",
        "analysis_data_tr = []\n",
        "analysis_data_tst = []\n",
        "loss_curi_tr = []\n",
        "loss_curi_tst = []\n",
        "epochs = 100\n",
        "\n",
        "\n",
        "# calculate zeroth epoch loss and FTPT values\n",
        "running_loss,anlys_data,correct,total,accuracy = calculate_attn_loss(train_loader,what_net,criterion)\n",
        "print('training epoch: [%d ] loss: %.3f correct: %.3f, total: %.3f, accuracy: %.3f' %(0,running_loss,correct,total,accuracy)) \n",
        "loss_curi_tr.append(running_loss)\n",
        "analysis_data_tr.append(anlys_data)\n",
        "\n",
        "\n",
        "\n",
        "\n",
        "# training starts \n",
        "for epoch in range(epochs): # loop over the dataset multiple times\n",
        "  ep_lossi = []\n",
        "  running_loss = 0.0\n",
        "  what_net.train()\n",
        "  for i, data in enumerate(train_loader, 0):\n",
        "    # get the inputs\n",
        "    inputs, labels,_  = data\n",
        "    inputs = inputs.double()\n",
        "    beta = bg[i] # alpha for ith batch\n",
        "    inputs, labels,beta = inputs.to(\"cuda\"),labels.to(\"cuda\"),beta.to(\"cuda\")\n",
        "        \n",
        "    # zero the parameter gradients\n",
        "    optimizer_what.zero_grad()\n",
        "    optim1[i].zero_grad()\n",
        "      \n",
        "    # forward + backward + optimize\n",
        "    avg,alpha = attn_avg(inputs,beta)\n",
        "    outputs = what_net(avg)     \n",
        "    loss = criterion(outputs, labels)\n",
        "\n",
        "    # print statistics\n",
        "    running_loss += loss.item()\n",
        "    #alpha.retain_grad()\n",
        "    loss.backward(retain_graph=False)\n",
        "    optimizer_what.step()\n",
        "    optim1[i].step()\n",
        "\n",
        "\n",
        "  running_loss_tr,anls_data,correct,total,accuracy = calculate_attn_loss(train_loader,what_net,criterion)\n",
        "  analysis_data_tr.append(anls_data)\n",
        "  loss_curi_tr.append(running_loss_tr)   #loss per epoch\n",
        "  print('training epoch: [%d ] loss: %.3f correct: %.3f, total: %.3f, accuracy: %.3f' %(epoch+1,running_loss_tr,correct,total,accuracy)) \n",
        "\n",
        "\n",
        "  \n",
        "  if running_loss_tr<=0.08:\n",
        "    break\n",
        "print('Finished Training run ')\n",
        "analysis_data_tr = np.array(analysis_data_tr)\n",
        "\n"
      ],
      "execution_count": 17,
      "outputs": [
        {
          "output_type": "stream",
          "text": [
            "/usr/local/lib/python3.7/dist-packages/torch/nn/functional.py:718: UserWarning: Named tensors and all their associated APIs are an experimental feature and subject to change. Please do not use them for anything important until they are released as stable. (Triggered internally at  /pytorch/c10/core/TensorImpl.h:1156.)\n",
            "  return torch.max_pool2d(input, kernel_size, stride, padding, dilation, ceil_mode)\n"
          ],
          "name": "stderr"
        },
        {
          "output_type": "stream",
          "text": [
            "training epoch: [0 ] loss: 3.207 correct: 11145.000, total: 30000.000, accuracy: 0.371\n",
            "training epoch: [1 ] loss: 0.761 correct: 19776.000, total: 30000.000, accuracy: 0.659\n",
            "training epoch: [2 ] loss: 0.962 correct: 21702.000, total: 30000.000, accuracy: 0.723\n",
            "training epoch: [3 ] loss: 0.463 correct: 24594.000, total: 30000.000, accuracy: 0.820\n",
            "training epoch: [4 ] loss: 0.428 correct: 25141.000, total: 30000.000, accuracy: 0.838\n",
            "training epoch: [5 ] loss: 0.410 correct: 25425.000, total: 30000.000, accuracy: 0.848\n",
            "training epoch: [6 ] loss: 0.379 correct: 25770.000, total: 30000.000, accuracy: 0.859\n",
            "training epoch: [7 ] loss: 0.373 correct: 25848.000, total: 30000.000, accuracy: 0.862\n",
            "training epoch: [8 ] loss: 0.381 correct: 25820.000, total: 30000.000, accuracy: 0.861\n",
            "training epoch: [9 ] loss: 0.341 correct: 26231.000, total: 30000.000, accuracy: 0.874\n",
            "training epoch: [10 ] loss: 0.321 correct: 26434.000, total: 30000.000, accuracy: 0.881\n",
            "training epoch: [11 ] loss: 0.365 correct: 26160.000, total: 30000.000, accuracy: 0.872\n",
            "training epoch: [12 ] loss: 0.317 correct: 26618.000, total: 30000.000, accuracy: 0.887\n",
            "training epoch: [13 ] loss: 0.310 correct: 26732.000, total: 30000.000, accuracy: 0.891\n",
            "training epoch: [14 ] loss: 0.311 correct: 26755.000, total: 30000.000, accuracy: 0.892\n",
            "training epoch: [15 ] loss: 0.295 correct: 26948.000, total: 30000.000, accuracy: 0.898\n",
            "training epoch: [16 ] loss: 0.338 correct: 26629.000, total: 30000.000, accuracy: 0.888\n",
            "training epoch: [17 ] loss: 0.297 correct: 26993.000, total: 30000.000, accuracy: 0.900\n",
            "training epoch: [18 ] loss: 0.370 correct: 26610.000, total: 30000.000, accuracy: 0.887\n",
            "training epoch: [19 ] loss: 0.303 correct: 27133.000, total: 30000.000, accuracy: 0.904\n",
            "training epoch: [20 ] loss: 0.308 correct: 27038.000, total: 30000.000, accuracy: 0.901\n",
            "training epoch: [21 ] loss: 0.304 correct: 27216.000, total: 30000.000, accuracy: 0.907\n",
            "training epoch: [22 ] loss: 0.298 correct: 27321.000, total: 30000.000, accuracy: 0.911\n",
            "training epoch: [23 ] loss: 0.283 correct: 27429.000, total: 30000.000, accuracy: 0.914\n",
            "training epoch: [24 ] loss: 0.362 correct: 26948.000, total: 30000.000, accuracy: 0.898\n",
            "training epoch: [25 ] loss: 0.271 correct: 27548.000, total: 30000.000, accuracy: 0.918\n",
            "training epoch: [26 ] loss: 0.273 correct: 27454.000, total: 30000.000, accuracy: 0.915\n",
            "training epoch: [27 ] loss: 0.322 correct: 27427.000, total: 30000.000, accuracy: 0.914\n",
            "training epoch: [28 ] loss: 0.241 correct: 27734.000, total: 30000.000, accuracy: 0.924\n",
            "training epoch: [29 ] loss: 0.252 correct: 27737.000, total: 30000.000, accuracy: 0.925\n",
            "training epoch: [30 ] loss: 0.297 correct: 27539.000, total: 30000.000, accuracy: 0.918\n",
            "training epoch: [31 ] loss: 0.288 correct: 27595.000, total: 30000.000, accuracy: 0.920\n",
            "training epoch: [32 ] loss: 0.258 correct: 27792.000, total: 30000.000, accuracy: 0.926\n",
            "training epoch: [33 ] loss: 0.273 correct: 27708.000, total: 30000.000, accuracy: 0.924\n",
            "training epoch: [34 ] loss: 0.296 correct: 27715.000, total: 30000.000, accuracy: 0.924\n",
            "training epoch: [35 ] loss: 0.266 correct: 27795.000, total: 30000.000, accuracy: 0.926\n",
            "training epoch: [36 ] loss: 0.259 correct: 27795.000, total: 30000.000, accuracy: 0.926\n",
            "training epoch: [37 ] loss: 0.327 correct: 27617.000, total: 30000.000, accuracy: 0.921\n",
            "training epoch: [38 ] loss: 0.266 correct: 27843.000, total: 30000.000, accuracy: 0.928\n",
            "training epoch: [39 ] loss: 0.262 correct: 27885.000, total: 30000.000, accuracy: 0.929\n",
            "training epoch: [40 ] loss: 0.259 correct: 27884.000, total: 30000.000, accuracy: 0.929\n",
            "training epoch: [41 ] loss: 0.267 correct: 27939.000, total: 30000.000, accuracy: 0.931\n",
            "training epoch: [42 ] loss: 0.258 correct: 27965.000, total: 30000.000, accuracy: 0.932\n",
            "training epoch: [43 ] loss: 0.279 correct: 27904.000, total: 30000.000, accuracy: 0.930\n",
            "training epoch: [44 ] loss: 0.300 correct: 27792.000, total: 30000.000, accuracy: 0.926\n",
            "training epoch: [45 ] loss: 0.292 correct: 27922.000, total: 30000.000, accuracy: 0.931\n",
            "training epoch: [46 ] loss: 0.304 correct: 27873.000, total: 30000.000, accuracy: 0.929\n",
            "training epoch: [47 ] loss: 0.267 correct: 28013.000, total: 30000.000, accuracy: 0.934\n",
            "training epoch: [48 ] loss: 0.321 correct: 27760.000, total: 30000.000, accuracy: 0.925\n",
            "training epoch: [49 ] loss: 0.304 correct: 27906.000, total: 30000.000, accuracy: 0.930\n",
            "training epoch: [50 ] loss: 0.340 correct: 27785.000, total: 30000.000, accuracy: 0.926\n",
            "training epoch: [51 ] loss: 0.330 correct: 27755.000, total: 30000.000, accuracy: 0.925\n",
            "training epoch: [52 ] loss: 0.285 correct: 27995.000, total: 30000.000, accuracy: 0.933\n",
            "training epoch: [53 ] loss: 0.304 correct: 27857.000, total: 30000.000, accuracy: 0.929\n",
            "training epoch: [54 ] loss: 0.305 correct: 27922.000, total: 30000.000, accuracy: 0.931\n",
            "training epoch: [55 ] loss: 0.343 correct: 27754.000, total: 30000.000, accuracy: 0.925\n",
            "training epoch: [56 ] loss: 0.327 correct: 27843.000, total: 30000.000, accuracy: 0.928\n",
            "training epoch: [57 ] loss: 0.298 correct: 27961.000, total: 30000.000, accuracy: 0.932\n",
            "training epoch: [58 ] loss: 0.315 correct: 27884.000, total: 30000.000, accuracy: 0.929\n",
            "training epoch: [59 ] loss: 0.335 correct: 27789.000, total: 30000.000, accuracy: 0.926\n",
            "training epoch: [60 ] loss: 0.312 correct: 27763.000, total: 30000.000, accuracy: 0.925\n",
            "training epoch: [61 ] loss: 0.292 correct: 27876.000, total: 30000.000, accuracy: 0.929\n",
            "training epoch: [62 ] loss: 0.331 correct: 27844.000, total: 30000.000, accuracy: 0.928\n",
            "training epoch: [63 ] loss: 0.286 correct: 28053.000, total: 30000.000, accuracy: 0.935\n",
            "training epoch: [64 ] loss: 0.312 correct: 27881.000, total: 30000.000, accuracy: 0.929\n",
            "training epoch: [65 ] loss: 0.307 correct: 27980.000, total: 30000.000, accuracy: 0.933\n",
            "training epoch: [66 ] loss: 0.334 correct: 27853.000, total: 30000.000, accuracy: 0.928\n",
            "training epoch: [67 ] loss: 0.360 correct: 27769.000, total: 30000.000, accuracy: 0.926\n",
            "training epoch: [68 ] loss: 0.504 correct: 27195.000, total: 30000.000, accuracy: 0.906\n",
            "training epoch: [69 ] loss: 0.334 correct: 27924.000, total: 30000.000, accuracy: 0.931\n",
            "training epoch: [70 ] loss: 0.295 correct: 27872.000, total: 30000.000, accuracy: 0.929\n",
            "training epoch: [71 ] loss: 0.418 correct: 27579.000, total: 30000.000, accuracy: 0.919\n",
            "training epoch: [72 ] loss: 0.345 correct: 27861.000, total: 30000.000, accuracy: 0.929\n",
            "training epoch: [73 ] loss: 0.355 correct: 27809.000, total: 30000.000, accuracy: 0.927\n",
            "training epoch: [74 ] loss: 0.286 correct: 27999.000, total: 30000.000, accuracy: 0.933\n",
            "training epoch: [75 ] loss: 0.290 correct: 28024.000, total: 30000.000, accuracy: 0.934\n",
            "training epoch: [76 ] loss: 0.306 correct: 27916.000, total: 30000.000, accuracy: 0.931\n",
            "training epoch: [77 ] loss: 0.307 correct: 27991.000, total: 30000.000, accuracy: 0.933\n",
            "training epoch: [78 ] loss: 0.329 correct: 27850.000, total: 30000.000, accuracy: 0.928\n",
            "training epoch: [79 ] loss: 0.295 correct: 28003.000, total: 30000.000, accuracy: 0.933\n",
            "training epoch: [80 ] loss: 0.368 correct: 27812.000, total: 30000.000, accuracy: 0.927\n",
            "training epoch: [81 ] loss: 0.310 correct: 28107.000, total: 30000.000, accuracy: 0.937\n",
            "training epoch: [82 ] loss: 0.346 correct: 27927.000, total: 30000.000, accuracy: 0.931\n",
            "training epoch: [83 ] loss: 0.332 correct: 28014.000, total: 30000.000, accuracy: 0.934\n",
            "training epoch: [84 ] loss: 0.358 correct: 27880.000, total: 30000.000, accuracy: 0.929\n",
            "training epoch: [85 ] loss: 0.359 correct: 27902.000, total: 30000.000, accuracy: 0.930\n",
            "training epoch: [86 ] loss: 0.342 correct: 28012.000, total: 30000.000, accuracy: 0.934\n",
            "training epoch: [87 ] loss: 0.334 correct: 27952.000, total: 30000.000, accuracy: 0.932\n",
            "training epoch: [88 ] loss: 0.376 correct: 27804.000, total: 30000.000, accuracy: 0.927\n",
            "training epoch: [89 ] loss: 0.349 correct: 27929.000, total: 30000.000, accuracy: 0.931\n",
            "training epoch: [90 ] loss: 0.354 correct: 28008.000, total: 30000.000, accuracy: 0.934\n",
            "training epoch: [91 ] loss: 0.340 correct: 27946.000, total: 30000.000, accuracy: 0.932\n",
            "training epoch: [92 ] loss: 0.343 correct: 27957.000, total: 30000.000, accuracy: 0.932\n",
            "training epoch: [93 ] loss: 0.379 correct: 27857.000, total: 30000.000, accuracy: 0.929\n",
            "training epoch: [94 ] loss: 0.396 correct: 27737.000, total: 30000.000, accuracy: 0.925\n",
            "training epoch: [95 ] loss: 0.333 correct: 28016.000, total: 30000.000, accuracy: 0.934\n",
            "training epoch: [96 ] loss: 0.359 correct: 27908.000, total: 30000.000, accuracy: 0.930\n",
            "training epoch: [97 ] loss: 0.352 correct: 27910.000, total: 30000.000, accuracy: 0.930\n",
            "training epoch: [98 ] loss: 0.335 correct: 28013.000, total: 30000.000, accuracy: 0.934\n",
            "training epoch: [99 ] loss: 0.356 correct: 27669.000, total: 30000.000, accuracy: 0.922\n",
            "training epoch: [100 ] loss: 0.386 correct: 27852.000, total: 30000.000, accuracy: 0.928\n",
            "Finished Training run \n"
          ],
          "name": "stdout"
        }
      ]
    },
    {
      "cell_type": "code",
      "metadata": {
        "id": "AciJnAh5nfug"
      },
      "source": [
        "columns = [\"epochs\", \"argmax > 0.5\" ,\"argmax < 0.5\", \"focus_true_pred_true\", \"focus_false_pred_true\", \"focus_true_pred_false\", \"focus_false_pred_false\" ]\n",
        "df_train = pd.DataFrame()\n",
        "df_test = pd.DataFrame()\n",
        "df_train[columns[0]] = np.arange(0,epoch+2)\n",
        "df_train[columns[1]] = analysis_data_tr[:,-2]/300\n",
        "df_train[columns[2]] = analysis_data_tr[:,-1]/300\n",
        "df_train[columns[3]] = analysis_data_tr[:,0]/300\n",
        "df_train[columns[4]] = analysis_data_tr[:,1]/300\n",
        "df_train[columns[5]] = analysis_data_tr[:,2]/300\n",
        "df_train[columns[6]] = analysis_data_tr[:,3]/300"
      ],
      "execution_count": 25,
      "outputs": []
    },
    {
      "cell_type": "code",
      "metadata": {
        "id": "NoQpS_6scRsC",
        "colab": {
          "base_uri": "https://localhost:8080/",
          "height": 456
        },
        "outputId": "62034beb-6432-44e0-f337-ef32bf07244c"
      },
      "source": [
        "df_train"
      ],
      "execution_count": 26,
      "outputs": [
        {
          "output_type": "execute_result",
          "data": {
            "text/html": [
              "<div>\n",
              "<style scoped>\n",
              "    .dataframe tbody tr th:only-of-type {\n",
              "        vertical-align: middle;\n",
              "    }\n",
              "\n",
              "    .dataframe tbody tr th {\n",
              "        vertical-align: top;\n",
              "    }\n",
              "\n",
              "    .dataframe thead th {\n",
              "        text-align: right;\n",
              "    }\n",
              "</style>\n",
              "<table border=\"1\" class=\"dataframe\">\n",
              "  <thead>\n",
              "    <tr style=\"text-align: right;\">\n",
              "      <th></th>\n",
              "      <th>epochs</th>\n",
              "      <th>argmax &gt; 0.5</th>\n",
              "      <th>argmax &lt; 0.5</th>\n",
              "      <th>focus_true_pred_true</th>\n",
              "      <th>focus_false_pred_true</th>\n",
              "      <th>focus_true_pred_false</th>\n",
              "      <th>focus_false_pred_false</th>\n",
              "    </tr>\n",
              "  </thead>\n",
              "  <tbody>\n",
              "    <tr>\n",
              "      <th>0</th>\n",
              "      <td>0</td>\n",
              "      <td>0.000000</td>\n",
              "      <td>100.000000</td>\n",
              "      <td>4.103333</td>\n",
              "      <td>33.046667</td>\n",
              "      <td>7.176667</td>\n",
              "      <td>55.673333</td>\n",
              "    </tr>\n",
              "    <tr>\n",
              "      <th>1</th>\n",
              "      <td>1</td>\n",
              "      <td>1.640000</td>\n",
              "      <td>98.360000</td>\n",
              "      <td>20.330000</td>\n",
              "      <td>45.590000</td>\n",
              "      <td>5.193333</td>\n",
              "      <td>28.886667</td>\n",
              "    </tr>\n",
              "    <tr>\n",
              "      <th>2</th>\n",
              "      <td>2</td>\n",
              "      <td>86.733333</td>\n",
              "      <td>13.266667</td>\n",
              "      <td>26.390000</td>\n",
              "      <td>45.950000</td>\n",
              "      <td>2.526667</td>\n",
              "      <td>25.133333</td>\n",
              "    </tr>\n",
              "    <tr>\n",
              "      <th>3</th>\n",
              "      <td>3</td>\n",
              "      <td>97.886667</td>\n",
              "      <td>2.113333</td>\n",
              "      <td>33.263333</td>\n",
              "      <td>48.716667</td>\n",
              "      <td>1.210000</td>\n",
              "      <td>16.810000</td>\n",
              "    </tr>\n",
              "    <tr>\n",
              "      <th>4</th>\n",
              "      <td>4</td>\n",
              "      <td>98.496667</td>\n",
              "      <td>1.503333</td>\n",
              "      <td>34.600000</td>\n",
              "      <td>49.203333</td>\n",
              "      <td>1.033333</td>\n",
              "      <td>15.163333</td>\n",
              "    </tr>\n",
              "    <tr>\n",
              "      <th>...</th>\n",
              "      <td>...</td>\n",
              "      <td>...</td>\n",
              "      <td>...</td>\n",
              "      <td>...</td>\n",
              "      <td>...</td>\n",
              "      <td>...</td>\n",
              "      <td>...</td>\n",
              "    </tr>\n",
              "    <tr>\n",
              "      <th>96</th>\n",
              "      <td>96</td>\n",
              "      <td>98.496667</td>\n",
              "      <td>1.503333</td>\n",
              "      <td>37.066667</td>\n",
              "      <td>55.960000</td>\n",
              "      <td>0.520000</td>\n",
              "      <td>6.453333</td>\n",
              "    </tr>\n",
              "    <tr>\n",
              "      <th>97</th>\n",
              "      <td>97</td>\n",
              "      <td>98.500000</td>\n",
              "      <td>1.500000</td>\n",
              "      <td>37.083333</td>\n",
              "      <td>55.950000</td>\n",
              "      <td>0.476667</td>\n",
              "      <td>6.490000</td>\n",
              "    </tr>\n",
              "    <tr>\n",
              "      <th>98</th>\n",
              "      <td>98</td>\n",
              "      <td>98.500000</td>\n",
              "      <td>1.500000</td>\n",
              "      <td>37.053333</td>\n",
              "      <td>56.323333</td>\n",
              "      <td>0.516667</td>\n",
              "      <td>6.106667</td>\n",
              "    </tr>\n",
              "    <tr>\n",
              "      <th>99</th>\n",
              "      <td>99</td>\n",
              "      <td>98.490000</td>\n",
              "      <td>1.510000</td>\n",
              "      <td>36.913333</td>\n",
              "      <td>55.316667</td>\n",
              "      <td>0.660000</td>\n",
              "      <td>7.110000</td>\n",
              "    </tr>\n",
              "    <tr>\n",
              "      <th>100</th>\n",
              "      <td>100</td>\n",
              "      <td>98.490000</td>\n",
              "      <td>1.510000</td>\n",
              "      <td>37.070000</td>\n",
              "      <td>55.770000</td>\n",
              "      <td>0.500000</td>\n",
              "      <td>6.660000</td>\n",
              "    </tr>\n",
              "  </tbody>\n",
              "</table>\n",
              "<p>101 rows × 7 columns</p>\n",
              "</div>"
            ],
            "text/plain": [
              "     epochs  argmax > 0.5  ...  focus_true_pred_false  focus_false_pred_false\n",
              "0         0      0.000000  ...               7.176667               55.673333\n",
              "1         1      1.640000  ...               5.193333               28.886667\n",
              "2         2     86.733333  ...               2.526667               25.133333\n",
              "3         3     97.886667  ...               1.210000               16.810000\n",
              "4         4     98.496667  ...               1.033333               15.163333\n",
              "..      ...           ...  ...                    ...                     ...\n",
              "96       96     98.496667  ...               0.520000                6.453333\n",
              "97       97     98.500000  ...               0.476667                6.490000\n",
              "98       98     98.500000  ...               0.516667                6.106667\n",
              "99       99     98.490000  ...               0.660000                7.110000\n",
              "100     100     98.490000  ...               0.500000                6.660000\n",
              "\n",
              "[101 rows x 7 columns]"
            ]
          },
          "metadata": {
            "tags": []
          },
          "execution_count": 26
        }
      ]
    },
    {
      "cell_type": "code",
      "metadata": {
        "id": "IMAhRdxOcVf6",
        "colab": {
          "base_uri": "https://localhost:8080/",
          "height": 404
        },
        "outputId": "32564e8d-47dd-487a-d764-65ae0afa1f8d"
      },
      "source": [
        "fig= plt.figure(figsize=(6,6))\n",
        "plt.plot(df_train[columns[0]],df_train[columns[3]], label =\"focus_true_pred_true \")\n",
        "plt.plot(df_train[columns[0]],df_train[columns[4]], label =\"focus_false_pred_true \")\n",
        "plt.plot(df_train[columns[0]],df_train[columns[5]], label =\"focus_true_pred_false \")\n",
        "plt.plot(df_train[columns[0]],df_train[columns[6]], label =\"focus_false_pred_false \")\n",
        "plt.title(\"On Train set\")\n",
        "plt.legend(loc='center left', bbox_to_anchor=(1, 0.5))\n",
        "plt.xticks([0,2,4])\n",
        "plt.xlabel(\"epochs\")\n",
        "plt.ylabel(\"percentage of data\")\n",
        "#plt.vlines(vline_list,min(min(df_train[columns[3]]/300),min(df_train[columns[4]]/300),min(df_train[columns[5]]/300),min(df_train[columns[6]]/300)), max(max(df_train[columns[3]]/300),max(df_train[columns[4]]/300),max(df_train[columns[5]]/300),max(df_train[columns[6]]/300)),linestyles='dotted')\n",
        "plt.show()\n",
        "fig.savefig(\"train_analysis.pdf\")\n",
        "fig.savefig(\"train_analysis.png\")"
      ],
      "execution_count": 27,
      "outputs": [
        {
          "output_type": "display_data",
          "data": {
            "image/png": "[encoded data removed]",
            "text/plain": [
              "<Figure size 432x432 with 1 Axes>"
            ]
          },
          "metadata": {
            "tags": [],
            "needs_background": "light"
          }
        }
      ]
    },
    {
      "cell_type": "code",
      "metadata": {
        "id": "VCnS6r2_3WdU"
      },
      "source": [
        "aph = []\n",
        "for i in bg:\n",
        "  aph.append(F.softmax(i,dim=1).detach().numpy())\n",
        "  \n",
        "aph = np.concatenate(aph,axis=0)\n",
        "torch.save({\n",
        "            'epoch': 500,\n",
        "            'model_state_dict': what_net.state_dict(),\n",
        "            #'optimizer_state_dict': optimizer_what.state_dict(),\n",
        "            \"optimizer_alpha\":optim1,\n",
        "            \"FTPT_analysis\":analysis_data_tr,\n",
        "            \"alpha\":aph\n",
        "\n",
        "            }, \"cifar_what_net_500.pt\")"
      ],
      "execution_count": 21,
      "outputs": []
    },
    {
      "cell_type": "code",
      "metadata": {
        "id": "KVzrDOGS4UxU",
        "colab": {
          "base_uri": "https://localhost:8080/"
        },
        "outputId": "5cbc198d-ed7d-4347-9444-2f72fd65cc0f"
      },
      "source": [
        "aph"
      ],
      "execution_count": 22,
      "outputs": [
        {
          "output_type": "execute_result",
          "data": {
            "text/plain": [
              "array([[1.5378678e-03, 9.9840432e-01, 5.3982757e-13, ..., 5.3992845e-13,\n",
              "        5.3988313e-13, 5.3970397e-13],\n",
              "       [1.9887352e-04, 1.7856389e-12, 1.7855299e-12, ..., 1.7857445e-12,\n",
              "        4.4554158e-04, 1.7855572e-12],\n",
              "       [1.4601228e-17, 1.4608304e-17, 1.4632787e-17, ..., 2.0815179e-08,\n",
              "        3.3035182e-13, 1.8986776e-04],\n",
              "       ...,\n",
              "       [2.4048470e-01, 8.6208740e-12, 8.6306960e-12, ..., 9.0428220e-12,\n",
              "        7.5950187e-01, 1.3380023e-05],\n",
              "       [2.3607415e-20, 1.0000000e+00, 3.4847943e-08, ..., 5.9508300e-16,\n",
              "        2.3560093e-20, 2.3581223e-20],\n",
              "       [4.2378209e-10, 4.9288265e-06, 8.3946496e-02, ..., 4.3689677e-10,\n",
              "        3.2844764e-01, 4.2327075e-10]], dtype=float32)"
            ]
          },
          "metadata": {
            "tags": []
          },
          "execution_count": 22
        }
      ]
    },
    {
      "cell_type": "code",
      "metadata": {
        "id": "Z6heHND15EMz"
      },
      "source": [
        "running_loss_tr,anls_data,correct,total,accuracy = calculate_attn_loss(train_loader,what_net,criterion)"
      ],
      "execution_count": 23,
      "outputs": []
    },
    {
      "cell_type": "code",
      "metadata": {
        "id": "zeKhsdpYWQvB",
        "colab": {
          "base_uri": "https://localhost:8080/"
        },
        "outputId": "235d094b-0c91-4aa4-f52e-88f49605e70d"
      },
      "source": [
        "print(\"argmax>0.5\",anls_data[-2])"
      ],
      "execution_count": 24,
      "outputs": [
        {
          "output_type": "stream",
          "text": [
            "argmax>0.5 29547\n"
          ],
          "name": "stdout"
        }
      ]
    },
    {
      "cell_type": "code",
      "metadata": {
        "id": "yF2bvWdIWUTa"
      },
      "source": [
        ""
      ],
      "execution_count": 24,
      "outputs": []
    }
  ]
}