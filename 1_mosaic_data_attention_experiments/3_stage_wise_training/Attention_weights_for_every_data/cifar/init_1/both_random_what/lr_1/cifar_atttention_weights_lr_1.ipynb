{
  "nbformat": 4,
  "nbformat_minor": 0,
  "metadata": {
    "accelerator": "GPU",
    "colab": {
      "name": "cifar_atttention_weights_lr_1.ipynb",
      "provenance": [],
      "collapsed_sections": []
    },
    "kernelspec": {
      "display_name": "Python 3",
      "name": "python3"
    },
    "language_info": {
      "name": "python"
    }
  },
  "cells": [
    {
      "cell_type": "code",
      "metadata": {
        "id": "BWIyC9Ip_bcq"
      },
      "source": [
        "import numpy as np\n",
        "import pandas as pd\n",
        "\n",
        "import torch\n",
        "import torchvision\n",
        "from torch.utils.data import Dataset, DataLoader\n",
        "from torchvision import transforms, utils\n",
        "import torch.nn as nn\n",
        "import torch.nn.functional as F\n",
        "import torch.optim as optim\n",
        "\n",
        "from matplotlib import pyplot as plt\n",
        "%matplotlib inline\n",
        "torch.backends.cudnn.deterministic = True\n",
        "torch.backends.cudnn.benchmark = False"
      ],
      "execution_count": 1,
      "outputs": []
    },
    {
      "cell_type": "code",
      "metadata": {
        "colab": {
          "base_uri": "https://localhost:8080/"
        },
        "id": "cgw1f4rVkGr9",
        "outputId": "3c60fcd3-7c7c-43cd-be1e-f672c1fb0fa1"
      },
      "source": [
        "transform = transforms.Compose(\n",
        "    [transforms.ToTensor(),\n",
        "     transforms.Normalize((0.5, 0.5, 0.5), (0.5, 0.5, 0.5))])\n",
        "\n",
        "trainset = torchvision.datasets.CIFAR10(root='./data', train=True, download=True, transform=transform)"
      ],
      "execution_count": 2,
      "outputs": [
        {
          "output_type": "stream",
          "text": [
            "Files already downloaded and verified\n"
          ],
          "name": "stdout"
        }
      ]
    },
    {
      "cell_type": "code",
      "metadata": {
        "id": "D-xlWYTKkQEn"
      },
      "source": [
        "trainloader = torch.utils.data.DataLoader(trainset, batch_size=10, shuffle=False)\n",
        "\n",
        "\n",
        "classes = ('plane', 'car', 'bird', 'cat', 'deer', 'dog', 'frog', 'horse', 'ship', 'truck')\n",
        "\n",
        "foreground_classes = {'plane', 'car', 'bird'}\n",
        "#foreground_classes = {'bird', 'cat', 'deer'}\n",
        "background_classes = {'cat', 'deer', 'dog', 'frog', 'horse', 'ship', 'truck'}\n",
        "#background_classes = {'plane', 'car', 'dog', 'frog', 'horse','ship', 'truck'}\n",
        "\n",
        "fg1,fg2,fg3 = 0,1,2"
      ],
      "execution_count": 3,
      "outputs": []
    },
    {
      "cell_type": "code",
      "metadata": {
        "id": "zrX68qhikUbz"
      },
      "source": [
        "dataiter = iter(trainloader)\n",
        "background_data=[]\n",
        "background_label=[]\n",
        "foreground_data=[]\n",
        "foreground_label=[]\n",
        "batch_size=10\n",
        "\n",
        "for i in range(5000):\n",
        "  images, labels = dataiter.next()\n",
        "  for j in range(batch_size):\n",
        "    if(classes[labels[j]] in background_classes):\n",
        "      img = images[j].tolist()\n",
        "      background_data.append(img)\n",
        "      background_label.append(labels[j])\n",
        "    else:\n",
        "      img = images[j].tolist()\n",
        "      foreground_data.append(img)\n",
        "      foreground_label.append(labels[j])\n",
        "            \n",
        "foreground_data = torch.tensor(foreground_data)\n",
        "foreground_label = torch.tensor(foreground_label)\n",
        "background_data = torch.tensor(background_data)\n",
        "background_label = torch.tensor(background_label)"
      ],
      "execution_count": 4,
      "outputs": []
    },
    {
      "cell_type": "code",
      "metadata": {
        "id": "eD-QJkvnkgyk"
      },
      "source": [
        "def create_mosaic_img(bg_idx,fg_idx,fg): \n",
        "  \"\"\"\n",
        "  bg_idx : list of indexes of background_data[] to be used as background images in mosaic\n",
        "  fg_idx : index of image to be used as foreground image from foreground data\n",
        "  fg : at what position/index foreground image has to be stored out of 0-8\n",
        "  \"\"\"\n",
        "  image_list=[]\n",
        "  j=0\n",
        "  for i in range(9):\n",
        "    if i != fg:\n",
        "      image_list.append(background_data[bg_idx[j]])#.type(\"torch.DoubleTensor\"))\n",
        "      j+=1\n",
        "    else: \n",
        "      image_list.append(foreground_data[fg_idx])#.type(\"torch.DoubleTensor\"))\n",
        "      label = foreground_label[fg_idx]-fg1  # minus 7 because our fore ground classes are 7,8,9 but we have to store it as 0,1,2\n",
        "  #image_list = np.concatenate(image_list ,axis=0)\n",
        "  image_list = torch.stack(image_list) \n",
        "  return image_list,label"
      ],
      "execution_count": 5,
      "outputs": []
    },
    {
      "cell_type": "code",
      "metadata": {
        "id": "Zs10rfXHkli2"
      },
      "source": [
        "desired_num = 30000\n",
        "mosaic_list_of_images =[]      # list of mosaic images, each mosaic image is saved as list of 9 images\n",
        "fore_idx =[]                   # list of indexes at which foreground image is present in a mosaic image i.e from 0 to 9               \n",
        "mosaic_label=[]                # label of mosaic image = foreground class present in that mosaic\n",
        "for i in range(desired_num):\n",
        "  np.random.seed(i)\n",
        "  bg_idx = np.random.randint(0,35000,8)\n",
        "  fg_idx = np.random.randint(0,15000)\n",
        "  fg = np.random.randint(0,9)\n",
        "  fore_idx.append(fg)\n",
        "  image_list,label = create_mosaic_img(bg_idx,fg_idx,fg)\n",
        "  mosaic_list_of_images.append(image_list)\n",
        "  mosaic_label.append(label)"
      ],
      "execution_count": 6,
      "outputs": []
    },
    {
      "cell_type": "code",
      "metadata": {
        "id": "7km9Swb1kq4O"
      },
      "source": [
        "class MosaicDataset(Dataset):\n",
        "  \"\"\"MosaicDataset dataset.\"\"\"\n",
        "\n",
        "  def __init__(self, mosaic_list_of_images, mosaic_label, fore_idx):\n",
        "    \"\"\"\n",
        "      Args:\n",
        "        csv_file (string): Path to the csv file with annotations.\n",
        "        root_dir (string): Directory with all the images.\n",
        "        transform (callable, optional): Optional transform to be applied\n",
        "            on a sample.\n",
        "    \"\"\"\n",
        "    self.mosaic = mosaic_list_of_images\n",
        "    self.label = mosaic_label\n",
        "    self.fore_idx = fore_idx\n",
        "\n",
        "  def __len__(self):\n",
        "    return len(self.label)\n",
        "\n",
        "  def __getitem__(self, idx):\n",
        "    return self.mosaic[idx] , self.label[idx], self.fore_idx[idx]\n",
        "batch = 250\n",
        "msd = MosaicDataset(mosaic_list_of_images, mosaic_label , fore_idx)\n",
        "train_loader = DataLoader( msd,batch_size= batch ,shuffle=False,num_workers=0,)"
      ],
      "execution_count": 7,
      "outputs": []
    },
    {
      "cell_type": "code",
      "metadata": {
        "id": "lGVy-1EllAc_"
      },
      "source": [
        "data,labels,fg_index = iter(train_loader).next()"
      ],
      "execution_count": 8,
      "outputs": []
    },
    {
      "cell_type": "code",
      "metadata": {
        "id": "DOpZfj1bq7wN"
      },
      "source": [
        "bg = []\n",
        "for i in range(120):\n",
        "  torch.manual_seed(i)\n",
        "  betag = torch.randn(250,9)#torch.ones((250,9))/9\n",
        "  a=bg.append( betag.requires_grad_() )"
      ],
      "execution_count": 9,
      "outputs": []
    },
    {
      "cell_type": "code",
      "metadata": {
        "id": "HbrMidFCla6h"
      },
      "source": [
        "class Module2(nn.Module):\n",
        "  def __init__(self):\n",
        "    super(Module2, self).__init__()\n",
        "    \n",
        "    self.conv1 = nn.Conv2d(3, 6, 5)\n",
        "    self.pool = nn.MaxPool2d(2, 2)\n",
        "    self.conv2 = nn.Conv2d(6, 16, 5)\n",
        "    self.fc1 = nn.Linear(16 * 5 * 5, 120)\n",
        "    self.fc2 = nn.Linear(120, 84)\n",
        "    self.fc3 = nn.Linear(84, 10)\n",
        "    self.fc4 = nn.Linear(10,3)\n",
        "\n",
        "  def forward(self,y):  #z batch of list of 9 images\n",
        "    y1 = self.pool(F.relu(self.conv1(y)))\n",
        "    y1 = self.pool(F.relu(self.conv2(y1)))\n",
        "    y1 = y1.view(-1, 16 * 5 * 5)\n",
        "\n",
        "    y1 = F.relu(self.fc1(y1))\n",
        "    y1 = F.relu(self.fc2(y1))\n",
        "    y1 = F.relu(self.fc3(y1))\n",
        "    y1 = self.fc4(y1)\n",
        "    return y1"
      ],
      "execution_count": 10,
      "outputs": []
    },
    {
      "cell_type": "code",
      "metadata": {
        "id": "rRqj2VELllkX"
      },
      "source": [
        "torch.manual_seed(1234)\n",
        "what_net = Module2().double()\n",
        "\n",
        "#what_net.load_state_dict(torch.load(\"simultaneous_what.pt\"))\n",
        "what_net = what_net.to(\"cuda\")"
      ],
      "execution_count": 11,
      "outputs": []
    },
    {
      "cell_type": "code",
      "metadata": {
        "id": "6d8Wch99l4yB"
      },
      "source": [
        "def attn_avg(x,beta):\n",
        "  y = torch.zeros([batch,3, 32,32], dtype=torch.float64)\n",
        "  y = y.to(\"cuda\")\n",
        "  alpha = F.softmax(beta,dim=1)   # alphas\n",
        "  for i in range(9):            \n",
        "    alpha1 = alpha[:,i]          \n",
        "    y = y + torch.mul(alpha1[:,None,None,None],x[:,i])\n",
        "  return y,alpha\n"
      ],
      "execution_count": 12,
      "outputs": []
    },
    {
      "cell_type": "code",
      "metadata": {
        "id": "Rz1Kpw12loV6"
      },
      "source": [
        "def calculate_attn_loss(dataloader,what,criter):\n",
        "  what.eval()\n",
        "  r_loss = 0\n",
        "  alphas = []\n",
        "  lbls = []\n",
        "  pred = []\n",
        "  fidices = []\n",
        "  correct = 0\n",
        "  tot = 0\n",
        "  with torch.no_grad():\n",
        "    for i, data in enumerate(dataloader, 0):\n",
        "      inputs, labels,fidx= data\n",
        "      lbls.append(labels)\n",
        "      fidices.append(fidx)\n",
        "      inputs = inputs.double()\n",
        "      beta = bg[i]  # alpha for ith batch\n",
        "      inputs, labels,beta = inputs.to(\"cuda\"),labels.to(\"cuda\"),beta.to(\"cuda\")\n",
        "      avg,alpha = attn_avg(inputs,beta)\n",
        "      alpha = alpha.to(\"cuda\")\n",
        "      outputs = what(avg)\n",
        "      _, predicted = torch.max(outputs.data, 1)\n",
        "      correct += sum(predicted == labels)\n",
        "      tot += len(predicted)\n",
        "      pred.append(predicted.cpu().numpy())\n",
        "      alphas.append(alpha.cpu().numpy())\n",
        "      loss = criter(outputs, labels)\n",
        "      r_loss += loss.item()\n",
        "  alphas = np.concatenate(alphas,axis=0)\n",
        "  pred = np.concatenate(pred,axis=0)\n",
        "  lbls = np.concatenate(lbls,axis=0)\n",
        "  fidices = np.concatenate(fidices,axis=0)\n",
        "  #print(alphas.shape,pred.shape,lbls.shape,fidices.shape) \n",
        "  analysis = analyse_data(alphas,lbls,pred,fidices)\n",
        "  return r_loss/i,analysis,correct.item(),tot,correct.item()/tot"
      ],
      "execution_count": 13,
      "outputs": []
    },
    {
      "cell_type": "code",
      "metadata": {
        "id": "sAY-x6UAwrwE"
      },
      "source": [
        "# for param in what_net.parameters():\n",
        "#     param.requires_grad = False"
      ],
      "execution_count": 14,
      "outputs": []
    },
    {
      "cell_type": "code",
      "metadata": {
        "id": "_toCktPanH0S"
      },
      "source": [
        "def analyse_data(alphas,lbls,predicted,f_idx):\n",
        "    '''\n",
        "       analysis data is created here\n",
        "    '''\n",
        "    batch = len(predicted)\n",
        "    amth,alth,ftpt,ffpt,ftpf,ffpf = 0,0,0,0,0,0\n",
        "    for j in range (batch):\n",
        "      focus = np.argmax(alphas[j])\n",
        "      if(alphas[j][focus] >= 0.5):\n",
        "        amth +=1\n",
        "      else:\n",
        "        alth +=1\n",
        "      if(focus == f_idx[j] and predicted[j] == lbls[j]):\n",
        "        ftpt += 1\n",
        "      elif(focus != f_idx[j] and predicted[j] == lbls[j]):\n",
        "        ffpt +=1\n",
        "      elif(focus == f_idx[j] and predicted[j] != lbls[j]):\n",
        "        ftpf +=1\n",
        "      elif(focus != f_idx[j] and predicted[j] != lbls[j]):\n",
        "        ffpf +=1\n",
        "    #print(sum(predicted==lbls),ftpt+ffpt)\n",
        "    return [ftpt,ffpt,ftpf,ffpf,amth,alth]"
      ],
      "execution_count": 15,
      "outputs": []
    },
    {
      "cell_type": "code",
      "metadata": {
        "id": "S633XgMToeN3"
      },
      "source": [
        "optim1 = []\n",
        "for i in range(120):\n",
        "  optim1.append(optim.RMSprop([bg[i]], lr=1))"
      ],
      "execution_count": 16,
      "outputs": []
    },
    {
      "cell_type": "code",
      "metadata": {
        "colab": {
          "base_uri": "https://localhost:8080/"
        },
        "id": "qPaYaojinMTA",
        "outputId": "faa7fafd-e2b4-41e3-c8d0-7df30728fa5b"
      },
      "source": [
        "# instantiate optimizer\n",
        "optimizer_what = optim.RMSprop(what_net.parameters(), lr=0.001)#, momentum=0.9)#,nesterov=True)\n",
        "\n",
        "\n",
        " \n",
        "\n",
        "\n",
        "criterion = nn.CrossEntropyLoss()\n",
        "acti = []\n",
        "analysis_data_tr = []\n",
        "analysis_data_tst = []\n",
        "loss_curi_tr = []\n",
        "loss_curi_tst = []\n",
        "epochs = 100\n",
        "\n",
        "\n",
        "# calculate zeroth epoch loss and FTPT values\n",
        "running_loss,anlys_data,correct,total,accuracy = calculate_attn_loss(train_loader,what_net,criterion)\n",
        "print('training epoch: [%d ] loss: %.3f correct: %.3f, total: %.3f, accuracy: %.3f' %(0,running_loss,correct,total,accuracy)) \n",
        "loss_curi_tr.append(running_loss)\n",
        "analysis_data_tr.append(anlys_data)\n",
        "\n",
        "\n",
        "\n",
        "\n",
        "# training starts \n",
        "for epoch in range(epochs): # loop over the dataset multiple times\n",
        "  ep_lossi = []\n",
        "  running_loss = 0.0\n",
        "  what_net.train()\n",
        "  for i, data in enumerate(train_loader, 0):\n",
        "    # get the inputs\n",
        "    inputs, labels,_  = data\n",
        "    inputs = inputs.double()\n",
        "    beta = bg[i] # alpha for ith batch\n",
        "    inputs, labels,beta = inputs.to(\"cuda\"),labels.to(\"cuda\"),beta.to(\"cuda\")\n",
        "        \n",
        "    # zero the parameter gradients\n",
        "    optimizer_what.zero_grad()\n",
        "    optim1[i].zero_grad()\n",
        "      \n",
        "    # forward + backward + optimize\n",
        "    avg,alpha = attn_avg(inputs,beta)\n",
        "    outputs = what_net(avg)     \n",
        "    loss = criterion(outputs, labels)\n",
        "\n",
        "    # print statistics\n",
        "    running_loss += loss.item()\n",
        "    #alpha.retain_grad()\n",
        "    loss.backward(retain_graph=False)\n",
        "    optimizer_what.step()\n",
        "    optim1[i].step()\n",
        "\n",
        "\n",
        "  running_loss_tr,anls_data,correct,total,accuracy = calculate_attn_loss(train_loader,what_net,criterion)\n",
        "  analysis_data_tr.append(anls_data)\n",
        "  loss_curi_tr.append(running_loss_tr)   #loss per epoch\n",
        "  print('training epoch: [%d ] loss: %.3f correct: %.3f, total: %.3f, accuracy: %.3f' %(epoch+1,running_loss_tr,correct,total,accuracy)) \n",
        "\n",
        "\n",
        "  \n",
        "  if running_loss_tr<=0.08:\n",
        "    break\n",
        "print('Finished Training run ')\n",
        "analysis_data_tr = np.array(analysis_data_tr)\n",
        "\n"
      ],
      "execution_count": 17,
      "outputs": [
        {
          "output_type": "stream",
          "text": [
            "training epoch: [0 ] loss: 1.119 correct: 10137.000, total: 30000.000, accuracy: 0.338\n",
            "training epoch: [1 ] loss: 1.016 correct: 17780.000, total: 30000.000, accuracy: 0.593\n",
            "training epoch: [2 ] loss: 0.740 correct: 19723.000, total: 30000.000, accuracy: 0.657\n",
            "training epoch: [3 ] loss: 0.965 correct: 20494.000, total: 30000.000, accuracy: 0.683\n",
            "training epoch: [4 ] loss: 0.746 correct: 22420.000, total: 30000.000, accuracy: 0.747\n",
            "training epoch: [5 ] loss: 0.830 correct: 22143.000, total: 30000.000, accuracy: 0.738\n",
            "training epoch: [6 ] loss: 0.861 correct: 22006.000, total: 30000.000, accuracy: 0.734\n",
            "training epoch: [7 ] loss: 0.878 correct: 21875.000, total: 30000.000, accuracy: 0.729\n",
            "training epoch: [8 ] loss: 0.852 correct: 21909.000, total: 30000.000, accuracy: 0.730\n",
            "training epoch: [9 ] loss: 0.844 correct: 21958.000, total: 30000.000, accuracy: 0.732\n",
            "training epoch: [10 ] loss: 0.871 correct: 21720.000, total: 30000.000, accuracy: 0.724\n",
            "training epoch: [11 ] loss: 0.872 correct: 21702.000, total: 30000.000, accuracy: 0.723\n",
            "training epoch: [12 ] loss: 0.908 correct: 21681.000, total: 30000.000, accuracy: 0.723\n",
            "training epoch: [13 ] loss: 0.911 correct: 21675.000, total: 30000.000, accuracy: 0.723\n",
            "training epoch: [14 ] loss: 0.866 correct: 21840.000, total: 30000.000, accuracy: 0.728\n",
            "training epoch: [15 ] loss: 0.892 correct: 21885.000, total: 30000.000, accuracy: 0.730\n",
            "training epoch: [16 ] loss: 0.918 correct: 21691.000, total: 30000.000, accuracy: 0.723\n",
            "training epoch: [17 ] loss: 0.912 correct: 21815.000, total: 30000.000, accuracy: 0.727\n",
            "training epoch: [18 ] loss: 0.901 correct: 21878.000, total: 30000.000, accuracy: 0.729\n",
            "training epoch: [19 ] loss: 0.891 correct: 21905.000, total: 30000.000, accuracy: 0.730\n",
            "training epoch: [20 ] loss: 0.895 correct: 21862.000, total: 30000.000, accuracy: 0.729\n",
            "training epoch: [21 ] loss: 0.913 correct: 21864.000, total: 30000.000, accuracy: 0.729\n",
            "training epoch: [22 ] loss: 0.926 correct: 21807.000, total: 30000.000, accuracy: 0.727\n",
            "training epoch: [23 ] loss: 0.914 correct: 21841.000, total: 30000.000, accuracy: 0.728\n",
            "training epoch: [24 ] loss: 0.909 correct: 21817.000, total: 30000.000, accuracy: 0.727\n",
            "training epoch: [25 ] loss: 0.906 correct: 21784.000, total: 30000.000, accuracy: 0.726\n",
            "training epoch: [26 ] loss: 0.905 correct: 21779.000, total: 30000.000, accuracy: 0.726\n",
            "training epoch: [27 ] loss: 0.909 correct: 21806.000, total: 30000.000, accuracy: 0.727\n",
            "training epoch: [28 ] loss: 0.877 correct: 21933.000, total: 30000.000, accuracy: 0.731\n",
            "training epoch: [29 ] loss: 0.871 correct: 21968.000, total: 30000.000, accuracy: 0.732\n",
            "training epoch: [30 ] loss: 0.876 correct: 21969.000, total: 30000.000, accuracy: 0.732\n",
            "training epoch: [31 ] loss: 0.881 correct: 22042.000, total: 30000.000, accuracy: 0.735\n",
            "training epoch: [32 ] loss: 0.892 correct: 21941.000, total: 30000.000, accuracy: 0.731\n",
            "training epoch: [33 ] loss: 0.877 correct: 22133.000, total: 30000.000, accuracy: 0.738\n",
            "training epoch: [34 ] loss: 0.893 correct: 22078.000, total: 30000.000, accuracy: 0.736\n",
            "training epoch: [35 ] loss: 0.879 correct: 21993.000, total: 30000.000, accuracy: 0.733\n",
            "training epoch: [36 ] loss: 0.882 correct: 22058.000, total: 30000.000, accuracy: 0.735\n",
            "training epoch: [37 ] loss: 0.888 correct: 21862.000, total: 30000.000, accuracy: 0.729\n",
            "training epoch: [38 ] loss: 0.873 correct: 22003.000, total: 30000.000, accuracy: 0.733\n",
            "training epoch: [39 ] loss: 0.870 correct: 22013.000, total: 30000.000, accuracy: 0.734\n",
            "training epoch: [40 ] loss: 0.859 correct: 21961.000, total: 30000.000, accuracy: 0.732\n",
            "training epoch: [41 ] loss: 0.858 correct: 21865.000, total: 30000.000, accuracy: 0.729\n",
            "training epoch: [42 ] loss: 0.836 correct: 22073.000, total: 30000.000, accuracy: 0.736\n",
            "training epoch: [43 ] loss: 0.876 correct: 21949.000, total: 30000.000, accuracy: 0.732\n",
            "training epoch: [44 ] loss: 0.875 correct: 21672.000, total: 30000.000, accuracy: 0.722\n",
            "training epoch: [45 ] loss: 0.887 correct: 21864.000, total: 30000.000, accuracy: 0.729\n",
            "training epoch: [46 ] loss: 0.859 correct: 22049.000, total: 30000.000, accuracy: 0.735\n",
            "training epoch: [47 ] loss: 0.906 correct: 21931.000, total: 30000.000, accuracy: 0.731\n",
            "training epoch: [48 ] loss: 0.913 correct: 21777.000, total: 30000.000, accuracy: 0.726\n",
            "training epoch: [49 ] loss: 0.897 correct: 22284.000, total: 30000.000, accuracy: 0.743\n",
            "training epoch: [50 ] loss: 0.885 correct: 22292.000, total: 30000.000, accuracy: 0.743\n",
            "training epoch: [51 ] loss: 0.976 correct: 21749.000, total: 30000.000, accuracy: 0.725\n",
            "training epoch: [52 ] loss: 0.882 correct: 22580.000, total: 30000.000, accuracy: 0.753\n",
            "training epoch: [53 ] loss: 0.884 correct: 22586.000, total: 30000.000, accuracy: 0.753\n",
            "training epoch: [54 ] loss: 1.006 correct: 22115.000, total: 30000.000, accuracy: 0.737\n",
            "training epoch: [55 ] loss: 0.900 correct: 22889.000, total: 30000.000, accuracy: 0.763\n",
            "training epoch: [56 ] loss: 0.983 correct: 22376.000, total: 30000.000, accuracy: 0.746\n",
            "training epoch: [57 ] loss: 0.848 correct: 23135.000, total: 30000.000, accuracy: 0.771\n",
            "training epoch: [58 ] loss: 0.968 correct: 22845.000, total: 30000.000, accuracy: 0.761\n",
            "training epoch: [59 ] loss: 1.295 correct: 21190.000, total: 30000.000, accuracy: 0.706\n",
            "training epoch: [60 ] loss: 0.930 correct: 23047.000, total: 30000.000, accuracy: 0.768\n",
            "training epoch: [61 ] loss: 1.103 correct: 22192.000, total: 30000.000, accuracy: 0.740\n",
            "training epoch: [62 ] loss: 1.238 correct: 21608.000, total: 30000.000, accuracy: 0.720\n",
            "training epoch: [63 ] loss: 1.000 correct: 23084.000, total: 30000.000, accuracy: 0.769\n",
            "training epoch: [64 ] loss: 1.155 correct: 22227.000, total: 30000.000, accuracy: 0.741\n",
            "training epoch: [65 ] loss: 0.982 correct: 23145.000, total: 30000.000, accuracy: 0.771\n",
            "training epoch: [66 ] loss: 1.044 correct: 22889.000, total: 30000.000, accuracy: 0.763\n",
            "training epoch: [67 ] loss: 1.112 correct: 22629.000, total: 30000.000, accuracy: 0.754\n",
            "training epoch: [68 ] loss: 1.096 correct: 22898.000, total: 30000.000, accuracy: 0.763\n",
            "training epoch: [69 ] loss: 1.141 correct: 22760.000, total: 30000.000, accuracy: 0.759\n",
            "training epoch: [70 ] loss: 1.264 correct: 22341.000, total: 30000.000, accuracy: 0.745\n",
            "training epoch: [71 ] loss: 1.044 correct: 23264.000, total: 30000.000, accuracy: 0.775\n",
            "training epoch: [72 ] loss: 1.065 correct: 23458.000, total: 30000.000, accuracy: 0.782\n",
            "training epoch: [73 ] loss: 1.146 correct: 23049.000, total: 30000.000, accuracy: 0.768\n",
            "training epoch: [74 ] loss: 1.186 correct: 23027.000, total: 30000.000, accuracy: 0.768\n",
            "training epoch: [75 ] loss: 1.354 correct: 22411.000, total: 30000.000, accuracy: 0.747\n",
            "training epoch: [76 ] loss: 1.142 correct: 23236.000, total: 30000.000, accuracy: 0.775\n",
            "training epoch: [77 ] loss: 1.145 correct: 23286.000, total: 30000.000, accuracy: 0.776\n",
            "training epoch: [78 ] loss: 1.226 correct: 23013.000, total: 30000.000, accuracy: 0.767\n",
            "training epoch: [79 ] loss: 1.259 correct: 22995.000, total: 30000.000, accuracy: 0.766\n",
            "training epoch: [80 ] loss: 1.226 correct: 23075.000, total: 30000.000, accuracy: 0.769\n",
            "training epoch: [81 ] loss: 1.187 correct: 23164.000, total: 30000.000, accuracy: 0.772\n",
            "training epoch: [82 ] loss: 1.310 correct: 22732.000, total: 30000.000, accuracy: 0.758\n",
            "training epoch: [83 ] loss: 1.470 correct: 22571.000, total: 30000.000, accuracy: 0.752\n",
            "training epoch: [84 ] loss: 1.240 correct: 23228.000, total: 30000.000, accuracy: 0.774\n",
            "training epoch: [85 ] loss: 1.391 correct: 22861.000, total: 30000.000, accuracy: 0.762\n",
            "training epoch: [86 ] loss: 1.736 correct: 21955.000, total: 30000.000, accuracy: 0.732\n",
            "training epoch: [87 ] loss: 1.302 correct: 23023.000, total: 30000.000, accuracy: 0.767\n",
            "training epoch: [88 ] loss: 1.226 correct: 23202.000, total: 30000.000, accuracy: 0.773\n",
            "training epoch: [89 ] loss: 1.374 correct: 23226.000, total: 30000.000, accuracy: 0.774\n",
            "training epoch: [90 ] loss: 1.437 correct: 22682.000, total: 30000.000, accuracy: 0.756\n",
            "training epoch: [91 ] loss: 1.391 correct: 22970.000, total: 30000.000, accuracy: 0.766\n",
            "training epoch: [92 ] loss: 1.321 correct: 23324.000, total: 30000.000, accuracy: 0.777\n",
            "training epoch: [93 ] loss: 1.377 correct: 23226.000, total: 30000.000, accuracy: 0.774\n",
            "training epoch: [94 ] loss: 1.323 correct: 23202.000, total: 30000.000, accuracy: 0.773\n",
            "training epoch: [95 ] loss: 2.552 correct: 20734.000, total: 30000.000, accuracy: 0.691\n",
            "training epoch: [96 ] loss: 1.503 correct: 23351.000, total: 30000.000, accuracy: 0.778\n",
            "training epoch: [97 ] loss: 1.682 correct: 22858.000, total: 30000.000, accuracy: 0.762\n",
            "training epoch: [98 ] loss: 1.443 correct: 23506.000, total: 30000.000, accuracy: 0.784\n",
            "training epoch: [99 ] loss: 1.446 correct: 23515.000, total: 30000.000, accuracy: 0.784\n",
            "training epoch: [100 ] loss: 1.572 correct: 23337.000, total: 30000.000, accuracy: 0.778\n",
            "Finished Training run \n"
          ],
          "name": "stdout"
        }
      ]
    },
    {
      "cell_type": "code",
      "metadata": {
        "id": "AciJnAh5nfug"
      },
      "source": [
        "columns = [\"epochs\", \"argmax > 0.5\" ,\"argmax < 0.5\", \"focus_true_pred_true\", \"focus_false_pred_true\", \"focus_true_pred_false\", \"focus_false_pred_false\" ]\n",
        "df_train = pd.DataFrame()\n",
        "df_test = pd.DataFrame()\n",
        "df_train[columns[0]] = np.arange(0,epoch+2)\n",
        "df_train[columns[1]] = analysis_data_tr[:,-2]\n",
        "df_train[columns[2]] = analysis_data_tr[:,-1]\n",
        "df_train[columns[3]] = analysis_data_tr[:,0]\n",
        "df_train[columns[4]] = analysis_data_tr[:,1]\n",
        "df_train[columns[5]] = analysis_data_tr[:,2]\n",
        "df_train[columns[6]] = analysis_data_tr[:,3]"
      ],
      "execution_count": 18,
      "outputs": []
    },
    {
      "cell_type": "code",
      "metadata": {
        "colab": {
          "base_uri": "https://localhost:8080/",
          "height": 436
        },
        "id": "NoQpS_6scRsC",
        "outputId": "2f8621ce-28e3-4648-d076-256ba7513bd1"
      },
      "source": [
        "df_train"
      ],
      "execution_count": 19,
      "outputs": [
        {
          "output_type": "execute_result",
          "data": {
            "text/html": [
              "<div>\n",
              "<style scoped>\n",
              "    .dataframe tbody tr th:only-of-type {\n",
              "        vertical-align: middle;\n",
              "    }\n",
              "\n",
              "    .dataframe tbody tr th {\n",
              "        vertical-align: top;\n",
              "    }\n",
              "\n",
              "    .dataframe thead th {\n",
              "        text-align: right;\n",
              "    }\n",
              "</style>\n",
              "<table border=\"1\" class=\"dataframe\">\n",
              "  <thead>\n",
              "    <tr style=\"text-align: right;\">\n",
              "      <th></th>\n",
              "      <th>epochs</th>\n",
              "      <th>argmax &gt; 0.5</th>\n",
              "      <th>argmax &lt; 0.5</th>\n",
              "      <th>focus_true_pred_true</th>\n",
              "      <th>focus_false_pred_true</th>\n",
              "      <th>focus_true_pred_false</th>\n",
              "      <th>focus_false_pred_false</th>\n",
              "    </tr>\n",
              "  </thead>\n",
              "  <tbody>\n",
              "    <tr>\n",
              "      <th>0</th>\n",
              "      <td>0</td>\n",
              "      <td>2758</td>\n",
              "      <td>27242</td>\n",
              "      <td>1070</td>\n",
              "      <td>9067</td>\n",
              "      <td>2140</td>\n",
              "      <td>17723</td>\n",
              "    </tr>\n",
              "    <tr>\n",
              "      <th>1</th>\n",
              "      <td>1</td>\n",
              "      <td>13338</td>\n",
              "      <td>16662</td>\n",
              "      <td>2642</td>\n",
              "      <td>15138</td>\n",
              "      <td>1216</td>\n",
              "      <td>11004</td>\n",
              "    </tr>\n",
              "    <tr>\n",
              "      <th>2</th>\n",
              "      <td>2</td>\n",
              "      <td>26363</td>\n",
              "      <td>3637</td>\n",
              "      <td>4707</td>\n",
              "      <td>15016</td>\n",
              "      <td>1100</td>\n",
              "      <td>9177</td>\n",
              "    </tr>\n",
              "    <tr>\n",
              "      <th>3</th>\n",
              "      <td>3</td>\n",
              "      <td>29470</td>\n",
              "      <td>530</td>\n",
              "      <td>5469</td>\n",
              "      <td>15025</td>\n",
              "      <td>1091</td>\n",
              "      <td>8415</td>\n",
              "    </tr>\n",
              "    <tr>\n",
              "      <th>4</th>\n",
              "      <td>4</td>\n",
              "      <td>29752</td>\n",
              "      <td>248</td>\n",
              "      <td>5943</td>\n",
              "      <td>16477</td>\n",
              "      <td>798</td>\n",
              "      <td>6782</td>\n",
              "    </tr>\n",
              "    <tr>\n",
              "      <th>...</th>\n",
              "      <td>...</td>\n",
              "      <td>...</td>\n",
              "      <td>...</td>\n",
              "      <td>...</td>\n",
              "      <td>...</td>\n",
              "      <td>...</td>\n",
              "      <td>...</td>\n",
              "    </tr>\n",
              "    <tr>\n",
              "      <th>96</th>\n",
              "      <td>96</td>\n",
              "      <td>29908</td>\n",
              "      <td>92</td>\n",
              "      <td>6333</td>\n",
              "      <td>17018</td>\n",
              "      <td>618</td>\n",
              "      <td>6031</td>\n",
              "    </tr>\n",
              "    <tr>\n",
              "      <th>97</th>\n",
              "      <td>97</td>\n",
              "      <td>29907</td>\n",
              "      <td>93</td>\n",
              "      <td>6250</td>\n",
              "      <td>16608</td>\n",
              "      <td>699</td>\n",
              "      <td>6443</td>\n",
              "    </tr>\n",
              "    <tr>\n",
              "      <th>98</th>\n",
              "      <td>98</td>\n",
              "      <td>29906</td>\n",
              "      <td>94</td>\n",
              "      <td>6348</td>\n",
              "      <td>17158</td>\n",
              "      <td>601</td>\n",
              "      <td>5893</td>\n",
              "    </tr>\n",
              "    <tr>\n",
              "      <th>99</th>\n",
              "      <td>99</td>\n",
              "      <td>29907</td>\n",
              "      <td>93</td>\n",
              "      <td>6385</td>\n",
              "      <td>17130</td>\n",
              "      <td>563</td>\n",
              "      <td>5922</td>\n",
              "    </tr>\n",
              "    <tr>\n",
              "      <th>100</th>\n",
              "      <td>100</td>\n",
              "      <td>29906</td>\n",
              "      <td>94</td>\n",
              "      <td>6336</td>\n",
              "      <td>17001</td>\n",
              "      <td>612</td>\n",
              "      <td>6051</td>\n",
              "    </tr>\n",
              "  </tbody>\n",
              "</table>\n",
              "<p>101 rows × 7 columns</p>\n",
              "</div>"
            ],
            "text/plain": [
              "     epochs  argmax > 0.5  ...  focus_true_pred_false  focus_false_pred_false\n",
              "0         0          2758  ...                   2140                   17723\n",
              "1         1         13338  ...                   1216                   11004\n",
              "2         2         26363  ...                   1100                    9177\n",
              "3         3         29470  ...                   1091                    8415\n",
              "4         4         29752  ...                    798                    6782\n",
              "..      ...           ...  ...                    ...                     ...\n",
              "96       96         29908  ...                    618                    6031\n",
              "97       97         29907  ...                    699                    6443\n",
              "98       98         29906  ...                    601                    5893\n",
              "99       99         29907  ...                    563                    5922\n",
              "100     100         29906  ...                    612                    6051\n",
              "\n",
              "[101 rows x 7 columns]"
            ]
          },
          "metadata": {
            "tags": []
          },
          "execution_count": 19
        }
      ]
    },
    {
      "cell_type": "code",
      "metadata": {
        "colab": {
          "base_uri": "https://localhost:8080/",
          "height": 730
        },
        "id": "IMAhRdxOcVf6",
        "outputId": "3a848588-cf18-45c1-aa7b-c53d247e7653"
      },
      "source": [
        "fig= plt.figure(figsize=(12,12))\n",
        "plt.plot(df_train[columns[0]],df_train[columns[3]]/300, label =\"focus_true_pred_true \")\n",
        "plt.plot(df_train[columns[0]],df_train[columns[4]]/300, label =\"focus_false_pred_true \")\n",
        "plt.plot(df_train[columns[0]],df_train[columns[5]]/300, label =\"focus_true_pred_false \")\n",
        "plt.plot(df_train[columns[0]],df_train[columns[6]]/300, label =\"focus_false_pred_false \")\n",
        "plt.title(\"On Train set\")\n",
        "plt.legend(loc='center left', bbox_to_anchor=(1, 0.5))\n",
        "plt.xlabel(\"epochs\")\n",
        "plt.ylabel(\"percentage of data\")\n",
        "#plt.vlines(vline_list,min(min(df_train[columns[3]]/300),min(df_train[columns[4]]/300),min(df_train[columns[5]]/300),min(df_train[columns[6]]/300)), max(max(df_train[columns[3]]/300),max(df_train[columns[4]]/300),max(df_train[columns[5]]/300),max(df_train[columns[6]]/300)),linestyles='dotted')\n",
        "plt.show()\n",
        "fig.savefig(\"train_analysis.pdf\")\n",
        "fig.savefig(\"train_analysis.png\")"
      ],
      "execution_count": 20,
      "outputs": [
        {
          "output_type": "display_data",
          "data": {
            "image/png": "[encoded data removed]",
            "text/plain": [
              "<Figure size 864x864 with 1 Axes>"
            ]
          },
          "metadata": {
            "tags": [],
            "needs_background": "light"
          }
        }
      ]
    },
    {
      "cell_type": "code",
      "metadata": {
        "id": "VCnS6r2_3WdU"
      },
      "source": [
        "aph = []\n",
        "for i in bg:\n",
        "  aph.append(F.softmax(i,dim=1).detach().numpy())\n",
        "  \n",
        "aph = np.concatenate(aph,axis=0)\n",
        "torch.save({\n",
        "            'epoch': 500,\n",
        "            'model_state_dict': what_net.state_dict(),\n",
        "            #'optimizer_state_dict': optimizer_what.state_dict(),\n",
        "            \"optimizer_alpha\":optim1,\n",
        "            \"FTPT_analysis\":analysis_data_tr,\n",
        "            \"alpha\":aph\n",
        "\n",
        "            }, \"cifar_what_net_500.pt\")"
      ],
      "execution_count": 21,
      "outputs": []
    },
    {
      "cell_type": "code",
      "metadata": {
        "colab": {
          "base_uri": "https://localhost:8080/"
        },
        "id": "KVzrDOGS4UxU",
        "outputId": "f7a80d6c-a454-4005-ca8d-575088dc9cc9"
      },
      "source": [
        "aph"
      ],
      "execution_count": 22,
      "outputs": [
        {
          "output_type": "execute_result",
          "data": {
            "text/plain": [
              "array([[1.5598214e-17, 9.9999988e-01, 1.4410126e-07, ..., 7.4956876e-15,\n",
              "        1.1883262e-16, 2.3141745e-13],\n",
              "       [4.5698913e-11, 1.1735742e-10, 6.2515981e-13, ..., 1.0000000e+00,\n",
              "        1.1083322e-10, 1.2833467e-12],\n",
              "       [8.1385215e-20, 1.0587640e-15, 1.8513439e-18, ..., 5.1942605e-19,\n",
              "        4.6402437e-08, 6.7765815e-12],\n",
              "       ...,\n",
              "       [9.9998152e-01, 1.4644061e-14, 1.8504288e-05, ..., 3.9511502e-19,\n",
              "        2.2396413e-10, 8.7719640e-19],\n",
              "       [9.9976748e-01, 3.1417151e-13, 4.0179835e-14, ..., 4.9184246e-13,\n",
              "        2.5494380e-06, 3.0905176e-14],\n",
              "       [6.2950574e-09, 1.1237139e-13, 5.0985827e-13, ..., 2.2272017e-17,\n",
              "        1.0000000e+00, 9.9216774e-18]], dtype=float32)"
            ]
          },
          "metadata": {
            "tags": []
          },
          "execution_count": 22
        }
      ]
    },
    {
      "cell_type": "code",
      "metadata": {
        "id": "Z6heHND15EMz"
      },
      "source": [
        "running_loss_tr,anls_data,correct,total,accuracy = calculate_attn_loss(train_loader,what_net,criterion)"
      ],
      "execution_count": 23,
      "outputs": []
    },
    {
      "cell_type": "code",
      "metadata": {
        "colab": {
          "base_uri": "https://localhost:8080/"
        },
        "id": "zeKhsdpYWQvB",
        "outputId": "9be5eabc-c058-4a27-fecd-f6e492d9b1e6"
      },
      "source": [
        "print(\"argmax>0.5\",anls_data[-2])"
      ],
      "execution_count": 24,
      "outputs": [
        {
          "output_type": "stream",
          "text": [
            "argmax>0.5 29906\n"
          ],
          "name": "stdout"
        }
      ]
    },
    {
      "cell_type": "code",
      "metadata": {
        "id": "yF2bvWdIWUTa"
      },
      "source": [
        ""
      ],
      "execution_count": 24,
      "outputs": []
    }
  ]
}