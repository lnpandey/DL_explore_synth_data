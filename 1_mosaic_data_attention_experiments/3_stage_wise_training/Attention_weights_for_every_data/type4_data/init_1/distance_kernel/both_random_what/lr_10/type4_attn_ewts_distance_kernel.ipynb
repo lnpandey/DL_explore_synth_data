{
  "nbformat": 4,
  "nbformat_minor": 0,
  "metadata": {
    "accelerator": "GPU",
    "colab": {
      "name": "type4_attn_ewts_distance_kernel.ipynb",
      "provenance": [],
      "collapsed_sections": []
    },
    "kernelspec": {
      "display_name": "Python 3",
      "name": "python3"
    },
    "language_info": {
      "name": "python"
    }
  },
  "cells": [
    {
      "cell_type": "code",
      "metadata": {
        "id": "BWIyC9Ip_bcq"
      },
      "source": [
        "import numpy as np\n",
        "import pandas as pd\n",
        "\n",
        "import torch\n",
        "import torchvision\n",
        "from torch.utils.data import Dataset, DataLoader\n",
        "from torchvision import transforms, utils\n",
        "import torch.nn as nn\n",
        "import torch.nn.functional as F\n",
        "import torch.optim as optim\n",
        "\n",
        "from matplotlib import pyplot as plt\n",
        "\n",
        "\n",
        "from myrmsprop import MyRmsprop\n",
        "from utils import plot_decision_boundary,attn_avg,plot_analysis\n",
        "from synthetic_dataset import MosaicDataset1\n",
        "from eval_model import calculate_attn_loss,analyse_data\n",
        "\n",
        "\n",
        "\n",
        "%matplotlib inline\n",
        "torch.backends.cudnn.deterministic = True\n",
        "torch.backends.cudnn.benchmark = False"
      ],
      "execution_count": 1,
      "outputs": []
    },
    {
      "cell_type": "code",
      "metadata": {
        "id": "lGVy-1EllAc_"
      },
      "source": [
        "train_data = np.load(\"train_type4_data.npy\",allow_pickle=True)\n",
        "\n",
        "test_data = np.load(\"test_type4_data.npy\",allow_pickle=True)"
      ],
      "execution_count": 2,
      "outputs": []
    },
    {
      "cell_type": "code",
      "metadata": {
        "id": "uL771xuGZC5Q"
      },
      "source": [
        "mosaic_list_of_images = train_data[0][\"mosaic_list\"]\n",
        "mosaic_label = train_data[0][\"mosaic_label\"]\n",
        "fore_idx = train_data[0][\"fore_idx\"]\n",
        "\n",
        "\n",
        "test_mosaic_list_of_images = test_data[0][\"mosaic_list\"]\n",
        "test_mosaic_label = test_data[0][\"mosaic_label\"]\n",
        "test_fore_idx = test_data[0][\"fore_idx\"]"
      ],
      "execution_count": 3,
      "outputs": []
    },
    {
      "cell_type": "code",
      "metadata": {
        "id": "uf76JwkxZCT0"
      },
      "source": [
        "batch = 3000\n",
        "train_dataset = MosaicDataset1(mosaic_list_of_images, mosaic_label, fore_idx)\n",
        "train_loader = DataLoader( train_dataset,batch_size= batch ,shuffle=False)\n",
        "#batch = 2000\n",
        "#test_dataset = MosaicDataset1(test_mosaic_list_of_images, test_mosaic_label, test_fore_idx)\n",
        "#test_loader = DataLoader(test_dataset,batch_size= batch ,shuffle=False)"
      ],
      "execution_count": 4,
      "outputs": []
    },
    {
      "cell_type": "code",
      "metadata": {
        "id": "DOpZfj1bq7wN"
      },
      "source": [
        "n_batches = 3000//batch\n",
        "bg = []\n",
        "for i in range(n_batches):\n",
        "  torch.manual_seed(i)\n",
        "  betag = torch.randn(3000,9)#torch.ones((250,9))/9\n",
        "  bg.append( betag.requires_grad_() )"
      ],
      "execution_count": 5,
      "outputs": []
    },
    {
      "cell_type": "code",
      "metadata": {
        "colab": {
          "base_uri": "https://localhost:8080/"
        },
        "id": "fzb3ii4drXpu",
        "outputId": "01c66992-f44f-4c6a-cd71-2bb7a96e4c5a"
      },
      "source": [
        "len(bg)"
      ],
      "execution_count": 6,
      "outputs": [
        {
          "output_type": "execute_result",
          "data": {
            "text/plain": [
              "1"
            ]
          },
          "metadata": {
            "tags": []
          },
          "execution_count": 6
        }
      ]
    },
    {
      "cell_type": "code",
      "metadata": {
        "id": "Am8LcQm1Og-f"
      },
      "source": [
        "data = np.load(\"dist_top1_type4.npy\",allow_pickle=True)\n",
        "indices = data[0]['indices'].numpy()\n",
        "rows,cols = np.unravel_index(indices,shape=(27000,27000))\n",
        "H = torch.zeros((27000,27000))\n",
        "H[rows,cols] =1\n",
        "#H = np.zeros((27000,27000))\n",
        "# for i, data in enumerate(train_loader, 0):\n",
        "#   print(i) # only one batch\n",
        "#   inputs,_,_ = data\n",
        "#   inputs = torch.reshape(inputs,(27000,2))\n",
        "\n",
        "#   dis = (torch.cdist(inputs,inputs)**2).to(dtype=torch.float32).flatten()\n",
        "  \n",
        "  \n",
        "\n",
        "\n",
        "\n",
        "\n"
      ],
      "execution_count": 7,
      "outputs": []
    },
    {
      "cell_type": "code",
      "metadata": {
        "colab": {
          "base_uri": "https://localhost:8080/"
        },
        "id": "vXCBGTnkosew",
        "outputId": "bd3fb289-5c6c-4455-d55a-1c6e01f05809"
      },
      "source": [
        "print(indices,rows[0],cols[0])\n",
        "# to check H contains only 7290000 elements\n",
        "torch.sum(H)"
      ],
      "execution_count": 8,
      "outputs": [
        {
          "output_type": "stream",
          "text": [
            "[ 74846772 640012206 434730224 ... 280650211 180429167 507357022] 2772 2772\n"
          ],
          "name": "stdout"
        },
        {
          "output_type": "execute_result",
          "data": {
            "text/plain": [
              "tensor(7290000.)"
            ]
          },
          "metadata": {
            "tags": []
          },
          "execution_count": 8
        }
      ]
    },
    {
      "cell_type": "code",
      "metadata": {
        "id": "HbrMidFCla6h"
      },
      "source": [
        "class Module2(nn.Module):\n",
        "  def __init__(self):\n",
        "    super(Module2, self).__init__()\n",
        "    self.linear1 = nn.Linear(2,100)\n",
        "    self.linear2 = nn.Linear(100,3)\n",
        "\n",
        "  def forward(self,x):\n",
        "    x = F.relu(self.linear1(x))\n",
        "    x = self.linear2(x)\n",
        "    return x"
      ],
      "execution_count": 9,
      "outputs": []
    },
    {
      "cell_type": "code",
      "metadata": {
        "id": "rRqj2VELllkX"
      },
      "source": [
        "torch.manual_seed(1234)\n",
        "what_net = Module2().double()\n",
        "\n",
        "#what_net.load_state_dict(torch.load(\"type4_what_net.pt\"))\n",
        "what_net = what_net.to(\"cuda\")"
      ],
      "execution_count": 10,
      "outputs": []
    },
    {
      "cell_type": "code",
      "metadata": {
        "id": "sAY-x6UAwrwE"
      },
      "source": [
        "# for param in what_net.parameters():\n",
        "#     param.requires_grad = False"
      ],
      "execution_count": 11,
      "outputs": []
    },
    {
      "cell_type": "code",
      "metadata": {
        "id": "S633XgMToeN3"
      },
      "source": [
        "optim1 = []\n",
        "H= H.to(\"cpu\")\n",
        "for i in range(n_batches):\n",
        "  optim1.append(MyRmsprop([bg[i]],H=H,lr=10))"
      ],
      "execution_count": 12,
      "outputs": []
    },
    {
      "cell_type": "code",
      "metadata": {
        "colab": {
          "base_uri": "https://localhost:8080/"
        },
        "id": "qPaYaojinMTA",
        "outputId": "bf40b8f3-7cba-4378-f9be-95935dd0343e"
      },
      "source": [
        "# instantiate optimizer\n",
        "optimizer_what = optim.RMSprop(what_net.parameters(), lr=0.001)#, momentum=0.9)#,nesterov=True)\n",
        "\n",
        "\n",
        " \n",
        "\n",
        "\n",
        "criterion = nn.CrossEntropyLoss()\n",
        "acti = []\n",
        "analysis_data_tr = []\n",
        "analysis_data_tst = []\n",
        "loss_curi_tr = []\n",
        "loss_curi_tst = []\n",
        "epochs = 200\n",
        "\n",
        "\n",
        "# calculate zeroth epoch loss and FTPT values\n",
        "running_loss,anlys_data,correct,total,accuracy = calculate_attn_loss(train_loader,bg,what_net,criterion)\n",
        "print('training epoch: [%d ] loss: %.3f correct: %.3f, total: %.3f, accuracy: %.3f' %(0,running_loss,correct,total,accuracy)) \n",
        "loss_curi_tr.append(running_loss)\n",
        "analysis_data_tr.append(anlys_data)\n",
        "\n",
        "\n",
        "\n",
        "\n",
        "# training starts \n",
        "for epoch in range(epochs): # loop over the dataset multiple times\n",
        "  ep_lossi = []\n",
        "  running_loss = 0.0\n",
        "  what_net.train()\n",
        "  for i, data in enumerate(train_loader, 0):\n",
        "    # get the inputs\n",
        "    inputs, labels,_  = data\n",
        "    inputs = inputs.double()\n",
        "    beta = bg[i] # alpha for ith batch\n",
        "    #print(labels)\n",
        "    inputs, labels,beta = inputs.to(\"cuda\"),labels.to(\"cuda\"),beta.to(\"cuda\")\n",
        "        \n",
        "    # zero the parameter gradients\n",
        "    optimizer_what.zero_grad()\n",
        "    optim1[i].zero_grad()\n",
        "      \n",
        "    # forward + backward + optimize\n",
        "    avg,alpha = attn_avg(inputs,beta)\n",
        "    outputs = what_net(avg)     \n",
        "    loss = criterion(outputs, labels)\n",
        "\n",
        "    # print statistics\n",
        "    running_loss += loss.item()\n",
        "    #alpha.retain_grad()\n",
        "    loss.backward(retain_graph=False)\n",
        "    optimizer_what.step()\n",
        "    optim1[i].step()\n",
        "\n",
        "\n",
        "  running_loss_tr,anls_data,correct,total,accuracy = calculate_attn_loss(train_loader,bg,what_net,criterion)\n",
        "  analysis_data_tr.append(anls_data)\n",
        "  loss_curi_tr.append(running_loss_tr)   #loss per epoch\n",
        "  print('training epoch: [%d ] loss: %.3f correct: %.3f, total: %.3f, accuracy: %.3f' %(epoch+1,running_loss_tr,correct,total,accuracy)) \n",
        "\n",
        "\n",
        "  \n",
        "  if running_loss_tr<=0.08:\n",
        "    break\n",
        "print('Finished Training run ')\n",
        "analysis_data_tr = np.array(analysis_data_tr)\n",
        "\n"
      ],
      "execution_count": 13,
      "outputs": [
        {
          "output_type": "stream",
          "text": [
            "training epoch: [0 ] loss: 1.478 correct: 971.000, total: 3000.000, accuracy: 0.324\n",
            "training epoch: [1 ] loss: 1.137 correct: 991.000, total: 3000.000, accuracy: 0.330\n",
            "training epoch: [2 ] loss: 1.040 correct: 992.000, total: 3000.000, accuracy: 0.331\n",
            "training epoch: [3 ] loss: 0.979 correct: 1740.000, total: 3000.000, accuracy: 0.580\n",
            "training epoch: [4 ] loss: 0.926 correct: 1979.000, total: 3000.000, accuracy: 0.660\n",
            "training epoch: [5 ] loss: 0.886 correct: 2517.000, total: 3000.000, accuracy: 0.839\n",
            "training epoch: [6 ] loss: 0.852 correct: 1986.000, total: 3000.000, accuracy: 0.662\n",
            "training epoch: [7 ] loss: 0.822 correct: 2378.000, total: 3000.000, accuracy: 0.793\n",
            "training epoch: [8 ] loss: 0.797 correct: 1992.000, total: 3000.000, accuracy: 0.664\n",
            "training epoch: [9 ] loss: 0.774 correct: 2104.000, total: 3000.000, accuracy: 0.701\n",
            "training epoch: [10 ] loss: 0.754 correct: 1997.000, total: 3000.000, accuracy: 0.666\n",
            "training epoch: [11 ] loss: 0.735 correct: 2052.000, total: 3000.000, accuracy: 0.684\n",
            "training epoch: [12 ] loss: 0.715 correct: 2158.000, total: 3000.000, accuracy: 0.719\n",
            "training epoch: [13 ] loss: 0.691 correct: 2348.000, total: 3000.000, accuracy: 0.783\n",
            "training epoch: [14 ] loss: 0.662 correct: 2488.000, total: 3000.000, accuracy: 0.829\n",
            "training epoch: [15 ] loss: 0.634 correct: 2583.000, total: 3000.000, accuracy: 0.861\n",
            "training epoch: [16 ] loss: 0.619 correct: 2616.000, total: 3000.000, accuracy: 0.872\n",
            "training epoch: [17 ] loss: 0.595 correct: 2648.000, total: 3000.000, accuracy: 0.883\n",
            "training epoch: [18 ] loss: 0.583 correct: 2653.000, total: 3000.000, accuracy: 0.884\n",
            "training epoch: [19 ] loss: 0.570 correct: 2666.000, total: 3000.000, accuracy: 0.889\n",
            "training epoch: [20 ] loss: 0.560 correct: 2669.000, total: 3000.000, accuracy: 0.890\n",
            "training epoch: [21 ] loss: 0.550 correct: 2672.000, total: 3000.000, accuracy: 0.891\n",
            "training epoch: [22 ] loss: 0.541 correct: 2673.000, total: 3000.000, accuracy: 0.891\n",
            "training epoch: [23 ] loss: 0.534 correct: 2670.000, total: 3000.000, accuracy: 0.890\n",
            "training epoch: [24 ] loss: 0.525 correct: 2672.000, total: 3000.000, accuracy: 0.891\n",
            "training epoch: [25 ] loss: 0.509 correct: 2689.000, total: 3000.000, accuracy: 0.896\n",
            "training epoch: [26 ] loss: 0.501 correct: 2688.000, total: 3000.000, accuracy: 0.896\n",
            "training epoch: [27 ] loss: 0.493 correct: 2689.000, total: 3000.000, accuracy: 0.896\n",
            "training epoch: [28 ] loss: 0.486 correct: 2692.000, total: 3000.000, accuracy: 0.897\n",
            "training epoch: [29 ] loss: 0.480 correct: 2689.000, total: 3000.000, accuracy: 0.896\n",
            "training epoch: [30 ] loss: 0.479 correct: 2684.000, total: 3000.000, accuracy: 0.895\n",
            "training epoch: [31 ] loss: 0.474 correct: 2684.000, total: 3000.000, accuracy: 0.895\n",
            "training epoch: [32 ] loss: 0.464 correct: 2688.000, total: 3000.000, accuracy: 0.896\n",
            "training epoch: [33 ] loss: 0.458 correct: 2688.000, total: 3000.000, accuracy: 0.896\n",
            "training epoch: [34 ] loss: 0.452 correct: 2689.000, total: 3000.000, accuracy: 0.896\n",
            "training epoch: [35 ] loss: 0.445 correct: 2693.000, total: 3000.000, accuracy: 0.898\n",
            "training epoch: [36 ] loss: 0.439 correct: 2696.000, total: 3000.000, accuracy: 0.899\n",
            "training epoch: [37 ] loss: 0.437 correct: 2691.000, total: 3000.000, accuracy: 0.897\n",
            "training epoch: [38 ] loss: 0.432 correct: 2688.000, total: 3000.000, accuracy: 0.896\n",
            "training epoch: [39 ] loss: 0.431 correct: 2686.000, total: 3000.000, accuracy: 0.895\n",
            "training epoch: [40 ] loss: 0.428 correct: 2685.000, total: 3000.000, accuracy: 0.895\n",
            "training epoch: [41 ] loss: 0.426 correct: 2679.000, total: 3000.000, accuracy: 0.893\n",
            "training epoch: [42 ] loss: 0.423 correct: 2683.000, total: 3000.000, accuracy: 0.894\n",
            "training epoch: [43 ] loss: 0.417 correct: 2680.000, total: 3000.000, accuracy: 0.893\n",
            "training epoch: [44 ] loss: 0.413 correct: 2678.000, total: 3000.000, accuracy: 0.893\n",
            "training epoch: [45 ] loss: 0.417 correct: 2670.000, total: 3000.000, accuracy: 0.890\n",
            "training epoch: [46 ] loss: 0.407 correct: 2676.000, total: 3000.000, accuracy: 0.892\n",
            "training epoch: [47 ] loss: 0.404 correct: 2677.000, total: 3000.000, accuracy: 0.892\n",
            "training epoch: [48 ] loss: 0.401 correct: 2678.000, total: 3000.000, accuracy: 0.893\n",
            "training epoch: [49 ] loss: 0.399 correct: 2676.000, total: 3000.000, accuracy: 0.892\n",
            "training epoch: [50 ] loss: 0.395 correct: 2677.000, total: 3000.000, accuracy: 0.892\n",
            "training epoch: [51 ] loss: 0.392 correct: 2678.000, total: 3000.000, accuracy: 0.893\n",
            "training epoch: [52 ] loss: 0.389 correct: 2679.000, total: 3000.000, accuracy: 0.893\n",
            "training epoch: [53 ] loss: 0.387 correct: 2679.000, total: 3000.000, accuracy: 0.893\n",
            "training epoch: [54 ] loss: 0.384 correct: 2680.000, total: 3000.000, accuracy: 0.893\n",
            "training epoch: [55 ] loss: 0.381 correct: 2682.000, total: 3000.000, accuracy: 0.894\n",
            "training epoch: [56 ] loss: 0.378 correct: 2684.000, total: 3000.000, accuracy: 0.895\n",
            "training epoch: [57 ] loss: 0.375 correct: 2684.000, total: 3000.000, accuracy: 0.895\n",
            "training epoch: [58 ] loss: 0.373 correct: 2684.000, total: 3000.000, accuracy: 0.895\n",
            "training epoch: [59 ] loss: 0.371 correct: 2684.000, total: 3000.000, accuracy: 0.895\n",
            "training epoch: [60 ] loss: 0.369 correct: 2684.000, total: 3000.000, accuracy: 0.895\n",
            "training epoch: [61 ] loss: 0.366 correct: 2684.000, total: 3000.000, accuracy: 0.895\n",
            "training epoch: [62 ] loss: 0.364 correct: 2684.000, total: 3000.000, accuracy: 0.895\n",
            "training epoch: [63 ] loss: 0.362 correct: 2684.000, total: 3000.000, accuracy: 0.895\n",
            "training epoch: [64 ] loss: 0.360 correct: 2684.000, total: 3000.000, accuracy: 0.895\n",
            "training epoch: [65 ] loss: 0.358 correct: 2684.000, total: 3000.000, accuracy: 0.895\n",
            "training epoch: [66 ] loss: 0.357 correct: 2683.000, total: 3000.000, accuracy: 0.894\n",
            "training epoch: [67 ] loss: 0.354 correct: 2684.000, total: 3000.000, accuracy: 0.895\n",
            "training epoch: [68 ] loss: 0.353 correct: 2682.000, total: 3000.000, accuracy: 0.894\n",
            "training epoch: [69 ] loss: 0.350 correct: 2682.000, total: 3000.000, accuracy: 0.894\n",
            "training epoch: [70 ] loss: 0.347 correct: 2684.000, total: 3000.000, accuracy: 0.895\n",
            "training epoch: [71 ] loss: 0.345 correct: 2684.000, total: 3000.000, accuracy: 0.895\n",
            "training epoch: [72 ] loss: 0.343 correct: 2684.000, total: 3000.000, accuracy: 0.895\n",
            "training epoch: [73 ] loss: 0.342 correct: 2684.000, total: 3000.000, accuracy: 0.895\n",
            "training epoch: [74 ] loss: 0.340 correct: 2684.000, total: 3000.000, accuracy: 0.895\n",
            "training epoch: [75 ] loss: 0.338 correct: 2684.000, total: 3000.000, accuracy: 0.895\n",
            "training epoch: [76 ] loss: 0.336 correct: 2684.000, total: 3000.000, accuracy: 0.895\n",
            "training epoch: [77 ] loss: 0.335 correct: 2684.000, total: 3000.000, accuracy: 0.895\n",
            "training epoch: [78 ] loss: 0.333 correct: 2684.000, total: 3000.000, accuracy: 0.895\n",
            "training epoch: [79 ] loss: 0.331 correct: 2684.000, total: 3000.000, accuracy: 0.895\n",
            "training epoch: [80 ] loss: 0.330 correct: 2684.000, total: 3000.000, accuracy: 0.895\n",
            "training epoch: [81 ] loss: 0.328 correct: 2684.000, total: 3000.000, accuracy: 0.895\n",
            "training epoch: [82 ] loss: 0.326 correct: 2684.000, total: 3000.000, accuracy: 0.895\n",
            "training epoch: [83 ] loss: 0.325 correct: 2684.000, total: 3000.000, accuracy: 0.895\n",
            "training epoch: [84 ] loss: 0.323 correct: 2684.000, total: 3000.000, accuracy: 0.895\n",
            "training epoch: [85 ] loss: 0.322 correct: 2684.000, total: 3000.000, accuracy: 0.895\n",
            "training epoch: [86 ] loss: 0.320 correct: 2684.000, total: 3000.000, accuracy: 0.895\n",
            "training epoch: [87 ] loss: 0.319 correct: 2684.000, total: 3000.000, accuracy: 0.895\n",
            "training epoch: [88 ] loss: 0.317 correct: 2685.000, total: 3000.000, accuracy: 0.895\n",
            "training epoch: [89 ] loss: 0.316 correct: 2686.000, total: 3000.000, accuracy: 0.895\n",
            "training epoch: [90 ] loss: 0.314 correct: 2686.000, total: 3000.000, accuracy: 0.895\n",
            "training epoch: [91 ] loss: 0.312 correct: 2686.000, total: 3000.000, accuracy: 0.895\n",
            "training epoch: [92 ] loss: 0.311 correct: 2686.000, total: 3000.000, accuracy: 0.895\n",
            "training epoch: [93 ] loss: 0.309 correct: 2686.000, total: 3000.000, accuracy: 0.895\n",
            "training epoch: [94 ] loss: 0.308 correct: 2685.000, total: 3000.000, accuracy: 0.895\n",
            "training epoch: [95 ] loss: 0.307 correct: 2683.000, total: 3000.000, accuracy: 0.894\n",
            "training epoch: [96 ] loss: 0.307 correct: 2683.000, total: 3000.000, accuracy: 0.894\n",
            "training epoch: [97 ] loss: 0.304 correct: 2683.000, total: 3000.000, accuracy: 0.894\n",
            "training epoch: [98 ] loss: 0.303 correct: 2681.000, total: 3000.000, accuracy: 0.894\n",
            "training epoch: [99 ] loss: 0.307 correct: 2680.000, total: 3000.000, accuracy: 0.893\n",
            "training epoch: [100 ] loss: 0.302 correct: 2678.000, total: 3000.000, accuracy: 0.893\n",
            "training epoch: [101 ] loss: 0.321 correct: 2667.000, total: 3000.000, accuracy: 0.889\n",
            "training epoch: [102 ] loss: 0.312 correct: 2671.000, total: 3000.000, accuracy: 0.890\n",
            "training epoch: [103 ] loss: 0.300 correct: 2673.000, total: 3000.000, accuracy: 0.891\n",
            "training epoch: [104 ] loss: 0.295 correct: 2676.000, total: 3000.000, accuracy: 0.892\n",
            "training epoch: [105 ] loss: 0.294 correct: 2675.000, total: 3000.000, accuracy: 0.892\n",
            "training epoch: [106 ] loss: 0.285 correct: 2680.000, total: 3000.000, accuracy: 0.893\n",
            "training epoch: [107 ] loss: 0.284 correct: 2680.000, total: 3000.000, accuracy: 0.893\n",
            "training epoch: [108 ] loss: 0.282 correct: 2680.000, total: 3000.000, accuracy: 0.893\n",
            "training epoch: [109 ] loss: 0.281 correct: 2680.000, total: 3000.000, accuracy: 0.893\n",
            "training epoch: [110 ] loss: 0.280 correct: 2680.000, total: 3000.000, accuracy: 0.893\n",
            "training epoch: [111 ] loss: 0.278 correct: 2680.000, total: 3000.000, accuracy: 0.893\n",
            "training epoch: [112 ] loss: 0.277 correct: 2680.000, total: 3000.000, accuracy: 0.893\n",
            "training epoch: [113 ] loss: 0.276 correct: 2680.000, total: 3000.000, accuracy: 0.893\n",
            "training epoch: [114 ] loss: 0.275 correct: 2678.000, total: 3000.000, accuracy: 0.893\n",
            "training epoch: [115 ] loss: 0.275 correct: 2672.000, total: 3000.000, accuracy: 0.891\n",
            "training epoch: [116 ] loss: 0.283 correct: 2675.000, total: 3000.000, accuracy: 0.892\n",
            "training epoch: [117 ] loss: 0.280 correct: 2676.000, total: 3000.000, accuracy: 0.892\n",
            "training epoch: [118 ] loss: 0.269 correct: 2676.000, total: 3000.000, accuracy: 0.892\n",
            "training epoch: [119 ] loss: 0.266 correct: 2680.000, total: 3000.000, accuracy: 0.893\n",
            "training epoch: [120 ] loss: 0.265 correct: 2681.000, total: 3000.000, accuracy: 0.894\n",
            "training epoch: [121 ] loss: 0.264 correct: 2681.000, total: 3000.000, accuracy: 0.894\n",
            "training epoch: [122 ] loss: 0.263 correct: 2680.000, total: 3000.000, accuracy: 0.893\n",
            "training epoch: [123 ] loss: 0.261 correct: 2680.000, total: 3000.000, accuracy: 0.893\n",
            "training epoch: [124 ] loss: 0.260 correct: 2680.000, total: 3000.000, accuracy: 0.893\n",
            "training epoch: [125 ] loss: 0.259 correct: 2680.000, total: 3000.000, accuracy: 0.893\n",
            "training epoch: [126 ] loss: 0.258 correct: 2682.000, total: 3000.000, accuracy: 0.894\n",
            "training epoch: [127 ] loss: 0.257 correct: 2681.000, total: 3000.000, accuracy: 0.894\n",
            "training epoch: [128 ] loss: 0.256 correct: 2681.000, total: 3000.000, accuracy: 0.894\n",
            "training epoch: [129 ] loss: 0.254 correct: 2681.000, total: 3000.000, accuracy: 0.894\n",
            "training epoch: [130 ] loss: 0.253 correct: 2682.000, total: 3000.000, accuracy: 0.894\n",
            "training epoch: [131 ] loss: 0.252 correct: 2683.000, total: 3000.000, accuracy: 0.894\n",
            "training epoch: [132 ] loss: 0.251 correct: 2689.000, total: 3000.000, accuracy: 0.896\n",
            "training epoch: [133 ] loss: 0.251 correct: 2697.000, total: 3000.000, accuracy: 0.899\n",
            "training epoch: [134 ] loss: 0.251 correct: 2690.000, total: 3000.000, accuracy: 0.897\n",
            "training epoch: [135 ] loss: 0.250 correct: 2698.000, total: 3000.000, accuracy: 0.899\n",
            "training epoch: [136 ] loss: 0.250 correct: 2692.000, total: 3000.000, accuracy: 0.897\n",
            "training epoch: [137 ] loss: 0.248 correct: 2701.000, total: 3000.000, accuracy: 0.900\n",
            "training epoch: [138 ] loss: 0.247 correct: 2701.000, total: 3000.000, accuracy: 0.900\n",
            "training epoch: [139 ] loss: 0.246 correct: 2704.000, total: 3000.000, accuracy: 0.901\n",
            "training epoch: [140 ] loss: 0.245 correct: 2704.000, total: 3000.000, accuracy: 0.901\n",
            "training epoch: [141 ] loss: 0.244 correct: 2706.000, total: 3000.000, accuracy: 0.902\n",
            "training epoch: [142 ] loss: 0.246 correct: 2701.000, total: 3000.000, accuracy: 0.900\n",
            "training epoch: [143 ] loss: 0.246 correct: 2700.000, total: 3000.000, accuracy: 0.900\n",
            "training epoch: [144 ] loss: 0.245 correct: 2704.000, total: 3000.000, accuracy: 0.901\n",
            "training epoch: [145 ] loss: 0.244 correct: 2711.000, total: 3000.000, accuracy: 0.904\n",
            "training epoch: [146 ] loss: 0.243 correct: 2711.000, total: 3000.000, accuracy: 0.904\n",
            "training epoch: [147 ] loss: 0.242 correct: 2719.000, total: 3000.000, accuracy: 0.906\n",
            "training epoch: [148 ] loss: 0.241 correct: 2719.000, total: 3000.000, accuracy: 0.906\n",
            "training epoch: [149 ] loss: 0.241 correct: 2726.000, total: 3000.000, accuracy: 0.909\n",
            "training epoch: [150 ] loss: 0.240 correct: 2733.000, total: 3000.000, accuracy: 0.911\n",
            "training epoch: [151 ] loss: 0.239 correct: 2735.000, total: 3000.000, accuracy: 0.912\n",
            "training epoch: [152 ] loss: 0.238 correct: 2744.000, total: 3000.000, accuracy: 0.915\n",
            "training epoch: [153 ] loss: 0.237 correct: 2743.000, total: 3000.000, accuracy: 0.914\n",
            "training epoch: [154 ] loss: 0.237 correct: 2745.000, total: 3000.000, accuracy: 0.915\n",
            "training epoch: [155 ] loss: 0.234 correct: 2748.000, total: 3000.000, accuracy: 0.916\n",
            "training epoch: [156 ] loss: 0.233 correct: 2749.000, total: 3000.000, accuracy: 0.916\n",
            "training epoch: [157 ] loss: 0.232 correct: 2751.000, total: 3000.000, accuracy: 0.917\n",
            "training epoch: [158 ] loss: 0.231 correct: 2754.000, total: 3000.000, accuracy: 0.918\n",
            "training epoch: [159 ] loss: 0.230 correct: 2760.000, total: 3000.000, accuracy: 0.920\n",
            "training epoch: [160 ] loss: 0.229 correct: 2767.000, total: 3000.000, accuracy: 0.922\n",
            "training epoch: [161 ] loss: 0.228 correct: 2768.000, total: 3000.000, accuracy: 0.923\n",
            "training epoch: [162 ] loss: 0.228 correct: 2768.000, total: 3000.000, accuracy: 0.923\n",
            "training epoch: [163 ] loss: 0.227 correct: 2773.000, total: 3000.000, accuracy: 0.924\n",
            "training epoch: [164 ] loss: 0.226 correct: 2777.000, total: 3000.000, accuracy: 0.926\n",
            "training epoch: [165 ] loss: 0.224 correct: 2778.000, total: 3000.000, accuracy: 0.926\n",
            "training epoch: [166 ] loss: 0.223 correct: 2785.000, total: 3000.000, accuracy: 0.928\n",
            "training epoch: [167 ] loss: 0.222 correct: 2787.000, total: 3000.000, accuracy: 0.929\n",
            "training epoch: [168 ] loss: 0.221 correct: 2792.000, total: 3000.000, accuracy: 0.931\n",
            "training epoch: [169 ] loss: 0.220 correct: 2797.000, total: 3000.000, accuracy: 0.932\n",
            "training epoch: [170 ] loss: 0.220 correct: 2798.000, total: 3000.000, accuracy: 0.933\n",
            "training epoch: [171 ] loss: 0.219 correct: 2798.000, total: 3000.000, accuracy: 0.933\n",
            "training epoch: [172 ] loss: 0.224 correct: 2803.000, total: 3000.000, accuracy: 0.934\n",
            "training epoch: [173 ] loss: 0.217 correct: 2804.000, total: 3000.000, accuracy: 0.935\n",
            "training epoch: [174 ] loss: 0.225 correct: 2809.000, total: 3000.000, accuracy: 0.936\n",
            "training epoch: [175 ] loss: 0.225 correct: 2796.000, total: 3000.000, accuracy: 0.932\n",
            "training epoch: [176 ] loss: 0.225 correct: 2809.000, total: 3000.000, accuracy: 0.936\n",
            "training epoch: [177 ] loss: 0.221 correct: 2803.000, total: 3000.000, accuracy: 0.934\n",
            "training epoch: [178 ] loss: 0.218 correct: 2821.000, total: 3000.000, accuracy: 0.940\n",
            "training epoch: [179 ] loss: 0.217 correct: 2799.000, total: 3000.000, accuracy: 0.933\n",
            "training epoch: [180 ] loss: 0.217 correct: 2831.000, total: 3000.000, accuracy: 0.944\n",
            "training epoch: [181 ] loss: 0.217 correct: 2810.000, total: 3000.000, accuracy: 0.937\n",
            "training epoch: [182 ] loss: 0.215 correct: 2841.000, total: 3000.000, accuracy: 0.947\n",
            "training epoch: [183 ] loss: 0.213 correct: 2815.000, total: 3000.000, accuracy: 0.938\n",
            "training epoch: [184 ] loss: 0.213 correct: 2850.000, total: 3000.000, accuracy: 0.950\n",
            "training epoch: [185 ] loss: 0.212 correct: 2815.000, total: 3000.000, accuracy: 0.938\n",
            "training epoch: [186 ] loss: 0.211 correct: 2854.000, total: 3000.000, accuracy: 0.951\n",
            "training epoch: [187 ] loss: 0.210 correct: 2815.000, total: 3000.000, accuracy: 0.938\n",
            "training epoch: [188 ] loss: 0.209 correct: 2863.000, total: 3000.000, accuracy: 0.954\n",
            "training epoch: [189 ] loss: 0.209 correct: 2814.000, total: 3000.000, accuracy: 0.938\n",
            "training epoch: [190 ] loss: 0.242 correct: 2852.000, total: 3000.000, accuracy: 0.951\n",
            "training epoch: [191 ] loss: 0.214 correct: 2788.000, total: 3000.000, accuracy: 0.929\n",
            "training epoch: [192 ] loss: 0.213 correct: 2898.000, total: 3000.000, accuracy: 0.966\n",
            "training epoch: [193 ] loss: 0.213 correct: 2784.000, total: 3000.000, accuracy: 0.928\n",
            "training epoch: [194 ] loss: 0.212 correct: 2898.000, total: 3000.000, accuracy: 0.966\n",
            "training epoch: [195 ] loss: 0.212 correct: 2787.000, total: 3000.000, accuracy: 0.929\n",
            "training epoch: [196 ] loss: 0.211 correct: 2895.000, total: 3000.000, accuracy: 0.965\n",
            "training epoch: [197 ] loss: 0.226 correct: 2793.000, total: 3000.000, accuracy: 0.931\n",
            "training epoch: [198 ] loss: 0.212 correct: 2872.000, total: 3000.000, accuracy: 0.957\n",
            "training epoch: [199 ] loss: 0.213 correct: 2825.000, total: 3000.000, accuracy: 0.942\n",
            "training epoch: [200 ] loss: 0.212 correct: 2872.000, total: 3000.000, accuracy: 0.957\n",
            "Finished Training run \n"
          ],
          "name": "stdout"
        }
      ]
    },
    {
      "cell_type": "code",
      "metadata": {
        "id": "AciJnAh5nfug"
      },
      "source": [
        "columns = [\"epochs\", \"argmax > 0.5\" ,\"argmax < 0.5\", \"focus_true_pred_true\", \"focus_false_pred_true\", \"focus_true_pred_false\", \"focus_false_pred_false\" ]\n",
        "df_train = pd.DataFrame()\n",
        "df_test = pd.DataFrame()\n",
        "df_train[columns[0]] = np.arange(0,epoch+2)\n",
        "df_train[columns[1]] = analysis_data_tr[:,-2]/30\n",
        "df_train[columns[2]] = analysis_data_tr[:,-1]/30\n",
        "df_train[columns[3]] = analysis_data_tr[:,0]/30\n",
        "df_train[columns[4]] = analysis_data_tr[:,1]/30\n",
        "df_train[columns[5]] = analysis_data_tr[:,2]/30\n",
        "df_train[columns[6]] = analysis_data_tr[:,3]/30"
      ],
      "execution_count": 14,
      "outputs": []
    },
    {
      "cell_type": "code",
      "metadata": {
        "colab": {
          "base_uri": "https://localhost:8080/",
          "height": 456
        },
        "id": "NoQpS_6scRsC",
        "outputId": "34696265-2cb2-46cb-b545-425085620287"
      },
      "source": [
        "df_train"
      ],
      "execution_count": 15,
      "outputs": [
        {
          "output_type": "execute_result",
          "data": {
            "text/html": [
              "<div>\n",
              "<style scoped>\n",
              "    .dataframe tbody tr th:only-of-type {\n",
              "        vertical-align: middle;\n",
              "    }\n",
              "\n",
              "    .dataframe tbody tr th {\n",
              "        vertical-align: top;\n",
              "    }\n",
              "\n",
              "    .dataframe thead th {\n",
              "        text-align: right;\n",
              "    }\n",
              "</style>\n",
              "<table border=\"1\" class=\"dataframe\">\n",
              "  <thead>\n",
              "    <tr style=\"text-align: right;\">\n",
              "      <th></th>\n",
              "      <th>epochs</th>\n",
              "      <th>argmax &gt; 0.5</th>\n",
              "      <th>argmax &lt; 0.5</th>\n",
              "      <th>focus_true_pred_true</th>\n",
              "      <th>focus_false_pred_true</th>\n",
              "      <th>focus_true_pred_false</th>\n",
              "      <th>focus_false_pred_false</th>\n",
              "    </tr>\n",
              "  </thead>\n",
              "  <tbody>\n",
              "    <tr>\n",
              "      <th>0</th>\n",
              "      <td>0</td>\n",
              "      <td>9.800000</td>\n",
              "      <td>90.200000</td>\n",
              "      <td>3.800000</td>\n",
              "      <td>28.566667</td>\n",
              "      <td>7.966667</td>\n",
              "      <td>59.666667</td>\n",
              "    </tr>\n",
              "    <tr>\n",
              "      <th>1</th>\n",
              "      <td>1</td>\n",
              "      <td>49.866667</td>\n",
              "      <td>50.133333</td>\n",
              "      <td>0.033333</td>\n",
              "      <td>33.000000</td>\n",
              "      <td>15.433333</td>\n",
              "      <td>51.533333</td>\n",
              "    </tr>\n",
              "    <tr>\n",
              "      <th>2</th>\n",
              "      <td>2</td>\n",
              "      <td>99.433333</td>\n",
              "      <td>0.566667</td>\n",
              "      <td>29.133333</td>\n",
              "      <td>3.933333</td>\n",
              "      <td>32.266667</td>\n",
              "      <td>34.666667</td>\n",
              "    </tr>\n",
              "    <tr>\n",
              "      <th>3</th>\n",
              "      <td>3</td>\n",
              "      <td>99.766667</td>\n",
              "      <td>0.233333</td>\n",
              "      <td>31.866667</td>\n",
              "      <td>26.133333</td>\n",
              "      <td>32.833333</td>\n",
              "      <td>9.166667</td>\n",
              "    </tr>\n",
              "    <tr>\n",
              "      <th>4</th>\n",
              "      <td>4</td>\n",
              "      <td>99.833333</td>\n",
              "      <td>0.166667</td>\n",
              "      <td>64.266667</td>\n",
              "      <td>1.700000</td>\n",
              "      <td>0.533333</td>\n",
              "      <td>33.500000</td>\n",
              "    </tr>\n",
              "    <tr>\n",
              "      <th>...</th>\n",
              "      <td>...</td>\n",
              "      <td>...</td>\n",
              "      <td>...</td>\n",
              "      <td>...</td>\n",
              "      <td>...</td>\n",
              "      <td>...</td>\n",
              "      <td>...</td>\n",
              "    </tr>\n",
              "    <tr>\n",
              "      <th>196</th>\n",
              "      <td>196</td>\n",
              "      <td>100.000000</td>\n",
              "      <td>0.000000</td>\n",
              "      <td>66.166667</td>\n",
              "      <td>30.333333</td>\n",
              "      <td>0.200000</td>\n",
              "      <td>3.300000</td>\n",
              "    </tr>\n",
              "    <tr>\n",
              "      <th>197</th>\n",
              "      <td>197</td>\n",
              "      <td>100.000000</td>\n",
              "      <td>0.000000</td>\n",
              "      <td>65.933333</td>\n",
              "      <td>27.166667</td>\n",
              "      <td>0.200000</td>\n",
              "      <td>6.700000</td>\n",
              "    </tr>\n",
              "    <tr>\n",
              "      <th>198</th>\n",
              "      <td>198</td>\n",
              "      <td>100.000000</td>\n",
              "      <td>0.000000</td>\n",
              "      <td>66.133333</td>\n",
              "      <td>29.600000</td>\n",
              "      <td>0.200000</td>\n",
              "      <td>4.066667</td>\n",
              "    </tr>\n",
              "    <tr>\n",
              "      <th>199</th>\n",
              "      <td>199</td>\n",
              "      <td>100.000000</td>\n",
              "      <td>0.000000</td>\n",
              "      <td>66.100000</td>\n",
              "      <td>28.066667</td>\n",
              "      <td>0.200000</td>\n",
              "      <td>5.633333</td>\n",
              "    </tr>\n",
              "    <tr>\n",
              "      <th>200</th>\n",
              "      <td>200</td>\n",
              "      <td>100.000000</td>\n",
              "      <td>0.000000</td>\n",
              "      <td>66.100000</td>\n",
              "      <td>29.633333</td>\n",
              "      <td>0.200000</td>\n",
              "      <td>4.066667</td>\n",
              "    </tr>\n",
              "  </tbody>\n",
              "</table>\n",
              "<p>201 rows × 7 columns</p>\n",
              "</div>"
            ],
            "text/plain": [
              "     epochs  argmax > 0.5  ...  focus_true_pred_false  focus_false_pred_false\n",
              "0         0      9.800000  ...               7.966667               59.666667\n",
              "1         1     49.866667  ...              15.433333               51.533333\n",
              "2         2     99.433333  ...              32.266667               34.666667\n",
              "3         3     99.766667  ...              32.833333                9.166667\n",
              "4         4     99.833333  ...               0.533333               33.500000\n",
              "..      ...           ...  ...                    ...                     ...\n",
              "196     196    100.000000  ...               0.200000                3.300000\n",
              "197     197    100.000000  ...               0.200000                6.700000\n",
              "198     198    100.000000  ...               0.200000                4.066667\n",
              "199     199    100.000000  ...               0.200000                5.633333\n",
              "200     200    100.000000  ...               0.200000                4.066667\n",
              "\n",
              "[201 rows x 7 columns]"
            ]
          },
          "metadata": {
            "tags": []
          },
          "execution_count": 15
        }
      ]
    },
    {
      "cell_type": "code",
      "metadata": {
        "colab": {
          "base_uri": "https://localhost:8080/",
          "height": 404
        },
        "id": "EY_j8B274vuH",
        "outputId": "a6c0779b-30de-4f77-9dc4-0b76b4f1d696"
      },
      "source": [
        "plot_analysis(df_train,columns)"
      ],
      "execution_count": 16,
      "outputs": [
        {
          "output_type": "display_data",
          "data": {
            "image/png": "[encoded data removed]",
            "text/plain": [
              "<Figure size 432x432 with 1 Axes>"
            ]
          },
          "metadata": {
            "tags": [],
            "needs_background": "light"
          }
        }
      ]
    },
    {
      "cell_type": "code",
      "metadata": {
        "id": "VCnS6r2_3WdU"
      },
      "source": [
        "aph = []\n",
        "for i in bg:\n",
        "  aph.append(F.softmax(i,dim=1).detach().numpy())\n",
        "  \n",
        "aph = np.concatenate(aph,axis=0)\n",
        "# torch.save({\n",
        "#             'epoch': 500,\n",
        "#             'model_state_dict': what_net.state_dict(),\n",
        "#             #'optimizer_state_dict': optimizer_what.state_dict(),\n",
        "#             \"optimizer_alpha\":optim1,\n",
        "#             \"FTPT_analysis\":analysis_data_tr,\n",
        "#             \"alpha\":aph\n",
        "\n",
        "#             }, \"type4_what_net_500.pt\")"
      ],
      "execution_count": 17,
      "outputs": []
    },
    {
      "cell_type": "code",
      "metadata": {
        "colab": {
          "base_uri": "https://localhost:8080/"
        },
        "id": "KVzrDOGS4UxU",
        "outputId": "e0a53075-57c1-476c-ffa0-4af96b6027d5"
      },
      "source": [
        "aph[0]"
      ],
      "execution_count": 18,
      "outputs": [
        {
          "output_type": "execute_result",
          "data": {
            "text/plain": [
              "array([0., 0., 0., 1., 0., 0., 0., 0., 0.], dtype=float32)"
            ]
          },
          "metadata": {
            "tags": []
          },
          "execution_count": 18
        }
      ]
    },
    {
      "cell_type": "code",
      "metadata": {
        "id": "7Ut6ZTAXbvqx"
      },
      "source": [
        "avrg = []\n",
        "with torch.no_grad():\n",
        "  for i, data1 in  enumerate(train_loader):\n",
        "          inputs , labels , fore_idx = data1\n",
        "          inputs = inputs.double()\n",
        "          inputs, labels = inputs.to(\"cuda\"),labels.to(\"cuda\")\n",
        "          beta  = bg[i]\n",
        "          beta = beta.to(\"cuda\")\n",
        "          avg,alpha = attn_avg(inputs,beta)\n",
        "          \n",
        "          avrg.append(avg.detach().cpu().numpy())\n",
        "avrg= np.concatenate(avrg,axis=0)"
      ],
      "execution_count": 19,
      "outputs": []
    },
    {
      "cell_type": "code",
      "metadata": {
        "id": "2KQFYlmTLG0N",
        "colab": {
          "base_uri": "https://localhost:8080/",
          "height": 374
        },
        "outputId": "a1fb872c-4ec0-4dda-cde2-783be0adf2b9"
      },
      "source": [
        "data = np.load(\"type_4_data.npy\",allow_pickle=True)\n",
        "plot_decision_boundary(what_net,[1,8,2,9],data,bg,avrg)"
      ],
      "execution_count": 20,
      "outputs": [
        {
          "output_type": "display_data",
          "data": {
            "image/png": "[encoded data removed]",
            "text/plain": [
              "<Figure size 432x432 with 1 Axes>"
            ]
          },
          "metadata": {
            "tags": [],
            "needs_background": "light"
          }
        }
      ]
    },
    {
      "cell_type": "code",
      "metadata": {
        "id": "0TlpHSOC0hfk"
      },
      "source": [
        ""
      ],
      "execution_count": 20,
      "outputs": []
    }
  ]
}