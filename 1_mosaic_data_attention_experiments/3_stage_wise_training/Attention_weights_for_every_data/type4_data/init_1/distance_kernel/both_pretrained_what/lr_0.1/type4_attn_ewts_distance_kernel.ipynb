{
  "nbformat": 4,
  "nbformat_minor": 0,
  "metadata": {
    "accelerator": "GPU",
    "colab": {
      "name": "type4_attn_ewts_distance_kernel.ipynb",
      "provenance": [],
      "collapsed_sections": []
    },
    "kernelspec": {
      "display_name": "Python 3",
      "name": "python3"
    },
    "language_info": {
      "name": "python"
    }
  },
  "cells": [
    {
      "cell_type": "code",
      "metadata": {
        "id": "BWIyC9Ip_bcq"
      },
      "source": [
        "import numpy as np\n",
        "import pandas as pd\n",
        "\n",
        "import torch\n",
        "import torchvision\n",
        "from torch.utils.data import Dataset, DataLoader\n",
        "from torchvision import transforms, utils\n",
        "import torch.nn as nn\n",
        "import torch.nn.functional as F\n",
        "import torch.optim as optim\n",
        "\n",
        "from matplotlib import pyplot as plt\n",
        "\n",
        "\n",
        "from myrmsprop import MyRmsprop\n",
        "from utils import plot_decision_boundary,attn_avg,plot_analysis\n",
        "from synthetic_dataset import MosaicDataset1\n",
        "from eval_model import calculate_attn_loss,analyse_data\n",
        "\n",
        "\n",
        "\n",
        "%matplotlib inline\n",
        "torch.backends.cudnn.deterministic = True\n",
        "torch.backends.cudnn.benchmark = False"
      ],
      "execution_count": 1,
      "outputs": []
    },
    {
      "cell_type": "code",
      "metadata": {
        "id": "lGVy-1EllAc_"
      },
      "source": [
        "train_data = np.load(\"train_type4_data.npy\",allow_pickle=True)\n",
        "\n",
        "test_data = np.load(\"test_type4_data.npy\",allow_pickle=True)"
      ],
      "execution_count": 2,
      "outputs": []
    },
    {
      "cell_type": "code",
      "metadata": {
        "id": "uL771xuGZC5Q"
      },
      "source": [
        "mosaic_list_of_images = train_data[0][\"mosaic_list\"]\n",
        "mosaic_label = train_data[0][\"mosaic_label\"]\n",
        "fore_idx = train_data[0][\"fore_idx\"]\n",
        "\n",
        "\n",
        "test_mosaic_list_of_images = test_data[0][\"mosaic_list\"]\n",
        "test_mosaic_label = test_data[0][\"mosaic_label\"]\n",
        "test_fore_idx = test_data[0][\"fore_idx\"]"
      ],
      "execution_count": 3,
      "outputs": []
    },
    {
      "cell_type": "code",
      "metadata": {
        "id": "uf76JwkxZCT0"
      },
      "source": [
        "batch = 3000\n",
        "train_dataset = MosaicDataset1(mosaic_list_of_images, mosaic_label, fore_idx)\n",
        "train_loader = DataLoader( train_dataset,batch_size= batch ,shuffle=False)\n",
        "#batch = 2000\n",
        "#test_dataset = MosaicDataset1(test_mosaic_list_of_images, test_mosaic_label, test_fore_idx)\n",
        "#test_loader = DataLoader(test_dataset,batch_size= batch ,shuffle=False)"
      ],
      "execution_count": 4,
      "outputs": []
    },
    {
      "cell_type": "code",
      "metadata": {
        "id": "DOpZfj1bq7wN"
      },
      "source": [
        "n_batches = 3000//batch\n",
        "bg = []\n",
        "for i in range(n_batches):\n",
        "  torch.manual_seed(i)\n",
        "  betag = torch.randn(3000,9)#torch.ones((250,9))/9\n",
        "  bg.append( betag.requires_grad_() )"
      ],
      "execution_count": 5,
      "outputs": []
    },
    {
      "cell_type": "code",
      "metadata": {
        "colab": {
          "base_uri": "https://localhost:8080/"
        },
        "id": "fzb3ii4drXpu",
        "outputId": "94d7af9a-7396-4513-cf6c-521aaf8d1165"
      },
      "source": [
        "len(bg)"
      ],
      "execution_count": 6,
      "outputs": [
        {
          "output_type": "execute_result",
          "data": {
            "text/plain": [
              "1"
            ]
          },
          "metadata": {
            "tags": []
          },
          "execution_count": 6
        }
      ]
    },
    {
      "cell_type": "code",
      "metadata": {
        "id": "Am8LcQm1Og-f"
      },
      "source": [
        "data = np.load(\"dist_top1_type4.npy\",allow_pickle=True)\n",
        "indices = data[0]['indices'].numpy()\n",
        "rows,cols = np.unravel_index(indices,shape=(27000,27000))\n",
        "H = torch.zeros((27000,27000))\n",
        "H[rows,cols] =1\n",
        "#H = np.zeros((27000,27000))\n",
        "# for i, data in enumerate(train_loader, 0):\n",
        "#   print(i) # only one batch\n",
        "#   inputs,_,_ = data\n",
        "#   inputs = torch.reshape(inputs,(27000,2))\n",
        "\n",
        "#   dis = (torch.cdist(inputs,inputs)**2).to(dtype=torch.float32).flatten()\n",
        "  \n",
        "  \n",
        "\n",
        "\n",
        "\n",
        "\n"
      ],
      "execution_count": 7,
      "outputs": []
    },
    {
      "cell_type": "code",
      "metadata": {
        "colab": {
          "base_uri": "https://localhost:8080/"
        },
        "id": "vXCBGTnkosew",
        "outputId": "91e2ce9a-f27d-4062-9b37-784c1aeaa0cd"
      },
      "source": [
        "print(indices,rows[0],cols[0])\n",
        "# to check H contains only 7290000 elements\n",
        "torch.sum(H)"
      ],
      "execution_count": 8,
      "outputs": [
        {
          "output_type": "stream",
          "text": [
            "[ 74846772 640012206 434730224 ... 280650211 180429167 507357022] 2772 2772\n"
          ],
          "name": "stdout"
        },
        {
          "output_type": "execute_result",
          "data": {
            "text/plain": [
              "tensor(7290000.)"
            ]
          },
          "metadata": {
            "tags": []
          },
          "execution_count": 8
        }
      ]
    },
    {
      "cell_type": "code",
      "metadata": {
        "id": "HbrMidFCla6h"
      },
      "source": [
        "class Module2(nn.Module):\n",
        "  def __init__(self):\n",
        "    super(Module2, self).__init__()\n",
        "    self.linear1 = nn.Linear(2,100)\n",
        "    self.linear2 = nn.Linear(100,3)\n",
        "\n",
        "  def forward(self,x):\n",
        "    x = F.relu(self.linear1(x))\n",
        "    x = self.linear2(x)\n",
        "    return x"
      ],
      "execution_count": 9,
      "outputs": []
    },
    {
      "cell_type": "code",
      "metadata": {
        "id": "rRqj2VELllkX"
      },
      "source": [
        "torch.manual_seed(1234)\n",
        "what_net = Module2().double()\n",
        "\n",
        "what_net.load_state_dict(torch.load(\"type4_what_net.pt\"))\n",
        "what_net = what_net.to(\"cuda\")"
      ],
      "execution_count": 10,
      "outputs": []
    },
    {
      "cell_type": "code",
      "metadata": {
        "id": "sAY-x6UAwrwE"
      },
      "source": [
        "# for param in what_net.parameters():\n",
        "#     param.requires_grad = False"
      ],
      "execution_count": 11,
      "outputs": []
    },
    {
      "cell_type": "code",
      "metadata": {
        "id": "S633XgMToeN3"
      },
      "source": [
        "optim1 = []\n",
        "H= H.to(\"cpu\")\n",
        "for i in range(n_batches):\n",
        "  optim1.append(MyRmsprop([bg[i]],H=H,lr=0.1))"
      ],
      "execution_count": 12,
      "outputs": []
    },
    {
      "cell_type": "code",
      "metadata": {
        "colab": {
          "base_uri": "https://localhost:8080/"
        },
        "id": "qPaYaojinMTA",
        "outputId": "4449e22f-c28a-4a53-8d25-92c520917f82"
      },
      "source": [
        "# instantiate optimizer\n",
        "optimizer_what = optim.RMSprop(what_net.parameters(), lr=0.001)#, momentum=0.9)#,nesterov=True)\n",
        "\n",
        "\n",
        " \n",
        "\n",
        "\n",
        "criterion = nn.CrossEntropyLoss()\n",
        "acti = []\n",
        "analysis_data_tr = []\n",
        "analysis_data_tst = []\n",
        "loss_curi_tr = []\n",
        "loss_curi_tst = []\n",
        "epochs = 200\n",
        "\n",
        "\n",
        "# calculate zeroth epoch loss and FTPT values\n",
        "running_loss,anlys_data,correct,total,accuracy = calculate_attn_loss(train_loader,bg,what_net,criterion)\n",
        "print('training epoch: [%d ] loss: %.3f correct: %.3f, total: %.3f, accuracy: %.3f' %(0,running_loss,correct,total,accuracy)) \n",
        "loss_curi_tr.append(running_loss)\n",
        "analysis_data_tr.append(anlys_data)\n",
        "\n",
        "\n",
        "\n",
        "\n",
        "# training starts \n",
        "for epoch in range(epochs): # loop over the dataset multiple times\n",
        "  ep_lossi = []\n",
        "  running_loss = 0.0\n",
        "  what_net.train()\n",
        "  for i, data in enumerate(train_loader, 0):\n",
        "    # get the inputs\n",
        "    inputs, labels,_  = data\n",
        "    inputs = inputs.double()\n",
        "    beta = bg[i] # alpha for ith batch\n",
        "    #print(labels)\n",
        "    inputs, labels,beta = inputs.to(\"cuda\"),labels.to(\"cuda\"),beta.to(\"cuda\")\n",
        "        \n",
        "    # zero the parameter gradients\n",
        "    optimizer_what.zero_grad()\n",
        "    optim1[i].zero_grad()\n",
        "      \n",
        "    # forward + backward + optimize\n",
        "    avg,alpha = attn_avg(inputs,beta)\n",
        "    outputs = what_net(avg)     \n",
        "    loss = criterion(outputs, labels)\n",
        "\n",
        "    # print statistics\n",
        "    running_loss += loss.item()\n",
        "    #alpha.retain_grad()\n",
        "    loss.backward(retain_graph=False)\n",
        "    optimizer_what.step()\n",
        "    optim1[i].step()\n",
        "\n",
        "\n",
        "  running_loss_tr,anls_data,correct,total,accuracy = calculate_attn_loss(train_loader,bg,what_net,criterion)\n",
        "  analysis_data_tr.append(anls_data)\n",
        "  loss_curi_tr.append(running_loss_tr)   #loss per epoch\n",
        "  print('training epoch: [%d ] loss: %.3f correct: %.3f, total: %.3f, accuracy: %.3f' %(epoch+1,running_loss_tr,correct,total,accuracy)) \n",
        "\n",
        "\n",
        "  \n",
        "  if running_loss_tr<=0.08:\n",
        "    break\n",
        "print('Finished Training run ')\n",
        "analysis_data_tr = np.array(analysis_data_tr)\n",
        "\n"
      ],
      "execution_count": 13,
      "outputs": [
        {
          "output_type": "stream",
          "text": [
            "training epoch: [0 ] loss: 10.201 correct: 1133.000, total: 3000.000, accuracy: 0.378\n",
            "training epoch: [1 ] loss: 7.511 correct: 1361.000, total: 3000.000, accuracy: 0.454\n",
            "training epoch: [2 ] loss: 3.805 correct: 1634.000, total: 3000.000, accuracy: 0.545\n",
            "training epoch: [3 ] loss: 1.905 correct: 2055.000, total: 3000.000, accuracy: 0.685\n",
            "training epoch: [4 ] loss: 1.188 correct: 2162.000, total: 3000.000, accuracy: 0.721\n",
            "training epoch: [5 ] loss: 0.820 correct: 2404.000, total: 3000.000, accuracy: 0.801\n",
            "training epoch: [6 ] loss: 0.604 correct: 2489.000, total: 3000.000, accuracy: 0.830\n",
            "training epoch: [7 ] loss: 0.469 correct: 2598.000, total: 3000.000, accuracy: 0.866\n",
            "training epoch: [8 ] loss: 0.379 correct: 2654.000, total: 3000.000, accuracy: 0.885\n",
            "training epoch: [9 ] loss: 0.313 correct: 2718.000, total: 3000.000, accuracy: 0.906\n",
            "training epoch: [10 ] loss: 0.266 correct: 2754.000, total: 3000.000, accuracy: 0.918\n",
            "training epoch: [11 ] loss: 0.231 correct: 2793.000, total: 3000.000, accuracy: 0.931\n",
            "training epoch: [12 ] loss: 0.204 correct: 2816.000, total: 3000.000, accuracy: 0.939\n",
            "training epoch: [13 ] loss: 0.182 correct: 2839.000, total: 3000.000, accuracy: 0.946\n",
            "training epoch: [14 ] loss: 0.163 correct: 2856.000, total: 3000.000, accuracy: 0.952\n",
            "training epoch: [15 ] loss: 0.149 correct: 2862.000, total: 3000.000, accuracy: 0.954\n",
            "training epoch: [16 ] loss: 0.136 correct: 2875.000, total: 3000.000, accuracy: 0.958\n",
            "training epoch: [17 ] loss: 0.126 correct: 2885.000, total: 3000.000, accuracy: 0.962\n",
            "training epoch: [18 ] loss: 0.117 correct: 2896.000, total: 3000.000, accuracy: 0.965\n",
            "training epoch: [19 ] loss: 0.110 correct: 2906.000, total: 3000.000, accuracy: 0.969\n",
            "training epoch: [20 ] loss: 0.104 correct: 2912.000, total: 3000.000, accuracy: 0.971\n",
            "training epoch: [21 ] loss: 0.098 correct: 2920.000, total: 3000.000, accuracy: 0.973\n",
            "training epoch: [22 ] loss: 0.094 correct: 2927.000, total: 3000.000, accuracy: 0.976\n",
            "training epoch: [23 ] loss: 0.090 correct: 2932.000, total: 3000.000, accuracy: 0.977\n",
            "training epoch: [24 ] loss: 0.086 correct: 2938.000, total: 3000.000, accuracy: 0.979\n",
            "training epoch: [25 ] loss: 0.082 correct: 2944.000, total: 3000.000, accuracy: 0.981\n",
            "training epoch: [26 ] loss: 0.079 correct: 2945.000, total: 3000.000, accuracy: 0.982\n",
            "Finished Training run \n"
          ],
          "name": "stdout"
        }
      ]
    },
    {
      "cell_type": "code",
      "metadata": {
        "id": "AciJnAh5nfug"
      },
      "source": [
        "columns = [\"epochs\", \"argmax > 0.5\" ,\"argmax < 0.5\", \"focus_true_pred_true\", \"focus_false_pred_true\", \"focus_true_pred_false\", \"focus_false_pred_false\" ]\n",
        "df_train = pd.DataFrame()\n",
        "df_test = pd.DataFrame()\n",
        "df_train[columns[0]] = np.arange(0,epoch+2)\n",
        "df_train[columns[1]] = analysis_data_tr[:,-2]/30\n",
        "df_train[columns[2]] = analysis_data_tr[:,-1]/30\n",
        "df_train[columns[3]] = analysis_data_tr[:,0]/30\n",
        "df_train[columns[4]] = analysis_data_tr[:,1]/30\n",
        "df_train[columns[5]] = analysis_data_tr[:,2]/30\n",
        "df_train[columns[6]] = analysis_data_tr[:,3]/30"
      ],
      "execution_count": 14,
      "outputs": []
    },
    {
      "cell_type": "code",
      "metadata": {
        "colab": {
          "base_uri": "https://localhost:8080/",
          "height": 923
        },
        "id": "NoQpS_6scRsC",
        "outputId": "42809c35-3c50-47a2-9e01-355e9cfd2d46"
      },
      "source": [
        "df_train"
      ],
      "execution_count": 15,
      "outputs": [
        {
          "output_type": "execute_result",
          "data": {
            "text/html": [
              "<div>\n",
              "<style scoped>\n",
              "    .dataframe tbody tr th:only-of-type {\n",
              "        vertical-align: middle;\n",
              "    }\n",
              "\n",
              "    .dataframe tbody tr th {\n",
              "        vertical-align: top;\n",
              "    }\n",
              "\n",
              "    .dataframe thead th {\n",
              "        text-align: right;\n",
              "    }\n",
              "</style>\n",
              "<table border=\"1\" class=\"dataframe\">\n",
              "  <thead>\n",
              "    <tr style=\"text-align: right;\">\n",
              "      <th></th>\n",
              "      <th>epochs</th>\n",
              "      <th>argmax &gt; 0.5</th>\n",
              "      <th>argmax &lt; 0.5</th>\n",
              "      <th>focus_true_pred_true</th>\n",
              "      <th>focus_false_pred_true</th>\n",
              "      <th>focus_true_pred_false</th>\n",
              "      <th>focus_false_pred_false</th>\n",
              "    </tr>\n",
              "  </thead>\n",
              "  <tbody>\n",
              "    <tr>\n",
              "      <th>0</th>\n",
              "      <td>0</td>\n",
              "      <td>9.800000</td>\n",
              "      <td>90.200000</td>\n",
              "      <td>5.233333</td>\n",
              "      <td>32.533333</td>\n",
              "      <td>6.533333</td>\n",
              "      <td>55.700000</td>\n",
              "    </tr>\n",
              "    <tr>\n",
              "      <th>1</th>\n",
              "      <td>1</td>\n",
              "      <td>27.366667</td>\n",
              "      <td>72.633333</td>\n",
              "      <td>15.333333</td>\n",
              "      <td>30.033333</td>\n",
              "      <td>11.066667</td>\n",
              "      <td>43.566667</td>\n",
              "    </tr>\n",
              "    <tr>\n",
              "      <th>2</th>\n",
              "      <td>2</td>\n",
              "      <td>37.166667</td>\n",
              "      <td>62.833333</td>\n",
              "      <td>32.500000</td>\n",
              "      <td>21.966667</td>\n",
              "      <td>16.966667</td>\n",
              "      <td>28.566667</td>\n",
              "    </tr>\n",
              "    <tr>\n",
              "      <th>3</th>\n",
              "      <td>3</td>\n",
              "      <td>52.166667</td>\n",
              "      <td>47.833333</td>\n",
              "      <td>47.466667</td>\n",
              "      <td>21.033333</td>\n",
              "      <td>13.133333</td>\n",
              "      <td>18.366667</td>\n",
              "    </tr>\n",
              "    <tr>\n",
              "      <th>4</th>\n",
              "      <td>4</td>\n",
              "      <td>65.300000</td>\n",
              "      <td>34.700000</td>\n",
              "      <td>55.866667</td>\n",
              "      <td>16.200000</td>\n",
              "      <td>18.066667</td>\n",
              "      <td>9.866667</td>\n",
              "    </tr>\n",
              "    <tr>\n",
              "      <th>5</th>\n",
              "      <td>5</td>\n",
              "      <td>71.800000</td>\n",
              "      <td>28.200000</td>\n",
              "      <td>65.533333</td>\n",
              "      <td>14.600000</td>\n",
              "      <td>12.500000</td>\n",
              "      <td>7.366667</td>\n",
              "    </tr>\n",
              "    <tr>\n",
              "      <th>6</th>\n",
              "      <td>6</td>\n",
              "      <td>77.666667</td>\n",
              "      <td>22.333333</td>\n",
              "      <td>70.533333</td>\n",
              "      <td>12.433333</td>\n",
              "      <td>12.133333</td>\n",
              "      <td>4.900000</td>\n",
              "    </tr>\n",
              "    <tr>\n",
              "      <th>7</th>\n",
              "      <td>7</td>\n",
              "      <td>80.800000</td>\n",
              "      <td>19.200000</td>\n",
              "      <td>75.200000</td>\n",
              "      <td>11.400000</td>\n",
              "      <td>9.400000</td>\n",
              "      <td>4.000000</td>\n",
              "    </tr>\n",
              "    <tr>\n",
              "      <th>8</th>\n",
              "      <td>8</td>\n",
              "      <td>83.333333</td>\n",
              "      <td>16.666667</td>\n",
              "      <td>77.566667</td>\n",
              "      <td>10.900000</td>\n",
              "      <td>8.566667</td>\n",
              "      <td>2.966667</td>\n",
              "    </tr>\n",
              "    <tr>\n",
              "      <th>9</th>\n",
              "      <td>9</td>\n",
              "      <td>85.466667</td>\n",
              "      <td>14.533333</td>\n",
              "      <td>80.600000</td>\n",
              "      <td>10.000000</td>\n",
              "      <td>6.933333</td>\n",
              "      <td>2.466667</td>\n",
              "    </tr>\n",
              "    <tr>\n",
              "      <th>10</th>\n",
              "      <td>10</td>\n",
              "      <td>87.100000</td>\n",
              "      <td>12.900000</td>\n",
              "      <td>82.900000</td>\n",
              "      <td>8.900000</td>\n",
              "      <td>5.966667</td>\n",
              "      <td>2.233333</td>\n",
              "    </tr>\n",
              "    <tr>\n",
              "      <th>11</th>\n",
              "      <td>11</td>\n",
              "      <td>88.533333</td>\n",
              "      <td>11.466667</td>\n",
              "      <td>84.566667</td>\n",
              "      <td>8.533333</td>\n",
              "      <td>5.133333</td>\n",
              "      <td>1.766667</td>\n",
              "    </tr>\n",
              "    <tr>\n",
              "      <th>12</th>\n",
              "      <td>12</td>\n",
              "      <td>88.933333</td>\n",
              "      <td>11.066667</td>\n",
              "      <td>85.733333</td>\n",
              "      <td>8.133333</td>\n",
              "      <td>4.566667</td>\n",
              "      <td>1.566667</td>\n",
              "    </tr>\n",
              "    <tr>\n",
              "      <th>13</th>\n",
              "      <td>13</td>\n",
              "      <td>89.066667</td>\n",
              "      <td>10.933333</td>\n",
              "      <td>86.800000</td>\n",
              "      <td>7.833333</td>\n",
              "      <td>4.033333</td>\n",
              "      <td>1.333333</td>\n",
              "    </tr>\n",
              "    <tr>\n",
              "      <th>14</th>\n",
              "      <td>14</td>\n",
              "      <td>89.833333</td>\n",
              "      <td>10.166667</td>\n",
              "      <td>87.966667</td>\n",
              "      <td>7.233333</td>\n",
              "      <td>3.566667</td>\n",
              "      <td>1.233333</td>\n",
              "    </tr>\n",
              "    <tr>\n",
              "      <th>15</th>\n",
              "      <td>15</td>\n",
              "      <td>90.466667</td>\n",
              "      <td>9.533333</td>\n",
              "      <td>88.700000</td>\n",
              "      <td>6.700000</td>\n",
              "      <td>3.400000</td>\n",
              "      <td>1.200000</td>\n",
              "    </tr>\n",
              "    <tr>\n",
              "      <th>16</th>\n",
              "      <td>16</td>\n",
              "      <td>90.900000</td>\n",
              "      <td>9.100000</td>\n",
              "      <td>89.566667</td>\n",
              "      <td>6.266667</td>\n",
              "      <td>3.066667</td>\n",
              "      <td>1.100000</td>\n",
              "    </tr>\n",
              "    <tr>\n",
              "      <th>17</th>\n",
              "      <td>17</td>\n",
              "      <td>91.633333</td>\n",
              "      <td>8.366667</td>\n",
              "      <td>90.166667</td>\n",
              "      <td>6.000000</td>\n",
              "      <td>2.866667</td>\n",
              "      <td>0.966667</td>\n",
              "    </tr>\n",
              "    <tr>\n",
              "      <th>18</th>\n",
              "      <td>18</td>\n",
              "      <td>91.933333</td>\n",
              "      <td>8.066667</td>\n",
              "      <td>90.866667</td>\n",
              "      <td>5.666667</td>\n",
              "      <td>2.566667</td>\n",
              "      <td>0.900000</td>\n",
              "    </tr>\n",
              "    <tr>\n",
              "      <th>19</th>\n",
              "      <td>19</td>\n",
              "      <td>92.133333</td>\n",
              "      <td>7.866667</td>\n",
              "      <td>91.300000</td>\n",
              "      <td>5.566667</td>\n",
              "      <td>2.333333</td>\n",
              "      <td>0.800000</td>\n",
              "    </tr>\n",
              "    <tr>\n",
              "      <th>20</th>\n",
              "      <td>20</td>\n",
              "      <td>92.566667</td>\n",
              "      <td>7.433333</td>\n",
              "      <td>91.633333</td>\n",
              "      <td>5.433333</td>\n",
              "      <td>2.166667</td>\n",
              "      <td>0.766667</td>\n",
              "    </tr>\n",
              "    <tr>\n",
              "      <th>21</th>\n",
              "      <td>21</td>\n",
              "      <td>92.766667</td>\n",
              "      <td>7.233333</td>\n",
              "      <td>92.133333</td>\n",
              "      <td>5.200000</td>\n",
              "      <td>2.000000</td>\n",
              "      <td>0.666667</td>\n",
              "    </tr>\n",
              "    <tr>\n",
              "      <th>22</th>\n",
              "      <td>22</td>\n",
              "      <td>93.200000</td>\n",
              "      <td>6.800000</td>\n",
              "      <td>92.466667</td>\n",
              "      <td>5.100000</td>\n",
              "      <td>1.833333</td>\n",
              "      <td>0.600000</td>\n",
              "    </tr>\n",
              "    <tr>\n",
              "      <th>23</th>\n",
              "      <td>23</td>\n",
              "      <td>93.433333</td>\n",
              "      <td>6.566667</td>\n",
              "      <td>92.900000</td>\n",
              "      <td>4.833333</td>\n",
              "      <td>1.766667</td>\n",
              "      <td>0.500000</td>\n",
              "    </tr>\n",
              "    <tr>\n",
              "      <th>24</th>\n",
              "      <td>24</td>\n",
              "      <td>93.666667</td>\n",
              "      <td>6.333333</td>\n",
              "      <td>93.200000</td>\n",
              "      <td>4.733333</td>\n",
              "      <td>1.600000</td>\n",
              "      <td>0.466667</td>\n",
              "    </tr>\n",
              "    <tr>\n",
              "      <th>25</th>\n",
              "      <td>25</td>\n",
              "      <td>93.866667</td>\n",
              "      <td>6.133333</td>\n",
              "      <td>93.533333</td>\n",
              "      <td>4.600000</td>\n",
              "      <td>1.433333</td>\n",
              "      <td>0.433333</td>\n",
              "    </tr>\n",
              "    <tr>\n",
              "      <th>26</th>\n",
              "      <td>26</td>\n",
              "      <td>93.966667</td>\n",
              "      <td>6.033333</td>\n",
              "      <td>93.633333</td>\n",
              "      <td>4.533333</td>\n",
              "      <td>1.400000</td>\n",
              "      <td>0.433333</td>\n",
              "    </tr>\n",
              "  </tbody>\n",
              "</table>\n",
              "</div>"
            ],
            "text/plain": [
              "    epochs  argmax > 0.5  ...  focus_true_pred_false  focus_false_pred_false\n",
              "0        0      9.800000  ...               6.533333               55.700000\n",
              "1        1     27.366667  ...              11.066667               43.566667\n",
              "2        2     37.166667  ...              16.966667               28.566667\n",
              "3        3     52.166667  ...              13.133333               18.366667\n",
              "4        4     65.300000  ...              18.066667                9.866667\n",
              "5        5     71.800000  ...              12.500000                7.366667\n",
              "6        6     77.666667  ...              12.133333                4.900000\n",
              "7        7     80.800000  ...               9.400000                4.000000\n",
              "8        8     83.333333  ...               8.566667                2.966667\n",
              "9        9     85.466667  ...               6.933333                2.466667\n",
              "10      10     87.100000  ...               5.966667                2.233333\n",
              "11      11     88.533333  ...               5.133333                1.766667\n",
              "12      12     88.933333  ...               4.566667                1.566667\n",
              "13      13     89.066667  ...               4.033333                1.333333\n",
              "14      14     89.833333  ...               3.566667                1.233333\n",
              "15      15     90.466667  ...               3.400000                1.200000\n",
              "16      16     90.900000  ...               3.066667                1.100000\n",
              "17      17     91.633333  ...               2.866667                0.966667\n",
              "18      18     91.933333  ...               2.566667                0.900000\n",
              "19      19     92.133333  ...               2.333333                0.800000\n",
              "20      20     92.566667  ...               2.166667                0.766667\n",
              "21      21     92.766667  ...               2.000000                0.666667\n",
              "22      22     93.200000  ...               1.833333                0.600000\n",
              "23      23     93.433333  ...               1.766667                0.500000\n",
              "24      24     93.666667  ...               1.600000                0.466667\n",
              "25      25     93.866667  ...               1.433333                0.433333\n",
              "26      26     93.966667  ...               1.400000                0.433333\n",
              "\n",
              "[27 rows x 7 columns]"
            ]
          },
          "metadata": {
            "tags": []
          },
          "execution_count": 15
        }
      ]
    },
    {
      "cell_type": "code",
      "metadata": {
        "colab": {
          "base_uri": "https://localhost:8080/",
          "height": 404
        },
        "id": "EY_j8B274vuH",
        "outputId": "9d106048-4530-4ad7-f602-d21fb991ca90"
      },
      "source": [
        "plot_analysis(df_train,columns,[0,5,10,15,20,26])"
      ],
      "execution_count": 21,
      "outputs": [
        {
          "output_type": "display_data",
          "data": {
            "image/png": "[encoded data removed]",
            "text/plain": [
              "<Figure size 432x432 with 1 Axes>"
            ]
          },
          "metadata": {
            "tags": [],
            "needs_background": "light"
          }
        }
      ]
    },
    {
      "cell_type": "code",
      "metadata": {
        "id": "VCnS6r2_3WdU"
      },
      "source": [
        "aph = []\n",
        "for i in bg:\n",
        "  aph.append(F.softmax(i,dim=1).detach().numpy())\n",
        "  \n",
        "aph = np.concatenate(aph,axis=0)\n",
        "# torch.save({\n",
        "#             'epoch': 500,\n",
        "#             'model_state_dict': what_net.state_dict(),\n",
        "#             #'optimizer_state_dict': optimizer_what.state_dict(),\n",
        "#             \"optimizer_alpha\":optim1,\n",
        "#             \"FTPT_analysis\":analysis_data_tr,\n",
        "#             \"alpha\":aph\n",
        "\n",
        "#             }, \"type4_what_net_500.pt\")"
      ],
      "execution_count": 17,
      "outputs": []
    },
    {
      "cell_type": "code",
      "metadata": {
        "colab": {
          "base_uri": "https://localhost:8080/"
        },
        "id": "KVzrDOGS4UxU",
        "outputId": "39064447-f396-4196-b47c-5427beeb51d5"
      },
      "source": [
        "aph[0]"
      ],
      "execution_count": 18,
      "outputs": [
        {
          "output_type": "execute_result",
          "data": {
            "text/plain": [
              "array([5.9509493e-04, 6.2292898e-03, 7.2404318e-02, 8.7773335e-01,\n",
              "       2.6435135e-02, 3.6588791e-03, 2.7833148e-03, 3.7303236e-03,\n",
              "       6.4304341e-03], dtype=float32)"
            ]
          },
          "metadata": {
            "tags": []
          },
          "execution_count": 18
        }
      ]
    },
    {
      "cell_type": "code",
      "metadata": {
        "id": "7Ut6ZTAXbvqx"
      },
      "source": [
        "avrg = []\n",
        "with torch.no_grad():\n",
        "  for i, data1 in  enumerate(train_loader):\n",
        "          inputs , labels , fore_idx = data1\n",
        "          inputs = inputs.double()\n",
        "          inputs, labels = inputs.to(\"cuda\"),labels.to(\"cuda\")\n",
        "          beta  = bg[i]\n",
        "          beta = beta.to(\"cuda\")\n",
        "          avg,alpha = attn_avg(inputs,beta)\n",
        "          \n",
        "          avrg.append(avg.detach().cpu().numpy())\n",
        "avrg= np.concatenate(avrg,axis=0)"
      ],
      "execution_count": 19,
      "outputs": []
    },
    {
      "cell_type": "code",
      "metadata": {
        "id": "2KQFYlmTLG0N",
        "colab": {
          "base_uri": "https://localhost:8080/",
          "height": 374
        },
        "outputId": "fd65fcb3-ca8d-45c1-c8aa-60cb558d6b76"
      },
      "source": [
        "data = np.load(\"type_4_data.npy\",allow_pickle=True)\n",
        "plot_decision_boundary(what_net,[1,8,2,9],data,bg,avrg)"
      ],
      "execution_count": 20,
      "outputs": [
        {
          "output_type": "display_data",
          "data": {
            "image/png": "[encoded data removed]",
            "text/plain": [
              "<Figure size 432x432 with 1 Axes>"
            ]
          },
          "metadata": {
            "tags": [],
            "needs_background": "light"
          }
        }
      ]
    },
    {
      "cell_type": "code",
      "metadata": {
        "id": "0TlpHSOC0hfk"
      },
      "source": [
        ""
      ],
      "execution_count": 20,
      "outputs": []
    }
  ]
}