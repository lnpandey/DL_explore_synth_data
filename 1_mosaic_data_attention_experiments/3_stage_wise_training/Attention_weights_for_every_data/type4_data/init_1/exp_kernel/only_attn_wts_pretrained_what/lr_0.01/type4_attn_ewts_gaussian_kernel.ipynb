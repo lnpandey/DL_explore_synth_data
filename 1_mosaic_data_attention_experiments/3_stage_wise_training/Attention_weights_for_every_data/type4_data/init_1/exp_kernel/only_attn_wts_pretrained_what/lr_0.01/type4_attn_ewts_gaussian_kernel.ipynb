{
  "nbformat": 4,
  "nbformat_minor": 0,
  "metadata": {
    "accelerator": "GPU",
    "colab": {
      "name": "type4_attn_ewts_gaussian_kernel.ipynb",
      "provenance": [],
      "collapsed_sections": []
    },
    "kernelspec": {
      "display_name": "Python 3",
      "name": "python3"
    },
    "language_info": {
      "name": "python"
    }
  },
  "cells": [
    {
      "cell_type": "code",
      "metadata": {
        "id": "BWIyC9Ip_bcq"
      },
      "source": [
        "import numpy as np\n",
        "import pandas as pd\n",
        "\n",
        "import torch\n",
        "import torchvision\n",
        "from torch.utils.data import Dataset, DataLoader\n",
        "from torchvision import transforms, utils\n",
        "import torch.nn as nn\n",
        "import torch.nn.functional as F\n",
        "import torch.optim as optim\n",
        "\n",
        "from matplotlib import pyplot as plt\n",
        "from myrmsprop import MyRmsprop\n",
        "%matplotlib inline\n",
        "torch.backends.cudnn.deterministic = True\n",
        "torch.backends.cudnn.benchmark = False"
      ],
      "execution_count": 1,
      "outputs": []
    },
    {
      "cell_type": "code",
      "metadata": {
        "id": "lGVy-1EllAc_"
      },
      "source": [
        "train_data = np.load(\"train_type4_data.npy\",allow_pickle=True)\n",
        "\n",
        "test_data = np.load(\"test_type4_data.npy\",allow_pickle=True)"
      ],
      "execution_count": 2,
      "outputs": []
    },
    {
      "cell_type": "code",
      "metadata": {
        "id": "uL771xuGZC5Q"
      },
      "source": [
        "mosaic_list_of_images = train_data[0][\"mosaic_list\"]\n",
        "mosaic_label = train_data[0][\"mosaic_label\"]\n",
        "fore_idx = train_data[0][\"fore_idx\"]\n",
        "\n",
        "\n",
        "test_mosaic_list_of_images = test_data[0][\"mosaic_list\"]\n",
        "test_mosaic_label = test_data[0][\"mosaic_label\"]\n",
        "test_fore_idx = test_data[0][\"fore_idx\"]"
      ],
      "execution_count": 3,
      "outputs": []
    },
    {
      "cell_type": "code",
      "metadata": {
        "id": "x2qfRXfNZCao"
      },
      "source": [
        "class MosaicDataset1(Dataset):\n",
        "  \"\"\"MosaicDataset dataset.\"\"\"\n",
        "\n",
        "  def __init__(self, mosaic_list, mosaic_label,fore_idx):\n",
        "    \"\"\"\n",
        "      Args:\n",
        "        csv_file (string): Path to the csv file with annotations.\n",
        "        root_dir (string): Directory with all the images.\n",
        "        transform (callable, optional): Optional transform to be applied\n",
        "            on a sample.\n",
        "    \"\"\"\n",
        "    self.mosaic = mosaic_list\n",
        "    self.label = mosaic_label\n",
        "    self.fore_idx = fore_idx\n",
        "    \n",
        "  def __len__(self):\n",
        "    return len(self.label)\n",
        "\n",
        "  def __getitem__(self, idx):\n",
        "    return self.mosaic[idx] , self.label[idx] , self.fore_idx[idx]"
      ],
      "execution_count": 4,
      "outputs": []
    },
    {
      "cell_type": "code",
      "metadata": {
        "id": "uf76JwkxZCT0"
      },
      "source": [
        "batch = 3000\n",
        "train_dataset = MosaicDataset1(mosaic_list_of_images, mosaic_label, fore_idx)\n",
        "train_loader = DataLoader( train_dataset,batch_size= batch ,shuffle=False)\n",
        "#batch = 2000\n",
        "#test_dataset = MosaicDataset1(test_mosaic_list_of_images, test_mosaic_label, test_fore_idx)\n",
        "#test_loader = DataLoader(test_dataset,batch_size= batch ,shuffle=False)"
      ],
      "execution_count": 5,
      "outputs": []
    },
    {
      "cell_type": "code",
      "metadata": {
        "id": "DOpZfj1bq7wN"
      },
      "source": [
        "n_batches = 3000//batch\n",
        "bg = []\n",
        "for i in range(n_batches):\n",
        "  torch.manual_seed(i)\n",
        "  betag = torch.randn(3000,9)#torch.ones((250,9))/9\n",
        "  bg.append( betag.requires_grad_() )"
      ],
      "execution_count": 6,
      "outputs": []
    },
    {
      "cell_type": "code",
      "metadata": {
        "colab": {
          "base_uri": "https://localhost:8080/"
        },
        "id": "fzb3ii4drXpu",
        "outputId": "4219bbc5-0cb8-44c4-bee3-a54bb3a453bc"
      },
      "source": [
        "len(bg)"
      ],
      "execution_count": 7,
      "outputs": [
        {
          "output_type": "execute_result",
          "data": {
            "text/plain": [
              "1"
            ]
          },
          "metadata": {
            "tags": []
          },
          "execution_count": 7
        }
      ]
    },
    {
      "cell_type": "code",
      "metadata": {
        "colab": {
          "base_uri": "https://localhost:8080/"
        },
        "id": "Am8LcQm1Og-f",
        "outputId": "6afb3017-d1bd-4cfa-b66f-24d562a25d53"
      },
      "source": [
        "#H = np.zeros((27000,27000))\n",
        "for i, data in enumerate(train_loader, 0):\n",
        "  print(i) # only one batch\n",
        "  inputs,_,_ = data\n",
        "  inputs = torch.reshape(inputs,(27000,2))\n",
        "  dis = torch.cdist(inputs,inputs)**2\n",
        "  gamma = -1/torch.median(dis)\n",
        "  print(gamma)\n",
        "  H = torch.exp(gamma*dis)\n"
      ],
      "execution_count": 8,
      "outputs": [
        {
          "output_type": "stream",
          "text": [
            "0\n",
            "tensor(-0.0948)\n"
          ],
          "name": "stdout"
        }
      ]
    },
    {
      "cell_type": "code",
      "metadata": {
        "colab": {
          "base_uri": "https://localhost:8080/"
        },
        "id": "rTxUQEquHYqj",
        "outputId": "fabc6291-c62e-43c0-e2b0-19284a184209"
      },
      "source": [
        "H.shape"
      ],
      "execution_count": 9,
      "outputs": [
        {
          "output_type": "execute_result",
          "data": {
            "text/plain": [
              "torch.Size([27000, 27000])"
            ]
          },
          "metadata": {
            "tags": []
          },
          "execution_count": 9
        }
      ]
    },
    {
      "cell_type": "code",
      "metadata": {
        "id": "HbrMidFCla6h"
      },
      "source": [
        "class Module2(nn.Module):\n",
        "  def __init__(self):\n",
        "    super(Module2, self).__init__()\n",
        "    self.linear1 = nn.Linear(2,100)\n",
        "    self.linear2 = nn.Linear(100,3)\n",
        "\n",
        "  def forward(self,x):\n",
        "    x = F.relu(self.linear1(x))\n",
        "    x = self.linear2(x)\n",
        "    return x"
      ],
      "execution_count": 10,
      "outputs": []
    },
    {
      "cell_type": "code",
      "metadata": {
        "id": "rRqj2VELllkX"
      },
      "source": [
        "torch.manual_seed(1234)\n",
        "what_net = Module2().double()\n",
        "\n",
        "what_net.load_state_dict(torch.load(\"type4_what_net.pt\"))\n",
        "what_net = what_net.to(\"cuda\")"
      ],
      "execution_count": 11,
      "outputs": []
    },
    {
      "cell_type": "code",
      "metadata": {
        "id": "6d8Wch99l4yB"
      },
      "source": [
        "def attn_avg(x,beta):\n",
        "  y = torch.zeros([batch,2], dtype=torch.float64)\n",
        "  y = y.to(\"cuda\")\n",
        "  alpha = F.softmax(beta,dim=1)   # alphas\n",
        "  #print(alpha[0],x[0,:])\n",
        "  for i in range(9):            \n",
        "    alpha1 = alpha[:,i]      \n",
        "    y = y + torch.mul(alpha1[:,None],x[:,i])\n",
        "  return y,alpha\n"
      ],
      "execution_count": 12,
      "outputs": []
    },
    {
      "cell_type": "code",
      "metadata": {
        "id": "Rz1Kpw12loV6"
      },
      "source": [
        "def calculate_attn_loss(dataloader,what,criter):\n",
        "  what.eval()\n",
        "  r_loss = 0\n",
        "  alphas = []\n",
        "  lbls = []\n",
        "  pred = []\n",
        "  fidices = []\n",
        "  correct = 0\n",
        "  tot = 0\n",
        "  with torch.no_grad():\n",
        "    for i, data in enumerate(dataloader, 0):\n",
        "      inputs, labels,fidx= data\n",
        "      lbls.append(labels)\n",
        "      fidices.append(fidx)\n",
        "      inputs = inputs.double()\n",
        "      beta = bg[i]  # beta for ith batch\n",
        "      inputs, labels,beta = inputs.to(\"cuda\"),labels.to(\"cuda\"),beta.to(\"cuda\")\n",
        "      avg,alpha = attn_avg(inputs,beta)\n",
        "      alpha = alpha.to(\"cuda\")\n",
        "      outputs = what(avg)\n",
        "      _, predicted = torch.max(outputs.data, 1)\n",
        "      correct += sum(predicted == labels)\n",
        "      tot += len(predicted)\n",
        "      pred.append(predicted.cpu().numpy())\n",
        "      alphas.append(alpha.cpu().numpy())\n",
        "      loss = criter(outputs, labels)\n",
        "      r_loss += loss.item()\n",
        "  alphas = np.concatenate(alphas,axis=0)\n",
        "  pred = np.concatenate(pred,axis=0)\n",
        "  lbls = np.concatenate(lbls,axis=0)\n",
        "  fidices = np.concatenate(fidices,axis=0)\n",
        "  #print(alphas.shape,pred.shape,lbls.shape,fidices.shape) \n",
        "  analysis = analyse_data(alphas,lbls,pred,fidices)\n",
        "  return r_loss/(i+1),analysis,correct.item(),tot,correct.item()/tot"
      ],
      "execution_count": 13,
      "outputs": []
    },
    {
      "cell_type": "code",
      "metadata": {
        "id": "sAY-x6UAwrwE"
      },
      "source": [
        "for param in what_net.parameters():\n",
        "    param.requires_grad = False"
      ],
      "execution_count": 14,
      "outputs": []
    },
    {
      "cell_type": "code",
      "metadata": {
        "id": "_toCktPanH0S"
      },
      "source": [
        "\n",
        "def analyse_data(alphas,lbls,predicted,f_idx):\n",
        "    '''\n",
        "       analysis data is created here\n",
        "    '''\n",
        "    batch = len(predicted)\n",
        "    amth,alth,ftpt,ffpt,ftpf,ffpf = 0,0,0,0,0,0\n",
        "    for j in range (batch):\n",
        "      focus = np.argmax(alphas[j])\n",
        "      if(alphas[j][focus] >= 0.5):\n",
        "        amth +=1\n",
        "      else:\n",
        "        alth +=1\n",
        "      if(focus == f_idx[j] and predicted[j] == lbls[j]):\n",
        "        ftpt += 1\n",
        "      elif(focus != f_idx[j] and predicted[j] == lbls[j]):\n",
        "        ffpt +=1\n",
        "      elif(focus == f_idx[j] and predicted[j] != lbls[j]):\n",
        "        ftpf +=1\n",
        "      elif(focus != f_idx[j] and predicted[j] != lbls[j]):\n",
        "        ffpf +=1\n",
        "    #print(sum(predicted==lbls),ftpt+ffpt)\n",
        "    return [ftpt,ffpt,ftpf,ffpf,amth,alth]"
      ],
      "execution_count": 15,
      "outputs": []
    },
    {
      "cell_type": "code",
      "metadata": {
        "id": "S633XgMToeN3"
      },
      "source": [
        "optim1 = []\n",
        "H= H.to(\"cpu\")\n",
        "for i in range(n_batches):\n",
        "  optim1.append(MyRmsprop([bg[i]],H=H,lr=0.01))\n",
        "  #optim1.append(optim.RMSprop([bg[i]],lr=0.1))"
      ],
      "execution_count": 16,
      "outputs": []
    },
    {
      "cell_type": "code",
      "metadata": {
        "colab": {
          "base_uri": "https://localhost:8080/"
        },
        "id": "qPaYaojinMTA",
        "outputId": "353313b7-0a8d-4b4d-f57b-cdb9a131af60"
      },
      "source": [
        "# instantiate optimizer\n",
        "#optimizer_what = optim.RMSprop(what_net.parameters(), lr=0.001)#, momentum=0.9)#,nesterov=True)\n",
        "\n",
        "\n",
        " \n",
        "\n",
        "\n",
        "criterion = nn.CrossEntropyLoss()\n",
        "acti = []\n",
        "analysis_data_tr = []\n",
        "analysis_data_tst = []\n",
        "loss_curi_tr = []\n",
        "loss_curi_tst = []\n",
        "epochs = 200\n",
        "\n",
        "\n",
        "# calculate zeroth epoch loss and FTPT values\n",
        "running_loss,anlys_data,correct,total,accuracy = calculate_attn_loss(train_loader,what_net,criterion)\n",
        "print('training epoch: [%d ] loss: %.3f correct: %.3f, total: %.3f, accuracy: %.3f' %(0,running_loss,correct,total,accuracy)) \n",
        "loss_curi_tr.append(running_loss)\n",
        "analysis_data_tr.append(anlys_data)\n",
        "\n",
        "\n",
        "\n",
        "\n",
        "# training starts \n",
        "for epoch in range(epochs): # loop over the dataset multiple times\n",
        "  ep_lossi = []\n",
        "  running_loss = 0.0\n",
        "  #what_net.train()\n",
        "  for i, data in enumerate(train_loader, 0):\n",
        "    # get the inputs\n",
        "    inputs, labels,_  = data\n",
        "    inputs = inputs.double()\n",
        "    beta = bg[i] # alpha for ith batch\n",
        "    #print(labels)\n",
        "    inputs, labels,beta = inputs.to(\"cuda\"),labels.to(\"cuda\"),beta.to(\"cuda\")\n",
        "        \n",
        "    # zero the parameter gradients\n",
        "    #optimizer_what.zero_grad()\n",
        "    optim1[i].zero_grad()\n",
        "      \n",
        "    # forward + backward + optimize\n",
        "    avg,alpha = attn_avg(inputs,beta)\n",
        "    outputs = what_net(avg)     \n",
        "    loss = criterion(outputs, labels)\n",
        "\n",
        "    # print statistics\n",
        "    running_loss += loss.item()\n",
        "    #alpha.retain_grad()\n",
        "    loss.backward(retain_graph=False)\n",
        "    #optimizer_what.step()\n",
        "    optim1[i].step()\n",
        "\n",
        "\n",
        "  running_loss_tr,anls_data,correct,total,accuracy = calculate_attn_loss(train_loader,what_net,criterion)\n",
        "  analysis_data_tr.append(anls_data)\n",
        "  loss_curi_tr.append(running_loss_tr)   #loss per epoch\n",
        "  print('training epoch: [%d ] loss: %.3f correct: %.3f, total: %.3f, accuracy: %.3f' %(epoch+1,running_loss_tr,correct,total,accuracy)) \n",
        "\n",
        "\n",
        "  \n",
        "  if running_loss_tr<=0.08:\n",
        "    break\n",
        "print('Finished Training run ')\n",
        "analysis_data_tr = np.array(analysis_data_tr)\n",
        "\n"
      ],
      "execution_count": 17,
      "outputs": [
        {
          "output_type": "stream",
          "text": [
            "training epoch: [0 ] loss: 10.201 correct: 1133.000, total: 3000.000, accuracy: 0.378\n",
            "training epoch: [1 ] loss: 9.734 correct: 1139.000, total: 3000.000, accuracy: 0.380\n",
            "training epoch: [2 ] loss: 9.479 correct: 1144.000, total: 3000.000, accuracy: 0.381\n",
            "training epoch: [3 ] loss: 9.298 correct: 1148.000, total: 3000.000, accuracy: 0.383\n",
            "training epoch: [4 ] loss: 9.154 correct: 1161.000, total: 3000.000, accuracy: 0.387\n",
            "training epoch: [5 ] loss: 9.032 correct: 1163.000, total: 3000.000, accuracy: 0.388\n",
            "training epoch: [6 ] loss: 8.926 correct: 1172.000, total: 3000.000, accuracy: 0.391\n",
            "training epoch: [7 ] loss: 8.832 correct: 1176.000, total: 3000.000, accuracy: 0.392\n",
            "training epoch: [8 ] loss: 8.746 correct: 1183.000, total: 3000.000, accuracy: 0.394\n",
            "training epoch: [9 ] loss: 8.667 correct: 1185.000, total: 3000.000, accuracy: 0.395\n",
            "training epoch: [10 ] loss: 8.595 correct: 1184.000, total: 3000.000, accuracy: 0.395\n",
            "training epoch: [11 ] loss: 8.528 correct: 1194.000, total: 3000.000, accuracy: 0.398\n",
            "training epoch: [12 ] loss: 8.465 correct: 1200.000, total: 3000.000, accuracy: 0.400\n",
            "training epoch: [13 ] loss: 8.407 correct: 1201.000, total: 3000.000, accuracy: 0.400\n",
            "training epoch: [14 ] loss: 8.352 correct: 1207.000, total: 3000.000, accuracy: 0.402\n",
            "training epoch: [15 ] loss: 8.301 correct: 1216.000, total: 3000.000, accuracy: 0.405\n",
            "training epoch: [16 ] loss: 8.253 correct: 1220.000, total: 3000.000, accuracy: 0.407\n",
            "training epoch: [17 ] loss: 8.207 correct: 1226.000, total: 3000.000, accuracy: 0.409\n",
            "training epoch: [18 ] loss: 8.164 correct: 1231.000, total: 3000.000, accuracy: 0.410\n",
            "training epoch: [19 ] loss: 8.123 correct: 1236.000, total: 3000.000, accuracy: 0.412\n",
            "training epoch: [20 ] loss: 8.084 correct: 1237.000, total: 3000.000, accuracy: 0.412\n",
            "training epoch: [21 ] loss: 8.047 correct: 1240.000, total: 3000.000, accuracy: 0.413\n",
            "training epoch: [22 ] loss: 8.012 correct: 1243.000, total: 3000.000, accuracy: 0.414\n",
            "training epoch: [23 ] loss: 7.979 correct: 1248.000, total: 3000.000, accuracy: 0.416\n",
            "training epoch: [24 ] loss: 7.947 correct: 1253.000, total: 3000.000, accuracy: 0.418\n",
            "training epoch: [25 ] loss: 7.917 correct: 1257.000, total: 3000.000, accuracy: 0.419\n",
            "training epoch: [26 ] loss: 7.888 correct: 1260.000, total: 3000.000, accuracy: 0.420\n",
            "training epoch: [27 ] loss: 7.860 correct: 1259.000, total: 3000.000, accuracy: 0.420\n",
            "training epoch: [28 ] loss: 7.834 correct: 1262.000, total: 3000.000, accuracy: 0.421\n",
            "training epoch: [29 ] loss: 7.808 correct: 1262.000, total: 3000.000, accuracy: 0.421\n",
            "training epoch: [30 ] loss: 7.784 correct: 1261.000, total: 3000.000, accuracy: 0.420\n",
            "training epoch: [31 ] loss: 7.761 correct: 1263.000, total: 3000.000, accuracy: 0.421\n",
            "training epoch: [32 ] loss: 7.739 correct: 1266.000, total: 3000.000, accuracy: 0.422\n",
            "training epoch: [33 ] loss: 7.718 correct: 1266.000, total: 3000.000, accuracy: 0.422\n",
            "training epoch: [34 ] loss: 7.698 correct: 1267.000, total: 3000.000, accuracy: 0.422\n",
            "training epoch: [35 ] loss: 7.678 correct: 1267.000, total: 3000.000, accuracy: 0.422\n",
            "training epoch: [36 ] loss: 7.659 correct: 1267.000, total: 3000.000, accuracy: 0.422\n",
            "training epoch: [37 ] loss: 7.641 correct: 1269.000, total: 3000.000, accuracy: 0.423\n",
            "training epoch: [38 ] loss: 7.624 correct: 1272.000, total: 3000.000, accuracy: 0.424\n",
            "training epoch: [39 ] loss: 7.607 correct: 1277.000, total: 3000.000, accuracy: 0.426\n",
            "training epoch: [40 ] loss: 7.592 correct: 1277.000, total: 3000.000, accuracy: 0.426\n",
            "training epoch: [41 ] loss: 7.576 correct: 1277.000, total: 3000.000, accuracy: 0.426\n",
            "training epoch: [42 ] loss: 7.562 correct: 1277.000, total: 3000.000, accuracy: 0.426\n",
            "training epoch: [43 ] loss: 7.547 correct: 1278.000, total: 3000.000, accuracy: 0.426\n",
            "training epoch: [44 ] loss: 7.534 correct: 1277.000, total: 3000.000, accuracy: 0.426\n",
            "training epoch: [45 ] loss: 7.521 correct: 1279.000, total: 3000.000, accuracy: 0.426\n",
            "training epoch: [46 ] loss: 7.508 correct: 1277.000, total: 3000.000, accuracy: 0.426\n",
            "training epoch: [47 ] loss: 7.496 correct: 1276.000, total: 3000.000, accuracy: 0.425\n",
            "training epoch: [48 ] loss: 7.484 correct: 1277.000, total: 3000.000, accuracy: 0.426\n",
            "training epoch: [49 ] loss: 7.473 correct: 1276.000, total: 3000.000, accuracy: 0.425\n",
            "training epoch: [50 ] loss: 7.462 correct: 1275.000, total: 3000.000, accuracy: 0.425\n",
            "training epoch: [51 ] loss: 7.451 correct: 1276.000, total: 3000.000, accuracy: 0.425\n",
            "training epoch: [52 ] loss: 7.441 correct: 1279.000, total: 3000.000, accuracy: 0.426\n",
            "training epoch: [53 ] loss: 7.431 correct: 1278.000, total: 3000.000, accuracy: 0.426\n",
            "training epoch: [54 ] loss: 7.422 correct: 1278.000, total: 3000.000, accuracy: 0.426\n",
            "training epoch: [55 ] loss: 7.412 correct: 1278.000, total: 3000.000, accuracy: 0.426\n",
            "training epoch: [56 ] loss: 7.403 correct: 1279.000, total: 3000.000, accuracy: 0.426\n",
            "training epoch: [57 ] loss: 7.395 correct: 1280.000, total: 3000.000, accuracy: 0.427\n",
            "training epoch: [58 ] loss: 7.386 correct: 1281.000, total: 3000.000, accuracy: 0.427\n",
            "training epoch: [59 ] loss: 7.378 correct: 1282.000, total: 3000.000, accuracy: 0.427\n",
            "training epoch: [60 ] loss: 7.371 correct: 1283.000, total: 3000.000, accuracy: 0.428\n",
            "training epoch: [61 ] loss: 7.363 correct: 1286.000, total: 3000.000, accuracy: 0.429\n",
            "training epoch: [62 ] loss: 7.356 correct: 1288.000, total: 3000.000, accuracy: 0.429\n",
            "training epoch: [63 ] loss: 7.349 correct: 1288.000, total: 3000.000, accuracy: 0.429\n",
            "training epoch: [64 ] loss: 7.342 correct: 1289.000, total: 3000.000, accuracy: 0.430\n",
            "training epoch: [65 ] loss: 7.335 correct: 1290.000, total: 3000.000, accuracy: 0.430\n",
            "training epoch: [66 ] loss: 7.329 correct: 1291.000, total: 3000.000, accuracy: 0.430\n",
            "training epoch: [67 ] loss: 7.322 correct: 1291.000, total: 3000.000, accuracy: 0.430\n",
            "training epoch: [68 ] loss: 7.316 correct: 1293.000, total: 3000.000, accuracy: 0.431\n",
            "training epoch: [69 ] loss: 7.310 correct: 1293.000, total: 3000.000, accuracy: 0.431\n",
            "training epoch: [70 ] loss: 7.305 correct: 1292.000, total: 3000.000, accuracy: 0.431\n",
            "training epoch: [71 ] loss: 7.299 correct: 1295.000, total: 3000.000, accuracy: 0.432\n",
            "training epoch: [72 ] loss: 7.294 correct: 1295.000, total: 3000.000, accuracy: 0.432\n",
            "training epoch: [73 ] loss: 7.289 correct: 1296.000, total: 3000.000, accuracy: 0.432\n",
            "training epoch: [74 ] loss: 7.284 correct: 1295.000, total: 3000.000, accuracy: 0.432\n",
            "training epoch: [75 ] loss: 7.279 correct: 1296.000, total: 3000.000, accuracy: 0.432\n",
            "training epoch: [76 ] loss: 7.274 correct: 1297.000, total: 3000.000, accuracy: 0.432\n",
            "training epoch: [77 ] loss: 7.269 correct: 1298.000, total: 3000.000, accuracy: 0.433\n",
            "training epoch: [78 ] loss: 7.265 correct: 1297.000, total: 3000.000, accuracy: 0.432\n",
            "training epoch: [79 ] loss: 7.260 correct: 1296.000, total: 3000.000, accuracy: 0.432\n",
            "training epoch: [80 ] loss: 7.256 correct: 1295.000, total: 3000.000, accuracy: 0.432\n",
            "training epoch: [81 ] loss: 7.252 correct: 1295.000, total: 3000.000, accuracy: 0.432\n",
            "training epoch: [82 ] loss: 7.248 correct: 1294.000, total: 3000.000, accuracy: 0.431\n",
            "training epoch: [83 ] loss: 7.244 correct: 1294.000, total: 3000.000, accuracy: 0.431\n",
            "training epoch: [84 ] loss: 7.240 correct: 1297.000, total: 3000.000, accuracy: 0.432\n",
            "training epoch: [85 ] loss: 7.236 correct: 1298.000, total: 3000.000, accuracy: 0.433\n",
            "training epoch: [86 ] loss: 7.233 correct: 1299.000, total: 3000.000, accuracy: 0.433\n",
            "training epoch: [87 ] loss: 7.229 correct: 1299.000, total: 3000.000, accuracy: 0.433\n",
            "training epoch: [88 ] loss: 7.226 correct: 1300.000, total: 3000.000, accuracy: 0.433\n",
            "training epoch: [89 ] loss: 7.222 correct: 1300.000, total: 3000.000, accuracy: 0.433\n",
            "training epoch: [90 ] loss: 7.219 correct: 1301.000, total: 3000.000, accuracy: 0.434\n",
            "training epoch: [91 ] loss: 7.216 correct: 1301.000, total: 3000.000, accuracy: 0.434\n",
            "training epoch: [92 ] loss: 7.213 correct: 1302.000, total: 3000.000, accuracy: 0.434\n",
            "training epoch: [93 ] loss: 7.210 correct: 1301.000, total: 3000.000, accuracy: 0.434\n",
            "training epoch: [94 ] loss: 7.207 correct: 1302.000, total: 3000.000, accuracy: 0.434\n",
            "training epoch: [95 ] loss: 7.204 correct: 1302.000, total: 3000.000, accuracy: 0.434\n",
            "training epoch: [96 ] loss: 7.201 correct: 1303.000, total: 3000.000, accuracy: 0.434\n",
            "training epoch: [97 ] loss: 7.199 correct: 1303.000, total: 3000.000, accuracy: 0.434\n",
            "training epoch: [98 ] loss: 7.196 correct: 1304.000, total: 3000.000, accuracy: 0.435\n",
            "training epoch: [99 ] loss: 7.193 correct: 1304.000, total: 3000.000, accuracy: 0.435\n",
            "training epoch: [100 ] loss: 7.191 correct: 1305.000, total: 3000.000, accuracy: 0.435\n",
            "training epoch: [101 ] loss: 7.188 correct: 1306.000, total: 3000.000, accuracy: 0.435\n",
            "training epoch: [102 ] loss: 7.186 correct: 1306.000, total: 3000.000, accuracy: 0.435\n",
            "training epoch: [103 ] loss: 7.184 correct: 1306.000, total: 3000.000, accuracy: 0.435\n",
            "training epoch: [104 ] loss: 7.182 correct: 1308.000, total: 3000.000, accuracy: 0.436\n",
            "training epoch: [105 ] loss: 7.179 correct: 1309.000, total: 3000.000, accuracy: 0.436\n",
            "training epoch: [106 ] loss: 7.177 correct: 1308.000, total: 3000.000, accuracy: 0.436\n",
            "training epoch: [107 ] loss: 7.175 correct: 1308.000, total: 3000.000, accuracy: 0.436\n",
            "training epoch: [108 ] loss: 7.173 correct: 1308.000, total: 3000.000, accuracy: 0.436\n",
            "training epoch: [109 ] loss: 7.171 correct: 1308.000, total: 3000.000, accuracy: 0.436\n",
            "training epoch: [110 ] loss: 7.169 correct: 1308.000, total: 3000.000, accuracy: 0.436\n",
            "training epoch: [111 ] loss: 7.167 correct: 1308.000, total: 3000.000, accuracy: 0.436\n",
            "training epoch: [112 ] loss: 7.165 correct: 1308.000, total: 3000.000, accuracy: 0.436\n",
            "training epoch: [113 ] loss: 7.163 correct: 1307.000, total: 3000.000, accuracy: 0.436\n",
            "training epoch: [114 ] loss: 7.162 correct: 1307.000, total: 3000.000, accuracy: 0.436\n",
            "training epoch: [115 ] loss: 7.160 correct: 1307.000, total: 3000.000, accuracy: 0.436\n",
            "training epoch: [116 ] loss: 7.158 correct: 1307.000, total: 3000.000, accuracy: 0.436\n",
            "training epoch: [117 ] loss: 7.156 correct: 1308.000, total: 3000.000, accuracy: 0.436\n",
            "training epoch: [118 ] loss: 7.155 correct: 1308.000, total: 3000.000, accuracy: 0.436\n",
            "training epoch: [119 ] loss: 7.153 correct: 1308.000, total: 3000.000, accuracy: 0.436\n",
            "training epoch: [120 ] loss: 7.152 correct: 1308.000, total: 3000.000, accuracy: 0.436\n",
            "training epoch: [121 ] loss: 7.150 correct: 1308.000, total: 3000.000, accuracy: 0.436\n",
            "training epoch: [122 ] loss: 7.149 correct: 1308.000, total: 3000.000, accuracy: 0.436\n",
            "training epoch: [123 ] loss: 7.147 correct: 1309.000, total: 3000.000, accuracy: 0.436\n",
            "training epoch: [124 ] loss: 7.146 correct: 1309.000, total: 3000.000, accuracy: 0.436\n",
            "training epoch: [125 ] loss: 7.144 correct: 1310.000, total: 3000.000, accuracy: 0.437\n",
            "training epoch: [126 ] loss: 7.143 correct: 1310.000, total: 3000.000, accuracy: 0.437\n",
            "training epoch: [127 ] loss: 7.142 correct: 1310.000, total: 3000.000, accuracy: 0.437\n",
            "training epoch: [128 ] loss: 7.141 correct: 1310.000, total: 3000.000, accuracy: 0.437\n",
            "training epoch: [129 ] loss: 7.139 correct: 1310.000, total: 3000.000, accuracy: 0.437\n",
            "training epoch: [130 ] loss: 7.138 correct: 1310.000, total: 3000.000, accuracy: 0.437\n",
            "training epoch: [131 ] loss: 7.137 correct: 1309.000, total: 3000.000, accuracy: 0.436\n",
            "training epoch: [132 ] loss: 7.136 correct: 1309.000, total: 3000.000, accuracy: 0.436\n",
            "training epoch: [133 ] loss: 7.135 correct: 1309.000, total: 3000.000, accuracy: 0.436\n",
            "training epoch: [134 ] loss: 7.133 correct: 1309.000, total: 3000.000, accuracy: 0.436\n",
            "training epoch: [135 ] loss: 7.132 correct: 1309.000, total: 3000.000, accuracy: 0.436\n",
            "training epoch: [136 ] loss: 7.131 correct: 1309.000, total: 3000.000, accuracy: 0.436\n",
            "training epoch: [137 ] loss: 7.130 correct: 1309.000, total: 3000.000, accuracy: 0.436\n",
            "training epoch: [138 ] loss: 7.129 correct: 1309.000, total: 3000.000, accuracy: 0.436\n",
            "training epoch: [139 ] loss: 7.128 correct: 1309.000, total: 3000.000, accuracy: 0.436\n",
            "training epoch: [140 ] loss: 7.127 correct: 1310.000, total: 3000.000, accuracy: 0.437\n",
            "training epoch: [141 ] loss: 7.126 correct: 1310.000, total: 3000.000, accuracy: 0.437\n",
            "training epoch: [142 ] loss: 7.125 correct: 1310.000, total: 3000.000, accuracy: 0.437\n",
            "training epoch: [143 ] loss: 7.124 correct: 1311.000, total: 3000.000, accuracy: 0.437\n",
            "training epoch: [144 ] loss: 7.124 correct: 1313.000, total: 3000.000, accuracy: 0.438\n",
            "training epoch: [145 ] loss: 7.123 correct: 1313.000, total: 3000.000, accuracy: 0.438\n",
            "training epoch: [146 ] loss: 7.122 correct: 1315.000, total: 3000.000, accuracy: 0.438\n",
            "training epoch: [147 ] loss: 7.121 correct: 1315.000, total: 3000.000, accuracy: 0.438\n",
            "training epoch: [148 ] loss: 7.120 correct: 1316.000, total: 3000.000, accuracy: 0.439\n",
            "training epoch: [149 ] loss: 7.119 correct: 1317.000, total: 3000.000, accuracy: 0.439\n",
            "training epoch: [150 ] loss: 7.119 correct: 1317.000, total: 3000.000, accuracy: 0.439\n",
            "training epoch: [151 ] loss: 7.118 correct: 1318.000, total: 3000.000, accuracy: 0.439\n",
            "training epoch: [152 ] loss: 7.117 correct: 1318.000, total: 3000.000, accuracy: 0.439\n",
            "training epoch: [153 ] loss: 7.116 correct: 1318.000, total: 3000.000, accuracy: 0.439\n",
            "training epoch: [154 ] loss: 7.116 correct: 1318.000, total: 3000.000, accuracy: 0.439\n",
            "training epoch: [155 ] loss: 7.115 correct: 1318.000, total: 3000.000, accuracy: 0.439\n",
            "training epoch: [156 ] loss: 7.114 correct: 1318.000, total: 3000.000, accuracy: 0.439\n",
            "training epoch: [157 ] loss: 7.114 correct: 1318.000, total: 3000.000, accuracy: 0.439\n",
            "training epoch: [158 ] loss: 7.113 correct: 1318.000, total: 3000.000, accuracy: 0.439\n",
            "training epoch: [159 ] loss: 7.112 correct: 1318.000, total: 3000.000, accuracy: 0.439\n",
            "training epoch: [160 ] loss: 7.112 correct: 1318.000, total: 3000.000, accuracy: 0.439\n",
            "training epoch: [161 ] loss: 7.111 correct: 1318.000, total: 3000.000, accuracy: 0.439\n",
            "training epoch: [162 ] loss: 7.110 correct: 1318.000, total: 3000.000, accuracy: 0.439\n",
            "training epoch: [163 ] loss: 7.110 correct: 1318.000, total: 3000.000, accuracy: 0.439\n",
            "training epoch: [164 ] loss: 7.109 correct: 1318.000, total: 3000.000, accuracy: 0.439\n",
            "training epoch: [165 ] loss: 7.109 correct: 1320.000, total: 3000.000, accuracy: 0.440\n",
            "training epoch: [166 ] loss: 7.108 correct: 1320.000, total: 3000.000, accuracy: 0.440\n",
            "training epoch: [167 ] loss: 7.108 correct: 1320.000, total: 3000.000, accuracy: 0.440\n",
            "training epoch: [168 ] loss: 7.107 correct: 1320.000, total: 3000.000, accuracy: 0.440\n",
            "training epoch: [169 ] loss: 7.107 correct: 1319.000, total: 3000.000, accuracy: 0.440\n",
            "training epoch: [170 ] loss: 7.106 correct: 1319.000, total: 3000.000, accuracy: 0.440\n",
            "training epoch: [171 ] loss: 7.106 correct: 1319.000, total: 3000.000, accuracy: 0.440\n",
            "training epoch: [172 ] loss: 7.105 correct: 1319.000, total: 3000.000, accuracy: 0.440\n",
            "training epoch: [173 ] loss: 7.105 correct: 1319.000, total: 3000.000, accuracy: 0.440\n",
            "training epoch: [174 ] loss: 7.104 correct: 1319.000, total: 3000.000, accuracy: 0.440\n",
            "training epoch: [175 ] loss: 7.104 correct: 1319.000, total: 3000.000, accuracy: 0.440\n",
            "training epoch: [176 ] loss: 7.103 correct: 1319.000, total: 3000.000, accuracy: 0.440\n",
            "training epoch: [177 ] loss: 7.103 correct: 1318.000, total: 3000.000, accuracy: 0.439\n",
            "training epoch: [178 ] loss: 7.102 correct: 1318.000, total: 3000.000, accuracy: 0.439\n",
            "training epoch: [179 ] loss: 7.102 correct: 1319.000, total: 3000.000, accuracy: 0.440\n",
            "training epoch: [180 ] loss: 7.101 correct: 1319.000, total: 3000.000, accuracy: 0.440\n",
            "training epoch: [181 ] loss: 7.101 correct: 1319.000, total: 3000.000, accuracy: 0.440\n",
            "training epoch: [182 ] loss: 7.101 correct: 1319.000, total: 3000.000, accuracy: 0.440\n",
            "training epoch: [183 ] loss: 7.100 correct: 1319.000, total: 3000.000, accuracy: 0.440\n",
            "training epoch: [184 ] loss: 7.100 correct: 1318.000, total: 3000.000, accuracy: 0.439\n",
            "training epoch: [185 ] loss: 7.100 correct: 1319.000, total: 3000.000, accuracy: 0.440\n",
            "training epoch: [186 ] loss: 7.099 correct: 1320.000, total: 3000.000, accuracy: 0.440\n",
            "training epoch: [187 ] loss: 7.099 correct: 1321.000, total: 3000.000, accuracy: 0.440\n",
            "training epoch: [188 ] loss: 7.098 correct: 1321.000, total: 3000.000, accuracy: 0.440\n",
            "training epoch: [189 ] loss: 7.098 correct: 1321.000, total: 3000.000, accuracy: 0.440\n",
            "training epoch: [190 ] loss: 7.098 correct: 1321.000, total: 3000.000, accuracy: 0.440\n",
            "training epoch: [191 ] loss: 7.097 correct: 1321.000, total: 3000.000, accuracy: 0.440\n",
            "training epoch: [192 ] loss: 7.097 correct: 1321.000, total: 3000.000, accuracy: 0.440\n",
            "training epoch: [193 ] loss: 7.097 correct: 1321.000, total: 3000.000, accuracy: 0.440\n",
            "training epoch: [194 ] loss: 7.097 correct: 1321.000, total: 3000.000, accuracy: 0.440\n",
            "training epoch: [195 ] loss: 7.096 correct: 1321.000, total: 3000.000, accuracy: 0.440\n",
            "training epoch: [196 ] loss: 7.096 correct: 1322.000, total: 3000.000, accuracy: 0.441\n",
            "training epoch: [197 ] loss: 7.096 correct: 1322.000, total: 3000.000, accuracy: 0.441\n",
            "training epoch: [198 ] loss: 7.095 correct: 1323.000, total: 3000.000, accuracy: 0.441\n",
            "training epoch: [199 ] loss: 7.095 correct: 1323.000, total: 3000.000, accuracy: 0.441\n",
            "training epoch: [200 ] loss: 7.095 correct: 1323.000, total: 3000.000, accuracy: 0.441\n",
            "Finished Training run \n"
          ],
          "name": "stdout"
        }
      ]
    },
    {
      "cell_type": "code",
      "metadata": {
        "id": "AciJnAh5nfug"
      },
      "source": [
        "columns = [\"epochs\", \"argmax > 0.5\" ,\"argmax < 0.5\", \"focus_true_pred_true\", \"focus_false_pred_true\", \"focus_true_pred_false\", \"focus_false_pred_false\" ]\n",
        "df_train = pd.DataFrame()\n",
        "df_test = pd.DataFrame()\n",
        "df_train[columns[0]] = np.arange(0,epoch+2)\n",
        "df_train[columns[1]] = analysis_data_tr[:,-2]/30\n",
        "df_train[columns[2]] = analysis_data_tr[:,-1]/30\n",
        "df_train[columns[3]] = analysis_data_tr[:,0]/30\n",
        "df_train[columns[4]] = analysis_data_tr[:,1]/30\n",
        "df_train[columns[5]] = analysis_data_tr[:,2]/30\n",
        "df_train[columns[6]] = analysis_data_tr[:,3]/30"
      ],
      "execution_count": 18,
      "outputs": []
    },
    {
      "cell_type": "code",
      "metadata": {
        "colab": {
          "base_uri": "https://localhost:8080/",
          "height": 456
        },
        "id": "NoQpS_6scRsC",
        "outputId": "63001f21-9af8-41d5-cdb4-ff150629c7ea"
      },
      "source": [
        "df_train"
      ],
      "execution_count": 19,
      "outputs": [
        {
          "output_type": "execute_result",
          "data": {
            "text/html": [
              "<div>\n",
              "<style scoped>\n",
              "    .dataframe tbody tr th:only-of-type {\n",
              "        vertical-align: middle;\n",
              "    }\n",
              "\n",
              "    .dataframe tbody tr th {\n",
              "        vertical-align: top;\n",
              "    }\n",
              "\n",
              "    .dataframe thead th {\n",
              "        text-align: right;\n",
              "    }\n",
              "</style>\n",
              "<table border=\"1\" class=\"dataframe\">\n",
              "  <thead>\n",
              "    <tr style=\"text-align: right;\">\n",
              "      <th></th>\n",
              "      <th>epochs</th>\n",
              "      <th>argmax &gt; 0.5</th>\n",
              "      <th>argmax &lt; 0.5</th>\n",
              "      <th>focus_true_pred_true</th>\n",
              "      <th>focus_false_pred_true</th>\n",
              "      <th>focus_true_pred_false</th>\n",
              "      <th>focus_false_pred_false</th>\n",
              "    </tr>\n",
              "  </thead>\n",
              "  <tbody>\n",
              "    <tr>\n",
              "      <th>0</th>\n",
              "      <td>0</td>\n",
              "      <td>9.800000</td>\n",
              "      <td>90.200000</td>\n",
              "      <td>5.233333</td>\n",
              "      <td>32.533333</td>\n",
              "      <td>6.533333</td>\n",
              "      <td>55.700000</td>\n",
              "    </tr>\n",
              "    <tr>\n",
              "      <th>1</th>\n",
              "      <td>1</td>\n",
              "      <td>10.000000</td>\n",
              "      <td>90.000000</td>\n",
              "      <td>5.666667</td>\n",
              "      <td>32.300000</td>\n",
              "      <td>6.833333</td>\n",
              "      <td>55.200000</td>\n",
              "    </tr>\n",
              "    <tr>\n",
              "      <th>2</th>\n",
              "      <td>2</td>\n",
              "      <td>10.433333</td>\n",
              "      <td>89.566667</td>\n",
              "      <td>6.433333</td>\n",
              "      <td>31.700000</td>\n",
              "      <td>7.133333</td>\n",
              "      <td>54.733333</td>\n",
              "    </tr>\n",
              "    <tr>\n",
              "      <th>3</th>\n",
              "      <td>3</td>\n",
              "      <td>10.633333</td>\n",
              "      <td>89.366667</td>\n",
              "      <td>6.800000</td>\n",
              "      <td>31.466667</td>\n",
              "      <td>7.600000</td>\n",
              "      <td>54.133333</td>\n",
              "    </tr>\n",
              "    <tr>\n",
              "      <th>4</th>\n",
              "      <td>4</td>\n",
              "      <td>10.500000</td>\n",
              "      <td>89.500000</td>\n",
              "      <td>7.300000</td>\n",
              "      <td>31.400000</td>\n",
              "      <td>7.800000</td>\n",
              "      <td>53.500000</td>\n",
              "    </tr>\n",
              "    <tr>\n",
              "      <th>...</th>\n",
              "      <td>...</td>\n",
              "      <td>...</td>\n",
              "      <td>...</td>\n",
              "      <td>...</td>\n",
              "      <td>...</td>\n",
              "      <td>...</td>\n",
              "      <td>...</td>\n",
              "    </tr>\n",
              "    <tr>\n",
              "      <th>196</th>\n",
              "      <td>196</td>\n",
              "      <td>15.800000</td>\n",
              "      <td>84.200000</td>\n",
              "      <td>14.733333</td>\n",
              "      <td>29.333333</td>\n",
              "      <td>12.666667</td>\n",
              "      <td>43.266667</td>\n",
              "    </tr>\n",
              "    <tr>\n",
              "      <th>197</th>\n",
              "      <td>197</td>\n",
              "      <td>15.800000</td>\n",
              "      <td>84.200000</td>\n",
              "      <td>14.766667</td>\n",
              "      <td>29.300000</td>\n",
              "      <td>12.700000</td>\n",
              "      <td>43.233333</td>\n",
              "    </tr>\n",
              "    <tr>\n",
              "      <th>198</th>\n",
              "      <td>198</td>\n",
              "      <td>15.800000</td>\n",
              "      <td>84.200000</td>\n",
              "      <td>14.766667</td>\n",
              "      <td>29.333333</td>\n",
              "      <td>12.700000</td>\n",
              "      <td>43.200000</td>\n",
              "    </tr>\n",
              "    <tr>\n",
              "      <th>199</th>\n",
              "      <td>199</td>\n",
              "      <td>15.800000</td>\n",
              "      <td>84.200000</td>\n",
              "      <td>14.766667</td>\n",
              "      <td>29.333333</td>\n",
              "      <td>12.733333</td>\n",
              "      <td>43.166667</td>\n",
              "    </tr>\n",
              "    <tr>\n",
              "      <th>200</th>\n",
              "      <td>200</td>\n",
              "      <td>15.800000</td>\n",
              "      <td>84.200000</td>\n",
              "      <td>14.766667</td>\n",
              "      <td>29.333333</td>\n",
              "      <td>12.733333</td>\n",
              "      <td>43.166667</td>\n",
              "    </tr>\n",
              "  </tbody>\n",
              "</table>\n",
              "<p>201 rows × 7 columns</p>\n",
              "</div>"
            ],
            "text/plain": [
              "     epochs  argmax > 0.5  ...  focus_true_pred_false  focus_false_pred_false\n",
              "0         0      9.800000  ...               6.533333               55.700000\n",
              "1         1     10.000000  ...               6.833333               55.200000\n",
              "2         2     10.433333  ...               7.133333               54.733333\n",
              "3         3     10.633333  ...               7.600000               54.133333\n",
              "4         4     10.500000  ...               7.800000               53.500000\n",
              "..      ...           ...  ...                    ...                     ...\n",
              "196     196     15.800000  ...              12.666667               43.266667\n",
              "197     197     15.800000  ...              12.700000               43.233333\n",
              "198     198     15.800000  ...              12.700000               43.200000\n",
              "199     199     15.800000  ...              12.733333               43.166667\n",
              "200     200     15.800000  ...              12.733333               43.166667\n",
              "\n",
              "[201 rows x 7 columns]"
            ]
          },
          "metadata": {
            "tags": []
          },
          "execution_count": 19
        }
      ]
    },
    {
      "cell_type": "code",
      "metadata": {
        "colab": {
          "base_uri": "https://localhost:8080/",
          "height": 404
        },
        "id": "IMAhRdxOcVf6",
        "outputId": "62d3eced-ea4b-401d-f57e-c4e600bf3586"
      },
      "source": [
        "fig= plt.figure(figsize=(6,6))\n",
        "plt.plot(df_train[columns[0]],df_train[columns[3]], label =\"focus_true_pred_true \")\n",
        "plt.plot(df_train[columns[0]],df_train[columns[4]], label =\"focus_false_pred_true \")\n",
        "plt.plot(df_train[columns[0]],df_train[columns[5]], label =\"focus_true_pred_false \")\n",
        "plt.plot(df_train[columns[0]],df_train[columns[6]], label =\"focus_false_pred_false \")\n",
        "plt.title(\"On Train set\")\n",
        "plt.legend(loc='center left', bbox_to_anchor=(1, 0.5))\n",
        "plt.xlabel(\"epochs\")\n",
        "plt.ylabel(\"percentage of data\")\n",
        "plt.xticks([0,50,100,150,200])\n",
        "#plt.vlines(vline_list,min(min(df_train[columns[3]]/300),min(df_train[columns[4]]/300),min(df_train[columns[5]]/300),min(df_train[columns[6]]/300)), max(max(df_train[columns[3]]/300),max(df_train[columns[4]]/300),max(df_train[columns[5]]/300),max(df_train[columns[6]]/300)),linestyles='dotted')\n",
        "plt.show()\n",
        "fig.savefig(\"train_analysis.pdf\")\n",
        "fig.savefig(\"train_analysis.png\")"
      ],
      "execution_count": 20,
      "outputs": [
        {
          "output_type": "display_data",
          "data": {
            "image/png": "[encoded data removed]",
            "text/plain": [
              "<Figure size 432x432 with 1 Axes>"
            ]
          },
          "metadata": {
            "tags": [],
            "needs_background": "light"
          }
        }
      ]
    },
    {
      "cell_type": "code",
      "metadata": {
        "id": "VCnS6r2_3WdU"
      },
      "source": [
        "aph = []\n",
        "for i in bg:\n",
        "  aph.append(F.softmax(i,dim=1).detach().numpy())\n",
        "aph = np.concatenate(aph,axis=0)\n",
        "# torch.save({\n",
        "#             'epoch': 500,\n",
        "#             'model_state_dict': what_net.state_dict(),\n",
        "#             #'optimizer_state_dict': optimizer_what.state_dict(),\n",
        "#             \"optimizer_alpha\":optim1,\n",
        "#             \"FTPT_analysis\":analysis_data_tr,\n",
        "#             \"alpha\":aph\n",
        "\n",
        "#             }, \"type4_what_net_500.pt\")"
      ],
      "execution_count": 21,
      "outputs": []
    },
    {
      "cell_type": "code",
      "metadata": {
        "colab": {
          "base_uri": "https://localhost:8080/"
        },
        "id": "KVzrDOGS4UxU",
        "outputId": "1dbfa7ef-ceec-4cf8-8175-56be69052dc1"
      },
      "source": [
        "aph[0]"
      ],
      "execution_count": 22,
      "outputs": [
        {
          "output_type": "execute_result",
          "data": {
            "text/plain": [
              "array([0.02608969, 0.04023887, 0.13005222, 0.16192424, 0.28530735,\n",
              "       0.2038982 , 0.06394628, 0.01240987, 0.07613333], dtype=float32)"
            ]
          },
          "metadata": {
            "tags": []
          },
          "execution_count": 22
        }
      ]
    },
    {
      "cell_type": "code",
      "metadata": {
        "id": "yF2bvWdIWUTa"
      },
      "source": [
        "xx,yy= np.meshgrid(np.arange(1,8,0.01),np.arange(2,9,0.01))\n",
        "X = np.concatenate((xx.reshape(-1,1),yy.reshape(-1,1)),axis=1)\n",
        "X = torch.Tensor(X).double().to(\"cuda\")\n",
        "Y1 = what_net(X)"
      ],
      "execution_count": 23,
      "outputs": []
    },
    {
      "cell_type": "code",
      "metadata": {
        "id": "GENNdxJEa_Xi"
      },
      "source": [
        "Y1 = Y1.to(\"cpu\")\n",
        "Y1 = Y1.detach().numpy()\n",
        "Y1 = torch.softmax(torch.Tensor(Y1),dim=1)\n",
        "_,Z4= torch.max(Y1,1)\n",
        "Z1 = Y1[:,0]\n",
        "Z2 = Y1[:,1]\n",
        "Z3 = Y1[:,2]"
      ],
      "execution_count": 24,
      "outputs": []
    },
    {
      "cell_type": "code",
      "metadata": {
        "id": "5ZwEogAobesX"
      },
      "source": [
        "X = X.to(\"cpu\")"
      ],
      "execution_count": 25,
      "outputs": []
    },
    {
      "cell_type": "code",
      "metadata": {
        "colab": {
          "base_uri": "https://localhost:8080/"
        },
        "id": "ZIoUNsgebIku",
        "outputId": "bce7ed86-e78d-4cda-8dd6-9c1418972745"
      },
      "source": [
        "data = np.load(\"type_4_data.npy\",allow_pickle=True)\n",
        "x = data[0][\"X\"]\n",
        "y = data[0][\"Y\"]\n",
        "idx= []\n",
        "for i in range(10):\n",
        "  print(i,sum(y==i))\n",
        "  idx.append(y==i)"
      ],
      "execution_count": 26,
      "outputs": [
        {
          "output_type": "stream",
          "text": [
            "0 482\n",
            "1 485\n",
            "2 536\n",
            "3 504\n",
            "4 493\n",
            "5 513\n",
            "6 497\n",
            "7 486\n",
            "8 522\n",
            "9 482\n"
          ],
          "name": "stdout"
        }
      ]
    },
    {
      "cell_type": "code",
      "metadata": {
        "id": "7Ut6ZTAXbvqx"
      },
      "source": [
        "avrg = []\n",
        "with torch.no_grad():\n",
        "  for i, data in  enumerate(train_loader):\n",
        "          inputs , labels , fore_idx = data\n",
        "          inputs = inputs.double()\n",
        "          inputs, labels = inputs.to(\"cuda\"),labels.to(\"cuda\")\n",
        "          beta  = bg[i]\n",
        "          beta = beta.to(\"cuda\")\n",
        "          avg,alpha = attn_avg(inputs,beta)\n",
        "          \n",
        "          avrg.append(avg.detach().cpu().numpy())\n",
        "avrg= np.concatenate(avrg,axis=0)"
      ],
      "execution_count": 27,
      "outputs": []
    },
    {
      "cell_type": "code",
      "metadata": {
        "colab": {
          "base_uri": "https://localhost:8080/",
          "height": 374
        },
        "id": "5PAwMQXzbQJR",
        "outputId": "ac987e91-0653-4469-b943-843bd3fb5b05"
      },
      "source": [
        "fig = plt.figure(figsize=(6,6))\n",
        "#plt.scatter(X[:,0],X[:,1],c=Z4)\n",
        "Z4 = Z4.reshape(xx.shape)\n",
        "plt.contourf(xx, yy, Z4, alpha=0.4)\n",
        "for i in range(3):\n",
        "  plt.scatter(x[idx[i],0],x[idx[i],1],label=\"class_\"+str(i),alpha=0.8)\n",
        "plt.legend(loc='center left', bbox_to_anchor=(1, 0.5))\n",
        "plt.scatter(avrg[:,0],avrg[:,1],alpha=0.2)\n",
        "plt.savefig(\"decision_boundary.png\",bbox_inches=\"tight\")\n"
      ],
      "execution_count": 28,
      "outputs": [
        {
          "output_type": "display_data",
          "data": {
            "image/png": "[encoded data removed]",
            "text/plain": [
              "<Figure size 432x432 with 1 Axes>"
            ]
          },
          "metadata": {
            "tags": [],
            "needs_background": "light"
          }
        }
      ]
    },
    {
      "cell_type": "code",
      "metadata": {
        "id": "6KHn17Rbceqt"
      },
      "source": [
        ""
      ],
      "execution_count": 28,
      "outputs": []
    }
  ]
}