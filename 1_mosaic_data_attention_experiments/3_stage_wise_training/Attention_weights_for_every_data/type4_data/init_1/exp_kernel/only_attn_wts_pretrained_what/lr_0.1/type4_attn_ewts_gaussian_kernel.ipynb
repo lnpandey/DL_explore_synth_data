{
  "nbformat": 4,
  "nbformat_minor": 0,
  "metadata": {
    "accelerator": "GPU",
    "colab": {
      "name": "type4_attn_ewts_gaussian_kernel.ipynb",
      "provenance": [],
      "collapsed_sections": []
    },
    "kernelspec": {
      "display_name": "Python 3",
      "name": "python3"
    },
    "language_info": {
      "name": "python"
    }
  },
  "cells": [
    {
      "cell_type": "code",
      "metadata": {
        "id": "BWIyC9Ip_bcq"
      },
      "source": [
        "import numpy as np\n",
        "import pandas as pd\n",
        "\n",
        "import torch\n",
        "import torchvision\n",
        "from torch.utils.data import Dataset, DataLoader\n",
        "from torchvision import transforms, utils\n",
        "import torch.nn as nn\n",
        "import torch.nn.functional as F\n",
        "import torch.optim as optim\n",
        "\n",
        "from matplotlib import pyplot as plt\n",
        "from myrmsprop import MyRmsprop\n",
        "%matplotlib inline\n",
        "torch.backends.cudnn.deterministic = True\n",
        "torch.backends.cudnn.benchmark = False"
      ],
      "execution_count": 1,
      "outputs": []
    },
    {
      "cell_type": "code",
      "metadata": {
        "id": "lGVy-1EllAc_"
      },
      "source": [
        "train_data = np.load(\"train_type4_data.npy\",allow_pickle=True)\n",
        "\n",
        "test_data = np.load(\"test_type4_data.npy\",allow_pickle=True)"
      ],
      "execution_count": 2,
      "outputs": []
    },
    {
      "cell_type": "code",
      "metadata": {
        "id": "uL771xuGZC5Q"
      },
      "source": [
        "mosaic_list_of_images = train_data[0][\"mosaic_list\"]\n",
        "mosaic_label = train_data[0][\"mosaic_label\"]\n",
        "fore_idx = train_data[0][\"fore_idx\"]\n",
        "\n",
        "\n",
        "test_mosaic_list_of_images = test_data[0][\"mosaic_list\"]\n",
        "test_mosaic_label = test_data[0][\"mosaic_label\"]\n",
        "test_fore_idx = test_data[0][\"fore_idx\"]"
      ],
      "execution_count": 3,
      "outputs": []
    },
    {
      "cell_type": "code",
      "metadata": {
        "id": "x2qfRXfNZCao"
      },
      "source": [
        "class MosaicDataset1(Dataset):\n",
        "  \"\"\"MosaicDataset dataset.\"\"\"\n",
        "\n",
        "  def __init__(self, mosaic_list, mosaic_label,fore_idx):\n",
        "    \"\"\"\n",
        "      Args:\n",
        "        csv_file (string): Path to the csv file with annotations.\n",
        "        root_dir (string): Directory with all the images.\n",
        "        transform (callable, optional): Optional transform to be applied\n",
        "            on a sample.\n",
        "    \"\"\"\n",
        "    self.mosaic = mosaic_list\n",
        "    self.label = mosaic_label\n",
        "    self.fore_idx = fore_idx\n",
        "    \n",
        "  def __len__(self):\n",
        "    return len(self.label)\n",
        "\n",
        "  def __getitem__(self, idx):\n",
        "    return self.mosaic[idx] , self.label[idx] , self.fore_idx[idx]"
      ],
      "execution_count": 4,
      "outputs": []
    },
    {
      "cell_type": "code",
      "metadata": {
        "id": "uf76JwkxZCT0"
      },
      "source": [
        "batch = 3000\n",
        "train_dataset = MosaicDataset1(mosaic_list_of_images, mosaic_label, fore_idx)\n",
        "train_loader = DataLoader( train_dataset,batch_size= batch ,shuffle=False)\n",
        "#batch = 2000\n",
        "#test_dataset = MosaicDataset1(test_mosaic_list_of_images, test_mosaic_label, test_fore_idx)\n",
        "#test_loader = DataLoader(test_dataset,batch_size= batch ,shuffle=False)"
      ],
      "execution_count": 5,
      "outputs": []
    },
    {
      "cell_type": "code",
      "metadata": {
        "id": "DOpZfj1bq7wN"
      },
      "source": [
        "n_batches = 3000//batch\n",
        "bg = []\n",
        "for i in range(n_batches):\n",
        "  torch.manual_seed(i)\n",
        "  betag = torch.randn(3000,9)#torch.ones((250,9))/9\n",
        "  bg.append( betag.requires_grad_() )"
      ],
      "execution_count": 6,
      "outputs": []
    },
    {
      "cell_type": "code",
      "metadata": {
        "colab": {
          "base_uri": "https://localhost:8080/"
        },
        "id": "fzb3ii4drXpu",
        "outputId": "5c279a01-6def-451c-ffa6-cb87ff00df6a"
      },
      "source": [
        "len(bg)"
      ],
      "execution_count": 7,
      "outputs": [
        {
          "output_type": "execute_result",
          "data": {
            "text/plain": [
              "1"
            ]
          },
          "metadata": {
            "tags": []
          },
          "execution_count": 7
        }
      ]
    },
    {
      "cell_type": "code",
      "metadata": {
        "colab": {
          "base_uri": "https://localhost:8080/"
        },
        "id": "Am8LcQm1Og-f",
        "outputId": "6f9d1ba5-a7f5-444a-9f29-63d48d022e49"
      },
      "source": [
        "#H = np.zeros((27000,27000))\n",
        "for i, data in enumerate(train_loader, 0):\n",
        "  print(i) # only one batch\n",
        "  inputs,_,_ = data\n",
        "  inputs = torch.reshape(inputs,(27000,2))\n",
        "  dis = torch.cdist(inputs,inputs)**2\n",
        "  gamma = -1/torch.median(dis)\n",
        "  print(gamma)\n",
        "  H = torch.exp(gamma*dis)\n"
      ],
      "execution_count": 8,
      "outputs": [
        {
          "output_type": "stream",
          "text": [
            "0\n",
            "tensor(-0.0948)\n"
          ],
          "name": "stdout"
        }
      ]
    },
    {
      "cell_type": "code",
      "metadata": {
        "colab": {
          "base_uri": "https://localhost:8080/"
        },
        "id": "rTxUQEquHYqj",
        "outputId": "ef3111d9-a031-44ab-cd68-ec775d8eaeec"
      },
      "source": [
        "H.shape"
      ],
      "execution_count": 9,
      "outputs": [
        {
          "output_type": "execute_result",
          "data": {
            "text/plain": [
              "torch.Size([27000, 27000])"
            ]
          },
          "metadata": {
            "tags": []
          },
          "execution_count": 9
        }
      ]
    },
    {
      "cell_type": "code",
      "metadata": {
        "id": "HbrMidFCla6h"
      },
      "source": [
        "class Module2(nn.Module):\n",
        "  def __init__(self):\n",
        "    super(Module2, self).__init__()\n",
        "    self.linear1 = nn.Linear(2,100)\n",
        "    self.linear2 = nn.Linear(100,3)\n",
        "\n",
        "  def forward(self,x):\n",
        "    x = F.relu(self.linear1(x))\n",
        "    x = self.linear2(x)\n",
        "    return x"
      ],
      "execution_count": 10,
      "outputs": []
    },
    {
      "cell_type": "code",
      "metadata": {
        "id": "rRqj2VELllkX"
      },
      "source": [
        "torch.manual_seed(1234)\n",
        "what_net = Module2().double()\n",
        "\n",
        "what_net.load_state_dict(torch.load(\"type4_what_net.pt\"))\n",
        "what_net = what_net.to(\"cuda\")"
      ],
      "execution_count": 11,
      "outputs": []
    },
    {
      "cell_type": "code",
      "metadata": {
        "id": "6d8Wch99l4yB"
      },
      "source": [
        "def attn_avg(x,beta):\n",
        "  y = torch.zeros([batch,2], dtype=torch.float64)\n",
        "  y = y.to(\"cuda\")\n",
        "  alpha = F.softmax(beta,dim=1)   # alphas\n",
        "  #print(alpha[0],x[0,:])\n",
        "  for i in range(9):            \n",
        "    alpha1 = alpha[:,i]      \n",
        "    y = y + torch.mul(alpha1[:,None],x[:,i])\n",
        "  return y,alpha\n"
      ],
      "execution_count": 12,
      "outputs": []
    },
    {
      "cell_type": "code",
      "metadata": {
        "id": "Rz1Kpw12loV6"
      },
      "source": [
        "def calculate_attn_loss(dataloader,what,criter):\n",
        "  what.eval()\n",
        "  r_loss = 0\n",
        "  alphas = []\n",
        "  lbls = []\n",
        "  pred = []\n",
        "  fidices = []\n",
        "  correct = 0\n",
        "  tot = 0\n",
        "  with torch.no_grad():\n",
        "    for i, data in enumerate(dataloader, 0):\n",
        "      inputs, labels,fidx= data\n",
        "      lbls.append(labels)\n",
        "      fidices.append(fidx)\n",
        "      inputs = inputs.double()\n",
        "      beta = bg[i]  # beta for ith batch\n",
        "      inputs, labels,beta = inputs.to(\"cuda\"),labels.to(\"cuda\"),beta.to(\"cuda\")\n",
        "      avg,alpha = attn_avg(inputs,beta)\n",
        "      alpha = alpha.to(\"cuda\")\n",
        "      outputs = what(avg)\n",
        "      _, predicted = torch.max(outputs.data, 1)\n",
        "      correct += sum(predicted == labels)\n",
        "      tot += len(predicted)\n",
        "      pred.append(predicted.cpu().numpy())\n",
        "      alphas.append(alpha.cpu().numpy())\n",
        "      loss = criter(outputs, labels)\n",
        "      r_loss += loss.item()\n",
        "  alphas = np.concatenate(alphas,axis=0)\n",
        "  pred = np.concatenate(pred,axis=0)\n",
        "  lbls = np.concatenate(lbls,axis=0)\n",
        "  fidices = np.concatenate(fidices,axis=0)\n",
        "  #print(alphas.shape,pred.shape,lbls.shape,fidices.shape) \n",
        "  analysis = analyse_data(alphas,lbls,pred,fidices)\n",
        "  return r_loss/(i+1),analysis,correct.item(),tot,correct.item()/tot"
      ],
      "execution_count": 13,
      "outputs": []
    },
    {
      "cell_type": "code",
      "metadata": {
        "id": "sAY-x6UAwrwE"
      },
      "source": [
        "for param in what_net.parameters():\n",
        "    param.requires_grad = False"
      ],
      "execution_count": 14,
      "outputs": []
    },
    {
      "cell_type": "code",
      "metadata": {
        "id": "_toCktPanH0S"
      },
      "source": [
        "\n",
        "def analyse_data(alphas,lbls,predicted,f_idx):\n",
        "    '''\n",
        "       analysis data is created here\n",
        "    '''\n",
        "    batch = len(predicted)\n",
        "    amth,alth,ftpt,ffpt,ftpf,ffpf = 0,0,0,0,0,0\n",
        "    for j in range (batch):\n",
        "      focus = np.argmax(alphas[j])\n",
        "      if(alphas[j][focus] >= 0.5):\n",
        "        amth +=1\n",
        "      else:\n",
        "        alth +=1\n",
        "      if(focus == f_idx[j] and predicted[j] == lbls[j]):\n",
        "        ftpt += 1\n",
        "      elif(focus != f_idx[j] and predicted[j] == lbls[j]):\n",
        "        ffpt +=1\n",
        "      elif(focus == f_idx[j] and predicted[j] != lbls[j]):\n",
        "        ftpf +=1\n",
        "      elif(focus != f_idx[j] and predicted[j] != lbls[j]):\n",
        "        ffpf +=1\n",
        "    #print(sum(predicted==lbls),ftpt+ffpt)\n",
        "    return [ftpt,ffpt,ftpf,ffpf,amth,alth]"
      ],
      "execution_count": 15,
      "outputs": []
    },
    {
      "cell_type": "code",
      "metadata": {
        "id": "S633XgMToeN3"
      },
      "source": [
        "optim1 = []\n",
        "H= H.to(\"cpu\")\n",
        "for i in range(n_batches):\n",
        "  optim1.append(MyRmsprop([bg[i]],H=H,lr=0.1))\n",
        "  #optim1.append(optim.RMSprop([bg[i]],lr=0.1))"
      ],
      "execution_count": 16,
      "outputs": []
    },
    {
      "cell_type": "code",
      "metadata": {
        "colab": {
          "base_uri": "https://localhost:8080/"
        },
        "id": "qPaYaojinMTA",
        "outputId": "6738b505-0fa8-49d8-fe6b-9174d61e665b"
      },
      "source": [
        "# instantiate optimizer\n",
        "#optimizer_what = optim.RMSprop(what_net.parameters(), lr=0.001)#, momentum=0.9)#,nesterov=True)\n",
        "\n",
        "\n",
        " \n",
        "\n",
        "\n",
        "criterion = nn.CrossEntropyLoss()\n",
        "acti = []\n",
        "analysis_data_tr = []\n",
        "analysis_data_tst = []\n",
        "loss_curi_tr = []\n",
        "loss_curi_tst = []\n",
        "epochs = 200\n",
        "\n",
        "\n",
        "# calculate zeroth epoch loss and FTPT values\n",
        "running_loss,anlys_data,correct,total,accuracy = calculate_attn_loss(train_loader,what_net,criterion)\n",
        "print('training epoch: [%d ] loss: %.3f correct: %.3f, total: %.3f, accuracy: %.3f' %(0,running_loss,correct,total,accuracy)) \n",
        "loss_curi_tr.append(running_loss)\n",
        "analysis_data_tr.append(anlys_data)\n",
        "\n",
        "\n",
        "\n",
        "\n",
        "# training starts \n",
        "for epoch in range(epochs): # loop over the dataset multiple times\n",
        "  ep_lossi = []\n",
        "  running_loss = 0.0\n",
        "  #what_net.train()\n",
        "  for i, data in enumerate(train_loader, 0):\n",
        "    # get the inputs\n",
        "    inputs, labels,_  = data\n",
        "    inputs = inputs.double()\n",
        "    beta = bg[i] # alpha for ith batch\n",
        "    #print(labels)\n",
        "    inputs, labels,beta = inputs.to(\"cuda\"),labels.to(\"cuda\"),beta.to(\"cuda\")\n",
        "        \n",
        "    # zero the parameter gradients\n",
        "    #optimizer_what.zero_grad()\n",
        "    optim1[i].zero_grad()\n",
        "      \n",
        "    # forward + backward + optimize\n",
        "    avg,alpha = attn_avg(inputs,beta)\n",
        "    outputs = what_net(avg)     \n",
        "    loss = criterion(outputs, labels)\n",
        "\n",
        "    # print statistics\n",
        "    running_loss += loss.item()\n",
        "    #alpha.retain_grad()\n",
        "    loss.backward(retain_graph=False)\n",
        "    #optimizer_what.step()\n",
        "    optim1[i].step()\n",
        "\n",
        "\n",
        "  running_loss_tr,anls_data,correct,total,accuracy = calculate_attn_loss(train_loader,what_net,criterion)\n",
        "  analysis_data_tr.append(anls_data)\n",
        "  loss_curi_tr.append(running_loss_tr)   #loss per epoch\n",
        "  print('training epoch: [%d ] loss: %.3f correct: %.3f, total: %.3f, accuracy: %.3f' %(epoch+1,running_loss_tr,correct,total,accuracy)) \n",
        "\n",
        "\n",
        "  \n",
        "  if running_loss_tr<=0.08:\n",
        "    break\n",
        "print('Finished Training run ')\n",
        "analysis_data_tr = np.array(analysis_data_tr)\n",
        "\n"
      ],
      "execution_count": 17,
      "outputs": [
        {
          "output_type": "stream",
          "text": [
            "training epoch: [0 ] loss: 10.201 correct: 1133.000, total: 3000.000, accuracy: 0.378\n",
            "training epoch: [1 ] loss: 11.546 correct: 1182.000, total: 3000.000, accuracy: 0.394\n",
            "training epoch: [2 ] loss: 7.135 correct: 1323.000, total: 3000.000, accuracy: 0.441\n",
            "training epoch: [3 ] loss: 6.216 correct: 1359.000, total: 3000.000, accuracy: 0.453\n",
            "training epoch: [4 ] loss: 5.460 correct: 1429.000, total: 3000.000, accuracy: 0.476\n",
            "training epoch: [5 ] loss: 4.860 correct: 1488.000, total: 3000.000, accuracy: 0.496\n",
            "training epoch: [6 ] loss: 4.390 correct: 1548.000, total: 3000.000, accuracy: 0.516\n",
            "training epoch: [7 ] loss: 4.003 correct: 1595.000, total: 3000.000, accuracy: 0.532\n",
            "training epoch: [8 ] loss: 3.673 correct: 1655.000, total: 3000.000, accuracy: 0.552\n",
            "training epoch: [9 ] loss: 3.385 correct: 1701.000, total: 3000.000, accuracy: 0.567\n",
            "training epoch: [10 ] loss: 3.130 correct: 1746.000, total: 3000.000, accuracy: 0.582\n",
            "training epoch: [11 ] loss: 2.906 correct: 1807.000, total: 3000.000, accuracy: 0.602\n",
            "training epoch: [12 ] loss: 2.707 correct: 1865.000, total: 3000.000, accuracy: 0.622\n",
            "training epoch: [13 ] loss: 2.529 correct: 1917.000, total: 3000.000, accuracy: 0.639\n",
            "training epoch: [14 ] loss: 2.367 correct: 1954.000, total: 3000.000, accuracy: 0.651\n",
            "training epoch: [15 ] loss: 2.219 correct: 1999.000, total: 3000.000, accuracy: 0.666\n",
            "training epoch: [16 ] loss: 2.081 correct: 2043.000, total: 3000.000, accuracy: 0.681\n",
            "training epoch: [17 ] loss: 1.955 correct: 2082.000, total: 3000.000, accuracy: 0.694\n",
            "training epoch: [18 ] loss: 1.841 correct: 2110.000, total: 3000.000, accuracy: 0.703\n",
            "training epoch: [19 ] loss: 1.735 correct: 2144.000, total: 3000.000, accuracy: 0.715\n",
            "training epoch: [20 ] loss: 1.639 correct: 2176.000, total: 3000.000, accuracy: 0.725\n",
            "training epoch: [21 ] loss: 1.550 correct: 2212.000, total: 3000.000, accuracy: 0.737\n",
            "training epoch: [22 ] loss: 1.468 correct: 2234.000, total: 3000.000, accuracy: 0.745\n",
            "training epoch: [23 ] loss: 1.394 correct: 2251.000, total: 3000.000, accuracy: 0.750\n",
            "training epoch: [24 ] loss: 1.325 correct: 2279.000, total: 3000.000, accuracy: 0.760\n",
            "training epoch: [25 ] loss: 1.261 correct: 2306.000, total: 3000.000, accuracy: 0.769\n",
            "training epoch: [26 ] loss: 1.203 correct: 2319.000, total: 3000.000, accuracy: 0.773\n",
            "training epoch: [27 ] loss: 1.148 correct: 2344.000, total: 3000.000, accuracy: 0.781\n",
            "training epoch: [28 ] loss: 1.096 correct: 2353.000, total: 3000.000, accuracy: 0.784\n",
            "training epoch: [29 ] loss: 1.047 correct: 2372.000, total: 3000.000, accuracy: 0.791\n",
            "training epoch: [30 ] loss: 1.001 correct: 2387.000, total: 3000.000, accuracy: 0.796\n",
            "training epoch: [31 ] loss: 0.958 correct: 2399.000, total: 3000.000, accuracy: 0.800\n",
            "training epoch: [32 ] loss: 0.918 correct: 2418.000, total: 3000.000, accuracy: 0.806\n",
            "training epoch: [33 ] loss: 0.881 correct: 2434.000, total: 3000.000, accuracy: 0.811\n",
            "training epoch: [34 ] loss: 0.846 correct: 2449.000, total: 3000.000, accuracy: 0.816\n",
            "training epoch: [35 ] loss: 0.814 correct: 2456.000, total: 3000.000, accuracy: 0.819\n",
            "training epoch: [36 ] loss: 0.785 correct: 2472.000, total: 3000.000, accuracy: 0.824\n",
            "training epoch: [37 ] loss: 0.758 correct: 2484.000, total: 3000.000, accuracy: 0.828\n",
            "training epoch: [38 ] loss: 0.732 correct: 2498.000, total: 3000.000, accuracy: 0.833\n",
            "training epoch: [39 ] loss: 0.709 correct: 2503.000, total: 3000.000, accuracy: 0.834\n",
            "training epoch: [40 ] loss: 0.686 correct: 2506.000, total: 3000.000, accuracy: 0.835\n",
            "training epoch: [41 ] loss: 0.666 correct: 2509.000, total: 3000.000, accuracy: 0.836\n",
            "training epoch: [42 ] loss: 0.646 correct: 2519.000, total: 3000.000, accuracy: 0.840\n",
            "training epoch: [43 ] loss: 0.628 correct: 2528.000, total: 3000.000, accuracy: 0.843\n",
            "training epoch: [44 ] loss: 0.611 correct: 2533.000, total: 3000.000, accuracy: 0.844\n",
            "training epoch: [45 ] loss: 0.594 correct: 2541.000, total: 3000.000, accuracy: 0.847\n",
            "training epoch: [46 ] loss: 0.579 correct: 2547.000, total: 3000.000, accuracy: 0.849\n",
            "training epoch: [47 ] loss: 0.564 correct: 2552.000, total: 3000.000, accuracy: 0.851\n",
            "training epoch: [48 ] loss: 0.551 correct: 2557.000, total: 3000.000, accuracy: 0.852\n",
            "training epoch: [49 ] loss: 0.537 correct: 2566.000, total: 3000.000, accuracy: 0.855\n",
            "training epoch: [50 ] loss: 0.525 correct: 2569.000, total: 3000.000, accuracy: 0.856\n",
            "training epoch: [51 ] loss: 0.513 correct: 2577.000, total: 3000.000, accuracy: 0.859\n",
            "training epoch: [52 ] loss: 0.502 correct: 2577.000, total: 3000.000, accuracy: 0.859\n",
            "training epoch: [53 ] loss: 0.492 correct: 2582.000, total: 3000.000, accuracy: 0.861\n",
            "training epoch: [54 ] loss: 0.482 correct: 2586.000, total: 3000.000, accuracy: 0.862\n",
            "training epoch: [55 ] loss: 0.472 correct: 2588.000, total: 3000.000, accuracy: 0.863\n",
            "training epoch: [56 ] loss: 0.463 correct: 2588.000, total: 3000.000, accuracy: 0.863\n",
            "training epoch: [57 ] loss: 0.455 correct: 2591.000, total: 3000.000, accuracy: 0.864\n",
            "training epoch: [58 ] loss: 0.446 correct: 2598.000, total: 3000.000, accuracy: 0.866\n",
            "training epoch: [59 ] loss: 0.439 correct: 2600.000, total: 3000.000, accuracy: 0.867\n",
            "training epoch: [60 ] loss: 0.431 correct: 2601.000, total: 3000.000, accuracy: 0.867\n",
            "training epoch: [61 ] loss: 0.424 correct: 2604.000, total: 3000.000, accuracy: 0.868\n",
            "training epoch: [62 ] loss: 0.418 correct: 2606.000, total: 3000.000, accuracy: 0.869\n",
            "training epoch: [63 ] loss: 0.411 correct: 2606.000, total: 3000.000, accuracy: 0.869\n",
            "training epoch: [64 ] loss: 0.405 correct: 2607.000, total: 3000.000, accuracy: 0.869\n",
            "training epoch: [65 ] loss: 0.399 correct: 2605.000, total: 3000.000, accuracy: 0.868\n",
            "training epoch: [66 ] loss: 0.394 correct: 2602.000, total: 3000.000, accuracy: 0.867\n",
            "training epoch: [67 ] loss: 0.388 correct: 2603.000, total: 3000.000, accuracy: 0.868\n",
            "training epoch: [68 ] loss: 0.383 correct: 2605.000, total: 3000.000, accuracy: 0.868\n",
            "training epoch: [69 ] loss: 0.378 correct: 2605.000, total: 3000.000, accuracy: 0.868\n",
            "training epoch: [70 ] loss: 0.373 correct: 2605.000, total: 3000.000, accuracy: 0.868\n",
            "training epoch: [71 ] loss: 0.369 correct: 2606.000, total: 3000.000, accuracy: 0.869\n",
            "training epoch: [72 ] loss: 0.364 correct: 2608.000, total: 3000.000, accuracy: 0.869\n",
            "training epoch: [73 ] loss: 0.360 correct: 2611.000, total: 3000.000, accuracy: 0.870\n",
            "training epoch: [74 ] loss: 0.356 correct: 2616.000, total: 3000.000, accuracy: 0.872\n",
            "training epoch: [75 ] loss: 0.352 correct: 2613.000, total: 3000.000, accuracy: 0.871\n",
            "training epoch: [76 ] loss: 0.348 correct: 2616.000, total: 3000.000, accuracy: 0.872\n",
            "training epoch: [77 ] loss: 0.344 correct: 2617.000, total: 3000.000, accuracy: 0.872\n",
            "training epoch: [78 ] loss: 0.341 correct: 2621.000, total: 3000.000, accuracy: 0.874\n",
            "training epoch: [79 ] loss: 0.337 correct: 2621.000, total: 3000.000, accuracy: 0.874\n",
            "training epoch: [80 ] loss: 0.334 correct: 2622.000, total: 3000.000, accuracy: 0.874\n",
            "training epoch: [81 ] loss: 0.331 correct: 2626.000, total: 3000.000, accuracy: 0.875\n",
            "training epoch: [82 ] loss: 0.328 correct: 2631.000, total: 3000.000, accuracy: 0.877\n",
            "training epoch: [83 ] loss: 0.325 correct: 2631.000, total: 3000.000, accuracy: 0.877\n",
            "training epoch: [84 ] loss: 0.322 correct: 2632.000, total: 3000.000, accuracy: 0.877\n",
            "training epoch: [85 ] loss: 0.320 correct: 2635.000, total: 3000.000, accuracy: 0.878\n",
            "training epoch: [86 ] loss: 0.317 correct: 2635.000, total: 3000.000, accuracy: 0.878\n",
            "training epoch: [87 ] loss: 0.314 correct: 2637.000, total: 3000.000, accuracy: 0.879\n",
            "training epoch: [88 ] loss: 0.312 correct: 2638.000, total: 3000.000, accuracy: 0.879\n",
            "training epoch: [89 ] loss: 0.310 correct: 2639.000, total: 3000.000, accuracy: 0.880\n",
            "training epoch: [90 ] loss: 0.307 correct: 2639.000, total: 3000.000, accuracy: 0.880\n",
            "training epoch: [91 ] loss: 0.305 correct: 2642.000, total: 3000.000, accuracy: 0.881\n",
            "training epoch: [92 ] loss: 0.303 correct: 2643.000, total: 3000.000, accuracy: 0.881\n",
            "training epoch: [93 ] loss: 0.301 correct: 2644.000, total: 3000.000, accuracy: 0.881\n",
            "training epoch: [94 ] loss: 0.299 correct: 2645.000, total: 3000.000, accuracy: 0.882\n",
            "training epoch: [95 ] loss: 0.297 correct: 2644.000, total: 3000.000, accuracy: 0.881\n",
            "training epoch: [96 ] loss: 0.295 correct: 2643.000, total: 3000.000, accuracy: 0.881\n",
            "training epoch: [97 ] loss: 0.294 correct: 2641.000, total: 3000.000, accuracy: 0.880\n",
            "training epoch: [98 ] loss: 0.292 correct: 2642.000, total: 3000.000, accuracy: 0.881\n",
            "training epoch: [99 ] loss: 0.290 correct: 2644.000, total: 3000.000, accuracy: 0.881\n",
            "training epoch: [100 ] loss: 0.289 correct: 2644.000, total: 3000.000, accuracy: 0.881\n",
            "training epoch: [101 ] loss: 0.287 correct: 2644.000, total: 3000.000, accuracy: 0.881\n",
            "training epoch: [102 ] loss: 0.285 correct: 2644.000, total: 3000.000, accuracy: 0.881\n",
            "training epoch: [103 ] loss: 0.284 correct: 2644.000, total: 3000.000, accuracy: 0.881\n",
            "training epoch: [104 ] loss: 0.282 correct: 2642.000, total: 3000.000, accuracy: 0.881\n",
            "training epoch: [105 ] loss: 0.281 correct: 2643.000, total: 3000.000, accuracy: 0.881\n",
            "training epoch: [106 ] loss: 0.279 correct: 2644.000, total: 3000.000, accuracy: 0.881\n",
            "training epoch: [107 ] loss: 0.278 correct: 2648.000, total: 3000.000, accuracy: 0.883\n",
            "training epoch: [108 ] loss: 0.277 correct: 2649.000, total: 3000.000, accuracy: 0.883\n",
            "training epoch: [109 ] loss: 0.275 correct: 2649.000, total: 3000.000, accuracy: 0.883\n",
            "training epoch: [110 ] loss: 0.274 correct: 2649.000, total: 3000.000, accuracy: 0.883\n",
            "training epoch: [111 ] loss: 0.273 correct: 2651.000, total: 3000.000, accuracy: 0.884\n",
            "training epoch: [112 ] loss: 0.272 correct: 2651.000, total: 3000.000, accuracy: 0.884\n",
            "training epoch: [113 ] loss: 0.270 correct: 2650.000, total: 3000.000, accuracy: 0.883\n",
            "training epoch: [114 ] loss: 0.269 correct: 2654.000, total: 3000.000, accuracy: 0.885\n",
            "training epoch: [115 ] loss: 0.268 correct: 2655.000, total: 3000.000, accuracy: 0.885\n",
            "training epoch: [116 ] loss: 0.267 correct: 2656.000, total: 3000.000, accuracy: 0.885\n",
            "training epoch: [117 ] loss: 0.266 correct: 2656.000, total: 3000.000, accuracy: 0.885\n",
            "training epoch: [118 ] loss: 0.265 correct: 2655.000, total: 3000.000, accuracy: 0.885\n",
            "training epoch: [119 ] loss: 0.264 correct: 2654.000, total: 3000.000, accuracy: 0.885\n",
            "training epoch: [120 ] loss: 0.263 correct: 2654.000, total: 3000.000, accuracy: 0.885\n",
            "training epoch: [121 ] loss: 0.262 correct: 2655.000, total: 3000.000, accuracy: 0.885\n",
            "training epoch: [122 ] loss: 0.261 correct: 2656.000, total: 3000.000, accuracy: 0.885\n",
            "training epoch: [123 ] loss: 0.260 correct: 2655.000, total: 3000.000, accuracy: 0.885\n",
            "training epoch: [124 ] loss: 0.259 correct: 2657.000, total: 3000.000, accuracy: 0.886\n",
            "training epoch: [125 ] loss: 0.258 correct: 2657.000, total: 3000.000, accuracy: 0.886\n",
            "training epoch: [126 ] loss: 0.257 correct: 2659.000, total: 3000.000, accuracy: 0.886\n",
            "training epoch: [127 ] loss: 0.256 correct: 2659.000, total: 3000.000, accuracy: 0.886\n",
            "training epoch: [128 ] loss: 0.256 correct: 2660.000, total: 3000.000, accuracy: 0.887\n",
            "training epoch: [129 ] loss: 0.255 correct: 2660.000, total: 3000.000, accuracy: 0.887\n",
            "training epoch: [130 ] loss: 0.254 correct: 2657.000, total: 3000.000, accuracy: 0.886\n",
            "training epoch: [131 ] loss: 0.253 correct: 2657.000, total: 3000.000, accuracy: 0.886\n",
            "training epoch: [132 ] loss: 0.252 correct: 2657.000, total: 3000.000, accuracy: 0.886\n",
            "training epoch: [133 ] loss: 0.252 correct: 2660.000, total: 3000.000, accuracy: 0.887\n",
            "training epoch: [134 ] loss: 0.251 correct: 2661.000, total: 3000.000, accuracy: 0.887\n",
            "training epoch: [135 ] loss: 0.250 correct: 2662.000, total: 3000.000, accuracy: 0.887\n",
            "training epoch: [136 ] loss: 0.250 correct: 2663.000, total: 3000.000, accuracy: 0.888\n",
            "training epoch: [137 ] loss: 0.249 correct: 2666.000, total: 3000.000, accuracy: 0.889\n",
            "training epoch: [138 ] loss: 0.248 correct: 2666.000, total: 3000.000, accuracy: 0.889\n",
            "training epoch: [139 ] loss: 0.247 correct: 2667.000, total: 3000.000, accuracy: 0.889\n",
            "training epoch: [140 ] loss: 0.247 correct: 2666.000, total: 3000.000, accuracy: 0.889\n",
            "training epoch: [141 ] loss: 0.246 correct: 2667.000, total: 3000.000, accuracy: 0.889\n",
            "training epoch: [142 ] loss: 0.246 correct: 2666.000, total: 3000.000, accuracy: 0.889\n",
            "training epoch: [143 ] loss: 0.245 correct: 2665.000, total: 3000.000, accuracy: 0.888\n",
            "training epoch: [144 ] loss: 0.244 correct: 2666.000, total: 3000.000, accuracy: 0.889\n",
            "training epoch: [145 ] loss: 0.244 correct: 2666.000, total: 3000.000, accuracy: 0.889\n",
            "training epoch: [146 ] loss: 0.243 correct: 2666.000, total: 3000.000, accuracy: 0.889\n",
            "training epoch: [147 ] loss: 0.243 correct: 2667.000, total: 3000.000, accuracy: 0.889\n",
            "training epoch: [148 ] loss: 0.242 correct: 2667.000, total: 3000.000, accuracy: 0.889\n",
            "training epoch: [149 ] loss: 0.242 correct: 2666.000, total: 3000.000, accuracy: 0.889\n",
            "training epoch: [150 ] loss: 0.241 correct: 2666.000, total: 3000.000, accuracy: 0.889\n",
            "training epoch: [151 ] loss: 0.240 correct: 2666.000, total: 3000.000, accuracy: 0.889\n",
            "training epoch: [152 ] loss: 0.240 correct: 2666.000, total: 3000.000, accuracy: 0.889\n",
            "training epoch: [153 ] loss: 0.239 correct: 2666.000, total: 3000.000, accuracy: 0.889\n",
            "training epoch: [154 ] loss: 0.239 correct: 2667.000, total: 3000.000, accuracy: 0.889\n",
            "training epoch: [155 ] loss: 0.238 correct: 2667.000, total: 3000.000, accuracy: 0.889\n",
            "training epoch: [156 ] loss: 0.238 correct: 2668.000, total: 3000.000, accuracy: 0.889\n",
            "training epoch: [157 ] loss: 0.237 correct: 2668.000, total: 3000.000, accuracy: 0.889\n",
            "training epoch: [158 ] loss: 0.237 correct: 2667.000, total: 3000.000, accuracy: 0.889\n",
            "training epoch: [159 ] loss: 0.236 correct: 2666.000, total: 3000.000, accuracy: 0.889\n",
            "training epoch: [160 ] loss: 0.236 correct: 2666.000, total: 3000.000, accuracy: 0.889\n",
            "training epoch: [161 ] loss: 0.236 correct: 2667.000, total: 3000.000, accuracy: 0.889\n",
            "training epoch: [162 ] loss: 0.235 correct: 2668.000, total: 3000.000, accuracy: 0.889\n",
            "training epoch: [163 ] loss: 0.235 correct: 2669.000, total: 3000.000, accuracy: 0.890\n",
            "training epoch: [164 ] loss: 0.234 correct: 2670.000, total: 3000.000, accuracy: 0.890\n",
            "training epoch: [165 ] loss: 0.234 correct: 2669.000, total: 3000.000, accuracy: 0.890\n",
            "training epoch: [166 ] loss: 0.233 correct: 2669.000, total: 3000.000, accuracy: 0.890\n",
            "training epoch: [167 ] loss: 0.233 correct: 2670.000, total: 3000.000, accuracy: 0.890\n",
            "training epoch: [168 ] loss: 0.233 correct: 2670.000, total: 3000.000, accuracy: 0.890\n",
            "training epoch: [169 ] loss: 0.232 correct: 2670.000, total: 3000.000, accuracy: 0.890\n",
            "training epoch: [170 ] loss: 0.232 correct: 2670.000, total: 3000.000, accuracy: 0.890\n",
            "training epoch: [171 ] loss: 0.231 correct: 2670.000, total: 3000.000, accuracy: 0.890\n",
            "training epoch: [172 ] loss: 0.231 correct: 2671.000, total: 3000.000, accuracy: 0.890\n",
            "training epoch: [173 ] loss: 0.230 correct: 2671.000, total: 3000.000, accuracy: 0.890\n",
            "training epoch: [174 ] loss: 0.230 correct: 2671.000, total: 3000.000, accuracy: 0.890\n",
            "training epoch: [175 ] loss: 0.230 correct: 2671.000, total: 3000.000, accuracy: 0.890\n",
            "training epoch: [176 ] loss: 0.229 correct: 2672.000, total: 3000.000, accuracy: 0.891\n",
            "training epoch: [177 ] loss: 0.229 correct: 2672.000, total: 3000.000, accuracy: 0.891\n",
            "training epoch: [178 ] loss: 0.229 correct: 2673.000, total: 3000.000, accuracy: 0.891\n",
            "training epoch: [179 ] loss: 0.228 correct: 2673.000, total: 3000.000, accuracy: 0.891\n",
            "training epoch: [180 ] loss: 0.228 correct: 2673.000, total: 3000.000, accuracy: 0.891\n",
            "training epoch: [181 ] loss: 0.227 correct: 2673.000, total: 3000.000, accuracy: 0.891\n",
            "training epoch: [182 ] loss: 0.227 correct: 2674.000, total: 3000.000, accuracy: 0.891\n",
            "training epoch: [183 ] loss: 0.227 correct: 2675.000, total: 3000.000, accuracy: 0.892\n",
            "training epoch: [184 ] loss: 0.226 correct: 2675.000, total: 3000.000, accuracy: 0.892\n",
            "training epoch: [185 ] loss: 0.226 correct: 2675.000, total: 3000.000, accuracy: 0.892\n",
            "training epoch: [186 ] loss: 0.226 correct: 2675.000, total: 3000.000, accuracy: 0.892\n",
            "training epoch: [187 ] loss: 0.225 correct: 2675.000, total: 3000.000, accuracy: 0.892\n",
            "training epoch: [188 ] loss: 0.225 correct: 2676.000, total: 3000.000, accuracy: 0.892\n",
            "training epoch: [189 ] loss: 0.224 correct: 2677.000, total: 3000.000, accuracy: 0.892\n",
            "training epoch: [190 ] loss: 0.224 correct: 2677.000, total: 3000.000, accuracy: 0.892\n",
            "training epoch: [191 ] loss: 0.224 correct: 2677.000, total: 3000.000, accuracy: 0.892\n",
            "training epoch: [192 ] loss: 0.223 correct: 2677.000, total: 3000.000, accuracy: 0.892\n",
            "training epoch: [193 ] loss: 0.223 correct: 2678.000, total: 3000.000, accuracy: 0.893\n",
            "training epoch: [194 ] loss: 0.223 correct: 2678.000, total: 3000.000, accuracy: 0.893\n",
            "training epoch: [195 ] loss: 0.222 correct: 2679.000, total: 3000.000, accuracy: 0.893\n",
            "training epoch: [196 ] loss: 0.222 correct: 2678.000, total: 3000.000, accuracy: 0.893\n",
            "training epoch: [197 ] loss: 0.222 correct: 2679.000, total: 3000.000, accuracy: 0.893\n",
            "training epoch: [198 ] loss: 0.221 correct: 2679.000, total: 3000.000, accuracy: 0.893\n",
            "training epoch: [199 ] loss: 0.221 correct: 2681.000, total: 3000.000, accuracy: 0.894\n",
            "training epoch: [200 ] loss: 0.220 correct: 2681.000, total: 3000.000, accuracy: 0.894\n",
            "Finished Training run \n"
          ],
          "name": "stdout"
        }
      ]
    },
    {
      "cell_type": "code",
      "metadata": {
        "id": "AciJnAh5nfug"
      },
      "source": [
        "columns = [\"epochs\", \"argmax > 0.5\" ,\"argmax < 0.5\", \"focus_true_pred_true\", \"focus_false_pred_true\", \"focus_true_pred_false\", \"focus_false_pred_false\" ]\n",
        "df_train = pd.DataFrame()\n",
        "df_test = pd.DataFrame()\n",
        "df_train[columns[0]] = np.arange(0,epoch+2)\n",
        "df_train[columns[1]] = analysis_data_tr[:,-2]/30\n",
        "df_train[columns[2]] = analysis_data_tr[:,-1]/30\n",
        "df_train[columns[3]] = analysis_data_tr[:,0]/30\n",
        "df_train[columns[4]] = analysis_data_tr[:,1]/30\n",
        "df_train[columns[5]] = analysis_data_tr[:,2]/30\n",
        "df_train[columns[6]] = analysis_data_tr[:,3]/30"
      ],
      "execution_count": 18,
      "outputs": []
    },
    {
      "cell_type": "code",
      "metadata": {
        "colab": {
          "base_uri": "https://localhost:8080/",
          "height": 456
        },
        "id": "NoQpS_6scRsC",
        "outputId": "cd147ffa-88a1-4c81-cbfa-3ea1b6ea256c"
      },
      "source": [
        "df_train"
      ],
      "execution_count": 19,
      "outputs": [
        {
          "output_type": "execute_result",
          "data": {
            "text/html": [
              "<div>\n",
              "<style scoped>\n",
              "    .dataframe tbody tr th:only-of-type {\n",
              "        vertical-align: middle;\n",
              "    }\n",
              "\n",
              "    .dataframe tbody tr th {\n",
              "        vertical-align: top;\n",
              "    }\n",
              "\n",
              "    .dataframe thead th {\n",
              "        text-align: right;\n",
              "    }\n",
              "</style>\n",
              "<table border=\"1\" class=\"dataframe\">\n",
              "  <thead>\n",
              "    <tr style=\"text-align: right;\">\n",
              "      <th></th>\n",
              "      <th>epochs</th>\n",
              "      <th>argmax &gt; 0.5</th>\n",
              "      <th>argmax &lt; 0.5</th>\n",
              "      <th>focus_true_pred_true</th>\n",
              "      <th>focus_false_pred_true</th>\n",
              "      <th>focus_true_pred_false</th>\n",
              "      <th>focus_false_pred_false</th>\n",
              "    </tr>\n",
              "  </thead>\n",
              "  <tbody>\n",
              "    <tr>\n",
              "      <th>0</th>\n",
              "      <td>0</td>\n",
              "      <td>9.800000</td>\n",
              "      <td>90.200000</td>\n",
              "      <td>5.233333</td>\n",
              "      <td>32.533333</td>\n",
              "      <td>6.533333</td>\n",
              "      <td>55.700000</td>\n",
              "    </tr>\n",
              "    <tr>\n",
              "      <th>1</th>\n",
              "      <td>1</td>\n",
              "      <td>23.000000</td>\n",
              "      <td>77.000000</td>\n",
              "      <td>9.100000</td>\n",
              "      <td>30.300000</td>\n",
              "      <td>5.733333</td>\n",
              "      <td>54.866667</td>\n",
              "    </tr>\n",
              "    <tr>\n",
              "      <th>2</th>\n",
              "      <td>2</td>\n",
              "      <td>22.766667</td>\n",
              "      <td>77.233333</td>\n",
              "      <td>15.733333</td>\n",
              "      <td>28.366667</td>\n",
              "      <td>10.266667</td>\n",
              "      <td>45.633333</td>\n",
              "    </tr>\n",
              "    <tr>\n",
              "      <th>3</th>\n",
              "      <td>3</td>\n",
              "      <td>26.766667</td>\n",
              "      <td>73.233333</td>\n",
              "      <td>14.900000</td>\n",
              "      <td>30.400000</td>\n",
              "      <td>9.833333</td>\n",
              "      <td>44.866667</td>\n",
              "    </tr>\n",
              "    <tr>\n",
              "      <th>4</th>\n",
              "      <td>4</td>\n",
              "      <td>32.366667</td>\n",
              "      <td>67.633333</td>\n",
              "      <td>17.333333</td>\n",
              "      <td>30.300000</td>\n",
              "      <td>10.600000</td>\n",
              "      <td>41.766667</td>\n",
              "    </tr>\n",
              "    <tr>\n",
              "      <th>...</th>\n",
              "      <td>...</td>\n",
              "      <td>...</td>\n",
              "      <td>...</td>\n",
              "      <td>...</td>\n",
              "      <td>...</td>\n",
              "      <td>...</td>\n",
              "      <td>...</td>\n",
              "    </tr>\n",
              "    <tr>\n",
              "      <th>196</th>\n",
              "      <td>196</td>\n",
              "      <td>96.933333</td>\n",
              "      <td>3.066667</td>\n",
              "      <td>85.066667</td>\n",
              "      <td>4.200000</td>\n",
              "      <td>9.900000</td>\n",
              "      <td>0.833333</td>\n",
              "    </tr>\n",
              "    <tr>\n",
              "      <th>197</th>\n",
              "      <td>197</td>\n",
              "      <td>97.000000</td>\n",
              "      <td>3.000000</td>\n",
              "      <td>85.100000</td>\n",
              "      <td>4.200000</td>\n",
              "      <td>9.866667</td>\n",
              "      <td>0.833333</td>\n",
              "    </tr>\n",
              "    <tr>\n",
              "      <th>198</th>\n",
              "      <td>198</td>\n",
              "      <td>96.933333</td>\n",
              "      <td>3.066667</td>\n",
              "      <td>85.100000</td>\n",
              "      <td>4.200000</td>\n",
              "      <td>9.866667</td>\n",
              "      <td>0.833333</td>\n",
              "    </tr>\n",
              "    <tr>\n",
              "      <th>199</th>\n",
              "      <td>199</td>\n",
              "      <td>96.933333</td>\n",
              "      <td>3.066667</td>\n",
              "      <td>85.166667</td>\n",
              "      <td>4.200000</td>\n",
              "      <td>9.800000</td>\n",
              "      <td>0.833333</td>\n",
              "    </tr>\n",
              "    <tr>\n",
              "      <th>200</th>\n",
              "      <td>200</td>\n",
              "      <td>96.933333</td>\n",
              "      <td>3.066667</td>\n",
              "      <td>85.166667</td>\n",
              "      <td>4.200000</td>\n",
              "      <td>9.800000</td>\n",
              "      <td>0.833333</td>\n",
              "    </tr>\n",
              "  </tbody>\n",
              "</table>\n",
              "<p>201 rows × 7 columns</p>\n",
              "</div>"
            ],
            "text/plain": [
              "     epochs  argmax > 0.5  ...  focus_true_pred_false  focus_false_pred_false\n",
              "0         0      9.800000  ...               6.533333               55.700000\n",
              "1         1     23.000000  ...               5.733333               54.866667\n",
              "2         2     22.766667  ...              10.266667               45.633333\n",
              "3         3     26.766667  ...               9.833333               44.866667\n",
              "4         4     32.366667  ...              10.600000               41.766667\n",
              "..      ...           ...  ...                    ...                     ...\n",
              "196     196     96.933333  ...               9.900000                0.833333\n",
              "197     197     97.000000  ...               9.866667                0.833333\n",
              "198     198     96.933333  ...               9.866667                0.833333\n",
              "199     199     96.933333  ...               9.800000                0.833333\n",
              "200     200     96.933333  ...               9.800000                0.833333\n",
              "\n",
              "[201 rows x 7 columns]"
            ]
          },
          "metadata": {
            "tags": []
          },
          "execution_count": 19
        }
      ]
    },
    {
      "cell_type": "code",
      "metadata": {
        "colab": {
          "base_uri": "https://localhost:8080/",
          "height": 404
        },
        "id": "IMAhRdxOcVf6",
        "outputId": "a68cb80b-4bc5-4e38-ba3b-342098f79f93"
      },
      "source": [
        "fig= plt.figure(figsize=(6,6))\n",
        "plt.plot(df_train[columns[0]],df_train[columns[3]], label =\"focus_true_pred_true \")\n",
        "plt.plot(df_train[columns[0]],df_train[columns[4]], label =\"focus_false_pred_true \")\n",
        "plt.plot(df_train[columns[0]],df_train[columns[5]], label =\"focus_true_pred_false \")\n",
        "plt.plot(df_train[columns[0]],df_train[columns[6]], label =\"focus_false_pred_false \")\n",
        "plt.title(\"On Train set\")\n",
        "plt.legend(loc='center left', bbox_to_anchor=(1, 0.5))\n",
        "plt.xlabel(\"epochs\")\n",
        "plt.ylabel(\"percentage of data\")\n",
        "plt.xticks([0,50,100,150,200])\n",
        "#plt.vlines(vline_list,min(min(df_train[columns[3]]/300),min(df_train[columns[4]]/300),min(df_train[columns[5]]/300),min(df_train[columns[6]]/300)), max(max(df_train[columns[3]]/300),max(df_train[columns[4]]/300),max(df_train[columns[5]]/300),max(df_train[columns[6]]/300)),linestyles='dotted')\n",
        "plt.show()\n",
        "fig.savefig(\"train_analysis.pdf\")\n",
        "fig.savefig(\"train_analysis.png\")"
      ],
      "execution_count": 20,
      "outputs": [
        {
          "output_type": "display_data",
          "data": {
            "image/png": "[encoded data removed]",
            "text/plain": [
              "<Figure size 432x432 with 1 Axes>"
            ]
          },
          "metadata": {
            "tags": [],
            "needs_background": "light"
          }
        }
      ]
    },
    {
      "cell_type": "code",
      "metadata": {
        "id": "VCnS6r2_3WdU"
      },
      "source": [
        "aph = []\n",
        "for i in bg:\n",
        "  aph.append(F.softmax(i,dim=1).detach().numpy())\n",
        "aph = np.concatenate(aph,axis=0)\n",
        "# torch.save({\n",
        "#             'epoch': 500,\n",
        "#             'model_state_dict': what_net.state_dict(),\n",
        "#             #'optimizer_state_dict': optimizer_what.state_dict(),\n",
        "#             \"optimizer_alpha\":optim1,\n",
        "#             \"FTPT_analysis\":analysis_data_tr,\n",
        "#             \"alpha\":aph\n",
        "\n",
        "#             }, \"type4_what_net_500.pt\")"
      ],
      "execution_count": 21,
      "outputs": []
    },
    {
      "cell_type": "code",
      "metadata": {
        "colab": {
          "base_uri": "https://localhost:8080/"
        },
        "id": "KVzrDOGS4UxU",
        "outputId": "1818b3e7-65e5-4900-921e-d9b779bbca67"
      },
      "source": [
        "aph[0]"
      ],
      "execution_count": 22,
      "outputs": [
        {
          "output_type": "execute_result",
          "data": {
            "text/plain": [
              "array([2.6216535e-04, 2.0667732e-04, 5.9315357e-02, 9.2850953e-01,\n",
              "       2.7291700e-03, 7.6023135e-03, 7.6768920e-04, 5.3977227e-04,\n",
              "       6.7197427e-05], dtype=float32)"
            ]
          },
          "metadata": {
            "tags": []
          },
          "execution_count": 22
        }
      ]
    },
    {
      "cell_type": "code",
      "metadata": {
        "id": "yF2bvWdIWUTa"
      },
      "source": [
        "xx,yy= np.meshgrid(np.arange(1,8,0.01),np.arange(2,9,0.01))\n",
        "X = np.concatenate((xx.reshape(-1,1),yy.reshape(-1,1)),axis=1)\n",
        "X = torch.Tensor(X).double().to(\"cuda\")\n",
        "Y1 = what_net(X)"
      ],
      "execution_count": 23,
      "outputs": []
    },
    {
      "cell_type": "code",
      "metadata": {
        "id": "GENNdxJEa_Xi"
      },
      "source": [
        "Y1 = Y1.to(\"cpu\")\n",
        "Y1 = Y1.detach().numpy()\n",
        "Y1 = torch.softmax(torch.Tensor(Y1),dim=1)\n",
        "_,Z4= torch.max(Y1,1)\n",
        "Z1 = Y1[:,0]\n",
        "Z2 = Y1[:,1]\n",
        "Z3 = Y1[:,2]"
      ],
      "execution_count": 24,
      "outputs": []
    },
    {
      "cell_type": "code",
      "metadata": {
        "id": "5ZwEogAobesX"
      },
      "source": [
        "X = X.to(\"cpu\")"
      ],
      "execution_count": 25,
      "outputs": []
    },
    {
      "cell_type": "code",
      "metadata": {
        "colab": {
          "base_uri": "https://localhost:8080/"
        },
        "id": "ZIoUNsgebIku",
        "outputId": "67508a49-415c-49c9-9164-cca5d7f1e7a8"
      },
      "source": [
        "data = np.load(\"type_4_data.npy\",allow_pickle=True)\n",
        "x = data[0][\"X\"]\n",
        "y = data[0][\"Y\"]\n",
        "idx= []\n",
        "for i in range(10):\n",
        "  print(i,sum(y==i))\n",
        "  idx.append(y==i)"
      ],
      "execution_count": 26,
      "outputs": [
        {
          "output_type": "stream",
          "text": [
            "0 482\n",
            "1 485\n",
            "2 536\n",
            "3 504\n",
            "4 493\n",
            "5 513\n",
            "6 497\n",
            "7 486\n",
            "8 522\n",
            "9 482\n"
          ],
          "name": "stdout"
        }
      ]
    },
    {
      "cell_type": "code",
      "metadata": {
        "id": "7Ut6ZTAXbvqx"
      },
      "source": [
        "avrg = []\n",
        "with torch.no_grad():\n",
        "  for i, data in  enumerate(train_loader):\n",
        "          inputs , labels , fore_idx = data\n",
        "          inputs = inputs.double()\n",
        "          inputs, labels = inputs.to(\"cuda\"),labels.to(\"cuda\")\n",
        "          beta  = bg[i]\n",
        "          beta = beta.to(\"cuda\")\n",
        "          avg,alpha = attn_avg(inputs,beta)\n",
        "          \n",
        "          avrg.append(avg.detach().cpu().numpy())\n",
        "avrg= np.concatenate(avrg,axis=0)"
      ],
      "execution_count": 27,
      "outputs": []
    },
    {
      "cell_type": "code",
      "metadata": {
        "colab": {
          "base_uri": "https://localhost:8080/",
          "height": 374
        },
        "id": "5PAwMQXzbQJR",
        "outputId": "bca0569c-4975-4508-9750-c74bd3c43883"
      },
      "source": [
        "fig = plt.figure(figsize=(6,6))\n",
        "#plt.scatter(X[:,0],X[:,1],c=Z4)\n",
        "Z4 = Z4.reshape(xx.shape)\n",
        "plt.contourf(xx, yy, Z4, alpha=0.4)\n",
        "for i in range(3):\n",
        "  plt.scatter(x[idx[i],0],x[idx[i],1],label=\"class_\"+str(i),alpha=0.8)\n",
        "plt.legend(loc='center left', bbox_to_anchor=(1, 0.5))\n",
        "plt.scatter(avrg[:,0],avrg[:,1],alpha=0.2)\n",
        "plt.savefig(\"decision_boundary.png\",bbox_inches=\"tight\")\n"
      ],
      "execution_count": 28,
      "outputs": [
        {
          "output_type": "display_data",
          "data": {
            "image/png": "[encoded data removed]",
            "text/plain": [
              "<Figure size 432x432 with 1 Axes>"
            ]
          },
          "metadata": {
            "tags": [],
            "needs_background": "light"
          }
        }
      ]
    },
    {
      "cell_type": "code",
      "metadata": {
        "id": "6KHn17Rbceqt"
      },
      "source": [
        ""
      ],
      "execution_count": 28,
      "outputs": []
    }
  ]
}