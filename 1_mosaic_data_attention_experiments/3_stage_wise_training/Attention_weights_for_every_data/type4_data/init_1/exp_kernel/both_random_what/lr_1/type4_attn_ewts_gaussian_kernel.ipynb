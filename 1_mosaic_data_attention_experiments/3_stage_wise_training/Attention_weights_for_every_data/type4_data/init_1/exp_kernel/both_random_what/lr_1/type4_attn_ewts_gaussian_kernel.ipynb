{
  "nbformat": 4,
  "nbformat_minor": 0,
  "metadata": {
    "accelerator": "GPU",
    "colab": {
      "name": "type4_attn_ewts_gaussian_kernel.ipynb",
      "provenance": [],
      "collapsed_sections": []
    },
    "kernelspec": {
      "display_name": "Python 3",
      "name": "python3"
    },
    "language_info": {
      "name": "python"
    }
  },
  "cells": [
    {
      "cell_type": "code",
      "metadata": {
        "id": "BWIyC9Ip_bcq"
      },
      "source": [
        "import numpy as np\n",
        "import pandas as pd\n",
        "\n",
        "import torch\n",
        "import torchvision\n",
        "from torch.utils.data import Dataset, DataLoader\n",
        "from torchvision import transforms, utils\n",
        "import torch.nn as nn\n",
        "import torch.nn.functional as F\n",
        "import torch.optim as optim\n",
        "\n",
        "from matplotlib import pyplot as plt\n",
        "from myrmsprop import MyRmsprop\n",
        "%matplotlib inline\n",
        "torch.backends.cudnn.deterministic = True\n",
        "torch.backends.cudnn.benchmark = False"
      ],
      "execution_count": 1,
      "outputs": []
    },
    {
      "cell_type": "code",
      "metadata": {
        "id": "lGVy-1EllAc_"
      },
      "source": [
        "train_data = np.load(\"train_type4_data.npy\",allow_pickle=True)\n",
        "\n",
        "test_data = np.load(\"test_type4_data.npy\",allow_pickle=True)"
      ],
      "execution_count": 2,
      "outputs": []
    },
    {
      "cell_type": "code",
      "metadata": {
        "id": "uL771xuGZC5Q"
      },
      "source": [
        "mosaic_list_of_images = train_data[0][\"mosaic_list\"]\n",
        "mosaic_label = train_data[0][\"mosaic_label\"]\n",
        "fore_idx = train_data[0][\"fore_idx\"]\n",
        "\n",
        "\n",
        "test_mosaic_list_of_images = test_data[0][\"mosaic_list\"]\n",
        "test_mosaic_label = test_data[0][\"mosaic_label\"]\n",
        "test_fore_idx = test_data[0][\"fore_idx\"]"
      ],
      "execution_count": 3,
      "outputs": []
    },
    {
      "cell_type": "code",
      "metadata": {
        "id": "x2qfRXfNZCao"
      },
      "source": [
        "class MosaicDataset1(Dataset):\n",
        "  \"\"\"MosaicDataset dataset.\"\"\"\n",
        "\n",
        "  def __init__(self, mosaic_list, mosaic_label,fore_idx):\n",
        "    \"\"\"\n",
        "      Args:\n",
        "        csv_file (string): Path to the csv file with annotations.\n",
        "        root_dir (string): Directory with all the images.\n",
        "        transform (callable, optional): Optional transform to be applied\n",
        "            on a sample.\n",
        "    \"\"\"\n",
        "    self.mosaic = mosaic_list\n",
        "    self.label = mosaic_label\n",
        "    self.fore_idx = fore_idx\n",
        "    \n",
        "  def __len__(self):\n",
        "    return len(self.label)\n",
        "\n",
        "  def __getitem__(self, idx):\n",
        "    return self.mosaic[idx] , self.label[idx] , self.fore_idx[idx]"
      ],
      "execution_count": 4,
      "outputs": []
    },
    {
      "cell_type": "code",
      "metadata": {
        "id": "uf76JwkxZCT0"
      },
      "source": [
        "batch = 3000\n",
        "train_dataset = MosaicDataset1(mosaic_list_of_images, mosaic_label, fore_idx)\n",
        "train_loader = DataLoader( train_dataset,batch_size= batch ,shuffle=False)\n",
        "#batch = 2000\n",
        "#test_dataset = MosaicDataset1(test_mosaic_list_of_images, test_mosaic_label, test_fore_idx)\n",
        "#test_loader = DataLoader(test_dataset,batch_size= batch ,shuffle=False)"
      ],
      "execution_count": 5,
      "outputs": []
    },
    {
      "cell_type": "code",
      "metadata": {
        "id": "DOpZfj1bq7wN"
      },
      "source": [
        "n_batches = 3000//batch\n",
        "bg = []\n",
        "for i in range(n_batches):\n",
        "  torch.manual_seed(i)\n",
        "  betag = torch.randn(3000,9)#torch.ones((250,9))/9\n",
        "  bg.append( betag.requires_grad_() )"
      ],
      "execution_count": 6,
      "outputs": []
    },
    {
      "cell_type": "code",
      "metadata": {
        "colab": {
          "base_uri": "https://localhost:8080/"
        },
        "id": "fzb3ii4drXpu",
        "outputId": "d616e58a-dec2-4c99-c59d-8001c86fdc7b"
      },
      "source": [
        "len(bg)"
      ],
      "execution_count": 7,
      "outputs": [
        {
          "output_type": "execute_result",
          "data": {
            "text/plain": [
              "1"
            ]
          },
          "metadata": {
            "tags": []
          },
          "execution_count": 7
        }
      ]
    },
    {
      "cell_type": "code",
      "metadata": {
        "colab": {
          "base_uri": "https://localhost:8080/"
        },
        "id": "Am8LcQm1Og-f",
        "outputId": "0bf96e3e-2fa2-46ba-e077-f7f7c0a96ecf"
      },
      "source": [
        "#H = np.zeros((27000,27000))\n",
        "for i, data in enumerate(train_loader, 0):\n",
        "  print(i) # only one batch\n",
        "  inputs,_,_ = data\n",
        "  inputs = torch.reshape(inputs,(27000,2))\n",
        "  dis = torch.cdist(inputs,inputs)**2\n",
        "  gamma = -1/torch.median(dis)\n",
        "  print(gamma)\n",
        "  H = torch.exp(gamma*dis)\n"
      ],
      "execution_count": 8,
      "outputs": [
        {
          "output_type": "stream",
          "text": [
            "0\n",
            "tensor(-0.0948)\n"
          ],
          "name": "stdout"
        }
      ]
    },
    {
      "cell_type": "code",
      "metadata": {
        "colab": {
          "base_uri": "https://localhost:8080/"
        },
        "id": "rTxUQEquHYqj",
        "outputId": "b4925d05-f498-476e-dfb1-bab199814073"
      },
      "source": [
        "H.shape"
      ],
      "execution_count": 9,
      "outputs": [
        {
          "output_type": "execute_result",
          "data": {
            "text/plain": [
              "torch.Size([27000, 27000])"
            ]
          },
          "metadata": {
            "tags": []
          },
          "execution_count": 9
        }
      ]
    },
    {
      "cell_type": "code",
      "metadata": {
        "id": "HbrMidFCla6h"
      },
      "source": [
        "class Module2(nn.Module):\n",
        "  def __init__(self):\n",
        "    super(Module2, self).__init__()\n",
        "    self.linear1 = nn.Linear(2,100)\n",
        "    self.linear2 = nn.Linear(100,3)\n",
        "\n",
        "  def forward(self,x):\n",
        "    x = F.relu(self.linear1(x))\n",
        "    x = self.linear2(x)\n",
        "    return x"
      ],
      "execution_count": 10,
      "outputs": []
    },
    {
      "cell_type": "code",
      "metadata": {
        "id": "rRqj2VELllkX"
      },
      "source": [
        "torch.manual_seed(1234)\n",
        "what_net = Module2().double()\n",
        "\n",
        "#what_net.load_state_dict(torch.load(\"type4_what_net.pt\"))\n",
        "what_net = what_net.to(\"cuda\")"
      ],
      "execution_count": 11,
      "outputs": []
    },
    {
      "cell_type": "code",
      "metadata": {
        "id": "6d8Wch99l4yB"
      },
      "source": [
        "def attn_avg(x,beta):\n",
        "  y = torch.zeros([batch,2], dtype=torch.float64)\n",
        "  y = y.to(\"cuda\")\n",
        "  alpha = F.softmax(beta,dim=1)   # alphas\n",
        "  #print(alpha[0],x[0,:])\n",
        "  for i in range(9):            \n",
        "    alpha1 = alpha[:,i]      \n",
        "    y = y + torch.mul(alpha1[:,None],x[:,i])\n",
        "  return y,alpha\n"
      ],
      "execution_count": 12,
      "outputs": []
    },
    {
      "cell_type": "code",
      "metadata": {
        "id": "Rz1Kpw12loV6"
      },
      "source": [
        "def calculate_attn_loss(dataloader,what,criter):\n",
        "  what.eval()\n",
        "  r_loss = 0\n",
        "  alphas = []\n",
        "  lbls = []\n",
        "  pred = []\n",
        "  fidices = []\n",
        "  correct = 0\n",
        "  tot = 0\n",
        "  with torch.no_grad():\n",
        "    for i, data in enumerate(dataloader, 0):\n",
        "      inputs, labels,fidx= data\n",
        "      lbls.append(labels)\n",
        "      fidices.append(fidx)\n",
        "      inputs = inputs.double()\n",
        "      beta = bg[i]  # beta for ith batch\n",
        "      inputs, labels,beta = inputs.to(\"cuda\"),labels.to(\"cuda\"),beta.to(\"cuda\")\n",
        "      avg,alpha = attn_avg(inputs,beta)\n",
        "      alpha = alpha.to(\"cuda\")\n",
        "      outputs = what(avg)\n",
        "      _, predicted = torch.max(outputs.data, 1)\n",
        "      correct += sum(predicted == labels)\n",
        "      tot += len(predicted)\n",
        "      pred.append(predicted.cpu().numpy())\n",
        "      alphas.append(alpha.cpu().numpy())\n",
        "      loss = criter(outputs, labels)\n",
        "      r_loss += loss.item()\n",
        "  alphas = np.concatenate(alphas,axis=0)\n",
        "  pred = np.concatenate(pred,axis=0)\n",
        "  lbls = np.concatenate(lbls,axis=0)\n",
        "  fidices = np.concatenate(fidices,axis=0)\n",
        "  #print(alphas.shape,pred.shape,lbls.shape,fidices.shape) \n",
        "  analysis = analyse_data(alphas,lbls,pred,fidices)\n",
        "  return r_loss/(i+1),analysis,correct.item(),tot,correct.item()/tot"
      ],
      "execution_count": 13,
      "outputs": []
    },
    {
      "cell_type": "code",
      "metadata": {
        "id": "sAY-x6UAwrwE"
      },
      "source": [
        "# for param in what_net.parameters():\n",
        "#     param.requires_grad = False"
      ],
      "execution_count": 14,
      "outputs": []
    },
    {
      "cell_type": "code",
      "metadata": {
        "id": "_toCktPanH0S"
      },
      "source": [
        "\n",
        "def analyse_data(alphas,lbls,predicted,f_idx):\n",
        "    '''\n",
        "       analysis data is created here\n",
        "    '''\n",
        "    batch = len(predicted)\n",
        "    amth,alth,ftpt,ffpt,ftpf,ffpf = 0,0,0,0,0,0\n",
        "    for j in range (batch):\n",
        "      focus = np.argmax(alphas[j])\n",
        "      if(alphas[j][focus] >= 0.5):\n",
        "        amth +=1\n",
        "      else:\n",
        "        alth +=1\n",
        "      if(focus == f_idx[j] and predicted[j] == lbls[j]):\n",
        "        ftpt += 1\n",
        "      elif(focus != f_idx[j] and predicted[j] == lbls[j]):\n",
        "        ffpt +=1\n",
        "      elif(focus == f_idx[j] and predicted[j] != lbls[j]):\n",
        "        ftpf +=1\n",
        "      elif(focus != f_idx[j] and predicted[j] != lbls[j]):\n",
        "        ffpf +=1\n",
        "    #print(sum(predicted==lbls),ftpt+ffpt)\n",
        "    return [ftpt,ffpt,ftpf,ffpf,amth,alth]"
      ],
      "execution_count": 15,
      "outputs": []
    },
    {
      "cell_type": "code",
      "metadata": {
        "id": "S633XgMToeN3"
      },
      "source": [
        "optim1 = []\n",
        "H= H.to(\"cpu\")\n",
        "for i in range(n_batches):\n",
        "  optim1.append(MyRmsprop([bg[i]],H=H,lr=1))\n",
        "  #optim1.append(optim.RMSprop([bg[i]],lr=0.1))"
      ],
      "execution_count": 16,
      "outputs": []
    },
    {
      "cell_type": "code",
      "metadata": {
        "colab": {
          "base_uri": "https://localhost:8080/"
        },
        "id": "qPaYaojinMTA",
        "outputId": "fcd90c4e-f092-4d6f-ac83-c981c184e97f"
      },
      "source": [
        "# instantiate optimizer\n",
        "optimizer_what = optim.RMSprop(what_net.parameters(), lr=0.001)#, momentum=0.9)#,nesterov=True)\n",
        "\n",
        "\n",
        " \n",
        "\n",
        "\n",
        "criterion = nn.CrossEntropyLoss()\n",
        "acti = []\n",
        "analysis_data_tr = []\n",
        "analysis_data_tst = []\n",
        "loss_curi_tr = []\n",
        "loss_curi_tst = []\n",
        "epochs = 200\n",
        "\n",
        "\n",
        "# calculate zeroth epoch loss and FTPT values\n",
        "running_loss,anlys_data,correct,total,accuracy = calculate_attn_loss(train_loader,what_net,criterion)\n",
        "print('training epoch: [%d ] loss: %.3f correct: %.3f, total: %.3f, accuracy: %.3f' %(0,running_loss,correct,total,accuracy)) \n",
        "loss_curi_tr.append(running_loss)\n",
        "analysis_data_tr.append(anlys_data)\n",
        "\n",
        "\n",
        "\n",
        "\n",
        "# training starts \n",
        "for epoch in range(epochs): # loop over the dataset multiple times\n",
        "  ep_lossi = []\n",
        "  running_loss = 0.0\n",
        "  what_net.train()\n",
        "  for i, data in enumerate(train_loader, 0):\n",
        "    # get the inputs\n",
        "    inputs, labels,_  = data\n",
        "    inputs = inputs.double()\n",
        "    beta = bg[i] # alpha for ith batch\n",
        "    #print(labels)\n",
        "    inputs, labels,beta = inputs.to(\"cuda\"),labels.to(\"cuda\"),beta.to(\"cuda\")\n",
        "        \n",
        "    # zero the parameter gradients\n",
        "    optimizer_what.zero_grad()\n",
        "    optim1[i].zero_grad()\n",
        "      \n",
        "    # forward + backward + optimize\n",
        "    avg,alpha = attn_avg(inputs,beta)\n",
        "    outputs = what_net(avg)     \n",
        "    loss = criterion(outputs, labels)\n",
        "\n",
        "    # print statistics\n",
        "    running_loss += loss.item()\n",
        "    #alpha.retain_grad()\n",
        "    loss.backward(retain_graph=False)\n",
        "    optimizer_what.step()\n",
        "    optim1[i].step()\n",
        "\n",
        "\n",
        "  running_loss_tr,anls_data,correct,total,accuracy = calculate_attn_loss(train_loader,what_net,criterion)\n",
        "  analysis_data_tr.append(anls_data)\n",
        "  loss_curi_tr.append(running_loss_tr)   #loss per epoch\n",
        "  print('training epoch: [%d ] loss: %.3f correct: %.3f, total: %.3f, accuracy: %.3f' %(epoch+1,running_loss_tr,correct,total,accuracy)) \n",
        "\n",
        "\n",
        "  \n",
        "  if running_loss_tr<=0.08:\n",
        "    break\n",
        "print('Finished Training run ')\n",
        "analysis_data_tr = np.array(analysis_data_tr)\n",
        "\n"
      ],
      "execution_count": 17,
      "outputs": [
        {
          "output_type": "stream",
          "text": [
            "training epoch: [0 ] loss: 1.478 correct: 971.000, total: 3000.000, accuracy: 0.324\n",
            "training epoch: [1 ] loss: 1.147 correct: 991.000, total: 3000.000, accuracy: 0.330\n",
            "training epoch: [2 ] loss: 1.115 correct: 1047.000, total: 3000.000, accuracy: 0.349\n",
            "training epoch: [3 ] loss: 1.107 correct: 994.000, total: 3000.000, accuracy: 0.331\n",
            "training epoch: [4 ] loss: 1.099 correct: 1047.000, total: 3000.000, accuracy: 0.349\n",
            "training epoch: [5 ] loss: 1.089 correct: 988.000, total: 3000.000, accuracy: 0.329\n",
            "training epoch: [6 ] loss: 1.077 correct: 1150.000, total: 3000.000, accuracy: 0.383\n",
            "training epoch: [7 ] loss: 1.063 correct: 1535.000, total: 3000.000, accuracy: 0.512\n",
            "training epoch: [8 ] loss: 1.045 correct: 1333.000, total: 3000.000, accuracy: 0.444\n",
            "training epoch: [9 ] loss: 1.044 correct: 1432.000, total: 3000.000, accuracy: 0.477\n",
            "training epoch: [10 ] loss: 1.082 correct: 1103.000, total: 3000.000, accuracy: 0.368\n",
            "training epoch: [11 ] loss: 1.043 correct: 1040.000, total: 3000.000, accuracy: 0.347\n",
            "training epoch: [12 ] loss: 0.996 correct: 1461.000, total: 3000.000, accuracy: 0.487\n",
            "training epoch: [13 ] loss: 1.009 correct: 1537.000, total: 3000.000, accuracy: 0.512\n",
            "training epoch: [14 ] loss: 0.986 correct: 1420.000, total: 3000.000, accuracy: 0.473\n",
            "training epoch: [15 ] loss: 0.951 correct: 1828.000, total: 3000.000, accuracy: 0.609\n",
            "training epoch: [16 ] loss: 0.910 correct: 1797.000, total: 3000.000, accuracy: 0.599\n",
            "training epoch: [17 ] loss: 0.881 correct: 1923.000, total: 3000.000, accuracy: 0.641\n",
            "training epoch: [18 ] loss: 0.865 correct: 1884.000, total: 3000.000, accuracy: 0.628\n",
            "training epoch: [19 ] loss: 0.851 correct: 1895.000, total: 3000.000, accuracy: 0.632\n",
            "training epoch: [20 ] loss: 0.839 correct: 1894.000, total: 3000.000, accuracy: 0.631\n",
            "training epoch: [21 ] loss: 0.828 correct: 1903.000, total: 3000.000, accuracy: 0.634\n",
            "training epoch: [22 ] loss: 0.816 correct: 1910.000, total: 3000.000, accuracy: 0.637\n",
            "training epoch: [23 ] loss: 0.802 correct: 1925.000, total: 3000.000, accuracy: 0.642\n",
            "training epoch: [24 ] loss: 0.786 correct: 1953.000, total: 3000.000, accuracy: 0.651\n",
            "training epoch: [25 ] loss: 0.773 correct: 1966.000, total: 3000.000, accuracy: 0.655\n",
            "training epoch: [26 ] loss: 0.761 correct: 1981.000, total: 3000.000, accuracy: 0.660\n",
            "training epoch: [27 ] loss: 0.748 correct: 1991.000, total: 3000.000, accuracy: 0.664\n",
            "training epoch: [28 ] loss: 0.731 correct: 2016.000, total: 3000.000, accuracy: 0.672\n",
            "training epoch: [29 ] loss: 0.716 correct: 2037.000, total: 3000.000, accuracy: 0.679\n",
            "training epoch: [30 ] loss: 0.705 correct: 2054.000, total: 3000.000, accuracy: 0.685\n",
            "training epoch: [31 ] loss: 0.693 correct: 2081.000, total: 3000.000, accuracy: 0.694\n",
            "training epoch: [32 ] loss: 0.684 correct: 2101.000, total: 3000.000, accuracy: 0.700\n",
            "training epoch: [33 ] loss: 0.675 correct: 2127.000, total: 3000.000, accuracy: 0.709\n",
            "training epoch: [34 ] loss: 0.666 correct: 2140.000, total: 3000.000, accuracy: 0.713\n",
            "training epoch: [35 ] loss: 0.659 correct: 2155.000, total: 3000.000, accuracy: 0.718\n",
            "training epoch: [36 ] loss: 0.650 correct: 2167.000, total: 3000.000, accuracy: 0.722\n",
            "training epoch: [37 ] loss: 0.641 correct: 2176.000, total: 3000.000, accuracy: 0.725\n",
            "training epoch: [38 ] loss: 0.634 correct: 2186.000, total: 3000.000, accuracy: 0.729\n",
            "training epoch: [39 ] loss: 0.627 correct: 2200.000, total: 3000.000, accuracy: 0.733\n",
            "training epoch: [40 ] loss: 0.620 correct: 2209.000, total: 3000.000, accuracy: 0.736\n",
            "training epoch: [41 ] loss: 0.614 correct: 2217.000, total: 3000.000, accuracy: 0.739\n",
            "training epoch: [42 ] loss: 0.608 correct: 2219.000, total: 3000.000, accuracy: 0.740\n",
            "training epoch: [43 ] loss: 0.602 correct: 2222.000, total: 3000.000, accuracy: 0.741\n",
            "training epoch: [44 ] loss: 0.597 correct: 2230.000, total: 3000.000, accuracy: 0.743\n",
            "training epoch: [45 ] loss: 0.592 correct: 2231.000, total: 3000.000, accuracy: 0.744\n",
            "training epoch: [46 ] loss: 0.587 correct: 2238.000, total: 3000.000, accuracy: 0.746\n",
            "training epoch: [47 ] loss: 0.583 correct: 2244.000, total: 3000.000, accuracy: 0.748\n",
            "training epoch: [48 ] loss: 0.578 correct: 2240.000, total: 3000.000, accuracy: 0.747\n",
            "training epoch: [49 ] loss: 0.572 correct: 2246.000, total: 3000.000, accuracy: 0.749\n",
            "training epoch: [50 ] loss: 0.566 correct: 2240.000, total: 3000.000, accuracy: 0.747\n",
            "training epoch: [51 ] loss: 0.559 correct: 2232.000, total: 3000.000, accuracy: 0.744\n",
            "training epoch: [52 ] loss: 0.553 correct: 2236.000, total: 3000.000, accuracy: 0.745\n",
            "training epoch: [53 ] loss: 0.550 correct: 2231.000, total: 3000.000, accuracy: 0.744\n",
            "training epoch: [54 ] loss: 0.545 correct: 2236.000, total: 3000.000, accuracy: 0.745\n",
            "training epoch: [55 ] loss: 0.542 correct: 2225.000, total: 3000.000, accuracy: 0.742\n",
            "training epoch: [56 ] loss: 0.534 correct: 2240.000, total: 3000.000, accuracy: 0.747\n",
            "training epoch: [57 ] loss: 0.529 correct: 2234.000, total: 3000.000, accuracy: 0.745\n",
            "training epoch: [58 ] loss: 0.523 correct: 2272.000, total: 3000.000, accuracy: 0.757\n",
            "training epoch: [59 ] loss: 0.518 correct: 2243.000, total: 3000.000, accuracy: 0.748\n",
            "training epoch: [60 ] loss: 0.513 correct: 2326.000, total: 3000.000, accuracy: 0.775\n",
            "training epoch: [61 ] loss: 0.509 correct: 2279.000, total: 3000.000, accuracy: 0.760\n",
            "training epoch: [62 ] loss: 0.504 correct: 2484.000, total: 3000.000, accuracy: 0.828\n",
            "training epoch: [63 ] loss: 0.499 correct: 2407.000, total: 3000.000, accuracy: 0.802\n",
            "training epoch: [64 ] loss: 0.495 correct: 2628.000, total: 3000.000, accuracy: 0.876\n",
            "training epoch: [65 ] loss: 0.490 correct: 2587.000, total: 3000.000, accuracy: 0.862\n",
            "training epoch: [66 ] loss: 0.486 correct: 2732.000, total: 3000.000, accuracy: 0.911\n",
            "training epoch: [67 ] loss: 0.482 correct: 2702.000, total: 3000.000, accuracy: 0.901\n",
            "training epoch: [68 ] loss: 0.477 correct: 2800.000, total: 3000.000, accuracy: 0.933\n",
            "training epoch: [69 ] loss: 0.473 correct: 2794.000, total: 3000.000, accuracy: 0.931\n",
            "training epoch: [70 ] loss: 0.469 correct: 2838.000, total: 3000.000, accuracy: 0.946\n",
            "training epoch: [71 ] loss: 0.465 correct: 2835.000, total: 3000.000, accuracy: 0.945\n",
            "training epoch: [72 ] loss: 0.461 correct: 2849.000, total: 3000.000, accuracy: 0.950\n",
            "training epoch: [73 ] loss: 0.457 correct: 2855.000, total: 3000.000, accuracy: 0.952\n",
            "training epoch: [74 ] loss: 0.453 correct: 2865.000, total: 3000.000, accuracy: 0.955\n",
            "training epoch: [75 ] loss: 0.448 correct: 2863.000, total: 3000.000, accuracy: 0.954\n",
            "training epoch: [76 ] loss: 0.445 correct: 2871.000, total: 3000.000, accuracy: 0.957\n",
            "training epoch: [77 ] loss: 0.442 correct: 2877.000, total: 3000.000, accuracy: 0.959\n",
            "training epoch: [78 ] loss: 0.436 correct: 2891.000, total: 3000.000, accuracy: 0.964\n",
            "training epoch: [79 ] loss: 0.432 correct: 2879.000, total: 3000.000, accuracy: 0.960\n",
            "training epoch: [80 ] loss: 0.429 correct: 2897.000, total: 3000.000, accuracy: 0.966\n",
            "training epoch: [81 ] loss: 0.426 correct: 2880.000, total: 3000.000, accuracy: 0.960\n",
            "training epoch: [82 ] loss: 0.422 correct: 2900.000, total: 3000.000, accuracy: 0.967\n",
            "training epoch: [83 ] loss: 0.418 correct: 2893.000, total: 3000.000, accuracy: 0.964\n",
            "training epoch: [84 ] loss: 0.415 correct: 2904.000, total: 3000.000, accuracy: 0.968\n",
            "training epoch: [85 ] loss: 0.410 correct: 2900.000, total: 3000.000, accuracy: 0.967\n",
            "training epoch: [86 ] loss: 0.407 correct: 2909.000, total: 3000.000, accuracy: 0.970\n",
            "training epoch: [87 ] loss: 0.403 correct: 2902.000, total: 3000.000, accuracy: 0.967\n",
            "training epoch: [88 ] loss: 0.399 correct: 2917.000, total: 3000.000, accuracy: 0.972\n",
            "training epoch: [89 ] loss: 0.395 correct: 2904.000, total: 3000.000, accuracy: 0.968\n",
            "training epoch: [90 ] loss: 0.392 correct: 2922.000, total: 3000.000, accuracy: 0.974\n",
            "training epoch: [91 ] loss: 0.389 correct: 2903.000, total: 3000.000, accuracy: 0.968\n",
            "training epoch: [92 ] loss: 0.385 correct: 2928.000, total: 3000.000, accuracy: 0.976\n",
            "training epoch: [93 ] loss: 0.382 correct: 2897.000, total: 3000.000, accuracy: 0.966\n",
            "training epoch: [94 ] loss: 0.379 correct: 2934.000, total: 3000.000, accuracy: 0.978\n",
            "training epoch: [95 ] loss: 0.375 correct: 2911.000, total: 3000.000, accuracy: 0.970\n",
            "training epoch: [96 ] loss: 0.371 correct: 2939.000, total: 3000.000, accuracy: 0.980\n",
            "training epoch: [97 ] loss: 0.369 correct: 2910.000, total: 3000.000, accuracy: 0.970\n",
            "training epoch: [98 ] loss: 0.366 correct: 2945.000, total: 3000.000, accuracy: 0.982\n",
            "training epoch: [99 ] loss: 0.367 correct: 2894.000, total: 3000.000, accuracy: 0.965\n",
            "training epoch: [100 ] loss: 0.363 correct: 2952.000, total: 3000.000, accuracy: 0.984\n",
            "training epoch: [101 ] loss: 0.365 correct: 2884.000, total: 3000.000, accuracy: 0.961\n",
            "training epoch: [102 ] loss: 0.354 correct: 2954.000, total: 3000.000, accuracy: 0.985\n",
            "training epoch: [103 ] loss: 0.352 correct: 2914.000, total: 3000.000, accuracy: 0.971\n",
            "training epoch: [104 ] loss: 0.347 correct: 2952.000, total: 3000.000, accuracy: 0.984\n",
            "training epoch: [105 ] loss: 0.345 correct: 2921.000, total: 3000.000, accuracy: 0.974\n",
            "training epoch: [106 ] loss: 0.342 correct: 2951.000, total: 3000.000, accuracy: 0.984\n",
            "training epoch: [107 ] loss: 0.339 correct: 2926.000, total: 3000.000, accuracy: 0.975\n",
            "training epoch: [108 ] loss: 0.337 correct: 2953.000, total: 3000.000, accuracy: 0.984\n",
            "training epoch: [109 ] loss: 0.334 correct: 2930.000, total: 3000.000, accuracy: 0.977\n",
            "training epoch: [110 ] loss: 0.331 correct: 2957.000, total: 3000.000, accuracy: 0.986\n",
            "training epoch: [111 ] loss: 0.328 correct: 2934.000, total: 3000.000, accuracy: 0.978\n",
            "training epoch: [112 ] loss: 0.326 correct: 2950.000, total: 3000.000, accuracy: 0.983\n",
            "training epoch: [113 ] loss: 0.322 correct: 2942.000, total: 3000.000, accuracy: 0.981\n",
            "training epoch: [114 ] loss: 0.319 correct: 2959.000, total: 3000.000, accuracy: 0.986\n",
            "training epoch: [115 ] loss: 0.317 correct: 2945.000, total: 3000.000, accuracy: 0.982\n",
            "training epoch: [116 ] loss: 0.314 correct: 2959.000, total: 3000.000, accuracy: 0.986\n",
            "training epoch: [117 ] loss: 0.312 correct: 2948.000, total: 3000.000, accuracy: 0.983\n",
            "training epoch: [118 ] loss: 0.309 correct: 2959.000, total: 3000.000, accuracy: 0.986\n",
            "training epoch: [119 ] loss: 0.307 correct: 2954.000, total: 3000.000, accuracy: 0.985\n",
            "training epoch: [120 ] loss: 0.305 correct: 2952.000, total: 3000.000, accuracy: 0.984\n",
            "training epoch: [121 ] loss: 0.302 correct: 2954.000, total: 3000.000, accuracy: 0.985\n",
            "training epoch: [122 ] loss: 0.299 correct: 2963.000, total: 3000.000, accuracy: 0.988\n",
            "training epoch: [123 ] loss: 0.297 correct: 2955.000, total: 3000.000, accuracy: 0.985\n",
            "training epoch: [124 ] loss: 0.295 correct: 2961.000, total: 3000.000, accuracy: 0.987\n",
            "training epoch: [125 ] loss: 0.293 correct: 2949.000, total: 3000.000, accuracy: 0.983\n",
            "training epoch: [126 ] loss: 0.290 correct: 2963.000, total: 3000.000, accuracy: 0.988\n",
            "training epoch: [127 ] loss: 0.288 correct: 2959.000, total: 3000.000, accuracy: 0.986\n",
            "training epoch: [128 ] loss: 0.286 correct: 2962.000, total: 3000.000, accuracy: 0.987\n",
            "training epoch: [129 ] loss: 0.284 correct: 2957.000, total: 3000.000, accuracy: 0.986\n",
            "training epoch: [130 ] loss: 0.281 correct: 2964.000, total: 3000.000, accuracy: 0.988\n",
            "training epoch: [131 ] loss: 0.279 correct: 2963.000, total: 3000.000, accuracy: 0.988\n",
            "training epoch: [132 ] loss: 0.277 correct: 2964.000, total: 3000.000, accuracy: 0.988\n",
            "training epoch: [133 ] loss: 0.276 correct: 2958.000, total: 3000.000, accuracy: 0.986\n",
            "training epoch: [134 ] loss: 0.273 correct: 2969.000, total: 3000.000, accuracy: 0.990\n",
            "training epoch: [135 ] loss: 0.271 correct: 2964.000, total: 3000.000, accuracy: 0.988\n",
            "training epoch: [136 ] loss: 0.269 correct: 2969.000, total: 3000.000, accuracy: 0.990\n",
            "training epoch: [137 ] loss: 0.267 correct: 2963.000, total: 3000.000, accuracy: 0.988\n",
            "training epoch: [138 ] loss: 0.266 correct: 2969.000, total: 3000.000, accuracy: 0.990\n",
            "training epoch: [139 ] loss: 0.265 correct: 2958.000, total: 3000.000, accuracy: 0.986\n",
            "training epoch: [140 ] loss: 0.261 correct: 2972.000, total: 3000.000, accuracy: 0.991\n",
            "training epoch: [141 ] loss: 0.259 correct: 2965.000, total: 3000.000, accuracy: 0.988\n",
            "training epoch: [142 ] loss: 0.257 correct: 2972.000, total: 3000.000, accuracy: 0.991\n",
            "training epoch: [143 ] loss: 0.255 correct: 2966.000, total: 3000.000, accuracy: 0.989\n",
            "training epoch: [144 ] loss: 0.253 correct: 2971.000, total: 3000.000, accuracy: 0.990\n",
            "training epoch: [145 ] loss: 0.252 correct: 2966.000, total: 3000.000, accuracy: 0.989\n",
            "training epoch: [146 ] loss: 0.250 correct: 2969.000, total: 3000.000, accuracy: 0.990\n",
            "training epoch: [147 ] loss: 0.247 correct: 2970.000, total: 3000.000, accuracy: 0.990\n",
            "training epoch: [148 ] loss: 0.246 correct: 2974.000, total: 3000.000, accuracy: 0.991\n",
            "training epoch: [149 ] loss: 0.244 correct: 2971.000, total: 3000.000, accuracy: 0.990\n",
            "training epoch: [150 ] loss: 0.243 correct: 2969.000, total: 3000.000, accuracy: 0.990\n",
            "training epoch: [151 ] loss: 0.240 correct: 2972.000, total: 3000.000, accuracy: 0.991\n",
            "training epoch: [152 ] loss: 0.238 correct: 2973.000, total: 3000.000, accuracy: 0.991\n",
            "training epoch: [153 ] loss: 0.237 correct: 2970.000, total: 3000.000, accuracy: 0.990\n",
            "training epoch: [154 ] loss: 0.237 correct: 2973.000, total: 3000.000, accuracy: 0.991\n",
            "training epoch: [155 ] loss: 0.238 correct: 2958.000, total: 3000.000, accuracy: 0.986\n",
            "training epoch: [156 ] loss: 0.234 correct: 2974.000, total: 3000.000, accuracy: 0.991\n",
            "training epoch: [157 ] loss: 0.233 correct: 2961.000, total: 3000.000, accuracy: 0.987\n",
            "training epoch: [158 ] loss: 0.227 correct: 2978.000, total: 3000.000, accuracy: 0.993\n",
            "training epoch: [159 ] loss: 0.225 correct: 2971.000, total: 3000.000, accuracy: 0.990\n",
            "training epoch: [160 ] loss: 0.224 correct: 2976.000, total: 3000.000, accuracy: 0.992\n",
            "training epoch: [161 ] loss: 0.223 correct: 2972.000, total: 3000.000, accuracy: 0.991\n",
            "training epoch: [162 ] loss: 0.224 correct: 2966.000, total: 3000.000, accuracy: 0.989\n",
            "training epoch: [163 ] loss: 0.218 correct: 2975.000, total: 3000.000, accuracy: 0.992\n",
            "training epoch: [164 ] loss: 0.216 correct: 2978.000, total: 3000.000, accuracy: 0.993\n",
            "training epoch: [165 ] loss: 0.215 correct: 2975.000, total: 3000.000, accuracy: 0.992\n",
            "training epoch: [166 ] loss: 0.214 correct: 2975.000, total: 3000.000, accuracy: 0.992\n",
            "training epoch: [167 ] loss: 0.211 correct: 2977.000, total: 3000.000, accuracy: 0.992\n",
            "training epoch: [168 ] loss: 0.209 correct: 2978.000, total: 3000.000, accuracy: 0.993\n",
            "training epoch: [169 ] loss: 0.208 correct: 2974.000, total: 3000.000, accuracy: 0.991\n",
            "training epoch: [170 ] loss: 0.208 correct: 2973.000, total: 3000.000, accuracy: 0.991\n",
            "training epoch: [171 ] loss: 0.204 correct: 2977.000, total: 3000.000, accuracy: 0.992\n",
            "training epoch: [172 ] loss: 0.203 correct: 2979.000, total: 3000.000, accuracy: 0.993\n",
            "training epoch: [173 ] loss: 0.202 correct: 2976.000, total: 3000.000, accuracy: 0.992\n",
            "training epoch: [174 ] loss: 0.201 correct: 2976.000, total: 3000.000, accuracy: 0.992\n",
            "training epoch: [175 ] loss: 0.201 correct: 2972.000, total: 3000.000, accuracy: 0.991\n",
            "training epoch: [176 ] loss: 0.197 correct: 2980.000, total: 3000.000, accuracy: 0.993\n",
            "training epoch: [177 ] loss: 0.196 correct: 2977.000, total: 3000.000, accuracy: 0.992\n",
            "training epoch: [178 ] loss: 0.195 correct: 2979.000, total: 3000.000, accuracy: 0.993\n",
            "training epoch: [179 ] loss: 0.194 correct: 2974.000, total: 3000.000, accuracy: 0.991\n",
            "training epoch: [180 ] loss: 0.194 correct: 2978.000, total: 3000.000, accuracy: 0.993\n",
            "training epoch: [181 ] loss: 0.195 correct: 2965.000, total: 3000.000, accuracy: 0.988\n",
            "training epoch: [182 ] loss: 0.189 correct: 2980.000, total: 3000.000, accuracy: 0.993\n",
            "training epoch: [183 ] loss: 0.188 correct: 2977.000, total: 3000.000, accuracy: 0.992\n",
            "training epoch: [184 ] loss: 0.187 correct: 2980.000, total: 3000.000, accuracy: 0.993\n",
            "training epoch: [185 ] loss: 0.186 correct: 2976.000, total: 3000.000, accuracy: 0.992\n",
            "training epoch: [186 ] loss: 0.185 correct: 2978.000, total: 3000.000, accuracy: 0.993\n",
            "training epoch: [187 ] loss: 0.186 correct: 2973.000, total: 3000.000, accuracy: 0.991\n",
            "training epoch: [188 ] loss: 0.181 correct: 2981.000, total: 3000.000, accuracy: 0.994\n",
            "training epoch: [189 ] loss: 0.180 correct: 2979.000, total: 3000.000, accuracy: 0.993\n",
            "training epoch: [190 ] loss: 0.179 correct: 2979.000, total: 3000.000, accuracy: 0.993\n",
            "training epoch: [191 ] loss: 0.178 correct: 2978.000, total: 3000.000, accuracy: 0.993\n",
            "training epoch: [192 ] loss: 0.178 correct: 2977.000, total: 3000.000, accuracy: 0.992\n",
            "training epoch: [193 ] loss: 0.177 correct: 2978.000, total: 3000.000, accuracy: 0.993\n",
            "training epoch: [194 ] loss: 0.177 correct: 2972.000, total: 3000.000, accuracy: 0.991\n",
            "training epoch: [195 ] loss: 0.173 correct: 2978.000, total: 3000.000, accuracy: 0.993\n",
            "training epoch: [196 ] loss: 0.171 correct: 2980.000, total: 3000.000, accuracy: 0.993\n",
            "training epoch: [197 ] loss: 0.171 correct: 2978.000, total: 3000.000, accuracy: 0.993\n",
            "training epoch: [198 ] loss: 0.171 correct: 2976.000, total: 3000.000, accuracy: 0.992\n",
            "training epoch: [199 ] loss: 0.168 correct: 2978.000, total: 3000.000, accuracy: 0.993\n",
            "training epoch: [200 ] loss: 0.168 correct: 2977.000, total: 3000.000, accuracy: 0.992\n",
            "Finished Training run \n"
          ],
          "name": "stdout"
        }
      ]
    },
    {
      "cell_type": "code",
      "metadata": {
        "id": "AciJnAh5nfug"
      },
      "source": [
        "columns = [\"epochs\", \"argmax > 0.5\" ,\"argmax < 0.5\", \"focus_true_pred_true\", \"focus_false_pred_true\", \"focus_true_pred_false\", \"focus_false_pred_false\" ]\n",
        "df_train = pd.DataFrame()\n",
        "df_test = pd.DataFrame()\n",
        "df_train[columns[0]] = np.arange(0,epoch+2)\n",
        "df_train[columns[1]] = analysis_data_tr[:,-2]/30\n",
        "df_train[columns[2]] = analysis_data_tr[:,-1]/30\n",
        "df_train[columns[3]] = analysis_data_tr[:,0]/30\n",
        "df_train[columns[4]] = analysis_data_tr[:,1]/30\n",
        "df_train[columns[5]] = analysis_data_tr[:,2]/30\n",
        "df_train[columns[6]] = analysis_data_tr[:,3]/30"
      ],
      "execution_count": 18,
      "outputs": []
    },
    {
      "cell_type": "code",
      "metadata": {
        "colab": {
          "base_uri": "https://localhost:8080/",
          "height": 456
        },
        "id": "NoQpS_6scRsC",
        "outputId": "55c578ee-6a07-4ac4-b79d-6e2856b6bd96"
      },
      "source": [
        "df_train"
      ],
      "execution_count": 19,
      "outputs": [
        {
          "output_type": "execute_result",
          "data": {
            "text/html": [
              "<div>\n",
              "<style scoped>\n",
              "    .dataframe tbody tr th:only-of-type {\n",
              "        vertical-align: middle;\n",
              "    }\n",
              "\n",
              "    .dataframe tbody tr th {\n",
              "        vertical-align: top;\n",
              "    }\n",
              "\n",
              "    .dataframe thead th {\n",
              "        text-align: right;\n",
              "    }\n",
              "</style>\n",
              "<table border=\"1\" class=\"dataframe\">\n",
              "  <thead>\n",
              "    <tr style=\"text-align: right;\">\n",
              "      <th></th>\n",
              "      <th>epochs</th>\n",
              "      <th>argmax &gt; 0.5</th>\n",
              "      <th>argmax &lt; 0.5</th>\n",
              "      <th>focus_true_pred_true</th>\n",
              "      <th>focus_false_pred_true</th>\n",
              "      <th>focus_true_pred_false</th>\n",
              "      <th>focus_false_pred_false</th>\n",
              "    </tr>\n",
              "  </thead>\n",
              "  <tbody>\n",
              "    <tr>\n",
              "      <th>0</th>\n",
              "      <td>0</td>\n",
              "      <td>9.800000</td>\n",
              "      <td>90.200000</td>\n",
              "      <td>3.800000</td>\n",
              "      <td>28.566667</td>\n",
              "      <td>7.966667</td>\n",
              "      <td>59.666667</td>\n",
              "    </tr>\n",
              "    <tr>\n",
              "      <th>1</th>\n",
              "      <td>1</td>\n",
              "      <td>54.000000</td>\n",
              "      <td>46.000000</td>\n",
              "      <td>0.033333</td>\n",
              "      <td>33.000000</td>\n",
              "      <td>8.066667</td>\n",
              "      <td>58.900000</td>\n",
              "    </tr>\n",
              "    <tr>\n",
              "      <th>2</th>\n",
              "      <td>2</td>\n",
              "      <td>58.966667</td>\n",
              "      <td>41.033333</td>\n",
              "      <td>7.433333</td>\n",
              "      <td>27.466667</td>\n",
              "      <td>0.300000</td>\n",
              "      <td>64.800000</td>\n",
              "    </tr>\n",
              "    <tr>\n",
              "      <th>3</th>\n",
              "      <td>3</td>\n",
              "      <td>65.533333</td>\n",
              "      <td>34.466667</td>\n",
              "      <td>0.600000</td>\n",
              "      <td>32.533333</td>\n",
              "      <td>8.666667</td>\n",
              "      <td>58.200000</td>\n",
              "    </tr>\n",
              "    <tr>\n",
              "      <th>4</th>\n",
              "      <td>4</td>\n",
              "      <td>60.133333</td>\n",
              "      <td>39.866667</td>\n",
              "      <td>16.833333</td>\n",
              "      <td>18.066667</td>\n",
              "      <td>0.166667</td>\n",
              "      <td>64.933333</td>\n",
              "    </tr>\n",
              "    <tr>\n",
              "      <th>...</th>\n",
              "      <td>...</td>\n",
              "      <td>...</td>\n",
              "      <td>...</td>\n",
              "      <td>...</td>\n",
              "      <td>...</td>\n",
              "      <td>...</td>\n",
              "      <td>...</td>\n",
              "    </tr>\n",
              "    <tr>\n",
              "      <th>196</th>\n",
              "      <td>196</td>\n",
              "      <td>99.333333</td>\n",
              "      <td>0.666667</td>\n",
              "      <td>66.833333</td>\n",
              "      <td>32.500000</td>\n",
              "      <td>0.066667</td>\n",
              "      <td>0.600000</td>\n",
              "    </tr>\n",
              "    <tr>\n",
              "      <th>197</th>\n",
              "      <td>197</td>\n",
              "      <td>99.366667</td>\n",
              "      <td>0.633333</td>\n",
              "      <td>66.800000</td>\n",
              "      <td>32.466667</td>\n",
              "      <td>0.066667</td>\n",
              "      <td>0.666667</td>\n",
              "    </tr>\n",
              "    <tr>\n",
              "      <th>198</th>\n",
              "      <td>198</td>\n",
              "      <td>99.233333</td>\n",
              "      <td>0.766667</td>\n",
              "      <td>66.833333</td>\n",
              "      <td>32.366667</td>\n",
              "      <td>0.066667</td>\n",
              "      <td>0.733333</td>\n",
              "    </tr>\n",
              "    <tr>\n",
              "      <th>199</th>\n",
              "      <td>199</td>\n",
              "      <td>99.366667</td>\n",
              "      <td>0.633333</td>\n",
              "      <td>66.800000</td>\n",
              "      <td>32.466667</td>\n",
              "      <td>0.100000</td>\n",
              "      <td>0.633333</td>\n",
              "    </tr>\n",
              "    <tr>\n",
              "      <th>200</th>\n",
              "      <td>200</td>\n",
              "      <td>99.266667</td>\n",
              "      <td>0.733333</td>\n",
              "      <td>66.833333</td>\n",
              "      <td>32.400000</td>\n",
              "      <td>0.066667</td>\n",
              "      <td>0.700000</td>\n",
              "    </tr>\n",
              "  </tbody>\n",
              "</table>\n",
              "<p>201 rows × 7 columns</p>\n",
              "</div>"
            ],
            "text/plain": [
              "     epochs  argmax > 0.5  ...  focus_true_pred_false  focus_false_pred_false\n",
              "0         0      9.800000  ...               7.966667               59.666667\n",
              "1         1     54.000000  ...               8.066667               58.900000\n",
              "2         2     58.966667  ...               0.300000               64.800000\n",
              "3         3     65.533333  ...               8.666667               58.200000\n",
              "4         4     60.133333  ...               0.166667               64.933333\n",
              "..      ...           ...  ...                    ...                     ...\n",
              "196     196     99.333333  ...               0.066667                0.600000\n",
              "197     197     99.366667  ...               0.066667                0.666667\n",
              "198     198     99.233333  ...               0.066667                0.733333\n",
              "199     199     99.366667  ...               0.100000                0.633333\n",
              "200     200     99.266667  ...               0.066667                0.700000\n",
              "\n",
              "[201 rows x 7 columns]"
            ]
          },
          "metadata": {
            "tags": []
          },
          "execution_count": 19
        }
      ]
    },
    {
      "cell_type": "code",
      "metadata": {
        "colab": {
          "base_uri": "https://localhost:8080/",
          "height": 404
        },
        "id": "IMAhRdxOcVf6",
        "outputId": "25496dbe-2a28-4afc-e74a-d7f9284de108"
      },
      "source": [
        "fig= plt.figure(figsize=(6,6))\n",
        "plt.plot(df_train[columns[0]],df_train[columns[3]], label =\"focus_true_pred_true \")\n",
        "plt.plot(df_train[columns[0]],df_train[columns[4]], label =\"focus_false_pred_true \")\n",
        "plt.plot(df_train[columns[0]],df_train[columns[5]], label =\"focus_true_pred_false \")\n",
        "plt.plot(df_train[columns[0]],df_train[columns[6]], label =\"focus_false_pred_false \")\n",
        "plt.title(\"On Train set\")\n",
        "plt.legend(loc='center left', bbox_to_anchor=(1, 0.5))\n",
        "plt.xlabel(\"epochs\")\n",
        "plt.ylabel(\"percentage of data\")\n",
        "plt.xticks([0,50,100,150,200])\n",
        "#plt.vlines(vline_list,min(min(df_train[columns[3]]/300),min(df_train[columns[4]]/300),min(df_train[columns[5]]/300),min(df_train[columns[6]]/300)), max(max(df_train[columns[3]]/300),max(df_train[columns[4]]/300),max(df_train[columns[5]]/300),max(df_train[columns[6]]/300)),linestyles='dotted')\n",
        "plt.show()\n",
        "fig.savefig(\"train_analysis.pdf\")\n",
        "fig.savefig(\"train_analysis.png\")"
      ],
      "execution_count": 20,
      "outputs": [
        {
          "output_type": "display_data",
          "data": {
            "image/png": "[encoded data removed]",
            "text/plain": [
              "<Figure size 432x432 with 1 Axes>"
            ]
          },
          "metadata": {
            "tags": [],
            "needs_background": "light"
          }
        }
      ]
    },
    {
      "cell_type": "code",
      "metadata": {
        "id": "VCnS6r2_3WdU"
      },
      "source": [
        "aph = []\n",
        "for i in bg:\n",
        "  aph.append(F.softmax(i,dim=1).detach().numpy())\n",
        "aph = np.concatenate(aph,axis=0)\n",
        "# torch.save({\n",
        "#             'epoch': 500,\n",
        "#             'model_state_dict': what_net.state_dict(),\n",
        "#             #'optimizer_state_dict': optimizer_what.state_dict(),\n",
        "#             \"optimizer_alpha\":optim1,\n",
        "#             \"FTPT_analysis\":analysis_data_tr,\n",
        "#             \"alpha\":aph\n",
        "\n",
        "#             }, \"type4_what_net_500.pt\")"
      ],
      "execution_count": 21,
      "outputs": []
    },
    {
      "cell_type": "code",
      "metadata": {
        "colab": {
          "base_uri": "https://localhost:8080/"
        },
        "id": "KVzrDOGS4UxU",
        "outputId": "22670ca1-7b92-4063-8adf-8ae632c622d2"
      },
      "source": [
        "aph[0]"
      ],
      "execution_count": 22,
      "outputs": [
        {
          "output_type": "execute_result",
          "data": {
            "text/plain": [
              "array([1.8816357e-12, 5.3588857e-14, 7.9869945e-23, 9.7781813e-01,\n",
              "       6.9552903e-13, 4.8033712e-03, 3.7156249e-33, 1.7378425e-02,\n",
              "       9.8967625e-09], dtype=float32)"
            ]
          },
          "metadata": {
            "tags": []
          },
          "execution_count": 22
        }
      ]
    },
    {
      "cell_type": "code",
      "metadata": {
        "id": "yF2bvWdIWUTa"
      },
      "source": [
        "xx,yy= np.meshgrid(np.arange(1,8,0.01),np.arange(2,9,0.01))\n",
        "X = np.concatenate((xx.reshape(-1,1),yy.reshape(-1,1)),axis=1)\n",
        "X = torch.Tensor(X).double().to(\"cuda\")\n",
        "Y1 = what_net(X)"
      ],
      "execution_count": 23,
      "outputs": []
    },
    {
      "cell_type": "code",
      "metadata": {
        "id": "GENNdxJEa_Xi"
      },
      "source": [
        "Y1 = Y1.to(\"cpu\")\n",
        "Y1 = Y1.detach().numpy()\n",
        "Y1 = torch.softmax(torch.Tensor(Y1),dim=1)\n",
        "_,Z4= torch.max(Y1,1)\n",
        "Z1 = Y1[:,0]\n",
        "Z2 = Y1[:,1]\n",
        "Z3 = Y1[:,2]"
      ],
      "execution_count": 24,
      "outputs": []
    },
    {
      "cell_type": "code",
      "metadata": {
        "id": "5ZwEogAobesX"
      },
      "source": [
        "X = X.to(\"cpu\")"
      ],
      "execution_count": 25,
      "outputs": []
    },
    {
      "cell_type": "code",
      "metadata": {
        "colab": {
          "base_uri": "https://localhost:8080/"
        },
        "id": "ZIoUNsgebIku",
        "outputId": "ede7bec0-21dd-4920-f52d-f9dc826eab6c"
      },
      "source": [
        "data = np.load(\"type_4_data.npy\",allow_pickle=True)\n",
        "x = data[0][\"X\"]\n",
        "y = data[0][\"Y\"]\n",
        "idx= []\n",
        "for i in range(10):\n",
        "  print(i,sum(y==i))\n",
        "  idx.append(y==i)"
      ],
      "execution_count": 26,
      "outputs": [
        {
          "output_type": "stream",
          "text": [
            "0 482\n",
            "1 485\n",
            "2 536\n",
            "3 504\n",
            "4 493\n",
            "5 513\n",
            "6 497\n",
            "7 486\n",
            "8 522\n",
            "9 482\n"
          ],
          "name": "stdout"
        }
      ]
    },
    {
      "cell_type": "code",
      "metadata": {
        "id": "7Ut6ZTAXbvqx"
      },
      "source": [
        "avrg = []\n",
        "with torch.no_grad():\n",
        "  for i, data in  enumerate(train_loader):\n",
        "          inputs , labels , fore_idx = data\n",
        "          inputs = inputs.double()\n",
        "          inputs, labels = inputs.to(\"cuda\"),labels.to(\"cuda\")\n",
        "          beta  = bg[i]\n",
        "          beta = beta.to(\"cuda\")\n",
        "          avg,alpha = attn_avg(inputs,beta)\n",
        "          \n",
        "          avrg.append(avg.detach().cpu().numpy())\n",
        "avrg= np.concatenate(avrg,axis=0)"
      ],
      "execution_count": 27,
      "outputs": []
    },
    {
      "cell_type": "code",
      "metadata": {
        "colab": {
          "base_uri": "https://localhost:8080/",
          "height": 374
        },
        "id": "5PAwMQXzbQJR",
        "outputId": "f8f79090-de69-4701-b028-458844783df6"
      },
      "source": [
        "fig = plt.figure(figsize=(6,6))\n",
        "#plt.scatter(X[:,0],X[:,1],c=Z4)\n",
        "Z4 = Z4.reshape(xx.shape)\n",
        "plt.contourf(xx, yy, Z4, alpha=0.4)\n",
        "for i in range(3):\n",
        "  plt.scatter(x[idx[i],0],x[idx[i],1],label=\"class_\"+str(i),alpha=0.8)\n",
        "plt.legend(loc='center left', bbox_to_anchor=(1, 0.5))\n",
        "plt.scatter(avrg[:,0],avrg[:,1],alpha=0.2)\n",
        "plt.savefig(\"decision_boundary.png\",bbox_inches=\"tight\")\n"
      ],
      "execution_count": 28,
      "outputs": [
        {
          "output_type": "display_data",
          "data": {
            "image/png": "[encoded data removed]",
            "text/plain": [
              "<Figure size 432x432 with 1 Axes>"
            ]
          },
          "metadata": {
            "tags": [],
            "needs_background": "light"
          }
        }
      ]
    },
    {
      "cell_type": "code",
      "metadata": {
        "id": "6KHn17Rbceqt"
      },
      "source": [
        ""
      ],
      "execution_count": 28,
      "outputs": []
    }
  ]
}