{
  "nbformat": 4,
  "nbformat_minor": 0,
  "metadata": {
    "accelerator": "GPU",
    "colab": {
      "name": "type4_attn_ewts_gaussian_kernel.ipynb",
      "provenance": [],
      "collapsed_sections": []
    },
    "kernelspec": {
      "display_name": "Python 3",
      "name": "python3"
    },
    "language_info": {
      "name": "python"
    }
  },
  "cells": [
    {
      "cell_type": "code",
      "metadata": {
        "id": "BWIyC9Ip_bcq"
      },
      "source": [
        "import numpy as np\n",
        "import pandas as pd\n",
        "\n",
        "import torch\n",
        "import torchvision\n",
        "from torch.utils.data import Dataset, DataLoader\n",
        "from torchvision import transforms, utils\n",
        "import torch.nn as nn\n",
        "import torch.nn.functional as F\n",
        "import torch.optim as optim\n",
        "\n",
        "from matplotlib import pyplot as plt\n",
        "from myrmsprop import MyRmsprop\n",
        "%matplotlib inline\n",
        "torch.backends.cudnn.deterministic = True\n",
        "torch.backends.cudnn.benchmark = False"
      ],
      "execution_count": 1,
      "outputs": []
    },
    {
      "cell_type": "code",
      "metadata": {
        "id": "lGVy-1EllAc_"
      },
      "source": [
        "train_data = np.load(\"train_type4_data.npy\",allow_pickle=True)\n",
        "\n",
        "test_data = np.load(\"test_type4_data.npy\",allow_pickle=True)"
      ],
      "execution_count": 2,
      "outputs": []
    },
    {
      "cell_type": "code",
      "metadata": {
        "id": "uL771xuGZC5Q"
      },
      "source": [
        "mosaic_list_of_images = train_data[0][\"mosaic_list\"]\n",
        "mosaic_label = train_data[0][\"mosaic_label\"]\n",
        "fore_idx = train_data[0][\"fore_idx\"]\n",
        "\n",
        "\n",
        "test_mosaic_list_of_images = test_data[0][\"mosaic_list\"]\n",
        "test_mosaic_label = test_data[0][\"mosaic_label\"]\n",
        "test_fore_idx = test_data[0][\"fore_idx\"]"
      ],
      "execution_count": 3,
      "outputs": []
    },
    {
      "cell_type": "code",
      "metadata": {
        "id": "x2qfRXfNZCao"
      },
      "source": [
        "class MosaicDataset1(Dataset):\n",
        "  \"\"\"MosaicDataset dataset.\"\"\"\n",
        "\n",
        "  def __init__(self, mosaic_list, mosaic_label,fore_idx):\n",
        "    \"\"\"\n",
        "      Args:\n",
        "        csv_file (string): Path to the csv file with annotations.\n",
        "        root_dir (string): Directory with all the images.\n",
        "        transform (callable, optional): Optional transform to be applied\n",
        "            on a sample.\n",
        "    \"\"\"\n",
        "    self.mosaic = mosaic_list\n",
        "    self.label = mosaic_label\n",
        "    self.fore_idx = fore_idx\n",
        "    \n",
        "  def __len__(self):\n",
        "    return len(self.label)\n",
        "\n",
        "  def __getitem__(self, idx):\n",
        "    return self.mosaic[idx] , self.label[idx] , self.fore_idx[idx]"
      ],
      "execution_count": 4,
      "outputs": []
    },
    {
      "cell_type": "code",
      "metadata": {
        "id": "uf76JwkxZCT0"
      },
      "source": [
        "batch = 3000\n",
        "train_dataset = MosaicDataset1(mosaic_list_of_images, mosaic_label, fore_idx)\n",
        "train_loader = DataLoader( train_dataset,batch_size= batch ,shuffle=False)\n",
        "#batch = 2000\n",
        "#test_dataset = MosaicDataset1(test_mosaic_list_of_images, test_mosaic_label, test_fore_idx)\n",
        "#test_loader = DataLoader(test_dataset,batch_size= batch ,shuffle=False)"
      ],
      "execution_count": 5,
      "outputs": []
    },
    {
      "cell_type": "code",
      "metadata": {
        "id": "DOpZfj1bq7wN"
      },
      "source": [
        "n_batches = 3000//batch\n",
        "bg = []\n",
        "for i in range(n_batches):\n",
        "  torch.manual_seed(i)\n",
        "  betag = torch.randn(3000,9)#torch.ones((250,9))/9\n",
        "  bg.append( betag.requires_grad_() )"
      ],
      "execution_count": 6,
      "outputs": []
    },
    {
      "cell_type": "code",
      "metadata": {
        "colab": {
          "base_uri": "https://localhost:8080/"
        },
        "id": "fzb3ii4drXpu",
        "outputId": "cad9291a-e8b5-4539-d081-52715ec207a6"
      },
      "source": [
        "len(bg)"
      ],
      "execution_count": 7,
      "outputs": [
        {
          "output_type": "execute_result",
          "data": {
            "text/plain": [
              "1"
            ]
          },
          "metadata": {
            "tags": []
          },
          "execution_count": 7
        }
      ]
    },
    {
      "cell_type": "code",
      "metadata": {
        "colab": {
          "base_uri": "https://localhost:8080/"
        },
        "id": "Am8LcQm1Og-f",
        "outputId": "dd016ced-fd2f-4faf-d15c-725cc2ec400a"
      },
      "source": [
        "#H = np.zeros((27000,27000))\n",
        "for i, data in enumerate(train_loader, 0):\n",
        "  print(i) # only one batch\n",
        "  inputs,_,_ = data\n",
        "  inputs = torch.reshape(inputs,(27000,2))\n",
        "  dis = torch.cdist(inputs,inputs)**2\n",
        "  gamma = -1/torch.median(dis)\n",
        "  print(gamma)\n",
        "  H = torch.exp(gamma*dis)\n"
      ],
      "execution_count": 8,
      "outputs": [
        {
          "output_type": "stream",
          "text": [
            "0\n",
            "tensor(-0.0948)\n"
          ],
          "name": "stdout"
        }
      ]
    },
    {
      "cell_type": "code",
      "metadata": {
        "colab": {
          "base_uri": "https://localhost:8080/"
        },
        "id": "rTxUQEquHYqj",
        "outputId": "db5618c1-d890-433c-e154-4224c8d0a765"
      },
      "source": [
        "H.shape"
      ],
      "execution_count": 9,
      "outputs": [
        {
          "output_type": "execute_result",
          "data": {
            "text/plain": [
              "torch.Size([27000, 27000])"
            ]
          },
          "metadata": {
            "tags": []
          },
          "execution_count": 9
        }
      ]
    },
    {
      "cell_type": "code",
      "metadata": {
        "id": "HbrMidFCla6h"
      },
      "source": [
        "class Module2(nn.Module):\n",
        "  def __init__(self):\n",
        "    super(Module2, self).__init__()\n",
        "    self.linear1 = nn.Linear(2,100)\n",
        "    self.linear2 = nn.Linear(100,3)\n",
        "\n",
        "  def forward(self,x):\n",
        "    x = F.relu(self.linear1(x))\n",
        "    x = self.linear2(x)\n",
        "    return x"
      ],
      "execution_count": 10,
      "outputs": []
    },
    {
      "cell_type": "code",
      "metadata": {
        "id": "rRqj2VELllkX"
      },
      "source": [
        "torch.manual_seed(1234)\n",
        "what_net = Module2().double()\n",
        "\n",
        "#what_net.load_state_dict(torch.load(\"type4_what_net.pt\"))\n",
        "what_net = what_net.to(\"cuda\")"
      ],
      "execution_count": 11,
      "outputs": []
    },
    {
      "cell_type": "code",
      "metadata": {
        "id": "6d8Wch99l4yB"
      },
      "source": [
        "def attn_avg(x,beta):\n",
        "  y = torch.zeros([batch,2], dtype=torch.float64)\n",
        "  y = y.to(\"cuda\")\n",
        "  alpha = F.softmax(beta,dim=1)   # alphas\n",
        "  #print(alpha[0],x[0,:])\n",
        "  for i in range(9):            \n",
        "    alpha1 = alpha[:,i]      \n",
        "    y = y + torch.mul(alpha1[:,None],x[:,i])\n",
        "  return y,alpha\n"
      ],
      "execution_count": 12,
      "outputs": []
    },
    {
      "cell_type": "code",
      "metadata": {
        "id": "Rz1Kpw12loV6"
      },
      "source": [
        "def calculate_attn_loss(dataloader,what,criter):\n",
        "  what.eval()\n",
        "  r_loss = 0\n",
        "  alphas = []\n",
        "  lbls = []\n",
        "  pred = []\n",
        "  fidices = []\n",
        "  correct = 0\n",
        "  tot = 0\n",
        "  with torch.no_grad():\n",
        "    for i, data in enumerate(dataloader, 0):\n",
        "      inputs, labels,fidx= data\n",
        "      lbls.append(labels)\n",
        "      fidices.append(fidx)\n",
        "      inputs = inputs.double()\n",
        "      beta = bg[i]  # beta for ith batch\n",
        "      inputs, labels,beta = inputs.to(\"cuda\"),labels.to(\"cuda\"),beta.to(\"cuda\")\n",
        "      avg,alpha = attn_avg(inputs,beta)\n",
        "      alpha = alpha.to(\"cuda\")\n",
        "      outputs = what(avg)\n",
        "      _, predicted = torch.max(outputs.data, 1)\n",
        "      correct += sum(predicted == labels)\n",
        "      tot += len(predicted)\n",
        "      pred.append(predicted.cpu().numpy())\n",
        "      alphas.append(alpha.cpu().numpy())\n",
        "      loss = criter(outputs, labels)\n",
        "      r_loss += loss.item()\n",
        "  alphas = np.concatenate(alphas,axis=0)\n",
        "  pred = np.concatenate(pred,axis=0)\n",
        "  lbls = np.concatenate(lbls,axis=0)\n",
        "  fidices = np.concatenate(fidices,axis=0)\n",
        "  #print(alphas.shape,pred.shape,lbls.shape,fidices.shape) \n",
        "  analysis = analyse_data(alphas,lbls,pred,fidices)\n",
        "  return r_loss/(i+1),analysis,correct.item(),tot,correct.item()/tot"
      ],
      "execution_count": 13,
      "outputs": []
    },
    {
      "cell_type": "code",
      "metadata": {
        "id": "sAY-x6UAwrwE"
      },
      "source": [
        "# for param in what_net.parameters():\n",
        "#     param.requires_grad = False"
      ],
      "execution_count": 14,
      "outputs": []
    },
    {
      "cell_type": "code",
      "metadata": {
        "id": "_toCktPanH0S"
      },
      "source": [
        "\n",
        "def analyse_data(alphas,lbls,predicted,f_idx):\n",
        "    '''\n",
        "       analysis data is created here\n",
        "    '''\n",
        "    batch = len(predicted)\n",
        "    amth,alth,ftpt,ffpt,ftpf,ffpf = 0,0,0,0,0,0\n",
        "    for j in range (batch):\n",
        "      focus = np.argmax(alphas[j])\n",
        "      if(alphas[j][focus] >= 0.5):\n",
        "        amth +=1\n",
        "      else:\n",
        "        alth +=1\n",
        "      if(focus == f_idx[j] and predicted[j] == lbls[j]):\n",
        "        ftpt += 1\n",
        "      elif(focus != f_idx[j] and predicted[j] == lbls[j]):\n",
        "        ffpt +=1\n",
        "      elif(focus == f_idx[j] and predicted[j] != lbls[j]):\n",
        "        ftpf +=1\n",
        "      elif(focus != f_idx[j] and predicted[j] != lbls[j]):\n",
        "        ffpf +=1\n",
        "    #print(sum(predicted==lbls),ftpt+ffpt)\n",
        "    return [ftpt,ffpt,ftpf,ffpf,amth,alth]"
      ],
      "execution_count": 15,
      "outputs": []
    },
    {
      "cell_type": "code",
      "metadata": {
        "id": "S633XgMToeN3"
      },
      "source": [
        "optim1 = []\n",
        "H= H.to(\"cpu\")\n",
        "for i in range(n_batches):\n",
        "  optim1.append(MyRmsprop([bg[i]],H=H,lr=0.01))\n",
        "  #optim1.append(optim.RMSprop([bg[i]],lr=0.1))"
      ],
      "execution_count": 16,
      "outputs": []
    },
    {
      "cell_type": "code",
      "metadata": {
        "colab": {
          "base_uri": "https://localhost:8080/"
        },
        "id": "qPaYaojinMTA",
        "outputId": "35db1d7d-7128-42ca-a8a4-21c11f100cac"
      },
      "source": [
        "# instantiate optimizer\n",
        "optimizer_what = optim.RMSprop(what_net.parameters(), lr=0.001)#, momentum=0.9)#,nesterov=True)\n",
        "\n",
        "\n",
        " \n",
        "\n",
        "\n",
        "criterion = nn.CrossEntropyLoss()\n",
        "acti = []\n",
        "analysis_data_tr = []\n",
        "analysis_data_tst = []\n",
        "loss_curi_tr = []\n",
        "loss_curi_tst = []\n",
        "epochs = 200\n",
        "\n",
        "\n",
        "# calculate zeroth epoch loss and FTPT values\n",
        "running_loss,anlys_data,correct,total,accuracy = calculate_attn_loss(train_loader,what_net,criterion)\n",
        "print('training epoch: [%d ] loss: %.3f correct: %.3f, total: %.3f, accuracy: %.3f' %(0,running_loss,correct,total,accuracy)) \n",
        "loss_curi_tr.append(running_loss)\n",
        "analysis_data_tr.append(anlys_data)\n",
        "\n",
        "\n",
        "\n",
        "\n",
        "# training starts \n",
        "for epoch in range(epochs): # loop over the dataset multiple times\n",
        "  ep_lossi = []\n",
        "  running_loss = 0.0\n",
        "  what_net.train()\n",
        "  for i, data in enumerate(train_loader, 0):\n",
        "    # get the inputs\n",
        "    inputs, labels,_  = data\n",
        "    inputs = inputs.double()\n",
        "    beta = bg[i] # alpha for ith batch\n",
        "    #print(labels)\n",
        "    inputs, labels,beta = inputs.to(\"cuda\"),labels.to(\"cuda\"),beta.to(\"cuda\")\n",
        "        \n",
        "    # zero the parameter gradients\n",
        "    optimizer_what.zero_grad()\n",
        "    optim1[i].zero_grad()\n",
        "      \n",
        "    # forward + backward + optimize\n",
        "    avg,alpha = attn_avg(inputs,beta)\n",
        "    outputs = what_net(avg)     \n",
        "    loss = criterion(outputs, labels)\n",
        "\n",
        "    # print statistics\n",
        "    running_loss += loss.item()\n",
        "    #alpha.retain_grad()\n",
        "    loss.backward(retain_graph=False)\n",
        "    optimizer_what.step()\n",
        "    optim1[i].step()\n",
        "\n",
        "\n",
        "  running_loss_tr,anls_data,correct,total,accuracy = calculate_attn_loss(train_loader,what_net,criterion)\n",
        "  analysis_data_tr.append(anls_data)\n",
        "  loss_curi_tr.append(running_loss_tr)   #loss per epoch\n",
        "  print('training epoch: [%d ] loss: %.3f correct: %.3f, total: %.3f, accuracy: %.3f' %(epoch+1,running_loss_tr,correct,total,accuracy)) \n",
        "\n",
        "\n",
        "  \n",
        "  if running_loss_tr<=0.08:\n",
        "    break\n",
        "print('Finished Training run ')\n",
        "analysis_data_tr = np.array(analysis_data_tr)\n",
        "\n"
      ],
      "execution_count": 17,
      "outputs": [
        {
          "output_type": "stream",
          "text": [
            "training epoch: [0 ] loss: 1.478 correct: 971.000, total: 3000.000, accuracy: 0.324\n",
            "training epoch: [1 ] loss: 1.145 correct: 991.000, total: 3000.000, accuracy: 0.330\n",
            "training epoch: [2 ] loss: 1.184 correct: 1047.000, total: 3000.000, accuracy: 0.349\n",
            "training epoch: [3 ] loss: 1.153 correct: 1007.000, total: 3000.000, accuracy: 0.336\n",
            "training epoch: [4 ] loss: 1.112 correct: 1047.000, total: 3000.000, accuracy: 0.349\n",
            "training epoch: [5 ] loss: 1.102 correct: 1026.000, total: 3000.000, accuracy: 0.342\n",
            "training epoch: [6 ] loss: 1.097 correct: 1060.000, total: 3000.000, accuracy: 0.353\n",
            "training epoch: [7 ] loss: 1.095 correct: 1031.000, total: 3000.000, accuracy: 0.344\n",
            "training epoch: [8 ] loss: 1.094 correct: 1049.000, total: 3000.000, accuracy: 0.350\n",
            "training epoch: [9 ] loss: 1.094 correct: 1026.000, total: 3000.000, accuracy: 0.342\n",
            "training epoch: [10 ] loss: 1.093 correct: 1040.000, total: 3000.000, accuracy: 0.347\n",
            "training epoch: [11 ] loss: 1.093 correct: 1043.000, total: 3000.000, accuracy: 0.348\n",
            "training epoch: [12 ] loss: 1.092 correct: 1028.000, total: 3000.000, accuracy: 0.343\n",
            "training epoch: [13 ] loss: 1.092 correct: 1040.000, total: 3000.000, accuracy: 0.347\n",
            "training epoch: [14 ] loss: 1.092 correct: 1044.000, total: 3000.000, accuracy: 0.348\n",
            "training epoch: [15 ] loss: 1.091 correct: 1051.000, total: 3000.000, accuracy: 0.350\n",
            "training epoch: [16 ] loss: 1.091 correct: 1063.000, total: 3000.000, accuracy: 0.354\n",
            "training epoch: [17 ] loss: 1.090 correct: 1062.000, total: 3000.000, accuracy: 0.354\n",
            "training epoch: [18 ] loss: 1.090 correct: 1065.000, total: 3000.000, accuracy: 0.355\n",
            "training epoch: [19 ] loss: 1.090 correct: 1072.000, total: 3000.000, accuracy: 0.357\n",
            "training epoch: [20 ] loss: 1.089 correct: 1074.000, total: 3000.000, accuracy: 0.358\n",
            "training epoch: [21 ] loss: 1.089 correct: 1076.000, total: 3000.000, accuracy: 0.359\n",
            "training epoch: [22 ] loss: 1.089 correct: 1069.000, total: 3000.000, accuracy: 0.356\n",
            "training epoch: [23 ] loss: 1.088 correct: 1072.000, total: 3000.000, accuracy: 0.357\n",
            "training epoch: [24 ] loss: 1.088 correct: 1065.000, total: 3000.000, accuracy: 0.355\n",
            "training epoch: [25 ] loss: 1.087 correct: 1078.000, total: 3000.000, accuracy: 0.359\n",
            "training epoch: [26 ] loss: 1.087 correct: 1056.000, total: 3000.000, accuracy: 0.352\n",
            "training epoch: [27 ] loss: 1.087 correct: 1083.000, total: 3000.000, accuracy: 0.361\n",
            "training epoch: [28 ] loss: 1.086 correct: 1064.000, total: 3000.000, accuracy: 0.355\n",
            "training epoch: [29 ] loss: 1.086 correct: 1090.000, total: 3000.000, accuracy: 0.363\n",
            "training epoch: [30 ] loss: 1.086 correct: 1047.000, total: 3000.000, accuracy: 0.349\n",
            "training epoch: [31 ] loss: 1.085 correct: 1104.000, total: 3000.000, accuracy: 0.368\n",
            "training epoch: [32 ] loss: 1.085 correct: 1066.000, total: 3000.000, accuracy: 0.355\n",
            "training epoch: [33 ] loss: 1.084 correct: 1118.000, total: 3000.000, accuracy: 0.373\n",
            "training epoch: [34 ] loss: 1.084 correct: 1119.000, total: 3000.000, accuracy: 0.373\n",
            "training epoch: [35 ] loss: 1.084 correct: 1124.000, total: 3000.000, accuracy: 0.375\n",
            "training epoch: [36 ] loss: 1.084 correct: 1136.000, total: 3000.000, accuracy: 0.379\n",
            "training epoch: [37 ] loss: 1.084 correct: 1151.000, total: 3000.000, accuracy: 0.384\n",
            "training epoch: [38 ] loss: 1.085 correct: 1134.000, total: 3000.000, accuracy: 0.378\n",
            "training epoch: [39 ] loss: 1.085 correct: 1130.000, total: 3000.000, accuracy: 0.377\n",
            "training epoch: [40 ] loss: 1.086 correct: 1137.000, total: 3000.000, accuracy: 0.379\n",
            "training epoch: [41 ] loss: 1.086 correct: 1114.000, total: 3000.000, accuracy: 0.371\n",
            "training epoch: [42 ] loss: 1.085 correct: 1148.000, total: 3000.000, accuracy: 0.383\n",
            "training epoch: [43 ] loss: 1.085 correct: 1126.000, total: 3000.000, accuracy: 0.375\n",
            "training epoch: [44 ] loss: 1.084 correct: 1148.000, total: 3000.000, accuracy: 0.383\n",
            "training epoch: [45 ] loss: 1.083 correct: 1144.000, total: 3000.000, accuracy: 0.381\n",
            "training epoch: [46 ] loss: 1.081 correct: 1156.000, total: 3000.000, accuracy: 0.385\n",
            "training epoch: [47 ] loss: 1.080 correct: 1161.000, total: 3000.000, accuracy: 0.387\n",
            "training epoch: [48 ] loss: 1.079 correct: 1161.000, total: 3000.000, accuracy: 0.387\n",
            "training epoch: [49 ] loss: 1.079 correct: 1148.000, total: 3000.000, accuracy: 0.383\n",
            "training epoch: [50 ] loss: 1.078 correct: 1166.000, total: 3000.000, accuracy: 0.389\n",
            "training epoch: [51 ] loss: 1.077 correct: 1173.000, total: 3000.000, accuracy: 0.391\n",
            "training epoch: [52 ] loss: 1.076 correct: 1169.000, total: 3000.000, accuracy: 0.390\n",
            "training epoch: [53 ] loss: 1.076 correct: 1191.000, total: 3000.000, accuracy: 0.397\n",
            "training epoch: [54 ] loss: 1.075 correct: 1182.000, total: 3000.000, accuracy: 0.394\n",
            "training epoch: [55 ] loss: 1.074 correct: 1190.000, total: 3000.000, accuracy: 0.397\n",
            "training epoch: [56 ] loss: 1.074 correct: 1183.000, total: 3000.000, accuracy: 0.394\n",
            "training epoch: [57 ] loss: 1.073 correct: 1203.000, total: 3000.000, accuracy: 0.401\n",
            "training epoch: [58 ] loss: 1.073 correct: 1193.000, total: 3000.000, accuracy: 0.398\n",
            "training epoch: [59 ] loss: 1.072 correct: 1217.000, total: 3000.000, accuracy: 0.406\n",
            "training epoch: [60 ] loss: 1.072 correct: 1200.000, total: 3000.000, accuracy: 0.400\n",
            "training epoch: [61 ] loss: 1.071 correct: 1231.000, total: 3000.000, accuracy: 0.410\n",
            "training epoch: [62 ] loss: 1.071 correct: 1203.000, total: 3000.000, accuracy: 0.401\n",
            "training epoch: [63 ] loss: 1.070 correct: 1240.000, total: 3000.000, accuracy: 0.413\n",
            "training epoch: [64 ] loss: 1.070 correct: 1203.000, total: 3000.000, accuracy: 0.401\n",
            "training epoch: [65 ] loss: 1.070 correct: 1248.000, total: 3000.000, accuracy: 0.416\n",
            "training epoch: [66 ] loss: 1.069 correct: 1215.000, total: 3000.000, accuracy: 0.405\n",
            "training epoch: [67 ] loss: 1.069 correct: 1255.000, total: 3000.000, accuracy: 0.418\n",
            "training epoch: [68 ] loss: 1.068 correct: 1221.000, total: 3000.000, accuracy: 0.407\n",
            "training epoch: [69 ] loss: 1.068 correct: 1262.000, total: 3000.000, accuracy: 0.421\n",
            "training epoch: [70 ] loss: 1.068 correct: 1226.000, total: 3000.000, accuracy: 0.409\n",
            "training epoch: [71 ] loss: 1.067 correct: 1269.000, total: 3000.000, accuracy: 0.423\n",
            "training epoch: [72 ] loss: 1.067 correct: 1232.000, total: 3000.000, accuracy: 0.411\n",
            "training epoch: [73 ] loss: 1.067 correct: 1276.000, total: 3000.000, accuracy: 0.425\n",
            "training epoch: [74 ] loss: 1.067 correct: 1232.000, total: 3000.000, accuracy: 0.411\n",
            "training epoch: [75 ] loss: 1.067 correct: 1289.000, total: 3000.000, accuracy: 0.430\n",
            "training epoch: [76 ] loss: 1.067 correct: 1231.000, total: 3000.000, accuracy: 0.410\n",
            "training epoch: [77 ] loss: 1.067 correct: 1287.000, total: 3000.000, accuracy: 0.429\n",
            "training epoch: [78 ] loss: 1.066 correct: 1236.000, total: 3000.000, accuracy: 0.412\n",
            "training epoch: [79 ] loss: 1.066 correct: 1292.000, total: 3000.000, accuracy: 0.431\n",
            "training epoch: [80 ] loss: 1.066 correct: 1242.000, total: 3000.000, accuracy: 0.414\n",
            "training epoch: [81 ] loss: 1.066 correct: 1299.000, total: 3000.000, accuracy: 0.433\n",
            "training epoch: [82 ] loss: 1.065 correct: 1245.000, total: 3000.000, accuracy: 0.415\n",
            "training epoch: [83 ] loss: 1.064 correct: 1312.000, total: 3000.000, accuracy: 0.437\n",
            "training epoch: [84 ] loss: 1.063 correct: 1250.000, total: 3000.000, accuracy: 0.417\n",
            "training epoch: [85 ] loss: 1.063 correct: 1303.000, total: 3000.000, accuracy: 0.434\n",
            "training epoch: [86 ] loss: 1.062 correct: 1250.000, total: 3000.000, accuracy: 0.417\n",
            "training epoch: [87 ] loss: 1.061 correct: 1303.000, total: 3000.000, accuracy: 0.434\n",
            "training epoch: [88 ] loss: 1.061 correct: 1250.000, total: 3000.000, accuracy: 0.417\n",
            "training epoch: [89 ] loss: 1.060 correct: 1271.000, total: 3000.000, accuracy: 0.424\n",
            "training epoch: [90 ] loss: 1.060 correct: 1248.000, total: 3000.000, accuracy: 0.416\n",
            "training epoch: [91 ] loss: 1.059 correct: 1249.000, total: 3000.000, accuracy: 0.416\n",
            "training epoch: [92 ] loss: 1.059 correct: 1241.000, total: 3000.000, accuracy: 0.414\n",
            "training epoch: [93 ] loss: 1.059 correct: 1246.000, total: 3000.000, accuracy: 0.415\n",
            "training epoch: [94 ] loss: 1.059 correct: 1223.000, total: 3000.000, accuracy: 0.408\n",
            "training epoch: [95 ] loss: 1.059 correct: 1254.000, total: 3000.000, accuracy: 0.418\n",
            "training epoch: [96 ] loss: 1.060 correct: 1216.000, total: 3000.000, accuracy: 0.405\n",
            "training epoch: [97 ] loss: 1.061 correct: 1264.000, total: 3000.000, accuracy: 0.421\n",
            "training epoch: [98 ] loss: 1.061 correct: 1219.000, total: 3000.000, accuracy: 0.406\n",
            "training epoch: [99 ] loss: 1.062 correct: 1270.000, total: 3000.000, accuracy: 0.423\n",
            "training epoch: [100 ] loss: 1.061 correct: 1215.000, total: 3000.000, accuracy: 0.405\n",
            "training epoch: [101 ] loss: 1.060 correct: 1264.000, total: 3000.000, accuracy: 0.421\n",
            "training epoch: [102 ] loss: 1.058 correct: 1222.000, total: 3000.000, accuracy: 0.407\n",
            "training epoch: [103 ] loss: 1.057 correct: 1265.000, total: 3000.000, accuracy: 0.422\n",
            "training epoch: [104 ] loss: 1.055 correct: 1219.000, total: 3000.000, accuracy: 0.406\n",
            "training epoch: [105 ] loss: 1.054 correct: 1266.000, total: 3000.000, accuracy: 0.422\n",
            "training epoch: [106 ] loss: 1.053 correct: 1240.000, total: 3000.000, accuracy: 0.413\n",
            "training epoch: [107 ] loss: 1.052 correct: 1281.000, total: 3000.000, accuracy: 0.427\n",
            "training epoch: [108 ] loss: 1.051 correct: 1258.000, total: 3000.000, accuracy: 0.419\n",
            "training epoch: [109 ] loss: 1.051 correct: 1353.000, total: 3000.000, accuracy: 0.451\n",
            "training epoch: [110 ] loss: 1.050 correct: 1281.000, total: 3000.000, accuracy: 0.427\n",
            "training epoch: [111 ] loss: 1.049 correct: 1388.000, total: 3000.000, accuracy: 0.463\n",
            "training epoch: [112 ] loss: 1.049 correct: 1304.000, total: 3000.000, accuracy: 0.435\n",
            "training epoch: [113 ] loss: 1.048 correct: 1406.000, total: 3000.000, accuracy: 0.469\n",
            "training epoch: [114 ] loss: 1.048 correct: 1314.000, total: 3000.000, accuracy: 0.438\n",
            "training epoch: [115 ] loss: 1.047 correct: 1410.000, total: 3000.000, accuracy: 0.470\n",
            "training epoch: [116 ] loss: 1.047 correct: 1318.000, total: 3000.000, accuracy: 0.439\n",
            "training epoch: [117 ] loss: 1.047 correct: 1404.000, total: 3000.000, accuracy: 0.468\n",
            "training epoch: [118 ] loss: 1.046 correct: 1329.000, total: 3000.000, accuracy: 0.443\n",
            "training epoch: [119 ] loss: 1.046 correct: 1411.000, total: 3000.000, accuracy: 0.470\n",
            "training epoch: [120 ] loss: 1.045 correct: 1330.000, total: 3000.000, accuracy: 0.443\n",
            "training epoch: [121 ] loss: 1.045 correct: 1414.000, total: 3000.000, accuracy: 0.471\n",
            "training epoch: [122 ] loss: 1.045 correct: 1333.000, total: 3000.000, accuracy: 0.444\n",
            "training epoch: [123 ] loss: 1.044 correct: 1413.000, total: 3000.000, accuracy: 0.471\n",
            "training epoch: [124 ] loss: 1.044 correct: 1330.000, total: 3000.000, accuracy: 0.443\n",
            "training epoch: [125 ] loss: 1.044 correct: 1407.000, total: 3000.000, accuracy: 0.469\n",
            "training epoch: [126 ] loss: 1.043 correct: 1332.000, total: 3000.000, accuracy: 0.444\n",
            "training epoch: [127 ] loss: 1.043 correct: 1410.000, total: 3000.000, accuracy: 0.470\n",
            "training epoch: [128 ] loss: 1.043 correct: 1342.000, total: 3000.000, accuracy: 0.447\n",
            "training epoch: [129 ] loss: 1.043 correct: 1418.000, total: 3000.000, accuracy: 0.473\n",
            "training epoch: [130 ] loss: 1.042 correct: 1343.000, total: 3000.000, accuracy: 0.448\n",
            "training epoch: [131 ] loss: 1.042 correct: 1415.000, total: 3000.000, accuracy: 0.472\n",
            "training epoch: [132 ] loss: 1.042 correct: 1338.000, total: 3000.000, accuracy: 0.446\n",
            "training epoch: [133 ] loss: 1.042 correct: 1428.000, total: 3000.000, accuracy: 0.476\n",
            "training epoch: [134 ] loss: 1.042 correct: 1343.000, total: 3000.000, accuracy: 0.448\n",
            "training epoch: [135 ] loss: 1.042 correct: 1436.000, total: 3000.000, accuracy: 0.479\n",
            "training epoch: [136 ] loss: 1.042 correct: 1356.000, total: 3000.000, accuracy: 0.452\n",
            "training epoch: [137 ] loss: 1.042 correct: 1429.000, total: 3000.000, accuracy: 0.476\n",
            "training epoch: [138 ] loss: 1.043 correct: 1373.000, total: 3000.000, accuracy: 0.458\n",
            "training epoch: [139 ] loss: 1.042 correct: 1420.000, total: 3000.000, accuracy: 0.473\n",
            "training epoch: [140 ] loss: 1.043 correct: 1390.000, total: 3000.000, accuracy: 0.463\n",
            "training epoch: [141 ] loss: 1.042 correct: 1407.000, total: 3000.000, accuracy: 0.469\n",
            "training epoch: [142 ] loss: 1.042 correct: 1417.000, total: 3000.000, accuracy: 0.472\n",
            "training epoch: [143 ] loss: 1.042 correct: 1379.000, total: 3000.000, accuracy: 0.460\n",
            "training epoch: [144 ] loss: 1.041 correct: 1425.000, total: 3000.000, accuracy: 0.475\n",
            "training epoch: [145 ] loss: 1.040 correct: 1362.000, total: 3000.000, accuracy: 0.454\n",
            "training epoch: [146 ] loss: 1.040 correct: 1445.000, total: 3000.000, accuracy: 0.482\n",
            "training epoch: [147 ] loss: 1.039 correct: 1352.000, total: 3000.000, accuracy: 0.451\n",
            "training epoch: [148 ] loss: 1.039 correct: 1415.000, total: 3000.000, accuracy: 0.472\n",
            "training epoch: [149 ] loss: 1.038 correct: 1343.000, total: 3000.000, accuracy: 0.448\n",
            "training epoch: [150 ] loss: 1.038 correct: 1371.000, total: 3000.000, accuracy: 0.457\n",
            "training epoch: [151 ] loss: 1.038 correct: 1331.000, total: 3000.000, accuracy: 0.444\n",
            "training epoch: [152 ] loss: 1.037 correct: 1333.000, total: 3000.000, accuracy: 0.444\n",
            "training epoch: [153 ] loss: 1.038 correct: 1318.000, total: 3000.000, accuracy: 0.439\n",
            "training epoch: [154 ] loss: 1.037 correct: 1323.000, total: 3000.000, accuracy: 0.441\n",
            "training epoch: [155 ] loss: 1.037 correct: 1308.000, total: 3000.000, accuracy: 0.436\n",
            "training epoch: [156 ] loss: 1.037 correct: 1316.000, total: 3000.000, accuracy: 0.439\n",
            "training epoch: [157 ] loss: 1.037 correct: 1312.000, total: 3000.000, accuracy: 0.437\n",
            "training epoch: [158 ] loss: 1.036 correct: 1316.000, total: 3000.000, accuracy: 0.439\n",
            "training epoch: [159 ] loss: 1.035 correct: 1314.000, total: 3000.000, accuracy: 0.438\n",
            "training epoch: [160 ] loss: 1.035 correct: 1321.000, total: 3000.000, accuracy: 0.440\n",
            "training epoch: [161 ] loss: 1.034 correct: 1317.000, total: 3000.000, accuracy: 0.439\n",
            "training epoch: [162 ] loss: 1.033 correct: 1330.000, total: 3000.000, accuracy: 0.443\n",
            "training epoch: [163 ] loss: 1.032 correct: 1336.000, total: 3000.000, accuracy: 0.445\n",
            "training epoch: [164 ] loss: 1.032 correct: 1347.000, total: 3000.000, accuracy: 0.449\n",
            "training epoch: [165 ] loss: 1.031 correct: 1348.000, total: 3000.000, accuracy: 0.449\n",
            "training epoch: [166 ] loss: 1.030 correct: 1380.000, total: 3000.000, accuracy: 0.460\n",
            "training epoch: [167 ] loss: 1.030 correct: 1368.000, total: 3000.000, accuracy: 0.456\n",
            "training epoch: [168 ] loss: 1.029 correct: 1409.000, total: 3000.000, accuracy: 0.470\n",
            "training epoch: [169 ] loss: 1.029 correct: 1373.000, total: 3000.000, accuracy: 0.458\n",
            "training epoch: [170 ] loss: 1.028 correct: 1435.000, total: 3000.000, accuracy: 0.478\n",
            "training epoch: [171 ] loss: 1.028 correct: 1386.000, total: 3000.000, accuracy: 0.462\n",
            "training epoch: [172 ] loss: 1.027 correct: 1444.000, total: 3000.000, accuracy: 0.481\n",
            "training epoch: [173 ] loss: 1.027 correct: 1397.000, total: 3000.000, accuracy: 0.466\n",
            "training epoch: [174 ] loss: 1.026 correct: 1455.000, total: 3000.000, accuracy: 0.485\n",
            "training epoch: [175 ] loss: 1.026 correct: 1407.000, total: 3000.000, accuracy: 0.469\n",
            "training epoch: [176 ] loss: 1.026 correct: 1464.000, total: 3000.000, accuracy: 0.488\n",
            "training epoch: [177 ] loss: 1.025 correct: 1408.000, total: 3000.000, accuracy: 0.469\n",
            "training epoch: [178 ] loss: 1.025 correct: 1472.000, total: 3000.000, accuracy: 0.491\n",
            "training epoch: [179 ] loss: 1.025 correct: 1411.000, total: 3000.000, accuracy: 0.470\n",
            "training epoch: [180 ] loss: 1.024 correct: 1474.000, total: 3000.000, accuracy: 0.491\n",
            "training epoch: [181 ] loss: 1.024 correct: 1414.000, total: 3000.000, accuracy: 0.471\n",
            "training epoch: [182 ] loss: 1.024 correct: 1471.000, total: 3000.000, accuracy: 0.490\n",
            "training epoch: [183 ] loss: 1.023 correct: 1413.000, total: 3000.000, accuracy: 0.471\n",
            "training epoch: [184 ] loss: 1.023 correct: 1470.000, total: 3000.000, accuracy: 0.490\n",
            "training epoch: [185 ] loss: 1.023 correct: 1412.000, total: 3000.000, accuracy: 0.471\n",
            "training epoch: [186 ] loss: 1.023 correct: 1461.000, total: 3000.000, accuracy: 0.487\n",
            "training epoch: [187 ] loss: 1.023 correct: 1411.000, total: 3000.000, accuracy: 0.470\n",
            "training epoch: [188 ] loss: 1.022 correct: 1453.000, total: 3000.000, accuracy: 0.484\n",
            "training epoch: [189 ] loss: 1.022 correct: 1409.000, total: 3000.000, accuracy: 0.470\n",
            "training epoch: [190 ] loss: 1.022 correct: 1449.000, total: 3000.000, accuracy: 0.483\n",
            "training epoch: [191 ] loss: 1.022 correct: 1397.000, total: 3000.000, accuracy: 0.466\n",
            "training epoch: [192 ] loss: 1.022 correct: 1444.000, total: 3000.000, accuracy: 0.481\n",
            "training epoch: [193 ] loss: 1.022 correct: 1386.000, total: 3000.000, accuracy: 0.462\n",
            "training epoch: [194 ] loss: 1.022 correct: 1433.000, total: 3000.000, accuracy: 0.478\n",
            "training epoch: [195 ] loss: 1.021 correct: 1375.000, total: 3000.000, accuracy: 0.458\n",
            "training epoch: [196 ] loss: 1.022 correct: 1419.000, total: 3000.000, accuracy: 0.473\n",
            "training epoch: [197 ] loss: 1.021 correct: 1372.000, total: 3000.000, accuracy: 0.457\n",
            "training epoch: [198 ] loss: 1.021 correct: 1410.000, total: 3000.000, accuracy: 0.470\n",
            "training epoch: [199 ] loss: 1.021 correct: 1367.000, total: 3000.000, accuracy: 0.456\n",
            "training epoch: [200 ] loss: 1.021 correct: 1411.000, total: 3000.000, accuracy: 0.470\n",
            "Finished Training run \n"
          ],
          "name": "stdout"
        }
      ]
    },
    {
      "cell_type": "code",
      "metadata": {
        "id": "AciJnAh5nfug"
      },
      "source": [
        "columns = [\"epochs\", \"argmax > 0.5\" ,\"argmax < 0.5\", \"focus_true_pred_true\", \"focus_false_pred_true\", \"focus_true_pred_false\", \"focus_false_pred_false\" ]\n",
        "df_train = pd.DataFrame()\n",
        "df_test = pd.DataFrame()\n",
        "df_train[columns[0]] = np.arange(0,epoch+2)\n",
        "df_train[columns[1]] = analysis_data_tr[:,-2]/30\n",
        "df_train[columns[2]] = analysis_data_tr[:,-1]/30\n",
        "df_train[columns[3]] = analysis_data_tr[:,0]/30\n",
        "df_train[columns[4]] = analysis_data_tr[:,1]/30\n",
        "df_train[columns[5]] = analysis_data_tr[:,2]/30\n",
        "df_train[columns[6]] = analysis_data_tr[:,3]/30"
      ],
      "execution_count": 18,
      "outputs": []
    },
    {
      "cell_type": "code",
      "metadata": {
        "colab": {
          "base_uri": "https://localhost:8080/",
          "height": 456
        },
        "id": "NoQpS_6scRsC",
        "outputId": "80f6cc87-80db-49ac-8dba-b2a293222bd8"
      },
      "source": [
        "df_train"
      ],
      "execution_count": 19,
      "outputs": [
        {
          "output_type": "execute_result",
          "data": {
            "text/html": [
              "<div>\n",
              "<style scoped>\n",
              "    .dataframe tbody tr th:only-of-type {\n",
              "        vertical-align: middle;\n",
              "    }\n",
              "\n",
              "    .dataframe tbody tr th {\n",
              "        vertical-align: top;\n",
              "    }\n",
              "\n",
              "    .dataframe thead th {\n",
              "        text-align: right;\n",
              "    }\n",
              "</style>\n",
              "<table border=\"1\" class=\"dataframe\">\n",
              "  <thead>\n",
              "    <tr style=\"text-align: right;\">\n",
              "      <th></th>\n",
              "      <th>epochs</th>\n",
              "      <th>argmax &gt; 0.5</th>\n",
              "      <th>argmax &lt; 0.5</th>\n",
              "      <th>focus_true_pred_true</th>\n",
              "      <th>focus_false_pred_true</th>\n",
              "      <th>focus_true_pred_false</th>\n",
              "      <th>focus_false_pred_false</th>\n",
              "    </tr>\n",
              "  </thead>\n",
              "  <tbody>\n",
              "    <tr>\n",
              "      <th>0</th>\n",
              "      <td>0</td>\n",
              "      <td>9.800000</td>\n",
              "      <td>90.200000</td>\n",
              "      <td>3.800000</td>\n",
              "      <td>28.566667</td>\n",
              "      <td>7.966667</td>\n",
              "      <td>59.666667</td>\n",
              "    </tr>\n",
              "    <tr>\n",
              "      <th>1</th>\n",
              "      <td>1</td>\n",
              "      <td>10.233333</td>\n",
              "      <td>89.766667</td>\n",
              "      <td>3.600000</td>\n",
              "      <td>29.433333</td>\n",
              "      <td>8.066667</td>\n",
              "      <td>58.900000</td>\n",
              "    </tr>\n",
              "    <tr>\n",
              "      <th>2</th>\n",
              "      <td>2</td>\n",
              "      <td>10.266667</td>\n",
              "      <td>89.733333</td>\n",
              "      <td>4.866667</td>\n",
              "      <td>30.033333</td>\n",
              "      <td>7.066667</td>\n",
              "      <td>58.033333</td>\n",
              "    </tr>\n",
              "    <tr>\n",
              "      <th>3</th>\n",
              "      <td>3</td>\n",
              "      <td>10.466667</td>\n",
              "      <td>89.533333</td>\n",
              "      <td>4.000000</td>\n",
              "      <td>29.566667</td>\n",
              "      <td>8.000000</td>\n",
              "      <td>58.433333</td>\n",
              "    </tr>\n",
              "    <tr>\n",
              "      <th>4</th>\n",
              "      <td>4</td>\n",
              "      <td>10.500000</td>\n",
              "      <td>89.500000</td>\n",
              "      <td>5.100000</td>\n",
              "      <td>29.800000</td>\n",
              "      <td>6.833333</td>\n",
              "      <td>58.266667</td>\n",
              "    </tr>\n",
              "    <tr>\n",
              "      <th>...</th>\n",
              "      <td>...</td>\n",
              "      <td>...</td>\n",
              "      <td>...</td>\n",
              "      <td>...</td>\n",
              "      <td>...</td>\n",
              "      <td>...</td>\n",
              "      <td>...</td>\n",
              "    </tr>\n",
              "    <tr>\n",
              "      <th>196</th>\n",
              "      <td>196</td>\n",
              "      <td>24.066667</td>\n",
              "      <td>75.933333</td>\n",
              "      <td>25.700000</td>\n",
              "      <td>21.600000</td>\n",
              "      <td>16.633333</td>\n",
              "      <td>36.066667</td>\n",
              "    </tr>\n",
              "    <tr>\n",
              "      <th>197</th>\n",
              "      <td>197</td>\n",
              "      <td>24.066667</td>\n",
              "      <td>75.933333</td>\n",
              "      <td>24.200000</td>\n",
              "      <td>21.533333</td>\n",
              "      <td>18.100000</td>\n",
              "      <td>36.166667</td>\n",
              "    </tr>\n",
              "    <tr>\n",
              "      <th>198</th>\n",
              "      <td>198</td>\n",
              "      <td>24.166667</td>\n",
              "      <td>75.833333</td>\n",
              "      <td>25.466667</td>\n",
              "      <td>21.533333</td>\n",
              "      <td>16.933333</td>\n",
              "      <td>36.066667</td>\n",
              "    </tr>\n",
              "    <tr>\n",
              "      <th>199</th>\n",
              "      <td>199</td>\n",
              "      <td>24.100000</td>\n",
              "      <td>75.900000</td>\n",
              "      <td>24.266667</td>\n",
              "      <td>21.300000</td>\n",
              "      <td>18.266667</td>\n",
              "      <td>36.166667</td>\n",
              "    </tr>\n",
              "    <tr>\n",
              "      <th>200</th>\n",
              "      <td>200</td>\n",
              "      <td>24.166667</td>\n",
              "      <td>75.833333</td>\n",
              "      <td>25.533333</td>\n",
              "      <td>21.500000</td>\n",
              "      <td>17.066667</td>\n",
              "      <td>35.900000</td>\n",
              "    </tr>\n",
              "  </tbody>\n",
              "</table>\n",
              "<p>201 rows × 7 columns</p>\n",
              "</div>"
            ],
            "text/plain": [
              "     epochs  argmax > 0.5  ...  focus_true_pred_false  focus_false_pred_false\n",
              "0         0      9.800000  ...               7.966667               59.666667\n",
              "1         1     10.233333  ...               8.066667               58.900000\n",
              "2         2     10.266667  ...               7.066667               58.033333\n",
              "3         3     10.466667  ...               8.000000               58.433333\n",
              "4         4     10.500000  ...               6.833333               58.266667\n",
              "..      ...           ...  ...                    ...                     ...\n",
              "196     196     24.066667  ...              16.633333               36.066667\n",
              "197     197     24.066667  ...              18.100000               36.166667\n",
              "198     198     24.166667  ...              16.933333               36.066667\n",
              "199     199     24.100000  ...              18.266667               36.166667\n",
              "200     200     24.166667  ...              17.066667               35.900000\n",
              "\n",
              "[201 rows x 7 columns]"
            ]
          },
          "metadata": {
            "tags": []
          },
          "execution_count": 19
        }
      ]
    },
    {
      "cell_type": "code",
      "metadata": {
        "colab": {
          "base_uri": "https://localhost:8080/",
          "height": 404
        },
        "id": "IMAhRdxOcVf6",
        "outputId": "a9fa01ab-6448-4752-8e70-0ab028e3f28d"
      },
      "source": [
        "fig= plt.figure(figsize=(6,6))\n",
        "plt.plot(df_train[columns[0]],df_train[columns[3]], label =\"focus_true_pred_true \")\n",
        "plt.plot(df_train[columns[0]],df_train[columns[4]], label =\"focus_false_pred_true \")\n",
        "plt.plot(df_train[columns[0]],df_train[columns[5]], label =\"focus_true_pred_false \")\n",
        "plt.plot(df_train[columns[0]],df_train[columns[6]], label =\"focus_false_pred_false \")\n",
        "plt.title(\"On Train set\")\n",
        "plt.legend(loc='center left', bbox_to_anchor=(1, 0.5))\n",
        "plt.xlabel(\"epochs\")\n",
        "plt.ylabel(\"percentage of data\")\n",
        "plt.xticks([0,50,100,150,200])\n",
        "#plt.vlines(vline_list,min(min(df_train[columns[3]]/300),min(df_train[columns[4]]/300),min(df_train[columns[5]]/300),min(df_train[columns[6]]/300)), max(max(df_train[columns[3]]/300),max(df_train[columns[4]]/300),max(df_train[columns[5]]/300),max(df_train[columns[6]]/300)),linestyles='dotted')\n",
        "plt.show()\n",
        "fig.savefig(\"train_analysis.pdf\")\n",
        "fig.savefig(\"train_analysis.png\")"
      ],
      "execution_count": 20,
      "outputs": [
        {
          "output_type": "display_data",
          "data": {
            "image/png": "[encoded data removed]",
            "text/plain": [
              "<Figure size 432x432 with 1 Axes>"
            ]
          },
          "metadata": {
            "tags": [],
            "needs_background": "light"
          }
        }
      ]
    },
    {
      "cell_type": "code",
      "metadata": {
        "id": "VCnS6r2_3WdU"
      },
      "source": [
        "aph = []\n",
        "for i in bg:\n",
        "  aph.append(F.softmax(i,dim=1).detach().numpy())\n",
        "aph = np.concatenate(aph,axis=0)\n",
        "# torch.save({\n",
        "#             'epoch': 500,\n",
        "#             'model_state_dict': what_net.state_dict(),\n",
        "#             #'optimizer_state_dict': optimizer_what.state_dict(),\n",
        "#             \"optimizer_alpha\":optim1,\n",
        "#             \"FTPT_analysis\":analysis_data_tr,\n",
        "#             \"alpha\":aph\n",
        "\n",
        "#             }, \"type4_what_net_500.pt\")"
      ],
      "execution_count": 21,
      "outputs": []
    },
    {
      "cell_type": "code",
      "metadata": {
        "colab": {
          "base_uri": "https://localhost:8080/"
        },
        "id": "KVzrDOGS4UxU",
        "outputId": "33ada503-65d0-4bf3-e0de-7d3db6662a4c"
      },
      "source": [
        "aph[0]"
      ],
      "execution_count": 22,
      "outputs": [
        {
          "output_type": "execute_result",
          "data": {
            "text/plain": [
              "array([0.02185562, 0.02222271, 0.06739939, 0.14850986, 0.19462958,\n",
              "       0.4379225 , 0.04439203, 0.02946583, 0.03360239], dtype=float32)"
            ]
          },
          "metadata": {
            "tags": []
          },
          "execution_count": 22
        }
      ]
    },
    {
      "cell_type": "code",
      "metadata": {
        "id": "yF2bvWdIWUTa"
      },
      "source": [
        "xx,yy= np.meshgrid(np.arange(1,8,0.01),np.arange(2,9,0.01))\n",
        "X = np.concatenate((xx.reshape(-1,1),yy.reshape(-1,1)),axis=1)\n",
        "X = torch.Tensor(X).double().to(\"cuda\")\n",
        "Y1 = what_net(X)"
      ],
      "execution_count": 23,
      "outputs": []
    },
    {
      "cell_type": "code",
      "metadata": {
        "id": "GENNdxJEa_Xi"
      },
      "source": [
        "Y1 = Y1.to(\"cpu\")\n",
        "Y1 = Y1.detach().numpy()\n",
        "Y1 = torch.softmax(torch.Tensor(Y1),dim=1)\n",
        "_,Z4= torch.max(Y1,1)\n",
        "Z1 = Y1[:,0]\n",
        "Z2 = Y1[:,1]\n",
        "Z3 = Y1[:,2]"
      ],
      "execution_count": 24,
      "outputs": []
    },
    {
      "cell_type": "code",
      "metadata": {
        "id": "5ZwEogAobesX"
      },
      "source": [
        "X = X.to(\"cpu\")"
      ],
      "execution_count": 25,
      "outputs": []
    },
    {
      "cell_type": "code",
      "metadata": {
        "colab": {
          "base_uri": "https://localhost:8080/"
        },
        "id": "ZIoUNsgebIku",
        "outputId": "ca46dacf-b020-4c2a-b867-fa6a4409e497"
      },
      "source": [
        "data = np.load(\"type_4_data.npy\",allow_pickle=True)\n",
        "x = data[0][\"X\"]\n",
        "y = data[0][\"Y\"]\n",
        "idx= []\n",
        "for i in range(10):\n",
        "  print(i,sum(y==i))\n",
        "  idx.append(y==i)"
      ],
      "execution_count": 26,
      "outputs": [
        {
          "output_type": "stream",
          "text": [
            "0 482\n",
            "1 485\n",
            "2 536\n",
            "3 504\n",
            "4 493\n",
            "5 513\n",
            "6 497\n",
            "7 486\n",
            "8 522\n",
            "9 482\n"
          ],
          "name": "stdout"
        }
      ]
    },
    {
      "cell_type": "code",
      "metadata": {
        "id": "7Ut6ZTAXbvqx"
      },
      "source": [
        "avrg = []\n",
        "with torch.no_grad():\n",
        "  for i, data in  enumerate(train_loader):\n",
        "          inputs , labels , fore_idx = data\n",
        "          inputs = inputs.double()\n",
        "          inputs, labels = inputs.to(\"cuda\"),labels.to(\"cuda\")\n",
        "          beta  = bg[i]\n",
        "          beta = beta.to(\"cuda\")\n",
        "          avg,alpha = attn_avg(inputs,beta)\n",
        "          \n",
        "          avrg.append(avg.detach().cpu().numpy())\n",
        "avrg= np.concatenate(avrg,axis=0)"
      ],
      "execution_count": 27,
      "outputs": []
    },
    {
      "cell_type": "code",
      "metadata": {
        "colab": {
          "base_uri": "https://localhost:8080/",
          "height": 374
        },
        "id": "5PAwMQXzbQJR",
        "outputId": "be4e9f9f-e8a3-4210-8e41-66d093648209"
      },
      "source": [
        "fig = plt.figure(figsize=(6,6))\n",
        "#plt.scatter(X[:,0],X[:,1],c=Z4)\n",
        "Z4 = Z4.reshape(xx.shape)\n",
        "plt.contourf(xx, yy, Z4, alpha=0.4)\n",
        "for i in range(3):\n",
        "  plt.scatter(x[idx[i],0],x[idx[i],1],label=\"class_\"+str(i),alpha=0.8)\n",
        "plt.legend(loc='center left', bbox_to_anchor=(1, 0.5))\n",
        "plt.scatter(avrg[:,0],avrg[:,1],alpha=0.2)\n",
        "plt.savefig(\"decision_boundary.png\",bbox_inches=\"tight\")\n"
      ],
      "execution_count": 28,
      "outputs": [
        {
          "output_type": "display_data",
          "data": {
            "image/png": "[encoded data removed]",
            "text/plain": [
              "<Figure size 432x432 with 1 Axes>"
            ]
          },
          "metadata": {
            "tags": [],
            "needs_background": "light"
          }
        }
      ]
    },
    {
      "cell_type": "code",
      "metadata": {
        "id": "6KHn17Rbceqt"
      },
      "source": [
        ""
      ],
      "execution_count": 28,
      "outputs": []
    }
  ]
}