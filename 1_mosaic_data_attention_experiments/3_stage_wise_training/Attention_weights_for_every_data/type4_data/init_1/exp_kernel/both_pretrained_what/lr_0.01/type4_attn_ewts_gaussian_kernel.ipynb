{
  "nbformat": 4,
  "nbformat_minor": 0,
  "metadata": {
    "accelerator": "GPU",
    "colab": {
      "name": "type4_attn_ewts_gaussian_kernel.ipynb",
      "provenance": [],
      "collapsed_sections": []
    },
    "kernelspec": {
      "display_name": "Python 3",
      "name": "python3"
    },
    "language_info": {
      "name": "python"
    }
  },
  "cells": [
    {
      "cell_type": "code",
      "metadata": {
        "id": "BWIyC9Ip_bcq"
      },
      "source": [
        "import numpy as np\n",
        "import pandas as pd\n",
        "\n",
        "import torch\n",
        "import torchvision\n",
        "from torch.utils.data import Dataset, DataLoader\n",
        "from torchvision import transforms, utils\n",
        "import torch.nn as nn\n",
        "import torch.nn.functional as F\n",
        "import torch.optim as optim\n",
        "\n",
        "from matplotlib import pyplot as plt\n",
        "from myrmsprop import MyRmsprop\n",
        "%matplotlib inline\n",
        "torch.backends.cudnn.deterministic = True\n",
        "torch.backends.cudnn.benchmark = False"
      ],
      "execution_count": 1,
      "outputs": []
    },
    {
      "cell_type": "code",
      "metadata": {
        "id": "lGVy-1EllAc_"
      },
      "source": [
        "train_data = np.load(\"train_type4_data.npy\",allow_pickle=True)\n",
        "\n",
        "test_data = np.load(\"test_type4_data.npy\",allow_pickle=True)"
      ],
      "execution_count": 2,
      "outputs": []
    },
    {
      "cell_type": "code",
      "metadata": {
        "id": "uL771xuGZC5Q"
      },
      "source": [
        "mosaic_list_of_images = train_data[0][\"mosaic_list\"]\n",
        "mosaic_label = train_data[0][\"mosaic_label\"]\n",
        "fore_idx = train_data[0][\"fore_idx\"]\n",
        "\n",
        "\n",
        "test_mosaic_list_of_images = test_data[0][\"mosaic_list\"]\n",
        "test_mosaic_label = test_data[0][\"mosaic_label\"]\n",
        "test_fore_idx = test_data[0][\"fore_idx\"]"
      ],
      "execution_count": 3,
      "outputs": []
    },
    {
      "cell_type": "code",
      "metadata": {
        "id": "x2qfRXfNZCao"
      },
      "source": [
        "class MosaicDataset1(Dataset):\n",
        "  \"\"\"MosaicDataset dataset.\"\"\"\n",
        "\n",
        "  def __init__(self, mosaic_list, mosaic_label,fore_idx):\n",
        "    \"\"\"\n",
        "      Args:\n",
        "        csv_file (string): Path to the csv file with annotations.\n",
        "        root_dir (string): Directory with all the images.\n",
        "        transform (callable, optional): Optional transform to be applied\n",
        "            on a sample.\n",
        "    \"\"\"\n",
        "    self.mosaic = mosaic_list\n",
        "    self.label = mosaic_label\n",
        "    self.fore_idx = fore_idx\n",
        "    \n",
        "  def __len__(self):\n",
        "    return len(self.label)\n",
        "\n",
        "  def __getitem__(self, idx):\n",
        "    return self.mosaic[idx] , self.label[idx] , self.fore_idx[idx]"
      ],
      "execution_count": 4,
      "outputs": []
    },
    {
      "cell_type": "code",
      "metadata": {
        "id": "uf76JwkxZCT0"
      },
      "source": [
        "batch = 3000\n",
        "train_dataset = MosaicDataset1(mosaic_list_of_images, mosaic_label, fore_idx)\n",
        "train_loader = DataLoader( train_dataset,batch_size= batch ,shuffle=False)\n",
        "#batch = 2000\n",
        "#test_dataset = MosaicDataset1(test_mosaic_list_of_images, test_mosaic_label, test_fore_idx)\n",
        "#test_loader = DataLoader(test_dataset,batch_size= batch ,shuffle=False)"
      ],
      "execution_count": 5,
      "outputs": []
    },
    {
      "cell_type": "code",
      "metadata": {
        "id": "DOpZfj1bq7wN"
      },
      "source": [
        "n_batches = 3000//batch\n",
        "bg = []\n",
        "for i in range(n_batches):\n",
        "  torch.manual_seed(i)\n",
        "  betag = torch.randn(3000,9)#torch.ones((250,9))/9\n",
        "  bg.append( betag.requires_grad_() )"
      ],
      "execution_count": 6,
      "outputs": []
    },
    {
      "cell_type": "code",
      "metadata": {
        "colab": {
          "base_uri": "https://localhost:8080/"
        },
        "id": "fzb3ii4drXpu",
        "outputId": "9492a1d6-8f2a-47ca-afd8-65a720fca2be"
      },
      "source": [
        "len(bg)"
      ],
      "execution_count": 7,
      "outputs": [
        {
          "output_type": "execute_result",
          "data": {
            "text/plain": [
              "1"
            ]
          },
          "metadata": {
            "tags": []
          },
          "execution_count": 7
        }
      ]
    },
    {
      "cell_type": "code",
      "metadata": {
        "colab": {
          "base_uri": "https://localhost:8080/"
        },
        "id": "Am8LcQm1Og-f",
        "outputId": "65edf245-d103-49e5-fc56-158a2d77e6a5"
      },
      "source": [
        "#H = np.zeros((27000,27000))\n",
        "for i, data in enumerate(train_loader, 0):\n",
        "  print(i) # only one batch\n",
        "  inputs,_,_ = data\n",
        "  inputs = torch.reshape(inputs,(27000,2))\n",
        "  dis = torch.cdist(inputs,inputs)**2\n",
        "  gamma = -1/torch.median(dis)\n",
        "  print(gamma)\n",
        "  H = torch.exp(gamma*dis)\n"
      ],
      "execution_count": 8,
      "outputs": [
        {
          "output_type": "stream",
          "text": [
            "0\n",
            "tensor(-0.0948)\n"
          ],
          "name": "stdout"
        }
      ]
    },
    {
      "cell_type": "code",
      "metadata": {
        "colab": {
          "base_uri": "https://localhost:8080/"
        },
        "id": "rTxUQEquHYqj",
        "outputId": "21cbe848-6c11-4b85-f5e4-3075bc72c67f"
      },
      "source": [
        "H.shape"
      ],
      "execution_count": 9,
      "outputs": [
        {
          "output_type": "execute_result",
          "data": {
            "text/plain": [
              "torch.Size([27000, 27000])"
            ]
          },
          "metadata": {
            "tags": []
          },
          "execution_count": 9
        }
      ]
    },
    {
      "cell_type": "code",
      "metadata": {
        "id": "HbrMidFCla6h"
      },
      "source": [
        "class Module2(nn.Module):\n",
        "  def __init__(self):\n",
        "    super(Module2, self).__init__()\n",
        "    self.linear1 = nn.Linear(2,100)\n",
        "    self.linear2 = nn.Linear(100,3)\n",
        "\n",
        "  def forward(self,x):\n",
        "    x = F.relu(self.linear1(x))\n",
        "    x = self.linear2(x)\n",
        "    return x"
      ],
      "execution_count": 10,
      "outputs": []
    },
    {
      "cell_type": "code",
      "metadata": {
        "id": "rRqj2VELllkX"
      },
      "source": [
        "torch.manual_seed(1234)\n",
        "what_net = Module2().double()\n",
        "\n",
        "what_net.load_state_dict(torch.load(\"type4_what_net.pt\"))\n",
        "what_net = what_net.to(\"cuda\")"
      ],
      "execution_count": 11,
      "outputs": []
    },
    {
      "cell_type": "code",
      "metadata": {
        "id": "6d8Wch99l4yB"
      },
      "source": [
        "def attn_avg(x,beta):\n",
        "  y = torch.zeros([batch,2], dtype=torch.float64)\n",
        "  y = y.to(\"cuda\")\n",
        "  alpha = F.softmax(beta,dim=1)   # alphas\n",
        "  #print(alpha[0],x[0,:])\n",
        "  for i in range(9):            \n",
        "    alpha1 = alpha[:,i]      \n",
        "    y = y + torch.mul(alpha1[:,None],x[:,i])\n",
        "  return y,alpha\n"
      ],
      "execution_count": 12,
      "outputs": []
    },
    {
      "cell_type": "code",
      "metadata": {
        "id": "Rz1Kpw12loV6"
      },
      "source": [
        "def calculate_attn_loss(dataloader,what,criter):\n",
        "  what.eval()\n",
        "  r_loss = 0\n",
        "  alphas = []\n",
        "  lbls = []\n",
        "  pred = []\n",
        "  fidices = []\n",
        "  correct = 0\n",
        "  tot = 0\n",
        "  with torch.no_grad():\n",
        "    for i, data in enumerate(dataloader, 0):\n",
        "      inputs, labels,fidx= data\n",
        "      lbls.append(labels)\n",
        "      fidices.append(fidx)\n",
        "      inputs = inputs.double()\n",
        "      beta = bg[i]  # beta for ith batch\n",
        "      inputs, labels,beta = inputs.to(\"cuda\"),labels.to(\"cuda\"),beta.to(\"cuda\")\n",
        "      avg,alpha = attn_avg(inputs,beta)\n",
        "      alpha = alpha.to(\"cuda\")\n",
        "      outputs = what(avg)\n",
        "      _, predicted = torch.max(outputs.data, 1)\n",
        "      correct += sum(predicted == labels)\n",
        "      tot += len(predicted)\n",
        "      pred.append(predicted.cpu().numpy())\n",
        "      alphas.append(alpha.cpu().numpy())\n",
        "      loss = criter(outputs, labels)\n",
        "      r_loss += loss.item()\n",
        "  alphas = np.concatenate(alphas,axis=0)\n",
        "  pred = np.concatenate(pred,axis=0)\n",
        "  lbls = np.concatenate(lbls,axis=0)\n",
        "  fidices = np.concatenate(fidices,axis=0)\n",
        "  #print(alphas.shape,pred.shape,lbls.shape,fidices.shape) \n",
        "  analysis = analyse_data(alphas,lbls,pred,fidices)\n",
        "  return r_loss/(i+1),analysis,correct.item(),tot,correct.item()/tot"
      ],
      "execution_count": 13,
      "outputs": []
    },
    {
      "cell_type": "code",
      "metadata": {
        "id": "sAY-x6UAwrwE"
      },
      "source": [
        "# for param in what_net.parameters():\n",
        "#     param.requires_grad = False"
      ],
      "execution_count": 14,
      "outputs": []
    },
    {
      "cell_type": "code",
      "metadata": {
        "id": "_toCktPanH0S"
      },
      "source": [
        "\n",
        "def analyse_data(alphas,lbls,predicted,f_idx):\n",
        "    '''\n",
        "       analysis data is created here\n",
        "    '''\n",
        "    batch = len(predicted)\n",
        "    amth,alth,ftpt,ffpt,ftpf,ffpf = 0,0,0,0,0,0\n",
        "    for j in range (batch):\n",
        "      focus = np.argmax(alphas[j])\n",
        "      if(alphas[j][focus] >= 0.5):\n",
        "        amth +=1\n",
        "      else:\n",
        "        alth +=1\n",
        "      if(focus == f_idx[j] and predicted[j] == lbls[j]):\n",
        "        ftpt += 1\n",
        "      elif(focus != f_idx[j] and predicted[j] == lbls[j]):\n",
        "        ffpt +=1\n",
        "      elif(focus == f_idx[j] and predicted[j] != lbls[j]):\n",
        "        ftpf +=1\n",
        "      elif(focus != f_idx[j] and predicted[j] != lbls[j]):\n",
        "        ffpf +=1\n",
        "    #print(sum(predicted==lbls),ftpt+ffpt)\n",
        "    return [ftpt,ffpt,ftpf,ffpf,amth,alth]"
      ],
      "execution_count": 15,
      "outputs": []
    },
    {
      "cell_type": "code",
      "metadata": {
        "id": "S633XgMToeN3"
      },
      "source": [
        "optim1 = []\n",
        "H= H.to(\"cpu\")\n",
        "for i in range(n_batches):\n",
        "  optim1.append(MyRmsprop([bg[i]],H=H,lr=0.01))\n",
        "  #optim1.append(optim.RMSprop([bg[i]],lr=0.1))"
      ],
      "execution_count": 16,
      "outputs": []
    },
    {
      "cell_type": "code",
      "metadata": {
        "colab": {
          "base_uri": "https://localhost:8080/"
        },
        "id": "qPaYaojinMTA",
        "outputId": "f982396e-69c7-4643-c71b-a1fa738e505a"
      },
      "source": [
        "# instantiate optimizer\n",
        "optimizer_what = optim.RMSprop(what_net.parameters(), lr=0.001)#, momentum=0.9)#,nesterov=True)\n",
        "\n",
        "\n",
        " \n",
        "\n",
        "\n",
        "criterion = nn.CrossEntropyLoss()\n",
        "acti = []\n",
        "analysis_data_tr = []\n",
        "analysis_data_tst = []\n",
        "loss_curi_tr = []\n",
        "loss_curi_tst = []\n",
        "epochs = 200\n",
        "\n",
        "\n",
        "# calculate zeroth epoch loss and FTPT values\n",
        "running_loss,anlys_data,correct,total,accuracy = calculate_attn_loss(train_loader,what_net,criterion)\n",
        "print('training epoch: [%d ] loss: %.3f correct: %.3f, total: %.3f, accuracy: %.3f' %(0,running_loss,correct,total,accuracy)) \n",
        "loss_curi_tr.append(running_loss)\n",
        "analysis_data_tr.append(anlys_data)\n",
        "\n",
        "\n",
        "\n",
        "\n",
        "# training starts \n",
        "for epoch in range(epochs): # loop over the dataset multiple times\n",
        "  ep_lossi = []\n",
        "  running_loss = 0.0\n",
        "  what_net.train()\n",
        "  for i, data in enumerate(train_loader, 0):\n",
        "    # get the inputs\n",
        "    inputs, labels,_  = data\n",
        "    inputs = inputs.double()\n",
        "    beta = bg[i] # alpha for ith batch\n",
        "    #print(labels)\n",
        "    inputs, labels,beta = inputs.to(\"cuda\"),labels.to(\"cuda\"),beta.to(\"cuda\")\n",
        "        \n",
        "    # zero the parameter gradients\n",
        "    optimizer_what.zero_grad()\n",
        "    optim1[i].zero_grad()\n",
        "      \n",
        "    # forward + backward + optimize\n",
        "    avg,alpha = attn_avg(inputs,beta)\n",
        "    outputs = what_net(avg)     \n",
        "    loss = criterion(outputs, labels)\n",
        "\n",
        "    # print statistics\n",
        "    running_loss += loss.item()\n",
        "    #alpha.retain_grad()\n",
        "    loss.backward(retain_graph=False)\n",
        "    optimizer_what.step()\n",
        "    optim1[i].step()\n",
        "\n",
        "\n",
        "  running_loss_tr,anls_data,correct,total,accuracy = calculate_attn_loss(train_loader,what_net,criterion)\n",
        "  analysis_data_tr.append(anls_data)\n",
        "  loss_curi_tr.append(running_loss_tr)   #loss per epoch\n",
        "  print('training epoch: [%d ] loss: %.3f correct: %.3f, total: %.3f, accuracy: %.3f' %(epoch+1,running_loss_tr,correct,total,accuracy)) \n",
        "\n",
        "\n",
        "  \n",
        "  if running_loss_tr<=0.08:\n",
        "    break\n",
        "print('Finished Training run ')\n",
        "analysis_data_tr = np.array(analysis_data_tr)\n",
        "\n"
      ],
      "execution_count": 17,
      "outputs": [
        {
          "output_type": "stream",
          "text": [
            "training epoch: [0 ] loss: 10.201 correct: 1133.000, total: 3000.000, accuracy: 0.378\n",
            "training epoch: [1 ] loss: 9.556 correct: 1123.000, total: 3000.000, accuracy: 0.374\n",
            "training epoch: [2 ] loss: 8.949 correct: 1143.000, total: 3000.000, accuracy: 0.381\n",
            "training epoch: [3 ] loss: 8.503 correct: 1149.000, total: 3000.000, accuracy: 0.383\n",
            "training epoch: [4 ] loss: 8.094 correct: 1162.000, total: 3000.000, accuracy: 0.387\n",
            "training epoch: [5 ] loss: 7.681 correct: 1161.000, total: 3000.000, accuracy: 0.387\n",
            "training epoch: [6 ] loss: 7.254 correct: 1168.000, total: 3000.000, accuracy: 0.389\n",
            "training epoch: [7 ] loss: 6.816 correct: 1175.000, total: 3000.000, accuracy: 0.392\n",
            "training epoch: [8 ] loss: 6.391 correct: 1176.000, total: 3000.000, accuracy: 0.392\n",
            "training epoch: [9 ] loss: 6.009 correct: 1174.000, total: 3000.000, accuracy: 0.391\n",
            "training epoch: [10 ] loss: 5.670 correct: 1179.000, total: 3000.000, accuracy: 0.393\n",
            "training epoch: [11 ] loss: 5.369 correct: 1186.000, total: 3000.000, accuracy: 0.395\n",
            "training epoch: [12 ] loss: 5.102 correct: 1187.000, total: 3000.000, accuracy: 0.396\n",
            "training epoch: [13 ] loss: 4.868 correct: 1190.000, total: 3000.000, accuracy: 0.397\n",
            "training epoch: [14 ] loss: 4.659 correct: 1192.000, total: 3000.000, accuracy: 0.397\n",
            "training epoch: [15 ] loss: 4.473 correct: 1201.000, total: 3000.000, accuracy: 0.400\n",
            "training epoch: [16 ] loss: 4.309 correct: 1212.000, total: 3000.000, accuracy: 0.404\n",
            "training epoch: [17 ] loss: 4.165 correct: 1209.000, total: 3000.000, accuracy: 0.403\n",
            "training epoch: [18 ] loss: 4.039 correct: 1210.000, total: 3000.000, accuracy: 0.403\n",
            "training epoch: [19 ] loss: 3.925 correct: 1214.000, total: 3000.000, accuracy: 0.405\n",
            "training epoch: [20 ] loss: 3.823 correct: 1213.000, total: 3000.000, accuracy: 0.404\n",
            "training epoch: [21 ] loss: 3.728 correct: 1215.000, total: 3000.000, accuracy: 0.405\n",
            "training epoch: [22 ] loss: 3.642 correct: 1217.000, total: 3000.000, accuracy: 0.406\n",
            "training epoch: [23 ] loss: 3.563 correct: 1219.000, total: 3000.000, accuracy: 0.406\n",
            "training epoch: [24 ] loss: 3.488 correct: 1225.000, total: 3000.000, accuracy: 0.408\n",
            "training epoch: [25 ] loss: 3.418 correct: 1230.000, total: 3000.000, accuracy: 0.410\n",
            "training epoch: [26 ] loss: 3.351 correct: 1234.000, total: 3000.000, accuracy: 0.411\n",
            "training epoch: [27 ] loss: 3.288 correct: 1234.000, total: 3000.000, accuracy: 0.411\n",
            "training epoch: [28 ] loss: 3.227 correct: 1236.000, total: 3000.000, accuracy: 0.412\n",
            "training epoch: [29 ] loss: 3.167 correct: 1234.000, total: 3000.000, accuracy: 0.411\n",
            "training epoch: [30 ] loss: 3.108 correct: 1235.000, total: 3000.000, accuracy: 0.412\n",
            "training epoch: [31 ] loss: 3.049 correct: 1236.000, total: 3000.000, accuracy: 0.412\n",
            "training epoch: [32 ] loss: 2.991 correct: 1236.000, total: 3000.000, accuracy: 0.412\n",
            "training epoch: [33 ] loss: 2.931 correct: 1239.000, total: 3000.000, accuracy: 0.413\n",
            "training epoch: [34 ] loss: 2.871 correct: 1241.000, total: 3000.000, accuracy: 0.414\n",
            "training epoch: [35 ] loss: 2.811 correct: 1242.000, total: 3000.000, accuracy: 0.414\n",
            "training epoch: [36 ] loss: 2.753 correct: 1247.000, total: 3000.000, accuracy: 0.416\n",
            "training epoch: [37 ] loss: 2.698 correct: 1254.000, total: 3000.000, accuracy: 0.418\n",
            "training epoch: [38 ] loss: 2.649 correct: 1251.000, total: 3000.000, accuracy: 0.417\n",
            "training epoch: [39 ] loss: 2.606 correct: 1255.000, total: 3000.000, accuracy: 0.418\n",
            "training epoch: [40 ] loss: 2.566 correct: 1253.000, total: 3000.000, accuracy: 0.418\n",
            "training epoch: [41 ] loss: 2.530 correct: 1270.000, total: 3000.000, accuracy: 0.423\n",
            "training epoch: [42 ] loss: 2.496 correct: 1245.000, total: 3000.000, accuracy: 0.415\n",
            "training epoch: [43 ] loss: 2.466 correct: 1271.000, total: 3000.000, accuracy: 0.424\n",
            "training epoch: [44 ] loss: 2.437 correct: 1231.000, total: 3000.000, accuracy: 0.410\n",
            "training epoch: [45 ] loss: 2.411 correct: 1272.000, total: 3000.000, accuracy: 0.424\n",
            "training epoch: [46 ] loss: 2.380 correct: 1235.000, total: 3000.000, accuracy: 0.412\n",
            "training epoch: [47 ] loss: 2.351 correct: 1272.000, total: 3000.000, accuracy: 0.424\n",
            "training epoch: [48 ] loss: 2.318 correct: 1251.000, total: 3000.000, accuracy: 0.417\n",
            "training epoch: [49 ] loss: 2.289 correct: 1291.000, total: 3000.000, accuracy: 0.430\n",
            "training epoch: [50 ] loss: 2.259 correct: 1273.000, total: 3000.000, accuracy: 0.424\n",
            "training epoch: [51 ] loss: 2.230 correct: 1294.000, total: 3000.000, accuracy: 0.431\n",
            "training epoch: [52 ] loss: 2.202 correct: 1283.000, total: 3000.000, accuracy: 0.428\n",
            "training epoch: [53 ] loss: 2.174 correct: 1292.000, total: 3000.000, accuracy: 0.431\n",
            "training epoch: [54 ] loss: 2.147 correct: 1294.000, total: 3000.000, accuracy: 0.431\n",
            "training epoch: [55 ] loss: 2.120 correct: 1298.000, total: 3000.000, accuracy: 0.433\n",
            "training epoch: [56 ] loss: 2.093 correct: 1295.000, total: 3000.000, accuracy: 0.432\n",
            "training epoch: [57 ] loss: 2.065 correct: 1301.000, total: 3000.000, accuracy: 0.434\n",
            "training epoch: [58 ] loss: 2.037 correct: 1302.000, total: 3000.000, accuracy: 0.434\n",
            "training epoch: [59 ] loss: 2.010 correct: 1301.000, total: 3000.000, accuracy: 0.434\n",
            "training epoch: [60 ] loss: 1.983 correct: 1306.000, total: 3000.000, accuracy: 0.435\n",
            "training epoch: [61 ] loss: 1.956 correct: 1305.000, total: 3000.000, accuracy: 0.435\n",
            "training epoch: [62 ] loss: 1.931 correct: 1309.000, total: 3000.000, accuracy: 0.436\n",
            "training epoch: [63 ] loss: 1.907 correct: 1309.000, total: 3000.000, accuracy: 0.436\n",
            "training epoch: [64 ] loss: 1.883 correct: 1310.000, total: 3000.000, accuracy: 0.437\n",
            "training epoch: [65 ] loss: 1.861 correct: 1315.000, total: 3000.000, accuracy: 0.438\n",
            "training epoch: [66 ] loss: 1.839 correct: 1310.000, total: 3000.000, accuracy: 0.437\n",
            "training epoch: [67 ] loss: 1.818 correct: 1315.000, total: 3000.000, accuracy: 0.438\n",
            "training epoch: [68 ] loss: 1.797 correct: 1312.000, total: 3000.000, accuracy: 0.437\n",
            "training epoch: [69 ] loss: 1.777 correct: 1320.000, total: 3000.000, accuracy: 0.440\n",
            "training epoch: [70 ] loss: 1.758 correct: 1315.000, total: 3000.000, accuracy: 0.438\n",
            "training epoch: [71 ] loss: 1.740 correct: 1325.000, total: 3000.000, accuracy: 0.442\n",
            "training epoch: [72 ] loss: 1.724 correct: 1315.000, total: 3000.000, accuracy: 0.438\n",
            "training epoch: [73 ] loss: 1.708 correct: 1330.000, total: 3000.000, accuracy: 0.443\n",
            "training epoch: [74 ] loss: 1.694 correct: 1314.000, total: 3000.000, accuracy: 0.438\n",
            "training epoch: [75 ] loss: 1.680 correct: 1329.000, total: 3000.000, accuracy: 0.443\n",
            "training epoch: [76 ] loss: 1.667 correct: 1314.000, total: 3000.000, accuracy: 0.438\n",
            "training epoch: [77 ] loss: 1.654 correct: 1333.000, total: 3000.000, accuracy: 0.444\n",
            "training epoch: [78 ] loss: 1.642 correct: 1320.000, total: 3000.000, accuracy: 0.440\n",
            "training epoch: [79 ] loss: 1.631 correct: 1332.000, total: 3000.000, accuracy: 0.444\n",
            "training epoch: [80 ] loss: 1.620 correct: 1315.000, total: 3000.000, accuracy: 0.438\n",
            "training epoch: [81 ] loss: 1.610 correct: 1335.000, total: 3000.000, accuracy: 0.445\n",
            "training epoch: [82 ] loss: 1.600 correct: 1320.000, total: 3000.000, accuracy: 0.440\n",
            "training epoch: [83 ] loss: 1.591 correct: 1342.000, total: 3000.000, accuracy: 0.447\n",
            "training epoch: [84 ] loss: 1.582 correct: 1311.000, total: 3000.000, accuracy: 0.437\n",
            "training epoch: [85 ] loss: 1.574 correct: 1336.000, total: 3000.000, accuracy: 0.445\n",
            "training epoch: [86 ] loss: 1.566 correct: 1306.000, total: 3000.000, accuracy: 0.435\n",
            "training epoch: [87 ] loss: 1.558 correct: 1344.000, total: 3000.000, accuracy: 0.448\n",
            "training epoch: [88 ] loss: 1.550 correct: 1306.000, total: 3000.000, accuracy: 0.435\n",
            "training epoch: [89 ] loss: 1.542 correct: 1340.000, total: 3000.000, accuracy: 0.447\n",
            "training epoch: [90 ] loss: 1.533 correct: 1307.000, total: 3000.000, accuracy: 0.436\n",
            "training epoch: [91 ] loss: 1.525 correct: 1349.000, total: 3000.000, accuracy: 0.450\n",
            "training epoch: [92 ] loss: 1.516 correct: 1307.000, total: 3000.000, accuracy: 0.436\n",
            "training epoch: [93 ] loss: 1.509 correct: 1350.000, total: 3000.000, accuracy: 0.450\n",
            "training epoch: [94 ] loss: 1.500 correct: 1324.000, total: 3000.000, accuracy: 0.441\n",
            "training epoch: [95 ] loss: 1.493 correct: 1352.000, total: 3000.000, accuracy: 0.451\n",
            "training epoch: [96 ] loss: 1.485 correct: 1341.000, total: 3000.000, accuracy: 0.447\n",
            "training epoch: [97 ] loss: 1.478 correct: 1357.000, total: 3000.000, accuracy: 0.452\n",
            "training epoch: [98 ] loss: 1.471 correct: 1351.000, total: 3000.000, accuracy: 0.450\n",
            "training epoch: [99 ] loss: 1.465 correct: 1355.000, total: 3000.000, accuracy: 0.452\n",
            "training epoch: [100 ] loss: 1.458 correct: 1359.000, total: 3000.000, accuracy: 0.453\n",
            "training epoch: [101 ] loss: 1.452 correct: 1359.000, total: 3000.000, accuracy: 0.453\n",
            "training epoch: [102 ] loss: 1.446 correct: 1358.000, total: 3000.000, accuracy: 0.453\n",
            "training epoch: [103 ] loss: 1.440 correct: 1355.000, total: 3000.000, accuracy: 0.452\n",
            "training epoch: [104 ] loss: 1.434 correct: 1360.000, total: 3000.000, accuracy: 0.453\n",
            "training epoch: [105 ] loss: 1.429 correct: 1355.000, total: 3000.000, accuracy: 0.452\n",
            "training epoch: [106 ] loss: 1.423 correct: 1364.000, total: 3000.000, accuracy: 0.455\n",
            "training epoch: [107 ] loss: 1.418 correct: 1359.000, total: 3000.000, accuracy: 0.453\n",
            "training epoch: [108 ] loss: 1.413 correct: 1371.000, total: 3000.000, accuracy: 0.457\n",
            "training epoch: [109 ] loss: 1.408 correct: 1357.000, total: 3000.000, accuracy: 0.452\n",
            "training epoch: [110 ] loss: 1.403 correct: 1379.000, total: 3000.000, accuracy: 0.460\n",
            "training epoch: [111 ] loss: 1.399 correct: 1365.000, total: 3000.000, accuracy: 0.455\n",
            "training epoch: [112 ] loss: 1.394 correct: 1383.000, total: 3000.000, accuracy: 0.461\n",
            "training epoch: [113 ] loss: 1.390 correct: 1369.000, total: 3000.000, accuracy: 0.456\n",
            "training epoch: [114 ] loss: 1.386 correct: 1382.000, total: 3000.000, accuracy: 0.461\n",
            "training epoch: [115 ] loss: 1.382 correct: 1357.000, total: 3000.000, accuracy: 0.452\n",
            "training epoch: [116 ] loss: 1.378 correct: 1378.000, total: 3000.000, accuracy: 0.459\n",
            "training epoch: [117 ] loss: 1.374 correct: 1351.000, total: 3000.000, accuracy: 0.450\n",
            "training epoch: [118 ] loss: 1.371 correct: 1380.000, total: 3000.000, accuracy: 0.460\n",
            "training epoch: [119 ] loss: 1.367 correct: 1339.000, total: 3000.000, accuracy: 0.446\n",
            "training epoch: [120 ] loss: 1.363 correct: 1384.000, total: 3000.000, accuracy: 0.461\n",
            "training epoch: [121 ] loss: 1.359 correct: 1345.000, total: 3000.000, accuracy: 0.448\n",
            "training epoch: [122 ] loss: 1.355 correct: 1381.000, total: 3000.000, accuracy: 0.460\n",
            "training epoch: [123 ] loss: 1.351 correct: 1355.000, total: 3000.000, accuracy: 0.452\n",
            "training epoch: [124 ] loss: 1.346 correct: 1384.000, total: 3000.000, accuracy: 0.461\n",
            "training epoch: [125 ] loss: 1.342 correct: 1366.000, total: 3000.000, accuracy: 0.455\n",
            "training epoch: [126 ] loss: 1.338 correct: 1389.000, total: 3000.000, accuracy: 0.463\n",
            "training epoch: [127 ] loss: 1.333 correct: 1374.000, total: 3000.000, accuracy: 0.458\n",
            "training epoch: [128 ] loss: 1.329 correct: 1391.000, total: 3000.000, accuracy: 0.464\n",
            "training epoch: [129 ] loss: 1.325 correct: 1372.000, total: 3000.000, accuracy: 0.457\n",
            "training epoch: [130 ] loss: 1.322 correct: 1393.000, total: 3000.000, accuracy: 0.464\n",
            "training epoch: [131 ] loss: 1.318 correct: 1375.000, total: 3000.000, accuracy: 0.458\n",
            "training epoch: [132 ] loss: 1.314 correct: 1396.000, total: 3000.000, accuracy: 0.465\n",
            "training epoch: [133 ] loss: 1.311 correct: 1375.000, total: 3000.000, accuracy: 0.458\n",
            "training epoch: [134 ] loss: 1.307 correct: 1405.000, total: 3000.000, accuracy: 0.468\n",
            "training epoch: [135 ] loss: 1.304 correct: 1380.000, total: 3000.000, accuracy: 0.460\n",
            "training epoch: [136 ] loss: 1.300 correct: 1403.000, total: 3000.000, accuracy: 0.468\n",
            "training epoch: [137 ] loss: 1.297 correct: 1386.000, total: 3000.000, accuracy: 0.462\n",
            "training epoch: [138 ] loss: 1.294 correct: 1403.000, total: 3000.000, accuracy: 0.468\n",
            "training epoch: [139 ] loss: 1.291 correct: 1395.000, total: 3000.000, accuracy: 0.465\n",
            "training epoch: [140 ] loss: 1.288 correct: 1401.000, total: 3000.000, accuracy: 0.467\n",
            "training epoch: [141 ] loss: 1.285 correct: 1400.000, total: 3000.000, accuracy: 0.467\n",
            "training epoch: [142 ] loss: 1.282 correct: 1401.000, total: 3000.000, accuracy: 0.467\n",
            "training epoch: [143 ] loss: 1.279 correct: 1396.000, total: 3000.000, accuracy: 0.465\n",
            "training epoch: [144 ] loss: 1.276 correct: 1399.000, total: 3000.000, accuracy: 0.466\n",
            "training epoch: [145 ] loss: 1.274 correct: 1391.000, total: 3000.000, accuracy: 0.464\n",
            "training epoch: [146 ] loss: 1.271 correct: 1400.000, total: 3000.000, accuracy: 0.467\n",
            "training epoch: [147 ] loss: 1.268 correct: 1392.000, total: 3000.000, accuracy: 0.464\n",
            "training epoch: [148 ] loss: 1.266 correct: 1398.000, total: 3000.000, accuracy: 0.466\n",
            "training epoch: [149 ] loss: 1.263 correct: 1385.000, total: 3000.000, accuracy: 0.462\n",
            "training epoch: [150 ] loss: 1.261 correct: 1397.000, total: 3000.000, accuracy: 0.466\n",
            "training epoch: [151 ] loss: 1.259 correct: 1392.000, total: 3000.000, accuracy: 0.464\n",
            "training epoch: [152 ] loss: 1.256 correct: 1405.000, total: 3000.000, accuracy: 0.468\n",
            "training epoch: [153 ] loss: 1.253 correct: 1395.000, total: 3000.000, accuracy: 0.465\n",
            "training epoch: [154 ] loss: 1.251 correct: 1408.000, total: 3000.000, accuracy: 0.469\n",
            "training epoch: [155 ] loss: 1.248 correct: 1398.000, total: 3000.000, accuracy: 0.466\n",
            "training epoch: [156 ] loss: 1.245 correct: 1419.000, total: 3000.000, accuracy: 0.473\n",
            "training epoch: [157 ] loss: 1.242 correct: 1397.000, total: 3000.000, accuracy: 0.466\n",
            "training epoch: [158 ] loss: 1.240 correct: 1417.000, total: 3000.000, accuracy: 0.472\n",
            "training epoch: [159 ] loss: 1.237 correct: 1404.000, total: 3000.000, accuracy: 0.468\n",
            "training epoch: [160 ] loss: 1.234 correct: 1417.000, total: 3000.000, accuracy: 0.472\n",
            "training epoch: [161 ] loss: 1.232 correct: 1418.000, total: 3000.000, accuracy: 0.473\n",
            "training epoch: [162 ] loss: 1.230 correct: 1427.000, total: 3000.000, accuracy: 0.476\n",
            "training epoch: [163 ] loss: 1.227 correct: 1409.000, total: 3000.000, accuracy: 0.470\n",
            "training epoch: [164 ] loss: 1.225 correct: 1429.000, total: 3000.000, accuracy: 0.476\n",
            "training epoch: [165 ] loss: 1.223 correct: 1414.000, total: 3000.000, accuracy: 0.471\n",
            "training epoch: [166 ] loss: 1.221 correct: 1412.000, total: 3000.000, accuracy: 0.471\n",
            "training epoch: [167 ] loss: 1.219 correct: 1408.000, total: 3000.000, accuracy: 0.469\n",
            "training epoch: [168 ] loss: 1.217 correct: 1412.000, total: 3000.000, accuracy: 0.471\n",
            "training epoch: [169 ] loss: 1.216 correct: 1408.000, total: 3000.000, accuracy: 0.469\n",
            "training epoch: [170 ] loss: 1.214 correct: 1414.000, total: 3000.000, accuracy: 0.471\n",
            "training epoch: [171 ] loss: 1.213 correct: 1410.000, total: 3000.000, accuracy: 0.470\n",
            "training epoch: [172 ] loss: 1.210 correct: 1415.000, total: 3000.000, accuracy: 0.472\n",
            "training epoch: [173 ] loss: 1.209 correct: 1399.000, total: 3000.000, accuracy: 0.466\n",
            "training epoch: [174 ] loss: 1.206 correct: 1414.000, total: 3000.000, accuracy: 0.471\n",
            "training epoch: [175 ] loss: 1.204 correct: 1410.000, total: 3000.000, accuracy: 0.470\n",
            "training epoch: [176 ] loss: 1.201 correct: 1412.000, total: 3000.000, accuracy: 0.471\n",
            "training epoch: [177 ] loss: 1.199 correct: 1423.000, total: 3000.000, accuracy: 0.474\n",
            "training epoch: [178 ] loss: 1.196 correct: 1421.000, total: 3000.000, accuracy: 0.474\n",
            "training epoch: [179 ] loss: 1.194 correct: 1425.000, total: 3000.000, accuracy: 0.475\n",
            "training epoch: [180 ] loss: 1.191 correct: 1423.000, total: 3000.000, accuracy: 0.474\n",
            "training epoch: [181 ] loss: 1.189 correct: 1430.000, total: 3000.000, accuracy: 0.477\n",
            "training epoch: [182 ] loss: 1.187 correct: 1423.000, total: 3000.000, accuracy: 0.474\n",
            "training epoch: [183 ] loss: 1.185 correct: 1428.000, total: 3000.000, accuracy: 0.476\n",
            "training epoch: [184 ] loss: 1.183 correct: 1427.000, total: 3000.000, accuracy: 0.476\n",
            "training epoch: [185 ] loss: 1.181 correct: 1431.000, total: 3000.000, accuracy: 0.477\n",
            "training epoch: [186 ] loss: 1.179 correct: 1435.000, total: 3000.000, accuracy: 0.478\n",
            "training epoch: [187 ] loss: 1.177 correct: 1441.000, total: 3000.000, accuracy: 0.480\n",
            "training epoch: [188 ] loss: 1.175 correct: 1437.000, total: 3000.000, accuracy: 0.479\n",
            "training epoch: [189 ] loss: 1.174 correct: 1440.000, total: 3000.000, accuracy: 0.480\n",
            "training epoch: [190 ] loss: 1.172 correct: 1440.000, total: 3000.000, accuracy: 0.480\n",
            "training epoch: [191 ] loss: 1.170 correct: 1447.000, total: 3000.000, accuracy: 0.482\n",
            "training epoch: [192 ] loss: 1.168 correct: 1446.000, total: 3000.000, accuracy: 0.482\n",
            "training epoch: [193 ] loss: 1.167 correct: 1447.000, total: 3000.000, accuracy: 0.482\n",
            "training epoch: [194 ] loss: 1.165 correct: 1446.000, total: 3000.000, accuracy: 0.482\n",
            "training epoch: [195 ] loss: 1.164 correct: 1451.000, total: 3000.000, accuracy: 0.484\n",
            "training epoch: [196 ] loss: 1.162 correct: 1446.000, total: 3000.000, accuracy: 0.482\n",
            "training epoch: [197 ] loss: 1.160 correct: 1455.000, total: 3000.000, accuracy: 0.485\n",
            "training epoch: [198 ] loss: 1.159 correct: 1448.000, total: 3000.000, accuracy: 0.483\n",
            "training epoch: [199 ] loss: 1.158 correct: 1464.000, total: 3000.000, accuracy: 0.488\n",
            "training epoch: [200 ] loss: 1.156 correct: 1459.000, total: 3000.000, accuracy: 0.486\n",
            "Finished Training run \n"
          ],
          "name": "stdout"
        }
      ]
    },
    {
      "cell_type": "code",
      "metadata": {
        "id": "AciJnAh5nfug"
      },
      "source": [
        "columns = [\"epochs\", \"argmax > 0.5\" ,\"argmax < 0.5\", \"focus_true_pred_true\", \"focus_false_pred_true\", \"focus_true_pred_false\", \"focus_false_pred_false\" ]\n",
        "df_train = pd.DataFrame()\n",
        "df_test = pd.DataFrame()\n",
        "df_train[columns[0]] = np.arange(0,epoch+2)\n",
        "df_train[columns[1]] = analysis_data_tr[:,-2]/30\n",
        "df_train[columns[2]] = analysis_data_tr[:,-1]/30\n",
        "df_train[columns[3]] = analysis_data_tr[:,0]/30\n",
        "df_train[columns[4]] = analysis_data_tr[:,1]/30\n",
        "df_train[columns[5]] = analysis_data_tr[:,2]/30\n",
        "df_train[columns[6]] = analysis_data_tr[:,3]/30"
      ],
      "execution_count": 18,
      "outputs": []
    },
    {
      "cell_type": "code",
      "metadata": {
        "colab": {
          "base_uri": "https://localhost:8080/",
          "height": 456
        },
        "id": "NoQpS_6scRsC",
        "outputId": "6162f951-6a98-45ef-fa30-c7965c25d64d"
      },
      "source": [
        "df_train"
      ],
      "execution_count": 19,
      "outputs": [
        {
          "output_type": "execute_result",
          "data": {
            "text/html": [
              "<div>\n",
              "<style scoped>\n",
              "    .dataframe tbody tr th:only-of-type {\n",
              "        vertical-align: middle;\n",
              "    }\n",
              "\n",
              "    .dataframe tbody tr th {\n",
              "        vertical-align: top;\n",
              "    }\n",
              "\n",
              "    .dataframe thead th {\n",
              "        text-align: right;\n",
              "    }\n",
              "</style>\n",
              "<table border=\"1\" class=\"dataframe\">\n",
              "  <thead>\n",
              "    <tr style=\"text-align: right;\">\n",
              "      <th></th>\n",
              "      <th>epochs</th>\n",
              "      <th>argmax &gt; 0.5</th>\n",
              "      <th>argmax &lt; 0.5</th>\n",
              "      <th>focus_true_pred_true</th>\n",
              "      <th>focus_false_pred_true</th>\n",
              "      <th>focus_true_pred_false</th>\n",
              "      <th>focus_false_pred_false</th>\n",
              "    </tr>\n",
              "  </thead>\n",
              "  <tbody>\n",
              "    <tr>\n",
              "      <th>0</th>\n",
              "      <td>0</td>\n",
              "      <td>9.800000</td>\n",
              "      <td>90.200000</td>\n",
              "      <td>5.233333</td>\n",
              "      <td>32.533333</td>\n",
              "      <td>6.533333</td>\n",
              "      <td>55.700000</td>\n",
              "    </tr>\n",
              "    <tr>\n",
              "      <th>1</th>\n",
              "      <td>1</td>\n",
              "      <td>10.000000</td>\n",
              "      <td>90.000000</td>\n",
              "      <td>5.666667</td>\n",
              "      <td>31.766667</td>\n",
              "      <td>6.833333</td>\n",
              "      <td>55.733333</td>\n",
              "    </tr>\n",
              "    <tr>\n",
              "      <th>2</th>\n",
              "      <td>2</td>\n",
              "      <td>10.066667</td>\n",
              "      <td>89.933333</td>\n",
              "      <td>6.133333</td>\n",
              "      <td>31.966667</td>\n",
              "      <td>7.100000</td>\n",
              "      <td>54.800000</td>\n",
              "    </tr>\n",
              "    <tr>\n",
              "      <th>3</th>\n",
              "      <td>3</td>\n",
              "      <td>10.000000</td>\n",
              "      <td>90.000000</td>\n",
              "      <td>6.466667</td>\n",
              "      <td>31.833333</td>\n",
              "      <td>7.166667</td>\n",
              "      <td>54.533333</td>\n",
              "    </tr>\n",
              "    <tr>\n",
              "      <th>4</th>\n",
              "      <td>4</td>\n",
              "      <td>10.266667</td>\n",
              "      <td>89.733333</td>\n",
              "      <td>6.933333</td>\n",
              "      <td>31.800000</td>\n",
              "      <td>7.233333</td>\n",
              "      <td>54.033333</td>\n",
              "    </tr>\n",
              "    <tr>\n",
              "      <th>...</th>\n",
              "      <td>...</td>\n",
              "      <td>...</td>\n",
              "      <td>...</td>\n",
              "      <td>...</td>\n",
              "      <td>...</td>\n",
              "      <td>...</td>\n",
              "      <td>...</td>\n",
              "    </tr>\n",
              "    <tr>\n",
              "      <th>196</th>\n",
              "      <td>196</td>\n",
              "      <td>21.266667</td>\n",
              "      <td>78.733333</td>\n",
              "      <td>23.800000</td>\n",
              "      <td>24.400000</td>\n",
              "      <td>13.500000</td>\n",
              "      <td>38.300000</td>\n",
              "    </tr>\n",
              "    <tr>\n",
              "      <th>197</th>\n",
              "      <td>197</td>\n",
              "      <td>21.200000</td>\n",
              "      <td>78.800000</td>\n",
              "      <td>24.333333</td>\n",
              "      <td>24.166667</td>\n",
              "      <td>13.066667</td>\n",
              "      <td>38.433333</td>\n",
              "    </tr>\n",
              "    <tr>\n",
              "      <th>198</th>\n",
              "      <td>198</td>\n",
              "      <td>21.300000</td>\n",
              "      <td>78.700000</td>\n",
              "      <td>23.900000</td>\n",
              "      <td>24.366667</td>\n",
              "      <td>13.566667</td>\n",
              "      <td>38.166667</td>\n",
              "    </tr>\n",
              "    <tr>\n",
              "      <th>199</th>\n",
              "      <td>199</td>\n",
              "      <td>21.300000</td>\n",
              "      <td>78.700000</td>\n",
              "      <td>24.566667</td>\n",
              "      <td>24.233333</td>\n",
              "      <td>12.966667</td>\n",
              "      <td>38.233333</td>\n",
              "    </tr>\n",
              "    <tr>\n",
              "      <th>200</th>\n",
              "      <td>200</td>\n",
              "      <td>21.333333</td>\n",
              "      <td>78.666667</td>\n",
              "      <td>24.133333</td>\n",
              "      <td>24.500000</td>\n",
              "      <td>13.500000</td>\n",
              "      <td>37.866667</td>\n",
              "    </tr>\n",
              "  </tbody>\n",
              "</table>\n",
              "<p>201 rows × 7 columns</p>\n",
              "</div>"
            ],
            "text/plain": [
              "     epochs  argmax > 0.5  ...  focus_true_pred_false  focus_false_pred_false\n",
              "0         0      9.800000  ...               6.533333               55.700000\n",
              "1         1     10.000000  ...               6.833333               55.733333\n",
              "2         2     10.066667  ...               7.100000               54.800000\n",
              "3         3     10.000000  ...               7.166667               54.533333\n",
              "4         4     10.266667  ...               7.233333               54.033333\n",
              "..      ...           ...  ...                    ...                     ...\n",
              "196     196     21.266667  ...              13.500000               38.300000\n",
              "197     197     21.200000  ...              13.066667               38.433333\n",
              "198     198     21.300000  ...              13.566667               38.166667\n",
              "199     199     21.300000  ...              12.966667               38.233333\n",
              "200     200     21.333333  ...              13.500000               37.866667\n",
              "\n",
              "[201 rows x 7 columns]"
            ]
          },
          "metadata": {
            "tags": []
          },
          "execution_count": 19
        }
      ]
    },
    {
      "cell_type": "code",
      "metadata": {
        "colab": {
          "base_uri": "https://localhost:8080/",
          "height": 404
        },
        "id": "IMAhRdxOcVf6",
        "outputId": "b5149ccd-4f30-4fc1-e5cf-ef90d105d3a8"
      },
      "source": [
        "fig= plt.figure(figsize=(6,6))\n",
        "plt.plot(df_train[columns[0]],df_train[columns[3]], label =\"focus_true_pred_true \")\n",
        "plt.plot(df_train[columns[0]],df_train[columns[4]], label =\"focus_false_pred_true \")\n",
        "plt.plot(df_train[columns[0]],df_train[columns[5]], label =\"focus_true_pred_false \")\n",
        "plt.plot(df_train[columns[0]],df_train[columns[6]], label =\"focus_false_pred_false \")\n",
        "plt.title(\"On Train set\")\n",
        "plt.legend(loc='center left', bbox_to_anchor=(1, 0.5))\n",
        "plt.xlabel(\"epochs\")\n",
        "plt.ylabel(\"percentage of data\")\n",
        "plt.xticks([0,50,100,150,200])\n",
        "#plt.vlines(vline_list,min(min(df_train[columns[3]]/300),min(df_train[columns[4]]/300),min(df_train[columns[5]]/300),min(df_train[columns[6]]/300)), max(max(df_train[columns[3]]/300),max(df_train[columns[4]]/300),max(df_train[columns[5]]/300),max(df_train[columns[6]]/300)),linestyles='dotted')\n",
        "plt.show()\n",
        "fig.savefig(\"train_analysis.pdf\")\n",
        "fig.savefig(\"train_analysis.png\")"
      ],
      "execution_count": 29,
      "outputs": [
        {
          "output_type": "display_data",
          "data": {
            "image/png": "[encoded data removed]",
            "text/plain": [
              "<Figure size 432x432 with 1 Axes>"
            ]
          },
          "metadata": {
            "tags": [],
            "needs_background": "light"
          }
        }
      ]
    },
    {
      "cell_type": "code",
      "metadata": {
        "id": "VCnS6r2_3WdU"
      },
      "source": [
        "aph = []\n",
        "for i in bg:\n",
        "  aph.append(F.softmax(i,dim=1).detach().numpy())\n",
        "aph = np.concatenate(aph,axis=0)\n",
        "# torch.save({\n",
        "#             'epoch': 500,\n",
        "#             'model_state_dict': what_net.state_dict(),\n",
        "#             #'optimizer_state_dict': optimizer_what.state_dict(),\n",
        "#             \"optimizer_alpha\":optim1,\n",
        "#             \"FTPT_analysis\":analysis_data_tr,\n",
        "#             \"alpha\":aph\n",
        "\n",
        "#             }, \"type4_what_net_500.pt\")"
      ],
      "execution_count": 21,
      "outputs": []
    },
    {
      "cell_type": "code",
      "metadata": {
        "colab": {
          "base_uri": "https://localhost:8080/"
        },
        "id": "KVzrDOGS4UxU",
        "outputId": "545c4158-e55d-4639-e54c-f7bb7553bd6a"
      },
      "source": [
        "aph[0]"
      ],
      "execution_count": 22,
      "outputs": [
        {
          "output_type": "execute_result",
          "data": {
            "text/plain": [
              "array([0.04252344, 0.02676971, 0.16703153, 0.2361521 , 0.1909665 ,\n",
              "       0.20561124, 0.06526335, 0.01322968, 0.05245244], dtype=float32)"
            ]
          },
          "metadata": {
            "tags": []
          },
          "execution_count": 22
        }
      ]
    },
    {
      "cell_type": "code",
      "metadata": {
        "id": "yF2bvWdIWUTa"
      },
      "source": [
        "xx,yy= np.meshgrid(np.arange(1,8,0.01),np.arange(2,9,0.01))\n",
        "X = np.concatenate((xx.reshape(-1,1),yy.reshape(-1,1)),axis=1)\n",
        "X = torch.Tensor(X).double().to(\"cuda\")\n",
        "Y1 = what_net(X)"
      ],
      "execution_count": 23,
      "outputs": []
    },
    {
      "cell_type": "code",
      "metadata": {
        "id": "GENNdxJEa_Xi"
      },
      "source": [
        "Y1 = Y1.to(\"cpu\")\n",
        "Y1 = Y1.detach().numpy()\n",
        "Y1 = torch.softmax(torch.Tensor(Y1),dim=1)\n",
        "_,Z4= torch.max(Y1,1)\n",
        "Z1 = Y1[:,0]\n",
        "Z2 = Y1[:,1]\n",
        "Z3 = Y1[:,2]"
      ],
      "execution_count": 24,
      "outputs": []
    },
    {
      "cell_type": "code",
      "metadata": {
        "id": "5ZwEogAobesX"
      },
      "source": [
        "X = X.to(\"cpu\")"
      ],
      "execution_count": 25,
      "outputs": []
    },
    {
      "cell_type": "code",
      "metadata": {
        "colab": {
          "base_uri": "https://localhost:8080/"
        },
        "id": "ZIoUNsgebIku",
        "outputId": "dcdbbb9c-e612-4135-8278-fdd461f52f63"
      },
      "source": [
        "data = np.load(\"type_4_data.npy\",allow_pickle=True)\n",
        "x = data[0][\"X\"]\n",
        "y = data[0][\"Y\"]\n",
        "idx= []\n",
        "for i in range(10):\n",
        "  print(i,sum(y==i))\n",
        "  idx.append(y==i)"
      ],
      "execution_count": 26,
      "outputs": [
        {
          "output_type": "stream",
          "text": [
            "0 482\n",
            "1 485\n",
            "2 536\n",
            "3 504\n",
            "4 493\n",
            "5 513\n",
            "6 497\n",
            "7 486\n",
            "8 522\n",
            "9 482\n"
          ],
          "name": "stdout"
        }
      ]
    },
    {
      "cell_type": "code",
      "metadata": {
        "id": "7Ut6ZTAXbvqx"
      },
      "source": [
        "avrg = []\n",
        "with torch.no_grad():\n",
        "  for i, data in  enumerate(train_loader):\n",
        "          inputs , labels , fore_idx = data\n",
        "          inputs = inputs.double()\n",
        "          inputs, labels = inputs.to(\"cuda\"),labels.to(\"cuda\")\n",
        "          beta  = bg[i]\n",
        "          beta = beta.to(\"cuda\")\n",
        "          avg,alpha = attn_avg(inputs,beta)\n",
        "          \n",
        "          avrg.append(avg.detach().cpu().numpy())\n",
        "avrg= np.concatenate(avrg,axis=0)"
      ],
      "execution_count": 27,
      "outputs": []
    },
    {
      "cell_type": "code",
      "metadata": {
        "colab": {
          "base_uri": "https://localhost:8080/",
          "height": 374
        },
        "id": "5PAwMQXzbQJR",
        "outputId": "f7f122b5-9167-4998-9771-fe667aed5022"
      },
      "source": [
        "fig = plt.figure(figsize=(6,6))\n",
        "#plt.scatter(X[:,0],X[:,1],c=Z4)\n",
        "Z4 = Z4.reshape(xx.shape)\n",
        "plt.contourf(xx, yy, Z4, alpha=0.4)\n",
        "for i in range(3):\n",
        "  plt.scatter(x[idx[i],0],x[idx[i],1],label=\"class_\"+str(i),alpha=0.8)\n",
        "plt.legend(loc='center left', bbox_to_anchor=(1, 0.5))\n",
        "plt.scatter(avrg[:,0],avrg[:,1],alpha=0.2)\n",
        "plt.savefig(\"decision_boundary.png\",bbox_inches=\"tight\")\n"
      ],
      "execution_count": 28,
      "outputs": [
        {
          "output_type": "display_data",
          "data": {
            "image/png": "[encoded data removed]",
            "text/plain": [
              "<Figure size 432x432 with 1 Axes>"
            ]
          },
          "metadata": {
            "tags": [],
            "needs_background": "light"
          }
        }
      ]
    },
    {
      "cell_type": "code",
      "metadata": {
        "id": "6KHn17Rbceqt"
      },
      "source": [
        ""
      ],
      "execution_count": 28,
      "outputs": []
    }
  ]
}