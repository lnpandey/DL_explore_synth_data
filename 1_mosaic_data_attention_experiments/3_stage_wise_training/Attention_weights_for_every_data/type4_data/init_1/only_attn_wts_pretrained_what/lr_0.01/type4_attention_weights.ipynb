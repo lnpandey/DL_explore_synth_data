{
  "nbformat": 4,
  "nbformat_minor": 0,
  "metadata": {
    "accelerator": "GPU",
    "colab": {
      "name": "type4_attention_weights.ipynb",
      "provenance": [],
      "collapsed_sections": []
    },
    "kernelspec": {
      "display_name": "Python 3",
      "name": "python3"
    },
    "language_info": {
      "name": "python"
    }
  },
  "cells": [
    {
      "cell_type": "code",
      "metadata": {
        "colab": {
          "base_uri": "https://localhost:8080/"
        },
        "id": "gMYVR3Ye8KM8",
        "outputId": "a606020a-eaac-464c-c484-9f3b701832cb"
      },
      "source": [
        "from google.colab import drive\n",
        "drive.mount('/content/drive')"
      ],
      "execution_count": 1,
      "outputs": [
        {
          "output_type": "stream",
          "text": [
            "Drive already mounted at /content/drive; to attempt to forcibly remount, call drive.mount(\"/content/drive\", force_remount=True).\n"
          ],
          "name": "stdout"
        }
      ]
    },
    {
      "cell_type": "code",
      "metadata": {
        "colab": {
          "base_uri": "https://localhost:8080/"
        },
        "id": "9_jnQ2Bg80OQ",
        "outputId": "91cc5df0-dd22-459d-8086-e3a2690f6711"
      },
      "source": [
        "%cd /content/drive/MyDrive/Neural_Tangent_Kernel/"
      ],
      "execution_count": 2,
      "outputs": [
        {
          "output_type": "stream",
          "text": [
            "/content/drive/MyDrive/Neural_Tangent_Kernel\n"
          ],
          "name": "stdout"
        }
      ]
    },
    {
      "cell_type": "code",
      "metadata": {
        "id": "BWIyC9Ip_bcq"
      },
      "source": [
        "import numpy as np\n",
        "import pandas as pd\n",
        "\n",
        "import torch\n",
        "import torchvision\n",
        "from torch.utils.data import Dataset, DataLoader\n",
        "from torchvision import transforms, utils\n",
        "import torch.nn as nn\n",
        "import torch.nn.functional as F\n",
        "import torch.optim as optim\n",
        "\n",
        "from matplotlib import pyplot as plt\n",
        "\n",
        "\n",
        "from myrmsprop import MyRmsprop\n",
        "from utils import plot_decision_boundary,attn_avg,plot_analysis\n",
        "from synthetic_dataset import MosaicDataset1\n",
        "from eval_model import calculate_attn_loss,analyse_data\n",
        "\n",
        "\n",
        "\n",
        "%matplotlib inline\n",
        "torch.backends.cudnn.deterministic = True\n",
        "torch.backends.cudnn.benchmark = False"
      ],
      "execution_count": 3,
      "outputs": []
    },
    {
      "cell_type": "code",
      "metadata": {
        "id": "lGVy-1EllAc_"
      },
      "source": [
        "train_data = np.load(\"train_type4_data.npy\",allow_pickle=True)\n",
        "\n",
        "test_data = np.load(\"test_type4_data.npy\",allow_pickle=True)"
      ],
      "execution_count": 4,
      "outputs": []
    },
    {
      "cell_type": "code",
      "metadata": {
        "id": "uL771xuGZC5Q"
      },
      "source": [
        "mosaic_list_of_images = train_data[0][\"mosaic_list\"]\n",
        "mosaic_label = train_data[0][\"mosaic_label\"]\n",
        "fore_idx = train_data[0][\"fore_idx\"]\n",
        "\n",
        "\n",
        "test_mosaic_list_of_images = test_data[0][\"mosaic_list\"]\n",
        "test_mosaic_label = test_data[0][\"mosaic_label\"]\n",
        "test_fore_idx = test_data[0][\"fore_idx\"]"
      ],
      "execution_count": 5,
      "outputs": []
    },
    {
      "cell_type": "code",
      "metadata": {
        "id": "uf76JwkxZCT0"
      },
      "source": [
        "batch = 250\n",
        "train_dataset = MosaicDataset1(mosaic_list_of_images, mosaic_label, fore_idx)\n",
        "train_loader = DataLoader( train_dataset,batch_size= batch ,shuffle=False)\n",
        "#batch = 2000\n",
        "#test_dataset = MosaicDataset1(test_mosaic_list_of_images, test_mosaic_label, test_fore_idx)\n",
        "#test_loader = DataLoader(test_dataset,batch_size= batch ,shuffle=False)"
      ],
      "execution_count": 6,
      "outputs": []
    },
    {
      "cell_type": "code",
      "metadata": {
        "id": "DOpZfj1bq7wN"
      },
      "source": [
        "n_batches = 3000//batch\n",
        "bg = []\n",
        "for i in range(n_batches):\n",
        "  torch.manual_seed(i)\n",
        "  betag =   torch.randn(batch,9) # torch.ones((250,9))/9 \n",
        "  bg.append( betag.requires_grad_() )"
      ],
      "execution_count": 7,
      "outputs": []
    },
    {
      "cell_type": "code",
      "metadata": {
        "colab": {
          "base_uri": "https://localhost:8080/"
        },
        "id": "fzb3ii4drXpu",
        "outputId": "683c3bc4-d381-455f-e57e-8626ac7d7efa"
      },
      "source": [
        " bg"
      ],
      "execution_count": 8,
      "outputs": [
        {
          "output_type": "execute_result",
          "data": {
            "text/plain": [
              "[tensor([[-1.1258, -1.1524, -0.2506,  ..., -0.3160, -2.1152,  0.3223],\n",
              "         [-1.2633,  0.3500,  0.3081,  ..., -0.2473, -1.3527, -1.6959],\n",
              "         [ 0.5667,  0.7935,  0.5988,  ...,  0.7502, -0.5855, -0.1734],\n",
              "         ...,\n",
              "         [ 0.8374, -0.7942, -0.3622,  ...,  0.0121,  0.8032, -0.6962],\n",
              "         [-1.0645,  0.2384, -0.3385,  ...,  0.9635, -1.0340,  0.1894],\n",
              "         [ 0.8253,  1.1038, -1.2491,  ..., -0.5940, -1.7125,  0.3617]],\n",
              "        requires_grad=True),\n",
              " tensor([[-1.5256, -0.7502, -0.6540,  ..., -0.9798, -1.6091, -0.7121],\n",
              "         [ 0.3037, -0.7773, -0.2515,  ...,  0.4676, -0.6970, -1.1608],\n",
              "         [ 0.6995,  0.1991,  0.8657,  ...,  1.1017, -0.1759, -2.2456],\n",
              "         ...,\n",
              "         [-0.4302,  0.1508,  0.6937,  ...,  0.0314,  2.6645,  0.1189],\n",
              "         [ 1.4484, -0.0213, -1.3367,  ...,  0.6279, -1.4719, -1.0291],\n",
              "         [ 0.9081, -1.2433,  1.6062,  ..., -0.1177, -0.5548, -0.0595]],\n",
              "        requires_grad=True),\n",
              " tensor([[-1.0408,  0.9166, -1.3042,  ..., -1.0574, -0.1188, -0.9078],\n",
              "         [ 0.3452, -0.5713, -0.2351,  ..., -0.4327, -1.5071, -0.4586],\n",
              "         [-0.8480,  0.5266,  0.0299,  ...,  0.4640, -0.4986,  0.1289],\n",
              "         ...,\n",
              "         [ 1.5719,  1.0154, -2.1620,  ..., -1.0790,  1.5801, -1.6557],\n",
              "         [-1.1613,  0.3672, -0.3078,  ..., -1.2456, -0.1125,  0.6222],\n",
              "         [ 0.4521, -0.2505,  2.3728,  ..., -0.1377, -0.8815, -0.1671]],\n",
              "        requires_grad=True),\n",
              " tensor([[-0.0766,  0.3599, -0.7820,  ...,  1.6206, -1.5967, -0.0517],\n",
              "         [-0.3060,  0.2485, -0.2226,  ...,  0.4163,  0.2615,  0.9311],\n",
              "         [-0.5145, -1.6517,  1.0460,  ...,  0.5638,  2.2566,  1.8693],\n",
              "         ...,\n",
              "         [ 2.1181,  0.1464, -0.0447,  ...,  1.3816,  0.4975,  0.2814],\n",
              "         [-0.7639, -1.4938, -1.1430,  ...,  0.6355,  0.6700,  1.5335],\n",
              "         [-0.0191, -0.3568,  0.4536,  ..., -0.9493,  2.0439, -0.3827]],\n",
              "        requires_grad=True),\n",
              " tensor([[-0.9414,  1.2632, -0.1838,  ..., -2.6021,  0.6245, -0.8684],\n",
              "         [-0.2051,  0.3976,  0.6699,  ..., -2.1205,  1.5191, -0.6682],\n",
              "         [ 0.0031, -0.1535,  1.1396,  ..., -0.7588, -0.1853, -0.8558],\n",
              "         ...,\n",
              "         [ 1.6794, -0.5509,  0.4118,  ...,  0.9084, -0.8626, -0.6553],\n",
              "         [ 0.6058, -0.5888,  0.9448,  ...,  0.0072, -0.2579,  1.7659],\n",
              "         [-1.2965,  0.2970, -0.5833,  ...,  1.7838, -0.4794,  0.5579]],\n",
              "        requires_grad=True),\n",
              " tensor([[ 1.8423,  0.5189, -1.7119,  ..., -0.1307, -1.4374,  0.3908],\n",
              "         [-0.0190, -1.3527, -0.7308,  ..., -0.7823,  2.7799,  1.2220],\n",
              "         [-0.3364, -0.9651, -0.1297,  ..., -0.4374,  0.7792, -0.0583],\n",
              "         ...,\n",
              "         [ 0.6700, -0.5400,  0.2353,  ..., -1.0840, -0.6141, -0.0155],\n",
              "         [ 0.4779, -0.4648, -0.1366,  ...,  0.1162,  3.0351, -0.2885],\n",
              "         [-0.6777, -0.1373, -0.7330,  ...,  0.6185, -0.3036, -1.0850]],\n",
              "        requires_grad=True),\n",
              " tensor([[-1.2113,  0.6304, -1.4713,  ...,  0.3295,  0.3264, -0.4806],\n",
              "         [ 1.1032,  2.5485,  0.3006,  ..., -1.6279, -1.4801, -1.0631],\n",
              "         [ 0.3630,  0.3995,  0.1457,  ..., -1.3437,  0.8535,  0.8811],\n",
              "         ...,\n",
              "         [-0.5519,  0.2253,  0.4891,  ..., -0.0110, -0.6023, -0.7230],\n",
              "         [-1.1593, -0.6551,  1.6578,  ...,  0.4795, -1.3562,  0.2920],\n",
              "         [ 0.3474, -0.9874, -0.0130,  ...,  0.6061,  0.8639, -0.9552]],\n",
              "        requires_grad=True),\n",
              " tensor([[-0.8201,  0.3956,  0.8989,  ..., -0.6411, -0.8937,  0.9265],\n",
              "         [-0.5355, -1.1597, -0.4602,  ...,  1.0902, -1.5827, -0.3246],\n",
              "         [ 1.9264, -0.3300,  0.1984,  ..., -0.2093, -0.2153, -1.8157],\n",
              "         ...,\n",
              "         [-0.6910,  0.3328,  2.2102,  ..., -0.0383,  0.4400, -0.8350],\n",
              "         [-0.2194, -0.7611, -0.0921,  ..., -0.3143, -0.4196,  1.1570],\n",
              "         [-0.8934, -1.7705,  0.3805,  ...,  0.1963, -0.7307,  1.3581]],\n",
              "        requires_grad=True),\n",
              " tensor([[-1.1892,  1.3932,  2.1059,  ...,  2.1414,  0.1317, -0.6388],\n",
              "         [ 1.3384, -1.1908, -0.7601,  ..., -0.1051,  0.4414,  0.6590],\n",
              "         [-0.7585, -0.6001, -0.3948,  ..., -1.7526,  0.3920,  0.8295],\n",
              "         ...,\n",
              "         [-0.0557, -0.1032, -0.4624,  ..., -0.1339, -1.6662, -0.4955],\n",
              "         [ 1.0884, -0.4479, -0.0847,  ...,  1.7487, -1.6152, -1.8258],\n",
              "         [ 1.7062,  1.1041, -1.3736,  ..., -1.5244,  0.4869, -1.7420]],\n",
              "        requires_grad=True),\n",
              " tensor([[-1.0674, -0.7172,  1.0897,  ..., -0.7737, -2.4656,  0.9968],\n",
              "         [ 0.4524, -0.3464, -0.7245,  ...,  0.2331, -1.1433,  0.8289],\n",
              "         [ 0.9534,  0.2948,  1.5159,  ...,  0.3971,  0.4058, -0.5274],\n",
              "         ...,\n",
              "         [-0.3297, -0.3700,  1.9490,  ..., -0.0443,  1.8073, -0.6388],\n",
              "         [ 0.0977,  0.1862,  1.4303,  ..., -1.9735, -1.1663,  1.7066],\n",
              "         [-0.8396, -2.5271, -1.0791,  ...,  0.1053,  1.2463, -0.7709]],\n",
              "        requires_grad=True),\n",
              " tensor([[-0.8173, -0.5556, -0.8267,  ..., -0.5133,  2.6278, -0.7465],\n",
              "         [ 1.0051, -0.2568,  0.4765,  ..., -0.2496,  0.8298,  1.1209],\n",
              "         [ 0.9999,  1.1167,  1.0763,  ...,  0.0562,  0.2456,  0.9535],\n",
              "         ...,\n",
              "         [-1.0042, -0.7732,  0.9129,  ..., -0.4342,  1.3256, -0.6357],\n",
              "         [-0.5979,  1.2285,  1.0288,  ..., -1.4067,  0.2403,  0.5257],\n",
              "         [-1.7332, -0.2443,  0.1425,  ..., -0.9291,  1.4324, -0.2338]],\n",
              "        requires_grad=True),\n",
              " tensor([[-0.5108,  1.0283, -0.3532,  ...,  0.1421, -0.5243, -0.2487],\n",
              "         [-0.5252,  2.8922, -0.5947,  ..., -0.0080,  0.2479,  1.5727],\n",
              "         [-1.6395, -1.5925, -0.1546,  ..., -0.3935,  0.6171,  0.7528],\n",
              "         ...,\n",
              "         [-0.3538,  0.1294,  1.1873,  ..., -0.2866, -0.3111,  0.2674],\n",
              "         [ 1.7757, -0.1730,  0.6679,  ..., -0.2519,  0.8360, -0.4348],\n",
              "         [ 0.4242,  0.7649, -0.5807,  ..., -0.7654, -0.1086,  0.4636]],\n",
              "        requires_grad=True)]"
            ]
          },
          "metadata": {
            "tags": []
          },
          "execution_count": 8
        }
      ]
    },
    {
      "cell_type": "code",
      "metadata": {
        "id": "HbrMidFCla6h"
      },
      "source": [
        "class Module2(nn.Module):\n",
        "  def __init__(self):\n",
        "    super(Module2, self).__init__()\n",
        "    self.linear1 = nn.Linear(2,100)\n",
        "    self.linear2 = nn.Linear(100,3)\n",
        "\n",
        "  def forward(self,x):\n",
        "    x = F.relu(self.linear1(x))\n",
        "    x = self.linear2(x)\n",
        "    return x"
      ],
      "execution_count": 9,
      "outputs": []
    },
    {
      "cell_type": "code",
      "metadata": {
        "id": "rRqj2VELllkX"
      },
      "source": [
        "torch.manual_seed(1234)\n",
        "what_net = Module2().double()\n",
        "\n",
        "what_net.load_state_dict(torch.load(\"type4_what_net.pt\"))\n",
        "what_net = what_net.to(\"cuda\")"
      ],
      "execution_count": 10,
      "outputs": []
    },
    {
      "cell_type": "code",
      "metadata": {
        "id": "sAY-x6UAwrwE"
      },
      "source": [
        "for param in what_net.parameters():\n",
        "    param.requires_grad = False"
      ],
      "execution_count": 11,
      "outputs": []
    },
    {
      "cell_type": "code",
      "metadata": {
        "id": "S633XgMToeN3"
      },
      "source": [
        "optim1 = []\n",
        "for i in range(n_batches):\n",
        "  optim1.append(optim.RMSprop([bg[i]],lr=0.01))"
      ],
      "execution_count": 12,
      "outputs": []
    },
    {
      "cell_type": "code",
      "metadata": {
        "colab": {
          "base_uri": "https://localhost:8080/"
        },
        "id": "qPaYaojinMTA",
        "outputId": "49f78b56-ff6d-4066-f243-14c80c9b5370"
      },
      "source": [
        "# instantiate optimizer\n",
        "#optimizer_what = optim.RMSprop(what_net.parameters(), lr=0.001)#, momentum=0.9)#,nesterov=True)\n",
        "\n",
        "\n",
        " \n",
        "\n",
        "\n",
        "criterion = nn.CrossEntropyLoss()\n",
        "acti = []\n",
        "analysis_data_tr = []\n",
        "analysis_data_tst = []\n",
        "loss_curi_tr = []\n",
        "loss_curi_tst = []\n",
        "epochs = 200\n",
        "\n",
        "\n",
        "# calculate zeroth epoch loss and FTPT values  \n",
        "\n",
        "# call to calculate_attn_loss need to make sure batch size is correct in utils file\n",
        "running_loss,anlys_data,correct,total,accuracy = calculate_attn_loss(train_loader,bg,what_net,criterion)\n",
        "print('training epoch: [%d ] loss: %.3f correct: %.3f, total: %.3f, accuracy: %.3f' %(0,running_loss,correct,total,accuracy)) \n",
        "loss_curi_tr.append(running_loss)\n",
        "analysis_data_tr.append(anlys_data)\n",
        "\n",
        "\n",
        "\n",
        "\n",
        "# training starts \n",
        "for epoch in range(epochs): # loop over the dataset multiple times\n",
        "  ep_lossi = []\n",
        "  running_loss = 0.0\n",
        "  #what_net.train()\n",
        "  for i, data in enumerate(train_loader, 0):\n",
        "    # get the inputs\n",
        "    inputs, labels,_  = data\n",
        "    inputs = inputs.double()\n",
        "    beta = bg[i] # alpha for ith batch\n",
        "    #print(labels)\n",
        "    inputs, labels,beta = inputs.to(\"cuda\"),labels.to(\"cuda\"),beta.to(\"cuda\")\n",
        "        \n",
        "    # zero the parameter gradients\n",
        "    #optimizer_what.zero_grad()\n",
        "    optim1[i].zero_grad()\n",
        "      \n",
        "    # forward + backward + optimize\n",
        "    avg,alpha = attn_avg(inputs,beta)\n",
        "    outputs = what_net(avg)     \n",
        "    loss = criterion(outputs, labels)\n",
        "\n",
        "    # print statistics\n",
        "    running_loss += loss.item()\n",
        "    #alpha.retain_grad()\n",
        "    loss.backward(retain_graph=False)\n",
        "    #optimizer_what.step()\n",
        "    optim1[i].step()\n",
        "\n",
        "\n",
        "  running_loss_tr,anls_data,correct,total,accuracy = calculate_attn_loss(train_loader,bg,what_net,criterion)\n",
        "  analysis_data_tr.append(anls_data)\n",
        "  loss_curi_tr.append(running_loss_tr)   #loss per epoch\n",
        "  print('training epoch: [%d ] loss: %.3f correct: %.3f, total: %.3f, accuracy: %.3f' %(epoch+1,running_loss_tr,correct,total,accuracy)) \n",
        "\n",
        "\n",
        "  \n",
        "  if running_loss_tr<=0.08:\n",
        "    break\n",
        "print('Finished Training run ')\n",
        "analysis_data_tr = np.array(analysis_data_tr)\n",
        "\n"
      ],
      "execution_count": 13,
      "outputs": [
        {
          "output_type": "stream",
          "text": [
            "training epoch: [0 ] loss: 10.382 correct: 1101.000, total: 3000.000, accuracy: 0.367\n",
            "training epoch: [1 ] loss: 8.483 correct: 1330.000, total: 3000.000, accuracy: 0.443\n",
            "training epoch: [2 ] loss: 7.295 correct: 1481.000, total: 3000.000, accuracy: 0.494\n",
            "training epoch: [3 ] loss: 6.412 correct: 1610.000, total: 3000.000, accuracy: 0.537\n",
            "training epoch: [4 ] loss: 5.707 correct: 1689.000, total: 3000.000, accuracy: 0.563\n",
            "training epoch: [5 ] loss: 5.126 correct: 1784.000, total: 3000.000, accuracy: 0.595\n",
            "training epoch: [6 ] loss: 4.635 correct: 1860.000, total: 3000.000, accuracy: 0.620\n",
            "training epoch: [7 ] loss: 4.214 correct: 1929.000, total: 3000.000, accuracy: 0.643\n",
            "training epoch: [8 ] loss: 3.852 correct: 1983.000, total: 3000.000, accuracy: 0.661\n",
            "training epoch: [9 ] loss: 3.537 correct: 2047.000, total: 3000.000, accuracy: 0.682\n",
            "training epoch: [10 ] loss: 3.262 correct: 2099.000, total: 3000.000, accuracy: 0.700\n",
            "training epoch: [11 ] loss: 3.016 correct: 2142.000, total: 3000.000, accuracy: 0.714\n",
            "training epoch: [12 ] loss: 2.796 correct: 2183.000, total: 3000.000, accuracy: 0.728\n",
            "training epoch: [13 ] loss: 2.596 correct: 2217.000, total: 3000.000, accuracy: 0.739\n",
            "training epoch: [14 ] loss: 2.415 correct: 2262.000, total: 3000.000, accuracy: 0.754\n",
            "training epoch: [15 ] loss: 2.250 correct: 2294.000, total: 3000.000, accuracy: 0.765\n",
            "training epoch: [16 ] loss: 2.100 correct: 2322.000, total: 3000.000, accuracy: 0.774\n",
            "training epoch: [17 ] loss: 1.961 correct: 2348.000, total: 3000.000, accuracy: 0.783\n",
            "training epoch: [18 ] loss: 1.835 correct: 2369.000, total: 3000.000, accuracy: 0.790\n",
            "training epoch: [19 ] loss: 1.720 correct: 2395.000, total: 3000.000, accuracy: 0.798\n",
            "training epoch: [20 ] loss: 1.613 correct: 2427.000, total: 3000.000, accuracy: 0.809\n",
            "training epoch: [21 ] loss: 1.515 correct: 2446.000, total: 3000.000, accuracy: 0.815\n",
            "training epoch: [22 ] loss: 1.424 correct: 2471.000, total: 3000.000, accuracy: 0.824\n",
            "training epoch: [23 ] loss: 1.340 correct: 2496.000, total: 3000.000, accuracy: 0.832\n",
            "training epoch: [24 ] loss: 1.262 correct: 2517.000, total: 3000.000, accuracy: 0.839\n",
            "training epoch: [25 ] loss: 1.188 correct: 2530.000, total: 3000.000, accuracy: 0.843\n",
            "training epoch: [26 ] loss: 1.120 correct: 2548.000, total: 3000.000, accuracy: 0.849\n",
            "training epoch: [27 ] loss: 1.056 correct: 2562.000, total: 3000.000, accuracy: 0.854\n",
            "training epoch: [28 ] loss: 0.996 correct: 2576.000, total: 3000.000, accuracy: 0.859\n",
            "training epoch: [29 ] loss: 0.940 correct: 2594.000, total: 3000.000, accuracy: 0.865\n",
            "training epoch: [30 ] loss: 0.887 correct: 2609.000, total: 3000.000, accuracy: 0.870\n",
            "training epoch: [31 ] loss: 0.838 correct: 2626.000, total: 3000.000, accuracy: 0.875\n",
            "training epoch: [32 ] loss: 0.793 correct: 2639.000, total: 3000.000, accuracy: 0.880\n",
            "training epoch: [33 ] loss: 0.751 correct: 2650.000, total: 3000.000, accuracy: 0.883\n",
            "training epoch: [34 ] loss: 0.713 correct: 2660.000, total: 3000.000, accuracy: 0.887\n",
            "training epoch: [35 ] loss: 0.676 correct: 2678.000, total: 3000.000, accuracy: 0.893\n",
            "training epoch: [36 ] loss: 0.642 correct: 2694.000, total: 3000.000, accuracy: 0.898\n",
            "training epoch: [37 ] loss: 0.610 correct: 2704.000, total: 3000.000, accuracy: 0.901\n",
            "training epoch: [38 ] loss: 0.580 correct: 2714.000, total: 3000.000, accuracy: 0.905\n",
            "training epoch: [39 ] loss: 0.551 correct: 2727.000, total: 3000.000, accuracy: 0.909\n",
            "training epoch: [40 ] loss: 0.524 correct: 2740.000, total: 3000.000, accuracy: 0.913\n",
            "training epoch: [41 ] loss: 0.499 correct: 2748.000, total: 3000.000, accuracy: 0.916\n",
            "training epoch: [42 ] loss: 0.476 correct: 2757.000, total: 3000.000, accuracy: 0.919\n",
            "training epoch: [43 ] loss: 0.455 correct: 2766.000, total: 3000.000, accuracy: 0.922\n",
            "training epoch: [44 ] loss: 0.434 correct: 2775.000, total: 3000.000, accuracy: 0.925\n",
            "training epoch: [45 ] loss: 0.415 correct: 2786.000, total: 3000.000, accuracy: 0.929\n",
            "training epoch: [46 ] loss: 0.398 correct: 2793.000, total: 3000.000, accuracy: 0.931\n",
            "training epoch: [47 ] loss: 0.381 correct: 2799.000, total: 3000.000, accuracy: 0.933\n",
            "training epoch: [48 ] loss: 0.365 correct: 2810.000, total: 3000.000, accuracy: 0.937\n",
            "training epoch: [49 ] loss: 0.350 correct: 2819.000, total: 3000.000, accuracy: 0.940\n",
            "training epoch: [50 ] loss: 0.335 correct: 2825.000, total: 3000.000, accuracy: 0.942\n",
            "training epoch: [51 ] loss: 0.322 correct: 2830.000, total: 3000.000, accuracy: 0.943\n",
            "training epoch: [52 ] loss: 0.309 correct: 2835.000, total: 3000.000, accuracy: 0.945\n",
            "training epoch: [53 ] loss: 0.296 correct: 2839.000, total: 3000.000, accuracy: 0.946\n",
            "training epoch: [54 ] loss: 0.285 correct: 2845.000, total: 3000.000, accuracy: 0.948\n",
            "training epoch: [55 ] loss: 0.274 correct: 2847.000, total: 3000.000, accuracy: 0.949\n",
            "training epoch: [56 ] loss: 0.263 correct: 2853.000, total: 3000.000, accuracy: 0.951\n",
            "training epoch: [57 ] loss: 0.254 correct: 2856.000, total: 3000.000, accuracy: 0.952\n",
            "training epoch: [58 ] loss: 0.244 correct: 2861.000, total: 3000.000, accuracy: 0.954\n",
            "training epoch: [59 ] loss: 0.235 correct: 2866.000, total: 3000.000, accuracy: 0.955\n",
            "training epoch: [60 ] loss: 0.227 correct: 2873.000, total: 3000.000, accuracy: 0.958\n",
            "training epoch: [61 ] loss: 0.218 correct: 2879.000, total: 3000.000, accuracy: 0.960\n",
            "training epoch: [62 ] loss: 0.211 correct: 2882.000, total: 3000.000, accuracy: 0.961\n",
            "training epoch: [63 ] loss: 0.203 correct: 2884.000, total: 3000.000, accuracy: 0.961\n",
            "training epoch: [64 ] loss: 0.196 correct: 2888.000, total: 3000.000, accuracy: 0.963\n",
            "training epoch: [65 ] loss: 0.189 correct: 2892.000, total: 3000.000, accuracy: 0.964\n",
            "training epoch: [66 ] loss: 0.183 correct: 2896.000, total: 3000.000, accuracy: 0.965\n",
            "training epoch: [67 ] loss: 0.177 correct: 2902.000, total: 3000.000, accuracy: 0.967\n",
            "training epoch: [68 ] loss: 0.171 correct: 2904.000, total: 3000.000, accuracy: 0.968\n",
            "training epoch: [69 ] loss: 0.165 correct: 2904.000, total: 3000.000, accuracy: 0.968\n",
            "training epoch: [70 ] loss: 0.160 correct: 2907.000, total: 3000.000, accuracy: 0.969\n",
            "training epoch: [71 ] loss: 0.155 correct: 2908.000, total: 3000.000, accuracy: 0.969\n",
            "training epoch: [72 ] loss: 0.150 correct: 2912.000, total: 3000.000, accuracy: 0.971\n",
            "training epoch: [73 ] loss: 0.145 correct: 2915.000, total: 3000.000, accuracy: 0.972\n",
            "training epoch: [74 ] loss: 0.141 correct: 2916.000, total: 3000.000, accuracy: 0.972\n",
            "training epoch: [75 ] loss: 0.136 correct: 2920.000, total: 3000.000, accuracy: 0.973\n",
            "training epoch: [76 ] loss: 0.132 correct: 2922.000, total: 3000.000, accuracy: 0.974\n",
            "training epoch: [77 ] loss: 0.128 correct: 2925.000, total: 3000.000, accuracy: 0.975\n",
            "training epoch: [78 ] loss: 0.125 correct: 2926.000, total: 3000.000, accuracy: 0.975\n",
            "training epoch: [79 ] loss: 0.121 correct: 2929.000, total: 3000.000, accuracy: 0.976\n",
            "training epoch: [80 ] loss: 0.118 correct: 2932.000, total: 3000.000, accuracy: 0.977\n",
            "training epoch: [81 ] loss: 0.115 correct: 2933.000, total: 3000.000, accuracy: 0.978\n",
            "training epoch: [82 ] loss: 0.112 correct: 2938.000, total: 3000.000, accuracy: 0.979\n",
            "training epoch: [83 ] loss: 0.109 correct: 2940.000, total: 3000.000, accuracy: 0.980\n",
            "training epoch: [84 ] loss: 0.106 correct: 2942.000, total: 3000.000, accuracy: 0.981\n",
            "training epoch: [85 ] loss: 0.103 correct: 2943.000, total: 3000.000, accuracy: 0.981\n",
            "training epoch: [86 ] loss: 0.101 correct: 2943.000, total: 3000.000, accuracy: 0.981\n",
            "training epoch: [87 ] loss: 0.098 correct: 2943.000, total: 3000.000, accuracy: 0.981\n",
            "training epoch: [88 ] loss: 0.096 correct: 2943.000, total: 3000.000, accuracy: 0.981\n",
            "training epoch: [89 ] loss: 0.094 correct: 2946.000, total: 3000.000, accuracy: 0.982\n",
            "training epoch: [90 ] loss: 0.091 correct: 2949.000, total: 3000.000, accuracy: 0.983\n",
            "training epoch: [91 ] loss: 0.089 correct: 2949.000, total: 3000.000, accuracy: 0.983\n",
            "training epoch: [92 ] loss: 0.087 correct: 2951.000, total: 3000.000, accuracy: 0.984\n",
            "training epoch: [93 ] loss: 0.085 correct: 2952.000, total: 3000.000, accuracy: 0.984\n",
            "training epoch: [94 ] loss: 0.083 correct: 2953.000, total: 3000.000, accuracy: 0.984\n",
            "training epoch: [95 ] loss: 0.081 correct: 2954.000, total: 3000.000, accuracy: 0.985\n",
            "training epoch: [96 ] loss: 0.080 correct: 2956.000, total: 3000.000, accuracy: 0.985\n",
            "Finished Training run \n"
          ],
          "name": "stdout"
        }
      ]
    },
    {
      "cell_type": "code",
      "metadata": {
        "id": "AciJnAh5nfug"
      },
      "source": [
        "columns = [\"epochs\", \"argmax > 0.5\" ,\"argmax < 0.5\", \"focus_true_pred_true\", \"focus_false_pred_true\", \"focus_true_pred_false\", \"focus_false_pred_false\" ]\n",
        "df_train = pd.DataFrame()\n",
        "df_test = pd.DataFrame()\n",
        "df_train[columns[0]] = np.arange(0,epoch+2)\n",
        "df_train[columns[1]] = analysis_data_tr[:,-2]/30\n",
        "df_train[columns[2]] = analysis_data_tr[:,-1]/30\n",
        "df_train[columns[3]] = analysis_data_tr[:,0]/30\n",
        "df_train[columns[4]] = analysis_data_tr[:,1]/30\n",
        "df_train[columns[5]] = analysis_data_tr[:,2]/30\n",
        "df_train[columns[6]] = analysis_data_tr[:,3]/30"
      ],
      "execution_count": 14,
      "outputs": []
    },
    {
      "cell_type": "code",
      "metadata": {
        "colab": {
          "base_uri": "https://localhost:8080/",
          "height": 456
        },
        "id": "NoQpS_6scRsC",
        "outputId": "c89fa22c-3d97-4f48-fb24-e11fa796a63e"
      },
      "source": [
        "df_train"
      ],
      "execution_count": 15,
      "outputs": [
        {
          "output_type": "execute_result",
          "data": {
            "text/html": [
              "<div>\n",
              "<style scoped>\n",
              "    .dataframe tbody tr th:only-of-type {\n",
              "        vertical-align: middle;\n",
              "    }\n",
              "\n",
              "    .dataframe tbody tr th {\n",
              "        vertical-align: top;\n",
              "    }\n",
              "\n",
              "    .dataframe thead th {\n",
              "        text-align: right;\n",
              "    }\n",
              "</style>\n",
              "<table border=\"1\" class=\"dataframe\">\n",
              "  <thead>\n",
              "    <tr style=\"text-align: right;\">\n",
              "      <th></th>\n",
              "      <th>epochs</th>\n",
              "      <th>argmax &gt; 0.5</th>\n",
              "      <th>argmax &lt; 0.5</th>\n",
              "      <th>focus_true_pred_true</th>\n",
              "      <th>focus_false_pred_true</th>\n",
              "      <th>focus_true_pred_false</th>\n",
              "      <th>focus_false_pred_false</th>\n",
              "    </tr>\n",
              "  </thead>\n",
              "  <tbody>\n",
              "    <tr>\n",
              "      <th>0</th>\n",
              "      <td>0</td>\n",
              "      <td>10.066667</td>\n",
              "      <td>89.933333</td>\n",
              "      <td>5.033333</td>\n",
              "      <td>31.666667</td>\n",
              "      <td>5.466667</td>\n",
              "      <td>57.833333</td>\n",
              "    </tr>\n",
              "    <tr>\n",
              "      <th>1</th>\n",
              "      <td>1</td>\n",
              "      <td>9.200000</td>\n",
              "      <td>90.800000</td>\n",
              "      <td>6.066667</td>\n",
              "      <td>38.266667</td>\n",
              "      <td>5.600000</td>\n",
              "      <td>50.066667</td>\n",
              "    </tr>\n",
              "    <tr>\n",
              "      <th>2</th>\n",
              "      <td>2</td>\n",
              "      <td>8.433333</td>\n",
              "      <td>91.566667</td>\n",
              "      <td>7.066667</td>\n",
              "      <td>42.300000</td>\n",
              "      <td>5.533333</td>\n",
              "      <td>45.100000</td>\n",
              "    </tr>\n",
              "    <tr>\n",
              "      <th>3</th>\n",
              "      <td>3</td>\n",
              "      <td>8.400000</td>\n",
              "      <td>91.600000</td>\n",
              "      <td>7.566667</td>\n",
              "      <td>46.100000</td>\n",
              "      <td>5.733333</td>\n",
              "      <td>40.600000</td>\n",
              "    </tr>\n",
              "    <tr>\n",
              "      <th>4</th>\n",
              "      <td>4</td>\n",
              "      <td>8.333333</td>\n",
              "      <td>91.666667</td>\n",
              "      <td>7.900000</td>\n",
              "      <td>48.400000</td>\n",
              "      <td>6.233333</td>\n",
              "      <td>37.466667</td>\n",
              "    </tr>\n",
              "    <tr>\n",
              "      <th>...</th>\n",
              "      <td>...</td>\n",
              "      <td>...</td>\n",
              "      <td>...</td>\n",
              "      <td>...</td>\n",
              "      <td>...</td>\n",
              "      <td>...</td>\n",
              "      <td>...</td>\n",
              "    </tr>\n",
              "    <tr>\n",
              "      <th>92</th>\n",
              "      <td>92</td>\n",
              "      <td>12.166667</td>\n",
              "      <td>87.833333</td>\n",
              "      <td>17.833333</td>\n",
              "      <td>80.533333</td>\n",
              "      <td>0.400000</td>\n",
              "      <td>1.233333</td>\n",
              "    </tr>\n",
              "    <tr>\n",
              "      <th>93</th>\n",
              "      <td>93</td>\n",
              "      <td>12.200000</td>\n",
              "      <td>87.800000</td>\n",
              "      <td>17.833333</td>\n",
              "      <td>80.566667</td>\n",
              "      <td>0.400000</td>\n",
              "      <td>1.200000</td>\n",
              "    </tr>\n",
              "    <tr>\n",
              "      <th>94</th>\n",
              "      <td>94</td>\n",
              "      <td>12.166667</td>\n",
              "      <td>87.833333</td>\n",
              "      <td>17.766667</td>\n",
              "      <td>80.666667</td>\n",
              "      <td>0.400000</td>\n",
              "      <td>1.166667</td>\n",
              "    </tr>\n",
              "    <tr>\n",
              "      <th>95</th>\n",
              "      <td>95</td>\n",
              "      <td>12.266667</td>\n",
              "      <td>87.733333</td>\n",
              "      <td>17.800000</td>\n",
              "      <td>80.666667</td>\n",
              "      <td>0.366667</td>\n",
              "      <td>1.166667</td>\n",
              "    </tr>\n",
              "    <tr>\n",
              "      <th>96</th>\n",
              "      <td>96</td>\n",
              "      <td>12.266667</td>\n",
              "      <td>87.733333</td>\n",
              "      <td>17.800000</td>\n",
              "      <td>80.733333</td>\n",
              "      <td>0.366667</td>\n",
              "      <td>1.100000</td>\n",
              "    </tr>\n",
              "  </tbody>\n",
              "</table>\n",
              "<p>97 rows × 7 columns</p>\n",
              "</div>"
            ],
            "text/plain": [
              "    epochs  argmax > 0.5  ...  focus_true_pred_false  focus_false_pred_false\n",
              "0        0     10.066667  ...               5.466667               57.833333\n",
              "1        1      9.200000  ...               5.600000               50.066667\n",
              "2        2      8.433333  ...               5.533333               45.100000\n",
              "3        3      8.400000  ...               5.733333               40.600000\n",
              "4        4      8.333333  ...               6.233333               37.466667\n",
              "..     ...           ...  ...                    ...                     ...\n",
              "92      92     12.166667  ...               0.400000                1.233333\n",
              "93      93     12.200000  ...               0.400000                1.200000\n",
              "94      94     12.166667  ...               0.400000                1.166667\n",
              "95      95     12.266667  ...               0.366667                1.166667\n",
              "96      96     12.266667  ...               0.366667                1.100000\n",
              "\n",
              "[97 rows x 7 columns]"
            ]
          },
          "metadata": {
            "tags": []
          },
          "execution_count": 15
        }
      ]
    },
    {
      "cell_type": "code",
      "metadata": {
        "colab": {
          "base_uri": "https://localhost:8080/",
          "height": 421
        },
        "id": "IMAhRdxOcVf6",
        "outputId": "c86394f8-b511-4b7e-92f4-d4df5a239b41"
      },
      "source": [
        "%cd /content/\n",
        "plot_analysis(df_train,columns,[0,25,50,75,100])"
      ],
      "execution_count": 21,
      "outputs": [
        {
          "output_type": "stream",
          "text": [
            "/content\n"
          ],
          "name": "stdout"
        },
        {
          "output_type": "display_data",
          "data": {
            "image/png": "[encoded data removed]",
            "text/plain": [
              "<Figure size 432x432 with 1 Axes>"
            ]
          },
          "metadata": {
            "tags": [],
            "needs_background": "light"
          }
        }
      ]
    },
    {
      "cell_type": "code",
      "metadata": {
        "id": "VCnS6r2_3WdU"
      },
      "source": [
        "aph = []\n",
        "for i in bg:\n",
        "  aph.append(F.softmax(i,dim=1).detach().numpy())\n",
        "aph = np.concatenate(aph,axis=0)\n",
        "# torch.save({\n",
        "#             'epoch': 500,\n",
        "#             'model_state_dict': what_net.state_dict(),\n",
        "#             #'optimizer_state_dict': optimizer_what.state_dict(),\n",
        "#             \"optimizer_alpha\":optim1,\n",
        "#             \"FTPT_analysis\":analysis_data_tr,\n",
        "#             \"alpha\":aph\n",
        "\n",
        "#             }, \"type4_what_net_500.pt\")"
      ],
      "execution_count": 17,
      "outputs": []
    },
    {
      "cell_type": "code",
      "metadata": {
        "colab": {
          "base_uri": "https://localhost:8080/"
        },
        "id": "KVzrDOGS4UxU",
        "outputId": "063c4643-1e9b-41d3-f9d7-d106fc709bde"
      },
      "source": [
        "aph[0]"
      ],
      "execution_count": 18,
      "outputs": [
        {
          "output_type": "execute_result",
          "data": {
            "text/plain": [
              "array([0.03009459, 0.08216983, 0.05678088, 0.08261028, 0.27711546,\n",
              "       0.19178885, 0.08669592, 0.01160724, 0.18113698], dtype=float32)"
            ]
          },
          "metadata": {
            "tags": []
          },
          "execution_count": 18
        }
      ]
    },
    {
      "cell_type": "code",
      "metadata": {
        "id": "7Ut6ZTAXbvqx"
      },
      "source": [
        "avrg = []\n",
        "avrg_lbls = []\n",
        "with torch.no_grad():\n",
        "  for i, data in  enumerate(train_loader):\n",
        "          inputs , labels , fore_idx = data\n",
        "          inputs = inputs.double()\n",
        "          inputs = inputs.to(\"cuda\")\n",
        "          beta  = bg[i]\n",
        "          beta = beta.to(\"cuda\")\n",
        "          avg,alpha = attn_avg(inputs,beta)\n",
        "          \n",
        "          avrg_lbls.append(labels.numpy())\n",
        "          avrg.append(avg.detach().cpu().numpy())\n",
        "avrg= np.concatenate(avrg,axis=0)\n",
        "avrg_lbls = np.concatenate(avrg_lbls,axis=0)"
      ],
      "execution_count": 19,
      "outputs": []
    },
    {
      "cell_type": "code",
      "metadata": {
        "id": "6KHn17Rbceqt",
        "colab": {
          "base_uri": "https://localhost:8080/",
          "height": 408
        },
        "outputId": "bc0452b0-f2b1-4ce0-a91d-5cc41fdb7204"
      },
      "source": [
        "%cd /content/drive/MyDrive/Neural_Tangent_Kernel/\n",
        "data = np.load(\"type_4_data.npy\",allow_pickle=True)\n",
        "%cd /content/\n",
        "plot_decision_boundary(what_net,[1,8,2,9],data,bg,avrg,avrg_lbls)"
      ],
      "execution_count": 20,
      "outputs": [
        {
          "output_type": "stream",
          "text": [
            "/content/drive/MyDrive/Neural_Tangent_Kernel\n",
            "/content\n"
          ],
          "name": "stdout"
        },
        {
          "output_type": "display_data",
          "data": {
            "image/png": "[encoded data removed]",
            "text/plain": [
              "<Figure size 432x432 with 1 Axes>"
            ]
          },
          "metadata": {
            "tags": [],
            "needs_background": "light"
          }
        }
      ]
    },
    {
      "cell_type": "code",
      "metadata": {
        "id": "_210Dg1eAJdE"
      },
      "source": [
        ""
      ],
      "execution_count": 20,
      "outputs": []
    }
  ]
}