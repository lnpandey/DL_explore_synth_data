{
  "nbformat": 4,
  "nbformat_minor": 0,
  "metadata": {
    "accelerator": "GPU",
    "colab": {
      "name": "type4_attention_weights.ipynb",
      "provenance": [],
      "collapsed_sections": []
    },
    "kernelspec": {
      "display_name": "Python 3",
      "name": "python3"
    },
    "language_info": {
      "name": "python"
    }
  },
  "cells": [
    {
      "cell_type": "code",
      "metadata": {
        "colab": {
          "base_uri": "https://localhost:8080/"
        },
        "id": "gMYVR3Ye8KM8",
        "outputId": "3537398b-9d4c-4b9f-8c92-e9169db890d3"
      },
      "source": [
        "from google.colab import drive\n",
        "drive.mount('/content/drive')"
      ],
      "execution_count": 1,
      "outputs": [
        {
          "output_type": "stream",
          "text": [
            "Mounted at /content/drive\n"
          ],
          "name": "stdout"
        }
      ]
    },
    {
      "cell_type": "code",
      "metadata": {
        "colab": {
          "base_uri": "https://localhost:8080/"
        },
        "id": "9_jnQ2Bg80OQ",
        "outputId": "8589d5ea-6c35-45ce-a1f0-65a66a8d138c"
      },
      "source": [
        "%cd /content/drive/MyDrive/Neural_Tangent_Kernel/"
      ],
      "execution_count": 2,
      "outputs": [
        {
          "output_type": "stream",
          "text": [
            "/content/drive/MyDrive/Neural_Tangent_Kernel\n"
          ],
          "name": "stdout"
        }
      ]
    },
    {
      "cell_type": "code",
      "metadata": {
        "id": "BWIyC9Ip_bcq"
      },
      "source": [
        "import numpy as np\n",
        "import pandas as pd\n",
        "\n",
        "import torch\n",
        "import torchvision\n",
        "from torch.utils.data import Dataset, DataLoader\n",
        "from torchvision import transforms, utils\n",
        "import torch.nn as nn\n",
        "import torch.nn.functional as F\n",
        "import torch.optim as optim\n",
        "\n",
        "from matplotlib import pyplot as plt\n",
        "\n",
        "\n",
        "from myrmsprop import MyRmsprop\n",
        "from utils import plot_decision_boundary,attn_avg,plot_analysis\n",
        "from synthetic_dataset import MosaicDataset1\n",
        "from eval_model import calculate_attn_loss,analyse_data\n",
        "\n",
        "\n",
        "\n",
        "%matplotlib inline\n",
        "torch.backends.cudnn.deterministic = True\n",
        "torch.backends.cudnn.benchmark = False"
      ],
      "execution_count": 3,
      "outputs": []
    },
    {
      "cell_type": "code",
      "metadata": {
        "id": "lGVy-1EllAc_"
      },
      "source": [
        "train_data = np.load(\"train_type4_data.npy\",allow_pickle=True)\n",
        "\n",
        "test_data = np.load(\"test_type4_data.npy\",allow_pickle=True)"
      ],
      "execution_count": 4,
      "outputs": []
    },
    {
      "cell_type": "code",
      "metadata": {
        "id": "uL771xuGZC5Q"
      },
      "source": [
        "mosaic_list_of_images = train_data[0][\"mosaic_list\"]\n",
        "mosaic_label = train_data[0][\"mosaic_label\"]\n",
        "fore_idx = train_data[0][\"fore_idx\"]\n",
        "\n",
        "\n",
        "test_mosaic_list_of_images = test_data[0][\"mosaic_list\"]\n",
        "test_mosaic_label = test_data[0][\"mosaic_label\"]\n",
        "test_fore_idx = test_data[0][\"fore_idx\"]"
      ],
      "execution_count": 5,
      "outputs": []
    },
    {
      "cell_type": "code",
      "metadata": {
        "id": "uf76JwkxZCT0"
      },
      "source": [
        "batch = 250\n",
        "train_dataset = MosaicDataset1(mosaic_list_of_images, mosaic_label, fore_idx)\n",
        "train_loader = DataLoader( train_dataset,batch_size= batch ,shuffle=False)\n",
        "#batch = 2000\n",
        "#test_dataset = MosaicDataset1(test_mosaic_list_of_images, test_mosaic_label, test_fore_idx)\n",
        "#test_loader = DataLoader(test_dataset,batch_size= batch ,shuffle=False)"
      ],
      "execution_count": 6,
      "outputs": []
    },
    {
      "cell_type": "code",
      "metadata": {
        "id": "DOpZfj1bq7wN"
      },
      "source": [
        "n_batches = 3000//batch\n",
        "bg = []\n",
        "for i in range(n_batches):\n",
        "  torch.manual_seed(i)\n",
        "  betag =  torch.randn(batch,9) #torch.ones((250,9))/9\n",
        "  bg.append( betag.requires_grad_() )"
      ],
      "execution_count": 7,
      "outputs": []
    },
    {
      "cell_type": "code",
      "metadata": {
        "colab": {
          "base_uri": "https://localhost:8080/"
        },
        "id": "fzb3ii4drXpu",
        "outputId": "75937115-735b-4abf-cca6-445e25f4152c"
      },
      "source": [
        " bg"
      ],
      "execution_count": 8,
      "outputs": [
        {
          "output_type": "execute_result",
          "data": {
            "text/plain": [
              "[tensor([[-1.1258, -1.1524, -0.2506,  ..., -0.3160, -2.1152,  0.3223],\n",
              "         [-1.2633,  0.3500,  0.3081,  ..., -0.2473, -1.3527, -1.6959],\n",
              "         [ 0.5667,  0.7935,  0.5988,  ...,  0.7502, -0.5855, -0.1734],\n",
              "         ...,\n",
              "         [ 0.8374, -0.7942, -0.3622,  ...,  0.0121,  0.8032, -0.6962],\n",
              "         [-1.0645,  0.2384, -0.3385,  ...,  0.9635, -1.0340,  0.1894],\n",
              "         [ 0.8253,  1.1038, -1.2491,  ..., -0.5940, -1.7125,  0.3617]],\n",
              "        requires_grad=True),\n",
              " tensor([[-1.5256, -0.7502, -0.6540,  ..., -0.9798, -1.6091, -0.7121],\n",
              "         [ 0.3037, -0.7773, -0.2515,  ...,  0.4676, -0.6970, -1.1608],\n",
              "         [ 0.6995,  0.1991,  0.8657,  ...,  1.1017, -0.1759, -2.2456],\n",
              "         ...,\n",
              "         [-0.4302,  0.1508,  0.6937,  ...,  0.0314,  2.6645,  0.1189],\n",
              "         [ 1.4484, -0.0213, -1.3367,  ...,  0.6279, -1.4719, -1.0291],\n",
              "         [ 0.9081, -1.2433,  1.6062,  ..., -0.1177, -0.5548, -0.0595]],\n",
              "        requires_grad=True),\n",
              " tensor([[-1.0408,  0.9166, -1.3042,  ..., -1.0574, -0.1188, -0.9078],\n",
              "         [ 0.3452, -0.5713, -0.2351,  ..., -0.4327, -1.5071, -0.4586],\n",
              "         [-0.8480,  0.5266,  0.0299,  ...,  0.4640, -0.4986,  0.1289],\n",
              "         ...,\n",
              "         [ 1.5719,  1.0154, -2.1620,  ..., -1.0790,  1.5801, -1.6557],\n",
              "         [-1.1613,  0.3672, -0.3078,  ..., -1.2456, -0.1125,  0.6222],\n",
              "         [ 0.4521, -0.2505,  2.3728,  ..., -0.1377, -0.8815, -0.1671]],\n",
              "        requires_grad=True),\n",
              " tensor([[-0.0766,  0.3599, -0.7820,  ...,  1.6206, -1.5967, -0.0517],\n",
              "         [-0.3060,  0.2485, -0.2226,  ...,  0.4163,  0.2615,  0.9311],\n",
              "         [-0.5145, -1.6517,  1.0460,  ...,  0.5638,  2.2566,  1.8693],\n",
              "         ...,\n",
              "         [ 2.1181,  0.1464, -0.0447,  ...,  1.3816,  0.4975,  0.2814],\n",
              "         [-0.7639, -1.4938, -1.1430,  ...,  0.6355,  0.6700,  1.5335],\n",
              "         [-0.0191, -0.3568,  0.4536,  ..., -0.9493,  2.0439, -0.3827]],\n",
              "        requires_grad=True),\n",
              " tensor([[-0.9414,  1.2632, -0.1838,  ..., -2.6021,  0.6245, -0.8684],\n",
              "         [-0.2051,  0.3976,  0.6699,  ..., -2.1205,  1.5191, -0.6682],\n",
              "         [ 0.0031, -0.1535,  1.1396,  ..., -0.7588, -0.1853, -0.8558],\n",
              "         ...,\n",
              "         [ 1.6794, -0.5509,  0.4118,  ...,  0.9084, -0.8626, -0.6553],\n",
              "         [ 0.6058, -0.5888,  0.9448,  ...,  0.0072, -0.2579,  1.7659],\n",
              "         [-1.2965,  0.2970, -0.5833,  ...,  1.7838, -0.4794,  0.5579]],\n",
              "        requires_grad=True),\n",
              " tensor([[ 1.8423,  0.5189, -1.7119,  ..., -0.1307, -1.4374,  0.3908],\n",
              "         [-0.0190, -1.3527, -0.7308,  ..., -0.7823,  2.7799,  1.2220],\n",
              "         [-0.3364, -0.9651, -0.1297,  ..., -0.4374,  0.7792, -0.0583],\n",
              "         ...,\n",
              "         [ 0.6700, -0.5400,  0.2353,  ..., -1.0840, -0.6141, -0.0155],\n",
              "         [ 0.4779, -0.4648, -0.1366,  ...,  0.1162,  3.0351, -0.2885],\n",
              "         [-0.6777, -0.1373, -0.7330,  ...,  0.6185, -0.3036, -1.0850]],\n",
              "        requires_grad=True),\n",
              " tensor([[-1.2113,  0.6304, -1.4713,  ...,  0.3295,  0.3264, -0.4806],\n",
              "         [ 1.1032,  2.5485,  0.3006,  ..., -1.6279, -1.4801, -1.0631],\n",
              "         [ 0.3630,  0.3995,  0.1457,  ..., -1.3437,  0.8535,  0.8811],\n",
              "         ...,\n",
              "         [-0.5519,  0.2253,  0.4891,  ..., -0.0110, -0.6023, -0.7230],\n",
              "         [-1.1593, -0.6551,  1.6578,  ...,  0.4795, -1.3562,  0.2920],\n",
              "         [ 0.3474, -0.9874, -0.0130,  ...,  0.6061,  0.8639, -0.9552]],\n",
              "        requires_grad=True),\n",
              " tensor([[-0.8201,  0.3956,  0.8989,  ..., -0.6411, -0.8937,  0.9265],\n",
              "         [-0.5355, -1.1597, -0.4602,  ...,  1.0902, -1.5827, -0.3246],\n",
              "         [ 1.9264, -0.3300,  0.1984,  ..., -0.2093, -0.2153, -1.8157],\n",
              "         ...,\n",
              "         [-0.6910,  0.3328,  2.2102,  ..., -0.0383,  0.4400, -0.8350],\n",
              "         [-0.2194, -0.7611, -0.0921,  ..., -0.3143, -0.4196,  1.1570],\n",
              "         [-0.8934, -1.7705,  0.3805,  ...,  0.1963, -0.7307,  1.3581]],\n",
              "        requires_grad=True),\n",
              " tensor([[-1.1892,  1.3932,  2.1059,  ...,  2.1414,  0.1317, -0.6388],\n",
              "         [ 1.3384, -1.1908, -0.7601,  ..., -0.1051,  0.4414,  0.6590],\n",
              "         [-0.7585, -0.6001, -0.3948,  ..., -1.7526,  0.3920,  0.8295],\n",
              "         ...,\n",
              "         [-0.0557, -0.1032, -0.4624,  ..., -0.1339, -1.6662, -0.4955],\n",
              "         [ 1.0884, -0.4479, -0.0847,  ...,  1.7487, -1.6152, -1.8258],\n",
              "         [ 1.7062,  1.1041, -1.3736,  ..., -1.5244,  0.4869, -1.7420]],\n",
              "        requires_grad=True),\n",
              " tensor([[-1.0674, -0.7172,  1.0897,  ..., -0.7737, -2.4656,  0.9968],\n",
              "         [ 0.4524, -0.3464, -0.7245,  ...,  0.2331, -1.1433,  0.8289],\n",
              "         [ 0.9534,  0.2948,  1.5159,  ...,  0.3971,  0.4058, -0.5274],\n",
              "         ...,\n",
              "         [-0.3297, -0.3700,  1.9490,  ..., -0.0443,  1.8073, -0.6388],\n",
              "         [ 0.0977,  0.1862,  1.4303,  ..., -1.9735, -1.1663,  1.7066],\n",
              "         [-0.8396, -2.5271, -1.0791,  ...,  0.1053,  1.2463, -0.7709]],\n",
              "        requires_grad=True),\n",
              " tensor([[-0.8173, -0.5556, -0.8267,  ..., -0.5133,  2.6278, -0.7465],\n",
              "         [ 1.0051, -0.2568,  0.4765,  ..., -0.2496,  0.8298,  1.1209],\n",
              "         [ 0.9999,  1.1167,  1.0763,  ...,  0.0562,  0.2456,  0.9535],\n",
              "         ...,\n",
              "         [-1.0042, -0.7732,  0.9129,  ..., -0.4342,  1.3256, -0.6357],\n",
              "         [-0.5979,  1.2285,  1.0288,  ..., -1.4067,  0.2403,  0.5257],\n",
              "         [-1.7332, -0.2443,  0.1425,  ..., -0.9291,  1.4324, -0.2338]],\n",
              "        requires_grad=True),\n",
              " tensor([[-0.5108,  1.0283, -0.3532,  ...,  0.1421, -0.5243, -0.2487],\n",
              "         [-0.5252,  2.8922, -0.5947,  ..., -0.0080,  0.2479,  1.5727],\n",
              "         [-1.6395, -1.5925, -0.1546,  ..., -0.3935,  0.6171,  0.7528],\n",
              "         ...,\n",
              "         [-0.3538,  0.1294,  1.1873,  ..., -0.2866, -0.3111,  0.2674],\n",
              "         [ 1.7757, -0.1730,  0.6679,  ..., -0.2519,  0.8360, -0.4348],\n",
              "         [ 0.4242,  0.7649, -0.5807,  ..., -0.7654, -0.1086,  0.4636]],\n",
              "        requires_grad=True)]"
            ]
          },
          "metadata": {
            "tags": []
          },
          "execution_count": 8
        }
      ]
    },
    {
      "cell_type": "code",
      "metadata": {
        "id": "HbrMidFCla6h"
      },
      "source": [
        "class Module2(nn.Module):\n",
        "  def __init__(self):\n",
        "    super(Module2, self).__init__()\n",
        "    self.linear1 = nn.Linear(2,100)\n",
        "    self.linear2 = nn.Linear(100,3)\n",
        "\n",
        "  def forward(self,x):\n",
        "    x = F.relu(self.linear1(x))\n",
        "    x = self.linear2(x)\n",
        "    return x"
      ],
      "execution_count": 9,
      "outputs": []
    },
    {
      "cell_type": "code",
      "metadata": {
        "id": "rRqj2VELllkX"
      },
      "source": [
        "torch.manual_seed(1234)\n",
        "what_net = Module2().double()\n",
        "\n",
        "what_net.load_state_dict(torch.load(\"type4_what_net.pt\"))\n",
        "what_net = what_net.to(\"cuda\")"
      ],
      "execution_count": 10,
      "outputs": []
    },
    {
      "cell_type": "code",
      "metadata": {
        "id": "sAY-x6UAwrwE"
      },
      "source": [
        "# for param in what_net.parameters():\n",
        "#     param.requires_grad = False"
      ],
      "execution_count": 11,
      "outputs": []
    },
    {
      "cell_type": "code",
      "metadata": {
        "id": "S633XgMToeN3"
      },
      "source": [
        "optim1 = []\n",
        "for i in range(n_batches):\n",
        "  optim1.append(optim.RMSprop([bg[i]],lr=0.01))"
      ],
      "execution_count": 12,
      "outputs": []
    },
    {
      "cell_type": "code",
      "metadata": {
        "colab": {
          "base_uri": "https://localhost:8080/"
        },
        "id": "qPaYaojinMTA",
        "outputId": "2a123072-bf02-48c8-9667-c70558c12c3f"
      },
      "source": [
        "# instantiate optimizer\n",
        "optimizer_what = optim.RMSprop(what_net.parameters(), lr=0.001)#, momentum=0.9)#,nesterov=True)\n",
        "\n",
        "\n",
        " \n",
        "\n",
        "\n",
        "criterion = nn.CrossEntropyLoss()\n",
        "acti = []\n",
        "analysis_data_tr = []\n",
        "analysis_data_tst = []\n",
        "loss_curi_tr = []\n",
        "loss_curi_tst = []\n",
        "epochs = 200\n",
        "\n",
        "\n",
        "# calculate zeroth epoch loss and FTPT values  \n",
        "\n",
        "# call to calculate_attn_loss need to make sure batch size is correct in utils file\n",
        "running_loss,anlys_data,correct,total,accuracy = calculate_attn_loss(train_loader,bg,what_net,criterion)\n",
        "print('training epoch: [%d ] loss: %.3f correct: %.3f, total: %.3f, accuracy: %.3f' %(0,running_loss,correct,total,accuracy)) \n",
        "loss_curi_tr.append(running_loss)\n",
        "analysis_data_tr.append(anlys_data)\n",
        "\n",
        "\n",
        "\n",
        "\n",
        "# training starts \n",
        "for epoch in range(epochs): # loop over the dataset multiple times\n",
        "  ep_lossi = []\n",
        "  running_loss = 0.0\n",
        "  what_net.train()\n",
        "  for i, data in enumerate(train_loader, 0):\n",
        "    # get the inputs\n",
        "    inputs, labels,_  = data\n",
        "    inputs = inputs.double()\n",
        "    beta = bg[i] # alpha for ith batch\n",
        "    #print(labels)\n",
        "    inputs, labels,beta = inputs.to(\"cuda\"),labels.to(\"cuda\"),beta.to(\"cuda\")\n",
        "        \n",
        "    # zero the parameter gradients\n",
        "    optimizer_what.zero_grad()\n",
        "    optim1[i].zero_grad()\n",
        "      \n",
        "    # forward + backward + optimize\n",
        "    avg,alpha = attn_avg(inputs,beta)\n",
        "    outputs = what_net(avg)     \n",
        "    loss = criterion(outputs, labels)\n",
        "\n",
        "    # print statistics\n",
        "    running_loss += loss.item()\n",
        "    #alpha.retain_grad()\n",
        "    loss.backward(retain_graph=False)\n",
        "    optimizer_what.step()\n",
        "    optim1[i].step()\n",
        "\n",
        "\n",
        "  running_loss_tr,anls_data,correct,total,accuracy = calculate_attn_loss(train_loader,bg,what_net,criterion)\n",
        "  analysis_data_tr.append(anls_data)\n",
        "  loss_curi_tr.append(running_loss_tr)   #loss per epoch\n",
        "  print('training epoch: [%d ] loss: %.3f correct: %.3f, total: %.3f, accuracy: %.3f' %(epoch+1,running_loss_tr,correct,total,accuracy)) \n",
        "\n",
        "\n",
        "  \n",
        "  if running_loss_tr<=0.08:\n",
        "    break\n",
        "print('Finished Training run ')\n",
        "analysis_data_tr = np.array(analysis_data_tr)\n",
        "\n"
      ],
      "execution_count": 13,
      "outputs": [
        {
          "output_type": "stream",
          "text": [
            "training epoch: [0 ] loss: 10.382 correct: 1101.000, total: 3000.000, accuracy: 0.367\n",
            "training epoch: [1 ] loss: 5.143 correct: 1346.000, total: 3000.000, accuracy: 0.449\n",
            "training epoch: [2 ] loss: 3.201 correct: 1426.000, total: 3000.000, accuracy: 0.475\n",
            "training epoch: [3 ] loss: 2.294 correct: 1496.000, total: 3000.000, accuracy: 0.499\n",
            "training epoch: [4 ] loss: 1.812 correct: 1527.000, total: 3000.000, accuracy: 0.509\n",
            "training epoch: [5 ] loss: 1.539 correct: 1549.000, total: 3000.000, accuracy: 0.516\n",
            "training epoch: [6 ] loss: 1.374 correct: 1592.000, total: 3000.000, accuracy: 0.531\n",
            "training epoch: [7 ] loss: 1.261 correct: 1611.000, total: 3000.000, accuracy: 0.537\n",
            "training epoch: [8 ] loss: 1.180 correct: 1627.000, total: 3000.000, accuracy: 0.542\n",
            "training epoch: [9 ] loss: 1.117 correct: 1646.000, total: 3000.000, accuracy: 0.549\n",
            "training epoch: [10 ] loss: 1.067 correct: 1664.000, total: 3000.000, accuracy: 0.555\n",
            "training epoch: [11 ] loss: 1.024 correct: 1692.000, total: 3000.000, accuracy: 0.564\n",
            "training epoch: [12 ] loss: 0.987 correct: 1708.000, total: 3000.000, accuracy: 0.569\n",
            "training epoch: [13 ] loss: 0.957 correct: 1724.000, total: 3000.000, accuracy: 0.575\n",
            "training epoch: [14 ] loss: 0.929 correct: 1741.000, total: 3000.000, accuracy: 0.580\n",
            "training epoch: [15 ] loss: 0.904 correct: 1763.000, total: 3000.000, accuracy: 0.588\n",
            "training epoch: [16 ] loss: 0.882 correct: 1782.000, total: 3000.000, accuracy: 0.594\n",
            "training epoch: [17 ] loss: 0.862 correct: 1790.000, total: 3000.000, accuracy: 0.597\n",
            "training epoch: [18 ] loss: 0.843 correct: 1812.000, total: 3000.000, accuracy: 0.604\n",
            "training epoch: [19 ] loss: 0.826 correct: 1815.000, total: 3000.000, accuracy: 0.605\n",
            "training epoch: [20 ] loss: 0.809 correct: 1825.000, total: 3000.000, accuracy: 0.608\n",
            "training epoch: [21 ] loss: 0.794 correct: 1841.000, total: 3000.000, accuracy: 0.614\n",
            "training epoch: [22 ] loss: 0.780 correct: 1849.000, total: 3000.000, accuracy: 0.616\n",
            "training epoch: [23 ] loss: 0.767 correct: 1862.000, total: 3000.000, accuracy: 0.621\n",
            "training epoch: [24 ] loss: 0.754 correct: 1887.000, total: 3000.000, accuracy: 0.629\n",
            "training epoch: [25 ] loss: 0.742 correct: 1895.000, total: 3000.000, accuracy: 0.632\n",
            "training epoch: [26 ] loss: 0.730 correct: 1911.000, total: 3000.000, accuracy: 0.637\n",
            "training epoch: [27 ] loss: 0.719 correct: 1918.000, total: 3000.000, accuracy: 0.639\n",
            "training epoch: [28 ] loss: 0.708 correct: 1929.000, total: 3000.000, accuracy: 0.643\n",
            "training epoch: [29 ] loss: 0.697 correct: 1945.000, total: 3000.000, accuracy: 0.648\n",
            "training epoch: [30 ] loss: 0.687 correct: 1965.000, total: 3000.000, accuracy: 0.655\n",
            "training epoch: [31 ] loss: 0.677 correct: 1973.000, total: 3000.000, accuracy: 0.658\n",
            "training epoch: [32 ] loss: 0.668 correct: 1986.000, total: 3000.000, accuracy: 0.662\n",
            "training epoch: [33 ] loss: 0.658 correct: 1994.000, total: 3000.000, accuracy: 0.665\n",
            "training epoch: [34 ] loss: 0.649 correct: 2010.000, total: 3000.000, accuracy: 0.670\n",
            "training epoch: [35 ] loss: 0.640 correct: 2020.000, total: 3000.000, accuracy: 0.673\n",
            "training epoch: [36 ] loss: 0.632 correct: 2031.000, total: 3000.000, accuracy: 0.677\n",
            "training epoch: [37 ] loss: 0.623 correct: 2041.000, total: 3000.000, accuracy: 0.680\n",
            "training epoch: [38 ] loss: 0.615 correct: 2053.000, total: 3000.000, accuracy: 0.684\n",
            "training epoch: [39 ] loss: 0.607 correct: 2066.000, total: 3000.000, accuracy: 0.689\n",
            "training epoch: [40 ] loss: 0.599 correct: 2074.000, total: 3000.000, accuracy: 0.691\n",
            "training epoch: [41 ] loss: 0.591 correct: 2075.000, total: 3000.000, accuracy: 0.692\n",
            "training epoch: [42 ] loss: 0.583 correct: 2087.000, total: 3000.000, accuracy: 0.696\n",
            "training epoch: [43 ] loss: 0.575 correct: 2098.000, total: 3000.000, accuracy: 0.699\n",
            "training epoch: [44 ] loss: 0.567 correct: 2104.000, total: 3000.000, accuracy: 0.701\n",
            "training epoch: [45 ] loss: 0.560 correct: 2116.000, total: 3000.000, accuracy: 0.705\n",
            "training epoch: [46 ] loss: 0.553 correct: 2122.000, total: 3000.000, accuracy: 0.707\n",
            "training epoch: [47 ] loss: 0.546 correct: 2135.000, total: 3000.000, accuracy: 0.712\n",
            "training epoch: [48 ] loss: 0.539 correct: 2146.000, total: 3000.000, accuracy: 0.715\n",
            "training epoch: [49 ] loss: 0.533 correct: 2159.000, total: 3000.000, accuracy: 0.720\n",
            "training epoch: [50 ] loss: 0.526 correct: 2171.000, total: 3000.000, accuracy: 0.724\n",
            "training epoch: [51 ] loss: 0.520 correct: 2193.000, total: 3000.000, accuracy: 0.731\n",
            "training epoch: [52 ] loss: 0.514 correct: 2202.000, total: 3000.000, accuracy: 0.734\n",
            "training epoch: [53 ] loss: 0.508 correct: 2217.000, total: 3000.000, accuracy: 0.739\n",
            "training epoch: [54 ] loss: 0.502 correct: 2228.000, total: 3000.000, accuracy: 0.743\n",
            "training epoch: [55 ] loss: 0.496 correct: 2241.000, total: 3000.000, accuracy: 0.747\n",
            "training epoch: [56 ] loss: 0.490 correct: 2260.000, total: 3000.000, accuracy: 0.753\n",
            "training epoch: [57 ] loss: 0.484 correct: 2264.000, total: 3000.000, accuracy: 0.755\n",
            "training epoch: [58 ] loss: 0.479 correct: 2281.000, total: 3000.000, accuracy: 0.760\n",
            "training epoch: [59 ] loss: 0.473 correct: 2290.000, total: 3000.000, accuracy: 0.763\n",
            "training epoch: [60 ] loss: 0.468 correct: 2299.000, total: 3000.000, accuracy: 0.766\n",
            "training epoch: [61 ] loss: 0.463 correct: 2312.000, total: 3000.000, accuracy: 0.771\n",
            "training epoch: [62 ] loss: 0.457 correct: 2328.000, total: 3000.000, accuracy: 0.776\n",
            "training epoch: [63 ] loss: 0.452 correct: 2338.000, total: 3000.000, accuracy: 0.779\n",
            "training epoch: [64 ] loss: 0.446 correct: 2354.000, total: 3000.000, accuracy: 0.785\n",
            "training epoch: [65 ] loss: 0.441 correct: 2368.000, total: 3000.000, accuracy: 0.789\n",
            "training epoch: [66 ] loss: 0.435 correct: 2378.000, total: 3000.000, accuracy: 0.793\n",
            "training epoch: [67 ] loss: 0.430 correct: 2386.000, total: 3000.000, accuracy: 0.795\n",
            "training epoch: [68 ] loss: 0.424 correct: 2398.000, total: 3000.000, accuracy: 0.799\n",
            "training epoch: [69 ] loss: 0.419 correct: 2411.000, total: 3000.000, accuracy: 0.804\n",
            "training epoch: [70 ] loss: 0.414 correct: 2424.000, total: 3000.000, accuracy: 0.808\n",
            "training epoch: [71 ] loss: 0.409 correct: 2435.000, total: 3000.000, accuracy: 0.812\n",
            "training epoch: [72 ] loss: 0.404 correct: 2442.000, total: 3000.000, accuracy: 0.814\n",
            "training epoch: [73 ] loss: 0.399 correct: 2454.000, total: 3000.000, accuracy: 0.818\n",
            "training epoch: [74 ] loss: 0.394 correct: 2463.000, total: 3000.000, accuracy: 0.821\n",
            "training epoch: [75 ] loss: 0.389 correct: 2478.000, total: 3000.000, accuracy: 0.826\n",
            "training epoch: [76 ] loss: 0.384 correct: 2489.000, total: 3000.000, accuracy: 0.830\n",
            "training epoch: [77 ] loss: 0.379 correct: 2495.000, total: 3000.000, accuracy: 0.832\n",
            "training epoch: [78 ] loss: 0.374 correct: 2505.000, total: 3000.000, accuracy: 0.835\n",
            "training epoch: [79 ] loss: 0.370 correct: 2514.000, total: 3000.000, accuracy: 0.838\n",
            "training epoch: [80 ] loss: 0.365 correct: 2527.000, total: 3000.000, accuracy: 0.842\n",
            "training epoch: [81 ] loss: 0.360 correct: 2534.000, total: 3000.000, accuracy: 0.845\n",
            "training epoch: [82 ] loss: 0.355 correct: 2554.000, total: 3000.000, accuracy: 0.851\n",
            "training epoch: [83 ] loss: 0.350 correct: 2565.000, total: 3000.000, accuracy: 0.855\n",
            "training epoch: [84 ] loss: 0.337 correct: 2570.000, total: 3000.000, accuracy: 0.857\n",
            "training epoch: [85 ] loss: 0.330 correct: 2583.000, total: 3000.000, accuracy: 0.861\n",
            "training epoch: [86 ] loss: 0.325 correct: 2596.000, total: 3000.000, accuracy: 0.865\n",
            "training epoch: [87 ] loss: 0.320 correct: 2609.000, total: 3000.000, accuracy: 0.870\n",
            "training epoch: [88 ] loss: 0.314 correct: 2622.000, total: 3000.000, accuracy: 0.874\n",
            "training epoch: [89 ] loss: 0.310 correct: 2632.000, total: 3000.000, accuracy: 0.877\n",
            "training epoch: [90 ] loss: 0.306 correct: 2643.000, total: 3000.000, accuracy: 0.881\n",
            "training epoch: [91 ] loss: 0.301 correct: 2654.000, total: 3000.000, accuracy: 0.885\n",
            "training epoch: [92 ] loss: 0.297 correct: 2664.000, total: 3000.000, accuracy: 0.888\n",
            "training epoch: [93 ] loss: 0.292 correct: 2674.000, total: 3000.000, accuracy: 0.891\n",
            "training epoch: [94 ] loss: 0.288 correct: 2677.000, total: 3000.000, accuracy: 0.892\n",
            "training epoch: [95 ] loss: 0.283 correct: 2683.000, total: 3000.000, accuracy: 0.894\n",
            "training epoch: [96 ] loss: 0.279 correct: 2692.000, total: 3000.000, accuracy: 0.897\n",
            "training epoch: [97 ] loss: 0.274 correct: 2696.000, total: 3000.000, accuracy: 0.899\n",
            "training epoch: [98 ] loss: 0.270 correct: 2700.000, total: 3000.000, accuracy: 0.900\n",
            "training epoch: [99 ] loss: 0.266 correct: 2706.000, total: 3000.000, accuracy: 0.902\n",
            "training epoch: [100 ] loss: 0.261 correct: 2713.000, total: 3000.000, accuracy: 0.904\n",
            "training epoch: [101 ] loss: 0.257 correct: 2724.000, total: 3000.000, accuracy: 0.908\n",
            "training epoch: [102 ] loss: 0.253 correct: 2729.000, total: 3000.000, accuracy: 0.910\n",
            "training epoch: [103 ] loss: 0.249 correct: 2735.000, total: 3000.000, accuracy: 0.912\n",
            "training epoch: [104 ] loss: 0.245 correct: 2744.000, total: 3000.000, accuracy: 0.915\n",
            "training epoch: [105 ] loss: 0.241 correct: 2748.000, total: 3000.000, accuracy: 0.916\n",
            "training epoch: [106 ] loss: 0.237 correct: 2751.000, total: 3000.000, accuracy: 0.917\n",
            "training epoch: [107 ] loss: 0.233 correct: 2759.000, total: 3000.000, accuracy: 0.920\n",
            "training epoch: [108 ] loss: 0.229 correct: 2763.000, total: 3000.000, accuracy: 0.921\n",
            "training epoch: [109 ] loss: 0.225 correct: 2768.000, total: 3000.000, accuracy: 0.923\n",
            "training epoch: [110 ] loss: 0.221 correct: 2774.000, total: 3000.000, accuracy: 0.925\n",
            "training epoch: [111 ] loss: 0.218 correct: 2784.000, total: 3000.000, accuracy: 0.928\n",
            "training epoch: [112 ] loss: 0.214 correct: 2785.000, total: 3000.000, accuracy: 0.928\n",
            "training epoch: [113 ] loss: 0.210 correct: 2789.000, total: 3000.000, accuracy: 0.930\n",
            "training epoch: [114 ] loss: 0.207 correct: 2795.000, total: 3000.000, accuracy: 0.932\n",
            "training epoch: [115 ] loss: 0.203 correct: 2801.000, total: 3000.000, accuracy: 0.934\n",
            "training epoch: [116 ] loss: 0.199 correct: 2806.000, total: 3000.000, accuracy: 0.935\n",
            "training epoch: [117 ] loss: 0.195 correct: 2813.000, total: 3000.000, accuracy: 0.938\n",
            "training epoch: [118 ] loss: 0.192 correct: 2818.000, total: 3000.000, accuracy: 0.939\n",
            "training epoch: [119 ] loss: 0.188 correct: 2823.000, total: 3000.000, accuracy: 0.941\n",
            "training epoch: [120 ] loss: 0.185 correct: 2823.000, total: 3000.000, accuracy: 0.941\n",
            "training epoch: [121 ] loss: 0.181 correct: 2827.000, total: 3000.000, accuracy: 0.942\n",
            "training epoch: [122 ] loss: 0.177 correct: 2831.000, total: 3000.000, accuracy: 0.944\n",
            "training epoch: [123 ] loss: 0.173 correct: 2844.000, total: 3000.000, accuracy: 0.948\n",
            "training epoch: [124 ] loss: 0.170 correct: 2851.000, total: 3000.000, accuracy: 0.950\n",
            "training epoch: [125 ] loss: 0.166 correct: 2854.000, total: 3000.000, accuracy: 0.951\n",
            "training epoch: [126 ] loss: 0.163 correct: 2855.000, total: 3000.000, accuracy: 0.952\n",
            "training epoch: [127 ] loss: 0.160 correct: 2859.000, total: 3000.000, accuracy: 0.953\n",
            "training epoch: [128 ] loss: 0.156 correct: 2866.000, total: 3000.000, accuracy: 0.955\n",
            "training epoch: [129 ] loss: 0.152 correct: 2872.000, total: 3000.000, accuracy: 0.957\n",
            "training epoch: [130 ] loss: 0.149 correct: 2878.000, total: 3000.000, accuracy: 0.959\n",
            "training epoch: [131 ] loss: 0.145 correct: 2883.000, total: 3000.000, accuracy: 0.961\n",
            "training epoch: [132 ] loss: 0.142 correct: 2888.000, total: 3000.000, accuracy: 0.963\n",
            "training epoch: [133 ] loss: 0.138 correct: 2896.000, total: 3000.000, accuracy: 0.965\n",
            "training epoch: [134 ] loss: 0.135 correct: 2902.000, total: 3000.000, accuracy: 0.967\n",
            "training epoch: [135 ] loss: 0.132 correct: 2911.000, total: 3000.000, accuracy: 0.970\n",
            "training epoch: [136 ] loss: 0.128 correct: 2916.000, total: 3000.000, accuracy: 0.972\n",
            "training epoch: [137 ] loss: 0.125 correct: 2923.000, total: 3000.000, accuracy: 0.974\n",
            "training epoch: [138 ] loss: 0.122 correct: 2930.000, total: 3000.000, accuracy: 0.977\n",
            "training epoch: [139 ] loss: 0.119 correct: 2931.000, total: 3000.000, accuracy: 0.977\n",
            "training epoch: [140 ] loss: 0.115 correct: 2934.000, total: 3000.000, accuracy: 0.978\n",
            "training epoch: [141 ] loss: 0.112 correct: 2938.000, total: 3000.000, accuracy: 0.979\n",
            "training epoch: [142 ] loss: 0.109 correct: 2942.000, total: 3000.000, accuracy: 0.981\n",
            "training epoch: [143 ] loss: 0.106 correct: 2945.000, total: 3000.000, accuracy: 0.982\n",
            "training epoch: [144 ] loss: 0.103 correct: 2948.000, total: 3000.000, accuracy: 0.983\n",
            "training epoch: [145 ] loss: 0.101 correct: 2949.000, total: 3000.000, accuracy: 0.983\n",
            "training epoch: [146 ] loss: 0.098 correct: 2952.000, total: 3000.000, accuracy: 0.984\n",
            "training epoch: [147 ] loss: 0.095 correct: 2956.000, total: 3000.000, accuracy: 0.985\n",
            "training epoch: [148 ] loss: 0.092 correct: 2961.000, total: 3000.000, accuracy: 0.987\n",
            "training epoch: [149 ] loss: 0.090 correct: 2964.000, total: 3000.000, accuracy: 0.988\n",
            "training epoch: [150 ] loss: 0.087 correct: 2965.000, total: 3000.000, accuracy: 0.988\n",
            "training epoch: [151 ] loss: 0.085 correct: 2967.000, total: 3000.000, accuracy: 0.989\n",
            "training epoch: [152 ] loss: 0.082 correct: 2969.000, total: 3000.000, accuracy: 0.990\n",
            "training epoch: [153 ] loss: 0.080 correct: 2971.000, total: 3000.000, accuracy: 0.990\n",
            "Finished Training run \n"
          ],
          "name": "stdout"
        }
      ]
    },
    {
      "cell_type": "code",
      "metadata": {
        "id": "AciJnAh5nfug"
      },
      "source": [
        "columns = [\"epochs\", \"argmax > 0.5\" ,\"argmax < 0.5\", \"focus_true_pred_true\", \"focus_false_pred_true\", \"focus_true_pred_false\", \"focus_false_pred_false\" ]\n",
        "df_train = pd.DataFrame()\n",
        "df_test = pd.DataFrame()\n",
        "df_train[columns[0]] = np.arange(0,epoch+2)\n",
        "df_train[columns[1]] = analysis_data_tr[:,-2]/30\n",
        "df_train[columns[2]] = analysis_data_tr[:,-1]/30\n",
        "df_train[columns[3]] = analysis_data_tr[:,0]/30\n",
        "df_train[columns[4]] = analysis_data_tr[:,1]/30\n",
        "df_train[columns[5]] = analysis_data_tr[:,2]/30\n",
        "df_train[columns[6]] = analysis_data_tr[:,3]/30"
      ],
      "execution_count": 14,
      "outputs": []
    },
    {
      "cell_type": "code",
      "metadata": {
        "colab": {
          "base_uri": "https://localhost:8080/",
          "height": 456
        },
        "id": "NoQpS_6scRsC",
        "outputId": "5d903404-6abb-4c88-c743-e855656c3d79"
      },
      "source": [
        "df_train"
      ],
      "execution_count": 15,
      "outputs": [
        {
          "output_type": "execute_result",
          "data": {
            "text/html": [
              "<div>\n",
              "<style scoped>\n",
              "    .dataframe tbody tr th:only-of-type {\n",
              "        vertical-align: middle;\n",
              "    }\n",
              "\n",
              "    .dataframe tbody tr th {\n",
              "        vertical-align: top;\n",
              "    }\n",
              "\n",
              "    .dataframe thead th {\n",
              "        text-align: right;\n",
              "    }\n",
              "</style>\n",
              "<table border=\"1\" class=\"dataframe\">\n",
              "  <thead>\n",
              "    <tr style=\"text-align: right;\">\n",
              "      <th></th>\n",
              "      <th>epochs</th>\n",
              "      <th>argmax &gt; 0.5</th>\n",
              "      <th>argmax &lt; 0.5</th>\n",
              "      <th>focus_true_pred_true</th>\n",
              "      <th>focus_false_pred_true</th>\n",
              "      <th>focus_true_pred_false</th>\n",
              "      <th>focus_false_pred_false</th>\n",
              "    </tr>\n",
              "  </thead>\n",
              "  <tbody>\n",
              "    <tr>\n",
              "      <th>0</th>\n",
              "      <td>0</td>\n",
              "      <td>10.066667</td>\n",
              "      <td>89.933333</td>\n",
              "      <td>5.033333</td>\n",
              "      <td>31.666667</td>\n",
              "      <td>5.466667</td>\n",
              "      <td>57.833333</td>\n",
              "    </tr>\n",
              "    <tr>\n",
              "      <th>1</th>\n",
              "      <td>1</td>\n",
              "      <td>9.200000</td>\n",
              "      <td>90.800000</td>\n",
              "      <td>6.533333</td>\n",
              "      <td>38.333333</td>\n",
              "      <td>5.200000</td>\n",
              "      <td>49.933333</td>\n",
              "    </tr>\n",
              "    <tr>\n",
              "      <th>2</th>\n",
              "      <td>2</td>\n",
              "      <td>9.166667</td>\n",
              "      <td>90.833333</td>\n",
              "      <td>7.100000</td>\n",
              "      <td>40.433333</td>\n",
              "      <td>5.466667</td>\n",
              "      <td>47.000000</td>\n",
              "    </tr>\n",
              "    <tr>\n",
              "      <th>3</th>\n",
              "      <td>3</td>\n",
              "      <td>9.333333</td>\n",
              "      <td>90.666667</td>\n",
              "      <td>7.666667</td>\n",
              "      <td>42.200000</td>\n",
              "      <td>5.633333</td>\n",
              "      <td>44.500000</td>\n",
              "    </tr>\n",
              "    <tr>\n",
              "      <th>4</th>\n",
              "      <td>4</td>\n",
              "      <td>10.000000</td>\n",
              "      <td>90.000000</td>\n",
              "      <td>7.933333</td>\n",
              "      <td>42.966667</td>\n",
              "      <td>5.900000</td>\n",
              "      <td>43.200000</td>\n",
              "    </tr>\n",
              "    <tr>\n",
              "      <th>...</th>\n",
              "      <td>...</td>\n",
              "      <td>...</td>\n",
              "      <td>...</td>\n",
              "      <td>...</td>\n",
              "      <td>...</td>\n",
              "      <td>...</td>\n",
              "      <td>...</td>\n",
              "    </tr>\n",
              "    <tr>\n",
              "      <th>149</th>\n",
              "      <td>149</td>\n",
              "      <td>28.000000</td>\n",
              "      <td>72.000000</td>\n",
              "      <td>13.966667</td>\n",
              "      <td>84.833333</td>\n",
              "      <td>0.666667</td>\n",
              "      <td>0.533333</td>\n",
              "    </tr>\n",
              "    <tr>\n",
              "      <th>150</th>\n",
              "      <td>150</td>\n",
              "      <td>27.966667</td>\n",
              "      <td>72.033333</td>\n",
              "      <td>13.933333</td>\n",
              "      <td>84.900000</td>\n",
              "      <td>0.700000</td>\n",
              "      <td>0.466667</td>\n",
              "    </tr>\n",
              "    <tr>\n",
              "      <th>151</th>\n",
              "      <td>151</td>\n",
              "      <td>28.133333</td>\n",
              "      <td>71.866667</td>\n",
              "      <td>13.966667</td>\n",
              "      <td>84.933333</td>\n",
              "      <td>0.733333</td>\n",
              "      <td>0.366667</td>\n",
              "    </tr>\n",
              "    <tr>\n",
              "      <th>152</th>\n",
              "      <td>152</td>\n",
              "      <td>28.266667</td>\n",
              "      <td>71.733333</td>\n",
              "      <td>13.866667</td>\n",
              "      <td>85.100000</td>\n",
              "      <td>0.733333</td>\n",
              "      <td>0.300000</td>\n",
              "    </tr>\n",
              "    <tr>\n",
              "      <th>153</th>\n",
              "      <td>153</td>\n",
              "      <td>28.366667</td>\n",
              "      <td>71.633333</td>\n",
              "      <td>13.800000</td>\n",
              "      <td>85.233333</td>\n",
              "      <td>0.700000</td>\n",
              "      <td>0.266667</td>\n",
              "    </tr>\n",
              "  </tbody>\n",
              "</table>\n",
              "<p>154 rows × 7 columns</p>\n",
              "</div>"
            ],
            "text/plain": [
              "     epochs  argmax > 0.5  ...  focus_true_pred_false  focus_false_pred_false\n",
              "0         0     10.066667  ...               5.466667               57.833333\n",
              "1         1      9.200000  ...               5.200000               49.933333\n",
              "2         2      9.166667  ...               5.466667               47.000000\n",
              "3         3      9.333333  ...               5.633333               44.500000\n",
              "4         4     10.000000  ...               5.900000               43.200000\n",
              "..      ...           ...  ...                    ...                     ...\n",
              "149     149     28.000000  ...               0.666667                0.533333\n",
              "150     150     27.966667  ...               0.700000                0.466667\n",
              "151     151     28.133333  ...               0.733333                0.366667\n",
              "152     152     28.266667  ...               0.733333                0.300000\n",
              "153     153     28.366667  ...               0.700000                0.266667\n",
              "\n",
              "[154 rows x 7 columns]"
            ]
          },
          "metadata": {
            "tags": []
          },
          "execution_count": 15
        }
      ]
    },
    {
      "cell_type": "code",
      "metadata": {
        "colab": {
          "base_uri": "https://localhost:8080/",
          "height": 421
        },
        "id": "IMAhRdxOcVf6",
        "outputId": "04c1c965-4336-4c07-ac7d-611d3115ee0d"
      },
      "source": [
        "%cd /content/\n",
        "plot_analysis(df_train,columns,[0,50,100,150,160])"
      ],
      "execution_count": 22,
      "outputs": [
        {
          "output_type": "stream",
          "text": [
            "/content\n"
          ],
          "name": "stdout"
        },
        {
          "output_type": "display_data",
          "data": {
            "image/png": "[encoded data removed]",
            "text/plain": [
              "<Figure size 432x432 with 1 Axes>"
            ]
          },
          "metadata": {
            "tags": [],
            "needs_background": "light"
          }
        }
      ]
    },
    {
      "cell_type": "code",
      "metadata": {
        "id": "VCnS6r2_3WdU"
      },
      "source": [
        "aph = []\n",
        "for i in bg:\n",
        "  aph.append(F.softmax(i,dim=1).detach().numpy())\n",
        "aph = np.concatenate(aph,axis=0)\n",
        "# torch.save({\n",
        "#             'epoch': 500,\n",
        "#             'model_state_dict': what_net.state_dict(),\n",
        "#             #'optimizer_state_dict': optimizer_what.state_dict(),\n",
        "#             \"optimizer_alpha\":optim1,\n",
        "#             \"FTPT_analysis\":analysis_data_tr,\n",
        "#             \"alpha\":aph\n",
        "\n",
        "#             }, \"type4_what_net_500.pt\")"
      ],
      "execution_count": 17,
      "outputs": []
    },
    {
      "cell_type": "code",
      "metadata": {
        "colab": {
          "base_uri": "https://localhost:8080/"
        },
        "id": "KVzrDOGS4UxU",
        "outputId": "08f9c683-3421-4e93-93c5-2e2dfe62d8b5"
      },
      "source": [
        "aph[0]"
      ],
      "execution_count": 18,
      "outputs": [
        {
          "output_type": "execute_result",
          "data": {
            "text/plain": [
              "array([0.01409651, 0.127974  , 0.02676338, 0.09218971, 0.16492805,\n",
              "       0.09477577, 0.06647883, 0.00568187, 0.40711176], dtype=float32)"
            ]
          },
          "metadata": {
            "tags": []
          },
          "execution_count": 18
        }
      ]
    },
    {
      "cell_type": "code",
      "metadata": {
        "id": "7Ut6ZTAXbvqx"
      },
      "source": [
        "avrg = []\n",
        "avrg_lbls = []\n",
        "with torch.no_grad():\n",
        "  for i, data in  enumerate(train_loader):\n",
        "          inputs , labels , fore_idx = data\n",
        "          inputs = inputs.double()\n",
        "          inputs = inputs.to(\"cuda\")\n",
        "          beta  = bg[i]\n",
        "          beta = beta.to(\"cuda\")\n",
        "          avg,alpha = attn_avg(inputs,beta)\n",
        "          \n",
        "          avrg_lbls.append(labels.numpy())\n",
        "          avrg.append(avg.detach().cpu().numpy())\n",
        "avrg= np.concatenate(avrg,axis=0)\n",
        "avrg_lbls = np.concatenate(avrg_lbls,axis=0)"
      ],
      "execution_count": 19,
      "outputs": []
    },
    {
      "cell_type": "code",
      "metadata": {
        "id": "6KHn17Rbceqt",
        "colab": {
          "base_uri": "https://localhost:8080/",
          "height": 408
        },
        "outputId": "72a859be-9e79-4492-a247-82325b323406"
      },
      "source": [
        "%cd /content/drive/MyDrive/Neural_Tangent_Kernel/\n",
        "data = np.load(\"type_4_data.npy\",allow_pickle=True)\n",
        "%cd /content/\n",
        "plot_decision_boundary(what_net,[1,8,2,9],data,bg,avrg,avrg_lbls)"
      ],
      "execution_count": 20,
      "outputs": [
        {
          "output_type": "stream",
          "text": [
            "/content/drive/MyDrive/Neural_Tangent_Kernel\n",
            "/content\n"
          ],
          "name": "stdout"
        },
        {
          "output_type": "display_data",
          "data": {
            "image/png": "[encoded data removed]",
            "text/plain": [
              "<Figure size 432x432 with 1 Axes>"
            ]
          },
          "metadata": {
            "tags": [],
            "needs_background": "light"
          }
        }
      ]
    },
    {
      "cell_type": "code",
      "metadata": {
        "id": "_210Dg1eAJdE"
      },
      "source": [
        ""
      ],
      "execution_count": 20,
      "outputs": []
    }
  ]
}