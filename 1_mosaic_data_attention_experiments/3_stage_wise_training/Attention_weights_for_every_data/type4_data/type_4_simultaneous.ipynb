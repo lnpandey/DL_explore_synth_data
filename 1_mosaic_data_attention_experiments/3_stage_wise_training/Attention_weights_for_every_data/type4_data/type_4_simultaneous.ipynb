{
  "nbformat": 4,
  "nbformat_minor": 0,
  "metadata": {
    "accelerator": "GPU",
    "colab": {
      "name": "type_4_simultaneous.ipynb",
      "provenance": [],
      "collapsed_sections": [
        "guDi_gtH7IFF"
      ],
      "toc_visible": true
    },
    "kernelspec": {
      "display_name": "Python 3",
      "name": "python3"
    }
  },
  "cells": [
    {
      "cell_type": "code",
      "metadata": {
        "id": "VAYu3ISwwGks"
      },
      "source": [
        "import numpy as np\n",
        "import pandas as pd\n",
        "\n",
        "import torch\n",
        "import torchvision\n",
        "from torch.utils.data import Dataset, DataLoader\n",
        "from torchvision import transforms, utils\n",
        "import torch.nn as nn\n",
        "import torch.nn.functional as F\n",
        "import torch.optim as optim\n",
        "\n",
        "from matplotlib import pyplot as plt\n",
        "%matplotlib inline"
      ],
      "execution_count": 1,
      "outputs": []
    },
    {
      "cell_type": "markdown",
      "metadata": {
        "id": "guDi_gtH7IFF"
      },
      "source": [
        "# type 4 mosaic data"
      ]
    },
    {
      "cell_type": "code",
      "metadata": {
        "id": "9IBs5VXs7HfZ"
      },
      "source": [
        "# y = np.random.randint(0,10,5000)\n",
        "# idx= []\n",
        "# for i in range(10):\n",
        "#     print(i,sum(y==i))\n",
        "#     idx.append(y==i)"
      ],
      "execution_count": 2,
      "outputs": []
    },
    {
      "cell_type": "code",
      "metadata": {
        "id": "9MzwprbA57AS"
      },
      "source": [
        "# x = np.zeros((5000,2))\n",
        "\n",
        "# x[idx[0],:] = np.random.multivariate_normal(mean = [4,6.5],cov=[[0.01,0],[0,0.01]],size=sum(idx[0]))\n",
        "\n",
        "# x[idx[1],:] = np.random.multivariate_normal(mean = [5.5,6],cov=[[0.01,0],[0,0.01]],size=sum(idx[1]))\n",
        "\n",
        "# x[idx[2],:] = np.random.multivariate_normal(mean = [4.5,4.5],cov=[[0.01,0],[0,0.01]],size=sum(idx[2]))\n",
        "\n",
        "# x[idx[3],:] = np.random.multivariate_normal(mean = [3,3.5],cov=[[0.01,0],[0,0.01]],size=sum(idx[3]))\n",
        "\n",
        "# x[idx[4],:] = np.random.multivariate_normal(mean = [2.5,5.5],cov=[[0.01,0],[0,0.01]],size=sum(idx[4]))\n",
        "\n",
        "# x[idx[5],:] = np.random.multivariate_normal(mean = [3.5,8],cov=[[0.01,0],[0,0.01]],size=sum(idx[5]))\n",
        "\n",
        "# x[idx[6],:] = np.random.multivariate_normal(mean = [5.5,8],cov=[[0.01,0],[0,0.01]],size=sum(idx[6]))\n",
        "\n",
        "# x[idx[7],:] = np.random.multivariate_normal(mean = [7,6.5],cov=[[0.01,0],[0,0.01]],size=sum(idx[7]))\n",
        "\n",
        "# x[idx[8],:] = np.random.multivariate_normal(mean = [6.5,4.5],cov=[[0.01,0],[0,0.01]],size=sum(idx[8]))\n",
        "\n",
        "# x[idx[9],:] = np.random.multivariate_normal(mean = [5,3],cov=[[0.01,0],[0,0.01]],size=sum(idx[9]))"
      ],
      "execution_count": 3,
      "outputs": []
    },
    {
      "cell_type": "code",
      "metadata": {
        "id": "zCtGoFVB5623"
      },
      "source": [
        "# plt.figure(figsize=(6,6))\n",
        "# for i in range(10):\n",
        "#     plt.scatter(x[idx[i],0],x[idx[i],1],label=\"class_\"+str(i))\n",
        "# plt.legend(loc='center left', bbox_to_anchor=(1, 0.5))"
      ],
      "execution_count": 4,
      "outputs": []
    },
    {
      "cell_type": "code",
      "metadata": {
        "id": "VCOaX6Q356S1"
      },
      "source": [
        "# class SyntheticDataset(Dataset):\n",
        "#   \"\"\"MosaicDataset dataset.\"\"\"\n",
        "\n",
        "#   def __init__(self, x, y):\n",
        "#     \"\"\"\n",
        "#       Args:\n",
        "#         csv_file (string): Path to the csv file with annotations.\n",
        "#         root_dir (string): Directory with all the images.\n",
        "#         transform (callable, optional): Optional transform to be applied\n",
        "#             on a sample.\n",
        "#     \"\"\"\n",
        "#     self.x = x\n",
        "#     self.y = y\n",
        "#     #self.fore_idx = fore_idx\n",
        "    \n",
        "#   def __len__(self):\n",
        "#     return len(self.y)\n",
        "\n",
        "#   def __getitem__(self, idx):\n",
        "#     return self.x[idx] , self.y[idx] #, self.fore_idx[idx]"
      ],
      "execution_count": 5,
      "outputs": []
    },
    {
      "cell_type": "code",
      "metadata": {
        "id": "QnF886Dc9R6-"
      },
      "source": [
        "# trainset = SyntheticDataset(x,y)\n",
        "# trainloader = torch.utils.data.DataLoader(trainset, batch_size=100, shuffle=True)\n",
        "# classes = ('zero','one','two','three','four','five','six','seven','eight','nine')\n",
        "\n",
        "# foreground_classes = {'zero','one','two'}\n",
        "# fg_used = '012'\n",
        "# fg1, fg2, fg3 = 0,1,2\n",
        "\n",
        "\n",
        "# all_classes = {'zero','one','two','three','four','five','six','seven','eight','nine'}\n",
        "# background_classes = all_classes - foreground_classes\n",
        "# background_classes"
      ],
      "execution_count": 6,
      "outputs": []
    },
    {
      "cell_type": "code",
      "metadata": {
        "id": "UTR_tYs19RlC"
      },
      "source": [
        "# dataiter = iter(trainloader)\n",
        "# background_data=[]\n",
        "# background_label=[]\n",
        "# foreground_data=[]\n",
        "# foreground_label=[]\n",
        "# batch_size=100\n",
        "\n",
        "# for i in range(50):\n",
        "#   images, labels = dataiter.next()\n",
        "#   for j in range(batch_size):\n",
        "#     if(classes[labels[j]] in background_classes):\n",
        "#       img = images[j].tolist()\n",
        "#       background_data.append(img)\n",
        "#       background_label.append(labels[j])\n",
        "#     else:\n",
        "#       img = images[j].tolist()\n",
        "#       foreground_data.append(img)\n",
        "#       foreground_label.append(labels[j])\n",
        "            \n",
        "# foreground_data = torch.tensor(foreground_data)\n",
        "# foreground_label = torch.tensor(foreground_label)\n",
        "# background_data = torch.tensor(background_data)\n",
        "# background_label = torch.tensor(background_label)"
      ],
      "execution_count": 7,
      "outputs": []
    },
    {
      "cell_type": "code",
      "metadata": {
        "id": "1dIQxt5b-HXy"
      },
      "source": [
        "# def create_mosaic_img(bg_idx,fg_idx,fg): \n",
        "#   \"\"\"\n",
        "#   bg_idx : list of indexes of background_data[] to be used as background images in mosaic\n",
        "#   fg_idx : index of image to be used as foreground image from foreground data\n",
        "#   fg : at what position/index foreground image has to be stored out of 0-8\n",
        "#   \"\"\"\n",
        "#   image_list=[]\n",
        "#   j=0\n",
        "#   for i in range(9):\n",
        "#     if i != fg:\n",
        "#       image_list.append(background_data[bg_idx[j]])\n",
        "#       j+=1\n",
        "#     else: \n",
        "#       image_list.append(foreground_data[fg_idx])\n",
        "#       label = foreground_label[fg_idx] - fg1  # minus fg1 because our fore ground classes are fg1,fg2,fg3 but we have to store it as 0,1,2\n",
        "#   #image_list = np.concatenate(image_list ,axis=0)\n",
        "#   image_list = torch.stack(image_list) \n",
        "#   return image_list,label"
      ],
      "execution_count": 8,
      "outputs": []
    },
    {
      "cell_type": "code",
      "metadata": {
        "id": "Wa7CFvfu-hE_"
      },
      "source": [
        "# # number of data points in bg class and fg class\n",
        "# nbg = sum(idx[3]) + sum(idx[4]) + sum(idx[5]) + sum(idx[6]) + sum(idx[7]) + sum(idx[8]) + sum(idx[9])\n",
        "# nfg   = sum(idx[0]) + sum(idx[1]) + sum(idx[2])\n",
        "\n",
        "# print(nbg, nfg, nbg+nfg)"
      ],
      "execution_count": 9,
      "outputs": []
    },
    {
      "cell_type": "code",
      "metadata": {
        "id": "JLVolDGh9RY_"
      },
      "source": [
        "# desired_num = 3000\n",
        "# mosaic_list_of_images =[]      # list of mosaic images, each mosaic image is saved as list of 9 images\n",
        "# fore_idx =[]                   # list of indexes at which foreground image is present in a mosaic image i.e from 0 to 9               \n",
        "# mosaic_label=[]                # label of mosaic image = foreground class present in that mosaic\n",
        "# list_set_labels = [] \n",
        "# for i in range(desired_num):\n",
        "#   set_idx = set()\n",
        "#   np.random.seed(i)\n",
        "#   bg_idx = np.random.randint(0,nbg,8)\n",
        "#   set_idx = set(background_label[bg_idx].tolist())\n",
        "#   fg_idx = np.random.randint(0,nfg)\n",
        "#   set_idx.add(foreground_label[fg_idx].item())\n",
        "#   fg = np.random.randint(0,9)\n",
        "#   fore_idx.append(fg)\n",
        "#   image_list,label = create_mosaic_img(bg_idx,fg_idx,fg)\n",
        "#   mosaic_list_of_images.append(image_list)\n",
        "#   mosaic_label.append(label)\n",
        "#   list_set_labels.append(set_idx)"
      ],
      "execution_count": 10,
      "outputs": []
    },
    {
      "cell_type": "code",
      "metadata": {
        "id": "tm4jv30eD_hl"
      },
      "source": [
        "# data =  [{\"mosaic_list\":mosaic_list_of_images, \"mosaic_label\": mosaic_label, \"fore_idx\":fore_idx}]\n",
        "# np.save(\"type4_data_1.npy\",data)"
      ],
      "execution_count": 11,
      "outputs": []
    },
    {
      "cell_type": "markdown",
      "metadata": {
        "id": "y4ZKaqzq_vcD"
      },
      "source": [
        "# load mosaic data"
      ]
    },
    {
      "cell_type": "code",
      "metadata": {
        "id": "rN7ItmyIEdnB"
      },
      "source": [
        "train_data = np.load(\"train_type4_data.npy\",allow_pickle=True)\n",
        "\n",
        "test_data = np.load(\"test_type4_data.npy\",allow_pickle=True)"
      ],
      "execution_count": 12,
      "outputs": []
    },
    {
      "cell_type": "code",
      "metadata": {
        "id": "iifTn7hNEmCU"
      },
      "source": [
        "mosaic_list_of_images = train_data[0][\"mosaic_list\"]\n",
        "mosaic_label = train_data[0][\"mosaic_label\"]\n",
        "fore_idx = train_data[0][\"fore_idx\"]\n",
        "\n",
        "\n",
        "test_mosaic_list_of_images = test_data[0][\"mosaic_list\"]\n",
        "test_mosaic_label = test_data[0][\"mosaic_label\"]\n",
        "test_fore_idx = test_data[0][\"fore_idx\"]"
      ],
      "execution_count": 13,
      "outputs": []
    },
    {
      "cell_type": "code",
      "metadata": {
        "id": "syESDetXAPK2"
      },
      "source": [
        "class MosaicDataset1(Dataset):\n",
        "  \"\"\"MosaicDataset dataset.\"\"\"\n",
        "\n",
        "  def __init__(self, mosaic_list, mosaic_label,fore_idx):\n",
        "    \"\"\"\n",
        "      Args:\n",
        "        csv_file (string): Path to the csv file with annotations.\n",
        "        root_dir (string): Directory with all the images.\n",
        "        transform (callable, optional): Optional transform to be applied\n",
        "            on a sample.\n",
        "    \"\"\"\n",
        "    self.mosaic = mosaic_list\n",
        "    self.label = mosaic_label\n",
        "    self.fore_idx = fore_idx\n",
        "    \n",
        "  def __len__(self):\n",
        "    return len(self.label)\n",
        "\n",
        "  def __getitem__(self, idx):\n",
        "    return self.mosaic[idx] , self.label[idx] , self.fore_idx[idx]"
      ],
      "execution_count": 14,
      "outputs": []
    },
    {
      "cell_type": "code",
      "metadata": {
        "id": "fP5NPRPmb904"
      },
      "source": [
        "batch = 250\n",
        "train_dataset = MosaicDataset1(mosaic_list_of_images, mosaic_label, fore_idx)\n",
        "train_loader = DataLoader( train_dataset,batch_size= batch ,shuffle=True)\n",
        "\n",
        "test_dataset = MosaicDataset1(test_mosaic_list_of_images, test_mosaic_label, test_fore_idx)\n",
        "test_loader = DataLoader(test_dataset,batch_size= batch ,shuffle=True)"
      ],
      "execution_count": 15,
      "outputs": []
    },
    {
      "cell_type": "markdown",
      "metadata": {
        "id": "ARLPPASQ_2gB"
      },
      "source": [
        "# models"
      ]
    },
    {
      "cell_type": "code",
      "metadata": {
        "id": "KzN3Bbs8c0fA"
      },
      "source": [
        "class Focus_deep(nn.Module):\n",
        "    '''\n",
        "       deep focus network averaged at zeroth layer\n",
        "       input : elemental data\n",
        "    '''\n",
        "    def __init__(self,inputs,output,K,d):\n",
        "        super(Focus_deep,self).__init__()\n",
        "        self.inputs = inputs\n",
        "        self.output = output\n",
        "        self.K = K\n",
        "        self.d  = d\n",
        "        self.linear1 = nn.Linear(self.inputs,100)  #,self.output)\n",
        "        #self.linear2 = nn.Linear(50,50)\n",
        "        self.linear2 = nn.Linear(100,self.output) \n",
        "    def forward(self,z):\n",
        "        batch = z.shape[0]\n",
        "        x = torch.zeros([batch,self.K],dtype=torch.float64)\n",
        "        y = torch.zeros([batch,self.d], dtype=torch.float64)\n",
        "        x,y = x.to(\"cuda\"),y.to(\"cuda\")\n",
        "        #print(z[:,0].shape,z[:,self.d*0:self.d*0+self.d].shape)\n",
        "        for i in range(self.K):\n",
        "            x[:,i] = self.helper(z[:,i] )[:,0]  # self.d*i:self.d*i+self.d\n",
        "        x = F.softmax(x,dim=1)   # alphas\n",
        "        x1 = x[:,0]\n",
        "        for i in range(self.K):\n",
        "            x1 = x[:,i]          \n",
        "            y = y+torch.mul(x1[:,None],z[:,i])  # self.d*i:self.d*i+self.d\n",
        "        return y , x \n",
        "    def helper(self,x):\n",
        "      x = F.relu(self.linear1(x))\n",
        "      #x = F.relu(self.linear2(x))\n",
        "      x = self.linear2(x)\n",
        "      return x\n"
      ],
      "execution_count": 16,
      "outputs": []
    },
    {
      "cell_type": "code",
      "metadata": {
        "id": "w0W0oKcClFZY"
      },
      "source": [
        "class Classification_deep(nn.Module):\n",
        "    '''\n",
        "       input : elemental data\n",
        "       deep classification module data averaged at zeroth layer\n",
        "    '''\n",
        "    def __init__(self,inputs,output):\n",
        "        super(Classification_deep,self).__init__()\n",
        "        self.inputs = inputs\n",
        "        self.output = output\n",
        "        self.linear1 = nn.Linear(self.inputs,100)\n",
        "        #self.linear2 = nn.Linear(50,50)\n",
        "        self.linear2 = nn.Linear(100,self.output)\n",
        "\n",
        "    def forward(self,x):\n",
        "      x = F.relu(self.linear1(x))\n",
        "      #x = F.relu(self.linear2(x))\n",
        "      x = self.linear2(x)\n",
        "      return x    "
      ],
      "execution_count": 17,
      "outputs": []
    },
    {
      "cell_type": "code",
      "metadata": {
        "id": "ehAfQnNwgFYX"
      },
      "source": [
        "def calculate_attn_loss(dataloader,what,where,criter):\n",
        "  what.eval()\n",
        "  where.eval()\n",
        "  r_loss = 0\n",
        "  alphas = []\n",
        "  lbls = []\n",
        "  pred = []\n",
        "  fidices = []\n",
        "  with torch.no_grad():\n",
        "    for i, data in enumerate(dataloader, 0):\n",
        "      inputs, labels,fidx = data\n",
        "      lbls.append(labels)\n",
        "      fidices.append(fidx)\n",
        "      inputs = inputs.double()\n",
        "      inputs, labels = inputs.to(\"cuda\"),labels.to(\"cuda\")\n",
        "      avg,alpha = where(inputs)\n",
        "      outputs = what(avg)\n",
        "      _, predicted = torch.max(outputs.data, 1)\n",
        "      pred.append(predicted.cpu().numpy())\n",
        "      alphas.append(alpha.cpu().numpy())\n",
        "      loss = criter(outputs, labels)\n",
        "      r_loss += loss.item()\n",
        "  alphas = np.concatenate(alphas,axis=0)\n",
        "  pred = np.concatenate(pred,axis=0)\n",
        "  lbls = np.concatenate(lbls,axis=0)\n",
        "  fidices = np.concatenate(fidices,axis=0)\n",
        "  #print(alphas.shape,pred.shape,lbls.shape,fidices.shape) \n",
        "  analysis = analyse_data(alphas,lbls,pred,fidices)\n",
        "  return r_loss/i,analysis"
      ],
      "execution_count": 18,
      "outputs": []
    },
    {
      "cell_type": "code",
      "metadata": {
        "id": "6e9HQJMzxBhp"
      },
      "source": [
        "def analyse_data(alphas,lbls,predicted,f_idx):\n",
        "    '''\n",
        "       analysis data is created here\n",
        "    '''\n",
        "    batch = len(predicted)\n",
        "    amth,alth,ftpt,ffpt,ftpf,ffpf = 0,0,0,0,0,0\n",
        "    for j in range (batch):\n",
        "      focus = np.argmax(alphas[j])\n",
        "      if(alphas[j][focus] >= 0.5):\n",
        "        amth +=1\n",
        "      else:\n",
        "        alth +=1\n",
        "      if(focus == f_idx[j] and predicted[j] == lbls[j]):\n",
        "        ftpt += 1\n",
        "      elif(focus != f_idx[j] and predicted[j] == lbls[j]):\n",
        "        ffpt +=1\n",
        "      elif(focus == f_idx[j] and predicted[j] != lbls[j]):\n",
        "        ftpf +=1\n",
        "      elif(focus != f_idx[j] and predicted[j] != lbls[j]):\n",
        "        ffpf +=1\n",
        "    #print(sum(predicted==lbls),ftpt+ffpt)\n",
        "    return [ftpt,ffpt,ftpf,ffpf,amth,alth]"
      ],
      "execution_count": 19,
      "outputs": []
    },
    {
      "cell_type": "markdown",
      "metadata": {
        "id": "a2AlGgRa_6_H"
      },
      "source": [
        "# training"
      ]
    },
    {
      "cell_type": "code",
      "metadata": {
        "colab": {
          "base_uri": "https://localhost:8080/"
        },
        "id": "MOfxUJZ_eFKw",
        "outputId": "2487be13-e933-4db3-a289-e051ee8e954d"
      },
      "source": [
        "number_runs = 1\n",
        "FTPT_analysis = pd.DataFrame(columns = [\"FTPT\",\"FFPT\", \"FTPF\",\"FFPF\"])\n",
        "for n in range(number_runs):\n",
        "  print(\"--\"*40)\n",
        "  \n",
        "  # instantiate focus and classification Model\n",
        "  torch.manual_seed(n+1)\n",
        "  where = Focus_deep(2,1,9,2).double()\n",
        "  torch.manual_seed(n)\n",
        "  what = Classification_deep(2,3).double()\n",
        "  where = where.to(\"cuda\")\n",
        "  what = what.to(\"cuda\")\n",
        "\n",
        "\n",
        "\n",
        "  # instantiate optimizer\n",
        "  optimizer_where = optim.RMSprop(where.parameters(),lr =0.001)#,momentum=0.9)\n",
        "  optimizer_what = optim.RMSprop(what.parameters(), lr=0.001)#,momentum=0.9)\n",
        "  criterion = nn.CrossEntropyLoss()\n",
        "  acti = []\n",
        "  analysis_data = []\n",
        "  loss_curi = []\n",
        "  epochs = 2500\n",
        "\n",
        "\n",
        "  # calculate zeroth epoch loss and FTPT values\n",
        "  running_loss,anlys_data = calculate_attn_loss(train_loader,what,where,criterion)\n",
        "  loss_curi.append(running_loss)\n",
        "  analysis_data.append(anlys_data)\n",
        "\n",
        "  print('epoch: [%d ] loss: %.3f' %(0,running_loss)) \n",
        "\n",
        "  # training starts \n",
        "  for epoch in range(epochs): # loop over the dataset multiple times\n",
        "    ep_lossi = []\n",
        "    running_loss = 0.0\n",
        "    what.train()\n",
        "    where.train()\n",
        "    for i, data in enumerate(train_loader, 0):\n",
        "      # get the inputs\n",
        "      inputs, labels,_ = data\n",
        "      inputs = inputs.double()\n",
        "      inputs, labels = inputs.to(\"cuda\"),labels.to(\"cuda\")\n",
        "\n",
        "      # zero the parameter gradients\n",
        "      optimizer_where.zero_grad()\n",
        "      optimizer_what.zero_grad()\n",
        "      \n",
        "      # forward + backward + optimize\n",
        "      avg, alpha = where(inputs)\n",
        "      outputs = what(avg)\n",
        "      loss = criterion(outputs, labels)\n",
        "\n",
        "      # print statistics\n",
        "      running_loss += loss.item()\n",
        "      loss.backward()\n",
        "      optimizer_where.step()\n",
        "      optimizer_what.step()\n",
        "\n",
        "    running_loss,anls_data = calculate_attn_loss(train_loader,what,where,criterion)\n",
        "    analysis_data.append(anls_data)\n",
        "    print('epoch: [%d] loss: %.3f' %(epoch + 1,running_loss)) \n",
        "    loss_curi.append(running_loss)   #loss per epoch\n",
        "    if running_loss<=0.01:\n",
        "      break\n",
        "  print('Finished Training run ' +str(n))\n",
        "\n",
        "  torch.save(where.state_dict(),\"type4_where_net.pt\")\n",
        "  torch.save(what.state_dict(),\"type4_what_net.pt\")\n",
        "  analysis_data = np.array(analysis_data)\n",
        "  FTPT_analysis.loc[n] = analysis_data[-1,:4]/30\n",
        "  correct = 0\n",
        "  total = 0\n",
        "  with torch.no_grad():\n",
        "    for data in train_loader:\n",
        "      images, labels,_ = data\n",
        "      images = images.double()\n",
        "      images, labels = images.to(\"cuda\"), labels.to(\"cuda\")\n",
        "      avg, alpha = where(images)\n",
        "      outputs  = what(avg)\n",
        "      _, predicted = torch.max(outputs.data, 1)\n",
        "      total += labels.size(0)\n",
        "      correct += (predicted == labels).sum().item()\n",
        "\n",
        "  print('Accuracy of the network on the 3000 train images: %d %%' % (  100 * correct / total))\n",
        "    "
      ],
      "execution_count": 20,
      "outputs": [
        {
          "output_type": "stream",
          "text": [
            "--------------------------------------------------------------------------------\n",
            "epoch: [0 ] loss: 2.092\n",
            "epoch: [1] loss: 1.200\n",
            "epoch: [2] loss: 1.193\n",
            "epoch: [3] loss: 1.195\n",
            "epoch: [4] loss: 1.191\n",
            "epoch: [5] loss: 1.178\n",
            "epoch: [6] loss: 1.174\n",
            "epoch: [7] loss: 1.172\n",
            "epoch: [8] loss: 1.166\n",
            "epoch: [9] loss: 1.162\n",
            "epoch: [10] loss: 1.157\n",
            "epoch: [11] loss: 1.145\n",
            "epoch: [12] loss: 1.154\n",
            "epoch: [13] loss: 1.134\n",
            "epoch: [14] loss: 1.130\n",
            "epoch: [15] loss: 1.129\n",
            "epoch: [16] loss: 1.112\n",
            "epoch: [17] loss: 1.102\n",
            "epoch: [18] loss: 1.096\n",
            "epoch: [19] loss: 1.083\n",
            "epoch: [20] loss: 1.080\n",
            "epoch: [21] loss: 1.069\n",
            "epoch: [22] loss: 1.069\n",
            "epoch: [23] loss: 1.072\n",
            "epoch: [24] loss: 1.041\n",
            "epoch: [25] loss: 1.046\n",
            "epoch: [26] loss: 1.024\n",
            "epoch: [27] loss: 1.015\n",
            "epoch: [28] loss: 1.005\n",
            "epoch: [29] loss: 1.000\n",
            "epoch: [30] loss: 0.988\n",
            "epoch: [31] loss: 0.993\n",
            "epoch: [32] loss: 0.969\n",
            "epoch: [33] loss: 0.967\n",
            "epoch: [34] loss: 0.948\n",
            "epoch: [35] loss: 0.943\n",
            "epoch: [36] loss: 0.939\n",
            "epoch: [37] loss: 0.936\n",
            "epoch: [38] loss: 0.915\n",
            "epoch: [39] loss: 0.910\n",
            "epoch: [40] loss: 0.899\n",
            "epoch: [41] loss: 0.891\n",
            "epoch: [42] loss: 0.889\n",
            "epoch: [43] loss: 0.875\n",
            "epoch: [44] loss: 0.869\n",
            "epoch: [45] loss: 0.858\n",
            "epoch: [46] loss: 0.861\n",
            "epoch: [47] loss: 0.841\n",
            "epoch: [48] loss: 0.837\n",
            "epoch: [49] loss: 0.839\n",
            "epoch: [50] loss: 0.819\n",
            "epoch: [51] loss: 0.826\n",
            "epoch: [52] loss: 0.804\n",
            "epoch: [53] loss: 0.800\n",
            "epoch: [54] loss: 0.799\n",
            "epoch: [55] loss: 0.784\n",
            "epoch: [56] loss: 0.786\n",
            "epoch: [57] loss: 0.775\n",
            "epoch: [58] loss: 0.762\n",
            "epoch: [59] loss: 0.750\n",
            "epoch: [60] loss: 0.750\n",
            "epoch: [61] loss: 0.740\n",
            "epoch: [62] loss: 0.734\n",
            "epoch: [63] loss: 0.723\n",
            "epoch: [64] loss: 0.714\n",
            "epoch: [65] loss: 0.715\n",
            "epoch: [66] loss: 0.700\n",
            "epoch: [67] loss: 0.709\n",
            "epoch: [68] loss: 0.693\n",
            "epoch: [69] loss: 0.685\n",
            "epoch: [70] loss: 0.669\n",
            "epoch: [71] loss: 0.668\n",
            "epoch: [72] loss: 0.656\n",
            "epoch: [73] loss: 0.679\n",
            "epoch: [74] loss: 0.661\n",
            "epoch: [75] loss: 0.635\n",
            "epoch: [76] loss: 0.628\n",
            "epoch: [77] loss: 0.644\n",
            "epoch: [78] loss: 0.615\n",
            "epoch: [79] loss: 0.606\n",
            "epoch: [80] loss: 0.620\n",
            "epoch: [81] loss: 0.593\n",
            "epoch: [82] loss: 0.585\n",
            "epoch: [83] loss: 0.580\n",
            "epoch: [84] loss: 0.574\n",
            "epoch: [85] loss: 0.567\n",
            "epoch: [86] loss: 0.564\n",
            "epoch: [87] loss: 0.583\n",
            "epoch: [88] loss: 0.544\n",
            "epoch: [89] loss: 0.538\n",
            "epoch: [90] loss: 0.535\n",
            "epoch: [91] loss: 0.523\n",
            "epoch: [92] loss: 0.520\n",
            "epoch: [93] loss: 0.514\n",
            "epoch: [94] loss: 0.512\n",
            "epoch: [95] loss: 0.501\n",
            "epoch: [96] loss: 0.489\n",
            "epoch: [97] loss: 0.482\n",
            "epoch: [98] loss: 0.492\n",
            "epoch: [99] loss: 0.476\n",
            "epoch: [100] loss: 0.463\n",
            "epoch: [101] loss: 0.461\n",
            "epoch: [102] loss: 0.452\n",
            "epoch: [103] loss: 0.445\n",
            "epoch: [104] loss: 0.441\n",
            "epoch: [105] loss: 0.433\n",
            "epoch: [106] loss: 0.426\n",
            "epoch: [107] loss: 0.428\n",
            "epoch: [108] loss: 0.414\n",
            "epoch: [109] loss: 0.414\n",
            "epoch: [110] loss: 0.404\n",
            "epoch: [111] loss: 0.407\n",
            "epoch: [112] loss: 0.393\n",
            "epoch: [113] loss: 0.395\n",
            "epoch: [114] loss: 0.423\n",
            "epoch: [115] loss: 0.378\n",
            "epoch: [116] loss: 0.378\n",
            "epoch: [117] loss: 0.367\n",
            "epoch: [118] loss: 0.370\n",
            "epoch: [119] loss: 0.362\n",
            "epoch: [120] loss: 0.370\n",
            "epoch: [121] loss: 0.368\n",
            "epoch: [122] loss: 0.352\n",
            "epoch: [123] loss: 0.346\n",
            "epoch: [124] loss: 0.346\n",
            "epoch: [125] loss: 0.337\n",
            "epoch: [126] loss: 0.323\n",
            "epoch: [127] loss: 0.341\n",
            "epoch: [128] loss: 0.315\n",
            "epoch: [129] loss: 0.310\n",
            "epoch: [130] loss: 0.337\n",
            "epoch: [131] loss: 0.309\n",
            "epoch: [132] loss: 0.298\n",
            "epoch: [133] loss: 0.316\n",
            "epoch: [134] loss: 0.288\n",
            "epoch: [135] loss: 0.286\n",
            "epoch: [136] loss: 0.281\n",
            "epoch: [137] loss: 0.300\n",
            "epoch: [138] loss: 0.273\n",
            "epoch: [139] loss: 0.272\n",
            "epoch: [140] loss: 0.265\n",
            "epoch: [141] loss: 0.260\n",
            "epoch: [142] loss: 0.282\n",
            "epoch: [143] loss: 0.259\n",
            "epoch: [144] loss: 0.248\n",
            "epoch: [145] loss: 0.250\n",
            "epoch: [146] loss: 0.250\n",
            "epoch: [147] loss: 0.239\n",
            "epoch: [148] loss: 0.238\n",
            "epoch: [149] loss: 0.268\n",
            "epoch: [150] loss: 0.245\n",
            "epoch: [151] loss: 0.223\n",
            "epoch: [152] loss: 0.247\n",
            "epoch: [153] loss: 0.217\n",
            "epoch: [154] loss: 0.214\n",
            "epoch: [155] loss: 0.215\n",
            "epoch: [156] loss: 0.213\n",
            "epoch: [157] loss: 0.209\n",
            "epoch: [158] loss: 0.203\n",
            "epoch: [159] loss: 0.201\n",
            "epoch: [160] loss: 0.199\n",
            "epoch: [161] loss: 0.198\n",
            "epoch: [162] loss: 0.193\n",
            "epoch: [163] loss: 0.189\n",
            "epoch: [164] loss: 0.190\n",
            "epoch: [165] loss: 0.186\n",
            "epoch: [166] loss: 0.187\n",
            "epoch: [167] loss: 0.181\n",
            "epoch: [168] loss: 0.176\n",
            "epoch: [169] loss: 0.172\n",
            "epoch: [170] loss: 0.170\n",
            "epoch: [171] loss: 0.167\n",
            "epoch: [172] loss: 0.171\n",
            "epoch: [173] loss: 0.165\n",
            "epoch: [174] loss: 0.189\n",
            "epoch: [175] loss: 0.168\n",
            "epoch: [176] loss: 0.158\n",
            "epoch: [177] loss: 0.157\n",
            "epoch: [178] loss: 0.151\n",
            "epoch: [179] loss: 0.153\n",
            "epoch: [180] loss: 0.148\n",
            "epoch: [181] loss: 0.145\n",
            "epoch: [182] loss: 0.146\n",
            "epoch: [183] loss: 0.144\n",
            "epoch: [184] loss: 0.156\n",
            "epoch: [185] loss: 0.142\n",
            "epoch: [186] loss: 0.137\n",
            "epoch: [187] loss: 0.133\n",
            "epoch: [188] loss: 0.132\n",
            "epoch: [189] loss: 0.140\n",
            "epoch: [190] loss: 0.128\n",
            "epoch: [191] loss: 0.136\n",
            "epoch: [192] loss: 0.134\n",
            "epoch: [193] loss: 0.124\n",
            "epoch: [194] loss: 0.118\n",
            "epoch: [195] loss: 0.124\n",
            "epoch: [196] loss: 0.115\n",
            "epoch: [197] loss: 0.119\n",
            "epoch: [198] loss: 0.113\n",
            "epoch: [199] loss: 0.111\n",
            "epoch: [200] loss: 0.107\n",
            "epoch: [201] loss: 0.107\n",
            "epoch: [202] loss: 0.109\n",
            "epoch: [203] loss: 0.105\n",
            "epoch: [204] loss: 0.102\n",
            "epoch: [205] loss: 0.100\n",
            "epoch: [206] loss: 0.103\n",
            "epoch: [207] loss: 0.098\n",
            "epoch: [208] loss: 0.099\n",
            "epoch: [209] loss: 0.094\n",
            "epoch: [210] loss: 0.093\n",
            "epoch: [211] loss: 0.094\n",
            "epoch: [212] loss: 0.099\n",
            "epoch: [213] loss: 0.100\n",
            "epoch: [214] loss: 0.097\n",
            "epoch: [215] loss: 0.088\n",
            "epoch: [216] loss: 0.087\n",
            "epoch: [217] loss: 0.094\n",
            "epoch: [218] loss: 0.097\n",
            "epoch: [219] loss: 0.084\n",
            "epoch: [220] loss: 0.080\n",
            "epoch: [221] loss: 0.083\n",
            "epoch: [222] loss: 0.079\n",
            "epoch: [223] loss: 0.076\n",
            "epoch: [224] loss: 0.076\n",
            "epoch: [225] loss: 0.078\n",
            "epoch: [226] loss: 0.080\n",
            "epoch: [227] loss: 0.072\n",
            "epoch: [228] loss: 0.094\n",
            "epoch: [229] loss: 0.073\n",
            "epoch: [230] loss: 0.073\n",
            "epoch: [231] loss: 0.067\n",
            "epoch: [232] loss: 0.069\n",
            "epoch: [233] loss: 0.070\n",
            "epoch: [234] loss: 0.069\n",
            "epoch: [235] loss: 0.064\n",
            "epoch: [236] loss: 0.063\n",
            "epoch: [237] loss: 0.065\n",
            "epoch: [238] loss: 0.060\n",
            "epoch: [239] loss: 0.061\n",
            "epoch: [240] loss: 0.072\n",
            "epoch: [241] loss: 0.058\n",
            "epoch: [242] loss: 0.059\n",
            "epoch: [243] loss: 0.056\n",
            "epoch: [244] loss: 0.060\n",
            "epoch: [245] loss: 0.055\n",
            "epoch: [246] loss: 0.056\n",
            "epoch: [247] loss: 0.057\n",
            "epoch: [248] loss: 0.054\n",
            "epoch: [249] loss: 0.051\n",
            "epoch: [250] loss: 0.052\n",
            "epoch: [251] loss: 0.052\n",
            "epoch: [252] loss: 0.050\n",
            "epoch: [253] loss: 0.051\n",
            "epoch: [254] loss: 0.053\n",
            "epoch: [255] loss: 0.047\n",
            "epoch: [256] loss: 0.046\n",
            "epoch: [257] loss: 0.046\n",
            "epoch: [258] loss: 0.052\n",
            "epoch: [259] loss: 0.044\n",
            "epoch: [260] loss: 0.044\n",
            "epoch: [261] loss: 0.047\n",
            "epoch: [262] loss: 0.043\n",
            "epoch: [263] loss: 0.042\n",
            "epoch: [264] loss: 0.041\n",
            "epoch: [265] loss: 0.050\n",
            "epoch: [266] loss: 0.044\n",
            "epoch: [267] loss: 0.040\n",
            "epoch: [268] loss: 0.039\n",
            "epoch: [269] loss: 0.040\n",
            "epoch: [270] loss: 0.041\n",
            "epoch: [271] loss: 0.043\n",
            "epoch: [272] loss: 0.037\n",
            "epoch: [273] loss: 0.071\n",
            "epoch: [274] loss: 0.036\n",
            "epoch: [275] loss: 0.036\n",
            "epoch: [276] loss: 0.053\n",
            "epoch: [277] loss: 0.042\n",
            "epoch: [278] loss: 0.034\n",
            "epoch: [279] loss: 0.034\n",
            "epoch: [280] loss: 0.041\n",
            "epoch: [281] loss: 0.032\n",
            "epoch: [282] loss: 0.034\n",
            "epoch: [283] loss: 0.041\n",
            "epoch: [284] loss: 0.036\n",
            "epoch: [285] loss: 0.030\n",
            "epoch: [286] loss: 0.031\n",
            "epoch: [287] loss: 0.060\n",
            "epoch: [288] loss: 0.032\n",
            "epoch: [289] loss: 0.030\n",
            "epoch: [290] loss: 0.032\n",
            "epoch: [291] loss: 0.028\n",
            "epoch: [292] loss: 0.030\n",
            "epoch: [293] loss: 0.030\n",
            "epoch: [294] loss: 0.029\n",
            "epoch: [295] loss: 0.027\n",
            "epoch: [296] loss: 0.026\n",
            "epoch: [297] loss: 0.029\n",
            "epoch: [298] loss: 0.025\n",
            "epoch: [299] loss: 0.025\n",
            "epoch: [300] loss: 0.027\n",
            "epoch: [301] loss: 0.057\n",
            "epoch: [302] loss: 0.026\n",
            "epoch: [303] loss: 0.024\n",
            "epoch: [304] loss: 0.023\n",
            "epoch: [305] loss: 0.025\n",
            "epoch: [306] loss: 0.023\n",
            "epoch: [307] loss: 0.024\n",
            "epoch: [308] loss: 0.031\n",
            "epoch: [309] loss: 0.023\n",
            "epoch: [310] loss: 0.022\n",
            "epoch: [311] loss: 0.028\n",
            "epoch: [312] loss: 0.024\n",
            "epoch: [313] loss: 0.024\n",
            "epoch: [314] loss: 0.024\n",
            "epoch: [315] loss: 0.021\n",
            "epoch: [316] loss: 0.022\n",
            "epoch: [317] loss: 0.021\n",
            "epoch: [318] loss: 0.021\n",
            "epoch: [319] loss: 0.020\n",
            "epoch: [320] loss: 0.021\n",
            "epoch: [321] loss: 0.020\n",
            "epoch: [322] loss: 0.019\n",
            "epoch: [323] loss: 0.019\n",
            "epoch: [324] loss: 0.021\n",
            "epoch: [325] loss: 0.019\n",
            "epoch: [326] loss: 0.022\n",
            "epoch: [327] loss: 0.018\n",
            "epoch: [328] loss: 0.018\n",
            "epoch: [329] loss: 0.018\n",
            "epoch: [330] loss: 0.019\n",
            "epoch: [331] loss: 0.020\n",
            "epoch: [332] loss: 0.018\n",
            "epoch: [333] loss: 0.017\n",
            "epoch: [334] loss: 0.020\n",
            "epoch: [335] loss: 0.017\n",
            "epoch: [336] loss: 0.017\n",
            "epoch: [337] loss: 0.017\n",
            "epoch: [338] loss: 0.016\n",
            "epoch: [339] loss: 0.016\n",
            "epoch: [340] loss: 0.016\n",
            "epoch: [341] loss: 0.015\n",
            "epoch: [342] loss: 0.015\n",
            "epoch: [343] loss: 0.015\n",
            "epoch: [344] loss: 0.014\n",
            "epoch: [345] loss: 0.017\n",
            "epoch: [346] loss: 0.019\n",
            "epoch: [347] loss: 0.016\n",
            "epoch: [348] loss: 0.019\n",
            "epoch: [349] loss: 0.018\n",
            "epoch: [350] loss: 0.013\n",
            "epoch: [351] loss: 0.013\n",
            "epoch: [352] loss: 0.014\n",
            "epoch: [353] loss: 0.014\n",
            "epoch: [354] loss: 0.014\n",
            "epoch: [355] loss: 0.013\n",
            "epoch: [356] loss: 0.013\n",
            "epoch: [357] loss: 0.021\n",
            "epoch: [358] loss: 0.013\n",
            "epoch: [359] loss: 0.013\n",
            "epoch: [360] loss: 0.013\n",
            "epoch: [361] loss: 0.014\n",
            "epoch: [362] loss: 0.012\n",
            "epoch: [363] loss: 0.014\n",
            "epoch: [364] loss: 0.012\n",
            "epoch: [365] loss: 0.012\n",
            "epoch: [366] loss: 0.025\n",
            "epoch: [367] loss: 0.012\n",
            "epoch: [368] loss: 0.015\n",
            "epoch: [369] loss: 0.011\n",
            "epoch: [370] loss: 0.021\n",
            "epoch: [371] loss: 0.011\n",
            "epoch: [372] loss: 0.011\n",
            "epoch: [373] loss: 0.011\n",
            "epoch: [374] loss: 0.015\n",
            "epoch: [375] loss: 0.011\n",
            "epoch: [376] loss: 0.011\n",
            "epoch: [377] loss: 0.010\n",
            "epoch: [378] loss: 0.012\n",
            "epoch: [379] loss: 0.010\n",
            "epoch: [380] loss: 0.010\n",
            "epoch: [381] loss: 0.010\n",
            "epoch: [382] loss: 0.010\n",
            "epoch: [383] loss: 0.010\n",
            "epoch: [384] loss: 0.013\n",
            "epoch: [385] loss: 0.010\n",
            "epoch: [386] loss: 0.013\n",
            "epoch: [387] loss: 0.009\n",
            "Finished Training run 0\n",
            "Accuracy of the network on the 3000 train images: 99 %\n"
          ],
          "name": "stdout"
        }
      ]
    },
    {
      "cell_type": "code",
      "metadata": {
        "id": "L31RVViMkYM-",
        "colab": {
          "base_uri": "https://localhost:8080/",
          "height": 391
        },
        "outputId": "6e92187d-01f4-43ac-a79c-a007dfd50b35"
      },
      "source": [
        "plt.figure(figsize=(6,6))\n",
        "plt.plot(np.arange(0,epoch+2,1),analysis_data[:,0],label=\"ftpt\")\n",
        "plt.plot(np.arange(0,epoch+2,1),analysis_data[:,1],label=\"ffpt\")\n",
        "plt.plot(np.arange(0,epoch+2,1),analysis_data[:,2],label=\"ftpf\")\n",
        "plt.plot(np.arange(0,epoch+2,1),analysis_data[:,3],label=\"ffpf\")\n",
        "\n",
        "plt.legend(loc='center left', bbox_to_anchor=(1, 0.5))\n",
        "\n"
      ],
      "execution_count": 21,
      "outputs": [
        {
          "output_type": "execute_result",
          "data": {
            "text/plain": [
              "<matplotlib.legend.Legend at 0x7fc930414a50>"
            ]
          },
          "metadata": {
            "tags": []
          },
          "execution_count": 21
        },
        {
          "output_type": "display_data",
          "data": {
            "image/png": "[encoded data removed]",
            "text/plain": [
              "<Figure size 432x432 with 1 Axes>"
            ]
          },
          "metadata": {
            "tags": [],
            "needs_background": "light"
          }
        }
      ]
    },
    {
      "cell_type": "markdown",
      "metadata": {
        "id": "pvRPe6kn_-9b"
      },
      "source": [
        "# performance\n"
      ]
    },
    {
      "cell_type": "code",
      "metadata": {
        "id": "yEabNK9Q1bTE",
        "colab": {
          "base_uri": "https://localhost:8080/",
          "height": 282
        },
        "outputId": "65b394ac-0c76-4e89-b3ef-5f71b7deb7ba"
      },
      "source": [
        "plt.plot(loss_curi)"
      ],
      "execution_count": 22,
      "outputs": [
        {
          "output_type": "execute_result",
          "data": {
            "text/plain": [
              "[<matplotlib.lines.Line2D at 0x7fc93276ca50>]"
            ]
          },
          "metadata": {
            "tags": []
          },
          "execution_count": 22
        },
        {
          "output_type": "display_data",
          "data": {
            "image/png": "[encoded data removed]",
            "text/plain": [
              "<Figure size 432x288 with 1 Axes>"
            ]
          },
          "metadata": {
            "tags": [],
            "needs_background": "light"
          }
        }
      ]
    },
    {
      "cell_type": "code",
      "metadata": {
        "id": "yBbboK0mtLTL",
        "colab": {
          "base_uri": "https://localhost:8080/"
        },
        "outputId": "78698869-ffec-495a-bb3f-2f8b13394d62"
      },
      "source": [
        "np.mean(np.array(FTPT_analysis),axis=0)"
      ],
      "execution_count": 23,
      "outputs": [
        {
          "output_type": "execute_result",
          "data": {
            "text/plain": [
              "array([8.43666667e+01, 1.56000000e+01, 3.33333333e-02, 0.00000000e+00])"
            ]
          },
          "metadata": {
            "tags": []
          },
          "execution_count": 23
        }
      ]
    },
    {
      "cell_type": "code",
      "metadata": {
        "id": "AYS7jRsCz30j"
      },
      "source": [
        "FTPT_analysis.to_csv(\"synthetic_zeroth.csv\",index=False)"
      ],
      "execution_count": 24,
      "outputs": []
    },
    {
      "cell_type": "markdown",
      "metadata": {
        "id": "dwzQFzul37sQ"
      },
      "source": [
        "\n",
        "\n",
        "\n"
      ]
    },
    {
      "cell_type": "code",
      "metadata": {
        "id": "PzR8ISPlOSbP",
        "colab": {
          "base_uri": "https://localhost:8080/",
          "height": 80
        },
        "outputId": "7f4e6111-7fde-4b50-e4aa-b4b70eb38610"
      },
      "source": [
        "FTPT_analysis"
      ],
      "execution_count": 25,
      "outputs": [
        {
          "output_type": "execute_result",
          "data": {
            "text/html": [
              "<div>\n",
              "<style scoped>\n",
              "    .dataframe tbody tr th:only-of-type {\n",
              "        vertical-align: middle;\n",
              "    }\n",
              "\n",
              "    .dataframe tbody tr th {\n",
              "        vertical-align: top;\n",
              "    }\n",
              "\n",
              "    .dataframe thead th {\n",
              "        text-align: right;\n",
              "    }\n",
              "</style>\n",
              "<table border=\"1\" class=\"dataframe\">\n",
              "  <thead>\n",
              "    <tr style=\"text-align: right;\">\n",
              "      <th></th>\n",
              "      <th>FTPT</th>\n",
              "      <th>FFPT</th>\n",
              "      <th>FTPF</th>\n",
              "      <th>FFPF</th>\n",
              "    </tr>\n",
              "  </thead>\n",
              "  <tbody>\n",
              "    <tr>\n",
              "      <th>0</th>\n",
              "      <td>84.366667</td>\n",
              "      <td>15.6</td>\n",
              "      <td>0.033333</td>\n",
              "      <td>0.0</td>\n",
              "    </tr>\n",
              "  </tbody>\n",
              "</table>\n",
              "</div>"
            ],
            "text/plain": [
              "        FTPT  FFPT      FTPF  FFPF\n",
              "0  84.366667  15.6  0.033333   0.0"
            ]
          },
          "metadata": {
            "tags": []
          },
          "execution_count": 25
        }
      ]
    },
    {
      "cell_type": "markdown",
      "metadata": {
        "id": "xEyD6ktFQE1v"
      },
      "source": [
        "# Visualising"
      ]
    },
    {
      "cell_type": "code",
      "metadata": {
        "id": "aNF48RpeQEGG"
      },
      "source": [
        "xx,yy= np.meshgrid(np.arange(2,7,0.01),np.arange(3,8,0.01))\n",
        "X = np.concatenate((xx.reshape(-1,1),yy.reshape(-1,1)),axis=1)\n",
        "X = torch.Tensor(X).double().to(\"cuda\")\n",
        "Y = where.helper(X)\n",
        "Y1 = what(X)"
      ],
      "execution_count": 26,
      "outputs": []
    },
    {
      "cell_type": "code",
      "metadata": {
        "id": "9JUoGWONAXEk",
        "colab": {
          "base_uri": "https://localhost:8080/"
        },
        "outputId": "e193320f-3efe-4a59-dadf-d538e8c25292"
      },
      "source": [
        "X.shape,Y.shape"
      ],
      "execution_count": 27,
      "outputs": [
        {
          "output_type": "execute_result",
          "data": {
            "text/plain": [
              "(torch.Size([250000, 2]), torch.Size([250000, 1]))"
            ]
          },
          "metadata": {
            "tags": []
          },
          "execution_count": 27
        }
      ]
    },
    {
      "cell_type": "code",
      "metadata": {
        "id": "ZY5dF_lVQdI7"
      },
      "source": [
        "X = X.to(\"cpu\")\n",
        "Y = Y.to(\"cpu\")\n",
        "X = X.detach().numpy()\n",
        "Y = Y[:,0].detach().numpy()"
      ],
      "execution_count": 28,
      "outputs": []
    },
    {
      "cell_type": "code",
      "metadata": {
        "colab": {
          "base_uri": "https://localhost:8080/",
          "height": 409
        },
        "id": "mny5z58YQgF7",
        "outputId": "72529137-bec7-4313-c0f4-93d79fd8a505"
      },
      "source": [
        "fig = plt.figure(figsize=(6,6))\n",
        "cs = plt.contourf(X[:,0].reshape(xx.shape),X[:,1].reshape(yy.shape),Y.reshape(xx.shape))\n",
        "plt.xlabel(\"X1\")\n",
        "plt.ylabel(\"X2\")\n",
        "fig.colorbar(cs)\n",
        "plt.legend(loc='center left', bbox_to_anchor=(1, 0.5))\n",
        "plt.savefig(\"focus_contour.png\")#,bbox_inches='tight')"
      ],
      "execution_count": 29,
      "outputs": [
        {
          "output_type": "stream",
          "text": [
            "No handles with labels found to put in legend.\n"
          ],
          "name": "stderr"
        },
        {
          "output_type": "display_data",
          "data": {
            "image/png": "[encoded data removed]",
            "text/plain": [
              "<Figure size 432x432 with 2 Axes>"
            ]
          },
          "metadata": {
            "tags": [],
            "needs_background": "light"
          }
        }
      ]
    },
    {
      "cell_type": "code",
      "metadata": {
        "id": "bsb2GTtfQrRl"
      },
      "source": [
        "Y1 = Y1.to(\"cpu\")\n",
        "Y1 = Y1.detach().numpy()\n",
        "Y1 = torch.softmax(torch.Tensor(Y1),dim=1)\n",
        "_,Z4= torch.max(Y1,1)\n",
        "Z1 = Y1[:,0]\n",
        "Z2 = Y1[:,1]\n",
        "Z3 = Y1[:,2]"
      ],
      "execution_count": 30,
      "outputs": []
    },
    {
      "cell_type": "code",
      "metadata": {
        "id": "ZrIsgemfRiKV"
      },
      "source": [
        "data = np.load(\"type_4_data.npy\",allow_pickle=True)"
      ],
      "execution_count": 31,
      "outputs": []
    },
    {
      "cell_type": "code",
      "metadata": {
        "colab": {
          "base_uri": "https://localhost:8080/"
        },
        "id": "u2jBoIccRwvn",
        "outputId": "90a6a434-2a1e-4e6d-8533-428289f9b66e"
      },
      "source": [
        "x = data[0][\"X\"]\n",
        "y = data[0][\"Y\"]\n",
        "idx= []\n",
        "for i in range(10):\n",
        "  print(i,sum(y==i))\n",
        "  idx.append(y==i)"
      ],
      "execution_count": 32,
      "outputs": [
        {
          "output_type": "stream",
          "text": [
            "0 482\n",
            "1 485\n",
            "2 536\n",
            "3 504\n",
            "4 493\n",
            "5 513\n",
            "6 497\n",
            "7 486\n",
            "8 522\n",
            "9 482\n"
          ],
          "name": "stdout"
        }
      ]
    },
    {
      "cell_type": "code",
      "metadata": {
        "id": "sjBvVQHiU6st"
      },
      "source": [
        "avrg = []\n",
        "with torch.no_grad():\n",
        "  for i, data in  enumerate(train_loader):\n",
        "          inputs , labels , fore_idx = data\n",
        "          inputs = inputs.double()\n",
        "          inputs, labels = inputs.to(\"cuda\"),labels.to(\"cuda\")\n",
        "          avg_inp,alphas = where(inputs)\n",
        "          avrg.append(avg_inp.detach().cpu().numpy())\n",
        "avrg= np.concatenate(avrg,axis=0)"
      ],
      "execution_count": 33,
      "outputs": []
    },
    {
      "cell_type": "code",
      "metadata": {
        "colab": {
          "base_uri": "https://localhost:8080/",
          "height": 282
        },
        "id": "qo9bX1rDQ8H_",
        "outputId": "f2a01327-9ccf-4736-eb7c-e61c091a501d"
      },
      "source": [
        "plt.scatter(X[:,0],X[:,1],c=Z4)\n",
        "for i in range(3):\n",
        "  plt.scatter(x[idx[i],0],x[idx[i],1],label=\"class_\"+str(i))\n",
        "plt.legend(loc='center left', bbox_to_anchor=(1, 0.5))\n",
        "plt.scatter(avrg[:,0],avrg[:,1])\n",
        "#plt.savefig(\"decision_boundary.png\",bbox_inches=\"tight\")\n"
      ],
      "execution_count": 34,
      "outputs": [
        {
          "output_type": "execute_result",
          "data": {
            "text/plain": [
              "<matplotlib.collections.PathCollection at 0x7fc92fecc910>"
            ]
          },
          "metadata": {
            "tags": []
          },
          "execution_count": 34
        },
        {
          "output_type": "display_data",
          "data": {
            "image/png": "[encoded data removed]",
            "text/plain": [
              "<Figure size 432x288 with 1 Axes>"
            ]
          },
          "metadata": {
            "tags": [],
            "needs_background": "light"
          }
        }
      ]
    },
    {
      "cell_type": "code",
      "metadata": {
        "id": "E2urGI2sRNTk"
      },
      "source": [
        "true = []\n",
        "pred = []\n",
        "acc= 0\n",
        "for i, data in  enumerate(train_loader):\n",
        "        inputs , labels , fore_idx = data\n",
        "        inputs = inputs.double()\n",
        "        inputs  = inputs.to(\"cuda\")\n",
        "        avg_inp,alphas = where(inputs)\n",
        "        outputs = what(avg_inp)\n",
        "        _, predicted = torch.max(outputs.data, 1)\n",
        "        true.append(labels)\n",
        "        pred.append(predicted.cpu().numpy())\n",
        "        acc+=sum(predicted.cpu() == labels)"
      ],
      "execution_count": 35,
      "outputs": []
    },
    {
      "cell_type": "code",
      "metadata": {
        "id": "BfsyhpDsTl5k"
      },
      "source": [
        "true = np.concatenate(true,axis=0)\n",
        "pred = np.concatenate(pred,axis=0)"
      ],
      "execution_count": 36,
      "outputs": []
    },
    {
      "cell_type": "code",
      "metadata": {
        "colab": {
          "base_uri": "https://localhost:8080/"
        },
        "id": "18aencX6V7HQ",
        "outputId": "d371c42f-d6df-4845-ca59-9072360fd29b"
      },
      "source": [
        "from sklearn.metrics import confusion_matrix\n",
        "confusion_matrix(true,pred)"
      ],
      "execution_count": 37,
      "outputs": [
        {
          "output_type": "execute_result",
          "data": {
            "text/plain": [
              "array([[ 962,    0,    0],\n",
              "       [   0,  991,    0],\n",
              "       [   0,    1, 1046]])"
            ]
          },
          "metadata": {
            "tags": []
          },
          "execution_count": 37
        }
      ]
    },
    {
      "cell_type": "code",
      "metadata": {
        "id": "xhnUWytoWBKI"
      },
      "source": [
        ""
      ],
      "execution_count": 37,
      "outputs": []
    }
  ]
}