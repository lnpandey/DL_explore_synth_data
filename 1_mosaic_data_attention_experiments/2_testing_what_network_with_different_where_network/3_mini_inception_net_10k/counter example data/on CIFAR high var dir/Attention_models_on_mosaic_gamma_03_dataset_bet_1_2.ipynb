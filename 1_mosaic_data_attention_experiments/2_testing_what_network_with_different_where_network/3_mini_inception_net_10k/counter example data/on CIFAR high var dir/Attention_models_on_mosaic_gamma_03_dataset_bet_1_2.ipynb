{
  "nbformat": 4,
  "nbformat_minor": 0,
  "metadata": {
    "accelerator": "GPU",
    "colab": {
      "name": "Attention_models_on_mosaic_gamma_03.ipynb",
      "provenance": [],
      "collapsed_sections": [],
      "machine_shape": "hm"
    },
    "kernelspec": {
      "display_name": "Python 3",
      "language": "python",
      "name": "python3"
    },
    "language_info": {
      "codemirror_mode": {
        "name": "ipython",
        "version": 3
      },
      "file_extension": ".py",
      "mimetype": "text/x-python",
      "name": "python",
      "nbconvert_exporter": "python",
      "pygments_lexer": "ipython3",
      "version": "3.6.5"
    },
    "widgets": {
      "application/vnd.jupyter.widget-state+json": {
        "f6cc70b86b744d64a3e99ce9fc177288": {
          "model_module": "@jupyter-widgets/controls",
          "model_name": "HBoxModel",
          "state": {
            "_view_name": "HBoxView",
            "_dom_classes": [],
            "_model_name": "HBoxModel",
            "_view_module": "@jupyter-widgets/controls",
            "_model_module_version": "1.5.0",
            "_view_count": null,
            "_view_module_version": "1.5.0",
            "box_style": "",
            "layout": "IPY_MODEL_91b776ef4f8940caa7fa6576195973fe",
            "_model_module": "@jupyter-widgets/controls",
            "children": [
              "IPY_MODEL_2e87fa496dab41c5b044db1d80294f67",
              "IPY_MODEL_23bee9acb55b432badb9fb233fe4d7f5"
            ]
          }
        },
        "91b776ef4f8940caa7fa6576195973fe": {
          "model_module": "@jupyter-widgets/base",
          "model_name": "LayoutModel",
          "state": {
            "_view_name": "LayoutView",
            "grid_template_rows": null,
            "right": null,
            "justify_content": null,
            "_view_module": "@jupyter-widgets/base",
            "overflow": null,
            "_model_module_version": "1.2.0",
            "_view_count": null,
            "flex_flow": null,
            "width": null,
            "min_width": null,
            "border": null,
            "align_items": null,
            "bottom": null,
            "_model_module": "@jupyter-widgets/base",
            "top": null,
            "grid_column": null,
            "overflow_y": null,
            "overflow_x": null,
            "grid_auto_flow": null,
            "grid_area": null,
            "grid_template_columns": null,
            "flex": null,
            "_model_name": "LayoutModel",
            "justify_items": null,
            "grid_row": null,
            "max_height": null,
            "align_content": null,
            "visibility": null,
            "align_self": null,
            "height": null,
            "min_height": null,
            "padding": null,
            "grid_auto_rows": null,
            "grid_gap": null,
            "max_width": null,
            "order": null,
            "_view_module_version": "1.2.0",
            "grid_template_areas": null,
            "object_position": null,
            "object_fit": null,
            "grid_auto_columns": null,
            "margin": null,
            "display": null,
            "left": null
          }
        },
        "2e87fa496dab41c5b044db1d80294f67": {
          "model_module": "@jupyter-widgets/controls",
          "model_name": "FloatProgressModel",
          "state": {
            "_view_name": "ProgressView",
            "style": "IPY_MODEL_359625a2b7ad400099448fea3588ce5b",
            "_dom_classes": [],
            "description": "",
            "_model_name": "FloatProgressModel",
            "bar_style": "success",
            "max": 1,
            "_view_module": "@jupyter-widgets/controls",
            "_model_module_version": "1.5.0",
            "value": 1,
            "_view_count": null,
            "_view_module_version": "1.5.0",
            "orientation": "horizontal",
            "min": 0,
            "description_tooltip": null,
            "_model_module": "@jupyter-widgets/controls",
            "layout": "IPY_MODEL_ebaa4b42044b481daf409e0d28a9f920"
          }
        },
        "23bee9acb55b432badb9fb233fe4d7f5": {
          "model_module": "@jupyter-widgets/controls",
          "model_name": "HTMLModel",
          "state": {
            "_view_name": "HTMLView",
            "style": "IPY_MODEL_ed4b3ebeb3974c868195565da5ec2dd2",
            "_dom_classes": [],
            "description": "",
            "_model_name": "HTMLModel",
            "placeholder": "​",
            "_view_module": "@jupyter-widgets/controls",
            "_model_module_version": "1.5.0",
            "value": " 170500096/? [00:06&lt;00:00, 28245188.97it/s]",
            "_view_count": null,
            "_view_module_version": "1.5.0",
            "description_tooltip": null,
            "_model_module": "@jupyter-widgets/controls",
            "layout": "IPY_MODEL_af62bf10493f4bca8d99b6fe21246cd5"
          }
        },
        "359625a2b7ad400099448fea3588ce5b": {
          "model_module": "@jupyter-widgets/controls",
          "model_name": "ProgressStyleModel",
          "state": {
            "_view_name": "StyleView",
            "_model_name": "ProgressStyleModel",
            "description_width": "initial",
            "_view_module": "@jupyter-widgets/base",
            "_model_module_version": "1.5.0",
            "_view_count": null,
            "_view_module_version": "1.2.0",
            "bar_color": null,
            "_model_module": "@jupyter-widgets/controls"
          }
        },
        "ebaa4b42044b481daf409e0d28a9f920": {
          "model_module": "@jupyter-widgets/base",
          "model_name": "LayoutModel",
          "state": {
            "_view_name": "LayoutView",
            "grid_template_rows": null,
            "right": null,
            "justify_content": null,
            "_view_module": "@jupyter-widgets/base",
            "overflow": null,
            "_model_module_version": "1.2.0",
            "_view_count": null,
            "flex_flow": null,
            "width": null,
            "min_width": null,
            "border": null,
            "align_items": null,
            "bottom": null,
            "_model_module": "@jupyter-widgets/base",
            "top": null,
            "grid_column": null,
            "overflow_y": null,
            "overflow_x": null,
            "grid_auto_flow": null,
            "grid_area": null,
            "grid_template_columns": null,
            "flex": null,
            "_model_name": "LayoutModel",
            "justify_items": null,
            "grid_row": null,
            "max_height": null,
            "align_content": null,
            "visibility": null,
            "align_self": null,
            "height": null,
            "min_height": null,
            "padding": null,
            "grid_auto_rows": null,
            "grid_gap": null,
            "max_width": null,
            "order": null,
            "_view_module_version": "1.2.0",
            "grid_template_areas": null,
            "object_position": null,
            "object_fit": null,
            "grid_auto_columns": null,
            "margin": null,
            "display": null,
            "left": null
          }
        },
        "ed4b3ebeb3974c868195565da5ec2dd2": {
          "model_module": "@jupyter-widgets/controls",
          "model_name": "DescriptionStyleModel",
          "state": {
            "_view_name": "StyleView",
            "_model_name": "DescriptionStyleModel",
            "description_width": "",
            "_view_module": "@jupyter-widgets/base",
            "_model_module_version": "1.5.0",
            "_view_count": null,
            "_view_module_version": "1.2.0",
            "_model_module": "@jupyter-widgets/controls"
          }
        },
        "af62bf10493f4bca8d99b6fe21246cd5": {
          "model_module": "@jupyter-widgets/base",
          "model_name": "LayoutModel",
          "state": {
            "_view_name": "LayoutView",
            "grid_template_rows": null,
            "right": null,
            "justify_content": null,
            "_view_module": "@jupyter-widgets/base",
            "overflow": null,
            "_model_module_version": "1.2.0",
            "_view_count": null,
            "flex_flow": null,
            "width": null,
            "min_width": null,
            "border": null,
            "align_items": null,
            "bottom": null,
            "_model_module": "@jupyter-widgets/base",
            "top": null,
            "grid_column": null,
            "overflow_y": null,
            "overflow_x": null,
            "grid_auto_flow": null,
            "grid_area": null,
            "grid_template_columns": null,
            "flex": null,
            "_model_name": "LayoutModel",
            "justify_items": null,
            "grid_row": null,
            "max_height": null,
            "align_content": null,
            "visibility": null,
            "align_self": null,
            "height": null,
            "min_height": null,
            "padding": null,
            "grid_auto_rows": null,
            "grid_gap": null,
            "max_width": null,
            "order": null,
            "_view_module_version": "1.2.0",
            "grid_template_areas": null,
            "object_position": null,
            "object_fit": null,
            "grid_auto_columns": null,
            "margin": null,
            "display": null,
            "left": null
          }
        }
      }
    }
  },
  "cells": [
    {
      "cell_type": "code",
      "metadata": {
        "id": "JSjG64ra4aFu"
      },
      "source": [
        "# from google.colab import drive\n",
        "# drive.mount('/content/drive')\n",
        "# # !pip install torch"
      ],
      "execution_count": null,
      "outputs": []
    },
    {
      "cell_type": "code",
      "metadata": {
        "id": "V8-7SARDZErK"
      },
      "source": [
        "import torch.nn as nn\n",
        "import torch.nn.functional as F\n",
        "\n",
        "import pandas as pd\n",
        "import numpy as np\n",
        "import matplotlib.pyplot as plt\n",
        "\n",
        "import torch\n",
        "import torchvision\n",
        "import torchvision.transforms as transforms\n",
        "from torch.utils.data import Dataset, DataLoader\n",
        "from torchvision import transforms, utils\n",
        "import torch.optim as optim\n",
        "from matplotlib import pyplot as plt\n",
        "import random\n",
        "import copy\n",
        "import pickle\n",
        "# Ignore warnings\n",
        "import warnings\n",
        "warnings.filterwarnings(\"ignore\")\n",
        "from numpy import linalg as LA\n",
        "from tabulate import tabulate\n",
        "# Ignore warnings\n",
        "import warnings\n",
        "warnings.filterwarnings(\"ignore\")\n"
      ],
      "execution_count": null,
      "outputs": []
    },
    {
      "cell_type": "code",
      "metadata": {
        "id": "3tquyEd6CrMM",
        "outputId": "ec7a5573-7de5-47d5-d463-f17e671ff4e8",
        "colab": {
          "base_uri": "https://localhost:8080/",
          "height": 104,
          "referenced_widgets": [
            "f6cc70b86b744d64a3e99ce9fc177288",
            "91b776ef4f8940caa7fa6576195973fe",
            "2e87fa496dab41c5b044db1d80294f67",
            "23bee9acb55b432badb9fb233fe4d7f5",
            "359625a2b7ad400099448fea3588ce5b",
            "ebaa4b42044b481daf409e0d28a9f920",
            "ed4b3ebeb3974c868195565da5ec2dd2",
            "af62bf10493f4bca8d99b6fe21246cd5"
          ]
        }
      },
      "source": [
        "transform = transforms.Compose(\n",
        "    [transforms.ToTensor(),\n",
        "     transforms.Normalize((0.5, 0.5, 0.5), (0.5, 0.5, 0.5))])\n",
        "\n",
        "trainset = torchvision.datasets.CIFAR10(root='./data', train=True, download=True, transform=transform)\n",
        "\n",
        "\n",
        "testset = torchvision.datasets.CIFAR10(root='./data', train=False, download=True, transform=transform)"
      ],
      "execution_count": null,
      "outputs": [
        {
          "output_type": "stream",
          "text": [
            "Downloading https://www.cs.toronto.edu/~kriz/cifar-10-python.tar.gz to ./data/cifar-10-python.tar.gz\n"
          ],
          "name": "stdout"
        },
        {
          "output_type": "display_data",
          "data": {
            "application/vnd.jupyter.widget-view+json": {
              "model_id": "f6cc70b86b744d64a3e99ce9fc177288",
              "version_minor": 0,
              "version_major": 2
            },
            "text/plain": [
              "HBox(children=(FloatProgress(value=1.0, bar_style='info', max=1.0), HTML(value='')))"
            ]
          },
          "metadata": {
            "tags": []
          }
        },
        {
          "output_type": "stream",
          "text": [
            "Extracting ./data/cifar-10-python.tar.gz to ./data\n",
            "Files already downloaded and verified\n"
          ],
          "name": "stdout"
        }
      ]
    },
    {
      "cell_type": "code",
      "metadata": {
        "id": "LL2HZ1Q80UU4",
        "outputId": "c4439a45-ed29-4594-a640-bca1970f638b",
        "colab": {
          "base_uri": "https://localhost:8080/"
        }
      },
      "source": [
        "gamma = 0.03\n",
        "gamma"
      ],
      "execution_count": null,
      "outputs": [
        {
          "output_type": "execute_result",
          "data": {
            "text/plain": [
              "0.03"
            ]
          },
          "metadata": {
            "tags": []
          },
          "execution_count": 4
        }
      ]
    },
    {
      "cell_type": "code",
      "metadata": {
        "id": "ruTiWAOeCrMR",
        "outputId": "53974244-d067-4d8d-e193-7618dd80e319",
        "colab": {
          "base_uri": "https://localhost:8080/"
        }
      },
      "source": [
        "classes = ('plane', 'car', 'bird', 'cat', 'deer', 'dog', 'frog', 'horse', 'ship', 'truck')\n",
        "\n",
        "foreground_classes = {'plane', 'car', 'bird'}\n",
        "fg_used = '012'\n",
        "fg1, fg2, fg3 = 0,1,2\n",
        "\n",
        "\n",
        "all_classes = {'plane', 'car', 'bird', 'cat', 'deer', 'dog', 'frog', 'horse', 'ship', 'truck'}\n",
        "background_classes = all_classes - foreground_classes\n",
        "background_classes\n"
      ],
      "execution_count": null,
      "outputs": [
        {
          "output_type": "execute_result",
          "data": {
            "text/plain": [
              "{'cat', 'deer', 'dog', 'frog', 'horse', 'ship', 'truck'}"
            ]
          },
          "metadata": {
            "tags": []
          },
          "execution_count": 5
        }
      ]
    },
    {
      "cell_type": "code",
      "metadata": {
        "id": "Gf7_2PNt0RVG"
      },
      "source": [
        "trainloader = torch.utils.data.DataLoader(trainset, batch_size=10, shuffle=False)\n",
        "testloader = torch.utils.data.DataLoader(testset, batch_size=10, shuffle=False)"
      ],
      "execution_count": null,
      "outputs": []
    },
    {
      "cell_type": "code",
      "metadata": {
        "id": "ZWIK-x4iCrMW",
        "outputId": "5c95c5cc-60b8-4aae-e151-34536ee5a7d3",
        "colab": {
          "base_uri": "https://localhost:8080/"
        }
      },
      "source": [
        "dataiter = iter(trainloader)\n",
        "true_train_background_data=[]\n",
        "true_train_background_label=[]\n",
        "true_train_foreground_data=[]\n",
        "true_train_foreground_label=[]\n",
        "batch_size=10\n",
        "\n",
        "for i in range(5000):\n",
        "  images, labels = dataiter.next()\n",
        "  for j in range(batch_size):\n",
        "    if(classes[labels[j]] in background_classes):\n",
        "      img = images[j].tolist()\n",
        "      true_train_background_data.append(img)\n",
        "      true_train_background_label.append(labels[j])\n",
        "    else:\n",
        "      img = images[j].tolist()\n",
        "      true_train_foreground_data.append(img)\n",
        "      true_train_foreground_label.append(labels[j])\n",
        "            \n",
        "true_train_foreground_data = torch.tensor(true_train_foreground_data)\n",
        "true_train_foreground_label = torch.tensor(true_train_foreground_label)\n",
        "true_train_background_data = torch.tensor(true_train_background_data)\n",
        "true_train_background_label = torch.tensor(true_train_background_label)\n",
        "    "
      ],
      "execution_count": null,
      "outputs": [
        {
          "output_type": "stream",
          "text": [
            "\n"
          ],
          "name": "stdout"
        }
      ]
    },
    {
      "cell_type": "code",
      "metadata": {
        "id": "jeZINAVh2kd1"
      },
      "source": [
        "true_train = trainset.data"
      ],
      "execution_count": null,
      "outputs": []
    },
    {
      "cell_type": "code",
      "metadata": {
        "id": "ZTTuRibG2kZI"
      },
      "source": [
        "train_label = trainset.targets"
      ],
      "execution_count": null,
      "outputs": []
    },
    {
      "cell_type": "code",
      "metadata": {
        "id": "ECH6otQt2kWc"
      },
      "source": [
        "true_train_cifar_norm=[]\n",
        "for i in range(len(true_train)):\n",
        "  true_train_cifar_norm.append(LA.norm(true_train[i]))"
      ],
      "execution_count": null,
      "outputs": []
    },
    {
      "cell_type": "code",
      "metadata": {
        "id": "YINcepdH2kTn",
        "outputId": "2432189a-afa4-437e-e5a7-d9690552a998",
        "colab": {
          "base_uri": "https://localhost:8080/"
        }
      },
      "source": [
        "len(true_train_cifar_norm)"
      ],
      "execution_count": null,
      "outputs": [
        {
          "output_type": "execute_result",
          "data": {
            "text/plain": [
              "50000"
            ]
          },
          "metadata": {
            "tags": []
          },
          "execution_count": 11
        }
      ]
    },
    {
      "cell_type": "code",
      "metadata": {
        "id": "KcrfBVMp2kQz"
      },
      "source": [
        "def plot_hist(values):\n",
        "  plt.hist(values, density=True, bins=200)  # `density=False` would make counts\n",
        "  plt.ylabel('NORM')\n",
        "  plt.xlabel('Data');"
      ],
      "execution_count": null,
      "outputs": []
    },
    {
      "cell_type": "code",
      "metadata": {
        "id": "-oxw9hJ82kN4",
        "outputId": "b8b51246-29e3-4084-ef9c-50d4683f11a0",
        "colab": {
          "base_uri": "https://localhost:8080/",
          "height": 279
        }
      },
      "source": [
        "plot_hist(true_train_cifar_norm)"
      ],
      "execution_count": null,
      "outputs": [
        {
          "output_type": "display_data",
          "data": {
            "image/png": "[encoded data removed]",
            "text/plain": [
              "<Figure size 432x288 with 1 Axes>"
            ]
          },
          "metadata": {
            "tags": [],
            "needs_background": "light"
          }
        }
      ]
    },
    {
      "cell_type": "code",
      "metadata": {
        "id": "baIgv2UZ2kKu",
        "outputId": "e3610423-1c87-41b7-87f0-731ad2c036a1",
        "colab": {
          "base_uri": "https://localhost:8080/"
        }
      },
      "source": [
        "true_train.shape"
      ],
      "execution_count": null,
      "outputs": [
        {
          "output_type": "execute_result",
          "data": {
            "text/plain": [
              "(50000, 32, 32, 3)"
            ]
          },
          "metadata": {
            "tags": []
          },
          "execution_count": 14
        }
      ]
    },
    {
      "cell_type": "code",
      "metadata": {
        "id": "NdwDIXDK2kEf",
        "outputId": "5ef88095-36cb-4bb8-9e7e-0b076d4f45b4",
        "colab": {
          "base_uri": "https://localhost:8080/"
        }
      },
      "source": [
        "train = np.reshape(true_train, (50000,3072))\n",
        "train.shape, true_train.shape"
      ],
      "execution_count": null,
      "outputs": [
        {
          "output_type": "execute_result",
          "data": {
            "text/plain": [
              "((50000, 3072), (50000, 32, 32, 3))"
            ]
          },
          "metadata": {
            "tags": []
          },
          "execution_count": 15
        }
      ]
    },
    {
      "cell_type": "code",
      "metadata": {
        "id": "C95aHpjT2j6G"
      },
      "source": [
        "u, s, vh = LA.svd(train, full_matrices= False)"
      ],
      "execution_count": null,
      "outputs": []
    },
    {
      "cell_type": "code",
      "metadata": {
        "id": "TmCXaL1U3zTR",
        "outputId": "eee8677f-8029-4d22-86c2-95af48c983eb",
        "colab": {
          "base_uri": "https://localhost:8080/"
        }
      },
      "source": [
        "u.shape , s.shape, vh.shape"
      ],
      "execution_count": null,
      "outputs": [
        {
          "output_type": "execute_result",
          "data": {
            "text/plain": [
              "((50000, 3072), (3072,), (3072, 3072))"
            ]
          },
          "metadata": {
            "tags": []
          },
          "execution_count": 17
        }
      ]
    },
    {
      "cell_type": "code",
      "metadata": {
        "id": "mWL4pBAp3zRf",
        "outputId": "497eff42-6bfc-4301-fb16-7bd562470841",
        "colab": {
          "base_uri": "https://localhost:8080/"
        }
      },
      "source": [
        "s"
      ],
      "execution_count": null,
      "outputs": [
        {
          "output_type": "execute_result",
          "data": {
            "text/plain": [
              "array([1.55289927e+06, 2.82437414e+05, 2.17772149e+05, ...,\n",
              "       7.31736954e+01, 7.23349722e+01, 7.18349192e+01])"
            ]
          },
          "metadata": {
            "tags": []
          },
          "execution_count": 18
        }
      ]
    },
    {
      "cell_type": "code",
      "metadata": {
        "id": "UvHK4RoZ3zOo",
        "outputId": "e7f9a231-9b71-4fbd-bc4c-5118ee864924",
        "colab": {
          "base_uri": "https://localhost:8080/"
        }
      },
      "source": [
        "vh"
      ],
      "execution_count": null,
      "outputs": [
        {
          "output_type": "execute_result",
          "data": {
            "text/plain": [
              "array([[-0.01984194, -0.02066161, -0.02037075, ..., -0.01879724,\n",
              "        -0.01874038, -0.01729938],\n",
              "       [-0.02488245, -0.02705999, -0.03195926, ...,  0.01262528,\n",
              "         0.01096339,  0.00766722],\n",
              "       [-0.0159231 , -0.01437591, -0.01281541, ..., -0.02971411,\n",
              "        -0.0283376 , -0.02749635],\n",
              "       ...,\n",
              "       [-0.00449998,  0.00770844, -0.00281931, ..., -0.00013103,\n",
              "        -0.00080887,  0.00071151],\n",
              "       [ 0.00433324, -0.00629207,  0.00181791, ..., -0.00168695,\n",
              "         0.00131196,  0.00052667],\n",
              "       [-0.00574169,  0.00783184, -0.00186197, ...,  0.00511688,\n",
              "        -0.00678068,  0.00138508]])"
            ]
          },
          "metadata": {
            "tags": []
          },
          "execution_count": 19
        }
      ]
    },
    {
      "cell_type": "code",
      "metadata": {
        "id": "zv63iYJ73zL9",
        "outputId": "b4b9db64-be93-4c97-a15d-5fa2eb16315d",
        "colab": {
          "base_uri": "https://localhost:8080/"
        }
      },
      "source": [
        "dir = vh[0:10,:]\n",
        "dir"
      ],
      "execution_count": null,
      "outputs": [
        {
          "output_type": "execute_result",
          "data": {
            "text/plain": [
              "array([[-0.01984194, -0.02066161, -0.02037075, ..., -0.01879724,\n",
              "        -0.01874038, -0.01729938],\n",
              "       [-0.02488245, -0.02705999, -0.03195926, ...,  0.01262528,\n",
              "         0.01096339,  0.00766722],\n",
              "       [-0.0159231 , -0.01437591, -0.01281541, ..., -0.02971411,\n",
              "        -0.0283376 , -0.02749635],\n",
              "       ...,\n",
              "       [-0.02951743, -0.02937473, -0.03039219, ..., -0.02521525,\n",
              "        -0.02499111, -0.02603696],\n",
              "       [ 0.01470676,  0.01439471,  0.01525553, ...,  0.02250098,\n",
              "         0.02203123,  0.02426003],\n",
              "       [-0.01884432, -0.01897853, -0.01804426, ...,  0.01736868,\n",
              "         0.01658565,  0.01618766]])"
            ]
          },
          "metadata": {
            "tags": []
          },
          "execution_count": 20
        }
      ]
    },
    {
      "cell_type": "code",
      "metadata": {
        "id": "QvWnFfBB3zJS"
      },
      "source": [
        "u1 = dir[0,:]\n",
        "u2 = dir[1,:]\n",
        "u3 = dir[2,:]"
      ],
      "execution_count": null,
      "outputs": []
    },
    {
      "cell_type": "code",
      "metadata": {
        "id": "fHOMlXvf3zGY",
        "outputId": "00c31617-b401-4cf8-9879-424c0b0ff473",
        "colab": {
          "base_uri": "https://localhost:8080/"
        }
      },
      "source": [
        "u1"
      ],
      "execution_count": null,
      "outputs": [
        {
          "output_type": "execute_result",
          "data": {
            "text/plain": [
              "array([-0.01984194, -0.02066161, -0.02037075, ..., -0.01879724,\n",
              "       -0.01874038, -0.01729938])"
            ]
          },
          "metadata": {
            "tags": []
          },
          "execution_count": 22
        }
      ]
    },
    {
      "cell_type": "code",
      "metadata": {
        "id": "xgNaI-A93zD1",
        "outputId": "16162e31-e7b0-40e4-fd77-f130474c884f",
        "colab": {
          "base_uri": "https://localhost:8080/"
        }
      },
      "source": [
        "u2"
      ],
      "execution_count": null,
      "outputs": [
        {
          "output_type": "execute_result",
          "data": {
            "text/plain": [
              "array([-0.02488245, -0.02705999, -0.03195926, ...,  0.01262528,\n",
              "        0.01096339,  0.00766722])"
            ]
          },
          "metadata": {
            "tags": []
          },
          "execution_count": 23
        }
      ]
    },
    {
      "cell_type": "code",
      "metadata": {
        "id": "Eclj9oyu3zBU",
        "outputId": "8899ea02-0ce1-49ff-fb0b-7bf6afa33651",
        "colab": {
          "base_uri": "https://localhost:8080/"
        }
      },
      "source": [
        "u3"
      ],
      "execution_count": null,
      "outputs": [
        {
          "output_type": "execute_result",
          "data": {
            "text/plain": [
              "array([-0.0159231 , -0.01437591, -0.01281541, ..., -0.02971411,\n",
              "       -0.0283376 , -0.02749635])"
            ]
          },
          "metadata": {
            "tags": []
          },
          "execution_count": 24
        }
      ]
    },
    {
      "cell_type": "code",
      "metadata": {
        "id": "gNF3zwnO3y-h",
        "outputId": "f13f9ca8-eec7-4bf7-8ede-e76c1371b57f",
        "colab": {
          "base_uri": "https://localhost:8080/"
        }
      },
      "source": [
        "len(train_label)"
      ],
      "execution_count": null,
      "outputs": [
        {
          "output_type": "execute_result",
          "data": {
            "text/plain": [
              "50000"
            ]
          },
          "metadata": {
            "tags": []
          },
          "execution_count": 25
        }
      ]
    },
    {
      "cell_type": "code",
      "metadata": {
        "id": "3HNDi6y13y7G"
      },
      "source": [
        "def is_equal(x1, x2):\n",
        "  cnt=0\n",
        "  for i in range(len(x1)):\n",
        "    if(x1[i] == x2[i]):\n",
        "      cnt+=1\n",
        "  return cnt"
      ],
      "execution_count": null,
      "outputs": []
    },
    {
      "cell_type": "code",
      "metadata": {
        "id": "1lpJsCo54Gul"
      },
      "source": [
        "def add_noise_cifar(train, label, gamma, fg1,fg2,fg3):\n",
        "  cnt=0\n",
        "\n",
        "  for i in range(len(label)):\n",
        "    x = train[i]\n",
        "    if(label[i] == fg1):\n",
        "      train[i] = train[i] + gamma * LA.norm(train[i]) * u1\n",
        "      cnt+=1\n",
        "\n",
        "    if(label[i] == fg2):\n",
        "      train[i] = train[i] + gamma * LA.norm(train[i]) * u2\n",
        "      cnt+=1\n",
        "\n",
        "    if(label[i] == fg3):\n",
        "      train[i] = train[i] + gamma * LA.norm(train[i]) * u3\n",
        "      cnt+=1\n",
        "    y = train[i]\n",
        "\n",
        "  print(\"total modified\",cnt)\n",
        "\n",
        "  return train"
      ],
      "execution_count": null,
      "outputs": []
    },
    {
      "cell_type": "code",
      "metadata": {
        "id": "qtJWEBln4GsO",
        "outputId": "f04242ca-f4a4-4069-ed8d-f2f31d82e98e",
        "colab": {
          "base_uri": "https://localhost:8080/",
          "height": 318
        }
      },
      "source": [
        "noise_train = np.reshape(true_train, (50000,3072))\n",
        "noise_train = add_noise_cifar(noise_train, train_label, gamma , fg1,fg2,fg3)\n",
        "noise_train_cifar_norm=[]\n",
        "for i in range(len(noise_train)):\n",
        "  noise_train_cifar_norm.append(LA.norm(noise_train[i]))\n",
        "plt.hist(noise_train_cifar_norm, density=True, bins=200,label='gamma='+str(gamma))  # `density=False` would make counts\n",
        "plt.hist(true_train_cifar_norm, density=True, bins=200,label='true') \n",
        "plt.ylabel('NORM')\n",
        "plt.xlabel('Data')\n",
        "plt.legend()\n",
        "print(\"remain same\",is_equal(noise_train_cifar_norm,true_train_cifar_norm))"
      ],
      "execution_count": null,
      "outputs": [
        {
          "output_type": "stream",
          "text": [
            "total modified 15000\n",
            "remain same 35000\n"
          ],
          "name": "stdout"
        },
        {
          "output_type": "display_data",
          "data": {
            "image/png": "[encoded data removed]",
            "text/plain": [
              "<Figure size 432x288 with 1 Axes>"
            ]
          },
          "metadata": {
            "tags": [],
            "needs_background": "light"
          }
        }
      ]
    },
    {
      "cell_type": "code",
      "metadata": {
        "id": "yOSBSX2B4Gpp",
        "outputId": "21b247f1-4627-46af-89d0-c3b49e5b9879",
        "colab": {
          "base_uri": "https://localhost:8080/"
        }
      },
      "source": [
        "noise_train.shape, trainset.data.shape"
      ],
      "execution_count": null,
      "outputs": [
        {
          "output_type": "execute_result",
          "data": {
            "text/plain": [
              "((50000, 3072), (50000, 32, 32, 3))"
            ]
          },
          "metadata": {
            "tags": []
          },
          "execution_count": 29
        }
      ]
    },
    {
      "cell_type": "code",
      "metadata": {
        "id": "D0uKo-WU4Gm7",
        "outputId": "746a4a02-e1fc-43a5-b372-2ba5a5f35de9",
        "colab": {
          "base_uri": "https://localhost:8080/"
        }
      },
      "source": [
        "noise_train = np.reshape(noise_train, (50000,32, 32, 3))\n",
        "noise_train.shape"
      ],
      "execution_count": null,
      "outputs": [
        {
          "output_type": "execute_result",
          "data": {
            "text/plain": [
              "(50000, 32, 32, 3)"
            ]
          },
          "metadata": {
            "tags": []
          },
          "execution_count": 30
        }
      ]
    },
    {
      "cell_type": "code",
      "metadata": {
        "id": "yUnS27wj4Gkn"
      },
      "source": [
        "trainset.data = noise_train"
      ],
      "execution_count": null,
      "outputs": []
    },
    {
      "cell_type": "code",
      "metadata": {
        "id": "lt6iIc6D4Gh9"
      },
      "source": [
        "dataiter = iter(trainloader)\n",
        "background_data=[]\n",
        "background_label=[]\n",
        "foreground_data=[]\n",
        "foreground_label=[]\n",
        "batch_size=10\n",
        "\n",
        "for i in range(5000):   #5000*batch_size = 50000 data points\n",
        "  images, labels = dataiter.next()\n",
        "  for j in range(batch_size):\n",
        "    if(classes[labels[j]] in background_classes):\n",
        "      img = images[j].tolist()\n",
        "      background_data.append(img)\n",
        "      background_label.append(labels[j])\n",
        "    else:\n",
        "      img = images[j].tolist()\n",
        "      foreground_data.append(img)\n",
        "      foreground_label.append(labels[j])\n",
        "            \n",
        "foreground_data = torch.tensor(foreground_data)\n",
        "foreground_label = torch.tensor(foreground_label)\n",
        "background_data = torch.tensor(background_data)\n",
        "background_label = torch.tensor(background_label)\n",
        "    "
      ],
      "execution_count": null,
      "outputs": []
    },
    {
      "cell_type": "code",
      "metadata": {
        "id": "j2PlOCj4CrMb"
      },
      "source": [
        "def imshow(img):\n",
        "  img = img / 2 + 0.5     # unnormalize\n",
        "  npimg = img#.numpy()\n",
        "  plt.imshow(np.transpose(npimg, axes = (1, 2, 0)))\n",
        "  plt.show()"
      ],
      "execution_count": null,
      "outputs": []
    },
    {
      "cell_type": "code",
      "metadata": {
        "id": "6a7HVw3E5L3J",
        "outputId": "daec4781-6326-4ca2-e5ea-ad2b1a1d6f3a",
        "colab": {
          "base_uri": "https://localhost:8080/",
          "height": 1000
        }
      },
      "source": [
        "import random\n",
        "for i in range(10):\n",
        "  random.seed(i)\n",
        "  a = np.random.randint(0,10000)\n",
        "  img1 = torch.cat((true_train_foreground_data[i], foreground_data[i]),2)\n",
        "  imshow(img1)"
      ],
      "execution_count": null,
      "outputs": [
        {
          "output_type": "display_data",
          "data": {
            "image/png": "[encoded data removed]",
            "text/plain": [
              "<Figure size 432x288 with 1 Axes>"
            ]
          },
          "metadata": {
            "tags": [],
            "needs_background": "light"
          }
        },
        {
          "output_type": "display_data",
          "data": {
            "image/png": "[encoded data removed]",
            "text/plain": [
              "<Figure size 432x288 with 1 Axes>"
            ]
          },
          "metadata": {
            "tags": [],
            "needs_background": "light"
          }
        },
        {
          "output_type": "display_data",
          "data": {
            "image/png": "[encoded data removed]",
            "text/plain": [
              "<Figure size 432x288 with 1 Axes>"
            ]
          },
          "metadata": {
            "tags": [],
            "needs_background": "light"
          }
        },
        {
          "output_type": "display_data",
          "data": {
            "image/png": "[encoded data removed]",
            "text/plain": [
              "<Figure size 432x288 with 1 Axes>"
            ]
          },
          "metadata": {
            "tags": [],
            "needs_background": "light"
          }
        },
        {
          "output_type": "display_data",
          "data": {
            "image/png": "[encoded data removed]",
            "text/plain": [
              "<Figure size 432x288 with 1 Axes>"
            ]
          },
          "metadata": {
            "tags": [],
            "needs_background": "light"
          }
        },
        {
          "output_type": "display_data",
          "data": {
            "image/png": "[encoded data removed]",
            "text/plain": [
              "<Figure size 432x288 with 1 Axes>"
            ]
          },
          "metadata": {
            "tags": [],
            "needs_background": "light"
          }
        },
        {
          "output_type": "display_data",
          "data": {
            "image/png": "[encoded data removed]",
            "text/plain": [
              "<Figure size 432x288 with 1 Axes>"
            ]
          },
          "metadata": {
            "tags": [],
            "needs_background": "light"
          }
        },
        {
          "output_type": "display_data",
          "data": {
            "image/png": "[encoded data removed]",
            "text/plain": [
              "<Figure size 432x288 with 1 Axes>"
            ]
          },
          "metadata": {
            "tags": [],
            "needs_background": "light"
          }
        },
        {
          "output_type": "display_data",
          "data": {
            "image/png": "[encoded data removed]",
            "text/plain": [
              "<Figure size 432x288 with 1 Axes>"
            ]
          },
          "metadata": {
            "tags": [],
            "needs_background": "light"
          }
        },
        {
          "output_type": "display_data",
          "data": {
            "image/png": "[encoded data removed]",
            "text/plain": [
              "<Figure size 432x288 with 1 Axes>"
            ]
          },
          "metadata": {
            "tags": [],
            "needs_background": "light"
          }
        }
      ]
    },
    {
      "cell_type": "code",
      "metadata": {
        "id": "rj9QGeMw8YzL"
      },
      "source": [
        "def plot_vectors(u1,u2,u3):\n",
        "  img = np.reshape(u1,(3,32,32))\n",
        "  img = img / 2 + 0.5     # unnormalize\n",
        "  npimg = img#.numpy()\n",
        "  print(\"vector u1 norm\",LA.norm(img))\n",
        "  plt.figure(1)\n",
        "  plt.imshow(np.transpose(npimg, (1, 2, 0)))\n",
        "  plt.title(\"vector u1\")\n",
        "\n",
        "  img = np.reshape(u2,(3,32,32))\n",
        "  img = img / 2 + 0.5     # unnormalize\n",
        "  npimg = img#.numpy()\n",
        "  print(\"vector u2 norm\",LA.norm(img))\n",
        "  plt.figure(2)\n",
        "  plt.imshow(np.transpose(npimg, (1, 2, 0)))\n",
        "  plt.title(\"vector u2\")\n",
        "\n",
        "  img = np.reshape(u3,(3,32,32))\n",
        "  img = img / 2 + 0.5     # unnormalize\n",
        "  npimg = img#.numpy()\n",
        "  print(\"vector u3 norm\",LA.norm(img))\n",
        "  plt.figure(3)\n",
        "  plt.imshow(np.transpose(npimg, (1, 2, 0)))\n",
        "  plt.title(\"vector u3\")\n",
        "  plt.show()"
      ],
      "execution_count": null,
      "outputs": []
    },
    {
      "cell_type": "code",
      "metadata": {
        "id": "8Okox3J78Z1p",
        "outputId": "9b3f1cce-c022-483d-d1c4-5280339efac5",
        "colab": {
          "base_uri": "https://localhost:8080/",
          "height": 864
        }
      },
      "source": [
        "plot_vectors(u1,u2,u3)"
      ],
      "execution_count": null,
      "outputs": [
        {
          "output_type": "stream",
          "text": [
            "vector u1 norm 27.214629939250965\n",
            "vector u2 norm 27.750348494199738\n",
            "vector u3 norm 27.725709222404316\n"
          ],
          "name": "stdout"
        },
        {
          "output_type": "display_data",
          "data": {
            "image/png": "[encoded data removed]",
            "text/plain": [
              "<Figure size 432x288 with 1 Axes>"
            ]
          },
          "metadata": {
            "tags": [],
            "needs_background": "light"
          }
        },
        {
          "output_type": "display_data",
          "data": {
            "image/png": "[encoded data removed]",
            "text/plain": [
              "<Figure size 432x288 with 1 Axes>"
            ]
          },
          "metadata": {
            "tags": [],
            "needs_background": "light"
          }
        },
        {
          "output_type": "display_data",
          "data": {
            "image/png": "[encoded data removed]",
            "text/plain": [
              "<Figure size 432x288 with 1 Axes>"
            ]
          },
          "metadata": {
            "tags": [],
            "needs_background": "light"
          }
        }
      ]
    },
    {
      "cell_type": "code",
      "metadata": {
        "id": "OUfgpxB3CrMj"
      },
      "source": [
        "def create_mosaic_img(bg_idx,fg_idx,fg): \n",
        "  \"\"\"\n",
        "  bg_idx : list of indexes of background_data[] to be used as background images in mosaic\n",
        "  fg_idx : index of image to be used as foreground image from foreground data\n",
        "  fg : at what position/index foreground image has to be stored out of 0-8\n",
        "  \"\"\"\n",
        "  image_list=[]\n",
        "  j=0\n",
        "  for i in range(9):\n",
        "    if i != fg:\n",
        "      image_list.append(background_data[bg_idx[j]].type(\"torch.DoubleTensor\"))\n",
        "      j+=1\n",
        "    else: \n",
        "      image_list.append(foreground_data[fg_idx].type(\"torch.DoubleTensor\"))\n",
        "      label = foreground_label[fg_idx]  #-7  # minus 7 because our fore ground classes are 7,8,9 but we have to store it as 0,1,2\n",
        "  #image_list = np.concatenate(image_list ,axis=0)\n",
        "  image_list = torch.stack(image_list) \n",
        "  return image_list,label"
      ],
      "execution_count": null,
      "outputs": []
    },
    {
      "cell_type": "code",
      "metadata": {
        "id": "wOxvH0f1CrMn"
      },
      "source": [
        "desired_num = 10000\n",
        "mosaic_list_of_images =[]      # list of mosaic images, each mosaic image is saved as list of 9 images\n",
        "fore_idx =[]                   # list of indexes at which foreground image is present in a mosaic image i.e from 0 to 9               \n",
        "mosaic_label=[]                # label of mosaic image = foreground class present in that mosaic\n",
        "for i in range(desired_num):\n",
        "  np.random.seed(35000 + i)\n",
        "  bg_idx = np.random.randint(0,35000,8)\n",
        "  np.random.seed(15000 + i)\n",
        "  fg_idx = np.random.randint(0,15000)\n",
        "  # fg = np.random.randint(0,9)\n",
        "  fg = 0\n",
        "  fore_idx.append(fg)\n",
        "  image_list,label = create_mosaic_img(bg_idx,fg_idx,fg)\n",
        "  mosaic_list_of_images.append(image_list)\n",
        "  mosaic_label.append(label)"
      ],
      "execution_count": null,
      "outputs": []
    },
    {
      "cell_type": "code",
      "metadata": {
        "id": "6-6BQ7ruMbZw"
      },
      "source": [
        "del foreground_data\n",
        "del foreground_label\n",
        "del background_data\n",
        "del background_label"
      ],
      "execution_count": null,
      "outputs": []
    },
    {
      "cell_type": "code",
      "metadata": {
        "id": "Fb-O3Wg1Kj7_"
      },
      "source": [
        "# path = \"/content/drive/My Drive/Research/testing classify on diff focus nets/give weightage to random image/\"\n",
        "# path = \"/content/drive/My Drive/Research/Experiments on CIFAR mosaic/Exp_1_Attention_models_on _90k_mosaic_mini_inception/weights/\""
      ],
      "execution_count": null,
      "outputs": []
    },
    {
      "cell_type": "code",
      "metadata": {
        "id": "xX91RwMy-IP4"
      },
      "source": [
        "def create_avg_image_from_mosaic_dataset(mosaic_dataset,labels,foreground_index,dataset_number, fraction):\n",
        "  \"\"\"\n",
        "  mosaic_dataset : mosaic_dataset contains 9 images 32 x 32 each as 1 data point\n",
        "  labels : mosaic_dataset labels\n",
        "  foreground_index : contains list of indexes where foreground image is present so that using this we can take weighted average\n",
        "  dataset_number : will help us to tell what ratio of foreground image to be taken. for eg: if it is \"j\" then fg_image_ratio = j/9 , bg_image_ratio = (9-j)/8*9\n",
        "  \"\"\"\n",
        "  avg_image_dataset = []\n",
        "  cnt = 0\n",
        "  counter = np.array([0,0,0,0,0,0,0,0,0])\n",
        "  for i in range(len(mosaic_dataset)):\n",
        "    img = torch.zeros([3, 32,32], dtype=torch.float64)\n",
        "    np.random.seed(dataset_number*10000 + i)\n",
        "    give_pref = foreground_index[i] #np.random.randint(0,9)\n",
        "    # print(\"outside\", give_pref,foreground_index[i])\n",
        "    for j in range(9):\n",
        "      if j == give_pref:\n",
        "        img = img + mosaic_dataset[i][j]*fraction/9\n",
        "      else :\n",
        "        img = img + mosaic_dataset[i][j]*(9-fraction)/(8*9)\n",
        "\n",
        "    if give_pref == foreground_index[i] :\n",
        "      # print(\"equal are\", give_pref,foreground_index[i])\n",
        "      cnt += 1\n",
        "      counter[give_pref] += 1\n",
        "    else :\n",
        "      counter[give_pref] += 1\n",
        "\n",
        "    avg_image_dataset.append(img)\n",
        "\n",
        "  print(\"number of correct averaging happened for dataset \"+str(dataset_number)+\" is \"+str(cnt)) \n",
        "  print(\"the averaging are done as \", counter) \n",
        "  return avg_image_dataset , labels , foreground_index\n",
        "        \n",
        "  "
      ],
      "execution_count": null,
      "outputs": []
    },
    {
      "cell_type": "code",
      "metadata": {
        "id": "LGz8Y88vIZPT",
        "outputId": "abb7815b-470d-4a01-d215-945ee4819f7c",
        "colab": {
          "base_uri": "https://localhost:8080/"
        }
      },
      "source": [
        "avg_image_dataset_1 , labels_1,  fg_index_1 = create_avg_image_from_mosaic_dataset(mosaic_list_of_images, mosaic_label, fore_idx, 1,1)\n",
        "avg_image_dataset_2 , labels_2,  fg_index_2 = create_avg_image_from_mosaic_dataset(mosaic_list_of_images, mosaic_label, fore_idx, 2,1.01)\n",
        "avg_image_dataset_3 , labels_3,  fg_index_3 = create_avg_image_from_mosaic_dataset(mosaic_list_of_images, mosaic_label, fore_idx , 3, 1.02)\n",
        "avg_image_dataset_4 , labels_4,  fg_index_4 = create_avg_image_from_mosaic_dataset(mosaic_list_of_images, mosaic_label, fore_idx , 4, 1.1)\n",
        "avg_image_dataset_5 , labels_5,  fg_index_5 = create_avg_image_from_mosaic_dataset(mosaic_list_of_images, mosaic_label, fore_idx , 5, 1.2)\n",
        "avg_image_dataset_6 , labels_6,  fg_index_6 = create_avg_image_from_mosaic_dataset(mosaic_list_of_images, mosaic_label, fore_idx , 6, 2)\n",
        "# avg_image_dataset_7 , labels_7,  fg_index_7 = create_avg_image_from_mosaic_dataset(mosaic_list_of_images, mosaic_label, fore_idx , 7)\n",
        "# avg_image_dataset_8 , labels_8,  fg_index_8 = create_avg_image_from_mosaic_dataset(mosaic_list_of_images, mosaic_label, fore_idx , 8)\n",
        "# avg_image_dataset_9 , labels_9,  fg_index_9 = create_avg_image_from_mosaic_dataset(mosaic_list_of_images, mosaic_label, fore_idx, 9)\n",
        "\n"
      ],
      "execution_count": null,
      "outputs": [
        {
          "output_type": "stream",
          "text": [
            "number of correct averaging happened for dataset 1 is 10000\n",
            "the averaging are done as  [10000     0     0     0     0     0     0     0     0]\n",
            "number of correct averaging happened for dataset 2 is 10000\n",
            "the averaging are done as  [10000     0     0     0     0     0     0     0     0]\n",
            "number of correct averaging happened for dataset 3 is 10000\n",
            "the averaging are done as  [10000     0     0     0     0     0     0     0     0]\n",
            "number of correct averaging happened for dataset 4 is 10000\n",
            "the averaging are done as  [10000     0     0     0     0     0     0     0     0]\n",
            "number of correct averaging happened for dataset 5 is 10000\n",
            "the averaging are done as  [10000     0     0     0     0     0     0     0     0]\n",
            "number of correct averaging happened for dataset 6 is 10000\n",
            "the averaging are done as  [10000     0     0     0     0     0     0     0     0]\n"
          ],
          "name": "stdout"
        }
      ]
    },
    {
      "cell_type": "code",
      "metadata": {
        "id": "nSO9SFE25Lrk"
      },
      "source": [
        "class MosaicDataset(Dataset):\n",
        "  \"\"\"MosaicDataset dataset.\"\"\"\n",
        "\n",
        "  def __init__(self, mosaic_list_of_images, mosaic_label):\n",
        "    \"\"\"\n",
        "      Args:\n",
        "        csv_file (string): Path to the csv file with annotations.\n",
        "        root_dir (string): Directory with all the images.\n",
        "        transform (callable, optional): Optional transform to be applied\n",
        "            on a sample.\n",
        "    \"\"\"\n",
        "    self.mosaic = mosaic_list_of_images\n",
        "    self.label = mosaic_label\n",
        "    #self.fore_idx = fore_idx\n",
        "    \n",
        "  def __len__(self):\n",
        "    return len(self.label)\n",
        "\n",
        "  def __getitem__(self, idx):\n",
        "    return self.mosaic[idx] , self.label[idx] #, self.fore_idx[idx]\n",
        "\n"
      ],
      "execution_count": null,
      "outputs": []
    },
    {
      "cell_type": "code",
      "metadata": {
        "id": "obE1xeyRks1Q"
      },
      "source": [
        "batch = 256\n",
        "epochs = 300\n",
        "\n",
        "# training_data = avg_image_dataset_5    #just change this and training_label to desired dataset for training\n",
        "# training_label = labels_5\n",
        "\n",
        "traindata_1 = MosaicDataset(avg_image_dataset_1, labels_1 )\n",
        "trainloader_1 = DataLoader( traindata_1 , batch_size= batch ,shuffle=True)\n",
        "\n",
        "traindata_2 = MosaicDataset(avg_image_dataset_2, labels_2 )\n",
        "trainloader_2 = DataLoader( traindata_2 , batch_size= batch ,shuffle=True)\n",
        "\n",
        "traindata_3 = MosaicDataset(avg_image_dataset_3, labels_3 )\n",
        "trainloader_3 = DataLoader( traindata_3 , batch_size= batch ,shuffle=True)\n",
        "\n",
        "traindata_4 = MosaicDataset(avg_image_dataset_4, labels_4 )\n",
        "trainloader_4 = DataLoader( traindata_4 , batch_size= batch ,shuffle=True)\n",
        "\n",
        "traindata_5 = MosaicDataset(avg_image_dataset_5, labels_5 )\n",
        "trainloader_5 = DataLoader( traindata_5 , batch_size= batch ,shuffle=True)\n",
        "\n",
        "traindata_6 = MosaicDataset(avg_image_dataset_6, labels_6 )\n",
        "trainloader_6 = DataLoader( traindata_6 , batch_size= batch ,shuffle=True)\n",
        "\n",
        "# traindata_7 = MosaicDataset(avg_image_dataset_7, labels_7 )\n",
        "# trainloader_7 = DataLoader( traindata_7 , batch_size= batch ,shuffle=True)\n",
        "\n",
        "# traindata_8 = MosaicDataset(avg_image_dataset_8, labels_8 )\n",
        "# trainloader_8 = DataLoader( traindata_8 , batch_size= batch ,shuffle=True)\n",
        "\n",
        "# traindata_9 = MosaicDataset(avg_image_dataset_9, labels_9 )\n",
        "# trainloader_9 = DataLoader( traindata_9 , batch_size= batch ,shuffle=True)\n",
        "\n",
        "testdata_1 = MosaicDataset(avg_image_dataset_1, labels_1 )\n",
        "testloader_1 = DataLoader( testdata_1 , batch_size= batch ,shuffle=False)\n",
        "\n",
        "testdata_2 = MosaicDataset(avg_image_dataset_2, labels_2 )\n",
        "testloader_2 = DataLoader( testdata_2 , batch_size= batch ,shuffle=False)\n",
        "\n",
        "testdata_3 = MosaicDataset(avg_image_dataset_3, labels_3 )\n",
        "testloader_3 = DataLoader( testdata_3 , batch_size= batch ,shuffle=False)\n",
        "\n",
        "testdata_4 = MosaicDataset(avg_image_dataset_4, labels_4 )\n",
        "testloader_4 = DataLoader( testdata_4 , batch_size= batch ,shuffle=False)\n",
        "\n",
        "testdata_5 = MosaicDataset(avg_image_dataset_5, labels_5 )\n",
        "testloader_5 = DataLoader( testdata_5 , batch_size= batch ,shuffle=False)\n",
        "\n",
        "testdata_6 = MosaicDataset(avg_image_dataset_6, labels_6 )\n",
        "testloader_6 = DataLoader( testdata_6 , batch_size= batch ,shuffle=False)\n",
        "\n",
        "# testdata_7 = MosaicDataset(avg_image_dataset_7, labels_7 )\n",
        "# testloader_7 = DataLoader( testdata_7 , batch_size= batch ,shuffle=False)\n",
        "\n",
        "# testdata_8 = MosaicDataset(avg_image_dataset_8, labels_8 )\n",
        "# testloader_8 = DataLoader( testdata_8 , batch_size= batch ,shuffle=False)\n",
        "\n",
        "# testdata_9 = MosaicDataset(avg_image_dataset_9, labels_9 )\n",
        "# testloader_9 = DataLoader( testdata_9 , batch_size= batch ,shuffle=False)"
      ],
      "execution_count": null,
      "outputs": []
    },
    {
      "cell_type": "code",
      "metadata": {
        "id": "SadRzWBBZEsP"
      },
      "source": [
        "class Conv_module(nn.Module):\n",
        "    def __init__(self,inp_ch,f,s,k,pad):\n",
        "        super(Conv_module,self).__init__()\n",
        "        self.inp_ch = inp_ch\n",
        "        self.f = f\n",
        "        self.s = s \n",
        "        self.k = k \n",
        "        self.pad = pad\n",
        "        \n",
        "        \n",
        "        self.conv = nn.Conv2d(self.inp_ch,self.f,k,stride=s,padding=self.pad)\n",
        "        self.bn = nn.BatchNorm2d(self.f)\n",
        "        self.act = nn.ReLU()\n",
        "    def forward(self,x):\n",
        "        x = self.conv(x)\n",
        "        x = self.bn(x)\n",
        "        x = self.act(x)\n",
        "        return x"
      ],
      "execution_count": null,
      "outputs": []
    },
    {
      "cell_type": "code",
      "metadata": {
        "id": "IgGYMG_ZZEsT"
      },
      "source": [
        "class inception_module(nn.Module):\n",
        "    def __init__(self,inp_ch,f0,f1):\n",
        "        super(inception_module, self).__init__()\n",
        "        self.inp_ch = inp_ch\n",
        "        self.f0 = f0\n",
        "        self.f1 = f1\n",
        "        \n",
        "        \n",
        "        \n",
        "        self.conv1 = Conv_module(self.inp_ch,self.f0,1,1,pad=0)\n",
        "        self.conv3 = Conv_module(self.inp_ch,self.f1,1,3,pad=1)\n",
        "        #self.conv1 = nn.Conv2d(3,self.f0,1)\n",
        "        #self.conv3 = nn.Conv2d(3,self.f1,3,padding=1)\n",
        "    def forward(self,x):\n",
        "        x1 = self.conv1.forward(x)\n",
        "        x3 = self.conv3.forward(x)\n",
        "        #print(x1.shape,x3.shape)\n",
        "        \n",
        "        x = torch.cat((x1,x3),dim=1)\n",
        "        \n",
        "    \n",
        "        return x"
      ],
      "execution_count": null,
      "outputs": []
    },
    {
      "cell_type": "code",
      "metadata": {
        "id": "thkdqW91Hpju"
      },
      "source": [
        "class downsample_module(nn.Module):\n",
        "    def __init__(self,inp_ch,f):\n",
        "        super(downsample_module,self).__init__()\n",
        "        self.inp_ch = inp_ch\n",
        "        self.f = f\n",
        "        self.conv = Conv_module(self.inp_ch,self.f,2,3,pad=0)\n",
        "        self.pool = nn.MaxPool2d(3,stride=2,padding=0)\n",
        "    def forward(self,x):\n",
        "        x1 = self.conv(x)\n",
        "        #print(x1.shape)\n",
        "        x2 = self.pool(x)\n",
        "        #print(x2.shape)\n",
        "        x = torch.cat((x1,x2),dim=1)\n",
        "        \n",
        "        return x,x1"
      ],
      "execution_count": null,
      "outputs": []
    },
    {
      "cell_type": "code",
      "metadata": {
        "id": "u1yVWgR4vFhe"
      },
      "source": [
        "class inception_net(nn.Module):\n",
        "    def __init__(self):\n",
        "        super(inception_net,self).__init__()\n",
        "        self.conv1 = Conv_module(3,96,1,3,0)\n",
        "        \n",
        "        self.incept1 = inception_module(96,32,32)\n",
        "        self.incept2 = inception_module(64,32,48)\n",
        "        \n",
        "        self.downsample1 = downsample_module(80,80)\n",
        "        \n",
        "        self.incept3 = inception_module(160,112,48)\n",
        "        self.incept4 = inception_module(160,96,64)\n",
        "        self.incept5 = inception_module(160,80,80)\n",
        "        self.incept6 = inception_module(160,48,96)\n",
        "        \n",
        "        self.downsample2 = downsample_module(144,96)\n",
        "        \n",
        "        self.incept7 = inception_module(240,176,60)\n",
        "        self.incept8 = inception_module(236,176,60)\n",
        "        \n",
        "        self.pool = nn.AvgPool2d(5)\n",
        "        \n",
        "        \n",
        "        \n",
        "        self.linear = nn.Linear(236,3)\n",
        "    def forward(self,x):\n",
        "        x = self.conv1.forward(x)\n",
        "        #act1 = x\n",
        "        \n",
        "        x = self.incept1.forward(x)\n",
        "        #act2 = x\n",
        "        \n",
        "        x = self.incept2.forward(x)\n",
        "        #act3 = x\n",
        "        \n",
        "        x,act4 = self.downsample1.forward(x)\n",
        "        \n",
        "        x = self.incept3.forward(x)\n",
        "        #act5 = x\n",
        "        \n",
        "        x = self.incept4.forward(x)\n",
        "        #act6 = x\n",
        "        \n",
        "        x = self.incept5.forward(x)\n",
        "        #act7 = x\n",
        "        \n",
        "        x = self.incept6.forward(x)\n",
        "        #act8 = x\n",
        "        \n",
        "        x,act9 = self.downsample2.forward(x)\n",
        "        \n",
        "        x = self.incept7.forward(x)\n",
        "        #act10 = x\n",
        "        x = self.incept8.forward(x)\n",
        "        #act11 = x\n",
        "        #print(x.shape)\n",
        "        x = self.pool(x)\n",
        "        #print(x.shape)\n",
        "        x = x.view(-1,1*1*236)\n",
        "        x = self.linear(x) \n",
        "        return x"
      ],
      "execution_count": null,
      "outputs": []
    },
    {
      "cell_type": "code",
      "metadata": {
        "id": "FKZXXm5ECrN1"
      },
      "source": [
        "def test_all(number, testloader,inc):\n",
        "    correct = 0\n",
        "    total = 0\n",
        "    out = []\n",
        "    pred = []\n",
        "    with torch.no_grad():\n",
        "        for data in testloader:\n",
        "            images, labels = data\n",
        "            images, labels = images.to(\"cuda\"),labels.to(\"cuda\")\n",
        "            out.append(labels.cpu().numpy())\n",
        "            outputs= inc(images)\n",
        "            _, predicted = torch.max(outputs.data, 1)\n",
        "            pred.append(predicted.cpu().numpy())\n",
        "            total += labels.size(0)\n",
        "            correct += (predicted == labels).sum().item()\n",
        "\n",
        "    print('Accuracy of the network on the 10000 test dataset %d: %d %%' % (number , 100 * correct / total))"
      ],
      "execution_count": null,
      "outputs": []
    },
    {
      "cell_type": "code",
      "metadata": {
        "id": "tFfAJZkcZEsY"
      },
      "source": [
        "def train_all(trainloader, ds_number, testloader_list):\n",
        "    \n",
        "    print(\"--\"*40)\n",
        "    print(\"training on data set  \", ds_number)\n",
        "    \n",
        "    inc = inception_net().double()\n",
        "    inc = inc.to(\"cuda\")\n",
        "    \n",
        "    criterion_inception = nn.CrossEntropyLoss()\n",
        "    optimizer_inception = optim.SGD(inc.parameters(), lr=0.01, momentum=0.9)\n",
        "    \n",
        "    acti = []\n",
        "    loss_curi = []\n",
        "    epochs = 200\n",
        "    \n",
        "    for epoch in range(epochs): # loop over the dataset multiple times\n",
        "        ep_lossi = []\n",
        "\n",
        "        running_loss = 0.0\n",
        "        for i, data in enumerate(trainloader, 0):\n",
        "            # get the inputs\n",
        "            inputs, labels = data\n",
        "            inputs, labels = inputs.to(\"cuda\"),labels.to(\"cuda\")\n",
        "\n",
        "            # zero the parameter gradients\n",
        "            optimizer_inception.zero_grad()\n",
        "\n",
        "            # forward + backward + optimize\n",
        "            outputs = inc(inputs)\n",
        "            loss = criterion_inception(outputs, labels)\n",
        "            loss.backward()\n",
        "            optimizer_inception.step()\n",
        "\n",
        "            # print statistics\n",
        "            running_loss += loss.item()\n",
        "            if i % 10 == 9:    # print every 10 mini-batches\n",
        "                print('[%d, %5d] loss: %.3f' %\n",
        "                      (epoch + 1, i + 1, running_loss / 10))\n",
        "                ep_lossi.append(running_loss/10) # loss per minibatch\n",
        "                running_loss = 0.0\n",
        "                \n",
        "        loss_curi.append(np.mean(ep_lossi))   #loss per epoch\n",
        "        if (np.mean(ep_lossi) <= 0.05):\n",
        "            break\n",
        "\n",
        "\n",
        "    print('Finished Training')\n",
        "    # torch.save(inc.state_dict(),\"train_dataset_\"+str(ds_number)+\"_\"+str(epochs)+\".pt\")\n",
        "    \n",
        "    correct = 0\n",
        "    total = 0\n",
        "    with torch.no_grad():\n",
        "        for data in trainloader:\n",
        "            images, labels = data\n",
        "            images, labels = images.to(\"cuda\"), labels.to(\"cuda\")\n",
        "            outputs = inc(images)\n",
        "            _, predicted = torch.max(outputs.data, 1)\n",
        "            total += labels.size(0)\n",
        "            correct += (predicted == labels).sum().item()\n",
        "\n",
        "    print('Accuracy of the network on the 10000 train images: %d %%' % (  100 * correct / total))\n",
        "    \n",
        "    for i, j in enumerate(testloader_list):\n",
        "        test_all(i+1, j,inc)\n",
        "    \n",
        "    print(\"--\"*40)\n",
        "    \n",
        "    return loss_curi\n",
        "    "
      ],
      "execution_count": null,
      "outputs": []
    },
    {
      "cell_type": "code",
      "metadata": {
        "id": "EGqfP_P0CrN7",
        "outputId": "03f53b32-f0f0-4bdc-f280-a0a708af5d0b",
        "colab": {
          "base_uri": "https://localhost:8080/"
        }
      },
      "source": [
        "train_loss_all=[]\n",
        "\n",
        "testloader_list= [ testloader_1, testloader_2, testloader_3, testloader_4, testloader_5, testloader_6]\n",
        "                 #testloader_7, testloader_8, testloader_9]\n",
        "\n",
        "train_loss_all.append(train_all(trainloader_1, 1, testloader_list))\n",
        "train_loss_all.append(train_all(trainloader_2, 2, testloader_list))\n",
        "train_loss_all.append(train_all(trainloader_3, 3, testloader_list))\n",
        "train_loss_all.append(train_all(trainloader_4, 4, testloader_list))\n",
        "train_loss_all.append(train_all(trainloader_5, 5, testloader_list))\n",
        "train_loss_all.append(train_all(trainloader_6, 6, testloader_list))\n",
        "# train_loss_all.append(train_all(trainloader_7, 7, testloader_list))\n",
        "# train_loss_all.append(train_all(trainloader_8, 8, testloader_list))\n",
        "# train_loss_all.append(train_all(trainloader_9, 9, testloader_list))"
      ],
      "execution_count": null,
      "outputs": [
        {
          "output_type": "stream",
          "text": [
            "--------------------------------------------------------------------------------\n",
            "training on data set   1\n",
            "[1,    10] loss: 1.099\n",
            "[1,    20] loss: 1.087\n",
            "[1,    30] loss: 1.081\n",
            "[1,    40] loss: 1.054\n",
            "[2,    10] loss: 1.079\n",
            "[2,    20] loss: 1.057\n",
            "[2,    30] loss: 1.054\n",
            "[2,    40] loss: 1.060\n",
            "[3,    10] loss: 1.044\n",
            "[3,    20] loss: 1.041\n",
            "[3,    30] loss: 1.032\n",
            "[3,    40] loss: 1.041\n",
            "[4,    10] loss: 1.011\n",
            "[4,    20] loss: 1.020\n",
            "[4,    30] loss: 1.015\n",
            "[4,    40] loss: 1.005\n",
            "[5,    10] loss: 0.992\n",
            "[5,    20] loss: 0.995\n",
            "[5,    30] loss: 1.004\n",
            "[5,    40] loss: 1.011\n",
            "[6,    10] loss: 0.969\n",
            "[6,    20] loss: 0.965\n",
            "[6,    30] loss: 0.980\n",
            "[6,    40] loss: 0.974\n",
            "[7,    10] loss: 0.951\n",
            "[7,    20] loss: 0.940\n",
            "[7,    30] loss: 0.941\n",
            "[7,    40] loss: 0.941\n",
            "[8,    10] loss: 0.922\n",
            "[8,    20] loss: 0.901\n",
            "[8,    30] loss: 0.909\n",
            "[8,    40] loss: 0.927\n",
            "[9,    10] loss: 0.868\n",
            "[9,    20] loss: 0.839\n",
            "[9,    30] loss: 0.824\n",
            "[9,    40] loss: 0.801\n",
            "[10,    10] loss: 0.792\n",
            "[10,    20] loss: 0.835\n",
            "[10,    30] loss: 0.850\n",
            "[10,    40] loss: 0.844\n",
            "[11,    10] loss: 0.805\n",
            "[11,    20] loss: 0.808\n",
            "[11,    30] loss: 0.739\n",
            "[11,    40] loss: 0.714\n",
            "[12,    10] loss: 0.648\n",
            "[12,    20] loss: 0.669\n",
            "[12,    30] loss: 0.655\n",
            "[12,    40] loss: 0.688\n",
            "[13,    10] loss: 0.775\n",
            "[13,    20] loss: 0.801\n",
            "[13,    30] loss: 0.814\n",
            "[13,    40] loss: 0.799\n",
            "[14,    10] loss: 0.618\n",
            "[14,    20] loss: 0.629\n",
            "[14,    30] loss: 0.570\n",
            "[14,    40] loss: 0.573\n",
            "[15,    10] loss: 0.578\n",
            "[15,    20] loss: 0.616\n",
            "[15,    30] loss: 0.597\n",
            "[15,    40] loss: 0.571\n",
            "[16,    10] loss: 0.504\n",
            "[16,    20] loss: 0.547\n",
            "[16,    30] loss: 0.487\n",
            "[16,    40] loss: 0.445\n",
            "[17,    10] loss: 0.295\n",
            "[17,    20] loss: 0.303\n",
            "[17,    30] loss: 0.304\n",
            "[17,    40] loss: 0.298\n",
            "[18,    10] loss: 0.314\n",
            "[18,    20] loss: 0.320\n",
            "[18,    30] loss: 0.297\n",
            "[18,    40] loss: 0.282\n",
            "[19,    10] loss: 0.256\n",
            "[19,    20] loss: 0.274\n",
            "[19,    30] loss: 0.268\n",
            "[19,    40] loss: 0.239\n",
            "[20,    10] loss: 0.198\n",
            "[20,    20] loss: 0.204\n",
            "[20,    30] loss: 0.195\n",
            "[20,    40] loss: 0.169\n",
            "[21,    10] loss: 0.090\n",
            "[21,    20] loss: 0.079\n",
            "[21,    30] loss: 0.076\n",
            "[21,    40] loss: 0.102\n",
            "[22,    10] loss: 0.155\n",
            "[22,    20] loss: 0.207\n",
            "[22,    30] loss: 0.198\n",
            "[22,    40] loss: 0.171\n",
            "[23,    10] loss: 0.195\n",
            "[23,    20] loss: 0.193\n",
            "[23,    30] loss: 0.180\n",
            "[23,    40] loss: 0.155\n",
            "[24,    10] loss: 0.158\n",
            "[24,    20] loss: 0.151\n",
            "[24,    30] loss: 0.137\n",
            "[24,    40] loss: 0.119\n",
            "[25,    10] loss: 0.059\n",
            "[25,    20] loss: 0.048\n",
            "[25,    30] loss: 0.055\n",
            "[25,    40] loss: 0.039\n",
            "[26,    10] loss: 0.016\n",
            "[26,    20] loss: 0.015\n",
            "[26,    30] loss: 0.012\n",
            "[26,    40] loss: 0.011\n",
            "Finished Training\n",
            "Accuracy of the network on the 10000 train images: 100 %\n",
            "Accuracy of the network on the 10000 test dataset 1: 99 %\n",
            "Accuracy of the network on the 10000 test dataset 2: 99 %\n",
            "Accuracy of the network on the 10000 test dataset 3: 99 %\n",
            "Accuracy of the network on the 10000 test dataset 4: 100 %\n",
            "Accuracy of the network on the 10000 test dataset 5: 99 %\n",
            "Accuracy of the network on the 10000 test dataset 6: 92 %\n",
            "--------------------------------------------------------------------------------\n",
            "--------------------------------------------------------------------------------\n",
            "training on data set   2\n",
            "[1,    10] loss: 1.100\n",
            "[1,    20] loss: 1.086\n",
            "[1,    30] loss: 1.076\n",
            "[1,    40] loss: 1.077\n",
            "[2,    10] loss: 1.065\n",
            "[2,    20] loss: 1.066\n",
            "[2,    30] loss: 1.056\n",
            "[2,    40] loss: 1.047\n",
            "[3,    10] loss: 1.046\n",
            "[3,    20] loss: 1.033\n",
            "[3,    30] loss: 1.025\n",
            "[3,    40] loss: 1.039\n",
            "[4,    10] loss: 1.021\n",
            "[4,    20] loss: 1.019\n",
            "[4,    30] loss: 1.010\n",
            "[4,    40] loss: 0.993\n",
            "[5,    10] loss: 0.982\n",
            "[5,    20] loss: 0.980\n",
            "[5,    30] loss: 0.986\n",
            "[5,    40] loss: 0.968\n",
            "[6,    10] loss: 0.956\n",
            "[6,    20] loss: 0.956\n",
            "[6,    30] loss: 0.958\n",
            "[6,    40] loss: 0.958\n",
            "[7,    10] loss: 0.901\n",
            "[7,    20] loss: 0.928\n",
            "[7,    30] loss: 0.908\n",
            "[7,    40] loss: 0.884\n",
            "[8,    10] loss: 0.952\n",
            "[8,    20] loss: 0.924\n",
            "[8,    30] loss: 0.892\n",
            "[8,    40] loss: 0.893\n",
            "[9,    10] loss: 0.839\n",
            "[9,    20] loss: 0.793\n",
            "[9,    30] loss: 0.802\n",
            "[9,    40] loss: 0.820\n",
            "[10,    10] loss: 0.803\n",
            "[10,    20] loss: 0.820\n",
            "[10,    30] loss: 0.802\n",
            "[10,    40] loss: 0.796\n",
            "[11,    10] loss: 0.654\n",
            "[11,    20] loss: 0.651\n",
            "[11,    30] loss: 0.645\n",
            "[11,    40] loss: 0.660\n",
            "[12,    10] loss: 0.558\n",
            "[12,    20] loss: 0.571\n",
            "[12,    30] loss: 0.580\n",
            "[12,    40] loss: 0.552\n",
            "[13,    10] loss: 0.545\n",
            "[13,    20] loss: 0.578\n",
            "[13,    30] loss: 0.579\n",
            "[13,    40] loss: 0.591\n",
            "[14,    10] loss: 0.538\n",
            "[14,    20] loss: 0.576\n",
            "[14,    30] loss: 0.529\n",
            "[14,    40] loss: 0.494\n",
            "[15,    10] loss: 0.429\n",
            "[15,    20] loss: 0.414\n",
            "[15,    30] loss: 0.385\n",
            "[15,    40] loss: 0.370\n",
            "[16,    10] loss: 0.388\n",
            "[16,    20] loss: 0.362\n",
            "[16,    30] loss: 0.321\n",
            "[16,    40] loss: 0.304\n",
            "[17,    10] loss: 0.235\n",
            "[17,    20] loss: 0.255\n",
            "[17,    30] loss: 0.216\n",
            "[17,    40] loss: 0.201\n",
            "[18,    10] loss: 0.284\n",
            "[18,    20] loss: 0.298\n",
            "[18,    30] loss: 0.284\n",
            "[18,    40] loss: 0.246\n",
            "[19,    10] loss: 0.203\n",
            "[19,    20] loss: 0.210\n",
            "[19,    30] loss: 0.185\n",
            "[19,    40] loss: 0.189\n",
            "[20,    10] loss: 0.138\n",
            "[20,    20] loss: 0.127\n",
            "[20,    30] loss: 0.123\n",
            "[20,    40] loss: 0.109\n",
            "[21,    10] loss: 0.181\n",
            "[21,    20] loss: 0.192\n",
            "[21,    30] loss: 0.184\n",
            "[21,    40] loss: 0.152\n",
            "[22,    10] loss: 0.175\n",
            "[22,    20] loss: 0.212\n",
            "[22,    30] loss: 0.187\n",
            "[22,    40] loss: 0.193\n",
            "[23,    10] loss: 0.287\n",
            "[23,    20] loss: 0.290\n",
            "[23,    30] loss: 0.246\n",
            "[23,    40] loss: 0.220\n",
            "[24,    10] loss: 0.164\n",
            "[24,    20] loss: 0.207\n",
            "[24,    30] loss: 0.167\n",
            "[24,    40] loss: 0.132\n",
            "[25,    10] loss: 0.075\n",
            "[25,    20] loss: 0.067\n",
            "[25,    30] loss: 0.051\n",
            "[25,    40] loss: 0.047\n",
            "[26,    10] loss: 0.018\n",
            "[26,    20] loss: 0.014\n",
            "[26,    30] loss: 0.011\n",
            "[26,    40] loss: 0.022\n",
            "Finished Training\n",
            "Accuracy of the network on the 10000 train images: 100 %\n",
            "Accuracy of the network on the 10000 test dataset 1: 99 %\n",
            "Accuracy of the network on the 10000 test dataset 2: 99 %\n",
            "Accuracy of the network on the 10000 test dataset 3: 99 %\n",
            "Accuracy of the network on the 10000 test dataset 4: 100 %\n",
            "Accuracy of the network on the 10000 test dataset 5: 99 %\n",
            "Accuracy of the network on the 10000 test dataset 6: 93 %\n",
            "--------------------------------------------------------------------------------\n",
            "--------------------------------------------------------------------------------\n",
            "training on data set   3\n",
            "[1,    10] loss: 1.093\n",
            "[1,    20] loss: 1.077\n",
            "[1,    30] loss: 1.073\n",
            "[1,    40] loss: 1.068\n",
            "[2,    10] loss: 1.075\n",
            "[2,    20] loss: 1.061\n",
            "[2,    30] loss: 1.050\n",
            "[2,    40] loss: 1.059\n",
            "[3,    10] loss: 1.041\n",
            "[3,    20] loss: 1.043\n",
            "[3,    30] loss: 1.029\n",
            "[3,    40] loss: 1.053\n",
            "[4,    10] loss: 1.029\n",
            "[4,    20] loss: 1.012\n",
            "[4,    30] loss: 1.007\n",
            "[4,    40] loss: 1.000\n",
            "[5,    10] loss: 0.996\n",
            "[5,    20] loss: 0.983\n",
            "[5,    30] loss: 0.995\n",
            "[5,    40] loss: 0.980\n",
            "[6,    10] loss: 0.951\n",
            "[6,    20] loss: 0.940\n",
            "[6,    30] loss: 0.932\n",
            "[6,    40] loss: 0.971\n",
            "[7,    10] loss: 0.907\n",
            "[7,    20] loss: 0.930\n",
            "[7,    30] loss: 0.928\n",
            "[7,    40] loss: 0.906\n",
            "[8,    10] loss: 0.821\n",
            "[8,    20] loss: 0.850\n",
            "[8,    30] loss: 0.844\n",
            "[8,    40] loss: 0.841\n",
            "[9,    10] loss: 0.816\n",
            "[9,    20] loss: 0.840\n",
            "[9,    30] loss: 0.825\n",
            "[9,    40] loss: 0.840\n",
            "[10,    10] loss: 0.778\n",
            "[10,    20] loss: 0.763\n",
            "[10,    30] loss: 0.752\n",
            "[10,    40] loss: 0.736\n",
            "[11,    10] loss: 0.680\n",
            "[11,    20] loss: 0.688\n",
            "[11,    30] loss: 0.683\n",
            "[11,    40] loss: 0.682\n",
            "[12,    10] loss: 0.607\n",
            "[12,    20] loss: 0.614\n",
            "[12,    30] loss: 0.616\n",
            "[12,    40] loss: 0.595\n",
            "[13,    10] loss: 0.535\n",
            "[13,    20] loss: 0.565\n",
            "[13,    30] loss: 0.575\n",
            "[13,    40] loss: 0.545\n",
            "[14,    10] loss: 0.491\n",
            "[14,    20] loss: 0.474\n",
            "[14,    30] loss: 0.469\n",
            "[14,    40] loss: 0.424\n",
            "[15,    10] loss: 0.398\n",
            "[15,    20] loss: 0.387\n",
            "[15,    30] loss: 0.355\n",
            "[15,    40] loss: 0.349\n",
            "[16,    10] loss: 0.303\n",
            "[16,    20] loss: 0.307\n",
            "[16,    30] loss: 0.292\n",
            "[16,    40] loss: 0.268\n",
            "[17,    10] loss: 0.208\n",
            "[17,    20] loss: 0.190\n",
            "[17,    30] loss: 0.191\n",
            "[17,    40] loss: 0.190\n",
            "[18,    10] loss: 0.180\n",
            "[18,    20] loss: 0.233\n",
            "[18,    30] loss: 0.244\n",
            "[18,    40] loss: 0.237\n",
            "[19,    10] loss: 0.253\n",
            "[19,    20] loss: 0.297\n",
            "[19,    30] loss: 0.266\n",
            "[19,    40] loss: 0.325\n",
            "[20,    10] loss: 0.329\n",
            "[20,    20] loss: 0.368\n",
            "[20,    30] loss: 0.325\n",
            "[20,    40] loss: 0.344\n",
            "[21,    10] loss: 0.246\n",
            "[21,    20] loss: 0.233\n",
            "[21,    30] loss: 0.194\n",
            "[21,    40] loss: 0.173\n",
            "[22,    10] loss: 0.107\n",
            "[22,    20] loss: 0.088\n",
            "[22,    30] loss: 0.075\n",
            "[22,    40] loss: 0.064\n",
            "[23,    10] loss: 0.032\n",
            "[23,    20] loss: 0.019\n",
            "[23,    30] loss: 0.020\n",
            "[23,    40] loss: 0.016\n",
            "Finished Training\n",
            "Accuracy of the network on the 10000 train images: 99 %\n",
            "Accuracy of the network on the 10000 test dataset 1: 100 %\n",
            "Accuracy of the network on the 10000 test dataset 2: 100 %\n",
            "Accuracy of the network on the 10000 test dataset 3: 100 %\n",
            "Accuracy of the network on the 10000 test dataset 4: 100 %\n",
            "Accuracy of the network on the 10000 test dataset 5: 100 %\n",
            "Accuracy of the network on the 10000 test dataset 6: 94 %\n",
            "--------------------------------------------------------------------------------\n",
            "--------------------------------------------------------------------------------\n",
            "training on data set   4\n",
            "[1,    10] loss: 1.090\n",
            "[1,    20] loss: 1.069\n",
            "[1,    30] loss: 1.055\n",
            "[1,    40] loss: 1.054\n",
            "[2,    10] loss: 1.045\n",
            "[2,    20] loss: 1.043\n",
            "[2,    30] loss: 1.031\n",
            "[2,    40] loss: 1.045\n",
            "[3,    10] loss: 1.038\n",
            "[3,    20] loss: 1.020\n",
            "[3,    30] loss: 1.019\n",
            "[3,    40] loss: 1.038\n",
            "[4,    10] loss: 1.005\n",
            "[4,    20] loss: 1.004\n",
            "[4,    30] loss: 0.992\n",
            "[4,    40] loss: 0.980\n",
            "[5,    10] loss: 0.969\n",
            "[5,    20] loss: 0.973\n",
            "[5,    30] loss: 0.964\n",
            "[5,    40] loss: 0.959\n",
            "[6,    10] loss: 0.987\n",
            "[6,    20] loss: 0.947\n",
            "[6,    30] loss: 0.959\n",
            "[6,    40] loss: 0.963\n",
            "[7,    10] loss: 0.915\n",
            "[7,    20] loss: 0.909\n",
            "[7,    30] loss: 0.904\n",
            "[7,    40] loss: 0.946\n",
            "[8,    10] loss: 0.919\n",
            "[8,    20] loss: 0.927\n",
            "[8,    30] loss: 0.890\n",
            "[8,    40] loss: 0.864\n",
            "[9,    10] loss: 0.856\n",
            "[9,    20] loss: 0.814\n",
            "[9,    30] loss: 0.826\n",
            "[9,    40] loss: 0.805\n",
            "[10,    10] loss: 0.728\n",
            "[10,    20] loss: 0.714\n",
            "[10,    30] loss: 0.740\n",
            "[10,    40] loss: 0.771\n",
            "[11,    10] loss: 0.771\n",
            "[11,    20] loss: 0.741\n",
            "[11,    30] loss: 0.737\n",
            "[11,    40] loss: 0.736\n",
            "[12,    10] loss: 0.644\n",
            "[12,    20] loss: 0.615\n",
            "[12,    30] loss: 0.620\n",
            "[12,    40] loss: 0.613\n",
            "[13,    10] loss: 0.535\n",
            "[13,    20] loss: 0.581\n",
            "[13,    30] loss: 0.541\n",
            "[13,    40] loss: 0.582\n",
            "[14,    10] loss: 0.593\n",
            "[14,    20] loss: 0.619\n",
            "[14,    30] loss: 0.612\n",
            "[14,    40] loss: 0.563\n",
            "[15,    10] loss: 0.484\n",
            "[15,    20] loss: 0.502\n",
            "[15,    30] loss: 0.480\n",
            "[15,    40] loss: 0.449\n",
            "[16,    10] loss: 0.416\n",
            "[16,    20] loss: 0.466\n",
            "[16,    30] loss: 0.418\n",
            "[16,    40] loss: 0.409\n",
            "[17,    10] loss: 0.292\n",
            "[17,    20] loss: 0.323\n",
            "[17,    30] loss: 0.276\n",
            "[17,    40] loss: 0.314\n",
            "[18,    10] loss: 0.457\n",
            "[18,    20] loss: 0.519\n",
            "[18,    30] loss: 0.482\n",
            "[18,    40] loss: 0.438\n",
            "[19,    10] loss: 0.355\n",
            "[19,    20] loss: 0.338\n",
            "[19,    30] loss: 0.282\n",
            "[19,    40] loss: 0.239\n",
            "[20,    10] loss: 0.178\n",
            "[20,    20] loss: 0.153\n",
            "[20,    30] loss: 0.148\n",
            "[20,    40] loss: 0.149\n",
            "[21,    10] loss: 0.136\n",
            "[21,    20] loss: 0.152\n",
            "[21,    30] loss: 0.135\n",
            "[21,    40] loss: 0.114\n",
            "[22,    10] loss: 0.064\n",
            "[22,    20] loss: 0.052\n",
            "[22,    30] loss: 0.044\n",
            "[22,    40] loss: 0.064\n",
            "[23,    10] loss: 0.130\n",
            "[23,    20] loss: 0.145\n",
            "[23,    30] loss: 0.135\n",
            "[23,    40] loss: 0.163\n",
            "[24,    10] loss: 0.252\n",
            "[24,    20] loss: 0.304\n",
            "[24,    30] loss: 0.270\n",
            "[24,    40] loss: 0.281\n",
            "[25,    10] loss: 0.302\n",
            "[25,    20] loss: 0.267\n",
            "[25,    30] loss: 0.230\n",
            "[25,    40] loss: 0.191\n",
            "[26,    10] loss: 0.121\n",
            "[26,    20] loss: 0.128\n",
            "[26,    30] loss: 0.102\n",
            "[26,    40] loss: 0.106\n",
            "[27,    10] loss: 0.122\n",
            "[27,    20] loss: 0.128\n",
            "[27,    30] loss: 0.095\n",
            "[27,    40] loss: 0.085\n",
            "[28,    10] loss: 0.079\n",
            "[28,    20] loss: 0.079\n",
            "[28,    30] loss: 0.062\n",
            "[28,    40] loss: 0.048\n",
            "[29,    10] loss: 0.035\n",
            "[29,    20] loss: 0.046\n",
            "[29,    30] loss: 0.031\n",
            "[29,    40] loss: 0.019\n",
            "Finished Training\n",
            "Accuracy of the network on the 10000 train images: 99 %\n",
            "Accuracy of the network on the 10000 test dataset 1: 99 %\n",
            "Accuracy of the network on the 10000 test dataset 2: 99 %\n",
            "Accuracy of the network on the 10000 test dataset 3: 99 %\n",
            "Accuracy of the network on the 10000 test dataset 4: 99 %\n",
            "Accuracy of the network on the 10000 test dataset 5: 99 %\n",
            "Accuracy of the network on the 10000 test dataset 6: 95 %\n",
            "--------------------------------------------------------------------------------\n",
            "--------------------------------------------------------------------------------\n",
            "training on data set   5\n",
            "[1,    10] loss: 1.085\n",
            "[1,    20] loss: 1.065\n",
            "[1,    30] loss: 1.057\n",
            "[1,    40] loss: 1.013\n",
            "[2,    10] loss: 1.033\n",
            "[2,    20] loss: 1.036\n",
            "[2,    30] loss: 1.013\n",
            "[2,    40] loss: 1.019\n",
            "[3,    10] loss: 0.991\n",
            "[3,    20] loss: 0.983\n",
            "[3,    30] loss: 0.977\n",
            "[3,    40] loss: 0.958\n",
            "[4,    10] loss: 0.935\n",
            "[4,    20] loss: 0.938\n",
            "[4,    30] loss: 0.948\n",
            "[4,    40] loss: 0.937\n",
            "[5,    10] loss: 0.924\n",
            "[5,    20] loss: 0.932\n",
            "[5,    30] loss: 0.920\n",
            "[5,    40] loss: 0.900\n",
            "[6,    10] loss: 0.881\n",
            "[6,    20] loss: 0.867\n",
            "[6,    30] loss: 0.892\n",
            "[6,    40] loss: 0.842\n",
            "[7,    10] loss: 0.806\n",
            "[7,    20] loss: 0.816\n",
            "[7,    30] loss: 0.811\n",
            "[7,    40] loss: 0.842\n",
            "[8,    10] loss: 0.866\n",
            "[8,    20] loss: 0.854\n",
            "[8,    30] loss: 0.821\n",
            "[8,    40] loss: 0.790\n",
            "[9,    10] loss: 0.714\n",
            "[9,    20] loss: 0.681\n",
            "[9,    30] loss: 0.694\n",
            "[9,    40] loss: 0.767\n",
            "[10,    10] loss: 0.745\n",
            "[10,    20] loss: 0.722\n",
            "[10,    30] loss: 0.731\n",
            "[10,    40] loss: 0.695\n",
            "[11,    10] loss: 0.606\n",
            "[11,    20] loss: 0.594\n",
            "[11,    30] loss: 0.585\n",
            "[11,    40] loss: 0.605\n",
            "[12,    10] loss: 0.593\n",
            "[12,    20] loss: 0.595\n",
            "[12,    30] loss: 0.583\n",
            "[12,    40] loss: 0.569\n",
            "[13,    10] loss: 0.497\n",
            "[13,    20] loss: 0.480\n",
            "[13,    30] loss: 0.459\n",
            "[13,    40] loss: 0.451\n",
            "[14,    10] loss: 0.346\n",
            "[14,    20] loss: 0.346\n",
            "[14,    30] loss: 0.350\n",
            "[14,    40] loss: 0.360\n",
            "[15,    10] loss: 0.390\n",
            "[15,    20] loss: 0.484\n",
            "[15,    30] loss: 0.470\n",
            "[15,    40] loss: 0.478\n",
            "[16,    10] loss: 0.478\n",
            "[16,    20] loss: 0.497\n",
            "[16,    30] loss: 0.459\n",
            "[16,    40] loss: 0.402\n",
            "[17,    10] loss: 0.320\n",
            "[17,    20] loss: 0.297\n",
            "[17,    30] loss: 0.238\n",
            "[17,    40] loss: 0.239\n",
            "[18,    10] loss: 0.312\n",
            "[18,    20] loss: 0.360\n",
            "[18,    30] loss: 0.289\n",
            "[18,    40] loss: 0.268\n",
            "[19,    10] loss: 0.204\n",
            "[19,    20] loss: 0.185\n",
            "[19,    30] loss: 0.157\n",
            "[19,    40] loss: 0.154\n",
            "[20,    10] loss: 0.128\n",
            "[20,    20] loss: 0.127\n",
            "[20,    30] loss: 0.101\n",
            "[20,    40] loss: 0.102\n",
            "[21,    10] loss: 0.105\n",
            "[21,    20] loss: 0.083\n",
            "[21,    30] loss: 0.076\n",
            "[21,    40] loss: 0.067\n",
            "[22,    10] loss: 0.034\n",
            "[22,    20] loss: 0.027\n",
            "[22,    30] loss: 0.018\n",
            "[22,    40] loss: 0.018\n",
            "Finished Training\n",
            "Accuracy of the network on the 10000 train images: 99 %\n",
            "Accuracy of the network on the 10000 test dataset 1: 99 %\n",
            "Accuracy of the network on the 10000 test dataset 2: 99 %\n",
            "Accuracy of the network on the 10000 test dataset 3: 99 %\n",
            "Accuracy of the network on the 10000 test dataset 4: 99 %\n",
            "Accuracy of the network on the 10000 test dataset 5: 99 %\n",
            "Accuracy of the network on the 10000 test dataset 6: 97 %\n",
            "--------------------------------------------------------------------------------\n",
            "--------------------------------------------------------------------------------\n",
            "training on data set   6\n",
            "[1,    10] loss: 1.049\n",
            "[1,    20] loss: 0.934\n",
            "[1,    30] loss: 0.867\n",
            "[1,    40] loss: 0.816\n",
            "[2,    10] loss: 0.801\n",
            "[2,    20] loss: 0.768\n",
            "[2,    30] loss: 0.773\n",
            "[2,    40] loss: 0.734\n",
            "[3,    10] loss: 0.717\n",
            "[3,    20] loss: 0.700\n",
            "[3,    30] loss: 0.691\n",
            "[3,    40] loss: 0.680\n",
            "[4,    10] loss: 0.657\n",
            "[4,    20] loss: 0.631\n",
            "[4,    30] loss: 0.654\n",
            "[4,    40] loss: 0.591\n",
            "[5,    10] loss: 0.584\n",
            "[5,    20] loss: 0.559\n",
            "[5,    30] loss: 0.553\n",
            "[5,    40] loss: 0.552\n",
            "[6,    10] loss: 0.535\n",
            "[6,    20] loss: 0.490\n",
            "[6,    30] loss: 0.488\n",
            "[6,    40] loss: 0.473\n",
            "[7,    10] loss: 0.448\n",
            "[7,    20] loss: 0.459\n",
            "[7,    30] loss: 0.443\n",
            "[7,    40] loss: 0.436\n",
            "[8,    10] loss: 0.465\n",
            "[8,    20] loss: 0.438\n",
            "[8,    30] loss: 0.433\n",
            "[8,    40] loss: 0.390\n",
            "[9,    10] loss: 0.338\n",
            "[9,    20] loss: 0.278\n",
            "[9,    30] loss: 0.262\n",
            "[9,    40] loss: 0.277\n",
            "[10,    10] loss: 0.213\n",
            "[10,    20] loss: 0.226\n",
            "[10,    30] loss: 0.195\n",
            "[10,    40] loss: 0.234\n",
            "[11,    10] loss: 0.379\n",
            "[11,    20] loss: 0.453\n",
            "[11,    30] loss: 0.381\n",
            "[11,    40] loss: 0.342\n",
            "[12,    10] loss: 0.394\n",
            "[12,    20] loss: 0.352\n",
            "[12,    30] loss: 0.280\n",
            "[12,    40] loss: 0.265\n",
            "[13,    10] loss: 0.145\n",
            "[13,    20] loss: 0.132\n",
            "[13,    30] loss: 0.119\n",
            "[13,    40] loss: 0.106\n",
            "[14,    10] loss: 0.113\n",
            "[14,    20] loss: 0.115\n",
            "[14,    30] loss: 0.109\n",
            "[14,    40] loss: 0.088\n",
            "[15,    10] loss: 0.067\n",
            "[15,    20] loss: 0.059\n",
            "[15,    30] loss: 0.055\n",
            "[15,    40] loss: 0.042\n",
            "[16,    10] loss: 0.049\n",
            "[16,    20] loss: 0.050\n",
            "[16,    30] loss: 0.050\n",
            "[16,    40] loss: 0.032\n",
            "Finished Training\n",
            "Accuracy of the network on the 10000 train images: 99 %\n",
            "Accuracy of the network on the 10000 test dataset 1: 69 %\n",
            "Accuracy of the network on the 10000 test dataset 2: 70 %\n",
            "Accuracy of the network on the 10000 test dataset 3: 70 %\n",
            "Accuracy of the network on the 10000 test dataset 4: 75 %\n",
            "Accuracy of the network on the 10000 test dataset 5: 81 %\n",
            "Accuracy of the network on the 10000 test dataset 6: 99 %\n",
            "--------------------------------------------------------------------------------\n"
          ],
          "name": "stdout"
        }
      ]
    },
    {
      "cell_type": "code",
      "metadata": {
        "id": "VidFcG10CrN_"
      },
      "source": [
        "%matplotlib inline"
      ],
      "execution_count": null,
      "outputs": []
    },
    {
      "cell_type": "code",
      "metadata": {
        "id": "C6tbtiJkCrOB",
        "outputId": "fc39c4f6-abdd-42ab-bea7-353c09d76621",
        "colab": {
          "base_uri": "https://localhost:8080/",
          "height": 297
        }
      },
      "source": [
        "fraction_list = [1,1.01, 1.02, 1.1, 1.2, 2]\n",
        "for i,j in enumerate(train_loss_all):\n",
        "    plt.plot(j,label =\"dataset \"+str(fraction_list[i]))\n",
        "    \n",
        "\n",
        "plt.xlabel(\"Epochs\")\n",
        "plt.ylabel(\"Training_loss\")\n",
        "\n",
        "plt.legend(loc='center left', bbox_to_anchor=(1, 0.5))"
      ],
      "execution_count": null,
      "outputs": [
        {
          "output_type": "execute_result",
          "data": {
            "text/plain": [
              "<matplotlib.legend.Legend at 0x7f55107eab00>"
            ]
          },
          "metadata": {
            "tags": []
          },
          "execution_count": 57
        },
        {
          "output_type": "display_data",
          "data": {
            "image/png": "[encoded data removed]",
            "text/plain": [
              "<Figure size 432x288 with 1 Axes>"
            ]
          },
          "metadata": {
            "tags": [],
            "needs_background": "light"
          }
        }
      ]
    },
    {
      "cell_type": "code",
      "metadata": {
        "id": "1r2iIcOUCrOE"
      },
      "source": [
        ""
      ],
      "execution_count": null,
      "outputs": []
    }
  ]
}