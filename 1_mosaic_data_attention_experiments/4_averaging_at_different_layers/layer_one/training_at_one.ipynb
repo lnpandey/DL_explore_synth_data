{
  "nbformat": 4,
  "nbformat_minor": 0,
  "metadata": {
    "colab": {
      "name": "Untitled19.ipynb",
      "provenance": [],
      "collapsed_sections": []
    },
    "kernelspec": {
      "name": "python3",
      "display_name": "Python 3"
    },
    "accelerator": "GPU"
  },
  "cells": [
    {
      "cell_type": "code",
      "metadata": {
        "id": "0R2j0wT2NxUG",
        "colab_type": "code",
        "outputId": "bfa3a31f-3937-4063-a66a-f07759e71821",
        "colab": {
          "base_uri": "https://localhost:8080/",
          "height": 51
        }
      },
      "source": [
        "from Models import Classification_Module4 as Classification_Module\n",
        "from Models import Focus_Module4 as Focus_Module\n",
        "from Mosaic import mosaic_data, MosaicDataset,split_foreground_background\n",
        "from torch.utils.data import Dataset,DataLoader\n",
        "import numpy as np\n",
        "import torch\n",
        "import torchvision\n",
        "import torchvision.transforms as transforms\n",
        "import torch.optim as optim\n",
        "import torch.nn as nn\n",
        "from matplotlib import pyplot as plt\n",
        "%matplotlib inline\n",
        "\n",
        "device = torch.device(\"cuda\" if torch.cuda.is_available() else \"cpu\")\n",
        "print(device)"
      ],
      "execution_count": 0,
      "outputs": [
        {
          "output_type": "stream",
          "text": [
            "cuda\n",
            "cuda\n"
          ],
          "name": "stdout"
        }
      ]
    },
    {
      "cell_type": "code",
      "metadata": {
        "id": "SblUamycPE7O",
        "colab_type": "code",
        "outputId": "d14e5f3e-aa12-41ec-dbe7-1af8a5fb2387",
        "colab": {
          "base_uri": "https://localhost:8080/",
          "height": 51
        }
      },
      "source": [
        "transform = transforms.Compose(\n",
        "    [transforms.ToTensor(),\n",
        "     transforms.Normalize((0.5, 0.5, 0.5), (0.5, 0.5, 0.5))])\n",
        "\n",
        "trainset = torchvision.datasets.CIFAR10(root='./data', train=True, download=True, transform=transform)\n",
        "\n",
        "\n",
        "testset = torchvision.datasets.CIFAR10(root='./data', train=False, download=True, transform=transform)\n",
        "\n",
        "trainloader = torch.utils.data.DataLoader(trainset, batch_size=10, shuffle=True)\n",
        "testloader = torch.utils.data.DataLoader(testset, batch_size=10, shuffle=False)"
      ],
      "execution_count": 0,
      "outputs": [
        {
          "output_type": "stream",
          "text": [
            "Files already downloaded and verified\n",
            "Files already downloaded and verified\n"
          ],
          "name": "stdout"
        }
      ]
    },
    {
      "cell_type": "code",
      "metadata": {
        "id": "Tsd9DNgUPMBx",
        "colab_type": "code",
        "colab": {}
      },
      "source": [
        "data = split_foreground_background(trainloader,total = 50000)\n",
        "mosaic_list_of_images,mosaic_label,fore_idx = mosaic_data(data,desired_num=30000,total=50000)"
      ],
      "execution_count": 0,
      "outputs": []
    },
    {
      "cell_type": "code",
      "metadata": {
        "id": "GC1dUctdPgmW",
        "colab_type": "code",
        "colab": {}
      },
      "source": [
        "batch = 250\n",
        "train_dataset  = MosaicDataset(mosaic_list_of_images, mosaic_label , fore_idx)\n",
        "mosaic_loader = DataLoader( train_dataset,batch_size= batch ,shuffle=True)"
      ],
      "execution_count": 0,
      "outputs": []
    },
    {
      "cell_type": "code",
      "metadata": {
        "id": "TCm_yFatRxib",
        "colab_type": "code",
        "colab": {}
      },
      "source": [
        "mimages_val,mlabel_val,fidx_val = mosaic_data(data,desired_num=10000,total=50000)"
      ],
      "execution_count": 0,
      "outputs": []
    },
    {
      "cell_type": "code",
      "metadata": {
        "id": "RccSHk3DU3jU",
        "colab_type": "code",
        "colab": {}
      },
      "source": [
        "batch = 250\n",
        "test_dataset  = MosaicDataset(mimages_val,mlabel_val,fidx_val)\n",
        "test_loader = DataLoader( test_dataset,batch_size= batch ,shuffle=True)"
      ],
      "execution_count": 0,
      "outputs": []
    },
    {
      "cell_type": "code",
      "metadata": {
        "id": "Di1vx00TVFgx",
        "colab_type": "code",
        "colab": {}
      },
      "source": [
        "focus_net =  Focus_Module(3,1).double()\n",
        "focus_net = focus_net.to(device)"
      ],
      "execution_count": 0,
      "outputs": []
    },
    {
      "cell_type": "code",
      "metadata": {
        "id": "R0wsFjYFVPfo",
        "colab_type": "code",
        "colab": {}
      },
      "source": [
        "classification_net  = Classification_Module(6,3).double()\n"
      ],
      "execution_count": 0,
      "outputs": []
    },
    {
      "cell_type": "code",
      "metadata": {
        "id": "jz6llbjujOm8",
        "colab_type": "code",
        "outputId": "781f546f-0396-4e22-a05f-90fb382115fa",
        "colab": {
          "base_uri": "https://localhost:8080/",
          "height": 170
        }
      },
      "source": [
        "\n",
        "classification_net = classification_net.to(device)\n",
        "classification_net"
      ],
      "execution_count": 0,
      "outputs": [
        {
          "output_type": "execute_result",
          "data": {
            "text/plain": [
              "Classification_Module4(\n",
              "  (pool): MaxPool2d(kernel_size=2, stride=2, padding=0, dilation=1, ceil_mode=False)\n",
              "  (conv1): Conv2d(6, 12, kernel_size=(5, 5), stride=(1, 1))\n",
              "  (conv2): Conv2d(12, 20, kernel_size=(5, 5), stride=(1, 1))\n",
              "  (fc1): Linear(in_features=1280, out_features=120, bias=True)\n",
              "  (fc2): Linear(in_features=120, out_features=84, bias=True)\n",
              "  (fc3): Linear(in_features=84, out_features=10, bias=True)\n",
              "  (fc4): Linear(in_features=10, out_features=3, bias=True)\n",
              ")"
            ]
          },
          "metadata": {
            "tags": []
          },
          "execution_count": 9
        }
      ]
    },
    {
      "cell_type": "code",
      "metadata": {
        "id": "emZvvTp0VbIu",
        "colab_type": "code",
        "colab": {}
      },
      "source": [
        "optimizer_focus = optim.SGD(focus_net.parameters(),lr = 0.01,momentum=0.9)\n",
        "optimizer_classification = optim.SGD(classification_net.parameters(),lr =0.01, momentum=0.9)"
      ],
      "execution_count": 0,
      "outputs": []
    },
    {
      "cell_type": "code",
      "metadata": {
        "id": "cClaMnSRVfS6",
        "colab_type": "code",
        "colab": {}
      },
      "source": [
        "\n",
        "criterion = nn.CrossEntropyLoss()"
      ],
      "execution_count": 0,
      "outputs": []
    },
    {
      "cell_type": "code",
      "metadata": {
        "id": "Y8iOl6JEVjJJ",
        "colab_type": "code",
        "outputId": "bbc2215b-df00-4462-c408-65f45dcf43a5",
        "colab": {
          "base_uri": "https://localhost:8080/",
          "height": 1000
        }
      },
      "source": [
        "tr_loss = []\n",
        "for epoch in range(110):  # loop over the dataset multiple times\n",
        "    running_loss = 0.0\n",
        "    cnt=0\n",
        "    iteration = 30000 // batch\n",
        "    ep_loss = []\n",
        "    for i, data in  enumerate(mosaic_loader):\n",
        "        inputs , labels , fgrnd_idx = data\n",
        "        inputs,labels = inputs.to(\"cuda\"),labels.to(\"cuda\")\n",
        "        optimizer_focus.zero_grad()\n",
        "        optimizer_classification.zero_grad()\n",
        "        avg_data , alphas = focus_net(inputs)\n",
        "        outputs = classification_net(avg_data)\n",
        "        _, predicted = torch.max(outputs.data, 1)\n",
        "        loss = criterion(outputs, labels)\n",
        "        loss.backward()\n",
        "        optimizer_focus.step()\n",
        "        optimizer_classification.step()\n",
        "\n",
        "        running_loss += loss.item()\n",
        "        mini = 40\n",
        "        if cnt % mini == mini-1:    # print every mini mini-batches\n",
        "            print('[%d, %5d] loss: %.3f' %(epoch + 1, cnt + 1, running_loss / mini))\n",
        "            ep_loss.append(running_loss/mini)\n",
        "            running_loss = 0.0  \n",
        "        cnt=cnt+1\n",
        "    tr_loss.append(np.mean(ep_loss))      \n",
        "print('Finished Training')    "
      ],
      "execution_count": 12,
      "outputs": [
        {
          "output_type": "stream",
          "text": [
            "/usr/local/lib/python3.6/dist-packages/torch/nn/functional.py:1558: UserWarning: nn.functional.tanh is deprecated. Use torch.tanh instead.\n",
            "  warnings.warn(\"nn.functional.tanh is deprecated. Use torch.tanh instead.\")\n"
          ],
          "name": "stderr"
        },
        {
          "output_type": "stream",
          "text": [
            "[1,    40] loss: 1.106\n",
            "[1,    80] loss: 1.099\n",
            "[1,   120] loss: 1.099\n",
            "[2,    40] loss: 1.099\n",
            "[2,    80] loss: 1.098\n",
            "[2,   120] loss: 1.098\n",
            "[3,    40] loss: 1.098\n",
            "[3,    80] loss: 1.098\n",
            "[3,   120] loss: 1.098\n",
            "[4,    40] loss: 1.098\n",
            "[4,    80] loss: 1.098\n",
            "[4,   120] loss: 1.097\n",
            "[5,    40] loss: 1.097\n",
            "[5,    80] loss: 1.096\n",
            "[5,   120] loss: 1.094\n",
            "[6,    40] loss: 1.092\n",
            "[6,    80] loss: 1.091\n",
            "[6,   120] loss: 1.088\n",
            "[7,    40] loss: 1.085\n",
            "[7,    80] loss: 1.085\n",
            "[7,   120] loss: 1.081\n",
            "[8,    40] loss: 1.085\n",
            "[8,    80] loss: 1.078\n",
            "[8,   120] loss: 1.080\n",
            "[9,    40] loss: 1.081\n",
            "[9,    80] loss: 1.078\n",
            "[9,   120] loss: 1.077\n",
            "[10,    40] loss: 1.076\n",
            "[10,    80] loss: 1.077\n",
            "[10,   120] loss: 1.074\n",
            "[11,    40] loss: 1.069\n",
            "[11,    80] loss: 1.070\n",
            "[11,   120] loss: 1.072\n",
            "[12,    40] loss: 1.068\n",
            "[12,    80] loss: 1.063\n",
            "[12,   120] loss: 1.062\n",
            "[13,    40] loss: 1.059\n",
            "[13,    80] loss: 1.054\n",
            "[13,   120] loss: 1.054\n",
            "[14,    40] loss: 1.058\n",
            "[14,    80] loss: 1.050\n",
            "[14,   120] loss: 1.048\n",
            "[15,    40] loss: 1.049\n",
            "[15,    80] loss: 1.046\n",
            "[15,   120] loss: 1.045\n",
            "[16,    40] loss: 1.046\n",
            "[16,    80] loss: 1.040\n",
            "[16,   120] loss: 1.039\n",
            "[17,    40] loss: 1.043\n",
            "[17,    80] loss: 1.038\n",
            "[17,   120] loss: 1.037\n",
            "[18,    40] loss: 1.043\n",
            "[18,    80] loss: 1.036\n",
            "[18,   120] loss: 1.030\n",
            "[19,    40] loss: 1.028\n",
            "[19,    80] loss: 1.026\n",
            "[19,   120] loss: 1.026\n",
            "[20,    40] loss: 1.029\n",
            "[20,    80] loss: 1.016\n",
            "[20,   120] loss: 1.010\n",
            "[21,    40] loss: 1.006\n",
            "[21,    80] loss: 1.000\n",
            "[21,   120] loss: 0.997\n",
            "[22,    40] loss: 0.984\n",
            "[22,    80] loss: 0.984\n",
            "[22,   120] loss: 0.984\n",
            "[23,    40] loss: 0.967\n",
            "[23,    80] loss: 0.967\n",
            "[23,   120] loss: 0.963\n",
            "[24,    40] loss: 0.943\n",
            "[24,    80] loss: 0.949\n",
            "[24,   120] loss: 0.939\n",
            "[25,    40] loss: 0.937\n",
            "[25,    80] loss: 0.928\n",
            "[25,   120] loss: 0.914\n",
            "[26,    40] loss: 0.899\n",
            "[26,    80] loss: 0.911\n",
            "[26,   120] loss: 0.904\n",
            "[27,    40] loss: 0.896\n",
            "[27,    80] loss: 0.890\n",
            "[27,   120] loss: 0.885\n",
            "[28,    40] loss: 0.873\n",
            "[28,    80] loss: 0.877\n",
            "[28,   120] loss: 0.866\n",
            "[29,    40] loss: 0.849\n",
            "[29,    80] loss: 0.855\n",
            "[29,   120] loss: 0.832\n",
            "[30,    40] loss: 0.823\n",
            "[30,    80] loss: 0.814\n",
            "[30,   120] loss: 0.817\n",
            "[31,    40] loss: 0.801\n",
            "[31,    80] loss: 0.790\n",
            "[31,   120] loss: 0.805\n",
            "[32,    40] loss: 0.750\n",
            "[32,    80] loss: 0.769\n",
            "[32,   120] loss: 0.763\n",
            "[33,    40] loss: 0.747\n",
            "[33,    80] loss: 0.736\n",
            "[33,   120] loss: 0.730\n",
            "[34,    40] loss: 0.695\n",
            "[34,    80] loss: 0.711\n",
            "[34,   120] loss: 0.712\n",
            "[35,    40] loss: 0.681\n",
            "[35,    80] loss: 0.685\n",
            "[35,   120] loss: 0.646\n",
            "[36,    40] loss: 0.658\n",
            "[36,    80] loss: 0.647\n",
            "[36,   120] loss: 0.640\n",
            "[37,    40] loss: 0.611\n",
            "[37,    80] loss: 0.620\n",
            "[37,   120] loss: 0.614\n",
            "[38,    40] loss: 0.598\n",
            "[38,    80] loss: 0.596\n",
            "[38,   120] loss: 0.590\n",
            "[39,    40] loss: 0.555\n",
            "[39,    80] loss: 0.553\n",
            "[39,   120] loss: 0.569\n",
            "[40,    40] loss: 0.520\n",
            "[40,    80] loss: 0.539\n",
            "[40,   120] loss: 0.531\n",
            "[41,    40] loss: 0.496\n",
            "[41,    80] loss: 0.515\n",
            "[41,   120] loss: 0.508\n",
            "[42,    40] loss: 0.503\n",
            "[42,    80] loss: 0.486\n",
            "[42,   120] loss: 0.496\n",
            "[43,    40] loss: 0.450\n",
            "[43,    80] loss: 0.457\n",
            "[43,   120] loss: 0.472\n",
            "[44,    40] loss: 0.434\n",
            "[44,    80] loss: 0.434\n",
            "[44,   120] loss: 0.432\n",
            "[45,    40] loss: 0.378\n",
            "[45,    80] loss: 0.434\n",
            "[45,   120] loss: 0.422\n",
            "[46,    40] loss: 0.374\n",
            "[46,    80] loss: 0.384\n",
            "[46,   120] loss: 0.394\n",
            "[47,    40] loss: 0.360\n",
            "[47,    80] loss: 0.397\n",
            "[47,   120] loss: 0.398\n",
            "[48,    40] loss: 0.322\n",
            "[48,    80] loss: 0.393\n",
            "[48,   120] loss: 0.358\n",
            "[49,    40] loss: 0.314\n",
            "[49,    80] loss: 0.315\n",
            "[49,   120] loss: 0.337\n",
            "[50,    40] loss: 0.309\n",
            "[50,    80] loss: 0.315\n",
            "[50,   120] loss: 0.326\n",
            "[51,    40] loss: 0.278\n",
            "[51,    80] loss: 0.297\n",
            "[51,   120] loss: 0.308\n",
            "[52,    40] loss: 0.271\n",
            "[52,    80] loss: 0.286\n",
            "[52,   120] loss: 0.308\n",
            "[53,    40] loss: 0.271\n",
            "[53,    80] loss: 0.263\n",
            "[53,   120] loss: 0.255\n",
            "[54,    40] loss: 0.263\n",
            "[54,    80] loss: 0.268\n",
            "[54,   120] loss: 0.237\n",
            "[55,    40] loss: 0.199\n",
            "[55,    80] loss: 0.229\n",
            "[55,   120] loss: 0.242\n",
            "[56,    40] loss: 0.225\n",
            "[56,    80] loss: 0.214\n",
            "[56,   120] loss: 0.253\n",
            "[57,    40] loss: 0.200\n",
            "[57,    80] loss: 0.238\n",
            "[57,   120] loss: 0.222\n",
            "[58,    40] loss: 0.184\n",
            "[58,    80] loss: 0.216\n",
            "[58,   120] loss: 0.237\n",
            "[59,    40] loss: 0.185\n",
            "[59,    80] loss: 0.181\n",
            "[59,   120] loss: 0.200\n",
            "[60,    40] loss: 0.192\n",
            "[60,    80] loss: 0.172\n",
            "[60,   120] loss: 0.178\n",
            "[61,    40] loss: 0.127\n",
            "[61,    80] loss: 0.157\n",
            "[61,   120] loss: 0.192\n",
            "[62,    40] loss: 0.145\n",
            "[62,    80] loss: 0.153\n",
            "[62,   120] loss: 0.167\n",
            "[63,    40] loss: 0.122\n",
            "[63,    80] loss: 0.139\n",
            "[63,   120] loss: 0.152\n",
            "[64,    40] loss: 0.144\n",
            "[64,    80] loss: 0.143\n",
            "[64,   120] loss: 0.147\n",
            "[65,    40] loss: 0.118\n",
            "[65,    80] loss: 0.120\n",
            "[65,   120] loss: 0.139\n",
            "[66,    40] loss: 0.088\n",
            "[66,    80] loss: 0.155\n",
            "[66,   120] loss: 0.124\n",
            "[67,    40] loss: 0.118\n",
            "[67,    80] loss: 0.112\n",
            "[67,   120] loss: 0.109\n",
            "[68,    40] loss: 0.119\n",
            "[68,    80] loss: 0.119\n",
            "[68,   120] loss: 0.103\n",
            "[69,    40] loss: 0.120\n",
            "[69,    80] loss: 0.101\n",
            "[69,   120] loss: 0.106\n",
            "[70,    40] loss: 0.087\n",
            "[70,    80] loss: 0.105\n",
            "[70,   120] loss: 0.110\n",
            "[71,    40] loss: 0.065\n",
            "[71,    80] loss: 0.096\n",
            "[71,   120] loss: 0.093\n",
            "[72,    40] loss: 0.044\n",
            "[72,    80] loss: 0.080\n",
            "[72,   120] loss: 0.085\n",
            "[73,    40] loss: 0.089\n",
            "[73,    80] loss: 0.089\n",
            "[73,   120] loss: 0.107\n",
            "[74,    40] loss: 0.069\n",
            "[74,    80] loss: 0.083\n",
            "[74,   120] loss: 0.079\n",
            "[75,    40] loss: 0.069\n",
            "[75,    80] loss: 0.080\n",
            "[75,   120] loss: 0.091\n",
            "[76,    40] loss: 0.064\n",
            "[76,    80] loss: 0.061\n",
            "[76,   120] loss: 0.058\n",
            "[77,    40] loss: 0.052\n",
            "[77,    80] loss: 0.072\n",
            "[77,   120] loss: 0.083\n",
            "[78,    40] loss: 0.053\n",
            "[78,    80] loss: 0.040\n",
            "[78,   120] loss: 0.063\n",
            "[79,    40] loss: 0.050\n",
            "[79,    80] loss: 0.056\n",
            "[79,   120] loss: 0.066\n",
            "[80,    40] loss: 0.055\n",
            "[80,    80] loss: 0.068\n",
            "[80,   120] loss: 0.061\n",
            "[81,    40] loss: 0.045\n",
            "[81,    80] loss: 0.043\n",
            "[81,   120] loss: 0.057\n",
            "[82,    40] loss: 0.045\n",
            "[82,    80] loss: 0.041\n",
            "[82,   120] loss: 0.055\n",
            "[83,    40] loss: 0.034\n",
            "[83,    80] loss: 0.037\n",
            "[83,   120] loss: 0.037\n",
            "[84,    40] loss: 0.034\n",
            "[84,    80] loss: 0.053\n",
            "[84,   120] loss: 0.057\n",
            "[85,    40] loss: 0.049\n",
            "[85,    80] loss: 0.060\n",
            "[85,   120] loss: 0.045\n",
            "[86,    40] loss: 0.041\n",
            "[86,    80] loss: 0.054\n",
            "[86,   120] loss: 0.049\n",
            "[87,    40] loss: 0.049\n",
            "[87,    80] loss: 0.038\n",
            "[87,   120] loss: 0.045\n",
            "[88,    40] loss: 0.038\n",
            "[88,    80] loss: 0.053\n",
            "[88,   120] loss: 0.068\n",
            "[89,    40] loss: 0.038\n",
            "[89,    80] loss: 0.039\n",
            "[89,   120] loss: 0.047\n",
            "[90,    40] loss: 0.019\n",
            "[90,    80] loss: 0.032\n",
            "[90,   120] loss: 0.024\n",
            "[91,    40] loss: 0.017\n",
            "[91,    80] loss: 0.029\n",
            "[91,   120] loss: 0.033\n",
            "[92,    40] loss: 0.031\n",
            "[92,    80] loss: 0.030\n",
            "[92,   120] loss: 0.029\n",
            "[93,    40] loss: 0.031\n",
            "[93,    80] loss: 0.023\n",
            "[93,   120] loss: 0.024\n",
            "[94,    40] loss: 0.032\n",
            "[94,    80] loss: 0.021\n",
            "[94,   120] loss: 0.037\n",
            "[95,    40] loss: 0.052\n",
            "[95,    80] loss: 0.033\n",
            "[95,   120] loss: 0.025\n",
            "[96,    40] loss: 0.027\n",
            "[96,    80] loss: 0.024\n",
            "[96,   120] loss: 0.033\n",
            "[97,    40] loss: 0.044\n",
            "[97,    80] loss: 0.024\n",
            "[97,   120] loss: 0.028\n",
            "[98,    40] loss: 0.035\n",
            "[98,    80] loss: 0.027\n",
            "[98,   120] loss: 0.018\n",
            "[99,    40] loss: 0.033\n",
            "[99,    80] loss: 0.031\n",
            "[99,   120] loss: 0.021\n",
            "[100,    40] loss: 0.017\n",
            "[100,    80] loss: 0.015\n",
            "[100,   120] loss: 0.028\n",
            "[101,    40] loss: 0.038\n",
            "[101,    80] loss: 0.044\n",
            "[101,   120] loss: 0.034\n",
            "[102,    40] loss: 0.027\n",
            "[102,    80] loss: 0.033\n",
            "[102,   120] loss: 0.037\n",
            "[103,    40] loss: 0.027\n",
            "[103,    80] loss: 0.020\n",
            "[103,   120] loss: 0.021\n",
            "[104,    40] loss: 0.012\n",
            "[104,    80] loss: 0.012\n",
            "[104,   120] loss: 0.022\n",
            "[105,    40] loss: 0.022\n",
            "[105,    80] loss: 0.025\n",
            "[105,   120] loss: 0.025\n",
            "[106,    40] loss: 0.015\n",
            "[106,    80] loss: 0.016\n",
            "[106,   120] loss: 0.018\n",
            "[107,    40] loss: 0.015\n",
            "[107,    80] loss: 0.013\n",
            "[107,   120] loss: 0.015\n",
            "[108,    40] loss: 0.011\n",
            "[108,    80] loss: 0.014\n",
            "[108,   120] loss: 0.013\n",
            "[109,    40] loss: 0.009\n",
            "[109,    80] loss: 0.008\n",
            "[109,   120] loss: 0.010\n",
            "[110,    40] loss: 0.011\n",
            "[110,    80] loss: 0.014\n",
            "[110,   120] loss: 0.018\n",
            "Finished Training\n"
          ],
          "name": "stdout"
        }
      ]
    },
    {
      "cell_type": "code",
      "metadata": {
        "id": "3lB7KlwGVpmd",
        "colab_type": "code",
        "outputId": "57970b69-2b75-4db3-c0eb-eb5fe8e2d58f",
        "colab": {
          "base_uri": "https://localhost:8080/",
          "height": 92
        }
      },
      "source": [
        "train_acc = 0\n",
        "for i, data in enumerate(mosaic_loader):\n",
        "    inputs,labels,_ = data\n",
        "    inputs,labels = inputs.to(device), labels.to(device)\n",
        "    \n",
        "    avg_data,alphas = focus_net(inputs)\n",
        "    outputs = classification_net(avg_data)\n",
        "    _,predicted = torch.max(outputs.data,1)\n",
        "    # print(predicted.detach().cpu().numpy())\n",
        "    train_acc += sum(predicted.cpu().numpy() == labels.cpu().numpy())\n",
        "print(\"percentage train accuracy: \",train_acc/300) \n",
        "\n",
        "torch.save(focus_net.state_dict(),\"focus_net_at_one.pt\")\n",
        "torch.save(classification_net.state_dict(),\"classification_net_at_one.pt\")"
      ],
      "execution_count": 14,
      "outputs": [
        {
          "output_type": "stream",
          "text": [
            "/usr/local/lib/python3.6/dist-packages/torch/nn/functional.py:1558: UserWarning: nn.functional.tanh is deprecated. Use torch.tanh instead.\n",
            "  warnings.warn(\"nn.functional.tanh is deprecated. Use torch.tanh instead.\")\n"
          ],
          "name": "stderr"
        },
        {
          "output_type": "stream",
          "text": [
            "percentage train accuracy:  99.55333333333333\n"
          ],
          "name": "stdout"
        }
      ]
    },
    {
      "cell_type": "code",
      "metadata": {
        "id": "QEdCv9Lfd6Pf",
        "colab_type": "code",
        "outputId": "bb0f8fab-c036-4a33-ce3c-56aaed26b0f8",
        "colab": {
          "base_uri": "https://localhost:8080/",
          "height": 92
        }
      },
      "source": [
        "val_acc = 0\n",
        "for i, data in enumerate(test_loader):\n",
        "    inputs,labels,_ = data\n",
        "    inputs,labels = inputs.to(device), labels.to(device)\n",
        "\n",
        "    avg_data,alphas = focus_net(inputs)\n",
        "    outputs = classification_net(avg_data)\n",
        "    _,predicted = torch.max(outputs.data,1)\n",
        "\n",
        "    val_acc +=sum(predicted.cpu().numpy() == labels.cpu().numpy())\n",
        "print(\"percentage validation accuracy: \",val_acc/100)"
      ],
      "execution_count": 15,
      "outputs": [
        {
          "output_type": "stream",
          "text": [
            "/usr/local/lib/python3.6/dist-packages/torch/nn/functional.py:1558: UserWarning: nn.functional.tanh is deprecated. Use torch.tanh instead.\n",
            "  warnings.warn(\"nn.functional.tanh is deprecated. Use torch.tanh instead.\")\n"
          ],
          "name": "stderr"
        },
        {
          "output_type": "stream",
          "text": [
            "percentage validation accuracy:  81.22\n"
          ],
          "name": "stdout"
        }
      ]
    },
    {
      "cell_type": "code",
      "metadata": {
        "id": "Q5MIz98beE2L",
        "colab_type": "code",
        "outputId": "191d9fe4-b5d1-4614-bc0e-29ae46fd7526",
        "colab": {
          "base_uri": "https://localhost:8080/",
          "height": 279
        }
      },
      "source": [
        "plt.figure(figsize = (5,4))\n",
        "plt.plot(tr_loss,label= \"training loss\")\n",
        "plt.xlabel(\"epochs\")\n",
        "plt.ylabel(\"cross entropy loss\")\n",
        "plt.savefig(\"training_loss_at_one.png\")\n",
        "plt.savefig(\"training_loss_at_one.pdf\")"
      ],
      "execution_count": 17,
      "outputs": [
        {
          "output_type": "display_data",
          "data": {
            "image/png": "[encoded data removed]",
            "text/plain": [
              "<Figure size 360x288 with 1 Axes>"
            ]
          },
          "metadata": {
            "tags": [],
            "needs_background": "light"
          }
        }
      ]
    },
    {
      "cell_type": "code",
      "metadata": {
        "id": "kDF5iDVwYCZb",
        "colab_type": "code",
        "colab": {}
      },
      "source": [
        ""
      ],
      "execution_count": 0,
      "outputs": []
    }
  ]
}