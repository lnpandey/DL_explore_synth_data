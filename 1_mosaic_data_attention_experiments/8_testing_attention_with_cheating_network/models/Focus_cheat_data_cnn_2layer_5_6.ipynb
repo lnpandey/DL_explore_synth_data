{
  "nbformat": 4,
  "nbformat_minor": 0,
  "metadata": {
    "accelerator": "GPU",
    "colab": {
      "name": "Focus_cheat_data_cnn_3layer_16_32_32.ipynb",
      "provenance": [],
      "collapsed_sections": [],
      "machine_shape": "hm"
    },
    "kernelspec": {
      "display_name": "Python 3",
      "language": "python",
      "name": "python3"
    },
    "language_info": {
      "codemirror_mode": {
        "name": "ipython",
        "version": 3
      },
      "file_extension": ".py",
      "mimetype": "text/x-python",
      "name": "python",
      "nbconvert_exporter": "python",
      "pygments_lexer": "ipython3",
      "version": "3.6.5"
    },
    "widgets": {
      "application/vnd.jupyter.widget-state+json": {
        "fb1a2572182c41c09e0973ff2eb6cb33": {
          "model_module": "@jupyter-widgets/controls",
          "model_name": "HBoxModel",
          "state": {
            "_view_name": "HBoxView",
            "_dom_classes": [],
            "_model_name": "HBoxModel",
            "_view_module": "@jupyter-widgets/controls",
            "_model_module_version": "1.5.0",
            "_view_count": null,
            "_view_module_version": "1.5.0",
            "box_style": "",
            "layout": "IPY_MODEL_4322ba9043ec4ae3945d54dda6dcc9c1",
            "_model_module": "@jupyter-widgets/controls",
            "children": [
              "IPY_MODEL_7e81bc36199e46b88127bbbd0c942907",
              "IPY_MODEL_9e0fd5403f6c4a6eb8157950ea7f0f5b"
            ]
          }
        },
        "4322ba9043ec4ae3945d54dda6dcc9c1": {
          "model_module": "@jupyter-widgets/base",
          "model_name": "LayoutModel",
          "state": {
            "_view_name": "LayoutView",
            "grid_template_rows": null,
            "right": null,
            "justify_content": null,
            "_view_module": "@jupyter-widgets/base",
            "overflow": null,
            "_model_module_version": "1.2.0",
            "_view_count": null,
            "flex_flow": null,
            "width": null,
            "min_width": null,
            "border": null,
            "align_items": null,
            "bottom": null,
            "_model_module": "@jupyter-widgets/base",
            "top": null,
            "grid_column": null,
            "overflow_y": null,
            "overflow_x": null,
            "grid_auto_flow": null,
            "grid_area": null,
            "grid_template_columns": null,
            "flex": null,
            "_model_name": "LayoutModel",
            "justify_items": null,
            "grid_row": null,
            "max_height": null,
            "align_content": null,
            "visibility": null,
            "align_self": null,
            "height": null,
            "min_height": null,
            "padding": null,
            "grid_auto_rows": null,
            "grid_gap": null,
            "max_width": null,
            "order": null,
            "_view_module_version": "1.2.0",
            "grid_template_areas": null,
            "object_position": null,
            "object_fit": null,
            "grid_auto_columns": null,
            "margin": null,
            "display": null,
            "left": null
          }
        },
        "7e81bc36199e46b88127bbbd0c942907": {
          "model_module": "@jupyter-widgets/controls",
          "model_name": "FloatProgressModel",
          "state": {
            "_view_name": "ProgressView",
            "style": "IPY_MODEL_4020273ab0db405ba098a75bb9639c8d",
            "_dom_classes": [],
            "description": "",
            "_model_name": "FloatProgressModel",
            "bar_style": "info",
            "max": 1,
            "_view_module": "@jupyter-widgets/controls",
            "_model_module_version": "1.5.0",
            "value": 1,
            "_view_count": null,
            "_view_module_version": "1.5.0",
            "orientation": "horizontal",
            "min": 0,
            "description_tooltip": null,
            "_model_module": "@jupyter-widgets/controls",
            "layout": "IPY_MODEL_e11338439c8c48888a07c2ebffb71331"
          }
        },
        "9e0fd5403f6c4a6eb8157950ea7f0f5b": {
          "model_module": "@jupyter-widgets/controls",
          "model_name": "HTMLModel",
          "state": {
            "_view_name": "HTMLView",
            "style": "IPY_MODEL_5af506d8a0df40b795c7706f2298283c",
            "_dom_classes": [],
            "description": "",
            "_model_name": "HTMLModel",
            "placeholder": "​",
            "_view_module": "@jupyter-widgets/controls",
            "_model_module_version": "1.5.0",
            "value": " 170500096/? [00:20&lt;00:00, 32960632.57it/s]",
            "_view_count": null,
            "_view_module_version": "1.5.0",
            "description_tooltip": null,
            "_model_module": "@jupyter-widgets/controls",
            "layout": "IPY_MODEL_f7a7b0409b2b4fa0bec9f6caf0cefb0e"
          }
        },
        "4020273ab0db405ba098a75bb9639c8d": {
          "model_module": "@jupyter-widgets/controls",
          "model_name": "ProgressStyleModel",
          "state": {
            "_view_name": "StyleView",
            "_model_name": "ProgressStyleModel",
            "description_width": "initial",
            "_view_module": "@jupyter-widgets/base",
            "_model_module_version": "1.5.0",
            "_view_count": null,
            "_view_module_version": "1.2.0",
            "bar_color": null,
            "_model_module": "@jupyter-widgets/controls"
          }
        },
        "e11338439c8c48888a07c2ebffb71331": {
          "model_module": "@jupyter-widgets/base",
          "model_name": "LayoutModel",
          "state": {
            "_view_name": "LayoutView",
            "grid_template_rows": null,
            "right": null,
            "justify_content": null,
            "_view_module": "@jupyter-widgets/base",
            "overflow": null,
            "_model_module_version": "1.2.0",
            "_view_count": null,
            "flex_flow": null,
            "width": null,
            "min_width": null,
            "border": null,
            "align_items": null,
            "bottom": null,
            "_model_module": "@jupyter-widgets/base",
            "top": null,
            "grid_column": null,
            "overflow_y": null,
            "overflow_x": null,
            "grid_auto_flow": null,
            "grid_area": null,
            "grid_template_columns": null,
            "flex": null,
            "_model_name": "LayoutModel",
            "justify_items": null,
            "grid_row": null,
            "max_height": null,
            "align_content": null,
            "visibility": null,
            "align_self": null,
            "height": null,
            "min_height": null,
            "padding": null,
            "grid_auto_rows": null,
            "grid_gap": null,
            "max_width": null,
            "order": null,
            "_view_module_version": "1.2.0",
            "grid_template_areas": null,
            "object_position": null,
            "object_fit": null,
            "grid_auto_columns": null,
            "margin": null,
            "display": null,
            "left": null
          }
        },
        "5af506d8a0df40b795c7706f2298283c": {
          "model_module": "@jupyter-widgets/controls",
          "model_name": "DescriptionStyleModel",
          "state": {
            "_view_name": "StyleView",
            "_model_name": "DescriptionStyleModel",
            "description_width": "",
            "_view_module": "@jupyter-widgets/base",
            "_model_module_version": "1.5.0",
            "_view_count": null,
            "_view_module_version": "1.2.0",
            "_model_module": "@jupyter-widgets/controls"
          }
        },
        "f7a7b0409b2b4fa0bec9f6caf0cefb0e": {
          "model_module": "@jupyter-widgets/base",
          "model_name": "LayoutModel",
          "state": {
            "_view_name": "LayoutView",
            "grid_template_rows": null,
            "right": null,
            "justify_content": null,
            "_view_module": "@jupyter-widgets/base",
            "overflow": null,
            "_model_module_version": "1.2.0",
            "_view_count": null,
            "flex_flow": null,
            "width": null,
            "min_width": null,
            "border": null,
            "align_items": null,
            "bottom": null,
            "_model_module": "@jupyter-widgets/base",
            "top": null,
            "grid_column": null,
            "overflow_y": null,
            "overflow_x": null,
            "grid_auto_flow": null,
            "grid_area": null,
            "grid_template_columns": null,
            "flex": null,
            "_model_name": "LayoutModel",
            "justify_items": null,
            "grid_row": null,
            "max_height": null,
            "align_content": null,
            "visibility": null,
            "align_self": null,
            "height": null,
            "min_height": null,
            "padding": null,
            "grid_auto_rows": null,
            "grid_gap": null,
            "max_width": null,
            "order": null,
            "_view_module_version": "1.2.0",
            "grid_template_areas": null,
            "object_position": null,
            "object_fit": null,
            "grid_auto_columns": null,
            "margin": null,
            "display": null,
            "left": null
          }
        }
      }
    }
  },
  "cells": [
    {
      "cell_type": "code",
      "metadata": {
        "colab_type": "code",
        "id": "JSjG64ra4aFu",
        "colab": {
          "base_uri": "https://localhost:8080/",
          "height": 128
        },
        "outputId": "5f623538-b29d-4443-c885-b46bd13ee549"
      },
      "source": [
        "from google.colab import drive\n",
        "drive.mount('/content/drive')"
      ],
      "execution_count": 1,
      "outputs": [
        {
          "output_type": "stream",
          "text": [
            "Go to this URL in a browser: https://accounts.google.com/o/oauth2/auth?client_id=947318989803-6bn6qk8qdgf4n4g3pfee6491hc0brc4i.apps.googleusercontent.com&redirect_uri=urn%3aietf%3awg%3aoauth%3a2.0%3aoob&scope=email%20https%3a%2f%2fwww.googleapis.com%2fauth%2fdocs.test%20https%3a%2f%2fwww.googleapis.com%2fauth%2fdrive%20https%3a%2f%2fwww.googleapis.com%2fauth%2fdrive.photos.readonly%20https%3a%2f%2fwww.googleapis.com%2fauth%2fpeopleapi.readonly&response_type=code\n",
            "\n",
            "Enter your authorization code:\n",
            "4/4AHgD_Fq6TMGseMpTy0yG2R_dfGTU_nYzhcJ7bH1IbheTJxUnDJs2bs\n",
            "Mounted at /content/drive\n"
          ],
          "name": "stdout"
        }
      ]
    },
    {
      "cell_type": "code",
      "metadata": {
        "colab_type": "code",
        "id": "V8-7SARDZErK",
        "colab": {}
      },
      "source": [
        "import torch.nn as nn\n",
        "import torch.nn.functional as F\n",
        "\n",
        "import pandas as pd\n",
        "import numpy as np\n",
        "import matplotlib.pyplot as plt\n",
        "\n",
        "import torch\n",
        "import torchvision\n",
        "import torchvision.transforms as transforms\n",
        "from torch.utils.data import Dataset, DataLoader\n",
        "from torchvision import transforms, utils\n",
        "\n",
        "from matplotlib import pyplot as plt\n",
        "\n",
        "import copy\n",
        "\n",
        "# Ignore warnings\n",
        "import warnings\n",
        "warnings.filterwarnings(\"ignore\")\n"
      ],
      "execution_count": 2,
      "outputs": []
    },
    {
      "cell_type": "code",
      "metadata": {
        "colab_type": "code",
        "id": "acRFqJNrZErV",
        "colab": {
          "base_uri": "https://localhost:8080/",
          "height": 104,
          "referenced_widgets": [
            "fb1a2572182c41c09e0973ff2eb6cb33",
            "4322ba9043ec4ae3945d54dda6dcc9c1",
            "7e81bc36199e46b88127bbbd0c942907",
            "9e0fd5403f6c4a6eb8157950ea7f0f5b",
            "4020273ab0db405ba098a75bb9639c8d",
            "e11338439c8c48888a07c2ebffb71331",
            "5af506d8a0df40b795c7706f2298283c",
            "f7a7b0409b2b4fa0bec9f6caf0cefb0e"
          ]
        },
        "outputId": "35237e3e-b326-4bc6-b053-e7afcbb95a20"
      },
      "source": [
        "transform = transforms.Compose(\n",
        "    [transforms.ToTensor(),\n",
        "     transforms.Normalize((0.5, 0.5, 0.5), (0.5, 0.5, 0.5))])\n",
        "\n",
        "trainset = torchvision.datasets.CIFAR10(root='./data', train=True, download=True, transform=transform)\n",
        "\n",
        "\n",
        "testset = torchvision.datasets.CIFAR10(root='./data', train=False, download=True, transform=transform)\n"
      ],
      "execution_count": 3,
      "outputs": [
        {
          "output_type": "stream",
          "text": [
            "Downloading https://www.cs.toronto.edu/~kriz/cifar-10-python.tar.gz to ./data/cifar-10-python.tar.gz\n"
          ],
          "name": "stdout"
        },
        {
          "output_type": "display_data",
          "data": {
            "application/vnd.jupyter.widget-view+json": {
              "model_id": "fb1a2572182c41c09e0973ff2eb6cb33",
              "version_minor": 0,
              "version_major": 2
            },
            "text/plain": [
              "HBox(children=(FloatProgress(value=1.0, bar_style='info', max=1.0), HTML(value='')))"
            ]
          },
          "metadata": {
            "tags": []
          }
        },
        {
          "output_type": "stream",
          "text": [
            "Extracting ./data/cifar-10-python.tar.gz to ./data\n",
            "Files already downloaded and verified\n"
          ],
          "name": "stdout"
        }
      ]
    },
    {
      "cell_type": "code",
      "metadata": {
        "id": "Ip_hgswQOHeX",
        "colab_type": "code",
        "colab": {
          "base_uri": "https://localhost:8080/",
          "height": 35
        },
        "outputId": "a4ad0c65-b959-484c-f784-dd5899017021"
      },
      "source": [
        "type(trainset.targets)\n",
        "type(trainset.data)"
      ],
      "execution_count": 4,
      "outputs": [
        {
          "output_type": "execute_result",
          "data": {
            "text/plain": [
              "numpy.ndarray"
            ]
          },
          "metadata": {
            "tags": []
          },
          "execution_count": 4
        }
      ]
    },
    {
      "cell_type": "code",
      "metadata": {
        "id": "gh5DXuAV1tp5",
        "colab_type": "code",
        "colab": {}
      },
      "source": [
        "# trainloader = torch.utils.data.DataLoader(trainset, batch_size=10, shuffle=True)\n",
        "# testloader = torch.utils.data.DataLoader(testset, batch_size=10, shuffle=False)\n",
        "\n",
        "\n",
        "classes = ('plane', 'car', 'bird', 'cat', 'deer', 'dog', 'frog', 'horse', 'ship', 'truck')\n",
        "\n",
        "foreground_classes = {'plane', 'car', 'bird'}\n",
        "\n",
        "background_classes = {'cat', 'deer', 'dog', 'frog', 'horse','ship', 'truck'}\n",
        "\n",
        "fg1,fg2,fg3 = 0,1,2"
      ],
      "execution_count": 5,
      "outputs": []
    },
    {
      "cell_type": "code",
      "metadata": {
        "colab_type": "code",
        "id": "V_JUhwCeZErk",
        "colab": {
          "base_uri": "https://localhost:8080/",
          "height": 35
        },
        "outputId": "dec215bf-cc5e-415c-d28c-91768a79fa08"
      },
      "source": [
        "is_fg = [np.where(np.array(trainset.targets)==fg1)[0] , np.where(np.array(trainset.targets)==fg2)[0], np.where(np.array(trainset.targets)==fg3)[0]  ]\n",
        "# print(is_fg)\n",
        "is_fg = np.concatenate(is_fg,axis=0)\n",
        "print(is_fg, (is_fg).shape)"
      ],
      "execution_count": 6,
      "outputs": [
        {
          "output_type": "stream",
          "text": [
            "[   29    30    35 ... 49987 49991 49995] (15000,)\n"
          ],
          "name": "stdout"
        }
      ]
    },
    {
      "cell_type": "code",
      "metadata": {
        "id": "uW9MkktGysAp",
        "colab_type": "code",
        "colab": {
          "base_uri": "https://localhost:8080/",
          "height": 35
        },
        "outputId": "cbbfb99f-e756-4071-e79b-40af3f60ef24"
      },
      "source": [
        "all_index = np.arange(0,50000)\n",
        "all_index"
      ],
      "execution_count": 7,
      "outputs": [
        {
          "output_type": "execute_result",
          "data": {
            "text/plain": [
              "array([    0,     1,     2, ..., 49997, 49998, 49999])"
            ]
          },
          "metadata": {
            "tags": []
          },
          "execution_count": 7
        }
      ]
    },
    {
      "cell_type": "code",
      "metadata": {
        "id": "lWxkp87fNwnM",
        "colab_type": "code",
        "colab": {
          "base_uri": "https://localhost:8080/",
          "height": 35
        },
        "outputId": "91117d2d-31d4-458a-e42d-2ecd7660fa1d"
      },
      "source": [
        "train_labels = np.array(trainset.targets)\n",
        "train_labels.shape"
      ],
      "execution_count": 8,
      "outputs": [
        {
          "output_type": "execute_result",
          "data": {
            "text/plain": [
              "(50000,)"
            ]
          },
          "metadata": {
            "tags": []
          },
          "execution_count": 8
        }
      ]
    },
    {
      "cell_type": "code",
      "metadata": {
        "id": "AJuGak6_zXgx",
        "colab_type": "code",
        "colab": {
          "base_uri": "https://localhost:8080/",
          "height": 35
        },
        "outputId": "a71c4c95-74a4-459a-ace8-3cb9165a9157"
      },
      "source": [
        "train_labels[is_fg]=1\n",
        "train_labels[list(set(all_index)-set(is_fg))]=0\n",
        "train_labels"
      ],
      "execution_count": 9,
      "outputs": [
        {
          "output_type": "execute_result",
          "data": {
            "text/plain": [
              "array([0, 0, 0, ..., 0, 1, 1])"
            ]
          },
          "metadata": {
            "tags": []
          },
          "execution_count": 9
        }
      ]
    },
    {
      "cell_type": "code",
      "metadata": {
        "id": "IPvRxLk4zmXB",
        "colab_type": "code",
        "colab": {
          "base_uri": "https://localhost:8080/",
          "height": 35
        },
        "outputId": "0b1e58b8-53b9-48d0-8685-cf42f0350db1"
      },
      "source": [
        "np.count_nonzero(train_labels)"
      ],
      "execution_count": 10,
      "outputs": [
        {
          "output_type": "execute_result",
          "data": {
            "text/plain": [
              "15000"
            ]
          },
          "metadata": {
            "tags": []
          },
          "execution_count": 10
        }
      ]
    },
    {
      "cell_type": "code",
      "metadata": {
        "id": "II4R1Q2szwg9",
        "colab_type": "code",
        "colab": {}
      },
      "source": [
        "trainset.targets = train_labels"
      ],
      "execution_count": 11,
      "outputs": []
    },
    {
      "cell_type": "code",
      "metadata": {
        "colab_type": "code",
        "id": "ywcNP5ur2Btv",
        "colab": {
          "base_uri": "https://localhost:8080/",
          "height": 35
        },
        "outputId": "9562d491-4fcf-4fe1-b4b9-213ab3d74eec"
      },
      "source": [
        "is_fg = [np.where(np.array(testset.targets)==fg1)[0] , np.where(np.array(testset.targets)==fg2)[0], np.where(np.array(testset.targets)==fg3)[0]  ]\n",
        "# print(is_fg)\n",
        "is_fg = np.concatenate(is_fg,axis=0)\n",
        "print(is_fg, (is_fg).shape)"
      ],
      "execution_count": 12,
      "outputs": [
        {
          "output_type": "stream",
          "text": [
            "[   3   10   21 ... 9970 9982 9989] (3000,)\n"
          ],
          "name": "stdout"
        }
      ]
    },
    {
      "cell_type": "code",
      "metadata": {
        "colab_type": "code",
        "id": "9jv5cZS_2BuK",
        "colab": {
          "base_uri": "https://localhost:8080/",
          "height": 35
        },
        "outputId": "3193c8b7-8d0e-4474-ecf5-6e1f51d95bcd"
      },
      "source": [
        "all_index = np.arange(0,10000)\n",
        "all_index"
      ],
      "execution_count": 13,
      "outputs": [
        {
          "output_type": "execute_result",
          "data": {
            "text/plain": [
              "array([   0,    1,    2, ..., 9997, 9998, 9999])"
            ]
          },
          "metadata": {
            "tags": []
          },
          "execution_count": 13
        }
      ]
    },
    {
      "cell_type": "code",
      "metadata": {
        "colab_type": "code",
        "id": "Cea4-tjj2BuV",
        "colab": {
          "base_uri": "https://localhost:8080/",
          "height": 35
        },
        "outputId": "9a29fc90-b51f-4671-fc1e-7b2bfce47ebd"
      },
      "source": [
        "test_labels = np.array(testset.targets)\n",
        "test_labels.shape"
      ],
      "execution_count": 14,
      "outputs": [
        {
          "output_type": "execute_result",
          "data": {
            "text/plain": [
              "(10000,)"
            ]
          },
          "metadata": {
            "tags": []
          },
          "execution_count": 14
        }
      ]
    },
    {
      "cell_type": "code",
      "metadata": {
        "colab_type": "code",
        "id": "oWEsGmB22Bue",
        "colab": {
          "base_uri": "https://localhost:8080/",
          "height": 35
        },
        "outputId": "08fc1a47-df54-4824-fec6-8b49c0dcced2"
      },
      "source": [
        "test_labels[is_fg]=1\n",
        "test_labels[list(set(all_index)-set(is_fg))]=0\n",
        "test_labels"
      ],
      "execution_count": 15,
      "outputs": [
        {
          "output_type": "execute_result",
          "data": {
            "text/plain": [
              "array([0, 0, 0, ..., 0, 1, 0])"
            ]
          },
          "metadata": {
            "tags": []
          },
          "execution_count": 15
        }
      ]
    },
    {
      "cell_type": "code",
      "metadata": {
        "colab_type": "code",
        "id": "qLcACXP42Buk",
        "colab": {
          "base_uri": "https://localhost:8080/",
          "height": 35
        },
        "outputId": "95bda6ce-f420-4186-e02e-e08312fc7924"
      },
      "source": [
        "np.count_nonzero(test_labels)"
      ],
      "execution_count": 16,
      "outputs": [
        {
          "output_type": "execute_result",
          "data": {
            "text/plain": [
              "3000"
            ]
          },
          "metadata": {
            "tags": []
          },
          "execution_count": 16
        }
      ]
    },
    {
      "cell_type": "code",
      "metadata": {
        "colab_type": "code",
        "id": "5XdsmsD12Bup",
        "colab": {}
      },
      "source": [
        "testset.targets = test_labels"
      ],
      "execution_count": 17,
      "outputs": []
    },
    {
      "cell_type": "code",
      "metadata": {
        "id": "EQOH55xR6INA",
        "colab_type": "code",
        "colab": {}
      },
      "source": [
        "trainloader = torch.utils.data.DataLoader(trainset, batch_size=256,shuffle=True)\n",
        "testloader = torch.utils.data.DataLoader(testset, batch_size=256,shuffle=False)"
      ],
      "execution_count": 18,
      "outputs": []
    },
    {
      "cell_type": "code",
      "metadata": {
        "id": "y07LTPCjhps7",
        "colab_type": "code",
        "colab": {}
      },
      "source": [
        "import torch.nn as nn\n",
        "import torch.nn.functional as F\n",
        "\n",
        "class CNN(nn.Module):\n",
        "  def __init__(self):\n",
        "    super(CNN, self).__init__()\n",
        "    self.conv1 = nn.Conv2d(in_channels=3, out_channels=5, kernel_size=4, padding=0)\n",
        "    self.pool = nn.MaxPool2d(2, 2)\n",
        "    self.conv2 = nn.Conv2d(in_channels=5, out_channels=6, kernel_size=4, padding=0)\n",
        "    # self.conv3 = nn.Conv2d(in_channels=12, out_channels=20, kernel_size=3, padding=0)\n",
        "    self.fc1 = nn.Linear(726, 256)\n",
        "    self.fc2 = nn.Linear(256, 64)\n",
        "    self.fc3 = nn.Linear(64, 10)\n",
        "    self.fc4 = nn.Linear(10,2)\n",
        "\n",
        "  def forward(self, x):\n",
        "    x = self.pool(F.relu(self.conv1(x)))\n",
        "    # x = self.pool(F.relu(self.conv2(x)))\n",
        "    # print(x.shape)\n",
        "    x = (F.relu(self.conv2(x)))\n",
        "    x =  x.view(x.size(0), -1)\n",
        "    # print(x.shape)\n",
        "    x = F.relu(self.fc1(x))\n",
        "    x = F.relu(self.fc2(x))\n",
        "    x = F.relu(self.fc3(x))\n",
        "    x = self.fc4(x)\n",
        "    return x"
      ],
      "execution_count": 63,
      "outputs": []
    },
    {
      "cell_type": "code",
      "metadata": {
        "id": "1GvXR1zV5n4w",
        "colab_type": "code",
        "colab": {}
      },
      "source": [
        "where_net = CNN()#.double()\n",
        "where_net = where_net.to(\"cuda\")"
      ],
      "execution_count": 64,
      "outputs": []
    },
    {
      "cell_type": "code",
      "metadata": {
        "id": "yZob1uGT6fTM",
        "colab_type": "code",
        "colab": {
          "base_uri": "https://localhost:8080/",
          "height": 181
        },
        "outputId": "0896da98-c025-4a93-9377-3b75b522e993"
      },
      "source": [
        "where_net"
      ],
      "execution_count": 65,
      "outputs": [
        {
          "output_type": "execute_result",
          "data": {
            "text/plain": [
              "CNN(\n",
              "  (conv1): Conv2d(3, 5, kernel_size=(4, 4), stride=(1, 1))\n",
              "  (pool): MaxPool2d(kernel_size=2, stride=2, padding=0, dilation=1, ceil_mode=False)\n",
              "  (conv2): Conv2d(5, 6, kernel_size=(4, 4), stride=(1, 1))\n",
              "  (fc1): Linear(in_features=726, out_features=256, bias=True)\n",
              "  (fc2): Linear(in_features=256, out_features=64, bias=True)\n",
              "  (fc3): Linear(in_features=64, out_features=10, bias=True)\n",
              "  (fc4): Linear(in_features=10, out_features=2, bias=True)\n",
              ")"
            ]
          },
          "metadata": {
            "tags": []
          },
          "execution_count": 65
        }
      ]
    },
    {
      "cell_type": "code",
      "metadata": {
        "id": "n5g3geNJ5zEu",
        "colab_type": "code",
        "colab": {}
      },
      "source": [
        "import torch.optim as optim\n",
        "criterion_where = nn.CrossEntropyLoss()\n",
        "optimizer_where = optim.SGD(where_net.parameters(), lr=0.01, momentum=0.9)"
      ],
      "execution_count": 66,
      "outputs": []
    },
    {
      "cell_type": "code",
      "metadata": {
        "colab_type": "code",
        "id": "tFfAJZkcZEsY",
        "colab": {
          "base_uri": "https://localhost:8080/",
          "height": 1000
        },
        "outputId": "d8d950eb-78dd-46da-9290-25becfd19456"
      },
      "source": [
        "acti = []\n",
        "loss_curi = []\n",
        "epochs = 1000\n",
        "for epoch in range(epochs): # loop over the dataset multiple times\n",
        "    ep_lossi = []\n",
        "\n",
        "    running_loss = 0.0\n",
        "    for i, data in enumerate(trainloader, 0):\n",
        "        # get the inputs\n",
        "        inputs, labels = data\n",
        "        inputs, labels = inputs.to(\"cuda\"),labels.to(\"cuda\")\n",
        "\n",
        "        # zero the parameter gradients\n",
        "        optimizer_where.zero_grad()\n",
        "\n",
        "        # forward + backward + optimize\n",
        "        outputs = where_net(inputs)\n",
        "        loss = criterion_where(outputs, labels)\n",
        "        loss.backward()\n",
        "        optimizer_where.step()\n",
        "\n",
        "        # print statistics\n",
        "        running_loss += loss.item()\n",
        "        mini_batch = 50\n",
        "        if i % mini_batch == mini_batch-1:    # print every 50 mini-batches\n",
        "            print('[%d, %5d] loss: %.3f' %(epoch + 1, i + 1, running_loss / mini_batch))\n",
        "            ep_lossi.append(running_loss/mini_batch) # loss per minibatch\n",
        "            running_loss = 0.0\n",
        "            \n",
        "    if(np.mean(ep_lossi) <= 0.005):\n",
        "      break;\n",
        "    loss_curi.append(np.mean(ep_lossi))   #loss per epoch            \n",
        "\n",
        "print('Finished Training')"
      ],
      "execution_count": 67,
      "outputs": [
        {
          "output_type": "stream",
          "text": [
            "[1,    50] loss: 0.621\n",
            "[1,   100] loss: 0.607\n",
            "[1,   150] loss: 0.614\n",
            "[2,    50] loss: 0.615\n",
            "[2,   100] loss: 0.607\n",
            "[2,   150] loss: 0.610\n",
            "[3,    50] loss: 0.609\n",
            "[3,   100] loss: 0.611\n",
            "[3,   150] loss: 0.610\n",
            "[4,    50] loss: 0.606\n",
            "[4,   100] loss: 0.617\n",
            "[4,   150] loss: 0.612\n",
            "[5,    50] loss: 0.604\n",
            "[5,   100] loss: 0.607\n",
            "[5,   150] loss: 0.605\n",
            "[6,    50] loss: 0.584\n",
            "[6,   100] loss: 0.581\n",
            "[6,   150] loss: 0.565\n",
            "[7,    50] loss: 0.541\n",
            "[7,   100] loss: 0.535\n",
            "[7,   150] loss: 0.528\n",
            "[8,    50] loss: 0.507\n",
            "[8,   100] loss: 0.501\n",
            "[8,   150] loss: 0.496\n",
            "[9,    50] loss: 0.495\n",
            "[9,   100] loss: 0.474\n",
            "[9,   150] loss: 0.477\n",
            "[10,    50] loss: 0.480\n",
            "[10,   100] loss: 0.460\n",
            "[10,   150] loss: 0.457\n",
            "[11,    50] loss: 0.449\n",
            "[11,   100] loss: 0.449\n",
            "[11,   150] loss: 0.442\n",
            "[12,    50] loss: 0.437\n",
            "[12,   100] loss: 0.435\n",
            "[12,   150] loss: 0.438\n",
            "[13,    50] loss: 0.425\n",
            "[13,   100] loss: 0.417\n",
            "[13,   150] loss: 0.437\n",
            "[14,    50] loss: 0.417\n",
            "[14,   100] loss: 0.414\n",
            "[14,   150] loss: 0.418\n",
            "[15,    50] loss: 0.402\n",
            "[15,   100] loss: 0.395\n",
            "[15,   150] loss: 0.414\n",
            "[16,    50] loss: 0.386\n",
            "[16,   100] loss: 0.405\n",
            "[16,   150] loss: 0.387\n",
            "[17,    50] loss: 0.376\n",
            "[17,   100] loss: 0.377\n",
            "[17,   150] loss: 0.372\n",
            "[18,    50] loss: 0.371\n",
            "[18,   100] loss: 0.367\n",
            "[18,   150] loss: 0.357\n",
            "[19,    50] loss: 0.366\n",
            "[19,   100] loss: 0.357\n",
            "[19,   150] loss: 0.360\n",
            "[20,    50] loss: 0.340\n",
            "[20,   100] loss: 0.344\n",
            "[20,   150] loss: 0.350\n",
            "[21,    50] loss: 0.341\n",
            "[21,   100] loss: 0.348\n",
            "[21,   150] loss: 0.344\n",
            "[22,    50] loss: 0.318\n",
            "[22,   100] loss: 0.316\n",
            "[22,   150] loss: 0.320\n",
            "[23,    50] loss: 0.309\n",
            "[23,   100] loss: 0.310\n",
            "[23,   150] loss: 0.301\n",
            "[24,    50] loss: 0.291\n",
            "[24,   100] loss: 0.287\n",
            "[24,   150] loss: 0.310\n",
            "[25,    50] loss: 0.282\n",
            "[25,   100] loss: 0.283\n",
            "[25,   150] loss: 0.279\n",
            "[26,    50] loss: 0.265\n",
            "[26,   100] loss: 0.262\n",
            "[26,   150] loss: 0.267\n",
            "[27,    50] loss: 0.234\n",
            "[27,   100] loss: 0.254\n",
            "[27,   150] loss: 0.257\n",
            "[28,    50] loss: 0.213\n",
            "[28,   100] loss: 0.231\n",
            "[28,   150] loss: 0.253\n",
            "[29,    50] loss: 0.200\n",
            "[29,   100] loss: 0.202\n",
            "[29,   150] loss: 0.225\n",
            "[30,    50] loss: 0.182\n",
            "[30,   100] loss: 0.190\n",
            "[30,   150] loss: 0.203\n",
            "[31,    50] loss: 0.173\n",
            "[31,   100] loss: 0.157\n",
            "[31,   150] loss: 0.182\n",
            "[32,    50] loss: 0.144\n",
            "[32,   100] loss: 0.151\n",
            "[32,   150] loss: 0.171\n",
            "[33,    50] loss: 0.133\n",
            "[33,   100] loss: 0.155\n",
            "[33,   150] loss: 0.143\n",
            "[34,    50] loss: 0.128\n",
            "[34,   100] loss: 0.120\n",
            "[34,   150] loss: 0.138\n",
            "[35,    50] loss: 0.101\n",
            "[35,   100] loss: 0.111\n",
            "[35,   150] loss: 0.113\n",
            "[36,    50] loss: 0.119\n",
            "[36,   100] loss: 0.105\n",
            "[36,   150] loss: 0.118\n",
            "[37,    50] loss: 0.100\n",
            "[37,   100] loss: 0.092\n",
            "[37,   150] loss: 0.098\n",
            "[38,    50] loss: 0.106\n",
            "[38,   100] loss: 0.085\n",
            "[38,   150] loss: 0.085\n",
            "[39,    50] loss: 0.055\n",
            "[39,   100] loss: 0.074\n",
            "[39,   150] loss: 0.087\n",
            "[40,    50] loss: 0.058\n",
            "[40,   100] loss: 0.067\n",
            "[40,   150] loss: 0.084\n",
            "[41,    50] loss: 0.056\n",
            "[41,   100] loss: 0.058\n",
            "[41,   150] loss: 0.067\n",
            "[42,    50] loss: 0.057\n",
            "[42,   100] loss: 0.056\n",
            "[42,   150] loss: 0.062\n",
            "[43,    50] loss: 0.060\n",
            "[43,   100] loss: 0.061\n",
            "[43,   150] loss: 0.057\n",
            "[44,    50] loss: 0.039\n",
            "[44,   100] loss: 0.036\n",
            "[44,   150] loss: 0.045\n",
            "[45,    50] loss: 0.044\n",
            "[45,   100] loss: 0.030\n",
            "[45,   150] loss: 0.040\n",
            "[46,    50] loss: 0.033\n",
            "[46,   100] loss: 0.040\n",
            "[46,   150] loss: 0.036\n",
            "[47,    50] loss: 0.046\n",
            "[47,   100] loss: 0.030\n",
            "[47,   150] loss: 0.032\n",
            "[48,    50] loss: 0.036\n",
            "[48,   100] loss: 0.028\n",
            "[48,   150] loss: 0.031\n",
            "[49,    50] loss: 0.058\n",
            "[49,   100] loss: 0.042\n",
            "[49,   150] loss: 0.043\n",
            "[50,    50] loss: 0.026\n",
            "[50,   100] loss: 0.034\n",
            "[50,   150] loss: 0.037\n",
            "[51,    50] loss: 0.046\n",
            "[51,   100] loss: 0.033\n",
            "[51,   150] loss: 0.028\n",
            "[52,    50] loss: 0.024\n",
            "[52,   100] loss: 0.015\n",
            "[52,   150] loss: 0.019\n",
            "[53,    50] loss: 0.037\n",
            "[53,   100] loss: 0.032\n",
            "[53,   150] loss: 0.032\n",
            "[54,    50] loss: 0.029\n",
            "[54,   100] loss: 0.022\n",
            "[54,   150] loss: 0.032\n",
            "[55,    50] loss: 0.028\n",
            "[55,   100] loss: 0.025\n",
            "[55,   150] loss: 0.030\n",
            "[56,    50] loss: 0.015\n",
            "[56,   100] loss: 0.014\n",
            "[56,   150] loss: 0.020\n",
            "[57,    50] loss: 0.022\n",
            "[57,   100] loss: 0.025\n",
            "[57,   150] loss: 0.031\n",
            "[58,    50] loss: 0.016\n",
            "[58,   100] loss: 0.016\n",
            "[58,   150] loss: 0.013\n",
            "[59,    50] loss: 0.020\n",
            "[59,   100] loss: 0.020\n",
            "[59,   150] loss: 0.016\n",
            "[60,    50] loss: 0.023\n",
            "[60,   100] loss: 0.026\n",
            "[60,   150] loss: 0.017\n",
            "[61,    50] loss: 0.015\n",
            "[61,   100] loss: 0.015\n",
            "[61,   150] loss: 0.018\n",
            "[62,    50] loss: 0.017\n",
            "[62,   100] loss: 0.010\n",
            "[62,   150] loss: 0.016\n",
            "[63,    50] loss: 0.010\n",
            "[63,   100] loss: 0.010\n",
            "[63,   150] loss: 0.013\n",
            "[64,    50] loss: 0.007\n",
            "[64,   100] loss: 0.006\n",
            "[64,   150] loss: 0.009\n",
            "[65,    50] loss: 0.005\n",
            "[65,   100] loss: 0.024\n",
            "[65,   150] loss: 0.030\n",
            "[66,    50] loss: 0.020\n",
            "[66,   100] loss: 0.021\n",
            "[66,   150] loss: 0.027\n",
            "[67,    50] loss: 0.025\n",
            "[67,   100] loss: 0.018\n",
            "[67,   150] loss: 0.020\n",
            "[68,    50] loss: 0.009\n",
            "[68,   100] loss: 0.006\n",
            "[68,   150] loss: 0.006\n",
            "[69,    50] loss: 0.013\n",
            "[69,   100] loss: 0.011\n",
            "[69,   150] loss: 0.022\n",
            "[70,    50] loss: 0.013\n",
            "[70,   100] loss: 0.017\n",
            "[70,   150] loss: 0.023\n",
            "[71,    50] loss: 0.011\n",
            "[71,   100] loss: 0.009\n",
            "[71,   150] loss: 0.005\n",
            "[72,    50] loss: 0.002\n",
            "[72,   100] loss: 0.002\n",
            "[72,   150] loss: 0.003\n",
            "Finished Training\n"
          ],
          "name": "stdout"
        }
      ]
    },
    {
      "cell_type": "code",
      "metadata": {
        "id": "WIAJ3UZN8rPE",
        "colab_type": "code",
        "colab": {}
      },
      "source": [
        "torch.save(where_net.state_dict(),\"/content/drive/My Drive/Research/Cheating_data/Focus_net_weights/focus_net_2layer_cnn_5_6.pt\")"
      ],
      "execution_count": 68,
      "outputs": []
    },
    {
      "cell_type": "code",
      "metadata": {
        "id": "an7qmNLB-Ilb",
        "colab_type": "code",
        "colab": {
          "base_uri": "https://localhost:8080/",
          "height": 53
        },
        "outputId": "ac8244e5-6ab7-45a4-ab74-06340ec0eb48"
      },
      "source": [
        "correct = 0\n",
        "total = 0\n",
        "with torch.no_grad():\n",
        "    for data in trainloader:\n",
        "        images, labels = data\n",
        "        images, labels = images.to(\"cuda\"), labels.to(\"cuda\")\n",
        "        outputs = where_net(images)\n",
        "        _, predicted = torch.max(outputs.data, 1)\n",
        "        total += labels.size(0)\n",
        "        correct += (predicted == labels).sum().item()\n",
        "\n",
        "print('Accuracy of the network on the %d train images: %d %%' % (total,  100 * correct / total))\n",
        "print(total,correct)"
      ],
      "execution_count": 69,
      "outputs": [
        {
          "output_type": "stream",
          "text": [
            "Accuracy of the network on the 50000 train images: 99 %\n",
            "50000 49942\n"
          ],
          "name": "stdout"
        }
      ]
    },
    {
      "cell_type": "code",
      "metadata": {
        "id": "3WqTm-aW-TGU",
        "colab_type": "code",
        "colab": {
          "base_uri": "https://localhost:8080/",
          "height": 53
        },
        "outputId": "fa1d5ff3-e3c6-4277-f32f-764db94d3cba"
      },
      "source": [
        "correct = 0\n",
        "total = 0\n",
        "out = []\n",
        "pred = []\n",
        "with torch.no_grad():\n",
        "    for data in testloader:\n",
        "        images, labels = data\n",
        "        images, labels = images.to(\"cuda\"),labels.to(\"cuda\")\n",
        "        out.append(labels.cpu().numpy())\n",
        "        outputs= where_net(images)\n",
        "        _, predicted = torch.max(outputs.data, 1)\n",
        "        pred.append(predicted.cpu().numpy())\n",
        "        total += labels.size(0)\n",
        "        correct += (predicted == labels).sum().item()\n",
        "\n",
        "print('Accuracy of the network on the 10000 test images: %d %%' % ( 100 * correct / total))\n",
        "print(total,correct)"
      ],
      "execution_count": 70,
      "outputs": [
        {
          "output_type": "stream",
          "text": [
            "Accuracy of the network on the 10000 test images: 80 %\n",
            "10000 8090\n"
          ],
          "name": "stdout"
        }
      ]
    },
    {
      "cell_type": "code",
      "metadata": {
        "id": "oQ1yPyXRBNT4",
        "colab_type": "code",
        "colab": {}
      },
      "source": [
        ""
      ],
      "execution_count": null,
      "outputs": []
    }
  ]
}