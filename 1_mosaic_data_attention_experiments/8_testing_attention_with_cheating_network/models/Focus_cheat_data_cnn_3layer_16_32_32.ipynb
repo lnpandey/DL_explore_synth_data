{
  "nbformat": 4,
  "nbformat_minor": 0,
  "metadata": {
    "accelerator": "GPU",
    "colab": {
      "name": "Focus_cheat_data_cnn_3layer.ipynb",
      "provenance": [],
      "collapsed_sections": [],
      "machine_shape": "hm"
    },
    "kernelspec": {
      "display_name": "Python 3",
      "language": "python",
      "name": "python3"
    },
    "language_info": {
      "codemirror_mode": {
        "name": "ipython",
        "version": 3
      },
      "file_extension": ".py",
      "mimetype": "text/x-python",
      "name": "python",
      "nbconvert_exporter": "python",
      "pygments_lexer": "ipython3",
      "version": "3.6.5"
    }
  },
  "cells": [
    {
      "cell_type": "code",
      "metadata": {
        "colab_type": "code",
        "id": "JSjG64ra4aFu",
        "colab": {
          "base_uri": "https://localhost:8080/",
          "height": 35
        },
        "outputId": "24042eba-e097-48bf-8f01-eae787feb7ff"
      },
      "source": [
        "from google.colab import drive\n",
        "drive.mount('/content/drive')"
      ],
      "execution_count": 1,
      "outputs": [
        {
          "output_type": "stream",
          "text": [
            "Drive already mounted at /content/drive; to attempt to forcibly remount, call drive.mount(\"/content/drive\", force_remount=True).\n"
          ],
          "name": "stdout"
        }
      ]
    },
    {
      "cell_type": "code",
      "metadata": {
        "colab_type": "code",
        "id": "V8-7SARDZErK",
        "colab": {}
      },
      "source": [
        "import torch.nn as nn\n",
        "import torch.nn.functional as F\n",
        "\n",
        "import pandas as pd\n",
        "import numpy as np\n",
        "import matplotlib.pyplot as plt\n",
        "\n",
        "import torch\n",
        "import torchvision\n",
        "import torchvision.transforms as transforms\n",
        "from torch.utils.data import Dataset, DataLoader\n",
        "from torchvision import transforms, utils\n",
        "\n",
        "from matplotlib import pyplot as plt\n",
        "\n",
        "import copy\n",
        "\n",
        "# Ignore warnings\n",
        "import warnings\n",
        "warnings.filterwarnings(\"ignore\")\n"
      ],
      "execution_count": 2,
      "outputs": []
    },
    {
      "cell_type": "code",
      "metadata": {
        "colab_type": "code",
        "id": "acRFqJNrZErV",
        "colab": {
          "base_uri": "https://localhost:8080/",
          "height": 53
        },
        "outputId": "f919a2d7-4ed1-4123-8ad5-6fd1745da343"
      },
      "source": [
        "transform = transforms.Compose(\n",
        "    [transforms.ToTensor(),\n",
        "     transforms.Normalize((0.5, 0.5, 0.5), (0.5, 0.5, 0.5))])\n",
        "\n",
        "trainset = torchvision.datasets.CIFAR10(root='./data', train=True, download=True, transform=transform)\n",
        "\n",
        "\n",
        "testset = torchvision.datasets.CIFAR10(root='./data', train=False, download=True, transform=transform)\n"
      ],
      "execution_count": 3,
      "outputs": [
        {
          "output_type": "stream",
          "text": [
            "Files already downloaded and verified\n",
            "Files already downloaded and verified\n"
          ],
          "name": "stdout"
        }
      ]
    },
    {
      "cell_type": "code",
      "metadata": {
        "id": "Ip_hgswQOHeX",
        "colab_type": "code",
        "colab": {
          "base_uri": "https://localhost:8080/",
          "height": 35
        },
        "outputId": "e0b78520-dd46-4ca2-8e83-d2158b9aa74b"
      },
      "source": [
        "type(trainset.targets)\n",
        "type(trainset.data)"
      ],
      "execution_count": 4,
      "outputs": [
        {
          "output_type": "execute_result",
          "data": {
            "text/plain": [
              "numpy.ndarray"
            ]
          },
          "metadata": {
            "tags": []
          },
          "execution_count": 4
        }
      ]
    },
    {
      "cell_type": "code",
      "metadata": {
        "id": "gh5DXuAV1tp5",
        "colab_type": "code",
        "colab": {}
      },
      "source": [
        "# trainloader = torch.utils.data.DataLoader(trainset, batch_size=10, shuffle=True)\n",
        "# testloader = torch.utils.data.DataLoader(testset, batch_size=10, shuffle=False)\n",
        "\n",
        "\n",
        "classes = ('plane', 'car', 'bird', 'cat', 'deer', 'dog', 'frog', 'horse', 'ship', 'truck')\n",
        "\n",
        "foreground_classes = {'plane', 'car', 'bird'}\n",
        "\n",
        "background_classes = {'cat', 'deer', 'dog', 'frog', 'horse','ship', 'truck'}\n",
        "\n",
        "fg1,fg2,fg3 = 0,1,2"
      ],
      "execution_count": 5,
      "outputs": []
    },
    {
      "cell_type": "code",
      "metadata": {
        "colab_type": "code",
        "id": "V_JUhwCeZErk",
        "colab": {
          "base_uri": "https://localhost:8080/",
          "height": 35
        },
        "outputId": "f6fbd330-0734-407d-ce8e-b854e3c3e55c"
      },
      "source": [
        "is_fg = [np.where(np.array(trainset.targets)==fg1)[0] , np.where(np.array(trainset.targets)==fg2)[0], np.where(np.array(trainset.targets)==fg3)[0]  ]\n",
        "# print(is_fg)\n",
        "is_fg = np.concatenate(is_fg,axis=0)\n",
        "print(is_fg, (is_fg).shape)"
      ],
      "execution_count": 6,
      "outputs": [
        {
          "output_type": "stream",
          "text": [
            "[   29    30    35 ... 49987 49991 49995] (15000,)\n"
          ],
          "name": "stdout"
        }
      ]
    },
    {
      "cell_type": "code",
      "metadata": {
        "id": "uW9MkktGysAp",
        "colab_type": "code",
        "colab": {
          "base_uri": "https://localhost:8080/",
          "height": 35
        },
        "outputId": "130dbc4b-1402-438a-8b37-f1b425f404cd"
      },
      "source": [
        "all_index = np.arange(0,50000)\n",
        "all_index"
      ],
      "execution_count": 7,
      "outputs": [
        {
          "output_type": "execute_result",
          "data": {
            "text/plain": [
              "array([    0,     1,     2, ..., 49997, 49998, 49999])"
            ]
          },
          "metadata": {
            "tags": []
          },
          "execution_count": 7
        }
      ]
    },
    {
      "cell_type": "code",
      "metadata": {
        "id": "lWxkp87fNwnM",
        "colab_type": "code",
        "colab": {
          "base_uri": "https://localhost:8080/",
          "height": 35
        },
        "outputId": "f3354b2a-0391-4b33-b186-678f947b5c40"
      },
      "source": [
        "train_labels = np.array(trainset.targets)\n",
        "train_labels.shape"
      ],
      "execution_count": 8,
      "outputs": [
        {
          "output_type": "execute_result",
          "data": {
            "text/plain": [
              "(50000,)"
            ]
          },
          "metadata": {
            "tags": []
          },
          "execution_count": 8
        }
      ]
    },
    {
      "cell_type": "code",
      "metadata": {
        "id": "AJuGak6_zXgx",
        "colab_type": "code",
        "colab": {
          "base_uri": "https://localhost:8080/",
          "height": 35
        },
        "outputId": "8987d450-03fb-46e4-afee-d7b7c27b434d"
      },
      "source": [
        "train_labels[is_fg]=1\n",
        "train_labels[list(set(all_index)-set(is_fg))]=0\n",
        "train_labels"
      ],
      "execution_count": 9,
      "outputs": [
        {
          "output_type": "execute_result",
          "data": {
            "text/plain": [
              "array([0, 0, 0, ..., 0, 1, 1])"
            ]
          },
          "metadata": {
            "tags": []
          },
          "execution_count": 9
        }
      ]
    },
    {
      "cell_type": "code",
      "metadata": {
        "id": "IPvRxLk4zmXB",
        "colab_type": "code",
        "colab": {
          "base_uri": "https://localhost:8080/",
          "height": 35
        },
        "outputId": "3ae4c850-bdf3-4544-9614-ca527f755373"
      },
      "source": [
        "np.count_nonzero(train_labels)"
      ],
      "execution_count": 10,
      "outputs": [
        {
          "output_type": "execute_result",
          "data": {
            "text/plain": [
              "15000"
            ]
          },
          "metadata": {
            "tags": []
          },
          "execution_count": 10
        }
      ]
    },
    {
      "cell_type": "code",
      "metadata": {
        "id": "II4R1Q2szwg9",
        "colab_type": "code",
        "colab": {}
      },
      "source": [
        "trainset.targets = train_labels"
      ],
      "execution_count": 11,
      "outputs": []
    },
    {
      "cell_type": "code",
      "metadata": {
        "colab_type": "code",
        "id": "ywcNP5ur2Btv",
        "colab": {
          "base_uri": "https://localhost:8080/",
          "height": 35
        },
        "outputId": "441ec7fb-c6e6-420a-e232-81ea41d2440f"
      },
      "source": [
        "is_fg = [np.where(np.array(testset.targets)==fg1)[0] , np.where(np.array(testset.targets)==fg2)[0], np.where(np.array(testset.targets)==fg3)[0]  ]\n",
        "# print(is_fg)\n",
        "is_fg = np.concatenate(is_fg,axis=0)\n",
        "print(is_fg, (is_fg).shape)"
      ],
      "execution_count": 12,
      "outputs": [
        {
          "output_type": "stream",
          "text": [
            "[   3   10   21 ... 9970 9982 9989] (3000,)\n"
          ],
          "name": "stdout"
        }
      ]
    },
    {
      "cell_type": "code",
      "metadata": {
        "colab_type": "code",
        "id": "9jv5cZS_2BuK",
        "colab": {
          "base_uri": "https://localhost:8080/",
          "height": 35
        },
        "outputId": "eea35d65-5d1f-4b89-bfc8-fda2c1e6890b"
      },
      "source": [
        "all_index = np.arange(0,10000)\n",
        "all_index"
      ],
      "execution_count": 13,
      "outputs": [
        {
          "output_type": "execute_result",
          "data": {
            "text/plain": [
              "array([   0,    1,    2, ..., 9997, 9998, 9999])"
            ]
          },
          "metadata": {
            "tags": []
          },
          "execution_count": 13
        }
      ]
    },
    {
      "cell_type": "code",
      "metadata": {
        "colab_type": "code",
        "id": "Cea4-tjj2BuV",
        "colab": {
          "base_uri": "https://localhost:8080/",
          "height": 35
        },
        "outputId": "c4ebbde2-d88e-4fb4-a61e-fc9b38214445"
      },
      "source": [
        "test_labels = np.array(testset.targets)\n",
        "test_labels.shape"
      ],
      "execution_count": 14,
      "outputs": [
        {
          "output_type": "execute_result",
          "data": {
            "text/plain": [
              "(10000,)"
            ]
          },
          "metadata": {
            "tags": []
          },
          "execution_count": 14
        }
      ]
    },
    {
      "cell_type": "code",
      "metadata": {
        "colab_type": "code",
        "id": "oWEsGmB22Bue",
        "colab": {
          "base_uri": "https://localhost:8080/",
          "height": 35
        },
        "outputId": "dafa5b6e-a2fd-4d18-e792-3c1a5e018d0e"
      },
      "source": [
        "test_labels[is_fg]=1\n",
        "test_labels[list(set(all_index)-set(is_fg))]=0\n",
        "test_labels"
      ],
      "execution_count": 15,
      "outputs": [
        {
          "output_type": "execute_result",
          "data": {
            "text/plain": [
              "array([0, 0, 0, ..., 0, 1, 0])"
            ]
          },
          "metadata": {
            "tags": []
          },
          "execution_count": 15
        }
      ]
    },
    {
      "cell_type": "code",
      "metadata": {
        "colab_type": "code",
        "id": "qLcACXP42Buk",
        "colab": {
          "base_uri": "https://localhost:8080/",
          "height": 35
        },
        "outputId": "fd7a3e01-c49c-4864-bc88-869f2484657f"
      },
      "source": [
        "np.count_nonzero(test_labels)"
      ],
      "execution_count": 16,
      "outputs": [
        {
          "output_type": "execute_result",
          "data": {
            "text/plain": [
              "3000"
            ]
          },
          "metadata": {
            "tags": []
          },
          "execution_count": 16
        }
      ]
    },
    {
      "cell_type": "code",
      "metadata": {
        "colab_type": "code",
        "id": "5XdsmsD12Bup",
        "colab": {}
      },
      "source": [
        "testset.targets = test_labels"
      ],
      "execution_count": 17,
      "outputs": []
    },
    {
      "cell_type": "code",
      "metadata": {
        "id": "EQOH55xR6INA",
        "colab_type": "code",
        "colab": {}
      },
      "source": [
        "trainloader = torch.utils.data.DataLoader(trainset, batch_size=256,shuffle=True)\n",
        "testloader = torch.utils.data.DataLoader(testset, batch_size=256,shuffle=False)"
      ],
      "execution_count": 18,
      "outputs": []
    },
    {
      "cell_type": "code",
      "metadata": {
        "id": "y07LTPCjhps7",
        "colab_type": "code",
        "colab": {}
      },
      "source": [
        "import torch.nn as nn\n",
        "import torch.nn.functional as F\n",
        "\n",
        "class CNN(nn.Module):\n",
        "  def __init__(self):\n",
        "    super(CNN, self).__init__()\n",
        "    self.conv1 = nn.Conv2d(in_channels=3, out_channels=16, kernel_size=3, padding=0)\n",
        "    self.pool = nn.MaxPool2d(2, 2)\n",
        "    self.conv2 = nn.Conv2d(in_channels=16, out_channels=32, kernel_size=3, padding=0)\n",
        "    self.conv3 = nn.Conv2d(in_channels=32, out_channels=32, kernel_size=3, padding=0)\n",
        "    self.fc1 = nn.Linear(512, 256)\n",
        "    self.fc2 = nn.Linear(256, 64)\n",
        "    self.fc3 = nn.Linear(64, 10)\n",
        "    self.fc4 = nn.Linear(10,2)\n",
        "\n",
        "  def forward(self, x):\n",
        "    x = self.pool(F.relu(self.conv1(x)))\n",
        "    x = self.pool(F.relu(self.conv2(x)))\n",
        "    # print(x.shape)\n",
        "    x = (F.relu(self.conv3(x)))\n",
        "    x =  x.view(x.size(0), -1)\n",
        "    # print(x.shape)\n",
        "    x = F.relu(self.fc1(x))\n",
        "    x = F.relu(self.fc2(x))\n",
        "    x = F.relu(self.fc3(x))\n",
        "    x = self.fc4(x)\n",
        "    return x"
      ],
      "execution_count": 19,
      "outputs": []
    },
    {
      "cell_type": "code",
      "metadata": {
        "id": "1GvXR1zV5n4w",
        "colab_type": "code",
        "colab": {}
      },
      "source": [
        "where_net = CNN()#.double()\n",
        "where_net = where_net.to(\"cuda\")"
      ],
      "execution_count": 20,
      "outputs": []
    },
    {
      "cell_type": "code",
      "metadata": {
        "id": "yZob1uGT6fTM",
        "colab_type": "code",
        "colab": {
          "base_uri": "https://localhost:8080/",
          "height": 199
        },
        "outputId": "6e607c66-a57d-477c-a8be-ea122872c149"
      },
      "source": [
        "where_net"
      ],
      "execution_count": 21,
      "outputs": [
        {
          "output_type": "execute_result",
          "data": {
            "text/plain": [
              "CNN(\n",
              "  (conv1): Conv2d(3, 16, kernel_size=(3, 3), stride=(1, 1))\n",
              "  (pool): MaxPool2d(kernel_size=2, stride=2, padding=0, dilation=1, ceil_mode=False)\n",
              "  (conv2): Conv2d(16, 32, kernel_size=(3, 3), stride=(1, 1))\n",
              "  (conv3): Conv2d(32, 32, kernel_size=(3, 3), stride=(1, 1))\n",
              "  (fc1): Linear(in_features=512, out_features=256, bias=True)\n",
              "  (fc2): Linear(in_features=256, out_features=64, bias=True)\n",
              "  (fc3): Linear(in_features=64, out_features=10, bias=True)\n",
              "  (fc4): Linear(in_features=10, out_features=2, bias=True)\n",
              ")"
            ]
          },
          "metadata": {
            "tags": []
          },
          "execution_count": 21
        }
      ]
    },
    {
      "cell_type": "code",
      "metadata": {
        "id": "n5g3geNJ5zEu",
        "colab_type": "code",
        "colab": {}
      },
      "source": [
        "import torch.optim as optim\n",
        "criterion_where = nn.CrossEntropyLoss()\n",
        "optimizer_where = optim.SGD(where_net.parameters(), lr=0.01, momentum=0.9)"
      ],
      "execution_count": 22,
      "outputs": []
    },
    {
      "cell_type": "code",
      "metadata": {
        "colab_type": "code",
        "id": "tFfAJZkcZEsY",
        "colab": {
          "base_uri": "https://localhost:8080/",
          "height": 1000
        },
        "outputId": "2e578389-3604-43f5-9af6-b3f41f1d4f9a"
      },
      "source": [
        "acti = []\n",
        "loss_curi = []\n",
        "epochs = 1000\n",
        "for epoch in range(epochs): # loop over the dataset multiple times\n",
        "    ep_lossi = []\n",
        "\n",
        "    running_loss = 0.0\n",
        "    for i, data in enumerate(trainloader, 0):\n",
        "        # get the inputs\n",
        "        inputs, labels = data\n",
        "        inputs, labels = inputs.to(\"cuda\"),labels.to(\"cuda\")\n",
        "\n",
        "        # zero the parameter gradients\n",
        "        optimizer_where.zero_grad()\n",
        "\n",
        "        # forward + backward + optimize\n",
        "        outputs = where_net(inputs)\n",
        "        loss = criterion_where(outputs, labels)\n",
        "        loss.backward()\n",
        "        optimizer_where.step()\n",
        "\n",
        "        # print statistics\n",
        "        running_loss += loss.item()\n",
        "        mini_batch = 50\n",
        "        if i % mini_batch == mini_batch-1:    # print every 50 mini-batches\n",
        "            print('[%d, %5d] loss: %.3f' %(epoch + 1, i + 1, running_loss / mini_batch))\n",
        "            ep_lossi.append(running_loss/mini_batch) # loss per minibatch\n",
        "            running_loss = 0.0\n",
        "            \n",
        "    if(np.mean(ep_lossi) <= 0.005):\n",
        "      break;\n",
        "    loss_curi.append(np.mean(ep_lossi))   #loss per epoch            \n",
        "\n",
        "print('Finished Training')"
      ],
      "execution_count": 23,
      "outputs": [
        {
          "output_type": "stream",
          "text": [
            "[1,    50] loss: 0.633\n",
            "[1,   100] loss: 0.605\n",
            "[1,   150] loss: 0.617\n",
            "[2,    50] loss: 0.609\n",
            "[2,   100] loss: 0.613\n",
            "[2,   150] loss: 0.611\n",
            "[3,    50] loss: 0.614\n",
            "[3,   100] loss: 0.609\n",
            "[3,   150] loss: 0.612\n",
            "[4,    50] loss: 0.614\n",
            "[4,   100] loss: 0.609\n",
            "[4,   150] loss: 0.611\n",
            "[5,    50] loss: 0.610\n",
            "[5,   100] loss: 0.612\n",
            "[5,   150] loss: 0.609\n",
            "[6,    50] loss: 0.609\n",
            "[6,   100] loss: 0.609\n",
            "[6,   150] loss: 0.610\n",
            "[7,    50] loss: 0.604\n",
            "[7,   100] loss: 0.602\n",
            "[7,   150] loss: 0.601\n",
            "[8,    50] loss: 0.575\n",
            "[8,   100] loss: 0.560\n",
            "[8,   150] loss: 0.546\n",
            "[9,    50] loss: 0.531\n",
            "[9,   100] loss: 0.515\n",
            "[9,   150] loss: 0.512\n",
            "[10,    50] loss: 0.513\n",
            "[10,   100] loss: 0.491\n",
            "[10,   150] loss: 0.492\n",
            "[11,    50] loss: 0.471\n",
            "[11,   100] loss: 0.472\n",
            "[11,   150] loss: 0.466\n",
            "[12,    50] loss: 0.463\n",
            "[12,   100] loss: 0.454\n",
            "[12,   150] loss: 0.432\n",
            "[13,    50] loss: 0.439\n",
            "[13,   100] loss: 0.428\n",
            "[13,   150] loss: 0.430\n",
            "[14,    50] loss: 0.421\n",
            "[14,   100] loss: 0.416\n",
            "[14,   150] loss: 0.420\n",
            "[15,    50] loss: 0.403\n",
            "[15,   100] loss: 0.409\n",
            "[15,   150] loss: 0.395\n",
            "[16,    50] loss: 0.384\n",
            "[16,   100] loss: 0.393\n",
            "[16,   150] loss: 0.391\n",
            "[17,    50] loss: 0.376\n",
            "[17,   100] loss: 0.362\n",
            "[17,   150] loss: 0.370\n",
            "[18,    50] loss: 0.352\n",
            "[18,   100] loss: 0.370\n",
            "[18,   150] loss: 0.375\n",
            "[19,    50] loss: 0.351\n",
            "[19,   100] loss: 0.342\n",
            "[19,   150] loss: 0.336\n",
            "[20,    50] loss: 0.329\n",
            "[20,   100] loss: 0.337\n",
            "[20,   150] loss: 0.336\n",
            "[21,    50] loss: 0.313\n",
            "[21,   100] loss: 0.324\n",
            "[21,   150] loss: 0.313\n",
            "[22,    50] loss: 0.311\n",
            "[22,   100] loss: 0.323\n",
            "[22,   150] loss: 0.299\n",
            "[23,    50] loss: 0.304\n",
            "[23,   100] loss: 0.291\n",
            "[23,   150] loss: 0.301\n",
            "[24,    50] loss: 0.290\n",
            "[24,   100] loss: 0.276\n",
            "[24,   150] loss: 0.292\n",
            "[25,    50] loss: 0.270\n",
            "[25,   100] loss: 0.270\n",
            "[25,   150] loss: 0.284\n",
            "[26,    50] loss: 0.263\n",
            "[26,   100] loss: 0.259\n",
            "[26,   150] loss: 0.278\n",
            "[27,    50] loss: 0.239\n",
            "[27,   100] loss: 0.250\n",
            "[27,   150] loss: 0.253\n",
            "[28,    50] loss: 0.239\n",
            "[28,   100] loss: 0.233\n",
            "[28,   150] loss: 0.242\n",
            "[29,    50] loss: 0.226\n",
            "[29,   100] loss: 0.231\n",
            "[29,   150] loss: 0.234\n",
            "[30,    50] loss: 0.210\n",
            "[30,   100] loss: 0.219\n",
            "[30,   150] loss: 0.220\n",
            "[31,    50] loss: 0.207\n",
            "[31,   100] loss: 0.211\n",
            "[31,   150] loss: 0.216\n",
            "[32,    50] loss: 0.179\n",
            "[32,   100] loss: 0.197\n",
            "[32,   150] loss: 0.195\n",
            "[33,    50] loss: 0.179\n",
            "[33,   100] loss: 0.172\n",
            "[33,   150] loss: 0.177\n",
            "[34,    50] loss: 0.170\n",
            "[34,   100] loss: 0.161\n",
            "[34,   150] loss: 0.161\n",
            "[35,    50] loss: 0.165\n",
            "[35,   100] loss: 0.168\n",
            "[35,   150] loss: 0.159\n",
            "[36,    50] loss: 0.126\n",
            "[36,   100] loss: 0.146\n",
            "[36,   150] loss: 0.138\n",
            "[37,    50] loss: 0.120\n",
            "[37,   100] loss: 0.112\n",
            "[37,   150] loss: 0.166\n",
            "[38,    50] loss: 0.098\n",
            "[38,   100] loss: 0.101\n",
            "[38,   150] loss: 0.128\n",
            "[39,    50] loss: 0.096\n",
            "[39,   100] loss: 0.104\n",
            "[39,   150] loss: 0.117\n",
            "[40,    50] loss: 0.079\n",
            "[40,   100] loss: 0.096\n",
            "[40,   150] loss: 0.095\n",
            "[41,    50] loss: 0.085\n",
            "[41,   100] loss: 0.090\n",
            "[41,   150] loss: 0.080\n",
            "[42,    50] loss: 0.070\n",
            "[42,   100] loss: 0.080\n",
            "[42,   150] loss: 0.083\n",
            "[43,    50] loss: 0.063\n",
            "[43,   100] loss: 0.059\n",
            "[43,   150] loss: 0.066\n",
            "[44,    50] loss: 0.085\n",
            "[44,   100] loss: 0.072\n",
            "[44,   150] loss: 0.064\n",
            "[45,    50] loss: 0.055\n",
            "[45,   100] loss: 0.048\n",
            "[45,   150] loss: 0.052\n",
            "[46,    50] loss: 0.072\n",
            "[46,   100] loss: 0.050\n",
            "[46,   150] loss: 0.059\n",
            "[47,    50] loss: 0.048\n",
            "[47,   100] loss: 0.049\n",
            "[47,   150] loss: 0.049\n",
            "[48,    50] loss: 0.026\n",
            "[48,   100] loss: 0.035\n",
            "[48,   150] loss: 0.040\n",
            "[49,    50] loss: 0.045\n",
            "[49,   100] loss: 0.052\n",
            "[49,   150] loss: 0.051\n",
            "[50,    50] loss: 0.031\n",
            "[50,   100] loss: 0.032\n",
            "[50,   150] loss: 0.049\n",
            "[51,    50] loss: 0.053\n",
            "[51,   100] loss: 0.052\n",
            "[51,   150] loss: 0.056\n",
            "[52,    50] loss: 0.027\n",
            "[52,   100] loss: 0.026\n",
            "[52,   150] loss: 0.030\n",
            "[53,    50] loss: 0.028\n",
            "[53,   100] loss: 0.027\n",
            "[53,   150] loss: 0.031\n",
            "[54,    50] loss: 0.028\n",
            "[54,   100] loss: 0.033\n",
            "[54,   150] loss: 0.030\n",
            "[55,    50] loss: 0.023\n",
            "[55,   100] loss: 0.018\n",
            "[55,   150] loss: 0.020\n",
            "[56,    50] loss: 0.045\n",
            "[56,   100] loss: 0.047\n",
            "[56,   150] loss: 0.041\n",
            "[57,    50] loss: 0.022\n",
            "[57,   100] loss: 0.023\n",
            "[57,   150] loss: 0.023\n",
            "[58,    50] loss: 0.017\n",
            "[58,   100] loss: 0.019\n",
            "[58,   150] loss: 0.027\n",
            "[59,    50] loss: 0.032\n",
            "[59,   100] loss: 0.033\n",
            "[59,   150] loss: 0.027\n",
            "[60,    50] loss: 0.017\n",
            "[60,   100] loss: 0.014\n",
            "[60,   150] loss: 0.014\n",
            "[61,    50] loss: 0.026\n",
            "[61,   100] loss: 0.015\n",
            "[61,   150] loss: 0.032\n",
            "[62,    50] loss: 0.018\n",
            "[62,   100] loss: 0.014\n",
            "[62,   150] loss: 0.013\n",
            "[63,    50] loss: 0.008\n",
            "[63,   100] loss: 0.006\n",
            "[63,   150] loss: 0.006\n",
            "[64,    50] loss: 0.016\n",
            "[64,   100] loss: 0.017\n",
            "[64,   150] loss: 0.031\n",
            "[65,    50] loss: 0.015\n",
            "[65,   100] loss: 0.026\n",
            "[65,   150] loss: 0.023\n",
            "[66,    50] loss: 0.015\n",
            "[66,   100] loss: 0.014\n",
            "[66,   150] loss: 0.016\n",
            "[67,    50] loss: 0.010\n",
            "[67,   100] loss: 0.007\n",
            "[67,   150] loss: 0.008\n",
            "[68,    50] loss: 0.007\n",
            "[68,   100] loss: 0.007\n",
            "[68,   150] loss: 0.004\n",
            "[69,    50] loss: 0.020\n",
            "[69,   100] loss: 0.018\n",
            "[69,   150] loss: 0.028\n",
            "[70,    50] loss: 0.016\n",
            "[70,   100] loss: 0.012\n",
            "[70,   150] loss: 0.009\n",
            "[71,    50] loss: 0.006\n",
            "[71,   100] loss: 0.005\n",
            "[71,   150] loss: 0.005\n",
            "[72,    50] loss: 0.033\n",
            "[72,   100] loss: 0.030\n",
            "[72,   150] loss: 0.019\n",
            "[73,    50] loss: 0.011\n",
            "[73,   100] loss: 0.005\n",
            "[73,   150] loss: 0.010\n",
            "[74,    50] loss: 0.012\n",
            "[74,   100] loss: 0.009\n",
            "[74,   150] loss: 0.009\n",
            "[75,    50] loss: 0.014\n",
            "[75,   100] loss: 0.011\n",
            "[75,   150] loss: 0.015\n",
            "[76,    50] loss: 0.012\n",
            "[76,   100] loss: 0.009\n",
            "[76,   150] loss: 0.012\n",
            "[77,    50] loss: 0.018\n",
            "[77,   100] loss: 0.017\n",
            "[77,   150] loss: 0.023\n",
            "[78,    50] loss: 0.017\n",
            "[78,   100] loss: 0.013\n",
            "[78,   150] loss: 0.009\n",
            "[79,    50] loss: 0.017\n",
            "[79,   100] loss: 0.016\n",
            "[79,   150] loss: 0.009\n",
            "[80,    50] loss: 0.004\n",
            "[80,   100] loss: 0.003\n",
            "[80,   150] loss: 0.005\n",
            "Finished Training\n"
          ],
          "name": "stdout"
        }
      ]
    },
    {
      "cell_type": "code",
      "metadata": {
        "id": "WIAJ3UZN8rPE",
        "colab_type": "code",
        "colab": {}
      },
      "source": [
        "torch.save(where_net.state_dict(),\"/content/drive/My Drive/Research/Cheating_data/Focus_net_weights/focus_net_3layer_cnn__16_32_32.pt\")"
      ],
      "execution_count": 27,
      "outputs": []
    },
    {
      "cell_type": "code",
      "metadata": {
        "id": "an7qmNLB-Ilb",
        "colab_type": "code",
        "colab": {
          "base_uri": "https://localhost:8080/",
          "height": 53
        },
        "outputId": "3f267e0d-ab7f-4d6d-c5e1-769f0f00a072"
      },
      "source": [
        "correct = 0\n",
        "total = 0\n",
        "with torch.no_grad():\n",
        "    for data in trainloader:\n",
        "        images, labels = data\n",
        "        images, labels = images.to(\"cuda\"), labels.to(\"cuda\")\n",
        "        outputs = where_net(images)\n",
        "        _, predicted = torch.max(outputs.data, 1)\n",
        "        total += labels.size(0)\n",
        "        correct += (predicted == labels).sum().item()\n",
        "\n",
        "print('Accuracy of the network on the %d train images: %d %%' % (total,  100 * correct / total))\n",
        "print(total,correct)"
      ],
      "execution_count": 25,
      "outputs": [
        {
          "output_type": "stream",
          "text": [
            "Accuracy of the network on the 50000 train images: 99 %\n",
            "50000 49974\n"
          ],
          "name": "stdout"
        }
      ]
    },
    {
      "cell_type": "code",
      "metadata": {
        "id": "3WqTm-aW-TGU",
        "colab_type": "code",
        "colab": {
          "base_uri": "https://localhost:8080/",
          "height": 53
        },
        "outputId": "04200224-8149-4545-bb50-95f5030c5b8a"
      },
      "source": [
        "correct = 0\n",
        "total = 0\n",
        "out = []\n",
        "pred = []\n",
        "with torch.no_grad():\n",
        "    for data in testloader:\n",
        "        images, labels = data\n",
        "        images, labels = images.to(\"cuda\"),labels.to(\"cuda\")\n",
        "        out.append(labels.cpu().numpy())\n",
        "        outputs= where_net(images)\n",
        "        _, predicted = torch.max(outputs.data, 1)\n",
        "        pred.append(predicted.cpu().numpy())\n",
        "        total += labels.size(0)\n",
        "        correct += (predicted == labels).sum().item()\n",
        "\n",
        "print('Accuracy of the network on the 10000 test images: %d %%' % ( 100 * correct / total))\n",
        "print(total,correct)"
      ],
      "execution_count": 26,
      "outputs": [
        {
          "output_type": "stream",
          "text": [
            "Accuracy of the network on the 10000 test images: 85 %\n",
            "10000 8540\n"
          ],
          "name": "stdout"
        }
      ]
    },
    {
      "cell_type": "code",
      "metadata": {
        "id": "oQ1yPyXRBNT4",
        "colab_type": "code",
        "colab": {}
      },
      "source": [
        ""
      ],
      "execution_count": 26,
      "outputs": []
    }
  ]
}