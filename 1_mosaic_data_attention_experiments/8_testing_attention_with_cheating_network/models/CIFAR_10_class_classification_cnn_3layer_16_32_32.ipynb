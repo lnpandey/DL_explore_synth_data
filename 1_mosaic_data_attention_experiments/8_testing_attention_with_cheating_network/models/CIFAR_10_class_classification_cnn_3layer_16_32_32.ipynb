{
  "nbformat": 4,
  "nbformat_minor": 0,
  "metadata": {
    "accelerator": "GPU",
    "colab": {
      "name": "CIFAR_10_class_classification_cnn_3layer.ipynb",
      "provenance": [],
      "collapsed_sections": [],
      "machine_shape": "hm"
    },
    "kernelspec": {
      "display_name": "Python 3",
      "language": "python",
      "name": "python3"
    },
    "language_info": {
      "codemirror_mode": {
        "name": "ipython",
        "version": 3
      },
      "file_extension": ".py",
      "mimetype": "text/x-python",
      "name": "python",
      "nbconvert_exporter": "python",
      "pygments_lexer": "ipython3",
      "version": "3.6.5"
    }
  },
  "cells": [
    {
      "cell_type": "code",
      "metadata": {
        "colab_type": "code",
        "id": "JSjG64ra4aFu",
        "colab": {
          "base_uri": "https://localhost:8080/",
          "height": 35
        },
        "outputId": "50e38d26-26ed-4c74-f7dd-66cead88ba90"
      },
      "source": [
        "from google.colab import drive\n",
        "drive.mount('/content/drive')"
      ],
      "execution_count": 1,
      "outputs": [
        {
          "output_type": "stream",
          "text": [
            "Drive already mounted at /content/drive; to attempt to forcibly remount, call drive.mount(\"/content/drive\", force_remount=True).\n"
          ],
          "name": "stdout"
        }
      ]
    },
    {
      "cell_type": "code",
      "metadata": {
        "colab_type": "code",
        "id": "V8-7SARDZErK",
        "colab": {}
      },
      "source": [
        "import torch.nn as nn\n",
        "import torch.nn.functional as F\n",
        "\n",
        "import pandas as pd\n",
        "import numpy as np\n",
        "import matplotlib.pyplot as plt\n",
        "\n",
        "import torch\n",
        "import torchvision\n",
        "import torchvision.transforms as transforms\n",
        "from torch.utils.data import Dataset, DataLoader\n",
        "from torchvision import transforms, utils\n",
        "\n",
        "from matplotlib import pyplot as plt\n",
        "import copy\n",
        "\n",
        "# Ignore warnings\n",
        "import warnings\n",
        "warnings.filterwarnings(\"ignore\")\n"
      ],
      "execution_count": 2,
      "outputs": []
    },
    {
      "cell_type": "code",
      "metadata": {
        "colab_type": "code",
        "id": "acRFqJNrZErV",
        "colab": {
          "base_uri": "https://localhost:8080/",
          "height": 53
        },
        "outputId": "eb023fa5-ff2c-4650-e646-34d18b6f8a86"
      },
      "source": [
        "transform = transforms.Compose(\n",
        "    [transforms.ToTensor(),\n",
        "     transforms.Normalize((0.5, 0.5, 0.5), (0.5, 0.5, 0.5))])\n",
        "\n",
        "trainset = torchvision.datasets.CIFAR10(root='./data', train=True, download=True, transform=transform)\n",
        "\n",
        "\n",
        "testset = torchvision.datasets.CIFAR10(root='./data', train=False, download=True, transform=transform)\n"
      ],
      "execution_count": 3,
      "outputs": [
        {
          "output_type": "stream",
          "text": [
            "Files already downloaded and verified\n",
            "Files already downloaded and verified\n"
          ],
          "name": "stdout"
        }
      ]
    },
    {
      "cell_type": "code",
      "metadata": {
        "id": "gh5DXuAV1tp5",
        "colab_type": "code",
        "colab": {}
      },
      "source": [
        "# trainloader = torch.utils.data.DataLoader(trainset, batch_size=10, shuffle=True)\n",
        "# testloader = torch.utils.data.DataLoader(testset, batch_size=10, shuffle=False)\n",
        "\n",
        "\n",
        "classes = ('plane', 'car', 'bird', 'cat', 'deer', 'dog', 'frog', 'horse', 'ship', 'truck')\n",
        "\n",
        "# foreground_classes = {'plane', 'car', 'bird'}\n",
        "\n",
        "# background_classes = {'cat', 'deer', 'dog', 'frog', 'horse','ship', 'truck'}\n",
        "\n",
        "# fg1,fg2,fg3 = 0,1,2"
      ],
      "execution_count": 4,
      "outputs": []
    },
    {
      "cell_type": "code",
      "metadata": {
        "id": "EQOH55xR6INA",
        "colab_type": "code",
        "colab": {}
      },
      "source": [
        "trainloader = torch.utils.data.DataLoader(trainset, batch_size=256,shuffle=True)\n",
        "testloader = torch.utils.data.DataLoader(testset, batch_size=256,shuffle=False)"
      ],
      "execution_count": 5,
      "outputs": []
    },
    {
      "cell_type": "code",
      "metadata": {
        "colab_type": "code",
        "id": "SadRzWBBZEsP",
        "colab": {}
      },
      "source": [
        "import torch.nn as nn\n",
        "import torch.nn.functional as F\n",
        "\n",
        "class CNN(nn.Module):\n",
        "  def __init__(self):\n",
        "    super(CNN, self).__init__()\n",
        "    self.conv1 = nn.Conv2d(in_channels=3, out_channels=16, kernel_size=3, padding=0)\n",
        "    self.pool = nn.MaxPool2d(2, 2)\n",
        "    self.conv2 = nn.Conv2d(in_channels=16, out_channels=32, kernel_size=3, padding=0)\n",
        "    self.conv3 = nn.Conv2d(in_channels=32, out_channels=32, kernel_size=3, padding=0)\n",
        "    self.fc1 = nn.Linear(512, 256)\n",
        "    self.fc2 = nn.Linear(256, 64)\n",
        "    self.fc3 = nn.Linear(64, 10)\n",
        "    # self.fc4 = nn.Linear(40,10)\n",
        "    # self.fc5 = nn.Linear(10,2)\n",
        "\n",
        "  def forward(self, x):\n",
        "    x = self.pool(F.relu(self.conv1(x)))\n",
        "    x = self.pool(F.relu(self.conv2(x)))\n",
        "    # print(x.shape)\n",
        "    x = (F.relu(self.conv3(x)))\n",
        "    x =  x.view(x.size(0), -1)\n",
        "    # print(x.shape)\n",
        "    x = F.relu(self.fc1(x))\n",
        "    x = F.relu(self.fc2(x))\n",
        "    x = (self.fc3(x))\n",
        "    # x = F.relu(self.fc4(x))\n",
        "    # x = self.fc4(x)\n",
        "    return x"
      ],
      "execution_count": 6,
      "outputs": []
    },
    {
      "cell_type": "code",
      "metadata": {
        "id": "1GvXR1zV5n4w",
        "colab_type": "code",
        "colab": {}
      },
      "source": [
        "cnn_net = CNN()#.double()\n",
        "cnn_net = cnn_net.to(\"cuda\")"
      ],
      "execution_count": 7,
      "outputs": []
    },
    {
      "cell_type": "code",
      "metadata": {
        "id": "n5g3geNJ5zEu",
        "colab_type": "code",
        "colab": {}
      },
      "source": [
        "import torch.optim as optim\n",
        "criterion_cnn = nn.CrossEntropyLoss()\n",
        "optimizer_cnn = optim.SGD(cnn_net.parameters(), lr=0.01, momentum=0.9)"
      ],
      "execution_count": 8,
      "outputs": []
    },
    {
      "cell_type": "code",
      "metadata": {
        "colab_type": "code",
        "id": "tFfAJZkcZEsY",
        "colab": {
          "base_uri": "https://localhost:8080/",
          "height": 1000
        },
        "outputId": "d1039d32-10c2-42d2-e266-bc3fe42d0923"
      },
      "source": [
        "acti = []\n",
        "loss_curi = []\n",
        "epochs = 300\n",
        "for epoch in range(epochs): # loop over the dataset multiple times\n",
        "    ep_lossi = []\n",
        "\n",
        "    running_loss = 0.0\n",
        "    for i, data in enumerate(trainloader, 0):\n",
        "        # get the inputs\n",
        "        inputs, labels = data\n",
        "        inputs, labels = inputs.to(\"cuda\"),labels.to(\"cuda\")\n",
        "\n",
        "        # zero the parameter gradients\n",
        "        optimizer_cnn.zero_grad()\n",
        "\n",
        "        # forward + backward + optimize\n",
        "        outputs = cnn_net(inputs)\n",
        "        loss = criterion_cnn(outputs, labels)\n",
        "        loss.backward()\n",
        "        optimizer_cnn.step()\n",
        "\n",
        "        # print statistics\n",
        "        running_loss += loss.item()\n",
        "        mini_batch = 50\n",
        "        if i % mini_batch == mini_batch-1:    # print every 50 mini-batches\n",
        "            print('[%d, %5d] loss: %.3f' %(epoch + 1, i + 1, running_loss / mini_batch))\n",
        "            ep_lossi.append(running_loss/mini_batch) # loss per minibatch\n",
        "            running_loss = 0.0\n",
        "            \n",
        "    if(np.mean(ep_lossi) <= 0.01):\n",
        "      break;\n",
        "    loss_curi.append(np.mean(ep_lossi))   #loss per epoch            \n",
        "\n",
        "print('Finished Training')"
      ],
      "execution_count": 9,
      "outputs": [
        {
          "output_type": "stream",
          "text": [
            "[1,    50] loss: 2.306\n",
            "[1,   100] loss: 2.303\n",
            "[1,   150] loss: 2.302\n",
            "[2,    50] loss: 2.300\n",
            "[2,   100] loss: 2.299\n",
            "[2,   150] loss: 2.295\n",
            "[3,    50] loss: 2.212\n",
            "[3,   100] loss: 2.044\n",
            "[3,   150] loss: 1.933\n",
            "[4,    50] loss: 1.746\n",
            "[4,   100] loss: 1.670\n",
            "[4,   150] loss: 1.642\n",
            "[5,    50] loss: 1.560\n",
            "[5,   100] loss: 1.550\n",
            "[5,   150] loss: 1.532\n",
            "[6,    50] loss: 1.451\n",
            "[6,   100] loss: 1.442\n",
            "[6,   150] loss: 1.427\n",
            "[7,    50] loss: 1.361\n",
            "[7,   100] loss: 1.356\n",
            "[7,   150] loss: 1.352\n",
            "[8,    50] loss: 1.308\n",
            "[8,   100] loss: 1.276\n",
            "[8,   150] loss: 1.257\n",
            "[9,    50] loss: 1.217\n",
            "[9,   100] loss: 1.182\n",
            "[9,   150] loss: 1.175\n",
            "[10,    50] loss: 1.154\n",
            "[10,   100] loss: 1.115\n",
            "[10,   150] loss: 1.119\n",
            "[11,    50] loss: 1.094\n",
            "[11,   100] loss: 1.071\n",
            "[11,   150] loss: 1.039\n",
            "[12,    50] loss: 1.022\n",
            "[12,   100] loss: 1.005\n",
            "[12,   150] loss: 1.012\n",
            "[13,    50] loss: 0.993\n",
            "[13,   100] loss: 0.942\n",
            "[13,   150] loss: 0.971\n",
            "[14,    50] loss: 0.932\n",
            "[14,   100] loss: 0.922\n",
            "[14,   150] loss: 0.926\n",
            "[15,    50] loss: 0.865\n",
            "[15,   100] loss: 0.870\n",
            "[15,   150] loss: 0.869\n",
            "[16,    50] loss: 0.831\n",
            "[16,   100] loss: 0.853\n",
            "[16,   150] loss: 0.872\n",
            "[17,    50] loss: 0.805\n",
            "[17,   100] loss: 0.801\n",
            "[17,   150] loss: 0.794\n",
            "[18,    50] loss: 0.762\n",
            "[18,   100] loss: 0.757\n",
            "[18,   150] loss: 0.761\n",
            "[19,    50] loss: 0.763\n",
            "[19,   100] loss: 0.713\n",
            "[19,   150] loss: 0.718\n",
            "[20,    50] loss: 0.675\n",
            "[20,   100] loss: 0.695\n",
            "[20,   150] loss: 0.702\n",
            "[21,    50] loss: 0.644\n",
            "[21,   100] loss: 0.672\n",
            "[21,   150] loss: 0.687\n",
            "[22,    50] loss: 0.623\n",
            "[22,   100] loss: 0.648\n",
            "[22,   150] loss: 0.655\n",
            "[23,    50] loss: 0.594\n",
            "[23,   100] loss: 0.587\n",
            "[23,   150] loss: 0.614\n",
            "[24,    50] loss: 0.565\n",
            "[24,   100] loss: 0.561\n",
            "[24,   150] loss: 0.578\n",
            "[25,    50] loss: 0.504\n",
            "[25,   100] loss: 0.556\n",
            "[25,   150] loss: 0.543\n",
            "[26,    50] loss: 0.494\n",
            "[26,   100] loss: 0.521\n",
            "[26,   150] loss: 0.535\n",
            "[27,    50] loss: 0.466\n",
            "[27,   100] loss: 0.485\n",
            "[27,   150] loss: 0.491\n",
            "[28,    50] loss: 0.428\n",
            "[28,   100] loss: 0.471\n",
            "[28,   150] loss: 0.477\n",
            "[29,    50] loss: 0.401\n",
            "[29,   100] loss: 0.429\n",
            "[29,   150] loss: 0.433\n",
            "[30,    50] loss: 0.405\n",
            "[30,   100] loss: 0.402\n",
            "[30,   150] loss: 0.414\n",
            "[31,    50] loss: 0.376\n",
            "[31,   100] loss: 0.374\n",
            "[31,   150] loss: 0.384\n",
            "[32,    50] loss: 0.337\n",
            "[32,   100] loss: 0.352\n",
            "[32,   150] loss: 0.348\n",
            "[33,    50] loss: 0.318\n",
            "[33,   100] loss: 0.328\n",
            "[33,   150] loss: 0.332\n",
            "[34,    50] loss: 0.264\n",
            "[34,   100] loss: 0.296\n",
            "[34,   150] loss: 0.323\n",
            "[35,    50] loss: 0.256\n",
            "[35,   100] loss: 0.271\n",
            "[35,   150] loss: 0.311\n",
            "[36,    50] loss: 0.260\n",
            "[36,   100] loss: 0.239\n",
            "[36,   150] loss: 0.269\n",
            "[37,    50] loss: 0.223\n",
            "[37,   100] loss: 0.233\n",
            "[37,   150] loss: 0.254\n",
            "[38,    50] loss: 0.184\n",
            "[38,   100] loss: 0.196\n",
            "[38,   150] loss: 0.237\n",
            "[39,    50] loss: 0.187\n",
            "[39,   100] loss: 0.183\n",
            "[39,   150] loss: 0.210\n",
            "[40,    50] loss: 0.178\n",
            "[40,   100] loss: 0.181\n",
            "[40,   150] loss: 0.209\n",
            "[41,    50] loss: 0.161\n",
            "[41,   100] loss: 0.153\n",
            "[41,   150] loss: 0.163\n",
            "[42,    50] loss: 0.148\n",
            "[42,   100] loss: 0.146\n",
            "[42,   150] loss: 0.149\n",
            "[43,    50] loss: 0.134\n",
            "[43,   100] loss: 0.141\n",
            "[43,   150] loss: 0.142\n",
            "[44,    50] loss: 0.133\n",
            "[44,   100] loss: 0.151\n",
            "[44,   150] loss: 0.158\n",
            "[45,    50] loss: 0.137\n",
            "[45,   100] loss: 0.131\n",
            "[45,   150] loss: 0.150\n",
            "[46,    50] loss: 0.130\n",
            "[46,   100] loss: 0.144\n",
            "[46,   150] loss: 0.146\n",
            "[47,    50] loss: 0.134\n",
            "[47,   100] loss: 0.134\n",
            "[47,   150] loss: 0.148\n",
            "[48,    50] loss: 0.083\n",
            "[48,   100] loss: 0.108\n",
            "[48,   150] loss: 0.113\n",
            "[49,    50] loss: 0.133\n",
            "[49,   100] loss: 0.115\n",
            "[49,   150] loss: 0.147\n",
            "[50,    50] loss: 0.108\n",
            "[50,   100] loss: 0.103\n",
            "[50,   150] loss: 0.101\n",
            "[51,    50] loss: 0.092\n",
            "[51,   100] loss: 0.076\n",
            "[51,   150] loss: 0.076\n",
            "[52,    50] loss: 0.092\n",
            "[52,   100] loss: 0.067\n",
            "[52,   150] loss: 0.086\n",
            "[53,    50] loss: 0.094\n",
            "[53,   100] loss: 0.084\n",
            "[53,   150] loss: 0.096\n",
            "[54,    50] loss: 0.145\n",
            "[54,   100] loss: 0.107\n",
            "[54,   150] loss: 0.106\n",
            "[55,    50] loss: 0.089\n",
            "[55,   100] loss: 0.073\n",
            "[55,   150] loss: 0.070\n",
            "[56,    50] loss: 0.057\n",
            "[56,   100] loss: 0.059\n",
            "[56,   150] loss: 0.066\n",
            "[57,    50] loss: 0.065\n",
            "[57,   100] loss: 0.056\n",
            "[57,   150] loss: 0.056\n",
            "[58,    50] loss: 0.063\n",
            "[58,   100] loss: 0.075\n",
            "[58,   150] loss: 0.079\n",
            "[59,    50] loss: 0.096\n",
            "[59,   100] loss: 0.057\n",
            "[59,   150] loss: 0.066\n",
            "[60,    50] loss: 0.095\n",
            "[60,   100] loss: 0.054\n",
            "[60,   150] loss: 0.058\n",
            "[61,    50] loss: 0.080\n",
            "[61,   100] loss: 0.055\n",
            "[61,   150] loss: 0.074\n",
            "[62,    50] loss: 0.088\n",
            "[62,   100] loss: 0.065\n",
            "[62,   150] loss: 0.065\n",
            "[63,    50] loss: 0.074\n",
            "[63,   100] loss: 0.062\n",
            "[63,   150] loss: 0.069\n",
            "[64,    50] loss: 0.121\n",
            "[64,   100] loss: 0.096\n",
            "[64,   150] loss: 0.115\n",
            "[65,    50] loss: 0.093\n",
            "[65,   100] loss: 0.079\n",
            "[65,   150] loss: 0.111\n",
            "[66,    50] loss: 0.061\n",
            "[66,   100] loss: 0.062\n",
            "[66,   150] loss: 0.094\n",
            "[67,    50] loss: 0.061\n",
            "[67,   100] loss: 0.056\n",
            "[67,   150] loss: 0.048\n",
            "[68,    50] loss: 0.037\n",
            "[68,   100] loss: 0.026\n",
            "[68,   150] loss: 0.024\n",
            "[69,    50] loss: 0.017\n",
            "[69,   100] loss: 0.043\n",
            "[69,   150] loss: 0.028\n",
            "[70,    50] loss: 0.050\n",
            "[70,   100] loss: 0.055\n",
            "[70,   150] loss: 0.094\n",
            "[71,    50] loss: 0.050\n",
            "[71,   100] loss: 0.052\n",
            "[71,   150] loss: 0.075\n",
            "[72,    50] loss: 0.090\n",
            "[72,   100] loss: 0.060\n",
            "[72,   150] loss: 0.085\n",
            "[73,    50] loss: 0.074\n",
            "[73,   100] loss: 0.052\n",
            "[73,   150] loss: 0.064\n",
            "[74,    50] loss: 0.062\n",
            "[74,   100] loss: 0.037\n",
            "[74,   150] loss: 0.039\n",
            "[75,    50] loss: 0.042\n",
            "[75,   100] loss: 0.031\n",
            "[75,   150] loss: 0.029\n",
            "[76,    50] loss: 0.022\n",
            "[76,   100] loss: 0.031\n",
            "[76,   150] loss: 0.030\n",
            "[77,    50] loss: 0.055\n",
            "[77,   100] loss: 0.030\n",
            "[77,   150] loss: 0.026\n",
            "[78,    50] loss: 0.024\n",
            "[78,   100] loss: 0.022\n",
            "[78,   150] loss: 0.020\n",
            "[79,    50] loss: 0.014\n",
            "[79,   100] loss: 0.013\n",
            "[79,   150] loss: 0.010\n",
            "[80,    50] loss: 0.008\n",
            "[80,   100] loss: 0.005\n",
            "[80,   150] loss: 0.004\n",
            "Finished Training\n"
          ],
          "name": "stdout"
        }
      ]
    },
    {
      "cell_type": "code",
      "metadata": {
        "id": "WIAJ3UZN8rPE",
        "colab_type": "code",
        "colab": {}
      },
      "source": [
        "torch.save(cnn_net.state_dict(),\"/content/drive/My Drive/Research/Cheating_data/CIFAR10_class_classify/weights/\"+\"cnn_3layer_16_32_32\"+\".pt\")"
      ],
      "execution_count": 14,
      "outputs": []
    },
    {
      "cell_type": "code",
      "metadata": {
        "id": "an7qmNLB-Ilb",
        "colab_type": "code",
        "colab": {
          "base_uri": "https://localhost:8080/",
          "height": 53
        },
        "outputId": "2f21579e-c402-447c-e3bd-b2af83e7082e"
      },
      "source": [
        "correct = 0\n",
        "total = 0\n",
        "with torch.no_grad():\n",
        "    for data in trainloader:\n",
        "        images, labels = data\n",
        "        images, labels = images.to(\"cuda\"), labels.to(\"cuda\")\n",
        "        outputs = cnn_net(images)\n",
        "        _, predicted = torch.max(outputs.data, 1)\n",
        "        total += labels.size(0)\n",
        "        correct += (predicted == labels).sum().item()\n",
        "\n",
        "print('Accuracy of the network on the %d train images: %d %%' % (total,  100 * correct / total))\n",
        "print(total,correct)"
      ],
      "execution_count": 11,
      "outputs": [
        {
          "output_type": "stream",
          "text": [
            "Accuracy of the network on the 50000 train images: 99 %\n",
            "50000 49976\n"
          ],
          "name": "stdout"
        }
      ]
    },
    {
      "cell_type": "code",
      "metadata": {
        "id": "3WqTm-aW-TGU",
        "colab_type": "code",
        "colab": {
          "base_uri": "https://localhost:8080/",
          "height": 53
        },
        "outputId": "1fb32017-d739-457a-d728-a2e72065e2b0"
      },
      "source": [
        "correct = 0\n",
        "total = 0\n",
        "out = []\n",
        "pred = []\n",
        "with torch.no_grad():\n",
        "    for data in testloader:\n",
        "        images, labels = data\n",
        "        images, labels = images.to(\"cuda\"),labels.to(\"cuda\")\n",
        "        out.append(labels.cpu().numpy())\n",
        "        outputs= cnn_net(images)\n",
        "        _, predicted = torch.max(outputs.data, 1)\n",
        "        pred.append(predicted.cpu().numpy())\n",
        "        total += labels.size(0)\n",
        "        correct += (predicted == labels).sum().item()\n",
        "\n",
        "print('Accuracy of the network on the 10000 test images: %d %%' % ( 100 * correct / total))\n",
        "print(total,correct)"
      ],
      "execution_count": 12,
      "outputs": [
        {
          "output_type": "stream",
          "text": [
            "Accuracy of the network on the 10000 test images: 69 %\n",
            "10000 6969\n"
          ],
          "name": "stdout"
        }
      ]
    },
    {
      "cell_type": "code",
      "metadata": {
        "id": "oQ1yPyXRBNT4",
        "colab_type": "code",
        "colab": {
          "base_uri": "https://localhost:8080/",
          "height": 199
        },
        "outputId": "bd6108a4-654f-40fd-a709-cd01b78eb32e"
      },
      "source": [
        "class_correct = list(0. for i in range(10))\n",
        "class_total = list(0. for i in range(10))\n",
        "with torch.no_grad():\n",
        "    for data in testloader:\n",
        "        images, labels = data\n",
        "        images, labels = images.to(\"cuda\"),labels.to(\"cuda\")\n",
        "        outputs = cnn_net(images)\n",
        "        _, predicted = torch.max(outputs, 1)\n",
        "        c = (predicted == labels).squeeze()\n",
        "        for i in range(4):\n",
        "            label = labels[i]\n",
        "            class_correct[label] += c[i].item()\n",
        "            class_total[label] += 1\n",
        "\n",
        "\n",
        "for i in range(10):\n",
        "    print('Accuracy of %5s : %2d %%' % (\n",
        "        classes[i], 100 * class_correct[i] / class_total[i]))"
      ],
      "execution_count": 13,
      "outputs": [
        {
          "output_type": "stream",
          "text": [
            "Accuracy of plane : 68 %\n",
            "Accuracy of   car : 76 %\n",
            "Accuracy of  bird : 76 %\n",
            "Accuracy of   cat : 40 %\n",
            "Accuracy of  deer : 61 %\n",
            "Accuracy of   dog : 40 %\n",
            "Accuracy of  frog : 66 %\n",
            "Accuracy of horse : 66 %\n",
            "Accuracy of  ship : 66 %\n",
            "Accuracy of truck : 88 %\n"
          ],
          "name": "stdout"
        }
      ]
    },
    {
      "cell_type": "code",
      "metadata": {
        "id": "bzU_HuQnEB29",
        "colab_type": "code",
        "colab": {}
      },
      "source": [
        ""
      ],
      "execution_count": 13,
      "outputs": []
    }
  ]
}