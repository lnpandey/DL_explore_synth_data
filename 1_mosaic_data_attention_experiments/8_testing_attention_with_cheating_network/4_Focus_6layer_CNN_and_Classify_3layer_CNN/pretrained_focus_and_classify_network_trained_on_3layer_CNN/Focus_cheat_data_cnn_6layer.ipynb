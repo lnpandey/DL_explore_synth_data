{
  "nbformat": 4,
  "nbformat_minor": 0,
  "metadata": {
    "accelerator": "GPU",
    "colab": {
      "name": "Focus_cheat_data_cnn.ipynb",
      "provenance": [],
      "collapsed_sections": [],
      "machine_shape": "hm"
    },
    "kernelspec": {
      "display_name": "Python 3",
      "language": "python",
      "name": "python3"
    },
    "language_info": {
      "codemirror_mode": {
        "name": "ipython",
        "version": 3
      },
      "file_extension": ".py",
      "mimetype": "text/x-python",
      "name": "python",
      "nbconvert_exporter": "python",
      "pygments_lexer": "ipython3",
      "version": "3.6.5"
    }
  },
  "cells": [
    {
      "cell_type": "code",
      "metadata": {
        "colab_type": "code",
        "id": "JSjG64ra4aFu",
        "colab": {
          "base_uri": "https://localhost:8080/",
          "height": 35
        },
        "outputId": "191a3e70-09b9-4ae7-9916-e9899c81d513"
      },
      "source": [
        "from google.colab import drive\n",
        "drive.mount('/content/drive')"
      ],
      "execution_count": null,
      "outputs": [
        {
          "output_type": "stream",
          "text": [
            "Drive already mounted at /content/drive; to attempt to forcibly remount, call drive.mount(\"/content/drive\", force_remount=True).\n"
          ],
          "name": "stdout"
        }
      ]
    },
    {
      "cell_type": "code",
      "metadata": {
        "colab_type": "code",
        "id": "V8-7SARDZErK",
        "colab": {}
      },
      "source": [
        "import torch.nn as nn\n",
        "import torch.nn.functional as F\n",
        "\n",
        "import pandas as pd\n",
        "import numpy as np\n",
        "import matplotlib.pyplot as plt\n",
        "\n",
        "import torch\n",
        "import torchvision\n",
        "import torchvision.transforms as transforms\n",
        "from torch.utils.data import Dataset, DataLoader\n",
        "from torchvision import transforms, utils\n",
        "\n",
        "from matplotlib import pyplot as plt\n",
        "\n",
        "import copy\n",
        "\n",
        "# Ignore warnings\n",
        "import warnings\n",
        "warnings.filterwarnings(\"ignore\")\n"
      ],
      "execution_count": null,
      "outputs": []
    },
    {
      "cell_type": "code",
      "metadata": {
        "colab_type": "code",
        "id": "acRFqJNrZErV",
        "colab": {
          "base_uri": "https://localhost:8080/",
          "height": 53
        },
        "outputId": "91c28737-66bb-4cb0-a119-c5229a271440"
      },
      "source": [
        "transform = transforms.Compose(\n",
        "    [transforms.ToTensor(),\n",
        "     transforms.Normalize((0.5, 0.5, 0.5), (0.5, 0.5, 0.5))])\n",
        "\n",
        "trainset = torchvision.datasets.CIFAR10(root='./data', train=True, download=True, transform=transform)\n",
        "\n",
        "\n",
        "testset = torchvision.datasets.CIFAR10(root='./data', train=False, download=True, transform=transform)\n"
      ],
      "execution_count": null,
      "outputs": [
        {
          "output_type": "stream",
          "text": [
            "Files already downloaded and verified\n",
            "Files already downloaded and verified\n"
          ],
          "name": "stdout"
        }
      ]
    },
    {
      "cell_type": "code",
      "metadata": {
        "id": "Ip_hgswQOHeX",
        "colab_type": "code",
        "colab": {
          "base_uri": "https://localhost:8080/",
          "height": 35
        },
        "outputId": "04f42913-abe0-402a-dda2-53feb116fada"
      },
      "source": [
        "type(trainset.targets)\n",
        "type(trainset.data)"
      ],
      "execution_count": null,
      "outputs": [
        {
          "output_type": "execute_result",
          "data": {
            "text/plain": [
              "numpy.ndarray"
            ]
          },
          "metadata": {
            "tags": []
          },
          "execution_count": 41
        }
      ]
    },
    {
      "cell_type": "code",
      "metadata": {
        "id": "gh5DXuAV1tp5",
        "colab_type": "code",
        "colab": {}
      },
      "source": [
        "# trainloader = torch.utils.data.DataLoader(trainset, batch_size=10, shuffle=True)\n",
        "# testloader = torch.utils.data.DataLoader(testset, batch_size=10, shuffle=False)\n",
        "\n",
        "\n",
        "classes = ('plane', 'car', 'bird', 'cat', 'deer', 'dog', 'frog', 'horse', 'ship', 'truck')\n",
        "\n",
        "foreground_classes = {'plane', 'car', 'bird'}\n",
        "\n",
        "background_classes = {'cat', 'deer', 'dog', 'frog', 'horse','ship', 'truck'}\n",
        "\n",
        "fg1,fg2,fg3 = 0,1,2"
      ],
      "execution_count": null,
      "outputs": []
    },
    {
      "cell_type": "code",
      "metadata": {
        "colab_type": "code",
        "id": "V_JUhwCeZErk",
        "colab": {
          "base_uri": "https://localhost:8080/",
          "height": 35
        },
        "outputId": "fe7fed5a-f43a-44bf-888d-830c76c5830d"
      },
      "source": [
        "is_fg = [np.where(np.array(trainset.targets)==fg1)[0] , np.where(np.array(trainset.targets)==fg2)[0], np.where(np.array(trainset.targets)==fg3)[0]  ]\n",
        "# print(is_fg)\n",
        "is_fg = np.concatenate(is_fg,axis=0)\n",
        "print(is_fg, (is_fg).shape)"
      ],
      "execution_count": null,
      "outputs": [
        {
          "output_type": "stream",
          "text": [
            "[   29    30    35 ... 49987 49991 49995] (15000,)\n"
          ],
          "name": "stdout"
        }
      ]
    },
    {
      "cell_type": "code",
      "metadata": {
        "id": "uW9MkktGysAp",
        "colab_type": "code",
        "colab": {
          "base_uri": "https://localhost:8080/",
          "height": 35
        },
        "outputId": "623c4255-1e0d-46a5-87d0-b58789a3ae14"
      },
      "source": [
        "all_index = np.arange(0,50000)\n",
        "all_index"
      ],
      "execution_count": null,
      "outputs": [
        {
          "output_type": "execute_result",
          "data": {
            "text/plain": [
              "array([    0,     1,     2, ..., 49997, 49998, 49999])"
            ]
          },
          "metadata": {
            "tags": []
          },
          "execution_count": 44
        }
      ]
    },
    {
      "cell_type": "code",
      "metadata": {
        "id": "lWxkp87fNwnM",
        "colab_type": "code",
        "colab": {
          "base_uri": "https://localhost:8080/",
          "height": 35
        },
        "outputId": "f85a4727-fec2-480c-9a6c-647e70727deb"
      },
      "source": [
        "train_labels = np.array(trainset.targets)\n",
        "train_labels.shape"
      ],
      "execution_count": null,
      "outputs": [
        {
          "output_type": "execute_result",
          "data": {
            "text/plain": [
              "(50000,)"
            ]
          },
          "metadata": {
            "tags": []
          },
          "execution_count": 45
        }
      ]
    },
    {
      "cell_type": "code",
      "metadata": {
        "id": "AJuGak6_zXgx",
        "colab_type": "code",
        "colab": {
          "base_uri": "https://localhost:8080/",
          "height": 35
        },
        "outputId": "1e4538ba-774e-430b-a228-7b65162d17e4"
      },
      "source": [
        "train_labels[is_fg]=1\n",
        "train_labels[list(set(all_index)-set(is_fg))]=0\n",
        "train_labels"
      ],
      "execution_count": null,
      "outputs": [
        {
          "output_type": "execute_result",
          "data": {
            "text/plain": [
              "array([0, 0, 0, ..., 0, 1, 1])"
            ]
          },
          "metadata": {
            "tags": []
          },
          "execution_count": 46
        }
      ]
    },
    {
      "cell_type": "code",
      "metadata": {
        "id": "IPvRxLk4zmXB",
        "colab_type": "code",
        "colab": {
          "base_uri": "https://localhost:8080/",
          "height": 35
        },
        "outputId": "54c7f260-b832-49e7-cd34-ed37d2e777d8"
      },
      "source": [
        "np.count_nonzero(train_labels)"
      ],
      "execution_count": null,
      "outputs": [
        {
          "output_type": "execute_result",
          "data": {
            "text/plain": [
              "15000"
            ]
          },
          "metadata": {
            "tags": []
          },
          "execution_count": 47
        }
      ]
    },
    {
      "cell_type": "code",
      "metadata": {
        "id": "II4R1Q2szwg9",
        "colab_type": "code",
        "colab": {}
      },
      "source": [
        "trainset.targets = train_labels"
      ],
      "execution_count": null,
      "outputs": []
    },
    {
      "cell_type": "code",
      "metadata": {
        "colab_type": "code",
        "id": "ywcNP5ur2Btv",
        "colab": {
          "base_uri": "https://localhost:8080/",
          "height": 35
        },
        "outputId": "741c14cb-8280-4cbe-ffdc-fd59193792d7"
      },
      "source": [
        "is_fg = [np.where(np.array(testset.targets)==fg1)[0] , np.where(np.array(testset.targets)==fg2)[0], np.where(np.array(testset.targets)==fg3)[0]  ]\n",
        "# print(is_fg)\n",
        "is_fg = np.concatenate(is_fg,axis=0)\n",
        "print(is_fg, (is_fg).shape)"
      ],
      "execution_count": null,
      "outputs": [
        {
          "output_type": "stream",
          "text": [
            "[   3   10   21 ... 9970 9982 9989] (3000,)\n"
          ],
          "name": "stdout"
        }
      ]
    },
    {
      "cell_type": "code",
      "metadata": {
        "colab_type": "code",
        "id": "9jv5cZS_2BuK",
        "colab": {
          "base_uri": "https://localhost:8080/",
          "height": 35
        },
        "outputId": "3943eec5-6953-40a3-f357-62d49d7e811e"
      },
      "source": [
        "all_index = np.arange(0,10000)\n",
        "all_index"
      ],
      "execution_count": null,
      "outputs": [
        {
          "output_type": "execute_result",
          "data": {
            "text/plain": [
              "array([   0,    1,    2, ..., 9997, 9998, 9999])"
            ]
          },
          "metadata": {
            "tags": []
          },
          "execution_count": 50
        }
      ]
    },
    {
      "cell_type": "code",
      "metadata": {
        "colab_type": "code",
        "id": "Cea4-tjj2BuV",
        "colab": {
          "base_uri": "https://localhost:8080/",
          "height": 35
        },
        "outputId": "17e0ea22-9a06-4f0a-de2a-97befb5cb379"
      },
      "source": [
        "test_labels = np.array(testset.targets)\n",
        "test_labels.shape"
      ],
      "execution_count": null,
      "outputs": [
        {
          "output_type": "execute_result",
          "data": {
            "text/plain": [
              "(10000,)"
            ]
          },
          "metadata": {
            "tags": []
          },
          "execution_count": 51
        }
      ]
    },
    {
      "cell_type": "code",
      "metadata": {
        "colab_type": "code",
        "id": "oWEsGmB22Bue",
        "colab": {
          "base_uri": "https://localhost:8080/",
          "height": 35
        },
        "outputId": "e2c4720d-9763-4721-995e-e54ae1a6f333"
      },
      "source": [
        "test_labels[is_fg]=1\n",
        "test_labels[list(set(all_index)-set(is_fg))]=0\n",
        "test_labels"
      ],
      "execution_count": null,
      "outputs": [
        {
          "output_type": "execute_result",
          "data": {
            "text/plain": [
              "array([0, 0, 0, ..., 0, 1, 0])"
            ]
          },
          "metadata": {
            "tags": []
          },
          "execution_count": 52
        }
      ]
    },
    {
      "cell_type": "code",
      "metadata": {
        "colab_type": "code",
        "id": "qLcACXP42Buk",
        "colab": {
          "base_uri": "https://localhost:8080/",
          "height": 35
        },
        "outputId": "312fc44a-9aa5-4b12-cde3-499d33df0284"
      },
      "source": [
        "np.count_nonzero(test_labels)"
      ],
      "execution_count": null,
      "outputs": [
        {
          "output_type": "execute_result",
          "data": {
            "text/plain": [
              "3000"
            ]
          },
          "metadata": {
            "tags": []
          },
          "execution_count": 53
        }
      ]
    },
    {
      "cell_type": "code",
      "metadata": {
        "colab_type": "code",
        "id": "5XdsmsD12Bup",
        "colab": {}
      },
      "source": [
        "testset.targets = test_labels"
      ],
      "execution_count": null,
      "outputs": []
    },
    {
      "cell_type": "code",
      "metadata": {
        "id": "EQOH55xR6INA",
        "colab_type": "code",
        "colab": {}
      },
      "source": [
        "trainloader = torch.utils.data.DataLoader(trainset, batch_size=256,shuffle=True)\n",
        "testloader = torch.utils.data.DataLoader(testset, batch_size=256,shuffle=False)"
      ],
      "execution_count": null,
      "outputs": []
    },
    {
      "cell_type": "code",
      "metadata": {
        "colab_type": "code",
        "id": "SadRzWBBZEsP",
        "colab": {}
      },
      "source": [
        "class CNN(nn.Module):\n",
        "  def __init__(self):\n",
        "    super(CNN, self).__init__()\n",
        "    self.conv1 = nn.Conv2d(in_channels=3, out_channels=32, kernel_size=3, padding=0)\n",
        "    self.conv2 = nn.Conv2d(in_channels=32, out_channels=64, kernel_size=3, padding=0)\n",
        "    self.conv3 = nn.Conv2d(in_channels=64, out_channels=128, kernel_size=3, padding=0)\n",
        "    self.conv4 = nn.Conv2d(in_channels=128, out_channels=128, kernel_size=3, padding=0)\n",
        "    self.conv5 = nn.Conv2d(in_channels=128, out_channels=128, kernel_size=3, padding=0)\n",
        "    self.conv6 = nn.Conv2d(in_channels=128, out_channels=128, kernel_size=3, padding=1)\n",
        "    self.pool = nn.MaxPool2d(kernel_size=2, stride=2)\n",
        "    self.batch_norm1 = nn.BatchNorm2d(32)\n",
        "    self.batch_norm2 = nn.BatchNorm2d(128)\n",
        "    self.dropout1 = nn.Dropout2d(p=0.05)\n",
        "    self.dropout2 = nn.Dropout2d(p=0.1)\n",
        "    self.fc1 = nn.Linear(128,64)\n",
        "    self.fc2 = nn.Linear(64, 32)\n",
        "    self.fc3 = nn.Linear(32, 10)\n",
        "    self.fc4 = nn.Linear(10, 2)\n",
        "\n",
        "  def forward(self, x):\n",
        "    x = self.conv1(x)\n",
        "    x = F.relu(self.batch_norm1(x))\n",
        "\n",
        "    x = (F.relu(self.conv2(x)))\n",
        "    x = self.pool(x)\n",
        "    \n",
        "    x = self.conv3(x)\n",
        "    x = F.relu(self.batch_norm2(x))\n",
        "\n",
        "    x = (F.relu(self.conv4(x)))\n",
        "    x = self.pool(x)\n",
        "    x = self.dropout1(x)\n",
        "\n",
        "    x = self.conv5(x)\n",
        "    x = F.relu(self.batch_norm2(x))\n",
        "\n",
        "    x = (F.relu(self.conv6(x)))\n",
        "    x = self.pool(x)\n",
        "\n",
        "    x = x.view(x.size(0), -1)\n",
        "\n",
        "    x = self.dropout2(x)\n",
        "    x = F.relu(self.fc1(x))\n",
        "    x = F.relu(self.fc2(x))\n",
        "    x = self.dropout2(x)\n",
        "    x = F.relu(self.fc3(x))\n",
        "    x = self.fc4(x)\n",
        "    return x"
      ],
      "execution_count": null,
      "outputs": []
    },
    {
      "cell_type": "code",
      "metadata": {
        "id": "1GvXR1zV5n4w",
        "colab_type": "code",
        "colab": {}
      },
      "source": [
        "where_net = CNN()#.double()\n",
        "where_net = where_net.to(\"cuda\")"
      ],
      "execution_count": null,
      "outputs": []
    },
    {
      "cell_type": "code",
      "metadata": {
        "id": "yZob1uGT6fTM",
        "colab_type": "code",
        "colab": {
          "base_uri": "https://localhost:8080/",
          "height": 326
        },
        "outputId": "938c6eb0-8ad2-48da-c116-81e2d0f9e3d5"
      },
      "source": [
        "where_net"
      ],
      "execution_count": null,
      "outputs": [
        {
          "output_type": "execute_result",
          "data": {
            "text/plain": [
              "CNN(\n",
              "  (conv1): Conv2d(3, 32, kernel_size=(3, 3), stride=(1, 1))\n",
              "  (conv2): Conv2d(32, 64, kernel_size=(3, 3), stride=(1, 1))\n",
              "  (conv3): Conv2d(64, 128, kernel_size=(3, 3), stride=(1, 1))\n",
              "  (conv4): Conv2d(128, 128, kernel_size=(3, 3), stride=(1, 1))\n",
              "  (conv5): Conv2d(128, 128, kernel_size=(3, 3), stride=(1, 1))\n",
              "  (conv6): Conv2d(128, 128, kernel_size=(3, 3), stride=(1, 1), padding=(1, 1))\n",
              "  (pool): MaxPool2d(kernel_size=2, stride=2, padding=0, dilation=1, ceil_mode=False)\n",
              "  (batch_norm1): BatchNorm2d(32, eps=1e-05, momentum=0.1, affine=True, track_running_stats=True)\n",
              "  (batch_norm2): BatchNorm2d(128, eps=1e-05, momentum=0.1, affine=True, track_running_stats=True)\n",
              "  (dropout1): Dropout2d(p=0.05, inplace=False)\n",
              "  (dropout2): Dropout2d(p=0.1, inplace=False)\n",
              "  (fc1): Linear(in_features=128, out_features=64, bias=True)\n",
              "  (fc2): Linear(in_features=64, out_features=32, bias=True)\n",
              "  (fc3): Linear(in_features=32, out_features=10, bias=True)\n",
              "  (fc4): Linear(in_features=10, out_features=2, bias=True)\n",
              ")"
            ]
          },
          "metadata": {
            "tags": []
          },
          "execution_count": 32
        }
      ]
    },
    {
      "cell_type": "code",
      "metadata": {
        "id": "n5g3geNJ5zEu",
        "colab_type": "code",
        "colab": {}
      },
      "source": [
        "import torch.optim as optim\n",
        "criterion_where = nn.CrossEntropyLoss()\n",
        "optimizer_where = optim.SGD(where_net.parameters(), lr=0.01, momentum=0.9)"
      ],
      "execution_count": null,
      "outputs": []
    },
    {
      "cell_type": "code",
      "metadata": {
        "colab_type": "code",
        "id": "tFfAJZkcZEsY",
        "colab": {
          "base_uri": "https://localhost:8080/",
          "height": 1000
        },
        "outputId": "9f230f86-10dc-41b7-9c7e-0698b36f4653"
      },
      "source": [
        "acti = []\n",
        "loss_curi = []\n",
        "epochs = 1000\n",
        "for epoch in range(epochs): # loop over the dataset multiple times\n",
        "    ep_lossi = []\n",
        "\n",
        "    running_loss = 0.0\n",
        "    for i, data in enumerate(trainloader, 0):\n",
        "        # get the inputs\n",
        "        inputs, labels = data\n",
        "        inputs, labels = inputs.to(\"cuda\"),labels.to(\"cuda\")\n",
        "\n",
        "        # zero the parameter gradients\n",
        "        optimizer_where.zero_grad()\n",
        "\n",
        "        # forward + backward + optimize\n",
        "        outputs = where_net(inputs)\n",
        "        loss = criterion_where(outputs, labels)\n",
        "        loss.backward()\n",
        "        optimizer_where.step()\n",
        "\n",
        "        # print statistics\n",
        "        running_loss += loss.item()\n",
        "        mini_batch = 50\n",
        "        if i % mini_batch == mini_batch-1:    # print every 50 mini-batches\n",
        "            print('[%d, %5d] loss: %.3f' %(epoch + 1, i + 1, running_loss / mini_batch))\n",
        "            ep_lossi.append(running_loss/mini_batch) # loss per minibatch\n",
        "            running_loss = 0.0\n",
        "            \n",
        "    if(np.mean(ep_lossi) <= 0.003):\n",
        "      break;\n",
        "    loss_curi.append(np.mean(ep_lossi))   #loss per epoch            \n",
        "\n",
        "print('Finished Training')"
      ],
      "execution_count": null,
      "outputs": [
        {
          "output_type": "stream",
          "text": [
            "[1,    50] loss: 0.621\n",
            "[1,   100] loss: 0.606\n",
            "[1,   150] loss: 0.601\n",
            "[2,    50] loss: 0.495\n",
            "[2,   100] loss: 0.458\n",
            "[2,   150] loss: 0.441\n",
            "[3,    50] loss: 0.387\n",
            "[3,   100] loss: 0.384\n",
            "[3,   150] loss: 0.383\n",
            "[4,    50] loss: 0.326\n",
            "[4,   100] loss: 0.329\n",
            "[4,   150] loss: 0.328\n",
            "[5,    50] loss: 0.292\n",
            "[5,   100] loss: 0.291\n",
            "[5,   150] loss: 0.292\n",
            "[6,    50] loss: 0.257\n",
            "[6,   100] loss: 0.260\n",
            "[6,   150] loss: 0.257\n",
            "[7,    50] loss: 0.221\n",
            "[7,   100] loss: 0.231\n",
            "[7,   150] loss: 0.231\n",
            "[8,    50] loss: 0.190\n",
            "[8,   100] loss: 0.196\n",
            "[8,   150] loss: 0.200\n",
            "[9,    50] loss: 0.165\n",
            "[9,   100] loss: 0.183\n",
            "[9,   150] loss: 0.184\n",
            "[10,    50] loss: 0.139\n",
            "[10,   100] loss: 0.154\n",
            "[10,   150] loss: 0.161\n",
            "[11,    50] loss: 0.115\n",
            "[11,   100] loss: 0.125\n",
            "[11,   150] loss: 0.129\n",
            "[12,    50] loss: 0.109\n",
            "[12,   100] loss: 0.135\n",
            "[12,   150] loss: 0.123\n",
            "[13,    50] loss: 0.094\n",
            "[13,   100] loss: 0.112\n",
            "[13,   150] loss: 0.101\n",
            "[14,    50] loss: 0.081\n",
            "[14,   100] loss: 0.092\n",
            "[14,   150] loss: 0.093\n",
            "[15,    50] loss: 0.074\n",
            "[15,   100] loss: 0.076\n",
            "[15,   150] loss: 0.082\n",
            "[16,    50] loss: 0.052\n",
            "[16,   100] loss: 0.072\n",
            "[16,   150] loss: 0.070\n",
            "[17,    50] loss: 0.057\n",
            "[17,   100] loss: 0.053\n",
            "[17,   150] loss: 0.059\n",
            "[18,    50] loss: 0.050\n",
            "[18,   100] loss: 0.046\n",
            "[18,   150] loss: 0.052\n",
            "[19,    50] loss: 0.042\n",
            "[19,   100] loss: 0.053\n",
            "[19,   150] loss: 0.045\n",
            "[20,    50] loss: 0.039\n",
            "[20,   100] loss: 0.041\n",
            "[20,   150] loss: 0.047\n",
            "[21,    50] loss: 0.038\n",
            "[21,   100] loss: 0.036\n",
            "[21,   150] loss: 0.043\n",
            "[22,    50] loss: 0.036\n",
            "[22,   100] loss: 0.034\n",
            "[22,   150] loss: 0.034\n",
            "[23,    50] loss: 0.032\n",
            "[23,   100] loss: 0.025\n",
            "[23,   150] loss: 0.036\n",
            "[24,    50] loss: 0.037\n",
            "[24,   100] loss: 0.034\n",
            "[24,   150] loss: 0.032\n",
            "[25,    50] loss: 0.026\n",
            "[25,   100] loss: 0.022\n",
            "[25,   150] loss: 0.023\n",
            "[26,    50] loss: 0.022\n",
            "[26,   100] loss: 0.021\n",
            "[26,   150] loss: 0.019\n",
            "[27,    50] loss: 0.029\n",
            "[27,   100] loss: 0.019\n",
            "[27,   150] loss: 0.028\n",
            "[28,    50] loss: 0.019\n",
            "[28,   100] loss: 0.019\n",
            "[28,   150] loss: 0.020\n",
            "[29,    50] loss: 0.024\n",
            "[29,   100] loss: 0.017\n",
            "[29,   150] loss: 0.016\n",
            "[30,    50] loss: 0.014\n",
            "[30,   100] loss: 0.016\n",
            "[30,   150] loss: 0.021\n",
            "[31,    50] loss: 0.021\n",
            "[31,   100] loss: 0.019\n",
            "[31,   150] loss: 0.018\n",
            "[32,    50] loss: 0.012\n",
            "[32,   100] loss: 0.019\n",
            "[32,   150] loss: 0.017\n",
            "[33,    50] loss: 0.012\n",
            "[33,   100] loss: 0.014\n",
            "[33,   150] loss: 0.014\n",
            "[34,    50] loss: 0.013\n",
            "[34,   100] loss: 0.016\n",
            "[34,   150] loss: 0.020\n",
            "[35,    50] loss: 0.008\n",
            "[35,   100] loss: 0.015\n",
            "[35,   150] loss: 0.018\n",
            "[36,    50] loss: 0.015\n",
            "[36,   100] loss: 0.012\n",
            "[36,   150] loss: 0.008\n",
            "[37,    50] loss: 0.012\n",
            "[37,   100] loss: 0.010\n",
            "[37,   150] loss: 0.014\n",
            "[38,    50] loss: 0.014\n",
            "[38,   100] loss: 0.016\n",
            "[38,   150] loss: 0.011\n",
            "[39,    50] loss: 0.008\n",
            "[39,   100] loss: 0.009\n",
            "[39,   150] loss: 0.010\n",
            "[40,    50] loss: 0.009\n",
            "[40,   100] loss: 0.008\n",
            "[40,   150] loss: 0.011\n",
            "[41,    50] loss: 0.012\n",
            "[41,   100] loss: 0.010\n",
            "[41,   150] loss: 0.009\n",
            "[42,    50] loss: 0.012\n",
            "[42,   100] loss: 0.010\n",
            "[42,   150] loss: 0.010\n",
            "[43,    50] loss: 0.007\n",
            "[43,   100] loss: 0.009\n",
            "[43,   150] loss: 0.009\n",
            "[44,    50] loss: 0.010\n",
            "[44,   100] loss: 0.006\n",
            "[44,   150] loss: 0.010\n",
            "[45,    50] loss: 0.009\n",
            "[45,   100] loss: 0.011\n",
            "[45,   150] loss: 0.010\n",
            "[46,    50] loss: 0.009\n",
            "[46,   100] loss: 0.012\n",
            "[46,   150] loss: 0.009\n",
            "[47,    50] loss: 0.008\n",
            "[47,   100] loss: 0.004\n",
            "[47,   150] loss: 0.008\n",
            "[48,    50] loss: 0.007\n",
            "[48,   100] loss: 0.007\n",
            "[48,   150] loss: 0.008\n",
            "[49,    50] loss: 0.004\n",
            "[49,   100] loss: 0.006\n",
            "[49,   150] loss: 0.013\n",
            "[50,    50] loss: 0.008\n",
            "[50,   100] loss: 0.006\n",
            "[50,   150] loss: 0.008\n",
            "[51,    50] loss: 0.010\n",
            "[51,   100] loss: 0.010\n",
            "[51,   150] loss: 0.010\n",
            "[52,    50] loss: 0.008\n",
            "[52,   100] loss: 0.009\n",
            "[52,   150] loss: 0.008\n",
            "[53,    50] loss: 0.011\n",
            "[53,   100] loss: 0.010\n",
            "[53,   150] loss: 0.009\n",
            "[54,    50] loss: 0.007\n",
            "[54,   100] loss: 0.007\n",
            "[54,   150] loss: 0.006\n",
            "[55,    50] loss: 0.005\n",
            "[55,   100] loss: 0.006\n",
            "[55,   150] loss: 0.007\n",
            "[56,    50] loss: 0.006\n",
            "[56,   100] loss: 0.007\n",
            "[56,   150] loss: 0.006\n",
            "[57,    50] loss: 0.008\n",
            "[57,   100] loss: 0.005\n",
            "[57,   150] loss: 0.009\n",
            "[58,    50] loss: 0.009\n",
            "[58,   100] loss: 0.007\n",
            "[58,   150] loss: 0.005\n",
            "[59,    50] loss: 0.005\n",
            "[59,   100] loss: 0.006\n",
            "[59,   150] loss: 0.006\n",
            "[60,    50] loss: 0.005\n",
            "[60,   100] loss: 0.005\n",
            "[60,   150] loss: 0.004\n",
            "[61,    50] loss: 0.003\n",
            "[61,   100] loss: 0.005\n",
            "[61,   150] loss: 0.004\n",
            "[62,    50] loss: 0.009\n",
            "[62,   100] loss: 0.006\n",
            "[62,   150] loss: 0.005\n",
            "[63,    50] loss: 0.004\n",
            "[63,   100] loss: 0.003\n",
            "[63,   150] loss: 0.003\n",
            "[64,    50] loss: 0.008\n",
            "[64,   100] loss: 0.008\n",
            "[64,   150] loss: 0.007\n",
            "[65,    50] loss: 0.004\n",
            "[65,   100] loss: 0.004\n",
            "[65,   150] loss: 0.004\n",
            "[66,    50] loss: 0.003\n",
            "[66,   100] loss: 0.003\n",
            "[66,   150] loss: 0.005\n",
            "[67,    50] loss: 0.003\n",
            "[67,   100] loss: 0.003\n",
            "[67,   150] loss: 0.006\n",
            "[68,    50] loss: 0.004\n",
            "[68,   100] loss: 0.003\n",
            "[68,   150] loss: 0.004\n",
            "[69,    50] loss: 0.005\n",
            "[69,   100] loss: 0.005\n",
            "[69,   150] loss: 0.005\n",
            "[70,    50] loss: 0.004\n",
            "[70,   100] loss: 0.006\n",
            "[70,   150] loss: 0.006\n",
            "[71,    50] loss: 0.006\n",
            "[71,   100] loss: 0.004\n",
            "[71,   150] loss: 0.004\n",
            "[72,    50] loss: 0.004\n",
            "[72,   100] loss: 0.006\n",
            "[72,   150] loss: 0.007\n",
            "[73,    50] loss: 0.003\n",
            "[73,   100] loss: 0.002\n",
            "[73,   150] loss: 0.003\n",
            "Finished Training\n"
          ],
          "name": "stdout"
        }
      ]
    },
    {
      "cell_type": "code",
      "metadata": {
        "id": "WIAJ3UZN8rPE",
        "colab_type": "code",
        "colab": {}
      },
      "source": [
        "torch.save(where_net.state_dict(),\"/content/drive/My Drive/Research/Cheating_data/Focus_net_weights/focus_net_6layer_cnn\"+\".pt\")"
      ],
      "execution_count": null,
      "outputs": []
    },
    {
      "cell_type": "code",
      "metadata": {
        "id": "an7qmNLB-Ilb",
        "colab_type": "code",
        "colab": {
          "base_uri": "https://localhost:8080/",
          "height": 53
        },
        "outputId": "a187b37d-e7c1-4dc9-a9d5-9913947d8ac7"
      },
      "source": [
        "correct = 0\n",
        "total = 0\n",
        "with torch.no_grad():\n",
        "    for data in trainloader:\n",
        "        images, labels = data\n",
        "        images, labels = images.to(\"cuda\"), labels.to(\"cuda\")\n",
        "        outputs = where_net(images)\n",
        "        _, predicted = torch.max(outputs.data, 1)\n",
        "        total += labels.size(0)\n",
        "        correct += (predicted == labels).sum().item()\n",
        "\n",
        "print('Accuracy of the network on the %d train images: %d %%' % (total,  100 * correct / total))\n",
        "print(total,correct)"
      ],
      "execution_count": null,
      "outputs": [
        {
          "output_type": "stream",
          "text": [
            "Accuracy of the network on the 50000 train images: 99 %\n",
            "50000 49982\n"
          ],
          "name": "stdout"
        }
      ]
    },
    {
      "cell_type": "code",
      "metadata": {
        "id": "3WqTm-aW-TGU",
        "colab_type": "code",
        "colab": {
          "base_uri": "https://localhost:8080/",
          "height": 53
        },
        "outputId": "086f68e4-5d15-47de-e2b8-c6517d358edb"
      },
      "source": [
        "correct = 0\n",
        "total = 0\n",
        "out = []\n",
        "pred = []\n",
        "where_net.eval()\n",
        "with torch.no_grad():\n",
        "    for data in testloader:\n",
        "        images, labels = data\n",
        "        images, labels = images.to(\"cuda\"),labels.to(\"cuda\")\n",
        "        out.append(labels.cpu().numpy())\n",
        "        outputs= where_net(images)\n",
        "        _, predicted = torch.max(outputs.data, 1)\n",
        "        pred.append(predicted.cpu().numpy())\n",
        "        total += labels.size(0)\n",
        "        correct += (predicted == labels).sum().item()\n",
        "\n",
        "print('Accuracy of the network on the 10000 test images: %d %%' % ( 100 * correct / total))\n",
        "print(total,correct)"
      ],
      "execution_count": null,
      "outputs": [
        {
          "output_type": "stream",
          "text": [
            "Accuracy of the network on the 10000 test images: 89 %\n",
            "10000 8978\n"
          ],
          "name": "stdout"
        }
      ]
    },
    {
      "cell_type": "code",
      "metadata": {
        "id": "oQ1yPyXRBNT4",
        "colab_type": "code",
        "colab": {}
      },
      "source": [
        ""
      ],
      "execution_count": null,
      "outputs": []
    }
  ]
}