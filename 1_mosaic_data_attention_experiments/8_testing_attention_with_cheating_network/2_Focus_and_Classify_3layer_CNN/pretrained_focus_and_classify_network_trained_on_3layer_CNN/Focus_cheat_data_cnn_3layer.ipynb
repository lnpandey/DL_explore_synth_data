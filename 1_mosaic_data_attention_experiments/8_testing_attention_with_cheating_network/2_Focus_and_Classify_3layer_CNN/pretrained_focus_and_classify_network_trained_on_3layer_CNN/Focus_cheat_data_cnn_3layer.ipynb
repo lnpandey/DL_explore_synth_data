{
  "nbformat": 4,
  "nbformat_minor": 0,
  "metadata": {
    "accelerator": "GPU",
    "colab": {
      "name": "Focus_cheat_data_cnn.ipynb",
      "provenance": [],
      "collapsed_sections": [],
      "machine_shape": "hm"
    },
    "kernelspec": {
      "display_name": "Python 3",
      "language": "python",
      "name": "python3"
    },
    "language_info": {
      "codemirror_mode": {
        "name": "ipython",
        "version": 3
      },
      "file_extension": ".py",
      "mimetype": "text/x-python",
      "name": "python",
      "nbconvert_exporter": "python",
      "pygments_lexer": "ipython3",
      "version": "3.6.5"
    }
  },
  "cells": [
    {
      "cell_type": "code",
      "metadata": {
        "colab_type": "code",
        "id": "JSjG64ra4aFu",
        "colab": {
          "base_uri": "https://localhost:8080/",
          "height": 35
        },
        "outputId": "4730aedc-cecb-4896-c1e0-3c3f67e00b95"
      },
      "source": [
        "from google.colab import drive\n",
        "drive.mount('/content/drive')"
      ],
      "execution_count": 1,
      "outputs": [
        {
          "output_type": "stream",
          "text": [
            "Drive already mounted at /content/drive; to attempt to forcibly remount, call drive.mount(\"/content/drive\", force_remount=True).\n"
          ],
          "name": "stdout"
        }
      ]
    },
    {
      "cell_type": "code",
      "metadata": {
        "colab_type": "code",
        "id": "V8-7SARDZErK",
        "colab": {}
      },
      "source": [
        "import torch.nn as nn\n",
        "import torch.nn.functional as F\n",
        "\n",
        "import pandas as pd\n",
        "import numpy as np\n",
        "import matplotlib.pyplot as plt\n",
        "\n",
        "import torch\n",
        "import torchvision\n",
        "import torchvision.transforms as transforms\n",
        "from torch.utils.data import Dataset, DataLoader\n",
        "from torchvision import transforms, utils\n",
        "\n",
        "from matplotlib import pyplot as plt\n",
        "\n",
        "import copy\n",
        "\n",
        "# Ignore warnings\n",
        "import warnings\n",
        "warnings.filterwarnings(\"ignore\")\n"
      ],
      "execution_count": 2,
      "outputs": []
    },
    {
      "cell_type": "code",
      "metadata": {
        "colab_type": "code",
        "id": "acRFqJNrZErV",
        "colab": {
          "base_uri": "https://localhost:8080/",
          "height": 53
        },
        "outputId": "de8d6794-c9db-4f9d-be6e-3fb808d73511"
      },
      "source": [
        "transform = transforms.Compose(\n",
        "    [transforms.ToTensor(),\n",
        "     transforms.Normalize((0.5, 0.5, 0.5), (0.5, 0.5, 0.5))])\n",
        "\n",
        "trainset = torchvision.datasets.CIFAR10(root='./data', train=True, download=True, transform=transform)\n",
        "\n",
        "\n",
        "testset = torchvision.datasets.CIFAR10(root='./data', train=False, download=True, transform=transform)\n"
      ],
      "execution_count": 3,
      "outputs": [
        {
          "output_type": "stream",
          "text": [
            "Files already downloaded and verified\n",
            "Files already downloaded and verified\n"
          ],
          "name": "stdout"
        }
      ]
    },
    {
      "cell_type": "code",
      "metadata": {
        "id": "Ip_hgswQOHeX",
        "colab_type": "code",
        "colab": {
          "base_uri": "https://localhost:8080/",
          "height": 35
        },
        "outputId": "9d09847a-0fbf-42c1-99d9-cf065ece4031"
      },
      "source": [
        "type(trainset.targets)\n",
        "type(trainset.data)"
      ],
      "execution_count": 4,
      "outputs": [
        {
          "output_type": "execute_result",
          "data": {
            "text/plain": [
              "numpy.ndarray"
            ]
          },
          "metadata": {
            "tags": []
          },
          "execution_count": 4
        }
      ]
    },
    {
      "cell_type": "code",
      "metadata": {
        "id": "gh5DXuAV1tp5",
        "colab_type": "code",
        "colab": {}
      },
      "source": [
        "# trainloader = torch.utils.data.DataLoader(trainset, batch_size=10, shuffle=True)\n",
        "# testloader = torch.utils.data.DataLoader(testset, batch_size=10, shuffle=False)\n",
        "\n",
        "\n",
        "classes = ('plane', 'car', 'bird', 'cat', 'deer', 'dog', 'frog', 'horse', 'ship', 'truck')\n",
        "\n",
        "foreground_classes = {'plane', 'car', 'bird'}\n",
        "\n",
        "background_classes = {'cat', 'deer', 'dog', 'frog', 'horse','ship', 'truck'}\n",
        "\n",
        "fg1,fg2,fg3 = 0,1,2"
      ],
      "execution_count": 5,
      "outputs": []
    },
    {
      "cell_type": "code",
      "metadata": {
        "colab_type": "code",
        "id": "V_JUhwCeZErk",
        "colab": {
          "base_uri": "https://localhost:8080/",
          "height": 35
        },
        "outputId": "492ebb2b-bbff-4cd8-a5f2-2f51ca094064"
      },
      "source": [
        "is_fg = [np.where(np.array(trainset.targets)==fg1)[0] , np.where(np.array(trainset.targets)==fg2)[0], np.where(np.array(trainset.targets)==fg3)[0]  ]\n",
        "# print(is_fg)\n",
        "is_fg = np.concatenate(is_fg,axis=0)\n",
        "print(is_fg, (is_fg).shape)"
      ],
      "execution_count": 6,
      "outputs": [
        {
          "output_type": "stream",
          "text": [
            "[   29    30    35 ... 49987 49991 49995] (15000,)\n"
          ],
          "name": "stdout"
        }
      ]
    },
    {
      "cell_type": "code",
      "metadata": {
        "id": "uW9MkktGysAp",
        "colab_type": "code",
        "colab": {
          "base_uri": "https://localhost:8080/",
          "height": 35
        },
        "outputId": "f7b24ece-77e5-4eb9-cbdd-ca5ac17cebc2"
      },
      "source": [
        "all_index = np.arange(0,50000)\n",
        "all_index"
      ],
      "execution_count": 7,
      "outputs": [
        {
          "output_type": "execute_result",
          "data": {
            "text/plain": [
              "array([    0,     1,     2, ..., 49997, 49998, 49999])"
            ]
          },
          "metadata": {
            "tags": []
          },
          "execution_count": 7
        }
      ]
    },
    {
      "cell_type": "code",
      "metadata": {
        "id": "lWxkp87fNwnM",
        "colab_type": "code",
        "colab": {
          "base_uri": "https://localhost:8080/",
          "height": 35
        },
        "outputId": "9721dbcc-8f75-4836-f661-dc8ea366766b"
      },
      "source": [
        "train_labels = np.array(trainset.targets)\n",
        "train_labels.shape"
      ],
      "execution_count": 8,
      "outputs": [
        {
          "output_type": "execute_result",
          "data": {
            "text/plain": [
              "(50000,)"
            ]
          },
          "metadata": {
            "tags": []
          },
          "execution_count": 8
        }
      ]
    },
    {
      "cell_type": "code",
      "metadata": {
        "id": "AJuGak6_zXgx",
        "colab_type": "code",
        "colab": {
          "base_uri": "https://localhost:8080/",
          "height": 35
        },
        "outputId": "cce2c0cb-97ad-4479-e4be-4c41a7bca19a"
      },
      "source": [
        "train_labels[is_fg]=1\n",
        "train_labels[list(set(all_index)-set(is_fg))]=0\n",
        "train_labels"
      ],
      "execution_count": 9,
      "outputs": [
        {
          "output_type": "execute_result",
          "data": {
            "text/plain": [
              "array([0, 0, 0, ..., 0, 1, 1])"
            ]
          },
          "metadata": {
            "tags": []
          },
          "execution_count": 9
        }
      ]
    },
    {
      "cell_type": "code",
      "metadata": {
        "id": "IPvRxLk4zmXB",
        "colab_type": "code",
        "colab": {
          "base_uri": "https://localhost:8080/",
          "height": 35
        },
        "outputId": "283cfc07-f174-4fb5-9481-a6e7c4c937c5"
      },
      "source": [
        "np.count_nonzero(train_labels)"
      ],
      "execution_count": 10,
      "outputs": [
        {
          "output_type": "execute_result",
          "data": {
            "text/plain": [
              "15000"
            ]
          },
          "metadata": {
            "tags": []
          },
          "execution_count": 10
        }
      ]
    },
    {
      "cell_type": "code",
      "metadata": {
        "id": "II4R1Q2szwg9",
        "colab_type": "code",
        "colab": {}
      },
      "source": [
        "trainset.targets = train_labels"
      ],
      "execution_count": 11,
      "outputs": []
    },
    {
      "cell_type": "code",
      "metadata": {
        "colab_type": "code",
        "id": "ywcNP5ur2Btv",
        "colab": {
          "base_uri": "https://localhost:8080/",
          "height": 35
        },
        "outputId": "174a821b-f1ab-4737-8100-53da6f685471"
      },
      "source": [
        "is_fg = [np.where(np.array(testset.targets)==fg1)[0] , np.where(np.array(testset.targets)==fg2)[0], np.where(np.array(testset.targets)==fg3)[0]  ]\n",
        "# print(is_fg)\n",
        "is_fg = np.concatenate(is_fg,axis=0)\n",
        "print(is_fg, (is_fg).shape)"
      ],
      "execution_count": 12,
      "outputs": [
        {
          "output_type": "stream",
          "text": [
            "[   3   10   21 ... 9970 9982 9989] (3000,)\n"
          ],
          "name": "stdout"
        }
      ]
    },
    {
      "cell_type": "code",
      "metadata": {
        "colab_type": "code",
        "id": "9jv5cZS_2BuK",
        "colab": {
          "base_uri": "https://localhost:8080/",
          "height": 35
        },
        "outputId": "3f3e4411-91e9-46e9-a8b4-e8d8e6453356"
      },
      "source": [
        "all_index = np.arange(0,10000)\n",
        "all_index"
      ],
      "execution_count": 13,
      "outputs": [
        {
          "output_type": "execute_result",
          "data": {
            "text/plain": [
              "array([   0,    1,    2, ..., 9997, 9998, 9999])"
            ]
          },
          "metadata": {
            "tags": []
          },
          "execution_count": 13
        }
      ]
    },
    {
      "cell_type": "code",
      "metadata": {
        "colab_type": "code",
        "id": "Cea4-tjj2BuV",
        "colab": {
          "base_uri": "https://localhost:8080/",
          "height": 35
        },
        "outputId": "27316ad1-ad93-4413-a5fc-7b3497b55e7d"
      },
      "source": [
        "test_labels = np.array(testset.targets)\n",
        "test_labels.shape"
      ],
      "execution_count": 14,
      "outputs": [
        {
          "output_type": "execute_result",
          "data": {
            "text/plain": [
              "(10000,)"
            ]
          },
          "metadata": {
            "tags": []
          },
          "execution_count": 14
        }
      ]
    },
    {
      "cell_type": "code",
      "metadata": {
        "colab_type": "code",
        "id": "oWEsGmB22Bue",
        "colab": {
          "base_uri": "https://localhost:8080/",
          "height": 35
        },
        "outputId": "115810dd-c720-4b3b-df6c-bbf03890b5e4"
      },
      "source": [
        "test_labels[is_fg]=1\n",
        "test_labels[list(set(all_index)-set(is_fg))]=0\n",
        "test_labels"
      ],
      "execution_count": 15,
      "outputs": [
        {
          "output_type": "execute_result",
          "data": {
            "text/plain": [
              "array([0, 0, 0, ..., 0, 1, 0])"
            ]
          },
          "metadata": {
            "tags": []
          },
          "execution_count": 15
        }
      ]
    },
    {
      "cell_type": "code",
      "metadata": {
        "colab_type": "code",
        "id": "qLcACXP42Buk",
        "colab": {
          "base_uri": "https://localhost:8080/",
          "height": 35
        },
        "outputId": "86573e3f-3736-4171-cfaf-9e4b55927166"
      },
      "source": [
        "np.count_nonzero(test_labels)"
      ],
      "execution_count": 16,
      "outputs": [
        {
          "output_type": "execute_result",
          "data": {
            "text/plain": [
              "3000"
            ]
          },
          "metadata": {
            "tags": []
          },
          "execution_count": 16
        }
      ]
    },
    {
      "cell_type": "code",
      "metadata": {
        "colab_type": "code",
        "id": "5XdsmsD12Bup",
        "colab": {}
      },
      "source": [
        "testset.targets = test_labels"
      ],
      "execution_count": 17,
      "outputs": []
    },
    {
      "cell_type": "code",
      "metadata": {
        "id": "EQOH55xR6INA",
        "colab_type": "code",
        "colab": {}
      },
      "source": [
        "trainloader = torch.utils.data.DataLoader(trainset, batch_size=256,shuffle=True)\n",
        "testloader = torch.utils.data.DataLoader(testset, batch_size=256,shuffle=False)"
      ],
      "execution_count": 18,
      "outputs": []
    },
    {
      "cell_type": "code",
      "metadata": {
        "id": "y07LTPCjhps7",
        "colab_type": "code",
        "colab": {}
      },
      "source": [
        "import torch.nn as nn\n",
        "import torch.nn.functional as F\n",
        "\n",
        "class CNN(nn.Module):\n",
        "  def __init__(self):\n",
        "    super(CNN, self).__init__()\n",
        "    self.conv1 = nn.Conv2d(in_channels=3, out_channels=32, kernel_size=3, padding=0)\n",
        "    self.pool = nn.MaxPool2d(2, 2)\n",
        "    self.conv2 = nn.Conv2d(in_channels=32, out_channels=64, kernel_size=3, padding=0)\n",
        "    self.conv3 = nn.Conv2d(in_channels=64, out_channels=64, kernel_size=3, padding=0)\n",
        "    self.fc1 = nn.Linear(1024, 512)\n",
        "    self.fc2 = nn.Linear(512, 64)\n",
        "    self.fc3 = nn.Linear(64, 10)\n",
        "    self.fc4 = nn.Linear(10,2)\n",
        "\n",
        "  def forward(self, x):\n",
        "    x = self.pool(F.relu(self.conv1(x)))\n",
        "    x = self.pool(F.relu(self.conv2(x)))\n",
        "    # print(x.shape)\n",
        "    x = (F.relu(self.conv3(x)))\n",
        "    x =  x.view(x.size(0), -1)\n",
        "    # print(x.shape)\n",
        "    x = F.relu(self.fc1(x))\n",
        "    x = F.relu(self.fc2(x))\n",
        "    x = F.relu(self.fc3(x))\n",
        "    x = self.fc4(x)\n",
        "    return x"
      ],
      "execution_count": 19,
      "outputs": []
    },
    {
      "cell_type": "code",
      "metadata": {
        "id": "1GvXR1zV5n4w",
        "colab_type": "code",
        "colab": {}
      },
      "source": [
        "where_net = CNN()#.double()\n",
        "where_net = where_net.to(\"cuda\")"
      ],
      "execution_count": 21,
      "outputs": []
    },
    {
      "cell_type": "code",
      "metadata": {
        "id": "yZob1uGT6fTM",
        "colab_type": "code",
        "colab": {
          "base_uri": "https://localhost:8080/",
          "height": 199
        },
        "outputId": "5a5599a3-e623-4c79-e51c-511a49e595f9"
      },
      "source": [
        "where_net"
      ],
      "execution_count": 22,
      "outputs": [
        {
          "output_type": "execute_result",
          "data": {
            "text/plain": [
              "CNN(\n",
              "  (conv1): Conv2d(3, 32, kernel_size=(3, 3), stride=(1, 1))\n",
              "  (pool): MaxPool2d(kernel_size=2, stride=2, padding=0, dilation=1, ceil_mode=False)\n",
              "  (conv2): Conv2d(32, 64, kernel_size=(3, 3), stride=(1, 1))\n",
              "  (conv3): Conv2d(64, 64, kernel_size=(3, 3), stride=(1, 1))\n",
              "  (fc1): Linear(in_features=1024, out_features=512, bias=True)\n",
              "  (fc2): Linear(in_features=512, out_features=64, bias=True)\n",
              "  (fc3): Linear(in_features=64, out_features=10, bias=True)\n",
              "  (fc4): Linear(in_features=10, out_features=2, bias=True)\n",
              ")"
            ]
          },
          "metadata": {
            "tags": []
          },
          "execution_count": 22
        }
      ]
    },
    {
      "cell_type": "code",
      "metadata": {
        "id": "n5g3geNJ5zEu",
        "colab_type": "code",
        "colab": {}
      },
      "source": [
        "import torch.optim as optim\n",
        "criterion_where = nn.CrossEntropyLoss()\n",
        "optimizer_where = optim.SGD(where_net.parameters(), lr=0.01, momentum=0.9)"
      ],
      "execution_count": 23,
      "outputs": []
    },
    {
      "cell_type": "code",
      "metadata": {
        "colab_type": "code",
        "id": "tFfAJZkcZEsY",
        "colab": {
          "base_uri": "https://localhost:8080/",
          "height": 1000
        },
        "outputId": "413bcdde-76e4-48de-dafc-dc5027fb3053"
      },
      "source": [
        "acti = []\n",
        "loss_curi = []\n",
        "epochs = 1000\n",
        "for epoch in range(epochs): # loop over the dataset multiple times\n",
        "    ep_lossi = []\n",
        "\n",
        "    running_loss = 0.0\n",
        "    for i, data in enumerate(trainloader, 0):\n",
        "        # get the inputs\n",
        "        inputs, labels = data\n",
        "        inputs, labels = inputs.to(\"cuda\"),labels.to(\"cuda\")\n",
        "\n",
        "        # zero the parameter gradients\n",
        "        optimizer_where.zero_grad()\n",
        "\n",
        "        # forward + backward + optimize\n",
        "        outputs = where_net(inputs)\n",
        "        loss = criterion_where(outputs, labels)\n",
        "        loss.backward()\n",
        "        optimizer_where.step()\n",
        "\n",
        "        # print statistics\n",
        "        running_loss += loss.item()\n",
        "        mini_batch = 50\n",
        "        if i % mini_batch == mini_batch-1:    # print every 50 mini-batches\n",
        "            print('[%d, %5d] loss: %.3f' %(epoch + 1, i + 1, running_loss / mini_batch))\n",
        "            ep_lossi.append(running_loss/mini_batch) # loss per minibatch\n",
        "            running_loss = 0.0\n",
        "            \n",
        "    if(np.mean(ep_lossi) <= 0.001):\n",
        "      break;\n",
        "    loss_curi.append(np.mean(ep_lossi))   #loss per epoch            \n",
        "\n",
        "print('Finished Training')"
      ],
      "execution_count": 24,
      "outputs": [
        {
          "output_type": "stream",
          "text": [
            "[1,    50] loss: 0.628\n",
            "[1,   100] loss: 0.617\n",
            "[1,   150] loss: 0.612\n",
            "[2,    50] loss: 0.611\n",
            "[2,   100] loss: 0.611\n",
            "[2,   150] loss: 0.608\n",
            "[3,    50] loss: 0.610\n",
            "[3,   100] loss: 0.610\n",
            "[3,   150] loss: 0.605\n",
            "[4,    50] loss: 0.591\n",
            "[4,   100] loss: 0.579\n",
            "[4,   150] loss: 0.584\n",
            "[5,    50] loss: 0.563\n",
            "[5,   100] loss: 0.540\n",
            "[5,   150] loss: 0.548\n",
            "[6,    50] loss: 0.512\n",
            "[6,   100] loss: 0.510\n",
            "[6,   150] loss: 0.505\n",
            "[7,    50] loss: 0.492\n",
            "[7,   100] loss: 0.484\n",
            "[7,   150] loss: 0.467\n",
            "[8,    50] loss: 0.469\n",
            "[8,   100] loss: 0.475\n",
            "[8,   150] loss: 0.447\n",
            "[9,    50] loss: 0.430\n",
            "[9,   100] loss: 0.431\n",
            "[9,   150] loss: 0.436\n",
            "[10,    50] loss: 0.411\n",
            "[10,   100] loss: 0.422\n",
            "[10,   150] loss: 0.406\n",
            "[11,    50] loss: 0.398\n",
            "[11,   100] loss: 0.391\n",
            "[11,   150] loss: 0.376\n",
            "[12,    50] loss: 0.368\n",
            "[12,   100] loss: 0.371\n",
            "[12,   150] loss: 0.358\n",
            "[13,    50] loss: 0.338\n",
            "[13,   100] loss: 0.343\n",
            "[13,   150] loss: 0.353\n",
            "[14,    50] loss: 0.332\n",
            "[14,   100] loss: 0.340\n",
            "[14,   150] loss: 0.323\n",
            "[15,    50] loss: 0.327\n",
            "[15,   100] loss: 0.312\n",
            "[15,   150] loss: 0.307\n",
            "[16,    50] loss: 0.284\n",
            "[16,   100] loss: 0.293\n",
            "[16,   150] loss: 0.303\n",
            "[17,    50] loss: 0.273\n",
            "[17,   100] loss: 0.284\n",
            "[17,   150] loss: 0.278\n",
            "[18,    50] loss: 0.261\n",
            "[18,   100] loss: 0.274\n",
            "[18,   150] loss: 0.276\n",
            "[19,    50] loss: 0.247\n",
            "[19,   100] loss: 0.255\n",
            "[19,   150] loss: 0.253\n",
            "[20,    50] loss: 0.246\n",
            "[20,   100] loss: 0.227\n",
            "[20,   150] loss: 0.240\n",
            "[21,    50] loss: 0.219\n",
            "[21,   100] loss: 0.234\n",
            "[21,   150] loss: 0.230\n",
            "[22,    50] loss: 0.195\n",
            "[22,   100] loss: 0.198\n",
            "[22,   150] loss: 0.235\n",
            "[23,    50] loss: 0.180\n",
            "[23,   100] loss: 0.192\n",
            "[23,   150] loss: 0.189\n",
            "[24,    50] loss: 0.174\n",
            "[24,   100] loss: 0.183\n",
            "[24,   150] loss: 0.184\n",
            "[25,    50] loss: 0.151\n",
            "[25,   100] loss: 0.165\n",
            "[25,   150] loss: 0.155\n",
            "[26,    50] loss: 0.135\n",
            "[26,   100] loss: 0.149\n",
            "[26,   150] loss: 0.153\n",
            "[27,    50] loss: 0.114\n",
            "[27,   100] loss: 0.128\n",
            "[27,   150] loss: 0.136\n",
            "[28,    50] loss: 0.103\n",
            "[28,   100] loss: 0.112\n",
            "[28,   150] loss: 0.118\n",
            "[29,    50] loss: 0.104\n",
            "[29,   100] loss: 0.098\n",
            "[29,   150] loss: 0.106\n",
            "[30,    50] loss: 0.086\n",
            "[30,   100] loss: 0.084\n",
            "[30,   150] loss: 0.088\n",
            "[31,    50] loss: 0.070\n",
            "[31,   100] loss: 0.071\n",
            "[31,   150] loss: 0.086\n",
            "[32,    50] loss: 0.052\n",
            "[32,   100] loss: 0.055\n",
            "[32,   150] loss: 0.082\n",
            "[33,    50] loss: 0.055\n",
            "[33,   100] loss: 0.048\n",
            "[33,   150] loss: 0.058\n",
            "[34,    50] loss: 0.054\n",
            "[34,   100] loss: 0.064\n",
            "[34,   150] loss: 0.060\n",
            "[35,    50] loss: 0.063\n",
            "[35,   100] loss: 0.039\n",
            "[35,   150] loss: 0.048\n",
            "[36,    50] loss: 0.043\n",
            "[36,   100] loss: 0.041\n",
            "[36,   150] loss: 0.040\n",
            "[37,    50] loss: 0.047\n",
            "[37,   100] loss: 0.033\n",
            "[37,   150] loss: 0.037\n",
            "[38,    50] loss: 0.035\n",
            "[38,   100] loss: 0.029\n",
            "[38,   150] loss: 0.027\n",
            "[39,    50] loss: 0.026\n",
            "[39,   100] loss: 0.031\n",
            "[39,   150] loss: 0.031\n",
            "[40,    50] loss: 0.019\n",
            "[40,   100] loss: 0.027\n",
            "[40,   150] loss: 0.027\n",
            "[41,    50] loss: 0.032\n",
            "[41,   100] loss: 0.041\n",
            "[41,   150] loss: 0.027\n",
            "[42,    50] loss: 0.035\n",
            "[42,   100] loss: 0.027\n",
            "[42,   150] loss: 0.025\n",
            "[43,    50] loss: 0.020\n",
            "[43,   100] loss: 0.022\n",
            "[43,   150] loss: 0.021\n",
            "[44,    50] loss: 0.015\n",
            "[44,   100] loss: 0.012\n",
            "[44,   150] loss: 0.019\n",
            "[45,    50] loss: 0.016\n",
            "[45,   100] loss: 0.013\n",
            "[45,   150] loss: 0.013\n",
            "[46,    50] loss: 0.023\n",
            "[46,   100] loss: 0.026\n",
            "[46,   150] loss: 0.028\n",
            "[47,    50] loss: 0.012\n",
            "[47,   100] loss: 0.014\n",
            "[47,   150] loss: 0.017\n",
            "[48,    50] loss: 0.016\n",
            "[48,   100] loss: 0.016\n",
            "[48,   150] loss: 0.018\n",
            "[49,    50] loss: 0.032\n",
            "[49,   100] loss: 0.027\n",
            "[49,   150] loss: 0.016\n",
            "[50,    50] loss: 0.010\n",
            "[50,   100] loss: 0.005\n",
            "[50,   150] loss: 0.004\n",
            "[51,    50] loss: 0.008\n",
            "[51,   100] loss: 0.015\n",
            "[51,   150] loss: 0.012\n",
            "[52,    50] loss: 0.014\n",
            "[52,   100] loss: 0.025\n",
            "[52,   150] loss: 0.027\n",
            "[53,    50] loss: 0.018\n",
            "[53,   100] loss: 0.014\n",
            "[53,   150] loss: 0.014\n",
            "[54,    50] loss: 0.011\n",
            "[54,   100] loss: 0.004\n",
            "[54,   150] loss: 0.004\n",
            "[55,    50] loss: 0.008\n",
            "[55,   100] loss: 0.007\n",
            "[55,   150] loss: 0.006\n",
            "[56,    50] loss: 0.001\n",
            "[56,   100] loss: 0.001\n",
            "[56,   150] loss: 0.000\n",
            "Finished Training\n"
          ],
          "name": "stdout"
        }
      ]
    },
    {
      "cell_type": "code",
      "metadata": {
        "id": "WIAJ3UZN8rPE",
        "colab_type": "code",
        "colab": {}
      },
      "source": [
        "torch.save(where_net.state_dict(),\"/content/drive/My Drive/Research/Cheating_data/Focus_net_weights/focus_net_3layer_cnn.pt\")"
      ],
      "execution_count": 28,
      "outputs": []
    },
    {
      "cell_type": "code",
      "metadata": {
        "id": "an7qmNLB-Ilb",
        "colab_type": "code",
        "colab": {
          "base_uri": "https://localhost:8080/",
          "height": 53
        },
        "outputId": "a66fd844-977f-483a-e2d8-3dd3cd1b5b78"
      },
      "source": [
        "correct = 0\n",
        "total = 0\n",
        "with torch.no_grad():\n",
        "    for data in trainloader:\n",
        "        images, labels = data\n",
        "        images, labels = images.to(\"cuda\"), labels.to(\"cuda\")\n",
        "        outputs = where_net(images)\n",
        "        _, predicted = torch.max(outputs.data, 1)\n",
        "        total += labels.size(0)\n",
        "        correct += (predicted == labels).sum().item()\n",
        "\n",
        "print('Accuracy of the network on the %d train images: %d %%' % (total,  100 * correct / total))\n",
        "print(total,correct)"
      ],
      "execution_count": 26,
      "outputs": [
        {
          "output_type": "stream",
          "text": [
            "Accuracy of the network on the 50000 train images: 100 %\n",
            "50000 50000\n"
          ],
          "name": "stdout"
        }
      ]
    },
    {
      "cell_type": "code",
      "metadata": {
        "id": "3WqTm-aW-TGU",
        "colab_type": "code",
        "colab": {
          "base_uri": "https://localhost:8080/",
          "height": 53
        },
        "outputId": "4337361b-4201-4d6f-d5a8-08695a504cfd"
      },
      "source": [
        "correct = 0\n",
        "total = 0\n",
        "out = []\n",
        "pred = []\n",
        "with torch.no_grad():\n",
        "    for data in testloader:\n",
        "        images, labels = data\n",
        "        images, labels = images.to(\"cuda\"),labels.to(\"cuda\")\n",
        "        out.append(labels.cpu().numpy())\n",
        "        outputs= where_net(images)\n",
        "        _, predicted = torch.max(outputs.data, 1)\n",
        "        pred.append(predicted.cpu().numpy())\n",
        "        total += labels.size(0)\n",
        "        correct += (predicted == labels).sum().item()\n",
        "\n",
        "print('Accuracy of the network on the 10000 test images: %d %%' % ( 100 * correct / total))\n",
        "print(total,correct)"
      ],
      "execution_count": 27,
      "outputs": [
        {
          "output_type": "stream",
          "text": [
            "Accuracy of the network on the 10000 test images: 86 %\n",
            "10000 8696\n"
          ],
          "name": "stdout"
        }
      ]
    },
    {
      "cell_type": "code",
      "metadata": {
        "id": "oQ1yPyXRBNT4",
        "colab_type": "code",
        "colab": {}
      },
      "source": [
        ""
      ],
      "execution_count": null,
      "outputs": []
    }
  ]
}