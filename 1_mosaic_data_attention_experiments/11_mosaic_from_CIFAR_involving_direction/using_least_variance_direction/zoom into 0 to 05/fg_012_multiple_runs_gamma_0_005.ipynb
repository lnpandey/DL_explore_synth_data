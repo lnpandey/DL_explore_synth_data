{
  "nbformat": 4,
  "nbformat_minor": 0,
  "metadata": {
    "accelerator": "GPU",
    "colab": {
      "name": "fg_012_multiple_runs_gamma_0_005.ipynb",
      "provenance": [],
      "collapsed_sections": [],
      "machine_shape": "hm"
    },
    "kernelspec": {
      "display_name": "Python 3",
      "language": "python",
      "name": "python3"
    },
    "language_info": {
      "codemirror_mode": {
        "name": "ipython",
        "version": 3
      },
      "file_extension": ".py",
      "mimetype": "text/x-python",
      "name": "python",
      "nbconvert_exporter": "python",
      "pygments_lexer": "ipython3",
      "version": "3.6.5"
    },
    "widgets": {
      "application/vnd.jupyter.widget-state+json": {
        "a198acf2c11c4903a4bf86c4a4287047": {
          "model_module": "@jupyter-widgets/controls",
          "model_name": "HBoxModel",
          "state": {
            "_view_name": "HBoxView",
            "_dom_classes": [],
            "_model_name": "HBoxModel",
            "_view_module": "@jupyter-widgets/controls",
            "_model_module_version": "1.5.0",
            "_view_count": null,
            "_view_module_version": "1.5.0",
            "box_style": "",
            "layout": "IPY_MODEL_1cad9967a27b418788c1e147202aa55f",
            "_model_module": "@jupyter-widgets/controls",
            "children": [
              "IPY_MODEL_2c66e9b882284673845e4633141909b6",
              "IPY_MODEL_6cb4935d6de0426b92b2a707ea61b601"
            ]
          }
        },
        "1cad9967a27b418788c1e147202aa55f": {
          "model_module": "@jupyter-widgets/base",
          "model_name": "LayoutModel",
          "state": {
            "_view_name": "LayoutView",
            "grid_template_rows": null,
            "right": null,
            "justify_content": null,
            "_view_module": "@jupyter-widgets/base",
            "overflow": null,
            "_model_module_version": "1.2.0",
            "_view_count": null,
            "flex_flow": null,
            "width": null,
            "min_width": null,
            "border": null,
            "align_items": null,
            "bottom": null,
            "_model_module": "@jupyter-widgets/base",
            "top": null,
            "grid_column": null,
            "overflow_y": null,
            "overflow_x": null,
            "grid_auto_flow": null,
            "grid_area": null,
            "grid_template_columns": null,
            "flex": null,
            "_model_name": "LayoutModel",
            "justify_items": null,
            "grid_row": null,
            "max_height": null,
            "align_content": null,
            "visibility": null,
            "align_self": null,
            "height": null,
            "min_height": null,
            "padding": null,
            "grid_auto_rows": null,
            "grid_gap": null,
            "max_width": null,
            "order": null,
            "_view_module_version": "1.2.0",
            "grid_template_areas": null,
            "object_position": null,
            "object_fit": null,
            "grid_auto_columns": null,
            "margin": null,
            "display": null,
            "left": null
          }
        },
        "2c66e9b882284673845e4633141909b6": {
          "model_module": "@jupyter-widgets/controls",
          "model_name": "FloatProgressModel",
          "state": {
            "_view_name": "ProgressView",
            "style": "IPY_MODEL_b708d52d4aa94991a61fc1ea46dd0789",
            "_dom_classes": [],
            "description": "",
            "_model_name": "FloatProgressModel",
            "bar_style": "success",
            "max": 1,
            "_view_module": "@jupyter-widgets/controls",
            "_model_module_version": "1.5.0",
            "value": 1,
            "_view_count": null,
            "_view_module_version": "1.5.0",
            "orientation": "horizontal",
            "min": 0,
            "description_tooltip": null,
            "_model_module": "@jupyter-widgets/controls",
            "layout": "IPY_MODEL_fb99ba808d2a4d8e84e4c2c77ae981fe"
          }
        },
        "6cb4935d6de0426b92b2a707ea61b601": {
          "model_module": "@jupyter-widgets/controls",
          "model_name": "HTMLModel",
          "state": {
            "_view_name": "HTMLView",
            "style": "IPY_MODEL_0595d46ed65b4f508cb2f6f99f703946",
            "_dom_classes": [],
            "description": "",
            "_model_name": "HTMLModel",
            "placeholder": "​",
            "_view_module": "@jupyter-widgets/controls",
            "_model_module_version": "1.5.0",
            "value": " 170500096/? [00:06&lt;00:00, 24881160.34it/s]",
            "_view_count": null,
            "_view_module_version": "1.5.0",
            "description_tooltip": null,
            "_model_module": "@jupyter-widgets/controls",
            "layout": "IPY_MODEL_df6bd9c5335744c2aaf1771137a04b11"
          }
        },
        "b708d52d4aa94991a61fc1ea46dd0789": {
          "model_module": "@jupyter-widgets/controls",
          "model_name": "ProgressStyleModel",
          "state": {
            "_view_name": "StyleView",
            "_model_name": "ProgressStyleModel",
            "description_width": "initial",
            "_view_module": "@jupyter-widgets/base",
            "_model_module_version": "1.5.0",
            "_view_count": null,
            "_view_module_version": "1.2.0",
            "bar_color": null,
            "_model_module": "@jupyter-widgets/controls"
          }
        },
        "fb99ba808d2a4d8e84e4c2c77ae981fe": {
          "model_module": "@jupyter-widgets/base",
          "model_name": "LayoutModel",
          "state": {
            "_view_name": "LayoutView",
            "grid_template_rows": null,
            "right": null,
            "justify_content": null,
            "_view_module": "@jupyter-widgets/base",
            "overflow": null,
            "_model_module_version": "1.2.0",
            "_view_count": null,
            "flex_flow": null,
            "width": null,
            "min_width": null,
            "border": null,
            "align_items": null,
            "bottom": null,
            "_model_module": "@jupyter-widgets/base",
            "top": null,
            "grid_column": null,
            "overflow_y": null,
            "overflow_x": null,
            "grid_auto_flow": null,
            "grid_area": null,
            "grid_template_columns": null,
            "flex": null,
            "_model_name": "LayoutModel",
            "justify_items": null,
            "grid_row": null,
            "max_height": null,
            "align_content": null,
            "visibility": null,
            "align_self": null,
            "height": null,
            "min_height": null,
            "padding": null,
            "grid_auto_rows": null,
            "grid_gap": null,
            "max_width": null,
            "order": null,
            "_view_module_version": "1.2.0",
            "grid_template_areas": null,
            "object_position": null,
            "object_fit": null,
            "grid_auto_columns": null,
            "margin": null,
            "display": null,
            "left": null
          }
        },
        "0595d46ed65b4f508cb2f6f99f703946": {
          "model_module": "@jupyter-widgets/controls",
          "model_name": "DescriptionStyleModel",
          "state": {
            "_view_name": "StyleView",
            "_model_name": "DescriptionStyleModel",
            "description_width": "",
            "_view_module": "@jupyter-widgets/base",
            "_model_module_version": "1.5.0",
            "_view_count": null,
            "_view_module_version": "1.2.0",
            "_model_module": "@jupyter-widgets/controls"
          }
        },
        "df6bd9c5335744c2aaf1771137a04b11": {
          "model_module": "@jupyter-widgets/base",
          "model_name": "LayoutModel",
          "state": {
            "_view_name": "LayoutView",
            "grid_template_rows": null,
            "right": null,
            "justify_content": null,
            "_view_module": "@jupyter-widgets/base",
            "overflow": null,
            "_model_module_version": "1.2.0",
            "_view_count": null,
            "flex_flow": null,
            "width": null,
            "min_width": null,
            "border": null,
            "align_items": null,
            "bottom": null,
            "_model_module": "@jupyter-widgets/base",
            "top": null,
            "grid_column": null,
            "overflow_y": null,
            "overflow_x": null,
            "grid_auto_flow": null,
            "grid_area": null,
            "grid_template_columns": null,
            "flex": null,
            "_model_name": "LayoutModel",
            "justify_items": null,
            "grid_row": null,
            "max_height": null,
            "align_content": null,
            "visibility": null,
            "align_self": null,
            "height": null,
            "min_height": null,
            "padding": null,
            "grid_auto_rows": null,
            "grid_gap": null,
            "max_width": null,
            "order": null,
            "_view_module_version": "1.2.0",
            "grid_template_areas": null,
            "object_position": null,
            "object_fit": null,
            "grid_auto_columns": null,
            "margin": null,
            "display": null,
            "left": null
          }
        }
      }
    }
  },
  "cells": [
    {
      "cell_type": "code",
      "metadata": {
        "id": "JSjG64ra4aFu"
      },
      "source": [
        "# from google.colab import drive\n",
        "# drive.mount('/content/drive')"
      ],
      "execution_count": null,
      "outputs": []
    },
    {
      "cell_type": "code",
      "metadata": {
        "id": "V8-7SARDZErK"
      },
      "source": [
        "import torch.nn as nn\n",
        "import torch.nn.functional as F\n",
        "\n",
        "import pandas as pd\n",
        "import numpy as np\n",
        "import matplotlib.pyplot as plt\n",
        "\n",
        "import torch\n",
        "import torchvision\n",
        "import torchvision.transforms as transforms\n",
        "from torch.utils.data import Dataset, DataLoader\n",
        "from torchvision import transforms, utils\n",
        "\n",
        "from matplotlib import pyplot as plt\n",
        "import copy\n",
        "\n",
        "import random\n",
        "\n",
        "from numpy import linalg as LA\n",
        "from tabulate import tabulate\n",
        "# Ignore warnings\n",
        "import warnings\n",
        "warnings.filterwarnings(\"ignore\")\n"
      ],
      "execution_count": null,
      "outputs": []
    },
    {
      "cell_type": "code",
      "metadata": {
        "id": "acRFqJNrZErV",
        "outputId": "916a3bcf-c043-44c3-9371-66763cda92ad",
        "colab": {
          "base_uri": "https://localhost:8080/",
          "height": 105,
          "referenced_widgets": [
            "a198acf2c11c4903a4bf86c4a4287047",
            "1cad9967a27b418788c1e147202aa55f",
            "2c66e9b882284673845e4633141909b6",
            "6cb4935d6de0426b92b2a707ea61b601",
            "b708d52d4aa94991a61fc1ea46dd0789",
            "fb99ba808d2a4d8e84e4c2c77ae981fe",
            "0595d46ed65b4f508cb2f6f99f703946",
            "df6bd9c5335744c2aaf1771137a04b11"
          ]
        }
      },
      "source": [
        "transform = transforms.Compose(\n",
        "    [transforms.ToTensor(),\n",
        "     transforms.Normalize((0.5, 0.5, 0.5), (0.5, 0.5, 0.5))])\n",
        "\n",
        "trainset = torchvision.datasets.CIFAR10(root='./data', train=True, download=True, transform=transform)\n",
        "\n",
        "\n",
        "testset = torchvision.datasets.CIFAR10(root='./data', train=False, download=True, transform=transform)\n"
      ],
      "execution_count": null,
      "outputs": [
        {
          "output_type": "stream",
          "text": [
            "Downloading https://www.cs.toronto.edu/~kriz/cifar-10-python.tar.gz to ./data/cifar-10-python.tar.gz\n"
          ],
          "name": "stdout"
        },
        {
          "output_type": "display_data",
          "data": {
            "application/vnd.jupyter.widget-view+json": {
              "model_id": "a198acf2c11c4903a4bf86c4a4287047",
              "version_minor": 0,
              "version_major": 2
            },
            "text/plain": [
              "HBox(children=(FloatProgress(value=1.0, bar_style='info', max=1.0), HTML(value='')))"
            ]
          },
          "metadata": {
            "tags": []
          }
        },
        {
          "output_type": "stream",
          "text": [
            "Extracting ./data/cifar-10-python.tar.gz to ./data\n",
            "Files already downloaded and verified\n"
          ],
          "name": "stdout"
        }
      ]
    },
    {
      "cell_type": "code",
      "metadata": {
        "id": "FTBYzzX-fY2K"
      },
      "source": [
        "gamma = 0.005"
      ],
      "execution_count": null,
      "outputs": []
    },
    {
      "cell_type": "code",
      "metadata": {
        "id": "ygZ-VSs6j-hf",
        "outputId": "dc5c76ed-2c46-4c68-8c40-375719784f64",
        "colab": {
          "base_uri": "https://localhost:8080/",
          "height": 36
        }
      },
      "source": [
        "classes = ('plane', 'car', 'bird', 'cat', 'deer', 'dog', 'frog', 'horse', 'ship', 'truck')\n",
        "\n",
        "foreground_classes = {'plane', 'car', 'bird'}\n",
        "fg_used = '012'\n",
        "fg1, fg2, fg3 = 0,1,2\n",
        "\n",
        "\n",
        "all_classes = {'plane', 'car', 'bird', 'cat', 'deer', 'dog', 'frog', 'horse', 'ship', 'truck'}\n",
        "background_classes = all_classes - foreground_classes\n",
        "background_classes\n",
        "\n",
        "# print(type(foreground_classes))"
      ],
      "execution_count": null,
      "outputs": [
        {
          "output_type": "execute_result",
          "data": {
            "text/plain": [
              "{'cat', 'deer', 'dog', 'frog', 'horse', 'ship', 'truck'}"
            ]
          },
          "metadata": {
            "tags": []
          },
          "execution_count": 5
        }
      ]
    },
    {
      "cell_type": "code",
      "metadata": {
        "id": "oEPWuddXzu9f"
      },
      "source": [
        "trainloader = torch.utils.data.DataLoader(trainset, batch_size=10, shuffle=True)\n",
        "testloader = torch.utils.data.DataLoader(testset, batch_size=10, shuffle=False)\n"
      ],
      "execution_count": null,
      "outputs": []
    },
    {
      "cell_type": "code",
      "metadata": {
        "id": "n76MSJwHzu9p",
        "outputId": "a9a610a2-0137-40ba-b2dd-365f4a51dfa7",
        "colab": {
          "base_uri": "https://localhost:8080/",
          "height": 36
        }
      },
      "source": [
        "dataiter = iter(trainloader)\n",
        "true_train_background_data=[]\n",
        "true_train_background_label=[]\n",
        "true_train_foreground_data=[]\n",
        "true_train_foreground_label=[]\n",
        "batch_size=10\n",
        "\n",
        "for i in range(5000):\n",
        "  images, labels = dataiter.next()\n",
        "  for j in range(batch_size):\n",
        "    if(classes[labels[j]] in background_classes):\n",
        "      img = images[j].tolist()\n",
        "      true_train_background_data.append(img)\n",
        "      true_train_background_label.append(labels[j])\n",
        "    else:\n",
        "      img = images[j].tolist()\n",
        "      true_train_foreground_data.append(img)\n",
        "      true_train_foreground_label.append(labels[j])\n",
        "            \n",
        "true_train_foreground_data = torch.tensor(true_train_foreground_data)\n",
        "true_train_foreground_label = torch.tensor(true_train_foreground_label)\n",
        "true_train_background_data = torch.tensor(true_train_background_data)\n",
        "true_train_background_label = torch.tensor(true_train_background_label)\n",
        "    "
      ],
      "execution_count": null,
      "outputs": [
        {
          "output_type": "stream",
          "text": [
            "\n"
          ],
          "name": "stdout"
        }
      ]
    },
    {
      "cell_type": "code",
      "metadata": {
        "id": "NdYlcZPM2tmV",
        "outputId": "903fa12a-d576-48f5-9cf2-f5c5494b3865",
        "colab": {
          "base_uri": "https://localhost:8080/",
          "height": 36
        }
      },
      "source": [
        "len(true_train_foreground_data), len(true_train_foreground_label), len(true_train_background_data), len(true_train_background_label)"
      ],
      "execution_count": null,
      "outputs": [
        {
          "output_type": "execute_result",
          "data": {
            "text/plain": [
              "(15000, 15000, 35000, 35000)"
            ]
          },
          "metadata": {
            "tags": []
          },
          "execution_count": 8
        }
      ]
    },
    {
      "cell_type": "code",
      "metadata": {
        "id": "IgyumCe_0GMa"
      },
      "source": [
        "dataiter = iter(testloader)\n",
        "true_test_background_data=[]\n",
        "true_test_background_label=[]\n",
        "true_test_foreground_data=[]\n",
        "true_test_foreground_label=[]\n",
        "batch_size=10\n",
        "\n",
        "for i in range(1000):\n",
        "  images, labels = dataiter.next()\n",
        "  for j in range(batch_size):\n",
        "    if(classes[labels[j]] in background_classes):\n",
        "      img = images[j].tolist()\n",
        "      true_test_background_data.append(img)\n",
        "      true_test_background_label.append(labels[j])\n",
        "    else:\n",
        "      img = images[j].tolist()\n",
        "      true_test_foreground_data.append(img)\n",
        "      true_test_foreground_label.append(labels[j])\n",
        "            \n",
        "true_test_foreground_data = torch.tensor(true_test_foreground_data)\n",
        "true_test_foreground_label = torch.tensor(true_test_foreground_label)\n",
        "true_test_background_data = torch.tensor(true_test_background_data)\n",
        "true_test_background_label = torch.tensor(true_test_background_label)"
      ],
      "execution_count": null,
      "outputs": []
    },
    {
      "cell_type": "code",
      "metadata": {
        "id": "P07QyEjZ2_tH",
        "outputId": "53447fd1-5eac-40f0-fe5d-f69ce0a95853",
        "colab": {
          "base_uri": "https://localhost:8080/",
          "height": 36
        }
      },
      "source": [
        "len(true_test_foreground_data), len(true_test_foreground_label), len(true_test_background_data), len(true_test_background_label)"
      ],
      "execution_count": null,
      "outputs": [
        {
          "output_type": "execute_result",
          "data": {
            "text/plain": [
              "(3000, 3000, 7000, 7000)"
            ]
          },
          "metadata": {
            "tags": []
          },
          "execution_count": 10
        }
      ]
    },
    {
      "cell_type": "code",
      "metadata": {
        "id": "bzU_HuQnEB29"
      },
      "source": [
        "true_train = trainset.data"
      ],
      "execution_count": null,
      "outputs": []
    },
    {
      "cell_type": "code",
      "metadata": {
        "id": "FAR6Zt2QgMdf"
      },
      "source": [
        "train_label = trainset.targets"
      ],
      "execution_count": null,
      "outputs": []
    },
    {
      "cell_type": "code",
      "metadata": {
        "id": "JZ52v93i__q5"
      },
      "source": [
        "true_train_cifar_norm=[]\n",
        "for i in range(len(true_train)):\n",
        "  true_train_cifar_norm.append(LA.norm(true_train[i]))"
      ],
      "execution_count": null,
      "outputs": []
    },
    {
      "cell_type": "code",
      "metadata": {
        "id": "TbWNZhQvAWav",
        "outputId": "8891ccbe-efdf-4e12-b610-40ab40f714b9",
        "colab": {
          "base_uri": "https://localhost:8080/",
          "height": 36
        }
      },
      "source": [
        "len(true_train_cifar_norm)"
      ],
      "execution_count": null,
      "outputs": [
        {
          "output_type": "execute_result",
          "data": {
            "text/plain": [
              "50000"
            ]
          },
          "metadata": {
            "tags": []
          },
          "execution_count": 14
        }
      ]
    },
    {
      "cell_type": "code",
      "metadata": {
        "id": "Klrwlq-RBSdc"
      },
      "source": [
        "def plot_hist(values):\n",
        "  plt.hist(values, density=True, bins=200)  # `density=False` would make counts\n",
        "  plt.ylabel('NORM')\n",
        "  plt.xlabel('Data');"
      ],
      "execution_count": null,
      "outputs": []
    },
    {
      "cell_type": "code",
      "metadata": {
        "id": "w-saABjgAaFY",
        "outputId": "fab26ffc-04f5-43ca-9f05-9165e7dc089f",
        "colab": {
          "base_uri": "https://localhost:8080/",
          "height": 279
        }
      },
      "source": [
        "plot_hist(true_train_cifar_norm)"
      ],
      "execution_count": null,
      "outputs": [
        {
          "output_type": "display_data",
          "data": {
            "image/png": "[encoded data removed]",
            "text/plain": [
              "<Figure size 432x288 with 1 Axes>"
            ]
          },
          "metadata": {
            "tags": [],
            "needs_background": "light"
          }
        }
      ]
    },
    {
      "cell_type": "code",
      "metadata": {
        "id": "_USgDEwbMMKY",
        "outputId": "29be1459-7e04-4036-f605-077df9df7633",
        "colab": {
          "base_uri": "https://localhost:8080/",
          "height": 36
        }
      },
      "source": [
        "true_train.shape"
      ],
      "execution_count": null,
      "outputs": [
        {
          "output_type": "execute_result",
          "data": {
            "text/plain": [
              "(50000, 32, 32, 3)"
            ]
          },
          "metadata": {
            "tags": []
          },
          "execution_count": 17
        }
      ]
    },
    {
      "cell_type": "code",
      "metadata": {
        "id": "yi-39bYIMZOd",
        "outputId": "fb605b4e-3307-4539-eb21-19d3db6a52d2",
        "colab": {
          "base_uri": "https://localhost:8080/",
          "height": 36
        }
      },
      "source": [
        "train = np.reshape(true_train, (50000,3072))\n",
        "train.shape, true_train.shape"
      ],
      "execution_count": null,
      "outputs": [
        {
          "output_type": "execute_result",
          "data": {
            "text/plain": [
              "((50000, 3072), (50000, 32, 32, 3))"
            ]
          },
          "metadata": {
            "tags": []
          },
          "execution_count": 18
        }
      ]
    },
    {
      "cell_type": "code",
      "metadata": {
        "id": "3qMpDn-xMleE"
      },
      "source": [
        "u, s, vh = LA.svd(train, full_matrices= False)"
      ],
      "execution_count": null,
      "outputs": []
    },
    {
      "cell_type": "code",
      "metadata": {
        "id": "4o7zUUJJNavO",
        "outputId": "9249c1d0-c006-4974-ee4e-8ed7fb4ed70d",
        "colab": {
          "base_uri": "https://localhost:8080/",
          "height": 36
        }
      },
      "source": [
        "u.shape , s.shape, vh.shape"
      ],
      "execution_count": null,
      "outputs": [
        {
          "output_type": "execute_result",
          "data": {
            "text/plain": [
              "((50000, 3072), (3072,), (3072, 3072))"
            ]
          },
          "metadata": {
            "tags": []
          },
          "execution_count": 20
        }
      ]
    },
    {
      "cell_type": "code",
      "metadata": {
        "id": "ZRlhUgdqSPyx",
        "outputId": "0c787bc2-c7bb-43d2-9207-cdcda047dc16",
        "colab": {
          "base_uri": "https://localhost:8080/",
          "height": 54
        }
      },
      "source": [
        "s"
      ],
      "execution_count": null,
      "outputs": [
        {
          "output_type": "execute_result",
          "data": {
            "text/plain": [
              "array([1.55289927e+06, 2.82437414e+05, 2.17772149e+05, ...,\n",
              "       7.31736954e+01, 7.23349722e+01, 7.18349192e+01])"
            ]
          },
          "metadata": {
            "tags": []
          },
          "execution_count": 21
        }
      ]
    },
    {
      "cell_type": "code",
      "metadata": {
        "id": "h31rbKmqVnZW",
        "outputId": "02ead01b-0765-4bc6-f66c-8c3a5effc828",
        "colab": {
          "base_uri": "https://localhost:8080/",
          "height": 260
        }
      },
      "source": [
        "vh"
      ],
      "execution_count": null,
      "outputs": [
        {
          "output_type": "execute_result",
          "data": {
            "text/plain": [
              "array([[-0.01984194, -0.02066161, -0.02037075, ..., -0.01879724,\n",
              "        -0.01874038, -0.01729938],\n",
              "       [-0.02488245, -0.02705999, -0.03195926, ...,  0.01262528,\n",
              "         0.01096339,  0.00766722],\n",
              "       [-0.0159231 , -0.01437591, -0.01281541, ..., -0.02971411,\n",
              "        -0.0283376 , -0.02749635],\n",
              "       ...,\n",
              "       [-0.00449998,  0.00770844, -0.00281931, ..., -0.00013103,\n",
              "        -0.00080887,  0.00071151],\n",
              "       [ 0.00433324, -0.00629207,  0.00181791, ..., -0.00168695,\n",
              "         0.00131196,  0.00052667],\n",
              "       [-0.00574169,  0.00783184, -0.00186197, ...,  0.00511688,\n",
              "        -0.00678068,  0.00138508]])"
            ]
          },
          "metadata": {
            "tags": []
          },
          "execution_count": 22
        }
      ]
    },
    {
      "cell_type": "code",
      "metadata": {
        "id": "LruQuedyVs4i",
        "outputId": "59647525-cfda-4644-c372-3480d0e91a83",
        "colab": {
          "base_uri": "https://localhost:8080/",
          "height": 260
        }
      },
      "source": [
        "dir = vh[3062:3072,:]\n",
        "dir"
      ],
      "execution_count": null,
      "outputs": [
        {
          "output_type": "execute_result",
          "data": {
            "text/plain": [
              "array([[ 0.00256167, -0.00421648,  0.00171443, ..., -0.00214198,\n",
              "         0.0024008 , -0.00026442],\n",
              "       [ 0.00629867, -0.01114679,  0.00518054, ..., -0.00382077,\n",
              "         0.00504342, -0.00113716],\n",
              "       [-0.0022958 ,  0.0006672 ,  0.00141218, ..., -0.00062172,\n",
              "         0.00201576, -0.00146441],\n",
              "       ...,\n",
              "       [-0.00449998,  0.00770844, -0.00281931, ..., -0.00013103,\n",
              "        -0.00080887,  0.00071151],\n",
              "       [ 0.00433324, -0.00629207,  0.00181791, ..., -0.00168695,\n",
              "         0.00131196,  0.00052667],\n",
              "       [-0.00574169,  0.00783184, -0.00186197, ...,  0.00511688,\n",
              "        -0.00678068,  0.00138508]])"
            ]
          },
          "metadata": {
            "tags": []
          },
          "execution_count": 23
        }
      ]
    },
    {
      "cell_type": "code",
      "metadata": {
        "id": "m260DTW6V-Ka"
      },
      "source": [
        "u1 = dir[7,:]\n",
        "u2 = dir[8,:]\n",
        "u3 = dir[9,:]"
      ],
      "execution_count": null,
      "outputs": []
    },
    {
      "cell_type": "code",
      "metadata": {
        "id": "R9OuIGt4WzlK",
        "outputId": "2ee438c1-c003-409a-d7f9-a4d89318fca4",
        "colab": {
          "base_uri": "https://localhost:8080/",
          "height": 54
        }
      },
      "source": [
        "u1"
      ],
      "execution_count": null,
      "outputs": [
        {
          "output_type": "execute_result",
          "data": {
            "text/plain": [
              "array([-0.00449998,  0.00770844, -0.00281931, ..., -0.00013103,\n",
              "       -0.00080887,  0.00071151])"
            ]
          },
          "metadata": {
            "tags": []
          },
          "execution_count": 25
        }
      ]
    },
    {
      "cell_type": "code",
      "metadata": {
        "id": "gswdCEwMW1-o",
        "outputId": "3a77ac43-8a9a-4164-84f6-3c46ae3ad5fb",
        "colab": {
          "base_uri": "https://localhost:8080/",
          "height": 54
        }
      },
      "source": [
        "u2"
      ],
      "execution_count": null,
      "outputs": [
        {
          "output_type": "execute_result",
          "data": {
            "text/plain": [
              "array([ 0.00433324, -0.00629207,  0.00181791, ..., -0.00168695,\n",
              "        0.00131196,  0.00052667])"
            ]
          },
          "metadata": {
            "tags": []
          },
          "execution_count": 26
        }
      ]
    },
    {
      "cell_type": "code",
      "metadata": {
        "id": "_GcGDZp7W2g6",
        "outputId": "26ca2660-779c-461f-9762-fe55f12755c6",
        "colab": {
          "base_uri": "https://localhost:8080/",
          "height": 54
        }
      },
      "source": [
        "u3"
      ],
      "execution_count": null,
      "outputs": [
        {
          "output_type": "execute_result",
          "data": {
            "text/plain": [
              "array([-0.00574169,  0.00783184, -0.00186197, ...,  0.00511688,\n",
              "       -0.00678068,  0.00138508])"
            ]
          },
          "metadata": {
            "tags": []
          },
          "execution_count": 27
        }
      ]
    },
    {
      "cell_type": "code",
      "metadata": {
        "id": "c1ORV76hfd5u",
        "outputId": "e6ec8f11-cf61-4d22-ea57-e9a6cb274543",
        "colab": {
          "base_uri": "https://localhost:8080/",
          "height": 36
        }
      },
      "source": [
        "len(train_label)"
      ],
      "execution_count": null,
      "outputs": [
        {
          "output_type": "execute_result",
          "data": {
            "text/plain": [
              "50000"
            ]
          },
          "metadata": {
            "tags": []
          },
          "execution_count": 28
        }
      ]
    },
    {
      "cell_type": "code",
      "metadata": {
        "id": "PUuW5wxpH1_C"
      },
      "source": [
        "def is_equal(x1, x2):\n",
        "  cnt=0\n",
        "  for i in range(len(x1)):\n",
        "    if(x1[i] == x2[i]):\n",
        "      cnt+=1\n",
        "  return cnt"
      ],
      "execution_count": null,
      "outputs": []
    },
    {
      "cell_type": "code",
      "metadata": {
        "id": "A45Ln5fwgSOW"
      },
      "source": [
        "def add_noise_cifar(train, label, gamma, fg1,fg2,fg3):\n",
        "  cnt=0\n",
        "\n",
        "  for i in range(len(label)):\n",
        "    x = train[i]\n",
        "    if(label[i] == fg1):\n",
        "      train[i] = train[i] + gamma * LA.norm(train[i]) * u1\n",
        "      cnt+=1\n",
        "\n",
        "    if(label[i] == fg2):\n",
        "      train[i] = train[i] + gamma * LA.norm(train[i]) * u2\n",
        "      cnt+=1\n",
        "\n",
        "    if(label[i] == fg3):\n",
        "      train[i] = train[i] + gamma * LA.norm(train[i]) * u3\n",
        "      cnt+=1\n",
        "    y = train[i]\n",
        "\n",
        "  print(\"total modified\",cnt)\n",
        "\n",
        "  return train"
      ],
      "execution_count": null,
      "outputs": []
    },
    {
      "cell_type": "code",
      "metadata": {
        "id": "QESEKIv3EW8b",
        "outputId": "152368b2-1f63-4c5d-b791-0ccab53e7d33",
        "colab": {
          "base_uri": "https://localhost:8080/",
          "height": 316
        }
      },
      "source": [
        "noise_train = np.reshape(true_train, (50000,3072))\n",
        "noise_train = add_noise_cifar(noise_train, train_label, gamma , fg1,fg2,fg3)\n",
        "noise_train_cifar_norm=[]\n",
        "for i in range(len(noise_train)):\n",
        "  noise_train_cifar_norm.append(LA.norm(noise_train[i]))\n",
        "plt.hist(noise_train_cifar_norm, density=True, bins=200,label='gamma='+str(gamma))  # `density=False` would make counts\n",
        "plt.hist(true_train_cifar_norm, density=True, bins=200,label='true') \n",
        "plt.ylabel('NORM')\n",
        "plt.xlabel('Data')\n",
        "plt.legend()\n",
        "print(\"remain same\",is_equal(noise_train_cifar_norm,true_train_cifar_norm))"
      ],
      "execution_count": null,
      "outputs": [
        {
          "output_type": "stream",
          "text": [
            "total modified 15000\n",
            "remain same 35000\n"
          ],
          "name": "stdout"
        },
        {
          "output_type": "display_data",
          "data": {
            "image/png": "[encoded data removed]",
            "text/plain": [
              "<Figure size 432x288 with 1 Axes>"
            ]
          },
          "metadata": {
            "tags": [],
            "needs_background": "light"
          }
        }
      ]
    },
    {
      "cell_type": "code",
      "metadata": {
        "id": "Ko4htz117YVx",
        "outputId": "e4c8f376-952d-4496-c144-563f98dc6259",
        "colab": {
          "base_uri": "https://localhost:8080/",
          "height": 298
        }
      },
      "source": [
        "plt.hist(true_train_cifar_norm, density=True, bins=200,label='true') \n",
        "plt.ylabel('NORM')\n",
        "plt.xlabel('Data')\n",
        "plt.legend()"
      ],
      "execution_count": null,
      "outputs": [
        {
          "output_type": "execute_result",
          "data": {
            "text/plain": [
              "<matplotlib.legend.Legend at 0x7fddf31df8d0>"
            ]
          },
          "metadata": {
            "tags": []
          },
          "execution_count": 32
        },
        {
          "output_type": "display_data",
          "data": {
            "image/png": "[encoded data removed]",
            "text/plain": [
              "<Figure size 432x288 with 1 Axes>"
            ]
          },
          "metadata": {
            "tags": [],
            "needs_background": "light"
          }
        }
      ]
    },
    {
      "cell_type": "code",
      "metadata": {
        "id": "UiF_g59Y7iEC",
        "outputId": "6546e9ac-957f-4939-867c-79bad5192143",
        "colab": {
          "base_uri": "https://localhost:8080/",
          "height": 298
        }
      },
      "source": [
        "plt.hist(noise_train_cifar_norm, density=True, bins=200,label='gamma='+str(gamma))  # `density=False` would make counts\n",
        "# plt.hist(true_train_cifar_norm, density=True, bins=200,label='true') \n",
        "plt.ylabel('NORM')\n",
        "plt.xlabel('Data')\n",
        "plt.legend()"
      ],
      "execution_count": null,
      "outputs": [
        {
          "output_type": "execute_result",
          "data": {
            "text/plain": [
              "<matplotlib.legend.Legend at 0x7fddf31dfcf8>"
            ]
          },
          "metadata": {
            "tags": []
          },
          "execution_count": 33
        },
        {
          "output_type": "display_data",
          "data": {
            "image/png": "[encoded data removed]",
            "text/plain": [
              "<Figure size 432x288 with 1 Axes>"
            ]
          },
          "metadata": {
            "tags": [],
            "needs_background": "light"
          }
        }
      ]
    },
    {
      "cell_type": "code",
      "metadata": {
        "id": "BQDi-wiHhZt_",
        "outputId": "95cdc8cf-772c-4d0b-a970-cf611edf0d2d",
        "colab": {
          "base_uri": "https://localhost:8080/",
          "height": 36
        }
      },
      "source": [
        "noise_train.shape, trainset.data.shape"
      ],
      "execution_count": null,
      "outputs": [
        {
          "output_type": "execute_result",
          "data": {
            "text/plain": [
              "((50000, 3072), (50000, 32, 32, 3))"
            ]
          },
          "metadata": {
            "tags": []
          },
          "execution_count": 34
        }
      ]
    },
    {
      "cell_type": "code",
      "metadata": {
        "id": "As5AyKIUjhgA",
        "outputId": "95a84436-0516-4627-9066-ae7e0ae914aa",
        "colab": {
          "base_uri": "https://localhost:8080/",
          "height": 36
        }
      },
      "source": [
        "noise_train = np.reshape(noise_train, (50000,32, 32, 3))\n",
        "noise_train.shape"
      ],
      "execution_count": null,
      "outputs": [
        {
          "output_type": "execute_result",
          "data": {
            "text/plain": [
              "(50000, 32, 32, 3)"
            ]
          },
          "metadata": {
            "tags": []
          },
          "execution_count": 35
        }
      ]
    },
    {
      "cell_type": "code",
      "metadata": {
        "id": "Ncd6Cbc2j1jH"
      },
      "source": [
        "trainset.data = noise_train"
      ],
      "execution_count": null,
      "outputs": []
    },
    {
      "cell_type": "code",
      "metadata": {
        "id": "tEhyHO5VYHG5"
      },
      "source": [
        "true_test = testset.data"
      ],
      "execution_count": null,
      "outputs": []
    },
    {
      "cell_type": "code",
      "metadata": {
        "id": "pNfT218kYHHF"
      },
      "source": [
        "test_label = testset.targets"
      ],
      "execution_count": null,
      "outputs": []
    },
    {
      "cell_type": "code",
      "metadata": {
        "id": "7Yvi0O2VYHHM",
        "outputId": "194f67f5-5f21-4a43-a4e6-b7745e078af7",
        "colab": {
          "base_uri": "https://localhost:8080/",
          "height": 36
        }
      },
      "source": [
        "true_test.shape"
      ],
      "execution_count": null,
      "outputs": [
        {
          "output_type": "execute_result",
          "data": {
            "text/plain": [
              "(10000, 32, 32, 3)"
            ]
          },
          "metadata": {
            "tags": []
          },
          "execution_count": 39
        }
      ]
    },
    {
      "cell_type": "code",
      "metadata": {
        "id": "xTNF0gS3YHHS",
        "outputId": "52eaf205-3b62-4e99-d905-12168ba4e34c",
        "colab": {
          "base_uri": "https://localhost:8080/",
          "height": 36
        }
      },
      "source": [
        "test = np.reshape(true_test, (10000,3072))\n",
        "test.shape"
      ],
      "execution_count": null,
      "outputs": [
        {
          "output_type": "execute_result",
          "data": {
            "text/plain": [
              "(10000, 3072)"
            ]
          },
          "metadata": {
            "tags": []
          },
          "execution_count": 40
        }
      ]
    },
    {
      "cell_type": "code",
      "metadata": {
        "id": "PRLw2cTVYHIQ",
        "outputId": "c3937abf-86f4-4987-f443-eb6c02efbc2a",
        "colab": {
          "base_uri": "https://localhost:8080/",
          "height": 36
        }
      },
      "source": [
        "len(test_label)"
      ],
      "execution_count": null,
      "outputs": [
        {
          "output_type": "execute_result",
          "data": {
            "text/plain": [
              "10000"
            ]
          },
          "metadata": {
            "tags": []
          },
          "execution_count": 41
        }
      ]
    },
    {
      "cell_type": "code",
      "metadata": {
        "id": "9x02rkwYoFFM",
        "outputId": "6d4dc379-00a9-4a2c-cb98-46945c1c41da",
        "colab": {
          "base_uri": "https://localhost:8080/",
          "height": 298
        }
      },
      "source": [
        "true_test_cifar_norm=[]\n",
        "for i in range(len(test)):\n",
        "  true_test_cifar_norm.append(LA.norm(test[i]))\n",
        "\n",
        "plt.hist(true_test_cifar_norm, density=True, bins=200,label='true') \n",
        "plt.ylabel('NORM')\n",
        "plt.xlabel('Data')\n",
        "plt.legend()"
      ],
      "execution_count": null,
      "outputs": [
        {
          "output_type": "execute_result",
          "data": {
            "text/plain": [
              "<matplotlib.legend.Legend at 0x7fdf0c61c048>"
            ]
          },
          "metadata": {
            "tags": []
          },
          "execution_count": 42
        },
        {
          "output_type": "display_data",
          "data": {
            "image/png": "[encoded data removed]",
            "text/plain": [
              "<Figure size 432x288 with 1 Axes>"
            ]
          },
          "metadata": {
            "tags": [],
            "needs_background": "light"
          }
        }
      ]
    },
    {
      "cell_type": "code",
      "metadata": {
        "id": "_EB2OcUZokQc",
        "outputId": "3f2f8a14-6e22-4ccd-8ea2-f701331f23a4",
        "colab": {
          "base_uri": "https://localhost:8080/",
          "height": 316
        }
      },
      "source": [
        "noise_test = np.reshape(true_test, (10000,3072))\n",
        "noise_test = add_noise_cifar(noise_test, test_label, gamma , fg1,fg2,fg3)\n",
        "noise_test_cifar_norm=[]\n",
        "for i in range(len(noise_test)):\n",
        "  noise_test_cifar_norm.append(LA.norm(noise_test[i]))\n",
        "plt.hist(noise_test_cifar_norm, density=True, bins=200,label='gamma='+str(gamma))  # `density=False` would make counts\n",
        "plt.hist(true_test_cifar_norm, density=True, bins=200,label='true') \n",
        "plt.ylabel('NORM')\n",
        "plt.xlabel('Data')\n",
        "plt.legend()\n",
        "is_equal(noise_test_cifar_norm,true_test_cifar_norm)"
      ],
      "execution_count": null,
      "outputs": [
        {
          "output_type": "stream",
          "text": [
            "total modified 3000\n"
          ],
          "name": "stdout"
        },
        {
          "output_type": "execute_result",
          "data": {
            "text/plain": [
              "7000"
            ]
          },
          "metadata": {
            "tags": []
          },
          "execution_count": 43
        },
        {
          "output_type": "display_data",
          "data": {
            "image/png": "[encoded data removed]",
            "text/plain": [
              "<Figure size 432x288 with 1 Axes>"
            ]
          },
          "metadata": {
            "tags": [],
            "needs_background": "light"
          }
        }
      ]
    },
    {
      "cell_type": "code",
      "metadata": {
        "id": "2qA07ljGQFJ7",
        "outputId": "e0b44b67-8cd9-45b6-df45-5eb43aed82ec",
        "colab": {
          "base_uri": "https://localhost:8080/",
          "height": 298
        }
      },
      "source": [
        "plt.hist(true_test_cifar_norm, density=True, bins=200,label='true') \n",
        "plt.ylabel('NORM')\n",
        "plt.xlabel('Data')\n",
        "plt.legend()"
      ],
      "execution_count": null,
      "outputs": [
        {
          "output_type": "execute_result",
          "data": {
            "text/plain": [
              "<matplotlib.legend.Legend at 0x7fdf0c5c10f0>"
            ]
          },
          "metadata": {
            "tags": []
          },
          "execution_count": 44
        },
        {
          "output_type": "display_data",
          "data": {
            "image/png": "[encoded data removed]",
            "text/plain": [
              "<Figure size 432x288 with 1 Axes>"
            ]
          },
          "metadata": {
            "tags": [],
            "needs_background": "light"
          }
        }
      ]
    },
    {
      "cell_type": "code",
      "metadata": {
        "id": "d0VFtDFrQFKO",
        "outputId": "9e243e6b-d78b-4df1-eeae-fea8bb2f1147",
        "colab": {
          "base_uri": "https://localhost:8080/",
          "height": 298
        }
      },
      "source": [
        "plt.hist(noise_test_cifar_norm, density=True, bins=200,label='gamma='+str(gamma))  # `density=False` would make counts\n",
        "# plt.hist(true_train_cifar_norm, density=True, bins=200,label='true') \n",
        "plt.ylabel('NORM')\n",
        "plt.xlabel('Data')\n",
        "plt.legend()"
      ],
      "execution_count": null,
      "outputs": [
        {
          "output_type": "execute_result",
          "data": {
            "text/plain": [
              "<matplotlib.legend.Legend at 0x7fdf0c34ddd8>"
            ]
          },
          "metadata": {
            "tags": []
          },
          "execution_count": 45
        },
        {
          "output_type": "display_data",
          "data": {
            "image/png": "[encoded data removed]",
            "text/plain": [
              "<Figure size 432x288 with 1 Axes>"
            ]
          },
          "metadata": {
            "tags": [],
            "needs_background": "light"
          }
        }
      ]
    },
    {
      "cell_type": "code",
      "metadata": {
        "id": "KHElHqmrYHIX",
        "outputId": "f95cfade-57d1-47ee-acef-b0e24dfc74c3",
        "colab": {
          "base_uri": "https://localhost:8080/",
          "height": 36
        }
      },
      "source": [
        "noise_test.shape, testset.data.shape"
      ],
      "execution_count": null,
      "outputs": [
        {
          "output_type": "execute_result",
          "data": {
            "text/plain": [
              "((10000, 3072), (10000, 32, 32, 3))"
            ]
          },
          "metadata": {
            "tags": []
          },
          "execution_count": 46
        }
      ]
    },
    {
      "cell_type": "code",
      "metadata": {
        "id": "DY51kmksYHIb",
        "outputId": "dc5ad728-3cd4-4c98-f019-a604034672f9",
        "colab": {
          "base_uri": "https://localhost:8080/",
          "height": 36
        }
      },
      "source": [
        "noise_test = np.reshape(noise_test, (10000,32, 32, 3))\n",
        "noise_test.shape"
      ],
      "execution_count": null,
      "outputs": [
        {
          "output_type": "execute_result",
          "data": {
            "text/plain": [
              "(10000, 32, 32, 3)"
            ]
          },
          "metadata": {
            "tags": []
          },
          "execution_count": 47
        }
      ]
    },
    {
      "cell_type": "code",
      "metadata": {
        "id": "AGDb6gpjYHIe"
      },
      "source": [
        "testset.data = noise_test"
      ],
      "execution_count": null,
      "outputs": []
    },
    {
      "cell_type": "code",
      "metadata": {
        "id": "iLulDYL_ndvY",
        "outputId": "ea9baed9-afbc-444b-dc8e-e4a87a8b76b9",
        "colab": {
          "base_uri": "https://localhost:8080/",
          "height": 36
        }
      },
      "source": [
        "fg = [fg1,fg2,fg3]\n",
        "bg = list(set([0,1,2,3,4,5,6,7,8,9])-set(fg))\n",
        "fg,bg"
      ],
      "execution_count": null,
      "outputs": [
        {
          "output_type": "execute_result",
          "data": {
            "text/plain": [
              "([0, 1, 2], [3, 4, 5, 6, 7, 8, 9])"
            ]
          },
          "metadata": {
            "tags": []
          },
          "execution_count": 49
        }
      ]
    },
    {
      "cell_type": "code",
      "metadata": {
        "id": "5Jk7ZzLSX-Mf"
      },
      "source": [
        "trainloader = torch.utils.data.DataLoader(trainset, batch_size=10, shuffle=True)\n",
        "testloader = torch.utils.data.DataLoader(testset, batch_size=10, shuffle=False)\n"
      ],
      "execution_count": null,
      "outputs": []
    },
    {
      "cell_type": "code",
      "metadata": {
        "id": "gLiZ8Y0EkGE5"
      },
      "source": [
        "dataiter = iter(trainloader)\n",
        "train_background_data=[]\n",
        "train_background_label=[]\n",
        "train_foreground_data=[]\n",
        "train_foreground_label=[]\n",
        "batch_size=10\n",
        "\n",
        "for i in range(5000):\n",
        "  images, labels = dataiter.next()\n",
        "  for j in range(batch_size):\n",
        "    if(classes[labels[j]] in background_classes):\n",
        "      img = images[j].tolist()\n",
        "      train_background_data.append(img)\n",
        "      train_background_label.append(labels[j])\n",
        "    else:\n",
        "      img = images[j].tolist()\n",
        "      train_foreground_data.append(img)\n",
        "      train_foreground_label.append(labels[j])\n",
        "\n",
        "train_foreground_data = torch.tensor(train_foreground_data)\n",
        "train_foreground_label = torch.tensor(train_foreground_label)\n",
        "train_background_data = torch.tensor(train_background_data)\n",
        "train_background_label = torch.tensor(train_background_label)    "
      ],
      "execution_count": null,
      "outputs": []
    },
    {
      "cell_type": "code",
      "metadata": {
        "id": "SRl_9E-6SLLe"
      },
      "source": [
        "dataiter = iter(testloader)\n",
        "test_background_data=[]\n",
        "test_background_label=[]\n",
        "test_foreground_data=[]\n",
        "test_foreground_label=[]\n",
        "batch_size=10\n",
        "\n",
        "for i in range(1000):\n",
        "  images, labels = dataiter.next()\n",
        "  for j in range(batch_size):\n",
        "    if(classes[labels[j]] in background_classes):\n",
        "      img = images[j].tolist()\n",
        "      test_background_data.append(img)\n",
        "      test_background_label.append(labels[j])\n",
        "    else:\n",
        "      img = images[j].tolist()\n",
        "      test_foreground_data.append(img)\n",
        "      test_foreground_label.append(labels[j])\n",
        "\n",
        "test_foreground_data = torch.tensor(test_foreground_data)\n",
        "test_foreground_label = torch.tensor(test_foreground_label)\n",
        "test_background_data = torch.tensor(test_background_data)\n",
        "test_background_label = torch.tensor(test_background_label)    "
      ],
      "execution_count": null,
      "outputs": []
    },
    {
      "cell_type": "code",
      "metadata": {
        "id": "seziBl0rkH0Y"
      },
      "source": [
        "def imshow(img):\n",
        "  img = img / 2 + 0.5     # unnormalize\n",
        "  npimg = img#.numpy()\n",
        "  plt.imshow(np.transpose(npimg, (1, 2, 0)))\n",
        "  plt.show()"
      ],
      "execution_count": null,
      "outputs": []
    },
    {
      "cell_type": "code",
      "metadata": {
        "id": "DmxEx0N3kOxZ",
        "outputId": "c8a03f58-2028-43e2-c760-b515d383e6ef",
        "colab": {
          "base_uri": "https://localhost:8080/",
          "height": 807
        }
      },
      "source": [
        "img1 = torch.cat((true_test_foreground_data[27],true_test_foreground_data[3],true_test_foreground_data[43]),1)\n",
        "imshow(img1)\n",
        "img2 = torch.cat((test_foreground_data[27],test_foreground_data[3],test_foreground_data[43]),1)\n",
        "imshow(img2)\n",
        "img3 = torch.cat((img1,img2),2)\n",
        "imshow(img3)\n",
        "print(img2.size())\n",
        "print(LA.norm(test_foreground_data[27]), LA.norm(true_test_foreground_data[27]))"
      ],
      "execution_count": null,
      "outputs": [
        {
          "output_type": "display_data",
          "data": {
            "image/png": "[encoded data removed]",
            "text/plain": [
              "<Figure size 432x288 with 1 Axes>"
            ]
          },
          "metadata": {
            "tags": [],
            "needs_background": "light"
          }
        },
        {
          "output_type": "display_data",
          "data": {
            "image/png": "[encoded data removed]",
            "text/plain": [
              "<Figure size 432x288 with 1 Axes>"
            ]
          },
          "metadata": {
            "tags": [],
            "needs_background": "light"
          }
        },
        {
          "output_type": "display_data",
          "data": {
            "image/png": "[encoded data removed]",
            "text/plain": [
              "<Figure size 432x288 with 1 Axes>"
            ]
          },
          "metadata": {
            "tags": [],
            "needs_background": "light"
          }
        },
        {
          "output_type": "stream",
          "text": [
            "torch.Size([3, 96, 32])\n",
            "15.450379 15.428806\n"
          ],
          "name": "stdout"
        }
      ]
    },
    {
      "cell_type": "code",
      "metadata": {
        "id": "SVotKJvGnAUJ",
        "outputId": "f1cca799-8e57-4d4a-9e59-db996f258f46",
        "colab": {
          "base_uri": "https://localhost:8080/",
          "height": 1000
        }
      },
      "source": [
        "import random\n",
        "for i in range(10):\n",
        "  random.seed(i)\n",
        "  a = np.random.randint(0,10000)\n",
        "  img1 = torch.cat((true_test_foreground_data[i],test_foreground_data[i]),2)\n",
        "  imshow(img1)"
      ],
      "execution_count": null,
      "outputs": [
        {
          "output_type": "display_data",
          "data": {
            "image/png": "[encoded data removed]",
            "text/plain": [
              "<Figure size 432x288 with 1 Axes>"
            ]
          },
          "metadata": {
            "tags": [],
            "needs_background": "light"
          }
        },
        {
          "output_type": "display_data",
          "data": {
            "image/png": "[encoded data removed]",
            "text/plain": [
              "<Figure size 432x288 with 1 Axes>"
            ]
          },
          "metadata": {
            "tags": [],
            "needs_background": "light"
          }
        },
        {
          "output_type": "display_data",
          "data": {
            "image/png": "[encoded data removed]",
            "text/plain": [
              "<Figure size 432x288 with 1 Axes>"
            ]
          },
          "metadata": {
            "tags": [],
            "needs_background": "light"
          }
        },
        {
          "output_type": "display_data",
          "data": {
            "image/png": "[encoded data removed]",
            "text/plain": [
              "<Figure size 432x288 with 1 Axes>"
            ]
          },
          "metadata": {
            "tags": [],
            "needs_background": "light"
          }
        },
        {
          "output_type": "display_data",
          "data": {
            "image/png": "[encoded data removed]",
            "text/plain": [
              "<Figure size 432x288 with 1 Axes>"
            ]
          },
          "metadata": {
            "tags": [],
            "needs_background": "light"
          }
        },
        {
          "output_type": "display_data",
          "data": {
            "image/png": "[encoded data removed]",
            "text/plain": [
              "<Figure size 432x288 with 1 Axes>"
            ]
          },
          "metadata": {
            "tags": [],
            "needs_background": "light"
          }
        },
        {
          "output_type": "display_data",
          "data": {
            "image/png": "[encoded data removed]",
            "text/plain": [
              "<Figure size 432x288 with 1 Axes>"
            ]
          },
          "metadata": {
            "tags": [],
            "needs_background": "light"
          }
        },
        {
          "output_type": "display_data",
          "data": {
            "image/png": "[encoded data removed]",
            "text/plain": [
              "<Figure size 432x288 with 1 Axes>"
            ]
          },
          "metadata": {
            "tags": [],
            "needs_background": "light"
          }
        },
        {
          "output_type": "display_data",
          "data": {
            "image/png": "[encoded data removed]",
            "text/plain": [
              "<Figure size 432x288 with 1 Axes>"
            ]
          },
          "metadata": {
            "tags": [],
            "needs_background": "light"
          }
        },
        {
          "output_type": "display_data",
          "data": {
            "image/png": "[encoded data removed]",
            "text/plain": [
              "<Figure size 432x288 with 1 Axes>"
            ]
          },
          "metadata": {
            "tags": [],
            "needs_background": "light"
          }
        }
      ]
    },
    {
      "cell_type": "code",
      "metadata": {
        "id": "wo78BztGTwwL"
      },
      "source": [
        "def plot_vectors(u1,u2,u3):\n",
        "  img = np.reshape(u1,(3,32,32))\n",
        "  img = img / 2 + 0.5     # unnormalize\n",
        "  npimg = img#.numpy()\n",
        "  print(\"vector u1 norm\",LA.norm(img))\n",
        "  plt.figure(1)\n",
        "  plt.imshow(np.transpose(npimg, (1, 2, 0)))\n",
        "  plt.title(\"vector u1\")\n",
        "\n",
        "  img = np.reshape(u2,(3,32,32))\n",
        "  img = img / 2 + 0.5     # unnormalize\n",
        "  npimg = img#.numpy()\n",
        "  print(\"vector u2 norm\",LA.norm(img))\n",
        "  plt.figure(2)\n",
        "  plt.imshow(np.transpose(npimg, (1, 2, 0)))\n",
        "  plt.title(\"vector u2\")\n",
        "\n",
        "  img = np.reshape(u3,(3,32,32))\n",
        "  img = img / 2 + 0.5     # unnormalize\n",
        "  npimg = img#.numpy()\n",
        "  print(\"vector u3 norm\",LA.norm(img))\n",
        "  plt.figure(3)\n",
        "  plt.imshow(np.transpose(npimg, (1, 2, 0)))\n",
        "  plt.title(\"vector u3\")\n",
        "  plt.show()"
      ],
      "execution_count": null,
      "outputs": []
    },
    {
      "cell_type": "code",
      "metadata": {
        "id": "72zcYiJsTPEr",
        "outputId": "773afd76-b0e7-47e0-f582-3d80dcfbce6f",
        "colab": {
          "base_uri": "https://localhost:8080/",
          "height": 865
        }
      },
      "source": [
        "plot_vectors(u1,u2,u3)"
      ],
      "execution_count": null,
      "outputs": [
        {
          "output_type": "stream",
          "text": [
            "vector u1 norm 27.717323153497116\n",
            "vector u2 norm 27.71732319535422\n",
            "vector u3 norm 27.7173231446186\n"
          ],
          "name": "stdout"
        },
        {
          "output_type": "display_data",
          "data": {
            "image/png": "[encoded data removed]",
            "text/plain": [
              "<Figure size 432x288 with 1 Axes>"
            ]
          },
          "metadata": {
            "tags": [],
            "needs_background": "light"
          }
        },
        {
          "output_type": "display_data",
          "data": {
            "image/png": "[encoded data removed]",
            "text/plain": [
              "<Figure size 432x288 with 1 Axes>"
            ]
          },
          "metadata": {
            "tags": [],
            "needs_background": "light"
          }
        },
        {
          "output_type": "display_data",
          "data": {
            "image/png": "[encoded data removed]",
            "text/plain": [
              "<Figure size 432x288 with 1 Axes>"
            ]
          },
          "metadata": {
            "tags": [],
            "needs_background": "light"
          }
        }
      ]
    },
    {
      "cell_type": "code",
      "metadata": {
        "id": "wFpwvWrzYJQi"
      },
      "source": [
        "class MosaicDataset(Dataset):\n",
        "  \"\"\"MosaicDataset dataset.\"\"\"\n",
        "\n",
        "  def __init__(self, mosaic_list_of_images, mosaic_label, fore_idx):\n",
        "    \"\"\"\n",
        "      Args:\n",
        "        csv_file (string): Path to the csv file with annotations.\n",
        "        root_dir (string): Directory with all the images.\n",
        "        transform (callable, optional): Optional transform to be applied\n",
        "            on a sample.\n",
        "    \"\"\"\n",
        "    self.mosaic = mosaic_list_of_images\n",
        "    self.label = mosaic_label\n",
        "    self.fore_idx = fore_idx\n",
        "\n",
        "  def __len__(self):\n",
        "    return len(self.label)\n",
        "\n",
        "  def __getitem__(self, idx):\n",
        "    return self.mosaic[idx] , self.label[idx], self.fore_idx[idx]"
      ],
      "execution_count": null,
      "outputs": []
    },
    {
      "cell_type": "code",
      "metadata": {
        "id": "DxW0w8_BXsih"
      },
      "source": [
        "def create_mosaic_img(background_data, foreground_data, foreground_label, bg_idx,fg_idx,fg,fg1): \n",
        "  \"\"\"\n",
        "  bg_idx : list of indexes of background_data[] to be used as background images in mosaic\n",
        "  fg_idx : index of image to be used as foreground image from foreground data\n",
        "  fg : at what position/index foreground image has to be stored out of 0-8\n",
        "  \"\"\"\n",
        "  image_list=[]\n",
        "  j=0\n",
        "  for i in range(9):\n",
        "    if i != fg:\n",
        "      image_list.append(background_data[bg_idx[j]].type(\"torch.DoubleTensor\"))\n",
        "      j+=1\n",
        "    else: \n",
        "      image_list.append(foreground_data[fg_idx].type(\"torch.DoubleTensor\"))\n",
        "      label = foreground_label[fg_idx] -fg1  #-7  # minus 7 because our fore ground classes are 7,8,9 but we have to store it as 0,1,2\n",
        "  #image_list = np.concatenate(image_list ,axis=0)\n",
        "  image_list = torch.stack(image_list) \n",
        "  return image_list,label"
      ],
      "execution_count": null,
      "outputs": []
    },
    {
      "cell_type": "code",
      "metadata": {
        "id": "jTpidLeLVyyK"
      },
      "source": [
        "def init_mosaic_creation(bg_size, fg_size, desired_num, background_data, foreground_data, foreground_label,fg1):\n",
        "  # bg_size = 35000\n",
        "  # fg_size = 15000\n",
        "  # desired_num = 30000\n",
        "  mosaic_list_of_images =[]      # list of mosaic images, each mosaic image is saved as list of 9 images\n",
        "  fore_idx =[]                   # list of indexes at which foreground image is present in a mosaic image i.e from 0 to 9               \n",
        "  mosaic_label=[]                # label of mosaic image = foreground class present in that mosaic\n",
        "  for i in range(desired_num):\n",
        "    np.random.seed(i+ bg_size + desired_num)\n",
        "    bg_idx = np.random.randint(0,bg_size,8)\n",
        "    # print(bg_idx)\n",
        "    np.random.seed(i+ fg_size + desired_num)\n",
        "    fg_idx = np.random.randint(0,fg_size)\n",
        "    # print(fg_idx)\n",
        "    fg = np.random.randint(0,9)\n",
        "    fore_idx.append(fg)\n",
        "    image_list,label = create_mosaic_img(background_data, foreground_data, foreground_label ,bg_idx,fg_idx,fg, fg1)\n",
        "    mosaic_list_of_images.append(image_list)\n",
        "    mosaic_label.append(label)\n",
        "  \n",
        "  return mosaic_list_of_images, mosaic_label, fore_idx"
      ],
      "execution_count": null,
      "outputs": []
    },
    {
      "cell_type": "code",
      "metadata": {
        "id": "WuIMxXjgV1sB"
      },
      "source": [
        "train_mosaic_list_of_images, train_mosaic_label, train_fore_idx = init_mosaic_creation(bg_size = 35000, \n",
        "                                                                     fg_size = 15000, \n",
        "                                                                     desired_num = 30000, \n",
        "                                                                     background_data = train_background_data, \n",
        "                                                                     foreground_data = train_foreground_data, \n",
        "                                                                     foreground_label = train_foreground_label,\n",
        "                                                                     fg1 = fg1\n",
        "                                                                     )"
      ],
      "execution_count": null,
      "outputs": []
    },
    {
      "cell_type": "code",
      "metadata": {
        "id": "jNw9xEHdYLRQ"
      },
      "source": [
        "batch = 250\n",
        "msd_1 = MosaicDataset(train_mosaic_list_of_images, train_mosaic_label , train_fore_idx)\n",
        "train_loader_from_noise_train_mosaic_30k = DataLoader( msd_1,batch_size= batch ,shuffle=True)"
      ],
      "execution_count": null,
      "outputs": []
    },
    {
      "cell_type": "code",
      "metadata": {
        "id": "uy9iem2zYT-p"
      },
      "source": [
        "test_mosaic_list_of_images, test_mosaic_label, test_fore_idx = init_mosaic_creation(bg_size = 35000, \n",
        "                                                                     fg_size = 15000, \n",
        "                                                                     desired_num = 10000, \n",
        "                                                                     background_data = train_background_data, \n",
        "                                                                     foreground_data = train_foreground_data, \n",
        "                                                                     foreground_label = train_foreground_label,\n",
        "                                                                     fg1 = fg1\n",
        "                                                                     )"
      ],
      "execution_count": null,
      "outputs": []
    },
    {
      "cell_type": "code",
      "metadata": {
        "id": "ek_hNOGfY_Rg"
      },
      "source": [
        "batch = 250\n",
        "msd_2 = MosaicDataset(test_mosaic_list_of_images, test_mosaic_label , test_fore_idx)\n",
        "test_loader_from_noise_train_mosaic_30k = DataLoader( msd_2, batch_size= batch ,shuffle=True)"
      ],
      "execution_count": null,
      "outputs": []
    },
    {
      "cell_type": "code",
      "metadata": {
        "id": "k9Fb3xqvZXgY"
      },
      "source": [
        "test_mosaic_list_of_images_1, test_mosaic_label_1, test_fore_idx_1 = init_mosaic_creation(bg_size = 7000, \n",
        "                                                                     fg_size = 3000, \n",
        "                                                                     desired_num = 10000, \n",
        "                                                                     background_data = test_background_data, \n",
        "                                                                     foreground_data = test_foreground_data, \n",
        "                                                                     foreground_label = test_foreground_label,\n",
        "                                                                     fg1 = fg1\n",
        "                                                                     )"
      ],
      "execution_count": null,
      "outputs": []
    },
    {
      "cell_type": "code",
      "metadata": {
        "id": "D491Dr2eZxXo"
      },
      "source": [
        "batch = 250\n",
        "msd_3 = MosaicDataset(test_mosaic_list_of_images_1, test_mosaic_label_1 , test_fore_idx_1)\n",
        "test_loader_from_noise_test_mosaic_10k = DataLoader( msd_3, batch_size= batch ,shuffle=True)"
      ],
      "execution_count": null,
      "outputs": []
    },
    {
      "cell_type": "code",
      "metadata": {
        "id": "vfEaNoxVaTEp"
      },
      "source": [
        "test_mosaic_list_of_images_2, test_mosaic_label_2, test_fore_idx_2 = init_mosaic_creation(bg_size = 35000, \n",
        "                                                                     fg_size = 15000, \n",
        "                                                                     desired_num = 10000, \n",
        "                                                                     background_data = true_train_background_data, \n",
        "                                                                     foreground_data = true_train_foreground_data, \n",
        "                                                                     foreground_label = true_train_foreground_label,\n",
        "                                                                     fg1 = fg1\n",
        "                                                                     )"
      ],
      "execution_count": null,
      "outputs": []
    },
    {
      "cell_type": "code",
      "metadata": {
        "id": "ytvVuHTgaTEu"
      },
      "source": [
        "batch = 250\n",
        "msd_4 = MosaicDataset(test_mosaic_list_of_images_2, test_mosaic_label_2, test_fore_idx_2)\n",
        "test_loader_from_true_train_mosaic_30k = DataLoader( msd_4, batch_size= batch , shuffle=True)"
      ],
      "execution_count": null,
      "outputs": []
    },
    {
      "cell_type": "code",
      "metadata": {
        "id": "cbN6OQzxaTEy"
      },
      "source": [
        "test_mosaic_list_of_images_3, test_mosaic_label_3, test_fore_idx_3 = init_mosaic_creation(bg_size = 7000, \n",
        "                                                                     fg_size = 3000, \n",
        "                                                                     desired_num = 10000, \n",
        "                                                                     background_data = true_test_background_data, \n",
        "                                                                     foreground_data = true_test_foreground_data, \n",
        "                                                                     foreground_label = true_test_foreground_label,\n",
        "                                                                     fg1 = fg1\n",
        "                                                                     )"
      ],
      "execution_count": null,
      "outputs": []
    },
    {
      "cell_type": "code",
      "metadata": {
        "id": "Mu890cyTaTE2"
      },
      "source": [
        "batch = 250\n",
        "msd_5 = MosaicDataset(test_mosaic_list_of_images_3, test_mosaic_label_3, test_fore_idx_3)\n",
        "test_loader_from_true_train_mosaic_10k = DataLoader( msd_5, batch_size= batch ,shuffle=True)"
      ],
      "execution_count": null,
      "outputs": []
    },
    {
      "cell_type": "code",
      "metadata": {
        "id": "dgQ0htWqkqzo"
      },
      "source": [
        "class Module1(nn.Module):\n",
        "  def __init__(self):\n",
        "    super(Module1, self).__init__()\n",
        "    self.conv1 = nn.Conv2d(3, 6, 5)\n",
        "    self.pool = nn.MaxPool2d(2, 2)\n",
        "    self.conv2 = nn.Conv2d(6, 16, 5)\n",
        "    self.fc1 = nn.Linear(16 * 5 * 5, 120)\n",
        "    self.fc2 = nn.Linear(120, 84)\n",
        "    self.fc3 = nn.Linear(84, 10)\n",
        "    self.fc4 = nn.Linear(10,1)\n",
        "\n",
        "  def forward(self, x):\n",
        "    x = self.pool(F.relu(self.conv1(x)))\n",
        "    x = self.pool(F.relu(self.conv2(x)))\n",
        "    x = x.view(-1, 16 * 5 * 5)\n",
        "    x = F.relu(self.fc1(x))\n",
        "    x = F.relu(self.fc2(x))\n",
        "    x = F.relu(self.fc3(x))\n",
        "    x = self.fc4(x)\n",
        "    return x"
      ],
      "execution_count": null,
      "outputs": []
    },
    {
      "cell_type": "code",
      "metadata": {
        "id": "XElkdct-kvQB"
      },
      "source": [
        "class Module2(nn.Module):\n",
        "  def __init__(self):\n",
        "    super(Module2, self).__init__()\n",
        "    self.module1 = Module1().double()\n",
        "    self.conv1 = nn.Conv2d(3, 6, 5)\n",
        "    self.pool = nn.MaxPool2d(2, 2)\n",
        "    self.conv2 = nn.Conv2d(6, 16, 5)\n",
        "    self.fc1 = nn.Linear(16 * 5 * 5, 120)\n",
        "    self.fc2 = nn.Linear(120, 84)\n",
        "    self.fc3 = nn.Linear(84, 10)\n",
        "    self.fc4 = nn.Linear(10,3)\n",
        "\n",
        "  def forward(self,z):  #z batch of list of 9 images\n",
        "    y = torch.zeros([batch,3, 32,32], dtype=torch.float64)\n",
        "    x = torch.zeros([batch,9],dtype=torch.float64)\n",
        "    x = x.to(\"cuda\")\n",
        "    y = y.to(\"cuda\")\n",
        "    for i in range(9):\n",
        "        x[:,i] = self.module1.forward(z[:,i])[:,0]\n",
        "\n",
        "    x = F.softmax(x,dim=1)\n",
        "\n",
        "    x1 = x[:,0]\n",
        "    torch.mul(x1[:,None,None,None],z[:,0])\n",
        "\n",
        "    for i in range(9):            \n",
        "      x1 = x[:,i]          \n",
        "      y = y + torch.mul(x1[:,None,None,None],z[:,i])\n",
        "      y = y.contiguous()\n",
        "\n",
        "\n",
        "    y1 = self.pool(F.relu(self.conv1(y)))\n",
        "    y1 = self.pool(F.relu(self.conv2(y1)))\n",
        "    y1 = y1.contiguous()\n",
        "    y1 = y1.reshape(-1, 16 * 5 * 5)\n",
        "\n",
        "    y1 = F.relu(self.fc1(y1))\n",
        "    y1 = F.relu(self.fc2(y1))\n",
        "    y1 = F.relu(self.fc3(y1))\n",
        "    y1 = self.fc4(y1)\n",
        "    return y1 , x, y"
      ],
      "execution_count": null,
      "outputs": []
    },
    {
      "cell_type": "code",
      "metadata": {
        "id": "Nus7AK1xRX7W"
      },
      "source": [
        "def training(trainloader, fore_net, epochs=600):\n",
        "  import torch.optim as optim\n",
        "  criterion = nn.CrossEntropyLoss()\n",
        "  optimizer = optim.SGD(fore_net.parameters(), lr=0.01, momentum=0.9)\n",
        "  nos_epochs = epochs\n",
        "\n",
        "  for epoch in range(nos_epochs):  # loop over the dataset multiple times\n",
        "    running_loss = 0.0\n",
        "    cnt=0\n",
        "    mini_loss = []\n",
        "    iteration = 30000 // batch    \n",
        "    for i, data in  enumerate(train_loader_from_noise_train_mosaic_30k):\n",
        "      inputs , labels , fore_idx = data\n",
        "      inputs, labels, fore_idx = inputs.to(\"cuda\"),labels.to(\"cuda\"), fore_idx.to(\"cuda\")\n",
        "\n",
        "      optimizer.zero_grad()\n",
        "      outputs, alphas, avg_images = fore_net(inputs)\n",
        "\n",
        "      _, predicted = torch.max(outputs.data, 1)\n",
        "      loss = criterion(outputs, labels) \n",
        "      loss.backward()\n",
        "      optimizer.step()\n",
        "      running_loss += loss.item()\n",
        "      mini = 40    \n",
        "      if cnt % mini == mini - 1:    # print every 40 mini-batches\n",
        "        print('[%d, %5d] loss: %.3f' %(epoch + 1, cnt + 1, running_loss / mini))\n",
        "        mini_loss.append(running_loss / mini)\n",
        "        running_loss = 0.0        \n",
        "      cnt=cnt+1\n",
        "    if(np.average(mini_loss) <= 0.05):\n",
        "      break\n",
        "  print('Finished Training')\n",
        "  return fore_net, epoch\n"
      ],
      "execution_count": null,
      "outputs": []
    },
    {
      "cell_type": "code",
      "metadata": {
        "id": "17GMe4WKSNji"
      },
      "source": [
        "def testing(loader, fore_net):\n",
        "  correct = 0\n",
        "  total = 0\n",
        "  count = 0\n",
        "  flag = 1\n",
        "  focus_true_pred_true =0\n",
        "  focus_false_pred_true =0\n",
        "  focus_true_pred_false =0\n",
        "  focus_false_pred_false =0\n",
        "\n",
        "  argmax_more_than_half = 0\n",
        "  argmax_less_than_half =0\n",
        "\n",
        "  with torch.no_grad():\n",
        "    for data in loader:\n",
        "      inputs, labels , fore_idx = data\n",
        "      inputs, labels , fore_idx = inputs.to(\"cuda\"),labels.to(\"cuda\"), fore_idx.to(\"cuda\")\n",
        "      outputs, alphas, avg_images = fore_net(inputs)\n",
        "\n",
        "      _, predicted = torch.max(outputs.data, 1)\n",
        "\n",
        "      for j in range(labels.size(0)):\n",
        "        count += 1\n",
        "        focus = torch.argmax(alphas[j])\n",
        "        if alphas[j][focus] >= 0.5 :\n",
        "          argmax_more_than_half += 1\n",
        "        else:\n",
        "          argmax_less_than_half += 1\n",
        "\n",
        "        if(focus == fore_idx[j] and predicted[j] == labels[j]):\n",
        "            focus_true_pred_true += 1\n",
        "        elif(focus != fore_idx[j] and predicted[j] == labels[j]):\n",
        "          focus_false_pred_true += 1\n",
        "        elif(focus == fore_idx[j] and predicted[j] != labels[j]):\n",
        "          focus_true_pred_false += 1\n",
        "        elif(focus != fore_idx[j] and predicted[j] != labels[j]):\n",
        "          focus_false_pred_false += 1\n",
        "\n",
        "      total += labels.size(0)\n",
        "      correct += (predicted == labels).sum().item()\n",
        "  \n",
        "  return correct, total, focus_true_pred_true, focus_false_pred_true, focus_true_pred_false, focus_false_pred_false, argmax_more_than_half\n"
      ],
      "execution_count": null,
      "outputs": []
    },
    {
      "cell_type": "code",
      "metadata": {
        "id": "lp0cGt63YuUc"
      },
      "source": [
        "def enter_into(table, sno, correct, total, ftpt, ffpt, ftpf, ffpf, alpha_more_half , fg, bg, epoch = \"NA\"):\n",
        "  entry = []\n",
        "  entry = [sno,'fg = '+ str(fg),'bg = '+str(bg), epoch, total, correct,]\n",
        "  entry.append((100.0*correct/total))\n",
        "  entry.append((100 * ftpt / total))\n",
        "  entry.append( (100 * ffpt / total))\n",
        "  entry.append( ( 100 * ftpf / total))\n",
        "  entry.append( ( 100 * ffpf / total))\n",
        "  entry.append( alpha_more_half)\n",
        "\n",
        "  table.append(entry)\n",
        "  print(\" \")\n",
        "  print(\"=\"*160)\n",
        "  print(tabulate(table, headers=['S.No.', 'fg_class','bg_class','Epoch used','total_points', 'correct','accuracy','FTPT', 'FFPT', 'FTPF', 'FFPF', 'avg_img > 0.5'] ) )\n",
        "  print(\" \")\n",
        "  print(\"=\"*160)\n",
        "  return table"
      ],
      "execution_count": null,
      "outputs": []
    },
    {
      "cell_type": "code",
      "metadata": {
        "id": "uS6Gq-4VfX89"
      },
      "source": [
        "def add_average_entry(table):\n",
        "  entry =[]\n",
        "  entry = ['Avg', \"\",\"\" ,\"\" ,\"\" , \"\",]\n",
        "  entry.append( np.mean(np.array(table)[:,6].astype(np.float)) )\n",
        "  entry.append( np.mean(np.array(table)[:,7].astype(np.float)) )\n",
        "  entry.append( np.mean(np.array(table)[:,8].astype(np.float)) )\n",
        "  entry.append( np.mean(np.array(table)[:,9].astype(np.float)) )\n",
        "  entry.append( np.mean(np.array(table)[:,10].astype(np.float)) )\n",
        "  entry.append( np.mean(np.array(table)[:,11].astype(np.float)) )\n",
        "\n",
        "  table.append(entry)\n",
        "  print(\" \")\n",
        "  print(\"=\"*160)\n",
        "  print(tabulate(table, headers=['S.No.', 'fg_class','bg_class','Epoch used','total_points', 'correct','accuracy','FTPT', 'FFPT', 'FTPF', 'FFPF', 'avg_img > 0.5'] ) )\n",
        "  print(\" \")\n",
        "  print(\"=\"*160)\n",
        "  return table\n"
      ],
      "execution_count": null,
      "outputs": []
    },
    {
      "cell_type": "code",
      "metadata": {
        "id": "M8ClgTOAbUQu"
      },
      "source": [
        "train_table=[]\n",
        "test_table1=[]\n",
        "test_table2=[]\n",
        "test_table3=[]\n",
        "test_table4=[]\n",
        "fg = [fg1,fg2,fg3]\n",
        "bg = list(set([0,1,2,3,4,5,6,7,8,9])-set(fg))\n"
      ],
      "execution_count": null,
      "outputs": []
    },
    {
      "cell_type": "code",
      "metadata": {
        "id": "TuIb2Y29kxWT",
        "outputId": "3b88e06f-1aa3-4dae-d707-edd78771e57f",
        "colab": {
          "base_uri": "https://localhost:8080/",
          "height": 1000
        }
      },
      "source": [
        "number_runs = 10\n",
        "\n",
        "for i in range(number_runs):\n",
        "  fore_net = Module2().double()\n",
        "  fore_net = fore_net.to(\"cuda\")\n",
        "\n",
        "  fore_net, epoch = training(train_loader_from_noise_train_mosaic_30k, fore_net)\n",
        "\n",
        "  correct, total, ftpt, ffpt, ftpf, ffpf, alpha_more_half = testing(train_loader_from_noise_train_mosaic_30k, fore_net)\n",
        "  train_table = enter_into(train_table, i+1, correct, total, ftpt, ffpt, ftpf, ffpf, alpha_more_half, fg, bg, str(epoch) )\n",
        "\n",
        "  correct, total, ftpt, ffpt, ftpf, ffpf, alpha_more_half = testing(test_loader_from_noise_train_mosaic_30k, fore_net)\n",
        "  test_table1 = enter_into(test_table1, i+1, correct, total, ftpt, ffpt, ftpf, ffpf, alpha_more_half , fg, bg )\n",
        "\n",
        "  correct, total, ftpt, ffpt, ftpf, ffpf, alpha_more_half = testing(test_loader_from_noise_test_mosaic_10k, fore_net)\n",
        "  test_table2 = enter_into(test_table2, i+1, correct, total, ftpt, ffpt, ftpf, ffpf, alpha_more_half, fg, bg )\n",
        "\n",
        "  correct, total, ftpt, ffpt, ftpf, ffpf, alpha_more_half = testing(test_loader_from_true_train_mosaic_30k, fore_net)\n",
        "  test_table3 = enter_into(test_table3, i+1, correct, total, ftpt, ffpt, ftpf, ffpf, alpha_more_half , fg, bg)\n",
        "\n",
        "  correct, total, ftpt, ffpt, ftpf, ffpf, alpha_more_half = testing(test_loader_from_true_train_mosaic_10k, fore_net)\n",
        "  test_table4 = enter_into(test_table4, i+1, correct, total, ftpt, ffpt, ftpf, ffpf, alpha_more_half, fg, bg )\n",
        "\n"
      ],
      "execution_count": 78,
      "outputs": [
        {
          "output_type": "stream",
          "text": [
            "[1,    40] loss: 1.106\n",
            "[1,    80] loss: 1.099\n",
            "[1,   120] loss: 1.099\n",
            "[2,    40] loss: 1.099\n",
            "[2,    80] loss: 1.099\n",
            "[2,   120] loss: 1.099\n",
            "[3,    40] loss: 1.099\n",
            "[3,    80] loss: 1.099\n",
            "[3,   120] loss: 1.099\n",
            "[4,    40] loss: 1.099\n",
            "[4,    80] loss: 1.099\n",
            "[4,   120] loss: 1.099\n",
            "[5,    40] loss: 1.098\n",
            "[5,    80] loss: 1.099\n",
            "[5,   120] loss: 1.098\n",
            "[6,    40] loss: 1.099\n",
            "[6,    80] loss: 1.098\n",
            "[6,   120] loss: 1.098\n",
            "[7,    40] loss: 1.098\n",
            "[7,    80] loss: 1.098\n",
            "[7,   120] loss: 1.098\n",
            "[8,    40] loss: 1.098\n",
            "[8,    80] loss: 1.098\n",
            "[8,   120] loss: 1.098\n",
            "[9,    40] loss: 1.098\n",
            "[9,    80] loss: 1.098\n",
            "[9,   120] loss: 1.098\n",
            "[10,    40] loss: 1.098\n",
            "[10,    80] loss: 1.098\n",
            "[10,   120] loss: 1.098\n",
            "[11,    40] loss: 1.098\n",
            "[11,    80] loss: 1.098\n",
            "[11,   120] loss: 1.097\n",
            "[12,    40] loss: 1.097\n",
            "[12,    80] loss: 1.096\n",
            "[12,   120] loss: 1.096\n",
            "[13,    40] loss: 1.095\n",
            "[13,    80] loss: 1.094\n",
            "[13,   120] loss: 1.093\n",
            "[14,    40] loss: 1.091\n",
            "[14,    80] loss: 1.088\n",
            "[14,   120] loss: 1.087\n",
            "[15,    40] loss: 1.081\n",
            "[15,    80] loss: 1.081\n",
            "[15,   120] loss: 1.077\n",
            "[16,    40] loss: 1.074\n",
            "[16,    80] loss: 1.074\n",
            "[16,   120] loss: 1.072\n",
            "[17,    40] loss: 1.074\n",
            "[17,    80] loss: 1.068\n",
            "[17,   120] loss: 1.065\n",
            "[18,    40] loss: 1.068\n",
            "[18,    80] loss: 1.060\n",
            "[18,   120] loss: 1.064\n",
            "[19,    40] loss: 1.059\n",
            "[19,    80] loss: 1.065\n",
            "[19,   120] loss: 1.055\n",
            "[20,    40] loss: 1.058\n",
            "[20,    80] loss: 1.060\n",
            "[20,   120] loss: 1.055\n",
            "[21,    40] loss: 1.054\n",
            "[21,    80] loss: 1.056\n",
            "[21,   120] loss: 1.046\n",
            "[22,    40] loss: 1.048\n",
            "[22,    80] loss: 1.042\n",
            "[22,   120] loss: 1.044\n",
            "[23,    40] loss: 1.036\n",
            "[23,    80] loss: 1.028\n",
            "[23,   120] loss: 1.024\n",
            "[24,    40] loss: 1.018\n",
            "[24,    80] loss: 1.010\n",
            "[24,   120] loss: 1.011\n",
            "[25,    40] loss: 0.997\n",
            "[25,    80] loss: 0.988\n",
            "[25,   120] loss: 0.985\n",
            "[26,    40] loss: 0.974\n",
            "[26,    80] loss: 0.971\n",
            "[26,   120] loss: 0.951\n",
            "[27,    40] loss: 0.945\n",
            "[27,    80] loss: 0.931\n",
            "[27,   120] loss: 0.921\n",
            "[28,    40] loss: 0.902\n",
            "[28,    80] loss: 0.887\n",
            "[28,   120] loss: 0.870\n",
            "[29,    40] loss: 0.845\n",
            "[29,    80] loss: 0.786\n",
            "[29,   120] loss: 0.746\n",
            "[30,    40] loss: 1.009\n",
            "[30,    80] loss: 0.730\n",
            "[30,   120] loss: 0.646\n",
            "[31,    40] loss: 0.497\n",
            "[31,    80] loss: 0.502\n",
            "[31,   120] loss: 0.363\n",
            "[32,    40] loss: 0.667\n",
            "[32,    80] loss: 0.280\n",
            "[32,   120] loss: 0.183\n",
            "[33,    40] loss: 0.353\n",
            "[33,    80] loss: 0.173\n",
            "[33,   120] loss: 0.145\n",
            "[34,    40] loss: 0.122\n",
            "[34,    80] loss: 0.742\n",
            "[34,   120] loss: 1.032\n",
            "[35,    40] loss: 0.983\n",
            "[35,    80] loss: 0.448\n",
            "[35,   120] loss: 0.145\n",
            "[36,    40] loss: 0.123\n",
            "[36,    80] loss: 0.269\n",
            "[36,   120] loss: 0.138\n",
            "[37,    40] loss: 0.098\n",
            "[37,    80] loss: 0.095\n",
            "[37,   120] loss: 0.095\n",
            "[38,    40] loss: 0.079\n",
            "[38,    80] loss: 0.070\n",
            "[38,   120] loss: 0.076\n",
            "[39,    40] loss: 0.099\n",
            "[39,    80] loss: 0.099\n",
            "[39,   120] loss: 0.072\n",
            "[40,    40] loss: 0.055\n",
            "[40,    80] loss: 0.056\n",
            "[40,   120] loss: 0.059\n",
            "[41,    40] loss: 0.044\n",
            "[41,    80] loss: 0.057\n",
            "[41,   120] loss: 0.053\n",
            "[42,    40] loss: 0.305\n",
            "[42,    80] loss: 0.066\n",
            "[42,   120] loss: 0.051\n",
            "[43,    40] loss: 0.040\n",
            "[43,    80] loss: 0.050\n",
            "[43,   120] loss: 0.037\n",
            "Finished Training\n",
            " \n",
            "================================================================================================================================================================\n",
            "  S.No.  fg_class        bg_class                      Epoch used    total_points    correct    accuracy    FTPT    FFPT      FTPF       FFPF    avg_img > 0.5\n",
            "-------  --------------  --------------------------  ------------  --------------  ---------  ----------  ------  ------  --------  ---------  ---------------\n",
            "      1  fg = [0, 1, 2]  bg = [3, 4, 5, 6, 7, 8, 9]            42           30000      29736       99.12   74.49   24.63  0.863333  0.0166667            20102\n",
            " \n",
            "================================================================================================================================================================\n",
            " \n",
            "================================================================================================================================================================\n",
            "  S.No.  fg_class        bg_class                    Epoch used      total_points    correct    accuracy    FTPT    FFPT    FTPF    FFPF    avg_img > 0.5\n",
            "-------  --------------  --------------------------  ------------  --------------  ---------  ----------  ------  ------  ------  ------  ---------------\n",
            "      1  fg = [0, 1, 2]  bg = [3, 4, 5, 6, 7, 8, 9]  NA                     10000       9832       98.32   73.61   24.71    1.63    0.05             6727\n",
            " \n",
            "================================================================================================================================================================\n",
            " \n",
            "================================================================================================================================================================\n",
            "  S.No.  fg_class        bg_class                    Epoch used      total_points    correct    accuracy    FTPT    FFPT    FTPF    FFPF    avg_img > 0.5\n",
            "-------  --------------  --------------------------  ------------  --------------  ---------  ----------  ------  ------  ------  ------  ---------------\n",
            "      1  fg = [0, 1, 2]  bg = [3, 4, 5, 6, 7, 8, 9]  NA                     10000       9588       95.88   71.28    24.6    4.03    0.09             6730\n",
            " \n",
            "================================================================================================================================================================\n",
            " \n",
            "================================================================================================================================================================\n",
            "  S.No.  fg_class        bg_class                    Epoch used      total_points    correct    accuracy    FTPT    FFPT    FTPF    FFPF    avg_img > 0.5\n",
            "-------  --------------  --------------------------  ------------  --------------  ---------  ----------  ------  ------  ------  ------  ---------------\n",
            "      1  fg = [0, 1, 2]  bg = [3, 4, 5, 6, 7, 8, 9]  NA                     10000       3275       32.75     5.9   26.85    5.89   61.36               11\n",
            " \n",
            "================================================================================================================================================================\n",
            " \n",
            "================================================================================================================================================================\n",
            "  S.No.  fg_class        bg_class                    Epoch used      total_points    correct    accuracy    FTPT    FFPT    FTPF    FFPF    avg_img > 0.5\n",
            "-------  --------------  --------------------------  ------------  --------------  ---------  ----------  ------  ------  ------  ------  ---------------\n",
            "      1  fg = [0, 1, 2]  bg = [3, 4, 5, 6, 7, 8, 9]  NA                     10000       3292       32.92    5.61   27.31    5.57   61.51               22\n",
            " \n",
            "================================================================================================================================================================\n",
            "[1,    40] loss: 1.103\n",
            "[1,    80] loss: 1.099\n",
            "[1,   120] loss: 1.099\n",
            "[2,    40] loss: 1.099\n",
            "[2,    80] loss: 1.099\n",
            "[2,   120] loss: 1.099\n",
            "[3,    40] loss: 1.099\n",
            "[3,    80] loss: 1.099\n",
            "[3,   120] loss: 1.099\n",
            "[4,    40] loss: 1.099\n",
            "[4,    80] loss: 1.099\n",
            "[4,   120] loss: 1.099\n",
            "[5,    40] loss: 1.099\n",
            "[5,    80] loss: 1.099\n",
            "[5,   120] loss: 1.099\n",
            "[6,    40] loss: 1.099\n",
            "[6,    80] loss: 1.099\n",
            "[6,   120] loss: 1.099\n",
            "[7,    40] loss: 1.098\n",
            "[7,    80] loss: 1.099\n",
            "[7,   120] loss: 1.099\n",
            "[8,    40] loss: 1.098\n",
            "[8,    80] loss: 1.099\n",
            "[8,   120] loss: 1.099\n",
            "[9,    40] loss: 1.098\n",
            "[9,    80] loss: 1.098\n",
            "[9,   120] loss: 1.098\n",
            "[10,    40] loss: 1.098\n",
            "[10,    80] loss: 1.098\n",
            "[10,   120] loss: 1.098\n",
            "[11,    40] loss: 1.098\n",
            "[11,    80] loss: 1.098\n",
            "[11,   120] loss: 1.098\n",
            "[12,    40] loss: 1.098\n",
            "[12,    80] loss: 1.098\n",
            "[12,   120] loss: 1.098\n",
            "[13,    40] loss: 1.097\n",
            "[13,    80] loss: 1.097\n",
            "[13,   120] loss: 1.096\n",
            "[14,    40] loss: 1.096\n",
            "[14,    80] loss: 1.094\n",
            "[14,   120] loss: 1.094\n",
            "[15,    40] loss: 1.092\n",
            "[15,    80] loss: 1.091\n",
            "[15,   120] loss: 1.089\n",
            "[16,    40] loss: 1.087\n",
            "[16,    80] loss: 1.088\n",
            "[16,   120] loss: 1.085\n",
            "[17,    40] loss: 1.085\n",
            "[17,    80] loss: 1.083\n",
            "[17,   120] loss: 1.084\n",
            "[18,    40] loss: 1.082\n",
            "[18,    80] loss: 1.081\n",
            "[18,   120] loss: 1.079\n",
            "[19,    40] loss: 1.077\n",
            "[19,    80] loss: 1.078\n",
            "[19,   120] loss: 1.077\n",
            "[20,    40] loss: 1.077\n",
            "[20,    80] loss: 1.073\n",
            "[20,   120] loss: 1.070\n",
            "[21,    40] loss: 1.071\n",
            "[21,    80] loss: 1.069\n",
            "[21,   120] loss: 1.066\n",
            "[22,    40] loss: 1.064\n",
            "[22,    80] loss: 1.066\n",
            "[22,   120] loss: 1.061\n",
            "[23,    40] loss: 1.056\n",
            "[23,    80] loss: 1.061\n",
            "[23,   120] loss: 1.063\n",
            "[24,    40] loss: 1.058\n",
            "[24,    80] loss: 1.056\n",
            "[24,   120] loss: 1.054\n",
            "[25,    40] loss: 1.053\n",
            "[25,    80] loss: 1.049\n",
            "[25,   120] loss: 1.046\n",
            "[26,    40] loss: 1.044\n",
            "[26,    80] loss: 1.046\n",
            "[26,   120] loss: 1.043\n",
            "[27,    40] loss: 1.043\n",
            "[27,    80] loss: 1.032\n",
            "[27,   120] loss: 1.026\n",
            "[28,    40] loss: 1.026\n",
            "[28,    80] loss: 1.019\n",
            "[28,   120] loss: 1.012\n",
            "[29,    40] loss: 1.003\n",
            "[29,    80] loss: 0.998\n",
            "[29,   120] loss: 0.997\n",
            "[30,    40] loss: 0.990\n",
            "[30,    80] loss: 0.975\n",
            "[30,   120] loss: 0.959\n",
            "[31,    40] loss: 0.953\n",
            "[31,    80] loss: 0.937\n",
            "[31,   120] loss: 0.918\n",
            "[32,    40] loss: 0.904\n",
            "[32,    80] loss: 0.905\n",
            "[32,   120] loss: 0.896\n",
            "[33,    40] loss: 0.872\n",
            "[33,    80] loss: 0.851\n",
            "[33,   120] loss: 0.826\n",
            "[34,    40] loss: 0.779\n",
            "[34,    80] loss: 0.733\n",
            "[34,   120] loss: 0.719\n",
            "[35,    40] loss: 0.507\n",
            "[35,    80] loss: 0.377\n",
            "[35,   120] loss: 0.278\n",
            "[36,    40] loss: 0.452\n",
            "[36,    80] loss: 0.263\n",
            "[36,   120] loss: 0.315\n",
            "[37,    40] loss: 0.256\n",
            "[37,    80] loss: 0.172\n",
            "[37,   120] loss: 0.237\n",
            "[38,    40] loss: 0.300\n",
            "[38,    80] loss: 0.150\n",
            "[38,   120] loss: 0.130\n",
            "[39,    40] loss: 0.115\n",
            "[39,    80] loss: 0.106\n",
            "[39,   120] loss: 0.089\n",
            "[40,    40] loss: 0.120\n",
            "[40,    80] loss: 0.160\n",
            "[40,   120] loss: 0.093\n",
            "[41,    40] loss: 0.063\n",
            "[41,    80] loss: 0.065\n",
            "[41,   120] loss: 0.099\n",
            "[42,    40] loss: 0.056\n",
            "[42,    80] loss: 0.050\n",
            "[42,   120] loss: 0.049\n",
            "[43,    40] loss: 0.035\n",
            "[43,    80] loss: 0.036\n",
            "[43,   120] loss: 0.054\n",
            "Finished Training\n",
            " \n",
            "================================================================================================================================================================\n",
            "  S.No.  fg_class        bg_class                      Epoch used    total_points    correct    accuracy    FTPT     FFPT      FTPF       FFPF    avg_img > 0.5\n",
            "-------  --------------  --------------------------  ------------  --------------  ---------  ----------  ------  -------  --------  ---------  ---------------\n",
            "      1  fg = [0, 1, 2]  bg = [3, 4, 5, 6, 7, 8, 9]            42           30000      29736     99.12     74.49  24.63    0.863333  0.0166667            20102\n",
            "      2  fg = [0, 1, 2]  bg = [3, 4, 5, 6, 7, 8, 9]            42           30000      29177     97.2567   73.2   24.0567  2.73      0.0133333            20137\n",
            " \n",
            "================================================================================================================================================================\n",
            " \n",
            "================================================================================================================================================================\n",
            "  S.No.  fg_class        bg_class                    Epoch used      total_points    correct    accuracy    FTPT    FFPT    FTPF    FFPF    avg_img > 0.5\n",
            "-------  --------------  --------------------------  ------------  --------------  ---------  ----------  ------  ------  ------  ------  ---------------\n",
            "      1  fg = [0, 1, 2]  bg = [3, 4, 5, 6, 7, 8, 9]  NA                     10000       9832       98.32   73.61   24.71    1.63    0.05             6727\n",
            "      2  fg = [0, 1, 2]  bg = [3, 4, 5, 6, 7, 8, 9]  NA                     10000       9629       96.29   72.6    23.69    3.7     0.01             6749\n",
            " \n",
            "================================================================================================================================================================\n",
            " \n",
            "================================================================================================================================================================\n",
            "  S.No.  fg_class        bg_class                    Epoch used      total_points    correct    accuracy    FTPT    FFPT    FTPF    FFPF    avg_img > 0.5\n",
            "-------  --------------  --------------------------  ------------  --------------  ---------  ----------  ------  ------  ------  ------  ---------------\n",
            "      1  fg = [0, 1, 2]  bg = [3, 4, 5, 6, 7, 8, 9]  NA                     10000       9588       95.88   71.28   24.6     4.03    0.09             6730\n",
            "      2  fg = [0, 1, 2]  bg = [3, 4, 5, 6, 7, 8, 9]  NA                     10000       9564       95.64   71.49   24.15    4.31    0.05             6766\n",
            " \n",
            "================================================================================================================================================================\n",
            " \n",
            "================================================================================================================================================================\n",
            "  S.No.  fg_class        bg_class                    Epoch used      total_points    correct    accuracy    FTPT    FFPT    FTPF    FFPF    avg_img > 0.5\n",
            "-------  --------------  --------------------------  ------------  --------------  ---------  ----------  ------  ------  ------  ------  ---------------\n",
            "      1  fg = [0, 1, 2]  bg = [3, 4, 5, 6, 7, 8, 9]  NA                     10000       3275       32.75    5.9    26.85    5.89   61.36               11\n",
            "      2  fg = [0, 1, 2]  bg = [3, 4, 5, 6, 7, 8, 9]  NA                     10000       3281       32.81    5.27   27.54    6.61   60.58               25\n",
            " \n",
            "================================================================================================================================================================\n",
            " \n",
            "================================================================================================================================================================\n",
            "  S.No.  fg_class        bg_class                    Epoch used      total_points    correct    accuracy    FTPT    FFPT    FTPF    FFPF    avg_img > 0.5\n",
            "-------  --------------  --------------------------  ------------  --------------  ---------  ----------  ------  ------  ------  ------  ---------------\n",
            "      1  fg = [0, 1, 2]  bg = [3, 4, 5, 6, 7, 8, 9]  NA                     10000       3292       32.92    5.61   27.31    5.57   61.51               22\n",
            "      2  fg = [0, 1, 2]  bg = [3, 4, 5, 6, 7, 8, 9]  NA                     10000       3296       32.96    5.02   27.94    6.19   60.85               45\n",
            " \n",
            "================================================================================================================================================================\n",
            "[1,    40] loss: 1.106\n",
            "[1,    80] loss: 1.099\n",
            "[1,   120] loss: 1.099\n",
            "[2,    40] loss: 1.098\n",
            "[2,    80] loss: 1.098\n",
            "[2,   120] loss: 1.098\n",
            "[3,    40] loss: 1.098\n",
            "[3,    80] loss: 1.098\n",
            "[3,   120] loss: 1.098\n",
            "[4,    40] loss: 1.098\n",
            "[4,    80] loss: 1.097\n",
            "[4,   120] loss: 1.097\n",
            "[5,    40] loss: 1.097\n",
            "[5,    80] loss: 1.096\n",
            "[5,   120] loss: 1.096\n",
            "[6,    40] loss: 1.095\n",
            "[6,    80] loss: 1.093\n",
            "[6,   120] loss: 1.091\n",
            "[7,    40] loss: 1.089\n",
            "[7,    80] loss: 1.085\n",
            "[7,   120] loss: 1.083\n",
            "[8,    40] loss: 1.080\n",
            "[8,    80] loss: 1.077\n",
            "[8,   120] loss: 1.077\n",
            "[9,    40] loss: 1.073\n",
            "[9,    80] loss: 1.075\n",
            "[9,   120] loss: 1.075\n",
            "[10,    40] loss: 1.071\n",
            "[10,    80] loss: 1.073\n",
            "[10,   120] loss: 1.069\n",
            "[11,    40] loss: 1.071\n",
            "[11,    80] loss: 1.073\n",
            "[11,   120] loss: 1.067\n",
            "[12,    40] loss: 1.071\n",
            "[12,    80] loss: 1.067\n",
            "[12,   120] loss: 1.062\n",
            "[13,    40] loss: 1.063\n",
            "[13,    80] loss: 1.065\n",
            "[13,   120] loss: 1.065\n",
            "[14,    40] loss: 1.062\n",
            "[14,    80] loss: 1.058\n",
            "[14,   120] loss: 1.059\n",
            "[15,    40] loss: 1.055\n",
            "[15,    80] loss: 1.051\n",
            "[15,   120] loss: 1.055\n",
            "[16,    40] loss: 1.051\n",
            "[16,    80] loss: 1.050\n",
            "[16,   120] loss: 1.049\n",
            "[17,    40] loss: 1.050\n",
            "[17,    80] loss: 1.051\n",
            "[17,   120] loss: 1.047\n",
            "[18,    40] loss: 1.043\n",
            "[18,    80] loss: 1.043\n",
            "[18,   120] loss: 1.047\n",
            "[19,    40] loss: 1.037\n",
            "[19,    80] loss: 1.044\n",
            "[19,   120] loss: 1.042\n",
            "[20,    40] loss: 1.045\n",
            "[20,    80] loss: 1.040\n",
            "[20,   120] loss: 1.035\n",
            "[21,    40] loss: 1.034\n",
            "[21,    80] loss: 1.037\n",
            "[21,   120] loss: 1.032\n",
            "[22,    40] loss: 1.028\n",
            "[22,    80] loss: 1.021\n",
            "[22,   120] loss: 1.002\n",
            "[23,    40] loss: 0.998\n",
            "[23,    80] loss: 0.991\n",
            "[23,   120] loss: 0.984\n",
            "[24,    40] loss: 0.980\n",
            "[24,    80] loss: 0.961\n",
            "[24,   120] loss: 0.951\n",
            "[25,    40] loss: 0.936\n",
            "[25,    80] loss: 0.930\n",
            "[25,   120] loss: 0.907\n",
            "[26,    40] loss: 0.907\n",
            "[26,    80] loss: 0.883\n",
            "[26,   120] loss: 0.808\n",
            "[27,    40] loss: 0.777\n",
            "[27,    80] loss: 0.803\n",
            "[27,   120] loss: 0.633\n",
            "[28,    40] loss: 0.411\n",
            "[28,    80] loss: 0.507\n",
            "[28,   120] loss: 0.288\n",
            "[29,    40] loss: 0.203\n",
            "[29,    80] loss: 0.161\n",
            "[29,   120] loss: 0.235\n",
            "[30,    40] loss: 1.183\n",
            "[30,    80] loss: 1.078\n",
            "[30,   120] loss: 1.067\n",
            "[31,    40] loss: 1.051\n",
            "[31,    80] loss: 1.051\n",
            "[31,   120] loss: 1.046\n",
            "[32,    40] loss: 1.038\n",
            "[32,    80] loss: 1.035\n",
            "[32,   120] loss: 1.030\n",
            "[33,    40] loss: 1.020\n",
            "[33,    80] loss: 1.023\n",
            "[33,   120] loss: 1.013\n",
            "[34,    40] loss: 1.004\n",
            "[34,    80] loss: 0.998\n",
            "[34,   120] loss: 0.996\n",
            "[35,    40] loss: 0.994\n",
            "[35,    80] loss: 0.984\n",
            "[35,   120] loss: 0.987\n",
            "[36,    40] loss: 0.971\n",
            "[36,    80] loss: 0.962\n",
            "[36,   120] loss: 0.960\n",
            "[37,    40] loss: 0.956\n",
            "[37,    80] loss: 0.964\n",
            "[37,   120] loss: 0.965\n",
            "[38,    40] loss: 0.942\n",
            "[38,    80] loss: 0.936\n",
            "[38,   120] loss: 0.942\n",
            "[39,    40] loss: 0.920\n",
            "[39,    80] loss: 0.909\n",
            "[39,   120] loss: 0.882\n",
            "[40,    40] loss: 0.832\n",
            "[40,    80] loss: 0.827\n",
            "[40,   120] loss: 0.848\n",
            "[41,    40] loss: 0.849\n",
            "[41,    80] loss: 0.827\n",
            "[41,   120] loss: 0.798\n",
            "[42,    40] loss: 0.792\n",
            "[42,    80] loss: 0.767\n",
            "[42,   120] loss: 0.757\n",
            "[43,    40] loss: 0.798\n",
            "[43,    80] loss: 0.606\n",
            "[43,   120] loss: 0.187\n",
            "[44,    40] loss: 0.123\n",
            "[44,    80] loss: 0.150\n",
            "[44,   120] loss: 0.057\n",
            "[45,    40] loss: 0.039\n",
            "[45,    80] loss: 0.038\n",
            "[45,   120] loss: 0.039\n",
            "Finished Training\n",
            " \n",
            "================================================================================================================================================================\n",
            "  S.No.  fg_class        bg_class                      Epoch used    total_points    correct    accuracy     FTPT     FFPT      FTPF        FFPF    avg_img > 0.5\n",
            "-------  --------------  --------------------------  ------------  --------------  ---------  ----------  -------  -------  --------  ----------  ---------------\n",
            "      1  fg = [0, 1, 2]  bg = [3, 4, 5, 6, 7, 8, 9]            42           30000      29736     99.12    74.49    24.63    0.863333  0.0166667             20102\n",
            "      2  fg = [0, 1, 2]  bg = [3, 4, 5, 6, 7, 8, 9]            42           30000      29177     97.2567  73.2     24.0567  2.73      0.0133333             20137\n",
            "      3  fg = [0, 1, 2]  bg = [3, 4, 5, 6, 7, 8, 9]            44           30000      29687     98.9567  98.5167   0.44    1.03667   0.00666667            29236\n",
            " \n",
            "================================================================================================================================================================\n",
            " \n",
            "================================================================================================================================================================\n",
            "  S.No.  fg_class        bg_class                    Epoch used      total_points    correct    accuracy    FTPT    FFPT    FTPF    FFPF    avg_img > 0.5\n",
            "-------  --------------  --------------------------  ------------  --------------  ---------  ----------  ------  ------  ------  ------  ---------------\n",
            "      1  fg = [0, 1, 2]  bg = [3, 4, 5, 6, 7, 8, 9]  NA                     10000       9832       98.32   73.61   24.71    1.63    0.05             6727\n",
            "      2  fg = [0, 1, 2]  bg = [3, 4, 5, 6, 7, 8, 9]  NA                     10000       9629       96.29   72.6    23.69    3.7     0.01             6749\n",
            "      3  fg = [0, 1, 2]  bg = [3, 4, 5, 6, 7, 8, 9]  NA                     10000       9876       98.76   98.19    0.57    1.24    0                9725\n",
            " \n",
            "================================================================================================================================================================\n",
            " \n",
            "================================================================================================================================================================\n",
            "  S.No.  fg_class        bg_class                    Epoch used      total_points    correct    accuracy    FTPT    FFPT    FTPF    FFPF    avg_img > 0.5\n",
            "-------  --------------  --------------------------  ------------  --------------  ---------  ----------  ------  ------  ------  ------  ---------------\n",
            "      1  fg = [0, 1, 2]  bg = [3, 4, 5, 6, 7, 8, 9]  NA                     10000       9588       95.88   71.28   24.6     4.03    0.09             6730\n",
            "      2  fg = [0, 1, 2]  bg = [3, 4, 5, 6, 7, 8, 9]  NA                     10000       9564       95.64   71.49   24.15    4.31    0.05             6766\n",
            "      3  fg = [0, 1, 2]  bg = [3, 4, 5, 6, 7, 8, 9]  NA                     10000       9829       98.29   97.8     0.49    1.65    0.06             9748\n",
            " \n",
            "================================================================================================================================================================\n",
            " \n",
            "================================================================================================================================================================\n",
            "  S.No.  fg_class        bg_class                    Epoch used      total_points    correct    accuracy    FTPT    FFPT    FTPF    FFPF    avg_img > 0.5\n",
            "-------  --------------  --------------------------  ------------  --------------  ---------  ----------  ------  ------  ------  ------  ---------------\n",
            "      1  fg = [0, 1, 2]  bg = [3, 4, 5, 6, 7, 8, 9]  NA                     10000       3275       32.75    5.9    26.85    5.89   61.36               11\n",
            "      2  fg = [0, 1, 2]  bg = [3, 4, 5, 6, 7, 8, 9]  NA                     10000       3281       32.81    5.27   27.54    6.61   60.58               25\n",
            "      3  fg = [0, 1, 2]  bg = [3, 4, 5, 6, 7, 8, 9]  NA                     10000       3291       32.91    6.65   26.26   13.08   54.01              189\n",
            " \n",
            "================================================================================================================================================================\n",
            " \n",
            "================================================================================================================================================================\n",
            "  S.No.  fg_class        bg_class                    Epoch used      total_points    correct    accuracy    FTPT    FFPT    FTPF    FFPF    avg_img > 0.5\n",
            "-------  --------------  --------------------------  ------------  --------------  ---------  ----------  ------  ------  ------  ------  ---------------\n",
            "      1  fg = [0, 1, 2]  bg = [3, 4, 5, 6, 7, 8, 9]  NA                     10000       3292       32.92    5.61   27.31    5.57   61.51               22\n",
            "      2  fg = [0, 1, 2]  bg = [3, 4, 5, 6, 7, 8, 9]  NA                     10000       3296       32.96    5.02   27.94    6.19   60.85               45\n",
            "      3  fg = [0, 1, 2]  bg = [3, 4, 5, 6, 7, 8, 9]  NA                     10000       3315       33.15    5.99   27.16   12.09   54.76              173\n",
            " \n",
            "================================================================================================================================================================\n",
            "[1,    40] loss: 1.109\n",
            "[1,    80] loss: 1.099\n",
            "[1,   120] loss: 1.099\n",
            "[2,    40] loss: 1.099\n",
            "[2,    80] loss: 1.099\n",
            "[2,   120] loss: 1.099\n",
            "[3,    40] loss: 1.099\n",
            "[3,    80] loss: 1.099\n",
            "[3,   120] loss: 1.099\n",
            "[4,    40] loss: 1.099\n",
            "[4,    80] loss: 1.099\n",
            "[4,   120] loss: 1.098\n",
            "[5,    40] loss: 1.098\n",
            "[5,    80] loss: 1.098\n",
            "[5,   120] loss: 1.099\n",
            "[6,    40] loss: 1.098\n",
            "[6,    80] loss: 1.098\n",
            "[6,   120] loss: 1.098\n",
            "[7,    40] loss: 1.098\n",
            "[7,    80] loss: 1.098\n",
            "[7,   120] loss: 1.098\n",
            "[8,    40] loss: 1.098\n",
            "[8,    80] loss: 1.098\n",
            "[8,   120] loss: 1.098\n",
            "[9,    40] loss: 1.097\n",
            "[9,    80] loss: 1.097\n",
            "[9,   120] loss: 1.097\n",
            "[10,    40] loss: 1.096\n",
            "[10,    80] loss: 1.096\n",
            "[10,   120] loss: 1.095\n",
            "[11,    40] loss: 1.094\n",
            "[11,    80] loss: 1.093\n",
            "[11,   120] loss: 1.093\n",
            "[12,    40] loss: 1.091\n",
            "[12,    80] loss: 1.090\n",
            "[12,   120] loss: 1.087\n",
            "[13,    40] loss: 1.086\n",
            "[13,    80] loss: 1.084\n",
            "[13,   120] loss: 1.082\n",
            "[14,    40] loss: 1.079\n",
            "[14,    80] loss: 1.083\n",
            "[14,   120] loss: 1.079\n",
            "[15,    40] loss: 1.079\n",
            "[15,    80] loss: 1.077\n",
            "[15,   120] loss: 1.072\n",
            "[16,    40] loss: 1.072\n",
            "[16,    80] loss: 1.069\n",
            "[16,   120] loss: 1.070\n",
            "[17,    40] loss: 1.069\n",
            "[17,    80] loss: 1.065\n",
            "[17,   120] loss: 1.063\n",
            "[18,    40] loss: 1.063\n",
            "[18,    80] loss: 1.059\n",
            "[18,   120] loss: 1.062\n",
            "[19,    40] loss: 1.056\n",
            "[19,    80] loss: 1.061\n",
            "[19,   120] loss: 1.056\n",
            "[20,    40] loss: 1.055\n",
            "[20,    80] loss: 1.051\n",
            "[20,   120] loss: 1.054\n",
            "[21,    40] loss: 1.046\n",
            "[21,    80] loss: 1.050\n",
            "[21,   120] loss: 1.045\n",
            "[22,    40] loss: 1.044\n",
            "[22,    80] loss: 1.040\n",
            "[22,   120] loss: 1.050\n",
            "[23,    40] loss: 1.042\n",
            "[23,    80] loss: 1.044\n",
            "[23,   120] loss: 1.042\n",
            "[24,    40] loss: 1.038\n",
            "[24,    80] loss: 1.043\n",
            "[24,   120] loss: 1.042\n",
            "[25,    40] loss: 1.036\n",
            "[25,    80] loss: 1.044\n",
            "[25,   120] loss: 1.044\n",
            "[26,    40] loss: 1.035\n",
            "[26,    80] loss: 1.034\n",
            "[26,   120] loss: 1.036\n",
            "[27,    40] loss: 1.028\n",
            "[27,    80] loss: 1.025\n",
            "[27,   120] loss: 1.020\n",
            "[28,    40] loss: 1.015\n",
            "[28,    80] loss: 1.005\n",
            "[28,   120] loss: 1.002\n",
            "[29,    40] loss: 0.994\n",
            "[29,    80] loss: 0.991\n",
            "[29,   120] loss: 0.994\n",
            "[30,    40] loss: 0.978\n",
            "[30,    80] loss: 0.982\n",
            "[30,   120] loss: 0.968\n",
            "[31,    40] loss: 0.966\n",
            "[31,    80] loss: 0.950\n",
            "[31,   120] loss: 0.931\n",
            "[32,    40] loss: 0.919\n",
            "[32,    80] loss: 0.908\n",
            "[32,   120] loss: 0.900\n",
            "[33,    40] loss: 0.876\n",
            "[33,    80] loss: 0.831\n",
            "[33,   120] loss: 0.810\n",
            "[34,    40] loss: 0.823\n",
            "[34,    80] loss: 0.945\n",
            "[34,   120] loss: 0.593\n",
            "[35,    40] loss: 0.364\n",
            "[35,    80] loss: 0.335\n",
            "[35,   120] loss: 0.247\n",
            "[36,    40] loss: 0.327\n",
            "[36,    80] loss: 0.306\n",
            "[36,   120] loss: 0.188\n",
            "[37,    40] loss: 0.359\n",
            "[37,    80] loss: 0.188\n",
            "[37,   120] loss: 0.159\n",
            "[38,    40] loss: 0.246\n",
            "[38,    80] loss: 0.158\n",
            "[38,   120] loss: 0.138\n",
            "[39,    40] loss: 0.119\n",
            "[39,    80] loss: 0.157\n",
            "[39,   120] loss: 0.157\n",
            "[40,    40] loss: 0.100\n",
            "[40,    80] loss: 0.106\n",
            "[40,   120] loss: 0.175\n",
            "[41,    40] loss: 0.223\n",
            "[41,    80] loss: 0.099\n",
            "[41,   120] loss: 0.086\n",
            "[42,    40] loss: 0.073\n",
            "[42,    80] loss: 0.065\n",
            "[42,   120] loss: 0.067\n",
            "[43,    40] loss: 0.060\n",
            "[43,    80] loss: 0.063\n",
            "[43,   120] loss: 0.206\n",
            "[44,    40] loss: 0.120\n",
            "[44,    80] loss: 0.063\n",
            "[44,   120] loss: 0.052\n",
            "[45,    40] loss: 0.044\n",
            "[45,    80] loss: 0.041\n",
            "[45,   120] loss: 0.041\n",
            "Finished Training\n",
            " \n",
            "================================================================================================================================================================\n",
            "  S.No.  fg_class        bg_class                      Epoch used    total_points    correct    accuracy     FTPT     FFPT      FTPF        FFPF    avg_img > 0.5\n",
            "-------  --------------  --------------------------  ------------  --------------  ---------  ----------  -------  -------  --------  ----------  ---------------\n",
            "      1  fg = [0, 1, 2]  bg = [3, 4, 5, 6, 7, 8, 9]            42           30000      29736     99.12    74.49    24.63    0.863333  0.0166667             20102\n",
            "      2  fg = [0, 1, 2]  bg = [3, 4, 5, 6, 7, 8, 9]            42           30000      29177     97.2567  73.2     24.0567  2.73      0.0133333             20137\n",
            "      3  fg = [0, 1, 2]  bg = [3, 4, 5, 6, 7, 8, 9]            44           30000      29687     98.9567  98.5167   0.44    1.03667   0.00666667            29236\n",
            "      4  fg = [0, 1, 2]  bg = [3, 4, 5, 6, 7, 8, 9]            44           30000      29614     98.7133  68.38    30.3333  1.27333   0.0133333             20046\n",
            " \n",
            "================================================================================================================================================================\n",
            " \n",
            "================================================================================================================================================================\n",
            "  S.No.  fg_class        bg_class                    Epoch used      total_points    correct    accuracy    FTPT    FFPT    FTPF    FFPF    avg_img > 0.5\n",
            "-------  --------------  --------------------------  ------------  --------------  ---------  ----------  ------  ------  ------  ------  ---------------\n",
            "      1  fg = [0, 1, 2]  bg = [3, 4, 5, 6, 7, 8, 9]  NA                     10000       9832       98.32   73.61   24.71    1.63    0.05             6727\n",
            "      2  fg = [0, 1, 2]  bg = [3, 4, 5, 6, 7, 8, 9]  NA                     10000       9629       96.29   72.6    23.69    3.7     0.01             6749\n",
            "      3  fg = [0, 1, 2]  bg = [3, 4, 5, 6, 7, 8, 9]  NA                     10000       9876       98.76   98.19    0.57    1.24    0                9725\n",
            "      4  fg = [0, 1, 2]  bg = [3, 4, 5, 6, 7, 8, 9]  NA                     10000       9761       97.61   67.75   29.86    2.39    0                6718\n",
            " \n",
            "================================================================================================================================================================\n",
            " \n",
            "================================================================================================================================================================\n",
            "  S.No.  fg_class        bg_class                    Epoch used      total_points    correct    accuracy    FTPT    FFPT    FTPF    FFPF    avg_img > 0.5\n",
            "-------  --------------  --------------------------  ------------  --------------  ---------  ----------  ------  ------  ------  ------  ---------------\n",
            "      1  fg = [0, 1, 2]  bg = [3, 4, 5, 6, 7, 8, 9]  NA                     10000       9588       95.88   71.28   24.6     4.03    0.09             6730\n",
            "      2  fg = [0, 1, 2]  bg = [3, 4, 5, 6, 7, 8, 9]  NA                     10000       9564       95.64   71.49   24.15    4.31    0.05             6766\n",
            "      3  fg = [0, 1, 2]  bg = [3, 4, 5, 6, 7, 8, 9]  NA                     10000       9829       98.29   97.8     0.49    1.65    0.06             9748\n",
            "      4  fg = [0, 1, 2]  bg = [3, 4, 5, 6, 7, 8, 9]  NA                     10000       9540       95.4    65.68   29.72    4.52    0.08             6727\n",
            " \n",
            "================================================================================================================================================================\n",
            " \n",
            "================================================================================================================================================================\n",
            "  S.No.  fg_class        bg_class                    Epoch used      total_points    correct    accuracy    FTPT    FFPT    FTPF    FFPF    avg_img > 0.5\n",
            "-------  --------------  --------------------------  ------------  --------------  ---------  ----------  ------  ------  ------  ------  ---------------\n",
            "      1  fg = [0, 1, 2]  bg = [3, 4, 5, 6, 7, 8, 9]  NA                     10000       3275       32.75    5.9    26.85    5.89   61.36               11\n",
            "      2  fg = [0, 1, 2]  bg = [3, 4, 5, 6, 7, 8, 9]  NA                     10000       3281       32.81    5.27   27.54    6.61   60.58               25\n",
            "      3  fg = [0, 1, 2]  bg = [3, 4, 5, 6, 7, 8, 9]  NA                     10000       3291       32.91    6.65   26.26   13.08   54.01              189\n",
            "      4  fg = [0, 1, 2]  bg = [3, 4, 5, 6, 7, 8, 9]  NA                     10000       3281       32.81    5.58   27.23    4.78   62.41                8\n",
            " \n",
            "================================================================================================================================================================\n",
            " \n",
            "================================================================================================================================================================\n",
            "  S.No.  fg_class        bg_class                    Epoch used      total_points    correct    accuracy    FTPT    FFPT    FTPF    FFPF    avg_img > 0.5\n",
            "-------  --------------  --------------------------  ------------  --------------  ---------  ----------  ------  ------  ------  ------  ---------------\n",
            "      1  fg = [0, 1, 2]  bg = [3, 4, 5, 6, 7, 8, 9]  NA                     10000       3292       32.92    5.61   27.31    5.57   61.51               22\n",
            "      2  fg = [0, 1, 2]  bg = [3, 4, 5, 6, 7, 8, 9]  NA                     10000       3296       32.96    5.02   27.94    6.19   60.85               45\n",
            "      3  fg = [0, 1, 2]  bg = [3, 4, 5, 6, 7, 8, 9]  NA                     10000       3315       33.15    5.99   27.16   12.09   54.76              173\n",
            "      4  fg = [0, 1, 2]  bg = [3, 4, 5, 6, 7, 8, 9]  NA                     10000       3293       32.93    5.63   27.3     4.53   62.54               14\n",
            " \n",
            "================================================================================================================================================================\n",
            "[1,    40] loss: 1.101\n",
            "[1,    80] loss: 1.099\n",
            "[1,   120] loss: 1.099\n",
            "[2,    40] loss: 1.099\n",
            "[2,    80] loss: 1.099\n",
            "[2,   120] loss: 1.099\n",
            "[3,    40] loss: 1.099\n",
            "[3,    80] loss: 1.099\n",
            "[3,   120] loss: 1.098\n",
            "[4,    40] loss: 1.098\n",
            "[4,    80] loss: 1.098\n",
            "[4,   120] loss: 1.098\n",
            "[5,    40] loss: 1.098\n",
            "[5,    80] loss: 1.098\n",
            "[5,   120] loss: 1.098\n",
            "[6,    40] loss: 1.098\n",
            "[6,    80] loss: 1.098\n",
            "[6,   120] loss: 1.098\n",
            "[7,    40] loss: 1.098\n",
            "[7,    80] loss: 1.098\n",
            "[7,   120] loss: 1.097\n",
            "[8,    40] loss: 1.097\n",
            "[8,    80] loss: 1.097\n",
            "[8,   120] loss: 1.096\n",
            "[9,    40] loss: 1.096\n",
            "[9,    80] loss: 1.094\n",
            "[9,   120] loss: 1.093\n",
            "[10,    40] loss: 1.092\n",
            "[10,    80] loss: 1.090\n",
            "[10,   120] loss: 1.088\n",
            "[11,    40] loss: 1.086\n",
            "[11,    80] loss: 1.085\n",
            "[11,   120] loss: 1.083\n",
            "[12,    40] loss: 1.083\n",
            "[12,    80] loss: 1.079\n",
            "[12,   120] loss: 1.078\n",
            "[13,    40] loss: 1.075\n",
            "[13,    80] loss: 1.073\n",
            "[13,   120] loss: 1.074\n",
            "[14,    40] loss: 1.071\n",
            "[14,    80] loss: 1.072\n",
            "[14,   120] loss: 1.068\n",
            "[15,    40] loss: 1.070\n",
            "[15,    80] loss: 1.065\n",
            "[15,   120] loss: 1.066\n",
            "[16,    40] loss: 1.060\n",
            "[16,    80] loss: 1.066\n",
            "[16,   120] loss: 1.064\n",
            "[17,    40] loss: 1.061\n",
            "[17,    80] loss: 1.061\n",
            "[17,   120] loss: 1.061\n",
            "[18,    40] loss: 1.061\n",
            "[18,    80] loss: 1.058\n",
            "[18,   120] loss: 1.054\n",
            "[19,    40] loss: 1.058\n",
            "[19,    80] loss: 1.054\n",
            "[19,   120] loss: 1.044\n",
            "[20,    40] loss: 1.040\n",
            "[20,    80] loss: 1.039\n",
            "[20,   120] loss: 1.032\n",
            "[21,    40] loss: 1.027\n",
            "[21,    80] loss: 1.027\n",
            "[21,   120] loss: 1.020\n",
            "[22,    40] loss: 1.017\n",
            "[22,    80] loss: 1.015\n",
            "[22,   120] loss: 1.003\n",
            "[23,    40] loss: 0.995\n",
            "[23,    80] loss: 0.986\n",
            "[23,   120] loss: 0.987\n",
            "[24,    40] loss: 0.954\n",
            "[24,    80] loss: 0.950\n",
            "[24,   120] loss: 0.939\n",
            "[25,    40] loss: 0.919\n",
            "[25,    80] loss: 0.886\n",
            "[25,   120] loss: 0.877\n",
            "[26,    40] loss: 0.828\n",
            "[26,    80] loss: 0.768\n",
            "[26,   120] loss: 0.761\n",
            "[27,    40] loss: 0.445\n",
            "[27,    80] loss: 0.666\n",
            "[27,   120] loss: 0.388\n",
            "[28,    40] loss: 0.273\n",
            "[28,    80] loss: 0.474\n",
            "[28,   120] loss: 0.416\n",
            "[29,    40] loss: 0.207\n",
            "[29,    80] loss: 0.436\n",
            "[29,   120] loss: 0.204\n",
            "[30,    40] loss: 0.170\n",
            "[30,    80] loss: 0.199\n",
            "[30,   120] loss: 0.152\n",
            "[31,    40] loss: 0.139\n",
            "[31,    80] loss: 0.162\n",
            "[31,   120] loss: 0.170\n",
            "[32,    40] loss: 0.117\n",
            "[32,    80] loss: 0.106\n",
            "[32,   120] loss: 0.234\n",
            "[33,    40] loss: 0.114\n",
            "[33,    80] loss: 0.102\n",
            "[33,   120] loss: 0.122\n",
            "[34,    40] loss: 0.090\n",
            "[34,    80] loss: 0.102\n",
            "[34,   120] loss: 0.075\n",
            "[35,    40] loss: 0.068\n",
            "[35,    80] loss: 0.093\n",
            "[35,   120] loss: 0.073\n",
            "[36,    40] loss: 0.060\n",
            "[36,    80] loss: 0.060\n",
            "[36,   120] loss: 0.073\n",
            "[37,    40] loss: 0.056\n",
            "[37,    80] loss: 0.049\n",
            "[37,   120] loss: 0.045\n",
            "[38,    40] loss: 0.045\n",
            "[38,    80] loss: 0.210\n",
            "[38,   120] loss: 0.141\n",
            "[39,    40] loss: 0.051\n",
            "[39,    80] loss: 0.044\n",
            "[39,   120] loss: 0.038\n",
            "Finished Training\n",
            " \n",
            "================================================================================================================================================================\n",
            "  S.No.  fg_class        bg_class                      Epoch used    total_points    correct    accuracy     FTPT     FFPT      FTPF        FFPF    avg_img > 0.5\n",
            "-------  --------------  --------------------------  ------------  --------------  ---------  ----------  -------  -------  --------  ----------  ---------------\n",
            "      1  fg = [0, 1, 2]  bg = [3, 4, 5, 6, 7, 8, 9]            42           30000      29736     99.12    74.49    24.63    0.863333  0.0166667             20102\n",
            "      2  fg = [0, 1, 2]  bg = [3, 4, 5, 6, 7, 8, 9]            42           30000      29177     97.2567  73.2     24.0567  2.73      0.0133333             20137\n",
            "      3  fg = [0, 1, 2]  bg = [3, 4, 5, 6, 7, 8, 9]            44           30000      29687     98.9567  98.5167   0.44    1.03667   0.00666667            29236\n",
            "      4  fg = [0, 1, 2]  bg = [3, 4, 5, 6, 7, 8, 9]            44           30000      29614     98.7133  68.38    30.3333  1.27333   0.0133333             20046\n",
            "      5  fg = [0, 1, 2]  bg = [3, 4, 5, 6, 7, 8, 9]            38           30000      29765     99.2167  77.7     21.5167  0.783333  0                     20155\n",
            " \n",
            "================================================================================================================================================================\n",
            " \n",
            "================================================================================================================================================================\n",
            "  S.No.  fg_class        bg_class                    Epoch used      total_points    correct    accuracy    FTPT    FFPT    FTPF    FFPF    avg_img > 0.5\n",
            "-------  --------------  --------------------------  ------------  --------------  ---------  ----------  ------  ------  ------  ------  ---------------\n",
            "      1  fg = [0, 1, 2]  bg = [3, 4, 5, 6, 7, 8, 9]  NA                     10000       9832       98.32   73.61   24.71    1.63    0.05             6727\n",
            "      2  fg = [0, 1, 2]  bg = [3, 4, 5, 6, 7, 8, 9]  NA                     10000       9629       96.29   72.6    23.69    3.7     0.01             6749\n",
            "      3  fg = [0, 1, 2]  bg = [3, 4, 5, 6, 7, 8, 9]  NA                     10000       9876       98.76   98.19    0.57    1.24    0                9725\n",
            "      4  fg = [0, 1, 2]  bg = [3, 4, 5, 6, 7, 8, 9]  NA                     10000       9761       97.61   67.75   29.86    2.39    0                6718\n",
            "      5  fg = [0, 1, 2]  bg = [3, 4, 5, 6, 7, 8, 9]  NA                     10000       9829       98.29   77.12   21.17    1.71    0                6745\n",
            " \n",
            "================================================================================================================================================================\n",
            " \n",
            "================================================================================================================================================================\n",
            "  S.No.  fg_class        bg_class                    Epoch used      total_points    correct    accuracy    FTPT    FFPT    FTPF    FFPF    avg_img > 0.5\n",
            "-------  --------------  --------------------------  ------------  --------------  ---------  ----------  ------  ------  ------  ------  ---------------\n",
            "      1  fg = [0, 1, 2]  bg = [3, 4, 5, 6, 7, 8, 9]  NA                     10000       9588       95.88   71.28   24.6     4.03    0.09             6730\n",
            "      2  fg = [0, 1, 2]  bg = [3, 4, 5, 6, 7, 8, 9]  NA                     10000       9564       95.64   71.49   24.15    4.31    0.05             6766\n",
            "      3  fg = [0, 1, 2]  bg = [3, 4, 5, 6, 7, 8, 9]  NA                     10000       9829       98.29   97.8     0.49    1.65    0.06             9748\n",
            "      4  fg = [0, 1, 2]  bg = [3, 4, 5, 6, 7, 8, 9]  NA                     10000       9540       95.4    65.68   29.72    4.52    0.08             6727\n",
            "      5  fg = [0, 1, 2]  bg = [3, 4, 5, 6, 7, 8, 9]  NA                     10000       9512       95.12   73.97   21.15    4.84    0.04             6777\n",
            " \n",
            "================================================================================================================================================================\n",
            " \n",
            "================================================================================================================================================================\n",
            "  S.No.  fg_class        bg_class                    Epoch used      total_points    correct    accuracy    FTPT    FFPT    FTPF    FFPF    avg_img > 0.5\n",
            "-------  --------------  --------------------------  ------------  --------------  ---------  ----------  ------  ------  ------  ------  ---------------\n",
            "      1  fg = [0, 1, 2]  bg = [3, 4, 5, 6, 7, 8, 9]  NA                     10000       3275       32.75    5.9    26.85    5.89   61.36               11\n",
            "      2  fg = [0, 1, 2]  bg = [3, 4, 5, 6, 7, 8, 9]  NA                     10000       3281       32.81    5.27   27.54    6.61   60.58               25\n",
            "      3  fg = [0, 1, 2]  bg = [3, 4, 5, 6, 7, 8, 9]  NA                     10000       3291       32.91    6.65   26.26   13.08   54.01              189\n",
            "      4  fg = [0, 1, 2]  bg = [3, 4, 5, 6, 7, 8, 9]  NA                     10000       3281       32.81    5.58   27.23    4.78   62.41                8\n",
            "      5  fg = [0, 1, 2]  bg = [3, 4, 5, 6, 7, 8, 9]  NA                     10000       3274       32.74    6.02   26.72    5.82   61.44               10\n",
            " \n",
            "================================================================================================================================================================\n",
            " \n",
            "================================================================================================================================================================\n",
            "  S.No.  fg_class        bg_class                    Epoch used      total_points    correct    accuracy    FTPT    FFPT    FTPF    FFPF    avg_img > 0.5\n",
            "-------  --------------  --------------------------  ------------  --------------  ---------  ----------  ------  ------  ------  ------  ---------------\n",
            "      1  fg = [0, 1, 2]  bg = [3, 4, 5, 6, 7, 8, 9]  NA                     10000       3292       32.92    5.61   27.31    5.57   61.51               22\n",
            "      2  fg = [0, 1, 2]  bg = [3, 4, 5, 6, 7, 8, 9]  NA                     10000       3296       32.96    5.02   27.94    6.19   60.85               45\n",
            "      3  fg = [0, 1, 2]  bg = [3, 4, 5, 6, 7, 8, 9]  NA                     10000       3315       33.15    5.99   27.16   12.09   54.76              173\n",
            "      4  fg = [0, 1, 2]  bg = [3, 4, 5, 6, 7, 8, 9]  NA                     10000       3293       32.93    5.63   27.3     4.53   62.54               14\n",
            "      5  fg = [0, 1, 2]  bg = [3, 4, 5, 6, 7, 8, 9]  NA                     10000       3290       32.9     5.18   27.72    5.48   61.62               34\n",
            " \n",
            "================================================================================================================================================================\n",
            "[1,    40] loss: 1.109\n",
            "[1,    80] loss: 1.099\n",
            "[1,   120] loss: 1.099\n",
            "[2,    40] loss: 1.099\n",
            "[2,    80] loss: 1.099\n",
            "[2,   120] loss: 1.099\n",
            "[3,    40] loss: 1.099\n",
            "[3,    80] loss: 1.099\n",
            "[3,   120] loss: 1.099\n",
            "[4,    40] loss: 1.099\n",
            "[4,    80] loss: 1.099\n",
            "[4,   120] loss: 1.099\n",
            "[5,    40] loss: 1.099\n",
            "[5,    80] loss: 1.098\n",
            "[5,   120] loss: 1.099\n",
            "[6,    40] loss: 1.099\n",
            "[6,    80] loss: 1.099\n",
            "[6,   120] loss: 1.099\n",
            "[7,    40] loss: 1.099\n",
            "[7,    80] loss: 1.099\n",
            "[7,   120] loss: 1.099\n",
            "[8,    40] loss: 1.099\n",
            "[8,    80] loss: 1.099\n",
            "[8,   120] loss: 1.099\n",
            "[9,    40] loss: 1.098\n",
            "[9,    80] loss: 1.099\n",
            "[9,   120] loss: 1.099\n",
            "[10,    40] loss: 1.099\n",
            "[10,    80] loss: 1.099\n",
            "[10,   120] loss: 1.099\n",
            "[11,    40] loss: 1.098\n",
            "[11,    80] loss: 1.098\n",
            "[11,   120] loss: 1.098\n",
            "[12,    40] loss: 1.098\n",
            "[12,    80] loss: 1.098\n",
            "[12,   120] loss: 1.098\n",
            "[13,    40] loss: 1.098\n",
            "[13,    80] loss: 1.098\n",
            "[13,   120] loss: 1.098\n",
            "[14,    40] loss: 1.098\n",
            "[14,    80] loss: 1.098\n",
            "[14,   120] loss: 1.098\n",
            "[15,    40] loss: 1.098\n",
            "[15,    80] loss: 1.097\n",
            "[15,   120] loss: 1.098\n",
            "[16,    40] loss: 1.097\n",
            "[16,    80] loss: 1.097\n",
            "[16,   120] loss: 1.096\n",
            "[17,    40] loss: 1.096\n",
            "[17,    80] loss: 1.094\n",
            "[17,   120] loss: 1.095\n",
            "[18,    40] loss: 1.093\n",
            "[18,    80] loss: 1.091\n",
            "[18,   120] loss: 1.089\n",
            "[19,    40] loss: 1.088\n",
            "[19,    80] loss: 1.084\n",
            "[19,   120] loss: 1.083\n",
            "[20,    40] loss: 1.081\n",
            "[20,    80] loss: 1.082\n",
            "[20,   120] loss: 1.078\n",
            "[21,    40] loss: 1.079\n",
            "[21,    80] loss: 1.076\n",
            "[21,   120] loss: 1.078\n",
            "[22,    40] loss: 1.075\n",
            "[22,    80] loss: 1.076\n",
            "[22,   120] loss: 1.076\n",
            "[23,    40] loss: 1.073\n",
            "[23,    80] loss: 1.072\n",
            "[23,   120] loss: 1.075\n",
            "[24,    40] loss: 1.073\n",
            "[24,    80] loss: 1.069\n",
            "[24,   120] loss: 1.069\n",
            "[25,    40] loss: 1.063\n",
            "[25,    80] loss: 1.067\n",
            "[25,   120] loss: 1.069\n",
            "[26,    40] loss: 1.065\n",
            "[26,    80] loss: 1.066\n",
            "[26,   120] loss: 1.064\n",
            "[27,    40] loss: 1.059\n",
            "[27,    80] loss: 1.062\n",
            "[27,   120] loss: 1.060\n",
            "[28,    40] loss: 1.060\n",
            "[28,    80] loss: 1.055\n",
            "[28,   120] loss: 1.059\n",
            "[29,    40] loss: 1.052\n",
            "[29,    80] loss: 1.050\n",
            "[29,   120] loss: 1.036\n",
            "[30,    40] loss: 1.036\n",
            "[30,    80] loss: 1.032\n",
            "[30,   120] loss: 1.026\n",
            "[31,    40] loss: 1.027\n",
            "[31,    80] loss: 1.012\n",
            "[31,   120] loss: 1.020\n",
            "[32,    40] loss: 1.012\n",
            "[32,    80] loss: 1.008\n",
            "[32,   120] loss: 0.991\n",
            "[33,    40] loss: 0.980\n",
            "[33,    80] loss: 0.965\n",
            "[33,   120] loss: 0.959\n",
            "[34,    40] loss: 0.949\n",
            "[34,    80] loss: 0.941\n",
            "[34,   120] loss: 0.920\n",
            "[35,    40] loss: 0.888\n",
            "[35,    80] loss: 0.871\n",
            "[35,   120] loss: 0.829\n",
            "[36,    40] loss: 0.906\n",
            "[36,    80] loss: 0.854\n",
            "[36,   120] loss: 0.705\n",
            "[37,    40] loss: 0.755\n",
            "[37,    80] loss: 0.452\n",
            "[37,   120] loss: 0.395\n",
            "[38,    40] loss: 0.274\n",
            "[38,    80] loss: 0.332\n",
            "[38,   120] loss: 0.271\n",
            "[39,    40] loss: 0.189\n",
            "[39,    80] loss: 0.609\n",
            "[39,   120] loss: 0.233\n",
            "[40,    40] loss: 0.213\n",
            "[40,    80] loss: 0.201\n",
            "[40,   120] loss: 0.159\n",
            "[41,    40] loss: 0.184\n",
            "[41,    80] loss: 0.394\n",
            "[41,   120] loss: 0.155\n",
            "[42,    40] loss: 0.124\n",
            "[42,    80] loss: 0.125\n",
            "[42,   120] loss: 0.116\n",
            "[43,    40] loss: 0.102\n",
            "[43,    80] loss: 0.106\n",
            "[43,   120] loss: 0.104\n",
            "[44,    40] loss: 0.094\n",
            "[44,    80] loss: 0.092\n",
            "[44,   120] loss: 0.081\n",
            "[45,    40] loss: 0.075\n",
            "[45,    80] loss: 0.067\n",
            "[45,   120] loss: 0.062\n",
            "[46,    40] loss: 0.064\n",
            "[46,    80] loss: 0.060\n",
            "[46,   120] loss: 0.211\n",
            "[47,    40] loss: 0.086\n",
            "[47,    80] loss: 0.055\n",
            "[47,   120] loss: 0.048\n",
            "[48,    40] loss: 0.051\n",
            "[48,    80] loss: 0.056\n",
            "[48,   120] loss: 0.052\n",
            "[49,    40] loss: 0.037\n",
            "[49,    80] loss: 0.042\n",
            "[49,   120] loss: 0.087\n",
            "[50,    40] loss: 0.205\n",
            "[50,    80] loss: 0.042\n",
            "[50,   120] loss: 0.047\n",
            "[51,    40] loss: 0.121\n",
            "[51,    80] loss: 0.037\n",
            "[51,   120] loss: 0.024\n",
            "[52,    40] loss: 0.022\n",
            "[52,    80] loss: 0.021\n",
            "[52,   120] loss: 0.021\n",
            "Finished Training\n",
            " \n",
            "================================================================================================================================================================\n",
            "  S.No.  fg_class        bg_class                      Epoch used    total_points    correct    accuracy     FTPT     FFPT      FTPF        FFPF    avg_img > 0.5\n",
            "-------  --------------  --------------------------  ------------  --------------  ---------  ----------  -------  -------  --------  ----------  ---------------\n",
            "      1  fg = [0, 1, 2]  bg = [3, 4, 5, 6, 7, 8, 9]            42           30000      29736     99.12    74.49    24.63    0.863333  0.0166667             20102\n",
            "      2  fg = [0, 1, 2]  bg = [3, 4, 5, 6, 7, 8, 9]            42           30000      29177     97.2567  73.2     24.0567  2.73      0.0133333             20137\n",
            "      3  fg = [0, 1, 2]  bg = [3, 4, 5, 6, 7, 8, 9]            44           30000      29687     98.9567  98.5167   0.44    1.03667   0.00666667            29236\n",
            "      4  fg = [0, 1, 2]  bg = [3, 4, 5, 6, 7, 8, 9]            44           30000      29614     98.7133  68.38    30.3333  1.27333   0.0133333             20046\n",
            "      5  fg = [0, 1, 2]  bg = [3, 4, 5, 6, 7, 8, 9]            38           30000      29765     99.2167  77.7     21.5167  0.783333  0                     20155\n",
            "      6  fg = [0, 1, 2]  bg = [3, 4, 5, 6, 7, 8, 9]            51           30000      29870     99.5667  75.5733  23.9933  0.426667  0.00666667            20099\n",
            " \n",
            "================================================================================================================================================================\n",
            " \n",
            "================================================================================================================================================================\n",
            "  S.No.  fg_class        bg_class                    Epoch used      total_points    correct    accuracy    FTPT    FFPT    FTPF    FFPF    avg_img > 0.5\n",
            "-------  --------------  --------------------------  ------------  --------------  ---------  ----------  ------  ------  ------  ------  ---------------\n",
            "      1  fg = [0, 1, 2]  bg = [3, 4, 5, 6, 7, 8, 9]  NA                     10000       9832       98.32   73.61   24.71    1.63    0.05             6727\n",
            "      2  fg = [0, 1, 2]  bg = [3, 4, 5, 6, 7, 8, 9]  NA                     10000       9629       96.29   72.6    23.69    3.7     0.01             6749\n",
            "      3  fg = [0, 1, 2]  bg = [3, 4, 5, 6, 7, 8, 9]  NA                     10000       9876       98.76   98.19    0.57    1.24    0                9725\n",
            "      4  fg = [0, 1, 2]  bg = [3, 4, 5, 6, 7, 8, 9]  NA                     10000       9761       97.61   67.75   29.86    2.39    0                6718\n",
            "      5  fg = [0, 1, 2]  bg = [3, 4, 5, 6, 7, 8, 9]  NA                     10000       9829       98.29   77.12   21.17    1.71    0                6745\n",
            "      6  fg = [0, 1, 2]  bg = [3, 4, 5, 6, 7, 8, 9]  NA                     10000       9875       98.75   74.71   24.04    1.23    0.02             6731\n",
            " \n",
            "================================================================================================================================================================\n",
            " \n",
            "================================================================================================================================================================\n",
            "  S.No.  fg_class        bg_class                    Epoch used      total_points    correct    accuracy    FTPT    FFPT    FTPF    FFPF    avg_img > 0.5\n",
            "-------  --------------  --------------------------  ------------  --------------  ---------  ----------  ------  ------  ------  ------  ---------------\n",
            "      1  fg = [0, 1, 2]  bg = [3, 4, 5, 6, 7, 8, 9]  NA                     10000       9588       95.88   71.28   24.6     4.03    0.09             6730\n",
            "      2  fg = [0, 1, 2]  bg = [3, 4, 5, 6, 7, 8, 9]  NA                     10000       9564       95.64   71.49   24.15    4.31    0.05             6766\n",
            "      3  fg = [0, 1, 2]  bg = [3, 4, 5, 6, 7, 8, 9]  NA                     10000       9829       98.29   97.8     0.49    1.65    0.06             9748\n",
            "      4  fg = [0, 1, 2]  bg = [3, 4, 5, 6, 7, 8, 9]  NA                     10000       9540       95.4    65.68   29.72    4.52    0.08             6727\n",
            "      5  fg = [0, 1, 2]  bg = [3, 4, 5, 6, 7, 8, 9]  NA                     10000       9512       95.12   73.97   21.15    4.84    0.04             6777\n",
            "      6  fg = [0, 1, 2]  bg = [3, 4, 5, 6, 7, 8, 9]  NA                     10000       9546       95.46   72.08   23.38    4.51    0.03             6749\n",
            " \n",
            "================================================================================================================================================================\n",
            " \n",
            "================================================================================================================================================================\n",
            "  S.No.  fg_class        bg_class                    Epoch used      total_points    correct    accuracy    FTPT    FFPT    FTPF    FFPF    avg_img > 0.5\n",
            "-------  --------------  --------------------------  ------------  --------------  ---------  ----------  ------  ------  ------  ------  ---------------\n",
            "      1  fg = [0, 1, 2]  bg = [3, 4, 5, 6, 7, 8, 9]  NA                     10000       3275       32.75    5.9    26.85    5.89   61.36               11\n",
            "      2  fg = [0, 1, 2]  bg = [3, 4, 5, 6, 7, 8, 9]  NA                     10000       3281       32.81    5.27   27.54    6.61   60.58               25\n",
            "      3  fg = [0, 1, 2]  bg = [3, 4, 5, 6, 7, 8, 9]  NA                     10000       3291       32.91    6.65   26.26   13.08   54.01              189\n",
            "      4  fg = [0, 1, 2]  bg = [3, 4, 5, 6, 7, 8, 9]  NA                     10000       3281       32.81    5.58   27.23    4.78   62.41                8\n",
            "      5  fg = [0, 1, 2]  bg = [3, 4, 5, 6, 7, 8, 9]  NA                     10000       3274       32.74    6.02   26.72    5.82   61.44               10\n",
            "      6  fg = [0, 1, 2]  bg = [3, 4, 5, 6, 7, 8, 9]  NA                     10000       3271       32.71    5.61   27.1     5.01   62.28               17\n",
            " \n",
            "================================================================================================================================================================\n",
            " \n",
            "================================================================================================================================================================\n",
            "  S.No.  fg_class        bg_class                    Epoch used      total_points    correct    accuracy    FTPT    FFPT    FTPF    FFPF    avg_img > 0.5\n",
            "-------  --------------  --------------------------  ------------  --------------  ---------  ----------  ------  ------  ------  ------  ---------------\n",
            "      1  fg = [0, 1, 2]  bg = [3, 4, 5, 6, 7, 8, 9]  NA                     10000       3292       32.92    5.61   27.31    5.57   61.51               22\n",
            "      2  fg = [0, 1, 2]  bg = [3, 4, 5, 6, 7, 8, 9]  NA                     10000       3296       32.96    5.02   27.94    6.19   60.85               45\n",
            "      3  fg = [0, 1, 2]  bg = [3, 4, 5, 6, 7, 8, 9]  NA                     10000       3315       33.15    5.99   27.16   12.09   54.76              173\n",
            "      4  fg = [0, 1, 2]  bg = [3, 4, 5, 6, 7, 8, 9]  NA                     10000       3293       32.93    5.63   27.3     4.53   62.54               14\n",
            "      5  fg = [0, 1, 2]  bg = [3, 4, 5, 6, 7, 8, 9]  NA                     10000       3290       32.9     5.18   27.72    5.48   61.62               34\n",
            "      6  fg = [0, 1, 2]  bg = [3, 4, 5, 6, 7, 8, 9]  NA                     10000       3294       32.94    5.66   27.28    4.69   62.37               34\n",
            " \n",
            "================================================================================================================================================================\n",
            "[1,    40] loss: 1.104\n",
            "[1,    80] loss: 1.099\n",
            "[1,   120] loss: 1.099\n",
            "[2,    40] loss: 1.099\n",
            "[2,    80] loss: 1.099\n",
            "[2,   120] loss: 1.099\n",
            "[3,    40] loss: 1.099\n",
            "[3,    80] loss: 1.099\n",
            "[3,   120] loss: 1.099\n",
            "[4,    40] loss: 1.099\n",
            "[4,    80] loss: 1.099\n",
            "[4,   120] loss: 1.099\n",
            "[5,    40] loss: 1.099\n",
            "[5,    80] loss: 1.099\n",
            "[5,   120] loss: 1.099\n",
            "[6,    40] loss: 1.099\n",
            "[6,    80] loss: 1.099\n",
            "[6,   120] loss: 1.099\n",
            "[7,    40] loss: 1.099\n",
            "[7,    80] loss: 1.099\n",
            "[7,   120] loss: 1.099\n",
            "[8,    40] loss: 1.099\n",
            "[8,    80] loss: 1.099\n",
            "[8,   120] loss: 1.099\n",
            "[9,    40] loss: 1.099\n",
            "[9,    80] loss: 1.099\n",
            "[9,   120] loss: 1.099\n",
            "[10,    40] loss: 1.098\n",
            "[10,    80] loss: 1.099\n",
            "[10,   120] loss: 1.099\n",
            "[11,    40] loss: 1.099\n",
            "[11,    80] loss: 1.099\n",
            "[11,   120] loss: 1.098\n",
            "[12,    40] loss: 1.098\n",
            "[12,    80] loss: 1.098\n",
            "[12,   120] loss: 1.099\n",
            "[13,    40] loss: 1.099\n",
            "[13,    80] loss: 1.099\n",
            "[13,   120] loss: 1.098\n",
            "[14,    40] loss: 1.098\n",
            "[14,    80] loss: 1.098\n",
            "[14,   120] loss: 1.098\n",
            "[15,    40] loss: 1.098\n",
            "[15,    80] loss: 1.098\n",
            "[15,   120] loss: 1.098\n",
            "[16,    40] loss: 1.098\n",
            "[16,    80] loss: 1.098\n",
            "[16,   120] loss: 1.098\n",
            "[17,    40] loss: 1.097\n",
            "[17,    80] loss: 1.097\n",
            "[17,   120] loss: 1.097\n",
            "[18,    40] loss: 1.096\n",
            "[18,    80] loss: 1.096\n",
            "[18,   120] loss: 1.095\n",
            "[19,    40] loss: 1.094\n",
            "[19,    80] loss: 1.093\n",
            "[19,   120] loss: 1.090\n",
            "[20,    40] loss: 1.091\n",
            "[20,    80] loss: 1.087\n",
            "[20,   120] loss: 1.087\n",
            "[21,    40] loss: 1.087\n",
            "[21,    80] loss: 1.082\n",
            "[21,   120] loss: 1.082\n",
            "[22,    40] loss: 1.081\n",
            "[22,    80] loss: 1.079\n",
            "[22,   120] loss: 1.077\n",
            "[23,    40] loss: 1.078\n",
            "[23,    80] loss: 1.076\n",
            "[23,   120] loss: 1.074\n",
            "[24,    40] loss: 1.073\n",
            "[24,    80] loss: 1.072\n",
            "[24,   120] loss: 1.074\n",
            "[25,    40] loss: 1.070\n",
            "[25,    80] loss: 1.069\n",
            "[25,   120] loss: 1.070\n",
            "[26,    40] loss: 1.070\n",
            "[26,    80] loss: 1.066\n",
            "[26,   120] loss: 1.064\n",
            "[27,    40] loss: 1.065\n",
            "[27,    80] loss: 1.067\n",
            "[27,   120] loss: 1.062\n",
            "[28,    40] loss: 1.064\n",
            "[28,    80] loss: 1.060\n",
            "[28,   120] loss: 1.062\n",
            "[29,    40] loss: 1.057\n",
            "[29,    80] loss: 1.059\n",
            "[29,   120] loss: 1.062\n",
            "[30,    40] loss: 1.056\n",
            "[30,    80] loss: 1.059\n",
            "[30,   120] loss: 1.059\n",
            "[31,    40] loss: 1.056\n",
            "[31,    80] loss: 1.052\n",
            "[31,   120] loss: 1.057\n",
            "[32,    40] loss: 1.052\n",
            "[32,    80] loss: 1.049\n",
            "[32,   120] loss: 1.047\n",
            "[33,    40] loss: 1.041\n",
            "[33,    80] loss: 1.038\n",
            "[33,   120] loss: 1.028\n",
            "[34,    40] loss: 1.023\n",
            "[34,    80] loss: 1.016\n",
            "[34,   120] loss: 1.017\n",
            "[35,    40] loss: 1.002\n",
            "[35,    80] loss: 1.002\n",
            "[35,   120] loss: 1.000\n",
            "[36,    40] loss: 0.982\n",
            "[36,    80] loss: 0.971\n",
            "[36,   120] loss: 0.965\n",
            "[37,    40] loss: 0.951\n",
            "[37,    80] loss: 0.940\n",
            "[37,   120] loss: 0.935\n",
            "[38,    40] loss: 0.916\n",
            "[38,    80] loss: 0.902\n",
            "[38,   120] loss: 0.891\n",
            "[39,    40] loss: 0.860\n",
            "[39,    80] loss: 0.846\n",
            "[39,   120] loss: 0.811\n",
            "[40,    40] loss: 0.787\n",
            "[40,    80] loss: 0.750\n",
            "[40,   120] loss: 0.673\n",
            "[41,    40] loss: 0.685\n",
            "[41,    80] loss: 0.574\n",
            "[41,   120] loss: 0.489\n",
            "[42,    40] loss: 0.791\n",
            "[42,    80] loss: 0.697\n",
            "[42,   120] loss: 0.446\n",
            "[43,    40] loss: 0.367\n",
            "[43,    80] loss: 0.319\n",
            "[43,   120] loss: 0.314\n",
            "[44,    40] loss: 0.209\n",
            "[44,    80] loss: 0.447\n",
            "[44,   120] loss: 0.239\n",
            "[45,    40] loss: 0.169\n",
            "[45,    80] loss: 0.183\n",
            "[45,   120] loss: 0.109\n",
            "[46,    40] loss: 0.187\n",
            "[46,    80] loss: 0.157\n",
            "[46,   120] loss: 0.070\n",
            "[47,    40] loss: 0.060\n",
            "[47,    80] loss: 0.165\n",
            "[47,   120] loss: 0.230\n",
            "[48,    40] loss: 0.173\n",
            "[48,    80] loss: 0.072\n",
            "[48,   120] loss: 0.052\n",
            "[49,    40] loss: 0.067\n",
            "[49,    80] loss: 0.059\n",
            "[49,   120] loss: 0.040\n",
            "[50,    40] loss: 0.172\n",
            "[50,    80] loss: 0.579\n",
            "[50,   120] loss: 0.172\n",
            "[51,    40] loss: 0.171\n",
            "[51,    80] loss: 0.090\n",
            "[51,   120] loss: 0.108\n",
            "[52,    40] loss: 0.070\n",
            "[52,    80] loss: 0.121\n",
            "[52,   120] loss: 0.055\n",
            "[53,    40] loss: 0.092\n",
            "[53,    80] loss: 0.077\n",
            "[53,   120] loss: 0.142\n",
            "[54,    40] loss: 0.082\n",
            "[54,    80] loss: 0.042\n",
            "[54,   120] loss: 0.035\n",
            "[55,    40] loss: 0.140\n",
            "[55,    80] loss: 0.052\n",
            "[55,   120] loss: 0.041\n",
            "[56,    40] loss: 0.034\n",
            "[56,    80] loss: 0.042\n",
            "[56,   120] loss: 0.037\n",
            "Finished Training\n",
            " \n",
            "================================================================================================================================================================\n",
            "  S.No.  fg_class        bg_class                      Epoch used    total_points    correct    accuracy     FTPT     FFPT      FTPF        FFPF    avg_img > 0.5\n",
            "-------  --------------  --------------------------  ------------  --------------  ---------  ----------  -------  -------  --------  ----------  ---------------\n",
            "      1  fg = [0, 1, 2]  bg = [3, 4, 5, 6, 7, 8, 9]            42           30000      29736     99.12    74.49    24.63    0.863333  0.0166667             20102\n",
            "      2  fg = [0, 1, 2]  bg = [3, 4, 5, 6, 7, 8, 9]            42           30000      29177     97.2567  73.2     24.0567  2.73      0.0133333             20137\n",
            "      3  fg = [0, 1, 2]  bg = [3, 4, 5, 6, 7, 8, 9]            44           30000      29687     98.9567  98.5167   0.44    1.03667   0.00666667            29236\n",
            "      4  fg = [0, 1, 2]  bg = [3, 4, 5, 6, 7, 8, 9]            44           30000      29614     98.7133  68.38    30.3333  1.27333   0.0133333             20046\n",
            "      5  fg = [0, 1, 2]  bg = [3, 4, 5, 6, 7, 8, 9]            38           30000      29765     99.2167  77.7     21.5167  0.783333  0                     20155\n",
            "      6  fg = [0, 1, 2]  bg = [3, 4, 5, 6, 7, 8, 9]            51           30000      29870     99.5667  75.5733  23.9933  0.426667  0.00666667            20099\n",
            "      7  fg = [0, 1, 2]  bg = [3, 4, 5, 6, 7, 8, 9]            55           30000      29710     99.0333  43.5733  55.46    0.163333  0.803333                  0\n",
            " \n",
            "================================================================================================================================================================\n",
            " \n",
            "================================================================================================================================================================\n",
            "  S.No.  fg_class        bg_class                    Epoch used      total_points    correct    accuracy    FTPT    FFPT    FTPF    FFPF    avg_img > 0.5\n",
            "-------  --------------  --------------------------  ------------  --------------  ---------  ----------  ------  ------  ------  ------  ---------------\n",
            "      1  fg = [0, 1, 2]  bg = [3, 4, 5, 6, 7, 8, 9]  NA                     10000       9832       98.32   73.61   24.71    1.63    0.05             6727\n",
            "      2  fg = [0, 1, 2]  bg = [3, 4, 5, 6, 7, 8, 9]  NA                     10000       9629       96.29   72.6    23.69    3.7     0.01             6749\n",
            "      3  fg = [0, 1, 2]  bg = [3, 4, 5, 6, 7, 8, 9]  NA                     10000       9876       98.76   98.19    0.57    1.24    0                9725\n",
            "      4  fg = [0, 1, 2]  bg = [3, 4, 5, 6, 7, 8, 9]  NA                     10000       9761       97.61   67.75   29.86    2.39    0                6718\n",
            "      5  fg = [0, 1, 2]  bg = [3, 4, 5, 6, 7, 8, 9]  NA                     10000       9829       98.29   77.12   21.17    1.71    0                6745\n",
            "      6  fg = [0, 1, 2]  bg = [3, 4, 5, 6, 7, 8, 9]  NA                     10000       9875       98.75   74.71   24.04    1.23    0.02             6731\n",
            "      7  fg = [0, 1, 2]  bg = [3, 4, 5, 6, 7, 8, 9]  NA                     10000       9875       98.75   43.2    55.55    0.21    1.04                0\n",
            " \n",
            "================================================================================================================================================================\n",
            " \n",
            "================================================================================================================================================================\n",
            "  S.No.  fg_class        bg_class                    Epoch used      total_points    correct    accuracy    FTPT    FFPT    FTPF    FFPF    avg_img > 0.5\n",
            "-------  --------------  --------------------------  ------------  --------------  ---------  ----------  ------  ------  ------  ------  ---------------\n",
            "      1  fg = [0, 1, 2]  bg = [3, 4, 5, 6, 7, 8, 9]  NA                     10000       9588       95.88   71.28   24.6     4.03    0.09             6730\n",
            "      2  fg = [0, 1, 2]  bg = [3, 4, 5, 6, 7, 8, 9]  NA                     10000       9564       95.64   71.49   24.15    4.31    0.05             6766\n",
            "      3  fg = [0, 1, 2]  bg = [3, 4, 5, 6, 7, 8, 9]  NA                     10000       9829       98.29   97.8     0.49    1.65    0.06             9748\n",
            "      4  fg = [0, 1, 2]  bg = [3, 4, 5, 6, 7, 8, 9]  NA                     10000       9540       95.4    65.68   29.72    4.52    0.08             6727\n",
            "      5  fg = [0, 1, 2]  bg = [3, 4, 5, 6, 7, 8, 9]  NA                     10000       9512       95.12   73.97   21.15    4.84    0.04             6777\n",
            "      6  fg = [0, 1, 2]  bg = [3, 4, 5, 6, 7, 8, 9]  NA                     10000       9546       95.46   72.08   23.38    4.51    0.03             6749\n",
            "      7  fg = [0, 1, 2]  bg = [3, 4, 5, 6, 7, 8, 9]  NA                     10000       9864       98.64   40.85   57.79    0.24    1.12                0\n",
            " \n",
            "================================================================================================================================================================\n",
            " \n",
            "================================================================================================================================================================\n",
            "  S.No.  fg_class        bg_class                    Epoch used      total_points    correct    accuracy    FTPT    FFPT    FTPF    FFPF    avg_img > 0.5\n",
            "-------  --------------  --------------------------  ------------  --------------  ---------  ----------  ------  ------  ------  ------  ---------------\n",
            "      1  fg = [0, 1, 2]  bg = [3, 4, 5, 6, 7, 8, 9]  NA                     10000       3275       32.75    5.9    26.85    5.89   61.36               11\n",
            "      2  fg = [0, 1, 2]  bg = [3, 4, 5, 6, 7, 8, 9]  NA                     10000       3281       32.81    5.27   27.54    6.61   60.58               25\n",
            "      3  fg = [0, 1, 2]  bg = [3, 4, 5, 6, 7, 8, 9]  NA                     10000       3291       32.91    6.65   26.26   13.08   54.01              189\n",
            "      4  fg = [0, 1, 2]  bg = [3, 4, 5, 6, 7, 8, 9]  NA                     10000       3281       32.81    5.58   27.23    4.78   62.41                8\n",
            "      5  fg = [0, 1, 2]  bg = [3, 4, 5, 6, 7, 8, 9]  NA                     10000       3274       32.74    6.02   26.72    5.82   61.44               10\n",
            "      6  fg = [0, 1, 2]  bg = [3, 4, 5, 6, 7, 8, 9]  NA                     10000       3271       32.71    5.61   27.1     5.01   62.28               17\n",
            "      7  fg = [0, 1, 2]  bg = [3, 4, 5, 6, 7, 8, 9]  NA                     10000       3338       33.38    7.57   25.81   35.95   30.67                0\n",
            " \n",
            "================================================================================================================================================================\n",
            " \n",
            "================================================================================================================================================================\n",
            "  S.No.  fg_class        bg_class                    Epoch used      total_points    correct    accuracy    FTPT    FFPT    FTPF    FFPF    avg_img > 0.5\n",
            "-------  --------------  --------------------------  ------------  --------------  ---------  ----------  ------  ------  ------  ------  ---------------\n",
            "      1  fg = [0, 1, 2]  bg = [3, 4, 5, 6, 7, 8, 9]  NA                     10000       3292       32.92    5.61   27.31    5.57   61.51               22\n",
            "      2  fg = [0, 1, 2]  bg = [3, 4, 5, 6, 7, 8, 9]  NA                     10000       3296       32.96    5.02   27.94    6.19   60.85               45\n",
            "      3  fg = [0, 1, 2]  bg = [3, 4, 5, 6, 7, 8, 9]  NA                     10000       3315       33.15    5.99   27.16   12.09   54.76              173\n",
            "      4  fg = [0, 1, 2]  bg = [3, 4, 5, 6, 7, 8, 9]  NA                     10000       3293       32.93    5.63   27.3     4.53   62.54               14\n",
            "      5  fg = [0, 1, 2]  bg = [3, 4, 5, 6, 7, 8, 9]  NA                     10000       3290       32.9     5.18   27.72    5.48   61.62               34\n",
            "      6  fg = [0, 1, 2]  bg = [3, 4, 5, 6, 7, 8, 9]  NA                     10000       3294       32.94    5.66   27.28    4.69   62.37               34\n",
            "      7  fg = [0, 1, 2]  bg = [3, 4, 5, 6, 7, 8, 9]  NA                     10000       3346       33.46    7.05   26.41   34.82   31.72                0\n",
            " \n",
            "================================================================================================================================================================\n",
            "[1,    40] loss: 1.099\n",
            "[1,    80] loss: 1.099\n",
            "[1,   120] loss: 1.099\n",
            "[2,    40] loss: 1.098\n",
            "[2,    80] loss: 1.099\n",
            "[2,   120] loss: 1.099\n",
            "[3,    40] loss: 1.098\n",
            "[3,    80] loss: 1.098\n",
            "[3,   120] loss: 1.098\n",
            "[4,    40] loss: 1.098\n",
            "[4,    80] loss: 1.098\n",
            "[4,   120] loss: 1.098\n",
            "[5,    40] loss: 1.098\n",
            "[5,    80] loss: 1.098\n",
            "[5,   120] loss: 1.097\n",
            "[6,    40] loss: 1.097\n",
            "[6,    80] loss: 1.096\n",
            "[6,   120] loss: 1.096\n",
            "[7,    40] loss: 1.095\n",
            "[7,    80] loss: 1.094\n",
            "[7,   120] loss: 1.091\n",
            "[8,    40] loss: 1.090\n",
            "[8,    80] loss: 1.088\n",
            "[8,   120] loss: 1.085\n",
            "[9,    40] loss: 1.082\n",
            "[9,    80] loss: 1.080\n",
            "[9,   120] loss: 1.079\n",
            "[10,    40] loss: 1.077\n",
            "[10,    80] loss: 1.073\n",
            "[10,   120] loss: 1.074\n",
            "[11,    40] loss: 1.070\n",
            "[11,    80] loss: 1.071\n",
            "[11,   120] loss: 1.070\n",
            "[12,    40] loss: 1.066\n",
            "[12,    80] loss: 1.064\n",
            "[12,   120] loss: 1.066\n",
            "[13,    40] loss: 1.062\n",
            "[13,    80] loss: 1.060\n",
            "[13,   120] loss: 1.062\n",
            "[14,    40] loss: 1.058\n",
            "[14,    80] loss: 1.055\n",
            "[14,   120] loss: 1.052\n",
            "[15,    40] loss: 1.051\n",
            "[15,    80] loss: 1.039\n",
            "[15,   120] loss: 1.033\n",
            "[16,    40] loss: 1.031\n",
            "[16,    80] loss: 1.024\n",
            "[16,   120] loss: 1.029\n",
            "[17,    40] loss: 1.022\n",
            "[17,    80] loss: 1.026\n",
            "[17,   120] loss: 1.012\n",
            "[18,    40] loss: 1.009\n",
            "[18,    80] loss: 1.010\n",
            "[18,   120] loss: 1.013\n",
            "[19,    40] loss: 0.994\n",
            "[19,    80] loss: 0.995\n",
            "[19,   120] loss: 0.981\n",
            "[20,    40] loss: 0.968\n",
            "[20,    80] loss: 0.961\n",
            "[20,   120] loss: 0.950\n",
            "[21,    40] loss: 0.926\n",
            "[21,    80] loss: 0.915\n",
            "[21,   120] loss: 0.909\n",
            "[22,    40] loss: 0.895\n",
            "[22,    80] loss: 0.878\n",
            "[22,   120] loss: 0.862\n",
            "[23,    40] loss: 0.849\n",
            "[23,    80] loss: 0.809\n",
            "[23,   120] loss: 0.803\n",
            "[24,    40] loss: 0.820\n",
            "[24,    80] loss: 1.039\n",
            "[24,   120] loss: 1.018\n",
            "[25,    40] loss: 0.839\n",
            "[25,    80] loss: 0.750\n",
            "[25,   120] loss: 0.517\n",
            "[26,    40] loss: 0.461\n",
            "[26,    80] loss: 0.581\n",
            "[26,   120] loss: 0.263\n",
            "[27,    40] loss: 0.306\n",
            "[27,    80] loss: 0.187\n",
            "[27,   120] loss: 0.157\n",
            "[28,    40] loss: 0.705\n",
            "[28,    80] loss: 0.204\n",
            "[28,   120] loss: 0.141\n",
            "[29,    40] loss: 0.128\n",
            "[29,    80] loss: 0.119\n",
            "[29,   120] loss: 0.113\n",
            "[30,    40] loss: 0.432\n",
            "[30,    80] loss: 0.142\n",
            "[30,   120] loss: 0.292\n",
            "[31,    40] loss: 0.239\n",
            "[31,    80] loss: 0.103\n",
            "[31,   120] loss: 0.093\n",
            "[32,    40] loss: 0.088\n",
            "[32,    80] loss: 0.084\n",
            "[32,   120] loss: 0.112\n",
            "[33,    40] loss: 0.078\n",
            "[33,    80] loss: 0.076\n",
            "[33,   120] loss: 0.080\n",
            "[34,    40] loss: 0.060\n",
            "[34,    80] loss: 0.060\n",
            "[34,   120] loss: 0.181\n",
            "[35,    40] loss: 0.160\n",
            "[35,    80] loss: 0.055\n",
            "[35,   120] loss: 0.049\n",
            "[36,    40] loss: 0.039\n",
            "[36,    80] loss: 0.035\n",
            "[36,   120] loss: 0.040\n",
            "Finished Training\n",
            " \n",
            "================================================================================================================================================================\n",
            "  S.No.  fg_class        bg_class                      Epoch used    total_points    correct    accuracy     FTPT     FFPT      FTPF        FFPF    avg_img > 0.5\n",
            "-------  --------------  --------------------------  ------------  --------------  ---------  ----------  -------  -------  --------  ----------  ---------------\n",
            "      1  fg = [0, 1, 2]  bg = [3, 4, 5, 6, 7, 8, 9]            42           30000      29736     99.12    74.49    24.63    0.863333  0.0166667             20102\n",
            "      2  fg = [0, 1, 2]  bg = [3, 4, 5, 6, 7, 8, 9]            42           30000      29177     97.2567  73.2     24.0567  2.73      0.0133333             20137\n",
            "      3  fg = [0, 1, 2]  bg = [3, 4, 5, 6, 7, 8, 9]            44           30000      29687     98.9567  98.5167   0.44    1.03667   0.00666667            29236\n",
            "      4  fg = [0, 1, 2]  bg = [3, 4, 5, 6, 7, 8, 9]            44           30000      29614     98.7133  68.38    30.3333  1.27333   0.0133333             20046\n",
            "      5  fg = [0, 1, 2]  bg = [3, 4, 5, 6, 7, 8, 9]            38           30000      29765     99.2167  77.7     21.5167  0.783333  0                     20155\n",
            "      6  fg = [0, 1, 2]  bg = [3, 4, 5, 6, 7, 8, 9]            51           30000      29870     99.5667  75.5733  23.9933  0.426667  0.00666667            20099\n",
            "      7  fg = [0, 1, 2]  bg = [3, 4, 5, 6, 7, 8, 9]            55           30000      29710     99.0333  43.5733  55.46    0.163333  0.803333                  0\n",
            "      8  fg = [0, 1, 2]  bg = [3, 4, 5, 6, 7, 8, 9]            35           30000      29836     99.4533  77.3367  22.1167  0.536667  0.01                  20100\n",
            " \n",
            "================================================================================================================================================================\n",
            " \n",
            "================================================================================================================================================================\n",
            "  S.No.  fg_class        bg_class                    Epoch used      total_points    correct    accuracy    FTPT    FFPT    FTPF    FFPF    avg_img > 0.5\n",
            "-------  --------------  --------------------------  ------------  --------------  ---------  ----------  ------  ------  ------  ------  ---------------\n",
            "      1  fg = [0, 1, 2]  bg = [3, 4, 5, 6, 7, 8, 9]  NA                     10000       9832       98.32   73.61   24.71    1.63    0.05             6727\n",
            "      2  fg = [0, 1, 2]  bg = [3, 4, 5, 6, 7, 8, 9]  NA                     10000       9629       96.29   72.6    23.69    3.7     0.01             6749\n",
            "      3  fg = [0, 1, 2]  bg = [3, 4, 5, 6, 7, 8, 9]  NA                     10000       9876       98.76   98.19    0.57    1.24    0                9725\n",
            "      4  fg = [0, 1, 2]  bg = [3, 4, 5, 6, 7, 8, 9]  NA                     10000       9761       97.61   67.75   29.86    2.39    0                6718\n",
            "      5  fg = [0, 1, 2]  bg = [3, 4, 5, 6, 7, 8, 9]  NA                     10000       9829       98.29   77.12   21.17    1.71    0                6745\n",
            "      6  fg = [0, 1, 2]  bg = [3, 4, 5, 6, 7, 8, 9]  NA                     10000       9875       98.75   74.71   24.04    1.23    0.02             6731\n",
            "      7  fg = [0, 1, 2]  bg = [3, 4, 5, 6, 7, 8, 9]  NA                     10000       9875       98.75   43.2    55.55    0.21    1.04                0\n",
            "      8  fg = [0, 1, 2]  bg = [3, 4, 5, 6, 7, 8, 9]  NA                     10000       9855       98.55   76.74   21.81    1.43    0.02             6734\n",
            " \n",
            "================================================================================================================================================================\n",
            " \n",
            "================================================================================================================================================================\n",
            "  S.No.  fg_class        bg_class                    Epoch used      total_points    correct    accuracy    FTPT    FFPT    FTPF    FFPF    avg_img > 0.5\n",
            "-------  --------------  --------------------------  ------------  --------------  ---------  ----------  ------  ------  ------  ------  ---------------\n",
            "      1  fg = [0, 1, 2]  bg = [3, 4, 5, 6, 7, 8, 9]  NA                     10000       9588       95.88   71.28   24.6     4.03    0.09             6730\n",
            "      2  fg = [0, 1, 2]  bg = [3, 4, 5, 6, 7, 8, 9]  NA                     10000       9564       95.64   71.49   24.15    4.31    0.05             6766\n",
            "      3  fg = [0, 1, 2]  bg = [3, 4, 5, 6, 7, 8, 9]  NA                     10000       9829       98.29   97.8     0.49    1.65    0.06             9748\n",
            "      4  fg = [0, 1, 2]  bg = [3, 4, 5, 6, 7, 8, 9]  NA                     10000       9540       95.4    65.68   29.72    4.52    0.08             6727\n",
            "      5  fg = [0, 1, 2]  bg = [3, 4, 5, 6, 7, 8, 9]  NA                     10000       9512       95.12   73.97   21.15    4.84    0.04             6777\n",
            "      6  fg = [0, 1, 2]  bg = [3, 4, 5, 6, 7, 8, 9]  NA                     10000       9546       95.46   72.08   23.38    4.51    0.03             6749\n",
            "      7  fg = [0, 1, 2]  bg = [3, 4, 5, 6, 7, 8, 9]  NA                     10000       9864       98.64   40.85   57.79    0.24    1.12                0\n",
            "      8  fg = [0, 1, 2]  bg = [3, 4, 5, 6, 7, 8, 9]  NA                     10000       9499       94.99   72.86   22.13    4.93    0.08             6741\n",
            " \n",
            "================================================================================================================================================================\n",
            " \n",
            "================================================================================================================================================================\n",
            "  S.No.  fg_class        bg_class                    Epoch used      total_points    correct    accuracy    FTPT    FFPT    FTPF    FFPF    avg_img > 0.5\n",
            "-------  --------------  --------------------------  ------------  --------------  ---------  ----------  ------  ------  ------  ------  ---------------\n",
            "      1  fg = [0, 1, 2]  bg = [3, 4, 5, 6, 7, 8, 9]  NA                     10000       3275       32.75    5.9    26.85    5.89   61.36               11\n",
            "      2  fg = [0, 1, 2]  bg = [3, 4, 5, 6, 7, 8, 9]  NA                     10000       3281       32.81    5.27   27.54    6.61   60.58               25\n",
            "      3  fg = [0, 1, 2]  bg = [3, 4, 5, 6, 7, 8, 9]  NA                     10000       3291       32.91    6.65   26.26   13.08   54.01              189\n",
            "      4  fg = [0, 1, 2]  bg = [3, 4, 5, 6, 7, 8, 9]  NA                     10000       3281       32.81    5.58   27.23    4.78   62.41                8\n",
            "      5  fg = [0, 1, 2]  bg = [3, 4, 5, 6, 7, 8, 9]  NA                     10000       3274       32.74    6.02   26.72    5.82   61.44               10\n",
            "      6  fg = [0, 1, 2]  bg = [3, 4, 5, 6, 7, 8, 9]  NA                     10000       3271       32.71    5.61   27.1     5.01   62.28               17\n",
            "      7  fg = [0, 1, 2]  bg = [3, 4, 5, 6, 7, 8, 9]  NA                     10000       3338       33.38    7.57   25.81   35.95   30.67                0\n",
            "      8  fg = [0, 1, 2]  bg = [3, 4, 5, 6, 7, 8, 9]  NA                     10000       3271       32.71    5.35   27.36    4.7    62.59                9\n",
            " \n",
            "================================================================================================================================================================\n",
            " \n",
            "================================================================================================================================================================\n",
            "  S.No.  fg_class        bg_class                    Epoch used      total_points    correct    accuracy    FTPT    FFPT    FTPF    FFPF    avg_img > 0.5\n",
            "-------  --------------  --------------------------  ------------  --------------  ---------  ----------  ------  ------  ------  ------  ---------------\n",
            "      1  fg = [0, 1, 2]  bg = [3, 4, 5, 6, 7, 8, 9]  NA                     10000       3292       32.92    5.61   27.31    5.57   61.51               22\n",
            "      2  fg = [0, 1, 2]  bg = [3, 4, 5, 6, 7, 8, 9]  NA                     10000       3296       32.96    5.02   27.94    6.19   60.85               45\n",
            "      3  fg = [0, 1, 2]  bg = [3, 4, 5, 6, 7, 8, 9]  NA                     10000       3315       33.15    5.99   27.16   12.09   54.76              173\n",
            "      4  fg = [0, 1, 2]  bg = [3, 4, 5, 6, 7, 8, 9]  NA                     10000       3293       32.93    5.63   27.3     4.53   62.54               14\n",
            "      5  fg = [0, 1, 2]  bg = [3, 4, 5, 6, 7, 8, 9]  NA                     10000       3290       32.9     5.18   27.72    5.48   61.62               34\n",
            "      6  fg = [0, 1, 2]  bg = [3, 4, 5, 6, 7, 8, 9]  NA                     10000       3294       32.94    5.66   27.28    4.69   62.37               34\n",
            "      7  fg = [0, 1, 2]  bg = [3, 4, 5, 6, 7, 8, 9]  NA                     10000       3346       33.46    7.05   26.41   34.82   31.72                0\n",
            "      8  fg = [0, 1, 2]  bg = [3, 4, 5, 6, 7, 8, 9]  NA                     10000       3289       32.89    5.31   27.58    4.43   62.68               13\n",
            " \n",
            "================================================================================================================================================================\n",
            "[1,    40] loss: 1.099\n",
            "[1,    80] loss: 1.099\n",
            "[1,   120] loss: 1.099\n",
            "[2,    40] loss: 1.098\n",
            "[2,    80] loss: 1.098\n",
            "[2,   120] loss: 1.099\n",
            "[3,    40] loss: 1.098\n",
            "[3,    80] loss: 1.098\n",
            "[3,   120] loss: 1.098\n",
            "[4,    40] loss: 1.097\n",
            "[4,    80] loss: 1.097\n",
            "[4,   120] loss: 1.096\n",
            "[5,    40] loss: 1.095\n",
            "[5,    80] loss: 1.094\n",
            "[5,   120] loss: 1.093\n",
            "[6,    40] loss: 1.093\n",
            "[6,    80] loss: 1.092\n",
            "[6,   120] loss: 1.088\n",
            "[7,    40] loss: 1.089\n",
            "[7,    80] loss: 1.086\n",
            "[7,   120] loss: 1.085\n",
            "[8,    40] loss: 1.081\n",
            "[8,    80] loss: 1.080\n",
            "[8,   120] loss: 1.077\n",
            "[9,    40] loss: 1.075\n",
            "[9,    80] loss: 1.077\n",
            "[9,   120] loss: 1.072\n",
            "[10,    40] loss: 1.071\n",
            "[10,    80] loss: 1.071\n",
            "[10,   120] loss: 1.072\n",
            "[11,    40] loss: 1.067\n",
            "[11,    80] loss: 1.067\n",
            "[11,   120] loss: 1.066\n",
            "[12,    40] loss: 1.066\n",
            "[12,    80] loss: 1.062\n",
            "[12,   120] loss: 1.062\n",
            "[13,    40] loss: 1.057\n",
            "[13,    80] loss: 1.064\n",
            "[13,   120] loss: 1.061\n",
            "[14,    40] loss: 1.056\n",
            "[14,    80] loss: 1.056\n",
            "[14,   120] loss: 1.052\n",
            "[15,    40] loss: 1.048\n",
            "[15,    80] loss: 1.042\n",
            "[15,   120] loss: 1.035\n",
            "[16,    40] loss: 1.020\n",
            "[16,    80] loss: 1.022\n",
            "[16,   120] loss: 1.021\n",
            "[17,    40] loss: 1.010\n",
            "[17,    80] loss: 1.012\n",
            "[17,   120] loss: 0.999\n",
            "[18,    40] loss: 0.992\n",
            "[18,    80] loss: 0.989\n",
            "[18,   120] loss: 0.982\n",
            "[19,    40] loss: 0.979\n",
            "[19,    80] loss: 0.961\n",
            "[19,   120] loss: 0.947\n",
            "[20,    40] loss: 0.947\n",
            "[20,    80] loss: 0.921\n",
            "[20,   120] loss: 0.914\n",
            "[21,    40] loss: 0.889\n",
            "[21,    80] loss: 0.893\n",
            "[21,   120] loss: 0.892\n",
            "[22,    40] loss: 0.834\n",
            "[22,    80] loss: 0.803\n",
            "[22,   120] loss: 0.810\n",
            "[23,    40] loss: 0.727\n",
            "[23,    80] loss: 0.526\n",
            "[23,   120] loss: 0.830\n",
            "[24,    40] loss: 1.029\n",
            "[24,    80] loss: 0.877\n",
            "[24,   120] loss: 0.385\n",
            "[25,    40] loss: 0.346\n",
            "[25,    80] loss: 0.259\n",
            "[25,   120] loss: 0.318\n",
            "[26,    40] loss: 0.239\n",
            "[26,    80] loss: 0.250\n",
            "[26,   120] loss: 0.171\n",
            "[27,    40] loss: 0.257\n",
            "[27,    80] loss: 0.161\n",
            "[27,   120] loss: 0.131\n",
            "[28,    40] loss: 0.121\n",
            "[28,    80] loss: 0.225\n",
            "[28,   120] loss: 0.134\n",
            "[29,    40] loss: 0.093\n",
            "[29,    80] loss: 0.093\n",
            "[29,   120] loss: 0.286\n",
            "[30,    40] loss: 0.150\n",
            "[30,    80] loss: 0.085\n",
            "[30,   120] loss: 0.086\n",
            "[31,    40] loss: 0.068\n",
            "[31,    80] loss: 0.065\n",
            "[31,   120] loss: 0.088\n",
            "[32,    40] loss: 0.157\n",
            "[32,    80] loss: 0.059\n",
            "[32,   120] loss: 0.049\n",
            "[33,    40] loss: 0.118\n",
            "[33,    80] loss: 0.136\n",
            "[33,   120] loss: 0.056\n",
            "[34,    40] loss: 0.039\n",
            "[34,    80] loss: 0.044\n",
            "[34,   120] loss: 0.036\n",
            "Finished Training\n",
            " \n",
            "================================================================================================================================================================\n",
            "  S.No.  fg_class        bg_class                      Epoch used    total_points    correct    accuracy     FTPT     FFPT      FTPF        FFPF    avg_img > 0.5\n",
            "-------  --------------  --------------------------  ------------  --------------  ---------  ----------  -------  -------  --------  ----------  ---------------\n",
            "      1  fg = [0, 1, 2]  bg = [3, 4, 5, 6, 7, 8, 9]            42           30000      29736     99.12    74.49    24.63    0.863333  0.0166667             20102\n",
            "      2  fg = [0, 1, 2]  bg = [3, 4, 5, 6, 7, 8, 9]            42           30000      29177     97.2567  73.2     24.0567  2.73      0.0133333             20137\n",
            "      3  fg = [0, 1, 2]  bg = [3, 4, 5, 6, 7, 8, 9]            44           30000      29687     98.9567  98.5167   0.44    1.03667   0.00666667            29236\n",
            "      4  fg = [0, 1, 2]  bg = [3, 4, 5, 6, 7, 8, 9]            44           30000      29614     98.7133  68.38    30.3333  1.27333   0.0133333             20046\n",
            "      5  fg = [0, 1, 2]  bg = [3, 4, 5, 6, 7, 8, 9]            38           30000      29765     99.2167  77.7     21.5167  0.783333  0                     20155\n",
            "      6  fg = [0, 1, 2]  bg = [3, 4, 5, 6, 7, 8, 9]            51           30000      29870     99.5667  75.5733  23.9933  0.426667  0.00666667            20099\n",
            "      7  fg = [0, 1, 2]  bg = [3, 4, 5, 6, 7, 8, 9]            55           30000      29710     99.0333  43.5733  55.46    0.163333  0.803333                  0\n",
            "      8  fg = [0, 1, 2]  bg = [3, 4, 5, 6, 7, 8, 9]            35           30000      29836     99.4533  77.3367  22.1167  0.536667  0.01                  20100\n",
            "      9  fg = [0, 1, 2]  bg = [3, 4, 5, 6, 7, 8, 9]            33           30000      29755     99.1833  77.2633  21.92    0.806667  0.01                  20197\n",
            " \n",
            "================================================================================================================================================================\n",
            " \n",
            "================================================================================================================================================================\n",
            "  S.No.  fg_class        bg_class                    Epoch used      total_points    correct    accuracy    FTPT    FFPT    FTPF    FFPF    avg_img > 0.5\n",
            "-------  --------------  --------------------------  ------------  --------------  ---------  ----------  ------  ------  ------  ------  ---------------\n",
            "      1  fg = [0, 1, 2]  bg = [3, 4, 5, 6, 7, 8, 9]  NA                     10000       9832       98.32   73.61   24.71    1.63    0.05             6727\n",
            "      2  fg = [0, 1, 2]  bg = [3, 4, 5, 6, 7, 8, 9]  NA                     10000       9629       96.29   72.6    23.69    3.7     0.01             6749\n",
            "      3  fg = [0, 1, 2]  bg = [3, 4, 5, 6, 7, 8, 9]  NA                     10000       9876       98.76   98.19    0.57    1.24    0                9725\n",
            "      4  fg = [0, 1, 2]  bg = [3, 4, 5, 6, 7, 8, 9]  NA                     10000       9761       97.61   67.75   29.86    2.39    0                6718\n",
            "      5  fg = [0, 1, 2]  bg = [3, 4, 5, 6, 7, 8, 9]  NA                     10000       9829       98.29   77.12   21.17    1.71    0                6745\n",
            "      6  fg = [0, 1, 2]  bg = [3, 4, 5, 6, 7, 8, 9]  NA                     10000       9875       98.75   74.71   24.04    1.23    0.02             6731\n",
            "      7  fg = [0, 1, 2]  bg = [3, 4, 5, 6, 7, 8, 9]  NA                     10000       9875       98.75   43.2    55.55    0.21    1.04                0\n",
            "      8  fg = [0, 1, 2]  bg = [3, 4, 5, 6, 7, 8, 9]  NA                     10000       9855       98.55   76.74   21.81    1.43    0.02             6734\n",
            "      9  fg = [0, 1, 2]  bg = [3, 4, 5, 6, 7, 8, 9]  NA                     10000       9842       98.42   77.53   20.89    1.57    0.01             6764\n",
            " \n",
            "================================================================================================================================================================\n",
            " \n",
            "================================================================================================================================================================\n",
            "  S.No.  fg_class        bg_class                    Epoch used      total_points    correct    accuracy    FTPT    FFPT    FTPF    FFPF    avg_img > 0.5\n",
            "-------  --------------  --------------------------  ------------  --------------  ---------  ----------  ------  ------  ------  ------  ---------------\n",
            "      1  fg = [0, 1, 2]  bg = [3, 4, 5, 6, 7, 8, 9]  NA                     10000       9588       95.88   71.28   24.6     4.03    0.09             6730\n",
            "      2  fg = [0, 1, 2]  bg = [3, 4, 5, 6, 7, 8, 9]  NA                     10000       9564       95.64   71.49   24.15    4.31    0.05             6766\n",
            "      3  fg = [0, 1, 2]  bg = [3, 4, 5, 6, 7, 8, 9]  NA                     10000       9829       98.29   97.8     0.49    1.65    0.06             9748\n",
            "      4  fg = [0, 1, 2]  bg = [3, 4, 5, 6, 7, 8, 9]  NA                     10000       9540       95.4    65.68   29.72    4.52    0.08             6727\n",
            "      5  fg = [0, 1, 2]  bg = [3, 4, 5, 6, 7, 8, 9]  NA                     10000       9512       95.12   73.97   21.15    4.84    0.04             6777\n",
            "      6  fg = [0, 1, 2]  bg = [3, 4, 5, 6, 7, 8, 9]  NA                     10000       9546       95.46   72.08   23.38    4.51    0.03             6749\n",
            "      7  fg = [0, 1, 2]  bg = [3, 4, 5, 6, 7, 8, 9]  NA                     10000       9864       98.64   40.85   57.79    0.24    1.12                0\n",
            "      8  fg = [0, 1, 2]  bg = [3, 4, 5, 6, 7, 8, 9]  NA                     10000       9499       94.99   72.86   22.13    4.93    0.08             6741\n",
            "      9  fg = [0, 1, 2]  bg = [3, 4, 5, 6, 7, 8, 9]  NA                     10000       9693       96.93   75.34   21.59    3.05    0.02             6794\n",
            " \n",
            "================================================================================================================================================================\n",
            " \n",
            "================================================================================================================================================================\n",
            "  S.No.  fg_class        bg_class                    Epoch used      total_points    correct    accuracy    FTPT    FFPT    FTPF    FFPF    avg_img > 0.5\n",
            "-------  --------------  --------------------------  ------------  --------------  ---------  ----------  ------  ------  ------  ------  ---------------\n",
            "      1  fg = [0, 1, 2]  bg = [3, 4, 5, 6, 7, 8, 9]  NA                     10000       3275       32.75    5.9    26.85    5.89   61.36               11\n",
            "      2  fg = [0, 1, 2]  bg = [3, 4, 5, 6, 7, 8, 9]  NA                     10000       3281       32.81    5.27   27.54    6.61   60.58               25\n",
            "      3  fg = [0, 1, 2]  bg = [3, 4, 5, 6, 7, 8, 9]  NA                     10000       3291       32.91    6.65   26.26   13.08   54.01              189\n",
            "      4  fg = [0, 1, 2]  bg = [3, 4, 5, 6, 7, 8, 9]  NA                     10000       3281       32.81    5.58   27.23    4.78   62.41                8\n",
            "      5  fg = [0, 1, 2]  bg = [3, 4, 5, 6, 7, 8, 9]  NA                     10000       3274       32.74    6.02   26.72    5.82   61.44               10\n",
            "      6  fg = [0, 1, 2]  bg = [3, 4, 5, 6, 7, 8, 9]  NA                     10000       3271       32.71    5.61   27.1     5.01   62.28               17\n",
            "      7  fg = [0, 1, 2]  bg = [3, 4, 5, 6, 7, 8, 9]  NA                     10000       3338       33.38    7.57   25.81   35.95   30.67                0\n",
            "      8  fg = [0, 1, 2]  bg = [3, 4, 5, 6, 7, 8, 9]  NA                     10000       3271       32.71    5.35   27.36    4.7    62.59                9\n",
            "      9  fg = [0, 1, 2]  bg = [3, 4, 5, 6, 7, 8, 9]  NA                     10000       3270       32.7     3.38   29.32   10.09   57.21               23\n",
            " \n",
            "================================================================================================================================================================\n",
            " \n",
            "================================================================================================================================================================\n",
            "  S.No.  fg_class        bg_class                    Epoch used      total_points    correct    accuracy    FTPT    FFPT    FTPF    FFPF    avg_img > 0.5\n",
            "-------  --------------  --------------------------  ------------  --------------  ---------  ----------  ------  ------  ------  ------  ---------------\n",
            "      1  fg = [0, 1, 2]  bg = [3, 4, 5, 6, 7, 8, 9]  NA                     10000       3292       32.92    5.61   27.31    5.57   61.51               22\n",
            "      2  fg = [0, 1, 2]  bg = [3, 4, 5, 6, 7, 8, 9]  NA                     10000       3296       32.96    5.02   27.94    6.19   60.85               45\n",
            "      3  fg = [0, 1, 2]  bg = [3, 4, 5, 6, 7, 8, 9]  NA                     10000       3315       33.15    5.99   27.16   12.09   54.76              173\n",
            "      4  fg = [0, 1, 2]  bg = [3, 4, 5, 6, 7, 8, 9]  NA                     10000       3293       32.93    5.63   27.3     4.53   62.54               14\n",
            "      5  fg = [0, 1, 2]  bg = [3, 4, 5, 6, 7, 8, 9]  NA                     10000       3290       32.9     5.18   27.72    5.48   61.62               34\n",
            "      6  fg = [0, 1, 2]  bg = [3, 4, 5, 6, 7, 8, 9]  NA                     10000       3294       32.94    5.66   27.28    4.69   62.37               34\n",
            "      7  fg = [0, 1, 2]  bg = [3, 4, 5, 6, 7, 8, 9]  NA                     10000       3346       33.46    7.05   26.41   34.82   31.72                0\n",
            "      8  fg = [0, 1, 2]  bg = [3, 4, 5, 6, 7, 8, 9]  NA                     10000       3289       32.89    5.31   27.58    4.43   62.68               13\n",
            "      9  fg = [0, 1, 2]  bg = [3, 4, 5, 6, 7, 8, 9]  NA                     10000       3297       32.97    3.49   29.48    8.58   58.45               34\n",
            " \n",
            "================================================================================================================================================================\n",
            "[1,    40] loss: 1.101\n",
            "[1,    80] loss: 1.099\n",
            "[1,   120] loss: 1.099\n",
            "[2,    40] loss: 1.099\n",
            "[2,    80] loss: 1.099\n",
            "[2,   120] loss: 1.099\n",
            "[3,    40] loss: 1.099\n",
            "[3,    80] loss: 1.099\n",
            "[3,   120] loss: 1.099\n",
            "[4,    40] loss: 1.098\n",
            "[4,    80] loss: 1.099\n",
            "[4,   120] loss: 1.099\n",
            "[5,    40] loss: 1.098\n",
            "[5,    80] loss: 1.099\n",
            "[5,   120] loss: 1.099\n",
            "[6,    40] loss: 1.098\n",
            "[6,    80] loss: 1.098\n",
            "[6,   120] loss: 1.098\n",
            "[7,    40] loss: 1.098\n",
            "[7,    80] loss: 1.098\n",
            "[7,   120] loss: 1.098\n",
            "[8,    40] loss: 1.098\n",
            "[8,    80] loss: 1.098\n",
            "[8,   120] loss: 1.098\n",
            "[9,    40] loss: 1.098\n",
            "[9,    80] loss: 1.098\n",
            "[9,   120] loss: 1.098\n",
            "[10,    40] loss: 1.097\n",
            "[10,    80] loss: 1.097\n",
            "[10,   120] loss: 1.097\n",
            "[11,    40] loss: 1.096\n",
            "[11,    80] loss: 1.096\n",
            "[11,   120] loss: 1.095\n",
            "[12,    40] loss: 1.093\n",
            "[12,    80] loss: 1.092\n",
            "[12,   120] loss: 1.091\n",
            "[13,    40] loss: 1.086\n",
            "[13,    80] loss: 1.084\n",
            "[13,   120] loss: 1.082\n",
            "[14,    40] loss: 1.078\n",
            "[14,    80] loss: 1.074\n",
            "[14,   120] loss: 1.077\n",
            "[15,    40] loss: 1.070\n",
            "[15,    80] loss: 1.072\n",
            "[15,   120] loss: 1.074\n",
            "[16,    40] loss: 1.067\n",
            "[16,    80] loss: 1.071\n",
            "[16,   120] loss: 1.070\n",
            "[17,    40] loss: 1.068\n",
            "[17,    80] loss: 1.068\n",
            "[17,   120] loss: 1.064\n",
            "[18,    40] loss: 1.067\n",
            "[18,    80] loss: 1.062\n",
            "[18,   120] loss: 1.064\n",
            "[19,    40] loss: 1.062\n",
            "[19,    80] loss: 1.059\n",
            "[19,   120] loss: 1.061\n",
            "[20,    40] loss: 1.059\n",
            "[20,    80] loss: 1.057\n",
            "[20,   120] loss: 1.052\n",
            "[21,    40] loss: 1.053\n",
            "[21,    80] loss: 1.047\n",
            "[21,   120] loss: 1.044\n",
            "[22,    40] loss: 1.045\n",
            "[22,    80] loss: 1.047\n",
            "[22,   120] loss: 1.047\n",
            "[23,    40] loss: 1.046\n",
            "[23,    80] loss: 1.039\n",
            "[23,   120] loss: 1.046\n",
            "[24,    40] loss: 1.043\n",
            "[24,    80] loss: 1.035\n",
            "[24,   120] loss: 1.047\n",
            "[25,    40] loss: 1.039\n",
            "[25,    80] loss: 1.038\n",
            "[25,   120] loss: 1.043\n",
            "[26,    40] loss: 1.042\n",
            "[26,    80] loss: 1.033\n",
            "[26,   120] loss: 1.037\n",
            "[27,    40] loss: 1.032\n",
            "[27,    80] loss: 1.029\n",
            "[27,   120] loss: 1.034\n",
            "[28,    40] loss: 1.022\n",
            "[28,    80] loss: 1.015\n",
            "[28,   120] loss: 1.007\n",
            "[29,    40] loss: 0.997\n",
            "[29,    80] loss: 0.996\n",
            "[29,   120] loss: 0.993\n",
            "[30,    40] loss: 0.980\n",
            "[30,    80] loss: 0.966\n",
            "[30,   120] loss: 0.965\n",
            "[31,    40] loss: 0.948\n",
            "[31,    80] loss: 0.935\n",
            "[31,   120] loss: 0.929\n",
            "[32,    40] loss: 0.916\n",
            "[32,    80] loss: 0.913\n",
            "[32,   120] loss: 0.888\n",
            "[33,    40] loss: 0.870\n",
            "[33,    80] loss: 0.839\n",
            "[33,   120] loss: 0.828\n",
            "[34,    40] loss: 0.796\n",
            "[34,    80] loss: 0.828\n",
            "[34,   120] loss: 0.738\n",
            "[35,    40] loss: 0.594\n",
            "[35,    80] loss: 0.433\n",
            "[35,   120] loss: 0.399\n",
            "[36,    40] loss: 0.272\n",
            "[36,    80] loss: 0.205\n",
            "[36,   120] loss: 0.217\n",
            "[37,    40] loss: 0.324\n",
            "[37,    80] loss: 0.184\n",
            "[37,   120] loss: 0.137\n",
            "[38,    40] loss: 0.119\n",
            "[38,    80] loss: 0.119\n",
            "[38,   120] loss: 1.000\n",
            "[39,    40] loss: 1.030\n",
            "[39,    80] loss: 0.973\n",
            "[39,   120] loss: 0.481\n",
            "[40,    40] loss: 0.151\n",
            "[40,    80] loss: 0.227\n",
            "[40,   120] loss: 0.157\n",
            "[41,    40] loss: 0.314\n",
            "[41,    80] loss: 0.183\n",
            "[41,   120] loss: 0.103\n",
            "[42,    40] loss: 0.094\n",
            "[42,    80] loss: 0.080\n",
            "[42,   120] loss: 0.089\n",
            "[43,    40] loss: 0.070\n",
            "[43,    80] loss: 0.083\n",
            "[43,   120] loss: 0.215\n",
            "[44,    40] loss: 0.167\n",
            "[44,    80] loss: 0.073\n",
            "[44,   120] loss: 0.059\n",
            "[45,    40] loss: 0.055\n",
            "[45,    80] loss: 0.056\n",
            "[45,   120] loss: 0.050\n",
            "[46,    40] loss: 0.044\n",
            "[46,    80] loss: 0.084\n",
            "[46,   120] loss: 0.061\n",
            "[47,    40] loss: 0.049\n",
            "[47,    80] loss: 0.054\n",
            "[47,   120] loss: 0.126\n",
            "[48,    40] loss: 0.042\n",
            "[48,    80] loss: 0.025\n",
            "[48,   120] loss: 0.034\n",
            "Finished Training\n",
            " \n",
            "================================================================================================================================================================\n",
            "  S.No.  fg_class        bg_class                      Epoch used    total_points    correct    accuracy     FTPT     FFPT      FTPF        FFPF    avg_img > 0.5\n",
            "-------  --------------  --------------------------  ------------  --------------  ---------  ----------  -------  -------  --------  ----------  ---------------\n",
            "      1  fg = [0, 1, 2]  bg = [3, 4, 5, 6, 7, 8, 9]            42           30000      29736     99.12    74.49    24.63    0.863333  0.0166667             20102\n",
            "      2  fg = [0, 1, 2]  bg = [3, 4, 5, 6, 7, 8, 9]            42           30000      29177     97.2567  73.2     24.0567  2.73      0.0133333             20137\n",
            "      3  fg = [0, 1, 2]  bg = [3, 4, 5, 6, 7, 8, 9]            44           30000      29687     98.9567  98.5167   0.44    1.03667   0.00666667            29236\n",
            "      4  fg = [0, 1, 2]  bg = [3, 4, 5, 6, 7, 8, 9]            44           30000      29614     98.7133  68.38    30.3333  1.27333   0.0133333             20046\n",
            "      5  fg = [0, 1, 2]  bg = [3, 4, 5, 6, 7, 8, 9]            38           30000      29765     99.2167  77.7     21.5167  0.783333  0                     20155\n",
            "      6  fg = [0, 1, 2]  bg = [3, 4, 5, 6, 7, 8, 9]            51           30000      29870     99.5667  75.5733  23.9933  0.426667  0.00666667            20099\n",
            "      7  fg = [0, 1, 2]  bg = [3, 4, 5, 6, 7, 8, 9]            55           30000      29710     99.0333  43.5733  55.46    0.163333  0.803333                  0\n",
            "      8  fg = [0, 1, 2]  bg = [3, 4, 5, 6, 7, 8, 9]            35           30000      29836     99.4533  77.3367  22.1167  0.536667  0.01                  20100\n",
            "      9  fg = [0, 1, 2]  bg = [3, 4, 5, 6, 7, 8, 9]            33           30000      29755     99.1833  77.2633  21.92    0.806667  0.01                  20197\n",
            "     10  fg = [0, 1, 2]  bg = [3, 4, 5, 6, 7, 8, 9]            47           30000      29807     99.3567  76.0633  23.2933  0.63      0.0133333             20086\n",
            " \n",
            "================================================================================================================================================================\n",
            " \n",
            "================================================================================================================================================================\n",
            "  S.No.  fg_class        bg_class                    Epoch used      total_points    correct    accuracy    FTPT    FFPT    FTPF    FFPF    avg_img > 0.5\n",
            "-------  --------------  --------------------------  ------------  --------------  ---------  ----------  ------  ------  ------  ------  ---------------\n",
            "      1  fg = [0, 1, 2]  bg = [3, 4, 5, 6, 7, 8, 9]  NA                     10000       9832       98.32   73.61   24.71    1.63    0.05             6727\n",
            "      2  fg = [0, 1, 2]  bg = [3, 4, 5, 6, 7, 8, 9]  NA                     10000       9629       96.29   72.6    23.69    3.7     0.01             6749\n",
            "      3  fg = [0, 1, 2]  bg = [3, 4, 5, 6, 7, 8, 9]  NA                     10000       9876       98.76   98.19    0.57    1.24    0                9725\n",
            "      4  fg = [0, 1, 2]  bg = [3, 4, 5, 6, 7, 8, 9]  NA                     10000       9761       97.61   67.75   29.86    2.39    0                6718\n",
            "      5  fg = [0, 1, 2]  bg = [3, 4, 5, 6, 7, 8, 9]  NA                     10000       9829       98.29   77.12   21.17    1.71    0                6745\n",
            "      6  fg = [0, 1, 2]  bg = [3, 4, 5, 6, 7, 8, 9]  NA                     10000       9875       98.75   74.71   24.04    1.23    0.02             6731\n",
            "      7  fg = [0, 1, 2]  bg = [3, 4, 5, 6, 7, 8, 9]  NA                     10000       9875       98.75   43.2    55.55    0.21    1.04                0\n",
            "      8  fg = [0, 1, 2]  bg = [3, 4, 5, 6, 7, 8, 9]  NA                     10000       9855       98.55   76.74   21.81    1.43    0.02             6734\n",
            "      9  fg = [0, 1, 2]  bg = [3, 4, 5, 6, 7, 8, 9]  NA                     10000       9842       98.42   77.53   20.89    1.57    0.01             6764\n",
            "     10  fg = [0, 1, 2]  bg = [3, 4, 5, 6, 7, 8, 9]  NA                     10000       9849       98.49   75.4    23.09    1.51    0                6727\n",
            " \n",
            "================================================================================================================================================================\n",
            " \n",
            "================================================================================================================================================================\n",
            "  S.No.  fg_class        bg_class                    Epoch used      total_points    correct    accuracy    FTPT    FFPT    FTPF    FFPF    avg_img > 0.5\n",
            "-------  --------------  --------------------------  ------------  --------------  ---------  ----------  ------  ------  ------  ------  ---------------\n",
            "      1  fg = [0, 1, 2]  bg = [3, 4, 5, 6, 7, 8, 9]  NA                     10000       9588       95.88   71.28   24.6     4.03    0.09             6730\n",
            "      2  fg = [0, 1, 2]  bg = [3, 4, 5, 6, 7, 8, 9]  NA                     10000       9564       95.64   71.49   24.15    4.31    0.05             6766\n",
            "      3  fg = [0, 1, 2]  bg = [3, 4, 5, 6, 7, 8, 9]  NA                     10000       9829       98.29   97.8     0.49    1.65    0.06             9748\n",
            "      4  fg = [0, 1, 2]  bg = [3, 4, 5, 6, 7, 8, 9]  NA                     10000       9540       95.4    65.68   29.72    4.52    0.08             6727\n",
            "      5  fg = [0, 1, 2]  bg = [3, 4, 5, 6, 7, 8, 9]  NA                     10000       9512       95.12   73.97   21.15    4.84    0.04             6777\n",
            "      6  fg = [0, 1, 2]  bg = [3, 4, 5, 6, 7, 8, 9]  NA                     10000       9546       95.46   72.08   23.38    4.51    0.03             6749\n",
            "      7  fg = [0, 1, 2]  bg = [3, 4, 5, 6, 7, 8, 9]  NA                     10000       9864       98.64   40.85   57.79    0.24    1.12                0\n",
            "      8  fg = [0, 1, 2]  bg = [3, 4, 5, 6, 7, 8, 9]  NA                     10000       9499       94.99   72.86   22.13    4.93    0.08             6741\n",
            "      9  fg = [0, 1, 2]  bg = [3, 4, 5, 6, 7, 8, 9]  NA                     10000       9693       96.93   75.34   21.59    3.05    0.02             6794\n",
            "     10  fg = [0, 1, 2]  bg = [3, 4, 5, 6, 7, 8, 9]  NA                     10000       9468       94.68   71.38   23.3     5.25    0.07             6733\n",
            " \n",
            "================================================================================================================================================================\n",
            " \n",
            "================================================================================================================================================================\n",
            "  S.No.  fg_class        bg_class                    Epoch used      total_points    correct    accuracy    FTPT    FFPT    FTPF    FFPF    avg_img > 0.5\n",
            "-------  --------------  --------------------------  ------------  --------------  ---------  ----------  ------  ------  ------  ------  ---------------\n",
            "      1  fg = [0, 1, 2]  bg = [3, 4, 5, 6, 7, 8, 9]  NA                     10000       3275       32.75    5.9    26.85    5.89   61.36               11\n",
            "      2  fg = [0, 1, 2]  bg = [3, 4, 5, 6, 7, 8, 9]  NA                     10000       3281       32.81    5.27   27.54    6.61   60.58               25\n",
            "      3  fg = [0, 1, 2]  bg = [3, 4, 5, 6, 7, 8, 9]  NA                     10000       3291       32.91    6.65   26.26   13.08   54.01              189\n",
            "      4  fg = [0, 1, 2]  bg = [3, 4, 5, 6, 7, 8, 9]  NA                     10000       3281       32.81    5.58   27.23    4.78   62.41                8\n",
            "      5  fg = [0, 1, 2]  bg = [3, 4, 5, 6, 7, 8, 9]  NA                     10000       3274       32.74    6.02   26.72    5.82   61.44               10\n",
            "      6  fg = [0, 1, 2]  bg = [3, 4, 5, 6, 7, 8, 9]  NA                     10000       3271       32.71    5.61   27.1     5.01   62.28               17\n",
            "      7  fg = [0, 1, 2]  bg = [3, 4, 5, 6, 7, 8, 9]  NA                     10000       3338       33.38    7.57   25.81   35.95   30.67                0\n",
            "      8  fg = [0, 1, 2]  bg = [3, 4, 5, 6, 7, 8, 9]  NA                     10000       3271       32.71    5.35   27.36    4.7    62.59                9\n",
            "      9  fg = [0, 1, 2]  bg = [3, 4, 5, 6, 7, 8, 9]  NA                     10000       3270       32.7     3.38   29.32   10.09   57.21               23\n",
            "     10  fg = [0, 1, 2]  bg = [3, 4, 5, 6, 7, 8, 9]  NA                     10000       3270       32.7     5.64   27.06    4.03   63.27                9\n",
            " \n",
            "================================================================================================================================================================\n",
            " \n",
            "================================================================================================================================================================\n",
            "  S.No.  fg_class        bg_class                    Epoch used      total_points    correct    accuracy    FTPT    FFPT    FTPF    FFPF    avg_img > 0.5\n",
            "-------  --------------  --------------------------  ------------  --------------  ---------  ----------  ------  ------  ------  ------  ---------------\n",
            "      1  fg = [0, 1, 2]  bg = [3, 4, 5, 6, 7, 8, 9]  NA                     10000       3292       32.92    5.61   27.31    5.57   61.51               22\n",
            "      2  fg = [0, 1, 2]  bg = [3, 4, 5, 6, 7, 8, 9]  NA                     10000       3296       32.96    5.02   27.94    6.19   60.85               45\n",
            "      3  fg = [0, 1, 2]  bg = [3, 4, 5, 6, 7, 8, 9]  NA                     10000       3315       33.15    5.99   27.16   12.09   54.76              173\n",
            "      4  fg = [0, 1, 2]  bg = [3, 4, 5, 6, 7, 8, 9]  NA                     10000       3293       32.93    5.63   27.3     4.53   62.54               14\n",
            "      5  fg = [0, 1, 2]  bg = [3, 4, 5, 6, 7, 8, 9]  NA                     10000       3290       32.9     5.18   27.72    5.48   61.62               34\n",
            "      6  fg = [0, 1, 2]  bg = [3, 4, 5, 6, 7, 8, 9]  NA                     10000       3294       32.94    5.66   27.28    4.69   62.37               34\n",
            "      7  fg = [0, 1, 2]  bg = [3, 4, 5, 6, 7, 8, 9]  NA                     10000       3346       33.46    7.05   26.41   34.82   31.72                0\n",
            "      8  fg = [0, 1, 2]  bg = [3, 4, 5, 6, 7, 8, 9]  NA                     10000       3289       32.89    5.31   27.58    4.43   62.68               13\n",
            "      9  fg = [0, 1, 2]  bg = [3, 4, 5, 6, 7, 8, 9]  NA                     10000       3297       32.97    3.49   29.48    8.58   58.45               34\n",
            "     10  fg = [0, 1, 2]  bg = [3, 4, 5, 6, 7, 8, 9]  NA                     10000       3282       32.82    5.28   27.54    3.67   63.51               20\n",
            " \n",
            "================================================================================================================================================================\n"
          ],
          "name": "stdout"
        }
      ]
    },
    {
      "cell_type": "code",
      "metadata": {
        "id": "kloPmAalgpIz",
        "outputId": "ad2c24be-616e-49ef-e447-bd7eb5185d0f",
        "colab": {
          "base_uri": "https://localhost:8080/",
          "height": 335
        }
      },
      "source": [
        "train_table = add_average_entry(train_table)"
      ],
      "execution_count": 79,
      "outputs": [
        {
          "output_type": "stream",
          "text": [
            " \n",
            "================================================================================================================================================================\n",
            "S.No.    fg_class        bg_class                    Epoch used    total_points    correct      accuracy     FTPT     FFPT      FTPF        FFPF    avg_img > 0.5\n",
            "-------  --------------  --------------------------  ------------  --------------  ---------  ----------  -------  -------  --------  ----------  ---------------\n",
            "1        fg = [0, 1, 2]  bg = [3, 4, 5, 6, 7, 8, 9]  42            30000           29736         99.12    74.49    24.63    0.863333  0.0166667           20102\n",
            "2        fg = [0, 1, 2]  bg = [3, 4, 5, 6, 7, 8, 9]  42            30000           29177         97.2567  73.2     24.0567  2.73      0.0133333           20137\n",
            "3        fg = [0, 1, 2]  bg = [3, 4, 5, 6, 7, 8, 9]  44            30000           29687         98.9567  98.5167   0.44    1.03667   0.00666667          29236\n",
            "4        fg = [0, 1, 2]  bg = [3, 4, 5, 6, 7, 8, 9]  44            30000           29614         98.7133  68.38    30.3333  1.27333   0.0133333           20046\n",
            "5        fg = [0, 1, 2]  bg = [3, 4, 5, 6, 7, 8, 9]  38            30000           29765         99.2167  77.7     21.5167  0.783333  0                   20155\n",
            "6        fg = [0, 1, 2]  bg = [3, 4, 5, 6, 7, 8, 9]  51            30000           29870         99.5667  75.5733  23.9933  0.426667  0.00666667          20099\n",
            "7        fg = [0, 1, 2]  bg = [3, 4, 5, 6, 7, 8, 9]  55            30000           29710         99.0333  43.5733  55.46    0.163333  0.803333                0\n",
            "8        fg = [0, 1, 2]  bg = [3, 4, 5, 6, 7, 8, 9]  35            30000           29836         99.4533  77.3367  22.1167  0.536667  0.01                20100\n",
            "9        fg = [0, 1, 2]  bg = [3, 4, 5, 6, 7, 8, 9]  33            30000           29755         99.1833  77.2633  21.92    0.806667  0.01                20197\n",
            "10       fg = [0, 1, 2]  bg = [3, 4, 5, 6, 7, 8, 9]  47            30000           29807         99.3567  76.0633  23.2933  0.63      0.0133333           20086\n",
            "Avg                                                                                              98.9857  74.2097  24.776   0.925     0.0893333           19015.8\n",
            " \n",
            "================================================================================================================================================================\n"
          ],
          "name": "stdout"
        }
      ]
    },
    {
      "cell_type": "code",
      "metadata": {
        "id": "00KPkU7EhPJj",
        "outputId": "4d35ee43-e5ce-4fb0-b0b9-32cd6bcf6e2d",
        "colab": {
          "base_uri": "https://localhost:8080/",
          "height": 335
        }
      },
      "source": [
        "test_table1 = add_average_entry(test_table1)"
      ],
      "execution_count": 80,
      "outputs": [
        {
          "output_type": "stream",
          "text": [
            " \n",
            "================================================================================================================================================================\n",
            "S.No.    fg_class        bg_class                    Epoch used    total_points    correct      accuracy    FTPT    FFPT    FTPF    FFPF    avg_img > 0.5\n",
            "-------  --------------  --------------------------  ------------  --------------  ---------  ----------  ------  ------  ------  ------  ---------------\n",
            "1        fg = [0, 1, 2]  bg = [3, 4, 5, 6, 7, 8, 9]  NA            10000           9832           98.32   73.61   24.71    1.63    0.05              6727\n",
            "2        fg = [0, 1, 2]  bg = [3, 4, 5, 6, 7, 8, 9]  NA            10000           9629           96.29   72.6    23.69    3.7     0.01              6749\n",
            "3        fg = [0, 1, 2]  bg = [3, 4, 5, 6, 7, 8, 9]  NA            10000           9876           98.76   98.19    0.57    1.24    0                 9725\n",
            "4        fg = [0, 1, 2]  bg = [3, 4, 5, 6, 7, 8, 9]  NA            10000           9761           97.61   67.75   29.86    2.39    0                 6718\n",
            "5        fg = [0, 1, 2]  bg = [3, 4, 5, 6, 7, 8, 9]  NA            10000           9829           98.29   77.12   21.17    1.71    0                 6745\n",
            "6        fg = [0, 1, 2]  bg = [3, 4, 5, 6, 7, 8, 9]  NA            10000           9875           98.75   74.71   24.04    1.23    0.02              6731\n",
            "7        fg = [0, 1, 2]  bg = [3, 4, 5, 6, 7, 8, 9]  NA            10000           9875           98.75   43.2    55.55    0.21    1.04                 0\n",
            "8        fg = [0, 1, 2]  bg = [3, 4, 5, 6, 7, 8, 9]  NA            10000           9855           98.55   76.74   21.81    1.43    0.02              6734\n",
            "9        fg = [0, 1, 2]  bg = [3, 4, 5, 6, 7, 8, 9]  NA            10000           9842           98.42   77.53   20.89    1.57    0.01              6764\n",
            "10       fg = [0, 1, 2]  bg = [3, 4, 5, 6, 7, 8, 9]  NA            10000           9849           98.49   75.4    23.09    1.51    0                 6727\n",
            "Avg                                                                                               98.223  73.685  24.538   1.662   0.115             6362\n",
            " \n",
            "================================================================================================================================================================\n"
          ],
          "name": "stdout"
        }
      ]
    },
    {
      "cell_type": "code",
      "metadata": {
        "id": "pW_kUqi3hR6u",
        "outputId": "ba2d8b72-f40f-4c83-a7fb-d6e192441855",
        "colab": {
          "base_uri": "https://localhost:8080/",
          "height": 335
        }
      },
      "source": [
        "test_table2 = add_average_entry(test_table2)"
      ],
      "execution_count": 81,
      "outputs": [
        {
          "output_type": "stream",
          "text": [
            " \n",
            "================================================================================================================================================================\n",
            "S.No.    fg_class        bg_class                    Epoch used    total_points    correct      accuracy    FTPT    FFPT    FTPF    FFPF    avg_img > 0.5\n",
            "-------  --------------  --------------------------  ------------  --------------  ---------  ----------  ------  ------  ------  ------  ---------------\n",
            "1        fg = [0, 1, 2]  bg = [3, 4, 5, 6, 7, 8, 9]  NA            10000           9588           95.88   71.28    24.6    4.03    0.09            6730\n",
            "2        fg = [0, 1, 2]  bg = [3, 4, 5, 6, 7, 8, 9]  NA            10000           9564           95.64   71.49    24.15   4.31    0.05            6766\n",
            "3        fg = [0, 1, 2]  bg = [3, 4, 5, 6, 7, 8, 9]  NA            10000           9829           98.29   97.8      0.49   1.65    0.06            9748\n",
            "4        fg = [0, 1, 2]  bg = [3, 4, 5, 6, 7, 8, 9]  NA            10000           9540           95.4    65.68    29.72   4.52    0.08            6727\n",
            "5        fg = [0, 1, 2]  bg = [3, 4, 5, 6, 7, 8, 9]  NA            10000           9512           95.12   73.97    21.15   4.84    0.04            6777\n",
            "6        fg = [0, 1, 2]  bg = [3, 4, 5, 6, 7, 8, 9]  NA            10000           9546           95.46   72.08    23.38   4.51    0.03            6749\n",
            "7        fg = [0, 1, 2]  bg = [3, 4, 5, 6, 7, 8, 9]  NA            10000           9864           98.64   40.85    57.79   0.24    1.12               0\n",
            "8        fg = [0, 1, 2]  bg = [3, 4, 5, 6, 7, 8, 9]  NA            10000           9499           94.99   72.86    22.13   4.93    0.08            6741\n",
            "9        fg = [0, 1, 2]  bg = [3, 4, 5, 6, 7, 8, 9]  NA            10000           9693           96.93   75.34    21.59   3.05    0.02            6794\n",
            "10       fg = [0, 1, 2]  bg = [3, 4, 5, 6, 7, 8, 9]  NA            10000           9468           94.68   71.38    23.3    5.25    0.07            6733\n",
            "Avg                                                                                               96.103  71.273   24.83   3.733   0.164           6376.5\n",
            " \n",
            "================================================================================================================================================================\n"
          ],
          "name": "stdout"
        }
      ]
    },
    {
      "cell_type": "code",
      "metadata": {
        "id": "_ZlV6qErhUUL",
        "outputId": "de42dbf3-cc4f-486b-f870-dc575ba05475",
        "colab": {
          "base_uri": "https://localhost:8080/",
          "height": 335
        }
      },
      "source": [
        "test_table3 = add_average_entry(test_table3)"
      ],
      "execution_count": 82,
      "outputs": [
        {
          "output_type": "stream",
          "text": [
            " \n",
            "================================================================================================================================================================\n",
            "S.No.    fg_class        bg_class                    Epoch used    total_points    correct      accuracy    FTPT    FFPT    FTPF    FFPF    avg_img > 0.5\n",
            "-------  --------------  --------------------------  ------------  --------------  ---------  ----------  ------  ------  ------  ------  ---------------\n",
            "1        fg = [0, 1, 2]  bg = [3, 4, 5, 6, 7, 8, 9]  NA            10000           3275           32.75    5.9    26.85    5.89   61.36              11\n",
            "2        fg = [0, 1, 2]  bg = [3, 4, 5, 6, 7, 8, 9]  NA            10000           3281           32.81    5.27   27.54    6.61   60.58              25\n",
            "3        fg = [0, 1, 2]  bg = [3, 4, 5, 6, 7, 8, 9]  NA            10000           3291           32.91    6.65   26.26   13.08   54.01             189\n",
            "4        fg = [0, 1, 2]  bg = [3, 4, 5, 6, 7, 8, 9]  NA            10000           3281           32.81    5.58   27.23    4.78   62.41               8\n",
            "5        fg = [0, 1, 2]  bg = [3, 4, 5, 6, 7, 8, 9]  NA            10000           3274           32.74    6.02   26.72    5.82   61.44              10\n",
            "6        fg = [0, 1, 2]  bg = [3, 4, 5, 6, 7, 8, 9]  NA            10000           3271           32.71    5.61   27.1     5.01   62.28              17\n",
            "7        fg = [0, 1, 2]  bg = [3, 4, 5, 6, 7, 8, 9]  NA            10000           3338           33.38    7.57   25.81   35.95   30.67               0\n",
            "8        fg = [0, 1, 2]  bg = [3, 4, 5, 6, 7, 8, 9]  NA            10000           3271           32.71    5.35   27.36    4.7    62.59               9\n",
            "9        fg = [0, 1, 2]  bg = [3, 4, 5, 6, 7, 8, 9]  NA            10000           3270           32.7     3.38   29.32   10.09   57.21              23\n",
            "10       fg = [0, 1, 2]  bg = [3, 4, 5, 6, 7, 8, 9]  NA            10000           3270           32.7     5.64   27.06    4.03   63.27               9\n",
            "Avg                                                                                               32.822   5.697  27.125   9.596  57.582             30.1\n",
            " \n",
            "================================================================================================================================================================\n"
          ],
          "name": "stdout"
        }
      ]
    },
    {
      "cell_type": "code",
      "metadata": {
        "id": "BOvl6fUChV5j",
        "outputId": "b540e8b3-4c33-4f79-bd47-0c26d317f04a",
        "colab": {
          "base_uri": "https://localhost:8080/",
          "height": 335
        }
      },
      "source": [
        "test_table4 = add_average_entry(test_table4)"
      ],
      "execution_count": 83,
      "outputs": [
        {
          "output_type": "stream",
          "text": [
            " \n",
            "================================================================================================================================================================\n",
            "S.No.    fg_class        bg_class                    Epoch used    total_points    correct      accuracy    FTPT    FFPT    FTPF    FFPF    avg_img > 0.5\n",
            "-------  --------------  --------------------------  ------------  --------------  ---------  ----------  ------  ------  ------  ------  ---------------\n",
            "1        fg = [0, 1, 2]  bg = [3, 4, 5, 6, 7, 8, 9]  NA            10000           3292           32.92    5.61   27.31    5.57   61.51              22\n",
            "2        fg = [0, 1, 2]  bg = [3, 4, 5, 6, 7, 8, 9]  NA            10000           3296           32.96    5.02   27.94    6.19   60.85              45\n",
            "3        fg = [0, 1, 2]  bg = [3, 4, 5, 6, 7, 8, 9]  NA            10000           3315           33.15    5.99   27.16   12.09   54.76             173\n",
            "4        fg = [0, 1, 2]  bg = [3, 4, 5, 6, 7, 8, 9]  NA            10000           3293           32.93    5.63   27.3     4.53   62.54              14\n",
            "5        fg = [0, 1, 2]  bg = [3, 4, 5, 6, 7, 8, 9]  NA            10000           3290           32.9     5.18   27.72    5.48   61.62              34\n",
            "6        fg = [0, 1, 2]  bg = [3, 4, 5, 6, 7, 8, 9]  NA            10000           3294           32.94    5.66   27.28    4.69   62.37              34\n",
            "7        fg = [0, 1, 2]  bg = [3, 4, 5, 6, 7, 8, 9]  NA            10000           3346           33.46    7.05   26.41   34.82   31.72               0\n",
            "8        fg = [0, 1, 2]  bg = [3, 4, 5, 6, 7, 8, 9]  NA            10000           3289           32.89    5.31   27.58    4.43   62.68              13\n",
            "9        fg = [0, 1, 2]  bg = [3, 4, 5, 6, 7, 8, 9]  NA            10000           3297           32.97    3.49   29.48    8.58   58.45              34\n",
            "10       fg = [0, 1, 2]  bg = [3, 4, 5, 6, 7, 8, 9]  NA            10000           3282           32.82    5.28   27.54    3.67   63.51              20\n",
            "Avg                                                                                               32.994   5.422  27.572   9.005  58.001             38.9\n",
            " \n",
            "================================================================================================================================================================\n"
          ],
          "name": "stdout"
        }
      ]
    },
    {
      "cell_type": "code",
      "metadata": {
        "id": "nkyMi1VBpq9a"
      },
      "source": [
        "# torch.save(fore_net.state_dict(),\"/content/drive/My Drive/Research/mosaic_from_CIFAR_involving_bottop_eigen_vectors/fore_net_epoch\"+str(epoch)+\"_fg_used\"+str(fg_used)+\".pt\")"
      ],
      "execution_count": 84,
      "outputs": []
    }
  ]
}