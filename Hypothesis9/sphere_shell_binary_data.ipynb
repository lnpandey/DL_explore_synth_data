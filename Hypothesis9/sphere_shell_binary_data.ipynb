{
  "nbformat": 4,
  "nbformat_minor": 0,
  "metadata": {
    "kernelspec": {
      "display_name": "Python 3",
      "language": "python",
      "name": "python3"
    },
    "language_info": {
      "codemirror_mode": {
        "name": "ipython",
        "version": 3
      },
      "file_extension": ".py",
      "mimetype": "text/x-python",
      "name": "python",
      "nbconvert_exporter": "python",
      "pygments_lexer": "ipython3",
      "version": "3.7.2"
    },
    "colab": {
      "name": "sphere_shell_binary_data.ipynb",
      "version": "0.3.2",
      "provenance": [],
      "collapsed_sections": []
    }
  },
  "cells": [
    {
      "cell_type": "code",
      "metadata": {
        "id": "rFY1TrB_aF_L",
        "colab_type": "code",
        "outputId": "0ff29af1-ddb2-4a5a-8779-0bc3ec202e08",
        "colab": {
          "base_uri": "https://localhost:8080/",
          "height": 122
        }
      },
      "source": [
        "##mount google drive\n",
        "from google.colab import drive\n",
        "drive.mount('/content/drive')"
      ],
      "execution_count": 0,
      "outputs": [
        {
          "output_type": "stream",
          "text": [
            "Go to this URL in a browser: https://accounts.google.com/o/oauth2/auth?client_id=947318989803-6bn6qk8qdgf4n4g3pfee6491hc0brc4i.apps.googleusercontent.com&redirect_uri=urn%3Aietf%3Awg%3Aoauth%3A2.0%3Aoob&scope=email%20https%3A%2F%2Fwww.googleapis.com%2Fauth%2Fdocs.test%20https%3A%2F%2Fwww.googleapis.com%2Fauth%2Fdrive%20https%3A%2F%2Fwww.googleapis.com%2Fauth%2Fdrive.photos.readonly%20https%3A%2F%2Fwww.googleapis.com%2Fauth%2Fpeopleapi.readonly&response_type=code\n",
            "\n",
            "Enter your authorization code:\n",
            "··········\n",
            "Mounted at /content/drive\n"
          ],
          "name": "stdout"
        }
      ]
    },
    {
      "cell_type": "code",
      "metadata": {
        "id": "16Cl1T7SlXDI",
        "colab_type": "code",
        "colab": {}
      },
      "source": [
        "from __future__ import absolute_import\n",
        "from __future__ import division\n",
        "from __future__ import print_function\n",
        "import numpy as np\n",
        "import random\n",
        "import matplotlib.pyplot as plt\n",
        "from mpl_toolkits.mplot3d import Axes3D\n",
        "import math\n",
        "import csv"
      ],
      "execution_count": 0,
      "outputs": []
    },
    {
      "cell_type": "code",
      "metadata": {
        "id": "TDGXa-A9HllQ",
        "colab_type": "code",
        "colab": {}
      },
      "source": [
        "def plot_3D_data(points,labels):\n",
        "    fig = plt.figure()\n",
        "    ax = fig.add_subplot(111, projection='3d')\n",
        "    ax.scatter(points[np.where(labels == 1)[0],0],points[np.where(labels == 1)[0],1],points[np.where(labels == 1)[0],2])\n",
        "    ax.scatter(points[np.where(labels == 0)[0],0],points[np.where(labels == 0)[0],1],points[np.where(labels == 0)[0],2])\n",
        "    plt.show()\n",
        "\n",
        "\n",
        "def plot_2D_data(points,labels):\n",
        "    plt.scatter(points[np.where(labels == 1)[0],0],points[np.where(labels == 1)[0],1])\n",
        "    plt.scatter(points[np.where(labels == 0)[0],0],points[np.where(labels == 0)[0],1])\n",
        "    plt.xlabel('x')\n",
        "    plt.ylabel('y')\n",
        "    plt.show()"
      ],
      "execution_count": 0,
      "outputs": []
    },
    {
      "cell_type": "code",
      "metadata": {
        "id": "_0dQHTYelXDO",
        "colab_type": "code",
        "outputId": "e19fb7e1-5de1-4df7-9518-5bb628b36b35",
        "colab": {
          "base_uri": "https://localhost:8080/",
          "height": 283
        }
      },
      "source": [
        "## generate sphere shell binary data by computing n dimensional Cartesian coordinates using radial coordinate r, and n − 1 angular coordinates\n",
        "def data_sphere_shell(num_samples,points_dim,radius_of_sphere, radius_of_shell, thickness_of_shell):\n",
        "\n",
        "    points = np.zeros([num_samples, points_dim])\n",
        "    labels = np.zeros([num_samples,1]).astype(int)\n",
        "    \n",
        "    # Generate positive points inside the circle.\n",
        "    for i in range(num_samples // 2):\n",
        "        r = random.uniform(0, radius_of_sphere)\n",
        "        angle = np.zeros(points_dim-1)\n",
        "        for j in range(points_dim-2):\n",
        "            angle[j] = random.uniform(0, np.pi)\n",
        "        angle[points_dim-2] = random.uniform(0, 2 * np.pi)\n",
        "        \n",
        "        x = np.zeros(points_dim)\n",
        "        for j in range(points_dim-1):\n",
        "            x[j] = r * np.cos(angle[j])\n",
        "            r = r * np.sin(angle[j])\n",
        "        x[points_dim-1] = r\n",
        "        labels[i] = 1\n",
        "        points[i] = x\n",
        "\n",
        "    # Generate negative points outside the circle.\n",
        "    for i in range(num_samples // 2, num_samples):\n",
        "        r = random.uniform(radius_of_shell-(thickness_of_shell/2), radius_of_shell+(thickness_of_shell/2))\n",
        "        angle = np.zeros(points_dim-1)\n",
        "        for j in range(points_dim-2):\n",
        "            angle[j] = random.uniform(0, np.pi)\n",
        "        angle[points_dim-2] = random.uniform(0, 2 * np.pi)\n",
        "        \n",
        "        x = np.zeros(points_dim)\n",
        "        for j in range(points_dim-1):\n",
        "            x[j] = r * np.cos(angle[j])\n",
        "            r = r * np.sin(angle[j])\n",
        "        x[points_dim-1] = r\n",
        "        labels[i] = 0\n",
        "        points[i] = x\n",
        "        \n",
        "    return points, labels\n",
        "  \n",
        "  \n",
        "points_dim = 2\n",
        "num_samples = 500\n",
        "radius_of_sphere = 1\n",
        "radius_of_shell = 1.2\n",
        "thickness_of_shell = 1\n",
        "points, labels = data_sphere_shell(num_samples,points_dim,radius_of_sphere, radius_of_shell, thickness_of_shell)\n",
        "\n",
        "plot_2D_data(points,labels)\n",
        "\n",
        "#path to csv file to store generated data\n",
        "# csv_path = '/content/drive/My Drive/DL_exp/data/train_sp'+ str(radius_of_sphere) + '_sh'+ str(radius_of_shell) + '_t' + str(thickness_of_shell)+ '_' + str(points_dim) + 'dim.csv'     \n",
        "# with open(csv_path, 'w') as writeFile:\n",
        "#     writer = csv.writer(writeFile)\n",
        "#     header = [\"c\"+str(i) for i in range(points_dim)]\n",
        "#     header.append(\"label\")\n",
        "#     writer.writerow(header)\n",
        "#     writer.writerows(np.hstack((points,labels)))"
      ],
      "execution_count": 0,
      "outputs": [
        {
          "output_type": "display_data",
          "data": {
            "image/png": "[encoded data removed]",
            "text/plain": [
              "<Figure size 432x288 with 1 Axes>"
            ]
          },
          "metadata": {
            "tags": []
          }
        }
      ]
    },
    {
      "cell_type": "code",
      "metadata": {
        "id": "K8-VLoCkimbT",
        "colab_type": "code",
        "colab": {}
      },
      "source": [
        "## generate sphere shell binary data from n-dimensional gaussian \n",
        "def get_sphere_shell_data(gaussian_data):\n",
        "  positive_count = 0\n",
        "  negative_count = 0\n",
        "  data = np.zeros((num_samples,points_dim+1))\n",
        "  for p in gaussian_data:\n",
        "    \n",
        "    if positive_count>=(num_samples/2) and negative_count>=(num_samples/2):\n",
        "      return data\n",
        "    \n",
        "    value = np.sqrt(np.sum(np.square(p)))\n",
        "    \n",
        "    #if data is overlapping\n",
        "    if radius_of_shell-(thickness_of_shell/2)<=radius_of_sphere:\n",
        "      if positive_count<(num_samples/2) and value < radius_of_shell-(thickness_of_shell/2):\n",
        "        data[positive_count+negative_count,:-1] = p\n",
        "        data[positive_count+negative_count,-1] = 1\n",
        "        positive_count+=1\n",
        "      elif negative_count<(num_samples/2) and value > radius_of_sphere and value <= radius_of_shell+(thickness_of_shell/2):\n",
        "        data[positive_count+negative_count,:-1] = p\n",
        "        data[positive_count+negative_count,-1] = 0\n",
        "        negative_count+=1\n",
        "      elif value <= radius_of_sphere and value >= radius_of_shell-(thickness_of_shell/2):\n",
        "        prob = random.uniform(0, 1)\n",
        "        if prob<=0.5 and negative_count<(num_samples/2):\n",
        "          data[positive_count+negative_count,:-1] = p\n",
        "          data[positive_count+negative_count,-1] = 0\n",
        "          negative_count+=1\n",
        "        elif prob>0.5 and positive_count<(num_samples/2):\n",
        "          data[positive_count+negative_count,:-1] = p\n",
        "          data[positive_count+negative_count,-1] = 1\n",
        "          positive_count+=1\n",
        "    \n",
        "    #if data is not overlapping\n",
        "    else:\n",
        "      if positive_count<(num_samples/2) and value <= radius_of_sphere:\n",
        "        data[positive_count+negative_count,:-1] = p\n",
        "        data[positive_count+negative_count,-1] = 1\n",
        "        positive_count+=1\n",
        "      elif negative_count<(num_samples/2) and value >= radius_of_shell-(thickness_of_shell/2) and value <= radius_of_shell+(thickness_of_shell/2):\n",
        "        data[positive_count+negative_count,:-1] = p\n",
        "        data[positive_count+negative_count,-1] = 0\n",
        "        negative_count+=1\n",
        "  print(negative_count,positive_count)\n",
        "  return data\n",
        "        \n",
        "points_dim = 32\n",
        "num_samples = 500\n",
        "radius_of_sphere = 1\n",
        "radius_of_shell = 2\n",
        "thickness_of_shell = 1\n",
        "\n",
        "mean = np.zeros(points_dim)\n",
        "cov = 0.05*np.identity(points_dim)\n",
        "gaussian_data = np.random.multivariate_normal(mean, cov, 10000)\n",
        "data = get_sphere_shell_data(gaussian_data)\n",
        "\n",
        "# plot_2D_data(data[:,:-1],data[:,-1])\n",
        "\n",
        "#path to csv file to store generated data\n",
        "csv_path = '/content/drive/My Drive/DL_exp/gaussian_data/train_sp'+ str(radius_of_sphere) + '_sh'+ str(radius_of_shell) + '_t' + str(thickness_of_shell)+ '_' + str(points_dim) + 'dim.csv'     \n",
        "with open(csv_path, 'w') as writeFile:\n",
        "    writer = csv.writer(writeFile)\n",
        "    header = [\"c\"+str(i) for i in range(points_dim)]\n",
        "    header.append(\"label\")\n",
        "    writer.writerow(header)\n",
        "    writer.writerows(data)"
      ],
      "execution_count": 0,
      "outputs": []
    },
    {
      "cell_type": "code",
      "metadata": {
        "id": "UGK2ktQ0Y9zM",
        "colab_type": "code",
        "outputId": "be934eff-d1c7-4010-c5ad-415006688469",
        "colab": {
          "base_uri": "https://localhost:8080/",
          "height": 286
        }
      },
      "source": [
        "x = [1,2,3,4,5]\n",
        "y = [0,0,0,0,0]\n",
        "for p in gaussian_data:\n",
        "    value = np.sqrt(np.sum(np.square(p)))\n",
        "    if value<=x[0]:\n",
        "      y[0]+=1\n",
        "    elif value<=x[1]:\n",
        "      y[1]+=1\n",
        "    elif value<=x[2]:\n",
        "      y[2]+=1\n",
        "    elif value<=x[3]:\n",
        "      y[3]+=1\n",
        "    elif value<=x[4]:\n",
        "      y[4]+=1\n",
        "    \n",
        "plt.bar(x, y, align='center', alpha=0.5)"
      ],
      "execution_count": 0,
      "outputs": [
        {
          "output_type": "execute_result",
          "data": {
            "text/plain": [
              "<BarContainer object of 5 artists>"
            ]
          },
          "metadata": {
            "tags": []
          },
          "execution_count": 92
        },
        {
          "output_type": "display_data",
          "data": {
            "image/png": "[encoded data removed]",
            "text/plain": [
              "<Figure size 432x288 with 1 Axes>"
            ]
          },
          "metadata": {
            "tags": []
          }
        }
      ]
    },
    {
      "cell_type": "code",
      "metadata": {
        "id": "jGRGuFJQx0iq",
        "colab_type": "code",
        "outputId": "25031604-5519-4e1b-b555-daff69137252",
        "colab": {
          "base_uri": "https://localhost:8080/",
          "height": 34
        }
      },
      "source": [
        "#calculate base risk for overlapping data\n",
        "points_dim = 32\n",
        "radius_of_sphere = 1\n",
        "radius_of_shell = 1.4\n",
        "thickness_of_shell = 1\n",
        "\n",
        "overlapping_data_volume = (np.pi**(points_dim/2))/(math.gamma((points_dim/2)+1))*((radius_of_sphere**points_dim) - ((radius_of_shell-(thickness_of_shell/2))**points_dim))\n",
        "neg_data_volume = (np.pi**(points_dim/2))/(math.gamma((points_dim/2)+1))*(((radius_of_shell+(thickness_of_shell/2))**points_dim) - ((radius_of_shell-(thickness_of_shell/2))**points_dim))\n",
        "pos_data_volume = (np.pi**(points_dim/2))/(math.gamma((points_dim/2)+1))*(radius_of_sphere**points_dim)\n",
        "neg_data_risk = 0.5*overlapping_data_volume/neg_data_volume\n",
        "pos_data_risk = 0.5*overlapping_data_volume/pos_data_volume\n",
        "base_risk = min(neg_data_risk,pos_data_risk)\n",
        "base_risk"
      ],
      "execution_count": 0,
      "outputs": [
        {
          "output_type": "execute_result",
          "data": {
            "text/plain": [
              "5.803372374947909e-10"
            ]
          },
          "metadata": {
            "tags": []
          },
          "execution_count": 47
        }
      ]
    },
    {
      "cell_type": "code",
      "metadata": {
        "id": "xB796ZOdvQjN",
        "colab_type": "code",
        "colab": {}
      },
      "source": [
        ""
      ],
      "execution_count": 0,
      "outputs": []
    },
    {
      "cell_type": "code",
      "metadata": {
        "id": "LhUCH4QXAmrc",
        "colab_type": "code",
        "colab": {}
      },
      "source": [
        ""
      ],
      "execution_count": 0,
      "outputs": []
    }
  ]
}