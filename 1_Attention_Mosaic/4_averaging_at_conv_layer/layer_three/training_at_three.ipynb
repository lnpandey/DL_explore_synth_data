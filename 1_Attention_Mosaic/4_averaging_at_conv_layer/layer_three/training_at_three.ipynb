{
  "nbformat": 4,
  "nbformat_minor": 0,
  "metadata": {
    "colab": {
      "name": "Untitled19.ipynb",
      "provenance": [],
      "collapsed_sections": []
    },
    "kernelspec": {
      "name": "python3",
      "display_name": "Python 3"
    },
    "accelerator": "GPU"
  },
  "cells": [
    {
      "cell_type": "code",
      "metadata": {
        "id": "0R2j0wT2NxUG",
        "colab_type": "code",
        "outputId": "f65db0cb-0d54-4aed-8282-0e73775aed75",
        "colab": {
          "base_uri": "https://localhost:8080/",
          "height": 51
        }
      },
      "source": [
        "from Models import Classification_Module2 as Classification_Module\n",
        "from Models import Focus_Module2 as Focus_Module\n",
        "from Mosaic import mosaic_data, MosaicDataset,split_foreground_background\n",
        "from torch.utils.data import Dataset,DataLoader\n",
        "import numpy as np\n",
        "import torch\n",
        "import torchvision\n",
        "import torchvision.transforms as transforms\n",
        "import torch.optim as optim\n",
        "import torch.nn as nn\n",
        "from matplotlib import pyplot as plt\n",
        "%matplotlib inline\n",
        "\n",
        "device = torch.device(\"cuda\" if torch.cuda.is_available() else \"cpu\")\n",
        "print(device)"
      ],
      "execution_count": 1,
      "outputs": [
        {
          "output_type": "stream",
          "text": [
            "cuda\n",
            "cuda\n"
          ],
          "name": "stdout"
        }
      ]
    },
    {
      "cell_type": "code",
      "metadata": {
        "id": "SblUamycPE7O",
        "colab_type": "code",
        "outputId": "2cf9d53f-d5e6-4029-eb50-8f317c1417e9",
        "colab": {
          "base_uri": "https://localhost:8080/",
          "height": 51
        }
      },
      "source": [
        "transform = transforms.Compose(\n",
        "    [transforms.ToTensor(),\n",
        "     transforms.Normalize((0.5, 0.5, 0.5), (0.5, 0.5, 0.5))])\n",
        "\n",
        "trainset = torchvision.datasets.CIFAR10(root='./data', train=True, download=True, transform=transform)\n",
        "\n",
        "\n",
        "testset = torchvision.datasets.CIFAR10(root='./data', train=False, download=True, transform=transform)\n",
        "\n",
        "trainloader = torch.utils.data.DataLoader(trainset, batch_size=10, shuffle=True)\n",
        "testloader = torch.utils.data.DataLoader(testset, batch_size=10, shuffle=False)"
      ],
      "execution_count": 2,
      "outputs": [
        {
          "output_type": "stream",
          "text": [
            "Files already downloaded and verified\n",
            "Files already downloaded and verified\n"
          ],
          "name": "stdout"
        }
      ]
    },
    {
      "cell_type": "code",
      "metadata": {
        "id": "Tsd9DNgUPMBx",
        "colab_type": "code",
        "colab": {}
      },
      "source": [
        "data = split_foreground_background(trainloader,total = 50000)\n",
        "mosaic_list_of_images,mosaic_label,fore_idx = mosaic_data(data,desired_num=30000,total=50000)"
      ],
      "execution_count": 0,
      "outputs": []
    },
    {
      "cell_type": "code",
      "metadata": {
        "id": "GC1dUctdPgmW",
        "colab_type": "code",
        "colab": {}
      },
      "source": [
        "batch = 250\n",
        "train_dataset  = MosaicDataset(mosaic_list_of_images, mosaic_label , fore_idx)\n",
        "mosaic_loader = DataLoader( train_dataset,batch_size= batch ,shuffle=True)"
      ],
      "execution_count": 0,
      "outputs": []
    },
    {
      "cell_type": "code",
      "metadata": {
        "id": "TCm_yFatRxib",
        "colab_type": "code",
        "colab": {}
      },
      "source": [
        "mimages_val,mlabel_val,fidx_val = mosaic_data(data,desired_num=10000,total=50000)"
      ],
      "execution_count": 0,
      "outputs": []
    },
    {
      "cell_type": "code",
      "metadata": {
        "id": "RccSHk3DU3jU",
        "colab_type": "code",
        "colab": {}
      },
      "source": [
        "batch = 250\n",
        "test_dataset  = MosaicDataset(mimages_val,mlabel_val,fidx_val)\n",
        "test_loader = DataLoader( test_dataset,batch_size= batch ,shuffle=True)"
      ],
      "execution_count": 0,
      "outputs": []
    },
    {
      "cell_type": "code",
      "metadata": {
        "id": "Di1vx00TVFgx",
        "colab_type": "code",
        "colab": {}
      },
      "source": [
        "focus_net =  Focus_Module(3,1).double()\n",
        "focus_net = focus_net.to(device)"
      ],
      "execution_count": 0,
      "outputs": []
    },
    {
      "cell_type": "code",
      "metadata": {
        "id": "R0wsFjYFVPfo",
        "colab_type": "code",
        "colab": {}
      },
      "source": [
        "classification_net  = Classification_Module(20,3).double()\n"
      ],
      "execution_count": 0,
      "outputs": []
    },
    {
      "cell_type": "code",
      "metadata": {
        "id": "jz6llbjujOm8",
        "colab_type": "code",
        "outputId": "6baec76c-832c-4846-8bad-521410182b57",
        "colab": {
          "base_uri": "https://localhost:8080/",
          "height": 119
        }
      },
      "source": [
        "\n",
        "classification_net = classification_net.to(device)\n",
        "classification_net"
      ],
      "execution_count": 9,
      "outputs": [
        {
          "output_type": "execute_result",
          "data": {
            "text/plain": [
              "Classification_Module2(\n",
              "  (fc1): Linear(in_features=720, out_features=120, bias=True)\n",
              "  (fc2): Linear(in_features=120, out_features=84, bias=True)\n",
              "  (fc3): Linear(in_features=84, out_features=10, bias=True)\n",
              "  (fc4): Linear(in_features=10, out_features=3, bias=True)\n",
              ")"
            ]
          },
          "metadata": {
            "tags": []
          },
          "execution_count": 9
        }
      ]
    },
    {
      "cell_type": "code",
      "metadata": {
        "id": "emZvvTp0VbIu",
        "colab_type": "code",
        "colab": {}
      },
      "source": [
        "optimizer_focus = optim.SGD(focus_net.parameters(),lr = 0.01,momentum=0.9)\n",
        "optimizer_classification = optim.SGD(classification_net.parameters(),lr =0.01, momentum=0.9)"
      ],
      "execution_count": 0,
      "outputs": []
    },
    {
      "cell_type": "code",
      "metadata": {
        "id": "cClaMnSRVfS6",
        "colab_type": "code",
        "colab": {}
      },
      "source": [
        "\n",
        "criterion = nn.CrossEntropyLoss()"
      ],
      "execution_count": 0,
      "outputs": []
    },
    {
      "cell_type": "code",
      "metadata": {
        "id": "Y8iOl6JEVjJJ",
        "colab_type": "code",
        "outputId": "26aed1da-a89a-48e9-fc57-3bf0ea6f0403",
        "colab": {
          "base_uri": "https://localhost:8080/",
          "height": 1000
        }
      },
      "source": [
        "tr_loss = []\n",
        "for epoch in range(110):  # loop over the dataset multiple times\n",
        "    running_loss = 0.0\n",
        "    cnt=0\n",
        "    iteration = 30000 // batch\n",
        "    ep_loss = []\n",
        "    for i, data in  enumerate(mosaic_loader):\n",
        "        inputs , labels , fgrnd_idx = data\n",
        "        inputs,labels = inputs.to(\"cuda\"),labels.to(\"cuda\")\n",
        "        optimizer_focus.zero_grad()\n",
        "        optimizer_classification.zero_grad()\n",
        "        avg_data , alphas = focus_net(inputs)\n",
        "        outputs = classification_net(avg_data)\n",
        "        _, predicted = torch.max(outputs.data, 1)\n",
        "        loss = criterion(outputs, labels)\n",
        "        loss.backward()\n",
        "        optimizer_focus.step()\n",
        "        optimizer_classification.step()\n",
        "\n",
        "        running_loss += loss.item()\n",
        "        mini = 40\n",
        "        if cnt % mini == mini-1:    # print every mini mini-batches\n",
        "            print('[%d, %5d] loss: %.3f' %(epoch + 1, cnt + 1, running_loss / mini))\n",
        "            ep_loss.append(running_loss/mini)\n",
        "            running_loss = 0.0  \n",
        "        cnt=cnt+1\n",
        "    tr_loss.append(np.mean(ep_loss))      \n",
        "print('Finished Training')    "
      ],
      "execution_count": 12,
      "outputs": [
        {
          "output_type": "stream",
          "text": [
            "/usr/local/lib/python3.6/dist-packages/torch/nn/functional.py:1558: UserWarning: nn.functional.tanh is deprecated. Use torch.tanh instead.\n",
            "  warnings.warn(\"nn.functional.tanh is deprecated. Use torch.tanh instead.\")\n"
          ],
          "name": "stderr"
        },
        {
          "output_type": "stream",
          "text": [
            "[1,    40] loss: 1.106\n",
            "[1,    80] loss: 1.099\n",
            "[1,   120] loss: 1.099\n",
            "[2,    40] loss: 1.099\n",
            "[2,    80] loss: 1.099\n",
            "[2,   120] loss: 1.099\n",
            "[3,    40] loss: 1.099\n",
            "[3,    80] loss: 1.099\n",
            "[3,   120] loss: 1.099\n",
            "[4,    40] loss: 1.099\n",
            "[4,    80] loss: 1.099\n",
            "[4,   120] loss: 1.099\n",
            "[5,    40] loss: 1.099\n",
            "[5,    80] loss: 1.099\n",
            "[5,   120] loss: 1.099\n",
            "[6,    40] loss: 1.099\n",
            "[6,    80] loss: 1.098\n",
            "[6,   120] loss: 1.099\n",
            "[7,    40] loss: 1.099\n",
            "[7,    80] loss: 1.099\n",
            "[7,   120] loss: 1.099\n",
            "[8,    40] loss: 1.099\n",
            "[8,    80] loss: 1.099\n",
            "[8,   120] loss: 1.098\n",
            "[9,    40] loss: 1.098\n",
            "[9,    80] loss: 1.098\n",
            "[9,   120] loss: 1.098\n",
            "[10,    40] loss: 1.098\n",
            "[10,    80] loss: 1.098\n",
            "[10,   120] loss: 1.098\n",
            "[11,    40] loss: 1.098\n",
            "[11,    80] loss: 1.098\n",
            "[11,   120] loss: 1.097\n",
            "[12,    40] loss: 1.097\n",
            "[12,    80] loss: 1.097\n",
            "[12,   120] loss: 1.096\n",
            "[13,    40] loss: 1.094\n",
            "[13,    80] loss: 1.092\n",
            "[13,   120] loss: 1.088\n",
            "[14,    40] loss: 1.085\n",
            "[14,    80] loss: 1.081\n",
            "[14,   120] loss: 1.077\n",
            "[15,    40] loss: 1.073\n",
            "[15,    80] loss: 1.072\n",
            "[15,   120] loss: 1.075\n",
            "[16,    40] loss: 1.066\n",
            "[16,    80] loss: 1.065\n",
            "[16,   120] loss: 1.066\n",
            "[17,    40] loss: 1.060\n",
            "[17,    80] loss: 1.058\n",
            "[17,   120] loss: 1.057\n",
            "[18,    40] loss: 1.049\n",
            "[18,    80] loss: 1.054\n",
            "[18,   120] loss: 1.052\n",
            "[19,    40] loss: 1.040\n",
            "[19,    80] loss: 1.047\n",
            "[19,   120] loss: 1.039\n",
            "[20,    40] loss: 1.038\n",
            "[20,    80] loss: 1.031\n",
            "[20,   120] loss: 1.038\n",
            "[21,    40] loss: 1.033\n",
            "[21,    80] loss: 1.024\n",
            "[21,   120] loss: 1.012\n",
            "[22,    40] loss: 1.006\n",
            "[22,    80] loss: 0.999\n",
            "[22,   120] loss: 0.979\n",
            "[23,    40] loss: 0.977\n",
            "[23,    80] loss: 0.974\n",
            "[23,   120] loss: 0.946\n",
            "[24,    40] loss: 0.941\n",
            "[24,    80] loss: 0.933\n",
            "[24,   120] loss: 0.921\n",
            "[25,    40] loss: 0.887\n",
            "[25,    80] loss: 0.880\n",
            "[25,   120] loss: 0.879\n",
            "[26,    40] loss: 0.864\n",
            "[26,    80] loss: 0.835\n",
            "[26,   120] loss: 0.822\n",
            "[27,    40] loss: 0.794\n",
            "[27,    80] loss: 0.798\n",
            "[27,   120] loss: 0.788\n",
            "[28,    40] loss: 0.790\n",
            "[28,    80] loss: 0.762\n",
            "[28,   120] loss: 0.733\n",
            "[29,    40] loss: 0.746\n",
            "[29,    80] loss: 0.720\n",
            "[29,   120] loss: 0.716\n",
            "[30,    40] loss: 0.700\n",
            "[30,    80] loss: 0.689\n",
            "[30,   120] loss: 0.689\n",
            "[31,    40] loss: 0.651\n",
            "[31,    80] loss: 0.658\n",
            "[31,   120] loss: 0.630\n",
            "[32,    40] loss: 0.639\n",
            "[32,    80] loss: 0.642\n",
            "[32,   120] loss: 0.635\n",
            "[33,    40] loss: 0.595\n",
            "[33,    80] loss: 0.607\n",
            "[33,   120] loss: 0.615\n",
            "[34,    40] loss: 0.568\n",
            "[34,    80] loss: 0.592\n",
            "[34,   120] loss: 0.575\n",
            "[35,    40] loss: 0.537\n",
            "[35,    80] loss: 0.531\n",
            "[35,   120] loss: 0.560\n",
            "[36,    40] loss: 0.529\n",
            "[36,    80] loss: 0.502\n",
            "[36,   120] loss: 0.520\n",
            "[37,    40] loss: 0.512\n",
            "[37,    80] loss: 0.500\n",
            "[37,   120] loss: 0.484\n",
            "[38,    40] loss: 0.466\n",
            "[38,    80] loss: 0.482\n",
            "[38,   120] loss: 0.451\n",
            "[39,    40] loss: 0.442\n",
            "[39,    80] loss: 0.453\n",
            "[39,   120] loss: 0.456\n",
            "[40,    40] loss: 0.412\n",
            "[40,    80] loss: 0.446\n",
            "[40,   120] loss: 0.399\n",
            "[41,    40] loss: 0.383\n",
            "[41,    80] loss: 0.412\n",
            "[41,   120] loss: 0.401\n",
            "[42,    40] loss: 0.385\n",
            "[42,    80] loss: 0.359\n",
            "[42,   120] loss: 0.380\n",
            "[43,    40] loss: 0.365\n",
            "[43,    80] loss: 0.342\n",
            "[43,   120] loss: 0.386\n",
            "[44,    40] loss: 0.335\n",
            "[44,    80] loss: 0.363\n",
            "[44,   120] loss: 0.332\n",
            "[45,    40] loss: 0.298\n",
            "[45,    80] loss: 0.322\n",
            "[45,   120] loss: 0.336\n",
            "[46,    40] loss: 0.301\n",
            "[46,    80] loss: 0.304\n",
            "[46,   120] loss: 0.291\n",
            "[47,    40] loss: 0.289\n",
            "[47,    80] loss: 0.279\n",
            "[47,   120] loss: 0.320\n",
            "[48,    40] loss: 0.283\n",
            "[48,    80] loss: 0.247\n",
            "[48,   120] loss: 0.268\n",
            "[49,    40] loss: 0.231\n",
            "[49,    80] loss: 0.246\n",
            "[49,   120] loss: 0.296\n",
            "[50,    40] loss: 0.228\n",
            "[50,    80] loss: 0.273\n",
            "[50,   120] loss: 0.261\n",
            "[51,    40] loss: 0.227\n",
            "[51,    80] loss: 0.231\n",
            "[51,   120] loss: 0.265\n",
            "[52,    40] loss: 0.201\n",
            "[52,    80] loss: 0.210\n",
            "[52,   120] loss: 0.247\n",
            "[53,    40] loss: 0.187\n",
            "[53,    80] loss: 0.201\n",
            "[53,   120] loss: 0.197\n",
            "[54,    40] loss: 0.221\n",
            "[54,    80] loss: 0.228\n",
            "[54,   120] loss: 0.224\n",
            "[55,    40] loss: 0.166\n",
            "[55,    80] loss: 0.179\n",
            "[55,   120] loss: 0.175\n",
            "[56,    40] loss: 0.165\n",
            "[56,    80] loss: 0.201\n",
            "[56,   120] loss: 0.234\n",
            "[57,    40] loss: 0.159\n",
            "[57,    80] loss: 0.138\n",
            "[57,   120] loss: 0.155\n",
            "[58,    40] loss: 0.137\n",
            "[58,    80] loss: 0.141\n",
            "[58,   120] loss: 0.170\n",
            "[59,    40] loss: 0.139\n",
            "[59,    80] loss: 0.156\n",
            "[59,   120] loss: 0.146\n",
            "[60,    40] loss: 0.109\n",
            "[60,    80] loss: 0.119\n",
            "[60,   120] loss: 0.110\n",
            "[61,    40] loss: 0.109\n",
            "[61,    80] loss: 0.129\n",
            "[61,   120] loss: 0.191\n",
            "[62,    40] loss: 0.142\n",
            "[62,    80] loss: 0.118\n",
            "[62,   120] loss: 0.153\n",
            "[63,    40] loss: 0.119\n",
            "[63,    80] loss: 0.135\n",
            "[63,   120] loss: 0.124\n",
            "[64,    40] loss: 0.117\n",
            "[64,    80] loss: 0.116\n",
            "[64,   120] loss: 0.130\n",
            "[65,    40] loss: 0.092\n",
            "[65,    80] loss: 0.120\n",
            "[65,   120] loss: 0.130\n",
            "[66,    40] loss: 0.113\n",
            "[66,    80] loss: 0.115\n",
            "[66,   120] loss: 0.123\n",
            "[67,    40] loss: 0.114\n",
            "[67,    80] loss: 0.128\n",
            "[67,   120] loss: 0.104\n",
            "[68,    40] loss: 0.087\n",
            "[68,    80] loss: 0.104\n",
            "[68,   120] loss: 0.090\n",
            "[69,    40] loss: 0.095\n",
            "[69,    80] loss: 0.093\n",
            "[69,   120] loss: 0.097\n",
            "[70,    40] loss: 0.083\n",
            "[70,    80] loss: 0.079\n",
            "[70,   120] loss: 0.094\n",
            "[71,    40] loss: 0.061\n",
            "[71,    80] loss: 0.071\n",
            "[71,   120] loss: 0.081\n",
            "[72,    40] loss: 0.083\n",
            "[72,    80] loss: 0.107\n",
            "[72,   120] loss: 0.082\n",
            "[73,    40] loss: 0.075\n",
            "[73,    80] loss: 0.082\n",
            "[73,   120] loss: 0.055\n",
            "[74,    40] loss: 0.054\n",
            "[74,    80] loss: 0.061\n",
            "[74,   120] loss: 0.127\n",
            "[75,    40] loss: 0.110\n",
            "[75,    80] loss: 0.115\n",
            "[75,   120] loss: 0.072\n",
            "[76,    40] loss: 0.038\n",
            "[76,    80] loss: 0.046\n",
            "[76,   120] loss: 0.043\n",
            "[77,    40] loss: 0.041\n",
            "[77,    80] loss: 0.061\n",
            "[77,   120] loss: 0.081\n",
            "[78,    40] loss: 0.048\n",
            "[78,    80] loss: 0.074\n",
            "[78,   120] loss: 0.077\n",
            "[79,    40] loss: 0.060\n",
            "[79,    80] loss: 0.095\n",
            "[79,   120] loss: 0.062\n",
            "[80,    40] loss: 0.071\n",
            "[80,    80] loss: 0.065\n",
            "[80,   120] loss: 0.059\n",
            "[81,    40] loss: 0.060\n",
            "[81,    80] loss: 0.090\n",
            "[81,   120] loss: 0.056\n",
            "[82,    40] loss: 0.050\n",
            "[82,    80] loss: 0.059\n",
            "[82,   120] loss: 0.064\n",
            "[83,    40] loss: 0.043\n",
            "[83,    80] loss: 0.037\n",
            "[83,   120] loss: 0.039\n",
            "[84,    40] loss: 0.027\n",
            "[84,    80] loss: 0.049\n",
            "[84,   120] loss: 0.053\n",
            "[85,    40] loss: 0.032\n",
            "[85,    80] loss: 0.035\n",
            "[85,   120] loss: 0.041\n",
            "[86,    40] loss: 0.032\n",
            "[86,    80] loss: 0.024\n",
            "[86,   120] loss: 0.047\n",
            "[87,    40] loss: 0.047\n",
            "[87,    80] loss: 0.036\n",
            "[87,   120] loss: 0.027\n",
            "[88,    40] loss: 0.032\n",
            "[88,    80] loss: 0.059\n",
            "[88,   120] loss: 0.060\n",
            "[89,    40] loss: 0.058\n",
            "[89,    80] loss: 0.074\n",
            "[89,   120] loss: 0.058\n",
            "[90,    40] loss: 0.038\n",
            "[90,    80] loss: 0.032\n",
            "[90,   120] loss: 0.038\n",
            "[91,    40] loss: 0.029\n",
            "[91,    80] loss: 0.033\n",
            "[91,   120] loss: 0.038\n",
            "[92,    40] loss: 0.029\n",
            "[92,    80] loss: 0.027\n",
            "[92,   120] loss: 0.044\n",
            "[93,    40] loss: 0.025\n",
            "[93,    80] loss: 0.031\n",
            "[93,   120] loss: 0.035\n",
            "[94,    40] loss: 0.085\n",
            "[94,    80] loss: 0.050\n",
            "[94,   120] loss: 0.035\n",
            "[95,    40] loss: 0.033\n",
            "[95,    80] loss: 0.025\n",
            "[95,   120] loss: 0.022\n",
            "[96,    40] loss: 0.008\n",
            "[96,    80] loss: 0.008\n",
            "[96,   120] loss: 0.022\n",
            "[97,    40] loss: 0.017\n",
            "[97,    80] loss: 0.012\n",
            "[97,   120] loss: 0.013\n",
            "[98,    40] loss: 0.006\n",
            "[98,    80] loss: 0.004\n",
            "[98,   120] loss: 0.004\n",
            "[99,    40] loss: 0.004\n",
            "[99,    80] loss: 0.003\n",
            "[99,   120] loss: 0.002\n",
            "[100,    40] loss: 0.001\n",
            "[100,    80] loss: 0.001\n",
            "[100,   120] loss: 0.002\n",
            "[101,    40] loss: 0.001\n",
            "[101,    80] loss: 0.002\n",
            "[101,   120] loss: 0.009\n",
            "[102,    40] loss: 0.087\n",
            "[102,    80] loss: 0.114\n",
            "[102,   120] loss: 0.057\n",
            "[103,    40] loss: 0.037\n",
            "[103,    80] loss: 0.025\n",
            "[103,   120] loss: 0.021\n",
            "[104,    40] loss: 0.017\n",
            "[104,    80] loss: 0.029\n",
            "[104,   120] loss: 0.044\n",
            "[105,    40] loss: 0.058\n",
            "[105,    80] loss: 0.041\n",
            "[105,   120] loss: 0.029\n",
            "[106,    40] loss: 0.017\n",
            "[106,    80] loss: 0.024\n",
            "[106,   120] loss: 0.030\n",
            "[107,    40] loss: 0.032\n",
            "[107,    80] loss: 0.037\n",
            "[107,   120] loss: 0.039\n",
            "[108,    40] loss: 0.019\n",
            "[108,    80] loss: 0.014\n",
            "[108,   120] loss: 0.017\n",
            "[109,    40] loss: 0.019\n",
            "[109,    80] loss: 0.013\n",
            "[109,   120] loss: 0.016\n",
            "[110,    40] loss: 0.012\n",
            "[110,    80] loss: 0.015\n",
            "[110,   120] loss: 0.012\n",
            "Finished Training\n"
          ],
          "name": "stdout"
        }
      ]
    },
    {
      "cell_type": "code",
      "metadata": {
        "id": "3lB7KlwGVpmd",
        "colab_type": "code",
        "outputId": "606e6449-4d5a-4290-8524-7c15475d96a1",
        "colab": {
          "base_uri": "https://localhost:8080/",
          "height": 88
        }
      },
      "source": [
        "  train_acc = 0\n",
        "for i, data in enumerate(mosaic_loader):\n",
        "    inputs,labels,_ = data\n",
        "    inputs,labels = inputs.to(device), labels.to(device)\n",
        "    \n",
        "    avg_data,alphas = focus_net(inputs)\n",
        "    outputs = classification_net(avg_data)\n",
        "    _,predicted = torch.max(outputs.data,1)\n",
        "    # print(predicted.detach().cpu().numpy())\n",
        "    train_acc += sum(predicted.cpu().numpy() == labels.cpu().numpy())\n",
        "print(\"percentage train accuracy: \",train_acc/300) \n",
        "\n",
        "torch.save(focus_net.state_dict(),\"focus_netat3.pt\")\n",
        "torch.save(classification_net.state_dict(),\"classification_netat3.pt\")"
      ],
      "execution_count": 23,
      "outputs": [
        {
          "output_type": "stream",
          "text": [
            "/usr/local/lib/python3.6/dist-packages/torch/nn/functional.py:1558: UserWarning: nn.functional.tanh is deprecated. Use torch.tanh instead.\n",
            "  warnings.warn(\"nn.functional.tanh is deprecated. Use torch.tanh instead.\")\n"
          ],
          "name": "stderr"
        },
        {
          "output_type": "stream",
          "text": [
            "percentage train accuracy:  99.83333333333333\n"
          ],
          "name": "stdout"
        }
      ]
    },
    {
      "cell_type": "code",
      "metadata": {
        "id": "QEdCv9Lfd6Pf",
        "colab_type": "code",
        "outputId": "2554b515-1558-4c05-cc8f-416b56a69412",
        "colab": {
          "base_uri": "https://localhost:8080/",
          "height": 88
        }
      },
      "source": [
        "val_acc = 0\n",
        "for i, data in enumerate(test_loader):\n",
        "    inputs,labels,_ = data\n",
        "    inputs,labels = inputs.to(device), labels.to(device)\n",
        "\n",
        "    avg_data,alphas = focus_net(inputs)\n",
        "    outputs = classification_net(avg_data)\n",
        "    _,predicted = torch.max(outputs.data,1)\n",
        "\n",
        "    val_acc +=sum(predicted.cpu().numpy() == labels.cpu().numpy())\n",
        "print(\"percentage validation accuracy: \",val_acc/100)"
      ],
      "execution_count": 14,
      "outputs": [
        {
          "output_type": "stream",
          "text": [
            "/usr/local/lib/python3.6/dist-packages/torch/nn/functional.py:1558: UserWarning: nn.functional.tanh is deprecated. Use torch.tanh instead.\n",
            "  warnings.warn(\"nn.functional.tanh is deprecated. Use torch.tanh instead.\")\n"
          ],
          "name": "stderr"
        },
        {
          "output_type": "stream",
          "text": [
            "percentage validation accuracy:  90.01\n"
          ],
          "name": "stdout"
        }
      ]
    },
    {
      "cell_type": "code",
      "metadata": {
        "id": "Q5MIz98beE2L",
        "colab_type": "code",
        "colab": {
          "base_uri": "https://localhost:8080/",
          "height": 279
        },
        "outputId": "6d8dcee5-3e37-43b2-ac85-bd5468a4316d"
      },
      "source": [
        "plt.figure(figsize = (5,4))\n",
        "plt.plot(tr_loss,label= \"training loss\")\n",
        "plt.xlabel(\"epochs\")\n",
        "plt.ylabel(\"cross entropy loss\")\n",
        "plt.savefig(\"traininglossat3.png\")\n",
        "plt.savefig(\"traininglossat3.pdf\")"
      ],
      "execution_count": 22,
      "outputs": [
        {
          "output_type": "display_data",
          "data": {
            "image/png": "[encoded data removed]",
            "text/plain": [
              "<Figure size 360x288 with 1 Axes>"
            ]
          },
          "metadata": {
            "tags": [],
            "needs_background": "light"
          }
        }
      ]
    },
    {
      "cell_type": "code",
      "metadata": {
        "id": "kDF5iDVwYCZb",
        "colab_type": "code",
        "colab": {}
      },
      "source": [
        ""
      ],
      "execution_count": 0,
      "outputs": []
    }
  ]
}