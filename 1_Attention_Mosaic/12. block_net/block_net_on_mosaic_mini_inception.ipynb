{
  "nbformat": 4,
  "nbformat_minor": 0,
  "metadata": {
    "accelerator": "GPU",
    "colab": {
      "name": "block_net_on_mosaic_mini_inception.ipynb",
      "provenance": [],
      "collapsed_sections": [],
      "machine_shape": "hm"
    },
    "kernelspec": {
      "display_name": "Python 3",
      "language": "python",
      "name": "python3"
    },
    "language_info": {
      "codemirror_mode": {
        "name": "ipython",
        "version": 3
      },
      "file_extension": ".py",
      "mimetype": "text/x-python",
      "name": "python",
      "nbconvert_exporter": "python",
      "pygments_lexer": "ipython3",
      "version": "3.7.4"
    }
  },
  "cells": [
    {
      "cell_type": "code",
      "metadata": {
        "colab_type": "code",
        "id": "JSjG64ra4aFu",
        "colab": {
          "base_uri": "https://localhost:8080/",
          "height": 35
        },
        "outputId": "c058fc6d-f7ff-4e43-808a-27c325cae8c9"
      },
      "source": [
        "from google.colab import drive\n",
        "drive.mount('/content/drive')"
      ],
      "execution_count": 1,
      "outputs": [
        {
          "output_type": "stream",
          "text": [
            "Drive already mounted at /content/drive; to attempt to forcibly remount, call drive.mount(\"/content/drive\", force_remount=True).\n"
          ],
          "name": "stdout"
        }
      ]
    },
    {
      "cell_type": "code",
      "metadata": {
        "colab_type": "code",
        "id": "V8-7SARDZErK",
        "colab": {}
      },
      "source": [
        "import torch.nn as nn\n",
        "import torch.nn.functional as F\n",
        "\n",
        "import pandas as pd\n",
        "import numpy as np\n",
        "import matplotlib.pyplot as plt\n",
        "\n",
        "import torch\n",
        "import torchvision\n",
        "import torchvision.transforms as transforms\n",
        "from torch.utils.data import Dataset, DataLoader\n",
        "from torchvision import transforms, utils\n",
        "\n",
        "from matplotlib import pyplot as plt\n",
        "\n",
        "import copy\n",
        "\n",
        "# Ignore warnings\n",
        "import warnings\n",
        "warnings.filterwarnings(\"ignore\")\n"
      ],
      "execution_count": 2,
      "outputs": []
    },
    {
      "cell_type": "code",
      "metadata": {
        "id": "vKp2zTlx2PPF",
        "colab_type": "code",
        "colab": {
          "base_uri": "https://localhost:8080/",
          "height": 35
        },
        "outputId": "ff0e5d35-25f9-45dc-8a7b-39073e2ab5e6"
      },
      "source": [
        "a = torch.arange(2*3*1*1)\n",
        "print(a.shape,a)"
      ],
      "execution_count": 3,
      "outputs": [
        {
          "output_type": "stream",
          "text": [
            "torch.Size([6]) tensor([0, 1, 2, 3, 4, 5])\n"
          ],
          "name": "stdout"
        }
      ]
    },
    {
      "cell_type": "code",
      "metadata": {
        "id": "DmQ0YrSm2YKG",
        "colab_type": "code",
        "colab": {
          "base_uri": "https://localhost:8080/",
          "height": 235
        },
        "outputId": "52d166a4-f7da-4f4f-c06c-1833cf4ccc49"
      },
      "source": [
        "torch.reshape(a, (2,3,1,1))"
      ],
      "execution_count": 4,
      "outputs": [
        {
          "output_type": "execute_result",
          "data": {
            "text/plain": [
              "tensor([[[[0]],\n",
              "\n",
              "         [[1]],\n",
              "\n",
              "         [[2]]],\n",
              "\n",
              "\n",
              "        [[[3]],\n",
              "\n",
              "         [[4]],\n",
              "\n",
              "         [[5]]]])"
            ]
          },
          "metadata": {
            "tags": []
          },
          "execution_count": 4
        }
      ]
    },
    {
      "cell_type": "code",
      "metadata": {
        "id": "LTkC12__23oO",
        "colab_type": "code",
        "colab": {
          "base_uri": "https://localhost:8080/",
          "height": 217
        },
        "outputId": "069aa1c4-256c-4b6f-d14c-139decf50835"
      },
      "source": [
        "torch.reshape(a, (2*3,1,1))"
      ],
      "execution_count": 5,
      "outputs": [
        {
          "output_type": "execute_result",
          "data": {
            "text/plain": [
              "tensor([[[0]],\n",
              "\n",
              "        [[1]],\n",
              "\n",
              "        [[2]],\n",
              "\n",
              "        [[3]],\n",
              "\n",
              "        [[4]],\n",
              "\n",
              "        [[5]]])"
            ]
          },
          "metadata": {
            "tags": []
          },
          "execution_count": 5
        }
      ]
    },
    {
      "cell_type": "code",
      "metadata": {
        "colab_type": "code",
        "id": "acRFqJNrZErV",
        "colab": {
          "base_uri": "https://localhost:8080/",
          "height": 53
        },
        "outputId": "8e3fa3b3-4dce-4f02-cfc2-e60c2741c200"
      },
      "source": [
        "transform = transforms.Compose(\n",
        "    [transforms.ToTensor(),\n",
        "     transforms.Normalize((0.5, 0.5, 0.5), (0.5, 0.5, 0.5))])\n",
        "\n",
        "trainset = torchvision.datasets.CIFAR10(root='./data', train=True, download=True, transform=transform)\n",
        "\n",
        "\n",
        "testset = torchvision.datasets.CIFAR10(root='./data', train=False, download=True, transform=transform)\n"
      ],
      "execution_count": 6,
      "outputs": [
        {
          "output_type": "stream",
          "text": [
            "Files already downloaded and verified\n",
            "Files already downloaded and verified\n"
          ],
          "name": "stdout"
        }
      ]
    },
    {
      "cell_type": "code",
      "metadata": {
        "colab_type": "code",
        "id": "V_JUhwCeZErk",
        "colab": {}
      },
      "source": [
        "trainloader = torch.utils.data.DataLoader(trainset, batch_size=10, shuffle=True)\n",
        "testloader = torch.utils.data.DataLoader(testset, batch_size=10, shuffle=False)\n",
        "\n",
        "\n",
        "classes = ('plane', 'car', 'bird', 'cat', 'deer', 'dog', 'frog', 'horse', 'ship', 'truck')\n",
        "\n",
        "foreground_classes = {'horse','ship', 'truck'}\n",
        "\n",
        "background_classes = {'plane', 'car', 'bird', 'cat', 'deer', 'dog', 'frog'}\n",
        "\n",
        "# print(type(foreground_classes))"
      ],
      "execution_count": 7,
      "outputs": []
    },
    {
      "cell_type": "code",
      "metadata": {
        "colab_type": "code",
        "id": "cYuA7_81ZEro",
        "colab": {}
      },
      "source": [
        "dataiter = iter(trainloader)\n",
        "background_data=[]\n",
        "background_label=[]\n",
        "foreground_data=[]\n",
        "foreground_label=[]\n",
        "batch_size=10\n",
        "\n",
        "for i in range(5000):\n",
        "  images, labels = dataiter.next()\n",
        "  for j in range(batch_size):\n",
        "    if(classes[labels[j]] in background_classes):\n",
        "      img = images[j].tolist()\n",
        "      background_data.append(img)\n",
        "      background_label.append(labels[j])\n",
        "    else:\n",
        "      img = images[j].tolist()\n",
        "      foreground_data.append(img)\n",
        "      foreground_label.append(labels[j])\n",
        "            \n",
        "foreground_data = torch.tensor(foreground_data)\n",
        "foreground_label = torch.tensor(foreground_label)\n",
        "background_data = torch.tensor(background_data)\n",
        "background_label = torch.tensor(background_label)\n",
        "    "
      ],
      "execution_count": 8,
      "outputs": []
    },
    {
      "cell_type": "code",
      "metadata": {
        "colab_type": "code",
        "id": "1U17HBQVZErt",
        "colab": {}
      },
      "source": [
        "# print(foreground_data.size())\n",
        "# print(background_data.size())\n",
        "# torch.save(foreground_data,'foreground_data.pt')\n",
        "# torch.save(background_data,'background_data.pt')\n",
        "# torch.save(foreground_label,'foreground_label.pt')\n",
        "# torch.save(background_label,'background_label.pt')\n",
        "# torch.load()"
      ],
      "execution_count": 9,
      "outputs": []
    },
    {
      "cell_type": "code",
      "metadata": {
        "colab_type": "code",
        "id": "XXibeU-pZErx",
        "colab": {}
      },
      "source": [
        "# torch.load('foreground_data.pt')\n",
        "# # print(foreground_data.size())\n",
        "# # print(background_data.size())"
      ],
      "execution_count": 10,
      "outputs": []
    },
    {
      "cell_type": "code",
      "metadata": {
        "colab_type": "code",
        "id": "gDkM7oJCZEr1",
        "colab": {}
      },
      "source": [
        "\n",
        "# foreground_data = torch.load('foreground_data.pt')\n",
        "# background_data = torch.load('background_data.pt')\n",
        "# foreground_label = torch.load('foreground_label.pt')\n",
        "# background_label = torch.load('background_label.pt')\n"
      ],
      "execution_count": 11,
      "outputs": []
    },
    {
      "cell_type": "code",
      "metadata": {
        "colab_type": "code",
        "id": "M6nKOvp8ZEsF",
        "colab": {}
      },
      "source": [
        "def create_mosaic_img(bg_idx,fg_idx,fg): \n",
        "  \"\"\"\n",
        "  bg_idx : list of indexes of background_data[] to be used as background images in mosaic\n",
        "  fg_idx : index of image to be used as foreground image from foreground data\n",
        "  fg : at what position/index foreground image has to be stored out of 0-8\n",
        "  \"\"\"\n",
        "  image_list=[]\n",
        "  j=0\n",
        "  for i in range(9):\n",
        "    if i != fg:\n",
        "      image_list.append(background_data[bg_idx[j]].type(\"torch.DoubleTensor\"))\n",
        "      j+=1\n",
        "    else: \n",
        "      image_list.append(foreground_data[fg_idx].type(\"torch.DoubleTensor\"))\n",
        "      label = foreground_label[fg_idx]-7  # minus 7 because our fore ground classes are 7,8,9 but we have to store it as 0,1,2\n",
        "  #image_list = np.concatenate(image_list ,axis=0)\n",
        "  image_list = torch.stack(image_list) \n",
        "  return image_list,label"
      ],
      "execution_count": 12,
      "outputs": []
    },
    {
      "cell_type": "code",
      "metadata": {
        "colab_type": "code",
        "id": "hS0soEiqZEsK",
        "scrolled": true,
        "colab": {}
      },
      "source": [
        "desired_num = 30000\n",
        "mosaic_list_of_images =[]      # list of mosaic images, each mosaic image is saved as list of 9 images\n",
        "fore_idx =[]                   # list of indexes at which foreground image is present in a mosaic image i.e from 0 to 9               \n",
        "mosaic_label=[]                # label of mosaic image = foreground class present in that mosaic\n",
        "for i in range(desired_num):\n",
        "  bg_idx = np.random.randint(0,35000,8)\n",
        "  fg_idx = np.random.randint(0,15000)\n",
        "  fg = np.random.randint(0,9)\n",
        "  fore_idx.append(fg)\n",
        "  image_list,label = create_mosaic_img(bg_idx,fg_idx,fg)\n",
        "  mosaic_list_of_images.append(image_list)\n",
        "  mosaic_label.append(label)\n",
        "\n"
      ],
      "execution_count": 13,
      "outputs": []
    },
    {
      "cell_type": "code",
      "metadata": {
        "colab_type": "code",
        "id": "nSO9SFE25Lrk",
        "colab": {}
      },
      "source": [
        "class MosaicDataset(Dataset):\n",
        "  \"\"\"MosaicDataset dataset.\"\"\"\n",
        "\n",
        "  def __init__(self, mosaic_list_of_images, mosaic_label, fore_idx):\n",
        "    \"\"\"\n",
        "      Args:\n",
        "        csv_file (string): Path to the csv file with annotations.\n",
        "        root_dir (string): Directory with all the images.\n",
        "        transform (callable, optional): Optional transform to be applied\n",
        "            on a sample.\n",
        "    \"\"\"\n",
        "    self.mosaic = mosaic_list_of_images\n",
        "    self.label = mosaic_label\n",
        "    self.fore_idx = fore_idx\n",
        "\n",
        "  def __len__(self):\n",
        "    return len(self.label)\n",
        "\n",
        "  def __getitem__(self, idx):\n",
        "    return self.mosaic[idx] , self.label[idx], self.fore_idx[idx]\n",
        "\n",
        "batch = 250\n",
        "msd = MosaicDataset(mosaic_list_of_images, mosaic_label , fore_idx)\n",
        "train_loader = DataLoader( msd,batch_size= batch ,shuffle=True)"
      ],
      "execution_count": 14,
      "outputs": []
    },
    {
      "cell_type": "code",
      "metadata": {
        "colab_type": "code",
        "id": "SadRzWBBZEsP",
        "colab": {}
      },
      "source": [
        "import torch.nn as nn\n",
        "import torch.nn.functional as F\n",
        "\n",
        "class Conv_module(nn.Module):\n",
        "    def __init__(self,inp_ch,f,s,k,pad):\n",
        "        super(Conv_module,self).__init__()\n",
        "        self.inp_ch = inp_ch\n",
        "        self.f = f\n",
        "        self.s = s \n",
        "        self.k = k \n",
        "        self.pad = pad\n",
        "        \n",
        "        \n",
        "        self.conv = nn.Conv2d(self.inp_ch,self.f,k,stride=s,padding=self.pad)\n",
        "        self.bn = nn.BatchNorm2d(self.f)\n",
        "        self.act = nn.ReLU()\n",
        "    def forward(self,x):\n",
        "        x = self.conv(x)\n",
        "        x = self.bn(x)\n",
        "        x = self.act(x)\n",
        "        return x"
      ],
      "execution_count": 15,
      "outputs": []
    },
    {
      "cell_type": "code",
      "metadata": {
        "colab_type": "code",
        "id": "IgGYMG_ZZEsT",
        "colab": {}
      },
      "source": [
        "class inception_module(nn.Module):\n",
        "    def __init__(self,inp_ch,f0,f1):\n",
        "        super(inception_module, self).__init__()\n",
        "        self.inp_ch = inp_ch\n",
        "        self.f0 = f0\n",
        "        self.f1 = f1        \n",
        "        self.conv1 = Conv_module(self.inp_ch,self.f0,1,1,pad=0)\n",
        "        self.conv3 = Conv_module(self.inp_ch,self.f1,1,3,pad=1)\n",
        "        #self.conv1 = nn.Conv2d(3,self.f0,1)\n",
        "        #self.conv3 = nn.Conv2d(3,self.f1,3,padding=1)\n",
        "    def forward(self,x):\n",
        "        x1 = self.conv1.forward(x)\n",
        "        x3 = self.conv3.forward(x)\n",
        "        #print(x1.shape,x3.shape)\n",
        "        x = torch.cat((x1,x3),dim=1)   \n",
        "        return x"
      ],
      "execution_count": 16,
      "outputs": []
    },
    {
      "cell_type": "code",
      "metadata": {
        "id": "ZmVdW6tf363G",
        "colab_type": "code",
        "colab": {}
      },
      "source": [
        "class downsample_module(nn.Module):\n",
        "    def __init__(self,inp_ch,f):\n",
        "        super(downsample_module,self).__init__()\n",
        "        self.inp_ch = inp_ch\n",
        "        self.f = f\n",
        "        self.conv = Conv_module(self.inp_ch,self.f,2,3,pad=0)\n",
        "        self.pool = nn.MaxPool2d(3,stride=2,padding=0)\n",
        "    def forward(self,x):\n",
        "        x1 = self.conv(x)\n",
        "        #print(x1.shape)\n",
        "        x2 = self.pool(x)\n",
        "        #print(x2.shape)\n",
        "        x = torch.cat((x1,x2),dim=1)\n",
        "        \n",
        "        return x,x1"
      ],
      "execution_count": 17,
      "outputs": []
    },
    {
      "cell_type": "code",
      "metadata": {
        "colab_type": "code",
        "id": "thkdqW91Hpju",
        "colab": {}
      },
      "source": [
        "class inception_net(nn.Module):\n",
        "    def __init__(self):\n",
        "        super(inception_net,self).__init__()\n",
        "        self.conv1 = Conv_module(3*9,96,1,3,0)\n",
        "        \n",
        "        self.incept1 = inception_module(96,32,32)\n",
        "        self.incept2 = inception_module(64,32,48)\n",
        "        \n",
        "        self.downsample1 = downsample_module(80,80)\n",
        "        \n",
        "        self.incept3 = inception_module(160,112,48)\n",
        "        self.incept4 = inception_module(160,96,64)\n",
        "        self.incept5 = inception_module(160,80,80)\n",
        "        self.incept6 = inception_module(160,48,96)\n",
        "        \n",
        "        self.downsample2 = downsample_module(144,96)\n",
        "        \n",
        "        self.incept7 = inception_module(240,176,60)\n",
        "        self.incept8 = inception_module(236,176,60)\n",
        "        \n",
        "        self.pool = nn.AvgPool2d(5)\n",
        "        self.linear1 = nn.Linear(236,10)\n",
        "        self.linear2 = nn.Linear(10,3)\n",
        "\n",
        "    def forward(self,x):\n",
        "        x = self.conv1.forward(x)\n",
        "        #act1 = x\n",
        "        \n",
        "        x = self.incept1.forward(x)\n",
        "        #act2 = x\n",
        "        \n",
        "        x = self.incept2.forward(x)\n",
        "        #act3 = x\n",
        "        \n",
        "        x,act4 = self.downsample1.forward(x)\n",
        "        \n",
        "        x = self.incept3.forward(x)\n",
        "        #act5 = x\n",
        "        \n",
        "        x = self.incept4.forward(x)\n",
        "        #act6 = x\n",
        "        \n",
        "        x = self.incept5.forward(x)\n",
        "        #act7 = x\n",
        "        \n",
        "        x = self.incept6.forward(x)\n",
        "        #act8 = x\n",
        "        \n",
        "        x,act9 = self.downsample2.forward(x)\n",
        "        \n",
        "        x = self.incept7.forward(x)\n",
        "        #act10 = x\n",
        "        x = self.incept8.forward(x)\n",
        "        #act11 = x\n",
        "        #print(x.shape)\n",
        "        x = self.pool(x)\n",
        "        #print(x.shape)\n",
        "        x = x.view(-1,1*1*236)\n",
        "        x = self.linear1(x)\n",
        "        x = self.linear2(x) \n",
        "        # print(x.shape)\n",
        "        return x"
      ],
      "execution_count": 18,
      "outputs": []
    },
    {
      "cell_type": "code",
      "metadata": {
        "id": "yKDBpz7zgz8E",
        "colab_type": "code",
        "colab": {}
      },
      "source": [
        "block_net = inception_net()\n",
        "block_net = block_net.to(\"cuda\").double()"
      ],
      "execution_count": 19,
      "outputs": []
    },
    {
      "cell_type": "code",
      "metadata": {
        "id": "jn3oPpfH3-P3",
        "colab_type": "code",
        "colab": {
          "base_uri": "https://localhost:8080/",
          "height": 1000
        },
        "outputId": "4f1b897f-4f15-4f31-eb3f-f846bcfba822"
      },
      "source": [
        "block_net"
      ],
      "execution_count": 20,
      "outputs": [
        {
          "output_type": "execute_result",
          "data": {
            "text/plain": [
              "inception_net(\n",
              "  (conv1): Conv_module(\n",
              "    (conv): Conv2d(27, 96, kernel_size=(3, 3), stride=(1, 1))\n",
              "    (bn): BatchNorm2d(96, eps=1e-05, momentum=0.1, affine=True, track_running_stats=True)\n",
              "    (act): ReLU()\n",
              "  )\n",
              "  (incept1): inception_module(\n",
              "    (conv1): Conv_module(\n",
              "      (conv): Conv2d(96, 32, kernel_size=(1, 1), stride=(1, 1))\n",
              "      (bn): BatchNorm2d(32, eps=1e-05, momentum=0.1, affine=True, track_running_stats=True)\n",
              "      (act): ReLU()\n",
              "    )\n",
              "    (conv3): Conv_module(\n",
              "      (conv): Conv2d(96, 32, kernel_size=(3, 3), stride=(1, 1), padding=(1, 1))\n",
              "      (bn): BatchNorm2d(32, eps=1e-05, momentum=0.1, affine=True, track_running_stats=True)\n",
              "      (act): ReLU()\n",
              "    )\n",
              "  )\n",
              "  (incept2): inception_module(\n",
              "    (conv1): Conv_module(\n",
              "      (conv): Conv2d(64, 32, kernel_size=(1, 1), stride=(1, 1))\n",
              "      (bn): BatchNorm2d(32, eps=1e-05, momentum=0.1, affine=True, track_running_stats=True)\n",
              "      (act): ReLU()\n",
              "    )\n",
              "    (conv3): Conv_module(\n",
              "      (conv): Conv2d(64, 48, kernel_size=(3, 3), stride=(1, 1), padding=(1, 1))\n",
              "      (bn): BatchNorm2d(48, eps=1e-05, momentum=0.1, affine=True, track_running_stats=True)\n",
              "      (act): ReLU()\n",
              "    )\n",
              "  )\n",
              "  (downsample1): downsample_module(\n",
              "    (conv): Conv_module(\n",
              "      (conv): Conv2d(80, 80, kernel_size=(3, 3), stride=(2, 2))\n",
              "      (bn): BatchNorm2d(80, eps=1e-05, momentum=0.1, affine=True, track_running_stats=True)\n",
              "      (act): ReLU()\n",
              "    )\n",
              "    (pool): MaxPool2d(kernel_size=3, stride=2, padding=0, dilation=1, ceil_mode=False)\n",
              "  )\n",
              "  (incept3): inception_module(\n",
              "    (conv1): Conv_module(\n",
              "      (conv): Conv2d(160, 112, kernel_size=(1, 1), stride=(1, 1))\n",
              "      (bn): BatchNorm2d(112, eps=1e-05, momentum=0.1, affine=True, track_running_stats=True)\n",
              "      (act): ReLU()\n",
              "    )\n",
              "    (conv3): Conv_module(\n",
              "      (conv): Conv2d(160, 48, kernel_size=(3, 3), stride=(1, 1), padding=(1, 1))\n",
              "      (bn): BatchNorm2d(48, eps=1e-05, momentum=0.1, affine=True, track_running_stats=True)\n",
              "      (act): ReLU()\n",
              "    )\n",
              "  )\n",
              "  (incept4): inception_module(\n",
              "    (conv1): Conv_module(\n",
              "      (conv): Conv2d(160, 96, kernel_size=(1, 1), stride=(1, 1))\n",
              "      (bn): BatchNorm2d(96, eps=1e-05, momentum=0.1, affine=True, track_running_stats=True)\n",
              "      (act): ReLU()\n",
              "    )\n",
              "    (conv3): Conv_module(\n",
              "      (conv): Conv2d(160, 64, kernel_size=(3, 3), stride=(1, 1), padding=(1, 1))\n",
              "      (bn): BatchNorm2d(64, eps=1e-05, momentum=0.1, affine=True, track_running_stats=True)\n",
              "      (act): ReLU()\n",
              "    )\n",
              "  )\n",
              "  (incept5): inception_module(\n",
              "    (conv1): Conv_module(\n",
              "      (conv): Conv2d(160, 80, kernel_size=(1, 1), stride=(1, 1))\n",
              "      (bn): BatchNorm2d(80, eps=1e-05, momentum=0.1, affine=True, track_running_stats=True)\n",
              "      (act): ReLU()\n",
              "    )\n",
              "    (conv3): Conv_module(\n",
              "      (conv): Conv2d(160, 80, kernel_size=(3, 3), stride=(1, 1), padding=(1, 1))\n",
              "      (bn): BatchNorm2d(80, eps=1e-05, momentum=0.1, affine=True, track_running_stats=True)\n",
              "      (act): ReLU()\n",
              "    )\n",
              "  )\n",
              "  (incept6): inception_module(\n",
              "    (conv1): Conv_module(\n",
              "      (conv): Conv2d(160, 48, kernel_size=(1, 1), stride=(1, 1))\n",
              "      (bn): BatchNorm2d(48, eps=1e-05, momentum=0.1, affine=True, track_running_stats=True)\n",
              "      (act): ReLU()\n",
              "    )\n",
              "    (conv3): Conv_module(\n",
              "      (conv): Conv2d(160, 96, kernel_size=(3, 3), stride=(1, 1), padding=(1, 1))\n",
              "      (bn): BatchNorm2d(96, eps=1e-05, momentum=0.1, affine=True, track_running_stats=True)\n",
              "      (act): ReLU()\n",
              "    )\n",
              "  )\n",
              "  (downsample2): downsample_module(\n",
              "    (conv): Conv_module(\n",
              "      (conv): Conv2d(144, 96, kernel_size=(3, 3), stride=(2, 2))\n",
              "      (bn): BatchNorm2d(96, eps=1e-05, momentum=0.1, affine=True, track_running_stats=True)\n",
              "      (act): ReLU()\n",
              "    )\n",
              "    (pool): MaxPool2d(kernel_size=3, stride=2, padding=0, dilation=1, ceil_mode=False)\n",
              "  )\n",
              "  (incept7): inception_module(\n",
              "    (conv1): Conv_module(\n",
              "      (conv): Conv2d(240, 176, kernel_size=(1, 1), stride=(1, 1))\n",
              "      (bn): BatchNorm2d(176, eps=1e-05, momentum=0.1, affine=True, track_running_stats=True)\n",
              "      (act): ReLU()\n",
              "    )\n",
              "    (conv3): Conv_module(\n",
              "      (conv): Conv2d(240, 60, kernel_size=(3, 3), stride=(1, 1), padding=(1, 1))\n",
              "      (bn): BatchNorm2d(60, eps=1e-05, momentum=0.1, affine=True, track_running_stats=True)\n",
              "      (act): ReLU()\n",
              "    )\n",
              "  )\n",
              "  (incept8): inception_module(\n",
              "    (conv1): Conv_module(\n",
              "      (conv): Conv2d(236, 176, kernel_size=(1, 1), stride=(1, 1))\n",
              "      (bn): BatchNorm2d(176, eps=1e-05, momentum=0.1, affine=True, track_running_stats=True)\n",
              "      (act): ReLU()\n",
              "    )\n",
              "    (conv3): Conv_module(\n",
              "      (conv): Conv2d(236, 60, kernel_size=(3, 3), stride=(1, 1), padding=(1, 1))\n",
              "      (bn): BatchNorm2d(60, eps=1e-05, momentum=0.1, affine=True, track_running_stats=True)\n",
              "      (act): ReLU()\n",
              "    )\n",
              "  )\n",
              "  (pool): AvgPool2d(kernel_size=5, stride=5, padding=0)\n",
              "  (linear1): Linear(in_features=236, out_features=10, bias=True)\n",
              "  (linear2): Linear(in_features=10, out_features=3, bias=True)\n",
              ")"
            ]
          },
          "metadata": {
            "tags": []
          },
          "execution_count": 20
        }
      ]
    },
    {
      "cell_type": "code",
      "metadata": {
        "colab_type": "code",
        "id": "u1yVWgR4vFhe",
        "colab": {}
      },
      "source": [
        "test_images =[]        #list of mosaic images, each mosaic image is saved as laist of 9 images\n",
        "fore_idx_test =[]                   #list of indexes at which foreground image is present in a mosaic image                \n",
        "test_label=[]                # label of mosaic image = foreground class present in that mosaic\n",
        "for i in range(10000):\n",
        "  bg_idx = np.random.randint(0,35000,8)\n",
        "  fg_idx = np.random.randint(0,15000)\n",
        "  fg = np.random.randint(0,9)\n",
        "  fore_idx_test.append(fg)\n",
        "  image_list,label = create_mosaic_img(bg_idx,fg_idx,fg)\n",
        "  test_images.append(image_list)\n",
        "  test_label.append(label)"
      ],
      "execution_count": 21,
      "outputs": []
    },
    {
      "cell_type": "code",
      "metadata": {
        "colab_type": "code",
        "id": "xRq1cUvgvLeH",
        "colab": {}
      },
      "source": [
        "test_data = MosaicDataset(test_images,test_label,fore_idx_test)\n",
        "test_loader = DataLoader( test_data,batch_size= batch ,shuffle=False)"
      ],
      "execution_count": 22,
      "outputs": []
    },
    {
      "cell_type": "code",
      "metadata": {
        "id": "13Zq1FF44fD3",
        "colab_type": "code",
        "colab": {}
      },
      "source": [
        "import torch.optim as optim\n",
        "criterion = nn.CrossEntropyLoss()\n",
        "optimizer = optim.SGD(block_net.parameters(), lr=0.001, momentum=0.9)"
      ],
      "execution_count": 23,
      "outputs": []
    },
    {
      "cell_type": "code",
      "metadata": {
        "colab_type": "code",
        "id": "tFfAJZkcZEsY",
        "colab": {}
      },
      "source": [
        "# Training\n",
        "def train(epoch):\n",
        "    print('\\nEpoch: %d' % epoch)\n",
        "    block_net.train()\n",
        "    train_loss = 0\n",
        "    correct = 0\n",
        "    total = 0\n",
        "    for batch_idx, data in enumerate(train_loader):\n",
        "        inputs , labels , fore_idx = data\n",
        "        inputs = inputs.double()\n",
        "        # zero the parameter gradients\n",
        "        # print(inputs.shape)\n",
        "        inputs = torch.reshape(inputs,(batch,9*3,32,32))\n",
        "        # print(inputs.shape)\n",
        "        inputs , labels , fore_idx = inputs.to(\"cuda\") , labels.to(\"cuda\"), fore_idx.to(\"cuda\")\n",
        "        optimizer.zero_grad()\n",
        "        outputs = block_net(inputs)\n",
        "        loss = criterion(outputs, labels)\n",
        "        loss.backward()\n",
        "        optimizer.step()\n",
        "\n",
        "        train_loss += loss.item()\n",
        "        _, predicted = outputs.max(1)\n",
        "        total += labels.size(0)\n",
        "        correct += predicted.eq(labels).sum().item()\n",
        "\n",
        "    print(batch_idx, len(trainloader), 'Loss: %.3f | Acc: %.3f%% (%d/%d)'% (train_loss/(batch_idx+1), 100.*correct/total, correct, total))\n",
        "    return train_loss/(batch_idx+1)\n",
        "\n"
      ],
      "execution_count": 24,
      "outputs": []
    },
    {
      "cell_type": "code",
      "metadata": {
        "id": "nvXSsjglgmz2",
        "colab_type": "code",
        "colab": {}
      },
      "source": [
        "# Commented out IPython magic to ensure Python compatibility.\n",
        "def test(epoch):\n",
        "    global best_acc\n",
        "    block_net.eval()\n",
        "    test_loss = 0\n",
        "    correct = 0\n",
        "    total = 0\n",
        "    with torch.no_grad():\n",
        "        for batch_idx, data in enumerate(test_loader):\n",
        "            inputs , labels , fore_idx = data\n",
        "            inputs = inputs.double()\n",
        "            # zero the parameter gradients\n",
        "            # print(inputs.shape)\n",
        "            inputs = torch.reshape(inputs,(batch,9*3,32,32))\n",
        "            # print(inputs.shape)\n",
        "            inputs , labels , fore_idx = inputs.to(\"cuda\") , labels.to(\"cuda\"), fore_idx.to(\"cuda\")\n",
        "            outputs = block_net(inputs)\n",
        "            loss = criterion(outputs, labels)\n",
        "\n",
        "            test_loss += loss.item()\n",
        "            _, predicted = outputs.max(1)\n",
        "            total += labels.size(0)\n",
        "            correct += predicted.eq(labels).sum().item()\n",
        "\n",
        "    print(batch_idx, len(testloader), 'Loss: %.3f | Acc: %.3f%% (%d/%d)' % (test_loss/(batch_idx+1), 100.*correct/total, correct, total))\n",
        "\n",
        "    return test_loss/(batch_idx+1)\n",
        "\n"
      ],
      "execution_count": 25,
      "outputs": []
    },
    {
      "cell_type": "code",
      "metadata": {
        "id": "dSwN8vFugolr",
        "colab_type": "code",
        "colab": {
          "base_uri": "https://localhost:8080/",
          "height": 1000
        },
        "outputId": "01ca7f33-74a6-4c3f-8e2e-52e54fc33219"
      },
      "source": [
        "best_acc = 0 \n",
        "start_epoch =0\n",
        "tr_loss = []\n",
        "ts_loss = []\n",
        "for epoch in range(start_epoch, start_epoch+150):\n",
        "    tr_loss.append(train(epoch))\n",
        "    ts_loss.append(test(epoch))\n",
        "    if(tr_loss[-1]<=0.001):\n",
        "      break\n"
      ],
      "execution_count": 26,
      "outputs": [
        {
          "output_type": "stream",
          "text": [
            "\n",
            "Epoch: 0\n",
            "119 5000 Loss: 1.100 | Acc: 36.140% (10842/30000)\n",
            "39 1000 Loss: 1.090 | Acc: 37.910% (3791/10000)\n",
            "\n",
            "Epoch: 1\n",
            "119 5000 Loss: 1.081 | Acc: 40.563% (12169/30000)\n",
            "39 1000 Loss: 1.083 | Acc: 38.840% (3884/10000)\n",
            "\n",
            "Epoch: 2\n",
            "119 5000 Loss: 1.069 | Acc: 42.613% (12784/30000)\n",
            "39 1000 Loss: 1.078 | Acc: 40.410% (4041/10000)\n",
            "\n",
            "Epoch: 3\n",
            "119 5000 Loss: 1.058 | Acc: 44.407% (13322/30000)\n",
            "39 1000 Loss: 1.073 | Acc: 41.290% (4129/10000)\n",
            "\n",
            "Epoch: 4\n",
            "119 5000 Loss: 1.046 | Acc: 46.047% (13814/30000)\n",
            "39 1000 Loss: 1.074 | Acc: 41.300% (4130/10000)\n",
            "\n",
            "Epoch: 5\n",
            "119 5000 Loss: 1.032 | Acc: 47.287% (14186/30000)\n",
            "39 1000 Loss: 1.067 | Acc: 42.630% (4263/10000)\n",
            "\n",
            "Epoch: 6\n",
            "119 5000 Loss: 1.016 | Acc: 48.987% (14696/30000)\n",
            "39 1000 Loss: 1.071 | Acc: 42.480% (4248/10000)\n",
            "\n",
            "Epoch: 7\n",
            "119 5000 Loss: 0.995 | Acc: 51.223% (15367/30000)\n",
            "39 1000 Loss: 1.080 | Acc: 41.590% (4159/10000)\n",
            "\n",
            "Epoch: 8\n",
            "119 5000 Loss: 0.967 | Acc: 53.697% (16109/30000)\n",
            "39 1000 Loss: 1.092 | Acc: 42.170% (4217/10000)\n",
            "\n",
            "Epoch: 9\n",
            "119 5000 Loss: 0.929 | Acc: 56.333% (16900/30000)\n",
            "39 1000 Loss: 1.133 | Acc: 40.570% (4057/10000)\n",
            "\n",
            "Epoch: 10\n",
            "119 5000 Loss: 0.884 | Acc: 59.247% (17774/30000)\n",
            "39 1000 Loss: 1.214 | Acc: 39.880% (3988/10000)\n",
            "\n",
            "Epoch: 11\n",
            "119 5000 Loss: 0.831 | Acc: 62.487% (18746/30000)\n",
            "39 1000 Loss: 1.219 | Acc: 39.910% (3991/10000)\n",
            "\n",
            "Epoch: 12\n",
            "119 5000 Loss: 0.789 | Acc: 64.310% (19293/30000)\n",
            "39 1000 Loss: 1.280 | Acc: 40.770% (4077/10000)\n",
            "\n",
            "Epoch: 13\n",
            "119 5000 Loss: 0.762 | Acc: 65.533% (19660/30000)\n",
            "39 1000 Loss: 1.433 | Acc: 39.100% (3910/10000)\n",
            "\n",
            "Epoch: 14\n",
            "119 5000 Loss: 0.723 | Acc: 67.773% (20332/30000)\n",
            "39 1000 Loss: 1.553 | Acc: 39.000% (3900/10000)\n",
            "\n",
            "Epoch: 15\n",
            "119 5000 Loss: 0.670 | Acc: 70.407% (21122/30000)\n",
            "39 1000 Loss: 1.479 | Acc: 39.770% (3977/10000)\n",
            "\n",
            "Epoch: 16\n",
            "119 5000 Loss: 0.605 | Acc: 73.680% (22104/30000)\n",
            "39 1000 Loss: 1.728 | Acc: 38.290% (3829/10000)\n",
            "\n",
            "Epoch: 17\n",
            "119 5000 Loss: 0.589 | Acc: 74.713% (22414/30000)\n",
            "39 1000 Loss: 1.603 | Acc: 39.000% (3900/10000)\n",
            "\n",
            "Epoch: 18\n",
            "119 5000 Loss: 0.550 | Acc: 76.450% (22935/30000)\n",
            "39 1000 Loss: 1.759 | Acc: 37.650% (3765/10000)\n",
            "\n",
            "Epoch: 19\n",
            "119 5000 Loss: 0.483 | Acc: 79.777% (23933/30000)\n",
            "39 1000 Loss: 1.729 | Acc: 39.850% (3985/10000)\n",
            "\n",
            "Epoch: 20\n",
            "119 5000 Loss: 0.440 | Acc: 82.137% (24641/30000)\n",
            "39 1000 Loss: 1.880 | Acc: 38.840% (3884/10000)\n",
            "\n",
            "Epoch: 21\n",
            "119 5000 Loss: 0.409 | Acc: 83.647% (25094/30000)\n",
            "39 1000 Loss: 2.178 | Acc: 39.010% (3901/10000)\n",
            "\n",
            "Epoch: 22\n",
            "119 5000 Loss: 0.348 | Acc: 86.433% (25930/30000)\n",
            "39 1000 Loss: 1.924 | Acc: 38.960% (3896/10000)\n",
            "\n",
            "Epoch: 23\n",
            "119 5000 Loss: 0.286 | Acc: 88.890% (26667/30000)\n",
            "39 1000 Loss: 2.512 | Acc: 37.080% (3708/10000)\n",
            "\n",
            "Epoch: 24\n",
            "119 5000 Loss: 0.284 | Acc: 89.007% (26702/30000)\n",
            "39 1000 Loss: 2.241 | Acc: 37.190% (3719/10000)\n",
            "\n",
            "Epoch: 25\n",
            "119 5000 Loss: 0.263 | Acc: 90.007% (27002/30000)\n",
            "39 1000 Loss: 2.186 | Acc: 38.710% (3871/10000)\n",
            "\n",
            "Epoch: 26\n",
            "119 5000 Loss: 0.220 | Acc: 91.700% (27510/30000)\n",
            "39 1000 Loss: 2.342 | Acc: 36.870% (3687/10000)\n",
            "\n",
            "Epoch: 27\n",
            "119 5000 Loss: 0.196 | Acc: 92.717% (27815/30000)\n",
            "39 1000 Loss: 2.272 | Acc: 39.070% (3907/10000)\n",
            "\n",
            "Epoch: 28\n",
            "119 5000 Loss: 0.147 | Acc: 94.667% (28400/30000)\n",
            "39 1000 Loss: 2.598 | Acc: 38.400% (3840/10000)\n",
            "\n",
            "Epoch: 29\n",
            "119 5000 Loss: 0.115 | Acc: 96.047% (28814/30000)\n",
            "39 1000 Loss: 2.507 | Acc: 39.070% (3907/10000)\n",
            "\n",
            "Epoch: 30\n",
            "119 5000 Loss: 0.089 | Acc: 97.117% (29135/30000)\n",
            "39 1000 Loss: 2.879 | Acc: 38.430% (3843/10000)\n",
            "\n",
            "Epoch: 31\n",
            "119 5000 Loss: 0.076 | Acc: 97.430% (29229/30000)\n",
            "39 1000 Loss: 2.725 | Acc: 39.120% (3912/10000)\n",
            "\n",
            "Epoch: 32\n",
            "119 5000 Loss: 0.077 | Acc: 97.320% (29196/30000)\n",
            "39 1000 Loss: 2.788 | Acc: 39.240% (3924/10000)\n",
            "\n",
            "Epoch: 33\n",
            "119 5000 Loss: 0.095 | Acc: 96.637% (28991/30000)\n",
            "39 1000 Loss: 3.206 | Acc: 38.890% (3889/10000)\n",
            "\n",
            "Epoch: 34\n",
            "119 5000 Loss: 0.183 | Acc: 93.063% (27919/30000)\n",
            "39 1000 Loss: 2.914 | Acc: 37.210% (3721/10000)\n",
            "\n",
            "Epoch: 35\n",
            "119 5000 Loss: 0.249 | Acc: 90.767% (27230/30000)\n",
            "39 1000 Loss: 2.824 | Acc: 38.420% (3842/10000)\n",
            "\n",
            "Epoch: 36\n",
            "119 5000 Loss: 0.191 | Acc: 92.720% (27816/30000)\n",
            "39 1000 Loss: 2.497 | Acc: 37.520% (3752/10000)\n",
            "\n",
            "Epoch: 37\n",
            "119 5000 Loss: 0.099 | Acc: 96.510% (28953/30000)\n",
            "39 1000 Loss: 3.206 | Acc: 38.960% (3896/10000)\n",
            "\n",
            "Epoch: 38\n",
            "119 5000 Loss: 0.046 | Acc: 98.630% (29589/30000)\n",
            "39 1000 Loss: 2.690 | Acc: 39.850% (3985/10000)\n",
            "\n",
            "Epoch: 39\n",
            "119 5000 Loss: 0.017 | Acc: 99.663% (29899/30000)\n",
            "39 1000 Loss: 2.695 | Acc: 39.840% (3984/10000)\n",
            "\n",
            "Epoch: 40\n",
            "119 5000 Loss: 0.005 | Acc: 99.983% (29995/30000)\n",
            "39 1000 Loss: 2.690 | Acc: 39.730% (3973/10000)\n",
            "\n",
            "Epoch: 41\n",
            "119 5000 Loss: 0.002 | Acc: 100.000% (30000/30000)\n",
            "39 1000 Loss: 2.714 | Acc: 39.880% (3988/10000)\n",
            "\n",
            "Epoch: 42\n",
            "119 5000 Loss: 0.002 | Acc: 100.000% (30000/30000)\n",
            "39 1000 Loss: 2.728 | Acc: 40.070% (4007/10000)\n",
            "\n",
            "Epoch: 43\n",
            "119 5000 Loss: 0.001 | Acc: 100.000% (30000/30000)\n",
            "39 1000 Loss: 2.736 | Acc: 39.930% (3993/10000)\n",
            "\n",
            "Epoch: 44\n",
            "119 5000 Loss: 0.001 | Acc: 100.000% (30000/30000)\n",
            "39 1000 Loss: 2.766 | Acc: 39.840% (3984/10000)\n",
            "\n",
            "Epoch: 45\n",
            "119 5000 Loss: 0.001 | Acc: 100.000% (30000/30000)\n",
            "39 1000 Loss: 2.780 | Acc: 39.930% (3993/10000)\n"
          ],
          "name": "stdout"
        }
      ]
    },
    {
      "cell_type": "code",
      "metadata": {
        "id": "7gZd-9bXgpGd",
        "colab_type": "code",
        "colab": {
          "base_uri": "https://localhost:8080/",
          "height": 297
        },
        "outputId": "e597f5bc-dca5-48ed-deb5-e01a7fb9374a"
      },
      "source": [
        "plt.plot(tr_loss,label='training_loss')\n",
        "plt.plot(ts_loss,label = 'test_loss')\n",
        "plt.xlabel(\"epochs\")\n",
        "plt.ylabel(\"cross_entropy loss\")\n",
        "plt.legend()"
      ],
      "execution_count": 27,
      "outputs": [
        {
          "output_type": "execute_result",
          "data": {
            "text/plain": [
              "<matplotlib.legend.Legend at 0x7f9ca10b7630>"
            ]
          },
          "metadata": {
            "tags": []
          },
          "execution_count": 27
        },
        {
          "output_type": "display_data",
          "data": {
            "image/png": "[encoded data removed]",
            "text/plain": [
              "<Figure size 432x288 with 1 Axes>"
            ]
          },
          "metadata": {
            "tags": [],
            "needs_background": "light"
          }
        }
      ]
    },
    {
      "cell_type": "code",
      "metadata": {
        "id": "tMpD1Nfe4ZSH",
        "colab_type": "code",
        "colab": {}
      },
      "source": [
        "torch.save(block_net.state_dict(),\"/content/drive/My Drive/Research/block_net/block_net_mini_inception_epoch\"+str(epoch)+\".pt\")"
      ],
      "execution_count": 28,
      "outputs": []
    },
    {
      "cell_type": "code",
      "metadata": {
        "colab_type": "code",
        "id": "hxwOAPq35dKK",
        "colab": {
          "base_uri": "https://localhost:8080/",
          "height": 53
        },
        "outputId": "4b95d594-6918-4d75-80bf-f489c8476490"
      },
      "source": [
        "correct = 0\n",
        "total = 0\n",
        "with torch.no_grad():\n",
        "    for data in train_loader:\n",
        "        inputs , labels , fore_idx = data\n",
        "        inputs = torch.reshape(inputs,(batch,9*3,32,32))\n",
        "        inputs , labels , fore_idx = inputs.to(\"cuda\") , labels.to(\"cuda\"), fore_idx.to(\"cuda\")\n",
        "        outputs = block_net(inputs)\n",
        "        _, predicted = torch.max(outputs.data, 1)\n",
        "        total += labels.size(0)\n",
        "        correct += (predicted == labels).sum().item()\n",
        "\n",
        "print('Accuracy of the network on the %d train images: %d %%' % (total,  100 * correct / total))\n",
        "print(total,correct)"
      ],
      "execution_count": 29,
      "outputs": [
        {
          "output_type": "stream",
          "text": [
            "Accuracy of the network on the 30000 train images: 100 %\n",
            "30000 30000\n"
          ],
          "name": "stdout"
        }
      ]
    },
    {
      "cell_type": "code",
      "metadata": {
        "id": "kH2mAQty8ure",
        "colab_type": "code",
        "colab": {
          "base_uri": "https://localhost:8080/",
          "height": 53
        },
        "outputId": "2e7539ed-91a7-4a62-cba4-6a5f1fd55106"
      },
      "source": [
        "correct = 0\n",
        "total = 0\n",
        "out = []\n",
        "pred = []\n",
        "with torch.no_grad():\n",
        "    for data in test_loader:\n",
        "        inputs , labels , fore_idx = data\n",
        "        inputs = torch.reshape(inputs,(batch,9*3,32,32))\n",
        "        inputs , labels , fore_idx = inputs.to(\"cuda\") , labels.to(\"cuda\"), fore_idx.to(\"cuda\")\n",
        "        outputs = block_net(inputs)\n",
        "        out.append(labels.cpu().numpy())\n",
        "        _, predicted = torch.max(outputs.data, 1)\n",
        "        pred.append(predicted.cpu().numpy())\n",
        "        total += labels.size(0)\n",
        "        correct += (predicted == labels).sum().item()\n",
        "\n",
        "print('Accuracy of the network on the 10000 test images: %d %%' % ( 100 * correct / total))\n",
        "print(total,correct)"
      ],
      "execution_count": 30,
      "outputs": [
        {
          "output_type": "stream",
          "text": [
            "Accuracy of the network on the 10000 test images: 39 %\n",
            "10000 3993\n"
          ],
          "name": "stdout"
        }
      ]
    },
    {
      "cell_type": "code",
      "metadata": {
        "id": "pPJM-foIClcG",
        "colab_type": "code",
        "colab": {}
      },
      "source": [
        ""
      ],
      "execution_count": 30,
      "outputs": []
    }
  ]
}