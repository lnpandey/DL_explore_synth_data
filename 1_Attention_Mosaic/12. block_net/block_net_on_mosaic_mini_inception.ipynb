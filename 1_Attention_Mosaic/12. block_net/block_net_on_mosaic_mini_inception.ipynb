{
  "nbformat": 4,
  "nbformat_minor": 0,
  "metadata": {
    "accelerator": "GPU",
    "colab": {
      "name": "block_net_on_mosaic.ipynb",
      "provenance": [],
      "collapsed_sections": [],
      "machine_shape": "hm"
    },
    "kernelspec": {
      "display_name": "Python 3",
      "language": "python",
      "name": "python3"
    },
    "language_info": {
      "codemirror_mode": {
        "name": "ipython",
        "version": 3
      },
      "file_extension": ".py",
      "mimetype": "text/x-python",
      "name": "python",
      "nbconvert_exporter": "python",
      "pygments_lexer": "ipython3",
      "version": "3.7.4"
    },
    "widgets": {
      "application/vnd.jupyter.widget-state+json": {
        "3c520b4649f04111a678822a7102b5e8": {
          "model_module": "@jupyter-widgets/controls",
          "model_name": "HBoxModel",
          "state": {
            "_view_name": "HBoxView",
            "_dom_classes": [],
            "_model_name": "HBoxModel",
            "_view_module": "@jupyter-widgets/controls",
            "_model_module_version": "1.5.0",
            "_view_count": null,
            "_view_module_version": "1.5.0",
            "box_style": "",
            "layout": "IPY_MODEL_88327489108645c084901dbd358066e1",
            "_model_module": "@jupyter-widgets/controls",
            "children": [
              "IPY_MODEL_f3cdb329b22b46b88add999f5cef381b",
              "IPY_MODEL_607d144ae72c4c0c855b595b0bfad6ad"
            ]
          }
        },
        "88327489108645c084901dbd358066e1": {
          "model_module": "@jupyter-widgets/base",
          "model_name": "LayoutModel",
          "state": {
            "_view_name": "LayoutView",
            "grid_template_rows": null,
            "right": null,
            "justify_content": null,
            "_view_module": "@jupyter-widgets/base",
            "overflow": null,
            "_model_module_version": "1.2.0",
            "_view_count": null,
            "flex_flow": null,
            "width": null,
            "min_width": null,
            "border": null,
            "align_items": null,
            "bottom": null,
            "_model_module": "@jupyter-widgets/base",
            "top": null,
            "grid_column": null,
            "overflow_y": null,
            "overflow_x": null,
            "grid_auto_flow": null,
            "grid_area": null,
            "grid_template_columns": null,
            "flex": null,
            "_model_name": "LayoutModel",
            "justify_items": null,
            "grid_row": null,
            "max_height": null,
            "align_content": null,
            "visibility": null,
            "align_self": null,
            "height": null,
            "min_height": null,
            "padding": null,
            "grid_auto_rows": null,
            "grid_gap": null,
            "max_width": null,
            "order": null,
            "_view_module_version": "1.2.0",
            "grid_template_areas": null,
            "object_position": null,
            "object_fit": null,
            "grid_auto_columns": null,
            "margin": null,
            "display": null,
            "left": null
          }
        },
        "f3cdb329b22b46b88add999f5cef381b": {
          "model_module": "@jupyter-widgets/controls",
          "model_name": "FloatProgressModel",
          "state": {
            "_view_name": "ProgressView",
            "style": "IPY_MODEL_5b3afd9091bf43b697e2aff4431a4eeb",
            "_dom_classes": [],
            "description": "",
            "_model_name": "FloatProgressModel",
            "bar_style": "info",
            "max": 1,
            "_view_module": "@jupyter-widgets/controls",
            "_model_module_version": "1.5.0",
            "value": 1,
            "_view_count": null,
            "_view_module_version": "1.5.0",
            "orientation": "horizontal",
            "min": 0,
            "description_tooltip": null,
            "_model_module": "@jupyter-widgets/controls",
            "layout": "IPY_MODEL_58db7df018ac4c88962cd2785f323c6a"
          }
        },
        "607d144ae72c4c0c855b595b0bfad6ad": {
          "model_module": "@jupyter-widgets/controls",
          "model_name": "HTMLModel",
          "state": {
            "_view_name": "HTMLView",
            "style": "IPY_MODEL_ffcd64ee2a2e4357b158399ba6cd7ded",
            "_dom_classes": [],
            "description": "",
            "_model_name": "HTMLModel",
            "placeholder": "​",
            "_view_module": "@jupyter-widgets/controls",
            "_model_module_version": "1.5.0",
            "value": " 170500096/? [00:30&lt;00:00, 16918540.71it/s]",
            "_view_count": null,
            "_view_module_version": "1.5.0",
            "description_tooltip": null,
            "_model_module": "@jupyter-widgets/controls",
            "layout": "IPY_MODEL_ce83974ab8124e76b4e7b60408ca463d"
          }
        },
        "5b3afd9091bf43b697e2aff4431a4eeb": {
          "model_module": "@jupyter-widgets/controls",
          "model_name": "ProgressStyleModel",
          "state": {
            "_view_name": "StyleView",
            "_model_name": "ProgressStyleModel",
            "description_width": "initial",
            "_view_module": "@jupyter-widgets/base",
            "_model_module_version": "1.5.0",
            "_view_count": null,
            "_view_module_version": "1.2.0",
            "bar_color": null,
            "_model_module": "@jupyter-widgets/controls"
          }
        },
        "58db7df018ac4c88962cd2785f323c6a": {
          "model_module": "@jupyter-widgets/base",
          "model_name": "LayoutModel",
          "state": {
            "_view_name": "LayoutView",
            "grid_template_rows": null,
            "right": null,
            "justify_content": null,
            "_view_module": "@jupyter-widgets/base",
            "overflow": null,
            "_model_module_version": "1.2.0",
            "_view_count": null,
            "flex_flow": null,
            "width": null,
            "min_width": null,
            "border": null,
            "align_items": null,
            "bottom": null,
            "_model_module": "@jupyter-widgets/base",
            "top": null,
            "grid_column": null,
            "overflow_y": null,
            "overflow_x": null,
            "grid_auto_flow": null,
            "grid_area": null,
            "grid_template_columns": null,
            "flex": null,
            "_model_name": "LayoutModel",
            "justify_items": null,
            "grid_row": null,
            "max_height": null,
            "align_content": null,
            "visibility": null,
            "align_self": null,
            "height": null,
            "min_height": null,
            "padding": null,
            "grid_auto_rows": null,
            "grid_gap": null,
            "max_width": null,
            "order": null,
            "_view_module_version": "1.2.0",
            "grid_template_areas": null,
            "object_position": null,
            "object_fit": null,
            "grid_auto_columns": null,
            "margin": null,
            "display": null,
            "left": null
          }
        },
        "ffcd64ee2a2e4357b158399ba6cd7ded": {
          "model_module": "@jupyter-widgets/controls",
          "model_name": "DescriptionStyleModel",
          "state": {
            "_view_name": "StyleView",
            "_model_name": "DescriptionStyleModel",
            "description_width": "",
            "_view_module": "@jupyter-widgets/base",
            "_model_module_version": "1.5.0",
            "_view_count": null,
            "_view_module_version": "1.2.0",
            "_model_module": "@jupyter-widgets/controls"
          }
        },
        "ce83974ab8124e76b4e7b60408ca463d": {
          "model_module": "@jupyter-widgets/base",
          "model_name": "LayoutModel",
          "state": {
            "_view_name": "LayoutView",
            "grid_template_rows": null,
            "right": null,
            "justify_content": null,
            "_view_module": "@jupyter-widgets/base",
            "overflow": null,
            "_model_module_version": "1.2.0",
            "_view_count": null,
            "flex_flow": null,
            "width": null,
            "min_width": null,
            "border": null,
            "align_items": null,
            "bottom": null,
            "_model_module": "@jupyter-widgets/base",
            "top": null,
            "grid_column": null,
            "overflow_y": null,
            "overflow_x": null,
            "grid_auto_flow": null,
            "grid_area": null,
            "grid_template_columns": null,
            "flex": null,
            "_model_name": "LayoutModel",
            "justify_items": null,
            "grid_row": null,
            "max_height": null,
            "align_content": null,
            "visibility": null,
            "align_self": null,
            "height": null,
            "min_height": null,
            "padding": null,
            "grid_auto_rows": null,
            "grid_gap": null,
            "max_width": null,
            "order": null,
            "_view_module_version": "1.2.0",
            "grid_template_areas": null,
            "object_position": null,
            "object_fit": null,
            "grid_auto_columns": null,
            "margin": null,
            "display": null,
            "left": null
          }
        }
      }
    }
  },
  "cells": [
    {
      "cell_type": "code",
      "metadata": {
        "colab_type": "code",
        "id": "JSjG64ra4aFu",
        "colab": {
          "base_uri": "https://localhost:8080/",
          "height": 35
        },
        "outputId": "fadea0f4-cce4-4a12-8ff4-fac36875a64d"
      },
      "source": [
        "from google.colab import drive\n",
        "drive.mount('/content/drive')"
      ],
      "execution_count": 50,
      "outputs": [
        {
          "output_type": "stream",
          "text": [
            "Mounted at /content/drive\n"
          ],
          "name": "stdout"
        }
      ]
    },
    {
      "cell_type": "code",
      "metadata": {
        "colab_type": "code",
        "id": "V8-7SARDZErK",
        "colab": {}
      },
      "source": [
        "import torch.nn as nn\n",
        "import torch.nn.functional as F\n",
        "\n",
        "import pandas as pd\n",
        "import numpy as np\n",
        "import matplotlib.pyplot as plt\n",
        "\n",
        "import torch\n",
        "import torchvision\n",
        "import torchvision.transforms as transforms\n",
        "from torch.utils.data import Dataset, DataLoader\n",
        "from torchvision import transforms, utils\n",
        "\n",
        "from matplotlib import pyplot as plt\n",
        "\n",
        "import copy\n",
        "\n",
        "# Ignore warnings\n",
        "import warnings\n",
        "warnings.filterwarnings(\"ignore\")\n"
      ],
      "execution_count": 1,
      "outputs": []
    },
    {
      "cell_type": "code",
      "metadata": {
        "id": "vKp2zTlx2PPF",
        "colab_type": "code",
        "colab": {
          "base_uri": "https://localhost:8080/",
          "height": 35
        },
        "outputId": "0c2d8ea9-2bb8-49c7-8735-483a671a085e"
      },
      "source": [
        "a = torch.arange(2*3*1*1)\n",
        "print(a.shape,a)"
      ],
      "execution_count": 6,
      "outputs": [
        {
          "output_type": "stream",
          "text": [
            "torch.Size([6]) tensor([0, 1, 2, 3, 4, 5])\n"
          ],
          "name": "stdout"
        }
      ]
    },
    {
      "cell_type": "code",
      "metadata": {
        "id": "DmQ0YrSm2YKG",
        "colab_type": "code",
        "colab": {
          "base_uri": "https://localhost:8080/",
          "height": 235
        },
        "outputId": "a7065f01-a415-44da-b4ea-144ea5606747"
      },
      "source": [
        "torch.reshape(a, (2,3,1,1))"
      ],
      "execution_count": 7,
      "outputs": [
        {
          "output_type": "execute_result",
          "data": {
            "text/plain": [
              "tensor([[[[0]],\n",
              "\n",
              "         [[1]],\n",
              "\n",
              "         [[2]]],\n",
              "\n",
              "\n",
              "        [[[3]],\n",
              "\n",
              "         [[4]],\n",
              "\n",
              "         [[5]]]])"
            ]
          },
          "metadata": {
            "tags": []
          },
          "execution_count": 7
        }
      ]
    },
    {
      "cell_type": "code",
      "metadata": {
        "id": "LTkC12__23oO",
        "colab_type": "code",
        "colab": {
          "base_uri": "https://localhost:8080/",
          "height": 217
        },
        "outputId": "0de02e02-e686-4f23-f245-a8d4626beb4b"
      },
      "source": [
        "torch.reshape(a, (2*3,1,1))"
      ],
      "execution_count": 8,
      "outputs": [
        {
          "output_type": "execute_result",
          "data": {
            "text/plain": [
              "tensor([[[0]],\n",
              "\n",
              "        [[1]],\n",
              "\n",
              "        [[2]],\n",
              "\n",
              "        [[3]],\n",
              "\n",
              "        [[4]],\n",
              "\n",
              "        [[5]]])"
            ]
          },
          "metadata": {
            "tags": []
          },
          "execution_count": 8
        }
      ]
    },
    {
      "cell_type": "code",
      "metadata": {
        "colab_type": "code",
        "id": "acRFqJNrZErV",
        "colab": {
          "base_uri": "https://localhost:8080/",
          "height": 104,
          "referenced_widgets": [
            "3c520b4649f04111a678822a7102b5e8",
            "88327489108645c084901dbd358066e1",
            "f3cdb329b22b46b88add999f5cef381b",
            "607d144ae72c4c0c855b595b0bfad6ad",
            "5b3afd9091bf43b697e2aff4431a4eeb",
            "58db7df018ac4c88962cd2785f323c6a",
            "ffcd64ee2a2e4357b158399ba6cd7ded",
            "ce83974ab8124e76b4e7b60408ca463d"
          ]
        },
        "outputId": "52d8efa9-14eb-4e0d-a50d-3eeaaa6a1ad5"
      },
      "source": [
        "transform = transforms.Compose(\n",
        "    [transforms.ToTensor(),\n",
        "     transforms.Normalize((0.5, 0.5, 0.5), (0.5, 0.5, 0.5))])\n",
        "\n",
        "trainset = torchvision.datasets.CIFAR10(root='./data', train=True, download=True, transform=transform)\n",
        "\n",
        "\n",
        "testset = torchvision.datasets.CIFAR10(root='./data', train=False, download=True, transform=transform)\n"
      ],
      "execution_count": 9,
      "outputs": [
        {
          "output_type": "stream",
          "text": [
            "Downloading https://www.cs.toronto.edu/~kriz/cifar-10-python.tar.gz to ./data/cifar-10-python.tar.gz\n"
          ],
          "name": "stdout"
        },
        {
          "output_type": "display_data",
          "data": {
            "application/vnd.jupyter.widget-view+json": {
              "model_id": "3c520b4649f04111a678822a7102b5e8",
              "version_minor": 0,
              "version_major": 2
            },
            "text/plain": [
              "HBox(children=(FloatProgress(value=1.0, bar_style='info', max=1.0), HTML(value='')))"
            ]
          },
          "metadata": {
            "tags": []
          }
        },
        {
          "output_type": "stream",
          "text": [
            "Extracting ./data/cifar-10-python.tar.gz to ./data\n",
            "Files already downloaded and verified\n"
          ],
          "name": "stdout"
        }
      ]
    },
    {
      "cell_type": "code",
      "metadata": {
        "colab_type": "code",
        "id": "V_JUhwCeZErk",
        "colab": {}
      },
      "source": [
        "trainloader = torch.utils.data.DataLoader(trainset, batch_size=10, shuffle=True)\n",
        "testloader = torch.utils.data.DataLoader(testset, batch_size=10, shuffle=False)\n",
        "\n",
        "\n",
        "classes = ('plane', 'car', 'bird', 'cat', 'deer', 'dog', 'frog', 'horse', 'ship', 'truck')\n",
        "\n",
        "foreground_classes = {'horse','ship', 'truck'}\n",
        "\n",
        "background_classes = {'plane', 'car', 'bird', 'cat', 'deer', 'dog', 'frog'}\n",
        "\n",
        "# print(type(foreground_classes))"
      ],
      "execution_count": 10,
      "outputs": []
    },
    {
      "cell_type": "code",
      "metadata": {
        "colab_type": "code",
        "id": "cYuA7_81ZEro",
        "colab": {}
      },
      "source": [
        "dataiter = iter(trainloader)\n",
        "background_data=[]\n",
        "background_label=[]\n",
        "foreground_data=[]\n",
        "foreground_label=[]\n",
        "batch_size=10\n",
        "\n",
        "for i in range(5000):\n",
        "  images, labels = dataiter.next()\n",
        "  for j in range(batch_size):\n",
        "    if(classes[labels[j]] in background_classes):\n",
        "      img = images[j].tolist()\n",
        "      background_data.append(img)\n",
        "      background_label.append(labels[j])\n",
        "    else:\n",
        "      img = images[j].tolist()\n",
        "      foreground_data.append(img)\n",
        "      foreground_label.append(labels[j])\n",
        "            \n",
        "foreground_data = torch.tensor(foreground_data)\n",
        "foreground_label = torch.tensor(foreground_label)\n",
        "background_data = torch.tensor(background_data)\n",
        "background_label = torch.tensor(background_label)\n",
        "    "
      ],
      "execution_count": 11,
      "outputs": []
    },
    {
      "cell_type": "code",
      "metadata": {
        "colab_type": "code",
        "id": "1U17HBQVZErt",
        "colab": {}
      },
      "source": [
        "# print(foreground_data.size())\n",
        "# print(background_data.size())\n",
        "# torch.save(foreground_data,'foreground_data.pt')\n",
        "# torch.save(background_data,'background_data.pt')\n",
        "# torch.save(foreground_label,'foreground_label.pt')\n",
        "# torch.save(background_label,'background_label.pt')\n",
        "# torch.load()"
      ],
      "execution_count": 12,
      "outputs": []
    },
    {
      "cell_type": "code",
      "metadata": {
        "colab_type": "code",
        "id": "XXibeU-pZErx",
        "colab": {}
      },
      "source": [
        "# torch.load('foreground_data.pt')\n",
        "# # print(foreground_data.size())\n",
        "# # print(background_data.size())"
      ],
      "execution_count": null,
      "outputs": []
    },
    {
      "cell_type": "code",
      "metadata": {
        "colab_type": "code",
        "id": "gDkM7oJCZEr1",
        "colab": {}
      },
      "source": [
        "\n",
        "# foreground_data = torch.load('foreground_data.pt')\n",
        "# background_data = torch.load('background_data.pt')\n",
        "# foreground_label = torch.load('foreground_label.pt')\n",
        "# background_label = torch.load('background_label.pt')\n"
      ],
      "execution_count": null,
      "outputs": []
    },
    {
      "cell_type": "code",
      "metadata": {
        "colab_type": "code",
        "id": "M6nKOvp8ZEsF",
        "colab": {}
      },
      "source": [
        "def create_mosaic_img(bg_idx,fg_idx,fg): \n",
        "  \"\"\"\n",
        "  bg_idx : list of indexes of background_data[] to be used as background images in mosaic\n",
        "  fg_idx : index of image to be used as foreground image from foreground data\n",
        "  fg : at what position/index foreground image has to be stored out of 0-8\n",
        "  \"\"\"\n",
        "  image_list=[]\n",
        "  j=0\n",
        "  for i in range(9):\n",
        "    if i != fg:\n",
        "      image_list.append(background_data[bg_idx[j]].type(\"torch.DoubleTensor\"))\n",
        "      j+=1\n",
        "    else: \n",
        "      image_list.append(foreground_data[fg_idx].type(\"torch.DoubleTensor\"))\n",
        "      label = foreground_label[fg_idx]-7  # minus 7 because our fore ground classes are 7,8,9 but we have to store it as 0,1,2\n",
        "  #image_list = np.concatenate(image_list ,axis=0)\n",
        "  image_list = torch.stack(image_list) \n",
        "  return image_list,label"
      ],
      "execution_count": 13,
      "outputs": []
    },
    {
      "cell_type": "code",
      "metadata": {
        "colab_type": "code",
        "id": "hS0soEiqZEsK",
        "scrolled": true,
        "colab": {}
      },
      "source": [
        "desired_num = 30000\n",
        "mosaic_list_of_images =[]      # list of mosaic images, each mosaic image is saved as list of 9 images\n",
        "fore_idx =[]                   # list of indexes at which foreground image is present in a mosaic image i.e from 0 to 9               \n",
        "mosaic_label=[]                # label of mosaic image = foreground class present in that mosaic\n",
        "for i in range(desired_num):\n",
        "  bg_idx = np.random.randint(0,35000,8)\n",
        "  fg_idx = np.random.randint(0,15000)\n",
        "  fg = np.random.randint(0,9)\n",
        "  fore_idx.append(fg)\n",
        "  image_list,label = create_mosaic_img(bg_idx,fg_idx,fg)\n",
        "  mosaic_list_of_images.append(image_list)\n",
        "  mosaic_label.append(label)\n",
        "\n"
      ],
      "execution_count": 14,
      "outputs": []
    },
    {
      "cell_type": "code",
      "metadata": {
        "colab_type": "code",
        "id": "nSO9SFE25Lrk",
        "colab": {}
      },
      "source": [
        "class MosaicDataset(Dataset):\n",
        "  \"\"\"MosaicDataset dataset.\"\"\"\n",
        "\n",
        "  def __init__(self, mosaic_list_of_images, mosaic_label, fore_idx):\n",
        "    \"\"\"\n",
        "      Args:\n",
        "        csv_file (string): Path to the csv file with annotations.\n",
        "        root_dir (string): Directory with all the images.\n",
        "        transform (callable, optional): Optional transform to be applied\n",
        "            on a sample.\n",
        "    \"\"\"\n",
        "    self.mosaic = mosaic_list_of_images\n",
        "    self.label = mosaic_label\n",
        "    self.fore_idx = fore_idx\n",
        "\n",
        "  def __len__(self):\n",
        "    return len(self.label)\n",
        "\n",
        "  def __getitem__(self, idx):\n",
        "    return self.mosaic[idx] , self.label[idx], self.fore_idx[idx]\n",
        "\n",
        "batch = 250\n",
        "msd = MosaicDataset(mosaic_list_of_images, mosaic_label , fore_idx)\n",
        "train_loader = DataLoader( msd,batch_size= batch ,shuffle=True)"
      ],
      "execution_count": 18,
      "outputs": []
    },
    {
      "cell_type": "code",
      "metadata": {
        "colab_type": "code",
        "id": "SadRzWBBZEsP",
        "colab": {}
      },
      "source": [
        "import torch.nn as nn\n",
        "import torch.nn.functional as F\n",
        "\n",
        "class Conv_module(nn.Module):\n",
        "    def __init__(self,inp_ch,f,s,k,pad):\n",
        "        super(Conv_module,self).__init__()\n",
        "        self.inp_ch = inp_ch\n",
        "        self.f = f\n",
        "        self.s = s \n",
        "        self.k = k \n",
        "        self.pad = pad\n",
        "        \n",
        "        \n",
        "        self.conv = nn.Conv2d(self.inp_ch,self.f,k,stride=s,padding=self.pad)\n",
        "        self.bn = nn.BatchNorm2d(self.f)\n",
        "        self.act = nn.ReLU()\n",
        "    def forward(self,x):\n",
        "        x = self.conv(x)\n",
        "        x = self.bn(x)\n",
        "        x = self.act(x)\n",
        "        return x"
      ],
      "execution_count": 19,
      "outputs": []
    },
    {
      "cell_type": "code",
      "metadata": {
        "colab_type": "code",
        "id": "IgGYMG_ZZEsT",
        "colab": {}
      },
      "source": [
        "class inception_module(nn.Module):\n",
        "    def __init__(self,inp_ch,f0,f1):\n",
        "        super(inception_module, self).__init__()\n",
        "        self.inp_ch = inp_ch\n",
        "        self.f0 = f0\n",
        "        self.f1 = f1        \n",
        "        self.conv1 = Conv_module(self.inp_ch,self.f0,1,1,pad=0)\n",
        "        self.conv3 = Conv_module(self.inp_ch,self.f1,1,3,pad=1)\n",
        "        #self.conv1 = nn.Conv2d(3,self.f0,1)\n",
        "        #self.conv3 = nn.Conv2d(3,self.f1,3,padding=1)\n",
        "    def forward(self,x):\n",
        "        x1 = self.conv1.forward(x)\n",
        "        x3 = self.conv3.forward(x)\n",
        "        #print(x1.shape,x3.shape)\n",
        "        x = torch.cat((x1,x3),dim=1)   \n",
        "        return x"
      ],
      "execution_count": 20,
      "outputs": []
    },
    {
      "cell_type": "code",
      "metadata": {
        "id": "ZmVdW6tf363G",
        "colab_type": "code",
        "colab": {}
      },
      "source": [
        "class downsample_module(nn.Module):\n",
        "    def __init__(self,inp_ch,f):\n",
        "        super(downsample_module,self).__init__()\n",
        "        self.inp_ch = inp_ch\n",
        "        self.f = f\n",
        "        self.conv = Conv_module(self.inp_ch,self.f,2,3,pad=0)\n",
        "        self.pool = nn.MaxPool2d(3,stride=2,padding=0)\n",
        "    def forward(self,x):\n",
        "        x1 = self.conv(x)\n",
        "        #print(x1.shape)\n",
        "        x2 = self.pool(x)\n",
        "        #print(x2.shape)\n",
        "        x = torch.cat((x1,x2),dim=1)\n",
        "        \n",
        "        return x,x1"
      ],
      "execution_count": 23,
      "outputs": []
    },
    {
      "cell_type": "code",
      "metadata": {
        "colab_type": "code",
        "id": "thkdqW91Hpju",
        "colab": {}
      },
      "source": [
        "class inception_net(nn.Module):\n",
        "    def __init__(self):\n",
        "        super(inception_net,self).__init__()\n",
        "        self.conv1 = Conv_module(3*9,96,1,3,0)\n",
        "        \n",
        "        self.incept1 = inception_module(96,32,32)\n",
        "        self.incept2 = inception_module(64,32,48)\n",
        "        \n",
        "        self.downsample1 = downsample_module(80,80)\n",
        "        \n",
        "        self.incept3 = inception_module(160,112,48)\n",
        "        self.incept4 = inception_module(160,96,64)\n",
        "        self.incept5 = inception_module(160,80,80)\n",
        "        self.incept6 = inception_module(160,48,96)\n",
        "        \n",
        "        self.downsample2 = downsample_module(144,96)\n",
        "        \n",
        "        self.incept7 = inception_module(240,176,60)\n",
        "        self.incept8 = inception_module(236,176,60)\n",
        "        \n",
        "        self.pool = nn.AvgPool2d(5)\n",
        "        self.linear1 = nn.Linear(236,10)\n",
        "        self.linear2 = nn.Linear(10,3)\n",
        "\n",
        "    def forward(self,x):\n",
        "        x = self.conv1.forward(x)\n",
        "        #act1 = x\n",
        "        \n",
        "        x = self.incept1.forward(x)\n",
        "        #act2 = x\n",
        "        \n",
        "        x = self.incept2.forward(x)\n",
        "        #act3 = x\n",
        "        \n",
        "        x,act4 = self.downsample1.forward(x)\n",
        "        \n",
        "        x = self.incept3.forward(x)\n",
        "        #act5 = x\n",
        "        \n",
        "        x = self.incept4.forward(x)\n",
        "        #act6 = x\n",
        "        \n",
        "        x = self.incept5.forward(x)\n",
        "        #act7 = x\n",
        "        \n",
        "        x = self.incept6.forward(x)\n",
        "        #act8 = x\n",
        "        \n",
        "        x,act9 = self.downsample2.forward(x)\n",
        "        \n",
        "        x = self.incept7.forward(x)\n",
        "        #act10 = x\n",
        "        x = self.incept8.forward(x)\n",
        "        #act11 = x\n",
        "        #print(x.shape)\n",
        "        x = self.pool(x)\n",
        "        #print(x.shape)\n",
        "        x = x.view(-1,1*1*236)\n",
        "        x = self.linear1(x)\n",
        "        x = self.linear2(x) \n",
        "        # print(x.shape)\n",
        "        return x"
      ],
      "execution_count": 24,
      "outputs": []
    },
    {
      "cell_type": "code",
      "metadata": {
        "id": "yKDBpz7zgz8E",
        "colab_type": "code",
        "colab": {}
      },
      "source": [
        "block_net = inception_net()\n",
        "block_net = block_net.to(\"cuda\").double()"
      ],
      "execution_count": 55,
      "outputs": []
    },
    {
      "cell_type": "code",
      "metadata": {
        "id": "jn3oPpfH3-P3",
        "colab_type": "code",
        "colab": {
          "base_uri": "https://localhost:8080/",
          "height": 1000
        },
        "outputId": "306d4cbe-1c3e-4367-ea81-62a155f6b1ff"
      },
      "source": [
        "block_net"
      ],
      "execution_count": 52,
      "outputs": [
        {
          "output_type": "execute_result",
          "data": {
            "text/plain": [
              "inception_net(\n",
              "  (conv1): Conv_module(\n",
              "    (conv): Conv2d(27, 96, kernel_size=(3, 3), stride=(1, 1))\n",
              "    (bn): BatchNorm2d(96, eps=1e-05, momentum=0.1, affine=True, track_running_stats=True)\n",
              "    (act): ReLU()\n",
              "  )\n",
              "  (incept1): inception_module(\n",
              "    (conv1): Conv_module(\n",
              "      (conv): Conv2d(96, 32, kernel_size=(1, 1), stride=(1, 1))\n",
              "      (bn): BatchNorm2d(32, eps=1e-05, momentum=0.1, affine=True, track_running_stats=True)\n",
              "      (act): ReLU()\n",
              "    )\n",
              "    (conv3): Conv_module(\n",
              "      (conv): Conv2d(96, 32, kernel_size=(3, 3), stride=(1, 1), padding=(1, 1))\n",
              "      (bn): BatchNorm2d(32, eps=1e-05, momentum=0.1, affine=True, track_running_stats=True)\n",
              "      (act): ReLU()\n",
              "    )\n",
              "  )\n",
              "  (incept2): inception_module(\n",
              "    (conv1): Conv_module(\n",
              "      (conv): Conv2d(64, 32, kernel_size=(1, 1), stride=(1, 1))\n",
              "      (bn): BatchNorm2d(32, eps=1e-05, momentum=0.1, affine=True, track_running_stats=True)\n",
              "      (act): ReLU()\n",
              "    )\n",
              "    (conv3): Conv_module(\n",
              "      (conv): Conv2d(64, 48, kernel_size=(3, 3), stride=(1, 1), padding=(1, 1))\n",
              "      (bn): BatchNorm2d(48, eps=1e-05, momentum=0.1, affine=True, track_running_stats=True)\n",
              "      (act): ReLU()\n",
              "    )\n",
              "  )\n",
              "  (downsample1): downsample_module(\n",
              "    (conv): Conv_module(\n",
              "      (conv): Conv2d(80, 80, kernel_size=(3, 3), stride=(2, 2))\n",
              "      (bn): BatchNorm2d(80, eps=1e-05, momentum=0.1, affine=True, track_running_stats=True)\n",
              "      (act): ReLU()\n",
              "    )\n",
              "    (pool): MaxPool2d(kernel_size=3, stride=2, padding=0, dilation=1, ceil_mode=False)\n",
              "  )\n",
              "  (incept3): inception_module(\n",
              "    (conv1): Conv_module(\n",
              "      (conv): Conv2d(160, 112, kernel_size=(1, 1), stride=(1, 1))\n",
              "      (bn): BatchNorm2d(112, eps=1e-05, momentum=0.1, affine=True, track_running_stats=True)\n",
              "      (act): ReLU()\n",
              "    )\n",
              "    (conv3): Conv_module(\n",
              "      (conv): Conv2d(160, 48, kernel_size=(3, 3), stride=(1, 1), padding=(1, 1))\n",
              "      (bn): BatchNorm2d(48, eps=1e-05, momentum=0.1, affine=True, track_running_stats=True)\n",
              "      (act): ReLU()\n",
              "    )\n",
              "  )\n",
              "  (incept4): inception_module(\n",
              "    (conv1): Conv_module(\n",
              "      (conv): Conv2d(160, 96, kernel_size=(1, 1), stride=(1, 1))\n",
              "      (bn): BatchNorm2d(96, eps=1e-05, momentum=0.1, affine=True, track_running_stats=True)\n",
              "      (act): ReLU()\n",
              "    )\n",
              "    (conv3): Conv_module(\n",
              "      (conv): Conv2d(160, 64, kernel_size=(3, 3), stride=(1, 1), padding=(1, 1))\n",
              "      (bn): BatchNorm2d(64, eps=1e-05, momentum=0.1, affine=True, track_running_stats=True)\n",
              "      (act): ReLU()\n",
              "    )\n",
              "  )\n",
              "  (incept5): inception_module(\n",
              "    (conv1): Conv_module(\n",
              "      (conv): Conv2d(160, 80, kernel_size=(1, 1), stride=(1, 1))\n",
              "      (bn): BatchNorm2d(80, eps=1e-05, momentum=0.1, affine=True, track_running_stats=True)\n",
              "      (act): ReLU()\n",
              "    )\n",
              "    (conv3): Conv_module(\n",
              "      (conv): Conv2d(160, 80, kernel_size=(3, 3), stride=(1, 1), padding=(1, 1))\n",
              "      (bn): BatchNorm2d(80, eps=1e-05, momentum=0.1, affine=True, track_running_stats=True)\n",
              "      (act): ReLU()\n",
              "    )\n",
              "  )\n",
              "  (incept6): inception_module(\n",
              "    (conv1): Conv_module(\n",
              "      (conv): Conv2d(160, 48, kernel_size=(1, 1), stride=(1, 1))\n",
              "      (bn): BatchNorm2d(48, eps=1e-05, momentum=0.1, affine=True, track_running_stats=True)\n",
              "      (act): ReLU()\n",
              "    )\n",
              "    (conv3): Conv_module(\n",
              "      (conv): Conv2d(160, 96, kernel_size=(3, 3), stride=(1, 1), padding=(1, 1))\n",
              "      (bn): BatchNorm2d(96, eps=1e-05, momentum=0.1, affine=True, track_running_stats=True)\n",
              "      (act): ReLU()\n",
              "    )\n",
              "  )\n",
              "  (downsample2): downsample_module(\n",
              "    (conv): Conv_module(\n",
              "      (conv): Conv2d(144, 96, kernel_size=(3, 3), stride=(2, 2))\n",
              "      (bn): BatchNorm2d(96, eps=1e-05, momentum=0.1, affine=True, track_running_stats=True)\n",
              "      (act): ReLU()\n",
              "    )\n",
              "    (pool): MaxPool2d(kernel_size=3, stride=2, padding=0, dilation=1, ceil_mode=False)\n",
              "  )\n",
              "  (incept7): inception_module(\n",
              "    (conv1): Conv_module(\n",
              "      (conv): Conv2d(240, 176, kernel_size=(1, 1), stride=(1, 1))\n",
              "      (bn): BatchNorm2d(176, eps=1e-05, momentum=0.1, affine=True, track_running_stats=True)\n",
              "      (act): ReLU()\n",
              "    )\n",
              "    (conv3): Conv_module(\n",
              "      (conv): Conv2d(240, 60, kernel_size=(3, 3), stride=(1, 1), padding=(1, 1))\n",
              "      (bn): BatchNorm2d(60, eps=1e-05, momentum=0.1, affine=True, track_running_stats=True)\n",
              "      (act): ReLU()\n",
              "    )\n",
              "  )\n",
              "  (incept8): inception_module(\n",
              "    (conv1): Conv_module(\n",
              "      (conv): Conv2d(236, 176, kernel_size=(1, 1), stride=(1, 1))\n",
              "      (bn): BatchNorm2d(176, eps=1e-05, momentum=0.1, affine=True, track_running_stats=True)\n",
              "      (act): ReLU()\n",
              "    )\n",
              "    (conv3): Conv_module(\n",
              "      (conv): Conv2d(236, 60, kernel_size=(3, 3), stride=(1, 1), padding=(1, 1))\n",
              "      (bn): BatchNorm2d(60, eps=1e-05, momentum=0.1, affine=True, track_running_stats=True)\n",
              "      (act): ReLU()\n",
              "    )\n",
              "  )\n",
              "  (pool): AvgPool2d(kernel_size=5, stride=5, padding=0)\n",
              "  (linear1): Linear(in_features=236, out_features=10, bias=True)\n",
              "  (linear2): Linear(in_features=10, out_features=3, bias=True)\n",
              ")"
            ]
          },
          "metadata": {
            "tags": []
          },
          "execution_count": 52
        }
      ]
    },
    {
      "cell_type": "code",
      "metadata": {
        "colab_type": "code",
        "id": "u1yVWgR4vFhe",
        "colab": {}
      },
      "source": [
        "test_images =[]        #list of mosaic images, each mosaic image is saved as laist of 9 images\n",
        "fore_idx_test =[]                   #list of indexes at which foreground image is present in a mosaic image                \n",
        "test_label=[]                # label of mosaic image = foreground class present in that mosaic\n",
        "for i in range(10000):\n",
        "  bg_idx = np.random.randint(0,35000,8)\n",
        "  fg_idx = np.random.randint(0,15000)\n",
        "  fg = np.random.randint(0,9)\n",
        "  fore_idx_test.append(fg)\n",
        "  image_list,label = create_mosaic_img(bg_idx,fg_idx,fg)\n",
        "  test_images.append(image_list)\n",
        "  test_label.append(label)"
      ],
      "execution_count": 32,
      "outputs": []
    },
    {
      "cell_type": "code",
      "metadata": {
        "colab_type": "code",
        "id": "xRq1cUvgvLeH",
        "colab": {}
      },
      "source": [
        "test_data = MosaicDataset(test_images,test_label,fore_idx_test)\n",
        "test_loader = DataLoader( test_data,batch_size= batch ,shuffle=False)"
      ],
      "execution_count": 33,
      "outputs": []
    },
    {
      "cell_type": "code",
      "metadata": {
        "id": "13Zq1FF44fD3",
        "colab_type": "code",
        "colab": {}
      },
      "source": [
        "import torch.optim as optim\n",
        "criterion = nn.CrossEntropyLoss()\n",
        "optimizer = optim.SGD(block_net.parameters(), lr=0.001, momentum=0.9)"
      ],
      "execution_count": 56,
      "outputs": []
    },
    {
      "cell_type": "code",
      "metadata": {
        "colab_type": "code",
        "id": "tFfAJZkcZEsY",
        "colab": {
          "base_uri": "https://localhost:8080/",
          "height": 1000
        },
        "outputId": "8a5dddec-252b-4f1f-8224-f914cead5e58"
      },
      "source": [
        "nos_epochs = 300\n",
        "acti = []\n",
        "loss_epoch = []\n",
        "cnt=0\n",
        "for epoch in range(nos_epochs):  # loop over the dataset multiple times\n",
        "  \n",
        "  running_loss = 0.0\n",
        "  ep_lossi = []\n",
        "  \n",
        "\n",
        "  iteration = desired_num // batch\n",
        "  \n",
        "  #training data set\n",
        "  \n",
        "  for i, data in  enumerate(train_loader):\n",
        "    inputs , labels , fore_idx = data\n",
        "    # zero the parameter gradients\n",
        "    # print(inputs.shape)\n",
        "    inputs = torch.reshape(inputs,(batch,9*3,32,32))\n",
        "    # print(inputs.shape)\n",
        "    inputs , labels , fore_idx = inputs.to(\"cuda\") , labels.to(\"cuda\"), fore_idx.to(\"cuda\")\n",
        "    optimizer.zero_grad()\n",
        "    \n",
        "    outputs = block_net(inputs)\n",
        "\n",
        "    _, predicted = torch.max(outputs.data, 1)\n",
        "#     print(outputs)\n",
        "#     print(outputs.shape,labels.shape , torch.argmax(outputs, dim=1))\n",
        "\n",
        "    loss = criterion(outputs, labels) \n",
        "    loss.backward()\n",
        "    optimizer.step()\n",
        "\n",
        "    running_loss += loss.item()\n",
        "    mini_batch = 40\n",
        "    if i % mini_batch == mini_batch-1:    # print every 50 mini-batches\n",
        "      print('[%d, %5d] loss: %.3f' %(epoch + 1, i + 1, running_loss / mini_batch))\n",
        "      ep_lossi.append(running_loss/mini_batch) # loss per minibatch\n",
        "      running_loss = 0.0\n",
        "\n",
        "\n",
        "  loss_epoch.append(np.mean(ep_lossi))\n",
        "  if(np.mean(ep_lossi) <= 0.001):\n",
        "    break;\n",
        "  cnt=cnt+1    \n",
        "    \n",
        "print('Finished Training')\n",
        "print(cnt, len(loss_epoch))\n"
      ],
      "execution_count": 57,
      "outputs": [
        {
          "output_type": "stream",
          "text": [
            "[1,    40] loss: 1.102\n",
            "[1,    80] loss: 1.093\n",
            "[1,   120] loss: 1.086\n",
            "[2,    40] loss: 1.076\n",
            "[2,    80] loss: 1.077\n",
            "[2,   120] loss: 1.070\n",
            "[3,    40] loss: 1.065\n",
            "[3,    80] loss: 1.060\n",
            "[3,   120] loss: 1.059\n",
            "[4,    40] loss: 1.050\n",
            "[4,    80] loss: 1.049\n",
            "[4,   120] loss: 1.049\n",
            "[5,    40] loss: 1.034\n",
            "[5,    80] loss: 1.037\n",
            "[5,   120] loss: 1.034\n",
            "[6,    40] loss: 1.018\n",
            "[6,    80] loss: 1.018\n",
            "[6,   120] loss: 1.019\n",
            "[7,    40] loss: 0.994\n",
            "[7,    80] loss: 1.001\n",
            "[7,   120] loss: 1.000\n",
            "[8,    40] loss: 0.966\n",
            "[8,    80] loss: 0.970\n",
            "[8,   120] loss: 0.978\n",
            "[9,    40] loss: 0.935\n",
            "[9,    80] loss: 0.931\n",
            "[9,   120] loss: 0.939\n",
            "[10,    40] loss: 0.877\n",
            "[10,    80] loss: 0.877\n",
            "[10,   120] loss: 0.911\n",
            "[11,    40] loss: 0.822\n",
            "[11,    80] loss: 0.820\n",
            "[11,   120] loss: 0.873\n",
            "[12,    40] loss: 0.754\n",
            "[12,    80] loss: 0.773\n",
            "[12,   120] loss: 0.847\n",
            "[13,    40] loss: 0.726\n",
            "[13,    80] loss: 0.738\n",
            "[13,   120] loss: 0.791\n",
            "[14,    40] loss: 0.666\n",
            "[14,    80] loss: 0.702\n",
            "[14,   120] loss: 0.805\n",
            "[15,    40] loss: 0.660\n",
            "[15,    80] loss: 0.665\n",
            "[15,   120] loss: 0.731\n",
            "[16,    40] loss: 0.590\n",
            "[16,    80] loss: 0.598\n",
            "[16,   120] loss: 0.662\n",
            "[17,    40] loss: 0.521\n",
            "[17,    80] loss: 0.539\n",
            "[17,   120] loss: 0.633\n",
            "[18,    40] loss: 0.489\n",
            "[18,    80] loss: 0.516\n",
            "[18,   120] loss: 0.583\n",
            "[19,    40] loss: 0.428\n",
            "[19,    80] loss: 0.420\n",
            "[19,   120] loss: 0.490\n",
            "[20,    40] loss: 0.366\n",
            "[20,    80] loss: 0.379\n",
            "[20,   120] loss: 0.455\n",
            "[21,    40] loss: 0.335\n",
            "[21,    80] loss: 0.390\n",
            "[21,   120] loss: 0.474\n",
            "[22,    40] loss: 0.365\n",
            "[22,    80] loss: 0.351\n",
            "[22,   120] loss: 0.396\n",
            "[23,    40] loss: 0.283\n",
            "[23,    80] loss: 0.276\n",
            "[23,   120] loss: 0.293\n",
            "[24,    40] loss: 0.207\n",
            "[24,    80] loss: 0.195\n",
            "[24,   120] loss: 0.214\n",
            "[25,    40] loss: 0.158\n",
            "[25,    80] loss: 0.166\n",
            "[25,   120] loss: 0.202\n",
            "[26,    40] loss: 0.160\n",
            "[26,    80] loss: 0.178\n",
            "[26,   120] loss: 0.234\n",
            "[27,    40] loss: 0.181\n",
            "[27,    80] loss: 0.202\n",
            "[27,   120] loss: 0.265\n",
            "[28,    40] loss: 0.225\n",
            "[28,    80] loss: 0.228\n",
            "[28,   120] loss: 0.277\n",
            "[29,    40] loss: 0.190\n",
            "[29,    80] loss: 0.205\n",
            "[29,   120] loss: 0.229\n",
            "[30,    40] loss: 0.152\n",
            "[30,    80] loss: 0.140\n",
            "[30,   120] loss: 0.151\n",
            "[31,    40] loss: 0.092\n",
            "[31,    80] loss: 0.082\n",
            "[31,   120] loss: 0.084\n",
            "[32,    40] loss: 0.054\n",
            "[32,    80] loss: 0.047\n",
            "[32,   120] loss: 0.048\n",
            "[33,    40] loss: 0.027\n",
            "[33,    80] loss: 0.022\n",
            "[33,   120] loss: 0.022\n",
            "[34,    40] loss: 0.010\n",
            "[34,    80] loss: 0.007\n",
            "[34,   120] loss: 0.007\n",
            "[35,    40] loss: 0.003\n",
            "[35,    80] loss: 0.003\n",
            "[35,   120] loss: 0.003\n",
            "[36,    40] loss: 0.002\n",
            "[36,    80] loss: 0.002\n",
            "[36,   120] loss: 0.002\n",
            "[37,    40] loss: 0.002\n",
            "[37,    80] loss: 0.001\n",
            "[37,   120] loss: 0.001\n",
            "[38,    40] loss: 0.001\n",
            "[38,    80] loss: 0.001\n",
            "[38,   120] loss: 0.001\n",
            "[39,    40] loss: 0.001\n",
            "[39,    80] loss: 0.001\n",
            "[39,   120] loss: 0.001\n",
            "[40,    40] loss: 0.001\n",
            "[40,    80] loss: 0.001\n",
            "[40,   120] loss: 0.001\n",
            "Finished Training\n",
            "39 40\n"
          ],
          "name": "stdout"
        }
      ]
    },
    {
      "cell_type": "code",
      "metadata": {
        "id": "CVKAlUQP7sEN",
        "colab_type": "code",
        "colab": {
          "base_uri": "https://localhost:8080/",
          "height": 35
        },
        "outputId": "62ac48d9-b577-43ba-b8ec-1ac849e34a27"
      },
      "source": [
        "cnt, epoch"
      ],
      "execution_count": 58,
      "outputs": [
        {
          "output_type": "execute_result",
          "data": {
            "text/plain": [
              "(39, 39)"
            ]
          },
          "metadata": {
            "tags": []
          },
          "execution_count": 58
        }
      ]
    },
    {
      "cell_type": "code",
      "metadata": {
        "id": "tMpD1Nfe4ZSH",
        "colab_type": "code",
        "colab": {}
      },
      "source": [
        "torch.save(block_net.state_dict(),\"/content/drive/My Drive/Research/block_net/block_net_epoch\"+str(cnt)+\".pt\")"
      ],
      "execution_count": 60,
      "outputs": []
    },
    {
      "cell_type": "code",
      "metadata": {
        "colab_type": "code",
        "id": "hxwOAPq35dKK",
        "colab": {
          "base_uri": "https://localhost:8080/",
          "height": 53
        },
        "outputId": "4380c9d2-d3b4-4245-f40c-8980dbceec94"
      },
      "source": [
        "correct = 0\n",
        "total = 0\n",
        "with torch.no_grad():\n",
        "    for data in train_loader:\n",
        "        inputs , labels , fore_idx = data\n",
        "        inputs = torch.reshape(inputs,(batch,9*3,32,32))\n",
        "        inputs , labels , fore_idx = inputs.to(\"cuda\") , labels.to(\"cuda\"), fore_idx.to(\"cuda\")\n",
        "        outputs = block_net(inputs)\n",
        "        _, predicted = torch.max(outputs.data, 1)\n",
        "        total += labels.size(0)\n",
        "        correct += (predicted == labels).sum().item()\n",
        "\n",
        "print('Accuracy of the network on the %d train images: %d %%' % (total,  100 * correct / total))\n",
        "print(total,correct)"
      ],
      "execution_count": 63,
      "outputs": [
        {
          "output_type": "stream",
          "text": [
            "Accuracy of the network on the 30000 train images: 100 %\n",
            "30000 30000\n"
          ],
          "name": "stdout"
        }
      ]
    },
    {
      "cell_type": "code",
      "metadata": {
        "id": "kH2mAQty8ure",
        "colab_type": "code",
        "colab": {
          "base_uri": "https://localhost:8080/",
          "height": 53
        },
        "outputId": "49c89820-9c23-4efe-8d02-787a8fb56a89"
      },
      "source": [
        "correct = 0\n",
        "total = 0\n",
        "out = []\n",
        "pred = []\n",
        "with torch.no_grad():\n",
        "    for data in test_loader:\n",
        "        inputs , labels , fore_idx = data\n",
        "        inputs = torch.reshape(inputs,(batch,9*3,32,32))\n",
        "        inputs , labels , fore_idx = inputs.to(\"cuda\") , labels.to(\"cuda\"), fore_idx.to(\"cuda\")\n",
        "        outputs = block_net(inputs)\n",
        "        out.append(labels.cpu().numpy())\n",
        "        _, predicted = torch.max(outputs.data, 1)\n",
        "        pred.append(predicted.cpu().numpy())\n",
        "        total += labels.size(0)\n",
        "        correct += (predicted == labels).sum().item()\n",
        "\n",
        "print('Accuracy of the network on the 10000 test images: %d %%' % ( 100 * correct / total))\n",
        "print(total,correct)"
      ],
      "execution_count": 64,
      "outputs": [
        {
          "output_type": "stream",
          "text": [
            "Accuracy of the network on the 10000 test images: 39 %\n",
            "10000 3973\n"
          ],
          "name": "stdout"
        }
      ]
    },
    {
      "cell_type": "code",
      "metadata": {
        "id": "PTovyT879m7F",
        "colab_type": "code",
        "colab": {
          "base_uri": "https://localhost:8080/",
          "height": 297
        },
        "outputId": "6405d1e5-7fe1-49bd-dfa8-ca59482a8fec"
      },
      "source": [
        "plt.plot(loss_epoch)\n",
        "plt.xlabel('epoch')\n",
        "plt.ylabel('CE loss')"
      ],
      "execution_count": 67,
      "outputs": [
        {
          "output_type": "execute_result",
          "data": {
            "text/plain": [
              "Text(0, 0.5, 'CE loss')"
            ]
          },
          "metadata": {
            "tags": []
          },
          "execution_count": 67
        },
        {
          "output_type": "display_data",
          "data": {
            "image/png": "[encoded data removed]",
            "text/plain": [
              "<Figure size 432x288 with 1 Axes>"
            ]
          },
          "metadata": {
            "tags": [],
            "needs_background": "light"
          }
        }
      ]
    },
    {
      "cell_type": "code",
      "metadata": {
        "id": "pPJM-foIClcG",
        "colab_type": "code",
        "colab": {}
      },
      "source": [
        ""
      ],
      "execution_count": null,
      "outputs": []
    }
  ]
}