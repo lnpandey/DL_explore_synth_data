{
  "nbformat": 4,
  "nbformat_minor": 0,
  "metadata": {
    "colab": {
      "name": "block_net_resnet.ipynb",
      "provenance": [],
      "collapsed_sections": []
    },
    "kernelspec": {
      "name": "python3",
      "display_name": "Python 3"
    },
    "accelerator": "GPU"
  },
  "cells": [
    {
      "cell_type": "code",
      "metadata": {
        "id": "8jtuL7g8TUmF",
        "colab_type": "code",
        "colab": {
          "base_uri": "https://localhost:8080/",
          "height": 35
        },
        "outputId": "18e9dedf-d03c-4778-b570-071acb517925"
      },
      "source": [
        "from google.colab import drive\n",
        "drive.mount('/content/drive')"
      ],
      "execution_count": 1,
      "outputs": [
        {
          "output_type": "stream",
          "text": [
            "Drive already mounted at /content/drive; to attempt to forcibly remount, call drive.mount(\"/content/drive\", force_remount=True).\n"
          ],
          "name": "stdout"
        }
      ]
    },
    {
      "cell_type": "code",
      "metadata": {
        "id": "COTLY63JPjSF",
        "colab_type": "code",
        "colab": {
          "base_uri": "https://localhost:8080/",
          "height": 35
        },
        "outputId": "6b92b2c1-2cb4-4b93-b439-ca5c1214623b"
      },
      "source": [
        "import torch\n",
        "import torch.nn as nn\n",
        "import torch.optim as optim\n",
        "import torch.nn.functional as F\n",
        "import torch.backends.cudnn as cudnn\n",
        "\n",
        "import torchvision\n",
        "import torchvision.transforms as transforms\n",
        "import numpy as np\n",
        "\n",
        "import os\n",
        "from matplotlib import pyplot as plt\n",
        "%matplotlib inline\n",
        "from torch.utils.data import Dataset, DataLoader\n",
        "# from create_foreground_background import fg_bg_data,fg_data\n",
        "# from mini_inception import inception_net\n",
        "# from resnet import ResNet18,ResNet34,ResNet50\n",
        "\n",
        "device = 'cuda' if torch.cuda.is_available() else 'cpu'\n",
        "print(device)"
      ],
      "execution_count": 2,
      "outputs": [
        {
          "output_type": "stream",
          "text": [
            "cuda\n"
          ],
          "name": "stdout"
        }
      ]
    },
    {
      "cell_type": "code",
      "metadata": {
        "id": "xg7leMFGPkyl",
        "colab_type": "code",
        "colab": {
          "base_uri": "https://localhost:8080/",
          "height": 53
        },
        "outputId": "68c5d9c9-bb6d-4272-efef-fa282ad1ca87"
      },
      "source": [
        "transform = transforms.Compose(\n",
        "    [transforms.ToTensor(),\n",
        "     transforms.Normalize((0.5, 0.5, 0.5), (0.5, 0.5, 0.5))])\n",
        "\n",
        "trainset = torchvision.datasets.CIFAR10(root='./data', train=True, download=True, transform=transform)\n",
        "\n",
        "\n",
        "testset = torchvision.datasets.CIFAR10(root='./data', train=False, download=True, transform=transform)\n"
      ],
      "execution_count": 3,
      "outputs": [
        {
          "output_type": "stream",
          "text": [
            "Files already downloaded and verified\n",
            "Files already downloaded and verified\n"
          ],
          "name": "stdout"
        }
      ]
    },
    {
      "cell_type": "code",
      "metadata": {
        "id": "ojzfB6OiQN4N",
        "colab_type": "code",
        "colab": {}
      },
      "source": [
        "trainloader = torch.utils.data.DataLoader(trainset, batch_size=10, shuffle=True)\n",
        "testloader = torch.utils.data.DataLoader(testset, batch_size=10, shuffle=False)\n",
        "\n",
        "\n",
        "classes = ('plane', 'car', 'bird', 'cat', 'deer', 'dog', 'frog', 'horse', 'ship', 'truck')\n",
        "\n",
        "foreground_classes = {'plane', 'car', 'bird'}\n",
        "\n",
        "background_classes = {'cat', 'deer', 'dog', 'frog','horse','ship', 'truck'}\n",
        "\n",
        "# print(type(foreground_classes))"
      ],
      "execution_count": 4,
      "outputs": []
    },
    {
      "cell_type": "code",
      "metadata": {
        "id": "p6A_CfRcQP0k",
        "colab_type": "code",
        "colab": {}
      },
      "source": [
        "dataiter = iter(trainloader)\n",
        "background_data=[]\n",
        "background_label=[]\n",
        "foreground_data=[]\n",
        "foreground_label=[]\n",
        "batch_size=10\n",
        "\n",
        "for i in range(5000):\n",
        "  images, labels = dataiter.next()\n",
        "  for j in range(batch_size):\n",
        "    if(classes[labels[j]] in background_classes):\n",
        "      img = images[j].tolist()\n",
        "      background_data.append(img)\n",
        "      background_label.append(labels[j])\n",
        "    else:\n",
        "      img = images[j].tolist()\n",
        "      foreground_data.append(img)\n",
        "      foreground_label.append(labels[j])\n",
        "            \n",
        "foreground_data = torch.tensor(foreground_data)\n",
        "foreground_label = torch.tensor(foreground_label)\n",
        "background_data = torch.tensor(background_data)\n",
        "background_label = torch.tensor(background_label)\n",
        "    "
      ],
      "execution_count": 5,
      "outputs": []
    },
    {
      "cell_type": "code",
      "metadata": {
        "id": "bijIhFtXQR7t",
        "colab_type": "code",
        "colab": {}
      },
      "source": [
        "def create_mosaic_img(bg_idx,fg_idx,fg): \n",
        "  \"\"\"\n",
        "  bg_idx : list of indexes of background_data[] to be used as background images in mosaic\n",
        "  fg_idx : index of image to be used as foreground image from foreground data\n",
        "  fg : at what position/index foreground image has to be stored out of 0-8\n",
        "  \"\"\"\n",
        "  image_list=[]\n",
        "  j=0\n",
        "  for i in range(9):\n",
        "    if i != fg:\n",
        "      image_list.append(background_data[bg_idx[j]])\n",
        "      j+=1\n",
        "    else: \n",
        "      image_list.append(foreground_data[fg_idx])\n",
        "      label = foreground_label[fg_idx]  # minus 7 because our fore ground classes are 7,8,9 but we have to store it as 0,1,2\n",
        "  #image_list = np.concatenate(image_list ,axis=0)\n",
        "  image_list = torch.stack(image_list) \n",
        "  return image_list,label"
      ],
      "execution_count": 6,
      "outputs": []
    },
    {
      "cell_type": "code",
      "metadata": {
        "id": "JR3IcuasQUsx",
        "colab_type": "code",
        "colab": {}
      },
      "source": [
        "desired_num = 30000\n",
        "mosaic_list_of_images =[]      # list of mosaic images, each mosaic image is saved as list of 9 images\n",
        "fore_idx =[]                   # list of indexes at which foreground image is present in a mosaic image i.e from 0 to 9               \n",
        "mosaic_label=[]                # label of mosaic image = foreground class present in that mosaic\n",
        "for i in range(desired_num):\n",
        "  bg_idx = np.random.randint(0,35000,8)\n",
        "  fg_idx = np.random.randint(0,15000)\n",
        "  fg = np.random.randint(0,9)\n",
        "  fore_idx.append(fg)\n",
        "  image_list,label = create_mosaic_img(bg_idx,fg_idx,fg)\n",
        "  mosaic_list_of_images.append(image_list)\n",
        "  mosaic_label.append(label)"
      ],
      "execution_count": 7,
      "outputs": []
    },
    {
      "cell_type": "code",
      "metadata": {
        "id": "Xl45NPVEQY4O",
        "colab_type": "code",
        "colab": {}
      },
      "source": [
        "class MosaicDataset(Dataset):\n",
        "  \"\"\"MosaicDataset dataset.\"\"\"\n",
        "\n",
        "  def __init__(self, mosaic_list_of_images, mosaic_label, fore_idx):\n",
        "    \"\"\"\n",
        "      Args:\n",
        "        csv_file (string): Path to the csv file with annotations.\n",
        "        root_dir (string): Directory with all the images.\n",
        "        transform (callable, optional): Optional transform to be applied\n",
        "            on a sample.\n",
        "    \"\"\"\n",
        "    self.mosaic = mosaic_list_of_images\n",
        "    self.label = mosaic_label\n",
        "    self.fore_idx = fore_idx\n",
        "\n",
        "  def __len__(self):\n",
        "    return len(self.label)\n",
        "\n",
        "  def __getitem__(self, idx):\n",
        "    return self.mosaic[idx] , self.label[idx], self.fore_idx[idx]\n",
        "\n",
        "batch = 250\n",
        "msd = MosaicDataset(mosaic_list_of_images, mosaic_label , fore_idx)\n",
        "train_loader = DataLoader( msd,batch_size= batch ,shuffle=True)"
      ],
      "execution_count": 8,
      "outputs": []
    },
    {
      "cell_type": "code",
      "metadata": {
        "id": "GoTb3z44R2pW",
        "colab_type": "code",
        "colab": {}
      },
      "source": [
        "test_images =[]        #list of mosaic images, each mosaic image is saved as laist of 9 images\n",
        "fore_idx_test =[]                   #list of indexes at which foreground image is present in a mosaic image                \n",
        "test_label=[]                # label of mosaic image = foreground class present in that mosaic\n",
        "for i in range(10000):\n",
        "  bg_idx = np.random.randint(0,35000,8)\n",
        "  fg_idx = np.random.randint(0,15000)\n",
        "  fg = np.random.randint(0,9)\n",
        "  fore_idx_test.append(fg)\n",
        "  image_list,label = create_mosaic_img(bg_idx,fg_idx,fg)\n",
        "  test_images.append(image_list)\n",
        "  test_label.append(label)"
      ],
      "execution_count": 9,
      "outputs": []
    },
    {
      "cell_type": "code",
      "metadata": {
        "id": "N7HmwwadR3gd",
        "colab_type": "code",
        "colab": {}
      },
      "source": [
        "test_data = MosaicDataset(test_images,test_label,fore_idx_test)\n",
        "test_loader = DataLoader( test_data,batch_size= batch ,shuffle=False)"
      ],
      "execution_count": 10,
      "outputs": []
    },
    {
      "cell_type": "code",
      "metadata": {
        "id": "aT4AjOqfPoIu",
        "colab_type": "code",
        "colab": {}
      },
      "source": [
        "import numpy as np\n",
        "import torch\n",
        "import torch.nn as nn\n",
        "import torch.optim as optim\n",
        "import torch.nn.functional as F\n",
        "import torch.backends.cudnn as cudnn\n",
        "\n",
        "import torchvision\n",
        "import torchvision.transforms as transforms\n",
        "import numpy as np\n",
        "\n",
        "\n",
        "device = 'cuda' if torch.cuda.is_available() else 'cpu'\n",
        "\n",
        "\n",
        "class BasicBlock(nn.Module):\n",
        "    expansion = 1\n",
        "\n",
        "    def __init__(self, in_planes, planes, stride=1):\n",
        "        super(BasicBlock, self).__init__()\n",
        "        self.conv1 = nn.Conv2d(\n",
        "            in_planes, planes, kernel_size=3, stride=stride, padding=1, bias=False)\n",
        "        self.bn1 = nn.BatchNorm2d(planes)\n",
        "        self.conv2 = nn.Conv2d(planes, planes, kernel_size=3,\n",
        "                               stride=1, padding=1, bias=False)\n",
        "        self.bn2 = nn.BatchNorm2d(planes)\n",
        "\n",
        "        self.shortcut = nn.Sequential()\n",
        "        if stride != 1 or in_planes != self.expansion*planes:\n",
        "            self.shortcut = nn.Sequential(\n",
        "                nn.Conv2d(in_planes, self.expansion*planes,\n",
        "                          kernel_size=1, stride=stride, bias=False),\n",
        "                nn.BatchNorm2d(self.expansion*planes)\n",
        "            )\n",
        "\n",
        "    def forward(self, x):\n",
        "        out = F.relu(self.bn1(self.conv1(x)))\n",
        "        out = self.bn2(self.conv2(out))\n",
        "        out += self.shortcut(x)\n",
        "        out = F.relu(out)\n",
        "        return out\n",
        "class Bottleneck(nn.Module):\n",
        "    expansion = 4\n",
        "\n",
        "    def __init__(self, in_planes, planes, stride=1):\n",
        "        super(Bottleneck, self).__init__()\n",
        "        self.conv1 = nn.Conv2d(in_planes, planes, kernel_size=1, bias=False)\n",
        "        self.bn1 = nn.BatchNorm2d(planes)\n",
        "        self.conv2 = nn.Conv2d(planes, planes, kernel_size=3,\n",
        "                               stride=stride, padding=1, bias=False)\n",
        "        self.bn2 = nn.BatchNorm2d(planes)\n",
        "        self.conv3 = nn.Conv2d(planes, self.expansion *\n",
        "                               planes, kernel_size=1, bias=False)\n",
        "        self.bn3 = nn.BatchNorm2d(self.expansion*planes)\n",
        "\n",
        "        self.shortcut = nn.Sequential()\n",
        "        if stride != 1 or in_planes != self.expansion*planes:\n",
        "            self.shortcut = nn.Sequential(\n",
        "                nn.Conv2d(in_planes, self.expansion*planes,\n",
        "                          kernel_size=1, stride=stride, bias=False),\n",
        "                nn.BatchNorm2d(self.expansion*planes)\n",
        "            )\n",
        "\n",
        "    def forward(self, x):\n",
        "        out = F.relu(self.bn1(self.conv1(x)))\n",
        "        out = F.relu(self.bn2(self.conv2(out)))\n",
        "        out = self.bn3(self.conv3(out))\n",
        "        out += self.shortcut(x)\n",
        "        out = F.relu(out)\n",
        "        return out\n",
        "\n",
        "class ResNet(nn.Module):\n",
        "    def __init__(self, block, num_blocks, num_classes=10):\n",
        "        super(ResNet, self).__init__()\n",
        "        self.in_planes = 64\n",
        "\n",
        "        self.conv1 = nn.Conv2d(27, 64, kernel_size=3,\n",
        "                               stride=1, padding=1, bias=False)\n",
        "        self.bn1 = nn.BatchNorm2d(64)\n",
        "        self.layer1 = self._make_layer(block, 64, num_blocks[0], stride=1)\n",
        "        self.layer2 = self._make_layer(block, 128, num_blocks[1], stride=2)\n",
        "        self.layer3 = self._make_layer(block, 256, num_blocks[2], stride=2)\n",
        "        self.layer4 = self._make_layer(block, 512, num_blocks[3], stride=2)\n",
        "        self.linear = nn.Linear(512*block.expansion, num_classes)\n",
        "\n",
        "    def _make_layer(self, block, planes, num_blocks, stride):\n",
        "        strides = [stride] + [1]*(num_blocks-1)\n",
        "        layers = []\n",
        "        for stride in strides:\n",
        "            layers.append(block(self.in_planes, planes, stride))\n",
        "            self.in_planes = planes * block.expansion\n",
        "        return nn.Sequential(*layers)\n",
        "\n",
        "    def forward(self, x):\n",
        "        out = F.relu(self.bn1(self.conv1(x)))\n",
        "        out = self.layer1(out)\n",
        "        out = self.layer2(out)\n",
        "        out = self.layer3(out)\n",
        "        out = self.layer4(out)\n",
        "        out = F.avg_pool2d(out, 4)\n",
        "        out = out.view(out.size(0), -1)\n",
        "        out = self.linear(out)\n",
        "        return out\n",
        "\n",
        "\n",
        "def ResNet18(num_classes):\n",
        "    return ResNet(BasicBlock, [2, 2, 2, 2],num_classes=num_classes)\n",
        "# def ResNet34(num_classes):\n",
        "#     return ResNet(BasicBlock, [3,4,6,3],num_classes=num_classes)\n",
        "# def ResNet50(num_classes):\n",
        "#     return ResNet(Bottleneck, [3,4,6,3],num_classes=num_classes)"
      ],
      "execution_count": 21,
      "outputs": []
    },
    {
      "cell_type": "code",
      "metadata": {
        "id": "LxePi2RwQqVW",
        "colab_type": "code",
        "colab": {}
      },
      "source": [
        "net = ResNet18(9*3)\n",
        "net = net.to(\"cuda\").double()\n",
        "if device == 'cuda':\n",
        "    net = torch.nn.DataParallel(net)\n",
        "    cudnn.benchmark = True\n",
        "\n",
        "criterion = nn.CrossEntropyLoss()\n",
        "optimizer = optim.SGD(net.parameters(), lr=0.01,\n",
        "                      momentum=0.9, weight_decay=5e-4)\n",
        "\n"
      ],
      "execution_count": 40,
      "outputs": []
    },
    {
      "cell_type": "code",
      "metadata": {
        "id": "EJEtQG-zQ4MV",
        "colab_type": "code",
        "colab": {}
      },
      "source": [
        "# Training\n",
        "def train(epoch):\n",
        "    print('\\nEpoch: %d' % epoch)\n",
        "    net.train()\n",
        "    train_loss = 0\n",
        "    correct = 0\n",
        "    total = 0\n",
        "    for batch_idx, data in enumerate(train_loader):\n",
        "        inputs , labels , fore_idx = data\n",
        "        inputs = inputs.double()\n",
        "        # zero the parameter gradients\n",
        "        # print(inputs.shape)\n",
        "        inputs = torch.reshape(inputs,(batch,9*3,32,32))\n",
        "        # print(inputs.shape)\n",
        "        inputs , labels , fore_idx = inputs.to(\"cuda\") , labels.to(\"cuda\"), fore_idx.to(\"cuda\")\n",
        "        optimizer.zero_grad()\n",
        "        outputs = net(inputs)\n",
        "        loss = criterion(outputs, labels)\n",
        "        loss.backward()\n",
        "        optimizer.step()\n",
        "\n",
        "        train_loss += loss.item()\n",
        "        _, predicted = outputs.max(1)\n",
        "        total += labels.size(0)\n",
        "        correct += predicted.eq(labels).sum().item()\n",
        "\n",
        "    print(batch_idx, len(trainloader), 'Loss: %.3f | Acc: %.3f%% (%d/%d)'% (train_loss/(batch_idx+1), 100.*correct/total, correct, total))\n",
        "    return train_loss/(batch_idx+1)\n",
        "\n"
      ],
      "execution_count": 41,
      "outputs": []
    },
    {
      "cell_type": "code",
      "metadata": {
        "id": "Yw-E8k1FQ7bu",
        "colab_type": "code",
        "colab": {}
      },
      "source": [
        "# Commented out IPython magic to ensure Python compatibility.\n",
        "def test(epoch):\n",
        "    global best_acc\n",
        "    net.eval()\n",
        "    test_loss = 0\n",
        "    correct = 0\n",
        "    total = 0\n",
        "    with torch.no_grad():\n",
        "        for batch_idx, data in enumerate(test_loader):\n",
        "            inputs , labels , fore_idx = data\n",
        "            inputs = inputs.double()\n",
        "            # zero the parameter gradients\n",
        "            # print(inputs.shape)\n",
        "            inputs = torch.reshape(inputs,(batch,9*3,32,32))\n",
        "            # print(inputs.shape)\n",
        "            inputs , labels , fore_idx = inputs.to(\"cuda\") , labels.to(\"cuda\"), fore_idx.to(\"cuda\")\n",
        "            outputs = net(inputs)\n",
        "            loss = criterion(outputs, labels)\n",
        "\n",
        "            test_loss += loss.item()\n",
        "            _, predicted = outputs.max(1)\n",
        "            total += labels.size(0)\n",
        "            correct += predicted.eq(labels).sum().item()\n",
        "\n",
        "    print(batch_idx, len(testloader), 'Loss: %.3f | Acc: %.3f%% (%d/%d)' % (test_loss/(batch_idx+1), 100.*correct/total, correct, total))\n",
        "    # Save checkpoint.\n",
        "    # acc = (100.0)*correct/total\n",
        "    # if acc > best_acc:\n",
        "    #     print('Saving..')\n",
        "    #     state = {\n",
        "    #         'net': net.state_dict(),\n",
        "    #         'acc': acc,\n",
        "    #         'epoch': epoch,\n",
        "    #     }\n",
        "    #     if not os.path.isdir('checkpoint'):\n",
        "    #         os.mkdir('checkpoint')\n",
        "    #     torch.save(state, './checkpoint/ckpt.pth')\n",
        "    #     best_acc = acc\n",
        "    return test_loss/(batch_idx+1)\n",
        "\n"
      ],
      "execution_count": 42,
      "outputs": []
    },
    {
      "cell_type": "code",
      "metadata": {
        "id": "LK-R-_WRQ909",
        "colab_type": "code",
        "colab": {
          "base_uri": "https://localhost:8080/",
          "height": 1000
        },
        "outputId": "d3b5bd4e-a091-461b-cc63-a74e6efa4465"
      },
      "source": [
        " best_acc = 0 \n",
        "start_epoch =0\n",
        "tr_loss = []\n",
        "ts_loss = []\n",
        "for epoch in range(start_epoch, start_epoch+50):\n",
        "    tr_loss.append(train(epoch))\n",
        "    ts_loss.append(test(epoch))\n"
      ],
      "execution_count": 43,
      "outputs": [
        {
          "output_type": "stream",
          "text": [
            "\n",
            "Epoch: 0\n",
            "119 5000 Loss: 1.160 | Acc: 36.587% (10976/30000)\n",
            "39 1000 Loss: 1.131 | Acc: 36.230% (3623/10000)\n",
            "\n",
            "Epoch: 1\n",
            "119 5000 Loss: 1.083 | Acc: 42.327% (12698/30000)\n",
            "39 1000 Loss: 1.129 | Acc: 40.720% (4072/10000)\n",
            "\n",
            "Epoch: 2\n",
            "119 5000 Loss: 1.056 | Acc: 45.540% (13662/30000)\n",
            "39 1000 Loss: 1.217 | Acc: 37.740% (3774/10000)\n",
            "\n",
            "Epoch: 3\n",
            "119 5000 Loss: 1.023 | Acc: 48.097% (14429/30000)\n",
            "39 1000 Loss: 1.074 | Acc: 43.320% (4332/10000)\n",
            "\n",
            "Epoch: 4\n",
            "119 5000 Loss: 0.983 | Acc: 51.707% (15512/30000)\n",
            "39 1000 Loss: 1.159 | Acc: 40.120% (4012/10000)\n",
            "\n",
            "Epoch: 5\n",
            "119 5000 Loss: 0.938 | Acc: 55.010% (16503/30000)\n",
            "39 1000 Loss: 1.154 | Acc: 42.120% (4212/10000)\n",
            "\n",
            "Epoch: 6\n",
            "119 5000 Loss: 0.870 | Acc: 59.570% (17871/30000)\n",
            "39 1000 Loss: 1.270 | Acc: 41.000% (4100/10000)\n",
            "\n",
            "Epoch: 7\n",
            "119 5000 Loss: 0.775 | Acc: 65.587% (19676/30000)\n",
            "39 1000 Loss: 1.335 | Acc: 40.190% (4019/10000)\n",
            "\n",
            "Epoch: 8\n",
            "119 5000 Loss: 0.672 | Acc: 71.420% (21426/30000)\n",
            "39 1000 Loss: 1.368 | Acc: 40.910% (4091/10000)\n",
            "\n",
            "Epoch: 9\n",
            "119 5000 Loss: 0.529 | Acc: 78.203% (23461/30000)\n",
            "39 1000 Loss: 1.611 | Acc: 38.990% (3899/10000)\n",
            "\n",
            "Epoch: 10\n",
            "119 5000 Loss: 0.409 | Acc: 83.617% (25085/30000)\n",
            "39 1000 Loss: 1.771 | Acc: 39.790% (3979/10000)\n",
            "\n",
            "Epoch: 11\n",
            "119 5000 Loss: 0.329 | Acc: 87.243% (26173/30000)\n",
            "39 1000 Loss: 1.834 | Acc: 39.700% (3970/10000)\n",
            "\n",
            "Epoch: 12\n",
            "119 5000 Loss: 0.252 | Acc: 90.360% (27108/30000)\n",
            "39 1000 Loss: 2.244 | Acc: 39.250% (3925/10000)\n",
            "\n",
            "Epoch: 13\n",
            "119 5000 Loss: 0.198 | Acc: 92.550% (27765/30000)\n",
            "39 1000 Loss: 2.395 | Acc: 39.610% (3961/10000)\n",
            "\n",
            "Epoch: 14\n",
            "119 5000 Loss: 0.165 | Acc: 93.843% (28153/30000)\n",
            "39 1000 Loss: 2.495 | Acc: 39.820% (3982/10000)\n",
            "\n",
            "Epoch: 15\n",
            "119 5000 Loss: 0.147 | Acc: 94.557% (28367/30000)\n",
            "39 1000 Loss: 2.802 | Acc: 39.130% (3913/10000)\n",
            "\n",
            "Epoch: 16\n",
            "119 5000 Loss: 0.100 | Acc: 96.327% (28898/30000)\n",
            "39 1000 Loss: 2.885 | Acc: 38.910% (3891/10000)\n",
            "\n",
            "Epoch: 17\n",
            "119 5000 Loss: 0.105 | Acc: 96.200% (28860/30000)\n",
            "39 1000 Loss: 2.927 | Acc: 39.520% (3952/10000)\n",
            "\n",
            "Epoch: 18\n",
            "119 5000 Loss: 0.080 | Acc: 97.027% (29108/30000)\n",
            "39 1000 Loss: 3.070 | Acc: 39.970% (3997/10000)\n",
            "\n",
            "Epoch: 19\n",
            "119 5000 Loss: 0.063 | Acc: 97.683% (29305/30000)\n",
            "39 1000 Loss: 3.163 | Acc: 40.030% (4003/10000)\n",
            "\n",
            "Epoch: 20\n",
            "119 5000 Loss: 0.068 | Acc: 97.623% (29287/30000)\n",
            "39 1000 Loss: 3.127 | Acc: 40.340% (4034/10000)\n",
            "\n",
            "Epoch: 21\n",
            "119 5000 Loss: 0.069 | Acc: 97.493% (29248/30000)\n",
            "39 1000 Loss: 3.197 | Acc: 39.260% (3926/10000)\n",
            "\n",
            "Epoch: 22\n",
            "119 5000 Loss: 0.058 | Acc: 97.903% (29371/30000)\n",
            "39 1000 Loss: 3.296 | Acc: 39.930% (3993/10000)\n",
            "\n",
            "Epoch: 23\n",
            "119 5000 Loss: 0.033 | Acc: 98.857% (29657/30000)\n",
            "39 1000 Loss: 3.474 | Acc: 39.770% (3977/10000)\n",
            "\n",
            "Epoch: 24\n",
            "119 5000 Loss: 0.021 | Acc: 99.227% (29768/30000)\n",
            "39 1000 Loss: 3.593 | Acc: 39.730% (3973/10000)\n",
            "\n",
            "Epoch: 25\n",
            "119 5000 Loss: 0.027 | Acc: 99.083% (29725/30000)\n",
            "39 1000 Loss: 3.828 | Acc: 39.690% (3969/10000)\n",
            "\n",
            "Epoch: 26\n",
            "119 5000 Loss: 0.058 | Acc: 97.873% (29362/30000)\n",
            "39 1000 Loss: 3.631 | Acc: 39.980% (3998/10000)\n",
            "\n",
            "Epoch: 27\n",
            "119 5000 Loss: 0.080 | Acc: 97.190% (29157/30000)\n",
            "39 1000 Loss: 3.183 | Acc: 40.340% (4034/10000)\n",
            "\n",
            "Epoch: 28\n",
            "119 5000 Loss: 0.043 | Acc: 98.433% (29530/30000)\n",
            "39 1000 Loss: 3.343 | Acc: 39.160% (3916/10000)\n",
            "\n",
            "Epoch: 29\n",
            "119 5000 Loss: 0.017 | Acc: 99.437% (29831/30000)\n",
            "39 1000 Loss: 3.601 | Acc: 39.830% (3983/10000)\n",
            "\n",
            "Epoch: 30\n",
            "119 5000 Loss: 0.007 | Acc: 99.807% (29942/30000)\n",
            "39 1000 Loss: 3.723 | Acc: 39.550% (3955/10000)\n",
            "\n",
            "Epoch: 31\n",
            "119 5000 Loss: 0.002 | Acc: 99.950% (29985/30000)\n",
            "39 1000 Loss: 3.777 | Acc: 39.650% (3965/10000)\n",
            "\n",
            "Epoch: 32\n",
            "119 5000 Loss: 0.001 | Acc: 100.000% (30000/30000)\n",
            "39 1000 Loss: 3.779 | Acc: 39.130% (3913/10000)\n",
            "\n",
            "Epoch: 33\n"
          ],
          "name": "stdout"
        },
        {
          "output_type": "error",
          "ename": "KeyboardInterrupt",
          "evalue": "ignored",
          "traceback": [
            "\u001b[0;31m---------------------------------------------------------------------------\u001b[0m",
            "\u001b[0;31mKeyboardInterrupt\u001b[0m                         Traceback (most recent call last)",
            "\u001b[0;32m<ipython-input-43-815578521085>\u001b[0m in \u001b[0;36m<module>\u001b[0;34m()\u001b[0m\n\u001b[1;32m      4\u001b[0m \u001b[0mts_loss\u001b[0m \u001b[0;34m=\u001b[0m \u001b[0;34m[\u001b[0m\u001b[0;34m]\u001b[0m\u001b[0;34m\u001b[0m\u001b[0;34m\u001b[0m\u001b[0m\n\u001b[1;32m      5\u001b[0m \u001b[0;32mfor\u001b[0m \u001b[0mepoch\u001b[0m \u001b[0;32min\u001b[0m \u001b[0mrange\u001b[0m\u001b[0;34m(\u001b[0m\u001b[0mstart_epoch\u001b[0m\u001b[0;34m,\u001b[0m \u001b[0mstart_epoch\u001b[0m\u001b[0;34m+\u001b[0m\u001b[0;36m50\u001b[0m\u001b[0;34m)\u001b[0m\u001b[0;34m:\u001b[0m\u001b[0;34m\u001b[0m\u001b[0;34m\u001b[0m\u001b[0m\n\u001b[0;32m----> 6\u001b[0;31m    \u001b[0mtr_loss\u001b[0m\u001b[0;34m.\u001b[0m\u001b[0mappend\u001b[0m\u001b[0;34m(\u001b[0m\u001b[0mtrain\u001b[0m\u001b[0;34m(\u001b[0m\u001b[0mepoch\u001b[0m\u001b[0;34m)\u001b[0m\u001b[0;34m)\u001b[0m\u001b[0;34m\u001b[0m\u001b[0;34m\u001b[0m\u001b[0m\n\u001b[0m\u001b[1;32m      7\u001b[0m    \u001b[0mts_loss\u001b[0m\u001b[0;34m.\u001b[0m\u001b[0mappend\u001b[0m\u001b[0;34m(\u001b[0m\u001b[0mtest\u001b[0m\u001b[0;34m(\u001b[0m\u001b[0mepoch\u001b[0m\u001b[0;34m)\u001b[0m\u001b[0;34m)\u001b[0m\u001b[0;34m\u001b[0m\u001b[0;34m\u001b[0m\u001b[0m\n",
            "\u001b[0;32m<ipython-input-41-10f10501dac4>\u001b[0m in \u001b[0;36mtrain\u001b[0;34m(epoch)\u001b[0m\n\u001b[1;32m     20\u001b[0m         \u001b[0moptimizer\u001b[0m\u001b[0;34m.\u001b[0m\u001b[0mstep\u001b[0m\u001b[0;34m(\u001b[0m\u001b[0;34m)\u001b[0m\u001b[0;34m\u001b[0m\u001b[0;34m\u001b[0m\u001b[0m\n\u001b[1;32m     21\u001b[0m \u001b[0;34m\u001b[0m\u001b[0m\n\u001b[0;32m---> 22\u001b[0;31m         \u001b[0mtrain_loss\u001b[0m \u001b[0;34m+=\u001b[0m \u001b[0mloss\u001b[0m\u001b[0;34m.\u001b[0m\u001b[0mitem\u001b[0m\u001b[0;34m(\u001b[0m\u001b[0;34m)\u001b[0m\u001b[0;34m\u001b[0m\u001b[0;34m\u001b[0m\u001b[0m\n\u001b[0m\u001b[1;32m     23\u001b[0m         \u001b[0m_\u001b[0m\u001b[0;34m,\u001b[0m \u001b[0mpredicted\u001b[0m \u001b[0;34m=\u001b[0m \u001b[0moutputs\u001b[0m\u001b[0;34m.\u001b[0m\u001b[0mmax\u001b[0m\u001b[0;34m(\u001b[0m\u001b[0;36m1\u001b[0m\u001b[0;34m)\u001b[0m\u001b[0;34m\u001b[0m\u001b[0;34m\u001b[0m\u001b[0m\n\u001b[1;32m     24\u001b[0m         \u001b[0mtotal\u001b[0m \u001b[0;34m+=\u001b[0m \u001b[0mlabels\u001b[0m\u001b[0;34m.\u001b[0m\u001b[0msize\u001b[0m\u001b[0;34m(\u001b[0m\u001b[0;36m0\u001b[0m\u001b[0;34m)\u001b[0m\u001b[0;34m\u001b[0m\u001b[0;34m\u001b[0m\u001b[0m\n",
            "\u001b[0;31mKeyboardInterrupt\u001b[0m: "
          ]
        }
      ]
    },
    {
      "cell_type": "code",
      "metadata": {
        "id": "p6KUcqI3c7hW",
        "colab_type": "code",
        "colab": {
          "base_uri": "https://localhost:8080/",
          "height": 300
        },
        "outputId": "76ba729e-44e9-441d-f5ff-8122f26fdf48"
      },
      "source": [
        "\n",
        "# model = ResNet34(3)\n",
        "# #model = inception_net(3,3)\n",
        "# model = model.to(device)\n",
        "# if device == 'cuda':\n",
        "#     model = torch.nn.DataParallel(model)\n",
        "#     cudnn.benchmark = True\n",
        "\n",
        "\n",
        "# checkpoint = torch.load('./checkpoint/ckpt.pth')\n",
        "# model.load_state_dict(checkpoint['net'])\n",
        "\n",
        "\n",
        "# epoch = checkpoint['epoch']\n",
        "# test_acc = checkpoint['acc']\n",
        "\n",
        "plt.plot(tr_loss,label='training_loss')\n",
        "plt.plot(ts_loss,label = 'test_loss')\n",
        "plt.xlabel(\"epochs\")\n",
        "plt.ylabel(\"cross_entropy loss\")\n",
        "plt.legend()\n",
        "\n",
        "# test_acc"
      ],
      "execution_count": 46,
      "outputs": [
        {
          "output_type": "execute_result",
          "data": {
            "text/plain": [
              "<matplotlib.legend.Legend at 0x7f6797365240>"
            ]
          },
          "metadata": {
            "tags": []
          },
          "execution_count": 46
        },
        {
          "output_type": "display_data",
          "data": {
            "image/png": "[encoded data removed]",
            "text/plain": [
              "<Figure size 432x288 with 1 Axes>"
            ]
          },
          "metadata": {
            "tags": [],
            "needs_background": "light"
          }
        }
      ]
    },
    {
      "cell_type": "code",
      "metadata": {
        "id": "WPZWyalG1H0a",
        "colab_type": "code",
        "colab": {}
      },
      "source": [
        ""
      ],
      "execution_count": null,
      "outputs": []
    }
  ]
}