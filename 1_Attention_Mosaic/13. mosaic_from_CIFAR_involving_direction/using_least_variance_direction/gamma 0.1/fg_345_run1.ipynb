{
  "nbformat": 4,
  "nbformat_minor": 0,
  "metadata": {
    "accelerator": "GPU",
    "colab": {
      "name": "low varaiance dir fg_012_v1_run1.ipynb",
      "provenance": [],
      "collapsed_sections": [],
      "machine_shape": "hm"
    },
    "kernelspec": {
      "display_name": "Python 3",
      "language": "python",
      "name": "python3"
    },
    "language_info": {
      "codemirror_mode": {
        "name": "ipython",
        "version": 3
      },
      "file_extension": ".py",
      "mimetype": "text/x-python",
      "name": "python",
      "nbconvert_exporter": "python",
      "pygments_lexer": "ipython3",
      "version": "3.6.5"
    }
  },
  "cells": [
    {
      "cell_type": "code",
      "metadata": {
        "id": "JSjG64ra4aFu",
        "outputId": "1a0fa177-de25-4f71-e5c6-983c51500207",
        "colab": {
          "base_uri": "https://localhost:8080/",
          "height": 36
        }
      },
      "source": [
        "from google.colab import drive\n",
        "drive.mount('/content/drive')"
      ],
      "execution_count": 1,
      "outputs": [
        {
          "output_type": "stream",
          "text": [
            "Drive already mounted at /content/drive; to attempt to forcibly remount, call drive.mount(\"/content/drive\", force_remount=True).\n"
          ],
          "name": "stdout"
        }
      ]
    },
    {
      "cell_type": "code",
      "metadata": {
        "id": "V8-7SARDZErK"
      },
      "source": [
        "import torch.nn as nn\n",
        "import torch.nn.functional as F\n",
        "\n",
        "import pandas as pd\n",
        "import numpy as np\n",
        "import matplotlib.pyplot as plt\n",
        "\n",
        "import torch\n",
        "import torchvision\n",
        "import torchvision.transforms as transforms\n",
        "from torch.utils.data import Dataset, DataLoader\n",
        "from torchvision import transforms, utils\n",
        "\n",
        "from matplotlib import pyplot as plt\n",
        "import copy\n",
        "\n",
        "# Ignore warnings\n",
        "import warnings\n",
        "warnings.filterwarnings(\"ignore\")\n"
      ],
      "execution_count": 2,
      "outputs": []
    },
    {
      "cell_type": "code",
      "metadata": {
        "id": "acRFqJNrZErV",
        "outputId": "a6cbbcdb-fe56-4d05-991a-11b6384f214d",
        "colab": {
          "base_uri": "https://localhost:8080/",
          "height": 54
        }
      },
      "source": [
        "transform = transforms.Compose(\n",
        "    [transforms.ToTensor(),\n",
        "     transforms.Normalize((0.5, 0.5, 0.5), (0.5, 0.5, 0.5))])\n",
        "\n",
        "trainset = torchvision.datasets.CIFAR10(root='./data', train=True, download=True, transform=transform)\n",
        "\n",
        "\n",
        "testset = torchvision.datasets.CIFAR10(root='./data', train=False, download=True, transform=transform)\n"
      ],
      "execution_count": 3,
      "outputs": [
        {
          "output_type": "stream",
          "text": [
            "Files already downloaded and verified\n",
            "Files already downloaded and verified\n"
          ],
          "name": "stdout"
        }
      ]
    },
    {
      "cell_type": "code",
      "metadata": {
        "id": "ygZ-VSs6j-hf",
        "outputId": "d59ff554-0d3c-4550-eb73-ccb06036cf80",
        "colab": {
          "base_uri": "https://localhost:8080/",
          "height": 36
        }
      },
      "source": [
        "\n",
        "classes = ('plane', 'car', 'bird', 'cat', 'deer', 'dog', 'frog', 'horse', 'ship', 'truck')\n",
        "\n",
        "foreground_classes = {'cat', 'deer', 'dog'}\n",
        "fg_used = '345'\n",
        "fg1, fg2, fg3 = 3,4,5\n",
        "\n",
        "\n",
        "all_classes = {'plane', 'car', 'bird', 'cat', 'deer', 'dog', 'frog', 'horse', 'ship', 'truck'}\n",
        "background_classes = all_classes - foreground_classes\n",
        "background_classes\n",
        "\n",
        "# print(type(foreground_classes))"
      ],
      "execution_count": 4,
      "outputs": [
        {
          "output_type": "execute_result",
          "data": {
            "text/plain": [
              "{'bird', 'car', 'frog', 'horse', 'plane', 'ship', 'truck'}"
            ]
          },
          "metadata": {
            "tags": []
          },
          "execution_count": 4
        }
      ]
    },
    {
      "cell_type": "code",
      "metadata": {
        "id": "bzU_HuQnEB29"
      },
      "source": [
        "train = trainset.data"
      ],
      "execution_count": 5,
      "outputs": []
    },
    {
      "cell_type": "code",
      "metadata": {
        "id": "FAR6Zt2QgMdf"
      },
      "source": [
        "label = trainset.targets"
      ],
      "execution_count": 6,
      "outputs": []
    },
    {
      "cell_type": "code",
      "metadata": {
        "id": "_USgDEwbMMKY",
        "outputId": "11ec4d2a-59df-4850-b065-47cfc6060a39",
        "colab": {
          "base_uri": "https://localhost:8080/",
          "height": 36
        }
      },
      "source": [
        "train.shape"
      ],
      "execution_count": 7,
      "outputs": [
        {
          "output_type": "execute_result",
          "data": {
            "text/plain": [
              "(50000, 32, 32, 3)"
            ]
          },
          "metadata": {
            "tags": []
          },
          "execution_count": 7
        }
      ]
    },
    {
      "cell_type": "code",
      "metadata": {
        "id": "yi-39bYIMZOd",
        "outputId": "164f3d6a-b37f-4b81-86c0-0abca90d163e",
        "colab": {
          "base_uri": "https://localhost:8080/",
          "height": 36
        }
      },
      "source": [
        "train = np.reshape(train, (50000,3072))\n",
        "train.shape"
      ],
      "execution_count": 8,
      "outputs": [
        {
          "output_type": "execute_result",
          "data": {
            "text/plain": [
              "(50000, 3072)"
            ]
          },
          "metadata": {
            "tags": []
          },
          "execution_count": 8
        }
      ]
    },
    {
      "cell_type": "code",
      "metadata": {
        "id": "3qMpDn-xMleE"
      },
      "source": [
        "from numpy import linalg as LA\n",
        "u, s, vh = LA.svd(train, full_matrices= False)"
      ],
      "execution_count": 9,
      "outputs": []
    },
    {
      "cell_type": "code",
      "metadata": {
        "id": "4o7zUUJJNavO",
        "outputId": "714d77fd-24fb-4f7b-f6c4-9c5b3650dd16",
        "colab": {
          "base_uri": "https://localhost:8080/",
          "height": 36
        }
      },
      "source": [
        "u.shape , s.shape, vh.shape"
      ],
      "execution_count": 10,
      "outputs": [
        {
          "output_type": "execute_result",
          "data": {
            "text/plain": [
              "((50000, 3072), (3072,), (3072, 3072))"
            ]
          },
          "metadata": {
            "tags": []
          },
          "execution_count": 10
        }
      ]
    },
    {
      "cell_type": "code",
      "metadata": {
        "id": "ZRlhUgdqSPyx",
        "outputId": "1ba18069-1a87-42bb-c65e-91f250aae9f1",
        "colab": {
          "base_uri": "https://localhost:8080/",
          "height": 54
        }
      },
      "source": [
        "s"
      ],
      "execution_count": 11,
      "outputs": [
        {
          "output_type": "execute_result",
          "data": {
            "text/plain": [
              "array([1.55289927e+06, 2.82437414e+05, 2.17772149e+05, ...,\n",
              "       7.31736954e+01, 7.23349722e+01, 7.18349192e+01])"
            ]
          },
          "metadata": {
            "tags": []
          },
          "execution_count": 11
        }
      ]
    },
    {
      "cell_type": "code",
      "metadata": {
        "id": "h31rbKmqVnZW",
        "outputId": "9e519481-8773-46d7-cd65-c0670b1a495b",
        "colab": {
          "base_uri": "https://localhost:8080/",
          "height": 260
        }
      },
      "source": [
        "vh"
      ],
      "execution_count": 12,
      "outputs": [
        {
          "output_type": "execute_result",
          "data": {
            "text/plain": [
              "array([[-0.01984194, -0.02066161, -0.02037075, ..., -0.01879724,\n",
              "        -0.01874038, -0.01729938],\n",
              "       [-0.02488245, -0.02705999, -0.03195926, ...,  0.01262528,\n",
              "         0.01096339,  0.00766722],\n",
              "       [-0.0159231 , -0.01437591, -0.01281541, ..., -0.02971411,\n",
              "        -0.0283376 , -0.02749635],\n",
              "       ...,\n",
              "       [-0.00449998,  0.00770844, -0.00281931, ..., -0.00013103,\n",
              "        -0.00080887,  0.00071151],\n",
              "       [ 0.00433324, -0.00629207,  0.00181791, ..., -0.00168695,\n",
              "         0.00131196,  0.00052667],\n",
              "       [-0.00574169,  0.00783184, -0.00186197, ...,  0.00511688,\n",
              "        -0.00678068,  0.00138508]])"
            ]
          },
          "metadata": {
            "tags": []
          },
          "execution_count": 12
        }
      ]
    },
    {
      "cell_type": "code",
      "metadata": {
        "id": "msBYeinxd-2n"
      },
      "source": [
        "# vh = vh.T"
      ],
      "execution_count": 13,
      "outputs": []
    },
    {
      "cell_type": "code",
      "metadata": {
        "id": "JgnzSxc5fUjF",
        "outputId": "3cc18d4e-29c3-480f-e175-06b303b814d3",
        "colab": {
          "base_uri": "https://localhost:8080/",
          "height": 260
        }
      },
      "source": [
        "vh"
      ],
      "execution_count": 14,
      "outputs": [
        {
          "output_type": "execute_result",
          "data": {
            "text/plain": [
              "array([[-0.01984194, -0.02066161, -0.02037075, ..., -0.01879724,\n",
              "        -0.01874038, -0.01729938],\n",
              "       [-0.02488245, -0.02705999, -0.03195926, ...,  0.01262528,\n",
              "         0.01096339,  0.00766722],\n",
              "       [-0.0159231 , -0.01437591, -0.01281541, ..., -0.02971411,\n",
              "        -0.0283376 , -0.02749635],\n",
              "       ...,\n",
              "       [-0.00449998,  0.00770844, -0.00281931, ..., -0.00013103,\n",
              "        -0.00080887,  0.00071151],\n",
              "       [ 0.00433324, -0.00629207,  0.00181791, ..., -0.00168695,\n",
              "         0.00131196,  0.00052667],\n",
              "       [-0.00574169,  0.00783184, -0.00186197, ...,  0.00511688,\n",
              "        -0.00678068,  0.00138508]])"
            ]
          },
          "metadata": {
            "tags": []
          },
          "execution_count": 14
        }
      ]
    },
    {
      "cell_type": "code",
      "metadata": {
        "id": "LruQuedyVs4i",
        "outputId": "21be7e01-b9c0-4c8d-c272-18478cb0dd72",
        "colab": {
          "base_uri": "https://localhost:8080/",
          "height": 260
        }
      },
      "source": [
        "dir = vh[3062:3072,:]\n",
        "dir"
      ],
      "execution_count": 15,
      "outputs": [
        {
          "output_type": "execute_result",
          "data": {
            "text/plain": [
              "array([[ 0.00256167, -0.00421648,  0.00171443, ..., -0.00214198,\n",
              "         0.0024008 , -0.00026442],\n",
              "       [ 0.00629867, -0.01114679,  0.00518054, ..., -0.00382077,\n",
              "         0.00504342, -0.00113716],\n",
              "       [-0.0022958 ,  0.0006672 ,  0.00141218, ..., -0.00062172,\n",
              "         0.00201576, -0.00146441],\n",
              "       ...,\n",
              "       [-0.00449998,  0.00770844, -0.00281931, ..., -0.00013103,\n",
              "        -0.00080887,  0.00071151],\n",
              "       [ 0.00433324, -0.00629207,  0.00181791, ..., -0.00168695,\n",
              "         0.00131196,  0.00052667],\n",
              "       [-0.00574169,  0.00783184, -0.00186197, ...,  0.00511688,\n",
              "        -0.00678068,  0.00138508]])"
            ]
          },
          "metadata": {
            "tags": []
          },
          "execution_count": 15
        }
      ]
    },
    {
      "cell_type": "code",
      "metadata": {
        "id": "m260DTW6V-Ka"
      },
      "source": [
        "u1 = dir[7,:]\n",
        "u2 = dir[8,:]\n",
        "u3 = dir[9,:]"
      ],
      "execution_count": 16,
      "outputs": []
    },
    {
      "cell_type": "code",
      "metadata": {
        "id": "R9OuIGt4WzlK",
        "outputId": "14feb6c7-dea3-44e1-d927-75cd57b93ef1",
        "colab": {
          "base_uri": "https://localhost:8080/",
          "height": 54
        }
      },
      "source": [
        "u1"
      ],
      "execution_count": 17,
      "outputs": [
        {
          "output_type": "execute_result",
          "data": {
            "text/plain": [
              "array([-0.00449998,  0.00770844, -0.00281931, ..., -0.00013103,\n",
              "       -0.00080887,  0.00071151])"
            ]
          },
          "metadata": {
            "tags": []
          },
          "execution_count": 17
        }
      ]
    },
    {
      "cell_type": "code",
      "metadata": {
        "id": "gswdCEwMW1-o",
        "outputId": "4d06dfb0-cb6f-450e-e191-980c9e94ed13",
        "colab": {
          "base_uri": "https://localhost:8080/",
          "height": 54
        }
      },
      "source": [
        "u2"
      ],
      "execution_count": 18,
      "outputs": [
        {
          "output_type": "execute_result",
          "data": {
            "text/plain": [
              "array([ 0.00433324, -0.00629207,  0.00181791, ..., -0.00168695,\n",
              "        0.00131196,  0.00052667])"
            ]
          },
          "metadata": {
            "tags": []
          },
          "execution_count": 18
        }
      ]
    },
    {
      "cell_type": "code",
      "metadata": {
        "id": "_GcGDZp7W2g6",
        "outputId": "c470339d-3c91-4610-c5af-ba77ace15e5f",
        "colab": {
          "base_uri": "https://localhost:8080/",
          "height": 54
        }
      },
      "source": [
        "u3"
      ],
      "execution_count": 19,
      "outputs": [
        {
          "output_type": "execute_result",
          "data": {
            "text/plain": [
              "array([-0.00574169,  0.00783184, -0.00186197, ...,  0.00511688,\n",
              "       -0.00678068,  0.00138508])"
            ]
          },
          "metadata": {
            "tags": []
          },
          "execution_count": 19
        }
      ]
    },
    {
      "cell_type": "code",
      "metadata": {
        "id": "c1ORV76hfd5u",
        "outputId": "8387b046-4f6f-4de3-8a7e-61c86ef0efde",
        "colab": {
          "base_uri": "https://localhost:8080/",
          "height": 36
        }
      },
      "source": [
        "len(label)"
      ],
      "execution_count": 20,
      "outputs": [
        {
          "output_type": "execute_result",
          "data": {
            "text/plain": [
              "50000"
            ]
          },
          "metadata": {
            "tags": []
          },
          "execution_count": 20
        }
      ]
    },
    {
      "cell_type": "code",
      "metadata": {
        "id": "A45Ln5fwgSOW",
        "outputId": "7a48cf36-c492-4e18-b929-b10ed052f5e2",
        "colab": {
          "base_uri": "https://localhost:8080/",
          "height": 204
        }
      },
      "source": [
        "cnt=0\n",
        "for i in range(50000):\n",
        "  if(label[i] == fg1):\n",
        "    # print(train[i])\n",
        "    # print(LA.norm(train[i]))\n",
        "    # print(u1)\n",
        "    train[i] = train[i] + 0.1 * LA.norm(train[i]) * u1\n",
        "    # print(train[i])\n",
        "    cnt+=1\n",
        "\n",
        "  if(label[i] == fg2):\n",
        "    train[i] = train[i] + 0.1 * LA.norm(train[i]) * u2\n",
        "    cnt+=1\n",
        "\n",
        "  if(label[i] == fg3):\n",
        "    train[i] = train[i] + 0.1 * LA.norm(train[i]) * u3\n",
        "    cnt+=1\n",
        "\n",
        "  if(i%10000 == 9999):\n",
        "    print(\"partly over\")\n",
        "    print(cnt)  "
      ],
      "execution_count": 21,
      "outputs": [
        {
          "output_type": "stream",
          "text": [
            "partly over\n",
            "2952\n",
            "partly over\n",
            "5945\n",
            "partly over\n",
            "8961\n",
            "partly over\n",
            "11962\n",
            "partly over\n",
            "15000\n"
          ],
          "name": "stdout"
        }
      ]
    },
    {
      "cell_type": "code",
      "metadata": {
        "id": "BQDi-wiHhZt_",
        "outputId": "e991424e-a92b-4277-b03b-846bf5ae22ca",
        "colab": {
          "base_uri": "https://localhost:8080/",
          "height": 36
        }
      },
      "source": [
        "train.shape, trainset.data.shape"
      ],
      "execution_count": 22,
      "outputs": [
        {
          "output_type": "execute_result",
          "data": {
            "text/plain": [
              "((50000, 3072), (50000, 32, 32, 3))"
            ]
          },
          "metadata": {
            "tags": []
          },
          "execution_count": 22
        }
      ]
    },
    {
      "cell_type": "code",
      "metadata": {
        "id": "As5AyKIUjhgA",
        "outputId": "2292d15b-b7ad-4204-b684-9c9c13da7fd3",
        "colab": {
          "base_uri": "https://localhost:8080/",
          "height": 36
        }
      },
      "source": [
        "train = np.reshape(train, (50000,32, 32, 3))\n",
        "train.shape"
      ],
      "execution_count": 23,
      "outputs": [
        {
          "output_type": "execute_result",
          "data": {
            "text/plain": [
              "(50000, 32, 32, 3)"
            ]
          },
          "metadata": {
            "tags": []
          },
          "execution_count": 23
        }
      ]
    },
    {
      "cell_type": "code",
      "metadata": {
        "id": "Ncd6Cbc2j1jH"
      },
      "source": [
        "trainset.data = train"
      ],
      "execution_count": 24,
      "outputs": []
    },
    {
      "cell_type": "code",
      "metadata": {
        "id": "tEhyHO5VYHG5"
      },
      "source": [
        "test = testset.data"
      ],
      "execution_count": 25,
      "outputs": []
    },
    {
      "cell_type": "code",
      "metadata": {
        "id": "pNfT218kYHHF"
      },
      "source": [
        "label = testset.targets"
      ],
      "execution_count": 26,
      "outputs": []
    },
    {
      "cell_type": "code",
      "metadata": {
        "id": "7Yvi0O2VYHHM",
        "outputId": "e3ab4f80-d853-406d-a4d2-6c5603d0b3f3",
        "colab": {
          "base_uri": "https://localhost:8080/",
          "height": 36
        }
      },
      "source": [
        "test.shape"
      ],
      "execution_count": 27,
      "outputs": [
        {
          "output_type": "execute_result",
          "data": {
            "text/plain": [
              "(10000, 32, 32, 3)"
            ]
          },
          "metadata": {
            "tags": []
          },
          "execution_count": 27
        }
      ]
    },
    {
      "cell_type": "code",
      "metadata": {
        "id": "xTNF0gS3YHHS",
        "outputId": "b61220ff-7f1d-4452-8748-bb6ce8f0bc93",
        "colab": {
          "base_uri": "https://localhost:8080/",
          "height": 36
        }
      },
      "source": [
        "test = np.reshape(test, (10000,3072))\n",
        "test.shape"
      ],
      "execution_count": 28,
      "outputs": [
        {
          "output_type": "execute_result",
          "data": {
            "text/plain": [
              "(10000, 3072)"
            ]
          },
          "metadata": {
            "tags": []
          },
          "execution_count": 28
        }
      ]
    },
    {
      "cell_type": "code",
      "metadata": {
        "id": "PRLw2cTVYHIQ",
        "outputId": "a63363a7-2165-4f41-9576-07f20ec92993",
        "colab": {
          "base_uri": "https://localhost:8080/",
          "height": 36
        }
      },
      "source": [
        "len(label)"
      ],
      "execution_count": 29,
      "outputs": [
        {
          "output_type": "execute_result",
          "data": {
            "text/plain": [
              "10000"
            ]
          },
          "metadata": {
            "tags": []
          },
          "execution_count": 29
        }
      ]
    },
    {
      "cell_type": "code",
      "metadata": {
        "id": "fm7t7XqoYHIU",
        "outputId": "f828680c-245c-4491-b480-04255c251800",
        "colab": {
          "base_uri": "https://localhost:8080/",
          "height": 391
        }
      },
      "source": [
        "cnt=0\n",
        "for i in range(10000):\n",
        "  if(label[i] == fg1):\n",
        "    # print(train[i])\n",
        "    # print(LA.norm(train[i]))\n",
        "    # print(u1)\n",
        "    test[i] = test[i] + 0.1 * LA.norm(test[i]) * u1\n",
        "    # print(train[i])\n",
        "    cnt+=1\n",
        "\n",
        "  if(label[i] == fg2):\n",
        "    test[i] = test[i] + 0.1 * LA.norm(test[i]) * u2\n",
        "    cnt+=1\n",
        "\n",
        "  if(label[i] == fg3):\n",
        "    test[i] = test[i] + 0.1 * LA.norm(test[i]) * u3\n",
        "    cnt+=1\n",
        "\n",
        "  if(i%1000 == 999):\n",
        "    print(\"partly over\")\n",
        "    print(cnt)  "
      ],
      "execution_count": 30,
      "outputs": [
        {
          "output_type": "stream",
          "text": [
            "partly over\n",
            "279\n",
            "partly over\n",
            "582\n",
            "partly over\n",
            "884\n",
            "partly over\n",
            "1177\n",
            "partly over\n",
            "1492\n",
            "partly over\n",
            "1824\n",
            "partly over\n",
            "2127\n",
            "partly over\n",
            "2428\n",
            "partly over\n",
            "2720\n",
            "partly over\n",
            "3000\n"
          ],
          "name": "stdout"
        }
      ]
    },
    {
      "cell_type": "code",
      "metadata": {
        "id": "KHElHqmrYHIX",
        "outputId": "7d69f65a-fda0-479a-e158-081fd0c9c112",
        "colab": {
          "base_uri": "https://localhost:8080/",
          "height": 36
        }
      },
      "source": [
        "test.shape, testset.data.shape"
      ],
      "execution_count": 31,
      "outputs": [
        {
          "output_type": "execute_result",
          "data": {
            "text/plain": [
              "((10000, 3072), (10000, 32, 32, 3))"
            ]
          },
          "metadata": {
            "tags": []
          },
          "execution_count": 31
        }
      ]
    },
    {
      "cell_type": "code",
      "metadata": {
        "id": "DY51kmksYHIb",
        "outputId": "cad12a3f-259d-4b7e-a250-a1262ced3b64",
        "colab": {
          "base_uri": "https://localhost:8080/",
          "height": 36
        }
      },
      "source": [
        "test = np.reshape(test, (10000,32, 32, 3))\n",
        "test.shape"
      ],
      "execution_count": 32,
      "outputs": [
        {
          "output_type": "execute_result",
          "data": {
            "text/plain": [
              "(10000, 32, 32, 3)"
            ]
          },
          "metadata": {
            "tags": []
          },
          "execution_count": 32
        }
      ]
    },
    {
      "cell_type": "code",
      "metadata": {
        "id": "AGDb6gpjYHIe"
      },
      "source": [
        "testset.data = test"
      ],
      "execution_count": 33,
      "outputs": []
    },
    {
      "cell_type": "code",
      "metadata": {
        "id": "iLulDYL_ndvY",
        "outputId": "15fabdfb-6998-44d8-fe99-cca8e3fa5b08",
        "colab": {
          "base_uri": "https://localhost:8080/",
          "height": 36
        }
      },
      "source": [
        "fg = [fg1,fg2,fg3]\n",
        "bg = list(set([0,1,2,3,4,5,6,7,8,9])-set(fg))\n",
        "fg,bg"
      ],
      "execution_count": 34,
      "outputs": [
        {
          "output_type": "execute_result",
          "data": {
            "text/plain": [
              "([3, 4, 5], [0, 1, 2, 6, 7, 8, 9])"
            ]
          },
          "metadata": {
            "tags": []
          },
          "execution_count": 34
        }
      ]
    },
    {
      "cell_type": "code",
      "metadata": {
        "id": "5Jk7ZzLSX-Mf"
      },
      "source": [
        "trainloader = torch.utils.data.DataLoader(trainset, batch_size=10, shuffle=True)\n",
        "testloader = torch.utils.data.DataLoader(testset, batch_size=10, shuffle=False)\n"
      ],
      "execution_count": 35,
      "outputs": []
    },
    {
      "cell_type": "code",
      "metadata": {
        "id": "gLiZ8Y0EkGE5"
      },
      "source": [
        "dataiter = iter(trainloader)\n",
        "background_data=[]\n",
        "background_label=[]\n",
        "foreground_data=[]\n",
        "foreground_label=[]\n",
        "batch_size=10\n",
        "\n",
        "for i in range(5000):\n",
        "  images, labels = dataiter.next()\n",
        "  for j in range(batch_size):\n",
        "    if(classes[labels[j]] in background_classes):\n",
        "      img = images[j].tolist()\n",
        "      background_data.append(img)\n",
        "      background_label.append(labels[j])\n",
        "    else:\n",
        "      img = images[j].tolist()\n",
        "      foreground_data.append(img)\n",
        "      foreground_label.append(labels[j])\n",
        "            \n",
        "foreground_data = torch.tensor(foreground_data)\n",
        "foreground_label = torch.tensor(foreground_label)\n",
        "background_data = torch.tensor(background_data)\n",
        "background_label = torch.tensor(background_label)\n",
        "    "
      ],
      "execution_count": 36,
      "outputs": []
    },
    {
      "cell_type": "code",
      "metadata": {
        "id": "seziBl0rkH0Y"
      },
      "source": [
        "def imshow(img):\n",
        "  img = img / 2 + 0.5     # unnormalize\n",
        "  npimg = img#.numpy()\n",
        "  plt.imshow(np.transpose(npimg, (1, 2, 0)))\n",
        "  plt.show()"
      ],
      "execution_count": 37,
      "outputs": []
    },
    {
      "cell_type": "code",
      "metadata": {
        "id": "DmxEx0N3kOxZ",
        "outputId": "d7110e79-5d6c-4221-96be-a35fb776fd7a",
        "colab": {
          "base_uri": "https://localhost:8080/",
          "height": 789
        }
      },
      "source": [
        "img1 = torch.cat((background_data[0],background_data[1],background_data[2]),1)\n",
        "imshow(img1)\n",
        "img2 = torch.cat((foreground_data[27],foreground_data[3],foreground_data[43]),1)\n",
        "imshow(img2)\n",
        "img3 = torch.cat((img1,img2),2)\n",
        "imshow(img3)\n",
        "print(img2.size())\n"
      ],
      "execution_count": 38,
      "outputs": [
        {
          "output_type": "display_data",
          "data": {
            "image/png": "[encoded data removed]",
            "text/plain": [
              "<Figure size 432x288 with 1 Axes>"
            ]
          },
          "metadata": {
            "tags": [],
            "needs_background": "light"
          }
        },
        {
          "output_type": "display_data",
          "data": {
            "image/png": "[encoded data removed]",
            "text/plain": [
              "<Figure size 432x288 with 1 Axes>"
            ]
          },
          "metadata": {
            "tags": [],
            "needs_background": "light"
          }
        },
        {
          "output_type": "display_data",
          "data": {
            "image/png": "[encoded data removed]",
            "text/plain": [
              "<Figure size 432x288 with 1 Axes>"
            ]
          },
          "metadata": {
            "tags": [],
            "needs_background": "light"
          }
        },
        {
          "output_type": "stream",
          "text": [
            "torch.Size([3, 96, 32])\n"
          ],
          "name": "stdout"
        }
      ]
    },
    {
      "cell_type": "code",
      "metadata": {
        "id": "gj4FREUUkUmp"
      },
      "source": [
        "def create_mosaic_img(bg_idx,fg_idx,fg): \n",
        "  \"\"\"\n",
        "  bg_idx : list of indexes of background_data[] to be used as background images in mosaic\n",
        "  fg_idx : index of image to be used as foreground image from foreground data\n",
        "  fg : at what position/index foreground image has to be stored out of 0-8\n",
        "  \"\"\"\n",
        "  image_list=[]\n",
        "  j=0\n",
        "  for i in range(9):\n",
        "    if i != fg:\n",
        "      image_list.append(background_data[bg_idx[j]].type(\"torch.DoubleTensor\"))\n",
        "      j+=1\n",
        "    else: \n",
        "      image_list.append(foreground_data[fg_idx].type(\"torch.DoubleTensor\"))\n",
        "      label = foreground_label[fg_idx] - fg1  # minus fg1 because our fore ground classes are fg1,fg2,fg3 but we have to store it as 0,1,2\n",
        "  #image_list = np.concatenate(image_list ,axis=0)\n",
        "  image_list = torch.stack(image_list) \n",
        "  return image_list,label"
      ],
      "execution_count": 39,
      "outputs": []
    },
    {
      "cell_type": "code",
      "metadata": {
        "id": "KGlWwKd0kfNh"
      },
      "source": [
        "desired_num = 30000\n",
        "mosaic_list_of_images =[]      # list of mosaic images, each mosaic image is saved as list of 9 images\n",
        "fore_idx =[]                   # list of indexes at which foreground image is present in a mosaic image i.e from 0 to 9               \n",
        "mosaic_label=[]                # label of mosaic image = foreground class present in that mosaic\n",
        "list_set_labels = [] \n",
        "for i in range(desired_num):\n",
        "  set_idx = set()\n",
        "  bg_idx = np.random.randint(0,35000,8)\n",
        "  set_idx = set(background_label[bg_idx].tolist())\n",
        "  fg_idx = np.random.randint(0,15000)\n",
        "  set_idx.add(foreground_label[fg_idx].item())\n",
        "  fg = np.random.randint(0,9)\n",
        "  fore_idx.append(fg)\n",
        "  image_list,label = create_mosaic_img(bg_idx,fg_idx,fg)\n",
        "  mosaic_list_of_images.append(image_list)\n",
        "  mosaic_label.append(label)\n",
        "  list_set_labels.append(set_idx)\n"
      ],
      "execution_count": 40,
      "outputs": []
    },
    {
      "cell_type": "code",
      "metadata": {
        "id": "c3VamXHgkkk4"
      },
      "source": [
        "class MosaicDataset(Dataset):\n",
        "  \"\"\"MosaicDataset dataset.\"\"\"\n",
        "\n",
        "  def __init__(self, mosaic_list_of_images, mosaic_label, fore_idx):\n",
        "    \"\"\"\n",
        "      Args:\n",
        "        csv_file (string): Path to the csv file with annotations.\n",
        "        root_dir (string): Directory with all the images.\n",
        "        transform (callable, optional): Optional transform to be applied\n",
        "            on a sample.\n",
        "    \"\"\"\n",
        "    self.mosaic = mosaic_list_of_images\n",
        "    self.label = mosaic_label\n",
        "    self.fore_idx = fore_idx\n",
        "\n",
        "  def __len__(self):\n",
        "    return len(self.label)\n",
        "\n",
        "  def __getitem__(self, idx):\n",
        "    return self.mosaic[idx] , self.label[idx], self.fore_idx[idx]\n",
        "\n",
        "batch = 250\n",
        "msd = MosaicDataset(mosaic_list_of_images, mosaic_label , fore_idx)\n",
        "train_loader = DataLoader( msd,batch_size= batch ,shuffle=True)"
      ],
      "execution_count": 41,
      "outputs": []
    },
    {
      "cell_type": "code",
      "metadata": {
        "id": "dgQ0htWqkqzo"
      },
      "source": [
        "class Module1(nn.Module):\n",
        "  def __init__(self):\n",
        "    super(Module1, self).__init__()\n",
        "    self.conv1 = nn.Conv2d(3, 6, 5)\n",
        "    self.pool = nn.MaxPool2d(2, 2)\n",
        "    self.conv2 = nn.Conv2d(6, 16, 5)\n",
        "    self.fc1 = nn.Linear(16 * 5 * 5, 120)\n",
        "    self.fc2 = nn.Linear(120, 84)\n",
        "    self.fc3 = nn.Linear(84, 10)\n",
        "    self.fc4 = nn.Linear(10,1)\n",
        "\n",
        "  def forward(self, x):\n",
        "    x = self.pool(F.relu(self.conv1(x)))\n",
        "    x = self.pool(F.relu(self.conv2(x)))\n",
        "    x = x.view(-1, 16 * 5 * 5)\n",
        "    x = F.relu(self.fc1(x))\n",
        "    x = F.relu(self.fc2(x))\n",
        "    x = F.relu(self.fc3(x))\n",
        "    x = self.fc4(x)\n",
        "    return x"
      ],
      "execution_count": 42,
      "outputs": []
    },
    {
      "cell_type": "code",
      "metadata": {
        "id": "XElkdct-kvQB"
      },
      "source": [
        "class Module2(nn.Module):\n",
        "  def __init__(self):\n",
        "    super(Module2, self).__init__()\n",
        "    self.module1 = Module1().double()\n",
        "    self.conv1 = nn.Conv2d(3, 6, 5)\n",
        "    self.pool = nn.MaxPool2d(2, 2)\n",
        "    self.conv2 = nn.Conv2d(6, 16, 5)\n",
        "    self.fc1 = nn.Linear(16 * 5 * 5, 120)\n",
        "    self.fc2 = nn.Linear(120, 84)\n",
        "    self.fc3 = nn.Linear(84, 10)\n",
        "    self.fc4 = nn.Linear(10,3)\n",
        "\n",
        "  def forward(self,z):  #z batch of list of 9 images\n",
        "    y = torch.zeros([batch,3, 32,32], dtype=torch.float64)\n",
        "    x = torch.zeros([batch,9],dtype=torch.float64)\n",
        "    x = x.to(\"cuda\")\n",
        "    y = y.to(\"cuda\")\n",
        "    for i in range(9):\n",
        "        x[:,i] = self.module1.forward(z[:,i])[:,0]\n",
        "\n",
        "    x = F.softmax(x,dim=1)\n",
        "\n",
        "    x1 = x[:,0]\n",
        "    torch.mul(x1[:,None,None,None],z[:,0])\n",
        "\n",
        "    for i in range(9):            \n",
        "      x1 = x[:,i]          \n",
        "      y = y + torch.mul(x1[:,None,None,None],z[:,i])\n",
        "      y = y.contiguous()\n",
        "\n",
        "\n",
        "    y1 = self.pool(F.relu(self.conv1(y)))\n",
        "    y1 = self.pool(F.relu(self.conv2(y1)))\n",
        "    y1 = y1.contiguous()\n",
        "    y1 = y1.reshape(-1, 16 * 5 * 5)\n",
        "\n",
        "    y1 = F.relu(self.fc1(y1))\n",
        "    y1 = F.relu(self.fc2(y1))\n",
        "    y1 = F.relu(self.fc3(y1))\n",
        "    y1 = self.fc4(y1)\n",
        "    return y1 , x, y"
      ],
      "execution_count": 43,
      "outputs": []
    },
    {
      "cell_type": "code",
      "metadata": {
        "id": "TuIb2Y29kxWT"
      },
      "source": [
        "fore_net = Module2().double()\n",
        "fore_net = fore_net.to(\"cuda\")"
      ],
      "execution_count": 44,
      "outputs": []
    },
    {
      "cell_type": "code",
      "metadata": {
        "id": "hWsL2UojlNln"
      },
      "source": [
        "import torch.optim as optim\n",
        "\n",
        "criterion = nn.CrossEntropyLoss()\n",
        "\n",
        "optimizer = optim.SGD(fore_net.parameters(), lr=0.01, momentum=0.9)"
      ],
      "execution_count": 45,
      "outputs": []
    },
    {
      "cell_type": "code",
      "metadata": {
        "id": "enq--OcxkziH",
        "outputId": "c7e7f8f8-a2d3-46ba-e548-1b2ed0d6c144",
        "colab": {
          "base_uri": "https://localhost:8080/",
          "height": 1000
        }
      },
      "source": [
        "nos_epochs = 600\n",
        "\n",
        "for epoch in range(nos_epochs):  # loop over the dataset multiple times\n",
        "\n",
        "  running_loss = 0.0\n",
        "  cnt=0\n",
        "  mini_loss = []\n",
        "\n",
        "  iteration = desired_num // batch\n",
        "  \n",
        "  #training data set\n",
        "  \n",
        "  for i, data in  enumerate(train_loader):\n",
        "    inputs , labels , fore_idx = data\n",
        "    inputs, labels, fore_idx = inputs.to(\"cuda\"),labels.to(\"cuda\"), fore_idx.to(\"cuda\")\n",
        "    # zero the parameter gradients\n",
        "    \n",
        "    # optimizer_what.zero_grad()\n",
        "    # optimizer_where.zero_grad()\n",
        "    optimizer.zero_grad()\n",
        "    \n",
        "    # avg_images , alphas = where_net(inputs)\n",
        "    # avg_images = avg_images.contiguous()\n",
        "    # outputs = what_net(avg_images)\n",
        "\n",
        "    outputs, alphas, avg_images = fore_net(inputs)\n",
        "\n",
        "    _, predicted = torch.max(outputs.data, 1)\n",
        "#     print(outputs)\n",
        "#     print(outputs.shape,labels.shape , torch.argmax(outputs, dim=1))\n",
        "\n",
        "    loss = criterion(outputs, labels) \n",
        "    loss.backward()\n",
        "    # optimizer_what.step()\n",
        "    # optimizer_where.step()\n",
        "    optimizer.step()\n",
        "    running_loss += loss.item()\n",
        "    mini = 40\n",
        "  \n",
        "    if cnt % mini == mini - 1:    # print every 40 mini-batches\n",
        "      print('[%d, %5d] loss: %.3f' %(epoch + 1, cnt + 1, running_loss / mini))\n",
        "      mini_loss.append(running_loss / mini)\n",
        "      running_loss = 0.0\n",
        "      \n",
        "    cnt=cnt+1\n",
        "  if(np.average(mini_loss) <= 0.05):\n",
        "    break\n",
        "print('Finished Training')\n"
      ],
      "execution_count": 46,
      "outputs": [
        {
          "output_type": "stream",
          "text": [
            "[1,    40] loss: 1.100\n",
            "[1,    80] loss: 1.099\n",
            "[1,   120] loss: 1.099\n",
            "[2,    40] loss: 1.098\n",
            "[2,    80] loss: 1.099\n",
            "[2,   120] loss: 1.099\n",
            "[3,    40] loss: 1.098\n",
            "[3,    80] loss: 1.099\n",
            "[3,   120] loss: 1.099\n",
            "[4,    40] loss: 1.099\n",
            "[4,    80] loss: 1.098\n",
            "[4,   120] loss: 1.099\n",
            "[5,    40] loss: 1.099\n",
            "[5,    80] loss: 1.098\n",
            "[5,   120] loss: 1.098\n",
            "[6,    40] loss: 1.098\n",
            "[6,    80] loss: 1.099\n",
            "[6,   120] loss: 1.098\n",
            "[7,    40] loss: 1.098\n",
            "[7,    80] loss: 1.098\n",
            "[7,   120] loss: 1.098\n",
            "[8,    40] loss: 1.098\n",
            "[8,    80] loss: 1.098\n",
            "[8,   120] loss: 1.098\n",
            "[9,    40] loss: 1.098\n",
            "[9,    80] loss: 1.098\n",
            "[9,   120] loss: 1.098\n",
            "[10,    40] loss: 1.098\n",
            "[10,    80] loss: 1.097\n",
            "[10,   120] loss: 1.098\n",
            "[11,    40] loss: 1.097\n",
            "[11,    80] loss: 1.097\n",
            "[11,   120] loss: 1.097\n",
            "[12,    40] loss: 1.096\n",
            "[12,    80] loss: 1.096\n",
            "[12,   120] loss: 1.096\n",
            "[13,    40] loss: 1.096\n",
            "[13,    80] loss: 1.095\n",
            "[13,   120] loss: 1.095\n",
            "[14,    40] loss: 1.095\n",
            "[14,    80] loss: 1.094\n",
            "[14,   120] loss: 1.095\n",
            "[15,    40] loss: 1.093\n",
            "[15,    80] loss: 1.095\n",
            "[15,   120] loss: 1.094\n",
            "[16,    40] loss: 1.093\n",
            "[16,    80] loss: 1.092\n",
            "[16,   120] loss: 1.093\n",
            "[17,    40] loss: 1.093\n",
            "[17,    80] loss: 1.092\n",
            "[17,   120] loss: 1.092\n",
            "[18,    40] loss: 1.090\n",
            "[18,    80] loss: 1.091\n",
            "[18,   120] loss: 1.088\n",
            "[19,    40] loss: 1.085\n",
            "[19,    80] loss: 1.076\n",
            "[19,   120] loss: 1.047\n",
            "[20,    40] loss: 0.857\n",
            "[20,    80] loss: 0.575\n",
            "[20,   120] loss: 0.481\n",
            "[21,    40] loss: 0.408\n",
            "[21,    80] loss: 0.342\n",
            "[21,   120] loss: 0.303\n",
            "[22,    40] loss: 0.239\n",
            "[22,    80] loss: 0.214\n",
            "[22,   120] loss: 0.172\n",
            "[23,    40] loss: 0.147\n",
            "[23,    80] loss: 0.124\n",
            "[23,   120] loss: 0.108\n",
            "[24,    40] loss: 0.094\n",
            "[24,    80] loss: 0.086\n",
            "[24,   120] loss: 0.079\n",
            "[25,    40] loss: 0.057\n",
            "[25,    80] loss: 0.059\n",
            "[25,   120] loss: 0.054\n",
            "[26,    40] loss: 0.043\n",
            "[26,    80] loss: 0.038\n",
            "[26,   120] loss: 0.033\n",
            "Finished Training\n"
          ],
          "name": "stdout"
        }
      ]
    },
    {
      "cell_type": "code",
      "metadata": {
        "id": "nkyMi1VBpq9a"
      },
      "source": [
        "torch.save(fore_net.state_dict(),\"/content/drive/My Drive/Research/mosaic_from_CIFAR_involving_bottop_eigen_vectors/fore_net_epoch\"+str(epoch)+\"_fg_used\"+str(fg_used)+\".pt\")"
      ],
      "execution_count": 47,
      "outputs": []
    },
    {
      "cell_type": "markdown",
      "metadata": {
        "id": "MH7XBEjfoxxy"
      },
      "source": [
        "#Train summary on Train mosaic made from Trainset of 50k CIFAR"
      ]
    },
    {
      "cell_type": "code",
      "metadata": {
        "id": "r0feaaoewaYG"
      },
      "source": [
        "fg = [fg1,fg2,fg3]\n",
        "bg = list(set([0,1,2,3,4,5,6,7,8,9])-set(fg))"
      ],
      "execution_count": 48,
      "outputs": []
    },
    {
      "cell_type": "code",
      "metadata": {
        "id": "4opbA0J8mfES",
        "outputId": "9239b790-0151-4fc1-e2a0-44e5faf76205",
        "colab": {
          "base_uri": "https://localhost:8080/",
          "height": 279
        }
      },
      "source": [
        "from tabulate import tabulate\n",
        "correct = 0\n",
        "total = 0\n",
        "count = 0\n",
        "flag = 1\n",
        "focus_true_pred_true =0\n",
        "focus_false_pred_true =0\n",
        "focus_true_pred_false =0\n",
        "focus_false_pred_false =0\n",
        "\n",
        "argmax_more_than_half = 0\n",
        "argmax_less_than_half =0\n",
        "\n",
        "with torch.no_grad():\n",
        "  for data in train_loader:\n",
        "    inputs, labels , fore_idx = data\n",
        "    inputs, labels , fore_idx = inputs.to(\"cuda\"),labels.to(\"cuda\"), fore_idx.to(\"cuda\")\n",
        "    outputs, alphas, avg_images = fore_net(inputs)\n",
        "\n",
        "    _, predicted = torch.max(outputs.data, 1)\n",
        "\n",
        "    for j in range(labels.size(0)):\n",
        "      count += 1\n",
        "      focus = torch.argmax(alphas[j])\n",
        "      if alphas[j][focus] >= 0.5 :\n",
        "        argmax_more_than_half += 1\n",
        "      else:\n",
        "        argmax_less_than_half += 1\n",
        "\n",
        "      if(focus == fore_idx[j] and predicted[j] == labels[j]):\n",
        "          focus_true_pred_true += 1\n",
        "      elif(focus != fore_idx[j] and predicted[j] == labels[j]):\n",
        "        focus_false_pred_true += 1\n",
        "      elif(focus == fore_idx[j] and predicted[j] != labels[j]):\n",
        "        focus_true_pred_false += 1\n",
        "      elif(focus != fore_idx[j] and predicted[j] != labels[j]):\n",
        "        focus_false_pred_false += 1\n",
        "\n",
        "    total += labels.size(0)\n",
        "    correct += (predicted == labels).sum().item()\n",
        "\n",
        "print('Accuracy of the network on the 30000 train images: %d %%' % ( 100 * correct / total))\n",
        "print(\"total correct\", correct)\n",
        "print(\"total train set images\", total)\n",
        "\n",
        "print(\"focus_true_pred_true %d =============> FTPT : %d %%\" % (focus_true_pred_true , (100 * focus_true_pred_true / total) ) )\n",
        "print(\"focus_false_pred_true %d =============> FFPT : %d %%\" % (focus_false_pred_true, (100 * focus_false_pred_true / total) ) )\n",
        "print(\"focus_true_pred_false %d =============> FTPF : %d %%\" %( focus_true_pred_false , ( 100 * focus_true_pred_false / total) ) )\n",
        "print(\"focus_false_pred_false %d =============> FFPF : %d %%\" % (focus_false_pred_false, ( 100 * focus_false_pred_false / total) ) )\n",
        "\n",
        "print(\"argmax_more_than_half\",argmax_more_than_half)\n",
        "print(\"argmax_less_than_half\",argmax_less_than_half)\n",
        "print(count)\n",
        "\n",
        "print(\"=\"*100)\n",
        "table3 = []\n",
        "entry = [1,'fg = '+ str(fg),'bg = '+str(bg),30000]\n",
        "entry.append((100 * focus_true_pred_true / total))\n",
        "entry.append( (100 * focus_false_pred_true / total))\n",
        "entry.append( ( 100 * focus_true_pred_false / total))\n",
        "entry.append( ( 100 * focus_false_pred_false / total))\n",
        "entry.append( argmax_more_than_half)\n",
        "\n",
        "train_entry = entry\n",
        "\n",
        "table3.append(entry)\n",
        "\n",
        "print(tabulate(table3, headers=['S.No.', 'fg_class','bg_class','data_points','FTPT', 'FFPT', 'FTPF', 'FFPF', 'avg_img > 0.5'] ) )\n"
      ],
      "execution_count": 49,
      "outputs": [
        {
          "output_type": "stream",
          "text": [
            "Accuracy of the network on the 30000 train images: 99 %\n",
            "total correct 29751\n",
            "total train set images 30000\n",
            "focus_true_pred_true 6958 =============> FTPT : 23 %\n",
            "focus_false_pred_true 22793 =============> FFPT : 75 %\n",
            "focus_true_pred_false 62 =============> FTPF : 0 %\n",
            "focus_false_pred_false 187 =============> FFPF : 0 %\n",
            "argmax_more_than_half 0\n",
            "argmax_less_than_half 30000\n",
            "30000\n",
            "====================================================================================================\n",
            "  S.No.  fg_class        bg_class                      data_points     FTPT     FFPT      FTPF      FFPF    avg_img > 0.5\n",
            "-------  --------------  --------------------------  -------------  -------  -------  --------  --------  ---------------\n",
            "      1  fg = [3, 4, 5]  bg = [0, 1, 2, 6, 7, 8, 9]          30000  23.1933  75.9767  0.206667  0.623333                0\n"
          ],
          "name": "stdout"
        }
      ]
    },
    {
      "cell_type": "code",
      "metadata": {
        "id": "MTyRs2gymKjo"
      },
      "source": [
        "test_images =[]        #list of mosaic images, each mosaic image is saved as laist of 9 images\n",
        "fore_idx_test =[]                   #list of indexes at which foreground image is present in a mosaic image                \n",
        "test_label=[]                # label of mosaic image = foreground class present in that mosaic\n",
        "test_set_labels = []\n",
        "for i in range(10000):\n",
        "  set_idx = set()\n",
        "  bg_idx = np.random.randint(0,35000,8)\n",
        "  set_idx = set(background_label[bg_idx].tolist())\n",
        "  fg_idx = np.random.randint(0,15000)\n",
        "  set_idx.add(foreground_label[fg_idx].item())\n",
        "  fg = np.random.randint(0,9)\n",
        "  fore_idx_test.append(fg)\n",
        "  image_list,label = create_mosaic_img(bg_idx,fg_idx,fg)\n",
        "  test_images.append(image_list)\n",
        "  test_label.append(label)\n",
        "  test_set_labels.append(set_idx)\n"
      ],
      "execution_count": 50,
      "outputs": []
    },
    {
      "cell_type": "code",
      "metadata": {
        "id": "cIkBP9Q0mLFS"
      },
      "source": [
        "test_data = MosaicDataset(test_images,test_label,fore_idx_test)\n",
        "test_loader = DataLoader( test_data,batch_size= batch ,shuffle=False)"
      ],
      "execution_count": 51,
      "outputs": []
    },
    {
      "cell_type": "markdown",
      "metadata": {
        "id": "-3yi3Fw4o2Uq"
      },
      "source": [
        "#Test summary on Test mosaic made from Trainset of 50k CIFAR"
      ]
    },
    {
      "cell_type": "code",
      "metadata": {
        "id": "_A-2WBNLr9Kl"
      },
      "source": [
        "fg = [fg1,fg2,fg3]\n",
        "bg = list(set([0,1,2,3,4,5,6,7,8,9])-set(fg))"
      ],
      "execution_count": 52,
      "outputs": []
    },
    {
      "cell_type": "code",
      "metadata": {
        "id": "Aoi0cellnFgp",
        "outputId": "0c6b782a-1d82-4919-ad2a-6117a4241dca",
        "colab": {
          "base_uri": "https://localhost:8080/",
          "height": 279
        }
      },
      "source": [
        "correct = 0\n",
        "total = 0\n",
        "count = 0\n",
        "flag = 1\n",
        "focus_true_pred_true =0\n",
        "focus_false_pred_true =0\n",
        "focus_true_pred_false =0\n",
        "focus_false_pred_false =0\n",
        "\n",
        "argmax_more_than_half = 0\n",
        "argmax_less_than_half =0\n",
        "\n",
        "with torch.no_grad():\n",
        "  for data in test_loader:\n",
        "    inputs, labels , fore_idx = data\n",
        "    inputs, labels , fore_idx = inputs.to(\"cuda\"),labels.to(\"cuda\"), fore_idx.to(\"cuda\")\n",
        "    outputs, alphas, avg_images = fore_net(inputs)\n",
        "\n",
        "    _, predicted = torch.max(outputs.data, 1)\n",
        "\n",
        "    for j in range(labels.size(0)):\n",
        "      focus = torch.argmax(alphas[j])\n",
        "      if alphas[j][focus] >= 0.5 :\n",
        "        argmax_more_than_half += 1\n",
        "      else:\n",
        "        argmax_less_than_half += 1\n",
        "\n",
        "      if(focus == fore_idx[j] and predicted[j] == labels[j]):\n",
        "          focus_true_pred_true += 1\n",
        "      elif(focus != fore_idx[j] and predicted[j] == labels[j]):\n",
        "        focus_false_pred_true += 1\n",
        "      elif(focus == fore_idx[j] and predicted[j] != labels[j]):\n",
        "        focus_true_pred_false += 1\n",
        "      elif(focus != fore_idx[j] and predicted[j] != labels[j]):\n",
        "        focus_false_pred_false += 1\n",
        "\n",
        "    total += labels.size(0)\n",
        "    correct += (predicted == labels).sum().item()\n",
        "\n",
        "print('Accuracy of the network on the 10000 test images: %d %%' % (\n",
        "    100 * correct / total))\n",
        "print(\"total correct\", correct)\n",
        "print(\"total train set images\", total)\n",
        "\n",
        "print(\"focus_true_pred_true %d =============> FTPT : %d %%\" % (focus_true_pred_true , (100 * focus_true_pred_true / total) ) )\n",
        "print(\"focus_false_pred_true %d =============> FFPT : %d %%\" % (focus_false_pred_true, (100 * focus_false_pred_true / total) ) )\n",
        "print(\"focus_true_pred_false %d =============> FTPF : %d %%\" %( focus_true_pred_false , ( 100 * focus_true_pred_false / total) ) )\n",
        "print(\"focus_false_pred_false %d =============> FFPF : %d %%\" % (focus_false_pred_false, ( 100 * focus_false_pred_false / total) ) )\n",
        "\n",
        "print(\"argmax_more_than_half\",argmax_more_than_half)\n",
        "print(\"argmax_less_than_half\",argmax_less_than_half)\n",
        "\n",
        "print(\"=\"*100)\n",
        "# table4 = []\n",
        "entry = [2,'fg = '+ str(fg),'bg = '+str(bg),10000]\n",
        "entry.append((100 * focus_true_pred_true / total))\n",
        "entry.append( (100 * focus_false_pred_true / total))\n",
        "entry.append( ( 100 * focus_true_pred_false / total))\n",
        "entry.append( ( 100 * focus_false_pred_false / total))\n",
        "entry.append( argmax_more_than_half)\n",
        "\n",
        "test_entry = entry \n",
        "\n",
        "table3.append(entry)\n",
        "\n",
        "print(tabulate(table3, headers=['S.No.', 'fg_class','bg_class','data_points','FTPT', 'FFPT', 'FTPF', 'FFPF', 'avg_img > 0.5'] ) )\n"
      ],
      "execution_count": 53,
      "outputs": [
        {
          "output_type": "stream",
          "text": [
            "Accuracy of the network on the 10000 test images: 99 %\n",
            "total correct 9907\n",
            "total train set images 10000\n",
            "focus_true_pred_true 2231 =============> FTPT : 22 %\n",
            "focus_false_pred_true 7676 =============> FFPT : 76 %\n",
            "focus_true_pred_false 34 =============> FTPF : 0 %\n",
            "focus_false_pred_false 59 =============> FFPF : 0 %\n",
            "argmax_more_than_half 0\n",
            "argmax_less_than_half 10000\n",
            "====================================================================================================\n",
            "  S.No.  fg_class        bg_class                      data_points     FTPT     FFPT      FTPF      FFPF    avg_img > 0.5\n",
            "-------  --------------  --------------------------  -------------  -------  -------  --------  --------  ---------------\n",
            "      1  fg = [3, 4, 5]  bg = [0, 1, 2, 6, 7, 8, 9]          30000  23.1933  75.9767  0.206667  0.623333                0\n",
            "      2  fg = [3, 4, 5]  bg = [0, 1, 2, 6, 7, 8, 9]          10000  22.31    76.76    0.34      0.59                    0\n"
          ],
          "name": "stdout"
        }
      ]
    },
    {
      "cell_type": "code",
      "metadata": {
        "id": "OaTKHP-VlTEh"
      },
      "source": [
        "dataiter = iter(testloader)\n",
        "background_data=[]\n",
        "background_label=[]\n",
        "foreground_data=[]\n",
        "foreground_label=[]\n",
        "batch_size=10\n",
        "\n",
        "for i in range(1000):\n",
        "  images, labels = dataiter.next()\n",
        "  for j in range(batch_size):\n",
        "    if(classes[labels[j]] in background_classes):\n",
        "      img = images[j].tolist()\n",
        "      background_data.append(img)\n",
        "      background_label.append(labels[j])\n",
        "    else:\n",
        "      img = images[j].tolist()\n",
        "      foreground_data.append(img)\n",
        "      foreground_label.append(labels[j])\n",
        "            \n",
        "foreground_data = torch.tensor(foreground_data)\n",
        "foreground_label = torch.tensor(foreground_label)\n",
        "background_data = torch.tensor(background_data)\n",
        "background_label = torch.tensor(background_label)"
      ],
      "execution_count": 54,
      "outputs": []
    },
    {
      "cell_type": "code",
      "metadata": {
        "id": "GInpsUGkoRUa"
      },
      "source": [
        "test_images =[]        #list of mosaic images, each mosaic image is saved as laist of 9 images\n",
        "fore_idx_test =[]                   #list of indexes at which foreground image is present in a mosaic image                \n",
        "test_label=[]                # label of mosaic image = foreground class present in that mosaic\n",
        "test_set_labels = []\n",
        "for i in range(10000):\n",
        "  set_idx = set()\n",
        "  bg_idx = np.random.randint(0,7000,8)\n",
        "  set_idx = set(background_label[bg_idx].tolist())\n",
        "  fg_idx = np.random.randint(0,3000)\n",
        "  set_idx.add(foreground_label[fg_idx].item())\n",
        "  fg = np.random.randint(0,9)\n",
        "  fore_idx_test.append(fg)\n",
        "  image_list,label = create_mosaic_img(bg_idx,fg_idx,fg)\n",
        "  test_images.append(image_list)\n",
        "  test_label.append(label)\n",
        "  test_set_labels.append(set_idx)\n"
      ],
      "execution_count": 55,
      "outputs": []
    },
    {
      "cell_type": "code",
      "metadata": {
        "id": "CQ431ADEoRUn"
      },
      "source": [
        "test_data = MosaicDataset(test_images,test_label,fore_idx_test)\n",
        "unseen_test_loader = DataLoader( test_data,batch_size= batch ,shuffle=False)"
      ],
      "execution_count": 56,
      "outputs": []
    },
    {
      "cell_type": "markdown",
      "metadata": {
        "id": "CAAQae39pOsh"
      },
      "source": [
        "# Test summary on Test mosaic made from Testset of 10k CIFAR"
      ]
    },
    {
      "cell_type": "code",
      "metadata": {
        "id": "V2qYinVFsAfN"
      },
      "source": [
        "fg = [fg1,fg2,fg3]\n",
        "bg = list(set([0,1,2,3,4,5,6,7,8,9])-set(fg))"
      ],
      "execution_count": 57,
      "outputs": []
    },
    {
      "cell_type": "code",
      "metadata": {
        "id": "xqA1GFE4ojZ7",
        "outputId": "351915f4-393d-4b1c-eee9-0a35b124c858",
        "colab": {
          "base_uri": "https://localhost:8080/",
          "height": 297
        }
      },
      "source": [
        "correct = 0\n",
        "total = 0\n",
        "count = 0\n",
        "flag = 1\n",
        "focus_true_pred_true =0\n",
        "focus_false_pred_true =0\n",
        "focus_true_pred_false =0\n",
        "focus_false_pred_false =0\n",
        "\n",
        "argmax_more_than_half = 0\n",
        "argmax_less_than_half =0\n",
        "\n",
        "with torch.no_grad():\n",
        "  for data in unseen_test_loader:\n",
        "    inputs, labels , fore_idx = data\n",
        "    inputs, labels , fore_idx = inputs.to(\"cuda\"),labels.to(\"cuda\"), fore_idx.to(\"cuda\")\n",
        "    outputs, alphas, avg_images = fore_net(inputs)\n",
        "\n",
        "    _, predicted = torch.max(outputs.data, 1)\n",
        "\n",
        "    for j in range(labels.size(0)):\n",
        "      focus = torch.argmax(alphas[j])\n",
        "      if alphas[j][focus] >= 0.5 :\n",
        "        argmax_more_than_half += 1\n",
        "      else:\n",
        "        argmax_less_than_half += 1\n",
        "\n",
        "      if(focus == fore_idx[j] and predicted[j] == labels[j]):\n",
        "          focus_true_pred_true += 1\n",
        "      elif(focus != fore_idx[j] and predicted[j] == labels[j]):\n",
        "        focus_false_pred_true += 1\n",
        "      elif(focus == fore_idx[j] and predicted[j] != labels[j]):\n",
        "        focus_true_pred_false += 1\n",
        "      elif(focus != fore_idx[j] and predicted[j] != labels[j]):\n",
        "        focus_false_pred_false += 1\n",
        "\n",
        "    total += labels.size(0)\n",
        "    correct += (predicted == labels).sum().item()\n",
        "\n",
        "print('Accuracy of the network on the 10000 test images: %d %%' % (\n",
        "    100 * correct / total))\n",
        "print(\"total correct\", correct)\n",
        "print(\"total train set images\", total)\n",
        "\n",
        "print(\"focus_true_pred_true %d =============> FTPT : %d %%\" % (focus_true_pred_true , (100 * focus_true_pred_true / total) ) )\n",
        "print(\"focus_false_pred_true %d =============> FFPT : %d %%\" % (focus_false_pred_true, (100 * focus_false_pred_true / total) ) )\n",
        "print(\"focus_true_pred_false %d =============> FTPF : %d %%\" %( focus_true_pred_false , ( 100 * focus_true_pred_false / total) ) )\n",
        "print(\"focus_false_pred_false %d =============> FFPF : %d %%\" % (focus_false_pred_false, ( 100 * focus_false_pred_false / total) ) )\n",
        "\n",
        "print(\"argmax_more_than_half\",argmax_more_than_half)\n",
        "print(\"argmax_less_than_half\",argmax_less_than_half)\n",
        "\n",
        "print(\"=\"*100)\n",
        "# table4 = []\n",
        "entry = [3,'fg = '+ str(fg),'bg = '+str(bg),10000]\n",
        "entry.append((100 * focus_true_pred_true / total))\n",
        "entry.append( (100 * focus_false_pred_true / total))\n",
        "entry.append( ( 100 * focus_true_pred_false / total))\n",
        "entry.append( ( 100 * focus_false_pred_false / total))\n",
        "entry.append( argmax_more_than_half)\n",
        "\n",
        "test_entry = entry \n",
        "\n",
        "table3.append(entry)\n",
        "\n",
        "print(tabulate(table3, headers=['S.No.', 'fg_class','bg_class','data_points','FTPT', 'FFPT', 'FTPF', 'FFPF', 'avg_img > 0.5'] ) )\n"
      ],
      "execution_count": 58,
      "outputs": [
        {
          "output_type": "stream",
          "text": [
            "Accuracy of the network on the 10000 test images: 99 %\n",
            "total correct 9902\n",
            "total train set images 10000\n",
            "focus_true_pred_true 2444 =============> FTPT : 24 %\n",
            "focus_false_pred_true 7458 =============> FFPT : 74 %\n",
            "focus_true_pred_false 26 =============> FTPF : 0 %\n",
            "focus_false_pred_false 72 =============> FFPF : 0 %\n",
            "argmax_more_than_half 0\n",
            "argmax_less_than_half 10000\n",
            "====================================================================================================\n",
            "  S.No.  fg_class        bg_class                      data_points     FTPT     FFPT      FTPF      FFPF    avg_img > 0.5\n",
            "-------  --------------  --------------------------  -------------  -------  -------  --------  --------  ---------------\n",
            "      1  fg = [3, 4, 5]  bg = [0, 1, 2, 6, 7, 8, 9]          30000  23.1933  75.9767  0.206667  0.623333                0\n",
            "      2  fg = [3, 4, 5]  bg = [0, 1, 2, 6, 7, 8, 9]          10000  22.31    76.76    0.34      0.59                    0\n",
            "      3  fg = [3, 4, 5]  bg = [0, 1, 2, 6, 7, 8, 9]          10000  24.44    74.58    0.26      0.72                    0\n"
          ],
          "name": "stdout"
        }
      ]
    },
    {
      "cell_type": "code",
      "metadata": {
        "id": "094OxX1jondE"
      },
      "source": [
        ""
      ],
      "execution_count": 58,
      "outputs": []
    }
  ]
}