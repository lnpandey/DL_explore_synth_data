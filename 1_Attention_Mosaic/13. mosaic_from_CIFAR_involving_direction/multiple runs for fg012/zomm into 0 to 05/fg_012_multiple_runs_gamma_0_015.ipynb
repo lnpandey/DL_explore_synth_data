{
  "nbformat": 4,
  "nbformat_minor": 0,
  "metadata": {
    "accelerator": "GPU",
    "colab": {
      "name": "fg_012_multiple_runs_gamma_0_015.ipynb",
      "provenance": [],
      "collapsed_sections": [],
      "machine_shape": "hm"
    },
    "kernelspec": {
      "display_name": "Python 3",
      "language": "python",
      "name": "python3"
    },
    "language_info": {
      "codemirror_mode": {
        "name": "ipython",
        "version": 3
      },
      "file_extension": ".py",
      "mimetype": "text/x-python",
      "name": "python",
      "nbconvert_exporter": "python",
      "pygments_lexer": "ipython3",
      "version": "3.6.5"
    }
  },
  "cells": [
    {
      "cell_type": "code",
      "metadata": {
        "id": "JSjG64ra4aFu"
      },
      "source": [
        "# from google.colab import drive\n",
        "# drive.mount('/content/drive')"
      ],
      "execution_count": null,
      "outputs": []
    },
    {
      "cell_type": "code",
      "metadata": {
        "id": "V8-7SARDZErK"
      },
      "source": [
        "import torch.nn as nn\n",
        "import torch.nn.functional as F\n",
        "\n",
        "import pandas as pd\n",
        "import numpy as np\n",
        "import matplotlib.pyplot as plt\n",
        "\n",
        "import torch\n",
        "import torchvision\n",
        "import torchvision.transforms as transforms\n",
        "from torch.utils.data import Dataset, DataLoader\n",
        "from torchvision import transforms, utils\n",
        "\n",
        "from matplotlib import pyplot as plt\n",
        "import copy\n",
        "\n",
        "import random\n",
        "\n",
        "from numpy import linalg as LA\n",
        "from tabulate import tabulate\n",
        "# Ignore warnings\n",
        "import warnings\n",
        "warnings.filterwarnings(\"ignore\")\n"
      ],
      "execution_count": null,
      "outputs": []
    },
    {
      "cell_type": "code",
      "metadata": {
        "id": "acRFqJNrZErV",
        "outputId": "87c6a312-16e8-401c-f484-7c3827b2cea2",
        "colab": {
          "base_uri": "https://localhost:8080/",
          "height": 54
        }
      },
      "source": [
        "transform = transforms.Compose(\n",
        "    [transforms.ToTensor(),\n",
        "     transforms.Normalize((0.5, 0.5, 0.5), (0.5, 0.5, 0.5))])\n",
        "\n",
        "trainset = torchvision.datasets.CIFAR10(root='./data', train=True, download=True, transform=transform)\n",
        "\n",
        "\n",
        "testset = torchvision.datasets.CIFAR10(root='./data', train=False, download=True, transform=transform)\n"
      ],
      "execution_count": null,
      "outputs": [
        {
          "output_type": "stream",
          "text": [
            "Files already downloaded and verified\n",
            "Files already downloaded and verified\n"
          ],
          "name": "stdout"
        }
      ]
    },
    {
      "cell_type": "code",
      "metadata": {
        "id": "FTBYzzX-fY2K",
        "outputId": "cc6d594c-8fd4-4e37-f998-8b82bb5f753d",
        "colab": {
          "base_uri": "https://localhost:8080/",
          "height": 36
        }
      },
      "source": [
        "gamma = 0.015\n",
        "gamma"
      ],
      "execution_count": null,
      "outputs": [
        {
          "output_type": "execute_result",
          "data": {
            "text/plain": [
              "0.015"
            ]
          },
          "metadata": {
            "tags": []
          },
          "execution_count": 4
        }
      ]
    },
    {
      "cell_type": "code",
      "metadata": {
        "id": "ygZ-VSs6j-hf",
        "outputId": "972549ca-aeea-472e-bef8-2503fa9f3f29",
        "colab": {
          "base_uri": "https://localhost:8080/",
          "height": 36
        }
      },
      "source": [
        "classes = ('plane', 'car', 'bird', 'cat', 'deer', 'dog', 'frog', 'horse', 'ship', 'truck')\n",
        "\n",
        "foreground_classes = {'plane', 'car', 'bird'}\n",
        "fg_used = '012'\n",
        "fg1, fg2, fg3 = 0,1,2\n",
        "\n",
        "\n",
        "all_classes = {'plane', 'car', 'bird', 'cat', 'deer', 'dog', 'frog', 'horse', 'ship', 'truck'}\n",
        "background_classes = all_classes - foreground_classes\n",
        "background_classes\n",
        "\n",
        "# print(type(foreground_classes))"
      ],
      "execution_count": null,
      "outputs": [
        {
          "output_type": "execute_result",
          "data": {
            "text/plain": [
              "{'cat', 'deer', 'dog', 'frog', 'horse', 'ship', 'truck'}"
            ]
          },
          "metadata": {
            "tags": []
          },
          "execution_count": 5
        }
      ]
    },
    {
      "cell_type": "code",
      "metadata": {
        "id": "oEPWuddXzu9f"
      },
      "source": [
        "trainloader = torch.utils.data.DataLoader(trainset, batch_size=10, shuffle=True)\n",
        "testloader = torch.utils.data.DataLoader(testset, batch_size=10, shuffle=False)\n"
      ],
      "execution_count": null,
      "outputs": []
    },
    {
      "cell_type": "code",
      "metadata": {
        "id": "n76MSJwHzu9p"
      },
      "source": [
        "dataiter = iter(trainloader)\n",
        "true_train_background_data=[]\n",
        "true_train_background_label=[]\n",
        "true_train_foreground_data=[]\n",
        "true_train_foreground_label=[]\n",
        "batch_size=10\n",
        "\n",
        "for i in range(5000):\n",
        "  images, labels = dataiter.next()\n",
        "  for j in range(batch_size):\n",
        "    if(classes[labels[j]] in background_classes):\n",
        "      img = images[j].tolist()\n",
        "      true_train_background_data.append(img)\n",
        "      true_train_background_label.append(labels[j])\n",
        "    else:\n",
        "      img = images[j].tolist()\n",
        "      true_train_foreground_data.append(img)\n",
        "      true_train_foreground_label.append(labels[j])\n",
        "            \n",
        "true_train_foreground_data = torch.tensor(true_train_foreground_data)\n",
        "true_train_foreground_label = torch.tensor(true_train_foreground_label)\n",
        "true_train_background_data = torch.tensor(true_train_background_data)\n",
        "true_train_background_label = torch.tensor(true_train_background_label)\n",
        "    "
      ],
      "execution_count": null,
      "outputs": []
    },
    {
      "cell_type": "code",
      "metadata": {
        "id": "NdYlcZPM2tmV",
        "outputId": "1e36dbd6-4ac6-4150-c5b9-b5cf09dc4aee",
        "colab": {
          "base_uri": "https://localhost:8080/",
          "height": 36
        }
      },
      "source": [
        "len(true_train_foreground_data), len(true_train_foreground_label), len(true_train_background_data), len(true_train_background_label)"
      ],
      "execution_count": null,
      "outputs": [
        {
          "output_type": "execute_result",
          "data": {
            "text/plain": [
              "(15000, 15000, 35000, 35000)"
            ]
          },
          "metadata": {
            "tags": []
          },
          "execution_count": 8
        }
      ]
    },
    {
      "cell_type": "code",
      "metadata": {
        "id": "IgyumCe_0GMa"
      },
      "source": [
        "dataiter = iter(testloader)\n",
        "true_test_background_data=[]\n",
        "true_test_background_label=[]\n",
        "true_test_foreground_data=[]\n",
        "true_test_foreground_label=[]\n",
        "batch_size=10\n",
        "\n",
        "for i in range(1000):\n",
        "  images, labels = dataiter.next()\n",
        "  for j in range(batch_size):\n",
        "    if(classes[labels[j]] in background_classes):\n",
        "      img = images[j].tolist()\n",
        "      true_test_background_data.append(img)\n",
        "      true_test_background_label.append(labels[j])\n",
        "    else:\n",
        "      img = images[j].tolist()\n",
        "      true_test_foreground_data.append(img)\n",
        "      true_test_foreground_label.append(labels[j])\n",
        "            \n",
        "true_test_foreground_data = torch.tensor(true_test_foreground_data)\n",
        "true_test_foreground_label = torch.tensor(true_test_foreground_label)\n",
        "true_test_background_data = torch.tensor(true_test_background_data)\n",
        "true_test_background_label = torch.tensor(true_test_background_label)"
      ],
      "execution_count": null,
      "outputs": []
    },
    {
      "cell_type": "code",
      "metadata": {
        "id": "P07QyEjZ2_tH",
        "outputId": "c20e43e1-b23c-4355-c35f-8597b05b2ba7",
        "colab": {
          "base_uri": "https://localhost:8080/",
          "height": 36
        }
      },
      "source": [
        "len(true_test_foreground_data), len(true_test_foreground_label), len(true_test_background_data), len(true_test_background_label)"
      ],
      "execution_count": null,
      "outputs": [
        {
          "output_type": "execute_result",
          "data": {
            "text/plain": [
              "(3000, 3000, 7000, 7000)"
            ]
          },
          "metadata": {
            "tags": []
          },
          "execution_count": 10
        }
      ]
    },
    {
      "cell_type": "code",
      "metadata": {
        "id": "bzU_HuQnEB29"
      },
      "source": [
        "true_train = trainset.data"
      ],
      "execution_count": null,
      "outputs": []
    },
    {
      "cell_type": "code",
      "metadata": {
        "id": "FAR6Zt2QgMdf"
      },
      "source": [
        "train_label = trainset.targets"
      ],
      "execution_count": null,
      "outputs": []
    },
    {
      "cell_type": "code",
      "metadata": {
        "id": "JZ52v93i__q5"
      },
      "source": [
        "true_train_cifar_norm=[]\n",
        "for i in range(len(true_train)):\n",
        "  true_train_cifar_norm.append(LA.norm(true_train[i]))"
      ],
      "execution_count": null,
      "outputs": []
    },
    {
      "cell_type": "code",
      "metadata": {
        "id": "TbWNZhQvAWav",
        "outputId": "3e4480e2-ef9a-47b7-b49d-fb837d0493f1",
        "colab": {
          "base_uri": "https://localhost:8080/",
          "height": 36
        }
      },
      "source": [
        "len(true_train_cifar_norm)"
      ],
      "execution_count": null,
      "outputs": [
        {
          "output_type": "execute_result",
          "data": {
            "text/plain": [
              "50000"
            ]
          },
          "metadata": {
            "tags": []
          },
          "execution_count": 14
        }
      ]
    },
    {
      "cell_type": "code",
      "metadata": {
        "id": "Klrwlq-RBSdc"
      },
      "source": [
        "def plot_hist(values):\n",
        "  plt.hist(values, density=True, bins=200)  # `density=False` would make counts\n",
        "  plt.ylabel('NORM')\n",
        "  plt.xlabel('Data');"
      ],
      "execution_count": null,
      "outputs": []
    },
    {
      "cell_type": "code",
      "metadata": {
        "id": "w-saABjgAaFY",
        "outputId": "4baa5f99-663c-4747-ecc1-1cd8d1f8191b",
        "colab": {
          "base_uri": "https://localhost:8080/",
          "height": 279
        }
      },
      "source": [
        "plot_hist(true_train_cifar_norm)"
      ],
      "execution_count": null,
      "outputs": [
        {
          "output_type": "display_data",
          "data": {
            "image/png": "[encoded data removed]",
            "text/plain": [
              "<Figure size 432x288 with 1 Axes>"
            ]
          },
          "metadata": {
            "tags": [],
            "needs_background": "light"
          }
        }
      ]
    },
    {
      "cell_type": "code",
      "metadata": {
        "id": "_USgDEwbMMKY",
        "outputId": "194338fe-ec0c-430e-cc42-8c2b61b30bb0",
        "colab": {
          "base_uri": "https://localhost:8080/",
          "height": 36
        }
      },
      "source": [
        "true_train.shape"
      ],
      "execution_count": null,
      "outputs": [
        {
          "output_type": "execute_result",
          "data": {
            "text/plain": [
              "(50000, 32, 32, 3)"
            ]
          },
          "metadata": {
            "tags": []
          },
          "execution_count": 17
        }
      ]
    },
    {
      "cell_type": "code",
      "metadata": {
        "id": "yi-39bYIMZOd",
        "outputId": "3209230c-81d1-4b55-b3ce-71139efafcb2",
        "colab": {
          "base_uri": "https://localhost:8080/",
          "height": 36
        }
      },
      "source": [
        "train = np.reshape(true_train, (50000,3072))\n",
        "train.shape, true_train.shape"
      ],
      "execution_count": null,
      "outputs": [
        {
          "output_type": "execute_result",
          "data": {
            "text/plain": [
              "((50000, 3072), (50000, 32, 32, 3))"
            ]
          },
          "metadata": {
            "tags": []
          },
          "execution_count": 18
        }
      ]
    },
    {
      "cell_type": "code",
      "metadata": {
        "id": "3qMpDn-xMleE"
      },
      "source": [
        "u, s, vh = LA.svd(train, full_matrices= False)"
      ],
      "execution_count": null,
      "outputs": []
    },
    {
      "cell_type": "code",
      "metadata": {
        "id": "4o7zUUJJNavO",
        "outputId": "113d181b-6dd6-4739-b7c5-41097a740c4f",
        "colab": {
          "base_uri": "https://localhost:8080/",
          "height": 36
        }
      },
      "source": [
        "u.shape , s.shape, vh.shape"
      ],
      "execution_count": null,
      "outputs": [
        {
          "output_type": "execute_result",
          "data": {
            "text/plain": [
              "((50000, 3072), (3072,), (3072, 3072))"
            ]
          },
          "metadata": {
            "tags": []
          },
          "execution_count": 20
        }
      ]
    },
    {
      "cell_type": "code",
      "metadata": {
        "id": "ZRlhUgdqSPyx",
        "outputId": "7b561998-eed2-4100-fd16-1aa2a81e31ad",
        "colab": {
          "base_uri": "https://localhost:8080/",
          "height": 54
        }
      },
      "source": [
        "s"
      ],
      "execution_count": null,
      "outputs": [
        {
          "output_type": "execute_result",
          "data": {
            "text/plain": [
              "array([1.55289927e+06, 2.82437414e+05, 2.17772149e+05, ...,\n",
              "       7.31736954e+01, 7.23349722e+01, 7.18349192e+01])"
            ]
          },
          "metadata": {
            "tags": []
          },
          "execution_count": 21
        }
      ]
    },
    {
      "cell_type": "code",
      "metadata": {
        "id": "h31rbKmqVnZW",
        "outputId": "97a088ee-134c-4695-b5ad-2fb54b82a983",
        "colab": {
          "base_uri": "https://localhost:8080/",
          "height": 260
        }
      },
      "source": [
        "vh"
      ],
      "execution_count": null,
      "outputs": [
        {
          "output_type": "execute_result",
          "data": {
            "text/plain": [
              "array([[-0.01984194, -0.02066161, -0.02037075, ..., -0.01879724,\n",
              "        -0.01874038, -0.01729938],\n",
              "       [-0.02488245, -0.02705999, -0.03195926, ...,  0.01262528,\n",
              "         0.01096339,  0.00766722],\n",
              "       [-0.0159231 , -0.01437591, -0.01281541, ..., -0.02971411,\n",
              "        -0.0283376 , -0.02749635],\n",
              "       ...,\n",
              "       [-0.00449998,  0.00770844, -0.00281931, ..., -0.00013103,\n",
              "        -0.00080887,  0.00071151],\n",
              "       [ 0.00433324, -0.00629207,  0.00181791, ..., -0.00168695,\n",
              "         0.00131196,  0.00052667],\n",
              "       [-0.00574169,  0.00783184, -0.00186197, ...,  0.00511688,\n",
              "        -0.00678068,  0.00138508]])"
            ]
          },
          "metadata": {
            "tags": []
          },
          "execution_count": 22
        }
      ]
    },
    {
      "cell_type": "code",
      "metadata": {
        "id": "LruQuedyVs4i",
        "outputId": "d0c58562-4205-4d40-9fa6-79580e07aa54",
        "colab": {
          "base_uri": "https://localhost:8080/",
          "height": 260
        }
      },
      "source": [
        "dir = vh[3062:3072,:]\n",
        "dir"
      ],
      "execution_count": null,
      "outputs": [
        {
          "output_type": "execute_result",
          "data": {
            "text/plain": [
              "array([[ 0.00256167, -0.00421648,  0.00171443, ..., -0.00214198,\n",
              "         0.0024008 , -0.00026442],\n",
              "       [ 0.00629867, -0.01114679,  0.00518054, ..., -0.00382077,\n",
              "         0.00504342, -0.00113716],\n",
              "       [-0.0022958 ,  0.0006672 ,  0.00141218, ..., -0.00062172,\n",
              "         0.00201576, -0.00146441],\n",
              "       ...,\n",
              "       [-0.00449998,  0.00770844, -0.00281931, ..., -0.00013103,\n",
              "        -0.00080887,  0.00071151],\n",
              "       [ 0.00433324, -0.00629207,  0.00181791, ..., -0.00168695,\n",
              "         0.00131196,  0.00052667],\n",
              "       [-0.00574169,  0.00783184, -0.00186197, ...,  0.00511688,\n",
              "        -0.00678068,  0.00138508]])"
            ]
          },
          "metadata": {
            "tags": []
          },
          "execution_count": 23
        }
      ]
    },
    {
      "cell_type": "code",
      "metadata": {
        "id": "m260DTW6V-Ka"
      },
      "source": [
        "u1 = dir[7,:]\n",
        "u2 = dir[8,:]\n",
        "u3 = dir[9,:]"
      ],
      "execution_count": null,
      "outputs": []
    },
    {
      "cell_type": "code",
      "metadata": {
        "id": "R9OuIGt4WzlK",
        "outputId": "6976ffeb-46a9-4993-89f7-2218464584df",
        "colab": {
          "base_uri": "https://localhost:8080/",
          "height": 54
        }
      },
      "source": [
        "u1"
      ],
      "execution_count": null,
      "outputs": [
        {
          "output_type": "execute_result",
          "data": {
            "text/plain": [
              "array([-0.00449998,  0.00770844, -0.00281931, ..., -0.00013103,\n",
              "       -0.00080887,  0.00071151])"
            ]
          },
          "metadata": {
            "tags": []
          },
          "execution_count": 25
        }
      ]
    },
    {
      "cell_type": "code",
      "metadata": {
        "id": "gswdCEwMW1-o",
        "outputId": "978481cc-90f7-4929-de3b-119e77ce2cab",
        "colab": {
          "base_uri": "https://localhost:8080/",
          "height": 54
        }
      },
      "source": [
        "u2"
      ],
      "execution_count": null,
      "outputs": [
        {
          "output_type": "execute_result",
          "data": {
            "text/plain": [
              "array([ 0.00433324, -0.00629207,  0.00181791, ..., -0.00168695,\n",
              "        0.00131196,  0.00052667])"
            ]
          },
          "metadata": {
            "tags": []
          },
          "execution_count": 26
        }
      ]
    },
    {
      "cell_type": "code",
      "metadata": {
        "id": "_GcGDZp7W2g6",
        "outputId": "20d49641-1026-4966-840d-5a28f97e4b97",
        "colab": {
          "base_uri": "https://localhost:8080/",
          "height": 54
        }
      },
      "source": [
        "u3"
      ],
      "execution_count": null,
      "outputs": [
        {
          "output_type": "execute_result",
          "data": {
            "text/plain": [
              "array([-0.00574169,  0.00783184, -0.00186197, ...,  0.00511688,\n",
              "       -0.00678068,  0.00138508])"
            ]
          },
          "metadata": {
            "tags": []
          },
          "execution_count": 27
        }
      ]
    },
    {
      "cell_type": "code",
      "metadata": {
        "id": "c1ORV76hfd5u",
        "outputId": "d81b3492-3c9b-4028-8c6f-de6fa1ba8b0b",
        "colab": {
          "base_uri": "https://localhost:8080/",
          "height": 36
        }
      },
      "source": [
        "len(train_label)"
      ],
      "execution_count": null,
      "outputs": [
        {
          "output_type": "execute_result",
          "data": {
            "text/plain": [
              "50000"
            ]
          },
          "metadata": {
            "tags": []
          },
          "execution_count": 28
        }
      ]
    },
    {
      "cell_type": "code",
      "metadata": {
        "id": "PUuW5wxpH1_C"
      },
      "source": [
        "def is_equal(x1, x2):\n",
        "  cnt=0\n",
        "  for i in range(len(x1)):\n",
        "    if(x1[i] == x2[i]):\n",
        "      cnt+=1\n",
        "  return cnt"
      ],
      "execution_count": null,
      "outputs": []
    },
    {
      "cell_type": "code",
      "metadata": {
        "id": "A45Ln5fwgSOW"
      },
      "source": [
        "def add_noise_cifar(train, label, gamma, fg1,fg2,fg3):\n",
        "  cnt=0\n",
        "\n",
        "  for i in range(len(label)):\n",
        "    x = train[i]\n",
        "    if(label[i] == fg1):\n",
        "      train[i] = train[i] + gamma * LA.norm(train[i]) * u1\n",
        "      cnt+=1\n",
        "\n",
        "    if(label[i] == fg2):\n",
        "      train[i] = train[i] + gamma * LA.norm(train[i]) * u2\n",
        "      cnt+=1\n",
        "\n",
        "    if(label[i] == fg3):\n",
        "      train[i] = train[i] + gamma * LA.norm(train[i]) * u3\n",
        "      cnt+=1\n",
        "    y = train[i]\n",
        "\n",
        "  print(\"total modified\",cnt)\n",
        "\n",
        "  return train"
      ],
      "execution_count": null,
      "outputs": []
    },
    {
      "cell_type": "code",
      "metadata": {
        "id": "QESEKIv3EW8b",
        "outputId": "93ae4b29-bf55-43fb-b40b-d8980e51992c",
        "colab": {
          "base_uri": "https://localhost:8080/",
          "height": 316
        }
      },
      "source": [
        "noise_train = np.reshape(true_train, (50000,3072))\n",
        "noise_train = add_noise_cifar(noise_train, train_label, gamma , fg1,fg2,fg3)\n",
        "noise_train_cifar_norm=[]\n",
        "for i in range(len(noise_train)):\n",
        "  noise_train_cifar_norm.append(LA.norm(noise_train[i]))\n",
        "plt.hist(noise_train_cifar_norm, density=True, bins=200,label='gamma='+str(gamma))  # `density=False` would make counts\n",
        "plt.hist(true_train_cifar_norm, density=True, bins=200,label='true') \n",
        "plt.ylabel('NORM')\n",
        "plt.xlabel('Data')\n",
        "plt.legend()\n",
        "print(\"remain same\",is_equal(noise_train_cifar_norm,true_train_cifar_norm))"
      ],
      "execution_count": null,
      "outputs": [
        {
          "output_type": "stream",
          "text": [
            "total modified 15000\n",
            "remain same 35000\n"
          ],
          "name": "stdout"
        },
        {
          "output_type": "display_data",
          "data": {
            "image/png": "[encoded data removed]",
            "text/plain": [
              "<Figure size 432x288 with 1 Axes>"
            ]
          },
          "metadata": {
            "tags": [],
            "needs_background": "light"
          }
        }
      ]
    },
    {
      "cell_type": "code",
      "metadata": {
        "id": "Ko4htz117YVx",
        "outputId": "ad3bb0d2-8d57-4b54-afb1-de97ffcb94ff",
        "colab": {
          "base_uri": "https://localhost:8080/",
          "height": 298
        }
      },
      "source": [
        "plt.hist(true_train_cifar_norm, density=True, bins=200,label='true') \n",
        "plt.ylabel('NORM')\n",
        "plt.xlabel('Data')\n",
        "plt.legend()"
      ],
      "execution_count": null,
      "outputs": [
        {
          "output_type": "execute_result",
          "data": {
            "text/plain": [
              "<matplotlib.legend.Legend at 0x7f13d800c7f0>"
            ]
          },
          "metadata": {
            "tags": []
          },
          "execution_count": 32
        },
        {
          "output_type": "display_data",
          "data": {
            "image/png": "[encoded data removed]",
            "text/plain": [
              "<Figure size 432x288 with 1 Axes>"
            ]
          },
          "metadata": {
            "tags": [],
            "needs_background": "light"
          }
        }
      ]
    },
    {
      "cell_type": "code",
      "metadata": {
        "id": "UiF_g59Y7iEC",
        "outputId": "417ad63e-b4ae-4449-fdb9-5fc2d52795d3",
        "colab": {
          "base_uri": "https://localhost:8080/",
          "height": 298
        }
      },
      "source": [
        "plt.hist(noise_train_cifar_norm, density=True, bins=200,label='gamma='+str(gamma))  # `density=False` would make counts\n",
        "# plt.hist(true_train_cifar_norm, density=True, bins=200,label='true') \n",
        "plt.ylabel('NORM')\n",
        "plt.xlabel('Data')\n",
        "plt.legend()"
      ],
      "execution_count": null,
      "outputs": [
        {
          "output_type": "execute_result",
          "data": {
            "text/plain": [
              "<matplotlib.legend.Legend at 0x7f13dbe170f0>"
            ]
          },
          "metadata": {
            "tags": []
          },
          "execution_count": 33
        },
        {
          "output_type": "display_data",
          "data": {
            "image/png": "[encoded data removed]",
            "text/plain": [
              "<Figure size 432x288 with 1 Axes>"
            ]
          },
          "metadata": {
            "tags": [],
            "needs_background": "light"
          }
        }
      ]
    },
    {
      "cell_type": "code",
      "metadata": {
        "id": "BQDi-wiHhZt_",
        "outputId": "3e4f33aa-d1eb-4d39-d174-3a60808fa8d2",
        "colab": {
          "base_uri": "https://localhost:8080/",
          "height": 36
        }
      },
      "source": [
        "noise_train.shape, trainset.data.shape"
      ],
      "execution_count": null,
      "outputs": [
        {
          "output_type": "execute_result",
          "data": {
            "text/plain": [
              "((50000, 3072), (50000, 32, 32, 3))"
            ]
          },
          "metadata": {
            "tags": []
          },
          "execution_count": 34
        }
      ]
    },
    {
      "cell_type": "code",
      "metadata": {
        "id": "As5AyKIUjhgA",
        "outputId": "9a81527c-0426-4605-9a61-46e67c0cbcac",
        "colab": {
          "base_uri": "https://localhost:8080/",
          "height": 36
        }
      },
      "source": [
        "noise_train = np.reshape(noise_train, (50000,32, 32, 3))\n",
        "noise_train.shape"
      ],
      "execution_count": null,
      "outputs": [
        {
          "output_type": "execute_result",
          "data": {
            "text/plain": [
              "(50000, 32, 32, 3)"
            ]
          },
          "metadata": {
            "tags": []
          },
          "execution_count": 35
        }
      ]
    },
    {
      "cell_type": "code",
      "metadata": {
        "id": "Ncd6Cbc2j1jH"
      },
      "source": [
        "trainset.data = noise_train"
      ],
      "execution_count": null,
      "outputs": []
    },
    {
      "cell_type": "code",
      "metadata": {
        "id": "tEhyHO5VYHG5"
      },
      "source": [
        "true_test = testset.data"
      ],
      "execution_count": null,
      "outputs": []
    },
    {
      "cell_type": "code",
      "metadata": {
        "id": "pNfT218kYHHF"
      },
      "source": [
        "test_label = testset.targets"
      ],
      "execution_count": null,
      "outputs": []
    },
    {
      "cell_type": "code",
      "metadata": {
        "id": "7Yvi0O2VYHHM",
        "outputId": "be541a1f-4857-436a-e0f0-77903693891a",
        "colab": {
          "base_uri": "https://localhost:8080/",
          "height": 36
        }
      },
      "source": [
        "true_test.shape"
      ],
      "execution_count": null,
      "outputs": [
        {
          "output_type": "execute_result",
          "data": {
            "text/plain": [
              "(10000, 32, 32, 3)"
            ]
          },
          "metadata": {
            "tags": []
          },
          "execution_count": 39
        }
      ]
    },
    {
      "cell_type": "code",
      "metadata": {
        "id": "xTNF0gS3YHHS",
        "outputId": "ac2d1f7a-9bc1-4178-edf1-0d316d754e3d",
        "colab": {
          "base_uri": "https://localhost:8080/",
          "height": 36
        }
      },
      "source": [
        "test = np.reshape(true_test, (10000,3072))\n",
        "test.shape"
      ],
      "execution_count": null,
      "outputs": [
        {
          "output_type": "execute_result",
          "data": {
            "text/plain": [
              "(10000, 3072)"
            ]
          },
          "metadata": {
            "tags": []
          },
          "execution_count": 40
        }
      ]
    },
    {
      "cell_type": "code",
      "metadata": {
        "id": "PRLw2cTVYHIQ",
        "outputId": "fc210164-fbba-4133-d45e-4fc6802243fc",
        "colab": {
          "base_uri": "https://localhost:8080/",
          "height": 36
        }
      },
      "source": [
        "len(test_label)"
      ],
      "execution_count": null,
      "outputs": [
        {
          "output_type": "execute_result",
          "data": {
            "text/plain": [
              "10000"
            ]
          },
          "metadata": {
            "tags": []
          },
          "execution_count": 41
        }
      ]
    },
    {
      "cell_type": "code",
      "metadata": {
        "id": "9x02rkwYoFFM",
        "outputId": "44572db2-5273-4da4-ef6e-a306ffa0dc30",
        "colab": {
          "base_uri": "https://localhost:8080/",
          "height": 298
        }
      },
      "source": [
        "true_test_cifar_norm=[]\n",
        "for i in range(len(test)):\n",
        "  true_test_cifar_norm.append(LA.norm(test[i]))\n",
        "\n",
        "plt.hist(true_test_cifar_norm, density=True, bins=200,label='true') \n",
        "plt.ylabel('NORM')\n",
        "plt.xlabel('Data')\n",
        "plt.legend()"
      ],
      "execution_count": null,
      "outputs": [
        {
          "output_type": "execute_result",
          "data": {
            "text/plain": [
              "<matplotlib.legend.Legend at 0x7f1413fa6b00>"
            ]
          },
          "metadata": {
            "tags": []
          },
          "execution_count": 42
        },
        {
          "output_type": "display_data",
          "data": {
            "image/png": "[encoded data removed]",
            "text/plain": [
              "<Figure size 432x288 with 1 Axes>"
            ]
          },
          "metadata": {
            "tags": [],
            "needs_background": "light"
          }
        }
      ]
    },
    {
      "cell_type": "code",
      "metadata": {
        "id": "_EB2OcUZokQc",
        "outputId": "9b5b9fec-198a-4ebc-a56f-48e7c16ca731",
        "colab": {
          "base_uri": "https://localhost:8080/",
          "height": 319
        }
      },
      "source": [
        "noise_test = np.reshape(true_test, (10000,3072))\n",
        "noise_test = add_noise_cifar(noise_test, test_label, gamma , fg1,fg2,fg3)\n",
        "noise_test_cifar_norm=[]\n",
        "for i in range(len(noise_test)):\n",
        "  noise_test_cifar_norm.append(LA.norm(noise_test[i]))\n",
        "plt.hist(noise_test_cifar_norm, density=True, bins=200,label='gamma='+str(gamma))  # `density=False` would make counts\n",
        "plt.hist(true_test_cifar_norm, density=True, bins=200,label='true') \n",
        "plt.ylabel('NORM')\n",
        "plt.xlabel('Data')\n",
        "plt.legend()\n",
        "is_equal(noise_test_cifar_norm,true_test_cifar_norm)"
      ],
      "execution_count": null,
      "outputs": [
        {
          "output_type": "stream",
          "text": [
            "total modified 3000\n"
          ],
          "name": "stdout"
        },
        {
          "output_type": "execute_result",
          "data": {
            "text/plain": [
              "7000"
            ]
          },
          "metadata": {
            "tags": []
          },
          "execution_count": 43
        },
        {
          "output_type": "display_data",
          "data": {
            "image/png": "[encoded data removed]",
            "text/plain": [
              "<Figure size 432x288 with 1 Axes>"
            ]
          },
          "metadata": {
            "tags": [],
            "needs_background": "light"
          }
        }
      ]
    },
    {
      "cell_type": "code",
      "metadata": {
        "id": "2qA07ljGQFJ7",
        "outputId": "d90dc141-c085-4665-8a1b-e4315894329b",
        "colab": {
          "base_uri": "https://localhost:8080/",
          "height": 298
        }
      },
      "source": [
        "plt.hist(true_test_cifar_norm, density=True, bins=200,label='true') \n",
        "plt.ylabel('NORM')\n",
        "plt.xlabel('Data')\n",
        "plt.legend()"
      ],
      "execution_count": null,
      "outputs": [
        {
          "output_type": "execute_result",
          "data": {
            "text/plain": [
              "<matplotlib.legend.Legend at 0x7f1418e8dcf8>"
            ]
          },
          "metadata": {
            "tags": []
          },
          "execution_count": 44
        },
        {
          "output_type": "display_data",
          "data": {
            "image/png": "[encoded data removed]",
            "text/plain": [
              "<Figure size 432x288 with 1 Axes>"
            ]
          },
          "metadata": {
            "tags": [],
            "needs_background": "light"
          }
        }
      ]
    },
    {
      "cell_type": "code",
      "metadata": {
        "id": "d0VFtDFrQFKO",
        "outputId": "cc60ed2a-4994-46d5-bb4b-83ac6d81d432",
        "colab": {
          "base_uri": "https://localhost:8080/",
          "height": 301
        }
      },
      "source": [
        "plt.hist(noise_test_cifar_norm, density=True, bins=200,label='gamma='+str(gamma))  # `density=False` would make counts\n",
        "# plt.hist(true_train_cifar_norm, density=True, bins=200,label='true') \n",
        "plt.ylabel('NORM')\n",
        "plt.xlabel('Data')\n",
        "plt.legend()"
      ],
      "execution_count": null,
      "outputs": [
        {
          "output_type": "execute_result",
          "data": {
            "text/plain": [
              "<matplotlib.legend.Legend at 0x7f1413e88f98>"
            ]
          },
          "metadata": {
            "tags": []
          },
          "execution_count": 45
        },
        {
          "output_type": "display_data",
          "data": {
            "image/png": "[encoded data removed]",
            "text/plain": [
              "<Figure size 432x288 with 1 Axes>"
            ]
          },
          "metadata": {
            "tags": [],
            "needs_background": "light"
          }
        }
      ]
    },
    {
      "cell_type": "code",
      "metadata": {
        "id": "KHElHqmrYHIX",
        "outputId": "2f42897d-6070-47ef-bcda-8c5d76d4344e",
        "colab": {
          "base_uri": "https://localhost:8080/",
          "height": 36
        }
      },
      "source": [
        "noise_test.shape, testset.data.shape"
      ],
      "execution_count": null,
      "outputs": [
        {
          "output_type": "execute_result",
          "data": {
            "text/plain": [
              "((10000, 3072), (10000, 32, 32, 3))"
            ]
          },
          "metadata": {
            "tags": []
          },
          "execution_count": 46
        }
      ]
    },
    {
      "cell_type": "code",
      "metadata": {
        "id": "DY51kmksYHIb",
        "outputId": "e56f773a-e930-4d76-cd81-0a9f39d46087",
        "colab": {
          "base_uri": "https://localhost:8080/",
          "height": 36
        }
      },
      "source": [
        "noise_test = np.reshape(noise_test, (10000,32, 32, 3))\n",
        "noise_test.shape"
      ],
      "execution_count": null,
      "outputs": [
        {
          "output_type": "execute_result",
          "data": {
            "text/plain": [
              "(10000, 32, 32, 3)"
            ]
          },
          "metadata": {
            "tags": []
          },
          "execution_count": 47
        }
      ]
    },
    {
      "cell_type": "code",
      "metadata": {
        "id": "AGDb6gpjYHIe"
      },
      "source": [
        "testset.data = noise_test"
      ],
      "execution_count": null,
      "outputs": []
    },
    {
      "cell_type": "code",
      "metadata": {
        "id": "iLulDYL_ndvY",
        "outputId": "13657a07-1acb-4b30-8114-d6506da6c0c5",
        "colab": {
          "base_uri": "https://localhost:8080/",
          "height": 36
        }
      },
      "source": [
        "fg = [fg1,fg2,fg3]\n",
        "bg = list(set([0,1,2,3,4,5,6,7,8,9])-set(fg))\n",
        "fg,bg"
      ],
      "execution_count": null,
      "outputs": [
        {
          "output_type": "execute_result",
          "data": {
            "text/plain": [
              "([0, 1, 2], [3, 4, 5, 6, 7, 8, 9])"
            ]
          },
          "metadata": {
            "tags": []
          },
          "execution_count": 49
        }
      ]
    },
    {
      "cell_type": "code",
      "metadata": {
        "id": "5Jk7ZzLSX-Mf"
      },
      "source": [
        "trainloader = torch.utils.data.DataLoader(trainset, batch_size=10, shuffle=True)\n",
        "testloader = torch.utils.data.DataLoader(testset, batch_size=10, shuffle=False)\n"
      ],
      "execution_count": null,
      "outputs": []
    },
    {
      "cell_type": "code",
      "metadata": {
        "id": "gLiZ8Y0EkGE5"
      },
      "source": [
        "dataiter = iter(trainloader)\n",
        "train_background_data=[]\n",
        "train_background_label=[]\n",
        "train_foreground_data=[]\n",
        "train_foreground_label=[]\n",
        "batch_size=10\n",
        "\n",
        "for i in range(5000):\n",
        "  images, labels = dataiter.next()\n",
        "  for j in range(batch_size):\n",
        "    if(classes[labels[j]] in background_classes):\n",
        "      img = images[j].tolist()\n",
        "      train_background_data.append(img)\n",
        "      train_background_label.append(labels[j])\n",
        "    else:\n",
        "      img = images[j].tolist()\n",
        "      train_foreground_data.append(img)\n",
        "      train_foreground_label.append(labels[j])\n",
        "\n",
        "train_foreground_data = torch.tensor(train_foreground_data)\n",
        "train_foreground_label = torch.tensor(train_foreground_label)\n",
        "train_background_data = torch.tensor(train_background_data)\n",
        "train_background_label = torch.tensor(train_background_label)    "
      ],
      "execution_count": null,
      "outputs": []
    },
    {
      "cell_type": "code",
      "metadata": {
        "id": "SRl_9E-6SLLe"
      },
      "source": [
        "dataiter = iter(testloader)\n",
        "test_background_data=[]\n",
        "test_background_label=[]\n",
        "test_foreground_data=[]\n",
        "test_foreground_label=[]\n",
        "batch_size=10\n",
        "\n",
        "for i in range(1000):\n",
        "  images, labels = dataiter.next()\n",
        "  for j in range(batch_size):\n",
        "    if(classes[labels[j]] in background_classes):\n",
        "      img = images[j].tolist()\n",
        "      test_background_data.append(img)\n",
        "      test_background_label.append(labels[j])\n",
        "    else:\n",
        "      img = images[j].tolist()\n",
        "      test_foreground_data.append(img)\n",
        "      test_foreground_label.append(labels[j])\n",
        "\n",
        "test_foreground_data = torch.tensor(test_foreground_data)\n",
        "test_foreground_label = torch.tensor(test_foreground_label)\n",
        "test_background_data = torch.tensor(test_background_data)\n",
        "test_background_label = torch.tensor(test_background_label)    "
      ],
      "execution_count": null,
      "outputs": []
    },
    {
      "cell_type": "code",
      "metadata": {
        "id": "seziBl0rkH0Y"
      },
      "source": [
        "def imshow(img):\n",
        "  img = img / 2 + 0.5     # unnormalize\n",
        "  npimg = img#.numpy()\n",
        "  plt.imshow(np.transpose(npimg, (1, 2, 0)))\n",
        "  plt.show()"
      ],
      "execution_count": null,
      "outputs": []
    },
    {
      "cell_type": "code",
      "metadata": {
        "id": "DmxEx0N3kOxZ",
        "outputId": "d0846add-cd19-45b2-ad94-c31a4d9882a4",
        "colab": {
          "base_uri": "https://localhost:8080/",
          "height": 807
        }
      },
      "source": [
        "img1 = torch.cat((true_test_foreground_data[27],true_test_foreground_data[3],true_test_foreground_data[43]),1)\n",
        "imshow(img1)\n",
        "img2 = torch.cat((test_foreground_data[27],test_foreground_data[3],test_foreground_data[43]),1)\n",
        "imshow(img2)\n",
        "img3 = torch.cat((img1,img2),2)\n",
        "imshow(img3)\n",
        "print(img2.size())\n",
        "print(LA.norm(test_foreground_data[27]), LA.norm(true_test_foreground_data[27]))"
      ],
      "execution_count": null,
      "outputs": [
        {
          "output_type": "display_data",
          "data": {
            "image/png": "[encoded data removed]",
            "text/plain": [
              "<Figure size 432x288 with 1 Axes>"
            ]
          },
          "metadata": {
            "tags": [],
            "needs_background": "light"
          }
        },
        {
          "output_type": "display_data",
          "data": {
            "image/png": "[encoded data removed]",
            "text/plain": [
              "<Figure size 432x288 with 1 Axes>"
            ]
          },
          "metadata": {
            "tags": [],
            "needs_background": "light"
          }
        },
        {
          "output_type": "display_data",
          "data": {
            "image/png": "[encoded data removed]",
            "text/plain": [
              "<Figure size 432x288 with 1 Axes>"
            ]
          },
          "metadata": {
            "tags": [],
            "needs_background": "light"
          }
        },
        {
          "output_type": "stream",
          "text": [
            "torch.Size([3, 96, 32])\n",
            "15.468604 15.428806\n"
          ],
          "name": "stdout"
        }
      ]
    },
    {
      "cell_type": "code",
      "metadata": {
        "id": "SVotKJvGnAUJ",
        "outputId": "fb82093d-f43c-4b47-9790-4f831932e3a1",
        "colab": {
          "base_uri": "https://localhost:8080/",
          "height": 1000
        }
      },
      "source": [
        "import random\n",
        "for i in range(10):\n",
        "  random.seed(i)\n",
        "  a = np.random.randint(0,10000)\n",
        "  img1 = torch.cat((true_test_foreground_data[i],test_foreground_data[i]),2)\n",
        "  imshow(img1)"
      ],
      "execution_count": null,
      "outputs": [
        {
          "output_type": "display_data",
          "data": {
            "image/png": "[encoded data removed]",
            "text/plain": [
              "<Figure size 432x288 with 1 Axes>"
            ]
          },
          "metadata": {
            "tags": [],
            "needs_background": "light"
          }
        },
        {
          "output_type": "display_data",
          "data": {
            "image/png": "[encoded data removed]",
            "text/plain": [
              "<Figure size 432x288 with 1 Axes>"
            ]
          },
          "metadata": {
            "tags": [],
            "needs_background": "light"
          }
        },
        {
          "output_type": "display_data",
          "data": {
            "image/png": "[encoded data removed]",
            "text/plain": [
              "<Figure size 432x288 with 1 Axes>"
            ]
          },
          "metadata": {
            "tags": [],
            "needs_background": "light"
          }
        },
        {
          "output_type": "display_data",
          "data": {
            "image/png": "[encoded data removed]",
            "text/plain": [
              "<Figure size 432x288 with 1 Axes>"
            ]
          },
          "metadata": {
            "tags": [],
            "needs_background": "light"
          }
        },
        {
          "output_type": "display_data",
          "data": {
            "image/png": "[encoded data removed]",
            "text/plain": [
              "<Figure size 432x288 with 1 Axes>"
            ]
          },
          "metadata": {
            "tags": [],
            "needs_background": "light"
          }
        },
        {
          "output_type": "display_data",
          "data": {
            "image/png": "[encoded data removed]",
            "text/plain": [
              "<Figure size 432x288 with 1 Axes>"
            ]
          },
          "metadata": {
            "tags": [],
            "needs_background": "light"
          }
        },
        {
          "output_type": "display_data",
          "data": {
            "image/png": "[encoded data removed]",
            "text/plain": [
              "<Figure size 432x288 with 1 Axes>"
            ]
          },
          "metadata": {
            "tags": [],
            "needs_background": "light"
          }
        },
        {
          "output_type": "display_data",
          "data": {
            "image/png": "[encoded data removed]",
            "text/plain": [
              "<Figure size 432x288 with 1 Axes>"
            ]
          },
          "metadata": {
            "tags": [],
            "needs_background": "light"
          }
        },
        {
          "output_type": "display_data",
          "data": {
            "image/png": "[encoded data removed]",
            "text/plain": [
              "<Figure size 432x288 with 1 Axes>"
            ]
          },
          "metadata": {
            "tags": [],
            "needs_background": "light"
          }
        },
        {
          "output_type": "display_data",
          "data": {
            "image/png": "[encoded data removed]",
            "text/plain": [
              "<Figure size 432x288 with 1 Axes>"
            ]
          },
          "metadata": {
            "tags": [],
            "needs_background": "light"
          }
        }
      ]
    },
    {
      "cell_type": "code",
      "metadata": {
        "id": "wo78BztGTwwL"
      },
      "source": [
        "def plot_vectors(u1,u2,u3):\n",
        "  img = np.reshape(u1,(3,32,32))\n",
        "  img = img / 2 + 0.5     # unnormalize\n",
        "  npimg = img#.numpy()\n",
        "  print(\"vector u1 norm\",LA.norm(img))\n",
        "  plt.figure(1)\n",
        "  plt.imshow(np.transpose(npimg, (1, 2, 0)))\n",
        "  plt.title(\"vector u1\")\n",
        "\n",
        "  img = np.reshape(u2,(3,32,32))\n",
        "  img = img / 2 + 0.5     # unnormalize\n",
        "  npimg = img#.numpy()\n",
        "  print(\"vector u2 norm\",LA.norm(img))\n",
        "  plt.figure(2)\n",
        "  plt.imshow(np.transpose(npimg, (1, 2, 0)))\n",
        "  plt.title(\"vector u2\")\n",
        "\n",
        "  img = np.reshape(u3,(3,32,32))\n",
        "  img = img / 2 + 0.5     # unnormalize\n",
        "  npimg = img#.numpy()\n",
        "  print(\"vector u3 norm\",LA.norm(img))\n",
        "  plt.figure(3)\n",
        "  plt.imshow(np.transpose(npimg, (1, 2, 0)))\n",
        "  plt.title(\"vector u3\")\n",
        "  plt.show()"
      ],
      "execution_count": null,
      "outputs": []
    },
    {
      "cell_type": "code",
      "metadata": {
        "id": "72zcYiJsTPEr",
        "outputId": "e599108e-91cb-4545-df40-8dd2e21419af",
        "colab": {
          "base_uri": "https://localhost:8080/",
          "height": 865
        }
      },
      "source": [
        "plot_vectors(u1,u2,u3)"
      ],
      "execution_count": null,
      "outputs": [
        {
          "output_type": "stream",
          "text": [
            "vector u1 norm 27.717323153497116\n",
            "vector u2 norm 27.71732319535422\n",
            "vector u3 norm 27.7173231446186\n"
          ],
          "name": "stdout"
        },
        {
          "output_type": "display_data",
          "data": {
            "image/png": "[encoded data removed]",
            "text/plain": [
              "<Figure size 432x288 with 1 Axes>"
            ]
          },
          "metadata": {
            "tags": [],
            "needs_background": "light"
          }
        },
        {
          "output_type": "display_data",
          "data": {
            "image/png": "[encoded data removed]",
            "text/plain": [
              "<Figure size 432x288 with 1 Axes>"
            ]
          },
          "metadata": {
            "tags": [],
            "needs_background": "light"
          }
        },
        {
          "output_type": "display_data",
          "data": {
            "image/png": "[encoded data removed]",
            "text/plain": [
              "<Figure size 432x288 with 1 Axes>"
            ]
          },
          "metadata": {
            "tags": [],
            "needs_background": "light"
          }
        }
      ]
    },
    {
      "cell_type": "code",
      "metadata": {
        "id": "wFpwvWrzYJQi"
      },
      "source": [
        "class MosaicDataset(Dataset):\n",
        "  \"\"\"MosaicDataset dataset.\"\"\"\n",
        "\n",
        "  def __init__(self, mosaic_list_of_images, mosaic_label, fore_idx):\n",
        "    \"\"\"\n",
        "      Args:\n",
        "        csv_file (string): Path to the csv file with annotations.\n",
        "        root_dir (string): Directory with all the images.\n",
        "        transform (callable, optional): Optional transform to be applied\n",
        "            on a sample.\n",
        "    \"\"\"\n",
        "    self.mosaic = mosaic_list_of_images\n",
        "    self.label = mosaic_label\n",
        "    self.fore_idx = fore_idx\n",
        "\n",
        "  def __len__(self):\n",
        "    return len(self.label)\n",
        "\n",
        "  def __getitem__(self, idx):\n",
        "    return self.mosaic[idx] , self.label[idx], self.fore_idx[idx]"
      ],
      "execution_count": null,
      "outputs": []
    },
    {
      "cell_type": "code",
      "metadata": {
        "id": "DxW0w8_BXsih"
      },
      "source": [
        "def create_mosaic_img(background_data, foreground_data, foreground_label, bg_idx,fg_idx,fg,fg1): \n",
        "  \"\"\"\n",
        "  bg_idx : list of indexes of background_data[] to be used as background images in mosaic\n",
        "  fg_idx : index of image to be used as foreground image from foreground data\n",
        "  fg : at what position/index foreground image has to be stored out of 0-8\n",
        "  \"\"\"\n",
        "  image_list=[]\n",
        "  j=0\n",
        "  for i in range(9):\n",
        "    if i != fg:\n",
        "      image_list.append(background_data[bg_idx[j]].type(\"torch.DoubleTensor\"))\n",
        "      j+=1\n",
        "    else: \n",
        "      image_list.append(foreground_data[fg_idx].type(\"torch.DoubleTensor\"))\n",
        "      label = foreground_label[fg_idx] -fg1  #-7  # minus 7 because our fore ground classes are 7,8,9 but we have to store it as 0,1,2\n",
        "  #image_list = np.concatenate(image_list ,axis=0)\n",
        "  image_list = torch.stack(image_list) \n",
        "  return image_list,label"
      ],
      "execution_count": null,
      "outputs": []
    },
    {
      "cell_type": "code",
      "metadata": {
        "id": "jTpidLeLVyyK"
      },
      "source": [
        "def init_mosaic_creation(bg_size, fg_size, desired_num, background_data, foreground_data, foreground_label,fg1):\n",
        "  # bg_size = 35000\n",
        "  # fg_size = 15000\n",
        "  # desired_num = 30000\n",
        "  mosaic_list_of_images =[]      # list of mosaic images, each mosaic image is saved as list of 9 images\n",
        "  fore_idx =[]                   # list of indexes at which foreground image is present in a mosaic image i.e from 0 to 9               \n",
        "  mosaic_label=[]                # label of mosaic image = foreground class present in that mosaic\n",
        "  for i in range(desired_num):\n",
        "    np.random.seed(i+ bg_size + desired_num)\n",
        "    bg_idx = np.random.randint(0,bg_size,8)\n",
        "    # print(bg_idx)\n",
        "    np.random.seed(i+ fg_size + desired_num)\n",
        "    fg_idx = np.random.randint(0,fg_size)\n",
        "    # print(fg_idx)\n",
        "    fg = np.random.randint(0,9)\n",
        "    fore_idx.append(fg)\n",
        "    image_list,label = create_mosaic_img(background_data, foreground_data, foreground_label ,bg_idx,fg_idx,fg, fg1)\n",
        "    mosaic_list_of_images.append(image_list)\n",
        "    mosaic_label.append(label)\n",
        "  \n",
        "  return mosaic_list_of_images, mosaic_label, fore_idx"
      ],
      "execution_count": null,
      "outputs": []
    },
    {
      "cell_type": "code",
      "metadata": {
        "id": "WuIMxXjgV1sB"
      },
      "source": [
        "train_mosaic_list_of_images, train_mosaic_label, train_fore_idx = init_mosaic_creation(bg_size = 35000, \n",
        "                                                                     fg_size = 15000, \n",
        "                                                                     desired_num = 30000, \n",
        "                                                                     background_data = train_background_data, \n",
        "                                                                     foreground_data = train_foreground_data, \n",
        "                                                                     foreground_label = train_foreground_label,\n",
        "                                                                     fg1 = fg1\n",
        "                                                                     )"
      ],
      "execution_count": null,
      "outputs": []
    },
    {
      "cell_type": "code",
      "metadata": {
        "id": "jNw9xEHdYLRQ"
      },
      "source": [
        "batch = 250\n",
        "msd_1 = MosaicDataset(train_mosaic_list_of_images, train_mosaic_label , train_fore_idx)\n",
        "train_loader_from_noise_train_mosaic_30k = DataLoader( msd_1,batch_size= batch ,shuffle=True)"
      ],
      "execution_count": null,
      "outputs": []
    },
    {
      "cell_type": "code",
      "metadata": {
        "id": "uy9iem2zYT-p"
      },
      "source": [
        "test_mosaic_list_of_images, test_mosaic_label, test_fore_idx = init_mosaic_creation(bg_size = 35000, \n",
        "                                                                     fg_size = 15000, \n",
        "                                                                     desired_num = 10000, \n",
        "                                                                     background_data = train_background_data, \n",
        "                                                                     foreground_data = train_foreground_data, \n",
        "                                                                     foreground_label = train_foreground_label,\n",
        "                                                                     fg1 = fg1\n",
        "                                                                     )"
      ],
      "execution_count": null,
      "outputs": []
    },
    {
      "cell_type": "code",
      "metadata": {
        "id": "ek_hNOGfY_Rg"
      },
      "source": [
        "batch = 250\n",
        "msd_2 = MosaicDataset(test_mosaic_list_of_images, test_mosaic_label , test_fore_idx)\n",
        "test_loader_from_noise_train_mosaic_30k = DataLoader( msd_2, batch_size= batch ,shuffle=True)"
      ],
      "execution_count": null,
      "outputs": []
    },
    {
      "cell_type": "code",
      "metadata": {
        "id": "k9Fb3xqvZXgY"
      },
      "source": [
        "test_mosaic_list_of_images_1, test_mosaic_label_1, test_fore_idx_1 = init_mosaic_creation(bg_size = 7000, \n",
        "                                                                     fg_size = 3000, \n",
        "                                                                     desired_num = 10000, \n",
        "                                                                     background_data = test_background_data, \n",
        "                                                                     foreground_data = test_foreground_data, \n",
        "                                                                     foreground_label = test_foreground_label,\n",
        "                                                                     fg1 = fg1\n",
        "                                                                     )"
      ],
      "execution_count": null,
      "outputs": []
    },
    {
      "cell_type": "code",
      "metadata": {
        "id": "D491Dr2eZxXo"
      },
      "source": [
        "batch = 250\n",
        "msd_3 = MosaicDataset(test_mosaic_list_of_images_1, test_mosaic_label_1 , test_fore_idx_1)\n",
        "test_loader_from_noise_test_mosaic_10k = DataLoader( msd_3, batch_size= batch ,shuffle=True)"
      ],
      "execution_count": null,
      "outputs": []
    },
    {
      "cell_type": "code",
      "metadata": {
        "id": "vfEaNoxVaTEp"
      },
      "source": [
        "test_mosaic_list_of_images_2, test_mosaic_label_2, test_fore_idx_2 = init_mosaic_creation(bg_size = 35000, \n",
        "                                                                     fg_size = 15000, \n",
        "                                                                     desired_num = 10000, \n",
        "                                                                     background_data = true_train_background_data, \n",
        "                                                                     foreground_data = true_train_foreground_data, \n",
        "                                                                     foreground_label = true_train_foreground_label,\n",
        "                                                                     fg1 = fg1\n",
        "                                                                     )"
      ],
      "execution_count": null,
      "outputs": []
    },
    {
      "cell_type": "code",
      "metadata": {
        "id": "ytvVuHTgaTEu"
      },
      "source": [
        "batch = 250\n",
        "msd_4 = MosaicDataset(test_mosaic_list_of_images_2, test_mosaic_label_2, test_fore_idx_2)\n",
        "test_loader_from_true_train_mosaic_30k = DataLoader( msd_4, batch_size= batch , shuffle=True)"
      ],
      "execution_count": null,
      "outputs": []
    },
    {
      "cell_type": "code",
      "metadata": {
        "id": "cbN6OQzxaTEy"
      },
      "source": [
        "test_mosaic_list_of_images_3, test_mosaic_label_3, test_fore_idx_3 = init_mosaic_creation(bg_size = 7000, \n",
        "                                                                     fg_size = 3000, \n",
        "                                                                     desired_num = 10000, \n",
        "                                                                     background_data = true_test_background_data, \n",
        "                                                                     foreground_data = true_test_foreground_data, \n",
        "                                                                     foreground_label = true_test_foreground_label,\n",
        "                                                                     fg1 = fg1\n",
        "                                                                     )"
      ],
      "execution_count": null,
      "outputs": []
    },
    {
      "cell_type": "code",
      "metadata": {
        "id": "Mu890cyTaTE2"
      },
      "source": [
        "batch = 250\n",
        "msd_5 = MosaicDataset(test_mosaic_list_of_images_3, test_mosaic_label_3, test_fore_idx_3)\n",
        "test_loader_from_true_train_mosaic_10k = DataLoader( msd_5, batch_size= batch ,shuffle=True)"
      ],
      "execution_count": null,
      "outputs": []
    },
    {
      "cell_type": "code",
      "metadata": {
        "id": "dgQ0htWqkqzo"
      },
      "source": [
        "class Module1(nn.Module):\n",
        "  def __init__(self):\n",
        "    super(Module1, self).__init__()\n",
        "    self.conv1 = nn.Conv2d(3, 6, 5)\n",
        "    self.pool = nn.MaxPool2d(2, 2)\n",
        "    self.conv2 = nn.Conv2d(6, 16, 5)\n",
        "    self.fc1 = nn.Linear(16 * 5 * 5, 120)\n",
        "    self.fc2 = nn.Linear(120, 84)\n",
        "    self.fc3 = nn.Linear(84, 10)\n",
        "    self.fc4 = nn.Linear(10,1)\n",
        "\n",
        "  def forward(self, x):\n",
        "    x = self.pool(F.relu(self.conv1(x)))\n",
        "    x = self.pool(F.relu(self.conv2(x)))\n",
        "    x = x.view(-1, 16 * 5 * 5)\n",
        "    x = F.relu(self.fc1(x))\n",
        "    x = F.relu(self.fc2(x))\n",
        "    x = F.relu(self.fc3(x))\n",
        "    x = self.fc4(x)\n",
        "    return x"
      ],
      "execution_count": null,
      "outputs": []
    },
    {
      "cell_type": "code",
      "metadata": {
        "id": "XElkdct-kvQB"
      },
      "source": [
        "class Module2(nn.Module):\n",
        "  def __init__(self):\n",
        "    super(Module2, self).__init__()\n",
        "    self.module1 = Module1().double()\n",
        "    self.conv1 = nn.Conv2d(3, 6, 5)\n",
        "    self.pool = nn.MaxPool2d(2, 2)\n",
        "    self.conv2 = nn.Conv2d(6, 16, 5)\n",
        "    self.fc1 = nn.Linear(16 * 5 * 5, 120)\n",
        "    self.fc2 = nn.Linear(120, 84)\n",
        "    self.fc3 = nn.Linear(84, 10)\n",
        "    self.fc4 = nn.Linear(10,3)\n",
        "\n",
        "  def forward(self,z):  #z batch of list of 9 images\n",
        "    y = torch.zeros([batch,3, 32,32], dtype=torch.float64)\n",
        "    x = torch.zeros([batch,9],dtype=torch.float64)\n",
        "    x = x.to(\"cuda\")\n",
        "    y = y.to(\"cuda\")\n",
        "    for i in range(9):\n",
        "        x[:,i] = self.module1.forward(z[:,i])[:,0]\n",
        "\n",
        "    x = F.softmax(x,dim=1)\n",
        "\n",
        "    x1 = x[:,0]\n",
        "    torch.mul(x1[:,None,None,None],z[:,0])\n",
        "\n",
        "    for i in range(9):            \n",
        "      x1 = x[:,i]          \n",
        "      y = y + torch.mul(x1[:,None,None,None],z[:,i])\n",
        "      y = y.contiguous()\n",
        "\n",
        "\n",
        "    y1 = self.pool(F.relu(self.conv1(y)))\n",
        "    y1 = self.pool(F.relu(self.conv2(y1)))\n",
        "    y1 = y1.contiguous()\n",
        "    y1 = y1.reshape(-1, 16 * 5 * 5)\n",
        "\n",
        "    y1 = F.relu(self.fc1(y1))\n",
        "    y1 = F.relu(self.fc2(y1))\n",
        "    y1 = F.relu(self.fc3(y1))\n",
        "    y1 = self.fc4(y1)\n",
        "    return y1 , x, y"
      ],
      "execution_count": null,
      "outputs": []
    },
    {
      "cell_type": "code",
      "metadata": {
        "id": "Nus7AK1xRX7W"
      },
      "source": [
        "def training(trainloader, fore_net, epochs=600):\n",
        "  import torch.optim as optim\n",
        "  criterion = nn.CrossEntropyLoss()\n",
        "  optimizer = optim.SGD(fore_net.parameters(), lr=0.01, momentum=0.9)\n",
        "  nos_epochs = epochs\n",
        "\n",
        "  for epoch in range(nos_epochs):  # loop over the dataset multiple times\n",
        "    running_loss = 0.0\n",
        "    cnt=0\n",
        "    mini_loss = []\n",
        "    iteration = 30000 // batch    \n",
        "    for i, data in  enumerate(train_loader_from_noise_train_mosaic_30k):\n",
        "      inputs , labels , fore_idx = data\n",
        "      inputs, labels, fore_idx = inputs.to(\"cuda\"),labels.to(\"cuda\"), fore_idx.to(\"cuda\")\n",
        "\n",
        "      optimizer.zero_grad()\n",
        "      outputs, alphas, avg_images = fore_net(inputs)\n",
        "\n",
        "      _, predicted = torch.max(outputs.data, 1)\n",
        "      loss = criterion(outputs, labels) \n",
        "      loss.backward()\n",
        "      optimizer.step()\n",
        "      running_loss += loss.item()\n",
        "      mini = 40    \n",
        "      if cnt % mini == mini - 1:    # print every 40 mini-batches\n",
        "        print('[%d, %5d] loss: %.3f' %(epoch + 1, cnt + 1, running_loss / mini))\n",
        "        mini_loss.append(running_loss / mini)\n",
        "        running_loss = 0.0        \n",
        "      cnt=cnt+1\n",
        "    if(np.average(mini_loss) <= 0.05):\n",
        "      break\n",
        "  print('Finished Training')\n",
        "  return fore_net, epoch\n"
      ],
      "execution_count": null,
      "outputs": []
    },
    {
      "cell_type": "code",
      "metadata": {
        "id": "17GMe4WKSNji"
      },
      "source": [
        "def testing(loader, fore_net):\n",
        "  correct = 0\n",
        "  total = 0\n",
        "  count = 0\n",
        "  flag = 1\n",
        "  focus_true_pred_true =0\n",
        "  focus_false_pred_true =0\n",
        "  focus_true_pred_false =0\n",
        "  focus_false_pred_false =0\n",
        "\n",
        "  argmax_more_than_half = 0\n",
        "  argmax_less_than_half =0\n",
        "\n",
        "  with torch.no_grad():\n",
        "    for data in loader:\n",
        "      inputs, labels , fore_idx = data\n",
        "      inputs, labels , fore_idx = inputs.to(\"cuda\"),labels.to(\"cuda\"), fore_idx.to(\"cuda\")\n",
        "      outputs, alphas, avg_images = fore_net(inputs)\n",
        "\n",
        "      _, predicted = torch.max(outputs.data, 1)\n",
        "\n",
        "      for j in range(labels.size(0)):\n",
        "        count += 1\n",
        "        focus = torch.argmax(alphas[j])\n",
        "        if alphas[j][focus] >= 0.5 :\n",
        "          argmax_more_than_half += 1\n",
        "        else:\n",
        "          argmax_less_than_half += 1\n",
        "\n",
        "        if(focus == fore_idx[j] and predicted[j] == labels[j]):\n",
        "            focus_true_pred_true += 1\n",
        "        elif(focus != fore_idx[j] and predicted[j] == labels[j]):\n",
        "          focus_false_pred_true += 1\n",
        "        elif(focus == fore_idx[j] and predicted[j] != labels[j]):\n",
        "          focus_true_pred_false += 1\n",
        "        elif(focus != fore_idx[j] and predicted[j] != labels[j]):\n",
        "          focus_false_pred_false += 1\n",
        "\n",
        "      total += labels.size(0)\n",
        "      correct += (predicted == labels).sum().item()\n",
        "  \n",
        "  return correct, total, focus_true_pred_true, focus_false_pred_true, focus_true_pred_false, focus_false_pred_false, argmax_more_than_half\n"
      ],
      "execution_count": null,
      "outputs": []
    },
    {
      "cell_type": "code",
      "metadata": {
        "id": "lp0cGt63YuUc"
      },
      "source": [
        "def enter_into(table, sno, correct, total, ftpt, ffpt, ftpf, ffpf, alpha_more_half , fg, bg, epoch = \"NA\"):\n",
        "  entry = []\n",
        "  entry = [sno,'fg = '+ str(fg),'bg = '+str(bg), epoch, total, correct,]\n",
        "  entry.append((100.0*correct/total))\n",
        "  entry.append((100 * ftpt / total))\n",
        "  entry.append( (100 * ffpt / total))\n",
        "  entry.append( ( 100 * ftpf / total))\n",
        "  entry.append( ( 100 * ffpf / total))\n",
        "  entry.append( alpha_more_half)\n",
        "\n",
        "  table.append(entry)\n",
        "  print(\" \")\n",
        "  print(\"=\"*160)\n",
        "  print(tabulate(table, headers=['S.No.', 'fg_class','bg_class','Epoch used','total_points', 'correct','accuracy','FTPT', 'FFPT', 'FTPF', 'FFPF', 'avg_img > 0.5'] ) )\n",
        "  print(\" \")\n",
        "  print(\"=\"*160)\n",
        "  return table"
      ],
      "execution_count": null,
      "outputs": []
    },
    {
      "cell_type": "code",
      "metadata": {
        "id": "uS6Gq-4VfX89"
      },
      "source": [
        "def add_average_entry(table):\n",
        "  entry =[]\n",
        "  entry = ['Avg', \"\",\"\" ,\"\" ,\"\" , \"\",]\n",
        "  entry.append( np.mean(np.array(table)[:,6].astype(np.float)) )\n",
        "  entry.append( np.mean(np.array(table)[:,7].astype(np.float)) )\n",
        "  entry.append( np.mean(np.array(table)[:,8].astype(np.float)) )\n",
        "  entry.append( np.mean(np.array(table)[:,9].astype(np.float)) )\n",
        "  entry.append( np.mean(np.array(table)[:,10].astype(np.float)) )\n",
        "  entry.append( np.mean(np.array(table)[:,11].astype(np.float)) )\n",
        "\n",
        "  table.append(entry)\n",
        "  print(\" \")\n",
        "  print(\"=\"*160)\n",
        "  print(tabulate(table, headers=['S.No.', 'fg_class','bg_class','Epoch used','total_points', 'correct','accuracy','FTPT', 'FFPT', 'FTPF', 'FFPF', 'avg_img > 0.5'] ) )\n",
        "  print(\" \")\n",
        "  print(\"=\"*160)\n",
        "  return table\n"
      ],
      "execution_count": null,
      "outputs": []
    },
    {
      "cell_type": "code",
      "metadata": {
        "id": "M8ClgTOAbUQu"
      },
      "source": [
        "train_table=[]\n",
        "test_table1=[]\n",
        "test_table2=[]\n",
        "test_table3=[]\n",
        "test_table4=[]\n",
        "fg = [fg1,fg2,fg3]\n",
        "bg = list(set([0,1,2,3,4,5,6,7,8,9])-set(fg))\n"
      ],
      "execution_count": null,
      "outputs": []
    },
    {
      "cell_type": "code",
      "metadata": {
        "id": "TuIb2Y29kxWT",
        "outputId": "f1558897-3ec9-4eec-9e71-7883a00ec84c",
        "colab": {
          "base_uri": "https://localhost:8080/",
          "height": 1000
        }
      },
      "source": [
        "number_runs = 10\n",
        "\n",
        "for i in range(number_runs):\n",
        "  fore_net = Module2().double()\n",
        "  fore_net = fore_net.to(\"cuda\")\n",
        "\n",
        "  fore_net, epoch = training(train_loader_from_noise_train_mosaic_30k, fore_net)\n",
        "\n",
        "  correct, total, ftpt, ffpt, ftpf, ffpf, alpha_more_half = testing(train_loader_from_noise_train_mosaic_30k, fore_net)\n",
        "  train_table = enter_into(train_table, i+1, correct, total, ftpt, ffpt, ftpf, ffpf, alpha_more_half, fg, bg, str(epoch) )\n",
        "\n",
        "  correct, total, ftpt, ffpt, ftpf, ffpf, alpha_more_half = testing(test_loader_from_noise_train_mosaic_30k, fore_net)\n",
        "  test_table1 = enter_into(test_table1, i+1, correct, total, ftpt, ffpt, ftpf, ffpf, alpha_more_half , fg, bg )\n",
        "\n",
        "  correct, total, ftpt, ffpt, ftpf, ffpf, alpha_more_half = testing(test_loader_from_noise_test_mosaic_10k, fore_net)\n",
        "  test_table2 = enter_into(test_table2, i+1, correct, total, ftpt, ffpt, ftpf, ffpf, alpha_more_half, fg, bg )\n",
        "\n",
        "  correct, total, ftpt, ffpt, ftpf, ffpf, alpha_more_half = testing(test_loader_from_true_train_mosaic_30k, fore_net)\n",
        "  test_table3 = enter_into(test_table3, i+1, correct, total, ftpt, ffpt, ftpf, ffpf, alpha_more_half , fg, bg)\n",
        "\n",
        "  correct, total, ftpt, ffpt, ftpf, ffpf, alpha_more_half = testing(test_loader_from_true_train_mosaic_10k, fore_net)\n",
        "  test_table4 = enter_into(test_table4, i+1, correct, total, ftpt, ffpt, ftpf, ffpf, alpha_more_half, fg, bg )\n",
        "\n"
      ],
      "execution_count": 78,
      "outputs": [
        {
          "output_type": "stream",
          "text": [
            "[1,    40] loss: 1.101\n",
            "[1,    80] loss: 1.099\n",
            "[1,   120] loss: 1.099\n",
            "[2,    40] loss: 1.098\n",
            "[2,    80] loss: 1.098\n",
            "[2,   120] loss: 1.098\n",
            "[3,    40] loss: 1.098\n",
            "[3,    80] loss: 1.098\n",
            "[3,   120] loss: 1.098\n",
            "[4,    40] loss: 1.097\n",
            "[4,    80] loss: 1.097\n",
            "[4,   120] loss: 1.096\n",
            "[5,    40] loss: 1.095\n",
            "[5,    80] loss: 1.093\n",
            "[5,   120] loss: 1.092\n",
            "[6,    40] loss: 1.090\n",
            "[6,    80] loss: 1.087\n",
            "[6,   120] loss: 1.085\n",
            "[7,    40] loss: 1.081\n",
            "[7,    80] loss: 1.083\n",
            "[7,   120] loss: 1.075\n",
            "[8,    40] loss: 1.073\n",
            "[8,    80] loss: 1.073\n",
            "[8,   120] loss: 1.074\n",
            "[9,    40] loss: 1.072\n",
            "[9,    80] loss: 1.072\n",
            "[9,   120] loss: 1.072\n",
            "[10,    40] loss: 1.069\n",
            "[10,    80] loss: 1.068\n",
            "[10,   120] loss: 1.066\n",
            "[11,    40] loss: 1.065\n",
            "[11,    80] loss: 1.067\n",
            "[11,   120] loss: 1.065\n",
            "[12,    40] loss: 1.063\n",
            "[12,    80] loss: 1.063\n",
            "[12,   120] loss: 1.064\n",
            "[13,    40] loss: 1.063\n",
            "[13,    80] loss: 1.059\n",
            "[13,   120] loss: 1.062\n",
            "[14,    40] loss: 1.060\n",
            "[14,    80] loss: 1.062\n",
            "[14,   120] loss: 1.054\n",
            "[15,    40] loss: 1.058\n",
            "[15,    80] loss: 1.053\n",
            "[15,   120] loss: 1.052\n",
            "[16,    40] loss: 1.049\n",
            "[16,    80] loss: 1.047\n",
            "[16,   120] loss: 1.042\n",
            "[17,    40] loss: 1.036\n",
            "[17,    80] loss: 1.028\n",
            "[17,   120] loss: 1.022\n",
            "[18,    40] loss: 1.018\n",
            "[18,    80] loss: 1.009\n",
            "[18,   120] loss: 1.000\n",
            "[19,    40] loss: 0.971\n",
            "[19,    80] loss: 0.907\n",
            "[19,   120] loss: 0.887\n",
            "[20,    40] loss: 0.627\n",
            "[20,    80] loss: 0.407\n",
            "[20,   120] loss: 0.308\n",
            "[21,    40] loss: 0.283\n",
            "[21,    80] loss: 0.328\n",
            "[21,   120] loss: 0.256\n",
            "[22,    40] loss: 0.216\n",
            "[22,    80] loss: 0.189\n",
            "[22,   120] loss: 0.182\n",
            "[23,    40] loss: 0.190\n",
            "[23,    80] loss: 0.167\n",
            "[23,   120] loss: 0.143\n",
            "[24,    40] loss: 0.135\n",
            "[24,    80] loss: 0.146\n",
            "[24,   120] loss: 0.125\n",
            "[25,    40] loss: 0.112\n",
            "[25,    80] loss: 0.100\n",
            "[25,   120] loss: 0.115\n",
            "[26,    40] loss: 0.090\n",
            "[26,    80] loss: 0.085\n",
            "[26,   120] loss: 0.080\n",
            "[27,    40] loss: 0.081\n",
            "[27,    80] loss: 0.081\n",
            "[27,   120] loss: 0.066\n",
            "[28,    40] loss: 0.047\n",
            "[28,    80] loss: 0.056\n",
            "[28,   120] loss: 0.067\n",
            "[29,    40] loss: 0.041\n",
            "[29,    80] loss: 0.136\n",
            "[29,   120] loss: 0.048\n",
            "[30,    40] loss: 0.037\n",
            "[30,    80] loss: 0.034\n",
            "[30,   120] loss: 0.036\n",
            "Finished Training\n",
            " \n",
            "================================================================================================================================================================\n",
            "  S.No.  fg_class        bg_class                      Epoch used    total_points    correct    accuracy    FTPT    FFPT    FTPF    FFPF    avg_img > 0.5\n",
            "-------  --------------  --------------------------  ------------  --------------  ---------  ----------  ------  ------  ------  ------  ---------------\n",
            "      1  fg = [0, 1, 2]  bg = [3, 4, 5, 6, 7, 8, 9]            29           30000      29598       98.66   78.57   20.09    1.34       0            20405\n",
            " \n",
            "================================================================================================================================================================\n",
            " \n",
            "================================================================================================================================================================\n",
            "  S.No.  fg_class        bg_class                    Epoch used      total_points    correct    accuracy    FTPT    FFPT    FTPF    FFPF    avg_img > 0.5\n",
            "-------  --------------  --------------------------  ------------  --------------  ---------  ----------  ------  ------  ------  ------  ---------------\n",
            "      1  fg = [0, 1, 2]  bg = [3, 4, 5, 6, 7, 8, 9]  NA                     10000       9810        98.1   77.79   20.31     1.9       0             6794\n",
            " \n",
            "================================================================================================================================================================\n",
            " \n",
            "================================================================================================================================================================\n",
            "  S.No.  fg_class        bg_class                    Epoch used      total_points    correct    accuracy    FTPT    FFPT    FTPF    FFPF    avg_img > 0.5\n",
            "-------  --------------  --------------------------  ------------  --------------  ---------  ----------  ------  ------  ------  ------  ---------------\n",
            "      1  fg = [0, 1, 2]  bg = [3, 4, 5, 6, 7, 8, 9]  NA                     10000       9637       96.37   75.86   20.51    3.63       0             6841\n",
            " \n",
            "================================================================================================================================================================\n",
            " \n",
            "================================================================================================================================================================\n",
            "  S.No.  fg_class        bg_class                    Epoch used      total_points    correct    accuracy    FTPT    FFPT    FTPF    FFPF    avg_img > 0.5\n",
            "-------  --------------  --------------------------  ------------  --------------  ---------  ----------  ------  ------  ------  ------  ---------------\n",
            "      1  fg = [0, 1, 2]  bg = [3, 4, 5, 6, 7, 8, 9]  NA                     10000       3277       32.77    4.69   28.08    4.36   62.87                1\n",
            " \n",
            "================================================================================================================================================================\n",
            " \n",
            "================================================================================================================================================================\n",
            "  S.No.  fg_class        bg_class                    Epoch used      total_points    correct    accuracy    FTPT    FFPT    FTPF    FFPF    avg_img > 0.5\n",
            "-------  --------------  --------------------------  ------------  --------------  ---------  ----------  ------  ------  ------  ------  ---------------\n",
            "      1  fg = [0, 1, 2]  bg = [3, 4, 5, 6, 7, 8, 9]  NA                     10000       3286       32.86    4.96    27.9    4.39   62.75                7\n",
            " \n",
            "================================================================================================================================================================\n",
            "[1,    40] loss: 1.101\n",
            "[1,    80] loss: 1.099\n",
            "[1,   120] loss: 1.099\n",
            "[2,    40] loss: 1.098\n",
            "[2,    80] loss: 1.099\n",
            "[2,   120] loss: 1.099\n",
            "[3,    40] loss: 1.099\n",
            "[3,    80] loss: 1.099\n",
            "[3,   120] loss: 1.099\n",
            "[4,    40] loss: 1.099\n",
            "[4,    80] loss: 1.099\n",
            "[4,   120] loss: 1.099\n",
            "[5,    40] loss: 1.099\n",
            "[5,    80] loss: 1.099\n",
            "[5,   120] loss: 1.099\n",
            "[6,    40] loss: 1.099\n",
            "[6,    80] loss: 1.099\n",
            "[6,   120] loss: 1.099\n",
            "[7,    40] loss: 1.099\n",
            "[7,    80] loss: 1.099\n",
            "[7,   120] loss: 1.099\n",
            "[8,    40] loss: 1.099\n",
            "[8,    80] loss: 1.099\n",
            "[8,   120] loss: 1.099\n",
            "[9,    40] loss: 1.099\n",
            "[9,    80] loss: 1.099\n",
            "[9,   120] loss: 1.099\n",
            "[10,    40] loss: 1.099\n",
            "[10,    80] loss: 1.099\n",
            "[10,   120] loss: 1.099\n",
            "[11,    40] loss: 1.099\n",
            "[11,    80] loss: 1.099\n",
            "[11,   120] loss: 1.099\n",
            "[12,    40] loss: 1.099\n",
            "[12,    80] loss: 1.099\n",
            "[12,   120] loss: 1.099\n",
            "[13,    40] loss: 1.099\n",
            "[13,    80] loss: 1.098\n",
            "[13,   120] loss: 1.099\n",
            "[14,    40] loss: 1.098\n",
            "[14,    80] loss: 1.098\n",
            "[14,   120] loss: 1.098\n",
            "[15,    40] loss: 1.098\n",
            "[15,    80] loss: 1.098\n",
            "[15,   120] loss: 1.098\n",
            "[16,    40] loss: 1.098\n",
            "[16,    80] loss: 1.098\n",
            "[16,   120] loss: 1.098\n",
            "[17,    40] loss: 1.098\n",
            "[17,    80] loss: 1.098\n",
            "[17,   120] loss: 1.098\n",
            "[18,    40] loss: 1.098\n",
            "[18,    80] loss: 1.098\n",
            "[18,   120] loss: 1.097\n",
            "[19,    40] loss: 1.097\n",
            "[19,    80] loss: 1.097\n",
            "[19,   120] loss: 1.096\n",
            "[20,    40] loss: 1.096\n",
            "[20,    80] loss: 1.096\n",
            "[20,   120] loss: 1.094\n",
            "[21,    40] loss: 1.093\n",
            "[21,    80] loss: 1.092\n",
            "[21,   120] loss: 1.088\n",
            "[22,    40] loss: 1.089\n",
            "[22,    80] loss: 1.084\n",
            "[22,   120] loss: 1.083\n",
            "[23,    40] loss: 1.083\n",
            "[23,    80] loss: 1.083\n",
            "[23,   120] loss: 1.077\n",
            "[24,    40] loss: 1.078\n",
            "[24,    80] loss: 1.078\n",
            "[24,   120] loss: 1.075\n",
            "[25,    40] loss: 1.072\n",
            "[25,    80] loss: 1.075\n",
            "[25,   120] loss: 1.073\n",
            "[26,    40] loss: 1.073\n",
            "[26,    80] loss: 1.070\n",
            "[26,   120] loss: 1.065\n",
            "[27,    40] loss: 1.068\n",
            "[27,    80] loss: 1.066\n",
            "[27,   120] loss: 1.065\n",
            "[28,    40] loss: 1.063\n",
            "[28,    80] loss: 1.064\n",
            "[28,   120] loss: 1.062\n",
            "[29,    40] loss: 1.061\n",
            "[29,    80] loss: 1.057\n",
            "[29,   120] loss: 1.063\n",
            "[30,    40] loss: 1.061\n",
            "[30,    80] loss: 1.061\n",
            "[30,   120] loss: 1.052\n",
            "[31,    40] loss: 1.056\n",
            "[31,    80] loss: 1.054\n",
            "[31,   120] loss: 1.047\n",
            "[32,    40] loss: 1.049\n",
            "[32,    80] loss: 1.049\n",
            "[32,   120] loss: 1.047\n",
            "[33,    40] loss: 1.046\n",
            "[33,    80] loss: 1.044\n",
            "[33,   120] loss: 1.042\n",
            "[34,    40] loss: 1.042\n",
            "[34,    80] loss: 1.034\n",
            "[34,   120] loss: 1.024\n",
            "[35,    40] loss: 1.023\n",
            "[35,    80] loss: 1.023\n",
            "[35,   120] loss: 1.021\n",
            "[36,    40] loss: 1.010\n",
            "[36,    80] loss: 1.011\n",
            "[36,   120] loss: 0.997\n",
            "[37,    40] loss: 0.973\n",
            "[37,    80] loss: 0.953\n",
            "[37,   120] loss: 0.899\n",
            "[38,    40] loss: 0.906\n",
            "[38,    80] loss: 0.994\n",
            "[38,   120] loss: 0.698\n",
            "[39,    40] loss: 0.392\n",
            "[39,    80] loss: 0.451\n",
            "[39,   120] loss: 0.286\n",
            "[40,    40] loss: 0.257\n",
            "[40,    80] loss: 0.246\n",
            "[40,   120] loss: 0.209\n",
            "[41,    40] loss: 0.206\n",
            "[41,    80] loss: 0.186\n",
            "[41,   120] loss: 0.175\n",
            "[42,    40] loss: 0.151\n",
            "[42,    80] loss: 0.152\n",
            "[42,   120] loss: 0.175\n",
            "[43,    40] loss: 0.255\n",
            "[43,    80] loss: 0.147\n",
            "[43,   120] loss: 0.147\n",
            "[44,    40] loss: 0.148\n",
            "[44,    80] loss: 0.126\n",
            "[44,   120] loss: 0.103\n",
            "[45,    40] loss: 0.097\n",
            "[45,    80] loss: 0.098\n",
            "[45,   120] loss: 0.082\n",
            "[46,    40] loss: 0.072\n",
            "[46,    80] loss: 0.070\n",
            "[46,   120] loss: 0.058\n",
            "[47,    40] loss: 0.060\n",
            "[47,    80] loss: 0.059\n",
            "[47,   120] loss: 0.036\n",
            "[48,    40] loss: 0.031\n",
            "[48,    80] loss: 0.040\n",
            "[48,   120] loss: 0.045\n",
            "Finished Training\n",
            " \n",
            "================================================================================================================================================================\n",
            "  S.No.  fg_class        bg_class                      Epoch used    total_points    correct    accuracy    FTPT     FFPT      FTPF       FFPF    avg_img > 0.5\n",
            "-------  --------------  --------------------------  ------------  --------------  ---------  ----------  ------  -------  --------  ---------  ---------------\n",
            "      1  fg = [0, 1, 2]  bg = [3, 4, 5, 6, 7, 8, 9]            29           30000      29598     98.66     78.57  20.09    1.34      0                    20405\n",
            "      2  fg = [0, 1, 2]  bg = [3, 4, 5, 6, 7, 8, 9]            47           30000      29755     99.1833   79.68  19.5033  0.803333  0.0133333            20349\n",
            " \n",
            "================================================================================================================================================================\n",
            " \n",
            "================================================================================================================================================================\n",
            "  S.No.  fg_class        bg_class                    Epoch used      total_points    correct    accuracy    FTPT    FFPT    FTPF    FFPF    avg_img > 0.5\n",
            "-------  --------------  --------------------------  ------------  --------------  ---------  ----------  ------  ------  ------  ------  ---------------\n",
            "      1  fg = [0, 1, 2]  bg = [3, 4, 5, 6, 7, 8, 9]  NA                     10000       9810       98.1    77.79   20.31    1.9     0                6794\n",
            "      2  fg = [0, 1, 2]  bg = [3, 4, 5, 6, 7, 8, 9]  NA                     10000       9879       98.79   79.31   19.48    1.18    0.03             6765\n",
            " \n",
            "================================================================================================================================================================\n",
            " \n",
            "================================================================================================================================================================\n",
            "  S.No.  fg_class        bg_class                    Epoch used      total_points    correct    accuracy    FTPT    FFPT    FTPF    FFPF    avg_img > 0.5\n",
            "-------  --------------  --------------------------  ------------  --------------  ---------  ----------  ------  ------  ------  ------  ---------------\n",
            "      1  fg = [0, 1, 2]  bg = [3, 4, 5, 6, 7, 8, 9]  NA                     10000       9637       96.37   75.86   20.51    3.63    0                6841\n",
            "      2  fg = [0, 1, 2]  bg = [3, 4, 5, 6, 7, 8, 9]  NA                     10000       9718       97.18   77.87   19.31    2.74    0.08             6829\n",
            " \n",
            "================================================================================================================================================================\n",
            " \n",
            "================================================================================================================================================================\n",
            "  S.No.  fg_class        bg_class                    Epoch used      total_points    correct    accuracy    FTPT    FFPT    FTPF    FFPF    avg_img > 0.5\n",
            "-------  --------------  --------------------------  ------------  --------------  ---------  ----------  ------  ------  ------  ------  ---------------\n",
            "      1  fg = [0, 1, 2]  bg = [3, 4, 5, 6, 7, 8, 9]  NA                     10000       3277       32.77    4.69   28.08    4.36   62.87                1\n",
            "      2  fg = [0, 1, 2]  bg = [3, 4, 5, 6, 7, 8, 9]  NA                     10000       3282       32.82    3.99   28.83    2.62   64.56                1\n",
            " \n",
            "================================================================================================================================================================\n",
            " \n",
            "================================================================================================================================================================\n",
            "  S.No.  fg_class        bg_class                    Epoch used      total_points    correct    accuracy    FTPT    FFPT    FTPF    FFPF    avg_img > 0.5\n",
            "-------  --------------  --------------------------  ------------  --------------  ---------  ----------  ------  ------  ------  ------  ---------------\n",
            "      1  fg = [0, 1, 2]  bg = [3, 4, 5, 6, 7, 8, 9]  NA                     10000       3286       32.86    4.96   27.9     4.39   62.75                7\n",
            "      2  fg = [0, 1, 2]  bg = [3, 4, 5, 6, 7, 8, 9]  NA                     10000       3287       32.87    3.86   29.01    2.61   64.52                0\n",
            " \n",
            "================================================================================================================================================================\n",
            "[1,    40] loss: 1.105\n",
            "[1,    80] loss: 1.099\n",
            "[1,   120] loss: 1.099\n",
            "[2,    40] loss: 1.099\n",
            "[2,    80] loss: 1.099\n",
            "[2,   120] loss: 1.099\n",
            "[3,    40] loss: 1.099\n",
            "[3,    80] loss: 1.099\n",
            "[3,   120] loss: 1.099\n",
            "[4,    40] loss: 1.098\n",
            "[4,    80] loss: 1.099\n",
            "[4,   120] loss: 1.098\n",
            "[5,    40] loss: 1.098\n",
            "[5,    80] loss: 1.098\n",
            "[5,   120] loss: 1.098\n",
            "[6,    40] loss: 1.098\n",
            "[6,    80] loss: 1.098\n",
            "[6,   120] loss: 1.098\n",
            "[7,    40] loss: 1.098\n",
            "[7,    80] loss: 1.097\n",
            "[7,   120] loss: 1.098\n",
            "[8,    40] loss: 1.097\n",
            "[8,    80] loss: 1.096\n",
            "[8,   120] loss: 1.096\n",
            "[9,    40] loss: 1.095\n",
            "[9,    80] loss: 1.094\n",
            "[9,   120] loss: 1.092\n",
            "[10,    40] loss: 1.090\n",
            "[10,    80] loss: 1.088\n",
            "[10,   120] loss: 1.085\n",
            "[11,    40] loss: 1.084\n",
            "[11,    80] loss: 1.082\n",
            "[11,   120] loss: 1.080\n",
            "[12,    40] loss: 1.080\n",
            "[12,    80] loss: 1.080\n",
            "[12,   120] loss: 1.075\n",
            "[13,    40] loss: 1.076\n",
            "[13,    80] loss: 1.078\n",
            "[13,   120] loss: 1.077\n",
            "[14,    40] loss: 1.075\n",
            "[14,    80] loss: 1.073\n",
            "[14,   120] loss: 1.072\n",
            "[15,    40] loss: 1.071\n",
            "[15,    80] loss: 1.069\n",
            "[15,   120] loss: 1.075\n",
            "[16,    40] loss: 1.069\n",
            "[16,    80] loss: 1.071\n",
            "[16,   120] loss: 1.067\n",
            "[17,    40] loss: 1.069\n",
            "[17,    80] loss: 1.064\n",
            "[17,   120] loss: 1.055\n",
            "[18,    40] loss: 1.050\n",
            "[18,    80] loss: 1.040\n",
            "[18,   120] loss: 1.043\n",
            "[19,    40] loss: 1.032\n",
            "[19,    80] loss: 1.036\n",
            "[19,   120] loss: 1.027\n",
            "[20,    40] loss: 1.025\n",
            "[20,    80] loss: 1.012\n",
            "[20,   120] loss: 1.007\n",
            "[21,    40] loss: 0.994\n",
            "[21,    80] loss: 0.966\n",
            "[21,   120] loss: 0.943\n",
            "[22,    40] loss: 0.852\n",
            "[22,    80] loss: 1.099\n",
            "[22,   120] loss: 1.073\n",
            "[23,    40] loss: 1.063\n",
            "[23,    80] loss: 1.054\n",
            "[23,   120] loss: 1.052\n",
            "[24,    40] loss: 1.039\n",
            "[24,    80] loss: 1.018\n",
            "[24,   120] loss: 0.997\n",
            "[25,    40] loss: 0.948\n",
            "[25,    80] loss: 0.757\n",
            "[25,   120] loss: 0.364\n",
            "[26,    40] loss: 0.314\n",
            "[26,    80] loss: 0.419\n",
            "[26,   120] loss: 0.281\n",
            "[27,    40] loss: 0.282\n",
            "[27,    80] loss: 0.232\n",
            "[27,   120] loss: 0.219\n",
            "[28,    40] loss: 0.213\n",
            "[28,    80] loss: 0.193\n",
            "[28,   120] loss: 0.174\n",
            "[29,    40] loss: 0.228\n",
            "[29,    80] loss: 0.175\n",
            "[29,   120] loss: 0.156\n",
            "[30,    40] loss: 0.147\n",
            "[30,    80] loss: 0.154\n",
            "[30,   120] loss: 0.147\n",
            "[31,    40] loss: 0.128\n",
            "[31,    80] loss: 0.144\n",
            "[31,   120] loss: 0.126\n",
            "[32,    40] loss: 0.113\n",
            "[32,    80] loss: 0.115\n",
            "[32,   120] loss: 0.112\n",
            "[33,    40] loss: 0.099\n",
            "[33,    80] loss: 0.094\n",
            "[33,   120] loss: 0.085\n",
            "[34,    40] loss: 0.087\n",
            "[34,    80] loss: 0.082\n",
            "[34,   120] loss: 0.085\n",
            "[35,    40] loss: 0.069\n",
            "[35,    80] loss: 0.072\n",
            "[35,   120] loss: 0.090\n",
            "[36,    40] loss: 0.107\n",
            "[36,    80] loss: 0.081\n",
            "[36,   120] loss: 0.057\n",
            "[37,    40] loss: 0.058\n",
            "[37,    80] loss: 0.051\n",
            "[37,   120] loss: 0.045\n",
            "[38,    40] loss: 0.115\n",
            "[38,    80] loss: 0.057\n",
            "[38,   120] loss: 0.045\n",
            "[39,    40] loss: 0.037\n",
            "[39,    80] loss: 0.042\n",
            "[39,   120] loss: 0.038\n",
            "Finished Training\n",
            " \n",
            "================================================================================================================================================================\n",
            "  S.No.  fg_class        bg_class                      Epoch used    total_points    correct    accuracy     FTPT     FFPT      FTPF       FFPF    avg_img > 0.5\n",
            "-------  --------------  --------------------------  ------------  --------------  ---------  ----------  -------  -------  --------  ---------  ---------------\n",
            "      1  fg = [0, 1, 2]  bg = [3, 4, 5, 6, 7, 8, 9]            29           30000      29598     98.66    78.57    20.09    1.34      0                    20405\n",
            "      2  fg = [0, 1, 2]  bg = [3, 4, 5, 6, 7, 8, 9]            47           30000      29755     99.1833  79.68    19.5033  0.803333  0.0133333            20349\n",
            "      3  fg = [0, 1, 2]  bg = [3, 4, 5, 6, 7, 8, 9]            38           30000      29800     99.3333  67.5267  31.8067  0.64      0.0266667            20181\n",
            " \n",
            "================================================================================================================================================================\n",
            " \n",
            "================================================================================================================================================================\n",
            "  S.No.  fg_class        bg_class                    Epoch used      total_points    correct    accuracy    FTPT    FFPT    FTPF    FFPF    avg_img > 0.5\n",
            "-------  --------------  --------------------------  ------------  --------------  ---------  ----------  ------  ------  ------  ------  ---------------\n",
            "      1  fg = [0, 1, 2]  bg = [3, 4, 5, 6, 7, 8, 9]  NA                     10000       9810       98.1    77.79   20.31    1.9     0                6794\n",
            "      2  fg = [0, 1, 2]  bg = [3, 4, 5, 6, 7, 8, 9]  NA                     10000       9879       98.79   79.31   19.48    1.18    0.03             6765\n",
            "      3  fg = [0, 1, 2]  bg = [3, 4, 5, 6, 7, 8, 9]  NA                     10000       9840       98.4    66.44   31.96    1.56    0.04             6711\n",
            " \n",
            "================================================================================================================================================================\n",
            " \n",
            "================================================================================================================================================================\n",
            "  S.No.  fg_class        bg_class                    Epoch used      total_points    correct    accuracy    FTPT    FFPT    FTPF    FFPF    avg_img > 0.5\n",
            "-------  --------------  --------------------------  ------------  --------------  ---------  ----------  ------  ------  ------  ------  ---------------\n",
            "      1  fg = [0, 1, 2]  bg = [3, 4, 5, 6, 7, 8, 9]  NA                     10000       9637       96.37   75.86   20.51    3.63    0                6841\n",
            "      2  fg = [0, 1, 2]  bg = [3, 4, 5, 6, 7, 8, 9]  NA                     10000       9718       97.18   77.87   19.31    2.74    0.08             6829\n",
            "      3  fg = [0, 1, 2]  bg = [3, 4, 5, 6, 7, 8, 9]  NA                     10000       9433       94.33   63.33   31       5.65    0.02             6775\n",
            " \n",
            "================================================================================================================================================================\n",
            " \n",
            "================================================================================================================================================================\n",
            "  S.No.  fg_class        bg_class                    Epoch used      total_points    correct    accuracy    FTPT    FFPT    FTPF    FFPF    avg_img > 0.5\n",
            "-------  --------------  --------------------------  ------------  --------------  ---------  ----------  ------  ------  ------  ------  ---------------\n",
            "      1  fg = [0, 1, 2]  bg = [3, 4, 5, 6, 7, 8, 9]  NA                     10000       3277       32.77    4.69   28.08    4.36   62.87                1\n",
            "      2  fg = [0, 1, 2]  bg = [3, 4, 5, 6, 7, 8, 9]  NA                     10000       3282       32.82    3.99   28.83    2.62   64.56                1\n",
            "      3  fg = [0, 1, 2]  bg = [3, 4, 5, 6, 7, 8, 9]  NA                     10000       3278       32.78    4.98   27.8     5.28   61.94               10\n",
            " \n",
            "================================================================================================================================================================\n",
            " \n",
            "================================================================================================================================================================\n",
            "  S.No.  fg_class        bg_class                    Epoch used      total_points    correct    accuracy    FTPT    FFPT    FTPF    FFPF    avg_img > 0.5\n",
            "-------  --------------  --------------------------  ------------  --------------  ---------  ----------  ------  ------  ------  ------  ---------------\n",
            "      1  fg = [0, 1, 2]  bg = [3, 4, 5, 6, 7, 8, 9]  NA                     10000       3286       32.86    4.96   27.9     4.39   62.75                7\n",
            "      2  fg = [0, 1, 2]  bg = [3, 4, 5, 6, 7, 8, 9]  NA                     10000       3287       32.87    3.86   29.01    2.61   64.52                0\n",
            "      3  fg = [0, 1, 2]  bg = [3, 4, 5, 6, 7, 8, 9]  NA                     10000       3285       32.85    5.2    27.65    5.6    61.55                4\n",
            " \n",
            "================================================================================================================================================================\n",
            "[1,    40] loss: 1.100\n",
            "[1,    80] loss: 1.099\n",
            "[1,   120] loss: 1.099\n",
            "[2,    40] loss: 1.099\n",
            "[2,    80] loss: 1.099\n",
            "[2,   120] loss: 1.099\n",
            "[3,    40] loss: 1.099\n",
            "[3,    80] loss: 1.098\n",
            "[3,   120] loss: 1.098\n",
            "[4,    40] loss: 1.098\n",
            "[4,    80] loss: 1.098\n",
            "[4,   120] loss: 1.098\n",
            "[5,    40] loss: 1.098\n",
            "[5,    80] loss: 1.098\n",
            "[5,   120] loss: 1.098\n",
            "[6,    40] loss: 1.097\n",
            "[6,    80] loss: 1.097\n",
            "[6,   120] loss: 1.096\n",
            "[7,    40] loss: 1.095\n",
            "[7,    80] loss: 1.094\n",
            "[7,   120] loss: 1.093\n",
            "[8,    40] loss: 1.091\n",
            "[8,    80] loss: 1.087\n",
            "[8,   120] loss: 1.084\n",
            "[9,    40] loss: 1.083\n",
            "[9,    80] loss: 1.081\n",
            "[9,   120] loss: 1.079\n",
            "[10,    40] loss: 1.074\n",
            "[10,    80] loss: 1.075\n",
            "[10,   120] loss: 1.071\n",
            "[11,    40] loss: 1.069\n",
            "[11,    80] loss: 1.069\n",
            "[11,   120] loss: 1.070\n",
            "[12,    40] loss: 1.065\n",
            "[12,    80] loss: 1.064\n",
            "[12,   120] loss: 1.068\n",
            "[13,    40] loss: 1.064\n",
            "[13,    80] loss: 1.064\n",
            "[13,   120] loss: 1.061\n",
            "[14,    40] loss: 1.057\n",
            "[14,    80] loss: 1.059\n",
            "[14,   120] loss: 1.063\n",
            "[15,    40] loss: 1.056\n",
            "[15,    80] loss: 1.054\n",
            "[15,   120] loss: 1.049\n",
            "[16,    40] loss: 1.048\n",
            "[16,    80] loss: 1.044\n",
            "[16,   120] loss: 1.042\n",
            "[17,    40] loss: 1.035\n",
            "[17,    80] loss: 1.033\n",
            "[17,   120] loss: 1.025\n",
            "[18,    40] loss: 1.019\n",
            "[18,    80] loss: 1.012\n",
            "[18,   120] loss: 1.002\n",
            "[19,    40] loss: 0.986\n",
            "[19,    80] loss: 0.969\n",
            "[19,   120] loss: 0.926\n",
            "[20,    40] loss: 0.819\n",
            "[20,    80] loss: 0.609\n",
            "[20,   120] loss: 0.365\n",
            "[21,    40] loss: 0.286\n",
            "[21,    80] loss: 0.255\n",
            "[21,   120] loss: 1.013\n",
            "[22,    40] loss: 0.977\n",
            "[22,    80] loss: 0.377\n",
            "[22,   120] loss: 0.243\n",
            "[23,    40] loss: 0.209\n",
            "[23,    80] loss: 0.176\n",
            "[23,   120] loss: 0.181\n",
            "[24,    40] loss: 0.148\n",
            "[24,    80] loss: 0.145\n",
            "[24,   120] loss: 0.116\n",
            "[25,    40] loss: 0.110\n",
            "[25,    80] loss: 0.089\n",
            "[25,   120] loss: 0.076\n",
            "[26,    40] loss: 0.067\n",
            "[26,    80] loss: 0.057\n",
            "[26,   120] loss: 0.071\n",
            "[27,    40] loss: 0.053\n",
            "[27,    80] loss: 0.197\n",
            "[27,   120] loss: 0.077\n",
            "[28,    40] loss: 0.026\n",
            "[28,    80] loss: 0.023\n",
            "[28,   120] loss: 0.029\n",
            "Finished Training\n",
            " \n",
            "================================================================================================================================================================\n",
            "  S.No.  fg_class        bg_class                      Epoch used    total_points    correct    accuracy     FTPT     FFPT      FTPF        FFPF    avg_img > 0.5\n",
            "-------  --------------  --------------------------  ------------  --------------  ---------  ----------  -------  -------  --------  ----------  ---------------\n",
            "      1  fg = [0, 1, 2]  bg = [3, 4, 5, 6, 7, 8, 9]            29           30000      29598     98.66    78.57    20.09    1.34      0                     20405\n",
            "      2  fg = [0, 1, 2]  bg = [3, 4, 5, 6, 7, 8, 9]            47           30000      29755     99.1833  79.68    19.5033  0.803333  0.0133333             20349\n",
            "      3  fg = [0, 1, 2]  bg = [3, 4, 5, 6, 7, 8, 9]            38           30000      29800     99.3333  67.5267  31.8067  0.64      0.0266667             20181\n",
            "      4  fg = [0, 1, 2]  bg = [3, 4, 5, 6, 7, 8, 9]            27           30000      29810     99.3667  84.0067  15.36    0.63      0.00333333            20597\n",
            " \n",
            "================================================================================================================================================================\n",
            " \n",
            "================================================================================================================================================================\n",
            "  S.No.  fg_class        bg_class                    Epoch used      total_points    correct    accuracy    FTPT    FFPT    FTPF    FFPF    avg_img > 0.5\n",
            "-------  --------------  --------------------------  ------------  --------------  ---------  ----------  ------  ------  ------  ------  ---------------\n",
            "      1  fg = [0, 1, 2]  bg = [3, 4, 5, 6, 7, 8, 9]  NA                     10000       9810       98.1    77.79   20.31    1.9     0                6794\n",
            "      2  fg = [0, 1, 2]  bg = [3, 4, 5, 6, 7, 8, 9]  NA                     10000       9879       98.79   79.31   19.48    1.18    0.03             6765\n",
            "      3  fg = [0, 1, 2]  bg = [3, 4, 5, 6, 7, 8, 9]  NA                     10000       9840       98.4    66.44   31.96    1.56    0.04             6711\n",
            "      4  fg = [0, 1, 2]  bg = [3, 4, 5, 6, 7, 8, 9]  NA                     10000       9914       99.14   83.55   15.59    0.86    0                6864\n",
            " \n",
            "================================================================================================================================================================\n",
            " \n",
            "================================================================================================================================================================\n",
            "  S.No.  fg_class        bg_class                    Epoch used      total_points    correct    accuracy    FTPT    FFPT    FTPF    FFPF    avg_img > 0.5\n",
            "-------  --------------  --------------------------  ------------  --------------  ---------  ----------  ------  ------  ------  ------  ---------------\n",
            "      1  fg = [0, 1, 2]  bg = [3, 4, 5, 6, 7, 8, 9]  NA                     10000       9637       96.37   75.86   20.51    3.63    0                6841\n",
            "      2  fg = [0, 1, 2]  bg = [3, 4, 5, 6, 7, 8, 9]  NA                     10000       9718       97.18   77.87   19.31    2.74    0.08             6829\n",
            "      3  fg = [0, 1, 2]  bg = [3, 4, 5, 6, 7, 8, 9]  NA                     10000       9433       94.33   63.33   31       5.65    0.02             6775\n",
            "      4  fg = [0, 1, 2]  bg = [3, 4, 5, 6, 7, 8, 9]  NA                     10000       9834       98.34   82.78   15.56    1.66    0                6929\n",
            " \n",
            "================================================================================================================================================================\n",
            " \n",
            "================================================================================================================================================================\n",
            "  S.No.  fg_class        bg_class                    Epoch used      total_points    correct    accuracy    FTPT    FFPT    FTPF    FFPF    avg_img > 0.5\n",
            "-------  --------------  --------------------------  ------------  --------------  ---------  ----------  ------  ------  ------  ------  ---------------\n",
            "      1  fg = [0, 1, 2]  bg = [3, 4, 5, 6, 7, 8, 9]  NA                     10000       3277       32.77    4.69   28.08    4.36   62.87                1\n",
            "      2  fg = [0, 1, 2]  bg = [3, 4, 5, 6, 7, 8, 9]  NA                     10000       3282       32.82    3.99   28.83    2.62   64.56                1\n",
            "      3  fg = [0, 1, 2]  bg = [3, 4, 5, 6, 7, 8, 9]  NA                     10000       3278       32.78    4.98   27.8     5.28   61.94               10\n",
            "      4  fg = [0, 1, 2]  bg = [3, 4, 5, 6, 7, 8, 9]  NA                     10000       3282       32.82    3.26   29.56    5.11   62.07               15\n",
            " \n",
            "================================================================================================================================================================\n",
            " \n",
            "================================================================================================================================================================\n",
            "  S.No.  fg_class        bg_class                    Epoch used      total_points    correct    accuracy    FTPT    FFPT    FTPF    FFPF    avg_img > 0.5\n",
            "-------  --------------  --------------------------  ------------  --------------  ---------  ----------  ------  ------  ------  ------  ---------------\n",
            "      1  fg = [0, 1, 2]  bg = [3, 4, 5, 6, 7, 8, 9]  NA                     10000       3286       32.86    4.96   27.9     4.39   62.75                7\n",
            "      2  fg = [0, 1, 2]  bg = [3, 4, 5, 6, 7, 8, 9]  NA                     10000       3287       32.87    3.86   29.01    2.61   64.52                0\n",
            "      3  fg = [0, 1, 2]  bg = [3, 4, 5, 6, 7, 8, 9]  NA                     10000       3285       32.85    5.2    27.65    5.6    61.55                4\n",
            "      4  fg = [0, 1, 2]  bg = [3, 4, 5, 6, 7, 8, 9]  NA                     10000       3290       32.9     3.26   29.64    5.47   61.63                6\n",
            " \n",
            "================================================================================================================================================================\n",
            "[1,    40] loss: 1.100\n",
            "[1,    80] loss: 1.099\n",
            "[1,   120] loss: 1.099\n",
            "[2,    40] loss: 1.099\n",
            "[2,    80] loss: 1.099\n",
            "[2,   120] loss: 1.099\n",
            "[3,    40] loss: 1.099\n",
            "[3,    80] loss: 1.099\n",
            "[3,   120] loss: 1.099\n",
            "[4,    40] loss: 1.099\n",
            "[4,    80] loss: 1.099\n",
            "[4,   120] loss: 1.099\n",
            "[5,    40] loss: 1.099\n",
            "[5,    80] loss: 1.099\n",
            "[5,   120] loss: 1.099\n",
            "[6,    40] loss: 1.099\n",
            "[6,    80] loss: 1.099\n",
            "[6,   120] loss: 1.099\n",
            "[7,    40] loss: 1.099\n",
            "[7,    80] loss: 1.099\n",
            "[7,   120] loss: 1.099\n",
            "[8,    40] loss: 1.099\n",
            "[8,    80] loss: 1.099\n",
            "[8,   120] loss: 1.099\n",
            "[9,    40] loss: 1.098\n",
            "[9,    80] loss: 1.099\n",
            "[9,   120] loss: 1.098\n",
            "[10,    40] loss: 1.099\n",
            "[10,    80] loss: 1.099\n",
            "[10,   120] loss: 1.099\n",
            "[11,    40] loss: 1.099\n",
            "[11,    80] loss: 1.099\n",
            "[11,   120] loss: 1.099\n",
            "[12,    40] loss: 1.099\n",
            "[12,    80] loss: 1.098\n",
            "[12,   120] loss: 1.099\n",
            "[13,    40] loss: 1.098\n",
            "[13,    80] loss: 1.098\n",
            "[13,   120] loss: 1.098\n",
            "[14,    40] loss: 1.098\n",
            "[14,    80] loss: 1.098\n",
            "[14,   120] loss: 1.098\n",
            "[15,    40] loss: 1.098\n",
            "[15,    80] loss: 1.098\n",
            "[15,   120] loss: 1.098\n",
            "[16,    40] loss: 1.098\n",
            "[16,    80] loss: 1.098\n",
            "[16,   120] loss: 1.098\n",
            "[17,    40] loss: 1.098\n",
            "[17,    80] loss: 1.098\n",
            "[17,   120] loss: 1.098\n",
            "[18,    40] loss: 1.097\n",
            "[18,    80] loss: 1.097\n",
            "[18,   120] loss: 1.097\n",
            "[19,    40] loss: 1.096\n",
            "[19,    80] loss: 1.095\n",
            "[19,   120] loss: 1.094\n",
            "[20,    40] loss: 1.091\n",
            "[20,    80] loss: 1.090\n",
            "[20,   120] loss: 1.088\n",
            "[21,    40] loss: 1.085\n",
            "[21,    80] loss: 1.081\n",
            "[21,   120] loss: 1.078\n",
            "[22,    40] loss: 1.076\n",
            "[22,    80] loss: 1.075\n",
            "[22,   120] loss: 1.073\n",
            "[23,    40] loss: 1.068\n",
            "[23,    80] loss: 1.074\n",
            "[23,   120] loss: 1.070\n",
            "[24,    40] loss: 1.063\n",
            "[24,    80] loss: 1.062\n",
            "[24,   120] loss: 1.070\n",
            "[25,    40] loss: 1.060\n",
            "[25,    80] loss: 1.061\n",
            "[25,   120] loss: 1.063\n",
            "[26,    40] loss: 1.062\n",
            "[26,    80] loss: 1.059\n",
            "[26,   120] loss: 1.057\n",
            "[27,    40] loss: 1.055\n",
            "[27,    80] loss: 1.052\n",
            "[27,   120] loss: 1.052\n",
            "[28,    40] loss: 1.055\n",
            "[28,    80] loss: 1.042\n",
            "[28,   120] loss: 1.054\n",
            "[29,    40] loss: 1.048\n",
            "[29,    80] loss: 1.043\n",
            "[29,   120] loss: 1.043\n",
            "[30,    40] loss: 1.044\n",
            "[30,    80] loss: 1.043\n",
            "[30,   120] loss: 1.052\n",
            "[31,    40] loss: 1.041\n",
            "[31,    80] loss: 1.039\n",
            "[31,   120] loss: 1.037\n",
            "[32,    40] loss: 1.035\n",
            "[32,    80] loss: 1.030\n",
            "[32,   120] loss: 1.022\n",
            "[33,    40] loss: 1.016\n",
            "[33,    80] loss: 1.020\n",
            "[33,   120] loss: 0.998\n",
            "[34,    40] loss: 0.985\n",
            "[34,    80] loss: 0.985\n",
            "[34,   120] loss: 0.966\n",
            "[35,    40] loss: 0.932\n",
            "[35,    80] loss: 0.856\n",
            "[35,   120] loss: 1.022\n",
            "[36,    40] loss: 0.970\n",
            "[36,    80] loss: 0.700\n",
            "[36,   120] loss: 0.917\n",
            "[37,    40] loss: 1.095\n",
            "[37,    80] loss: 1.085\n",
            "[37,   120] loss: 1.083\n",
            "[38,    40] loss: 1.072\n",
            "[38,    80] loss: 1.059\n",
            "[38,   120] loss: 1.045\n",
            "[39,    40] loss: 1.031\n",
            "[39,    80] loss: 1.020\n",
            "[39,   120] loss: 1.007\n",
            "[40,    40] loss: 0.985\n",
            "[40,    80] loss: 0.946\n",
            "[40,   120] loss: 0.914\n",
            "[41,    40] loss: 0.877\n",
            "[41,    80] loss: 0.812\n",
            "[41,   120] loss: 0.731\n",
            "[42,    40] loss: 0.597\n",
            "[42,    80] loss: 0.504\n",
            "[42,   120] loss: 0.373\n",
            "[43,    40] loss: 0.303\n",
            "[43,    80] loss: 0.236\n",
            "[43,   120] loss: 0.331\n",
            "[44,    40] loss: 0.222\n",
            "[44,    80] loss: 0.116\n",
            "[44,   120] loss: 0.122\n",
            "[45,    40] loss: 0.124\n",
            "[45,    80] loss: 0.089\n",
            "[45,   120] loss: 0.083\n",
            "[46,    40] loss: 0.087\n",
            "[46,    80] loss: 0.060\n",
            "[46,   120] loss: 0.063\n",
            "[47,    40] loss: 0.044\n",
            "[47,    80] loss: 0.056\n",
            "[47,   120] loss: 0.047\n",
            "Finished Training\n",
            " \n",
            "================================================================================================================================================================\n",
            "  S.No.  fg_class        bg_class                      Epoch used    total_points    correct    accuracy     FTPT     FFPT      FTPF        FFPF    avg_img > 0.5\n",
            "-------  --------------  --------------------------  ------------  --------------  ---------  ----------  -------  -------  --------  ----------  ---------------\n",
            "      1  fg = [0, 1, 2]  bg = [3, 4, 5, 6, 7, 8, 9]            29           30000      29598     98.66    78.57    20.09    1.34      0                     20405\n",
            "      2  fg = [0, 1, 2]  bg = [3, 4, 5, 6, 7, 8, 9]            47           30000      29755     99.1833  79.68    19.5033  0.803333  0.0133333             20349\n",
            "      3  fg = [0, 1, 2]  bg = [3, 4, 5, 6, 7, 8, 9]            38           30000      29800     99.3333  67.5267  31.8067  0.64      0.0266667             20181\n",
            "      4  fg = [0, 1, 2]  bg = [3, 4, 5, 6, 7, 8, 9]            27           30000      29810     99.3667  84.0067  15.36    0.63      0.00333333            20597\n",
            "      5  fg = [0, 1, 2]  bg = [3, 4, 5, 6, 7, 8, 9]            46           30000      29541     98.47    44.91    53.56    0.74      0.79                    208\n",
            " \n",
            "================================================================================================================================================================\n",
            " \n",
            "================================================================================================================================================================\n",
            "  S.No.  fg_class        bg_class                    Epoch used      total_points    correct    accuracy    FTPT    FFPT    FTPF    FFPF    avg_img > 0.5\n",
            "-------  --------------  --------------------------  ------------  --------------  ---------  ----------  ------  ------  ------  ------  ---------------\n",
            "      1  fg = [0, 1, 2]  bg = [3, 4, 5, 6, 7, 8, 9]  NA                     10000       9810       98.1    77.79   20.31    1.9     0                6794\n",
            "      2  fg = [0, 1, 2]  bg = [3, 4, 5, 6, 7, 8, 9]  NA                     10000       9879       98.79   79.31   19.48    1.18    0.03             6765\n",
            "      3  fg = [0, 1, 2]  bg = [3, 4, 5, 6, 7, 8, 9]  NA                     10000       9840       98.4    66.44   31.96    1.56    0.04             6711\n",
            "      4  fg = [0, 1, 2]  bg = [3, 4, 5, 6, 7, 8, 9]  NA                     10000       9914       99.14   83.55   15.59    0.86    0                6864\n",
            "      5  fg = [0, 1, 2]  bg = [3, 4, 5, 6, 7, 8, 9]  NA                     10000       9851       98.51   44.07   54.44    0.73    0.76               64\n",
            " \n",
            "================================================================================================================================================================\n",
            " \n",
            "================================================================================================================================================================\n",
            "  S.No.  fg_class        bg_class                    Epoch used      total_points    correct    accuracy    FTPT    FFPT    FTPF    FFPF    avg_img > 0.5\n",
            "-------  --------------  --------------------------  ------------  --------------  ---------  ----------  ------  ------  ------  ------  ---------------\n",
            "      1  fg = [0, 1, 2]  bg = [3, 4, 5, 6, 7, 8, 9]  NA                     10000       9637       96.37   75.86   20.51    3.63    0                6841\n",
            "      2  fg = [0, 1, 2]  bg = [3, 4, 5, 6, 7, 8, 9]  NA                     10000       9718       97.18   77.87   19.31    2.74    0.08             6829\n",
            "      3  fg = [0, 1, 2]  bg = [3, 4, 5, 6, 7, 8, 9]  NA                     10000       9433       94.33   63.33   31       5.65    0.02             6775\n",
            "      4  fg = [0, 1, 2]  bg = [3, 4, 5, 6, 7, 8, 9]  NA                     10000       9834       98.34   82.78   15.56    1.66    0                6929\n",
            "      5  fg = [0, 1, 2]  bg = [3, 4, 5, 6, 7, 8, 9]  NA                     10000       9861       98.61   44.92   53.69    0.67    0.72               76\n",
            " \n",
            "================================================================================================================================================================\n",
            " \n",
            "================================================================================================================================================================\n",
            "  S.No.  fg_class        bg_class                    Epoch used      total_points    correct    accuracy    FTPT    FFPT    FTPF    FFPF    avg_img > 0.5\n",
            "-------  --------------  --------------------------  ------------  --------------  ---------  ----------  ------  ------  ------  ------  ---------------\n",
            "      1  fg = [0, 1, 2]  bg = [3, 4, 5, 6, 7, 8, 9]  NA                     10000       3277       32.77    4.69   28.08    4.36   62.87                1\n",
            "      2  fg = [0, 1, 2]  bg = [3, 4, 5, 6, 7, 8, 9]  NA                     10000       3282       32.82    3.99   28.83    2.62   64.56                1\n",
            "      3  fg = [0, 1, 2]  bg = [3, 4, 5, 6, 7, 8, 9]  NA                     10000       3278       32.78    4.98   27.8     5.28   61.94               10\n",
            "      4  fg = [0, 1, 2]  bg = [3, 4, 5, 6, 7, 8, 9]  NA                     10000       3282       32.82    3.26   29.56    5.11   62.07               15\n",
            "      5  fg = [0, 1, 2]  bg = [3, 4, 5, 6, 7, 8, 9]  NA                     10000       3278       32.78    3.51   29.27   24.49   42.73                0\n",
            " \n",
            "================================================================================================================================================================\n",
            " \n",
            "================================================================================================================================================================\n",
            "  S.No.  fg_class        bg_class                    Epoch used      total_points    correct    accuracy    FTPT    FFPT    FTPF    FFPF    avg_img > 0.5\n",
            "-------  --------------  --------------------------  ------------  --------------  ---------  ----------  ------  ------  ------  ------  ---------------\n",
            "      1  fg = [0, 1, 2]  bg = [3, 4, 5, 6, 7, 8, 9]  NA                     10000       3286       32.86    4.96   27.9     4.39   62.75                7\n",
            "      2  fg = [0, 1, 2]  bg = [3, 4, 5, 6, 7, 8, 9]  NA                     10000       3287       32.87    3.86   29.01    2.61   64.52                0\n",
            "      3  fg = [0, 1, 2]  bg = [3, 4, 5, 6, 7, 8, 9]  NA                     10000       3285       32.85    5.2    27.65    5.6    61.55                4\n",
            "      4  fg = [0, 1, 2]  bg = [3, 4, 5, 6, 7, 8, 9]  NA                     10000       3290       32.9     3.26   29.64    5.47   61.63                6\n",
            "      5  fg = [0, 1, 2]  bg = [3, 4, 5, 6, 7, 8, 9]  NA                     10000       3288       32.88    3.59   29.29   24.25   42.87                0\n",
            " \n",
            "================================================================================================================================================================\n",
            "[1,    40] loss: 1.109\n",
            "[1,    80] loss: 1.099\n",
            "[1,   120] loss: 1.099\n",
            "[2,    40] loss: 1.099\n",
            "[2,    80] loss: 1.098\n",
            "[2,   120] loss: 1.099\n",
            "[3,    40] loss: 1.098\n",
            "[3,    80] loss: 1.099\n",
            "[3,   120] loss: 1.098\n",
            "[4,    40] loss: 1.099\n",
            "[4,    80] loss: 1.098\n",
            "[4,   120] loss: 1.098\n",
            "[5,    40] loss: 1.098\n",
            "[5,    80] loss: 1.098\n",
            "[5,   120] loss: 1.098\n",
            "[6,    40] loss: 1.098\n",
            "[6,    80] loss: 1.098\n",
            "[6,   120] loss: 1.098\n",
            "[7,    40] loss: 1.097\n",
            "[7,    80] loss: 1.097\n",
            "[7,   120] loss: 1.097\n",
            "[8,    40] loss: 1.097\n",
            "[8,    80] loss: 1.096\n",
            "[8,   120] loss: 1.095\n",
            "[9,    40] loss: 1.094\n",
            "[9,    80] loss: 1.092\n",
            "[9,   120] loss: 1.091\n",
            "[10,    40] loss: 1.089\n",
            "[10,    80] loss: 1.086\n",
            "[10,   120] loss: 1.084\n",
            "[11,    40] loss: 1.081\n",
            "[11,    80] loss: 1.078\n",
            "[11,   120] loss: 1.077\n",
            "[12,    40] loss: 1.074\n",
            "[12,    80] loss: 1.072\n",
            "[12,   120] loss: 1.069\n",
            "[13,    40] loss: 1.071\n",
            "[13,    80] loss: 1.069\n",
            "[13,   120] loss: 1.065\n",
            "[14,    40] loss: 1.065\n",
            "[14,    80] loss: 1.064\n",
            "[14,   120] loss: 1.065\n",
            "[15,    40] loss: 1.062\n",
            "[15,    80] loss: 1.063\n",
            "[15,   120] loss: 1.062\n",
            "[16,    40] loss: 1.060\n",
            "[16,    80] loss: 1.060\n",
            "[16,   120] loss: 1.056\n",
            "[17,    40] loss: 1.053\n",
            "[17,    80] loss: 1.055\n",
            "[17,   120] loss: 1.056\n",
            "[18,    40] loss: 1.047\n",
            "[18,    80] loss: 1.047\n",
            "[18,   120] loss: 1.037\n",
            "[19,    40] loss: 1.033\n",
            "[19,    80] loss: 1.025\n",
            "[19,   120] loss: 1.021\n",
            "[20,    40] loss: 1.010\n",
            "[20,    80] loss: 1.003\n",
            "[20,   120] loss: 0.989\n",
            "[21,    40] loss: 0.975\n",
            "[21,    80] loss: 0.962\n",
            "[21,   120] loss: 0.924\n",
            "[22,    40] loss: 0.841\n",
            "[22,    80] loss: 0.544\n",
            "[22,   120] loss: 0.366\n",
            "[23,    40] loss: 0.270\n",
            "[23,    80] loss: 0.243\n",
            "[23,   120] loss: 0.194\n",
            "[24,    40] loss: 0.136\n",
            "[24,    80] loss: 0.115\n",
            "[24,   120] loss: 0.080\n",
            "[25,    40] loss: 0.068\n",
            "[25,    80] loss: 0.051\n",
            "[25,   120] loss: 0.053\n",
            "[26,    40] loss: 0.044\n",
            "[26,    80] loss: 0.218\n",
            "[26,   120] loss: 0.060\n",
            "[27,    40] loss: 0.034\n",
            "[27,    80] loss: 0.034\n",
            "[27,   120] loss: 0.028\n",
            "Finished Training\n",
            " \n",
            "================================================================================================================================================================\n",
            "  S.No.  fg_class        bg_class                      Epoch used    total_points    correct    accuracy     FTPT      FFPT      FTPF        FFPF    avg_img > 0.5\n",
            "-------  --------------  --------------------------  ------------  --------------  ---------  ----------  -------  --------  --------  ----------  ---------------\n",
            "      1  fg = [0, 1, 2]  bg = [3, 4, 5, 6, 7, 8, 9]            29           30000      29598     98.66    78.57    20.09     1.34      0                     20405\n",
            "      2  fg = [0, 1, 2]  bg = [3, 4, 5, 6, 7, 8, 9]            47           30000      29755     99.1833  79.68    19.5033   0.803333  0.0133333             20349\n",
            "      3  fg = [0, 1, 2]  bg = [3, 4, 5, 6, 7, 8, 9]            38           30000      29800     99.3333  67.5267  31.8067   0.64      0.0266667             20181\n",
            "      4  fg = [0, 1, 2]  bg = [3, 4, 5, 6, 7, 8, 9]            27           30000      29810     99.3667  84.0067  15.36     0.63      0.00333333            20597\n",
            "      5  fg = [0, 1, 2]  bg = [3, 4, 5, 6, 7, 8, 9]            46           30000      29541     98.47    44.91    53.56     0.74      0.79                    208\n",
            "      6  fg = [0, 1, 2]  bg = [3, 4, 5, 6, 7, 8, 9]            26           30000      29774     99.2467  97.4233   1.82333  0.743333  0.01                  28074\n",
            " \n",
            "================================================================================================================================================================\n",
            " \n",
            "================================================================================================================================================================\n",
            "  S.No.  fg_class        bg_class                    Epoch used      total_points    correct    accuracy    FTPT    FFPT    FTPF    FFPF    avg_img > 0.5\n",
            "-------  --------------  --------------------------  ------------  --------------  ---------  ----------  ------  ------  ------  ------  ---------------\n",
            "      1  fg = [0, 1, 2]  bg = [3, 4, 5, 6, 7, 8, 9]  NA                     10000       9810       98.1    77.79   20.31    1.9     0                6794\n",
            "      2  fg = [0, 1, 2]  bg = [3, 4, 5, 6, 7, 8, 9]  NA                     10000       9879       98.79   79.31   19.48    1.18    0.03             6765\n",
            "      3  fg = [0, 1, 2]  bg = [3, 4, 5, 6, 7, 8, 9]  NA                     10000       9840       98.4    66.44   31.96    1.56    0.04             6711\n",
            "      4  fg = [0, 1, 2]  bg = [3, 4, 5, 6, 7, 8, 9]  NA                     10000       9914       99.14   83.55   15.59    0.86    0                6864\n",
            "      5  fg = [0, 1, 2]  bg = [3, 4, 5, 6, 7, 8, 9]  NA                     10000       9851       98.51   44.07   54.44    0.73    0.76               64\n",
            "      6  fg = [0, 1, 2]  bg = [3, 4, 5, 6, 7, 8, 9]  NA                     10000       9901       99.01   97.13    1.88    0.99    0                9348\n",
            " \n",
            "================================================================================================================================================================\n",
            " \n",
            "================================================================================================================================================================\n",
            "  S.No.  fg_class        bg_class                    Epoch used      total_points    correct    accuracy    FTPT    FFPT    FTPF    FFPF    avg_img > 0.5\n",
            "-------  --------------  --------------------------  ------------  --------------  ---------  ----------  ------  ------  ------  ------  ---------------\n",
            "      1  fg = [0, 1, 2]  bg = [3, 4, 5, 6, 7, 8, 9]  NA                     10000       9637       96.37   75.86   20.51    3.63    0                6841\n",
            "      2  fg = [0, 1, 2]  bg = [3, 4, 5, 6, 7, 8, 9]  NA                     10000       9718       97.18   77.87   19.31    2.74    0.08             6829\n",
            "      3  fg = [0, 1, 2]  bg = [3, 4, 5, 6, 7, 8, 9]  NA                     10000       9433       94.33   63.33   31       5.65    0.02             6775\n",
            "      4  fg = [0, 1, 2]  bg = [3, 4, 5, 6, 7, 8, 9]  NA                     10000       9834       98.34   82.78   15.56    1.66    0                6929\n",
            "      5  fg = [0, 1, 2]  bg = [3, 4, 5, 6, 7, 8, 9]  NA                     10000       9861       98.61   44.92   53.69    0.67    0.72               76\n",
            "      6  fg = [0, 1, 2]  bg = [3, 4, 5, 6, 7, 8, 9]  NA                     10000       9872       98.72   96.61    2.11    1.28    0                9350\n",
            " \n",
            "================================================================================================================================================================\n",
            " \n",
            "================================================================================================================================================================\n",
            "  S.No.  fg_class        bg_class                    Epoch used      total_points    correct    accuracy    FTPT    FFPT    FTPF    FFPF    avg_img > 0.5\n",
            "-------  --------------  --------------------------  ------------  --------------  ---------  ----------  ------  ------  ------  ------  ---------------\n",
            "      1  fg = [0, 1, 2]  bg = [3, 4, 5, 6, 7, 8, 9]  NA                     10000       3277       32.77    4.69   28.08    4.36   62.87                1\n",
            "      2  fg = [0, 1, 2]  bg = [3, 4, 5, 6, 7, 8, 9]  NA                     10000       3282       32.82    3.99   28.83    2.62   64.56                1\n",
            "      3  fg = [0, 1, 2]  bg = [3, 4, 5, 6, 7, 8, 9]  NA                     10000       3278       32.78    4.98   27.8     5.28   61.94               10\n",
            "      4  fg = [0, 1, 2]  bg = [3, 4, 5, 6, 7, 8, 9]  NA                     10000       3282       32.82    3.26   29.56    5.11   62.07               15\n",
            "      5  fg = [0, 1, 2]  bg = [3, 4, 5, 6, 7, 8, 9]  NA                     10000       3278       32.78    3.51   29.27   24.49   42.73                0\n",
            "      6  fg = [0, 1, 2]  bg = [3, 4, 5, 6, 7, 8, 9]  NA                     10000       3281       32.81    4.49   28.32    9.08   58.11             1331\n",
            " \n",
            "================================================================================================================================================================\n",
            " \n",
            "================================================================================================================================================================\n",
            "  S.No.  fg_class        bg_class                    Epoch used      total_points    correct    accuracy    FTPT    FFPT    FTPF    FFPF    avg_img > 0.5\n",
            "-------  --------------  --------------------------  ------------  --------------  ---------  ----------  ------  ------  ------  ------  ---------------\n",
            "      1  fg = [0, 1, 2]  bg = [3, 4, 5, 6, 7, 8, 9]  NA                     10000       3286       32.86    4.96   27.9     4.39   62.75                7\n",
            "      2  fg = [0, 1, 2]  bg = [3, 4, 5, 6, 7, 8, 9]  NA                     10000       3287       32.87    3.86   29.01    2.61   64.52                0\n",
            "      3  fg = [0, 1, 2]  bg = [3, 4, 5, 6, 7, 8, 9]  NA                     10000       3285       32.85    5.2    27.65    5.6    61.55                4\n",
            "      4  fg = [0, 1, 2]  bg = [3, 4, 5, 6, 7, 8, 9]  NA                     10000       3290       32.9     3.26   29.64    5.47   61.63                6\n",
            "      5  fg = [0, 1, 2]  bg = [3, 4, 5, 6, 7, 8, 9]  NA                     10000       3288       32.88    3.59   29.29   24.25   42.87                0\n",
            "      6  fg = [0, 1, 2]  bg = [3, 4, 5, 6, 7, 8, 9]  NA                     10000       3288       32.88    4.68   28.2     9.37   57.75             1305\n",
            " \n",
            "================================================================================================================================================================\n",
            "[1,    40] loss: 1.108\n",
            "[1,    80] loss: 1.099\n",
            "[1,   120] loss: 1.099\n",
            "[2,    40] loss: 1.099\n",
            "[2,    80] loss: 1.099\n",
            "[2,   120] loss: 1.099\n",
            "[3,    40] loss: 1.099\n",
            "[3,    80] loss: 1.099\n",
            "[3,   120] loss: 1.099\n",
            "[4,    40] loss: 1.099\n",
            "[4,    80] loss: 1.099\n",
            "[4,   120] loss: 1.098\n",
            "[5,    40] loss: 1.098\n",
            "[5,    80] loss: 1.098\n",
            "[5,   120] loss: 1.098\n",
            "[6,    40] loss: 1.098\n",
            "[6,    80] loss: 1.098\n",
            "[6,   120] loss: 1.098\n",
            "[7,    40] loss: 1.098\n",
            "[7,    80] loss: 1.098\n",
            "[7,   120] loss: 1.097\n",
            "[8,    40] loss: 1.097\n",
            "[8,    80] loss: 1.097\n",
            "[8,   120] loss: 1.097\n",
            "[9,    40] loss: 1.096\n",
            "[9,    80] loss: 1.095\n",
            "[9,   120] loss: 1.093\n",
            "[10,    40] loss: 1.092\n",
            "[10,    80] loss: 1.090\n",
            "[10,   120] loss: 1.088\n",
            "[11,    40] loss: 1.085\n",
            "[11,    80] loss: 1.082\n",
            "[11,   120] loss: 1.080\n",
            "[12,    40] loss: 1.079\n",
            "[12,    80] loss: 1.075\n",
            "[12,   120] loss: 1.070\n",
            "[13,    40] loss: 1.075\n",
            "[13,    80] loss: 1.066\n",
            "[13,   120] loss: 1.061\n",
            "[14,    40] loss: 1.058\n",
            "[14,    80] loss: 1.058\n",
            "[14,   120] loss: 1.060\n",
            "[15,    40] loss: 1.052\n",
            "[15,    80] loss: 1.053\n",
            "[15,   120] loss: 1.053\n",
            "[16,    40] loss: 1.046\n",
            "[16,    80] loss: 1.044\n",
            "[16,   120] loss: 1.031\n",
            "[17,    40] loss: 1.021\n",
            "[17,    80] loss: 1.019\n",
            "[17,   120] loss: 0.985\n",
            "[18,    40] loss: 0.942\n",
            "[18,    80] loss: 0.847\n",
            "[18,   120] loss: 0.764\n",
            "[19,    40] loss: 0.581\n",
            "[19,    80] loss: 0.479\n",
            "[19,   120] loss: 0.443\n",
            "[20,    40] loss: 0.325\n",
            "[20,    80] loss: 0.280\n",
            "[20,   120] loss: 0.230\n",
            "[21,    40] loss: 0.205\n",
            "[21,    80] loss: 0.225\n",
            "[21,   120] loss: 0.136\n",
            "[22,    40] loss: 0.129\n",
            "[22,    80] loss: 0.112\n",
            "[22,   120] loss: 0.120\n",
            "[23,    40] loss: 0.159\n",
            "[23,    80] loss: 0.101\n",
            "[23,   120] loss: 0.183\n",
            "[24,    40] loss: 0.118\n",
            "[24,    80] loss: 0.098\n",
            "[24,   120] loss: 0.083\n",
            "[25,    40] loss: 0.075\n",
            "[25,    80] loss: 0.070\n",
            "[25,   120] loss: 0.064\n",
            "[26,    40] loss: 0.079\n",
            "[26,    80] loss: 0.073\n",
            "[26,   120] loss: 0.058\n",
            "[27,    40] loss: 0.049\n",
            "[27,    80] loss: 0.050\n",
            "[27,   120] loss: 0.048\n",
            "Finished Training\n",
            " \n",
            "================================================================================================================================================================\n",
            "  S.No.  fg_class        bg_class                      Epoch used    total_points    correct    accuracy     FTPT      FFPT      FTPF        FFPF    avg_img > 0.5\n",
            "-------  --------------  --------------------------  ------------  --------------  ---------  ----------  -------  --------  --------  ----------  ---------------\n",
            "      1  fg = [0, 1, 2]  bg = [3, 4, 5, 6, 7, 8, 9]            29           30000      29598     98.66    78.57    20.09     1.34      0                     20405\n",
            "      2  fg = [0, 1, 2]  bg = [3, 4, 5, 6, 7, 8, 9]            47           30000      29755     99.1833  79.68    19.5033   0.803333  0.0133333             20349\n",
            "      3  fg = [0, 1, 2]  bg = [3, 4, 5, 6, 7, 8, 9]            38           30000      29800     99.3333  67.5267  31.8067   0.64      0.0266667             20181\n",
            "      4  fg = [0, 1, 2]  bg = [3, 4, 5, 6, 7, 8, 9]            27           30000      29810     99.3667  84.0067  15.36     0.63      0.00333333            20597\n",
            "      5  fg = [0, 1, 2]  bg = [3, 4, 5, 6, 7, 8, 9]            46           30000      29541     98.47    44.91    53.56     0.74      0.79                    208\n",
            "      6  fg = [0, 1, 2]  bg = [3, 4, 5, 6, 7, 8, 9]            26           30000      29774     99.2467  97.4233   1.82333  0.743333  0.01                  28074\n",
            "      7  fg = [0, 1, 2]  bg = [3, 4, 5, 6, 7, 8, 9]            26           30000      29376     97.92    31.1667  66.7533   0.553333  1.52667                   0\n",
            " \n",
            "================================================================================================================================================================\n",
            " \n",
            "================================================================================================================================================================\n",
            "  S.No.  fg_class        bg_class                    Epoch used      total_points    correct    accuracy    FTPT    FFPT    FTPF    FFPF    avg_img > 0.5\n",
            "-------  --------------  --------------------------  ------------  --------------  ---------  ----------  ------  ------  ------  ------  ---------------\n",
            "      1  fg = [0, 1, 2]  bg = [3, 4, 5, 6, 7, 8, 9]  NA                     10000       9810       98.1    77.79   20.31    1.9     0                6794\n",
            "      2  fg = [0, 1, 2]  bg = [3, 4, 5, 6, 7, 8, 9]  NA                     10000       9879       98.79   79.31   19.48    1.18    0.03             6765\n",
            "      3  fg = [0, 1, 2]  bg = [3, 4, 5, 6, 7, 8, 9]  NA                     10000       9840       98.4    66.44   31.96    1.56    0.04             6711\n",
            "      4  fg = [0, 1, 2]  bg = [3, 4, 5, 6, 7, 8, 9]  NA                     10000       9914       99.14   83.55   15.59    0.86    0                6864\n",
            "      5  fg = [0, 1, 2]  bg = [3, 4, 5, 6, 7, 8, 9]  NA                     10000       9851       98.51   44.07   54.44    0.73    0.76               64\n",
            "      6  fg = [0, 1, 2]  bg = [3, 4, 5, 6, 7, 8, 9]  NA                     10000       9901       99.01   97.13    1.88    0.99    0                9348\n",
            "      7  fg = [0, 1, 2]  bg = [3, 4, 5, 6, 7, 8, 9]  NA                     10000       9774       97.74   31.33   66.41    0.51    1.75                0\n",
            " \n",
            "================================================================================================================================================================\n",
            " \n",
            "================================================================================================================================================================\n",
            "  S.No.  fg_class        bg_class                    Epoch used      total_points    correct    accuracy    FTPT    FFPT    FTPF    FFPF    avg_img > 0.5\n",
            "-------  --------------  --------------------------  ------------  --------------  ---------  ----------  ------  ------  ------  ------  ---------------\n",
            "      1  fg = [0, 1, 2]  bg = [3, 4, 5, 6, 7, 8, 9]  NA                     10000       9637       96.37   75.86   20.51    3.63    0                6841\n",
            "      2  fg = [0, 1, 2]  bg = [3, 4, 5, 6, 7, 8, 9]  NA                     10000       9718       97.18   77.87   19.31    2.74    0.08             6829\n",
            "      3  fg = [0, 1, 2]  bg = [3, 4, 5, 6, 7, 8, 9]  NA                     10000       9433       94.33   63.33   31       5.65    0.02             6775\n",
            "      4  fg = [0, 1, 2]  bg = [3, 4, 5, 6, 7, 8, 9]  NA                     10000       9834       98.34   82.78   15.56    1.66    0                6929\n",
            "      5  fg = [0, 1, 2]  bg = [3, 4, 5, 6, 7, 8, 9]  NA                     10000       9861       98.61   44.92   53.69    0.67    0.72               76\n",
            "      6  fg = [0, 1, 2]  bg = [3, 4, 5, 6, 7, 8, 9]  NA                     10000       9872       98.72   96.61    2.11    1.28    0                9350\n",
            "      7  fg = [0, 1, 2]  bg = [3, 4, 5, 6, 7, 8, 9]  NA                     10000       9774       97.74   29.33   68.41    0.61    1.65                0\n",
            " \n",
            "================================================================================================================================================================\n",
            " \n",
            "================================================================================================================================================================\n",
            "  S.No.  fg_class        bg_class                    Epoch used      total_points    correct    accuracy    FTPT    FFPT    FTPF    FFPF    avg_img > 0.5\n",
            "-------  --------------  --------------------------  ------------  --------------  ---------  ----------  ------  ------  ------  ------  ---------------\n",
            "      1  fg = [0, 1, 2]  bg = [3, 4, 5, 6, 7, 8, 9]  NA                     10000       3277       32.77    4.69   28.08    4.36   62.87                1\n",
            "      2  fg = [0, 1, 2]  bg = [3, 4, 5, 6, 7, 8, 9]  NA                     10000       3282       32.82    3.99   28.83    2.62   64.56                1\n",
            "      3  fg = [0, 1, 2]  bg = [3, 4, 5, 6, 7, 8, 9]  NA                     10000       3278       32.78    4.98   27.8     5.28   61.94               10\n",
            "      4  fg = [0, 1, 2]  bg = [3, 4, 5, 6, 7, 8, 9]  NA                     10000       3282       32.82    3.26   29.56    5.11   62.07               15\n",
            "      5  fg = [0, 1, 2]  bg = [3, 4, 5, 6, 7, 8, 9]  NA                     10000       3278       32.78    3.51   29.27   24.49   42.73                0\n",
            "      6  fg = [0, 1, 2]  bg = [3, 4, 5, 6, 7, 8, 9]  NA                     10000       3281       32.81    4.49   28.32    9.08   58.11             1331\n",
            "      7  fg = [0, 1, 2]  bg = [3, 4, 5, 6, 7, 8, 9]  NA                     10000       3291       32.91    3.79   29.12   28.09   39                   0\n",
            " \n",
            "================================================================================================================================================================\n",
            " \n",
            "================================================================================================================================================================\n",
            "  S.No.  fg_class        bg_class                    Epoch used      total_points    correct    accuracy    FTPT    FFPT    FTPF    FFPF    avg_img > 0.5\n",
            "-------  --------------  --------------------------  ------------  --------------  ---------  ----------  ------  ------  ------  ------  ---------------\n",
            "      1  fg = [0, 1, 2]  bg = [3, 4, 5, 6, 7, 8, 9]  NA                     10000       3286       32.86    4.96   27.9     4.39   62.75                7\n",
            "      2  fg = [0, 1, 2]  bg = [3, 4, 5, 6, 7, 8, 9]  NA                     10000       3287       32.87    3.86   29.01    2.61   64.52                0\n",
            "      3  fg = [0, 1, 2]  bg = [3, 4, 5, 6, 7, 8, 9]  NA                     10000       3285       32.85    5.2    27.65    5.6    61.55                4\n",
            "      4  fg = [0, 1, 2]  bg = [3, 4, 5, 6, 7, 8, 9]  NA                     10000       3290       32.9     3.26   29.64    5.47   61.63                6\n",
            "      5  fg = [0, 1, 2]  bg = [3, 4, 5, 6, 7, 8, 9]  NA                     10000       3288       32.88    3.59   29.29   24.25   42.87                0\n",
            "      6  fg = [0, 1, 2]  bg = [3, 4, 5, 6, 7, 8, 9]  NA                     10000       3288       32.88    4.68   28.2     9.37   57.75             1305\n",
            "      7  fg = [0, 1, 2]  bg = [3, 4, 5, 6, 7, 8, 9]  NA                     10000       3293       32.93    3.22   29.71   26.69   40.38                0\n",
            " \n",
            "================================================================================================================================================================\n",
            "[1,    40] loss: 1.104\n",
            "[1,    80] loss: 1.099\n",
            "[1,   120] loss: 1.099\n",
            "[2,    40] loss: 1.099\n",
            "[2,    80] loss: 1.099\n",
            "[2,   120] loss: 1.099\n",
            "[3,    40] loss: 1.098\n",
            "[3,    80] loss: 1.098\n",
            "[3,   120] loss: 1.098\n",
            "[4,    40] loss: 1.098\n",
            "[4,    80] loss: 1.098\n",
            "[4,   120] loss: 1.098\n",
            "[5,    40] loss: 1.098\n",
            "[5,    80] loss: 1.098\n",
            "[5,   120] loss: 1.098\n",
            "[6,    40] loss: 1.098\n",
            "[6,    80] loss: 1.098\n",
            "[6,   120] loss: 1.098\n",
            "[7,    40] loss: 1.098\n",
            "[7,    80] loss: 1.097\n",
            "[7,   120] loss: 1.097\n",
            "[8,    40] loss: 1.097\n",
            "[8,    80] loss: 1.096\n",
            "[8,   120] loss: 1.096\n",
            "[9,    40] loss: 1.095\n",
            "[9,    80] loss: 1.094\n",
            "[9,   120] loss: 1.093\n",
            "[10,    40] loss: 1.091\n",
            "[10,    80] loss: 1.090\n",
            "[10,   120] loss: 1.086\n",
            "[11,    40] loss: 1.083\n",
            "[11,    80] loss: 1.082\n",
            "[11,   120] loss: 1.080\n",
            "[12,    40] loss: 1.079\n",
            "[12,    80] loss: 1.077\n",
            "[12,   120] loss: 1.075\n",
            "[13,    40] loss: 1.071\n",
            "[13,    80] loss: 1.076\n",
            "[13,   120] loss: 1.075\n",
            "[14,    40] loss: 1.070\n",
            "[14,    80] loss: 1.074\n",
            "[14,   120] loss: 1.075\n",
            "[15,    40] loss: 1.070\n",
            "[15,    80] loss: 1.072\n",
            "[15,   120] loss: 1.072\n",
            "[16,    40] loss: 1.070\n",
            "[16,    80] loss: 1.069\n",
            "[16,   120] loss: 1.066\n",
            "[17,    40] loss: 1.067\n",
            "[17,    80] loss: 1.066\n",
            "[17,   120] loss: 1.062\n",
            "[18,    40] loss: 1.064\n",
            "[18,    80] loss: 1.059\n",
            "[18,   120] loss: 1.061\n",
            "[19,    40] loss: 1.059\n",
            "[19,    80] loss: 1.060\n",
            "[19,   120] loss: 1.057\n",
            "[20,    40] loss: 1.057\n",
            "[20,    80] loss: 1.057\n",
            "[20,   120] loss: 1.054\n",
            "[21,    40] loss: 1.048\n",
            "[21,    80] loss: 1.056\n",
            "[21,   120] loss: 1.051\n",
            "[22,    40] loss: 1.041\n",
            "[22,    80] loss: 1.045\n",
            "[22,   120] loss: 1.033\n",
            "[23,    40] loss: 1.025\n",
            "[23,    80] loss: 1.027\n",
            "[23,   120] loss: 1.019\n",
            "[24,    40] loss: 1.013\n",
            "[24,    80] loss: 1.003\n",
            "[24,   120] loss: 0.996\n",
            "[25,    40] loss: 0.974\n",
            "[25,    80] loss: 0.948\n",
            "[25,   120] loss: 0.909\n",
            "[26,    40] loss: 0.805\n",
            "[26,    80] loss: 0.694\n",
            "[26,   120] loss: 0.347\n",
            "[27,    40] loss: 0.294\n",
            "[27,    80] loss: 0.283\n",
            "[27,   120] loss: 0.275\n",
            "[28,    40] loss: 0.243\n",
            "[28,    80] loss: 0.243\n",
            "[28,   120] loss: 0.217\n",
            "[29,    40] loss: 0.248\n",
            "[29,    80] loss: 0.204\n",
            "[29,   120] loss: 0.194\n",
            "[30,    40] loss: 0.181\n",
            "[30,    80] loss: 0.182\n",
            "[30,   120] loss: 0.162\n",
            "[31,    40] loss: 0.172\n",
            "[31,    80] loss: 0.174\n",
            "[31,   120] loss: 0.147\n",
            "[32,    40] loss: 0.138\n",
            "[32,    80] loss: 0.117\n",
            "[32,   120] loss: 0.136\n",
            "[33,    40] loss: 0.314\n",
            "[33,    80] loss: 0.161\n",
            "[33,   120] loss: 0.112\n",
            "[34,    40] loss: 0.097\n",
            "[34,    80] loss: 0.092\n",
            "[34,   120] loss: 0.089\n",
            "[35,    40] loss: 0.076\n",
            "[35,    80] loss: 0.081\n",
            "[35,   120] loss: 0.089\n",
            "[36,    40] loss: 0.081\n",
            "[36,    80] loss: 0.066\n",
            "[36,   120] loss: 0.060\n",
            "[37,    40] loss: 0.056\n",
            "[37,    80] loss: 0.049\n",
            "[37,   120] loss: 0.055\n",
            "[38,    40] loss: 0.039\n",
            "[38,    80] loss: 0.049\n",
            "[38,   120] loss: 0.056\n",
            "Finished Training\n",
            " \n",
            "================================================================================================================================================================\n",
            "  S.No.  fg_class        bg_class                      Epoch used    total_points    correct    accuracy     FTPT      FFPT      FTPF        FFPF    avg_img > 0.5\n",
            "-------  --------------  --------------------------  ------------  --------------  ---------  ----------  -------  --------  --------  ----------  ---------------\n",
            "      1  fg = [0, 1, 2]  bg = [3, 4, 5, 6, 7, 8, 9]            29           30000      29598     98.66    78.57    20.09     1.34      0                     20405\n",
            "      2  fg = [0, 1, 2]  bg = [3, 4, 5, 6, 7, 8, 9]            47           30000      29755     99.1833  79.68    19.5033   0.803333  0.0133333             20349\n",
            "      3  fg = [0, 1, 2]  bg = [3, 4, 5, 6, 7, 8, 9]            38           30000      29800     99.3333  67.5267  31.8067   0.64      0.0266667             20181\n",
            "      4  fg = [0, 1, 2]  bg = [3, 4, 5, 6, 7, 8, 9]            27           30000      29810     99.3667  84.0067  15.36     0.63      0.00333333            20597\n",
            "      5  fg = [0, 1, 2]  bg = [3, 4, 5, 6, 7, 8, 9]            46           30000      29541     98.47    44.91    53.56     0.74      0.79                    208\n",
            "      6  fg = [0, 1, 2]  bg = [3, 4, 5, 6, 7, 8, 9]            26           30000      29774     99.2467  97.4233   1.82333  0.743333  0.01                  28074\n",
            "      7  fg = [0, 1, 2]  bg = [3, 4, 5, 6, 7, 8, 9]            26           30000      29376     97.92    31.1667  66.7533   0.553333  1.52667                   0\n",
            "      8  fg = [0, 1, 2]  bg = [3, 4, 5, 6, 7, 8, 9]            37           30000      29568     98.56    72.25    26.31     1.40333   0.0366667             20178\n",
            " \n",
            "================================================================================================================================================================\n",
            " \n",
            "================================================================================================================================================================\n",
            "  S.No.  fg_class        bg_class                    Epoch used      total_points    correct    accuracy    FTPT    FFPT    FTPF    FFPF    avg_img > 0.5\n",
            "-------  --------------  --------------------------  ------------  --------------  ---------  ----------  ------  ------  ------  ------  ---------------\n",
            "      1  fg = [0, 1, 2]  bg = [3, 4, 5, 6, 7, 8, 9]  NA                     10000       9810       98.1    77.79   20.31    1.9     0                6794\n",
            "      2  fg = [0, 1, 2]  bg = [3, 4, 5, 6, 7, 8, 9]  NA                     10000       9879       98.79   79.31   19.48    1.18    0.03             6765\n",
            "      3  fg = [0, 1, 2]  bg = [3, 4, 5, 6, 7, 8, 9]  NA                     10000       9840       98.4    66.44   31.96    1.56    0.04             6711\n",
            "      4  fg = [0, 1, 2]  bg = [3, 4, 5, 6, 7, 8, 9]  NA                     10000       9914       99.14   83.55   15.59    0.86    0                6864\n",
            "      5  fg = [0, 1, 2]  bg = [3, 4, 5, 6, 7, 8, 9]  NA                     10000       9851       98.51   44.07   54.44    0.73    0.76               64\n",
            "      6  fg = [0, 1, 2]  bg = [3, 4, 5, 6, 7, 8, 9]  NA                     10000       9901       99.01   97.13    1.88    0.99    0                9348\n",
            "      7  fg = [0, 1, 2]  bg = [3, 4, 5, 6, 7, 8, 9]  NA                     10000       9774       97.74   31.33   66.41    0.51    1.75                0\n",
            "      8  fg = [0, 1, 2]  bg = [3, 4, 5, 6, 7, 8, 9]  NA                     10000       9761       97.61   70.93   26.68    2.38    0.01             6710\n",
            " \n",
            "================================================================================================================================================================\n",
            " \n",
            "================================================================================================================================================================\n",
            "  S.No.  fg_class        bg_class                    Epoch used      total_points    correct    accuracy    FTPT    FFPT    FTPF    FFPF    avg_img > 0.5\n",
            "-------  --------------  --------------------------  ------------  --------------  ---------  ----------  ------  ------  ------  ------  ---------------\n",
            "      1  fg = [0, 1, 2]  bg = [3, 4, 5, 6, 7, 8, 9]  NA                     10000       9637       96.37   75.86   20.51    3.63    0                6841\n",
            "      2  fg = [0, 1, 2]  bg = [3, 4, 5, 6, 7, 8, 9]  NA                     10000       9718       97.18   77.87   19.31    2.74    0.08             6829\n",
            "      3  fg = [0, 1, 2]  bg = [3, 4, 5, 6, 7, 8, 9]  NA                     10000       9433       94.33   63.33   31       5.65    0.02             6775\n",
            "      4  fg = [0, 1, 2]  bg = [3, 4, 5, 6, 7, 8, 9]  NA                     10000       9834       98.34   82.78   15.56    1.66    0                6929\n",
            "      5  fg = [0, 1, 2]  bg = [3, 4, 5, 6, 7, 8, 9]  NA                     10000       9861       98.61   44.92   53.69    0.67    0.72               76\n",
            "      6  fg = [0, 1, 2]  bg = [3, 4, 5, 6, 7, 8, 9]  NA                     10000       9872       98.72   96.61    2.11    1.28    0                9350\n",
            "      7  fg = [0, 1, 2]  bg = [3, 4, 5, 6, 7, 8, 9]  NA                     10000       9774       97.74   29.33   68.41    0.61    1.65                0\n",
            "      8  fg = [0, 1, 2]  bg = [3, 4, 5, 6, 7, 8, 9]  NA                     10000       9471       94.71   68.82   25.89    5.16    0.13             6780\n",
            " \n",
            "================================================================================================================================================================\n",
            " \n",
            "================================================================================================================================================================\n",
            "  S.No.  fg_class        bg_class                    Epoch used      total_points    correct    accuracy    FTPT    FFPT    FTPF    FFPF    avg_img > 0.5\n",
            "-------  --------------  --------------------------  ------------  --------------  ---------  ----------  ------  ------  ------  ------  ---------------\n",
            "      1  fg = [0, 1, 2]  bg = [3, 4, 5, 6, 7, 8, 9]  NA                     10000       3277       32.77    4.69   28.08    4.36   62.87                1\n",
            "      2  fg = [0, 1, 2]  bg = [3, 4, 5, 6, 7, 8, 9]  NA                     10000       3282       32.82    3.99   28.83    2.62   64.56                1\n",
            "      3  fg = [0, 1, 2]  bg = [3, 4, 5, 6, 7, 8, 9]  NA                     10000       3278       32.78    4.98   27.8     5.28   61.94               10\n",
            "      4  fg = [0, 1, 2]  bg = [3, 4, 5, 6, 7, 8, 9]  NA                     10000       3282       32.82    3.26   29.56    5.11   62.07               15\n",
            "      5  fg = [0, 1, 2]  bg = [3, 4, 5, 6, 7, 8, 9]  NA                     10000       3278       32.78    3.51   29.27   24.49   42.73                0\n",
            "      6  fg = [0, 1, 2]  bg = [3, 4, 5, 6, 7, 8, 9]  NA                     10000       3281       32.81    4.49   28.32    9.08   58.11             1331\n",
            "      7  fg = [0, 1, 2]  bg = [3, 4, 5, 6, 7, 8, 9]  NA                     10000       3291       32.91    3.79   29.12   28.09   39                   0\n",
            "      8  fg = [0, 1, 2]  bg = [3, 4, 5, 6, 7, 8, 9]  NA                     10000       3280       32.8     5.55   27.25    2.48   64.72                0\n",
            " \n",
            "================================================================================================================================================================\n",
            " \n",
            "================================================================================================================================================================\n",
            "  S.No.  fg_class        bg_class                    Epoch used      total_points    correct    accuracy    FTPT    FFPT    FTPF    FFPF    avg_img > 0.5\n",
            "-------  --------------  --------------------------  ------------  --------------  ---------  ----------  ------  ------  ------  ------  ---------------\n",
            "      1  fg = [0, 1, 2]  bg = [3, 4, 5, 6, 7, 8, 9]  NA                     10000       3286       32.86    4.96   27.9     4.39   62.75                7\n",
            "      2  fg = [0, 1, 2]  bg = [3, 4, 5, 6, 7, 8, 9]  NA                     10000       3287       32.87    3.86   29.01    2.61   64.52                0\n",
            "      3  fg = [0, 1, 2]  bg = [3, 4, 5, 6, 7, 8, 9]  NA                     10000       3285       32.85    5.2    27.65    5.6    61.55                4\n",
            "      4  fg = [0, 1, 2]  bg = [3, 4, 5, 6, 7, 8, 9]  NA                     10000       3290       32.9     3.26   29.64    5.47   61.63                6\n",
            "      5  fg = [0, 1, 2]  bg = [3, 4, 5, 6, 7, 8, 9]  NA                     10000       3288       32.88    3.59   29.29   24.25   42.87                0\n",
            "      6  fg = [0, 1, 2]  bg = [3, 4, 5, 6, 7, 8, 9]  NA                     10000       3288       32.88    4.68   28.2     9.37   57.75             1305\n",
            "      7  fg = [0, 1, 2]  bg = [3, 4, 5, 6, 7, 8, 9]  NA                     10000       3293       32.93    3.22   29.71   26.69   40.38                0\n",
            "      8  fg = [0, 1, 2]  bg = [3, 4, 5, 6, 7, 8, 9]  NA                     10000       3285       32.85    5.55   27.3     2.4    64.75                0\n",
            " \n",
            "================================================================================================================================================================\n",
            "[1,    40] loss: 1.104\n",
            "[1,    80] loss: 1.099\n",
            "[1,   120] loss: 1.099\n",
            "[2,    40] loss: 1.099\n",
            "[2,    80] loss: 1.099\n",
            "[2,   120] loss: 1.099\n",
            "[3,    40] loss: 1.099\n",
            "[3,    80] loss: 1.099\n",
            "[3,   120] loss: 1.099\n",
            "[4,    40] loss: 1.098\n",
            "[4,    80] loss: 1.099\n",
            "[4,   120] loss: 1.099\n",
            "[5,    40] loss: 1.098\n",
            "[5,    80] loss: 1.098\n",
            "[5,   120] loss: 1.098\n",
            "[6,    40] loss: 1.098\n",
            "[6,    80] loss: 1.098\n",
            "[6,   120] loss: 1.098\n",
            "[7,    40] loss: 1.098\n",
            "[7,    80] loss: 1.098\n",
            "[7,   120] loss: 1.098\n",
            "[8,    40] loss: 1.098\n",
            "[8,    80] loss: 1.098\n",
            "[8,   120] loss: 1.097\n",
            "[9,    40] loss: 1.097\n",
            "[9,    80] loss: 1.096\n",
            "[9,   120] loss: 1.095\n",
            "[10,    40] loss: 1.094\n",
            "[10,    80] loss: 1.092\n",
            "[10,   120] loss: 1.091\n",
            "[11,    40] loss: 1.090\n",
            "[11,    80] loss: 1.086\n",
            "[11,   120] loss: 1.084\n",
            "[12,    40] loss: 1.082\n",
            "[12,    80] loss: 1.082\n",
            "[12,   120] loss: 1.079\n",
            "[13,    40] loss: 1.078\n",
            "[13,    80] loss: 1.074\n",
            "[13,   120] loss: 1.074\n",
            "[14,    40] loss: 1.071\n",
            "[14,    80] loss: 1.068\n",
            "[14,   120] loss: 1.068\n",
            "[15,    40] loss: 1.064\n",
            "[15,    80] loss: 1.066\n",
            "[15,   120] loss: 1.070\n",
            "[16,    40] loss: 1.065\n",
            "[16,    80] loss: 1.062\n",
            "[16,   120] loss: 1.064\n",
            "[17,    40] loss: 1.058\n",
            "[17,    80] loss: 1.059\n",
            "[17,   120] loss: 1.066\n",
            "[18,    40] loss: 1.060\n",
            "[18,    80] loss: 1.061\n",
            "[18,   120] loss: 1.059\n",
            "[19,    40] loss: 1.061\n",
            "[19,    80] loss: 1.057\n",
            "[19,   120] loss: 1.055\n",
            "[20,    40] loss: 1.054\n",
            "[20,    80] loss: 1.053\n",
            "[20,   120] loss: 1.053\n",
            "[21,    40] loss: 1.049\n",
            "[21,    80] loss: 1.049\n",
            "[21,   120] loss: 1.047\n",
            "[22,    40] loss: 1.038\n",
            "[22,    80] loss: 1.046\n",
            "[22,   120] loss: 1.044\n",
            "[23,    40] loss: 1.036\n",
            "[23,    80] loss: 1.032\n",
            "[23,   120] loss: 1.027\n",
            "[24,    40] loss: 1.029\n",
            "[24,    80] loss: 1.007\n",
            "[24,   120] loss: 0.993\n",
            "[25,    40] loss: 0.970\n",
            "[25,    80] loss: 0.894\n",
            "[25,   120] loss: 0.738\n",
            "[26,    40] loss: 0.617\n",
            "[26,    80] loss: 0.567\n",
            "[26,   120] loss: 0.513\n",
            "[27,    40] loss: 0.406\n",
            "[27,    80] loss: 0.437\n",
            "[27,   120] loss: 0.393\n",
            "[28,    40] loss: 0.240\n",
            "[28,    80] loss: 0.158\n",
            "[28,   120] loss: 0.165\n",
            "[29,    40] loss: 0.200\n",
            "[29,    80] loss: 0.139\n",
            "[29,   120] loss: 0.108\n",
            "[30,    40] loss: 0.097\n",
            "[30,    80] loss: 0.102\n",
            "[30,   120] loss: 0.169\n",
            "[31,    40] loss: 0.083\n",
            "[31,    80] loss: 0.081\n",
            "[31,   120] loss: 0.080\n",
            "[32,    40] loss: 0.070\n",
            "[32,    80] loss: 0.138\n",
            "[32,   120] loss: 0.068\n",
            "[33,    40] loss: 0.056\n",
            "[33,    80] loss: 0.053\n",
            "[33,   120] loss: 0.050\n",
            "[34,    40] loss: 0.041\n",
            "[34,    80] loss: 0.046\n",
            "[34,   120] loss: 0.061\n",
            "Finished Training\n",
            " \n",
            "================================================================================================================================================================\n",
            "  S.No.  fg_class        bg_class                      Epoch used    total_points    correct    accuracy     FTPT      FFPT      FTPF        FFPF    avg_img > 0.5\n",
            "-------  --------------  --------------------------  ------------  --------------  ---------  ----------  -------  --------  --------  ----------  ---------------\n",
            "      1  fg = [0, 1, 2]  bg = [3, 4, 5, 6, 7, 8, 9]            29           30000      29598     98.66    78.57    20.09     1.34      0                     20405\n",
            "      2  fg = [0, 1, 2]  bg = [3, 4, 5, 6, 7, 8, 9]            47           30000      29755     99.1833  79.68    19.5033   0.803333  0.0133333             20349\n",
            "      3  fg = [0, 1, 2]  bg = [3, 4, 5, 6, 7, 8, 9]            38           30000      29800     99.3333  67.5267  31.8067   0.64      0.0266667             20181\n",
            "      4  fg = [0, 1, 2]  bg = [3, 4, 5, 6, 7, 8, 9]            27           30000      29810     99.3667  84.0067  15.36     0.63      0.00333333            20597\n",
            "      5  fg = [0, 1, 2]  bg = [3, 4, 5, 6, 7, 8, 9]            46           30000      29541     98.47    44.91    53.56     0.74      0.79                    208\n",
            "      6  fg = [0, 1, 2]  bg = [3, 4, 5, 6, 7, 8, 9]            26           30000      29774     99.2467  97.4233   1.82333  0.743333  0.01                  28074\n",
            "      7  fg = [0, 1, 2]  bg = [3, 4, 5, 6, 7, 8, 9]            26           30000      29376     97.92    31.1667  66.7533   0.553333  1.52667                   0\n",
            "      8  fg = [0, 1, 2]  bg = [3, 4, 5, 6, 7, 8, 9]            37           30000      29568     98.56    72.25    26.31     1.40333   0.0366667             20178\n",
            "      9  fg = [0, 1, 2]  bg = [3, 4, 5, 6, 7, 8, 9]            33           30000      29549     98.4967  30.6133  67.8833   0.25      1.25333                   0\n",
            " \n",
            "================================================================================================================================================================\n",
            " \n",
            "================================================================================================================================================================\n",
            "  S.No.  fg_class        bg_class                    Epoch used      total_points    correct    accuracy    FTPT    FFPT    FTPF    FFPF    avg_img > 0.5\n",
            "-------  --------------  --------------------------  ------------  --------------  ---------  ----------  ------  ------  ------  ------  ---------------\n",
            "      1  fg = [0, 1, 2]  bg = [3, 4, 5, 6, 7, 8, 9]  NA                     10000       9810       98.1    77.79   20.31    1.9     0                6794\n",
            "      2  fg = [0, 1, 2]  bg = [3, 4, 5, 6, 7, 8, 9]  NA                     10000       9879       98.79   79.31   19.48    1.18    0.03             6765\n",
            "      3  fg = [0, 1, 2]  bg = [3, 4, 5, 6, 7, 8, 9]  NA                     10000       9840       98.4    66.44   31.96    1.56    0.04             6711\n",
            "      4  fg = [0, 1, 2]  bg = [3, 4, 5, 6, 7, 8, 9]  NA                     10000       9914       99.14   83.55   15.59    0.86    0                6864\n",
            "      5  fg = [0, 1, 2]  bg = [3, 4, 5, 6, 7, 8, 9]  NA                     10000       9851       98.51   44.07   54.44    0.73    0.76               64\n",
            "      6  fg = [0, 1, 2]  bg = [3, 4, 5, 6, 7, 8, 9]  NA                     10000       9901       99.01   97.13    1.88    0.99    0                9348\n",
            "      7  fg = [0, 1, 2]  bg = [3, 4, 5, 6, 7, 8, 9]  NA                     10000       9774       97.74   31.33   66.41    0.51    1.75                0\n",
            "      8  fg = [0, 1, 2]  bg = [3, 4, 5, 6, 7, 8, 9]  NA                     10000       9761       97.61   70.93   26.68    2.38    0.01             6710\n",
            "      9  fg = [0, 1, 2]  bg = [3, 4, 5, 6, 7, 8, 9]  NA                     10000       9846       98.46   30.2    68.26    0.25    1.29                0\n",
            " \n",
            "================================================================================================================================================================\n",
            " \n",
            "================================================================================================================================================================\n",
            "  S.No.  fg_class        bg_class                    Epoch used      total_points    correct    accuracy    FTPT    FFPT    FTPF    FFPF    avg_img > 0.5\n",
            "-------  --------------  --------------------------  ------------  --------------  ---------  ----------  ------  ------  ------  ------  ---------------\n",
            "      1  fg = [0, 1, 2]  bg = [3, 4, 5, 6, 7, 8, 9]  NA                     10000       9637       96.37   75.86   20.51    3.63    0                6841\n",
            "      2  fg = [0, 1, 2]  bg = [3, 4, 5, 6, 7, 8, 9]  NA                     10000       9718       97.18   77.87   19.31    2.74    0.08             6829\n",
            "      3  fg = [0, 1, 2]  bg = [3, 4, 5, 6, 7, 8, 9]  NA                     10000       9433       94.33   63.33   31       5.65    0.02             6775\n",
            "      4  fg = [0, 1, 2]  bg = [3, 4, 5, 6, 7, 8, 9]  NA                     10000       9834       98.34   82.78   15.56    1.66    0                6929\n",
            "      5  fg = [0, 1, 2]  bg = [3, 4, 5, 6, 7, 8, 9]  NA                     10000       9861       98.61   44.92   53.69    0.67    0.72               76\n",
            "      6  fg = [0, 1, 2]  bg = [3, 4, 5, 6, 7, 8, 9]  NA                     10000       9872       98.72   96.61    2.11    1.28    0                9350\n",
            "      7  fg = [0, 1, 2]  bg = [3, 4, 5, 6, 7, 8, 9]  NA                     10000       9774       97.74   29.33   68.41    0.61    1.65                0\n",
            "      8  fg = [0, 1, 2]  bg = [3, 4, 5, 6, 7, 8, 9]  NA                     10000       9471       94.71   68.82   25.89    5.16    0.13             6780\n",
            "      9  fg = [0, 1, 2]  bg = [3, 4, 5, 6, 7, 8, 9]  NA                     10000       9882       98.82   29.86   68.96    0.24    0.94                0\n",
            " \n",
            "================================================================================================================================================================\n",
            " \n",
            "================================================================================================================================================================\n",
            "  S.No.  fg_class        bg_class                    Epoch used      total_points    correct    accuracy    FTPT    FFPT    FTPF    FFPF    avg_img > 0.5\n",
            "-------  --------------  --------------------------  ------------  --------------  ---------  ----------  ------  ------  ------  ------  ---------------\n",
            "      1  fg = [0, 1, 2]  bg = [3, 4, 5, 6, 7, 8, 9]  NA                     10000       3277       32.77    4.69   28.08    4.36   62.87                1\n",
            "      2  fg = [0, 1, 2]  bg = [3, 4, 5, 6, 7, 8, 9]  NA                     10000       3282       32.82    3.99   28.83    2.62   64.56                1\n",
            "      3  fg = [0, 1, 2]  bg = [3, 4, 5, 6, 7, 8, 9]  NA                     10000       3278       32.78    4.98   27.8     5.28   61.94               10\n",
            "      4  fg = [0, 1, 2]  bg = [3, 4, 5, 6, 7, 8, 9]  NA                     10000       3282       32.82    3.26   29.56    5.11   62.07               15\n",
            "      5  fg = [0, 1, 2]  bg = [3, 4, 5, 6, 7, 8, 9]  NA                     10000       3278       32.78    3.51   29.27   24.49   42.73                0\n",
            "      6  fg = [0, 1, 2]  bg = [3, 4, 5, 6, 7, 8, 9]  NA                     10000       3281       32.81    4.49   28.32    9.08   58.11             1331\n",
            "      7  fg = [0, 1, 2]  bg = [3, 4, 5, 6, 7, 8, 9]  NA                     10000       3291       32.91    3.79   29.12   28.09   39                   0\n",
            "      8  fg = [0, 1, 2]  bg = [3, 4, 5, 6, 7, 8, 9]  NA                     10000       3280       32.8     5.55   27.25    2.48   64.72                0\n",
            "      9  fg = [0, 1, 2]  bg = [3, 4, 5, 6, 7, 8, 9]  NA                     10000       3282       32.82    2.8    30.02   27.04   40.14                0\n",
            " \n",
            "================================================================================================================================================================\n",
            " \n",
            "================================================================================================================================================================\n",
            "  S.No.  fg_class        bg_class                    Epoch used      total_points    correct    accuracy    FTPT    FFPT    FTPF    FFPF    avg_img > 0.5\n",
            "-------  --------------  --------------------------  ------------  --------------  ---------  ----------  ------  ------  ------  ------  ---------------\n",
            "      1  fg = [0, 1, 2]  bg = [3, 4, 5, 6, 7, 8, 9]  NA                     10000       3286       32.86    4.96   27.9     4.39   62.75                7\n",
            "      2  fg = [0, 1, 2]  bg = [3, 4, 5, 6, 7, 8, 9]  NA                     10000       3287       32.87    3.86   29.01    2.61   64.52                0\n",
            "      3  fg = [0, 1, 2]  bg = [3, 4, 5, 6, 7, 8, 9]  NA                     10000       3285       32.85    5.2    27.65    5.6    61.55                4\n",
            "      4  fg = [0, 1, 2]  bg = [3, 4, 5, 6, 7, 8, 9]  NA                     10000       3290       32.9     3.26   29.64    5.47   61.63                6\n",
            "      5  fg = [0, 1, 2]  bg = [3, 4, 5, 6, 7, 8, 9]  NA                     10000       3288       32.88    3.59   29.29   24.25   42.87                0\n",
            "      6  fg = [0, 1, 2]  bg = [3, 4, 5, 6, 7, 8, 9]  NA                     10000       3288       32.88    4.68   28.2     9.37   57.75             1305\n",
            "      7  fg = [0, 1, 2]  bg = [3, 4, 5, 6, 7, 8, 9]  NA                     10000       3293       32.93    3.22   29.71   26.69   40.38                0\n",
            "      8  fg = [0, 1, 2]  bg = [3, 4, 5, 6, 7, 8, 9]  NA                     10000       3285       32.85    5.55   27.3     2.4    64.75                0\n",
            "      9  fg = [0, 1, 2]  bg = [3, 4, 5, 6, 7, 8, 9]  NA                     10000       3310       33.1     2.7    30.4    26.56   40.34                0\n",
            " \n",
            "================================================================================================================================================================\n",
            "[1,    40] loss: 1.100\n",
            "[1,    80] loss: 1.099\n",
            "[1,   120] loss: 1.099\n",
            "[2,    40] loss: 1.099\n",
            "[2,    80] loss: 1.099\n",
            "[2,   120] loss: 1.098\n",
            "[3,    40] loss: 1.099\n",
            "[3,    80] loss: 1.099\n",
            "[3,   120] loss: 1.098\n",
            "[4,    40] loss: 1.098\n",
            "[4,    80] loss: 1.098\n",
            "[4,   120] loss: 1.098\n",
            "[5,    40] loss: 1.098\n",
            "[5,    80] loss: 1.097\n",
            "[5,   120] loss: 1.097\n",
            "[6,    40] loss: 1.097\n",
            "[6,    80] loss: 1.097\n",
            "[6,   120] loss: 1.096\n",
            "[7,    40] loss: 1.094\n",
            "[7,    80] loss: 1.092\n",
            "[7,   120] loss: 1.089\n",
            "[8,    40] loss: 1.087\n",
            "[8,    80] loss: 1.083\n",
            "[8,   120] loss: 1.077\n",
            "[9,    40] loss: 1.075\n",
            "[9,    80] loss: 1.075\n",
            "[9,   120] loss: 1.075\n",
            "[10,    40] loss: 1.072\n",
            "[10,    80] loss: 1.067\n",
            "[10,   120] loss: 1.071\n",
            "[11,    40] loss: 1.066\n",
            "[11,    80] loss: 1.066\n",
            "[11,   120] loss: 1.066\n",
            "[12,    40] loss: 1.063\n",
            "[12,    80] loss: 1.061\n",
            "[12,   120] loss: 1.064\n",
            "[13,    40] loss: 1.063\n",
            "[13,    80] loss: 1.063\n",
            "[13,   120] loss: 1.055\n",
            "[14,    40] loss: 1.059\n",
            "[14,    80] loss: 1.060\n",
            "[14,   120] loss: 1.056\n",
            "[15,    40] loss: 1.048\n",
            "[15,    80] loss: 1.058\n",
            "[15,   120] loss: 1.058\n",
            "[16,    40] loss: 1.055\n",
            "[16,    80] loss: 1.049\n",
            "[16,   120] loss: 1.041\n",
            "[17,    40] loss: 1.052\n",
            "[17,    80] loss: 1.040\n",
            "[17,   120] loss: 1.036\n",
            "[18,    40] loss: 1.036\n",
            "[18,    80] loss: 1.031\n",
            "[18,   120] loss: 1.034\n",
            "[19,    40] loss: 1.030\n",
            "[19,    80] loss: 1.033\n",
            "[19,   120] loss: 1.008\n",
            "[20,    40] loss: 0.998\n",
            "[20,    80] loss: 0.988\n",
            "[20,   120] loss: 0.963\n",
            "[21,    40] loss: 0.929\n",
            "[21,    80] loss: 0.809\n",
            "[21,   120] loss: 0.703\n",
            "[22,    40] loss: 0.637\n",
            "[22,    80] loss: 0.427\n",
            "[22,   120] loss: 0.377\n",
            "[23,    40] loss: 0.234\n",
            "[23,    80] loss: 0.177\n",
            "[23,   120] loss: 0.161\n",
            "[24,    40] loss: 0.174\n",
            "[24,    80] loss: 0.161\n",
            "[24,   120] loss: 0.167\n",
            "[25,    40] loss: 0.122\n",
            "[25,    80] loss: 0.126\n",
            "[25,   120] loss: 0.107\n",
            "[26,    40] loss: 0.286\n",
            "[26,    80] loss: 0.110\n",
            "[26,   120] loss: 0.087\n",
            "[27,    40] loss: 0.075\n",
            "[27,    80] loss: 0.069\n",
            "[27,   120] loss: 0.091\n",
            "[28,    40] loss: 0.089\n",
            "[28,    80] loss: 0.059\n",
            "[28,   120] loss: 0.086\n",
            "[29,    40] loss: 0.053\n",
            "[29,    80] loss: 0.048\n",
            "[29,   120] loss: 0.046\n",
            "Finished Training\n",
            " \n",
            "================================================================================================================================================================\n",
            "  S.No.  fg_class        bg_class                      Epoch used    total_points    correct    accuracy     FTPT      FFPT      FTPF        FFPF    avg_img > 0.5\n",
            "-------  --------------  --------------------------  ------------  --------------  ---------  ----------  -------  --------  --------  ----------  ---------------\n",
            "      1  fg = [0, 1, 2]  bg = [3, 4, 5, 6, 7, 8, 9]            29           30000      29598     98.66    78.57    20.09     1.34      0                     20405\n",
            "      2  fg = [0, 1, 2]  bg = [3, 4, 5, 6, 7, 8, 9]            47           30000      29755     99.1833  79.68    19.5033   0.803333  0.0133333             20349\n",
            "      3  fg = [0, 1, 2]  bg = [3, 4, 5, 6, 7, 8, 9]            38           30000      29800     99.3333  67.5267  31.8067   0.64      0.0266667             20181\n",
            "      4  fg = [0, 1, 2]  bg = [3, 4, 5, 6, 7, 8, 9]            27           30000      29810     99.3667  84.0067  15.36     0.63      0.00333333            20597\n",
            "      5  fg = [0, 1, 2]  bg = [3, 4, 5, 6, 7, 8, 9]            46           30000      29541     98.47    44.91    53.56     0.74      0.79                    208\n",
            "      6  fg = [0, 1, 2]  bg = [3, 4, 5, 6, 7, 8, 9]            26           30000      29774     99.2467  97.4233   1.82333  0.743333  0.01                  28074\n",
            "      7  fg = [0, 1, 2]  bg = [3, 4, 5, 6, 7, 8, 9]            26           30000      29376     97.92    31.1667  66.7533   0.553333  1.52667                   0\n",
            "      8  fg = [0, 1, 2]  bg = [3, 4, 5, 6, 7, 8, 9]            37           30000      29568     98.56    72.25    26.31     1.40333   0.0366667             20178\n",
            "      9  fg = [0, 1, 2]  bg = [3, 4, 5, 6, 7, 8, 9]            33           30000      29549     98.4967  30.6133  67.8833   0.25      1.25333                   0\n",
            "     10  fg = [0, 1, 2]  bg = [3, 4, 5, 6, 7, 8, 9]            28           30000      29628     98.76    29.5167  69.2433   0.3       0.94                     22\n",
            " \n",
            "================================================================================================================================================================\n",
            " \n",
            "================================================================================================================================================================\n",
            "  S.No.  fg_class        bg_class                    Epoch used      total_points    correct    accuracy    FTPT    FFPT    FTPF    FFPF    avg_img > 0.5\n",
            "-------  --------------  --------------------------  ------------  --------------  ---------  ----------  ------  ------  ------  ------  ---------------\n",
            "      1  fg = [0, 1, 2]  bg = [3, 4, 5, 6, 7, 8, 9]  NA                     10000       9810       98.1    77.79   20.31    1.9     0                6794\n",
            "      2  fg = [0, 1, 2]  bg = [3, 4, 5, 6, 7, 8, 9]  NA                     10000       9879       98.79   79.31   19.48    1.18    0.03             6765\n",
            "      3  fg = [0, 1, 2]  bg = [3, 4, 5, 6, 7, 8, 9]  NA                     10000       9840       98.4    66.44   31.96    1.56    0.04             6711\n",
            "      4  fg = [0, 1, 2]  bg = [3, 4, 5, 6, 7, 8, 9]  NA                     10000       9914       99.14   83.55   15.59    0.86    0                6864\n",
            "      5  fg = [0, 1, 2]  bg = [3, 4, 5, 6, 7, 8, 9]  NA                     10000       9851       98.51   44.07   54.44    0.73    0.76               64\n",
            "      6  fg = [0, 1, 2]  bg = [3, 4, 5, 6, 7, 8, 9]  NA                     10000       9901       99.01   97.13    1.88    0.99    0                9348\n",
            "      7  fg = [0, 1, 2]  bg = [3, 4, 5, 6, 7, 8, 9]  NA                     10000       9774       97.74   31.33   66.41    0.51    1.75                0\n",
            "      8  fg = [0, 1, 2]  bg = [3, 4, 5, 6, 7, 8, 9]  NA                     10000       9761       97.61   70.93   26.68    2.38    0.01             6710\n",
            "      9  fg = [0, 1, 2]  bg = [3, 4, 5, 6, 7, 8, 9]  NA                     10000       9846       98.46   30.2    68.26    0.25    1.29                0\n",
            "     10  fg = [0, 1, 2]  bg = [3, 4, 5, 6, 7, 8, 9]  NA                     10000       9844       98.44   29.24   69.2     0.31    1.25                3\n",
            " \n",
            "================================================================================================================================================================\n",
            " \n",
            "================================================================================================================================================================\n",
            "  S.No.  fg_class        bg_class                    Epoch used      total_points    correct    accuracy    FTPT    FFPT    FTPF    FFPF    avg_img > 0.5\n",
            "-------  --------------  --------------------------  ------------  --------------  ---------  ----------  ------  ------  ------  ------  ---------------\n",
            "      1  fg = [0, 1, 2]  bg = [3, 4, 5, 6, 7, 8, 9]  NA                     10000       9637       96.37   75.86   20.51    3.63    0                6841\n",
            "      2  fg = [0, 1, 2]  bg = [3, 4, 5, 6, 7, 8, 9]  NA                     10000       9718       97.18   77.87   19.31    2.74    0.08             6829\n",
            "      3  fg = [0, 1, 2]  bg = [3, 4, 5, 6, 7, 8, 9]  NA                     10000       9433       94.33   63.33   31       5.65    0.02             6775\n",
            "      4  fg = [0, 1, 2]  bg = [3, 4, 5, 6, 7, 8, 9]  NA                     10000       9834       98.34   82.78   15.56    1.66    0                6929\n",
            "      5  fg = [0, 1, 2]  bg = [3, 4, 5, 6, 7, 8, 9]  NA                     10000       9861       98.61   44.92   53.69    0.67    0.72               76\n",
            "      6  fg = [0, 1, 2]  bg = [3, 4, 5, 6, 7, 8, 9]  NA                     10000       9872       98.72   96.61    2.11    1.28    0                9350\n",
            "      7  fg = [0, 1, 2]  bg = [3, 4, 5, 6, 7, 8, 9]  NA                     10000       9774       97.74   29.33   68.41    0.61    1.65                0\n",
            "      8  fg = [0, 1, 2]  bg = [3, 4, 5, 6, 7, 8, 9]  NA                     10000       9471       94.71   68.82   25.89    5.16    0.13             6780\n",
            "      9  fg = [0, 1, 2]  bg = [3, 4, 5, 6, 7, 8, 9]  NA                     10000       9882       98.82   29.86   68.96    0.24    0.94                0\n",
            "     10  fg = [0, 1, 2]  bg = [3, 4, 5, 6, 7, 8, 9]  NA                     10000       9828       98.28   27.71   70.57    0.32    1.4                 4\n",
            " \n",
            "================================================================================================================================================================\n",
            " \n",
            "================================================================================================================================================================\n",
            "  S.No.  fg_class        bg_class                    Epoch used      total_points    correct    accuracy    FTPT    FFPT    FTPF    FFPF    avg_img > 0.5\n",
            "-------  --------------  --------------------------  ------------  --------------  ---------  ----------  ------  ------  ------  ------  ---------------\n",
            "      1  fg = [0, 1, 2]  bg = [3, 4, 5, 6, 7, 8, 9]  NA                     10000       3277       32.77    4.69   28.08    4.36   62.87                1\n",
            "      2  fg = [0, 1, 2]  bg = [3, 4, 5, 6, 7, 8, 9]  NA                     10000       3282       32.82    3.99   28.83    2.62   64.56                1\n",
            "      3  fg = [0, 1, 2]  bg = [3, 4, 5, 6, 7, 8, 9]  NA                     10000       3278       32.78    4.98   27.8     5.28   61.94               10\n",
            "      4  fg = [0, 1, 2]  bg = [3, 4, 5, 6, 7, 8, 9]  NA                     10000       3282       32.82    3.26   29.56    5.11   62.07               15\n",
            "      5  fg = [0, 1, 2]  bg = [3, 4, 5, 6, 7, 8, 9]  NA                     10000       3278       32.78    3.51   29.27   24.49   42.73                0\n",
            "      6  fg = [0, 1, 2]  bg = [3, 4, 5, 6, 7, 8, 9]  NA                     10000       3281       32.81    4.49   28.32    9.08   58.11             1331\n",
            "      7  fg = [0, 1, 2]  bg = [3, 4, 5, 6, 7, 8, 9]  NA                     10000       3291       32.91    3.79   29.12   28.09   39                   0\n",
            "      8  fg = [0, 1, 2]  bg = [3, 4, 5, 6, 7, 8, 9]  NA                     10000       3280       32.8     5.55   27.25    2.48   64.72                0\n",
            "      9  fg = [0, 1, 2]  bg = [3, 4, 5, 6, 7, 8, 9]  NA                     10000       3282       32.82    2.8    30.02   27.04   40.14                0\n",
            "     10  fg = [0, 1, 2]  bg = [3, 4, 5, 6, 7, 8, 9]  NA                     10000       3275       32.75    2.97   29.78   26.17   41.08                2\n",
            " \n",
            "================================================================================================================================================================\n",
            " \n",
            "================================================================================================================================================================\n",
            "  S.No.  fg_class        bg_class                    Epoch used      total_points    correct    accuracy    FTPT    FFPT    FTPF    FFPF    avg_img > 0.5\n",
            "-------  --------------  --------------------------  ------------  --------------  ---------  ----------  ------  ------  ------  ------  ---------------\n",
            "      1  fg = [0, 1, 2]  bg = [3, 4, 5, 6, 7, 8, 9]  NA                     10000       3286       32.86    4.96   27.9     4.39   62.75                7\n",
            "      2  fg = [0, 1, 2]  bg = [3, 4, 5, 6, 7, 8, 9]  NA                     10000       3287       32.87    3.86   29.01    2.61   64.52                0\n",
            "      3  fg = [0, 1, 2]  bg = [3, 4, 5, 6, 7, 8, 9]  NA                     10000       3285       32.85    5.2    27.65    5.6    61.55                4\n",
            "      4  fg = [0, 1, 2]  bg = [3, 4, 5, 6, 7, 8, 9]  NA                     10000       3290       32.9     3.26   29.64    5.47   61.63                6\n",
            "      5  fg = [0, 1, 2]  bg = [3, 4, 5, 6, 7, 8, 9]  NA                     10000       3288       32.88    3.59   29.29   24.25   42.87                0\n",
            "      6  fg = [0, 1, 2]  bg = [3, 4, 5, 6, 7, 8, 9]  NA                     10000       3288       32.88    4.68   28.2     9.37   57.75             1305\n",
            "      7  fg = [0, 1, 2]  bg = [3, 4, 5, 6, 7, 8, 9]  NA                     10000       3293       32.93    3.22   29.71   26.69   40.38                0\n",
            "      8  fg = [0, 1, 2]  bg = [3, 4, 5, 6, 7, 8, 9]  NA                     10000       3285       32.85    5.55   27.3     2.4    64.75                0\n",
            "      9  fg = [0, 1, 2]  bg = [3, 4, 5, 6, 7, 8, 9]  NA                     10000       3310       33.1     2.7    30.4    26.56   40.34                0\n",
            "     10  fg = [0, 1, 2]  bg = [3, 4, 5, 6, 7, 8, 9]  NA                     10000       3283       32.83    2.55   30.28   24.9    42.27                1\n",
            " \n",
            "================================================================================================================================================================\n"
          ],
          "name": "stdout"
        }
      ]
    },
    {
      "cell_type": "code",
      "metadata": {
        "id": "kloPmAalgpIz",
        "outputId": "cbccd230-2494-4379-c33e-518af7b0da88",
        "colab": {
          "base_uri": "https://localhost:8080/",
          "height": 335
        }
      },
      "source": [
        "train_table = add_average_entry(train_table)"
      ],
      "execution_count": 79,
      "outputs": [
        {
          "output_type": "stream",
          "text": [
            " \n",
            "================================================================================================================================================================\n",
            "S.No.    fg_class        bg_class                    Epoch used    total_points    correct      accuracy     FTPT      FFPT      FTPF        FFPF    avg_img > 0.5\n",
            "-------  --------------  --------------------------  ------------  --------------  ---------  ----------  -------  --------  --------  ----------  ---------------\n",
            "1        fg = [0, 1, 2]  bg = [3, 4, 5, 6, 7, 8, 9]  29            30000           29598         98.66    78.57    20.09     1.34      0                   20405\n",
            "2        fg = [0, 1, 2]  bg = [3, 4, 5, 6, 7, 8, 9]  47            30000           29755         99.1833  79.68    19.5033   0.803333  0.0133333           20349\n",
            "3        fg = [0, 1, 2]  bg = [3, 4, 5, 6, 7, 8, 9]  38            30000           29800         99.3333  67.5267  31.8067   0.64      0.0266667           20181\n",
            "4        fg = [0, 1, 2]  bg = [3, 4, 5, 6, 7, 8, 9]  27            30000           29810         99.3667  84.0067  15.36     0.63      0.00333333          20597\n",
            "5        fg = [0, 1, 2]  bg = [3, 4, 5, 6, 7, 8, 9]  46            30000           29541         98.47    44.91    53.56     0.74      0.79                  208\n",
            "6        fg = [0, 1, 2]  bg = [3, 4, 5, 6, 7, 8, 9]  26            30000           29774         99.2467  97.4233   1.82333  0.743333  0.01                28074\n",
            "7        fg = [0, 1, 2]  bg = [3, 4, 5, 6, 7, 8, 9]  26            30000           29376         97.92    31.1667  66.7533   0.553333  1.52667                 0\n",
            "8        fg = [0, 1, 2]  bg = [3, 4, 5, 6, 7, 8, 9]  37            30000           29568         98.56    72.25    26.31     1.40333   0.0366667           20178\n",
            "9        fg = [0, 1, 2]  bg = [3, 4, 5, 6, 7, 8, 9]  33            30000           29549         98.4967  30.6133  67.8833   0.25      1.25333                 0\n",
            "10       fg = [0, 1, 2]  bg = [3, 4, 5, 6, 7, 8, 9]  28            30000           29628         98.76    29.5167  69.2433   0.3       0.94                   22\n",
            "Avg                                                                                              98.7997  61.5663  37.2333   0.740333  0.46                13001.4\n",
            " \n",
            "================================================================================================================================================================\n"
          ],
          "name": "stdout"
        }
      ]
    },
    {
      "cell_type": "code",
      "metadata": {
        "id": "00KPkU7EhPJj",
        "outputId": "4f850e80-c922-4985-8ca1-0634f3884730",
        "colab": {
          "base_uri": "https://localhost:8080/",
          "height": 335
        }
      },
      "source": [
        "test_table1 = add_average_entry(test_table1)"
      ],
      "execution_count": 80,
      "outputs": [
        {
          "output_type": "stream",
          "text": [
            " \n",
            "================================================================================================================================================================\n",
            "S.No.    fg_class        bg_class                    Epoch used    total_points    correct      accuracy    FTPT    FFPT    FTPF    FFPF    avg_img > 0.5\n",
            "-------  --------------  --------------------------  ------------  --------------  ---------  ----------  ------  ------  ------  ------  ---------------\n",
            "1        fg = [0, 1, 2]  bg = [3, 4, 5, 6, 7, 8, 9]  NA            10000           9810            98.1   77.79   20.31    1.9     0               6794\n",
            "2        fg = [0, 1, 2]  bg = [3, 4, 5, 6, 7, 8, 9]  NA            10000           9879            98.79  79.31   19.48    1.18    0.03            6765\n",
            "3        fg = [0, 1, 2]  bg = [3, 4, 5, 6, 7, 8, 9]  NA            10000           9840            98.4   66.44   31.96    1.56    0.04            6711\n",
            "4        fg = [0, 1, 2]  bg = [3, 4, 5, 6, 7, 8, 9]  NA            10000           9914            99.14  83.55   15.59    0.86    0               6864\n",
            "5        fg = [0, 1, 2]  bg = [3, 4, 5, 6, 7, 8, 9]  NA            10000           9851            98.51  44.07   54.44    0.73    0.76              64\n",
            "6        fg = [0, 1, 2]  bg = [3, 4, 5, 6, 7, 8, 9]  NA            10000           9901            99.01  97.13    1.88    0.99    0               9348\n",
            "7        fg = [0, 1, 2]  bg = [3, 4, 5, 6, 7, 8, 9]  NA            10000           9774            97.74  31.33   66.41    0.51    1.75               0\n",
            "8        fg = [0, 1, 2]  bg = [3, 4, 5, 6, 7, 8, 9]  NA            10000           9761            97.61  70.93   26.68    2.38    0.01            6710\n",
            "9        fg = [0, 1, 2]  bg = [3, 4, 5, 6, 7, 8, 9]  NA            10000           9846            98.46  30.2    68.26    0.25    1.29               0\n",
            "10       fg = [0, 1, 2]  bg = [3, 4, 5, 6, 7, 8, 9]  NA            10000           9844            98.44  29.24   69.2     0.31    1.25               3\n",
            "Avg                                                                                                98.42  60.999  37.421   1.067   0.513           4325.9\n",
            " \n",
            "================================================================================================================================================================\n"
          ],
          "name": "stdout"
        }
      ]
    },
    {
      "cell_type": "code",
      "metadata": {
        "id": "pW_kUqi3hR6u",
        "outputId": "f91e6ddc-ebe3-4794-cf59-93f039440b6d",
        "colab": {
          "base_uri": "https://localhost:8080/",
          "height": 335
        }
      },
      "source": [
        "test_table2 = add_average_entry(test_table2)"
      ],
      "execution_count": 81,
      "outputs": [
        {
          "output_type": "stream",
          "text": [
            " \n",
            "================================================================================================================================================================\n",
            "S.No.    fg_class        bg_class                    Epoch used    total_points    correct      accuracy    FTPT    FFPT    FTPF    FFPF    avg_img > 0.5\n",
            "-------  --------------  --------------------------  ------------  --------------  ---------  ----------  ------  ------  ------  ------  ---------------\n",
            "1        fg = [0, 1, 2]  bg = [3, 4, 5, 6, 7, 8, 9]  NA            10000           9637            96.37  75.86   20.51    3.63    0               6841\n",
            "2        fg = [0, 1, 2]  bg = [3, 4, 5, 6, 7, 8, 9]  NA            10000           9718            97.18  77.87   19.31    2.74    0.08            6829\n",
            "3        fg = [0, 1, 2]  bg = [3, 4, 5, 6, 7, 8, 9]  NA            10000           9433            94.33  63.33   31       5.65    0.02            6775\n",
            "4        fg = [0, 1, 2]  bg = [3, 4, 5, 6, 7, 8, 9]  NA            10000           9834            98.34  82.78   15.56    1.66    0               6929\n",
            "5        fg = [0, 1, 2]  bg = [3, 4, 5, 6, 7, 8, 9]  NA            10000           9861            98.61  44.92   53.69    0.67    0.72              76\n",
            "6        fg = [0, 1, 2]  bg = [3, 4, 5, 6, 7, 8, 9]  NA            10000           9872            98.72  96.61    2.11    1.28    0               9350\n",
            "7        fg = [0, 1, 2]  bg = [3, 4, 5, 6, 7, 8, 9]  NA            10000           9774            97.74  29.33   68.41    0.61    1.65               0\n",
            "8        fg = [0, 1, 2]  bg = [3, 4, 5, 6, 7, 8, 9]  NA            10000           9471            94.71  68.82   25.89    5.16    0.13            6780\n",
            "9        fg = [0, 1, 2]  bg = [3, 4, 5, 6, 7, 8, 9]  NA            10000           9882            98.82  29.86   68.96    0.24    0.94               0\n",
            "10       fg = [0, 1, 2]  bg = [3, 4, 5, 6, 7, 8, 9]  NA            10000           9828            98.28  27.71   70.57    0.32    1.4                4\n",
            "Avg                                                                                                97.31  59.709  37.601   2.196   0.494           4358.4\n",
            " \n",
            "================================================================================================================================================================\n"
          ],
          "name": "stdout"
        }
      ]
    },
    {
      "cell_type": "code",
      "metadata": {
        "id": "_ZlV6qErhUUL",
        "outputId": "4c432aaa-e5dd-4bf8-9e47-b11b3cbba523",
        "colab": {
          "base_uri": "https://localhost:8080/",
          "height": 335
        }
      },
      "source": [
        "test_table3 = add_average_entry(test_table3)"
      ],
      "execution_count": 82,
      "outputs": [
        {
          "output_type": "stream",
          "text": [
            " \n",
            "================================================================================================================================================================\n",
            "S.No.    fg_class        bg_class                    Epoch used    total_points    correct      accuracy    FTPT    FFPT    FTPF    FFPF    avg_img > 0.5\n",
            "-------  --------------  --------------------------  ------------  --------------  ---------  ----------  ------  ------  ------  ------  ---------------\n",
            "1        fg = [0, 1, 2]  bg = [3, 4, 5, 6, 7, 8, 9]  NA            10000           3277           32.77    4.69   28.08    4.36   62.87                 1\n",
            "2        fg = [0, 1, 2]  bg = [3, 4, 5, 6, 7, 8, 9]  NA            10000           3282           32.82    3.99   28.83    2.62   64.56                 1\n",
            "3        fg = [0, 1, 2]  bg = [3, 4, 5, 6, 7, 8, 9]  NA            10000           3278           32.78    4.98   27.8     5.28   61.94                10\n",
            "4        fg = [0, 1, 2]  bg = [3, 4, 5, 6, 7, 8, 9]  NA            10000           3282           32.82    3.26   29.56    5.11   62.07                15\n",
            "5        fg = [0, 1, 2]  bg = [3, 4, 5, 6, 7, 8, 9]  NA            10000           3278           32.78    3.51   29.27   24.49   42.73                 0\n",
            "6        fg = [0, 1, 2]  bg = [3, 4, 5, 6, 7, 8, 9]  NA            10000           3281           32.81    4.49   28.32    9.08   58.11              1331\n",
            "7        fg = [0, 1, 2]  bg = [3, 4, 5, 6, 7, 8, 9]  NA            10000           3291           32.91    3.79   29.12   28.09   39                    0\n",
            "8        fg = [0, 1, 2]  bg = [3, 4, 5, 6, 7, 8, 9]  NA            10000           3280           32.8     5.55   27.25    2.48   64.72                 0\n",
            "9        fg = [0, 1, 2]  bg = [3, 4, 5, 6, 7, 8, 9]  NA            10000           3282           32.82    2.8    30.02   27.04   40.14                 0\n",
            "10       fg = [0, 1, 2]  bg = [3, 4, 5, 6, 7, 8, 9]  NA            10000           3275           32.75    2.97   29.78   26.17   41.08                 2\n",
            "Avg                                                                                               32.806   4.003  28.803  13.472  53.722              136\n",
            " \n",
            "================================================================================================================================================================\n"
          ],
          "name": "stdout"
        }
      ]
    },
    {
      "cell_type": "code",
      "metadata": {
        "id": "BOvl6fUChV5j",
        "outputId": "f8088aa6-374a-42f4-99b5-47b2872ff63d",
        "colab": {
          "base_uri": "https://localhost:8080/",
          "height": 335
        }
      },
      "source": [
        "test_table4 = add_average_entry(test_table4)"
      ],
      "execution_count": 83,
      "outputs": [
        {
          "output_type": "stream",
          "text": [
            " \n",
            "================================================================================================================================================================\n",
            "S.No.    fg_class        bg_class                    Epoch used    total_points    correct      accuracy    FTPT    FFPT    FTPF    FFPF    avg_img > 0.5\n",
            "-------  --------------  --------------------------  ------------  --------------  ---------  ----------  ------  ------  ------  ------  ---------------\n",
            "1        fg = [0, 1, 2]  bg = [3, 4, 5, 6, 7, 8, 9]  NA            10000           3286           32.86    4.96   27.9     4.39   62.75               7\n",
            "2        fg = [0, 1, 2]  bg = [3, 4, 5, 6, 7, 8, 9]  NA            10000           3287           32.87    3.86   29.01    2.61   64.52               0\n",
            "3        fg = [0, 1, 2]  bg = [3, 4, 5, 6, 7, 8, 9]  NA            10000           3285           32.85    5.2    27.65    5.6    61.55               4\n",
            "4        fg = [0, 1, 2]  bg = [3, 4, 5, 6, 7, 8, 9]  NA            10000           3290           32.9     3.26   29.64    5.47   61.63               6\n",
            "5        fg = [0, 1, 2]  bg = [3, 4, 5, 6, 7, 8, 9]  NA            10000           3288           32.88    3.59   29.29   24.25   42.87               0\n",
            "6        fg = [0, 1, 2]  bg = [3, 4, 5, 6, 7, 8, 9]  NA            10000           3288           32.88    4.68   28.2     9.37   57.75            1305\n",
            "7        fg = [0, 1, 2]  bg = [3, 4, 5, 6, 7, 8, 9]  NA            10000           3293           32.93    3.22   29.71   26.69   40.38               0\n",
            "8        fg = [0, 1, 2]  bg = [3, 4, 5, 6, 7, 8, 9]  NA            10000           3285           32.85    5.55   27.3     2.4    64.75               0\n",
            "9        fg = [0, 1, 2]  bg = [3, 4, 5, 6, 7, 8, 9]  NA            10000           3310           33.1     2.7    30.4    26.56   40.34               0\n",
            "10       fg = [0, 1, 2]  bg = [3, 4, 5, 6, 7, 8, 9]  NA            10000           3283           32.83    2.55   30.28   24.9    42.27               1\n",
            "Avg                                                                                               32.895   3.957  28.938  13.224  53.881            132.3\n",
            " \n",
            "================================================================================================================================================================\n"
          ],
          "name": "stdout"
        }
      ]
    },
    {
      "cell_type": "code",
      "metadata": {
        "id": "nkyMi1VBpq9a"
      },
      "source": [
        "# torch.save(fore_net.state_dict(),\"/content/drive/My Drive/Research/mosaic_from_CIFAR_involving_bottop_eigen_vectors/fore_net_epoch\"+str(epoch)+\"_fg_used\"+str(fg_used)+\".pt\")"
      ],
      "execution_count": 84,
      "outputs": []
    }
  ]
}