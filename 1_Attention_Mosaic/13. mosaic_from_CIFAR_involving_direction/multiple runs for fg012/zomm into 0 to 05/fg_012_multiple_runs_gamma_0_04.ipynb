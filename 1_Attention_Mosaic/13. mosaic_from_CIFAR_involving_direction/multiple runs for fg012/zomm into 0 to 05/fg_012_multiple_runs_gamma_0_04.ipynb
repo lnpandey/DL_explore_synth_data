{
  "nbformat": 4,
  "nbformat_minor": 0,
  "metadata": {
    "accelerator": "GPU",
    "colab": {
      "name": "fg_012_multiple_runs_gamma_0_04.ipynb",
      "provenance": [],
      "collapsed_sections": [],
      "machine_shape": "hm"
    },
    "kernelspec": {
      "display_name": "Python 3",
      "language": "python",
      "name": "python3"
    },
    "language_info": {
      "codemirror_mode": {
        "name": "ipython",
        "version": 3
      },
      "file_extension": ".py",
      "mimetype": "text/x-python",
      "name": "python",
      "nbconvert_exporter": "python",
      "pygments_lexer": "ipython3",
      "version": "3.6.5"
    },
    "widgets": {
      "application/vnd.jupyter.widget-state+json": {
        "bb2995ecbebe4dc4ac945672c0b0e019": {
          "model_module": "@jupyter-widgets/controls",
          "model_name": "HBoxModel",
          "state": {
            "_view_name": "HBoxView",
            "_dom_classes": [],
            "_model_name": "HBoxModel",
            "_view_module": "@jupyter-widgets/controls",
            "_model_module_version": "1.5.0",
            "_view_count": null,
            "_view_module_version": "1.5.0",
            "box_style": "",
            "layout": "IPY_MODEL_e00f6f0fc0814fc0b819ec236ea3670a",
            "_model_module": "@jupyter-widgets/controls",
            "children": [
              "IPY_MODEL_de29f6f68a6a4541995ee7cf229d5489",
              "IPY_MODEL_30bcb1868c5e4618a73a83726c77f94b"
            ]
          }
        },
        "e00f6f0fc0814fc0b819ec236ea3670a": {
          "model_module": "@jupyter-widgets/base",
          "model_name": "LayoutModel",
          "state": {
            "_view_name": "LayoutView",
            "grid_template_rows": null,
            "right": null,
            "justify_content": null,
            "_view_module": "@jupyter-widgets/base",
            "overflow": null,
            "_model_module_version": "1.2.0",
            "_view_count": null,
            "flex_flow": null,
            "width": null,
            "min_width": null,
            "border": null,
            "align_items": null,
            "bottom": null,
            "_model_module": "@jupyter-widgets/base",
            "top": null,
            "grid_column": null,
            "overflow_y": null,
            "overflow_x": null,
            "grid_auto_flow": null,
            "grid_area": null,
            "grid_template_columns": null,
            "flex": null,
            "_model_name": "LayoutModel",
            "justify_items": null,
            "grid_row": null,
            "max_height": null,
            "align_content": null,
            "visibility": null,
            "align_self": null,
            "height": null,
            "min_height": null,
            "padding": null,
            "grid_auto_rows": null,
            "grid_gap": null,
            "max_width": null,
            "order": null,
            "_view_module_version": "1.2.0",
            "grid_template_areas": null,
            "object_position": null,
            "object_fit": null,
            "grid_auto_columns": null,
            "margin": null,
            "display": null,
            "left": null
          }
        },
        "de29f6f68a6a4541995ee7cf229d5489": {
          "model_module": "@jupyter-widgets/controls",
          "model_name": "FloatProgressModel",
          "state": {
            "_view_name": "ProgressView",
            "style": "IPY_MODEL_ea13d7098d394872b930f5a9d3dad9ca",
            "_dom_classes": [],
            "description": "",
            "_model_name": "FloatProgressModel",
            "bar_style": "info",
            "max": 1,
            "_view_module": "@jupyter-widgets/controls",
            "_model_module_version": "1.5.0",
            "value": 1,
            "_view_count": null,
            "_view_module_version": "1.5.0",
            "orientation": "horizontal",
            "min": 0,
            "description_tooltip": null,
            "_model_module": "@jupyter-widgets/controls",
            "layout": "IPY_MODEL_96b71b8192e94757bfd3ca3dbe508a4e"
          }
        },
        "30bcb1868c5e4618a73a83726c77f94b": {
          "model_module": "@jupyter-widgets/controls",
          "model_name": "HTMLModel",
          "state": {
            "_view_name": "HTMLView",
            "style": "IPY_MODEL_b5a9ba42f0864501b216bc811c471c39",
            "_dom_classes": [],
            "description": "",
            "_model_name": "HTMLModel",
            "placeholder": "​",
            "_view_module": "@jupyter-widgets/controls",
            "_model_module_version": "1.5.0",
            "value": " 170500096/? [00:30&lt;00:00, 16148383.70it/s]",
            "_view_count": null,
            "_view_module_version": "1.5.0",
            "description_tooltip": null,
            "_model_module": "@jupyter-widgets/controls",
            "layout": "IPY_MODEL_006461a4d8aa4cb8854b28ff5bcdfbbb"
          }
        },
        "ea13d7098d394872b930f5a9d3dad9ca": {
          "model_module": "@jupyter-widgets/controls",
          "model_name": "ProgressStyleModel",
          "state": {
            "_view_name": "StyleView",
            "_model_name": "ProgressStyleModel",
            "description_width": "initial",
            "_view_module": "@jupyter-widgets/base",
            "_model_module_version": "1.5.0",
            "_view_count": null,
            "_view_module_version": "1.2.0",
            "bar_color": null,
            "_model_module": "@jupyter-widgets/controls"
          }
        },
        "96b71b8192e94757bfd3ca3dbe508a4e": {
          "model_module": "@jupyter-widgets/base",
          "model_name": "LayoutModel",
          "state": {
            "_view_name": "LayoutView",
            "grid_template_rows": null,
            "right": null,
            "justify_content": null,
            "_view_module": "@jupyter-widgets/base",
            "overflow": null,
            "_model_module_version": "1.2.0",
            "_view_count": null,
            "flex_flow": null,
            "width": null,
            "min_width": null,
            "border": null,
            "align_items": null,
            "bottom": null,
            "_model_module": "@jupyter-widgets/base",
            "top": null,
            "grid_column": null,
            "overflow_y": null,
            "overflow_x": null,
            "grid_auto_flow": null,
            "grid_area": null,
            "grid_template_columns": null,
            "flex": null,
            "_model_name": "LayoutModel",
            "justify_items": null,
            "grid_row": null,
            "max_height": null,
            "align_content": null,
            "visibility": null,
            "align_self": null,
            "height": null,
            "min_height": null,
            "padding": null,
            "grid_auto_rows": null,
            "grid_gap": null,
            "max_width": null,
            "order": null,
            "_view_module_version": "1.2.0",
            "grid_template_areas": null,
            "object_position": null,
            "object_fit": null,
            "grid_auto_columns": null,
            "margin": null,
            "display": null,
            "left": null
          }
        },
        "b5a9ba42f0864501b216bc811c471c39": {
          "model_module": "@jupyter-widgets/controls",
          "model_name": "DescriptionStyleModel",
          "state": {
            "_view_name": "StyleView",
            "_model_name": "DescriptionStyleModel",
            "description_width": "",
            "_view_module": "@jupyter-widgets/base",
            "_model_module_version": "1.5.0",
            "_view_count": null,
            "_view_module_version": "1.2.0",
            "_model_module": "@jupyter-widgets/controls"
          }
        },
        "006461a4d8aa4cb8854b28ff5bcdfbbb": {
          "model_module": "@jupyter-widgets/base",
          "model_name": "LayoutModel",
          "state": {
            "_view_name": "LayoutView",
            "grid_template_rows": null,
            "right": null,
            "justify_content": null,
            "_view_module": "@jupyter-widgets/base",
            "overflow": null,
            "_model_module_version": "1.2.0",
            "_view_count": null,
            "flex_flow": null,
            "width": null,
            "min_width": null,
            "border": null,
            "align_items": null,
            "bottom": null,
            "_model_module": "@jupyter-widgets/base",
            "top": null,
            "grid_column": null,
            "overflow_y": null,
            "overflow_x": null,
            "grid_auto_flow": null,
            "grid_area": null,
            "grid_template_columns": null,
            "flex": null,
            "_model_name": "LayoutModel",
            "justify_items": null,
            "grid_row": null,
            "max_height": null,
            "align_content": null,
            "visibility": null,
            "align_self": null,
            "height": null,
            "min_height": null,
            "padding": null,
            "grid_auto_rows": null,
            "grid_gap": null,
            "max_width": null,
            "order": null,
            "_view_module_version": "1.2.0",
            "grid_template_areas": null,
            "object_position": null,
            "object_fit": null,
            "grid_auto_columns": null,
            "margin": null,
            "display": null,
            "left": null
          }
        }
      }
    }
  },
  "cells": [
    {
      "cell_type": "code",
      "metadata": {
        "id": "JSjG64ra4aFu"
      },
      "source": [
        "# from google.colab import drive\n",
        "# drive.mount('/content/drive')"
      ],
      "execution_count": null,
      "outputs": []
    },
    {
      "cell_type": "code",
      "metadata": {
        "id": "V8-7SARDZErK"
      },
      "source": [
        "import torch.nn as nn\n",
        "import torch.nn.functional as F\n",
        "\n",
        "import pandas as pd\n",
        "import numpy as np\n",
        "import matplotlib.pyplot as plt\n",
        "\n",
        "import torch\n",
        "import torchvision\n",
        "import torchvision.transforms as transforms\n",
        "from torch.utils.data import Dataset, DataLoader\n",
        "from torchvision import transforms, utils\n",
        "\n",
        "from matplotlib import pyplot as plt\n",
        "import copy\n",
        "\n",
        "import random\n",
        "\n",
        "from numpy import linalg as LA\n",
        "from tabulate import tabulate\n",
        "# Ignore warnings\n",
        "import warnings\n",
        "warnings.filterwarnings(\"ignore\")\n"
      ],
      "execution_count": null,
      "outputs": []
    },
    {
      "cell_type": "code",
      "metadata": {
        "id": "acRFqJNrZErV",
        "outputId": "4cc5c038-39ad-4d7f-f4f9-c5da1eb77c59",
        "colab": {
          "base_uri": "https://localhost:8080/",
          "height": 105,
          "referenced_widgets": [
            "bb2995ecbebe4dc4ac945672c0b0e019",
            "e00f6f0fc0814fc0b819ec236ea3670a",
            "de29f6f68a6a4541995ee7cf229d5489",
            "30bcb1868c5e4618a73a83726c77f94b",
            "ea13d7098d394872b930f5a9d3dad9ca",
            "96b71b8192e94757bfd3ca3dbe508a4e",
            "b5a9ba42f0864501b216bc811c471c39",
            "006461a4d8aa4cb8854b28ff5bcdfbbb"
          ]
        }
      },
      "source": [
        "transform = transforms.Compose(\n",
        "    [transforms.ToTensor(),\n",
        "     transforms.Normalize((0.5, 0.5, 0.5), (0.5, 0.5, 0.5))])\n",
        "\n",
        "trainset = torchvision.datasets.CIFAR10(root='./data', train=True, download=True, transform=transform)\n",
        "\n",
        "\n",
        "testset = torchvision.datasets.CIFAR10(root='./data', train=False, download=True, transform=transform)\n"
      ],
      "execution_count": null,
      "outputs": [
        {
          "output_type": "stream",
          "text": [
            "Downloading https://www.cs.toronto.edu/~kriz/cifar-10-python.tar.gz to ./data/cifar-10-python.tar.gz\n"
          ],
          "name": "stdout"
        },
        {
          "output_type": "display_data",
          "data": {
            "application/vnd.jupyter.widget-view+json": {
              "model_id": "bb2995ecbebe4dc4ac945672c0b0e019",
              "version_minor": 0,
              "version_major": 2
            },
            "text/plain": [
              "HBox(children=(FloatProgress(value=1.0, bar_style='info', max=1.0), HTML(value='')))"
            ]
          },
          "metadata": {
            "tags": []
          }
        },
        {
          "output_type": "stream",
          "text": [
            "Extracting ./data/cifar-10-python.tar.gz to ./data\n",
            "Files already downloaded and verified\n"
          ],
          "name": "stdout"
        }
      ]
    },
    {
      "cell_type": "code",
      "metadata": {
        "id": "FTBYzzX-fY2K",
        "outputId": "6e517e57-8e40-4915-f98c-059f7db07658",
        "colab": {
          "base_uri": "https://localhost:8080/",
          "height": 36
        }
      },
      "source": [
        "gamma = 0.04\n",
        "gamma"
      ],
      "execution_count": null,
      "outputs": [
        {
          "output_type": "execute_result",
          "data": {
            "text/plain": [
              "0.04"
            ]
          },
          "metadata": {
            "tags": []
          },
          "execution_count": 4
        }
      ]
    },
    {
      "cell_type": "code",
      "metadata": {
        "id": "ygZ-VSs6j-hf",
        "outputId": "1e664de1-c37e-4a22-d45e-5e3eac74da30",
        "colab": {
          "base_uri": "https://localhost:8080/",
          "height": 36
        }
      },
      "source": [
        "classes = ('plane', 'car', 'bird', 'cat', 'deer', 'dog', 'frog', 'horse', 'ship', 'truck')\n",
        "\n",
        "foreground_classes = {'plane', 'car', 'bird'}\n",
        "fg_used = '012'\n",
        "fg1, fg2, fg3 = 0,1,2\n",
        "\n",
        "\n",
        "all_classes = {'plane', 'car', 'bird', 'cat', 'deer', 'dog', 'frog', 'horse', 'ship', 'truck'}\n",
        "background_classes = all_classes - foreground_classes\n",
        "background_classes\n",
        "\n",
        "# print(type(foreground_classes))"
      ],
      "execution_count": null,
      "outputs": [
        {
          "output_type": "execute_result",
          "data": {
            "text/plain": [
              "{'cat', 'deer', 'dog', 'frog', 'horse', 'ship', 'truck'}"
            ]
          },
          "metadata": {
            "tags": []
          },
          "execution_count": 5
        }
      ]
    },
    {
      "cell_type": "code",
      "metadata": {
        "id": "oEPWuddXzu9f"
      },
      "source": [
        "trainloader = torch.utils.data.DataLoader(trainset, batch_size=10, shuffle=True)\n",
        "testloader = torch.utils.data.DataLoader(testset, batch_size=10, shuffle=False)\n"
      ],
      "execution_count": null,
      "outputs": []
    },
    {
      "cell_type": "code",
      "metadata": {
        "id": "n76MSJwHzu9p"
      },
      "source": [
        "dataiter = iter(trainloader)\n",
        "true_train_background_data=[]\n",
        "true_train_background_label=[]\n",
        "true_train_foreground_data=[]\n",
        "true_train_foreground_label=[]\n",
        "batch_size=10\n",
        "\n",
        "for i in range(5000):\n",
        "  images, labels = dataiter.next()\n",
        "  for j in range(batch_size):\n",
        "    if(classes[labels[j]] in background_classes):\n",
        "      img = images[j].tolist()\n",
        "      true_train_background_data.append(img)\n",
        "      true_train_background_label.append(labels[j])\n",
        "    else:\n",
        "      img = images[j].tolist()\n",
        "      true_train_foreground_data.append(img)\n",
        "      true_train_foreground_label.append(labels[j])\n",
        "            \n",
        "true_train_foreground_data = torch.tensor(true_train_foreground_data)\n",
        "true_train_foreground_label = torch.tensor(true_train_foreground_label)\n",
        "true_train_background_data = torch.tensor(true_train_background_data)\n",
        "true_train_background_label = torch.tensor(true_train_background_label)\n",
        "    "
      ],
      "execution_count": null,
      "outputs": []
    },
    {
      "cell_type": "code",
      "metadata": {
        "id": "NdYlcZPM2tmV",
        "outputId": "820d1445-2bc6-42d3-8253-e5bf4b63b0b9",
        "colab": {
          "base_uri": "https://localhost:8080/",
          "height": 36
        }
      },
      "source": [
        "len(true_train_foreground_data), len(true_train_foreground_label), len(true_train_background_data), len(true_train_background_label)"
      ],
      "execution_count": null,
      "outputs": [
        {
          "output_type": "execute_result",
          "data": {
            "text/plain": [
              "(15000, 15000, 35000, 35000)"
            ]
          },
          "metadata": {
            "tags": []
          },
          "execution_count": 8
        }
      ]
    },
    {
      "cell_type": "code",
      "metadata": {
        "id": "IgyumCe_0GMa"
      },
      "source": [
        "dataiter = iter(testloader)\n",
        "true_test_background_data=[]\n",
        "true_test_background_label=[]\n",
        "true_test_foreground_data=[]\n",
        "true_test_foreground_label=[]\n",
        "batch_size=10\n",
        "\n",
        "for i in range(1000):\n",
        "  images, labels = dataiter.next()\n",
        "  for j in range(batch_size):\n",
        "    if(classes[labels[j]] in background_classes):\n",
        "      img = images[j].tolist()\n",
        "      true_test_background_data.append(img)\n",
        "      true_test_background_label.append(labels[j])\n",
        "    else:\n",
        "      img = images[j].tolist()\n",
        "      true_test_foreground_data.append(img)\n",
        "      true_test_foreground_label.append(labels[j])\n",
        "            \n",
        "true_test_foreground_data = torch.tensor(true_test_foreground_data)\n",
        "true_test_foreground_label = torch.tensor(true_test_foreground_label)\n",
        "true_test_background_data = torch.tensor(true_test_background_data)\n",
        "true_test_background_label = torch.tensor(true_test_background_label)"
      ],
      "execution_count": null,
      "outputs": []
    },
    {
      "cell_type": "code",
      "metadata": {
        "id": "P07QyEjZ2_tH",
        "outputId": "7d39c6cc-b412-4c1c-e3fa-ae2d70736d85",
        "colab": {
          "base_uri": "https://localhost:8080/",
          "height": 36
        }
      },
      "source": [
        "len(true_test_foreground_data), len(true_test_foreground_label), len(true_test_background_data), len(true_test_background_label)"
      ],
      "execution_count": null,
      "outputs": [
        {
          "output_type": "execute_result",
          "data": {
            "text/plain": [
              "(3000, 3000, 7000, 7000)"
            ]
          },
          "metadata": {
            "tags": []
          },
          "execution_count": 10
        }
      ]
    },
    {
      "cell_type": "code",
      "metadata": {
        "id": "bzU_HuQnEB29"
      },
      "source": [
        "true_train = trainset.data"
      ],
      "execution_count": null,
      "outputs": []
    },
    {
      "cell_type": "code",
      "metadata": {
        "id": "FAR6Zt2QgMdf"
      },
      "source": [
        "train_label = trainset.targets"
      ],
      "execution_count": null,
      "outputs": []
    },
    {
      "cell_type": "code",
      "metadata": {
        "id": "JZ52v93i__q5"
      },
      "source": [
        "true_train_cifar_norm=[]\n",
        "for i in range(len(true_train)):\n",
        "  true_train_cifar_norm.append(LA.norm(true_train[i]))"
      ],
      "execution_count": null,
      "outputs": []
    },
    {
      "cell_type": "code",
      "metadata": {
        "id": "TbWNZhQvAWav",
        "outputId": "58e55341-9f45-481b-894a-79336643d112",
        "colab": {
          "base_uri": "https://localhost:8080/",
          "height": 36
        }
      },
      "source": [
        "len(true_train_cifar_norm)"
      ],
      "execution_count": null,
      "outputs": [
        {
          "output_type": "execute_result",
          "data": {
            "text/plain": [
              "50000"
            ]
          },
          "metadata": {
            "tags": []
          },
          "execution_count": 14
        }
      ]
    },
    {
      "cell_type": "code",
      "metadata": {
        "id": "Klrwlq-RBSdc"
      },
      "source": [
        "def plot_hist(values):\n",
        "  plt.hist(values, density=True, bins=200)  # `density=False` would make counts\n",
        "  plt.ylabel('NORM')\n",
        "  plt.xlabel('Data');"
      ],
      "execution_count": null,
      "outputs": []
    },
    {
      "cell_type": "code",
      "metadata": {
        "id": "w-saABjgAaFY",
        "outputId": "e33749ea-bcb5-4e8e-e575-298c20ee1b75",
        "colab": {
          "base_uri": "https://localhost:8080/",
          "height": 279
        }
      },
      "source": [
        "plot_hist(true_train_cifar_norm)"
      ],
      "execution_count": null,
      "outputs": [
        {
          "output_type": "display_data",
          "data": {
            "image/png": "[encoded data removed]",
            "text/plain": [
              "<Figure size 432x288 with 1 Axes>"
            ]
          },
          "metadata": {
            "tags": [],
            "needs_background": "light"
          }
        }
      ]
    },
    {
      "cell_type": "code",
      "metadata": {
        "id": "_USgDEwbMMKY",
        "outputId": "40be4da8-dd1a-49cf-9cb6-ea6865553d7e",
        "colab": {
          "base_uri": "https://localhost:8080/",
          "height": 36
        }
      },
      "source": [
        "true_train.shape"
      ],
      "execution_count": null,
      "outputs": [
        {
          "output_type": "execute_result",
          "data": {
            "text/plain": [
              "(50000, 32, 32, 3)"
            ]
          },
          "metadata": {
            "tags": []
          },
          "execution_count": 17
        }
      ]
    },
    {
      "cell_type": "code",
      "metadata": {
        "id": "yi-39bYIMZOd",
        "outputId": "20a1c251-af13-469b-ae7f-5f7ec2250aaf",
        "colab": {
          "base_uri": "https://localhost:8080/",
          "height": 36
        }
      },
      "source": [
        "train = np.reshape(true_train, (50000,3072))\n",
        "train.shape, true_train.shape"
      ],
      "execution_count": null,
      "outputs": [
        {
          "output_type": "execute_result",
          "data": {
            "text/plain": [
              "((50000, 3072), (50000, 32, 32, 3))"
            ]
          },
          "metadata": {
            "tags": []
          },
          "execution_count": 18
        }
      ]
    },
    {
      "cell_type": "code",
      "metadata": {
        "id": "3qMpDn-xMleE"
      },
      "source": [
        "u, s, vh = LA.svd(train, full_matrices= False)"
      ],
      "execution_count": null,
      "outputs": []
    },
    {
      "cell_type": "code",
      "metadata": {
        "id": "4o7zUUJJNavO",
        "outputId": "81e52d8a-1b9a-4198-bca1-21e2f6d7243d",
        "colab": {
          "base_uri": "https://localhost:8080/",
          "height": 36
        }
      },
      "source": [
        "u.shape , s.shape, vh.shape"
      ],
      "execution_count": null,
      "outputs": [
        {
          "output_type": "execute_result",
          "data": {
            "text/plain": [
              "((50000, 3072), (3072,), (3072, 3072))"
            ]
          },
          "metadata": {
            "tags": []
          },
          "execution_count": 20
        }
      ]
    },
    {
      "cell_type": "code",
      "metadata": {
        "id": "ZRlhUgdqSPyx",
        "outputId": "dd34c132-d14d-4c11-9b3f-5f5e60a984fc",
        "colab": {
          "base_uri": "https://localhost:8080/",
          "height": 54
        }
      },
      "source": [
        "s"
      ],
      "execution_count": null,
      "outputs": [
        {
          "output_type": "execute_result",
          "data": {
            "text/plain": [
              "array([1.55289927e+06, 2.82437414e+05, 2.17772149e+05, ...,\n",
              "       7.31736954e+01, 7.23349722e+01, 7.18349192e+01])"
            ]
          },
          "metadata": {
            "tags": []
          },
          "execution_count": 21
        }
      ]
    },
    {
      "cell_type": "code",
      "metadata": {
        "id": "h31rbKmqVnZW",
        "outputId": "ebbb86b0-55f6-473b-f390-b2a6b1c5371e",
        "colab": {
          "base_uri": "https://localhost:8080/",
          "height": 260
        }
      },
      "source": [
        "vh"
      ],
      "execution_count": null,
      "outputs": [
        {
          "output_type": "execute_result",
          "data": {
            "text/plain": [
              "array([[-0.01984194, -0.02066161, -0.02037075, ..., -0.01879724,\n",
              "        -0.01874038, -0.01729938],\n",
              "       [-0.02488245, -0.02705999, -0.03195926, ...,  0.01262528,\n",
              "         0.01096339,  0.00766722],\n",
              "       [-0.0159231 , -0.01437591, -0.01281541, ..., -0.02971411,\n",
              "        -0.0283376 , -0.02749635],\n",
              "       ...,\n",
              "       [-0.00449998,  0.00770844, -0.00281931, ..., -0.00013103,\n",
              "        -0.00080887,  0.00071151],\n",
              "       [ 0.00433324, -0.00629207,  0.00181791, ..., -0.00168695,\n",
              "         0.00131196,  0.00052667],\n",
              "       [-0.00574169,  0.00783184, -0.00186197, ...,  0.00511688,\n",
              "        -0.00678068,  0.00138508]])"
            ]
          },
          "metadata": {
            "tags": []
          },
          "execution_count": 22
        }
      ]
    },
    {
      "cell_type": "code",
      "metadata": {
        "id": "LruQuedyVs4i",
        "outputId": "64b8a615-3fe0-43d9-dd55-c482220cf551",
        "colab": {
          "base_uri": "https://localhost:8080/",
          "height": 260
        }
      },
      "source": [
        "dir = vh[3062:3072,:]\n",
        "dir"
      ],
      "execution_count": null,
      "outputs": [
        {
          "output_type": "execute_result",
          "data": {
            "text/plain": [
              "array([[ 0.00256167, -0.00421648,  0.00171443, ..., -0.00214198,\n",
              "         0.0024008 , -0.00026442],\n",
              "       [ 0.00629867, -0.01114679,  0.00518054, ..., -0.00382077,\n",
              "         0.00504342, -0.00113716],\n",
              "       [-0.0022958 ,  0.0006672 ,  0.00141218, ..., -0.00062172,\n",
              "         0.00201576, -0.00146441],\n",
              "       ...,\n",
              "       [-0.00449998,  0.00770844, -0.00281931, ..., -0.00013103,\n",
              "        -0.00080887,  0.00071151],\n",
              "       [ 0.00433324, -0.00629207,  0.00181791, ..., -0.00168695,\n",
              "         0.00131196,  0.00052667],\n",
              "       [-0.00574169,  0.00783184, -0.00186197, ...,  0.00511688,\n",
              "        -0.00678068,  0.00138508]])"
            ]
          },
          "metadata": {
            "tags": []
          },
          "execution_count": 23
        }
      ]
    },
    {
      "cell_type": "code",
      "metadata": {
        "id": "m260DTW6V-Ka"
      },
      "source": [
        "u1 = dir[7,:]\n",
        "u2 = dir[8,:]\n",
        "u3 = dir[9,:]"
      ],
      "execution_count": null,
      "outputs": []
    },
    {
      "cell_type": "code",
      "metadata": {
        "id": "R9OuIGt4WzlK",
        "outputId": "e71c2338-5833-4e85-cbc7-d5e2be115eaa",
        "colab": {
          "base_uri": "https://localhost:8080/",
          "height": 54
        }
      },
      "source": [
        "u1"
      ],
      "execution_count": null,
      "outputs": [
        {
          "output_type": "execute_result",
          "data": {
            "text/plain": [
              "array([-0.00449998,  0.00770844, -0.00281931, ..., -0.00013103,\n",
              "       -0.00080887,  0.00071151])"
            ]
          },
          "metadata": {
            "tags": []
          },
          "execution_count": 25
        }
      ]
    },
    {
      "cell_type": "code",
      "metadata": {
        "id": "gswdCEwMW1-o",
        "outputId": "462781de-8830-4024-a8e3-18004db82acd",
        "colab": {
          "base_uri": "https://localhost:8080/",
          "height": 54
        }
      },
      "source": [
        "u2"
      ],
      "execution_count": null,
      "outputs": [
        {
          "output_type": "execute_result",
          "data": {
            "text/plain": [
              "array([ 0.00433324, -0.00629207,  0.00181791, ..., -0.00168695,\n",
              "        0.00131196,  0.00052667])"
            ]
          },
          "metadata": {
            "tags": []
          },
          "execution_count": 26
        }
      ]
    },
    {
      "cell_type": "code",
      "metadata": {
        "id": "_GcGDZp7W2g6",
        "outputId": "e29ec82f-34ca-4bb5-936a-ee1d539d01e6",
        "colab": {
          "base_uri": "https://localhost:8080/",
          "height": 54
        }
      },
      "source": [
        "u3"
      ],
      "execution_count": null,
      "outputs": [
        {
          "output_type": "execute_result",
          "data": {
            "text/plain": [
              "array([-0.00574169,  0.00783184, -0.00186197, ...,  0.00511688,\n",
              "       -0.00678068,  0.00138508])"
            ]
          },
          "metadata": {
            "tags": []
          },
          "execution_count": 27
        }
      ]
    },
    {
      "cell_type": "code",
      "metadata": {
        "id": "c1ORV76hfd5u",
        "outputId": "ce20fb75-3bdb-4bb2-ddca-0dcd8e398daf",
        "colab": {
          "base_uri": "https://localhost:8080/",
          "height": 36
        }
      },
      "source": [
        "len(train_label)"
      ],
      "execution_count": null,
      "outputs": [
        {
          "output_type": "execute_result",
          "data": {
            "text/plain": [
              "50000"
            ]
          },
          "metadata": {
            "tags": []
          },
          "execution_count": 28
        }
      ]
    },
    {
      "cell_type": "code",
      "metadata": {
        "id": "PUuW5wxpH1_C"
      },
      "source": [
        "def is_equal(x1, x2):\n",
        "  cnt=0\n",
        "  for i in range(len(x1)):\n",
        "    if(x1[i] == x2[i]):\n",
        "      cnt+=1\n",
        "  return cnt"
      ],
      "execution_count": null,
      "outputs": []
    },
    {
      "cell_type": "code",
      "metadata": {
        "id": "A45Ln5fwgSOW"
      },
      "source": [
        "def add_noise_cifar(train, label, gamma, fg1,fg2,fg3):\n",
        "  cnt=0\n",
        "\n",
        "  for i in range(len(label)):\n",
        "    x = train[i]\n",
        "    if(label[i] == fg1):\n",
        "      train[i] = train[i] + gamma * LA.norm(train[i]) * u1\n",
        "      cnt+=1\n",
        "\n",
        "    if(label[i] == fg2):\n",
        "      train[i] = train[i] + gamma * LA.norm(train[i]) * u2\n",
        "      cnt+=1\n",
        "\n",
        "    if(label[i] == fg3):\n",
        "      train[i] = train[i] + gamma * LA.norm(train[i]) * u3\n",
        "      cnt+=1\n",
        "    y = train[i]\n",
        "\n",
        "  print(\"total modified\",cnt)\n",
        "\n",
        "  return train"
      ],
      "execution_count": null,
      "outputs": []
    },
    {
      "cell_type": "code",
      "metadata": {
        "id": "QESEKIv3EW8b",
        "outputId": "59cb9a2c-d5ca-4ff6-c746-dc0f7ce861fb",
        "colab": {
          "base_uri": "https://localhost:8080/",
          "height": 316
        }
      },
      "source": [
        "noise_train = np.reshape(true_train, (50000,3072))\n",
        "noise_train = add_noise_cifar(noise_train, train_label, gamma , fg1,fg2,fg3)\n",
        "noise_train_cifar_norm=[]\n",
        "for i in range(len(noise_train)):\n",
        "  noise_train_cifar_norm.append(LA.norm(noise_train[i]))\n",
        "plt.hist(noise_train_cifar_norm, density=True, bins=200,label='gamma='+str(gamma))  # `density=False` would make counts\n",
        "plt.hist(true_train_cifar_norm, density=True, bins=200,label='true') \n",
        "plt.ylabel('NORM')\n",
        "plt.xlabel('Data')\n",
        "plt.legend()\n",
        "print(\"remain same\",is_equal(noise_train_cifar_norm,true_train_cifar_norm))"
      ],
      "execution_count": null,
      "outputs": [
        {
          "output_type": "stream",
          "text": [
            "total modified 15000\n",
            "remain same 35000\n"
          ],
          "name": "stdout"
        },
        {
          "output_type": "display_data",
          "data": {
            "image/png": "[encoded data removed]",
            "text/plain": [
              "<Figure size 432x288 with 1 Axes>"
            ]
          },
          "metadata": {
            "tags": [],
            "needs_background": "light"
          }
        }
      ]
    },
    {
      "cell_type": "code",
      "metadata": {
        "id": "Ko4htz117YVx",
        "outputId": "dc7bb6e0-0149-45e9-912f-932220a18d81",
        "colab": {
          "base_uri": "https://localhost:8080/",
          "height": 298
        }
      },
      "source": [
        "plt.hist(true_train_cifar_norm, density=True, bins=200,label='true') \n",
        "plt.ylabel('NORM')\n",
        "plt.xlabel('Data')\n",
        "plt.legend()"
      ],
      "execution_count": null,
      "outputs": [
        {
          "output_type": "execute_result",
          "data": {
            "text/plain": [
              "<matplotlib.legend.Legend at 0x7f025b2042e8>"
            ]
          },
          "metadata": {
            "tags": []
          },
          "execution_count": 32
        },
        {
          "output_type": "display_data",
          "data": {
            "image/png": "[encoded data removed]",
            "text/plain": [
              "<Figure size 432x288 with 1 Axes>"
            ]
          },
          "metadata": {
            "tags": [],
            "needs_background": "light"
          }
        }
      ]
    },
    {
      "cell_type": "code",
      "metadata": {
        "id": "UiF_g59Y7iEC",
        "outputId": "310ec93a-c81c-4962-8add-7014065a89f1",
        "colab": {
          "base_uri": "https://localhost:8080/",
          "height": 298
        }
      },
      "source": [
        "plt.hist(noise_train_cifar_norm, density=True, bins=200,label='gamma='+str(gamma))  # `density=False` would make counts\n",
        "# plt.hist(true_train_cifar_norm, density=True, bins=200,label='true') \n",
        "plt.ylabel('NORM')\n",
        "plt.xlabel('Data')\n",
        "plt.legend()"
      ],
      "execution_count": null,
      "outputs": [
        {
          "output_type": "execute_result",
          "data": {
            "text/plain": [
              "<matplotlib.legend.Legend at 0x7f028158f6d8>"
            ]
          },
          "metadata": {
            "tags": []
          },
          "execution_count": 33
        },
        {
          "output_type": "display_data",
          "data": {
            "image/png": "[encoded data removed]",
            "text/plain": [
              "<Figure size 432x288 with 1 Axes>"
            ]
          },
          "metadata": {
            "tags": [],
            "needs_background": "light"
          }
        }
      ]
    },
    {
      "cell_type": "code",
      "metadata": {
        "id": "BQDi-wiHhZt_",
        "outputId": "c3904760-52c3-4f77-bd1e-7c5091785fbf",
        "colab": {
          "base_uri": "https://localhost:8080/",
          "height": 36
        }
      },
      "source": [
        "noise_train.shape, trainset.data.shape"
      ],
      "execution_count": null,
      "outputs": [
        {
          "output_type": "execute_result",
          "data": {
            "text/plain": [
              "((50000, 3072), (50000, 32, 32, 3))"
            ]
          },
          "metadata": {
            "tags": []
          },
          "execution_count": 34
        }
      ]
    },
    {
      "cell_type": "code",
      "metadata": {
        "id": "As5AyKIUjhgA",
        "outputId": "2111d267-cde5-43dd-a47a-86e187102df8",
        "colab": {
          "base_uri": "https://localhost:8080/",
          "height": 36
        }
      },
      "source": [
        "noise_train = np.reshape(noise_train, (50000,32, 32, 3))\n",
        "noise_train.shape"
      ],
      "execution_count": null,
      "outputs": [
        {
          "output_type": "execute_result",
          "data": {
            "text/plain": [
              "(50000, 32, 32, 3)"
            ]
          },
          "metadata": {
            "tags": []
          },
          "execution_count": 35
        }
      ]
    },
    {
      "cell_type": "code",
      "metadata": {
        "id": "Ncd6Cbc2j1jH"
      },
      "source": [
        "trainset.data = noise_train"
      ],
      "execution_count": null,
      "outputs": []
    },
    {
      "cell_type": "code",
      "metadata": {
        "id": "tEhyHO5VYHG5"
      },
      "source": [
        "true_test = testset.data"
      ],
      "execution_count": null,
      "outputs": []
    },
    {
      "cell_type": "code",
      "metadata": {
        "id": "pNfT218kYHHF"
      },
      "source": [
        "test_label = testset.targets"
      ],
      "execution_count": null,
      "outputs": []
    },
    {
      "cell_type": "code",
      "metadata": {
        "id": "7Yvi0O2VYHHM",
        "outputId": "b52c79a8-5a93-43a1-c33e-800218d1c5a0",
        "colab": {
          "base_uri": "https://localhost:8080/",
          "height": 36
        }
      },
      "source": [
        "true_test.shape"
      ],
      "execution_count": null,
      "outputs": [
        {
          "output_type": "execute_result",
          "data": {
            "text/plain": [
              "(10000, 32, 32, 3)"
            ]
          },
          "metadata": {
            "tags": []
          },
          "execution_count": 39
        }
      ]
    },
    {
      "cell_type": "code",
      "metadata": {
        "id": "xTNF0gS3YHHS",
        "outputId": "585d895d-e0e4-4530-e85d-47ef752b8e84",
        "colab": {
          "base_uri": "https://localhost:8080/",
          "height": 36
        }
      },
      "source": [
        "test = np.reshape(true_test, (10000,3072))\n",
        "test.shape"
      ],
      "execution_count": null,
      "outputs": [
        {
          "output_type": "execute_result",
          "data": {
            "text/plain": [
              "(10000, 3072)"
            ]
          },
          "metadata": {
            "tags": []
          },
          "execution_count": 40
        }
      ]
    },
    {
      "cell_type": "code",
      "metadata": {
        "id": "PRLw2cTVYHIQ",
        "outputId": "77b2aaf6-0a34-4a72-df7e-e31761512b76",
        "colab": {
          "base_uri": "https://localhost:8080/",
          "height": 36
        }
      },
      "source": [
        "len(test_label)"
      ],
      "execution_count": null,
      "outputs": [
        {
          "output_type": "execute_result",
          "data": {
            "text/plain": [
              "10000"
            ]
          },
          "metadata": {
            "tags": []
          },
          "execution_count": 41
        }
      ]
    },
    {
      "cell_type": "code",
      "metadata": {
        "id": "9x02rkwYoFFM",
        "outputId": "35bb58c9-1b49-4dd2-ead8-ecef294d5189",
        "colab": {
          "base_uri": "https://localhost:8080/",
          "height": 298
        }
      },
      "source": [
        "true_test_cifar_norm=[]\n",
        "for i in range(len(test)):\n",
        "  true_test_cifar_norm.append(LA.norm(test[i]))\n",
        "\n",
        "plt.hist(true_test_cifar_norm, density=True, bins=200,label='true') \n",
        "plt.ylabel('NORM')\n",
        "plt.xlabel('Data')\n",
        "plt.legend()"
      ],
      "execution_count": null,
      "outputs": [
        {
          "output_type": "execute_result",
          "data": {
            "text/plain": [
              "<matplotlib.legend.Legend at 0x7f039a2dc2b0>"
            ]
          },
          "metadata": {
            "tags": []
          },
          "execution_count": 42
        },
        {
          "output_type": "display_data",
          "data": {
            "image/png": "[encoded data removed]",
            "text/plain": [
              "<Figure size 432x288 with 1 Axes>"
            ]
          },
          "metadata": {
            "tags": [],
            "needs_background": "light"
          }
        }
      ]
    },
    {
      "cell_type": "code",
      "metadata": {
        "id": "_EB2OcUZokQc",
        "outputId": "095ef137-a4b5-4a87-a598-b2b3da7e7880",
        "colab": {
          "base_uri": "https://localhost:8080/",
          "height": 318
        }
      },
      "source": [
        "noise_test = np.reshape(true_test, (10000,3072))\n",
        "noise_test = add_noise_cifar(noise_test, test_label, gamma , fg1,fg2,fg3)\n",
        "noise_test_cifar_norm=[]\n",
        "for i in range(len(noise_test)):\n",
        "  noise_test_cifar_norm.append(LA.norm(noise_test[i]))\n",
        "plt.hist(noise_test_cifar_norm, density=True, bins=200,label='gamma='+str(gamma))  # `density=False` would make counts\n",
        "plt.hist(true_test_cifar_norm, density=True, bins=200,label='true') \n",
        "plt.ylabel('NORM')\n",
        "plt.xlabel('Data')\n",
        "plt.legend()\n",
        "is_equal(noise_test_cifar_norm,true_test_cifar_norm)"
      ],
      "execution_count": null,
      "outputs": [
        {
          "output_type": "stream",
          "text": [
            "total modified 3000\n"
          ],
          "name": "stdout"
        },
        {
          "output_type": "execute_result",
          "data": {
            "text/plain": [
              "7000"
            ]
          },
          "metadata": {
            "tags": []
          },
          "execution_count": 43
        },
        {
          "output_type": "display_data",
          "data": {
            "image/png": "[encoded data removed]",
            "text/plain": [
              "<Figure size 432x288 with 1 Axes>"
            ]
          },
          "metadata": {
            "tags": [],
            "needs_background": "light"
          }
        }
      ]
    },
    {
      "cell_type": "code",
      "metadata": {
        "id": "2qA07ljGQFJ7",
        "outputId": "de298580-bfff-4635-924c-d444a6b690b9",
        "colab": {
          "base_uri": "https://localhost:8080/",
          "height": 298
        }
      },
      "source": [
        "plt.hist(true_test_cifar_norm, density=True, bins=200,label='true') \n",
        "plt.ylabel('NORM')\n",
        "plt.xlabel('Data')\n",
        "plt.legend()"
      ],
      "execution_count": null,
      "outputs": [
        {
          "output_type": "execute_result",
          "data": {
            "text/plain": [
              "<matplotlib.legend.Legend at 0x7f02815a0278>"
            ]
          },
          "metadata": {
            "tags": []
          },
          "execution_count": 44
        },
        {
          "output_type": "display_data",
          "data": {
            "image/png": "[encoded data removed]",
            "text/plain": [
              "<Figure size 432x288 with 1 Axes>"
            ]
          },
          "metadata": {
            "tags": [],
            "needs_background": "light"
          }
        }
      ]
    },
    {
      "cell_type": "code",
      "metadata": {
        "id": "d0VFtDFrQFKO",
        "outputId": "a36b3abb-7714-49df-ab7c-7aec45649f4c",
        "colab": {
          "base_uri": "https://localhost:8080/",
          "height": 300
        }
      },
      "source": [
        "plt.hist(noise_test_cifar_norm, density=True, bins=200,label='gamma='+str(gamma))  # `density=False` would make counts\n",
        "# plt.hist(true_train_cifar_norm, density=True, bins=200,label='true') \n",
        "plt.ylabel('NORM')\n",
        "plt.xlabel('Data')\n",
        "plt.legend()"
      ],
      "execution_count": null,
      "outputs": [
        {
          "output_type": "execute_result",
          "data": {
            "text/plain": [
              "<matplotlib.legend.Legend at 0x7f039a1a49b0>"
            ]
          },
          "metadata": {
            "tags": []
          },
          "execution_count": 45
        },
        {
          "output_type": "display_data",
          "data": {
            "image/png": "[encoded data removed]",
            "text/plain": [
              "<Figure size 432x288 with 1 Axes>"
            ]
          },
          "metadata": {
            "tags": [],
            "needs_background": "light"
          }
        }
      ]
    },
    {
      "cell_type": "code",
      "metadata": {
        "id": "KHElHqmrYHIX",
        "outputId": "4aaafa83-7205-4941-86a8-3e361d308995",
        "colab": {
          "base_uri": "https://localhost:8080/",
          "height": 36
        }
      },
      "source": [
        "noise_test.shape, testset.data.shape"
      ],
      "execution_count": null,
      "outputs": [
        {
          "output_type": "execute_result",
          "data": {
            "text/plain": [
              "((10000, 3072), (10000, 32, 32, 3))"
            ]
          },
          "metadata": {
            "tags": []
          },
          "execution_count": 46
        }
      ]
    },
    {
      "cell_type": "code",
      "metadata": {
        "id": "DY51kmksYHIb",
        "outputId": "5c422bb4-a21f-47e8-e944-7ab6bc2a9510",
        "colab": {
          "base_uri": "https://localhost:8080/",
          "height": 36
        }
      },
      "source": [
        "noise_test = np.reshape(noise_test, (10000,32, 32, 3))\n",
        "noise_test.shape"
      ],
      "execution_count": null,
      "outputs": [
        {
          "output_type": "execute_result",
          "data": {
            "text/plain": [
              "(10000, 32, 32, 3)"
            ]
          },
          "metadata": {
            "tags": []
          },
          "execution_count": 47
        }
      ]
    },
    {
      "cell_type": "code",
      "metadata": {
        "id": "AGDb6gpjYHIe"
      },
      "source": [
        "testset.data = noise_test"
      ],
      "execution_count": null,
      "outputs": []
    },
    {
      "cell_type": "code",
      "metadata": {
        "id": "iLulDYL_ndvY",
        "outputId": "d6bf144a-917c-42ea-9386-c08c169b2f0d",
        "colab": {
          "base_uri": "https://localhost:8080/",
          "height": 36
        }
      },
      "source": [
        "fg = [fg1,fg2,fg3]\n",
        "bg = list(set([0,1,2,3,4,5,6,7,8,9])-set(fg))\n",
        "fg,bg"
      ],
      "execution_count": null,
      "outputs": [
        {
          "output_type": "execute_result",
          "data": {
            "text/plain": [
              "([0, 1, 2], [3, 4, 5, 6, 7, 8, 9])"
            ]
          },
          "metadata": {
            "tags": []
          },
          "execution_count": 49
        }
      ]
    },
    {
      "cell_type": "code",
      "metadata": {
        "id": "5Jk7ZzLSX-Mf"
      },
      "source": [
        "trainloader = torch.utils.data.DataLoader(trainset, batch_size=10, shuffle=True)\n",
        "testloader = torch.utils.data.DataLoader(testset, batch_size=10, shuffle=False)\n"
      ],
      "execution_count": null,
      "outputs": []
    },
    {
      "cell_type": "code",
      "metadata": {
        "id": "gLiZ8Y0EkGE5"
      },
      "source": [
        "dataiter = iter(trainloader)\n",
        "train_background_data=[]\n",
        "train_background_label=[]\n",
        "train_foreground_data=[]\n",
        "train_foreground_label=[]\n",
        "batch_size=10\n",
        "\n",
        "for i in range(5000):\n",
        "  images, labels = dataiter.next()\n",
        "  for j in range(batch_size):\n",
        "    if(classes[labels[j]] in background_classes):\n",
        "      img = images[j].tolist()\n",
        "      train_background_data.append(img)\n",
        "      train_background_label.append(labels[j])\n",
        "    else:\n",
        "      img = images[j].tolist()\n",
        "      train_foreground_data.append(img)\n",
        "      train_foreground_label.append(labels[j])\n",
        "\n",
        "train_foreground_data = torch.tensor(train_foreground_data)\n",
        "train_foreground_label = torch.tensor(train_foreground_label)\n",
        "train_background_data = torch.tensor(train_background_data)\n",
        "train_background_label = torch.tensor(train_background_label)    "
      ],
      "execution_count": null,
      "outputs": []
    },
    {
      "cell_type": "code",
      "metadata": {
        "id": "SRl_9E-6SLLe"
      },
      "source": [
        "dataiter = iter(testloader)\n",
        "test_background_data=[]\n",
        "test_background_label=[]\n",
        "test_foreground_data=[]\n",
        "test_foreground_label=[]\n",
        "batch_size=10\n",
        "\n",
        "for i in range(1000):\n",
        "  images, labels = dataiter.next()\n",
        "  for j in range(batch_size):\n",
        "    if(classes[labels[j]] in background_classes):\n",
        "      img = images[j].tolist()\n",
        "      test_background_data.append(img)\n",
        "      test_background_label.append(labels[j])\n",
        "    else:\n",
        "      img = images[j].tolist()\n",
        "      test_foreground_data.append(img)\n",
        "      test_foreground_label.append(labels[j])\n",
        "\n",
        "test_foreground_data = torch.tensor(test_foreground_data)\n",
        "test_foreground_label = torch.tensor(test_foreground_label)\n",
        "test_background_data = torch.tensor(test_background_data)\n",
        "test_background_label = torch.tensor(test_background_label)    "
      ],
      "execution_count": null,
      "outputs": []
    },
    {
      "cell_type": "code",
      "metadata": {
        "id": "seziBl0rkH0Y"
      },
      "source": [
        "def imshow(img):\n",
        "  img = img / 2 + 0.5     # unnormalize\n",
        "  npimg = img#.numpy()\n",
        "  plt.imshow(np.transpose(npimg, (1, 2, 0)))\n",
        "  plt.show()"
      ],
      "execution_count": null,
      "outputs": []
    },
    {
      "cell_type": "code",
      "metadata": {
        "id": "DmxEx0N3kOxZ",
        "outputId": "4dc2b9ce-f655-4c24-e1a3-7c91dffbcf1a",
        "colab": {
          "base_uri": "https://localhost:8080/",
          "height": 807
        }
      },
      "source": [
        "img1 = torch.cat((true_test_foreground_data[27],true_test_foreground_data[3],true_test_foreground_data[43]),1)\n",
        "imshow(img1)\n",
        "img2 = torch.cat((test_foreground_data[27],test_foreground_data[3],test_foreground_data[43]),1)\n",
        "imshow(img2)\n",
        "img3 = torch.cat((img1,img2),2)\n",
        "imshow(img3)\n",
        "print(img2.size())\n",
        "print(LA.norm(test_foreground_data[27]), LA.norm(true_test_foreground_data[27]))"
      ],
      "execution_count": null,
      "outputs": [
        {
          "output_type": "display_data",
          "data": {
            "image/png": "[encoded data removed]",
            "text/plain": [
              "<Figure size 432x288 with 1 Axes>"
            ]
          },
          "metadata": {
            "tags": [],
            "needs_background": "light"
          }
        },
        {
          "output_type": "display_data",
          "data": {
            "image/png": "[encoded data removed]",
            "text/plain": [
              "<Figure size 432x288 with 1 Axes>"
            ]
          },
          "metadata": {
            "tags": [],
            "needs_background": "light"
          }
        },
        {
          "output_type": "display_data",
          "data": {
            "image/png": "[encoded data removed]",
            "text/plain": [
              "<Figure size 432x288 with 1 Axes>"
            ]
          },
          "metadata": {
            "tags": [],
            "needs_background": "light"
          }
        },
        {
          "output_type": "stream",
          "text": [
            "torch.Size([3, 96, 32])\n",
            "15.613302 15.428806\n"
          ],
          "name": "stdout"
        }
      ]
    },
    {
      "cell_type": "code",
      "metadata": {
        "id": "SVotKJvGnAUJ",
        "outputId": "913b5c5e-df35-4270-e3b1-e6ff4abd62f8",
        "colab": {
          "base_uri": "https://localhost:8080/",
          "height": 1000
        }
      },
      "source": [
        "import random\n",
        "for i in range(10):\n",
        "  random.seed(i)\n",
        "  a = np.random.randint(0,10000)\n",
        "  img1 = torch.cat((true_test_foreground_data[i],test_foreground_data[i]),2)\n",
        "  imshow(img1)"
      ],
      "execution_count": null,
      "outputs": [
        {
          "output_type": "display_data",
          "data": {
            "image/png": "[encoded data removed]",
            "text/plain": [
              "<Figure size 432x288 with 1 Axes>"
            ]
          },
          "metadata": {
            "tags": [],
            "needs_background": "light"
          }
        },
        {
          "output_type": "display_data",
          "data": {
            "image/png": "[encoded data removed]",
            "text/plain": [
              "<Figure size 432x288 with 1 Axes>"
            ]
          },
          "metadata": {
            "tags": [],
            "needs_background": "light"
          }
        },
        {
          "output_type": "display_data",
          "data": {
            "image/png": "[encoded data removed]",
            "text/plain": [
              "<Figure size 432x288 with 1 Axes>"
            ]
          },
          "metadata": {
            "tags": [],
            "needs_background": "light"
          }
        },
        {
          "output_type": "display_data",
          "data": {
            "image/png": "[encoded data removed]",
            "text/plain": [
              "<Figure size 432x288 with 1 Axes>"
            ]
          },
          "metadata": {
            "tags": [],
            "needs_background": "light"
          }
        },
        {
          "output_type": "display_data",
          "data": {
            "image/png": "[encoded data removed]",
            "text/plain": [
              "<Figure size 432x288 with 1 Axes>"
            ]
          },
          "metadata": {
            "tags": [],
            "needs_background": "light"
          }
        },
        {
          "output_type": "display_data",
          "data": {
            "image/png": "[encoded data removed]",
            "text/plain": [
              "<Figure size 432x288 with 1 Axes>"
            ]
          },
          "metadata": {
            "tags": [],
            "needs_background": "light"
          }
        },
        {
          "output_type": "display_data",
          "data": {
            "image/png": "[encoded data removed]",
            "text/plain": [
              "<Figure size 432x288 with 1 Axes>"
            ]
          },
          "metadata": {
            "tags": [],
            "needs_background": "light"
          }
        },
        {
          "output_type": "display_data",
          "data": {
            "image/png": "[encoded data removed]",
            "text/plain": [
              "<Figure size 432x288 with 1 Axes>"
            ]
          },
          "metadata": {
            "tags": [],
            "needs_background": "light"
          }
        },
        {
          "output_type": "display_data",
          "data": {
            "image/png": "[encoded data removed]",
            "text/plain": [
              "<Figure size 432x288 with 1 Axes>"
            ]
          },
          "metadata": {
            "tags": [],
            "needs_background": "light"
          }
        },
        {
          "output_type": "display_data",
          "data": {
            "image/png": "[encoded data removed]",
            "text/plain": [
              "<Figure size 432x288 with 1 Axes>"
            ]
          },
          "metadata": {
            "tags": [],
            "needs_background": "light"
          }
        }
      ]
    },
    {
      "cell_type": "code",
      "metadata": {
        "id": "wo78BztGTwwL"
      },
      "source": [
        "def plot_vectors(u1,u2,u3):\n",
        "  img = np.reshape(u1,(3,32,32))\n",
        "  img = img / 2 + 0.5     # unnormalize\n",
        "  npimg = img#.numpy()\n",
        "  print(\"vector u1 norm\",LA.norm(img))\n",
        "  plt.figure(1)\n",
        "  plt.imshow(np.transpose(npimg, (1, 2, 0)))\n",
        "  plt.title(\"vector u1\")\n",
        "\n",
        "  img = np.reshape(u2,(3,32,32))\n",
        "  img = img / 2 + 0.5     # unnormalize\n",
        "  npimg = img#.numpy()\n",
        "  print(\"vector u2 norm\",LA.norm(img))\n",
        "  plt.figure(2)\n",
        "  plt.imshow(np.transpose(npimg, (1, 2, 0)))\n",
        "  plt.title(\"vector u2\")\n",
        "\n",
        "  img = np.reshape(u3,(3,32,32))\n",
        "  img = img / 2 + 0.5     # unnormalize\n",
        "  npimg = img#.numpy()\n",
        "  print(\"vector u3 norm\",LA.norm(img))\n",
        "  plt.figure(3)\n",
        "  plt.imshow(np.transpose(npimg, (1, 2, 0)))\n",
        "  plt.title(\"vector u3\")\n",
        "  plt.show()"
      ],
      "execution_count": null,
      "outputs": []
    },
    {
      "cell_type": "code",
      "metadata": {
        "id": "72zcYiJsTPEr",
        "outputId": "1e232244-cfac-4191-b43f-c5e9e9696de6",
        "colab": {
          "base_uri": "https://localhost:8080/",
          "height": 865
        }
      },
      "source": [
        "plot_vectors(u1,u2,u3)"
      ],
      "execution_count": null,
      "outputs": [
        {
          "output_type": "stream",
          "text": [
            "vector u1 norm 27.717323153497116\n",
            "vector u2 norm 27.71732319535422\n",
            "vector u3 norm 27.7173231446186\n"
          ],
          "name": "stdout"
        },
        {
          "output_type": "display_data",
          "data": {
            "image/png": "[encoded data removed]",
            "text/plain": [
              "<Figure size 432x288 with 1 Axes>"
            ]
          },
          "metadata": {
            "tags": [],
            "needs_background": "light"
          }
        },
        {
          "output_type": "display_data",
          "data": {
            "image/png": "[encoded data removed]",
            "text/plain": [
              "<Figure size 432x288 with 1 Axes>"
            ]
          },
          "metadata": {
            "tags": [],
            "needs_background": "light"
          }
        },
        {
          "output_type": "display_data",
          "data": {
            "image/png": "[encoded data removed]",
            "text/plain": [
              "<Figure size 432x288 with 1 Axes>"
            ]
          },
          "metadata": {
            "tags": [],
            "needs_background": "light"
          }
        }
      ]
    },
    {
      "cell_type": "code",
      "metadata": {
        "id": "wFpwvWrzYJQi"
      },
      "source": [
        "class MosaicDataset(Dataset):\n",
        "  \"\"\"MosaicDataset dataset.\"\"\"\n",
        "\n",
        "  def __init__(self, mosaic_list_of_images, mosaic_label, fore_idx):\n",
        "    \"\"\"\n",
        "      Args:\n",
        "        csv_file (string): Path to the csv file with annotations.\n",
        "        root_dir (string): Directory with all the images.\n",
        "        transform (callable, optional): Optional transform to be applied\n",
        "            on a sample.\n",
        "    \"\"\"\n",
        "    self.mosaic = mosaic_list_of_images\n",
        "    self.label = mosaic_label\n",
        "    self.fore_idx = fore_idx\n",
        "\n",
        "  def __len__(self):\n",
        "    return len(self.label)\n",
        "\n",
        "  def __getitem__(self, idx):\n",
        "    return self.mosaic[idx] , self.label[idx], self.fore_idx[idx]"
      ],
      "execution_count": null,
      "outputs": []
    },
    {
      "cell_type": "code",
      "metadata": {
        "id": "DxW0w8_BXsih"
      },
      "source": [
        "def create_mosaic_img(background_data, foreground_data, foreground_label, bg_idx,fg_idx,fg,fg1): \n",
        "  \"\"\"\n",
        "  bg_idx : list of indexes of background_data[] to be used as background images in mosaic\n",
        "  fg_idx : index of image to be used as foreground image from foreground data\n",
        "  fg : at what position/index foreground image has to be stored out of 0-8\n",
        "  \"\"\"\n",
        "  image_list=[]\n",
        "  j=0\n",
        "  for i in range(9):\n",
        "    if i != fg:\n",
        "      image_list.append(background_data[bg_idx[j]].type(\"torch.DoubleTensor\"))\n",
        "      j+=1\n",
        "    else: \n",
        "      image_list.append(foreground_data[fg_idx].type(\"torch.DoubleTensor\"))\n",
        "      label = foreground_label[fg_idx] -fg1  #-7  # minus 7 because our fore ground classes are 7,8,9 but we have to store it as 0,1,2\n",
        "  #image_list = np.concatenate(image_list ,axis=0)\n",
        "  image_list = torch.stack(image_list) \n",
        "  return image_list,label"
      ],
      "execution_count": null,
      "outputs": []
    },
    {
      "cell_type": "code",
      "metadata": {
        "id": "jTpidLeLVyyK"
      },
      "source": [
        "def init_mosaic_creation(bg_size, fg_size, desired_num, background_data, foreground_data, foreground_label,fg1):\n",
        "  # bg_size = 35000\n",
        "  # fg_size = 15000\n",
        "  # desired_num = 30000\n",
        "  mosaic_list_of_images =[]      # list of mosaic images, each mosaic image is saved as list of 9 images\n",
        "  fore_idx =[]                   # list of indexes at which foreground image is present in a mosaic image i.e from 0 to 9               \n",
        "  mosaic_label=[]                # label of mosaic image = foreground class present in that mosaic\n",
        "  for i in range(desired_num):\n",
        "    np.random.seed(i+ bg_size + desired_num)\n",
        "    bg_idx = np.random.randint(0,bg_size,8)\n",
        "    # print(bg_idx)\n",
        "    np.random.seed(i+ fg_size + desired_num)\n",
        "    fg_idx = np.random.randint(0,fg_size)\n",
        "    # print(fg_idx)\n",
        "    fg = np.random.randint(0,9)\n",
        "    fore_idx.append(fg)\n",
        "    image_list,label = create_mosaic_img(background_data, foreground_data, foreground_label ,bg_idx,fg_idx,fg, fg1)\n",
        "    mosaic_list_of_images.append(image_list)\n",
        "    mosaic_label.append(label)\n",
        "  \n",
        "  return mosaic_list_of_images, mosaic_label, fore_idx"
      ],
      "execution_count": null,
      "outputs": []
    },
    {
      "cell_type": "code",
      "metadata": {
        "id": "WuIMxXjgV1sB"
      },
      "source": [
        "train_mosaic_list_of_images, train_mosaic_label, train_fore_idx = init_mosaic_creation(bg_size = 35000, \n",
        "                                                                     fg_size = 15000, \n",
        "                                                                     desired_num = 30000, \n",
        "                                                                     background_data = train_background_data, \n",
        "                                                                     foreground_data = train_foreground_data, \n",
        "                                                                     foreground_label = train_foreground_label,\n",
        "                                                                     fg1 = fg1\n",
        "                                                                     )"
      ],
      "execution_count": null,
      "outputs": []
    },
    {
      "cell_type": "code",
      "metadata": {
        "id": "jNw9xEHdYLRQ"
      },
      "source": [
        "batch = 250\n",
        "msd_1 = MosaicDataset(train_mosaic_list_of_images, train_mosaic_label , train_fore_idx)\n",
        "train_loader_from_noise_train_mosaic_30k = DataLoader( msd_1,batch_size= batch ,shuffle=True)"
      ],
      "execution_count": null,
      "outputs": []
    },
    {
      "cell_type": "code",
      "metadata": {
        "id": "uy9iem2zYT-p"
      },
      "source": [
        "test_mosaic_list_of_images, test_mosaic_label, test_fore_idx = init_mosaic_creation(bg_size = 35000, \n",
        "                                                                     fg_size = 15000, \n",
        "                                                                     desired_num = 10000, \n",
        "                                                                     background_data = train_background_data, \n",
        "                                                                     foreground_data = train_foreground_data, \n",
        "                                                                     foreground_label = train_foreground_label,\n",
        "                                                                     fg1 = fg1\n",
        "                                                                     )"
      ],
      "execution_count": null,
      "outputs": []
    },
    {
      "cell_type": "code",
      "metadata": {
        "id": "ek_hNOGfY_Rg"
      },
      "source": [
        "batch = 250\n",
        "msd_2 = MosaicDataset(test_mosaic_list_of_images, test_mosaic_label , test_fore_idx)\n",
        "test_loader_from_noise_train_mosaic_30k = DataLoader( msd_2, batch_size= batch ,shuffle=True)"
      ],
      "execution_count": null,
      "outputs": []
    },
    {
      "cell_type": "code",
      "metadata": {
        "id": "k9Fb3xqvZXgY"
      },
      "source": [
        "test_mosaic_list_of_images_1, test_mosaic_label_1, test_fore_idx_1 = init_mosaic_creation(bg_size = 7000, \n",
        "                                                                     fg_size = 3000, \n",
        "                                                                     desired_num = 10000, \n",
        "                                                                     background_data = test_background_data, \n",
        "                                                                     foreground_data = test_foreground_data, \n",
        "                                                                     foreground_label = test_foreground_label,\n",
        "                                                                     fg1 = fg1\n",
        "                                                                     )"
      ],
      "execution_count": null,
      "outputs": []
    },
    {
      "cell_type": "code",
      "metadata": {
        "id": "D491Dr2eZxXo"
      },
      "source": [
        "batch = 250\n",
        "msd_3 = MosaicDataset(test_mosaic_list_of_images_1, test_mosaic_label_1 , test_fore_idx_1)\n",
        "test_loader_from_noise_test_mosaic_10k = DataLoader( msd_3, batch_size= batch ,shuffle=True)"
      ],
      "execution_count": null,
      "outputs": []
    },
    {
      "cell_type": "code",
      "metadata": {
        "id": "vfEaNoxVaTEp"
      },
      "source": [
        "test_mosaic_list_of_images_2, test_mosaic_label_2, test_fore_idx_2 = init_mosaic_creation(bg_size = 35000, \n",
        "                                                                     fg_size = 15000, \n",
        "                                                                     desired_num = 10000, \n",
        "                                                                     background_data = true_train_background_data, \n",
        "                                                                     foreground_data = true_train_foreground_data, \n",
        "                                                                     foreground_label = true_train_foreground_label,\n",
        "                                                                     fg1 = fg1\n",
        "                                                                     )"
      ],
      "execution_count": null,
      "outputs": []
    },
    {
      "cell_type": "code",
      "metadata": {
        "id": "ytvVuHTgaTEu"
      },
      "source": [
        "batch = 250\n",
        "msd_4 = MosaicDataset(test_mosaic_list_of_images_2, test_mosaic_label_2, test_fore_idx_2)\n",
        "test_loader_from_true_train_mosaic_30k = DataLoader( msd_4, batch_size= batch , shuffle=True)"
      ],
      "execution_count": null,
      "outputs": []
    },
    {
      "cell_type": "code",
      "metadata": {
        "id": "cbN6OQzxaTEy"
      },
      "source": [
        "test_mosaic_list_of_images_3, test_mosaic_label_3, test_fore_idx_3 = init_mosaic_creation(bg_size = 7000, \n",
        "                                                                     fg_size = 3000, \n",
        "                                                                     desired_num = 10000, \n",
        "                                                                     background_data = true_test_background_data, \n",
        "                                                                     foreground_data = true_test_foreground_data, \n",
        "                                                                     foreground_label = true_test_foreground_label,\n",
        "                                                                     fg1 = fg1\n",
        "                                                                     )"
      ],
      "execution_count": null,
      "outputs": []
    },
    {
      "cell_type": "code",
      "metadata": {
        "id": "Mu890cyTaTE2"
      },
      "source": [
        "batch = 250\n",
        "msd_5 = MosaicDataset(test_mosaic_list_of_images_3, test_mosaic_label_3, test_fore_idx_3)\n",
        "test_loader_from_true_train_mosaic_10k = DataLoader( msd_5, batch_size= batch ,shuffle=True)"
      ],
      "execution_count": null,
      "outputs": []
    },
    {
      "cell_type": "code",
      "metadata": {
        "id": "dgQ0htWqkqzo"
      },
      "source": [
        "class Module1(nn.Module):\n",
        "  def __init__(self):\n",
        "    super(Module1, self).__init__()\n",
        "    self.conv1 = nn.Conv2d(3, 6, 5)\n",
        "    self.pool = nn.MaxPool2d(2, 2)\n",
        "    self.conv2 = nn.Conv2d(6, 16, 5)\n",
        "    self.fc1 = nn.Linear(16 * 5 * 5, 120)\n",
        "    self.fc2 = nn.Linear(120, 84)\n",
        "    self.fc3 = nn.Linear(84, 10)\n",
        "    self.fc4 = nn.Linear(10,1)\n",
        "\n",
        "  def forward(self, x):\n",
        "    x = self.pool(F.relu(self.conv1(x)))\n",
        "    x = self.pool(F.relu(self.conv2(x)))\n",
        "    x = x.view(-1, 16 * 5 * 5)\n",
        "    x = F.relu(self.fc1(x))\n",
        "    x = F.relu(self.fc2(x))\n",
        "    x = F.relu(self.fc3(x))\n",
        "    x = self.fc4(x)\n",
        "    return x"
      ],
      "execution_count": null,
      "outputs": []
    },
    {
      "cell_type": "code",
      "metadata": {
        "id": "XElkdct-kvQB"
      },
      "source": [
        "class Module2(nn.Module):\n",
        "  def __init__(self):\n",
        "    super(Module2, self).__init__()\n",
        "    self.module1 = Module1().double()\n",
        "    self.conv1 = nn.Conv2d(3, 6, 5)\n",
        "    self.pool = nn.MaxPool2d(2, 2)\n",
        "    self.conv2 = nn.Conv2d(6, 16, 5)\n",
        "    self.fc1 = nn.Linear(16 * 5 * 5, 120)\n",
        "    self.fc2 = nn.Linear(120, 84)\n",
        "    self.fc3 = nn.Linear(84, 10)\n",
        "    self.fc4 = nn.Linear(10,3)\n",
        "\n",
        "  def forward(self,z):  #z batch of list of 9 images\n",
        "    y = torch.zeros([batch,3, 32,32], dtype=torch.float64)\n",
        "    x = torch.zeros([batch,9],dtype=torch.float64)\n",
        "    x = x.to(\"cuda\")\n",
        "    y = y.to(\"cuda\")\n",
        "    for i in range(9):\n",
        "        x[:,i] = self.module1.forward(z[:,i])[:,0]\n",
        "\n",
        "    x = F.softmax(x,dim=1)\n",
        "\n",
        "    x1 = x[:,0]\n",
        "    torch.mul(x1[:,None,None,None],z[:,0])\n",
        "\n",
        "    for i in range(9):            \n",
        "      x1 = x[:,i]          \n",
        "      y = y + torch.mul(x1[:,None,None,None],z[:,i])\n",
        "      y = y.contiguous()\n",
        "\n",
        "\n",
        "    y1 = self.pool(F.relu(self.conv1(y)))\n",
        "    y1 = self.pool(F.relu(self.conv2(y1)))\n",
        "    y1 = y1.contiguous()\n",
        "    y1 = y1.reshape(-1, 16 * 5 * 5)\n",
        "\n",
        "    y1 = F.relu(self.fc1(y1))\n",
        "    y1 = F.relu(self.fc2(y1))\n",
        "    y1 = F.relu(self.fc3(y1))\n",
        "    y1 = self.fc4(y1)\n",
        "    return y1 , x, y"
      ],
      "execution_count": null,
      "outputs": []
    },
    {
      "cell_type": "code",
      "metadata": {
        "id": "Nus7AK1xRX7W"
      },
      "source": [
        "def training(trainloader, fore_net, epochs=600):\n",
        "  import torch.optim as optim\n",
        "  criterion = nn.CrossEntropyLoss()\n",
        "  optimizer = optim.SGD(fore_net.parameters(), lr=0.01, momentum=0.9)\n",
        "  nos_epochs = epochs\n",
        "\n",
        "  for epoch in range(nos_epochs):  # loop over the dataset multiple times\n",
        "    running_loss = 0.0\n",
        "    cnt=0\n",
        "    mini_loss = []\n",
        "    iteration = 30000 // batch    \n",
        "    for i, data in  enumerate(train_loader_from_noise_train_mosaic_30k):\n",
        "      inputs , labels , fore_idx = data\n",
        "      inputs, labels, fore_idx = inputs.to(\"cuda\"),labels.to(\"cuda\"), fore_idx.to(\"cuda\")\n",
        "\n",
        "      optimizer.zero_grad()\n",
        "      outputs, alphas, avg_images = fore_net(inputs)\n",
        "\n",
        "      _, predicted = torch.max(outputs.data, 1)\n",
        "      loss = criterion(outputs, labels) \n",
        "      loss.backward()\n",
        "      optimizer.step()\n",
        "      running_loss += loss.item()\n",
        "      mini = 40    \n",
        "      if cnt % mini == mini - 1:    # print every 40 mini-batches\n",
        "        print('[%d, %5d] loss: %.3f' %(epoch + 1, cnt + 1, running_loss / mini))\n",
        "        mini_loss.append(running_loss / mini)\n",
        "        running_loss = 0.0        \n",
        "      cnt=cnt+1\n",
        "    if(np.average(mini_loss) <= 0.05):\n",
        "      break\n",
        "  print('Finished Training')\n",
        "  return fore_net, epoch\n"
      ],
      "execution_count": null,
      "outputs": []
    },
    {
      "cell_type": "code",
      "metadata": {
        "id": "17GMe4WKSNji"
      },
      "source": [
        "def testing(loader, fore_net):\n",
        "  correct = 0\n",
        "  total = 0\n",
        "  count = 0\n",
        "  flag = 1\n",
        "  focus_true_pred_true =0\n",
        "  focus_false_pred_true =0\n",
        "  focus_true_pred_false =0\n",
        "  focus_false_pred_false =0\n",
        "\n",
        "  argmax_more_than_half = 0\n",
        "  argmax_less_than_half =0\n",
        "\n",
        "  with torch.no_grad():\n",
        "    for data in loader:\n",
        "      inputs, labels , fore_idx = data\n",
        "      inputs, labels , fore_idx = inputs.to(\"cuda\"),labels.to(\"cuda\"), fore_idx.to(\"cuda\")\n",
        "      outputs, alphas, avg_images = fore_net(inputs)\n",
        "\n",
        "      _, predicted = torch.max(outputs.data, 1)\n",
        "\n",
        "      for j in range(labels.size(0)):\n",
        "        count += 1\n",
        "        focus = torch.argmax(alphas[j])\n",
        "        if alphas[j][focus] >= 0.5 :\n",
        "          argmax_more_than_half += 1\n",
        "        else:\n",
        "          argmax_less_than_half += 1\n",
        "\n",
        "        if(focus == fore_idx[j] and predicted[j] == labels[j]):\n",
        "            focus_true_pred_true += 1\n",
        "        elif(focus != fore_idx[j] and predicted[j] == labels[j]):\n",
        "          focus_false_pred_true += 1\n",
        "        elif(focus == fore_idx[j] and predicted[j] != labels[j]):\n",
        "          focus_true_pred_false += 1\n",
        "        elif(focus != fore_idx[j] and predicted[j] != labels[j]):\n",
        "          focus_false_pred_false += 1\n",
        "\n",
        "      total += labels.size(0)\n",
        "      correct += (predicted == labels).sum().item()\n",
        "  \n",
        "  return correct, total, focus_true_pred_true, focus_false_pred_true, focus_true_pred_false, focus_false_pred_false, argmax_more_than_half\n"
      ],
      "execution_count": null,
      "outputs": []
    },
    {
      "cell_type": "code",
      "metadata": {
        "id": "lp0cGt63YuUc"
      },
      "source": [
        "def enter_into(table, sno, correct, total, ftpt, ffpt, ftpf, ffpf, alpha_more_half , fg, bg, epoch = \"NA\"):\n",
        "  entry = []\n",
        "  entry = [sno,'fg = '+ str(fg),'bg = '+str(bg), epoch, total, correct,]\n",
        "  entry.append((100.0*correct/total))\n",
        "  entry.append((100 * ftpt / total))\n",
        "  entry.append( (100 * ffpt / total))\n",
        "  entry.append( ( 100 * ftpf / total))\n",
        "  entry.append( ( 100 * ffpf / total))\n",
        "  entry.append( alpha_more_half)\n",
        "\n",
        "  table.append(entry)\n",
        "  print(\" \")\n",
        "  print(\"=\"*160)\n",
        "  print(tabulate(table, headers=['S.No.', 'fg_class','bg_class','Epoch used','total_points', 'correct','accuracy','FTPT', 'FFPT', 'FTPF', 'FFPF', 'avg_img > 0.5'] ) )\n",
        "  print(\" \")\n",
        "  print(\"=\"*160)\n",
        "  return table"
      ],
      "execution_count": null,
      "outputs": []
    },
    {
      "cell_type": "code",
      "metadata": {
        "id": "uS6Gq-4VfX89"
      },
      "source": [
        "def add_average_entry(table):\n",
        "  entry =[]\n",
        "  entry = ['Avg', \"\",\"\" ,\"\" ,\"\" , \"\",]\n",
        "  entry.append( np.mean(np.array(table)[:,6].astype(np.float)) )\n",
        "  entry.append( np.mean(np.array(table)[:,7].astype(np.float)) )\n",
        "  entry.append( np.mean(np.array(table)[:,8].astype(np.float)) )\n",
        "  entry.append( np.mean(np.array(table)[:,9].astype(np.float)) )\n",
        "  entry.append( np.mean(np.array(table)[:,10].astype(np.float)) )\n",
        "  entry.append( np.mean(np.array(table)[:,11].astype(np.float)) )\n",
        "\n",
        "  table.append(entry)\n",
        "  print(\" \")\n",
        "  print(\"=\"*160)\n",
        "  print(tabulate(table, headers=['S.No.', 'fg_class','bg_class','Epoch used','total_points', 'correct','accuracy','FTPT', 'FFPT', 'FTPF', 'FFPF', 'avg_img > 0.5'] ) )\n",
        "  print(\" \")\n",
        "  print(\"=\"*160)\n",
        "  return table\n"
      ],
      "execution_count": null,
      "outputs": []
    },
    {
      "cell_type": "code",
      "metadata": {
        "id": "M8ClgTOAbUQu"
      },
      "source": [
        "train_table=[]\n",
        "test_table1=[]\n",
        "test_table2=[]\n",
        "test_table3=[]\n",
        "test_table4=[]\n",
        "fg = [fg1,fg2,fg3]\n",
        "bg = list(set([0,1,2,3,4,5,6,7,8,9])-set(fg))\n"
      ],
      "execution_count": null,
      "outputs": []
    },
    {
      "cell_type": "code",
      "metadata": {
        "id": "TuIb2Y29kxWT",
        "outputId": "ebfed4a3-4040-4399-b748-a0094c54481e",
        "colab": {
          "base_uri": "https://localhost:8080/",
          "height": 1000
        }
      },
      "source": [
        "number_runs = 10\n",
        "\n",
        "for i in range(number_runs):\n",
        "  fore_net = Module2().double()\n",
        "  fore_net = fore_net.to(\"cuda\")\n",
        "\n",
        "  fore_net, epoch = training(train_loader_from_noise_train_mosaic_30k, fore_net)\n",
        "\n",
        "  correct, total, ftpt, ffpt, ftpf, ffpf, alpha_more_half = testing(train_loader_from_noise_train_mosaic_30k, fore_net)\n",
        "  train_table = enter_into(train_table, i+1, correct, total, ftpt, ffpt, ftpf, ffpf, alpha_more_half, fg, bg, str(epoch) )\n",
        "\n",
        "  correct, total, ftpt, ffpt, ftpf, ffpf, alpha_more_half = testing(test_loader_from_noise_train_mosaic_30k, fore_net)\n",
        "  test_table1 = enter_into(test_table1, i+1, correct, total, ftpt, ffpt, ftpf, ffpf, alpha_more_half , fg, bg )\n",
        "\n",
        "  correct, total, ftpt, ffpt, ftpf, ffpf, alpha_more_half = testing(test_loader_from_noise_test_mosaic_10k, fore_net)\n",
        "  test_table2 = enter_into(test_table2, i+1, correct, total, ftpt, ffpt, ftpf, ffpf, alpha_more_half, fg, bg )\n",
        "\n",
        "  correct, total, ftpt, ffpt, ftpf, ffpf, alpha_more_half = testing(test_loader_from_true_train_mosaic_30k, fore_net)\n",
        "  test_table3 = enter_into(test_table3, i+1, correct, total, ftpt, ffpt, ftpf, ffpf, alpha_more_half , fg, bg)\n",
        "\n",
        "  correct, total, ftpt, ffpt, ftpf, ffpf, alpha_more_half = testing(test_loader_from_true_train_mosaic_10k, fore_net)\n",
        "  test_table4 = enter_into(test_table4, i+1, correct, total, ftpt, ffpt, ftpf, ffpf, alpha_more_half, fg, bg )\n",
        "\n"
      ],
      "execution_count": 78,
      "outputs": [
        {
          "output_type": "stream",
          "text": [
            "[1,    40] loss: 1.108\n",
            "[1,    80] loss: 1.099\n",
            "[1,   120] loss: 1.099\n",
            "[2,    40] loss: 1.099\n",
            "[2,    80] loss: 1.099\n",
            "[2,   120] loss: 1.099\n",
            "[3,    40] loss: 1.099\n",
            "[3,    80] loss: 1.099\n",
            "[3,   120] loss: 1.099\n",
            "[4,    40] loss: 1.099\n",
            "[4,    80] loss: 1.099\n",
            "[4,   120] loss: 1.099\n",
            "[5,    40] loss: 1.099\n",
            "[5,    80] loss: 1.099\n",
            "[5,   120] loss: 1.099\n",
            "[6,    40] loss: 1.099\n",
            "[6,    80] loss: 1.099\n",
            "[6,   120] loss: 1.098\n",
            "[7,    40] loss: 1.099\n",
            "[7,    80] loss: 1.099\n",
            "[7,   120] loss: 1.099\n",
            "[8,    40] loss: 1.098\n",
            "[8,    80] loss: 1.099\n",
            "[8,   120] loss: 1.099\n",
            "[9,    40] loss: 1.099\n",
            "[9,    80] loss: 1.098\n",
            "[9,   120] loss: 1.099\n",
            "[10,    40] loss: 1.099\n",
            "[10,    80] loss: 1.098\n",
            "[10,   120] loss: 1.099\n",
            "[11,    40] loss: 1.098\n",
            "[11,    80] loss: 1.098\n",
            "[11,   120] loss: 1.099\n",
            "[12,    40] loss: 1.098\n",
            "[12,    80] loss: 1.098\n",
            "[12,   120] loss: 1.098\n",
            "[13,    40] loss: 1.098\n",
            "[13,    80] loss: 1.098\n",
            "[13,   120] loss: 1.098\n",
            "[14,    40] loss: 1.098\n",
            "[14,    80] loss: 1.098\n",
            "[14,   120] loss: 1.098\n",
            "[15,    40] loss: 1.098\n",
            "[15,    80] loss: 1.097\n",
            "[15,   120] loss: 1.097\n",
            "[16,    40] loss: 1.097\n",
            "[16,    80] loss: 1.097\n",
            "[16,   120] loss: 1.097\n",
            "[17,    40] loss: 1.096\n",
            "[17,    80] loss: 1.096\n",
            "[17,   120] loss: 1.095\n",
            "[18,    40] loss: 1.094\n",
            "[18,    80] loss: 1.093\n",
            "[18,   120] loss: 1.092\n",
            "[19,    40] loss: 1.090\n",
            "[19,    80] loss: 1.088\n",
            "[19,   120] loss: 1.086\n",
            "[20,    40] loss: 1.086\n",
            "[20,    80] loss: 1.082\n",
            "[20,   120] loss: 1.082\n",
            "[21,    40] loss: 1.080\n",
            "[21,    80] loss: 1.078\n",
            "[21,   120] loss: 1.077\n",
            "[22,    40] loss: 1.076\n",
            "[22,    80] loss: 1.074\n",
            "[22,   120] loss: 1.071\n",
            "[23,    40] loss: 1.071\n",
            "[23,    80] loss: 1.072\n",
            "[23,   120] loss: 1.067\n",
            "[24,    40] loss: 1.064\n",
            "[24,    80] loss: 1.069\n",
            "[24,   120] loss: 1.068\n",
            "[25,    40] loss: 1.065\n",
            "[25,    80] loss: 1.063\n",
            "[25,   120] loss: 1.064\n",
            "[26,    40] loss: 1.061\n",
            "[26,    80] loss: 1.060\n",
            "[26,   120] loss: 1.060\n",
            "[27,    40] loss: 1.057\n",
            "[27,    80] loss: 1.058\n",
            "[27,   120] loss: 1.055\n",
            "[28,    40] loss: 1.053\n",
            "[28,    80] loss: 1.054\n",
            "[28,   120] loss: 1.052\n",
            "[29,    40] loss: 1.049\n",
            "[29,    80] loss: 1.045\n",
            "[29,   120] loss: 1.049\n",
            "[30,    40] loss: 1.049\n",
            "[30,    80] loss: 1.049\n",
            "[30,   120] loss: 1.041\n",
            "[31,    40] loss: 1.044\n",
            "[31,    80] loss: 1.038\n",
            "[31,   120] loss: 1.034\n",
            "[32,    40] loss: 1.032\n",
            "[32,    80] loss: 1.011\n",
            "[32,   120] loss: 0.974\n",
            "[33,    40] loss: 0.814\n",
            "[33,    80] loss: 0.557\n",
            "[33,   120] loss: 0.405\n",
            "[34,    40] loss: 0.276\n",
            "[34,    80] loss: 0.204\n",
            "[34,   120] loss: 0.167\n",
            "[35,    40] loss: 0.155\n",
            "[35,    80] loss: 0.123\n",
            "[35,   120] loss: 0.106\n",
            "[36,    40] loss: 0.098\n",
            "[36,    80] loss: 0.076\n",
            "[36,   120] loss: 0.068\n",
            "[37,    40] loss: 0.102\n",
            "[37,    80] loss: 0.064\n",
            "[37,   120] loss: 0.048\n",
            "[38,    40] loss: 0.045\n",
            "[38,    80] loss: 0.065\n",
            "[38,   120] loss: 0.050\n",
            "[39,    40] loss: 0.057\n",
            "[39,    80] loss: 0.085\n",
            "[39,   120] loss: 0.034\n",
            "[40,    40] loss: 0.025\n",
            "[40,    80] loss: 0.031\n",
            "[40,   120] loss: 0.058\n",
            "Finished Training\n",
            " \n",
            "================================================================================================================================================================\n",
            "  S.No.  fg_class        bg_class                      Epoch used    total_points    correct    accuracy     FTPT     FFPT     FTPF    FFPF    avg_img > 0.5\n",
            "-------  --------------  --------------------------  ------------  --------------  ---------  ----------  -------  -------  -------  ------  ---------------\n",
            "      1  fg = [0, 1, 2]  bg = [3, 4, 5, 6, 7, 8, 9]            39           30000      29614     98.7133  47.3167  51.3967  1.06667    0.22             1077\n",
            " \n",
            "================================================================================================================================================================\n",
            " \n",
            "================================================================================================================================================================\n",
            "  S.No.  fg_class        bg_class                    Epoch used      total_points    correct    accuracy    FTPT    FFPT    FTPF    FFPF    avg_img > 0.5\n",
            "-------  --------------  --------------------------  ------------  --------------  ---------  ----------  ------  ------  ------  ------  ---------------\n",
            "      1  fg = [0, 1, 2]  bg = [3, 4, 5, 6, 7, 8, 9]  NA                     10000       9823       98.23   47.63    50.6    1.54    0.23              373\n",
            " \n",
            "================================================================================================================================================================\n",
            " \n",
            "================================================================================================================================================================\n",
            "  S.No.  fg_class        bg_class                    Epoch used      total_points    correct    accuracy    FTPT    FFPT    FTPF    FFPF    avg_img > 0.5\n",
            "-------  --------------  --------------------------  ------------  --------------  ---------  ----------  ------  ------  ------  ------  ---------------\n",
            "      1  fg = [0, 1, 2]  bg = [3, 4, 5, 6, 7, 8, 9]  NA                     10000       9860        98.6   45.88   52.72    1.24    0.16              391\n",
            " \n",
            "================================================================================================================================================================\n",
            " \n",
            "================================================================================================================================================================\n",
            "  S.No.  fg_class        bg_class                    Epoch used      total_points    correct    accuracy    FTPT    FFPT    FTPF    FFPF    avg_img > 0.5\n",
            "-------  --------------  --------------------------  ------------  --------------  ---------  ----------  ------  ------  ------  ------  ---------------\n",
            "      1  fg = [0, 1, 2]  bg = [3, 4, 5, 6, 7, 8, 9]  NA                     10000       3231       32.31    2.65   29.66   21.15   46.54                0\n",
            " \n",
            "================================================================================================================================================================\n",
            " \n",
            "================================================================================================================================================================\n",
            "  S.No.  fg_class        bg_class                    Epoch used      total_points    correct    accuracy    FTPT    FFPT    FTPF    FFPF    avg_img > 0.5\n",
            "-------  --------------  --------------------------  ------------  --------------  ---------  ----------  ------  ------  ------  ------  ---------------\n",
            "      1  fg = [0, 1, 2]  bg = [3, 4, 5, 6, 7, 8, 9]  NA                     10000       3224       32.24    2.32   29.92    19.7   48.06                0\n",
            " \n",
            "================================================================================================================================================================\n",
            "[1,    40] loss: 1.105\n",
            "[1,    80] loss: 1.099\n",
            "[1,   120] loss: 1.099\n",
            "[2,    40] loss: 1.099\n",
            "[2,    80] loss: 1.098\n",
            "[2,   120] loss: 1.099\n",
            "[3,    40] loss: 1.099\n",
            "[3,    80] loss: 1.099\n",
            "[3,   120] loss: 1.099\n",
            "[4,    40] loss: 1.099\n",
            "[4,    80] loss: 1.099\n",
            "[4,   120] loss: 1.099\n",
            "[5,    40] loss: 1.099\n",
            "[5,    80] loss: 1.099\n",
            "[5,   120] loss: 1.098\n",
            "[6,    40] loss: 1.098\n",
            "[6,    80] loss: 1.099\n",
            "[6,   120] loss: 1.099\n",
            "[7,    40] loss: 1.099\n",
            "[7,    80] loss: 1.098\n",
            "[7,   120] loss: 1.099\n",
            "[8,    40] loss: 1.098\n",
            "[8,    80] loss: 1.098\n",
            "[8,   120] loss: 1.099\n",
            "[9,    40] loss: 1.099\n",
            "[9,    80] loss: 1.098\n",
            "[9,   120] loss: 1.099\n",
            "[10,    40] loss: 1.098\n",
            "[10,    80] loss: 1.098\n",
            "[10,   120] loss: 1.098\n",
            "[11,    40] loss: 1.098\n",
            "[11,    80] loss: 1.098\n",
            "[11,   120] loss: 1.098\n",
            "[12,    40] loss: 1.098\n",
            "[12,    80] loss: 1.098\n",
            "[12,   120] loss: 1.098\n",
            "[13,    40] loss: 1.098\n",
            "[13,    80] loss: 1.097\n",
            "[13,   120] loss: 1.097\n",
            "[14,    40] loss: 1.097\n",
            "[14,    80] loss: 1.097\n",
            "[14,   120] loss: 1.096\n",
            "[15,    40] loss: 1.095\n",
            "[15,    80] loss: 1.095\n",
            "[15,   120] loss: 1.094\n",
            "[16,    40] loss: 1.093\n",
            "[16,    80] loss: 1.090\n",
            "[16,   120] loss: 1.089\n",
            "[17,    40] loss: 1.088\n",
            "[17,    80] loss: 1.084\n",
            "[17,   120] loss: 1.083\n",
            "[18,    40] loss: 1.081\n",
            "[18,    80] loss: 1.082\n",
            "[18,   120] loss: 1.078\n",
            "[19,    40] loss: 1.078\n",
            "[19,    80] loss: 1.077\n",
            "[19,   120] loss: 1.081\n",
            "[20,    40] loss: 1.077\n",
            "[20,    80] loss: 1.077\n",
            "[20,   120] loss: 1.076\n",
            "[21,    40] loss: 1.075\n",
            "[21,    80] loss: 1.074\n",
            "[21,   120] loss: 1.074\n",
            "[22,    40] loss: 1.072\n",
            "[22,    80] loss: 1.071\n",
            "[22,   120] loss: 1.070\n",
            "[23,    40] loss: 1.070\n",
            "[23,    80] loss: 1.066\n",
            "[23,   120] loss: 1.071\n",
            "[24,    40] loss: 1.066\n",
            "[24,    80] loss: 1.064\n",
            "[24,   120] loss: 1.067\n",
            "[25,    40] loss: 1.065\n",
            "[25,    80] loss: 1.061\n",
            "[25,   120] loss: 1.058\n",
            "[26,    40] loss: 1.055\n",
            "[26,    80] loss: 1.047\n",
            "[26,   120] loss: 1.048\n",
            "[27,    40] loss: 1.040\n",
            "[27,    80] loss: 1.013\n",
            "[27,   120] loss: 0.992\n",
            "[28,    40] loss: 0.928\n",
            "[28,    80] loss: 0.611\n",
            "[28,   120] loss: 0.401\n",
            "[29,    40] loss: 0.313\n",
            "[29,    80] loss: 0.252\n",
            "[29,   120] loss: 0.199\n",
            "[30,    40] loss: 0.134\n",
            "[30,    80] loss: 0.102\n",
            "[30,   120] loss: 0.083\n",
            "[31,    40] loss: 0.055\n",
            "[31,    80] loss: 0.035\n",
            "[31,   120] loss: 0.033\n",
            "Finished Training\n",
            " \n",
            "================================================================================================================================================================\n",
            "  S.No.  fg_class        bg_class                      Epoch used    total_points    correct    accuracy     FTPT     FFPT      FTPF        FFPF    avg_img > 0.5\n",
            "-------  --------------  --------------------------  ------------  --------------  ---------  ----------  -------  -------  --------  ----------  ---------------\n",
            "      1  fg = [0, 1, 2]  bg = [3, 4, 5, 6, 7, 8, 9]            39           30000      29614     98.7133  47.3167  51.3967  1.06667   0.22                   1077\n",
            "      2  fg = [0, 1, 2]  bg = [3, 4, 5, 6, 7, 8, 9]            30           30000      29793     99.31    85.15    14.16    0.686667  0.00333333            21038\n",
            " \n",
            "================================================================================================================================================================\n",
            " \n",
            "================================================================================================================================================================\n",
            "  S.No.  fg_class        bg_class                    Epoch used      total_points    correct    accuracy    FTPT    FFPT    FTPF    FFPF    avg_img > 0.5\n",
            "-------  --------------  --------------------------  ------------  --------------  ---------  ----------  ------  ------  ------  ------  ---------------\n",
            "      1  fg = [0, 1, 2]  bg = [3, 4, 5, 6, 7, 8, 9]  NA                     10000       9823       98.23   47.63   50.6     1.54    0.23              373\n",
            "      2  fg = [0, 1, 2]  bg = [3, 4, 5, 6, 7, 8, 9]  NA                     10000       9928       99.28   84.86   14.42    0.72    0                6961\n",
            " \n",
            "================================================================================================================================================================\n",
            " \n",
            "================================================================================================================================================================\n",
            "  S.No.  fg_class        bg_class                    Epoch used      total_points    correct    accuracy    FTPT    FFPT    FTPF    FFPF    avg_img > 0.5\n",
            "-------  --------------  --------------------------  ------------  --------------  ---------  ----------  ------  ------  ------  ------  ---------------\n",
            "      1  fg = [0, 1, 2]  bg = [3, 4, 5, 6, 7, 8, 9]  NA                     10000       9860       98.6    45.88   52.72    1.24    0.16              391\n",
            "      2  fg = [0, 1, 2]  bg = [3, 4, 5, 6, 7, 8, 9]  NA                     10000       9893       98.93   84.76   14.17    1.07    0                7008\n",
            " \n",
            "================================================================================================================================================================\n",
            " \n",
            "================================================================================================================================================================\n",
            "  S.No.  fg_class        bg_class                    Epoch used      total_points    correct    accuracy    FTPT    FFPT    FTPF    FFPF    avg_img > 0.5\n",
            "-------  --------------  --------------------------  ------------  --------------  ---------  ----------  ------  ------  ------  ------  ---------------\n",
            "      1  fg = [0, 1, 2]  bg = [3, 4, 5, 6, 7, 8, 9]  NA                     10000       3231       32.31    2.65   29.66   21.15   46.54                0\n",
            "      2  fg = [0, 1, 2]  bg = [3, 4, 5, 6, 7, 8, 9]  NA                     10000       3255       32.55    3.86   28.69    3.23   64.22               81\n",
            " \n",
            "================================================================================================================================================================\n",
            " \n",
            "================================================================================================================================================================\n",
            "  S.No.  fg_class        bg_class                    Epoch used      total_points    correct    accuracy    FTPT    FFPT    FTPF    FFPF    avg_img > 0.5\n",
            "-------  --------------  --------------------------  ------------  --------------  ---------  ----------  ------  ------  ------  ------  ---------------\n",
            "      1  fg = [0, 1, 2]  bg = [3, 4, 5, 6, 7, 8, 9]  NA                     10000       3224       32.24    2.32   29.92   19.7    48.06                0\n",
            "      2  fg = [0, 1, 2]  bg = [3, 4, 5, 6, 7, 8, 9]  NA                     10000       3283       32.83    3.39   29.44    2.84   64.33               85\n",
            " \n",
            "================================================================================================================================================================\n",
            "[1,    40] loss: 1.099\n",
            "[1,    80] loss: 1.099\n",
            "[1,   120] loss: 1.098\n",
            "[2,    40] loss: 1.098\n",
            "[2,    80] loss: 1.099\n",
            "[2,   120] loss: 1.098\n",
            "[3,    40] loss: 1.098\n",
            "[3,    80] loss: 1.098\n",
            "[3,   120] loss: 1.098\n",
            "[4,    40] loss: 1.098\n",
            "[4,    80] loss: 1.098\n",
            "[4,   120] loss: 1.097\n",
            "[5,    40] loss: 1.097\n",
            "[5,    80] loss: 1.097\n",
            "[5,   120] loss: 1.095\n",
            "[6,    40] loss: 1.094\n",
            "[6,    80] loss: 1.093\n",
            "[6,   120] loss: 1.091\n",
            "[7,    40] loss: 1.090\n",
            "[7,    80] loss: 1.086\n",
            "[7,   120] loss: 1.085\n",
            "[8,    40] loss: 1.082\n",
            "[8,    80] loss: 1.082\n",
            "[8,   120] loss: 1.080\n",
            "[9,    40] loss: 1.077\n",
            "[9,    80] loss: 1.079\n",
            "[9,   120] loss: 1.078\n",
            "[10,    40] loss: 1.076\n",
            "[10,    80] loss: 1.075\n",
            "[10,   120] loss: 1.074\n",
            "[11,    40] loss: 1.074\n",
            "[11,    80] loss: 1.074\n",
            "[11,   120] loss: 1.069\n",
            "[12,    40] loss: 1.071\n",
            "[12,    80] loss: 1.069\n",
            "[12,   120] loss: 1.067\n",
            "[13,    40] loss: 1.069\n",
            "[13,    80] loss: 1.069\n",
            "[13,   120] loss: 1.064\n",
            "[14,    40] loss: 1.066\n",
            "[14,    80] loss: 1.066\n",
            "[14,   120] loss: 1.061\n",
            "[15,    40] loss: 1.057\n",
            "[15,    80] loss: 1.064\n",
            "[15,   120] loss: 1.058\n",
            "[16,    40] loss: 1.057\n",
            "[16,    80] loss: 1.052\n",
            "[16,   120] loss: 1.049\n",
            "[17,    40] loss: 1.051\n",
            "[17,    80] loss: 1.043\n",
            "[17,   120] loss: 1.051\n",
            "[18,    40] loss: 1.047\n",
            "[18,    80] loss: 1.042\n",
            "[18,   120] loss: 1.042\n",
            "[19,    40] loss: 1.043\n",
            "[19,    80] loss: 1.028\n",
            "[19,   120] loss: 1.037\n",
            "[20,    40] loss: 1.024\n",
            "[20,    80] loss: 1.010\n",
            "[20,   120] loss: 0.985\n",
            "[21,    40] loss: 0.932\n",
            "[21,    80] loss: 0.746\n",
            "[21,   120] loss: 0.351\n",
            "[22,    40] loss: 0.226\n",
            "[22,    80] loss: 0.135\n",
            "[22,   120] loss: 0.092\n",
            "[23,    40] loss: 0.057\n",
            "[23,    80] loss: 0.042\n",
            "[23,   120] loss: 0.037\n",
            "Finished Training\n",
            " \n",
            "================================================================================================================================================================\n",
            "  S.No.  fg_class        bg_class                      Epoch used    total_points    correct    accuracy     FTPT        FFPT      FTPF        FFPF    avg_img > 0.5\n",
            "-------  --------------  --------------------------  ------------  --------------  ---------  ----------  -------  ----------  --------  ----------  ---------------\n",
            "      1  fg = [0, 1, 2]  bg = [3, 4, 5, 6, 7, 8, 9]            39           30000      29614     98.7133  47.3167  51.3967     1.06667   0.22                   1077\n",
            "      2  fg = [0, 1, 2]  bg = [3, 4, 5, 6, 7, 8, 9]            30           30000      29793     99.31    85.15    14.16       0.686667  0.00333333            21038\n",
            "      3  fg = [0, 1, 2]  bg = [3, 4, 5, 6, 7, 8, 9]            22           30000      29695     98.9833  98.9567   0.0266667  1.01667   0                     29994\n",
            " \n",
            "================================================================================================================================================================\n",
            " \n",
            "================================================================================================================================================================\n",
            "  S.No.  fg_class        bg_class                    Epoch used      total_points    correct    accuracy    FTPT    FFPT    FTPF    FFPF    avg_img > 0.5\n",
            "-------  --------------  --------------------------  ------------  --------------  ---------  ----------  ------  ------  ------  ------  ---------------\n",
            "      1  fg = [0, 1, 2]  bg = [3, 4, 5, 6, 7, 8, 9]  NA                     10000       9823       98.23   47.63   50.6     1.54    0.23              373\n",
            "      2  fg = [0, 1, 2]  bg = [3, 4, 5, 6, 7, 8, 9]  NA                     10000       9928       99.28   84.86   14.42    0.72    0                6961\n",
            "      3  fg = [0, 1, 2]  bg = [3, 4, 5, 6, 7, 8, 9]  NA                     10000       9880       98.8    98.76    0.04    1.2     0                9998\n",
            " \n",
            "================================================================================================================================================================\n",
            " \n",
            "================================================================================================================================================================\n",
            "  S.No.  fg_class        bg_class                    Epoch used      total_points    correct    accuracy    FTPT    FFPT    FTPF    FFPF    avg_img > 0.5\n",
            "-------  --------------  --------------------------  ------------  --------------  ---------  ----------  ------  ------  ------  ------  ---------------\n",
            "      1  fg = [0, 1, 2]  bg = [3, 4, 5, 6, 7, 8, 9]  NA                     10000       9860       98.6    45.88   52.72    1.24    0.16              391\n",
            "      2  fg = [0, 1, 2]  bg = [3, 4, 5, 6, 7, 8, 9]  NA                     10000       9893       98.93   84.76   14.17    1.07    0                7008\n",
            "      3  fg = [0, 1, 2]  bg = [3, 4, 5, 6, 7, 8, 9]  NA                     10000       9862       98.62   98.58    0.04    1.38    0                9999\n",
            " \n",
            "================================================================================================================================================================\n",
            " \n",
            "================================================================================================================================================================\n",
            "  S.No.  fg_class        bg_class                    Epoch used      total_points    correct    accuracy    FTPT    FFPT    FTPF    FFPF    avg_img > 0.5\n",
            "-------  --------------  --------------------------  ------------  --------------  ---------  ----------  ------  ------  ------  ------  ---------------\n",
            "      1  fg = [0, 1, 2]  bg = [3, 4, 5, 6, 7, 8, 9]  NA                     10000       3231       32.31    2.65   29.66   21.15   46.54                0\n",
            "      2  fg = [0, 1, 2]  bg = [3, 4, 5, 6, 7, 8, 9]  NA                     10000       3255       32.55    3.86   28.69    3.23   64.22               81\n",
            "      3  fg = [0, 1, 2]  bg = [3, 4, 5, 6, 7, 8, 9]  NA                     10000       3286       32.86    4.18   28.68    9.87   57.27             3308\n",
            " \n",
            "================================================================================================================================================================\n",
            " \n",
            "================================================================================================================================================================\n",
            "  S.No.  fg_class        bg_class                    Epoch used      total_points    correct    accuracy    FTPT    FFPT    FTPF    FFPF    avg_img > 0.5\n",
            "-------  --------------  --------------------------  ------------  --------------  ---------  ----------  ------  ------  ------  ------  ---------------\n",
            "      1  fg = [0, 1, 2]  bg = [3, 4, 5, 6, 7, 8, 9]  NA                     10000       3224       32.24    2.32   29.92   19.7    48.06                0\n",
            "      2  fg = [0, 1, 2]  bg = [3, 4, 5, 6, 7, 8, 9]  NA                     10000       3283       32.83    3.39   29.44    2.84   64.33               85\n",
            "      3  fg = [0, 1, 2]  bg = [3, 4, 5, 6, 7, 8, 9]  NA                     10000       3303       33.03    3.65   29.38    8.85   58.12             3288\n",
            " \n",
            "================================================================================================================================================================\n",
            "[1,    40] loss: 1.111\n",
            "[1,    80] loss: 1.099\n",
            "[1,   120] loss: 1.098\n",
            "[2,    40] loss: 1.099\n",
            "[2,    80] loss: 1.099\n",
            "[2,   120] loss: 1.099\n",
            "[3,    40] loss: 1.099\n",
            "[3,    80] loss: 1.098\n",
            "[3,   120] loss: 1.098\n",
            "[4,    40] loss: 1.099\n",
            "[4,    80] loss: 1.098\n",
            "[4,   120] loss: 1.098\n",
            "[5,    40] loss: 1.098\n",
            "[5,    80] loss: 1.098\n",
            "[5,   120] loss: 1.098\n",
            "[6,    40] loss: 1.098\n",
            "[6,    80] loss: 1.097\n",
            "[6,   120] loss: 1.097\n",
            "[7,    40] loss: 1.097\n",
            "[7,    80] loss: 1.096\n",
            "[7,   120] loss: 1.095\n",
            "[8,    40] loss: 1.094\n",
            "[8,    80] loss: 1.093\n",
            "[8,   120] loss: 1.091\n",
            "[9,    40] loss: 1.090\n",
            "[9,    80] loss: 1.086\n",
            "[9,   120] loss: 1.085\n",
            "[10,    40] loss: 1.083\n",
            "[10,    80] loss: 1.082\n",
            "[10,   120] loss: 1.084\n",
            "[11,    40] loss: 1.083\n",
            "[11,    80] loss: 1.081\n",
            "[11,   120] loss: 1.077\n",
            "[12,    40] loss: 1.082\n",
            "[12,    80] loss: 1.076\n",
            "[12,   120] loss: 1.075\n",
            "[13,    40] loss: 1.076\n",
            "[13,    80] loss: 1.074\n",
            "[13,   120] loss: 1.074\n",
            "[14,    40] loss: 1.071\n",
            "[14,    80] loss: 1.070\n",
            "[14,   120] loss: 1.069\n",
            "[15,    40] loss: 1.065\n",
            "[15,    80] loss: 1.065\n",
            "[15,   120] loss: 1.051\n",
            "[16,    40] loss: 1.045\n",
            "[16,    80] loss: 1.024\n",
            "[16,   120] loss: 0.921\n",
            "[17,    40] loss: 0.681\n",
            "[17,    80] loss: 0.647\n",
            "[17,   120] loss: 0.508\n",
            "[18,    40] loss: 0.432\n",
            "[18,    80] loss: 0.338\n",
            "[18,   120] loss: 0.323\n",
            "[19,    40] loss: 0.233\n",
            "[19,    80] loss: 0.199\n",
            "[19,   120] loss: 0.169\n",
            "[20,    40] loss: 0.172\n",
            "[20,    80] loss: 0.122\n",
            "[20,   120] loss: 0.102\n",
            "[21,    40] loss: 0.091\n",
            "[21,    80] loss: 0.083\n",
            "[21,   120] loss: 0.075\n",
            "[22,    40] loss: 0.068\n",
            "[22,    80] loss: 0.058\n",
            "[22,   120] loss: 0.056\n",
            "[23,    40] loss: 0.057\n",
            "[23,    80] loss: 0.053\n",
            "[23,   120] loss: 0.046\n",
            "[24,    40] loss: 0.030\n",
            "[24,    80] loss: 0.035\n",
            "[24,   120] loss: 0.033\n",
            "Finished Training\n",
            " \n",
            "================================================================================================================================================================\n",
            "  S.No.  fg_class        bg_class                      Epoch used    total_points    correct    accuracy     FTPT        FFPT      FTPF        FFPF    avg_img > 0.5\n",
            "-------  --------------  --------------------------  ------------  --------------  ---------  ----------  -------  ----------  --------  ----------  ---------------\n",
            "      1  fg = [0, 1, 2]  bg = [3, 4, 5, 6, 7, 8, 9]            39           30000      29614     98.7133  47.3167  51.3967     1.06667   0.22                   1077\n",
            "      2  fg = [0, 1, 2]  bg = [3, 4, 5, 6, 7, 8, 9]            30           30000      29793     99.31    85.15    14.16       0.686667  0.00333333            21038\n",
            "      3  fg = [0, 1, 2]  bg = [3, 4, 5, 6, 7, 8, 9]            22           30000      29695     98.9833  98.9567   0.0266667  1.01667   0                     29994\n",
            "      4  fg = [0, 1, 2]  bg = [3, 4, 5, 6, 7, 8, 9]            23           30000      29737     99.1233  35.1233  64          0.466667  0.41                      0\n",
            " \n",
            "================================================================================================================================================================\n",
            " \n",
            "================================================================================================================================================================\n",
            "  S.No.  fg_class        bg_class                    Epoch used      total_points    correct    accuracy    FTPT    FFPT    FTPF    FFPF    avg_img > 0.5\n",
            "-------  --------------  --------------------------  ------------  --------------  ---------  ----------  ------  ------  ------  ------  ---------------\n",
            "      1  fg = [0, 1, 2]  bg = [3, 4, 5, 6, 7, 8, 9]  NA                     10000       9823       98.23   47.63   50.6     1.54    0.23              373\n",
            "      2  fg = [0, 1, 2]  bg = [3, 4, 5, 6, 7, 8, 9]  NA                     10000       9928       99.28   84.86   14.42    0.72    0                6961\n",
            "      3  fg = [0, 1, 2]  bg = [3, 4, 5, 6, 7, 8, 9]  NA                     10000       9880       98.8    98.76    0.04    1.2     0                9998\n",
            "      4  fg = [0, 1, 2]  bg = [3, 4, 5, 6, 7, 8, 9]  NA                     10000       9893       98.93   34.76   64.17    0.54    0.53                0\n",
            " \n",
            "================================================================================================================================================================\n",
            " \n",
            "================================================================================================================================================================\n",
            "  S.No.  fg_class        bg_class                    Epoch used      total_points    correct    accuracy    FTPT    FFPT    FTPF    FFPF    avg_img > 0.5\n",
            "-------  --------------  --------------------------  ------------  --------------  ---------  ----------  ------  ------  ------  ------  ---------------\n",
            "      1  fg = [0, 1, 2]  bg = [3, 4, 5, 6, 7, 8, 9]  NA                     10000       9860       98.6    45.88   52.72    1.24    0.16              391\n",
            "      2  fg = [0, 1, 2]  bg = [3, 4, 5, 6, 7, 8, 9]  NA                     10000       9893       98.93   84.76   14.17    1.07    0                7008\n",
            "      3  fg = [0, 1, 2]  bg = [3, 4, 5, 6, 7, 8, 9]  NA                     10000       9862       98.62   98.58    0.04    1.38    0                9999\n",
            "      4  fg = [0, 1, 2]  bg = [3, 4, 5, 6, 7, 8, 9]  NA                     10000       9883       98.83   34.18   64.65    0.83    0.34                0\n",
            " \n",
            "================================================================================================================================================================\n",
            " \n",
            "================================================================================================================================================================\n",
            "  S.No.  fg_class        bg_class                    Epoch used      total_points    correct    accuracy    FTPT    FFPT    FTPF    FFPF    avg_img > 0.5\n",
            "-------  --------------  --------------------------  ------------  --------------  ---------  ----------  ------  ------  ------  ------  ---------------\n",
            "      1  fg = [0, 1, 2]  bg = [3, 4, 5, 6, 7, 8, 9]  NA                     10000       3231       32.31    2.65   29.66   21.15   46.54                0\n",
            "      2  fg = [0, 1, 2]  bg = [3, 4, 5, 6, 7, 8, 9]  NA                     10000       3255       32.55    3.86   28.69    3.23   64.22               81\n",
            "      3  fg = [0, 1, 2]  bg = [3, 4, 5, 6, 7, 8, 9]  NA                     10000       3286       32.86    4.18   28.68    9.87   57.27             3308\n",
            "      4  fg = [0, 1, 2]  bg = [3, 4, 5, 6, 7, 8, 9]  NA                     10000       3255       32.55    3.82   28.73   15.4    52.05                0\n",
            " \n",
            "================================================================================================================================================================\n",
            " \n",
            "================================================================================================================================================================\n",
            "  S.No.  fg_class        bg_class                    Epoch used      total_points    correct    accuracy    FTPT    FFPT    FTPF    FFPF    avg_img > 0.5\n",
            "-------  --------------  --------------------------  ------------  --------------  ---------  ----------  ------  ------  ------  ------  ---------------\n",
            "      1  fg = [0, 1, 2]  bg = [3, 4, 5, 6, 7, 8, 9]  NA                     10000       3224       32.24    2.32   29.92   19.7    48.06                0\n",
            "      2  fg = [0, 1, 2]  bg = [3, 4, 5, 6, 7, 8, 9]  NA                     10000       3283       32.83    3.39   29.44    2.84   64.33               85\n",
            "      3  fg = [0, 1, 2]  bg = [3, 4, 5, 6, 7, 8, 9]  NA                     10000       3303       33.03    3.65   29.38    8.85   58.12             3288\n",
            "      4  fg = [0, 1, 2]  bg = [3, 4, 5, 6, 7, 8, 9]  NA                     10000       3283       32.83    3.55   29.28   15.29   51.88                0\n",
            " \n",
            "================================================================================================================================================================\n",
            "[1,    40] loss: 1.106\n",
            "[1,    80] loss: 1.098\n",
            "[1,   120] loss: 1.099\n",
            "[2,    40] loss: 1.099\n",
            "[2,    80] loss: 1.098\n",
            "[2,   120] loss: 1.099\n",
            "[3,    40] loss: 1.099\n",
            "[3,    80] loss: 1.099\n",
            "[3,   120] loss: 1.099\n",
            "[4,    40] loss: 1.099\n",
            "[4,    80] loss: 1.099\n",
            "[4,   120] loss: 1.099\n",
            "[5,    40] loss: 1.098\n",
            "[5,    80] loss: 1.099\n",
            "[5,   120] loss: 1.099\n",
            "[6,    40] loss: 1.099\n",
            "[6,    80] loss: 1.099\n",
            "[6,   120] loss: 1.099\n",
            "[7,    40] loss: 1.099\n",
            "[7,    80] loss: 1.099\n",
            "[7,   120] loss: 1.098\n",
            "[8,    40] loss: 1.098\n",
            "[8,    80] loss: 1.099\n",
            "[8,   120] loss: 1.099\n",
            "[9,    40] loss: 1.099\n",
            "[9,    80] loss: 1.098\n",
            "[9,   120] loss: 1.099\n",
            "[10,    40] loss: 1.098\n",
            "[10,    80] loss: 1.099\n",
            "[10,   120] loss: 1.098\n",
            "[11,    40] loss: 1.098\n",
            "[11,    80] loss: 1.098\n",
            "[11,   120] loss: 1.098\n",
            "[12,    40] loss: 1.098\n",
            "[12,    80] loss: 1.098\n",
            "[12,   120] loss: 1.098\n",
            "[13,    40] loss: 1.098\n",
            "[13,    80] loss: 1.098\n",
            "[13,   120] loss: 1.098\n",
            "[14,    40] loss: 1.097\n",
            "[14,    80] loss: 1.097\n",
            "[14,   120] loss: 1.097\n",
            "[15,    40] loss: 1.096\n",
            "[15,    80] loss: 1.096\n",
            "[15,   120] loss: 1.095\n",
            "[16,    40] loss: 1.094\n",
            "[16,    80] loss: 1.093\n",
            "[16,   120] loss: 1.091\n",
            "[17,    40] loss: 1.089\n",
            "[17,    80] loss: 1.085\n",
            "[17,   120] loss: 1.086\n",
            "[18,    40] loss: 1.083\n",
            "[18,    80] loss: 1.084\n",
            "[18,   120] loss: 1.077\n",
            "[19,    40] loss: 1.078\n",
            "[19,    80] loss: 1.079\n",
            "[19,   120] loss: 1.075\n",
            "[20,    40] loss: 1.074\n",
            "[20,    80] loss: 1.068\n",
            "[20,   120] loss: 1.067\n",
            "[21,    40] loss: 1.057\n",
            "[21,    80] loss: 1.048\n",
            "[21,   120] loss: 1.021\n",
            "[22,    40] loss: 0.923\n",
            "[22,    80] loss: 0.690\n",
            "[22,   120] loss: 0.586\n",
            "[23,    40] loss: 0.598\n",
            "[23,    80] loss: 0.521\n",
            "[23,   120] loss: 0.481\n",
            "[24,    40] loss: 0.428\n",
            "[24,    80] loss: 0.337\n",
            "[24,   120] loss: 0.250\n",
            "[25,    40] loss: 0.193\n",
            "[25,    80] loss: 0.156\n",
            "[25,   120] loss: 0.137\n",
            "[26,    40] loss: 0.124\n",
            "[26,    80] loss: 0.135\n",
            "[26,   120] loss: 0.102\n",
            "[27,    40] loss: 0.116\n",
            "[27,    80] loss: 0.096\n",
            "[27,   120] loss: 0.077\n",
            "[28,    40] loss: 0.086\n",
            "[28,    80] loss: 0.063\n",
            "[28,   120] loss: 0.054\n",
            "[29,    40] loss: 0.045\n",
            "[29,    80] loss: 0.043\n",
            "[29,   120] loss: 0.039\n",
            "Finished Training\n",
            " \n",
            "================================================================================================================================================================\n",
            "  S.No.  fg_class        bg_class                      Epoch used    total_points    correct    accuracy     FTPT        FFPT      FTPF        FFPF    avg_img > 0.5\n",
            "-------  --------------  --------------------------  ------------  --------------  ---------  ----------  -------  ----------  --------  ----------  ---------------\n",
            "      1  fg = [0, 1, 2]  bg = [3, 4, 5, 6, 7, 8, 9]            39           30000      29614     98.7133  47.3167  51.3967     1.06667   0.22                   1077\n",
            "      2  fg = [0, 1, 2]  bg = [3, 4, 5, 6, 7, 8, 9]            30           30000      29793     99.31    85.15    14.16       0.686667  0.00333333            21038\n",
            "      3  fg = [0, 1, 2]  bg = [3, 4, 5, 6, 7, 8, 9]            22           30000      29695     98.9833  98.9567   0.0266667  1.01667   0                     29994\n",
            "      4  fg = [0, 1, 2]  bg = [3, 4, 5, 6, 7, 8, 9]            23           30000      29737     99.1233  35.1233  64          0.466667  0.41                      0\n",
            "      5  fg = [0, 1, 2]  bg = [3, 4, 5, 6, 7, 8, 9]            28           30000      29536     98.4533  35.0433  63.41       0.8       0.746667                  0\n",
            " \n",
            "================================================================================================================================================================\n",
            " \n",
            "================================================================================================================================================================\n",
            "  S.No.  fg_class        bg_class                    Epoch used      total_points    correct    accuracy    FTPT    FFPT    FTPF    FFPF    avg_img > 0.5\n",
            "-------  --------------  --------------------------  ------------  --------------  ---------  ----------  ------  ------  ------  ------  ---------------\n",
            "      1  fg = [0, 1, 2]  bg = [3, 4, 5, 6, 7, 8, 9]  NA                     10000       9823       98.23   47.63   50.6     1.54    0.23              373\n",
            "      2  fg = [0, 1, 2]  bg = [3, 4, 5, 6, 7, 8, 9]  NA                     10000       9928       99.28   84.86   14.42    0.72    0                6961\n",
            "      3  fg = [0, 1, 2]  bg = [3, 4, 5, 6, 7, 8, 9]  NA                     10000       9880       98.8    98.76    0.04    1.2     0                9998\n",
            "      4  fg = [0, 1, 2]  bg = [3, 4, 5, 6, 7, 8, 9]  NA                     10000       9893       98.93   34.76   64.17    0.54    0.53                0\n",
            "      5  fg = [0, 1, 2]  bg = [3, 4, 5, 6, 7, 8, 9]  NA                     10000       9844       98.44   35.29   63.15    0.68    0.88                0\n",
            " \n",
            "================================================================================================================================================================\n",
            " \n",
            "================================================================================================================================================================\n",
            "  S.No.  fg_class        bg_class                    Epoch used      total_points    correct    accuracy    FTPT    FFPT    FTPF    FFPF    avg_img > 0.5\n",
            "-------  --------------  --------------------------  ------------  --------------  ---------  ----------  ------  ------  ------  ------  ---------------\n",
            "      1  fg = [0, 1, 2]  bg = [3, 4, 5, 6, 7, 8, 9]  NA                     10000       9860       98.6    45.88   52.72    1.24    0.16              391\n",
            "      2  fg = [0, 1, 2]  bg = [3, 4, 5, 6, 7, 8, 9]  NA                     10000       9893       98.93   84.76   14.17    1.07    0                7008\n",
            "      3  fg = [0, 1, 2]  bg = [3, 4, 5, 6, 7, 8, 9]  NA                     10000       9862       98.62   98.58    0.04    1.38    0                9999\n",
            "      4  fg = [0, 1, 2]  bg = [3, 4, 5, 6, 7, 8, 9]  NA                     10000       9883       98.83   34.18   64.65    0.83    0.34                0\n",
            "      5  fg = [0, 1, 2]  bg = [3, 4, 5, 6, 7, 8, 9]  NA                     10000       9858       98.58   35.18   63.4     0.86    0.56                0\n",
            " \n",
            "================================================================================================================================================================\n",
            " \n",
            "================================================================================================================================================================\n",
            "  S.No.  fg_class        bg_class                    Epoch used      total_points    correct    accuracy    FTPT    FFPT    FTPF    FFPF    avg_img > 0.5\n",
            "-------  --------------  --------------------------  ------------  --------------  ---------  ----------  ------  ------  ------  ------  ---------------\n",
            "      1  fg = [0, 1, 2]  bg = [3, 4, 5, 6, 7, 8, 9]  NA                     10000       3231       32.31    2.65   29.66   21.15   46.54                0\n",
            "      2  fg = [0, 1, 2]  bg = [3, 4, 5, 6, 7, 8, 9]  NA                     10000       3255       32.55    3.86   28.69    3.23   64.22               81\n",
            "      3  fg = [0, 1, 2]  bg = [3, 4, 5, 6, 7, 8, 9]  NA                     10000       3286       32.86    4.18   28.68    9.87   57.27             3308\n",
            "      4  fg = [0, 1, 2]  bg = [3, 4, 5, 6, 7, 8, 9]  NA                     10000       3255       32.55    3.82   28.73   15.4    52.05                0\n",
            "      5  fg = [0, 1, 2]  bg = [3, 4, 5, 6, 7, 8, 9]  NA                     10000       3255       32.55    3.58   28.97   22.06   45.39                0\n",
            " \n",
            "================================================================================================================================================================\n",
            " \n",
            "================================================================================================================================================================\n",
            "  S.No.  fg_class        bg_class                    Epoch used      total_points    correct    accuracy    FTPT    FFPT    FTPF    FFPF    avg_img > 0.5\n",
            "-------  --------------  --------------------------  ------------  --------------  ---------  ----------  ------  ------  ------  ------  ---------------\n",
            "      1  fg = [0, 1, 2]  bg = [3, 4, 5, 6, 7, 8, 9]  NA                     10000       3224       32.24    2.32   29.92   19.7    48.06                0\n",
            "      2  fg = [0, 1, 2]  bg = [3, 4, 5, 6, 7, 8, 9]  NA                     10000       3283       32.83    3.39   29.44    2.84   64.33               85\n",
            "      3  fg = [0, 1, 2]  bg = [3, 4, 5, 6, 7, 8, 9]  NA                     10000       3303       33.03    3.65   29.38    8.85   58.12             3288\n",
            "      4  fg = [0, 1, 2]  bg = [3, 4, 5, 6, 7, 8, 9]  NA                     10000       3283       32.83    3.55   29.28   15.29   51.88                0\n",
            "      5  fg = [0, 1, 2]  bg = [3, 4, 5, 6, 7, 8, 9]  NA                     10000       3283       32.83    2.98   29.85   22.05   45.12                0\n",
            " \n",
            "================================================================================================================================================================\n",
            "[1,    40] loss: 1.100\n",
            "[1,    80] loss: 1.098\n",
            "[1,   120] loss: 1.098\n",
            "[2,    40] loss: 1.098\n",
            "[2,    80] loss: 1.098\n",
            "[2,   120] loss: 1.098\n",
            "[3,    40] loss: 1.098\n",
            "[3,    80] loss: 1.098\n",
            "[3,   120] loss: 1.098\n",
            "[4,    40] loss: 1.097\n",
            "[4,    80] loss: 1.097\n",
            "[4,   120] loss: 1.097\n",
            "[5,    40] loss: 1.097\n",
            "[5,    80] loss: 1.096\n",
            "[5,   120] loss: 1.096\n",
            "[6,    40] loss: 1.095\n",
            "[6,    80] loss: 1.094\n",
            "[6,   120] loss: 1.093\n",
            "[7,    40] loss: 1.092\n",
            "[7,    80] loss: 1.090\n",
            "[7,   120] loss: 1.088\n",
            "[8,    40] loss: 1.087\n",
            "[8,    80] loss: 1.083\n",
            "[8,   120] loss: 1.081\n",
            "[9,    40] loss: 1.079\n",
            "[9,    80] loss: 1.079\n",
            "[9,   120] loss: 1.076\n",
            "[10,    40] loss: 1.075\n",
            "[10,    80] loss: 1.074\n",
            "[10,   120] loss: 1.074\n",
            "[11,    40] loss: 1.072\n",
            "[11,    80] loss: 1.073\n",
            "[11,   120] loss: 1.070\n",
            "[12,    40] loss: 1.068\n",
            "[12,    80] loss: 1.070\n",
            "[12,   120] loss: 1.070\n",
            "[13,    40] loss: 1.070\n",
            "[13,    80] loss: 1.065\n",
            "[13,   120] loss: 1.061\n",
            "[14,    40] loss: 1.063\n",
            "[14,    80] loss: 1.060\n",
            "[14,   120] loss: 1.059\n",
            "[15,    40] loss: 1.053\n",
            "[15,    80] loss: 1.056\n",
            "[15,   120] loss: 1.052\n",
            "[16,    40] loss: 1.040\n",
            "[16,    80] loss: 1.029\n",
            "[16,   120] loss: 0.999\n",
            "[17,    40] loss: 0.888\n",
            "[17,    80] loss: 0.635\n",
            "[17,   120] loss: 0.405\n",
            "[18,    40] loss: 0.326\n",
            "[18,    80] loss: 0.222\n",
            "[18,   120] loss: 0.202\n",
            "[19,    40] loss: 0.156\n",
            "[19,    80] loss: 0.135\n",
            "[19,   120] loss: 0.183\n",
            "[20,    40] loss: 0.137\n",
            "[20,    80] loss: 0.118\n",
            "[20,   120] loss: 0.107\n",
            "[21,    40] loss: 0.095\n",
            "[21,    80] loss: 0.098\n",
            "[21,   120] loss: 0.086\n",
            "[22,    40] loss: 0.076\n",
            "[22,    80] loss: 0.070\n",
            "[22,   120] loss: 0.057\n",
            "[23,    40] loss: 0.053\n",
            "[23,    80] loss: 0.047\n",
            "[23,   120] loss: 0.038\n",
            "Finished Training\n",
            " \n",
            "================================================================================================================================================================\n",
            "  S.No.  fg_class        bg_class                      Epoch used    total_points    correct    accuracy     FTPT        FFPT      FTPF        FFPF    avg_img > 0.5\n",
            "-------  --------------  --------------------------  ------------  --------------  ---------  ----------  -------  ----------  --------  ----------  ---------------\n",
            "      1  fg = [0, 1, 2]  bg = [3, 4, 5, 6, 7, 8, 9]            39           30000      29614     98.7133  47.3167  51.3967     1.06667   0.22                   1077\n",
            "      2  fg = [0, 1, 2]  bg = [3, 4, 5, 6, 7, 8, 9]            30           30000      29793     99.31    85.15    14.16       0.686667  0.00333333            21038\n",
            "      3  fg = [0, 1, 2]  bg = [3, 4, 5, 6, 7, 8, 9]            22           30000      29695     98.9833  98.9567   0.0266667  1.01667   0                     29994\n",
            "      4  fg = [0, 1, 2]  bg = [3, 4, 5, 6, 7, 8, 9]            23           30000      29737     99.1233  35.1233  64          0.466667  0.41                      0\n",
            "      5  fg = [0, 1, 2]  bg = [3, 4, 5, 6, 7, 8, 9]            28           30000      29536     98.4533  35.0433  63.41       0.8       0.746667                  0\n",
            "      6  fg = [0, 1, 2]  bg = [3, 4, 5, 6, 7, 8, 9]            22           30000      29666     98.8867  86.51    12.3767     1.07333   0.04                   7070\n",
            " \n",
            "================================================================================================================================================================\n",
            " \n",
            "================================================================================================================================================================\n",
            "  S.No.  fg_class        bg_class                    Epoch used      total_points    correct    accuracy    FTPT    FFPT    FTPF    FFPF    avg_img > 0.5\n",
            "-------  --------------  --------------------------  ------------  --------------  ---------  ----------  ------  ------  ------  ------  ---------------\n",
            "      1  fg = [0, 1, 2]  bg = [3, 4, 5, 6, 7, 8, 9]  NA                     10000       9823       98.23   47.63   50.6     1.54    0.23              373\n",
            "      2  fg = [0, 1, 2]  bg = [3, 4, 5, 6, 7, 8, 9]  NA                     10000       9928       99.28   84.86   14.42    0.72    0                6961\n",
            "      3  fg = [0, 1, 2]  bg = [3, 4, 5, 6, 7, 8, 9]  NA                     10000       9880       98.8    98.76    0.04    1.2     0                9998\n",
            "      4  fg = [0, 1, 2]  bg = [3, 4, 5, 6, 7, 8, 9]  NA                     10000       9893       98.93   34.76   64.17    0.54    0.53                0\n",
            "      5  fg = [0, 1, 2]  bg = [3, 4, 5, 6, 7, 8, 9]  NA                     10000       9844       98.44   35.29   63.15    0.68    0.88                0\n",
            "      6  fg = [0, 1, 2]  bg = [3, 4, 5, 6, 7, 8, 9]  NA                     10000       9876       98.76   86.5    12.26    1.2     0.04             2400\n",
            " \n",
            "================================================================================================================================================================\n",
            " \n",
            "================================================================================================================================================================\n",
            "  S.No.  fg_class        bg_class                    Epoch used      total_points    correct    accuracy    FTPT    FFPT    FTPF    FFPF    avg_img > 0.5\n",
            "-------  --------------  --------------------------  ------------  --------------  ---------  ----------  ------  ------  ------  ------  ---------------\n",
            "      1  fg = [0, 1, 2]  bg = [3, 4, 5, 6, 7, 8, 9]  NA                     10000       9860       98.6    45.88   52.72    1.24    0.16              391\n",
            "      2  fg = [0, 1, 2]  bg = [3, 4, 5, 6, 7, 8, 9]  NA                     10000       9893       98.93   84.76   14.17    1.07    0                7008\n",
            "      3  fg = [0, 1, 2]  bg = [3, 4, 5, 6, 7, 8, 9]  NA                     10000       9862       98.62   98.58    0.04    1.38    0                9999\n",
            "      4  fg = [0, 1, 2]  bg = [3, 4, 5, 6, 7, 8, 9]  NA                     10000       9883       98.83   34.18   64.65    0.83    0.34                0\n",
            "      5  fg = [0, 1, 2]  bg = [3, 4, 5, 6, 7, 8, 9]  NA                     10000       9858       98.58   35.18   63.4     0.86    0.56                0\n",
            "      6  fg = [0, 1, 2]  bg = [3, 4, 5, 6, 7, 8, 9]  NA                     10000       9835       98.35   84.74   13.61    1.62    0.03             2415\n",
            " \n",
            "================================================================================================================================================================\n",
            " \n",
            "================================================================================================================================================================\n",
            "  S.No.  fg_class        bg_class                    Epoch used      total_points    correct    accuracy    FTPT    FFPT    FTPF    FFPF    avg_img > 0.5\n",
            "-------  --------------  --------------------------  ------------  --------------  ---------  ----------  ------  ------  ------  ------  ---------------\n",
            "      1  fg = [0, 1, 2]  bg = [3, 4, 5, 6, 7, 8, 9]  NA                     10000       3231       32.31    2.65   29.66   21.15   46.54                0\n",
            "      2  fg = [0, 1, 2]  bg = [3, 4, 5, 6, 7, 8, 9]  NA                     10000       3255       32.55    3.86   28.69    3.23   64.22               81\n",
            "      3  fg = [0, 1, 2]  bg = [3, 4, 5, 6, 7, 8, 9]  NA                     10000       3286       32.86    4.18   28.68    9.87   57.27             3308\n",
            "      4  fg = [0, 1, 2]  bg = [3, 4, 5, 6, 7, 8, 9]  NA                     10000       3255       32.55    3.82   28.73   15.4    52.05                0\n",
            "      5  fg = [0, 1, 2]  bg = [3, 4, 5, 6, 7, 8, 9]  NA                     10000       3255       32.55    3.58   28.97   22.06   45.39                0\n",
            "      6  fg = [0, 1, 2]  bg = [3, 4, 5, 6, 7, 8, 9]  NA                     10000       3456       34.56    1.75   32.81   11.09   54.35                0\n",
            " \n",
            "================================================================================================================================================================\n",
            " \n",
            "================================================================================================================================================================\n",
            "  S.No.  fg_class        bg_class                    Epoch used      total_points    correct    accuracy    FTPT    FFPT    FTPF    FFPF    avg_img > 0.5\n",
            "-------  --------------  --------------------------  ------------  --------------  ---------  ----------  ------  ------  ------  ------  ---------------\n",
            "      1  fg = [0, 1, 2]  bg = [3, 4, 5, 6, 7, 8, 9]  NA                     10000       3224       32.24    2.32   29.92   19.7    48.06                0\n",
            "      2  fg = [0, 1, 2]  bg = [3, 4, 5, 6, 7, 8, 9]  NA                     10000       3283       32.83    3.39   29.44    2.84   64.33               85\n",
            "      3  fg = [0, 1, 2]  bg = [3, 4, 5, 6, 7, 8, 9]  NA                     10000       3303       33.03    3.65   29.38    8.85   58.12             3288\n",
            "      4  fg = [0, 1, 2]  bg = [3, 4, 5, 6, 7, 8, 9]  NA                     10000       3283       32.83    3.55   29.28   15.29   51.88                0\n",
            "      5  fg = [0, 1, 2]  bg = [3, 4, 5, 6, 7, 8, 9]  NA                     10000       3283       32.83    2.98   29.85   22.05   45.12                0\n",
            "      6  fg = [0, 1, 2]  bg = [3, 4, 5, 6, 7, 8, 9]  NA                     10000       3440       34.4     1.66   32.74   11.6    54                   0\n",
            " \n",
            "================================================================================================================================================================\n",
            "[1,    40] loss: 1.106\n",
            "[1,    80] loss: 1.099\n",
            "[1,   120] loss: 1.099\n",
            "[2,    40] loss: 1.099\n",
            "[2,    80] loss: 1.099\n",
            "[2,   120] loss: 1.099\n",
            "[3,    40] loss: 1.099\n",
            "[3,    80] loss: 1.098\n",
            "[3,   120] loss: 1.098\n",
            "[4,    40] loss: 1.098\n",
            "[4,    80] loss: 1.098\n",
            "[4,   120] loss: 1.098\n",
            "[5,    40] loss: 1.098\n",
            "[5,    80] loss: 1.098\n",
            "[5,   120] loss: 1.098\n",
            "[6,    40] loss: 1.098\n",
            "[6,    80] loss: 1.098\n",
            "[6,   120] loss: 1.097\n",
            "[7,    40] loss: 1.097\n",
            "[7,    80] loss: 1.097\n",
            "[7,   120] loss: 1.096\n",
            "[8,    40] loss: 1.095\n",
            "[8,    80] loss: 1.094\n",
            "[8,   120] loss: 1.092\n",
            "[9,    40] loss: 1.090\n",
            "[9,    80] loss: 1.086\n",
            "[9,   120] loss: 1.083\n",
            "[10,    40] loss: 1.081\n",
            "[10,    80] loss: 1.082\n",
            "[10,   120] loss: 1.078\n",
            "[11,    40] loss: 1.073\n",
            "[11,    80] loss: 1.074\n",
            "[11,   120] loss: 1.071\n",
            "[12,    40] loss: 1.069\n",
            "[12,    80] loss: 1.069\n",
            "[12,   120] loss: 1.064\n",
            "[13,    40] loss: 1.063\n",
            "[13,    80] loss: 1.061\n",
            "[13,   120] loss: 1.064\n",
            "[14,    40] loss: 1.054\n",
            "[14,    80] loss: 1.059\n",
            "[14,   120] loss: 1.054\n",
            "[15,    40] loss: 1.043\n",
            "[15,    80] loss: 1.039\n",
            "[15,   120] loss: 1.015\n",
            "[16,    40] loss: 0.985\n",
            "[16,    80] loss: 0.918\n",
            "[16,   120] loss: 0.739\n",
            "[17,    40] loss: 0.491\n",
            "[17,    80] loss: 0.385\n",
            "[17,   120] loss: 0.275\n",
            "[18,    40] loss: 0.220\n",
            "[18,    80] loss: 0.182\n",
            "[18,   120] loss: 0.165\n",
            "[19,    40] loss: 0.162\n",
            "[19,    80] loss: 0.137\n",
            "[19,   120] loss: 0.113\n",
            "[20,    40] loss: 0.102\n",
            "[20,    80] loss: 0.115\n",
            "[20,   120] loss: 0.081\n",
            "[21,    40] loss: 0.076\n",
            "[21,    80] loss: 0.062\n",
            "[21,   120] loss: 0.068\n",
            "[22,    40] loss: 0.055\n",
            "[22,    80] loss: 0.052\n",
            "[22,   120] loss: 0.054\n",
            "[23,    40] loss: 0.073\n",
            "[23,    80] loss: 0.037\n",
            "[23,   120] loss: 0.035\n",
            "Finished Training\n",
            " \n",
            "================================================================================================================================================================\n",
            "  S.No.  fg_class        bg_class                      Epoch used    total_points    correct    accuracy     FTPT        FFPT      FTPF        FFPF    avg_img > 0.5\n",
            "-------  --------------  --------------------------  ------------  --------------  ---------  ----------  -------  ----------  --------  ----------  ---------------\n",
            "      1  fg = [0, 1, 2]  bg = [3, 4, 5, 6, 7, 8, 9]            39           30000      29614     98.7133  47.3167  51.3967     1.06667   0.22                   1077\n",
            "      2  fg = [0, 1, 2]  bg = [3, 4, 5, 6, 7, 8, 9]            30           30000      29793     99.31    85.15    14.16       0.686667  0.00333333            21038\n",
            "      3  fg = [0, 1, 2]  bg = [3, 4, 5, 6, 7, 8, 9]            22           30000      29695     98.9833  98.9567   0.0266667  1.01667   0                     29994\n",
            "      4  fg = [0, 1, 2]  bg = [3, 4, 5, 6, 7, 8, 9]            23           30000      29737     99.1233  35.1233  64          0.466667  0.41                      0\n",
            "      5  fg = [0, 1, 2]  bg = [3, 4, 5, 6, 7, 8, 9]            28           30000      29536     98.4533  35.0433  63.41       0.8       0.746667                  0\n",
            "      6  fg = [0, 1, 2]  bg = [3, 4, 5, 6, 7, 8, 9]            22           30000      29666     98.8867  86.51    12.3767     1.07333   0.04                   7070\n",
            "      7  fg = [0, 1, 2]  bg = [3, 4, 5, 6, 7, 8, 9]            22           30000      29739     99.13    24.9467  74.1833     0.14      0.73                      0\n",
            " \n",
            "================================================================================================================================================================\n",
            " \n",
            "================================================================================================================================================================\n",
            "  S.No.  fg_class        bg_class                    Epoch used      total_points    correct    accuracy    FTPT    FFPT    FTPF    FFPF    avg_img > 0.5\n",
            "-------  --------------  --------------------------  ------------  --------------  ---------  ----------  ------  ------  ------  ------  ---------------\n",
            "      1  fg = [0, 1, 2]  bg = [3, 4, 5, 6, 7, 8, 9]  NA                     10000       9823       98.23   47.63   50.6     1.54    0.23              373\n",
            "      2  fg = [0, 1, 2]  bg = [3, 4, 5, 6, 7, 8, 9]  NA                     10000       9928       99.28   84.86   14.42    0.72    0                6961\n",
            "      3  fg = [0, 1, 2]  bg = [3, 4, 5, 6, 7, 8, 9]  NA                     10000       9880       98.8    98.76    0.04    1.2     0                9998\n",
            "      4  fg = [0, 1, 2]  bg = [3, 4, 5, 6, 7, 8, 9]  NA                     10000       9893       98.93   34.76   64.17    0.54    0.53                0\n",
            "      5  fg = [0, 1, 2]  bg = [3, 4, 5, 6, 7, 8, 9]  NA                     10000       9844       98.44   35.29   63.15    0.68    0.88                0\n",
            "      6  fg = [0, 1, 2]  bg = [3, 4, 5, 6, 7, 8, 9]  NA                     10000       9876       98.76   86.5    12.26    1.2     0.04             2400\n",
            "      7  fg = [0, 1, 2]  bg = [3, 4, 5, 6, 7, 8, 9]  NA                     10000       9891       98.91   25.15   73.76    0.25    0.84                0\n",
            " \n",
            "================================================================================================================================================================\n",
            " \n",
            "================================================================================================================================================================\n",
            "  S.No.  fg_class        bg_class                    Epoch used      total_points    correct    accuracy    FTPT    FFPT    FTPF    FFPF    avg_img > 0.5\n",
            "-------  --------------  --------------------------  ------------  --------------  ---------  ----------  ------  ------  ------  ------  ---------------\n",
            "      1  fg = [0, 1, 2]  bg = [3, 4, 5, 6, 7, 8, 9]  NA                     10000       9860       98.6    45.88   52.72    1.24    0.16              391\n",
            "      2  fg = [0, 1, 2]  bg = [3, 4, 5, 6, 7, 8, 9]  NA                     10000       9893       98.93   84.76   14.17    1.07    0                7008\n",
            "      3  fg = [0, 1, 2]  bg = [3, 4, 5, 6, 7, 8, 9]  NA                     10000       9862       98.62   98.58    0.04    1.38    0                9999\n",
            "      4  fg = [0, 1, 2]  bg = [3, 4, 5, 6, 7, 8, 9]  NA                     10000       9883       98.83   34.18   64.65    0.83    0.34                0\n",
            "      5  fg = [0, 1, 2]  bg = [3, 4, 5, 6, 7, 8, 9]  NA                     10000       9858       98.58   35.18   63.4     0.86    0.56                0\n",
            "      6  fg = [0, 1, 2]  bg = [3, 4, 5, 6, 7, 8, 9]  NA                     10000       9835       98.35   84.74   13.61    1.62    0.03             2415\n",
            "      7  fg = [0, 1, 2]  bg = [3, 4, 5, 6, 7, 8, 9]  NA                     10000       9897       98.97   24.2    74.77    0.18    0.85                0\n",
            " \n",
            "================================================================================================================================================================\n",
            " \n",
            "================================================================================================================================================================\n",
            "  S.No.  fg_class        bg_class                    Epoch used      total_points    correct    accuracy    FTPT    FFPT    FTPF    FFPF    avg_img > 0.5\n",
            "-------  --------------  --------------------------  ------------  --------------  ---------  ----------  ------  ------  ------  ------  ---------------\n",
            "      1  fg = [0, 1, 2]  bg = [3, 4, 5, 6, 7, 8, 9]  NA                     10000       3231       32.31    2.65   29.66   21.15   46.54                0\n",
            "      2  fg = [0, 1, 2]  bg = [3, 4, 5, 6, 7, 8, 9]  NA                     10000       3255       32.55    3.86   28.69    3.23   64.22               81\n",
            "      3  fg = [0, 1, 2]  bg = [3, 4, 5, 6, 7, 8, 9]  NA                     10000       3286       32.86    4.18   28.68    9.87   57.27             3308\n",
            "      4  fg = [0, 1, 2]  bg = [3, 4, 5, 6, 7, 8, 9]  NA                     10000       3255       32.55    3.82   28.73   15.4    52.05                0\n",
            "      5  fg = [0, 1, 2]  bg = [3, 4, 5, 6, 7, 8, 9]  NA                     10000       3255       32.55    3.58   28.97   22.06   45.39                0\n",
            "      6  fg = [0, 1, 2]  bg = [3, 4, 5, 6, 7, 8, 9]  NA                     10000       3456       34.56    1.75   32.81   11.09   54.35                0\n",
            "      7  fg = [0, 1, 2]  bg = [3, 4, 5, 6, 7, 8, 9]  NA                     10000       3265       32.65    2.32   30.33   23.22   44.13                0\n",
            " \n",
            "================================================================================================================================================================\n",
            " \n",
            "================================================================================================================================================================\n",
            "  S.No.  fg_class        bg_class                    Epoch used      total_points    correct    accuracy    FTPT    FFPT    FTPF    FFPF    avg_img > 0.5\n",
            "-------  --------------  --------------------------  ------------  --------------  ---------  ----------  ------  ------  ------  ------  ---------------\n",
            "      1  fg = [0, 1, 2]  bg = [3, 4, 5, 6, 7, 8, 9]  NA                     10000       3224       32.24    2.32   29.92   19.7    48.06                0\n",
            "      2  fg = [0, 1, 2]  bg = [3, 4, 5, 6, 7, 8, 9]  NA                     10000       3283       32.83    3.39   29.44    2.84   64.33               85\n",
            "      3  fg = [0, 1, 2]  bg = [3, 4, 5, 6, 7, 8, 9]  NA                     10000       3303       33.03    3.65   29.38    8.85   58.12             3288\n",
            "      4  fg = [0, 1, 2]  bg = [3, 4, 5, 6, 7, 8, 9]  NA                     10000       3283       32.83    3.55   29.28   15.29   51.88                0\n",
            "      5  fg = [0, 1, 2]  bg = [3, 4, 5, 6, 7, 8, 9]  NA                     10000       3283       32.83    2.98   29.85   22.05   45.12                0\n",
            "      6  fg = [0, 1, 2]  bg = [3, 4, 5, 6, 7, 8, 9]  NA                     10000       3440       34.4     1.66   32.74   11.6    54                   0\n",
            "      7  fg = [0, 1, 2]  bg = [3, 4, 5, 6, 7, 8, 9]  NA                     10000       3281       32.81    2.11   30.7    22.24   44.95                0\n",
            " \n",
            "================================================================================================================================================================\n",
            "[1,    40] loss: 1.100\n",
            "[1,    80] loss: 1.099\n",
            "[1,   120] loss: 1.099\n",
            "[2,    40] loss: 1.098\n",
            "[2,    80] loss: 1.098\n",
            "[2,   120] loss: 1.098\n",
            "[3,    40] loss: 1.098\n",
            "[3,    80] loss: 1.098\n",
            "[3,   120] loss: 1.098\n",
            "[4,    40] loss: 1.098\n",
            "[4,    80] loss: 1.097\n",
            "[4,   120] loss: 1.097\n",
            "[5,    40] loss: 1.097\n",
            "[5,    80] loss: 1.096\n",
            "[5,   120] loss: 1.096\n",
            "[6,    40] loss: 1.095\n",
            "[6,    80] loss: 1.094\n",
            "[6,   120] loss: 1.093\n",
            "[7,    40] loss: 1.092\n",
            "[7,    80] loss: 1.090\n",
            "[7,   120] loss: 1.089\n",
            "[8,    40] loss: 1.088\n",
            "[8,    80] loss: 1.085\n",
            "[8,   120] loss: 1.082\n",
            "[9,    40] loss: 1.080\n",
            "[9,    80] loss: 1.080\n",
            "[9,   120] loss: 1.078\n",
            "[10,    40] loss: 1.078\n",
            "[10,    80] loss: 1.074\n",
            "[10,   120] loss: 1.077\n",
            "[11,    40] loss: 1.072\n",
            "[11,    80] loss: 1.072\n",
            "[11,   120] loss: 1.071\n",
            "[12,    40] loss: 1.069\n",
            "[12,    80] loss: 1.070\n",
            "[12,   120] loss: 1.066\n",
            "[13,    40] loss: 1.067\n",
            "[13,    80] loss: 1.067\n",
            "[13,   120] loss: 1.060\n",
            "[14,    40] loss: 1.060\n",
            "[14,    80] loss: 1.053\n",
            "[14,   120] loss: 1.049\n",
            "[15,    40] loss: 1.043\n",
            "[15,    80] loss: 1.021\n",
            "[15,   120] loss: 0.985\n",
            "[16,    40] loss: 0.704\n",
            "[16,    80] loss: 0.445\n",
            "[16,   120] loss: 0.324\n",
            "[17,    40] loss: 0.294\n",
            "[17,    80] loss: 0.252\n",
            "[17,   120] loss: 0.251\n",
            "[18,    40] loss: 0.208\n",
            "[18,    80] loss: 0.195\n",
            "[18,   120] loss: 0.178\n",
            "[19,    40] loss: 0.156\n",
            "[19,    80] loss: 0.142\n",
            "[19,   120] loss: 0.127\n",
            "[20,    40] loss: 0.093\n",
            "[20,    80] loss: 0.082\n",
            "[20,   120] loss: 0.068\n",
            "[21,    40] loss: 0.049\n",
            "[21,    80] loss: 0.091\n",
            "[21,   120] loss: 0.046\n",
            "[22,    40] loss: 0.022\n",
            "[22,    80] loss: 0.025\n",
            "[22,   120] loss: 0.039\n",
            "Finished Training\n",
            " \n",
            "================================================================================================================================================================\n",
            "  S.No.  fg_class        bg_class                      Epoch used    total_points    correct    accuracy     FTPT        FFPT      FTPF        FFPF    avg_img > 0.5\n",
            "-------  --------------  --------------------------  ------------  --------------  ---------  ----------  -------  ----------  --------  ----------  ---------------\n",
            "      1  fg = [0, 1, 2]  bg = [3, 4, 5, 6, 7, 8, 9]            39           30000      29614     98.7133  47.3167  51.3967     1.06667   0.22                   1077\n",
            "      2  fg = [0, 1, 2]  bg = [3, 4, 5, 6, 7, 8, 9]            30           30000      29793     99.31    85.15    14.16       0.686667  0.00333333            21038\n",
            "      3  fg = [0, 1, 2]  bg = [3, 4, 5, 6, 7, 8, 9]            22           30000      29695     98.9833  98.9567   0.0266667  1.01667   0                     29994\n",
            "      4  fg = [0, 1, 2]  bg = [3, 4, 5, 6, 7, 8, 9]            23           30000      29737     99.1233  35.1233  64          0.466667  0.41                      0\n",
            "      5  fg = [0, 1, 2]  bg = [3, 4, 5, 6, 7, 8, 9]            28           30000      29536     98.4533  35.0433  63.41       0.8       0.746667                  0\n",
            "      6  fg = [0, 1, 2]  bg = [3, 4, 5, 6, 7, 8, 9]            22           30000      29666     98.8867  86.51    12.3767     1.07333   0.04                   7070\n",
            "      7  fg = [0, 1, 2]  bg = [3, 4, 5, 6, 7, 8, 9]            22           30000      29739     99.13    24.9467  74.1833     0.14      0.73                      0\n",
            "      8  fg = [0, 1, 2]  bg = [3, 4, 5, 6, 7, 8, 9]            21           30000      29883     99.61    94.8433   4.76667    0.39      0                     20727\n",
            " \n",
            "================================================================================================================================================================\n",
            " \n",
            "================================================================================================================================================================\n",
            "  S.No.  fg_class        bg_class                    Epoch used      total_points    correct    accuracy    FTPT    FFPT    FTPF    FFPF    avg_img > 0.5\n",
            "-------  --------------  --------------------------  ------------  --------------  ---------  ----------  ------  ------  ------  ------  ---------------\n",
            "      1  fg = [0, 1, 2]  bg = [3, 4, 5, 6, 7, 8, 9]  NA                     10000       9823       98.23   47.63   50.6     1.54    0.23              373\n",
            "      2  fg = [0, 1, 2]  bg = [3, 4, 5, 6, 7, 8, 9]  NA                     10000       9928       99.28   84.86   14.42    0.72    0                6961\n",
            "      3  fg = [0, 1, 2]  bg = [3, 4, 5, 6, 7, 8, 9]  NA                     10000       9880       98.8    98.76    0.04    1.2     0                9998\n",
            "      4  fg = [0, 1, 2]  bg = [3, 4, 5, 6, 7, 8, 9]  NA                     10000       9893       98.93   34.76   64.17    0.54    0.53                0\n",
            "      5  fg = [0, 1, 2]  bg = [3, 4, 5, 6, 7, 8, 9]  NA                     10000       9844       98.44   35.29   63.15    0.68    0.88                0\n",
            "      6  fg = [0, 1, 2]  bg = [3, 4, 5, 6, 7, 8, 9]  NA                     10000       9876       98.76   86.5    12.26    1.2     0.04             2400\n",
            "      7  fg = [0, 1, 2]  bg = [3, 4, 5, 6, 7, 8, 9]  NA                     10000       9891       98.91   25.15   73.76    0.25    0.84                0\n",
            "      8  fg = [0, 1, 2]  bg = [3, 4, 5, 6, 7, 8, 9]  NA                     10000       9937       99.37   94.64    4.73    0.63    0                6863\n",
            " \n",
            "================================================================================================================================================================\n",
            " \n",
            "================================================================================================================================================================\n",
            "  S.No.  fg_class        bg_class                    Epoch used      total_points    correct    accuracy    FTPT    FFPT    FTPF    FFPF    avg_img > 0.5\n",
            "-------  --------------  --------------------------  ------------  --------------  ---------  ----------  ------  ------  ------  ------  ---------------\n",
            "      1  fg = [0, 1, 2]  bg = [3, 4, 5, 6, 7, 8, 9]  NA                     10000       9860       98.6    45.88   52.72    1.24    0.16              391\n",
            "      2  fg = [0, 1, 2]  bg = [3, 4, 5, 6, 7, 8, 9]  NA                     10000       9893       98.93   84.76   14.17    1.07    0                7008\n",
            "      3  fg = [0, 1, 2]  bg = [3, 4, 5, 6, 7, 8, 9]  NA                     10000       9862       98.62   98.58    0.04    1.38    0                9999\n",
            "      4  fg = [0, 1, 2]  bg = [3, 4, 5, 6, 7, 8, 9]  NA                     10000       9883       98.83   34.18   64.65    0.83    0.34                0\n",
            "      5  fg = [0, 1, 2]  bg = [3, 4, 5, 6, 7, 8, 9]  NA                     10000       9858       98.58   35.18   63.4     0.86    0.56                0\n",
            "      6  fg = [0, 1, 2]  bg = [3, 4, 5, 6, 7, 8, 9]  NA                     10000       9835       98.35   84.74   13.61    1.62    0.03             2415\n",
            "      7  fg = [0, 1, 2]  bg = [3, 4, 5, 6, 7, 8, 9]  NA                     10000       9897       98.97   24.2    74.77    0.18    0.85                0\n",
            "      8  fg = [0, 1, 2]  bg = [3, 4, 5, 6, 7, 8, 9]  NA                     10000       9927       99.27   94.44    4.83    0.73    0                6927\n",
            " \n",
            "================================================================================================================================================================\n",
            " \n",
            "================================================================================================================================================================\n",
            "  S.No.  fg_class        bg_class                    Epoch used      total_points    correct    accuracy    FTPT    FFPT    FTPF    FFPF    avg_img > 0.5\n",
            "-------  --------------  --------------------------  ------------  --------------  ---------  ----------  ------  ------  ------  ------  ---------------\n",
            "      1  fg = [0, 1, 2]  bg = [3, 4, 5, 6, 7, 8, 9]  NA                     10000       3231       32.31    2.65   29.66   21.15   46.54                0\n",
            "      2  fg = [0, 1, 2]  bg = [3, 4, 5, 6, 7, 8, 9]  NA                     10000       3255       32.55    3.86   28.69    3.23   64.22               81\n",
            "      3  fg = [0, 1, 2]  bg = [3, 4, 5, 6, 7, 8, 9]  NA                     10000       3286       32.86    4.18   28.68    9.87   57.27             3308\n",
            "      4  fg = [0, 1, 2]  bg = [3, 4, 5, 6, 7, 8, 9]  NA                     10000       3255       32.55    3.82   28.73   15.4    52.05                0\n",
            "      5  fg = [0, 1, 2]  bg = [3, 4, 5, 6, 7, 8, 9]  NA                     10000       3255       32.55    3.58   28.97   22.06   45.39                0\n",
            "      6  fg = [0, 1, 2]  bg = [3, 4, 5, 6, 7, 8, 9]  NA                     10000       3456       34.56    1.75   32.81   11.09   54.35                0\n",
            "      7  fg = [0, 1, 2]  bg = [3, 4, 5, 6, 7, 8, 9]  NA                     10000       3265       32.65    2.32   30.33   23.22   44.13                0\n",
            "      8  fg = [0, 1, 2]  bg = [3, 4, 5, 6, 7, 8, 9]  NA                     10000       3255       32.55    5.94   26.61    3.42   64.03                0\n",
            " \n",
            "================================================================================================================================================================\n",
            " \n",
            "================================================================================================================================================================\n",
            "  S.No.  fg_class        bg_class                    Epoch used      total_points    correct    accuracy    FTPT    FFPT    FTPF    FFPF    avg_img > 0.5\n",
            "-------  --------------  --------------------------  ------------  --------------  ---------  ----------  ------  ------  ------  ------  ---------------\n",
            "      1  fg = [0, 1, 2]  bg = [3, 4, 5, 6, 7, 8, 9]  NA                     10000       3224       32.24    2.32   29.92   19.7    48.06                0\n",
            "      2  fg = [0, 1, 2]  bg = [3, 4, 5, 6, 7, 8, 9]  NA                     10000       3283       32.83    3.39   29.44    2.84   64.33               85\n",
            "      3  fg = [0, 1, 2]  bg = [3, 4, 5, 6, 7, 8, 9]  NA                     10000       3303       33.03    3.65   29.38    8.85   58.12             3288\n",
            "      4  fg = [0, 1, 2]  bg = [3, 4, 5, 6, 7, 8, 9]  NA                     10000       3283       32.83    3.55   29.28   15.29   51.88                0\n",
            "      5  fg = [0, 1, 2]  bg = [3, 4, 5, 6, 7, 8, 9]  NA                     10000       3283       32.83    2.98   29.85   22.05   45.12                0\n",
            "      6  fg = [0, 1, 2]  bg = [3, 4, 5, 6, 7, 8, 9]  NA                     10000       3440       34.4     1.66   32.74   11.6    54                   0\n",
            "      7  fg = [0, 1, 2]  bg = [3, 4, 5, 6, 7, 8, 9]  NA                     10000       3281       32.81    2.11   30.7    22.24   44.95                0\n",
            "      8  fg = [0, 1, 2]  bg = [3, 4, 5, 6, 7, 8, 9]  NA                     10000       3283       32.83    5.16   27.67    3.05   64.12                0\n",
            " \n",
            "================================================================================================================================================================\n",
            "[1,    40] loss: 1.108\n",
            "[1,    80] loss: 1.099\n",
            "[1,   120] loss: 1.099\n",
            "[2,    40] loss: 1.099\n",
            "[2,    80] loss: 1.098\n",
            "[2,   120] loss: 1.099\n",
            "[3,    40] loss: 1.098\n",
            "[3,    80] loss: 1.099\n",
            "[3,   120] loss: 1.098\n",
            "[4,    40] loss: 1.098\n",
            "[4,    80] loss: 1.098\n",
            "[4,   120] loss: 1.098\n",
            "[5,    40] loss: 1.098\n",
            "[5,    80] loss: 1.098\n",
            "[5,   120] loss: 1.098\n",
            "[6,    40] loss: 1.097\n",
            "[6,    80] loss: 1.097\n",
            "[6,   120] loss: 1.097\n",
            "[7,    40] loss: 1.096\n",
            "[7,    80] loss: 1.096\n",
            "[7,   120] loss: 1.094\n",
            "[8,    40] loss: 1.093\n",
            "[8,    80] loss: 1.090\n",
            "[8,   120] loss: 1.090\n",
            "[9,    40] loss: 1.086\n",
            "[9,    80] loss: 1.084\n",
            "[9,   120] loss: 1.084\n",
            "[10,    40] loss: 1.083\n",
            "[10,    80] loss: 1.080\n",
            "[10,   120] loss: 1.077\n",
            "[11,    40] loss: 1.077\n",
            "[11,    80] loss: 1.074\n",
            "[11,   120] loss: 1.074\n",
            "[12,    40] loss: 1.073\n",
            "[12,    80] loss: 1.072\n",
            "[12,   120] loss: 1.071\n",
            "[13,    40] loss: 1.066\n",
            "[13,    80] loss: 1.067\n",
            "[13,   120] loss: 1.070\n",
            "[14,    40] loss: 1.059\n",
            "[14,    80] loss: 1.064\n",
            "[14,   120] loss: 1.061\n",
            "[15,    40] loss: 1.057\n",
            "[15,    80] loss: 1.048\n",
            "[15,   120] loss: 1.038\n",
            "[16,    40] loss: 1.033\n",
            "[16,    80] loss: 1.003\n",
            "[16,   120] loss: 0.952\n",
            "[17,    40] loss: 0.696\n",
            "[17,    80] loss: 0.665\n",
            "[17,   120] loss: 0.453\n",
            "[18,    40] loss: 0.351\n",
            "[18,    80] loss: 0.274\n",
            "[18,   120] loss: 0.222\n",
            "[19,    40] loss: 0.171\n",
            "[19,    80] loss: 0.180\n",
            "[19,   120] loss: 0.139\n",
            "[20,    40] loss: 0.114\n",
            "[20,    80] loss: 0.110\n",
            "[20,   120] loss: 0.101\n",
            "[21,    40] loss: 0.091\n",
            "[21,    80] loss: 0.089\n",
            "[21,   120] loss: 0.100\n",
            "[22,    40] loss: 0.078\n",
            "[22,    80] loss: 0.069\n",
            "[22,   120] loss: 0.063\n",
            "[23,    40] loss: 0.049\n",
            "[23,    80] loss: 0.046\n",
            "[23,   120] loss: 0.045\n",
            "Finished Training\n",
            " \n",
            "================================================================================================================================================================\n",
            "  S.No.  fg_class        bg_class                      Epoch used    total_points    correct    accuracy     FTPT        FFPT      FTPF        FFPF    avg_img > 0.5\n",
            "-------  --------------  --------------------------  ------------  --------------  ---------  ----------  -------  ----------  --------  ----------  ---------------\n",
            "      1  fg = [0, 1, 2]  bg = [3, 4, 5, 6, 7, 8, 9]            39           30000      29614     98.7133  47.3167  51.3967     1.06667   0.22                   1077\n",
            "      2  fg = [0, 1, 2]  bg = [3, 4, 5, 6, 7, 8, 9]            30           30000      29793     99.31    85.15    14.16       0.686667  0.00333333            21038\n",
            "      3  fg = [0, 1, 2]  bg = [3, 4, 5, 6, 7, 8, 9]            22           30000      29695     98.9833  98.9567   0.0266667  1.01667   0                     29994\n",
            "      4  fg = [0, 1, 2]  bg = [3, 4, 5, 6, 7, 8, 9]            23           30000      29737     99.1233  35.1233  64          0.466667  0.41                      0\n",
            "      5  fg = [0, 1, 2]  bg = [3, 4, 5, 6, 7, 8, 9]            28           30000      29536     98.4533  35.0433  63.41       0.8       0.746667                  0\n",
            "      6  fg = [0, 1, 2]  bg = [3, 4, 5, 6, 7, 8, 9]            22           30000      29666     98.8867  86.51    12.3767     1.07333   0.04                   7070\n",
            "      7  fg = [0, 1, 2]  bg = [3, 4, 5, 6, 7, 8, 9]            22           30000      29739     99.13    24.9467  74.1833     0.14      0.73                      0\n",
            "      8  fg = [0, 1, 2]  bg = [3, 4, 5, 6, 7, 8, 9]            21           30000      29883     99.61    94.8433   4.76667    0.39      0                     20727\n",
            "      9  fg = [0, 1, 2]  bg = [3, 4, 5, 6, 7, 8, 9]            22           30000      29606     98.6867  41.6233  57.0633     1.04667   0.266667                 39\n",
            " \n",
            "================================================================================================================================================================\n",
            " \n",
            "================================================================================================================================================================\n",
            "  S.No.  fg_class        bg_class                    Epoch used      total_points    correct    accuracy    FTPT    FFPT    FTPF    FFPF    avg_img > 0.5\n",
            "-------  --------------  --------------------------  ------------  --------------  ---------  ----------  ------  ------  ------  ------  ---------------\n",
            "      1  fg = [0, 1, 2]  bg = [3, 4, 5, 6, 7, 8, 9]  NA                     10000       9823       98.23   47.63   50.6     1.54    0.23              373\n",
            "      2  fg = [0, 1, 2]  bg = [3, 4, 5, 6, 7, 8, 9]  NA                     10000       9928       99.28   84.86   14.42    0.72    0                6961\n",
            "      3  fg = [0, 1, 2]  bg = [3, 4, 5, 6, 7, 8, 9]  NA                     10000       9880       98.8    98.76    0.04    1.2     0                9998\n",
            "      4  fg = [0, 1, 2]  bg = [3, 4, 5, 6, 7, 8, 9]  NA                     10000       9893       98.93   34.76   64.17    0.54    0.53                0\n",
            "      5  fg = [0, 1, 2]  bg = [3, 4, 5, 6, 7, 8, 9]  NA                     10000       9844       98.44   35.29   63.15    0.68    0.88                0\n",
            "      6  fg = [0, 1, 2]  bg = [3, 4, 5, 6, 7, 8, 9]  NA                     10000       9876       98.76   86.5    12.26    1.2     0.04             2400\n",
            "      7  fg = [0, 1, 2]  bg = [3, 4, 5, 6, 7, 8, 9]  NA                     10000       9891       98.91   25.15   73.76    0.25    0.84                0\n",
            "      8  fg = [0, 1, 2]  bg = [3, 4, 5, 6, 7, 8, 9]  NA                     10000       9937       99.37   94.64    4.73    0.63    0                6863\n",
            "      9  fg = [0, 1, 2]  bg = [3, 4, 5, 6, 7, 8, 9]  NA                     10000       9856       98.56   41.51   57.05    1.1     0.34                8\n",
            " \n",
            "================================================================================================================================================================\n",
            " \n",
            "================================================================================================================================================================\n",
            "  S.No.  fg_class        bg_class                    Epoch used      total_points    correct    accuracy    FTPT    FFPT    FTPF    FFPF    avg_img > 0.5\n",
            "-------  --------------  --------------------------  ------------  --------------  ---------  ----------  ------  ------  ------  ------  ---------------\n",
            "      1  fg = [0, 1, 2]  bg = [3, 4, 5, 6, 7, 8, 9]  NA                     10000       9860       98.6    45.88   52.72    1.24    0.16              391\n",
            "      2  fg = [0, 1, 2]  bg = [3, 4, 5, 6, 7, 8, 9]  NA                     10000       9893       98.93   84.76   14.17    1.07    0                7008\n",
            "      3  fg = [0, 1, 2]  bg = [3, 4, 5, 6, 7, 8, 9]  NA                     10000       9862       98.62   98.58    0.04    1.38    0                9999\n",
            "      4  fg = [0, 1, 2]  bg = [3, 4, 5, 6, 7, 8, 9]  NA                     10000       9883       98.83   34.18   64.65    0.83    0.34                0\n",
            "      5  fg = [0, 1, 2]  bg = [3, 4, 5, 6, 7, 8, 9]  NA                     10000       9858       98.58   35.18   63.4     0.86    0.56                0\n",
            "      6  fg = [0, 1, 2]  bg = [3, 4, 5, 6, 7, 8, 9]  NA                     10000       9835       98.35   84.74   13.61    1.62    0.03             2415\n",
            "      7  fg = [0, 1, 2]  bg = [3, 4, 5, 6, 7, 8, 9]  NA                     10000       9897       98.97   24.2    74.77    0.18    0.85                0\n",
            "      8  fg = [0, 1, 2]  bg = [3, 4, 5, 6, 7, 8, 9]  NA                     10000       9927       99.27   94.44    4.83    0.73    0                6927\n",
            "      9  fg = [0, 1, 2]  bg = [3, 4, 5, 6, 7, 8, 9]  NA                     10000       9882       98.82   42.46   56.36    0.95    0.23                4\n",
            " \n",
            "================================================================================================================================================================\n",
            " \n",
            "================================================================================================================================================================\n",
            "  S.No.  fg_class        bg_class                    Epoch used      total_points    correct    accuracy    FTPT    FFPT    FTPF    FFPF    avg_img > 0.5\n",
            "-------  --------------  --------------------------  ------------  --------------  ---------  ----------  ------  ------  ------  ------  ---------------\n",
            "      1  fg = [0, 1, 2]  bg = [3, 4, 5, 6, 7, 8, 9]  NA                     10000       3231       32.31    2.65   29.66   21.15   46.54                0\n",
            "      2  fg = [0, 1, 2]  bg = [3, 4, 5, 6, 7, 8, 9]  NA                     10000       3255       32.55    3.86   28.69    3.23   64.22               81\n",
            "      3  fg = [0, 1, 2]  bg = [3, 4, 5, 6, 7, 8, 9]  NA                     10000       3286       32.86    4.18   28.68    9.87   57.27             3308\n",
            "      4  fg = [0, 1, 2]  bg = [3, 4, 5, 6, 7, 8, 9]  NA                     10000       3255       32.55    3.82   28.73   15.4    52.05                0\n",
            "      5  fg = [0, 1, 2]  bg = [3, 4, 5, 6, 7, 8, 9]  NA                     10000       3255       32.55    3.58   28.97   22.06   45.39                0\n",
            "      6  fg = [0, 1, 2]  bg = [3, 4, 5, 6, 7, 8, 9]  NA                     10000       3456       34.56    1.75   32.81   11.09   54.35                0\n",
            "      7  fg = [0, 1, 2]  bg = [3, 4, 5, 6, 7, 8, 9]  NA                     10000       3265       32.65    2.32   30.33   23.22   44.13                0\n",
            "      8  fg = [0, 1, 2]  bg = [3, 4, 5, 6, 7, 8, 9]  NA                     10000       3255       32.55    5.94   26.61    3.42   64.03                0\n",
            "      9  fg = [0, 1, 2]  bg = [3, 4, 5, 6, 7, 8, 9]  NA                     10000       3255       32.55    3.16   29.39   23.14   44.31                0\n",
            " \n",
            "================================================================================================================================================================\n",
            " \n",
            "================================================================================================================================================================\n",
            "  S.No.  fg_class        bg_class                    Epoch used      total_points    correct    accuracy    FTPT    FFPT    FTPF    FFPF    avg_img > 0.5\n",
            "-------  --------------  --------------------------  ------------  --------------  ---------  ----------  ------  ------  ------  ------  ---------------\n",
            "      1  fg = [0, 1, 2]  bg = [3, 4, 5, 6, 7, 8, 9]  NA                     10000       3224       32.24    2.32   29.92   19.7    48.06                0\n",
            "      2  fg = [0, 1, 2]  bg = [3, 4, 5, 6, 7, 8, 9]  NA                     10000       3283       32.83    3.39   29.44    2.84   64.33               85\n",
            "      3  fg = [0, 1, 2]  bg = [3, 4, 5, 6, 7, 8, 9]  NA                     10000       3303       33.03    3.65   29.38    8.85   58.12             3288\n",
            "      4  fg = [0, 1, 2]  bg = [3, 4, 5, 6, 7, 8, 9]  NA                     10000       3283       32.83    3.55   29.28   15.29   51.88                0\n",
            "      5  fg = [0, 1, 2]  bg = [3, 4, 5, 6, 7, 8, 9]  NA                     10000       3283       32.83    2.98   29.85   22.05   45.12                0\n",
            "      6  fg = [0, 1, 2]  bg = [3, 4, 5, 6, 7, 8, 9]  NA                     10000       3440       34.4     1.66   32.74   11.6    54                   0\n",
            "      7  fg = [0, 1, 2]  bg = [3, 4, 5, 6, 7, 8, 9]  NA                     10000       3281       32.81    2.11   30.7    22.24   44.95                0\n",
            "      8  fg = [0, 1, 2]  bg = [3, 4, 5, 6, 7, 8, 9]  NA                     10000       3283       32.83    5.16   27.67    3.05   64.12                0\n",
            "      9  fg = [0, 1, 2]  bg = [3, 4, 5, 6, 7, 8, 9]  NA                     10000       3283       32.83    2.84   29.99   22.96   44.21                0\n",
            " \n",
            "================================================================================================================================================================\n",
            "[1,    40] loss: 1.107\n",
            "[1,    80] loss: 1.099\n",
            "[1,   120] loss: 1.099\n",
            "[2,    40] loss: 1.099\n",
            "[2,    80] loss: 1.099\n",
            "[2,   120] loss: 1.099\n",
            "[3,    40] loss: 1.099\n",
            "[3,    80] loss: 1.099\n",
            "[3,   120] loss: 1.098\n",
            "[4,    40] loss: 1.099\n",
            "[4,    80] loss: 1.099\n",
            "[4,   120] loss: 1.098\n",
            "[5,    40] loss: 1.098\n",
            "[5,    80] loss: 1.099\n",
            "[5,   120] loss: 1.098\n",
            "[6,    40] loss: 1.099\n",
            "[6,    80] loss: 1.098\n",
            "[6,   120] loss: 1.098\n",
            "[7,    40] loss: 1.098\n",
            "[7,    80] loss: 1.098\n",
            "[7,   120] loss: 1.098\n",
            "[8,    40] loss: 1.098\n",
            "[8,    80] loss: 1.098\n",
            "[8,   120] loss: 1.098\n",
            "[9,    40] loss: 1.098\n",
            "[9,    80] loss: 1.098\n",
            "[9,   120] loss: 1.097\n",
            "[10,    40] loss: 1.097\n",
            "[10,    80] loss: 1.097\n",
            "[10,   120] loss: 1.096\n",
            "[11,    40] loss: 1.096\n",
            "[11,    80] loss: 1.096\n",
            "[11,   120] loss: 1.095\n",
            "[12,    40] loss: 1.094\n",
            "[12,    80] loss: 1.092\n",
            "[12,   120] loss: 1.090\n",
            "[13,    40] loss: 1.089\n",
            "[13,    80] loss: 1.087\n",
            "[13,   120] loss: 1.084\n",
            "[14,    40] loss: 1.082\n",
            "[14,    80] loss: 1.083\n",
            "[14,   120] loss: 1.080\n",
            "[15,    40] loss: 1.080\n",
            "[15,    80] loss: 1.078\n",
            "[15,   120] loss: 1.076\n",
            "[16,    40] loss: 1.075\n",
            "[16,    80] loss: 1.072\n",
            "[16,   120] loss: 1.069\n",
            "[17,    40] loss: 1.072\n",
            "[17,    80] loss: 1.063\n",
            "[17,   120] loss: 1.063\n",
            "[18,    40] loss: 1.061\n",
            "[18,    80] loss: 1.059\n",
            "[18,   120] loss: 1.050\n",
            "[19,    40] loss: 1.044\n",
            "[19,    80] loss: 1.035\n",
            "[19,   120] loss: 1.021\n",
            "[20,    40] loss: 0.987\n",
            "[20,    80] loss: 0.949\n",
            "[20,   120] loss: 0.821\n",
            "[21,    40] loss: 0.621\n",
            "[21,    80] loss: 0.449\n",
            "[21,   120] loss: 0.355\n",
            "[22,    40] loss: 0.286\n",
            "[22,    80] loss: 0.245\n",
            "[22,   120] loss: 0.212\n",
            "[23,    40] loss: 0.174\n",
            "[23,    80] loss: 0.171\n",
            "[23,   120] loss: 0.163\n",
            "[24,    40] loss: 0.149\n",
            "[24,    80] loss: 0.135\n",
            "[24,   120] loss: 0.150\n",
            "[25,    40] loss: 0.115\n",
            "[25,    80] loss: 0.115\n",
            "[25,   120] loss: 0.109\n",
            "[26,    40] loss: 0.103\n",
            "[26,    80] loss: 0.107\n",
            "[26,   120] loss: 0.107\n",
            "[27,    40] loss: 0.074\n",
            "[27,    80] loss: 0.082\n",
            "[27,   120] loss: 0.072\n",
            "[28,    40] loss: 0.053\n",
            "[28,    80] loss: 0.052\n",
            "[28,   120] loss: 0.062\n",
            "[29,    40] loss: 0.038\n",
            "[29,    80] loss: 0.032\n",
            "[29,   120] loss: 0.044\n",
            "Finished Training\n",
            " \n",
            "================================================================================================================================================================\n",
            "  S.No.  fg_class        bg_class                      Epoch used    total_points    correct    accuracy     FTPT        FFPT       FTPF        FFPF    avg_img > 0.5\n",
            "-------  --------------  --------------------------  ------------  --------------  ---------  ----------  -------  ----------  ---------  ----------  ---------------\n",
            "      1  fg = [0, 1, 2]  bg = [3, 4, 5, 6, 7, 8, 9]            39           30000      29614     98.7133  47.3167  51.3967     1.06667    0.22                   1077\n",
            "      2  fg = [0, 1, 2]  bg = [3, 4, 5, 6, 7, 8, 9]            30           30000      29793     99.31    85.15    14.16       0.686667   0.00333333            21038\n",
            "      3  fg = [0, 1, 2]  bg = [3, 4, 5, 6, 7, 8, 9]            22           30000      29695     98.9833  98.9567   0.0266667  1.01667    0                     29994\n",
            "      4  fg = [0, 1, 2]  bg = [3, 4, 5, 6, 7, 8, 9]            23           30000      29737     99.1233  35.1233  64          0.466667   0.41                      0\n",
            "      5  fg = [0, 1, 2]  bg = [3, 4, 5, 6, 7, 8, 9]            28           30000      29536     98.4533  35.0433  63.41       0.8        0.746667                  0\n",
            "      6  fg = [0, 1, 2]  bg = [3, 4, 5, 6, 7, 8, 9]            22           30000      29666     98.8867  86.51    12.3767     1.07333    0.04                   7070\n",
            "      7  fg = [0, 1, 2]  bg = [3, 4, 5, 6, 7, 8, 9]            22           30000      29739     99.13    24.9467  74.1833     0.14       0.73                      0\n",
            "      8  fg = [0, 1, 2]  bg = [3, 4, 5, 6, 7, 8, 9]            21           30000      29883     99.61    94.8433   4.76667    0.39       0                     20727\n",
            "      9  fg = [0, 1, 2]  bg = [3, 4, 5, 6, 7, 8, 9]            22           30000      29606     98.6867  41.6233  57.0633     1.04667    0.266667                 39\n",
            "     10  fg = [0, 1, 2]  bg = [3, 4, 5, 6, 7, 8, 9]            28           30000      29525     98.4167  13.96    84.4567     0.0466667  1.53667                   0\n",
            " \n",
            "================================================================================================================================================================\n",
            " \n",
            "================================================================================================================================================================\n",
            "  S.No.  fg_class        bg_class                    Epoch used      total_points    correct    accuracy    FTPT    FFPT    FTPF    FFPF    avg_img > 0.5\n",
            "-------  --------------  --------------------------  ------------  --------------  ---------  ----------  ------  ------  ------  ------  ---------------\n",
            "      1  fg = [0, 1, 2]  bg = [3, 4, 5, 6, 7, 8, 9]  NA                     10000       9823       98.23   47.63   50.6     1.54    0.23              373\n",
            "      2  fg = [0, 1, 2]  bg = [3, 4, 5, 6, 7, 8, 9]  NA                     10000       9928       99.28   84.86   14.42    0.72    0                6961\n",
            "      3  fg = [0, 1, 2]  bg = [3, 4, 5, 6, 7, 8, 9]  NA                     10000       9880       98.8    98.76    0.04    1.2     0                9998\n",
            "      4  fg = [0, 1, 2]  bg = [3, 4, 5, 6, 7, 8, 9]  NA                     10000       9893       98.93   34.76   64.17    0.54    0.53                0\n",
            "      5  fg = [0, 1, 2]  bg = [3, 4, 5, 6, 7, 8, 9]  NA                     10000       9844       98.44   35.29   63.15    0.68    0.88                0\n",
            "      6  fg = [0, 1, 2]  bg = [3, 4, 5, 6, 7, 8, 9]  NA                     10000       9876       98.76   86.5    12.26    1.2     0.04             2400\n",
            "      7  fg = [0, 1, 2]  bg = [3, 4, 5, 6, 7, 8, 9]  NA                     10000       9891       98.91   25.15   73.76    0.25    0.84                0\n",
            "      8  fg = [0, 1, 2]  bg = [3, 4, 5, 6, 7, 8, 9]  NA                     10000       9937       99.37   94.64    4.73    0.63    0                6863\n",
            "      9  fg = [0, 1, 2]  bg = [3, 4, 5, 6, 7, 8, 9]  NA                     10000       9856       98.56   41.51   57.05    1.1     0.34                8\n",
            "     10  fg = [0, 1, 2]  bg = [3, 4, 5, 6, 7, 8, 9]  NA                     10000       9825       98.25   13.52   84.73    0.05    1.7                 0\n",
            " \n",
            "================================================================================================================================================================\n",
            " \n",
            "================================================================================================================================================================\n",
            "  S.No.  fg_class        bg_class                    Epoch used      total_points    correct    accuracy    FTPT    FFPT    FTPF    FFPF    avg_img > 0.5\n",
            "-------  --------------  --------------------------  ------------  --------------  ---------  ----------  ------  ------  ------  ------  ---------------\n",
            "      1  fg = [0, 1, 2]  bg = [3, 4, 5, 6, 7, 8, 9]  NA                     10000       9860       98.6    45.88   52.72    1.24    0.16              391\n",
            "      2  fg = [0, 1, 2]  bg = [3, 4, 5, 6, 7, 8, 9]  NA                     10000       9893       98.93   84.76   14.17    1.07    0                7008\n",
            "      3  fg = [0, 1, 2]  bg = [3, 4, 5, 6, 7, 8, 9]  NA                     10000       9862       98.62   98.58    0.04    1.38    0                9999\n",
            "      4  fg = [0, 1, 2]  bg = [3, 4, 5, 6, 7, 8, 9]  NA                     10000       9883       98.83   34.18   64.65    0.83    0.34                0\n",
            "      5  fg = [0, 1, 2]  bg = [3, 4, 5, 6, 7, 8, 9]  NA                     10000       9858       98.58   35.18   63.4     0.86    0.56                0\n",
            "      6  fg = [0, 1, 2]  bg = [3, 4, 5, 6, 7, 8, 9]  NA                     10000       9835       98.35   84.74   13.61    1.62    0.03             2415\n",
            "      7  fg = [0, 1, 2]  bg = [3, 4, 5, 6, 7, 8, 9]  NA                     10000       9897       98.97   24.2    74.77    0.18    0.85                0\n",
            "      8  fg = [0, 1, 2]  bg = [3, 4, 5, 6, 7, 8, 9]  NA                     10000       9927       99.27   94.44    4.83    0.73    0                6927\n",
            "      9  fg = [0, 1, 2]  bg = [3, 4, 5, 6, 7, 8, 9]  NA                     10000       9882       98.82   42.46   56.36    0.95    0.23                4\n",
            "     10  fg = [0, 1, 2]  bg = [3, 4, 5, 6, 7, 8, 9]  NA                     10000       9767       97.67   13.69   83.98    0       2.33                0\n",
            " \n",
            "================================================================================================================================================================\n",
            " \n",
            "================================================================================================================================================================\n",
            "  S.No.  fg_class        bg_class                    Epoch used      total_points    correct    accuracy    FTPT    FFPT    FTPF    FFPF    avg_img > 0.5\n",
            "-------  --------------  --------------------------  ------------  --------------  ---------  ----------  ------  ------  ------  ------  ---------------\n",
            "      1  fg = [0, 1, 2]  bg = [3, 4, 5, 6, 7, 8, 9]  NA                     10000       3231       32.31    2.65   29.66   21.15   46.54                0\n",
            "      2  fg = [0, 1, 2]  bg = [3, 4, 5, 6, 7, 8, 9]  NA                     10000       3255       32.55    3.86   28.69    3.23   64.22               81\n",
            "      3  fg = [0, 1, 2]  bg = [3, 4, 5, 6, 7, 8, 9]  NA                     10000       3286       32.86    4.18   28.68    9.87   57.27             3308\n",
            "      4  fg = [0, 1, 2]  bg = [3, 4, 5, 6, 7, 8, 9]  NA                     10000       3255       32.55    3.82   28.73   15.4    52.05                0\n",
            "      5  fg = [0, 1, 2]  bg = [3, 4, 5, 6, 7, 8, 9]  NA                     10000       3255       32.55    3.58   28.97   22.06   45.39                0\n",
            "      6  fg = [0, 1, 2]  bg = [3, 4, 5, 6, 7, 8, 9]  NA                     10000       3456       34.56    1.75   32.81   11.09   54.35                0\n",
            "      7  fg = [0, 1, 2]  bg = [3, 4, 5, 6, 7, 8, 9]  NA                     10000       3265       32.65    2.32   30.33   23.22   44.13                0\n",
            "      8  fg = [0, 1, 2]  bg = [3, 4, 5, 6, 7, 8, 9]  NA                     10000       3255       32.55    5.94   26.61    3.42   64.03                0\n",
            "      9  fg = [0, 1, 2]  bg = [3, 4, 5, 6, 7, 8, 9]  NA                     10000       3255       32.55    3.16   29.39   23.14   44.31                0\n",
            "     10  fg = [0, 1, 2]  bg = [3, 4, 5, 6, 7, 8, 9]  NA                     10000       3356       33.56    1.66   31.9    15.45   50.99                0\n",
            " \n",
            "================================================================================================================================================================\n",
            " \n",
            "================================================================================================================================================================\n",
            "  S.No.  fg_class        bg_class                    Epoch used      total_points    correct    accuracy    FTPT    FFPT    FTPF    FFPF    avg_img > 0.5\n",
            "-------  --------------  --------------------------  ------------  --------------  ---------  ----------  ------  ------  ------  ------  ---------------\n",
            "      1  fg = [0, 1, 2]  bg = [3, 4, 5, 6, 7, 8, 9]  NA                     10000       3224       32.24    2.32   29.92   19.7    48.06                0\n",
            "      2  fg = [0, 1, 2]  bg = [3, 4, 5, 6, 7, 8, 9]  NA                     10000       3283       32.83    3.39   29.44    2.84   64.33               85\n",
            "      3  fg = [0, 1, 2]  bg = [3, 4, 5, 6, 7, 8, 9]  NA                     10000       3303       33.03    3.65   29.38    8.85   58.12             3288\n",
            "      4  fg = [0, 1, 2]  bg = [3, 4, 5, 6, 7, 8, 9]  NA                     10000       3283       32.83    3.55   29.28   15.29   51.88                0\n",
            "      5  fg = [0, 1, 2]  bg = [3, 4, 5, 6, 7, 8, 9]  NA                     10000       3283       32.83    2.98   29.85   22.05   45.12                0\n",
            "      6  fg = [0, 1, 2]  bg = [3, 4, 5, 6, 7, 8, 9]  NA                     10000       3440       34.4     1.66   32.74   11.6    54                   0\n",
            "      7  fg = [0, 1, 2]  bg = [3, 4, 5, 6, 7, 8, 9]  NA                     10000       3281       32.81    2.11   30.7    22.24   44.95                0\n",
            "      8  fg = [0, 1, 2]  bg = [3, 4, 5, 6, 7, 8, 9]  NA                     10000       3283       32.83    5.16   27.67    3.05   64.12                0\n",
            "      9  fg = [0, 1, 2]  bg = [3, 4, 5, 6, 7, 8, 9]  NA                     10000       3283       32.83    2.84   29.99   22.96   44.21                0\n",
            "     10  fg = [0, 1, 2]  bg = [3, 4, 5, 6, 7, 8, 9]  NA                     10000       3332       33.32    1.69   31.63   15.62   51.06                0\n",
            " \n",
            "================================================================================================================================================================\n"
          ],
          "name": "stdout"
        }
      ]
    },
    {
      "cell_type": "code",
      "metadata": {
        "id": "kloPmAalgpIz",
        "outputId": "35fe4ae5-f105-45b1-bc69-ea156bc53525",
        "colab": {
          "base_uri": "https://localhost:8080/",
          "height": 335
        }
      },
      "source": [
        "train_table = add_average_entry(train_table)"
      ],
      "execution_count": 79,
      "outputs": [
        {
          "output_type": "stream",
          "text": [
            " \n",
            "================================================================================================================================================================\n",
            "S.No.    fg_class        bg_class                    Epoch used    total_points    correct      accuracy     FTPT        FFPT       FTPF        FFPF    avg_img > 0.5\n",
            "-------  --------------  --------------------------  ------------  --------------  ---------  ----------  -------  ----------  ---------  ----------  ---------------\n",
            "1        fg = [0, 1, 2]  bg = [3, 4, 5, 6, 7, 8, 9]  39            30000           29614         98.7133  47.3167  51.3967     1.06667    0.22                 1077\n",
            "2        fg = [0, 1, 2]  bg = [3, 4, 5, 6, 7, 8, 9]  30            30000           29793         99.31    85.15    14.16       0.686667   0.00333333          21038\n",
            "3        fg = [0, 1, 2]  bg = [3, 4, 5, 6, 7, 8, 9]  22            30000           29695         98.9833  98.9567   0.0266667  1.01667    0                   29994\n",
            "4        fg = [0, 1, 2]  bg = [3, 4, 5, 6, 7, 8, 9]  23            30000           29737         99.1233  35.1233  64          0.466667   0.41                    0\n",
            "5        fg = [0, 1, 2]  bg = [3, 4, 5, 6, 7, 8, 9]  28            30000           29536         98.4533  35.0433  63.41       0.8        0.746667                0\n",
            "6        fg = [0, 1, 2]  bg = [3, 4, 5, 6, 7, 8, 9]  22            30000           29666         98.8867  86.51    12.3767     1.07333    0.04                 7070\n",
            "7        fg = [0, 1, 2]  bg = [3, 4, 5, 6, 7, 8, 9]  22            30000           29739         99.13    24.9467  74.1833     0.14       0.73                    0\n",
            "8        fg = [0, 1, 2]  bg = [3, 4, 5, 6, 7, 8, 9]  21            30000           29883         99.61    94.8433   4.76667    0.39       0                   20727\n",
            "9        fg = [0, 1, 2]  bg = [3, 4, 5, 6, 7, 8, 9]  22            30000           29606         98.6867  41.6233  57.0633     1.04667    0.266667               39\n",
            "10       fg = [0, 1, 2]  bg = [3, 4, 5, 6, 7, 8, 9]  28            30000           29525         98.4167  13.96    84.4567     0.0466667  1.53667                 0\n",
            "Avg                                                                                              98.9313  56.3473  42.584      0.673333   0.395333             7994.5\n",
            " \n",
            "================================================================================================================================================================\n"
          ],
          "name": "stdout"
        }
      ]
    },
    {
      "cell_type": "code",
      "metadata": {
        "id": "00KPkU7EhPJj",
        "outputId": "13319ed3-91a7-4317-e854-9c1304ecb7eb",
        "colab": {
          "base_uri": "https://localhost:8080/",
          "height": 335
        }
      },
      "source": [
        "test_table1 = add_average_entry(test_table1)"
      ],
      "execution_count": 80,
      "outputs": [
        {
          "output_type": "stream",
          "text": [
            " \n",
            "================================================================================================================================================================\n",
            "S.No.    fg_class        bg_class                    Epoch used    total_points    correct      accuracy    FTPT    FFPT    FTPF    FFPF    avg_img > 0.5\n",
            "-------  --------------  --------------------------  ------------  --------------  ---------  ----------  ------  ------  ------  ------  ---------------\n",
            "1        fg = [0, 1, 2]  bg = [3, 4, 5, 6, 7, 8, 9]  NA            10000           9823           98.23   47.63   50.6     1.54    0.23             373\n",
            "2        fg = [0, 1, 2]  bg = [3, 4, 5, 6, 7, 8, 9]  NA            10000           9928           99.28   84.86   14.42    0.72    0               6961\n",
            "3        fg = [0, 1, 2]  bg = [3, 4, 5, 6, 7, 8, 9]  NA            10000           9880           98.8    98.76    0.04    1.2     0               9998\n",
            "4        fg = [0, 1, 2]  bg = [3, 4, 5, 6, 7, 8, 9]  NA            10000           9893           98.93   34.76   64.17    0.54    0.53               0\n",
            "5        fg = [0, 1, 2]  bg = [3, 4, 5, 6, 7, 8, 9]  NA            10000           9844           98.44   35.29   63.15    0.68    0.88               0\n",
            "6        fg = [0, 1, 2]  bg = [3, 4, 5, 6, 7, 8, 9]  NA            10000           9876           98.76   86.5    12.26    1.2     0.04            2400\n",
            "7        fg = [0, 1, 2]  bg = [3, 4, 5, 6, 7, 8, 9]  NA            10000           9891           98.91   25.15   73.76    0.25    0.84               0\n",
            "8        fg = [0, 1, 2]  bg = [3, 4, 5, 6, 7, 8, 9]  NA            10000           9937           99.37   94.64    4.73    0.63    0               6863\n",
            "9        fg = [0, 1, 2]  bg = [3, 4, 5, 6, 7, 8, 9]  NA            10000           9856           98.56   41.51   57.05    1.1     0.34               8\n",
            "10       fg = [0, 1, 2]  bg = [3, 4, 5, 6, 7, 8, 9]  NA            10000           9825           98.25   13.52   84.73    0.05    1.7                0\n",
            "Avg                                                                                               98.753  56.262  42.491   0.791   0.456           2660.3\n",
            " \n",
            "================================================================================================================================================================\n"
          ],
          "name": "stdout"
        }
      ]
    },
    {
      "cell_type": "code",
      "metadata": {
        "id": "pW_kUqi3hR6u",
        "outputId": "2d105128-82af-42ff-ddec-74b10a04184e",
        "colab": {
          "base_uri": "https://localhost:8080/",
          "height": 335
        }
      },
      "source": [
        "test_table2 = add_average_entry(test_table2)"
      ],
      "execution_count": 81,
      "outputs": [
        {
          "output_type": "stream",
          "text": [
            " \n",
            "================================================================================================================================================================\n",
            "S.No.    fg_class        bg_class                    Epoch used    total_points    correct      accuracy    FTPT    FFPT    FTPF    FFPF    avg_img > 0.5\n",
            "-------  --------------  --------------------------  ------------  --------------  ---------  ----------  ------  ------  ------  ------  ---------------\n",
            "1        fg = [0, 1, 2]  bg = [3, 4, 5, 6, 7, 8, 9]  NA            10000           9860           98.6    45.88   52.72    1.24     0.16            391\n",
            "2        fg = [0, 1, 2]  bg = [3, 4, 5, 6, 7, 8, 9]  NA            10000           9893           98.93   84.76   14.17    1.07     0              7008\n",
            "3        fg = [0, 1, 2]  bg = [3, 4, 5, 6, 7, 8, 9]  NA            10000           9862           98.62   98.58    0.04    1.38     0              9999\n",
            "4        fg = [0, 1, 2]  bg = [3, 4, 5, 6, 7, 8, 9]  NA            10000           9883           98.83   34.18   64.65    0.83     0.34              0\n",
            "5        fg = [0, 1, 2]  bg = [3, 4, 5, 6, 7, 8, 9]  NA            10000           9858           98.58   35.18   63.4     0.86     0.56              0\n",
            "6        fg = [0, 1, 2]  bg = [3, 4, 5, 6, 7, 8, 9]  NA            10000           9835           98.35   84.74   13.61    1.62     0.03           2415\n",
            "7        fg = [0, 1, 2]  bg = [3, 4, 5, 6, 7, 8, 9]  NA            10000           9897           98.97   24.2    74.77    0.18     0.85              0\n",
            "8        fg = [0, 1, 2]  bg = [3, 4, 5, 6, 7, 8, 9]  NA            10000           9927           99.27   94.44    4.83    0.73     0              6927\n",
            "9        fg = [0, 1, 2]  bg = [3, 4, 5, 6, 7, 8, 9]  NA            10000           9882           98.82   42.46   56.36    0.95     0.23              4\n",
            "10       fg = [0, 1, 2]  bg = [3, 4, 5, 6, 7, 8, 9]  NA            10000           9767           97.67   13.69   83.98    0        2.33              0\n",
            "Avg                                                                                               98.664  55.811  42.853   0.886    0.45           2674.4\n",
            " \n",
            "================================================================================================================================================================\n"
          ],
          "name": "stdout"
        }
      ]
    },
    {
      "cell_type": "code",
      "metadata": {
        "id": "_ZlV6qErhUUL",
        "outputId": "2f315d0b-8c18-4be8-91fe-579e188d334f",
        "colab": {
          "base_uri": "https://localhost:8080/",
          "height": 335
        }
      },
      "source": [
        "test_table3 = add_average_entry(test_table3)"
      ],
      "execution_count": 82,
      "outputs": [
        {
          "output_type": "stream",
          "text": [
            " \n",
            "================================================================================================================================================================\n",
            "S.No.    fg_class        bg_class                    Epoch used    total_points    correct      accuracy    FTPT    FFPT    FTPF    FFPF    avg_img > 0.5\n",
            "-------  --------------  --------------------------  ------------  --------------  ---------  ----------  ------  ------  ------  ------  ---------------\n",
            "1        fg = [0, 1, 2]  bg = [3, 4, 5, 6, 7, 8, 9]  NA            10000           3231           32.31    2.65   29.66   21.15   46.54               0\n",
            "2        fg = [0, 1, 2]  bg = [3, 4, 5, 6, 7, 8, 9]  NA            10000           3255           32.55    3.86   28.69    3.23   64.22              81\n",
            "3        fg = [0, 1, 2]  bg = [3, 4, 5, 6, 7, 8, 9]  NA            10000           3286           32.86    4.18   28.68    9.87   57.27            3308\n",
            "4        fg = [0, 1, 2]  bg = [3, 4, 5, 6, 7, 8, 9]  NA            10000           3255           32.55    3.82   28.73   15.4    52.05               0\n",
            "5        fg = [0, 1, 2]  bg = [3, 4, 5, 6, 7, 8, 9]  NA            10000           3255           32.55    3.58   28.97   22.06   45.39               0\n",
            "6        fg = [0, 1, 2]  bg = [3, 4, 5, 6, 7, 8, 9]  NA            10000           3456           34.56    1.75   32.81   11.09   54.35               0\n",
            "7        fg = [0, 1, 2]  bg = [3, 4, 5, 6, 7, 8, 9]  NA            10000           3265           32.65    2.32   30.33   23.22   44.13               0\n",
            "8        fg = [0, 1, 2]  bg = [3, 4, 5, 6, 7, 8, 9]  NA            10000           3255           32.55    5.94   26.61    3.42   64.03               0\n",
            "9        fg = [0, 1, 2]  bg = [3, 4, 5, 6, 7, 8, 9]  NA            10000           3255           32.55    3.16   29.39   23.14   44.31               0\n",
            "10       fg = [0, 1, 2]  bg = [3, 4, 5, 6, 7, 8, 9]  NA            10000           3356           33.56    1.66   31.9    15.45   50.99               0\n",
            "Avg                                                                                               32.869   3.292  29.577  14.803  52.328            338.9\n",
            " \n",
            "================================================================================================================================================================\n"
          ],
          "name": "stdout"
        }
      ]
    },
    {
      "cell_type": "code",
      "metadata": {
        "id": "BOvl6fUChV5j",
        "outputId": "f24906d7-ac71-48f9-d340-0c5f1c16e960",
        "colab": {
          "base_uri": "https://localhost:8080/",
          "height": 335
        }
      },
      "source": [
        "test_table4 = add_average_entry(test_table4)"
      ],
      "execution_count": 83,
      "outputs": [
        {
          "output_type": "stream",
          "text": [
            " \n",
            "================================================================================================================================================================\n",
            "S.No.    fg_class        bg_class                    Epoch used    total_points    correct      accuracy    FTPT    FFPT    FTPF    FFPF    avg_img > 0.5\n",
            "-------  --------------  --------------------------  ------------  --------------  ---------  ----------  ------  ------  ------  ------  ---------------\n",
            "1        fg = [0, 1, 2]  bg = [3, 4, 5, 6, 7, 8, 9]  NA            10000           3224           32.24    2.32    29.92   19.7   48.06               0\n",
            "2        fg = [0, 1, 2]  bg = [3, 4, 5, 6, 7, 8, 9]  NA            10000           3283           32.83    3.39    29.44    2.84  64.33              85\n",
            "3        fg = [0, 1, 2]  bg = [3, 4, 5, 6, 7, 8, 9]  NA            10000           3303           33.03    3.65    29.38    8.85  58.12            3288\n",
            "4        fg = [0, 1, 2]  bg = [3, 4, 5, 6, 7, 8, 9]  NA            10000           3283           32.83    3.55    29.28   15.29  51.88               0\n",
            "5        fg = [0, 1, 2]  bg = [3, 4, 5, 6, 7, 8, 9]  NA            10000           3283           32.83    2.98    29.85   22.05  45.12               0\n",
            "6        fg = [0, 1, 2]  bg = [3, 4, 5, 6, 7, 8, 9]  NA            10000           3440           34.4     1.66    32.74   11.6   54                  0\n",
            "7        fg = [0, 1, 2]  bg = [3, 4, 5, 6, 7, 8, 9]  NA            10000           3281           32.81    2.11    30.7    22.24  44.95               0\n",
            "8        fg = [0, 1, 2]  bg = [3, 4, 5, 6, 7, 8, 9]  NA            10000           3283           32.83    5.16    27.67    3.05  64.12               0\n",
            "9        fg = [0, 1, 2]  bg = [3, 4, 5, 6, 7, 8, 9]  NA            10000           3283           32.83    2.84    29.99   22.96  44.21               0\n",
            "10       fg = [0, 1, 2]  bg = [3, 4, 5, 6, 7, 8, 9]  NA            10000           3332           33.32    1.69    31.63   15.62  51.06               0\n",
            "Avg                                                                                               32.995   2.935   30.06   14.42  52.585            337.3\n",
            " \n",
            "================================================================================================================================================================\n"
          ],
          "name": "stdout"
        }
      ]
    },
    {
      "cell_type": "code",
      "metadata": {
        "id": "nkyMi1VBpq9a"
      },
      "source": [
        "# torch.save(fore_net.state_dict(),\"/content/drive/My Drive/Research/mosaic_from_CIFAR_involving_bottop_eigen_vectors/fore_net_epoch\"+str(epoch)+\"_fg_used\"+str(fg_used)+\".pt\")"
      ],
      "execution_count": 84,
      "outputs": []
    }
  ]
}