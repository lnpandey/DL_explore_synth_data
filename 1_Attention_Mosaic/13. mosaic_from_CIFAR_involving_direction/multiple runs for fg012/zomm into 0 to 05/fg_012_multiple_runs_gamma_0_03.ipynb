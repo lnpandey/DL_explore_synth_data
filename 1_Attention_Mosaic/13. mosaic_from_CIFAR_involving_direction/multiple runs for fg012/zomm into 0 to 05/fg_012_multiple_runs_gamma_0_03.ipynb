{
  "nbformat": 4,
  "nbformat_minor": 0,
  "metadata": {
    "accelerator": "GPU",
    "colab": {
      "name": "fg_012_multiple_runs_gamma_0_03.ipynb",
      "provenance": [],
      "collapsed_sections": [],
      "machine_shape": "hm"
    },
    "kernelspec": {
      "display_name": "Python 3",
      "language": "python",
      "name": "python3"
    },
    "language_info": {
      "codemirror_mode": {
        "name": "ipython",
        "version": 3
      },
      "file_extension": ".py",
      "mimetype": "text/x-python",
      "name": "python",
      "nbconvert_exporter": "python",
      "pygments_lexer": "ipython3",
      "version": "3.6.5"
    }
  },
  "cells": [
    {
      "cell_type": "code",
      "metadata": {
        "id": "JSjG64ra4aFu"
      },
      "source": [
        "# from google.colab import drive\n",
        "# drive.mount('/content/drive')"
      ],
      "execution_count": null,
      "outputs": []
    },
    {
      "cell_type": "code",
      "metadata": {
        "id": "V8-7SARDZErK"
      },
      "source": [
        "import torch.nn as nn\n",
        "import torch.nn.functional as F\n",
        "\n",
        "import pandas as pd\n",
        "import numpy as np\n",
        "import matplotlib.pyplot as plt\n",
        "\n",
        "import torch\n",
        "import torchvision\n",
        "import torchvision.transforms as transforms\n",
        "from torch.utils.data import Dataset, DataLoader\n",
        "from torchvision import transforms, utils\n",
        "\n",
        "from matplotlib import pyplot as plt\n",
        "import copy\n",
        "\n",
        "import random\n",
        "\n",
        "from numpy import linalg as LA\n",
        "from tabulate import tabulate\n",
        "# Ignore warnings\n",
        "import warnings\n",
        "warnings.filterwarnings(\"ignore\")\n"
      ],
      "execution_count": null,
      "outputs": []
    },
    {
      "cell_type": "code",
      "metadata": {
        "id": "acRFqJNrZErV",
        "outputId": "b469a6e2-f5f7-4f37-9665-d5265f5bac1a",
        "colab": {
          "base_uri": "https://localhost:8080/",
          "height": 54
        }
      },
      "source": [
        "transform = transforms.Compose(\n",
        "    [transforms.ToTensor(),\n",
        "     transforms.Normalize((0.5, 0.5, 0.5), (0.5, 0.5, 0.5))])\n",
        "\n",
        "trainset = torchvision.datasets.CIFAR10(root='./data', train=True, download=True, transform=transform)\n",
        "\n",
        "\n",
        "testset = torchvision.datasets.CIFAR10(root='./data', train=False, download=True, transform=transform)\n"
      ],
      "execution_count": null,
      "outputs": [
        {
          "output_type": "stream",
          "text": [
            "Files already downloaded and verified\n",
            "Files already downloaded and verified\n"
          ],
          "name": "stdout"
        }
      ]
    },
    {
      "cell_type": "code",
      "metadata": {
        "id": "FTBYzzX-fY2K",
        "outputId": "771ee9f9-0da5-4e2b-ee8b-63a6b2787cf7",
        "colab": {
          "base_uri": "https://localhost:8080/",
          "height": 36
        }
      },
      "source": [
        "gamma = 0.03\n",
        "gamma"
      ],
      "execution_count": null,
      "outputs": [
        {
          "output_type": "execute_result",
          "data": {
            "text/plain": [
              "0.03"
            ]
          },
          "metadata": {
            "tags": []
          },
          "execution_count": 4
        }
      ]
    },
    {
      "cell_type": "code",
      "metadata": {
        "id": "ygZ-VSs6j-hf",
        "outputId": "c8c88b96-86a2-4d00-9c9a-0867d8f933be",
        "colab": {
          "base_uri": "https://localhost:8080/",
          "height": 36
        }
      },
      "source": [
        "classes = ('plane', 'car', 'bird', 'cat', 'deer', 'dog', 'frog', 'horse', 'ship', 'truck')\n",
        "\n",
        "foreground_classes = {'plane', 'car', 'bird'}\n",
        "fg_used = '012'\n",
        "fg1, fg2, fg3 = 0,1,2\n",
        "\n",
        "\n",
        "all_classes = {'plane', 'car', 'bird', 'cat', 'deer', 'dog', 'frog', 'horse', 'ship', 'truck'}\n",
        "background_classes = all_classes - foreground_classes\n",
        "background_classes\n",
        "\n",
        "# print(type(foreground_classes))"
      ],
      "execution_count": null,
      "outputs": [
        {
          "output_type": "execute_result",
          "data": {
            "text/plain": [
              "{'cat', 'deer', 'dog', 'frog', 'horse', 'ship', 'truck'}"
            ]
          },
          "metadata": {
            "tags": []
          },
          "execution_count": 5
        }
      ]
    },
    {
      "cell_type": "code",
      "metadata": {
        "id": "oEPWuddXzu9f"
      },
      "source": [
        "trainloader = torch.utils.data.DataLoader(trainset, batch_size=10, shuffle=True)\n",
        "testloader = torch.utils.data.DataLoader(testset, batch_size=10, shuffle=False)\n"
      ],
      "execution_count": null,
      "outputs": []
    },
    {
      "cell_type": "code",
      "metadata": {
        "id": "n76MSJwHzu9p"
      },
      "source": [
        "dataiter = iter(trainloader)\n",
        "true_train_background_data=[]\n",
        "true_train_background_label=[]\n",
        "true_train_foreground_data=[]\n",
        "true_train_foreground_label=[]\n",
        "batch_size=10\n",
        "\n",
        "for i in range(5000):\n",
        "  images, labels = dataiter.next()\n",
        "  for j in range(batch_size):\n",
        "    if(classes[labels[j]] in background_classes):\n",
        "      img = images[j].tolist()\n",
        "      true_train_background_data.append(img)\n",
        "      true_train_background_label.append(labels[j])\n",
        "    else:\n",
        "      img = images[j].tolist()\n",
        "      true_train_foreground_data.append(img)\n",
        "      true_train_foreground_label.append(labels[j])\n",
        "            \n",
        "true_train_foreground_data = torch.tensor(true_train_foreground_data)\n",
        "true_train_foreground_label = torch.tensor(true_train_foreground_label)\n",
        "true_train_background_data = torch.tensor(true_train_background_data)\n",
        "true_train_background_label = torch.tensor(true_train_background_label)\n",
        "    "
      ],
      "execution_count": null,
      "outputs": []
    },
    {
      "cell_type": "code",
      "metadata": {
        "id": "NdYlcZPM2tmV",
        "outputId": "ddf0737f-f667-4dea-a493-78494c7e0527",
        "colab": {
          "base_uri": "https://localhost:8080/",
          "height": 36
        }
      },
      "source": [
        "len(true_train_foreground_data), len(true_train_foreground_label), len(true_train_background_data), len(true_train_background_label)"
      ],
      "execution_count": null,
      "outputs": [
        {
          "output_type": "execute_result",
          "data": {
            "text/plain": [
              "(15000, 15000, 35000, 35000)"
            ]
          },
          "metadata": {
            "tags": []
          },
          "execution_count": 8
        }
      ]
    },
    {
      "cell_type": "code",
      "metadata": {
        "id": "IgyumCe_0GMa"
      },
      "source": [
        "dataiter = iter(testloader)\n",
        "true_test_background_data=[]\n",
        "true_test_background_label=[]\n",
        "true_test_foreground_data=[]\n",
        "true_test_foreground_label=[]\n",
        "batch_size=10\n",
        "\n",
        "for i in range(1000):\n",
        "  images, labels = dataiter.next()\n",
        "  for j in range(batch_size):\n",
        "    if(classes[labels[j]] in background_classes):\n",
        "      img = images[j].tolist()\n",
        "      true_test_background_data.append(img)\n",
        "      true_test_background_label.append(labels[j])\n",
        "    else:\n",
        "      img = images[j].tolist()\n",
        "      true_test_foreground_data.append(img)\n",
        "      true_test_foreground_label.append(labels[j])\n",
        "            \n",
        "true_test_foreground_data = torch.tensor(true_test_foreground_data)\n",
        "true_test_foreground_label = torch.tensor(true_test_foreground_label)\n",
        "true_test_background_data = torch.tensor(true_test_background_data)\n",
        "true_test_background_label = torch.tensor(true_test_background_label)"
      ],
      "execution_count": null,
      "outputs": []
    },
    {
      "cell_type": "code",
      "metadata": {
        "id": "P07QyEjZ2_tH",
        "outputId": "8b596aef-6ba1-4d0a-89bc-611ba56a94f1",
        "colab": {
          "base_uri": "https://localhost:8080/",
          "height": 36
        }
      },
      "source": [
        "len(true_test_foreground_data), len(true_test_foreground_label), len(true_test_background_data), len(true_test_background_label)"
      ],
      "execution_count": null,
      "outputs": [
        {
          "output_type": "execute_result",
          "data": {
            "text/plain": [
              "(3000, 3000, 7000, 7000)"
            ]
          },
          "metadata": {
            "tags": []
          },
          "execution_count": 10
        }
      ]
    },
    {
      "cell_type": "code",
      "metadata": {
        "id": "bzU_HuQnEB29"
      },
      "source": [
        "true_train = trainset.data"
      ],
      "execution_count": null,
      "outputs": []
    },
    {
      "cell_type": "code",
      "metadata": {
        "id": "FAR6Zt2QgMdf"
      },
      "source": [
        "train_label = trainset.targets"
      ],
      "execution_count": null,
      "outputs": []
    },
    {
      "cell_type": "code",
      "metadata": {
        "id": "JZ52v93i__q5"
      },
      "source": [
        "true_train_cifar_norm=[]\n",
        "for i in range(len(true_train)):\n",
        "  true_train_cifar_norm.append(LA.norm(true_train[i]))"
      ],
      "execution_count": null,
      "outputs": []
    },
    {
      "cell_type": "code",
      "metadata": {
        "id": "TbWNZhQvAWav",
        "outputId": "673d7d24-4f75-484c-c781-60404fceb905",
        "colab": {
          "base_uri": "https://localhost:8080/",
          "height": 36
        }
      },
      "source": [
        "len(true_train_cifar_norm)"
      ],
      "execution_count": null,
      "outputs": [
        {
          "output_type": "execute_result",
          "data": {
            "text/plain": [
              "50000"
            ]
          },
          "metadata": {
            "tags": []
          },
          "execution_count": 14
        }
      ]
    },
    {
      "cell_type": "code",
      "metadata": {
        "id": "Klrwlq-RBSdc"
      },
      "source": [
        "def plot_hist(values):\n",
        "  plt.hist(values, density=True, bins=200)  # `density=False` would make counts\n",
        "  plt.ylabel('NORM')\n",
        "  plt.xlabel('Data');"
      ],
      "execution_count": null,
      "outputs": []
    },
    {
      "cell_type": "code",
      "metadata": {
        "id": "w-saABjgAaFY",
        "outputId": "6b9e0043-3e8a-4c36-80ca-daa650fe6ba8",
        "colab": {
          "base_uri": "https://localhost:8080/",
          "height": 279
        }
      },
      "source": [
        "plot_hist(true_train_cifar_norm)"
      ],
      "execution_count": null,
      "outputs": [
        {
          "output_type": "display_data",
          "data": {
            "image/png": "[encoded data removed]",
            "text/plain": [
              "<Figure size 432x288 with 1 Axes>"
            ]
          },
          "metadata": {
            "tags": [],
            "needs_background": "light"
          }
        }
      ]
    },
    {
      "cell_type": "code",
      "metadata": {
        "id": "_USgDEwbMMKY",
        "outputId": "bbb01f94-2c67-4586-c6dd-53f5ccba5e55",
        "colab": {
          "base_uri": "https://localhost:8080/",
          "height": 36
        }
      },
      "source": [
        "true_train.shape"
      ],
      "execution_count": null,
      "outputs": [
        {
          "output_type": "execute_result",
          "data": {
            "text/plain": [
              "(50000, 32, 32, 3)"
            ]
          },
          "metadata": {
            "tags": []
          },
          "execution_count": 17
        }
      ]
    },
    {
      "cell_type": "code",
      "metadata": {
        "id": "yi-39bYIMZOd",
        "outputId": "52116b05-2c99-4518-ae93-efa2e1990033",
        "colab": {
          "base_uri": "https://localhost:8080/",
          "height": 36
        }
      },
      "source": [
        "train = np.reshape(true_train, (50000,3072))\n",
        "train.shape, true_train.shape"
      ],
      "execution_count": null,
      "outputs": [
        {
          "output_type": "execute_result",
          "data": {
            "text/plain": [
              "((50000, 3072), (50000, 32, 32, 3))"
            ]
          },
          "metadata": {
            "tags": []
          },
          "execution_count": 18
        }
      ]
    },
    {
      "cell_type": "code",
      "metadata": {
        "id": "3qMpDn-xMleE"
      },
      "source": [
        "u, s, vh = LA.svd(train, full_matrices= False)"
      ],
      "execution_count": null,
      "outputs": []
    },
    {
      "cell_type": "code",
      "metadata": {
        "id": "4o7zUUJJNavO",
        "outputId": "a16949a6-a96a-4aa2-8a8f-301a24e7bd4d",
        "colab": {
          "base_uri": "https://localhost:8080/",
          "height": 36
        }
      },
      "source": [
        "u.shape , s.shape, vh.shape"
      ],
      "execution_count": null,
      "outputs": [
        {
          "output_type": "execute_result",
          "data": {
            "text/plain": [
              "((50000, 3072), (3072,), (3072, 3072))"
            ]
          },
          "metadata": {
            "tags": []
          },
          "execution_count": 20
        }
      ]
    },
    {
      "cell_type": "code",
      "metadata": {
        "id": "ZRlhUgdqSPyx",
        "outputId": "829f0c0a-46a0-490b-9d87-63bf312395fa",
        "colab": {
          "base_uri": "https://localhost:8080/",
          "height": 54
        }
      },
      "source": [
        "s"
      ],
      "execution_count": null,
      "outputs": [
        {
          "output_type": "execute_result",
          "data": {
            "text/plain": [
              "array([1.55289927e+06, 2.82437414e+05, 2.17772149e+05, ...,\n",
              "       7.31736954e+01, 7.23349722e+01, 7.18349192e+01])"
            ]
          },
          "metadata": {
            "tags": []
          },
          "execution_count": 21
        }
      ]
    },
    {
      "cell_type": "code",
      "metadata": {
        "id": "h31rbKmqVnZW",
        "outputId": "5a4c8a7c-b336-4dca-d491-cacfc5189e54",
        "colab": {
          "base_uri": "https://localhost:8080/",
          "height": 260
        }
      },
      "source": [
        "vh"
      ],
      "execution_count": null,
      "outputs": [
        {
          "output_type": "execute_result",
          "data": {
            "text/plain": [
              "array([[-0.01984194, -0.02066161, -0.02037075, ..., -0.01879724,\n",
              "        -0.01874038, -0.01729938],\n",
              "       [-0.02488245, -0.02705999, -0.03195926, ...,  0.01262528,\n",
              "         0.01096339,  0.00766722],\n",
              "       [-0.0159231 , -0.01437591, -0.01281541, ..., -0.02971411,\n",
              "        -0.0283376 , -0.02749635],\n",
              "       ...,\n",
              "       [-0.00449998,  0.00770844, -0.00281931, ..., -0.00013103,\n",
              "        -0.00080887,  0.00071151],\n",
              "       [ 0.00433324, -0.00629207,  0.00181791, ..., -0.00168695,\n",
              "         0.00131196,  0.00052667],\n",
              "       [-0.00574169,  0.00783184, -0.00186197, ...,  0.00511688,\n",
              "        -0.00678068,  0.00138508]])"
            ]
          },
          "metadata": {
            "tags": []
          },
          "execution_count": 22
        }
      ]
    },
    {
      "cell_type": "code",
      "metadata": {
        "id": "LruQuedyVs4i",
        "outputId": "825862fb-23d9-4d68-d08b-1d2b6777a1ca",
        "colab": {
          "base_uri": "https://localhost:8080/",
          "height": 260
        }
      },
      "source": [
        "dir = vh[3062:3072,:]\n",
        "dir"
      ],
      "execution_count": null,
      "outputs": [
        {
          "output_type": "execute_result",
          "data": {
            "text/plain": [
              "array([[ 0.00256167, -0.00421648,  0.00171443, ..., -0.00214198,\n",
              "         0.0024008 , -0.00026442],\n",
              "       [ 0.00629867, -0.01114679,  0.00518054, ..., -0.00382077,\n",
              "         0.00504342, -0.00113716],\n",
              "       [-0.0022958 ,  0.0006672 ,  0.00141218, ..., -0.00062172,\n",
              "         0.00201576, -0.00146441],\n",
              "       ...,\n",
              "       [-0.00449998,  0.00770844, -0.00281931, ..., -0.00013103,\n",
              "        -0.00080887,  0.00071151],\n",
              "       [ 0.00433324, -0.00629207,  0.00181791, ..., -0.00168695,\n",
              "         0.00131196,  0.00052667],\n",
              "       [-0.00574169,  0.00783184, -0.00186197, ...,  0.00511688,\n",
              "        -0.00678068,  0.00138508]])"
            ]
          },
          "metadata": {
            "tags": []
          },
          "execution_count": 23
        }
      ]
    },
    {
      "cell_type": "code",
      "metadata": {
        "id": "m260DTW6V-Ka"
      },
      "source": [
        "u1 = dir[7,:]\n",
        "u2 = dir[8,:]\n",
        "u3 = dir[9,:]"
      ],
      "execution_count": null,
      "outputs": []
    },
    {
      "cell_type": "code",
      "metadata": {
        "id": "R9OuIGt4WzlK",
        "outputId": "187e3bb5-2321-4a36-a8d3-133d301614db",
        "colab": {
          "base_uri": "https://localhost:8080/",
          "height": 54
        }
      },
      "source": [
        "u1"
      ],
      "execution_count": null,
      "outputs": [
        {
          "output_type": "execute_result",
          "data": {
            "text/plain": [
              "array([-0.00449998,  0.00770844, -0.00281931, ..., -0.00013103,\n",
              "       -0.00080887,  0.00071151])"
            ]
          },
          "metadata": {
            "tags": []
          },
          "execution_count": 25
        }
      ]
    },
    {
      "cell_type": "code",
      "metadata": {
        "id": "gswdCEwMW1-o",
        "outputId": "545cc386-f711-4d50-eabd-8c7a45b46696",
        "colab": {
          "base_uri": "https://localhost:8080/",
          "height": 54
        }
      },
      "source": [
        "u2"
      ],
      "execution_count": null,
      "outputs": [
        {
          "output_type": "execute_result",
          "data": {
            "text/plain": [
              "array([ 0.00433324, -0.00629207,  0.00181791, ..., -0.00168695,\n",
              "        0.00131196,  0.00052667])"
            ]
          },
          "metadata": {
            "tags": []
          },
          "execution_count": 26
        }
      ]
    },
    {
      "cell_type": "code",
      "metadata": {
        "id": "_GcGDZp7W2g6",
        "outputId": "8fb86cf2-e45f-46b5-9bd5-3214ff144e4c",
        "colab": {
          "base_uri": "https://localhost:8080/",
          "height": 54
        }
      },
      "source": [
        "u3"
      ],
      "execution_count": null,
      "outputs": [
        {
          "output_type": "execute_result",
          "data": {
            "text/plain": [
              "array([-0.00574169,  0.00783184, -0.00186197, ...,  0.00511688,\n",
              "       -0.00678068,  0.00138508])"
            ]
          },
          "metadata": {
            "tags": []
          },
          "execution_count": 27
        }
      ]
    },
    {
      "cell_type": "code",
      "metadata": {
        "id": "c1ORV76hfd5u",
        "outputId": "29875d2c-86e3-438a-a7f6-ffc7046accd1",
        "colab": {
          "base_uri": "https://localhost:8080/",
          "height": 36
        }
      },
      "source": [
        "len(train_label)"
      ],
      "execution_count": null,
      "outputs": [
        {
          "output_type": "execute_result",
          "data": {
            "text/plain": [
              "50000"
            ]
          },
          "metadata": {
            "tags": []
          },
          "execution_count": 28
        }
      ]
    },
    {
      "cell_type": "code",
      "metadata": {
        "id": "PUuW5wxpH1_C"
      },
      "source": [
        "def is_equal(x1, x2):\n",
        "  cnt=0\n",
        "  for i in range(len(x1)):\n",
        "    if(x1[i] == x2[i]):\n",
        "      cnt+=1\n",
        "  return cnt"
      ],
      "execution_count": null,
      "outputs": []
    },
    {
      "cell_type": "code",
      "metadata": {
        "id": "A45Ln5fwgSOW"
      },
      "source": [
        "def add_noise_cifar(train, label, gamma, fg1,fg2,fg3):\n",
        "  cnt=0\n",
        "\n",
        "  for i in range(len(label)):\n",
        "    x = train[i]\n",
        "    if(label[i] == fg1):\n",
        "      train[i] = train[i] + gamma * LA.norm(train[i]) * u1\n",
        "      cnt+=1\n",
        "\n",
        "    if(label[i] == fg2):\n",
        "      train[i] = train[i] + gamma * LA.norm(train[i]) * u2\n",
        "      cnt+=1\n",
        "\n",
        "    if(label[i] == fg3):\n",
        "      train[i] = train[i] + gamma * LA.norm(train[i]) * u3\n",
        "      cnt+=1\n",
        "    y = train[i]\n",
        "\n",
        "  print(\"total modified\",cnt)\n",
        "\n",
        "  return train"
      ],
      "execution_count": null,
      "outputs": []
    },
    {
      "cell_type": "code",
      "metadata": {
        "id": "QESEKIv3EW8b",
        "outputId": "947f789b-3745-4628-e094-9578e1aaa42f",
        "colab": {
          "base_uri": "https://localhost:8080/",
          "height": 316
        }
      },
      "source": [
        "noise_train = np.reshape(true_train, (50000,3072))\n",
        "noise_train = add_noise_cifar(noise_train, train_label, gamma , fg1,fg2,fg3)\n",
        "noise_train_cifar_norm=[]\n",
        "for i in range(len(noise_train)):\n",
        "  noise_train_cifar_norm.append(LA.norm(noise_train[i]))\n",
        "plt.hist(noise_train_cifar_norm, density=True, bins=200,label='gamma='+str(gamma))  # `density=False` would make counts\n",
        "plt.hist(true_train_cifar_norm, density=True, bins=200,label='true') \n",
        "plt.ylabel('NORM')\n",
        "plt.xlabel('Data')\n",
        "plt.legend()\n",
        "print(\"remain same\",is_equal(noise_train_cifar_norm,true_train_cifar_norm))"
      ],
      "execution_count": null,
      "outputs": [
        {
          "output_type": "stream",
          "text": [
            "total modified 15000\n",
            "remain same 35000\n"
          ],
          "name": "stdout"
        },
        {
          "output_type": "display_data",
          "data": {
            "image/png": "[encoded data removed]",
            "text/plain": [
              "<Figure size 432x288 with 1 Axes>"
            ]
          },
          "metadata": {
            "tags": [],
            "needs_background": "light"
          }
        }
      ]
    },
    {
      "cell_type": "code",
      "metadata": {
        "id": "Ko4htz117YVx",
        "outputId": "04889d12-f070-400c-ebde-c269d7ec58c6",
        "colab": {
          "base_uri": "https://localhost:8080/",
          "height": 298
        }
      },
      "source": [
        "plt.hist(true_train_cifar_norm, density=True, bins=200,label='true') \n",
        "plt.ylabel('NORM')\n",
        "plt.xlabel('Data')\n",
        "plt.legend()"
      ],
      "execution_count": null,
      "outputs": [
        {
          "output_type": "execute_result",
          "data": {
            "text/plain": [
              "<matplotlib.legend.Legend at 0x7f343b4b14e0>"
            ]
          },
          "metadata": {
            "tags": []
          },
          "execution_count": 32
        },
        {
          "output_type": "display_data",
          "data": {
            "image/png": "[encoded data removed]",
            "text/plain": [
              "<Figure size 432x288 with 1 Axes>"
            ]
          },
          "metadata": {
            "tags": [],
            "needs_background": "light"
          }
        }
      ]
    },
    {
      "cell_type": "code",
      "metadata": {
        "id": "UiF_g59Y7iEC",
        "outputId": "63cf7166-6786-4f57-aa3e-870e7adcaef7",
        "colab": {
          "base_uri": "https://localhost:8080/",
          "height": 298
        }
      },
      "source": [
        "plt.hist(noise_train_cifar_norm, density=True, bins=200,label='gamma='+str(gamma))  # `density=False` would make counts\n",
        "# plt.hist(true_train_cifar_norm, density=True, bins=200,label='true') \n",
        "plt.ylabel('NORM')\n",
        "plt.xlabel('Data')\n",
        "plt.legend()"
      ],
      "execution_count": null,
      "outputs": [
        {
          "output_type": "execute_result",
          "data": {
            "text/plain": [
              "<matplotlib.legend.Legend at 0x7f34776b4160>"
            ]
          },
          "metadata": {
            "tags": []
          },
          "execution_count": 33
        },
        {
          "output_type": "display_data",
          "data": {
            "image/png": "[encoded data removed]",
            "text/plain": [
              "<Figure size 432x288 with 1 Axes>"
            ]
          },
          "metadata": {
            "tags": [],
            "needs_background": "light"
          }
        }
      ]
    },
    {
      "cell_type": "code",
      "metadata": {
        "id": "BQDi-wiHhZt_",
        "outputId": "feca0d87-9a0f-4d84-9da7-27567b397a8d",
        "colab": {
          "base_uri": "https://localhost:8080/",
          "height": 36
        }
      },
      "source": [
        "noise_train.shape, trainset.data.shape"
      ],
      "execution_count": null,
      "outputs": [
        {
          "output_type": "execute_result",
          "data": {
            "text/plain": [
              "((50000, 3072), (50000, 32, 32, 3))"
            ]
          },
          "metadata": {
            "tags": []
          },
          "execution_count": 34
        }
      ]
    },
    {
      "cell_type": "code",
      "metadata": {
        "id": "As5AyKIUjhgA",
        "outputId": "58c9060d-9244-4fe6-ecf6-2b458958801b",
        "colab": {
          "base_uri": "https://localhost:8080/",
          "height": 36
        }
      },
      "source": [
        "noise_train = np.reshape(noise_train, (50000,32, 32, 3))\n",
        "noise_train.shape"
      ],
      "execution_count": null,
      "outputs": [
        {
          "output_type": "execute_result",
          "data": {
            "text/plain": [
              "(50000, 32, 32, 3)"
            ]
          },
          "metadata": {
            "tags": []
          },
          "execution_count": 35
        }
      ]
    },
    {
      "cell_type": "code",
      "metadata": {
        "id": "Ncd6Cbc2j1jH"
      },
      "source": [
        "trainset.data = noise_train"
      ],
      "execution_count": null,
      "outputs": []
    },
    {
      "cell_type": "code",
      "metadata": {
        "id": "tEhyHO5VYHG5"
      },
      "source": [
        "true_test = testset.data"
      ],
      "execution_count": null,
      "outputs": []
    },
    {
      "cell_type": "code",
      "metadata": {
        "id": "pNfT218kYHHF"
      },
      "source": [
        "test_label = testset.targets"
      ],
      "execution_count": null,
      "outputs": []
    },
    {
      "cell_type": "code",
      "metadata": {
        "id": "7Yvi0O2VYHHM",
        "outputId": "59895c70-1691-43c7-b3c5-bfb723057a06",
        "colab": {
          "base_uri": "https://localhost:8080/",
          "height": 36
        }
      },
      "source": [
        "true_test.shape"
      ],
      "execution_count": null,
      "outputs": [
        {
          "output_type": "execute_result",
          "data": {
            "text/plain": [
              "(10000, 32, 32, 3)"
            ]
          },
          "metadata": {
            "tags": []
          },
          "execution_count": 39
        }
      ]
    },
    {
      "cell_type": "code",
      "metadata": {
        "id": "xTNF0gS3YHHS",
        "outputId": "48ba1b13-3f90-4beb-f620-9c5ab672cc2f",
        "colab": {
          "base_uri": "https://localhost:8080/",
          "height": 36
        }
      },
      "source": [
        "test = np.reshape(true_test, (10000,3072))\n",
        "test.shape"
      ],
      "execution_count": null,
      "outputs": [
        {
          "output_type": "execute_result",
          "data": {
            "text/plain": [
              "(10000, 3072)"
            ]
          },
          "metadata": {
            "tags": []
          },
          "execution_count": 40
        }
      ]
    },
    {
      "cell_type": "code",
      "metadata": {
        "id": "PRLw2cTVYHIQ",
        "outputId": "c6a1064f-2e48-4821-ed8c-945406b6d65d",
        "colab": {
          "base_uri": "https://localhost:8080/",
          "height": 36
        }
      },
      "source": [
        "len(test_label)"
      ],
      "execution_count": null,
      "outputs": [
        {
          "output_type": "execute_result",
          "data": {
            "text/plain": [
              "10000"
            ]
          },
          "metadata": {
            "tags": []
          },
          "execution_count": 41
        }
      ]
    },
    {
      "cell_type": "code",
      "metadata": {
        "id": "9x02rkwYoFFM",
        "outputId": "1d6873c0-e952-40f3-a861-427daa4af683",
        "colab": {
          "base_uri": "https://localhost:8080/",
          "height": 298
        }
      },
      "source": [
        "true_test_cifar_norm=[]\n",
        "for i in range(len(test)):\n",
        "  true_test_cifar_norm.append(LA.norm(test[i]))\n",
        "\n",
        "plt.hist(true_test_cifar_norm, density=True, bins=200,label='true') \n",
        "plt.ylabel('NORM')\n",
        "plt.xlabel('Data')\n",
        "plt.legend()"
      ],
      "execution_count": null,
      "outputs": [
        {
          "output_type": "execute_result",
          "data": {
            "text/plain": [
              "<matplotlib.legend.Legend at 0x7f34773daa90>"
            ]
          },
          "metadata": {
            "tags": []
          },
          "execution_count": 42
        },
        {
          "output_type": "display_data",
          "data": {
            "image/png": "[encoded data removed]",
            "text/plain": [
              "<Figure size 432x288 with 1 Axes>"
            ]
          },
          "metadata": {
            "tags": [],
            "needs_background": "light"
          }
        }
      ]
    },
    {
      "cell_type": "code",
      "metadata": {
        "id": "_EB2OcUZokQc",
        "outputId": "7d16952a-7da1-4d1f-8f15-4411cc9082cd",
        "colab": {
          "base_uri": "https://localhost:8080/",
          "height": 316
        }
      },
      "source": [
        "noise_test = np.reshape(true_test, (10000,3072))\n",
        "noise_test = add_noise_cifar(noise_test, test_label, gamma , fg1,fg2,fg3)\n",
        "noise_test_cifar_norm=[]\n",
        "for i in range(len(noise_test)):\n",
        "  noise_test_cifar_norm.append(LA.norm(noise_test[i]))\n",
        "plt.hist(noise_test_cifar_norm, density=True, bins=200,label='gamma='+str(gamma))  # `density=False` would make counts\n",
        "plt.hist(true_test_cifar_norm, density=True, bins=200,label='true') \n",
        "plt.ylabel('NORM')\n",
        "plt.xlabel('Data')\n",
        "plt.legend()\n",
        "is_equal(noise_test_cifar_norm,true_test_cifar_norm)"
      ],
      "execution_count": null,
      "outputs": [
        {
          "output_type": "stream",
          "text": [
            "total modified 3000\n"
          ],
          "name": "stdout"
        },
        {
          "output_type": "execute_result",
          "data": {
            "text/plain": [
              "7000"
            ]
          },
          "metadata": {
            "tags": []
          },
          "execution_count": 43
        },
        {
          "output_type": "display_data",
          "data": {
            "image/png": "[encoded data removed]",
            "text/plain": [
              "<Figure size 432x288 with 1 Axes>"
            ]
          },
          "metadata": {
            "tags": [],
            "needs_background": "light"
          }
        }
      ]
    },
    {
      "cell_type": "code",
      "metadata": {
        "id": "2qA07ljGQFJ7",
        "outputId": "7cd4248f-7b93-4726-a353-ba3f3030deef",
        "colab": {
          "base_uri": "https://localhost:8080/",
          "height": 298
        }
      },
      "source": [
        "plt.hist(true_test_cifar_norm, density=True, bins=200,label='true') \n",
        "plt.ylabel('NORM')\n",
        "plt.xlabel('Data')\n",
        "plt.legend()"
      ],
      "execution_count": null,
      "outputs": [
        {
          "output_type": "execute_result",
          "data": {
            "text/plain": [
              "<matplotlib.legend.Legend at 0x7f34773c42e8>"
            ]
          },
          "metadata": {
            "tags": []
          },
          "execution_count": 44
        },
        {
          "output_type": "display_data",
          "data": {
            "image/png": "[encoded data removed]",
            "text/plain": [
              "<Figure size 432x288 with 1 Axes>"
            ]
          },
          "metadata": {
            "tags": [],
            "needs_background": "light"
          }
        }
      ]
    },
    {
      "cell_type": "code",
      "metadata": {
        "id": "d0VFtDFrQFKO",
        "outputId": "607857ea-2b3e-495b-ed6b-2e044b95586a",
        "colab": {
          "base_uri": "https://localhost:8080/",
          "height": 298
        }
      },
      "source": [
        "plt.hist(noise_test_cifar_norm, density=True, bins=200,label='gamma='+str(gamma))  # `density=False` would make counts\n",
        "# plt.hist(true_train_cifar_norm, density=True, bins=200,label='true') \n",
        "plt.ylabel('NORM')\n",
        "plt.xlabel('Data')\n",
        "plt.legend()"
      ],
      "execution_count": null,
      "outputs": [
        {
          "output_type": "execute_result",
          "data": {
            "text/plain": [
              "<matplotlib.legend.Legend at 0x7f343b3e1a58>"
            ]
          },
          "metadata": {
            "tags": []
          },
          "execution_count": 45
        },
        {
          "output_type": "display_data",
          "data": {
            "image/png": "[encoded data removed]",
            "text/plain": [
              "<Figure size 432x288 with 1 Axes>"
            ]
          },
          "metadata": {
            "tags": [],
            "needs_background": "light"
          }
        }
      ]
    },
    {
      "cell_type": "code",
      "metadata": {
        "id": "KHElHqmrYHIX",
        "outputId": "f9c84276-9dbf-4780-be52-c503fe33460e",
        "colab": {
          "base_uri": "https://localhost:8080/",
          "height": 36
        }
      },
      "source": [
        "noise_test.shape, testset.data.shape"
      ],
      "execution_count": null,
      "outputs": [
        {
          "output_type": "execute_result",
          "data": {
            "text/plain": [
              "((10000, 3072), (10000, 32, 32, 3))"
            ]
          },
          "metadata": {
            "tags": []
          },
          "execution_count": 46
        }
      ]
    },
    {
      "cell_type": "code",
      "metadata": {
        "id": "DY51kmksYHIb",
        "outputId": "b127fa21-5879-4e47-bc94-250eb15485cc",
        "colab": {
          "base_uri": "https://localhost:8080/",
          "height": 36
        }
      },
      "source": [
        "noise_test = np.reshape(noise_test, (10000,32, 32, 3))\n",
        "noise_test.shape"
      ],
      "execution_count": null,
      "outputs": [
        {
          "output_type": "execute_result",
          "data": {
            "text/plain": [
              "(10000, 32, 32, 3)"
            ]
          },
          "metadata": {
            "tags": []
          },
          "execution_count": 47
        }
      ]
    },
    {
      "cell_type": "code",
      "metadata": {
        "id": "AGDb6gpjYHIe"
      },
      "source": [
        "testset.data = noise_test"
      ],
      "execution_count": null,
      "outputs": []
    },
    {
      "cell_type": "code",
      "metadata": {
        "id": "iLulDYL_ndvY",
        "outputId": "0d64170d-8286-4291-b873-016ba3acbd6c",
        "colab": {
          "base_uri": "https://localhost:8080/",
          "height": 36
        }
      },
      "source": [
        "fg = [fg1,fg2,fg3]\n",
        "bg = list(set([0,1,2,3,4,5,6,7,8,9])-set(fg))\n",
        "fg,bg"
      ],
      "execution_count": null,
      "outputs": [
        {
          "output_type": "execute_result",
          "data": {
            "text/plain": [
              "([0, 1, 2], [3, 4, 5, 6, 7, 8, 9])"
            ]
          },
          "metadata": {
            "tags": []
          },
          "execution_count": 49
        }
      ]
    },
    {
      "cell_type": "code",
      "metadata": {
        "id": "5Jk7ZzLSX-Mf"
      },
      "source": [
        "trainloader = torch.utils.data.DataLoader(trainset, batch_size=10, shuffle=True)\n",
        "testloader = torch.utils.data.DataLoader(testset, batch_size=10, shuffle=False)\n"
      ],
      "execution_count": null,
      "outputs": []
    },
    {
      "cell_type": "code",
      "metadata": {
        "id": "gLiZ8Y0EkGE5"
      },
      "source": [
        "dataiter = iter(trainloader)\n",
        "train_background_data=[]\n",
        "train_background_label=[]\n",
        "train_foreground_data=[]\n",
        "train_foreground_label=[]\n",
        "batch_size=10\n",
        "\n",
        "for i in range(5000):\n",
        "  images, labels = dataiter.next()\n",
        "  for j in range(batch_size):\n",
        "    if(classes[labels[j]] in background_classes):\n",
        "      img = images[j].tolist()\n",
        "      train_background_data.append(img)\n",
        "      train_background_label.append(labels[j])\n",
        "    else:\n",
        "      img = images[j].tolist()\n",
        "      train_foreground_data.append(img)\n",
        "      train_foreground_label.append(labels[j])\n",
        "\n",
        "train_foreground_data = torch.tensor(train_foreground_data)\n",
        "train_foreground_label = torch.tensor(train_foreground_label)\n",
        "train_background_data = torch.tensor(train_background_data)\n",
        "train_background_label = torch.tensor(train_background_label)    "
      ],
      "execution_count": null,
      "outputs": []
    },
    {
      "cell_type": "code",
      "metadata": {
        "id": "SRl_9E-6SLLe"
      },
      "source": [
        "dataiter = iter(testloader)\n",
        "test_background_data=[]\n",
        "test_background_label=[]\n",
        "test_foreground_data=[]\n",
        "test_foreground_label=[]\n",
        "batch_size=10\n",
        "\n",
        "for i in range(1000):\n",
        "  images, labels = dataiter.next()\n",
        "  for j in range(batch_size):\n",
        "    if(classes[labels[j]] in background_classes):\n",
        "      img = images[j].tolist()\n",
        "      test_background_data.append(img)\n",
        "      test_background_label.append(labels[j])\n",
        "    else:\n",
        "      img = images[j].tolist()\n",
        "      test_foreground_data.append(img)\n",
        "      test_foreground_label.append(labels[j])\n",
        "\n",
        "test_foreground_data = torch.tensor(test_foreground_data)\n",
        "test_foreground_label = torch.tensor(test_foreground_label)\n",
        "test_background_data = torch.tensor(test_background_data)\n",
        "test_background_label = torch.tensor(test_background_label)    "
      ],
      "execution_count": null,
      "outputs": []
    },
    {
      "cell_type": "code",
      "metadata": {
        "id": "seziBl0rkH0Y"
      },
      "source": [
        "def imshow(img):\n",
        "  img = img / 2 + 0.5     # unnormalize\n",
        "  npimg = img#.numpy()\n",
        "  plt.imshow(np.transpose(npimg, (1, 2, 0)))\n",
        "  plt.show()"
      ],
      "execution_count": null,
      "outputs": []
    },
    {
      "cell_type": "code",
      "metadata": {
        "id": "DmxEx0N3kOxZ",
        "outputId": "e1e12be1-b930-40a7-ec7d-7665f99fc7b9",
        "colab": {
          "base_uri": "https://localhost:8080/",
          "height": 807
        }
      },
      "source": [
        "img1 = torch.cat((true_test_foreground_data[27],true_test_foreground_data[3],true_test_foreground_data[43]),1)\n",
        "imshow(img1)\n",
        "img2 = torch.cat((test_foreground_data[27],test_foreground_data[3],test_foreground_data[43]),1)\n",
        "imshow(img2)\n",
        "img3 = torch.cat((img1,img2),2)\n",
        "imshow(img3)\n",
        "print(img2.size())\n",
        "print(LA.norm(test_foreground_data[27]), LA.norm(true_test_foreground_data[27]))"
      ],
      "execution_count": null,
      "outputs": [
        {
          "output_type": "display_data",
          "data": {
            "image/png": "[encoded data removed]",
            "text/plain": [
              "<Figure size 432x288 with 1 Axes>"
            ]
          },
          "metadata": {
            "tags": [],
            "needs_background": "light"
          }
        },
        {
          "output_type": "display_data",
          "data": {
            "image/png": "[encoded data removed]",
            "text/plain": [
              "<Figure size 432x288 with 1 Axes>"
            ]
          },
          "metadata": {
            "tags": [],
            "needs_background": "light"
          }
        },
        {
          "output_type": "display_data",
          "data": {
            "image/png": "[encoded data removed]",
            "text/plain": [
              "<Figure size 432x288 with 1 Axes>"
            ]
          },
          "metadata": {
            "tags": [],
            "needs_background": "light"
          }
        },
        {
          "output_type": "stream",
          "text": [
            "torch.Size([3, 96, 32])\n",
            "15.536538 15.428806\n"
          ],
          "name": "stdout"
        }
      ]
    },
    {
      "cell_type": "code",
      "metadata": {
        "id": "SVotKJvGnAUJ",
        "outputId": "8a14ec1d-d463-4a78-ad2a-415f1c22fc90",
        "colab": {
          "base_uri": "https://localhost:8080/",
          "height": 1000
        }
      },
      "source": [
        "import random\n",
        "for i in range(10):\n",
        "  random.seed(i)\n",
        "  a = np.random.randint(0,10000)\n",
        "  img1 = torch.cat((true_test_foreground_data[i],test_foreground_data[i]),2)\n",
        "  imshow(img1)"
      ],
      "execution_count": null,
      "outputs": [
        {
          "output_type": "display_data",
          "data": {
            "image/png": "[encoded data removed]",
            "text/plain": [
              "<Figure size 432x288 with 1 Axes>"
            ]
          },
          "metadata": {
            "tags": [],
            "needs_background": "light"
          }
        },
        {
          "output_type": "display_data",
          "data": {
            "image/png": "[encoded data removed]",
            "text/plain": [
              "<Figure size 432x288 with 1 Axes>"
            ]
          },
          "metadata": {
            "tags": [],
            "needs_background": "light"
          }
        },
        {
          "output_type": "display_data",
          "data": {
            "image/png": "[encoded data removed]",
            "text/plain": [
              "<Figure size 432x288 with 1 Axes>"
            ]
          },
          "metadata": {
            "tags": [],
            "needs_background": "light"
          }
        },
        {
          "output_type": "display_data",
          "data": {
            "image/png": "[encoded data removed]",
            "text/plain": [
              "<Figure size 432x288 with 1 Axes>"
            ]
          },
          "metadata": {
            "tags": [],
            "needs_background": "light"
          }
        },
        {
          "output_type": "display_data",
          "data": {
            "image/png": "[encoded data removed]",
            "text/plain": [
              "<Figure size 432x288 with 1 Axes>"
            ]
          },
          "metadata": {
            "tags": [],
            "needs_background": "light"
          }
        },
        {
          "output_type": "display_data",
          "data": {
            "image/png": "[encoded data removed]",
            "text/plain": [
              "<Figure size 432x288 with 1 Axes>"
            ]
          },
          "metadata": {
            "tags": [],
            "needs_background": "light"
          }
        },
        {
          "output_type": "display_data",
          "data": {
            "image/png": "[encoded data removed]",
            "text/plain": [
              "<Figure size 432x288 with 1 Axes>"
            ]
          },
          "metadata": {
            "tags": [],
            "needs_background": "light"
          }
        },
        {
          "output_type": "display_data",
          "data": {
            "image/png": "[encoded data removed]",
            "text/plain": [
              "<Figure size 432x288 with 1 Axes>"
            ]
          },
          "metadata": {
            "tags": [],
            "needs_background": "light"
          }
        },
        {
          "output_type": "display_data",
          "data": {
            "image/png": "[encoded data removed]",
            "text/plain": [
              "<Figure size 432x288 with 1 Axes>"
            ]
          },
          "metadata": {
            "tags": [],
            "needs_background": "light"
          }
        },
        {
          "output_type": "display_data",
          "data": {
            "image/png": "[encoded data removed]",
            "text/plain": [
              "<Figure size 432x288 with 1 Axes>"
            ]
          },
          "metadata": {
            "tags": [],
            "needs_background": "light"
          }
        }
      ]
    },
    {
      "cell_type": "code",
      "metadata": {
        "id": "wo78BztGTwwL"
      },
      "source": [
        "def plot_vectors(u1,u2,u3):\n",
        "  img = np.reshape(u1,(3,32,32))\n",
        "  img = img / 2 + 0.5     # unnormalize\n",
        "  npimg = img#.numpy()\n",
        "  print(\"vector u1 norm\",LA.norm(img))\n",
        "  plt.figure(1)\n",
        "  plt.imshow(np.transpose(npimg, (1, 2, 0)))\n",
        "  plt.title(\"vector u1\")\n",
        "\n",
        "  img = np.reshape(u2,(3,32,32))\n",
        "  img = img / 2 + 0.5     # unnormalize\n",
        "  npimg = img#.numpy()\n",
        "  print(\"vector u2 norm\",LA.norm(img))\n",
        "  plt.figure(2)\n",
        "  plt.imshow(np.transpose(npimg, (1, 2, 0)))\n",
        "  plt.title(\"vector u2\")\n",
        "\n",
        "  img = np.reshape(u3,(3,32,32))\n",
        "  img = img / 2 + 0.5     # unnormalize\n",
        "  npimg = img#.numpy()\n",
        "  print(\"vector u3 norm\",LA.norm(img))\n",
        "  plt.figure(3)\n",
        "  plt.imshow(np.transpose(npimg, (1, 2, 0)))\n",
        "  plt.title(\"vector u3\")\n",
        "  plt.show()"
      ],
      "execution_count": null,
      "outputs": []
    },
    {
      "cell_type": "code",
      "metadata": {
        "id": "72zcYiJsTPEr",
        "outputId": "7cda1c7c-a546-4c49-9e34-e212e2d2cee6",
        "colab": {
          "base_uri": "https://localhost:8080/",
          "height": 865
        }
      },
      "source": [
        "plot_vectors(u1,u2,u3)"
      ],
      "execution_count": null,
      "outputs": [
        {
          "output_type": "stream",
          "text": [
            "vector u1 norm 27.717323153497116\n",
            "vector u2 norm 27.71732319535422\n",
            "vector u3 norm 27.7173231446186\n"
          ],
          "name": "stdout"
        },
        {
          "output_type": "display_data",
          "data": {
            "image/png": "[encoded data removed]",
            "text/plain": [
              "<Figure size 432x288 with 1 Axes>"
            ]
          },
          "metadata": {
            "tags": [],
            "needs_background": "light"
          }
        },
        {
          "output_type": "display_data",
          "data": {
            "image/png": "[encoded data removed]",
            "text/plain": [
              "<Figure size 432x288 with 1 Axes>"
            ]
          },
          "metadata": {
            "tags": [],
            "needs_background": "light"
          }
        },
        {
          "output_type": "display_data",
          "data": {
            "image/png": "[encoded data removed]",
            "text/plain": [
              "<Figure size 432x288 with 1 Axes>"
            ]
          },
          "metadata": {
            "tags": [],
            "needs_background": "light"
          }
        }
      ]
    },
    {
      "cell_type": "code",
      "metadata": {
        "id": "wFpwvWrzYJQi"
      },
      "source": [
        "class MosaicDataset(Dataset):\n",
        "  \"\"\"MosaicDataset dataset.\"\"\"\n",
        "\n",
        "  def __init__(self, mosaic_list_of_images, mosaic_label, fore_idx):\n",
        "    \"\"\"\n",
        "      Args:\n",
        "        csv_file (string): Path to the csv file with annotations.\n",
        "        root_dir (string): Directory with all the images.\n",
        "        transform (callable, optional): Optional transform to be applied\n",
        "            on a sample.\n",
        "    \"\"\"\n",
        "    self.mosaic = mosaic_list_of_images\n",
        "    self.label = mosaic_label\n",
        "    self.fore_idx = fore_idx\n",
        "\n",
        "  def __len__(self):\n",
        "    return len(self.label)\n",
        "\n",
        "  def __getitem__(self, idx):\n",
        "    return self.mosaic[idx] , self.label[idx], self.fore_idx[idx]"
      ],
      "execution_count": null,
      "outputs": []
    },
    {
      "cell_type": "code",
      "metadata": {
        "id": "DxW0w8_BXsih"
      },
      "source": [
        "def create_mosaic_img(background_data, foreground_data, foreground_label, bg_idx,fg_idx,fg,fg1): \n",
        "  \"\"\"\n",
        "  bg_idx : list of indexes of background_data[] to be used as background images in mosaic\n",
        "  fg_idx : index of image to be used as foreground image from foreground data\n",
        "  fg : at what position/index foreground image has to be stored out of 0-8\n",
        "  \"\"\"\n",
        "  image_list=[]\n",
        "  j=0\n",
        "  for i in range(9):\n",
        "    if i != fg:\n",
        "      image_list.append(background_data[bg_idx[j]].type(\"torch.DoubleTensor\"))\n",
        "      j+=1\n",
        "    else: \n",
        "      image_list.append(foreground_data[fg_idx].type(\"torch.DoubleTensor\"))\n",
        "      label = foreground_label[fg_idx] -fg1  #-7  # minus 7 because our fore ground classes are 7,8,9 but we have to store it as 0,1,2\n",
        "  #image_list = np.concatenate(image_list ,axis=0)\n",
        "  image_list = torch.stack(image_list) \n",
        "  return image_list,label"
      ],
      "execution_count": null,
      "outputs": []
    },
    {
      "cell_type": "code",
      "metadata": {
        "id": "jTpidLeLVyyK"
      },
      "source": [
        "def init_mosaic_creation(bg_size, fg_size, desired_num, background_data, foreground_data, foreground_label,fg1):\n",
        "  # bg_size = 35000\n",
        "  # fg_size = 15000\n",
        "  # desired_num = 30000\n",
        "  mosaic_list_of_images =[]      # list of mosaic images, each mosaic image is saved as list of 9 images\n",
        "  fore_idx =[]                   # list of indexes at which foreground image is present in a mosaic image i.e from 0 to 9               \n",
        "  mosaic_label=[]                # label of mosaic image = foreground class present in that mosaic\n",
        "  for i in range(desired_num):\n",
        "    np.random.seed(i+ bg_size + desired_num)\n",
        "    bg_idx = np.random.randint(0,bg_size,8)\n",
        "    # print(bg_idx)\n",
        "    np.random.seed(i+ fg_size + desired_num)\n",
        "    fg_idx = np.random.randint(0,fg_size)\n",
        "    # print(fg_idx)\n",
        "    fg = np.random.randint(0,9)\n",
        "    fore_idx.append(fg)\n",
        "    image_list,label = create_mosaic_img(background_data, foreground_data, foreground_label ,bg_idx,fg_idx,fg, fg1)\n",
        "    mosaic_list_of_images.append(image_list)\n",
        "    mosaic_label.append(label)\n",
        "  \n",
        "  return mosaic_list_of_images, mosaic_label, fore_idx"
      ],
      "execution_count": null,
      "outputs": []
    },
    {
      "cell_type": "code",
      "metadata": {
        "id": "WuIMxXjgV1sB"
      },
      "source": [
        "train_mosaic_list_of_images, train_mosaic_label, train_fore_idx = init_mosaic_creation(bg_size = 35000, \n",
        "                                                                     fg_size = 15000, \n",
        "                                                                     desired_num = 30000, \n",
        "                                                                     background_data = train_background_data, \n",
        "                                                                     foreground_data = train_foreground_data, \n",
        "                                                                     foreground_label = train_foreground_label,\n",
        "                                                                     fg1 = fg1\n",
        "                                                                     )"
      ],
      "execution_count": null,
      "outputs": []
    },
    {
      "cell_type": "code",
      "metadata": {
        "id": "jNw9xEHdYLRQ"
      },
      "source": [
        "batch = 250\n",
        "msd_1 = MosaicDataset(train_mosaic_list_of_images, train_mosaic_label , train_fore_idx)\n",
        "train_loader_from_noise_train_mosaic_30k = DataLoader( msd_1,batch_size= batch ,shuffle=True)"
      ],
      "execution_count": null,
      "outputs": []
    },
    {
      "cell_type": "code",
      "metadata": {
        "id": "uy9iem2zYT-p"
      },
      "source": [
        "test_mosaic_list_of_images, test_mosaic_label, test_fore_idx = init_mosaic_creation(bg_size = 35000, \n",
        "                                                                     fg_size = 15000, \n",
        "                                                                     desired_num = 10000, \n",
        "                                                                     background_data = train_background_data, \n",
        "                                                                     foreground_data = train_foreground_data, \n",
        "                                                                     foreground_label = train_foreground_label,\n",
        "                                                                     fg1 = fg1\n",
        "                                                                     )"
      ],
      "execution_count": null,
      "outputs": []
    },
    {
      "cell_type": "code",
      "metadata": {
        "id": "ek_hNOGfY_Rg"
      },
      "source": [
        "batch = 250\n",
        "msd_2 = MosaicDataset(test_mosaic_list_of_images, test_mosaic_label , test_fore_idx)\n",
        "test_loader_from_noise_train_mosaic_30k = DataLoader( msd_2, batch_size= batch ,shuffle=True)"
      ],
      "execution_count": null,
      "outputs": []
    },
    {
      "cell_type": "code",
      "metadata": {
        "id": "k9Fb3xqvZXgY"
      },
      "source": [
        "test_mosaic_list_of_images_1, test_mosaic_label_1, test_fore_idx_1 = init_mosaic_creation(bg_size = 7000, \n",
        "                                                                     fg_size = 3000, \n",
        "                                                                     desired_num = 10000, \n",
        "                                                                     background_data = test_background_data, \n",
        "                                                                     foreground_data = test_foreground_data, \n",
        "                                                                     foreground_label = test_foreground_label,\n",
        "                                                                     fg1 = fg1\n",
        "                                                                     )"
      ],
      "execution_count": null,
      "outputs": []
    },
    {
      "cell_type": "code",
      "metadata": {
        "id": "D491Dr2eZxXo"
      },
      "source": [
        "batch = 250\n",
        "msd_3 = MosaicDataset(test_mosaic_list_of_images_1, test_mosaic_label_1 , test_fore_idx_1)\n",
        "test_loader_from_noise_test_mosaic_10k = DataLoader( msd_3, batch_size= batch ,shuffle=True)"
      ],
      "execution_count": null,
      "outputs": []
    },
    {
      "cell_type": "code",
      "metadata": {
        "id": "vfEaNoxVaTEp"
      },
      "source": [
        "test_mosaic_list_of_images_2, test_mosaic_label_2, test_fore_idx_2 = init_mosaic_creation(bg_size = 35000, \n",
        "                                                                     fg_size = 15000, \n",
        "                                                                     desired_num = 10000, \n",
        "                                                                     background_data = true_train_background_data, \n",
        "                                                                     foreground_data = true_train_foreground_data, \n",
        "                                                                     foreground_label = true_train_foreground_label,\n",
        "                                                                     fg1 = fg1\n",
        "                                                                     )"
      ],
      "execution_count": null,
      "outputs": []
    },
    {
      "cell_type": "code",
      "metadata": {
        "id": "ytvVuHTgaTEu"
      },
      "source": [
        "batch = 250\n",
        "msd_4 = MosaicDataset(test_mosaic_list_of_images_2, test_mosaic_label_2, test_fore_idx_2)\n",
        "test_loader_from_true_train_mosaic_30k = DataLoader( msd_4, batch_size= batch , shuffle=True)"
      ],
      "execution_count": null,
      "outputs": []
    },
    {
      "cell_type": "code",
      "metadata": {
        "id": "cbN6OQzxaTEy"
      },
      "source": [
        "test_mosaic_list_of_images_3, test_mosaic_label_3, test_fore_idx_3 = init_mosaic_creation(bg_size = 7000, \n",
        "                                                                     fg_size = 3000, \n",
        "                                                                     desired_num = 10000, \n",
        "                                                                     background_data = true_test_background_data, \n",
        "                                                                     foreground_data = true_test_foreground_data, \n",
        "                                                                     foreground_label = true_test_foreground_label,\n",
        "                                                                     fg1 = fg1\n",
        "                                                                     )"
      ],
      "execution_count": null,
      "outputs": []
    },
    {
      "cell_type": "code",
      "metadata": {
        "id": "Mu890cyTaTE2"
      },
      "source": [
        "batch = 250\n",
        "msd_5 = MosaicDataset(test_mosaic_list_of_images_3, test_mosaic_label_3, test_fore_idx_3)\n",
        "test_loader_from_true_train_mosaic_10k = DataLoader( msd_5, batch_size= batch ,shuffle=True)"
      ],
      "execution_count": null,
      "outputs": []
    },
    {
      "cell_type": "code",
      "metadata": {
        "id": "dgQ0htWqkqzo"
      },
      "source": [
        "class Module1(nn.Module):\n",
        "  def __init__(self):\n",
        "    super(Module1, self).__init__()\n",
        "    self.conv1 = nn.Conv2d(3, 6, 5)\n",
        "    self.pool = nn.MaxPool2d(2, 2)\n",
        "    self.conv2 = nn.Conv2d(6, 16, 5)\n",
        "    self.fc1 = nn.Linear(16 * 5 * 5, 120)\n",
        "    self.fc2 = nn.Linear(120, 84)\n",
        "    self.fc3 = nn.Linear(84, 10)\n",
        "    self.fc4 = nn.Linear(10,1)\n",
        "\n",
        "  def forward(self, x):\n",
        "    x = self.pool(F.relu(self.conv1(x)))\n",
        "    x = self.pool(F.relu(self.conv2(x)))\n",
        "    x = x.view(-1, 16 * 5 * 5)\n",
        "    x = F.relu(self.fc1(x))\n",
        "    x = F.relu(self.fc2(x))\n",
        "    x = F.relu(self.fc3(x))\n",
        "    x = self.fc4(x)\n",
        "    return x"
      ],
      "execution_count": null,
      "outputs": []
    },
    {
      "cell_type": "code",
      "metadata": {
        "id": "XElkdct-kvQB"
      },
      "source": [
        "class Module2(nn.Module):\n",
        "  def __init__(self):\n",
        "    super(Module2, self).__init__()\n",
        "    self.module1 = Module1().double()\n",
        "    self.conv1 = nn.Conv2d(3, 6, 5)\n",
        "    self.pool = nn.MaxPool2d(2, 2)\n",
        "    self.conv2 = nn.Conv2d(6, 16, 5)\n",
        "    self.fc1 = nn.Linear(16 * 5 * 5, 120)\n",
        "    self.fc2 = nn.Linear(120, 84)\n",
        "    self.fc3 = nn.Linear(84, 10)\n",
        "    self.fc4 = nn.Linear(10,3)\n",
        "\n",
        "  def forward(self,z):  #z batch of list of 9 images\n",
        "    y = torch.zeros([batch,3, 32,32], dtype=torch.float64)\n",
        "    x = torch.zeros([batch,9],dtype=torch.float64)\n",
        "    x = x.to(\"cuda\")\n",
        "    y = y.to(\"cuda\")\n",
        "    for i in range(9):\n",
        "        x[:,i] = self.module1.forward(z[:,i])[:,0]\n",
        "\n",
        "    x = F.softmax(x,dim=1)\n",
        "\n",
        "    x1 = x[:,0]\n",
        "    torch.mul(x1[:,None,None,None],z[:,0])\n",
        "\n",
        "    for i in range(9):            \n",
        "      x1 = x[:,i]          \n",
        "      y = y + torch.mul(x1[:,None,None,None],z[:,i])\n",
        "      y = y.contiguous()\n",
        "\n",
        "\n",
        "    y1 = self.pool(F.relu(self.conv1(y)))\n",
        "    y1 = self.pool(F.relu(self.conv2(y1)))\n",
        "    y1 = y1.contiguous()\n",
        "    y1 = y1.reshape(-1, 16 * 5 * 5)\n",
        "\n",
        "    y1 = F.relu(self.fc1(y1))\n",
        "    y1 = F.relu(self.fc2(y1))\n",
        "    y1 = F.relu(self.fc3(y1))\n",
        "    y1 = self.fc4(y1)\n",
        "    return y1 , x, y"
      ],
      "execution_count": null,
      "outputs": []
    },
    {
      "cell_type": "code",
      "metadata": {
        "id": "Nus7AK1xRX7W"
      },
      "source": [
        "def training(trainloader, fore_net, epochs=600):\n",
        "  import torch.optim as optim\n",
        "  criterion = nn.CrossEntropyLoss()\n",
        "  optimizer = optim.SGD(fore_net.parameters(), lr=0.01, momentum=0.9)\n",
        "  nos_epochs = epochs\n",
        "\n",
        "  for epoch in range(nos_epochs):  # loop over the dataset multiple times\n",
        "    running_loss = 0.0\n",
        "    cnt=0\n",
        "    mini_loss = []\n",
        "    iteration = 30000 // batch    \n",
        "    for i, data in  enumerate(train_loader_from_noise_train_mosaic_30k):\n",
        "      inputs , labels , fore_idx = data\n",
        "      inputs, labels, fore_idx = inputs.to(\"cuda\"),labels.to(\"cuda\"), fore_idx.to(\"cuda\")\n",
        "\n",
        "      optimizer.zero_grad()\n",
        "      outputs, alphas, avg_images = fore_net(inputs)\n",
        "\n",
        "      _, predicted = torch.max(outputs.data, 1)\n",
        "      loss = criterion(outputs, labels) \n",
        "      loss.backward()\n",
        "      optimizer.step()\n",
        "      running_loss += loss.item()\n",
        "      mini = 40    \n",
        "      if cnt % mini == mini - 1:    # print every 40 mini-batches\n",
        "        print('[%d, %5d] loss: %.3f' %(epoch + 1, cnt + 1, running_loss / mini))\n",
        "        mini_loss.append(running_loss / mini)\n",
        "        running_loss = 0.0        \n",
        "      cnt=cnt+1\n",
        "    if(np.average(mini_loss) <= 0.05):\n",
        "      break\n",
        "  print('Finished Training')\n",
        "  return fore_net, epoch\n"
      ],
      "execution_count": null,
      "outputs": []
    },
    {
      "cell_type": "code",
      "metadata": {
        "id": "17GMe4WKSNji"
      },
      "source": [
        "def testing(loader, fore_net):\n",
        "  correct = 0\n",
        "  total = 0\n",
        "  count = 0\n",
        "  flag = 1\n",
        "  focus_true_pred_true =0\n",
        "  focus_false_pred_true =0\n",
        "  focus_true_pred_false =0\n",
        "  focus_false_pred_false =0\n",
        "\n",
        "  argmax_more_than_half = 0\n",
        "  argmax_less_than_half =0\n",
        "\n",
        "  with torch.no_grad():\n",
        "    for data in loader:\n",
        "      inputs, labels , fore_idx = data\n",
        "      inputs, labels , fore_idx = inputs.to(\"cuda\"),labels.to(\"cuda\"), fore_idx.to(\"cuda\")\n",
        "      outputs, alphas, avg_images = fore_net(inputs)\n",
        "\n",
        "      _, predicted = torch.max(outputs.data, 1)\n",
        "\n",
        "      for j in range(labels.size(0)):\n",
        "        count += 1\n",
        "        focus = torch.argmax(alphas[j])\n",
        "        if alphas[j][focus] >= 0.5 :\n",
        "          argmax_more_than_half += 1\n",
        "        else:\n",
        "          argmax_less_than_half += 1\n",
        "\n",
        "        if(focus == fore_idx[j] and predicted[j] == labels[j]):\n",
        "            focus_true_pred_true += 1\n",
        "        elif(focus != fore_idx[j] and predicted[j] == labels[j]):\n",
        "          focus_false_pred_true += 1\n",
        "        elif(focus == fore_idx[j] and predicted[j] != labels[j]):\n",
        "          focus_true_pred_false += 1\n",
        "        elif(focus != fore_idx[j] and predicted[j] != labels[j]):\n",
        "          focus_false_pred_false += 1\n",
        "\n",
        "      total += labels.size(0)\n",
        "      correct += (predicted == labels).sum().item()\n",
        "  \n",
        "  return correct, total, focus_true_pred_true, focus_false_pred_true, focus_true_pred_false, focus_false_pred_false, argmax_more_than_half\n"
      ],
      "execution_count": null,
      "outputs": []
    },
    {
      "cell_type": "code",
      "metadata": {
        "id": "lp0cGt63YuUc"
      },
      "source": [
        "def enter_into(table, sno, correct, total, ftpt, ffpt, ftpf, ffpf, alpha_more_half , fg, bg, epoch = \"NA\"):\n",
        "  entry = []\n",
        "  entry = [sno,'fg = '+ str(fg),'bg = '+str(bg), epoch, total, correct,]\n",
        "  entry.append((100.0*correct/total))\n",
        "  entry.append((100 * ftpt / total))\n",
        "  entry.append( (100 * ffpt / total))\n",
        "  entry.append( ( 100 * ftpf / total))\n",
        "  entry.append( ( 100 * ffpf / total))\n",
        "  entry.append( alpha_more_half)\n",
        "\n",
        "  table.append(entry)\n",
        "  print(\" \")\n",
        "  print(\"=\"*160)\n",
        "  print(tabulate(table, headers=['S.No.', 'fg_class','bg_class','Epoch used','total_points', 'correct','accuracy','FTPT', 'FFPT', 'FTPF', 'FFPF', 'avg_img > 0.5'] ) )\n",
        "  print(\" \")\n",
        "  print(\"=\"*160)\n",
        "  return table"
      ],
      "execution_count": null,
      "outputs": []
    },
    {
      "cell_type": "code",
      "metadata": {
        "id": "uS6Gq-4VfX89"
      },
      "source": [
        "def add_average_entry(table):\n",
        "  entry =[]\n",
        "  entry = ['Avg', \"\",\"\" ,\"\" ,\"\" , \"\",]\n",
        "  entry.append( np.mean(np.array(table)[:,6].astype(np.float)) )\n",
        "  entry.append( np.mean(np.array(table)[:,7].astype(np.float)) )\n",
        "  entry.append( np.mean(np.array(table)[:,8].astype(np.float)) )\n",
        "  entry.append( np.mean(np.array(table)[:,9].astype(np.float)) )\n",
        "  entry.append( np.mean(np.array(table)[:,10].astype(np.float)) )\n",
        "  entry.append( np.mean(np.array(table)[:,11].astype(np.float)) )\n",
        "\n",
        "  table.append(entry)\n",
        "  print(\" \")\n",
        "  print(\"=\"*160)\n",
        "  print(tabulate(table, headers=['S.No.', 'fg_class','bg_class','Epoch used','total_points', 'correct','accuracy','FTPT', 'FFPT', 'FTPF', 'FFPF', 'avg_img > 0.5'] ) )\n",
        "  print(\" \")\n",
        "  print(\"=\"*160)\n",
        "  return table\n"
      ],
      "execution_count": null,
      "outputs": []
    },
    {
      "cell_type": "code",
      "metadata": {
        "id": "M8ClgTOAbUQu"
      },
      "source": [
        "train_table=[]\n",
        "test_table1=[]\n",
        "test_table2=[]\n",
        "test_table3=[]\n",
        "test_table4=[]\n",
        "fg = [fg1,fg2,fg3]\n",
        "bg = list(set([0,1,2,3,4,5,6,7,8,9])-set(fg))\n"
      ],
      "execution_count": null,
      "outputs": []
    },
    {
      "cell_type": "code",
      "metadata": {
        "id": "TuIb2Y29kxWT",
        "outputId": "f381837b-8548-480d-d505-2bbf8fde58c3",
        "colab": {
          "base_uri": "https://localhost:8080/",
          "height": 1000
        }
      },
      "source": [
        "number_runs = 10\n",
        "\n",
        "for i in range(number_runs):\n",
        "  fore_net = Module2().double()\n",
        "  fore_net = fore_net.to(\"cuda\")\n",
        "\n",
        "  fore_net, epoch = training(train_loader_from_noise_train_mosaic_30k, fore_net)\n",
        "\n",
        "  correct, total, ftpt, ffpt, ftpf, ffpf, alpha_more_half = testing(train_loader_from_noise_train_mosaic_30k, fore_net)\n",
        "  train_table = enter_into(train_table, i+1, correct, total, ftpt, ffpt, ftpf, ffpf, alpha_more_half, fg, bg, str(epoch) )\n",
        "\n",
        "  correct, total, ftpt, ffpt, ftpf, ffpf, alpha_more_half = testing(test_loader_from_noise_train_mosaic_30k, fore_net)\n",
        "  test_table1 = enter_into(test_table1, i+1, correct, total, ftpt, ffpt, ftpf, ffpf, alpha_more_half , fg, bg )\n",
        "\n",
        "  correct, total, ftpt, ffpt, ftpf, ffpf, alpha_more_half = testing(test_loader_from_noise_test_mosaic_10k, fore_net)\n",
        "  test_table2 = enter_into(test_table2, i+1, correct, total, ftpt, ffpt, ftpf, ffpf, alpha_more_half, fg, bg )\n",
        "\n",
        "  correct, total, ftpt, ffpt, ftpf, ffpf, alpha_more_half = testing(test_loader_from_true_train_mosaic_30k, fore_net)\n",
        "  test_table3 = enter_into(test_table3, i+1, correct, total, ftpt, ffpt, ftpf, ffpf, alpha_more_half , fg, bg)\n",
        "\n",
        "  correct, total, ftpt, ffpt, ftpf, ffpf, alpha_more_half = testing(test_loader_from_true_train_mosaic_10k, fore_net)\n",
        "  test_table4 = enter_into(test_table4, i+1, correct, total, ftpt, ffpt, ftpf, ffpf, alpha_more_half, fg, bg )\n",
        "\n"
      ],
      "execution_count": 78,
      "outputs": [
        {
          "output_type": "stream",
          "text": [
            "[1,    40] loss: 1.111\n",
            "[1,    80] loss: 1.099\n",
            "[1,   120] loss: 1.099\n",
            "[2,    40] loss: 1.099\n",
            "[2,    80] loss: 1.099\n",
            "[2,   120] loss: 1.098\n",
            "[3,    40] loss: 1.098\n",
            "[3,    80] loss: 1.098\n",
            "[3,   120] loss: 1.098\n",
            "[4,    40] loss: 1.098\n",
            "[4,    80] loss: 1.098\n",
            "[4,   120] loss: 1.098\n",
            "[5,    40] loss: 1.097\n",
            "[5,    80] loss: 1.098\n",
            "[5,   120] loss: 1.097\n",
            "[6,    40] loss: 1.096\n",
            "[6,    80] loss: 1.096\n",
            "[6,   120] loss: 1.095\n",
            "[7,    40] loss: 1.094\n",
            "[7,    80] loss: 1.092\n",
            "[7,   120] loss: 1.089\n",
            "[8,    40] loss: 1.087\n",
            "[8,    80] loss: 1.085\n",
            "[8,   120] loss: 1.084\n",
            "[9,    40] loss: 1.082\n",
            "[9,    80] loss: 1.081\n",
            "[9,   120] loss: 1.080\n",
            "[10,    40] loss: 1.082\n",
            "[10,    80] loss: 1.076\n",
            "[10,   120] loss: 1.077\n",
            "[11,    40] loss: 1.079\n",
            "[11,    80] loss: 1.070\n",
            "[11,   120] loss: 1.075\n",
            "[12,    40] loss: 1.075\n",
            "[12,    80] loss: 1.070\n",
            "[12,   120] loss: 1.073\n",
            "[13,    40] loss: 1.069\n",
            "[13,    80] loss: 1.072\n",
            "[13,   120] loss: 1.067\n",
            "[14,    40] loss: 1.068\n",
            "[14,    80] loss: 1.064\n",
            "[14,   120] loss: 1.067\n",
            "[15,    40] loss: 1.065\n",
            "[15,    80] loss: 1.063\n",
            "[15,   120] loss: 1.058\n",
            "[16,    40] loss: 1.058\n",
            "[16,    80] loss: 1.054\n",
            "[16,   120] loss: 1.055\n",
            "[17,    40] loss: 1.056\n",
            "[17,    80] loss: 1.056\n",
            "[17,   120] loss: 1.046\n",
            "[18,    40] loss: 1.046\n",
            "[18,    80] loss: 1.052\n",
            "[18,   120] loss: 1.045\n",
            "[19,    40] loss: 1.045\n",
            "[19,    80] loss: 1.035\n",
            "[19,   120] loss: 1.042\n",
            "[20,    40] loss: 1.029\n",
            "[20,    80] loss: 1.028\n",
            "[20,   120] loss: 1.029\n",
            "[21,    40] loss: 1.019\n",
            "[21,    80] loss: 1.009\n",
            "[21,   120] loss: 0.983\n",
            "[22,    40] loss: 0.920\n",
            "[22,    80] loss: 0.693\n",
            "[22,   120] loss: 0.559\n",
            "[23,    40] loss: 0.393\n",
            "[23,    80] loss: 0.280\n",
            "[23,   120] loss: 0.197\n",
            "[24,    40] loss: 0.133\n",
            "[24,    80] loss: 0.192\n",
            "[24,   120] loss: 0.172\n",
            "[25,    40] loss: 0.079\n",
            "[25,    80] loss: 0.294\n",
            "[25,   120] loss: 0.135\n",
            "[26,    40] loss: 0.075\n",
            "[26,    80] loss: 0.056\n",
            "[26,   120] loss: 0.058\n",
            "[27,    40] loss: 0.038\n",
            "[27,    80] loss: 0.035\n",
            "[27,   120] loss: 0.048\n",
            "Finished Training\n",
            " \n",
            "================================================================================================================================================================\n",
            "  S.No.  fg_class        bg_class                      Epoch used    total_points    correct    accuracy     FTPT     FFPT      FTPF      FFPF    avg_img > 0.5\n",
            "-------  --------------  --------------------------  ------------  --------------  ---------  ----------  -------  -------  --------  --------  ---------------\n",
            "      1  fg = [0, 1, 2]  bg = [3, 4, 5, 6, 7, 8, 9]            26           30000      29527     98.4233  40.8967  57.5267  0.903333  0.673333                0\n",
            " \n",
            "================================================================================================================================================================\n",
            " \n",
            "================================================================================================================================================================\n",
            "  S.No.  fg_class        bg_class                    Epoch used      total_points    correct    accuracy    FTPT    FFPT    FTPF    FFPF    avg_img > 0.5\n",
            "-------  --------------  --------------------------  ------------  --------------  ---------  ----------  ------  ------  ------  ------  ---------------\n",
            "      1  fg = [0, 1, 2]  bg = [3, 4, 5, 6, 7, 8, 9]  NA                     10000       9840        98.4   41.13   57.27    0.88    0.72                0\n",
            " \n",
            "================================================================================================================================================================\n",
            " \n",
            "================================================================================================================================================================\n",
            "  S.No.  fg_class        bg_class                    Epoch used      total_points    correct    accuracy    FTPT    FFPT    FTPF    FFPF    avg_img > 0.5\n",
            "-------  --------------  --------------------------  ------------  --------------  ---------  ----------  ------  ------  ------  ------  ---------------\n",
            "      1  fg = [0, 1, 2]  bg = [3, 4, 5, 6, 7, 8, 9]  NA                     10000       9821       98.21   40.66   57.55    1.28    0.51                0\n",
            " \n",
            "================================================================================================================================================================\n",
            " \n",
            "================================================================================================================================================================\n",
            "  S.No.  fg_class        bg_class                    Epoch used      total_points    correct    accuracy    FTPT    FFPT    FTPF    FFPF    avg_img > 0.5\n",
            "-------  --------------  --------------------------  ------------  --------------  ---------  ----------  ------  ------  ------  ------  ---------------\n",
            "      1  fg = [0, 1, 2]  bg = [3, 4, 5, 6, 7, 8, 9]  NA                     10000       3345       33.45    2.88   30.57   26.63   39.92                0\n",
            " \n",
            "================================================================================================================================================================\n",
            " \n",
            "================================================================================================================================================================\n",
            "  S.No.  fg_class        bg_class                    Epoch used      total_points    correct    accuracy    FTPT    FFPT    FTPF    FFPF    avg_img > 0.5\n",
            "-------  --------------  --------------------------  ------------  --------------  ---------  ----------  ------  ------  ------  ------  ---------------\n",
            "      1  fg = [0, 1, 2]  bg = [3, 4, 5, 6, 7, 8, 9]  NA                     10000       3303       33.03    2.59   30.44   26.67    40.3                0\n",
            " \n",
            "================================================================================================================================================================\n",
            "[1,    40] loss: 1.109\n",
            "[1,    80] loss: 1.099\n",
            "[1,   120] loss: 1.099\n",
            "[2,    40] loss: 1.098\n",
            "[2,    80] loss: 1.099\n",
            "[2,   120] loss: 1.099\n",
            "[3,    40] loss: 1.099\n",
            "[3,    80] loss: 1.098\n",
            "[3,   120] loss: 1.099\n",
            "[4,    40] loss: 1.098\n",
            "[4,    80] loss: 1.098\n",
            "[4,   120] loss: 1.099\n",
            "[5,    40] loss: 1.098\n",
            "[5,    80] loss: 1.098\n",
            "[5,   120] loss: 1.098\n",
            "[6,    40] loss: 1.098\n",
            "[6,    80] loss: 1.098\n",
            "[6,   120] loss: 1.098\n",
            "[7,    40] loss: 1.098\n",
            "[7,    80] loss: 1.097\n",
            "[7,   120] loss: 1.097\n",
            "[8,    40] loss: 1.097\n",
            "[8,    80] loss: 1.097\n",
            "[8,   120] loss: 1.096\n",
            "[9,    40] loss: 1.095\n",
            "[9,    80] loss: 1.094\n",
            "[9,   120] loss: 1.094\n",
            "[10,    40] loss: 1.091\n",
            "[10,    80] loss: 1.090\n",
            "[10,   120] loss: 1.090\n",
            "[11,    40] loss: 1.086\n",
            "[11,    80] loss: 1.086\n",
            "[11,   120] loss: 1.083\n",
            "[12,    40] loss: 1.081\n",
            "[12,    80] loss: 1.079\n",
            "[12,   120] loss: 1.074\n",
            "[13,    40] loss: 1.072\n",
            "[13,    80] loss: 1.070\n",
            "[13,   120] loss: 1.072\n",
            "[14,    40] loss: 1.068\n",
            "[14,    80] loss: 1.069\n",
            "[14,   120] loss: 1.065\n",
            "[15,    40] loss: 1.061\n",
            "[15,    80] loss: 1.064\n",
            "[15,   120] loss: 1.059\n",
            "[16,    40] loss: 1.059\n",
            "[16,    80] loss: 1.050\n",
            "[16,   120] loss: 1.052\n",
            "[17,    40] loss: 1.043\n",
            "[17,    80] loss: 1.033\n",
            "[17,   120] loss: 1.016\n",
            "[18,    40] loss: 0.986\n",
            "[18,    80] loss: 0.888\n",
            "[18,   120] loss: 0.672\n",
            "[19,    40] loss: 0.447\n",
            "[19,    80] loss: 0.388\n",
            "[19,   120] loss: 0.334\n",
            "[20,    40] loss: 0.237\n",
            "[20,    80] loss: 0.203\n",
            "[20,   120] loss: 0.235\n",
            "[21,    40] loss: 0.178\n",
            "[21,    80] loss: 0.176\n",
            "[21,   120] loss: 0.158\n",
            "[22,    40] loss: 0.126\n",
            "[22,    80] loss: 0.153\n",
            "[22,   120] loss: 0.131\n",
            "[23,    40] loss: 0.119\n",
            "[23,    80] loss: 0.105\n",
            "[23,   120] loss: 0.093\n",
            "[24,    40] loss: 0.113\n",
            "[24,    80] loss: 0.073\n",
            "[24,   120] loss: 0.067\n",
            "[25,    40] loss: 0.066\n",
            "[25,    80] loss: 0.048\n",
            "[25,   120] loss: 0.056\n",
            "[26,    40] loss: 0.040\n",
            "[26,    80] loss: 0.039\n",
            "[26,   120] loss: 0.069\n",
            "Finished Training\n",
            " \n",
            "================================================================================================================================================================\n",
            "  S.No.  fg_class        bg_class                      Epoch used    total_points    correct    accuracy     FTPT     FFPT      FTPF      FFPF    avg_img > 0.5\n",
            "-------  --------------  --------------------------  ------------  --------------  ---------  ----------  -------  -------  --------  --------  ---------------\n",
            "      1  fg = [0, 1, 2]  bg = [3, 4, 5, 6, 7, 8, 9]            26           30000      29527     98.4233  40.8967  57.5267  0.903333  0.673333                0\n",
            "      2  fg = [0, 1, 2]  bg = [3, 4, 5, 6, 7, 8, 9]            25           30000      29487     98.29    22.8833  75.4067  0.246667  1.46333                 0\n",
            " \n",
            "================================================================================================================================================================\n",
            " \n",
            "================================================================================================================================================================\n",
            "  S.No.  fg_class        bg_class                    Epoch used      total_points    correct    accuracy    FTPT    FFPT    FTPF    FFPF    avg_img > 0.5\n",
            "-------  --------------  --------------------------  ------------  --------------  ---------  ----------  ------  ------  ------  ------  ---------------\n",
            "      1  fg = [0, 1, 2]  bg = [3, 4, 5, 6, 7, 8, 9]  NA                     10000       9840        98.4   41.13   57.27    0.88    0.72                0\n",
            "      2  fg = [0, 1, 2]  bg = [3, 4, 5, 6, 7, 8, 9]  NA                     10000       9800        98     23.28   74.72    0.33    1.67                0\n",
            " \n",
            "================================================================================================================================================================\n",
            " \n",
            "================================================================================================================================================================\n",
            "  S.No.  fg_class        bg_class                    Epoch used      total_points    correct    accuracy    FTPT    FFPT    FTPF    FFPF    avg_img > 0.5\n",
            "-------  --------------  --------------------------  ------------  --------------  ---------  ----------  ------  ------  ------  ------  ---------------\n",
            "      1  fg = [0, 1, 2]  bg = [3, 4, 5, 6, 7, 8, 9]  NA                     10000       9821       98.21   40.66   57.55    1.28    0.51                0\n",
            "      2  fg = [0, 1, 2]  bg = [3, 4, 5, 6, 7, 8, 9]  NA                     10000       9764       97.64   20.64   77       0.26    2.1                 0\n",
            " \n",
            "================================================================================================================================================================\n",
            " \n",
            "================================================================================================================================================================\n",
            "  S.No.  fg_class        bg_class                    Epoch used      total_points    correct    accuracy    FTPT    FFPT    FTPF    FFPF    avg_img > 0.5\n",
            "-------  --------------  --------------------------  ------------  --------------  ---------  ----------  ------  ------  ------  ------  ---------------\n",
            "      1  fg = [0, 1, 2]  bg = [3, 4, 5, 6, 7, 8, 9]  NA                     10000       3345       33.45    2.88   30.57   26.63   39.92                0\n",
            "      2  fg = [0, 1, 2]  bg = [3, 4, 5, 6, 7, 8, 9]  NA                     10000       3318       33.18    4.26   28.92   19.48   47.34                0\n",
            " \n",
            "================================================================================================================================================================\n",
            " \n",
            "================================================================================================================================================================\n",
            "  S.No.  fg_class        bg_class                    Epoch used      total_points    correct    accuracy    FTPT    FFPT    FTPF    FFPF    avg_img > 0.5\n",
            "-------  --------------  --------------------------  ------------  --------------  ---------  ----------  ------  ------  ------  ------  ---------------\n",
            "      1  fg = [0, 1, 2]  bg = [3, 4, 5, 6, 7, 8, 9]  NA                     10000       3303       33.03    2.59   30.44   26.67   40.3                 0\n",
            "      2  fg = [0, 1, 2]  bg = [3, 4, 5, 6, 7, 8, 9]  NA                     10000       3386       33.86    3.82   30.04   18.32   47.82                0\n",
            " \n",
            "================================================================================================================================================================\n",
            "[1,    40] loss: 1.100\n",
            "[1,    80] loss: 1.099\n",
            "[1,   120] loss: 1.099\n",
            "[2,    40] loss: 1.099\n",
            "[2,    80] loss: 1.099\n",
            "[2,   120] loss: 1.099\n",
            "[3,    40] loss: 1.099\n",
            "[3,    80] loss: 1.098\n",
            "[3,   120] loss: 1.098\n",
            "[4,    40] loss: 1.098\n",
            "[4,    80] loss: 1.098\n",
            "[4,   120] loss: 1.098\n",
            "[5,    40] loss: 1.098\n",
            "[5,    80] loss: 1.098\n",
            "[5,   120] loss: 1.098\n",
            "[6,    40] loss: 1.098\n",
            "[6,    80] loss: 1.098\n",
            "[6,   120] loss: 1.097\n",
            "[7,    40] loss: 1.097\n",
            "[7,    80] loss: 1.097\n",
            "[7,   120] loss: 1.096\n",
            "[8,    40] loss: 1.096\n",
            "[8,    80] loss: 1.095\n",
            "[8,   120] loss: 1.094\n",
            "[9,    40] loss: 1.093\n",
            "[9,    80] loss: 1.091\n",
            "[9,   120] loss: 1.089\n",
            "[10,    40] loss: 1.088\n",
            "[10,    80] loss: 1.086\n",
            "[10,   120] loss: 1.082\n",
            "[11,    40] loss: 1.082\n",
            "[11,    80] loss: 1.084\n",
            "[11,   120] loss: 1.082\n",
            "[12,    40] loss: 1.079\n",
            "[12,    80] loss: 1.080\n",
            "[12,   120] loss: 1.081\n",
            "[13,    40] loss: 1.079\n",
            "[13,    80] loss: 1.078\n",
            "[13,   120] loss: 1.080\n",
            "[14,    40] loss: 1.080\n",
            "[14,    80] loss: 1.073\n",
            "[14,   120] loss: 1.080\n",
            "[15,    40] loss: 1.075\n",
            "[15,    80] loss: 1.076\n",
            "[15,   120] loss: 1.077\n",
            "[16,    40] loss: 1.072\n",
            "[16,    80] loss: 1.079\n",
            "[16,   120] loss: 1.072\n",
            "[17,    40] loss: 1.075\n",
            "[17,    80] loss: 1.070\n",
            "[17,   120] loss: 1.070\n",
            "[18,    40] loss: 1.068\n",
            "[18,    80] loss: 1.069\n",
            "[18,   120] loss: 1.065\n",
            "[19,    40] loss: 1.065\n",
            "[19,    80] loss: 1.063\n",
            "[19,   120] loss: 1.060\n",
            "[20,    40] loss: 1.061\n",
            "[20,    80] loss: 1.049\n",
            "[20,   120] loss: 1.045\n",
            "[21,    40] loss: 1.032\n",
            "[21,    80] loss: 1.033\n",
            "[21,   120] loss: 1.019\n",
            "[22,    40] loss: 0.994\n",
            "[22,    80] loss: 0.873\n",
            "[22,   120] loss: 0.526\n",
            "[23,    40] loss: 0.636\n",
            "[23,    80] loss: 0.479\n",
            "[23,   120] loss: 0.327\n",
            "[24,    40] loss: 0.326\n",
            "[24,    80] loss: 0.301\n",
            "[24,   120] loss: 0.269\n",
            "[25,    40] loss: 0.239\n",
            "[25,    80] loss: 0.234\n",
            "[25,   120] loss: 0.259\n",
            "[26,    40] loss: 0.214\n",
            "[26,    80] loss: 0.216\n",
            "[26,   120] loss: 0.197\n",
            "[27,    40] loss: 0.168\n",
            "[27,    80] loss: 0.163\n",
            "[27,   120] loss: 0.150\n",
            "[28,    40] loss: 0.127\n",
            "[28,    80] loss: 0.138\n",
            "[28,   120] loss: 0.115\n",
            "[29,    40] loss: 0.113\n",
            "[29,    80] loss: 0.093\n",
            "[29,   120] loss: 0.071\n",
            "[30,    40] loss: 0.070\n",
            "[30,    80] loss: 0.058\n",
            "[30,   120] loss: 0.043\n",
            "[31,    40] loss: 0.029\n",
            "[31,    80] loss: 0.025\n",
            "[31,   120] loss: 0.025\n",
            "Finished Training\n",
            " \n",
            "================================================================================================================================================================\n",
            "  S.No.  fg_class        bg_class                      Epoch used    total_points    correct    accuracy     FTPT     FFPT      FTPF       FFPF    avg_img > 0.5\n",
            "-------  --------------  --------------------------  ------------  --------------  ---------  ----------  -------  -------  --------  ---------  ---------------\n",
            "      1  fg = [0, 1, 2]  bg = [3, 4, 5, 6, 7, 8, 9]            26           30000      29527     98.4233  40.8967  57.5267  0.903333  0.673333                 0\n",
            "      2  fg = [0, 1, 2]  bg = [3, 4, 5, 6, 7, 8, 9]            25           30000      29487     98.29    22.8833  75.4067  0.246667  1.46333                  0\n",
            "      3  fg = [0, 1, 2]  bg = [3, 4, 5, 6, 7, 8, 9]            30           30000      29867     99.5567  75.5133  24.0433  0.426667  0.0166667            20243\n",
            " \n",
            "================================================================================================================================================================\n",
            " \n",
            "================================================================================================================================================================\n",
            "  S.No.  fg_class        bg_class                    Epoch used      total_points    correct    accuracy    FTPT    FFPT    FTPF    FFPF    avg_img > 0.5\n",
            "-------  --------------  --------------------------  ------------  --------------  ---------  ----------  ------  ------  ------  ------  ---------------\n",
            "      1  fg = [0, 1, 2]  bg = [3, 4, 5, 6, 7, 8, 9]  NA                     10000       9840       98.4    41.13   57.27    0.88    0.72                0\n",
            "      2  fg = [0, 1, 2]  bg = [3, 4, 5, 6, 7, 8, 9]  NA                     10000       9800       98      23.28   74.72    0.33    1.67                0\n",
            "      3  fg = [0, 1, 2]  bg = [3, 4, 5, 6, 7, 8, 9]  NA                     10000       9935       99.35   74.92   24.43    0.64    0.01             6756\n",
            " \n",
            "================================================================================================================================================================\n",
            " \n",
            "================================================================================================================================================================\n",
            "  S.No.  fg_class        bg_class                    Epoch used      total_points    correct    accuracy    FTPT    FFPT    FTPF    FFPF    avg_img > 0.5\n",
            "-------  --------------  --------------------------  ------------  --------------  ---------  ----------  ------  ------  ------  ------  ---------------\n",
            "      1  fg = [0, 1, 2]  bg = [3, 4, 5, 6, 7, 8, 9]  NA                     10000       9821       98.21   40.66   57.55    1.28    0.51                0\n",
            "      2  fg = [0, 1, 2]  bg = [3, 4, 5, 6, 7, 8, 9]  NA                     10000       9764       97.64   20.64   77       0.26    2.1                 0\n",
            "      3  fg = [0, 1, 2]  bg = [3, 4, 5, 6, 7, 8, 9]  NA                     10000       9864       98.64   74.64   24       1.36    0                6815\n",
            " \n",
            "================================================================================================================================================================\n",
            " \n",
            "================================================================================================================================================================\n",
            "  S.No.  fg_class        bg_class                    Epoch used      total_points    correct    accuracy    FTPT    FFPT    FTPF    FFPF    avg_img > 0.5\n",
            "-------  --------------  --------------------------  ------------  --------------  ---------  ----------  ------  ------  ------  ------  ---------------\n",
            "      1  fg = [0, 1, 2]  bg = [3, 4, 5, 6, 7, 8, 9]  NA                     10000       3345       33.45    2.88   30.57   26.63   39.92                0\n",
            "      2  fg = [0, 1, 2]  bg = [3, 4, 5, 6, 7, 8, 9]  NA                     10000       3318       33.18    4.26   28.92   19.48   47.34                0\n",
            "      3  fg = [0, 1, 2]  bg = [3, 4, 5, 6, 7, 8, 9]  NA                     10000       3321       33.21    5.6    27.61    3.96   62.83                0\n",
            " \n",
            "================================================================================================================================================================\n",
            " \n",
            "================================================================================================================================================================\n",
            "  S.No.  fg_class        bg_class                    Epoch used      total_points    correct    accuracy    FTPT    FFPT    FTPF    FFPF    avg_img > 0.5\n",
            "-------  --------------  --------------------------  ------------  --------------  ---------  ----------  ------  ------  ------  ------  ---------------\n",
            "      1  fg = [0, 1, 2]  bg = [3, 4, 5, 6, 7, 8, 9]  NA                     10000       3303       33.03    2.59   30.44   26.67   40.3                 0\n",
            "      2  fg = [0, 1, 2]  bg = [3, 4, 5, 6, 7, 8, 9]  NA                     10000       3386       33.86    3.82   30.04   18.32   47.82                0\n",
            "      3  fg = [0, 1, 2]  bg = [3, 4, 5, 6, 7, 8, 9]  NA                     10000       3283       32.83    5.46   27.37    4.02   63.15                0\n",
            " \n",
            "================================================================================================================================================================\n",
            "[1,    40] loss: 1.105\n",
            "[1,    80] loss: 1.099\n",
            "[1,   120] loss: 1.099\n",
            "[2,    40] loss: 1.099\n",
            "[2,    80] loss: 1.099\n",
            "[2,   120] loss: 1.099\n",
            "[3,    40] loss: 1.098\n",
            "[3,    80] loss: 1.099\n",
            "[3,   120] loss: 1.099\n",
            "[4,    40] loss: 1.099\n",
            "[4,    80] loss: 1.099\n",
            "[4,   120] loss: 1.098\n",
            "[5,    40] loss: 1.099\n",
            "[5,    80] loss: 1.098\n",
            "[5,   120] loss: 1.099\n",
            "[6,    40] loss: 1.099\n",
            "[6,    80] loss: 1.099\n",
            "[6,   120] loss: 1.099\n",
            "[7,    40] loss: 1.098\n",
            "[7,    80] loss: 1.099\n",
            "[7,   120] loss: 1.099\n",
            "[8,    40] loss: 1.098\n",
            "[8,    80] loss: 1.099\n",
            "[8,   120] loss: 1.098\n",
            "[9,    40] loss: 1.098\n",
            "[9,    80] loss: 1.098\n",
            "[9,   120] loss: 1.098\n",
            "[10,    40] loss: 1.098\n",
            "[10,    80] loss: 1.098\n",
            "[10,   120] loss: 1.098\n",
            "[11,    40] loss: 1.098\n",
            "[11,    80] loss: 1.098\n",
            "[11,   120] loss: 1.098\n",
            "[12,    40] loss: 1.098\n",
            "[12,    80] loss: 1.098\n",
            "[12,   120] loss: 1.098\n",
            "[13,    40] loss: 1.098\n",
            "[13,    80] loss: 1.098\n",
            "[13,   120] loss: 1.097\n",
            "[14,    40] loss: 1.097\n",
            "[14,    80] loss: 1.097\n",
            "[14,   120] loss: 1.097\n",
            "[15,    40] loss: 1.096\n",
            "[15,    80] loss: 1.096\n",
            "[15,   120] loss: 1.095\n",
            "[16,    40] loss: 1.094\n",
            "[16,    80] loss: 1.093\n",
            "[16,   120] loss: 1.093\n",
            "[17,    40] loss: 1.091\n",
            "[17,    80] loss: 1.089\n",
            "[17,   120] loss: 1.090\n",
            "[18,    40] loss: 1.088\n",
            "[18,    80] loss: 1.083\n",
            "[18,   120] loss: 1.084\n",
            "[19,    40] loss: 1.083\n",
            "[19,    80] loss: 1.082\n",
            "[19,   120] loss: 1.079\n",
            "[20,    40] loss: 1.078\n",
            "[20,    80] loss: 1.081\n",
            "[20,   120] loss: 1.078\n",
            "[21,    40] loss: 1.079\n",
            "[21,    80] loss: 1.077\n",
            "[21,   120] loss: 1.076\n",
            "[22,    40] loss: 1.078\n",
            "[22,    80] loss: 1.078\n",
            "[22,   120] loss: 1.072\n",
            "[23,    40] loss: 1.076\n",
            "[23,    80] loss: 1.074\n",
            "[23,   120] loss: 1.075\n",
            "[24,    40] loss: 1.076\n",
            "[24,    80] loss: 1.074\n",
            "[24,   120] loss: 1.069\n",
            "[25,    40] loss: 1.069\n",
            "[25,    80] loss: 1.069\n",
            "[25,   120] loss: 1.066\n",
            "[26,    40] loss: 1.059\n",
            "[26,    80] loss: 1.054\n",
            "[26,   120] loss: 1.045\n",
            "[27,    40] loss: 1.039\n",
            "[27,    80] loss: 1.033\n",
            "[27,   120] loss: 1.013\n",
            "[28,    40] loss: 0.983\n",
            "[28,    80] loss: 0.865\n",
            "[28,   120] loss: 0.576\n",
            "[29,    40] loss: 0.380\n",
            "[29,    80] loss: 0.346\n",
            "[29,   120] loss: 0.332\n",
            "[30,    40] loss: 0.316\n",
            "[30,    80] loss: 0.273\n",
            "[30,   120] loss: 0.250\n",
            "[31,    40] loss: 0.267\n",
            "[31,    80] loss: 0.247\n",
            "[31,   120] loss: 0.230\n",
            "[32,    40] loss: 0.225\n",
            "[32,    80] loss: 0.222\n",
            "[32,   120] loss: 0.203\n",
            "[33,    40] loss: 0.174\n",
            "[33,    80] loss: 0.182\n",
            "[33,   120] loss: 0.178\n",
            "[34,    40] loss: 0.157\n",
            "[34,    80] loss: 0.146\n",
            "[34,   120] loss: 0.142\n",
            "[35,    40] loss: 0.135\n",
            "[35,    80] loss: 0.118\n",
            "[35,   120] loss: 0.119\n",
            "[36,    40] loss: 0.115\n",
            "[36,    80] loss: 0.105\n",
            "[36,   120] loss: 0.104\n",
            "[37,    40] loss: 0.122\n",
            "[37,    80] loss: 0.094\n",
            "[37,   120] loss: 0.083\n",
            "[38,    40] loss: 0.075\n",
            "[38,    80] loss: 0.071\n",
            "[38,   120] loss: 0.061\n",
            "[39,    40] loss: 0.063\n",
            "[39,    80] loss: 0.056\n",
            "[39,   120] loss: 0.052\n",
            "[40,    40] loss: 0.043\n",
            "[40,    80] loss: 0.051\n",
            "[40,   120] loss: 0.037\n",
            "Finished Training\n",
            " \n",
            "================================================================================================================================================================\n",
            "  S.No.  fg_class        bg_class                      Epoch used    total_points    correct    accuracy     FTPT     FFPT      FTPF        FFPF    avg_img > 0.5\n",
            "-------  --------------  --------------------------  ------------  --------------  ---------  ----------  -------  -------  --------  ----------  ---------------\n",
            "      1  fg = [0, 1, 2]  bg = [3, 4, 5, 6, 7, 8, 9]            26           30000      29527     98.4233  40.8967  57.5267  0.903333  0.673333                  0\n",
            "      2  fg = [0, 1, 2]  bg = [3, 4, 5, 6, 7, 8, 9]            25           30000      29487     98.29    22.8833  75.4067  0.246667  1.46333                   0\n",
            "      3  fg = [0, 1, 2]  bg = [3, 4, 5, 6, 7, 8, 9]            30           30000      29867     99.5567  75.5133  24.0433  0.426667  0.0166667             20243\n",
            "      4  fg = [0, 1, 2]  bg = [3, 4, 5, 6, 7, 8, 9]            39           30000      29728     99.0933  79.5033  19.59    0.9       0.00666667            20109\n",
            " \n",
            "================================================================================================================================================================\n",
            " \n",
            "================================================================================================================================================================\n",
            "  S.No.  fg_class        bg_class                    Epoch used      total_points    correct    accuracy    FTPT    FFPT    FTPF    FFPF    avg_img > 0.5\n",
            "-------  --------------  --------------------------  ------------  --------------  ---------  ----------  ------  ------  ------  ------  ---------------\n",
            "      1  fg = [0, 1, 2]  bg = [3, 4, 5, 6, 7, 8, 9]  NA                     10000       9840       98.4    41.13   57.27    0.88    0.72                0\n",
            "      2  fg = [0, 1, 2]  bg = [3, 4, 5, 6, 7, 8, 9]  NA                     10000       9800       98      23.28   74.72    0.33    1.67                0\n",
            "      3  fg = [0, 1, 2]  bg = [3, 4, 5, 6, 7, 8, 9]  NA                     10000       9935       99.35   74.92   24.43    0.64    0.01             6756\n",
            "      4  fg = [0, 1, 2]  bg = [3, 4, 5, 6, 7, 8, 9]  NA                     10000       9823       98.23   78.98   19.25    1.75    0.02             6712\n",
            " \n",
            "================================================================================================================================================================\n",
            " \n",
            "================================================================================================================================================================\n",
            "  S.No.  fg_class        bg_class                    Epoch used      total_points    correct    accuracy    FTPT    FFPT    FTPF    FFPF    avg_img > 0.5\n",
            "-------  --------------  --------------------------  ------------  --------------  ---------  ----------  ------  ------  ------  ------  ---------------\n",
            "      1  fg = [0, 1, 2]  bg = [3, 4, 5, 6, 7, 8, 9]  NA                     10000       9821       98.21   40.66   57.55    1.28    0.51                0\n",
            "      2  fg = [0, 1, 2]  bg = [3, 4, 5, 6, 7, 8, 9]  NA                     10000       9764       97.64   20.64   77       0.26    2.1                 0\n",
            "      3  fg = [0, 1, 2]  bg = [3, 4, 5, 6, 7, 8, 9]  NA                     10000       9864       98.64   74.64   24       1.36    0                6815\n",
            "      4  fg = [0, 1, 2]  bg = [3, 4, 5, 6, 7, 8, 9]  NA                     10000       9648       96.48   76.92   19.56    3.51    0.01             6767\n",
            " \n",
            "================================================================================================================================================================\n",
            " \n",
            "================================================================================================================================================================\n",
            "  S.No.  fg_class        bg_class                    Epoch used      total_points    correct    accuracy    FTPT    FFPT    FTPF    FFPF    avg_img > 0.5\n",
            "-------  --------------  --------------------------  ------------  --------------  ---------  ----------  ------  ------  ------  ------  ---------------\n",
            "      1  fg = [0, 1, 2]  bg = [3, 4, 5, 6, 7, 8, 9]  NA                     10000       3345       33.45    2.88   30.57   26.63   39.92                0\n",
            "      2  fg = [0, 1, 2]  bg = [3, 4, 5, 6, 7, 8, 9]  NA                     10000       3318       33.18    4.26   28.92   19.48   47.34                0\n",
            "      3  fg = [0, 1, 2]  bg = [3, 4, 5, 6, 7, 8, 9]  NA                     10000       3321       33.21    5.6    27.61    3.96   62.83                0\n",
            "      4  fg = [0, 1, 2]  bg = [3, 4, 5, 6, 7, 8, 9]  NA                     10000       3323       33.23    3.14   30.09    4.94   61.83                0\n",
            " \n",
            "================================================================================================================================================================\n",
            " \n",
            "================================================================================================================================================================\n",
            "  S.No.  fg_class        bg_class                    Epoch used      total_points    correct    accuracy    FTPT    FFPT    FTPF    FFPF    avg_img > 0.5\n",
            "-------  --------------  --------------------------  ------------  --------------  ---------  ----------  ------  ------  ------  ------  ---------------\n",
            "      1  fg = [0, 1, 2]  bg = [3, 4, 5, 6, 7, 8, 9]  NA                     10000       3303       33.03    2.59   30.44   26.67   40.3                 0\n",
            "      2  fg = [0, 1, 2]  bg = [3, 4, 5, 6, 7, 8, 9]  NA                     10000       3386       33.86    3.82   30.04   18.32   47.82                0\n",
            "      3  fg = [0, 1, 2]  bg = [3, 4, 5, 6, 7, 8, 9]  NA                     10000       3283       32.83    5.46   27.37    4.02   63.15                0\n",
            "      4  fg = [0, 1, 2]  bg = [3, 4, 5, 6, 7, 8, 9]  NA                     10000       3288       32.88    2.81   30.07    4.34   62.78                0\n",
            " \n",
            "================================================================================================================================================================\n",
            "[1,    40] loss: 1.107\n",
            "[1,    80] loss: 1.099\n",
            "[1,   120] loss: 1.099\n",
            "[2,    40] loss: 1.099\n",
            "[2,    80] loss: 1.099\n",
            "[2,   120] loss: 1.099\n",
            "[3,    40] loss: 1.099\n",
            "[3,    80] loss: 1.099\n",
            "[3,   120] loss: 1.099\n",
            "[4,    40] loss: 1.099\n",
            "[4,    80] loss: 1.099\n",
            "[4,   120] loss: 1.099\n",
            "[5,    40] loss: 1.099\n",
            "[5,    80] loss: 1.099\n",
            "[5,   120] loss: 1.099\n",
            "[6,    40] loss: 1.099\n",
            "[6,    80] loss: 1.099\n",
            "[6,   120] loss: 1.099\n",
            "[7,    40] loss: 1.099\n",
            "[7,    80] loss: 1.099\n",
            "[7,   120] loss: 1.099\n",
            "[8,    40] loss: 1.099\n",
            "[8,    80] loss: 1.099\n",
            "[8,   120] loss: 1.099\n",
            "[9,    40] loss: 1.099\n",
            "[9,    80] loss: 1.099\n",
            "[9,   120] loss: 1.099\n",
            "[10,    40] loss: 1.098\n",
            "[10,    80] loss: 1.099\n",
            "[10,   120] loss: 1.098\n",
            "[11,    40] loss: 1.098\n",
            "[11,    80] loss: 1.098\n",
            "[11,   120] loss: 1.098\n",
            "[12,    40] loss: 1.098\n",
            "[12,    80] loss: 1.098\n",
            "[12,   120] loss: 1.098\n",
            "[13,    40] loss: 1.098\n",
            "[13,    80] loss: 1.098\n",
            "[13,   120] loss: 1.098\n",
            "[14,    40] loss: 1.098\n",
            "[14,    80] loss: 1.098\n",
            "[14,   120] loss: 1.098\n",
            "[15,    40] loss: 1.097\n",
            "[15,    80] loss: 1.097\n",
            "[15,   120] loss: 1.098\n",
            "[16,    40] loss: 1.097\n",
            "[16,    80] loss: 1.097\n",
            "[16,   120] loss: 1.096\n",
            "[17,    40] loss: 1.096\n",
            "[17,    80] loss: 1.096\n",
            "[17,   120] loss: 1.095\n",
            "[18,    40] loss: 1.094\n",
            "[18,    80] loss: 1.094\n",
            "[18,   120] loss: 1.091\n",
            "[19,    40] loss: 1.090\n",
            "[19,    80] loss: 1.089\n",
            "[19,   120] loss: 1.089\n",
            "[20,    40] loss: 1.088\n",
            "[20,    80] loss: 1.084\n",
            "[20,   120] loss: 1.084\n",
            "[21,    40] loss: 1.081\n",
            "[21,    80] loss: 1.080\n",
            "[21,   120] loss: 1.082\n",
            "[22,    40] loss: 1.078\n",
            "[22,    80] loss: 1.077\n",
            "[22,   120] loss: 1.079\n",
            "[23,    40] loss: 1.076\n",
            "[23,    80] loss: 1.076\n",
            "[23,   120] loss: 1.077\n",
            "[24,    40] loss: 1.077\n",
            "[24,    80] loss: 1.072\n",
            "[24,   120] loss: 1.074\n",
            "[25,    40] loss: 1.074\n",
            "[25,    80] loss: 1.072\n",
            "[25,   120] loss: 1.072\n",
            "[26,    40] loss: 1.073\n",
            "[26,    80] loss: 1.067\n",
            "[26,   120] loss: 1.068\n",
            "[27,    40] loss: 1.065\n",
            "[27,    80] loss: 1.068\n",
            "[27,   120] loss: 1.060\n",
            "[28,    40] loss: 1.061\n",
            "[28,    80] loss: 1.057\n",
            "[28,   120] loss: 1.057\n",
            "[29,    40] loss: 1.051\n",
            "[29,    80] loss: 1.048\n",
            "[29,   120] loss: 1.041\n",
            "[30,    40] loss: 1.040\n",
            "[30,    80] loss: 1.019\n",
            "[30,   120] loss: 1.004\n",
            "[31,    40] loss: 0.955\n",
            "[31,    80] loss: 0.778\n",
            "[31,   120] loss: 0.572\n",
            "[32,    40] loss: 0.424\n",
            "[32,    80] loss: 0.333\n",
            "[32,   120] loss: 0.243\n",
            "[33,    40] loss: 0.252\n",
            "[33,    80] loss: 0.176\n",
            "[33,   120] loss: 0.187\n",
            "[34,    40] loss: 0.184\n",
            "[34,    80] loss: 0.141\n",
            "[34,   120] loss: 0.130\n",
            "[35,    40] loss: 0.124\n",
            "[35,    80] loss: 0.106\n",
            "[35,   120] loss: 0.111\n",
            "[36,    40] loss: 0.088\n",
            "[36,    80] loss: 0.084\n",
            "[36,   120] loss: 0.088\n",
            "[37,    40] loss: 0.073\n",
            "[37,    80] loss: 0.062\n",
            "[37,   120] loss: 0.064\n",
            "[38,    40] loss: 0.183\n",
            "[38,    80] loss: 0.108\n",
            "[38,   120] loss: 0.064\n",
            "[39,    40] loss: 0.051\n",
            "[39,    80] loss: 0.041\n",
            "[39,   120] loss: 0.046\n",
            "Finished Training\n",
            " \n",
            "================================================================================================================================================================\n",
            "  S.No.  fg_class        bg_class                      Epoch used    total_points    correct    accuracy     FTPT     FFPT      FTPF        FFPF    avg_img > 0.5\n",
            "-------  --------------  --------------------------  ------------  --------------  ---------  ----------  -------  -------  --------  ----------  ---------------\n",
            "      1  fg = [0, 1, 2]  bg = [3, 4, 5, 6, 7, 8, 9]            26           30000      29527     98.4233  40.8967  57.5267  0.903333  0.673333                  0\n",
            "      2  fg = [0, 1, 2]  bg = [3, 4, 5, 6, 7, 8, 9]            25           30000      29487     98.29    22.8833  75.4067  0.246667  1.46333                   0\n",
            "      3  fg = [0, 1, 2]  bg = [3, 4, 5, 6, 7, 8, 9]            30           30000      29867     99.5567  75.5133  24.0433  0.426667  0.0166667             20243\n",
            "      4  fg = [0, 1, 2]  bg = [3, 4, 5, 6, 7, 8, 9]            39           30000      29728     99.0933  79.5033  19.59    0.9       0.00666667            20109\n",
            "      5  fg = [0, 1, 2]  bg = [3, 4, 5, 6, 7, 8, 9]            38           30000      29441     98.1367  18.7367  79.4     0.676667  1.18667                   0\n",
            " \n",
            "================================================================================================================================================================\n",
            " \n",
            "================================================================================================================================================================\n",
            "  S.No.  fg_class        bg_class                    Epoch used      total_points    correct    accuracy    FTPT    FFPT    FTPF    FFPF    avg_img > 0.5\n",
            "-------  --------------  --------------------------  ------------  --------------  ---------  ----------  ------  ------  ------  ------  ---------------\n",
            "      1  fg = [0, 1, 2]  bg = [3, 4, 5, 6, 7, 8, 9]  NA                     10000       9840       98.4    41.13   57.27    0.88    0.72                0\n",
            "      2  fg = [0, 1, 2]  bg = [3, 4, 5, 6, 7, 8, 9]  NA                     10000       9800       98      23.28   74.72    0.33    1.67                0\n",
            "      3  fg = [0, 1, 2]  bg = [3, 4, 5, 6, 7, 8, 9]  NA                     10000       9935       99.35   74.92   24.43    0.64    0.01             6756\n",
            "      4  fg = [0, 1, 2]  bg = [3, 4, 5, 6, 7, 8, 9]  NA                     10000       9823       98.23   78.98   19.25    1.75    0.02             6712\n",
            "      5  fg = [0, 1, 2]  bg = [3, 4, 5, 6, 7, 8, 9]  NA                     10000       9794       97.94   18.5    79.44    0.79    1.27                0\n",
            " \n",
            "================================================================================================================================================================\n",
            " \n",
            "================================================================================================================================================================\n",
            "  S.No.  fg_class        bg_class                    Epoch used      total_points    correct    accuracy    FTPT    FFPT    FTPF    FFPF    avg_img > 0.5\n",
            "-------  --------------  --------------------------  ------------  --------------  ---------  ----------  ------  ------  ------  ------  ---------------\n",
            "      1  fg = [0, 1, 2]  bg = [3, 4, 5, 6, 7, 8, 9]  NA                     10000       9821       98.21   40.66   57.55    1.28    0.51                0\n",
            "      2  fg = [0, 1, 2]  bg = [3, 4, 5, 6, 7, 8, 9]  NA                     10000       9764       97.64   20.64   77       0.26    2.1                 0\n",
            "      3  fg = [0, 1, 2]  bg = [3, 4, 5, 6, 7, 8, 9]  NA                     10000       9864       98.64   74.64   24       1.36    0                6815\n",
            "      4  fg = [0, 1, 2]  bg = [3, 4, 5, 6, 7, 8, 9]  NA                     10000       9648       96.48   76.92   19.56    3.51    0.01             6767\n",
            "      5  fg = [0, 1, 2]  bg = [3, 4, 5, 6, 7, 8, 9]  NA                     10000       9784       97.84   18.82   79.02    0.8     1.36                0\n",
            " \n",
            "================================================================================================================================================================\n",
            " \n",
            "================================================================================================================================================================\n",
            "  S.No.  fg_class        bg_class                    Epoch used      total_points    correct    accuracy    FTPT    FFPT    FTPF    FFPF    avg_img > 0.5\n",
            "-------  --------------  --------------------------  ------------  --------------  ---------  ----------  ------  ------  ------  ------  ---------------\n",
            "      1  fg = [0, 1, 2]  bg = [3, 4, 5, 6, 7, 8, 9]  NA                     10000       3345       33.45    2.88   30.57   26.63   39.92                0\n",
            "      2  fg = [0, 1, 2]  bg = [3, 4, 5, 6, 7, 8, 9]  NA                     10000       3318       33.18    4.26   28.92   19.48   47.34                0\n",
            "      3  fg = [0, 1, 2]  bg = [3, 4, 5, 6, 7, 8, 9]  NA                     10000       3321       33.21    5.6    27.61    3.96   62.83                0\n",
            "      4  fg = [0, 1, 2]  bg = [3, 4, 5, 6, 7, 8, 9]  NA                     10000       3323       33.23    3.14   30.09    4.94   61.83                0\n",
            "      5  fg = [0, 1, 2]  bg = [3, 4, 5, 6, 7, 8, 9]  NA                     10000       3420       34.2     3.19   31.01   12.61   53.19                0\n",
            " \n",
            "================================================================================================================================================================\n",
            " \n",
            "================================================================================================================================================================\n",
            "  S.No.  fg_class        bg_class                    Epoch used      total_points    correct    accuracy    FTPT    FFPT    FTPF    FFPF    avg_img > 0.5\n",
            "-------  --------------  --------------------------  ------------  --------------  ---------  ----------  ------  ------  ------  ------  ---------------\n",
            "      1  fg = [0, 1, 2]  bg = [3, 4, 5, 6, 7, 8, 9]  NA                     10000       3303       33.03    2.59   30.44   26.67   40.3                 0\n",
            "      2  fg = [0, 1, 2]  bg = [3, 4, 5, 6, 7, 8, 9]  NA                     10000       3386       33.86    3.82   30.04   18.32   47.82                0\n",
            "      3  fg = [0, 1, 2]  bg = [3, 4, 5, 6, 7, 8, 9]  NA                     10000       3283       32.83    5.46   27.37    4.02   63.15                0\n",
            "      4  fg = [0, 1, 2]  bg = [3, 4, 5, 6, 7, 8, 9]  NA                     10000       3288       32.88    2.81   30.07    4.34   62.78                0\n",
            "      5  fg = [0, 1, 2]  bg = [3, 4, 5, 6, 7, 8, 9]  NA                     10000       3277       32.77    2.75   30.02   12.5    54.73                0\n",
            " \n",
            "================================================================================================================================================================\n",
            "[1,    40] loss: 1.105\n",
            "[1,    80] loss: 1.099\n",
            "[1,   120] loss: 1.099\n",
            "[2,    40] loss: 1.099\n",
            "[2,    80] loss: 1.099\n",
            "[2,   120] loss: 1.099\n",
            "[3,    40] loss: 1.099\n",
            "[3,    80] loss: 1.099\n",
            "[3,   120] loss: 1.098\n",
            "[4,    40] loss: 1.098\n",
            "[4,    80] loss: 1.099\n",
            "[4,   120] loss: 1.099\n",
            "[5,    40] loss: 1.098\n",
            "[5,    80] loss: 1.099\n",
            "[5,   120] loss: 1.098\n",
            "[6,    40] loss: 1.098\n",
            "[6,    80] loss: 1.098\n",
            "[6,   120] loss: 1.098\n",
            "[7,    40] loss: 1.098\n",
            "[7,    80] loss: 1.098\n",
            "[7,   120] loss: 1.098\n",
            "[8,    40] loss: 1.097\n",
            "[8,    80] loss: 1.097\n",
            "[8,   120] loss: 1.096\n",
            "[9,    40] loss: 1.096\n",
            "[9,    80] loss: 1.096\n",
            "[9,   120] loss: 1.094\n",
            "[10,    40] loss: 1.093\n",
            "[10,    80] loss: 1.091\n",
            "[10,   120] loss: 1.089\n",
            "[11,    40] loss: 1.088\n",
            "[11,    80] loss: 1.086\n",
            "[11,   120] loss: 1.083\n",
            "[12,    40] loss: 1.084\n",
            "[12,    80] loss: 1.081\n",
            "[12,   120] loss: 1.081\n",
            "[13,    40] loss: 1.078\n",
            "[13,    80] loss: 1.076\n",
            "[13,   120] loss: 1.076\n",
            "[14,    40] loss: 1.071\n",
            "[14,    80] loss: 1.068\n",
            "[14,   120] loss: 1.070\n",
            "[15,    40] loss: 1.066\n",
            "[15,    80] loss: 1.066\n",
            "[15,   120] loss: 1.066\n",
            "[16,    40] loss: 1.067\n",
            "[16,    80] loss: 1.065\n",
            "[16,   120] loss: 1.058\n",
            "[17,    40] loss: 1.060\n",
            "[17,    80] loss: 1.056\n",
            "[17,   120] loss: 1.053\n",
            "[18,    40] loss: 1.048\n",
            "[18,    80] loss: 1.049\n",
            "[18,   120] loss: 1.049\n",
            "[19,    40] loss: 1.039\n",
            "[19,    80] loss: 1.044\n",
            "[19,   120] loss: 1.039\n",
            "[20,    40] loss: 1.023\n",
            "[20,    80] loss: 0.999\n",
            "[20,   120] loss: 0.958\n",
            "[21,    40] loss: 0.840\n",
            "[21,    80] loss: 0.699\n",
            "[21,   120] loss: 0.463\n",
            "[22,    40] loss: 0.313\n",
            "[22,    80] loss: 0.241\n",
            "[22,   120] loss: 0.152\n",
            "[23,    40] loss: 0.130\n",
            "[23,    80] loss: 0.152\n",
            "[23,   120] loss: 0.114\n",
            "[24,    40] loss: 0.093\n",
            "[24,    80] loss: 0.085\n",
            "[24,   120] loss: 0.081\n",
            "[25,    40] loss: 0.109\n",
            "[25,    80] loss: 0.099\n",
            "[25,   120] loss: 0.074\n",
            "[26,    40] loss: 0.059\n",
            "[26,    80] loss: 0.059\n",
            "[26,   120] loss: 0.059\n",
            "[27,    40] loss: 0.043\n",
            "[27,    80] loss: 0.040\n",
            "[27,   120] loss: 0.048\n",
            "Finished Training\n",
            " \n",
            "================================================================================================================================================================\n",
            "  S.No.  fg_class        bg_class                      Epoch used    total_points    correct    accuracy     FTPT     FFPT      FTPF        FFPF    avg_img > 0.5\n",
            "-------  --------------  --------------------------  ------------  --------------  ---------  ----------  -------  -------  --------  ----------  ---------------\n",
            "      1  fg = [0, 1, 2]  bg = [3, 4, 5, 6, 7, 8, 9]            26           30000      29527     98.4233  40.8967  57.5267  0.903333  0.673333                  0\n",
            "      2  fg = [0, 1, 2]  bg = [3, 4, 5, 6, 7, 8, 9]            25           30000      29487     98.29    22.8833  75.4067  0.246667  1.46333                   0\n",
            "      3  fg = [0, 1, 2]  bg = [3, 4, 5, 6, 7, 8, 9]            30           30000      29867     99.5567  75.5133  24.0433  0.426667  0.0166667             20243\n",
            "      4  fg = [0, 1, 2]  bg = [3, 4, 5, 6, 7, 8, 9]            39           30000      29728     99.0933  79.5033  19.59    0.9       0.00666667            20109\n",
            "      5  fg = [0, 1, 2]  bg = [3, 4, 5, 6, 7, 8, 9]            38           30000      29441     98.1367  18.7367  79.4     0.676667  1.18667                   0\n",
            "      6  fg = [0, 1, 2]  bg = [3, 4, 5, 6, 7, 8, 9]            26           30000      29619     98.73    32.0167  66.7133  0.346667  0.923333                  0\n",
            " \n",
            "================================================================================================================================================================\n",
            " \n",
            "================================================================================================================================================================\n",
            "  S.No.  fg_class        bg_class                    Epoch used      total_points    correct    accuracy    FTPT    FFPT    FTPF    FFPF    avg_img > 0.5\n",
            "-------  --------------  --------------------------  ------------  --------------  ---------  ----------  ------  ------  ------  ------  ---------------\n",
            "      1  fg = [0, 1, 2]  bg = [3, 4, 5, 6, 7, 8, 9]  NA                     10000       9840       98.4    41.13   57.27    0.88    0.72                0\n",
            "      2  fg = [0, 1, 2]  bg = [3, 4, 5, 6, 7, 8, 9]  NA                     10000       9800       98      23.28   74.72    0.33    1.67                0\n",
            "      3  fg = [0, 1, 2]  bg = [3, 4, 5, 6, 7, 8, 9]  NA                     10000       9935       99.35   74.92   24.43    0.64    0.01             6756\n",
            "      4  fg = [0, 1, 2]  bg = [3, 4, 5, 6, 7, 8, 9]  NA                     10000       9823       98.23   78.98   19.25    1.75    0.02             6712\n",
            "      5  fg = [0, 1, 2]  bg = [3, 4, 5, 6, 7, 8, 9]  NA                     10000       9794       97.94   18.5    79.44    0.79    1.27                0\n",
            "      6  fg = [0, 1, 2]  bg = [3, 4, 5, 6, 7, 8, 9]  NA                     10000       9866       98.66   31.93   66.73    0.4     0.94                0\n",
            " \n",
            "================================================================================================================================================================\n",
            " \n",
            "================================================================================================================================================================\n",
            "  S.No.  fg_class        bg_class                    Epoch used      total_points    correct    accuracy    FTPT    FFPT    FTPF    FFPF    avg_img > 0.5\n",
            "-------  --------------  --------------------------  ------------  --------------  ---------  ----------  ------  ------  ------  ------  ---------------\n",
            "      1  fg = [0, 1, 2]  bg = [3, 4, 5, 6, 7, 8, 9]  NA                     10000       9821       98.21   40.66   57.55    1.28    0.51                0\n",
            "      2  fg = [0, 1, 2]  bg = [3, 4, 5, 6, 7, 8, 9]  NA                     10000       9764       97.64   20.64   77       0.26    2.1                 0\n",
            "      3  fg = [0, 1, 2]  bg = [3, 4, 5, 6, 7, 8, 9]  NA                     10000       9864       98.64   74.64   24       1.36    0                6815\n",
            "      4  fg = [0, 1, 2]  bg = [3, 4, 5, 6, 7, 8, 9]  NA                     10000       9648       96.48   76.92   19.56    3.51    0.01             6767\n",
            "      5  fg = [0, 1, 2]  bg = [3, 4, 5, 6, 7, 8, 9]  NA                     10000       9784       97.84   18.82   79.02    0.8     1.36                0\n",
            "      6  fg = [0, 1, 2]  bg = [3, 4, 5, 6, 7, 8, 9]  NA                     10000       9863       98.63   31.3    67.33    0.3     1.07                0\n",
            " \n",
            "================================================================================================================================================================\n",
            " \n",
            "================================================================================================================================================================\n",
            "  S.No.  fg_class        bg_class                    Epoch used      total_points    correct    accuracy    FTPT    FFPT    FTPF    FFPF    avg_img > 0.5\n",
            "-------  --------------  --------------------------  ------------  --------------  ---------  ----------  ------  ------  ------  ------  ---------------\n",
            "      1  fg = [0, 1, 2]  bg = [3, 4, 5, 6, 7, 8, 9]  NA                     10000       3345       33.45    2.88   30.57   26.63   39.92                0\n",
            "      2  fg = [0, 1, 2]  bg = [3, 4, 5, 6, 7, 8, 9]  NA                     10000       3318       33.18    4.26   28.92   19.48   47.34                0\n",
            "      3  fg = [0, 1, 2]  bg = [3, 4, 5, 6, 7, 8, 9]  NA                     10000       3321       33.21    5.6    27.61    3.96   62.83                0\n",
            "      4  fg = [0, 1, 2]  bg = [3, 4, 5, 6, 7, 8, 9]  NA                     10000       3323       33.23    3.14   30.09    4.94   61.83                0\n",
            "      5  fg = [0, 1, 2]  bg = [3, 4, 5, 6, 7, 8, 9]  NA                     10000       3420       34.2     3.19   31.01   12.61   53.19                0\n",
            "      6  fg = [0, 1, 2]  bg = [3, 4, 5, 6, 7, 8, 9]  NA                     10000       3319       33.19    3.11   30.08   23.54   43.27                0\n",
            " \n",
            "================================================================================================================================================================\n",
            " \n",
            "================================================================================================================================================================\n",
            "  S.No.  fg_class        bg_class                    Epoch used      total_points    correct    accuracy    FTPT    FFPT    FTPF    FFPF    avg_img > 0.5\n",
            "-------  --------------  --------------------------  ------------  --------------  ---------  ----------  ------  ------  ------  ------  ---------------\n",
            "      1  fg = [0, 1, 2]  bg = [3, 4, 5, 6, 7, 8, 9]  NA                     10000       3303       33.03    2.59   30.44   26.67   40.3                 0\n",
            "      2  fg = [0, 1, 2]  bg = [3, 4, 5, 6, 7, 8, 9]  NA                     10000       3386       33.86    3.82   30.04   18.32   47.82                0\n",
            "      3  fg = [0, 1, 2]  bg = [3, 4, 5, 6, 7, 8, 9]  NA                     10000       3283       32.83    5.46   27.37    4.02   63.15                0\n",
            "      4  fg = [0, 1, 2]  bg = [3, 4, 5, 6, 7, 8, 9]  NA                     10000       3288       32.88    2.81   30.07    4.34   62.78                0\n",
            "      5  fg = [0, 1, 2]  bg = [3, 4, 5, 6, 7, 8, 9]  NA                     10000       3277       32.77    2.75   30.02   12.5    54.73                0\n",
            "      6  fg = [0, 1, 2]  bg = [3, 4, 5, 6, 7, 8, 9]  NA                     10000       3285       32.85    2.69   30.16   22.82   44.33                0\n",
            " \n",
            "================================================================================================================================================================\n",
            "[1,    40] loss: 1.102\n",
            "[1,    80] loss: 1.099\n",
            "[1,   120] loss: 1.099\n",
            "[2,    40] loss: 1.098\n",
            "[2,    80] loss: 1.099\n",
            "[2,   120] loss: 1.099\n",
            "[3,    40] loss: 1.099\n",
            "[3,    80] loss: 1.099\n",
            "[3,   120] loss: 1.098\n",
            "[4,    40] loss: 1.099\n",
            "[4,    80] loss: 1.098\n",
            "[4,   120] loss: 1.099\n",
            "[5,    40] loss: 1.099\n",
            "[5,    80] loss: 1.098\n",
            "[5,   120] loss: 1.099\n",
            "[6,    40] loss: 1.099\n",
            "[6,    80] loss: 1.099\n",
            "[6,   120] loss: 1.098\n",
            "[7,    40] loss: 1.098\n",
            "[7,    80] loss: 1.098\n",
            "[7,   120] loss: 1.098\n",
            "[8,    40] loss: 1.098\n",
            "[8,    80] loss: 1.098\n",
            "[8,   120] loss: 1.098\n",
            "[9,    40] loss: 1.098\n",
            "[9,    80] loss: 1.098\n",
            "[9,   120] loss: 1.098\n",
            "[10,    40] loss: 1.097\n",
            "[10,    80] loss: 1.097\n",
            "[10,   120] loss: 1.097\n",
            "[11,    40] loss: 1.096\n",
            "[11,    80] loss: 1.096\n",
            "[11,   120] loss: 1.094\n",
            "[12,    40] loss: 1.092\n",
            "[12,    80] loss: 1.090\n",
            "[12,   120] loss: 1.090\n",
            "[13,    40] loss: 1.086\n",
            "[13,    80] loss: 1.087\n",
            "[13,   120] loss: 1.086\n",
            "[14,    40] loss: 1.085\n",
            "[14,    80] loss: 1.084\n",
            "[14,   120] loss: 1.082\n",
            "[15,    40] loss: 1.078\n",
            "[15,    80] loss: 1.082\n",
            "[15,   120] loss: 1.084\n",
            "[16,    40] loss: 1.080\n",
            "[16,    80] loss: 1.080\n",
            "[16,   120] loss: 1.078\n",
            "[17,    40] loss: 1.077\n",
            "[17,    80] loss: 1.078\n",
            "[17,   120] loss: 1.076\n",
            "[18,    40] loss: 1.076\n",
            "[18,    80] loss: 1.074\n",
            "[18,   120] loss: 1.074\n",
            "[19,    40] loss: 1.071\n",
            "[19,    80] loss: 1.070\n",
            "[19,   120] loss: 1.067\n",
            "[20,    40] loss: 1.069\n",
            "[20,    80] loss: 1.065\n",
            "[20,   120] loss: 1.064\n",
            "[21,    40] loss: 1.060\n",
            "[21,    80] loss: 1.059\n",
            "[21,   120] loss: 1.058\n",
            "[22,    40] loss: 1.053\n",
            "[22,    80] loss: 1.047\n",
            "[22,   120] loss: 1.037\n",
            "[23,    40] loss: 1.026\n",
            "[23,    80] loss: 1.005\n",
            "[23,   120] loss: 0.908\n",
            "[24,    40] loss: 0.626\n",
            "[24,    80] loss: 0.437\n",
            "[24,   120] loss: 0.375\n",
            "[25,    40] loss: 0.330\n",
            "[25,    80] loss: 0.326\n",
            "[25,   120] loss: 0.284\n",
            "[26,    40] loss: 0.283\n",
            "[26,    80] loss: 0.239\n",
            "[26,   120] loss: 0.301\n",
            "[27,    40] loss: 0.225\n",
            "[27,    80] loss: 0.202\n",
            "[27,   120] loss: 0.192\n",
            "[28,    40] loss: 0.172\n",
            "[28,    80] loss: 0.166\n",
            "[28,   120] loss: 0.177\n",
            "[29,    40] loss: 0.155\n",
            "[29,    80] loss: 0.153\n",
            "[29,   120] loss: 0.132\n",
            "[30,    40] loss: 0.126\n",
            "[30,    80] loss: 0.119\n",
            "[30,   120] loss: 0.114\n",
            "[31,    40] loss: 0.103\n",
            "[31,    80] loss: 0.106\n",
            "[31,   120] loss: 0.097\n",
            "[32,    40] loss: 0.093\n",
            "[32,    80] loss: 0.081\n",
            "[32,   120] loss: 0.080\n",
            "[33,    40] loss: 0.063\n",
            "[33,    80] loss: 0.054\n",
            "[33,   120] loss: 0.055\n",
            "[34,    40] loss: 0.047\n",
            "[34,    80] loss: 0.051\n",
            "[34,   120] loss: 0.044\n",
            "Finished Training\n",
            " \n",
            "================================================================================================================================================================\n",
            "  S.No.  fg_class        bg_class                      Epoch used    total_points    correct    accuracy     FTPT     FFPT      FTPF        FFPF    avg_img > 0.5\n",
            "-------  --------------  --------------------------  ------------  --------------  ---------  ----------  -------  -------  --------  ----------  ---------------\n",
            "      1  fg = [0, 1, 2]  bg = [3, 4, 5, 6, 7, 8, 9]            26           30000      29527     98.4233  40.8967  57.5267  0.903333  0.673333                  0\n",
            "      2  fg = [0, 1, 2]  bg = [3, 4, 5, 6, 7, 8, 9]            25           30000      29487     98.29    22.8833  75.4067  0.246667  1.46333                   0\n",
            "      3  fg = [0, 1, 2]  bg = [3, 4, 5, 6, 7, 8, 9]            30           30000      29867     99.5567  75.5133  24.0433  0.426667  0.0166667             20243\n",
            "      4  fg = [0, 1, 2]  bg = [3, 4, 5, 6, 7, 8, 9]            39           30000      29728     99.0933  79.5033  19.59    0.9       0.00666667            20109\n",
            "      5  fg = [0, 1, 2]  bg = [3, 4, 5, 6, 7, 8, 9]            38           30000      29441     98.1367  18.7367  79.4     0.676667  1.18667                   0\n",
            "      6  fg = [0, 1, 2]  bg = [3, 4, 5, 6, 7, 8, 9]            26           30000      29619     98.73    32.0167  66.7133  0.346667  0.923333                  0\n",
            "      7  fg = [0, 1, 2]  bg = [3, 4, 5, 6, 7, 8, 9]            33           30000      29467     98.2233  87.1933  11.03    1.77667   0                     20250\n",
            " \n",
            "================================================================================================================================================================\n",
            " \n",
            "================================================================================================================================================================\n",
            "  S.No.  fg_class        bg_class                    Epoch used      total_points    correct    accuracy    FTPT    FFPT    FTPF    FFPF    avg_img > 0.5\n",
            "-------  --------------  --------------------------  ------------  --------------  ---------  ----------  ------  ------  ------  ------  ---------------\n",
            "      1  fg = [0, 1, 2]  bg = [3, 4, 5, 6, 7, 8, 9]  NA                     10000       9840       98.4    41.13   57.27    0.88    0.72                0\n",
            "      2  fg = [0, 1, 2]  bg = [3, 4, 5, 6, 7, 8, 9]  NA                     10000       9800       98      23.28   74.72    0.33    1.67                0\n",
            "      3  fg = [0, 1, 2]  bg = [3, 4, 5, 6, 7, 8, 9]  NA                     10000       9935       99.35   74.92   24.43    0.64    0.01             6756\n",
            "      4  fg = [0, 1, 2]  bg = [3, 4, 5, 6, 7, 8, 9]  NA                     10000       9823       98.23   78.98   19.25    1.75    0.02             6712\n",
            "      5  fg = [0, 1, 2]  bg = [3, 4, 5, 6, 7, 8, 9]  NA                     10000       9794       97.94   18.5    79.44    0.79    1.27                0\n",
            "      6  fg = [0, 1, 2]  bg = [3, 4, 5, 6, 7, 8, 9]  NA                     10000       9866       98.66   31.93   66.73    0.4     0.94                0\n",
            "      7  fg = [0, 1, 2]  bg = [3, 4, 5, 6, 7, 8, 9]  NA                     10000       9741       97.41   86.36   11.05    2.58    0.01             6755\n",
            " \n",
            "================================================================================================================================================================\n",
            " \n",
            "================================================================================================================================================================\n",
            "  S.No.  fg_class        bg_class                    Epoch used      total_points    correct    accuracy    FTPT    FFPT    FTPF    FFPF    avg_img > 0.5\n",
            "-------  --------------  --------------------------  ------------  --------------  ---------  ----------  ------  ------  ------  ------  ---------------\n",
            "      1  fg = [0, 1, 2]  bg = [3, 4, 5, 6, 7, 8, 9]  NA                     10000       9821       98.21   40.66   57.55    1.28    0.51                0\n",
            "      2  fg = [0, 1, 2]  bg = [3, 4, 5, 6, 7, 8, 9]  NA                     10000       9764       97.64   20.64   77       0.26    2.1                 0\n",
            "      3  fg = [0, 1, 2]  bg = [3, 4, 5, 6, 7, 8, 9]  NA                     10000       9864       98.64   74.64   24       1.36    0                6815\n",
            "      4  fg = [0, 1, 2]  bg = [3, 4, 5, 6, 7, 8, 9]  NA                     10000       9648       96.48   76.92   19.56    3.51    0.01             6767\n",
            "      5  fg = [0, 1, 2]  bg = [3, 4, 5, 6, 7, 8, 9]  NA                     10000       9784       97.84   18.82   79.02    0.8     1.36                0\n",
            "      6  fg = [0, 1, 2]  bg = [3, 4, 5, 6, 7, 8, 9]  NA                     10000       9863       98.63   31.3    67.33    0.3     1.07                0\n",
            "      7  fg = [0, 1, 2]  bg = [3, 4, 5, 6, 7, 8, 9]  NA                     10000       9613       96.13   84.6    11.53    3.87    0                6806\n",
            " \n",
            "================================================================================================================================================================\n",
            " \n",
            "================================================================================================================================================================\n",
            "  S.No.  fg_class        bg_class                    Epoch used      total_points    correct    accuracy    FTPT    FFPT    FTPF    FFPF    avg_img > 0.5\n",
            "-------  --------------  --------------------------  ------------  --------------  ---------  ----------  ------  ------  ------  ------  ---------------\n",
            "      1  fg = [0, 1, 2]  bg = [3, 4, 5, 6, 7, 8, 9]  NA                     10000       3345       33.45    2.88   30.57   26.63   39.92                0\n",
            "      2  fg = [0, 1, 2]  bg = [3, 4, 5, 6, 7, 8, 9]  NA                     10000       3318       33.18    4.26   28.92   19.48   47.34                0\n",
            "      3  fg = [0, 1, 2]  bg = [3, 4, 5, 6, 7, 8, 9]  NA                     10000       3321       33.21    5.6    27.61    3.96   62.83                0\n",
            "      4  fg = [0, 1, 2]  bg = [3, 4, 5, 6, 7, 8, 9]  NA                     10000       3323       33.23    3.14   30.09    4.94   61.83                0\n",
            "      5  fg = [0, 1, 2]  bg = [3, 4, 5, 6, 7, 8, 9]  NA                     10000       3420       34.2     3.19   31.01   12.61   53.19                0\n",
            "      6  fg = [0, 1, 2]  bg = [3, 4, 5, 6, 7, 8, 9]  NA                     10000       3319       33.19    3.11   30.08   23.54   43.27                0\n",
            "      7  fg = [0, 1, 2]  bg = [3, 4, 5, 6, 7, 8, 9]  NA                     10000       3332       33.32    4.94   28.38    2.64   64.04                0\n",
            " \n",
            "================================================================================================================================================================\n",
            " \n",
            "================================================================================================================================================================\n",
            "  S.No.  fg_class        bg_class                    Epoch used      total_points    correct    accuracy    FTPT    FFPT    FTPF    FFPF    avg_img > 0.5\n",
            "-------  --------------  --------------------------  ------------  --------------  ---------  ----------  ------  ------  ------  ------  ---------------\n",
            "      1  fg = [0, 1, 2]  bg = [3, 4, 5, 6, 7, 8, 9]  NA                     10000       3303       33.03    2.59   30.44   26.67   40.3                 0\n",
            "      2  fg = [0, 1, 2]  bg = [3, 4, 5, 6, 7, 8, 9]  NA                     10000       3386       33.86    3.82   30.04   18.32   47.82                0\n",
            "      3  fg = [0, 1, 2]  bg = [3, 4, 5, 6, 7, 8, 9]  NA                     10000       3283       32.83    5.46   27.37    4.02   63.15                0\n",
            "      4  fg = [0, 1, 2]  bg = [3, 4, 5, 6, 7, 8, 9]  NA                     10000       3288       32.88    2.81   30.07    4.34   62.78                0\n",
            "      5  fg = [0, 1, 2]  bg = [3, 4, 5, 6, 7, 8, 9]  NA                     10000       3277       32.77    2.75   30.02   12.5    54.73                0\n",
            "      6  fg = [0, 1, 2]  bg = [3, 4, 5, 6, 7, 8, 9]  NA                     10000       3285       32.85    2.69   30.16   22.82   44.33                0\n",
            "      7  fg = [0, 1, 2]  bg = [3, 4, 5, 6, 7, 8, 9]  NA                     10000       3300       33       4.94   28.06    2.49   64.51                0\n",
            " \n",
            "================================================================================================================================================================\n",
            "[1,    40] loss: 1.101\n",
            "[1,    80] loss: 1.099\n",
            "[1,   120] loss: 1.099\n",
            "[2,    40] loss: 1.099\n",
            "[2,    80] loss: 1.099\n",
            "[2,   120] loss: 1.099\n",
            "[3,    40] loss: 1.099\n",
            "[3,    80] loss: 1.099\n",
            "[3,   120] loss: 1.098\n",
            "[4,    40] loss: 1.098\n",
            "[4,    80] loss: 1.098\n",
            "[4,   120] loss: 1.098\n",
            "[5,    40] loss: 1.098\n",
            "[5,    80] loss: 1.098\n",
            "[5,   120] loss: 1.097\n",
            "[6,    40] loss: 1.097\n",
            "[6,    80] loss: 1.097\n",
            "[6,   120] loss: 1.097\n",
            "[7,    40] loss: 1.096\n",
            "[7,    80] loss: 1.096\n",
            "[7,   120] loss: 1.095\n",
            "[8,    40] loss: 1.093\n",
            "[8,    80] loss: 1.093\n",
            "[8,   120] loss: 1.091\n",
            "[9,    40] loss: 1.089\n",
            "[9,    80] loss: 1.089\n",
            "[9,   120] loss: 1.087\n",
            "[10,    40] loss: 1.086\n",
            "[10,    80] loss: 1.083\n",
            "[10,   120] loss: 1.083\n",
            "[11,    40] loss: 1.083\n",
            "[11,    80] loss: 1.077\n",
            "[11,   120] loss: 1.079\n",
            "[12,    40] loss: 1.076\n",
            "[12,    80] loss: 1.075\n",
            "[12,   120] loss: 1.075\n",
            "[13,    40] loss: 1.075\n",
            "[13,    80] loss: 1.067\n",
            "[13,   120] loss: 1.068\n",
            "[14,    40] loss: 1.065\n",
            "[14,    80] loss: 1.066\n",
            "[14,   120] loss: 1.066\n",
            "[15,    40] loss: 1.064\n",
            "[15,    80] loss: 1.059\n",
            "[15,   120] loss: 1.058\n",
            "[16,    40] loss: 1.058\n",
            "[16,    80] loss: 1.059\n",
            "[16,   120] loss: 1.049\n",
            "[17,    40] loss: 1.048\n",
            "[17,    80] loss: 1.044\n",
            "[17,   120] loss: 1.050\n",
            "[18,    40] loss: 1.046\n",
            "[18,    80] loss: 1.044\n",
            "[18,   120] loss: 1.043\n",
            "[19,    40] loss: 1.035\n",
            "[19,    80] loss: 1.024\n",
            "[19,   120] loss: 1.022\n",
            "[20,    40] loss: 1.003\n",
            "[20,    80] loss: 0.990\n",
            "[20,   120] loss: 0.947\n",
            "[21,    40] loss: 0.718\n",
            "[21,    80] loss: 0.461\n",
            "[21,   120] loss: 0.353\n",
            "[22,    40] loss: 0.319\n",
            "[22,    80] loss: 0.283\n",
            "[22,   120] loss: 0.258\n",
            "[23,    40] loss: 0.223\n",
            "[23,    80] loss: 0.224\n",
            "[23,   120] loss: 0.188\n",
            "[24,    40] loss: 0.180\n",
            "[24,    80] loss: 0.178\n",
            "[24,   120] loss: 0.154\n",
            "[25,    40] loss: 0.135\n",
            "[25,    80] loss: 0.130\n",
            "[25,   120] loss: 0.123\n",
            "[26,    40] loss: 0.112\n",
            "[26,    80] loss: 0.092\n",
            "[26,   120] loss: 0.090\n",
            "[27,    40] loss: 0.066\n",
            "[27,    80] loss: 0.067\n",
            "[27,   120] loss: 0.071\n",
            "[28,    40] loss: 0.071\n",
            "[28,    80] loss: 0.041\n",
            "[28,   120] loss: 0.038\n",
            "Finished Training\n",
            " \n",
            "================================================================================================================================================================\n",
            "  S.No.  fg_class        bg_class                      Epoch used    total_points    correct    accuracy     FTPT     FFPT      FTPF        FFPF    avg_img > 0.5\n",
            "-------  --------------  --------------------------  ------------  --------------  ---------  ----------  -------  -------  --------  ----------  ---------------\n",
            "      1  fg = [0, 1, 2]  bg = [3, 4, 5, 6, 7, 8, 9]            26           30000      29527     98.4233  40.8967  57.5267  0.903333  0.673333                  0\n",
            "      2  fg = [0, 1, 2]  bg = [3, 4, 5, 6, 7, 8, 9]            25           30000      29487     98.29    22.8833  75.4067  0.246667  1.46333                   0\n",
            "      3  fg = [0, 1, 2]  bg = [3, 4, 5, 6, 7, 8, 9]            30           30000      29867     99.5567  75.5133  24.0433  0.426667  0.0166667             20243\n",
            "      4  fg = [0, 1, 2]  bg = [3, 4, 5, 6, 7, 8, 9]            39           30000      29728     99.0933  79.5033  19.59    0.9       0.00666667            20109\n",
            "      5  fg = [0, 1, 2]  bg = [3, 4, 5, 6, 7, 8, 9]            38           30000      29441     98.1367  18.7367  79.4     0.676667  1.18667                   0\n",
            "      6  fg = [0, 1, 2]  bg = [3, 4, 5, 6, 7, 8, 9]            26           30000      29619     98.73    32.0167  66.7133  0.346667  0.923333                  0\n",
            "      7  fg = [0, 1, 2]  bg = [3, 4, 5, 6, 7, 8, 9]            33           30000      29467     98.2233  87.1933  11.03    1.77667   0                     20250\n",
            "      8  fg = [0, 1, 2]  bg = [3, 4, 5, 6, 7, 8, 9]            27           30000      29711     99.0367  74.7533  24.2833  0.96      0.00333333            20336\n",
            " \n",
            "================================================================================================================================================================\n",
            " \n",
            "================================================================================================================================================================\n",
            "  S.No.  fg_class        bg_class                    Epoch used      total_points    correct    accuracy    FTPT    FFPT    FTPF    FFPF    avg_img > 0.5\n",
            "-------  --------------  --------------------------  ------------  --------------  ---------  ----------  ------  ------  ------  ------  ---------------\n",
            "      1  fg = [0, 1, 2]  bg = [3, 4, 5, 6, 7, 8, 9]  NA                     10000       9840       98.4    41.13   57.27    0.88    0.72                0\n",
            "      2  fg = [0, 1, 2]  bg = [3, 4, 5, 6, 7, 8, 9]  NA                     10000       9800       98      23.28   74.72    0.33    1.67                0\n",
            "      3  fg = [0, 1, 2]  bg = [3, 4, 5, 6, 7, 8, 9]  NA                     10000       9935       99.35   74.92   24.43    0.64    0.01             6756\n",
            "      4  fg = [0, 1, 2]  bg = [3, 4, 5, 6, 7, 8, 9]  NA                     10000       9823       98.23   78.98   19.25    1.75    0.02             6712\n",
            "      5  fg = [0, 1, 2]  bg = [3, 4, 5, 6, 7, 8, 9]  NA                     10000       9794       97.94   18.5    79.44    0.79    1.27                0\n",
            "      6  fg = [0, 1, 2]  bg = [3, 4, 5, 6, 7, 8, 9]  NA                     10000       9866       98.66   31.93   66.73    0.4     0.94                0\n",
            "      7  fg = [0, 1, 2]  bg = [3, 4, 5, 6, 7, 8, 9]  NA                     10000       9741       97.41   86.36   11.05    2.58    0.01             6755\n",
            "      8  fg = [0, 1, 2]  bg = [3, 4, 5, 6, 7, 8, 9]  NA                     10000       9831       98.31   73.7    24.61    1.68    0.01             6776\n",
            " \n",
            "================================================================================================================================================================\n",
            " \n",
            "================================================================================================================================================================\n",
            "  S.No.  fg_class        bg_class                    Epoch used      total_points    correct    accuracy    FTPT    FFPT    FTPF    FFPF    avg_img > 0.5\n",
            "-------  --------------  --------------------------  ------------  --------------  ---------  ----------  ------  ------  ------  ------  ---------------\n",
            "      1  fg = [0, 1, 2]  bg = [3, 4, 5, 6, 7, 8, 9]  NA                     10000       9821       98.21   40.66   57.55    1.28    0.51                0\n",
            "      2  fg = [0, 1, 2]  bg = [3, 4, 5, 6, 7, 8, 9]  NA                     10000       9764       97.64   20.64   77       0.26    2.1                 0\n",
            "      3  fg = [0, 1, 2]  bg = [3, 4, 5, 6, 7, 8, 9]  NA                     10000       9864       98.64   74.64   24       1.36    0                6815\n",
            "      4  fg = [0, 1, 2]  bg = [3, 4, 5, 6, 7, 8, 9]  NA                     10000       9648       96.48   76.92   19.56    3.51    0.01             6767\n",
            "      5  fg = [0, 1, 2]  bg = [3, 4, 5, 6, 7, 8, 9]  NA                     10000       9784       97.84   18.82   79.02    0.8     1.36                0\n",
            "      6  fg = [0, 1, 2]  bg = [3, 4, 5, 6, 7, 8, 9]  NA                     10000       9863       98.63   31.3    67.33    0.3     1.07                0\n",
            "      7  fg = [0, 1, 2]  bg = [3, 4, 5, 6, 7, 8, 9]  NA                     10000       9613       96.13   84.6    11.53    3.87    0                6806\n",
            "      8  fg = [0, 1, 2]  bg = [3, 4, 5, 6, 7, 8, 9]  NA                     10000       9797       97.97   74.35   23.62    2.02    0.01             6866\n",
            " \n",
            "================================================================================================================================================================\n",
            " \n",
            "================================================================================================================================================================\n",
            "  S.No.  fg_class        bg_class                    Epoch used      total_points    correct    accuracy    FTPT    FFPT    FTPF    FFPF    avg_img > 0.5\n",
            "-------  --------------  --------------------------  ------------  --------------  ---------  ----------  ------  ------  ------  ------  ---------------\n",
            "      1  fg = [0, 1, 2]  bg = [3, 4, 5, 6, 7, 8, 9]  NA                     10000       3345       33.45    2.88   30.57   26.63   39.92                0\n",
            "      2  fg = [0, 1, 2]  bg = [3, 4, 5, 6, 7, 8, 9]  NA                     10000       3318       33.18    4.26   28.92   19.48   47.34                0\n",
            "      3  fg = [0, 1, 2]  bg = [3, 4, 5, 6, 7, 8, 9]  NA                     10000       3321       33.21    5.6    27.61    3.96   62.83                0\n",
            "      4  fg = [0, 1, 2]  bg = [3, 4, 5, 6, 7, 8, 9]  NA                     10000       3323       33.23    3.14   30.09    4.94   61.83                0\n",
            "      5  fg = [0, 1, 2]  bg = [3, 4, 5, 6, 7, 8, 9]  NA                     10000       3420       34.2     3.19   31.01   12.61   53.19                0\n",
            "      6  fg = [0, 1, 2]  bg = [3, 4, 5, 6, 7, 8, 9]  NA                     10000       3319       33.19    3.11   30.08   23.54   43.27                0\n",
            "      7  fg = [0, 1, 2]  bg = [3, 4, 5, 6, 7, 8, 9]  NA                     10000       3332       33.32    4.94   28.38    2.64   64.04                0\n",
            "      8  fg = [0, 1, 2]  bg = [3, 4, 5, 6, 7, 8, 9]  NA                     10000       3321       33.21    4.62   28.59    5.14   61.65                0\n",
            " \n",
            "================================================================================================================================================================\n",
            " \n",
            "================================================================================================================================================================\n",
            "  S.No.  fg_class        bg_class                    Epoch used      total_points    correct    accuracy    FTPT    FFPT    FTPF    FFPF    avg_img > 0.5\n",
            "-------  --------------  --------------------------  ------------  --------------  ---------  ----------  ------  ------  ------  ------  ---------------\n",
            "      1  fg = [0, 1, 2]  bg = [3, 4, 5, 6, 7, 8, 9]  NA                     10000       3303       33.03    2.59   30.44   26.67   40.3                 0\n",
            "      2  fg = [0, 1, 2]  bg = [3, 4, 5, 6, 7, 8, 9]  NA                     10000       3386       33.86    3.82   30.04   18.32   47.82                0\n",
            "      3  fg = [0, 1, 2]  bg = [3, 4, 5, 6, 7, 8, 9]  NA                     10000       3283       32.83    5.46   27.37    4.02   63.15                0\n",
            "      4  fg = [0, 1, 2]  bg = [3, 4, 5, 6, 7, 8, 9]  NA                     10000       3288       32.88    2.81   30.07    4.34   62.78                0\n",
            "      5  fg = [0, 1, 2]  bg = [3, 4, 5, 6, 7, 8, 9]  NA                     10000       3277       32.77    2.75   30.02   12.5    54.73                0\n",
            "      6  fg = [0, 1, 2]  bg = [3, 4, 5, 6, 7, 8, 9]  NA                     10000       3285       32.85    2.69   30.16   22.82   44.33                0\n",
            "      7  fg = [0, 1, 2]  bg = [3, 4, 5, 6, 7, 8, 9]  NA                     10000       3300       33       4.94   28.06    2.49   64.51                0\n",
            "      8  fg = [0, 1, 2]  bg = [3, 4, 5, 6, 7, 8, 9]  NA                     10000       3283       32.83    4.53   28.3     5.22   61.95                0\n",
            " \n",
            "================================================================================================================================================================\n",
            "[1,    40] loss: 1.109\n",
            "[1,    80] loss: 1.099\n",
            "[1,   120] loss: 1.099\n",
            "[2,    40] loss: 1.099\n",
            "[2,    80] loss: 1.099\n",
            "[2,   120] loss: 1.099\n",
            "[3,    40] loss: 1.099\n",
            "[3,    80] loss: 1.099\n",
            "[3,   120] loss: 1.099\n",
            "[4,    40] loss: 1.099\n",
            "[4,    80] loss: 1.098\n",
            "[4,   120] loss: 1.099\n",
            "[5,    40] loss: 1.099\n",
            "[5,    80] loss: 1.099\n",
            "[5,   120] loss: 1.099\n",
            "[6,    40] loss: 1.099\n",
            "[6,    80] loss: 1.099\n",
            "[6,   120] loss: 1.099\n",
            "[7,    40] loss: 1.098\n",
            "[7,    80] loss: 1.098\n",
            "[7,   120] loss: 1.099\n",
            "[8,    40] loss: 1.098\n",
            "[8,    80] loss: 1.098\n",
            "[8,   120] loss: 1.098\n",
            "[9,    40] loss: 1.098\n",
            "[9,    80] loss: 1.098\n",
            "[9,   120] loss: 1.098\n",
            "[10,    40] loss: 1.098\n",
            "[10,    80] loss: 1.098\n",
            "[10,   120] loss: 1.098\n",
            "[11,    40] loss: 1.098\n",
            "[11,    80] loss: 1.097\n",
            "[11,   120] loss: 1.097\n",
            "[12,    40] loss: 1.097\n",
            "[12,    80] loss: 1.096\n",
            "[12,   120] loss: 1.096\n",
            "[13,    40] loss: 1.094\n",
            "[13,    80] loss: 1.092\n",
            "[13,   120] loss: 1.091\n",
            "[14,    40] loss: 1.089\n",
            "[14,    80] loss: 1.087\n",
            "[14,   120] loss: 1.086\n",
            "[15,    40] loss: 1.083\n",
            "[15,    80] loss: 1.083\n",
            "[15,   120] loss: 1.083\n",
            "[16,    40] loss: 1.079\n",
            "[16,    80] loss: 1.079\n",
            "[16,   120] loss: 1.081\n",
            "[17,    40] loss: 1.075\n",
            "[17,    80] loss: 1.075\n",
            "[17,   120] loss: 1.078\n",
            "[18,    40] loss: 1.073\n",
            "[18,    80] loss: 1.074\n",
            "[18,   120] loss: 1.073\n",
            "[19,    40] loss: 1.071\n",
            "[19,    80] loss: 1.066\n",
            "[19,   120] loss: 1.069\n",
            "[20,    40] loss: 1.063\n",
            "[20,    80] loss: 1.063\n",
            "[20,   120] loss: 1.063\n",
            "[21,    40] loss: 1.058\n",
            "[21,    80] loss: 1.055\n",
            "[21,   120] loss: 1.060\n",
            "[22,    40] loss: 1.051\n",
            "[22,    80] loss: 1.051\n",
            "[22,   120] loss: 1.051\n",
            "[23,    40] loss: 1.050\n",
            "[23,    80] loss: 1.037\n",
            "[23,   120] loss: 1.026\n",
            "[24,    40] loss: 1.012\n",
            "[24,    80] loss: 0.998\n",
            "[24,   120] loss: 0.940\n",
            "[25,    40] loss: 0.737\n",
            "[25,    80] loss: 0.633\n",
            "[25,   120] loss: 0.427\n",
            "[26,    40] loss: 0.328\n",
            "[26,    80] loss: 0.244\n",
            "[26,   120] loss: 0.179\n",
            "[27,    40] loss: 0.142\n",
            "[27,    80] loss: 0.204\n",
            "[27,   120] loss: 0.227\n",
            "[28,    40] loss: 0.136\n",
            "[28,    80] loss: 0.113\n",
            "[28,   120] loss: 0.112\n",
            "[29,    40] loss: 0.109\n",
            "[29,    80] loss: 0.078\n",
            "[29,   120] loss: 0.082\n",
            "[30,    40] loss: 0.064\n",
            "[30,    80] loss: 0.075\n",
            "[30,   120] loss: 0.151\n",
            "[31,    40] loss: 0.181\n",
            "[31,    80] loss: 0.062\n",
            "[31,   120] loss: 0.046\n",
            "[32,    40] loss: 0.040\n",
            "[32,    80] loss: 0.041\n",
            "[32,   120] loss: 0.043\n",
            "Finished Training\n",
            " \n",
            "================================================================================================================================================================\n",
            "  S.No.  fg_class        bg_class                      Epoch used    total_points    correct    accuracy     FTPT     FFPT      FTPF        FFPF    avg_img > 0.5\n",
            "-------  --------------  --------------------------  ------------  --------------  ---------  ----------  -------  -------  --------  ----------  ---------------\n",
            "      1  fg = [0, 1, 2]  bg = [3, 4, 5, 6, 7, 8, 9]            26           30000      29527     98.4233  40.8967  57.5267  0.903333  0.673333                  0\n",
            "      2  fg = [0, 1, 2]  bg = [3, 4, 5, 6, 7, 8, 9]            25           30000      29487     98.29    22.8833  75.4067  0.246667  1.46333                   0\n",
            "      3  fg = [0, 1, 2]  bg = [3, 4, 5, 6, 7, 8, 9]            30           30000      29867     99.5567  75.5133  24.0433  0.426667  0.0166667             20243\n",
            "      4  fg = [0, 1, 2]  bg = [3, 4, 5, 6, 7, 8, 9]            39           30000      29728     99.0933  79.5033  19.59    0.9       0.00666667            20109\n",
            "      5  fg = [0, 1, 2]  bg = [3, 4, 5, 6, 7, 8, 9]            38           30000      29441     98.1367  18.7367  79.4     0.676667  1.18667                   0\n",
            "      6  fg = [0, 1, 2]  bg = [3, 4, 5, 6, 7, 8, 9]            26           30000      29619     98.73    32.0167  66.7133  0.346667  0.923333                  0\n",
            "      7  fg = [0, 1, 2]  bg = [3, 4, 5, 6, 7, 8, 9]            33           30000      29467     98.2233  87.1933  11.03    1.77667   0                     20250\n",
            "      8  fg = [0, 1, 2]  bg = [3, 4, 5, 6, 7, 8, 9]            27           30000      29711     99.0367  74.7533  24.2833  0.96      0.00333333            20336\n",
            "      9  fg = [0, 1, 2]  bg = [3, 4, 5, 6, 7, 8, 9]            31           30000      29487     98.29    26.5333  71.7567  0.496667  1.21333                   0\n",
            " \n",
            "================================================================================================================================================================\n",
            " \n",
            "================================================================================================================================================================\n",
            "  S.No.  fg_class        bg_class                    Epoch used      total_points    correct    accuracy    FTPT    FFPT    FTPF    FFPF    avg_img > 0.5\n",
            "-------  --------------  --------------------------  ------------  --------------  ---------  ----------  ------  ------  ------  ------  ---------------\n",
            "      1  fg = [0, 1, 2]  bg = [3, 4, 5, 6, 7, 8, 9]  NA                     10000       9840       98.4    41.13   57.27    0.88    0.72                0\n",
            "      2  fg = [0, 1, 2]  bg = [3, 4, 5, 6, 7, 8, 9]  NA                     10000       9800       98      23.28   74.72    0.33    1.67                0\n",
            "      3  fg = [0, 1, 2]  bg = [3, 4, 5, 6, 7, 8, 9]  NA                     10000       9935       99.35   74.92   24.43    0.64    0.01             6756\n",
            "      4  fg = [0, 1, 2]  bg = [3, 4, 5, 6, 7, 8, 9]  NA                     10000       9823       98.23   78.98   19.25    1.75    0.02             6712\n",
            "      5  fg = [0, 1, 2]  bg = [3, 4, 5, 6, 7, 8, 9]  NA                     10000       9794       97.94   18.5    79.44    0.79    1.27                0\n",
            "      6  fg = [0, 1, 2]  bg = [3, 4, 5, 6, 7, 8, 9]  NA                     10000       9866       98.66   31.93   66.73    0.4     0.94                0\n",
            "      7  fg = [0, 1, 2]  bg = [3, 4, 5, 6, 7, 8, 9]  NA                     10000       9741       97.41   86.36   11.05    2.58    0.01             6755\n",
            "      8  fg = [0, 1, 2]  bg = [3, 4, 5, 6, 7, 8, 9]  NA                     10000       9831       98.31   73.7    24.61    1.68    0.01             6776\n",
            "      9  fg = [0, 1, 2]  bg = [3, 4, 5, 6, 7, 8, 9]  NA                     10000       9819       98.19   25.9    72.29    0.59    1.22                0\n",
            " \n",
            "================================================================================================================================================================\n",
            " \n",
            "================================================================================================================================================================\n",
            "  S.No.  fg_class        bg_class                    Epoch used      total_points    correct    accuracy    FTPT    FFPT    FTPF    FFPF    avg_img > 0.5\n",
            "-------  --------------  --------------------------  ------------  --------------  ---------  ----------  ------  ------  ------  ------  ---------------\n",
            "      1  fg = [0, 1, 2]  bg = [3, 4, 5, 6, 7, 8, 9]  NA                     10000       9821       98.21   40.66   57.55    1.28    0.51                0\n",
            "      2  fg = [0, 1, 2]  bg = [3, 4, 5, 6, 7, 8, 9]  NA                     10000       9764       97.64   20.64   77       0.26    2.1                 0\n",
            "      3  fg = [0, 1, 2]  bg = [3, 4, 5, 6, 7, 8, 9]  NA                     10000       9864       98.64   74.64   24       1.36    0                6815\n",
            "      4  fg = [0, 1, 2]  bg = [3, 4, 5, 6, 7, 8, 9]  NA                     10000       9648       96.48   76.92   19.56    3.51    0.01             6767\n",
            "      5  fg = [0, 1, 2]  bg = [3, 4, 5, 6, 7, 8, 9]  NA                     10000       9784       97.84   18.82   79.02    0.8     1.36                0\n",
            "      6  fg = [0, 1, 2]  bg = [3, 4, 5, 6, 7, 8, 9]  NA                     10000       9863       98.63   31.3    67.33    0.3     1.07                0\n",
            "      7  fg = [0, 1, 2]  bg = [3, 4, 5, 6, 7, 8, 9]  NA                     10000       9613       96.13   84.6    11.53    3.87    0                6806\n",
            "      8  fg = [0, 1, 2]  bg = [3, 4, 5, 6, 7, 8, 9]  NA                     10000       9797       97.97   74.35   23.62    2.02    0.01             6866\n",
            "      9  fg = [0, 1, 2]  bg = [3, 4, 5, 6, 7, 8, 9]  NA                     10000       9855       98.55   27.06   71.49    0.59    0.86                0\n",
            " \n",
            "================================================================================================================================================================\n",
            " \n",
            "================================================================================================================================================================\n",
            "  S.No.  fg_class        bg_class                    Epoch used      total_points    correct    accuracy    FTPT    FFPT    FTPF    FFPF    avg_img > 0.5\n",
            "-------  --------------  --------------------------  ------------  --------------  ---------  ----------  ------  ------  ------  ------  ---------------\n",
            "      1  fg = [0, 1, 2]  bg = [3, 4, 5, 6, 7, 8, 9]  NA                     10000       3345       33.45    2.88   30.57   26.63   39.92                0\n",
            "      2  fg = [0, 1, 2]  bg = [3, 4, 5, 6, 7, 8, 9]  NA                     10000       3318       33.18    4.26   28.92   19.48   47.34                0\n",
            "      3  fg = [0, 1, 2]  bg = [3, 4, 5, 6, 7, 8, 9]  NA                     10000       3321       33.21    5.6    27.61    3.96   62.83                0\n",
            "      4  fg = [0, 1, 2]  bg = [3, 4, 5, 6, 7, 8, 9]  NA                     10000       3323       33.23    3.14   30.09    4.94   61.83                0\n",
            "      5  fg = [0, 1, 2]  bg = [3, 4, 5, 6, 7, 8, 9]  NA                     10000       3420       34.2     3.19   31.01   12.61   53.19                0\n",
            "      6  fg = [0, 1, 2]  bg = [3, 4, 5, 6, 7, 8, 9]  NA                     10000       3319       33.19    3.11   30.08   23.54   43.27                0\n",
            "      7  fg = [0, 1, 2]  bg = [3, 4, 5, 6, 7, 8, 9]  NA                     10000       3332       33.32    4.94   28.38    2.64   64.04                0\n",
            "      8  fg = [0, 1, 2]  bg = [3, 4, 5, 6, 7, 8, 9]  NA                     10000       3321       33.21    4.62   28.59    5.14   61.65                0\n",
            "      9  fg = [0, 1, 2]  bg = [3, 4, 5, 6, 7, 8, 9]  NA                     10000       3397       33.97    4.74   29.23   18.57   47.46                0\n",
            " \n",
            "================================================================================================================================================================\n",
            " \n",
            "================================================================================================================================================================\n",
            "  S.No.  fg_class        bg_class                    Epoch used      total_points    correct    accuracy    FTPT    FFPT    FTPF    FFPF    avg_img > 0.5\n",
            "-------  --------------  --------------------------  ------------  --------------  ---------  ----------  ------  ------  ------  ------  ---------------\n",
            "      1  fg = [0, 1, 2]  bg = [3, 4, 5, 6, 7, 8, 9]  NA                     10000       3303       33.03    2.59   30.44   26.67   40.3                 0\n",
            "      2  fg = [0, 1, 2]  bg = [3, 4, 5, 6, 7, 8, 9]  NA                     10000       3386       33.86    3.82   30.04   18.32   47.82                0\n",
            "      3  fg = [0, 1, 2]  bg = [3, 4, 5, 6, 7, 8, 9]  NA                     10000       3283       32.83    5.46   27.37    4.02   63.15                0\n",
            "      4  fg = [0, 1, 2]  bg = [3, 4, 5, 6, 7, 8, 9]  NA                     10000       3288       32.88    2.81   30.07    4.34   62.78                0\n",
            "      5  fg = [0, 1, 2]  bg = [3, 4, 5, 6, 7, 8, 9]  NA                     10000       3277       32.77    2.75   30.02   12.5    54.73                0\n",
            "      6  fg = [0, 1, 2]  bg = [3, 4, 5, 6, 7, 8, 9]  NA                     10000       3285       32.85    2.69   30.16   22.82   44.33                0\n",
            "      7  fg = [0, 1, 2]  bg = [3, 4, 5, 6, 7, 8, 9]  NA                     10000       3300       33       4.94   28.06    2.49   64.51                0\n",
            "      8  fg = [0, 1, 2]  bg = [3, 4, 5, 6, 7, 8, 9]  NA                     10000       3283       32.83    4.53   28.3     5.22   61.95                0\n",
            "      9  fg = [0, 1, 2]  bg = [3, 4, 5, 6, 7, 8, 9]  NA                     10000       3354       33.54    4.39   29.15   19.2    47.26                0\n",
            " \n",
            "================================================================================================================================================================\n",
            "[1,    40] loss: 1.102\n",
            "[1,    80] loss: 1.099\n",
            "[1,   120] loss: 1.099\n",
            "[2,    40] loss: 1.099\n",
            "[2,    80] loss: 1.099\n",
            "[2,   120] loss: 1.099\n",
            "[3,    40] loss: 1.098\n",
            "[3,    80] loss: 1.098\n",
            "[3,   120] loss: 1.098\n",
            "[4,    40] loss: 1.098\n",
            "[4,    80] loss: 1.098\n",
            "[4,   120] loss: 1.098\n",
            "[5,    40] loss: 1.098\n",
            "[5,    80] loss: 1.097\n",
            "[5,   120] loss: 1.097\n",
            "[6,    40] loss: 1.097\n",
            "[6,    80] loss: 1.097\n",
            "[6,   120] loss: 1.096\n",
            "[7,    40] loss: 1.095\n",
            "[7,    80] loss: 1.094\n",
            "[7,   120] loss: 1.093\n",
            "[8,    40] loss: 1.091\n",
            "[8,    80] loss: 1.090\n",
            "[8,   120] loss: 1.087\n",
            "[9,    40] loss: 1.086\n",
            "[9,    80] loss: 1.084\n",
            "[9,   120] loss: 1.082\n",
            "[10,    40] loss: 1.080\n",
            "[10,    80] loss: 1.080\n",
            "[10,   120] loss: 1.081\n",
            "[11,    40] loss: 1.077\n",
            "[11,    80] loss: 1.078\n",
            "[11,   120] loss: 1.077\n",
            "[12,    40] loss: 1.075\n",
            "[12,    80] loss: 1.073\n",
            "[12,   120] loss: 1.078\n",
            "[13,    40] loss: 1.071\n",
            "[13,    80] loss: 1.075\n",
            "[13,   120] loss: 1.073\n",
            "[14,    40] loss: 1.070\n",
            "[14,    80] loss: 1.069\n",
            "[14,   120] loss: 1.071\n",
            "[15,    40] loss: 1.068\n",
            "[15,    80] loss: 1.070\n",
            "[15,   120] loss: 1.067\n",
            "[16,    40] loss: 1.068\n",
            "[16,    80] loss: 1.064\n",
            "[16,   120] loss: 1.061\n",
            "[17,    40] loss: 1.058\n",
            "[17,    80] loss: 1.060\n",
            "[17,   120] loss: 1.055\n",
            "[18,    40] loss: 1.053\n",
            "[18,    80] loss: 1.051\n",
            "[18,   120] loss: 1.048\n",
            "[19,    40] loss: 1.048\n",
            "[19,    80] loss: 1.048\n",
            "[19,   120] loss: 1.050\n",
            "[20,    40] loss: 1.040\n",
            "[20,    80] loss: 1.044\n",
            "[20,   120] loss: 1.032\n",
            "[21,    40] loss: 1.031\n",
            "[21,    80] loss: 1.025\n",
            "[21,   120] loss: 1.012\n",
            "[22,    40] loss: 0.980\n",
            "[22,    80] loss: 0.867\n",
            "[22,   120] loss: 0.559\n",
            "[23,    40] loss: 0.340\n",
            "[23,    80] loss: 0.344\n",
            "[23,   120] loss: 0.253\n",
            "[24,    40] loss: 0.213\n",
            "[24,    80] loss: 0.176\n",
            "[24,   120] loss: 0.125\n",
            "[25,    40] loss: 0.108\n",
            "[25,    80] loss: 0.087\n",
            "[25,   120] loss: 0.083\n",
            "[26,    40] loss: 0.056\n",
            "[26,    80] loss: 0.043\n",
            "[26,   120] loss: 0.055\n",
            "[27,    40] loss: 0.030\n",
            "[27,    80] loss: 0.029\n",
            "[27,   120] loss: 0.023\n",
            "Finished Training\n",
            " \n",
            "================================================================================================================================================================\n",
            "  S.No.  fg_class        bg_class                      Epoch used    total_points    correct    accuracy     FTPT     FFPT      FTPF        FFPF    avg_img > 0.5\n",
            "-------  --------------  --------------------------  ------------  --------------  ---------  ----------  -------  -------  --------  ----------  ---------------\n",
            "      1  fg = [0, 1, 2]  bg = [3, 4, 5, 6, 7, 8, 9]            26           30000      29527     98.4233  40.8967  57.5267  0.903333  0.673333                  0\n",
            "      2  fg = [0, 1, 2]  bg = [3, 4, 5, 6, 7, 8, 9]            25           30000      29487     98.29    22.8833  75.4067  0.246667  1.46333                   0\n",
            "      3  fg = [0, 1, 2]  bg = [3, 4, 5, 6, 7, 8, 9]            30           30000      29867     99.5567  75.5133  24.0433  0.426667  0.0166667             20243\n",
            "      4  fg = [0, 1, 2]  bg = [3, 4, 5, 6, 7, 8, 9]            39           30000      29728     99.0933  79.5033  19.59    0.9       0.00666667            20109\n",
            "      5  fg = [0, 1, 2]  bg = [3, 4, 5, 6, 7, 8, 9]            38           30000      29441     98.1367  18.7367  79.4     0.676667  1.18667                   0\n",
            "      6  fg = [0, 1, 2]  bg = [3, 4, 5, 6, 7, 8, 9]            26           30000      29619     98.73    32.0167  66.7133  0.346667  0.923333                  0\n",
            "      7  fg = [0, 1, 2]  bg = [3, 4, 5, 6, 7, 8, 9]            33           30000      29467     98.2233  87.1933  11.03    1.77667   0                     20250\n",
            "      8  fg = [0, 1, 2]  bg = [3, 4, 5, 6, 7, 8, 9]            27           30000      29711     99.0367  74.7533  24.2833  0.96      0.00333333            20336\n",
            "      9  fg = [0, 1, 2]  bg = [3, 4, 5, 6, 7, 8, 9]            31           30000      29487     98.29    26.5333  71.7567  0.496667  1.21333                   0\n",
            "     10  fg = [0, 1, 2]  bg = [3, 4, 5, 6, 7, 8, 9]            26           30000      29796     99.32    78.5233  20.7967  0.663333  0.0166667             20482\n",
            " \n",
            "================================================================================================================================================================\n",
            " \n",
            "================================================================================================================================================================\n",
            "  S.No.  fg_class        bg_class                    Epoch used      total_points    correct    accuracy    FTPT    FFPT    FTPF    FFPF    avg_img > 0.5\n",
            "-------  --------------  --------------------------  ------------  --------------  ---------  ----------  ------  ------  ------  ------  ---------------\n",
            "      1  fg = [0, 1, 2]  bg = [3, 4, 5, 6, 7, 8, 9]  NA                     10000       9840       98.4    41.13   57.27    0.88    0.72                0\n",
            "      2  fg = [0, 1, 2]  bg = [3, 4, 5, 6, 7, 8, 9]  NA                     10000       9800       98      23.28   74.72    0.33    1.67                0\n",
            "      3  fg = [0, 1, 2]  bg = [3, 4, 5, 6, 7, 8, 9]  NA                     10000       9935       99.35   74.92   24.43    0.64    0.01             6756\n",
            "      4  fg = [0, 1, 2]  bg = [3, 4, 5, 6, 7, 8, 9]  NA                     10000       9823       98.23   78.98   19.25    1.75    0.02             6712\n",
            "      5  fg = [0, 1, 2]  bg = [3, 4, 5, 6, 7, 8, 9]  NA                     10000       9794       97.94   18.5    79.44    0.79    1.27                0\n",
            "      6  fg = [0, 1, 2]  bg = [3, 4, 5, 6, 7, 8, 9]  NA                     10000       9866       98.66   31.93   66.73    0.4     0.94                0\n",
            "      7  fg = [0, 1, 2]  bg = [3, 4, 5, 6, 7, 8, 9]  NA                     10000       9741       97.41   86.36   11.05    2.58    0.01             6755\n",
            "      8  fg = [0, 1, 2]  bg = [3, 4, 5, 6, 7, 8, 9]  NA                     10000       9831       98.31   73.7    24.61    1.68    0.01             6776\n",
            "      9  fg = [0, 1, 2]  bg = [3, 4, 5, 6, 7, 8, 9]  NA                     10000       9819       98.19   25.9    72.29    0.59    1.22                0\n",
            "     10  fg = [0, 1, 2]  bg = [3, 4, 5, 6, 7, 8, 9]  NA                     10000       9931       99.31   78.22   21.09    0.68    0.01             6815\n",
            " \n",
            "================================================================================================================================================================\n",
            " \n",
            "================================================================================================================================================================\n",
            "  S.No.  fg_class        bg_class                    Epoch used      total_points    correct    accuracy    FTPT    FFPT    FTPF    FFPF    avg_img > 0.5\n",
            "-------  --------------  --------------------------  ------------  --------------  ---------  ----------  ------  ------  ------  ------  ---------------\n",
            "      1  fg = [0, 1, 2]  bg = [3, 4, 5, 6, 7, 8, 9]  NA                     10000       9821       98.21   40.66   57.55    1.28    0.51                0\n",
            "      2  fg = [0, 1, 2]  bg = [3, 4, 5, 6, 7, 8, 9]  NA                     10000       9764       97.64   20.64   77       0.26    2.1                 0\n",
            "      3  fg = [0, 1, 2]  bg = [3, 4, 5, 6, 7, 8, 9]  NA                     10000       9864       98.64   74.64   24       1.36    0                6815\n",
            "      4  fg = [0, 1, 2]  bg = [3, 4, 5, 6, 7, 8, 9]  NA                     10000       9648       96.48   76.92   19.56    3.51    0.01             6767\n",
            "      5  fg = [0, 1, 2]  bg = [3, 4, 5, 6, 7, 8, 9]  NA                     10000       9784       97.84   18.82   79.02    0.8     1.36                0\n",
            "      6  fg = [0, 1, 2]  bg = [3, 4, 5, 6, 7, 8, 9]  NA                     10000       9863       98.63   31.3    67.33    0.3     1.07                0\n",
            "      7  fg = [0, 1, 2]  bg = [3, 4, 5, 6, 7, 8, 9]  NA                     10000       9613       96.13   84.6    11.53    3.87    0                6806\n",
            "      8  fg = [0, 1, 2]  bg = [3, 4, 5, 6, 7, 8, 9]  NA                     10000       9797       97.97   74.35   23.62    2.02    0.01             6866\n",
            "      9  fg = [0, 1, 2]  bg = [3, 4, 5, 6, 7, 8, 9]  NA                     10000       9855       98.55   27.06   71.49    0.59    0.86                0\n",
            "     10  fg = [0, 1, 2]  bg = [3, 4, 5, 6, 7, 8, 9]  NA                     10000       9871       98.71   78.11   20.6     1.29    0                6924\n",
            " \n",
            "================================================================================================================================================================\n",
            " \n",
            "================================================================================================================================================================\n",
            "  S.No.  fg_class        bg_class                    Epoch used      total_points    correct    accuracy    FTPT    FFPT    FTPF    FFPF    avg_img > 0.5\n",
            "-------  --------------  --------------------------  ------------  --------------  ---------  ----------  ------  ------  ------  ------  ---------------\n",
            "      1  fg = [0, 1, 2]  bg = [3, 4, 5, 6, 7, 8, 9]  NA                     10000       3345       33.45    2.88   30.57   26.63   39.92                0\n",
            "      2  fg = [0, 1, 2]  bg = [3, 4, 5, 6, 7, 8, 9]  NA                     10000       3318       33.18    4.26   28.92   19.48   47.34                0\n",
            "      3  fg = [0, 1, 2]  bg = [3, 4, 5, 6, 7, 8, 9]  NA                     10000       3321       33.21    5.6    27.61    3.96   62.83                0\n",
            "      4  fg = [0, 1, 2]  bg = [3, 4, 5, 6, 7, 8, 9]  NA                     10000       3323       33.23    3.14   30.09    4.94   61.83                0\n",
            "      5  fg = [0, 1, 2]  bg = [3, 4, 5, 6, 7, 8, 9]  NA                     10000       3420       34.2     3.19   31.01   12.61   53.19                0\n",
            "      6  fg = [0, 1, 2]  bg = [3, 4, 5, 6, 7, 8, 9]  NA                     10000       3319       33.19    3.11   30.08   23.54   43.27                0\n",
            "      7  fg = [0, 1, 2]  bg = [3, 4, 5, 6, 7, 8, 9]  NA                     10000       3332       33.32    4.94   28.38    2.64   64.04                0\n",
            "      8  fg = [0, 1, 2]  bg = [3, 4, 5, 6, 7, 8, 9]  NA                     10000       3321       33.21    4.62   28.59    5.14   61.65                0\n",
            "      9  fg = [0, 1, 2]  bg = [3, 4, 5, 6, 7, 8, 9]  NA                     10000       3397       33.97    4.74   29.23   18.57   47.46                0\n",
            "     10  fg = [0, 1, 2]  bg = [3, 4, 5, 6, 7, 8, 9]  NA                     10000       3321       33.21    4.36   28.85    5.68   61.11                2\n",
            " \n",
            "================================================================================================================================================================\n",
            " \n",
            "================================================================================================================================================================\n",
            "  S.No.  fg_class        bg_class                    Epoch used      total_points    correct    accuracy    FTPT    FFPT    FTPF    FFPF    avg_img > 0.5\n",
            "-------  --------------  --------------------------  ------------  --------------  ---------  ----------  ------  ------  ------  ------  ---------------\n",
            "      1  fg = [0, 1, 2]  bg = [3, 4, 5, 6, 7, 8, 9]  NA                     10000       3303       33.03    2.59   30.44   26.67   40.3                 0\n",
            "      2  fg = [0, 1, 2]  bg = [3, 4, 5, 6, 7, 8, 9]  NA                     10000       3386       33.86    3.82   30.04   18.32   47.82                0\n",
            "      3  fg = [0, 1, 2]  bg = [3, 4, 5, 6, 7, 8, 9]  NA                     10000       3283       32.83    5.46   27.37    4.02   63.15                0\n",
            "      4  fg = [0, 1, 2]  bg = [3, 4, 5, 6, 7, 8, 9]  NA                     10000       3288       32.88    2.81   30.07    4.34   62.78                0\n",
            "      5  fg = [0, 1, 2]  bg = [3, 4, 5, 6, 7, 8, 9]  NA                     10000       3277       32.77    2.75   30.02   12.5    54.73                0\n",
            "      6  fg = [0, 1, 2]  bg = [3, 4, 5, 6, 7, 8, 9]  NA                     10000       3285       32.85    2.69   30.16   22.82   44.33                0\n",
            "      7  fg = [0, 1, 2]  bg = [3, 4, 5, 6, 7, 8, 9]  NA                     10000       3300       33       4.94   28.06    2.49   64.51                0\n",
            "      8  fg = [0, 1, 2]  bg = [3, 4, 5, 6, 7, 8, 9]  NA                     10000       3283       32.83    4.53   28.3     5.22   61.95                0\n",
            "      9  fg = [0, 1, 2]  bg = [3, 4, 5, 6, 7, 8, 9]  NA                     10000       3354       33.54    4.39   29.15   19.2    47.26                0\n",
            "     10  fg = [0, 1, 2]  bg = [3, 4, 5, 6, 7, 8, 9]  NA                     10000       3283       32.83    4.3    28.53    5.42   61.75                0\n",
            " \n",
            "================================================================================================================================================================\n"
          ],
          "name": "stdout"
        }
      ]
    },
    {
      "cell_type": "code",
      "metadata": {
        "id": "kloPmAalgpIz",
        "outputId": "8d820a3e-8b2f-417d-a46d-2f3e9590ede2",
        "colab": {
          "base_uri": "https://localhost:8080/",
          "height": 335
        }
      },
      "source": [
        "train_table = add_average_entry(train_table)"
      ],
      "execution_count": 79,
      "outputs": [
        {
          "output_type": "stream",
          "text": [
            " \n",
            "================================================================================================================================================================\n",
            "S.No.    fg_class        bg_class                    Epoch used    total_points    correct      accuracy     FTPT     FFPT      FTPF        FFPF    avg_img > 0.5\n",
            "-------  --------------  --------------------------  ------------  --------------  ---------  ----------  -------  -------  --------  ----------  ---------------\n",
            "1        fg = [0, 1, 2]  bg = [3, 4, 5, 6, 7, 8, 9]  26            30000           29527         98.4233  40.8967  57.5267  0.903333  0.673333                  0\n",
            "2        fg = [0, 1, 2]  bg = [3, 4, 5, 6, 7, 8, 9]  25            30000           29487         98.29    22.8833  75.4067  0.246667  1.46333                   0\n",
            "3        fg = [0, 1, 2]  bg = [3, 4, 5, 6, 7, 8, 9]  30            30000           29867         99.5567  75.5133  24.0433  0.426667  0.0166667             20243\n",
            "4        fg = [0, 1, 2]  bg = [3, 4, 5, 6, 7, 8, 9]  39            30000           29728         99.0933  79.5033  19.59    0.9       0.00666667            20109\n",
            "5        fg = [0, 1, 2]  bg = [3, 4, 5, 6, 7, 8, 9]  38            30000           29441         98.1367  18.7367  79.4     0.676667  1.18667                   0\n",
            "6        fg = [0, 1, 2]  bg = [3, 4, 5, 6, 7, 8, 9]  26            30000           29619         98.73    32.0167  66.7133  0.346667  0.923333                  0\n",
            "7        fg = [0, 1, 2]  bg = [3, 4, 5, 6, 7, 8, 9]  33            30000           29467         98.2233  87.1933  11.03    1.77667   0                     20250\n",
            "8        fg = [0, 1, 2]  bg = [3, 4, 5, 6, 7, 8, 9]  27            30000           29711         99.0367  74.7533  24.2833  0.96      0.00333333            20336\n",
            "9        fg = [0, 1, 2]  bg = [3, 4, 5, 6, 7, 8, 9]  31            30000           29487         98.29    26.5333  71.7567  0.496667  1.21333                   0\n",
            "10       fg = [0, 1, 2]  bg = [3, 4, 5, 6, 7, 8, 9]  26            30000           29796         99.32    78.5233  20.7967  0.663333  0.0166667             20482\n",
            "Avg                                                                                              98.71    53.6553  45.0547  0.739667  0.550333              10142\n",
            " \n",
            "================================================================================================================================================================\n"
          ],
          "name": "stdout"
        }
      ]
    },
    {
      "cell_type": "code",
      "metadata": {
        "id": "00KPkU7EhPJj",
        "outputId": "cc5fdaf3-5429-4af3-e26a-c8dd99339ce4",
        "colab": {
          "base_uri": "https://localhost:8080/",
          "height": 335
        }
      },
      "source": [
        "test_table1 = add_average_entry(test_table1)"
      ],
      "execution_count": 80,
      "outputs": [
        {
          "output_type": "stream",
          "text": [
            " \n",
            "================================================================================================================================================================\n",
            "S.No.    fg_class        bg_class                    Epoch used    total_points    correct      accuracy    FTPT    FFPT    FTPF    FFPF    avg_img > 0.5\n",
            "-------  --------------  --------------------------  ------------  --------------  ---------  ----------  ------  ------  ------  ------  ---------------\n",
            "1        fg = [0, 1, 2]  bg = [3, 4, 5, 6, 7, 8, 9]  NA            10000           9840            98.4   41.13   57.27    0.88    0.72               0\n",
            "2        fg = [0, 1, 2]  bg = [3, 4, 5, 6, 7, 8, 9]  NA            10000           9800            98     23.28   74.72    0.33    1.67               0\n",
            "3        fg = [0, 1, 2]  bg = [3, 4, 5, 6, 7, 8, 9]  NA            10000           9935            99.35  74.92   24.43    0.64    0.01            6756\n",
            "4        fg = [0, 1, 2]  bg = [3, 4, 5, 6, 7, 8, 9]  NA            10000           9823            98.23  78.98   19.25    1.75    0.02            6712\n",
            "5        fg = [0, 1, 2]  bg = [3, 4, 5, 6, 7, 8, 9]  NA            10000           9794            97.94  18.5    79.44    0.79    1.27               0\n",
            "6        fg = [0, 1, 2]  bg = [3, 4, 5, 6, 7, 8, 9]  NA            10000           9866            98.66  31.93   66.73    0.4     0.94               0\n",
            "7        fg = [0, 1, 2]  bg = [3, 4, 5, 6, 7, 8, 9]  NA            10000           9741            97.41  86.36   11.05    2.58    0.01            6755\n",
            "8        fg = [0, 1, 2]  bg = [3, 4, 5, 6, 7, 8, 9]  NA            10000           9831            98.31  73.7    24.61    1.68    0.01            6776\n",
            "9        fg = [0, 1, 2]  bg = [3, 4, 5, 6, 7, 8, 9]  NA            10000           9819            98.19  25.9    72.29    0.59    1.22               0\n",
            "10       fg = [0, 1, 2]  bg = [3, 4, 5, 6, 7, 8, 9]  NA            10000           9931            99.31  78.22   21.09    0.68    0.01            6815\n",
            "Avg                                                                                                98.38  53.292  45.088   1.032   0.588           3381.4\n",
            " \n",
            "================================================================================================================================================================\n"
          ],
          "name": "stdout"
        }
      ]
    },
    {
      "cell_type": "code",
      "metadata": {
        "id": "pW_kUqi3hR6u",
        "outputId": "5f435ce4-7ff1-48a1-e9bb-9d3c86a13343",
        "colab": {
          "base_uri": "https://localhost:8080/",
          "height": 335
        }
      },
      "source": [
        "test_table2 = add_average_entry(test_table2)"
      ],
      "execution_count": 81,
      "outputs": [
        {
          "output_type": "stream",
          "text": [
            " \n",
            "================================================================================================================================================================\n",
            "S.No.    fg_class        bg_class                    Epoch used    total_points    correct      accuracy    FTPT    FFPT    FTPF    FFPF    avg_img > 0.5\n",
            "-------  --------------  --------------------------  ------------  --------------  ---------  ----------  ------  ------  ------  ------  ---------------\n",
            "1        fg = [0, 1, 2]  bg = [3, 4, 5, 6, 7, 8, 9]  NA            10000           9821            98.21   40.66   57.55   1.28    0.51               0\n",
            "2        fg = [0, 1, 2]  bg = [3, 4, 5, 6, 7, 8, 9]  NA            10000           9764            97.64   20.64   77      0.26    2.1                0\n",
            "3        fg = [0, 1, 2]  bg = [3, 4, 5, 6, 7, 8, 9]  NA            10000           9864            98.64   74.64   24      1.36    0               6815\n",
            "4        fg = [0, 1, 2]  bg = [3, 4, 5, 6, 7, 8, 9]  NA            10000           9648            96.48   76.92   19.56   3.51    0.01            6767\n",
            "5        fg = [0, 1, 2]  bg = [3, 4, 5, 6, 7, 8, 9]  NA            10000           9784            97.84   18.82   79.02   0.8     1.36               0\n",
            "6        fg = [0, 1, 2]  bg = [3, 4, 5, 6, 7, 8, 9]  NA            10000           9863            98.63   31.3    67.33   0.3     1.07               0\n",
            "7        fg = [0, 1, 2]  bg = [3, 4, 5, 6, 7, 8, 9]  NA            10000           9613            96.13   84.6    11.53   3.87    0               6806\n",
            "8        fg = [0, 1, 2]  bg = [3, 4, 5, 6, 7, 8, 9]  NA            10000           9797            97.97   74.35   23.62   2.02    0.01            6866\n",
            "9        fg = [0, 1, 2]  bg = [3, 4, 5, 6, 7, 8, 9]  NA            10000           9855            98.55   27.06   71.49   0.59    0.86               0\n",
            "10       fg = [0, 1, 2]  bg = [3, 4, 5, 6, 7, 8, 9]  NA            10000           9871            98.71   78.11   20.6    1.29    0               6924\n",
            "Avg                                                                                                97.88   52.71   45.17   1.528   0.592           3417.8\n",
            " \n",
            "================================================================================================================================================================\n"
          ],
          "name": "stdout"
        }
      ]
    },
    {
      "cell_type": "code",
      "metadata": {
        "id": "_ZlV6qErhUUL",
        "outputId": "0ca82718-bc89-4d05-e8c0-a3de07dea9d8",
        "colab": {
          "base_uri": "https://localhost:8080/",
          "height": 335
        }
      },
      "source": [
        "test_table3 = add_average_entry(test_table3)"
      ],
      "execution_count": 82,
      "outputs": [
        {
          "output_type": "stream",
          "text": [
            " \n",
            "================================================================================================================================================================\n",
            "S.No.    fg_class        bg_class                    Epoch used    total_points    correct      accuracy    FTPT    FFPT    FTPF    FFPF    avg_img > 0.5\n",
            "-------  --------------  --------------------------  ------------  --------------  ---------  ----------  ------  ------  ------  ------  ---------------\n",
            "1        fg = [0, 1, 2]  bg = [3, 4, 5, 6, 7, 8, 9]  NA            10000           3345           33.45    2.88   30.57   26.63   39.92               0\n",
            "2        fg = [0, 1, 2]  bg = [3, 4, 5, 6, 7, 8, 9]  NA            10000           3318           33.18    4.26   28.92   19.48   47.34               0\n",
            "3        fg = [0, 1, 2]  bg = [3, 4, 5, 6, 7, 8, 9]  NA            10000           3321           33.21    5.6    27.61    3.96   62.83               0\n",
            "4        fg = [0, 1, 2]  bg = [3, 4, 5, 6, 7, 8, 9]  NA            10000           3323           33.23    3.14   30.09    4.94   61.83               0\n",
            "5        fg = [0, 1, 2]  bg = [3, 4, 5, 6, 7, 8, 9]  NA            10000           3420           34.2     3.19   31.01   12.61   53.19               0\n",
            "6        fg = [0, 1, 2]  bg = [3, 4, 5, 6, 7, 8, 9]  NA            10000           3319           33.19    3.11   30.08   23.54   43.27               0\n",
            "7        fg = [0, 1, 2]  bg = [3, 4, 5, 6, 7, 8, 9]  NA            10000           3332           33.32    4.94   28.38    2.64   64.04               0\n",
            "8        fg = [0, 1, 2]  bg = [3, 4, 5, 6, 7, 8, 9]  NA            10000           3321           33.21    4.62   28.59    5.14   61.65               0\n",
            "9        fg = [0, 1, 2]  bg = [3, 4, 5, 6, 7, 8, 9]  NA            10000           3397           33.97    4.74   29.23   18.57   47.46               0\n",
            "10       fg = [0, 1, 2]  bg = [3, 4, 5, 6, 7, 8, 9]  NA            10000           3321           33.21    4.36   28.85    5.68   61.11               2\n",
            "Avg                                                                                               33.417   4.084  29.333  12.319  54.264              0.2\n",
            " \n",
            "================================================================================================================================================================\n"
          ],
          "name": "stdout"
        }
      ]
    },
    {
      "cell_type": "code",
      "metadata": {
        "id": "BOvl6fUChV5j",
        "outputId": "d381af29-3702-4820-aac3-2242305ff7a3",
        "colab": {
          "base_uri": "https://localhost:8080/",
          "height": 335
        }
      },
      "source": [
        "test_table4 = add_average_entry(test_table4)"
      ],
      "execution_count": 83,
      "outputs": [
        {
          "output_type": "stream",
          "text": [
            " \n",
            "================================================================================================================================================================\n",
            "S.No.    fg_class        bg_class                    Epoch used    total_points    correct      accuracy    FTPT    FFPT    FTPF    FFPF    avg_img > 0.5\n",
            "-------  --------------  --------------------------  ------------  --------------  ---------  ----------  ------  ------  ------  ------  ---------------\n",
            "1        fg = [0, 1, 2]  bg = [3, 4, 5, 6, 7, 8, 9]  NA            10000           3303           33.03    2.59   30.44    26.67  40.3                  0\n",
            "2        fg = [0, 1, 2]  bg = [3, 4, 5, 6, 7, 8, 9]  NA            10000           3386           33.86    3.82   30.04    18.32  47.82                 0\n",
            "3        fg = [0, 1, 2]  bg = [3, 4, 5, 6, 7, 8, 9]  NA            10000           3283           32.83    5.46   27.37     4.02  63.15                 0\n",
            "4        fg = [0, 1, 2]  bg = [3, 4, 5, 6, 7, 8, 9]  NA            10000           3288           32.88    2.81   30.07     4.34  62.78                 0\n",
            "5        fg = [0, 1, 2]  bg = [3, 4, 5, 6, 7, 8, 9]  NA            10000           3277           32.77    2.75   30.02    12.5   54.73                 0\n",
            "6        fg = [0, 1, 2]  bg = [3, 4, 5, 6, 7, 8, 9]  NA            10000           3285           32.85    2.69   30.16    22.82  44.33                 0\n",
            "7        fg = [0, 1, 2]  bg = [3, 4, 5, 6, 7, 8, 9]  NA            10000           3300           33       4.94   28.06     2.49  64.51                 0\n",
            "8        fg = [0, 1, 2]  bg = [3, 4, 5, 6, 7, 8, 9]  NA            10000           3283           32.83    4.53   28.3      5.22  61.95                 0\n",
            "9        fg = [0, 1, 2]  bg = [3, 4, 5, 6, 7, 8, 9]  NA            10000           3354           33.54    4.39   29.15    19.2   47.26                 0\n",
            "10       fg = [0, 1, 2]  bg = [3, 4, 5, 6, 7, 8, 9]  NA            10000           3283           32.83    4.3    28.53     5.42  61.75                 0\n",
            "Avg                                                                                               33.042   3.828  29.214   12.1   54.858                0\n",
            " \n",
            "================================================================================================================================================================\n"
          ],
          "name": "stdout"
        }
      ]
    },
    {
      "cell_type": "code",
      "metadata": {
        "id": "nkyMi1VBpq9a"
      },
      "source": [
        "# torch.save(fore_net.state_dict(),\"/content/drive/My Drive/Research/mosaic_from_CIFAR_involving_bottop_eigen_vectors/fore_net_epoch\"+str(epoch)+\"_fg_used\"+str(fg_used)+\".pt\")"
      ],
      "execution_count": 84,
      "outputs": []
    }
  ]
}