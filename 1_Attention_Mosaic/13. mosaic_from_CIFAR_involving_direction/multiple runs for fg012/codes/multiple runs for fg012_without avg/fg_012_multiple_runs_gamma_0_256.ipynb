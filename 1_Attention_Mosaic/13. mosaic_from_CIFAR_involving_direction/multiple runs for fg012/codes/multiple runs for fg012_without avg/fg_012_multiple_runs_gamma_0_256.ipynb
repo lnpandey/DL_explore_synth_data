{
  "nbformat": 4,
  "nbformat_minor": 0,
  "metadata": {
    "accelerator": "GPU",
    "colab": {
      "name": "fg_012_multiple_runs_gamma_0_256.ipynb",
      "provenance": [],
      "collapsed_sections": [],
      "machine_shape": "hm"
    },
    "kernelspec": {
      "display_name": "Python 3",
      "language": "python",
      "name": "python3"
    },
    "language_info": {
      "codemirror_mode": {
        "name": "ipython",
        "version": 3
      },
      "file_extension": ".py",
      "mimetype": "text/x-python",
      "name": "python",
      "nbconvert_exporter": "python",
      "pygments_lexer": "ipython3",
      "version": "3.6.5"
    },
    "widgets": {
      "application/vnd.jupyter.widget-state+json": {
        "3d889bdfbc85444583b809efd4781ee4": {
          "model_module": "@jupyter-widgets/controls",
          "model_name": "HBoxModel",
          "state": {
            "_view_name": "HBoxView",
            "_dom_classes": [],
            "_model_name": "HBoxModel",
            "_view_module": "@jupyter-widgets/controls",
            "_model_module_version": "1.5.0",
            "_view_count": null,
            "_view_module_version": "1.5.0",
            "box_style": "",
            "layout": "IPY_MODEL_07c30bd702664be0aee854fe5c3c22bc",
            "_model_module": "@jupyter-widgets/controls",
            "children": [
              "IPY_MODEL_60fbdcc943d84a00a0c8441e0377ddde",
              "IPY_MODEL_8445ed3cadf542e59ddb6d3c68b7f32d"
            ]
          }
        },
        "07c30bd702664be0aee854fe5c3c22bc": {
          "model_module": "@jupyter-widgets/base",
          "model_name": "LayoutModel",
          "state": {
            "_view_name": "LayoutView",
            "grid_template_rows": null,
            "right": null,
            "justify_content": null,
            "_view_module": "@jupyter-widgets/base",
            "overflow": null,
            "_model_module_version": "1.2.0",
            "_view_count": null,
            "flex_flow": null,
            "width": null,
            "min_width": null,
            "border": null,
            "align_items": null,
            "bottom": null,
            "_model_module": "@jupyter-widgets/base",
            "top": null,
            "grid_column": null,
            "overflow_y": null,
            "overflow_x": null,
            "grid_auto_flow": null,
            "grid_area": null,
            "grid_template_columns": null,
            "flex": null,
            "_model_name": "LayoutModel",
            "justify_items": null,
            "grid_row": null,
            "max_height": null,
            "align_content": null,
            "visibility": null,
            "align_self": null,
            "height": null,
            "min_height": null,
            "padding": null,
            "grid_auto_rows": null,
            "grid_gap": null,
            "max_width": null,
            "order": null,
            "_view_module_version": "1.2.0",
            "grid_template_areas": null,
            "object_position": null,
            "object_fit": null,
            "grid_auto_columns": null,
            "margin": null,
            "display": null,
            "left": null
          }
        },
        "60fbdcc943d84a00a0c8441e0377ddde": {
          "model_module": "@jupyter-widgets/controls",
          "model_name": "FloatProgressModel",
          "state": {
            "_view_name": "ProgressView",
            "style": "IPY_MODEL_17b803ec9868483caeadf751d586bc49",
            "_dom_classes": [],
            "description": "",
            "_model_name": "FloatProgressModel",
            "bar_style": "success",
            "max": 1,
            "_view_module": "@jupyter-widgets/controls",
            "_model_module_version": "1.5.0",
            "value": 0,
            "_view_count": null,
            "_view_module_version": "1.5.0",
            "orientation": "horizontal",
            "min": 0,
            "description_tooltip": null,
            "_model_module": "@jupyter-widgets/controls",
            "layout": "IPY_MODEL_d50f44f0c7104be984214e978a9782f3"
          }
        },
        "8445ed3cadf542e59ddb6d3c68b7f32d": {
          "model_module": "@jupyter-widgets/controls",
          "model_name": "HTMLModel",
          "state": {
            "_view_name": "HTMLView",
            "style": "IPY_MODEL_b81897ef6c874ca0a5b195b1231e5b00",
            "_dom_classes": [],
            "description": "",
            "_model_name": "HTMLModel",
            "placeholder": "​",
            "_view_module": "@jupyter-widgets/controls",
            "_model_module_version": "1.5.0",
            "value": " 0/? [00:07&lt;?, ?it/s]",
            "_view_count": null,
            "_view_module_version": "1.5.0",
            "description_tooltip": null,
            "_model_module": "@jupyter-widgets/controls",
            "layout": "IPY_MODEL_f21cafd34671495aada8559cad8d23cc"
          }
        },
        "17b803ec9868483caeadf751d586bc49": {
          "model_module": "@jupyter-widgets/controls",
          "model_name": "ProgressStyleModel",
          "state": {
            "_view_name": "StyleView",
            "_model_name": "ProgressStyleModel",
            "description_width": "initial",
            "_view_module": "@jupyter-widgets/base",
            "_model_module_version": "1.5.0",
            "_view_count": null,
            "_view_module_version": "1.2.0",
            "bar_color": null,
            "_model_module": "@jupyter-widgets/controls"
          }
        },
        "d50f44f0c7104be984214e978a9782f3": {
          "model_module": "@jupyter-widgets/base",
          "model_name": "LayoutModel",
          "state": {
            "_view_name": "LayoutView",
            "grid_template_rows": null,
            "right": null,
            "justify_content": null,
            "_view_module": "@jupyter-widgets/base",
            "overflow": null,
            "_model_module_version": "1.2.0",
            "_view_count": null,
            "flex_flow": null,
            "width": null,
            "min_width": null,
            "border": null,
            "align_items": null,
            "bottom": null,
            "_model_module": "@jupyter-widgets/base",
            "top": null,
            "grid_column": null,
            "overflow_y": null,
            "overflow_x": null,
            "grid_auto_flow": null,
            "grid_area": null,
            "grid_template_columns": null,
            "flex": null,
            "_model_name": "LayoutModel",
            "justify_items": null,
            "grid_row": null,
            "max_height": null,
            "align_content": null,
            "visibility": null,
            "align_self": null,
            "height": null,
            "min_height": null,
            "padding": null,
            "grid_auto_rows": null,
            "grid_gap": null,
            "max_width": null,
            "order": null,
            "_view_module_version": "1.2.0",
            "grid_template_areas": null,
            "object_position": null,
            "object_fit": null,
            "grid_auto_columns": null,
            "margin": null,
            "display": null,
            "left": null
          }
        },
        "b81897ef6c874ca0a5b195b1231e5b00": {
          "model_module": "@jupyter-widgets/controls",
          "model_name": "DescriptionStyleModel",
          "state": {
            "_view_name": "StyleView",
            "_model_name": "DescriptionStyleModel",
            "description_width": "",
            "_view_module": "@jupyter-widgets/base",
            "_model_module_version": "1.5.0",
            "_view_count": null,
            "_view_module_version": "1.2.0",
            "_model_module": "@jupyter-widgets/controls"
          }
        },
        "f21cafd34671495aada8559cad8d23cc": {
          "model_module": "@jupyter-widgets/base",
          "model_name": "LayoutModel",
          "state": {
            "_view_name": "LayoutView",
            "grid_template_rows": null,
            "right": null,
            "justify_content": null,
            "_view_module": "@jupyter-widgets/base",
            "overflow": null,
            "_model_module_version": "1.2.0",
            "_view_count": null,
            "flex_flow": null,
            "width": null,
            "min_width": null,
            "border": null,
            "align_items": null,
            "bottom": null,
            "_model_module": "@jupyter-widgets/base",
            "top": null,
            "grid_column": null,
            "overflow_y": null,
            "overflow_x": null,
            "grid_auto_flow": null,
            "grid_area": null,
            "grid_template_columns": null,
            "flex": null,
            "_model_name": "LayoutModel",
            "justify_items": null,
            "grid_row": null,
            "max_height": null,
            "align_content": null,
            "visibility": null,
            "align_self": null,
            "height": null,
            "min_height": null,
            "padding": null,
            "grid_auto_rows": null,
            "grid_gap": null,
            "max_width": null,
            "order": null,
            "_view_module_version": "1.2.0",
            "grid_template_areas": null,
            "object_position": null,
            "object_fit": null,
            "grid_auto_columns": null,
            "margin": null,
            "display": null,
            "left": null
          }
        },
        "8aede2bc6ace4938b88cfdd33261cf49": {
          "model_module": "@jupyter-widgets/controls",
          "model_name": "HBoxModel",
          "state": {
            "_view_name": "HBoxView",
            "_dom_classes": [],
            "_model_name": "HBoxModel",
            "_view_module": "@jupyter-widgets/controls",
            "_model_module_version": "1.5.0",
            "_view_count": null,
            "_view_module_version": "1.5.0",
            "box_style": "",
            "layout": "IPY_MODEL_b459d38abc4d4d39a98054645cc3803b",
            "_model_module": "@jupyter-widgets/controls",
            "children": [
              "IPY_MODEL_36b86bfe53ba45d8ba5e23ed4f44e865",
              "IPY_MODEL_6205397516904931bac32746c7a3deda"
            ]
          }
        },
        "b459d38abc4d4d39a98054645cc3803b": {
          "model_module": "@jupyter-widgets/base",
          "model_name": "LayoutModel",
          "state": {
            "_view_name": "LayoutView",
            "grid_template_rows": null,
            "right": null,
            "justify_content": null,
            "_view_module": "@jupyter-widgets/base",
            "overflow": null,
            "_model_module_version": "1.2.0",
            "_view_count": null,
            "flex_flow": null,
            "width": null,
            "min_width": null,
            "border": null,
            "align_items": null,
            "bottom": null,
            "_model_module": "@jupyter-widgets/base",
            "top": null,
            "grid_column": null,
            "overflow_y": null,
            "overflow_x": null,
            "grid_auto_flow": null,
            "grid_area": null,
            "grid_template_columns": null,
            "flex": null,
            "_model_name": "LayoutModel",
            "justify_items": null,
            "grid_row": null,
            "max_height": null,
            "align_content": null,
            "visibility": null,
            "align_self": null,
            "height": null,
            "min_height": null,
            "padding": null,
            "grid_auto_rows": null,
            "grid_gap": null,
            "max_width": null,
            "order": null,
            "_view_module_version": "1.2.0",
            "grid_template_areas": null,
            "object_position": null,
            "object_fit": null,
            "grid_auto_columns": null,
            "margin": null,
            "display": null,
            "left": null
          }
        },
        "36b86bfe53ba45d8ba5e23ed4f44e865": {
          "model_module": "@jupyter-widgets/controls",
          "model_name": "FloatProgressModel",
          "state": {
            "_view_name": "ProgressView",
            "style": "IPY_MODEL_80b8776d469b4e418a2f247c5e79293e",
            "_dom_classes": [],
            "description": "",
            "_model_name": "FloatProgressModel",
            "bar_style": "success",
            "max": 1,
            "_view_module": "@jupyter-widgets/controls",
            "_model_module_version": "1.5.0",
            "value": 1,
            "_view_count": null,
            "_view_module_version": "1.5.0",
            "orientation": "horizontal",
            "min": 0,
            "description_tooltip": null,
            "_model_module": "@jupyter-widgets/controls",
            "layout": "IPY_MODEL_c5e97627e39647d7b882cb559a9495c1"
          }
        },
        "6205397516904931bac32746c7a3deda": {
          "model_module": "@jupyter-widgets/controls",
          "model_name": "HTMLModel",
          "state": {
            "_view_name": "HTMLView",
            "style": "IPY_MODEL_64a1687ebb054d2bb5f5346577bfca4d",
            "_dom_classes": [],
            "description": "",
            "_model_name": "HTMLModel",
            "placeholder": "​",
            "_view_module": "@jupyter-widgets/controls",
            "_model_module_version": "1.5.0",
            "value": " 170500096/? [00:07&lt;00:00, 24258908.42it/s]",
            "_view_count": null,
            "_view_module_version": "1.5.0",
            "description_tooltip": null,
            "_model_module": "@jupyter-widgets/controls",
            "layout": "IPY_MODEL_29f0fbd9209f415994f14f7a13c886cd"
          }
        },
        "80b8776d469b4e418a2f247c5e79293e": {
          "model_module": "@jupyter-widgets/controls",
          "model_name": "ProgressStyleModel",
          "state": {
            "_view_name": "StyleView",
            "_model_name": "ProgressStyleModel",
            "description_width": "initial",
            "_view_module": "@jupyter-widgets/base",
            "_model_module_version": "1.5.0",
            "_view_count": null,
            "_view_module_version": "1.2.0",
            "bar_color": null,
            "_model_module": "@jupyter-widgets/controls"
          }
        },
        "c5e97627e39647d7b882cb559a9495c1": {
          "model_module": "@jupyter-widgets/base",
          "model_name": "LayoutModel",
          "state": {
            "_view_name": "LayoutView",
            "grid_template_rows": null,
            "right": null,
            "justify_content": null,
            "_view_module": "@jupyter-widgets/base",
            "overflow": null,
            "_model_module_version": "1.2.0",
            "_view_count": null,
            "flex_flow": null,
            "width": null,
            "min_width": null,
            "border": null,
            "align_items": null,
            "bottom": null,
            "_model_module": "@jupyter-widgets/base",
            "top": null,
            "grid_column": null,
            "overflow_y": null,
            "overflow_x": null,
            "grid_auto_flow": null,
            "grid_area": null,
            "grid_template_columns": null,
            "flex": null,
            "_model_name": "LayoutModel",
            "justify_items": null,
            "grid_row": null,
            "max_height": null,
            "align_content": null,
            "visibility": null,
            "align_self": null,
            "height": null,
            "min_height": null,
            "padding": null,
            "grid_auto_rows": null,
            "grid_gap": null,
            "max_width": null,
            "order": null,
            "_view_module_version": "1.2.0",
            "grid_template_areas": null,
            "object_position": null,
            "object_fit": null,
            "grid_auto_columns": null,
            "margin": null,
            "display": null,
            "left": null
          }
        },
        "64a1687ebb054d2bb5f5346577bfca4d": {
          "model_module": "@jupyter-widgets/controls",
          "model_name": "DescriptionStyleModel",
          "state": {
            "_view_name": "StyleView",
            "_model_name": "DescriptionStyleModel",
            "description_width": "",
            "_view_module": "@jupyter-widgets/base",
            "_model_module_version": "1.5.0",
            "_view_count": null,
            "_view_module_version": "1.2.0",
            "_model_module": "@jupyter-widgets/controls"
          }
        },
        "29f0fbd9209f415994f14f7a13c886cd": {
          "model_module": "@jupyter-widgets/base",
          "model_name": "LayoutModel",
          "state": {
            "_view_name": "LayoutView",
            "grid_template_rows": null,
            "right": null,
            "justify_content": null,
            "_view_module": "@jupyter-widgets/base",
            "overflow": null,
            "_model_module_version": "1.2.0",
            "_view_count": null,
            "flex_flow": null,
            "width": null,
            "min_width": null,
            "border": null,
            "align_items": null,
            "bottom": null,
            "_model_module": "@jupyter-widgets/base",
            "top": null,
            "grid_column": null,
            "overflow_y": null,
            "overflow_x": null,
            "grid_auto_flow": null,
            "grid_area": null,
            "grid_template_columns": null,
            "flex": null,
            "_model_name": "LayoutModel",
            "justify_items": null,
            "grid_row": null,
            "max_height": null,
            "align_content": null,
            "visibility": null,
            "align_self": null,
            "height": null,
            "min_height": null,
            "padding": null,
            "grid_auto_rows": null,
            "grid_gap": null,
            "max_width": null,
            "order": null,
            "_view_module_version": "1.2.0",
            "grid_template_areas": null,
            "object_position": null,
            "object_fit": null,
            "grid_auto_columns": null,
            "margin": null,
            "display": null,
            "left": null
          }
        }
      }
    }
  },
  "cells": [
    {
      "cell_type": "code",
      "metadata": {
        "id": "JSjG64ra4aFu"
      },
      "source": [
        "# from google.colab import drive\n",
        "# drive.mount('/content/drive')"
      ],
      "execution_count": null,
      "outputs": []
    },
    {
      "cell_type": "code",
      "metadata": {
        "id": "V8-7SARDZErK"
      },
      "source": [
        "import torch.nn as nn\n",
        "import torch.nn.functional as F\n",
        "\n",
        "import pandas as pd\n",
        "import numpy as np\n",
        "import matplotlib.pyplot as plt\n",
        "\n",
        "import torch\n",
        "import torchvision\n",
        "import torchvision.transforms as transforms\n",
        "from torch.utils.data import Dataset, DataLoader\n",
        "from torchvision import transforms, utils\n",
        "\n",
        "from matplotlib import pyplot as plt\n",
        "import copy\n",
        "\n",
        "from numpy import linalg as LA\n",
        "from tabulate import tabulate\n",
        "# Ignore warnings\n",
        "import warnings\n",
        "warnings.filterwarnings(\"ignore\")\n"
      ],
      "execution_count": null,
      "outputs": []
    },
    {
      "cell_type": "code",
      "metadata": {
        "id": "acRFqJNrZErV",
        "outputId": "5b2c9377-21c1-4234-a6fb-7b91f8fcbefb",
        "colab": {
          "base_uri": "https://localhost:8080/",
          "height": 186,
          "referenced_widgets": [
            "3d889bdfbc85444583b809efd4781ee4",
            "07c30bd702664be0aee854fe5c3c22bc",
            "60fbdcc943d84a00a0c8441e0377ddde",
            "8445ed3cadf542e59ddb6d3c68b7f32d",
            "17b803ec9868483caeadf751d586bc49",
            "d50f44f0c7104be984214e978a9782f3",
            "b81897ef6c874ca0a5b195b1231e5b00",
            "f21cafd34671495aada8559cad8d23cc",
            "8aede2bc6ace4938b88cfdd33261cf49",
            "b459d38abc4d4d39a98054645cc3803b",
            "36b86bfe53ba45d8ba5e23ed4f44e865",
            "6205397516904931bac32746c7a3deda",
            "80b8776d469b4e418a2f247c5e79293e",
            "c5e97627e39647d7b882cb559a9495c1",
            "64a1687ebb054d2bb5f5346577bfca4d",
            "29f0fbd9209f415994f14f7a13c886cd"
          ]
        }
      },
      "source": [
        "transform = transforms.Compose(\n",
        "    [transforms.ToTensor(),\n",
        "     transforms.Normalize((0.5, 0.5, 0.5), (0.5, 0.5, 0.5))])\n",
        "\n",
        "trainset = torchvision.datasets.CIFAR10(root='./data', train=True, download=True, transform=transform)\n",
        "\n",
        "\n",
        "testset = torchvision.datasets.CIFAR10(root='./data', train=False, download=True, transform=transform)\n"
      ],
      "execution_count": null,
      "outputs": [
        {
          "output_type": "stream",
          "text": [
            "Downloading https://www.cs.toronto.edu/~kriz/cifar-10-python.tar.gz to ./data/cifar-10-python.tar.gz\n"
          ],
          "name": "stdout"
        },
        {
          "output_type": "display_data",
          "data": {
            "application/vnd.jupyter.widget-view+json": {
              "model_id": "3d889bdfbc85444583b809efd4781ee4",
              "version_minor": 0,
              "version_major": 2
            },
            "text/plain": [
              "HBox(children=(FloatProgress(value=1.0, bar_style='info', max=1.0), HTML(value='')))"
            ]
          },
          "metadata": {
            "tags": []
          }
        },
        {
          "output_type": "stream",
          "text": [
            "Failed download. Trying https -> http instead. Downloading http://www.cs.toronto.edu/~kriz/cifar-10-python.tar.gz to ./data/cifar-10-python.tar.gz\n"
          ],
          "name": "stdout"
        },
        {
          "output_type": "display_data",
          "data": {
            "application/vnd.jupyter.widget-view+json": {
              "model_id": "8aede2bc6ace4938b88cfdd33261cf49",
              "version_minor": 0,
              "version_major": 2
            },
            "text/plain": [
              "HBox(children=(FloatProgress(value=1.0, bar_style='info', max=1.0), HTML(value='')))"
            ]
          },
          "metadata": {
            "tags": []
          }
        },
        {
          "output_type": "stream",
          "text": [
            "Extracting ./data/cifar-10-python.tar.gz to ./data\n",
            "Files already downloaded and verified\n",
            "\n"
          ],
          "name": "stdout"
        }
      ]
    },
    {
      "cell_type": "code",
      "metadata": {
        "id": "FTBYzzX-fY2K"
      },
      "source": [
        "gamma = 0.256"
      ],
      "execution_count": null,
      "outputs": []
    },
    {
      "cell_type": "code",
      "metadata": {
        "id": "ygZ-VSs6j-hf",
        "outputId": "ff2e6756-e61d-4aed-a840-e43b7dbbb81c",
        "colab": {
          "base_uri": "https://localhost:8080/",
          "height": 34
        }
      },
      "source": [
        "classes = ('plane', 'car', 'bird', 'cat', 'deer', 'dog', 'frog', 'horse', 'ship', 'truck')\n",
        "\n",
        "foreground_classes = {'plane', 'car', 'bird'}\n",
        "fg_used = '012'\n",
        "fg1, fg2, fg3 = 0,1,2\n",
        "\n",
        "\n",
        "all_classes = {'plane', 'car', 'bird', 'cat', 'deer', 'dog', 'frog', 'horse', 'ship', 'truck'}\n",
        "background_classes = all_classes - foreground_classes\n",
        "background_classes\n",
        "\n",
        "# print(type(foreground_classes))"
      ],
      "execution_count": null,
      "outputs": [
        {
          "output_type": "execute_result",
          "data": {
            "text/plain": [
              "{'cat', 'deer', 'dog', 'frog', 'horse', 'ship', 'truck'}"
            ]
          },
          "metadata": {
            "tags": []
          },
          "execution_count": 5
        }
      ]
    },
    {
      "cell_type": "code",
      "metadata": {
        "id": "oEPWuddXzu9f"
      },
      "source": [
        "trainloader = torch.utils.data.DataLoader(trainset, batch_size=10, shuffle=True)\n",
        "testloader = torch.utils.data.DataLoader(testset, batch_size=10, shuffle=False)\n"
      ],
      "execution_count": null,
      "outputs": []
    },
    {
      "cell_type": "code",
      "metadata": {
        "id": "n76MSJwHzu9p",
        "outputId": "049502ef-5002-4492-a53a-776d46623d92",
        "colab": {
          "base_uri": "https://localhost:8080/",
          "height": 34
        }
      },
      "source": [
        "dataiter = iter(trainloader)\n",
        "true_train_background_data=[]\n",
        "true_train_background_label=[]\n",
        "true_train_foreground_data=[]\n",
        "true_train_foreground_label=[]\n",
        "batch_size=10\n",
        "\n",
        "for i in range(5000):\n",
        "  images, labels = dataiter.next()\n",
        "  for j in range(batch_size):\n",
        "    if(classes[labels[j]] in background_classes):\n",
        "      img = images[j].tolist()\n",
        "      true_train_background_data.append(img)\n",
        "      true_train_background_label.append(labels[j])\n",
        "    else:\n",
        "      img = images[j].tolist()\n",
        "      true_train_foreground_data.append(img)\n",
        "      true_train_foreground_label.append(labels[j])\n",
        "            \n",
        "true_train_foreground_data = torch.tensor(true_train_foreground_data)\n",
        "true_train_foreground_label = torch.tensor(true_train_foreground_label)\n",
        "true_train_background_data = torch.tensor(true_train_background_data)\n",
        "true_train_background_label = torch.tensor(true_train_background_label)\n",
        "    "
      ],
      "execution_count": null,
      "outputs": [
        {
          "output_type": "stream",
          "text": [
            "\n"
          ],
          "name": "stdout"
        }
      ]
    },
    {
      "cell_type": "code",
      "metadata": {
        "id": "NdYlcZPM2tmV",
        "outputId": "73898dff-3531-4c3e-b466-ccf992a25735",
        "colab": {
          "base_uri": "https://localhost:8080/",
          "height": 34
        }
      },
      "source": [
        "len(true_train_foreground_data), len(true_train_foreground_label), len(true_train_background_data), len(true_train_background_label)"
      ],
      "execution_count": null,
      "outputs": [
        {
          "output_type": "execute_result",
          "data": {
            "text/plain": [
              "(15000, 15000, 35000, 35000)"
            ]
          },
          "metadata": {
            "tags": []
          },
          "execution_count": 8
        }
      ]
    },
    {
      "cell_type": "code",
      "metadata": {
        "id": "IgyumCe_0GMa"
      },
      "source": [
        "dataiter = iter(testloader)\n",
        "true_test_background_data=[]\n",
        "true_test_background_label=[]\n",
        "true_test_foreground_data=[]\n",
        "true_test_foreground_label=[]\n",
        "batch_size=10\n",
        "\n",
        "for i in range(1000):\n",
        "  images, labels = dataiter.next()\n",
        "  for j in range(batch_size):\n",
        "    if(classes[labels[j]] in background_classes):\n",
        "      img = images[j].tolist()\n",
        "      true_test_background_data.append(img)\n",
        "      true_test_background_label.append(labels[j])\n",
        "    else:\n",
        "      img = images[j].tolist()\n",
        "      true_test_foreground_data.append(img)\n",
        "      true_test_foreground_label.append(labels[j])\n",
        "            \n",
        "true_test_foreground_data = torch.tensor(true_test_foreground_data)\n",
        "true_test_foreground_label = torch.tensor(true_test_foreground_label)\n",
        "true_test_background_data = torch.tensor(true_test_background_data)\n",
        "true_test_background_label = torch.tensor(true_test_background_label)"
      ],
      "execution_count": null,
      "outputs": []
    },
    {
      "cell_type": "code",
      "metadata": {
        "id": "P07QyEjZ2_tH",
        "outputId": "59de1217-645b-44f6-e009-a75e1251a773",
        "colab": {
          "base_uri": "https://localhost:8080/",
          "height": 34
        }
      },
      "source": [
        "len(true_test_foreground_data), len(true_test_foreground_label), len(true_test_background_data), len(true_test_background_label)"
      ],
      "execution_count": null,
      "outputs": [
        {
          "output_type": "execute_result",
          "data": {
            "text/plain": [
              "(3000, 3000, 7000, 7000)"
            ]
          },
          "metadata": {
            "tags": []
          },
          "execution_count": 10
        }
      ]
    },
    {
      "cell_type": "code",
      "metadata": {
        "id": "bzU_HuQnEB29"
      },
      "source": [
        "true_train = trainset.data"
      ],
      "execution_count": null,
      "outputs": []
    },
    {
      "cell_type": "code",
      "metadata": {
        "id": "FAR6Zt2QgMdf"
      },
      "source": [
        "train_label = trainset.targets"
      ],
      "execution_count": null,
      "outputs": []
    },
    {
      "cell_type": "code",
      "metadata": {
        "id": "JZ52v93i__q5"
      },
      "source": [
        "true_train_cifar_norm=[]\n",
        "for i in range(len(true_train)):\n",
        "  true_train_cifar_norm.append(LA.norm(true_train[i]))"
      ],
      "execution_count": null,
      "outputs": []
    },
    {
      "cell_type": "code",
      "metadata": {
        "id": "TbWNZhQvAWav",
        "outputId": "3e290859-3c3a-4837-a275-2036550d8be0",
        "colab": {
          "base_uri": "https://localhost:8080/",
          "height": 34
        }
      },
      "source": [
        "len(true_train_cifar_norm)"
      ],
      "execution_count": null,
      "outputs": [
        {
          "output_type": "execute_result",
          "data": {
            "text/plain": [
              "50000"
            ]
          },
          "metadata": {
            "tags": []
          },
          "execution_count": 14
        }
      ]
    },
    {
      "cell_type": "code",
      "metadata": {
        "id": "Klrwlq-RBSdc"
      },
      "source": [
        "def plot_hist(values):\n",
        "  plt.hist(values, density=True, bins=200)  # `density=False` would make counts\n",
        "  plt.ylabel('NORM')\n",
        "  plt.xlabel('Data');"
      ],
      "execution_count": null,
      "outputs": []
    },
    {
      "cell_type": "code",
      "metadata": {
        "id": "w-saABjgAaFY",
        "outputId": "80a09df8-c7b1-4d7b-bd42-d824f22ea178",
        "colab": {
          "base_uri": "https://localhost:8080/",
          "height": 279
        }
      },
      "source": [
        "plot_hist(true_train_cifar_norm)"
      ],
      "execution_count": null,
      "outputs": [
        {
          "output_type": "display_data",
          "data": {
            "image/png": "[encoded data removed]",
            "text/plain": [
              "<Figure size 432x288 with 1 Axes>"
            ]
          },
          "metadata": {
            "tags": [],
            "needs_background": "light"
          }
        }
      ]
    },
    {
      "cell_type": "code",
      "metadata": {
        "id": "_USgDEwbMMKY",
        "outputId": "f2da7874-a1a7-4238-8977-485c3aa61614",
        "colab": {
          "base_uri": "https://localhost:8080/",
          "height": 34
        }
      },
      "source": [
        "true_train.shape"
      ],
      "execution_count": null,
      "outputs": [
        {
          "output_type": "execute_result",
          "data": {
            "text/plain": [
              "(50000, 32, 32, 3)"
            ]
          },
          "metadata": {
            "tags": []
          },
          "execution_count": 17
        }
      ]
    },
    {
      "cell_type": "code",
      "metadata": {
        "id": "yi-39bYIMZOd",
        "outputId": "4316e5f8-a8e0-49ae-d496-9cfb0a0de071",
        "colab": {
          "base_uri": "https://localhost:8080/",
          "height": 34
        }
      },
      "source": [
        "train = np.reshape(true_train, (50000,3072))\n",
        "train.shape, true_train.shape"
      ],
      "execution_count": null,
      "outputs": [
        {
          "output_type": "execute_result",
          "data": {
            "text/plain": [
              "((50000, 3072), (50000, 32, 32, 3))"
            ]
          },
          "metadata": {
            "tags": []
          },
          "execution_count": 18
        }
      ]
    },
    {
      "cell_type": "code",
      "metadata": {
        "id": "3qMpDn-xMleE"
      },
      "source": [
        "u, s, vh = LA.svd(train, full_matrices= False)"
      ],
      "execution_count": null,
      "outputs": []
    },
    {
      "cell_type": "code",
      "metadata": {
        "id": "4o7zUUJJNavO",
        "outputId": "c767a0d7-bb53-431c-e10c-862f3dc35065",
        "colab": {
          "base_uri": "https://localhost:8080/",
          "height": 34
        }
      },
      "source": [
        "u.shape , s.shape, vh.shape"
      ],
      "execution_count": null,
      "outputs": [
        {
          "output_type": "execute_result",
          "data": {
            "text/plain": [
              "((50000, 3072), (3072,), (3072, 3072))"
            ]
          },
          "metadata": {
            "tags": []
          },
          "execution_count": 20
        }
      ]
    },
    {
      "cell_type": "code",
      "metadata": {
        "id": "ZRlhUgdqSPyx",
        "outputId": "21d902da-8df8-4ac5-f7e6-83c03674f085",
        "colab": {
          "base_uri": "https://localhost:8080/",
          "height": 51
        }
      },
      "source": [
        "s"
      ],
      "execution_count": null,
      "outputs": [
        {
          "output_type": "execute_result",
          "data": {
            "text/plain": [
              "array([1.55289927e+06, 2.82437414e+05, 2.17772149e+05, ...,\n",
              "       7.31736954e+01, 7.23349722e+01, 7.18349192e+01])"
            ]
          },
          "metadata": {
            "tags": []
          },
          "execution_count": 21
        }
      ]
    },
    {
      "cell_type": "code",
      "metadata": {
        "id": "h31rbKmqVnZW",
        "outputId": "1e62ae6b-e811-45d7-afde-f8dc4d2dcb02",
        "colab": {
          "base_uri": "https://localhost:8080/",
          "height": 238
        }
      },
      "source": [
        "vh"
      ],
      "execution_count": null,
      "outputs": [
        {
          "output_type": "execute_result",
          "data": {
            "text/plain": [
              "array([[-0.01984194, -0.02066161, -0.02037075, ..., -0.01879724,\n",
              "        -0.01874038, -0.01729938],\n",
              "       [-0.02488245, -0.02705999, -0.03195926, ...,  0.01262528,\n",
              "         0.01096339,  0.00766722],\n",
              "       [-0.0159231 , -0.01437591, -0.01281541, ..., -0.02971411,\n",
              "        -0.0283376 , -0.02749635],\n",
              "       ...,\n",
              "       [-0.00449998,  0.00770844, -0.00281931, ..., -0.00013103,\n",
              "        -0.00080887,  0.00071151],\n",
              "       [ 0.00433324, -0.00629207,  0.00181791, ..., -0.00168695,\n",
              "         0.00131196,  0.00052667],\n",
              "       [-0.00574169,  0.00783184, -0.00186197, ...,  0.00511688,\n",
              "        -0.00678068,  0.00138508]])"
            ]
          },
          "metadata": {
            "tags": []
          },
          "execution_count": 22
        }
      ]
    },
    {
      "cell_type": "code",
      "metadata": {
        "id": "LruQuedyVs4i",
        "outputId": "24bad183-8a3b-40ae-ca49-ad42dea667da",
        "colab": {
          "base_uri": "https://localhost:8080/",
          "height": 238
        }
      },
      "source": [
        "dir = vh[3062:3072,:]\n",
        "dir"
      ],
      "execution_count": null,
      "outputs": [
        {
          "output_type": "execute_result",
          "data": {
            "text/plain": [
              "array([[ 0.00256167, -0.00421648,  0.00171443, ..., -0.00214198,\n",
              "         0.0024008 , -0.00026442],\n",
              "       [ 0.00629867, -0.01114679,  0.00518054, ..., -0.00382077,\n",
              "         0.00504342, -0.00113716],\n",
              "       [-0.0022958 ,  0.0006672 ,  0.00141218, ..., -0.00062172,\n",
              "         0.00201576, -0.00146441],\n",
              "       ...,\n",
              "       [-0.00449998,  0.00770844, -0.00281931, ..., -0.00013103,\n",
              "        -0.00080887,  0.00071151],\n",
              "       [ 0.00433324, -0.00629207,  0.00181791, ..., -0.00168695,\n",
              "         0.00131196,  0.00052667],\n",
              "       [-0.00574169,  0.00783184, -0.00186197, ...,  0.00511688,\n",
              "        -0.00678068,  0.00138508]])"
            ]
          },
          "metadata": {
            "tags": []
          },
          "execution_count": 23
        }
      ]
    },
    {
      "cell_type": "code",
      "metadata": {
        "id": "m260DTW6V-Ka"
      },
      "source": [
        "u1 = dir[7,:]\n",
        "u2 = dir[8,:]\n",
        "u3 = dir[9,:]"
      ],
      "execution_count": null,
      "outputs": []
    },
    {
      "cell_type": "code",
      "metadata": {
        "id": "R9OuIGt4WzlK",
        "outputId": "4bba8138-2b7b-42df-99d8-cea3e5fed11f",
        "colab": {
          "base_uri": "https://localhost:8080/",
          "height": 51
        }
      },
      "source": [
        "u1"
      ],
      "execution_count": null,
      "outputs": [
        {
          "output_type": "execute_result",
          "data": {
            "text/plain": [
              "array([-0.00449998,  0.00770844, -0.00281931, ..., -0.00013103,\n",
              "       -0.00080887,  0.00071151])"
            ]
          },
          "metadata": {
            "tags": []
          },
          "execution_count": 25
        }
      ]
    },
    {
      "cell_type": "code",
      "metadata": {
        "id": "gswdCEwMW1-o",
        "outputId": "c82779dc-6234-4854-f881-75ac77575f4f",
        "colab": {
          "base_uri": "https://localhost:8080/",
          "height": 51
        }
      },
      "source": [
        "u2"
      ],
      "execution_count": null,
      "outputs": [
        {
          "output_type": "execute_result",
          "data": {
            "text/plain": [
              "array([ 0.00433324, -0.00629207,  0.00181791, ..., -0.00168695,\n",
              "        0.00131196,  0.00052667])"
            ]
          },
          "metadata": {
            "tags": []
          },
          "execution_count": 26
        }
      ]
    },
    {
      "cell_type": "code",
      "metadata": {
        "id": "_GcGDZp7W2g6",
        "outputId": "bf2f4e3e-45e6-426a-e37c-ab4f2ecf7ba6",
        "colab": {
          "base_uri": "https://localhost:8080/",
          "height": 51
        }
      },
      "source": [
        "u3"
      ],
      "execution_count": null,
      "outputs": [
        {
          "output_type": "execute_result",
          "data": {
            "text/plain": [
              "array([-0.00574169,  0.00783184, -0.00186197, ...,  0.00511688,\n",
              "       -0.00678068,  0.00138508])"
            ]
          },
          "metadata": {
            "tags": []
          },
          "execution_count": 27
        }
      ]
    },
    {
      "cell_type": "code",
      "metadata": {
        "id": "c1ORV76hfd5u",
        "outputId": "ab36a081-0b79-40f9-b577-209960ee1343",
        "colab": {
          "base_uri": "https://localhost:8080/",
          "height": 34
        }
      },
      "source": [
        "len(train_label)"
      ],
      "execution_count": null,
      "outputs": [
        {
          "output_type": "execute_result",
          "data": {
            "text/plain": [
              "50000"
            ]
          },
          "metadata": {
            "tags": []
          },
          "execution_count": 28
        }
      ]
    },
    {
      "cell_type": "code",
      "metadata": {
        "id": "PUuW5wxpH1_C"
      },
      "source": [
        "def is_equal(x1, x2):\n",
        "  cnt=0\n",
        "  for i in range(len(x1)):\n",
        "    if(x1[i] == x2[i]):\n",
        "      cnt+=1\n",
        "  return cnt"
      ],
      "execution_count": null,
      "outputs": []
    },
    {
      "cell_type": "code",
      "metadata": {
        "id": "A45Ln5fwgSOW"
      },
      "source": [
        "def add_noise_cifar(train, label, gamma, fg1,fg2,fg3):\n",
        "  cnt=0\n",
        "\n",
        "  for i in range(len(label)):\n",
        "    x = train[i]\n",
        "    if(label[i] == fg1):\n",
        "      train[i] = train[i] + gamma * LA.norm(train[i]) * u1\n",
        "      cnt+=1\n",
        "\n",
        "    if(label[i] == fg2):\n",
        "      train[i] = train[i] + gamma * LA.norm(train[i]) * u2\n",
        "      cnt+=1\n",
        "\n",
        "    if(label[i] == fg3):\n",
        "      train[i] = train[i] + gamma * LA.norm(train[i]) * u3\n",
        "      cnt+=1\n",
        "    y = train[i]\n",
        "\n",
        "  print(\"total modified\",cnt)\n",
        "\n",
        "  return train"
      ],
      "execution_count": null,
      "outputs": []
    },
    {
      "cell_type": "code",
      "metadata": {
        "id": "QESEKIv3EW8b",
        "outputId": "5a97ff2b-9178-414b-f50a-fb7d4c936e16",
        "colab": {
          "base_uri": "https://localhost:8080/",
          "height": 313
        }
      },
      "source": [
        "noise_train = np.reshape(true_train, (50000,3072))\n",
        "noise_train = add_noise_cifar(noise_train, train_label, gamma , fg1,fg2,fg3)\n",
        "noise_train_cifar_norm=[]\n",
        "for i in range(len(noise_train)):\n",
        "  noise_train_cifar_norm.append(LA.norm(noise_train[i]))\n",
        "plt.hist(noise_train_cifar_norm, density=True, bins=200,label='gamma='+str(gamma))  # `density=False` would make counts\n",
        "plt.hist(true_train_cifar_norm, density=True, bins=200,label='true') \n",
        "plt.ylabel('NORM')\n",
        "plt.xlabel('Data')\n",
        "plt.legend()\n",
        "print(\"remain same\",is_equal(noise_train_cifar_norm,true_train_cifar_norm))"
      ],
      "execution_count": null,
      "outputs": [
        {
          "output_type": "stream",
          "text": [
            "total modified 15000\n",
            "remain same 35000\n"
          ],
          "name": "stdout"
        },
        {
          "output_type": "display_data",
          "data": {
            "image/png": "[encoded data removed]",
            "text/plain": [
              "<Figure size 432x288 with 1 Axes>"
            ]
          },
          "metadata": {
            "tags": [],
            "needs_background": "light"
          }
        }
      ]
    },
    {
      "cell_type": "code",
      "metadata": {
        "id": "Ko4htz117YVx",
        "outputId": "b161f4dd-6b28-482f-d2c6-c712099e290a",
        "colab": {
          "base_uri": "https://localhost:8080/",
          "height": 296
        }
      },
      "source": [
        "plt.hist(true_train_cifar_norm, density=True, bins=200,label='true') \n",
        "plt.ylabel('NORM')\n",
        "plt.xlabel('Data')\n",
        "plt.legend()"
      ],
      "execution_count": null,
      "outputs": [
        {
          "output_type": "execute_result",
          "data": {
            "text/plain": [
              "<matplotlib.legend.Legend at 0x7ff56b5390b8>"
            ]
          },
          "metadata": {
            "tags": []
          },
          "execution_count": 32
        },
        {
          "output_type": "display_data",
          "data": {
            "image/png": "[encoded data removed]",
            "text/plain": [
              "<Figure size 432x288 with 1 Axes>"
            ]
          },
          "metadata": {
            "tags": [],
            "needs_background": "light"
          }
        }
      ]
    },
    {
      "cell_type": "code",
      "metadata": {
        "id": "UiF_g59Y7iEC",
        "outputId": "f8ceedf5-19b1-48ab-bdd3-0e496eb5227e",
        "colab": {
          "base_uri": "https://localhost:8080/",
          "height": 296
        }
      },
      "source": [
        "plt.hist(noise_train_cifar_norm, density=True, bins=200,label='gamma='+str(gamma))  # `density=False` would make counts\n",
        "# plt.hist(true_train_cifar_norm, density=True, bins=200,label='true') \n",
        "plt.ylabel('NORM')\n",
        "plt.xlabel('Data')\n",
        "plt.legend()"
      ],
      "execution_count": null,
      "outputs": [
        {
          "output_type": "execute_result",
          "data": {
            "text/plain": [
              "<matplotlib.legend.Legend at 0x7ff56b683908>"
            ]
          },
          "metadata": {
            "tags": []
          },
          "execution_count": 33
        },
        {
          "output_type": "display_data",
          "data": {
            "image/png": "[encoded data removed]",
            "text/plain": [
              "<Figure size 432x288 with 1 Axes>"
            ]
          },
          "metadata": {
            "tags": [],
            "needs_background": "light"
          }
        }
      ]
    },
    {
      "cell_type": "code",
      "metadata": {
        "id": "BQDi-wiHhZt_",
        "outputId": "6471fb0a-ed17-451a-f66d-2023ad3de884",
        "colab": {
          "base_uri": "https://localhost:8080/",
          "height": 34
        }
      },
      "source": [
        "noise_train.shape, trainset.data.shape"
      ],
      "execution_count": null,
      "outputs": [
        {
          "output_type": "execute_result",
          "data": {
            "text/plain": [
              "((50000, 3072), (50000, 32, 32, 3))"
            ]
          },
          "metadata": {
            "tags": []
          },
          "execution_count": 34
        }
      ]
    },
    {
      "cell_type": "code",
      "metadata": {
        "id": "As5AyKIUjhgA",
        "outputId": "e441dd56-7663-4b1b-d600-81b03bdf7202",
        "colab": {
          "base_uri": "https://localhost:8080/",
          "height": 34
        }
      },
      "source": [
        "noise_train = np.reshape(noise_train, (50000,32, 32, 3))\n",
        "noise_train.shape"
      ],
      "execution_count": null,
      "outputs": [
        {
          "output_type": "execute_result",
          "data": {
            "text/plain": [
              "(50000, 32, 32, 3)"
            ]
          },
          "metadata": {
            "tags": []
          },
          "execution_count": 35
        }
      ]
    },
    {
      "cell_type": "code",
      "metadata": {
        "id": "Ncd6Cbc2j1jH"
      },
      "source": [
        "trainset.data = noise_train"
      ],
      "execution_count": null,
      "outputs": []
    },
    {
      "cell_type": "code",
      "metadata": {
        "id": "tEhyHO5VYHG5"
      },
      "source": [
        "true_test = testset.data"
      ],
      "execution_count": null,
      "outputs": []
    },
    {
      "cell_type": "code",
      "metadata": {
        "id": "pNfT218kYHHF"
      },
      "source": [
        "test_label = testset.targets"
      ],
      "execution_count": null,
      "outputs": []
    },
    {
      "cell_type": "code",
      "metadata": {
        "id": "7Yvi0O2VYHHM",
        "outputId": "73446fee-1246-4e48-c37e-deb3c1d9228b",
        "colab": {
          "base_uri": "https://localhost:8080/",
          "height": 34
        }
      },
      "source": [
        "true_test.shape"
      ],
      "execution_count": null,
      "outputs": [
        {
          "output_type": "execute_result",
          "data": {
            "text/plain": [
              "(10000, 32, 32, 3)"
            ]
          },
          "metadata": {
            "tags": []
          },
          "execution_count": 39
        }
      ]
    },
    {
      "cell_type": "code",
      "metadata": {
        "id": "xTNF0gS3YHHS",
        "outputId": "efc2f76b-1a5c-4fb8-b446-3f8a0f35cfd6",
        "colab": {
          "base_uri": "https://localhost:8080/",
          "height": 34
        }
      },
      "source": [
        "test = np.reshape(true_test, (10000,3072))\n",
        "test.shape"
      ],
      "execution_count": null,
      "outputs": [
        {
          "output_type": "execute_result",
          "data": {
            "text/plain": [
              "(10000, 3072)"
            ]
          },
          "metadata": {
            "tags": []
          },
          "execution_count": 40
        }
      ]
    },
    {
      "cell_type": "code",
      "metadata": {
        "id": "PRLw2cTVYHIQ",
        "outputId": "660279ef-6d57-4821-dab2-f9957b43e269",
        "colab": {
          "base_uri": "https://localhost:8080/",
          "height": 34
        }
      },
      "source": [
        "len(test_label)"
      ],
      "execution_count": null,
      "outputs": [
        {
          "output_type": "execute_result",
          "data": {
            "text/plain": [
              "10000"
            ]
          },
          "metadata": {
            "tags": []
          },
          "execution_count": 41
        }
      ]
    },
    {
      "cell_type": "code",
      "metadata": {
        "id": "9x02rkwYoFFM",
        "outputId": "e889f6e6-4227-4ede-adae-e5f981334e21",
        "colab": {
          "base_uri": "https://localhost:8080/",
          "height": 296
        }
      },
      "source": [
        "true_test_cifar_norm=[]\n",
        "for i in range(len(test)):\n",
        "  true_test_cifar_norm.append(LA.norm(test[i]))\n",
        "\n",
        "plt.hist(true_test_cifar_norm, density=True, bins=200,label='true') \n",
        "plt.ylabel('NORM')\n",
        "plt.xlabel('Data')\n",
        "plt.legend()"
      ],
      "execution_count": null,
      "outputs": [
        {
          "output_type": "execute_result",
          "data": {
            "text/plain": [
              "<matplotlib.legend.Legend at 0x7ff5a3e8a668>"
            ]
          },
          "metadata": {
            "tags": []
          },
          "execution_count": 42
        },
        {
          "output_type": "display_data",
          "data": {
            "image/png": "[encoded data removed]",
            "text/plain": [
              "<Figure size 432x288 with 1 Axes>"
            ]
          },
          "metadata": {
            "tags": [],
            "needs_background": "light"
          }
        }
      ]
    },
    {
      "cell_type": "code",
      "metadata": {
        "id": "_EB2OcUZokQc",
        "outputId": "bbf426d6-2d46-43cb-f5ab-2b52130457fb",
        "colab": {
          "base_uri": "https://localhost:8080/",
          "height": 313
        }
      },
      "source": [
        "noise_test = np.reshape(true_test, (10000,3072))\n",
        "noise_test = add_noise_cifar(noise_test, test_label, gamma , fg1,fg2,fg3)\n",
        "noise_test_cifar_norm=[]\n",
        "for i in range(len(noise_test)):\n",
        "  noise_test_cifar_norm.append(LA.norm(noise_test[i]))\n",
        "plt.hist(noise_test_cifar_norm, density=True, bins=200,label='gamma='+str(gamma))  # `density=False` would make counts\n",
        "plt.hist(true_test_cifar_norm, density=True, bins=200,label='true') \n",
        "plt.ylabel('NORM')\n",
        "plt.xlabel('Data')\n",
        "plt.legend()\n",
        "is_equal(noise_test_cifar_norm,true_test_cifar_norm)"
      ],
      "execution_count": null,
      "outputs": [
        {
          "output_type": "stream",
          "text": [
            "total modified 3000\n"
          ],
          "name": "stdout"
        },
        {
          "output_type": "execute_result",
          "data": {
            "text/plain": [
              "7000"
            ]
          },
          "metadata": {
            "tags": []
          },
          "execution_count": 43
        },
        {
          "output_type": "display_data",
          "data": {
            "image/png": "[encoded data removed]",
            "text/plain": [
              "<Figure size 432x288 with 1 Axes>"
            ]
          },
          "metadata": {
            "tags": [],
            "needs_background": "light"
          }
        }
      ]
    },
    {
      "cell_type": "code",
      "metadata": {
        "id": "2qA07ljGQFJ7",
        "outputId": "81da1e3c-1f60-4e8b-80ff-b1adb7a733d6",
        "colab": {
          "base_uri": "https://localhost:8080/",
          "height": 296
        }
      },
      "source": [
        "plt.hist(true_test_cifar_norm, density=True, bins=200,label='true') \n",
        "plt.ylabel('NORM')\n",
        "plt.xlabel('Data')\n",
        "plt.legend()"
      ],
      "execution_count": null,
      "outputs": [
        {
          "output_type": "execute_result",
          "data": {
            "text/plain": [
              "<matplotlib.legend.Legend at 0x7ff5a3e7c0b8>"
            ]
          },
          "metadata": {
            "tags": []
          },
          "execution_count": 44
        },
        {
          "output_type": "display_data",
          "data": {
            "image/png": "[encoded data removed]",
            "text/plain": [
              "<Figure size 432x288 with 1 Axes>"
            ]
          },
          "metadata": {
            "tags": [],
            "needs_background": "light"
          }
        }
      ]
    },
    {
      "cell_type": "code",
      "metadata": {
        "id": "d0VFtDFrQFKO",
        "outputId": "2a1c4734-07bf-436c-98a8-2b3b4a532354",
        "colab": {
          "base_uri": "https://localhost:8080/",
          "height": 296
        }
      },
      "source": [
        "plt.hist(noise_test_cifar_norm, density=True, bins=200,label='gamma='+str(gamma))  # `density=False` would make counts\n",
        "# plt.hist(true_train_cifar_norm, density=True, bins=200,label='true') \n",
        "plt.ylabel('NORM')\n",
        "plt.xlabel('Data')\n",
        "plt.legend()"
      ],
      "execution_count": null,
      "outputs": [
        {
          "output_type": "execute_result",
          "data": {
            "text/plain": [
              "<matplotlib.legend.Legend at 0x7ff5a37557b8>"
            ]
          },
          "metadata": {
            "tags": []
          },
          "execution_count": 45
        },
        {
          "output_type": "display_data",
          "data": {
            "image/png": "[encoded data removed]",
            "text/plain": [
              "<Figure size 432x288 with 1 Axes>"
            ]
          },
          "metadata": {
            "tags": [],
            "needs_background": "light"
          }
        }
      ]
    },
    {
      "cell_type": "code",
      "metadata": {
        "id": "KHElHqmrYHIX",
        "outputId": "e4cf0f3e-eac9-4c6d-e8e8-68928b6a419d",
        "colab": {
          "base_uri": "https://localhost:8080/",
          "height": 34
        }
      },
      "source": [
        "noise_test.shape, testset.data.shape"
      ],
      "execution_count": null,
      "outputs": [
        {
          "output_type": "execute_result",
          "data": {
            "text/plain": [
              "((10000, 3072), (10000, 32, 32, 3))"
            ]
          },
          "metadata": {
            "tags": []
          },
          "execution_count": 46
        }
      ]
    },
    {
      "cell_type": "code",
      "metadata": {
        "id": "DY51kmksYHIb",
        "outputId": "33b8cbca-6a78-4d2f-b82b-61668d75ca0a",
        "colab": {
          "base_uri": "https://localhost:8080/",
          "height": 34
        }
      },
      "source": [
        "noise_test = np.reshape(noise_test, (10000,32, 32, 3))\n",
        "noise_test.shape"
      ],
      "execution_count": null,
      "outputs": [
        {
          "output_type": "execute_result",
          "data": {
            "text/plain": [
              "(10000, 32, 32, 3)"
            ]
          },
          "metadata": {
            "tags": []
          },
          "execution_count": 47
        }
      ]
    },
    {
      "cell_type": "code",
      "metadata": {
        "id": "AGDb6gpjYHIe"
      },
      "source": [
        "testset.data = noise_test"
      ],
      "execution_count": null,
      "outputs": []
    },
    {
      "cell_type": "code",
      "metadata": {
        "id": "iLulDYL_ndvY",
        "outputId": "285318fb-69e6-48bc-8ecd-aa2fd951f376",
        "colab": {
          "base_uri": "https://localhost:8080/",
          "height": 34
        }
      },
      "source": [
        "fg = [fg1,fg2,fg3]\n",
        "bg = list(set([0,1,2,3,4,5,6,7,8,9])-set(fg))\n",
        "fg,bg"
      ],
      "execution_count": null,
      "outputs": [
        {
          "output_type": "execute_result",
          "data": {
            "text/plain": [
              "([0, 1, 2], [3, 4, 5, 6, 7, 8, 9])"
            ]
          },
          "metadata": {
            "tags": []
          },
          "execution_count": 49
        }
      ]
    },
    {
      "cell_type": "code",
      "metadata": {
        "id": "5Jk7ZzLSX-Mf"
      },
      "source": [
        "trainloader = torch.utils.data.DataLoader(trainset, batch_size=10, shuffle=True)\n",
        "testloader = torch.utils.data.DataLoader(testset, batch_size=10, shuffle=False)\n"
      ],
      "execution_count": null,
      "outputs": []
    },
    {
      "cell_type": "code",
      "metadata": {
        "id": "gLiZ8Y0EkGE5"
      },
      "source": [
        "dataiter = iter(trainloader)\n",
        "train_background_data=[]\n",
        "train_background_label=[]\n",
        "train_foreground_data=[]\n",
        "train_foreground_label=[]\n",
        "batch_size=10\n",
        "\n",
        "for i in range(5000):\n",
        "  images, labels = dataiter.next()\n",
        "  for j in range(batch_size):\n",
        "    if(classes[labels[j]] in background_classes):\n",
        "      img = images[j].tolist()\n",
        "      train_background_data.append(img)\n",
        "      train_background_label.append(labels[j])\n",
        "    else:\n",
        "      img = images[j].tolist()\n",
        "      train_foreground_data.append(img)\n",
        "      train_foreground_label.append(labels[j])\n",
        "\n",
        "train_foreground_data = torch.tensor(train_foreground_data)\n",
        "train_foreground_label = torch.tensor(train_foreground_label)\n",
        "train_background_data = torch.tensor(train_background_data)\n",
        "train_background_label = torch.tensor(train_background_label)    "
      ],
      "execution_count": null,
      "outputs": []
    },
    {
      "cell_type": "code",
      "metadata": {
        "id": "SRl_9E-6SLLe"
      },
      "source": [
        "dataiter = iter(testloader)\n",
        "test_background_data=[]\n",
        "test_background_label=[]\n",
        "test_foreground_data=[]\n",
        "test_foreground_label=[]\n",
        "batch_size=10\n",
        "\n",
        "for i in range(1000):\n",
        "  images, labels = dataiter.next()\n",
        "  for j in range(batch_size):\n",
        "    if(classes[labels[j]] in background_classes):\n",
        "      img = images[j].tolist()\n",
        "      test_background_data.append(img)\n",
        "      test_background_label.append(labels[j])\n",
        "    else:\n",
        "      img = images[j].tolist()\n",
        "      test_foreground_data.append(img)\n",
        "      test_foreground_label.append(labels[j])\n",
        "\n",
        "test_foreground_data = torch.tensor(test_foreground_data)\n",
        "test_foreground_label = torch.tensor(test_foreground_label)\n",
        "test_background_data = torch.tensor(test_background_data)\n",
        "test_background_label = torch.tensor(test_background_label)    "
      ],
      "execution_count": null,
      "outputs": []
    },
    {
      "cell_type": "code",
      "metadata": {
        "id": "seziBl0rkH0Y"
      },
      "source": [
        "def imshow(img):\n",
        "  img = img / 2 + 0.5     # unnormalize\n",
        "  npimg = img#.numpy()\n",
        "  plt.imshow(np.transpose(npimg, (1, 2, 0)))\n",
        "  plt.show()"
      ],
      "execution_count": null,
      "outputs": []
    },
    {
      "cell_type": "code",
      "metadata": {
        "id": "DmxEx0N3kOxZ",
        "outputId": "f0e9edf6-1da9-4eaf-a0a1-ca3ea8d97d10",
        "colab": {
          "base_uri": "https://localhost:8080/",
          "height": 804
        }
      },
      "source": [
        "img1 = torch.cat((true_test_foreground_data[27],true_test_foreground_data[3],true_test_foreground_data[43]),1)\n",
        "imshow(img1)\n",
        "img2 = torch.cat((test_foreground_data[27],test_foreground_data[3],test_foreground_data[43]),1)\n",
        "imshow(img2)\n",
        "img3 = torch.cat((img1,img2),2)\n",
        "imshow(img3)\n",
        "print(img2.size())\n",
        "print(LA.norm(test_foreground_data[27]), LA.norm(true_test_foreground_data[27]))"
      ],
      "execution_count": null,
      "outputs": [
        {
          "output_type": "display_data",
          "data": {
            "image/png": "[encoded data removed]",
            "text/plain": [
              "<Figure size 432x288 with 1 Axes>"
            ]
          },
          "metadata": {
            "tags": [],
            "needs_background": "light"
          }
        },
        {
          "output_type": "display_data",
          "data": {
            "image/png": "[encoded data removed]",
            "text/plain": [
              "<Figure size 432x288 with 1 Axes>"
            ]
          },
          "metadata": {
            "tags": [],
            "needs_background": "light"
          }
        },
        {
          "output_type": "display_data",
          "data": {
            "image/png": "[encoded data removed]",
            "text/plain": [
              "<Figure size 432x288 with 1 Axes>"
            ]
          },
          "metadata": {
            "tags": [],
            "needs_background": "light"
          }
        },
        {
          "output_type": "stream",
          "text": [
            "torch.Size([3, 96, 32])\n",
            "20.184103 15.428806\n"
          ],
          "name": "stdout"
        }
      ]
    },
    {
      "cell_type": "code",
      "metadata": {
        "id": "7dsVQI7plpqC",
        "outputId": "5e0aec0d-f0b3-4087-e0dd-7a6d6ccf3234",
        "colab": {
          "base_uri": "https://localhost:8080/",
          "height": 1000
        }
      },
      "source": [
        "import random\n",
        "for i in range(10):\n",
        "  random.seed(i)\n",
        "  a = np.random.randint(0,10000)\n",
        "  img1 = torch.cat((true_test_foreground_data[i],test_foreground_data[i]),2)\n",
        "  imshow(img1)"
      ],
      "execution_count": null,
      "outputs": [
        {
          "output_type": "display_data",
          "data": {
            "image/png": "[encoded data removed]",
            "text/plain": [
              "<Figure size 432x288 with 1 Axes>"
            ]
          },
          "metadata": {
            "tags": [],
            "needs_background": "light"
          }
        },
        {
          "output_type": "display_data",
          "data": {
            "image/png": "[encoded data removed]",
            "text/plain": [
              "<Figure size 432x288 with 1 Axes>"
            ]
          },
          "metadata": {
            "tags": [],
            "needs_background": "light"
          }
        },
        {
          "output_type": "display_data",
          "data": {
            "image/png": "[encoded data removed]",
            "text/plain": [
              "<Figure size 432x288 with 1 Axes>"
            ]
          },
          "metadata": {
            "tags": [],
            "needs_background": "light"
          }
        },
        {
          "output_type": "display_data",
          "data": {
            "image/png": "[encoded data removed]",
            "text/plain": [
              "<Figure size 432x288 with 1 Axes>"
            ]
          },
          "metadata": {
            "tags": [],
            "needs_background": "light"
          }
        },
        {
          "output_type": "display_data",
          "data": {
            "image/png": "[encoded data removed]",
            "text/plain": [
              "<Figure size 432x288 with 1 Axes>"
            ]
          },
          "metadata": {
            "tags": [],
            "needs_background": "light"
          }
        },
        {
          "output_type": "display_data",
          "data": {
            "image/png": "[encoded data removed]",
            "text/plain": [
              "<Figure size 432x288 with 1 Axes>"
            ]
          },
          "metadata": {
            "tags": [],
            "needs_background": "light"
          }
        },
        {
          "output_type": "display_data",
          "data": {
            "image/png": "[encoded data removed]",
            "text/plain": [
              "<Figure size 432x288 with 1 Axes>"
            ]
          },
          "metadata": {
            "tags": [],
            "needs_background": "light"
          }
        },
        {
          "output_type": "display_data",
          "data": {
            "image/png": "[encoded data removed]",
            "text/plain": [
              "<Figure size 432x288 with 1 Axes>"
            ]
          },
          "metadata": {
            "tags": [],
            "needs_background": "light"
          }
        },
        {
          "output_type": "display_data",
          "data": {
            "image/png": "[encoded data removed]",
            "text/plain": [
              "<Figure size 432x288 with 1 Axes>"
            ]
          },
          "metadata": {
            "tags": [],
            "needs_background": "light"
          }
        },
        {
          "output_type": "display_data",
          "data": {
            "image/png": "[encoded data removed]",
            "text/plain": [
              "<Figure size 432x288 with 1 Axes>"
            ]
          },
          "metadata": {
            "tags": [],
            "needs_background": "light"
          }
        }
      ]
    },
    {
      "cell_type": "code",
      "metadata": {
        "id": "wo78BztGTwwL"
      },
      "source": [
        "def plot_vectors(u1,u2,u3):\n",
        "  img = np.reshape(u1,(3,32,32))\n",
        "  img = img / 2 + 0.5     # unnormalize\n",
        "  npimg = img#.numpy()\n",
        "  print(\"vector u1 norm\",LA.norm(img))\n",
        "  plt.figure(1)\n",
        "  plt.imshow(np.transpose(npimg, (1, 2, 0)))\n",
        "  plt.title(\"vector u1\")\n",
        "\n",
        "  img = np.reshape(u2,(3,32,32))\n",
        "  img = img / 2 + 0.5     # unnormalize\n",
        "  npimg = img#.numpy()\n",
        "  print(\"vector u2 norm\",LA.norm(img))\n",
        "  plt.figure(2)\n",
        "  plt.imshow(np.transpose(npimg, (1, 2, 0)))\n",
        "  plt.title(\"vector u2\")\n",
        "\n",
        "  img = np.reshape(u3,(3,32,32))\n",
        "  img = img / 2 + 0.5     # unnormalize\n",
        "  npimg = img#.numpy()\n",
        "  print(\"vector u3 norm\",LA.norm(img))\n",
        "  plt.figure(3)\n",
        "  plt.imshow(np.transpose(npimg, (1, 2, 0)))\n",
        "  plt.title(\"vector u3\")\n",
        "  plt.show()"
      ],
      "execution_count": null,
      "outputs": []
    },
    {
      "cell_type": "code",
      "metadata": {
        "id": "72zcYiJsTPEr",
        "outputId": "caee0dc1-bb1e-458c-ef21-0efa14daef23",
        "colab": {
          "base_uri": "https://localhost:8080/",
          "height": 860
        }
      },
      "source": [
        "plot_vectors(u1,u2,u3)"
      ],
      "execution_count": null,
      "outputs": [
        {
          "output_type": "stream",
          "text": [
            "vector u1 norm 27.717323153497116\n",
            "vector u2 norm 27.71732319535422\n",
            "vector u3 norm 27.7173231446186\n"
          ],
          "name": "stdout"
        },
        {
          "output_type": "display_data",
          "data": {
            "image/png": "[encoded data removed]",
            "text/plain": [
              "<Figure size 432x288 with 1 Axes>"
            ]
          },
          "metadata": {
            "tags": [],
            "needs_background": "light"
          }
        },
        {
          "output_type": "display_data",
          "data": {
            "image/png": "[encoded data removed]",
            "text/plain": [
              "<Figure size 432x288 with 1 Axes>"
            ]
          },
          "metadata": {
            "tags": [],
            "needs_background": "light"
          }
        },
        {
          "output_type": "display_data",
          "data": {
            "image/png": "[encoded data removed]",
            "text/plain": [
              "<Figure size 432x288 with 1 Axes>"
            ]
          },
          "metadata": {
            "tags": [],
            "needs_background": "light"
          }
        }
      ]
    },
    {
      "cell_type": "code",
      "metadata": {
        "id": "wFpwvWrzYJQi"
      },
      "source": [
        "class MosaicDataset(Dataset):\n",
        "  \"\"\"MosaicDataset dataset.\"\"\"\n",
        "\n",
        "  def __init__(self, mosaic_list_of_images, mosaic_label, fore_idx):\n",
        "    \"\"\"\n",
        "      Args:\n",
        "        csv_file (string): Path to the csv file with annotations.\n",
        "        root_dir (string): Directory with all the images.\n",
        "        transform (callable, optional): Optional transform to be applied\n",
        "            on a sample.\n",
        "    \"\"\"\n",
        "    self.mosaic = mosaic_list_of_images\n",
        "    self.label = mosaic_label\n",
        "    self.fore_idx = fore_idx\n",
        "\n",
        "  def __len__(self):\n",
        "    return len(self.label)\n",
        "\n",
        "  def __getitem__(self, idx):\n",
        "    return self.mosaic[idx] , self.label[idx], self.fore_idx[idx]"
      ],
      "execution_count": null,
      "outputs": []
    },
    {
      "cell_type": "code",
      "metadata": {
        "id": "DxW0w8_BXsih"
      },
      "source": [
        "def create_mosaic_img(background_data, foreground_data, foreground_label, bg_idx,fg_idx,fg,fg1): \n",
        "  \"\"\"\n",
        "  bg_idx : list of indexes of background_data[] to be used as background images in mosaic\n",
        "  fg_idx : index of image to be used as foreground image from foreground data\n",
        "  fg : at what position/index foreground image has to be stored out of 0-8\n",
        "  \"\"\"\n",
        "  image_list=[]\n",
        "  j=0\n",
        "  for i in range(9):\n",
        "    if i != fg:\n",
        "      image_list.append(background_data[bg_idx[j]].type(\"torch.DoubleTensor\"))\n",
        "      j+=1\n",
        "    else: \n",
        "      image_list.append(foreground_data[fg_idx].type(\"torch.DoubleTensor\"))\n",
        "      label = foreground_label[fg_idx] -fg1  #-7  # minus 7 because our fore ground classes are 7,8,9 but we have to store it as 0,1,2\n",
        "  #image_list = np.concatenate(image_list ,axis=0)\n",
        "  image_list = torch.stack(image_list) \n",
        "  return image_list,label"
      ],
      "execution_count": null,
      "outputs": []
    },
    {
      "cell_type": "code",
      "metadata": {
        "id": "jTpidLeLVyyK"
      },
      "source": [
        "def init_mosaic_creation(bg_size, fg_size, desired_num, background_data, foreground_data, foreground_label,fg1):\n",
        "  # bg_size = 35000\n",
        "  # fg_size = 15000\n",
        "  # desired_num = 30000\n",
        "  mosaic_list_of_images =[]      # list of mosaic images, each mosaic image is saved as list of 9 images\n",
        "  fore_idx =[]                   # list of indexes at which foreground image is present in a mosaic image i.e from 0 to 9               \n",
        "  mosaic_label=[]                # label of mosaic image = foreground class present in that mosaic\n",
        "  for i in range(desired_num):\n",
        "    bg_idx = np.random.randint(0,bg_size,8)\n",
        "    fg_idx = np.random.randint(0,fg_size)\n",
        "    fg = np.random.randint(0,9)\n",
        "    fore_idx.append(fg)\n",
        "    image_list,label = create_mosaic_img(background_data, foreground_data, foreground_label ,bg_idx,fg_idx,fg, fg1)\n",
        "    mosaic_list_of_images.append(image_list)\n",
        "    mosaic_label.append(label)\n",
        "  \n",
        "  return mosaic_list_of_images, mosaic_label, fore_idx"
      ],
      "execution_count": null,
      "outputs": []
    },
    {
      "cell_type": "code",
      "metadata": {
        "id": "WuIMxXjgV1sB"
      },
      "source": [
        "train_mosaic_list_of_images, train_mosaic_label, train_fore_idx = init_mosaic_creation(bg_size = 35000, \n",
        "                                                                     fg_size = 15000, \n",
        "                                                                     desired_num = 30000, \n",
        "                                                                     background_data = train_background_data, \n",
        "                                                                     foreground_data = train_foreground_data, \n",
        "                                                                     foreground_label = train_foreground_label,\n",
        "                                                                     fg1 = fg1\n",
        "                                                                     )"
      ],
      "execution_count": null,
      "outputs": []
    },
    {
      "cell_type": "code",
      "metadata": {
        "id": "jNw9xEHdYLRQ"
      },
      "source": [
        "batch = 250\n",
        "msd_1 = MosaicDataset(train_mosaic_list_of_images, train_mosaic_label , train_fore_idx)\n",
        "train_loader_from_noise_train_mosaic_30k = DataLoader( msd_1,batch_size= batch ,shuffle=True)"
      ],
      "execution_count": null,
      "outputs": []
    },
    {
      "cell_type": "code",
      "metadata": {
        "id": "uy9iem2zYT-p"
      },
      "source": [
        "test_mosaic_list_of_images, test_mosaic_label, test_fore_idx = init_mosaic_creation(bg_size = 35000, \n",
        "                                                                     fg_size = 15000, \n",
        "                                                                     desired_num = 10000, \n",
        "                                                                     background_data = train_background_data, \n",
        "                                                                     foreground_data = train_foreground_data, \n",
        "                                                                     foreground_label = train_foreground_label,\n",
        "                                                                     fg1 = fg1\n",
        "                                                                     )"
      ],
      "execution_count": null,
      "outputs": []
    },
    {
      "cell_type": "code",
      "metadata": {
        "id": "ek_hNOGfY_Rg"
      },
      "source": [
        "batch = 250\n",
        "msd_2 = MosaicDataset(test_mosaic_list_of_images, test_mosaic_label , test_fore_idx)\n",
        "test_loader_from_noise_train_mosaic_30k = DataLoader( msd_2, batch_size= batch ,shuffle=True)"
      ],
      "execution_count": null,
      "outputs": []
    },
    {
      "cell_type": "code",
      "metadata": {
        "id": "k9Fb3xqvZXgY"
      },
      "source": [
        "test_mosaic_list_of_images_1, test_mosaic_label_1, test_fore_idx_1 = init_mosaic_creation(bg_size = 7000, \n",
        "                                                                     fg_size = 3000, \n",
        "                                                                     desired_num = 10000, \n",
        "                                                                     background_data = test_background_data, \n",
        "                                                                     foreground_data = test_foreground_data, \n",
        "                                                                     foreground_label = test_foreground_label,\n",
        "                                                                     fg1 = fg1\n",
        "                                                                     )"
      ],
      "execution_count": null,
      "outputs": []
    },
    {
      "cell_type": "code",
      "metadata": {
        "id": "D491Dr2eZxXo"
      },
      "source": [
        "batch = 250\n",
        "msd_3 = MosaicDataset(test_mosaic_list_of_images_1, test_mosaic_label_1 , test_fore_idx_1)\n",
        "test_loader_from_noise_test_mosaic_10k = DataLoader( msd_3, batch_size= batch ,shuffle=True)"
      ],
      "execution_count": null,
      "outputs": []
    },
    {
      "cell_type": "code",
      "metadata": {
        "id": "vfEaNoxVaTEp"
      },
      "source": [
        "test_mosaic_list_of_images_2, test_mosaic_label_2, test_fore_idx_2 = init_mosaic_creation(bg_size = 35000, \n",
        "                                                                     fg_size = 15000, \n",
        "                                                                     desired_num = 10000, \n",
        "                                                                     background_data = true_train_background_data, \n",
        "                                                                     foreground_data = true_train_foreground_data, \n",
        "                                                                     foreground_label = true_train_foreground_label,\n",
        "                                                                     fg1 = fg1\n",
        "                                                                     )"
      ],
      "execution_count": null,
      "outputs": []
    },
    {
      "cell_type": "code",
      "metadata": {
        "id": "ytvVuHTgaTEu"
      },
      "source": [
        "batch = 250\n",
        "msd_4 = MosaicDataset(test_mosaic_list_of_images_2, test_mosaic_label_2, test_fore_idx_2)\n",
        "test_loader_from_true_train_mosaic_30k = DataLoader( msd_4, batch_size= batch , shuffle=True)"
      ],
      "execution_count": null,
      "outputs": []
    },
    {
      "cell_type": "code",
      "metadata": {
        "id": "cbN6OQzxaTEy"
      },
      "source": [
        "test_mosaic_list_of_images_3, test_mosaic_label_3, test_fore_idx_3 = init_mosaic_creation(bg_size = 7000, \n",
        "                                                                     fg_size = 3000, \n",
        "                                                                     desired_num = 10000, \n",
        "                                                                     background_data = true_test_background_data, \n",
        "                                                                     foreground_data = true_test_foreground_data, \n",
        "                                                                     foreground_label = true_test_foreground_label,\n",
        "                                                                     fg1 = fg1\n",
        "                                                                     )"
      ],
      "execution_count": null,
      "outputs": []
    },
    {
      "cell_type": "code",
      "metadata": {
        "id": "Mu890cyTaTE2"
      },
      "source": [
        "batch = 250\n",
        "msd_5 = MosaicDataset(test_mosaic_list_of_images_3, test_mosaic_label_3, test_fore_idx_3)\n",
        "test_loader_from_true_train_mosaic_10k = DataLoader( msd_5, batch_size= batch ,shuffle=True)"
      ],
      "execution_count": null,
      "outputs": []
    },
    {
      "cell_type": "code",
      "metadata": {
        "id": "dgQ0htWqkqzo"
      },
      "source": [
        "class Module1(nn.Module):\n",
        "  def __init__(self):\n",
        "    super(Module1, self).__init__()\n",
        "    self.conv1 = nn.Conv2d(3, 6, 5)\n",
        "    self.pool = nn.MaxPool2d(2, 2)\n",
        "    self.conv2 = nn.Conv2d(6, 16, 5)\n",
        "    self.fc1 = nn.Linear(16 * 5 * 5, 120)\n",
        "    self.fc2 = nn.Linear(120, 84)\n",
        "    self.fc3 = nn.Linear(84, 10)\n",
        "    self.fc4 = nn.Linear(10,1)\n",
        "\n",
        "  def forward(self, x):\n",
        "    x = self.pool(F.relu(self.conv1(x)))\n",
        "    x = self.pool(F.relu(self.conv2(x)))\n",
        "    x = x.view(-1, 16 * 5 * 5)\n",
        "    x = F.relu(self.fc1(x))\n",
        "    x = F.relu(self.fc2(x))\n",
        "    x = F.relu(self.fc3(x))\n",
        "    x = self.fc4(x)\n",
        "    return x"
      ],
      "execution_count": null,
      "outputs": []
    },
    {
      "cell_type": "code",
      "metadata": {
        "id": "XElkdct-kvQB"
      },
      "source": [
        "class Module2(nn.Module):\n",
        "  def __init__(self):\n",
        "    super(Module2, self).__init__()\n",
        "    self.module1 = Module1().double()\n",
        "    self.conv1 = nn.Conv2d(3, 6, 5)\n",
        "    self.pool = nn.MaxPool2d(2, 2)\n",
        "    self.conv2 = nn.Conv2d(6, 16, 5)\n",
        "    self.fc1 = nn.Linear(16 * 5 * 5, 120)\n",
        "    self.fc2 = nn.Linear(120, 84)\n",
        "    self.fc3 = nn.Linear(84, 10)\n",
        "    self.fc4 = nn.Linear(10,3)\n",
        "\n",
        "  def forward(self,z):  #z batch of list of 9 images\n",
        "    y = torch.zeros([batch,3, 32,32], dtype=torch.float64)\n",
        "    x = torch.zeros([batch,9],dtype=torch.float64)\n",
        "    x = x.to(\"cuda\")\n",
        "    y = y.to(\"cuda\")\n",
        "    for i in range(9):\n",
        "        x[:,i] = self.module1.forward(z[:,i])[:,0]\n",
        "\n",
        "    x = F.softmax(x,dim=1)\n",
        "\n",
        "    x1 = x[:,0]\n",
        "    torch.mul(x1[:,None,None,None],z[:,0])\n",
        "\n",
        "    for i in range(9):            \n",
        "      x1 = x[:,i]          \n",
        "      y = y + torch.mul(x1[:,None,None,None],z[:,i])\n",
        "      y = y.contiguous()\n",
        "\n",
        "\n",
        "    y1 = self.pool(F.relu(self.conv1(y)))\n",
        "    y1 = self.pool(F.relu(self.conv2(y1)))\n",
        "    y1 = y1.contiguous()\n",
        "    y1 = y1.reshape(-1, 16 * 5 * 5)\n",
        "\n",
        "    y1 = F.relu(self.fc1(y1))\n",
        "    y1 = F.relu(self.fc2(y1))\n",
        "    y1 = F.relu(self.fc3(y1))\n",
        "    y1 = self.fc4(y1)\n",
        "    return y1 , x, y"
      ],
      "execution_count": null,
      "outputs": []
    },
    {
      "cell_type": "code",
      "metadata": {
        "id": "Nus7AK1xRX7W"
      },
      "source": [
        "def training(trainloader, fore_net, epochs=600):\n",
        "  import torch.optim as optim\n",
        "  criterion = nn.CrossEntropyLoss()\n",
        "  optimizer = optim.SGD(fore_net.parameters(), lr=0.01, momentum=0.9)\n",
        "  nos_epochs = epochs\n",
        "\n",
        "  for epoch in range(nos_epochs):  # loop over the dataset multiple times\n",
        "    running_loss = 0.0\n",
        "    cnt=0\n",
        "    mini_loss = []\n",
        "    iteration = 30000 // batch    \n",
        "    for i, data in  enumerate(train_loader_from_noise_train_mosaic_30k):\n",
        "      inputs , labels , fore_idx = data\n",
        "      inputs, labels, fore_idx = inputs.to(\"cuda\"),labels.to(\"cuda\"), fore_idx.to(\"cuda\")\n",
        "\n",
        "      optimizer.zero_grad()\n",
        "      outputs, alphas, avg_images = fore_net(inputs)\n",
        "\n",
        "      _, predicted = torch.max(outputs.data, 1)\n",
        "      loss = criterion(outputs, labels) \n",
        "      loss.backward()\n",
        "      optimizer.step()\n",
        "      running_loss += loss.item()\n",
        "      mini = 40    \n",
        "      if cnt % mini == mini - 1:    # print every 40 mini-batches\n",
        "        print('[%d, %5d] loss: %.3f' %(epoch + 1, cnt + 1, running_loss / mini))\n",
        "        mini_loss.append(running_loss / mini)\n",
        "        running_loss = 0.0        \n",
        "      cnt=cnt+1\n",
        "    if(np.average(mini_loss) <= 0.05):\n",
        "      break\n",
        "  print('Finished Training')\n",
        "  return fore_net, epoch\n"
      ],
      "execution_count": null,
      "outputs": []
    },
    {
      "cell_type": "code",
      "metadata": {
        "id": "17GMe4WKSNji"
      },
      "source": [
        "def testing(loader, fore_net):\n",
        "  correct = 0\n",
        "  total = 0\n",
        "  count = 0\n",
        "  flag = 1\n",
        "  focus_true_pred_true =0\n",
        "  focus_false_pred_true =0\n",
        "  focus_true_pred_false =0\n",
        "  focus_false_pred_false =0\n",
        "\n",
        "  argmax_more_than_half = 0\n",
        "  argmax_less_than_half =0\n",
        "\n",
        "  with torch.no_grad():\n",
        "    for data in loader:\n",
        "      inputs, labels , fore_idx = data\n",
        "      inputs, labels , fore_idx = inputs.to(\"cuda\"),labels.to(\"cuda\"), fore_idx.to(\"cuda\")\n",
        "      outputs, alphas, avg_images = fore_net(inputs)\n",
        "\n",
        "      _, predicted = torch.max(outputs.data, 1)\n",
        "\n",
        "      for j in range(labels.size(0)):\n",
        "        count += 1\n",
        "        focus = torch.argmax(alphas[j])\n",
        "        if alphas[j][focus] >= 0.5 :\n",
        "          argmax_more_than_half += 1\n",
        "        else:\n",
        "          argmax_less_than_half += 1\n",
        "\n",
        "        if(focus == fore_idx[j] and predicted[j] == labels[j]):\n",
        "            focus_true_pred_true += 1\n",
        "        elif(focus != fore_idx[j] and predicted[j] == labels[j]):\n",
        "          focus_false_pred_true += 1\n",
        "        elif(focus == fore_idx[j] and predicted[j] != labels[j]):\n",
        "          focus_true_pred_false += 1\n",
        "        elif(focus != fore_idx[j] and predicted[j] != labels[j]):\n",
        "          focus_false_pred_false += 1\n",
        "\n",
        "      total += labels.size(0)\n",
        "      correct += (predicted == labels).sum().item()\n",
        "  \n",
        "  return correct, total, focus_true_pred_true, focus_false_pred_true, focus_true_pred_false, focus_false_pred_false, argmax_more_than_half\n"
      ],
      "execution_count": null,
      "outputs": []
    },
    {
      "cell_type": "code",
      "metadata": {
        "id": "lp0cGt63YuUc"
      },
      "source": [
        "def enter_into(table, sno, correct, total, ftpt, ffpt, ftpf, ffpf, alpha_more_half , fg, bg, epoch = \"NA\"):\n",
        "  entry = []\n",
        "  entry = [sno,'fg = '+ str(fg),'bg = '+str(bg), epoch, total, correct,]\n",
        "  entry.append((100.0*correct/total))\n",
        "  entry.append((100 * ftpt / total))\n",
        "  entry.append( (100 * ffpt / total))\n",
        "  entry.append( ( 100 * ftpf / total))\n",
        "  entry.append( ( 100 * ffpf / total))\n",
        "  entry.append( alpha_more_half )\n",
        "\n",
        "  table.append(entry)\n",
        "  print(\" \")\n",
        "  print(\"=\"*160)\n",
        "  print(tabulate(table, headers=['S.No.', 'fg_class','bg_class','Epoch used','total_points', 'correct','accuracy','FTPT', 'FFPT', 'FTPF', 'FFPF', 'avg_img > 0.5'] ) )\n",
        "  print(\" \")\n",
        "  print(\"=\"*160)\n",
        "  return table"
      ],
      "execution_count": null,
      "outputs": []
    },
    {
      "cell_type": "code",
      "metadata": {
        "id": "uS6Gq-4VfX89"
      },
      "source": [
        "def add_average_entry(table):\n",
        "  entry =[]\n",
        "  entry = ['Avg', \"\",\"\" ,\"\" ,\"\" , \"\",]\n",
        "  entry.append( np.mean(np.array(train_table)[:,6].astype(np.float)) )\n",
        "  entry.append( np.mean(np.array(train_table)[:,7].astype(np.float)) )\n",
        "  entry.append( np.mean(np.array(train_table)[:,8].astype(np.float)) )\n",
        "  entry.append( np.mean(np.array(train_table)[:,9].astype(np.float)) )\n",
        "  entry.append( np.mean(np.array(train_table)[:,10].astype(np.float)) )\n",
        "  entry.append( np.mean(np.array(train_table)[:,11].astype(np.float)) )\n",
        "\n",
        "  table.append(entry)\n",
        "  print(\" \")\n",
        "  print(\"=\"*160)\n",
        "  print(tabulate(table, headers=['S.No.', 'fg_class','bg_class','Epoch used','total_points', 'correct','accuracy','FTPT', 'FFPT', 'FTPF', 'FFPF', 'avg_img > 0.5'] ) )\n",
        "  print(\" \")\n",
        "  print(\"=\"*160)\n",
        "  return table\n"
      ],
      "execution_count": null,
      "outputs": []
    },
    {
      "cell_type": "code",
      "metadata": {
        "id": "M8ClgTOAbUQu"
      },
      "source": [
        "train_table=[]\n",
        "test_table1=[]\n",
        "test_table2=[]\n",
        "test_table3=[]\n",
        "test_table4=[]\n",
        "fg = [fg1,fg2,fg3]\n",
        "bg = list(set([0,1,2,3,4,5,6,7,8,9])-set(fg))\n"
      ],
      "execution_count": null,
      "outputs": []
    },
    {
      "cell_type": "code",
      "metadata": {
        "id": "TuIb2Y29kxWT",
        "outputId": "cf095766-a254-4883-8135-fa2a32a1e4e0",
        "colab": {
          "base_uri": "https://localhost:8080/",
          "height": 1000
        }
      },
      "source": [
        "number_runs = 10\n",
        "\n",
        "for i in range(number_runs):\n",
        "  fore_net = Module2().double()\n",
        "  fore_net = fore_net.to(\"cuda\")\n",
        "\n",
        "  fore_net, epoch = training(train_loader_from_noise_train_mosaic_30k, fore_net)\n",
        "\n",
        "  correct, total, ftpt, ffpt, ftpf, ffpf, alpha_more_half = testing(train_loader_from_noise_train_mosaic_30k, fore_net)\n",
        "  train_table = enter_into(train_table, i+1, correct, total, ftpt, ffpt, ftpf, ffpf, alpha_more_half, fg, bg, str(epoch) )\n",
        "\n",
        "  correct, total, ftpt, ffpt, ftpf, ffpf, alpha_more_half = testing(test_loader_from_noise_train_mosaic_30k, fore_net)\n",
        "  test_table1 = enter_into(test_table1, i+1, correct, total, ftpt, ffpt, ftpf, ffpf, alpha_more_half , fg, bg )\n",
        "\n",
        "  correct, total, ftpt, ffpt, ftpf, ffpf, alpha_more_half = testing(test_loader_from_noise_test_mosaic_10k, fore_net)\n",
        "  test_table2 = enter_into(test_table2, i+1, correct, total, ftpt, ffpt, ftpf, ffpf, alpha_more_half, fg, bg )\n",
        "\n",
        "  correct, total, ftpt, ffpt, ftpf, ffpf, alpha_more_half = testing(test_loader_from_true_train_mosaic_30k, fore_net)\n",
        "  test_table3 = enter_into(test_table3, i+1, correct, total, ftpt, ffpt, ftpf, ffpf, alpha_more_half , fg, bg)\n",
        "\n",
        "  correct, total, ftpt, ffpt, ftpf, ffpf, alpha_more_half = testing(test_loader_from_true_train_mosaic_10k, fore_net)\n",
        "  test_table4 = enter_into(test_table4, i+1, correct, total, ftpt, ffpt, ftpf, ffpf, alpha_more_half, fg, bg )\n",
        "\n"
      ],
      "execution_count": null,
      "outputs": [
        {
          "output_type": "stream",
          "text": [
            "[1,    40] loss: 1.101\n",
            "[1,    80] loss: 1.099\n",
            "[1,   120] loss: 1.099\n",
            "[2,    40] loss: 1.098\n",
            "[2,    80] loss: 1.098\n",
            "[2,   120] loss: 1.098\n",
            "[3,    40] loss: 1.098\n",
            "[3,    80] loss: 1.098\n",
            "[3,   120] loss: 1.098\n",
            "[4,    40] loss: 1.098\n",
            "[4,    80] loss: 1.097\n",
            "[4,   120] loss: 1.097\n",
            "[5,    40] loss: 1.097\n",
            "[5,    80] loss: 1.097\n",
            "[5,   120] loss: 1.096\n",
            "[6,    40] loss: 1.096\n",
            "[6,    80] loss: 1.095\n",
            "[6,   120] loss: 1.094\n",
            "[7,    40] loss: 1.093\n",
            "[7,    80] loss: 1.092\n",
            "[7,   120] loss: 1.091\n",
            "[8,    40] loss: 1.089\n",
            "[8,    80] loss: 1.089\n",
            "[8,   120] loss: 1.087\n",
            "[9,    40] loss: 1.085\n",
            "[9,    80] loss: 1.085\n",
            "[9,   120] loss: 1.080\n",
            "[10,    40] loss: 1.081\n",
            "[10,    80] loss: 1.078\n",
            "[10,   120] loss: 1.078\n",
            "[11,    40] loss: 1.076\n",
            "[11,    80] loss: 1.073\n",
            "[11,   120] loss: 1.073\n",
            "[12,    40] loss: 1.068\n",
            "[12,    80] loss: 1.068\n",
            "[12,   120] loss: 1.065\n",
            "[13,    40] loss: 1.060\n",
            "[13,    80] loss: 1.058\n",
            "[13,   120] loss: 1.056\n",
            "[14,    40] loss: 1.041\n",
            "[14,    80] loss: 1.021\n",
            "[14,   120] loss: 0.986\n",
            "[15,    40] loss: 0.907\n",
            "[15,    80] loss: 0.709\n",
            "[15,   120] loss: 0.266\n",
            "[16,    40] loss: 0.087\n",
            "[16,    80] loss: 0.044\n",
            "[16,   120] loss: 0.026\n",
            "[17,    40] loss: 0.016\n",
            "[17,    80] loss: 0.015\n",
            "[17,   120] loss: 0.013\n",
            "Finished Training\n",
            " \n",
            "================================================================================================================================================================\n",
            "  S.No.  fg_class        bg_class                      Epoch used    total_points    correct    accuracy    FTPT    FFPT    FTPF    FFPF    avg_img > 0.5\n",
            "-------  --------------  --------------------------  ------------  --------------  ---------  ----------  ------  ------  ------  ------  ---------------\n",
            "      1  fg = [0, 1, 2]  bg = [3, 4, 5, 6, 7, 8, 9]            16           30000      29949       99.83   99.83       0    0.17       0            30000\n",
            " \n",
            "================================================================================================================================================================\n",
            " \n",
            "================================================================================================================================================================\n",
            "  S.No.  fg_class        bg_class                    Epoch used      total_points    correct    accuracy    FTPT    FFPT    FTPF    FFPF    avg_img > 0.5\n",
            "-------  --------------  --------------------------  ------------  --------------  ---------  ----------  ------  ------  ------  ------  ---------------\n",
            "      1  fg = [0, 1, 2]  bg = [3, 4, 5, 6, 7, 8, 9]  NA                     10000       9978       99.78   99.78       0    0.22       0            10000\n",
            " \n",
            "================================================================================================================================================================\n",
            " \n",
            "================================================================================================================================================================\n",
            "  S.No.  fg_class        bg_class                    Epoch used      total_points    correct    accuracy    FTPT    FFPT    FTPF    FFPF    avg_img > 0.5\n",
            "-------  --------------  --------------------------  ------------  --------------  ---------  ----------  ------  ------  ------  ------  ---------------\n",
            "      1  fg = [0, 1, 2]  bg = [3, 4, 5, 6, 7, 8, 9]  NA                     10000       9974       99.74   99.74       0    0.26       0            10000\n",
            " \n",
            "================================================================================================================================================================\n",
            " \n",
            "================================================================================================================================================================\n",
            "  S.No.  fg_class        bg_class                    Epoch used      total_points    correct    accuracy    FTPT    FFPT    FTPF    FFPF    avg_img > 0.5\n",
            "-------  --------------  --------------------------  ------------  --------------  ---------  ----------  ------  ------  ------  ------  ---------------\n",
            "      1  fg = [0, 1, 2]  bg = [3, 4, 5, 6, 7, 8, 9]  NA                     10000       3377       33.77   10.53   23.24   11.48   54.75              401\n",
            " \n",
            "================================================================================================================================================================\n",
            " \n",
            "================================================================================================================================================================\n",
            "  S.No.  fg_class        bg_class                    Epoch used      total_points    correct    accuracy    FTPT    FFPT    FTPF    FFPF    avg_img > 0.5\n",
            "-------  --------------  --------------------------  ------------  --------------  ---------  ----------  ------  ------  ------  ------  ---------------\n",
            "      1  fg = [0, 1, 2]  bg = [3, 4, 5, 6, 7, 8, 9]  NA                     10000       3368       33.68   10.97   22.71   12.63   53.69              406\n",
            " \n",
            "================================================================================================================================================================\n",
            "[1,    40] loss: 1.101\n",
            "[1,    80] loss: 1.099\n",
            "[1,   120] loss: 1.099\n",
            "[2,    40] loss: 1.099\n",
            "[2,    80] loss: 1.099\n",
            "[2,   120] loss: 1.099\n",
            "[3,    40] loss: 1.099\n",
            "[3,    80] loss: 1.099\n",
            "[3,   120] loss: 1.099\n",
            "[4,    40] loss: 1.098\n",
            "[4,    80] loss: 1.099\n",
            "[4,   120] loss: 1.099\n",
            "[5,    40] loss: 1.099\n",
            "[5,    80] loss: 1.098\n",
            "[5,   120] loss: 1.098\n",
            "[6,    40] loss: 1.098\n",
            "[6,    80] loss: 1.098\n",
            "[6,   120] loss: 1.098\n",
            "[7,    40] loss: 1.098\n",
            "[7,    80] loss: 1.098\n",
            "[7,   120] loss: 1.098\n",
            "[8,    40] loss: 1.098\n",
            "[8,    80] loss: 1.098\n",
            "[8,   120] loss: 1.098\n",
            "[9,    40] loss: 1.098\n",
            "[9,    80] loss: 1.098\n",
            "[9,   120] loss: 1.098\n",
            "[10,    40] loss: 1.098\n",
            "[10,    80] loss: 1.097\n",
            "[10,   120] loss: 1.098\n",
            "[11,    40] loss: 1.097\n",
            "[11,    80] loss: 1.097\n",
            "[11,   120] loss: 1.097\n",
            "[12,    40] loss: 1.096\n",
            "[12,    80] loss: 1.097\n",
            "[12,   120] loss: 1.096\n",
            "[13,    40] loss: 1.095\n",
            "[13,    80] loss: 1.094\n",
            "[13,   120] loss: 1.094\n",
            "[14,    40] loss: 1.093\n",
            "[14,    80] loss: 1.091\n",
            "[14,   120] loss: 1.089\n",
            "[15,    40] loss: 1.087\n",
            "[15,    80] loss: 1.085\n",
            "[15,   120] loss: 1.080\n",
            "[16,    40] loss: 1.076\n",
            "[16,    80] loss: 1.069\n",
            "[16,   120] loss: 1.060\n",
            "[17,    40] loss: 1.022\n",
            "[17,    80] loss: 0.819\n",
            "[17,   120] loss: 0.465\n",
            "[18,    40] loss: 0.287\n",
            "[18,    80] loss: 0.229\n",
            "[18,   120] loss: 0.163\n",
            "[19,    40] loss: 0.109\n",
            "[19,    80] loss: 0.087\n",
            "[19,   120] loss: 0.068\n",
            "[20,    40] loss: 0.043\n",
            "[20,    80] loss: 0.031\n",
            "[20,   120] loss: 0.030\n",
            "Finished Training\n",
            " \n",
            "================================================================================================================================================================\n",
            "  S.No.  fg_class        bg_class                      Epoch used    total_points    correct    accuracy     FTPT     FFPT      FTPF      FFPF    avg_img > 0.5\n",
            "-------  --------------  --------------------------  ------------  --------------  ---------  ----------  -------  -------  --------  --------  ---------------\n",
            "      1  fg = [0, 1, 2]  bg = [3, 4, 5, 6, 7, 8, 9]            16           30000      29949       99.83  99.83     0       0.17      0                   30000\n",
            "      2  fg = [0, 1, 2]  bg = [3, 4, 5, 6, 7, 8, 9]            19           30000      29757       99.19  39.8533  59.3367  0.113333  0.696667                0\n",
            " \n",
            "================================================================================================================================================================\n",
            " \n",
            "================================================================================================================================================================\n",
            "  S.No.  fg_class        bg_class                    Epoch used      total_points    correct    accuracy    FTPT    FFPT    FTPF    FFPF    avg_img > 0.5\n",
            "-------  --------------  --------------------------  ------------  --------------  ---------  ----------  ------  ------  ------  ------  ---------------\n",
            "      1  fg = [0, 1, 2]  bg = [3, 4, 5, 6, 7, 8, 9]  NA                     10000       9978       99.78   99.78    0       0.22    0               10000\n",
            "      2  fg = [0, 1, 2]  bg = [3, 4, 5, 6, 7, 8, 9]  NA                     10000       9916       99.16   40.53   58.63    0.11    0.73                0\n",
            " \n",
            "================================================================================================================================================================\n",
            " \n",
            "================================================================================================================================================================\n",
            "  S.No.  fg_class        bg_class                    Epoch used      total_points    correct    accuracy    FTPT    FFPT    FTPF    FFPF    avg_img > 0.5\n",
            "-------  --------------  --------------------------  ------------  --------------  ---------  ----------  ------  ------  ------  ------  ---------------\n",
            "      1  fg = [0, 1, 2]  bg = [3, 4, 5, 6, 7, 8, 9]  NA                     10000       9974       99.74   99.74    0       0.26     0              10000\n",
            "      2  fg = [0, 1, 2]  bg = [3, 4, 5, 6, 7, 8, 9]  NA                     10000       9914       99.14   38.58   60.56    0.26     0.6                0\n",
            " \n",
            "================================================================================================================================================================\n",
            " \n",
            "================================================================================================================================================================\n",
            "  S.No.  fg_class        bg_class                    Epoch used      total_points    correct    accuracy    FTPT    FFPT    FTPF    FFPF    avg_img > 0.5\n",
            "-------  --------------  --------------------------  ------------  --------------  ---------  ----------  ------  ------  ------  ------  ---------------\n",
            "      1  fg = [0, 1, 2]  bg = [3, 4, 5, 6, 7, 8, 9]  NA                     10000       3377       33.77   10.53   23.24   11.48   54.75              401\n",
            "      2  fg = [0, 1, 2]  bg = [3, 4, 5, 6, 7, 8, 9]  NA                     10000       3347       33.47    1.62   31.85    8.86   57.67                0\n",
            " \n",
            "================================================================================================================================================================\n",
            " \n",
            "================================================================================================================================================================\n",
            "  S.No.  fg_class        bg_class                    Epoch used      total_points    correct    accuracy    FTPT    FFPT    FTPF    FFPF    avg_img > 0.5\n",
            "-------  --------------  --------------------------  ------------  --------------  ---------  ----------  ------  ------  ------  ------  ---------------\n",
            "      1  fg = [0, 1, 2]  bg = [3, 4, 5, 6, 7, 8, 9]  NA                     10000       3368       33.68   10.97   22.71   12.63   53.69              406\n",
            "      2  fg = [0, 1, 2]  bg = [3, 4, 5, 6, 7, 8, 9]  NA                     10000       3302       33.02    1.58   31.44    9.64   57.34                0\n",
            " \n",
            "================================================================================================================================================================\n",
            "[1,    40] loss: 1.106\n",
            "[1,    80] loss: 1.099\n",
            "[1,   120] loss: 1.099\n",
            "[2,    40] loss: 1.099\n",
            "[2,    80] loss: 1.098\n",
            "[2,   120] loss: 1.099\n",
            "[3,    40] loss: 1.098\n",
            "[3,    80] loss: 1.098\n",
            "[3,   120] loss: 1.098\n",
            "[4,    40] loss: 1.098\n",
            "[4,    80] loss: 1.098\n",
            "[4,   120] loss: 1.098\n",
            "[5,    40] loss: 1.099\n",
            "[5,    80] loss: 1.098\n",
            "[5,   120] loss: 1.098\n",
            "[6,    40] loss: 1.098\n",
            "[6,    80] loss: 1.098\n",
            "[6,   120] loss: 1.098\n",
            "[7,    40] loss: 1.098\n",
            "[7,    80] loss: 1.098\n",
            "[7,   120] loss: 1.098\n",
            "[8,    40] loss: 1.097\n",
            "[8,    80] loss: 1.097\n",
            "[8,   120] loss: 1.097\n",
            "[9,    40] loss: 1.096\n",
            "[9,    80] loss: 1.096\n",
            "[9,   120] loss: 1.095\n",
            "[10,    40] loss: 1.093\n",
            "[10,    80] loss: 1.091\n",
            "[10,   120] loss: 1.090\n",
            "[11,    40] loss: 1.087\n",
            "[11,    80] loss: 1.082\n",
            "[11,   120] loss: 1.079\n",
            "[12,    40] loss: 1.073\n",
            "[12,    80] loss: 1.072\n",
            "[12,   120] loss: 1.056\n",
            "[13,    40] loss: 1.029\n",
            "[13,    80] loss: 0.916\n",
            "[13,   120] loss: 0.648\n",
            "[14,    40] loss: 0.530\n",
            "[14,    80] loss: 0.387\n",
            "[14,   120] loss: 0.226\n",
            "[15,    40] loss: 0.115\n",
            "[15,    80] loss: 0.094\n",
            "[15,   120] loss: 0.071\n",
            "[16,    40] loss: 0.036\n",
            "[16,    80] loss: 0.031\n",
            "[16,   120] loss: 0.030\n",
            "Finished Training\n",
            " \n",
            "================================================================================================================================================================\n",
            "  S.No.  fg_class        bg_class                      Epoch used    total_points    correct    accuracy     FTPT         FFPT      FTPF      FFPF    avg_img > 0.5\n",
            "-------  --------------  --------------------------  ------------  --------------  ---------  ----------  -------  -----------  --------  --------  ---------------\n",
            "      1  fg = [0, 1, 2]  bg = [3, 4, 5, 6, 7, 8, 9]            16           30000      29949     99.83    99.83     0           0.17      0                   30000\n",
            "      2  fg = [0, 1, 2]  bg = [3, 4, 5, 6, 7, 8, 9]            19           30000      29757     99.19    39.8533  59.3367      0.113333  0.696667                0\n",
            "      3  fg = [0, 1, 2]  bg = [3, 4, 5, 6, 7, 8, 9]            15           30000      29882     99.6067  99.6033   0.00333333  0.393333  0                   29739\n",
            " \n",
            "================================================================================================================================================================\n",
            " \n",
            "================================================================================================================================================================\n",
            "  S.No.  fg_class        bg_class                    Epoch used      total_points    correct    accuracy    FTPT    FFPT    FTPF    FFPF    avg_img > 0.5\n",
            "-------  --------------  --------------------------  ------------  --------------  ---------  ----------  ------  ------  ------  ------  ---------------\n",
            "      1  fg = [0, 1, 2]  bg = [3, 4, 5, 6, 7, 8, 9]  NA                     10000       9978       99.78   99.78    0       0.22    0               10000\n",
            "      2  fg = [0, 1, 2]  bg = [3, 4, 5, 6, 7, 8, 9]  NA                     10000       9916       99.16   40.53   58.63    0.11    0.73                0\n",
            "      3  fg = [0, 1, 2]  bg = [3, 4, 5, 6, 7, 8, 9]  NA                     10000       9959       99.59   99.59    0       0.41    0                9916\n",
            " \n",
            "================================================================================================================================================================\n",
            " \n",
            "================================================================================================================================================================\n",
            "  S.No.  fg_class        bg_class                    Epoch used      total_points    correct    accuracy    FTPT    FFPT    FTPF    FFPF    avg_img > 0.5\n",
            "-------  --------------  --------------------------  ------------  --------------  ---------  ----------  ------  ------  ------  ------  ---------------\n",
            "      1  fg = [0, 1, 2]  bg = [3, 4, 5, 6, 7, 8, 9]  NA                     10000       9974       99.74   99.74    0       0.26     0              10000\n",
            "      2  fg = [0, 1, 2]  bg = [3, 4, 5, 6, 7, 8, 9]  NA                     10000       9914       99.14   38.58   60.56    0.26     0.6                0\n",
            "      3  fg = [0, 1, 2]  bg = [3, 4, 5, 6, 7, 8, 9]  NA                     10000       9944       99.44   99.44    0       0.56     0               9921\n",
            " \n",
            "================================================================================================================================================================\n",
            " \n",
            "================================================================================================================================================================\n",
            "  S.No.  fg_class        bg_class                    Epoch used      total_points    correct    accuracy    FTPT    FFPT    FTPF    FFPF    avg_img > 0.5\n",
            "-------  --------------  --------------------------  ------------  --------------  ---------  ----------  ------  ------  ------  ------  ---------------\n",
            "      1  fg = [0, 1, 2]  bg = [3, 4, 5, 6, 7, 8, 9]  NA                     10000       3377       33.77   10.53   23.24   11.48   54.75              401\n",
            "      2  fg = [0, 1, 2]  bg = [3, 4, 5, 6, 7, 8, 9]  NA                     10000       3347       33.47    1.62   31.85    8.86   57.67                0\n",
            "      3  fg = [0, 1, 2]  bg = [3, 4, 5, 6, 7, 8, 9]  NA                     10000       3434       34.34    3.66   30.68   12.91   52.75                0\n",
            " \n",
            "================================================================================================================================================================\n",
            " \n",
            "================================================================================================================================================================\n",
            "  S.No.  fg_class        bg_class                    Epoch used      total_points    correct    accuracy    FTPT    FFPT    FTPF    FFPF    avg_img > 0.5\n",
            "-------  --------------  --------------------------  ------------  --------------  ---------  ----------  ------  ------  ------  ------  ---------------\n",
            "      1  fg = [0, 1, 2]  bg = [3, 4, 5, 6, 7, 8, 9]  NA                     10000       3368       33.68   10.97   22.71   12.63   53.69              406\n",
            "      2  fg = [0, 1, 2]  bg = [3, 4, 5, 6, 7, 8, 9]  NA                     10000       3302       33.02    1.58   31.44    9.64   57.34                0\n",
            "      3  fg = [0, 1, 2]  bg = [3, 4, 5, 6, 7, 8, 9]  NA                     10000       3447       34.47    3.78   30.69   12.69   52.84                0\n",
            " \n",
            "================================================================================================================================================================\n",
            "[1,    40] loss: 1.100\n",
            "[1,    80] loss: 1.099\n",
            "[1,   120] loss: 1.099\n",
            "[2,    40] loss: 1.099\n",
            "[2,    80] loss: 1.099\n",
            "[2,   120] loss: 1.099\n",
            "[3,    40] loss: 1.099\n",
            "[3,    80] loss: 1.099\n",
            "[3,   120] loss: 1.098\n",
            "[4,    40] loss: 1.098\n",
            "[4,    80] loss: 1.099\n",
            "[4,   120] loss: 1.098\n",
            "[5,    40] loss: 1.098\n",
            "[5,    80] loss: 1.099\n",
            "[5,   120] loss: 1.099\n",
            "[6,    40] loss: 1.099\n",
            "[6,    80] loss: 1.098\n",
            "[6,   120] loss: 1.099\n",
            "[7,    40] loss: 1.098\n",
            "[7,    80] loss: 1.098\n",
            "[7,   120] loss: 1.098\n",
            "[8,    40] loss: 1.098\n",
            "[8,    80] loss: 1.098\n",
            "[8,   120] loss: 1.098\n",
            "[9,    40] loss: 1.098\n",
            "[9,    80] loss: 1.098\n",
            "[9,   120] loss: 1.097\n",
            "[10,    40] loss: 1.097\n",
            "[10,    80] loss: 1.098\n",
            "[10,   120] loss: 1.097\n",
            "[11,    40] loss: 1.097\n",
            "[11,    80] loss: 1.097\n",
            "[11,   120] loss: 1.096\n",
            "[12,    40] loss: 1.096\n",
            "[12,    80] loss: 1.095\n",
            "[12,   120] loss: 1.095\n",
            "[13,    40] loss: 1.094\n",
            "[13,    80] loss: 1.094\n",
            "[13,   120] loss: 1.093\n",
            "[14,    40] loss: 1.092\n",
            "[14,    80] loss: 1.091\n",
            "[14,   120] loss: 1.091\n",
            "[15,    40] loss: 1.088\n",
            "[15,    80] loss: 1.088\n",
            "[15,   120] loss: 1.087\n",
            "[16,    40] loss: 1.083\n",
            "[16,    80] loss: 1.083\n",
            "[16,   120] loss: 1.083\n",
            "[17,    40] loss: 1.080\n",
            "[17,    80] loss: 1.076\n",
            "[17,   120] loss: 1.072\n",
            "[18,    40] loss: 1.065\n",
            "[18,    80] loss: 1.062\n",
            "[18,   120] loss: 1.047\n",
            "[19,    40] loss: 0.996\n",
            "[19,    80] loss: 0.876\n",
            "[19,   120] loss: 0.625\n",
            "[20,    40] loss: 0.292\n",
            "[20,    80] loss: 0.196\n",
            "[20,   120] loss: 0.161\n",
            "[21,    40] loss: 0.121\n",
            "[21,    80] loss: 0.112\n",
            "[21,   120] loss: 0.072\n",
            "[22,    40] loss: 0.054\n",
            "[22,    80] loss: 0.067\n",
            "[22,   120] loss: 0.044\n",
            "[23,    40] loss: 0.026\n",
            "[23,    80] loss: 0.022\n",
            "[23,   120] loss: 0.015\n",
            "Finished Training\n",
            " \n",
            "================================================================================================================================================================\n",
            "  S.No.  fg_class        bg_class                      Epoch used    total_points    correct    accuracy     FTPT         FFPT      FTPF      FFPF    avg_img > 0.5\n",
            "-------  --------------  --------------------------  ------------  --------------  ---------  ----------  -------  -----------  --------  --------  ---------------\n",
            "      1  fg = [0, 1, 2]  bg = [3, 4, 5, 6, 7, 8, 9]            16           30000      29949     99.83    99.83     0           0.17      0                   30000\n",
            "      2  fg = [0, 1, 2]  bg = [3, 4, 5, 6, 7, 8, 9]            19           30000      29757     99.19    39.8533  59.3367      0.113333  0.696667                0\n",
            "      3  fg = [0, 1, 2]  bg = [3, 4, 5, 6, 7, 8, 9]            15           30000      29882     99.6067  99.6033   0.00333333  0.393333  0                   29739\n",
            "      4  fg = [0, 1, 2]  bg = [3, 4, 5, 6, 7, 8, 9]            22           30000      29866     99.5533  99.53     0.0233333   0.446667  0                   28122\n",
            " \n",
            "================================================================================================================================================================\n",
            " \n",
            "================================================================================================================================================================\n",
            "  S.No.  fg_class        bg_class                    Epoch used      total_points    correct    accuracy    FTPT    FFPT    FTPF    FFPF    avg_img > 0.5\n",
            "-------  --------------  --------------------------  ------------  --------------  ---------  ----------  ------  ------  ------  ------  ---------------\n",
            "      1  fg = [0, 1, 2]  bg = [3, 4, 5, 6, 7, 8, 9]  NA                     10000       9978       99.78   99.78    0       0.22    0               10000\n",
            "      2  fg = [0, 1, 2]  bg = [3, 4, 5, 6, 7, 8, 9]  NA                     10000       9916       99.16   40.53   58.63    0.11    0.73                0\n",
            "      3  fg = [0, 1, 2]  bg = [3, 4, 5, 6, 7, 8, 9]  NA                     10000       9959       99.59   99.59    0       0.41    0                9916\n",
            "      4  fg = [0, 1, 2]  bg = [3, 4, 5, 6, 7, 8, 9]  NA                     10000       9935       99.35   99.33    0.02    0.65    0                9431\n",
            " \n",
            "================================================================================================================================================================\n",
            " \n",
            "================================================================================================================================================================\n",
            "  S.No.  fg_class        bg_class                    Epoch used      total_points    correct    accuracy    FTPT    FFPT    FTPF    FFPF    avg_img > 0.5\n",
            "-------  --------------  --------------------------  ------------  --------------  ---------  ----------  ------  ------  ------  ------  ---------------\n",
            "      1  fg = [0, 1, 2]  bg = [3, 4, 5, 6, 7, 8, 9]  NA                     10000       9974       99.74   99.74    0       0.26     0              10000\n",
            "      2  fg = [0, 1, 2]  bg = [3, 4, 5, 6, 7, 8, 9]  NA                     10000       9914       99.14   38.58   60.56    0.26     0.6                0\n",
            "      3  fg = [0, 1, 2]  bg = [3, 4, 5, 6, 7, 8, 9]  NA                     10000       9944       99.44   99.44    0       0.56     0               9921\n",
            "      4  fg = [0, 1, 2]  bg = [3, 4, 5, 6, 7, 8, 9]  NA                     10000       9921       99.21   99.19    0.02    0.79     0               9359\n",
            " \n",
            "================================================================================================================================================================\n",
            " \n",
            "================================================================================================================================================================\n",
            "  S.No.  fg_class        bg_class                    Epoch used      total_points    correct    accuracy    FTPT    FFPT    FTPF    FFPF    avg_img > 0.5\n",
            "-------  --------------  --------------------------  ------------  --------------  ---------  ----------  ------  ------  ------  ------  ---------------\n",
            "      1  fg = [0, 1, 2]  bg = [3, 4, 5, 6, 7, 8, 9]  NA                     10000       3377       33.77   10.53   23.24   11.48   54.75              401\n",
            "      2  fg = [0, 1, 2]  bg = [3, 4, 5, 6, 7, 8, 9]  NA                     10000       3347       33.47    1.62   31.85    8.86   57.67                0\n",
            "      3  fg = [0, 1, 2]  bg = [3, 4, 5, 6, 7, 8, 9]  NA                     10000       3434       34.34    3.66   30.68   12.91   52.75                0\n",
            "      4  fg = [0, 1, 2]  bg = [3, 4, 5, 6, 7, 8, 9]  NA                     10000       3347       33.47    0.7    32.77    8.21   58.32                0\n",
            " \n",
            "================================================================================================================================================================\n",
            " \n",
            "================================================================================================================================================================\n",
            "  S.No.  fg_class        bg_class                    Epoch used      total_points    correct    accuracy    FTPT    FFPT    FTPF    FFPF    avg_img > 0.5\n",
            "-------  --------------  --------------------------  ------------  --------------  ---------  ----------  ------  ------  ------  ------  ---------------\n",
            "      1  fg = [0, 1, 2]  bg = [3, 4, 5, 6, 7, 8, 9]  NA                     10000       3368       33.68   10.97   22.71   12.63   53.69              406\n",
            "      2  fg = [0, 1, 2]  bg = [3, 4, 5, 6, 7, 8, 9]  NA                     10000       3302       33.02    1.58   31.44    9.64   57.34                0\n",
            "      3  fg = [0, 1, 2]  bg = [3, 4, 5, 6, 7, 8, 9]  NA                     10000       3447       34.47    3.78   30.69   12.69   52.84                0\n",
            "      4  fg = [0, 1, 2]  bg = [3, 4, 5, 6, 7, 8, 9]  NA                     10000       3302       33.02    0.82   32.2     9.42   57.56                0\n",
            " \n",
            "================================================================================================================================================================\n",
            "[1,    40] loss: 1.104\n",
            "[1,    80] loss: 1.099\n",
            "[1,   120] loss: 1.098\n",
            "[2,    40] loss: 1.099\n",
            "[2,    80] loss: 1.099\n",
            "[2,   120] loss: 1.098\n",
            "[3,    40] loss: 1.099\n",
            "[3,    80] loss: 1.098\n",
            "[3,   120] loss: 1.099\n",
            "[4,    40] loss: 1.099\n",
            "[4,    80] loss: 1.099\n",
            "[4,   120] loss: 1.098\n",
            "[5,    40] loss: 1.099\n",
            "[5,    80] loss: 1.098\n",
            "[5,   120] loss: 1.098\n",
            "[6,    40] loss: 1.099\n",
            "[6,    80] loss: 1.099\n",
            "[6,   120] loss: 1.098\n",
            "[7,    40] loss: 1.098\n",
            "[7,    80] loss: 1.098\n",
            "[7,   120] loss: 1.098\n",
            "[8,    40] loss: 1.098\n",
            "[8,    80] loss: 1.098\n",
            "[8,   120] loss: 1.098\n",
            "[9,    40] loss: 1.098\n",
            "[9,    80] loss: 1.098\n",
            "[9,   120] loss: 1.098\n",
            "[10,    40] loss: 1.097\n",
            "[10,    80] loss: 1.097\n",
            "[10,   120] loss: 1.097\n",
            "[11,    40] loss: 1.096\n",
            "[11,    80] loss: 1.096\n",
            "[11,   120] loss: 1.095\n",
            "[12,    40] loss: 1.095\n",
            "[12,    80] loss: 1.093\n",
            "[12,   120] loss: 1.092\n",
            "[13,    40] loss: 1.091\n",
            "[13,    80] loss: 1.090\n",
            "[13,   120] loss: 1.088\n",
            "[14,    40] loss: 1.088\n",
            "[14,    80] loss: 1.084\n",
            "[14,   120] loss: 1.082\n",
            "[15,    40] loss: 1.082\n",
            "[15,    80] loss: 1.080\n",
            "[15,   120] loss: 1.078\n",
            "[16,    40] loss: 1.076\n",
            "[16,    80] loss: 1.075\n",
            "[16,   120] loss: 1.067\n",
            "[17,    40] loss: 1.070\n",
            "[17,    80] loss: 1.057\n",
            "[17,   120] loss: 1.047\n",
            "[18,    40] loss: 1.020\n",
            "[18,    80] loss: 0.926\n",
            "[18,   120] loss: 0.770\n",
            "[19,    40] loss: 0.537\n",
            "[19,    80] loss: 0.222\n",
            "[19,   120] loss: 0.089\n",
            "[20,    40] loss: 0.047\n",
            "[20,    80] loss: 0.031\n",
            "[20,   120] loss: 0.025\n",
            "Finished Training\n",
            " \n",
            "================================================================================================================================================================\n",
            "  S.No.  fg_class        bg_class                      Epoch used    total_points    correct    accuracy     FTPT         FFPT      FTPF        FFPF    avg_img > 0.5\n",
            "-------  --------------  --------------------------  ------------  --------------  ---------  ----------  -------  -----------  --------  ----------  ---------------\n",
            "      1  fg = [0, 1, 2]  bg = [3, 4, 5, 6, 7, 8, 9]            16           30000      29949     99.83    99.83     0           0.17      0                     30000\n",
            "      2  fg = [0, 1, 2]  bg = [3, 4, 5, 6, 7, 8, 9]            19           30000      29757     99.19    39.8533  59.3367      0.113333  0.696667                  0\n",
            "      3  fg = [0, 1, 2]  bg = [3, 4, 5, 6, 7, 8, 9]            15           30000      29882     99.6067  99.6033   0.00333333  0.393333  0                     29739\n",
            "      4  fg = [0, 1, 2]  bg = [3, 4, 5, 6, 7, 8, 9]            22           30000      29866     99.5533  99.53     0.0233333   0.446667  0                     28122\n",
            "      5  fg = [0, 1, 2]  bg = [3, 4, 5, 6, 7, 8, 9]            19           30000      29848     99.4933  99.4633   0.03        0.5       0.00666667            29863\n",
            " \n",
            "================================================================================================================================================================\n",
            " \n",
            "================================================================================================================================================================\n",
            "  S.No.  fg_class        bg_class                    Epoch used      total_points    correct    accuracy    FTPT    FFPT    FTPF    FFPF    avg_img > 0.5\n",
            "-------  --------------  --------------------------  ------------  --------------  ---------  ----------  ------  ------  ------  ------  ---------------\n",
            "      1  fg = [0, 1, 2]  bg = [3, 4, 5, 6, 7, 8, 9]  NA                     10000       9978       99.78   99.78    0       0.22    0               10000\n",
            "      2  fg = [0, 1, 2]  bg = [3, 4, 5, 6, 7, 8, 9]  NA                     10000       9916       99.16   40.53   58.63    0.11    0.73                0\n",
            "      3  fg = [0, 1, 2]  bg = [3, 4, 5, 6, 7, 8, 9]  NA                     10000       9959       99.59   99.59    0       0.41    0                9916\n",
            "      4  fg = [0, 1, 2]  bg = [3, 4, 5, 6, 7, 8, 9]  NA                     10000       9935       99.35   99.33    0.02    0.65    0                9431\n",
            "      5  fg = [0, 1, 2]  bg = [3, 4, 5, 6, 7, 8, 9]  NA                     10000       9933       99.33   99.29    0.04    0.65    0.02             9951\n",
            " \n",
            "================================================================================================================================================================\n",
            " \n",
            "================================================================================================================================================================\n",
            "  S.No.  fg_class        bg_class                    Epoch used      total_points    correct    accuracy    FTPT    FFPT    FTPF    FFPF    avg_img > 0.5\n",
            "-------  --------------  --------------------------  ------------  --------------  ---------  ----------  ------  ------  ------  ------  ---------------\n",
            "      1  fg = [0, 1, 2]  bg = [3, 4, 5, 6, 7, 8, 9]  NA                     10000       9974       99.74   99.74    0       0.26     0              10000\n",
            "      2  fg = [0, 1, 2]  bg = [3, 4, 5, 6, 7, 8, 9]  NA                     10000       9914       99.14   38.58   60.56    0.26     0.6                0\n",
            "      3  fg = [0, 1, 2]  bg = [3, 4, 5, 6, 7, 8, 9]  NA                     10000       9944       99.44   99.44    0       0.56     0               9921\n",
            "      4  fg = [0, 1, 2]  bg = [3, 4, 5, 6, 7, 8, 9]  NA                     10000       9921       99.21   99.19    0.02    0.79     0               9359\n",
            "      5  fg = [0, 1, 2]  bg = [3, 4, 5, 6, 7, 8, 9]  NA                     10000       9922       99.22   99.11    0.11    0.78     0               9925\n",
            " \n",
            "================================================================================================================================================================\n",
            " \n",
            "================================================================================================================================================================\n",
            "  S.No.  fg_class        bg_class                    Epoch used      total_points    correct    accuracy    FTPT    FFPT    FTPF    FFPF    avg_img > 0.5\n",
            "-------  --------------  --------------------------  ------------  --------------  ---------  ----------  ------  ------  ------  ------  ---------------\n",
            "      1  fg = [0, 1, 2]  bg = [3, 4, 5, 6, 7, 8, 9]  NA                     10000       3377       33.77   10.53   23.24   11.48   54.75              401\n",
            "      2  fg = [0, 1, 2]  bg = [3, 4, 5, 6, 7, 8, 9]  NA                     10000       3347       33.47    1.62   31.85    8.86   57.67                0\n",
            "      3  fg = [0, 1, 2]  bg = [3, 4, 5, 6, 7, 8, 9]  NA                     10000       3434       34.34    3.66   30.68   12.91   52.75                0\n",
            "      4  fg = [0, 1, 2]  bg = [3, 4, 5, 6, 7, 8, 9]  NA                     10000       3347       33.47    0.7    32.77    8.21   58.32                0\n",
            "      5  fg = [0, 1, 2]  bg = [3, 4, 5, 6, 7, 8, 9]  NA                     10000       3347       33.47    3.62   29.85   10.82   55.71                0\n",
            " \n",
            "================================================================================================================================================================\n",
            " \n",
            "================================================================================================================================================================\n",
            "  S.No.  fg_class        bg_class                    Epoch used      total_points    correct    accuracy    FTPT    FFPT    FTPF    FFPF    avg_img > 0.5\n",
            "-------  --------------  --------------------------  ------------  --------------  ---------  ----------  ------  ------  ------  ------  ---------------\n",
            "      1  fg = [0, 1, 2]  bg = [3, 4, 5, 6, 7, 8, 9]  NA                     10000       3368       33.68   10.97   22.71   12.63   53.69              406\n",
            "      2  fg = [0, 1, 2]  bg = [3, 4, 5, 6, 7, 8, 9]  NA                     10000       3302       33.02    1.58   31.44    9.64   57.34                0\n",
            "      3  fg = [0, 1, 2]  bg = [3, 4, 5, 6, 7, 8, 9]  NA                     10000       3447       34.47    3.78   30.69   12.69   52.84                0\n",
            "      4  fg = [0, 1, 2]  bg = [3, 4, 5, 6, 7, 8, 9]  NA                     10000       3302       33.02    0.82   32.2     9.42   57.56                0\n",
            "      5  fg = [0, 1, 2]  bg = [3, 4, 5, 6, 7, 8, 9]  NA                     10000       3302       33.02    3.89   29.13   10.65   56.33                0\n",
            " \n",
            "================================================================================================================================================================\n",
            "[1,    40] loss: 1.102\n",
            "[1,    80] loss: 1.099\n",
            "[1,   120] loss: 1.099\n",
            "[2,    40] loss: 1.099\n",
            "[2,    80] loss: 1.099\n",
            "[2,   120] loss: 1.099\n",
            "[3,    40] loss: 1.099\n",
            "[3,    80] loss: 1.099\n",
            "[3,   120] loss: 1.098\n",
            "[4,    40] loss: 1.098\n",
            "[4,    80] loss: 1.099\n",
            "[4,   120] loss: 1.099\n",
            "[5,    40] loss: 1.099\n",
            "[5,    80] loss: 1.098\n",
            "[5,   120] loss: 1.099\n",
            "[6,    40] loss: 1.098\n",
            "[6,    80] loss: 1.098\n",
            "[6,   120] loss: 1.099\n",
            "[7,    40] loss: 1.098\n",
            "[7,    80] loss: 1.098\n",
            "[7,   120] loss: 1.099\n",
            "[8,    40] loss: 1.098\n",
            "[8,    80] loss: 1.099\n",
            "[8,   120] loss: 1.098\n",
            "[9,    40] loss: 1.098\n",
            "[9,    80] loss: 1.098\n",
            "[9,   120] loss: 1.099\n",
            "[10,    40] loss: 1.098\n",
            "[10,    80] loss: 1.098\n",
            "[10,   120] loss: 1.099\n",
            "[11,    40] loss: 1.098\n",
            "[11,    80] loss: 1.098\n",
            "[11,   120] loss: 1.098\n",
            "[12,    40] loss: 1.098\n",
            "[12,    80] loss: 1.098\n",
            "[12,   120] loss: 1.098\n",
            "[13,    40] loss: 1.098\n",
            "[13,    80] loss: 1.098\n",
            "[13,   120] loss: 1.098\n",
            "[14,    40] loss: 1.098\n",
            "[14,    80] loss: 1.098\n",
            "[14,   120] loss: 1.097\n",
            "[15,    40] loss: 1.097\n",
            "[15,    80] loss: 1.097\n",
            "[15,   120] loss: 1.097\n",
            "[16,    40] loss: 1.097\n",
            "[16,    80] loss: 1.096\n",
            "[16,   120] loss: 1.096\n",
            "[17,    40] loss: 1.095\n",
            "[17,    80] loss: 1.094\n",
            "[17,   120] loss: 1.094\n",
            "[18,    40] loss: 1.092\n",
            "[18,    80] loss: 1.091\n",
            "[18,   120] loss: 1.089\n",
            "[19,    40] loss: 1.087\n",
            "[19,    80] loss: 1.085\n",
            "[19,   120] loss: 1.084\n",
            "[20,    40] loss: 1.081\n",
            "[20,    80] loss: 1.078\n",
            "[20,   120] loss: 1.076\n",
            "[21,    40] loss: 1.073\n",
            "[21,    80] loss: 1.067\n",
            "[21,   120] loss: 1.056\n",
            "[22,    40] loss: 1.034\n",
            "[22,    80] loss: 0.971\n",
            "[22,   120] loss: 0.771\n",
            "[23,    40] loss: 0.636\n",
            "[23,    80] loss: 0.530\n",
            "[23,   120] loss: 0.416\n",
            "[24,    40] loss: 0.275\n",
            "[24,    80] loss: 0.141\n",
            "[24,   120] loss: 0.076\n",
            "[25,    40] loss: 0.039\n",
            "[25,    80] loss: 0.015\n",
            "[25,   120] loss: 0.020\n",
            "Finished Training\n",
            " \n",
            "================================================================================================================================================================\n",
            "  S.No.  fg_class        bg_class                      Epoch used    total_points    correct    accuracy     FTPT         FFPT      FTPF        FFPF    avg_img > 0.5\n",
            "-------  --------------  --------------------------  ------------  --------------  ---------  ----------  -------  -----------  --------  ----------  ---------------\n",
            "      1  fg = [0, 1, 2]  bg = [3, 4, 5, 6, 7, 8, 9]            16           30000      29949     99.83    99.83     0           0.17      0                     30000\n",
            "      2  fg = [0, 1, 2]  bg = [3, 4, 5, 6, 7, 8, 9]            19           30000      29757     99.19    39.8533  59.3367      0.113333  0.696667                  0\n",
            "      3  fg = [0, 1, 2]  bg = [3, 4, 5, 6, 7, 8, 9]            15           30000      29882     99.6067  99.6033   0.00333333  0.393333  0                     29739\n",
            "      4  fg = [0, 1, 2]  bg = [3, 4, 5, 6, 7, 8, 9]            22           30000      29866     99.5533  99.53     0.0233333   0.446667  0                     28122\n",
            "      5  fg = [0, 1, 2]  bg = [3, 4, 5, 6, 7, 8, 9]            19           30000      29848     99.4933  99.4633   0.03        0.5       0.00666667            29863\n",
            "      6  fg = [0, 1, 2]  bg = [3, 4, 5, 6, 7, 8, 9]            24           30000      29923     99.7433  99.7433   0           0.256667  0                     30000\n",
            " \n",
            "================================================================================================================================================================\n",
            " \n",
            "================================================================================================================================================================\n",
            "  S.No.  fg_class        bg_class                    Epoch used      total_points    correct    accuracy    FTPT    FFPT    FTPF    FFPF    avg_img > 0.5\n",
            "-------  --------------  --------------------------  ------------  --------------  ---------  ----------  ------  ------  ------  ------  ---------------\n",
            "      1  fg = [0, 1, 2]  bg = [3, 4, 5, 6, 7, 8, 9]  NA                     10000       9978       99.78   99.78    0       0.22    0               10000\n",
            "      2  fg = [0, 1, 2]  bg = [3, 4, 5, 6, 7, 8, 9]  NA                     10000       9916       99.16   40.53   58.63    0.11    0.73                0\n",
            "      3  fg = [0, 1, 2]  bg = [3, 4, 5, 6, 7, 8, 9]  NA                     10000       9959       99.59   99.59    0       0.41    0                9916\n",
            "      4  fg = [0, 1, 2]  bg = [3, 4, 5, 6, 7, 8, 9]  NA                     10000       9935       99.35   99.33    0.02    0.65    0                9431\n",
            "      5  fg = [0, 1, 2]  bg = [3, 4, 5, 6, 7, 8, 9]  NA                     10000       9933       99.33   99.29    0.04    0.65    0.02             9951\n",
            "      6  fg = [0, 1, 2]  bg = [3, 4, 5, 6, 7, 8, 9]  NA                     10000       9965       99.65   99.65    0       0.35    0               10000\n",
            " \n",
            "================================================================================================================================================================\n",
            " \n",
            "================================================================================================================================================================\n",
            "  S.No.  fg_class        bg_class                    Epoch used      total_points    correct    accuracy    FTPT    FFPT    FTPF    FFPF    avg_img > 0.5\n",
            "-------  --------------  --------------------------  ------------  --------------  ---------  ----------  ------  ------  ------  ------  ---------------\n",
            "      1  fg = [0, 1, 2]  bg = [3, 4, 5, 6, 7, 8, 9]  NA                     10000       9974       99.74   99.74    0       0.26     0              10000\n",
            "      2  fg = [0, 1, 2]  bg = [3, 4, 5, 6, 7, 8, 9]  NA                     10000       9914       99.14   38.58   60.56    0.26     0.6                0\n",
            "      3  fg = [0, 1, 2]  bg = [3, 4, 5, 6, 7, 8, 9]  NA                     10000       9944       99.44   99.44    0       0.56     0               9921\n",
            "      4  fg = [0, 1, 2]  bg = [3, 4, 5, 6, 7, 8, 9]  NA                     10000       9921       99.21   99.19    0.02    0.79     0               9359\n",
            "      5  fg = [0, 1, 2]  bg = [3, 4, 5, 6, 7, 8, 9]  NA                     10000       9922       99.22   99.11    0.11    0.78     0               9925\n",
            "      6  fg = [0, 1, 2]  bg = [3, 4, 5, 6, 7, 8, 9]  NA                     10000       9960       99.6    99.6     0       0.4      0              10000\n",
            " \n",
            "================================================================================================================================================================\n",
            " \n",
            "================================================================================================================================================================\n",
            "  S.No.  fg_class        bg_class                    Epoch used      total_points    correct    accuracy    FTPT    FFPT    FTPF    FFPF    avg_img > 0.5\n",
            "-------  --------------  --------------------------  ------------  --------------  ---------  ----------  ------  ------  ------  ------  ---------------\n",
            "      1  fg = [0, 1, 2]  bg = [3, 4, 5, 6, 7, 8, 9]  NA                     10000       3377       33.77   10.53   23.24   11.48   54.75              401\n",
            "      2  fg = [0, 1, 2]  bg = [3, 4, 5, 6, 7, 8, 9]  NA                     10000       3347       33.47    1.62   31.85    8.86   57.67                0\n",
            "      3  fg = [0, 1, 2]  bg = [3, 4, 5, 6, 7, 8, 9]  NA                     10000       3434       34.34    3.66   30.68   12.91   52.75                0\n",
            "      4  fg = [0, 1, 2]  bg = [3, 4, 5, 6, 7, 8, 9]  NA                     10000       3347       33.47    0.7    32.77    8.21   58.32                0\n",
            "      5  fg = [0, 1, 2]  bg = [3, 4, 5, 6, 7, 8, 9]  NA                     10000       3347       33.47    3.62   29.85   10.82   55.71                0\n",
            "      6  fg = [0, 1, 2]  bg = [3, 4, 5, 6, 7, 8, 9]  NA                     10000       3887       38.87    4.47   34.4    13.12   48.01                0\n",
            " \n",
            "================================================================================================================================================================\n",
            " \n",
            "================================================================================================================================================================\n",
            "  S.No.  fg_class        bg_class                    Epoch used      total_points    correct    accuracy    FTPT    FFPT    FTPF    FFPF    avg_img > 0.5\n",
            "-------  --------------  --------------------------  ------------  --------------  ---------  ----------  ------  ------  ------  ------  ---------------\n",
            "      1  fg = [0, 1, 2]  bg = [3, 4, 5, 6, 7, 8, 9]  NA                     10000       3368       33.68   10.97   22.71   12.63   53.69              406\n",
            "      2  fg = [0, 1, 2]  bg = [3, 4, 5, 6, 7, 8, 9]  NA                     10000       3302       33.02    1.58   31.44    9.64   57.34                0\n",
            "      3  fg = [0, 1, 2]  bg = [3, 4, 5, 6, 7, 8, 9]  NA                     10000       3447       34.47    3.78   30.69   12.69   52.84                0\n",
            "      4  fg = [0, 1, 2]  bg = [3, 4, 5, 6, 7, 8, 9]  NA                     10000       3302       33.02    0.82   32.2     9.42   57.56                0\n",
            "      5  fg = [0, 1, 2]  bg = [3, 4, 5, 6, 7, 8, 9]  NA                     10000       3302       33.02    3.89   29.13   10.65   56.33                0\n",
            "      6  fg = [0, 1, 2]  bg = [3, 4, 5, 6, 7, 8, 9]  NA                     10000       3835       38.35    4.36   33.99   13.38   48.27                0\n",
            " \n",
            "================================================================================================================================================================\n",
            "[1,    40] loss: 1.100\n",
            "[1,    80] loss: 1.098\n",
            "[1,   120] loss: 1.099\n",
            "[2,    40] loss: 1.099\n",
            "[2,    80] loss: 1.098\n",
            "[2,   120] loss: 1.098\n",
            "[3,    40] loss: 1.098\n",
            "[3,    80] loss: 1.098\n",
            "[3,   120] loss: 1.098\n",
            "[4,    40] loss: 1.098\n",
            "[4,    80] loss: 1.098\n",
            "[4,   120] loss: 1.098\n",
            "[5,    40] loss: 1.098\n",
            "[5,    80] loss: 1.097\n",
            "[5,   120] loss: 1.097\n",
            "[6,    40] loss: 1.097\n",
            "[6,    80] loss: 1.096\n",
            "[6,   120] loss: 1.096\n",
            "[7,    40] loss: 1.095\n",
            "[7,    80] loss: 1.094\n",
            "[7,   120] loss: 1.093\n",
            "[8,    40] loss: 1.091\n",
            "[8,    80] loss: 1.089\n",
            "[8,   120] loss: 1.087\n",
            "[9,    40] loss: 1.085\n",
            "[9,    80] loss: 1.083\n",
            "[9,   120] loss: 1.082\n",
            "[10,    40] loss: 1.078\n",
            "[10,    80] loss: 1.074\n",
            "[10,   120] loss: 1.063\n",
            "[11,    40] loss: 1.043\n",
            "[11,    80] loss: 0.933\n",
            "[11,   120] loss: 0.654\n",
            "[12,    40] loss: 0.577\n",
            "[12,    80] loss: 0.523\n",
            "[12,   120] loss: 0.494\n",
            "[13,    40] loss: 0.408\n",
            "[13,    80] loss: 0.317\n",
            "[13,   120] loss: 0.210\n",
            "[14,    40] loss: 0.143\n",
            "[14,    80] loss: 0.116\n",
            "[14,   120] loss: 0.081\n",
            "[15,    40] loss: 0.061\n",
            "[15,    80] loss: 0.044\n",
            "[15,   120] loss: 0.040\n",
            "Finished Training\n",
            " \n",
            "================================================================================================================================================================\n",
            "  S.No.  fg_class        bg_class                      Epoch used    total_points    correct    accuracy     FTPT         FFPT      FTPF        FFPF    avg_img > 0.5\n",
            "-------  --------------  --------------------------  ------------  --------------  ---------  ----------  -------  -----------  --------  ----------  ---------------\n",
            "      1  fg = [0, 1, 2]  bg = [3, 4, 5, 6, 7, 8, 9]            16           30000      29949     99.83    99.83     0           0.17      0                     30000\n",
            "      2  fg = [0, 1, 2]  bg = [3, 4, 5, 6, 7, 8, 9]            19           30000      29757     99.19    39.8533  59.3367      0.113333  0.696667                  0\n",
            "      3  fg = [0, 1, 2]  bg = [3, 4, 5, 6, 7, 8, 9]            15           30000      29882     99.6067  99.6033   0.00333333  0.393333  0                     29739\n",
            "      4  fg = [0, 1, 2]  bg = [3, 4, 5, 6, 7, 8, 9]            22           30000      29866     99.5533  99.53     0.0233333   0.446667  0                     28122\n",
            "      5  fg = [0, 1, 2]  bg = [3, 4, 5, 6, 7, 8, 9]            19           30000      29848     99.4933  99.4633   0.03        0.5       0.00666667            29863\n",
            "      6  fg = [0, 1, 2]  bg = [3, 4, 5, 6, 7, 8, 9]            24           30000      29923     99.7433  99.7433   0           0.256667  0                     30000\n",
            "      7  fg = [0, 1, 2]  bg = [3, 4, 5, 6, 7, 8, 9]            14           30000      29355     97.85    70.57    27.28        1.88667   0.263333                  0\n",
            " \n",
            "================================================================================================================================================================\n",
            " \n",
            "================================================================================================================================================================\n",
            "  S.No.  fg_class        bg_class                    Epoch used      total_points    correct    accuracy    FTPT    FFPT    FTPF    FFPF    avg_img > 0.5\n",
            "-------  --------------  --------------------------  ------------  --------------  ---------  ----------  ------  ------  ------  ------  ---------------\n",
            "      1  fg = [0, 1, 2]  bg = [3, 4, 5, 6, 7, 8, 9]  NA                     10000       9978       99.78   99.78    0       0.22    0               10000\n",
            "      2  fg = [0, 1, 2]  bg = [3, 4, 5, 6, 7, 8, 9]  NA                     10000       9916       99.16   40.53   58.63    0.11    0.73                0\n",
            "      3  fg = [0, 1, 2]  bg = [3, 4, 5, 6, 7, 8, 9]  NA                     10000       9959       99.59   99.59    0       0.41    0                9916\n",
            "      4  fg = [0, 1, 2]  bg = [3, 4, 5, 6, 7, 8, 9]  NA                     10000       9935       99.35   99.33    0.02    0.65    0                9431\n",
            "      5  fg = [0, 1, 2]  bg = [3, 4, 5, 6, 7, 8, 9]  NA                     10000       9933       99.33   99.29    0.04    0.65    0.02             9951\n",
            "      6  fg = [0, 1, 2]  bg = [3, 4, 5, 6, 7, 8, 9]  NA                     10000       9965       99.65   99.65    0       0.35    0               10000\n",
            "      7  fg = [0, 1, 2]  bg = [3, 4, 5, 6, 7, 8, 9]  NA                     10000       9748       97.48   71.18   26.3     2.24    0.28                0\n",
            " \n",
            "================================================================================================================================================================\n",
            " \n",
            "================================================================================================================================================================\n",
            "  S.No.  fg_class        bg_class                    Epoch used      total_points    correct    accuracy    FTPT    FFPT    FTPF    FFPF    avg_img > 0.5\n",
            "-------  --------------  --------------------------  ------------  --------------  ---------  ----------  ------  ------  ------  ------  ---------------\n",
            "      1  fg = [0, 1, 2]  bg = [3, 4, 5, 6, 7, 8, 9]  NA                     10000       9974       99.74   99.74    0       0.26    0               10000\n",
            "      2  fg = [0, 1, 2]  bg = [3, 4, 5, 6, 7, 8, 9]  NA                     10000       9914       99.14   38.58   60.56    0.26    0.6                 0\n",
            "      3  fg = [0, 1, 2]  bg = [3, 4, 5, 6, 7, 8, 9]  NA                     10000       9944       99.44   99.44    0       0.56    0                9921\n",
            "      4  fg = [0, 1, 2]  bg = [3, 4, 5, 6, 7, 8, 9]  NA                     10000       9921       99.21   99.19    0.02    0.79    0                9359\n",
            "      5  fg = [0, 1, 2]  bg = [3, 4, 5, 6, 7, 8, 9]  NA                     10000       9922       99.22   99.11    0.11    0.78    0                9925\n",
            "      6  fg = [0, 1, 2]  bg = [3, 4, 5, 6, 7, 8, 9]  NA                     10000       9960       99.6    99.6     0       0.4     0               10000\n",
            "      7  fg = [0, 1, 2]  bg = [3, 4, 5, 6, 7, 8, 9]  NA                     10000       9806       98.06   70.98   27.08    1.58    0.36                0\n",
            " \n",
            "================================================================================================================================================================\n",
            " \n",
            "================================================================================================================================================================\n",
            "  S.No.  fg_class        bg_class                    Epoch used      total_points    correct    accuracy    FTPT    FFPT    FTPF    FFPF    avg_img > 0.5\n",
            "-------  --------------  --------------------------  ------------  --------------  ---------  ----------  ------  ------  ------  ------  ---------------\n",
            "      1  fg = [0, 1, 2]  bg = [3, 4, 5, 6, 7, 8, 9]  NA                     10000       3377       33.77   10.53   23.24   11.48   54.75              401\n",
            "      2  fg = [0, 1, 2]  bg = [3, 4, 5, 6, 7, 8, 9]  NA                     10000       3347       33.47    1.62   31.85    8.86   57.67                0\n",
            "      3  fg = [0, 1, 2]  bg = [3, 4, 5, 6, 7, 8, 9]  NA                     10000       3434       34.34    3.66   30.68   12.91   52.75                0\n",
            "      4  fg = [0, 1, 2]  bg = [3, 4, 5, 6, 7, 8, 9]  NA                     10000       3347       33.47    0.7    32.77    8.21   58.32                0\n",
            "      5  fg = [0, 1, 2]  bg = [3, 4, 5, 6, 7, 8, 9]  NA                     10000       3347       33.47    3.62   29.85   10.82   55.71                0\n",
            "      6  fg = [0, 1, 2]  bg = [3, 4, 5, 6, 7, 8, 9]  NA                     10000       3887       38.87    4.47   34.4    13.12   48.01                0\n",
            "      7  fg = [0, 1, 2]  bg = [3, 4, 5, 6, 7, 8, 9]  NA                     10000       3411       34.11    3.44   30.67   15.36   50.53                0\n",
            " \n",
            "================================================================================================================================================================\n",
            " \n",
            "================================================================================================================================================================\n",
            "  S.No.  fg_class        bg_class                    Epoch used      total_points    correct    accuracy    FTPT    FFPT    FTPF    FFPF    avg_img > 0.5\n",
            "-------  --------------  --------------------------  ------------  --------------  ---------  ----------  ------  ------  ------  ------  ---------------\n",
            "      1  fg = [0, 1, 2]  bg = [3, 4, 5, 6, 7, 8, 9]  NA                     10000       3368       33.68   10.97   22.71   12.63   53.69              406\n",
            "      2  fg = [0, 1, 2]  bg = [3, 4, 5, 6, 7, 8, 9]  NA                     10000       3302       33.02    1.58   31.44    9.64   57.34                0\n",
            "      3  fg = [0, 1, 2]  bg = [3, 4, 5, 6, 7, 8, 9]  NA                     10000       3447       34.47    3.78   30.69   12.69   52.84                0\n",
            "      4  fg = [0, 1, 2]  bg = [3, 4, 5, 6, 7, 8, 9]  NA                     10000       3302       33.02    0.82   32.2     9.42   57.56                0\n",
            "      5  fg = [0, 1, 2]  bg = [3, 4, 5, 6, 7, 8, 9]  NA                     10000       3302       33.02    3.89   29.13   10.65   56.33                0\n",
            "      6  fg = [0, 1, 2]  bg = [3, 4, 5, 6, 7, 8, 9]  NA                     10000       3835       38.35    4.36   33.99   13.38   48.27                0\n",
            "      7  fg = [0, 1, 2]  bg = [3, 4, 5, 6, 7, 8, 9]  NA                     10000       3320       33.2     3.63   29.57   15.78   51.02                0\n",
            " \n",
            "================================================================================================================================================================\n",
            "[1,    40] loss: 1.106\n",
            "[1,    80] loss: 1.099\n",
            "[1,   120] loss: 1.098\n",
            "[2,    40] loss: 1.098\n",
            "[2,    80] loss: 1.099\n",
            "[2,   120] loss: 1.099\n",
            "[3,    40] loss: 1.098\n",
            "[3,    80] loss: 1.099\n",
            "[3,   120] loss: 1.099\n",
            "[4,    40] loss: 1.098\n",
            "[4,    80] loss: 1.098\n",
            "[4,   120] loss: 1.098\n",
            "[5,    40] loss: 1.098\n",
            "[5,    80] loss: 1.098\n",
            "[5,   120] loss: 1.098\n",
            "[6,    40] loss: 1.098\n",
            "[6,    80] loss: 1.098\n",
            "[6,   120] loss: 1.098\n",
            "[7,    40] loss: 1.098\n",
            "[7,    80] loss: 1.098\n",
            "[7,   120] loss: 1.097\n",
            "[8,    40] loss: 1.097\n",
            "[8,    80] loss: 1.097\n",
            "[8,   120] loss: 1.096\n",
            "[9,    40] loss: 1.095\n",
            "[9,    80] loss: 1.094\n",
            "[9,   120] loss: 1.093\n",
            "[10,    40] loss: 1.092\n",
            "[10,    80] loss: 1.091\n",
            "[10,   120] loss: 1.090\n",
            "[11,    40] loss: 1.090\n",
            "[11,    80] loss: 1.088\n",
            "[11,   120] loss: 1.083\n",
            "[12,    40] loss: 1.085\n",
            "[12,    80] loss: 1.082\n",
            "[12,   120] loss: 1.082\n",
            "[13,    40] loss: 1.079\n",
            "[13,    80] loss: 1.075\n",
            "[13,   120] loss: 1.080\n",
            "[14,    40] loss: 1.072\n",
            "[14,    80] loss: 1.066\n",
            "[14,   120] loss: 1.066\n",
            "[15,    40] loss: 1.048\n",
            "[15,    80] loss: 0.993\n",
            "[15,   120] loss: 0.858\n",
            "[16,    40] loss: 0.739\n",
            "[16,    80] loss: 0.571\n",
            "[16,   120] loss: 0.402\n",
            "[17,    40] loss: 0.237\n",
            "[17,    80] loss: 0.136\n",
            "[17,   120] loss: 0.078\n",
            "[18,    40] loss: 0.051\n",
            "[18,    80] loss: 0.039\n",
            "[18,   120] loss: 0.026\n",
            "Finished Training\n",
            " \n",
            "================================================================================================================================================================\n",
            "  S.No.  fg_class        bg_class                      Epoch used    total_points    correct    accuracy     FTPT         FFPT      FTPF        FFPF    avg_img > 0.5\n",
            "-------  --------------  --------------------------  ------------  --------------  ---------  ----------  -------  -----------  --------  ----------  ---------------\n",
            "      1  fg = [0, 1, 2]  bg = [3, 4, 5, 6, 7, 8, 9]            16           30000      29949     99.83    99.83     0           0.17      0                     30000\n",
            "      2  fg = [0, 1, 2]  bg = [3, 4, 5, 6, 7, 8, 9]            19           30000      29757     99.19    39.8533  59.3367      0.113333  0.696667                  0\n",
            "      3  fg = [0, 1, 2]  bg = [3, 4, 5, 6, 7, 8, 9]            15           30000      29882     99.6067  99.6033   0.00333333  0.393333  0                     29739\n",
            "      4  fg = [0, 1, 2]  bg = [3, 4, 5, 6, 7, 8, 9]            22           30000      29866     99.5533  99.53     0.0233333   0.446667  0                     28122\n",
            "      5  fg = [0, 1, 2]  bg = [3, 4, 5, 6, 7, 8, 9]            19           30000      29848     99.4933  99.4633   0.03        0.5       0.00666667            29863\n",
            "      6  fg = [0, 1, 2]  bg = [3, 4, 5, 6, 7, 8, 9]            24           30000      29923     99.7433  99.7433   0           0.256667  0                     30000\n",
            "      7  fg = [0, 1, 2]  bg = [3, 4, 5, 6, 7, 8, 9]            14           30000      29355     97.85    70.57    27.28        1.88667   0.263333                  0\n",
            "      8  fg = [0, 1, 2]  bg = [3, 4, 5, 6, 7, 8, 9]            17           30000      29846     99.4867  99.4867   0           0.513333  0                       463\n",
            " \n",
            "================================================================================================================================================================\n",
            " \n",
            "================================================================================================================================================================\n",
            "  S.No.  fg_class        bg_class                    Epoch used      total_points    correct    accuracy    FTPT    FFPT    FTPF    FFPF    avg_img > 0.5\n",
            "-------  --------------  --------------------------  ------------  --------------  ---------  ----------  ------  ------  ------  ------  ---------------\n",
            "      1  fg = [0, 1, 2]  bg = [3, 4, 5, 6, 7, 8, 9]  NA                     10000       9978       99.78   99.78    0       0.22    0               10000\n",
            "      2  fg = [0, 1, 2]  bg = [3, 4, 5, 6, 7, 8, 9]  NA                     10000       9916       99.16   40.53   58.63    0.11    0.73                0\n",
            "      3  fg = [0, 1, 2]  bg = [3, 4, 5, 6, 7, 8, 9]  NA                     10000       9959       99.59   99.59    0       0.41    0                9916\n",
            "      4  fg = [0, 1, 2]  bg = [3, 4, 5, 6, 7, 8, 9]  NA                     10000       9935       99.35   99.33    0.02    0.65    0                9431\n",
            "      5  fg = [0, 1, 2]  bg = [3, 4, 5, 6, 7, 8, 9]  NA                     10000       9933       99.33   99.29    0.04    0.65    0.02             9951\n",
            "      6  fg = [0, 1, 2]  bg = [3, 4, 5, 6, 7, 8, 9]  NA                     10000       9965       99.65   99.65    0       0.35    0               10000\n",
            "      7  fg = [0, 1, 2]  bg = [3, 4, 5, 6, 7, 8, 9]  NA                     10000       9748       97.48   71.18   26.3     2.24    0.28                0\n",
            "      8  fg = [0, 1, 2]  bg = [3, 4, 5, 6, 7, 8, 9]  NA                     10000       9941       99.41   99.41    0       0.59    0                 157\n",
            " \n",
            "================================================================================================================================================================\n",
            " \n",
            "================================================================================================================================================================\n",
            "  S.No.  fg_class        bg_class                    Epoch used      total_points    correct    accuracy    FTPT    FFPT    FTPF    FFPF    avg_img > 0.5\n",
            "-------  --------------  --------------------------  ------------  --------------  ---------  ----------  ------  ------  ------  ------  ---------------\n",
            "      1  fg = [0, 1, 2]  bg = [3, 4, 5, 6, 7, 8, 9]  NA                     10000       9974       99.74   99.74    0       0.26    0               10000\n",
            "      2  fg = [0, 1, 2]  bg = [3, 4, 5, 6, 7, 8, 9]  NA                     10000       9914       99.14   38.58   60.56    0.26    0.6                 0\n",
            "      3  fg = [0, 1, 2]  bg = [3, 4, 5, 6, 7, 8, 9]  NA                     10000       9944       99.44   99.44    0       0.56    0                9921\n",
            "      4  fg = [0, 1, 2]  bg = [3, 4, 5, 6, 7, 8, 9]  NA                     10000       9921       99.21   99.19    0.02    0.79    0                9359\n",
            "      5  fg = [0, 1, 2]  bg = [3, 4, 5, 6, 7, 8, 9]  NA                     10000       9922       99.22   99.11    0.11    0.78    0                9925\n",
            "      6  fg = [0, 1, 2]  bg = [3, 4, 5, 6, 7, 8, 9]  NA                     10000       9960       99.6    99.6     0       0.4     0               10000\n",
            "      7  fg = [0, 1, 2]  bg = [3, 4, 5, 6, 7, 8, 9]  NA                     10000       9806       98.06   70.98   27.08    1.58    0.36                0\n",
            "      8  fg = [0, 1, 2]  bg = [3, 4, 5, 6, 7, 8, 9]  NA                     10000       9947       99.47   99.47    0       0.53    0                 131\n",
            " \n",
            "================================================================================================================================================================\n",
            " \n",
            "================================================================================================================================================================\n",
            "  S.No.  fg_class        bg_class                    Epoch used      total_points    correct    accuracy    FTPT    FFPT    FTPF    FFPF    avg_img > 0.5\n",
            "-------  --------------  --------------------------  ------------  --------------  ---------  ----------  ------  ------  ------  ------  ---------------\n",
            "      1  fg = [0, 1, 2]  bg = [3, 4, 5, 6, 7, 8, 9]  NA                     10000       3377       33.77   10.53   23.24   11.48   54.75              401\n",
            "      2  fg = [0, 1, 2]  bg = [3, 4, 5, 6, 7, 8, 9]  NA                     10000       3347       33.47    1.62   31.85    8.86   57.67                0\n",
            "      3  fg = [0, 1, 2]  bg = [3, 4, 5, 6, 7, 8, 9]  NA                     10000       3434       34.34    3.66   30.68   12.91   52.75                0\n",
            "      4  fg = [0, 1, 2]  bg = [3, 4, 5, 6, 7, 8, 9]  NA                     10000       3347       33.47    0.7    32.77    8.21   58.32                0\n",
            "      5  fg = [0, 1, 2]  bg = [3, 4, 5, 6, 7, 8, 9]  NA                     10000       3347       33.47    3.62   29.85   10.82   55.71                0\n",
            "      6  fg = [0, 1, 2]  bg = [3, 4, 5, 6, 7, 8, 9]  NA                     10000       3887       38.87    4.47   34.4    13.12   48.01                0\n",
            "      7  fg = [0, 1, 2]  bg = [3, 4, 5, 6, 7, 8, 9]  NA                     10000       3411       34.11    3.44   30.67   15.36   50.53                0\n",
            "      8  fg = [0, 1, 2]  bg = [3, 4, 5, 6, 7, 8, 9]  NA                     10000       3211       32.11    5.39   26.72    8.3    59.59                0\n",
            " \n",
            "================================================================================================================================================================\n",
            " \n",
            "================================================================================================================================================================\n",
            "  S.No.  fg_class        bg_class                    Epoch used      total_points    correct    accuracy    FTPT    FFPT    FTPF    FFPF    avg_img > 0.5\n",
            "-------  --------------  --------------------------  ------------  --------------  ---------  ----------  ------  ------  ------  ------  ---------------\n",
            "      1  fg = [0, 1, 2]  bg = [3, 4, 5, 6, 7, 8, 9]  NA                     10000       3368       33.68   10.97   22.71   12.63   53.69              406\n",
            "      2  fg = [0, 1, 2]  bg = [3, 4, 5, 6, 7, 8, 9]  NA                     10000       3302       33.02    1.58   31.44    9.64   57.34                0\n",
            "      3  fg = [0, 1, 2]  bg = [3, 4, 5, 6, 7, 8, 9]  NA                     10000       3447       34.47    3.78   30.69   12.69   52.84                0\n",
            "      4  fg = [0, 1, 2]  bg = [3, 4, 5, 6, 7, 8, 9]  NA                     10000       3302       33.02    0.82   32.2     9.42   57.56                0\n",
            "      5  fg = [0, 1, 2]  bg = [3, 4, 5, 6, 7, 8, 9]  NA                     10000       3302       33.02    3.89   29.13   10.65   56.33                0\n",
            "      6  fg = [0, 1, 2]  bg = [3, 4, 5, 6, 7, 8, 9]  NA                     10000       3835       38.35    4.36   33.99   13.38   48.27                0\n",
            "      7  fg = [0, 1, 2]  bg = [3, 4, 5, 6, 7, 8, 9]  NA                     10000       3320       33.2     3.63   29.57   15.78   51.02                0\n",
            "      8  fg = [0, 1, 2]  bg = [3, 4, 5, 6, 7, 8, 9]  NA                     10000       3264       32.64    5.72   26.92    8.63   58.73                0\n",
            " \n",
            "================================================================================================================================================================\n",
            "[1,    40] loss: 1.099\n",
            "[1,    80] loss: 1.098\n",
            "[1,   120] loss: 1.098\n",
            "[2,    40] loss: 1.098\n",
            "[2,    80] loss: 1.098\n",
            "[2,   120] loss: 1.098\n",
            "[3,    40] loss: 1.098\n",
            "[3,    80] loss: 1.098\n",
            "[3,   120] loss: 1.098\n",
            "[4,    40] loss: 1.098\n",
            "[4,    80] loss: 1.098\n",
            "[4,   120] loss: 1.098\n",
            "[5,    40] loss: 1.098\n",
            "[5,    80] loss: 1.097\n",
            "[5,   120] loss: 1.097\n",
            "[6,    40] loss: 1.097\n",
            "[6,    80] loss: 1.097\n",
            "[6,   120] loss: 1.096\n",
            "[7,    40] loss: 1.095\n",
            "[7,    80] loss: 1.094\n",
            "[7,   120] loss: 1.094\n",
            "[8,    40] loss: 1.092\n",
            "[8,    80] loss: 1.090\n",
            "[8,   120] loss: 1.088\n",
            "[9,    40] loss: 1.084\n",
            "[9,    80] loss: 1.085\n",
            "[9,   120] loss: 1.082\n",
            "[10,    40] loss: 1.079\n",
            "[10,    80] loss: 1.076\n",
            "[10,   120] loss: 1.076\n",
            "[11,    40] loss: 1.074\n",
            "[11,    80] loss: 1.070\n",
            "[11,   120] loss: 1.068\n",
            "[12,    40] loss: 1.063\n",
            "[12,    80] loss: 1.061\n",
            "[12,   120] loss: 1.062\n",
            "[13,    40] loss: 1.049\n",
            "[13,    80] loss: 1.050\n",
            "[13,   120] loss: 1.039\n",
            "[14,    40] loss: 0.981\n",
            "[14,    80] loss: 0.686\n",
            "[14,   120] loss: 0.255\n",
            "[15,    40] loss: 0.086\n",
            "[15,    80] loss: 0.034\n",
            "[15,   120] loss: 0.022\n",
            "Finished Training\n",
            " \n",
            "================================================================================================================================================================\n",
            "  S.No.  fg_class        bg_class                      Epoch used    total_points    correct    accuracy     FTPT         FFPT      FTPF        FFPF    avg_img > 0.5\n",
            "-------  --------------  --------------------------  ------------  --------------  ---------  ----------  -------  -----------  --------  ----------  ---------------\n",
            "      1  fg = [0, 1, 2]  bg = [3, 4, 5, 6, 7, 8, 9]            16           30000      29949     99.83    99.83     0           0.17      0                     30000\n",
            "      2  fg = [0, 1, 2]  bg = [3, 4, 5, 6, 7, 8, 9]            19           30000      29757     99.19    39.8533  59.3367      0.113333  0.696667                  0\n",
            "      3  fg = [0, 1, 2]  bg = [3, 4, 5, 6, 7, 8, 9]            15           30000      29882     99.6067  99.6033   0.00333333  0.393333  0                     29739\n",
            "      4  fg = [0, 1, 2]  bg = [3, 4, 5, 6, 7, 8, 9]            22           30000      29866     99.5533  99.53     0.0233333   0.446667  0                     28122\n",
            "      5  fg = [0, 1, 2]  bg = [3, 4, 5, 6, 7, 8, 9]            19           30000      29848     99.4933  99.4633   0.03        0.5       0.00666667            29863\n",
            "      6  fg = [0, 1, 2]  bg = [3, 4, 5, 6, 7, 8, 9]            24           30000      29923     99.7433  99.7433   0           0.256667  0                     30000\n",
            "      7  fg = [0, 1, 2]  bg = [3, 4, 5, 6, 7, 8, 9]            14           30000      29355     97.85    70.57    27.28        1.88667   0.263333                  0\n",
            "      8  fg = [0, 1, 2]  bg = [3, 4, 5, 6, 7, 8, 9]            17           30000      29846     99.4867  99.4867   0           0.513333  0                       463\n",
            "      9  fg = [0, 1, 2]  bg = [3, 4, 5, 6, 7, 8, 9]            14           30000      29911     99.7033  99.7033   0           0.296667  0                     30000\n",
            " \n",
            "================================================================================================================================================================\n",
            " \n",
            "================================================================================================================================================================\n",
            "  S.No.  fg_class        bg_class                    Epoch used      total_points    correct    accuracy    FTPT    FFPT    FTPF    FFPF    avg_img > 0.5\n",
            "-------  --------------  --------------------------  ------------  --------------  ---------  ----------  ------  ------  ------  ------  ---------------\n",
            "      1  fg = [0, 1, 2]  bg = [3, 4, 5, 6, 7, 8, 9]  NA                     10000       9978       99.78   99.78    0       0.22    0               10000\n",
            "      2  fg = [0, 1, 2]  bg = [3, 4, 5, 6, 7, 8, 9]  NA                     10000       9916       99.16   40.53   58.63    0.11    0.73                0\n",
            "      3  fg = [0, 1, 2]  bg = [3, 4, 5, 6, 7, 8, 9]  NA                     10000       9959       99.59   99.59    0       0.41    0                9916\n",
            "      4  fg = [0, 1, 2]  bg = [3, 4, 5, 6, 7, 8, 9]  NA                     10000       9935       99.35   99.33    0.02    0.65    0                9431\n",
            "      5  fg = [0, 1, 2]  bg = [3, 4, 5, 6, 7, 8, 9]  NA                     10000       9933       99.33   99.29    0.04    0.65    0.02             9951\n",
            "      6  fg = [0, 1, 2]  bg = [3, 4, 5, 6, 7, 8, 9]  NA                     10000       9965       99.65   99.65    0       0.35    0               10000\n",
            "      7  fg = [0, 1, 2]  bg = [3, 4, 5, 6, 7, 8, 9]  NA                     10000       9748       97.48   71.18   26.3     2.24    0.28                0\n",
            "      8  fg = [0, 1, 2]  bg = [3, 4, 5, 6, 7, 8, 9]  NA                     10000       9941       99.41   99.41    0       0.59    0                 157\n",
            "      9  fg = [0, 1, 2]  bg = [3, 4, 5, 6, 7, 8, 9]  NA                     10000       9967       99.67   99.67    0       0.33    0               10000\n",
            " \n",
            "================================================================================================================================================================\n",
            " \n",
            "================================================================================================================================================================\n",
            "  S.No.  fg_class        bg_class                    Epoch used      total_points    correct    accuracy    FTPT    FFPT    FTPF    FFPF    avg_img > 0.5\n",
            "-------  --------------  --------------------------  ------------  --------------  ---------  ----------  ------  ------  ------  ------  ---------------\n",
            "      1  fg = [0, 1, 2]  bg = [3, 4, 5, 6, 7, 8, 9]  NA                     10000       9974       99.74   99.74    0       0.26    0               10000\n",
            "      2  fg = [0, 1, 2]  bg = [3, 4, 5, 6, 7, 8, 9]  NA                     10000       9914       99.14   38.58   60.56    0.26    0.6                 0\n",
            "      3  fg = [0, 1, 2]  bg = [3, 4, 5, 6, 7, 8, 9]  NA                     10000       9944       99.44   99.44    0       0.56    0                9921\n",
            "      4  fg = [0, 1, 2]  bg = [3, 4, 5, 6, 7, 8, 9]  NA                     10000       9921       99.21   99.19    0.02    0.79    0                9359\n",
            "      5  fg = [0, 1, 2]  bg = [3, 4, 5, 6, 7, 8, 9]  NA                     10000       9922       99.22   99.11    0.11    0.78    0                9925\n",
            "      6  fg = [0, 1, 2]  bg = [3, 4, 5, 6, 7, 8, 9]  NA                     10000       9960       99.6    99.6     0       0.4     0               10000\n",
            "      7  fg = [0, 1, 2]  bg = [3, 4, 5, 6, 7, 8, 9]  NA                     10000       9806       98.06   70.98   27.08    1.58    0.36                0\n",
            "      8  fg = [0, 1, 2]  bg = [3, 4, 5, 6, 7, 8, 9]  NA                     10000       9947       99.47   99.47    0       0.53    0                 131\n",
            "      9  fg = [0, 1, 2]  bg = [3, 4, 5, 6, 7, 8, 9]  NA                     10000       9957       99.57   99.57    0       0.43    0               10000\n",
            " \n",
            "================================================================================================================================================================\n",
            " \n",
            "================================================================================================================================================================\n",
            "  S.No.  fg_class        bg_class                    Epoch used      total_points    correct    accuracy    FTPT    FFPT    FTPF    FFPF    avg_img > 0.5\n",
            "-------  --------------  --------------------------  ------------  --------------  ---------  ----------  ------  ------  ------  ------  ---------------\n",
            "      1  fg = [0, 1, 2]  bg = [3, 4, 5, 6, 7, 8, 9]  NA                     10000       3377       33.77   10.53   23.24   11.48   54.75              401\n",
            "      2  fg = [0, 1, 2]  bg = [3, 4, 5, 6, 7, 8, 9]  NA                     10000       3347       33.47    1.62   31.85    8.86   57.67                0\n",
            "      3  fg = [0, 1, 2]  bg = [3, 4, 5, 6, 7, 8, 9]  NA                     10000       3434       34.34    3.66   30.68   12.91   52.75                0\n",
            "      4  fg = [0, 1, 2]  bg = [3, 4, 5, 6, 7, 8, 9]  NA                     10000       3347       33.47    0.7    32.77    8.21   58.32                0\n",
            "      5  fg = [0, 1, 2]  bg = [3, 4, 5, 6, 7, 8, 9]  NA                     10000       3347       33.47    3.62   29.85   10.82   55.71                0\n",
            "      6  fg = [0, 1, 2]  bg = [3, 4, 5, 6, 7, 8, 9]  NA                     10000       3887       38.87    4.47   34.4    13.12   48.01                0\n",
            "      7  fg = [0, 1, 2]  bg = [3, 4, 5, 6, 7, 8, 9]  NA                     10000       3411       34.11    3.44   30.67   15.36   50.53                0\n",
            "      8  fg = [0, 1, 2]  bg = [3, 4, 5, 6, 7, 8, 9]  NA                     10000       3211       32.11    5.39   26.72    8.3    59.59                0\n",
            "      9  fg = [0, 1, 2]  bg = [3, 4, 5, 6, 7, 8, 9]  NA                     10000       3491       34.91    5.19   29.72   13.71   51.38               18\n",
            " \n",
            "================================================================================================================================================================\n",
            " \n",
            "================================================================================================================================================================\n",
            "  S.No.  fg_class        bg_class                    Epoch used      total_points    correct    accuracy    FTPT    FFPT    FTPF    FFPF    avg_img > 0.5\n",
            "-------  --------------  --------------------------  ------------  --------------  ---------  ----------  ------  ------  ------  ------  ---------------\n",
            "      1  fg = [0, 1, 2]  bg = [3, 4, 5, 6, 7, 8, 9]  NA                     10000       3368       33.68   10.97   22.71   12.63   53.69              406\n",
            "      2  fg = [0, 1, 2]  bg = [3, 4, 5, 6, 7, 8, 9]  NA                     10000       3302       33.02    1.58   31.44    9.64   57.34                0\n",
            "      3  fg = [0, 1, 2]  bg = [3, 4, 5, 6, 7, 8, 9]  NA                     10000       3447       34.47    3.78   30.69   12.69   52.84                0\n",
            "      4  fg = [0, 1, 2]  bg = [3, 4, 5, 6, 7, 8, 9]  NA                     10000       3302       33.02    0.82   32.2     9.42   57.56                0\n",
            "      5  fg = [0, 1, 2]  bg = [3, 4, 5, 6, 7, 8, 9]  NA                     10000       3302       33.02    3.89   29.13   10.65   56.33                0\n",
            "      6  fg = [0, 1, 2]  bg = [3, 4, 5, 6, 7, 8, 9]  NA                     10000       3835       38.35    4.36   33.99   13.38   48.27                0\n",
            "      7  fg = [0, 1, 2]  bg = [3, 4, 5, 6, 7, 8, 9]  NA                     10000       3320       33.2     3.63   29.57   15.78   51.02                0\n",
            "      8  fg = [0, 1, 2]  bg = [3, 4, 5, 6, 7, 8, 9]  NA                     10000       3264       32.64    5.72   26.92    8.63   58.73                0\n",
            "      9  fg = [0, 1, 2]  bg = [3, 4, 5, 6, 7, 8, 9]  NA                     10000       3509       35.09    5.43   29.66   13.93   50.98                0\n",
            " \n",
            "================================================================================================================================================================\n",
            "[1,    40] loss: 1.100\n",
            "[1,    80] loss: 1.099\n",
            "[1,   120] loss: 1.099\n",
            "[2,    40] loss: 1.099\n",
            "[2,    80] loss: 1.099\n",
            "[2,   120] loss: 1.099\n",
            "[3,    40] loss: 1.099\n",
            "[3,    80] loss: 1.099\n",
            "[3,   120] loss: 1.098\n",
            "[4,    40] loss: 1.098\n",
            "[4,    80] loss: 1.098\n",
            "[4,   120] loss: 1.099\n",
            "[5,    40] loss: 1.099\n",
            "[5,    80] loss: 1.098\n",
            "[5,   120] loss: 1.098\n",
            "[6,    40] loss: 1.098\n",
            "[6,    80] loss: 1.098\n",
            "[6,   120] loss: 1.098\n",
            "[7,    40] loss: 1.098\n",
            "[7,    80] loss: 1.098\n",
            "[7,   120] loss: 1.098\n",
            "[8,    40] loss: 1.098\n",
            "[8,    80] loss: 1.098\n",
            "[8,   120] loss: 1.098\n",
            "[9,    40] loss: 1.098\n",
            "[9,    80] loss: 1.098\n",
            "[9,   120] loss: 1.098\n",
            "[10,    40] loss: 1.098\n",
            "[10,    80] loss: 1.098\n",
            "[10,   120] loss: 1.098\n",
            "[11,    40] loss: 1.098\n",
            "[11,    80] loss: 1.097\n",
            "[11,   120] loss: 1.097\n",
            "[12,    40] loss: 1.097\n",
            "[12,    80] loss: 1.096\n",
            "[12,   120] loss: 1.096\n",
            "[13,    40] loss: 1.095\n",
            "[13,    80] loss: 1.095\n",
            "[13,   120] loss: 1.093\n",
            "[14,    40] loss: 1.092\n",
            "[14,    80] loss: 1.090\n",
            "[14,   120] loss: 1.088\n",
            "[15,    40] loss: 1.086\n",
            "[15,    80] loss: 1.080\n",
            "[15,   120] loss: 1.078\n",
            "[16,    40] loss: 1.074\n",
            "[16,    80] loss: 1.066\n",
            "[16,   120] loss: 1.058\n",
            "[17,    40] loss: 1.042\n",
            "[17,    80] loss: 0.985\n",
            "[17,   120] loss: 0.763\n",
            "[18,    40] loss: 0.457\n",
            "[18,    80] loss: 0.288\n",
            "[18,   120] loss: 0.212\n",
            "[19,    40] loss: 0.127\n",
            "[19,    80] loss: 0.088\n",
            "[19,   120] loss: 0.056\n",
            "[20,    40] loss: 0.036\n",
            "[20,    80] loss: 0.026\n",
            "[20,   120] loss: 0.026\n",
            "Finished Training\n",
            " \n",
            "================================================================================================================================================================\n",
            "  S.No.  fg_class        bg_class                      Epoch used    total_points    correct    accuracy     FTPT         FFPT      FTPF        FFPF    avg_img > 0.5\n",
            "-------  --------------  --------------------------  ------------  --------------  ---------  ----------  -------  -----------  --------  ----------  ---------------\n",
            "      1  fg = [0, 1, 2]  bg = [3, 4, 5, 6, 7, 8, 9]            16           30000      29949     99.83    99.83     0           0.17      0                     30000\n",
            "      2  fg = [0, 1, 2]  bg = [3, 4, 5, 6, 7, 8, 9]            19           30000      29757     99.19    39.8533  59.3367      0.113333  0.696667                  0\n",
            "      3  fg = [0, 1, 2]  bg = [3, 4, 5, 6, 7, 8, 9]            15           30000      29882     99.6067  99.6033   0.00333333  0.393333  0                     29739\n",
            "      4  fg = [0, 1, 2]  bg = [3, 4, 5, 6, 7, 8, 9]            22           30000      29866     99.5533  99.53     0.0233333   0.446667  0                     28122\n",
            "      5  fg = [0, 1, 2]  bg = [3, 4, 5, 6, 7, 8, 9]            19           30000      29848     99.4933  99.4633   0.03        0.5       0.00666667            29863\n",
            "      6  fg = [0, 1, 2]  bg = [3, 4, 5, 6, 7, 8, 9]            24           30000      29923     99.7433  99.7433   0           0.256667  0                     30000\n",
            "      7  fg = [0, 1, 2]  bg = [3, 4, 5, 6, 7, 8, 9]            14           30000      29355     97.85    70.57    27.28        1.88667   0.263333                  0\n",
            "      8  fg = [0, 1, 2]  bg = [3, 4, 5, 6, 7, 8, 9]            17           30000      29846     99.4867  99.4867   0           0.513333  0                       463\n",
            "      9  fg = [0, 1, 2]  bg = [3, 4, 5, 6, 7, 8, 9]            14           30000      29911     99.7033  99.7033   0           0.296667  0                     30000\n",
            "     10  fg = [0, 1, 2]  bg = [3, 4, 5, 6, 7, 8, 9]            19           30000      29827     99.4233  97.67     1.75333     0.55      0.0266667                51\n",
            " \n",
            "================================================================================================================================================================\n",
            " \n",
            "================================================================================================================================================================\n",
            "  S.No.  fg_class        bg_class                    Epoch used      total_points    correct    accuracy    FTPT    FFPT    FTPF    FFPF    avg_img > 0.5\n",
            "-------  --------------  --------------------------  ------------  --------------  ---------  ----------  ------  ------  ------  ------  ---------------\n",
            "      1  fg = [0, 1, 2]  bg = [3, 4, 5, 6, 7, 8, 9]  NA                     10000       9978       99.78   99.78    0       0.22    0               10000\n",
            "      2  fg = [0, 1, 2]  bg = [3, 4, 5, 6, 7, 8, 9]  NA                     10000       9916       99.16   40.53   58.63    0.11    0.73                0\n",
            "      3  fg = [0, 1, 2]  bg = [3, 4, 5, 6, 7, 8, 9]  NA                     10000       9959       99.59   99.59    0       0.41    0                9916\n",
            "      4  fg = [0, 1, 2]  bg = [3, 4, 5, 6, 7, 8, 9]  NA                     10000       9935       99.35   99.33    0.02    0.65    0                9431\n",
            "      5  fg = [0, 1, 2]  bg = [3, 4, 5, 6, 7, 8, 9]  NA                     10000       9933       99.33   99.29    0.04    0.65    0.02             9951\n",
            "      6  fg = [0, 1, 2]  bg = [3, 4, 5, 6, 7, 8, 9]  NA                     10000       9965       99.65   99.65    0       0.35    0               10000\n",
            "      7  fg = [0, 1, 2]  bg = [3, 4, 5, 6, 7, 8, 9]  NA                     10000       9748       97.48   71.18   26.3     2.24    0.28                0\n",
            "      8  fg = [0, 1, 2]  bg = [3, 4, 5, 6, 7, 8, 9]  NA                     10000       9941       99.41   99.41    0       0.59    0                 157\n",
            "      9  fg = [0, 1, 2]  bg = [3, 4, 5, 6, 7, 8, 9]  NA                     10000       9967       99.67   99.67    0       0.33    0               10000\n",
            "     10  fg = [0, 1, 2]  bg = [3, 4, 5, 6, 7, 8, 9]  NA                     10000       9915       99.15   97.46    1.69    0.83    0.02               15\n",
            " \n",
            "================================================================================================================================================================\n",
            " \n",
            "================================================================================================================================================================\n",
            "  S.No.  fg_class        bg_class                    Epoch used      total_points    correct    accuracy    FTPT    FFPT    FTPF    FFPF    avg_img > 0.5\n",
            "-------  --------------  --------------------------  ------------  --------------  ---------  ----------  ------  ------  ------  ------  ---------------\n",
            "      1  fg = [0, 1, 2]  bg = [3, 4, 5, 6, 7, 8, 9]  NA                     10000       9974       99.74   99.74    0       0.26    0               10000\n",
            "      2  fg = [0, 1, 2]  bg = [3, 4, 5, 6, 7, 8, 9]  NA                     10000       9914       99.14   38.58   60.56    0.26    0.6                 0\n",
            "      3  fg = [0, 1, 2]  bg = [3, 4, 5, 6, 7, 8, 9]  NA                     10000       9944       99.44   99.44    0       0.56    0                9921\n",
            "      4  fg = [0, 1, 2]  bg = [3, 4, 5, 6, 7, 8, 9]  NA                     10000       9921       99.21   99.19    0.02    0.79    0                9359\n",
            "      5  fg = [0, 1, 2]  bg = [3, 4, 5, 6, 7, 8, 9]  NA                     10000       9922       99.22   99.11    0.11    0.78    0                9925\n",
            "      6  fg = [0, 1, 2]  bg = [3, 4, 5, 6, 7, 8, 9]  NA                     10000       9960       99.6    99.6     0       0.4     0               10000\n",
            "      7  fg = [0, 1, 2]  bg = [3, 4, 5, 6, 7, 8, 9]  NA                     10000       9806       98.06   70.98   27.08    1.58    0.36                0\n",
            "      8  fg = [0, 1, 2]  bg = [3, 4, 5, 6, 7, 8, 9]  NA                     10000       9947       99.47   99.47    0       0.53    0                 131\n",
            "      9  fg = [0, 1, 2]  bg = [3, 4, 5, 6, 7, 8, 9]  NA                     10000       9957       99.57   99.57    0       0.43    0               10000\n",
            "     10  fg = [0, 1, 2]  bg = [3, 4, 5, 6, 7, 8, 9]  NA                     10000       9931       99.31   97.64    1.67    0.68    0.01               15\n",
            " \n",
            "================================================================================================================================================================\n",
            " \n",
            "================================================================================================================================================================\n",
            "  S.No.  fg_class        bg_class                    Epoch used      total_points    correct    accuracy    FTPT    FFPT    FTPF    FFPF    avg_img > 0.5\n",
            "-------  --------------  --------------------------  ------------  --------------  ---------  ----------  ------  ------  ------  ------  ---------------\n",
            "      1  fg = [0, 1, 2]  bg = [3, 4, 5, 6, 7, 8, 9]  NA                     10000       3377       33.77   10.53   23.24   11.48   54.75              401\n",
            "      2  fg = [0, 1, 2]  bg = [3, 4, 5, 6, 7, 8, 9]  NA                     10000       3347       33.47    1.62   31.85    8.86   57.67                0\n",
            "      3  fg = [0, 1, 2]  bg = [3, 4, 5, 6, 7, 8, 9]  NA                     10000       3434       34.34    3.66   30.68   12.91   52.75                0\n",
            "      4  fg = [0, 1, 2]  bg = [3, 4, 5, 6, 7, 8, 9]  NA                     10000       3347       33.47    0.7    32.77    8.21   58.32                0\n",
            "      5  fg = [0, 1, 2]  bg = [3, 4, 5, 6, 7, 8, 9]  NA                     10000       3347       33.47    3.62   29.85   10.82   55.71                0\n",
            "      6  fg = [0, 1, 2]  bg = [3, 4, 5, 6, 7, 8, 9]  NA                     10000       3887       38.87    4.47   34.4    13.12   48.01                0\n",
            "      7  fg = [0, 1, 2]  bg = [3, 4, 5, 6, 7, 8, 9]  NA                     10000       3411       34.11    3.44   30.67   15.36   50.53                0\n",
            "      8  fg = [0, 1, 2]  bg = [3, 4, 5, 6, 7, 8, 9]  NA                     10000       3211       32.11    5.39   26.72    8.3    59.59                0\n",
            "      9  fg = [0, 1, 2]  bg = [3, 4, 5, 6, 7, 8, 9]  NA                     10000       3491       34.91    5.19   29.72   13.71   51.38               18\n",
            "     10  fg = [0, 1, 2]  bg = [3, 4, 5, 6, 7, 8, 9]  NA                     10000       3347       33.47    1.38   32.09    9.21   57.32                0\n",
            " \n",
            "================================================================================================================================================================\n",
            " \n",
            "================================================================================================================================================================\n",
            "  S.No.  fg_class        bg_class                    Epoch used      total_points    correct    accuracy    FTPT    FFPT    FTPF    FFPF    avg_img > 0.5\n",
            "-------  --------------  --------------------------  ------------  --------------  ---------  ----------  ------  ------  ------  ------  ---------------\n",
            "      1  fg = [0, 1, 2]  bg = [3, 4, 5, 6, 7, 8, 9]  NA                     10000       3368       33.68   10.97   22.71   12.63   53.69              406\n",
            "      2  fg = [0, 1, 2]  bg = [3, 4, 5, 6, 7, 8, 9]  NA                     10000       3302       33.02    1.58   31.44    9.64   57.34                0\n",
            "      3  fg = [0, 1, 2]  bg = [3, 4, 5, 6, 7, 8, 9]  NA                     10000       3447       34.47    3.78   30.69   12.69   52.84                0\n",
            "      4  fg = [0, 1, 2]  bg = [3, 4, 5, 6, 7, 8, 9]  NA                     10000       3302       33.02    0.82   32.2     9.42   57.56                0\n",
            "      5  fg = [0, 1, 2]  bg = [3, 4, 5, 6, 7, 8, 9]  NA                     10000       3302       33.02    3.89   29.13   10.65   56.33                0\n",
            "      6  fg = [0, 1, 2]  bg = [3, 4, 5, 6, 7, 8, 9]  NA                     10000       3835       38.35    4.36   33.99   13.38   48.27                0\n",
            "      7  fg = [0, 1, 2]  bg = [3, 4, 5, 6, 7, 8, 9]  NA                     10000       3320       33.2     3.63   29.57   15.78   51.02                0\n",
            "      8  fg = [0, 1, 2]  bg = [3, 4, 5, 6, 7, 8, 9]  NA                     10000       3264       32.64    5.72   26.92    8.63   58.73                0\n",
            "      9  fg = [0, 1, 2]  bg = [3, 4, 5, 6, 7, 8, 9]  NA                     10000       3509       35.09    5.43   29.66   13.93   50.98                0\n",
            "     10  fg = [0, 1, 2]  bg = [3, 4, 5, 6, 7, 8, 9]  NA                     10000       3302       33.02    1.2    31.82   10.23   56.75                0\n",
            " \n",
            "================================================================================================================================================================\n"
          ],
          "name": "stdout"
        }
      ]
    },
    {
      "cell_type": "code",
      "metadata": {
        "id": "kloPmAalgpIz",
        "outputId": "48dc1533-ac54-47d6-bd4a-64ac7324a6dc",
        "colab": {
          "base_uri": "https://localhost:8080/",
          "height": 326
        }
      },
      "source": [
        "train_table = add_average_entry(train_table)"
      ],
      "execution_count": null,
      "outputs": [
        {
          "output_type": "stream",
          "text": [
            " \n",
            "================================================================================================================================================================\n",
            "S.No.    fg_class        bg_class                    Epoch used    total_points    correct      accuracy     FTPT         FFPT      FTPF        FFPF    avg_img > 0.5\n",
            "-------  --------------  --------------------------  ------------  --------------  ---------  ----------  -------  -----------  --------  ----------  ---------------\n",
            "1        fg = [0, 1, 2]  bg = [3, 4, 5, 6, 7, 8, 9]  16            30000           29949         99.83    99.83     0           0.17      0                   30000\n",
            "2        fg = [0, 1, 2]  bg = [3, 4, 5, 6, 7, 8, 9]  19            30000           29757         99.19    39.8533  59.3367      0.113333  0.696667                0\n",
            "3        fg = [0, 1, 2]  bg = [3, 4, 5, 6, 7, 8, 9]  15            30000           29882         99.6067  99.6033   0.00333333  0.393333  0                   29739\n",
            "4        fg = [0, 1, 2]  bg = [3, 4, 5, 6, 7, 8, 9]  22            30000           29866         99.5533  99.53     0.0233333   0.446667  0                   28122\n",
            "5        fg = [0, 1, 2]  bg = [3, 4, 5, 6, 7, 8, 9]  19            30000           29848         99.4933  99.4633   0.03        0.5       0.00666667          29863\n",
            "6        fg = [0, 1, 2]  bg = [3, 4, 5, 6, 7, 8, 9]  24            30000           29923         99.7433  99.7433   0           0.256667  0                   30000\n",
            "7        fg = [0, 1, 2]  bg = [3, 4, 5, 6, 7, 8, 9]  14            30000           29355         97.85    70.57    27.28        1.88667   0.263333                0\n",
            "8        fg = [0, 1, 2]  bg = [3, 4, 5, 6, 7, 8, 9]  17            30000           29846         99.4867  99.4867   0           0.513333  0                     463\n",
            "9        fg = [0, 1, 2]  bg = [3, 4, 5, 6, 7, 8, 9]  14            30000           29911         99.7033  99.7033   0           0.296667  0                   30000\n",
            "10       fg = [0, 1, 2]  bg = [3, 4, 5, 6, 7, 8, 9]  19            30000           29827         99.4233  97.67     1.75333     0.55      0.0266667              51\n",
            "Avg                                                                                              99.388   90.5453   8.84267     0.512667  0.0993333           17823.8\n",
            " \n",
            "================================================================================================================================================================\n"
          ],
          "name": "stdout"
        }
      ]
    },
    {
      "cell_type": "code",
      "metadata": {
        "id": "00KPkU7EhPJj",
        "outputId": "295d3668-1bcc-4263-88de-c91c028ccf5c",
        "colab": {
          "base_uri": "https://localhost:8080/",
          "height": 326
        }
      },
      "source": [
        "test_table1 = add_average_entry(test_table1)"
      ],
      "execution_count": null,
      "outputs": [
        {
          "output_type": "stream",
          "text": [
            " \n",
            "================================================================================================================================================================\n",
            "S.No.    fg_class        bg_class                    Epoch used    total_points    correct      accuracy     FTPT      FFPT      FTPF       FFPF    avg_img > 0.5\n",
            "-------  --------------  --------------------------  ------------  --------------  ---------  ----------  -------  --------  --------  ---------  ---------------\n",
            "1        fg = [0, 1, 2]  bg = [3, 4, 5, 6, 7, 8, 9]  NA            10000           9978           99.78   99.78     0        0.22      0                  10000\n",
            "2        fg = [0, 1, 2]  bg = [3, 4, 5, 6, 7, 8, 9]  NA            10000           9916           99.16   40.53    58.63     0.11      0.73                   0\n",
            "3        fg = [0, 1, 2]  bg = [3, 4, 5, 6, 7, 8, 9]  NA            10000           9959           99.59   99.59     0        0.41      0                   9916\n",
            "4        fg = [0, 1, 2]  bg = [3, 4, 5, 6, 7, 8, 9]  NA            10000           9935           99.35   99.33     0.02     0.65      0                   9431\n",
            "5        fg = [0, 1, 2]  bg = [3, 4, 5, 6, 7, 8, 9]  NA            10000           9933           99.33   99.29     0.04     0.65      0.02                9951\n",
            "6        fg = [0, 1, 2]  bg = [3, 4, 5, 6, 7, 8, 9]  NA            10000           9965           99.65   99.65     0        0.35      0                  10000\n",
            "7        fg = [0, 1, 2]  bg = [3, 4, 5, 6, 7, 8, 9]  NA            10000           9748           97.48   71.18    26.3      2.24      0.28                   0\n",
            "8        fg = [0, 1, 2]  bg = [3, 4, 5, 6, 7, 8, 9]  NA            10000           9941           99.41   99.41     0        0.59      0                    157\n",
            "9        fg = [0, 1, 2]  bg = [3, 4, 5, 6, 7, 8, 9]  NA            10000           9967           99.67   99.67     0        0.33      0                  10000\n",
            "10       fg = [0, 1, 2]  bg = [3, 4, 5, 6, 7, 8, 9]  NA            10000           9915           99.15   97.46     1.69     0.83      0.02                  15\n",
            "Avg                                                                                               99.388  90.5453   8.84267  0.512667  0.0993333          17823.8\n",
            " \n",
            "================================================================================================================================================================\n"
          ],
          "name": "stdout"
        }
      ]
    },
    {
      "cell_type": "code",
      "metadata": {
        "id": "pW_kUqi3hR6u",
        "outputId": "d8d089a4-a20c-43ce-857c-be5e35f3149b",
        "colab": {
          "base_uri": "https://localhost:8080/",
          "height": 326
        }
      },
      "source": [
        "test_table2 = add_average_entry(test_table2)"
      ],
      "execution_count": null,
      "outputs": [
        {
          "output_type": "stream",
          "text": [
            " \n",
            "================================================================================================================================================================\n",
            "S.No.    fg_class        bg_class                    Epoch used    total_points    correct      accuracy     FTPT      FFPT      FTPF       FFPF    avg_img > 0.5\n",
            "-------  --------------  --------------------------  ------------  --------------  ---------  ----------  -------  --------  --------  ---------  ---------------\n",
            "1        fg = [0, 1, 2]  bg = [3, 4, 5, 6, 7, 8, 9]  NA            10000           9974           99.74   99.74     0        0.26      0                  10000\n",
            "2        fg = [0, 1, 2]  bg = [3, 4, 5, 6, 7, 8, 9]  NA            10000           9914           99.14   38.58    60.56     0.26      0.6                    0\n",
            "3        fg = [0, 1, 2]  bg = [3, 4, 5, 6, 7, 8, 9]  NA            10000           9944           99.44   99.44     0        0.56      0                   9921\n",
            "4        fg = [0, 1, 2]  bg = [3, 4, 5, 6, 7, 8, 9]  NA            10000           9921           99.21   99.19     0.02     0.79      0                   9359\n",
            "5        fg = [0, 1, 2]  bg = [3, 4, 5, 6, 7, 8, 9]  NA            10000           9922           99.22   99.11     0.11     0.78      0                   9925\n",
            "6        fg = [0, 1, 2]  bg = [3, 4, 5, 6, 7, 8, 9]  NA            10000           9960           99.6    99.6      0        0.4       0                  10000\n",
            "7        fg = [0, 1, 2]  bg = [3, 4, 5, 6, 7, 8, 9]  NA            10000           9806           98.06   70.98    27.08     1.58      0.36                   0\n",
            "8        fg = [0, 1, 2]  bg = [3, 4, 5, 6, 7, 8, 9]  NA            10000           9947           99.47   99.47     0        0.53      0                    131\n",
            "9        fg = [0, 1, 2]  bg = [3, 4, 5, 6, 7, 8, 9]  NA            10000           9957           99.57   99.57     0        0.43      0                  10000\n",
            "10       fg = [0, 1, 2]  bg = [3, 4, 5, 6, 7, 8, 9]  NA            10000           9931           99.31   97.64     1.67     0.68      0.01                  15\n",
            "Avg                                                                                               99.388  90.5453   8.84267  0.512667  0.0993333          17823.8\n",
            " \n",
            "================================================================================================================================================================\n"
          ],
          "name": "stdout"
        }
      ]
    },
    {
      "cell_type": "code",
      "metadata": {
        "id": "_ZlV6qErhUUL",
        "outputId": "84cf17a3-f6d6-478f-912a-b068ffeeb696",
        "colab": {
          "base_uri": "https://localhost:8080/",
          "height": 326
        }
      },
      "source": [
        "test_table3 = add_average_entry(test_table3)"
      ],
      "execution_count": null,
      "outputs": [
        {
          "output_type": "stream",
          "text": [
            " \n",
            "================================================================================================================================================================\n",
            "S.No.    fg_class        bg_class                    Epoch used    total_points    correct      accuracy     FTPT      FFPT       FTPF        FFPF    avg_img > 0.5\n",
            "-------  --------------  --------------------------  ------------  --------------  ---------  ----------  -------  --------  ---------  ----------  ---------------\n",
            "1        fg = [0, 1, 2]  bg = [3, 4, 5, 6, 7, 8, 9]  NA            10000           3377           33.77   10.53    23.24     11.48      54.75                 401\n",
            "2        fg = [0, 1, 2]  bg = [3, 4, 5, 6, 7, 8, 9]  NA            10000           3347           33.47    1.62    31.85      8.86      57.67                   0\n",
            "3        fg = [0, 1, 2]  bg = [3, 4, 5, 6, 7, 8, 9]  NA            10000           3434           34.34    3.66    30.68     12.91      52.75                   0\n",
            "4        fg = [0, 1, 2]  bg = [3, 4, 5, 6, 7, 8, 9]  NA            10000           3347           33.47    0.7     32.77      8.21      58.32                   0\n",
            "5        fg = [0, 1, 2]  bg = [3, 4, 5, 6, 7, 8, 9]  NA            10000           3347           33.47    3.62    29.85     10.82      55.71                   0\n",
            "6        fg = [0, 1, 2]  bg = [3, 4, 5, 6, 7, 8, 9]  NA            10000           3887           38.87    4.47    34.4      13.12      48.01                   0\n",
            "7        fg = [0, 1, 2]  bg = [3, 4, 5, 6, 7, 8, 9]  NA            10000           3411           34.11    3.44    30.67     15.36      50.53                   0\n",
            "8        fg = [0, 1, 2]  bg = [3, 4, 5, 6, 7, 8, 9]  NA            10000           3211           32.11    5.39    26.72      8.3       59.59                   0\n",
            "9        fg = [0, 1, 2]  bg = [3, 4, 5, 6, 7, 8, 9]  NA            10000           3491           34.91    5.19    29.72     13.71      51.38                  18\n",
            "10       fg = [0, 1, 2]  bg = [3, 4, 5, 6, 7, 8, 9]  NA            10000           3347           33.47    1.38    32.09      9.21      57.32                   0\n",
            "Avg                                                                                               99.388  90.5453   8.84267   0.512667   0.0993333          17823.8\n",
            " \n",
            "================================================================================================================================================================\n"
          ],
          "name": "stdout"
        }
      ]
    },
    {
      "cell_type": "code",
      "metadata": {
        "id": "BOvl6fUChV5j",
        "outputId": "9cf61e1e-8518-45f5-8237-598c1213ffe4",
        "colab": {
          "base_uri": "https://localhost:8080/",
          "height": 326
        }
      },
      "source": [
        "test_table4 = add_average_entry(test_table4)"
      ],
      "execution_count": null,
      "outputs": [
        {
          "output_type": "stream",
          "text": [
            " \n",
            "================================================================================================================================================================\n",
            "S.No.    fg_class        bg_class                    Epoch used    total_points    correct      accuracy     FTPT      FFPT       FTPF        FFPF    avg_img > 0.5\n",
            "-------  --------------  --------------------------  ------------  --------------  ---------  ----------  -------  --------  ---------  ----------  ---------------\n",
            "1        fg = [0, 1, 2]  bg = [3, 4, 5, 6, 7, 8, 9]  NA            10000           3368           33.68   10.97    22.71     12.63      53.69                 406\n",
            "2        fg = [0, 1, 2]  bg = [3, 4, 5, 6, 7, 8, 9]  NA            10000           3302           33.02    1.58    31.44      9.64      57.34                   0\n",
            "3        fg = [0, 1, 2]  bg = [3, 4, 5, 6, 7, 8, 9]  NA            10000           3447           34.47    3.78    30.69     12.69      52.84                   0\n",
            "4        fg = [0, 1, 2]  bg = [3, 4, 5, 6, 7, 8, 9]  NA            10000           3302           33.02    0.82    32.2       9.42      57.56                   0\n",
            "5        fg = [0, 1, 2]  bg = [3, 4, 5, 6, 7, 8, 9]  NA            10000           3302           33.02    3.89    29.13     10.65      56.33                   0\n",
            "6        fg = [0, 1, 2]  bg = [3, 4, 5, 6, 7, 8, 9]  NA            10000           3835           38.35    4.36    33.99     13.38      48.27                   0\n",
            "7        fg = [0, 1, 2]  bg = [3, 4, 5, 6, 7, 8, 9]  NA            10000           3320           33.2     3.63    29.57     15.78      51.02                   0\n",
            "8        fg = [0, 1, 2]  bg = [3, 4, 5, 6, 7, 8, 9]  NA            10000           3264           32.64    5.72    26.92      8.63      58.73                   0\n",
            "9        fg = [0, 1, 2]  bg = [3, 4, 5, 6, 7, 8, 9]  NA            10000           3509           35.09    5.43    29.66     13.93      50.98                   0\n",
            "10       fg = [0, 1, 2]  bg = [3, 4, 5, 6, 7, 8, 9]  NA            10000           3302           33.02    1.2     31.82     10.23      56.75                   0\n",
            "Avg                                                                                               99.388  90.5453   8.84267   0.512667   0.0993333          17823.8\n",
            " \n",
            "================================================================================================================================================================\n"
          ],
          "name": "stdout"
        }
      ]
    },
    {
      "cell_type": "code",
      "metadata": {
        "id": "nkyMi1VBpq9a"
      },
      "source": [
        "# torch.save(fore_net.state_dict(),\"/content/drive/My Drive/Research/mosaic_from_CIFAR_involving_bottop_eigen_vectors/fore_net_epoch\"+str(epoch)+\"_fg_used\"+str(fg_used)+\".pt\")"
      ],
      "execution_count": null,
      "outputs": []
    }
  ]
}