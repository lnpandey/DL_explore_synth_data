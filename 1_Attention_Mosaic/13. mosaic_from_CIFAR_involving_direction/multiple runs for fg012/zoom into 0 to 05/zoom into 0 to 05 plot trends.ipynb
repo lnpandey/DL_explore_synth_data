{
 "cells": [
  {
   "cell_type": "code",
   "execution_count": 20,
   "metadata": {},
   "outputs": [],
   "source": [
    "import pandas as pd\n",
    "import numpy as np\n",
    "import matplotlib.pyplot as plt\n",
    "\n",
    "\n",
    "from matplotlib import pyplot as plt\n",
    "import copy\n",
    "\n",
    "# Ignore warnings\n",
    "import warnings\n",
    "warnings.filterwarnings(\"ignore\")\n"
   ]
  },
  {
   "cell_type": "code",
   "execution_count": 22,
   "metadata": {},
   "outputs": [],
   "source": [
    "gamma = [0,\n",
    "0.005,\n",
    "0.01 ,\n",
    "0.015,\n",
    "0.02 ,\n",
    "0.025,\n",
    "0.03 ,\n",
    "0.035,\n",
    "0.04 ,\n",
    "0.045,\n",
    "0.05 ,\n",
    "0.055,\n",
    "0.06 ]"
   ]
  },
  {
   "cell_type": "markdown",
   "metadata": {},
   "source": [
    "| gamma | Avg Accuracy | Avg FTPT | Avg FFPT | Avg FTPF | Avg FFPF |\n",
    "|-------|--------------|----------|----------|----------|--------------|\n",
    "| 0     | 98.756   | 76.7397  | 22.0163 | 0.319667   | 0.924333 |\n",
    "| 0.005 | 98.9857  | 74.2097  | 24.776  | 0.925      | 0.089333 |       \n",
    "| 0.01  | 99.002   | 76.433   | 22.569  | 0.886667   | 0.111333 |        \n",
    "| 0.015 | 98.7997  | 61.5663  | 37.2333 | 0.740333   | 0.46     |        \n",
    "| 0.02  | 98.98    | 57.887   | 41.093  | 0.628      | 0.392    |        \n",
    "| 0.025 | 99.173   | 62.2177  | 36.9553 | 0.429667   | 0.397333 |      \n",
    "| 0.03  | 98.71    | 53.6553  | 45.0547 | 0.739667   | 0.550333 |         \n",
    "| 0.035 | 99.1983  | 63.9243  | 35.274  | 0.529      | 0.272667 |          \n",
    "| 0.04  | 98.9313  | 56.3473  | 42.584  | 0.67333    | 0.395333 |            \n",
    "| 0.045 | 99.071   | 52.6753  | 46.3957 | 0.494333   | 0.434667 |         \n",
    "| 0.05  | 99.2347  | 60.55    | 38.6847 | 0.575      | 0.190333 |        \n",
    "| 0.055 | 98.9587  | 64.7017  | 34.257  | 0.833667   | 0.207667 |       \n",
    "| 0.06  | 98.9387  | 56.4437  | 42.495  | 0.701667   | 0.359667 |"
   ]
  },
  {
   "cell_type": "code",
   "execution_count": 1,
   "metadata": {},
   "outputs": [],
   "source": [
    "avg_acc_train = [ 98.756 ,\n",
    "98.9857,\n",
    "99.002 ,\n",
    "98.7997,\n",
    "98.98  ,\n",
    "99.173 ,\n",
    "98.71  ,\n",
    "99.1983,\n",
    "98.9313,\n",
    "99.071 ,\n",
    "99.2347,\n",
    "98.9587,\n",
    "98.9387]"
   ]
  },
  {
   "cell_type": "code",
   "execution_count": 2,
   "metadata": {},
   "outputs": [],
   "source": [
    "avg_ftpt_train = [  76.7397,\n",
    "74.2097,\n",
    "76.433 ,\n",
    "61.5663,\n",
    "57.887 ,\n",
    "62.2177,\n",
    "53.6553,\n",
    "63.9243,\n",
    "56.3473,\n",
    "52.6753,\n",
    "60.55  ,\n",
    "64.7017,\n",
    "56.4437]"
   ]
  },
  {
   "cell_type": "code",
   "execution_count": 3,
   "metadata": {},
   "outputs": [],
   "source": [
    "avg_ffpt_train = [  22.0163,\n",
    "24.776 ,\n",
    "22.569 ,\n",
    "37.2333,\n",
    "41.093 ,\n",
    "36.9553,\n",
    "45.0547,\n",
    "35.274 ,\n",
    "42.584 ,\n",
    "46.3957,\n",
    "38.6847,\n",
    "34.257 ,\n",
    "42.495 ]"
   ]
  },
  {
   "cell_type": "code",
   "execution_count": 4,
   "metadata": {},
   "outputs": [],
   "source": [
    "avg_ftpf_train = [  0.319667,\n",
    "0.925   ,\n",
    "0.886667,\n",
    "0.740333,\n",
    "0.628   ,\n",
    "0.429667,\n",
    "0.739667,\n",
    "0.529   ,\n",
    "0.67333 ,\n",
    "0.494333,\n",
    "0.575   ,\n",
    "0.833667,\n",
    "0.701667]"
   ]
  },
  {
   "cell_type": "code",
   "execution_count": 5,
   "metadata": {},
   "outputs": [],
   "source": [
    "avg_ffpf_train = [ 0.924333,\n",
    "0.089333,\n",
    "0.111333,\n",
    "0.46    ,\n",
    "0.392   ,\n",
    "0.397333,\n",
    "0.550333,\n",
    "0.272667,\n",
    "0.395333,\n",
    "0.434667,\n",
    "0.190333,\n",
    "0.207667,\n",
    "0.359667 ]"
   ]
  },
  {
   "cell_type": "code",
   "execution_count": 6,
   "metadata": {},
   "outputs": [
    {
     "data": {
      "text/plain": [
       "(13, 13, 13, 13, 13)"
      ]
     },
     "execution_count": 6,
     "metadata": {},
     "output_type": "execute_result"
    }
   ],
   "source": [
    "len(avg_acc_train), len(avg_ftpt_train), len(avg_ffpt_train), len(avg_ftpf_train), len(avg_ffpf_train)"
   ]
  },
  {
   "cell_type": "markdown",
   "metadata": {},
   "source": [
    "| gamma | Avg Accuracy | Avg FTPT | Avg FFPT | Avg FTPF | Avg FFPF |\n",
    "|-------|--------------|----------|----------|----------|--------------|\n",
    "| 0     | 85.773 |  69.683 |   16.09 |    3.85  | 10.377 |         \n",
    "| 0.005 | 98.223 |  73.685 |  24.538 |   1.662  |  0.115 |         \n",
    "| 0.01  | 98.571 |  75.689 |  22.882 |    1.31  |  0.119 |         \n",
    "| 0.015 | 98.42  | 60.999  | 37.421  |  1.067   | 0.513  |         \n",
    "| 0.02  | 98.743 |  57.141 |  41.602 |   0.832  |  0.425 |         \n",
    "| 0.025 | 99.051 |  61.985 |  37.066 |    0.53  |  0.419 |         \n",
    "| 0.03  | 98.38  | 53.292  | 45.088  |  1.032   | 0.588  |         \n",
    "| 0.035 | 98.996 |  63.638 |  35.358 |    0.64  |  0.364 |         \n",
    "| 0.04  | 98.753 |  56.262 |  42.491 |   0.791  |  0.456 |         \n",
    "| 0.045 | 98.778 |  52.768 |   46.01 |   0.673  |  0.549 |         \n",
    "| 0.05  | 99.153 |  60.547 |  38.606 |   0.638  |  0.209 |         \n",
    "| 0.055 | 98.775 |  64.367 |  34.408 |   0.992  |  0.233 |         \n",
    "| 0.06  | 98.674 |  56.151 |  42.523 |   0.871  |  0.455 |  "
   ]
  },
  {
   "cell_type": "code",
   "execution_count": 7,
   "metadata": {},
   "outputs": [],
   "source": [
    "avg_acc_test1 = [85.773,\n",
    "98.223,\n",
    "98.571,\n",
    "98.42 ,\n",
    "98.743,\n",
    "99.051,\n",
    "98.38 ,\n",
    "98.996,\n",
    "98.753,\n",
    "98.778,\n",
    "99.153,\n",
    "98.775,\n",
    "98.674]"
   ]
  },
  {
   "cell_type": "code",
   "execution_count": 8,
   "metadata": {},
   "outputs": [],
   "source": [
    "avg_ftpt_test1 = [  69.683,\n",
    " 73.685,\n",
    " 75.689,\n",
    "60.999 ,\n",
    " 57.141,\n",
    " 61.985,\n",
    "53.292 ,\n",
    " 63.638,\n",
    " 56.262,\n",
    " 52.768,\n",
    " 60.547,\n",
    " 64.367,\n",
    " 56.151]"
   ]
  },
  {
   "cell_type": "code",
   "execution_count": 9,
   "metadata": {},
   "outputs": [],
   "source": [
    "avg_ffpt_test1 = [    16.09,\n",
    " 24.538,\n",
    " 22.882,\n",
    "37.421 ,\n",
    " 41.602,\n",
    " 37.066,\n",
    "45.088 ,\n",
    " 35.358,\n",
    " 42.491,\n",
    "  46.01,\n",
    " 38.606,\n",
    " 34.408,\n",
    " 42.523]"
   ]
  },
  {
   "cell_type": "code",
   "execution_count": 10,
   "metadata": {},
   "outputs": [],
   "source": [
    "avg_ftpf_test1 = [     3.85,\n",
    "  1.662,\n",
    "   1.31,\n",
    " 1.067 ,\n",
    "  0.832,\n",
    "   0.53,\n",
    " 1.032 ,\n",
    "   0.64,\n",
    "  0.791,\n",
    "  0.673,\n",
    "  0.638,\n",
    "  0.992,\n",
    "  0.871]"
   ]
  },
  {
   "cell_type": "code",
   "execution_count": 11,
   "metadata": {},
   "outputs": [],
   "source": [
    "avg_ffpf_test1 = [10.377 ,\n",
    " 0.115 ,\n",
    " 0.119 ,\n",
    "0.513  ,\n",
    " 0.425 ,\n",
    " 0.419 ,\n",
    "0.588  ,\n",
    " 0.364 ,\n",
    " 0.456 ,\n",
    " 0.549 ,\n",
    " 0.209 ,\n",
    " 0.233 ,\n",
    " 0.455 ]"
   ]
  },
  {
   "cell_type": "code",
   "execution_count": 12,
   "metadata": {},
   "outputs": [
    {
     "data": {
      "text/plain": [
       "(13, 13, 13, 13, 13)"
      ]
     },
     "execution_count": 12,
     "metadata": {},
     "output_type": "execute_result"
    }
   ],
   "source": [
    "len(avg_acc_test1), len(avg_ftpt_test1), len(avg_ffpt_test1), len(avg_ftpf_test1), len(avg_ffpf_test1)"
   ]
  },
  {
   "cell_type": "markdown",
   "metadata": {},
   "source": [
    "| gamma | Avg Accuracy | Avg FTPT | Avg FFPT | Avg FTPF | Avg FFPF |\n",
    "|-------|--------------|----------|----------|----------|--------------|\n",
    "| 0     | 65.97  | 46.855  |19.115  | 9.633   | 24.397   |         \n",
    "| 0.005 | 96.103 |  71.273 |  24.83 |  3.733  |   0.164  |        \n",
    "| 0.01  | 97.203 |  74.321 | 22.882 |  2.635  |   0.162  |         \n",
    "| 0.015 | 97.31  | 59.709  |37.601  | 2.196   |  0.494   |         \n",
    "| 0.02  | 97.909 |  56.472 | 41.437 |  1.608  |   0.483  |         \n",
    "| 0.025 | 98.693 |  61.548 | 37.145 |  0.821  |   0.486  |         \n",
    "| 0.03  | 97.88  |  52.71  | 45.17  | 1.528   |  0.592   |         \n",
    "| 0.035 | 98.781 |  63.123 | 35.658 |   0.81  |   0.409  |         \n",
    "| 0.04  | 98.664 |  55.811 | 42.853 |  0.886  |    0.45  |         \n",
    "| 0.045 | 98.581 |  52.182 | 46.399 |  0.791  |   0.628  |         \n",
    "| 0.05  | 98.851 |  60.296 | 38.555 |   0.92  |   0.229  |         \n",
    "| 0.055 | 98.692 |   64.49 | 34.202 |  1.101  |   0.207  |         \n",
    "| 0.06  | 98.568 |  55.862 | 42.706 |  0.992  |    0.44  |   "
   ]
  },
  {
   "cell_type": "code",
   "execution_count": 13,
   "metadata": {},
   "outputs": [],
   "source": [
    "avg_acc_test2 = [65.97 ,\n",
    "96.103,\n",
    "97.203,\n",
    "97.31 ,\n",
    "97.909,\n",
    "98.693,\n",
    "97.88 ,\n",
    "98.781,\n",
    "98.664,\n",
    "98.581,\n",
    "98.851,\n",
    "98.692,\n",
    "98.568]"
   ]
  },
  {
   "cell_type": "code",
   "execution_count": 14,
   "metadata": {},
   "outputs": [],
   "source": [
    "avg_ftpt_test2 = [ 46.855, \n",
    " 71.273,\n",
    " 74.321,\n",
    "59.709 ,\n",
    " 56.472,\n",
    " 61.548,\n",
    " 52.71 ,\n",
    " 63.123,\n",
    " 55.811,\n",
    " 52.182,\n",
    " 60.296,\n",
    "  64.49,\n",
    " 55.862]"
   ]
  },
  {
   "cell_type": "code",
   "execution_count": 15,
   "metadata": {},
   "outputs": [],
   "source": [
    "avg_ffpt_test2 = [  19.115 ,\n",
    "  24.83,\n",
    " 22.882,\n",
    "37.601 ,\n",
    " 41.437,\n",
    " 37.145,\n",
    " 45.17 ,\n",
    " 35.658,\n",
    " 42.853,\n",
    " 46.399,\n",
    " 38.555,\n",
    " 34.202,\n",
    " 42.706]"
   ]
  },
  {
   "cell_type": "code",
   "execution_count": 16,
   "metadata": {},
   "outputs": [],
   "source": [
    "avg_ftpf_test2 = [  9.633 ,\n",
    " 3.733,\n",
    " 2.635,\n",
    "2.196 ,\n",
    " 1.608,\n",
    " 0.821,\n",
    "1.528 ,\n",
    "  0.81,\n",
    " 0.886,\n",
    " 0.791,\n",
    "  0.92,\n",
    " 1.101,\n",
    " 0.992]"
   ]
  },
  {
   "cell_type": "code",
   "execution_count": 17,
   "metadata": {},
   "outputs": [],
   "source": [
    "avg_ffpf_test2 = [24.397 ,\n",
    "  0.164,\n",
    "  0.162,\n",
    " 0.494 ,\n",
    "  0.483,\n",
    "  0.486,\n",
    " 0.592 ,\n",
    "  0.409,\n",
    "   0.45,\n",
    "  0.628,\n",
    "  0.229,\n",
    "  0.207,\n",
    "   0.44]"
   ]
  },
  {
   "cell_type": "code",
   "execution_count": 18,
   "metadata": {},
   "outputs": [
    {
     "data": {
      "text/plain": [
       "(13, 13, 13, 13, 13)"
      ]
     },
     "execution_count": 18,
     "metadata": {},
     "output_type": "execute_result"
    }
   ],
   "source": [
    "len(avg_acc_test2), len(avg_ftpt_test2), len(avg_ffpt_test2), len(avg_ftpf_test2), len(avg_ffpf_test2)"
   ]
  },
  {
   "cell_type": "code",
   "execution_count": 28,
   "metadata": {},
   "outputs": [
    {
     "data": {
      "image/png": "[encoded data removed]",
      "text/plain": [
       "<Figure size 432x288 with 1 Axes>"
      ]
     },
     "metadata": {},
     "output_type": "display_data"
    }
   ],
   "source": [
    "# plt.figure(figsize=(10,6))\n",
    "plt.plot(gamma, avg_acc_train, label=\"train_acc\")\n",
    "plt.plot(gamma, avg_ftpt_train, label=\"train_ftpt\")\n",
    "plt.plot(gamma, avg_ffpt_train, label=\"train_ffpt\")\n",
    "plt.plot(gamma, avg_ftpf_train, label=\"train_ftpf\")\n",
    "plt.plot(gamma, avg_ffpf_train, label=\"train_ffpf\")\n",
    "plt.legend(bbox_to_anchor=(1.01, 1), loc='upper left', borderaxespad=0.)\n",
    "plt.xlabel(\"gamma\")\n",
    "plt.title(\"On training Dataset\")\n",
    "plt.show()"
   ]
  },
  {
   "cell_type": "code",
   "execution_count": 29,
   "metadata": {},
   "outputs": [
    {
     "data": {
      "image/png": "[encoded data removed]",
      "text/plain": [
       "<Figure size 432x288 with 1 Axes>"
      ]
     },
     "metadata": {},
     "output_type": "display_data"
    }
   ],
   "source": [
    "# plt.figure(figsize=(10,6))\n",
    "plt.plot(gamma, avg_acc_test1, label=\"test1_acc\")\n",
    "plt.plot(gamma, avg_ftpt_test1, label=\"test1_ftpt\")\n",
    "plt.plot(gamma, avg_ffpt_test1, label=\"test1_ffpt\")\n",
    "plt.plot(gamma, avg_ftpf_test1, label=\"test1_ftpf\")\n",
    "plt.plot(gamma, avg_ffpf_test1, label=\"test1_ffpf\")\n",
    "plt.legend(bbox_to_anchor=(1.01, 1), loc='upper left', borderaxespad=0.)\n",
    "plt.xlabel(\"gamma\")\n",
    "plt.title(\"On Testing Dataset1\")\n",
    "plt.show()"
   ]
  },
  {
   "cell_type": "code",
   "execution_count": 30,
   "metadata": {},
   "outputs": [
    {
     "data": {
      "image/png": "[encoded data removed]",
      "text/plain": [
       "<Figure size 432x288 with 1 Axes>"
      ]
     },
     "metadata": {},
     "output_type": "display_data"
    }
   ],
   "source": [
    "# plt.figure(figsize=(10,6))\n",
    "plt.plot(gamma, avg_acc_test2, label=\"test2_acc\",)\n",
    "plt.plot(gamma, avg_ftpt_test2, label=\"test2_ftpt\")\n",
    "plt.plot(gamma, avg_ffpt_test2, label=\"test2_ffpt\")\n",
    "plt.plot(gamma, avg_ftpf_test2, label=\"test2_ftpf\")\n",
    "plt.plot(gamma, avg_ffpf_test2, label=\"test2_ffpf\")\n",
    "plt.legend(bbox_to_anchor=(1.01, 1), loc='upper left', borderaxespad=0.)\n",
    "plt.xlabel(\"gamma\")\n",
    "plt.title(\"On Testing Dataset2\")\n",
    "plt.show()"
   ]
  },
  {
   "cell_type": "code",
   "execution_count": null,
   "metadata": {},
   "outputs": [],
   "source": []
  }
 ],
 "metadata": {
  "kernelspec": {
   "display_name": "Python 3",
   "language": "python",
   "name": "python3"
  },
  "language_info": {
   "codemirror_mode": {
    "name": "ipython",
    "version": 3
   },
   "file_extension": ".py",
   "mimetype": "text/x-python",
   "name": "python",
   "nbconvert_exporter": "python",
   "pygments_lexer": "ipython3",
   "version": "3.6.5"
  }
 },
 "nbformat": 4,
 "nbformat_minor": 2
}
