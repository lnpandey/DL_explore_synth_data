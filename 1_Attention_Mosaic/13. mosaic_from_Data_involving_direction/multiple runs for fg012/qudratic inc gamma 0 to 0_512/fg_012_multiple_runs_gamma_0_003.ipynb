{
  "nbformat": 4,
  "nbformat_minor": 0,
  "metadata": {
    "accelerator": "GPU",
    "colab": {
      "name": "fg_012_multiple_runs_gamma_0_003.ipynb",
      "provenance": [],
      "collapsed_sections": [],
      "machine_shape": "hm"
    },
    "kernelspec": {
      "display_name": "Python 3",
      "language": "python",
      "name": "python3"
    },
    "language_info": {
      "codemirror_mode": {
        "name": "ipython",
        "version": 3
      },
      "file_extension": ".py",
      "mimetype": "text/x-python",
      "name": "python",
      "nbconvert_exporter": "python",
      "pygments_lexer": "ipython3",
      "version": "3.6.5"
    },
    "widgets": {
      "application/vnd.jupyter.widget-state+json": {
        "649d2b7101d5465d8705d2b6e663b841": {
          "model_module": "@jupyter-widgets/controls",
          "model_name": "HBoxModel",
          "state": {
            "_view_name": "HBoxView",
            "_dom_classes": [],
            "_model_name": "HBoxModel",
            "_view_module": "@jupyter-widgets/controls",
            "_model_module_version": "1.5.0",
            "_view_count": null,
            "_view_module_version": "1.5.0",
            "box_style": "",
            "layout": "IPY_MODEL_c06bd2f130f34876bb02b88377bcfe85",
            "_model_module": "@jupyter-widgets/controls",
            "children": [
              "IPY_MODEL_360068d67d914c869098b64b2d05a6e4",
              "IPY_MODEL_ce08af68a8dc4f7fa0351c4efab0f0a8"
            ]
          }
        },
        "c06bd2f130f34876bb02b88377bcfe85": {
          "model_module": "@jupyter-widgets/base",
          "model_name": "LayoutModel",
          "state": {
            "_view_name": "LayoutView",
            "grid_template_rows": null,
            "right": null,
            "justify_content": null,
            "_view_module": "@jupyter-widgets/base",
            "overflow": null,
            "_model_module_version": "1.2.0",
            "_view_count": null,
            "flex_flow": null,
            "width": null,
            "min_width": null,
            "border": null,
            "align_items": null,
            "bottom": null,
            "_model_module": "@jupyter-widgets/base",
            "top": null,
            "grid_column": null,
            "overflow_y": null,
            "overflow_x": null,
            "grid_auto_flow": null,
            "grid_area": null,
            "grid_template_columns": null,
            "flex": null,
            "_model_name": "LayoutModel",
            "justify_items": null,
            "grid_row": null,
            "max_height": null,
            "align_content": null,
            "visibility": null,
            "align_self": null,
            "height": null,
            "min_height": null,
            "padding": null,
            "grid_auto_rows": null,
            "grid_gap": null,
            "max_width": null,
            "order": null,
            "_view_module_version": "1.2.0",
            "grid_template_areas": null,
            "object_position": null,
            "object_fit": null,
            "grid_auto_columns": null,
            "margin": null,
            "display": null,
            "left": null
          }
        },
        "360068d67d914c869098b64b2d05a6e4": {
          "model_module": "@jupyter-widgets/controls",
          "model_name": "FloatProgressModel",
          "state": {
            "_view_name": "ProgressView",
            "style": "IPY_MODEL_5d69753adbd44da593efd71f561b6023",
            "_dom_classes": [],
            "description": "",
            "_model_name": "FloatProgressModel",
            "bar_style": "success",
            "max": 1,
            "_view_module": "@jupyter-widgets/controls",
            "_model_module_version": "1.5.0",
            "value": 1,
            "_view_count": null,
            "_view_module_version": "1.5.0",
            "orientation": "horizontal",
            "min": 0,
            "description_tooltip": null,
            "_model_module": "@jupyter-widgets/controls",
            "layout": "IPY_MODEL_44dbfc8f4c4849288de7bfeb998d5a32"
          }
        },
        "ce08af68a8dc4f7fa0351c4efab0f0a8": {
          "model_module": "@jupyter-widgets/controls",
          "model_name": "HTMLModel",
          "state": {
            "_view_name": "HTMLView",
            "style": "IPY_MODEL_8ff5e574a56e4b79b4c2da65b3fee298",
            "_dom_classes": [],
            "description": "",
            "_model_name": "HTMLModel",
            "placeholder": "​",
            "_view_module": "@jupyter-widgets/controls",
            "_model_module_version": "1.5.0",
            "value": " 170500096/? [00:07&lt;00:00, 22785410.15it/s]",
            "_view_count": null,
            "_view_module_version": "1.5.0",
            "description_tooltip": null,
            "_model_module": "@jupyter-widgets/controls",
            "layout": "IPY_MODEL_2d487964cf824c06a66f6a124ac05555"
          }
        },
        "5d69753adbd44da593efd71f561b6023": {
          "model_module": "@jupyter-widgets/controls",
          "model_name": "ProgressStyleModel",
          "state": {
            "_view_name": "StyleView",
            "_model_name": "ProgressStyleModel",
            "description_width": "initial",
            "_view_module": "@jupyter-widgets/base",
            "_model_module_version": "1.5.0",
            "_view_count": null,
            "_view_module_version": "1.2.0",
            "bar_color": null,
            "_model_module": "@jupyter-widgets/controls"
          }
        },
        "44dbfc8f4c4849288de7bfeb998d5a32": {
          "model_module": "@jupyter-widgets/base",
          "model_name": "LayoutModel",
          "state": {
            "_view_name": "LayoutView",
            "grid_template_rows": null,
            "right": null,
            "justify_content": null,
            "_view_module": "@jupyter-widgets/base",
            "overflow": null,
            "_model_module_version": "1.2.0",
            "_view_count": null,
            "flex_flow": null,
            "width": null,
            "min_width": null,
            "border": null,
            "align_items": null,
            "bottom": null,
            "_model_module": "@jupyter-widgets/base",
            "top": null,
            "grid_column": null,
            "overflow_y": null,
            "overflow_x": null,
            "grid_auto_flow": null,
            "grid_area": null,
            "grid_template_columns": null,
            "flex": null,
            "_model_name": "LayoutModel",
            "justify_items": null,
            "grid_row": null,
            "max_height": null,
            "align_content": null,
            "visibility": null,
            "align_self": null,
            "height": null,
            "min_height": null,
            "padding": null,
            "grid_auto_rows": null,
            "grid_gap": null,
            "max_width": null,
            "order": null,
            "_view_module_version": "1.2.0",
            "grid_template_areas": null,
            "object_position": null,
            "object_fit": null,
            "grid_auto_columns": null,
            "margin": null,
            "display": null,
            "left": null
          }
        },
        "8ff5e574a56e4b79b4c2da65b3fee298": {
          "model_module": "@jupyter-widgets/controls",
          "model_name": "DescriptionStyleModel",
          "state": {
            "_view_name": "StyleView",
            "_model_name": "DescriptionStyleModel",
            "description_width": "",
            "_view_module": "@jupyter-widgets/base",
            "_model_module_version": "1.5.0",
            "_view_count": null,
            "_view_module_version": "1.2.0",
            "_model_module": "@jupyter-widgets/controls"
          }
        },
        "2d487964cf824c06a66f6a124ac05555": {
          "model_module": "@jupyter-widgets/base",
          "model_name": "LayoutModel",
          "state": {
            "_view_name": "LayoutView",
            "grid_template_rows": null,
            "right": null,
            "justify_content": null,
            "_view_module": "@jupyter-widgets/base",
            "overflow": null,
            "_model_module_version": "1.2.0",
            "_view_count": null,
            "flex_flow": null,
            "width": null,
            "min_width": null,
            "border": null,
            "align_items": null,
            "bottom": null,
            "_model_module": "@jupyter-widgets/base",
            "top": null,
            "grid_column": null,
            "overflow_y": null,
            "overflow_x": null,
            "grid_auto_flow": null,
            "grid_area": null,
            "grid_template_columns": null,
            "flex": null,
            "_model_name": "LayoutModel",
            "justify_items": null,
            "grid_row": null,
            "max_height": null,
            "align_content": null,
            "visibility": null,
            "align_self": null,
            "height": null,
            "min_height": null,
            "padding": null,
            "grid_auto_rows": null,
            "grid_gap": null,
            "max_width": null,
            "order": null,
            "_view_module_version": "1.2.0",
            "grid_template_areas": null,
            "object_position": null,
            "object_fit": null,
            "grid_auto_columns": null,
            "margin": null,
            "display": null,
            "left": null
          }
        }
      }
    }
  },
  "cells": [
    {
      "cell_type": "code",
      "metadata": {
        "id": "JSjG64ra4aFu"
      },
      "source": [
        "# from google.colab import drive\n",
        "# drive.mount('/content/drive')"
      ],
      "execution_count": 1,
      "outputs": []
    },
    {
      "cell_type": "code",
      "metadata": {
        "id": "V8-7SARDZErK"
      },
      "source": [
        "import torch.nn as nn\n",
        "import torch.nn.functional as F\n",
        "\n",
        "import pandas as pd\n",
        "import numpy as np\n",
        "import matplotlib.pyplot as plt\n",
        "\n",
        "import torch\n",
        "import torchvision\n",
        "import torchvision.transforms as transforms\n",
        "from torch.utils.data import Dataset, DataLoader\n",
        "from torchvision import transforms, utils\n",
        "\n",
        "from matplotlib import pyplot as plt\n",
        "import copy\n",
        "\n",
        "import random\n",
        "\n",
        "from numpy import linalg as LA\n",
        "from tabulate import tabulate\n",
        "# Ignore warnings\n",
        "import warnings\n",
        "warnings.filterwarnings(\"ignore\")\n"
      ],
      "execution_count": 2,
      "outputs": []
    },
    {
      "cell_type": "code",
      "metadata": {
        "id": "acRFqJNrZErV",
        "outputId": "4c99c873-30c5-465d-f9c2-ae253703053f",
        "colab": {
          "base_uri": "https://localhost:8080/",
          "height": 105,
          "referenced_widgets": [
            "649d2b7101d5465d8705d2b6e663b841",
            "c06bd2f130f34876bb02b88377bcfe85",
            "360068d67d914c869098b64b2d05a6e4",
            "ce08af68a8dc4f7fa0351c4efab0f0a8",
            "5d69753adbd44da593efd71f561b6023",
            "44dbfc8f4c4849288de7bfeb998d5a32",
            "8ff5e574a56e4b79b4c2da65b3fee298",
            "2d487964cf824c06a66f6a124ac05555"
          ]
        }
      },
      "source": [
        "transform = transforms.Compose(\n",
        "    [transforms.ToTensor(),\n",
        "     transforms.Normalize((0.5, 0.5, 0.5), (0.5, 0.5, 0.5))])\n",
        "\n",
        "trainset = torchvision.datasets.CIFAR10(root='./data', train=True, download=True, transform=transform)\n",
        "\n",
        "\n",
        "testset = torchvision.datasets.CIFAR10(root='./data', train=False, download=True, transform=transform)\n"
      ],
      "execution_count": 3,
      "outputs": [
        {
          "output_type": "stream",
          "text": [
            "Downloading https://www.cs.toronto.edu/~kriz/cifar-10-python.tar.gz to ./data/cifar-10-python.tar.gz\n"
          ],
          "name": "stdout"
        },
        {
          "output_type": "display_data",
          "data": {
            "application/vnd.jupyter.widget-view+json": {
              "model_id": "649d2b7101d5465d8705d2b6e663b841",
              "version_minor": 0,
              "version_major": 2
            },
            "text/plain": [
              "HBox(children=(FloatProgress(value=1.0, bar_style='info', max=1.0), HTML(value='')))"
            ]
          },
          "metadata": {
            "tags": []
          }
        },
        {
          "output_type": "stream",
          "text": [
            "Extracting ./data/cifar-10-python.tar.gz to ./data\n",
            "Files already downloaded and verified\n"
          ],
          "name": "stdout"
        }
      ]
    },
    {
      "cell_type": "code",
      "metadata": {
        "id": "FTBYzzX-fY2K",
        "outputId": "b804400f-c982-4bfd-e2a4-4bad772248f6",
        "colab": {
          "base_uri": "https://localhost:8080/",
          "height": 36
        }
      },
      "source": [
        "gamma = 0.003\n",
        "gamma"
      ],
      "execution_count": 4,
      "outputs": [
        {
          "output_type": "execute_result",
          "data": {
            "text/plain": [
              "0.003"
            ]
          },
          "metadata": {
            "tags": []
          },
          "execution_count": 4
        }
      ]
    },
    {
      "cell_type": "code",
      "metadata": {
        "id": "ygZ-VSs6j-hf",
        "outputId": "2865e4c3-7879-4535-c80c-0ae123dd2baa",
        "colab": {
          "base_uri": "https://localhost:8080/",
          "height": 36
        }
      },
      "source": [
        "classes = ('plane', 'car', 'bird', 'cat', 'deer', 'dog', 'frog', 'horse', 'ship', 'truck')\n",
        "\n",
        "foreground_classes = {'plane', 'car', 'bird'}\n",
        "fg_used = '012'\n",
        "fg1, fg2, fg3 = 0,1,2\n",
        "\n",
        "\n",
        "all_classes = {'plane', 'car', 'bird', 'cat', 'deer', 'dog', 'frog', 'horse', 'ship', 'truck'}\n",
        "background_classes = all_classes - foreground_classes\n",
        "background_classes\n",
        "\n",
        "# print(type(foreground_classes))"
      ],
      "execution_count": 5,
      "outputs": [
        {
          "output_type": "execute_result",
          "data": {
            "text/plain": [
              "{'cat', 'deer', 'dog', 'frog', 'horse', 'ship', 'truck'}"
            ]
          },
          "metadata": {
            "tags": []
          },
          "execution_count": 5
        }
      ]
    },
    {
      "cell_type": "code",
      "metadata": {
        "id": "oEPWuddXzu9f"
      },
      "source": [
        "trainloader = torch.utils.data.DataLoader(trainset, batch_size=10, shuffle=True)\n",
        "testloader = torch.utils.data.DataLoader(testset, batch_size=10, shuffle=False)\n"
      ],
      "execution_count": 6,
      "outputs": []
    },
    {
      "cell_type": "code",
      "metadata": {
        "id": "n76MSJwHzu9p",
        "outputId": "cb98465e-f9c4-48c8-ec8a-622625bebb7b",
        "colab": {
          "base_uri": "https://localhost:8080/",
          "height": 36
        }
      },
      "source": [
        "dataiter = iter(trainloader)\n",
        "true_train_background_data=[]\n",
        "true_train_background_label=[]\n",
        "true_train_foreground_data=[]\n",
        "true_train_foreground_label=[]\n",
        "batch_size=10\n",
        "\n",
        "for i in range(5000):\n",
        "  images, labels = dataiter.next()\n",
        "  for j in range(batch_size):\n",
        "    if(classes[labels[j]] in background_classes):\n",
        "      img = images[j].tolist()\n",
        "      true_train_background_data.append(img)\n",
        "      true_train_background_label.append(labels[j])\n",
        "    else:\n",
        "      img = images[j].tolist()\n",
        "      true_train_foreground_data.append(img)\n",
        "      true_train_foreground_label.append(labels[j])\n",
        "            \n",
        "true_train_foreground_data = torch.tensor(true_train_foreground_data)\n",
        "true_train_foreground_label = torch.tensor(true_train_foreground_label)\n",
        "true_train_background_data = torch.tensor(true_train_background_data)\n",
        "true_train_background_label = torch.tensor(true_train_background_label)\n",
        "    "
      ],
      "execution_count": 7,
      "outputs": [
        {
          "output_type": "stream",
          "text": [
            "\n"
          ],
          "name": "stdout"
        }
      ]
    },
    {
      "cell_type": "code",
      "metadata": {
        "id": "NdYlcZPM2tmV",
        "outputId": "6a409c97-2b85-425e-f309-18910756eba4",
        "colab": {
          "base_uri": "https://localhost:8080/",
          "height": 36
        }
      },
      "source": [
        "len(true_train_foreground_data), len(true_train_foreground_label), len(true_train_background_data), len(true_train_background_label)"
      ],
      "execution_count": 8,
      "outputs": [
        {
          "output_type": "execute_result",
          "data": {
            "text/plain": [
              "(15000, 15000, 35000, 35000)"
            ]
          },
          "metadata": {
            "tags": []
          },
          "execution_count": 8
        }
      ]
    },
    {
      "cell_type": "code",
      "metadata": {
        "id": "IgyumCe_0GMa"
      },
      "source": [
        "dataiter = iter(testloader)\n",
        "true_test_background_data=[]\n",
        "true_test_background_label=[]\n",
        "true_test_foreground_data=[]\n",
        "true_test_foreground_label=[]\n",
        "batch_size=10\n",
        "\n",
        "for i in range(1000):\n",
        "  images, labels = dataiter.next()\n",
        "  for j in range(batch_size):\n",
        "    if(classes[labels[j]] in background_classes):\n",
        "      img = images[j].tolist()\n",
        "      true_test_background_data.append(img)\n",
        "      true_test_background_label.append(labels[j])\n",
        "    else:\n",
        "      img = images[j].tolist()\n",
        "      true_test_foreground_data.append(img)\n",
        "      true_test_foreground_label.append(labels[j])\n",
        "            \n",
        "true_test_foreground_data = torch.tensor(true_test_foreground_data)\n",
        "true_test_foreground_label = torch.tensor(true_test_foreground_label)\n",
        "true_test_background_data = torch.tensor(true_test_background_data)\n",
        "true_test_background_label = torch.tensor(true_test_background_label)"
      ],
      "execution_count": 9,
      "outputs": []
    },
    {
      "cell_type": "code",
      "metadata": {
        "id": "P07QyEjZ2_tH",
        "outputId": "4d67d0e4-1e83-4831-92a7-bf1b66b33688",
        "colab": {
          "base_uri": "https://localhost:8080/",
          "height": 36
        }
      },
      "source": [
        "len(true_test_foreground_data), len(true_test_foreground_label), len(true_test_background_data), len(true_test_background_label)"
      ],
      "execution_count": 10,
      "outputs": [
        {
          "output_type": "execute_result",
          "data": {
            "text/plain": [
              "(3000, 3000, 7000, 7000)"
            ]
          },
          "metadata": {
            "tags": []
          },
          "execution_count": 10
        }
      ]
    },
    {
      "cell_type": "code",
      "metadata": {
        "id": "bzU_HuQnEB29"
      },
      "source": [
        "true_train = trainset.data"
      ],
      "execution_count": 11,
      "outputs": []
    },
    {
      "cell_type": "code",
      "metadata": {
        "id": "FAR6Zt2QgMdf"
      },
      "source": [
        "train_label = trainset.targets"
      ],
      "execution_count": 12,
      "outputs": []
    },
    {
      "cell_type": "code",
      "metadata": {
        "id": "JZ52v93i__q5"
      },
      "source": [
        "true_train_cifar_norm=[]\n",
        "for i in range(len(true_train)):\n",
        "  true_train_cifar_norm.append(LA.norm(true_train[i]))"
      ],
      "execution_count": 13,
      "outputs": []
    },
    {
      "cell_type": "code",
      "metadata": {
        "id": "TbWNZhQvAWav",
        "outputId": "9300b519-eaf3-437d-9191-34a747e58a11",
        "colab": {
          "base_uri": "https://localhost:8080/",
          "height": 36
        }
      },
      "source": [
        "len(true_train_cifar_norm)"
      ],
      "execution_count": 14,
      "outputs": [
        {
          "output_type": "execute_result",
          "data": {
            "text/plain": [
              "50000"
            ]
          },
          "metadata": {
            "tags": []
          },
          "execution_count": 14
        }
      ]
    },
    {
      "cell_type": "code",
      "metadata": {
        "id": "Klrwlq-RBSdc"
      },
      "source": [
        "def plot_hist(values):\n",
        "  plt.hist(values, density=True, bins=200)  # `density=False` would make counts\n",
        "  plt.ylabel('NORM')\n",
        "  plt.xlabel('Data');"
      ],
      "execution_count": 15,
      "outputs": []
    },
    {
      "cell_type": "code",
      "metadata": {
        "id": "w-saABjgAaFY",
        "outputId": "ecfad6f9-47b3-464e-92c2-3a21228f546f",
        "colab": {
          "base_uri": "https://localhost:8080/",
          "height": 279
        }
      },
      "source": [
        "plot_hist(true_train_cifar_norm)"
      ],
      "execution_count": 16,
      "outputs": [
        {
          "output_type": "display_data",
          "data": {
            "image/png": "[encoded data removed]",
            "text/plain": [
              "<Figure size 432x288 with 1 Axes>"
            ]
          },
          "metadata": {
            "tags": [],
            "needs_background": "light"
          }
        }
      ]
    },
    {
      "cell_type": "code",
      "metadata": {
        "id": "_USgDEwbMMKY",
        "outputId": "dcf75e93-dfdb-47c8-cc54-86fe658ae27d",
        "colab": {
          "base_uri": "https://localhost:8080/",
          "height": 36
        }
      },
      "source": [
        "true_train.shape"
      ],
      "execution_count": 17,
      "outputs": [
        {
          "output_type": "execute_result",
          "data": {
            "text/plain": [
              "(50000, 32, 32, 3)"
            ]
          },
          "metadata": {
            "tags": []
          },
          "execution_count": 17
        }
      ]
    },
    {
      "cell_type": "code",
      "metadata": {
        "id": "yi-39bYIMZOd",
        "outputId": "618dc591-3a0e-483b-e2d8-88136352f0cc",
        "colab": {
          "base_uri": "https://localhost:8080/",
          "height": 36
        }
      },
      "source": [
        "train = np.reshape(true_train, (50000,3072))\n",
        "train.shape, true_train.shape"
      ],
      "execution_count": 18,
      "outputs": [
        {
          "output_type": "execute_result",
          "data": {
            "text/plain": [
              "((50000, 3072), (50000, 32, 32, 3))"
            ]
          },
          "metadata": {
            "tags": []
          },
          "execution_count": 18
        }
      ]
    },
    {
      "cell_type": "code",
      "metadata": {
        "id": "3qMpDn-xMleE"
      },
      "source": [
        "u, s, vh = LA.svd(train, full_matrices= False)"
      ],
      "execution_count": 19,
      "outputs": []
    },
    {
      "cell_type": "code",
      "metadata": {
        "id": "4o7zUUJJNavO",
        "outputId": "7e0ad46d-9c3a-4db6-c8a0-8f0204a53595",
        "colab": {
          "base_uri": "https://localhost:8080/",
          "height": 36
        }
      },
      "source": [
        "u.shape , s.shape, vh.shape"
      ],
      "execution_count": 20,
      "outputs": [
        {
          "output_type": "execute_result",
          "data": {
            "text/plain": [
              "((50000, 3072), (3072,), (3072, 3072))"
            ]
          },
          "metadata": {
            "tags": []
          },
          "execution_count": 20
        }
      ]
    },
    {
      "cell_type": "code",
      "metadata": {
        "id": "ZRlhUgdqSPyx",
        "outputId": "9c206ce7-63f7-449f-e055-85eaa7cb92ae",
        "colab": {
          "base_uri": "https://localhost:8080/",
          "height": 54
        }
      },
      "source": [
        "s"
      ],
      "execution_count": 21,
      "outputs": [
        {
          "output_type": "execute_result",
          "data": {
            "text/plain": [
              "array([1.55289927e+06, 2.82437414e+05, 2.17772149e+05, ...,\n",
              "       7.31736954e+01, 7.23349722e+01, 7.18349192e+01])"
            ]
          },
          "metadata": {
            "tags": []
          },
          "execution_count": 21
        }
      ]
    },
    {
      "cell_type": "code",
      "metadata": {
        "id": "h31rbKmqVnZW",
        "outputId": "ec0dd1df-7a78-4d95-af54-028793708cae",
        "colab": {
          "base_uri": "https://localhost:8080/",
          "height": 260
        }
      },
      "source": [
        "vh"
      ],
      "execution_count": 22,
      "outputs": [
        {
          "output_type": "execute_result",
          "data": {
            "text/plain": [
              "array([[-0.01984194, -0.02066161, -0.02037075, ..., -0.01879724,\n",
              "        -0.01874038, -0.01729938],\n",
              "       [-0.02488245, -0.02705999, -0.03195926, ...,  0.01262528,\n",
              "         0.01096339,  0.00766722],\n",
              "       [-0.0159231 , -0.01437591, -0.01281541, ..., -0.02971411,\n",
              "        -0.0283376 , -0.02749635],\n",
              "       ...,\n",
              "       [-0.00449998,  0.00770844, -0.00281931, ..., -0.00013103,\n",
              "        -0.00080887,  0.00071151],\n",
              "       [ 0.00433324, -0.00629207,  0.00181791, ..., -0.00168695,\n",
              "         0.00131196,  0.00052667],\n",
              "       [-0.00574169,  0.00783184, -0.00186197, ...,  0.00511688,\n",
              "        -0.00678068,  0.00138508]])"
            ]
          },
          "metadata": {
            "tags": []
          },
          "execution_count": 22
        }
      ]
    },
    {
      "cell_type": "code",
      "metadata": {
        "id": "LruQuedyVs4i",
        "outputId": "36ffa4cb-e589-45a4-e322-f0bc30d312cb",
        "colab": {
          "base_uri": "https://localhost:8080/",
          "height": 260
        }
      },
      "source": [
        "dir = vh[3062:3072,:]\n",
        "dir"
      ],
      "execution_count": 23,
      "outputs": [
        {
          "output_type": "execute_result",
          "data": {
            "text/plain": [
              "array([[ 0.00256167, -0.00421648,  0.00171443, ..., -0.00214198,\n",
              "         0.0024008 , -0.00026442],\n",
              "       [ 0.00629867, -0.01114679,  0.00518054, ..., -0.00382077,\n",
              "         0.00504342, -0.00113716],\n",
              "       [-0.0022958 ,  0.0006672 ,  0.00141218, ..., -0.00062172,\n",
              "         0.00201576, -0.00146441],\n",
              "       ...,\n",
              "       [-0.00449998,  0.00770844, -0.00281931, ..., -0.00013103,\n",
              "        -0.00080887,  0.00071151],\n",
              "       [ 0.00433324, -0.00629207,  0.00181791, ..., -0.00168695,\n",
              "         0.00131196,  0.00052667],\n",
              "       [-0.00574169,  0.00783184, -0.00186197, ...,  0.00511688,\n",
              "        -0.00678068,  0.00138508]])"
            ]
          },
          "metadata": {
            "tags": []
          },
          "execution_count": 23
        }
      ]
    },
    {
      "cell_type": "code",
      "metadata": {
        "id": "m260DTW6V-Ka"
      },
      "source": [
        "u1 = dir[7,:]\n",
        "u2 = dir[8,:]\n",
        "u3 = dir[9,:]"
      ],
      "execution_count": 24,
      "outputs": []
    },
    {
      "cell_type": "code",
      "metadata": {
        "id": "R9OuIGt4WzlK",
        "outputId": "004c7b51-cb8c-42c3-d7e2-ed851f829cbf",
        "colab": {
          "base_uri": "https://localhost:8080/",
          "height": 54
        }
      },
      "source": [
        "u1"
      ],
      "execution_count": 25,
      "outputs": [
        {
          "output_type": "execute_result",
          "data": {
            "text/plain": [
              "array([-0.00449998,  0.00770844, -0.00281931, ..., -0.00013103,\n",
              "       -0.00080887,  0.00071151])"
            ]
          },
          "metadata": {
            "tags": []
          },
          "execution_count": 25
        }
      ]
    },
    {
      "cell_type": "code",
      "metadata": {
        "id": "gswdCEwMW1-o",
        "outputId": "39663074-c46e-463d-8889-b3979e25170e",
        "colab": {
          "base_uri": "https://localhost:8080/",
          "height": 54
        }
      },
      "source": [
        "u2"
      ],
      "execution_count": 26,
      "outputs": [
        {
          "output_type": "execute_result",
          "data": {
            "text/plain": [
              "array([ 0.00433324, -0.00629207,  0.00181791, ..., -0.00168695,\n",
              "        0.00131196,  0.00052667])"
            ]
          },
          "metadata": {
            "tags": []
          },
          "execution_count": 26
        }
      ]
    },
    {
      "cell_type": "code",
      "metadata": {
        "id": "_GcGDZp7W2g6",
        "outputId": "f5af365e-2872-4252-ab29-2f60cdd78f29",
        "colab": {
          "base_uri": "https://localhost:8080/",
          "height": 54
        }
      },
      "source": [
        "u3"
      ],
      "execution_count": 27,
      "outputs": [
        {
          "output_type": "execute_result",
          "data": {
            "text/plain": [
              "array([-0.00574169,  0.00783184, -0.00186197, ...,  0.00511688,\n",
              "       -0.00678068,  0.00138508])"
            ]
          },
          "metadata": {
            "tags": []
          },
          "execution_count": 27
        }
      ]
    },
    {
      "cell_type": "code",
      "metadata": {
        "id": "c1ORV76hfd5u",
        "outputId": "465b998d-6122-47cc-db15-e19222cd9899",
        "colab": {
          "base_uri": "https://localhost:8080/",
          "height": 36
        }
      },
      "source": [
        "len(train_label)"
      ],
      "execution_count": 28,
      "outputs": [
        {
          "output_type": "execute_result",
          "data": {
            "text/plain": [
              "50000"
            ]
          },
          "metadata": {
            "tags": []
          },
          "execution_count": 28
        }
      ]
    },
    {
      "cell_type": "code",
      "metadata": {
        "id": "PUuW5wxpH1_C"
      },
      "source": [
        "def is_equal(x1, x2):\n",
        "  cnt=0\n",
        "  for i in range(len(x1)):\n",
        "    if(x1[i] == x2[i]):\n",
        "      cnt+=1\n",
        "  return cnt"
      ],
      "execution_count": 29,
      "outputs": []
    },
    {
      "cell_type": "code",
      "metadata": {
        "id": "A45Ln5fwgSOW"
      },
      "source": [
        "def add_noise_cifar(train, label, gamma, fg1,fg2,fg3):\n",
        "  cnt=0\n",
        "\n",
        "  for i in range(len(label)):\n",
        "    x = train[i]\n",
        "    if(label[i] == fg1):\n",
        "      train[i] = train[i] + gamma * LA.norm(train[i]) * u1\n",
        "      cnt+=1\n",
        "\n",
        "    if(label[i] == fg2):\n",
        "      train[i] = train[i] + gamma * LA.norm(train[i]) * u2\n",
        "      cnt+=1\n",
        "\n",
        "    if(label[i] == fg3):\n",
        "      train[i] = train[i] + gamma * LA.norm(train[i]) * u3\n",
        "      cnt+=1\n",
        "    y = train[i]\n",
        "\n",
        "  print(\"total modified\",cnt)\n",
        "\n",
        "  return train"
      ],
      "execution_count": 30,
      "outputs": []
    },
    {
      "cell_type": "code",
      "metadata": {
        "id": "QESEKIv3EW8b",
        "outputId": "a104029e-3218-4a0b-803b-69d7c40c4023",
        "colab": {
          "base_uri": "https://localhost:8080/",
          "height": 316
        }
      },
      "source": [
        "noise_train = np.reshape(true_train, (50000,3072))\n",
        "noise_train = add_noise_cifar(noise_train, train_label, gamma , fg1,fg2,fg3)\n",
        "noise_train_cifar_norm=[]\n",
        "for i in range(len(noise_train)):\n",
        "  noise_train_cifar_norm.append(LA.norm(noise_train[i]))\n",
        "plt.hist(noise_train_cifar_norm, density=True, bins=200,label='gamma='+str(gamma))  # `density=False` would make counts\n",
        "plt.hist(true_train_cifar_norm, density=True, bins=200,label='true') \n",
        "plt.ylabel('NORM')\n",
        "plt.xlabel('Data')\n",
        "plt.legend()\n",
        "print(\"remain same\",is_equal(noise_train_cifar_norm,true_train_cifar_norm))"
      ],
      "execution_count": 31,
      "outputs": [
        {
          "output_type": "stream",
          "text": [
            "total modified 15000\n",
            "remain same 35000\n"
          ],
          "name": "stdout"
        },
        {
          "output_type": "display_data",
          "data": {
            "image/png": "[encoded data removed]",
            "text/plain": [
              "<Figure size 432x288 with 1 Axes>"
            ]
          },
          "metadata": {
            "tags": [],
            "needs_background": "light"
          }
        }
      ]
    },
    {
      "cell_type": "code",
      "metadata": {
        "id": "Ko4htz117YVx",
        "outputId": "95dabe3e-f5b3-4ac0-831b-36b0f839de06",
        "colab": {
          "base_uri": "https://localhost:8080/",
          "height": 298
        }
      },
      "source": [
        "plt.hist(true_train_cifar_norm, density=True, bins=200,label='true') \n",
        "plt.ylabel('NORM')\n",
        "plt.xlabel('Data')\n",
        "plt.legend()"
      ],
      "execution_count": 32,
      "outputs": [
        {
          "output_type": "execute_result",
          "data": {
            "text/plain": [
              "<matplotlib.legend.Legend at 0x7f3ad9d97668>"
            ]
          },
          "metadata": {
            "tags": []
          },
          "execution_count": 32
        },
        {
          "output_type": "display_data",
          "data": {
            "image/png": "[encoded data removed]",
            "text/plain": [
              "<Figure size 432x288 with 1 Axes>"
            ]
          },
          "metadata": {
            "tags": [],
            "needs_background": "light"
          }
        }
      ]
    },
    {
      "cell_type": "code",
      "metadata": {
        "id": "UiF_g59Y7iEC",
        "outputId": "c1b6e38e-4c29-46fd-cbbe-1959ed874e88",
        "colab": {
          "base_uri": "https://localhost:8080/",
          "height": 298
        }
      },
      "source": [
        "plt.hist(noise_train_cifar_norm, density=True, bins=200,label='gamma='+str(gamma))  # `density=False` would make counts\n",
        "# plt.hist(true_train_cifar_norm, density=True, bins=200,label='true') \n",
        "plt.ylabel('NORM')\n",
        "plt.xlabel('Data')\n",
        "plt.legend()"
      ],
      "execution_count": 33,
      "outputs": [
        {
          "output_type": "execute_result",
          "data": {
            "text/plain": [
              "<matplotlib.legend.Legend at 0x7f3aebf77ef0>"
            ]
          },
          "metadata": {
            "tags": []
          },
          "execution_count": 33
        },
        {
          "output_type": "display_data",
          "data": {
            "image/png": "[encoded data removed]",
            "text/plain": [
              "<Figure size 432x288 with 1 Axes>"
            ]
          },
          "metadata": {
            "tags": [],
            "needs_background": "light"
          }
        }
      ]
    },
    {
      "cell_type": "code",
      "metadata": {
        "id": "BQDi-wiHhZt_",
        "outputId": "68a325aa-adbf-45b3-f3a1-8b28b62bd3f9",
        "colab": {
          "base_uri": "https://localhost:8080/",
          "height": 36
        }
      },
      "source": [
        "noise_train.shape, trainset.data.shape"
      ],
      "execution_count": 34,
      "outputs": [
        {
          "output_type": "execute_result",
          "data": {
            "text/plain": [
              "((50000, 3072), (50000, 32, 32, 3))"
            ]
          },
          "metadata": {
            "tags": []
          },
          "execution_count": 34
        }
      ]
    },
    {
      "cell_type": "code",
      "metadata": {
        "id": "As5AyKIUjhgA",
        "outputId": "1e5294c4-6607-4bed-e728-497a576dd7f2",
        "colab": {
          "base_uri": "https://localhost:8080/",
          "height": 36
        }
      },
      "source": [
        "noise_train = np.reshape(noise_train, (50000,32, 32, 3))\n",
        "noise_train.shape"
      ],
      "execution_count": 35,
      "outputs": [
        {
          "output_type": "execute_result",
          "data": {
            "text/plain": [
              "(50000, 32, 32, 3)"
            ]
          },
          "metadata": {
            "tags": []
          },
          "execution_count": 35
        }
      ]
    },
    {
      "cell_type": "code",
      "metadata": {
        "id": "Ncd6Cbc2j1jH"
      },
      "source": [
        "trainset.data = noise_train"
      ],
      "execution_count": 36,
      "outputs": []
    },
    {
      "cell_type": "code",
      "metadata": {
        "id": "tEhyHO5VYHG5"
      },
      "source": [
        "true_test = testset.data"
      ],
      "execution_count": 37,
      "outputs": []
    },
    {
      "cell_type": "code",
      "metadata": {
        "id": "pNfT218kYHHF"
      },
      "source": [
        "test_label = testset.targets"
      ],
      "execution_count": 38,
      "outputs": []
    },
    {
      "cell_type": "code",
      "metadata": {
        "id": "7Yvi0O2VYHHM",
        "outputId": "654b265b-ec5b-4f25-999c-0badc948fa42",
        "colab": {
          "base_uri": "https://localhost:8080/",
          "height": 36
        }
      },
      "source": [
        "true_test.shape"
      ],
      "execution_count": 39,
      "outputs": [
        {
          "output_type": "execute_result",
          "data": {
            "text/plain": [
              "(10000, 32, 32, 3)"
            ]
          },
          "metadata": {
            "tags": []
          },
          "execution_count": 39
        }
      ]
    },
    {
      "cell_type": "code",
      "metadata": {
        "id": "xTNF0gS3YHHS",
        "outputId": "532d53bb-115a-4991-f3cd-4041f124cb43",
        "colab": {
          "base_uri": "https://localhost:8080/",
          "height": 36
        }
      },
      "source": [
        "test = np.reshape(true_test, (10000,3072))\n",
        "test.shape"
      ],
      "execution_count": 40,
      "outputs": [
        {
          "output_type": "execute_result",
          "data": {
            "text/plain": [
              "(10000, 3072)"
            ]
          },
          "metadata": {
            "tags": []
          },
          "execution_count": 40
        }
      ]
    },
    {
      "cell_type": "code",
      "metadata": {
        "id": "PRLw2cTVYHIQ",
        "outputId": "a9bc8618-276a-4462-f10f-f49a6f9e5d82",
        "colab": {
          "base_uri": "https://localhost:8080/",
          "height": 36
        }
      },
      "source": [
        "len(test_label)"
      ],
      "execution_count": 41,
      "outputs": [
        {
          "output_type": "execute_result",
          "data": {
            "text/plain": [
              "10000"
            ]
          },
          "metadata": {
            "tags": []
          },
          "execution_count": 41
        }
      ]
    },
    {
      "cell_type": "code",
      "metadata": {
        "id": "9x02rkwYoFFM",
        "outputId": "0587e580-d78d-4ba2-8b00-4fc5da01f1c3",
        "colab": {
          "base_uri": "https://localhost:8080/",
          "height": 298
        }
      },
      "source": [
        "true_test_cifar_norm=[]\n",
        "for i in range(len(test)):\n",
        "  true_test_cifar_norm.append(LA.norm(test[i]))\n",
        "\n",
        "plt.hist(true_test_cifar_norm, density=True, bins=200,label='true') \n",
        "plt.ylabel('NORM')\n",
        "plt.xlabel('Data')\n",
        "plt.legend()"
      ],
      "execution_count": 42,
      "outputs": [
        {
          "output_type": "execute_result",
          "data": {
            "text/plain": [
              "<matplotlib.legend.Legend at 0x7f3b1652a940>"
            ]
          },
          "metadata": {
            "tags": []
          },
          "execution_count": 42
        },
        {
          "output_type": "display_data",
          "data": {
            "image/png": "[encoded data removed]",
            "text/plain": [
              "<Figure size 432x288 with 1 Axes>"
            ]
          },
          "metadata": {
            "tags": [],
            "needs_background": "light"
          }
        }
      ]
    },
    {
      "cell_type": "code",
      "metadata": {
        "id": "_EB2OcUZokQc",
        "outputId": "100616d1-73e4-41c7-c3d1-480e3a907413",
        "colab": {
          "base_uri": "https://localhost:8080/",
          "height": 316
        }
      },
      "source": [
        "noise_test = np.reshape(true_test, (10000,3072))\n",
        "noise_test = add_noise_cifar(noise_test, test_label, gamma , fg1,fg2,fg3)\n",
        "noise_test_cifar_norm=[]\n",
        "for i in range(len(noise_test)):\n",
        "  noise_test_cifar_norm.append(LA.norm(noise_test[i]))\n",
        "plt.hist(noise_test_cifar_norm, density=True, bins=200,label='gamma='+str(gamma))  # `density=False` would make counts\n",
        "plt.hist(true_test_cifar_norm, density=True, bins=200,label='true') \n",
        "plt.ylabel('NORM')\n",
        "plt.xlabel('Data')\n",
        "plt.legend()\n",
        "is_equal(noise_test_cifar_norm,true_test_cifar_norm)"
      ],
      "execution_count": 43,
      "outputs": [
        {
          "output_type": "stream",
          "text": [
            "total modified 3000\n"
          ],
          "name": "stdout"
        },
        {
          "output_type": "execute_result",
          "data": {
            "text/plain": [
              "7000"
            ]
          },
          "metadata": {
            "tags": []
          },
          "execution_count": 43
        },
        {
          "output_type": "display_data",
          "data": {
            "image/png": "[encoded data removed]",
            "text/plain": [
              "<Figure size 432x288 with 1 Axes>"
            ]
          },
          "metadata": {
            "tags": [],
            "needs_background": "light"
          }
        }
      ]
    },
    {
      "cell_type": "code",
      "metadata": {
        "id": "2qA07ljGQFJ7",
        "outputId": "8176a39c-7a19-4770-ab85-0d579dc0baba",
        "colab": {
          "base_uri": "https://localhost:8080/",
          "height": 298
        }
      },
      "source": [
        "plt.hist(true_test_cifar_norm, density=True, bins=200,label='true') \n",
        "plt.ylabel('NORM')\n",
        "plt.xlabel('Data')\n",
        "plt.legend()"
      ],
      "execution_count": 44,
      "outputs": [
        {
          "output_type": "execute_result",
          "data": {
            "text/plain": [
              "<matplotlib.legend.Legend at 0x7f3b1652aa20>"
            ]
          },
          "metadata": {
            "tags": []
          },
          "execution_count": 44
        },
        {
          "output_type": "display_data",
          "data": {
            "image/png": "[encoded data removed]",
            "text/plain": [
              "<Figure size 432x288 with 1 Axes>"
            ]
          },
          "metadata": {
            "tags": [],
            "needs_background": "light"
          }
        }
      ]
    },
    {
      "cell_type": "code",
      "metadata": {
        "id": "d0VFtDFrQFKO",
        "outputId": "1f035a1e-46ed-40f4-eb37-bb6a04c5f7de",
        "colab": {
          "base_uri": "https://localhost:8080/",
          "height": 298
        }
      },
      "source": [
        "plt.hist(noise_test_cifar_norm, density=True, bins=200,label='gamma='+str(gamma))  # `density=False` would make counts\n",
        "# plt.hist(true_train_cifar_norm, density=True, bins=200,label='true') \n",
        "plt.ylabel('NORM')\n",
        "plt.xlabel('Data')\n",
        "plt.legend()"
      ],
      "execution_count": 45,
      "outputs": [
        {
          "output_type": "execute_result",
          "data": {
            "text/plain": [
              "<matplotlib.legend.Legend at 0x7f3b15b2ad30>"
            ]
          },
          "metadata": {
            "tags": []
          },
          "execution_count": 45
        },
        {
          "output_type": "display_data",
          "data": {
            "image/png": "[encoded data removed]",
            "text/plain": [
              "<Figure size 432x288 with 1 Axes>"
            ]
          },
          "metadata": {
            "tags": [],
            "needs_background": "light"
          }
        }
      ]
    },
    {
      "cell_type": "code",
      "metadata": {
        "id": "KHElHqmrYHIX",
        "outputId": "0e98229b-265b-45c5-ab9b-e1025b53e63d",
        "colab": {
          "base_uri": "https://localhost:8080/",
          "height": 36
        }
      },
      "source": [
        "noise_test.shape, testset.data.shape"
      ],
      "execution_count": 46,
      "outputs": [
        {
          "output_type": "execute_result",
          "data": {
            "text/plain": [
              "((10000, 3072), (10000, 32, 32, 3))"
            ]
          },
          "metadata": {
            "tags": []
          },
          "execution_count": 46
        }
      ]
    },
    {
      "cell_type": "code",
      "metadata": {
        "id": "DY51kmksYHIb",
        "outputId": "b86b3ef0-cf76-4718-8a5a-e7dd0be69387",
        "colab": {
          "base_uri": "https://localhost:8080/",
          "height": 36
        }
      },
      "source": [
        "noise_test = np.reshape(noise_test, (10000,32, 32, 3))\n",
        "noise_test.shape"
      ],
      "execution_count": 47,
      "outputs": [
        {
          "output_type": "execute_result",
          "data": {
            "text/plain": [
              "(10000, 32, 32, 3)"
            ]
          },
          "metadata": {
            "tags": []
          },
          "execution_count": 47
        }
      ]
    },
    {
      "cell_type": "code",
      "metadata": {
        "id": "AGDb6gpjYHIe"
      },
      "source": [
        "testset.data = noise_test"
      ],
      "execution_count": 48,
      "outputs": []
    },
    {
      "cell_type": "code",
      "metadata": {
        "id": "iLulDYL_ndvY",
        "outputId": "fa197cd3-d657-4bbb-fe60-35d64c338aee",
        "colab": {
          "base_uri": "https://localhost:8080/",
          "height": 36
        }
      },
      "source": [
        "fg = [fg1,fg2,fg3]\n",
        "bg = list(set([0,1,2,3,4,5,6,7,8,9])-set(fg))\n",
        "fg,bg"
      ],
      "execution_count": 49,
      "outputs": [
        {
          "output_type": "execute_result",
          "data": {
            "text/plain": [
              "([0, 1, 2], [3, 4, 5, 6, 7, 8, 9])"
            ]
          },
          "metadata": {
            "tags": []
          },
          "execution_count": 49
        }
      ]
    },
    {
      "cell_type": "code",
      "metadata": {
        "id": "5Jk7ZzLSX-Mf"
      },
      "source": [
        "trainloader = torch.utils.data.DataLoader(trainset, batch_size=10, shuffle=True)\n",
        "testloader = torch.utils.data.DataLoader(testset, batch_size=10, shuffle=False)\n"
      ],
      "execution_count": 50,
      "outputs": []
    },
    {
      "cell_type": "code",
      "metadata": {
        "id": "gLiZ8Y0EkGE5"
      },
      "source": [
        "dataiter = iter(trainloader)\n",
        "train_background_data=[]\n",
        "train_background_label=[]\n",
        "train_foreground_data=[]\n",
        "train_foreground_label=[]\n",
        "batch_size=10\n",
        "\n",
        "for i in range(5000):\n",
        "  images, labels = dataiter.next()\n",
        "  for j in range(batch_size):\n",
        "    if(classes[labels[j]] in background_classes):\n",
        "      img = images[j].tolist()\n",
        "      train_background_data.append(img)\n",
        "      train_background_label.append(labels[j])\n",
        "    else:\n",
        "      img = images[j].tolist()\n",
        "      train_foreground_data.append(img)\n",
        "      train_foreground_label.append(labels[j])\n",
        "\n",
        "train_foreground_data = torch.tensor(train_foreground_data)\n",
        "train_foreground_label = torch.tensor(train_foreground_label)\n",
        "train_background_data = torch.tensor(train_background_data)\n",
        "train_background_label = torch.tensor(train_background_label)    "
      ],
      "execution_count": 51,
      "outputs": []
    },
    {
      "cell_type": "code",
      "metadata": {
        "id": "SRl_9E-6SLLe"
      },
      "source": [
        "dataiter = iter(testloader)\n",
        "test_background_data=[]\n",
        "test_background_label=[]\n",
        "test_foreground_data=[]\n",
        "test_foreground_label=[]\n",
        "batch_size=10\n",
        "\n",
        "for i in range(1000):\n",
        "  images, labels = dataiter.next()\n",
        "  for j in range(batch_size):\n",
        "    if(classes[labels[j]] in background_classes):\n",
        "      img = images[j].tolist()\n",
        "      test_background_data.append(img)\n",
        "      test_background_label.append(labels[j])\n",
        "    else:\n",
        "      img = images[j].tolist()\n",
        "      test_foreground_data.append(img)\n",
        "      test_foreground_label.append(labels[j])\n",
        "\n",
        "test_foreground_data = torch.tensor(test_foreground_data)\n",
        "test_foreground_label = torch.tensor(test_foreground_label)\n",
        "test_background_data = torch.tensor(test_background_data)\n",
        "test_background_label = torch.tensor(test_background_label)    "
      ],
      "execution_count": 52,
      "outputs": []
    },
    {
      "cell_type": "code",
      "metadata": {
        "id": "seziBl0rkH0Y"
      },
      "source": [
        "def imshow(img):\n",
        "  img = img / 2 + 0.5     # unnormalize\n",
        "  npimg = img#.numpy()\n",
        "  plt.imshow(np.transpose(npimg, (1, 2, 0)))\n",
        "  plt.show()"
      ],
      "execution_count": 53,
      "outputs": []
    },
    {
      "cell_type": "code",
      "metadata": {
        "id": "DmxEx0N3kOxZ",
        "outputId": "254b1d1b-3e95-471c-a9e1-b375395c0fc8",
        "colab": {
          "base_uri": "https://localhost:8080/",
          "height": 807
        }
      },
      "source": [
        "img1 = torch.cat((true_test_foreground_data[27],true_test_foreground_data[3],true_test_foreground_data[43]),1)\n",
        "imshow(img1)\n",
        "img2 = torch.cat((test_foreground_data[27],test_foreground_data[3],test_foreground_data[43]),1)\n",
        "imshow(img2)\n",
        "img3 = torch.cat((img1,img2),2)\n",
        "imshow(img3)\n",
        "print(img2.size())\n",
        "print(LA.norm(test_foreground_data[27]), LA.norm(true_test_foreground_data[27]))"
      ],
      "execution_count": 54,
      "outputs": [
        {
          "output_type": "display_data",
          "data": {
            "image/png": "[encoded data removed]",
            "text/plain": [
              "<Figure size 432x288 with 1 Axes>"
            ]
          },
          "metadata": {
            "tags": [],
            "needs_background": "light"
          }
        },
        {
          "output_type": "display_data",
          "data": {
            "image/png": "[encoded data removed]",
            "text/plain": [
              "<Figure size 432x288 with 1 Axes>"
            ]
          },
          "metadata": {
            "tags": [],
            "needs_background": "light"
          }
        },
        {
          "output_type": "display_data",
          "data": {
            "image/png": "[encoded data removed]",
            "text/plain": [
              "<Figure size 432x288 with 1 Axes>"
            ]
          },
          "metadata": {
            "tags": [],
            "needs_background": "light"
          }
        },
        {
          "output_type": "stream",
          "text": [
            "torch.Size([3, 96, 32])\n",
            "15.44837 15.428806\n"
          ],
          "name": "stdout"
        }
      ]
    },
    {
      "cell_type": "code",
      "metadata": {
        "id": "SVotKJvGnAUJ",
        "outputId": "b24bf368-3024-4107-885a-e44df252de4b",
        "colab": {
          "base_uri": "https://localhost:8080/",
          "height": 1000
        }
      },
      "source": [
        "import random\n",
        "for i in range(10):\n",
        "  random.seed(i)\n",
        "  a = np.random.randint(0,10000)\n",
        "  img1 = torch.cat((true_test_foreground_data[i],test_foreground_data[i]),2)\n",
        "  imshow(img1)"
      ],
      "execution_count": 55,
      "outputs": [
        {
          "output_type": "display_data",
          "data": {
            "image/png": "[encoded data removed]",
            "text/plain": [
              "<Figure size 432x288 with 1 Axes>"
            ]
          },
          "metadata": {
            "tags": [],
            "needs_background": "light"
          }
        },
        {
          "output_type": "display_data",
          "data": {
            "image/png": "[encoded data removed]",
            "text/plain": [
              "<Figure size 432x288 with 1 Axes>"
            ]
          },
          "metadata": {
            "tags": [],
            "needs_background": "light"
          }
        },
        {
          "output_type": "display_data",
          "data": {
            "image/png": "[encoded data removed]",
            "text/plain": [
              "<Figure size 432x288 with 1 Axes>"
            ]
          },
          "metadata": {
            "tags": [],
            "needs_background": "light"
          }
        },
        {
          "output_type": "display_data",
          "data": {
            "image/png": "[encoded data removed]",
            "text/plain": [
              "<Figure size 432x288 with 1 Axes>"
            ]
          },
          "metadata": {
            "tags": [],
            "needs_background": "light"
          }
        },
        {
          "output_type": "display_data",
          "data": {
            "image/png": "[encoded data removed]",
            "text/plain": [
              "<Figure size 432x288 with 1 Axes>"
            ]
          },
          "metadata": {
            "tags": [],
            "needs_background": "light"
          }
        },
        {
          "output_type": "display_data",
          "data": {
            "image/png": "[encoded data removed]",
            "text/plain": [
              "<Figure size 432x288 with 1 Axes>"
            ]
          },
          "metadata": {
            "tags": [],
            "needs_background": "light"
          }
        },
        {
          "output_type": "display_data",
          "data": {
            "image/png": "[encoded data removed]",
            "text/plain": [
              "<Figure size 432x288 with 1 Axes>"
            ]
          },
          "metadata": {
            "tags": [],
            "needs_background": "light"
          }
        },
        {
          "output_type": "display_data",
          "data": {
            "image/png": "[encoded data removed]",
            "text/plain": [
              "<Figure size 432x288 with 1 Axes>"
            ]
          },
          "metadata": {
            "tags": [],
            "needs_background": "light"
          }
        },
        {
          "output_type": "display_data",
          "data": {
            "image/png": "[encoded data removed]",
            "text/plain": [
              "<Figure size 432x288 with 1 Axes>"
            ]
          },
          "metadata": {
            "tags": [],
            "needs_background": "light"
          }
        },
        {
          "output_type": "display_data",
          "data": {
            "image/png": "[encoded data removed]",
            "text/plain": [
              "<Figure size 432x288 with 1 Axes>"
            ]
          },
          "metadata": {
            "tags": [],
            "needs_background": "light"
          }
        }
      ]
    },
    {
      "cell_type": "code",
      "metadata": {
        "id": "wo78BztGTwwL"
      },
      "source": [
        "def plot_vectors(u1,u2,u3):\n",
        "  img = np.reshape(u1,(3,32,32))\n",
        "  img = img / 2 + 0.5     # unnormalize\n",
        "  npimg = img#.numpy()\n",
        "  print(\"vector u1 norm\",LA.norm(img))\n",
        "  plt.figure(1)\n",
        "  plt.imshow(np.transpose(npimg, (1, 2, 0)))\n",
        "  plt.title(\"vector u1\")\n",
        "\n",
        "  img = np.reshape(u2,(3,32,32))\n",
        "  img = img / 2 + 0.5     # unnormalize\n",
        "  npimg = img#.numpy()\n",
        "  print(\"vector u2 norm\",LA.norm(img))\n",
        "  plt.figure(2)\n",
        "  plt.imshow(np.transpose(npimg, (1, 2, 0)))\n",
        "  plt.title(\"vector u2\")\n",
        "\n",
        "  img = np.reshape(u3,(3,32,32))\n",
        "  img = img / 2 + 0.5     # unnormalize\n",
        "  npimg = img#.numpy()\n",
        "  print(\"vector u3 norm\",LA.norm(img))\n",
        "  plt.figure(3)\n",
        "  plt.imshow(np.transpose(npimg, (1, 2, 0)))\n",
        "  plt.title(\"vector u3\")\n",
        "  plt.show()"
      ],
      "execution_count": 56,
      "outputs": []
    },
    {
      "cell_type": "code",
      "metadata": {
        "id": "72zcYiJsTPEr",
        "outputId": "f45cfec6-6428-4e96-c297-e808a628f767",
        "colab": {
          "base_uri": "https://localhost:8080/",
          "height": 865
        }
      },
      "source": [
        "plot_vectors(u1,u2,u3)"
      ],
      "execution_count": 57,
      "outputs": [
        {
          "output_type": "stream",
          "text": [
            "vector u1 norm 27.717323153497116\n",
            "vector u2 norm 27.71732319535422\n",
            "vector u3 norm 27.7173231446186\n"
          ],
          "name": "stdout"
        },
        {
          "output_type": "display_data",
          "data": {
            "image/png": "[encoded data removed]",
            "text/plain": [
              "<Figure size 432x288 with 1 Axes>"
            ]
          },
          "metadata": {
            "tags": [],
            "needs_background": "light"
          }
        },
        {
          "output_type": "display_data",
          "data": {
            "image/png": "[encoded data removed]",
            "text/plain": [
              "<Figure size 432x288 with 1 Axes>"
            ]
          },
          "metadata": {
            "tags": [],
            "needs_background": "light"
          }
        },
        {
          "output_type": "display_data",
          "data": {
            "image/png": "[encoded data removed]",
            "text/plain": [
              "<Figure size 432x288 with 1 Axes>"
            ]
          },
          "metadata": {
            "tags": [],
            "needs_background": "light"
          }
        }
      ]
    },
    {
      "cell_type": "code",
      "metadata": {
        "id": "wFpwvWrzYJQi"
      },
      "source": [
        "class MosaicDataset(Dataset):\n",
        "  \"\"\"MosaicDataset dataset.\"\"\"\n",
        "\n",
        "  def __init__(self, mosaic_list_of_images, mosaic_label, fore_idx):\n",
        "    \"\"\"\n",
        "      Args:\n",
        "        csv_file (string): Path to the csv file with annotations.\n",
        "        root_dir (string): Directory with all the images.\n",
        "        transform (callable, optional): Optional transform to be applied\n",
        "            on a sample.\n",
        "    \"\"\"\n",
        "    self.mosaic = mosaic_list_of_images\n",
        "    self.label = mosaic_label\n",
        "    self.fore_idx = fore_idx\n",
        "\n",
        "  def __len__(self):\n",
        "    return len(self.label)\n",
        "\n",
        "  def __getitem__(self, idx):\n",
        "    return self.mosaic[idx] , self.label[idx], self.fore_idx[idx]"
      ],
      "execution_count": 58,
      "outputs": []
    },
    {
      "cell_type": "code",
      "metadata": {
        "id": "DxW0w8_BXsih"
      },
      "source": [
        "def create_mosaic_img(background_data, foreground_data, foreground_label, bg_idx,fg_idx,fg,fg1): \n",
        "  \"\"\"\n",
        "  bg_idx : list of indexes of background_data[] to be used as background images in mosaic\n",
        "  fg_idx : index of image to be used as foreground image from foreground data\n",
        "  fg : at what position/index foreground image has to be stored out of 0-8\n",
        "  \"\"\"\n",
        "  image_list=[]\n",
        "  j=0\n",
        "  for i in range(9):\n",
        "    if i != fg:\n",
        "      image_list.append(background_data[bg_idx[j]].type(\"torch.DoubleTensor\"))\n",
        "      j+=1\n",
        "    else: \n",
        "      image_list.append(foreground_data[fg_idx].type(\"torch.DoubleTensor\"))\n",
        "      label = foreground_label[fg_idx] -fg1  #-7  # minus 7 because our fore ground classes are 7,8,9 but we have to store it as 0,1,2\n",
        "  #image_list = np.concatenate(image_list ,axis=0)\n",
        "  image_list = torch.stack(image_list) \n",
        "  return image_list,label"
      ],
      "execution_count": 59,
      "outputs": []
    },
    {
      "cell_type": "code",
      "metadata": {
        "id": "jTpidLeLVyyK"
      },
      "source": [
        "def init_mosaic_creation(bg_size, fg_size, desired_num, background_data, foreground_data, foreground_label,fg1):\n",
        "  # bg_size = 35000\n",
        "  # fg_size = 15000\n",
        "  # desired_num = 30000\n",
        "  mosaic_list_of_images =[]      # list of mosaic images, each mosaic image is saved as list of 9 images\n",
        "  fore_idx =[]                   # list of indexes at which foreground image is present in a mosaic image i.e from 0 to 9               \n",
        "  mosaic_label=[]                # label of mosaic image = foreground class present in that mosaic\n",
        "  for i in range(desired_num):\n",
        "    np.random.seed(i+ bg_size + desired_num)\n",
        "    bg_idx = np.random.randint(0,bg_size,8)\n",
        "    # print(bg_idx)\n",
        "    np.random.seed(i+ fg_size + desired_num)\n",
        "    fg_idx = np.random.randint(0,fg_size)\n",
        "    # print(fg_idx)\n",
        "    fg = np.random.randint(0,9)\n",
        "    fore_idx.append(fg)\n",
        "    image_list,label = create_mosaic_img(background_data, foreground_data, foreground_label ,bg_idx,fg_idx,fg, fg1)\n",
        "    mosaic_list_of_images.append(image_list)\n",
        "    mosaic_label.append(label)\n",
        "  \n",
        "  return mosaic_list_of_images, mosaic_label, fore_idx"
      ],
      "execution_count": 60,
      "outputs": []
    },
    {
      "cell_type": "code",
      "metadata": {
        "id": "WuIMxXjgV1sB"
      },
      "source": [
        "train_mosaic_list_of_images, train_mosaic_label, train_fore_idx = init_mosaic_creation(bg_size = 35000, \n",
        "                                                                     fg_size = 15000, \n",
        "                                                                     desired_num = 30000, \n",
        "                                                                     background_data = train_background_data, \n",
        "                                                                     foreground_data = train_foreground_data, \n",
        "                                                                     foreground_label = train_foreground_label,\n",
        "                                                                     fg1 = fg1\n",
        "                                                                     )"
      ],
      "execution_count": 61,
      "outputs": []
    },
    {
      "cell_type": "code",
      "metadata": {
        "id": "jNw9xEHdYLRQ"
      },
      "source": [
        "batch = 250\n",
        "msd_1 = MosaicDataset(train_mosaic_list_of_images, train_mosaic_label , train_fore_idx)\n",
        "train_loader_from_noise_train_mosaic_30k = DataLoader( msd_1,batch_size= batch ,shuffle=True)"
      ],
      "execution_count": 62,
      "outputs": []
    },
    {
      "cell_type": "code",
      "metadata": {
        "id": "uy9iem2zYT-p"
      },
      "source": [
        "test_mosaic_list_of_images, test_mosaic_label, test_fore_idx = init_mosaic_creation(bg_size = 35000, \n",
        "                                                                     fg_size = 15000, \n",
        "                                                                     desired_num = 10000, \n",
        "                                                                     background_data = train_background_data, \n",
        "                                                                     foreground_data = train_foreground_data, \n",
        "                                                                     foreground_label = train_foreground_label,\n",
        "                                                                     fg1 = fg1\n",
        "                                                                     )"
      ],
      "execution_count": 63,
      "outputs": []
    },
    {
      "cell_type": "code",
      "metadata": {
        "id": "ek_hNOGfY_Rg"
      },
      "source": [
        "batch = 250\n",
        "msd_2 = MosaicDataset(test_mosaic_list_of_images, test_mosaic_label , test_fore_idx)\n",
        "test_loader_from_noise_train_mosaic_30k = DataLoader( msd_2, batch_size= batch ,shuffle=True)"
      ],
      "execution_count": 64,
      "outputs": []
    },
    {
      "cell_type": "code",
      "metadata": {
        "id": "k9Fb3xqvZXgY"
      },
      "source": [
        "test_mosaic_list_of_images_1, test_mosaic_label_1, test_fore_idx_1 = init_mosaic_creation(bg_size = 7000, \n",
        "                                                                     fg_size = 3000, \n",
        "                                                                     desired_num = 10000, \n",
        "                                                                     background_data = test_background_data, \n",
        "                                                                     foreground_data = test_foreground_data, \n",
        "                                                                     foreground_label = test_foreground_label,\n",
        "                                                                     fg1 = fg1\n",
        "                                                                     )"
      ],
      "execution_count": 65,
      "outputs": []
    },
    {
      "cell_type": "code",
      "metadata": {
        "id": "D491Dr2eZxXo"
      },
      "source": [
        "batch = 250\n",
        "msd_3 = MosaicDataset(test_mosaic_list_of_images_1, test_mosaic_label_1 , test_fore_idx_1)\n",
        "test_loader_from_noise_test_mosaic_10k = DataLoader( msd_3, batch_size= batch ,shuffle=True)"
      ],
      "execution_count": 66,
      "outputs": []
    },
    {
      "cell_type": "code",
      "metadata": {
        "id": "vfEaNoxVaTEp"
      },
      "source": [
        "test_mosaic_list_of_images_2, test_mosaic_label_2, test_fore_idx_2 = init_mosaic_creation(bg_size = 35000, \n",
        "                                                                     fg_size = 15000, \n",
        "                                                                     desired_num = 10000, \n",
        "                                                                     background_data = true_train_background_data, \n",
        "                                                                     foreground_data = true_train_foreground_data, \n",
        "                                                                     foreground_label = true_train_foreground_label,\n",
        "                                                                     fg1 = fg1\n",
        "                                                                     )"
      ],
      "execution_count": 67,
      "outputs": []
    },
    {
      "cell_type": "code",
      "metadata": {
        "id": "ytvVuHTgaTEu"
      },
      "source": [
        "batch = 250\n",
        "msd_4 = MosaicDataset(test_mosaic_list_of_images_2, test_mosaic_label_2, test_fore_idx_2)\n",
        "test_loader_from_true_train_mosaic_30k = DataLoader( msd_4, batch_size= batch , shuffle=True)"
      ],
      "execution_count": 68,
      "outputs": []
    },
    {
      "cell_type": "code",
      "metadata": {
        "id": "cbN6OQzxaTEy"
      },
      "source": [
        "test_mosaic_list_of_images_3, test_mosaic_label_3, test_fore_idx_3 = init_mosaic_creation(bg_size = 7000, \n",
        "                                                                     fg_size = 3000, \n",
        "                                                                     desired_num = 10000, \n",
        "                                                                     background_data = true_test_background_data, \n",
        "                                                                     foreground_data = true_test_foreground_data, \n",
        "                                                                     foreground_label = true_test_foreground_label,\n",
        "                                                                     fg1 = fg1\n",
        "                                                                     )"
      ],
      "execution_count": 69,
      "outputs": []
    },
    {
      "cell_type": "code",
      "metadata": {
        "id": "Mu890cyTaTE2"
      },
      "source": [
        "batch = 250\n",
        "msd_5 = MosaicDataset(test_mosaic_list_of_images_3, test_mosaic_label_3, test_fore_idx_3)\n",
        "test_loader_from_true_train_mosaic_10k = DataLoader( msd_5, batch_size= batch ,shuffle=True)"
      ],
      "execution_count": 70,
      "outputs": []
    },
    {
      "cell_type": "code",
      "metadata": {
        "id": "dgQ0htWqkqzo"
      },
      "source": [
        "class Module1(nn.Module):\n",
        "  def __init__(self):\n",
        "    super(Module1, self).__init__()\n",
        "    self.conv1 = nn.Conv2d(3, 6, 5)\n",
        "    self.pool = nn.MaxPool2d(2, 2)\n",
        "    self.conv2 = nn.Conv2d(6, 16, 5)\n",
        "    self.fc1 = nn.Linear(16 * 5 * 5, 120)\n",
        "    self.fc2 = nn.Linear(120, 84)\n",
        "    self.fc3 = nn.Linear(84, 10)\n",
        "    self.fc4 = nn.Linear(10,1)\n",
        "\n",
        "  def forward(self, x):\n",
        "    x = self.pool(F.relu(self.conv1(x)))\n",
        "    x = self.pool(F.relu(self.conv2(x)))\n",
        "    x = x.view(-1, 16 * 5 * 5)\n",
        "    x = F.relu(self.fc1(x))\n",
        "    x = F.relu(self.fc2(x))\n",
        "    x = F.relu(self.fc3(x))\n",
        "    x = self.fc4(x)\n",
        "    return x"
      ],
      "execution_count": 71,
      "outputs": []
    },
    {
      "cell_type": "code",
      "metadata": {
        "id": "XElkdct-kvQB"
      },
      "source": [
        "class Module2(nn.Module):\n",
        "  def __init__(self):\n",
        "    super(Module2, self).__init__()\n",
        "    self.module1 = Module1().double()\n",
        "    self.conv1 = nn.Conv2d(3, 6, 5)\n",
        "    self.pool = nn.MaxPool2d(2, 2)\n",
        "    self.conv2 = nn.Conv2d(6, 16, 5)\n",
        "    self.fc1 = nn.Linear(16 * 5 * 5, 120)\n",
        "    self.fc2 = nn.Linear(120, 84)\n",
        "    self.fc3 = nn.Linear(84, 10)\n",
        "    self.fc4 = nn.Linear(10,3)\n",
        "\n",
        "  def forward(self,z):  #z batch of list of 9 images\n",
        "    y = torch.zeros([batch,3, 32,32], dtype=torch.float64)\n",
        "    x = torch.zeros([batch,9],dtype=torch.float64)\n",
        "    x = x.to(\"cuda\")\n",
        "    y = y.to(\"cuda\")\n",
        "    for i in range(9):\n",
        "        x[:,i] = self.module1.forward(z[:,i])[:,0]\n",
        "\n",
        "    x = F.softmax(x,dim=1)\n",
        "\n",
        "    x1 = x[:,0]\n",
        "    torch.mul(x1[:,None,None,None],z[:,0])\n",
        "\n",
        "    for i in range(9):            \n",
        "      x1 = x[:,i]          \n",
        "      y = y + torch.mul(x1[:,None,None,None],z[:,i])\n",
        "      y = y.contiguous()\n",
        "\n",
        "\n",
        "    y1 = self.pool(F.relu(self.conv1(y)))\n",
        "    y1 = self.pool(F.relu(self.conv2(y1)))\n",
        "    y1 = y1.contiguous()\n",
        "    y1 = y1.reshape(-1, 16 * 5 * 5)\n",
        "\n",
        "    y1 = F.relu(self.fc1(y1))\n",
        "    y1 = F.relu(self.fc2(y1))\n",
        "    y1 = F.relu(self.fc3(y1))\n",
        "    y1 = self.fc4(y1)\n",
        "    return y1 , x, y"
      ],
      "execution_count": 72,
      "outputs": []
    },
    {
      "cell_type": "code",
      "metadata": {
        "id": "Nus7AK1xRX7W"
      },
      "source": [
        "def training(trainloader, fore_net, epochs=600):\n",
        "  import torch.optim as optim\n",
        "  criterion = nn.CrossEntropyLoss()\n",
        "  optimizer = optim.SGD(fore_net.parameters(), lr=0.01, momentum=0.9)\n",
        "  nos_epochs = epochs\n",
        "\n",
        "  for epoch in range(nos_epochs):  # loop over the dataset multiple times\n",
        "    running_loss = 0.0\n",
        "    cnt=0\n",
        "    mini_loss = []\n",
        "    iteration = 30000 // batch    \n",
        "    for i, data in  enumerate(train_loader_from_noise_train_mosaic_30k):\n",
        "      inputs , labels , fore_idx = data\n",
        "      inputs, labels, fore_idx = inputs.to(\"cuda\"),labels.to(\"cuda\"), fore_idx.to(\"cuda\")\n",
        "\n",
        "      optimizer.zero_grad()\n",
        "      outputs, alphas, avg_images = fore_net(inputs)\n",
        "\n",
        "      _, predicted = torch.max(outputs.data, 1)\n",
        "      loss = criterion(outputs, labels) \n",
        "      loss.backward()\n",
        "      optimizer.step()\n",
        "      running_loss += loss.item()\n",
        "      mini = 40    \n",
        "      if cnt % mini == mini - 1:    # print every 40 mini-batches\n",
        "        print('[%d, %5d] loss: %.3f' %(epoch + 1, cnt + 1, running_loss / mini))\n",
        "        mini_loss.append(running_loss / mini)\n",
        "        running_loss = 0.0        \n",
        "      cnt=cnt+1\n",
        "    if(np.average(mini_loss) <= 0.05):\n",
        "      break\n",
        "  print('Finished Training')\n",
        "  return fore_net, epoch\n"
      ],
      "execution_count": 73,
      "outputs": []
    },
    {
      "cell_type": "code",
      "metadata": {
        "id": "17GMe4WKSNji"
      },
      "source": [
        "def testing(loader, fore_net):\n",
        "  correct = 0\n",
        "  total = 0\n",
        "  count = 0\n",
        "  flag = 1\n",
        "  focus_true_pred_true =0\n",
        "  focus_false_pred_true =0\n",
        "  focus_true_pred_false =0\n",
        "  focus_false_pred_false =0\n",
        "\n",
        "  argmax_more_than_half = 0\n",
        "  argmax_less_than_half =0\n",
        "\n",
        "  with torch.no_grad():\n",
        "    for data in loader:\n",
        "      inputs, labels , fore_idx = data\n",
        "      inputs, labels , fore_idx = inputs.to(\"cuda\"),labels.to(\"cuda\"), fore_idx.to(\"cuda\")\n",
        "      outputs, alphas, avg_images = fore_net(inputs)\n",
        "\n",
        "      _, predicted = torch.max(outputs.data, 1)\n",
        "\n",
        "      for j in range(labels.size(0)):\n",
        "        count += 1\n",
        "        focus = torch.argmax(alphas[j])\n",
        "        if alphas[j][focus] >= 0.5 :\n",
        "          argmax_more_than_half += 1\n",
        "        else:\n",
        "          argmax_less_than_half += 1\n",
        "\n",
        "        if(focus == fore_idx[j] and predicted[j] == labels[j]):\n",
        "            focus_true_pred_true += 1\n",
        "        elif(focus != fore_idx[j] and predicted[j] == labels[j]):\n",
        "          focus_false_pred_true += 1\n",
        "        elif(focus == fore_idx[j] and predicted[j] != labels[j]):\n",
        "          focus_true_pred_false += 1\n",
        "        elif(focus != fore_idx[j] and predicted[j] != labels[j]):\n",
        "          focus_false_pred_false += 1\n",
        "\n",
        "      total += labels.size(0)\n",
        "      correct += (predicted == labels).sum().item()\n",
        "  \n",
        "  return correct, total, focus_true_pred_true, focus_false_pred_true, focus_true_pred_false, focus_false_pred_false, argmax_more_than_half\n"
      ],
      "execution_count": 74,
      "outputs": []
    },
    {
      "cell_type": "code",
      "metadata": {
        "id": "lp0cGt63YuUc"
      },
      "source": [
        "def enter_into(table, sno, correct, total, ftpt, ffpt, ftpf, ffpf, alpha_more_half , fg, bg, epoch = \"NA\"):\n",
        "  entry = []\n",
        "  entry = [sno,'fg = '+ str(fg),'bg = '+str(bg), epoch, total, correct,]\n",
        "  entry.append((100.0*correct/total))\n",
        "  entry.append((100 * ftpt / total))\n",
        "  entry.append( (100 * ffpt / total))\n",
        "  entry.append( ( 100 * ftpf / total))\n",
        "  entry.append( ( 100 * ffpf / total))\n",
        "  entry.append( alpha_more_half)\n",
        "\n",
        "  table.append(entry)\n",
        "  print(\" \")\n",
        "  print(\"=\"*160)\n",
        "  print(tabulate(table, headers=['S.No.', 'fg_class','bg_class','Epoch used','total_points', 'correct','accuracy','FTPT', 'FFPT', 'FTPF', 'FFPF', 'avg_img > 0.5'] ) )\n",
        "  print(\" \")\n",
        "  print(\"=\"*160)\n",
        "  return table"
      ],
      "execution_count": 75,
      "outputs": []
    },
    {
      "cell_type": "code",
      "metadata": {
        "id": "uS6Gq-4VfX89"
      },
      "source": [
        "def add_average_entry(table):\n",
        "  entry =[]\n",
        "  entry = ['Avg', \"\",\"\" ,\"\" ,\"\" , \"\",]\n",
        "  entry.append( np.mean(np.array(table)[:,6].astype(np.float)) )\n",
        "  entry.append( np.mean(np.array(table)[:,7].astype(np.float)) )\n",
        "  entry.append( np.mean(np.array(table)[:,8].astype(np.float)) )\n",
        "  entry.append( np.mean(np.array(table)[:,9].astype(np.float)) )\n",
        "  entry.append( np.mean(np.array(table)[:,10].astype(np.float)) )\n",
        "  entry.append( np.mean(np.array(table)[:,11].astype(np.float)) )\n",
        "\n",
        "  table.append(entry)\n",
        "  print(\" \")\n",
        "  print(\"=\"*160)\n",
        "  print(tabulate(table, headers=['S.No.', 'fg_class','bg_class','Epoch used','total_points', 'correct','accuracy','FTPT', 'FFPT', 'FTPF', 'FFPF', 'avg_img > 0.5'] ) )\n",
        "  print(\" \")\n",
        "  print(\"=\"*160)\n",
        "  return table\n"
      ],
      "execution_count": 76,
      "outputs": []
    },
    {
      "cell_type": "code",
      "metadata": {
        "id": "M8ClgTOAbUQu"
      },
      "source": [
        "train_table=[]\n",
        "test_table1=[]\n",
        "test_table2=[]\n",
        "test_table3=[]\n",
        "test_table4=[]\n",
        "fg = [fg1,fg2,fg3]\n",
        "bg = list(set([0,1,2,3,4,5,6,7,8,9])-set(fg))\n"
      ],
      "execution_count": 77,
      "outputs": []
    },
    {
      "cell_type": "code",
      "metadata": {
        "id": "TuIb2Y29kxWT",
        "outputId": "0a9ac959-5748-4dd8-ee45-17ea36ac08ca",
        "colab": {
          "base_uri": "https://localhost:8080/",
          "height": 1000
        }
      },
      "source": [
        "number_runs = 10\n",
        "\n",
        "for i in range(number_runs):\n",
        "  fore_net = Module2().double()\n",
        "  fore_net = fore_net.to(\"cuda\")\n",
        "\n",
        "  fore_net, epoch = training(train_loader_from_noise_train_mosaic_30k, fore_net)\n",
        "\n",
        "  correct, total, ftpt, ffpt, ftpf, ffpf, alpha_more_half = testing(train_loader_from_noise_train_mosaic_30k, fore_net)\n",
        "  train_table = enter_into(train_table, i+1, correct, total, ftpt, ffpt, ftpf, ffpf, alpha_more_half, fg, bg, str(epoch) )\n",
        "\n",
        "  correct, total, ftpt, ffpt, ftpf, ffpf, alpha_more_half = testing(test_loader_from_noise_train_mosaic_30k, fore_net)\n",
        "  test_table1 = enter_into(test_table1, i+1, correct, total, ftpt, ffpt, ftpf, ffpf, alpha_more_half , fg, bg )\n",
        "\n",
        "  correct, total, ftpt, ffpt, ftpf, ffpf, alpha_more_half = testing(test_loader_from_noise_test_mosaic_10k, fore_net)\n",
        "  test_table2 = enter_into(test_table2, i+1, correct, total, ftpt, ffpt, ftpf, ffpf, alpha_more_half, fg, bg )\n",
        "\n",
        "  correct, total, ftpt, ffpt, ftpf, ffpf, alpha_more_half = testing(test_loader_from_true_train_mosaic_30k, fore_net)\n",
        "  test_table3 = enter_into(test_table3, i+1, correct, total, ftpt, ffpt, ftpf, ffpf, alpha_more_half , fg, bg)\n",
        "\n",
        "  correct, total, ftpt, ffpt, ftpf, ffpf, alpha_more_half = testing(test_loader_from_true_train_mosaic_10k, fore_net)\n",
        "  test_table4 = enter_into(test_table4, i+1, correct, total, ftpt, ffpt, ftpf, ffpf, alpha_more_half, fg, bg )\n",
        "\n"
      ],
      "execution_count": 78,
      "outputs": [
        {
          "output_type": "stream",
          "text": [
            "[1,    40] loss: 1.100\n",
            "[1,    80] loss: 1.099\n",
            "[1,   120] loss: 1.098\n",
            "[2,    40] loss: 1.098\n",
            "[2,    80] loss: 1.098\n",
            "[2,   120] loss: 1.098\n",
            "[3,    40] loss: 1.097\n",
            "[3,    80] loss: 1.097\n",
            "[3,   120] loss: 1.096\n",
            "[4,    40] loss: 1.095\n",
            "[4,    80] loss: 1.094\n",
            "[4,   120] loss: 1.092\n",
            "[5,    40] loss: 1.090\n",
            "[5,    80] loss: 1.088\n",
            "[5,   120] loss: 1.084\n",
            "[6,    40] loss: 1.085\n",
            "[6,    80] loss: 1.083\n",
            "[6,   120] loss: 1.081\n",
            "[7,    40] loss: 1.086\n",
            "[7,    80] loss: 1.080\n",
            "[7,   120] loss: 1.078\n",
            "[8,    40] loss: 1.077\n",
            "[8,    80] loss: 1.080\n",
            "[8,   120] loss: 1.081\n",
            "[9,    40] loss: 1.079\n",
            "[9,    80] loss: 1.079\n",
            "[9,   120] loss: 1.076\n",
            "[10,    40] loss: 1.077\n",
            "[10,    80] loss: 1.073\n",
            "[10,   120] loss: 1.075\n",
            "[11,    40] loss: 1.074\n",
            "[11,    80] loss: 1.070\n",
            "[11,   120] loss: 1.065\n",
            "[12,    40] loss: 1.068\n",
            "[12,    80] loss: 1.062\n",
            "[12,   120] loss: 1.064\n",
            "[13,    40] loss: 1.059\n",
            "[13,    80] loss: 1.060\n",
            "[13,   120] loss: 1.059\n",
            "[14,    40] loss: 1.056\n",
            "[14,    80] loss: 1.051\n",
            "[14,   120] loss: 1.055\n",
            "[15,    40] loss: 1.053\n",
            "[15,    80] loss: 1.046\n",
            "[15,   120] loss: 1.054\n",
            "[16,    40] loss: 1.043\n",
            "[16,    80] loss: 1.048\n",
            "[16,   120] loss: 1.048\n",
            "[17,    40] loss: 1.045\n",
            "[17,    80] loss: 1.045\n",
            "[17,   120] loss: 1.045\n",
            "[18,    40] loss: 1.045\n",
            "[18,    80] loss: 1.041\n",
            "[18,   120] loss: 1.041\n",
            "[19,    40] loss: 1.045\n",
            "[19,    80] loss: 1.034\n",
            "[19,   120] loss: 1.037\n",
            "[20,    40] loss: 1.035\n",
            "[20,    80] loss: 1.039\n",
            "[20,   120] loss: 1.035\n",
            "[21,    40] loss: 1.032\n",
            "[21,    80] loss: 1.036\n",
            "[21,   120] loss: 1.028\n",
            "[22,    40] loss: 1.023\n",
            "[22,    80] loss: 1.016\n",
            "[22,   120] loss: 1.013\n",
            "[23,    40] loss: 1.006\n",
            "[23,    80] loss: 1.004\n",
            "[23,   120] loss: 0.992\n",
            "[24,    40] loss: 0.985\n",
            "[24,    80] loss: 0.975\n",
            "[24,   120] loss: 0.973\n",
            "[25,    40] loss: 0.963\n",
            "[25,    80] loss: 0.944\n",
            "[25,   120] loss: 0.944\n",
            "[26,    40] loss: 0.922\n",
            "[26,    80] loss: 0.926\n",
            "[26,   120] loss: 0.912\n",
            "[27,    40] loss: 0.895\n",
            "[27,    80] loss: 0.871\n",
            "[27,   120] loss: 0.869\n",
            "[28,    40] loss: 0.863\n",
            "[28,    80] loss: 0.856\n",
            "[28,   120] loss: 0.831\n",
            "[29,    40] loss: 0.817\n",
            "[29,    80] loss: 0.811\n",
            "[29,   120] loss: 0.808\n",
            "[30,    40] loss: 0.776\n",
            "[30,    80] loss: 0.789\n",
            "[30,   120] loss: 0.785\n",
            "[31,    40] loss: 0.763\n",
            "[31,    80] loss: 0.759\n",
            "[31,   120] loss: 0.741\n",
            "[32,    40] loss: 0.726\n",
            "[32,    80] loss: 0.729\n",
            "[32,   120] loss: 0.715\n",
            "[33,    40] loss: 0.706\n",
            "[33,    80] loss: 0.706\n",
            "[33,   120] loss: 0.685\n",
            "[34,    40] loss: 0.677\n",
            "[34,    80] loss: 0.666\n",
            "[34,   120] loss: 0.669\n",
            "[35,    40] loss: 0.642\n",
            "[35,    80] loss: 0.632\n",
            "[35,   120] loss: 0.629\n",
            "[36,    40] loss: 0.632\n",
            "[36,    80] loss: 0.625\n",
            "[36,   120] loss: 0.610\n",
            "[37,    40] loss: 0.581\n",
            "[37,    80] loss: 0.570\n",
            "[37,   120] loss: 0.575\n",
            "[38,    40] loss: 0.563\n",
            "[38,    80] loss: 0.557\n",
            "[38,   120] loss: 0.556\n",
            "[39,    40] loss: 0.524\n",
            "[39,    80] loss: 0.533\n",
            "[39,   120] loss: 0.541\n",
            "[40,    40] loss: 0.498\n",
            "[40,    80] loss: 0.502\n",
            "[40,   120] loss: 0.518\n",
            "[41,    40] loss: 0.496\n",
            "[41,    80] loss: 0.502\n",
            "[41,   120] loss: 0.515\n",
            "[42,    40] loss: 0.437\n",
            "[42,    80] loss: 0.477\n",
            "[42,   120] loss: 0.481\n",
            "[43,    40] loss: 0.445\n",
            "[43,    80] loss: 0.446\n",
            "[43,   120] loss: 0.467\n",
            "[44,    40] loss: 0.419\n",
            "[44,    80] loss: 0.430\n",
            "[44,   120] loss: 0.434\n",
            "[45,    40] loss: 0.425\n",
            "[45,    80] loss: 0.444\n",
            "[45,   120] loss: 0.396\n",
            "[46,    40] loss: 0.374\n",
            "[46,    80] loss: 0.400\n",
            "[46,   120] loss: 0.381\n",
            "[47,    40] loss: 0.355\n",
            "[47,    80] loss: 0.342\n",
            "[47,   120] loss: 0.370\n",
            "[48,    40] loss: 0.356\n",
            "[48,    80] loss: 0.342\n",
            "[48,   120] loss: 0.341\n",
            "[49,    40] loss: 0.318\n",
            "[49,    80] loss: 0.333\n",
            "[49,   120] loss: 0.327\n",
            "[50,    40] loss: 0.337\n",
            "[50,    80] loss: 0.302\n",
            "[50,   120] loss: 0.283\n",
            "[51,    40] loss: 0.245\n",
            "[51,    80] loss: 0.254\n",
            "[51,   120] loss: 0.252\n",
            "[52,    40] loss: 0.212\n",
            "[52,    80] loss: 0.306\n",
            "[52,   120] loss: 0.276\n",
            "[53,    40] loss: 0.219\n",
            "[53,    80] loss: 0.214\n",
            "[53,   120] loss: 0.237\n",
            "[54,    40] loss: 0.161\n",
            "[54,    80] loss: 0.207\n",
            "[54,   120] loss: 0.215\n",
            "[55,    40] loss: 0.168\n",
            "[55,    80] loss: 0.177\n",
            "[55,   120] loss: 0.154\n",
            "[56,    40] loss: 0.145\n",
            "[56,    80] loss: 0.141\n",
            "[56,   120] loss: 0.189\n",
            "[57,    40] loss: 0.156\n",
            "[57,    80] loss: 0.113\n",
            "[57,   120] loss: 0.125\n",
            "[58,    40] loss: 0.114\n",
            "[58,    80] loss: 0.159\n",
            "[58,   120] loss: 0.097\n",
            "[59,    40] loss: 0.105\n",
            "[59,    80] loss: 0.094\n",
            "[59,   120] loss: 0.132\n",
            "[60,    40] loss: 0.086\n",
            "[60,    80] loss: 0.214\n",
            "[60,   120] loss: 0.111\n",
            "[61,    40] loss: 0.065\n",
            "[61,    80] loss: 0.064\n",
            "[61,   120] loss: 0.076\n",
            "[62,    40] loss: 0.050\n",
            "[62,    80] loss: 0.052\n",
            "[62,   120] loss: 0.074\n",
            "[63,    40] loss: 0.063\n",
            "[63,    80] loss: 0.233\n",
            "[63,   120] loss: 0.113\n",
            "[64,    40] loss: 0.050\n",
            "[64,    80] loss: 0.040\n",
            "[64,   120] loss: 0.039\n",
            "Finished Training\n",
            " \n",
            "================================================================================================================================================================\n",
            "  S.No.  fg_class        bg_class                      Epoch used    total_points    correct    accuracy     FTPT     FFPT      FTPF     FFPF    avg_img > 0.5\n",
            "-------  --------------  --------------------------  ------------  --------------  ---------  ----------  -------  -------  --------  -------  ---------------\n",
            "      1  fg = [0, 1, 2]  bg = [3, 4, 5, 6, 7, 8, 9]            63           30000      29532       98.44  79.4133  19.0267  0.423333  1.13667            18550\n",
            " \n",
            "================================================================================================================================================================\n",
            " \n",
            "================================================================================================================================================================\n",
            "  S.No.  fg_class        bg_class                    Epoch used      total_points    correct    accuracy    FTPT    FFPT    FTPF    FFPF    avg_img > 0.5\n",
            "-------  --------------  --------------------------  ------------  --------------  ---------  ----------  ------  ------  ------  ------  ---------------\n",
            "      1  fg = [0, 1, 2]  bg = [3, 4, 5, 6, 7, 8, 9]  NA                     10000       9586       95.86   74.87   20.99    0.96    3.18             5806\n",
            " \n",
            "================================================================================================================================================================\n",
            " \n",
            "================================================================================================================================================================\n",
            "  S.No.  fg_class        bg_class                    Epoch used      total_points    correct    accuracy    FTPT    FFPT    FTPF    FFPF    avg_img > 0.5\n",
            "-------  --------------  --------------------------  ------------  --------------  ---------  ----------  ------  ------  ------  ------  ---------------\n",
            "      1  fg = [0, 1, 2]  bg = [3, 4, 5, 6, 7, 8, 9]  NA                     10000       8681       86.81   58.74   28.07    1.93   11.26             5453\n",
            " \n",
            "================================================================================================================================================================\n",
            " \n",
            "================================================================================================================================================================\n",
            "  S.No.  fg_class        bg_class                    Epoch used      total_points    correct    accuracy    FTPT    FFPT    FTPF    FFPF    avg_img > 0.5\n",
            "-------  --------------  --------------------------  ------------  --------------  ---------  ----------  ------  ------  ------  ------  ---------------\n",
            "      1  fg = [0, 1, 2]  bg = [3, 4, 5, 6, 7, 8, 9]  NA                     10000       5700          57   37.63   19.37   31.62   11.38             4947\n",
            " \n",
            "================================================================================================================================================================\n",
            " \n",
            "================================================================================================================================================================\n",
            "  S.No.  fg_class        bg_class                    Epoch used      total_points    correct    accuracy    FTPT    FFPT    FTPF    FFPF    avg_img > 0.5\n",
            "-------  --------------  --------------------------  ------------  --------------  ---------  ----------  ------  ------  ------  ------  ---------------\n",
            "      1  fg = [0, 1, 2]  bg = [3, 4, 5, 6, 7, 8, 9]  NA                     10000       4906       49.06   25.81   23.25    26.3   24.64             4538\n",
            " \n",
            "================================================================================================================================================================\n",
            "[1,    40] loss: 1.104\n",
            "[1,    80] loss: 1.099\n",
            "[1,   120] loss: 1.098\n",
            "[2,    40] loss: 1.098\n",
            "[2,    80] loss: 1.098\n",
            "[2,   120] loss: 1.098\n",
            "[3,    40] loss: 1.097\n",
            "[3,    80] loss: 1.097\n",
            "[3,   120] loss: 1.096\n",
            "[4,    40] loss: 1.096\n",
            "[4,    80] loss: 1.095\n",
            "[4,   120] loss: 1.093\n",
            "[5,    40] loss: 1.090\n",
            "[5,    80] loss: 1.088\n",
            "[5,   120] loss: 1.086\n",
            "[6,    40] loss: 1.085\n",
            "[6,    80] loss: 1.082\n",
            "[6,   120] loss: 1.081\n",
            "[7,    40] loss: 1.082\n",
            "[7,    80] loss: 1.079\n",
            "[7,   120] loss: 1.080\n",
            "[8,    40] loss: 1.078\n",
            "[8,    80] loss: 1.078\n",
            "[8,   120] loss: 1.078\n",
            "[9,    40] loss: 1.076\n",
            "[9,    80] loss: 1.074\n",
            "[9,   120] loss: 1.070\n",
            "[10,    40] loss: 1.069\n",
            "[10,    80] loss: 1.069\n",
            "[10,   120] loss: 1.065\n",
            "[11,    40] loss: 1.062\n",
            "[11,    80] loss: 1.062\n",
            "[11,   120] loss: 1.056\n",
            "[12,    40] loss: 1.054\n",
            "[12,    80] loss: 1.053\n",
            "[12,   120] loss: 1.045\n",
            "[13,    40] loss: 1.042\n",
            "[13,    80] loss: 1.035\n",
            "[13,   120] loss: 1.031\n",
            "[14,    40] loss: 1.024\n",
            "[14,    80] loss: 1.024\n",
            "[14,   120] loss: 1.032\n",
            "[15,    40] loss: 1.022\n",
            "[15,    80] loss: 1.015\n",
            "[15,   120] loss: 1.013\n",
            "[16,    40] loss: 1.014\n",
            "[16,    80] loss: 1.002\n",
            "[16,   120] loss: 1.001\n",
            "[17,    40] loss: 0.993\n",
            "[17,    80] loss: 0.992\n",
            "[17,   120] loss: 0.994\n",
            "[18,    40] loss: 0.976\n",
            "[18,    80] loss: 0.969\n",
            "[18,   120] loss: 0.947\n",
            "[19,    40] loss: 0.946\n",
            "[19,    80] loss: 0.926\n",
            "[19,   120] loss: 0.919\n",
            "[20,    40] loss: 0.903\n",
            "[20,    80] loss: 0.905\n",
            "[20,   120] loss: 0.877\n",
            "[21,    40] loss: 0.864\n",
            "[21,    80] loss: 0.867\n",
            "[21,   120] loss: 0.864\n",
            "[22,    40] loss: 0.827\n",
            "[22,    80] loss: 0.849\n",
            "[22,   120] loss: 0.818\n",
            "[23,    40] loss: 0.803\n",
            "[23,    80] loss: 0.805\n",
            "[23,   120] loss: 0.802\n",
            "[24,    40] loss: 0.765\n",
            "[24,    80] loss: 0.782\n",
            "[24,   120] loss: 0.762\n",
            "[25,    40] loss: 0.747\n",
            "[25,    80] loss: 0.751\n",
            "[25,   120] loss: 0.739\n",
            "[26,    40] loss: 0.705\n",
            "[26,    80] loss: 0.697\n",
            "[26,   120] loss: 0.711\n",
            "[27,    40] loss: 0.661\n",
            "[27,    80] loss: 0.650\n",
            "[27,   120] loss: 0.634\n",
            "[28,    40] loss: 0.673\n",
            "[28,    80] loss: 0.590\n",
            "[28,   120] loss: 0.565\n",
            "[29,    40] loss: 0.530\n",
            "[29,    80] loss: 0.398\n",
            "[29,   120] loss: 0.348\n",
            "[30,    40] loss: 0.842\n",
            "[30,    80] loss: 0.456\n",
            "[30,   120] loss: 0.476\n",
            "[31,    40] loss: 1.035\n",
            "[31,    80] loss: 0.984\n",
            "[31,   120] loss: 0.967\n",
            "[32,    40] loss: 0.953\n",
            "[32,    80] loss: 0.926\n",
            "[32,   120] loss: 0.918\n",
            "[33,    40] loss: 0.886\n",
            "[33,    80] loss: 0.855\n",
            "[33,   120] loss: 0.831\n",
            "[34,    40] loss: 0.796\n",
            "[34,    80] loss: 0.733\n",
            "[34,   120] loss: 0.410\n",
            "[35,    40] loss: 0.222\n",
            "[35,    80] loss: 0.241\n",
            "[35,   120] loss: 0.222\n",
            "[36,    40] loss: 0.204\n",
            "[36,    80] loss: 0.124\n",
            "[36,   120] loss: 0.190\n",
            "[37,    40] loss: 0.148\n",
            "[37,    80] loss: 0.088\n",
            "[37,   120] loss: 0.091\n",
            "[38,    40] loss: 0.367\n",
            "[38,    80] loss: 0.119\n",
            "[38,   120] loss: 0.076\n",
            "[39,    40] loss: 0.055\n",
            "[39,    80] loss: 0.570\n",
            "[39,   120] loss: 0.729\n",
            "[40,    40] loss: 0.172\n",
            "[40,    80] loss: 0.082\n",
            "[40,   120] loss: 0.072\n",
            "[41,    40] loss: 0.056\n",
            "[41,    80] loss: 0.041\n",
            "[41,   120] loss: 0.069\n",
            "[42,    40] loss: 1.210\n",
            "[42,    80] loss: 1.061\n",
            "[42,   120] loss: 1.028\n",
            "[43,    40] loss: 1.014\n",
            "[43,    80] loss: 0.993\n",
            "[43,   120] loss: 0.964\n",
            "[44,    40] loss: 0.928\n",
            "[44,    80] loss: 0.877\n",
            "[44,   120] loss: 0.864\n",
            "[45,    40] loss: 0.818\n",
            "[45,    80] loss: 0.801\n",
            "[45,   120] loss: 0.779\n",
            "[46,    40] loss: 0.740\n",
            "[46,    80] loss: 0.718\n",
            "[46,   120] loss: 0.676\n",
            "[47,    40] loss: 0.332\n",
            "[47,    80] loss: 0.202\n",
            "[47,   120] loss: 0.076\n",
            "[48,    40] loss: 0.053\n",
            "[48,    80] loss: 0.048\n",
            "[48,   120] loss: 0.051\n",
            "[49,    40] loss: 0.091\n",
            "[49,    80] loss: 0.076\n",
            "[49,   120] loss: 0.037\n",
            "[50,    40] loss: 0.023\n",
            "[50,    80] loss: 0.029\n",
            "[50,   120] loss: 0.092\n",
            "Finished Training\n",
            " \n",
            "================================================================================================================================================================\n",
            "  S.No.  fg_class        bg_class                      Epoch used    total_points    correct    accuracy     FTPT     FFPT      FTPF      FFPF    avg_img > 0.5\n",
            "-------  --------------  --------------------------  ------------  --------------  ---------  ----------  -------  -------  --------  --------  ---------------\n",
            "      1  fg = [0, 1, 2]  bg = [3, 4, 5, 6, 7, 8, 9]            63           30000      29532     98.44    79.4133  19.0267  0.423333  1.13667             18550\n",
            "      2  fg = [0, 1, 2]  bg = [3, 4, 5, 6, 7, 8, 9]            49           30000      29068     96.8933  77.0433  19.85    2.74333   0.363333            19948\n",
            " \n",
            "================================================================================================================================================================\n",
            " \n",
            "================================================================================================================================================================\n",
            "  S.No.  fg_class        bg_class                    Epoch used      total_points    correct    accuracy    FTPT    FFPT    FTPF    FFPF    avg_img > 0.5\n",
            "-------  --------------  --------------------------  ------------  --------------  ---------  ----------  ------  ------  ------  ------  ---------------\n",
            "      1  fg = [0, 1, 2]  bg = [3, 4, 5, 6, 7, 8, 9]  NA                     10000       9586       95.86   74.87   20.99    0.96    3.18             5806\n",
            "      2  fg = [0, 1, 2]  bg = [3, 4, 5, 6, 7, 8, 9]  NA                     10000       9615       96.15   76.27   19.88    3.45    0.4              6630\n",
            " \n",
            "================================================================================================================================================================\n",
            " \n",
            "================================================================================================================================================================\n",
            "  S.No.  fg_class        bg_class                    Epoch used      total_points    correct    accuracy    FTPT    FFPT    FTPF    FFPF    avg_img > 0.5\n",
            "-------  --------------  --------------------------  ------------  --------------  ---------  ----------  ------  ------  ------  ------  ---------------\n",
            "      1  fg = [0, 1, 2]  bg = [3, 4, 5, 6, 7, 8, 9]  NA                     10000       8681       86.81   58.74   28.07    1.93   11.26             5453\n",
            "      2  fg = [0, 1, 2]  bg = [3, 4, 5, 6, 7, 8, 9]  NA                     10000       9305       93.05   73.3    19.75    6.68    0.27             6675\n",
            " \n",
            "================================================================================================================================================================\n",
            " \n",
            "================================================================================================================================================================\n",
            "  S.No.  fg_class        bg_class                    Epoch used      total_points    correct    accuracy    FTPT    FFPT    FTPF    FFPF    avg_img > 0.5\n",
            "-------  --------------  --------------------------  ------------  --------------  ---------  ----------  ------  ------  ------  ------  ---------------\n",
            "      1  fg = [0, 1, 2]  bg = [3, 4, 5, 6, 7, 8, 9]  NA                     10000       5700       57      37.63   19.37   31.62   11.38             4947\n",
            "      2  fg = [0, 1, 2]  bg = [3, 4, 5, 6, 7, 8, 9]  NA                     10000       3515       35.15    8.07   27.08    7.92   56.93              331\n",
            " \n",
            "================================================================================================================================================================\n",
            " \n",
            "================================================================================================================================================================\n",
            "  S.No.  fg_class        bg_class                    Epoch used      total_points    correct    accuracy    FTPT    FFPT    FTPF    FFPF    avg_img > 0.5\n",
            "-------  --------------  --------------------------  ------------  --------------  ---------  ----------  ------  ------  ------  ------  ---------------\n",
            "      1  fg = [0, 1, 2]  bg = [3, 4, 5, 6, 7, 8, 9]  NA                     10000       4906       49.06   25.81   23.25   26.3    24.64             4538\n",
            "      2  fg = [0, 1, 2]  bg = [3, 4, 5, 6, 7, 8, 9]  NA                     10000       3461       34.61    7.47   27.14    7.88   57.51              279\n",
            " \n",
            "================================================================================================================================================================\n",
            "[1,    40] loss: 1.099\n",
            "[1,    80] loss: 1.099\n",
            "[1,   120] loss: 1.098\n",
            "[2,    40] loss: 1.099\n",
            "[2,    80] loss: 1.099\n",
            "[2,   120] loss: 1.099\n",
            "[3,    40] loss: 1.098\n",
            "[3,    80] loss: 1.099\n",
            "[3,   120] loss: 1.098\n",
            "[4,    40] loss: 1.098\n",
            "[4,    80] loss: 1.098\n",
            "[4,   120] loss: 1.098\n",
            "[5,    40] loss: 1.098\n",
            "[5,    80] loss: 1.098\n",
            "[5,   120] loss: 1.098\n",
            "[6,    40] loss: 1.098\n",
            "[6,    80] loss: 1.097\n",
            "[6,   120] loss: 1.097\n",
            "[7,    40] loss: 1.096\n",
            "[7,    80] loss: 1.096\n",
            "[7,   120] loss: 1.095\n",
            "[8,    40] loss: 1.094\n",
            "[8,    80] loss: 1.092\n",
            "[8,   120] loss: 1.090\n",
            "[9,    40] loss: 1.086\n",
            "[9,    80] loss: 1.085\n",
            "[9,   120] loss: 1.084\n",
            "[10,    40] loss: 1.081\n",
            "[10,    80] loss: 1.083\n",
            "[10,   120] loss: 1.078\n",
            "[11,    40] loss: 1.079\n",
            "[11,    80] loss: 1.080\n",
            "[11,   120] loss: 1.077\n",
            "[12,    40] loss: 1.078\n",
            "[12,    80] loss: 1.074\n",
            "[12,   120] loss: 1.079\n",
            "[13,    40] loss: 1.077\n",
            "[13,    80] loss: 1.077\n",
            "[13,   120] loss: 1.074\n",
            "[14,    40] loss: 1.071\n",
            "[14,    80] loss: 1.078\n",
            "[14,   120] loss: 1.071\n",
            "[15,    40] loss: 1.068\n",
            "[15,    80] loss: 1.068\n",
            "[15,   120] loss: 1.063\n",
            "[16,    40] loss: 1.065\n",
            "[16,    80] loss: 1.058\n",
            "[16,   120] loss: 1.056\n",
            "[17,    40] loss: 1.053\n",
            "[17,    80] loss: 1.063\n",
            "[17,   120] loss: 1.054\n",
            "[18,    40] loss: 1.053\n",
            "[18,    80] loss: 1.052\n",
            "[18,   120] loss: 1.051\n",
            "[19,    40] loss: 1.049\n",
            "[19,    80] loss: 1.049\n",
            "[19,   120] loss: 1.039\n",
            "[20,    40] loss: 1.037\n",
            "[20,    80] loss: 1.035\n",
            "[20,   120] loss: 1.039\n",
            "[21,    40] loss: 1.031\n",
            "[21,    80] loss: 1.021\n",
            "[21,   120] loss: 1.017\n",
            "[22,    40] loss: 1.013\n",
            "[22,    80] loss: 1.004\n",
            "[22,   120] loss: 1.001\n",
            "[23,    40] loss: 0.988\n",
            "[23,    80] loss: 0.980\n",
            "[23,   120] loss: 0.982\n",
            "[24,    40] loss: 0.973\n",
            "[24,    80] loss: 0.968\n",
            "[24,   120] loss: 0.958\n",
            "[25,    40] loss: 0.953\n",
            "[25,    80] loss: 0.936\n",
            "[25,   120] loss: 0.939\n",
            "[26,    40] loss: 0.930\n",
            "[26,    80] loss: 0.921\n",
            "[26,   120] loss: 0.898\n",
            "[27,    40] loss: 0.898\n",
            "[27,    80] loss: 0.883\n",
            "[27,   120] loss: 0.869\n",
            "[28,    40] loss: 0.848\n",
            "[28,    80] loss: 0.840\n",
            "[28,   120] loss: 0.823\n",
            "[29,    40] loss: 0.809\n",
            "[29,    80] loss: 0.802\n",
            "[29,   120] loss: 0.785\n",
            "[30,    40] loss: 0.750\n",
            "[30,    80] loss: 0.741\n",
            "[30,   120] loss: 0.740\n",
            "[31,    40] loss: 0.660\n",
            "[31,    80] loss: 0.655\n",
            "[31,   120] loss: 0.704\n",
            "[32,    40] loss: 0.567\n",
            "[32,    80] loss: 0.601\n",
            "[32,   120] loss: 0.469\n",
            "[33,    40] loss: 0.683\n",
            "[33,    80] loss: 0.438\n",
            "[33,   120] loss: 0.513\n",
            "[34,    40] loss: 0.363\n",
            "[34,    80] loss: 0.405\n",
            "[34,   120] loss: 0.447\n",
            "[35,    40] loss: 0.403\n",
            "[35,    80] loss: 0.417\n",
            "[35,   120] loss: 0.222\n",
            "[36,    40] loss: 0.304\n",
            "[36,    80] loss: 0.227\n",
            "[36,   120] loss: 0.443\n",
            "[37,    40] loss: 0.174\n",
            "[37,    80] loss: 0.336\n",
            "[37,   120] loss: 0.289\n",
            "[38,    40] loss: 0.126\n",
            "[38,    80] loss: 0.128\n",
            "[38,   120] loss: 0.337\n",
            "[39,    40] loss: 0.320\n",
            "[39,    80] loss: 0.148\n",
            "[39,   120] loss: 0.065\n",
            "[40,    40] loss: 0.069\n",
            "[40,    80] loss: 0.092\n",
            "[40,   120] loss: 0.055\n",
            "[41,    40] loss: 0.055\n",
            "[41,    80] loss: 0.118\n",
            "[41,   120] loss: 0.054\n",
            "[42,    40] loss: 0.183\n",
            "[42,    80] loss: 0.093\n",
            "[42,   120] loss: 0.045\n",
            "[43,    40] loss: 0.028\n",
            "[43,    80] loss: 0.035\n",
            "[43,   120] loss: 0.036\n",
            "Finished Training\n",
            " \n",
            "================================================================================================================================================================\n",
            "  S.No.  fg_class        bg_class                      Epoch used    total_points    correct    accuracy     FTPT     FFPT      FTPF      FFPF    avg_img > 0.5\n",
            "-------  --------------  --------------------------  ------------  --------------  ---------  ----------  -------  -------  --------  --------  ---------------\n",
            "      1  fg = [0, 1, 2]  bg = [3, 4, 5, 6, 7, 8, 9]            63           30000      29532     98.44    79.4133  19.0267  0.423333  1.13667             18550\n",
            "      2  fg = [0, 1, 2]  bg = [3, 4, 5, 6, 7, 8, 9]            49           30000      29068     96.8933  77.0433  19.85    2.74333   0.363333            19948\n",
            "      3  fg = [0, 1, 2]  bg = [3, 4, 5, 6, 7, 8, 9]            42           30000      28639     95.4633  59.0133  36.45    1.71667   2.82                 3521\n",
            " \n",
            "================================================================================================================================================================\n",
            " \n",
            "================================================================================================================================================================\n",
            "  S.No.  fg_class        bg_class                    Epoch used      total_points    correct    accuracy    FTPT    FFPT    FTPF    FFPF    avg_img > 0.5\n",
            "-------  --------------  --------------------------  ------------  --------------  ---------  ----------  ------  ------  ------  ------  ---------------\n",
            "      1  fg = [0, 1, 2]  bg = [3, 4, 5, 6, 7, 8, 9]  NA                     10000       9586       95.86   74.87   20.99    0.96    3.18             5806\n",
            "      2  fg = [0, 1, 2]  bg = [3, 4, 5, 6, 7, 8, 9]  NA                     10000       9615       96.15   76.27   19.88    3.45    0.4              6630\n",
            "      3  fg = [0, 1, 2]  bg = [3, 4, 5, 6, 7, 8, 9]  NA                     10000       9378       93.78   55.78   38       1.92    4.3              1169\n",
            " \n",
            "================================================================================================================================================================\n",
            " \n",
            "================================================================================================================================================================\n",
            "  S.No.  fg_class        bg_class                    Epoch used      total_points    correct    accuracy    FTPT    FFPT    FTPF    FFPF    avg_img > 0.5\n",
            "-------  --------------  --------------------------  ------------  --------------  ---------  ----------  ------  ------  ------  ------  ---------------\n",
            "      1  fg = [0, 1, 2]  bg = [3, 4, 5, 6, 7, 8, 9]  NA                     10000       8681       86.81   58.74   28.07    1.93   11.26             5453\n",
            "      2  fg = [0, 1, 2]  bg = [3, 4, 5, 6, 7, 8, 9]  NA                     10000       9305       93.05   73.3    19.75    6.68    0.27             6675\n",
            "      3  fg = [0, 1, 2]  bg = [3, 4, 5, 6, 7, 8, 9]  NA                     10000       8949       89.49   47.74   41.75    2.07    8.44             1019\n",
            " \n",
            "================================================================================================================================================================\n",
            " \n",
            "================================================================================================================================================================\n",
            "  S.No.  fg_class        bg_class                    Epoch used      total_points    correct    accuracy    FTPT    FFPT    FTPF    FFPF    avg_img > 0.5\n",
            "-------  --------------  --------------------------  ------------  --------------  ---------  ----------  ------  ------  ------  ------  ---------------\n",
            "      1  fg = [0, 1, 2]  bg = [3, 4, 5, 6, 7, 8, 9]  NA                     10000       5700       57      37.63   19.37   31.62   11.38             4947\n",
            "      2  fg = [0, 1, 2]  bg = [3, 4, 5, 6, 7, 8, 9]  NA                     10000       3515       35.15    8.07   27.08    7.92   56.93              331\n",
            "      3  fg = [0, 1, 2]  bg = [3, 4, 5, 6, 7, 8, 9]  NA                     10000       3511       35.11   11.77   23.34   46.6    18.29             1156\n",
            " \n",
            "================================================================================================================================================================\n",
            " \n",
            "================================================================================================================================================================\n",
            "  S.No.  fg_class        bg_class                    Epoch used      total_points    correct    accuracy    FTPT    FFPT    FTPF    FFPF    avg_img > 0.5\n",
            "-------  --------------  --------------------------  ------------  --------------  ---------  ----------  ------  ------  ------  ------  ---------------\n",
            "      1  fg = [0, 1, 2]  bg = [3, 4, 5, 6, 7, 8, 9]  NA                     10000       4906       49.06   25.81   23.25   26.3    24.64             4538\n",
            "      2  fg = [0, 1, 2]  bg = [3, 4, 5, 6, 7, 8, 9]  NA                     10000       3461       34.61    7.47   27.14    7.88   57.51              279\n",
            "      3  fg = [0, 1, 2]  bg = [3, 4, 5, 6, 7, 8, 9]  NA                     10000       3450       34.5     9.01   25.49   40.9    24.6               982\n",
            " \n",
            "================================================================================================================================================================\n",
            "[1,    40] loss: 1.101\n",
            "[1,    80] loss: 1.099\n",
            "[1,   120] loss: 1.099\n",
            "[2,    40] loss: 1.099\n",
            "[2,    80] loss: 1.099\n",
            "[2,   120] loss: 1.099\n",
            "[3,    40] loss: 1.099\n",
            "[3,    80] loss: 1.098\n",
            "[3,   120] loss: 1.099\n",
            "[4,    40] loss: 1.099\n",
            "[4,    80] loss: 1.099\n",
            "[4,   120] loss: 1.098\n",
            "[5,    40] loss: 1.099\n",
            "[5,    80] loss: 1.099\n",
            "[5,   120] loss: 1.099\n",
            "[6,    40] loss: 1.099\n",
            "[6,    80] loss: 1.098\n",
            "[6,   120] loss: 1.099\n",
            "[7,    40] loss: 1.098\n",
            "[7,    80] loss: 1.098\n",
            "[7,   120] loss: 1.098\n",
            "[8,    40] loss: 1.098\n",
            "[8,    80] loss: 1.098\n",
            "[8,   120] loss: 1.098\n",
            "[9,    40] loss: 1.098\n",
            "[9,    80] loss: 1.098\n",
            "[9,   120] loss: 1.098\n",
            "[10,    40] loss: 1.098\n",
            "[10,    80] loss: 1.098\n",
            "[10,   120] loss: 1.098\n",
            "[11,    40] loss: 1.097\n",
            "[11,    80] loss: 1.098\n",
            "[11,   120] loss: 1.097\n",
            "[12,    40] loss: 1.097\n",
            "[12,    80] loss: 1.097\n",
            "[12,   120] loss: 1.096\n",
            "[13,    40] loss: 1.095\n",
            "[13,    80] loss: 1.094\n",
            "[13,   120] loss: 1.094\n",
            "[14,    40] loss: 1.092\n",
            "[14,    80] loss: 1.091\n",
            "[14,   120] loss: 1.091\n",
            "[15,    40] loss: 1.088\n",
            "[15,    80] loss: 1.087\n",
            "[15,   120] loss: 1.086\n",
            "[16,    40] loss: 1.083\n",
            "[16,    80] loss: 1.080\n",
            "[16,   120] loss: 1.079\n",
            "[17,    40] loss: 1.077\n",
            "[17,    80] loss: 1.078\n",
            "[17,   120] loss: 1.074\n",
            "[18,    40] loss: 1.074\n",
            "[18,    80] loss: 1.071\n",
            "[18,   120] loss: 1.072\n",
            "[19,    40] loss: 1.073\n",
            "[19,    80] loss: 1.063\n",
            "[19,   120] loss: 1.068\n",
            "[20,    40] loss: 1.061\n",
            "[20,    80] loss: 1.062\n",
            "[20,   120] loss: 1.065\n",
            "[21,    40] loss: 1.060\n",
            "[21,    80] loss: 1.054\n",
            "[21,   120] loss: 1.053\n",
            "[22,    40] loss: 1.050\n",
            "[22,    80] loss: 1.050\n",
            "[22,   120] loss: 1.038\n",
            "[23,    40] loss: 1.030\n",
            "[23,    80] loss: 1.034\n",
            "[23,   120] loss: 1.029\n",
            "[24,    40] loss: 1.017\n",
            "[24,    80] loss: 1.022\n",
            "[24,   120] loss: 1.019\n",
            "[25,    40] loss: 1.014\n",
            "[25,    80] loss: 1.003\n",
            "[25,   120] loss: 1.002\n",
            "[26,    40] loss: 1.001\n",
            "[26,    80] loss: 0.984\n",
            "[26,   120] loss: 0.979\n",
            "[27,    40] loss: 0.967\n",
            "[27,    80] loss: 0.964\n",
            "[27,   120] loss: 0.950\n",
            "[28,    40] loss: 0.939\n",
            "[28,    80] loss: 0.933\n",
            "[28,   120] loss: 0.912\n",
            "[29,    40] loss: 0.900\n",
            "[29,    80] loss: 0.893\n",
            "[29,   120] loss: 0.881\n",
            "[30,    40] loss: 0.857\n",
            "[30,    80] loss: 0.851\n",
            "[30,   120] loss: 0.840\n",
            "[31,    40] loss: 0.820\n",
            "[31,    80] loss: 0.810\n",
            "[31,   120] loss: 0.807\n",
            "[32,    40] loss: 0.792\n",
            "[32,    80] loss: 0.784\n",
            "[32,   120] loss: 0.770\n",
            "[33,    40] loss: 0.751\n",
            "[33,    80] loss: 0.741\n",
            "[33,   120] loss: 0.750\n",
            "[34,    40] loss: 0.720\n",
            "[34,    80] loss: 0.718\n",
            "[34,   120] loss: 0.717\n",
            "[35,    40] loss: 0.694\n",
            "[35,    80] loss: 0.683\n",
            "[35,   120] loss: 0.657\n",
            "[36,    40] loss: 0.620\n",
            "[36,    80] loss: 0.614\n",
            "[36,   120] loss: 0.583\n",
            "[37,    40] loss: 0.522\n",
            "[37,    80] loss: 0.577\n",
            "[37,   120] loss: 0.481\n",
            "[38,    40] loss: 0.800\n",
            "[38,    80] loss: 0.862\n",
            "[38,   120] loss: 0.439\n",
            "[39,    40] loss: 0.598\n",
            "[39,    80] loss: 1.057\n",
            "[39,   120] loss: 1.024\n",
            "[40,    40] loss: 1.013\n",
            "[40,    80] loss: 1.006\n",
            "[40,   120] loss: 0.997\n",
            "[41,    40] loss: 0.989\n",
            "[41,    80] loss: 0.986\n",
            "[41,   120] loss: 0.971\n",
            "[42,    40] loss: 0.945\n",
            "[42,    80] loss: 0.919\n",
            "[42,   120] loss: 0.908\n",
            "[43,    40] loss: 0.887\n",
            "[43,    80] loss: 0.824\n",
            "[43,   120] loss: 0.463\n",
            "[44,    40] loss: 0.281\n",
            "[44,    80] loss: 0.246\n",
            "[44,   120] loss: 0.194\n",
            "[45,    40] loss: 0.211\n",
            "[45,    80] loss: 0.113\n",
            "[45,   120] loss: 0.239\n",
            "[46,    40] loss: 0.176\n",
            "[46,    80] loss: 0.145\n",
            "[46,   120] loss: 0.340\n",
            "[47,    40] loss: 0.143\n",
            "[47,    80] loss: 0.111\n",
            "[47,   120] loss: 0.174\n",
            "[48,    40] loss: 0.098\n",
            "[48,    80] loss: 0.111\n",
            "[48,   120] loss: 0.095\n",
            "[49,    40] loss: 0.064\n",
            "[49,    80] loss: 0.063\n",
            "[49,   120] loss: 0.109\n",
            "[50,    40] loss: 0.048\n",
            "[50,    80] loss: 0.429\n",
            "[50,   120] loss: 0.118\n",
            "[51,    40] loss: 0.089\n",
            "[51,    80] loss: 0.164\n",
            "[51,   120] loss: 0.064\n",
            "[52,    40] loss: 0.039\n",
            "[52,    80] loss: 0.319\n",
            "[52,   120] loss: 0.078\n",
            "[53,    40] loss: 0.033\n",
            "[53,    80] loss: 0.034\n",
            "[53,   120] loss: 0.026\n",
            "Finished Training\n",
            " \n",
            "================================================================================================================================================================\n",
            "  S.No.  fg_class        bg_class                      Epoch used    total_points    correct    accuracy     FTPT     FFPT      FTPF        FFPF    avg_img > 0.5\n",
            "-------  --------------  --------------------------  ------------  --------------  ---------  ----------  -------  -------  --------  ----------  ---------------\n",
            "      1  fg = [0, 1, 2]  bg = [3, 4, 5, 6, 7, 8, 9]            63           30000      29532     98.44    79.4133  19.0267  0.423333  1.13667               18550\n",
            "      2  fg = [0, 1, 2]  bg = [3, 4, 5, 6, 7, 8, 9]            49           30000      29068     96.8933  77.0433  19.85    2.74333   0.363333              19948\n",
            "      3  fg = [0, 1, 2]  bg = [3, 4, 5, 6, 7, 8, 9]            42           30000      28639     95.4633  59.0133  36.45    1.71667   2.82                   3521\n",
            "      4  fg = [0, 1, 2]  bg = [3, 4, 5, 6, 7, 8, 9]            52           30000      29814     99.38    82.4833  16.8967  0.613333  0.00666667            20242\n",
            " \n",
            "================================================================================================================================================================\n",
            " \n",
            "================================================================================================================================================================\n",
            "  S.No.  fg_class        bg_class                    Epoch used      total_points    correct    accuracy    FTPT    FFPT    FTPF    FFPF    avg_img > 0.5\n",
            "-------  --------------  --------------------------  ------------  --------------  ---------  ----------  ------  ------  ------  ------  ---------------\n",
            "      1  fg = [0, 1, 2]  bg = [3, 4, 5, 6, 7, 8, 9]  NA                     10000       9586       95.86   74.87   20.99    0.96    3.18             5806\n",
            "      2  fg = [0, 1, 2]  bg = [3, 4, 5, 6, 7, 8, 9]  NA                     10000       9615       96.15   76.27   19.88    3.45    0.4              6630\n",
            "      3  fg = [0, 1, 2]  bg = [3, 4, 5, 6, 7, 8, 9]  NA                     10000       9378       93.78   55.78   38       1.92    4.3              1169\n",
            "      4  fg = [0, 1, 2]  bg = [3, 4, 5, 6, 7, 8, 9]  NA                     10000       9863       98.63   81.08   17.55    1.34    0.03             6707\n",
            " \n",
            "================================================================================================================================================================\n",
            " \n",
            "================================================================================================================================================================\n",
            "  S.No.  fg_class        bg_class                    Epoch used      total_points    correct    accuracy    FTPT    FFPT    FTPF    FFPF    avg_img > 0.5\n",
            "-------  --------------  --------------------------  ------------  --------------  ---------  ----------  ------  ------  ------  ------  ---------------\n",
            "      1  fg = [0, 1, 2]  bg = [3, 4, 5, 6, 7, 8, 9]  NA                     10000       8681       86.81   58.74   28.07    1.93   11.26             5453\n",
            "      2  fg = [0, 1, 2]  bg = [3, 4, 5, 6, 7, 8, 9]  NA                     10000       9305       93.05   73.3    19.75    6.68    0.27             6675\n",
            "      3  fg = [0, 1, 2]  bg = [3, 4, 5, 6, 7, 8, 9]  NA                     10000       8949       89.49   47.74   41.75    2.07    8.44             1019\n",
            "      4  fg = [0, 1, 2]  bg = [3, 4, 5, 6, 7, 8, 9]  NA                     10000       9592       95.92   78.53   17.39    4.05    0.03             6774\n",
            " \n",
            "================================================================================================================================================================\n",
            " \n",
            "================================================================================================================================================================\n",
            "  S.No.  fg_class        bg_class                    Epoch used      total_points    correct    accuracy    FTPT    FFPT    FTPF    FFPF    avg_img > 0.5\n",
            "-------  --------------  --------------------------  ------------  --------------  ---------  ----------  ------  ------  ------  ------  ---------------\n",
            "      1  fg = [0, 1, 2]  bg = [3, 4, 5, 6, 7, 8, 9]  NA                     10000       5700       57      37.63   19.37   31.62   11.38             4947\n",
            "      2  fg = [0, 1, 2]  bg = [3, 4, 5, 6, 7, 8, 9]  NA                     10000       3515       35.15    8.07   27.08    7.92   56.93              331\n",
            "      3  fg = [0, 1, 2]  bg = [3, 4, 5, 6, 7, 8, 9]  NA                     10000       3511       35.11   11.77   23.34   46.6    18.29             1156\n",
            "      4  fg = [0, 1, 2]  bg = [3, 4, 5, 6, 7, 8, 9]  NA                     10000       3293       32.93    5.69   27.24    6.57   60.5                40\n",
            " \n",
            "================================================================================================================================================================\n",
            " \n",
            "================================================================================================================================================================\n",
            "  S.No.  fg_class        bg_class                    Epoch used      total_points    correct    accuracy    FTPT    FFPT    FTPF    FFPF    avg_img > 0.5\n",
            "-------  --------------  --------------------------  ------------  --------------  ---------  ----------  ------  ------  ------  ------  ---------------\n",
            "      1  fg = [0, 1, 2]  bg = [3, 4, 5, 6, 7, 8, 9]  NA                     10000       4906       49.06   25.81   23.25   26.3    24.64             4538\n",
            "      2  fg = [0, 1, 2]  bg = [3, 4, 5, 6, 7, 8, 9]  NA                     10000       3461       34.61    7.47   27.14    7.88   57.51              279\n",
            "      3  fg = [0, 1, 2]  bg = [3, 4, 5, 6, 7, 8, 9]  NA                     10000       3450       34.5     9.01   25.49   40.9    24.6               982\n",
            "      4  fg = [0, 1, 2]  bg = [3, 4, 5, 6, 7, 8, 9]  NA                     10000       3306       33.06    5.73   27.33    6.23   60.71               52\n",
            " \n",
            "================================================================================================================================================================\n",
            "[1,    40] loss: 1.101\n",
            "[1,    80] loss: 1.099\n",
            "[1,   120] loss: 1.099\n",
            "[2,    40] loss: 1.099\n",
            "[2,    80] loss: 1.099\n",
            "[2,   120] loss: 1.099\n",
            "[3,    40] loss: 1.099\n",
            "[3,    80] loss: 1.099\n",
            "[3,   120] loss: 1.099\n",
            "[4,    40] loss: 1.099\n",
            "[4,    80] loss: 1.099\n",
            "[4,   120] loss: 1.099\n",
            "[5,    40] loss: 1.099\n",
            "[5,    80] loss: 1.099\n",
            "[5,   120] loss: 1.099\n",
            "[6,    40] loss: 1.099\n",
            "[6,    80] loss: 1.099\n",
            "[6,   120] loss: 1.099\n",
            "[7,    40] loss: 1.099\n",
            "[7,    80] loss: 1.099\n",
            "[7,   120] loss: 1.099\n",
            "[8,    40] loss: 1.099\n",
            "[8,    80] loss: 1.098\n",
            "[8,   120] loss: 1.099\n",
            "[9,    40] loss: 1.099\n",
            "[9,    80] loss: 1.098\n",
            "[9,   120] loss: 1.098\n",
            "[10,    40] loss: 1.098\n",
            "[10,    80] loss: 1.098\n",
            "[10,   120] loss: 1.098\n",
            "[11,    40] loss: 1.098\n",
            "[11,    80] loss: 1.098\n",
            "[11,   120] loss: 1.098\n",
            "[12,    40] loss: 1.098\n",
            "[12,    80] loss: 1.098\n",
            "[12,   120] loss: 1.098\n",
            "[13,    40] loss: 1.098\n",
            "[13,    80] loss: 1.097\n",
            "[13,   120] loss: 1.097\n",
            "[14,    40] loss: 1.097\n",
            "[14,    80] loss: 1.096\n",
            "[14,   120] loss: 1.096\n",
            "[15,    40] loss: 1.095\n",
            "[15,    80] loss: 1.094\n",
            "[15,   120] loss: 1.093\n",
            "[16,    40] loss: 1.092\n",
            "[16,    80] loss: 1.089\n",
            "[16,   120] loss: 1.087\n",
            "[17,    40] loss: 1.085\n",
            "[17,    80] loss: 1.084\n",
            "[17,   120] loss: 1.082\n",
            "[18,    40] loss: 1.080\n",
            "[18,    80] loss: 1.081\n",
            "[18,   120] loss: 1.080\n",
            "[19,    40] loss: 1.080\n",
            "[19,    80] loss: 1.076\n",
            "[19,   120] loss: 1.079\n",
            "[20,    40] loss: 1.078\n",
            "[20,    80] loss: 1.077\n",
            "[20,   120] loss: 1.074\n",
            "[21,    40] loss: 1.071\n",
            "[21,    80] loss: 1.077\n",
            "[21,   120] loss: 1.076\n",
            "[22,    40] loss: 1.072\n",
            "[22,    80] loss: 1.072\n",
            "[22,   120] loss: 1.070\n",
            "[23,    40] loss: 1.068\n",
            "[23,    80] loss: 1.067\n",
            "[23,   120] loss: 1.064\n",
            "[24,    40] loss: 1.061\n",
            "[24,    80] loss: 1.061\n",
            "[24,   120] loss: 1.059\n",
            "[25,    40] loss: 1.053\n",
            "[25,    80] loss: 1.054\n",
            "[25,   120] loss: 1.051\n",
            "[26,    40] loss: 1.055\n",
            "[26,    80] loss: 1.051\n",
            "[26,   120] loss: 1.044\n",
            "[27,    40] loss: 1.044\n",
            "[27,    80] loss: 1.048\n",
            "[27,   120] loss: 1.045\n",
            "[28,    40] loss: 1.044\n",
            "[28,    80] loss: 1.042\n",
            "[28,   120] loss: 1.038\n",
            "[29,    40] loss: 1.038\n",
            "[29,    80] loss: 1.037\n",
            "[29,   120] loss: 1.033\n",
            "[30,    40] loss: 1.031\n",
            "[30,    80] loss: 1.023\n",
            "[30,   120] loss: 1.020\n",
            "[31,    40] loss: 1.023\n",
            "[31,    80] loss: 1.011\n",
            "[31,   120] loss: 1.009\n",
            "[32,    40] loss: 1.005\n",
            "[32,    80] loss: 0.997\n",
            "[32,   120] loss: 0.999\n",
            "[33,    40] loss: 0.995\n",
            "[33,    80] loss: 0.978\n",
            "[33,   120] loss: 0.974\n",
            "[34,    40] loss: 0.958\n",
            "[34,    80] loss: 0.949\n",
            "[34,   120] loss: 0.944\n",
            "[35,    40] loss: 0.928\n",
            "[35,    80] loss: 0.914\n",
            "[35,   120] loss: 0.911\n",
            "[36,    40] loss: 0.897\n",
            "[36,    80] loss: 0.883\n",
            "[36,   120] loss: 0.872\n",
            "[37,    40] loss: 0.846\n",
            "[37,    80] loss: 0.855\n",
            "[37,   120] loss: 0.815\n",
            "[38,    40] loss: 0.810\n",
            "[38,    80] loss: 0.808\n",
            "[38,   120] loss: 0.781\n",
            "[39,    40] loss: 0.771\n",
            "[39,    80] loss: 0.753\n",
            "[39,   120] loss: 0.746\n",
            "[40,    40] loss: 0.755\n",
            "[40,    80] loss: 0.691\n",
            "[40,   120] loss: 0.662\n",
            "[41,    40] loss: 0.601\n",
            "[41,    80] loss: 0.640\n",
            "[41,   120] loss: 0.628\n",
            "[42,    40] loss: 0.458\n",
            "[42,    80] loss: 1.047\n",
            "[42,   120] loss: 0.778\n",
            "[43,    40] loss: 0.539\n",
            "[43,    80] loss: 0.559\n",
            "[43,   120] loss: 0.751\n",
            "[44,    40] loss: 0.399\n",
            "[44,    80] loss: 0.747\n",
            "[44,   120] loss: 0.516\n",
            "[45,    40] loss: 1.001\n",
            "[45,    80] loss: 0.786\n",
            "[45,   120] loss: 0.399\n",
            "[46,    40] loss: 0.260\n",
            "[46,    80] loss: 0.210\n",
            "[46,   120] loss: 0.465\n",
            "[47,    40] loss: 0.148\n",
            "[47,    80] loss: 0.120\n",
            "[47,   120] loss: 0.098\n",
            "[48,    40] loss: 0.277\n",
            "[48,    80] loss: 0.041\n",
            "[48,   120] loss: 0.394\n",
            "[49,    40] loss: 0.117\n",
            "[49,    80] loss: 0.032\n",
            "[49,   120] loss: 0.036\n",
            "[50,    40] loss: 0.020\n",
            "[50,    80] loss: 0.011\n",
            "[50,   120] loss: 0.012\n",
            "Finished Training\n",
            " \n",
            "================================================================================================================================================================\n",
            "  S.No.  fg_class        bg_class                      Epoch used    total_points    correct    accuracy     FTPT     FFPT      FTPF        FFPF    avg_img > 0.5\n",
            "-------  --------------  --------------------------  ------------  --------------  ---------  ----------  -------  -------  --------  ----------  ---------------\n",
            "      1  fg = [0, 1, 2]  bg = [3, 4, 5, 6, 7, 8, 9]            63           30000      29532     98.44    79.4133  19.0267  0.423333  1.13667               18550\n",
            "      2  fg = [0, 1, 2]  bg = [3, 4, 5, 6, 7, 8, 9]            49           30000      29068     96.8933  77.0433  19.85    2.74333   0.363333              19948\n",
            "      3  fg = [0, 1, 2]  bg = [3, 4, 5, 6, 7, 8, 9]            42           30000      28639     95.4633  59.0133  36.45    1.71667   2.82                   3521\n",
            "      4  fg = [0, 1, 2]  bg = [3, 4, 5, 6, 7, 8, 9]            52           30000      29814     99.38    82.4833  16.8967  0.613333  0.00666667            20242\n",
            "      5  fg = [0, 1, 2]  bg = [3, 4, 5, 6, 7, 8, 9]            49           30000      29778     99.26    98.33     0.93    0.716667  0.0233333             29431\n",
            " \n",
            "================================================================================================================================================================\n",
            " \n",
            "================================================================================================================================================================\n",
            "  S.No.  fg_class        bg_class                    Epoch used      total_points    correct    accuracy    FTPT    FFPT    FTPF    FFPF    avg_img > 0.5\n",
            "-------  --------------  --------------------------  ------------  --------------  ---------  ----------  ------  ------  ------  ------  ---------------\n",
            "      1  fg = [0, 1, 2]  bg = [3, 4, 5, 6, 7, 8, 9]  NA                     10000       9586       95.86   74.87   20.99    0.96    3.18             5806\n",
            "      2  fg = [0, 1, 2]  bg = [3, 4, 5, 6, 7, 8, 9]  NA                     10000       9615       96.15   76.27   19.88    3.45    0.4              6630\n",
            "      3  fg = [0, 1, 2]  bg = [3, 4, 5, 6, 7, 8, 9]  NA                     10000       9378       93.78   55.78   38       1.92    4.3              1169\n",
            "      4  fg = [0, 1, 2]  bg = [3, 4, 5, 6, 7, 8, 9]  NA                     10000       9863       98.63   81.08   17.55    1.34    0.03             6707\n",
            "      5  fg = [0, 1, 2]  bg = [3, 4, 5, 6, 7, 8, 9]  NA                     10000       9920       99.2    98.29    0.91    0.8     0                9805\n",
            " \n",
            "================================================================================================================================================================\n",
            " \n",
            "================================================================================================================================================================\n",
            "  S.No.  fg_class        bg_class                    Epoch used      total_points    correct    accuracy    FTPT    FFPT    FTPF    FFPF    avg_img > 0.5\n",
            "-------  --------------  --------------------------  ------------  --------------  ---------  ----------  ------  ------  ------  ------  ---------------\n",
            "      1  fg = [0, 1, 2]  bg = [3, 4, 5, 6, 7, 8, 9]  NA                     10000       8681       86.81   58.74   28.07    1.93   11.26             5453\n",
            "      2  fg = [0, 1, 2]  bg = [3, 4, 5, 6, 7, 8, 9]  NA                     10000       9305       93.05   73.3    19.75    6.68    0.27             6675\n",
            "      3  fg = [0, 1, 2]  bg = [3, 4, 5, 6, 7, 8, 9]  NA                     10000       8949       89.49   47.74   41.75    2.07    8.44             1019\n",
            "      4  fg = [0, 1, 2]  bg = [3, 4, 5, 6, 7, 8, 9]  NA                     10000       9592       95.92   78.53   17.39    4.05    0.03             6774\n",
            "      5  fg = [0, 1, 2]  bg = [3, 4, 5, 6, 7, 8, 9]  NA                     10000       9924       99.24   98.27    0.97    0.75    0.01             9812\n",
            " \n",
            "================================================================================================================================================================\n",
            " \n",
            "================================================================================================================================================================\n",
            "  S.No.  fg_class        bg_class                    Epoch used      total_points    correct    accuracy    FTPT    FFPT    FTPF    FFPF    avg_img > 0.5\n",
            "-------  --------------  --------------------------  ------------  --------------  ---------  ----------  ------  ------  ------  ------  ---------------\n",
            "      1  fg = [0, 1, 2]  bg = [3, 4, 5, 6, 7, 8, 9]  NA                     10000       5700       57      37.63   19.37   31.62   11.38             4947\n",
            "      2  fg = [0, 1, 2]  bg = [3, 4, 5, 6, 7, 8, 9]  NA                     10000       3515       35.15    8.07   27.08    7.92   56.93              331\n",
            "      3  fg = [0, 1, 2]  bg = [3, 4, 5, 6, 7, 8, 9]  NA                     10000       3511       35.11   11.77   23.34   46.6    18.29             1156\n",
            "      4  fg = [0, 1, 2]  bg = [3, 4, 5, 6, 7, 8, 9]  NA                     10000       3293       32.93    5.69   27.24    6.57   60.5                40\n",
            "      5  fg = [0, 1, 2]  bg = [3, 4, 5, 6, 7, 8, 9]  NA                     10000       3423       34.23    9.57   24.66   14.74   51.03             2362\n",
            " \n",
            "================================================================================================================================================================\n",
            " \n",
            "================================================================================================================================================================\n",
            "  S.No.  fg_class        bg_class                    Epoch used      total_points    correct    accuracy    FTPT    FFPT    FTPF    FFPF    avg_img > 0.5\n",
            "-------  --------------  --------------------------  ------------  --------------  ---------  ----------  ------  ------  ------  ------  ---------------\n",
            "      1  fg = [0, 1, 2]  bg = [3, 4, 5, 6, 7, 8, 9]  NA                     10000       4906       49.06   25.81   23.25   26.3    24.64             4538\n",
            "      2  fg = [0, 1, 2]  bg = [3, 4, 5, 6, 7, 8, 9]  NA                     10000       3461       34.61    7.47   27.14    7.88   57.51              279\n",
            "      3  fg = [0, 1, 2]  bg = [3, 4, 5, 6, 7, 8, 9]  NA                     10000       3450       34.5     9.01   25.49   40.9    24.6               982\n",
            "      4  fg = [0, 1, 2]  bg = [3, 4, 5, 6, 7, 8, 9]  NA                     10000       3306       33.06    5.73   27.33    6.23   60.71               52\n",
            "      5  fg = [0, 1, 2]  bg = [3, 4, 5, 6, 7, 8, 9]  NA                     10000       3401       34.01    9      25.01   13.43   52.56             2447\n",
            " \n",
            "================================================================================================================================================================\n",
            "[1,    40] loss: 1.106\n",
            "[1,    80] loss: 1.099\n",
            "[1,   120] loss: 1.099\n",
            "[2,    40] loss: 1.099\n",
            "[2,    80] loss: 1.099\n",
            "[2,   120] loss: 1.099\n",
            "[3,    40] loss: 1.099\n",
            "[3,    80] loss: 1.098\n",
            "[3,   120] loss: 1.099\n",
            "[4,    40] loss: 1.098\n",
            "[4,    80] loss: 1.098\n",
            "[4,   120] loss: 1.098\n",
            "[5,    40] loss: 1.098\n",
            "[5,    80] loss: 1.098\n",
            "[5,   120] loss: 1.098\n",
            "[6,    40] loss: 1.098\n",
            "[6,    80] loss: 1.098\n",
            "[6,   120] loss: 1.098\n",
            "[7,    40] loss: 1.098\n",
            "[7,    80] loss: 1.098\n",
            "[7,   120] loss: 1.097\n",
            "[8,    40] loss: 1.097\n",
            "[8,    80] loss: 1.097\n",
            "[8,   120] loss: 1.096\n",
            "[9,    40] loss: 1.095\n",
            "[9,    80] loss: 1.094\n",
            "[9,   120] loss: 1.094\n",
            "[10,    40] loss: 1.092\n",
            "[10,    80] loss: 1.089\n",
            "[10,   120] loss: 1.088\n",
            "[11,    40] loss: 1.085\n",
            "[11,    80] loss: 1.082\n",
            "[11,   120] loss: 1.079\n",
            "[12,    40] loss: 1.076\n",
            "[12,    80] loss: 1.082\n",
            "[12,   120] loss: 1.072\n",
            "[13,    40] loss: 1.071\n",
            "[13,    80] loss: 1.066\n",
            "[13,   120] loss: 1.069\n",
            "[14,    40] loss: 1.066\n",
            "[14,    80] loss: 1.062\n",
            "[14,   120] loss: 1.063\n",
            "[15,    40] loss: 1.059\n",
            "[15,    80] loss: 1.058\n",
            "[15,   120] loss: 1.058\n",
            "[16,    40] loss: 1.055\n",
            "[16,    80] loss: 1.052\n",
            "[16,   120] loss: 1.049\n",
            "[17,    40] loss: 1.051\n",
            "[17,    80] loss: 1.047\n",
            "[17,   120] loss: 1.050\n",
            "[18,    40] loss: 1.049\n",
            "[18,    80] loss: 1.044\n",
            "[18,   120] loss: 1.044\n",
            "[19,    40] loss: 1.043\n",
            "[19,    80] loss: 1.039\n",
            "[19,   120] loss: 1.045\n",
            "[20,    40] loss: 1.038\n",
            "[20,    80] loss: 1.033\n",
            "[20,   120] loss: 1.044\n",
            "[21,    40] loss: 1.031\n",
            "[21,    80] loss: 1.041\n",
            "[21,   120] loss: 1.027\n",
            "[22,    40] loss: 1.018\n",
            "[22,    80] loss: 1.012\n",
            "[22,   120] loss: 1.011\n",
            "[23,    40] loss: 1.006\n",
            "[23,    80] loss: 1.000\n",
            "[23,   120] loss: 0.998\n",
            "[24,    40] loss: 0.993\n",
            "[24,    80] loss: 0.991\n",
            "[24,   120] loss: 0.979\n",
            "[25,    40] loss: 0.967\n",
            "[25,    80] loss: 0.963\n",
            "[25,   120] loss: 0.960\n",
            "[26,    40] loss: 0.949\n",
            "[26,    80] loss: 0.951\n",
            "[26,   120] loss: 0.940\n",
            "[27,    40] loss: 0.932\n",
            "[27,    80] loss: 0.927\n",
            "[27,   120] loss: 0.906\n",
            "[28,    40] loss: 0.897\n",
            "[28,    80] loss: 0.883\n",
            "[28,   120] loss: 0.864\n",
            "[29,    40] loss: 0.865\n",
            "[29,    80] loss: 0.846\n",
            "[29,   120] loss: 0.822\n",
            "[30,    40] loss: 0.798\n",
            "[30,    80] loss: 0.781\n",
            "[30,   120] loss: 0.744\n",
            "[31,    40] loss: 0.795\n",
            "[31,    80] loss: 0.806\n",
            "[31,   120] loss: 0.993\n",
            "[32,    40] loss: 0.661\n",
            "[32,    80] loss: 1.034\n",
            "[32,   120] loss: 0.716\n",
            "[33,    40] loss: 0.540\n",
            "[33,    80] loss: 1.113\n",
            "[33,   120] loss: 1.027\n",
            "[34,    40] loss: 0.652\n",
            "[34,    80] loss: 0.663\n",
            "[34,   120] loss: 0.535\n",
            "[35,    40] loss: 0.354\n",
            "[35,    80] loss: 1.061\n",
            "[35,   120] loss: 1.067\n",
            "[36,    40] loss: 1.057\n",
            "[36,    80] loss: 1.058\n",
            "[36,   120] loss: 1.049\n",
            "[37,    40] loss: 1.023\n",
            "[37,    80] loss: 0.973\n",
            "[37,   120] loss: 0.740\n",
            "[38,    40] loss: 0.298\n",
            "[38,    80] loss: 0.216\n",
            "[38,   120] loss: 0.973\n",
            "[39,    40] loss: 0.322\n",
            "[39,    80] loss: 0.756\n",
            "[39,   120] loss: 0.264\n",
            "[40,    40] loss: 0.168\n",
            "[40,    80] loss: 0.184\n",
            "[40,   120] loss: 0.912\n",
            "[41,    40] loss: 0.968\n",
            "[41,    80] loss: 0.489\n",
            "[41,   120] loss: 0.245\n",
            "[42,    40] loss: 0.256\n",
            "[42,    80] loss: 0.275\n",
            "[42,   120] loss: 0.116\n",
            "[43,    40] loss: 0.121\n",
            "[43,    80] loss: 0.163\n",
            "[43,   120] loss: 0.126\n",
            "[44,    40] loss: 0.139\n",
            "[44,    80] loss: 0.073\n",
            "[44,   120] loss: 0.074\n",
            "[45,    40] loss: 0.292\n",
            "[45,    80] loss: 0.093\n",
            "[45,   120] loss: 0.081\n",
            "[46,    40] loss: 0.087\n",
            "[46,    80] loss: 0.078\n",
            "[46,   120] loss: 0.060\n",
            "[47,    40] loss: 0.038\n",
            "[47,    80] loss: 0.038\n",
            "[47,   120] loss: 0.208\n",
            "[48,    40] loss: 0.052\n",
            "[48,    80] loss: 0.037\n",
            "[48,   120] loss: 0.038\n",
            "Finished Training\n",
            " \n",
            "================================================================================================================================================================\n",
            "  S.No.  fg_class        bg_class                      Epoch used    total_points    correct    accuracy     FTPT     FFPT      FTPF        FFPF    avg_img > 0.5\n",
            "-------  --------------  --------------------------  ------------  --------------  ---------  ----------  -------  -------  --------  ----------  ---------------\n",
            "      1  fg = [0, 1, 2]  bg = [3, 4, 5, 6, 7, 8, 9]            63           30000      29532     98.44    79.4133  19.0267  0.423333  1.13667               18550\n",
            "      2  fg = [0, 1, 2]  bg = [3, 4, 5, 6, 7, 8, 9]            49           30000      29068     96.8933  77.0433  19.85    2.74333   0.363333              19948\n",
            "      3  fg = [0, 1, 2]  bg = [3, 4, 5, 6, 7, 8, 9]            42           30000      28639     95.4633  59.0133  36.45    1.71667   2.82                   3521\n",
            "      4  fg = [0, 1, 2]  bg = [3, 4, 5, 6, 7, 8, 9]            52           30000      29814     99.38    82.4833  16.8967  0.613333  0.00666667            20242\n",
            "      5  fg = [0, 1, 2]  bg = [3, 4, 5, 6, 7, 8, 9]            49           30000      29778     99.26    98.33     0.93    0.716667  0.0233333             29431\n",
            "      6  fg = [0, 1, 2]  bg = [3, 4, 5, 6, 7, 8, 9]            47           30000      29795     99.3167  78.0967  21.22    0.636667  0.0466667             20150\n",
            " \n",
            "================================================================================================================================================================\n",
            " \n",
            "================================================================================================================================================================\n",
            "  S.No.  fg_class        bg_class                    Epoch used      total_points    correct    accuracy    FTPT    FFPT    FTPF    FFPF    avg_img > 0.5\n",
            "-------  --------------  --------------------------  ------------  --------------  ---------  ----------  ------  ------  ------  ------  ---------------\n",
            "      1  fg = [0, 1, 2]  bg = [3, 4, 5, 6, 7, 8, 9]  NA                     10000       9586       95.86   74.87   20.99    0.96    3.18             5806\n",
            "      2  fg = [0, 1, 2]  bg = [3, 4, 5, 6, 7, 8, 9]  NA                     10000       9615       96.15   76.27   19.88    3.45    0.4              6630\n",
            "      3  fg = [0, 1, 2]  bg = [3, 4, 5, 6, 7, 8, 9]  NA                     10000       9378       93.78   55.78   38       1.92    4.3              1169\n",
            "      4  fg = [0, 1, 2]  bg = [3, 4, 5, 6, 7, 8, 9]  NA                     10000       9863       98.63   81.08   17.55    1.34    0.03             6707\n",
            "      5  fg = [0, 1, 2]  bg = [3, 4, 5, 6, 7, 8, 9]  NA                     10000       9920       99.2    98.29    0.91    0.8     0                9805\n",
            "      6  fg = [0, 1, 2]  bg = [3, 4, 5, 6, 7, 8, 9]  NA                     10000       9836       98.36   77.25   21.11    1.57    0.07             6660\n",
            " \n",
            "================================================================================================================================================================\n",
            " \n",
            "================================================================================================================================================================\n",
            "  S.No.  fg_class        bg_class                    Epoch used      total_points    correct    accuracy    FTPT    FFPT    FTPF    FFPF    avg_img > 0.5\n",
            "-------  --------------  --------------------------  ------------  --------------  ---------  ----------  ------  ------  ------  ------  ---------------\n",
            "      1  fg = [0, 1, 2]  bg = [3, 4, 5, 6, 7, 8, 9]  NA                     10000       8681       86.81   58.74   28.07    1.93   11.26             5453\n",
            "      2  fg = [0, 1, 2]  bg = [3, 4, 5, 6, 7, 8, 9]  NA                     10000       9305       93.05   73.3    19.75    6.68    0.27             6675\n",
            "      3  fg = [0, 1, 2]  bg = [3, 4, 5, 6, 7, 8, 9]  NA                     10000       8949       89.49   47.74   41.75    2.07    8.44             1019\n",
            "      4  fg = [0, 1, 2]  bg = [3, 4, 5, 6, 7, 8, 9]  NA                     10000       9592       95.92   78.53   17.39    4.05    0.03             6774\n",
            "      5  fg = [0, 1, 2]  bg = [3, 4, 5, 6, 7, 8, 9]  NA                     10000       9924       99.24   98.27    0.97    0.75    0.01             9812\n",
            "      6  fg = [0, 1, 2]  bg = [3, 4, 5, 6, 7, 8, 9]  NA                     10000       9443       94.43   72.29   22.14    5.47    0.1              6714\n",
            " \n",
            "================================================================================================================================================================\n",
            " \n",
            "================================================================================================================================================================\n",
            "  S.No.  fg_class        bg_class                    Epoch used      total_points    correct    accuracy    FTPT    FFPT    FTPF    FFPF    avg_img > 0.5\n",
            "-------  --------------  --------------------------  ------------  --------------  ---------  ----------  ------  ------  ------  ------  ---------------\n",
            "      1  fg = [0, 1, 2]  bg = [3, 4, 5, 6, 7, 8, 9]  NA                     10000       5700       57      37.63   19.37   31.62   11.38             4947\n",
            "      2  fg = [0, 1, 2]  bg = [3, 4, 5, 6, 7, 8, 9]  NA                     10000       3515       35.15    8.07   27.08    7.92   56.93              331\n",
            "      3  fg = [0, 1, 2]  bg = [3, 4, 5, 6, 7, 8, 9]  NA                     10000       3511       35.11   11.77   23.34   46.6    18.29             1156\n",
            "      4  fg = [0, 1, 2]  bg = [3, 4, 5, 6, 7, 8, 9]  NA                     10000       3293       32.93    5.69   27.24    6.57   60.5                40\n",
            "      5  fg = [0, 1, 2]  bg = [3, 4, 5, 6, 7, 8, 9]  NA                     10000       3423       34.23    9.57   24.66   14.74   51.03             2362\n",
            "      6  fg = [0, 1, 2]  bg = [3, 4, 5, 6, 7, 8, 9]  NA                     10000       3302       33.02    5.37   27.65    5.9    61.08               67\n",
            " \n",
            "================================================================================================================================================================\n",
            " \n",
            "================================================================================================================================================================\n",
            "  S.No.  fg_class        bg_class                    Epoch used      total_points    correct    accuracy    FTPT    FFPT    FTPF    FFPF    avg_img > 0.5\n",
            "-------  --------------  --------------------------  ------------  --------------  ---------  ----------  ------  ------  ------  ------  ---------------\n",
            "      1  fg = [0, 1, 2]  bg = [3, 4, 5, 6, 7, 8, 9]  NA                     10000       4906       49.06   25.81   23.25   26.3    24.64             4538\n",
            "      2  fg = [0, 1, 2]  bg = [3, 4, 5, 6, 7, 8, 9]  NA                     10000       3461       34.61    7.47   27.14    7.88   57.51              279\n",
            "      3  fg = [0, 1, 2]  bg = [3, 4, 5, 6, 7, 8, 9]  NA                     10000       3450       34.5     9.01   25.49   40.9    24.6               982\n",
            "      4  fg = [0, 1, 2]  bg = [3, 4, 5, 6, 7, 8, 9]  NA                     10000       3306       33.06    5.73   27.33    6.23   60.71               52\n",
            "      5  fg = [0, 1, 2]  bg = [3, 4, 5, 6, 7, 8, 9]  NA                     10000       3401       34.01    9      25.01   13.43   52.56             2447\n",
            "      6  fg = [0, 1, 2]  bg = [3, 4, 5, 6, 7, 8, 9]  NA                     10000       3313       33.13    5.3    27.83    6.83   60.04               70\n",
            " \n",
            "================================================================================================================================================================\n",
            "[1,    40] loss: 1.100\n",
            "[1,    80] loss: 1.099\n",
            "[1,   120] loss: 1.099\n",
            "[2,    40] loss: 1.099\n",
            "[2,    80] loss: 1.099\n",
            "[2,   120] loss: 1.099\n",
            "[3,    40] loss: 1.098\n",
            "[3,    80] loss: 1.099\n",
            "[3,   120] loss: 1.098\n",
            "[4,    40] loss: 1.098\n",
            "[4,    80] loss: 1.098\n",
            "[4,   120] loss: 1.098\n",
            "[5,    40] loss: 1.098\n",
            "[5,    80] loss: 1.098\n",
            "[5,   120] loss: 1.098\n",
            "[6,    40] loss: 1.098\n",
            "[6,    80] loss: 1.098\n",
            "[6,   120] loss: 1.097\n",
            "[7,    40] loss: 1.097\n",
            "[7,    80] loss: 1.097\n",
            "[7,   120] loss: 1.097\n",
            "[8,    40] loss: 1.095\n",
            "[8,    80] loss: 1.094\n",
            "[8,   120] loss: 1.092\n",
            "[9,    40] loss: 1.089\n",
            "[9,    80] loss: 1.087\n",
            "[9,   120] loss: 1.084\n",
            "[10,    40] loss: 1.080\n",
            "[10,    80] loss: 1.075\n",
            "[10,   120] loss: 1.078\n",
            "[11,    40] loss: 1.075\n",
            "[11,    80] loss: 1.074\n",
            "[11,   120] loss: 1.073\n",
            "[12,    40] loss: 1.069\n",
            "[12,    80] loss: 1.069\n",
            "[12,   120] loss: 1.069\n",
            "[13,    40] loss: 1.065\n",
            "[13,    80] loss: 1.065\n",
            "[13,   120] loss: 1.058\n",
            "[14,    40] loss: 1.057\n",
            "[14,    80] loss: 1.055\n",
            "[14,   120] loss: 1.055\n",
            "[15,    40] loss: 1.048\n",
            "[15,    80] loss: 1.055\n",
            "[15,   120] loss: 1.048\n",
            "[16,    40] loss: 1.047\n",
            "[16,    80] loss: 1.049\n",
            "[16,   120] loss: 1.043\n",
            "[17,    40] loss: 1.039\n",
            "[17,    80] loss: 1.035\n",
            "[17,   120] loss: 1.030\n",
            "[18,    40] loss: 1.023\n",
            "[18,    80] loss: 1.013\n",
            "[18,   120] loss: 1.015\n",
            "[19,    40] loss: 1.012\n",
            "[19,    80] loss: 1.001\n",
            "[19,   120] loss: 0.997\n",
            "[20,    40] loss: 0.990\n",
            "[20,    80] loss: 0.982\n",
            "[20,   120] loss: 0.985\n",
            "[21,    40] loss: 0.968\n",
            "[21,    80] loss: 0.969\n",
            "[21,   120] loss: 0.954\n",
            "[22,    40] loss: 0.950\n",
            "[22,    80] loss: 0.938\n",
            "[22,   120] loss: 0.923\n",
            "[23,    40] loss: 0.919\n",
            "[23,    80] loss: 0.899\n",
            "[23,   120] loss: 0.891\n",
            "[24,    40] loss: 0.862\n",
            "[24,    80] loss: 0.863\n",
            "[24,   120] loss: 0.875\n",
            "[25,    40] loss: 0.836\n",
            "[25,    80] loss: 0.832\n",
            "[25,   120] loss: 0.830\n",
            "[26,    40] loss: 0.790\n",
            "[26,    80] loss: 0.798\n",
            "[26,   120] loss: 0.798\n",
            "[27,    40] loss: 0.767\n",
            "[27,    80] loss: 0.761\n",
            "[27,   120] loss: 0.753\n",
            "[28,    40] loss: 0.712\n",
            "[28,    80] loss: 0.703\n",
            "[28,   120] loss: 0.720\n",
            "[29,    40] loss: 0.654\n",
            "[29,    80] loss: 0.644\n",
            "[29,   120] loss: 0.699\n",
            "[30,    40] loss: 0.682\n",
            "[30,    80] loss: 0.605\n",
            "[30,   120] loss: 0.699\n",
            "[31,    40] loss: 0.568\n",
            "[31,    80] loss: 0.444\n",
            "[31,   120] loss: 0.499\n",
            "[32,    40] loss: 0.347\n",
            "[32,    80] loss: 0.342\n",
            "[32,   120] loss: 0.249\n",
            "[33,    40] loss: 0.285\n",
            "[33,    80] loss: 0.365\n",
            "[33,   120] loss: 0.212\n",
            "[34,    40] loss: 0.285\n",
            "[34,    80] loss: 0.362\n",
            "[34,   120] loss: 1.085\n",
            "[35,    40] loss: 1.053\n",
            "[35,    80] loss: 1.055\n",
            "[35,   120] loss: 1.046\n",
            "[36,    40] loss: 1.046\n",
            "[36,    80] loss: 1.025\n",
            "[36,   120] loss: 1.015\n",
            "[37,    40] loss: 1.003\n",
            "[37,    80] loss: 0.984\n",
            "[37,   120] loss: 0.962\n",
            "[38,    40] loss: 0.911\n",
            "[38,    80] loss: 0.750\n",
            "[38,   120] loss: 0.271\n",
            "[39,    40] loss: 0.218\n",
            "[39,    80] loss: 0.156\n",
            "[39,   120] loss: 0.108\n",
            "[40,    40] loss: 0.096\n",
            "[40,    80] loss: 0.194\n",
            "[40,   120] loss: 0.139\n",
            "[41,    40] loss: 0.097\n",
            "[41,    80] loss: 0.066\n",
            "[41,   120] loss: 0.075\n",
            "[42,    40] loss: 0.091\n",
            "[42,    80] loss: 0.325\n",
            "[42,   120] loss: 0.091\n",
            "[43,    40] loss: 0.061\n",
            "[43,    80] loss: 0.054\n",
            "[43,   120] loss: 0.050\n",
            "[44,    40] loss: 0.045\n",
            "[44,    80] loss: 0.067\n",
            "[44,   120] loss: 0.055\n",
            "[45,    40] loss: 0.036\n",
            "[45,    80] loss: 0.028\n",
            "[45,   120] loss: 0.056\n",
            "Finished Training\n",
            " \n",
            "================================================================================================================================================================\n",
            "  S.No.  fg_class        bg_class                      Epoch used    total_points    correct    accuracy     FTPT     FFPT      FTPF         FFPF    avg_img > 0.5\n",
            "-------  --------------  --------------------------  ------------  --------------  ---------  ----------  -------  -------  --------  -----------  ---------------\n",
            "      1  fg = [0, 1, 2]  bg = [3, 4, 5, 6, 7, 8, 9]            63           30000      29532     98.44    79.4133  19.0267  0.423333   1.13667               18550\n",
            "      2  fg = [0, 1, 2]  bg = [3, 4, 5, 6, 7, 8, 9]            49           30000      29068     96.8933  77.0433  19.85    2.74333    0.363333              19948\n",
            "      3  fg = [0, 1, 2]  bg = [3, 4, 5, 6, 7, 8, 9]            42           30000      28639     95.4633  59.0133  36.45    1.71667    2.82                   3521\n",
            "      4  fg = [0, 1, 2]  bg = [3, 4, 5, 6, 7, 8, 9]            52           30000      29814     99.38    82.4833  16.8967  0.613333   0.00666667            20242\n",
            "      5  fg = [0, 1, 2]  bg = [3, 4, 5, 6, 7, 8, 9]            49           30000      29778     99.26    98.33     0.93    0.716667   0.0233333             29431\n",
            "      6  fg = [0, 1, 2]  bg = [3, 4, 5, 6, 7, 8, 9]            47           30000      29795     99.3167  78.0967  21.22    0.636667   0.0466667             20150\n",
            "      7  fg = [0, 1, 2]  bg = [3, 4, 5, 6, 7, 8, 9]            44           30000      25182     83.94    56.9167  27.0233  5.35667   10.7033                19187\n",
            " \n",
            "================================================================================================================================================================\n",
            " \n",
            "================================================================================================================================================================\n",
            "  S.No.  fg_class        bg_class                    Epoch used      total_points    correct    accuracy    FTPT    FFPT    FTPF    FFPF    avg_img > 0.5\n",
            "-------  --------------  --------------------------  ------------  --------------  ---------  ----------  ------  ------  ------  ------  ---------------\n",
            "      1  fg = [0, 1, 2]  bg = [3, 4, 5, 6, 7, 8, 9]  NA                     10000       9586       95.86   74.87   20.99    0.96    3.18             5806\n",
            "      2  fg = [0, 1, 2]  bg = [3, 4, 5, 6, 7, 8, 9]  NA                     10000       9615       96.15   76.27   19.88    3.45    0.4              6630\n",
            "      3  fg = [0, 1, 2]  bg = [3, 4, 5, 6, 7, 8, 9]  NA                     10000       9378       93.78   55.78   38       1.92    4.3              1169\n",
            "      4  fg = [0, 1, 2]  bg = [3, 4, 5, 6, 7, 8, 9]  NA                     10000       9863       98.63   81.08   17.55    1.34    0.03             6707\n",
            "      5  fg = [0, 1, 2]  bg = [3, 4, 5, 6, 7, 8, 9]  NA                     10000       9920       99.2    98.29    0.91    0.8     0                9805\n",
            "      6  fg = [0, 1, 2]  bg = [3, 4, 5, 6, 7, 8, 9]  NA                     10000       9836       98.36   77.25   21.11    1.57    0.07             6660\n",
            "      7  fg = [0, 1, 2]  bg = [3, 4, 5, 6, 7, 8, 9]  NA                     10000       8340       83.4    56.11   27.29    5.82   10.78             6371\n",
            " \n",
            "================================================================================================================================================================\n",
            " \n",
            "================================================================================================================================================================\n",
            "  S.No.  fg_class        bg_class                    Epoch used      total_points    correct    accuracy    FTPT    FFPT    FTPF    FFPF    avg_img > 0.5\n",
            "-------  --------------  --------------------------  ------------  --------------  ---------  ----------  ------  ------  ------  ------  ---------------\n",
            "      1  fg = [0, 1, 2]  bg = [3, 4, 5, 6, 7, 8, 9]  NA                     10000       8681       86.81   58.74   28.07    1.93   11.26             5453\n",
            "      2  fg = [0, 1, 2]  bg = [3, 4, 5, 6, 7, 8, 9]  NA                     10000       9305       93.05   73.3    19.75    6.68    0.27             6675\n",
            "      3  fg = [0, 1, 2]  bg = [3, 4, 5, 6, 7, 8, 9]  NA                     10000       8949       89.49   47.74   41.75    2.07    8.44             1019\n",
            "      4  fg = [0, 1, 2]  bg = [3, 4, 5, 6, 7, 8, 9]  NA                     10000       9592       95.92   78.53   17.39    4.05    0.03             6774\n",
            "      5  fg = [0, 1, 2]  bg = [3, 4, 5, 6, 7, 8, 9]  NA                     10000       9924       99.24   98.27    0.97    0.75    0.01             9812\n",
            "      6  fg = [0, 1, 2]  bg = [3, 4, 5, 6, 7, 8, 9]  NA                     10000       9443       94.43   72.29   22.14    5.47    0.1              6714\n",
            "      7  fg = [0, 1, 2]  bg = [3, 4, 5, 6, 7, 8, 9]  NA                     10000       8183       81.83   55.34   26.49    8.21    9.96             6433\n",
            " \n",
            "================================================================================================================================================================\n",
            " \n",
            "================================================================================================================================================================\n",
            "  S.No.  fg_class        bg_class                    Epoch used      total_points    correct    accuracy    FTPT    FFPT    FTPF    FFPF    avg_img > 0.5\n",
            "-------  --------------  --------------------------  ------------  --------------  ---------  ----------  ------  ------  ------  ------  ---------------\n",
            "      1  fg = [0, 1, 2]  bg = [3, 4, 5, 6, 7, 8, 9]  NA                     10000       5700       57      37.63   19.37   31.62   11.38             4947\n",
            "      2  fg = [0, 1, 2]  bg = [3, 4, 5, 6, 7, 8, 9]  NA                     10000       3515       35.15    8.07   27.08    7.92   56.93              331\n",
            "      3  fg = [0, 1, 2]  bg = [3, 4, 5, 6, 7, 8, 9]  NA                     10000       3511       35.11   11.77   23.34   46.6    18.29             1156\n",
            "      4  fg = [0, 1, 2]  bg = [3, 4, 5, 6, 7, 8, 9]  NA                     10000       3293       32.93    5.69   27.24    6.57   60.5                40\n",
            "      5  fg = [0, 1, 2]  bg = [3, 4, 5, 6, 7, 8, 9]  NA                     10000       3423       34.23    9.57   24.66   14.74   51.03             2362\n",
            "      6  fg = [0, 1, 2]  bg = [3, 4, 5, 6, 7, 8, 9]  NA                     10000       3302       33.02    5.37   27.65    5.9    61.08               67\n",
            "      7  fg = [0, 1, 2]  bg = [3, 4, 5, 6, 7, 8, 9]  NA                     10000       3560       35.6     5.24   30.36    7.5    56.9              2140\n",
            " \n",
            "================================================================================================================================================================\n",
            " \n",
            "================================================================================================================================================================\n",
            "  S.No.  fg_class        bg_class                    Epoch used      total_points    correct    accuracy    FTPT    FFPT    FTPF    FFPF    avg_img > 0.5\n",
            "-------  --------------  --------------------------  ------------  --------------  ---------  ----------  ------  ------  ------  ------  ---------------\n",
            "      1  fg = [0, 1, 2]  bg = [3, 4, 5, 6, 7, 8, 9]  NA                     10000       4906       49.06   25.81   23.25   26.3    24.64             4538\n",
            "      2  fg = [0, 1, 2]  bg = [3, 4, 5, 6, 7, 8, 9]  NA                     10000       3461       34.61    7.47   27.14    7.88   57.51              279\n",
            "      3  fg = [0, 1, 2]  bg = [3, 4, 5, 6, 7, 8, 9]  NA                     10000       3450       34.5     9.01   25.49   40.9    24.6               982\n",
            "      4  fg = [0, 1, 2]  bg = [3, 4, 5, 6, 7, 8, 9]  NA                     10000       3306       33.06    5.73   27.33    6.23   60.71               52\n",
            "      5  fg = [0, 1, 2]  bg = [3, 4, 5, 6, 7, 8, 9]  NA                     10000       3401       34.01    9      25.01   13.43   52.56             2447\n",
            "      6  fg = [0, 1, 2]  bg = [3, 4, 5, 6, 7, 8, 9]  NA                     10000       3313       33.13    5.3    27.83    6.83   60.04               70\n",
            "      7  fg = [0, 1, 2]  bg = [3, 4, 5, 6, 7, 8, 9]  NA                     10000       3505       35.05    5.6    29.45    7.69   57.26             2053\n",
            " \n",
            "================================================================================================================================================================\n",
            "[1,    40] loss: 1.100\n",
            "[1,    80] loss: 1.099\n",
            "[1,   120] loss: 1.099\n",
            "[2,    40] loss: 1.099\n",
            "[2,    80] loss: 1.099\n",
            "[2,   120] loss: 1.099\n",
            "[3,    40] loss: 1.098\n",
            "[3,    80] loss: 1.099\n",
            "[3,   120] loss: 1.099\n",
            "[4,    40] loss: 1.099\n",
            "[4,    80] loss: 1.098\n",
            "[4,   120] loss: 1.098\n",
            "[5,    40] loss: 1.098\n",
            "[5,    80] loss: 1.098\n",
            "[5,   120] loss: 1.098\n",
            "[6,    40] loss: 1.098\n",
            "[6,    80] loss: 1.098\n",
            "[6,   120] loss: 1.098\n",
            "[7,    40] loss: 1.098\n",
            "[7,    80] loss: 1.098\n",
            "[7,   120] loss: 1.098\n",
            "[8,    40] loss: 1.098\n",
            "[8,    80] loss: 1.098\n",
            "[8,   120] loss: 1.097\n",
            "[9,    40] loss: 1.097\n",
            "[9,    80] loss: 1.097\n",
            "[9,   120] loss: 1.096\n",
            "[10,    40] loss: 1.097\n",
            "[10,    80] loss: 1.095\n",
            "[10,   120] loss: 1.094\n",
            "[11,    40] loss: 1.093\n",
            "[11,    80] loss: 1.092\n",
            "[11,   120] loss: 1.090\n",
            "[12,    40] loss: 1.087\n",
            "[12,    80] loss: 1.085\n",
            "[12,   120] loss: 1.084\n",
            "[13,    40] loss: 1.078\n",
            "[13,    80] loss: 1.081\n",
            "[13,   120] loss: 1.077\n",
            "[14,    40] loss: 1.073\n",
            "[14,    80] loss: 1.073\n",
            "[14,   120] loss: 1.073\n",
            "[15,    40] loss: 1.069\n",
            "[15,    80] loss: 1.069\n",
            "[15,   120] loss: 1.066\n",
            "[16,    40] loss: 1.060\n",
            "[16,    80] loss: 1.070\n",
            "[16,   120] loss: 1.066\n",
            "[17,    40] loss: 1.061\n",
            "[17,    80] loss: 1.064\n",
            "[17,   120] loss: 1.061\n",
            "[18,    40] loss: 1.057\n",
            "[18,    80] loss: 1.056\n",
            "[18,   120] loss: 1.060\n",
            "[19,    40] loss: 1.056\n",
            "[19,    80] loss: 1.060\n",
            "[19,   120] loss: 1.047\n",
            "[20,    40] loss: 1.051\n",
            "[20,    80] loss: 1.049\n",
            "[20,   120] loss: 1.044\n",
            "[21,    40] loss: 1.044\n",
            "[21,    80] loss: 1.043\n",
            "[21,   120] loss: 1.039\n",
            "[22,    40] loss: 1.041\n",
            "[22,    80] loss: 1.032\n",
            "[22,   120] loss: 1.028\n",
            "[23,    40] loss: 1.020\n",
            "[23,    80] loss: 1.017\n",
            "[23,   120] loss: 1.015\n",
            "[24,    40] loss: 1.014\n",
            "[24,    80] loss: 1.006\n",
            "[24,   120] loss: 0.999\n",
            "[25,    40] loss: 0.993\n",
            "[25,    80] loss: 0.990\n",
            "[25,   120] loss: 0.982\n",
            "[26,    40] loss: 0.962\n",
            "[26,    80] loss: 0.966\n",
            "[26,   120] loss: 0.956\n",
            "[27,    40] loss: 0.935\n",
            "[27,    80] loss: 0.920\n",
            "[27,   120] loss: 0.908\n",
            "[28,    40] loss: 0.899\n",
            "[28,    80] loss: 0.877\n",
            "[28,   120] loss: 0.868\n",
            "[29,    40] loss: 0.875\n",
            "[29,    80] loss: 0.849\n",
            "[29,   120] loss: 0.836\n",
            "[30,    40] loss: 0.797\n",
            "[30,    80] loss: 0.812\n",
            "[30,   120] loss: 0.788\n",
            "[31,    40] loss: 0.771\n",
            "[31,    80] loss: 0.750\n",
            "[31,   120] loss: 0.759\n",
            "[32,    40] loss: 0.723\n",
            "[32,    80] loss: 0.708\n",
            "[32,   120] loss: 0.702\n",
            "[33,    40] loss: 0.675\n",
            "[33,    80] loss: 0.642\n",
            "[33,   120] loss: 0.664\n",
            "[34,    40] loss: 0.631\n",
            "[34,    80] loss: 0.588\n",
            "[34,   120] loss: 0.661\n",
            "[35,    40] loss: 0.519\n",
            "[35,    80] loss: 0.431\n",
            "[35,   120] loss: 0.415\n",
            "[36,    40] loss: 0.393\n",
            "[36,    80] loss: 0.302\n",
            "[36,   120] loss: 0.449\n",
            "[37,    40] loss: 0.272\n",
            "[37,    80] loss: 0.343\n",
            "[37,   120] loss: 0.303\n",
            "[38,    40] loss: 0.169\n",
            "[38,    80] loss: 0.120\n",
            "[38,   120] loss: 0.128\n",
            "[39,    40] loss: 0.216\n",
            "[39,    80] loss: 0.124\n",
            "[39,   120] loss: 0.547\n",
            "[40,    40] loss: 0.169\n",
            "[40,    80] loss: 0.090\n",
            "[40,   120] loss: 0.084\n",
            "[41,    40] loss: 0.126\n",
            "[41,    80] loss: 0.066\n",
            "[41,   120] loss: 0.069\n",
            "[42,    40] loss: 0.102\n",
            "[42,    80] loss: 0.426\n",
            "[42,   120] loss: 0.105\n",
            "[43,    40] loss: 0.058\n",
            "[43,    80] loss: 0.049\n",
            "[43,   120] loss: 0.047\n",
            "[44,    40] loss: 0.051\n",
            "[44,    80] loss: 0.324\n",
            "[44,   120] loss: 0.055\n",
            "[45,    40] loss: 0.036\n",
            "[45,    80] loss: 0.031\n",
            "[45,   120] loss: 0.051\n",
            "Finished Training\n",
            " \n",
            "================================================================================================================================================================\n",
            "  S.No.  fg_class        bg_class                      Epoch used    total_points    correct    accuracy     FTPT     FFPT      FTPF         FFPF    avg_img > 0.5\n",
            "-------  --------------  --------------------------  ------------  --------------  ---------  ----------  -------  -------  --------  -----------  ---------------\n",
            "      1  fg = [0, 1, 2]  bg = [3, 4, 5, 6, 7, 8, 9]            63           30000      29532     98.44    79.4133  19.0267  0.423333   1.13667               18550\n",
            "      2  fg = [0, 1, 2]  bg = [3, 4, 5, 6, 7, 8, 9]            49           30000      29068     96.8933  77.0433  19.85    2.74333    0.363333              19948\n",
            "      3  fg = [0, 1, 2]  bg = [3, 4, 5, 6, 7, 8, 9]            42           30000      28639     95.4633  59.0133  36.45    1.71667    2.82                   3521\n",
            "      4  fg = [0, 1, 2]  bg = [3, 4, 5, 6, 7, 8, 9]            52           30000      29814     99.38    82.4833  16.8967  0.613333   0.00666667            20242\n",
            "      5  fg = [0, 1, 2]  bg = [3, 4, 5, 6, 7, 8, 9]            49           30000      29778     99.26    98.33     0.93    0.716667   0.0233333             29431\n",
            "      6  fg = [0, 1, 2]  bg = [3, 4, 5, 6, 7, 8, 9]            47           30000      29795     99.3167  78.0967  21.22    0.636667   0.0466667             20150\n",
            "      7  fg = [0, 1, 2]  bg = [3, 4, 5, 6, 7, 8, 9]            44           30000      25182     83.94    56.9167  27.0233  5.35667   10.7033                19187\n",
            "      8  fg = [0, 1, 2]  bg = [3, 4, 5, 6, 7, 8, 9]            44           30000      27913     93.0433  67.98    25.0633  4.35       2.60667               19828\n",
            " \n",
            "================================================================================================================================================================\n",
            " \n",
            "================================================================================================================================================================\n",
            "  S.No.  fg_class        bg_class                    Epoch used      total_points    correct    accuracy    FTPT    FFPT    FTPF    FFPF    avg_img > 0.5\n",
            "-------  --------------  --------------------------  ------------  --------------  ---------  ----------  ------  ------  ------  ------  ---------------\n",
            "      1  fg = [0, 1, 2]  bg = [3, 4, 5, 6, 7, 8, 9]  NA                     10000       9586       95.86   74.87   20.99    0.96    3.18             5806\n",
            "      2  fg = [0, 1, 2]  bg = [3, 4, 5, 6, 7, 8, 9]  NA                     10000       9615       96.15   76.27   19.88    3.45    0.4              6630\n",
            "      3  fg = [0, 1, 2]  bg = [3, 4, 5, 6, 7, 8, 9]  NA                     10000       9378       93.78   55.78   38       1.92    4.3              1169\n",
            "      4  fg = [0, 1, 2]  bg = [3, 4, 5, 6, 7, 8, 9]  NA                     10000       9863       98.63   81.08   17.55    1.34    0.03             6707\n",
            "      5  fg = [0, 1, 2]  bg = [3, 4, 5, 6, 7, 8, 9]  NA                     10000       9920       99.2    98.29    0.91    0.8     0                9805\n",
            "      6  fg = [0, 1, 2]  bg = [3, 4, 5, 6, 7, 8, 9]  NA                     10000       9836       98.36   77.25   21.11    1.57    0.07             6660\n",
            "      7  fg = [0, 1, 2]  bg = [3, 4, 5, 6, 7, 8, 9]  NA                     10000       8340       83.4    56.11   27.29    5.82   10.78             6371\n",
            "      8  fg = [0, 1, 2]  bg = [3, 4, 5, 6, 7, 8, 9]  NA                     10000       9223       92.23   66.56   25.67    5.04    2.73             6508\n",
            " \n",
            "================================================================================================================================================================\n",
            " \n",
            "================================================================================================================================================================\n",
            "  S.No.  fg_class        bg_class                    Epoch used      total_points    correct    accuracy    FTPT    FFPT    FTPF    FFPF    avg_img > 0.5\n",
            "-------  --------------  --------------------------  ------------  --------------  ---------  ----------  ------  ------  ------  ------  ---------------\n",
            "      1  fg = [0, 1, 2]  bg = [3, 4, 5, 6, 7, 8, 9]  NA                     10000       8681       86.81   58.74   28.07    1.93   11.26             5453\n",
            "      2  fg = [0, 1, 2]  bg = [3, 4, 5, 6, 7, 8, 9]  NA                     10000       9305       93.05   73.3    19.75    6.68    0.27             6675\n",
            "      3  fg = [0, 1, 2]  bg = [3, 4, 5, 6, 7, 8, 9]  NA                     10000       8949       89.49   47.74   41.75    2.07    8.44             1019\n",
            "      4  fg = [0, 1, 2]  bg = [3, 4, 5, 6, 7, 8, 9]  NA                     10000       9592       95.92   78.53   17.39    4.05    0.03             6774\n",
            "      5  fg = [0, 1, 2]  bg = [3, 4, 5, 6, 7, 8, 9]  NA                     10000       9924       99.24   98.27    0.97    0.75    0.01             9812\n",
            "      6  fg = [0, 1, 2]  bg = [3, 4, 5, 6, 7, 8, 9]  NA                     10000       9443       94.43   72.29   22.14    5.47    0.1              6714\n",
            "      7  fg = [0, 1, 2]  bg = [3, 4, 5, 6, 7, 8, 9]  NA                     10000       8183       81.83   55.34   26.49    8.21    9.96             6433\n",
            "      8  fg = [0, 1, 2]  bg = [3, 4, 5, 6, 7, 8, 9]  NA                     10000       9090       90.9    65.81   25.09    6.05    3.05             6664\n",
            " \n",
            "================================================================================================================================================================\n",
            " \n",
            "================================================================================================================================================================\n",
            "  S.No.  fg_class        bg_class                    Epoch used      total_points    correct    accuracy    FTPT    FFPT    FTPF    FFPF    avg_img > 0.5\n",
            "-------  --------------  --------------------------  ------------  --------------  ---------  ----------  ------  ------  ------  ------  ---------------\n",
            "      1  fg = [0, 1, 2]  bg = [3, 4, 5, 6, 7, 8, 9]  NA                     10000       5700       57      37.63   19.37   31.62   11.38             4947\n",
            "      2  fg = [0, 1, 2]  bg = [3, 4, 5, 6, 7, 8, 9]  NA                     10000       3515       35.15    8.07   27.08    7.92   56.93              331\n",
            "      3  fg = [0, 1, 2]  bg = [3, 4, 5, 6, 7, 8, 9]  NA                     10000       3511       35.11   11.77   23.34   46.6    18.29             1156\n",
            "      4  fg = [0, 1, 2]  bg = [3, 4, 5, 6, 7, 8, 9]  NA                     10000       3293       32.93    5.69   27.24    6.57   60.5                40\n",
            "      5  fg = [0, 1, 2]  bg = [3, 4, 5, 6, 7, 8, 9]  NA                     10000       3423       34.23    9.57   24.66   14.74   51.03             2362\n",
            "      6  fg = [0, 1, 2]  bg = [3, 4, 5, 6, 7, 8, 9]  NA                     10000       3302       33.02    5.37   27.65    5.9    61.08               67\n",
            "      7  fg = [0, 1, 2]  bg = [3, 4, 5, 6, 7, 8, 9]  NA                     10000       3560       35.6     5.24   30.36    7.5    56.9              2140\n",
            "      8  fg = [0, 1, 2]  bg = [3, 4, 5, 6, 7, 8, 9]  NA                     10000       3388       33.88    4.39   29.49    7.58   58.54              920\n",
            " \n",
            "================================================================================================================================================================\n",
            " \n",
            "================================================================================================================================================================\n",
            "  S.No.  fg_class        bg_class                    Epoch used      total_points    correct    accuracy    FTPT    FFPT    FTPF    FFPF    avg_img > 0.5\n",
            "-------  --------------  --------------------------  ------------  --------------  ---------  ----------  ------  ------  ------  ------  ---------------\n",
            "      1  fg = [0, 1, 2]  bg = [3, 4, 5, 6, 7, 8, 9]  NA                     10000       4906       49.06   25.81   23.25   26.3    24.64             4538\n",
            "      2  fg = [0, 1, 2]  bg = [3, 4, 5, 6, 7, 8, 9]  NA                     10000       3461       34.61    7.47   27.14    7.88   57.51              279\n",
            "      3  fg = [0, 1, 2]  bg = [3, 4, 5, 6, 7, 8, 9]  NA                     10000       3450       34.5     9.01   25.49   40.9    24.6               982\n",
            "      4  fg = [0, 1, 2]  bg = [3, 4, 5, 6, 7, 8, 9]  NA                     10000       3306       33.06    5.73   27.33    6.23   60.71               52\n",
            "      5  fg = [0, 1, 2]  bg = [3, 4, 5, 6, 7, 8, 9]  NA                     10000       3401       34.01    9      25.01   13.43   52.56             2447\n",
            "      6  fg = [0, 1, 2]  bg = [3, 4, 5, 6, 7, 8, 9]  NA                     10000       3313       33.13    5.3    27.83    6.83   60.04               70\n",
            "      7  fg = [0, 1, 2]  bg = [3, 4, 5, 6, 7, 8, 9]  NA                     10000       3505       35.05    5.6    29.45    7.69   57.26             2053\n",
            "      8  fg = [0, 1, 2]  bg = [3, 4, 5, 6, 7, 8, 9]  NA                     10000       3406       34.06    4.23   29.83    7.64   58.3               993\n",
            " \n",
            "================================================================================================================================================================\n",
            "[1,    40] loss: 1.110\n",
            "[1,    80] loss: 1.099\n",
            "[1,   120] loss: 1.099\n",
            "[2,    40] loss: 1.098\n",
            "[2,    80] loss: 1.098\n",
            "[2,   120] loss: 1.098\n",
            "[3,    40] loss: 1.098\n",
            "[3,    80] loss: 1.098\n",
            "[3,   120] loss: 1.098\n",
            "[4,    40] loss: 1.098\n",
            "[4,    80] loss: 1.097\n",
            "[4,   120] loss: 1.097\n",
            "[5,    40] loss: 1.096\n",
            "[5,    80] loss: 1.095\n",
            "[5,   120] loss: 1.094\n",
            "[6,    40] loss: 1.092\n",
            "[6,    80] loss: 1.089\n",
            "[6,   120] loss: 1.088\n",
            "[7,    40] loss: 1.083\n",
            "[7,    80] loss: 1.083\n",
            "[7,   120] loss: 1.079\n",
            "[8,    40] loss: 1.076\n",
            "[8,    80] loss: 1.075\n",
            "[8,   120] loss: 1.076\n",
            "[9,    40] loss: 1.074\n",
            "[9,    80] loss: 1.072\n",
            "[9,   120] loss: 1.071\n",
            "[10,    40] loss: 1.071\n",
            "[10,    80] loss: 1.070\n",
            "[10,   120] loss: 1.067\n",
            "[11,    40] loss: 1.065\n",
            "[11,    80] loss: 1.069\n",
            "[11,   120] loss: 1.064\n",
            "[12,    40] loss: 1.062\n",
            "[12,    80] loss: 1.061\n",
            "[12,   120] loss: 1.063\n",
            "[13,    40] loss: 1.062\n",
            "[13,    80] loss: 1.061\n",
            "[13,   120] loss: 1.055\n",
            "[14,    40] loss: 1.054\n",
            "[14,    80] loss: 1.053\n",
            "[14,   120] loss: 1.053\n",
            "[15,    40] loss: 1.051\n",
            "[15,    80] loss: 1.053\n",
            "[15,   120] loss: 1.047\n",
            "[16,    40] loss: 1.047\n",
            "[16,    80] loss: 1.044\n",
            "[16,   120] loss: 1.052\n",
            "[17,    40] loss: 1.045\n",
            "[17,    80] loss: 1.049\n",
            "[17,   120] loss: 1.044\n",
            "[18,    40] loss: 1.040\n",
            "[18,    80] loss: 1.040\n",
            "[18,   120] loss: 1.040\n",
            "[19,    40] loss: 1.038\n",
            "[19,    80] loss: 1.043\n",
            "[19,   120] loss: 1.035\n",
            "[20,    40] loss: 1.038\n",
            "[20,    80] loss: 1.030\n",
            "[20,   120] loss: 1.030\n",
            "[21,    40] loss: 1.022\n",
            "[21,    80] loss: 1.018\n",
            "[21,   120] loss: 1.005\n",
            "[22,    40] loss: 1.004\n",
            "[22,    80] loss: 0.996\n",
            "[22,   120] loss: 0.989\n",
            "[23,    40] loss: 0.987\n",
            "[23,    80] loss: 0.977\n",
            "[23,   120] loss: 0.972\n",
            "[24,    40] loss: 0.964\n",
            "[24,    80] loss: 0.966\n",
            "[24,   120] loss: 0.954\n",
            "[25,    40] loss: 0.950\n",
            "[25,    80] loss: 0.938\n",
            "[25,   120] loss: 0.933\n",
            "[26,    40] loss: 0.919\n",
            "[26,    80] loss: 0.913\n",
            "[26,   120] loss: 0.905\n",
            "[27,    40] loss: 0.878\n",
            "[27,    80] loss: 0.869\n",
            "[27,   120] loss: 0.875\n",
            "[28,    40] loss: 0.851\n",
            "[28,    80] loss: 0.844\n",
            "[28,   120] loss: 0.840\n",
            "[29,    40] loss: 0.836\n",
            "[29,    80] loss: 0.818\n",
            "[29,   120] loss: 0.801\n",
            "[30,    40] loss: 0.799\n",
            "[30,    80] loss: 0.790\n",
            "[30,   120] loss: 0.788\n",
            "[31,    40] loss: 0.762\n",
            "[31,    80] loss: 0.752\n",
            "[31,   120] loss: 0.736\n",
            "[32,    40] loss: 0.727\n",
            "[32,    80] loss: 0.716\n",
            "[32,   120] loss: 0.713\n",
            "[33,    40] loss: 0.665\n",
            "[33,    80] loss: 0.680\n",
            "[33,   120] loss: 0.646\n",
            "[34,    40] loss: 0.668\n",
            "[34,    80] loss: 0.517\n",
            "[34,   120] loss: 0.526\n",
            "[35,    40] loss: 0.745\n",
            "[35,    80] loss: 0.795\n",
            "[35,   120] loss: 0.494\n",
            "[36,    40] loss: 0.321\n",
            "[36,    80] loss: 0.707\n",
            "[36,   120] loss: 1.067\n",
            "[37,    40] loss: 1.045\n",
            "[37,    80] loss: 1.025\n",
            "[37,   120] loss: 1.010\n",
            "[38,    40] loss: 0.992\n",
            "[38,    80] loss: 0.971\n",
            "[38,   120] loss: 0.911\n",
            "[39,    40] loss: 0.810\n",
            "[39,    80] loss: 0.381\n",
            "[39,   120] loss: 0.205\n",
            "[40,    40] loss: 0.241\n",
            "[40,    80] loss: 0.389\n",
            "[40,   120] loss: 1.072\n",
            "[41,    40] loss: 1.029\n",
            "[41,    80] loss: 1.001\n",
            "[41,   120] loss: 0.973\n",
            "[42,    40] loss: 0.955\n",
            "[42,    80] loss: 0.896\n",
            "[42,   120] loss: 0.700\n",
            "[43,    40] loss: 0.227\n",
            "[43,    80] loss: 0.196\n",
            "[43,   120] loss: 0.308\n",
            "[44,    40] loss: 0.218\n",
            "[44,    80] loss: 0.139\n",
            "[44,   120] loss: 0.193\n",
            "[45,    40] loss: 0.097\n",
            "[45,    80] loss: 0.128\n",
            "[45,   120] loss: 0.126\n",
            "[46,    40] loss: 0.124\n",
            "[46,    80] loss: 0.071\n",
            "[46,   120] loss: 0.088\n",
            "[47,    40] loss: 0.148\n",
            "[47,    80] loss: 0.083\n",
            "[47,   120] loss: 0.058\n",
            "[48,    40] loss: 0.159\n",
            "[48,    80] loss: 0.053\n",
            "[48,   120] loss: 0.044\n",
            "[49,    40] loss: 0.034\n",
            "[49,    80] loss: 0.091\n",
            "[49,   120] loss: 0.064\n",
            "[50,    40] loss: 0.024\n",
            "[50,    80] loss: 0.057\n",
            "[50,   120] loss: 0.131\n",
            "[51,    40] loss: 0.031\n",
            "[51,    80] loss: 0.034\n",
            "[51,   120] loss: 0.029\n",
            "Finished Training\n",
            " \n",
            "================================================================================================================================================================\n",
            "  S.No.  fg_class        bg_class                      Epoch used    total_points    correct    accuracy     FTPT     FFPT      FTPF         FFPF    avg_img > 0.5\n",
            "-------  --------------  --------------------------  ------------  --------------  ---------  ----------  -------  -------  --------  -----------  ---------------\n",
            "      1  fg = [0, 1, 2]  bg = [3, 4, 5, 6, 7, 8, 9]            63           30000      29532     98.44    79.4133  19.0267  0.423333   1.13667               18550\n",
            "      2  fg = [0, 1, 2]  bg = [3, 4, 5, 6, 7, 8, 9]            49           30000      29068     96.8933  77.0433  19.85    2.74333    0.363333              19948\n",
            "      3  fg = [0, 1, 2]  bg = [3, 4, 5, 6, 7, 8, 9]            42           30000      28639     95.4633  59.0133  36.45    1.71667    2.82                   3521\n",
            "      4  fg = [0, 1, 2]  bg = [3, 4, 5, 6, 7, 8, 9]            52           30000      29814     99.38    82.4833  16.8967  0.613333   0.00666667            20242\n",
            "      5  fg = [0, 1, 2]  bg = [3, 4, 5, 6, 7, 8, 9]            49           30000      29778     99.26    98.33     0.93    0.716667   0.0233333             29431\n",
            "      6  fg = [0, 1, 2]  bg = [3, 4, 5, 6, 7, 8, 9]            47           30000      29795     99.3167  78.0967  21.22    0.636667   0.0466667             20150\n",
            "      7  fg = [0, 1, 2]  bg = [3, 4, 5, 6, 7, 8, 9]            44           30000      25182     83.94    56.9167  27.0233  5.35667   10.7033                19187\n",
            "      8  fg = [0, 1, 2]  bg = [3, 4, 5, 6, 7, 8, 9]            44           30000      27913     93.0433  67.98    25.0633  4.35       2.60667               19828\n",
            "      9  fg = [0, 1, 2]  bg = [3, 4, 5, 6, 7, 8, 9]            50           30000      29782     99.2733  78.43    20.8433  0.706667   0.02                  20196\n",
            " \n",
            "================================================================================================================================================================\n",
            " \n",
            "================================================================================================================================================================\n",
            "  S.No.  fg_class        bg_class                    Epoch used      total_points    correct    accuracy    FTPT    FFPT    FTPF    FFPF    avg_img > 0.5\n",
            "-------  --------------  --------------------------  ------------  --------------  ---------  ----------  ------  ------  ------  ------  ---------------\n",
            "      1  fg = [0, 1, 2]  bg = [3, 4, 5, 6, 7, 8, 9]  NA                     10000       9586       95.86   74.87   20.99    0.96    3.18             5806\n",
            "      2  fg = [0, 1, 2]  bg = [3, 4, 5, 6, 7, 8, 9]  NA                     10000       9615       96.15   76.27   19.88    3.45    0.4              6630\n",
            "      3  fg = [0, 1, 2]  bg = [3, 4, 5, 6, 7, 8, 9]  NA                     10000       9378       93.78   55.78   38       1.92    4.3              1169\n",
            "      4  fg = [0, 1, 2]  bg = [3, 4, 5, 6, 7, 8, 9]  NA                     10000       9863       98.63   81.08   17.55    1.34    0.03             6707\n",
            "      5  fg = [0, 1, 2]  bg = [3, 4, 5, 6, 7, 8, 9]  NA                     10000       9920       99.2    98.29    0.91    0.8     0                9805\n",
            "      6  fg = [0, 1, 2]  bg = [3, 4, 5, 6, 7, 8, 9]  NA                     10000       9836       98.36   77.25   21.11    1.57    0.07             6660\n",
            "      7  fg = [0, 1, 2]  bg = [3, 4, 5, 6, 7, 8, 9]  NA                     10000       8340       83.4    56.11   27.29    5.82   10.78             6371\n",
            "      8  fg = [0, 1, 2]  bg = [3, 4, 5, 6, 7, 8, 9]  NA                     10000       9223       92.23   66.56   25.67    5.04    2.73             6508\n",
            "      9  fg = [0, 1, 2]  bg = [3, 4, 5, 6, 7, 8, 9]  NA                     10000       9872       98.72   77.66   21.06    1.21    0.07             6697\n",
            " \n",
            "================================================================================================================================================================\n",
            " \n",
            "================================================================================================================================================================\n",
            "  S.No.  fg_class        bg_class                    Epoch used      total_points    correct    accuracy    FTPT    FFPT    FTPF    FFPF    avg_img > 0.5\n",
            "-------  --------------  --------------------------  ------------  --------------  ---------  ----------  ------  ------  ------  ------  ---------------\n",
            "      1  fg = [0, 1, 2]  bg = [3, 4, 5, 6, 7, 8, 9]  NA                     10000       8681       86.81   58.74   28.07    1.93   11.26             5453\n",
            "      2  fg = [0, 1, 2]  bg = [3, 4, 5, 6, 7, 8, 9]  NA                     10000       9305       93.05   73.3    19.75    6.68    0.27             6675\n",
            "      3  fg = [0, 1, 2]  bg = [3, 4, 5, 6, 7, 8, 9]  NA                     10000       8949       89.49   47.74   41.75    2.07    8.44             1019\n",
            "      4  fg = [0, 1, 2]  bg = [3, 4, 5, 6, 7, 8, 9]  NA                     10000       9592       95.92   78.53   17.39    4.05    0.03             6774\n",
            "      5  fg = [0, 1, 2]  bg = [3, 4, 5, 6, 7, 8, 9]  NA                     10000       9924       99.24   98.27    0.97    0.75    0.01             9812\n",
            "      6  fg = [0, 1, 2]  bg = [3, 4, 5, 6, 7, 8, 9]  NA                     10000       9443       94.43   72.29   22.14    5.47    0.1              6714\n",
            "      7  fg = [0, 1, 2]  bg = [3, 4, 5, 6, 7, 8, 9]  NA                     10000       8183       81.83   55.34   26.49    8.21    9.96             6433\n",
            "      8  fg = [0, 1, 2]  bg = [3, 4, 5, 6, 7, 8, 9]  NA                     10000       9090       90.9    65.81   25.09    6.05    3.05             6664\n",
            "      9  fg = [0, 1, 2]  bg = [3, 4, 5, 6, 7, 8, 9]  NA                     10000       9478       94.78   73.75   21.03    5.15    0.07             6755\n",
            " \n",
            "================================================================================================================================================================\n",
            " \n",
            "================================================================================================================================================================\n",
            "  S.No.  fg_class        bg_class                    Epoch used      total_points    correct    accuracy    FTPT    FFPT    FTPF    FFPF    avg_img > 0.5\n",
            "-------  --------------  --------------------------  ------------  --------------  ---------  ----------  ------  ------  ------  ------  ---------------\n",
            "      1  fg = [0, 1, 2]  bg = [3, 4, 5, 6, 7, 8, 9]  NA                     10000       5700       57      37.63   19.37   31.62   11.38             4947\n",
            "      2  fg = [0, 1, 2]  bg = [3, 4, 5, 6, 7, 8, 9]  NA                     10000       3515       35.15    8.07   27.08    7.92   56.93              331\n",
            "      3  fg = [0, 1, 2]  bg = [3, 4, 5, 6, 7, 8, 9]  NA                     10000       3511       35.11   11.77   23.34   46.6    18.29             1156\n",
            "      4  fg = [0, 1, 2]  bg = [3, 4, 5, 6, 7, 8, 9]  NA                     10000       3293       32.93    5.69   27.24    6.57   60.5                40\n",
            "      5  fg = [0, 1, 2]  bg = [3, 4, 5, 6, 7, 8, 9]  NA                     10000       3423       34.23    9.57   24.66   14.74   51.03             2362\n",
            "      6  fg = [0, 1, 2]  bg = [3, 4, 5, 6, 7, 8, 9]  NA                     10000       3302       33.02    5.37   27.65    5.9    61.08               67\n",
            "      7  fg = [0, 1, 2]  bg = [3, 4, 5, 6, 7, 8, 9]  NA                     10000       3560       35.6     5.24   30.36    7.5    56.9              2140\n",
            "      8  fg = [0, 1, 2]  bg = [3, 4, 5, 6, 7, 8, 9]  NA                     10000       3388       33.88    4.39   29.49    7.58   58.54              920\n",
            "      9  fg = [0, 1, 2]  bg = [3, 4, 5, 6, 7, 8, 9]  NA                     10000       3306       33.06    4.71   28.35    5.37   61.57               48\n",
            " \n",
            "================================================================================================================================================================\n",
            " \n",
            "================================================================================================================================================================\n",
            "  S.No.  fg_class        bg_class                    Epoch used      total_points    correct    accuracy    FTPT    FFPT    FTPF    FFPF    avg_img > 0.5\n",
            "-------  --------------  --------------------------  ------------  --------------  ---------  ----------  ------  ------  ------  ------  ---------------\n",
            "      1  fg = [0, 1, 2]  bg = [3, 4, 5, 6, 7, 8, 9]  NA                     10000       4906       49.06   25.81   23.25   26.3    24.64             4538\n",
            "      2  fg = [0, 1, 2]  bg = [3, 4, 5, 6, 7, 8, 9]  NA                     10000       3461       34.61    7.47   27.14    7.88   57.51              279\n",
            "      3  fg = [0, 1, 2]  bg = [3, 4, 5, 6, 7, 8, 9]  NA                     10000       3450       34.5     9.01   25.49   40.9    24.6               982\n",
            "      4  fg = [0, 1, 2]  bg = [3, 4, 5, 6, 7, 8, 9]  NA                     10000       3306       33.06    5.73   27.33    6.23   60.71               52\n",
            "      5  fg = [0, 1, 2]  bg = [3, 4, 5, 6, 7, 8, 9]  NA                     10000       3401       34.01    9      25.01   13.43   52.56             2447\n",
            "      6  fg = [0, 1, 2]  bg = [3, 4, 5, 6, 7, 8, 9]  NA                     10000       3313       33.13    5.3    27.83    6.83   60.04               70\n",
            "      7  fg = [0, 1, 2]  bg = [3, 4, 5, 6, 7, 8, 9]  NA                     10000       3505       35.05    5.6    29.45    7.69   57.26             2053\n",
            "      8  fg = [0, 1, 2]  bg = [3, 4, 5, 6, 7, 8, 9]  NA                     10000       3406       34.06    4.23   29.83    7.64   58.3               993\n",
            "      9  fg = [0, 1, 2]  bg = [3, 4, 5, 6, 7, 8, 9]  NA                     10000       3319       33.19    5.02   28.17    5.58   61.23               60\n",
            " \n",
            "================================================================================================================================================================\n",
            "[1,    40] loss: 1.109\n",
            "[1,    80] loss: 1.099\n",
            "[1,   120] loss: 1.099\n",
            "[2,    40] loss: 1.099\n",
            "[2,    80] loss: 1.099\n",
            "[2,   120] loss: 1.099\n",
            "[3,    40] loss: 1.099\n",
            "[3,    80] loss: 1.099\n",
            "[3,   120] loss: 1.099\n",
            "[4,    40] loss: 1.099\n",
            "[4,    80] loss: 1.099\n",
            "[4,   120] loss: 1.098\n",
            "[5,    40] loss: 1.098\n",
            "[5,    80] loss: 1.099\n",
            "[5,   120] loss: 1.098\n",
            "[6,    40] loss: 1.098\n",
            "[6,    80] loss: 1.098\n",
            "[6,   120] loss: 1.098\n",
            "[7,    40] loss: 1.098\n",
            "[7,    80] loss: 1.098\n",
            "[7,   120] loss: 1.098\n",
            "[8,    40] loss: 1.097\n",
            "[8,    80] loss: 1.097\n",
            "[8,   120] loss: 1.096\n",
            "[9,    40] loss: 1.095\n",
            "[9,    80] loss: 1.093\n",
            "[9,   120] loss: 1.092\n",
            "[10,    40] loss: 1.090\n",
            "[10,    80] loss: 1.088\n",
            "[10,   120] loss: 1.085\n",
            "[11,    40] loss: 1.081\n",
            "[11,    80] loss: 1.083\n",
            "[11,   120] loss: 1.075\n",
            "[12,    40] loss: 1.076\n",
            "[12,    80] loss: 1.073\n",
            "[12,   120] loss: 1.076\n",
            "[13,    40] loss: 1.071\n",
            "[13,    80] loss: 1.071\n",
            "[13,   120] loss: 1.069\n",
            "[14,    40] loss: 1.069\n",
            "[14,    80] loss: 1.067\n",
            "[14,   120] loss: 1.068\n",
            "[15,    40] loss: 1.065\n",
            "[15,    80] loss: 1.065\n",
            "[15,   120] loss: 1.065\n",
            "[16,    40] loss: 1.059\n",
            "[16,    80] loss: 1.058\n",
            "[16,   120] loss: 1.055\n",
            "[17,    40] loss: 1.051\n",
            "[17,    80] loss: 1.046\n",
            "[17,   120] loss: 1.043\n",
            "[18,    40] loss: 1.039\n",
            "[18,    80] loss: 1.036\n",
            "[18,   120] loss: 1.028\n",
            "[19,    40] loss: 1.027\n",
            "[19,    80] loss: 1.025\n",
            "[19,   120] loss: 1.022\n",
            "[20,    40] loss: 1.018\n",
            "[20,    80] loss: 1.008\n",
            "[20,   120] loss: 1.007\n",
            "[21,    40] loss: 0.998\n",
            "[21,    80] loss: 0.989\n",
            "[21,   120] loss: 0.984\n",
            "[22,    40] loss: 0.969\n",
            "[22,    80] loss: 0.967\n",
            "[22,   120] loss: 0.964\n",
            "[23,    40] loss: 0.952\n",
            "[23,    80] loss: 0.947\n",
            "[23,   120] loss: 0.935\n",
            "[24,    40] loss: 0.914\n",
            "[24,    80] loss: 0.903\n",
            "[24,   120] loss: 0.893\n",
            "[25,    40] loss: 0.866\n",
            "[25,    80] loss: 0.866\n",
            "[25,   120] loss: 0.851\n",
            "[26,    40] loss: 0.837\n",
            "[26,    80] loss: 0.823\n",
            "[26,   120] loss: 0.839\n",
            "[27,    40] loss: 0.812\n",
            "[27,    80] loss: 0.798\n",
            "[27,   120] loss: 0.805\n",
            "[28,    40] loss: 0.778\n",
            "[28,    80] loss: 0.786\n",
            "[28,   120] loss: 0.776\n",
            "[29,    40] loss: 0.756\n",
            "[29,    80] loss: 0.791\n",
            "[29,   120] loss: 0.749\n",
            "[30,    40] loss: 0.737\n",
            "[30,    80] loss: 0.725\n",
            "[30,   120] loss: 0.727\n",
            "[31,    40] loss: 0.691\n",
            "[31,    80] loss: 0.706\n",
            "[31,   120] loss: 0.693\n",
            "[32,    40] loss: 0.660\n",
            "[32,    80] loss: 0.675\n",
            "[32,   120] loss: 0.687\n",
            "[33,    40] loss: 0.656\n",
            "[33,    80] loss: 0.638\n",
            "[33,   120] loss: 0.616\n",
            "[34,    40] loss: 0.609\n",
            "[34,    80] loss: 0.633\n",
            "[34,   120] loss: 0.608\n",
            "[35,    40] loss: 0.567\n",
            "[35,    80] loss: 0.586\n",
            "[35,   120] loss: 0.557\n",
            "[36,    40] loss: 0.568\n",
            "[36,    80] loss: 0.526\n",
            "[36,   120] loss: 0.535\n",
            "[37,    40] loss: 0.463\n",
            "[37,    80] loss: 0.613\n",
            "[37,   120] loss: 0.582\n",
            "[38,    40] loss: 0.468\n",
            "[38,    80] loss: 0.716\n",
            "[38,   120] loss: 0.337\n",
            "[39,    40] loss: 0.294\n",
            "[39,    80] loss: 0.264\n",
            "[39,   120] loss: 0.296\n",
            "[40,    40] loss: 0.223\n",
            "[40,    80] loss: 0.283\n",
            "[40,   120] loss: 0.194\n",
            "[41,    40] loss: 0.147\n",
            "[41,    80] loss: 0.224\n",
            "[41,   120] loss: 0.115\n",
            "[42,    40] loss: 0.081\n",
            "[42,    80] loss: 0.064\n",
            "[42,   120] loss: 0.137\n",
            "[43,    40] loss: 0.056\n",
            "[43,    80] loss: 0.092\n",
            "[43,   120] loss: 0.149\n",
            "[44,    40] loss: 0.068\n",
            "[44,    80] loss: 0.070\n",
            "[44,   120] loss: 0.233\n",
            "[45,    40] loss: 0.167\n",
            "[45,    80] loss: 0.096\n",
            "[45,   120] loss: 0.052\n",
            "[46,    40] loss: 0.034\n",
            "[46,    80] loss: 0.026\n",
            "[46,   120] loss: 0.029\n",
            "Finished Training\n",
            " \n",
            "================================================================================================================================================================\n",
            "  S.No.  fg_class        bg_class                      Epoch used    total_points    correct    accuracy     FTPT     FFPT      FTPF         FFPF    avg_img > 0.5\n",
            "-------  --------------  --------------------------  ------------  --------------  ---------  ----------  -------  -------  --------  -----------  ---------------\n",
            "      1  fg = [0, 1, 2]  bg = [3, 4, 5, 6, 7, 8, 9]            63           30000      29532     98.44    79.4133  19.0267  0.423333   1.13667               18550\n",
            "      2  fg = [0, 1, 2]  bg = [3, 4, 5, 6, 7, 8, 9]            49           30000      29068     96.8933  77.0433  19.85    2.74333    0.363333              19948\n",
            "      3  fg = [0, 1, 2]  bg = [3, 4, 5, 6, 7, 8, 9]            42           30000      28639     95.4633  59.0133  36.45    1.71667    2.82                   3521\n",
            "      4  fg = [0, 1, 2]  bg = [3, 4, 5, 6, 7, 8, 9]            52           30000      29814     99.38    82.4833  16.8967  0.613333   0.00666667            20242\n",
            "      5  fg = [0, 1, 2]  bg = [3, 4, 5, 6, 7, 8, 9]            49           30000      29778     99.26    98.33     0.93    0.716667   0.0233333             29431\n",
            "      6  fg = [0, 1, 2]  bg = [3, 4, 5, 6, 7, 8, 9]            47           30000      29795     99.3167  78.0967  21.22    0.636667   0.0466667             20150\n",
            "      7  fg = [0, 1, 2]  bg = [3, 4, 5, 6, 7, 8, 9]            44           30000      25182     83.94    56.9167  27.0233  5.35667   10.7033                19187\n",
            "      8  fg = [0, 1, 2]  bg = [3, 4, 5, 6, 7, 8, 9]            44           30000      27913     93.0433  67.98    25.0633  4.35       2.60667               19828\n",
            "      9  fg = [0, 1, 2]  bg = [3, 4, 5, 6, 7, 8, 9]            50           30000      29782     99.2733  78.43    20.8433  0.706667   0.02                  20196\n",
            "     10  fg = [0, 1, 2]  bg = [3, 4, 5, 6, 7, 8, 9]            45           30000      29873     99.5767  83.18    16.3967  0.4        0.0233333             20166\n",
            " \n",
            "================================================================================================================================================================\n",
            " \n",
            "================================================================================================================================================================\n",
            "  S.No.  fg_class        bg_class                    Epoch used      total_points    correct    accuracy    FTPT    FFPT    FTPF    FFPF    avg_img > 0.5\n",
            "-------  --------------  --------------------------  ------------  --------------  ---------  ----------  ------  ------  ------  ------  ---------------\n",
            "      1  fg = [0, 1, 2]  bg = [3, 4, 5, 6, 7, 8, 9]  NA                     10000       9586       95.86   74.87   20.99    0.96    3.18             5806\n",
            "      2  fg = [0, 1, 2]  bg = [3, 4, 5, 6, 7, 8, 9]  NA                     10000       9615       96.15   76.27   19.88    3.45    0.4              6630\n",
            "      3  fg = [0, 1, 2]  bg = [3, 4, 5, 6, 7, 8, 9]  NA                     10000       9378       93.78   55.78   38       1.92    4.3              1169\n",
            "      4  fg = [0, 1, 2]  bg = [3, 4, 5, 6, 7, 8, 9]  NA                     10000       9863       98.63   81.08   17.55    1.34    0.03             6707\n",
            "      5  fg = [0, 1, 2]  bg = [3, 4, 5, 6, 7, 8, 9]  NA                     10000       9920       99.2    98.29    0.91    0.8     0                9805\n",
            "      6  fg = [0, 1, 2]  bg = [3, 4, 5, 6, 7, 8, 9]  NA                     10000       9836       98.36   77.25   21.11    1.57    0.07             6660\n",
            "      7  fg = [0, 1, 2]  bg = [3, 4, 5, 6, 7, 8, 9]  NA                     10000       8340       83.4    56.11   27.29    5.82   10.78             6371\n",
            "      8  fg = [0, 1, 2]  bg = [3, 4, 5, 6, 7, 8, 9]  NA                     10000       9223       92.23   66.56   25.67    5.04    2.73             6508\n",
            "      9  fg = [0, 1, 2]  bg = [3, 4, 5, 6, 7, 8, 9]  NA                     10000       9872       98.72   77.66   21.06    1.21    0.07             6697\n",
            "     10  fg = [0, 1, 2]  bg = [3, 4, 5, 6, 7, 8, 9]  NA                     10000       9910       99.1    82.51   16.59    0.88    0.02             6673\n",
            " \n",
            "================================================================================================================================================================\n",
            " \n",
            "================================================================================================================================================================\n",
            "  S.No.  fg_class        bg_class                    Epoch used      total_points    correct    accuracy    FTPT    FFPT    FTPF    FFPF    avg_img > 0.5\n",
            "-------  --------------  --------------------------  ------------  --------------  ---------  ----------  ------  ------  ------  ------  ---------------\n",
            "      1  fg = [0, 1, 2]  bg = [3, 4, 5, 6, 7, 8, 9]  NA                     10000       8681       86.81   58.74   28.07    1.93   11.26             5453\n",
            "      2  fg = [0, 1, 2]  bg = [3, 4, 5, 6, 7, 8, 9]  NA                     10000       9305       93.05   73.3    19.75    6.68    0.27             6675\n",
            "      3  fg = [0, 1, 2]  bg = [3, 4, 5, 6, 7, 8, 9]  NA                     10000       8949       89.49   47.74   41.75    2.07    8.44             1019\n",
            "      4  fg = [0, 1, 2]  bg = [3, 4, 5, 6, 7, 8, 9]  NA                     10000       9592       95.92   78.53   17.39    4.05    0.03             6774\n",
            "      5  fg = [0, 1, 2]  bg = [3, 4, 5, 6, 7, 8, 9]  NA                     10000       9924       99.24   98.27    0.97    0.75    0.01             9812\n",
            "      6  fg = [0, 1, 2]  bg = [3, 4, 5, 6, 7, 8, 9]  NA                     10000       9443       94.43   72.29   22.14    5.47    0.1              6714\n",
            "      7  fg = [0, 1, 2]  bg = [3, 4, 5, 6, 7, 8, 9]  NA                     10000       8183       81.83   55.34   26.49    8.21    9.96             6433\n",
            "      8  fg = [0, 1, 2]  bg = [3, 4, 5, 6, 7, 8, 9]  NA                     10000       9090       90.9    65.81   25.09    6.05    3.05             6664\n",
            "      9  fg = [0, 1, 2]  bg = [3, 4, 5, 6, 7, 8, 9]  NA                     10000       9478       94.78   73.75   21.03    5.15    0.07             6755\n",
            "     10  fg = [0, 1, 2]  bg = [3, 4, 5, 6, 7, 8, 9]  NA                     10000       9537       95.37   77.6    17.77    4.54    0.09             6733\n",
            " \n",
            "================================================================================================================================================================\n",
            " \n",
            "================================================================================================================================================================\n",
            "  S.No.  fg_class        bg_class                    Epoch used      total_points    correct    accuracy    FTPT    FFPT    FTPF    FFPF    avg_img > 0.5\n",
            "-------  --------------  --------------------------  ------------  --------------  ---------  ----------  ------  ------  ------  ------  ---------------\n",
            "      1  fg = [0, 1, 2]  bg = [3, 4, 5, 6, 7, 8, 9]  NA                     10000       5700       57      37.63   19.37   31.62   11.38             4947\n",
            "      2  fg = [0, 1, 2]  bg = [3, 4, 5, 6, 7, 8, 9]  NA                     10000       3515       35.15    8.07   27.08    7.92   56.93              331\n",
            "      3  fg = [0, 1, 2]  bg = [3, 4, 5, 6, 7, 8, 9]  NA                     10000       3511       35.11   11.77   23.34   46.6    18.29             1156\n",
            "      4  fg = [0, 1, 2]  bg = [3, 4, 5, 6, 7, 8, 9]  NA                     10000       3293       32.93    5.69   27.24    6.57   60.5                40\n",
            "      5  fg = [0, 1, 2]  bg = [3, 4, 5, 6, 7, 8, 9]  NA                     10000       3423       34.23    9.57   24.66   14.74   51.03             2362\n",
            "      6  fg = [0, 1, 2]  bg = [3, 4, 5, 6, 7, 8, 9]  NA                     10000       3302       33.02    5.37   27.65    5.9    61.08               67\n",
            "      7  fg = [0, 1, 2]  bg = [3, 4, 5, 6, 7, 8, 9]  NA                     10000       3560       35.6     5.24   30.36    7.5    56.9              2140\n",
            "      8  fg = [0, 1, 2]  bg = [3, 4, 5, 6, 7, 8, 9]  NA                     10000       3388       33.88    4.39   29.49    7.58   58.54              920\n",
            "      9  fg = [0, 1, 2]  bg = [3, 4, 5, 6, 7, 8, 9]  NA                     10000       3306       33.06    4.71   28.35    5.37   61.57               48\n",
            "     10  fg = [0, 1, 2]  bg = [3, 4, 5, 6, 7, 8, 9]  NA                     10000       3313       33.13    5.04   28.09    6.17   60.7                49\n",
            " \n",
            "================================================================================================================================================================\n",
            " \n",
            "================================================================================================================================================================\n",
            "  S.No.  fg_class        bg_class                    Epoch used      total_points    correct    accuracy    FTPT    FFPT    FTPF    FFPF    avg_img > 0.5\n",
            "-------  --------------  --------------------------  ------------  --------------  ---------  ----------  ------  ------  ------  ------  ---------------\n",
            "      1  fg = [0, 1, 2]  bg = [3, 4, 5, 6, 7, 8, 9]  NA                     10000       4906       49.06   25.81   23.25   26.3    24.64             4538\n",
            "      2  fg = [0, 1, 2]  bg = [3, 4, 5, 6, 7, 8, 9]  NA                     10000       3461       34.61    7.47   27.14    7.88   57.51              279\n",
            "      3  fg = [0, 1, 2]  bg = [3, 4, 5, 6, 7, 8, 9]  NA                     10000       3450       34.5     9.01   25.49   40.9    24.6               982\n",
            "      4  fg = [0, 1, 2]  bg = [3, 4, 5, 6, 7, 8, 9]  NA                     10000       3306       33.06    5.73   27.33    6.23   60.71               52\n",
            "      5  fg = [0, 1, 2]  bg = [3, 4, 5, 6, 7, 8, 9]  NA                     10000       3401       34.01    9      25.01   13.43   52.56             2447\n",
            "      6  fg = [0, 1, 2]  bg = [3, 4, 5, 6, 7, 8, 9]  NA                     10000       3313       33.13    5.3    27.83    6.83   60.04               70\n",
            "      7  fg = [0, 1, 2]  bg = [3, 4, 5, 6, 7, 8, 9]  NA                     10000       3505       35.05    5.6    29.45    7.69   57.26             2053\n",
            "      8  fg = [0, 1, 2]  bg = [3, 4, 5, 6, 7, 8, 9]  NA                     10000       3406       34.06    4.23   29.83    7.64   58.3               993\n",
            "      9  fg = [0, 1, 2]  bg = [3, 4, 5, 6, 7, 8, 9]  NA                     10000       3319       33.19    5.02   28.17    5.58   61.23               60\n",
            "     10  fg = [0, 1, 2]  bg = [3, 4, 5, 6, 7, 8, 9]  NA                     10000       3308       33.08    5.11   27.97    5.43   61.49               64\n",
            " \n",
            "================================================================================================================================================================\n"
          ],
          "name": "stdout"
        }
      ]
    },
    {
      "cell_type": "code",
      "metadata": {
        "id": "kloPmAalgpIz",
        "outputId": "1c5fd6c6-6083-41b2-a0b2-1ddf2c006def",
        "colab": {
          "base_uri": "https://localhost:8080/",
          "height": 335
        }
      },
      "source": [
        "train_table = add_average_entry(train_table)"
      ],
      "execution_count": 79,
      "outputs": [
        {
          "output_type": "stream",
          "text": [
            " \n",
            "================================================================================================================================================================\n",
            "S.No.    fg_class        bg_class                    Epoch used    total_points    correct      accuracy     FTPT     FFPT      FTPF         FFPF    avg_img > 0.5\n",
            "-------  --------------  --------------------------  ------------  --------------  ---------  ----------  -------  -------  --------  -----------  ---------------\n",
            "1        fg = [0, 1, 2]  bg = [3, 4, 5, 6, 7, 8, 9]  63            30000           29532         98.44    79.4133  19.0267  0.423333   1.13667             18550\n",
            "2        fg = [0, 1, 2]  bg = [3, 4, 5, 6, 7, 8, 9]  49            30000           29068         96.8933  77.0433  19.85    2.74333    0.363333            19948\n",
            "3        fg = [0, 1, 2]  bg = [3, 4, 5, 6, 7, 8, 9]  42            30000           28639         95.4633  59.0133  36.45    1.71667    2.82                 3521\n",
            "4        fg = [0, 1, 2]  bg = [3, 4, 5, 6, 7, 8, 9]  52            30000           29814         99.38    82.4833  16.8967  0.613333   0.00666667          20242\n",
            "5        fg = [0, 1, 2]  bg = [3, 4, 5, 6, 7, 8, 9]  49            30000           29778         99.26    98.33     0.93    0.716667   0.0233333           29431\n",
            "6        fg = [0, 1, 2]  bg = [3, 4, 5, 6, 7, 8, 9]  47            30000           29795         99.3167  78.0967  21.22    0.636667   0.0466667           20150\n",
            "7        fg = [0, 1, 2]  bg = [3, 4, 5, 6, 7, 8, 9]  44            30000           25182         83.94    56.9167  27.0233  5.35667   10.7033              19187\n",
            "8        fg = [0, 1, 2]  bg = [3, 4, 5, 6, 7, 8, 9]  44            30000           27913         93.0433  67.98    25.0633  4.35       2.60667             19828\n",
            "9        fg = [0, 1, 2]  bg = [3, 4, 5, 6, 7, 8, 9]  50            30000           29782         99.2733  78.43    20.8433  0.706667   0.02                20196\n",
            "10       fg = [0, 1, 2]  bg = [3, 4, 5, 6, 7, 8, 9]  45            30000           29873         99.5767  83.18    16.3967  0.4        0.0233333           20166\n",
            "Avg                                                                                              96.4587  76.0887  20.37    1.76633    1.775               19121.9\n",
            " \n",
            "================================================================================================================================================================\n"
          ],
          "name": "stdout"
        }
      ]
    },
    {
      "cell_type": "code",
      "metadata": {
        "id": "00KPkU7EhPJj",
        "outputId": "1ed0ddf4-2b99-427f-a2e7-300b8ec16f42",
        "colab": {
          "base_uri": "https://localhost:8080/",
          "height": 335
        }
      },
      "source": [
        "test_table1 = add_average_entry(test_table1)"
      ],
      "execution_count": 80,
      "outputs": [
        {
          "output_type": "stream",
          "text": [
            " \n",
            "================================================================================================================================================================\n",
            "S.No.    fg_class        bg_class                    Epoch used    total_points    correct      accuracy    FTPT    FFPT    FTPF    FFPF    avg_img > 0.5\n",
            "-------  --------------  --------------------------  ------------  --------------  ---------  ----------  ------  ------  ------  ------  ---------------\n",
            "1        fg = [0, 1, 2]  bg = [3, 4, 5, 6, 7, 8, 9]  NA            10000           9586           95.86   74.87   20.99    0.96    3.18            5806\n",
            "2        fg = [0, 1, 2]  bg = [3, 4, 5, 6, 7, 8, 9]  NA            10000           9615           96.15   76.27   19.88    3.45    0.4             6630\n",
            "3        fg = [0, 1, 2]  bg = [3, 4, 5, 6, 7, 8, 9]  NA            10000           9378           93.78   55.78   38       1.92    4.3             1169\n",
            "4        fg = [0, 1, 2]  bg = [3, 4, 5, 6, 7, 8, 9]  NA            10000           9863           98.63   81.08   17.55    1.34    0.03            6707\n",
            "5        fg = [0, 1, 2]  bg = [3, 4, 5, 6, 7, 8, 9]  NA            10000           9920           99.2    98.29    0.91    0.8     0               9805\n",
            "6        fg = [0, 1, 2]  bg = [3, 4, 5, 6, 7, 8, 9]  NA            10000           9836           98.36   77.25   21.11    1.57    0.07            6660\n",
            "7        fg = [0, 1, 2]  bg = [3, 4, 5, 6, 7, 8, 9]  NA            10000           8340           83.4    56.11   27.29    5.82   10.78            6371\n",
            "8        fg = [0, 1, 2]  bg = [3, 4, 5, 6, 7, 8, 9]  NA            10000           9223           92.23   66.56   25.67    5.04    2.73            6508\n",
            "9        fg = [0, 1, 2]  bg = [3, 4, 5, 6, 7, 8, 9]  NA            10000           9872           98.72   77.66   21.06    1.21    0.07            6697\n",
            "10       fg = [0, 1, 2]  bg = [3, 4, 5, 6, 7, 8, 9]  NA            10000           9910           99.1    82.51   16.59    0.88    0.02            6673\n",
            "Avg                                                                                               95.543  74.638  20.905   2.299   2.158           6302.6\n",
            " \n",
            "================================================================================================================================================================\n"
          ],
          "name": "stdout"
        }
      ]
    },
    {
      "cell_type": "code",
      "metadata": {
        "id": "pW_kUqi3hR6u",
        "outputId": "b6d01c17-6f4f-4d65-d2d1-1e9f3356d14a",
        "colab": {
          "base_uri": "https://localhost:8080/",
          "height": 335
        }
      },
      "source": [
        "test_table2 = add_average_entry(test_table2)"
      ],
      "execution_count": 81,
      "outputs": [
        {
          "output_type": "stream",
          "text": [
            " \n",
            "================================================================================================================================================================\n",
            "S.No.    fg_class        bg_class                    Epoch used    total_points    correct      accuracy    FTPT    FFPT    FTPF    FFPF    avg_img > 0.5\n",
            "-------  --------------  --------------------------  ------------  --------------  ---------  ----------  ------  ------  ------  ------  ---------------\n",
            "1        fg = [0, 1, 2]  bg = [3, 4, 5, 6, 7, 8, 9]  NA            10000           8681           86.81   58.74   28.07     1.93  11.26            5453\n",
            "2        fg = [0, 1, 2]  bg = [3, 4, 5, 6, 7, 8, 9]  NA            10000           9305           93.05   73.3    19.75     6.68   0.27            6675\n",
            "3        fg = [0, 1, 2]  bg = [3, 4, 5, 6, 7, 8, 9]  NA            10000           8949           89.49   47.74   41.75     2.07   8.44            1019\n",
            "4        fg = [0, 1, 2]  bg = [3, 4, 5, 6, 7, 8, 9]  NA            10000           9592           95.92   78.53   17.39     4.05   0.03            6774\n",
            "5        fg = [0, 1, 2]  bg = [3, 4, 5, 6, 7, 8, 9]  NA            10000           9924           99.24   98.27    0.97     0.75   0.01            9812\n",
            "6        fg = [0, 1, 2]  bg = [3, 4, 5, 6, 7, 8, 9]  NA            10000           9443           94.43   72.29   22.14     5.47   0.1             6714\n",
            "7        fg = [0, 1, 2]  bg = [3, 4, 5, 6, 7, 8, 9]  NA            10000           8183           81.83   55.34   26.49     8.21   9.96            6433\n",
            "8        fg = [0, 1, 2]  bg = [3, 4, 5, 6, 7, 8, 9]  NA            10000           9090           90.9    65.81   25.09     6.05   3.05            6664\n",
            "9        fg = [0, 1, 2]  bg = [3, 4, 5, 6, 7, 8, 9]  NA            10000           9478           94.78   73.75   21.03     5.15   0.07            6755\n",
            "10       fg = [0, 1, 2]  bg = [3, 4, 5, 6, 7, 8, 9]  NA            10000           9537           95.37   77.6    17.77     4.54   0.09            6733\n",
            "Avg                                                                                               92.182  70.137  22.045    4.49   3.328           6303.2\n",
            " \n",
            "================================================================================================================================================================\n"
          ],
          "name": "stdout"
        }
      ]
    },
    {
      "cell_type": "code",
      "metadata": {
        "id": "_ZlV6qErhUUL",
        "outputId": "e9e1ebd2-3571-4724-cb6d-64ec5ca58694",
        "colab": {
          "base_uri": "https://localhost:8080/",
          "height": 335
        }
      },
      "source": [
        "test_table3 = add_average_entry(test_table3)"
      ],
      "execution_count": 82,
      "outputs": [
        {
          "output_type": "stream",
          "text": [
            " \n",
            "================================================================================================================================================================\n",
            "S.No.    fg_class        bg_class                    Epoch used    total_points    correct      accuracy    FTPT    FFPT    FTPF    FFPF    avg_img > 0.5\n",
            "-------  --------------  --------------------------  ------------  --------------  ---------  ----------  ------  ------  ------  ------  ---------------\n",
            "1        fg = [0, 1, 2]  bg = [3, 4, 5, 6, 7, 8, 9]  NA            10000           5700           57      37.63   19.37   31.62   11.38              4947\n",
            "2        fg = [0, 1, 2]  bg = [3, 4, 5, 6, 7, 8, 9]  NA            10000           3515           35.15    8.07   27.08    7.92   56.93               331\n",
            "3        fg = [0, 1, 2]  bg = [3, 4, 5, 6, 7, 8, 9]  NA            10000           3511           35.11   11.77   23.34   46.6    18.29              1156\n",
            "4        fg = [0, 1, 2]  bg = [3, 4, 5, 6, 7, 8, 9]  NA            10000           3293           32.93    5.69   27.24    6.57   60.5                 40\n",
            "5        fg = [0, 1, 2]  bg = [3, 4, 5, 6, 7, 8, 9]  NA            10000           3423           34.23    9.57   24.66   14.74   51.03              2362\n",
            "6        fg = [0, 1, 2]  bg = [3, 4, 5, 6, 7, 8, 9]  NA            10000           3302           33.02    5.37   27.65    5.9    61.08                67\n",
            "7        fg = [0, 1, 2]  bg = [3, 4, 5, 6, 7, 8, 9]  NA            10000           3560           35.6     5.24   30.36    7.5    56.9               2140\n",
            "8        fg = [0, 1, 2]  bg = [3, 4, 5, 6, 7, 8, 9]  NA            10000           3388           33.88    4.39   29.49    7.58   58.54               920\n",
            "9        fg = [0, 1, 2]  bg = [3, 4, 5, 6, 7, 8, 9]  NA            10000           3306           33.06    4.71   28.35    5.37   61.57                48\n",
            "10       fg = [0, 1, 2]  bg = [3, 4, 5, 6, 7, 8, 9]  NA            10000           3313           33.13    5.04   28.09    6.17   60.7                 49\n",
            "Avg                                                                                               36.311   9.748  26.563  13.997  49.692             1206\n",
            " \n",
            "================================================================================================================================================================\n"
          ],
          "name": "stdout"
        }
      ]
    },
    {
      "cell_type": "code",
      "metadata": {
        "id": "BOvl6fUChV5j",
        "outputId": "343000b4-b00c-495d-fae7-aa1644a11e20",
        "colab": {
          "base_uri": "https://localhost:8080/",
          "height": 335
        }
      },
      "source": [
        "test_table4 = add_average_entry(test_table4)"
      ],
      "execution_count": 83,
      "outputs": [
        {
          "output_type": "stream",
          "text": [
            " \n",
            "================================================================================================================================================================\n",
            "S.No.    fg_class        bg_class                    Epoch used    total_points    correct      accuracy    FTPT    FFPT    FTPF    FFPF    avg_img > 0.5\n",
            "-------  --------------  --------------------------  ------------  --------------  ---------  ----------  ------  ------  ------  ------  ---------------\n",
            "1        fg = [0, 1, 2]  bg = [3, 4, 5, 6, 7, 8, 9]  NA            10000           4906           49.06   25.81   23.25   26.3    24.64            4538\n",
            "2        fg = [0, 1, 2]  bg = [3, 4, 5, 6, 7, 8, 9]  NA            10000           3461           34.61    7.47   27.14    7.88   57.51             279\n",
            "3        fg = [0, 1, 2]  bg = [3, 4, 5, 6, 7, 8, 9]  NA            10000           3450           34.5     9.01   25.49   40.9    24.6              982\n",
            "4        fg = [0, 1, 2]  bg = [3, 4, 5, 6, 7, 8, 9]  NA            10000           3306           33.06    5.73   27.33    6.23   60.71              52\n",
            "5        fg = [0, 1, 2]  bg = [3, 4, 5, 6, 7, 8, 9]  NA            10000           3401           34.01    9      25.01   13.43   52.56            2447\n",
            "6        fg = [0, 1, 2]  bg = [3, 4, 5, 6, 7, 8, 9]  NA            10000           3313           33.13    5.3    27.83    6.83   60.04              70\n",
            "7        fg = [0, 1, 2]  bg = [3, 4, 5, 6, 7, 8, 9]  NA            10000           3505           35.05    5.6    29.45    7.69   57.26            2053\n",
            "8        fg = [0, 1, 2]  bg = [3, 4, 5, 6, 7, 8, 9]  NA            10000           3406           34.06    4.23   29.83    7.64   58.3              993\n",
            "9        fg = [0, 1, 2]  bg = [3, 4, 5, 6, 7, 8, 9]  NA            10000           3319           33.19    5.02   28.17    5.58   61.23              60\n",
            "10       fg = [0, 1, 2]  bg = [3, 4, 5, 6, 7, 8, 9]  NA            10000           3308           33.08    5.11   27.97    5.43   61.49              64\n",
            "Avg                                                                                               35.375   8.228  27.147  12.791  51.834           1153.8\n",
            " \n",
            "================================================================================================================================================================\n"
          ],
          "name": "stdout"
        }
      ]
    },
    {
      "cell_type": "code",
      "metadata": {
        "id": "nkyMi1VBpq9a"
      },
      "source": [
        "# torch.save(fore_net.state_dict(),\"/content/drive/My Drive/Research/mosaic_from_CIFAR_involving_bottop_eigen_vectors/fore_net_epoch\"+str(epoch)+\"_fg_used\"+str(fg_used)+\".pt\")"
      ],
      "execution_count": 84,
      "outputs": []
    }
  ]
}