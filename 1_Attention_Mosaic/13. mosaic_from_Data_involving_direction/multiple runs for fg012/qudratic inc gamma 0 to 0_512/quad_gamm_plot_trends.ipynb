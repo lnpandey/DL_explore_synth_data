{
 "cells": [
  {
   "cell_type": "code",
   "execution_count": 1,
   "metadata": {},
   "outputs": [],
   "source": [
    "import pandas as pd\n",
    "import numpy as np\n",
    "import matplotlib.pyplot as plt\n",
    "\n",
    "\n",
    "from matplotlib import pyplot as plt\n",
    "import copy\n",
    "\n",
    "# Ignore warnings\n",
    "import warnings\n",
    "warnings.filterwarnings(\"ignore\")\n"
   ]
  },
  {
   "cell_type": "code",
   "execution_count": 2,
   "metadata": {},
   "outputs": [],
   "source": [
    "gamma = [0, 0.001, 0.002 , 0.004, 0.008, 0.016, 0.032, 0.064, 0.128, 0.256, 0.512]"
   ]
  },
  {
   "cell_type": "markdown",
   "metadata": {},
   "source": [
    "| gamma | Avg Accuracy | Avg FTPT | Avg FFPT | Avg FTPF | Avg FFPF |\n",
    "|-------|--------------|----------|----------|----------|--------------|\n",
    "| 0     | 98.756   | 76.7397  | 22.0163 | 0.319667 | 0.924333 |\n",
    "| 0.001 | 98.6857 | 76.4147  | 22.271  | 0.317333  | 0.997     |   \n",
    "| 0.002 | 98.5367 | 77.6737  | 20.863  | 0.339     | 1.12433   |      \n",
    "| 0.004 | 99.11   | 60.755   | 38.355  | 0.483     | 0.407     |    \n",
    "| 0.008 | 98.725  | 77.803   | 20.922  | 1.18433   | 0.0906667 |        \n",
    "| 0.016 | 98.8773 | 65.7233  | 33.154  | 0.882333  | 0.240333  |     \n",
    "| 0.032 | 99.0077 | 50.7923  | 48.2153 | 0.578333  | 0.414     |     \n",
    "| 0.064 | 99.0357 | 60.2253  | 38.8103 | 0.597333  | 0.367     |      \n",
    "| 0.128 | 99.4077 | 82.0323  | 17.3753 | 0.504667  | 0.0876667 |            \n",
    "| 0.256 | 99.421  | 89.9097  | 9.51133 |  0.476333 | 0.102667 |            \n",
    "| 0.512 | 99.5447 | 99.4433  | 0.101333| 0.455333  |      0    | "
   ]
  },
  {
   "cell_type": "code",
   "execution_count": 3,
   "metadata": {},
   "outputs": [],
   "source": [
    "avg_acc_train = [ 98.756,\n",
    "  98.685,\n",
    "  98.536,\n",
    "  99.11 ,\n",
    "  98.725,\n",
    "  98.877,\n",
    "  99.007,\n",
    "  99.035,\n",
    "  99.407,\n",
    "  99.421,\n",
    "  99.5447]"
   ]
  },
  {
   "cell_type": "code",
   "execution_count": 4,
   "metadata": {},
   "outputs": [],
   "source": [
    "avg_ftpt_train = [  76.7397,\n",
    "76.4147 ,\n",
    "77.6737 ,\n",
    "60.755  ,\n",
    "77.803  ,\n",
    "65.7233 ,\n",
    "50.7923 ,\n",
    "60.2253 ,\n",
    "82.0323 ,\n",
    "89.9097 ,\n",
    "99.4433 ]"
   ]
  },
  {
   "cell_type": "code",
   "execution_count": 5,
   "metadata": {},
   "outputs": [],
   "source": [
    "avg_ffpt_train = [  22.016,\n",
    "22.271 ,\n",
    "20.863 ,\n",
    "38.355 ,\n",
    "20.922 ,\n",
    "33.154 ,\n",
    "48.2153,\n",
    "38.8103,\n",
    "17.3753,\n",
    "9.51133,\n",
    "0.10133]"
   ]
  },
  {
   "cell_type": "code",
   "execution_count": 6,
   "metadata": {},
   "outputs": [],
   "source": [
    "avg_ftpf_train = [  0.31966,\n",
    "0.317333,\n",
    "0.339   ,\n",
    "0.483   ,\n",
    "1.18433 ,\n",
    "0.882333,\n",
    "0.578333,\n",
    "0.597333,\n",
    "0.504667,\n",
    " 0.47633,\n",
    "0.455333]"
   ]
  },
  {
   "cell_type": "code",
   "execution_count": 7,
   "metadata": {},
   "outputs": [],
   "source": [
    "avg_ffpf_train = [ 0.924333,\n",
    "0.997   ,\n",
    "1.12433 ,\n",
    "0.407   ,\n",
    "0.090666,\n",
    "0.240333,\n",
    "0.414  , \n",
    "0.367  , \n",
    "0.087666,\n",
    "0.102667,\n",
    "     0  ]"
   ]
  },
  {
   "cell_type": "code",
   "execution_count": 8,
   "metadata": {},
   "outputs": [
    {
     "data": {
      "text/plain": [
       "(11, 11, 11, 11, 11)"
      ]
     },
     "execution_count": 8,
     "metadata": {},
     "output_type": "execute_result"
    }
   ],
   "source": [
    "len(avg_acc_train), len(avg_ftpt_train), len(avg_ffpt_train), len(avg_ftpf_train), len(avg_ffpf_train)"
   ]
  },
  {
   "cell_type": "markdown",
   "metadata": {},
   "source": [
    "| gamma | Avg Accuracy | Avg FTPT | Avg FFPT | Avg FTPF | Avg FFPF |\n",
    "|-------|--------------|----------|----------|----------|--------------|\n",
    "| 0     | 85.773 |  69.683 |   16.09 |  3.85  | 10.377 |         \n",
    "| 0.001 | 85.728 |  68.771 |  16.957 |  3.794 | 10.478 |         \n",
    "| 0.002 | 87.518 |  70.606 |  16.912 |  3.273 |  9.209 |         \n",
    "| 0.004 | 98.452 |  60.912 |   37.54 |  0.946 |  0.602 |         \n",
    "| 0.008 | 98.045 |  76.981 |  21.064 |  1.814 |  0.141 |          \n",
    "| 0.016 | 98.107 |  64.603 |  33.504 |  1.564 |  0.329 |         \n",
    "| 0.032 | 98.76  | 50.562  | 48.198  | 0.735  | 0.505  |        \n",
    "| 0.064 | 98.84  | 60.053  | 38.787  | 0.793  | 0.367  |        \n",
    "| 0.128 | 99.294 |  82.253 |  17.041 |  0.603 |  0.103 |         \n",
    "| 0.256 | 99.341 | 89.906  | 9.435   | 0.535  | 0.124  |          \n",
    "| 0.512 | 99.463 |  99.365 |   0.098 |  0.536 |  0.001 |"
   ]
  },
  {
   "cell_type": "code",
   "execution_count": 9,
   "metadata": {},
   "outputs": [],
   "source": [
    "avg_acc_test1 = [85.773,\n",
    "85.728,\n",
    "87.518,\n",
    "98.452,\n",
    "98.045,\n",
    "98.107,\n",
    "98.76 ,\n",
    "98.84 ,\n",
    "99.294,\n",
    "99.341,\n",
    "99.463 ]"
   ]
  },
  {
   "cell_type": "code",
   "execution_count": 10,
   "metadata": {},
   "outputs": [],
   "source": [
    "avg_ftpt_test1 = [ 69.683,\n",
    " 68.771,\n",
    " 70.606,\n",
    " 60.912,\n",
    " 76.981,\n",
    " 64.603,\n",
    "50.562 ,\n",
    "60.053 ,\n",
    " 82.253,\n",
    "89.906 ,\n",
    " 99.365]"
   ]
  },
  {
   "cell_type": "code",
   "execution_count": 11,
   "metadata": {},
   "outputs": [],
   "source": [
    "avg_ffpt_test1 = [  16.09,\n",
    " 16.957,\n",
    " 16.912,\n",
    "  37.54,\n",
    " 21.064,\n",
    " 33.504,\n",
    "48.198 ,\n",
    "38.787 ,\n",
    " 17.041,\n",
    "9.435 , \n",
    "  0.098]"
   ]
  },
  {
   "cell_type": "code",
   "execution_count": 12,
   "metadata": {},
   "outputs": [],
   "source": [
    "avg_ftpf_test1 = [  3.85 ,\n",
    " 3.794,\n",
    " 3.273,\n",
    " 0.946,\n",
    " 1.814,\n",
    " 1.564,\n",
    "0.735 ,\n",
    "0.793 ,\n",
    " 0.603,\n",
    "0.535, \n",
    " 0.536]"
   ]
  },
  {
   "cell_type": "code",
   "execution_count": 13,
   "metadata": {},
   "outputs": [],
   "source": [
    "avg_ffpf_test1 = [10.377,\n",
    "10.478,\n",
    " 9.209,\n",
    " 0.602,\n",
    " 0.141,\n",
    " 0.329,\n",
    "0.505 ,\n",
    "0.367 ,\n",
    " 0.103,\n",
    "0.124 ,\n",
    " 0.001]"
   ]
  },
  {
   "cell_type": "code",
   "execution_count": 14,
   "metadata": {},
   "outputs": [
    {
     "data": {
      "text/plain": [
       "(11, 11, 11, 11, 11)"
      ]
     },
     "execution_count": 14,
     "metadata": {},
     "output_type": "execute_result"
    }
   ],
   "source": [
    "len(avg_acc_test1), len(avg_ftpt_test1), len(avg_ffpt_test1), len(avg_ftpf_test1), len(avg_ffpf_test1)"
   ]
  },
  {
   "cell_type": "markdown",
   "metadata": {},
   "source": [
    "| gamma | Avg Accuracy | Avg FTPT | Avg FFPT | Avg FTPF | Avg FFPF |\n",
    "|-------|--------------|----------|----------|----------|--------------|\n",
    "| 0     | 65.97  | 46.855 | 19.115 |  9.633 | 24.397   |         \n",
    "| 0.001 | 66.284 | 46.523 | 19.761 |  9.35  | 24.366 |        \n",
    "| 0.002 | 69.488 | 49.118 |  20.37 |  8.104 | 22.408 |         \n",
    "| 0.004 | 96.584 |  57.35 | 39.234 |  2.624 |  0.792 |         \n",
    "| 0.008 | 96.384 | 75.591 | 20.793 |  3.381 |  0.235 |         \n",
    "| 0.016 | 96.852 | 63.381 | 33.471 |  2.775 |  0.373 |         \n",
    "| 0.032 | 98.368 | 49.948 |  48.42 |  1.106 |  0.526 |         \n",
    "| 0.064 | 98.712 | 59.957 | 38.755 |  0.915 |  0.373 |         \n",
    "| 0.128 | 99.145 | 81.575 |  17.57 |  0.744 |  0.111 |         \n",
    "| 0.256 | 99.322 |  89.71 |  9.612 |  0.578 |   0.1  |         \n",
    "| 0.512 | 99.373 | 99.278 |  0.095 |  0.627 |      0 | "
   ]
  },
  {
   "cell_type": "code",
   "execution_count": 15,
   "metadata": {},
   "outputs": [],
   "source": [
    "avg_acc_test2 = [65.97 ,\n",
    "66.284,\n",
    "69.488,\n",
    "96.584,\n",
    "96.384,\n",
    "96.852,\n",
    "98.368,\n",
    "98.712,\n",
    "99.145,\n",
    "99.322,\n",
    "99.373 ]"
   ]
  },
  {
   "cell_type": "code",
   "execution_count": 24,
   "metadata": {},
   "outputs": [],
   "source": [
    "avg_ftpt_test2 = [ 46.855,\n",
    "46.523,\n",
    "49.118,\n",
    " 57.35,\n",
    "75.591,\n",
    "63.381,\n",
    "49.948,\n",
    "59.957,\n",
    "81.575,\n",
    " 89.71,\n",
    "99.278]"
   ]
  },
  {
   "cell_type": "code",
   "execution_count": 26,
   "metadata": {},
   "outputs": [],
   "source": [
    "avg_ffpt_test2 = [  19.115,\n",
    "19.761,\n",
    " 20.37,\n",
    "39.234,\n",
    "20.793,\n",
    "33.471,\n",
    " 48.42,\n",
    "38.755,\n",
    " 17.57,\n",
    " 9.612,\n",
    " 0.095]"
   ]
  },
  {
   "cell_type": "code",
   "execution_count": 27,
   "metadata": {},
   "outputs": [],
   "source": [
    "avg_ftpf_test2 = [  9.633,\n",
    "9.35 ,\n",
    "8.104,\n",
    "2.624,\n",
    "3.381,\n",
    "2.775,\n",
    "1.106,\n",
    "0.915,\n",
    "0.744,\n",
    "0.578,\n",
    "0.627]"
   ]
  },
  {
   "cell_type": "code",
   "execution_count": 28,
   "metadata": {},
   "outputs": [],
   "source": [
    "avg_ffpf_test2 = [24.397,\n",
    "24.366,\n",
    "22.408,\n",
    " 0.792,\n",
    " 0.235,\n",
    " 0.373,\n",
    " 0.526,\n",
    " 0.373,\n",
    " 0.111,\n",
    "  0.1 ,\n",
    "     0]"
   ]
  },
  {
   "cell_type": "code",
   "execution_count": 20,
   "metadata": {},
   "outputs": [
    {
     "data": {
      "text/plain": [
       "(11, 11, 11, 11, 11)"
      ]
     },
     "execution_count": 20,
     "metadata": {},
     "output_type": "execute_result"
    }
   ],
   "source": [
    "len(avg_acc_test2), len(avg_ftpt_test2), len(avg_ffpt_test2), len(avg_ftpf_test2), len(avg_ffpf_test2)"
   ]
  },
  {
   "cell_type": "code",
   "execution_count": 34,
   "metadata": {},
   "outputs": [
    {
     "data": {
      "image/png": "[encoded data removed]",
      "text/plain": [
       "<Figure size 432x288 with 1 Axes>"
      ]
     },
     "metadata": {},
     "output_type": "display_data"
    }
   ],
   "source": [
    "# plt.figure(figsize=(10,6))\n",
    "plt.plot(gamma, avg_acc_train, label=\"train_acc\")\n",
    "plt.plot(gamma, avg_ftpt_train, label=\"train_ftpt\")\n",
    "plt.plot(gamma, avg_ffpt_train, label=\"train_ffpt\")\n",
    "plt.plot(gamma, avg_ftpf_train, label=\"train_ftpf\")\n",
    "plt.plot(gamma, avg_ffpf_train, label=\"train_ffpf\")\n",
    "plt.legend()\n",
    "plt.xlabel(\"gamma\")\n",
    "plt.title(\"On training Dataset\")\n",
    "plt.show()"
   ]
  },
  {
   "cell_type": "code",
   "execution_count": 35,
   "metadata": {},
   "outputs": [
    {
     "data": {
      "image/png": "[encoded data removed]",
      "text/plain": [
       "<Figure size 432x288 with 1 Axes>"
      ]
     },
     "metadata": {},
     "output_type": "display_data"
    }
   ],
   "source": [
    "# plt.figure(figsize=(10,6))\n",
    "plt.plot(gamma, avg_acc_test1, label=\"test1_acc\")\n",
    "plt.plot(gamma, avg_ftpt_test1, label=\"test1_ftpt\")\n",
    "plt.plot(gamma, avg_ffpt_test1, label=\"test1_ffpt\")\n",
    "plt.plot(gamma, avg_ftpf_test1, label=\"test1_ftpf\")\n",
    "plt.plot(gamma, avg_ffpf_test1, label=\"test1_ffpf\")\n",
    "plt.legend()\n",
    "plt.xlabel(\"gamma\")\n",
    "plt.title(\"On Testing Dataset1\")\n",
    "plt.show()"
   ]
  },
  {
   "cell_type": "code",
   "execution_count": 36,
   "metadata": {},
   "outputs": [
    {
     "data": {
      "image/png": "[encoded data removed]",
      "text/plain": [
       "<Figure size 432x288 with 1 Axes>"
      ]
     },
     "metadata": {},
     "output_type": "display_data"
    }
   ],
   "source": [
    "# plt.figure(figsize=(10,6))\n",
    "plt.plot(gamma, avg_acc_test2, label=\"test2_acc\",)\n",
    "plt.plot(gamma, avg_ftpt_test2, label=\"test2_ftpt\")\n",
    "plt.plot(gamma, avg_ffpt_test2, label=\"test2_ffpt\")\n",
    "plt.plot(gamma, avg_ftpf_test2, label=\"test2_ftpf\")\n",
    "plt.plot(gamma, avg_ffpf_test2, label=\"test2_ffpf\")\n",
    "plt.legend()\n",
    "plt.xlabel(\"gamma\")\n",
    "plt.title(\"On Testing Dataset2\")\n",
    "plt.show()"
   ]
  },
  {
   "cell_type": "code",
   "execution_count": null,
   "metadata": {},
   "outputs": [],
   "source": []
  }
 ],
 "metadata": {
  "kernelspec": {
   "display_name": "Python 3",
   "language": "python",
   "name": "python3"
  },
  "language_info": {
   "codemirror_mode": {
    "name": "ipython",
    "version": 3
   },
   "file_extension": ".py",
   "mimetype": "text/x-python",
   "name": "python",
   "nbconvert_exporter": "python",
   "pygments_lexer": "ipython3",
   "version": "3.6.5"
  }
 },
 "nbformat": 4,
 "nbformat_minor": 2
}
