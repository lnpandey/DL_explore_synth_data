{
 "cells": [
  {
   "cell_type": "code",
   "execution_count": null,
   "metadata": {
    "id": "JSjG64ra4aFu"
   },
   "outputs": [],
   "source": [
    "# from google.colab import drive\n",
    "# drive.mount('/content/drive')"
   ]
  },
  {
   "cell_type": "code",
   "execution_count": null,
   "metadata": {
    "id": "V8-7SARDZErK"
   },
   "outputs": [],
   "source": [
    "import torch.nn as nn\n",
    "import torch.nn.functional as F\n",
    "\n",
    "import pandas as pd\n",
    "import numpy as np\n",
    "import matplotlib.pyplot as plt\n",
    "\n",
    "import torch\n",
    "import torchvision\n",
    "import torchvision.transforms as transforms\n",
    "from torch.utils.data import Dataset, DataLoader\n",
    "from torchvision import transforms, utils\n",
    "\n",
    "from matplotlib import pyplot as plt\n",
    "import copy\n",
    "\n",
    "from numpy import linalg as LA\n",
    "from tabulate import tabulate\n",
    "# Ignore warnings\n",
    "import warnings\n",
    "warnings.filterwarnings(\"ignore\")\n"
   ]
  },
  {
   "cell_type": "code",
   "execution_count": null,
   "metadata": {
    "colab": {
     "base_uri": "https://localhost:8080/",
     "height": 105,
     "referenced_widgets": [
      "6dace9512a664ba9b5692262f8c139c3",
      "742171742b79499abc930cb0b389165b",
      "96b8955838d649e69591986dd900fba1",
      "dd8656c13a044692b754729470662ac9",
      "dc59d58475264f96b686f797e627783c",
      "8af04b29b21a458f903b7c2b3f67f46b",
      "74cb847c3f994b5b98737ce081f9d6b3",
      "9469f1c86a54451699f023eaaac5a7a3"
     ]
    },
    "id": "acRFqJNrZErV",
    "outputId": "ff357240-0cf3-4795-9fb8-fdae83886158"
   },
   "outputs": [
    {
     "name": "stdout",
     "output_type": "stream",
     "text": [
      "Downloading https://www.cs.toronto.edu/~kriz/cifar-10-python.tar.gz to ./data/cifar-10-python.tar.gz\n"
     ]
    },
    {
     "data": {
      "application/vnd.jupyter.widget-view+json": {
       "model_id": "6dace9512a664ba9b5692262f8c139c3",
       "version_major": 2,
       "version_minor": 0
      },
      "text/plain": [
       "HBox(children=(FloatProgress(value=1.0, bar_style='info', max=1.0), HTML(value='')))"
      ]
     },
     "metadata": {
      "tags": []
     },
     "output_type": "display_data"
    },
    {
     "name": "stdout",
     "output_type": "stream",
     "text": [
      "Extracting ./data/cifar-10-python.tar.gz to ./data\n",
      "Files already downloaded and verified\n"
     ]
    }
   ],
   "source": [
    "transform = transforms.Compose(\n",
    "    [transforms.ToTensor(),\n",
    "     transforms.Normalize((0.5, 0.5, 0.5), (0.5, 0.5, 0.5))])\n",
    "\n",
    "trainset = torchvision.datasets.CIFAR10(root='./data', train=True, download=True, transform=transform)\n",
    "\n",
    "\n",
    "testset = torchvision.datasets.CIFAR10(root='./data', train=False, download=True, transform=transform)\n"
   ]
  },
  {
   "cell_type": "code",
   "execution_count": null,
   "metadata": {
    "id": "FTBYzzX-fY2K"
   },
   "outputs": [],
   "source": [
    "gamma = 0.002"
   ]
  },
  {
   "cell_type": "code",
   "execution_count": null,
   "metadata": {
    "colab": {
     "base_uri": "https://localhost:8080/",
     "height": 36
    },
    "id": "ygZ-VSs6j-hf",
    "outputId": "a9779b79-b930-47da-d34a-8a8bf7e3f944"
   },
   "outputs": [
    {
     "data": {
      "text/plain": [
       "{'cat', 'deer', 'dog', 'frog', 'horse', 'ship', 'truck'}"
      ]
     },
     "execution_count": 5,
     "metadata": {
      "tags": []
     },
     "output_type": "execute_result"
    }
   ],
   "source": [
    "classes = ('plane', 'car', 'bird', 'cat', 'deer', 'dog', 'frog', 'horse', 'ship', 'truck')\n",
    "\n",
    "foreground_classes = {'plane', 'car', 'bird'}\n",
    "fg_used = '012'\n",
    "fg1, fg2, fg3 = 0,1,2\n",
    "\n",
    "\n",
    "all_classes = {'plane', 'car', 'bird', 'cat', 'deer', 'dog', 'frog', 'horse', 'ship', 'truck'}\n",
    "background_classes = all_classes - foreground_classes\n",
    "background_classes\n",
    "\n",
    "# print(type(foreground_classes))"
   ]
  },
  {
   "cell_type": "code",
   "execution_count": null,
   "metadata": {
    "id": "oEPWuddXzu9f"
   },
   "outputs": [],
   "source": [
    "trainloader = torch.utils.data.DataLoader(trainset, batch_size=10, shuffle=True)\n",
    "testloader = torch.utils.data.DataLoader(testset, batch_size=10, shuffle=False)\n"
   ]
  },
  {
   "cell_type": "code",
   "execution_count": null,
   "metadata": {
    "colab": {
     "base_uri": "https://localhost:8080/",
     "height": 36
    },
    "id": "n76MSJwHzu9p",
    "outputId": "b8256079-957f-43c6-868d-db343095009d"
   },
   "outputs": [
    {
     "name": "stdout",
     "output_type": "stream",
     "text": [
      "\n"
     ]
    }
   ],
   "source": [
    "dataiter = iter(trainloader)\n",
    "true_train_background_data=[]\n",
    "true_train_background_label=[]\n",
    "true_train_foreground_data=[]\n",
    "true_train_foreground_label=[]\n",
    "batch_size=10\n",
    "\n",
    "for i in range(5000):\n",
    "  images, labels = dataiter.next()\n",
    "  for j in range(batch_size):\n",
    "    if(classes[labels[j]] in background_classes):\n",
    "      img = images[j].tolist()\n",
    "      true_train_background_data.append(img)\n",
    "      true_train_background_label.append(labels[j])\n",
    "    else:\n",
    "      img = images[j].tolist()\n",
    "      true_train_foreground_data.append(img)\n",
    "      true_train_foreground_label.append(labels[j])\n",
    "            \n",
    "true_train_foreground_data = torch.tensor(true_train_foreground_data)\n",
    "true_train_foreground_label = torch.tensor(true_train_foreground_label)\n",
    "true_train_background_data = torch.tensor(true_train_background_data)\n",
    "true_train_background_label = torch.tensor(true_train_background_label)\n",
    "    "
   ]
  },
  {
   "cell_type": "code",
   "execution_count": null,
   "metadata": {
    "colab": {
     "base_uri": "https://localhost:8080/",
     "height": 36
    },
    "id": "NdYlcZPM2tmV",
    "outputId": "18b83ac9-a6cc-4764-eb74-2903e8a5b7c3"
   },
   "outputs": [
    {
     "data": {
      "text/plain": [
       "(15000, 15000, 35000, 35000)"
      ]
     },
     "execution_count": 8,
     "metadata": {
      "tags": []
     },
     "output_type": "execute_result"
    }
   ],
   "source": [
    "len(true_train_foreground_data), len(true_train_foreground_label), len(true_train_background_data), len(true_train_background_label)"
   ]
  },
  {
   "cell_type": "code",
   "execution_count": null,
   "metadata": {
    "id": "IgyumCe_0GMa"
   },
   "outputs": [],
   "source": [
    "dataiter = iter(testloader)\n",
    "true_test_background_data=[]\n",
    "true_test_background_label=[]\n",
    "true_test_foreground_data=[]\n",
    "true_test_foreground_label=[]\n",
    "batch_size=10\n",
    "\n",
    "for i in range(1000):\n",
    "  images, labels = dataiter.next()\n",
    "  for j in range(batch_size):\n",
    "    if(classes[labels[j]] in background_classes):\n",
    "      img = images[j].tolist()\n",
    "      true_test_background_data.append(img)\n",
    "      true_test_background_label.append(labels[j])\n",
    "    else:\n",
    "      img = images[j].tolist()\n",
    "      true_test_foreground_data.append(img)\n",
    "      true_test_foreground_label.append(labels[j])\n",
    "            \n",
    "true_test_foreground_data = torch.tensor(true_test_foreground_data)\n",
    "true_test_foreground_label = torch.tensor(true_test_foreground_label)\n",
    "true_test_background_data = torch.tensor(true_test_background_data)\n",
    "true_test_background_label = torch.tensor(true_test_background_label)"
   ]
  },
  {
   "cell_type": "code",
   "execution_count": null,
   "metadata": {
    "colab": {
     "base_uri": "https://localhost:8080/",
     "height": 36
    },
    "id": "P07QyEjZ2_tH",
    "outputId": "9a5356aa-73b1-47b8-8262-e8d345c0bb68"
   },
   "outputs": [
    {
     "data": {
      "text/plain": [
       "(3000, 3000, 7000, 7000)"
      ]
     },
     "execution_count": 10,
     "metadata": {
      "tags": []
     },
     "output_type": "execute_result"
    }
   ],
   "source": [
    "len(true_test_foreground_data), len(true_test_foreground_label), len(true_test_background_data), len(true_test_background_label)"
   ]
  },
  {
   "cell_type": "code",
   "execution_count": null,
   "metadata": {
    "id": "bzU_HuQnEB29"
   },
   "outputs": [],
   "source": [
    "true_train = trainset.data"
   ]
  },
  {
   "cell_type": "code",
   "execution_count": null,
   "metadata": {
    "id": "FAR6Zt2QgMdf"
   },
   "outputs": [],
   "source": [
    "train_label = trainset.targets"
   ]
  },
  {
   "cell_type": "code",
   "execution_count": null,
   "metadata": {
    "id": "JZ52v93i__q5"
   },
   "outputs": [],
   "source": [
    "true_train_cifar_norm=[]\n",
    "for i in range(len(true_train)):\n",
    "  true_train_cifar_norm.append(LA.norm(true_train[i]))"
   ]
  },
  {
   "cell_type": "code",
   "execution_count": null,
   "metadata": {
    "colab": {
     "base_uri": "https://localhost:8080/",
     "height": 36
    },
    "id": "TbWNZhQvAWav",
    "outputId": "e57e6e93-2b88-4c05-edf4-4786d9ac3e08"
   },
   "outputs": [
    {
     "data": {
      "text/plain": [
       "50000"
      ]
     },
     "execution_count": 14,
     "metadata": {
      "tags": []
     },
     "output_type": "execute_result"
    }
   ],
   "source": [
    "len(true_train_cifar_norm)"
   ]
  },
  {
   "cell_type": "code",
   "execution_count": null,
   "metadata": {
    "id": "Klrwlq-RBSdc"
   },
   "outputs": [],
   "source": [
    "def plot_hist(values):\n",
    "  plt.hist(values, density=True, bins=200)  # `density=False` would make counts\n",
    "  plt.ylabel('NORM')\n",
    "  plt.xlabel('Data');"
   ]
  },
  {
   "cell_type": "code",
   "execution_count": null,
   "metadata": {
    "colab": {
     "base_uri": "https://localhost:8080/",
     "height": 279
    },
    "id": "w-saABjgAaFY",
    "outputId": "e187545c-0ee3-4560-bebe-6b45465d9a6c"
   },
   "outputs": [
    {
     "data": {
      "image/png": "[encoded data removed]",
      "text/plain": [
       "<Figure size 432x288 with 1 Axes>"
      ]
     },
     "metadata": {
      "needs_background": "light",
      "tags": []
     },
     "output_type": "display_data"
    }
   ],
   "source": [
    "plot_hist(true_train_cifar_norm)"
   ]
  },
  {
   "cell_type": "code",
   "execution_count": null,
   "metadata": {
    "colab": {
     "base_uri": "https://localhost:8080/",
     "height": 36
    },
    "id": "_USgDEwbMMKY",
    "outputId": "7a940856-c92f-4468-bdd4-8470f289549d"
   },
   "outputs": [
    {
     "data": {
      "text/plain": [
       "(50000, 32, 32, 3)"
      ]
     },
     "execution_count": 17,
     "metadata": {
      "tags": []
     },
     "output_type": "execute_result"
    }
   ],
   "source": [
    "true_train.shape"
   ]
  },
  {
   "cell_type": "code",
   "execution_count": null,
   "metadata": {
    "colab": {
     "base_uri": "https://localhost:8080/",
     "height": 36
    },
    "id": "yi-39bYIMZOd",
    "outputId": "f2adfb2f-3c56-411e-8136-9f33595646fb"
   },
   "outputs": [
    {
     "data": {
      "text/plain": [
       "((50000, 3072), (50000, 32, 32, 3))"
      ]
     },
     "execution_count": 18,
     "metadata": {
      "tags": []
     },
     "output_type": "execute_result"
    }
   ],
   "source": [
    "train = np.reshape(true_train, (50000,3072))\n",
    "train.shape, true_train.shape"
   ]
  },
  {
   "cell_type": "code",
   "execution_count": null,
   "metadata": {
    "id": "3qMpDn-xMleE"
   },
   "outputs": [],
   "source": [
    "u, s, vh = LA.svd(train, full_matrices= False)"
   ]
  },
  {
   "cell_type": "code",
   "execution_count": null,
   "metadata": {
    "colab": {
     "base_uri": "https://localhost:8080/",
     "height": 36
    },
    "id": "4o7zUUJJNavO",
    "outputId": "4ee88c1c-939c-4939-836e-2b4055bbae5b"
   },
   "outputs": [
    {
     "data": {
      "text/plain": [
       "((50000, 3072), (3072,), (3072, 3072))"
      ]
     },
     "execution_count": 20,
     "metadata": {
      "tags": []
     },
     "output_type": "execute_result"
    }
   ],
   "source": [
    "u.shape , s.shape, vh.shape"
   ]
  },
  {
   "cell_type": "code",
   "execution_count": null,
   "metadata": {
    "colab": {
     "base_uri": "https://localhost:8080/",
     "height": 54
    },
    "id": "ZRlhUgdqSPyx",
    "outputId": "e0e1b8a6-3e93-4383-a9f6-a1c6df706dd2"
   },
   "outputs": [
    {
     "data": {
      "text/plain": [
       "array([1.55289927e+06, 2.82437414e+05, 2.17772149e+05, ...,\n",
       "       7.31736954e+01, 7.23349722e+01, 7.18349192e+01])"
      ]
     },
     "execution_count": 21,
     "metadata": {
      "tags": []
     },
     "output_type": "execute_result"
    }
   ],
   "source": [
    "s"
   ]
  },
  {
   "cell_type": "code",
   "execution_count": null,
   "metadata": {
    "colab": {
     "base_uri": "https://localhost:8080/",
     "height": 260
    },
    "id": "h31rbKmqVnZW",
    "outputId": "f2c1641c-16ac-4b00-ac41-64ad45733a28"
   },
   "outputs": [
    {
     "data": {
      "text/plain": [
       "array([[-0.01984194, -0.02066161, -0.02037075, ..., -0.01879724,\n",
       "        -0.01874038, -0.01729938],\n",
       "       [-0.02488245, -0.02705999, -0.03195926, ...,  0.01262528,\n",
       "         0.01096339,  0.00766722],\n",
       "       [-0.0159231 , -0.01437591, -0.01281541, ..., -0.02971411,\n",
       "        -0.0283376 , -0.02749635],\n",
       "       ...,\n",
       "       [-0.00449998,  0.00770844, -0.00281931, ..., -0.00013103,\n",
       "        -0.00080887,  0.00071151],\n",
       "       [ 0.00433324, -0.00629207,  0.00181791, ..., -0.00168695,\n",
       "         0.00131196,  0.00052667],\n",
       "       [-0.00574169,  0.00783184, -0.00186197, ...,  0.00511688,\n",
       "        -0.00678068,  0.00138508]])"
      ]
     },
     "execution_count": 22,
     "metadata": {
      "tags": []
     },
     "output_type": "execute_result"
    }
   ],
   "source": [
    "vh"
   ]
  },
  {
   "cell_type": "code",
   "execution_count": null,
   "metadata": {
    "colab": {
     "base_uri": "https://localhost:8080/",
     "height": 260
    },
    "id": "LruQuedyVs4i",
    "outputId": "193317ad-2ad7-4287-dd24-dc4b13005ced"
   },
   "outputs": [
    {
     "data": {
      "text/plain": [
       "array([[ 0.00256167, -0.00421648,  0.00171443, ..., -0.00214198,\n",
       "         0.0024008 , -0.00026442],\n",
       "       [ 0.00629867, -0.01114679,  0.00518054, ..., -0.00382077,\n",
       "         0.00504342, -0.00113716],\n",
       "       [-0.0022958 ,  0.0006672 ,  0.00141218, ..., -0.00062172,\n",
       "         0.00201576, -0.00146441],\n",
       "       ...,\n",
       "       [-0.00449998,  0.00770844, -0.00281931, ..., -0.00013103,\n",
       "        -0.00080887,  0.00071151],\n",
       "       [ 0.00433324, -0.00629207,  0.00181791, ..., -0.00168695,\n",
       "         0.00131196,  0.00052667],\n",
       "       [-0.00574169,  0.00783184, -0.00186197, ...,  0.00511688,\n",
       "        -0.00678068,  0.00138508]])"
      ]
     },
     "execution_count": 23,
     "metadata": {
      "tags": []
     },
     "output_type": "execute_result"
    }
   ],
   "source": [
    "dir = vh[3062:3072,:]\n",
    "dir"
   ]
  },
  {
   "cell_type": "code",
   "execution_count": null,
   "metadata": {
    "id": "m260DTW6V-Ka"
   },
   "outputs": [],
   "source": [
    "u1 = dir[7,:]\n",
    "u2 = dir[8,:]\n",
    "u3 = dir[9,:]"
   ]
  },
  {
   "cell_type": "code",
   "execution_count": null,
   "metadata": {
    "colab": {
     "base_uri": "https://localhost:8080/",
     "height": 54
    },
    "id": "R9OuIGt4WzlK",
    "outputId": "f0650e4f-a6c8-43fa-f387-df74d4bc9b5e"
   },
   "outputs": [
    {
     "data": {
      "text/plain": [
       "array([-0.00449998,  0.00770844, -0.00281931, ..., -0.00013103,\n",
       "       -0.00080887,  0.00071151])"
      ]
     },
     "execution_count": 25,
     "metadata": {
      "tags": []
     },
     "output_type": "execute_result"
    }
   ],
   "source": [
    "u1"
   ]
  },
  {
   "cell_type": "code",
   "execution_count": null,
   "metadata": {
    "colab": {
     "base_uri": "https://localhost:8080/",
     "height": 54
    },
    "id": "gswdCEwMW1-o",
    "outputId": "6bfaa038-1613-4eb6-c411-e9fdbcf59077"
   },
   "outputs": [
    {
     "data": {
      "text/plain": [
       "array([ 0.00433324, -0.00629207,  0.00181791, ..., -0.00168695,\n",
       "        0.00131196,  0.00052667])"
      ]
     },
     "execution_count": 26,
     "metadata": {
      "tags": []
     },
     "output_type": "execute_result"
    }
   ],
   "source": [
    "u2"
   ]
  },
  {
   "cell_type": "code",
   "execution_count": null,
   "metadata": {
    "colab": {
     "base_uri": "https://localhost:8080/",
     "height": 54
    },
    "id": "_GcGDZp7W2g6",
    "outputId": "07c39c37-9920-40f0-e068-30aefa219a72"
   },
   "outputs": [
    {
     "data": {
      "text/plain": [
       "array([-0.00574169,  0.00783184, -0.00186197, ...,  0.00511688,\n",
       "       -0.00678068,  0.00138508])"
      ]
     },
     "execution_count": 27,
     "metadata": {
      "tags": []
     },
     "output_type": "execute_result"
    }
   ],
   "source": [
    "u3"
   ]
  },
  {
   "cell_type": "code",
   "execution_count": null,
   "metadata": {
    "colab": {
     "base_uri": "https://localhost:8080/",
     "height": 36
    },
    "id": "c1ORV76hfd5u",
    "outputId": "458d75fb-d2fc-487c-f427-799e0d91214e"
   },
   "outputs": [
    {
     "data": {
      "text/plain": [
       "50000"
      ]
     },
     "execution_count": 28,
     "metadata": {
      "tags": []
     },
     "output_type": "execute_result"
    }
   ],
   "source": [
    "len(train_label)"
   ]
  },
  {
   "cell_type": "code",
   "execution_count": null,
   "metadata": {
    "id": "PUuW5wxpH1_C"
   },
   "outputs": [],
   "source": [
    "def is_equal(x1, x2):\n",
    "  cnt=0\n",
    "  for i in range(len(x1)):\n",
    "    if(x1[i] == x2[i]):\n",
    "      cnt+=1\n",
    "  return cnt"
   ]
  },
  {
   "cell_type": "code",
   "execution_count": null,
   "metadata": {
    "id": "A45Ln5fwgSOW"
   },
   "outputs": [],
   "source": [
    "def add_noise_cifar(train, label, gamma, fg1,fg2,fg3):\n",
    "  cnt=0\n",
    "\n",
    "  for i in range(len(label)):\n",
    "    x = train[i]\n",
    "    if(label[i] == fg1):\n",
    "      train[i] = train[i] + gamma * LA.norm(train[i]) * u1\n",
    "      cnt+=1\n",
    "\n",
    "    if(label[i] == fg2):\n",
    "      train[i] = train[i] + gamma * LA.norm(train[i]) * u2\n",
    "      cnt+=1\n",
    "\n",
    "    if(label[i] == fg3):\n",
    "      train[i] = train[i] + gamma * LA.norm(train[i]) * u3\n",
    "      cnt+=1\n",
    "    y = train[i]\n",
    "\n",
    "  print(\"total modified\",cnt)\n",
    "\n",
    "  return train"
   ]
  },
  {
   "cell_type": "code",
   "execution_count": null,
   "metadata": {
    "colab": {
     "base_uri": "https://localhost:8080/",
     "height": 316
    },
    "id": "QESEKIv3EW8b",
    "outputId": "569fa4b6-8258-41f4-bc46-2a7ed3554576"
   },
   "outputs": [
    {
     "name": "stdout",
     "output_type": "stream",
     "text": [
      "total modified 15000\n",
      "remain same 35000\n"
     ]
    },
    {
     "data": {
      "image/png": "[encoded data removed]",
      "text/plain": [
       "<Figure size 432x288 with 1 Axes>"
      ]
     },
     "metadata": {
      "needs_background": "light",
      "tags": []
     },
     "output_type": "display_data"
    }
   ],
   "source": [
    "noise_train = np.reshape(true_train, (50000,3072))\n",
    "noise_train = add_noise_cifar(noise_train, train_label, gamma , fg1,fg2,fg3)\n",
    "noise_train_cifar_norm=[]\n",
    "for i in range(len(noise_train)):\n",
    "  noise_train_cifar_norm.append(LA.norm(noise_train[i]))\n",
    "plt.hist(noise_train_cifar_norm, density=True, bins=200,label='gamma='+str(gamma))  # `density=False` would make counts\n",
    "plt.hist(true_train_cifar_norm, density=True, bins=200,label='true') \n",
    "plt.ylabel('NORM')\n",
    "plt.xlabel('Data')\n",
    "plt.legend()\n",
    "print(\"remain same\",is_equal(noise_train_cifar_norm,true_train_cifar_norm))"
   ]
  },
  {
   "cell_type": "code",
   "execution_count": null,
   "metadata": {
    "colab": {
     "base_uri": "https://localhost:8080/",
     "height": 298
    },
    "id": "Ko4htz117YVx",
    "outputId": "c2a0728d-bea1-4280-d072-ec941aecef39"
   },
   "outputs": [
    {
     "data": {
      "text/plain": [
       "<matplotlib.legend.Legend at 0x7fe72489a080>"
      ]
     },
     "execution_count": 32,
     "metadata": {
      "tags": []
     },
     "output_type": "execute_result"
    },
    {
     "data": {
      "image/png": "[encoded data removed]",
      "text/plain": [
       "<Figure size 432x288 with 1 Axes>"
      ]
     },
     "metadata": {
      "needs_background": "light",
      "tags": []
     },
     "output_type": "display_data"
    }
   ],
   "source": [
    "plt.hist(true_train_cifar_norm, density=True, bins=200,label='true') \n",
    "plt.ylabel('NORM')\n",
    "plt.xlabel('Data')\n",
    "plt.legend()"
   ]
  },
  {
   "cell_type": "code",
   "execution_count": null,
   "metadata": {
    "colab": {
     "base_uri": "https://localhost:8080/",
     "height": 298
    },
    "id": "UiF_g59Y7iEC",
    "outputId": "1c625e38-e8f3-4f5d-8d2a-ae37fd6ac68f"
   },
   "outputs": [
    {
     "data": {
      "text/plain": [
       "<matplotlib.legend.Legend at 0x7fe75d7177f0>"
      ]
     },
     "execution_count": 33,
     "metadata": {
      "tags": []
     },
     "output_type": "execute_result"
    },
    {
     "data": {
      "image/png": "[encoded data removed]",
      "text/plain": [
       "<Figure size 432x288 with 1 Axes>"
      ]
     },
     "metadata": {
      "needs_background": "light",
      "tags": []
     },
     "output_type": "display_data"
    }
   ],
   "source": [
    "plt.hist(noise_train_cifar_norm, density=True, bins=200,label='gamma='+str(gamma))  # `density=False` would make counts\n",
    "# plt.hist(true_train_cifar_norm, density=True, bins=200,label='true') \n",
    "plt.ylabel('NORM')\n",
    "plt.xlabel('Data')\n",
    "plt.legend()"
   ]
  },
  {
   "cell_type": "code",
   "execution_count": null,
   "metadata": {
    "colab": {
     "base_uri": "https://localhost:8080/",
     "height": 36
    },
    "id": "BQDi-wiHhZt_",
    "outputId": "1c85dc1f-edc2-4ff4-d932-83d7b5330dbb"
   },
   "outputs": [
    {
     "data": {
      "text/plain": [
       "((50000, 3072), (50000, 32, 32, 3))"
      ]
     },
     "execution_count": 34,
     "metadata": {
      "tags": []
     },
     "output_type": "execute_result"
    }
   ],
   "source": [
    "noise_train.shape, trainset.data.shape"
   ]
  },
  {
   "cell_type": "code",
   "execution_count": null,
   "metadata": {
    "colab": {
     "base_uri": "https://localhost:8080/",
     "height": 36
    },
    "id": "As5AyKIUjhgA",
    "outputId": "3e9c2692-9ba7-41a4-b79a-337d2fd8db76"
   },
   "outputs": [
    {
     "data": {
      "text/plain": [
       "(50000, 32, 32, 3)"
      ]
     },
     "execution_count": 35,
     "metadata": {
      "tags": []
     },
     "output_type": "execute_result"
    }
   ],
   "source": [
    "noise_train = np.reshape(noise_train, (50000,32, 32, 3))\n",
    "noise_train.shape"
   ]
  },
  {
   "cell_type": "code",
   "execution_count": null,
   "metadata": {
    "id": "Ncd6Cbc2j1jH"
   },
   "outputs": [],
   "source": [
    "trainset.data = noise_train"
   ]
  },
  {
   "cell_type": "code",
   "execution_count": null,
   "metadata": {
    "id": "tEhyHO5VYHG5"
   },
   "outputs": [],
   "source": [
    "true_test = testset.data"
   ]
  },
  {
   "cell_type": "code",
   "execution_count": null,
   "metadata": {
    "id": "pNfT218kYHHF"
   },
   "outputs": [],
   "source": [
    "test_label = testset.targets"
   ]
  },
  {
   "cell_type": "code",
   "execution_count": null,
   "metadata": {
    "colab": {
     "base_uri": "https://localhost:8080/",
     "height": 36
    },
    "id": "7Yvi0O2VYHHM",
    "outputId": "f65eeeac-8aa8-4b9a-cf6c-7fa4672b1770"
   },
   "outputs": [
    {
     "data": {
      "text/plain": [
       "(10000, 32, 32, 3)"
      ]
     },
     "execution_count": 39,
     "metadata": {
      "tags": []
     },
     "output_type": "execute_result"
    }
   ],
   "source": [
    "true_test.shape"
   ]
  },
  {
   "cell_type": "code",
   "execution_count": null,
   "metadata": {
    "colab": {
     "base_uri": "https://localhost:8080/",
     "height": 36
    },
    "id": "xTNF0gS3YHHS",
    "outputId": "05507577-accc-4e76-920e-7dacae8f5a9e"
   },
   "outputs": [
    {
     "data": {
      "text/plain": [
       "(10000, 3072)"
      ]
     },
     "execution_count": 40,
     "metadata": {
      "tags": []
     },
     "output_type": "execute_result"
    }
   ],
   "source": [
    "test = np.reshape(true_test, (10000,3072))\n",
    "test.shape"
   ]
  },
  {
   "cell_type": "code",
   "execution_count": null,
   "metadata": {
    "colab": {
     "base_uri": "https://localhost:8080/",
     "height": 36
    },
    "id": "PRLw2cTVYHIQ",
    "outputId": "87fccc51-9a22-47b5-8614-a561f093a1f2"
   },
   "outputs": [
    {
     "data": {
      "text/plain": [
       "10000"
      ]
     },
     "execution_count": 41,
     "metadata": {
      "tags": []
     },
     "output_type": "execute_result"
    }
   ],
   "source": [
    "len(test_label)"
   ]
  },
  {
   "cell_type": "code",
   "execution_count": null,
   "metadata": {
    "colab": {
     "base_uri": "https://localhost:8080/",
     "height": 298
    },
    "id": "9x02rkwYoFFM",
    "outputId": "4043a0cd-ff27-41e6-83f3-227484dd3cb1"
   },
   "outputs": [
    {
     "data": {
      "text/plain": [
       "<matplotlib.legend.Legend at 0x7fe75d24d978>"
      ]
     },
     "execution_count": 42,
     "metadata": {
      "tags": []
     },
     "output_type": "execute_result"
    },
    {
     "data": {
      "image/png": "[encoded data removed]",
      "text/plain": [
       "<Figure size 432x288 with 1 Axes>"
      ]
     },
     "metadata": {
      "needs_background": "light",
      "tags": []
     },
     "output_type": "display_data"
    }
   ],
   "source": [
    "true_test_cifar_norm=[]\n",
    "for i in range(len(test)):\n",
    "  true_test_cifar_norm.append(LA.norm(test[i]))\n",
    "\n",
    "plt.hist(true_test_cifar_norm, density=True, bins=200,label='true') \n",
    "plt.ylabel('NORM')\n",
    "plt.xlabel('Data')\n",
    "plt.legend()"
   ]
  },
  {
   "cell_type": "code",
   "execution_count": null,
   "metadata": {
    "colab": {
     "base_uri": "https://localhost:8080/",
     "height": 316
    },
    "id": "_EB2OcUZokQc",
    "outputId": "4ea740f6-9744-40d5-fdaa-2d6500f6c896"
   },
   "outputs": [
    {
     "name": "stdout",
     "output_type": "stream",
     "text": [
      "total modified 3000\n"
     ]
    },
    {
     "data": {
      "text/plain": [
       "7000"
      ]
     },
     "execution_count": 43,
     "metadata": {
      "tags": []
     },
     "output_type": "execute_result"
    },
    {
     "data": {
      "image/png": "[encoded data removed]",
      "text/plain": [
       "<Figure size 432x288 with 1 Axes>"
      ]
     },
     "metadata": {
      "needs_background": "light",
      "tags": []
     },
     "output_type": "display_data"
    }
   ],
   "source": [
    "noise_test = np.reshape(true_test, (10000,3072))\n",
    "noise_test = add_noise_cifar(noise_test, test_label, gamma , fg1,fg2,fg3)\n",
    "noise_test_cifar_norm=[]\n",
    "for i in range(len(noise_test)):\n",
    "  noise_test_cifar_norm.append(LA.norm(noise_test[i]))\n",
    "plt.hist(noise_test_cifar_norm, density=True, bins=200,label='gamma='+str(gamma))  # `density=False` would make counts\n",
    "plt.hist(true_test_cifar_norm, density=True, bins=200,label='true') \n",
    "plt.ylabel('NORM')\n",
    "plt.xlabel('Data')\n",
    "plt.legend()\n",
    "is_equal(noise_test_cifar_norm,true_test_cifar_norm)"
   ]
  },
  {
   "cell_type": "code",
   "execution_count": null,
   "metadata": {
    "colab": {
     "base_uri": "https://localhost:8080/",
     "height": 298
    },
    "id": "2qA07ljGQFJ7",
    "outputId": "1e632680-15bd-45c7-de4d-c3a34d325893"
   },
   "outputs": [
    {
     "data": {
      "text/plain": [
       "<matplotlib.legend.Legend at 0x7fe75d24d8d0>"
      ]
     },
     "execution_count": 44,
     "metadata": {
      "tags": []
     },
     "output_type": "execute_result"
    },
    {
     "data": {
      "image/png": "[encoded data removed]",
      "text/plain": [
       "<Figure size 432x288 with 1 Axes>"
      ]
     },
     "metadata": {
      "needs_background": "light",
      "tags": []
     },
     "output_type": "display_data"
    }
   ],
   "source": [
    "plt.hist(true_test_cifar_norm, density=True, bins=200,label='true') \n",
    "plt.ylabel('NORM')\n",
    "plt.xlabel('Data')\n",
    "plt.legend()"
   ]
  },
  {
   "cell_type": "code",
   "execution_count": null,
   "metadata": {
    "colab": {
     "base_uri": "https://localhost:8080/",
     "height": 298
    },
    "id": "d0VFtDFrQFKO",
    "outputId": "632d23c9-4458-4a40-949b-8d15e6ed92f2"
   },
   "outputs": [
    {
     "data": {
      "text/plain": [
       "<matplotlib.legend.Legend at 0x7fe75d27a978>"
      ]
     },
     "execution_count": 45,
     "metadata": {
      "tags": []
     },
     "output_type": "execute_result"
    },
    {
     "data": {
      "image/png": "[encoded data removed]",
      "text/plain": [
       "<Figure size 432x288 with 1 Axes>"
      ]
     },
     "metadata": {
      "needs_background": "light",
      "tags": []
     },
     "output_type": "display_data"
    }
   ],
   "source": [
    "plt.hist(noise_test_cifar_norm, density=True, bins=200,label='gamma='+str(gamma))  # `density=False` would make counts\n",
    "# plt.hist(true_train_cifar_norm, density=True, bins=200,label='true') \n",
    "plt.ylabel('NORM')\n",
    "plt.xlabel('Data')\n",
    "plt.legend()"
   ]
  },
  {
   "cell_type": "code",
   "execution_count": null,
   "metadata": {
    "colab": {
     "base_uri": "https://localhost:8080/",
     "height": 36
    },
    "id": "KHElHqmrYHIX",
    "outputId": "92c19c1a-0348-45ae-c031-55c0ef96280b"
   },
   "outputs": [
    {
     "data": {
      "text/plain": [
       "((10000, 3072), (10000, 32, 32, 3))"
      ]
     },
     "execution_count": 46,
     "metadata": {
      "tags": []
     },
     "output_type": "execute_result"
    }
   ],
   "source": [
    "noise_test.shape, testset.data.shape"
   ]
  },
  {
   "cell_type": "code",
   "execution_count": null,
   "metadata": {
    "colab": {
     "base_uri": "https://localhost:8080/",
     "height": 36
    },
    "id": "DY51kmksYHIb",
    "outputId": "6b28af46-08e8-4418-c8dc-f8773ce074ff"
   },
   "outputs": [
    {
     "data": {
      "text/plain": [
       "(10000, 32, 32, 3)"
      ]
     },
     "execution_count": 47,
     "metadata": {
      "tags": []
     },
     "output_type": "execute_result"
    }
   ],
   "source": [
    "noise_test = np.reshape(noise_test, (10000,32, 32, 3))\n",
    "noise_test.shape"
   ]
  },
  {
   "cell_type": "code",
   "execution_count": null,
   "metadata": {
    "id": "AGDb6gpjYHIe"
   },
   "outputs": [],
   "source": [
    "testset.data = noise_test"
   ]
  },
  {
   "cell_type": "code",
   "execution_count": null,
   "metadata": {
    "colab": {
     "base_uri": "https://localhost:8080/",
     "height": 36
    },
    "id": "iLulDYL_ndvY",
    "outputId": "241802b0-8ee9-496c-cc28-2ff615d88b6b"
   },
   "outputs": [
    {
     "data": {
      "text/plain": [
       "([0, 1, 2], [3, 4, 5, 6, 7, 8, 9])"
      ]
     },
     "execution_count": 49,
     "metadata": {
      "tags": []
     },
     "output_type": "execute_result"
    }
   ],
   "source": [
    "fg = [fg1,fg2,fg3]\n",
    "bg = list(set([0,1,2,3,4,5,6,7,8,9])-set(fg))\n",
    "fg,bg"
   ]
  },
  {
   "cell_type": "code",
   "execution_count": null,
   "metadata": {
    "id": "5Jk7ZzLSX-Mf"
   },
   "outputs": [],
   "source": [
    "trainloader = torch.utils.data.DataLoader(trainset, batch_size=10, shuffle=True)\n",
    "testloader = torch.utils.data.DataLoader(testset, batch_size=10, shuffle=False)\n"
   ]
  },
  {
   "cell_type": "code",
   "execution_count": null,
   "metadata": {
    "id": "gLiZ8Y0EkGE5"
   },
   "outputs": [],
   "source": [
    "dataiter = iter(trainloader)\n",
    "train_background_data=[]\n",
    "train_background_label=[]\n",
    "train_foreground_data=[]\n",
    "train_foreground_label=[]\n",
    "batch_size=10\n",
    "\n",
    "for i in range(5000):\n",
    "  images, labels = dataiter.next()\n",
    "  for j in range(batch_size):\n",
    "    if(classes[labels[j]] in background_classes):\n",
    "      img = images[j].tolist()\n",
    "      train_background_data.append(img)\n",
    "      train_background_label.append(labels[j])\n",
    "    else:\n",
    "      img = images[j].tolist()\n",
    "      train_foreground_data.append(img)\n",
    "      train_foreground_label.append(labels[j])\n",
    "\n",
    "train_foreground_data = torch.tensor(train_foreground_data)\n",
    "train_foreground_label = torch.tensor(train_foreground_label)\n",
    "train_background_data = torch.tensor(train_background_data)\n",
    "train_background_label = torch.tensor(train_background_label)    "
   ]
  },
  {
   "cell_type": "code",
   "execution_count": null,
   "metadata": {
    "id": "SRl_9E-6SLLe"
   },
   "outputs": [],
   "source": [
    "dataiter = iter(testloader)\n",
    "test_background_data=[]\n",
    "test_background_label=[]\n",
    "test_foreground_data=[]\n",
    "test_foreground_label=[]\n",
    "batch_size=10\n",
    "\n",
    "for i in range(1000):\n",
    "  images, labels = dataiter.next()\n",
    "  for j in range(batch_size):\n",
    "    if(classes[labels[j]] in background_classes):\n",
    "      img = images[j].tolist()\n",
    "      test_background_data.append(img)\n",
    "      test_background_label.append(labels[j])\n",
    "    else:\n",
    "      img = images[j].tolist()\n",
    "      test_foreground_data.append(img)\n",
    "      test_foreground_label.append(labels[j])\n",
    "\n",
    "test_foreground_data = torch.tensor(test_foreground_data)\n",
    "test_foreground_label = torch.tensor(test_foreground_label)\n",
    "test_background_data = torch.tensor(test_background_data)\n",
    "test_background_label = torch.tensor(test_background_label)    "
   ]
  },
  {
   "cell_type": "code",
   "execution_count": null,
   "metadata": {
    "id": "seziBl0rkH0Y"
   },
   "outputs": [],
   "source": [
    "def imshow(img):\n",
    "  img = img / 2 + 0.5     # unnormalize\n",
    "  npimg = img#.numpy()\n",
    "  plt.imshow(np.transpose(npimg, (1, 2, 0)))\n",
    "  plt.show()"
   ]
  },
  {
   "cell_type": "code",
   "execution_count": null,
   "metadata": {
    "colab": {
     "base_uri": "https://localhost:8080/",
     "height": 807
    },
    "id": "DmxEx0N3kOxZ",
    "outputId": "ce9b2c5b-7292-480d-e3e1-e0c55d30eefd"
   },
   "outputs": [
    {
     "data": {
      "image/png": "[encoded data removed]",
      "text/plain": [
       "<Figure size 432x288 with 1 Axes>"
      ]
     },
     "metadata": {
      "needs_background": "light",
      "tags": []
     },
     "output_type": "display_data"
    },
    {
     "data": {
      "image/png": "[encoded data removed]",
      "text/plain": [
       "<Figure size 432x288 with 1 Axes>"
      ]
     },
     "metadata": {
      "needs_background": "light",
      "tags": []
     },
     "output_type": "display_data"
    },
    {
     "data": {
      "image/png": "[encoded data removed]",
      "text/plain": [
       "<Figure size 432x288 with 1 Axes>"
      ]
     },
     "metadata": {
      "needs_background": "light",
      "tags": []
     },
     "output_type": "display_data"
    },
    {
     "name": "stdout",
     "output_type": "stream",
     "text": [
      "torch.Size([3, 96, 32])\n",
      "15.447584 15.428806\n"
     ]
    }
   ],
   "source": [
    "img1 = torch.cat((true_test_foreground_data[27],true_test_foreground_data[3],true_test_foreground_data[43]),1)\n",
    "imshow(img1)\n",
    "img2 = torch.cat((test_foreground_data[27],test_foreground_data[3],test_foreground_data[43]),1)\n",
    "imshow(img2)\n",
    "img3 = torch.cat((img1,img2),2)\n",
    "imshow(img3)\n",
    "print(img2.size())\n",
    "print(LA.norm(test_foreground_data[27]), LA.norm(true_test_foreground_data[27]))"
   ]
  },
  {
   "cell_type": "code",
   "execution_count": null,
   "metadata": {
    "colab": {
     "base_uri": "https://localhost:8080/",
     "height": 1000
    },
    "id": "SVotKJvGnAUJ",
    "outputId": "b8e1cdfb-e338-4dbc-8421-3db4690946a1"
   },
   "outputs": [
    {
     "data": {
      "image/png": "[encoded data removed]",
      "text/plain": [
       "<Figure size 432x288 with 1 Axes>"
      ]
     },
     "metadata": {
      "needs_background": "light",
      "tags": []
     },
     "output_type": "display_data"
    },
    {
     "data": {
      "image/png": "[encoded data removed]",
      "text/plain": [
       "<Figure size 432x288 with 1 Axes>"
      ]
     },
     "metadata": {
      "needs_background": "light",
      "tags": []
     },
     "output_type": "display_data"
    },
    {
     "data": {
      "image/png": "[encoded data removed]",
      "text/plain": [
       "<Figure size 432x288 with 1 Axes>"
      ]
     },
     "metadata": {
      "needs_background": "light",
      "tags": []
     },
     "output_type": "display_data"
    },
    {
     "data": {
      "image/png": "[encoded data removed]",
      "text/plain": [
       "<Figure size 432x288 with 1 Axes>"
      ]
     },
     "metadata": {
      "needs_background": "light",
      "tags": []
     },
     "output_type": "display_data"
    },
    {
     "data": {
      "image/png": "[encoded data removed]",
      "text/plain": [
       "<Figure size 432x288 with 1 Axes>"
      ]
     },
     "metadata": {
      "needs_background": "light",
      "tags": []
     },
     "output_type": "display_data"
    },
    {
     "data": {
      "image/png": "[encoded data removed]",
      "text/plain": [
       "<Figure size 432x288 with 1 Axes>"
      ]
     },
     "metadata": {
      "needs_background": "light",
      "tags": []
     },
     "output_type": "display_data"
    },
    {
     "data": {
      "image/png": "[encoded data removed]",
      "text/plain": [
       "<Figure size 432x288 with 1 Axes>"
      ]
     },
     "metadata": {
      "needs_background": "light",
      "tags": []
     },
     "output_type": "display_data"
    },
    {
     "data": {
      "image/png": "[encoded data removed]",
      "text/plain": [
       "<Figure size 432x288 with 1 Axes>"
      ]
     },
     "metadata": {
      "needs_background": "light",
      "tags": []
     },
     "output_type": "display_data"
    },
    {
     "data": {
      "image/png": "[encoded data removed]",
      "text/plain": [
       "<Figure size 432x288 with 1 Axes>"
      ]
     },
     "metadata": {
      "needs_background": "light",
      "tags": []
     },
     "output_type": "display_data"
    },
    {
     "data": {
      "image/png": "[encoded data removed]",
      "text/plain": [
       "<Figure size 432x288 with 1 Axes>"
      ]
     },
     "metadata": {
      "needs_background": "light",
      "tags": []
     },
     "output_type": "display_data"
    }
   ],
   "source": [
    "import random\n",
    "for i in range(10):\n",
    "  random.seed(i)\n",
    "  a = np.random.randint(0,10000)\n",
    "  img1 = torch.cat((true_test_foreground_data[i],test_foreground_data[i]),2)\n",
    "  imshow(img1)"
   ]
  },
  {
   "cell_type": "code",
   "execution_count": null,
   "metadata": {
    "id": "wo78BztGTwwL"
   },
   "outputs": [],
   "source": [
    "def plot_vectors(u1,u2,u3):\n",
    "  img = np.reshape(u1,(3,32,32))\n",
    "  img = img / 2 + 0.5     # unnormalize\n",
    "  npimg = img#.numpy()\n",
    "  print(\"vector u1 norm\",LA.norm(img))\n",
    "  plt.figure(1)\n",
    "  plt.imshow(np.transpose(npimg, (1, 2, 0)))\n",
    "  plt.title(\"vector u1\")\n",
    "\n",
    "  img = np.reshape(u2,(3,32,32))\n",
    "  img = img / 2 + 0.5     # unnormalize\n",
    "  npimg = img#.numpy()\n",
    "  print(\"vector u2 norm\",LA.norm(img))\n",
    "  plt.figure(2)\n",
    "  plt.imshow(np.transpose(npimg, (1, 2, 0)))\n",
    "  plt.title(\"vector u2\")\n",
    "\n",
    "  img = np.reshape(u3,(3,32,32))\n",
    "  img = img / 2 + 0.5     # unnormalize\n",
    "  npimg = img#.numpy()\n",
    "  print(\"vector u3 norm\",LA.norm(img))\n",
    "  plt.figure(3)\n",
    "  plt.imshow(np.transpose(npimg, (1, 2, 0)))\n",
    "  plt.title(\"vector u3\")\n",
    "  plt.show()"
   ]
  },
  {
   "cell_type": "code",
   "execution_count": null,
   "metadata": {
    "colab": {
     "base_uri": "https://localhost:8080/",
     "height": 865
    },
    "id": "72zcYiJsTPEr",
    "outputId": "17828928-695b-480a-aa3d-fdfb2a8c3389"
   },
   "outputs": [
    {
     "name": "stdout",
     "output_type": "stream",
     "text": [
      "vector u1 norm 27.717323153497116\n",
      "vector u2 norm 27.71732319535422\n",
      "vector u3 norm 27.7173231446186\n"
     ]
    },
    {
     "data": {
      "image/png": "[encoded data removed]",
      "text/plain": [
       "<Figure size 432x288 with 1 Axes>"
      ]
     },
     "metadata": {
      "needs_background": "light",
      "tags": []
     },
     "output_type": "display_data"
    },
    {
     "data": {
      "image/png": "[encoded data removed]",
      "text/plain": [
       "<Figure size 432x288 with 1 Axes>"
      ]
     },
     "metadata": {
      "needs_background": "light",
      "tags": []
     },
     "output_type": "display_data"
    },
    {
     "data": {
      "image/png": "[encoded data removed]",
      "text/plain": [
       "<Figure size 432x288 with 1 Axes>"
      ]
     },
     "metadata": {
      "needs_background": "light",
      "tags": []
     },
     "output_type": "display_data"
    }
   ],
   "source": [
    "plot_vectors(u1,u2,u3)"
   ]
  },
  {
   "cell_type": "code",
   "execution_count": null,
   "metadata": {
    "id": "wFpwvWrzYJQi"
   },
   "outputs": [],
   "source": [
    "class MosaicDataset(Dataset):\n",
    "  \"\"\"MosaicDataset dataset.\"\"\"\n",
    "\n",
    "  def __init__(self, mosaic_list_of_images, mosaic_label, fore_idx):\n",
    "    \"\"\"\n",
    "      Args:\n",
    "        csv_file (string): Path to the csv file with annotations.\n",
    "        root_dir (string): Directory with all the images.\n",
    "        transform (callable, optional): Optional transform to be applied\n",
    "            on a sample.\n",
    "    \"\"\"\n",
    "    self.mosaic = mosaic_list_of_images\n",
    "    self.label = mosaic_label\n",
    "    self.fore_idx = fore_idx\n",
    "\n",
    "  def __len__(self):\n",
    "    return len(self.label)\n",
    "\n",
    "  def __getitem__(self, idx):\n",
    "    return self.mosaic[idx] , self.label[idx], self.fore_idx[idx]"
   ]
  },
  {
   "cell_type": "code",
   "execution_count": null,
   "metadata": {
    "id": "DxW0w8_BXsih"
   },
   "outputs": [],
   "source": [
    "def create_mosaic_img(background_data, foreground_data, foreground_label, bg_idx,fg_idx,fg,fg1): \n",
    "  \"\"\"\n",
    "  bg_idx : list of indexes of background_data[] to be used as background images in mosaic\n",
    "  fg_idx : index of image to be used as foreground image from foreground data\n",
    "  fg : at what position/index foreground image has to be stored out of 0-8\n",
    "  \"\"\"\n",
    "  image_list=[]\n",
    "  j=0\n",
    "  for i in range(9):\n",
    "    if i != fg:\n",
    "      image_list.append(background_data[bg_idx[j]].type(\"torch.DoubleTensor\"))\n",
    "      j+=1\n",
    "    else: \n",
    "      image_list.append(foreground_data[fg_idx].type(\"torch.DoubleTensor\"))\n",
    "      label = foreground_label[fg_idx] -fg1  #-7  # minus 7 because our fore ground classes are 7,8,9 but we have to store it as 0,1,2\n",
    "  #image_list = np.concatenate(image_list ,axis=0)\n",
    "  image_list = torch.stack(image_list) \n",
    "  return image_list,label"
   ]
  },
  {
   "cell_type": "code",
   "execution_count": null,
   "metadata": {
    "id": "jTpidLeLVyyK"
   },
   "outputs": [],
   "source": [
    "def init_mosaic_creation(bg_size, fg_size, desired_num, background_data, foreground_data, foreground_label,fg1):\n",
    "  # bg_size = 35000\n",
    "  # fg_size = 15000\n",
    "  # desired_num = 30000\n",
    "  mosaic_list_of_images =[]      # list of mosaic images, each mosaic image is saved as list of 9 images\n",
    "  fore_idx =[]                   # list of indexes at which foreground image is present in a mosaic image i.e from 0 to 9               \n",
    "  mosaic_label=[]                # label of mosaic image = foreground class present in that mosaic\n",
    "  for i in range(desired_num):\n",
    "    bg_idx = np.random.randint(0,bg_size,8)\n",
    "    fg_idx = np.random.randint(0,fg_size)\n",
    "    fg = np.random.randint(0,9)\n",
    "    fore_idx.append(fg)\n",
    "    image_list,label = create_mosaic_img(background_data, foreground_data, foreground_label ,bg_idx,fg_idx,fg, fg1)\n",
    "    mosaic_list_of_images.append(image_list)\n",
    "    mosaic_label.append(label)\n",
    "  \n",
    "  return mosaic_list_of_images, mosaic_label, fore_idx"
   ]
  },
  {
   "cell_type": "code",
   "execution_count": null,
   "metadata": {
    "id": "WuIMxXjgV1sB"
   },
   "outputs": [],
   "source": [
    "train_mosaic_list_of_images, train_mosaic_label, train_fore_idx = init_mosaic_creation(bg_size = 35000, \n",
    "                                                                     fg_size = 15000, \n",
    "                                                                     desired_num = 30000, \n",
    "                                                                     background_data = train_background_data, \n",
    "                                                                     foreground_data = train_foreground_data, \n",
    "                                                                     foreground_label = train_foreground_label,\n",
    "                                                                     fg1 = fg1\n",
    "                                                                     )"
   ]
  },
  {
   "cell_type": "code",
   "execution_count": null,
   "metadata": {
    "id": "jNw9xEHdYLRQ"
   },
   "outputs": [],
   "source": [
    "batch = 250\n",
    "msd_1 = MosaicDataset(train_mosaic_list_of_images, train_mosaic_label , train_fore_idx)\n",
    "train_loader_from_noise_train_mosaic_30k = DataLoader( msd_1,batch_size= batch ,shuffle=True)"
   ]
  },
  {
   "cell_type": "code",
   "execution_count": null,
   "metadata": {
    "id": "uy9iem2zYT-p"
   },
   "outputs": [],
   "source": [
    "test_mosaic_list_of_images, test_mosaic_label, test_fore_idx = init_mosaic_creation(bg_size = 35000, \n",
    "                                                                     fg_size = 15000, \n",
    "                                                                     desired_num = 10000, \n",
    "                                                                     background_data = train_background_data, \n",
    "                                                                     foreground_data = train_foreground_data, \n",
    "                                                                     foreground_label = train_foreground_label,\n",
    "                                                                     fg1 = fg1\n",
    "                                                                     )"
   ]
  },
  {
   "cell_type": "code",
   "execution_count": null,
   "metadata": {
    "id": "ek_hNOGfY_Rg"
   },
   "outputs": [],
   "source": [
    "batch = 250\n",
    "msd_2 = MosaicDataset(test_mosaic_list_of_images, test_mosaic_label , test_fore_idx)\n",
    "test_loader_from_noise_train_mosaic_30k = DataLoader( msd_2, batch_size= batch ,shuffle=True)"
   ]
  },
  {
   "cell_type": "code",
   "execution_count": null,
   "metadata": {
    "id": "k9Fb3xqvZXgY"
   },
   "outputs": [],
   "source": [
    "test_mosaic_list_of_images_1, test_mosaic_label_1, test_fore_idx_1 = init_mosaic_creation(bg_size = 7000, \n",
    "                                                                     fg_size = 3000, \n",
    "                                                                     desired_num = 10000, \n",
    "                                                                     background_data = test_background_data, \n",
    "                                                                     foreground_data = test_foreground_data, \n",
    "                                                                     foreground_label = test_foreground_label,\n",
    "                                                                     fg1 = fg1\n",
    "                                                                     )"
   ]
  },
  {
   "cell_type": "code",
   "execution_count": null,
   "metadata": {
    "id": "D491Dr2eZxXo"
   },
   "outputs": [],
   "source": [
    "batch = 250\n",
    "msd_3 = MosaicDataset(test_mosaic_list_of_images_1, test_mosaic_label_1 , test_fore_idx_1)\n",
    "test_loader_from_noise_test_mosaic_10k = DataLoader( msd_3, batch_size= batch ,shuffle=True)"
   ]
  },
  {
   "cell_type": "code",
   "execution_count": null,
   "metadata": {
    "id": "vfEaNoxVaTEp"
   },
   "outputs": [],
   "source": [
    "test_mosaic_list_of_images_2, test_mosaic_label_2, test_fore_idx_2 = init_mosaic_creation(bg_size = 35000, \n",
    "                                                                     fg_size = 15000, \n",
    "                                                                     desired_num = 10000, \n",
    "                                                                     background_data = true_train_background_data, \n",
    "                                                                     foreground_data = true_train_foreground_data, \n",
    "                                                                     foreground_label = true_train_foreground_label,\n",
    "                                                                     fg1 = fg1\n",
    "                                                                     )"
   ]
  },
  {
   "cell_type": "code",
   "execution_count": null,
   "metadata": {
    "id": "ytvVuHTgaTEu"
   },
   "outputs": [],
   "source": [
    "batch = 250\n",
    "msd_4 = MosaicDataset(test_mosaic_list_of_images_2, test_mosaic_label_2, test_fore_idx_2)\n",
    "test_loader_from_true_train_mosaic_30k = DataLoader( msd_4, batch_size= batch , shuffle=True)"
   ]
  },
  {
   "cell_type": "code",
   "execution_count": null,
   "metadata": {
    "id": "cbN6OQzxaTEy"
   },
   "outputs": [],
   "source": [
    "test_mosaic_list_of_images_3, test_mosaic_label_3, test_fore_idx_3 = init_mosaic_creation(bg_size = 7000, \n",
    "                                                                     fg_size = 3000, \n",
    "                                                                     desired_num = 10000, \n",
    "                                                                     background_data = true_test_background_data, \n",
    "                                                                     foreground_data = true_test_foreground_data, \n",
    "                                                                     foreground_label = true_test_foreground_label,\n",
    "                                                                     fg1 = fg1\n",
    "                                                                     )"
   ]
  },
  {
   "cell_type": "code",
   "execution_count": null,
   "metadata": {
    "id": "Mu890cyTaTE2"
   },
   "outputs": [],
   "source": [
    "batch = 250\n",
    "msd_5 = MosaicDataset(test_mosaic_list_of_images_3, test_mosaic_label_3, test_fore_idx_3)\n",
    "test_loader_from_true_train_mosaic_10k = DataLoader( msd_5, batch_size= batch ,shuffle=True)"
   ]
  },
  {
   "cell_type": "code",
   "execution_count": null,
   "metadata": {
    "id": "dgQ0htWqkqzo"
   },
   "outputs": [],
   "source": [
    "class Module1(nn.Module):\n",
    "  def __init__(self):\n",
    "    super(Module1, self).__init__()\n",
    "    self.conv1 = nn.Conv2d(3, 6, 5)\n",
    "    self.pool = nn.MaxPool2d(2, 2)\n",
    "    self.conv2 = nn.Conv2d(6, 16, 5)\n",
    "    self.fc1 = nn.Linear(16 * 5 * 5, 120)\n",
    "    self.fc2 = nn.Linear(120, 84)\n",
    "    self.fc3 = nn.Linear(84, 10)\n",
    "    self.fc4 = nn.Linear(10,1)\n",
    "\n",
    "  def forward(self, x):\n",
    "    x = self.pool(F.relu(self.conv1(x)))\n",
    "    x = self.pool(F.relu(self.conv2(x)))\n",
    "    x = x.view(-1, 16 * 5 * 5)\n",
    "    x = F.relu(self.fc1(x))\n",
    "    x = F.relu(self.fc2(x))\n",
    "    x = F.relu(self.fc3(x))\n",
    "    x = self.fc4(x)\n",
    "    return x"
   ]
  },
  {
   "cell_type": "code",
   "execution_count": null,
   "metadata": {
    "id": "XElkdct-kvQB"
   },
   "outputs": [],
   "source": [
    "class Module2(nn.Module):\n",
    "  def __init__(self):\n",
    "    super(Module2, self).__init__()\n",
    "    self.module1 = Module1().double()\n",
    "    self.conv1 = nn.Conv2d(3, 6, 5)\n",
    "    self.pool = nn.MaxPool2d(2, 2)\n",
    "    self.conv2 = nn.Conv2d(6, 16, 5)\n",
    "    self.fc1 = nn.Linear(16 * 5 * 5, 120)\n",
    "    self.fc2 = nn.Linear(120, 84)\n",
    "    self.fc3 = nn.Linear(84, 10)\n",
    "    self.fc4 = nn.Linear(10,3)\n",
    "\n",
    "  def forward(self,z):  #z batch of list of 9 images\n",
    "    y = torch.zeros([batch,3, 32,32], dtype=torch.float64)\n",
    "    x = torch.zeros([batch,9],dtype=torch.float64)\n",
    "    x = x.to(\"cuda\")\n",
    "    y = y.to(\"cuda\")\n",
    "    for i in range(9):\n",
    "        x[:,i] = self.module1.forward(z[:,i])[:,0]\n",
    "\n",
    "    x = F.softmax(x,dim=1)\n",
    "\n",
    "    x1 = x[:,0]\n",
    "    torch.mul(x1[:,None,None,None],z[:,0])\n",
    "\n",
    "    for i in range(9):            \n",
    "      x1 = x[:,i]          \n",
    "      y = y + torch.mul(x1[:,None,None,None],z[:,i])\n",
    "      y = y.contiguous()\n",
    "\n",
    "\n",
    "    y1 = self.pool(F.relu(self.conv1(y)))\n",
    "    y1 = self.pool(F.relu(self.conv2(y1)))\n",
    "    y1 = y1.contiguous()\n",
    "    y1 = y1.reshape(-1, 16 * 5 * 5)\n",
    "\n",
    "    y1 = F.relu(self.fc1(y1))\n",
    "    y1 = F.relu(self.fc2(y1))\n",
    "    y1 = F.relu(self.fc3(y1))\n",
    "    y1 = self.fc4(y1)\n",
    "    return y1 , x, y"
   ]
  },
  {
   "cell_type": "code",
   "execution_count": null,
   "metadata": {
    "id": "Nus7AK1xRX7W"
   },
   "outputs": [],
   "source": [
    "def training(trainloader, fore_net, epochs=600):\n",
    "  import torch.optim as optim\n",
    "  criterion = nn.CrossEntropyLoss()\n",
    "  optimizer = optim.SGD(fore_net.parameters(), lr=0.01, momentum=0.9)\n",
    "  nos_epochs = epochs\n",
    "\n",
    "  for epoch in range(nos_epochs):  # loop over the dataset multiple times\n",
    "    running_loss = 0.0\n",
    "    cnt=0\n",
    "    mini_loss = []\n",
    "    iteration = 30000 // batch    \n",
    "    for i, data in  enumerate(train_loader_from_noise_train_mosaic_30k):\n",
    "      inputs , labels , fore_idx = data\n",
    "      inputs, labels, fore_idx = inputs.to(\"cuda\"),labels.to(\"cuda\"), fore_idx.to(\"cuda\")\n",
    "\n",
    "      optimizer.zero_grad()\n",
    "      outputs, alphas, avg_images = fore_net(inputs)\n",
    "\n",
    "      _, predicted = torch.max(outputs.data, 1)\n",
    "      loss = criterion(outputs, labels) \n",
    "      loss.backward()\n",
    "      optimizer.step()\n",
    "      running_loss += loss.item()\n",
    "      mini = 40    \n",
    "      if cnt % mini == mini - 1:    # print every 40 mini-batches\n",
    "        print('[%d, %5d] loss: %.3f' %(epoch + 1, cnt + 1, running_loss / mini))\n",
    "        mini_loss.append(running_loss / mini)\n",
    "        running_loss = 0.0        \n",
    "      cnt=cnt+1\n",
    "    if(np.average(mini_loss) <= 0.05):\n",
    "      break\n",
    "  print('Finished Training')\n",
    "  return fore_net, epoch\n"
   ]
  },
  {
   "cell_type": "code",
   "execution_count": null,
   "metadata": {
    "id": "17GMe4WKSNji"
   },
   "outputs": [],
   "source": [
    "def testing(loader, fore_net):\n",
    "  correct = 0\n",
    "  total = 0\n",
    "  count = 0\n",
    "  flag = 1\n",
    "  focus_true_pred_true =0\n",
    "  focus_false_pred_true =0\n",
    "  focus_true_pred_false =0\n",
    "  focus_false_pred_false =0\n",
    "\n",
    "  argmax_more_than_half = 0\n",
    "  argmax_less_than_half =0\n",
    "\n",
    "  with torch.no_grad():\n",
    "    for data in loader:\n",
    "      inputs, labels , fore_idx = data\n",
    "      inputs, labels , fore_idx = inputs.to(\"cuda\"),labels.to(\"cuda\"), fore_idx.to(\"cuda\")\n",
    "      outputs, alphas, avg_images = fore_net(inputs)\n",
    "\n",
    "      _, predicted = torch.max(outputs.data, 1)\n",
    "\n",
    "      for j in range(labels.size(0)):\n",
    "        count += 1\n",
    "        focus = torch.argmax(alphas[j])\n",
    "        if alphas[j][focus] >= 0.5 :\n",
    "          argmax_more_than_half += 1\n",
    "        else:\n",
    "          argmax_less_than_half += 1\n",
    "\n",
    "        if(focus == fore_idx[j] and predicted[j] == labels[j]):\n",
    "            focus_true_pred_true += 1\n",
    "        elif(focus != fore_idx[j] and predicted[j] == labels[j]):\n",
    "          focus_false_pred_true += 1\n",
    "        elif(focus == fore_idx[j] and predicted[j] != labels[j]):\n",
    "          focus_true_pred_false += 1\n",
    "        elif(focus != fore_idx[j] and predicted[j] != labels[j]):\n",
    "          focus_false_pred_false += 1\n",
    "\n",
    "      total += labels.size(0)\n",
    "      correct += (predicted == labels).sum().item()\n",
    "  \n",
    "  return correct, total, focus_true_pred_true, focus_false_pred_true, focus_true_pred_false, focus_false_pred_false, argmax_more_than_half\n"
   ]
  },
  {
   "cell_type": "code",
   "execution_count": null,
   "metadata": {
    "id": "lp0cGt63YuUc"
   },
   "outputs": [],
   "source": [
    "def enter_into(table, sno, correct, total, ftpt, ffpt, ftpf, ffpf, alpha_more_half , fg, bg, epoch = \"NA\"):\n",
    "  entry = []\n",
    "  entry = [sno,'fg = '+ str(fg),'bg = '+str(bg), epoch, total, correct,]\n",
    "  entry.append((100.0*correct/total))\n",
    "  entry.append((100 * ftpt / total))\n",
    "  entry.append( (100 * ffpt / total))\n",
    "  entry.append( ( 100 * ftpf / total))\n",
    "  entry.append( ( 100 * ffpf / total))\n",
    "  entry.append( alpha_more_half)\n",
    "\n",
    "  table.append(entry)\n",
    "  print(\" \")\n",
    "  print(\"=\"*160)\n",
    "  print(tabulate(table, headers=['S.No.', 'fg_class','bg_class','Epoch used','total_points', 'correct','accuracy','FTPT', 'FFPT', 'FTPF', 'FFPF', 'avg_img > 0.5'] ) )\n",
    "  print(\" \")\n",
    "  print(\"=\"*160)\n",
    "  return table"
   ]
  },
  {
   "cell_type": "code",
   "execution_count": null,
   "metadata": {
    "id": "uS6Gq-4VfX89"
   },
   "outputs": [],
   "source": [
    "def add_average_entry(table):\n",
    "  entry =[]\n",
    "  entry = ['Avg', \"\",\"\" ,\"\" ,\"\" , \"\",]\n",
    "  entry.append( np.mean(np.array(table)[:,6].astype(np.float)) )\n",
    "  entry.append( np.mean(np.array(table)[:,7].astype(np.float)) )\n",
    "  entry.append( np.mean(np.array(table)[:,8].astype(np.float)) )\n",
    "  entry.append( np.mean(np.array(table)[:,9].astype(np.float)) )\n",
    "  entry.append( np.mean(np.array(table)[:,10].astype(np.float)) )\n",
    "  entry.append( np.mean(np.array(table)[:,11].astype(np.float)) )\n",
    "\n",
    "  table.append(entry)\n",
    "  print(\" \")\n",
    "  print(\"=\"*160)\n",
    "  print(tabulate(table, headers=['S.No.', 'fg_class','bg_class','Epoch used','total_points', 'correct','accuracy','FTPT', 'FFPT', 'FTPF', 'FFPF', 'avg_img > 0.5'] ) )\n",
    "  print(\" \")\n",
    "  print(\"=\"*160)\n",
    "  return table\n"
   ]
  },
  {
   "cell_type": "code",
   "execution_count": null,
   "metadata": {
    "id": "M8ClgTOAbUQu"
   },
   "outputs": [],
   "source": [
    "train_table=[]\n",
    "test_table1=[]\n",
    "test_table2=[]\n",
    "test_table3=[]\n",
    "test_table4=[]\n",
    "fg = [fg1,fg2,fg3]\n",
    "bg = list(set([0,1,2,3,4,5,6,7,8,9])-set(fg))\n"
   ]
  },
  {
   "cell_type": "code",
   "execution_count": 78,
   "metadata": {
    "colab": {
     "base_uri": "https://localhost:8080/",
     "height": 1000
    },
    "id": "TuIb2Y29kxWT",
    "outputId": "8c6600f4-3c27-41d1-94df-f99fb05e048b"
   },
   "outputs": [
    {
     "name": "stdout",
     "output_type": "stream",
     "text": [
      "[1,    40] loss: 1.105\n",
      "[1,    80] loss: 1.099\n",
      "[1,   120] loss: 1.099\n",
      "[2,    40] loss: 1.099\n",
      "[2,    80] loss: 1.099\n",
      "[2,   120] loss: 1.099\n",
      "[3,    40] loss: 1.099\n",
      "[3,    80] loss: 1.099\n",
      "[3,   120] loss: 1.099\n",
      "[4,    40] loss: 1.099\n",
      "[4,    80] loss: 1.099\n",
      "[4,   120] loss: 1.099\n",
      "[5,    40] loss: 1.099\n",
      "[5,    80] loss: 1.099\n",
      "[5,   120] loss: 1.099\n",
      "[6,    40] loss: 1.099\n",
      "[6,    80] loss: 1.099\n",
      "[6,   120] loss: 1.099\n",
      "[7,    40] loss: 1.099\n",
      "[7,    80] loss: 1.099\n",
      "[7,   120] loss: 1.098\n",
      "[8,    40] loss: 1.099\n",
      "[8,    80] loss: 1.099\n",
      "[8,   120] loss: 1.099\n",
      "[9,    40] loss: 1.099\n",
      "[9,    80] loss: 1.099\n",
      "[9,   120] loss: 1.099\n",
      "[10,    40] loss: 1.099\n",
      "[10,    80] loss: 1.099\n",
      "[10,   120] loss: 1.099\n",
      "[11,    40] loss: 1.099\n",
      "[11,    80] loss: 1.099\n",
      "[11,   120] loss: 1.098\n",
      "[12,    40] loss: 1.099\n",
      "[12,    80] loss: 1.098\n",
      "[12,   120] loss: 1.098\n",
      "[13,    40] loss: 1.099\n",
      "[13,    80] loss: 1.098\n",
      "[13,   120] loss: 1.098\n",
      "[14,    40] loss: 1.098\n",
      "[14,    80] loss: 1.098\n",
      "[14,   120] loss: 1.098\n",
      "[15,    40] loss: 1.098\n",
      "[15,    80] loss: 1.098\n",
      "[15,   120] loss: 1.098\n",
      "[16,    40] loss: 1.097\n",
      "[16,    80] loss: 1.097\n",
      "[16,   120] loss: 1.097\n",
      "[17,    40] loss: 1.096\n",
      "[17,    80] loss: 1.096\n",
      "[17,   120] loss: 1.095\n",
      "[18,    40] loss: 1.093\n",
      "[18,    80] loss: 1.092\n",
      "[18,   120] loss: 1.089\n",
      "[19,    40] loss: 1.087\n",
      "[19,    80] loss: 1.087\n",
      "[19,   120] loss: 1.082\n",
      "[20,    40] loss: 1.082\n",
      "[20,    80] loss: 1.081\n",
      "[20,   120] loss: 1.079\n",
      "[21,    40] loss: 1.079\n",
      "[21,    80] loss: 1.080\n",
      "[21,   120] loss: 1.074\n",
      "[22,    40] loss: 1.077\n",
      "[22,    80] loss: 1.078\n",
      "[22,   120] loss: 1.071\n",
      "[23,    40] loss: 1.072\n",
      "[23,    80] loss: 1.074\n",
      "[23,   120] loss: 1.075\n",
      "[24,    40] loss: 1.070\n",
      "[24,    80] loss: 1.070\n",
      "[24,   120] loss: 1.066\n",
      "[25,    40] loss: 1.065\n",
      "[25,    80] loss: 1.054\n",
      "[25,   120] loss: 1.052\n",
      "[26,    40] loss: 1.045\n",
      "[26,    80] loss: 1.043\n",
      "[26,   120] loss: 1.049\n",
      "[27,    40] loss: 1.042\n",
      "[27,    80] loss: 1.032\n",
      "[27,   120] loss: 1.040\n",
      "[28,    40] loss: 1.035\n",
      "[28,    80] loss: 1.034\n",
      "[28,   120] loss: 1.024\n",
      "[29,    40] loss: 1.027\n",
      "[29,    80] loss: 1.021\n",
      "[29,   120] loss: 1.012\n",
      "[30,    40] loss: 1.011\n",
      "[30,    80] loss: 1.016\n",
      "[30,   120] loss: 1.000\n",
      "[31,    40] loss: 1.004\n",
      "[31,    80] loss: 0.993\n",
      "[31,   120] loss: 0.983\n",
      "[32,    40] loss: 0.983\n",
      "[32,    80] loss: 0.979\n",
      "[32,   120] loss: 0.968\n",
      "[33,    40] loss: 0.966\n",
      "[33,    80] loss: 0.959\n",
      "[33,   120] loss: 0.954\n",
      "[34,    40] loss: 0.937\n",
      "[34,    80] loss: 0.919\n",
      "[34,   120] loss: 0.912\n",
      "[35,    40] loss: 0.895\n",
      "[35,    80] loss: 0.887\n",
      "[35,   120] loss: 0.878\n",
      "[36,    40] loss: 0.860\n",
      "[36,    80] loss: 0.844\n",
      "[36,   120] loss: 0.825\n",
      "[37,    40] loss: 0.808\n",
      "[37,    80] loss: 0.811\n",
      "[37,   120] loss: 0.815\n",
      "[38,    40] loss: 0.794\n",
      "[38,    80] loss: 0.781\n",
      "[38,   120] loss: 0.769\n",
      "[39,    40] loss: 0.756\n",
      "[39,    80] loss: 0.740\n",
      "[39,   120] loss: 0.739\n",
      "[40,    40] loss: 0.715\n",
      "[40,    80] loss: 0.726\n",
      "[40,   120] loss: 0.700\n",
      "[41,    40] loss: 0.670\n",
      "[41,    80] loss: 0.702\n",
      "[41,   120] loss: 0.684\n",
      "[42,    40] loss: 0.646\n",
      "[42,    80] loss: 0.652\n",
      "[42,   120] loss: 0.634\n",
      "[43,    40] loss: 0.617\n",
      "[43,    80] loss: 0.635\n",
      "[43,   120] loss: 0.633\n",
      "[44,    40] loss: 0.600\n",
      "[44,    80] loss: 0.612\n",
      "[44,   120] loss: 0.596\n",
      "[45,    40] loss: 0.568\n",
      "[45,    80] loss: 0.556\n",
      "[45,   120] loss: 0.569\n",
      "[46,    40] loss: 0.523\n",
      "[46,    80] loss: 0.554\n",
      "[46,   120] loss: 0.540\n",
      "[47,    40] loss: 0.511\n",
      "[47,    80] loss: 0.508\n",
      "[47,   120] loss: 0.498\n",
      "[48,    40] loss: 0.509\n",
      "[48,    80] loss: 0.494\n",
      "[48,   120] loss: 0.489\n",
      "[49,    40] loss: 0.440\n",
      "[49,    80] loss: 0.494\n",
      "[49,   120] loss: 0.478\n",
      "[50,    40] loss: 0.431\n",
      "[50,    80] loss: 0.440\n",
      "[50,   120] loss: 0.441\n",
      "[51,    40] loss: 0.418\n",
      "[51,    80] loss: 0.425\n",
      "[51,   120] loss: 0.457\n",
      "[52,    40] loss: 0.390\n",
      "[52,    80] loss: 0.427\n",
      "[52,   120] loss: 0.412\n",
      "[53,    40] loss: 0.374\n",
      "[53,    80] loss: 0.383\n",
      "[53,   120] loss: 0.420\n",
      "[54,    40] loss: 0.364\n",
      "[54,    80] loss: 0.369\n",
      "[54,   120] loss: 0.417\n",
      "[55,    40] loss: 0.376\n",
      "[55,    80] loss: 0.374\n",
      "[55,   120] loss: 0.348\n",
      "[56,    40] loss: 0.326\n",
      "[56,    80] loss: 0.340\n",
      "[56,   120] loss: 0.376\n",
      "[57,    40] loss: 0.315\n",
      "[57,    80] loss: 0.309\n",
      "[57,   120] loss: 0.361\n",
      "[58,    40] loss: 0.307\n",
      "[58,    80] loss: 0.315\n",
      "[58,   120] loss: 0.298\n",
      "[59,    40] loss: 0.287\n",
      "[59,    80] loss: 0.311\n",
      "[59,   120] loss: 0.279\n",
      "[60,    40] loss: 0.273\n",
      "[60,    80] loss: 0.260\n",
      "[60,   120] loss: 0.274\n",
      "[61,    40] loss: 0.239\n",
      "[61,    80] loss: 0.281\n",
      "[61,   120] loss: 0.252\n",
      "[62,    40] loss: 0.247\n",
      "[62,    80] loss: 0.248\n",
      "[62,   120] loss: 0.250\n",
      "[63,    40] loss: 0.206\n",
      "[63,    80] loss: 0.291\n",
      "[63,   120] loss: 0.274\n",
      "[64,    40] loss: 0.218\n",
      "[64,    80] loss: 0.217\n",
      "[64,   120] loss: 0.236\n",
      "[65,    40] loss: 0.221\n",
      "[65,    80] loss: 0.219\n",
      "[65,   120] loss: 0.220\n",
      "[66,    40] loss: 0.190\n",
      "[66,    80] loss: 0.204\n",
      "[66,   120] loss: 0.202\n",
      "[67,    40] loss: 0.185\n",
      "[67,    80] loss: 0.191\n",
      "[67,   120] loss: 0.211\n",
      "[68,    40] loss: 0.273\n",
      "[68,    80] loss: 0.289\n",
      "[68,   120] loss: 0.211\n",
      "[69,    40] loss: 0.169\n",
      "[69,    80] loss: 0.180\n",
      "[69,   120] loss: 0.168\n",
      "[70,    40] loss: 0.136\n",
      "[70,    80] loss: 0.250\n",
      "[70,   120] loss: 0.193\n",
      "[71,    40] loss: 0.154\n",
      "[71,    80] loss: 0.197\n",
      "[71,   120] loss: 0.241\n",
      "[72,    40] loss: 0.173\n",
      "[72,    80] loss: 0.139\n",
      "[72,   120] loss: 0.152\n",
      "[73,    40] loss: 0.124\n",
      "[73,    80] loss: 0.129\n",
      "[73,   120] loss: 0.114\n",
      "[74,    40] loss: 0.279\n",
      "[74,    80] loss: 0.336\n",
      "[74,   120] loss: 0.155\n",
      "[75,    40] loss: 0.121\n",
      "[75,    80] loss: 0.107\n",
      "[75,   120] loss: 0.122\n",
      "[76,    40] loss: 0.090\n",
      "[76,    80] loss: 0.103\n",
      "[76,   120] loss: 0.094\n",
      "[77,    40] loss: 0.155\n",
      "[77,    80] loss: 0.114\n",
      "[77,   120] loss: 0.119\n",
      "[78,    40] loss: 0.118\n",
      "[78,    80] loss: 0.112\n",
      "[78,   120] loss: 0.135\n",
      "[79,    40] loss: 0.096\n",
      "[79,    80] loss: 0.092\n",
      "[79,   120] loss: 0.076\n",
      "[80,    40] loss: 0.058\n",
      "[80,    80] loss: 0.183\n",
      "[80,   120] loss: 0.093\n",
      "[81,    40] loss: 0.068\n",
      "[81,    80] loss: 0.074\n",
      "[81,   120] loss: 0.077\n",
      "[82,    40] loss: 0.107\n",
      "[82,    80] loss: 0.107\n",
      "[82,   120] loss: 0.103\n",
      "[83,    40] loss: 0.064\n",
      "[83,    80] loss: 0.062\n",
      "[83,   120] loss: 0.064\n",
      "[84,    40] loss: 0.051\n",
      "[84,    80] loss: 0.095\n",
      "[84,   120] loss: 0.059\n",
      "[85,    40] loss: 0.047\n",
      "[85,    80] loss: 0.051\n",
      "[85,   120] loss: 0.046\n",
      "Finished Training\n",
      " \n",
      "================================================================================================================================================================\n",
      "  S.No.  fg_class        bg_class                      Epoch used    total_points    correct    accuracy     FTPT     FFPT      FTPF      FFPF    avg_img > 0.5\n",
      "-------  --------------  --------------------------  ------------  --------------  ---------  ----------  -------  -------  --------  --------  ---------------\n",
      "      1  fg = [0, 1, 2]  bg = [3, 4, 5, 6, 7, 8, 9]            84           30000      29703       99.01  83.7333  15.2767  0.266667  0.723333            22323\n",
      " \n",
      "================================================================================================================================================================\n",
      " \n",
      "================================================================================================================================================================\n",
      "  S.No.  fg_class        bg_class                    Epoch used      total_points    correct    accuracy    FTPT    FFPT    FTPF    FFPF    avg_img > 0.5\n",
      "-------  --------------  --------------------------  ------------  --------------  ---------  ----------  ------  ------  ------  ------  ---------------\n",
      "      1  fg = [0, 1, 2]  bg = [3, 4, 5, 6, 7, 8, 9]  NA                     10000       9459       94.59   80.88   13.71    2.53    2.88             7347\n",
      " \n",
      "================================================================================================================================================================\n",
      " \n",
      "================================================================================================================================================================\n",
      "  S.No.  fg_class        bg_class                    Epoch used      total_points    correct    accuracy    FTPT    FFPT    FTPF    FFPF    avg_img > 0.5\n",
      "-------  --------------  --------------------------  ------------  --------------  ---------  ----------  ------  ------  ------  ------  ---------------\n",
      "      1  fg = [0, 1, 2]  bg = [3, 4, 5, 6, 7, 8, 9]  NA                     10000       8301       83.01    67.6   15.41    9.68    7.31             7083\n",
      " \n",
      "================================================================================================================================================================\n",
      " \n",
      "================================================================================================================================================================\n",
      "  S.No.  fg_class        bg_class                    Epoch used      total_points    correct    accuracy    FTPT    FFPT    FTPF    FFPF    avg_img > 0.5\n",
      "-------  --------------  --------------------------  ------------  --------------  ---------  ----------  ------  ------  ------  ------  ---------------\n",
      "      1  fg = [0, 1, 2]  bg = [3, 4, 5, 6, 7, 8, 9]  NA                     10000       7188       71.88   49.95   21.93   11.76   16.36             4188\n",
      " \n",
      "================================================================================================================================================================\n",
      " \n",
      "================================================================================================================================================================\n",
      "  S.No.  fg_class        bg_class                    Epoch used      total_points    correct    accuracy    FTPT    FFPT    FTPF    FFPF    avg_img > 0.5\n",
      "-------  --------------  --------------------------  ------------  --------------  ---------  ----------  ------  ------  ------  ------  ---------------\n",
      "      1  fg = [0, 1, 2]  bg = [3, 4, 5, 6, 7, 8, 9]  NA                     10000       5800          58   34.07   23.93   11.94   30.06             3877\n",
      " \n",
      "================================================================================================================================================================\n",
      "[1,    40] loss: 1.099\n",
      "[1,    80] loss: 1.099\n",
      "[1,   120] loss: 1.099\n",
      "[2,    40] loss: 1.099\n",
      "[2,    80] loss: 1.099\n",
      "[2,   120] loss: 1.099\n",
      "[3,    40] loss: 1.098\n",
      "[3,    80] loss: 1.099\n",
      "[3,   120] loss: 1.099\n",
      "[4,    40] loss: 1.098\n",
      "[4,    80] loss: 1.098\n",
      "[4,   120] loss: 1.098\n",
      "[5,    40] loss: 1.098\n",
      "[5,    80] loss: 1.098\n",
      "[5,   120] loss: 1.098\n",
      "[6,    40] loss: 1.098\n",
      "[6,    80] loss: 1.098\n",
      "[6,   120] loss: 1.098\n",
      "[7,    40] loss: 1.098\n",
      "[7,    80] loss: 1.097\n",
      "[7,   120] loss: 1.097\n",
      "[8,    40] loss: 1.097\n",
      "[8,    80] loss: 1.096\n",
      "[8,   120] loss: 1.096\n",
      "[9,    40] loss: 1.095\n",
      "[9,    80] loss: 1.094\n",
      "[9,   120] loss: 1.092\n",
      "[10,    40] loss: 1.090\n",
      "[10,    80] loss: 1.089\n",
      "[10,   120] loss: 1.087\n",
      "[11,    40] loss: 1.085\n",
      "[11,    80] loss: 1.084\n",
      "[11,   120] loss: 1.085\n",
      "[12,    40] loss: 1.081\n",
      "[12,    80] loss: 1.082\n",
      "[12,   120] loss: 1.079\n",
      "[13,    40] loss: 1.076\n",
      "[13,    80] loss: 1.075\n",
      "[13,   120] loss: 1.073\n",
      "[14,    40] loss: 1.071\n",
      "[14,    80] loss: 1.067\n",
      "[14,   120] loss: 1.067\n",
      "[15,    40] loss: 1.065\n",
      "[15,    80] loss: 1.069\n",
      "[15,   120] loss: 1.064\n",
      "[16,    40] loss: 1.059\n",
      "[16,    80] loss: 1.061\n",
      "[16,   120] loss: 1.063\n",
      "[17,    40] loss: 1.063\n",
      "[17,    80] loss: 1.052\n",
      "[17,   120] loss: 1.051\n",
      "[18,    40] loss: 1.053\n",
      "[18,    80] loss: 1.042\n",
      "[18,   120] loss: 1.051\n",
      "[19,    40] loss: 1.045\n",
      "[19,    80] loss: 1.040\n",
      "[19,   120] loss: 1.029\n",
      "[20,    40] loss: 1.030\n",
      "[20,    80] loss: 1.021\n",
      "[20,   120] loss: 1.021\n",
      "[21,    40] loss: 1.011\n",
      "[21,    80] loss: 1.008\n",
      "[21,   120] loss: 1.006\n",
      "[22,    40] loss: 0.994\n",
      "[22,    80] loss: 0.988\n",
      "[22,   120] loss: 0.982\n",
      "[23,    40] loss: 0.982\n",
      "[23,    80] loss: 0.974\n",
      "[23,   120] loss: 0.966\n",
      "[24,    40] loss: 0.951\n",
      "[24,    80] loss: 0.950\n",
      "[24,   120] loss: 0.932\n",
      "[25,    40] loss: 0.923\n",
      "[25,    80] loss: 0.919\n",
      "[25,   120] loss: 0.908\n",
      "[26,    40] loss: 0.915\n",
      "[26,    80] loss: 0.883\n",
      "[26,   120] loss: 0.896\n",
      "[27,    40] loss: 0.868\n",
      "[27,    80] loss: 0.878\n",
      "[27,   120] loss: 0.867\n",
      "[28,    40] loss: 0.846\n",
      "[28,    80] loss: 0.842\n",
      "[28,   120] loss: 0.836\n",
      "[29,    40] loss: 0.802\n",
      "[29,    80] loss: 0.823\n",
      "[29,   120] loss: 0.821\n",
      "[30,    40] loss: 0.796\n",
      "[30,    80] loss: 0.786\n",
      "[30,   120] loss: 0.777\n",
      "[31,    40] loss: 0.761\n",
      "[31,    80] loss: 0.748\n",
      "[31,   120] loss: 0.735\n",
      "[32,    40] loss: 0.718\n",
      "[32,    80] loss: 0.721\n",
      "[32,   120] loss: 0.720\n",
      "[33,    40] loss: 0.696\n",
      "[33,    80] loss: 0.675\n",
      "[33,   120] loss: 0.679\n",
      "[34,    40] loss: 0.678\n",
      "[34,    80] loss: 0.661\n",
      "[34,   120] loss: 0.643\n",
      "[35,    40] loss: 0.635\n",
      "[35,    80] loss: 0.639\n",
      "[35,   120] loss: 0.643\n",
      "[36,    40] loss: 0.591\n",
      "[36,    80] loss: 0.608\n",
      "[36,   120] loss: 0.620\n",
      "[37,    40] loss: 0.581\n",
      "[37,    80] loss: 0.578\n",
      "[37,   120] loss: 0.567\n",
      "[38,    40] loss: 0.544\n",
      "[38,    80] loss: 0.593\n",
      "[38,   120] loss: 0.530\n",
      "[39,    40] loss: 0.479\n",
      "[39,    80] loss: 0.509\n",
      "[39,   120] loss: 0.531\n",
      "[40,    40] loss: 0.634\n",
      "[40,    80] loss: 0.446\n",
      "[40,   120] loss: 0.493\n",
      "[41,    40] loss: 0.444\n",
      "[41,    80] loss: 0.479\n",
      "[41,   120] loss: 0.595\n",
      "[42,    40] loss: 0.520\n",
      "[42,    80] loss: 0.441\n",
      "[42,   120] loss: 0.404\n",
      "[43,    40] loss: 0.424\n",
      "[43,    80] loss: 0.398\n",
      "[43,   120] loss: 0.362\n",
      "[44,    40] loss: 0.310\n",
      "[44,    80] loss: 0.229\n",
      "[44,   120] loss: 0.788\n",
      "[45,    40] loss: 0.601\n",
      "[45,    80] loss: 0.414\n",
      "[45,   120] loss: 0.298\n",
      "[46,    40] loss: 0.421\n",
      "[46,    80] loss: 0.238\n",
      "[46,   120] loss: 0.380\n",
      "[47,    40] loss: 0.126\n",
      "[47,    80] loss: 0.919\n",
      "[47,   120] loss: 0.916\n",
      "[48,    40] loss: 0.365\n",
      "[48,    80] loss: 0.180\n",
      "[48,   120] loss: 0.303\n",
      "[49,    40] loss: 0.170\n",
      "[49,    80] loss: 0.334\n",
      "[49,   120] loss: 0.207\n",
      "[50,    40] loss: 0.097\n",
      "[50,    80] loss: 0.130\n",
      "[50,   120] loss: 0.284\n",
      "[51,    40] loss: 0.088\n",
      "[51,    80] loss: 0.944\n",
      "[51,   120] loss: 0.257\n",
      "[52,    40] loss: 0.067\n",
      "[52,    80] loss: 0.105\n",
      "[52,   120] loss: 0.167\n",
      "[53,    40] loss: 0.046\n",
      "[53,    80] loss: 0.343\n",
      "[53,   120] loss: 0.243\n",
      "[54,    40] loss: 0.086\n",
      "[54,    80] loss: 0.064\n",
      "[54,   120] loss: 0.037\n",
      "[55,    40] loss: 0.031\n",
      "[55,    80] loss: 0.056\n",
      "[55,   120] loss: 0.200\n",
      "[56,    40] loss: 0.039\n",
      "[56,    80] loss: 0.026\n",
      "[56,   120] loss: 0.021\n",
      "Finished Training\n",
      " \n",
      "================================================================================================================================================================\n",
      "  S.No.  fg_class        bg_class                      Epoch used    total_points    correct    accuracy     FTPT     FFPT      FTPF      FFPF    avg_img > 0.5\n",
      "-------  --------------  --------------------------  ------------  --------------  ---------  ----------  -------  -------  --------  --------  ---------------\n",
      "      1  fg = [0, 1, 2]  bg = [3, 4, 5, 6, 7, 8, 9]            84           30000      29703     99.01    83.7333  15.2767  0.266667  0.723333            22323\n",
      "      2  fg = [0, 1, 2]  bg = [3, 4, 5, 6, 7, 8, 9]            55           30000      29893     99.6433  87.96    11.6833  0.346667  0.01                19991\n",
      " \n",
      "================================================================================================================================================================\n",
      " \n",
      "================================================================================================================================================================\n",
      "  S.No.  fg_class        bg_class                    Epoch used      total_points    correct    accuracy    FTPT    FFPT    FTPF    FFPF    avg_img > 0.5\n",
      "-------  --------------  --------------------------  ------------  --------------  ---------  ----------  ------  ------  ------  ------  ---------------\n",
      "      1  fg = [0, 1, 2]  bg = [3, 4, 5, 6, 7, 8, 9]  NA                     10000       9459       94.59   80.88   13.71    2.53    2.88             7347\n",
      "      2  fg = [0, 1, 2]  bg = [3, 4, 5, 6, 7, 8, 9]  NA                     10000       9892       98.92   87.31   11.61    1.07    0.01             6638\n",
      " \n",
      "================================================================================================================================================================\n",
      " \n",
      "================================================================================================================================================================\n",
      "  S.No.  fg_class        bg_class                    Epoch used      total_points    correct    accuracy    FTPT    FFPT    FTPF    FFPF    avg_img > 0.5\n",
      "-------  --------------  --------------------------  ------------  --------------  ---------  ----------  ------  ------  ------  ------  ---------------\n",
      "      1  fg = [0, 1, 2]  bg = [3, 4, 5, 6, 7, 8, 9]  NA                     10000       8301       83.01   67.6    15.41    9.68    7.31             7083\n",
      "      2  fg = [0, 1, 2]  bg = [3, 4, 5, 6, 7, 8, 9]  NA                     10000       9500       95      82.02   12.98    4.91    0.09             6602\n",
      " \n",
      "================================================================================================================================================================\n",
      " \n",
      "================================================================================================================================================================\n",
      "  S.No.  fg_class        bg_class                    Epoch used      total_points    correct    accuracy    FTPT    FFPT    FTPF    FFPF    avg_img > 0.5\n",
      "-------  --------------  --------------------------  ------------  --------------  ---------  ----------  ------  ------  ------  ------  ---------------\n",
      "      1  fg = [0, 1, 2]  bg = [3, 4, 5, 6, 7, 8, 9]  NA                     10000       7188       71.88   49.95   21.93   11.76   16.36             4188\n",
      "      2  fg = [0, 1, 2]  bg = [3, 4, 5, 6, 7, 8, 9]  NA                     10000       3419       34.19    7.92   26.27    9.74   56.07               47\n",
      " \n",
      "================================================================================================================================================================\n",
      " \n",
      "================================================================================================================================================================\n",
      "  S.No.  fg_class        bg_class                    Epoch used      total_points    correct    accuracy    FTPT    FFPT    FTPF    FFPF    avg_img > 0.5\n",
      "-------  --------------  --------------------------  ------------  --------------  ---------  ----------  ------  ------  ------  ------  ---------------\n",
      "      1  fg = [0, 1, 2]  bg = [3, 4, 5, 6, 7, 8, 9]  NA                     10000       5800       58      34.07   23.93   11.94   30.06             3877\n",
      "      2  fg = [0, 1, 2]  bg = [3, 4, 5, 6, 7, 8, 9]  NA                     10000       3374       33.74    7.76   25.98    9.62   56.64               61\n",
      " \n",
      "================================================================================================================================================================\n",
      "[1,    40] loss: 1.106\n",
      "[1,    80] loss: 1.099\n",
      "[1,   120] loss: 1.099\n",
      "[2,    40] loss: 1.099\n",
      "[2,    80] loss: 1.099\n",
      "[2,   120] loss: 1.098\n",
      "[3,    40] loss: 1.098\n",
      "[3,    80] loss: 1.098\n",
      "[3,   120] loss: 1.098\n",
      "[4,    40] loss: 1.098\n",
      "[4,    80] loss: 1.098\n",
      "[4,   120] loss: 1.098\n",
      "[5,    40] loss: 1.098\n",
      "[5,    80] loss: 1.098\n",
      "[5,   120] loss: 1.097\n",
      "[6,    40] loss: 1.097\n",
      "[6,    80] loss: 1.096\n",
      "[6,   120] loss: 1.096\n",
      "[7,    40] loss: 1.094\n",
      "[7,    80] loss: 1.093\n",
      "[7,   120] loss: 1.092\n",
      "[8,    40] loss: 1.090\n",
      "[8,    80] loss: 1.087\n",
      "[8,   120] loss: 1.086\n",
      "[9,    40] loss: 1.081\n",
      "[9,    80] loss: 1.081\n",
      "[9,   120] loss: 1.079\n",
      "[10,    40] loss: 1.076\n",
      "[10,    80] loss: 1.072\n",
      "[10,   120] loss: 1.076\n",
      "[11,    40] loss: 1.070\n",
      "[11,    80] loss: 1.071\n",
      "[11,   120] loss: 1.069\n",
      "[12,    40] loss: 1.069\n",
      "[12,    80] loss: 1.067\n",
      "[12,   120] loss: 1.066\n",
      "[13,    40] loss: 1.064\n",
      "[13,    80] loss: 1.066\n",
      "[13,   120] loss: 1.065\n",
      "[14,    40] loss: 1.065\n",
      "[14,    80] loss: 1.063\n",
      "[14,   120] loss: 1.057\n",
      "[15,    40] loss: 1.062\n",
      "[15,    80] loss: 1.058\n",
      "[15,   120] loss: 1.055\n",
      "[16,    40] loss: 1.056\n",
      "[16,    80] loss: 1.056\n",
      "[16,   120] loss: 1.051\n",
      "[17,    40] loss: 1.048\n",
      "[17,    80] loss: 1.050\n",
      "[17,   120] loss: 1.042\n",
      "[18,    40] loss: 1.043\n",
      "[18,    80] loss: 1.041\n",
      "[18,   120] loss: 1.035\n",
      "[19,    40] loss: 1.033\n",
      "[19,    80] loss: 1.036\n",
      "[19,   120] loss: 1.022\n",
      "[20,    40] loss: 1.022\n",
      "[20,    80] loss: 1.017\n",
      "[20,   120] loss: 1.019\n",
      "[21,    40] loss: 1.007\n",
      "[21,    80] loss: 1.003\n",
      "[21,   120] loss: 1.011\n",
      "[22,    40] loss: 0.999\n",
      "[22,    80] loss: 0.993\n",
      "[22,   120] loss: 0.996\n",
      "[23,    40] loss: 0.980\n",
      "[23,    80] loss: 0.976\n",
      "[23,   120] loss: 0.981\n",
      "[24,    40] loss: 0.963\n",
      "[24,    80] loss: 0.964\n",
      "[24,   120] loss: 0.954\n",
      "[25,    40] loss: 0.942\n",
      "[25,    80] loss: 0.929\n",
      "[25,   120] loss: 0.932\n",
      "[26,    40] loss: 0.908\n",
      "[26,    80] loss: 0.909\n",
      "[26,   120] loss: 0.901\n",
      "[27,    40] loss: 0.906\n",
      "[27,    80] loss: 0.881\n",
      "[27,   120] loss: 0.878\n",
      "[28,    40] loss: 0.862\n",
      "[28,    80] loss: 0.844\n",
      "[28,   120] loss: 0.840\n",
      "[29,    40] loss: 0.825\n",
      "[29,    80] loss: 0.830\n",
      "[29,   120] loss: 0.826\n",
      "[30,    40] loss: 0.798\n",
      "[30,    80] loss: 0.788\n",
      "[30,   120] loss: 0.801\n",
      "[31,    40] loss: 0.774\n",
      "[31,    80] loss: 0.756\n",
      "[31,   120] loss: 0.765\n",
      "[32,    40] loss: 0.745\n",
      "[32,    80] loss: 0.762\n",
      "[32,   120] loss: 0.731\n",
      "[33,    40] loss: 0.707\n",
      "[33,    80] loss: 0.709\n",
      "[33,   120] loss: 0.716\n",
      "[34,    40] loss: 0.690\n",
      "[34,    80] loss: 0.691\n",
      "[34,   120] loss: 0.701\n",
      "[35,    40] loss: 0.613\n",
      "[35,    80] loss: 0.643\n",
      "[35,   120] loss: 0.657\n",
      "[36,    40] loss: 0.607\n",
      "[36,    80] loss: 0.616\n",
      "[36,   120] loss: 0.640\n",
      "[37,    40] loss: 0.586\n",
      "[37,    80] loss: 0.588\n",
      "[37,   120] loss: 0.525\n",
      "[38,    40] loss: 0.587\n",
      "[38,    80] loss: 0.507\n",
      "[38,   120] loss: 0.570\n",
      "[39,    40] loss: 0.443\n",
      "[39,    80] loss: 0.366\n",
      "[39,   120] loss: 0.506\n",
      "[40,    40] loss: 1.086\n",
      "[40,    80] loss: 1.063\n",
      "[40,   120] loss: 1.051\n",
      "[41,    40] loss: 1.052\n",
      "[41,    80] loss: 1.033\n",
      "[41,   120] loss: 1.016\n",
      "[42,    40] loss: 1.003\n",
      "[42,    80] loss: 1.007\n",
      "[42,   120] loss: 1.003\n",
      "[43,    40] loss: 0.988\n",
      "[43,    80] loss: 0.967\n",
      "[43,   120] loss: 0.958\n",
      "[44,    40] loss: 0.938\n",
      "[44,    80] loss: 0.925\n",
      "[44,   120] loss: 0.902\n",
      "[45,    40] loss: 0.841\n",
      "[45,    80] loss: 0.574\n",
      "[45,   120] loss: 0.394\n",
      "[46,    40] loss: 0.348\n",
      "[46,    80] loss: 0.159\n",
      "[46,   120] loss: 0.435\n",
      "[47,    40] loss: 0.217\n",
      "[47,    80] loss: 0.262\n",
      "[47,   120] loss: 0.192\n",
      "[48,    40] loss: 0.122\n",
      "[48,    80] loss: 0.252\n",
      "[48,   120] loss: 0.184\n",
      "[49,    40] loss: 0.099\n",
      "[49,    80] loss: 0.157\n",
      "[49,   120] loss: 0.123\n",
      "[50,    40] loss: 0.214\n",
      "[50,    80] loss: 0.066\n",
      "[50,   120] loss: 0.049\n",
      "[51,    40] loss: 0.042\n",
      "[51,    80] loss: 0.708\n",
      "[51,   120] loss: 1.037\n",
      "[52,    40] loss: 0.819\n",
      "[52,    80] loss: 0.392\n",
      "[52,   120] loss: 0.170\n",
      "[53,    40] loss: 0.075\n",
      "[53,    80] loss: 0.071\n",
      "[53,   120] loss: 0.052\n",
      "[54,    40] loss: 0.043\n",
      "[54,    80] loss: 0.049\n",
      "[54,   120] loss: 0.083\n",
      "[55,    40] loss: 0.114\n",
      "[55,    80] loss: 0.080\n",
      "[55,   120] loss: 0.142\n",
      "[56,    40] loss: 0.030\n",
      "[56,    80] loss: 0.024\n",
      "[56,   120] loss: 0.019\n",
      "Finished Training\n",
      " \n",
      "================================================================================================================================================================\n",
      "  S.No.  fg_class        bg_class                      Epoch used    total_points    correct    accuracy     FTPT     FFPT      FTPF       FFPF    avg_img > 0.5\n",
      "-------  --------------  --------------------------  ------------  --------------  ---------  ----------  -------  -------  --------  ---------  ---------------\n",
      "      1  fg = [0, 1, 2]  bg = [3, 4, 5, 6, 7, 8, 9]            84           30000      29703     99.01    83.7333  15.2767  0.266667  0.723333             22323\n",
      "      2  fg = [0, 1, 2]  bg = [3, 4, 5, 6, 7, 8, 9]            55           30000      29893     99.6433  87.96    11.6833  0.346667  0.01                 19991\n",
      "      3  fg = [0, 1, 2]  bg = [3, 4, 5, 6, 7, 8, 9]            55           30000      29918     99.7267  88.9     10.8267  0.236667  0.0366667            20017\n",
      " \n",
      "================================================================================================================================================================\n",
      " \n",
      "================================================================================================================================================================\n",
      "  S.No.  fg_class        bg_class                    Epoch used      total_points    correct    accuracy    FTPT    FFPT    FTPF    FFPF    avg_img > 0.5\n",
      "-------  --------------  --------------------------  ------------  --------------  ---------  ----------  ------  ------  ------  ------  ---------------\n",
      "      1  fg = [0, 1, 2]  bg = [3, 4, 5, 6, 7, 8, 9]  NA                     10000       9459       94.59   80.88   13.71    2.53    2.88             7347\n",
      "      2  fg = [0, 1, 2]  bg = [3, 4, 5, 6, 7, 8, 9]  NA                     10000       9892       98.92   87.31   11.61    1.07    0.01             6638\n",
      "      3  fg = [0, 1, 2]  bg = [3, 4, 5, 6, 7, 8, 9]  NA                     10000       9900       99      88.14   10.86    0.94    0.06             6646\n",
      " \n",
      "================================================================================================================================================================\n",
      " \n",
      "================================================================================================================================================================\n",
      "  S.No.  fg_class        bg_class                    Epoch used      total_points    correct    accuracy    FTPT    FFPT    FTPF    FFPF    avg_img > 0.5\n",
      "-------  --------------  --------------------------  ------------  --------------  ---------  ----------  ------  ------  ------  ------  ---------------\n",
      "      1  fg = [0, 1, 2]  bg = [3, 4, 5, 6, 7, 8, 9]  NA                     10000       8301       83.01   67.6    15.41    9.68    7.31             7083\n",
      "      2  fg = [0, 1, 2]  bg = [3, 4, 5, 6, 7, 8, 9]  NA                     10000       9500       95      82.02   12.98    4.91    0.09             6602\n",
      "      3  fg = [0, 1, 2]  bg = [3, 4, 5, 6, 7, 8, 9]  NA                     10000       9556       95.56   83.89   11.67    4.38    0.06             6636\n",
      " \n",
      "================================================================================================================================================================\n",
      " \n",
      "================================================================================================================================================================\n",
      "  S.No.  fg_class        bg_class                    Epoch used      total_points    correct    accuracy    FTPT    FFPT    FTPF    FFPF    avg_img > 0.5\n",
      "-------  --------------  --------------------------  ------------  --------------  ---------  ----------  ------  ------  ------  ------  ---------------\n",
      "      1  fg = [0, 1, 2]  bg = [3, 4, 5, 6, 7, 8, 9]  NA                     10000       7188       71.88   49.95   21.93   11.76   16.36             4188\n",
      "      2  fg = [0, 1, 2]  bg = [3, 4, 5, 6, 7, 8, 9]  NA                     10000       3419       34.19    7.92   26.27    9.74   56.07               47\n",
      "      3  fg = [0, 1, 2]  bg = [3, 4, 5, 6, 7, 8, 9]  NA                     10000       3367       33.67    5.96   27.71   11.48   54.85               69\n",
      " \n",
      "================================================================================================================================================================\n",
      " \n",
      "================================================================================================================================================================\n",
      "  S.No.  fg_class        bg_class                    Epoch used      total_points    correct    accuracy    FTPT    FFPT    FTPF    FFPF    avg_img > 0.5\n",
      "-------  --------------  --------------------------  ------------  --------------  ---------  ----------  ------  ------  ------  ------  ---------------\n",
      "      1  fg = [0, 1, 2]  bg = [3, 4, 5, 6, 7, 8, 9]  NA                     10000       5800       58      34.07   23.93   11.94   30.06             3877\n",
      "      2  fg = [0, 1, 2]  bg = [3, 4, 5, 6, 7, 8, 9]  NA                     10000       3374       33.74    7.76   25.98    9.62   56.64               61\n",
      "      3  fg = [0, 1, 2]  bg = [3, 4, 5, 6, 7, 8, 9]  NA                     10000       3346       33.46    5.93   27.53   10.8    55.74               55\n",
      " \n",
      "================================================================================================================================================================\n",
      "[1,    40] loss: 1.102\n",
      "[1,    80] loss: 1.098\n",
      "[1,   120] loss: 1.098\n",
      "[2,    40] loss: 1.098\n",
      "[2,    80] loss: 1.098\n",
      "[2,   120] loss: 1.098\n",
      "[3,    40] loss: 1.098\n",
      "[3,    80] loss: 1.098\n",
      "[3,   120] loss: 1.097\n",
      "[4,    40] loss: 1.097\n",
      "[4,    80] loss: 1.096\n",
      "[4,   120] loss: 1.096\n",
      "[5,    40] loss: 1.094\n",
      "[5,    80] loss: 1.093\n",
      "[5,   120] loss: 1.090\n",
      "[6,    40] loss: 1.088\n",
      "[6,    80] loss: 1.086\n",
      "[6,   120] loss: 1.084\n",
      "[7,    40] loss: 1.082\n",
      "[7,    80] loss: 1.079\n",
      "[7,   120] loss: 1.080\n",
      "[8,    40] loss: 1.077\n",
      "[8,    80] loss: 1.076\n",
      "[8,   120] loss: 1.072\n",
      "[9,    40] loss: 1.071\n",
      "[9,    80] loss: 1.076\n",
      "[9,   120] loss: 1.069\n",
      "[10,    40] loss: 1.072\n",
      "[10,    80] loss: 1.072\n",
      "[10,   120] loss: 1.069\n",
      "[11,    40] loss: 1.069\n",
      "[11,    80] loss: 1.067\n",
      "[11,   120] loss: 1.068\n",
      "[12,    40] loss: 1.065\n",
      "[12,    80] loss: 1.066\n",
      "[12,   120] loss: 1.065\n",
      "[13,    40] loss: 1.065\n",
      "[13,    80] loss: 1.061\n",
      "[13,   120] loss: 1.062\n",
      "[14,    40] loss: 1.062\n",
      "[14,    80] loss: 1.058\n",
      "[14,   120] loss: 1.055\n",
      "[15,    40] loss: 1.055\n",
      "[15,    80] loss: 1.055\n",
      "[15,   120] loss: 1.051\n",
      "[16,    40] loss: 1.043\n",
      "[16,    80] loss: 1.038\n",
      "[16,   120] loss: 1.041\n",
      "[17,    40] loss: 1.031\n",
      "[17,    80] loss: 1.026\n",
      "[17,   120] loss: 1.019\n",
      "[18,    40] loss: 1.023\n",
      "[18,    80] loss: 1.028\n",
      "[18,   120] loss: 1.011\n",
      "[19,    40] loss: 1.011\n",
      "[19,    80] loss: 1.010\n",
      "[19,   120] loss: 1.004\n",
      "[20,    40] loss: 0.997\n",
      "[20,    80] loss: 0.993\n",
      "[20,   120] loss: 0.996\n",
      "[21,    40] loss: 0.987\n",
      "[21,    80] loss: 0.979\n",
      "[21,   120] loss: 0.966\n",
      "[22,    40] loss: 0.957\n",
      "[22,    80] loss: 0.964\n",
      "[22,   120] loss: 0.949\n",
      "[23,    40] loss: 0.938\n",
      "[23,    80] loss: 0.937\n",
      "[23,   120] loss: 0.935\n",
      "[24,    40] loss: 0.915\n",
      "[24,    80] loss: 0.905\n",
      "[24,   120] loss: 0.916\n",
      "[25,    40] loss: 0.897\n",
      "[25,    80] loss: 0.895\n",
      "[25,   120] loss: 0.883\n",
      "[26,    40] loss: 0.862\n",
      "[26,    80] loss: 0.850\n",
      "[26,   120] loss: 0.861\n",
      "[27,    40] loss: 0.842\n",
      "[27,    80] loss: 0.819\n",
      "[27,   120] loss: 0.822\n",
      "[28,    40] loss: 0.811\n",
      "[28,    80] loss: 0.801\n",
      "[28,   120] loss: 0.801\n",
      "[29,    40] loss: 0.773\n",
      "[29,    80] loss: 0.773\n",
      "[29,   120] loss: 0.754\n",
      "[30,    40] loss: 0.741\n",
      "[30,    80] loss: 0.737\n",
      "[30,   120] loss: 0.746\n",
      "[31,    40] loss: 0.704\n",
      "[31,    80] loss: 0.731\n",
      "[31,   120] loss: 0.712\n",
      "[32,    40] loss: 0.681\n",
      "[32,    80] loss: 0.698\n",
      "[32,   120] loss: 0.666\n",
      "[33,    40] loss: 0.644\n",
      "[33,    80] loss: 0.645\n",
      "[33,   120] loss: 0.638\n",
      "[34,    40] loss: 0.613\n",
      "[34,    80] loss: 0.638\n",
      "[34,   120] loss: 0.613\n",
      "[35,    40] loss: 0.615\n",
      "[35,    80] loss: 0.580\n",
      "[35,   120] loss: 0.582\n",
      "[36,    40] loss: 0.557\n",
      "[36,    80] loss: 0.575\n",
      "[36,   120] loss: 0.561\n",
      "[37,    40] loss: 0.560\n",
      "[37,    80] loss: 0.545\n",
      "[37,   120] loss: 0.540\n",
      "[38,    40] loss: 0.501\n",
      "[38,    80] loss: 0.531\n",
      "[38,   120] loss: 0.518\n",
      "[39,    40] loss: 0.473\n",
      "[39,    80] loss: 0.495\n",
      "[39,   120] loss: 0.506\n",
      "[40,    40] loss: 0.468\n",
      "[40,    80] loss: 0.485\n",
      "[40,   120] loss: 0.482\n",
      "[41,    40] loss: 0.436\n",
      "[41,    80] loss: 0.465\n",
      "[41,   120] loss: 0.442\n",
      "[42,    40] loss: 0.414\n",
      "[42,    80] loss: 0.413\n",
      "[42,   120] loss: 0.452\n",
      "[43,    40] loss: 0.387\n",
      "[43,    80] loss: 0.413\n",
      "[43,   120] loss: 0.428\n",
      "[44,    40] loss: 0.385\n",
      "[44,    80] loss: 0.379\n",
      "[44,   120] loss: 0.393\n",
      "[45,    40] loss: 0.390\n",
      "[45,    80] loss: 0.375\n",
      "[45,   120] loss: 0.373\n",
      "[46,    40] loss: 0.364\n",
      "[46,    80] loss: 0.375\n",
      "[46,   120] loss: 0.367\n",
      "[47,    40] loss: 0.337\n",
      "[47,    80] loss: 0.346\n",
      "[47,   120] loss: 0.366\n",
      "[48,    40] loss: 0.309\n",
      "[48,    80] loss: 0.332\n",
      "[48,   120] loss: 0.328\n",
      "[49,    40] loss: 0.329\n",
      "[49,    80] loss: 0.341\n",
      "[49,   120] loss: 0.332\n",
      "[50,    40] loss: 0.306\n",
      "[50,    80] loss: 0.326\n",
      "[50,   120] loss: 0.310\n",
      "[51,    40] loss: 0.286\n",
      "[51,    80] loss: 0.283\n",
      "[51,   120] loss: 0.299\n",
      "[52,    40] loss: 0.315\n",
      "[52,    80] loss: 0.304\n",
      "[52,   120] loss: 0.296\n",
      "[53,    40] loss: 0.266\n",
      "[53,    80] loss: 0.262\n",
      "[53,   120] loss: 0.276\n",
      "[54,    40] loss: 0.256\n",
      "[54,    80] loss: 0.283\n",
      "[54,   120] loss: 0.300\n",
      "[55,    40] loss: 0.293\n",
      "[55,    80] loss: 0.251\n",
      "[55,   120] loss: 0.251\n",
      "[56,    40] loss: 0.243\n",
      "[56,    80] loss: 0.262\n",
      "[56,   120] loss: 0.257\n",
      "[57,    40] loss: 0.240\n",
      "[57,    80] loss: 0.237\n",
      "[57,   120] loss: 0.244\n",
      "[58,    40] loss: 0.228\n",
      "[58,    80] loss: 0.234\n",
      "[58,   120] loss: 0.240\n",
      "[59,    40] loss: 0.225\n",
      "[59,    80] loss: 0.235\n",
      "[59,   120] loss: 0.240\n",
      "[60,    40] loss: 0.223\n",
      "[60,    80] loss: 0.214\n",
      "[60,   120] loss: 0.238\n",
      "[61,    40] loss: 0.199\n",
      "[61,    80] loss: 0.216\n",
      "[61,   120] loss: 0.218\n",
      "[62,    40] loss: 0.189\n",
      "[62,    80] loss: 0.209\n",
      "[62,   120] loss: 0.216\n",
      "[63,    40] loss: 0.181\n",
      "[63,    80] loss: 0.187\n",
      "[63,   120] loss: 0.200\n",
      "[64,    40] loss: 0.189\n",
      "[64,    80] loss: 0.193\n",
      "[64,   120] loss: 0.194\n",
      "[65,    40] loss: 0.177\n",
      "[65,    80] loss: 0.184\n",
      "[65,   120] loss: 0.198\n",
      "[66,    40] loss: 0.164\n",
      "[66,    80] loss: 0.173\n",
      "[66,   120] loss: 0.199\n",
      "[67,    40] loss: 0.166\n",
      "[67,    80] loss: 0.176\n",
      "[67,   120] loss: 0.178\n",
      "[68,    40] loss: 0.169\n",
      "[68,    80] loss: 0.180\n",
      "[68,   120] loss: 0.172\n",
      "[69,    40] loss: 0.160\n",
      "[69,    80] loss: 0.155\n",
      "[69,   120] loss: 0.168\n",
      "[70,    40] loss: 0.140\n",
      "[70,    80] loss: 0.154\n",
      "[70,   120] loss: 0.191\n",
      "[71,    40] loss: 0.157\n",
      "[71,    80] loss: 0.161\n",
      "[71,   120] loss: 0.165\n",
      "[72,    40] loss: 0.158\n",
      "[72,    80] loss: 0.146\n",
      "[72,   120] loss: 0.168\n",
      "[73,    40] loss: 0.131\n",
      "[73,    80] loss: 0.133\n",
      "[73,   120] loss: 0.147\n",
      "[74,    40] loss: 0.116\n",
      "[74,    80] loss: 0.120\n",
      "[74,   120] loss: 0.160\n",
      "[75,    40] loss: 0.129\n",
      "[75,    80] loss: 0.137\n",
      "[75,   120] loss: 0.132\n",
      "[76,    40] loss: 0.127\n",
      "[76,    80] loss: 0.143\n",
      "[76,   120] loss: 0.138\n",
      "[77,    40] loss: 0.137\n",
      "[77,    80] loss: 0.141\n",
      "[77,   120] loss: 0.184\n",
      "[78,    40] loss: 0.142\n",
      "[78,    80] loss: 0.139\n",
      "[78,   120] loss: 0.124\n",
      "[79,    40] loss: 0.118\n",
      "[79,    80] loss: 0.122\n",
      "[79,   120] loss: 0.121\n",
      "[80,    40] loss: 0.108\n",
      "[80,    80] loss: 0.117\n",
      "[80,   120] loss: 0.144\n",
      "[81,    40] loss: 0.106\n",
      "[81,    80] loss: 0.118\n",
      "[81,   120] loss: 0.123\n",
      "[82,    40] loss: 0.092\n",
      "[82,    80] loss: 0.104\n",
      "[82,   120] loss: 0.123\n",
      "[83,    40] loss: 0.101\n",
      "[83,    80] loss: 0.112\n",
      "[83,   120] loss: 0.110\n",
      "[84,    40] loss: 0.103\n",
      "[84,    80] loss: 0.117\n",
      "[84,   120] loss: 0.137\n",
      "[85,    40] loss: 0.100\n",
      "[85,    80] loss: 0.115\n",
      "[85,   120] loss: 0.104\n",
      "[86,    40] loss: 0.080\n",
      "[86,    80] loss: 0.090\n",
      "[86,   120] loss: 0.084\n",
      "[87,    40] loss: 0.093\n",
      "[87,    80] loss: 0.087\n",
      "[87,   120] loss: 0.217\n",
      "[88,    40] loss: 0.121\n",
      "[88,    80] loss: 0.095\n",
      "[88,   120] loss: 0.106\n",
      "[89,    40] loss: 0.078\n",
      "[89,    80] loss: 0.085\n",
      "[89,   120] loss: 0.098\n",
      "[90,    40] loss: 0.080\n",
      "[90,    80] loss: 0.122\n",
      "[90,   120] loss: 0.115\n",
      "[91,    40] loss: 0.074\n",
      "[91,    80] loss: 0.104\n",
      "[91,   120] loss: 0.106\n",
      "[92,    40] loss: 0.082\n",
      "[92,    80] loss: 0.085\n",
      "[92,   120] loss: 0.098\n",
      "[93,    40] loss: 0.066\n",
      "[93,    80] loss: 0.081\n",
      "[93,   120] loss: 0.082\n",
      "[94,    40] loss: 0.065\n",
      "[94,    80] loss: 0.058\n",
      "[94,   120] loss: 0.064\n",
      "[95,    40] loss: 0.061\n",
      "[95,    80] loss: 0.069\n",
      "[95,   120] loss: 0.085\n",
      "[96,    40] loss: 0.073\n",
      "[96,    80] loss: 0.064\n",
      "[96,   120] loss: 0.099\n",
      "[97,    40] loss: 0.064\n",
      "[97,    80] loss: 0.075\n",
      "[97,   120] loss: 0.087\n",
      "[98,    40] loss: 0.064\n",
      "[98,    80] loss: 0.067\n",
      "[98,   120] loss: 0.071\n",
      "[99,    40] loss: 0.068\n",
      "[99,    80] loss: 0.060\n",
      "[99,   120] loss: 0.079\n",
      "[100,    40] loss: 0.056\n",
      "[100,    80] loss: 0.064\n",
      "[100,   120] loss: 0.063\n",
      "[101,    40] loss: 0.056\n",
      "[101,    80] loss: 0.061\n",
      "[101,   120] loss: 0.068\n",
      "[102,    40] loss: 0.060\n",
      "[102,    80] loss: 0.045\n",
      "[102,   120] loss: 0.042\n",
      "Finished Training\n",
      " \n",
      "================================================================================================================================================================\n",
      "  S.No.  fg_class        bg_class                      Epoch used    total_points    correct    accuracy     FTPT     FFPT      FTPF       FFPF    avg_img > 0.5\n",
      "-------  --------------  --------------------------  ------------  --------------  ---------  ----------  -------  -------  --------  ---------  ---------------\n",
      "      1  fg = [0, 1, 2]  bg = [3, 4, 5, 6, 7, 8, 9]            84           30000      29703     99.01    83.7333  15.2767  0.266667  0.723333             22323\n",
      "      2  fg = [0, 1, 2]  bg = [3, 4, 5, 6, 7, 8, 9]            55           30000      29893     99.6433  87.96    11.6833  0.346667  0.01                 19991\n",
      "      3  fg = [0, 1, 2]  bg = [3, 4, 5, 6, 7, 8, 9]            55           30000      29918     99.7267  88.9     10.8267  0.236667  0.0366667            20017\n",
      "      4  fg = [0, 1, 2]  bg = [3, 4, 5, 6, 7, 8, 9]           101           30000      29754     99.18    76.91    22.27    0.1       0.72                 22517\n",
      " \n",
      "================================================================================================================================================================\n",
      " \n",
      "================================================================================================================================================================\n",
      "  S.No.  fg_class        bg_class                    Epoch used      total_points    correct    accuracy    FTPT    FFPT    FTPF    FFPF    avg_img > 0.5\n",
      "-------  --------------  --------------------------  ------------  --------------  ---------  ----------  ------  ------  ------  ------  ---------------\n",
      "      1  fg = [0, 1, 2]  bg = [3, 4, 5, 6, 7, 8, 9]  NA                     10000       9459       94.59   80.88   13.71    2.53    2.88             7347\n",
      "      2  fg = [0, 1, 2]  bg = [3, 4, 5, 6, 7, 8, 9]  NA                     10000       9892       98.92   87.31   11.61    1.07    0.01             6638\n",
      "      3  fg = [0, 1, 2]  bg = [3, 4, 5, 6, 7, 8, 9]  NA                     10000       9900       99      88.14   10.86    0.94    0.06             6646\n",
      "      4  fg = [0, 1, 2]  bg = [3, 4, 5, 6, 7, 8, 9]  NA                     10000       8743       87.43   69.51   17.92    2.8     9.77             7061\n",
      " \n",
      "================================================================================================================================================================\n",
      " \n",
      "================================================================================================================================================================\n",
      "  S.No.  fg_class        bg_class                    Epoch used      total_points    correct    accuracy    FTPT    FFPT    FTPF    FFPF    avg_img > 0.5\n",
      "-------  --------------  --------------------------  ------------  --------------  ---------  ----------  ------  ------  ------  ------  ---------------\n",
      "      1  fg = [0, 1, 2]  bg = [3, 4, 5, 6, 7, 8, 9]  NA                     10000       8301       83.01   67.6    15.41    9.68    7.31             7083\n",
      "      2  fg = [0, 1, 2]  bg = [3, 4, 5, 6, 7, 8, 9]  NA                     10000       9500       95      82.02   12.98    4.91    0.09             6602\n",
      "      3  fg = [0, 1, 2]  bg = [3, 4, 5, 6, 7, 8, 9]  NA                     10000       9556       95.56   83.89   11.67    4.38    0.06             6636\n",
      "      4  fg = [0, 1, 2]  bg = [3, 4, 5, 6, 7, 8, 9]  NA                     10000       6776       67.76   47.06   20.7     8.96   23.28             6671\n",
      " \n",
      "================================================================================================================================================================\n",
      " \n",
      "================================================================================================================================================================\n",
      "  S.No.  fg_class        bg_class                    Epoch used      total_points    correct    accuracy    FTPT    FFPT    FTPF    FFPF    avg_img > 0.5\n",
      "-------  --------------  --------------------------  ------------  --------------  ---------  ----------  ------  ------  ------  ------  ---------------\n",
      "      1  fg = [0, 1, 2]  bg = [3, 4, 5, 6, 7, 8, 9]  NA                     10000       7188       71.88   49.95   21.93   11.76   16.36             4188\n",
      "      2  fg = [0, 1, 2]  bg = [3, 4, 5, 6, 7, 8, 9]  NA                     10000       3419       34.19    7.92   26.27    9.74   56.07               47\n",
      "      3  fg = [0, 1, 2]  bg = [3, 4, 5, 6, 7, 8, 9]  NA                     10000       3367       33.67    5.96   27.71   11.48   54.85               69\n",
      "      4  fg = [0, 1, 2]  bg = [3, 4, 5, 6, 7, 8, 9]  NA                     10000       8547       85.47   67.61   17.86    3.35   11.18             6939\n",
      " \n",
      "================================================================================================================================================================\n",
      " \n",
      "================================================================================================================================================================\n",
      "  S.No.  fg_class        bg_class                    Epoch used      total_points    correct    accuracy    FTPT    FFPT    FTPF    FFPF    avg_img > 0.5\n",
      "-------  --------------  --------------------------  ------------  --------------  ---------  ----------  ------  ------  ------  ------  ---------------\n",
      "      1  fg = [0, 1, 2]  bg = [3, 4, 5, 6, 7, 8, 9]  NA                     10000       5800       58      34.07   23.93   11.94   30.06             3877\n",
      "      2  fg = [0, 1, 2]  bg = [3, 4, 5, 6, 7, 8, 9]  NA                     10000       3374       33.74    7.76   25.98    9.62   56.64               61\n",
      "      3  fg = [0, 1, 2]  bg = [3, 4, 5, 6, 7, 8, 9]  NA                     10000       3346       33.46    5.93   27.53   10.8    55.74               55\n",
      "      4  fg = [0, 1, 2]  bg = [3, 4, 5, 6, 7, 8, 9]  NA                     10000       6557       65.57   45.2    20.37    9.27   25.16             6478\n",
      " \n",
      "================================================================================================================================================================\n",
      "[1,    40] loss: 1.101\n",
      "[1,    80] loss: 1.099\n",
      "[1,   120] loss: 1.099\n",
      "[2,    40] loss: 1.099\n",
      "[2,    80] loss: 1.099\n",
      "[2,   120] loss: 1.099\n",
      "[3,    40] loss: 1.099\n",
      "[3,    80] loss: 1.099\n",
      "[3,   120] loss: 1.098\n",
      "[4,    40] loss: 1.098\n",
      "[4,    80] loss: 1.099\n",
      "[4,   120] loss: 1.098\n",
      "[5,    40] loss: 1.098\n",
      "[5,    80] loss: 1.098\n",
      "[5,   120] loss: 1.098\n",
      "[6,    40] loss: 1.098\n",
      "[6,    80] loss: 1.098\n",
      "[6,   120] loss: 1.098\n",
      "[7,    40] loss: 1.098\n",
      "[7,    80] loss: 1.098\n",
      "[7,   120] loss: 1.097\n",
      "[8,    40] loss: 1.097\n",
      "[8,    80] loss: 1.097\n",
      "[8,   120] loss: 1.097\n",
      "[9,    40] loss: 1.096\n",
      "[9,    80] loss: 1.095\n",
      "[9,   120] loss: 1.094\n",
      "[10,    40] loss: 1.093\n",
      "[10,    80] loss: 1.092\n",
      "[10,   120] loss: 1.090\n",
      "[11,    40] loss: 1.087\n",
      "[11,    80] loss: 1.087\n",
      "[11,   120] loss: 1.086\n",
      "[12,    40] loss: 1.084\n",
      "[12,    80] loss: 1.081\n",
      "[12,   120] loss: 1.080\n",
      "[13,    40] loss: 1.078\n",
      "[13,    80] loss: 1.079\n",
      "[13,   120] loss: 1.077\n",
      "[14,    40] loss: 1.076\n",
      "[14,    80] loss: 1.077\n",
      "[14,   120] loss: 1.075\n",
      "[15,    40] loss: 1.074\n",
      "[15,    80] loss: 1.072\n",
      "[15,   120] loss: 1.073\n",
      "[16,    40] loss: 1.071\n",
      "[16,    80] loss: 1.071\n",
      "[16,   120] loss: 1.069\n",
      "[17,    40] loss: 1.067\n",
      "[17,    80] loss: 1.073\n",
      "[17,   120] loss: 1.069\n",
      "[18,    40] loss: 1.070\n",
      "[18,    80] loss: 1.066\n",
      "[18,   120] loss: 1.062\n",
      "[19,    40] loss: 1.066\n",
      "[19,    80] loss: 1.062\n",
      "[19,   120] loss: 1.059\n",
      "[20,    40] loss: 1.058\n",
      "[20,    80] loss: 1.059\n",
      "[20,   120] loss: 1.055\n",
      "[21,    40] loss: 1.052\n",
      "[21,    80] loss: 1.050\n",
      "[21,   120] loss: 1.048\n",
      "[22,    40] loss: 1.046\n",
      "[22,    80] loss: 1.046\n",
      "[22,   120] loss: 1.041\n",
      "[23,    40] loss: 1.040\n",
      "[23,    80] loss: 1.040\n",
      "[23,   120] loss: 1.030\n",
      "[24,    40] loss: 1.030\n",
      "[24,    80] loss: 1.027\n",
      "[24,   120] loss: 1.017\n",
      "[25,    40] loss: 1.006\n",
      "[25,    80] loss: 1.009\n",
      "[25,   120] loss: 0.995\n",
      "[26,    40] loss: 0.999\n",
      "[26,    80] loss: 0.976\n",
      "[26,   120] loss: 0.975\n",
      "[27,    40] loss: 0.971\n",
      "[27,    80] loss: 0.967\n",
      "[27,   120] loss: 0.956\n",
      "[28,    40] loss: 0.953\n",
      "[28,    80] loss: 0.937\n",
      "[28,   120] loss: 0.938\n",
      "[29,    40] loss: 0.916\n",
      "[29,    80] loss: 0.905\n",
      "[29,   120] loss: 0.901\n",
      "[30,    40] loss: 0.878\n",
      "[30,    80] loss: 0.876\n",
      "[30,   120] loss: 0.881\n",
      "[31,    40] loss: 0.859\n",
      "[31,    80] loss: 0.845\n",
      "[31,   120] loss: 0.838\n",
      "[32,    40] loss: 0.832\n",
      "[32,    80] loss: 0.824\n",
      "[32,   120] loss: 0.820\n",
      "[33,    40] loss: 0.797\n",
      "[33,    80] loss: 0.794\n",
      "[33,   120] loss: 0.778\n",
      "[34,    40] loss: 0.768\n",
      "[34,    80] loss: 0.769\n",
      "[34,   120] loss: 0.757\n",
      "[35,    40] loss: 0.759\n",
      "[35,    80] loss: 0.737\n",
      "[35,   120] loss: 0.723\n",
      "[36,    40] loss: 0.717\n",
      "[36,    80] loss: 0.712\n",
      "[36,   120] loss: 0.723\n",
      "[37,    40] loss: 0.696\n",
      "[37,    80] loss: 0.683\n",
      "[37,   120] loss: 0.690\n",
      "[38,    40] loss: 0.656\n",
      "[38,    80] loss: 0.659\n",
      "[38,   120] loss: 0.668\n",
      "[39,    40] loss: 0.636\n",
      "[39,    80] loss: 0.641\n",
      "[39,   120] loss: 0.621\n",
      "[40,    40] loss: 0.599\n",
      "[40,    80] loss: 0.614\n",
      "[40,   120] loss: 0.589\n",
      "[41,    40] loss: 0.581\n",
      "[41,    80] loss: 0.571\n",
      "[41,   120] loss: 0.595\n",
      "[42,    40] loss: 0.561\n",
      "[42,    80] loss: 0.559\n",
      "[42,   120] loss: 0.565\n",
      "[43,    40] loss: 0.542\n",
      "[43,    80] loss: 0.525\n",
      "[43,   120] loss: 0.544\n",
      "[44,    40] loss: 0.520\n",
      "[44,    80] loss: 0.504\n",
      "[44,   120] loss: 0.515\n",
      "[45,    40] loss: 0.469\n",
      "[45,    80] loss: 0.492\n",
      "[45,   120] loss: 0.504\n",
      "[46,    40] loss: 0.468\n",
      "[46,    80] loss: 0.461\n",
      "[46,   120] loss: 0.477\n",
      "[47,    40] loss: 0.461\n",
      "[47,    80] loss: 0.449\n",
      "[47,   120] loss: 0.466\n",
      "[48,    40] loss: 0.438\n",
      "[48,    80] loss: 0.423\n",
      "[48,   120] loss: 0.443\n",
      "[49,    40] loss: 0.405\n",
      "[49,    80] loss: 0.421\n",
      "[49,   120] loss: 0.428\n",
      "[50,    40] loss: 0.406\n",
      "[50,    80] loss: 0.412\n",
      "[50,   120] loss: 0.408\n",
      "[51,    40] loss: 0.373\n",
      "[51,    80] loss: 0.393\n",
      "[51,   120] loss: 0.391\n",
      "[52,    40] loss: 0.375\n",
      "[52,    80] loss: 0.371\n",
      "[52,   120] loss: 0.378\n",
      "[53,    40] loss: 0.349\n",
      "[53,    80] loss: 0.373\n",
      "[53,   120] loss: 0.372\n",
      "[54,    40] loss: 0.340\n",
      "[54,    80] loss: 0.349\n",
      "[54,   120] loss: 0.339\n",
      "[55,    40] loss: 0.307\n",
      "[55,    80] loss: 0.336\n",
      "[55,   120] loss: 0.350\n",
      "[56,    40] loss: 0.306\n",
      "[56,    80] loss: 0.336\n",
      "[56,   120] loss: 0.323\n",
      "[57,    40] loss: 0.292\n",
      "[57,    80] loss: 0.314\n",
      "[57,   120] loss: 0.307\n",
      "[58,    40] loss: 0.274\n",
      "[58,    80] loss: 0.310\n",
      "[58,   120] loss: 0.329\n",
      "[59,    40] loss: 0.298\n",
      "[59,    80] loss: 0.297\n",
      "[59,   120] loss: 0.322\n",
      "[60,    40] loss: 0.267\n",
      "[60,    80] loss: 0.267\n",
      "[60,   120] loss: 0.296\n",
      "[61,    40] loss: 0.240\n",
      "[61,    80] loss: 0.260\n",
      "[61,   120] loss: 0.262\n",
      "[62,    40] loss: 0.252\n",
      "[62,    80] loss: 0.272\n",
      "[62,   120] loss: 0.251\n",
      "[63,    40] loss: 0.246\n",
      "[63,    80] loss: 0.257\n",
      "[63,   120] loss: 0.270\n",
      "[64,    40] loss: 0.239\n",
      "[64,    80] loss: 0.245\n",
      "[64,   120] loss: 0.279\n",
      "[65,    40] loss: 0.245\n",
      "[65,    80] loss: 0.251\n",
      "[65,   120] loss: 0.242\n",
      "[66,    40] loss: 0.225\n",
      "[66,    80] loss: 0.270\n",
      "[66,   120] loss: 0.255\n",
      "[67,    40] loss: 0.226\n",
      "[67,    80] loss: 0.213\n",
      "[67,   120] loss: 0.243\n",
      "[68,    40] loss: 0.189\n",
      "[68,    80] loss: 0.223\n",
      "[68,   120] loss: 0.234\n",
      "[69,    40] loss: 0.200\n",
      "[69,    80] loss: 0.204\n",
      "[69,   120] loss: 0.224\n",
      "[70,    40] loss: 0.186\n",
      "[70,    80] loss: 0.217\n",
      "[70,   120] loss: 0.213\n",
      "[71,    40] loss: 0.174\n",
      "[71,    80] loss: 0.196\n",
      "[71,   120] loss: 0.192\n",
      "[72,    40] loss: 0.186\n",
      "[72,    80] loss: 0.199\n",
      "[72,   120] loss: 0.195\n",
      "[73,    40] loss: 0.183\n",
      "[73,    80] loss: 0.180\n",
      "[73,   120] loss: 0.186\n",
      "[74,    40] loss: 0.196\n",
      "[74,    80] loss: 0.175\n",
      "[74,   120] loss: 0.173\n",
      "[75,    40] loss: 0.162\n",
      "[75,    80] loss: 0.172\n",
      "[75,   120] loss: 0.191\n",
      "[76,    40] loss: 0.155\n",
      "[76,    80] loss: 0.178\n",
      "[76,   120] loss: 0.211\n",
      "[77,    40] loss: 0.176\n",
      "[77,    80] loss: 0.177\n",
      "[77,   120] loss: 0.175\n",
      "[78,    40] loss: 0.153\n",
      "[78,    80] loss: 0.174\n",
      "[78,   120] loss: 0.166\n",
      "[79,    40] loss: 0.151\n",
      "[79,    80] loss: 0.167\n",
      "[79,   120] loss: 0.154\n",
      "[80,    40] loss: 0.145\n",
      "[80,    80] loss: 0.143\n",
      "[80,   120] loss: 0.164\n",
      "[81,    40] loss: 0.133\n",
      "[81,    80] loss: 0.166\n",
      "[81,   120] loss: 0.144\n",
      "[82,    40] loss: 0.136\n",
      "[82,    80] loss: 0.152\n",
      "[82,   120] loss: 0.158\n",
      "[83,    40] loss: 0.120\n",
      "[83,    80] loss: 0.132\n",
      "[83,   120] loss: 0.142\n",
      "[84,    40] loss: 0.111\n",
      "[84,    80] loss: 0.129\n",
      "[84,   120] loss: 0.141\n",
      "[85,    40] loss: 0.108\n",
      "[85,    80] loss: 0.160\n",
      "[85,   120] loss: 0.154\n",
      "[86,    40] loss: 0.121\n",
      "[86,    80] loss: 0.128\n",
      "[86,   120] loss: 0.174\n",
      "[87,    40] loss: 0.141\n",
      "[87,    80] loss: 0.123\n",
      "[87,   120] loss: 0.166\n",
      "[88,    40] loss: 0.133\n",
      "[88,    80] loss: 0.119\n",
      "[88,   120] loss: 0.114\n",
      "[89,    40] loss: 0.094\n",
      "[89,    80] loss: 0.119\n",
      "[89,   120] loss: 0.129\n",
      "[90,    40] loss: 0.106\n",
      "[90,    80] loss: 0.115\n",
      "[90,   120] loss: 0.121\n",
      "[91,    40] loss: 0.107\n",
      "[91,    80] loss: 0.113\n",
      "[91,   120] loss: 0.123\n",
      "[92,    40] loss: 0.108\n",
      "[92,    80] loss: 0.105\n",
      "[92,   120] loss: 0.120\n",
      "[93,    40] loss: 0.114\n",
      "[93,    80] loss: 0.111\n",
      "[93,   120] loss: 0.107\n",
      "[94,    40] loss: 0.086\n",
      "[94,    80] loss: 0.080\n",
      "[94,   120] loss: 0.095\n",
      "[95,    40] loss: 0.081\n",
      "[95,    80] loss: 0.096\n",
      "[95,   120] loss: 0.104\n",
      "[96,    40] loss: 0.078\n",
      "[96,    80] loss: 0.096\n",
      "[96,   120] loss: 0.109\n",
      "[97,    40] loss: 0.078\n",
      "[97,    80] loss: 0.078\n",
      "[97,   120] loss: 0.067\n",
      "[98,    40] loss: 0.063\n",
      "[98,    80] loss: 0.068\n",
      "[98,   120] loss: 0.084\n",
      "[99,    40] loss: 0.085\n",
      "[99,    80] loss: 0.095\n",
      "[99,   120] loss: 0.083\n",
      "[100,    40] loss: 0.072\n",
      "[100,    80] loss: 0.080\n",
      "[100,   120] loss: 0.095\n",
      "[101,    40] loss: 0.068\n",
      "[101,    80] loss: 0.075\n",
      "[101,   120] loss: 0.086\n",
      "[102,    40] loss: 0.070\n",
      "[102,    80] loss: 0.090\n",
      "[102,   120] loss: 0.095\n",
      "[103,    40] loss: 0.067\n",
      "[103,    80] loss: 0.062\n",
      "[103,   120] loss: 0.094\n",
      "[104,    40] loss: 0.084\n",
      "[104,    80] loss: 0.067\n",
      "[104,   120] loss: 0.073\n",
      "[105,    40] loss: 0.060\n",
      "[105,    80] loss: 0.066\n",
      "[105,   120] loss: 0.085\n",
      "[106,    40] loss: 0.063\n",
      "[106,    80] loss: 0.074\n",
      "[106,   120] loss: 0.066\n",
      "[107,    40] loss: 0.045\n",
      "[107,    80] loss: 0.056\n",
      "[107,   120] loss: 0.078\n",
      "[108,    40] loss: 0.075\n",
      "[108,    80] loss: 0.055\n",
      "[108,   120] loss: 0.081\n",
      "[109,    40] loss: 0.073\n",
      "[109,    80] loss: 0.093\n",
      "[109,   120] loss: 0.085\n",
      "[110,    40] loss: 0.062\n",
      "[110,    80] loss: 0.061\n",
      "[110,   120] loss: 0.063\n",
      "[111,    40] loss: 0.053\n",
      "[111,    80] loss: 0.046\n",
      "[111,   120] loss: 0.065\n",
      "[112,    40] loss: 0.062\n",
      "[112,    80] loss: 0.058\n",
      "[112,   120] loss: 0.077\n",
      "[113,    40] loss: 0.044\n",
      "[113,    80] loss: 0.040\n",
      "[113,   120] loss: 0.051\n",
      "Finished Training\n",
      " \n",
      "================================================================================================================================================================\n",
      "  S.No.  fg_class        bg_class                      Epoch used    total_points    correct    accuracy     FTPT     FFPT      FTPF       FFPF    avg_img > 0.5\n",
      "-------  --------------  --------------------------  ------------  --------------  ---------  ----------  -------  -------  --------  ---------  ---------------\n",
      "      1  fg = [0, 1, 2]  bg = [3, 4, 5, 6, 7, 8, 9]            84           30000      29703     99.01    83.7333  15.2767  0.266667  0.723333             22323\n",
      "      2  fg = [0, 1, 2]  bg = [3, 4, 5, 6, 7, 8, 9]            55           30000      29893     99.6433  87.96    11.6833  0.346667  0.01                 19991\n",
      "      3  fg = [0, 1, 2]  bg = [3, 4, 5, 6, 7, 8, 9]            55           30000      29918     99.7267  88.9     10.8267  0.236667  0.0366667            20017\n",
      "      4  fg = [0, 1, 2]  bg = [3, 4, 5, 6, 7, 8, 9]           101           30000      29754     99.18    76.91    22.27    0.1       0.72                 22517\n",
      "      5  fg = [0, 1, 2]  bg = [3, 4, 5, 6, 7, 8, 9]           112           30000      29575     98.5833  75.4833  23.1     0.21      1.20667              23498\n",
      " \n",
      "================================================================================================================================================================\n",
      " \n",
      "================================================================================================================================================================\n",
      "  S.No.  fg_class        bg_class                    Epoch used      total_points    correct    accuracy    FTPT    FFPT    FTPF    FFPF    avg_img > 0.5\n",
      "-------  --------------  --------------------------  ------------  --------------  ---------  ----------  ------  ------  ------  ------  ---------------\n",
      "      1  fg = [0, 1, 2]  bg = [3, 4, 5, 6, 7, 8, 9]  NA                     10000       9459       94.59   80.88   13.71    2.53    2.88             7347\n",
      "      2  fg = [0, 1, 2]  bg = [3, 4, 5, 6, 7, 8, 9]  NA                     10000       9892       98.92   87.31   11.61    1.07    0.01             6638\n",
      "      3  fg = [0, 1, 2]  bg = [3, 4, 5, 6, 7, 8, 9]  NA                     10000       9900       99      88.14   10.86    0.94    0.06             6646\n",
      "      4  fg = [0, 1, 2]  bg = [3, 4, 5, 6, 7, 8, 9]  NA                     10000       8743       87.43   69.51   17.92    2.8     9.77             7061\n",
      "      5  fg = [0, 1, 2]  bg = [3, 4, 5, 6, 7, 8, 9]  NA                     10000       8572       85.72   68.03   17.69    3.24   11.04             7459\n",
      " \n",
      "================================================================================================================================================================\n",
      " \n",
      "================================================================================================================================================================\n",
      "  S.No.  fg_class        bg_class                    Epoch used      total_points    correct    accuracy    FTPT    FFPT    FTPF    FFPF    avg_img > 0.5\n",
      "-------  --------------  --------------------------  ------------  --------------  ---------  ----------  ------  ------  ------  ------  ---------------\n",
      "      1  fg = [0, 1, 2]  bg = [3, 4, 5, 6, 7, 8, 9]  NA                     10000       8301       83.01   67.6    15.41    9.68    7.31             7083\n",
      "      2  fg = [0, 1, 2]  bg = [3, 4, 5, 6, 7, 8, 9]  NA                     10000       9500       95      82.02   12.98    4.91    0.09             6602\n",
      "      3  fg = [0, 1, 2]  bg = [3, 4, 5, 6, 7, 8, 9]  NA                     10000       9556       95.56   83.89   11.67    4.38    0.06             6636\n",
      "      4  fg = [0, 1, 2]  bg = [3, 4, 5, 6, 7, 8, 9]  NA                     10000       6776       67.76   47.06   20.7     8.96   23.28             6671\n",
      "      5  fg = [0, 1, 2]  bg = [3, 4, 5, 6, 7, 8, 9]  NA                     10000       6563       65.63   45.29   20.34    8.34   26.03             7093\n",
      " \n",
      "================================================================================================================================================================\n",
      " \n",
      "================================================================================================================================================================\n",
      "  S.No.  fg_class        bg_class                    Epoch used      total_points    correct    accuracy    FTPT    FFPT    FTPF    FFPF    avg_img > 0.5\n",
      "-------  --------------  --------------------------  ------------  --------------  ---------  ----------  ------  ------  ------  ------  ---------------\n",
      "      1  fg = [0, 1, 2]  bg = [3, 4, 5, 6, 7, 8, 9]  NA                     10000       7188       71.88   49.95   21.93   11.76   16.36             4188\n",
      "      2  fg = [0, 1, 2]  bg = [3, 4, 5, 6, 7, 8, 9]  NA                     10000       3419       34.19    7.92   26.27    9.74   56.07               47\n",
      "      3  fg = [0, 1, 2]  bg = [3, 4, 5, 6, 7, 8, 9]  NA                     10000       3367       33.67    5.96   27.71   11.48   54.85               69\n",
      "      4  fg = [0, 1, 2]  bg = [3, 4, 5, 6, 7, 8, 9]  NA                     10000       8547       85.47   67.61   17.86    3.35   11.18             6939\n",
      "      5  fg = [0, 1, 2]  bg = [3, 4, 5, 6, 7, 8, 9]  NA                     10000       8436       84.36   66.48   17.88    3.98   11.66             7351\n",
      " \n",
      "================================================================================================================================================================\n",
      " \n",
      "================================================================================================================================================================\n",
      "  S.No.  fg_class        bg_class                    Epoch used      total_points    correct    accuracy    FTPT    FFPT    FTPF    FFPF    avg_img > 0.5\n",
      "-------  --------------  --------------------------  ------------  --------------  ---------  ----------  ------  ------  ------  ------  ---------------\n",
      "      1  fg = [0, 1, 2]  bg = [3, 4, 5, 6, 7, 8, 9]  NA                     10000       5800       58      34.07   23.93   11.94   30.06             3877\n",
      "      2  fg = [0, 1, 2]  bg = [3, 4, 5, 6, 7, 8, 9]  NA                     10000       3374       33.74    7.76   25.98    9.62   56.64               61\n",
      "      3  fg = [0, 1, 2]  bg = [3, 4, 5, 6, 7, 8, 9]  NA                     10000       3346       33.46    5.93   27.53   10.8    55.74               55\n",
      "      4  fg = [0, 1, 2]  bg = [3, 4, 5, 6, 7, 8, 9]  NA                     10000       6557       65.57   45.2    20.37    9.27   25.16             6478\n",
      "      5  fg = [0, 1, 2]  bg = [3, 4, 5, 6, 7, 8, 9]  NA                     10000       6353       63.53   43.56   19.97    8.17   28.3              6993\n",
      " \n",
      "================================================================================================================================================================\n",
      "[1,    40] loss: 1.105\n",
      "[1,    80] loss: 1.099\n",
      "[1,   120] loss: 1.099\n",
      "[2,    40] loss: 1.099\n",
      "[2,    80] loss: 1.099\n",
      "[2,   120] loss: 1.099\n",
      "[3,    40] loss: 1.099\n",
      "[3,    80] loss: 1.099\n",
      "[3,   120] loss: 1.099\n",
      "[4,    40] loss: 1.099\n",
      "[4,    80] loss: 1.098\n",
      "[4,   120] loss: 1.099\n",
      "[5,    40] loss: 1.099\n",
      "[5,    80] loss: 1.099\n",
      "[5,   120] loss: 1.099\n",
      "[6,    40] loss: 1.098\n",
      "[6,    80] loss: 1.099\n",
      "[6,   120] loss: 1.098\n",
      "[7,    40] loss: 1.098\n",
      "[7,    80] loss: 1.098\n",
      "[7,   120] loss: 1.098\n",
      "[8,    40] loss: 1.098\n",
      "[8,    80] loss: 1.098\n",
      "[8,   120] loss: 1.098\n",
      "[9,    40] loss: 1.098\n",
      "[9,    80] loss: 1.098\n",
      "[9,   120] loss: 1.098\n",
      "[10,    40] loss: 1.098\n",
      "[10,    80] loss: 1.098\n",
      "[10,   120] loss: 1.098\n",
      "[11,    40] loss: 1.098\n",
      "[11,    80] loss: 1.097\n",
      "[11,   120] loss: 1.097\n",
      "[12,    40] loss: 1.097\n",
      "[12,    80] loss: 1.097\n",
      "[12,   120] loss: 1.096\n",
      "[13,    40] loss: 1.095\n",
      "[13,    80] loss: 1.094\n",
      "[13,   120] loss: 1.093\n",
      "[14,    40] loss: 1.091\n",
      "[14,    80] loss: 1.089\n",
      "[14,   120] loss: 1.086\n",
      "[15,    40] loss: 1.083\n",
      "[15,    80] loss: 1.079\n",
      "[15,   120] loss: 1.078\n",
      "[16,    40] loss: 1.075\n",
      "[16,    80] loss: 1.074\n",
      "[16,   120] loss: 1.070\n",
      "[17,    40] loss: 1.073\n",
      "[17,    80] loss: 1.067\n",
      "[17,   120] loss: 1.069\n",
      "[18,    40] loss: 1.068\n",
      "[18,    80] loss: 1.066\n",
      "[18,   120] loss: 1.066\n",
      "[19,    40] loss: 1.064\n",
      "[19,    80] loss: 1.064\n",
      "[19,   120] loss: 1.062\n",
      "[20,    40] loss: 1.063\n",
      "[20,    80] loss: 1.058\n",
      "[20,   120] loss: 1.063\n",
      "[21,    40] loss: 1.060\n",
      "[21,    80] loss: 1.053\n",
      "[21,   120] loss: 1.058\n",
      "[22,    40] loss: 1.056\n",
      "[22,    80] loss: 1.051\n",
      "[22,   120] loss: 1.048\n",
      "[23,    40] loss: 1.051\n",
      "[23,    80] loss: 1.045\n",
      "[23,   120] loss: 1.042\n",
      "[24,    40] loss: 1.045\n",
      "[24,    80] loss: 1.040\n",
      "[24,   120] loss: 1.047\n",
      "[25,    40] loss: 1.038\n",
      "[25,    80] loss: 1.036\n",
      "[25,   120] loss: 1.035\n",
      "[26,    40] loss: 1.032\n",
      "[26,    80] loss: 1.027\n",
      "[26,   120] loss: 1.019\n",
      "[27,    40] loss: 1.015\n",
      "[27,    80] loss: 1.011\n",
      "[27,   120] loss: 1.000\n",
      "[28,    40] loss: 1.001\n",
      "[28,    80] loss: 0.986\n",
      "[28,   120] loss: 0.977\n",
      "[29,    40] loss: 0.962\n",
      "[29,    80] loss: 0.962\n",
      "[29,   120] loss: 0.949\n",
      "[30,    40] loss: 0.933\n",
      "[30,    80] loss: 0.918\n",
      "[30,   120] loss: 0.922\n",
      "[31,    40] loss: 0.896\n",
      "[31,    80] loss: 0.879\n",
      "[31,   120] loss: 0.887\n",
      "[32,    40] loss: 0.872\n",
      "[32,    80] loss: 0.847\n",
      "[32,   120] loss: 0.852\n",
      "[33,    40] loss: 0.852\n",
      "[33,    80] loss: 0.823\n",
      "[33,   120] loss: 0.818\n",
      "[34,    40] loss: 0.799\n",
      "[34,    80] loss: 0.791\n",
      "[34,   120] loss: 0.798\n",
      "[35,    40] loss: 0.782\n",
      "[35,    80] loss: 0.787\n",
      "[35,   120] loss: 0.770\n",
      "[36,    40] loss: 0.747\n",
      "[36,    80] loss: 0.740\n",
      "[36,   120] loss: 0.740\n",
      "[37,    40] loss: 0.701\n",
      "[37,    80] loss: 0.725\n",
      "[37,   120] loss: 0.718\n",
      "[38,    40] loss: 0.677\n",
      "[38,    80] loss: 0.685\n",
      "[38,   120] loss: 0.689\n",
      "[39,    40] loss: 0.670\n",
      "[39,    80] loss: 0.655\n",
      "[39,   120] loss: 0.650\n",
      "[40,    40] loss: 0.637\n",
      "[40,    80] loss: 0.632\n",
      "[40,   120] loss: 0.621\n",
      "[41,    40] loss: 0.585\n",
      "[41,    80] loss: 0.576\n",
      "[41,   120] loss: 0.594\n",
      "[42,    40] loss: 0.567\n",
      "[42,    80] loss: 0.576\n",
      "[42,   120] loss: 0.567\n",
      "[43,    40] loss: 0.530\n",
      "[43,    80] loss: 0.545\n",
      "[43,   120] loss: 0.565\n",
      "[44,    40] loss: 0.518\n",
      "[44,    80] loss: 0.528\n",
      "[44,   120] loss: 0.521\n",
      "[45,    40] loss: 0.507\n",
      "[45,    80] loss: 0.521\n",
      "[45,   120] loss: 0.509\n",
      "[46,    40] loss: 0.467\n",
      "[46,    80] loss: 0.477\n",
      "[46,   120] loss: 0.473\n",
      "[47,    40] loss: 0.443\n",
      "[47,    80] loss: 0.490\n",
      "[47,   120] loss: 0.457\n",
      "[48,    40] loss: 0.426\n",
      "[48,    80] loss: 0.422\n",
      "[48,   120] loss: 0.443\n",
      "[49,    40] loss: 0.433\n",
      "[49,    80] loss: 0.431\n",
      "[49,   120] loss: 0.422\n",
      "[50,    40] loss: 0.379\n",
      "[50,    80] loss: 0.395\n",
      "[50,   120] loss: 0.377\n",
      "[51,    40] loss: 0.371\n",
      "[51,    80] loss: 0.372\n",
      "[51,   120] loss: 0.381\n",
      "[52,    40] loss: 0.362\n",
      "[52,    80] loss: 0.350\n",
      "[52,   120] loss: 0.361\n",
      "[53,    40] loss: 0.332\n",
      "[53,    80] loss: 0.345\n",
      "[53,   120] loss: 0.396\n",
      "[54,    40] loss: 0.326\n",
      "[54,    80] loss: 0.335\n",
      "[54,   120] loss: 0.346\n",
      "[55,    40] loss: 0.305\n",
      "[55,    80] loss: 0.314\n",
      "[55,   120] loss: 0.330\n",
      "[56,    40] loss: 0.301\n",
      "[56,    80] loss: 0.300\n",
      "[56,   120] loss: 0.336\n",
      "[57,    40] loss: 0.289\n",
      "[57,    80] loss: 0.299\n",
      "[57,   120] loss: 0.307\n",
      "[58,    40] loss: 0.290\n",
      "[58,    80] loss: 0.272\n",
      "[58,   120] loss: 0.293\n",
      "[59,    40] loss: 0.251\n",
      "[59,    80] loss: 0.291\n",
      "[59,   120] loss: 0.290\n",
      "[60,    40] loss: 0.266\n",
      "[60,    80] loss: 0.288\n",
      "[60,   120] loss: 0.276\n",
      "[61,    40] loss: 0.226\n",
      "[61,    80] loss: 0.257\n",
      "[61,   120] loss: 0.267\n",
      "[62,    40] loss: 0.238\n",
      "[62,    80] loss: 0.260\n",
      "[62,   120] loss: 0.250\n",
      "[63,    40] loss: 0.217\n",
      "[63,    80] loss: 0.221\n",
      "[63,   120] loss: 0.243\n",
      "[64,    40] loss: 0.224\n",
      "[64,    80] loss: 0.229\n",
      "[64,   120] loss: 0.222\n",
      "[65,    40] loss: 0.213\n",
      "[65,    80] loss: 0.216\n",
      "[65,   120] loss: 0.211\n",
      "[66,    40] loss: 0.200\n",
      "[66,    80] loss: 0.189\n",
      "[66,   120] loss: 0.213\n",
      "[67,    40] loss: 0.202\n",
      "[67,    80] loss: 0.216\n",
      "[67,   120] loss: 0.220\n",
      "[68,    40] loss: 0.204\n",
      "[68,    80] loss: 0.210\n",
      "[68,   120] loss: 0.188\n",
      "[69,    40] loss: 0.171\n",
      "[69,    80] loss: 0.178\n",
      "[69,   120] loss: 0.214\n",
      "[70,    40] loss: 0.184\n",
      "[70,    80] loss: 0.192\n",
      "[70,   120] loss: 0.185\n",
      "[71,    40] loss: 0.164\n",
      "[71,    80] loss: 0.194\n",
      "[71,   120] loss: 0.201\n",
      "[72,    40] loss: 0.153\n",
      "[72,    80] loss: 0.162\n",
      "[72,   120] loss: 0.182\n",
      "[73,    40] loss: 0.190\n",
      "[73,    80] loss: 0.184\n",
      "[73,   120] loss: 0.182\n",
      "[74,    40] loss: 0.159\n",
      "[74,    80] loss: 0.187\n",
      "[74,   120] loss: 0.168\n",
      "[75,    40] loss: 0.155\n",
      "[75,    80] loss: 0.147\n",
      "[75,   120] loss: 0.158\n",
      "[76,    40] loss: 0.147\n",
      "[76,    80] loss: 0.145\n",
      "[76,   120] loss: 0.159\n",
      "[77,    40] loss: 0.134\n",
      "[77,    80] loss: 0.133\n",
      "[77,   120] loss: 0.152\n",
      "[78,    40] loss: 0.131\n",
      "[78,    80] loss: 0.156\n",
      "[78,   120] loss: 0.151\n",
      "[79,    40] loss: 0.128\n",
      "[79,    80] loss: 0.145\n",
      "[79,   120] loss: 0.176\n",
      "[80,    40] loss: 0.119\n",
      "[80,    80] loss: 0.135\n",
      "[80,   120] loss: 0.117\n",
      "[81,    40] loss: 0.116\n",
      "[81,    80] loss: 0.111\n",
      "[81,   120] loss: 0.130\n",
      "[82,    40] loss: 0.115\n",
      "[82,    80] loss: 0.107\n",
      "[82,   120] loss: 0.138\n",
      "[83,    40] loss: 0.120\n",
      "[83,    80] loss: 0.119\n",
      "[83,   120] loss: 0.116\n",
      "[84,    40] loss: 0.092\n",
      "[84,    80] loss: 0.106\n",
      "[84,   120] loss: 0.136\n",
      "[85,    40] loss: 0.126\n",
      "[85,    80] loss: 0.113\n",
      "[85,   120] loss: 0.128\n",
      "[86,    40] loss: 0.117\n",
      "[86,    80] loss: 0.120\n",
      "[86,   120] loss: 0.128\n",
      "[87,    40] loss: 0.103\n",
      "[87,    80] loss: 0.088\n",
      "[87,   120] loss: 0.131\n",
      "[88,    40] loss: 0.123\n",
      "[88,    80] loss: 0.103\n",
      "[88,   120] loss: 0.114\n",
      "[89,    40] loss: 0.104\n",
      "[89,    80] loss: 0.098\n",
      "[89,   120] loss: 0.116\n",
      "[90,    40] loss: 0.112\n",
      "[90,    80] loss: 0.089\n",
      "[90,   120] loss: 0.091\n",
      "[91,    40] loss: 0.065\n",
      "[91,    80] loss: 0.094\n",
      "[91,   120] loss: 0.096\n",
      "[92,    40] loss: 0.091\n",
      "[92,    80] loss: 0.089\n",
      "[92,   120] loss: 0.117\n",
      "[93,    40] loss: 0.095\n",
      "[93,    80] loss: 0.102\n",
      "[93,   120] loss: 0.087\n",
      "[94,    40] loss: 0.076\n",
      "[94,    80] loss: 0.075\n",
      "[94,   120] loss: 0.103\n",
      "[95,    40] loss: 0.077\n",
      "[95,    80] loss: 0.077\n",
      "[95,   120] loss: 0.086\n",
      "[96,    40] loss: 0.079\n",
      "[96,    80] loss: 0.087\n",
      "[96,   120] loss: 0.089\n",
      "[97,    40] loss: 0.067\n",
      "[97,    80] loss: 0.078\n",
      "[97,   120] loss: 0.079\n",
      "[98,    40] loss: 0.059\n",
      "[98,    80] loss: 0.075\n",
      "[98,   120] loss: 0.078\n",
      "[99,    40] loss: 0.097\n",
      "[99,    80] loss: 0.116\n",
      "[99,   120] loss: 0.085\n",
      "[100,    40] loss: 0.057\n",
      "[100,    80] loss: 0.054\n",
      "[100,   120] loss: 0.080\n",
      "[101,    40] loss: 0.078\n",
      "[101,    80] loss: 0.076\n",
      "[101,   120] loss: 0.078\n",
      "[102,    40] loss: 0.074\n",
      "[102,    80] loss: 0.064\n",
      "[102,   120] loss: 0.056\n",
      "[103,    40] loss: 0.059\n",
      "[103,    80] loss: 0.068\n",
      "[103,   120] loss: 0.065\n",
      "[104,    40] loss: 0.048\n",
      "[104,    80] loss: 0.061\n",
      "[104,   120] loss: 0.061\n",
      "[105,    40] loss: 0.093\n",
      "[105,    80] loss: 0.065\n",
      "[105,   120] loss: 0.069\n",
      "[106,    40] loss: 0.074\n",
      "[106,    80] loss: 0.080\n",
      "[106,   120] loss: 0.075\n",
      "[107,    40] loss: 0.076\n",
      "[107,    80] loss: 0.056\n",
      "[107,   120] loss: 0.060\n",
      "[108,    40] loss: 0.043\n",
      "[108,    80] loss: 0.045\n",
      "[108,   120] loss: 0.040\n",
      "Finished Training\n",
      " \n",
      "================================================================================================================================================================\n",
      "  S.No.  fg_class        bg_class                      Epoch used    total_points    correct    accuracy     FTPT     FFPT      FTPF       FFPF    avg_img > 0.5\n",
      "-------  --------------  --------------------------  ------------  --------------  ---------  ----------  -------  -------  --------  ---------  ---------------\n",
      "      1  fg = [0, 1, 2]  bg = [3, 4, 5, 6, 7, 8, 9]            84           30000      29703     99.01    83.7333  15.2767  0.266667  0.723333             22323\n",
      "      2  fg = [0, 1, 2]  bg = [3, 4, 5, 6, 7, 8, 9]            55           30000      29893     99.6433  87.96    11.6833  0.346667  0.01                 19991\n",
      "      3  fg = [0, 1, 2]  bg = [3, 4, 5, 6, 7, 8, 9]            55           30000      29918     99.7267  88.9     10.8267  0.236667  0.0366667            20017\n",
      "      4  fg = [0, 1, 2]  bg = [3, 4, 5, 6, 7, 8, 9]           101           30000      29754     99.18    76.91    22.27    0.1       0.72                 22517\n",
      "      5  fg = [0, 1, 2]  bg = [3, 4, 5, 6, 7, 8, 9]           112           30000      29575     98.5833  75.4833  23.1     0.21      1.20667              23498\n",
      "      6  fg = [0, 1, 2]  bg = [3, 4, 5, 6, 7, 8, 9]           107           30000      29836     99.4533  78.58    20.8733  0.06      0.486667             23479\n",
      " \n",
      "================================================================================================================================================================\n",
      " \n",
      "================================================================================================================================================================\n",
      "  S.No.  fg_class        bg_class                    Epoch used      total_points    correct    accuracy    FTPT    FFPT    FTPF    FFPF    avg_img > 0.5\n",
      "-------  --------------  --------------------------  ------------  --------------  ---------  ----------  ------  ------  ------  ------  ---------------\n",
      "      1  fg = [0, 1, 2]  bg = [3, 4, 5, 6, 7, 8, 9]  NA                     10000       9459       94.59   80.88   13.71    2.53    2.88             7347\n",
      "      2  fg = [0, 1, 2]  bg = [3, 4, 5, 6, 7, 8, 9]  NA                     10000       9892       98.92   87.31   11.61    1.07    0.01             6638\n",
      "      3  fg = [0, 1, 2]  bg = [3, 4, 5, 6, 7, 8, 9]  NA                     10000       9900       99      88.14   10.86    0.94    0.06             6646\n",
      "      4  fg = [0, 1, 2]  bg = [3, 4, 5, 6, 7, 8, 9]  NA                     10000       8743       87.43   69.51   17.92    2.8     9.77             7061\n",
      "      5  fg = [0, 1, 2]  bg = [3, 4, 5, 6, 7, 8, 9]  NA                     10000       8572       85.72   68.03   17.69    3.24   11.04             7459\n",
      "      6  fg = [0, 1, 2]  bg = [3, 4, 5, 6, 7, 8, 9]  NA                     10000       8672       86.72   71.14   15.58    3.19   10.09             7390\n",
      " \n",
      "================================================================================================================================================================\n",
      " \n",
      "================================================================================================================================================================\n",
      "  S.No.  fg_class        bg_class                    Epoch used      total_points    correct    accuracy    FTPT    FFPT    FTPF    FFPF    avg_img > 0.5\n",
      "-------  --------------  --------------------------  ------------  --------------  ---------  ----------  ------  ------  ------  ------  ---------------\n",
      "      1  fg = [0, 1, 2]  bg = [3, 4, 5, 6, 7, 8, 9]  NA                     10000       8301       83.01   67.6    15.41    9.68    7.31             7083\n",
      "      2  fg = [0, 1, 2]  bg = [3, 4, 5, 6, 7, 8, 9]  NA                     10000       9500       95      82.02   12.98    4.91    0.09             6602\n",
      "      3  fg = [0, 1, 2]  bg = [3, 4, 5, 6, 7, 8, 9]  NA                     10000       9556       95.56   83.89   11.67    4.38    0.06             6636\n",
      "      4  fg = [0, 1, 2]  bg = [3, 4, 5, 6, 7, 8, 9]  NA                     10000       6776       67.76   47.06   20.7     8.96   23.28             6671\n",
      "      5  fg = [0, 1, 2]  bg = [3, 4, 5, 6, 7, 8, 9]  NA                     10000       6563       65.63   45.29   20.34    8.34   26.03             7093\n",
      "      6  fg = [0, 1, 2]  bg = [3, 4, 5, 6, 7, 8, 9]  NA                     10000       6721       67.21   47.55   19.66    8.49   24.3              6902\n",
      " \n",
      "================================================================================================================================================================\n",
      " \n",
      "================================================================================================================================================================\n",
      "  S.No.  fg_class        bg_class                    Epoch used      total_points    correct    accuracy    FTPT    FFPT    FTPF    FFPF    avg_img > 0.5\n",
      "-------  --------------  --------------------------  ------------  --------------  ---------  ----------  ------  ------  ------  ------  ---------------\n",
      "      1  fg = [0, 1, 2]  bg = [3, 4, 5, 6, 7, 8, 9]  NA                     10000       7188       71.88   49.95   21.93   11.76   16.36             4188\n",
      "      2  fg = [0, 1, 2]  bg = [3, 4, 5, 6, 7, 8, 9]  NA                     10000       3419       34.19    7.92   26.27    9.74   56.07               47\n",
      "      3  fg = [0, 1, 2]  bg = [3, 4, 5, 6, 7, 8, 9]  NA                     10000       3367       33.67    5.96   27.71   11.48   54.85               69\n",
      "      4  fg = [0, 1, 2]  bg = [3, 4, 5, 6, 7, 8, 9]  NA                     10000       8547       85.47   67.61   17.86    3.35   11.18             6939\n",
      "      5  fg = [0, 1, 2]  bg = [3, 4, 5, 6, 7, 8, 9]  NA                     10000       8436       84.36   66.48   17.88    3.98   11.66             7351\n",
      "      6  fg = [0, 1, 2]  bg = [3, 4, 5, 6, 7, 8, 9]  NA                     10000       8563       85.63   69.25   16.38    4      10.37             7217\n",
      " \n",
      "================================================================================================================================================================\n",
      " \n",
      "================================================================================================================================================================\n",
      "  S.No.  fg_class        bg_class                    Epoch used      total_points    correct    accuracy    FTPT    FFPT    FTPF    FFPF    avg_img > 0.5\n",
      "-------  --------------  --------------------------  ------------  --------------  ---------  ----------  ------  ------  ------  ------  ---------------\n",
      "      1  fg = [0, 1, 2]  bg = [3, 4, 5, 6, 7, 8, 9]  NA                     10000       5800       58      34.07   23.93   11.94   30.06             3877\n",
      "      2  fg = [0, 1, 2]  bg = [3, 4, 5, 6, 7, 8, 9]  NA                     10000       3374       33.74    7.76   25.98    9.62   56.64               61\n",
      "      3  fg = [0, 1, 2]  bg = [3, 4, 5, 6, 7, 8, 9]  NA                     10000       3346       33.46    5.93   27.53   10.8    55.74               55\n",
      "      4  fg = [0, 1, 2]  bg = [3, 4, 5, 6, 7, 8, 9]  NA                     10000       6557       65.57   45.2    20.37    9.27   25.16             6478\n",
      "      5  fg = [0, 1, 2]  bg = [3, 4, 5, 6, 7, 8, 9]  NA                     10000       6353       63.53   43.56   19.97    8.17   28.3              6993\n",
      "      6  fg = [0, 1, 2]  bg = [3, 4, 5, 6, 7, 8, 9]  NA                     10000       6633       66.33   46.59   19.74    8.6    25.07             6818\n",
      " \n",
      "================================================================================================================================================================\n",
      "[1,    40] loss: 1.099\n",
      "[1,    80] loss: 1.099\n",
      "[1,   120] loss: 1.099\n",
      "[2,    40] loss: 1.099\n",
      "[2,    80] loss: 1.099\n",
      "[2,   120] loss: 1.099\n",
      "[3,    40] loss: 1.099\n",
      "[3,    80] loss: 1.099\n",
      "[3,   120] loss: 1.099\n",
      "[4,    40] loss: 1.099\n",
      "[4,    80] loss: 1.098\n",
      "[4,   120] loss: 1.099\n",
      "[5,    40] loss: 1.098\n",
      "[5,    80] loss: 1.098\n",
      "[5,   120] loss: 1.098\n",
      "[6,    40] loss: 1.098\n",
      "[6,    80] loss: 1.098\n",
      "[6,   120] loss: 1.098\n",
      "[7,    40] loss: 1.098\n",
      "[7,    80] loss: 1.098\n",
      "[7,   120] loss: 1.098\n",
      "[8,    40] loss: 1.098\n",
      "[8,    80] loss: 1.097\n",
      "[8,   120] loss: 1.097\n",
      "[9,    40] loss: 1.097\n",
      "[9,    80] loss: 1.097\n",
      "[9,   120] loss: 1.096\n",
      "[10,    40] loss: 1.095\n",
      "[10,    80] loss: 1.095\n",
      "[10,   120] loss: 1.093\n",
      "[11,    40] loss: 1.093\n",
      "[11,    80] loss: 1.091\n",
      "[11,   120] loss: 1.086\n",
      "[12,    40] loss: 1.086\n",
      "[12,    80] loss: 1.084\n",
      "[12,   120] loss: 1.083\n",
      "[13,    40] loss: 1.078\n",
      "[13,    80] loss: 1.080\n",
      "[13,   120] loss: 1.080\n",
      "[14,    40] loss: 1.078\n",
      "[14,    80] loss: 1.076\n",
      "[14,   120] loss: 1.071\n",
      "[15,    40] loss: 1.075\n",
      "[15,    80] loss: 1.070\n",
      "[15,   120] loss: 1.066\n",
      "[16,    40] loss: 1.065\n",
      "[16,    80] loss: 1.070\n",
      "[16,   120] loss: 1.066\n",
      "[17,    40] loss: 1.059\n",
      "[17,    80] loss: 1.067\n",
      "[17,   120] loss: 1.066\n",
      "[18,    40] loss: 1.060\n",
      "[18,    80] loss: 1.064\n",
      "[18,   120] loss: 1.062\n",
      "[19,    40] loss: 1.062\n",
      "[19,    80] loss: 1.056\n",
      "[19,   120] loss: 1.055\n",
      "[20,    40] loss: 1.054\n",
      "[20,    80] loss: 1.054\n",
      "[20,   120] loss: 1.048\n",
      "[21,    40] loss: 1.049\n",
      "[21,    80] loss: 1.045\n",
      "[21,   120] loss: 1.043\n",
      "[22,    40] loss: 1.043\n",
      "[22,    80] loss: 1.049\n",
      "[22,   120] loss: 1.040\n",
      "[23,    40] loss: 1.040\n",
      "[23,    80] loss: 1.046\n",
      "[23,   120] loss: 1.037\n",
      "[24,    40] loss: 1.040\n",
      "[24,    80] loss: 1.030\n",
      "[24,   120] loss: 1.023\n",
      "[25,    40] loss: 1.021\n",
      "[25,    80] loss: 1.016\n",
      "[25,   120] loss: 1.010\n",
      "[26,    40] loss: 1.003\n",
      "[26,    80] loss: 0.997\n",
      "[26,   120] loss: 0.985\n",
      "[27,    40] loss: 0.982\n",
      "[27,    80] loss: 0.969\n",
      "[27,   120] loss: 0.963\n",
      "[28,    40] loss: 0.950\n",
      "[28,    80] loss: 0.946\n",
      "[28,   120] loss: 0.940\n",
      "[29,    40] loss: 0.933\n",
      "[29,    80] loss: 0.921\n",
      "[29,   120] loss: 0.894\n",
      "[30,    40] loss: 0.890\n",
      "[30,    80] loss: 0.884\n",
      "[30,   120] loss: 0.880\n",
      "[31,    40] loss: 0.857\n",
      "[31,    80] loss: 0.856\n",
      "[31,   120] loss: 0.867\n",
      "[32,    40] loss: 0.831\n",
      "[32,    80] loss: 0.828\n",
      "[32,   120] loss: 0.829\n",
      "[33,    40] loss: 0.807\n",
      "[33,    80] loss: 0.805\n",
      "[33,   120] loss: 0.790\n",
      "[34,    40] loss: 0.773\n",
      "[34,    80] loss: 0.783\n",
      "[34,   120] loss: 0.796\n",
      "[35,    40] loss: 0.765\n",
      "[35,    80] loss: 0.735\n",
      "[35,   120] loss: 0.737\n",
      "[36,    40] loss: 0.732\n",
      "[36,    80] loss: 0.718\n",
      "[36,   120] loss: 0.726\n",
      "[37,    40] loss: 0.694\n",
      "[37,    80] loss: 0.732\n",
      "[37,   120] loss: 0.690\n",
      "[38,    40] loss: 0.675\n",
      "[38,    80] loss: 0.683\n",
      "[38,   120] loss: 0.670\n",
      "[39,    40] loss: 0.645\n",
      "[39,    80] loss: 0.660\n",
      "[39,   120] loss: 0.639\n",
      "[40,    40] loss: 0.617\n",
      "[40,    80] loss: 0.620\n",
      "[40,   120] loss: 0.601\n",
      "[41,    40] loss: 0.594\n",
      "[41,    80] loss: 0.600\n",
      "[41,   120] loss: 0.583\n",
      "[42,    40] loss: 0.548\n",
      "[42,    80] loss: 0.574\n",
      "[42,   120] loss: 0.581\n",
      "[43,    40] loss: 0.529\n",
      "[43,    80] loss: 0.524\n",
      "[43,   120] loss: 0.547\n",
      "[44,    40] loss: 0.499\n",
      "[44,    80] loss: 0.509\n",
      "[44,   120] loss: 0.519\n",
      "[45,    40] loss: 0.503\n",
      "[45,    80] loss: 0.496\n",
      "[45,   120] loss: 0.510\n",
      "[46,    40] loss: 0.471\n",
      "[46,    80] loss: 0.467\n",
      "[46,   120] loss: 0.481\n",
      "[47,    40] loss: 0.437\n",
      "[47,    80] loss: 0.474\n",
      "[47,   120] loss: 0.460\n",
      "[48,    40] loss: 0.432\n",
      "[48,    80] loss: 0.420\n",
      "[48,   120] loss: 0.435\n",
      "[49,    40] loss: 0.400\n",
      "[49,    80] loss: 0.407\n",
      "[49,   120] loss: 0.403\n",
      "[50,    40] loss: 0.362\n",
      "[50,    80] loss: 0.360\n",
      "[50,   120] loss: 0.397\n",
      "[51,    40] loss: 0.376\n",
      "[51,    80] loss: 0.345\n",
      "[51,   120] loss: 0.357\n",
      "[52,    40] loss: 0.342\n",
      "[52,    80] loss: 0.384\n",
      "[52,   120] loss: 0.359\n",
      "[53,    40] loss: 0.324\n",
      "[53,    80] loss: 0.345\n",
      "[53,   120] loss: 0.304\n",
      "[54,    40] loss: 0.294\n",
      "[54,    80] loss: 0.358\n",
      "[54,   120] loss: 0.278\n",
      "[55,    40] loss: 0.245\n",
      "[55,    80] loss: 0.232\n",
      "[55,   120] loss: 0.315\n",
      "[56,    40] loss: 0.247\n",
      "[56,    80] loss: 0.243\n",
      "[56,   120] loss: 0.254\n",
      "[57,    40] loss: 0.231\n",
      "[57,    80] loss: 0.231\n",
      "[57,   120] loss: 0.208\n",
      "[58,    40] loss: 0.166\n",
      "[58,    80] loss: 0.153\n",
      "[58,   120] loss: 0.174\n",
      "[59,    40] loss: 0.158\n",
      "[59,    80] loss: 0.154\n",
      "[59,   120] loss: 0.198\n",
      "[60,    40] loss: 0.174\n",
      "[60,    80] loss: 0.216\n",
      "[60,   120] loss: 0.141\n",
      "[61,    40] loss: 0.137\n",
      "[61,    80] loss: 0.127\n",
      "[61,   120] loss: 0.140\n",
      "[62,    40] loss: 0.160\n",
      "[62,    80] loss: 0.129\n",
      "[62,   120] loss: 0.109\n",
      "[63,    40] loss: 0.202\n",
      "[63,    80] loss: 0.104\n",
      "[63,   120] loss: 0.094\n",
      "[64,    40] loss: 0.070\n",
      "[64,    80] loss: 0.090\n",
      "[64,   120] loss: 0.106\n",
      "[65,    40] loss: 0.073\n",
      "[65,    80] loss: 0.082\n",
      "[65,   120] loss: 0.067\n",
      "[66,    40] loss: 0.127\n",
      "[66,    80] loss: 0.107\n",
      "[66,   120] loss: 0.072\n",
      "[67,    40] loss: 0.069\n",
      "[67,    80] loss: 0.076\n",
      "[67,   120] loss: 0.054\n",
      "[68,    40] loss: 0.038\n",
      "[68,    80] loss: 0.055\n",
      "[68,   120] loss: 0.045\n",
      "Finished Training\n",
      " \n",
      "================================================================================================================================================================\n",
      "  S.No.  fg_class        bg_class                      Epoch used    total_points    correct    accuracy     FTPT     FFPT      FTPF       FFPF    avg_img > 0.5\n",
      "-------  --------------  --------------------------  ------------  --------------  ---------  ----------  -------  -------  --------  ---------  ---------------\n",
      "      1  fg = [0, 1, 2]  bg = [3, 4, 5, 6, 7, 8, 9]            84           30000      29703     99.01    83.7333  15.2767  0.266667  0.723333             22323\n",
      "      2  fg = [0, 1, 2]  bg = [3, 4, 5, 6, 7, 8, 9]            55           30000      29893     99.6433  87.96    11.6833  0.346667  0.01                 19991\n",
      "      3  fg = [0, 1, 2]  bg = [3, 4, 5, 6, 7, 8, 9]            55           30000      29918     99.7267  88.9     10.8267  0.236667  0.0366667            20017\n",
      "      4  fg = [0, 1, 2]  bg = [3, 4, 5, 6, 7, 8, 9]           101           30000      29754     99.18    76.91    22.27    0.1       0.72                 22517\n",
      "      5  fg = [0, 1, 2]  bg = [3, 4, 5, 6, 7, 8, 9]           112           30000      29575     98.5833  75.4833  23.1     0.21      1.20667              23498\n",
      "      6  fg = [0, 1, 2]  bg = [3, 4, 5, 6, 7, 8, 9]           107           30000      29836     99.4533  78.58    20.8733  0.06      0.486667             23479\n",
      "      7  fg = [0, 1, 2]  bg = [3, 4, 5, 6, 7, 8, 9]            67           30000      29759     99.1967  77.56    21.6367  0.1       0.703333             17834\n",
      " \n",
      "================================================================================================================================================================\n",
      " \n",
      "================================================================================================================================================================\n",
      "  S.No.  fg_class        bg_class                    Epoch used      total_points    correct    accuracy    FTPT    FFPT    FTPF    FFPF    avg_img > 0.5\n",
      "-------  --------------  --------------------------  ------------  --------------  ---------  ----------  ------  ------  ------  ------  ---------------\n",
      "      1  fg = [0, 1, 2]  bg = [3, 4, 5, 6, 7, 8, 9]  NA                     10000       9459       94.59   80.88   13.71    2.53    2.88             7347\n",
      "      2  fg = [0, 1, 2]  bg = [3, 4, 5, 6, 7, 8, 9]  NA                     10000       9892       98.92   87.31   11.61    1.07    0.01             6638\n",
      "      3  fg = [0, 1, 2]  bg = [3, 4, 5, 6, 7, 8, 9]  NA                     10000       9900       99      88.14   10.86    0.94    0.06             6646\n",
      "      4  fg = [0, 1, 2]  bg = [3, 4, 5, 6, 7, 8, 9]  NA                     10000       8743       87.43   69.51   17.92    2.8     9.77             7061\n",
      "      5  fg = [0, 1, 2]  bg = [3, 4, 5, 6, 7, 8, 9]  NA                     10000       8572       85.72   68.03   17.69    3.24   11.04             7459\n",
      "      6  fg = [0, 1, 2]  bg = [3, 4, 5, 6, 7, 8, 9]  NA                     10000       8672       86.72   71.14   15.58    3.19   10.09             7390\n",
      "      7  fg = [0, 1, 2]  bg = [3, 4, 5, 6, 7, 8, 9]  NA                     10000       9658       96.58   73.1    23.48    0.55    2.87             5566\n",
      " \n",
      "================================================================================================================================================================\n",
      " \n",
      "================================================================================================================================================================\n",
      "  S.No.  fg_class        bg_class                    Epoch used      total_points    correct    accuracy    FTPT    FFPT    FTPF    FFPF    avg_img > 0.5\n",
      "-------  --------------  --------------------------  ------------  --------------  ---------  ----------  ------  ------  ------  ------  ---------------\n",
      "      1  fg = [0, 1, 2]  bg = [3, 4, 5, 6, 7, 8, 9]  NA                     10000       8301       83.01   67.6    15.41    9.68    7.31             7083\n",
      "      2  fg = [0, 1, 2]  bg = [3, 4, 5, 6, 7, 8, 9]  NA                     10000       9500       95      82.02   12.98    4.91    0.09             6602\n",
      "      3  fg = [0, 1, 2]  bg = [3, 4, 5, 6, 7, 8, 9]  NA                     10000       9556       95.56   83.89   11.67    4.38    0.06             6636\n",
      "      4  fg = [0, 1, 2]  bg = [3, 4, 5, 6, 7, 8, 9]  NA                     10000       6776       67.76   47.06   20.7     8.96   23.28             6671\n",
      "      5  fg = [0, 1, 2]  bg = [3, 4, 5, 6, 7, 8, 9]  NA                     10000       6563       65.63   45.29   20.34    8.34   26.03             7093\n",
      "      6  fg = [0, 1, 2]  bg = [3, 4, 5, 6, 7, 8, 9]  NA                     10000       6721       67.21   47.55   19.66    8.49   24.3              6902\n",
      "      7  fg = [0, 1, 2]  bg = [3, 4, 5, 6, 7, 8, 9]  NA                     10000       8555       85.55   53.16   32.39    0.97   13.48             5130\n",
      " \n",
      "================================================================================================================================================================\n",
      " \n",
      "================================================================================================================================================================\n",
      "  S.No.  fg_class        bg_class                    Epoch used      total_points    correct    accuracy    FTPT    FFPT    FTPF    FFPF    avg_img > 0.5\n",
      "-------  --------------  --------------------------  ------------  --------------  ---------  ----------  ------  ------  ------  ------  ---------------\n",
      "      1  fg = [0, 1, 2]  bg = [3, 4, 5, 6, 7, 8, 9]  NA                     10000       7188       71.88   49.95   21.93   11.76   16.36             4188\n",
      "      2  fg = [0, 1, 2]  bg = [3, 4, 5, 6, 7, 8, 9]  NA                     10000       3419       34.19    7.92   26.27    9.74   56.07               47\n",
      "      3  fg = [0, 1, 2]  bg = [3, 4, 5, 6, 7, 8, 9]  NA                     10000       3367       33.67    5.96   27.71   11.48   54.85               69\n",
      "      4  fg = [0, 1, 2]  bg = [3, 4, 5, 6, 7, 8, 9]  NA                     10000       8547       85.47   67.61   17.86    3.35   11.18             6939\n",
      "      5  fg = [0, 1, 2]  bg = [3, 4, 5, 6, 7, 8, 9]  NA                     10000       8436       84.36   66.48   17.88    3.98   11.66             7351\n",
      "      6  fg = [0, 1, 2]  bg = [3, 4, 5, 6, 7, 8, 9]  NA                     10000       8563       85.63   69.25   16.38    4      10.37             7217\n",
      "      7  fg = [0, 1, 2]  bg = [3, 4, 5, 6, 7, 8, 9]  NA                     10000       6531       65.31   46.53   18.78   26.95    7.74             5554\n",
      " \n",
      "================================================================================================================================================================\n",
      " \n",
      "================================================================================================================================================================\n",
      "  S.No.  fg_class        bg_class                    Epoch used      total_points    correct    accuracy    FTPT    FFPT    FTPF    FFPF    avg_img > 0.5\n",
      "-------  --------------  --------------------------  ------------  --------------  ---------  ----------  ------  ------  ------  ------  ---------------\n",
      "      1  fg = [0, 1, 2]  bg = [3, 4, 5, 6, 7, 8, 9]  NA                     10000       5800       58      34.07   23.93   11.94   30.06             3877\n",
      "      2  fg = [0, 1, 2]  bg = [3, 4, 5, 6, 7, 8, 9]  NA                     10000       3374       33.74    7.76   25.98    9.62   56.64               61\n",
      "      3  fg = [0, 1, 2]  bg = [3, 4, 5, 6, 7, 8, 9]  NA                     10000       3346       33.46    5.93   27.53   10.8    55.74               55\n",
      "      4  fg = [0, 1, 2]  bg = [3, 4, 5, 6, 7, 8, 9]  NA                     10000       6557       65.57   45.2    20.37    9.27   25.16             6478\n",
      "      5  fg = [0, 1, 2]  bg = [3, 4, 5, 6, 7, 8, 9]  NA                     10000       6353       63.53   43.56   19.97    8.17   28.3              6993\n",
      "      6  fg = [0, 1, 2]  bg = [3, 4, 5, 6, 7, 8, 9]  NA                     10000       6633       66.33   46.59   19.74    8.6    25.07             6818\n",
      "      7  fg = [0, 1, 2]  bg = [3, 4, 5, 6, 7, 8, 9]  NA                     10000       5515       55.15   32.36   22.79   22.53   22.32             5049\n",
      " \n",
      "================================================================================================================================================================\n",
      "[1,    40] loss: 1.100\n",
      "[1,    80] loss: 1.099\n",
      "[1,   120] loss: 1.099\n",
      "[2,    40] loss: 1.099\n",
      "[2,    80] loss: 1.099\n",
      "[2,   120] loss: 1.099\n",
      "[3,    40] loss: 1.099\n",
      "[3,    80] loss: 1.098\n",
      "[3,   120] loss: 1.099\n",
      "[4,    40] loss: 1.099\n",
      "[4,    80] loss: 1.098\n",
      "[4,   120] loss: 1.099\n",
      "[5,    40] loss: 1.098\n",
      "[5,    80] loss: 1.099\n",
      "[5,   120] loss: 1.098\n",
      "[6,    40] loss: 1.098\n",
      "[6,    80] loss: 1.098\n",
      "[6,   120] loss: 1.098\n",
      "[7,    40] loss: 1.098\n",
      "[7,    80] loss: 1.097\n",
      "[7,   120] loss: 1.096\n",
      "[8,    40] loss: 1.096\n",
      "[8,    80] loss: 1.095\n",
      "[8,   120] loss: 1.094\n",
      "[9,    40] loss: 1.093\n",
      "[9,    80] loss: 1.089\n",
      "[9,   120] loss: 1.088\n",
      "[10,    40] loss: 1.087\n",
      "[10,    80] loss: 1.084\n",
      "[10,   120] loss: 1.083\n",
      "[11,    40] loss: 1.079\n",
      "[11,    80] loss: 1.079\n",
      "[11,   120] loss: 1.079\n",
      "[12,    40] loss: 1.077\n",
      "[12,    80] loss: 1.074\n",
      "[12,   120] loss: 1.073\n",
      "[13,    40] loss: 1.074\n",
      "[13,    80] loss: 1.069\n",
      "[13,   120] loss: 1.068\n",
      "[14,    40] loss: 1.070\n",
      "[14,    80] loss: 1.068\n",
      "[14,   120] loss: 1.063\n",
      "[15,    40] loss: 1.068\n",
      "[15,    80] loss: 1.067\n",
      "[15,   120] loss: 1.062\n",
      "[16,    40] loss: 1.065\n",
      "[16,    80] loss: 1.059\n",
      "[16,   120] loss: 1.061\n",
      "[17,    40] loss: 1.061\n",
      "[17,    80] loss: 1.056\n",
      "[17,   120] loss: 1.061\n",
      "[18,    40] loss: 1.052\n",
      "[18,    80] loss: 1.057\n",
      "[18,   120] loss: 1.061\n",
      "[19,    40] loss: 1.052\n",
      "[19,    80] loss: 1.054\n",
      "[19,   120] loss: 1.057\n",
      "[20,    40] loss: 1.049\n",
      "[20,    80] loss: 1.050\n",
      "[20,   120] loss: 1.053\n",
      "[21,    40] loss: 1.048\n",
      "[21,    80] loss: 1.046\n",
      "[21,   120] loss: 1.044\n",
      "[22,    40] loss: 1.039\n",
      "[22,    80] loss: 1.040\n",
      "[22,   120] loss: 1.042\n",
      "[23,    40] loss: 1.032\n",
      "[23,    80] loss: 1.033\n",
      "[23,   120] loss: 1.030\n",
      "[24,    40] loss: 1.021\n",
      "[24,    80] loss: 1.023\n",
      "[24,   120] loss: 1.019\n",
      "[25,    40] loss: 1.003\n",
      "[25,    80] loss: 1.006\n",
      "[25,   120] loss: 0.996\n",
      "[26,    40] loss: 0.986\n",
      "[26,    80] loss: 0.978\n",
      "[26,   120] loss: 0.966\n",
      "[27,    40] loss: 0.958\n",
      "[27,    80] loss: 0.951\n",
      "[27,   120] loss: 0.940\n",
      "[28,    40] loss: 0.930\n",
      "[28,    80] loss: 0.909\n",
      "[28,   120] loss: 0.917\n",
      "[29,    40] loss: 0.890\n",
      "[29,    80] loss: 0.902\n",
      "[29,   120] loss: 0.878\n",
      "[30,    40] loss: 0.865\n",
      "[30,    80] loss: 0.862\n",
      "[30,   120] loss: 0.859\n",
      "[31,    40] loss: 0.837\n",
      "[31,    80] loss: 0.822\n",
      "[31,   120] loss: 0.818\n",
      "[32,    40] loss: 0.813\n",
      "[32,    80] loss: 0.786\n",
      "[32,   120] loss: 0.796\n",
      "[33,    40] loss: 0.790\n",
      "[33,    80] loss: 0.770\n",
      "[33,   120] loss: 0.770\n",
      "[34,    40] loss: 0.734\n",
      "[34,    80] loss: 0.749\n",
      "[34,   120] loss: 0.725\n",
      "[35,    40] loss: 0.740\n",
      "[35,    80] loss: 0.714\n",
      "[35,   120] loss: 0.698\n",
      "[36,    40] loss: 0.677\n",
      "[36,    80] loss: 0.696\n",
      "[36,   120] loss: 0.655\n",
      "[37,    40] loss: 0.658\n",
      "[37,    80] loss: 0.632\n",
      "[37,   120] loss: 0.656\n",
      "[38,    40] loss: 0.639\n",
      "[38,    80] loss: 0.629\n",
      "[38,   120] loss: 0.608\n",
      "[39,    40] loss: 0.592\n",
      "[39,    80] loss: 0.598\n",
      "[39,   120] loss: 0.586\n",
      "[40,    40] loss: 0.563\n",
      "[40,    80] loss: 0.582\n",
      "[40,   120] loss: 0.566\n",
      "[41,    40] loss: 0.538\n",
      "[41,    80] loss: 0.540\n",
      "[41,   120] loss: 0.575\n",
      "[42,    40] loss: 0.511\n",
      "[42,    80] loss: 0.519\n",
      "[42,   120] loss: 0.511\n",
      "[43,    40] loss: 0.477\n",
      "[43,    80] loss: 0.486\n",
      "[43,   120] loss: 0.495\n",
      "[44,    40] loss: 0.466\n",
      "[44,    80] loss: 0.466\n",
      "[44,   120] loss: 0.457\n",
      "[45,    40] loss: 0.427\n",
      "[45,    80] loss: 0.449\n",
      "[45,   120] loss: 0.444\n",
      "[46,    40] loss: 0.429\n",
      "[46,    80] loss: 0.418\n",
      "[46,   120] loss: 0.418\n",
      "[47,    40] loss: 0.387\n",
      "[47,    80] loss: 0.383\n",
      "[47,   120] loss: 0.413\n",
      "[48,    40] loss: 0.374\n",
      "[48,    80] loss: 0.381\n",
      "[48,   120] loss: 0.368\n",
      "[49,    40] loss: 0.332\n",
      "[49,    80] loss: 0.365\n",
      "[49,   120] loss: 0.382\n",
      "[50,    40] loss: 0.336\n",
      "[50,    80] loss: 0.364\n",
      "[50,   120] loss: 0.354\n",
      "[51,    40] loss: 0.325\n",
      "[51,    80] loss: 0.361\n",
      "[51,   120] loss: 0.329\n",
      "[52,    40] loss: 0.273\n",
      "[52,    80] loss: 0.316\n",
      "[52,   120] loss: 0.303\n",
      "[53,    40] loss: 0.253\n",
      "[53,    80] loss: 0.265\n",
      "[53,   120] loss: 0.298\n",
      "[54,    40] loss: 0.234\n",
      "[54,    80] loss: 0.332\n",
      "[54,   120] loss: 0.319\n",
      "[55,    40] loss: 0.218\n",
      "[55,    80] loss: 0.210\n",
      "[55,   120] loss: 0.257\n",
      "[56,    40] loss: 0.190\n",
      "[56,    80] loss: 0.197\n",
      "[56,   120] loss: 0.210\n",
      "[57,    40] loss: 0.187\n",
      "[57,    80] loss: 0.216\n",
      "[57,   120] loss: 0.155\n",
      "[58,    40] loss: 0.157\n",
      "[58,    80] loss: 0.158\n",
      "[58,   120] loss: 0.208\n",
      "[59,    40] loss: 0.162\n",
      "[59,    80] loss: 0.108\n",
      "[59,   120] loss: 0.158\n",
      "[60,    40] loss: 0.120\n",
      "[60,    80] loss: 0.135\n",
      "[60,   120] loss: 0.106\n",
      "[61,    40] loss: 0.090\n",
      "[61,    80] loss: 0.138\n",
      "[61,   120] loss: 0.123\n",
      "[62,    40] loss: 0.169\n",
      "[62,    80] loss: 0.110\n",
      "[62,   120] loss: 0.080\n",
      "[63,    40] loss: 0.070\n",
      "[63,    80] loss: 0.074\n",
      "[63,   120] loss: 0.059\n",
      "[64,    40] loss: 0.055\n",
      "[64,    80] loss: 0.113\n",
      "[64,   120] loss: 0.061\n",
      "[65,    40] loss: 0.042\n",
      "[65,    80] loss: 0.060\n",
      "[65,   120] loss: 0.072\n",
      "[66,    40] loss: 0.034\n",
      "[66,    80] loss: 0.039\n",
      "[66,   120] loss: 0.035\n",
      "Finished Training\n",
      " \n",
      "================================================================================================================================================================\n",
      "  S.No.  fg_class        bg_class                      Epoch used    total_points    correct    accuracy     FTPT     FFPT      FTPF       FFPF    avg_img > 0.5\n",
      "-------  --------------  --------------------------  ------------  --------------  ---------  ----------  -------  -------  --------  ---------  ---------------\n",
      "      1  fg = [0, 1, 2]  bg = [3, 4, 5, 6, 7, 8, 9]            84           30000      29703     99.01    83.7333  15.2767  0.266667  0.723333             22323\n",
      "      2  fg = [0, 1, 2]  bg = [3, 4, 5, 6, 7, 8, 9]            55           30000      29893     99.6433  87.96    11.6833  0.346667  0.01                 19991\n",
      "      3  fg = [0, 1, 2]  bg = [3, 4, 5, 6, 7, 8, 9]            55           30000      29918     99.7267  88.9     10.8267  0.236667  0.0366667            20017\n",
      "      4  fg = [0, 1, 2]  bg = [3, 4, 5, 6, 7, 8, 9]           101           30000      29754     99.18    76.91    22.27    0.1       0.72                 22517\n",
      "      5  fg = [0, 1, 2]  bg = [3, 4, 5, 6, 7, 8, 9]           112           30000      29575     98.5833  75.4833  23.1     0.21      1.20667              23498\n",
      "      6  fg = [0, 1, 2]  bg = [3, 4, 5, 6, 7, 8, 9]           107           30000      29836     99.4533  78.58    20.8733  0.06      0.486667             23479\n",
      "      7  fg = [0, 1, 2]  bg = [3, 4, 5, 6, 7, 8, 9]            67           30000      29759     99.1967  77.56    21.6367  0.1       0.703333             17834\n",
      "      8  fg = [0, 1, 2]  bg = [3, 4, 5, 6, 7, 8, 9]            65           30000      29684     98.9467  75.3933  23.5533  0.08      0.973333             17203\n",
      " \n",
      "================================================================================================================================================================\n",
      " \n",
      "================================================================================================================================================================\n",
      "  S.No.  fg_class        bg_class                    Epoch used      total_points    correct    accuracy    FTPT    FFPT    FTPF    FFPF    avg_img > 0.5\n",
      "-------  --------------  --------------------------  ------------  --------------  ---------  ----------  ------  ------  ------  ------  ---------------\n",
      "      1  fg = [0, 1, 2]  bg = [3, 4, 5, 6, 7, 8, 9]  NA                     10000       9459       94.59   80.88   13.71    2.53    2.88             7347\n",
      "      2  fg = [0, 1, 2]  bg = [3, 4, 5, 6, 7, 8, 9]  NA                     10000       9892       98.92   87.31   11.61    1.07    0.01             6638\n",
      "      3  fg = [0, 1, 2]  bg = [3, 4, 5, 6, 7, 8, 9]  NA                     10000       9900       99      88.14   10.86    0.94    0.06             6646\n",
      "      4  fg = [0, 1, 2]  bg = [3, 4, 5, 6, 7, 8, 9]  NA                     10000       8743       87.43   69.51   17.92    2.8     9.77             7061\n",
      "      5  fg = [0, 1, 2]  bg = [3, 4, 5, 6, 7, 8, 9]  NA                     10000       8572       85.72   68.03   17.69    3.24   11.04             7459\n",
      "      6  fg = [0, 1, 2]  bg = [3, 4, 5, 6, 7, 8, 9]  NA                     10000       8672       86.72   71.14   15.58    3.19   10.09             7390\n",
      "      7  fg = [0, 1, 2]  bg = [3, 4, 5, 6, 7, 8, 9]  NA                     10000       9658       96.58   73.1    23.48    0.55    2.87             5566\n",
      "      8  fg = [0, 1, 2]  bg = [3, 4, 5, 6, 7, 8, 9]  NA                     10000       9577       95.77   70.89   24.88    0.53    3.7              5348\n",
      " \n",
      "================================================================================================================================================================\n",
      " \n",
      "================================================================================================================================================================\n",
      "  S.No.  fg_class        bg_class                    Epoch used      total_points    correct    accuracy    FTPT    FFPT    FTPF    FFPF    avg_img > 0.5\n",
      "-------  --------------  --------------------------  ------------  --------------  ---------  ----------  ------  ------  ------  ------  ---------------\n",
      "      1  fg = [0, 1, 2]  bg = [3, 4, 5, 6, 7, 8, 9]  NA                     10000       8301       83.01   67.6    15.41    9.68    7.31             7083\n",
      "      2  fg = [0, 1, 2]  bg = [3, 4, 5, 6, 7, 8, 9]  NA                     10000       9500       95      82.02   12.98    4.91    0.09             6602\n",
      "      3  fg = [0, 1, 2]  bg = [3, 4, 5, 6, 7, 8, 9]  NA                     10000       9556       95.56   83.89   11.67    4.38    0.06             6636\n",
      "      4  fg = [0, 1, 2]  bg = [3, 4, 5, 6, 7, 8, 9]  NA                     10000       6776       67.76   47.06   20.7     8.96   23.28             6671\n",
      "      5  fg = [0, 1, 2]  bg = [3, 4, 5, 6, 7, 8, 9]  NA                     10000       6563       65.63   45.29   20.34    8.34   26.03             7093\n",
      "      6  fg = [0, 1, 2]  bg = [3, 4, 5, 6, 7, 8, 9]  NA                     10000       6721       67.21   47.55   19.66    8.49   24.3              6902\n",
      "      7  fg = [0, 1, 2]  bg = [3, 4, 5, 6, 7, 8, 9]  NA                     10000       8555       85.55   53.16   32.39    0.97   13.48             5130\n",
      "      8  fg = [0, 1, 2]  bg = [3, 4, 5, 6, 7, 8, 9]  NA                     10000       8492       84.92   51.85   33.07    0.81   14.27             4997\n",
      " \n",
      "================================================================================================================================================================\n",
      " \n",
      "================================================================================================================================================================\n",
      "  S.No.  fg_class        bg_class                    Epoch used      total_points    correct    accuracy    FTPT    FFPT    FTPF    FFPF    avg_img > 0.5\n",
      "-------  --------------  --------------------------  ------------  --------------  ---------  ----------  ------  ------  ------  ------  ---------------\n",
      "      1  fg = [0, 1, 2]  bg = [3, 4, 5, 6, 7, 8, 9]  NA                     10000       7188       71.88   49.95   21.93   11.76   16.36             4188\n",
      "      2  fg = [0, 1, 2]  bg = [3, 4, 5, 6, 7, 8, 9]  NA                     10000       3419       34.19    7.92   26.27    9.74   56.07               47\n",
      "      3  fg = [0, 1, 2]  bg = [3, 4, 5, 6, 7, 8, 9]  NA                     10000       3367       33.67    5.96   27.71   11.48   54.85               69\n",
      "      4  fg = [0, 1, 2]  bg = [3, 4, 5, 6, 7, 8, 9]  NA                     10000       8547       85.47   67.61   17.86    3.35   11.18             6939\n",
      "      5  fg = [0, 1, 2]  bg = [3, 4, 5, 6, 7, 8, 9]  NA                     10000       8436       84.36   66.48   17.88    3.98   11.66             7351\n",
      "      6  fg = [0, 1, 2]  bg = [3, 4, 5, 6, 7, 8, 9]  NA                     10000       8563       85.63   69.25   16.38    4      10.37             7217\n",
      "      7  fg = [0, 1, 2]  bg = [3, 4, 5, 6, 7, 8, 9]  NA                     10000       6531       65.31   46.53   18.78   26.95    7.74             5554\n",
      "      8  fg = [0, 1, 2]  bg = [3, 4, 5, 6, 7, 8, 9]  NA                     10000       6516       65.16   45.82   19.34   24.92    9.92             5322\n",
      " \n",
      "================================================================================================================================================================\n",
      " \n",
      "================================================================================================================================================================\n",
      "  S.No.  fg_class        bg_class                    Epoch used      total_points    correct    accuracy    FTPT    FFPT    FTPF    FFPF    avg_img > 0.5\n",
      "-------  --------------  --------------------------  ------------  --------------  ---------  ----------  ------  ------  ------  ------  ---------------\n",
      "      1  fg = [0, 1, 2]  bg = [3, 4, 5, 6, 7, 8, 9]  NA                     10000       5800       58      34.07   23.93   11.94   30.06             3877\n",
      "      2  fg = [0, 1, 2]  bg = [3, 4, 5, 6, 7, 8, 9]  NA                     10000       3374       33.74    7.76   25.98    9.62   56.64               61\n",
      "      3  fg = [0, 1, 2]  bg = [3, 4, 5, 6, 7, 8, 9]  NA                     10000       3346       33.46    5.93   27.53   10.8    55.74               55\n",
      "      4  fg = [0, 1, 2]  bg = [3, 4, 5, 6, 7, 8, 9]  NA                     10000       6557       65.57   45.2    20.37    9.27   25.16             6478\n",
      "      5  fg = [0, 1, 2]  bg = [3, 4, 5, 6, 7, 8, 9]  NA                     10000       6353       63.53   43.56   19.97    8.17   28.3              6993\n",
      "      6  fg = [0, 1, 2]  bg = [3, 4, 5, 6, 7, 8, 9]  NA                     10000       6633       66.33   46.59   19.74    8.6    25.07             6818\n",
      "      7  fg = [0, 1, 2]  bg = [3, 4, 5, 6, 7, 8, 9]  NA                     10000       5515       55.15   32.36   22.79   22.53   22.32             5049\n",
      "      8  fg = [0, 1, 2]  bg = [3, 4, 5, 6, 7, 8, 9]  NA                     10000       5404       54.04   31.22   22.82   21.96   24                4862\n",
      " \n",
      "================================================================================================================================================================\n",
      "[1,    40] loss: 1.104\n",
      "[1,    80] loss: 1.099\n",
      "[1,   120] loss: 1.098\n",
      "[2,    40] loss: 1.099\n",
      "[2,    80] loss: 1.098\n",
      "[2,   120] loss: 1.098\n",
      "[3,    40] loss: 1.098\n",
      "[3,    80] loss: 1.098\n",
      "[3,   120] loss: 1.098\n",
      "[4,    40] loss: 1.098\n",
      "[4,    80] loss: 1.098\n",
      "[4,   120] loss: 1.097\n",
      "[5,    40] loss: 1.097\n",
      "[5,    80] loss: 1.096\n",
      "[5,   120] loss: 1.095\n",
      "[6,    40] loss: 1.093\n",
      "[6,    80] loss: 1.092\n",
      "[6,   120] loss: 1.091\n",
      "[7,    40] loss: 1.087\n",
      "[7,    80] loss: 1.086\n",
      "[7,   120] loss: 1.081\n",
      "[8,    40] loss: 1.083\n",
      "[8,    80] loss: 1.082\n",
      "[8,   120] loss: 1.076\n",
      "[9,    40] loss: 1.081\n",
      "[9,    80] loss: 1.077\n",
      "[9,   120] loss: 1.075\n",
      "[10,    40] loss: 1.074\n",
      "[10,    80] loss: 1.075\n",
      "[10,   120] loss: 1.073\n",
      "[11,    40] loss: 1.071\n",
      "[11,    80] loss: 1.072\n",
      "[11,   120] loss: 1.067\n",
      "[12,    40] loss: 1.067\n",
      "[12,    80] loss: 1.067\n",
      "[12,   120] loss: 1.063\n",
      "[13,    40] loss: 1.063\n",
      "[13,    80] loss: 1.055\n",
      "[13,   120] loss: 1.057\n",
      "[14,    40] loss: 1.056\n",
      "[14,    80] loss: 1.050\n",
      "[14,   120] loss: 1.046\n",
      "[15,    40] loss: 1.045\n",
      "[15,    80] loss: 1.042\n",
      "[15,   120] loss: 1.038\n",
      "[16,    40] loss: 1.039\n",
      "[16,    80] loss: 1.035\n",
      "[16,   120] loss: 1.028\n",
      "[17,    40] loss: 1.037\n",
      "[17,    80] loss: 1.024\n",
      "[17,   120] loss: 1.013\n",
      "[18,    40] loss: 1.018\n",
      "[18,    80] loss: 1.004\n",
      "[18,   120] loss: 1.001\n",
      "[19,    40] loss: 0.990\n",
      "[19,    80] loss: 0.989\n",
      "[19,   120] loss: 0.972\n",
      "[20,    40] loss: 0.968\n",
      "[20,    80] loss: 0.958\n",
      "[20,   120] loss: 0.947\n",
      "[21,    40] loss: 0.945\n",
      "[21,    80] loss: 0.932\n",
      "[21,   120] loss: 0.946\n",
      "[22,    40] loss: 0.932\n",
      "[22,    80] loss: 0.904\n",
      "[22,   120] loss: 0.901\n",
      "[23,    40] loss: 0.880\n",
      "[23,    80] loss: 0.889\n",
      "[23,   120] loss: 0.879\n",
      "[24,    40] loss: 0.847\n",
      "[24,    80] loss: 0.853\n",
      "[24,   120] loss: 0.846\n",
      "[25,    40] loss: 0.819\n",
      "[25,    80] loss: 0.813\n",
      "[25,   120] loss: 0.816\n",
      "[26,    40] loss: 0.800\n",
      "[26,    80] loss: 0.785\n",
      "[26,   120] loss: 0.783\n",
      "[27,    40] loss: 0.779\n",
      "[27,    80] loss: 0.780\n",
      "[27,   120] loss: 0.760\n",
      "[28,    40] loss: 0.763\n",
      "[28,    80] loss: 0.748\n",
      "[28,   120] loss: 0.769\n",
      "[29,    40] loss: 0.736\n",
      "[29,    80] loss: 0.710\n",
      "[29,   120] loss: 0.708\n",
      "[30,    40] loss: 0.682\n",
      "[30,    80] loss: 0.724\n",
      "[30,   120] loss: 0.710\n",
      "[31,    40] loss: 0.687\n",
      "[31,    80] loss: 0.669\n",
      "[31,   120] loss: 0.651\n",
      "[32,    40] loss: 0.629\n",
      "[32,    80] loss: 0.636\n",
      "[32,   120] loss: 0.663\n",
      "[33,    40] loss: 0.612\n",
      "[33,    80] loss: 0.609\n",
      "[33,   120] loss: 0.615\n",
      "[34,    40] loss: 0.583\n",
      "[34,    80] loss: 0.579\n",
      "[34,   120] loss: 0.600\n",
      "[35,    40] loss: 0.562\n",
      "[35,    80] loss: 0.547\n",
      "[35,   120] loss: 0.569\n",
      "[36,    40] loss: 0.535\n",
      "[36,    80] loss: 0.533\n",
      "[36,   120] loss: 0.535\n",
      "[37,    40] loss: 0.500\n",
      "[37,    80] loss: 0.500\n",
      "[37,   120] loss: 0.510\n",
      "[38,    40] loss: 0.481\n",
      "[38,    80] loss: 0.490\n",
      "[38,   120] loss: 0.492\n",
      "[39,    40] loss: 0.466\n",
      "[39,    80] loss: 0.458\n",
      "[39,   120] loss: 0.465\n",
      "[40,    40] loss: 0.455\n",
      "[40,    80] loss: 0.461\n",
      "[40,   120] loss: 0.462\n",
      "[41,    40] loss: 0.435\n",
      "[41,    80] loss: 0.436\n",
      "[41,   120] loss: 0.444\n",
      "[42,    40] loss: 0.418\n",
      "[42,    80] loss: 0.417\n",
      "[42,   120] loss: 0.424\n",
      "[43,    40] loss: 0.396\n",
      "[43,    80] loss: 0.409\n",
      "[43,   120] loss: 0.417\n",
      "[44,    40] loss: 0.381\n",
      "[44,    80] loss: 0.380\n",
      "[44,   120] loss: 0.392\n",
      "[45,    40] loss: 0.379\n",
      "[45,    80] loss: 0.403\n",
      "[45,   120] loss: 0.361\n",
      "[46,    40] loss: 0.345\n",
      "[46,    80] loss: 0.366\n",
      "[46,   120] loss: 0.361\n",
      "[47,    40] loss: 0.350\n",
      "[47,    80] loss: 0.352\n",
      "[47,   120] loss: 0.356\n",
      "[48,    40] loss: 0.323\n",
      "[48,    80] loss: 0.311\n",
      "[48,   120] loss: 0.341\n",
      "[49,    40] loss: 0.331\n",
      "[49,    80] loss: 0.319\n",
      "[49,   120] loss: 0.321\n",
      "[50,    40] loss: 0.300\n",
      "[50,    80] loss: 0.299\n",
      "[50,   120] loss: 0.345\n",
      "[51,    40] loss: 0.332\n",
      "[51,    80] loss: 0.315\n",
      "[51,   120] loss: 0.321\n",
      "[52,    40] loss: 0.278\n",
      "[52,    80] loss: 0.311\n",
      "[52,   120] loss: 0.306\n",
      "[53,    40] loss: 0.289\n",
      "[53,    80] loss: 0.276\n",
      "[53,   120] loss: 0.276\n",
      "[54,    40] loss: 0.270\n",
      "[54,    80] loss: 0.280\n",
      "[54,   120] loss: 0.289\n",
      "[55,    40] loss: 0.258\n",
      "[55,    80] loss: 0.306\n",
      "[55,   120] loss: 0.293\n",
      "[56,    40] loss: 0.249\n",
      "[56,    80] loss: 0.259\n",
      "[56,   120] loss: 0.285\n",
      "[57,    40] loss: 0.247\n",
      "[57,    80] loss: 0.241\n",
      "[57,   120] loss: 0.276\n",
      "[58,    40] loss: 0.244\n",
      "[58,    80] loss: 0.257\n",
      "[58,   120] loss: 0.252\n",
      "[59,    40] loss: 0.227\n",
      "[59,    80] loss: 0.236\n",
      "[59,   120] loss: 0.261\n",
      "[60,    40] loss: 0.224\n",
      "[60,    80] loss: 0.254\n",
      "[60,   120] loss: 0.273\n",
      "[61,    40] loss: 0.208\n",
      "[61,    80] loss: 0.246\n",
      "[61,   120] loss: 0.251\n",
      "[62,    40] loss: 0.200\n",
      "[62,    80] loss: 0.229\n",
      "[62,   120] loss: 0.233\n",
      "[63,    40] loss: 0.185\n",
      "[63,    80] loss: 0.217\n",
      "[63,   120] loss: 0.207\n",
      "[64,    40] loss: 0.185\n",
      "[64,    80] loss: 0.199\n",
      "[64,   120] loss: 0.206\n",
      "[65,    40] loss: 0.186\n",
      "[65,    80] loss: 0.206\n",
      "[65,   120] loss: 0.207\n",
      "[66,    40] loss: 0.190\n",
      "[66,    80] loss: 0.198\n",
      "[66,   120] loss: 0.205\n",
      "[67,    40] loss: 0.193\n",
      "[67,    80] loss: 0.206\n",
      "[67,   120] loss: 0.190\n",
      "[68,    40] loss: 0.183\n",
      "[68,    80] loss: 0.186\n",
      "[68,   120] loss: 0.205\n",
      "[69,    40] loss: 0.188\n",
      "[69,    80] loss: 0.201\n",
      "[69,   120] loss: 0.191\n",
      "[70,    40] loss: 0.161\n",
      "[70,    80] loss: 0.197\n",
      "[70,   120] loss: 0.213\n",
      "[71,    40] loss: 0.179\n",
      "[71,    80] loss: 0.175\n",
      "[71,   120] loss: 0.175\n",
      "[72,    40] loss: 0.145\n",
      "[72,    80] loss: 0.170\n",
      "[72,   120] loss: 0.171\n",
      "[73,    40] loss: 0.165\n",
      "[73,    80] loss: 0.172\n",
      "[73,   120] loss: 0.172\n",
      "[74,    40] loss: 0.138\n",
      "[74,    80] loss: 0.137\n",
      "[74,   120] loss: 0.156\n",
      "[75,    40] loss: 0.132\n",
      "[75,    80] loss: 0.160\n",
      "[75,   120] loss: 0.174\n",
      "[76,    40] loss: 0.146\n",
      "[76,    80] loss: 0.144\n",
      "[76,   120] loss: 0.144\n",
      "[77,    40] loss: 0.115\n",
      "[77,    80] loss: 0.129\n",
      "[77,   120] loss: 0.154\n",
      "[78,    40] loss: 0.157\n",
      "[78,    80] loss: 0.138\n",
      "[78,   120] loss: 0.156\n",
      "[79,    40] loss: 0.137\n",
      "[79,    80] loss: 0.126\n",
      "[79,   120] loss: 0.124\n",
      "[80,    40] loss: 0.116\n",
      "[80,    80] loss: 0.129\n",
      "[80,   120] loss: 0.147\n",
      "[81,    40] loss: 0.116\n",
      "[81,    80] loss: 0.120\n",
      "[81,   120] loss: 0.134\n",
      "[82,    40] loss: 0.105\n",
      "[82,    80] loss: 0.117\n",
      "[82,   120] loss: 0.137\n",
      "[83,    40] loss: 0.132\n",
      "[83,    80] loss: 0.115\n",
      "[83,   120] loss: 0.123\n",
      "[84,    40] loss: 0.117\n",
      "[84,    80] loss: 0.124\n",
      "[84,   120] loss: 0.102\n",
      "[85,    40] loss: 0.086\n",
      "[85,    80] loss: 0.111\n",
      "[85,   120] loss: 0.102\n",
      "[86,    40] loss: 0.081\n",
      "[86,    80] loss: 0.105\n",
      "[86,   120] loss: 0.118\n",
      "[87,    40] loss: 0.102\n",
      "[87,    80] loss: 0.101\n",
      "[87,   120] loss: 0.108\n",
      "[88,    40] loss: 0.080\n",
      "[88,    80] loss: 0.090\n",
      "[88,   120] loss: 0.091\n",
      "[89,    40] loss: 0.078\n",
      "[89,    80] loss: 0.095\n",
      "[89,   120] loss: 0.108\n",
      "[90,    40] loss: 0.093\n",
      "[90,    80] loss: 0.079\n",
      "[90,   120] loss: 0.112\n",
      "[91,    40] loss: 0.084\n",
      "[91,    80] loss: 0.106\n",
      "[91,   120] loss: 0.115\n",
      "[92,    40] loss: 0.100\n",
      "[92,    80] loss: 0.094\n",
      "[92,   120] loss: 0.089\n",
      "[93,    40] loss: 0.107\n",
      "[93,    80] loss: 0.101\n",
      "[93,   120] loss: 0.096\n",
      "[94,    40] loss: 0.074\n",
      "[94,    80] loss: 0.083\n",
      "[94,   120] loss: 0.084\n",
      "[95,    40] loss: 0.072\n",
      "[95,    80] loss: 0.080\n",
      "[95,   120] loss: 0.100\n",
      "[96,    40] loss: 0.096\n",
      "[96,    80] loss: 0.092\n",
      "[96,   120] loss: 0.093\n",
      "[97,    40] loss: 0.069\n",
      "[97,    80] loss: 0.066\n",
      "[97,   120] loss: 0.071\n",
      "[98,    40] loss: 0.071\n",
      "[98,    80] loss: 0.080\n",
      "[98,   120] loss: 0.095\n",
      "[99,    40] loss: 0.090\n",
      "[99,    80] loss: 0.095\n",
      "[99,   120] loss: 0.090\n",
      "[100,    40] loss: 0.104\n",
      "[100,    80] loss: 0.086\n",
      "[100,   120] loss: 0.073\n",
      "[101,    40] loss: 0.058\n",
      "[101,    80] loss: 0.056\n",
      "[101,   120] loss: 0.073\n",
      "[102,    40] loss: 0.063\n",
      "[102,    80] loss: 0.065\n",
      "[102,   120] loss: 0.096\n",
      "[103,    40] loss: 0.088\n",
      "[103,    80] loss: 0.079\n",
      "[103,   120] loss: 0.073\n",
      "[104,    40] loss: 0.058\n",
      "[104,    80] loss: 0.063\n",
      "[104,   120] loss: 0.064\n",
      "[105,    40] loss: 0.056\n",
      "[105,    80] loss: 0.064\n",
      "[105,   120] loss: 0.055\n",
      "[106,    40] loss: 0.051\n",
      "[106,    80] loss: 0.073\n",
      "[106,   120] loss: 0.063\n",
      "[107,    40] loss: 0.051\n",
      "[107,    80] loss: 0.051\n",
      "[107,   120] loss: 0.064\n",
      "[108,    40] loss: 0.058\n",
      "[108,    80] loss: 0.068\n",
      "[108,   120] loss: 0.056\n",
      "[109,    40] loss: 0.034\n",
      "[109,    80] loss: 0.047\n",
      "[109,   120] loss: 0.074\n",
      "[110,    40] loss: 0.052\n",
      "[110,    80] loss: 0.048\n",
      "[110,   120] loss: 0.045\n",
      "Finished Training\n",
      " \n",
      "================================================================================================================================================================\n",
      "  S.No.  fg_class        bg_class                      Epoch used    total_points    correct    accuracy     FTPT     FFPT      FTPF       FFPF    avg_img > 0.5\n",
      "-------  --------------  --------------------------  ------------  --------------  ---------  ----------  -------  -------  --------  ---------  ---------------\n",
      "      1  fg = [0, 1, 2]  bg = [3, 4, 5, 6, 7, 8, 9]            84           30000      29703     99.01    83.7333  15.2767  0.266667  0.723333             22323\n",
      "      2  fg = [0, 1, 2]  bg = [3, 4, 5, 6, 7, 8, 9]            55           30000      29893     99.6433  87.96    11.6833  0.346667  0.01                 19991\n",
      "      3  fg = [0, 1, 2]  bg = [3, 4, 5, 6, 7, 8, 9]            55           30000      29918     99.7267  88.9     10.8267  0.236667  0.0366667            20017\n",
      "      4  fg = [0, 1, 2]  bg = [3, 4, 5, 6, 7, 8, 9]           101           30000      29754     99.18    76.91    22.27    0.1       0.72                 22517\n",
      "      5  fg = [0, 1, 2]  bg = [3, 4, 5, 6, 7, 8, 9]           112           30000      29575     98.5833  75.4833  23.1     0.21      1.20667              23498\n",
      "      6  fg = [0, 1, 2]  bg = [3, 4, 5, 6, 7, 8, 9]           107           30000      29836     99.4533  78.58    20.8733  0.06      0.486667             23479\n",
      "      7  fg = [0, 1, 2]  bg = [3, 4, 5, 6, 7, 8, 9]            67           30000      29759     99.1967  77.56    21.6367  0.1       0.703333             17834\n",
      "      8  fg = [0, 1, 2]  bg = [3, 4, 5, 6, 7, 8, 9]            65           30000      29684     98.9467  75.3933  23.5533  0.08      0.973333             17203\n",
      "      9  fg = [0, 1, 2]  bg = [3, 4, 5, 6, 7, 8, 9]           109           30000      29442     98.14    77.85    20.29    0.44      1.42                 23538\n",
      " \n",
      "================================================================================================================================================================\n",
      " \n",
      "================================================================================================================================================================\n",
      "  S.No.  fg_class        bg_class                    Epoch used      total_points    correct    accuracy    FTPT    FFPT    FTPF    FFPF    avg_img > 0.5\n",
      "-------  --------------  --------------------------  ------------  --------------  ---------  ----------  ------  ------  ------  ------  ---------------\n",
      "      1  fg = [0, 1, 2]  bg = [3, 4, 5, 6, 7, 8, 9]  NA                     10000       9459       94.59   80.88   13.71    2.53    2.88             7347\n",
      "      2  fg = [0, 1, 2]  bg = [3, 4, 5, 6, 7, 8, 9]  NA                     10000       9892       98.92   87.31   11.61    1.07    0.01             6638\n",
      "      3  fg = [0, 1, 2]  bg = [3, 4, 5, 6, 7, 8, 9]  NA                     10000       9900       99      88.14   10.86    0.94    0.06             6646\n",
      "      4  fg = [0, 1, 2]  bg = [3, 4, 5, 6, 7, 8, 9]  NA                     10000       8743       87.43   69.51   17.92    2.8     9.77             7061\n",
      "      5  fg = [0, 1, 2]  bg = [3, 4, 5, 6, 7, 8, 9]  NA                     10000       8572       85.72   68.03   17.69    3.24   11.04             7459\n",
      "      6  fg = [0, 1, 2]  bg = [3, 4, 5, 6, 7, 8, 9]  NA                     10000       8672       86.72   71.14   15.58    3.19   10.09             7390\n",
      "      7  fg = [0, 1, 2]  bg = [3, 4, 5, 6, 7, 8, 9]  NA                     10000       9658       96.58   73.1    23.48    0.55    2.87             5566\n",
      "      8  fg = [0, 1, 2]  bg = [3, 4, 5, 6, 7, 8, 9]  NA                     10000       9577       95.77   70.89   24.88    0.53    3.7              5348\n",
      "      9  fg = [0, 1, 2]  bg = [3, 4, 5, 6, 7, 8, 9]  NA                     10000       8433       84.33   70.38   13.95    3.99   11.68             7452\n",
      " \n",
      "================================================================================================================================================================\n",
      " \n",
      "================================================================================================================================================================\n",
      "  S.No.  fg_class        bg_class                    Epoch used      total_points    correct    accuracy    FTPT    FFPT    FTPF    FFPF    avg_img > 0.5\n",
      "-------  --------------  --------------------------  ------------  --------------  ---------  ----------  ------  ------  ------  ------  ---------------\n",
      "      1  fg = [0, 1, 2]  bg = [3, 4, 5, 6, 7, 8, 9]  NA                     10000       8301       83.01   67.6    15.41    9.68    7.31             7083\n",
      "      2  fg = [0, 1, 2]  bg = [3, 4, 5, 6, 7, 8, 9]  NA                     10000       9500       95      82.02   12.98    4.91    0.09             6602\n",
      "      3  fg = [0, 1, 2]  bg = [3, 4, 5, 6, 7, 8, 9]  NA                     10000       9556       95.56   83.89   11.67    4.38    0.06             6636\n",
      "      4  fg = [0, 1, 2]  bg = [3, 4, 5, 6, 7, 8, 9]  NA                     10000       6776       67.76   47.06   20.7     8.96   23.28             6671\n",
      "      5  fg = [0, 1, 2]  bg = [3, 4, 5, 6, 7, 8, 9]  NA                     10000       6563       65.63   45.29   20.34    8.34   26.03             7093\n",
      "      6  fg = [0, 1, 2]  bg = [3, 4, 5, 6, 7, 8, 9]  NA                     10000       6721       67.21   47.55   19.66    8.49   24.3              6902\n",
      "      7  fg = [0, 1, 2]  bg = [3, 4, 5, 6, 7, 8, 9]  NA                     10000       8555       85.55   53.16   32.39    0.97   13.48             5130\n",
      "      8  fg = [0, 1, 2]  bg = [3, 4, 5, 6, 7, 8, 9]  NA                     10000       8492       84.92   51.85   33.07    0.81   14.27             4997\n",
      "      9  fg = [0, 1, 2]  bg = [3, 4, 5, 6, 7, 8, 9]  NA                     10000       6635       66.35   48.27   18.08    8.75   24.9              7065\n",
      " \n",
      "================================================================================================================================================================\n",
      " \n",
      "================================================================================================================================================================\n",
      "  S.No.  fg_class        bg_class                    Epoch used      total_points    correct    accuracy    FTPT    FFPT    FTPF    FFPF    avg_img > 0.5\n",
      "-------  --------------  --------------------------  ------------  --------------  ---------  ----------  ------  ------  ------  ------  ---------------\n",
      "      1  fg = [0, 1, 2]  bg = [3, 4, 5, 6, 7, 8, 9]  NA                     10000       7188       71.88   49.95   21.93   11.76   16.36             4188\n",
      "      2  fg = [0, 1, 2]  bg = [3, 4, 5, 6, 7, 8, 9]  NA                     10000       3419       34.19    7.92   26.27    9.74   56.07               47\n",
      "      3  fg = [0, 1, 2]  bg = [3, 4, 5, 6, 7, 8, 9]  NA                     10000       3367       33.67    5.96   27.71   11.48   54.85               69\n",
      "      4  fg = [0, 1, 2]  bg = [3, 4, 5, 6, 7, 8, 9]  NA                     10000       8547       85.47   67.61   17.86    3.35   11.18             6939\n",
      "      5  fg = [0, 1, 2]  bg = [3, 4, 5, 6, 7, 8, 9]  NA                     10000       8436       84.36   66.48   17.88    3.98   11.66             7351\n",
      "      6  fg = [0, 1, 2]  bg = [3, 4, 5, 6, 7, 8, 9]  NA                     10000       8563       85.63   69.25   16.38    4      10.37             7217\n",
      "      7  fg = [0, 1, 2]  bg = [3, 4, 5, 6, 7, 8, 9]  NA                     10000       6531       65.31   46.53   18.78   26.95    7.74             5554\n",
      "      8  fg = [0, 1, 2]  bg = [3, 4, 5, 6, 7, 8, 9]  NA                     10000       6516       65.16   45.82   19.34   24.92    9.92             5322\n",
      "      9  fg = [0, 1, 2]  bg = [3, 4, 5, 6, 7, 8, 9]  NA                     10000       8430       84.3    69.36   14.94    4.02   11.68             7458\n",
      " \n",
      "================================================================================================================================================================\n",
      " \n",
      "================================================================================================================================================================\n",
      "  S.No.  fg_class        bg_class                    Epoch used      total_points    correct    accuracy    FTPT    FFPT    FTPF    FFPF    avg_img > 0.5\n",
      "-------  --------------  --------------------------  ------------  --------------  ---------  ----------  ------  ------  ------  ------  ---------------\n",
      "      1  fg = [0, 1, 2]  bg = [3, 4, 5, 6, 7, 8, 9]  NA                     10000       5800       58      34.07   23.93   11.94   30.06             3877\n",
      "      2  fg = [0, 1, 2]  bg = [3, 4, 5, 6, 7, 8, 9]  NA                     10000       3374       33.74    7.76   25.98    9.62   56.64               61\n",
      "      3  fg = [0, 1, 2]  bg = [3, 4, 5, 6, 7, 8, 9]  NA                     10000       3346       33.46    5.93   27.53   10.8    55.74               55\n",
      "      4  fg = [0, 1, 2]  bg = [3, 4, 5, 6, 7, 8, 9]  NA                     10000       6557       65.57   45.2    20.37    9.27   25.16             6478\n",
      "      5  fg = [0, 1, 2]  bg = [3, 4, 5, 6, 7, 8, 9]  NA                     10000       6353       63.53   43.56   19.97    8.17   28.3              6993\n",
      "      6  fg = [0, 1, 2]  bg = [3, 4, 5, 6, 7, 8, 9]  NA                     10000       6633       66.33   46.59   19.74    8.6    25.07             6818\n",
      "      7  fg = [0, 1, 2]  bg = [3, 4, 5, 6, 7, 8, 9]  NA                     10000       5515       55.15   32.36   22.79   22.53   22.32             5049\n",
      "      8  fg = [0, 1, 2]  bg = [3, 4, 5, 6, 7, 8, 9]  NA                     10000       5404       54.04   31.22   22.82   21.96   24                4862\n",
      "      9  fg = [0, 1, 2]  bg = [3, 4, 5, 6, 7, 8, 9]  NA                     10000       6631       66.31   48.17   18.14    8.98   24.71             6989\n",
      " \n",
      "================================================================================================================================================================\n",
      "[1,    40] loss: 1.106\n",
      "[1,    80] loss: 1.099\n",
      "[1,   120] loss: 1.098\n",
      "[2,    40] loss: 1.098\n",
      "[2,    80] loss: 1.098\n",
      "[2,   120] loss: 1.099\n",
      "[3,    40] loss: 1.098\n",
      "[3,    80] loss: 1.099\n",
      "[3,   120] loss: 1.098\n",
      "[4,    40] loss: 1.098\n",
      "[4,    80] loss: 1.098\n",
      "[4,   120] loss: 1.098\n",
      "[5,    40] loss: 1.098\n",
      "[5,    80] loss: 1.098\n",
      "[5,   120] loss: 1.097\n",
      "[6,    40] loss: 1.097\n",
      "[6,    80] loss: 1.097\n",
      "[6,   120] loss: 1.097\n",
      "[7,    40] loss: 1.096\n",
      "[7,    80] loss: 1.096\n",
      "[7,   120] loss: 1.095\n",
      "[8,    40] loss: 1.094\n",
      "[8,    80] loss: 1.092\n",
      "[8,   120] loss: 1.089\n",
      "[9,    40] loss: 1.088\n",
      "[9,    80] loss: 1.086\n",
      "[9,   120] loss: 1.086\n",
      "[10,    40] loss: 1.084\n",
      "[10,    80] loss: 1.085\n",
      "[10,   120] loss: 1.083\n",
      "[11,    40] loss: 1.082\n",
      "[11,    80] loss: 1.082\n",
      "[11,   120] loss: 1.084\n",
      "[12,    40] loss: 1.082\n",
      "[12,    80] loss: 1.081\n",
      "[12,   120] loss: 1.082\n",
      "[13,    40] loss: 1.080\n",
      "[13,    80] loss: 1.081\n",
      "[13,   120] loss: 1.077\n",
      "[14,    40] loss: 1.075\n",
      "[14,    80] loss: 1.077\n",
      "[14,   120] loss: 1.072\n",
      "[15,    40] loss: 1.067\n",
      "[15,    80] loss: 1.065\n",
      "[15,   120] loss: 1.068\n",
      "[16,    40] loss: 1.062\n",
      "[16,    80] loss: 1.062\n",
      "[16,   120] loss: 1.058\n",
      "[17,    40] loss: 1.060\n",
      "[17,    80] loss: 1.062\n",
      "[17,   120] loss: 1.051\n",
      "[18,    40] loss: 1.057\n",
      "[18,    80] loss: 1.052\n",
      "[18,   120] loss: 1.046\n",
      "[19,    40] loss: 1.049\n",
      "[19,    80] loss: 1.047\n",
      "[19,   120] loss: 1.054\n",
      "[20,    40] loss: 1.045\n",
      "[20,    80] loss: 1.042\n",
      "[20,   120] loss: 1.045\n",
      "[21,    40] loss: 1.041\n",
      "[21,    80] loss: 1.035\n",
      "[21,   120] loss: 1.039\n",
      "[22,    40] loss: 1.030\n",
      "[22,    80] loss: 1.025\n",
      "[22,   120] loss: 1.022\n",
      "[23,    40] loss: 1.011\n",
      "[23,    80] loss: 1.015\n",
      "[23,   120] loss: 1.008\n",
      "[24,    40] loss: 1.003\n",
      "[24,    80] loss: 0.995\n",
      "[24,   120] loss: 0.998\n",
      "[25,    40] loss: 0.985\n",
      "[25,    80] loss: 0.971\n",
      "[25,   120] loss: 0.975\n",
      "[26,    40] loss: 0.955\n",
      "[26,    80] loss: 0.947\n",
      "[26,   120] loss: 0.927\n",
      "[27,    40] loss: 0.912\n",
      "[27,    80] loss: 0.903\n",
      "[27,   120] loss: 0.883\n",
      "[28,    40] loss: 0.871\n",
      "[28,    80] loss: 0.855\n",
      "[28,   120] loss: 0.874\n",
      "[29,    40] loss: 0.848\n",
      "[29,    80] loss: 0.845\n",
      "[29,   120] loss: 0.833\n",
      "[30,    40] loss: 0.822\n",
      "[30,    80] loss: 0.818\n",
      "[30,   120] loss: 0.795\n",
      "[31,    40] loss: 0.773\n",
      "[31,    80] loss: 0.786\n",
      "[31,   120] loss: 0.776\n",
      "[32,    40] loss: 0.755\n",
      "[32,    80] loss: 0.766\n",
      "[32,   120] loss: 0.759\n",
      "[33,    40] loss: 0.728\n",
      "[33,    80] loss: 0.716\n",
      "[33,   120] loss: 0.723\n",
      "[34,    40] loss: 0.734\n",
      "[34,    80] loss: 0.710\n",
      "[34,   120] loss: 0.705\n",
      "[35,    40] loss: 0.682\n",
      "[35,    80] loss: 0.686\n",
      "[35,   120] loss: 0.682\n",
      "[36,    40] loss: 0.660\n",
      "[36,    80] loss: 0.639\n",
      "[36,   120] loss: 0.661\n",
      "[37,    40] loss: 0.615\n",
      "[37,    80] loss: 0.618\n",
      "[37,   120] loss: 0.646\n",
      "[38,    40] loss: 0.620\n",
      "[38,    80] loss: 0.605\n",
      "[38,   120] loss: 0.619\n",
      "[39,    40] loss: 0.591\n",
      "[39,    80] loss: 0.603\n",
      "[39,   120] loss: 0.571\n",
      "[40,    40] loss: 0.556\n",
      "[40,    80] loss: 0.588\n",
      "[40,   120] loss: 0.562\n",
      "[41,    40] loss: 0.542\n",
      "[41,    80] loss: 0.522\n",
      "[41,   120] loss: 0.546\n",
      "[42,    40] loss: 0.502\n",
      "[42,    80] loss: 0.510\n",
      "[42,   120] loss: 0.532\n",
      "[43,    40] loss: 0.491\n",
      "[43,    80] loss: 0.515\n",
      "[43,   120] loss: 0.509\n",
      "[44,    40] loss: 0.472\n",
      "[44,    80] loss: 0.476\n",
      "[44,   120] loss: 0.481\n",
      "[45,    40] loss: 0.459\n",
      "[45,    80] loss: 0.456\n",
      "[45,   120] loss: 0.456\n",
      "[46,    40] loss: 0.464\n",
      "[46,    80] loss: 0.458\n",
      "[46,   120] loss: 0.472\n",
      "[47,    40] loss: 0.435\n",
      "[47,    80] loss: 0.421\n",
      "[47,   120] loss: 0.435\n",
      "[48,    40] loss: 0.415\n",
      "[48,    80] loss: 0.434\n",
      "[48,   120] loss: 0.408\n",
      "[49,    40] loss: 0.384\n",
      "[49,    80] loss: 0.402\n",
      "[49,   120] loss: 0.406\n",
      "[50,    40] loss: 0.377\n",
      "[50,    80] loss: 0.376\n",
      "[50,   120] loss: 0.396\n",
      "[51,    40] loss: 0.371\n",
      "[51,    80] loss: 0.369\n",
      "[51,   120] loss: 0.377\n",
      "[52,    40] loss: 0.352\n",
      "[52,    80] loss: 0.364\n",
      "[52,   120] loss: 0.352\n",
      "[53,    40] loss: 0.329\n",
      "[53,    80] loss: 0.341\n",
      "[53,   120] loss: 0.350\n",
      "[54,    40] loss: 0.325\n",
      "[54,    80] loss: 0.339\n",
      "[54,   120] loss: 0.348\n",
      "[55,    40] loss: 0.326\n",
      "[55,    80] loss: 0.359\n",
      "[55,   120] loss: 0.327\n",
      "[56,    40] loss: 0.303\n",
      "[56,    80] loss: 0.305\n",
      "[56,   120] loss: 0.328\n",
      "[57,    40] loss: 0.297\n",
      "[57,    80] loss: 0.297\n",
      "[57,   120] loss: 0.311\n",
      "[58,    40] loss: 0.287\n",
      "[58,    80] loss: 0.296\n",
      "[58,   120] loss: 0.293\n",
      "[59,    40] loss: 0.277\n",
      "[59,    80] loss: 0.294\n",
      "[59,   120] loss: 0.302\n",
      "[60,    40] loss: 0.284\n",
      "[60,    80] loss: 0.267\n",
      "[60,   120] loss: 0.285\n",
      "[61,    40] loss: 0.253\n",
      "[61,    80] loss: 0.280\n",
      "[61,   120] loss: 0.270\n",
      "[62,    40] loss: 0.236\n",
      "[62,    80] loss: 0.247\n",
      "[62,   120] loss: 0.269\n",
      "[63,    40] loss: 0.233\n",
      "[63,    80] loss: 0.256\n",
      "[63,   120] loss: 0.247\n",
      "[64,    40] loss: 0.246\n",
      "[64,    80] loss: 0.245\n",
      "[64,   120] loss: 0.265\n",
      "[65,    40] loss: 0.253\n",
      "[65,    80] loss: 0.229\n",
      "[65,   120] loss: 0.243\n",
      "[66,    40] loss: 0.235\n",
      "[66,    80] loss: 0.205\n",
      "[66,   120] loss: 0.235\n",
      "[67,    40] loss: 0.204\n",
      "[67,    80] loss: 0.217\n",
      "[67,   120] loss: 0.242\n",
      "[68,    40] loss: 0.208\n",
      "[68,    80] loss: 0.216\n",
      "[68,   120] loss: 0.230\n",
      "[69,    40] loss: 0.209\n",
      "[69,    80] loss: 0.198\n",
      "[69,   120] loss: 0.248\n",
      "[70,    40] loss: 0.191\n",
      "[70,    80] loss: 0.213\n",
      "[70,   120] loss: 0.214\n",
      "[71,    40] loss: 0.192\n",
      "[71,    80] loss: 0.189\n",
      "[71,   120] loss: 0.199\n",
      "[72,    40] loss: 0.209\n",
      "[72,    80] loss: 0.204\n",
      "[72,   120] loss: 0.191\n",
      "[73,    40] loss: 0.187\n",
      "[73,    80] loss: 0.217\n",
      "[73,   120] loss: 0.202\n",
      "[74,    40] loss: 0.161\n",
      "[74,    80] loss: 0.188\n",
      "[74,   120] loss: 0.218\n",
      "[75,    40] loss: 0.176\n",
      "[75,    80] loss: 0.175\n",
      "[75,   120] loss: 0.175\n",
      "[76,    40] loss: 0.157\n",
      "[76,    80] loss: 0.170\n",
      "[76,   120] loss: 0.204\n",
      "[77,    40] loss: 0.150\n",
      "[77,    80] loss: 0.170\n",
      "[77,   120] loss: 0.173\n",
      "[78,    40] loss: 0.152\n",
      "[78,    80] loss: 0.160\n",
      "[78,   120] loss: 0.165\n",
      "[79,    40] loss: 0.137\n",
      "[79,    80] loss: 0.136\n",
      "[79,   120] loss: 0.170\n",
      "[80,    40] loss: 0.122\n",
      "[80,    80] loss: 0.159\n",
      "[80,   120] loss: 0.156\n",
      "[81,    40] loss: 0.132\n",
      "[81,    80] loss: 0.134\n",
      "[81,   120] loss: 0.171\n",
      "[82,    40] loss: 0.148\n",
      "[82,    80] loss: 0.149\n",
      "[82,   120] loss: 0.156\n",
      "[83,    40] loss: 0.131\n",
      "[83,    80] loss: 0.149\n",
      "[83,   120] loss: 0.149\n",
      "[84,    40] loss: 0.123\n",
      "[84,    80] loss: 0.142\n",
      "[84,   120] loss: 0.146\n",
      "[85,    40] loss: 0.118\n",
      "[85,    80] loss: 0.132\n",
      "[85,   120] loss: 0.132\n",
      "[86,    40] loss: 0.111\n",
      "[86,    80] loss: 0.174\n",
      "[86,   120] loss: 0.144\n",
      "[87,    40] loss: 0.113\n",
      "[87,    80] loss: 0.121\n",
      "[87,   120] loss: 0.136\n",
      "[88,    40] loss: 0.111\n",
      "[88,    80] loss: 0.121\n",
      "[88,   120] loss: 0.162\n",
      "[89,    40] loss: 0.145\n",
      "[89,    80] loss: 0.115\n",
      "[89,   120] loss: 0.130\n",
      "[90,    40] loss: 0.106\n",
      "[90,    80] loss: 0.117\n",
      "[90,   120] loss: 0.124\n",
      "[91,    40] loss: 0.111\n",
      "[91,    80] loss: 0.120\n",
      "[91,   120] loss: 0.115\n",
      "[92,    40] loss: 0.084\n",
      "[92,    80] loss: 0.109\n",
      "[92,   120] loss: 0.095\n",
      "[93,    40] loss: 0.078\n",
      "[93,    80] loss: 0.075\n",
      "[93,   120] loss: 0.101\n",
      "[94,    40] loss: 0.129\n",
      "[94,    80] loss: 0.099\n",
      "[94,   120] loss: 0.095\n",
      "[95,    40] loss: 0.069\n",
      "[95,    80] loss: 0.074\n",
      "[95,   120] loss: 0.092\n",
      "[96,    40] loss: 0.069\n",
      "[96,    80] loss: 0.072\n",
      "[96,   120] loss: 0.077\n",
      "[97,    40] loss: 0.086\n",
      "[97,    80] loss: 0.084\n",
      "[97,   120] loss: 0.092\n",
      "[98,    40] loss: 0.084\n",
      "[98,    80] loss: 0.074\n",
      "[98,   120] loss: 0.079\n",
      "[99,    40] loss: 0.076\n",
      "[99,    80] loss: 0.073\n",
      "[99,   120] loss: 0.100\n",
      "[100,    40] loss: 0.085\n",
      "[100,    80] loss: 0.095\n",
      "[100,   120] loss: 0.093\n",
      "[101,    40] loss: 0.082\n",
      "[101,    80] loss: 0.070\n",
      "[101,   120] loss: 0.082\n",
      "[102,    40] loss: 0.108\n",
      "[102,    80] loss: 0.091\n",
      "[102,   120] loss: 0.121\n",
      "[103,    40] loss: 0.094\n",
      "[103,    80] loss: 0.085\n",
      "[103,   120] loss: 0.083\n",
      "[104,    40] loss: 0.071\n",
      "[104,    80] loss: 0.075\n",
      "[104,   120] loss: 0.102\n",
      "[105,    40] loss: 0.078\n",
      "[105,    80] loss: 0.068\n",
      "[105,   120] loss: 0.054\n",
      "[106,    40] loss: 0.048\n",
      "[106,    80] loss: 0.047\n",
      "[106,   120] loss: 0.064\n",
      "[107,    40] loss: 0.058\n",
      "[107,    80] loss: 0.082\n",
      "[107,   120] loss: 0.089\n",
      "[108,    40] loss: 0.056\n",
      "[108,    80] loss: 0.053\n",
      "[108,   120] loss: 0.054\n",
      "[109,    40] loss: 0.035\n",
      "[109,    80] loss: 0.051\n",
      "[109,   120] loss: 0.049\n",
      "Finished Training\n",
      " \n",
      "================================================================================================================================================================\n",
      "  S.No.  fg_class        bg_class                      Epoch used    total_points    correct    accuracy     FTPT     FFPT       FTPF       FFPF    avg_img > 0.5\n",
      "-------  --------------  --------------------------  ------------  --------------  ---------  ----------  -------  -------  ---------  ---------  ---------------\n",
      "      1  fg = [0, 1, 2]  bg = [3, 4, 5, 6, 7, 8, 9]            84           30000      29703     99.01    83.7333  15.2767  0.266667   0.723333             22323\n",
      "      2  fg = [0, 1, 2]  bg = [3, 4, 5, 6, 7, 8, 9]            55           30000      29893     99.6433  87.96    11.6833  0.346667   0.01                 19991\n",
      "      3  fg = [0, 1, 2]  bg = [3, 4, 5, 6, 7, 8, 9]            55           30000      29918     99.7267  88.9     10.8267  0.236667   0.0366667            20017\n",
      "      4  fg = [0, 1, 2]  bg = [3, 4, 5, 6, 7, 8, 9]           101           30000      29754     99.18    76.91    22.27    0.1        0.72                 22517\n",
      "      5  fg = [0, 1, 2]  bg = [3, 4, 5, 6, 7, 8, 9]           112           30000      29575     98.5833  75.4833  23.1     0.21       1.20667              23498\n",
      "      6  fg = [0, 1, 2]  bg = [3, 4, 5, 6, 7, 8, 9]           107           30000      29836     99.4533  78.58    20.8733  0.06       0.486667             23479\n",
      "      7  fg = [0, 1, 2]  bg = [3, 4, 5, 6, 7, 8, 9]            67           30000      29759     99.1967  77.56    21.6367  0.1        0.703333             17834\n",
      "      8  fg = [0, 1, 2]  bg = [3, 4, 5, 6, 7, 8, 9]            65           30000      29684     98.9467  75.3933  23.5533  0.08       0.973333             17203\n",
      "      9  fg = [0, 1, 2]  bg = [3, 4, 5, 6, 7, 8, 9]           109           30000      29442     98.14    77.85    20.29    0.44       1.42                 23538\n",
      "     10  fg = [0, 1, 2]  bg = [3, 4, 5, 6, 7, 8, 9]           108           30000      29751     99.17    75.5567  23.6133  0.0933333  0.736667             21964\n",
      " \n",
      "================================================================================================================================================================\n",
      " \n",
      "================================================================================================================================================================\n",
      "  S.No.  fg_class        bg_class                    Epoch used      total_points    correct    accuracy    FTPT    FFPT    FTPF    FFPF    avg_img > 0.5\n",
      "-------  --------------  --------------------------  ------------  --------------  ---------  ----------  ------  ------  ------  ------  ---------------\n",
      "      1  fg = [0, 1, 2]  bg = [3, 4, 5, 6, 7, 8, 9]  NA                     10000       9459       94.59   80.88   13.71    2.53    2.88             7347\n",
      "      2  fg = [0, 1, 2]  bg = [3, 4, 5, 6, 7, 8, 9]  NA                     10000       9892       98.92   87.31   11.61    1.07    0.01             6638\n",
      "      3  fg = [0, 1, 2]  bg = [3, 4, 5, 6, 7, 8, 9]  NA                     10000       9900       99      88.14   10.86    0.94    0.06             6646\n",
      "      4  fg = [0, 1, 2]  bg = [3, 4, 5, 6, 7, 8, 9]  NA                     10000       8743       87.43   69.51   17.92    2.8     9.77             7061\n",
      "      5  fg = [0, 1, 2]  bg = [3, 4, 5, 6, 7, 8, 9]  NA                     10000       8572       85.72   68.03   17.69    3.24   11.04             7459\n",
      "      6  fg = [0, 1, 2]  bg = [3, 4, 5, 6, 7, 8, 9]  NA                     10000       8672       86.72   71.14   15.58    3.19   10.09             7390\n",
      "      7  fg = [0, 1, 2]  bg = [3, 4, 5, 6, 7, 8, 9]  NA                     10000       9658       96.58   73.1    23.48    0.55    2.87             5566\n",
      "      8  fg = [0, 1, 2]  bg = [3, 4, 5, 6, 7, 8, 9]  NA                     10000       9577       95.77   70.89   24.88    0.53    3.7              5348\n",
      "      9  fg = [0, 1, 2]  bg = [3, 4, 5, 6, 7, 8, 9]  NA                     10000       8433       84.33   70.38   13.95    3.99   11.68             7452\n",
      "     10  fg = [0, 1, 2]  bg = [3, 4, 5, 6, 7, 8, 9]  NA                     10000       8559       85.59   68.24   17.35    3.54   10.87             6955\n",
      " \n",
      "================================================================================================================================================================\n",
      " \n",
      "================================================================================================================================================================\n",
      "  S.No.  fg_class        bg_class                    Epoch used      total_points    correct    accuracy    FTPT    FFPT    FTPF    FFPF    avg_img > 0.5\n",
      "-------  --------------  --------------------------  ------------  --------------  ---------  ----------  ------  ------  ------  ------  ---------------\n",
      "      1  fg = [0, 1, 2]  bg = [3, 4, 5, 6, 7, 8, 9]  NA                     10000       8301       83.01   67.6    15.41    9.68    7.31             7083\n",
      "      2  fg = [0, 1, 2]  bg = [3, 4, 5, 6, 7, 8, 9]  NA                     10000       9500       95      82.02   12.98    4.91    0.09             6602\n",
      "      3  fg = [0, 1, 2]  bg = [3, 4, 5, 6, 7, 8, 9]  NA                     10000       9556       95.56   83.89   11.67    4.38    0.06             6636\n",
      "      4  fg = [0, 1, 2]  bg = [3, 4, 5, 6, 7, 8, 9]  NA                     10000       6776       67.76   47.06   20.7     8.96   23.28             6671\n",
      "      5  fg = [0, 1, 2]  bg = [3, 4, 5, 6, 7, 8, 9]  NA                     10000       6563       65.63   45.29   20.34    8.34   26.03             7093\n",
      "      6  fg = [0, 1, 2]  bg = [3, 4, 5, 6, 7, 8, 9]  NA                     10000       6721       67.21   47.55   19.66    8.49   24.3              6902\n",
      "      7  fg = [0, 1, 2]  bg = [3, 4, 5, 6, 7, 8, 9]  NA                     10000       8555       85.55   53.16   32.39    0.97   13.48             5130\n",
      "      8  fg = [0, 1, 2]  bg = [3, 4, 5, 6, 7, 8, 9]  NA                     10000       8492       84.92   51.85   33.07    0.81   14.27             4997\n",
      "      9  fg = [0, 1, 2]  bg = [3, 4, 5, 6, 7, 8, 9]  NA                     10000       6635       66.35   48.27   18.08    8.75   24.9              7065\n",
      "     10  fg = [0, 1, 2]  bg = [3, 4, 5, 6, 7, 8, 9]  NA                     10000       6565       65.65   45.82   19.83   10.07   24.28             6842\n",
      " \n",
      "================================================================================================================================================================\n",
      " \n",
      "================================================================================================================================================================\n",
      "  S.No.  fg_class        bg_class                    Epoch used      total_points    correct    accuracy    FTPT    FFPT    FTPF    FFPF    avg_img > 0.5\n",
      "-------  --------------  --------------------------  ------------  --------------  ---------  ----------  ------  ------  ------  ------  ---------------\n",
      "      1  fg = [0, 1, 2]  bg = [3, 4, 5, 6, 7, 8, 9]  NA                     10000       7188       71.88   49.95   21.93   11.76   16.36             4188\n",
      "      2  fg = [0, 1, 2]  bg = [3, 4, 5, 6, 7, 8, 9]  NA                     10000       3419       34.19    7.92   26.27    9.74   56.07               47\n",
      "      3  fg = [0, 1, 2]  bg = [3, 4, 5, 6, 7, 8, 9]  NA                     10000       3367       33.67    5.96   27.71   11.48   54.85               69\n",
      "      4  fg = [0, 1, 2]  bg = [3, 4, 5, 6, 7, 8, 9]  NA                     10000       8547       85.47   67.61   17.86    3.35   11.18             6939\n",
      "      5  fg = [0, 1, 2]  bg = [3, 4, 5, 6, 7, 8, 9]  NA                     10000       8436       84.36   66.48   17.88    3.98   11.66             7351\n",
      "      6  fg = [0, 1, 2]  bg = [3, 4, 5, 6, 7, 8, 9]  NA                     10000       8563       85.63   69.25   16.38    4      10.37             7217\n",
      "      7  fg = [0, 1, 2]  bg = [3, 4, 5, 6, 7, 8, 9]  NA                     10000       6531       65.31   46.53   18.78   26.95    7.74             5554\n",
      "      8  fg = [0, 1, 2]  bg = [3, 4, 5, 6, 7, 8, 9]  NA                     10000       6516       65.16   45.82   19.34   24.92    9.92             5322\n",
      "      9  fg = [0, 1, 2]  bg = [3, 4, 5, 6, 7, 8, 9]  NA                     10000       8430       84.3    69.36   14.94    4.02   11.68             7458\n",
      "     10  fg = [0, 1, 2]  bg = [3, 4, 5, 6, 7, 8, 9]  NA                     10000       8459       84.59   67.29   17.3     4.18   11.23             6914\n",
      " \n",
      "================================================================================================================================================================\n",
      " \n",
      "================================================================================================================================================================\n",
      "  S.No.  fg_class        bg_class                    Epoch used      total_points    correct    accuracy    FTPT    FFPT    FTPF    FFPF    avg_img > 0.5\n",
      "-------  --------------  --------------------------  ------------  --------------  ---------  ----------  ------  ------  ------  ------  ---------------\n",
      "      1  fg = [0, 1, 2]  bg = [3, 4, 5, 6, 7, 8, 9]  NA                     10000       5800       58      34.07   23.93   11.94   30.06             3877\n",
      "      2  fg = [0, 1, 2]  bg = [3, 4, 5, 6, 7, 8, 9]  NA                     10000       3374       33.74    7.76   25.98    9.62   56.64               61\n",
      "      3  fg = [0, 1, 2]  bg = [3, 4, 5, 6, 7, 8, 9]  NA                     10000       3346       33.46    5.93   27.53   10.8    55.74               55\n",
      "      4  fg = [0, 1, 2]  bg = [3, 4, 5, 6, 7, 8, 9]  NA                     10000       6557       65.57   45.2    20.37    9.27   25.16             6478\n",
      "      5  fg = [0, 1, 2]  bg = [3, 4, 5, 6, 7, 8, 9]  NA                     10000       6353       63.53   43.56   19.97    8.17   28.3              6993\n",
      "      6  fg = [0, 1, 2]  bg = [3, 4, 5, 6, 7, 8, 9]  NA                     10000       6633       66.33   46.59   19.74    8.6    25.07             6818\n",
      "      7  fg = [0, 1, 2]  bg = [3, 4, 5, 6, 7, 8, 9]  NA                     10000       5515       55.15   32.36   22.79   22.53   22.32             5049\n",
      "      8  fg = [0, 1, 2]  bg = [3, 4, 5, 6, 7, 8, 9]  NA                     10000       5404       54.04   31.22   22.82   21.96   24                4862\n",
      "      9  fg = [0, 1, 2]  bg = [3, 4, 5, 6, 7, 8, 9]  NA                     10000       6631       66.31   48.17   18.14    8.98   24.71             6989\n",
      "     10  fg = [0, 1, 2]  bg = [3, 4, 5, 6, 7, 8, 9]  NA                     10000       6600       66      45.49   20.51   10.08   23.92             6732\n",
      " \n",
      "================================================================================================================================================================\n"
     ]
    }
   ],
   "source": [
    "number_runs = 10\n",
    "\n",
    "for i in range(number_runs):\n",
    "  fore_net = Module2().double()\n",
    "  fore_net = fore_net.to(\"cuda\")\n",
    "\n",
    "  fore_net, epoch = training(train_loader_from_noise_train_mosaic_30k, fore_net)\n",
    "\n",
    "  correct, total, ftpt, ffpt, ftpf, ffpf, alpha_more_half = testing(train_loader_from_noise_train_mosaic_30k, fore_net)\n",
    "  train_table = enter_into(train_table, i+1, correct, total, ftpt, ffpt, ftpf, ffpf, alpha_more_half, fg, bg, str(epoch) )\n",
    "\n",
    "  correct, total, ftpt, ffpt, ftpf, ffpf, alpha_more_half = testing(test_loader_from_noise_train_mosaic_30k, fore_net)\n",
    "  test_table1 = enter_into(test_table1, i+1, correct, total, ftpt, ffpt, ftpf, ffpf, alpha_more_half , fg, bg )\n",
    "\n",
    "  correct, total, ftpt, ffpt, ftpf, ffpf, alpha_more_half = testing(test_loader_from_noise_test_mosaic_10k, fore_net)\n",
    "  test_table2 = enter_into(test_table2, i+1, correct, total, ftpt, ffpt, ftpf, ffpf, alpha_more_half, fg, bg )\n",
    "\n",
    "  correct, total, ftpt, ffpt, ftpf, ffpf, alpha_more_half = testing(test_loader_from_true_train_mosaic_30k, fore_net)\n",
    "  test_table3 = enter_into(test_table3, i+1, correct, total, ftpt, ffpt, ftpf, ffpf, alpha_more_half , fg, bg)\n",
    "\n",
    "  correct, total, ftpt, ffpt, ftpf, ffpf, alpha_more_half = testing(test_loader_from_true_train_mosaic_10k, fore_net)\n",
    "  test_table4 = enter_into(test_table4, i+1, correct, total, ftpt, ffpt, ftpf, ffpf, alpha_more_half, fg, bg )\n",
    "\n"
   ]
  },
  {
   "cell_type": "code",
   "execution_count": 79,
   "metadata": {
    "colab": {
     "base_uri": "https://localhost:8080/",
     "height": 335
    },
    "id": "kloPmAalgpIz",
    "outputId": "6788ca72-1d62-4beb-fada-4d09d2ee6232"
   },
   "outputs": [
    {
     "name": "stdout",
     "output_type": "stream",
     "text": [
      " \n",
      "================================================================================================================================================================\n",
      "S.No.    fg_class        bg_class                    Epoch used    total_points    correct      accuracy     FTPT     FFPT       FTPF       FFPF    avg_img > 0.5\n",
      "-------  --------------  --------------------------  ------------  --------------  ---------  ----------  -------  -------  ---------  ---------  ---------------\n",
      "1        fg = [0, 1, 2]  bg = [3, 4, 5, 6, 7, 8, 9]  84            30000           29703         99.01    83.7333  15.2767  0.266667   0.723333           22323\n",
      "2        fg = [0, 1, 2]  bg = [3, 4, 5, 6, 7, 8, 9]  55            30000           29893         99.6433  87.96    11.6833  0.346667   0.01               19991\n",
      "3        fg = [0, 1, 2]  bg = [3, 4, 5, 6, 7, 8, 9]  55            30000           29918         99.7267  88.9     10.8267  0.236667   0.0366667          20017\n",
      "4        fg = [0, 1, 2]  bg = [3, 4, 5, 6, 7, 8, 9]  101           30000           29754         99.18    76.91    22.27    0.1        0.72               22517\n",
      "5        fg = [0, 1, 2]  bg = [3, 4, 5, 6, 7, 8, 9]  112           30000           29575         98.5833  75.4833  23.1     0.21       1.20667            23498\n",
      "6        fg = [0, 1, 2]  bg = [3, 4, 5, 6, 7, 8, 9]  107           30000           29836         99.4533  78.58    20.8733  0.06       0.486667           23479\n",
      "7        fg = [0, 1, 2]  bg = [3, 4, 5, 6, 7, 8, 9]  67            30000           29759         99.1967  77.56    21.6367  0.1        0.703333           17834\n",
      "8        fg = [0, 1, 2]  bg = [3, 4, 5, 6, 7, 8, 9]  65            30000           29684         98.9467  75.3933  23.5533  0.08       0.973333           17203\n",
      "9        fg = [0, 1, 2]  bg = [3, 4, 5, 6, 7, 8, 9]  109           30000           29442         98.14    77.85    20.29    0.44       1.42               23538\n",
      "10       fg = [0, 1, 2]  bg = [3, 4, 5, 6, 7, 8, 9]  108           30000           29751         99.17    75.5567  23.6133  0.0933333  0.736667           21964\n",
      "Avg                                                                                              99.105   79.7927  19.3123  0.193333   0.701667           21236.4\n",
      " \n",
      "================================================================================================================================================================\n"
     ]
    }
   ],
   "source": [
    "train_table = add_average_entry(train_table)"
   ]
  },
  {
   "cell_type": "code",
   "execution_count": 80,
   "metadata": {
    "colab": {
     "base_uri": "https://localhost:8080/",
     "height": 335
    },
    "id": "00KPkU7EhPJj",
    "outputId": "dd1331d1-ec30-4f06-950e-ced4ee528fbd"
   },
   "outputs": [
    {
     "name": "stdout",
     "output_type": "stream",
     "text": [
      " \n",
      "================================================================================================================================================================\n",
      "S.No.    fg_class        bg_class                    Epoch used    total_points    correct      accuracy     FTPT     FFPT      FTPF       FFPF    avg_img > 0.5\n",
      "-------  --------------  --------------------------  ------------  --------------  ---------  ----------  -------  -------  --------  ---------  ---------------\n",
      "1        fg = [0, 1, 2]  bg = [3, 4, 5, 6, 7, 8, 9]  NA            10000           9459           94.59   80.88    13.71    2.53       2.88               7347\n",
      "2        fg = [0, 1, 2]  bg = [3, 4, 5, 6, 7, 8, 9]  NA            10000           9892           98.92   87.31    11.61    1.07       0.01               6638\n",
      "3        fg = [0, 1, 2]  bg = [3, 4, 5, 6, 7, 8, 9]  NA            10000           9900           99      88.14    10.86    0.94       0.06               6646\n",
      "4        fg = [0, 1, 2]  bg = [3, 4, 5, 6, 7, 8, 9]  NA            10000           8743           87.43   69.51    17.92    2.8        9.77               7061\n",
      "5        fg = [0, 1, 2]  bg = [3, 4, 5, 6, 7, 8, 9]  NA            10000           8572           85.72   68.03    17.69    3.24      11.04               7459\n",
      "6        fg = [0, 1, 2]  bg = [3, 4, 5, 6, 7, 8, 9]  NA            10000           8672           86.72   71.14    15.58    3.19      10.09               7390\n",
      "7        fg = [0, 1, 2]  bg = [3, 4, 5, 6, 7, 8, 9]  NA            10000           9658           96.58   73.1     23.48    0.55       2.87               5566\n",
      "8        fg = [0, 1, 2]  bg = [3, 4, 5, 6, 7, 8, 9]  NA            10000           9577           95.77   70.89    24.88    0.53       3.7                5348\n",
      "9        fg = [0, 1, 2]  bg = [3, 4, 5, 6, 7, 8, 9]  NA            10000           8433           84.33   70.38    13.95    3.99      11.68               7452\n",
      "10       fg = [0, 1, 2]  bg = [3, 4, 5, 6, 7, 8, 9]  NA            10000           8559           85.59   68.24    17.35    3.54      10.87               6955\n",
      "Avg                                                                                               99.105  79.7927  19.3123  0.193333   0.701667          21236.4\n",
      " \n",
      "================================================================================================================================================================\n"
     ]
    }
   ],
   "source": [
    "test_table1 = add_average_entry(test_table1)"
   ]
  },
  {
   "cell_type": "code",
   "execution_count": null,
   "metadata": {},
   "outputs": [],
   "source": [
    "1        fg = [0, 1, 2]  bg = [3, 4, 5, 6, 7, 8, 9]  NA            10000           9459           94.59   80.88    13.71    2.53       2.88               7347\n",
    "2        fg = [0, 1, 2]  bg = [3, 4, 5, 6, 7, 8, 9]  NA            10000           9892           98.92   87.31    11.61    1.07       0.01               6638\n",
    "3        fg = [0, 1, 2]  bg = [3, 4, 5, 6, 7, 8, 9]  NA            10000           9900           99      88.14    10.86    0.94       0.06               6646\n",
    "4        fg = [0, 1, 2]  bg = [3, 4, 5, 6, 7, 8, 9]  NA            10000           8743           87.43   69.51    17.92    2.8        9.77               7061\n",
    "5        fg = [0, 1, 2]  bg = [3, 4, 5, 6, 7, 8, 9]  NA            10000           8572           85.72   68.03    17.69    3.24      11.04               7459\n",
    "6        fg = [0, 1, 2]  bg = [3, 4, 5, 6, 7, 8, 9]  NA            10000           8672           86.72   71.14    15.58    3.19      10.09               7390\n",
    "7        fg = [0, 1, 2]  bg = [3, 4, 5, 6, 7, 8, 9]  NA            10000           9658           96.58   73.1     23.48    0.55       2.87               5566\n",
    "8        fg = [0, 1, 2]  bg = [3, 4, 5, 6, 7, 8, 9]  NA            10000           9577           95.77   70.89    24.88    0.53       3.7                5348\n",
    "9        fg = [0, 1, 2]  bg = [3, 4, 5, 6, 7, 8, 9]  NA            10000           8433           84.33   70.38    13.95    3.99      11.68               7452\n",
    "10       fg = [0, 1, 2]  bg = [3, 4, 5, 6, 7, 8, 9]  NA            10000           8559           85.59   68.24    17.35    3.54      10.87               6955"
   ]
  },
  {
   "cell_type": "code",
   "execution_count": 1,
   "metadata": {},
   "outputs": [
    {
     "data": {
      "text/plain": [
       "91.465"
      ]
     },
     "execution_count": 1,
     "metadata": {},
     "output_type": "execute_result"
    }
   ],
   "source": [
    "( 94.59 +\n",
    " 98.92 +\n",
    " 99    +\n",
    " 87.43 +\n",
    " 85.72 +\n",
    " 86.72 +\n",
    " 96.58 +\n",
    "95.77  +\n",
    " 84.33 +\n",
    " 85.59 )/10"
   ]
  },
  {
   "cell_type": "code",
   "execution_count": 2,
   "metadata": {},
   "outputs": [
    {
     "data": {
      "text/plain": [
       "74.762"
      ]
     },
     "execution_count": 2,
     "metadata": {},
     "output_type": "execute_result"
    }
   ],
   "source": [
    "( 80.88 +\n",
    " 87.31 +\n",
    " 88.14 +\n",
    " 69.51 +\n",
    " 68.03 +\n",
    " 71.14 +\n",
    " 73.1  +\n",
    "70.89  +\n",
    " 70.38 +\n",
    " 68.24 )/10"
   ]
  },
  {
   "cell_type": "code",
   "execution_count": 3,
   "metadata": {},
   "outputs": [
    {
     "data": {
      "text/plain": [
       "16.703"
      ]
     },
     "execution_count": 3,
     "metadata": {},
     "output_type": "execute_result"
    }
   ],
   "source": [
    "( 13.71 +\n",
    " 11.61 +\n",
    " 10.86 +\n",
    " 17.92 +\n",
    " 17.69 +\n",
    " 15.58 +\n",
    " 23.48 +\n",
    "24.88  +\n",
    " 13.95 +\n",
    " 17.35 )/10"
   ]
  },
  {
   "cell_type": "code",
   "execution_count": 4,
   "metadata": {},
   "outputs": [
    {
     "data": {
      "text/plain": [
       "2.2379999999999995"
      ]
     },
     "execution_count": 4,
     "metadata": {},
     "output_type": "execute_result"
    }
   ],
   "source": [
    "( 2.53 +\n",
    " 1.07 +\n",
    " 0.94 +\n",
    " 2.8  +\n",
    " 3.24 +\n",
    " 3.19 +\n",
    " 0.55 +\n",
    "0.53  +\n",
    " 3.99 +\n",
    " 3.54 )/10"
   ]
  },
  {
   "cell_type": "code",
   "execution_count": 5,
   "metadata": {},
   "outputs": [
    {
     "data": {
      "text/plain": [
       "6.296999999999999"
      ]
     },
     "execution_count": 5,
     "metadata": {},
     "output_type": "execute_result"
    }
   ],
   "source": [
    "(  2.88 +\n",
    "  0.01 +\n",
    "  0.06 +\n",
    "  9.77 +\n",
    " 11.04 +\n",
    " 10.09 +\n",
    "  2.87 +\n",
    " 3.7   +\n",
    " 11.68 +\n",
    " 10.87 )/10"
   ]
  },
  {
   "cell_type": "code",
   "execution_count": 81,
   "metadata": {
    "colab": {
     "base_uri": "https://localhost:8080/",
     "height": 335
    },
    "id": "pW_kUqi3hR6u",
    "outputId": "cc43ffdd-1728-4084-8eb6-e86d9b764ea3"
   },
   "outputs": [
    {
     "name": "stdout",
     "output_type": "stream",
     "text": [
      " \n",
      "================================================================================================================================================================\n",
      "S.No.    fg_class        bg_class                    Epoch used    total_points    correct      accuracy     FTPT     FFPT       FTPF       FFPF    avg_img > 0.5\n",
      "-------  --------------  --------------------------  ------------  --------------  ---------  ----------  -------  -------  ---------  ---------  ---------------\n",
      "1        fg = [0, 1, 2]  bg = [3, 4, 5, 6, 7, 8, 9]  NA            10000           8301           83.01   67.6     15.41     9.68       7.31               7083\n",
      "2        fg = [0, 1, 2]  bg = [3, 4, 5, 6, 7, 8, 9]  NA            10000           9500           95      82.02    12.98     4.91       0.09               6602\n",
      "3        fg = [0, 1, 2]  bg = [3, 4, 5, 6, 7, 8, 9]  NA            10000           9556           95.56   83.89    11.67     4.38       0.06               6636\n",
      "4        fg = [0, 1, 2]  bg = [3, 4, 5, 6, 7, 8, 9]  NA            10000           6776           67.76   47.06    20.7      8.96      23.28               6671\n",
      "5        fg = [0, 1, 2]  bg = [3, 4, 5, 6, 7, 8, 9]  NA            10000           6563           65.63   45.29    20.34     8.34      26.03               7093\n",
      "6        fg = [0, 1, 2]  bg = [3, 4, 5, 6, 7, 8, 9]  NA            10000           6721           67.21   47.55    19.66     8.49      24.3                6902\n",
      "7        fg = [0, 1, 2]  bg = [3, 4, 5, 6, 7, 8, 9]  NA            10000           8555           85.55   53.16    32.39     0.97      13.48               5130\n",
      "8        fg = [0, 1, 2]  bg = [3, 4, 5, 6, 7, 8, 9]  NA            10000           8492           84.92   51.85    33.07     0.81      14.27               4997\n",
      "9        fg = [0, 1, 2]  bg = [3, 4, 5, 6, 7, 8, 9]  NA            10000           6635           66.35   48.27    18.08     8.75      24.9                7065\n",
      "10       fg = [0, 1, 2]  bg = [3, 4, 5, 6, 7, 8, 9]  NA            10000           6565           65.65   45.82    19.83    10.07      24.28               6842\n",
      "Avg                                                                                               99.105  79.7927  19.3123   0.193333   0.701667          21236.4\n",
      " \n",
      "================================================================================================================================================================\n"
     ]
    }
   ],
   "source": [
    "test_table2 = add_average_entry(test_table2)"
   ]
  },
  {
   "cell_type": "code",
   "execution_count": null,
   "metadata": {},
   "outputs": [],
   "source": [
    "1        fg = [0, 1, 2]  bg = [3, 4, 5, 6, 7, 8, 9]  NA            10000           8301           83.01   67.6     15.41     9.68       7.31               7083\n",
    "2        fg = [0, 1, 2]  bg = [3, 4, 5, 6, 7, 8, 9]  NA            10000           9500           95      82.02    12.98     4.91       0.09               6602\n",
    "3        fg = [0, 1, 2]  bg = [3, 4, 5, 6, 7, 8, 9]  NA            10000           9556           95.56   83.89    11.67     4.38       0.06               6636\n",
    "4        fg = [0, 1, 2]  bg = [3, 4, 5, 6, 7, 8, 9]  NA            10000           6776           67.76   47.06    20.7      8.96      23.28               6671\n",
    "5        fg = [0, 1, 2]  bg = [3, 4, 5, 6, 7, 8, 9]  NA            10000           6563           65.63   45.29    20.34     8.34      26.03               7093\n",
    "6        fg = [0, 1, 2]  bg = [3, 4, 5, 6, 7, 8, 9]  NA            10000           6721           67.21   47.55    19.66     8.49      24.3                6902\n",
    "7        fg = [0, 1, 2]  bg = [3, 4, 5, 6, 7, 8, 9]  NA            10000           8555           85.55   53.16    32.39     0.97      13.48               5130\n",
    "8        fg = [0, 1, 2]  bg = [3, 4, 5, 6, 7, 8, 9]  NA            10000           8492           84.92   51.85    33.07     0.81      14.27               4997\n",
    "9        fg = [0, 1, 2]  bg = [3, 4, 5, 6, 7, 8, 9]  NA            10000           6635           66.35   48.27    18.08     8.75      24.9                7065\n",
    "10       fg = [0, 1, 2]  bg = [3, 4, 5, 6, 7, 8, 9]  NA            10000           6565           65.65   45.82    19.83    10.07      24.28               6842"
   ]
  },
  {
   "cell_type": "code",
   "execution_count": 6,
   "metadata": {},
   "outputs": [
    {
     "data": {
      "text/plain": [
       "77.66399999999999"
      ]
     },
     "execution_count": 6,
     "metadata": {},
     "output_type": "execute_result"
    }
   ],
   "source": [
    "( 83.01 +\n",
    " 95    +\n",
    " 95.56 +\n",
    " 67.76 +\n",
    " 65.63 +\n",
    " 67.21 +\n",
    " 85.55 +\n",
    "84.92  +\n",
    " 66.35 +\n",
    " 65.65 )/10"
   ]
  },
  {
   "cell_type": "code",
   "execution_count": 7,
   "metadata": {},
   "outputs": [
    {
     "data": {
      "text/plain": [
       "57.25100000000001"
      ]
     },
     "execution_count": 7,
     "metadata": {},
     "output_type": "execute_result"
    }
   ],
   "source": [
    "( 67.6  +\n",
    " 82.02 +\n",
    " 83.89 +\n",
    " 47.06 +\n",
    " 45.29 +\n",
    " 47.55 +\n",
    " 53.16 +\n",
    "51.85  +\n",
    " 48.27 +\n",
    " 45.82 )/10"
   ]
  },
  {
   "cell_type": "code",
   "execution_count": 8,
   "metadata": {},
   "outputs": [
    {
     "data": {
      "text/plain": [
       "20.413"
      ]
     },
     "execution_count": 8,
     "metadata": {},
     "output_type": "execute_result"
    }
   ],
   "source": [
    "( 15.41 +\n",
    " 12.98 +\n",
    " 11.67 +\n",
    " 20.7  +\n",
    " 20.34 +\n",
    " 19.66 +\n",
    " 32.39 +\n",
    "33.07  +\n",
    " 18.08 +\n",
    " 19.83 )/10"
   ]
  },
  {
   "cell_type": "code",
   "execution_count": 9,
   "metadata": {},
   "outputs": [
    {
     "data": {
      "text/plain": [
       "6.536"
      ]
     },
     "execution_count": 9,
     "metadata": {},
     "output_type": "execute_result"
    }
   ],
   "source": [
    "(  9.68 +\n",
    "  4.91 +\n",
    "  4.38 +\n",
    "  8.96 +\n",
    "  8.34 +\n",
    "  8.49 +\n",
    "  0.97 +\n",
    " 0.81  +\n",
    "  8.75 +\n",
    " 10.07 )/10"
   ]
  },
  {
   "cell_type": "code",
   "execution_count": 10,
   "metadata": {},
   "outputs": [
    {
     "data": {
      "text/plain": [
       "15.8"
      ]
     },
     "execution_count": 10,
     "metadata": {},
     "output_type": "execute_result"
    }
   ],
   "source": [
    "(  7.31 +\n",
    "  0.09 +\n",
    "  0.06 +\n",
    " 23.28 +\n",
    " 26.03 +\n",
    " 24.3  +\n",
    " 13.48 +\n",
    "14.27  +\n",
    " 24.9  +\n",
    " 24.28 )/10"
   ]
  },
  {
   "cell_type": "code",
   "execution_count": 82,
   "metadata": {
    "colab": {
     "base_uri": "https://localhost:8080/",
     "height": 335
    },
    "id": "_ZlV6qErhUUL",
    "outputId": "998dc3f7-56bf-40f0-bf69-6065b5e9c0d6"
   },
   "outputs": [
    {
     "name": "stdout",
     "output_type": "stream",
     "text": [
      " \n",
      "================================================================================================================================================================\n",
      "S.No.    fg_class        bg_class                    Epoch used    total_points    correct      accuracy     FTPT     FFPT       FTPF       FFPF    avg_img > 0.5\n",
      "-------  --------------  --------------------------  ------------  --------------  ---------  ----------  -------  -------  ---------  ---------  ---------------\n",
      "1        fg = [0, 1, 2]  bg = [3, 4, 5, 6, 7, 8, 9]  NA            10000           7188           71.88   49.95    21.93    11.76      16.36               4188\n",
      "2        fg = [0, 1, 2]  bg = [3, 4, 5, 6, 7, 8, 9]  NA            10000           3419           34.19    7.92    26.27     9.74      56.07                 47\n",
      "3        fg = [0, 1, 2]  bg = [3, 4, 5, 6, 7, 8, 9]  NA            10000           3367           33.67    5.96    27.71    11.48      54.85                 69\n",
      "4        fg = [0, 1, 2]  bg = [3, 4, 5, 6, 7, 8, 9]  NA            10000           8547           85.47   67.61    17.86     3.35      11.18               6939\n",
      "5        fg = [0, 1, 2]  bg = [3, 4, 5, 6, 7, 8, 9]  NA            10000           8436           84.36   66.48    17.88     3.98      11.66               7351\n",
      "6        fg = [0, 1, 2]  bg = [3, 4, 5, 6, 7, 8, 9]  NA            10000           8563           85.63   69.25    16.38     4         10.37               7217\n",
      "7        fg = [0, 1, 2]  bg = [3, 4, 5, 6, 7, 8, 9]  NA            10000           6531           65.31   46.53    18.78    26.95       7.74               5554\n",
      "8        fg = [0, 1, 2]  bg = [3, 4, 5, 6, 7, 8, 9]  NA            10000           6516           65.16   45.82    19.34    24.92       9.92               5322\n",
      "9        fg = [0, 1, 2]  bg = [3, 4, 5, 6, 7, 8, 9]  NA            10000           8430           84.3    69.36    14.94     4.02      11.68               7458\n",
      "10       fg = [0, 1, 2]  bg = [3, 4, 5, 6, 7, 8, 9]  NA            10000           8459           84.59   67.29    17.3      4.18      11.23               6914\n",
      "Avg                                                                                               99.105  79.7927  19.3123   0.193333   0.701667          21236.4\n",
      " \n",
      "================================================================================================================================================================\n"
     ]
    }
   ],
   "source": [
    "test_table3 = add_average_entry(test_table3)"
   ]
  },
  {
   "cell_type": "code",
   "execution_count": null,
   "metadata": {},
   "outputs": [],
   "source": [
    "1        fg = [0, 1, 2]  bg = [3, 4, 5, 6, 7, 8, 9]  NA            10000           7188           71.88   49.95    21.93    11.76      16.36               4188\n",
    "2        fg = [0, 1, 2]  bg = [3, 4, 5, 6, 7, 8, 9]  NA            10000           3419           34.19    7.92    26.27     9.74      56.07                 47\n",
    "3        fg = [0, 1, 2]  bg = [3, 4, 5, 6, 7, 8, 9]  NA            10000           3367           33.67    5.96    27.71    11.48      54.85                 69\n",
    "4        fg = [0, 1, 2]  bg = [3, 4, 5, 6, 7, 8, 9]  NA            10000           8547           85.47   67.61    17.86     3.35      11.18               6939\n",
    "5        fg = [0, 1, 2]  bg = [3, 4, 5, 6, 7, 8, 9]  NA            10000           8436           84.36   66.48    17.88     3.98      11.66               7351\n",
    "6        fg = [0, 1, 2]  bg = [3, 4, 5, 6, 7, 8, 9]  NA            10000           8563           85.63   69.25    16.38     4         10.37               7217\n",
    "7        fg = [0, 1, 2]  bg = [3, 4, 5, 6, 7, 8, 9]  NA            10000           6531           65.31   46.53    18.78    26.95       7.74               5554\n",
    "8        fg = [0, 1, 2]  bg = [3, 4, 5, 6, 7, 8, 9]  NA            10000           6516           65.16   45.82    19.34    24.92       9.92               5322\n",
    "9        fg = [0, 1, 2]  bg = [3, 4, 5, 6, 7, 8, 9]  NA            10000           8430           84.3    69.36    14.94     4.02      11.68               7458\n",
    "10       fg = [0, 1, 2]  bg = [3, 4, 5, 6, 7, 8, 9]  NA            10000           8459           84.59   67.29    17.3      4.18      11.23               6914"
   ]
  },
  {
   "cell_type": "code",
   "execution_count": 11,
   "metadata": {},
   "outputs": [
    {
     "data": {
      "text/plain": [
       "69.45599999999999"
      ]
     },
     "execution_count": 11,
     "metadata": {},
     "output_type": "execute_result"
    }
   ],
   "source": [
    "( 71.88 +\n",
    " 34.19 +\n",
    " 33.67 +\n",
    " 85.47 +\n",
    " 84.36 +\n",
    " 85.63 +\n",
    " 65.31 +\n",
    "65.16  +\n",
    " 84.3  +\n",
    " 84.59 )/10"
   ]
  },
  {
   "cell_type": "code",
   "execution_count": 12,
   "metadata": {},
   "outputs": [
    {
     "data": {
      "text/plain": [
       "49.617000000000004"
      ]
     },
     "execution_count": 12,
     "metadata": {},
     "output_type": "execute_result"
    }
   ],
   "source": [
    "( 49.95 +\n",
    "  7.92 +\n",
    "  5.96 +\n",
    " 67.61 +\n",
    " 66.48 +\n",
    " 69.25 +\n",
    " 46.53 +\n",
    "45.82  +\n",
    " 69.36 +\n",
    " 67.29 )/10"
   ]
  },
  {
   "cell_type": "code",
   "execution_count": 13,
   "metadata": {},
   "outputs": [
    {
     "data": {
      "text/plain": [
       "19.839000000000002"
      ]
     },
     "execution_count": 13,
     "metadata": {},
     "output_type": "execute_result"
    }
   ],
   "source": [
    "( 21.93 +\n",
    " 26.27 +\n",
    " 27.71 +\n",
    " 17.86 +\n",
    " 17.88 +\n",
    " 16.38 +\n",
    " 18.78 +\n",
    "19.34  +\n",
    " 14.94 +\n",
    " 17.3  )/10"
   ]
  },
  {
   "cell_type": "code",
   "execution_count": 14,
   "metadata": {},
   "outputs": [
    {
     "data": {
      "text/plain": [
       "10.437999999999999"
      ]
     },
     "execution_count": 14,
     "metadata": {},
     "output_type": "execute_result"
    }
   ],
   "source": [
    "( 11.76  +\n",
    "  9.74  +\n",
    " 11.48  +\n",
    "  3.35  +\n",
    "  3.98  +\n",
    "  4     +\n",
    " 26.95  +\n",
    "24.92   +\n",
    "  4.02  +\n",
    "  4.18  )/10"
   ]
  },
  {
   "cell_type": "code",
   "execution_count": 15,
   "metadata": {},
   "outputs": [
    {
     "data": {
      "text/plain": [
       "20.106"
      ]
     },
     "execution_count": 15,
     "metadata": {},
     "output_type": "execute_result"
    }
   ],
   "source": [
    "( 16.36  +\n",
    " 56.07  +\n",
    " 54.85  +\n",
    " 11.18  +\n",
    " 11.66  +\n",
    " 10.37  +\n",
    "  7.74  +\n",
    " 9.92   +\n",
    " 11.68  +\n",
    " 11.23  )/10"
   ]
  },
  {
   "cell_type": "code",
   "execution_count": 83,
   "metadata": {
    "colab": {
     "base_uri": "https://localhost:8080/",
     "height": 335
    },
    "id": "BOvl6fUChV5j",
    "outputId": "87bbcf84-b73d-49a9-8900-7ddd70ebfdd6"
   },
   "outputs": [
    {
     "name": "stdout",
     "output_type": "stream",
     "text": [
      " \n",
      "================================================================================================================================================================\n",
      "S.No.    fg_class        bg_class                    Epoch used    total_points    correct      accuracy     FTPT     FFPT       FTPF       FFPF    avg_img > 0.5\n",
      "-------  --------------  --------------------------  ------------  --------------  ---------  ----------  -------  -------  ---------  ---------  ---------------\n",
      "1        fg = [0, 1, 2]  bg = [3, 4, 5, 6, 7, 8, 9]  NA            10000           5800           58      34.07    23.93    11.94      30.06               3877\n",
      "2        fg = [0, 1, 2]  bg = [3, 4, 5, 6, 7, 8, 9]  NA            10000           3374           33.74    7.76    25.98     9.62      56.64                 61\n",
      "3        fg = [0, 1, 2]  bg = [3, 4, 5, 6, 7, 8, 9]  NA            10000           3346           33.46    5.93    27.53    10.8       55.74                 55\n",
      "4        fg = [0, 1, 2]  bg = [3, 4, 5, 6, 7, 8, 9]  NA            10000           6557           65.57   45.2     20.37     9.27      25.16               6478\n",
      "5        fg = [0, 1, 2]  bg = [3, 4, 5, 6, 7, 8, 9]  NA            10000           6353           63.53   43.56    19.97     8.17      28.3                6993\n",
      "6        fg = [0, 1, 2]  bg = [3, 4, 5, 6, 7, 8, 9]  NA            10000           6633           66.33   46.59    19.74     8.6       25.07               6818\n",
      "7        fg = [0, 1, 2]  bg = [3, 4, 5, 6, 7, 8, 9]  NA            10000           5515           55.15   32.36    22.79    22.53      22.32               5049\n",
      "8        fg = [0, 1, 2]  bg = [3, 4, 5, 6, 7, 8, 9]  NA            10000           5404           54.04   31.22    22.82    21.96      24                  4862\n",
      "9        fg = [0, 1, 2]  bg = [3, 4, 5, 6, 7, 8, 9]  NA            10000           6631           66.31   48.17    18.14     8.98      24.71               6989\n",
      "10       fg = [0, 1, 2]  bg = [3, 4, 5, 6, 7, 8, 9]  NA            10000           6600           66      45.49    20.51    10.08      23.92               6732\n",
      "Avg                                                                                               99.105  79.7927  19.3123   0.193333   0.701667          21236.4\n",
      " \n",
      "================================================================================================================================================================\n"
     ]
    }
   ],
   "source": [
    "test_table4 = add_average_entry(test_table4)"
   ]
  },
  {
   "cell_type": "code",
   "execution_count": null,
   "metadata": {},
   "outputs": [],
   "source": [
    "1        fg = [0, 1, 2]  bg = [3, 4, 5, 6, 7, 8, 9]  NA            10000           5800           58      34.07    23.93    11.94      30.06               3877\n",
    "2        fg = [0, 1, 2]  bg = [3, 4, 5, 6, 7, 8, 9]  NA            10000           3374           33.74    7.76    25.98     9.62      56.64                 61\n",
    "3        fg = [0, 1, 2]  bg = [3, 4, 5, 6, 7, 8, 9]  NA            10000           3346           33.46    5.93    27.53    10.8       55.74                 55\n",
    "4        fg = [0, 1, 2]  bg = [3, 4, 5, 6, 7, 8, 9]  NA            10000           6557           65.57   45.2     20.37     9.27      25.16               6478\n",
    "5        fg = [0, 1, 2]  bg = [3, 4, 5, 6, 7, 8, 9]  NA            10000           6353           63.53   43.56    19.97     8.17      28.3                6993\n",
    "6        fg = [0, 1, 2]  bg = [3, 4, 5, 6, 7, 8, 9]  NA            10000           6633           66.33   46.59    19.74     8.6       25.07               6818\n",
    "7        fg = [0, 1, 2]  bg = [3, 4, 5, 6, 7, 8, 9]  NA            10000           5515           55.15   32.36    22.79    22.53      22.32               5049\n",
    "8        fg = [0, 1, 2]  bg = [3, 4, 5, 6, 7, 8, 9]  NA            10000           5404           54.04   31.22    22.82    21.96      24                  4862\n",
    "9        fg = [0, 1, 2]  bg = [3, 4, 5, 6, 7, 8, 9]  NA            10000           6631           66.31   48.17    18.14     8.98      24.71               6989\n",
    "10       fg = [0, 1, 2]  bg = [3, 4, 5, 6, 7, 8, 9]  NA            10000           6600           66      45.49    20.51    10.08      23.92               6732"
   ]
  },
  {
   "cell_type": "code",
   "execution_count": 16,
   "metadata": {},
   "outputs": [
    {
     "data": {
      "text/plain": [
       "56.213"
      ]
     },
     "execution_count": 16,
     "metadata": {},
     "output_type": "execute_result"
    }
   ],
   "source": [
    "( 58    +\n",
    " 33.74 +\n",
    " 33.46 +\n",
    " 65.57 +\n",
    " 63.53 +\n",
    " 66.33 +\n",
    " 55.15 +\n",
    "54.04  +\n",
    " 66.31 +\n",
    " 66    )/10"
   ]
  },
  {
   "cell_type": "code",
   "execution_count": 17,
   "metadata": {},
   "outputs": [
    {
     "data": {
      "text/plain": [
       "34.035000000000004"
      ]
     },
     "execution_count": 17,
     "metadata": {},
     "output_type": "execute_result"
    }
   ],
   "source": [
    "( 34.07 +\n",
    "  7.76 +\n",
    "  5.93 +\n",
    " 45.2  +\n",
    " 43.56 +\n",
    " 46.59 +\n",
    " 32.36 +\n",
    "31.22  +\n",
    " 48.17 +\n",
    " 45.49 )/10"
   ]
  },
  {
   "cell_type": "code",
   "execution_count": 18,
   "metadata": {},
   "outputs": [
    {
     "data": {
      "text/plain": [
       "22.177999999999997"
      ]
     },
     "execution_count": 18,
     "metadata": {},
     "output_type": "execute_result"
    }
   ],
   "source": [
    "( 23.93 +\n",
    " 25.98 +\n",
    " 27.53 +\n",
    " 20.37 +\n",
    " 19.97 +\n",
    " 19.74 +\n",
    " 22.79 +\n",
    "22.82  +\n",
    " 18.14 +\n",
    " 20.51 )/10"
   ]
  },
  {
   "cell_type": "code",
   "execution_count": 19,
   "metadata": {},
   "outputs": [
    {
     "data": {
      "text/plain": [
       "12.195000000000002"
      ]
     },
     "execution_count": 19,
     "metadata": {},
     "output_type": "execute_result"
    }
   ],
   "source": [
    "( 11.94 +\n",
    "  9.62 +\n",
    " 10.8  +\n",
    "  9.27 +\n",
    "  8.17 +\n",
    "  8.6  +\n",
    " 22.53 +\n",
    "21.96  +\n",
    "  8.98 +\n",
    " 10.08 )/10"
   ]
  },
  {
   "cell_type": "code",
   "execution_count": 20,
   "metadata": {},
   "outputs": [
    {
     "data": {
      "text/plain": [
       "31.591999999999995"
      ]
     },
     "execution_count": 20,
     "metadata": {},
     "output_type": "execute_result"
    }
   ],
   "source": [
    "( 30.06  +\n",
    " 56.64  +\n",
    " 55.74  +\n",
    " 25.16  +\n",
    " 28.3   +\n",
    " 25.07  +\n",
    " 22.32  +\n",
    "24      +\n",
    " 24.71  +\n",
    " 23.92  )/10"
   ]
  },
  {
   "cell_type": "code",
   "execution_count": null,
   "metadata": {},
   "outputs": [],
   "source": []
  },
  {
   "cell_type": "code",
   "execution_count": 84,
   "metadata": {
    "id": "nkyMi1VBpq9a"
   },
   "outputs": [],
   "source": [
    "# torch.save(fore_net.state_dict(),\"/content/drive/My Drive/Research/mosaic_from_CIFAR_involving_bottop_eigen_vectors/fore_net_epoch\"+str(epoch)+\"_fg_used\"+str(fg_used)+\".pt\")"
   ]
  }
 ],
 "metadata": {
  "accelerator": "GPU",
  "colab": {
   "collapsed_sections": [],
   "machine_shape": "hm",
   "name": "fg_012_multiple_runs_gamma_0_002.ipynb",
   "provenance": []
  },
  "kernelspec": {
   "display_name": "Python 3",
   "language": "python",
   "name": "python3"
  },
  "language_info": {
   "codemirror_mode": {
    "name": "ipython",
    "version": 3
   },
   "file_extension": ".py",
   "mimetype": "text/x-python",
   "name": "python",
   "nbconvert_exporter": "python",
   "pygments_lexer": "ipython3",
   "version": "3.6.5"
  },
  "widgets": {
   "application/vnd.jupyter.widget-state+json": {
    "6dace9512a664ba9b5692262f8c139c3": {
     "model_module": "@jupyter-widgets/controls",
     "model_name": "HBoxModel",
     "state": {
      "_dom_classes": [],
      "_model_module": "@jupyter-widgets/controls",
      "_model_module_version": "1.5.0",
      "_model_name": "HBoxModel",
      "_view_count": null,
      "_view_module": "@jupyter-widgets/controls",
      "_view_module_version": "1.5.0",
      "_view_name": "HBoxView",
      "box_style": "",
      "children": [
       "IPY_MODEL_96b8955838d649e69591986dd900fba1",
       "IPY_MODEL_dd8656c13a044692b754729470662ac9"
      ],
      "layout": "IPY_MODEL_742171742b79499abc930cb0b389165b"
     }
    },
    "742171742b79499abc930cb0b389165b": {
     "model_module": "@jupyter-widgets/base",
     "model_name": "LayoutModel",
     "state": {
      "_model_module": "@jupyter-widgets/base",
      "_model_module_version": "1.2.0",
      "_model_name": "LayoutModel",
      "_view_count": null,
      "_view_module": "@jupyter-widgets/base",
      "_view_module_version": "1.2.0",
      "_view_name": "LayoutView",
      "align_content": null,
      "align_items": null,
      "align_self": null,
      "border": null,
      "bottom": null,
      "display": null,
      "flex": null,
      "flex_flow": null,
      "grid_area": null,
      "grid_auto_columns": null,
      "grid_auto_flow": null,
      "grid_auto_rows": null,
      "grid_column": null,
      "grid_gap": null,
      "grid_row": null,
      "grid_template_areas": null,
      "grid_template_columns": null,
      "grid_template_rows": null,
      "height": null,
      "justify_content": null,
      "justify_items": null,
      "left": null,
      "margin": null,
      "max_height": null,
      "max_width": null,
      "min_height": null,
      "min_width": null,
      "object_fit": null,
      "object_position": null,
      "order": null,
      "overflow": null,
      "overflow_x": null,
      "overflow_y": null,
      "padding": null,
      "right": null,
      "top": null,
      "visibility": null,
      "width": null
     }
    },
    "74cb847c3f994b5b98737ce081f9d6b3": {
     "model_module": "@jupyter-widgets/controls",
     "model_name": "DescriptionStyleModel",
     "state": {
      "_model_module": "@jupyter-widgets/controls",
      "_model_module_version": "1.5.0",
      "_model_name": "DescriptionStyleModel",
      "_view_count": null,
      "_view_module": "@jupyter-widgets/base",
      "_view_module_version": "1.2.0",
      "_view_name": "StyleView",
      "description_width": ""
     }
    },
    "8af04b29b21a458f903b7c2b3f67f46b": {
     "model_module": "@jupyter-widgets/base",
     "model_name": "LayoutModel",
     "state": {
      "_model_module": "@jupyter-widgets/base",
      "_model_module_version": "1.2.0",
      "_model_name": "LayoutModel",
      "_view_count": null,
      "_view_module": "@jupyter-widgets/base",
      "_view_module_version": "1.2.0",
      "_view_name": "LayoutView",
      "align_content": null,
      "align_items": null,
      "align_self": null,
      "border": null,
      "bottom": null,
      "display": null,
      "flex": null,
      "flex_flow": null,
      "grid_area": null,
      "grid_auto_columns": null,
      "grid_auto_flow": null,
      "grid_auto_rows": null,
      "grid_column": null,
      "grid_gap": null,
      "grid_row": null,
      "grid_template_areas": null,
      "grid_template_columns": null,
      "grid_template_rows": null,
      "height": null,
      "justify_content": null,
      "justify_items": null,
      "left": null,
      "margin": null,
      "max_height": null,
      "max_width": null,
      "min_height": null,
      "min_width": null,
      "object_fit": null,
      "object_position": null,
      "order": null,
      "overflow": null,
      "overflow_x": null,
      "overflow_y": null,
      "padding": null,
      "right": null,
      "top": null,
      "visibility": null,
      "width": null
     }
    },
    "9469f1c86a54451699f023eaaac5a7a3": {
     "model_module": "@jupyter-widgets/base",
     "model_name": "LayoutModel",
     "state": {
      "_model_module": "@jupyter-widgets/base",
      "_model_module_version": "1.2.0",
      "_model_name": "LayoutModel",
      "_view_count": null,
      "_view_module": "@jupyter-widgets/base",
      "_view_module_version": "1.2.0",
      "_view_name": "LayoutView",
      "align_content": null,
      "align_items": null,
      "align_self": null,
      "border": null,
      "bottom": null,
      "display": null,
      "flex": null,
      "flex_flow": null,
      "grid_area": null,
      "grid_auto_columns": null,
      "grid_auto_flow": null,
      "grid_auto_rows": null,
      "grid_column": null,
      "grid_gap": null,
      "grid_row": null,
      "grid_template_areas": null,
      "grid_template_columns": null,
      "grid_template_rows": null,
      "height": null,
      "justify_content": null,
      "justify_items": null,
      "left": null,
      "margin": null,
      "max_height": null,
      "max_width": null,
      "min_height": null,
      "min_width": null,
      "object_fit": null,
      "object_position": null,
      "order": null,
      "overflow": null,
      "overflow_x": null,
      "overflow_y": null,
      "padding": null,
      "right": null,
      "top": null,
      "visibility": null,
      "width": null
     }
    },
    "96b8955838d649e69591986dd900fba1": {
     "model_module": "@jupyter-widgets/controls",
     "model_name": "FloatProgressModel",
     "state": {
      "_dom_classes": [],
      "_model_module": "@jupyter-widgets/controls",
      "_model_module_version": "1.5.0",
      "_model_name": "FloatProgressModel",
      "_view_count": null,
      "_view_module": "@jupyter-widgets/controls",
      "_view_module_version": "1.5.0",
      "_view_name": "ProgressView",
      "bar_style": "success",
      "description": "",
      "description_tooltip": null,
      "layout": "IPY_MODEL_8af04b29b21a458f903b7c2b3f67f46b",
      "max": 1,
      "min": 0,
      "orientation": "horizontal",
      "style": "IPY_MODEL_dc59d58475264f96b686f797e627783c",
      "value": 1
     }
    },
    "dc59d58475264f96b686f797e627783c": {
     "model_module": "@jupyter-widgets/controls",
     "model_name": "ProgressStyleModel",
     "state": {
      "_model_module": "@jupyter-widgets/controls",
      "_model_module_version": "1.5.0",
      "_model_name": "ProgressStyleModel",
      "_view_count": null,
      "_view_module": "@jupyter-widgets/base",
      "_view_module_version": "1.2.0",
      "_view_name": "StyleView",
      "bar_color": null,
      "description_width": "initial"
     }
    },
    "dd8656c13a044692b754729470662ac9": {
     "model_module": "@jupyter-widgets/controls",
     "model_name": "HTMLModel",
     "state": {
      "_dom_classes": [],
      "_model_module": "@jupyter-widgets/controls",
      "_model_module_version": "1.5.0",
      "_model_name": "HTMLModel",
      "_view_count": null,
      "_view_module": "@jupyter-widgets/controls",
      "_view_module_version": "1.5.0",
      "_view_name": "HTMLView",
      "description": "",
      "description_tooltip": null,
      "layout": "IPY_MODEL_9469f1c86a54451699f023eaaac5a7a3",
      "placeholder": "​",
      "style": "IPY_MODEL_74cb847c3f994b5b98737ce081f9d6b3",
      "value": " 170500096/? [00:09&lt;00:00, 17677225.35it/s]"
     }
    }
   }
  }
 },
 "nbformat": 4,
 "nbformat_minor": 1
}
