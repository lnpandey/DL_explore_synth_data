{
  "nbformat": 4,
  "nbformat_minor": 0,
  "metadata": {
    "accelerator": "GPU",
    "colab": {
      "name": "CIFAR_10_class_classification_cnn_3layer.ipynb",
      "provenance": [],
      "collapsed_sections": [],
      "machine_shape": "hm"
    },
    "kernelspec": {
      "display_name": "Python 3",
      "language": "python",
      "name": "python3"
    },
    "language_info": {
      "codemirror_mode": {
        "name": "ipython",
        "version": 3
      },
      "file_extension": ".py",
      "mimetype": "text/x-python",
      "name": "python",
      "nbconvert_exporter": "python",
      "pygments_lexer": "ipython3",
      "version": "3.6.5"
    },
    "widgets": {
      "application/vnd.jupyter.widget-state+json": {
        "04b044c5b2b04fd683518c0feb1066bc": {
          "model_module": "@jupyter-widgets/controls",
          "model_name": "HBoxModel",
          "state": {
            "_view_name": "HBoxView",
            "_dom_classes": [],
            "_model_name": "HBoxModel",
            "_view_module": "@jupyter-widgets/controls",
            "_model_module_version": "1.5.0",
            "_view_count": null,
            "_view_module_version": "1.5.0",
            "box_style": "",
            "layout": "IPY_MODEL_f2aefc0260ca407eb86d168579e89811",
            "_model_module": "@jupyter-widgets/controls",
            "children": [
              "IPY_MODEL_a690efac210841a1b0a49e0ade2ed8b9",
              "IPY_MODEL_2881280369b7497fbb025fc1a5354a4f"
            ]
          }
        },
        "f2aefc0260ca407eb86d168579e89811": {
          "model_module": "@jupyter-widgets/base",
          "model_name": "LayoutModel",
          "state": {
            "_view_name": "LayoutView",
            "grid_template_rows": null,
            "right": null,
            "justify_content": null,
            "_view_module": "@jupyter-widgets/base",
            "overflow": null,
            "_model_module_version": "1.2.0",
            "_view_count": null,
            "flex_flow": null,
            "width": null,
            "min_width": null,
            "border": null,
            "align_items": null,
            "bottom": null,
            "_model_module": "@jupyter-widgets/base",
            "top": null,
            "grid_column": null,
            "overflow_y": null,
            "overflow_x": null,
            "grid_auto_flow": null,
            "grid_area": null,
            "grid_template_columns": null,
            "flex": null,
            "_model_name": "LayoutModel",
            "justify_items": null,
            "grid_row": null,
            "max_height": null,
            "align_content": null,
            "visibility": null,
            "align_self": null,
            "height": null,
            "min_height": null,
            "padding": null,
            "grid_auto_rows": null,
            "grid_gap": null,
            "max_width": null,
            "order": null,
            "_view_module_version": "1.2.0",
            "grid_template_areas": null,
            "object_position": null,
            "object_fit": null,
            "grid_auto_columns": null,
            "margin": null,
            "display": null,
            "left": null
          }
        },
        "a690efac210841a1b0a49e0ade2ed8b9": {
          "model_module": "@jupyter-widgets/controls",
          "model_name": "FloatProgressModel",
          "state": {
            "_view_name": "ProgressView",
            "style": "IPY_MODEL_5ae9a35cae20426a888966125f00b091",
            "_dom_classes": [],
            "description": "",
            "_model_name": "FloatProgressModel",
            "bar_style": "info",
            "max": 1,
            "_view_module": "@jupyter-widgets/controls",
            "_model_module_version": "1.5.0",
            "value": 1,
            "_view_count": null,
            "_view_module_version": "1.5.0",
            "orientation": "horizontal",
            "min": 0,
            "description_tooltip": null,
            "_model_module": "@jupyter-widgets/controls",
            "layout": "IPY_MODEL_092cbfc5ec1f4515941f506d757301ef"
          }
        },
        "2881280369b7497fbb025fc1a5354a4f": {
          "model_module": "@jupyter-widgets/controls",
          "model_name": "HTMLModel",
          "state": {
            "_view_name": "HTMLView",
            "style": "IPY_MODEL_cfa11dead236461fbf18d11d1be99698",
            "_dom_classes": [],
            "description": "",
            "_model_name": "HTMLModel",
            "placeholder": "​",
            "_view_module": "@jupyter-widgets/controls",
            "_model_module_version": "1.5.0",
            "value": " 170500096/? [00:20&lt;00:00, 79353085.94it/s]",
            "_view_count": null,
            "_view_module_version": "1.5.0",
            "description_tooltip": null,
            "_model_module": "@jupyter-widgets/controls",
            "layout": "IPY_MODEL_bd213c85b31f45c08d7e75225abd0f9a"
          }
        },
        "5ae9a35cae20426a888966125f00b091": {
          "model_module": "@jupyter-widgets/controls",
          "model_name": "ProgressStyleModel",
          "state": {
            "_view_name": "StyleView",
            "_model_name": "ProgressStyleModel",
            "description_width": "initial",
            "_view_module": "@jupyter-widgets/base",
            "_model_module_version": "1.5.0",
            "_view_count": null,
            "_view_module_version": "1.2.0",
            "bar_color": null,
            "_model_module": "@jupyter-widgets/controls"
          }
        },
        "092cbfc5ec1f4515941f506d757301ef": {
          "model_module": "@jupyter-widgets/base",
          "model_name": "LayoutModel",
          "state": {
            "_view_name": "LayoutView",
            "grid_template_rows": null,
            "right": null,
            "justify_content": null,
            "_view_module": "@jupyter-widgets/base",
            "overflow": null,
            "_model_module_version": "1.2.0",
            "_view_count": null,
            "flex_flow": null,
            "width": null,
            "min_width": null,
            "border": null,
            "align_items": null,
            "bottom": null,
            "_model_module": "@jupyter-widgets/base",
            "top": null,
            "grid_column": null,
            "overflow_y": null,
            "overflow_x": null,
            "grid_auto_flow": null,
            "grid_area": null,
            "grid_template_columns": null,
            "flex": null,
            "_model_name": "LayoutModel",
            "justify_items": null,
            "grid_row": null,
            "max_height": null,
            "align_content": null,
            "visibility": null,
            "align_self": null,
            "height": null,
            "min_height": null,
            "padding": null,
            "grid_auto_rows": null,
            "grid_gap": null,
            "max_width": null,
            "order": null,
            "_view_module_version": "1.2.0",
            "grid_template_areas": null,
            "object_position": null,
            "object_fit": null,
            "grid_auto_columns": null,
            "margin": null,
            "display": null,
            "left": null
          }
        },
        "cfa11dead236461fbf18d11d1be99698": {
          "model_module": "@jupyter-widgets/controls",
          "model_name": "DescriptionStyleModel",
          "state": {
            "_view_name": "StyleView",
            "_model_name": "DescriptionStyleModel",
            "description_width": "",
            "_view_module": "@jupyter-widgets/base",
            "_model_module_version": "1.5.0",
            "_view_count": null,
            "_view_module_version": "1.2.0",
            "_model_module": "@jupyter-widgets/controls"
          }
        },
        "bd213c85b31f45c08d7e75225abd0f9a": {
          "model_module": "@jupyter-widgets/base",
          "model_name": "LayoutModel",
          "state": {
            "_view_name": "LayoutView",
            "grid_template_rows": null,
            "right": null,
            "justify_content": null,
            "_view_module": "@jupyter-widgets/base",
            "overflow": null,
            "_model_module_version": "1.2.0",
            "_view_count": null,
            "flex_flow": null,
            "width": null,
            "min_width": null,
            "border": null,
            "align_items": null,
            "bottom": null,
            "_model_module": "@jupyter-widgets/base",
            "top": null,
            "grid_column": null,
            "overflow_y": null,
            "overflow_x": null,
            "grid_auto_flow": null,
            "grid_area": null,
            "grid_template_columns": null,
            "flex": null,
            "_model_name": "LayoutModel",
            "justify_items": null,
            "grid_row": null,
            "max_height": null,
            "align_content": null,
            "visibility": null,
            "align_self": null,
            "height": null,
            "min_height": null,
            "padding": null,
            "grid_auto_rows": null,
            "grid_gap": null,
            "max_width": null,
            "order": null,
            "_view_module_version": "1.2.0",
            "grid_template_areas": null,
            "object_position": null,
            "object_fit": null,
            "grid_auto_columns": null,
            "margin": null,
            "display": null,
            "left": null
          }
        }
      }
    }
  },
  "cells": [
    {
      "cell_type": "code",
      "metadata": {
        "colab_type": "code",
        "id": "JSjG64ra4aFu",
        "colab": {
          "base_uri": "https://localhost:8080/",
          "height": 128
        },
        "outputId": "c9a16b7e-fcd4-425c-d078-50c91f7cb347"
      },
      "source": [
        "from google.colab import drive\n",
        "drive.mount('/content/drive')"
      ],
      "execution_count": 46,
      "outputs": [
        {
          "output_type": "stream",
          "text": [
            "Go to this URL in a browser: https://accounts.google.com/o/oauth2/auth?client_id=947318989803-6bn6qk8qdgf4n4g3pfee6491hc0brc4i.apps.googleusercontent.com&redirect_uri=urn%3aietf%3awg%3aoauth%3a2.0%3aoob&scope=email%20https%3a%2f%2fwww.googleapis.com%2fauth%2fdocs.test%20https%3a%2f%2fwww.googleapis.com%2fauth%2fdrive%20https%3a%2f%2fwww.googleapis.com%2fauth%2fdrive.photos.readonly%20https%3a%2f%2fwww.googleapis.com%2fauth%2fpeopleapi.readonly&response_type=code\n",
            "\n",
            "Enter your authorization code:\n",
            "··········\n",
            "Mounted at /content/drive\n"
          ],
          "name": "stdout"
        }
      ]
    },
    {
      "cell_type": "code",
      "metadata": {
        "colab_type": "code",
        "id": "V8-7SARDZErK",
        "colab": {}
      },
      "source": [
        "import torch.nn as nn\n",
        "import torch.nn.functional as F\n",
        "\n",
        "import pandas as pd\n",
        "import numpy as np\n",
        "import matplotlib.pyplot as plt\n",
        "\n",
        "import torch\n",
        "import torchvision\n",
        "import torchvision.transforms as transforms\n",
        "from torch.utils.data import Dataset, DataLoader\n",
        "from torchvision import transforms, utils\n",
        "\n",
        "from matplotlib import pyplot as plt\n",
        "import copy\n",
        "\n",
        "# Ignore warnings\n",
        "import warnings\n",
        "warnings.filterwarnings(\"ignore\")\n"
      ],
      "execution_count": 2,
      "outputs": []
    },
    {
      "cell_type": "code",
      "metadata": {
        "colab_type": "code",
        "id": "acRFqJNrZErV",
        "colab": {
          "base_uri": "https://localhost:8080/",
          "height": 104,
          "referenced_widgets": [
            "04b044c5b2b04fd683518c0feb1066bc",
            "f2aefc0260ca407eb86d168579e89811",
            "a690efac210841a1b0a49e0ade2ed8b9",
            "2881280369b7497fbb025fc1a5354a4f",
            "5ae9a35cae20426a888966125f00b091",
            "092cbfc5ec1f4515941f506d757301ef",
            "cfa11dead236461fbf18d11d1be99698",
            "bd213c85b31f45c08d7e75225abd0f9a"
          ]
        },
        "outputId": "74881693-670d-4955-a576-40945cdcc5cf"
      },
      "source": [
        "transform = transforms.Compose(\n",
        "    [transforms.ToTensor(),\n",
        "     transforms.Normalize((0.5, 0.5, 0.5), (0.5, 0.5, 0.5))])\n",
        "\n",
        "trainset = torchvision.datasets.CIFAR10(root='./data', train=True, download=True, transform=transform)\n",
        "\n",
        "\n",
        "testset = torchvision.datasets.CIFAR10(root='./data', train=False, download=True, transform=transform)\n"
      ],
      "execution_count": 3,
      "outputs": [
        {
          "output_type": "stream",
          "text": [
            "Downloading https://www.cs.toronto.edu/~kriz/cifar-10-python.tar.gz to ./data/cifar-10-python.tar.gz\n"
          ],
          "name": "stdout"
        },
        {
          "output_type": "display_data",
          "data": {
            "application/vnd.jupyter.widget-view+json": {
              "model_id": "04b044c5b2b04fd683518c0feb1066bc",
              "version_minor": 0,
              "version_major": 2
            },
            "text/plain": [
              "HBox(children=(FloatProgress(value=1.0, bar_style='info', max=1.0), HTML(value='')))"
            ]
          },
          "metadata": {
            "tags": []
          }
        },
        {
          "output_type": "stream",
          "text": [
            "Extracting ./data/cifar-10-python.tar.gz to ./data\n",
            "Files already downloaded and verified\n"
          ],
          "name": "stdout"
        }
      ]
    },
    {
      "cell_type": "code",
      "metadata": {
        "id": "gh5DXuAV1tp5",
        "colab_type": "code",
        "colab": {}
      },
      "source": [
        "# trainloader = torch.utils.data.DataLoader(trainset, batch_size=10, shuffle=True)\n",
        "# testloader = torch.utils.data.DataLoader(testset, batch_size=10, shuffle=False)\n",
        "\n",
        "\n",
        "classes = ('plane', 'car', 'bird', 'cat', 'deer', 'dog', 'frog', 'horse', 'ship', 'truck')\n",
        "\n",
        "# foreground_classes = {'plane', 'car', 'bird'}\n",
        "\n",
        "# background_classes = {'cat', 'deer', 'dog', 'frog', 'horse','ship', 'truck'}\n",
        "\n",
        "# fg1,fg2,fg3 = 0,1,2"
      ],
      "execution_count": 4,
      "outputs": []
    },
    {
      "cell_type": "code",
      "metadata": {
        "id": "EQOH55xR6INA",
        "colab_type": "code",
        "colab": {}
      },
      "source": [
        "trainloader = torch.utils.data.DataLoader(trainset, batch_size=256,shuffle=True)\n",
        "testloader = torch.utils.data.DataLoader(testset, batch_size=256,shuffle=False)"
      ],
      "execution_count": 5,
      "outputs": []
    },
    {
      "cell_type": "code",
      "metadata": {
        "colab_type": "code",
        "id": "SadRzWBBZEsP",
        "colab": {}
      },
      "source": [
        "import torch.nn as nn\n",
        "import torch.nn.functional as F\n",
        "\n",
        "class CNN(nn.Module):\n",
        "  def __init__(self):\n",
        "    super(CNN, self).__init__()\n",
        "    self.conv1 = nn.Conv2d(in_channels=3, out_channels=32, kernel_size=3, padding=0)\n",
        "    self.pool = nn.MaxPool2d(2, 2)\n",
        "    self.conv2 = nn.Conv2d(in_channels=32, out_channels=64, kernel_size=3, padding=0)\n",
        "    self.conv3 = nn.Conv2d(in_channels=64, out_channels=64, kernel_size=3, padding=0)\n",
        "    self.fc1 = nn.Linear(1024, 512)\n",
        "    self.fc2 = nn.Linear(512, 64)\n",
        "    self.fc3 = nn.Linear(64, 10)\n",
        "    # self.fc4 = nn.Linear(40,10)\n",
        "    # self.fc5 = nn.Linear(10,2)\n",
        "\n",
        "  def forward(self, x):\n",
        "    x = self.pool(F.relu(self.conv1(x)))\n",
        "    x = self.pool(F.relu(self.conv2(x)))\n",
        "    # print(x.shape)\n",
        "    x = (F.relu(self.conv3(x)))\n",
        "    x =  x.view(x.size(0), -1)\n",
        "    # print(x.shape)\n",
        "    x = F.relu(self.fc1(x))\n",
        "    x = F.relu(self.fc2(x))\n",
        "    x = (self.fc3(x))\n",
        "    # x = F.relu(self.fc4(x))\n",
        "    # x = self.fc4(x)\n",
        "    return x"
      ],
      "execution_count": 38,
      "outputs": []
    },
    {
      "cell_type": "code",
      "metadata": {
        "id": "1GvXR1zV5n4w",
        "colab_type": "code",
        "colab": {}
      },
      "source": [
        "cnn_net = CNN()#.double()\n",
        "cnn_net = cnn_net.to(\"cuda\")"
      ],
      "execution_count": 39,
      "outputs": []
    },
    {
      "cell_type": "code",
      "metadata": {
        "id": "n5g3geNJ5zEu",
        "colab_type": "code",
        "colab": {}
      },
      "source": [
        "import torch.optim as optim\n",
        "criterion_cnn = nn.CrossEntropyLoss()\n",
        "optimizer_cnn = optim.SGD(cnn_net.parameters(), lr=0.01, momentum=0.9)"
      ],
      "execution_count": 40,
      "outputs": []
    },
    {
      "cell_type": "code",
      "metadata": {
        "colab_type": "code",
        "id": "tFfAJZkcZEsY",
        "colab": {
          "base_uri": "https://localhost:8080/",
          "height": 1000
        },
        "outputId": "ea0b2e69-1223-4242-8565-0ba4c430cd95"
      },
      "source": [
        "acti = []\n",
        "loss_curi = []\n",
        "epochs = 300\n",
        "for epoch in range(epochs): # loop over the dataset multiple times\n",
        "    ep_lossi = []\n",
        "\n",
        "    running_loss = 0.0\n",
        "    for i, data in enumerate(trainloader, 0):\n",
        "        # get the inputs\n",
        "        inputs, labels = data\n",
        "        inputs, labels = inputs.to(\"cuda\"),labels.to(\"cuda\")\n",
        "\n",
        "        # zero the parameter gradients\n",
        "        optimizer_cnn.zero_grad()\n",
        "\n",
        "        # forward + backward + optimize\n",
        "        outputs = cnn_net(inputs)\n",
        "        loss = criterion_cnn(outputs, labels)\n",
        "        loss.backward()\n",
        "        optimizer_cnn.step()\n",
        "\n",
        "        # print statistics\n",
        "        running_loss += loss.item()\n",
        "        mini_batch = 50\n",
        "        if i % mini_batch == mini_batch-1:    # print every 50 mini-batches\n",
        "            print('[%d, %5d] loss: %.3f' %(epoch + 1, i + 1, running_loss / mini_batch))\n",
        "            ep_lossi.append(running_loss/mini_batch) # loss per minibatch\n",
        "            running_loss = 0.0\n",
        "            \n",
        "    if(np.mean(ep_lossi) <= 0.01):\n",
        "      break;\n",
        "    loss_curi.append(np.mean(ep_lossi))   #loss per epoch            \n",
        "\n",
        "print('Finished Training')"
      ],
      "execution_count": 41,
      "outputs": [
        {
          "output_type": "stream",
          "text": [
            "[1,    50] loss: 2.303\n",
            "[1,   100] loss: 2.299\n",
            "[1,   150] loss: 2.289\n",
            "[2,    50] loss: 2.076\n",
            "[2,   100] loss: 1.912\n",
            "[2,   150] loss: 1.806\n",
            "[3,    50] loss: 1.654\n",
            "[3,   100] loss: 1.639\n",
            "[3,   150] loss: 1.571\n",
            "[4,    50] loss: 1.508\n",
            "[4,   100] loss: 1.452\n",
            "[4,   150] loss: 1.419\n",
            "[5,    50] loss: 1.355\n",
            "[5,   100] loss: 1.318\n",
            "[5,   150] loss: 1.295\n",
            "[6,    50] loss: 1.245\n",
            "[6,   100] loss: 1.230\n",
            "[6,   150] loss: 1.190\n",
            "[7,    50] loss: 1.153\n",
            "[7,   100] loss: 1.118\n",
            "[7,   150] loss: 1.096\n",
            "[8,    50] loss: 1.068\n",
            "[8,   100] loss: 1.039\n",
            "[8,   150] loss: 1.028\n",
            "[9,    50] loss: 0.970\n",
            "[9,   100] loss: 0.954\n",
            "[9,   150] loss: 0.951\n",
            "[10,    50] loss: 0.912\n",
            "[10,   100] loss: 0.887\n",
            "[10,   150] loss: 0.875\n",
            "[11,    50] loss: 0.846\n",
            "[11,   100] loss: 0.817\n",
            "[11,   150] loss: 0.822\n",
            "[12,    50] loss: 0.775\n",
            "[12,   100] loss: 0.754\n",
            "[12,   150] loss: 0.770\n",
            "[13,    50] loss: 0.704\n",
            "[13,   100] loss: 0.713\n",
            "[13,   150] loss: 0.708\n",
            "[14,    50] loss: 0.671\n",
            "[14,   100] loss: 0.662\n",
            "[14,   150] loss: 0.653\n",
            "[15,    50] loss: 0.586\n",
            "[15,   100] loss: 0.604\n",
            "[15,   150] loss: 0.621\n",
            "[16,    50] loss: 0.556\n",
            "[16,   100] loss: 0.552\n",
            "[16,   150] loss: 0.564\n",
            "[17,    50] loss: 0.509\n",
            "[17,   100] loss: 0.512\n",
            "[17,   150] loss: 0.518\n",
            "[18,    50] loss: 0.465\n",
            "[18,   100] loss: 0.478\n",
            "[18,   150] loss: 0.470\n",
            "[19,    50] loss: 0.416\n",
            "[19,   100] loss: 0.408\n",
            "[19,   150] loss: 0.427\n",
            "[20,    50] loss: 0.358\n",
            "[20,   100] loss: 0.377\n",
            "[20,   150] loss: 0.394\n",
            "[21,    50] loss: 0.324\n",
            "[21,   100] loss: 0.334\n",
            "[21,   150] loss: 0.352\n",
            "[22,    50] loss: 0.290\n",
            "[22,   100] loss: 0.282\n",
            "[22,   150] loss: 0.293\n",
            "[23,    50] loss: 0.219\n",
            "[23,   100] loss: 0.232\n",
            "[23,   150] loss: 0.255\n",
            "[24,    50] loss: 0.187\n",
            "[24,   100] loss: 0.202\n",
            "[24,   150] loss: 0.243\n",
            "[25,    50] loss: 0.166\n",
            "[25,   100] loss: 0.182\n",
            "[25,   150] loss: 0.195\n",
            "[26,    50] loss: 0.141\n",
            "[26,   100] loss: 0.143\n",
            "[26,   150] loss: 0.153\n",
            "[27,    50] loss: 0.112\n",
            "[27,   100] loss: 0.128\n",
            "[27,   150] loss: 0.133\n",
            "[28,    50] loss: 0.106\n",
            "[28,   100] loss: 0.091\n",
            "[28,   150] loss: 0.098\n",
            "[29,    50] loss: 0.091\n",
            "[29,   100] loss: 0.077\n",
            "[29,   150] loss: 0.089\n",
            "[30,    50] loss: 0.064\n",
            "[30,   100] loss: 0.071\n",
            "[30,   150] loss: 0.072\n",
            "[31,    50] loss: 0.072\n",
            "[31,   100] loss: 0.052\n",
            "[31,   150] loss: 0.063\n",
            "[32,    50] loss: 0.092\n",
            "[32,   100] loss: 0.070\n",
            "[32,   150] loss: 0.074\n",
            "[33,    50] loss: 0.077\n",
            "[33,   100] loss: 0.066\n",
            "[33,   150] loss: 0.078\n",
            "[34,    50] loss: 0.047\n",
            "[34,   100] loss: 0.046\n",
            "[34,   150] loss: 0.051\n",
            "[35,    50] loss: 0.036\n",
            "[35,   100] loss: 0.024\n",
            "[35,   150] loss: 0.026\n",
            "[36,    50] loss: 0.026\n",
            "[36,   100] loss: 0.019\n",
            "[36,   150] loss: 0.018\n",
            "[37,    50] loss: 0.028\n",
            "[37,   100] loss: 0.030\n",
            "[37,   150] loss: 0.028\n",
            "[38,    50] loss: 0.022\n",
            "[38,   100] loss: 0.026\n",
            "[38,   150] loss: 0.027\n",
            "[39,    50] loss: 0.044\n",
            "[39,   100] loss: 0.047\n",
            "[39,   150] loss: 0.051\n",
            "[40,    50] loss: 0.045\n",
            "[40,   100] loss: 0.041\n",
            "[40,   150] loss: 0.034\n",
            "[41,    50] loss: 0.032\n",
            "[41,   100] loss: 0.028\n",
            "[41,   150] loss: 0.035\n",
            "[42,    50] loss: 0.041\n",
            "[42,   100] loss: 0.053\n",
            "[42,   150] loss: 0.044\n",
            "[43,    50] loss: 0.053\n",
            "[43,   100] loss: 0.039\n",
            "[43,   150] loss: 0.035\n",
            "[44,    50] loss: 0.024\n",
            "[44,   100] loss: 0.019\n",
            "[44,   150] loss: 0.022\n",
            "[45,    50] loss: 0.020\n",
            "[45,   100] loss: 0.020\n",
            "[45,   150] loss: 0.019\n",
            "[46,    50] loss: 0.011\n",
            "[46,   100] loss: 0.011\n",
            "[46,   150] loss: 0.009\n",
            "[47,    50] loss: 0.011\n",
            "[47,   100] loss: 0.006\n",
            "[47,   150] loss: 0.003\n",
            "Finished Training\n"
          ],
          "name": "stdout"
        }
      ]
    },
    {
      "cell_type": "code",
      "metadata": {
        "id": "WIAJ3UZN8rPE",
        "colab_type": "code",
        "colab": {}
      },
      "source": [
        "torch.save(cnn_net.state_dict(),\"/content/drive/My Drive/Research/Cheating_data/CIFAR10_class_classify/weights/\"+\"cnn_3layer\"+\".pt\")"
      ],
      "execution_count": 47,
      "outputs": []
    },
    {
      "cell_type": "code",
      "metadata": {
        "id": "an7qmNLB-Ilb",
        "colab_type": "code",
        "colab": {
          "base_uri": "https://localhost:8080/",
          "height": 53
        },
        "outputId": "d5afc214-51e7-4742-e962-a81bad4397fb"
      },
      "source": [
        "correct = 0\n",
        "total = 0\n",
        "with torch.no_grad():\n",
        "    for data in trainloader:\n",
        "        images, labels = data\n",
        "        images, labels = images.to(\"cuda\"), labels.to(\"cuda\")\n",
        "        outputs = cnn_net(images)\n",
        "        _, predicted = torch.max(outputs.data, 1)\n",
        "        total += labels.size(0)\n",
        "        correct += (predicted == labels).sum().item()\n",
        "\n",
        "print('Accuracy of the network on the %d train images: %d %%' % (total,  100 * correct / total))\n",
        "print(total,correct)"
      ],
      "execution_count": 42,
      "outputs": [
        {
          "output_type": "stream",
          "text": [
            "Accuracy of the network on the 50000 train images: 99 %\n",
            "50000 49995\n"
          ],
          "name": "stdout"
        }
      ]
    },
    {
      "cell_type": "code",
      "metadata": {
        "id": "3WqTm-aW-TGU",
        "colab_type": "code",
        "colab": {
          "base_uri": "https://localhost:8080/",
          "height": 53
        },
        "outputId": "2ad82f3a-4d37-4143-badf-d096e8bdda1c"
      },
      "source": [
        "correct = 0\n",
        "total = 0\n",
        "out = []\n",
        "pred = []\n",
        "with torch.no_grad():\n",
        "    for data in testloader:\n",
        "        images, labels = data\n",
        "        images, labels = images.to(\"cuda\"),labels.to(\"cuda\")\n",
        "        out.append(labels.cpu().numpy())\n",
        "        outputs= cnn_net(images)\n",
        "        _, predicted = torch.max(outputs.data, 1)\n",
        "        pred.append(predicted.cpu().numpy())\n",
        "        total += labels.size(0)\n",
        "        correct += (predicted == labels).sum().item()\n",
        "\n",
        "print('Accuracy of the network on the 10000 test images: %d %%' % ( 100 * correct / total))\n",
        "print(total,correct)"
      ],
      "execution_count": 43,
      "outputs": [
        {
          "output_type": "stream",
          "text": [
            "Accuracy of the network on the 10000 test images: 74 %\n",
            "10000 7482\n"
          ],
          "name": "stdout"
        }
      ]
    },
    {
      "cell_type": "code",
      "metadata": {
        "id": "oQ1yPyXRBNT4",
        "colab_type": "code",
        "colab": {
          "base_uri": "https://localhost:8080/",
          "height": 199
        },
        "outputId": "1c4f3a94-ae97-4c0f-995a-f6d4a69dd58b"
      },
      "source": [
        "class_correct = list(0. for i in range(10))\n",
        "class_total = list(0. for i in range(10))\n",
        "with torch.no_grad():\n",
        "    for data in testloader:\n",
        "        images, labels = data\n",
        "        images, labels = images.to(\"cuda\"),labels.to(\"cuda\")\n",
        "        outputs = cnn_net(images)\n",
        "        _, predicted = torch.max(outputs, 1)\n",
        "        c = (predicted == labels).squeeze()\n",
        "        for i in range(4):\n",
        "            label = labels[i]\n",
        "            class_correct[label] += c[i].item()\n",
        "            class_total[label] += 1\n",
        "\n",
        "\n",
        "for i in range(10):\n",
        "    print('Accuracy of %5s : %2d %%' % (\n",
        "        classes[i], 100 * class_correct[i] / class_total[i]))"
      ],
      "execution_count": 44,
      "outputs": [
        {
          "output_type": "stream",
          "text": [
            "Accuracy of plane : 68 %\n",
            "Accuracy of   car : 84 %\n",
            "Accuracy of  bird : 84 %\n",
            "Accuracy of   cat : 54 %\n",
            "Accuracy of  deer : 53 %\n",
            "Accuracy of   dog : 53 %\n",
            "Accuracy of  frog : 72 %\n",
            "Accuracy of horse : 83 %\n",
            "Accuracy of  ship : 76 %\n",
            "Accuracy of truck : 76 %\n"
          ],
          "name": "stdout"
        }
      ]
    },
    {
      "cell_type": "code",
      "metadata": {
        "id": "bzU_HuQnEB29",
        "colab_type": "code",
        "colab": {}
      },
      "source": [
        ""
      ],
      "execution_count": null,
      "outputs": []
    }
  ]
}