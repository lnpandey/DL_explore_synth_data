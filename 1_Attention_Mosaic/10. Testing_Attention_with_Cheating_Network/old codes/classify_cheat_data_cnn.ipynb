{
  "nbformat": 4,
  "nbformat_minor": 0,
  "metadata": {
    "accelerator": "GPU",
    "colab": {
      "name": "classify_cheat_data_cnn.ipynb",
      "provenance": [],
      "collapsed_sections": [],
      "machine_shape": "hm"
    },
    "kernelspec": {
      "display_name": "Python 3",
      "language": "python",
      "name": "python3"
    },
    "language_info": {
      "codemirror_mode": {
        "name": "ipython",
        "version": 3
      },
      "file_extension": ".py",
      "mimetype": "text/x-python",
      "name": "python",
      "nbconvert_exporter": "python",
      "pygments_lexer": "ipython3",
      "version": "3.6.5"
    }
  },
  "cells": [
    {
      "cell_type": "code",
      "metadata": {
        "colab_type": "code",
        "id": "JSjG64ra4aFu",
        "colab": {
          "base_uri": "https://localhost:8080/",
          "height": 128
        },
        "outputId": "b54a2b37-4cf9-4b86-a245-73a1f131aa89"
      },
      "source": [
        "from google.colab import drive\n",
        "drive.mount('/content/drive')"
      ],
      "execution_count": 1,
      "outputs": [
        {
          "output_type": "stream",
          "text": [
            "Go to this URL in a browser: https://accounts.google.com/o/oauth2/auth?client_id=947318989803-6bn6qk8qdgf4n4g3pfee6491hc0brc4i.apps.googleusercontent.com&redirect_uri=urn%3aietf%3awg%3aoauth%3a2.0%3aoob&response_type=code&scope=email%20https%3a%2f%2fwww.googleapis.com%2fauth%2fdocs.test%20https%3a%2f%2fwww.googleapis.com%2fauth%2fdrive%20https%3a%2f%2fwww.googleapis.com%2fauth%2fdrive.photos.readonly%20https%3a%2f%2fwww.googleapis.com%2fauth%2fpeopleapi.readonly\n",
            "\n",
            "Enter your authorization code:\n",
            "··········\n",
            "Mounted at /content/drive\n"
          ],
          "name": "stdout"
        }
      ]
    },
    {
      "cell_type": "code",
      "metadata": {
        "colab_type": "code",
        "id": "V8-7SARDZErK",
        "colab": {}
      },
      "source": [
        "import torch.nn as nn\n",
        "import torch.nn.functional as F\n",
        "\n",
        "import pandas as pd\n",
        "import numpy as np\n",
        "import matplotlib.pyplot as plt\n",
        "\n",
        "import torch\n",
        "import torchvision\n",
        "import torchvision.transforms as transforms\n",
        "from torch.utils.data import Dataset, DataLoader\n",
        "from torchvision import transforms, utils\n",
        "\n",
        "from matplotlib import pyplot as plt\n",
        "\n",
        "import copy\n",
        "\n",
        "# Ignore warnings\n",
        "import warnings\n",
        "warnings.filterwarnings(\"ignore\")\n"
      ],
      "execution_count": 2,
      "outputs": []
    },
    {
      "cell_type": "code",
      "metadata": {
        "colab_type": "code",
        "id": "acRFqJNrZErV",
        "colab": {
          "base_uri": "https://localhost:8080/",
          "height": 53
        },
        "outputId": "210ac226-2e41-44fc-ad2e-542f4faab01c"
      },
      "source": [
        "transform = transforms.Compose(\n",
        "    [transforms.ToTensor(),\n",
        "     transforms.Normalize((0.5, 0.5, 0.5), (0.5, 0.5, 0.5))])\n",
        "\n",
        "trainset = torchvision.datasets.CIFAR10(root='./data', train=True, download=True, transform=transform)\n",
        "\n",
        "\n",
        "testset = torchvision.datasets.CIFAR10(root='./data', train=False, download=True, transform=transform)\n"
      ],
      "execution_count": 10,
      "outputs": [
        {
          "output_type": "stream",
          "text": [
            "Files already downloaded and verified\n",
            "Files already downloaded and verified\n"
          ],
          "name": "stdout"
        }
      ]
    },
    {
      "cell_type": "code",
      "metadata": {
        "id": "Ip_hgswQOHeX",
        "colab_type": "code",
        "colab": {
          "base_uri": "https://localhost:8080/",
          "height": 35
        },
        "outputId": "be8bb445-5c8f-4c8f-c286-224b445a9d3e"
      },
      "source": [
        "type(trainset.targets)\n",
        "type(trainset.data)"
      ],
      "execution_count": 11,
      "outputs": [
        {
          "output_type": "execute_result",
          "data": {
            "text/plain": [
              "numpy.ndarray"
            ]
          },
          "metadata": {
            "tags": []
          },
          "execution_count": 11
        }
      ]
    },
    {
      "cell_type": "code",
      "metadata": {
        "id": "gh5DXuAV1tp5",
        "colab_type": "code",
        "colab": {}
      },
      "source": [
        "# trainloader = torch.utils.data.DataLoader(trainset, batch_size=10, shuffle=True)\n",
        "# testloader = torch.utils.data.DataLoader(testset, batch_size=10, shuffle=False)\n",
        "\n",
        "\n",
        "classes = ('plane', 'car', 'bird', 'cat', 'deer', 'dog', 'frog', 'horse', 'ship', 'truck')\n",
        "\n",
        "foreground_classes = {'plane', 'car', 'bird'}\n",
        "\n",
        "background_classes = {'cat', 'deer', 'dog', 'frog', 'horse','ship', 'truck'}\n",
        "\n",
        "fg1,fg2,fg3 = 0,1,2"
      ],
      "execution_count": 12,
      "outputs": []
    },
    {
      "cell_type": "code",
      "metadata": {
        "colab_type": "code",
        "id": "V_JUhwCeZErk",
        "colab": {
          "base_uri": "https://localhost:8080/",
          "height": 35
        },
        "outputId": "cb220e03-c8ba-4d4d-d4a2-37180e1dfdc4"
      },
      "source": [
        "is_fg = [np.where(np.array(trainset.targets)==fg1)[0] , np.where(np.array(trainset.targets)==fg2)[0], np.where(np.array(trainset.targets)==fg3)[0]  ]\n",
        "# print(is_fg)\n",
        "is_fg = np.concatenate(is_fg,axis=0)\n",
        "print(is_fg, (is_fg).shape)"
      ],
      "execution_count": 13,
      "outputs": [
        {
          "output_type": "stream",
          "text": [
            "[   29    30    35 ... 49987 49991 49995] (15000,)\n"
          ],
          "name": "stdout"
        }
      ]
    },
    {
      "cell_type": "code",
      "metadata": {
        "id": "GUtkYs9SXKoj",
        "colab_type": "code",
        "colab": {
          "base_uri": "https://localhost:8080/",
          "height": 35
        },
        "outputId": "6e8b94a8-ede9-45ca-b44b-6acc6cce3a1c"
      },
      "source": [
        "trainset.data = trainset.data[is_fg]\n",
        "trainset.data.shape"
      ],
      "execution_count": 14,
      "outputs": [
        {
          "output_type": "execute_result",
          "data": {
            "text/plain": [
              "(15000, 32, 32, 3)"
            ]
          },
          "metadata": {
            "tags": []
          },
          "execution_count": 14
        }
      ]
    },
    {
      "cell_type": "code",
      "metadata": {
        "id": "lWxkp87fNwnM",
        "colab_type": "code",
        "colab": {
          "base_uri": "https://localhost:8080/",
          "height": 35
        },
        "outputId": "7d730627-85e6-4314-e4c0-7176628da972"
      },
      "source": [
        "trainset.targets = np.array(trainset.targets)[is_fg]\n",
        "trainset.targets.shape"
      ],
      "execution_count": 16,
      "outputs": [
        {
          "output_type": "execute_result",
          "data": {
            "text/plain": [
              "(15000,)"
            ]
          },
          "metadata": {
            "tags": []
          },
          "execution_count": 16
        }
      ]
    },
    {
      "cell_type": "code",
      "metadata": {
        "colab_type": "code",
        "id": "ywcNP5ur2Btv",
        "colab": {
          "base_uri": "https://localhost:8080/",
          "height": 35
        },
        "outputId": "f02414a3-c506-402d-9104-e9a95e97ea3c"
      },
      "source": [
        "is_fg = [np.where(np.array(testset.targets)==fg1)[0] , np.where(np.array(testset.targets)==fg2)[0], np.where(np.array(testset.targets)==fg3)[0]  ]\n",
        "# print(is_fg)\n",
        "is_fg = np.concatenate(is_fg,axis=0)\n",
        "print(is_fg, (is_fg).shape)"
      ],
      "execution_count": 17,
      "outputs": [
        {
          "output_type": "stream",
          "text": [
            "[   3   10   21 ... 9970 9982 9989] (3000,)\n"
          ],
          "name": "stdout"
        }
      ]
    },
    {
      "cell_type": "code",
      "metadata": {
        "colab_type": "code",
        "id": "9jv5cZS_2BuK",
        "colab": {
          "base_uri": "https://localhost:8080/",
          "height": 35
        },
        "outputId": "9cd06c8b-42c1-47aa-92b3-a442678b61c1"
      },
      "source": [
        "testset.data = testset.data[is_fg]\n",
        "testset.data.shape"
      ],
      "execution_count": 18,
      "outputs": [
        {
          "output_type": "execute_result",
          "data": {
            "text/plain": [
              "(3000, 32, 32, 3)"
            ]
          },
          "metadata": {
            "tags": []
          },
          "execution_count": 18
        }
      ]
    },
    {
      "cell_type": "code",
      "metadata": {
        "colab_type": "code",
        "id": "Cea4-tjj2BuV",
        "colab": {
          "base_uri": "https://localhost:8080/",
          "height": 35
        },
        "outputId": "dd78ccf2-e1db-49b0-cfdd-0f29dfaf1fb1"
      },
      "source": [
        "testset.targets = np.array(testset.targets)[is_fg]\n",
        "testset.targets.shape"
      ],
      "execution_count": 19,
      "outputs": [
        {
          "output_type": "execute_result",
          "data": {
            "text/plain": [
              "(3000,)"
            ]
          },
          "metadata": {
            "tags": []
          },
          "execution_count": 19
        }
      ]
    },
    {
      "cell_type": "code",
      "metadata": {
        "id": "QvEdoecDYhV5",
        "colab_type": "code",
        "colab": {
          "base_uri": "https://localhost:8080/",
          "height": 35
        },
        "outputId": "84dd8a52-1eb3-4dd8-c429-426ad64382d3"
      },
      "source": [
        "np.unique(np.array(testset.targets)) , np.unique(np.array(trainset.targets))"
      ],
      "execution_count": 23,
      "outputs": [
        {
          "output_type": "execute_result",
          "data": {
            "text/plain": [
              "(array([0, 1, 2]), array([0, 1, 2]))"
            ]
          },
          "metadata": {
            "tags": []
          },
          "execution_count": 23
        }
      ]
    },
    {
      "cell_type": "code",
      "metadata": {
        "id": "EQOH55xR6INA",
        "colab_type": "code",
        "colab": {}
      },
      "source": [
        "trainloader = torch.utils.data.DataLoader(trainset, batch_size=256,shuffle=True)\n",
        "testloader = torch.utils.data.DataLoader(testset, batch_size=256,shuffle=False)"
      ],
      "execution_count": 25,
      "outputs": []
    },
    {
      "cell_type": "code",
      "metadata": {
        "colab_type": "code",
        "id": "SadRzWBBZEsP",
        "colab": {}
      },
      "source": [
        "import torch.nn as nn\n",
        "import torch.nn.functional as F\n",
        "\n",
        "class Classify(nn.Module):\n",
        "  def __init__(self):\n",
        "    super(Classify, self).__init__()\n",
        "    self.conv1 = nn.Conv2d(3, 6, 5)\n",
        "    self.pool = nn.MaxPool2d(2, 2)\n",
        "    self.conv2 = nn.Conv2d(6, 12, 5)\n",
        "    self.conv3 = nn.Conv2d(12,20,5)\n",
        "    self.fc1 = nn.Linear(20 * 6 * 6, 120)\n",
        "    self.fc2 = nn.Linear(120, 80)\n",
        "    self.fc3 = nn.Linear(80, 40)\n",
        "    self.fc4 = nn.Linear(40,10)\n",
        "    self.fc5 = nn.Linear(10,3)\n",
        "\n",
        "  def forward(self, x):\n",
        "    x = self.pool(F.relu(self.conv1(x)))\n",
        "    x = (F.relu(self.conv2(x)))\n",
        "    x = (F.relu(self.conv3(x)))\n",
        "    x = x.view(-1, 20 * 6 * 6)\n",
        "    x = F.relu(self.fc1(x))\n",
        "    x = F.relu(self.fc2(x))\n",
        "    x = F.relu(self.fc3(x))\n",
        "    x = F.relu(self.fc4(x))\n",
        "    x = self.fc5(x)\n",
        "    return x"
      ],
      "execution_count": 28,
      "outputs": []
    },
    {
      "cell_type": "code",
      "metadata": {
        "id": "1GvXR1zV5n4w",
        "colab_type": "code",
        "colab": {}
      },
      "source": [
        "what_net = Classify()#.double()\n",
        "what_net = what_net.to(\"cuda\")"
      ],
      "execution_count": 31,
      "outputs": []
    },
    {
      "cell_type": "code",
      "metadata": {
        "id": "yZob1uGT6fTM",
        "colab_type": "code",
        "colab": {
          "base_uri": "https://localhost:8080/",
          "height": 217
        },
        "outputId": "97f01cb2-d1a5-4c90-ae1b-d393d36cb642"
      },
      "source": [
        "what_net"
      ],
      "execution_count": 32,
      "outputs": [
        {
          "output_type": "execute_result",
          "data": {
            "text/plain": [
              "Classify(\n",
              "  (conv1): Conv2d(3, 6, kernel_size=(5, 5), stride=(1, 1))\n",
              "  (pool): MaxPool2d(kernel_size=2, stride=2, padding=0, dilation=1, ceil_mode=False)\n",
              "  (conv2): Conv2d(6, 12, kernel_size=(5, 5), stride=(1, 1))\n",
              "  (conv3): Conv2d(12, 20, kernel_size=(5, 5), stride=(1, 1))\n",
              "  (fc1): Linear(in_features=720, out_features=120, bias=True)\n",
              "  (fc2): Linear(in_features=120, out_features=80, bias=True)\n",
              "  (fc3): Linear(in_features=80, out_features=40, bias=True)\n",
              "  (fc4): Linear(in_features=40, out_features=10, bias=True)\n",
              "  (fc5): Linear(in_features=10, out_features=3, bias=True)\n",
              ")"
            ]
          },
          "metadata": {
            "tags": []
          },
          "execution_count": 32
        }
      ]
    },
    {
      "cell_type": "code",
      "metadata": {
        "id": "n5g3geNJ5zEu",
        "colab_type": "code",
        "colab": {}
      },
      "source": [
        "import torch.optim as optim\n",
        "criterion_what = nn.CrossEntropyLoss()\n",
        "optimizer_what = optim.SGD(what_net.parameters(), lr=0.01, momentum=0.9)"
      ],
      "execution_count": 34,
      "outputs": []
    },
    {
      "cell_type": "code",
      "metadata": {
        "colab_type": "code",
        "id": "tFfAJZkcZEsY",
        "colab": {
          "base_uri": "https://localhost:8080/",
          "height": 1000
        },
        "outputId": "cbb0eb65-1b51-47fd-94c0-4c84c75e811d"
      },
      "source": [
        "acti = []\n",
        "loss_curi = []\n",
        "epochs = 1000\n",
        "for epoch in range(epochs): # loop over the dataset multiple times\n",
        "    ep_lossi = []\n",
        "\n",
        "    running_loss = 0.0\n",
        "    for i, data in enumerate(trainloader, 0):\n",
        "        # get the inputs\n",
        "        inputs, labels = data\n",
        "        inputs, labels = inputs.to(\"cuda\"),labels.to(\"cuda\")\n",
        "\n",
        "        # zero the parameter gradients\n",
        "        optimizer_what.zero_grad()\n",
        "\n",
        "        # forward + backward + optimize\n",
        "        outputs = what_net(inputs)\n",
        "        loss = criterion_what(outputs, labels)\n",
        "        loss.backward()\n",
        "        optimizer_what.step()\n",
        "\n",
        "        # print statistics\n",
        "        running_loss += loss.item()\n",
        "        mini_batch = 50\n",
        "        if i % mini_batch == mini_batch-1:    # print every 50 mini-batches\n",
        "            print('[%d, %5d] loss: %.3f' %(epoch + 1, i + 1, running_loss / mini_batch))\n",
        "            ep_lossi.append(running_loss/mini_batch) # loss per minibatch\n",
        "            running_loss = 0.0\n",
        "            \n",
        "    if(np.mean(ep_lossi) <= 0.001):\n",
        "      break;\n",
        "    loss_curi.append(np.mean(ep_lossi))   #loss per epoch            \n",
        "\n",
        "print('Finished Training')"
      ],
      "execution_count": 36,
      "outputs": [
        {
          "output_type": "stream",
          "text": [
            "[1,    50] loss: 1.102\n",
            "[2,    50] loss: 1.099\n",
            "[3,    50] loss: 1.099\n",
            "[4,    50] loss: 1.099\n",
            "[5,    50] loss: 1.098\n",
            "[6,    50] loss: 1.098\n",
            "[7,    50] loss: 1.098\n",
            "[8,    50] loss: 1.096\n",
            "[9,    50] loss: 1.091\n",
            "[10,    50] loss: 1.075\n",
            "[11,    50] loss: 1.011\n",
            "[12,    50] loss: 0.918\n",
            "[13,    50] loss: 0.852\n",
            "[14,    50] loss: 0.769\n",
            "[15,    50] loss: 0.641\n",
            "[16,    50] loss: 0.561\n",
            "[17,    50] loss: 0.525\n",
            "[18,    50] loss: 0.489\n",
            "[19,    50] loss: 0.493\n",
            "[20,    50] loss: 0.423\n",
            "[21,    50] loss: 0.430\n",
            "[22,    50] loss: 0.409\n",
            "[23,    50] loss: 0.385\n",
            "[24,    50] loss: 0.367\n",
            "[25,    50] loss: 0.368\n",
            "[26,    50] loss: 0.339\n",
            "[27,    50] loss: 0.329\n",
            "[28,    50] loss: 0.309\n",
            "[29,    50] loss: 0.310\n",
            "[30,    50] loss: 0.297\n",
            "[31,    50] loss: 0.278\n",
            "[32,    50] loss: 0.284\n",
            "[33,    50] loss: 0.265\n",
            "[34,    50] loss: 0.260\n",
            "[35,    50] loss: 0.249\n",
            "[36,    50] loss: 0.240\n",
            "[37,    50] loss: 0.237\n",
            "[38,    50] loss: 0.229\n",
            "[39,    50] loss: 0.209\n",
            "[40,    50] loss: 0.208\n",
            "[41,    50] loss: 0.189\n",
            "[42,    50] loss: 0.177\n",
            "[43,    50] loss: 0.167\n",
            "[44,    50] loss: 0.161\n",
            "[45,    50] loss: 0.157\n",
            "[46,    50] loss: 0.148\n",
            "[47,    50] loss: 0.125\n",
            "[48,    50] loss: 0.127\n",
            "[49,    50] loss: 0.113\n",
            "[50,    50] loss: 0.094\n",
            "[51,    50] loss: 0.096\n",
            "[52,    50] loss: 0.081\n",
            "[53,    50] loss: 0.084\n",
            "[54,    50] loss: 0.074\n",
            "[55,    50] loss: 0.067\n",
            "[56,    50] loss: 0.076\n",
            "[57,    50] loss: 0.062\n",
            "[58,    50] loss: 0.054\n",
            "[59,    50] loss: 0.041\n",
            "[60,    50] loss: 0.058\n",
            "[61,    50] loss: 0.027\n",
            "[62,    50] loss: 0.021\n",
            "[63,    50] loss: 0.019\n",
            "[64,    50] loss: 0.032\n",
            "[65,    50] loss: 0.044\n",
            "[66,    50] loss: 0.057\n",
            "[67,    50] loss: 0.040\n",
            "[68,    50] loss: 0.091\n",
            "[69,    50] loss: 0.053\n",
            "[70,    50] loss: 0.013\n",
            "[71,    50] loss: 0.008\n",
            "[72,    50] loss: 0.006\n",
            "[73,    50] loss: 0.003\n",
            "[74,    50] loss: 0.002\n",
            "[75,    50] loss: 0.001\n",
            "Finished Training\n"
          ],
          "name": "stdout"
        }
      ]
    },
    {
      "cell_type": "code",
      "metadata": {
        "id": "WIAJ3UZN8rPE",
        "colab_type": "code",
        "colab": {}
      },
      "source": [
        "torch.save(what_net.state_dict(),\"/content/drive/My Drive/Research/Cheating_data/Classify_net_weights/classify_net\"+\"cnn\"+\".pt\")"
      ],
      "execution_count": 38,
      "outputs": []
    },
    {
      "cell_type": "code",
      "metadata": {
        "id": "an7qmNLB-Ilb",
        "colab_type": "code",
        "colab": {
          "base_uri": "https://localhost:8080/",
          "height": 53
        },
        "outputId": "0adce3f4-3e67-4679-8a9a-e9a5e1ddbc6b"
      },
      "source": [
        "correct = 0\n",
        "total = 0\n",
        "with torch.no_grad():\n",
        "    for data in trainloader:\n",
        "        images, labels = data\n",
        "        images, labels = images.to(\"cuda\"), labels.to(\"cuda\")\n",
        "        outputs = what_net(images)\n",
        "        _, predicted = torch.max(outputs.data, 1)\n",
        "        total += labels.size(0)\n",
        "        correct += (predicted == labels).sum().item()\n",
        "\n",
        "print('Accuracy of the network on the %d train images: %d %%' % (total,  100 * correct / total))\n",
        "print(total,correct)"
      ],
      "execution_count": 39,
      "outputs": [
        {
          "output_type": "stream",
          "text": [
            "Accuracy of the network on the 15000 train images: 100 %\n",
            "15000 15000\n"
          ],
          "name": "stdout"
        }
      ]
    },
    {
      "cell_type": "code",
      "metadata": {
        "id": "3WqTm-aW-TGU",
        "colab_type": "code",
        "colab": {
          "base_uri": "https://localhost:8080/",
          "height": 53
        },
        "outputId": "8d34650c-3a42-42fc-c75e-469b5eca8052"
      },
      "source": [
        "correct = 0\n",
        "total = 0\n",
        "out = []\n",
        "pred = []\n",
        "with torch.no_grad():\n",
        "    for data in testloader:\n",
        "        images, labels = data\n",
        "        images, labels = images.to(\"cuda\"),labels.to(\"cuda\")\n",
        "        out.append(labels.cpu().numpy())\n",
        "        outputs= what_net(images)\n",
        "        _, predicted = torch.max(outputs.data, 1)\n",
        "        pred.append(predicted.cpu().numpy())\n",
        "        total += labels.size(0)\n",
        "        correct += (predicted == labels).sum().item()\n",
        "\n",
        "print('Accuracy of the network on the 10000 test images: %d %%' % ( 100 * correct / total))\n",
        "print(total,correct)"
      ],
      "execution_count": 40,
      "outputs": [
        {
          "output_type": "stream",
          "text": [
            "Accuracy of the network on the 10000 test images: 87 %\n",
            "3000 2623\n"
          ],
          "name": "stdout"
        }
      ]
    },
    {
      "cell_type": "code",
      "metadata": {
        "id": "oQ1yPyXRBNT4",
        "colab_type": "code",
        "colab": {}
      },
      "source": [
        ""
      ],
      "execution_count": null,
      "outputs": []
    }
  ]
}