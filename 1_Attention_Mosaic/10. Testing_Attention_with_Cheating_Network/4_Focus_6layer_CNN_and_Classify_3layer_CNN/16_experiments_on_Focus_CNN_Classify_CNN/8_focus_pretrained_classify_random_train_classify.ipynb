{
  "nbformat": 4,
  "nbformat_minor": 0,
  "metadata": {
    "accelerator": "GPU",
    "colab": {
      "name": "8_focus_pretrained_classify_random_train_classify.ipynb",
      "provenance": [],
      "collapsed_sections": [],
      "machine_shape": "hm"
    },
    "kernelspec": {
      "display_name": "Python 3",
      "language": "python",
      "name": "python3"
    },
    "language_info": {
      "codemirror_mode": {
        "name": "ipython",
        "version": 3
      },
      "file_extension": ".py",
      "mimetype": "text/x-python",
      "name": "python",
      "nbconvert_exporter": "python",
      "pygments_lexer": "ipython3",
      "version": "3.6.5"
    }
  },
  "cells": [
    {
      "cell_type": "code",
      "metadata": {
        "colab_type": "code",
        "id": "JSjG64ra4aFu",
        "colab": {
          "base_uri": "https://localhost:8080/",
          "height": 35
        },
        "outputId": "a6fd043a-9fb5-4741-ba61-b26161545246"
      },
      "source": [
        "from google.colab import drive\n",
        "drive.mount('/content/drive')"
      ],
      "execution_count": 1,
      "outputs": [
        {
          "output_type": "stream",
          "text": [
            "Drive already mounted at /content/drive; to attempt to forcibly remount, call drive.mount(\"/content/drive\", force_remount=True).\n"
          ],
          "name": "stdout"
        }
      ]
    },
    {
      "cell_type": "code",
      "metadata": {
        "colab_type": "code",
        "id": "V8-7SARDZErK",
        "colab": {}
      },
      "source": [
        "import torch.nn as nn\n",
        "import torch.nn.functional as F\n",
        "\n",
        "import pandas as pd\n",
        "import numpy as np\n",
        "import matplotlib.pyplot as plt\n",
        "\n",
        "import torch\n",
        "import torchvision\n",
        "import torchvision.transforms as transforms\n",
        "from torch.utils.data import Dataset, DataLoader\n",
        "from torchvision import transforms, utils\n",
        "\n",
        "from matplotlib import pyplot as plt\n",
        "\n",
        "import copy\n",
        "\n",
        "# Ignore warnings\n",
        "import warnings\n",
        "warnings.filterwarnings(\"ignore\")\n"
      ],
      "execution_count": 2,
      "outputs": []
    },
    {
      "cell_type": "code",
      "metadata": {
        "colab_type": "code",
        "id": "acRFqJNrZErV",
        "colab": {
          "base_uri": "https://localhost:8080/",
          "height": 53
        },
        "outputId": "b73e9738-f4b8-4391-91d3-8f9b726855a8"
      },
      "source": [
        "transform = transforms.Compose(\n",
        "    [transforms.ToTensor(),\n",
        "     transforms.Normalize((0.5, 0.5, 0.5), (0.5, 0.5, 0.5))])\n",
        "\n",
        "trainset = torchvision.datasets.CIFAR10(root='./data', train=True, download=True, transform=transform)\n",
        "\n",
        "\n",
        "testset = torchvision.datasets.CIFAR10(root='./data', train=False, download=True, transform=transform)\n"
      ],
      "execution_count": 3,
      "outputs": [
        {
          "output_type": "stream",
          "text": [
            "Files already downloaded and verified\n",
            "Files already downloaded and verified\n"
          ],
          "name": "stdout"
        }
      ]
    },
    {
      "cell_type": "code",
      "metadata": {
        "id": "gh5DXuAV1tp5",
        "colab_type": "code",
        "colab": {}
      },
      "source": [
        "trainloader = torch.utils.data.DataLoader(trainset, batch_size=10, shuffle=True)\n",
        "testloader = torch.utils.data.DataLoader(testset, batch_size=10, shuffle=False)\n",
        "\n",
        "\n",
        "classes = ('plane', 'car', 'bird', 'cat', 'deer', 'dog', 'frog', 'horse', 'ship', 'truck')\n",
        "\n",
        "foreground_classes = {'plane', 'car', 'bird'}\n",
        "\n",
        "background_classes = {'cat', 'deer', 'dog', 'frog', 'horse','ship', 'truck'}\n",
        "\n",
        "fg1,fg2,fg3 = 0,1,2"
      ],
      "execution_count": 4,
      "outputs": []
    },
    {
      "cell_type": "code",
      "metadata": {
        "colab_type": "code",
        "id": "V_JUhwCeZErk",
        "colab": {}
      },
      "source": [
        "dataiter = iter(trainloader)\n",
        "background_data=[]\n",
        "background_label=[]\n",
        "foreground_data=[]\n",
        "foreground_label=[]\n",
        "batch_size=10\n",
        "\n",
        "for i in range(5000):\n",
        "  images, labels = dataiter.next()\n",
        "  for j in range(batch_size):\n",
        "    if(classes[labels[j]] in background_classes):\n",
        "      img = images[j].tolist()\n",
        "      background_data.append(img)\n",
        "      background_label.append(labels[j])\n",
        "    else:\n",
        "      img = images[j].tolist()\n",
        "      foreground_data.append(img)\n",
        "      foreground_label.append(labels[j])\n",
        "            \n",
        "foreground_data = torch.tensor(foreground_data)\n",
        "foreground_label = torch.tensor(foreground_label)\n",
        "background_data = torch.tensor(background_data)\n",
        "background_label = torch.tensor(background_label)"
      ],
      "execution_count": 5,
      "outputs": []
    },
    {
      "cell_type": "code",
      "metadata": {
        "id": "uW9MkktGysAp",
        "colab_type": "code",
        "colab": {}
      },
      "source": [
        "def create_mosaic_img(bg_idx,fg_idx,fg): \n",
        "  \"\"\"\n",
        "  bg_idx : list of indexes of background_data[] to be used as background images in mosaic\n",
        "  fg_idx : index of image to be used as foreground image from foreground data\n",
        "  fg : at what position/index foreground image has to be stored out of 0-8\n",
        "  \"\"\"\n",
        "  image_list=[]\n",
        "  j=0\n",
        "  for i in range(9):\n",
        "    if i != fg:\n",
        "      image_list.append(background_data[bg_idx[j]].type(\"torch.DoubleTensor\"))\n",
        "      j+=1\n",
        "    else: \n",
        "      image_list.append(foreground_data[fg_idx].type(\"torch.DoubleTensor\"))\n",
        "      label = foreground_label[fg_idx]- fg1  # minus 7 because our fore ground classes are 7,8,9 but we have to store it as 0,1,2\n",
        "  #image_list = np.concatenate(image_list ,axis=0)\n",
        "  image_list = torch.stack(image_list) \n",
        "  return image_list,label"
      ],
      "execution_count": 6,
      "outputs": []
    },
    {
      "cell_type": "code",
      "metadata": {
        "id": "lWxkp87fNwnM",
        "colab_type": "code",
        "colab": {}
      },
      "source": [
        "desired_num = 30000\n",
        "mosaic_list_of_images =[]      # list of mosaic images, each mosaic image is saved as list of 9 images\n",
        "fore_idx =[]                   # list of indexes at which foreground image is present in a mosaic image i.e from 0 to 9               \n",
        "mosaic_label=[]                # label of mosaic image = foreground class present in that mosaic\n",
        "for i in range(desired_num):\n",
        "  bg_idx = np.random.randint(0,35000,8)\n",
        "  fg_idx = np.random.randint(0,15000)\n",
        "  fg = np.random.randint(0,9)\n",
        "  fore_idx.append(fg)\n",
        "  image_list,label = create_mosaic_img(bg_idx,fg_idx,fg)\n",
        "  mosaic_list_of_images.append(image_list)\n",
        "  mosaic_label.append(label)"
      ],
      "execution_count": 7,
      "outputs": []
    },
    {
      "cell_type": "code",
      "metadata": {
        "id": "AJuGak6_zXgx",
        "colab_type": "code",
        "colab": {}
      },
      "source": [
        "class MosaicDataset(Dataset):\n",
        "  \"\"\"MosaicDataset dataset.\"\"\"\n",
        "\n",
        "  def __init__(self, mosaic_list_of_images, mosaic_label, fore_idx):\n",
        "    \"\"\"\n",
        "      Args:\n",
        "        csv_file (string): Path to the csv file with annotations.\n",
        "        root_dir (string): Directory with all the images.\n",
        "        transform (callable, optional): Optional transform to be applied\n",
        "            on a sample.\n",
        "    \"\"\"\n",
        "    self.mosaic = mosaic_list_of_images\n",
        "    self.label = mosaic_label\n",
        "    self.fore_idx = fore_idx\n",
        "\n",
        "  def __len__(self):\n",
        "    return len(self.label)\n",
        "\n",
        "  def __getitem__(self, idx):\n",
        "    return self.mosaic[idx] , self.label[idx], self.fore_idx[idx]\n",
        "\n",
        "batch = 125\n",
        "msd = MosaicDataset(mosaic_list_of_images, mosaic_label , fore_idx)\n",
        "train_loader = DataLoader( msd,batch_size= batch ,shuffle=True)"
      ],
      "execution_count": 8,
      "outputs": []
    },
    {
      "cell_type": "code",
      "metadata": {
        "colab_type": "code",
        "id": "SadRzWBBZEsP",
        "colab": {}
      },
      "source": [
        "class Focus(nn.Module):\n",
        "  def __init__(self):\n",
        "    super(Focus, self).__init__()\n",
        "    self.conv1 = nn.Conv2d(in_channels=3, out_channels=32, kernel_size=3, padding=0)\n",
        "    self.conv2 = nn.Conv2d(in_channels=32, out_channels=64, kernel_size=3, padding=0)\n",
        "    self.conv3 = nn.Conv2d(in_channels=64, out_channels=128, kernel_size=3, padding=0)\n",
        "    self.conv4 = nn.Conv2d(in_channels=128, out_channels=128, kernel_size=3, padding=0)\n",
        "    self.conv5 = nn.Conv2d(in_channels=128, out_channels=128, kernel_size=3, padding=0)\n",
        "    self.conv6 = nn.Conv2d(in_channels=128, out_channels=128, kernel_size=3, padding=1)\n",
        "    self.pool = nn.MaxPool2d(kernel_size=2, stride=2)\n",
        "    self.batch_norm1 = nn.BatchNorm2d(32)\n",
        "    self.batch_norm2 = nn.BatchNorm2d(128)\n",
        "    self.dropout1 = nn.Dropout2d(p=0.05)\n",
        "    self.dropout2 = nn.Dropout2d(p=0.1)\n",
        "    self.fc1 = nn.Linear(128,64)\n",
        "    self.fc2 = nn.Linear(64, 32)\n",
        "    self.fc3 = nn.Linear(32, 10)\n",
        "    self.fc4 = nn.Linear(10, 2)\n",
        "\n",
        "  def forward(self, x):\n",
        "    x = self.conv1(x)\n",
        "    x = F.relu(self.batch_norm1(x))\n",
        "\n",
        "    x = (F.relu(self.conv2(x)))\n",
        "    x = self.pool(x)\n",
        "    \n",
        "    x = self.conv3(x)\n",
        "    x = F.relu(self.batch_norm2(x))\n",
        "\n",
        "    x = (F.relu(self.conv4(x)))\n",
        "    x = self.pool(x)\n",
        "    x = self.dropout1(x)\n",
        "\n",
        "    x = self.conv5(x)\n",
        "    x = F.relu(self.batch_norm2(x))\n",
        "\n",
        "    x = (F.relu(self.conv6(x)))\n",
        "    x = self.pool(x)\n",
        "\n",
        "    x = x.view(x.size(0), -1)\n",
        "\n",
        "    x = self.dropout2(x)\n",
        "    x = F.relu(self.fc1(x))\n",
        "    x = F.relu(self.fc2(x))\n",
        "    x = self.dropout2(x)\n",
        "    x = F.relu(self.fc3(x))\n",
        "    x = self.fc4(x)\n",
        "    return x"
      ],
      "execution_count": 9,
      "outputs": []
    },
    {
      "cell_type": "code",
      "metadata": {
        "id": "1GvXR1zV5n4w",
        "colab_type": "code",
        "colab": {}
      },
      "source": [
        "focus_net = Focus().double()\n",
        "focus_net = focus_net.to(\"cuda\")"
      ],
      "execution_count": 10,
      "outputs": []
    },
    {
      "cell_type": "code",
      "metadata": {
        "id": "yZob1uGT6fTM",
        "colab_type": "code",
        "colab": {
          "base_uri": "https://localhost:8080/",
          "height": 35
        },
        "outputId": "dbaf1728-3f49-4221-8149-2b97b24457c7"
      },
      "source": [
        "focus_net.load_state_dict( torch.load(\"/content/drive/My Drive/Research/Cheating_data/Focus_net_weights/focus_net_6layer_cnn.pt\"))"
      ],
      "execution_count": 11,
      "outputs": [
        {
          "output_type": "execute_result",
          "data": {
            "text/plain": [
              "<All keys matched successfully>"
            ]
          },
          "metadata": {
            "tags": []
          },
          "execution_count": 11
        }
      ]
    },
    {
      "cell_type": "markdown",
      "metadata": {
        "id": "nuvh8egty-M8",
        "colab_type": "text"
      },
      "source": [
        "Changing the last layer of Focus net"
      ]
    },
    {
      "cell_type": "code",
      "metadata": {
        "id": "MhX_PlWWo8tB",
        "colab_type": "code",
        "colab": {
          "base_uri": "https://localhost:8080/",
          "height": 35
        },
        "outputId": "b4c75cc0-3046-4035-a8e1-c0971cfdd4f1"
      },
      "source": [
        "focus_net.fc4"
      ],
      "execution_count": 12,
      "outputs": [
        {
          "output_type": "execute_result",
          "data": {
            "text/plain": [
              "Linear(in_features=10, out_features=2, bias=True)"
            ]
          },
          "metadata": {
            "tags": []
          },
          "execution_count": 12
        }
      ]
    },
    {
      "cell_type": "code",
      "metadata": {
        "id": "ugYLSgCpyv2i",
        "colab_type": "code",
        "colab": {
          "base_uri": "https://localhost:8080/",
          "height": 308
        },
        "outputId": "725fb677-22d1-4131-f730-bb39e0d0a31b"
      },
      "source": [
        "print(focus_net.fc4)\n",
        "print(focus_net.fc4.weight)\n",
        "print(focus_net.fc4.bias)\n",
        "temp = focus_net.fc4.weight.data\n",
        "temp2 = focus_net.fc4.bias.data\n",
        "focus_net.fc4 = nn.Linear(10,1).double()\n",
        "focus_net.fc4.weight.data = torch.unsqueeze(temp[1,:], 0)\n",
        "focus_net.fc4.bias.data = torch.unsqueeze(temp2[1], 0)\n",
        "focus_net = focus_net.to(\"cuda\")\n",
        "print(focus_net.fc4.weight)\n",
        "print(focus_net.fc4.bias)"
      ],
      "execution_count": 13,
      "outputs": [
        {
          "output_type": "stream",
          "text": [
            "Linear(in_features=10, out_features=2, bias=True)\n",
            "Parameter containing:\n",
            "tensor([[-0.3974,  0.2455,  0.2787, -0.4295, -0.5508,  0.8661, -0.2221, -0.6396,\n",
            "          0.5014,  0.1486],\n",
            "        [-0.1227,  0.1252, -0.0242,  0.3076,  0.7789, -0.7985, -0.2840,  0.6068,\n",
            "         -0.5138,  0.2816]], device='cuda:0', dtype=torch.float64,\n",
            "       requires_grad=True)\n",
            "Parameter containing:\n",
            "tensor([-0.2738,  0.0337], device='cuda:0', dtype=torch.float64,\n",
            "       requires_grad=True)\n",
            "Parameter containing:\n",
            "tensor([[-0.1227,  0.1252, -0.0242,  0.3076,  0.7789, -0.7985, -0.2840,  0.6068,\n",
            "         -0.5138,  0.2816]], device='cuda:0', dtype=torch.float64,\n",
            "       requires_grad=True)\n",
            "Parameter containing:\n",
            "tensor([0.0337], device='cuda:0', dtype=torch.float64, requires_grad=True)\n"
          ],
          "name": "stdout"
        }
      ]
    },
    {
      "cell_type": "code",
      "metadata": {
        "id": "x22GwjL3pC4o",
        "colab_type": "code",
        "colab": {
          "base_uri": "https://localhost:8080/",
          "height": 35
        },
        "outputId": "ca3fbd50-5c96-4c2e-f94c-6cd9e0473a33"
      },
      "source": [
        "focus_net.fc4"
      ],
      "execution_count": 14,
      "outputs": [
        {
          "output_type": "execute_result",
          "data": {
            "text/plain": [
              "Linear(in_features=10, out_features=1, bias=True)"
            ]
          },
          "metadata": {
            "tags": []
          },
          "execution_count": 14
        }
      ]
    },
    {
      "cell_type": "code",
      "metadata": {
        "id": "0uE2ecgApdwn",
        "colab_type": "code",
        "colab": {}
      },
      "source": [
        "for params in focus_net.parameters():\n",
        "  params.requires_grad = False"
      ],
      "execution_count": 15,
      "outputs": []
    },
    {
      "cell_type": "code",
      "metadata": {
        "id": "A0rkwoqLpya8",
        "colab_type": "code",
        "colab": {
          "base_uri": "https://localhost:8080/",
          "height": 1000
        },
        "outputId": "2d9eaeed-b7ed-4052-9e94-a3f231002c29"
      },
      "source": [
        "for params in focus_net.parameters():\n",
        "  print(params)\n",
        "  break;"
      ],
      "execution_count": 16,
      "outputs": [
        {
          "output_type": "stream",
          "text": [
            "Parameter containing:\n",
            "tensor([[[[-1.0155e-01,  1.8843e-01, -3.7371e-01],\n",
            "          [ 1.3882e-01,  3.1465e-01, -2.3114e-01],\n",
            "          [-9.8712e-02,  1.7628e-01, -4.7682e-02]],\n",
            "\n",
            "         [[-1.7731e-01,  2.7669e-01, -1.6959e-02],\n",
            "          [-1.3041e-01,  1.1654e-01, -2.3628e-02],\n",
            "          [-1.8088e-01,  1.7182e-02,  2.2703e-01]],\n",
            "\n",
            "         [[ 2.6718e-01,  4.5371e-01, -1.1744e-02],\n",
            "          [ 1.3648e-01,  2.1359e-02, -3.3651e-01],\n",
            "          [-3.4207e-01, -2.8405e-01,  2.1965e-02]]],\n",
            "\n",
            "\n",
            "        [[[-1.4553e-01, -3.1102e-01, -1.5143e-01],\n",
            "          [-7.8231e-02, -2.3423e-01, -1.1562e-01],\n",
            "          [ 4.3292e-03, -2.9985e-01, -1.6135e-01]],\n",
            "\n",
            "         [[ 2.3403e-01, -7.7107e-02,  2.3617e-01],\n",
            "          [ 7.9921e-03, -1.3719e-03, -1.2427e-01],\n",
            "          [-2.4708e-03, -1.7089e-01,  1.4559e-01]],\n",
            "\n",
            "         [[ 6.0008e-02,  2.2231e-01,  2.0222e-01],\n",
            "          [ 2.2929e-01, -5.4566e-03,  7.7658e-02],\n",
            "          [ 2.1009e-01, -2.0395e-02,  3.0434e-01]]],\n",
            "\n",
            "\n",
            "        [[[ 1.8955e-02, -8.9080e-02, -7.6312e-02],\n",
            "          [ 1.6654e-01,  9.1395e-02, -1.7210e-01],\n",
            "          [ 7.2608e-02,  3.6598e-02, -2.0946e-01]],\n",
            "\n",
            "         [[ 4.9694e-02,  3.4286e-02,  9.6677e-02],\n",
            "          [-9.4347e-02,  1.9066e-01, -1.7569e-01],\n",
            "          [ 2.2628e-01,  1.8944e-01,  1.0318e-01]],\n",
            "\n",
            "         [[-9.5871e-03,  2.3965e-02, -2.2961e-01],\n",
            "          [ 5.0691e-03, -1.2477e-03,  4.3030e-02],\n",
            "          [ 1.1552e-01,  5.2009e-02,  4.5297e-03]]],\n",
            "\n",
            "\n",
            "        [[[ 5.1273e-02,  1.1986e-01,  1.9651e-01],\n",
            "          [-1.0910e-01,  2.1594e-01,  2.3334e-01],\n",
            "          [-7.5300e-02, -1.2681e-01, -5.3049e-02]],\n",
            "\n",
            "         [[-4.8859e-02, -8.2950e-02, -1.8400e-01],\n",
            "          [-2.3791e-01, -8.6627e-02, -1.3185e-01],\n",
            "          [-1.8958e-02, -8.0871e-02, -1.0580e-01]],\n",
            "\n",
            "         [[-7.4944e-02, -1.2411e-01, -5.2474e-02],\n",
            "          [-2.0770e-02,  1.5161e-01, -1.6706e-01],\n",
            "          [-4.3331e-02,  1.3538e-01, -1.8715e-02]]],\n",
            "\n",
            "\n",
            "        [[[-4.3778e-03, -7.8674e-02,  1.9848e-01],\n",
            "          [-2.3493e-01,  1.7573e-01,  2.7151e-01],\n",
            "          [-2.2664e-02, -1.1002e-02, -6.5587e-02]],\n",
            "\n",
            "         [[ 1.9978e-01,  1.4815e-02,  1.0615e-02],\n",
            "          [ 2.0002e-01, -1.1983e-01,  1.5939e-01],\n",
            "          [-2.4128e-01, -1.4317e-01,  8.0474e-02]],\n",
            "\n",
            "         [[-1.4341e-01, -1.1064e-01, -2.6179e-01],\n",
            "          [ 2.1648e-01, -9.9564e-02,  1.6842e-02],\n",
            "          [ 1.1194e-01,  1.4890e-02,  1.9808e-01]]],\n",
            "\n",
            "\n",
            "        [[[ 1.5718e-01,  6.6356e-03, -8.6083e-02],\n",
            "          [ 8.0345e-02, -1.1381e-01, -4.6426e-03],\n",
            "          [-1.2109e-01,  1.1055e-01,  2.1551e-01]],\n",
            "\n",
            "         [[ 1.5790e-01, -7.3243e-04, -1.1624e-01],\n",
            "          [ 2.9433e-01,  1.5650e-01, -2.7937e-01],\n",
            "          [ 1.0816e-01, -4.2703e-02,  1.1360e-01]],\n",
            "\n",
            "         [[-2.3966e-02, -1.7138e-01, -5.5875e-02],\n",
            "          [-1.1881e-01, -1.9345e-01, -3.4012e-01],\n",
            "          [ 7.5994e-02, -1.8580e-01,  5.1822e-02]]],\n",
            "\n",
            "\n",
            "        [[[-1.5608e-01,  1.4220e-01, -1.9261e-01],\n",
            "          [ 2.8186e-01, -1.1467e-01, -3.0065e-02],\n",
            "          [-1.9499e-01, -8.0530e-04,  1.7978e-01]],\n",
            "\n",
            "         [[-2.9561e-01, -1.4465e-01, -3.8936e-02],\n",
            "          [ 2.7009e-01, -1.0709e-01,  1.9911e-01],\n",
            "          [-1.6047e-01,  1.9247e-01,  2.6052e-01]],\n",
            "\n",
            "         [[-1.3410e-01, -1.0264e-01, -2.3493e-01],\n",
            "          [ 3.7941e-01, -4.1826e-02, -2.3835e-01],\n",
            "          [ 1.5829e-01,  1.4479e-01, -7.7649e-02]]],\n",
            "\n",
            "\n",
            "        [[[ 3.4260e-02,  7.2909e-02, -4.9308e-01],\n",
            "          [ 1.9709e-01,  2.9608e-01,  4.4813e-02],\n",
            "          [ 1.8176e-01,  3.3937e-01,  1.7607e-01]],\n",
            "\n",
            "         [[-5.0911e-02,  2.4422e-01, -2.6483e-01],\n",
            "          [-2.5324e-01, -2.8686e-01, -1.1130e-01],\n",
            "          [-7.3526e-02, -1.8883e-01, -1.8568e-01]],\n",
            "\n",
            "         [[-3.3020e-02,  3.4905e-01,  9.6184e-02],\n",
            "          [ 9.3889e-02,  5.0457e-02, -4.1922e-02],\n",
            "          [-2.5109e-02, -1.0685e-01, -1.3722e-01]]],\n",
            "\n",
            "\n",
            "        [[[ 1.4828e-02,  9.2095e-04, -7.6290e-02],\n",
            "          [ 3.3454e-02,  3.7860e-01, -2.8654e-01],\n",
            "          [ 1.4552e-01,  7.2081e-02, -1.9682e-01]],\n",
            "\n",
            "         [[-3.7882e-02,  2.0972e-01, -2.3378e-01],\n",
            "          [-7.0486e-02,  4.0031e-01, -3.3082e-01],\n",
            "          [-2.2034e-01,  2.4179e-01, -7.7592e-02]],\n",
            "\n",
            "         [[-2.3171e-01,  2.7509e-01, -2.9406e-02],\n",
            "          [-2.5366e-01,  5.2276e-01, -3.5181e-01],\n",
            "          [ 4.7083e-02,  1.1258e-01, -2.4963e-02]]],\n",
            "\n",
            "\n",
            "        [[[ 5.2920e-02,  1.1366e-01, -1.0895e-01],\n",
            "          [-5.3343e-02,  1.6217e-02, -2.0651e-02],\n",
            "          [ 1.1660e-01,  9.8321e-02, -1.2359e-01]],\n",
            "\n",
            "         [[-3.4368e-02, -7.0742e-02, -2.5050e-01],\n",
            "          [-2.7087e-02,  1.4293e-01, -2.2920e-01],\n",
            "          [ 1.4525e-01,  1.4925e-02, -2.0972e-01]],\n",
            "\n",
            "         [[-2.4625e-01, -2.5307e-03, -2.1292e-02],\n",
            "          [ 2.9386e-02,  8.7204e-02,  1.4329e-01],\n",
            "          [ 2.4719e-01,  2.8453e-01,  9.2273e-02]]],\n",
            "\n",
            "\n",
            "        [[[-3.5100e-01, -1.5544e-01,  3.7412e-01],\n",
            "          [ 3.4293e-01, -6.4277e-02, -1.9676e-01],\n",
            "          [ 1.5227e-01, -4.3687e-02, -1.8680e-01]],\n",
            "\n",
            "         [[-3.5154e-01, -4.3465e-02,  7.8562e-02],\n",
            "          [ 3.2783e-01, -9.1473e-02, -7.4105e-02],\n",
            "          [ 1.5686e-01,  6.4711e-03,  4.9247e-02]],\n",
            "\n",
            "         [[ 1.0901e-01,  1.3724e-01,  1.4471e-01],\n",
            "          [ 3.8507e-01, -1.8206e-01, -9.0550e-02],\n",
            "          [ 1.8527e-02, -2.1300e-01, -2.1008e-01]]],\n",
            "\n",
            "\n",
            "        [[[-2.0009e-01,  5.2350e-02, -1.7434e-02],\n",
            "          [-1.3890e-01, -2.8554e-01,  1.3410e-01],\n",
            "          [-3.7519e-02, -5.1394e-01,  6.2113e-02]],\n",
            "\n",
            "         [[ 4.7610e-02,  1.4115e-01,  1.9123e-02],\n",
            "          [ 3.4660e-01,  1.0914e-01,  2.8330e-01],\n",
            "          [ 3.0530e-01, -1.6982e-01,  2.7858e-01]],\n",
            "\n",
            "         [[ 3.8899e-02, -4.2711e-03, -1.3205e-01],\n",
            "          [ 1.0196e-01, -2.7844e-01, -8.7242e-03],\n",
            "          [ 1.2730e-01, -2.8913e-01, -8.2701e-02]]],\n",
            "\n",
            "\n",
            "        [[[-1.6047e-01,  3.1003e-01, -1.1233e-01],\n",
            "          [ 3.3223e-01,  2.9437e-01, -9.5160e-02],\n",
            "          [ 2.0716e-01, -2.9966e-01, -3.4367e-01]],\n",
            "\n",
            "         [[-2.8085e-01,  1.4637e-01, -3.4782e-02],\n",
            "          [ 1.6125e-03,  1.8891e-01,  2.3948e-01],\n",
            "          [-1.1145e-01, -1.3817e-01, -1.6709e-01]],\n",
            "\n",
            "         [[-4.5610e-01,  2.2247e-01,  2.1565e-01],\n",
            "          [-1.8045e-01, -1.5446e-01,  1.1526e-01],\n",
            "          [-1.5825e-01,  7.3281e-02,  3.5264e-01]]],\n",
            "\n",
            "\n",
            "        [[[ 1.1864e-01, -6.0254e-02,  9.2982e-02],\n",
            "          [ 1.4388e-01, -7.3523e-02, -2.0167e-01],\n",
            "          [-2.3147e-01,  1.1375e-01,  7.0444e-02]],\n",
            "\n",
            "         [[-4.4879e-02,  1.4091e-01, -1.9945e-01],\n",
            "          [ 2.1282e-01,  2.5781e-01,  1.0941e-01],\n",
            "          [-8.7437e-02,  1.2557e-01, -1.6704e-01]],\n",
            "\n",
            "         [[-8.5735e-02, -2.8465e-02, -7.9197e-02],\n",
            "          [ 5.6643e-02,  2.0363e-01,  4.2784e-02],\n",
            "          [ 8.6233e-03, -2.0354e-02, -3.6712e-02]]],\n",
            "\n",
            "\n",
            "        [[[-6.3492e-02, -1.5458e-01,  5.7564e-03],\n",
            "          [-3.7472e-02,  1.1123e-01, -2.3172e-01],\n",
            "          [ 1.0602e-01, -1.8604e-02, -1.4651e-01]],\n",
            "\n",
            "         [[-2.5336e-04, -5.2469e-03,  1.1831e-01],\n",
            "          [ 4.4008e-02, -9.3524e-02, -9.1982e-02],\n",
            "          [ 3.3203e-02, -1.1195e-01,  5.3600e-02]],\n",
            "\n",
            "         [[ 7.1521e-02,  3.1856e-02,  1.9880e-01],\n",
            "          [ 9.1581e-02, -6.5490e-02, -2.6157e-01],\n",
            "          [-6.2403e-02,  3.3127e-02, -9.8168e-02]]],\n",
            "\n",
            "\n",
            "        [[[-2.4214e-01, -2.6254e-01, -2.4894e-01],\n",
            "          [ 6.0782e-02,  1.4442e-01, -4.1070e-02],\n",
            "          [ 2.3767e-01,  3.2218e-01,  1.7166e-01]],\n",
            "\n",
            "         [[ 6.9931e-02,  3.2418e-03,  5.9026e-02],\n",
            "          [ 9.8867e-02, -7.6754e-02, -1.1897e-01],\n",
            "          [-1.5324e-01,  2.3701e-01,  7.7406e-02]],\n",
            "\n",
            "         [[-1.8112e-02,  3.6124e-02,  8.8124e-02],\n",
            "          [ 5.1065e-03,  1.4502e-01, -1.0826e-01],\n",
            "          [-1.1482e-01,  1.5715e-01, -2.1675e-01]]],\n",
            "\n",
            "\n",
            "        [[[ 2.9496e-02, -2.3513e-01,  1.3399e-01],\n",
            "          [ 1.5434e-02,  1.2206e-01,  1.7543e-01],\n",
            "          [ 1.8777e-01,  6.9283e-02,  3.6612e-02]],\n",
            "\n",
            "         [[ 1.0813e-01, -9.1666e-02, -5.8822e-02],\n",
            "          [-1.7935e-01, -1.3325e-01, -9.2677e-02],\n",
            "          [ 1.5984e-02,  1.3427e-01, -1.9313e-01]],\n",
            "\n",
            "         [[-1.0145e-01, -1.7560e-01, -1.0277e-01],\n",
            "          [-4.1589e-02, -2.2296e-01, -2.0368e-02],\n",
            "          [-5.1968e-02, -9.4545e-02, -1.5786e-01]]],\n",
            "\n",
            "\n",
            "        [[[-2.8242e-01, -1.6982e-02,  1.2589e-01],\n",
            "          [-3.1782e-02, -1.3494e-02, -2.8895e-01],\n",
            "          [ 1.3941e-01, -1.0287e-01, -1.0379e-01]],\n",
            "\n",
            "         [[-2.7262e-01,  1.4852e-01,  1.4684e-01],\n",
            "          [ 7.8490e-02,  2.7467e-01,  1.6855e-02],\n",
            "          [ 3.8027e-01,  3.0940e-01,  1.7866e-02]],\n",
            "\n",
            "         [[-3.0519e-01,  2.7818e-02,  1.2216e-01],\n",
            "          [-2.1921e-01, -7.9760e-02, -2.0103e-04],\n",
            "          [ 1.7404e-01, -1.8248e-01, -1.4009e-01]]],\n",
            "\n",
            "\n",
            "        [[[ 1.0714e-01,  1.7765e-01, -3.0915e-01],\n",
            "          [-2.0353e-02, -1.6578e-01,  3.7074e-01],\n",
            "          [ 1.7386e-01, -2.7412e-01,  2.9055e-02]],\n",
            "\n",
            "         [[-1.2439e-01,  1.0872e-01, -1.7823e-01],\n",
            "          [-1.0632e-01, -2.9516e-01,  3.7788e-01],\n",
            "          [ 3.0583e-01, -4.0840e-01,  1.3042e-01]],\n",
            "\n",
            "         [[ 2.9924e-01,  8.6759e-02, -3.3583e-01],\n",
            "          [-1.1813e-02, -2.6363e-01,  4.2833e-01],\n",
            "          [-3.5804e-02, -3.3204e-01,  2.4581e-01]]],\n",
            "\n",
            "\n",
            "        [[[-7.5675e-02,  2.5866e-01,  1.2688e-01],\n",
            "          [-1.1888e-01,  2.3120e-01,  1.8862e-01],\n",
            "          [-1.0078e-01, -2.2704e-01, -3.4244e-01]],\n",
            "\n",
            "         [[ 2.7898e-02,  2.4486e-01,  1.8591e-01],\n",
            "          [ 2.0807e-01,  1.1544e-01,  4.7624e-03],\n",
            "          [ 3.2926e-02,  1.8853e-01, -1.2424e-01]],\n",
            "\n",
            "         [[-2.4558e-01, -1.8506e-01, -1.5971e-01],\n",
            "          [-2.0672e-01,  2.0476e-02, -1.1053e-01],\n",
            "          [ 2.1770e-01,  2.2833e-01, -8.8387e-02]]],\n",
            "\n",
            "\n",
            "        [[[ 6.5205e-02,  1.5520e-01, -1.9695e-01],\n",
            "          [-7.9760e-02,  8.1679e-02, -6.8232e-02],\n",
            "          [ 1.6093e-03, -1.5213e-01, -1.2683e-01]],\n",
            "\n",
            "         [[ 1.8469e-01, -3.6921e-02, -1.7115e-01],\n",
            "          [ 8.1758e-02, -1.6792e-01, -6.7049e-02],\n",
            "          [ 1.6663e-01, -6.6594e-02,  1.2634e-01]],\n",
            "\n",
            "         [[-3.6184e-01, -6.5170e-02, -1.0652e-01],\n",
            "          [-4.7971e-01,  1.4482e-01,  4.2907e-01],\n",
            "          [-2.5983e-01,  2.9876e-01,  5.4646e-01]]],\n",
            "\n",
            "\n",
            "        [[[ 2.8698e-02, -1.1509e-01,  3.1465e-01],\n",
            "          [-2.2665e-01,  1.1842e-01, -1.0207e-01],\n",
            "          [-2.1049e-01, -7.1634e-02,  2.3764e-01]],\n",
            "\n",
            "         [[ 1.5028e-01, -1.8738e-01,  1.2004e-01],\n",
            "          [ 1.6371e-01, -1.7511e-03, -2.4908e-01],\n",
            "          [-5.7438e-02,  2.1253e-01,  4.7965e-02]],\n",
            "\n",
            "         [[ 2.8607e-01, -1.4524e-01, -2.5859e-01],\n",
            "          [ 2.9987e-01,  5.0431e-02, -5.1815e-01],\n",
            "          [ 2.1397e-01,  2.9649e-01, -3.1808e-01]]],\n",
            "\n",
            "\n",
            "        [[[ 2.8467e-02, -9.7171e-02, -6.5884e-02],\n",
            "          [ 4.7044e-03, -1.2399e-01,  1.3729e-01],\n",
            "          [-1.0409e-01,  1.7758e-01,  1.4271e-01]],\n",
            "\n",
            "         [[ 1.8816e-01,  7.7143e-02, -1.2912e-02],\n",
            "          [ 1.1297e-01, -2.5210e-01, -2.2299e-01],\n",
            "          [-2.8796e-01,  8.2649e-02, -8.7493e-02]],\n",
            "\n",
            "         [[ 2.1926e-01,  2.2060e-01,  1.7361e-01],\n",
            "          [-2.0023e-02,  1.5427e-01,  6.1582e-02],\n",
            "          [-2.0668e-01, -1.0826e-01,  1.1648e-01]]],\n",
            "\n",
            "\n",
            "        [[[-1.5940e-01,  1.1073e-01, -1.7217e-02],\n",
            "          [-1.0682e-01,  6.4494e-02,  1.4025e-01],\n",
            "          [-8.2975e-02, -1.8486e-01, -2.2712e-01]],\n",
            "\n",
            "         [[-8.8423e-02,  1.4320e-01, -2.0304e-02],\n",
            "          [-5.0818e-03,  1.7296e-01, -8.4649e-02],\n",
            "          [ 6.2910e-03, -1.7587e-01, -2.0314e-02]],\n",
            "\n",
            "         [[-8.5325e-02, -1.5731e-01, -1.0675e-01],\n",
            "          [ 1.9048e-01,  1.6936e-01,  6.7662e-03],\n",
            "          [-2.7817e-05,  9.5952e-02, -2.4236e-01]]],\n",
            "\n",
            "\n",
            "        [[[ 1.1579e-01,  1.7570e-01, -1.1779e-01],\n",
            "          [ 2.0060e-03, -1.0404e-01,  1.3824e-01],\n",
            "          [-1.1473e-01,  3.1071e-02,  1.7744e-01]],\n",
            "\n",
            "         [[ 6.9442e-02, -1.5036e-02,  5.4487e-02],\n",
            "          [-5.8634e-02, -1.4846e-01,  9.5080e-02],\n",
            "          [ 1.6324e-01, -1.5676e-02, -8.4563e-02]],\n",
            "\n",
            "         [[ 1.1528e-01, -1.1609e-01,  2.9263e-03],\n",
            "          [ 5.4937e-02, -1.5815e-01,  1.8128e-01],\n",
            "          [ 1.5560e-01,  1.3262e-01,  1.8461e-01]]],\n",
            "\n",
            "\n",
            "        [[[-2.1694e-01, -2.9142e-01, -2.6329e-01],\n",
            "          [-1.2755e-01, -1.9556e-01,  3.8795e-02],\n",
            "          [ 3.4141e-01,  3.4313e-01,  1.9673e-01]],\n",
            "\n",
            "         [[-1.2067e-01, -2.4652e-01,  3.6027e-03],\n",
            "          [-1.8045e-01,  1.0407e-01, -1.6403e-01],\n",
            "          [ 5.5994e-02,  2.2146e-01, -1.2961e-01]],\n",
            "\n",
            "         [[ 1.9381e-01, -3.1823e-02,  2.0926e-01],\n",
            "          [ 7.3488e-02, -8.3086e-02,  2.8715e-02],\n",
            "          [-1.1377e-01,  2.3878e-01, -1.3486e-01]]],\n",
            "\n",
            "\n",
            "        [[[ 2.6004e-02,  2.2558e-01,  1.3777e-01],\n",
            "          [ 1.4699e-01, -1.7660e-01, -9.6174e-02],\n",
            "          [-8.1804e-02, -1.1437e-01, -6.4043e-02]],\n",
            "\n",
            "         [[-1.8785e-01,  1.2662e-01,  1.1054e-01],\n",
            "          [ 6.8984e-02, -1.8815e-01, -4.3549e-02],\n",
            "          [ 2.6759e-01, -7.3002e-02, -8.8331e-02]],\n",
            "\n",
            "         [[-2.2460e-01, -8.1323e-02,  2.9143e-01],\n",
            "          [-2.5683e-01, -9.4635e-02,  2.5643e-01],\n",
            "          [-1.2625e-02, -2.2122e-01,  4.7715e-02]]],\n",
            "\n",
            "\n",
            "        [[[-6.8392e-02, -2.1575e-01, -2.8500e-02],\n",
            "          [-2.5681e-01, -2.5748e-01,  1.5143e-01],\n",
            "          [ 2.5797e-01,  3.1017e-01,  5.0137e-03]],\n",
            "\n",
            "         [[ 8.3711e-02, -2.3980e-01, -7.0890e-02],\n",
            "          [-9.5829e-02, -1.9823e-01,  2.7156e-01],\n",
            "          [-2.6914e-02,  2.7501e-01, -3.1315e-02]],\n",
            "\n",
            "         [[-1.3819e-01,  4.2787e-02,  3.4596e-02],\n",
            "          [-1.1717e-01, -1.7322e-01,  1.3440e-01],\n",
            "          [ 4.9149e-02, -5.2634e-02, -1.1780e-02]]],\n",
            "\n",
            "\n",
            "        [[[-3.1362e-01,  4.8102e-02,  3.4139e-01],\n",
            "          [ 3.4290e-02, -2.4965e-01,  2.7953e-01],\n",
            "          [-1.6447e-01,  9.0822e-04,  2.3792e-01]],\n",
            "\n",
            "         [[-4.8142e-02, -1.0798e-01,  3.7232e-01],\n",
            "          [-1.0745e-02, -4.9819e-01,  8.5103e-02],\n",
            "          [ 1.1553e-01, -2.4784e-01,  1.5701e-01]],\n",
            "\n",
            "         [[-1.1495e-01, -2.1601e-01,  1.0106e-01],\n",
            "          [ 2.3005e-01, -3.2803e-01, -8.3869e-02],\n",
            "          [ 2.2454e-01, -1.0049e-02,  2.0753e-01]]],\n",
            "\n",
            "\n",
            "        [[[ 4.3836e-01,  3.2456e-01,  3.3695e-01],\n",
            "          [-2.4138e-01, -2.9768e-01, -1.5685e-01],\n",
            "          [-9.5723e-02, -7.9013e-02, -1.9312e-01]],\n",
            "\n",
            "         [[ 1.3153e-01,  6.7787e-02,  2.1433e-01],\n",
            "          [-2.6171e-01, -2.9836e-01, -2.0850e-01],\n",
            "          [ 1.0682e-01,  1.0624e-01, -1.6899e-01]],\n",
            "\n",
            "         [[ 1.7010e-01, -3.2429e-02, -1.2887e-02],\n",
            "          [-3.4082e-02, -2.3638e-01, -8.2708e-02],\n",
            "          [ 8.6260e-02,  2.9735e-01, -1.4077e-02]]],\n",
            "\n",
            "\n",
            "        [[[ 1.4088e-01,  2.0552e-01, -6.8858e-02],\n",
            "          [-1.4319e-02, -1.5148e-01, -2.4972e-01],\n",
            "          [ 2.8147e-01, -1.4573e-01, -1.2848e-01]],\n",
            "\n",
            "         [[-1.1730e-01, -4.3468e-02, -1.5309e-01],\n",
            "          [ 6.0057e-02, -1.9846e-01, -1.4349e-02],\n",
            "          [ 2.6214e-01,  1.4849e-01, -1.9905e-01]],\n",
            "\n",
            "         [[-1.7688e-01,  2.2597e-01, -1.7985e-01],\n",
            "          [ 1.3996e-01, -6.4199e-02, -1.3442e-01],\n",
            "          [ 2.9831e-01, -8.8765e-04,  5.7207e-02]]],\n",
            "\n",
            "\n",
            "        [[[ 6.3738e-02, -6.5191e-02,  1.1433e-01],\n",
            "          [-5.4104e-02,  1.0246e-01,  1.1657e-01],\n",
            "          [-2.1356e-01, -1.6824e-01,  6.3947e-02]],\n",
            "\n",
            "         [[-9.3507e-02, -3.5852e-02,  4.9805e-02],\n",
            "          [ 1.4713e-01, -1.3346e-01, -1.2432e-01],\n",
            "          [-2.2472e-01, -1.8936e-01,  1.7751e-01]],\n",
            "\n",
            "         [[-7.8939e-02,  4.8241e-02, -1.3442e-01],\n",
            "          [ 1.6475e-02, -3.7413e-02,  2.9886e-01],\n",
            "          [-2.3843e-01, -1.1041e-02,  1.7069e-01]]]], device='cuda:0',\n",
            "       dtype=torch.float64)\n"
          ],
          "name": "stdout"
        }
      ]
    },
    {
      "cell_type": "code",
      "metadata": {
        "id": "LYdCXceZzSk9",
        "colab_type": "code",
        "colab": {}
      },
      "source": [
        "class Classification(nn.Module):\n",
        "  def __init__(self, focus_net):\n",
        "    super(Classification, self).__init__()\n",
        "    self.module1 = focus_net\n",
        "    self.conv1 = nn.Conv2d(in_channels=3, out_channels=32, kernel_size=3, padding=0)\n",
        "    self.pool = nn.MaxPool2d(2, 2)\n",
        "    self.conv2 = nn.Conv2d(in_channels=32, out_channels=64, kernel_size=3, padding=0)\n",
        "    self.conv3 = nn.Conv2d(in_channels=64, out_channels=64, kernel_size=3, padding=0)\n",
        "    self.fc1 = nn.Linear(1024, 512)\n",
        "    self.fc2 = nn.Linear(512, 64)\n",
        "    self.fc3 = nn.Linear(64, 10)\n",
        "    self.fc4 = nn.Linear(10,3)\n",
        "\n",
        "  def forward(self,z):  #z batch of list of 9 images\n",
        "    y = torch.zeros([batch,3, 32,32], dtype=torch.float64)\n",
        "    x = torch.zeros([batch,9],dtype=torch.float64)\n",
        "    x = x.to(\"cuda\")\n",
        "    y = y.to(\"cuda\")\n",
        "\n",
        "    for i in range(9):\n",
        "        x[:,i] = self.module1.forward(z[:,i])[:,0]\n",
        "\n",
        "    x = F.softmax(x,dim=1)\n",
        "\n",
        "    x1 = x[:,0]\n",
        "    torch.mul(x1[:,None,None,None],z[:,0])\n",
        "\n",
        "    for i in range(9):            \n",
        "      x1 = x[:,i]          \n",
        "      y = y + torch.mul(x1[:,None,None,None],z[:,i])\n",
        "    \n",
        "    y1 = self.pool(F.relu(self.conv1(y)))\n",
        "    y1 = self.pool(F.relu(self.conv2(y1)))\n",
        "    # print(x.shape)\n",
        "    y1 = (F.relu(self.conv3(y1)))\n",
        "    y1 =  y1.view(y1.size(0), -1)\n",
        "    # print(x.shape)\n",
        "    y1 = F.relu(self.fc1(y1))\n",
        "    y1 = F.relu(self.fc2(y1))\n",
        "    y1 = F.relu(self.fc3(y1))\n",
        "    y1 = self.fc4(y1)\n",
        "\n",
        "    return y1 , x, y"
      ],
      "execution_count": 17,
      "outputs": []
    },
    {
      "cell_type": "code",
      "metadata": {
        "id": "uPYplUGazU9I",
        "colab_type": "code",
        "colab": {}
      },
      "source": [
        "focus_net.eval()\n",
        "classify = Classification(focus_net).double()\n",
        "classify = classify.to(\"cuda\")"
      ],
      "execution_count": 18,
      "outputs": []
    },
    {
      "cell_type": "code",
      "metadata": {
        "id": "l789TLMP9zJX",
        "colab_type": "code",
        "colab": {}
      },
      "source": [
        "test_images =[]        #list of mosaic images, each mosaic image is saved as laist of 9 images\n",
        "fore_idx_test =[]                   #list of indexes at which foreground image is present in a mosaic image                \n",
        "test_label=[]                # label of mosaic image = foreground class present in that mosaic\n",
        "for i in range(10000):\n",
        "  bg_idx = np.random.randint(0,35000,8)\n",
        "  fg_idx = np.random.randint(0,15000)\n",
        "  fg = np.random.randint(0,9)\n",
        "  fore_idx_test.append(fg)\n",
        "  image_list,label = create_mosaic_img(bg_idx,fg_idx,fg)\n",
        "  test_images.append(image_list)\n",
        "  test_label.append(label)"
      ],
      "execution_count": 19,
      "outputs": []
    },
    {
      "cell_type": "code",
      "metadata": {
        "id": "bBzV9dKS5po7",
        "colab_type": "code",
        "colab": {}
      },
      "source": [
        "test_data = MosaicDataset(test_images,test_label,fore_idx_test)\n",
        "test_loader = DataLoader( test_data,batch_size= batch ,shuffle=False)"
      ],
      "execution_count": 20,
      "outputs": []
    },
    {
      "cell_type": "code",
      "metadata": {
        "id": "n5g3geNJ5zEu",
        "colab_type": "code",
        "colab": {}
      },
      "source": [
        "import torch.optim as optim\n",
        "criterion_classify = nn.CrossEntropyLoss()\n",
        "optimizer_classify = optim.SGD(classify.parameters(), lr=0.01, momentum=0.9)"
      ],
      "execution_count": 21,
      "outputs": []
    },
    {
      "cell_type": "code",
      "metadata": {
        "id": "coLNsgk3g9nN",
        "colab_type": "code",
        "colab": {}
      },
      "source": [
        "col1=[]\n",
        "col2=[]\n",
        "col3=[]\n",
        "col4=[]\n",
        "col5=[]\n",
        "col6=[]\n",
        "col7=[]\n",
        "col8=[]\n",
        "col9=[]\n",
        "col10=[]\n",
        "col11=[]\n",
        "col12=[]\n",
        "col13=[]"
      ],
      "execution_count": 22,
      "outputs": []
    },
    {
      "cell_type": "code",
      "metadata": {
        "id": "GoGgvljug-ko",
        "colab_type": "code",
        "colab": {
          "base_uri": "https://localhost:8080/",
          "height": 217
        },
        "outputId": "b3632d3b-60b6-4980-8a71-84207c1a3ae2"
      },
      "source": [
        "correct = 0\n",
        "total = 0\n",
        "count = 0\n",
        "flag = 1\n",
        "focus_true_pred_true =0\n",
        "focus_false_pred_true =0\n",
        "focus_true_pred_false =0\n",
        "focus_false_pred_false =0\n",
        "\n",
        "argmax_more_than_half = 0\n",
        "argmax_less_than_half =0\n",
        "\n",
        "with torch.no_grad():\n",
        "  for data in train_loader:\n",
        "    inputs, labels , fore_idx = data\n",
        "    inputs, labels , fore_idx = inputs.to(\"cuda\"),labels.to(\"cuda\"), fore_idx.to(\"cuda\")\n",
        "    outputs, alphas, avg_images = classify(inputs)\n",
        "\n",
        "    _, predicted = torch.max(outputs.data, 1)\n",
        "\n",
        "    for j in range(labels.size(0)):\n",
        "      count += 1\n",
        "      focus = torch.argmax(alphas[j])\n",
        "      if alphas[j][focus] >= 0.5 :\n",
        "        argmax_more_than_half += 1\n",
        "      else:\n",
        "        argmax_less_than_half += 1\n",
        "\n",
        "      if(focus == fore_idx[j] and predicted[j] == labels[j]):\n",
        "          focus_true_pred_true += 1\n",
        "      elif(focus != fore_idx[j] and predicted[j] == labels[j]):\n",
        "        focus_false_pred_true += 1\n",
        "      elif(focus == fore_idx[j] and predicted[j] != labels[j]):\n",
        "        focus_true_pred_false += 1\n",
        "      elif(focus != fore_idx[j] and predicted[j] != labels[j]):\n",
        "        focus_false_pred_false += 1\n",
        "\n",
        "    total += labels.size(0)\n",
        "    correct += (predicted == labels).sum().item()\n",
        "\n",
        "print('Accuracy of the network on the 30000 train images: %d %%' % ( 100 * correct / total))\n",
        "print(\"total correct\", correct)\n",
        "print(\"total train set images\", total)\n",
        "\n",
        "print(\"focus_true_pred_true %d =============> FTPT : %d %%\" % (focus_true_pred_true , (100 * focus_true_pred_true / total) ) )\n",
        "print(\"focus_false_pred_true %d =============> FFPT : %d %%\" % (focus_false_pred_true, (100 * focus_false_pred_true / total) ) )\n",
        "print(\"focus_true_pred_false %d =============> FTPF : %d %%\" %( focus_true_pred_false , ( 100 * focus_true_pred_false / total) ) )\n",
        "print(\"focus_false_pred_false %d =============> FFPF : %d %%\" % (focus_false_pred_false, ( 100 * focus_false_pred_false / total) ) )\n",
        "\n",
        "print(\"argmax_more_than_half ==================> \",argmax_more_than_half)\n",
        "print(\"argmax_less_than_half ==================> \",argmax_less_than_half)\n",
        "print(count)\n",
        "\n",
        "print(\"=\"*100)\n",
        "\n",
        "col1.append(0)\n",
        "col2.append(argmax_more_than_half)\n",
        "col3.append(argmax_less_than_half)\n",
        "col4.append(focus_true_pred_true)\n",
        "col5.append(focus_false_pred_true)\n",
        "col6.append(focus_true_pred_false)\n",
        "col7.append(focus_false_pred_false)"
      ],
      "execution_count": 23,
      "outputs": [
        {
          "output_type": "stream",
          "text": [
            "Accuracy of the network on the 30000 train images: 33 %\n",
            "total correct 9919\n",
            "total train set images 30000\n",
            "focus_true_pred_true 9836 =============> FTPT : 32 %\n",
            "focus_false_pred_true 83 =============> FFPT : 0 %\n",
            "focus_true_pred_false 18880 =============> FTPF : 62 %\n",
            "focus_false_pred_false 1201 =============> FFPF : 4 %\n",
            "argmax_more_than_half ==================>  29071\n",
            "argmax_less_than_half ==================>  929\n",
            "30000\n",
            "====================================================================================================\n"
          ],
          "name": "stdout"
        }
      ]
    },
    {
      "cell_type": "code",
      "metadata": {
        "id": "KmhkIj45g-ei",
        "colab_type": "code",
        "colab": {
          "base_uri": "https://localhost:8080/",
          "height": 181
        },
        "outputId": "0f10eecf-90b3-4c64-ffb5-3e4a6d662f15"
      },
      "source": [
        "correct = 0\n",
        "total = 0\n",
        "count = 0\n",
        "flag = 1\n",
        "focus_true_pred_true =0\n",
        "focus_false_pred_true =0\n",
        "focus_true_pred_false =0\n",
        "focus_false_pred_false =0\n",
        "\n",
        "argmax_more_than_half = 0\n",
        "argmax_less_than_half =0\n",
        "\n",
        "with torch.no_grad():\n",
        "  for data in test_loader:\n",
        "    inputs, labels , fore_idx = data\n",
        "    inputs, labels , fore_idx = inputs.to(\"cuda\"),labels.to(\"cuda\"), fore_idx.to(\"cuda\")\n",
        "    outputs, alphas, avg_images = classify(inputs)\n",
        "\n",
        "    _, predicted = torch.max(outputs.data, 1)\n",
        "\n",
        "    for j in range(labels.size(0)):\n",
        "      focus = torch.argmax(alphas[j])\n",
        "      if alphas[j][focus] >= 0.5 :\n",
        "        argmax_more_than_half += 1\n",
        "      else:\n",
        "        argmax_less_than_half += 1\n",
        "\n",
        "      if(focus == fore_idx[j] and predicted[j] == labels[j]):\n",
        "          focus_true_pred_true += 1\n",
        "      elif(focus != fore_idx[j] and predicted[j] == labels[j]):\n",
        "        focus_false_pred_true += 1\n",
        "      elif(focus == fore_idx[j] and predicted[j] != labels[j]):\n",
        "        focus_true_pred_false += 1\n",
        "      elif(focus != fore_idx[j] and predicted[j] != labels[j]):\n",
        "        focus_false_pred_false += 1\n",
        "\n",
        "    total += labels.size(0)\n",
        "    correct += (predicted == labels).sum().item()\n",
        "\n",
        "print('Accuracy of the network on the 10000 test images: %d %%' % (\n",
        "    100 * correct / total))\n",
        "print(\"total correct\", correct)\n",
        "print(\"total train set images\", total)\n",
        "\n",
        "print(\"focus_true_pred_true %d =============> FTPT : %d %%\" % (focus_true_pred_true , (100 * focus_true_pred_true / total) ) )\n",
        "print(\"focus_false_pred_true %d =============> FFPT : %d %%\" % (focus_false_pred_true, (100 * focus_false_pred_true / total) ) )\n",
        "print(\"focus_true_pred_false %d =============> FTPF : %d %%\" %( focus_true_pred_false , ( 100 * focus_true_pred_false / total) ) )\n",
        "print(\"focus_false_pred_false %d =============> FFPF : %d %%\" % (focus_false_pred_false, ( 100 * focus_false_pred_false / total) ) )\n",
        "\n",
        "print(\"argmax_more_than_half ==================> \",argmax_more_than_half)\n",
        "print(\"argmax_less_than_half ==================> \",argmax_less_than_half)\n",
        "col8.append(argmax_more_than_half)\n",
        "col9.append(argmax_less_than_half)\n",
        "col10.append(focus_true_pred_true)\n",
        "col11.append(focus_false_pred_true)\n",
        "col12.append(focus_true_pred_false)\n",
        "col13.append(focus_false_pred_false)"
      ],
      "execution_count": 24,
      "outputs": [
        {
          "output_type": "stream",
          "text": [
            "Accuracy of the network on the 10000 test images: 33 %\n",
            "total correct 3304\n",
            "total train set images 10000\n",
            "focus_true_pred_true 3277 =============> FTPT : 32 %\n",
            "focus_false_pred_true 27 =============> FFPT : 0 %\n",
            "focus_true_pred_false 6276 =============> FTPF : 62 %\n",
            "focus_false_pred_false 420 =============> FFPF : 4 %\n",
            "argmax_more_than_half ==================>  9672\n",
            "argmax_less_than_half ==================>  328\n"
          ],
          "name": "stdout"
        }
      ]
    },
    {
      "cell_type": "code",
      "metadata": {
        "colab_type": "code",
        "id": "tFfAJZkcZEsY",
        "colab": {
          "base_uri": "https://localhost:8080/",
          "height": 1000
        },
        "outputId": "0f7c7143-3d3d-4966-fe29-2634a5f07207"
      },
      "source": [
        "nos_epochs = 1000\n",
        "focus_true_pred_true =0\n",
        "focus_false_pred_true =0\n",
        "focus_true_pred_false =0\n",
        "focus_false_pred_false =0\n",
        "\n",
        "argmax_more_than_half = 0\n",
        "argmax_less_than_half =0\n",
        "\n",
        "\n",
        "for epoch in range(nos_epochs):  # loop over the dataset multiple times\n",
        "\n",
        "  focus_true_pred_true =0\n",
        "  focus_false_pred_true =0\n",
        "  focus_true_pred_false =0\n",
        "  focus_false_pred_false =0\n",
        "  \n",
        "  argmax_more_than_half = 0\n",
        "  argmax_less_than_half =0\n",
        "  \n",
        "  running_loss = 0.0\n",
        "  epoch_loss = []\n",
        "  cnt=0\n",
        "  classify.train()\n",
        "  iteration = desired_num // batch\n",
        "  \n",
        "  #training data set\n",
        "  \n",
        "  for i, data in  enumerate(train_loader):\n",
        "    inputs , labels , fore_idx = data\n",
        "    inputs, labels = inputs.to(\"cuda\"), labels.to(\"cuda\")\n",
        "    # zero the parameter gradients\n",
        "    \n",
        "    optimizer_classify.zero_grad()\n",
        "    \n",
        "    outputs, alphas, avg_images = classify(inputs)\n",
        "\n",
        "    _, predicted = torch.max(outputs.data, 1)\n",
        "#     print(outputs)\n",
        "#     print(outputs.shape,labels.shape , torch.argmax(outputs, dim=1))\n",
        "\n",
        "    loss = criterion_classify(outputs, labels) \n",
        "    loss.backward()\n",
        "    optimizer_classify.step()\n",
        "    \n",
        "    running_loss += loss.item()\n",
        "    mini = 60\n",
        "    if cnt % mini == mini-1:    # print every 40 mini-batches\n",
        "      print('[%d, %5d] loss: %.3f' %(epoch + 1, cnt + 1, running_loss / mini))\n",
        "      epoch_loss.append(running_loss/mini)\n",
        "      running_loss = 0.0\n",
        "    cnt=cnt+1\n",
        "    \n",
        "    if epoch % 5 == 0:\n",
        "      for j in range (batch):\n",
        "        focus = torch.argmax(alphas[j])\n",
        "\n",
        "        if(alphas[j][focus] >= 0.5):\n",
        "          argmax_more_than_half +=1\n",
        "        else:\n",
        "          argmax_less_than_half +=1\n",
        "\n",
        "        if(focus == fore_idx[j] and predicted[j] == labels[j]):\n",
        "          focus_true_pred_true += 1\n",
        "\n",
        "        elif(focus != fore_idx[j] and predicted[j] == labels[j]):\n",
        "          focus_false_pred_true +=1\n",
        "\n",
        "        elif(focus == fore_idx[j] and predicted[j] != labels[j]):\n",
        "          focus_true_pred_false +=1\n",
        "\n",
        "        elif(focus != fore_idx[j] and predicted[j] != labels[j]):\n",
        "          focus_false_pred_false +=1\n",
        "\n",
        "  if(np.mean(epoch_loss) <= 0.005):\n",
        "      break;\n",
        "\n",
        "  if epoch % 5 == 0:\n",
        "    col1.append(epoch+1)\n",
        "    col2.append(argmax_more_than_half)\n",
        "    col3.append(argmax_less_than_half)\n",
        "    col4.append(focus_true_pred_true)\n",
        "    col5.append(focus_false_pred_true)\n",
        "    col6.append(focus_true_pred_false)\n",
        "    col7.append(focus_false_pred_false)\n",
        "    print(\"train\",col4)\n",
        "  \n",
        "    #************************************************************************\n",
        "    #testing data set\n",
        "    classify.eval()  \n",
        "    with torch.no_grad():\n",
        "      focus_true_pred_true =0\n",
        "      focus_false_pred_true =0\n",
        "      focus_true_pred_false =0\n",
        "      focus_false_pred_false =0\n",
        "\n",
        "      argmax_more_than_half = 0\n",
        "      argmax_less_than_half =0\n",
        "      for data in test_loader:\n",
        "        inputs, labels , fore_idx = data\n",
        "        inputs, labels = inputs.to(\"cuda\"), labels.to(\"cuda\")\n",
        "        outputs, alphas, avg_images = classify(inputs)\n",
        "        _, predicted = torch.max(outputs.data, 1)\n",
        "\n",
        "        for j in range (batch):\n",
        "          focus = torch.argmax(alphas[j])\n",
        "\n",
        "          if(alphas[j][focus] >= 0.5):\n",
        "            argmax_more_than_half +=1\n",
        "          else:\n",
        "            argmax_less_than_half +=1\n",
        "\n",
        "          if(focus == fore_idx[j] and predicted[j] == labels[j]):\n",
        "            focus_true_pred_true += 1\n",
        "\n",
        "          elif(focus != fore_idx[j] and predicted[j] == labels[j]):\n",
        "            focus_false_pred_true +=1\n",
        "\n",
        "          elif(focus == fore_idx[j] and predicted[j] != labels[j]):\n",
        "            focus_true_pred_false +=1\n",
        "\n",
        "          elif(focus != fore_idx[j] and predicted[j] != labels[j]):\n",
        "            focus_false_pred_false +=1\n",
        "      \n",
        "    col8.append(argmax_more_than_half)\n",
        "    col9.append(argmax_less_than_half)\n",
        "    col10.append(focus_true_pred_true)\n",
        "    col11.append(focus_false_pred_true)\n",
        "    col12.append(focus_true_pred_false)\n",
        "    col13.append(focus_false_pred_false)\n",
        "    print(\"test\",col10)\n",
        "    \n",
        "print('Finished Training')"
      ],
      "execution_count": 25,
      "outputs": [
        {
          "output_type": "stream",
          "text": [
            "[1,    60] loss: 1.100\n",
            "[1,   120] loss: 1.097\n",
            "[1,   180] loss: 1.095\n",
            "[1,   240] loss: 1.085\n",
            "train [9836, 11861]\n",
            "test [3277, 4726]\n",
            "[2,    60] loss: 1.005\n",
            "[2,   120] loss: 0.897\n",
            "[2,   180] loss: 0.736\n",
            "[2,   240] loss: 0.644\n",
            "[3,    60] loss: 0.576\n",
            "[3,   120] loss: 0.516\n",
            "[3,   180] loss: 0.477\n",
            "[3,   240] loss: 0.488\n",
            "[4,    60] loss: 0.456\n",
            "[4,   120] loss: 0.437\n",
            "[4,   180] loss: 0.408\n",
            "[4,   240] loss: 0.418\n",
            "[5,    60] loss: 0.366\n",
            "[5,   120] loss: 0.355\n",
            "[5,   180] loss: 0.332\n",
            "[5,   240] loss: 0.327\n",
            "[6,    60] loss: 0.306\n",
            "[6,   120] loss: 0.273\n",
            "[6,   180] loss: 0.273\n",
            "[6,   240] loss: 0.249\n",
            "train [9836, 11861, 26823]\n",
            "test [3277, 4726, 8656]\n",
            "[7,    60] loss: 0.228\n",
            "[7,   120] loss: 0.215\n",
            "[7,   180] loss: 0.207\n",
            "[7,   240] loss: 0.198\n",
            "[8,    60] loss: 0.167\n",
            "[8,   120] loss: 0.158\n",
            "[8,   180] loss: 0.163\n",
            "[8,   240] loss: 0.148\n",
            "[9,    60] loss: 0.118\n",
            "[9,   120] loss: 0.128\n",
            "[9,   180] loss: 0.141\n",
            "[9,   240] loss: 0.116\n",
            "[10,    60] loss: 0.083\n",
            "[10,   120] loss: 0.083\n",
            "[10,   180] loss: 0.086\n",
            "[10,   240] loss: 0.079\n",
            "[11,    60] loss: 0.064\n",
            "[11,   120] loss: 0.063\n",
            "[11,   180] loss: 0.054\n",
            "[11,   240] loss: 0.071\n",
            "train [9836, 11861, 26823, 29345]\n",
            "test [3277, 4726, 8656, 9087]\n",
            "[12,    60] loss: 0.057\n",
            "[12,   120] loss: 0.045\n",
            "[12,   180] loss: 0.053\n",
            "[12,   240] loss: 0.047\n",
            "[13,    60] loss: 0.031\n",
            "[13,   120] loss: 0.030\n",
            "[13,   180] loss: 0.044\n",
            "[13,   240] loss: 0.033\n",
            "[14,    60] loss: 0.034\n",
            "[14,   120] loss: 0.021\n",
            "[14,   180] loss: 0.025\n",
            "[14,   240] loss: 0.029\n",
            "[15,    60] loss: 0.016\n",
            "[15,   120] loss: 0.038\n",
            "[15,   180] loss: 0.022\n",
            "[15,   240] loss: 0.013\n",
            "[16,    60] loss: 0.009\n",
            "[16,   120] loss: 0.011\n",
            "[16,   180] loss: 0.034\n",
            "[16,   240] loss: 0.024\n",
            "train [9836, 11861, 26823, 29345, 29815]\n",
            "test [3277, 4726, 8656, 9087, 9292]\n",
            "[17,    60] loss: 0.017\n",
            "[17,   120] loss: 0.018\n",
            "[17,   180] loss: 0.015\n",
            "[17,   240] loss: 0.018\n",
            "[18,    60] loss: 0.018\n",
            "[18,   120] loss: 0.022\n",
            "[18,   180] loss: 0.017\n",
            "[18,   240] loss: 0.015\n",
            "[19,    60] loss: 0.009\n",
            "[19,   120] loss: 0.014\n",
            "[19,   180] loss: 0.023\n",
            "[19,   240] loss: 0.013\n",
            "[20,    60] loss: 0.006\n",
            "[20,   120] loss: 0.005\n",
            "[20,   180] loss: 0.005\n",
            "[20,   240] loss: 0.015\n",
            "[21,    60] loss: 0.018\n",
            "[21,   120] loss: 0.017\n",
            "[21,   180] loss: 0.015\n",
            "[21,   240] loss: 0.028\n",
            "train [9836, 11861, 26823, 29345, 29815, 29801]\n",
            "test [3277, 4726, 8656, 9087, 9292, 9318]\n",
            "[22,    60] loss: 0.010\n",
            "[22,   120] loss: 0.006\n",
            "[22,   180] loss: 0.014\n",
            "[22,   240] loss: 0.012\n",
            "[23,    60] loss: 0.003\n",
            "[23,   120] loss: 0.002\n",
            "[23,   180] loss: 0.005\n",
            "[23,   240] loss: 0.004\n",
            "Finished Training\n"
          ],
          "name": "stdout"
        }
      ]
    },
    {
      "cell_type": "code",
      "metadata": {
        "id": "O0snZVb4pkGp",
        "colab_type": "code",
        "colab": {
          "base_uri": "https://localhost:8080/",
          "height": 35
        },
        "outputId": "5f35bd59-d06d-4e2f-bf30-21b63ab47328"
      },
      "source": [
        "for params in focus_net.parameters():\n",
        "  print(params.requires_grad)\n",
        "  break;"
      ],
      "execution_count": 26,
      "outputs": [
        {
          "output_type": "stream",
          "text": [
            "False\n"
          ],
          "name": "stdout"
        }
      ]
    },
    {
      "cell_type": "code",
      "metadata": {
        "id": "VToKa651tMtc",
        "colab_type": "code",
        "colab": {}
      },
      "source": [
        "# for params in focus_net.parameters():\n",
        "#   print(params)\n",
        "#   break;"
      ],
      "execution_count": 27,
      "outputs": []
    },
    {
      "cell_type": "code",
      "metadata": {
        "id": "OBkrx7vTnEJw",
        "colab_type": "code",
        "colab": {}
      },
      "source": [
        "name = \"8_focus_pretrained_classify_random_train_classify\""
      ],
      "execution_count": 28,
      "outputs": []
    },
    {
      "cell_type": "code",
      "metadata": {
        "id": "G5kPCVrwpM3b",
        "colab_type": "code",
        "colab": {
          "base_uri": "https://localhost:8080/",
          "height": 35
        },
        "outputId": "ff51e07e-2d6d-4878-a49b-d2d78fe4846b"
      },
      "source": [
        "print(name)"
      ],
      "execution_count": 29,
      "outputs": [
        {
          "output_type": "stream",
          "text": [
            "8_focus_pretrained_classify_random_train_classify\n"
          ],
          "name": "stdout"
        }
      ]
    },
    {
      "cell_type": "code",
      "metadata": {
        "id": "WIAJ3UZN8rPE",
        "colab_type": "code",
        "colab": {}
      },
      "source": [
        "torch.save(classify.state_dict(),\"/content/drive/My Drive/Research/Cheating_data/16_experiments_on_cnn_6_3_layers/\"+name+\".pt\")"
      ],
      "execution_count": 30,
      "outputs": []
    },
    {
      "cell_type": "code",
      "metadata": {
        "id": "2LgQKXW-8MH-",
        "colab_type": "code",
        "colab": {}
      },
      "source": [
        "columns = [\"epochs\", \"argmax > 0.5\" ,\"argmax < 0.5\", \"focus_true_pred_true\", \"focus_false_pred_true\", \"focus_true_pred_false\", \"focus_false_pred_false\" ]"
      ],
      "execution_count": 31,
      "outputs": []
    },
    {
      "cell_type": "code",
      "metadata": {
        "id": "tSKphM888Y5o",
        "colab_type": "code",
        "colab": {}
      },
      "source": [
        "df_train = pd.DataFrame()\n",
        "df_test = pd.DataFrame()"
      ],
      "execution_count": 32,
      "outputs": []
    },
    {
      "cell_type": "code",
      "metadata": {
        "id": "FrWoEGXZ8cBO",
        "colab_type": "code",
        "colab": {}
      },
      "source": [
        "df_train[columns[0]] = col1\n",
        "df_train[columns[1]] = col2\n",
        "df_train[columns[2]] = col3\n",
        "df_train[columns[3]] = col4\n",
        "df_train[columns[4]] = col5\n",
        "df_train[columns[5]] = col6\n",
        "df_train[columns[6]] = col7\n",
        "\n",
        "df_test[columns[0]] = col1\n",
        "df_test[columns[1]] = col8\n",
        "df_test[columns[2]] = col9\n",
        "df_test[columns[3]] = col10\n",
        "df_test[columns[4]] = col11\n",
        "df_test[columns[5]] = col12\n",
        "df_test[columns[6]] = col13"
      ],
      "execution_count": 33,
      "outputs": []
    },
    {
      "cell_type": "code",
      "metadata": {
        "id": "RGJoMFcK8eTe",
        "colab_type": "code",
        "colab": {
          "base_uri": "https://localhost:8080/",
          "height": 237
        },
        "outputId": "2155e62b-efa4-4dcd-b234-978ee0ab064f"
      },
      "source": [
        "df_train"
      ],
      "execution_count": 34,
      "outputs": [
        {
          "output_type": "execute_result",
          "data": {
            "text/html": [
              "<div>\n",
              "<style scoped>\n",
              "    .dataframe tbody tr th:only-of-type {\n",
              "        vertical-align: middle;\n",
              "    }\n",
              "\n",
              "    .dataframe tbody tr th {\n",
              "        vertical-align: top;\n",
              "    }\n",
              "\n",
              "    .dataframe thead th {\n",
              "        text-align: right;\n",
              "    }\n",
              "</style>\n",
              "<table border=\"1\" class=\"dataframe\">\n",
              "  <thead>\n",
              "    <tr style=\"text-align: right;\">\n",
              "      <th></th>\n",
              "      <th>epochs</th>\n",
              "      <th>argmax &gt; 0.5</th>\n",
              "      <th>argmax &lt; 0.5</th>\n",
              "      <th>focus_true_pred_true</th>\n",
              "      <th>focus_false_pred_true</th>\n",
              "      <th>focus_true_pred_false</th>\n",
              "      <th>focus_false_pred_false</th>\n",
              "    </tr>\n",
              "  </thead>\n",
              "  <tbody>\n",
              "    <tr>\n",
              "      <th>0</th>\n",
              "      <td>0</td>\n",
              "      <td>29071</td>\n",
              "      <td>929</td>\n",
              "      <td>9836</td>\n",
              "      <td>83</td>\n",
              "      <td>18880</td>\n",
              "      <td>1201</td>\n",
              "    </tr>\n",
              "    <tr>\n",
              "      <th>1</th>\n",
              "      <td>1</td>\n",
              "      <td>30000</td>\n",
              "      <td>0</td>\n",
              "      <td>11861</td>\n",
              "      <td>2</td>\n",
              "      <td>18132</td>\n",
              "      <td>5</td>\n",
              "    </tr>\n",
              "    <tr>\n",
              "      <th>2</th>\n",
              "      <td>6</td>\n",
              "      <td>30000</td>\n",
              "      <td>0</td>\n",
              "      <td>26823</td>\n",
              "      <td>5</td>\n",
              "      <td>3172</td>\n",
              "      <td>0</td>\n",
              "    </tr>\n",
              "    <tr>\n",
              "      <th>3</th>\n",
              "      <td>11</td>\n",
              "      <td>30000</td>\n",
              "      <td>0</td>\n",
              "      <td>29345</td>\n",
              "      <td>3</td>\n",
              "      <td>650</td>\n",
              "      <td>2</td>\n",
              "    </tr>\n",
              "    <tr>\n",
              "      <th>4</th>\n",
              "      <td>16</td>\n",
              "      <td>29999</td>\n",
              "      <td>1</td>\n",
              "      <td>29815</td>\n",
              "      <td>2</td>\n",
              "      <td>181</td>\n",
              "      <td>2</td>\n",
              "    </tr>\n",
              "    <tr>\n",
              "      <th>5</th>\n",
              "      <td>21</td>\n",
              "      <td>30000</td>\n",
              "      <td>0</td>\n",
              "      <td>29801</td>\n",
              "      <td>0</td>\n",
              "      <td>199</td>\n",
              "      <td>0</td>\n",
              "    </tr>\n",
              "  </tbody>\n",
              "</table>\n",
              "</div>"
            ],
            "text/plain": [
              "   epochs  argmax > 0.5  ...  focus_true_pred_false  focus_false_pred_false\n",
              "0       0         29071  ...                  18880                    1201\n",
              "1       1         30000  ...                  18132                       5\n",
              "2       6         30000  ...                   3172                       0\n",
              "3      11         30000  ...                    650                       2\n",
              "4      16         29999  ...                    181                       2\n",
              "5      21         30000  ...                    199                       0\n",
              "\n",
              "[6 rows x 7 columns]"
            ]
          },
          "metadata": {
            "tags": []
          },
          "execution_count": 34
        }
      ]
    },
    {
      "cell_type": "code",
      "metadata": {
        "id": "Ei9HVQBZ8gn4",
        "colab_type": "code",
        "colab": {
          "base_uri": "https://localhost:8080/",
          "height": 573
        },
        "outputId": "c1027a96-35f6-442e-bb6c-deafa31a3da0"
      },
      "source": [
        "# plt.figure(12,12)\n",
        "plt.plot(col1,col2, label='argmax > 0.5')\n",
        "plt.plot(col1,col3, label='argmax < 0.5')\n",
        "\n",
        "plt.legend(loc='center left', bbox_to_anchor=(1, 0.5))\n",
        "plt.xlabel(\"epochs\")\n",
        "plt.ylabel(\"training data\")\n",
        "plt.title(\"On Training set\")\n",
        "plt.show()\n",
        "\n",
        "plt.plot(col1,col4, label =\"focus_true_pred_true \")\n",
        "plt.plot(col1,col5, label =\"focus_false_pred_true \")\n",
        "plt.plot(col1,col6, label =\"focus_true_pred_false \")\n",
        "plt.plot(col1,col7, label =\"focus_false_pred_false \")\n",
        "plt.title(\"On Training set\")\n",
        "plt.legend(loc='center left', bbox_to_anchor=(1, 0.5))\n",
        "plt.xlabel(\"epochs\")\n",
        "plt.ylabel(\"training data\")\n",
        "plt.show()"
      ],
      "execution_count": 35,
      "outputs": [
        {
          "output_type": "display_data",
          "data": {
            "image/png": "[encoded data removed]",
            "text/plain": [
              "<Figure size 432x288 with 1 Axes>"
            ]
          },
          "metadata": {
            "tags": [],
            "needs_background": "light"
          }
        },
        {
          "output_type": "display_data",
          "data": {
            "image/png": "[encoded data removed]",
            "text/plain": [
              "<Figure size 432x288 with 1 Axes>"
            ]
          },
          "metadata": {
            "tags": [],
            "needs_background": "light"
          }
        }
      ]
    },
    {
      "cell_type": "code",
      "metadata": {
        "id": "_QKYVO8i8ivA",
        "colab_type": "code",
        "colab": {
          "base_uri": "https://localhost:8080/",
          "height": 237
        },
        "outputId": "311f861d-275f-49df-9c25-5c3ac42d93ef"
      },
      "source": [
        "df_test"
      ],
      "execution_count": 36,
      "outputs": [
        {
          "output_type": "execute_result",
          "data": {
            "text/html": [
              "<div>\n",
              "<style scoped>\n",
              "    .dataframe tbody tr th:only-of-type {\n",
              "        vertical-align: middle;\n",
              "    }\n",
              "\n",
              "    .dataframe tbody tr th {\n",
              "        vertical-align: top;\n",
              "    }\n",
              "\n",
              "    .dataframe thead th {\n",
              "        text-align: right;\n",
              "    }\n",
              "</style>\n",
              "<table border=\"1\" class=\"dataframe\">\n",
              "  <thead>\n",
              "    <tr style=\"text-align: right;\">\n",
              "      <th></th>\n",
              "      <th>epochs</th>\n",
              "      <th>argmax &gt; 0.5</th>\n",
              "      <th>argmax &lt; 0.5</th>\n",
              "      <th>focus_true_pred_true</th>\n",
              "      <th>focus_false_pred_true</th>\n",
              "      <th>focus_true_pred_false</th>\n",
              "      <th>focus_false_pred_false</th>\n",
              "    </tr>\n",
              "  </thead>\n",
              "  <tbody>\n",
              "    <tr>\n",
              "      <th>0</th>\n",
              "      <td>0</td>\n",
              "      <td>9672</td>\n",
              "      <td>328</td>\n",
              "      <td>3277</td>\n",
              "      <td>27</td>\n",
              "      <td>6276</td>\n",
              "      <td>420</td>\n",
              "    </tr>\n",
              "    <tr>\n",
              "      <th>1</th>\n",
              "      <td>1</td>\n",
              "      <td>9729</td>\n",
              "      <td>271</td>\n",
              "      <td>4726</td>\n",
              "      <td>271</td>\n",
              "      <td>4852</td>\n",
              "      <td>151</td>\n",
              "    </tr>\n",
              "    <tr>\n",
              "      <th>2</th>\n",
              "      <td>6</td>\n",
              "      <td>9733</td>\n",
              "      <td>267</td>\n",
              "      <td>8656</td>\n",
              "      <td>258</td>\n",
              "      <td>914</td>\n",
              "      <td>172</td>\n",
              "    </tr>\n",
              "    <tr>\n",
              "      <th>3</th>\n",
              "      <td>11</td>\n",
              "      <td>9733</td>\n",
              "      <td>267</td>\n",
              "      <td>9087</td>\n",
              "      <td>229</td>\n",
              "      <td>475</td>\n",
              "      <td>209</td>\n",
              "    </tr>\n",
              "    <tr>\n",
              "      <th>4</th>\n",
              "      <td>16</td>\n",
              "      <td>9723</td>\n",
              "      <td>277</td>\n",
              "      <td>9292</td>\n",
              "      <td>245</td>\n",
              "      <td>276</td>\n",
              "      <td>187</td>\n",
              "    </tr>\n",
              "    <tr>\n",
              "      <th>5</th>\n",
              "      <td>21</td>\n",
              "      <td>9734</td>\n",
              "      <td>266</td>\n",
              "      <td>9318</td>\n",
              "      <td>245</td>\n",
              "      <td>245</td>\n",
              "      <td>192</td>\n",
              "    </tr>\n",
              "  </tbody>\n",
              "</table>\n",
              "</div>"
            ],
            "text/plain": [
              "   epochs  argmax > 0.5  ...  focus_true_pred_false  focus_false_pred_false\n",
              "0       0          9672  ...                   6276                     420\n",
              "1       1          9729  ...                   4852                     151\n",
              "2       6          9733  ...                    914                     172\n",
              "3      11          9733  ...                    475                     209\n",
              "4      16          9723  ...                    276                     187\n",
              "5      21          9734  ...                    245                     192\n",
              "\n",
              "[6 rows x 7 columns]"
            ]
          },
          "metadata": {
            "tags": []
          },
          "execution_count": 36
        }
      ]
    },
    {
      "cell_type": "code",
      "metadata": {
        "id": "aRlpgnjy8k1n",
        "colab_type": "code",
        "colab": {
          "base_uri": "https://localhost:8080/",
          "height": 573
        },
        "outputId": "1e46e99e-2da2-4df4-9d25-f1929599a3b0"
      },
      "source": [
        "# plt.figure(12,12)\n",
        "plt.plot(col1,col8, label='argmax > 0.5')\n",
        "plt.plot(col1,col9, label='argmax < 0.5')\n",
        "\n",
        "plt.legend(loc='center left', bbox_to_anchor=(1, 0.5))\n",
        "plt.xlabel(\"epochs\")\n",
        "plt.ylabel(\"Testing data\")\n",
        "plt.title(\"On Testing set\")\n",
        "plt.show()\n",
        "\n",
        "plt.plot(col1,col10, label =\"focus_true_pred_true \")\n",
        "plt.plot(col1,col11, label =\"focus_false_pred_true \")\n",
        "plt.plot(col1,col12, label =\"focus_true_pred_false \")\n",
        "plt.plot(col1,col13, label =\"focus_false_pred_false \")\n",
        "plt.title(\"On Testing set\")\n",
        "plt.legend(loc='center left', bbox_to_anchor=(1, 0.5))\n",
        "plt.xlabel(\"epochs\")\n",
        "plt.ylabel(\"Testing data\")\n",
        "plt.show()"
      ],
      "execution_count": 37,
      "outputs": [
        {
          "output_type": "display_data",
          "data": {
            "image/png": "[encoded data removed]",
            "text/plain": [
              "<Figure size 432x288 with 1 Axes>"
            ]
          },
          "metadata": {
            "tags": [],
            "needs_background": "light"
          }
        },
        {
          "output_type": "display_data",
          "data": {
            "image/png": "[encoded data removed]",
            "text/plain": [
              "<Figure size 432x288 with 1 Axes>"
            ]
          },
          "metadata": {
            "tags": [],
            "needs_background": "light"
          }
        }
      ]
    },
    {
      "cell_type": "code",
      "metadata": {
        "id": "JsHb_Ed-bBOh",
        "colab_type": "code",
        "colab": {
          "base_uri": "https://localhost:8080/",
          "height": 217
        },
        "outputId": "25a07afc-720d-4144-fed3-da99aa7bf02b"
      },
      "source": [
        "correct = 0\n",
        "total = 0\n",
        "count = 0\n",
        "flag = 1\n",
        "focus_true_pred_true =0\n",
        "focus_false_pred_true =0\n",
        "focus_true_pred_false =0\n",
        "focus_false_pred_false =0\n",
        "\n",
        "argmax_more_than_half = 0\n",
        "argmax_less_than_half =0\n",
        "\n",
        "with torch.no_grad():\n",
        "  for data in train_loader:\n",
        "    inputs, labels , fore_idx = data\n",
        "    inputs, labels , fore_idx = inputs.to(\"cuda\"),labels.to(\"cuda\"), fore_idx.to(\"cuda\")\n",
        "    outputs, alphas, avg_images = classify(inputs)\n",
        "\n",
        "    _, predicted = torch.max(outputs.data, 1)\n",
        "\n",
        "    for j in range(labels.size(0)):\n",
        "      count += 1\n",
        "      focus = torch.argmax(alphas[j])\n",
        "      if alphas[j][focus] >= 0.5 :\n",
        "        argmax_more_than_half += 1\n",
        "      else:\n",
        "        argmax_less_than_half += 1\n",
        "\n",
        "      if(focus == fore_idx[j] and predicted[j] == labels[j]):\n",
        "          focus_true_pred_true += 1\n",
        "      elif(focus != fore_idx[j] and predicted[j] == labels[j]):\n",
        "        focus_false_pred_true += 1\n",
        "      elif(focus == fore_idx[j] and predicted[j] != labels[j]):\n",
        "        focus_true_pred_false += 1\n",
        "      elif(focus != fore_idx[j] and predicted[j] != labels[j]):\n",
        "        focus_false_pred_false += 1\n",
        "\n",
        "    total += labels.size(0)\n",
        "    correct += (predicted == labels).sum().item()\n",
        "\n",
        "print('Accuracy of the network on the 30000 train images: %d %%' % ( 100 * correct / total))\n",
        "print(\"total correct\", correct)\n",
        "print(\"total train set images\", total)\n",
        "\n",
        "print(\"focus_true_pred_true %d =============> FTPT : %d %%\" % (focus_true_pred_true , (100 * focus_true_pred_true / total) ) )\n",
        "print(\"focus_false_pred_true %d =============> FFPT : %d %%\" % (focus_false_pred_true, (100 * focus_false_pred_true / total) ) )\n",
        "print(\"focus_true_pred_false %d =============> FTPF : %d %%\" %( focus_true_pred_false , ( 100 * focus_true_pred_false / total) ) )\n",
        "print(\"focus_false_pred_false %d =============> FFPF : %d %%\" % (focus_false_pred_false, ( 100 * focus_false_pred_false / total) ) )\n",
        "\n",
        "print(\"argmax_more_than_half ==================> \",argmax_more_than_half)\n",
        "print(\"argmax_less_than_half ==================> \",argmax_less_than_half)\n",
        "print(count)\n",
        "\n",
        "print(\"=\"*100)"
      ],
      "execution_count": 38,
      "outputs": [
        {
          "output_type": "stream",
          "text": [
            "Accuracy of the network on the 30000 train images: 99 %\n",
            "total correct 29987\n",
            "total train set images 30000\n",
            "focus_true_pred_true 29985 =============> FTPT : 99 %\n",
            "focus_false_pred_true 2 =============> FFPT : 0 %\n",
            "focus_true_pred_false 13 =============> FTPF : 0 %\n",
            "focus_false_pred_false 0 =============> FFPF : 0 %\n",
            "argmax_more_than_half ==================>  30000\n",
            "argmax_less_than_half ==================>  0\n",
            "30000\n",
            "====================================================================================================\n"
          ],
          "name": "stdout"
        }
      ]
    },
    {
      "cell_type": "code",
      "metadata": {
        "id": "I0EntKmdbE45",
        "colab_type": "code",
        "colab": {
          "base_uri": "https://localhost:8080/",
          "height": 181
        },
        "outputId": "00b5f8c0-15c9-4af7-cb2a-e2320ad16752"
      },
      "source": [
        "correct = 0\n",
        "total = 0\n",
        "count = 0\n",
        "flag = 1\n",
        "focus_true_pred_true =0\n",
        "focus_false_pred_true =0\n",
        "focus_true_pred_false =0\n",
        "focus_false_pred_false =0\n",
        "\n",
        "argmax_more_than_half = 0\n",
        "argmax_less_than_half =0\n",
        "\n",
        "with torch.no_grad():\n",
        "  for data in test_loader:\n",
        "    inputs, labels , fore_idx = data\n",
        "    inputs, labels , fore_idx = inputs.to(\"cuda\"),labels.to(\"cuda\"), fore_idx.to(\"cuda\")\n",
        "    outputs, alphas, avg_images = classify(inputs)\n",
        "\n",
        "    _, predicted = torch.max(outputs.data, 1)\n",
        "\n",
        "    for j in range(labels.size(0)):\n",
        "      focus = torch.argmax(alphas[j])\n",
        "      if alphas[j][focus] >= 0.5 :\n",
        "        argmax_more_than_half += 1\n",
        "      else:\n",
        "        argmax_less_than_half += 1\n",
        "\n",
        "      if(focus == fore_idx[j] and predicted[j] == labels[j]):\n",
        "          focus_true_pred_true += 1\n",
        "      elif(focus != fore_idx[j] and predicted[j] == labels[j]):\n",
        "        focus_false_pred_true += 1\n",
        "      elif(focus == fore_idx[j] and predicted[j] != labels[j]):\n",
        "        focus_true_pred_false += 1\n",
        "      elif(focus != fore_idx[j] and predicted[j] != labels[j]):\n",
        "        focus_false_pred_false += 1\n",
        "\n",
        "    total += labels.size(0)\n",
        "    correct += (predicted == labels).sum().item()\n",
        "\n",
        "print('Accuracy of the network on the 10000 test images: %d %%' % (\n",
        "    100 * correct / total))\n",
        "print(\"total correct\", correct)\n",
        "print(\"total train set images\", total)\n",
        "\n",
        "print(\"focus_true_pred_true %d =============> FTPT : %d %%\" % (focus_true_pred_true , (100 * focus_true_pred_true / total) ) )\n",
        "print(\"focus_false_pred_true %d =============> FFPT : %d %%\" % (focus_false_pred_true, (100 * focus_false_pred_true / total) ) )\n",
        "print(\"focus_true_pred_false %d =============> FTPF : %d %%\" %( focus_true_pred_false , ( 100 * focus_true_pred_false / total) ) )\n",
        "print(\"focus_false_pred_false %d =============> FFPF : %d %%\" % (focus_false_pred_false, ( 100 * focus_false_pred_false / total) ) )\n",
        "\n",
        "print(\"argmax_more_than_half ==================> \",argmax_more_than_half)\n",
        "print(\"argmax_less_than_half ==================> \",argmax_less_than_half)"
      ],
      "execution_count": 39,
      "outputs": [
        {
          "output_type": "stream",
          "text": [
            "Accuracy of the network on the 10000 test images: 98 %\n",
            "total correct 9888\n",
            "total train set images 10000\n",
            "focus_true_pred_true 9886 =============> FTPT : 98 %\n",
            "focus_false_pred_true 2 =============> FFPT : 0 %\n",
            "focus_true_pred_false 112 =============> FTPF : 1 %\n",
            "focus_false_pred_false 0 =============> FFPF : 0 %\n",
            "argmax_more_than_half ==================>  10000\n",
            "argmax_less_than_half ==================>  0\n"
          ],
          "name": "stdout"
        }
      ]
    },
    {
      "cell_type": "code",
      "metadata": {
        "id": "iJEMJnUI9FP2",
        "colab_type": "code",
        "colab": {
          "base_uri": "https://localhost:8080/",
          "height": 72
        },
        "outputId": "590d500c-347e-488a-c74a-f3392555cab8"
      },
      "source": [
        "correct = 0\n",
        "total = 0\n",
        "# classify.eval()\n",
        "with torch.no_grad():\n",
        "  for data in train_loader:\n",
        "    inputs, labels , fore_idx = data\n",
        "    inputs, labels = inputs.to(\"cuda\"), labels.to(\"cuda\")\n",
        "    outputs, alphas, avg_images = classify(inputs)\n",
        "\n",
        "    _, predicted = torch.max(outputs.data, 1)\n",
        "\n",
        "    total += labels.size(0)\n",
        "    correct += (predicted == labels).sum().item()\n",
        "\n",
        "print('Accuracy of the network on the 30000 train images: %d %%' % ( 100 * correct / total))\n",
        "print(\"total correct\", correct)\n",
        "print(\"total train set images\", total)"
      ],
      "execution_count": 40,
      "outputs": [
        {
          "output_type": "stream",
          "text": [
            "Accuracy of the network on the 30000 train images: 99 %\n",
            "total correct 29985\n",
            "total train set images 30000\n"
          ],
          "name": "stdout"
        }
      ]
    },
    {
      "cell_type": "code",
      "metadata": {
        "id": "an7qmNLB-Ilb",
        "colab_type": "code",
        "colab": {
          "base_uri": "https://localhost:8080/",
          "height": 72
        },
        "outputId": "260c479d-bb01-4784-a342-50fab6874b10"
      },
      "source": [
        "correct = 0\n",
        "total = 0\n",
        "\n",
        "# classify.eval()\n",
        "with torch.no_grad():\n",
        "  for data in test_loader:\n",
        "    inputs, labels , fore_idx = data\n",
        "    inputs, labels = inputs.to(\"cuda\"), labels.to(\"cuda\")\n",
        "    outputs, alphas, avg_images = classify(inputs)\n",
        "\n",
        "    _, predicted = torch.max(outputs.data, 1)\n",
        "\n",
        "    total += labels.size(0)\n",
        "    correct += (predicted == labels).sum().item()\n",
        "\n",
        "print('Accuracy of the network on the 10000 test images: %d %%' % ( 100 * correct / total))\n",
        "print(\"total correct\", correct)\n",
        "print(\"total train set images\", total)"
      ],
      "execution_count": 41,
      "outputs": [
        {
          "output_type": "stream",
          "text": [
            "Accuracy of the network on the 10000 test images: 98 %\n",
            "total correct 9888\n",
            "total train set images 10000\n"
          ],
          "name": "stdout"
        }
      ]
    },
    {
      "cell_type": "code",
      "metadata": {
        "id": "mxlsYz5P0z6Z",
        "colab_type": "code",
        "colab": {}
      },
      "source": [
        ""
      ],
      "execution_count": 41,
      "outputs": []
    }
  ]
}