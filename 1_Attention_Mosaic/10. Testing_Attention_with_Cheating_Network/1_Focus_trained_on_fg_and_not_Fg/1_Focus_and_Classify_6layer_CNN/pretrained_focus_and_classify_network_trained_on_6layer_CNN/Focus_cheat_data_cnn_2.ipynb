{
  "nbformat": 4,
  "nbformat_minor": 0,
  "metadata": {
    "accelerator": "GPU",
    "colab": {
      "name": "Focus_cheat_data_cnn.ipynb",
      "provenance": [],
      "collapsed_sections": [],
      "machine_shape": "hm"
    },
    "kernelspec": {
      "display_name": "Python 3",
      "language": "python",
      "name": "python3"
    },
    "language_info": {
      "codemirror_mode": {
        "name": "ipython",
        "version": 3
      },
      "file_extension": ".py",
      "mimetype": "text/x-python",
      "name": "python",
      "nbconvert_exporter": "python",
      "pygments_lexer": "ipython3",
      "version": "3.6.5"
    }
  },
  "cells": [
    {
      "cell_type": "code",
      "metadata": {
        "colab_type": "code",
        "id": "JSjG64ra4aFu",
        "colab": {
          "base_uri": "https://localhost:8080/",
          "height": 35
        },
        "outputId": "412d6c88-0f1b-449b-81f6-1b9b0d4e2150"
      },
      "source": [
        "from google.colab import drive\n",
        "drive.mount('/content/drive')"
      ],
      "execution_count": 27,
      "outputs": [
        {
          "output_type": "stream",
          "text": [
            "Drive already mounted at /content/drive; to attempt to forcibly remount, call drive.mount(\"/content/drive\", force_remount=True).\n"
          ],
          "name": "stdout"
        }
      ]
    },
    {
      "cell_type": "code",
      "metadata": {
        "colab_type": "code",
        "id": "V8-7SARDZErK",
        "colab": {}
      },
      "source": [
        "import torch.nn as nn\n",
        "import torch.nn.functional as F\n",
        "\n",
        "import pandas as pd\n",
        "import numpy as np\n",
        "import matplotlib.pyplot as plt\n",
        "\n",
        "import torch\n",
        "import torchvision\n",
        "import torchvision.transforms as transforms\n",
        "from torch.utils.data import Dataset, DataLoader\n",
        "from torchvision import transforms, utils\n",
        "\n",
        "from matplotlib import pyplot as plt\n",
        "\n",
        "import copy\n",
        "\n",
        "# Ignore warnings\n",
        "import warnings\n",
        "warnings.filterwarnings(\"ignore\")\n"
      ],
      "execution_count": 28,
      "outputs": []
    },
    {
      "cell_type": "code",
      "metadata": {
        "colab_type": "code",
        "id": "acRFqJNrZErV",
        "colab": {
          "base_uri": "https://localhost:8080/",
          "height": 53
        },
        "outputId": "9373d277-4f92-4408-d631-5522a4d46cde"
      },
      "source": [
        "transform = transforms.Compose(\n",
        "    [transforms.ToTensor(),\n",
        "     transforms.Normalize((0.5, 0.5, 0.5), (0.5, 0.5, 0.5))])\n",
        "\n",
        "trainset = torchvision.datasets.CIFAR10(root='./data', train=True, download=True, transform=transform)\n",
        "\n",
        "\n",
        "testset = torchvision.datasets.CIFAR10(root='./data', train=False, download=True, transform=transform)\n"
      ],
      "execution_count": 29,
      "outputs": [
        {
          "output_type": "stream",
          "text": [
            "Files already downloaded and verified\n",
            "Files already downloaded and verified\n"
          ],
          "name": "stdout"
        }
      ]
    },
    {
      "cell_type": "code",
      "metadata": {
        "id": "Ip_hgswQOHeX",
        "colab_type": "code",
        "colab": {
          "base_uri": "https://localhost:8080/",
          "height": 35
        },
        "outputId": "a5936dab-40f6-42f7-de3a-7e4a9a39d49f"
      },
      "source": [
        "type(trainset.targets)\n",
        "type(trainset.data)"
      ],
      "execution_count": 30,
      "outputs": [
        {
          "output_type": "execute_result",
          "data": {
            "text/plain": [
              "numpy.ndarray"
            ]
          },
          "metadata": {
            "tags": []
          },
          "execution_count": 30
        }
      ]
    },
    {
      "cell_type": "code",
      "metadata": {
        "id": "gh5DXuAV1tp5",
        "colab_type": "code",
        "colab": {}
      },
      "source": [
        "# trainloader = torch.utils.data.DataLoader(trainset, batch_size=10, shuffle=True)\n",
        "# testloader = torch.utils.data.DataLoader(testset, batch_size=10, shuffle=False)\n",
        "\n",
        "\n",
        "classes = ('plane', 'car', 'bird', 'cat', 'deer', 'dog', 'frog', 'horse', 'ship', 'truck')\n",
        "\n",
        "foreground_classes = {'plane', 'car', 'bird'}\n",
        "\n",
        "background_classes = {'cat', 'deer', 'dog', 'frog', 'horse','ship', 'truck'}\n",
        "\n",
        "fg1,fg2,fg3 = 0,1,2"
      ],
      "execution_count": 31,
      "outputs": []
    },
    {
      "cell_type": "code",
      "metadata": {
        "colab_type": "code",
        "id": "V_JUhwCeZErk",
        "colab": {
          "base_uri": "https://localhost:8080/",
          "height": 35
        },
        "outputId": "50156960-1f7c-4424-eb1f-f5c11274ae4a"
      },
      "source": [
        "is_fg = [np.where(np.array(trainset.targets)==fg1)[0] , np.where(np.array(trainset.targets)==fg2)[0], np.where(np.array(trainset.targets)==fg3)[0]  ]\n",
        "# print(is_fg)\n",
        "is_fg = np.concatenate(is_fg,axis=0)\n",
        "print(is_fg, (is_fg).shape)"
      ],
      "execution_count": 32,
      "outputs": [
        {
          "output_type": "stream",
          "text": [
            "[   29    30    35 ... 49987 49991 49995] (15000,)\n"
          ],
          "name": "stdout"
        }
      ]
    },
    {
      "cell_type": "code",
      "metadata": {
        "id": "uW9MkktGysAp",
        "colab_type": "code",
        "colab": {
          "base_uri": "https://localhost:8080/",
          "height": 35
        },
        "outputId": "d5da1d1d-acc8-4cdb-c237-08fac6159cbd"
      },
      "source": [
        "all_index = np.arange(0,50000)\n",
        "all_index"
      ],
      "execution_count": 33,
      "outputs": [
        {
          "output_type": "execute_result",
          "data": {
            "text/plain": [
              "array([    0,     1,     2, ..., 49997, 49998, 49999])"
            ]
          },
          "metadata": {
            "tags": []
          },
          "execution_count": 33
        }
      ]
    },
    {
      "cell_type": "code",
      "metadata": {
        "id": "lWxkp87fNwnM",
        "colab_type": "code",
        "colab": {
          "base_uri": "https://localhost:8080/",
          "height": 35
        },
        "outputId": "e3e46839-b42b-4a03-bb06-ee530d65afa1"
      },
      "source": [
        "train_labels = np.array(trainset.targets)\n",
        "train_labels.shape"
      ],
      "execution_count": 34,
      "outputs": [
        {
          "output_type": "execute_result",
          "data": {
            "text/plain": [
              "(50000,)"
            ]
          },
          "metadata": {
            "tags": []
          },
          "execution_count": 34
        }
      ]
    },
    {
      "cell_type": "code",
      "metadata": {
        "id": "AJuGak6_zXgx",
        "colab_type": "code",
        "colab": {
          "base_uri": "https://localhost:8080/",
          "height": 35
        },
        "outputId": "341e4605-0771-445b-fd5d-072bfe3eccb6"
      },
      "source": [
        "train_labels[is_fg]=1\n",
        "train_labels[list(set(all_index)-set(is_fg))]=0\n",
        "train_labels"
      ],
      "execution_count": 35,
      "outputs": [
        {
          "output_type": "execute_result",
          "data": {
            "text/plain": [
              "array([0, 0, 0, ..., 0, 1, 1])"
            ]
          },
          "metadata": {
            "tags": []
          },
          "execution_count": 35
        }
      ]
    },
    {
      "cell_type": "code",
      "metadata": {
        "id": "IPvRxLk4zmXB",
        "colab_type": "code",
        "colab": {
          "base_uri": "https://localhost:8080/",
          "height": 35
        },
        "outputId": "b80ca346-6332-4c42-f00b-2d64730d3afa"
      },
      "source": [
        "np.count_nonzero(train_labels)"
      ],
      "execution_count": 36,
      "outputs": [
        {
          "output_type": "execute_result",
          "data": {
            "text/plain": [
              "15000"
            ]
          },
          "metadata": {
            "tags": []
          },
          "execution_count": 36
        }
      ]
    },
    {
      "cell_type": "code",
      "metadata": {
        "id": "II4R1Q2szwg9",
        "colab_type": "code",
        "colab": {}
      },
      "source": [
        "trainset.targets = train_labels"
      ],
      "execution_count": 37,
      "outputs": []
    },
    {
      "cell_type": "code",
      "metadata": {
        "colab_type": "code",
        "id": "ywcNP5ur2Btv",
        "colab": {
          "base_uri": "https://localhost:8080/",
          "height": 35
        },
        "outputId": "eb87b8b6-c3e6-4f4b-daf1-fd1d57318011"
      },
      "source": [
        "is_fg = [np.where(np.array(testset.targets)==fg1)[0] , np.where(np.array(testset.targets)==fg2)[0], np.where(np.array(testset.targets)==fg3)[0]  ]\n",
        "# print(is_fg)\n",
        "is_fg = np.concatenate(is_fg,axis=0)\n",
        "print(is_fg, (is_fg).shape)"
      ],
      "execution_count": 38,
      "outputs": [
        {
          "output_type": "stream",
          "text": [
            "[   3   10   21 ... 9970 9982 9989] (3000,)\n"
          ],
          "name": "stdout"
        }
      ]
    },
    {
      "cell_type": "code",
      "metadata": {
        "colab_type": "code",
        "id": "9jv5cZS_2BuK",
        "colab": {
          "base_uri": "https://localhost:8080/",
          "height": 35
        },
        "outputId": "c97d4b76-9c27-4f11-b197-d6c3f7232d2a"
      },
      "source": [
        "all_index = np.arange(0,10000)\n",
        "all_index"
      ],
      "execution_count": 39,
      "outputs": [
        {
          "output_type": "execute_result",
          "data": {
            "text/plain": [
              "array([   0,    1,    2, ..., 9997, 9998, 9999])"
            ]
          },
          "metadata": {
            "tags": []
          },
          "execution_count": 39
        }
      ]
    },
    {
      "cell_type": "code",
      "metadata": {
        "colab_type": "code",
        "id": "Cea4-tjj2BuV",
        "colab": {
          "base_uri": "https://localhost:8080/",
          "height": 35
        },
        "outputId": "93a2dbfb-b28b-49e5-c10e-d12fb79c8418"
      },
      "source": [
        "test_labels = np.array(testset.targets)\n",
        "test_labels.shape"
      ],
      "execution_count": 40,
      "outputs": [
        {
          "output_type": "execute_result",
          "data": {
            "text/plain": [
              "(10000,)"
            ]
          },
          "metadata": {
            "tags": []
          },
          "execution_count": 40
        }
      ]
    },
    {
      "cell_type": "code",
      "metadata": {
        "colab_type": "code",
        "id": "oWEsGmB22Bue",
        "colab": {
          "base_uri": "https://localhost:8080/",
          "height": 35
        },
        "outputId": "0af82d7b-d05e-4fa9-b27a-02ce75dd5f13"
      },
      "source": [
        "test_labels[is_fg]=1\n",
        "test_labels[list(set(all_index)-set(is_fg))]=0\n",
        "test_labels"
      ],
      "execution_count": 41,
      "outputs": [
        {
          "output_type": "execute_result",
          "data": {
            "text/plain": [
              "array([0, 0, 0, ..., 0, 1, 0])"
            ]
          },
          "metadata": {
            "tags": []
          },
          "execution_count": 41
        }
      ]
    },
    {
      "cell_type": "code",
      "metadata": {
        "colab_type": "code",
        "id": "qLcACXP42Buk",
        "colab": {
          "base_uri": "https://localhost:8080/",
          "height": 35
        },
        "outputId": "11496951-ae44-4dbe-b548-fb608e070da2"
      },
      "source": [
        "np.count_nonzero(test_labels)"
      ],
      "execution_count": 42,
      "outputs": [
        {
          "output_type": "execute_result",
          "data": {
            "text/plain": [
              "3000"
            ]
          },
          "metadata": {
            "tags": []
          },
          "execution_count": 42
        }
      ]
    },
    {
      "cell_type": "code",
      "metadata": {
        "colab_type": "code",
        "id": "5XdsmsD12Bup",
        "colab": {}
      },
      "source": [
        "testset.targets = test_labels"
      ],
      "execution_count": 43,
      "outputs": []
    },
    {
      "cell_type": "code",
      "metadata": {
        "id": "EQOH55xR6INA",
        "colab_type": "code",
        "colab": {}
      },
      "source": [
        "trainloader = torch.utils.data.DataLoader(trainset, batch_size=256,shuffle=True)\n",
        "testloader = torch.utils.data.DataLoader(testset, batch_size=256,shuffle=False)"
      ],
      "execution_count": 44,
      "outputs": []
    },
    {
      "cell_type": "code",
      "metadata": {
        "colab_type": "code",
        "id": "SadRzWBBZEsP",
        "colab": {}
      },
      "source": [
        "class CNN(nn.Module):\n",
        "  def __init__(self):\n",
        "    super(CNN, self).__init__()\n",
        "    self.conv1 = nn.Conv2d(in_channels=3, out_channels=32, kernel_size=3, padding=0)\n",
        "    self.conv2 = nn.Conv2d(in_channels=32, out_channels=64, kernel_size=3, padding=0)\n",
        "    self.conv3 = nn.Conv2d(in_channels=64, out_channels=128, kernel_size=3, padding=0)\n",
        "    self.conv4 = nn.Conv2d(in_channels=128, out_channels=128, kernel_size=3, padding=0)\n",
        "    self.conv5 = nn.Conv2d(in_channels=128, out_channels=128, kernel_size=3, padding=0)\n",
        "    self.conv6 = nn.Conv2d(in_channels=128, out_channels=128, kernel_size=3, padding=1)\n",
        "    self.pool = nn.MaxPool2d(kernel_size=2, stride=2)\n",
        "    self.batch_norm1 = nn.BatchNorm2d(32)\n",
        "    self.batch_norm2 = nn.BatchNorm2d(128)\n",
        "    self.dropout1 = nn.Dropout2d(p=0.05)\n",
        "    self.dropout2 = nn.Dropout2d(p=0.1)\n",
        "    self.fc1 = nn.Linear(128,64)\n",
        "    self.fc2 = nn.Linear(64, 32)\n",
        "    self.fc3 = nn.Linear(32, 10)\n",
        "    self.fc4 = nn.Linear(10, 2)\n",
        "\n",
        "  def forward(self, x):\n",
        "    x = self.conv1(x)\n",
        "    x = F.relu(self.batch_norm1(x))\n",
        "\n",
        "    x = (F.relu(self.conv2(x)))\n",
        "    x = self.pool(x)\n",
        "    \n",
        "    x = self.conv3(x)\n",
        "    x = F.relu(self.batch_norm2(x))\n",
        "\n",
        "    x = (F.relu(self.conv4(x)))\n",
        "    x = self.pool(x)\n",
        "    x = self.dropout1(x)\n",
        "\n",
        "    x = self.conv5(x)\n",
        "    x = F.relu(self.batch_norm2(x))\n",
        "\n",
        "    x = (F.relu(self.conv6(x)))\n",
        "    x = self.pool(x)\n",
        "\n",
        "    x = x.view(x.size(0), -1)\n",
        "\n",
        "    x = self.dropout2(x)\n",
        "    x = F.relu(self.fc1(x))\n",
        "    x = F.relu(self.fc2(x))\n",
        "    x = self.dropout2(x)\n",
        "    x = F.relu(self.fc3(x))\n",
        "    x = self.fc4(x)\n",
        "    return x"
      ],
      "execution_count": 45,
      "outputs": []
    },
    {
      "cell_type": "code",
      "metadata": {
        "id": "1GvXR1zV5n4w",
        "colab_type": "code",
        "colab": {}
      },
      "source": [
        "where_net = CNN()#.double()\n",
        "where_net = where_net.to(\"cuda\")"
      ],
      "execution_count": 46,
      "outputs": []
    },
    {
      "cell_type": "code",
      "metadata": {
        "id": "yZob1uGT6fTM",
        "colab_type": "code",
        "colab": {
          "base_uri": "https://localhost:8080/",
          "height": 326
        },
        "outputId": "7d95b34e-9132-4010-aed6-59b05e7fa670"
      },
      "source": [
        "where_net"
      ],
      "execution_count": 47,
      "outputs": [
        {
          "output_type": "execute_result",
          "data": {
            "text/plain": [
              "CNN(\n",
              "  (conv1): Conv2d(3, 32, kernel_size=(3, 3), stride=(1, 1))\n",
              "  (conv2): Conv2d(32, 64, kernel_size=(3, 3), stride=(1, 1))\n",
              "  (conv3): Conv2d(64, 128, kernel_size=(3, 3), stride=(1, 1))\n",
              "  (conv4): Conv2d(128, 128, kernel_size=(3, 3), stride=(1, 1))\n",
              "  (conv5): Conv2d(128, 128, kernel_size=(3, 3), stride=(1, 1))\n",
              "  (conv6): Conv2d(128, 128, kernel_size=(3, 3), stride=(1, 1), padding=(1, 1))\n",
              "  (pool): MaxPool2d(kernel_size=2, stride=2, padding=0, dilation=1, ceil_mode=False)\n",
              "  (batch_norm1): BatchNorm2d(32, eps=1e-05, momentum=0.1, affine=True, track_running_stats=True)\n",
              "  (batch_norm2): BatchNorm2d(128, eps=1e-05, momentum=0.1, affine=True, track_running_stats=True)\n",
              "  (dropout1): Dropout2d(p=0.05, inplace=False)\n",
              "  (dropout2): Dropout2d(p=0.1, inplace=False)\n",
              "  (fc1): Linear(in_features=128, out_features=64, bias=True)\n",
              "  (fc2): Linear(in_features=64, out_features=32, bias=True)\n",
              "  (fc3): Linear(in_features=32, out_features=10, bias=True)\n",
              "  (fc4): Linear(in_features=10, out_features=2, bias=True)\n",
              ")"
            ]
          },
          "metadata": {
            "tags": []
          },
          "execution_count": 47
        }
      ]
    },
    {
      "cell_type": "code",
      "metadata": {
        "id": "n5g3geNJ5zEu",
        "colab_type": "code",
        "colab": {}
      },
      "source": [
        "import torch.optim as optim\n",
        "criterion_where = nn.CrossEntropyLoss()\n",
        "optimizer_where = optim.SGD(where_net.parameters(), lr=0.01, momentum=0.9)"
      ],
      "execution_count": 48,
      "outputs": []
    },
    {
      "cell_type": "code",
      "metadata": {
        "colab_type": "code",
        "id": "tFfAJZkcZEsY",
        "colab": {
          "base_uri": "https://localhost:8080/",
          "height": 1000
        },
        "outputId": "6f0e7c81-f323-402a-9d6a-1103c6140251"
      },
      "source": [
        "acti = []\n",
        "loss_curi = []\n",
        "epochs = 1000\n",
        "for epoch in range(epochs): # loop over the dataset multiple times\n",
        "    ep_lossi = []\n",
        "\n",
        "    running_loss = 0.0\n",
        "    for i, data in enumerate(trainloader, 0):\n",
        "        # get the inputs\n",
        "        inputs, labels = data\n",
        "        inputs, labels = inputs.to(\"cuda\"),labels.to(\"cuda\")\n",
        "\n",
        "        # zero the parameter gradients\n",
        "        optimizer_where.zero_grad()\n",
        "\n",
        "        # forward + backward + optimize\n",
        "        outputs = where_net(inputs)\n",
        "        loss = criterion_where(outputs, labels)\n",
        "        loss.backward()\n",
        "        optimizer_where.step()\n",
        "\n",
        "        # print statistics\n",
        "        running_loss += loss.item()\n",
        "        mini_batch = 50\n",
        "        if i % mini_batch == mini_batch-1:    # print every 50 mini-batches\n",
        "            print('[%d, %5d] loss: %.3f' %(epoch + 1, i + 1, running_loss / mini_batch))\n",
        "            ep_lossi.append(running_loss/mini_batch) # loss per minibatch\n",
        "            running_loss = 0.0\n",
        "            \n",
        "    if(np.mean(ep_lossi) <= 0.003):\n",
        "      break;\n",
        "    loss_curi.append(np.mean(ep_lossi))   #loss per epoch            \n",
        "\n",
        "print('Finished Training')"
      ],
      "execution_count": 49,
      "outputs": [
        {
          "output_type": "stream",
          "text": [
            "[1,    50] loss: 0.623\n",
            "[1,   100] loss: 0.607\n",
            "[1,   150] loss: 0.606\n",
            "[2,    50] loss: 0.534\n",
            "[2,   100] loss: 0.496\n",
            "[2,   150] loss: 0.445\n",
            "[3,    50] loss: 0.403\n",
            "[3,   100] loss: 0.388\n",
            "[3,   150] loss: 0.384\n",
            "[4,    50] loss: 0.334\n",
            "[4,   100] loss: 0.338\n",
            "[4,   150] loss: 0.331\n",
            "[5,    50] loss: 0.294\n",
            "[5,   100] loss: 0.286\n",
            "[5,   150] loss: 0.289\n",
            "[6,    50] loss: 0.263\n",
            "[6,   100] loss: 0.261\n",
            "[6,   150] loss: 0.265\n",
            "[7,    50] loss: 0.220\n",
            "[7,   100] loss: 0.227\n",
            "[7,   150] loss: 0.243\n",
            "[8,    50] loss: 0.197\n",
            "[8,   100] loss: 0.209\n",
            "[8,   150] loss: 0.205\n",
            "[9,    50] loss: 0.171\n",
            "[9,   100] loss: 0.173\n",
            "[9,   150] loss: 0.192\n",
            "[10,    50] loss: 0.141\n",
            "[10,   100] loss: 0.154\n",
            "[10,   150] loss: 0.161\n",
            "[11,    50] loss: 0.127\n",
            "[11,   100] loss: 0.135\n",
            "[11,   150] loss: 0.139\n",
            "[12,    50] loss: 0.115\n",
            "[12,   100] loss: 0.113\n",
            "[12,   150] loss: 0.124\n",
            "[13,    50] loss: 0.096\n",
            "[13,   100] loss: 0.115\n",
            "[13,   150] loss: 0.107\n",
            "[14,    50] loss: 0.087\n",
            "[14,   100] loss: 0.098\n",
            "[14,   150] loss: 0.095\n",
            "[15,    50] loss: 0.078\n",
            "[15,   100] loss: 0.075\n",
            "[15,   150] loss: 0.083\n",
            "[16,    50] loss: 0.061\n",
            "[16,   100] loss: 0.072\n",
            "[16,   150] loss: 0.066\n",
            "[17,    50] loss: 0.057\n",
            "[17,   100] loss: 0.059\n",
            "[17,   150] loss: 0.069\n",
            "[18,    50] loss: 0.053\n",
            "[18,   100] loss: 0.060\n",
            "[18,   150] loss: 0.057\n",
            "[19,    50] loss: 0.040\n",
            "[19,   100] loss: 0.043\n",
            "[19,   150] loss: 0.054\n",
            "[20,    50] loss: 0.048\n",
            "[20,   100] loss: 0.041\n",
            "[20,   150] loss: 0.046\n",
            "[21,    50] loss: 0.031\n",
            "[21,   100] loss: 0.037\n",
            "[21,   150] loss: 0.054\n",
            "[22,    50] loss: 0.044\n",
            "[22,   100] loss: 0.040\n",
            "[22,   150] loss: 0.039\n",
            "[23,    50] loss: 0.033\n",
            "[23,   100] loss: 0.032\n",
            "[23,   150] loss: 0.033\n",
            "[24,    50] loss: 0.022\n",
            "[24,   100] loss: 0.031\n",
            "[24,   150] loss: 0.034\n",
            "[25,    50] loss: 0.028\n",
            "[25,   100] loss: 0.023\n",
            "[25,   150] loss: 0.024\n",
            "[26,    50] loss: 0.024\n",
            "[26,   100] loss: 0.025\n",
            "[26,   150] loss: 0.025\n",
            "[27,    50] loss: 0.021\n",
            "[27,   100] loss: 0.023\n",
            "[27,   150] loss: 0.031\n",
            "[28,    50] loss: 0.016\n",
            "[28,   100] loss: 0.019\n",
            "[28,   150] loss: 0.024\n",
            "[29,    50] loss: 0.021\n",
            "[29,   100] loss: 0.019\n",
            "[29,   150] loss: 0.029\n",
            "[30,    50] loss: 0.017\n",
            "[30,   100] loss: 0.022\n",
            "[30,   150] loss: 0.021\n",
            "[31,    50] loss: 0.011\n",
            "[31,   100] loss: 0.015\n",
            "[31,   150] loss: 0.018\n",
            "[32,    50] loss: 0.025\n",
            "[32,   100] loss: 0.026\n",
            "[32,   150] loss: 0.017\n",
            "[33,    50] loss: 0.019\n",
            "[33,   100] loss: 0.017\n",
            "[33,   150] loss: 0.018\n",
            "[34,    50] loss: 0.017\n",
            "[34,   100] loss: 0.015\n",
            "[34,   150] loss: 0.016\n",
            "[35,    50] loss: 0.018\n",
            "[35,   100] loss: 0.015\n",
            "[35,   150] loss: 0.010\n",
            "[36,    50] loss: 0.019\n",
            "[36,   100] loss: 0.021\n",
            "[36,   150] loss: 0.020\n",
            "[37,    50] loss: 0.009\n",
            "[37,   100] loss: 0.009\n",
            "[37,   150] loss: 0.011\n",
            "[38,    50] loss: 0.012\n",
            "[38,   100] loss: 0.012\n",
            "[38,   150] loss: 0.015\n",
            "[39,    50] loss: 0.010\n",
            "[39,   100] loss: 0.013\n",
            "[39,   150] loss: 0.017\n",
            "[40,    50] loss: 0.012\n",
            "[40,   100] loss: 0.011\n",
            "[40,   150] loss: 0.011\n",
            "[41,    50] loss: 0.009\n",
            "[41,   100] loss: 0.011\n",
            "[41,   150] loss: 0.011\n",
            "[42,    50] loss: 0.014\n",
            "[42,   100] loss: 0.012\n",
            "[42,   150] loss: 0.013\n",
            "[43,    50] loss: 0.012\n",
            "[43,   100] loss: 0.009\n",
            "[43,   150] loss: 0.010\n",
            "[44,    50] loss: 0.012\n",
            "[44,   100] loss: 0.012\n",
            "[44,   150] loss: 0.013\n",
            "[45,    50] loss: 0.008\n",
            "[45,   100] loss: 0.006\n",
            "[45,   150] loss: 0.013\n",
            "[46,    50] loss: 0.011\n",
            "[46,   100] loss: 0.009\n",
            "[46,   150] loss: 0.012\n",
            "[47,    50] loss: 0.009\n",
            "[47,   100] loss: 0.009\n",
            "[47,   150] loss: 0.008\n",
            "[48,    50] loss: 0.009\n",
            "[48,   100] loss: 0.009\n",
            "[48,   150] loss: 0.004\n",
            "[49,    50] loss: 0.005\n",
            "[49,   100] loss: 0.008\n",
            "[49,   150] loss: 0.009\n",
            "[50,    50] loss: 0.007\n",
            "[50,   100] loss: 0.008\n",
            "[50,   150] loss: 0.006\n",
            "[51,    50] loss: 0.008\n",
            "[51,   100] loss: 0.008\n",
            "[51,   150] loss: 0.012\n",
            "[52,    50] loss: 0.007\n",
            "[52,   100] loss: 0.007\n",
            "[52,   150] loss: 0.011\n",
            "[53,    50] loss: 0.007\n",
            "[53,   100] loss: 0.007\n",
            "[53,   150] loss: 0.007\n",
            "[54,    50] loss: 0.004\n",
            "[54,   100] loss: 0.005\n",
            "[54,   150] loss: 0.006\n",
            "[55,    50] loss: 0.008\n",
            "[55,   100] loss: 0.007\n",
            "[55,   150] loss: 0.006\n",
            "[56,    50] loss: 0.003\n",
            "[56,   100] loss: 0.004\n",
            "[56,   150] loss: 0.008\n",
            "[57,    50] loss: 0.006\n",
            "[57,   100] loss: 0.005\n",
            "[57,   150] loss: 0.008\n",
            "[58,    50] loss: 0.004\n",
            "[58,   100] loss: 0.005\n",
            "[58,   150] loss: 0.006\n",
            "[59,    50] loss: 0.009\n",
            "[59,   100] loss: 0.007\n",
            "[59,   150] loss: 0.005\n",
            "[60,    50] loss: 0.006\n",
            "[60,   100] loss: 0.006\n",
            "[60,   150] loss: 0.009\n",
            "[61,    50] loss: 0.004\n",
            "[61,   100] loss: 0.009\n",
            "[61,   150] loss: 0.006\n",
            "[62,    50] loss: 0.008\n",
            "[62,   100] loss: 0.009\n",
            "[62,   150] loss: 0.005\n",
            "[63,    50] loss: 0.004\n",
            "[63,   100] loss: 0.003\n",
            "[63,   150] loss: 0.004\n",
            "[64,    50] loss: 0.004\n",
            "[64,   100] loss: 0.009\n",
            "[64,   150] loss: 0.008\n",
            "[65,    50] loss: 0.007\n",
            "[65,   100] loss: 0.006\n",
            "[65,   150] loss: 0.003\n",
            "[66,    50] loss: 0.004\n",
            "[66,   100] loss: 0.006\n",
            "[66,   150] loss: 0.004\n",
            "[67,    50] loss: 0.005\n",
            "[67,   100] loss: 0.003\n",
            "[67,   150] loss: 0.005\n",
            "[68,    50] loss: 0.005\n",
            "[68,   100] loss: 0.003\n",
            "[68,   150] loss: 0.004\n",
            "[69,    50] loss: 0.003\n",
            "[69,   100] loss: 0.003\n",
            "[69,   150] loss: 0.005\n",
            "[70,    50] loss: 0.005\n",
            "[70,   100] loss: 0.008\n",
            "[70,   150] loss: 0.009\n",
            "[71,    50] loss: 0.006\n",
            "[71,   100] loss: 0.003\n",
            "[71,   150] loss: 0.003\n",
            "[72,    50] loss: 0.008\n",
            "[72,   100] loss: 0.007\n",
            "[72,   150] loss: 0.004\n",
            "[73,    50] loss: 0.004\n",
            "[73,   100] loss: 0.005\n",
            "[73,   150] loss: 0.008\n",
            "[74,    50] loss: 0.005\n",
            "[74,   100] loss: 0.003\n",
            "[74,   150] loss: 0.003\n",
            "[75,    50] loss: 0.005\n",
            "[75,   100] loss: 0.004\n",
            "[75,   150] loss: 0.003\n",
            "[76,    50] loss: 0.008\n",
            "[76,   100] loss: 0.009\n",
            "[76,   150] loss: 0.004\n",
            "[77,    50] loss: 0.004\n",
            "[77,   100] loss: 0.002\n",
            "[77,   150] loss: 0.003\n",
            "[78,    50] loss: 0.003\n",
            "[78,   100] loss: 0.003\n",
            "[78,   150] loss: 0.003\n",
            "Finished Training\n"
          ],
          "name": "stdout"
        }
      ]
    },
    {
      "cell_type": "code",
      "metadata": {
        "id": "WIAJ3UZN8rPE",
        "colab_type": "code",
        "colab": {}
      },
      "source": [
        "# torch.save(where_net.state_dict(),\"/content/drive/My Drive/Research/Cheating_data/Focus_net_weights/focus_net_6layer_cnn\"+\".pt\")"
      ],
      "execution_count": 50,
      "outputs": []
    },
    {
      "cell_type": "code",
      "metadata": {
        "id": "an7qmNLB-Ilb",
        "colab_type": "code",
        "colab": {
          "base_uri": "https://localhost:8080/",
          "height": 53
        },
        "outputId": "f76f22f3-3a4b-4328-a311-9c5011a21ab9"
      },
      "source": [
        "correct = 0\n",
        "total = 0\n",
        "with torch.no_grad():\n",
        "    for data in trainloader:\n",
        "        images, labels = data\n",
        "        images, labels = images.to(\"cuda\"), labels.to(\"cuda\")\n",
        "        outputs = where_net(images)\n",
        "        _, predicted = torch.max(outputs.data, 1)\n",
        "        total += labels.size(0)\n",
        "        correct += (predicted == labels).sum().item()\n",
        "\n",
        "print('Accuracy of the network on the %d train images: %d %%' % (total,  100 * correct / total))\n",
        "print(total,correct)"
      ],
      "execution_count": 51,
      "outputs": [
        {
          "output_type": "stream",
          "text": [
            "Accuracy of the network on the 50000 train images: 99 %\n",
            "50000 49945\n"
          ],
          "name": "stdout"
        }
      ]
    },
    {
      "cell_type": "code",
      "metadata": {
        "id": "3WqTm-aW-TGU",
        "colab_type": "code",
        "colab": {
          "base_uri": "https://localhost:8080/",
          "height": 53
        },
        "outputId": "2a963bc4-c80e-46a2-aaf2-4b67fd34bc2f"
      },
      "source": [
        "correct = 0\n",
        "total = 0\n",
        "out = []\n",
        "pred = []\n",
        "where_net.eval()\n",
        "with torch.no_grad():\n",
        "    for data in testloader:\n",
        "        images, labels = data\n",
        "        images, labels = images.to(\"cuda\"),labels.to(\"cuda\")\n",
        "        out.append(labels.cpu().numpy())\n",
        "        outputs= where_net(images)\n",
        "        _, predicted = torch.max(outputs.data, 1)\n",
        "        pred.append(predicted.cpu().numpy())\n",
        "        total += labels.size(0)\n",
        "        correct += (predicted == labels).sum().item()\n",
        "\n",
        "print('Accuracy of the network on the 10000 test images: %d %%' % ( 100 * correct / total))\n",
        "print(total,correct)"
      ],
      "execution_count": 52,
      "outputs": [
        {
          "output_type": "stream",
          "text": [
            "Accuracy of the network on the 10000 test images: 86 %\n",
            "10000 8674\n"
          ],
          "name": "stdout"
        }
      ]
    },
    {
      "cell_type": "code",
      "metadata": {
        "id": "oQ1yPyXRBNT4",
        "colab_type": "code",
        "colab": {}
      },
      "source": [
        ""
      ],
      "execution_count": 52,
      "outputs": []
    }
  ]
}