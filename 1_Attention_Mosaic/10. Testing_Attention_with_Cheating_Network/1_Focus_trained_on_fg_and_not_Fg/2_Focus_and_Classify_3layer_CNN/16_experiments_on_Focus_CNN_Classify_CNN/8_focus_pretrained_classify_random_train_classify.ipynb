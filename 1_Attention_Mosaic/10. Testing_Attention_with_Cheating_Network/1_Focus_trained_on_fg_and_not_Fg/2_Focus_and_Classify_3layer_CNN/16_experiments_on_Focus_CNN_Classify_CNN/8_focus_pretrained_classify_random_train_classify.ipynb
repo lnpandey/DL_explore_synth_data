{
  "nbformat": 4,
  "nbformat_minor": 0,
  "metadata": {
    "accelerator": "GPU",
    "colab": {
      "name": "8 focus_pretrained_classify_random_train_classify.ipynb",
      "provenance": [],
      "collapsed_sections": [],
      "machine_shape": "hm"
    },
    "kernelspec": {
      "display_name": "Python 3",
      "language": "python",
      "name": "python3"
    },
    "language_info": {
      "codemirror_mode": {
        "name": "ipython",
        "version": 3
      },
      "file_extension": ".py",
      "mimetype": "text/x-python",
      "name": "python",
      "nbconvert_exporter": "python",
      "pygments_lexer": "ipython3",
      "version": "3.6.5"
    }
  },
  "cells": [
    {
      "cell_type": "code",
      "metadata": {
        "colab_type": "code",
        "id": "JSjG64ra4aFu",
        "colab": {
          "base_uri": "https://localhost:8080/",
          "height": 35
        },
        "outputId": "ac33eb79-fdf4-4185-a4ac-f477dfe75312"
      },
      "source": [
        "from google.colab import drive\n",
        "drive.mount('/content/drive')"
      ],
      "execution_count": 1,
      "outputs": [
        {
          "output_type": "stream",
          "text": [
            "Drive already mounted at /content/drive; to attempt to forcibly remount, call drive.mount(\"/content/drive\", force_remount=True).\n"
          ],
          "name": "stdout"
        }
      ]
    },
    {
      "cell_type": "code",
      "metadata": {
        "colab_type": "code",
        "id": "V8-7SARDZErK",
        "colab": {}
      },
      "source": [
        "import torch.nn as nn\n",
        "import torch.nn.functional as F\n",
        "\n",
        "import pandas as pd\n",
        "import numpy as np\n",
        "import matplotlib.pyplot as plt\n",
        "\n",
        "import torch\n",
        "import torchvision\n",
        "import torchvision.transforms as transforms\n",
        "from torch.utils.data import Dataset, DataLoader\n",
        "from torchvision import transforms, utils\n",
        "\n",
        "from matplotlib import pyplot as plt\n",
        "\n",
        "import copy\n",
        "\n",
        "# Ignore warnings\n",
        "import warnings\n",
        "warnings.filterwarnings(\"ignore\")\n"
      ],
      "execution_count": 2,
      "outputs": []
    },
    {
      "cell_type": "code",
      "metadata": {
        "colab_type": "code",
        "id": "acRFqJNrZErV",
        "colab": {
          "base_uri": "https://localhost:8080/",
          "height": 53
        },
        "outputId": "8aca6704-306f-4de5-a1ab-3740fd9fc534"
      },
      "source": [
        "transform = transforms.Compose(\n",
        "    [transforms.ToTensor(),\n",
        "     transforms.Normalize((0.5, 0.5, 0.5), (0.5, 0.5, 0.5))])\n",
        "\n",
        "trainset = torchvision.datasets.CIFAR10(root='./data', train=True, download=True, transform=transform)\n",
        "\n",
        "\n",
        "testset = torchvision.datasets.CIFAR10(root='./data', train=False, download=True, transform=transform)\n"
      ],
      "execution_count": 3,
      "outputs": [
        {
          "output_type": "stream",
          "text": [
            "Files already downloaded and verified\n",
            "Files already downloaded and verified\n"
          ],
          "name": "stdout"
        }
      ]
    },
    {
      "cell_type": "code",
      "metadata": {
        "id": "gh5DXuAV1tp5",
        "colab_type": "code",
        "colab": {}
      },
      "source": [
        "trainloader = torch.utils.data.DataLoader(trainset, batch_size=10, shuffle=True)\n",
        "testloader = torch.utils.data.DataLoader(testset, batch_size=10, shuffle=False)\n",
        "\n",
        "\n",
        "classes = ('plane', 'car', 'bird', 'cat', 'deer', 'dog', 'frog', 'horse', 'ship', 'truck')\n",
        "\n",
        "foreground_classes = {'plane', 'car', 'bird'}\n",
        "\n",
        "background_classes = {'cat', 'deer', 'dog', 'frog', 'horse','ship', 'truck'}\n",
        "\n",
        "fg1,fg2,fg3 = 0,1,2"
      ],
      "execution_count": 4,
      "outputs": []
    },
    {
      "cell_type": "code",
      "metadata": {
        "colab_type": "code",
        "id": "V_JUhwCeZErk",
        "colab": {}
      },
      "source": [
        "dataiter = iter(trainloader)\n",
        "background_data=[]\n",
        "background_label=[]\n",
        "foreground_data=[]\n",
        "foreground_label=[]\n",
        "batch_size=10\n",
        "\n",
        "for i in range(5000):\n",
        "  images, labels = dataiter.next()\n",
        "  for j in range(batch_size):\n",
        "    if(classes[labels[j]] in background_classes):\n",
        "      img = images[j].tolist()\n",
        "      background_data.append(img)\n",
        "      background_label.append(labels[j])\n",
        "    else:\n",
        "      img = images[j].tolist()\n",
        "      foreground_data.append(img)\n",
        "      foreground_label.append(labels[j])\n",
        "            \n",
        "foreground_data = torch.tensor(foreground_data)\n",
        "foreground_label = torch.tensor(foreground_label)\n",
        "background_data = torch.tensor(background_data)\n",
        "background_label = torch.tensor(background_label)"
      ],
      "execution_count": 5,
      "outputs": []
    },
    {
      "cell_type": "code",
      "metadata": {
        "id": "uW9MkktGysAp",
        "colab_type": "code",
        "colab": {}
      },
      "source": [
        "def create_mosaic_img(bg_idx,fg_idx,fg): \n",
        "  \"\"\"\n",
        "  bg_idx : list of indexes of background_data[] to be used as background images in mosaic\n",
        "  fg_idx : index of image to be used as foreground image from foreground data\n",
        "  fg : at what position/index foreground image has to be stored out of 0-8\n",
        "  \"\"\"\n",
        "  image_list=[]\n",
        "  j=0\n",
        "  for i in range(9):\n",
        "    if i != fg:\n",
        "      image_list.append(background_data[bg_idx[j]].type(\"torch.DoubleTensor\"))\n",
        "      j+=1\n",
        "    else: \n",
        "      image_list.append(foreground_data[fg_idx].type(\"torch.DoubleTensor\"))\n",
        "      label = foreground_label[fg_idx]- fg1  # minus 7 because our fore ground classes are 7,8,9 but we have to store it as 0,1,2\n",
        "  #image_list = np.concatenate(image_list ,axis=0)\n",
        "  image_list = torch.stack(image_list) \n",
        "  return image_list,label"
      ],
      "execution_count": 6,
      "outputs": []
    },
    {
      "cell_type": "code",
      "metadata": {
        "id": "lWxkp87fNwnM",
        "colab_type": "code",
        "colab": {}
      },
      "source": [
        "desired_num = 30000\n",
        "mosaic_list_of_images =[]      # list of mosaic images, each mosaic image is saved as list of 9 images\n",
        "fore_idx =[]                   # list of indexes at which foreground image is present in a mosaic image i.e from 0 to 9               \n",
        "mosaic_label=[]                # label of mosaic image = foreground class present in that mosaic\n",
        "for i in range(desired_num):\n",
        "  bg_idx = np.random.randint(0,35000,8)\n",
        "  fg_idx = np.random.randint(0,15000)\n",
        "  fg = np.random.randint(0,9)\n",
        "  fore_idx.append(fg)\n",
        "  image_list,label = create_mosaic_img(bg_idx,fg_idx,fg)\n",
        "  mosaic_list_of_images.append(image_list)\n",
        "  mosaic_label.append(label)"
      ],
      "execution_count": 7,
      "outputs": []
    },
    {
      "cell_type": "code",
      "metadata": {
        "id": "AJuGak6_zXgx",
        "colab_type": "code",
        "colab": {}
      },
      "source": [
        "class MosaicDataset(Dataset):\n",
        "  \"\"\"MosaicDataset dataset.\"\"\"\n",
        "\n",
        "  def __init__(self, mosaic_list_of_images, mosaic_label, fore_idx):\n",
        "    \"\"\"\n",
        "      Args:\n",
        "        csv_file (string): Path to the csv file with annotations.\n",
        "        root_dir (string): Directory with all the images.\n",
        "        transform (callable, optional): Optional transform to be applied\n",
        "            on a sample.\n",
        "    \"\"\"\n",
        "    self.mosaic = mosaic_list_of_images\n",
        "    self.label = mosaic_label\n",
        "    self.fore_idx = fore_idx\n",
        "\n",
        "  def __len__(self):\n",
        "    return len(self.label)\n",
        "\n",
        "  def __getitem__(self, idx):\n",
        "    return self.mosaic[idx] , self.label[idx], self.fore_idx[idx]\n",
        "\n",
        "batch = 125\n",
        "msd = MosaicDataset(mosaic_list_of_images, mosaic_label , fore_idx)\n",
        "train_loader = DataLoader( msd,batch_size= batch ,shuffle=True)"
      ],
      "execution_count": 8,
      "outputs": []
    },
    {
      "cell_type": "code",
      "metadata": {
        "colab_type": "code",
        "id": "SadRzWBBZEsP",
        "colab": {}
      },
      "source": [
        "class Focus(nn.Module):\n",
        "  def __init__(self):\n",
        "    super(Focus, self).__init__()\n",
        "    self.conv1 = nn.Conv2d(in_channels=3, out_channels=32, kernel_size=3, padding=0)\n",
        "    self.pool = nn.MaxPool2d(2, 2)\n",
        "    self.conv2 = nn.Conv2d(in_channels=32, out_channels=64, kernel_size=3, padding=0)\n",
        "    self.conv3 = nn.Conv2d(in_channels=64, out_channels=64, kernel_size=3, padding=0)\n",
        "    self.fc1 = nn.Linear(1024, 512)\n",
        "    self.fc2 = nn.Linear(512, 64)\n",
        "    self.fc3 = nn.Linear(64, 10)\n",
        "    self.fc4 = nn.Linear(10,2)\n",
        "\n",
        "  def forward(self, x):\n",
        "    x = self.pool(F.relu(self.conv1(x)))\n",
        "    x = self.pool(F.relu(self.conv2(x)))\n",
        "    # print(x.shape)\n",
        "    x = (F.relu(self.conv3(x)))\n",
        "    x =  x.view(x.size(0), -1)\n",
        "    # print(x.shape)\n",
        "    x = F.relu(self.fc1(x))\n",
        "    x = F.relu(self.fc2(x))\n",
        "    x = F.relu(self.fc3(x))\n",
        "    x = self.fc4(x)\n",
        "    return x"
      ],
      "execution_count": 9,
      "outputs": []
    },
    {
      "cell_type": "code",
      "metadata": {
        "id": "1GvXR1zV5n4w",
        "colab_type": "code",
        "colab": {}
      },
      "source": [
        "focus_net = Focus().double()\n",
        "focus_net = focus_net.to(\"cuda\")"
      ],
      "execution_count": 10,
      "outputs": []
    },
    {
      "cell_type": "code",
      "metadata": {
        "id": "yZob1uGT6fTM",
        "colab_type": "code",
        "colab": {
          "base_uri": "https://localhost:8080/",
          "height": 35
        },
        "outputId": "a899385f-7c38-4477-9e4f-58b9a0656f5b"
      },
      "source": [
        "focus_net.load_state_dict( torch.load(\"/content/drive/My Drive/Research/Cheating_data/Focus_net_weights/focus_net_3layer_cnn.pt\"))"
      ],
      "execution_count": 11,
      "outputs": [
        {
          "output_type": "execute_result",
          "data": {
            "text/plain": [
              "<All keys matched successfully>"
            ]
          },
          "metadata": {
            "tags": []
          },
          "execution_count": 11
        }
      ]
    },
    {
      "cell_type": "markdown",
      "metadata": {
        "id": "nuvh8egty-M8",
        "colab_type": "text"
      },
      "source": [
        "Changing the last layer of Focus net"
      ]
    },
    {
      "cell_type": "code",
      "metadata": {
        "id": "MhX_PlWWo8tB",
        "colab_type": "code",
        "colab": {
          "base_uri": "https://localhost:8080/",
          "height": 35
        },
        "outputId": "7ddb401c-96ef-4f1d-ddb0-50b8ff8af60c"
      },
      "source": [
        "focus_net.fc4"
      ],
      "execution_count": 12,
      "outputs": [
        {
          "output_type": "execute_result",
          "data": {
            "text/plain": [
              "Linear(in_features=10, out_features=2, bias=True)"
            ]
          },
          "metadata": {
            "tags": []
          },
          "execution_count": 12
        }
      ]
    },
    {
      "cell_type": "code",
      "metadata": {
        "id": "ugYLSgCpyv2i",
        "colab_type": "code",
        "colab": {}
      },
      "source": [
        "focus_net.fc4 = nn.Linear(10,1).double()\n",
        "focus_net = focus_net.to(\"cuda\")"
      ],
      "execution_count": 13,
      "outputs": []
    },
    {
      "cell_type": "code",
      "metadata": {
        "id": "x22GwjL3pC4o",
        "colab_type": "code",
        "colab": {
          "base_uri": "https://localhost:8080/",
          "height": 35
        },
        "outputId": "98c55758-3153-43e7-82f4-5bce165f89bb"
      },
      "source": [
        "focus_net.fc4"
      ],
      "execution_count": 14,
      "outputs": [
        {
          "output_type": "execute_result",
          "data": {
            "text/plain": [
              "Linear(in_features=10, out_features=1, bias=True)"
            ]
          },
          "metadata": {
            "tags": []
          },
          "execution_count": 14
        }
      ]
    },
    {
      "cell_type": "code",
      "metadata": {
        "id": "0uE2ecgApdwn",
        "colab_type": "code",
        "colab": {}
      },
      "source": [
        "for params in focus_net.parameters():\n",
        "  params.requires_grad = False"
      ],
      "execution_count": 15,
      "outputs": []
    },
    {
      "cell_type": "code",
      "metadata": {
        "id": "A0rkwoqLpya8",
        "colab_type": "code",
        "colab": {
          "base_uri": "https://localhost:8080/",
          "height": 1000
        },
        "outputId": "a1914860-faac-4aaa-cf17-a250d76a4d16"
      },
      "source": [
        "for params in focus_net.parameters():\n",
        "  print(params)\n",
        "  break;"
      ],
      "execution_count": 16,
      "outputs": [
        {
          "output_type": "stream",
          "text": [
            "Parameter containing:\n",
            "tensor([[[[ 5.1012e-01,  5.5293e-01,  2.1752e-01],\n",
            "          [-9.3242e-02,  2.1292e-01, -1.0541e-01],\n",
            "          [-4.2901e-01, -5.1375e-01, -1.7828e-01]],\n",
            "\n",
            "         [[ 2.6402e-01,  2.2047e-01,  1.7062e-01],\n",
            "          [-6.1617e-02, -2.3764e-02, -9.2725e-02],\n",
            "          [-1.3579e-01, -4.7987e-01, -1.8543e-01]],\n",
            "\n",
            "         [[-7.1597e-02,  2.8060e-01, -4.8433e-02],\n",
            "          [ 1.4421e-01,  2.5523e-01, -2.7313e-01],\n",
            "          [-2.4865e-01, -1.5819e-02,  2.2224e-01]]],\n",
            "\n",
            "\n",
            "        [[[-5.4389e-02, -3.1724e-01, -4.8299e-02],\n",
            "          [ 2.8088e-01,  3.8326e-02, -1.2630e-01],\n",
            "          [-2.6675e-01,  1.1095e-01, -2.6749e-02]],\n",
            "\n",
            "         [[ 9.7539e-02, -1.6986e-01,  2.3720e-01],\n",
            "          [-3.0981e-02,  1.9501e-01,  4.4750e-02],\n",
            "          [-3.2760e-01,  1.0357e-01, -1.8928e-01]],\n",
            "\n",
            "         [[ 1.2729e-01, -2.4141e-01,  2.4433e-01],\n",
            "          [ 1.5837e-01,  8.4489e-02, -3.8031e-02],\n",
            "          [-3.3685e-01, -1.7103e-01, -9.2254e-02]]],\n",
            "\n",
            "\n",
            "        [[[-1.1161e-01, -9.5461e-02, -2.6701e-01],\n",
            "          [ 7.9191e-02,  1.3105e-01,  1.7854e-01],\n",
            "          [-1.8727e-01, -1.3800e-03,  1.2594e-01]],\n",
            "\n",
            "         [[-1.5172e-01, -1.4303e-01, -2.7952e-01],\n",
            "          [-1.8143e-01,  2.1122e-01,  9.4167e-02],\n",
            "          [-2.4153e-01, -1.0537e-01,  1.8203e-01]],\n",
            "\n",
            "         [[-1.4463e-01, -6.7608e-02,  3.0391e-02],\n",
            "          [-1.5512e-01,  2.7415e-01, -2.0130e-02],\n",
            "          [-6.9259e-02,  1.0445e-01, -6.2411e-02]]],\n",
            "\n",
            "\n",
            "        [[[-1.8968e-01, -1.0985e-01,  1.6873e-02],\n",
            "          [-3.0554e-01, -1.5830e-01,  4.5039e-02],\n",
            "          [-2.5637e-01,  2.6870e-02,  6.1698e-02]],\n",
            "\n",
            "         [[ 2.5171e-02,  2.7411e-03, -6.8418e-02],\n",
            "          [ 1.1564e-01, -1.6855e-01,  7.9703e-02],\n",
            "          [-3.3127e-02, -1.0726e-01,  1.9594e-01]],\n",
            "\n",
            "         [[ 2.4331e-01,  4.3372e-02, -4.0764e-02],\n",
            "          [ 8.9067e-02,  3.2381e-01,  8.2597e-02],\n",
            "          [ 2.0423e-01,  2.4974e-01,  1.3923e-01]]],\n",
            "\n",
            "\n",
            "        [[[-7.0862e-02,  4.8328e-02,  5.4105e-03],\n",
            "          [-3.0357e-01, -8.4273e-02, -3.8548e-02],\n",
            "          [ 1.5238e-01,  2.7298e-01,  9.0072e-02]],\n",
            "\n",
            "         [[-5.3779e-02, -1.8661e-01, -2.2286e-01],\n",
            "          [-2.4840e-01, -1.2762e-01, -1.7810e-01],\n",
            "          [ 8.8497e-02,  3.2172e-01,  3.2505e-01]],\n",
            "\n",
            "         [[-1.8130e-01,  1.4988e-02, -6.3827e-02],\n",
            "          [-2.5139e-01, -3.9666e-02,  2.1632e-01],\n",
            "          [ 1.5478e-01,  2.7303e-01,  1.1063e-02]]],\n",
            "\n",
            "\n",
            "        [[[-1.6313e-02, -3.9278e-01, -7.6296e-02],\n",
            "          [-3.0513e-01,  6.5543e-02,  4.1469e-01],\n",
            "          [ 2.3196e-02,  1.0584e-01,  2.1017e-01]],\n",
            "\n",
            "         [[ 2.1601e-02, -4.6870e-02, -6.1855e-02],\n",
            "          [-9.6515e-02,  2.0218e-01,  1.7658e-01],\n",
            "          [-1.0204e-01,  6.4091e-02, -2.3228e-01]],\n",
            "\n",
            "         [[-9.7622e-02, -3.8988e-01, -2.0241e-02],\n",
            "          [-2.6881e-01,  1.1740e-01,  5.1332e-02],\n",
            "          [ 3.0125e-01,  2.6719e-01, -1.0992e-01]]],\n",
            "\n",
            "\n",
            "        [[[-4.8952e-02,  9.0107e-02,  2.8859e-01],\n",
            "          [-2.5533e-02,  1.9384e-01, -1.0635e-01],\n",
            "          [ 2.6926e-01, -4.8098e-02, -4.9829e-01]],\n",
            "\n",
            "         [[-1.3373e-01,  1.7002e-01,  3.0939e-01],\n",
            "          [-1.0491e-01,  1.8898e-01,  1.7134e-01],\n",
            "          [ 2.9945e-01,  1.2430e-01, -4.6399e-01]],\n",
            "\n",
            "         [[-1.1477e-01, -7.1899e-02,  2.5992e-01],\n",
            "          [-6.9032e-02,  4.9035e-03, -7.4651e-02],\n",
            "          [ 3.2646e-01,  1.3747e-01, -1.4475e-01]]],\n",
            "\n",
            "\n",
            "        [[[-1.3746e-01,  2.3619e-01,  2.9122e-01],\n",
            "          [-1.5593e-01,  3.1397e-01,  9.1119e-02],\n",
            "          [-9.7294e-02,  2.5138e-01, -3.7485e-01]],\n",
            "\n",
            "         [[-4.6567e-01,  4.8448e-02,  3.1357e-03],\n",
            "          [-4.1204e-01,  4.2128e-01,  1.6571e-01],\n",
            "          [ 9.9542e-03,  4.9017e-01,  5.5290e-02]],\n",
            "\n",
            "         [[-5.0577e-01, -1.6644e-01,  1.6683e-01],\n",
            "          [-4.7866e-01,  1.6023e-01,  2.0161e-02],\n",
            "          [ 7.4361e-02,  2.8781e-01,  1.4558e-01]]],\n",
            "\n",
            "\n",
            "        [[[-1.0922e-01, -2.4747e-01, -3.3007e-02],\n",
            "          [ 3.7074e-02,  4.3832e-01,  9.5162e-02],\n",
            "          [-1.7409e-01,  1.5735e-01,  1.9349e-01]],\n",
            "\n",
            "         [[ 1.9683e-01,  9.1041e-02, -5.3877e-02],\n",
            "          [ 3.3540e-01,  4.6065e-01,  2.0305e-01],\n",
            "          [ 3.6356e-03,  1.0630e-01,  1.2889e-01]],\n",
            "\n",
            "         [[ 9.8535e-02, -3.4303e-01, -3.3686e-01],\n",
            "          [ 4.9554e-02,  8.0785e-02,  1.5010e-01],\n",
            "          [-4.1864e-01, -2.6127e-01, -3.2260e-02]]],\n",
            "\n",
            "\n",
            "        [[[-3.1566e-01, -2.3353e-01, -3.9985e-02],\n",
            "          [ 8.5104e-02, -2.7187e-02, -1.2398e-01],\n",
            "          [ 3.0702e-01,  2.4500e-01,  2.4491e-01]],\n",
            "\n",
            "         [[-2.7081e-01,  1.1710e-02, -1.4625e-01],\n",
            "          [-5.7793e-02, -1.0521e-01,  6.3396e-02],\n",
            "          [ 5.2514e-02,  1.3695e-01,  5.1231e-02]],\n",
            "\n",
            "         [[ 1.7983e-01, -1.2130e-01,  1.4342e-01],\n",
            "          [ 2.8358e-01, -1.7359e-02,  4.2360e-02],\n",
            "          [-1.4643e-01,  4.5666e-02, -2.5662e-01]]],\n",
            "\n",
            "\n",
            "        [[[ 1.3465e-01, -2.2534e-01, -9.1428e-02],\n",
            "          [ 1.4708e-01,  1.9719e-01,  1.2384e-01],\n",
            "          [ 2.4869e-01,  2.7678e-01, -2.5256e-02]],\n",
            "\n",
            "         [[-8.6597e-03, -3.2999e-01, -1.6003e-01],\n",
            "          [-5.1249e-01, -2.6594e-01,  4.7540e-02],\n",
            "          [-3.4090e-01, -3.5161e-01, -4.0862e-01]],\n",
            "\n",
            "         [[ 1.8842e-01,  3.1947e-01,  1.5239e-01],\n",
            "          [ 9.6442e-02,  1.7146e-01,  2.9475e-01],\n",
            "          [ 1.4575e-01,  1.2907e-01,  1.3806e-01]]],\n",
            "\n",
            "\n",
            "        [[[ 2.4335e-01, -2.8589e-01,  1.0505e-01],\n",
            "          [-2.1531e-01, -3.3923e-01,  1.5427e-01],\n",
            "          [-1.9193e-01, -1.1777e-01,  4.1414e-01]],\n",
            "\n",
            "         [[ 2.5366e-02, -3.0205e-01,  2.5843e-01],\n",
            "          [-1.2589e-01, -2.0048e-01,  4.3005e-01],\n",
            "          [-2.9399e-01, -1.0038e-01,  5.0889e-01]],\n",
            "\n",
            "         [[ 9.8024e-02, -1.9788e-01,  9.6638e-02],\n",
            "          [-2.2827e-01, -3.1201e-01,  3.7332e-01],\n",
            "          [-2.4037e-01,  1.3989e-01,  2.8579e-01]]],\n",
            "\n",
            "\n",
            "        [[[-7.2016e-03, -3.0143e-01, -1.4537e-01],\n",
            "          [-1.2803e-01, -3.1448e-01, -1.9222e-01],\n",
            "          [-1.6217e-02, -1.5828e-01,  2.5847e-02]],\n",
            "\n",
            "         [[ 1.4047e-01,  7.1633e-02,  1.8040e-01],\n",
            "          [-1.1767e-01,  6.0454e-02,  2.6184e-01],\n",
            "          [ 2.7845e-01,  1.1965e-01, -1.9799e-02]],\n",
            "\n",
            "         [[-1.1483e-01, -1.1983e-01,  1.1970e-01],\n",
            "          [-4.3212e-02, -1.9497e-01, -2.1352e-01],\n",
            "          [ 2.4898e-01, -1.6427e-01, -2.2416e-01]]],\n",
            "\n",
            "\n",
            "        [[[-8.1970e-02,  1.2170e-01,  3.2500e-01],\n",
            "          [ 2.0978e-02, -2.7624e-02,  5.9365e-01],\n",
            "          [ 1.4173e-01,  2.4965e-01,  5.0371e-01]],\n",
            "\n",
            "         [[-2.9812e-01, -3.1607e-01, -1.4379e-01],\n",
            "          [ 1.7026e-02, -5.4204e-01, -1.9956e-01],\n",
            "          [-1.4561e-01, -4.0603e-01, -9.0123e-02]],\n",
            "\n",
            "         [[ 1.7509e-02, -5.1352e-02,  3.0319e-01],\n",
            "          [ 1.1456e-01, -2.1835e-01,  2.3903e-02],\n",
            "          [-9.8225e-02, -2.7303e-01, -1.2727e-01]]],\n",
            "\n",
            "\n",
            "        [[[ 1.2051e-01,  3.2227e-01, -3.8483e-01],\n",
            "          [ 2.0491e-01,  3.4117e-01, -7.5611e-01],\n",
            "          [ 2.3243e-01,  2.1590e-01, -3.4974e-01]],\n",
            "\n",
            "         [[ 6.2409e-02,  3.6368e-01, -4.8265e-01],\n",
            "          [ 3.5704e-01,  3.0157e-01, -7.5521e-01],\n",
            "          [ 3.1173e-01,  1.9247e-01, -4.0081e-01]],\n",
            "\n",
            "         [[-4.3515e-02,  3.3067e-01, -5.0340e-01],\n",
            "          [ 1.5602e-01,  4.0796e-01, -5.9889e-01],\n",
            "          [ 3.5845e-01,  2.7059e-01, -2.6367e-01]]],\n",
            "\n",
            "\n",
            "        [[[-3.9152e-02,  6.2324e-02,  3.1977e-01],\n",
            "          [ 2.5241e-01,  1.7186e-01, -1.8546e-01],\n",
            "          [-1.5844e-01, -2.9829e-01, -1.1823e-01]],\n",
            "\n",
            "         [[-4.9666e-01, -3.1306e-01,  1.6898e-01],\n",
            "          [ 4.5687e-01,  2.7854e-01, -2.1053e-01],\n",
            "          [-1.6363e-01, -3.6188e-01, -1.0153e-01]],\n",
            "\n",
            "         [[-6.8525e-01, -1.5051e-01,  2.0266e-01],\n",
            "          [ 5.3810e-01,  4.0653e-01, -5.0686e-02],\n",
            "          [ 3.0795e-01,  2.0733e-01, -1.0515e-02]]],\n",
            "\n",
            "\n",
            "        [[[ 2.0058e-01,  1.3195e-02, -2.3191e-01],\n",
            "          [ 1.0330e-01,  8.3688e-02, -1.6035e-01],\n",
            "          [ 6.0856e-02,  2.2125e-01,  2.6680e-01]],\n",
            "\n",
            "         [[ 1.8514e-01, -1.6033e-01, -3.9470e-02],\n",
            "          [ 1.1308e-01,  6.7698e-02,  5.6790e-02],\n",
            "          [-9.4016e-02,  5.8618e-02, -4.8527e-02]],\n",
            "\n",
            "         [[ 3.4945e-01,  1.3307e-01,  1.5759e-01],\n",
            "          [ 1.7461e-01,  1.5544e-01,  2.8044e-02],\n",
            "          [-2.4950e-01, -2.4244e-01, -1.7074e-01]]],\n",
            "\n",
            "\n",
            "        [[[-4.4081e-01, -3.3611e-01, -5.2086e-02],\n",
            "          [-3.5589e-02,  4.8611e-02, -1.8133e-01],\n",
            "          [ 4.4869e-01,  3.9390e-01,  2.4588e-01]],\n",
            "\n",
            "         [[-3.2517e-01, -2.2197e-01,  2.7437e-01],\n",
            "          [ 1.4260e-01, -3.5894e-01, -2.4486e-01],\n",
            "          [ 2.5565e-01,  2.0684e-01,  8.1932e-02]],\n",
            "\n",
            "         [[-4.0482e-01, -2.0564e-01,  2.0338e-01],\n",
            "          [ 4.7242e-02, -3.9292e-03, -2.5111e-02],\n",
            "          [ 3.9317e-01,  2.6912e-01, -1.0005e-01]]],\n",
            "\n",
            "\n",
            "        [[[-2.1059e-01,  6.7548e-02,  1.1478e-01],\n",
            "          [ 2.0095e-02, -1.2927e-01, -2.3228e-01],\n",
            "          [-3.9828e-01,  6.1247e-02, -1.3443e-01]],\n",
            "\n",
            "         [[ 3.1808e-01,  1.4215e-01,  3.0486e-01],\n",
            "          [ 1.2204e-01,  3.4280e-01,  1.6514e-01],\n",
            "          [-2.0211e-01,  4.0253e-02,  2.0936e-01]],\n",
            "\n",
            "         [[ 1.1587e-01, -1.6207e-01,  1.4388e-01],\n",
            "          [-1.8677e-01,  2.1152e-01,  5.8620e-02],\n",
            "          [-8.9260e-02, -4.1907e-02, -1.9657e-01]]],\n",
            "\n",
            "\n",
            "        [[[ 1.4832e-02, -3.2970e-01, -3.0141e-01],\n",
            "          [-2.7587e-01,  7.7387e-02, -2.4628e-01],\n",
            "          [-6.1637e-02,  5.2275e-02, -2.6950e-01]],\n",
            "\n",
            "         [[-1.3995e-01,  1.0622e-01,  9.8016e-02],\n",
            "          [ 1.3374e-01,  7.9314e-02, -2.3552e-01],\n",
            "          [ 9.5584e-02, -7.6218e-02,  1.6720e-01]],\n",
            "\n",
            "         [[ 1.7100e-01,  1.1842e-01, -1.5772e-01],\n",
            "          [ 8.2627e-02,  2.1403e-01,  3.2401e-02],\n",
            "          [ 2.4013e-01,  3.1117e-01,  2.5739e-01]]],\n",
            "\n",
            "\n",
            "        [[[-6.8581e-02, -2.7639e-01,  2.9920e-02],\n",
            "          [-8.2083e-02, -1.7654e-01,  2.3034e-01],\n",
            "          [ 1.9863e-01, -1.7522e-01,  2.9546e-01]],\n",
            "\n",
            "         [[ 1.1226e-01, -6.4087e-02, -2.4987e-02],\n",
            "          [ 1.5910e-01, -2.5340e-01,  3.1271e-02],\n",
            "          [ 2.8868e-01, -2.5620e-01,  9.6353e-02]],\n",
            "\n",
            "         [[ 3.1360e-01, -4.0114e-01,  2.4751e-01],\n",
            "          [ 2.9165e-01, -3.3149e-01,  1.6896e-01],\n",
            "          [ 2.4618e-01,  1.1587e-02,  1.5130e-01]]],\n",
            "\n",
            "\n",
            "        [[[ 2.5202e-01,  3.1382e-01, -1.4681e-01],\n",
            "          [ 1.1851e-01,  9.5065e-02,  1.8796e-01],\n",
            "          [-6.0808e-02,  5.8960e-03,  1.9288e-01]],\n",
            "\n",
            "         [[ 1.5228e-01, -1.4205e-01,  2.5882e-02],\n",
            "          [-3.2445e-01,  8.6069e-02, -1.9226e-01],\n",
            "          [-3.1259e-01, -7.9735e-02, -2.3163e-01]],\n",
            "\n",
            "         [[ 3.8299e-02,  3.0642e-02,  2.2216e-01],\n",
            "          [-3.6052e-02, -1.5101e-03,  1.6048e-01],\n",
            "          [ 7.5789e-02, -1.8465e-01,  1.9614e-01]]],\n",
            "\n",
            "\n",
            "        [[[-2.3575e-01, -1.0210e-01,  2.3556e-01],\n",
            "          [ 1.2981e-01,  1.9937e-01,  2.0588e-04],\n",
            "          [-7.4735e-02, -1.9858e-01, -2.0336e-01]],\n",
            "\n",
            "         [[-1.0886e-01, -1.3230e-01, -2.1595e-01],\n",
            "          [ 1.4984e-01,  2.8566e-01, -9.4696e-02],\n",
            "          [ 1.5017e-01,  9.7568e-02,  6.8589e-02]],\n",
            "\n",
            "         [[-4.6100e-01, -5.3490e-01, -2.2692e-01],\n",
            "          [ 2.1401e-01,  9.1107e-02,  1.2837e-01],\n",
            "          [ 3.1391e-01,  3.7488e-01,  2.1144e-01]]],\n",
            "\n",
            "\n",
            "        [[[ 1.5357e-01,  4.3716e-01,  1.5509e-01],\n",
            "          [ 3.1043e-01, -1.5489e-01, -2.6218e-01],\n",
            "          [-1.5077e-02, -2.6530e-01, -3.9284e-01]],\n",
            "\n",
            "         [[ 2.1072e-01,  1.9928e-01, -1.6273e-01],\n",
            "          [ 5.7139e-02,  1.4135e-01, -3.5191e-01],\n",
            "          [-2.1212e-01, -3.3047e-01, -2.7542e-01]],\n",
            "\n",
            "         [[-6.0771e-02,  1.0263e-01, -1.1143e-01],\n",
            "          [ 1.2453e-01,  1.7029e-01,  4.3224e-02],\n",
            "          [-7.8054e-02, -2.9833e-01, -1.8174e-01]]],\n",
            "\n",
            "\n",
            "        [[[-1.6703e-01, -1.2982e-01,  1.0519e-01],\n",
            "          [ 2.1655e-01, -4.6130e-02, -9.4532e-02],\n",
            "          [ 2.8005e-01,  1.1131e-01,  9.0311e-02]],\n",
            "\n",
            "         [[ 8.9651e-02, -2.6047e-01, -1.0428e-01],\n",
            "          [-3.0476e-02, -3.3466e-01, -1.2593e-01],\n",
            "          [-1.4071e-01, -3.6594e-01, -3.0221e-01]],\n",
            "\n",
            "         [[ 1.8737e-01,  4.6160e-02, -6.9508e-02],\n",
            "          [ 1.4478e-01, -7.2266e-02,  1.8332e-01],\n",
            "          [ 2.4388e-01, -1.3536e-01, -3.1761e-02]]],\n",
            "\n",
            "\n",
            "        [[[-7.0563e-02,  3.7476e-02,  1.1720e-01],\n",
            "          [ 3.0523e-01,  1.2238e-01,  1.8499e-01],\n",
            "          [-1.8253e-01,  1.7817e-01, -2.7207e-01]],\n",
            "\n",
            "         [[ 1.2006e-01,  1.7544e-01,  1.2791e-01],\n",
            "          [ 4.2329e-01,  9.0269e-02, -4.4199e-02],\n",
            "          [ 2.5989e-01,  2.9060e-01,  1.9816e-01]],\n",
            "\n",
            "         [[-2.8489e-01,  3.1375e-02,  6.1222e-03],\n",
            "          [-3.0529e-01, -2.4631e-01, -3.3832e-01],\n",
            "          [-3.8963e-01, -5.1077e-01, -2.0548e-01]]],\n",
            "\n",
            "\n",
            "        [[[ 1.3586e-01,  4.0303e-01, -3.9535e-02],\n",
            "          [-1.0005e-01,  4.3251e-01, -3.6276e-02],\n",
            "          [-1.7113e-01,  3.0145e-01, -1.8666e-01]],\n",
            "\n",
            "         [[-1.0647e-01,  3.6547e-01, -2.0944e-01],\n",
            "          [-4.0985e-01,  3.0412e-01, -2.2847e-01],\n",
            "          [-1.8827e-01,  5.4913e-02,  9.8394e-03]],\n",
            "\n",
            "         [[-2.0575e-01,  5.7374e-02, -1.9037e-01],\n",
            "          [-2.2895e-01,  3.6020e-01, -1.6176e-01],\n",
            "          [-3.0649e-01,  3.8991e-01, -1.4408e-01]]],\n",
            "\n",
            "\n",
            "        [[[-1.5595e-01, -5.0938e-01, -1.3315e-01],\n",
            "          [-4.7786e-01, -5.0838e-02, -2.4993e-01],\n",
            "          [-1.4945e-01, -2.2413e-01, -3.3902e-01]],\n",
            "\n",
            "         [[ 4.6689e-01,  3.0436e-02,  2.2480e-01],\n",
            "          [ 1.8272e-01,  3.9176e-01,  1.8430e-01],\n",
            "          [ 2.2146e-01,  2.4901e-01, -1.1808e-01]],\n",
            "\n",
            "         [[ 1.7141e-01, -1.7969e-01,  2.1927e-01],\n",
            "          [-1.3547e-01,  1.1191e-01, -7.4276e-02],\n",
            "          [-4.9815e-03,  1.7070e-01,  9.8847e-02]]],\n",
            "\n",
            "\n",
            "        [[[-5.3634e-01, -1.8076e-01,  6.4133e-01],\n",
            "          [-6.2569e-02, -2.0763e-01, -1.0087e-02],\n",
            "          [ 2.8545e-02,  2.7963e-01, -4.5079e-02]],\n",
            "\n",
            "         [[-4.0514e-01,  4.8624e-02,  5.8271e-01],\n",
            "          [-2.5898e-02, -3.0347e-01,  2.9415e-01],\n",
            "          [ 4.1005e-02,  2.9777e-01, -3.9622e-01]],\n",
            "\n",
            "         [[-6.9340e-02,  1.0248e-02,  7.0126e-02],\n",
            "          [ 5.9961e-01, -2.9898e-01, -3.9008e-01],\n",
            "          [ 4.2882e-01,  2.2108e-01, -6.5943e-01]]],\n",
            "\n",
            "\n",
            "        [[[-1.1494e-01, -2.3379e-01, -1.6597e-02],\n",
            "          [-1.5321e-01,  4.3379e-02, -3.6093e-02],\n",
            "          [ 2.0815e-01,  2.7102e-01, -7.0499e-02]],\n",
            "\n",
            "         [[ 1.9078e-01, -2.7839e-01,  1.0594e-01],\n",
            "          [-1.7829e-01,  8.4670e-02, -1.0570e-02],\n",
            "          [-6.1745e-02,  2.3965e-01, -1.1847e-01]],\n",
            "\n",
            "         [[ 2.9236e-01,  4.9189e-02,  2.5752e-01],\n",
            "          [ 4.9676e-02, -1.5949e-01, -1.2759e-01],\n",
            "          [ 1.5936e-01, -4.7895e-02, -3.5670e-01]]],\n",
            "\n",
            "\n",
            "        [[[-4.7515e-02, -6.2677e-03, -9.1719e-02],\n",
            "          [-1.1547e-01, -2.0607e-02,  7.7283e-03],\n",
            "          [-7.9561e-02,  2.0902e-01,  1.2280e-01]],\n",
            "\n",
            "         [[ 2.2133e-01,  1.6420e-01,  3.1683e-02],\n",
            "          [ 1.2701e-01,  1.0832e-01, -7.4127e-02],\n",
            "          [-2.8878e-01,  2.2044e-02,  5.6691e-02]],\n",
            "\n",
            "         [[ 9.7160e-02,  2.7023e-01,  1.4802e-01],\n",
            "          [ 1.8864e-01, -7.9540e-02, -3.0375e-01],\n",
            "          [ 4.3222e-02,  1.7650e-01, -2.3111e-01]]],\n",
            "\n",
            "\n",
            "        [[[-8.8570e-02,  6.2932e-01, -2.4184e-01],\n",
            "          [-5.0228e-01,  6.7140e-01, -3.0680e-01],\n",
            "          [-4.7142e-01,  1.9426e-01,  1.7662e-01]],\n",
            "\n",
            "         [[-3.6987e-01,  6.7597e-01, -2.5652e-01],\n",
            "          [-6.8296e-01,  6.7224e-01,  2.6702e-02],\n",
            "          [-4.3642e-01,  4.7088e-02,  8.9238e-02]],\n",
            "\n",
            "         [[-2.6649e-01,  4.2566e-01, -1.9488e-01],\n",
            "          [-4.3382e-01,  6.3242e-01,  5.6735e-02],\n",
            "          [-3.2477e-01,  4.5187e-02,  2.3667e-01]]]], device='cuda:0',\n",
            "       dtype=torch.float64)\n"
          ],
          "name": "stdout"
        }
      ]
    },
    {
      "cell_type": "code",
      "metadata": {
        "id": "LYdCXceZzSk9",
        "colab_type": "code",
        "colab": {}
      },
      "source": [
        "class Classification(nn.Module):\n",
        "  def __init__(self, focus_net):\n",
        "    super(Classification, self).__init__()\n",
        "    self.module1 = focus_net\n",
        "    self.conv1 = nn.Conv2d(in_channels=3, out_channels=32, kernel_size=3, padding=0)\n",
        "    self.pool = nn.MaxPool2d(2, 2)\n",
        "    self.conv2 = nn.Conv2d(in_channels=32, out_channels=64, kernel_size=3, padding=0)\n",
        "    self.conv3 = nn.Conv2d(in_channels=64, out_channels=64, kernel_size=3, padding=0)\n",
        "    self.fc1 = nn.Linear(1024, 512)\n",
        "    self.fc2 = nn.Linear(512, 64)\n",
        "    self.fc3 = nn.Linear(64, 10)\n",
        "    self.fc4 = nn.Linear(10,3)\n",
        "\n",
        "  def forward(self,z):  #z batch of list of 9 images\n",
        "    y = torch.zeros([batch,3, 32,32], dtype=torch.float64)\n",
        "    x = torch.zeros([batch,9],dtype=torch.float64)\n",
        "    x = x.to(\"cuda\")\n",
        "    y = y.to(\"cuda\")\n",
        "\n",
        "    for i in range(9):\n",
        "        x[:,i] = self.module1.forward(z[:,i])[:,0]\n",
        "\n",
        "    x = F.softmax(x,dim=1)\n",
        "\n",
        "    x1 = x[:,0]\n",
        "    torch.mul(x1[:,None,None,None],z[:,0])\n",
        "\n",
        "    for i in range(9):            \n",
        "      x1 = x[:,i]          \n",
        "      y = y + torch.mul(x1[:,None,None,None],z[:,i])\n",
        "    \n",
        "    y1 = self.pool(F.relu(self.conv1(y)))\n",
        "    y1 = self.pool(F.relu(self.conv2(y1)))\n",
        "    # print(x.shape)\n",
        "    y1 = (F.relu(self.conv3(y1)))\n",
        "    y1 =  y1.view(y1.size(0), -1)\n",
        "    # print(x.shape)\n",
        "    y1 = F.relu(self.fc1(y1))\n",
        "    y1 = F.relu(self.fc2(y1))\n",
        "    y1 = F.relu(self.fc3(y1))\n",
        "    y1 = self.fc4(y1)\n",
        "\n",
        "    return y1 , x, y"
      ],
      "execution_count": 17,
      "outputs": []
    },
    {
      "cell_type": "code",
      "metadata": {
        "id": "uPYplUGazU9I",
        "colab_type": "code",
        "colab": {}
      },
      "source": [
        "focus_net.eval()\n",
        "classify = Classification(focus_net).double()\n",
        "classify = classify.to(\"cuda\")"
      ],
      "execution_count": 18,
      "outputs": []
    },
    {
      "cell_type": "code",
      "metadata": {
        "id": "l789TLMP9zJX",
        "colab_type": "code",
        "colab": {}
      },
      "source": [
        "test_images =[]        #list of mosaic images, each mosaic image is saved as laist of 9 images\n",
        "fore_idx_test =[]                   #list of indexes at which foreground image is present in a mosaic image                \n",
        "test_label=[]                # label of mosaic image = foreground class present in that mosaic\n",
        "for i in range(10000):\n",
        "  bg_idx = np.random.randint(0,35000,8)\n",
        "  fg_idx = np.random.randint(0,15000)\n",
        "  fg = np.random.randint(0,9)\n",
        "  fore_idx_test.append(fg)\n",
        "  image_list,label = create_mosaic_img(bg_idx,fg_idx,fg)\n",
        "  test_images.append(image_list)\n",
        "  test_label.append(label)"
      ],
      "execution_count": 19,
      "outputs": []
    },
    {
      "cell_type": "code",
      "metadata": {
        "id": "bBzV9dKS5po7",
        "colab_type": "code",
        "colab": {}
      },
      "source": [
        "test_data = MosaicDataset(test_images,test_label,fore_idx_test)\n",
        "test_loader = DataLoader( test_data,batch_size= batch ,shuffle=False)"
      ],
      "execution_count": 20,
      "outputs": []
    },
    {
      "cell_type": "code",
      "metadata": {
        "id": "n5g3geNJ5zEu",
        "colab_type": "code",
        "colab": {}
      },
      "source": [
        "import torch.optim as optim\n",
        "criterion_classify = nn.CrossEntropyLoss()\n",
        "optimizer_classify = optim.SGD(classify.parameters(), lr=0.1, momentum=0.9)"
      ],
      "execution_count": 21,
      "outputs": []
    },
    {
      "cell_type": "code",
      "metadata": {
        "colab_type": "code",
        "id": "tFfAJZkcZEsY",
        "colab": {
          "base_uri": "https://localhost:8080/",
          "height": 1000
        },
        "outputId": "30300ef2-5b4b-4ed7-c0f2-cd5a6f28bce7"
      },
      "source": [
        "nos_epochs = 1000\n",
        "focus_true_pred_true =0\n",
        "focus_false_pred_true =0\n",
        "focus_true_pred_false =0\n",
        "focus_false_pred_false =0\n",
        "\n",
        "argmax_more_than_half = 0\n",
        "argmax_less_than_half =0\n",
        "\n",
        "col1=[]\n",
        "col2=[]\n",
        "col3=[]\n",
        "col4=[]\n",
        "col5=[]\n",
        "col6=[]\n",
        "col7=[]\n",
        "col8=[]\n",
        "col9=[]\n",
        "col10=[]\n",
        "col11=[]\n",
        "col12=[]\n",
        "col13=[]\n",
        "\n",
        "for epoch in range(nos_epochs):  # loop over the dataset multiple times\n",
        "\n",
        "  focus_true_pred_true =0\n",
        "  focus_false_pred_true =0\n",
        "  focus_true_pred_false =0\n",
        "  focus_false_pred_false =0\n",
        "  \n",
        "  argmax_more_than_half = 0\n",
        "  argmax_less_than_half =0\n",
        "  \n",
        "  running_loss = 0.0\n",
        "  epoch_loss = []\n",
        "  cnt=0\n",
        "  classify.train()\n",
        "  iteration = desired_num // batch\n",
        "  \n",
        "  #training data set\n",
        "  \n",
        "  for i, data in  enumerate(train_loader):\n",
        "    inputs , labels , fore_idx = data\n",
        "    inputs, labels = inputs.to(\"cuda\"), labels.to(\"cuda\")\n",
        "    # zero the parameter gradients\n",
        "    \n",
        "    optimizer_classify.zero_grad()\n",
        "    \n",
        "    outputs, alphas, avg_images = classify(inputs)\n",
        "\n",
        "    _, predicted = torch.max(outputs.data, 1)\n",
        "#     print(outputs)\n",
        "#     print(outputs.shape,labels.shape , torch.argmax(outputs, dim=1))\n",
        "\n",
        "    loss = criterion_classify(outputs, labels) \n",
        "    loss.backward()\n",
        "    optimizer_classify.step()\n",
        "    \n",
        "    running_loss += loss.item()\n",
        "    mini = 60\n",
        "    if cnt % mini == mini-1:    # print every 40 mini-batches\n",
        "      print('[%d, %5d] loss: %.3f' %(epoch + 1, cnt + 1, running_loss / mini))\n",
        "      epoch_loss.append(running_loss/mini)\n",
        "      running_loss = 0.0\n",
        "    cnt=cnt+1\n",
        "    \n",
        "    if epoch % 5 == 0:\n",
        "      for j in range (batch):\n",
        "        focus = torch.argmax(alphas[j])\n",
        "\n",
        "        if(alphas[j][focus] >= 0.5):\n",
        "          argmax_more_than_half +=1\n",
        "        else:\n",
        "          argmax_less_than_half +=1\n",
        "\n",
        "        if(focus == fore_idx[j] and predicted[j] == labels[j]):\n",
        "          focus_true_pred_true += 1\n",
        "\n",
        "        elif(focus != fore_idx[j] and predicted[j] == labels[j]):\n",
        "          focus_false_pred_true +=1\n",
        "\n",
        "        elif(focus == fore_idx[j] and predicted[j] != labels[j]):\n",
        "          focus_true_pred_false +=1\n",
        "\n",
        "        elif(focus != fore_idx[j] and predicted[j] != labels[j]):\n",
        "          focus_false_pred_false +=1\n",
        "\n",
        "  if(np.mean(epoch_loss) <= 0.1):\n",
        "      break;\n",
        "\n",
        "  if epoch % 5 == 0:\n",
        "    col1.append(epoch)\n",
        "    col2.append(argmax_more_than_half)\n",
        "    col3.append(argmax_less_than_half)\n",
        "    col4.append(focus_true_pred_true)\n",
        "    col5.append(focus_false_pred_true)\n",
        "    col6.append(focus_true_pred_false)\n",
        "    col7.append(focus_false_pred_false)\n",
        "    print(\"train\",col4)\n",
        "  \n",
        "    #************************************************************************\n",
        "    #testing data set\n",
        "    classify.eval()  \n",
        "    with torch.no_grad():\n",
        "      focus_true_pred_true =0\n",
        "      focus_false_pred_true =0\n",
        "      focus_true_pred_false =0\n",
        "      focus_false_pred_false =0\n",
        "\n",
        "      argmax_more_than_half = 0\n",
        "      argmax_less_than_half =0\n",
        "      for data in test_loader:\n",
        "        inputs, labels , fore_idx = data\n",
        "        inputs, labels = inputs.to(\"cuda\"), labels.to(\"cuda\")\n",
        "        outputs, alphas, avg_images = classify(inputs)\n",
        "        _, predicted = torch.max(outputs.data, 1)\n",
        "\n",
        "        for j in range (batch):\n",
        "          focus = torch.argmax(alphas[j])\n",
        "\n",
        "          if(alphas[j][focus] >= 0.5):\n",
        "            argmax_more_than_half +=1\n",
        "          else:\n",
        "            argmax_less_than_half +=1\n",
        "\n",
        "          if(focus == fore_idx[j] and predicted[j] == labels[j]):\n",
        "            focus_true_pred_true += 1\n",
        "\n",
        "          elif(focus != fore_idx[j] and predicted[j] == labels[j]):\n",
        "            focus_false_pred_true +=1\n",
        "\n",
        "          elif(focus == fore_idx[j] and predicted[j] != labels[j]):\n",
        "            focus_true_pred_false +=1\n",
        "\n",
        "          elif(focus != fore_idx[j] and predicted[j] != labels[j]):\n",
        "            focus_false_pred_false +=1\n",
        "      \n",
        "    col8.append(argmax_more_than_half)\n",
        "    col9.append(argmax_less_than_half)\n",
        "    col10.append(focus_true_pred_true)\n",
        "    col11.append(focus_false_pred_true)\n",
        "    col12.append(focus_true_pred_false)\n",
        "    col13.append(focus_false_pred_false)\n",
        "    print(\"test\",col10)\n",
        "    \n",
        "print('Finished Training')"
      ],
      "execution_count": 22,
      "outputs": [
        {
          "output_type": "stream",
          "text": [
            "[1,    60] loss: 1.100\n",
            "[1,   120] loss: 1.008\n",
            "[1,   180] loss: 0.962\n",
            "[1,   240] loss: 0.990\n",
            "train [14110]\n",
            "test [5752]\n",
            "[2,    60] loss: 0.860\n",
            "[2,   120] loss: 0.722\n",
            "[2,   180] loss: 0.695\n",
            "[2,   240] loss: 0.663\n",
            "[3,    60] loss: 0.593\n",
            "[3,   120] loss: 0.585\n",
            "[3,   180] loss: 0.569\n",
            "[3,   240] loss: 0.572\n",
            "[4,    60] loss: 0.522\n",
            "[4,   120] loss: 0.500\n",
            "[4,   180] loss: 0.486\n",
            "[4,   240] loss: 0.480\n",
            "[5,    60] loss: 0.439\n",
            "[5,   120] loss: 0.433\n",
            "[5,   180] loss: 0.439\n",
            "[5,   240] loss: 0.444\n",
            "[6,    60] loss: 0.382\n",
            "[6,   120] loss: 0.371\n",
            "[6,   180] loss: 0.368\n",
            "[6,   240] loss: 0.371\n",
            "train [14110, 25595]\n",
            "test [5752, 8414]\n",
            "[7,    60] loss: 0.328\n",
            "[7,   120] loss: 0.336\n",
            "[7,   180] loss: 0.342\n",
            "[7,   240] loss: 0.337\n",
            "[8,    60] loss: 0.263\n",
            "[8,   120] loss: 0.287\n",
            "[8,   180] loss: 0.289\n",
            "[8,   240] loss: 0.284\n",
            "[9,    60] loss: 0.219\n",
            "[9,   120] loss: 0.257\n",
            "[9,   180] loss: 0.247\n",
            "[9,   240] loss: 0.248\n",
            "[10,    60] loss: 0.174\n",
            "[10,   120] loss: 0.221\n",
            "[10,   180] loss: 0.228\n",
            "[10,   240] loss: 0.204\n",
            "[11,    60] loss: 0.165\n",
            "[11,   120] loss: 0.181\n",
            "[11,   180] loss: 0.196\n",
            "[11,   240] loss: 0.192\n",
            "train [14110, 25595, 27933]\n",
            "test [5752, 8414, 8657]\n",
            "[12,    60] loss: 0.145\n",
            "[12,   120] loss: 0.141\n",
            "[12,   180] loss: 0.157\n",
            "[12,   240] loss: 0.177\n",
            "[13,    60] loss: 0.122\n",
            "[13,   120] loss: 0.125\n",
            "[13,   180] loss: 0.146\n",
            "[13,   240] loss: 0.154\n",
            "[14,    60] loss: 0.105\n",
            "[14,   120] loss: 0.103\n",
            "[14,   180] loss: 0.127\n",
            "[14,   240] loss: 0.126\n",
            "[15,    60] loss: 0.096\n",
            "[15,   120] loss: 0.118\n",
            "[15,   180] loss: 0.132\n",
            "[15,   240] loss: 0.123\n",
            "[16,    60] loss: 0.092\n",
            "[16,   120] loss: 0.108\n",
            "[16,   180] loss: 0.126\n",
            "[16,   240] loss: 0.120\n",
            "train [14110, 25595, 27933, 28810]\n",
            "test [5752, 8414, 8657, 8663]\n",
            "[17,    60] loss: 0.074\n",
            "[17,   120] loss: 0.092\n",
            "[17,   180] loss: 0.086\n",
            "[17,   240] loss: 0.101\n",
            "Finished Training\n"
          ],
          "name": "stdout"
        }
      ]
    },
    {
      "cell_type": "code",
      "metadata": {
        "id": "O0snZVb4pkGp",
        "colab_type": "code",
        "colab": {
          "base_uri": "https://localhost:8080/",
          "height": 35
        },
        "outputId": "27e27f00-43b3-4b57-bb8d-f33b02f4df29"
      },
      "source": [
        "for params in focus_net.parameters():\n",
        "  print(params.requires_grad)\n",
        "  break;"
      ],
      "execution_count": 39,
      "outputs": [
        {
          "output_type": "stream",
          "text": [
            "False\n"
          ],
          "name": "stdout"
        }
      ]
    },
    {
      "cell_type": "code",
      "metadata": {
        "id": "VToKa651tMtc",
        "colab_type": "code",
        "colab": {}
      },
      "source": [
        "# for params in focus_net.parameters():\n",
        "#   print(params)\n",
        "#   break;"
      ],
      "execution_count": 40,
      "outputs": []
    },
    {
      "cell_type": "code",
      "metadata": {
        "id": "OBkrx7vTnEJw",
        "colab_type": "code",
        "colab": {}
      },
      "source": [
        "name = \"8_focus_pretrained_classify_random_train_classify\""
      ],
      "execution_count": 41,
      "outputs": []
    },
    {
      "cell_type": "code",
      "metadata": {
        "id": "G5kPCVrwpM3b",
        "colab_type": "code",
        "colab": {
          "base_uri": "https://localhost:8080/",
          "height": 35
        },
        "outputId": "87f3d2cb-6c7f-4c56-a2a1-e4756099a304"
      },
      "source": [
        "print(name)"
      ],
      "execution_count": 42,
      "outputs": [
        {
          "output_type": "stream",
          "text": [
            "8_focus_pretrained_classify_random_train_classify\n"
          ],
          "name": "stdout"
        }
      ]
    },
    {
      "cell_type": "code",
      "metadata": {
        "id": "WIAJ3UZN8rPE",
        "colab_type": "code",
        "colab": {}
      },
      "source": [
        "torch.save(classify.state_dict(),\"/content/drive/My Drive/Research/Cheating_data/16_experiments_on_cnn_3layers/\"+name+\".pt\")"
      ],
      "execution_count": 43,
      "outputs": []
    },
    {
      "cell_type": "code",
      "metadata": {
        "id": "2LgQKXW-8MH-",
        "colab_type": "code",
        "colab": {}
      },
      "source": [
        "columns = [\"epochs\", \"argmax > 0.5\" ,\"argmax < 0.5\", \"focus_true_pred_true\", \"focus_false_pred_true\", \"focus_true_pred_false\", \"focus_false_pred_false\" ]"
      ],
      "execution_count": 44,
      "outputs": []
    },
    {
      "cell_type": "code",
      "metadata": {
        "id": "tSKphM888Y5o",
        "colab_type": "code",
        "colab": {}
      },
      "source": [
        "df_train = pd.DataFrame()\n",
        "df_test = pd.DataFrame()"
      ],
      "execution_count": 45,
      "outputs": []
    },
    {
      "cell_type": "code",
      "metadata": {
        "id": "FrWoEGXZ8cBO",
        "colab_type": "code",
        "colab": {}
      },
      "source": [
        "df_train[columns[0]] = col1\n",
        "df_train[columns[1]] = col2\n",
        "df_train[columns[2]] = col3\n",
        "df_train[columns[3]] = col4\n",
        "df_train[columns[4]] = col5\n",
        "df_train[columns[5]] = col6\n",
        "df_train[columns[6]] = col7\n",
        "\n",
        "df_test[columns[0]] = col1\n",
        "df_test[columns[1]] = col8\n",
        "df_test[columns[2]] = col9\n",
        "df_test[columns[3]] = col10\n",
        "df_test[columns[4]] = col11\n",
        "df_test[columns[5]] = col12\n",
        "df_test[columns[6]] = col13"
      ],
      "execution_count": 46,
      "outputs": []
    },
    {
      "cell_type": "code",
      "metadata": {
        "id": "RGJoMFcK8eTe",
        "colab_type": "code",
        "colab": {
          "base_uri": "https://localhost:8080/",
          "height": 175
        },
        "outputId": "f22c4f0f-6353-4432-fa0b-80d20f6f0028"
      },
      "source": [
        "df_train"
      ],
      "execution_count": 47,
      "outputs": [
        {
          "output_type": "execute_result",
          "data": {
            "text/html": [
              "<div>\n",
              "<style scoped>\n",
              "    .dataframe tbody tr th:only-of-type {\n",
              "        vertical-align: middle;\n",
              "    }\n",
              "\n",
              "    .dataframe tbody tr th {\n",
              "        vertical-align: top;\n",
              "    }\n",
              "\n",
              "    .dataframe thead th {\n",
              "        text-align: right;\n",
              "    }\n",
              "</style>\n",
              "<table border=\"1\" class=\"dataframe\">\n",
              "  <thead>\n",
              "    <tr style=\"text-align: right;\">\n",
              "      <th></th>\n",
              "      <th>epochs</th>\n",
              "      <th>argmax &gt; 0.5</th>\n",
              "      <th>argmax &lt; 0.5</th>\n",
              "      <th>focus_true_pred_true</th>\n",
              "      <th>focus_false_pred_true</th>\n",
              "      <th>focus_true_pred_false</th>\n",
              "      <th>focus_false_pred_false</th>\n",
              "    </tr>\n",
              "  </thead>\n",
              "  <tbody>\n",
              "    <tr>\n",
              "      <th>0</th>\n",
              "      <td>0</td>\n",
              "      <td>2266</td>\n",
              "      <td>27734</td>\n",
              "      <td>14110</td>\n",
              "      <td>0</td>\n",
              "      <td>15890</td>\n",
              "      <td>0</td>\n",
              "    </tr>\n",
              "    <tr>\n",
              "      <th>1</th>\n",
              "      <td>5</td>\n",
              "      <td>2266</td>\n",
              "      <td>27734</td>\n",
              "      <td>25595</td>\n",
              "      <td>0</td>\n",
              "      <td>4405</td>\n",
              "      <td>0</td>\n",
              "    </tr>\n",
              "    <tr>\n",
              "      <th>2</th>\n",
              "      <td>10</td>\n",
              "      <td>2266</td>\n",
              "      <td>27734</td>\n",
              "      <td>27933</td>\n",
              "      <td>0</td>\n",
              "      <td>2067</td>\n",
              "      <td>0</td>\n",
              "    </tr>\n",
              "    <tr>\n",
              "      <th>3</th>\n",
              "      <td>15</td>\n",
              "      <td>2266</td>\n",
              "      <td>27734</td>\n",
              "      <td>28810</td>\n",
              "      <td>0</td>\n",
              "      <td>1190</td>\n",
              "      <td>0</td>\n",
              "    </tr>\n",
              "  </tbody>\n",
              "</table>\n",
              "</div>"
            ],
            "text/plain": [
              "   epochs  argmax > 0.5  ...  focus_true_pred_false  focus_false_pred_false\n",
              "0       0          2266  ...                  15890                       0\n",
              "1       5          2266  ...                   4405                       0\n",
              "2      10          2266  ...                   2067                       0\n",
              "3      15          2266  ...                   1190                       0\n",
              "\n",
              "[4 rows x 7 columns]"
            ]
          },
          "metadata": {
            "tags": []
          },
          "execution_count": 47
        }
      ]
    },
    {
      "cell_type": "code",
      "metadata": {
        "id": "Ei9HVQBZ8gn4",
        "colab_type": "code",
        "colab": {
          "base_uri": "https://localhost:8080/",
          "height": 573
        },
        "outputId": "e08431ed-9b74-4353-a521-0026444755d1"
      },
      "source": [
        "# plt.figure(12,12)\n",
        "plt.plot(col1,col2, label='argmax > 0.5')\n",
        "plt.plot(col1,col3, label='argmax < 0.5')\n",
        "\n",
        "plt.legend(loc='center left', bbox_to_anchor=(1, 0.5))\n",
        "plt.xlabel(\"epochs\")\n",
        "plt.ylabel(\"training data\")\n",
        "plt.title(\"On Training set\")\n",
        "plt.show()\n",
        "\n",
        "plt.plot(col1,col4, label =\"focus_true_pred_true \")\n",
        "plt.plot(col1,col5, label =\"focus_false_pred_true \")\n",
        "plt.plot(col1,col6, label =\"focus_true_pred_false \")\n",
        "plt.plot(col1,col7, label =\"focus_false_pred_false \")\n",
        "plt.title(\"On Training set\")\n",
        "plt.legend(loc='center left', bbox_to_anchor=(1, 0.5))\n",
        "plt.xlabel(\"epochs\")\n",
        "plt.ylabel(\"training data\")\n",
        "plt.show()"
      ],
      "execution_count": 48,
      "outputs": [
        {
          "output_type": "display_data",
          "data": {
            "image/png": "[encoded data removed]",
            "text/plain": [
              "<Figure size 432x288 with 1 Axes>"
            ]
          },
          "metadata": {
            "tags": [],
            "needs_background": "light"
          }
        },
        {
          "output_type": "display_data",
          "data": {
            "image/png": "[encoded data removed]",
            "text/plain": [
              "<Figure size 432x288 with 1 Axes>"
            ]
          },
          "metadata": {
            "tags": [],
            "needs_background": "light"
          }
        }
      ]
    },
    {
      "cell_type": "code",
      "metadata": {
        "id": "_QKYVO8i8ivA",
        "colab_type": "code",
        "colab": {
          "base_uri": "https://localhost:8080/",
          "height": 175
        },
        "outputId": "b9147eca-2c14-48d4-b3c7-c2fb10e44e2e"
      },
      "source": [
        "df_test"
      ],
      "execution_count": 49,
      "outputs": [
        {
          "output_type": "execute_result",
          "data": {
            "text/html": [
              "<div>\n",
              "<style scoped>\n",
              "    .dataframe tbody tr th:only-of-type {\n",
              "        vertical-align: middle;\n",
              "    }\n",
              "\n",
              "    .dataframe tbody tr th {\n",
              "        vertical-align: top;\n",
              "    }\n",
              "\n",
              "    .dataframe thead th {\n",
              "        text-align: right;\n",
              "    }\n",
              "</style>\n",
              "<table border=\"1\" class=\"dataframe\">\n",
              "  <thead>\n",
              "    <tr style=\"text-align: right;\">\n",
              "      <th></th>\n",
              "      <th>epochs</th>\n",
              "      <th>argmax &gt; 0.5</th>\n",
              "      <th>argmax &lt; 0.5</th>\n",
              "      <th>focus_true_pred_true</th>\n",
              "      <th>focus_false_pred_true</th>\n",
              "      <th>focus_true_pred_false</th>\n",
              "      <th>focus_false_pred_false</th>\n",
              "    </tr>\n",
              "  </thead>\n",
              "  <tbody>\n",
              "    <tr>\n",
              "      <th>0</th>\n",
              "      <td>0</td>\n",
              "      <td>763</td>\n",
              "      <td>9237</td>\n",
              "      <td>5752</td>\n",
              "      <td>0</td>\n",
              "      <td>4248</td>\n",
              "      <td>0</td>\n",
              "    </tr>\n",
              "    <tr>\n",
              "      <th>1</th>\n",
              "      <td>5</td>\n",
              "      <td>763</td>\n",
              "      <td>9237</td>\n",
              "      <td>8414</td>\n",
              "      <td>0</td>\n",
              "      <td>1586</td>\n",
              "      <td>0</td>\n",
              "    </tr>\n",
              "    <tr>\n",
              "      <th>2</th>\n",
              "      <td>10</td>\n",
              "      <td>763</td>\n",
              "      <td>9237</td>\n",
              "      <td>8657</td>\n",
              "      <td>0</td>\n",
              "      <td>1343</td>\n",
              "      <td>0</td>\n",
              "    </tr>\n",
              "    <tr>\n",
              "      <th>3</th>\n",
              "      <td>15</td>\n",
              "      <td>763</td>\n",
              "      <td>9237</td>\n",
              "      <td>8663</td>\n",
              "      <td>0</td>\n",
              "      <td>1337</td>\n",
              "      <td>0</td>\n",
              "    </tr>\n",
              "  </tbody>\n",
              "</table>\n",
              "</div>"
            ],
            "text/plain": [
              "   epochs  argmax > 0.5  ...  focus_true_pred_false  focus_false_pred_false\n",
              "0       0           763  ...                   4248                       0\n",
              "1       5           763  ...                   1586                       0\n",
              "2      10           763  ...                   1343                       0\n",
              "3      15           763  ...                   1337                       0\n",
              "\n",
              "[4 rows x 7 columns]"
            ]
          },
          "metadata": {
            "tags": []
          },
          "execution_count": 49
        }
      ]
    },
    {
      "cell_type": "code",
      "metadata": {
        "id": "aRlpgnjy8k1n",
        "colab_type": "code",
        "colab": {
          "base_uri": "https://localhost:8080/",
          "height": 573
        },
        "outputId": "2b0a68aa-6a20-4872-d448-d21e39f61330"
      },
      "source": [
        "# plt.figure(12,12)\n",
        "plt.plot(col1,col8, label='argmax > 0.5')\n",
        "plt.plot(col1,col9, label='argmax < 0.5')\n",
        "\n",
        "plt.legend(loc='center left', bbox_to_anchor=(1, 0.5))\n",
        "plt.xlabel(\"epochs\")\n",
        "plt.ylabel(\"Testing data\")\n",
        "plt.title(\"On Testing set\")\n",
        "plt.show()\n",
        "\n",
        "plt.plot(col1,col10, label =\"focus_true_pred_true \")\n",
        "plt.plot(col1,col11, label =\"focus_false_pred_true \")\n",
        "plt.plot(col1,col12, label =\"focus_true_pred_false \")\n",
        "plt.plot(col1,col13, label =\"focus_false_pred_false \")\n",
        "plt.title(\"On Testing set\")\n",
        "plt.legend(loc='center left', bbox_to_anchor=(1, 0.5))\n",
        "plt.xlabel(\"epochs\")\n",
        "plt.ylabel(\"Testing data\")\n",
        "plt.show()"
      ],
      "execution_count": 50,
      "outputs": [
        {
          "output_type": "display_data",
          "data": {
            "image/png": "[encoded data removed]",
            "text/plain": [
              "<Figure size 432x288 with 1 Axes>"
            ]
          },
          "metadata": {
            "tags": [],
            "needs_background": "light"
          }
        },
        {
          "output_type": "display_data",
          "data": {
            "image/png": "[encoded data removed]",
            "text/plain": [
              "<Figure size 432x288 with 1 Axes>"
            ]
          },
          "metadata": {
            "tags": [],
            "needs_background": "light"
          }
        }
      ]
    },
    {
      "cell_type": "code",
      "metadata": {
        "id": "JsHb_Ed-bBOh",
        "colab_type": "code",
        "colab": {
          "base_uri": "https://localhost:8080/",
          "height": 217
        },
        "outputId": "e4e5fa45-fe0e-49c9-d04c-26108528c91c"
      },
      "source": [
        "correct = 0\n",
        "total = 0\n",
        "count = 0\n",
        "flag = 1\n",
        "focus_true_pred_true =0\n",
        "focus_false_pred_true =0\n",
        "focus_true_pred_false =0\n",
        "focus_false_pred_false =0\n",
        "\n",
        "argmax_more_than_half = 0\n",
        "argmax_less_than_half =0\n",
        "\n",
        "with torch.no_grad():\n",
        "  for data in train_loader:\n",
        "    inputs, labels , fore_idx = data\n",
        "    inputs, labels , fore_idx = inputs.to(\"cuda\"),labels.to(\"cuda\"), fore_idx.to(\"cuda\")\n",
        "    outputs, alphas, avg_images = classify(inputs)\n",
        "\n",
        "    _, predicted = torch.max(outputs.data, 1)\n",
        "\n",
        "    for j in range(labels.size(0)):\n",
        "      count += 1\n",
        "      focus = torch.argmax(alphas[j])\n",
        "      if alphas[j][focus] >= 0.5 :\n",
        "        argmax_more_than_half += 1\n",
        "      else:\n",
        "        argmax_less_than_half += 1\n",
        "\n",
        "      if(focus == fore_idx[j] and predicted[j] == labels[j]):\n",
        "          focus_true_pred_true += 1\n",
        "      elif(focus != fore_idx[j] and predicted[j] == labels[j]):\n",
        "        focus_false_pred_true += 1\n",
        "      elif(focus == fore_idx[j] and predicted[j] != labels[j]):\n",
        "        focus_true_pred_false += 1\n",
        "      elif(focus != fore_idx[j] and predicted[j] != labels[j]):\n",
        "        focus_false_pred_false += 1\n",
        "\n",
        "    total += labels.size(0)\n",
        "    correct += (predicted == labels).sum().item()\n",
        "\n",
        "print('Accuracy of the network on the 30000 train images: %d %%' % ( 100 * correct / total))\n",
        "print(\"total correct\", correct)\n",
        "print(\"total train set images\", total)\n",
        "\n",
        "print(\"focus_true_pred_true %d =============> FTPT : %d %%\" % (focus_true_pred_true , (100 * focus_true_pred_true / total) ) )\n",
        "print(\"focus_false_pred_true %d =============> FFPT : %d %%\" % (focus_false_pred_true, (100 * focus_false_pred_true / total) ) )\n",
        "print(\"focus_true_pred_false %d =============> FTPF : %d %%\" %( focus_true_pred_false , ( 100 * focus_true_pred_false / total) ) )\n",
        "print(\"focus_false_pred_false %d =============> FFPF : %d %%\" % (focus_false_pred_false, ( 100 * focus_false_pred_false / total) ) )\n",
        "\n",
        "print(\"argmax_more_than_half ==================> \",argmax_more_than_half)\n",
        "print(\"argmax_less_than_half ==================> \",argmax_less_than_half)\n",
        "print(count)\n",
        "\n",
        "print(\"=\"*100)"
      ],
      "execution_count": 51,
      "outputs": [
        {
          "output_type": "stream",
          "text": [
            "Accuracy of the network on the 30000 train images: 97 %\n",
            "total correct 29305\n",
            "total train set images 30000\n",
            "focus_true_pred_true 29305 =============> FTPT : 97 %\n",
            "focus_false_pred_true 0 =============> FFPT : 0 %\n",
            "focus_true_pred_false 695 =============> FTPF : 2 %\n",
            "focus_false_pred_false 0 =============> FFPF : 0 %\n",
            "argmax_more_than_half ==================>  2266\n",
            "argmax_less_than_half ==================>  27734\n",
            "30000\n",
            "====================================================================================================\n"
          ],
          "name": "stdout"
        }
      ]
    },
    {
      "cell_type": "code",
      "metadata": {
        "id": "I0EntKmdbE45",
        "colab_type": "code",
        "colab": {
          "base_uri": "https://localhost:8080/",
          "height": 181
        },
        "outputId": "08581389-103e-40a2-9f80-e4bd4ef2bcf2"
      },
      "source": [
        "correct = 0\n",
        "total = 0\n",
        "count = 0\n",
        "flag = 1\n",
        "focus_true_pred_true =0\n",
        "focus_false_pred_true =0\n",
        "focus_true_pred_false =0\n",
        "focus_false_pred_false =0\n",
        "\n",
        "argmax_more_than_half = 0\n",
        "argmax_less_than_half =0\n",
        "\n",
        "with torch.no_grad():\n",
        "  for data in test_loader:\n",
        "    inputs, labels , fore_idx = data\n",
        "    inputs, labels , fore_idx = inputs.to(\"cuda\"),labels.to(\"cuda\"), fore_idx.to(\"cuda\")\n",
        "    outputs, alphas, avg_images = classify(inputs)\n",
        "\n",
        "    _, predicted = torch.max(outputs.data, 1)\n",
        "\n",
        "    for j in range(labels.size(0)):\n",
        "      focus = torch.argmax(alphas[j])\n",
        "      if alphas[j][focus] >= 0.5 :\n",
        "        argmax_more_than_half += 1\n",
        "      else:\n",
        "        argmax_less_than_half += 1\n",
        "\n",
        "      if(focus == fore_idx[j] and predicted[j] == labels[j]):\n",
        "          focus_true_pred_true += 1\n",
        "      elif(focus != fore_idx[j] and predicted[j] == labels[j]):\n",
        "        focus_false_pred_true += 1\n",
        "      elif(focus == fore_idx[j] and predicted[j] != labels[j]):\n",
        "        focus_true_pred_false += 1\n",
        "      elif(focus != fore_idx[j] and predicted[j] != labels[j]):\n",
        "        focus_false_pred_false += 1\n",
        "\n",
        "    total += labels.size(0)\n",
        "    correct += (predicted == labels).sum().item()\n",
        "\n",
        "print('Accuracy of the network on the 10000 test images: %d %%' % (\n",
        "    100 * correct / total))\n",
        "print(\"total correct\", correct)\n",
        "print(\"total train set images\", total)\n",
        "\n",
        "print(\"focus_true_pred_true %d =============> FTPT : %d %%\" % (focus_true_pred_true , (100 * focus_true_pred_true / total) ) )\n",
        "print(\"focus_false_pred_true %d =============> FFPT : %d %%\" % (focus_false_pred_true, (100 * focus_false_pred_true / total) ) )\n",
        "print(\"focus_true_pred_false %d =============> FTPF : %d %%\" %( focus_true_pred_false , ( 100 * focus_true_pred_false / total) ) )\n",
        "print(\"focus_false_pred_false %d =============> FFPF : %d %%\" % (focus_false_pred_false, ( 100 * focus_false_pred_false / total) ) )\n",
        "\n",
        "print(\"argmax_more_than_half ==================> \",argmax_more_than_half)\n",
        "print(\"argmax_less_than_half ==================> \",argmax_less_than_half)"
      ],
      "execution_count": 52,
      "outputs": [
        {
          "output_type": "stream",
          "text": [
            "Accuracy of the network on the 10000 test images: 87 %\n",
            "total correct 8764\n",
            "total train set images 10000\n",
            "focus_true_pred_true 8764 =============> FTPT : 87 %\n",
            "focus_false_pred_true 0 =============> FFPT : 0 %\n",
            "focus_true_pred_false 1236 =============> FTPF : 12 %\n",
            "focus_false_pred_false 0 =============> FFPF : 0 %\n",
            "argmax_more_than_half ==================>  763\n",
            "argmax_less_than_half ==================>  9237\n"
          ],
          "name": "stdout"
        }
      ]
    },
    {
      "cell_type": "code",
      "metadata": {
        "id": "iJEMJnUI9FP2",
        "colab_type": "code",
        "colab": {
          "base_uri": "https://localhost:8080/",
          "height": 72
        },
        "outputId": "8401cca0-ba85-4ffa-c586-53a9897f405f"
      },
      "source": [
        "correct = 0\n",
        "total = 0\n",
        "# classify.eval()\n",
        "with torch.no_grad():\n",
        "  for data in train_loader:\n",
        "    inputs, labels , fore_idx = data\n",
        "    inputs, labels = inputs.to(\"cuda\"), labels.to(\"cuda\")\n",
        "    outputs, alphas, avg_images = classify(inputs)\n",
        "\n",
        "    _, predicted = torch.max(outputs.data, 1)\n",
        "\n",
        "    total += labels.size(0)\n",
        "    correct += (predicted == labels).sum().item()\n",
        "\n",
        "print('Accuracy of the network on the 30000 train images: %d %%' % ( 100 * correct / total))\n",
        "print(\"total correct\", correct)\n",
        "print(\"total train set images\", total)"
      ],
      "execution_count": 53,
      "outputs": [
        {
          "output_type": "stream",
          "text": [
            "Accuracy of the network on the 30000 train images: 97 %\n",
            "total correct 29305\n",
            "total train set images 30000\n"
          ],
          "name": "stdout"
        }
      ]
    },
    {
      "cell_type": "code",
      "metadata": {
        "id": "an7qmNLB-Ilb",
        "colab_type": "code",
        "colab": {
          "base_uri": "https://localhost:8080/",
          "height": 72
        },
        "outputId": "0b8d6649-0ea6-4c4d-dcdf-506d78dfb5bc"
      },
      "source": [
        "correct = 0\n",
        "total = 0\n",
        "\n",
        "# classify.eval()\n",
        "with torch.no_grad():\n",
        "  for data in test_loader:\n",
        "    inputs, labels , fore_idx = data\n",
        "    inputs, labels = inputs.to(\"cuda\"), labels.to(\"cuda\")\n",
        "    outputs, alphas, avg_images = classify(inputs)\n",
        "\n",
        "    _, predicted = torch.max(outputs.data, 1)\n",
        "\n",
        "    total += labels.size(0)\n",
        "    correct += (predicted == labels).sum().item()\n",
        "\n",
        "print('Accuracy of the network on the 10000 test images: %d %%' % ( 100 * correct / total))\n",
        "print(\"total correct\", correct)\n",
        "print(\"total train set images\", total)"
      ],
      "execution_count": 54,
      "outputs": [
        {
          "output_type": "stream",
          "text": [
            "Accuracy of the network on the 10000 test images: 87 %\n",
            "total correct 8764\n",
            "total train set images 10000\n"
          ],
          "name": "stdout"
        }
      ]
    }
  ]
}