{
  "nbformat": 4,
  "nbformat_minor": 0,
  "metadata": {
    "accelerator": "GPU",
    "colab": {
      "name": "Classify_cheat_data_cnn_3layer_16_32_32.ipynb",
      "provenance": [],
      "collapsed_sections": [],
      "machine_shape": "hm"
    },
    "kernelspec": {
      "display_name": "Python 3",
      "language": "python",
      "name": "python3"
    },
    "language_info": {
      "codemirror_mode": {
        "name": "ipython",
        "version": 3
      },
      "file_extension": ".py",
      "mimetype": "text/x-python",
      "name": "python",
      "nbconvert_exporter": "python",
      "pygments_lexer": "ipython3",
      "version": "3.6.5"
    },
    "widgets": {
      "application/vnd.jupyter.widget-state+json": {
        "1df0b80e9b6143b3971d7670e940217a": {
          "model_module": "@jupyter-widgets/controls",
          "model_name": "HBoxModel",
          "state": {
            "_view_name": "HBoxView",
            "_dom_classes": [],
            "_model_name": "HBoxModel",
            "_view_module": "@jupyter-widgets/controls",
            "_model_module_version": "1.5.0",
            "_view_count": null,
            "_view_module_version": "1.5.0",
            "box_style": "",
            "layout": "IPY_MODEL_c2da85ab61ad49f58df691cc7a7406b9",
            "_model_module": "@jupyter-widgets/controls",
            "children": [
              "IPY_MODEL_6725e523927444d1a4b897295f971d79",
              "IPY_MODEL_3fc37e1e90644f43a969c2d6c3e8aa55"
            ]
          }
        },
        "c2da85ab61ad49f58df691cc7a7406b9": {
          "model_module": "@jupyter-widgets/base",
          "model_name": "LayoutModel",
          "state": {
            "_view_name": "LayoutView",
            "grid_template_rows": null,
            "right": null,
            "justify_content": null,
            "_view_module": "@jupyter-widgets/base",
            "overflow": null,
            "_model_module_version": "1.2.0",
            "_view_count": null,
            "flex_flow": null,
            "width": null,
            "min_width": null,
            "border": null,
            "align_items": null,
            "bottom": null,
            "_model_module": "@jupyter-widgets/base",
            "top": null,
            "grid_column": null,
            "overflow_y": null,
            "overflow_x": null,
            "grid_auto_flow": null,
            "grid_area": null,
            "grid_template_columns": null,
            "flex": null,
            "_model_name": "LayoutModel",
            "justify_items": null,
            "grid_row": null,
            "max_height": null,
            "align_content": null,
            "visibility": null,
            "align_self": null,
            "height": null,
            "min_height": null,
            "padding": null,
            "grid_auto_rows": null,
            "grid_gap": null,
            "max_width": null,
            "order": null,
            "_view_module_version": "1.2.0",
            "grid_template_areas": null,
            "object_position": null,
            "object_fit": null,
            "grid_auto_columns": null,
            "margin": null,
            "display": null,
            "left": null
          }
        },
        "6725e523927444d1a4b897295f971d79": {
          "model_module": "@jupyter-widgets/controls",
          "model_name": "FloatProgressModel",
          "state": {
            "_view_name": "ProgressView",
            "style": "IPY_MODEL_45f228f7d5d54ea3b1eb88c9c6873f9a",
            "_dom_classes": [],
            "description": "",
            "_model_name": "FloatProgressModel",
            "bar_style": "info",
            "max": 1,
            "_view_module": "@jupyter-widgets/controls",
            "_model_module_version": "1.5.0",
            "value": 1,
            "_view_count": null,
            "_view_module_version": "1.5.0",
            "orientation": "horizontal",
            "min": 0,
            "description_tooltip": null,
            "_model_module": "@jupyter-widgets/controls",
            "layout": "IPY_MODEL_62815d5a69a74bb2a66c3c02b15a39db"
          }
        },
        "3fc37e1e90644f43a969c2d6c3e8aa55": {
          "model_module": "@jupyter-widgets/controls",
          "model_name": "HTMLModel",
          "state": {
            "_view_name": "HTMLView",
            "style": "IPY_MODEL_d70b6af09361457086ec264812d4535c",
            "_dom_classes": [],
            "description": "",
            "_model_name": "HTMLModel",
            "placeholder": "​",
            "_view_module": "@jupyter-widgets/controls",
            "_model_module_version": "1.5.0",
            "value": " 170500096/? [00:20&lt;00:00, 78188547.06it/s]",
            "_view_count": null,
            "_view_module_version": "1.5.0",
            "description_tooltip": null,
            "_model_module": "@jupyter-widgets/controls",
            "layout": "IPY_MODEL_1bff193006324df4949163a45ccb635f"
          }
        },
        "45f228f7d5d54ea3b1eb88c9c6873f9a": {
          "model_module": "@jupyter-widgets/controls",
          "model_name": "ProgressStyleModel",
          "state": {
            "_view_name": "StyleView",
            "_model_name": "ProgressStyleModel",
            "description_width": "initial",
            "_view_module": "@jupyter-widgets/base",
            "_model_module_version": "1.5.0",
            "_view_count": null,
            "_view_module_version": "1.2.0",
            "bar_color": null,
            "_model_module": "@jupyter-widgets/controls"
          }
        },
        "62815d5a69a74bb2a66c3c02b15a39db": {
          "model_module": "@jupyter-widgets/base",
          "model_name": "LayoutModel",
          "state": {
            "_view_name": "LayoutView",
            "grid_template_rows": null,
            "right": null,
            "justify_content": null,
            "_view_module": "@jupyter-widgets/base",
            "overflow": null,
            "_model_module_version": "1.2.0",
            "_view_count": null,
            "flex_flow": null,
            "width": null,
            "min_width": null,
            "border": null,
            "align_items": null,
            "bottom": null,
            "_model_module": "@jupyter-widgets/base",
            "top": null,
            "grid_column": null,
            "overflow_y": null,
            "overflow_x": null,
            "grid_auto_flow": null,
            "grid_area": null,
            "grid_template_columns": null,
            "flex": null,
            "_model_name": "LayoutModel",
            "justify_items": null,
            "grid_row": null,
            "max_height": null,
            "align_content": null,
            "visibility": null,
            "align_self": null,
            "height": null,
            "min_height": null,
            "padding": null,
            "grid_auto_rows": null,
            "grid_gap": null,
            "max_width": null,
            "order": null,
            "_view_module_version": "1.2.0",
            "grid_template_areas": null,
            "object_position": null,
            "object_fit": null,
            "grid_auto_columns": null,
            "margin": null,
            "display": null,
            "left": null
          }
        },
        "d70b6af09361457086ec264812d4535c": {
          "model_module": "@jupyter-widgets/controls",
          "model_name": "DescriptionStyleModel",
          "state": {
            "_view_name": "StyleView",
            "_model_name": "DescriptionStyleModel",
            "description_width": "",
            "_view_module": "@jupyter-widgets/base",
            "_model_module_version": "1.5.0",
            "_view_count": null,
            "_view_module_version": "1.2.0",
            "_model_module": "@jupyter-widgets/controls"
          }
        },
        "1bff193006324df4949163a45ccb635f": {
          "model_module": "@jupyter-widgets/base",
          "model_name": "LayoutModel",
          "state": {
            "_view_name": "LayoutView",
            "grid_template_rows": null,
            "right": null,
            "justify_content": null,
            "_view_module": "@jupyter-widgets/base",
            "overflow": null,
            "_model_module_version": "1.2.0",
            "_view_count": null,
            "flex_flow": null,
            "width": null,
            "min_width": null,
            "border": null,
            "align_items": null,
            "bottom": null,
            "_model_module": "@jupyter-widgets/base",
            "top": null,
            "grid_column": null,
            "overflow_y": null,
            "overflow_x": null,
            "grid_auto_flow": null,
            "grid_area": null,
            "grid_template_columns": null,
            "flex": null,
            "_model_name": "LayoutModel",
            "justify_items": null,
            "grid_row": null,
            "max_height": null,
            "align_content": null,
            "visibility": null,
            "align_self": null,
            "height": null,
            "min_height": null,
            "padding": null,
            "grid_auto_rows": null,
            "grid_gap": null,
            "max_width": null,
            "order": null,
            "_view_module_version": "1.2.0",
            "grid_template_areas": null,
            "object_position": null,
            "object_fit": null,
            "grid_auto_columns": null,
            "margin": null,
            "display": null,
            "left": null
          }
        }
      }
    }
  },
  "cells": [
    {
      "cell_type": "code",
      "metadata": {
        "colab_type": "code",
        "id": "JSjG64ra4aFu",
        "colab": {
          "base_uri": "https://localhost:8080/",
          "height": 128
        },
        "outputId": "83402c79-a387-4faa-8ebd-c5a08d55e9c3"
      },
      "source": [
        "from google.colab import drive\n",
        "drive.mount('/content/drive')"
      ],
      "execution_count": 1,
      "outputs": [
        {
          "output_type": "stream",
          "text": [
            "Go to this URL in a browser: https://accounts.google.com/o/oauth2/auth?client_id=947318989803-6bn6qk8qdgf4n4g3pfee6491hc0brc4i.apps.googleusercontent.com&redirect_uri=urn%3aietf%3awg%3aoauth%3a2.0%3aoob&scope=email%20https%3a%2f%2fwww.googleapis.com%2fauth%2fdocs.test%20https%3a%2f%2fwww.googleapis.com%2fauth%2fdrive%20https%3a%2f%2fwww.googleapis.com%2fauth%2fdrive.photos.readonly%20https%3a%2f%2fwww.googleapis.com%2fauth%2fpeopleapi.readonly&response_type=code\n",
            "\n",
            "Enter your authorization code:\n",
            "4/4AF9FdABh-vEUkXKZdebstr1iXzFp8aZ1SDCjOwZYHekaGmz0AHo8Js\n",
            "Mounted at /content/drive\n"
          ],
          "name": "stdout"
        }
      ]
    },
    {
      "cell_type": "code",
      "metadata": {
        "colab_type": "code",
        "id": "V8-7SARDZErK",
        "colab": {}
      },
      "source": [
        "import torch.nn as nn\n",
        "import torch.nn.functional as F\n",
        "\n",
        "import pandas as pd\n",
        "import numpy as np\n",
        "import matplotlib.pyplot as plt\n",
        "\n",
        "import torch\n",
        "import torchvision\n",
        "import torchvision.transforms as transforms\n",
        "from torch.utils.data import Dataset, DataLoader\n",
        "from torchvision import transforms, utils\n",
        "\n",
        "from matplotlib import pyplot as plt\n",
        "\n",
        "import copy\n",
        "\n",
        "# Ignore warnings\n",
        "import warnings\n",
        "warnings.filterwarnings(\"ignore\")\n"
      ],
      "execution_count": 2,
      "outputs": []
    },
    {
      "cell_type": "code",
      "metadata": {
        "colab_type": "code",
        "id": "acRFqJNrZErV",
        "colab": {
          "base_uri": "https://localhost:8080/",
          "height": 104,
          "referenced_widgets": [
            "1df0b80e9b6143b3971d7670e940217a",
            "c2da85ab61ad49f58df691cc7a7406b9",
            "6725e523927444d1a4b897295f971d79",
            "3fc37e1e90644f43a969c2d6c3e8aa55",
            "45f228f7d5d54ea3b1eb88c9c6873f9a",
            "62815d5a69a74bb2a66c3c02b15a39db",
            "d70b6af09361457086ec264812d4535c",
            "1bff193006324df4949163a45ccb635f"
          ]
        },
        "outputId": "fa1039b3-e6b3-4c33-b2f5-9ecbc7e796fd"
      },
      "source": [
        "transform = transforms.Compose(\n",
        "    [transforms.ToTensor(),\n",
        "     transforms.Normalize((0.5, 0.5, 0.5), (0.5, 0.5, 0.5))])\n",
        "\n",
        "trainset = torchvision.datasets.CIFAR10(root='./data', train=True, download=True, transform=transform)\n",
        "\n",
        "\n",
        "testset = torchvision.datasets.CIFAR10(root='./data', train=False, download=True, transform=transform)\n"
      ],
      "execution_count": 3,
      "outputs": [
        {
          "output_type": "stream",
          "text": [
            "Downloading https://www.cs.toronto.edu/~kriz/cifar-10-python.tar.gz to ./data/cifar-10-python.tar.gz\n"
          ],
          "name": "stdout"
        },
        {
          "output_type": "display_data",
          "data": {
            "application/vnd.jupyter.widget-view+json": {
              "model_id": "1df0b80e9b6143b3971d7670e940217a",
              "version_minor": 0,
              "version_major": 2
            },
            "text/plain": [
              "HBox(children=(FloatProgress(value=1.0, bar_style='info', max=1.0), HTML(value='')))"
            ]
          },
          "metadata": {
            "tags": []
          }
        },
        {
          "output_type": "stream",
          "text": [
            "Extracting ./data/cifar-10-python.tar.gz to ./data\n",
            "Files already downloaded and verified\n"
          ],
          "name": "stdout"
        }
      ]
    },
    {
      "cell_type": "code",
      "metadata": {
        "id": "Ip_hgswQOHeX",
        "colab_type": "code",
        "colab": {
          "base_uri": "https://localhost:8080/",
          "height": 35
        },
        "outputId": "04ea029d-88c6-465c-a05b-18cfa931c15b"
      },
      "source": [
        "type(trainset.targets)\n",
        "type(trainset.data)"
      ],
      "execution_count": 4,
      "outputs": [
        {
          "output_type": "execute_result",
          "data": {
            "text/plain": [
              "numpy.ndarray"
            ]
          },
          "metadata": {
            "tags": []
          },
          "execution_count": 4
        }
      ]
    },
    {
      "cell_type": "code",
      "metadata": {
        "id": "gh5DXuAV1tp5",
        "colab_type": "code",
        "colab": {}
      },
      "source": [
        "# trainloader = torch.utils.data.DataLoader(trainset, batch_size=10, shuffle=True)\n",
        "# testloader = torch.utils.data.DataLoader(testset, batch_size=10, shuffle=False)\n",
        "\n",
        "\n",
        "classes = ('plane', 'car', 'bird', 'cat', 'deer', 'dog', 'frog', 'horse', 'ship', 'truck')\n",
        "\n",
        "foreground_classes = {'plane', 'car', 'bird'}\n",
        "\n",
        "background_classes = {'cat', 'deer', 'dog', 'frog', 'horse','ship', 'truck'}\n",
        "\n",
        "fg1,fg2,fg3 = 0,1,2"
      ],
      "execution_count": 5,
      "outputs": []
    },
    {
      "cell_type": "code",
      "metadata": {
        "colab_type": "code",
        "id": "V_JUhwCeZErk",
        "colab": {
          "base_uri": "https://localhost:8080/",
          "height": 35
        },
        "outputId": "d74bfb15-2102-4a23-9b72-019f20d91b2a"
      },
      "source": [
        "is_fg = [np.where(np.array(trainset.targets)==fg1)[0] , np.where(np.array(trainset.targets)==fg2)[0], np.where(np.array(trainset.targets)==fg3)[0]  ]\n",
        "# print(is_fg)\n",
        "is_fg = np.concatenate(is_fg,axis=0)\n",
        "print(is_fg, (is_fg).shape)"
      ],
      "execution_count": 6,
      "outputs": [
        {
          "output_type": "stream",
          "text": [
            "[   29    30    35 ... 49987 49991 49995] (15000,)\n"
          ],
          "name": "stdout"
        }
      ]
    },
    {
      "cell_type": "code",
      "metadata": {
        "id": "GUtkYs9SXKoj",
        "colab_type": "code",
        "colab": {
          "base_uri": "https://localhost:8080/",
          "height": 35
        },
        "outputId": "db39bff9-8bf2-49d6-c122-ec3c24462a22"
      },
      "source": [
        "trainset.data = trainset.data[is_fg]\n",
        "trainset.data.shape"
      ],
      "execution_count": 7,
      "outputs": [
        {
          "output_type": "execute_result",
          "data": {
            "text/plain": [
              "(15000, 32, 32, 3)"
            ]
          },
          "metadata": {
            "tags": []
          },
          "execution_count": 7
        }
      ]
    },
    {
      "cell_type": "code",
      "metadata": {
        "id": "lWxkp87fNwnM",
        "colab_type": "code",
        "colab": {
          "base_uri": "https://localhost:8080/",
          "height": 35
        },
        "outputId": "ba535365-b0b5-4290-a150-a3a6ccac50d6"
      },
      "source": [
        "trainset.targets = np.array(trainset.targets)[is_fg]\n",
        "trainset.targets.shape"
      ],
      "execution_count": 8,
      "outputs": [
        {
          "output_type": "execute_result",
          "data": {
            "text/plain": [
              "(15000,)"
            ]
          },
          "metadata": {
            "tags": []
          },
          "execution_count": 8
        }
      ]
    },
    {
      "cell_type": "code",
      "metadata": {
        "colab_type": "code",
        "id": "ywcNP5ur2Btv",
        "colab": {
          "base_uri": "https://localhost:8080/",
          "height": 35
        },
        "outputId": "1c597ed3-1621-4a23-ff8d-cf2c07ac9dfe"
      },
      "source": [
        "is_fg = [np.where(np.array(testset.targets)==fg1)[0] , np.where(np.array(testset.targets)==fg2)[0], np.where(np.array(testset.targets)==fg3)[0]  ]\n",
        "# print(is_fg)\n",
        "is_fg = np.concatenate(is_fg,axis=0)\n",
        "print(is_fg, (is_fg).shape)"
      ],
      "execution_count": 9,
      "outputs": [
        {
          "output_type": "stream",
          "text": [
            "[   3   10   21 ... 9970 9982 9989] (3000,)\n"
          ],
          "name": "stdout"
        }
      ]
    },
    {
      "cell_type": "code",
      "metadata": {
        "colab_type": "code",
        "id": "9jv5cZS_2BuK",
        "colab": {
          "base_uri": "https://localhost:8080/",
          "height": 35
        },
        "outputId": "51336c50-ac3e-474b-c460-ea0da35cf596"
      },
      "source": [
        "testset.data = testset.data[is_fg]\n",
        "testset.data.shape"
      ],
      "execution_count": 10,
      "outputs": [
        {
          "output_type": "execute_result",
          "data": {
            "text/plain": [
              "(3000, 32, 32, 3)"
            ]
          },
          "metadata": {
            "tags": []
          },
          "execution_count": 10
        }
      ]
    },
    {
      "cell_type": "code",
      "metadata": {
        "colab_type": "code",
        "id": "Cea4-tjj2BuV",
        "colab": {
          "base_uri": "https://localhost:8080/",
          "height": 35
        },
        "outputId": "6e5d5681-de10-4391-e5d2-9a373944abdd"
      },
      "source": [
        "testset.targets = np.array(testset.targets)[is_fg]\n",
        "testset.targets.shape"
      ],
      "execution_count": 11,
      "outputs": [
        {
          "output_type": "execute_result",
          "data": {
            "text/plain": [
              "(3000,)"
            ]
          },
          "metadata": {
            "tags": []
          },
          "execution_count": 11
        }
      ]
    },
    {
      "cell_type": "code",
      "metadata": {
        "id": "QvEdoecDYhV5",
        "colab_type": "code",
        "colab": {
          "base_uri": "https://localhost:8080/",
          "height": 35
        },
        "outputId": "53f57774-b74a-46c4-b712-f2a7f2bc345f"
      },
      "source": [
        "np.unique(np.array(testset.targets)) , np.unique(np.array(trainset.targets))"
      ],
      "execution_count": 12,
      "outputs": [
        {
          "output_type": "execute_result",
          "data": {
            "text/plain": [
              "(array([0, 1, 2]), array([0, 1, 2]))"
            ]
          },
          "metadata": {
            "tags": []
          },
          "execution_count": 12
        }
      ]
    },
    {
      "cell_type": "code",
      "metadata": {
        "id": "EQOH55xR6INA",
        "colab_type": "code",
        "colab": {}
      },
      "source": [
        "trainloader = torch.utils.data.DataLoader(trainset, batch_size=256,shuffle=True)\n",
        "testloader = torch.utils.data.DataLoader(testset, batch_size=256,shuffle=False)"
      ],
      "execution_count": 13,
      "outputs": []
    },
    {
      "cell_type": "code",
      "metadata": {
        "id": "nIYYIfs9oO-x",
        "colab_type": "code",
        "colab": {}
      },
      "source": [
        "import torch.nn as nn\n",
        "import torch.nn.functional as F\n",
        "\n",
        "class CNN(nn.Module):\n",
        "  def __init__(self):\n",
        "    super(CNN, self).__init__()\n",
        "    self.conv1 = nn.Conv2d(in_channels=3, out_channels=6, kernel_size=3, padding=0)\n",
        "    self.pool = nn.MaxPool2d(2, 2)\n",
        "    self.conv2 = nn.Conv2d(in_channels=6, out_channels=12, kernel_size=3, padding=0)\n",
        "    self.conv3 = nn.Conv2d(in_channels=12, out_channels=20, kernel_size=3, padding=0)\n",
        "    self.fc1 = nn.Linear(320, 256)\n",
        "    self.fc2 = nn.Linear(256, 64)\n",
        "    self.fc3 = nn.Linear(64, 10)\n",
        "    self.fc4 = nn.Linear(10,3)\n",
        "\n",
        "  def forward(self, x):\n",
        "    x = self.pool(F.relu(self.conv1(x)))\n",
        "    x = self.pool(F.relu(self.conv2(x)))\n",
        "    # print(x.shape)\n",
        "    x = (F.relu(self.conv3(x)))\n",
        "    x =  x.view(x.size(0), -1)\n",
        "    # print(x.shape)\n",
        "    x = F.relu(self.fc1(x))\n",
        "    x = F.relu(self.fc2(x))\n",
        "    x = F.relu(self.fc3(x))\n",
        "    x = self.fc4(x)\n",
        "    return x"
      ],
      "execution_count": 14,
      "outputs": []
    },
    {
      "cell_type": "code",
      "metadata": {
        "id": "1GvXR1zV5n4w",
        "colab_type": "code",
        "colab": {}
      },
      "source": [
        "what_net = CNN()#.double()\n",
        "what_net = what_net.to(\"cuda\")"
      ],
      "execution_count": 19,
      "outputs": []
    },
    {
      "cell_type": "code",
      "metadata": {
        "id": "yZob1uGT6fTM",
        "colab_type": "code",
        "colab": {
          "base_uri": "https://localhost:8080/",
          "height": 199
        },
        "outputId": "11f6032e-9e35-4b03-e720-8b984e85085a"
      },
      "source": [
        "what_net"
      ],
      "execution_count": 20,
      "outputs": [
        {
          "output_type": "execute_result",
          "data": {
            "text/plain": [
              "CNN(\n",
              "  (conv1): Conv2d(3, 6, kernel_size=(3, 3), stride=(1, 1))\n",
              "  (pool): MaxPool2d(kernel_size=2, stride=2, padding=0, dilation=1, ceil_mode=False)\n",
              "  (conv2): Conv2d(6, 12, kernel_size=(3, 3), stride=(1, 1))\n",
              "  (conv3): Conv2d(12, 20, kernel_size=(3, 3), stride=(1, 1))\n",
              "  (fc1): Linear(in_features=320, out_features=256, bias=True)\n",
              "  (fc2): Linear(in_features=256, out_features=64, bias=True)\n",
              "  (fc3): Linear(in_features=64, out_features=10, bias=True)\n",
              "  (fc4): Linear(in_features=10, out_features=3, bias=True)\n",
              ")"
            ]
          },
          "metadata": {
            "tags": []
          },
          "execution_count": 20
        }
      ]
    },
    {
      "cell_type": "code",
      "metadata": {
        "id": "n5g3geNJ5zEu",
        "colab_type": "code",
        "colab": {}
      },
      "source": [
        "import torch.optim as optim\n",
        "criterion_what = nn.CrossEntropyLoss()\n",
        "optimizer_what = optim.SGD(what_net.parameters(), lr=0.01, momentum=0.9)"
      ],
      "execution_count": 21,
      "outputs": []
    },
    {
      "cell_type": "code",
      "metadata": {
        "colab_type": "code",
        "id": "tFfAJZkcZEsY",
        "colab": {
          "base_uri": "https://localhost:8080/",
          "height": 1000
        },
        "outputId": "149055d1-c707-49b8-d5a7-7f546977ca91"
      },
      "source": [
        "acti = []\n",
        "loss_curi = []\n",
        "epochs = 1000\n",
        "for epoch in range(epochs): # loop over the dataset multiple times\n",
        "    ep_lossi = []\n",
        "\n",
        "    running_loss = 0.0\n",
        "    for i, data in enumerate(trainloader, 0):\n",
        "        # get the inputs\n",
        "        inputs, labels = data\n",
        "        inputs, labels = inputs.to(\"cuda\"),labels.to(\"cuda\")\n",
        "\n",
        "        # zero the parameter gradients\n",
        "        optimizer_what.zero_grad()\n",
        "\n",
        "        # forward + backward + optimize\n",
        "        outputs = what_net(inputs)\n",
        "        loss = criterion_what(outputs, labels)\n",
        "        loss.backward()\n",
        "        optimizer_what.step()\n",
        "\n",
        "        # print statistics\n",
        "        running_loss += loss.item()\n",
        "        mini_batch = 50\n",
        "        if i % mini_batch == mini_batch-1:    # print every 50 mini-batches\n",
        "            print('[%d, %5d] loss: %.3f' %(epoch + 1, i + 1, running_loss / mini_batch))\n",
        "            ep_lossi.append(running_loss/mini_batch) # loss per minibatch\n",
        "            running_loss = 0.0\n",
        "            \n",
        "    if(np.mean(ep_lossi) <= 0.005):\n",
        "      break;\n",
        "    loss_curi.append(np.mean(ep_lossi))   #loss per epoch            \n",
        "\n",
        "print('Finished Training')"
      ],
      "execution_count": 22,
      "outputs": [
        {
          "output_type": "stream",
          "text": [
            "[1,    50] loss: 1.108\n",
            "[2,    50] loss: 1.098\n",
            "[3,    50] loss: 1.098\n",
            "[4,    50] loss: 1.097\n",
            "[5,    50] loss: 1.094\n",
            "[6,    50] loss: 1.079\n",
            "[7,    50] loss: 1.007\n",
            "[8,    50] loss: 0.960\n",
            "[9,    50] loss: 0.935\n",
            "[10,    50] loss: 0.896\n",
            "[11,    50] loss: 0.799\n",
            "[12,    50] loss: 0.649\n",
            "[13,    50] loss: 0.569\n",
            "[14,    50] loss: 0.566\n",
            "[15,    50] loss: 0.538\n",
            "[16,    50] loss: 0.510\n",
            "[17,    50] loss: 0.493\n",
            "[18,    50] loss: 0.473\n",
            "[19,    50] loss: 0.488\n",
            "[20,    50] loss: 0.467\n",
            "[21,    50] loss: 0.438\n",
            "[22,    50] loss: 0.432\n",
            "[23,    50] loss: 0.435\n",
            "[24,    50] loss: 0.406\n",
            "[25,    50] loss: 0.390\n",
            "[26,    50] loss: 0.390\n",
            "[27,    50] loss: 0.376\n",
            "[28,    50] loss: 0.355\n",
            "[29,    50] loss: 0.341\n",
            "[30,    50] loss: 0.327\n",
            "[31,    50] loss: 0.312\n",
            "[32,    50] loss: 0.312\n",
            "[33,    50] loss: 0.295\n",
            "[34,    50] loss: 0.284\n",
            "[35,    50] loss: 0.272\n",
            "[36,    50] loss: 0.272\n",
            "[37,    50] loss: 0.256\n",
            "[38,    50] loss: 0.240\n",
            "[39,    50] loss: 0.223\n",
            "[40,    50] loss: 0.230\n",
            "[41,    50] loss: 0.218\n",
            "[42,    50] loss: 0.191\n",
            "[43,    50] loss: 0.181\n",
            "[44,    50] loss: 0.192\n",
            "[45,    50] loss: 0.160\n",
            "[46,    50] loss: 0.174\n",
            "[47,    50] loss: 0.145\n",
            "[48,    50] loss: 0.137\n",
            "[49,    50] loss: 0.116\n",
            "[50,    50] loss: 0.104\n",
            "[51,    50] loss: 0.090\n",
            "[52,    50] loss: 0.107\n",
            "[53,    50] loss: 0.100\n",
            "[54,    50] loss: 0.071\n",
            "[55,    50] loss: 0.073\n",
            "[56,    50] loss: 0.047\n",
            "[57,    50] loss: 0.043\n",
            "[58,    50] loss: 0.042\n",
            "[59,    50] loss: 0.026\n",
            "[60,    50] loss: 0.022\n",
            "[61,    50] loss: 0.016\n",
            "[62,    50] loss: 0.022\n",
            "[63,    50] loss: 0.037\n",
            "[64,    50] loss: 0.070\n",
            "[65,    50] loss: 0.040\n",
            "[66,    50] loss: 0.077\n",
            "[67,    50] loss: 0.058\n",
            "[68,    50] loss: 0.024\n",
            "[69,    50] loss: 0.015\n",
            "[70,    50] loss: 0.006\n",
            "[71,    50] loss: 0.003\n",
            "Finished Training\n"
          ],
          "name": "stdout"
        }
      ]
    },
    {
      "cell_type": "code",
      "metadata": {
        "id": "WIAJ3UZN8rPE",
        "colab_type": "code",
        "colab": {}
      },
      "source": [
        "torch.save(what_net.state_dict(),\"/content/drive/My Drive/Research/Cheating_data/Classify_net_weights/classify_net_3layer_cnn_6_12_20\"+\".pt\")"
      ],
      "execution_count": 23,
      "outputs": []
    },
    {
      "cell_type": "code",
      "metadata": {
        "id": "an7qmNLB-Ilb",
        "colab_type": "code",
        "colab": {
          "base_uri": "https://localhost:8080/",
          "height": 53
        },
        "outputId": "f1a7e663-edf6-495c-cc11-9b661c26374c"
      },
      "source": [
        "correct = 0\n",
        "total = 0\n",
        "with torch.no_grad():\n",
        "    for data in trainloader:\n",
        "        images, labels = data\n",
        "        images, labels = images.to(\"cuda\"), labels.to(\"cuda\")\n",
        "        outputs = what_net(images)\n",
        "        _, predicted = torch.max(outputs.data, 1)\n",
        "        total += labels.size(0)\n",
        "        correct += (predicted == labels).sum().item()\n",
        "\n",
        "print('Accuracy of the network on the %d train images: %d %%' % (total,  100 * correct / total))\n",
        "print(total,correct)"
      ],
      "execution_count": 24,
      "outputs": [
        {
          "output_type": "stream",
          "text": [
            "Accuracy of the network on the 15000 train images: 100 %\n",
            "15000 15000\n"
          ],
          "name": "stdout"
        }
      ]
    },
    {
      "cell_type": "code",
      "metadata": {
        "id": "3WqTm-aW-TGU",
        "colab_type": "code",
        "colab": {
          "base_uri": "https://localhost:8080/",
          "height": 53
        },
        "outputId": "1a145feb-55f7-4513-a333-d0617ac0f3fe"
      },
      "source": [
        "correct = 0\n",
        "total = 0\n",
        "out = []\n",
        "pred = []\n",
        "what_net.eval()\n",
        "with torch.no_grad():\n",
        "    for data in testloader:\n",
        "        images, labels = data\n",
        "        images, labels = images.to(\"cuda\"),labels.to(\"cuda\")\n",
        "        out.append(labels.cpu().numpy())\n",
        "        outputs= what_net(images)\n",
        "        _, predicted = torch.max(outputs.data, 1)\n",
        "        pred.append(predicted.cpu().numpy())\n",
        "        total += labels.size(0)\n",
        "        correct += (predicted == labels).sum().item()\n",
        "\n",
        "print('Accuracy of the network on the 10000 test images: %d %%' % ( 100 * correct / total))\n",
        "print(total,correct)"
      ],
      "execution_count": 25,
      "outputs": [
        {
          "output_type": "stream",
          "text": [
            "Accuracy of the network on the 10000 test images: 85 %\n",
            "3000 2579\n"
          ],
          "name": "stdout"
        }
      ]
    },
    {
      "cell_type": "code",
      "metadata": {
        "id": "OydJmN1mm0-J",
        "colab_type": "code",
        "colab": {}
      },
      "source": [
        ""
      ],
      "execution_count": null,
      "outputs": []
    }
  ]
}