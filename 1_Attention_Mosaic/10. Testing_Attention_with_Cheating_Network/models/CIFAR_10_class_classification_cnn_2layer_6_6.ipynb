{
  "nbformat": 4,
  "nbformat_minor": 0,
  "metadata": {
    "accelerator": "GPU",
    "colab": {
      "name": "CIFAR_10_class_classification_cnn_2layer.ipynb",
      "provenance": [],
      "collapsed_sections": [],
      "machine_shape": "hm"
    },
    "kernelspec": {
      "display_name": "Python 3",
      "language": "python",
      "name": "python3"
    },
    "language_info": {
      "codemirror_mode": {
        "name": "ipython",
        "version": 3
      },
      "file_extension": ".py",
      "mimetype": "text/x-python",
      "name": "python",
      "nbconvert_exporter": "python",
      "pygments_lexer": "ipython3",
      "version": "3.6.5"
    },
    "widgets": {
      "application/vnd.jupyter.widget-state+json": {
        "e7209823f8db429ebbc0b6c92c42ea9a": {
          "model_module": "@jupyter-widgets/controls",
          "model_name": "HBoxModel",
          "state": {
            "_view_name": "HBoxView",
            "_dom_classes": [],
            "_model_name": "HBoxModel",
            "_view_module": "@jupyter-widgets/controls",
            "_model_module_version": "1.5.0",
            "_view_count": null,
            "_view_module_version": "1.5.0",
            "box_style": "",
            "layout": "IPY_MODEL_1c493446fba74a2fa3e6b3d9f8d82ecc",
            "_model_module": "@jupyter-widgets/controls",
            "children": [
              "IPY_MODEL_1b8bb26f734d4fcb895075a54f34550e",
              "IPY_MODEL_bfb87f08e70d4f74adb458efeb3df004"
            ]
          }
        },
        "1c493446fba74a2fa3e6b3d9f8d82ecc": {
          "model_module": "@jupyter-widgets/base",
          "model_name": "LayoutModel",
          "state": {
            "_view_name": "LayoutView",
            "grid_template_rows": null,
            "right": null,
            "justify_content": null,
            "_view_module": "@jupyter-widgets/base",
            "overflow": null,
            "_model_module_version": "1.2.0",
            "_view_count": null,
            "flex_flow": null,
            "width": null,
            "min_width": null,
            "border": null,
            "align_items": null,
            "bottom": null,
            "_model_module": "@jupyter-widgets/base",
            "top": null,
            "grid_column": null,
            "overflow_y": null,
            "overflow_x": null,
            "grid_auto_flow": null,
            "grid_area": null,
            "grid_template_columns": null,
            "flex": null,
            "_model_name": "LayoutModel",
            "justify_items": null,
            "grid_row": null,
            "max_height": null,
            "align_content": null,
            "visibility": null,
            "align_self": null,
            "height": null,
            "min_height": null,
            "padding": null,
            "grid_auto_rows": null,
            "grid_gap": null,
            "max_width": null,
            "order": null,
            "_view_module_version": "1.2.0",
            "grid_template_areas": null,
            "object_position": null,
            "object_fit": null,
            "grid_auto_columns": null,
            "margin": null,
            "display": null,
            "left": null
          }
        },
        "1b8bb26f734d4fcb895075a54f34550e": {
          "model_module": "@jupyter-widgets/controls",
          "model_name": "FloatProgressModel",
          "state": {
            "_view_name": "ProgressView",
            "style": "IPY_MODEL_091eb3f59ce2468c8fe7e331367bf84b",
            "_dom_classes": [],
            "description": "",
            "_model_name": "FloatProgressModel",
            "bar_style": "info",
            "max": 1,
            "_view_module": "@jupyter-widgets/controls",
            "_model_module_version": "1.5.0",
            "value": 1,
            "_view_count": null,
            "_view_module_version": "1.5.0",
            "orientation": "horizontal",
            "min": 0,
            "description_tooltip": null,
            "_model_module": "@jupyter-widgets/controls",
            "layout": "IPY_MODEL_91c5b1bb5d714edbafcee2bc5b95ad6b"
          }
        },
        "bfb87f08e70d4f74adb458efeb3df004": {
          "model_module": "@jupyter-widgets/controls",
          "model_name": "HTMLModel",
          "state": {
            "_view_name": "HTMLView",
            "style": "IPY_MODEL_86411c4778b54caaa1521e35849b4a21",
            "_dom_classes": [],
            "description": "",
            "_model_name": "HTMLModel",
            "placeholder": "​",
            "_view_module": "@jupyter-widgets/controls",
            "_model_module_version": "1.5.0",
            "value": " 170500096/? [00:20&lt;00:00, 101704416.61it/s]",
            "_view_count": null,
            "_view_module_version": "1.5.0",
            "description_tooltip": null,
            "_model_module": "@jupyter-widgets/controls",
            "layout": "IPY_MODEL_74db7f778df94120bfca43325af8cc3b"
          }
        },
        "091eb3f59ce2468c8fe7e331367bf84b": {
          "model_module": "@jupyter-widgets/controls",
          "model_name": "ProgressStyleModel",
          "state": {
            "_view_name": "StyleView",
            "_model_name": "ProgressStyleModel",
            "description_width": "initial",
            "_view_module": "@jupyter-widgets/base",
            "_model_module_version": "1.5.0",
            "_view_count": null,
            "_view_module_version": "1.2.0",
            "bar_color": null,
            "_model_module": "@jupyter-widgets/controls"
          }
        },
        "91c5b1bb5d714edbafcee2bc5b95ad6b": {
          "model_module": "@jupyter-widgets/base",
          "model_name": "LayoutModel",
          "state": {
            "_view_name": "LayoutView",
            "grid_template_rows": null,
            "right": null,
            "justify_content": null,
            "_view_module": "@jupyter-widgets/base",
            "overflow": null,
            "_model_module_version": "1.2.0",
            "_view_count": null,
            "flex_flow": null,
            "width": null,
            "min_width": null,
            "border": null,
            "align_items": null,
            "bottom": null,
            "_model_module": "@jupyter-widgets/base",
            "top": null,
            "grid_column": null,
            "overflow_y": null,
            "overflow_x": null,
            "grid_auto_flow": null,
            "grid_area": null,
            "grid_template_columns": null,
            "flex": null,
            "_model_name": "LayoutModel",
            "justify_items": null,
            "grid_row": null,
            "max_height": null,
            "align_content": null,
            "visibility": null,
            "align_self": null,
            "height": null,
            "min_height": null,
            "padding": null,
            "grid_auto_rows": null,
            "grid_gap": null,
            "max_width": null,
            "order": null,
            "_view_module_version": "1.2.0",
            "grid_template_areas": null,
            "object_position": null,
            "object_fit": null,
            "grid_auto_columns": null,
            "margin": null,
            "display": null,
            "left": null
          }
        },
        "86411c4778b54caaa1521e35849b4a21": {
          "model_module": "@jupyter-widgets/controls",
          "model_name": "DescriptionStyleModel",
          "state": {
            "_view_name": "StyleView",
            "_model_name": "DescriptionStyleModel",
            "description_width": "",
            "_view_module": "@jupyter-widgets/base",
            "_model_module_version": "1.5.0",
            "_view_count": null,
            "_view_module_version": "1.2.0",
            "_model_module": "@jupyter-widgets/controls"
          }
        },
        "74db7f778df94120bfca43325af8cc3b": {
          "model_module": "@jupyter-widgets/base",
          "model_name": "LayoutModel",
          "state": {
            "_view_name": "LayoutView",
            "grid_template_rows": null,
            "right": null,
            "justify_content": null,
            "_view_module": "@jupyter-widgets/base",
            "overflow": null,
            "_model_module_version": "1.2.0",
            "_view_count": null,
            "flex_flow": null,
            "width": null,
            "min_width": null,
            "border": null,
            "align_items": null,
            "bottom": null,
            "_model_module": "@jupyter-widgets/base",
            "top": null,
            "grid_column": null,
            "overflow_y": null,
            "overflow_x": null,
            "grid_auto_flow": null,
            "grid_area": null,
            "grid_template_columns": null,
            "flex": null,
            "_model_name": "LayoutModel",
            "justify_items": null,
            "grid_row": null,
            "max_height": null,
            "align_content": null,
            "visibility": null,
            "align_self": null,
            "height": null,
            "min_height": null,
            "padding": null,
            "grid_auto_rows": null,
            "grid_gap": null,
            "max_width": null,
            "order": null,
            "_view_module_version": "1.2.0",
            "grid_template_areas": null,
            "object_position": null,
            "object_fit": null,
            "grid_auto_columns": null,
            "margin": null,
            "display": null,
            "left": null
          }
        }
      }
    }
  },
  "cells": [
    {
      "cell_type": "code",
      "metadata": {
        "colab_type": "code",
        "id": "JSjG64ra4aFu",
        "colab": {
          "base_uri": "https://localhost:8080/",
          "height": 128
        },
        "outputId": "627756a7-8d0e-4c5c-984f-630a29ee2287"
      },
      "source": [
        "from google.colab import drive\n",
        "drive.mount('/content/drive')"
      ],
      "execution_count": 2,
      "outputs": [
        {
          "output_type": "stream",
          "text": [
            "Go to this URL in a browser: https://accounts.google.com/o/oauth2/auth?client_id=947318989803-6bn6qk8qdgf4n4g3pfee6491hc0brc4i.apps.googleusercontent.com&redirect_uri=urn%3aietf%3awg%3aoauth%3a2.0%3aoob&scope=email%20https%3a%2f%2fwww.googleapis.com%2fauth%2fdocs.test%20https%3a%2f%2fwww.googleapis.com%2fauth%2fdrive%20https%3a%2f%2fwww.googleapis.com%2fauth%2fdrive.photos.readonly%20https%3a%2f%2fwww.googleapis.com%2fauth%2fpeopleapi.readonly&response_type=code\n",
            "\n",
            "Enter your authorization code:\n",
            "4/4AGuNN4hxVU_QEbeKiJoLSDHfS1qHFHYkDlo4AzKjO4JoqbSiG0mAPo\n",
            "Mounted at /content/drive\n"
          ],
          "name": "stdout"
        }
      ]
    },
    {
      "cell_type": "code",
      "metadata": {
        "colab_type": "code",
        "id": "V8-7SARDZErK",
        "colab": {}
      },
      "source": [
        "import torch.nn as nn\n",
        "import torch.nn.functional as F\n",
        "\n",
        "import pandas as pd\n",
        "import numpy as np\n",
        "import matplotlib.pyplot as plt\n",
        "\n",
        "import torch\n",
        "import torchvision\n",
        "import torchvision.transforms as transforms\n",
        "from torch.utils.data import Dataset, DataLoader\n",
        "from torchvision import transforms, utils\n",
        "\n",
        "from matplotlib import pyplot as plt\n",
        "import copy\n",
        "\n",
        "# Ignore warnings\n",
        "import warnings\n",
        "warnings.filterwarnings(\"ignore\")\n"
      ],
      "execution_count": 3,
      "outputs": []
    },
    {
      "cell_type": "code",
      "metadata": {
        "colab_type": "code",
        "id": "acRFqJNrZErV",
        "colab": {
          "base_uri": "https://localhost:8080/",
          "height": 104,
          "referenced_widgets": [
            "e7209823f8db429ebbc0b6c92c42ea9a",
            "1c493446fba74a2fa3e6b3d9f8d82ecc",
            "1b8bb26f734d4fcb895075a54f34550e",
            "bfb87f08e70d4f74adb458efeb3df004",
            "091eb3f59ce2468c8fe7e331367bf84b",
            "91c5b1bb5d714edbafcee2bc5b95ad6b",
            "86411c4778b54caaa1521e35849b4a21",
            "74db7f778df94120bfca43325af8cc3b"
          ]
        },
        "outputId": "839c155b-ed93-437b-e545-efb62a665f83"
      },
      "source": [
        "transform = transforms.Compose(\n",
        "    [transforms.ToTensor(),\n",
        "     transforms.Normalize((0.5, 0.5, 0.5), (0.5, 0.5, 0.5))])\n",
        "\n",
        "trainset = torchvision.datasets.CIFAR10(root='./data', train=True, download=True, transform=transform)\n",
        "\n",
        "\n",
        "testset = torchvision.datasets.CIFAR10(root='./data', train=False, download=True, transform=transform)\n"
      ],
      "execution_count": 4,
      "outputs": [
        {
          "output_type": "stream",
          "text": [
            "Downloading https://www.cs.toronto.edu/~kriz/cifar-10-python.tar.gz to ./data/cifar-10-python.tar.gz\n"
          ],
          "name": "stdout"
        },
        {
          "output_type": "display_data",
          "data": {
            "application/vnd.jupyter.widget-view+json": {
              "model_id": "e7209823f8db429ebbc0b6c92c42ea9a",
              "version_minor": 0,
              "version_major": 2
            },
            "text/plain": [
              "HBox(children=(FloatProgress(value=1.0, bar_style='info', max=1.0), HTML(value='')))"
            ]
          },
          "metadata": {
            "tags": []
          }
        },
        {
          "output_type": "stream",
          "text": [
            "Extracting ./data/cifar-10-python.tar.gz to ./data\n",
            "Files already downloaded and verified\n"
          ],
          "name": "stdout"
        }
      ]
    },
    {
      "cell_type": "code",
      "metadata": {
        "id": "gh5DXuAV1tp5",
        "colab_type": "code",
        "colab": {}
      },
      "source": [
        "# trainloader = torch.utils.data.DataLoader(trainset, batch_size=10, shuffle=True)\n",
        "# testloader = torch.utils.data.DataLoader(testset, batch_size=10, shuffle=False)\n",
        "\n",
        "\n",
        "classes = ('plane', 'car', 'bird', 'cat', 'deer', 'dog', 'frog', 'horse', 'ship', 'truck')\n",
        "\n",
        "# foreground_classes = {'plane', 'car', 'bird'}\n",
        "\n",
        "# background_classes = {'cat', 'deer', 'dog', 'frog', 'horse','ship', 'truck'}\n",
        "\n",
        "# fg1,fg2,fg3 = 0,1,2"
      ],
      "execution_count": 5,
      "outputs": []
    },
    {
      "cell_type": "code",
      "metadata": {
        "id": "EQOH55xR6INA",
        "colab_type": "code",
        "colab": {}
      },
      "source": [
        "trainloader = torch.utils.data.DataLoader(trainset, batch_size=256,shuffle=True)\n",
        "testloader = torch.utils.data.DataLoader(testset, batch_size=256,shuffle=False)"
      ],
      "execution_count": 6,
      "outputs": []
    },
    {
      "cell_type": "code",
      "metadata": {
        "colab_type": "code",
        "id": "SadRzWBBZEsP",
        "colab": {}
      },
      "source": [
        "import torch.nn as nn\n",
        "import torch.nn.functional as F\n",
        "\n",
        "class CNN(nn.Module):\n",
        "  def __init__(self):\n",
        "    super(CNN, self).__init__()\n",
        "    self.conv1 = nn.Conv2d(in_channels=3, out_channels=6, kernel_size=3, padding=0)\n",
        "    self.pool = nn.MaxPool2d(2, 2)\n",
        "    self.conv2 = nn.Conv2d(in_channels=6, out_channels=6, kernel_size=3, padding=0)\n",
        "    # self.conv3 = nn.Conv2d(in_channels=12, out_channels=20, kernel_size=3, padding=0)\n",
        "    self.fc1 = nn.Linear(1014, 256)\n",
        "    self.fc2 = nn.Linear(256, 64)\n",
        "    self.fc3 = nn.Linear(64, 10)\n",
        "    # self.fc4 = nn.Linear(40,10)\n",
        "    # self.fc5 = nn.Linear(10,2)\n",
        "\n",
        "  def forward(self, x):\n",
        "    x = self.pool(F.relu(self.conv1(x)))\n",
        "    # x = self.pool(F.relu(self.conv2(x)))\n",
        "    # print(x.shape)\n",
        "    x = (F.relu(self.conv2(x)))\n",
        "    x =  x.view(x.size(0), -1)\n",
        "    # print(x.shape)\n",
        "    x = F.relu(self.fc1(x))\n",
        "    x = F.relu(self.fc2(x))\n",
        "    # x = F.relu(self.fc3(x))\n",
        "    x = self.fc3(x)\n",
        "    return x"
      ],
      "execution_count": 19,
      "outputs": []
    },
    {
      "cell_type": "code",
      "metadata": {
        "id": "1GvXR1zV5n4w",
        "colab_type": "code",
        "colab": {}
      },
      "source": [
        "cnn_net = CNN()#.double()\n",
        "cnn_net = cnn_net.to(\"cuda\")"
      ],
      "execution_count": 20,
      "outputs": []
    },
    {
      "cell_type": "code",
      "metadata": {
        "id": "n5g3geNJ5zEu",
        "colab_type": "code",
        "colab": {}
      },
      "source": [
        "import torch.optim as optim\n",
        "criterion_cnn = nn.CrossEntropyLoss()\n",
        "optimizer_cnn = optim.SGD(cnn_net.parameters(), lr=0.01, momentum=0.9)"
      ],
      "execution_count": 21,
      "outputs": []
    },
    {
      "cell_type": "code",
      "metadata": {
        "colab_type": "code",
        "id": "tFfAJZkcZEsY",
        "colab": {
          "base_uri": "https://localhost:8080/",
          "height": 1000
        },
        "outputId": "2fe57e17-70bf-4eb4-f88a-2caa79a3bb2d"
      },
      "source": [
        "acti = []\n",
        "loss_curi = []\n",
        "epochs = 300\n",
        "for epoch in range(epochs): # loop over the dataset multiple times\n",
        "    ep_lossi = []\n",
        "\n",
        "    running_loss = 0.0\n",
        "    for i, data in enumerate(trainloader, 0):\n",
        "        # get the inputs\n",
        "        inputs, labels = data\n",
        "        inputs, labels = inputs.to(\"cuda\"),labels.to(\"cuda\")\n",
        "\n",
        "        # zero the parameter gradients\n",
        "        optimizer_cnn.zero_grad()\n",
        "\n",
        "        # forward + backward + optimize\n",
        "        outputs = cnn_net(inputs)\n",
        "        loss = criterion_cnn(outputs, labels)\n",
        "        loss.backward()\n",
        "        optimizer_cnn.step()\n",
        "\n",
        "        # print statistics\n",
        "        running_loss += loss.item()\n",
        "        mini_batch = 50\n",
        "        if i % mini_batch == mini_batch-1:    # print every 50 mini-batches\n",
        "            print('[%d, %5d] loss: %.3f' %(epoch + 1, i + 1, running_loss / mini_batch))\n",
        "            ep_lossi.append(running_loss/mini_batch) # loss per minibatch\n",
        "            running_loss = 0.0\n",
        "            \n",
        "    if(np.mean(ep_lossi) <= 0.01):\n",
        "      break;\n",
        "    loss_curi.append(np.mean(ep_lossi))   #loss per epoch            \n",
        "\n",
        "print('Finished Training')"
      ],
      "execution_count": 22,
      "outputs": [
        {
          "output_type": "stream",
          "text": [
            "[1,    50] loss: 2.302\n",
            "[1,   100] loss: 2.276\n",
            "[1,   150] loss: 2.128\n",
            "[2,    50] loss: 1.888\n",
            "[2,   100] loss: 1.806\n",
            "[2,   150] loss: 1.718\n",
            "[3,    50] loss: 1.623\n",
            "[3,   100] loss: 1.575\n",
            "[3,   150] loss: 1.537\n",
            "[4,    50] loss: 1.465\n",
            "[4,   100] loss: 1.445\n",
            "[4,   150] loss: 1.429\n",
            "[5,    50] loss: 1.375\n",
            "[5,   100] loss: 1.332\n",
            "[5,   150] loss: 1.324\n",
            "[6,    50] loss: 1.292\n",
            "[6,   100] loss: 1.259\n",
            "[6,   150] loss: 1.232\n",
            "[7,    50] loss: 1.194\n",
            "[7,   100] loss: 1.179\n",
            "[7,   150] loss: 1.164\n",
            "[8,    50] loss: 1.128\n",
            "[8,   100] loss: 1.133\n",
            "[8,   150] loss: 1.117\n",
            "[9,    50] loss: 1.061\n",
            "[9,   100] loss: 1.052\n",
            "[9,   150] loss: 1.063\n",
            "[10,    50] loss: 1.004\n",
            "[10,   100] loss: 1.021\n",
            "[10,   150] loss: 1.017\n",
            "[11,    50] loss: 0.965\n",
            "[11,   100] loss: 0.953\n",
            "[11,   150] loss: 0.976\n",
            "[12,    50] loss: 0.931\n",
            "[12,   100] loss: 0.930\n",
            "[12,   150] loss: 0.929\n",
            "[13,    50] loss: 0.892\n",
            "[13,   100] loss: 0.878\n",
            "[13,   150] loss: 0.891\n",
            "[14,    50] loss: 0.832\n",
            "[14,   100] loss: 0.829\n",
            "[14,   150] loss: 0.861\n",
            "[15,    50] loss: 0.775\n",
            "[15,   100] loss: 0.811\n",
            "[15,   150] loss: 0.839\n",
            "[16,    50] loss: 0.745\n",
            "[16,   100] loss: 0.777\n",
            "[16,   150] loss: 0.794\n",
            "[17,    50] loss: 0.739\n",
            "[17,   100] loss: 0.734\n",
            "[17,   150] loss: 0.730\n",
            "[18,    50] loss: 0.689\n",
            "[18,   100] loss: 0.706\n",
            "[18,   150] loss: 0.719\n",
            "[19,    50] loss: 0.633\n",
            "[19,   100] loss: 0.653\n",
            "[19,   150] loss: 0.682\n",
            "[20,    50] loss: 0.599\n",
            "[20,   100] loss: 0.613\n",
            "[20,   150] loss: 0.652\n",
            "[21,    50] loss: 0.577\n",
            "[21,   100] loss: 0.569\n",
            "[21,   150] loss: 0.627\n",
            "[22,    50] loss: 0.518\n",
            "[22,   100] loss: 0.538\n",
            "[22,   150] loss: 0.569\n",
            "[23,    50] loss: 0.494\n",
            "[23,   100] loss: 0.508\n",
            "[23,   150] loss: 0.519\n",
            "[24,    50] loss: 0.469\n",
            "[24,   100] loss: 0.471\n",
            "[24,   150] loss: 0.483\n",
            "[25,    50] loss: 0.395\n",
            "[25,   100] loss: 0.425\n",
            "[25,   150] loss: 0.473\n",
            "[26,    50] loss: 0.376\n",
            "[26,   100] loss: 0.392\n",
            "[26,   150] loss: 0.430\n",
            "[27,    50] loss: 0.337\n",
            "[27,   100] loss: 0.336\n",
            "[27,   150] loss: 0.388\n",
            "[28,    50] loss: 0.302\n",
            "[28,   100] loss: 0.321\n",
            "[28,   150] loss: 0.389\n",
            "[29,    50] loss: 0.294\n",
            "[29,   100] loss: 0.310\n",
            "[29,   150] loss: 0.345\n",
            "[30,    50] loss: 0.276\n",
            "[30,   100] loss: 0.266\n",
            "[30,   150] loss: 0.305\n",
            "[31,    50] loss: 0.223\n",
            "[31,   100] loss: 0.236\n",
            "[31,   150] loss: 0.260\n",
            "[32,    50] loss: 0.223\n",
            "[32,   100] loss: 0.218\n",
            "[32,   150] loss: 0.228\n",
            "[33,    50] loss: 0.233\n",
            "[33,   100] loss: 0.223\n",
            "[33,   150] loss: 0.214\n",
            "[34,    50] loss: 0.181\n",
            "[34,   100] loss: 0.178\n",
            "[34,   150] loss: 0.203\n",
            "[35,    50] loss: 0.145\n",
            "[35,   100] loss: 0.131\n",
            "[35,   150] loss: 0.172\n",
            "[36,    50] loss: 0.181\n",
            "[36,   100] loss: 0.160\n",
            "[36,   150] loss: 0.152\n",
            "[37,    50] loss: 0.139\n",
            "[37,   100] loss: 0.131\n",
            "[37,   150] loss: 0.135\n",
            "[38,    50] loss: 0.118\n",
            "[38,   100] loss: 0.112\n",
            "[38,   150] loss: 0.144\n",
            "[39,    50] loss: 0.109\n",
            "[39,   100] loss: 0.136\n",
            "[39,   150] loss: 0.132\n",
            "[40,    50] loss: 0.142\n",
            "[40,   100] loss: 0.124\n",
            "[40,   150] loss: 0.136\n",
            "[41,    50] loss: 0.127\n",
            "[41,   100] loss: 0.141\n",
            "[41,   150] loss: 0.119\n",
            "[42,    50] loss: 0.099\n",
            "[42,   100] loss: 0.083\n",
            "[42,   150] loss: 0.086\n",
            "[43,    50] loss: 0.081\n",
            "[43,   100] loss: 0.089\n",
            "[43,   150] loss: 0.098\n",
            "[44,    50] loss: 0.105\n",
            "[44,   100] loss: 0.118\n",
            "[44,   150] loss: 0.139\n",
            "[45,    50] loss: 0.085\n",
            "[45,   100] loss: 0.082\n",
            "[45,   150] loss: 0.116\n",
            "[46,    50] loss: 0.074\n",
            "[46,   100] loss: 0.064\n",
            "[46,   150] loss: 0.071\n",
            "[47,    50] loss: 0.080\n",
            "[47,   100] loss: 0.066\n",
            "[47,   150] loss: 0.062\n",
            "[48,    50] loss: 0.068\n",
            "[48,   100] loss: 0.063\n",
            "[48,   150] loss: 0.093\n",
            "[49,    50] loss: 0.058\n",
            "[49,   100] loss: 0.041\n",
            "[49,   150] loss: 0.048\n",
            "[50,    50] loss: 0.084\n",
            "[50,   100] loss: 0.063\n",
            "[50,   150] loss: 0.072\n",
            "[51,    50] loss: 0.054\n",
            "[51,   100] loss: 0.057\n",
            "[51,   150] loss: 0.053\n",
            "[52,    50] loss: 0.045\n",
            "[52,   100] loss: 0.032\n",
            "[52,   150] loss: 0.036\n",
            "[53,    50] loss: 0.070\n",
            "[53,   100] loss: 0.050\n",
            "[53,   150] loss: 0.056\n",
            "[54,    50] loss: 0.047\n",
            "[54,   100] loss: 0.065\n",
            "[54,   150] loss: 0.079\n",
            "[55,    50] loss: 0.056\n",
            "[55,   100] loss: 0.049\n",
            "[55,   150] loss: 0.057\n",
            "[56,    50] loss: 0.077\n",
            "[56,   100] loss: 0.072\n",
            "[56,   150] loss: 0.067\n",
            "[57,    50] loss: 0.043\n",
            "[57,   100] loss: 0.040\n",
            "[57,   150] loss: 0.056\n",
            "[58,    50] loss: 0.046\n",
            "[58,   100] loss: 0.036\n",
            "[58,   150] loss: 0.043\n",
            "[59,    50] loss: 0.042\n",
            "[59,   100] loss: 0.036\n",
            "[59,   150] loss: 0.043\n",
            "[60,    50] loss: 0.050\n",
            "[60,   100] loss: 0.038\n",
            "[60,   150] loss: 0.042\n",
            "[61,    50] loss: 0.017\n",
            "[61,   100] loss: 0.018\n",
            "[61,   150] loss: 0.022\n",
            "[62,    50] loss: 0.025\n",
            "[62,   100] loss: 0.025\n",
            "[62,   150] loss: 0.028\n",
            "[63,    50] loss: 0.018\n",
            "[63,   100] loss: 0.029\n",
            "[63,   150] loss: 0.026\n",
            "[64,    50] loss: 0.023\n",
            "[64,   100] loss: 0.015\n",
            "[64,   150] loss: 0.033\n",
            "[65,    50] loss: 0.045\n",
            "[65,   100] loss: 0.038\n",
            "[65,   150] loss: 0.043\n",
            "[66,    50] loss: 0.031\n",
            "[66,   100] loss: 0.026\n",
            "[66,   150] loss: 0.030\n",
            "[67,    50] loss: 0.065\n",
            "[67,   100] loss: 0.051\n",
            "[67,   150] loss: 0.055\n",
            "[68,    50] loss: 0.049\n",
            "[68,   100] loss: 0.044\n",
            "[68,   150] loss: 0.049\n",
            "[69,    50] loss: 0.052\n",
            "[69,   100] loss: 0.037\n",
            "[69,   150] loss: 0.052\n",
            "[70,    50] loss: 0.056\n",
            "[70,   100] loss: 0.041\n",
            "[70,   150] loss: 0.058\n",
            "[71,    50] loss: 0.053\n",
            "[71,   100] loss: 0.033\n",
            "[71,   150] loss: 0.048\n",
            "[72,    50] loss: 0.035\n",
            "[72,   100] loss: 0.030\n",
            "[72,   150] loss: 0.033\n",
            "[73,    50] loss: 0.020\n",
            "[73,   100] loss: 0.022\n",
            "[73,   150] loss: 0.016\n",
            "[74,    50] loss: 0.011\n",
            "[74,   100] loss: 0.012\n",
            "[74,   150] loss: 0.017\n",
            "[75,    50] loss: 0.011\n",
            "[75,   100] loss: 0.009\n",
            "[75,   150] loss: 0.008\n",
            "Finished Training\n"
          ],
          "name": "stdout"
        }
      ]
    },
    {
      "cell_type": "code",
      "metadata": {
        "id": "WIAJ3UZN8rPE",
        "colab_type": "code",
        "colab": {}
      },
      "source": [
        "torch.save(cnn_net.state_dict(),\"/content/drive/My Drive/Research/Cheating_data/CIFAR10_class_classify/weights/\"+\"cnn_2layer_6_6\"+\".pt\")"
      ],
      "execution_count": 23,
      "outputs": []
    },
    {
      "cell_type": "code",
      "metadata": {
        "id": "an7qmNLB-Ilb",
        "colab_type": "code",
        "colab": {
          "base_uri": "https://localhost:8080/",
          "height": 53
        },
        "outputId": "45c6d9be-2209-4c8b-db26-aa21df1cc504"
      },
      "source": [
        "correct = 0\n",
        "total = 0\n",
        "with torch.no_grad():\n",
        "    for data in trainloader:\n",
        "        images, labels = data\n",
        "        images, labels = images.to(\"cuda\"), labels.to(\"cuda\")\n",
        "        outputs = cnn_net(images)\n",
        "        _, predicted = torch.max(outputs.data, 1)\n",
        "        total += labels.size(0)\n",
        "        correct += (predicted == labels).sum().item()\n",
        "\n",
        "print('Accuracy of the network on the %d train images: %d %%' % (total,  100 * correct / total))\n",
        "print(total,correct)"
      ],
      "execution_count": 24,
      "outputs": [
        {
          "output_type": "stream",
          "text": [
            "Accuracy of the network on the 50000 train images: 99 %\n",
            "50000 49958\n"
          ],
          "name": "stdout"
        }
      ]
    },
    {
      "cell_type": "code",
      "metadata": {
        "id": "3WqTm-aW-TGU",
        "colab_type": "code",
        "colab": {
          "base_uri": "https://localhost:8080/",
          "height": 53
        },
        "outputId": "0afce7ea-6603-40a9-81ce-ab4116604f95"
      },
      "source": [
        "correct = 0\n",
        "total = 0\n",
        "out = []\n",
        "pred = []\n",
        "with torch.no_grad():\n",
        "    for data in testloader:\n",
        "        images, labels = data\n",
        "        images, labels = images.to(\"cuda\"),labels.to(\"cuda\")\n",
        "        out.append(labels.cpu().numpy())\n",
        "        outputs= cnn_net(images)\n",
        "        _, predicted = torch.max(outputs.data, 1)\n",
        "        pred.append(predicted.cpu().numpy())\n",
        "        total += labels.size(0)\n",
        "        correct += (predicted == labels).sum().item()\n",
        "\n",
        "print('Accuracy of the network on the 10000 test images: %d %%' % ( 100 * correct / total))\n",
        "print(total,correct)"
      ],
      "execution_count": 25,
      "outputs": [
        {
          "output_type": "stream",
          "text": [
            "Accuracy of the network on the 10000 test images: 58 %\n",
            "10000 5865\n"
          ],
          "name": "stdout"
        }
      ]
    },
    {
      "cell_type": "code",
      "metadata": {
        "id": "oQ1yPyXRBNT4",
        "colab_type": "code",
        "colab": {
          "base_uri": "https://localhost:8080/",
          "height": 199
        },
        "outputId": "cda727df-4828-4773-8bbd-2ff0c7f52a6e"
      },
      "source": [
        "class_correct = list(0. for i in range(10))\n",
        "class_total = list(0. for i in range(10))\n",
        "with torch.no_grad():\n",
        "    for data in testloader:\n",
        "        images, labels = data\n",
        "        images, labels = images.to(\"cuda\"),labels.to(\"cuda\")\n",
        "        outputs = cnn_net(images)\n",
        "        _, predicted = torch.max(outputs, 1)\n",
        "        c = (predicted == labels).squeeze()\n",
        "        for i in range(4):\n",
        "            label = labels[i]\n",
        "            class_correct[label] += c[i].item()\n",
        "            class_total[label] += 1\n",
        "\n",
        "\n",
        "for i in range(10):\n",
        "    print('Accuracy of %5s : %2d %%' % (\n",
        "        classes[i], 100 * class_correct[i] / class_total[i]))"
      ],
      "execution_count": 18,
      "outputs": [
        {
          "output_type": "stream",
          "text": [
            "Accuracy of plane : 56 %\n",
            "Accuracy of   car : 84 %\n",
            "Accuracy of  bird : 61 %\n",
            "Accuracy of   cat : 31 %\n",
            "Accuracy of  deer : 30 %\n",
            "Accuracy of   dog : 20 %\n",
            "Accuracy of  frog : 44 %\n",
            "Accuracy of horse : 33 %\n",
            "Accuracy of  ship : 61 %\n",
            "Accuracy of truck : 64 %\n"
          ],
          "name": "stdout"
        }
      ]
    },
    {
      "cell_type": "code",
      "metadata": {
        "id": "bzU_HuQnEB29",
        "colab_type": "code",
        "colab": {}
      },
      "source": [
        ""
      ],
      "execution_count": null,
      "outputs": []
    }
  ]
}