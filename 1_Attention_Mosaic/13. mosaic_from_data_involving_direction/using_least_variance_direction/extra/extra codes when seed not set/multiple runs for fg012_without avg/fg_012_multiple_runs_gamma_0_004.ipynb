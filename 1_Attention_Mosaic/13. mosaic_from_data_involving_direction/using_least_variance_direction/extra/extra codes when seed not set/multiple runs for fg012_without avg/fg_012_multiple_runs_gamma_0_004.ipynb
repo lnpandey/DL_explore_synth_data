{
  "nbformat": 4,
  "nbformat_minor": 0,
  "metadata": {
    "accelerator": "GPU",
    "colab": {
      "name": "fg_012_multiple_runs_gamma_0.004.ipynb",
      "provenance": [],
      "collapsed_sections": [],
      "machine_shape": "hm"
    },
    "kernelspec": {
      "display_name": "Python 3",
      "language": "python",
      "name": "python3"
    },
    "language_info": {
      "codemirror_mode": {
        "name": "ipython",
        "version": 3
      },
      "file_extension": ".py",
      "mimetype": "text/x-python",
      "name": "python",
      "nbconvert_exporter": "python",
      "pygments_lexer": "ipython3",
      "version": "3.6.5"
    },
    "widgets": {
      "application/vnd.jupyter.widget-state+json": {
        "7d8a47a822244a88bf912a271802841f": {
          "model_module": "@jupyter-widgets/controls",
          "model_name": "HBoxModel",
          "state": {
            "_view_name": "HBoxView",
            "_dom_classes": [],
            "_model_name": "HBoxModel",
            "_view_module": "@jupyter-widgets/controls",
            "_model_module_version": "1.5.0",
            "_view_count": null,
            "_view_module_version": "1.5.0",
            "box_style": "",
            "layout": "IPY_MODEL_7908701291534828a60f198d2154553c",
            "_model_module": "@jupyter-widgets/controls",
            "children": [
              "IPY_MODEL_31e2f7f760a94ecc857acd2b98d4ca66",
              "IPY_MODEL_7e0fc89946bc4cf8b77574a1dcddf3f1"
            ]
          }
        },
        "7908701291534828a60f198d2154553c": {
          "model_module": "@jupyter-widgets/base",
          "model_name": "LayoutModel",
          "state": {
            "_view_name": "LayoutView",
            "grid_template_rows": null,
            "right": null,
            "justify_content": null,
            "_view_module": "@jupyter-widgets/base",
            "overflow": null,
            "_model_module_version": "1.2.0",
            "_view_count": null,
            "flex_flow": null,
            "width": null,
            "min_width": null,
            "border": null,
            "align_items": null,
            "bottom": null,
            "_model_module": "@jupyter-widgets/base",
            "top": null,
            "grid_column": null,
            "overflow_y": null,
            "overflow_x": null,
            "grid_auto_flow": null,
            "grid_area": null,
            "grid_template_columns": null,
            "flex": null,
            "_model_name": "LayoutModel",
            "justify_items": null,
            "grid_row": null,
            "max_height": null,
            "align_content": null,
            "visibility": null,
            "align_self": null,
            "height": null,
            "min_height": null,
            "padding": null,
            "grid_auto_rows": null,
            "grid_gap": null,
            "max_width": null,
            "order": null,
            "_view_module_version": "1.2.0",
            "grid_template_areas": null,
            "object_position": null,
            "object_fit": null,
            "grid_auto_columns": null,
            "margin": null,
            "display": null,
            "left": null
          }
        },
        "31e2f7f760a94ecc857acd2b98d4ca66": {
          "model_module": "@jupyter-widgets/controls",
          "model_name": "FloatProgressModel",
          "state": {
            "_view_name": "ProgressView",
            "style": "IPY_MODEL_4546006747eb452fb6aa109508f43dd4",
            "_dom_classes": [],
            "description": "",
            "_model_name": "FloatProgressModel",
            "bar_style": "success",
            "max": 1,
            "_view_module": "@jupyter-widgets/controls",
            "_model_module_version": "1.5.0",
            "value": 1,
            "_view_count": null,
            "_view_module_version": "1.5.0",
            "orientation": "horizontal",
            "min": 0,
            "description_tooltip": null,
            "_model_module": "@jupyter-widgets/controls",
            "layout": "IPY_MODEL_cc5b57fcc0f14b248b0e311cbdaa04f5"
          }
        },
        "7e0fc89946bc4cf8b77574a1dcddf3f1": {
          "model_module": "@jupyter-widgets/controls",
          "model_name": "HTMLModel",
          "state": {
            "_view_name": "HTMLView",
            "style": "IPY_MODEL_0a1b8f9448764ed2989217a4d9adc7fa",
            "_dom_classes": [],
            "description": "",
            "_model_name": "HTMLModel",
            "placeholder": "​",
            "_view_module": "@jupyter-widgets/controls",
            "_model_module_version": "1.5.0",
            "value": " 170500096/? [00:06&lt;00:00, 24411164.37it/s]",
            "_view_count": null,
            "_view_module_version": "1.5.0",
            "description_tooltip": null,
            "_model_module": "@jupyter-widgets/controls",
            "layout": "IPY_MODEL_45ec52e776424173b4ed1c68605e33ed"
          }
        },
        "4546006747eb452fb6aa109508f43dd4": {
          "model_module": "@jupyter-widgets/controls",
          "model_name": "ProgressStyleModel",
          "state": {
            "_view_name": "StyleView",
            "_model_name": "ProgressStyleModel",
            "description_width": "initial",
            "_view_module": "@jupyter-widgets/base",
            "_model_module_version": "1.5.0",
            "_view_count": null,
            "_view_module_version": "1.2.0",
            "bar_color": null,
            "_model_module": "@jupyter-widgets/controls"
          }
        },
        "cc5b57fcc0f14b248b0e311cbdaa04f5": {
          "model_module": "@jupyter-widgets/base",
          "model_name": "LayoutModel",
          "state": {
            "_view_name": "LayoutView",
            "grid_template_rows": null,
            "right": null,
            "justify_content": null,
            "_view_module": "@jupyter-widgets/base",
            "overflow": null,
            "_model_module_version": "1.2.0",
            "_view_count": null,
            "flex_flow": null,
            "width": null,
            "min_width": null,
            "border": null,
            "align_items": null,
            "bottom": null,
            "_model_module": "@jupyter-widgets/base",
            "top": null,
            "grid_column": null,
            "overflow_y": null,
            "overflow_x": null,
            "grid_auto_flow": null,
            "grid_area": null,
            "grid_template_columns": null,
            "flex": null,
            "_model_name": "LayoutModel",
            "justify_items": null,
            "grid_row": null,
            "max_height": null,
            "align_content": null,
            "visibility": null,
            "align_self": null,
            "height": null,
            "min_height": null,
            "padding": null,
            "grid_auto_rows": null,
            "grid_gap": null,
            "max_width": null,
            "order": null,
            "_view_module_version": "1.2.0",
            "grid_template_areas": null,
            "object_position": null,
            "object_fit": null,
            "grid_auto_columns": null,
            "margin": null,
            "display": null,
            "left": null
          }
        },
        "0a1b8f9448764ed2989217a4d9adc7fa": {
          "model_module": "@jupyter-widgets/controls",
          "model_name": "DescriptionStyleModel",
          "state": {
            "_view_name": "StyleView",
            "_model_name": "DescriptionStyleModel",
            "description_width": "",
            "_view_module": "@jupyter-widgets/base",
            "_model_module_version": "1.5.0",
            "_view_count": null,
            "_view_module_version": "1.2.0",
            "_model_module": "@jupyter-widgets/controls"
          }
        },
        "45ec52e776424173b4ed1c68605e33ed": {
          "model_module": "@jupyter-widgets/base",
          "model_name": "LayoutModel",
          "state": {
            "_view_name": "LayoutView",
            "grid_template_rows": null,
            "right": null,
            "justify_content": null,
            "_view_module": "@jupyter-widgets/base",
            "overflow": null,
            "_model_module_version": "1.2.0",
            "_view_count": null,
            "flex_flow": null,
            "width": null,
            "min_width": null,
            "border": null,
            "align_items": null,
            "bottom": null,
            "_model_module": "@jupyter-widgets/base",
            "top": null,
            "grid_column": null,
            "overflow_y": null,
            "overflow_x": null,
            "grid_auto_flow": null,
            "grid_area": null,
            "grid_template_columns": null,
            "flex": null,
            "_model_name": "LayoutModel",
            "justify_items": null,
            "grid_row": null,
            "max_height": null,
            "align_content": null,
            "visibility": null,
            "align_self": null,
            "height": null,
            "min_height": null,
            "padding": null,
            "grid_auto_rows": null,
            "grid_gap": null,
            "max_width": null,
            "order": null,
            "_view_module_version": "1.2.0",
            "grid_template_areas": null,
            "object_position": null,
            "object_fit": null,
            "grid_auto_columns": null,
            "margin": null,
            "display": null,
            "left": null
          }
        }
      }
    }
  },
  "cells": [
    {
      "cell_type": "code",
      "metadata": {
        "id": "JSjG64ra4aFu"
      },
      "source": [
        "# from google.colab import drive\n",
        "# drive.mount('/content/drive')"
      ],
      "execution_count": null,
      "outputs": []
    },
    {
      "cell_type": "code",
      "metadata": {
        "id": "V8-7SARDZErK"
      },
      "source": [
        "import torch.nn as nn\n",
        "import torch.nn.functional as F\n",
        "\n",
        "import pandas as pd\n",
        "import numpy as np\n",
        "import matplotlib.pyplot as plt\n",
        "\n",
        "import torch\n",
        "import torchvision\n",
        "import torchvision.transforms as transforms\n",
        "from torch.utils.data import Dataset, DataLoader\n",
        "from torchvision import transforms, utils\n",
        "\n",
        "from matplotlib import pyplot as plt\n",
        "import copy\n",
        "\n",
        "from numpy import linalg as LA\n",
        "from tabulate import tabulate\n",
        "# Ignore warnings\n",
        "import warnings\n",
        "warnings.filterwarnings(\"ignore\")\n"
      ],
      "execution_count": null,
      "outputs": []
    },
    {
      "cell_type": "code",
      "metadata": {
        "id": "acRFqJNrZErV",
        "outputId": "09a9e191-6229-4bc4-8c27-b1d66e2f6124",
        "colab": {
          "base_uri": "https://localhost:8080/",
          "height": 105,
          "referenced_widgets": [
            "7d8a47a822244a88bf912a271802841f",
            "7908701291534828a60f198d2154553c",
            "31e2f7f760a94ecc857acd2b98d4ca66",
            "7e0fc89946bc4cf8b77574a1dcddf3f1",
            "4546006747eb452fb6aa109508f43dd4",
            "cc5b57fcc0f14b248b0e311cbdaa04f5",
            "0a1b8f9448764ed2989217a4d9adc7fa",
            "45ec52e776424173b4ed1c68605e33ed"
          ]
        }
      },
      "source": [
        "transform = transforms.Compose(\n",
        "    [transforms.ToTensor(),\n",
        "     transforms.Normalize((0.5, 0.5, 0.5), (0.5, 0.5, 0.5))])\n",
        "\n",
        "trainset = torchvision.datasets.CIFAR10(root='./data', train=True, download=True, transform=transform)\n",
        "\n",
        "\n",
        "testset = torchvision.datasets.CIFAR10(root='./data', train=False, download=True, transform=transform)\n"
      ],
      "execution_count": null,
      "outputs": [
        {
          "output_type": "stream",
          "text": [
            "Downloading https://www.cs.toronto.edu/~kriz/cifar-10-python.tar.gz to ./data/cifar-10-python.tar.gz\n"
          ],
          "name": "stdout"
        },
        {
          "output_type": "display_data",
          "data": {
            "application/vnd.jupyter.widget-view+json": {
              "model_id": "7d8a47a822244a88bf912a271802841f",
              "version_minor": 0,
              "version_major": 2
            },
            "text/plain": [
              "HBox(children=(FloatProgress(value=1.0, bar_style='info', max=1.0), HTML(value='')))"
            ]
          },
          "metadata": {
            "tags": []
          }
        },
        {
          "output_type": "stream",
          "text": [
            "Extracting ./data/cifar-10-python.tar.gz to ./data\n",
            "Files already downloaded and verified\n"
          ],
          "name": "stdout"
        }
      ]
    },
    {
      "cell_type": "code",
      "metadata": {
        "id": "FTBYzzX-fY2K"
      },
      "source": [
        "gamma = 0.004"
      ],
      "execution_count": null,
      "outputs": []
    },
    {
      "cell_type": "code",
      "metadata": {
        "id": "ygZ-VSs6j-hf",
        "outputId": "da29357a-4a18-40c4-8878-95a389905459",
        "colab": {
          "base_uri": "https://localhost:8080/",
          "height": 36
        }
      },
      "source": [
        "classes = ('plane', 'car', 'bird', 'cat', 'deer', 'dog', 'frog', 'horse', 'ship', 'truck')\n",
        "\n",
        "foreground_classes = {'plane', 'car', 'bird'}\n",
        "fg_used = '012'\n",
        "fg1, fg2, fg3 = 0,1,2\n",
        "\n",
        "\n",
        "all_classes = {'plane', 'car', 'bird', 'cat', 'deer', 'dog', 'frog', 'horse', 'ship', 'truck'}\n",
        "background_classes = all_classes - foreground_classes\n",
        "background_classes\n",
        "\n",
        "# print(type(foreground_classes))"
      ],
      "execution_count": null,
      "outputs": [
        {
          "output_type": "execute_result",
          "data": {
            "text/plain": [
              "{'cat', 'deer', 'dog', 'frog', 'horse', 'ship', 'truck'}"
            ]
          },
          "metadata": {
            "tags": []
          },
          "execution_count": 5
        }
      ]
    },
    {
      "cell_type": "code",
      "metadata": {
        "id": "oEPWuddXzu9f"
      },
      "source": [
        "trainloader = torch.utils.data.DataLoader(trainset, batch_size=10, shuffle=True)\n",
        "testloader = torch.utils.data.DataLoader(testset, batch_size=10, shuffle=False)\n"
      ],
      "execution_count": null,
      "outputs": []
    },
    {
      "cell_type": "code",
      "metadata": {
        "id": "n76MSJwHzu9p",
        "outputId": "448ab570-a99c-4fc1-ba9d-c662d284c735",
        "colab": {
          "base_uri": "https://localhost:8080/",
          "height": 36
        }
      },
      "source": [
        "dataiter = iter(trainloader)\n",
        "true_train_background_data=[]\n",
        "true_train_background_label=[]\n",
        "true_train_foreground_data=[]\n",
        "true_train_foreground_label=[]\n",
        "batch_size=10\n",
        "\n",
        "for i in range(5000):\n",
        "  images, labels = dataiter.next()\n",
        "  for j in range(batch_size):\n",
        "    if(classes[labels[j]] in background_classes):\n",
        "      img = images[j].tolist()\n",
        "      true_train_background_data.append(img)\n",
        "      true_train_background_label.append(labels[j])\n",
        "    else:\n",
        "      img = images[j].tolist()\n",
        "      true_train_foreground_data.append(img)\n",
        "      true_train_foreground_label.append(labels[j])\n",
        "            \n",
        "true_train_foreground_data = torch.tensor(true_train_foreground_data)\n",
        "true_train_foreground_label = torch.tensor(true_train_foreground_label)\n",
        "true_train_background_data = torch.tensor(true_train_background_data)\n",
        "true_train_background_label = torch.tensor(true_train_background_label)\n",
        "    "
      ],
      "execution_count": null,
      "outputs": [
        {
          "output_type": "stream",
          "text": [
            "\n"
          ],
          "name": "stdout"
        }
      ]
    },
    {
      "cell_type": "code",
      "metadata": {
        "id": "NdYlcZPM2tmV",
        "outputId": "93e1667f-c194-479e-976e-befbffd9e76f",
        "colab": {
          "base_uri": "https://localhost:8080/",
          "height": 36
        }
      },
      "source": [
        "len(true_train_foreground_data), len(true_train_foreground_label), len(true_train_background_data), len(true_train_background_label)"
      ],
      "execution_count": null,
      "outputs": [
        {
          "output_type": "execute_result",
          "data": {
            "text/plain": [
              "(15000, 15000, 35000, 35000)"
            ]
          },
          "metadata": {
            "tags": []
          },
          "execution_count": 8
        }
      ]
    },
    {
      "cell_type": "code",
      "metadata": {
        "id": "IgyumCe_0GMa"
      },
      "source": [
        "dataiter = iter(testloader)\n",
        "true_test_background_data=[]\n",
        "true_test_background_label=[]\n",
        "true_test_foreground_data=[]\n",
        "true_test_foreground_label=[]\n",
        "batch_size=10\n",
        "\n",
        "for i in range(1000):\n",
        "  images, labels = dataiter.next()\n",
        "  for j in range(batch_size):\n",
        "    if(classes[labels[j]] in background_classes):\n",
        "      img = images[j].tolist()\n",
        "      true_test_background_data.append(img)\n",
        "      true_test_background_label.append(labels[j])\n",
        "    else:\n",
        "      img = images[j].tolist()\n",
        "      true_test_foreground_data.append(img)\n",
        "      true_test_foreground_label.append(labels[j])\n",
        "            \n",
        "true_test_foreground_data = torch.tensor(true_test_foreground_data)\n",
        "true_test_foreground_label = torch.tensor(true_test_foreground_label)\n",
        "true_test_background_data = torch.tensor(true_test_background_data)\n",
        "true_test_background_label = torch.tensor(true_test_background_label)"
      ],
      "execution_count": null,
      "outputs": []
    },
    {
      "cell_type": "code",
      "metadata": {
        "id": "P07QyEjZ2_tH",
        "outputId": "66c6068c-9c4d-49ba-d7d6-edd9b70175c0",
        "colab": {
          "base_uri": "https://localhost:8080/",
          "height": 36
        }
      },
      "source": [
        "len(true_test_foreground_data), len(true_test_foreground_label), len(true_test_background_data), len(true_test_background_label)"
      ],
      "execution_count": null,
      "outputs": [
        {
          "output_type": "execute_result",
          "data": {
            "text/plain": [
              "(3000, 3000, 7000, 7000)"
            ]
          },
          "metadata": {
            "tags": []
          },
          "execution_count": 10
        }
      ]
    },
    {
      "cell_type": "code",
      "metadata": {
        "id": "bzU_HuQnEB29"
      },
      "source": [
        "true_train = trainset.data"
      ],
      "execution_count": null,
      "outputs": []
    },
    {
      "cell_type": "code",
      "metadata": {
        "id": "FAR6Zt2QgMdf"
      },
      "source": [
        "train_label = trainset.targets"
      ],
      "execution_count": null,
      "outputs": []
    },
    {
      "cell_type": "code",
      "metadata": {
        "id": "JZ52v93i__q5"
      },
      "source": [
        "true_train_cifar_norm=[]\n",
        "for i in range(len(true_train)):\n",
        "  true_train_cifar_norm.append(LA.norm(true_train[i]))"
      ],
      "execution_count": null,
      "outputs": []
    },
    {
      "cell_type": "code",
      "metadata": {
        "id": "TbWNZhQvAWav",
        "outputId": "0a6fb40a-0a7a-41b8-93e7-e0592d8eeb72",
        "colab": {
          "base_uri": "https://localhost:8080/",
          "height": 36
        }
      },
      "source": [
        "len(true_train_cifar_norm)"
      ],
      "execution_count": null,
      "outputs": [
        {
          "output_type": "execute_result",
          "data": {
            "text/plain": [
              "50000"
            ]
          },
          "metadata": {
            "tags": []
          },
          "execution_count": 14
        }
      ]
    },
    {
      "cell_type": "code",
      "metadata": {
        "id": "Klrwlq-RBSdc"
      },
      "source": [
        "def plot_hist(values):\n",
        "  plt.hist(values, density=True, bins=200)  # `density=False` would make counts\n",
        "  plt.ylabel('NORM')\n",
        "  plt.xlabel('Data');"
      ],
      "execution_count": null,
      "outputs": []
    },
    {
      "cell_type": "code",
      "metadata": {
        "id": "w-saABjgAaFY",
        "outputId": "1afe568f-d9c2-4f9f-937c-fa5bcbca95cc",
        "colab": {
          "base_uri": "https://localhost:8080/",
          "height": 279
        }
      },
      "source": [
        "plot_hist(true_train_cifar_norm)"
      ],
      "execution_count": null,
      "outputs": [
        {
          "output_type": "display_data",
          "data": {
            "image/png": "[encoded data removed]",
            "text/plain": [
              "<Figure size 432x288 with 1 Axes>"
            ]
          },
          "metadata": {
            "tags": [],
            "needs_background": "light"
          }
        }
      ]
    },
    {
      "cell_type": "code",
      "metadata": {
        "id": "_USgDEwbMMKY",
        "outputId": "9b9632fb-9a89-420b-e76b-08e35f09d4f1",
        "colab": {
          "base_uri": "https://localhost:8080/",
          "height": 36
        }
      },
      "source": [
        "true_train.shape"
      ],
      "execution_count": null,
      "outputs": [
        {
          "output_type": "execute_result",
          "data": {
            "text/plain": [
              "(50000, 32, 32, 3)"
            ]
          },
          "metadata": {
            "tags": []
          },
          "execution_count": 17
        }
      ]
    },
    {
      "cell_type": "code",
      "metadata": {
        "id": "yi-39bYIMZOd",
        "outputId": "ac7a97ad-7e3b-45b0-a00d-68fb2ffc5e60",
        "colab": {
          "base_uri": "https://localhost:8080/",
          "height": 36
        }
      },
      "source": [
        "train = np.reshape(true_train, (50000,3072))\n",
        "train.shape, true_train.shape"
      ],
      "execution_count": null,
      "outputs": [
        {
          "output_type": "execute_result",
          "data": {
            "text/plain": [
              "((50000, 3072), (50000, 32, 32, 3))"
            ]
          },
          "metadata": {
            "tags": []
          },
          "execution_count": 18
        }
      ]
    },
    {
      "cell_type": "code",
      "metadata": {
        "id": "3qMpDn-xMleE"
      },
      "source": [
        "u, s, vh = LA.svd(train, full_matrices= False)"
      ],
      "execution_count": null,
      "outputs": []
    },
    {
      "cell_type": "code",
      "metadata": {
        "id": "4o7zUUJJNavO",
        "outputId": "b17f79f4-db3f-4764-8e45-39e73e91d520",
        "colab": {
          "base_uri": "https://localhost:8080/",
          "height": 36
        }
      },
      "source": [
        "u.shape , s.shape, vh.shape"
      ],
      "execution_count": null,
      "outputs": [
        {
          "output_type": "execute_result",
          "data": {
            "text/plain": [
              "((50000, 3072), (3072,), (3072, 3072))"
            ]
          },
          "metadata": {
            "tags": []
          },
          "execution_count": 20
        }
      ]
    },
    {
      "cell_type": "code",
      "metadata": {
        "id": "ZRlhUgdqSPyx",
        "outputId": "61631a38-a2c6-466d-de40-15cad4641b3c",
        "colab": {
          "base_uri": "https://localhost:8080/",
          "height": 54
        }
      },
      "source": [
        "s"
      ],
      "execution_count": null,
      "outputs": [
        {
          "output_type": "execute_result",
          "data": {
            "text/plain": [
              "array([1.55289927e+06, 2.82437414e+05, 2.17772149e+05, ...,\n",
              "       7.31736954e+01, 7.23349722e+01, 7.18349192e+01])"
            ]
          },
          "metadata": {
            "tags": []
          },
          "execution_count": 21
        }
      ]
    },
    {
      "cell_type": "code",
      "metadata": {
        "id": "h31rbKmqVnZW",
        "outputId": "59763592-0782-442d-801a-1c05276eba1f",
        "colab": {
          "base_uri": "https://localhost:8080/",
          "height": 260
        }
      },
      "source": [
        "vh"
      ],
      "execution_count": null,
      "outputs": [
        {
          "output_type": "execute_result",
          "data": {
            "text/plain": [
              "array([[-0.01984194, -0.02066161, -0.02037075, ..., -0.01879724,\n",
              "        -0.01874038, -0.01729938],\n",
              "       [-0.02488245, -0.02705999, -0.03195926, ...,  0.01262528,\n",
              "         0.01096339,  0.00766722],\n",
              "       [-0.0159231 , -0.01437591, -0.01281541, ..., -0.02971411,\n",
              "        -0.0283376 , -0.02749635],\n",
              "       ...,\n",
              "       [-0.00449998,  0.00770844, -0.00281931, ..., -0.00013103,\n",
              "        -0.00080887,  0.00071151],\n",
              "       [ 0.00433324, -0.00629207,  0.00181791, ..., -0.00168695,\n",
              "         0.00131196,  0.00052667],\n",
              "       [-0.00574169,  0.00783184, -0.00186197, ...,  0.00511688,\n",
              "        -0.00678068,  0.00138508]])"
            ]
          },
          "metadata": {
            "tags": []
          },
          "execution_count": 22
        }
      ]
    },
    {
      "cell_type": "code",
      "metadata": {
        "id": "LruQuedyVs4i",
        "outputId": "ed8a7baa-917a-41fb-b3bc-10b7a206bb10",
        "colab": {
          "base_uri": "https://localhost:8080/",
          "height": 260
        }
      },
      "source": [
        "dir = vh[3062:3072,:]\n",
        "dir"
      ],
      "execution_count": null,
      "outputs": [
        {
          "output_type": "execute_result",
          "data": {
            "text/plain": [
              "array([[ 0.00256167, -0.00421648,  0.00171443, ..., -0.00214198,\n",
              "         0.0024008 , -0.00026442],\n",
              "       [ 0.00629867, -0.01114679,  0.00518054, ..., -0.00382077,\n",
              "         0.00504342, -0.00113716],\n",
              "       [-0.0022958 ,  0.0006672 ,  0.00141218, ..., -0.00062172,\n",
              "         0.00201576, -0.00146441],\n",
              "       ...,\n",
              "       [-0.00449998,  0.00770844, -0.00281931, ..., -0.00013103,\n",
              "        -0.00080887,  0.00071151],\n",
              "       [ 0.00433324, -0.00629207,  0.00181791, ..., -0.00168695,\n",
              "         0.00131196,  0.00052667],\n",
              "       [-0.00574169,  0.00783184, -0.00186197, ...,  0.00511688,\n",
              "        -0.00678068,  0.00138508]])"
            ]
          },
          "metadata": {
            "tags": []
          },
          "execution_count": 23
        }
      ]
    },
    {
      "cell_type": "code",
      "metadata": {
        "id": "m260DTW6V-Ka"
      },
      "source": [
        "u1 = dir[7,:]\n",
        "u2 = dir[8,:]\n",
        "u3 = dir[9,:]"
      ],
      "execution_count": null,
      "outputs": []
    },
    {
      "cell_type": "code",
      "metadata": {
        "id": "R9OuIGt4WzlK",
        "outputId": "39e8a901-6f33-4720-9aaf-3fd5366c8c36",
        "colab": {
          "base_uri": "https://localhost:8080/",
          "height": 54
        }
      },
      "source": [
        "u1"
      ],
      "execution_count": null,
      "outputs": [
        {
          "output_type": "execute_result",
          "data": {
            "text/plain": [
              "array([-0.00449998,  0.00770844, -0.00281931, ..., -0.00013103,\n",
              "       -0.00080887,  0.00071151])"
            ]
          },
          "metadata": {
            "tags": []
          },
          "execution_count": 25
        }
      ]
    },
    {
      "cell_type": "code",
      "metadata": {
        "id": "gswdCEwMW1-o",
        "outputId": "2c551599-a2ef-4dd0-a420-ce1a821705a4",
        "colab": {
          "base_uri": "https://localhost:8080/",
          "height": 54
        }
      },
      "source": [
        "u2"
      ],
      "execution_count": null,
      "outputs": [
        {
          "output_type": "execute_result",
          "data": {
            "text/plain": [
              "array([ 0.00433324, -0.00629207,  0.00181791, ..., -0.00168695,\n",
              "        0.00131196,  0.00052667])"
            ]
          },
          "metadata": {
            "tags": []
          },
          "execution_count": 26
        }
      ]
    },
    {
      "cell_type": "code",
      "metadata": {
        "id": "_GcGDZp7W2g6",
        "outputId": "fa2db9a7-9275-4f2e-c672-ecff4d74e779",
        "colab": {
          "base_uri": "https://localhost:8080/",
          "height": 54
        }
      },
      "source": [
        "u3"
      ],
      "execution_count": null,
      "outputs": [
        {
          "output_type": "execute_result",
          "data": {
            "text/plain": [
              "array([-0.00574169,  0.00783184, -0.00186197, ...,  0.00511688,\n",
              "       -0.00678068,  0.00138508])"
            ]
          },
          "metadata": {
            "tags": []
          },
          "execution_count": 27
        }
      ]
    },
    {
      "cell_type": "code",
      "metadata": {
        "id": "c1ORV76hfd5u",
        "outputId": "8fb8be46-b424-48f6-9f06-db6d95ba8964",
        "colab": {
          "base_uri": "https://localhost:8080/",
          "height": 36
        }
      },
      "source": [
        "len(train_label)"
      ],
      "execution_count": null,
      "outputs": [
        {
          "output_type": "execute_result",
          "data": {
            "text/plain": [
              "50000"
            ]
          },
          "metadata": {
            "tags": []
          },
          "execution_count": 28
        }
      ]
    },
    {
      "cell_type": "code",
      "metadata": {
        "id": "PUuW5wxpH1_C"
      },
      "source": [
        "def is_equal(x1, x2):\n",
        "  cnt=0\n",
        "  for i in range(len(x1)):\n",
        "    if(x1[i] == x2[i]):\n",
        "      cnt+=1\n",
        "  return cnt"
      ],
      "execution_count": null,
      "outputs": []
    },
    {
      "cell_type": "code",
      "metadata": {
        "id": "A45Ln5fwgSOW"
      },
      "source": [
        "def add_noise_cifar(train, label, gamma, fg1,fg2,fg3):\n",
        "  cnt=0\n",
        "\n",
        "  for i in range(len(label)):\n",
        "    x = train[i]\n",
        "    if(label[i] == fg1):\n",
        "      train[i] = train[i] + gamma * LA.norm(train[i]) * u1\n",
        "      cnt+=1\n",
        "\n",
        "    if(label[i] == fg2):\n",
        "      train[i] = train[i] + gamma * LA.norm(train[i]) * u2\n",
        "      cnt+=1\n",
        "\n",
        "    if(label[i] == fg3):\n",
        "      train[i] = train[i] + gamma * LA.norm(train[i]) * u3\n",
        "      cnt+=1\n",
        "    y = train[i]\n",
        "\n",
        "  print(\"total modified\",cnt)\n",
        "\n",
        "  return train"
      ],
      "execution_count": null,
      "outputs": []
    },
    {
      "cell_type": "code",
      "metadata": {
        "id": "QESEKIv3EW8b",
        "outputId": "822bbe78-4e0f-4a8a-9dde-8c68f789a2d5",
        "colab": {
          "base_uri": "https://localhost:8080/",
          "height": 316
        }
      },
      "source": [
        "noise_train = np.reshape(true_train, (50000,3072))\n",
        "noise_train = add_noise_cifar(noise_train, train_label, gamma , fg1,fg2,fg3)\n",
        "noise_train_cifar_norm=[]\n",
        "for i in range(len(noise_train)):\n",
        "  noise_train_cifar_norm.append(LA.norm(noise_train[i]))\n",
        "plt.hist(noise_train_cifar_norm, density=True, bins=200,label='gamma='+str(gamma))  # `density=False` would make counts\n",
        "plt.hist(true_train_cifar_norm, density=True, bins=200,label='true') \n",
        "plt.ylabel('NORM')\n",
        "plt.xlabel('Data')\n",
        "plt.legend()\n",
        "print(\"remain same\",is_equal(noise_train_cifar_norm,true_train_cifar_norm))"
      ],
      "execution_count": null,
      "outputs": [
        {
          "output_type": "stream",
          "text": [
            "total modified 15000\n",
            "remain same 35000\n"
          ],
          "name": "stdout"
        },
        {
          "output_type": "display_data",
          "data": {
            "image/png": "[encoded data removed]",
            "text/plain": [
              "<Figure size 432x288 with 1 Axes>"
            ]
          },
          "metadata": {
            "tags": [],
            "needs_background": "light"
          }
        }
      ]
    },
    {
      "cell_type": "code",
      "metadata": {
        "id": "Ko4htz117YVx",
        "outputId": "abbcf078-585e-4dfd-b4cf-db5f64545274",
        "colab": {
          "base_uri": "https://localhost:8080/",
          "height": 298
        }
      },
      "source": [
        "plt.hist(true_train_cifar_norm, density=True, bins=200,label='true') \n",
        "plt.ylabel('NORM')\n",
        "plt.xlabel('Data')\n",
        "plt.legend()"
      ],
      "execution_count": null,
      "outputs": [
        {
          "output_type": "execute_result",
          "data": {
            "text/plain": [
              "<matplotlib.legend.Legend at 0x7f753adf4080>"
            ]
          },
          "metadata": {
            "tags": []
          },
          "execution_count": 32
        },
        {
          "output_type": "display_data",
          "data": {
            "image/png": "[encoded data removed]",
            "text/plain": [
              "<Figure size 432x288 with 1 Axes>"
            ]
          },
          "metadata": {
            "tags": [],
            "needs_background": "light"
          }
        }
      ]
    },
    {
      "cell_type": "code",
      "metadata": {
        "id": "UiF_g59Y7iEC",
        "outputId": "acf5404a-6d30-471d-9c9b-e579f6d6413e",
        "colab": {
          "base_uri": "https://localhost:8080/",
          "height": 298
        }
      },
      "source": [
        "plt.hist(noise_train_cifar_norm, density=True, bins=200,label='gamma='+str(gamma))  # `density=False` would make counts\n",
        "# plt.hist(true_train_cifar_norm, density=True, bins=200,label='true') \n",
        "plt.ylabel('NORM')\n",
        "plt.xlabel('Data')\n",
        "plt.legend()"
      ],
      "execution_count": null,
      "outputs": [
        {
          "output_type": "execute_result",
          "data": {
            "text/plain": [
              "<matplotlib.legend.Legend at 0x7f7658901128>"
            ]
          },
          "metadata": {
            "tags": []
          },
          "execution_count": 33
        },
        {
          "output_type": "display_data",
          "data": {
            "image/png": "[encoded data removed]",
            "text/plain": [
              "<Figure size 432x288 with 1 Axes>"
            ]
          },
          "metadata": {
            "tags": [],
            "needs_background": "light"
          }
        }
      ]
    },
    {
      "cell_type": "code",
      "metadata": {
        "id": "BQDi-wiHhZt_",
        "outputId": "4290baa6-7d34-443c-c946-c9ce6fc6013c",
        "colab": {
          "base_uri": "https://localhost:8080/",
          "height": 36
        }
      },
      "source": [
        "noise_train.shape, trainset.data.shape"
      ],
      "execution_count": null,
      "outputs": [
        {
          "output_type": "execute_result",
          "data": {
            "text/plain": [
              "((50000, 3072), (50000, 32, 32, 3))"
            ]
          },
          "metadata": {
            "tags": []
          },
          "execution_count": 34
        }
      ]
    },
    {
      "cell_type": "code",
      "metadata": {
        "id": "As5AyKIUjhgA",
        "outputId": "68a4c7ec-2028-4a9f-b20a-b19c9b0ebeb1",
        "colab": {
          "base_uri": "https://localhost:8080/",
          "height": 36
        }
      },
      "source": [
        "noise_train = np.reshape(noise_train, (50000,32, 32, 3))\n",
        "noise_train.shape"
      ],
      "execution_count": null,
      "outputs": [
        {
          "output_type": "execute_result",
          "data": {
            "text/plain": [
              "(50000, 32, 32, 3)"
            ]
          },
          "metadata": {
            "tags": []
          },
          "execution_count": 35
        }
      ]
    },
    {
      "cell_type": "code",
      "metadata": {
        "id": "Ncd6Cbc2j1jH"
      },
      "source": [
        "trainset.data = noise_train"
      ],
      "execution_count": null,
      "outputs": []
    },
    {
      "cell_type": "code",
      "metadata": {
        "id": "tEhyHO5VYHG5"
      },
      "source": [
        "true_test = testset.data"
      ],
      "execution_count": null,
      "outputs": []
    },
    {
      "cell_type": "code",
      "metadata": {
        "id": "pNfT218kYHHF"
      },
      "source": [
        "test_label = testset.targets"
      ],
      "execution_count": null,
      "outputs": []
    },
    {
      "cell_type": "code",
      "metadata": {
        "id": "7Yvi0O2VYHHM",
        "outputId": "54fabb58-311a-48c6-b381-819a67dde395",
        "colab": {
          "base_uri": "https://localhost:8080/",
          "height": 36
        }
      },
      "source": [
        "true_test.shape"
      ],
      "execution_count": null,
      "outputs": [
        {
          "output_type": "execute_result",
          "data": {
            "text/plain": [
              "(10000, 32, 32, 3)"
            ]
          },
          "metadata": {
            "tags": []
          },
          "execution_count": 39
        }
      ]
    },
    {
      "cell_type": "code",
      "metadata": {
        "id": "xTNF0gS3YHHS",
        "outputId": "867671cd-8ac7-42df-a34c-e4293b166215",
        "colab": {
          "base_uri": "https://localhost:8080/",
          "height": 36
        }
      },
      "source": [
        "test = np.reshape(true_test, (10000,3072))\n",
        "test.shape"
      ],
      "execution_count": null,
      "outputs": [
        {
          "output_type": "execute_result",
          "data": {
            "text/plain": [
              "(10000, 3072)"
            ]
          },
          "metadata": {
            "tags": []
          },
          "execution_count": 40
        }
      ]
    },
    {
      "cell_type": "code",
      "metadata": {
        "id": "PRLw2cTVYHIQ",
        "outputId": "40797e50-f1d3-41a1-e29b-f6f507f32911",
        "colab": {
          "base_uri": "https://localhost:8080/",
          "height": 36
        }
      },
      "source": [
        "len(test_label)"
      ],
      "execution_count": null,
      "outputs": [
        {
          "output_type": "execute_result",
          "data": {
            "text/plain": [
              "10000"
            ]
          },
          "metadata": {
            "tags": []
          },
          "execution_count": 41
        }
      ]
    },
    {
      "cell_type": "code",
      "metadata": {
        "id": "9x02rkwYoFFM",
        "outputId": "70557e45-5e98-4776-e1fd-c93ac0f3c494",
        "colab": {
          "base_uri": "https://localhost:8080/",
          "height": 298
        }
      },
      "source": [
        "true_test_cifar_norm=[]\n",
        "for i in range(len(test)):\n",
        "  true_test_cifar_norm.append(LA.norm(test[i]))\n",
        "\n",
        "plt.hist(true_test_cifar_norm, density=True, bins=200,label='true') \n",
        "plt.ylabel('NORM')\n",
        "plt.xlabel('Data')\n",
        "plt.legend()"
      ],
      "execution_count": null,
      "outputs": [
        {
          "output_type": "execute_result",
          "data": {
            "text/plain": [
              "<matplotlib.legend.Legend at 0x7f76561d4940>"
            ]
          },
          "metadata": {
            "tags": []
          },
          "execution_count": 42
        },
        {
          "output_type": "display_data",
          "data": {
            "image/png": "[encoded data removed]",
            "text/plain": [
              "<Figure size 432x288 with 1 Axes>"
            ]
          },
          "metadata": {
            "tags": [],
            "needs_background": "light"
          }
        }
      ]
    },
    {
      "cell_type": "code",
      "metadata": {
        "id": "_EB2OcUZokQc",
        "outputId": "2eb3a7b1-4e5e-4a6f-f04b-f2c320d86756",
        "colab": {
          "base_uri": "https://localhost:8080/",
          "height": 317
        }
      },
      "source": [
        "noise_test = np.reshape(true_test, (10000,3072))\n",
        "noise_test = add_noise_cifar(noise_test, test_label, gamma , fg1,fg2,fg3)\n",
        "noise_test_cifar_norm=[]\n",
        "for i in range(len(noise_test)):\n",
        "  noise_test_cifar_norm.append(LA.norm(noise_test[i]))\n",
        "plt.hist(noise_test_cifar_norm, density=True, bins=200,label='gamma='+str(gamma))  # `density=False` would make counts\n",
        "plt.hist(true_test_cifar_norm, density=True, bins=200,label='true') \n",
        "plt.ylabel('NORM')\n",
        "plt.xlabel('Data')\n",
        "plt.legend()\n",
        "is_equal(noise_test_cifar_norm,true_test_cifar_norm)"
      ],
      "execution_count": null,
      "outputs": [
        {
          "output_type": "stream",
          "text": [
            "total modified 3000\n"
          ],
          "name": "stdout"
        },
        {
          "output_type": "execute_result",
          "data": {
            "text/plain": [
              "7000"
            ]
          },
          "metadata": {
            "tags": []
          },
          "execution_count": 43
        },
        {
          "output_type": "display_data",
          "data": {
            "image/png": "[encoded data removed]",
            "text/plain": [
              "<Figure size 432x288 with 1 Axes>"
            ]
          },
          "metadata": {
            "tags": [],
            "needs_background": "light"
          }
        }
      ]
    },
    {
      "cell_type": "code",
      "metadata": {
        "id": "2qA07ljGQFJ7",
        "outputId": "e84ba7e7-ebf4-47a7-dc03-3140338e8234",
        "colab": {
          "base_uri": "https://localhost:8080/",
          "height": 298
        }
      },
      "source": [
        "plt.hist(true_test_cifar_norm, density=True, bins=200,label='true') \n",
        "plt.ylabel('NORM')\n",
        "plt.xlabel('Data')\n",
        "plt.legend()"
      ],
      "execution_count": null,
      "outputs": [
        {
          "output_type": "execute_result",
          "data": {
            "text/plain": [
              "<matplotlib.legend.Legend at 0x7f7656405668>"
            ]
          },
          "metadata": {
            "tags": []
          },
          "execution_count": 44
        },
        {
          "output_type": "display_data",
          "data": {
            "image/png": "[encoded data removed]",
            "text/plain": [
              "<Figure size 432x288 with 1 Axes>"
            ]
          },
          "metadata": {
            "tags": [],
            "needs_background": "light"
          }
        }
      ]
    },
    {
      "cell_type": "code",
      "metadata": {
        "id": "d0VFtDFrQFKO",
        "outputId": "6aaf2c0b-3fb0-4936-8595-0e0aab0b03b7",
        "colab": {
          "base_uri": "https://localhost:8080/",
          "height": 299
        }
      },
      "source": [
        "plt.hist(noise_test_cifar_norm, density=True, bins=200,label='gamma='+str(gamma))  # `density=False` would make counts\n",
        "# plt.hist(true_train_cifar_norm, density=True, bins=200,label='true') \n",
        "plt.ylabel('NORM')\n",
        "plt.xlabel('Data')\n",
        "plt.legend()"
      ],
      "execution_count": null,
      "outputs": [
        {
          "output_type": "execute_result",
          "data": {
            "text/plain": [
              "<matplotlib.legend.Legend at 0x7f76561baef0>"
            ]
          },
          "metadata": {
            "tags": []
          },
          "execution_count": 45
        },
        {
          "output_type": "display_data",
          "data": {
            "image/png": "[encoded data removed]",
            "text/plain": [
              "<Figure size 432x288 with 1 Axes>"
            ]
          },
          "metadata": {
            "tags": [],
            "needs_background": "light"
          }
        }
      ]
    },
    {
      "cell_type": "code",
      "metadata": {
        "id": "KHElHqmrYHIX",
        "outputId": "a0d49287-2847-40af-817e-54e26ca04c88",
        "colab": {
          "base_uri": "https://localhost:8080/",
          "height": 36
        }
      },
      "source": [
        "noise_test.shape, testset.data.shape"
      ],
      "execution_count": null,
      "outputs": [
        {
          "output_type": "execute_result",
          "data": {
            "text/plain": [
              "((10000, 3072), (10000, 32, 32, 3))"
            ]
          },
          "metadata": {
            "tags": []
          },
          "execution_count": 46
        }
      ]
    },
    {
      "cell_type": "code",
      "metadata": {
        "id": "DY51kmksYHIb",
        "outputId": "92b56ea2-ed5b-41b6-9163-93bbc3f39032",
        "colab": {
          "base_uri": "https://localhost:8080/",
          "height": 36
        }
      },
      "source": [
        "noise_test = np.reshape(noise_test, (10000,32, 32, 3))\n",
        "noise_test.shape"
      ],
      "execution_count": null,
      "outputs": [
        {
          "output_type": "execute_result",
          "data": {
            "text/plain": [
              "(10000, 32, 32, 3)"
            ]
          },
          "metadata": {
            "tags": []
          },
          "execution_count": 47
        }
      ]
    },
    {
      "cell_type": "code",
      "metadata": {
        "id": "AGDb6gpjYHIe"
      },
      "source": [
        "testset.data = noise_test"
      ],
      "execution_count": null,
      "outputs": []
    },
    {
      "cell_type": "code",
      "metadata": {
        "id": "iLulDYL_ndvY",
        "outputId": "f8ca95fc-d883-4847-8bc3-bc3988d72856",
        "colab": {
          "base_uri": "https://localhost:8080/",
          "height": 36
        }
      },
      "source": [
        "fg = [fg1,fg2,fg3]\n",
        "bg = list(set([0,1,2,3,4,5,6,7,8,9])-set(fg))\n",
        "fg,bg"
      ],
      "execution_count": null,
      "outputs": [
        {
          "output_type": "execute_result",
          "data": {
            "text/plain": [
              "([0, 1, 2], [3, 4, 5, 6, 7, 8, 9])"
            ]
          },
          "metadata": {
            "tags": []
          },
          "execution_count": 49
        }
      ]
    },
    {
      "cell_type": "code",
      "metadata": {
        "id": "5Jk7ZzLSX-Mf"
      },
      "source": [
        "trainloader = torch.utils.data.DataLoader(trainset, batch_size=10, shuffle=True)\n",
        "testloader = torch.utils.data.DataLoader(testset, batch_size=10, shuffle=False)\n"
      ],
      "execution_count": null,
      "outputs": []
    },
    {
      "cell_type": "code",
      "metadata": {
        "id": "gLiZ8Y0EkGE5"
      },
      "source": [
        "dataiter = iter(trainloader)\n",
        "train_background_data=[]\n",
        "train_background_label=[]\n",
        "train_foreground_data=[]\n",
        "train_foreground_label=[]\n",
        "batch_size=10\n",
        "\n",
        "for i in range(5000):\n",
        "  images, labels = dataiter.next()\n",
        "  for j in range(batch_size):\n",
        "    if(classes[labels[j]] in background_classes):\n",
        "      img = images[j].tolist()\n",
        "      train_background_data.append(img)\n",
        "      train_background_label.append(labels[j])\n",
        "    else:\n",
        "      img = images[j].tolist()\n",
        "      train_foreground_data.append(img)\n",
        "      train_foreground_label.append(labels[j])\n",
        "\n",
        "train_foreground_data = torch.tensor(train_foreground_data)\n",
        "train_foreground_label = torch.tensor(train_foreground_label)\n",
        "train_background_data = torch.tensor(train_background_data)\n",
        "train_background_label = torch.tensor(train_background_label)    "
      ],
      "execution_count": null,
      "outputs": []
    },
    {
      "cell_type": "code",
      "metadata": {
        "id": "SRl_9E-6SLLe"
      },
      "source": [
        "dataiter = iter(testloader)\n",
        "test_background_data=[]\n",
        "test_background_label=[]\n",
        "test_foreground_data=[]\n",
        "test_foreground_label=[]\n",
        "batch_size=10\n",
        "\n",
        "for i in range(1000):\n",
        "  images, labels = dataiter.next()\n",
        "  for j in range(batch_size):\n",
        "    if(classes[labels[j]] in background_classes):\n",
        "      img = images[j].tolist()\n",
        "      test_background_data.append(img)\n",
        "      test_background_label.append(labels[j])\n",
        "    else:\n",
        "      img = images[j].tolist()\n",
        "      test_foreground_data.append(img)\n",
        "      test_foreground_label.append(labels[j])\n",
        "\n",
        "test_foreground_data = torch.tensor(test_foreground_data)\n",
        "test_foreground_label = torch.tensor(test_foreground_label)\n",
        "test_background_data = torch.tensor(test_background_data)\n",
        "test_background_label = torch.tensor(test_background_label)    "
      ],
      "execution_count": null,
      "outputs": []
    },
    {
      "cell_type": "code",
      "metadata": {
        "id": "seziBl0rkH0Y"
      },
      "source": [
        "def imshow(img):\n",
        "  img = img / 2 + 0.5     # unnormalize\n",
        "  npimg = img#.numpy()\n",
        "  plt.imshow(np.transpose(npimg, (1, 2, 0)))\n",
        "  plt.show()"
      ],
      "execution_count": null,
      "outputs": []
    },
    {
      "cell_type": "code",
      "metadata": {
        "id": "DmxEx0N3kOxZ",
        "outputId": "c4429c3c-2173-4835-f925-bc8aabebd055",
        "colab": {
          "base_uri": "https://localhost:8080/",
          "height": 807
        }
      },
      "source": [
        "img1 = torch.cat((true_test_foreground_data[27],true_test_foreground_data[3],true_test_foreground_data[43]),1)\n",
        "imshow(img1)\n",
        "img2 = torch.cat((test_foreground_data[27],test_foreground_data[3],test_foreground_data[43]),1)\n",
        "imshow(img2)\n",
        "img3 = torch.cat((img1,img2),2)\n",
        "imshow(img3)\n",
        "print(img2.size())\n",
        "print(LA.norm(test_foreground_data[27]), LA.norm(true_test_foreground_data[27]))"
      ],
      "execution_count": null,
      "outputs": [
        {
          "output_type": "display_data",
          "data": {
            "image/png": "[encoded data removed]",
            "text/plain": [
              "<Figure size 432x288 with 1 Axes>"
            ]
          },
          "metadata": {
            "tags": [],
            "needs_background": "light"
          }
        },
        {
          "output_type": "display_data",
          "data": {
            "image/png": "[encoded data removed]",
            "text/plain": [
              "<Figure size 432x288 with 1 Axes>"
            ]
          },
          "metadata": {
            "tags": [],
            "needs_background": "light"
          }
        },
        {
          "output_type": "display_data",
          "data": {
            "image/png": "[encoded data removed]",
            "text/plain": [
              "<Figure size 432x288 with 1 Axes>"
            ]
          },
          "metadata": {
            "tags": [],
            "needs_background": "light"
          }
        },
        {
          "output_type": "stream",
          "text": [
            "torch.Size([3, 96, 32])\n",
            "15.448784 15.428806\n"
          ],
          "name": "stdout"
        }
      ]
    },
    {
      "cell_type": "code",
      "metadata": {
        "id": "7dsVQI7plpqC",
        "outputId": "70921cc5-175c-4e06-b282-e059496cd81a",
        "colab": {
          "base_uri": "https://localhost:8080/",
          "height": 1000
        }
      },
      "source": [
        "import random\n",
        "for i in range(10):\n",
        "  random.seed(i)\n",
        "  a = np.random.randint(0,10000)\n",
        "  img1 = torch.cat((true_test_foreground_data[i],test_foreground_data[i]),2)\n",
        "  imshow(img1)"
      ],
      "execution_count": null,
      "outputs": [
        {
          "output_type": "display_data",
          "data": {
            "image/png": "[encoded data removed]",
            "text/plain": [
              "<Figure size 432x288 with 1 Axes>"
            ]
          },
          "metadata": {
            "tags": [],
            "needs_background": "light"
          }
        },
        {
          "output_type": "display_data",
          "data": {
            "image/png": "[encoded data removed]",
            "text/plain": [
              "<Figure size 432x288 with 1 Axes>"
            ]
          },
          "metadata": {
            "tags": [],
            "needs_background": "light"
          }
        },
        {
          "output_type": "display_data",
          "data": {
            "image/png": "[encoded data removed]",
            "text/plain": [
              "<Figure size 432x288 with 1 Axes>"
            ]
          },
          "metadata": {
            "tags": [],
            "needs_background": "light"
          }
        },
        {
          "output_type": "display_data",
          "data": {
            "image/png": "[encoded data removed]",
            "text/plain": [
              "<Figure size 432x288 with 1 Axes>"
            ]
          },
          "metadata": {
            "tags": [],
            "needs_background": "light"
          }
        },
        {
          "output_type": "display_data",
          "data": {
            "image/png": "[encoded data removed]",
            "text/plain": [
              "<Figure size 432x288 with 1 Axes>"
            ]
          },
          "metadata": {
            "tags": [],
            "needs_background": "light"
          }
        },
        {
          "output_type": "display_data",
          "data": {
            "image/png": "[encoded data removed]",
            "text/plain": [
              "<Figure size 432x288 with 1 Axes>"
            ]
          },
          "metadata": {
            "tags": [],
            "needs_background": "light"
          }
        },
        {
          "output_type": "display_data",
          "data": {
            "image/png": "[encoded data removed]",
            "text/plain": [
              "<Figure size 432x288 with 1 Axes>"
            ]
          },
          "metadata": {
            "tags": [],
            "needs_background": "light"
          }
        },
        {
          "output_type": "display_data",
          "data": {
            "image/png": "[encoded data removed]",
            "text/plain": [
              "<Figure size 432x288 with 1 Axes>"
            ]
          },
          "metadata": {
            "tags": [],
            "needs_background": "light"
          }
        },
        {
          "output_type": "display_data",
          "data": {
            "image/png": "[encoded data removed]",
            "text/plain": [
              "<Figure size 432x288 with 1 Axes>"
            ]
          },
          "metadata": {
            "tags": [],
            "needs_background": "light"
          }
        },
        {
          "output_type": "display_data",
          "data": {
            "image/png": "[encoded data removed]",
            "text/plain": [
              "<Figure size 432x288 with 1 Axes>"
            ]
          },
          "metadata": {
            "tags": [],
            "needs_background": "light"
          }
        }
      ]
    },
    {
      "cell_type": "code",
      "metadata": {
        "id": "wo78BztGTwwL"
      },
      "source": [
        "def plot_vectors(u1,u2,u3):\n",
        "  img = np.reshape(u1,(3,32,32))\n",
        "  img = img / 2 + 0.5     # unnormalize\n",
        "  npimg = img#.numpy()\n",
        "  print(\"vector u1 norm\",LA.norm(img))\n",
        "  plt.figure(1)\n",
        "  plt.imshow(np.transpose(npimg, (1, 2, 0)))\n",
        "  plt.title(\"vector u1\")\n",
        "\n",
        "  img = np.reshape(u2,(3,32,32))\n",
        "  img = img / 2 + 0.5     # unnormalize\n",
        "  npimg = img#.numpy()\n",
        "  print(\"vector u2 norm\",LA.norm(img))\n",
        "  plt.figure(2)\n",
        "  plt.imshow(np.transpose(npimg, (1, 2, 0)))\n",
        "  plt.title(\"vector u2\")\n",
        "\n",
        "  img = np.reshape(u3,(3,32,32))\n",
        "  img = img / 2 + 0.5     # unnormalize\n",
        "  npimg = img#.numpy()\n",
        "  print(\"vector u3 norm\",LA.norm(img))\n",
        "  plt.figure(3)\n",
        "  plt.imshow(np.transpose(npimg, (1, 2, 0)))\n",
        "  plt.title(\"vector u3\")\n",
        "  plt.show()"
      ],
      "execution_count": null,
      "outputs": []
    },
    {
      "cell_type": "code",
      "metadata": {
        "id": "72zcYiJsTPEr",
        "outputId": "dd814ff2-1d32-4ee3-c966-6165a7cd6472",
        "colab": {
          "base_uri": "https://localhost:8080/",
          "height": 865
        }
      },
      "source": [
        "plot_vectors(u1,u2,u3)"
      ],
      "execution_count": null,
      "outputs": [
        {
          "output_type": "stream",
          "text": [
            "vector u1 norm 27.717323153497116\n",
            "vector u2 norm 27.71732319535422\n",
            "vector u3 norm 27.7173231446186\n"
          ],
          "name": "stdout"
        },
        {
          "output_type": "display_data",
          "data": {
            "image/png": "[encoded data removed]",
            "text/plain": [
              "<Figure size 432x288 with 1 Axes>"
            ]
          },
          "metadata": {
            "tags": [],
            "needs_background": "light"
          }
        },
        {
          "output_type": "display_data",
          "data": {
            "image/png": "[encoded data removed]",
            "text/plain": [
              "<Figure size 432x288 with 1 Axes>"
            ]
          },
          "metadata": {
            "tags": [],
            "needs_background": "light"
          }
        },
        {
          "output_type": "display_data",
          "data": {
            "image/png": "[encoded data removed]",
            "text/plain": [
              "<Figure size 432x288 with 1 Axes>"
            ]
          },
          "metadata": {
            "tags": [],
            "needs_background": "light"
          }
        }
      ]
    },
    {
      "cell_type": "code",
      "metadata": {
        "id": "wFpwvWrzYJQi"
      },
      "source": [
        "class MosaicDataset(Dataset):\n",
        "  \"\"\"MosaicDataset dataset.\"\"\"\n",
        "\n",
        "  def __init__(self, mosaic_list_of_images, mosaic_label, fore_idx):\n",
        "    \"\"\"\n",
        "      Args:\n",
        "        csv_file (string): Path to the csv file with annotations.\n",
        "        root_dir (string): Directory with all the images.\n",
        "        transform (callable, optional): Optional transform to be applied\n",
        "            on a sample.\n",
        "    \"\"\"\n",
        "    self.mosaic = mosaic_list_of_images\n",
        "    self.label = mosaic_label\n",
        "    self.fore_idx = fore_idx\n",
        "\n",
        "  def __len__(self):\n",
        "    return len(self.label)\n",
        "\n",
        "  def __getitem__(self, idx):\n",
        "    return self.mosaic[idx] , self.label[idx], self.fore_idx[idx]"
      ],
      "execution_count": null,
      "outputs": []
    },
    {
      "cell_type": "code",
      "metadata": {
        "id": "DxW0w8_BXsih"
      },
      "source": [
        "def create_mosaic_img(background_data, foreground_data, foreground_label, bg_idx,fg_idx,fg,fg1): \n",
        "  \"\"\"\n",
        "  bg_idx : list of indexes of background_data[] to be used as background images in mosaic\n",
        "  fg_idx : index of image to be used as foreground image from foreground data\n",
        "  fg : at what position/index foreground image has to be stored out of 0-8\n",
        "  \"\"\"\n",
        "  image_list=[]\n",
        "  j=0\n",
        "  for i in range(9):\n",
        "    if i != fg:\n",
        "      image_list.append(background_data[bg_idx[j]].type(\"torch.DoubleTensor\"))\n",
        "      j+=1\n",
        "    else: \n",
        "      image_list.append(foreground_data[fg_idx].type(\"torch.DoubleTensor\"))\n",
        "      label = foreground_label[fg_idx] -fg1  #-7  # minus 7 because our fore ground classes are 7,8,9 but we have to store it as 0,1,2\n",
        "  #image_list = np.concatenate(image_list ,axis=0)\n",
        "  image_list = torch.stack(image_list) \n",
        "  return image_list,label"
      ],
      "execution_count": null,
      "outputs": []
    },
    {
      "cell_type": "code",
      "metadata": {
        "id": "jTpidLeLVyyK"
      },
      "source": [
        "def init_mosaic_creation(bg_size, fg_size, desired_num, background_data, foreground_data, foreground_label,fg1):\n",
        "  # bg_size = 35000\n",
        "  # fg_size = 15000\n",
        "  # desired_num = 30000\n",
        "  mosaic_list_of_images =[]      # list of mosaic images, each mosaic image is saved as list of 9 images\n",
        "  fore_idx =[]                   # list of indexes at which foreground image is present in a mosaic image i.e from 0 to 9               \n",
        "  mosaic_label=[]                # label of mosaic image = foreground class present in that mosaic\n",
        "  for i in range(desired_num):\n",
        "    bg_idx = np.random.randint(0,bg_size,8)\n",
        "    fg_idx = np.random.randint(0,fg_size)\n",
        "    fg = np.random.randint(0,9)\n",
        "    fore_idx.append(fg)\n",
        "    image_list,label = create_mosaic_img(background_data, foreground_data, foreground_label ,bg_idx,fg_idx,fg, fg1)\n",
        "    mosaic_list_of_images.append(image_list)\n",
        "    mosaic_label.append(label)\n",
        "  \n",
        "  return mosaic_list_of_images, mosaic_label, fore_idx"
      ],
      "execution_count": null,
      "outputs": []
    },
    {
      "cell_type": "code",
      "metadata": {
        "id": "WuIMxXjgV1sB"
      },
      "source": [
        "train_mosaic_list_of_images, train_mosaic_label, train_fore_idx = init_mosaic_creation(bg_size = 35000, \n",
        "                                                                     fg_size = 15000, \n",
        "                                                                     desired_num = 30000, \n",
        "                                                                     background_data = train_background_data, \n",
        "                                                                     foreground_data = train_foreground_data, \n",
        "                                                                     foreground_label = train_foreground_label,\n",
        "                                                                     fg1 = fg1\n",
        "                                                                     )"
      ],
      "execution_count": null,
      "outputs": []
    },
    {
      "cell_type": "code",
      "metadata": {
        "id": "jNw9xEHdYLRQ"
      },
      "source": [
        "batch = 250\n",
        "msd_1 = MosaicDataset(train_mosaic_list_of_images, train_mosaic_label , train_fore_idx)\n",
        "train_loader_from_noise_train_mosaic_30k = DataLoader( msd_1,batch_size= batch ,shuffle=True)"
      ],
      "execution_count": null,
      "outputs": []
    },
    {
      "cell_type": "code",
      "metadata": {
        "id": "uy9iem2zYT-p"
      },
      "source": [
        "test_mosaic_list_of_images, test_mosaic_label, test_fore_idx = init_mosaic_creation(bg_size = 35000, \n",
        "                                                                     fg_size = 15000, \n",
        "                                                                     desired_num = 10000, \n",
        "                                                                     background_data = train_background_data, \n",
        "                                                                     foreground_data = train_foreground_data, \n",
        "                                                                     foreground_label = train_foreground_label,\n",
        "                                                                     fg1 = fg1\n",
        "                                                                     )"
      ],
      "execution_count": null,
      "outputs": []
    },
    {
      "cell_type": "code",
      "metadata": {
        "id": "ek_hNOGfY_Rg"
      },
      "source": [
        "batch = 250\n",
        "msd_2 = MosaicDataset(test_mosaic_list_of_images, test_mosaic_label , test_fore_idx)\n",
        "test_loader_from_noise_train_mosaic_30k = DataLoader( msd_2, batch_size= batch ,shuffle=True)"
      ],
      "execution_count": null,
      "outputs": []
    },
    {
      "cell_type": "code",
      "metadata": {
        "id": "k9Fb3xqvZXgY"
      },
      "source": [
        "test_mosaic_list_of_images_1, test_mosaic_label_1, test_fore_idx_1 = init_mosaic_creation(bg_size = 7000, \n",
        "                                                                     fg_size = 3000, \n",
        "                                                                     desired_num = 10000, \n",
        "                                                                     background_data = test_background_data, \n",
        "                                                                     foreground_data = test_foreground_data, \n",
        "                                                                     foreground_label = test_foreground_label,\n",
        "                                                                     fg1 = fg1\n",
        "                                                                     )"
      ],
      "execution_count": null,
      "outputs": []
    },
    {
      "cell_type": "code",
      "metadata": {
        "id": "D491Dr2eZxXo"
      },
      "source": [
        "batch = 250\n",
        "msd_3 = MosaicDataset(test_mosaic_list_of_images_1, test_mosaic_label_1 , test_fore_idx_1)\n",
        "test_loader_from_noise_test_mosaic_10k = DataLoader( msd_3, batch_size= batch ,shuffle=True)"
      ],
      "execution_count": null,
      "outputs": []
    },
    {
      "cell_type": "code",
      "metadata": {
        "id": "vfEaNoxVaTEp"
      },
      "source": [
        "test_mosaic_list_of_images_2, test_mosaic_label_2, test_fore_idx_2 = init_mosaic_creation(bg_size = 35000, \n",
        "                                                                     fg_size = 15000, \n",
        "                                                                     desired_num = 10000, \n",
        "                                                                     background_data = true_train_background_data, \n",
        "                                                                     foreground_data = true_train_foreground_data, \n",
        "                                                                     foreground_label = true_train_foreground_label,\n",
        "                                                                     fg1 = fg1\n",
        "                                                                     )"
      ],
      "execution_count": null,
      "outputs": []
    },
    {
      "cell_type": "code",
      "metadata": {
        "id": "ytvVuHTgaTEu"
      },
      "source": [
        "batch = 250\n",
        "msd_4 = MosaicDataset(test_mosaic_list_of_images_2, test_mosaic_label_2, test_fore_idx_2)\n",
        "test_loader_from_true_train_mosaic_30k = DataLoader( msd_4, batch_size= batch , shuffle=True)"
      ],
      "execution_count": null,
      "outputs": []
    },
    {
      "cell_type": "code",
      "metadata": {
        "id": "cbN6OQzxaTEy"
      },
      "source": [
        "test_mosaic_list_of_images_3, test_mosaic_label_3, test_fore_idx_3 = init_mosaic_creation(bg_size = 7000, \n",
        "                                                                     fg_size = 3000, \n",
        "                                                                     desired_num = 10000, \n",
        "                                                                     background_data = true_test_background_data, \n",
        "                                                                     foreground_data = true_test_foreground_data, \n",
        "                                                                     foreground_label = true_test_foreground_label,\n",
        "                                                                     fg1 = fg1\n",
        "                                                                     )"
      ],
      "execution_count": null,
      "outputs": []
    },
    {
      "cell_type": "code",
      "metadata": {
        "id": "Mu890cyTaTE2"
      },
      "source": [
        "batch = 250\n",
        "msd_5 = MosaicDataset(test_mosaic_list_of_images_3, test_mosaic_label_3, test_fore_idx_3)\n",
        "test_loader_from_true_train_mosaic_10k = DataLoader( msd_5, batch_size= batch ,shuffle=True)"
      ],
      "execution_count": null,
      "outputs": []
    },
    {
      "cell_type": "code",
      "metadata": {
        "id": "dgQ0htWqkqzo"
      },
      "source": [
        "class Module1(nn.Module):\n",
        "  def __init__(self):\n",
        "    super(Module1, self).__init__()\n",
        "    self.conv1 = nn.Conv2d(3, 6, 5)\n",
        "    self.pool = nn.MaxPool2d(2, 2)\n",
        "    self.conv2 = nn.Conv2d(6, 16, 5)\n",
        "    self.fc1 = nn.Linear(16 * 5 * 5, 120)\n",
        "    self.fc2 = nn.Linear(120, 84)\n",
        "    self.fc3 = nn.Linear(84, 10)\n",
        "    self.fc4 = nn.Linear(10,1)\n",
        "\n",
        "  def forward(self, x):\n",
        "    x = self.pool(F.relu(self.conv1(x)))\n",
        "    x = self.pool(F.relu(self.conv2(x)))\n",
        "    x = x.view(-1, 16 * 5 * 5)\n",
        "    x = F.relu(self.fc1(x))\n",
        "    x = F.relu(self.fc2(x))\n",
        "    x = F.relu(self.fc3(x))\n",
        "    x = self.fc4(x)\n",
        "    return x"
      ],
      "execution_count": null,
      "outputs": []
    },
    {
      "cell_type": "code",
      "metadata": {
        "id": "XElkdct-kvQB"
      },
      "source": [
        "class Module2(nn.Module):\n",
        "  def __init__(self):\n",
        "    super(Module2, self).__init__()\n",
        "    self.module1 = Module1().double()\n",
        "    self.conv1 = nn.Conv2d(3, 6, 5)\n",
        "    self.pool = nn.MaxPool2d(2, 2)\n",
        "    self.conv2 = nn.Conv2d(6, 16, 5)\n",
        "    self.fc1 = nn.Linear(16 * 5 * 5, 120)\n",
        "    self.fc2 = nn.Linear(120, 84)\n",
        "    self.fc3 = nn.Linear(84, 10)\n",
        "    self.fc4 = nn.Linear(10,3)\n",
        "\n",
        "  def forward(self,z):  #z batch of list of 9 images\n",
        "    y = torch.zeros([batch,3, 32,32], dtype=torch.float64)\n",
        "    x = torch.zeros([batch,9],dtype=torch.float64)\n",
        "    x = x.to(\"cuda\")\n",
        "    y = y.to(\"cuda\")\n",
        "    for i in range(9):\n",
        "        x[:,i] = self.module1.forward(z[:,i])[:,0]\n",
        "\n",
        "    x = F.softmax(x,dim=1)\n",
        "\n",
        "    x1 = x[:,0]\n",
        "    torch.mul(x1[:,None,None,None],z[:,0])\n",
        "\n",
        "    for i in range(9):            \n",
        "      x1 = x[:,i]          \n",
        "      y = y + torch.mul(x1[:,None,None,None],z[:,i])\n",
        "      y = y.contiguous()\n",
        "\n",
        "\n",
        "    y1 = self.pool(F.relu(self.conv1(y)))\n",
        "    y1 = self.pool(F.relu(self.conv2(y1)))\n",
        "    y1 = y1.contiguous()\n",
        "    y1 = y1.reshape(-1, 16 * 5 * 5)\n",
        "\n",
        "    y1 = F.relu(self.fc1(y1))\n",
        "    y1 = F.relu(self.fc2(y1))\n",
        "    y1 = F.relu(self.fc3(y1))\n",
        "    y1 = self.fc4(y1)\n",
        "    return y1 , x, y"
      ],
      "execution_count": null,
      "outputs": []
    },
    {
      "cell_type": "code",
      "metadata": {
        "id": "Nus7AK1xRX7W"
      },
      "source": [
        "def training(trainloader, fore_net, epochs=600):\n",
        "  import torch.optim as optim\n",
        "  criterion = nn.CrossEntropyLoss()\n",
        "  optimizer = optim.SGD(fore_net.parameters(), lr=0.01, momentum=0.9)\n",
        "  nos_epochs = epochs\n",
        "\n",
        "  for epoch in range(nos_epochs):  # loop over the dataset multiple times\n",
        "    running_loss = 0.0\n",
        "    cnt=0\n",
        "    mini_loss = []\n",
        "    iteration = 30000 // batch    \n",
        "    for i, data in  enumerate(train_loader_from_noise_train_mosaic_30k):\n",
        "      inputs , labels , fore_idx = data\n",
        "      inputs, labels, fore_idx = inputs.to(\"cuda\"),labels.to(\"cuda\"), fore_idx.to(\"cuda\")\n",
        "\n",
        "      optimizer.zero_grad()\n",
        "      outputs, alphas, avg_images = fore_net(inputs)\n",
        "\n",
        "      _, predicted = torch.max(outputs.data, 1)\n",
        "      loss = criterion(outputs, labels) \n",
        "      loss.backward()\n",
        "      optimizer.step()\n",
        "      running_loss += loss.item()\n",
        "      mini = 40    \n",
        "      if cnt % mini == mini - 1:    # print every 40 mini-batches\n",
        "        print('[%d, %5d] loss: %.3f' %(epoch + 1, cnt + 1, running_loss / mini))\n",
        "        mini_loss.append(running_loss / mini)\n",
        "        running_loss = 0.0        \n",
        "      cnt=cnt+1\n",
        "    if(np.average(mini_loss) <= 0.05):\n",
        "      break\n",
        "  print('Finished Training')\n",
        "  return fore_net, epoch\n"
      ],
      "execution_count": null,
      "outputs": []
    },
    {
      "cell_type": "code",
      "metadata": {
        "id": "17GMe4WKSNji"
      },
      "source": [
        "def testing(loader, fore_net):\n",
        "  correct = 0\n",
        "  total = 0\n",
        "  count = 0\n",
        "  flag = 1\n",
        "  focus_true_pred_true =0\n",
        "  focus_false_pred_true =0\n",
        "  focus_true_pred_false =0\n",
        "  focus_false_pred_false =0\n",
        "\n",
        "  argmax_more_than_half = 0\n",
        "  argmax_less_than_half =0\n",
        "\n",
        "  with torch.no_grad():\n",
        "    for data in loader:\n",
        "      inputs, labels , fore_idx = data\n",
        "      inputs, labels , fore_idx = inputs.to(\"cuda\"),labels.to(\"cuda\"), fore_idx.to(\"cuda\")\n",
        "      outputs, alphas, avg_images = fore_net(inputs)\n",
        "\n",
        "      _, predicted = torch.max(outputs.data, 1)\n",
        "\n",
        "      for j in range(labels.size(0)):\n",
        "        count += 1\n",
        "        focus = torch.argmax(alphas[j])\n",
        "        if alphas[j][focus] >= 0.5 :\n",
        "          argmax_more_than_half += 1\n",
        "        else:\n",
        "          argmax_less_than_half += 1\n",
        "\n",
        "        if(focus == fore_idx[j] and predicted[j] == labels[j]):\n",
        "            focus_true_pred_true += 1\n",
        "        elif(focus != fore_idx[j] and predicted[j] == labels[j]):\n",
        "          focus_false_pred_true += 1\n",
        "        elif(focus == fore_idx[j] and predicted[j] != labels[j]):\n",
        "          focus_true_pred_false += 1\n",
        "        elif(focus != fore_idx[j] and predicted[j] != labels[j]):\n",
        "          focus_false_pred_false += 1\n",
        "\n",
        "      total += labels.size(0)\n",
        "      correct += (predicted == labels).sum().item()\n",
        "  \n",
        "  return correct, total, focus_true_pred_true, focus_false_pred_true, focus_true_pred_false, focus_false_pred_false, argmax_more_than_half\n"
      ],
      "execution_count": null,
      "outputs": []
    },
    {
      "cell_type": "code",
      "metadata": {
        "id": "lp0cGt63YuUc"
      },
      "source": [
        "def enter_into(table, sno, correct, total, ftpt, ffpt, ftpf, ffpf, alpha_more_half , fg, bg, epoch = \"NA\"):\n",
        "  entry = []\n",
        "  entry = [sno,'fg = '+ str(fg),'bg = '+str(bg), epoch, total, correct,]\n",
        "  entry.append((100.0*correct/total))\n",
        "  entry.append((100 * ftpt / total))\n",
        "  entry.append( (100 * ffpt / total))\n",
        "  entry.append( ( 100 * ftpf / total))\n",
        "  entry.append( ( 100 * ffpf / total))\n",
        "  entry.append( alpha_more_half )\n",
        "\n",
        "  table.append(entry)\n",
        "  print(\" \")\n",
        "  print(\"=\"*160)\n",
        "  print(tabulate(table, headers=['S.No.', 'fg_class','bg_class','Epoch used','total_points', 'correct','accuracy','FTPT', 'FFPT', 'FTPF', 'FFPF', 'avg_img > 0.5'] ) )\n",
        "  print(\" \")\n",
        "  print(\"=\"*160)\n",
        "  return table"
      ],
      "execution_count": null,
      "outputs": []
    },
    {
      "cell_type": "code",
      "metadata": {
        "id": "uS6Gq-4VfX89"
      },
      "source": [
        "def add_average_entry(table):\n",
        "  entry =[]\n",
        "  entry = ['Avg', \"\",\"\" ,\"\" ,\"\" , \"\",]\n",
        "  entry.append( np.mean(np.array(train_table)[:,6].astype(np.float)) )\n",
        "  entry.append( np.mean(np.array(train_table)[:,7].astype(np.float)) )\n",
        "  entry.append( np.mean(np.array(train_table)[:,8].astype(np.float)) )\n",
        "  entry.append( np.mean(np.array(train_table)[:,9].astype(np.float)) )\n",
        "  entry.append( np.mean(np.array(train_table)[:,10].astype(np.float)) )\n",
        "  entry.append( np.mean(np.array(train_table)[:,11].astype(np.float)) )\n",
        "\n",
        "  table.append(entry)\n",
        "  print(\" \")\n",
        "  print(\"=\"*160)\n",
        "  print(tabulate(table, headers=['S.No.', 'fg_class','bg_class','Epoch used','total_points', 'correct','accuracy','FTPT', 'FFPT', 'FTPF', 'FFPF', 'avg_img > 0.5'] ) )\n",
        "  print(\" \")\n",
        "  print(\"=\"*160)\n",
        "  return table\n"
      ],
      "execution_count": null,
      "outputs": []
    },
    {
      "cell_type": "code",
      "metadata": {
        "id": "M8ClgTOAbUQu"
      },
      "source": [
        "train_table=[]\n",
        "test_table1=[]\n",
        "test_table2=[]\n",
        "test_table3=[]\n",
        "test_table4=[]\n",
        "fg = [fg1,fg2,fg3]\n",
        "bg = list(set([0,1,2,3,4,5,6,7,8,9])-set(fg))\n"
      ],
      "execution_count": null,
      "outputs": []
    },
    {
      "cell_type": "code",
      "metadata": {
        "id": "TuIb2Y29kxWT",
        "outputId": "9460a6ac-a3c9-4c50-e720-59c0e1a9a972",
        "colab": {
          "base_uri": "https://localhost:8080/",
          "height": 1000
        }
      },
      "source": [
        "number_runs = 10\n",
        "\n",
        "for i in range(number_runs):\n",
        "  fore_net = Module2().double()\n",
        "  fore_net = fore_net.to(\"cuda\")\n",
        "\n",
        "  fore_net, epoch = training(train_loader_from_noise_train_mosaic_30k, fore_net)\n",
        "\n",
        "  correct, total, ftpt, ffpt, ftpf, ffpf, alpha_more_half = testing(train_loader_from_noise_train_mosaic_30k, fore_net)\n",
        "  train_table = enter_into(train_table, i+1, correct, total, ftpt, ffpt, ftpf, ffpf, alpha_more_half, fg, bg, str(epoch) )\n",
        "\n",
        "  correct, total, ftpt, ffpt, ftpf, ffpf, alpha_more_half = testing(test_loader_from_noise_train_mosaic_30k, fore_net)\n",
        "  test_table1 = enter_into(test_table1, i+1, correct, total, ftpt, ffpt, ftpf, ffpf, alpha_more_half , fg, bg )\n",
        "\n",
        "  correct, total, ftpt, ffpt, ftpf, ffpf, alpha_more_half = testing(test_loader_from_noise_test_mosaic_10k, fore_net)\n",
        "  test_table2 = enter_into(test_table2, i+1, correct, total, ftpt, ffpt, ftpf, ffpf, alpha_more_half, fg, bg )\n",
        "\n",
        "  correct, total, ftpt, ffpt, ftpf, ffpf, alpha_more_half = testing(test_loader_from_true_train_mosaic_30k, fore_net)\n",
        "  test_table3 = enter_into(test_table3, i+1, correct, total, ftpt, ffpt, ftpf, ffpf, alpha_more_half , fg, bg)\n",
        "\n",
        "  correct, total, ftpt, ffpt, ftpf, ffpf, alpha_more_half = testing(test_loader_from_true_train_mosaic_10k, fore_net)\n",
        "  test_table4 = enter_into(test_table4, i+1, correct, total, ftpt, ffpt, ftpf, ffpf, alpha_more_half, fg, bg )\n",
        "\n"
      ],
      "execution_count": 78,
      "outputs": [
        {
          "output_type": "stream",
          "text": [
            "[1,    40] loss: 1.101\n",
            "[1,    80] loss: 1.099\n",
            "[1,   120] loss: 1.099\n",
            "[2,    40] loss: 1.099\n",
            "[2,    80] loss: 1.099\n",
            "[2,   120] loss: 1.098\n",
            "[3,    40] loss: 1.098\n",
            "[3,    80] loss: 1.099\n",
            "[3,   120] loss: 1.099\n",
            "[4,    40] loss: 1.098\n",
            "[4,    80] loss: 1.099\n",
            "[4,   120] loss: 1.098\n",
            "[5,    40] loss: 1.098\n",
            "[5,    80] loss: 1.098\n",
            "[5,   120] loss: 1.098\n",
            "[6,    40] loss: 1.098\n",
            "[6,    80] loss: 1.098\n",
            "[6,   120] loss: 1.097\n",
            "[7,    40] loss: 1.097\n",
            "[7,    80] loss: 1.097\n",
            "[7,   120] loss: 1.096\n",
            "[8,    40] loss: 1.096\n",
            "[8,    80] loss: 1.094\n",
            "[8,   120] loss: 1.092\n",
            "[9,    40] loss: 1.090\n",
            "[9,    80] loss: 1.087\n",
            "[9,   120] loss: 1.086\n",
            "[10,    40] loss: 1.086\n",
            "[10,    80] loss: 1.083\n",
            "[10,   120] loss: 1.081\n",
            "[11,    40] loss: 1.083\n",
            "[11,    80] loss: 1.079\n",
            "[11,   120] loss: 1.078\n",
            "[12,    40] loss: 1.079\n",
            "[12,    80] loss: 1.078\n",
            "[12,   120] loss: 1.076\n",
            "[13,    40] loss: 1.077\n",
            "[13,    80] loss: 1.078\n",
            "[13,   120] loss: 1.075\n",
            "[14,    40] loss: 1.076\n",
            "[14,    80] loss: 1.074\n",
            "[14,   120] loss: 1.069\n",
            "[15,    40] loss: 1.071\n",
            "[15,    80] loss: 1.069\n",
            "[15,   120] loss: 1.070\n",
            "[16,    40] loss: 1.069\n",
            "[16,    80] loss: 1.064\n",
            "[16,   120] loss: 1.072\n",
            "[17,    40] loss: 1.068\n",
            "[17,    80] loss: 1.064\n",
            "[17,   120] loss: 1.065\n",
            "[18,    40] loss: 1.065\n",
            "[18,    80] loss: 1.062\n",
            "[18,   120] loss: 1.062\n",
            "[19,    40] loss: 1.063\n",
            "[19,    80] loss: 1.060\n",
            "[19,   120] loss: 1.055\n",
            "[20,    40] loss: 1.050\n",
            "[20,    80] loss: 1.050\n",
            "[20,   120] loss: 1.041\n",
            "[21,    40] loss: 1.032\n",
            "[21,    80] loss: 1.035\n",
            "[21,   120] loss: 1.027\n",
            "[22,    40] loss: 1.020\n",
            "[22,    80] loss: 1.018\n",
            "[22,   120] loss: 1.028\n",
            "[23,    40] loss: 1.015\n",
            "[23,    80] loss: 1.009\n",
            "[23,   120] loss: 1.010\n",
            "[24,    40] loss: 1.000\n",
            "[24,    80] loss: 0.990\n",
            "[24,   120] loss: 0.995\n",
            "[25,    40] loss: 0.980\n",
            "[25,    80] loss: 0.980\n",
            "[25,   120] loss: 0.967\n",
            "[26,    40] loss: 0.961\n",
            "[26,    80] loss: 0.948\n",
            "[26,   120] loss: 0.932\n",
            "[27,    40] loss: 0.919\n",
            "[27,    80] loss: 0.918\n",
            "[27,   120] loss: 0.894\n",
            "[28,    40] loss: 0.873\n",
            "[28,    80] loss: 0.854\n",
            "[28,   120] loss: 0.820\n",
            "[29,    40] loss: 0.786\n",
            "[29,    80] loss: 0.791\n",
            "[29,   120] loss: 0.789\n",
            "[30,    40] loss: 0.784\n",
            "[30,    80] loss: 1.083\n",
            "[30,   120] loss: 1.067\n",
            "[31,    40] loss: 1.055\n",
            "[31,    80] loss: 1.046\n",
            "[31,   120] loss: 1.034\n",
            "[32,    40] loss: 1.035\n",
            "[32,    80] loss: 1.022\n",
            "[32,   120] loss: 1.013\n",
            "[33,    40] loss: 1.006\n",
            "[33,    80] loss: 0.996\n",
            "[33,   120] loss: 0.976\n",
            "[34,    40] loss: 0.948\n",
            "[34,    80] loss: 0.780\n",
            "[34,   120] loss: 0.502\n",
            "[35,    40] loss: 0.321\n",
            "[35,    80] loss: 0.408\n",
            "[35,   120] loss: 0.365\n",
            "[36,    40] loss: 0.336\n",
            "[36,    80] loss: 0.246\n",
            "[36,   120] loss: 0.185\n",
            "[37,    40] loss: 0.282\n",
            "[37,    80] loss: 0.196\n",
            "[37,   120] loss: 0.141\n",
            "[38,    40] loss: 0.259\n",
            "[38,    80] loss: 0.212\n",
            "[38,   120] loss: 0.262\n",
            "[39,    40] loss: 0.142\n",
            "[39,    80] loss: 0.101\n",
            "[39,   120] loss: 0.099\n",
            "[40,    40] loss: 0.083\n",
            "[40,    80] loss: 0.071\n",
            "[40,   120] loss: 0.082\n",
            "[41,    40] loss: 0.065\n",
            "[41,    80] loss: 0.061\n",
            "[41,   120] loss: 0.054\n",
            "[42,    40] loss: 0.506\n",
            "[42,    80] loss: 0.117\n",
            "[42,   120] loss: 0.084\n",
            "[43,    40] loss: 0.059\n",
            "[43,    80] loss: 0.057\n",
            "[43,   120] loss: 0.051\n",
            "[44,    40] loss: 0.044\n",
            "[44,    80] loss: 0.041\n",
            "[44,   120] loss: 0.051\n",
            "Finished Training\n",
            " \n",
            "================================================================================================================================================================\n",
            "  S.No.  fg_class        bg_class                      Epoch used    total_points    correct    accuracy    FTPT     FFPT     FTPF       FFPF    avg_img > 0.5\n",
            "-------  --------------  --------------------------  ------------  --------------  ---------  ----------  ------  -------  -------  ---------  ---------------\n",
            "      1  fg = [0, 1, 2]  bg = [3, 4, 5, 6, 7, 8, 9]            43           30000      29672     98.9067   75.08  23.8267  1.07667  0.0166667            20098\n",
            " \n",
            "================================================================================================================================================================\n",
            " \n",
            "================================================================================================================================================================\n",
            "  S.No.  fg_class        bg_class                    Epoch used      total_points    correct    accuracy    FTPT    FFPT    FTPF    FFPF    avg_img > 0.5\n",
            "-------  --------------  --------------------------  ------------  --------------  ---------  ----------  ------  ------  ------  ------  ---------------\n",
            "      1  fg = [0, 1, 2]  bg = [3, 4, 5, 6, 7, 8, 9]  NA                     10000       9781       97.81   74.32   23.49    2.15    0.04             6640\n",
            " \n",
            "================================================================================================================================================================\n",
            " \n",
            "================================================================================================================================================================\n",
            "  S.No.  fg_class        bg_class                    Epoch used      total_points    correct    accuracy    FTPT    FFPT    FTPF    FFPF    avg_img > 0.5\n",
            "-------  --------------  --------------------------  ------------  --------------  ---------  ----------  ------  ------  ------  ------  ---------------\n",
            "      1  fg = [0, 1, 2]  bg = [3, 4, 5, 6, 7, 8, 9]  NA                     10000       9428       94.28    69.9   24.38    5.58    0.14             6564\n",
            " \n",
            "================================================================================================================================================================\n",
            " \n",
            "================================================================================================================================================================\n",
            "  S.No.  fg_class        bg_class                    Epoch used      total_points    correct    accuracy    FTPT    FFPT    FTPF    FFPF    avg_img > 0.5\n",
            "-------  --------------  --------------------------  ------------  --------------  ---------  ----------  ------  ------  ------  ------  ---------------\n",
            "      1  fg = [0, 1, 2]  bg = [3, 4, 5, 6, 7, 8, 9]  NA                     10000       3394       33.94    5.02   28.92    7.44   58.62               36\n",
            " \n",
            "================================================================================================================================================================\n",
            " \n",
            "================================================================================================================================================================\n",
            "  S.No.  fg_class        bg_class                    Epoch used      total_points    correct    accuracy    FTPT    FFPT    FTPF    FFPF    avg_img > 0.5\n",
            "-------  --------------  --------------------------  ------------  --------------  ---------  ----------  ------  ------  ------  ------  ---------------\n",
            "      1  fg = [0, 1, 2]  bg = [3, 4, 5, 6, 7, 8, 9]  NA                     10000       3371       33.71    4.87   28.84    7.18   59.11               31\n",
            " \n",
            "================================================================================================================================================================\n",
            "[1,    40] loss: 1.103\n",
            "[1,    80] loss: 1.099\n",
            "[1,   120] loss: 1.099\n",
            "[2,    40] loss: 1.099\n",
            "[2,    80] loss: 1.099\n",
            "[2,   120] loss: 1.099\n",
            "[3,    40] loss: 1.099\n",
            "[3,    80] loss: 1.099\n",
            "[3,   120] loss: 1.098\n",
            "[4,    40] loss: 1.099\n",
            "[4,    80] loss: 1.099\n",
            "[4,   120] loss: 1.099\n",
            "[5,    40] loss: 1.099\n",
            "[5,    80] loss: 1.099\n",
            "[5,   120] loss: 1.099\n",
            "[6,    40] loss: 1.098\n",
            "[6,    80] loss: 1.099\n",
            "[6,   120] loss: 1.098\n",
            "[7,    40] loss: 1.098\n",
            "[7,    80] loss: 1.098\n",
            "[7,   120] loss: 1.098\n",
            "[8,    40] loss: 1.098\n",
            "[8,    80] loss: 1.098\n",
            "[8,   120] loss: 1.098\n",
            "[9,    40] loss: 1.098\n",
            "[9,    80] loss: 1.098\n",
            "[9,   120] loss: 1.098\n",
            "[10,    40] loss: 1.098\n",
            "[10,    80] loss: 1.098\n",
            "[10,   120] loss: 1.098\n",
            "[11,    40] loss: 1.098\n",
            "[11,    80] loss: 1.097\n",
            "[11,   120] loss: 1.097\n",
            "[12,    40] loss: 1.097\n",
            "[12,    80] loss: 1.096\n",
            "[12,   120] loss: 1.095\n",
            "[13,    40] loss: 1.094\n",
            "[13,    80] loss: 1.094\n",
            "[13,   120] loss: 1.092\n",
            "[14,    40] loss: 1.090\n",
            "[14,    80] loss: 1.088\n",
            "[14,   120] loss: 1.087\n",
            "[15,    40] loss: 1.083\n",
            "[15,    80] loss: 1.083\n",
            "[15,   120] loss: 1.078\n",
            "[16,    40] loss: 1.071\n",
            "[16,    80] loss: 1.075\n",
            "[16,   120] loss: 1.073\n",
            "[17,    40] loss: 1.071\n",
            "[17,    80] loss: 1.070\n",
            "[17,   120] loss: 1.060\n",
            "[18,    40] loss: 1.060\n",
            "[18,    80] loss: 1.062\n",
            "[18,   120] loss: 1.063\n",
            "[19,    40] loss: 1.055\n",
            "[19,    80] loss: 1.054\n",
            "[19,   120] loss: 1.058\n",
            "[20,    40] loss: 1.056\n",
            "[20,    80] loss: 1.058\n",
            "[20,   120] loss: 1.049\n",
            "[21,    40] loss: 1.054\n",
            "[21,    80] loss: 1.052\n",
            "[21,   120] loss: 1.050\n",
            "[22,    40] loss: 1.053\n",
            "[22,    80] loss: 1.044\n",
            "[22,   120] loss: 1.044\n",
            "[23,    40] loss: 1.046\n",
            "[23,    80] loss: 1.043\n",
            "[23,   120] loss: 1.031\n",
            "[24,    40] loss: 1.033\n",
            "[24,    80] loss: 1.025\n",
            "[24,   120] loss: 1.024\n",
            "[25,    40] loss: 1.021\n",
            "[25,    80] loss: 1.024\n",
            "[25,   120] loss: 1.020\n",
            "[26,    40] loss: 1.015\n",
            "[26,    80] loss: 0.997\n",
            "[26,   120] loss: 0.993\n",
            "[27,    40] loss: 0.984\n",
            "[27,    80] loss: 0.968\n",
            "[27,   120] loss: 0.954\n",
            "[28,    40] loss: 0.944\n",
            "[28,    80] loss: 0.931\n",
            "[28,   120] loss: 0.910\n",
            "[29,    40] loss: 0.875\n",
            "[29,    80] loss: 0.878\n",
            "[29,   120] loss: 0.888\n",
            "[30,    40] loss: 0.834\n",
            "[30,    80] loss: 1.023\n",
            "[30,   120] loss: 0.977\n",
            "[31,    40] loss: 0.726\n",
            "[31,    80] loss: 0.569\n",
            "[31,   120] loss: 0.735\n",
            "[32,    40] loss: 0.400\n",
            "[32,    80] loss: 0.445\n",
            "[32,   120] loss: 0.445\n",
            "[33,    40] loss: 0.605\n",
            "[33,    80] loss: 1.016\n",
            "[33,   120] loss: 0.411\n",
            "[34,    40] loss: 0.329\n",
            "[34,    80] loss: 0.316\n",
            "[34,   120] loss: 0.384\n",
            "[35,    40] loss: 0.262\n",
            "[35,    80] loss: 0.180\n",
            "[35,   120] loss: 0.142\n",
            "[36,    40] loss: 0.155\n",
            "[36,    80] loss: 0.426\n",
            "[36,   120] loss: 0.166\n",
            "[37,    40] loss: 0.139\n",
            "[37,    80] loss: 0.165\n",
            "[37,   120] loss: 0.128\n",
            "[38,    40] loss: 0.123\n",
            "[38,    80] loss: 0.108\n",
            "[38,   120] loss: 0.098\n",
            "[39,    40] loss: 0.088\n",
            "[39,    80] loss: 0.216\n",
            "[39,   120] loss: 0.183\n",
            "[40,    40] loss: 0.112\n",
            "[40,    80] loss: 0.231\n",
            "[40,   120] loss: 0.089\n",
            "[41,    40] loss: 0.073\n",
            "[41,    80] loss: 0.068\n",
            "[41,   120] loss: 0.131\n",
            "[42,    40] loss: 0.124\n",
            "[42,    80] loss: 0.062\n",
            "[42,   120] loss: 0.062\n",
            "[43,    40] loss: 0.047\n",
            "[43,    80] loss: 0.043\n",
            "[43,   120] loss: 0.043\n",
            "Finished Training\n",
            " \n",
            "================================================================================================================================================================\n",
            "  S.No.  fg_class        bg_class                      Epoch used    total_points    correct    accuracy     FTPT     FFPT      FTPF       FFPF    avg_img > 0.5\n",
            "-------  --------------  --------------------------  ------------  --------------  ---------  ----------  -------  -------  --------  ---------  ---------------\n",
            "      1  fg = [0, 1, 2]  bg = [3, 4, 5, 6, 7, 8, 9]            43           30000      29672     98.9067  75.08    23.8267  1.07667   0.0166667            20098\n",
            "      2  fg = [0, 1, 2]  bg = [3, 4, 5, 6, 7, 8, 9]            42           30000      29721     99.07    71.6167  27.4533  0.903333  0.0266667            20078\n",
            " \n",
            "================================================================================================================================================================\n",
            " \n",
            "================================================================================================================================================================\n",
            "  S.No.  fg_class        bg_class                    Epoch used      total_points    correct    accuracy    FTPT    FFPT    FTPF    FFPF    avg_img > 0.5\n",
            "-------  --------------  --------------------------  ------------  --------------  ---------  ----------  ------  ------  ------  ------  ---------------\n",
            "      1  fg = [0, 1, 2]  bg = [3, 4, 5, 6, 7, 8, 9]  NA                     10000       9781       97.81   74.32   23.49    2.15    0.04             6640\n",
            "      2  fg = [0, 1, 2]  bg = [3, 4, 5, 6, 7, 8, 9]  NA                     10000       9794       97.94   70.14   27.8     2.04    0.02             6616\n",
            " \n",
            "================================================================================================================================================================\n",
            " \n",
            "================================================================================================================================================================\n",
            "  S.No.  fg_class        bg_class                    Epoch used      total_points    correct    accuracy    FTPT    FFPT    FTPF    FFPF    avg_img > 0.5\n",
            "-------  --------------  --------------------------  ------------  --------------  ---------  ----------  ------  ------  ------  ------  ---------------\n",
            "      1  fg = [0, 1, 2]  bg = [3, 4, 5, 6, 7, 8, 9]  NA                     10000       9428       94.28   69.9    24.38    5.58    0.14             6564\n",
            "      2  fg = [0, 1, 2]  bg = [3, 4, 5, 6, 7, 8, 9]  NA                     10000       9422       94.22   66.15   28.07    5.64    0.14             6547\n",
            " \n",
            "================================================================================================================================================================\n",
            " \n",
            "================================================================================================================================================================\n",
            "  S.No.  fg_class        bg_class                    Epoch used      total_points    correct    accuracy    FTPT    FFPT    FTPF    FFPF    avg_img > 0.5\n",
            "-------  --------------  --------------------------  ------------  --------------  ---------  ----------  ------  ------  ------  ------  ---------------\n",
            "      1  fg = [0, 1, 2]  bg = [3, 4, 5, 6, 7, 8, 9]  NA                     10000       3394       33.94    5.02   28.92    7.44   58.62               36\n",
            "      2  fg = [0, 1, 2]  bg = [3, 4, 5, 6, 7, 8, 9]  NA                     10000       3389       33.89    5.57   28.32    4.51   61.6                24\n",
            " \n",
            "================================================================================================================================================================\n",
            " \n",
            "================================================================================================================================================================\n",
            "  S.No.  fg_class        bg_class                    Epoch used      total_points    correct    accuracy    FTPT    FFPT    FTPF    FFPF    avg_img > 0.5\n",
            "-------  --------------  --------------------------  ------------  --------------  ---------  ----------  ------  ------  ------  ------  ---------------\n",
            "      1  fg = [0, 1, 2]  bg = [3, 4, 5, 6, 7, 8, 9]  NA                     10000       3371       33.71    4.87   28.84    7.18   59.11               31\n",
            "      2  fg = [0, 1, 2]  bg = [3, 4, 5, 6, 7, 8, 9]  NA                     10000       3371       33.71    5.47   28.24    4.35   61.94               36\n",
            " \n",
            "================================================================================================================================================================\n",
            "[1,    40] loss: 1.101\n",
            "[1,    80] loss: 1.098\n",
            "[1,   120] loss: 1.099\n",
            "[2,    40] loss: 1.099\n",
            "[2,    80] loss: 1.099\n",
            "[2,   120] loss: 1.099\n",
            "[3,    40] loss: 1.098\n",
            "[3,    80] loss: 1.099\n",
            "[3,   120] loss: 1.099\n",
            "[4,    40] loss: 1.099\n",
            "[4,    80] loss: 1.099\n",
            "[4,   120] loss: 1.099\n",
            "[5,    40] loss: 1.099\n",
            "[5,    80] loss: 1.099\n",
            "[5,   120] loss: 1.099\n",
            "[6,    40] loss: 1.099\n",
            "[6,    80] loss: 1.099\n",
            "[6,   120] loss: 1.099\n",
            "[7,    40] loss: 1.099\n",
            "[7,    80] loss: 1.098\n",
            "[7,   120] loss: 1.098\n",
            "[8,    40] loss: 1.099\n",
            "[8,    80] loss: 1.099\n",
            "[8,   120] loss: 1.098\n",
            "[9,    40] loss: 1.098\n",
            "[9,    80] loss: 1.098\n",
            "[9,   120] loss: 1.098\n",
            "[10,    40] loss: 1.098\n",
            "[10,    80] loss: 1.098\n",
            "[10,   120] loss: 1.098\n",
            "[11,    40] loss: 1.097\n",
            "[11,    80] loss: 1.097\n",
            "[11,   120] loss: 1.097\n",
            "[12,    40] loss: 1.096\n",
            "[12,    80] loss: 1.096\n",
            "[12,   120] loss: 1.095\n",
            "[13,    40] loss: 1.094\n",
            "[13,    80] loss: 1.093\n",
            "[13,   120] loss: 1.091\n",
            "[14,    40] loss: 1.089\n",
            "[14,    80] loss: 1.087\n",
            "[14,   120] loss: 1.084\n",
            "[15,    40] loss: 1.081\n",
            "[15,    80] loss: 1.079\n",
            "[15,   120] loss: 1.077\n",
            "[16,    40] loss: 1.076\n",
            "[16,    80] loss: 1.075\n",
            "[16,   120] loss: 1.072\n",
            "[17,    40] loss: 1.073\n",
            "[17,    80] loss: 1.068\n",
            "[17,   120] loss: 1.072\n",
            "[18,    40] loss: 1.065\n",
            "[18,    80] loss: 1.069\n",
            "[18,   120] loss: 1.071\n",
            "[19,    40] loss: 1.066\n",
            "[19,    80] loss: 1.069\n",
            "[19,   120] loss: 1.069\n",
            "[20,    40] loss: 1.065\n",
            "[20,    80] loss: 1.065\n",
            "[20,   120] loss: 1.062\n",
            "[21,    40] loss: 1.066\n",
            "[21,    80] loss: 1.061\n",
            "[21,   120] loss: 1.059\n",
            "[22,    40] loss: 1.059\n",
            "[22,    80] loss: 1.056\n",
            "[22,   120] loss: 1.061\n",
            "[23,    40] loss: 1.055\n",
            "[23,    80] loss: 1.051\n",
            "[23,   120] loss: 1.049\n",
            "[24,    40] loss: 1.047\n",
            "[24,    80] loss: 1.039\n",
            "[24,   120] loss: 1.033\n",
            "[25,    40] loss: 1.029\n",
            "[25,    80] loss: 1.030\n",
            "[25,   120] loss: 1.022\n",
            "[26,    40] loss: 1.019\n",
            "[26,    80] loss: 1.019\n",
            "[26,   120] loss: 1.015\n",
            "[27,    40] loss: 1.006\n",
            "[27,    80] loss: 1.002\n",
            "[27,   120] loss: 1.008\n",
            "[28,    40] loss: 0.989\n",
            "[28,    80] loss: 0.996\n",
            "[28,   120] loss: 0.986\n",
            "[29,    40] loss: 0.975\n",
            "[29,    80] loss: 0.976\n",
            "[29,   120] loss: 0.967\n",
            "[30,    40] loss: 0.963\n",
            "[30,    80] loss: 0.942\n",
            "[30,   120] loss: 0.951\n",
            "[31,    40] loss: 0.923\n",
            "[31,    80] loss: 0.915\n",
            "[31,   120] loss: 0.918\n",
            "[32,    40] loss: 0.898\n",
            "[32,    80] loss: 0.879\n",
            "[32,   120] loss: 0.865\n",
            "[33,    40] loss: 0.856\n",
            "[33,    80] loss: 0.853\n",
            "[33,   120] loss: 0.841\n",
            "[34,    40] loss: 0.830\n",
            "[34,    80] loss: 0.815\n",
            "[34,   120] loss: 0.811\n",
            "[35,    40] loss: 0.798\n",
            "[35,    80] loss: 0.791\n",
            "[35,   120] loss: 0.784\n",
            "[36,    40] loss: 0.751\n",
            "[36,    80] loss: 0.757\n",
            "[36,   120] loss: 0.739\n",
            "[37,    40] loss: 0.708\n",
            "[37,    80] loss: 0.712\n",
            "[37,   120] loss: 0.712\n",
            "[38,    40] loss: 0.635\n",
            "[38,    80] loss: 0.620\n",
            "[38,   120] loss: 0.618\n",
            "[39,    40] loss: 0.586\n",
            "[39,    80] loss: 0.606\n",
            "[39,   120] loss: 0.609\n",
            "[40,    40] loss: 0.293\n",
            "[40,    80] loss: 1.002\n",
            "[40,   120] loss: 0.999\n",
            "[41,    40] loss: 0.965\n",
            "[41,    80] loss: 0.924\n",
            "[41,   120] loss: 0.662\n",
            "[42,    40] loss: 0.279\n",
            "[42,    80] loss: 0.225\n",
            "[42,   120] loss: 0.982\n",
            "[43,    40] loss: 1.026\n",
            "[43,    80] loss: 0.773\n",
            "[43,   120] loss: 0.240\n",
            "[44,    40] loss: 0.380\n",
            "[44,    80] loss: 0.316\n",
            "[44,   120] loss: 0.181\n",
            "[45,    40] loss: 0.148\n",
            "[45,    80] loss: 0.132\n",
            "[45,   120] loss: 0.199\n",
            "[46,    40] loss: 0.115\n",
            "[46,    80] loss: 0.098\n",
            "[46,   120] loss: 0.531\n",
            "[47,    40] loss: 0.795\n",
            "[47,    80] loss: 0.168\n",
            "[47,   120] loss: 0.116\n",
            "[48,    40] loss: 0.308\n",
            "[48,    80] loss: 0.098\n",
            "[48,   120] loss: 0.077\n",
            "[49,    40] loss: 0.067\n",
            "[49,    80] loss: 0.100\n",
            "[49,   120] loss: 0.174\n",
            "[50,    40] loss: 0.068\n",
            "[50,    80] loss: 0.066\n",
            "[50,   120] loss: 0.064\n",
            "[51,    40] loss: 0.054\n",
            "[51,    80] loss: 0.090\n",
            "[51,   120] loss: 0.066\n",
            "[52,    40] loss: 0.096\n",
            "[52,    80] loss: 0.038\n",
            "[52,   120] loss: 0.049\n",
            "[53,    40] loss: 0.041\n",
            "[53,    80] loss: 0.036\n",
            "[53,   120] loss: 0.028\n",
            "Finished Training\n",
            " \n",
            "================================================================================================================================================================\n",
            "  S.No.  fg_class        bg_class                      Epoch used    total_points    correct    accuracy     FTPT     FFPT      FTPF       FFPF    avg_img > 0.5\n",
            "-------  --------------  --------------------------  ------------  --------------  ---------  ----------  -------  -------  --------  ---------  ---------------\n",
            "      1  fg = [0, 1, 2]  bg = [3, 4, 5, 6, 7, 8, 9]            43           30000      29672     98.9067  75.08    23.8267  1.07667   0.0166667            20098\n",
            "      2  fg = [0, 1, 2]  bg = [3, 4, 5, 6, 7, 8, 9]            42           30000      29721     99.07    71.6167  27.4533  0.903333  0.0266667            20078\n",
            "      3  fg = [0, 1, 2]  bg = [3, 4, 5, 6, 7, 8, 9]            52           30000      29837     99.4567  77.0867  22.37    0.52      0.0233333            20076\n",
            " \n",
            "================================================================================================================================================================\n",
            " \n",
            "================================================================================================================================================================\n",
            "  S.No.  fg_class        bg_class                    Epoch used      total_points    correct    accuracy    FTPT    FFPT    FTPF    FFPF    avg_img > 0.5\n",
            "-------  --------------  --------------------------  ------------  --------------  ---------  ----------  ------  ------  ------  ------  ---------------\n",
            "      1  fg = [0, 1, 2]  bg = [3, 4, 5, 6, 7, 8, 9]  NA                     10000       9781       97.81   74.32   23.49    2.15    0.04             6640\n",
            "      2  fg = [0, 1, 2]  bg = [3, 4, 5, 6, 7, 8, 9]  NA                     10000       9794       97.94   70.14   27.8     2.04    0.02             6616\n",
            "      3  fg = [0, 1, 2]  bg = [3, 4, 5, 6, 7, 8, 9]  NA                     10000       9863       98.63   76.5    22.13    1.34    0.03             6625\n",
            " \n",
            "================================================================================================================================================================\n",
            " \n",
            "================================================================================================================================================================\n",
            "  S.No.  fg_class        bg_class                    Epoch used      total_points    correct    accuracy    FTPT    FFPT    FTPF    FFPF    avg_img > 0.5\n",
            "-------  --------------  --------------------------  ------------  --------------  ---------  ----------  ------  ------  ------  ------  ---------------\n",
            "      1  fg = [0, 1, 2]  bg = [3, 4, 5, 6, 7, 8, 9]  NA                     10000       9428       94.28   69.9    24.38    5.58    0.14             6564\n",
            "      2  fg = [0, 1, 2]  bg = [3, 4, 5, 6, 7, 8, 9]  NA                     10000       9422       94.22   66.15   28.07    5.64    0.14             6547\n",
            "      3  fg = [0, 1, 2]  bg = [3, 4, 5, 6, 7, 8, 9]  NA                     10000       9478       94.78   71.62   23.16    5.03    0.19             6565\n",
            " \n",
            "================================================================================================================================================================\n",
            " \n",
            "================================================================================================================================================================\n",
            "  S.No.  fg_class        bg_class                    Epoch used      total_points    correct    accuracy    FTPT    FFPT    FTPF    FFPF    avg_img > 0.5\n",
            "-------  --------------  --------------------------  ------------  --------------  ---------  ----------  ------  ------  ------  ------  ---------------\n",
            "      1  fg = [0, 1, 2]  bg = [3, 4, 5, 6, 7, 8, 9]  NA                     10000       3394       33.94    5.02   28.92    7.44   58.62               36\n",
            "      2  fg = [0, 1, 2]  bg = [3, 4, 5, 6, 7, 8, 9]  NA                     10000       3389       33.89    5.57   28.32    4.51   61.6                24\n",
            "      3  fg = [0, 1, 2]  bg = [3, 4, 5, 6, 7, 8, 9]  NA                     10000       3394       33.94    5      28.94    4.09   61.97               38\n",
            " \n",
            "================================================================================================================================================================\n",
            " \n",
            "================================================================================================================================================================\n",
            "  S.No.  fg_class        bg_class                    Epoch used      total_points    correct    accuracy    FTPT    FFPT    FTPF    FFPF    avg_img > 0.5\n",
            "-------  --------------  --------------------------  ------------  --------------  ---------  ----------  ------  ------  ------  ------  ---------------\n",
            "      1  fg = [0, 1, 2]  bg = [3, 4, 5, 6, 7, 8, 9]  NA                     10000       3371       33.71    4.87   28.84    7.18   59.11               31\n",
            "      2  fg = [0, 1, 2]  bg = [3, 4, 5, 6, 7, 8, 9]  NA                     10000       3371       33.71    5.47   28.24    4.35   61.94               36\n",
            "      3  fg = [0, 1, 2]  bg = [3, 4, 5, 6, 7, 8, 9]  NA                     10000       3386       33.86    5.08   28.78    4.01   62.13               34\n",
            " \n",
            "================================================================================================================================================================\n",
            "[1,    40] loss: 1.104\n",
            "[1,    80] loss: 1.099\n",
            "[1,   120] loss: 1.099\n",
            "[2,    40] loss: 1.099\n",
            "[2,    80] loss: 1.099\n",
            "[2,   120] loss: 1.099\n",
            "[3,    40] loss: 1.099\n",
            "[3,    80] loss: 1.098\n",
            "[3,   120] loss: 1.099\n",
            "[4,    40] loss: 1.099\n",
            "[4,    80] loss: 1.099\n",
            "[4,   120] loss: 1.099\n",
            "[5,    40] loss: 1.099\n",
            "[5,    80] loss: 1.099\n",
            "[5,   120] loss: 1.099\n",
            "[6,    40] loss: 1.099\n",
            "[6,    80] loss: 1.099\n",
            "[6,   120] loss: 1.099\n",
            "[7,    40] loss: 1.099\n",
            "[7,    80] loss: 1.099\n",
            "[7,   120] loss: 1.099\n",
            "[8,    40] loss: 1.099\n",
            "[8,    80] loss: 1.098\n",
            "[8,   120] loss: 1.099\n",
            "[9,    40] loss: 1.099\n",
            "[9,    80] loss: 1.098\n",
            "[9,   120] loss: 1.099\n",
            "[10,    40] loss: 1.098\n",
            "[10,    80] loss: 1.098\n",
            "[10,   120] loss: 1.098\n",
            "[11,    40] loss: 1.098\n",
            "[11,    80] loss: 1.098\n",
            "[11,   120] loss: 1.098\n",
            "[12,    40] loss: 1.098\n",
            "[12,    80] loss: 1.098\n",
            "[12,   120] loss: 1.098\n",
            "[13,    40] loss: 1.098\n",
            "[13,    80] loss: 1.098\n",
            "[13,   120] loss: 1.098\n",
            "[14,    40] loss: 1.098\n",
            "[14,    80] loss: 1.097\n",
            "[14,   120] loss: 1.097\n",
            "[15,    40] loss: 1.096\n",
            "[15,    80] loss: 1.096\n",
            "[15,   120] loss: 1.094\n",
            "[16,    40] loss: 1.092\n",
            "[16,    80] loss: 1.092\n",
            "[16,   120] loss: 1.090\n",
            "[17,    40] loss: 1.087\n",
            "[17,    80] loss: 1.085\n",
            "[17,   120] loss: 1.083\n",
            "[18,    40] loss: 1.080\n",
            "[18,    80] loss: 1.079\n",
            "[18,   120] loss: 1.078\n",
            "[19,    40] loss: 1.077\n",
            "[19,    80] loss: 1.075\n",
            "[19,   120] loss: 1.071\n",
            "[20,    40] loss: 1.075\n",
            "[20,    80] loss: 1.072\n",
            "[20,   120] loss: 1.070\n",
            "[21,    40] loss: 1.072\n",
            "[21,    80] loss: 1.074\n",
            "[21,   120] loss: 1.067\n",
            "[22,    40] loss: 1.070\n",
            "[22,    80] loss: 1.070\n",
            "[22,   120] loss: 1.068\n",
            "[23,    40] loss: 1.070\n",
            "[23,    80] loss: 1.065\n",
            "[23,   120] loss: 1.065\n",
            "[24,    40] loss: 1.065\n",
            "[24,    80] loss: 1.064\n",
            "[24,   120] loss: 1.066\n",
            "[25,    40] loss: 1.062\n",
            "[25,    80] loss: 1.064\n",
            "[25,   120] loss: 1.061\n",
            "[26,    40] loss: 1.064\n",
            "[26,    80] loss: 1.058\n",
            "[26,   120] loss: 1.057\n",
            "[27,    40] loss: 1.057\n",
            "[27,    80] loss: 1.058\n",
            "[27,   120] loss: 1.050\n",
            "[28,    40] loss: 1.056\n",
            "[28,    80] loss: 1.048\n",
            "[28,   120] loss: 1.047\n",
            "[29,    40] loss: 1.046\n",
            "[29,    80] loss: 1.045\n",
            "[29,   120] loss: 1.047\n",
            "[30,    40] loss: 1.041\n",
            "[30,    80] loss: 1.048\n",
            "[30,   120] loss: 1.041\n",
            "[31,    40] loss: 1.041\n",
            "[31,    80] loss: 1.043\n",
            "[31,   120] loss: 1.042\n",
            "[32,    40] loss: 1.042\n",
            "[32,    80] loss: 1.037\n",
            "[32,   120] loss: 1.028\n",
            "[33,    40] loss: 1.027\n",
            "[33,    80] loss: 1.020\n",
            "[33,   120] loss: 1.012\n",
            "[34,    40] loss: 1.004\n",
            "[34,    80] loss: 1.003\n",
            "[34,   120] loss: 0.996\n",
            "[35,    40] loss: 0.988\n",
            "[35,    80] loss: 0.983\n",
            "[35,   120] loss: 0.964\n",
            "[36,    40] loss: 0.952\n",
            "[36,    80] loss: 0.943\n",
            "[36,   120] loss: 0.932\n",
            "[37,    40] loss: 0.905\n",
            "[37,    80] loss: 0.910\n",
            "[37,   120] loss: 0.868\n",
            "[38,    40] loss: 0.853\n",
            "[38,    80] loss: 0.850\n",
            "[38,   120] loss: 0.840\n",
            "[39,    40] loss: 0.811\n",
            "[39,    80] loss: 0.835\n",
            "[39,   120] loss: 0.759\n",
            "[40,    40] loss: 0.675\n",
            "[40,    80] loss: 0.671\n",
            "[40,   120] loss: 0.865\n",
            "[41,    40] loss: 1.037\n",
            "[41,    80] loss: 1.020\n",
            "[41,   120] loss: 0.991\n",
            "[42,    40] loss: 0.974\n",
            "[42,    80] loss: 0.941\n",
            "[42,   120] loss: 0.920\n",
            "[43,    40] loss: 0.874\n",
            "[43,    80] loss: 0.849\n",
            "[43,   120] loss: 0.773\n",
            "[44,    40] loss: 0.582\n",
            "[44,    80] loss: 0.658\n",
            "[44,   120] loss: 1.112\n",
            "[45,    40] loss: 1.080\n",
            "[45,    80] loss: 1.063\n",
            "[45,   120] loss: 1.055\n",
            "[46,    40] loss: 1.041\n",
            "[46,    80] loss: 1.035\n",
            "[46,   120] loss: 1.020\n",
            "[47,    40] loss: 1.001\n",
            "[47,    80] loss: 0.954\n",
            "[47,   120] loss: 0.505\n",
            "[48,    40] loss: 0.275\n",
            "[48,    80] loss: 0.455\n",
            "[48,   120] loss: 1.082\n",
            "[49,    40] loss: 1.037\n",
            "[49,    80] loss: 1.022\n",
            "[49,   120] loss: 1.005\n",
            "[50,    40] loss: 0.979\n",
            "[50,    80] loss: 0.946\n",
            "[50,   120] loss: 0.915\n",
            "[51,    40] loss: 0.785\n",
            "[51,    80] loss: 0.368\n",
            "[51,   120] loss: 0.210\n",
            "[52,    40] loss: 0.269\n",
            "[52,    80] loss: 0.175\n",
            "[52,   120] loss: 0.161\n",
            "[53,    40] loss: 0.153\n",
            "[53,    80] loss: 0.160\n",
            "[53,   120] loss: 0.230\n",
            "[54,    40] loss: 0.136\n",
            "[54,    80] loss: 0.095\n",
            "[54,   120] loss: 0.154\n",
            "[55,    40] loss: 0.100\n",
            "[55,    80] loss: 0.102\n",
            "[55,   120] loss: 0.473\n",
            "[56,    40] loss: 0.185\n",
            "[56,    80] loss: 0.093\n",
            "[56,   120] loss: 0.084\n",
            "[57,    40] loss: 0.067\n",
            "[57,    80] loss: 0.094\n",
            "[57,   120] loss: 0.122\n",
            "[58,    40] loss: 0.075\n",
            "[58,    80] loss: 0.058\n",
            "[58,   120] loss: 0.069\n",
            "[59,    40] loss: 0.165\n",
            "[59,    80] loss: 0.053\n",
            "[59,   120] loss: 0.046\n",
            "[60,    40] loss: 0.046\n",
            "[60,    80] loss: 0.052\n",
            "[60,   120] loss: 0.043\n",
            "Finished Training\n",
            " \n",
            "================================================================================================================================================================\n",
            "  S.No.  fg_class        bg_class                      Epoch used    total_points    correct    accuracy     FTPT     FFPT      FTPF       FFPF    avg_img > 0.5\n",
            "-------  --------------  --------------------------  ------------  --------------  ---------  ----------  -------  -------  --------  ---------  ---------------\n",
            "      1  fg = [0, 1, 2]  bg = [3, 4, 5, 6, 7, 8, 9]            43           30000      29672     98.9067  75.08    23.8267  1.07667   0.0166667            20098\n",
            "      2  fg = [0, 1, 2]  bg = [3, 4, 5, 6, 7, 8, 9]            42           30000      29721     99.07    71.6167  27.4533  0.903333  0.0266667            20078\n",
            "      3  fg = [0, 1, 2]  bg = [3, 4, 5, 6, 7, 8, 9]            52           30000      29837     99.4567  77.0867  22.37    0.52      0.0233333            20076\n",
            "      4  fg = [0, 1, 2]  bg = [3, 4, 5, 6, 7, 8, 9]            59           30000      29749     99.1633  76.6567  22.5067  0.823333  0.0133333            20126\n",
            " \n",
            "================================================================================================================================================================\n",
            " \n",
            "================================================================================================================================================================\n",
            "  S.No.  fg_class        bg_class                    Epoch used      total_points    correct    accuracy    FTPT    FFPT    FTPF    FFPF    avg_img > 0.5\n",
            "-------  --------------  --------------------------  ------------  --------------  ---------  ----------  ------  ------  ------  ------  ---------------\n",
            "      1  fg = [0, 1, 2]  bg = [3, 4, 5, 6, 7, 8, 9]  NA                     10000       9781       97.81   74.32   23.49    2.15    0.04             6640\n",
            "      2  fg = [0, 1, 2]  bg = [3, 4, 5, 6, 7, 8, 9]  NA                     10000       9794       97.94   70.14   27.8     2.04    0.02             6616\n",
            "      3  fg = [0, 1, 2]  bg = [3, 4, 5, 6, 7, 8, 9]  NA                     10000       9863       98.63   76.5    22.13    1.34    0.03             6625\n",
            "      4  fg = [0, 1, 2]  bg = [3, 4, 5, 6, 7, 8, 9]  NA                     10000       9813       98.13   75.5    22.63    1.85    0.02             6650\n",
            " \n",
            "================================================================================================================================================================\n",
            " \n",
            "================================================================================================================================================================\n",
            "  S.No.  fg_class        bg_class                    Epoch used      total_points    correct    accuracy    FTPT    FFPT    FTPF    FFPF    avg_img > 0.5\n",
            "-------  --------------  --------------------------  ------------  --------------  ---------  ----------  ------  ------  ------  ------  ---------------\n",
            "      1  fg = [0, 1, 2]  bg = [3, 4, 5, 6, 7, 8, 9]  NA                     10000       9428       94.28   69.9    24.38    5.58    0.14             6564\n",
            "      2  fg = [0, 1, 2]  bg = [3, 4, 5, 6, 7, 8, 9]  NA                     10000       9422       94.22   66.15   28.07    5.64    0.14             6547\n",
            "      3  fg = [0, 1, 2]  bg = [3, 4, 5, 6, 7, 8, 9]  NA                     10000       9478       94.78   71.62   23.16    5.03    0.19             6565\n",
            "      4  fg = [0, 1, 2]  bg = [3, 4, 5, 6, 7, 8, 9]  NA                     10000       9461       94.61   72.11   22.5     5.3     0.09             6567\n",
            " \n",
            "================================================================================================================================================================\n",
            " \n",
            "================================================================================================================================================================\n",
            "  S.No.  fg_class        bg_class                    Epoch used      total_points    correct    accuracy    FTPT    FFPT    FTPF    FFPF    avg_img > 0.5\n",
            "-------  --------------  --------------------------  ------------  --------------  ---------  ----------  ------  ------  ------  ------  ---------------\n",
            "      1  fg = [0, 1, 2]  bg = [3, 4, 5, 6, 7, 8, 9]  NA                     10000       3394       33.94    5.02   28.92    7.44   58.62               36\n",
            "      2  fg = [0, 1, 2]  bg = [3, 4, 5, 6, 7, 8, 9]  NA                     10000       3389       33.89    5.57   28.32    4.51   61.6                24\n",
            "      3  fg = [0, 1, 2]  bg = [3, 4, 5, 6, 7, 8, 9]  NA                     10000       3394       33.94    5      28.94    4.09   61.97               38\n",
            "      4  fg = [0, 1, 2]  bg = [3, 4, 5, 6, 7, 8, 9]  NA                     10000       3396       33.96    6.41   27.55    4.08   61.96               31\n",
            " \n",
            "================================================================================================================================================================\n",
            " \n",
            "================================================================================================================================================================\n",
            "  S.No.  fg_class        bg_class                    Epoch used      total_points    correct    accuracy    FTPT    FFPT    FTPF    FFPF    avg_img > 0.5\n",
            "-------  --------------  --------------------------  ------------  --------------  ---------  ----------  ------  ------  ------  ------  ---------------\n",
            "      1  fg = [0, 1, 2]  bg = [3, 4, 5, 6, 7, 8, 9]  NA                     10000       3371       33.71    4.87   28.84    7.18   59.11               31\n",
            "      2  fg = [0, 1, 2]  bg = [3, 4, 5, 6, 7, 8, 9]  NA                     10000       3371       33.71    5.47   28.24    4.35   61.94               36\n",
            "      3  fg = [0, 1, 2]  bg = [3, 4, 5, 6, 7, 8, 9]  NA                     10000       3386       33.86    5.08   28.78    4.01   62.13               34\n",
            "      4  fg = [0, 1, 2]  bg = [3, 4, 5, 6, 7, 8, 9]  NA                     10000       3373       33.73    6.34   27.39    4.38   61.89               56\n",
            " \n",
            "================================================================================================================================================================\n",
            "[1,    40] loss: 1.101\n",
            "[1,    80] loss: 1.099\n",
            "[1,   120] loss: 1.099\n",
            "[2,    40] loss: 1.099\n",
            "[2,    80] loss: 1.099\n",
            "[2,   120] loss: 1.099\n",
            "[3,    40] loss: 1.099\n",
            "[3,    80] loss: 1.099\n",
            "[3,   120] loss: 1.099\n",
            "[4,    40] loss: 1.099\n",
            "[4,    80] loss: 1.098\n",
            "[4,   120] loss: 1.099\n",
            "[5,    40] loss: 1.099\n",
            "[5,    80] loss: 1.099\n",
            "[5,   120] loss: 1.098\n",
            "[6,    40] loss: 1.098\n",
            "[6,    80] loss: 1.098\n",
            "[6,   120] loss: 1.098\n",
            "[7,    40] loss: 1.099\n",
            "[7,    80] loss: 1.098\n",
            "[7,   120] loss: 1.098\n",
            "[8,    40] loss: 1.098\n",
            "[8,    80] loss: 1.098\n",
            "[8,   120] loss: 1.098\n",
            "[9,    40] loss: 1.097\n",
            "[9,    80] loss: 1.097\n",
            "[9,   120] loss: 1.097\n",
            "[10,    40] loss: 1.096\n",
            "[10,    80] loss: 1.095\n",
            "[10,   120] loss: 1.094\n",
            "[11,    40] loss: 1.091\n",
            "[11,    80] loss: 1.090\n",
            "[11,   120] loss: 1.086\n",
            "[12,    40] loss: 1.083\n",
            "[12,    80] loss: 1.080\n",
            "[12,   120] loss: 1.075\n",
            "[13,    40] loss: 1.074\n",
            "[13,    80] loss: 1.074\n",
            "[13,   120] loss: 1.075\n",
            "[14,    40] loss: 1.070\n",
            "[14,    80] loss: 1.067\n",
            "[14,   120] loss: 1.072\n",
            "[15,    40] loss: 1.066\n",
            "[15,    80] loss: 1.068\n",
            "[15,   120] loss: 1.066\n",
            "[16,    40] loss: 1.062\n",
            "[16,    80] loss: 1.066\n",
            "[16,   120] loss: 1.064\n",
            "[17,    40] loss: 1.062\n",
            "[17,    80] loss: 1.062\n",
            "[17,   120] loss: 1.062\n",
            "[18,    40] loss: 1.058\n",
            "[18,    80] loss: 1.059\n",
            "[18,   120] loss: 1.061\n",
            "[19,    40] loss: 1.056\n",
            "[19,    80] loss: 1.052\n",
            "[19,   120] loss: 1.058\n",
            "[20,    40] loss: 1.050\n",
            "[20,    80] loss: 1.050\n",
            "[20,   120] loss: 1.047\n",
            "[21,    40] loss: 1.044\n",
            "[21,    80] loss: 1.041\n",
            "[21,   120] loss: 1.031\n",
            "[22,    40] loss: 1.023\n",
            "[22,    80] loss: 1.025\n",
            "[22,   120] loss: 1.028\n",
            "[23,    40] loss: 1.018\n",
            "[23,    80] loss: 1.013\n",
            "[23,   120] loss: 1.012\n",
            "[24,    40] loss: 1.004\n",
            "[24,    80] loss: 0.993\n",
            "[24,   120] loss: 0.992\n",
            "[25,    40] loss: 0.981\n",
            "[25,    80] loss: 0.985\n",
            "[25,   120] loss: 0.967\n",
            "[26,    40] loss: 0.960\n",
            "[26,    80] loss: 0.952\n",
            "[26,   120] loss: 0.929\n",
            "[27,    40] loss: 0.920\n",
            "[27,    80] loss: 0.895\n",
            "[27,   120] loss: 0.883\n",
            "[28,    40] loss: 0.865\n",
            "[28,    80] loss: 0.849\n",
            "[28,   120] loss: 0.830\n",
            "[29,    40] loss: 0.818\n",
            "[29,    80] loss: 0.814\n",
            "[29,   120] loss: 0.793\n",
            "[30,    40] loss: 0.773\n",
            "[30,    80] loss: 0.779\n",
            "[30,   120] loss: 0.767\n",
            "[31,    40] loss: 0.712\n",
            "[31,    80] loss: 0.721\n",
            "[31,   120] loss: 0.693\n",
            "[32,    40] loss: 0.678\n",
            "[32,    80] loss: 0.651\n",
            "[32,   120] loss: 0.836\n",
            "[33,    40] loss: 0.771\n",
            "[33,    80] loss: 0.955\n",
            "[33,   120] loss: 0.976\n",
            "[34,    40] loss: 0.951\n",
            "[34,    80] loss: 0.917\n",
            "[34,   120] loss: 0.873\n",
            "[35,    40] loss: 0.702\n",
            "[35,    80] loss: 0.436\n",
            "[35,   120] loss: 0.706\n",
            "[36,    40] loss: 1.059\n",
            "[36,    80] loss: 1.030\n",
            "[36,   120] loss: 1.022\n",
            "[37,    40] loss: 1.013\n",
            "[37,    80] loss: 1.004\n",
            "[37,   120] loss: 0.995\n",
            "[38,    40] loss: 0.980\n",
            "[38,    80] loss: 0.972\n",
            "[38,   120] loss: 0.964\n",
            "[39,    40] loss: 0.938\n",
            "[39,    80] loss: 0.934\n",
            "[39,   120] loss: 0.917\n",
            "[40,    40] loss: 0.842\n",
            "[40,    80] loss: 0.445\n",
            "[40,   120] loss: 0.291\n",
            "[41,    40] loss: 0.185\n",
            "[41,    80] loss: 0.273\n",
            "[41,   120] loss: 0.732\n",
            "[42,    40] loss: 0.247\n",
            "[42,    80] loss: 0.232\n",
            "[42,   120] loss: 0.226\n",
            "[43,    40] loss: 0.286\n",
            "[43,    80] loss: 0.161\n",
            "[43,   120] loss: 0.170\n",
            "[44,    40] loss: 0.117\n",
            "[44,    80] loss: 0.127\n",
            "[44,   120] loss: 0.899\n",
            "[45,    40] loss: 0.910\n",
            "[45,    80] loss: 0.551\n",
            "[45,   120] loss: 0.151\n",
            "[46,    40] loss: 0.136\n",
            "[46,    80] loss: 0.076\n",
            "[46,   120] loss: 0.052\n",
            "[47,    40] loss: 0.039\n",
            "[47,    80] loss: 0.038\n",
            "[47,   120] loss: 0.036\n",
            "Finished Training\n",
            " \n",
            "================================================================================================================================================================\n",
            "  S.No.  fg_class        bg_class                      Epoch used    total_points    correct    accuracy     FTPT     FFPT      FTPF       FFPF    avg_img > 0.5\n",
            "-------  --------------  --------------------------  ------------  --------------  ---------  ----------  -------  -------  --------  ---------  ---------------\n",
            "      1  fg = [0, 1, 2]  bg = [3, 4, 5, 6, 7, 8, 9]            43           30000      29672     98.9067  75.08    23.8267  1.07667   0.0166667            20098\n",
            "      2  fg = [0, 1, 2]  bg = [3, 4, 5, 6, 7, 8, 9]            42           30000      29721     99.07    71.6167  27.4533  0.903333  0.0266667            20078\n",
            "      3  fg = [0, 1, 2]  bg = [3, 4, 5, 6, 7, 8, 9]            52           30000      29837     99.4567  77.0867  22.37    0.52      0.0233333            20076\n",
            "      4  fg = [0, 1, 2]  bg = [3, 4, 5, 6, 7, 8, 9]            59           30000      29749     99.1633  76.6567  22.5067  0.823333  0.0133333            20126\n",
            "      5  fg = [0, 1, 2]  bg = [3, 4, 5, 6, 7, 8, 9]            46           30000      29805     99.35    85.6     13.75    0.62      0.03                 20696\n",
            " \n",
            "================================================================================================================================================================\n",
            " \n",
            "================================================================================================================================================================\n",
            "  S.No.  fg_class        bg_class                    Epoch used      total_points    correct    accuracy    FTPT    FFPT    FTPF    FFPF    avg_img > 0.5\n",
            "-------  --------------  --------------------------  ------------  --------------  ---------  ----------  ------  ------  ------  ------  ---------------\n",
            "      1  fg = [0, 1, 2]  bg = [3, 4, 5, 6, 7, 8, 9]  NA                     10000       9781       97.81   74.32   23.49    2.15    0.04             6640\n",
            "      2  fg = [0, 1, 2]  bg = [3, 4, 5, 6, 7, 8, 9]  NA                     10000       9794       97.94   70.14   27.8     2.04    0.02             6616\n",
            "      3  fg = [0, 1, 2]  bg = [3, 4, 5, 6, 7, 8, 9]  NA                     10000       9863       98.63   76.5    22.13    1.34    0.03             6625\n",
            "      4  fg = [0, 1, 2]  bg = [3, 4, 5, 6, 7, 8, 9]  NA                     10000       9813       98.13   75.5    22.63    1.85    0.02             6650\n",
            "      5  fg = [0, 1, 2]  bg = [3, 4, 5, 6, 7, 8, 9]  NA                     10000       9909       99.09   84.85   14.24    0.9     0.01             6842\n",
            " \n",
            "================================================================================================================================================================\n",
            " \n",
            "================================================================================================================================================================\n",
            "  S.No.  fg_class        bg_class                    Epoch used      total_points    correct    accuracy    FTPT    FFPT    FTPF    FFPF    avg_img > 0.5\n",
            "-------  --------------  --------------------------  ------------  --------------  ---------  ----------  ------  ------  ------  ------  ---------------\n",
            "      1  fg = [0, 1, 2]  bg = [3, 4, 5, 6, 7, 8, 9]  NA                     10000       9428       94.28   69.9    24.38    5.58    0.14             6564\n",
            "      2  fg = [0, 1, 2]  bg = [3, 4, 5, 6, 7, 8, 9]  NA                     10000       9422       94.22   66.15   28.07    5.64    0.14             6547\n",
            "      3  fg = [0, 1, 2]  bg = [3, 4, 5, 6, 7, 8, 9]  NA                     10000       9478       94.78   71.62   23.16    5.03    0.19             6565\n",
            "      4  fg = [0, 1, 2]  bg = [3, 4, 5, 6, 7, 8, 9]  NA                     10000       9461       94.61   72.11   22.5     5.3     0.09             6567\n",
            "      5  fg = [0, 1, 2]  bg = [3, 4, 5, 6, 7, 8, 9]  NA                     10000       9736       97.36   83.17   14.19    2.55    0.09             6811\n",
            " \n",
            "================================================================================================================================================================\n",
            " \n",
            "================================================================================================================================================================\n",
            "  S.No.  fg_class        bg_class                    Epoch used      total_points    correct    accuracy    FTPT    FFPT    FTPF    FFPF    avg_img > 0.5\n",
            "-------  --------------  --------------------------  ------------  --------------  ---------  ----------  ------  ------  ------  ------  ---------------\n",
            "      1  fg = [0, 1, 2]  bg = [3, 4, 5, 6, 7, 8, 9]  NA                     10000       3394       33.94    5.02   28.92    7.44   58.62               36\n",
            "      2  fg = [0, 1, 2]  bg = [3, 4, 5, 6, 7, 8, 9]  NA                     10000       3389       33.89    5.57   28.32    4.51   61.6                24\n",
            "      3  fg = [0, 1, 2]  bg = [3, 4, 5, 6, 7, 8, 9]  NA                     10000       3394       33.94    5      28.94    4.09   61.97               38\n",
            "      4  fg = [0, 1, 2]  bg = [3, 4, 5, 6, 7, 8, 9]  NA                     10000       3396       33.96    6.41   27.55    4.08   61.96               31\n",
            "      5  fg = [0, 1, 2]  bg = [3, 4, 5, 6, 7, 8, 9]  NA                     10000       3435       34.35    5.91   28.44    8.86   56.79              264\n",
            " \n",
            "================================================================================================================================================================\n",
            " \n",
            "================================================================================================================================================================\n",
            "  S.No.  fg_class        bg_class                    Epoch used      total_points    correct    accuracy    FTPT    FFPT    FTPF    FFPF    avg_img > 0.5\n",
            "-------  --------------  --------------------------  ------------  --------------  ---------  ----------  ------  ------  ------  ------  ---------------\n",
            "      1  fg = [0, 1, 2]  bg = [3, 4, 5, 6, 7, 8, 9]  NA                     10000       3371       33.71    4.87   28.84    7.18   59.11               31\n",
            "      2  fg = [0, 1, 2]  bg = [3, 4, 5, 6, 7, 8, 9]  NA                     10000       3371       33.71    5.47   28.24    4.35   61.94               36\n",
            "      3  fg = [0, 1, 2]  bg = [3, 4, 5, 6, 7, 8, 9]  NA                     10000       3386       33.86    5.08   28.78    4.01   62.13               34\n",
            "      4  fg = [0, 1, 2]  bg = [3, 4, 5, 6, 7, 8, 9]  NA                     10000       3373       33.73    6.34   27.39    4.38   61.89               56\n",
            "      5  fg = [0, 1, 2]  bg = [3, 4, 5, 6, 7, 8, 9]  NA                     10000       3405       34.05    5.9    28.15    9.09   56.86              323\n",
            " \n",
            "================================================================================================================================================================\n",
            "[1,    40] loss: 1.099\n",
            "[1,    80] loss: 1.099\n",
            "[1,   120] loss: 1.099\n",
            "[2,    40] loss: 1.098\n",
            "[2,    80] loss: 1.099\n",
            "[2,   120] loss: 1.099\n",
            "[3,    40] loss: 1.099\n",
            "[3,    80] loss: 1.098\n",
            "[3,   120] loss: 1.099\n",
            "[4,    40] loss: 1.098\n",
            "[4,    80] loss: 1.098\n",
            "[4,   120] loss: 1.098\n",
            "[5,    40] loss: 1.098\n",
            "[5,    80] loss: 1.098\n",
            "[5,   120] loss: 1.098\n",
            "[6,    40] loss: 1.098\n",
            "[6,    80] loss: 1.098\n",
            "[6,   120] loss: 1.098\n",
            "[7,    40] loss: 1.098\n",
            "[7,    80] loss: 1.098\n",
            "[7,   120] loss: 1.098\n",
            "[8,    40] loss: 1.097\n",
            "[8,    80] loss: 1.097\n",
            "[8,   120] loss: 1.097\n",
            "[9,    40] loss: 1.097\n",
            "[9,    80] loss: 1.096\n",
            "[9,   120] loss: 1.095\n",
            "[10,    40] loss: 1.095\n",
            "[10,    80] loss: 1.093\n",
            "[10,   120] loss: 1.092\n",
            "[11,    40] loss: 1.090\n",
            "[11,    80] loss: 1.090\n",
            "[11,   120] loss: 1.088\n",
            "[12,    40] loss: 1.086\n",
            "[12,    80] loss: 1.086\n",
            "[12,   120] loss: 1.085\n",
            "[13,    40] loss: 1.083\n",
            "[13,    80] loss: 1.083\n",
            "[13,   120] loss: 1.082\n",
            "[14,    40] loss: 1.080\n",
            "[14,    80] loss: 1.081\n",
            "[14,   120] loss: 1.079\n",
            "[15,    40] loss: 1.080\n",
            "[15,    80] loss: 1.078\n",
            "[15,   120] loss: 1.077\n",
            "[16,    40] loss: 1.076\n",
            "[16,    80] loss: 1.075\n",
            "[16,   120] loss: 1.074\n",
            "[17,    40] loss: 1.072\n",
            "[17,    80] loss: 1.072\n",
            "[17,   120] loss: 1.074\n",
            "[18,    40] loss: 1.070\n",
            "[18,    80] loss: 1.068\n",
            "[18,   120] loss: 1.071\n",
            "[19,    40] loss: 1.065\n",
            "[19,    80] loss: 1.067\n",
            "[19,   120] loss: 1.068\n",
            "[20,    40] loss: 1.066\n",
            "[20,    80] loss: 1.066\n",
            "[20,   120] loss: 1.057\n",
            "[21,    40] loss: 1.059\n",
            "[21,    80] loss: 1.064\n",
            "[21,   120] loss: 1.056\n",
            "[22,    40] loss: 1.056\n",
            "[22,    80] loss: 1.053\n",
            "[22,   120] loss: 1.051\n",
            "[23,    40] loss: 1.052\n",
            "[23,    80] loss: 1.044\n",
            "[23,   120] loss: 1.044\n",
            "[24,    40] loss: 1.044\n",
            "[24,    80] loss: 1.035\n",
            "[24,   120] loss: 1.036\n",
            "[25,    40] loss: 1.028\n",
            "[25,    80] loss: 1.023\n",
            "[25,   120] loss: 1.014\n",
            "[26,    40] loss: 1.018\n",
            "[26,    80] loss: 1.010\n",
            "[26,   120] loss: 0.991\n",
            "[27,    40] loss: 0.996\n",
            "[27,    80] loss: 0.985\n",
            "[27,   120] loss: 0.967\n",
            "[28,    40] loss: 0.968\n",
            "[28,    80] loss: 0.951\n",
            "[28,   120] loss: 0.940\n",
            "[29,    40] loss: 0.930\n",
            "[29,    80] loss: 0.923\n",
            "[29,   120] loss: 0.913\n",
            "[30,    40] loss: 0.882\n",
            "[30,    80] loss: 0.868\n",
            "[30,   120] loss: 0.859\n",
            "[31,    40] loss: 0.819\n",
            "[31,    80] loss: 0.808\n",
            "[31,   120] loss: 0.770\n",
            "[32,    40] loss: 0.847\n",
            "[32,    80] loss: 0.699\n",
            "[32,   120] loss: 0.671\n",
            "[33,    40] loss: 0.540\n",
            "[33,    80] loss: 0.489\n",
            "[33,   120] loss: 0.798\n",
            "[34,    40] loss: 1.035\n",
            "[34,    80] loss: 1.030\n",
            "[34,   120] loss: 1.005\n",
            "[35,    40] loss: 0.983\n",
            "[35,    80] loss: 0.955\n",
            "[35,   120] loss: 0.883\n",
            "[36,    40] loss: 0.371\n",
            "[36,    80] loss: 0.883\n",
            "[36,   120] loss: 0.386\n",
            "[37,    40] loss: 0.517\n",
            "[37,    80] loss: 0.288\n",
            "[37,   120] loss: 0.373\n",
            "[38,    40] loss: 0.189\n",
            "[38,    80] loss: 0.169\n",
            "[38,   120] loss: 0.298\n",
            "[39,    40] loss: 0.147\n",
            "[39,    80] loss: 0.170\n",
            "[39,   120] loss: 0.343\n",
            "[40,    40] loss: 0.236\n",
            "[40,    80] loss: 0.111\n",
            "[40,   120] loss: 0.124\n",
            "[41,    40] loss: 0.216\n",
            "[41,    80] loss: 0.101\n",
            "[41,   120] loss: 0.093\n",
            "[42,    40] loss: 0.080\n",
            "[42,    80] loss: 0.077\n",
            "[42,   120] loss: 0.101\n",
            "[43,    40] loss: 0.071\n",
            "[43,    80] loss: 0.059\n",
            "[43,   120] loss: 0.063\n",
            "[44,    40] loss: 0.127\n",
            "[44,    80] loss: 0.094\n",
            "[44,   120] loss: 0.053\n",
            "[45,    40] loss: 0.043\n",
            "[45,    80] loss: 0.043\n",
            "[45,   120] loss: 0.040\n",
            "Finished Training\n",
            " \n",
            "================================================================================================================================================================\n",
            "  S.No.  fg_class        bg_class                      Epoch used    total_points    correct    accuracy     FTPT     FFPT      FTPF       FFPF    avg_img > 0.5\n",
            "-------  --------------  --------------------------  ------------  --------------  ---------  ----------  -------  -------  --------  ---------  ---------------\n",
            "      1  fg = [0, 1, 2]  bg = [3, 4, 5, 6, 7, 8, 9]            43           30000      29672     98.9067  75.08    23.8267  1.07667   0.0166667            20098\n",
            "      2  fg = [0, 1, 2]  bg = [3, 4, 5, 6, 7, 8, 9]            42           30000      29721     99.07    71.6167  27.4533  0.903333  0.0266667            20078\n",
            "      3  fg = [0, 1, 2]  bg = [3, 4, 5, 6, 7, 8, 9]            52           30000      29837     99.4567  77.0867  22.37    0.52      0.0233333            20076\n",
            "      4  fg = [0, 1, 2]  bg = [3, 4, 5, 6, 7, 8, 9]            59           30000      29749     99.1633  76.6567  22.5067  0.823333  0.0133333            20126\n",
            "      5  fg = [0, 1, 2]  bg = [3, 4, 5, 6, 7, 8, 9]            46           30000      29805     99.35    85.6     13.75    0.62      0.03                 20696\n",
            "      6  fg = [0, 1, 2]  bg = [3, 4, 5, 6, 7, 8, 9]            44           30000      29800     99.3333  75.6533  23.68    0.626667  0.04                 20097\n",
            " \n",
            "================================================================================================================================================================\n",
            " \n",
            "================================================================================================================================================================\n",
            "  S.No.  fg_class        bg_class                    Epoch used      total_points    correct    accuracy    FTPT    FFPT    FTPF    FFPF    avg_img > 0.5\n",
            "-------  --------------  --------------------------  ------------  --------------  ---------  ----------  ------  ------  ------  ------  ---------------\n",
            "      1  fg = [0, 1, 2]  bg = [3, 4, 5, 6, 7, 8, 9]  NA                     10000       9781       97.81   74.32   23.49    2.15    0.04             6640\n",
            "      2  fg = [0, 1, 2]  bg = [3, 4, 5, 6, 7, 8, 9]  NA                     10000       9794       97.94   70.14   27.8     2.04    0.02             6616\n",
            "      3  fg = [0, 1, 2]  bg = [3, 4, 5, 6, 7, 8, 9]  NA                     10000       9863       98.63   76.5    22.13    1.34    0.03             6625\n",
            "      4  fg = [0, 1, 2]  bg = [3, 4, 5, 6, 7, 8, 9]  NA                     10000       9813       98.13   75.5    22.63    1.85    0.02             6650\n",
            "      5  fg = [0, 1, 2]  bg = [3, 4, 5, 6, 7, 8, 9]  NA                     10000       9909       99.09   84.85   14.24    0.9     0.01             6842\n",
            "      6  fg = [0, 1, 2]  bg = [3, 4, 5, 6, 7, 8, 9]  NA                     10000       9844       98.44   74.64   23.8     1.46    0.1              6636\n",
            " \n",
            "================================================================================================================================================================\n",
            " \n",
            "================================================================================================================================================================\n",
            "  S.No.  fg_class        bg_class                    Epoch used      total_points    correct    accuracy    FTPT    FFPT    FTPF    FFPF    avg_img > 0.5\n",
            "-------  --------------  --------------------------  ------------  --------------  ---------  ----------  ------  ------  ------  ------  ---------------\n",
            "      1  fg = [0, 1, 2]  bg = [3, 4, 5, 6, 7, 8, 9]  NA                     10000       9428       94.28   69.9    24.38    5.58    0.14             6564\n",
            "      2  fg = [0, 1, 2]  bg = [3, 4, 5, 6, 7, 8, 9]  NA                     10000       9422       94.22   66.15   28.07    5.64    0.14             6547\n",
            "      3  fg = [0, 1, 2]  bg = [3, 4, 5, 6, 7, 8, 9]  NA                     10000       9478       94.78   71.62   23.16    5.03    0.19             6565\n",
            "      4  fg = [0, 1, 2]  bg = [3, 4, 5, 6, 7, 8, 9]  NA                     10000       9461       94.61   72.11   22.5     5.3     0.09             6567\n",
            "      5  fg = [0, 1, 2]  bg = [3, 4, 5, 6, 7, 8, 9]  NA                     10000       9736       97.36   83.17   14.19    2.55    0.09             6811\n",
            "      6  fg = [0, 1, 2]  bg = [3, 4, 5, 6, 7, 8, 9]  NA                     10000       9508       95.08   70.37   24.71    4.76    0.16             6564\n",
            " \n",
            "================================================================================================================================================================\n",
            " \n",
            "================================================================================================================================================================\n",
            "  S.No.  fg_class        bg_class                    Epoch used      total_points    correct    accuracy    FTPT    FFPT    FTPF    FFPF    avg_img > 0.5\n",
            "-------  --------------  --------------------------  ------------  --------------  ---------  ----------  ------  ------  ------  ------  ---------------\n",
            "      1  fg = [0, 1, 2]  bg = [3, 4, 5, 6, 7, 8, 9]  NA                     10000       3394       33.94    5.02   28.92    7.44   58.62               36\n",
            "      2  fg = [0, 1, 2]  bg = [3, 4, 5, 6, 7, 8, 9]  NA                     10000       3389       33.89    5.57   28.32    4.51   61.6                24\n",
            "      3  fg = [0, 1, 2]  bg = [3, 4, 5, 6, 7, 8, 9]  NA                     10000       3394       33.94    5      28.94    4.09   61.97               38\n",
            "      4  fg = [0, 1, 2]  bg = [3, 4, 5, 6, 7, 8, 9]  NA                     10000       3396       33.96    6.41   27.55    4.08   61.96               31\n",
            "      5  fg = [0, 1, 2]  bg = [3, 4, 5, 6, 7, 8, 9]  NA                     10000       3435       34.35    5.91   28.44    8.86   56.79              264\n",
            "      6  fg = [0, 1, 2]  bg = [3, 4, 5, 6, 7, 8, 9]  NA                     10000       3400       34       5.93   28.07    4.75   61.25               33\n",
            " \n",
            "================================================================================================================================================================\n",
            " \n",
            "================================================================================================================================================================\n",
            "  S.No.  fg_class        bg_class                    Epoch used      total_points    correct    accuracy    FTPT    FFPT    FTPF    FFPF    avg_img > 0.5\n",
            "-------  --------------  --------------------------  ------------  --------------  ---------  ----------  ------  ------  ------  ------  ---------------\n",
            "      1  fg = [0, 1, 2]  bg = [3, 4, 5, 6, 7, 8, 9]  NA                     10000       3371       33.71    4.87   28.84    7.18   59.11               31\n",
            "      2  fg = [0, 1, 2]  bg = [3, 4, 5, 6, 7, 8, 9]  NA                     10000       3371       33.71    5.47   28.24    4.35   61.94               36\n",
            "      3  fg = [0, 1, 2]  bg = [3, 4, 5, 6, 7, 8, 9]  NA                     10000       3386       33.86    5.08   28.78    4.01   62.13               34\n",
            "      4  fg = [0, 1, 2]  bg = [3, 4, 5, 6, 7, 8, 9]  NA                     10000       3373       33.73    6.34   27.39    4.38   61.89               56\n",
            "      5  fg = [0, 1, 2]  bg = [3, 4, 5, 6, 7, 8, 9]  NA                     10000       3405       34.05    5.9    28.15    9.09   56.86              323\n",
            "      6  fg = [0, 1, 2]  bg = [3, 4, 5, 6, 7, 8, 9]  NA                     10000       3381       33.81    5.98   27.83    4.5    61.69               30\n",
            " \n",
            "================================================================================================================================================================\n",
            "[1,    40] loss: 1.114\n",
            "[1,    80] loss: 1.098\n",
            "[1,   120] loss: 1.099\n",
            "[2,    40] loss: 1.099\n",
            "[2,    80] loss: 1.099\n",
            "[2,   120] loss: 1.098\n",
            "[3,    40] loss: 1.099\n",
            "[3,    80] loss: 1.099\n",
            "[3,   120] loss: 1.099\n",
            "[4,    40] loss: 1.099\n",
            "[4,    80] loss: 1.099\n",
            "[4,   120] loss: 1.099\n",
            "[5,    40] loss: 1.099\n",
            "[5,    80] loss: 1.099\n",
            "[5,   120] loss: 1.099\n",
            "[6,    40] loss: 1.099\n",
            "[6,    80] loss: 1.099\n",
            "[6,   120] loss: 1.099\n",
            "[7,    40] loss: 1.099\n",
            "[7,    80] loss: 1.099\n",
            "[7,   120] loss: 1.099\n",
            "[8,    40] loss: 1.099\n",
            "[8,    80] loss: 1.099\n",
            "[8,   120] loss: 1.098\n",
            "[9,    40] loss: 1.098\n",
            "[9,    80] loss: 1.099\n",
            "[9,   120] loss: 1.099\n",
            "[10,    40] loss: 1.099\n",
            "[10,    80] loss: 1.098\n",
            "[10,   120] loss: 1.098\n",
            "[11,    40] loss: 1.098\n",
            "[11,    80] loss: 1.098\n",
            "[11,   120] loss: 1.098\n",
            "[12,    40] loss: 1.098\n",
            "[12,    80] loss: 1.098\n",
            "[12,   120] loss: 1.098\n",
            "[13,    40] loss: 1.098\n",
            "[13,    80] loss: 1.098\n",
            "[13,   120] loss: 1.098\n",
            "[14,    40] loss: 1.098\n",
            "[14,    80] loss: 1.098\n",
            "[14,   120] loss: 1.098\n",
            "[15,    40] loss: 1.098\n",
            "[15,    80] loss: 1.097\n",
            "[15,   120] loss: 1.097\n",
            "[16,    40] loss: 1.097\n",
            "[16,    80] loss: 1.096\n",
            "[16,   120] loss: 1.095\n",
            "[17,    40] loss: 1.094\n",
            "[17,    80] loss: 1.092\n",
            "[17,   120] loss: 1.092\n",
            "[18,    40] loss: 1.088\n",
            "[18,    80] loss: 1.088\n",
            "[18,   120] loss: 1.083\n",
            "[19,    40] loss: 1.082\n",
            "[19,    80] loss: 1.082\n",
            "[19,   120] loss: 1.076\n",
            "[20,    40] loss: 1.077\n",
            "[20,    80] loss: 1.077\n",
            "[20,   120] loss: 1.075\n",
            "[21,    40] loss: 1.071\n",
            "[21,    80] loss: 1.074\n",
            "[21,   120] loss: 1.071\n",
            "[22,    40] loss: 1.072\n",
            "[22,    80] loss: 1.070\n",
            "[22,   120] loss: 1.068\n",
            "[23,    40] loss: 1.067\n",
            "[23,    80] loss: 1.067\n",
            "[23,   120] loss: 1.071\n",
            "[24,    40] loss: 1.064\n",
            "[24,    80] loss: 1.066\n",
            "[24,   120] loss: 1.069\n",
            "[25,    40] loss: 1.067\n",
            "[25,    80] loss: 1.061\n",
            "[25,   120] loss: 1.062\n",
            "[26,    40] loss: 1.061\n",
            "[26,    80] loss: 1.067\n",
            "[26,   120] loss: 1.056\n",
            "[27,    40] loss: 1.057\n",
            "[27,    80] loss: 1.060\n",
            "[27,   120] loss: 1.058\n",
            "[28,    40] loss: 1.052\n",
            "[28,    80] loss: 1.055\n",
            "[28,   120] loss: 1.051\n",
            "[29,    40] loss: 1.054\n",
            "[29,    80] loss: 1.053\n",
            "[29,   120] loss: 1.044\n",
            "[30,    40] loss: 1.047\n",
            "[30,    80] loss: 1.049\n",
            "[30,   120] loss: 1.043\n",
            "[31,    40] loss: 1.042\n",
            "[31,    80] loss: 1.042\n",
            "[31,   120] loss: 1.045\n",
            "[32,    40] loss: 1.041\n",
            "[32,    80] loss: 1.031\n",
            "[32,   120] loss: 1.031\n",
            "[33,    40] loss: 1.025\n",
            "[33,    80] loss: 1.021\n",
            "[33,   120] loss: 1.018\n",
            "[34,    40] loss: 1.005\n",
            "[34,    80] loss: 1.013\n",
            "[34,   120] loss: 1.011\n",
            "[35,    40] loss: 0.991\n",
            "[35,    80] loss: 0.999\n",
            "[35,   120] loss: 0.995\n",
            "[36,    40] loss: 0.981\n",
            "[36,    80] loss: 0.962\n",
            "[36,   120] loss: 0.964\n",
            "[37,    40] loss: 0.949\n",
            "[37,    80] loss: 0.930\n",
            "[37,   120] loss: 0.931\n",
            "[38,    40] loss: 0.907\n",
            "[38,    80] loss: 0.891\n",
            "[38,   120] loss: 0.875\n",
            "[39,    40] loss: 0.844\n",
            "[39,    80] loss: 0.845\n",
            "[39,   120] loss: 0.832\n",
            "[40,    40] loss: 0.817\n",
            "[40,    80] loss: 0.696\n",
            "[40,   120] loss: 0.829\n",
            "[41,    40] loss: 0.831\n",
            "[41,    80] loss: 1.096\n",
            "[41,   120] loss: 1.097\n",
            "[42,    40] loss: 1.094\n",
            "[42,    80] loss: 1.093\n",
            "[42,   120] loss: 1.094\n",
            "[43,    40] loss: 1.091\n",
            "[43,    80] loss: 1.091\n",
            "[43,   120] loss: 1.093\n",
            "[44,    40] loss: 1.090\n",
            "[44,    80] loss: 1.091\n",
            "[44,   120] loss: 1.089\n",
            "[45,    40] loss: 1.087\n",
            "[45,    80] loss: 1.088\n",
            "[45,   120] loss: 1.089\n",
            "[46,    40] loss: 1.088\n",
            "[46,    80] loss: 1.087\n",
            "[46,   120] loss: 1.083\n",
            "[47,    40] loss: 1.078\n",
            "[47,    80] loss: 1.064\n",
            "[47,   120] loss: 1.065\n",
            "[48,    40] loss: 1.054\n",
            "[48,    80] loss: 1.035\n",
            "[48,   120] loss: 1.028\n",
            "[49,    40] loss: 1.011\n",
            "[49,    80] loss: 1.007\n",
            "[49,   120] loss: 0.994\n",
            "[50,    40] loss: 0.976\n",
            "[50,    80] loss: 0.951\n",
            "[50,   120] loss: 0.938\n",
            "[51,    40] loss: 0.919\n",
            "[51,    80] loss: 0.896\n",
            "[51,   120] loss: 0.894\n",
            "[52,    40] loss: 0.881\n",
            "[52,    80] loss: 0.845\n",
            "[52,   120] loss: 0.830\n",
            "[53,    40] loss: 0.816\n",
            "[53,    80] loss: 0.772\n",
            "[53,   120] loss: 0.650\n",
            "[54,    40] loss: 0.462\n",
            "[54,    80] loss: 0.352\n",
            "[54,   120] loss: 0.291\n",
            "[55,    40] loss: 0.158\n",
            "[55,    80] loss: 0.171\n",
            "[55,   120] loss: 0.419\n",
            "[56,    40] loss: 0.437\n",
            "[56,    80] loss: 0.235\n",
            "[56,   120] loss: 0.135\n",
            "[57,    40] loss: 0.191\n",
            "[57,    80] loss: 0.181\n",
            "[57,   120] loss: 0.116\n",
            "[58,    40] loss: 0.132\n",
            "[58,    80] loss: 0.127\n",
            "[58,   120] loss: 0.126\n",
            "[59,    40] loss: 0.117\n",
            "[59,    80] loss: 0.086\n",
            "[59,   120] loss: 0.070\n",
            "[60,    40] loss: 0.222\n",
            "[60,    80] loss: 0.088\n",
            "[60,   120] loss: 0.066\n",
            "[61,    40] loss: 0.061\n",
            "[61,    80] loss: 0.080\n",
            "[61,   120] loss: 0.065\n",
            "[62,    40] loss: 0.049\n",
            "[62,    80] loss: 0.048\n",
            "[62,   120] loss: 0.047\n",
            "Finished Training\n",
            " \n",
            "================================================================================================================================================================\n",
            "  S.No.  fg_class        bg_class                      Epoch used    total_points    correct    accuracy     FTPT     FFPT      FTPF       FFPF    avg_img > 0.5\n",
            "-------  --------------  --------------------------  ------------  --------------  ---------  ----------  -------  -------  --------  ---------  ---------------\n",
            "      1  fg = [0, 1, 2]  bg = [3, 4, 5, 6, 7, 8, 9]            43           30000      29672     98.9067  75.08    23.8267  1.07667   0.0166667            20098\n",
            "      2  fg = [0, 1, 2]  bg = [3, 4, 5, 6, 7, 8, 9]            42           30000      29721     99.07    71.6167  27.4533  0.903333  0.0266667            20078\n",
            "      3  fg = [0, 1, 2]  bg = [3, 4, 5, 6, 7, 8, 9]            52           30000      29837     99.4567  77.0867  22.37    0.52      0.0233333            20076\n",
            "      4  fg = [0, 1, 2]  bg = [3, 4, 5, 6, 7, 8, 9]            59           30000      29749     99.1633  76.6567  22.5067  0.823333  0.0133333            20126\n",
            "      5  fg = [0, 1, 2]  bg = [3, 4, 5, 6, 7, 8, 9]            46           30000      29805     99.35    85.6     13.75    0.62      0.03                 20696\n",
            "      6  fg = [0, 1, 2]  bg = [3, 4, 5, 6, 7, 8, 9]            44           30000      29800     99.3333  75.6533  23.68    0.626667  0.04                 20097\n",
            "      7  fg = [0, 1, 2]  bg = [3, 4, 5, 6, 7, 8, 9]            61           30000      29733     99.11    71.1667  27.9433  0.843333  0.0466667            20114\n",
            " \n",
            "================================================================================================================================================================\n",
            " \n",
            "================================================================================================================================================================\n",
            "  S.No.  fg_class        bg_class                    Epoch used      total_points    correct    accuracy    FTPT    FFPT    FTPF    FFPF    avg_img > 0.5\n",
            "-------  --------------  --------------------------  ------------  --------------  ---------  ----------  ------  ------  ------  ------  ---------------\n",
            "      1  fg = [0, 1, 2]  bg = [3, 4, 5, 6, 7, 8, 9]  NA                     10000       9781       97.81   74.32   23.49    2.15    0.04             6640\n",
            "      2  fg = [0, 1, 2]  bg = [3, 4, 5, 6, 7, 8, 9]  NA                     10000       9794       97.94   70.14   27.8     2.04    0.02             6616\n",
            "      3  fg = [0, 1, 2]  bg = [3, 4, 5, 6, 7, 8, 9]  NA                     10000       9863       98.63   76.5    22.13    1.34    0.03             6625\n",
            "      4  fg = [0, 1, 2]  bg = [3, 4, 5, 6, 7, 8, 9]  NA                     10000       9813       98.13   75.5    22.63    1.85    0.02             6650\n",
            "      5  fg = [0, 1, 2]  bg = [3, 4, 5, 6, 7, 8, 9]  NA                     10000       9909       99.09   84.85   14.24    0.9     0.01             6842\n",
            "      6  fg = [0, 1, 2]  bg = [3, 4, 5, 6, 7, 8, 9]  NA                     10000       9844       98.44   74.64   23.8     1.46    0.1              6636\n",
            "      7  fg = [0, 1, 2]  bg = [3, 4, 5, 6, 7, 8, 9]  NA                     10000       9812       98.12   69.74   28.38    1.84    0.04             6640\n",
            " \n",
            "================================================================================================================================================================\n",
            " \n",
            "================================================================================================================================================================\n",
            "  S.No.  fg_class        bg_class                    Epoch used      total_points    correct    accuracy    FTPT    FFPT    FTPF    FFPF    avg_img > 0.5\n",
            "-------  --------------  --------------------------  ------------  --------------  ---------  ----------  ------  ------  ------  ------  ---------------\n",
            "      1  fg = [0, 1, 2]  bg = [3, 4, 5, 6, 7, 8, 9]  NA                     10000       9428       94.28   69.9    24.38    5.58    0.14             6564\n",
            "      2  fg = [0, 1, 2]  bg = [3, 4, 5, 6, 7, 8, 9]  NA                     10000       9422       94.22   66.15   28.07    5.64    0.14             6547\n",
            "      3  fg = [0, 1, 2]  bg = [3, 4, 5, 6, 7, 8, 9]  NA                     10000       9478       94.78   71.62   23.16    5.03    0.19             6565\n",
            "      4  fg = [0, 1, 2]  bg = [3, 4, 5, 6, 7, 8, 9]  NA                     10000       9461       94.61   72.11   22.5     5.3     0.09             6567\n",
            "      5  fg = [0, 1, 2]  bg = [3, 4, 5, 6, 7, 8, 9]  NA                     10000       9736       97.36   83.17   14.19    2.55    0.09             6811\n",
            "      6  fg = [0, 1, 2]  bg = [3, 4, 5, 6, 7, 8, 9]  NA                     10000       9508       95.08   70.37   24.71    4.76    0.16             6564\n",
            "      7  fg = [0, 1, 2]  bg = [3, 4, 5, 6, 7, 8, 9]  NA                     10000       9418       94.18   65.59   28.59    5.72    0.1              6581\n",
            " \n",
            "================================================================================================================================================================\n",
            " \n",
            "================================================================================================================================================================\n",
            "  S.No.  fg_class        bg_class                    Epoch used      total_points    correct    accuracy    FTPT    FFPT    FTPF    FFPF    avg_img > 0.5\n",
            "-------  --------------  --------------------------  ------------  --------------  ---------  ----------  ------  ------  ------  ------  ---------------\n",
            "      1  fg = [0, 1, 2]  bg = [3, 4, 5, 6, 7, 8, 9]  NA                     10000       3394       33.94    5.02   28.92    7.44   58.62               36\n",
            "      2  fg = [0, 1, 2]  bg = [3, 4, 5, 6, 7, 8, 9]  NA                     10000       3389       33.89    5.57   28.32    4.51   61.6                24\n",
            "      3  fg = [0, 1, 2]  bg = [3, 4, 5, 6, 7, 8, 9]  NA                     10000       3394       33.94    5      28.94    4.09   61.97               38\n",
            "      4  fg = [0, 1, 2]  bg = [3, 4, 5, 6, 7, 8, 9]  NA                     10000       3396       33.96    6.41   27.55    4.08   61.96               31\n",
            "      5  fg = [0, 1, 2]  bg = [3, 4, 5, 6, 7, 8, 9]  NA                     10000       3435       34.35    5.91   28.44    8.86   56.79              264\n",
            "      6  fg = [0, 1, 2]  bg = [3, 4, 5, 6, 7, 8, 9]  NA                     10000       3400       34       5.93   28.07    4.75   61.25               33\n",
            "      7  fg = [0, 1, 2]  bg = [3, 4, 5, 6, 7, 8, 9]  NA                     10000       3398       33.98    5.53   28.45    4.35   61.67               17\n",
            " \n",
            "================================================================================================================================================================\n",
            " \n",
            "================================================================================================================================================================\n",
            "  S.No.  fg_class        bg_class                    Epoch used      total_points    correct    accuracy    FTPT    FFPT    FTPF    FFPF    avg_img > 0.5\n",
            "-------  --------------  --------------------------  ------------  --------------  ---------  ----------  ------  ------  ------  ------  ---------------\n",
            "      1  fg = [0, 1, 2]  bg = [3, 4, 5, 6, 7, 8, 9]  NA                     10000       3371       33.71    4.87   28.84    7.18   59.11               31\n",
            "      2  fg = [0, 1, 2]  bg = [3, 4, 5, 6, 7, 8, 9]  NA                     10000       3371       33.71    5.47   28.24    4.35   61.94               36\n",
            "      3  fg = [0, 1, 2]  bg = [3, 4, 5, 6, 7, 8, 9]  NA                     10000       3386       33.86    5.08   28.78    4.01   62.13               34\n",
            "      4  fg = [0, 1, 2]  bg = [3, 4, 5, 6, 7, 8, 9]  NA                     10000       3373       33.73    6.34   27.39    4.38   61.89               56\n",
            "      5  fg = [0, 1, 2]  bg = [3, 4, 5, 6, 7, 8, 9]  NA                     10000       3405       34.05    5.9    28.15    9.09   56.86              323\n",
            "      6  fg = [0, 1, 2]  bg = [3, 4, 5, 6, 7, 8, 9]  NA                     10000       3381       33.81    5.98   27.83    4.5    61.69               30\n",
            "      7  fg = [0, 1, 2]  bg = [3, 4, 5, 6, 7, 8, 9]  NA                     10000       3375       33.75    5.57   28.18    4.24   62.01               27\n",
            " \n",
            "================================================================================================================================================================\n",
            "[1,    40] loss: 1.099\n",
            "[1,    80] loss: 1.099\n",
            "[1,   120] loss: 1.099\n",
            "[2,    40] loss: 1.099\n",
            "[2,    80] loss: 1.099\n",
            "[2,   120] loss: 1.099\n",
            "[3,    40] loss: 1.099\n",
            "[3,    80] loss: 1.099\n",
            "[3,   120] loss: 1.099\n",
            "[4,    40] loss: 1.099\n",
            "[4,    80] loss: 1.098\n",
            "[4,   120] loss: 1.099\n",
            "[5,    40] loss: 1.098\n",
            "[5,    80] loss: 1.098\n",
            "[5,   120] loss: 1.098\n",
            "[6,    40] loss: 1.098\n",
            "[6,    80] loss: 1.098\n",
            "[6,   120] loss: 1.098\n",
            "[7,    40] loss: 1.098\n",
            "[7,    80] loss: 1.097\n",
            "[7,   120] loss: 1.097\n",
            "[8,    40] loss: 1.096\n",
            "[8,    80] loss: 1.096\n",
            "[8,   120] loss: 1.095\n",
            "[9,    40] loss: 1.093\n",
            "[9,    80] loss: 1.094\n",
            "[9,   120] loss: 1.091\n",
            "[10,    40] loss: 1.090\n",
            "[10,    80] loss: 1.087\n",
            "[10,   120] loss: 1.086\n",
            "[11,    40] loss: 1.085\n",
            "[11,    80] loss: 1.082\n",
            "[11,   120] loss: 1.085\n",
            "[12,    40] loss: 1.083\n",
            "[12,    80] loss: 1.082\n",
            "[12,   120] loss: 1.080\n",
            "[13,    40] loss: 1.079\n",
            "[13,    80] loss: 1.076\n",
            "[13,   120] loss: 1.076\n",
            "[14,    40] loss: 1.072\n",
            "[14,    80] loss: 1.072\n",
            "[14,   120] loss: 1.071\n",
            "[15,    40] loss: 1.068\n",
            "[15,    80] loss: 1.067\n",
            "[15,   120] loss: 1.067\n",
            "[16,    40] loss: 1.065\n",
            "[16,    80] loss: 1.063\n",
            "[16,   120] loss: 1.061\n",
            "[17,    40] loss: 1.060\n",
            "[17,    80] loss: 1.059\n",
            "[17,   120] loss: 1.062\n",
            "[18,    40] loss: 1.055\n",
            "[18,    80] loss: 1.060\n",
            "[18,   120] loss: 1.053\n",
            "[19,    40] loss: 1.055\n",
            "[19,    80] loss: 1.048\n",
            "[19,   120] loss: 1.050\n",
            "[20,    40] loss: 1.047\n",
            "[20,    80] loss: 1.050\n",
            "[20,   120] loss: 1.048\n",
            "[21,    40] loss: 1.040\n",
            "[21,    80] loss: 1.044\n",
            "[21,   120] loss: 1.049\n",
            "[22,    40] loss: 1.041\n",
            "[22,    80] loss: 1.042\n",
            "[22,   120] loss: 1.043\n",
            "[23,    40] loss: 1.035\n",
            "[23,    80] loss: 1.033\n",
            "[23,   120] loss: 1.032\n",
            "[24,    40] loss: 1.019\n",
            "[24,    80] loss: 1.019\n",
            "[24,   120] loss: 1.007\n",
            "[25,    40] loss: 1.004\n",
            "[25,    80] loss: 0.993\n",
            "[25,   120] loss: 1.000\n",
            "[26,    40] loss: 0.990\n",
            "[26,    80] loss: 0.970\n",
            "[26,   120] loss: 0.954\n",
            "[27,    40] loss: 0.938\n",
            "[27,    80] loss: 0.936\n",
            "[27,   120] loss: 0.916\n",
            "[28,    40] loss: 0.910\n",
            "[28,    80] loss: 0.887\n",
            "[28,   120] loss: 0.890\n",
            "[29,    40] loss: 0.876\n",
            "[29,    80] loss: 0.866\n",
            "[29,   120] loss: 0.870\n",
            "[30,    40] loss: 0.846\n",
            "[30,    80] loss: 0.829\n",
            "[30,   120] loss: 0.836\n",
            "[31,    40] loss: 0.818\n",
            "[31,    80] loss: 0.814\n",
            "[31,   120] loss: 0.795\n",
            "[32,    40] loss: 0.764\n",
            "[32,    80] loss: 0.768\n",
            "[32,   120] loss: 0.755\n",
            "[33,    40] loss: 0.658\n",
            "[33,    80] loss: 0.738\n",
            "[33,   120] loss: 0.603\n",
            "[34,    40] loss: 0.667\n",
            "[34,    80] loss: 0.517\n",
            "[34,   120] loss: 0.486\n",
            "[35,    40] loss: 0.300\n",
            "[35,    80] loss: 0.568\n",
            "[35,   120] loss: 1.041\n",
            "[36,    40] loss: 0.437\n",
            "[36,    80] loss: 0.345\n",
            "[36,   120] loss: 0.206\n",
            "[37,    40] loss: 0.277\n",
            "[37,    80] loss: 0.158\n",
            "[37,   120] loss: 0.142\n",
            "[38,    40] loss: 0.353\n",
            "[38,    80] loss: 0.188\n",
            "[38,   120] loss: 0.126\n",
            "[39,    40] loss: 0.134\n",
            "[39,    80] loss: 0.157\n",
            "[39,   120] loss: 0.229\n",
            "[40,    40] loss: 0.093\n",
            "[40,    80] loss: 0.085\n",
            "[40,   120] loss: 0.101\n",
            "[41,    40] loss: 0.094\n",
            "[41,    80] loss: 0.060\n",
            "[41,   120] loss: 0.069\n",
            "[42,    40] loss: 0.186\n",
            "[42,    80] loss: 0.098\n",
            "[42,   120] loss: 0.068\n",
            "[43,    40] loss: 0.049\n",
            "[43,    80] loss: 0.062\n",
            "[43,   120] loss: 0.334\n",
            "[44,    40] loss: 0.079\n",
            "[44,    80] loss: 0.040\n",
            "[44,   120] loss: 0.065\n",
            "[45,    40] loss: 0.040\n",
            "[45,    80] loss: 0.039\n",
            "[45,   120] loss: 0.034\n",
            "Finished Training\n",
            " \n",
            "================================================================================================================================================================\n",
            "  S.No.  fg_class        bg_class                      Epoch used    total_points    correct    accuracy     FTPT     FFPT      FTPF       FFPF    avg_img > 0.5\n",
            "-------  --------------  --------------------------  ------------  --------------  ---------  ----------  -------  -------  --------  ---------  ---------------\n",
            "      1  fg = [0, 1, 2]  bg = [3, 4, 5, 6, 7, 8, 9]            43           30000      29672     98.9067  75.08    23.8267  1.07667   0.0166667            20098\n",
            "      2  fg = [0, 1, 2]  bg = [3, 4, 5, 6, 7, 8, 9]            42           30000      29721     99.07    71.6167  27.4533  0.903333  0.0266667            20078\n",
            "      3  fg = [0, 1, 2]  bg = [3, 4, 5, 6, 7, 8, 9]            52           30000      29837     99.4567  77.0867  22.37    0.52      0.0233333            20076\n",
            "      4  fg = [0, 1, 2]  bg = [3, 4, 5, 6, 7, 8, 9]            59           30000      29749     99.1633  76.6567  22.5067  0.823333  0.0133333            20126\n",
            "      5  fg = [0, 1, 2]  bg = [3, 4, 5, 6, 7, 8, 9]            46           30000      29805     99.35    85.6     13.75    0.62      0.03                 20696\n",
            "      6  fg = [0, 1, 2]  bg = [3, 4, 5, 6, 7, 8, 9]            44           30000      29800     99.3333  75.6533  23.68    0.626667  0.04                 20097\n",
            "      7  fg = [0, 1, 2]  bg = [3, 4, 5, 6, 7, 8, 9]            61           30000      29733     99.11    71.1667  27.9433  0.843333  0.0466667            20114\n",
            "      8  fg = [0, 1, 2]  bg = [3, 4, 5, 6, 7, 8, 9]            44           30000      29307     97.69    75.8833  21.8067  2.29333   0.0166667            20104\n",
            " \n",
            "================================================================================================================================================================\n",
            " \n",
            "================================================================================================================================================================\n",
            "  S.No.  fg_class        bg_class                    Epoch used      total_points    correct    accuracy    FTPT    FFPT    FTPF    FFPF    avg_img > 0.5\n",
            "-------  --------------  --------------------------  ------------  --------------  ---------  ----------  ------  ------  ------  ------  ---------------\n",
            "      1  fg = [0, 1, 2]  bg = [3, 4, 5, 6, 7, 8, 9]  NA                     10000       9781       97.81   74.32   23.49    2.15    0.04             6640\n",
            "      2  fg = [0, 1, 2]  bg = [3, 4, 5, 6, 7, 8, 9]  NA                     10000       9794       97.94   70.14   27.8     2.04    0.02             6616\n",
            "      3  fg = [0, 1, 2]  bg = [3, 4, 5, 6, 7, 8, 9]  NA                     10000       9863       98.63   76.5    22.13    1.34    0.03             6625\n",
            "      4  fg = [0, 1, 2]  bg = [3, 4, 5, 6, 7, 8, 9]  NA                     10000       9813       98.13   75.5    22.63    1.85    0.02             6650\n",
            "      5  fg = [0, 1, 2]  bg = [3, 4, 5, 6, 7, 8, 9]  NA                     10000       9909       99.09   84.85   14.24    0.9     0.01             6842\n",
            "      6  fg = [0, 1, 2]  bg = [3, 4, 5, 6, 7, 8, 9]  NA                     10000       9844       98.44   74.64   23.8     1.46    0.1              6636\n",
            "      7  fg = [0, 1, 2]  bg = [3, 4, 5, 6, 7, 8, 9]  NA                     10000       9812       98.12   69.74   28.38    1.84    0.04             6640\n",
            "      8  fg = [0, 1, 2]  bg = [3, 4, 5, 6, 7, 8, 9]  NA                     10000       9668       96.68   74.84   21.84    3.3     0.02             6632\n",
            " \n",
            "================================================================================================================================================================\n",
            " \n",
            "================================================================================================================================================================\n",
            "  S.No.  fg_class        bg_class                    Epoch used      total_points    correct    accuracy    FTPT    FFPT    FTPF    FFPF    avg_img > 0.5\n",
            "-------  --------------  --------------------------  ------------  --------------  ---------  ----------  ------  ------  ------  ------  ---------------\n",
            "      1  fg = [0, 1, 2]  bg = [3, 4, 5, 6, 7, 8, 9]  NA                     10000       9428       94.28   69.9    24.38    5.58    0.14             6564\n",
            "      2  fg = [0, 1, 2]  bg = [3, 4, 5, 6, 7, 8, 9]  NA                     10000       9422       94.22   66.15   28.07    5.64    0.14             6547\n",
            "      3  fg = [0, 1, 2]  bg = [3, 4, 5, 6, 7, 8, 9]  NA                     10000       9478       94.78   71.62   23.16    5.03    0.19             6565\n",
            "      4  fg = [0, 1, 2]  bg = [3, 4, 5, 6, 7, 8, 9]  NA                     10000       9461       94.61   72.11   22.5     5.3     0.09             6567\n",
            "      5  fg = [0, 1, 2]  bg = [3, 4, 5, 6, 7, 8, 9]  NA                     10000       9736       97.36   83.17   14.19    2.55    0.09             6811\n",
            "      6  fg = [0, 1, 2]  bg = [3, 4, 5, 6, 7, 8, 9]  NA                     10000       9508       95.08   70.37   24.71    4.76    0.16             6564\n",
            "      7  fg = [0, 1, 2]  bg = [3, 4, 5, 6, 7, 8, 9]  NA                     10000       9418       94.18   65.59   28.59    5.72    0.1              6581\n",
            "      8  fg = [0, 1, 2]  bg = [3, 4, 5, 6, 7, 8, 9]  NA                     10000       9370       93.7    71.34   22.36    6.2     0.1              6573\n",
            " \n",
            "================================================================================================================================================================\n",
            " \n",
            "================================================================================================================================================================\n",
            "  S.No.  fg_class        bg_class                    Epoch used      total_points    correct    accuracy    FTPT    FFPT    FTPF    FFPF    avg_img > 0.5\n",
            "-------  --------------  --------------------------  ------------  --------------  ---------  ----------  ------  ------  ------  ------  ---------------\n",
            "      1  fg = [0, 1, 2]  bg = [3, 4, 5, 6, 7, 8, 9]  NA                     10000       3394       33.94    5.02   28.92    7.44   58.62               36\n",
            "      2  fg = [0, 1, 2]  bg = [3, 4, 5, 6, 7, 8, 9]  NA                     10000       3389       33.89    5.57   28.32    4.51   61.6                24\n",
            "      3  fg = [0, 1, 2]  bg = [3, 4, 5, 6, 7, 8, 9]  NA                     10000       3394       33.94    5      28.94    4.09   61.97               38\n",
            "      4  fg = [0, 1, 2]  bg = [3, 4, 5, 6, 7, 8, 9]  NA                     10000       3396       33.96    6.41   27.55    4.08   61.96               31\n",
            "      5  fg = [0, 1, 2]  bg = [3, 4, 5, 6, 7, 8, 9]  NA                     10000       3435       34.35    5.91   28.44    8.86   56.79              264\n",
            "      6  fg = [0, 1, 2]  bg = [3, 4, 5, 6, 7, 8, 9]  NA                     10000       3400       34       5.93   28.07    4.75   61.25               33\n",
            "      7  fg = [0, 1, 2]  bg = [3, 4, 5, 6, 7, 8, 9]  NA                     10000       3398       33.98    5.53   28.45    4.35   61.67               17\n",
            "      8  fg = [0, 1, 2]  bg = [3, 4, 5, 6, 7, 8, 9]  NA                     10000       3400       34       5.78   28.22    4.24   61.76               32\n",
            " \n",
            "================================================================================================================================================================\n",
            " \n",
            "================================================================================================================================================================\n",
            "  S.No.  fg_class        bg_class                    Epoch used      total_points    correct    accuracy    FTPT    FFPT    FTPF    FFPF    avg_img > 0.5\n",
            "-------  --------------  --------------------------  ------------  --------------  ---------  ----------  ------  ------  ------  ------  ---------------\n",
            "      1  fg = [0, 1, 2]  bg = [3, 4, 5, 6, 7, 8, 9]  NA                     10000       3371       33.71    4.87   28.84    7.18   59.11               31\n",
            "      2  fg = [0, 1, 2]  bg = [3, 4, 5, 6, 7, 8, 9]  NA                     10000       3371       33.71    5.47   28.24    4.35   61.94               36\n",
            "      3  fg = [0, 1, 2]  bg = [3, 4, 5, 6, 7, 8, 9]  NA                     10000       3386       33.86    5.08   28.78    4.01   62.13               34\n",
            "      4  fg = [0, 1, 2]  bg = [3, 4, 5, 6, 7, 8, 9]  NA                     10000       3373       33.73    6.34   27.39    4.38   61.89               56\n",
            "      5  fg = [0, 1, 2]  bg = [3, 4, 5, 6, 7, 8, 9]  NA                     10000       3405       34.05    5.9    28.15    9.09   56.86              323\n",
            "      6  fg = [0, 1, 2]  bg = [3, 4, 5, 6, 7, 8, 9]  NA                     10000       3381       33.81    5.98   27.83    4.5    61.69               30\n",
            "      7  fg = [0, 1, 2]  bg = [3, 4, 5, 6, 7, 8, 9]  NA                     10000       3375       33.75    5.57   28.18    4.24   62.01               27\n",
            "      8  fg = [0, 1, 2]  bg = [3, 4, 5, 6, 7, 8, 9]  NA                     10000       3383       33.83    5.48   28.35    4.28   61.89               38\n",
            " \n",
            "================================================================================================================================================================\n",
            "[1,    40] loss: 1.101\n",
            "[1,    80] loss: 1.099\n",
            "[1,   120] loss: 1.099\n",
            "[2,    40] loss: 1.099\n",
            "[2,    80] loss: 1.099\n",
            "[2,   120] loss: 1.099\n",
            "[3,    40] loss: 1.099\n",
            "[3,    80] loss: 1.099\n",
            "[3,   120] loss: 1.098\n",
            "[4,    40] loss: 1.099\n",
            "[4,    80] loss: 1.098\n",
            "[4,   120] loss: 1.099\n",
            "[5,    40] loss: 1.099\n",
            "[5,    80] loss: 1.099\n",
            "[5,   120] loss: 1.099\n",
            "[6,    40] loss: 1.098\n",
            "[6,    80] loss: 1.098\n",
            "[6,   120] loss: 1.098\n",
            "[7,    40] loss: 1.098\n",
            "[7,    80] loss: 1.098\n",
            "[7,   120] loss: 1.098\n",
            "[8,    40] loss: 1.098\n",
            "[8,    80] loss: 1.098\n",
            "[8,   120] loss: 1.098\n",
            "[9,    40] loss: 1.098\n",
            "[9,    80] loss: 1.098\n",
            "[9,   120] loss: 1.098\n",
            "[10,    40] loss: 1.098\n",
            "[10,    80] loss: 1.097\n",
            "[10,   120] loss: 1.097\n",
            "[11,    40] loss: 1.096\n",
            "[11,    80] loss: 1.095\n",
            "[11,   120] loss: 1.094\n",
            "[12,    40] loss: 1.093\n",
            "[12,    80] loss: 1.090\n",
            "[12,   120] loss: 1.088\n",
            "[13,    40] loss: 1.086\n",
            "[13,    80] loss: 1.083\n",
            "[13,   120] loss: 1.082\n",
            "[14,    40] loss: 1.080\n",
            "[14,    80] loss: 1.079\n",
            "[14,   120] loss: 1.079\n",
            "[15,    40] loss: 1.078\n",
            "[15,    80] loss: 1.080\n",
            "[15,   120] loss: 1.073\n",
            "[16,    40] loss: 1.076\n",
            "[16,    80] loss: 1.073\n",
            "[16,   120] loss: 1.077\n",
            "[17,    40] loss: 1.076\n",
            "[17,    80] loss: 1.071\n",
            "[17,   120] loss: 1.070\n",
            "[18,    40] loss: 1.070\n",
            "[18,    80] loss: 1.066\n",
            "[18,   120] loss: 1.070\n",
            "[19,    40] loss: 1.066\n",
            "[19,    80] loss: 1.068\n",
            "[19,   120] loss: 1.061\n",
            "[20,    40] loss: 1.063\n",
            "[20,    80] loss: 1.060\n",
            "[20,   120] loss: 1.062\n",
            "[21,    40] loss: 1.064\n",
            "[21,    80] loss: 1.058\n",
            "[21,   120] loss: 1.051\n",
            "[22,    40] loss: 1.052\n",
            "[22,    80] loss: 1.051\n",
            "[22,   120] loss: 1.046\n",
            "[23,    40] loss: 1.046\n",
            "[23,    80] loss: 1.050\n",
            "[23,   120] loss: 1.046\n",
            "[24,    40] loss: 1.052\n",
            "[24,    80] loss: 1.042\n",
            "[24,   120] loss: 1.044\n",
            "[25,    40] loss: 1.039\n",
            "[25,    80] loss: 1.044\n",
            "[25,   120] loss: 1.038\n",
            "[26,    40] loss: 1.038\n",
            "[26,    80] loss: 1.039\n",
            "[26,   120] loss: 1.029\n",
            "[27,    40] loss: 1.024\n",
            "[27,    80] loss: 1.033\n",
            "[27,   120] loss: 1.012\n",
            "[28,    40] loss: 1.008\n",
            "[28,    80] loss: 1.005\n",
            "[28,   120] loss: 0.995\n",
            "[29,    40] loss: 0.990\n",
            "[29,    80] loss: 0.989\n",
            "[29,   120] loss: 0.984\n",
            "[30,    40] loss: 0.981\n",
            "[30,    80] loss: 0.965\n",
            "[30,   120] loss: 0.958\n",
            "[31,    40] loss: 0.947\n",
            "[31,    80] loss: 0.940\n",
            "[31,   120] loss: 0.910\n",
            "[32,    40] loss: 0.905\n",
            "[32,    80] loss: 0.885\n",
            "[32,   120] loss: 0.870\n",
            "[33,    40] loss: 0.852\n",
            "[33,    80] loss: 0.816\n",
            "[33,   120] loss: 0.814\n",
            "[34,    40] loss: 0.734\n",
            "[34,    80] loss: 0.698\n",
            "[34,   120] loss: 0.618\n",
            "[35,    40] loss: 0.463\n",
            "[35,    80] loss: 0.441\n",
            "[35,   120] loss: 0.298\n",
            "[36,    40] loss: 0.327\n",
            "[36,    80] loss: 0.280\n",
            "[36,   120] loss: 0.259\n",
            "[37,    40] loss: 0.186\n",
            "[37,    80] loss: 0.135\n",
            "[37,   120] loss: 0.144\n",
            "[38,    40] loss: 0.390\n",
            "[38,    80] loss: 0.292\n",
            "[38,   120] loss: 0.144\n",
            "[39,    40] loss: 0.182\n",
            "[39,    80] loss: 0.134\n",
            "[39,   120] loss: 0.119\n",
            "[40,    40] loss: 0.199\n",
            "[40,    80] loss: 0.099\n",
            "[40,   120] loss: 0.082\n",
            "[41,    40] loss: 0.066\n",
            "[41,    80] loss: 0.075\n",
            "[41,   120] loss: 0.125\n",
            "[42,    40] loss: 0.076\n",
            "[42,    80] loss: 0.058\n",
            "[42,   120] loss: 0.244\n",
            "[43,    40] loss: 0.095\n",
            "[43,    80] loss: 0.058\n",
            "[43,   120] loss: 0.059\n",
            "[44,    40] loss: 0.158\n",
            "[44,    80] loss: 0.049\n",
            "[44,   120] loss: 0.048\n",
            "[45,    40] loss: 0.042\n",
            "[45,    80] loss: 0.045\n",
            "[45,   120] loss: 0.035\n",
            "Finished Training\n",
            " \n",
            "================================================================================================================================================================\n",
            "  S.No.  fg_class        bg_class                      Epoch used    total_points    correct    accuracy     FTPT     FFPT      FTPF       FFPF    avg_img > 0.5\n",
            "-------  --------------  --------------------------  ------------  --------------  ---------  ----------  -------  -------  --------  ---------  ---------------\n",
            "      1  fg = [0, 1, 2]  bg = [3, 4, 5, 6, 7, 8, 9]            43           30000      29672     98.9067  75.08    23.8267  1.07667   0.0166667            20098\n",
            "      2  fg = [0, 1, 2]  bg = [3, 4, 5, 6, 7, 8, 9]            42           30000      29721     99.07    71.6167  27.4533  0.903333  0.0266667            20078\n",
            "      3  fg = [0, 1, 2]  bg = [3, 4, 5, 6, 7, 8, 9]            52           30000      29837     99.4567  77.0867  22.37    0.52      0.0233333            20076\n",
            "      4  fg = [0, 1, 2]  bg = [3, 4, 5, 6, 7, 8, 9]            59           30000      29749     99.1633  76.6567  22.5067  0.823333  0.0133333            20126\n",
            "      5  fg = [0, 1, 2]  bg = [3, 4, 5, 6, 7, 8, 9]            46           30000      29805     99.35    85.6     13.75    0.62      0.03                 20696\n",
            "      6  fg = [0, 1, 2]  bg = [3, 4, 5, 6, 7, 8, 9]            44           30000      29800     99.3333  75.6533  23.68    0.626667  0.04                 20097\n",
            "      7  fg = [0, 1, 2]  bg = [3, 4, 5, 6, 7, 8, 9]            61           30000      29733     99.11    71.1667  27.9433  0.843333  0.0466667            20114\n",
            "      8  fg = [0, 1, 2]  bg = [3, 4, 5, 6, 7, 8, 9]            44           30000      29307     97.69    75.8833  21.8067  2.29333   0.0166667            20104\n",
            "      9  fg = [0, 1, 2]  bg = [3, 4, 5, 6, 7, 8, 9]            44           30000      29807     99.3567  74.5267  24.83    0.54      0.103333             20031\n",
            " \n",
            "================================================================================================================================================================\n",
            " \n",
            "================================================================================================================================================================\n",
            "  S.No.  fg_class        bg_class                    Epoch used      total_points    correct    accuracy    FTPT    FFPT    FTPF    FFPF    avg_img > 0.5\n",
            "-------  --------------  --------------------------  ------------  --------------  ---------  ----------  ------  ------  ------  ------  ---------------\n",
            "      1  fg = [0, 1, 2]  bg = [3, 4, 5, 6, 7, 8, 9]  NA                     10000       9781       97.81   74.32   23.49    2.15    0.04             6640\n",
            "      2  fg = [0, 1, 2]  bg = [3, 4, 5, 6, 7, 8, 9]  NA                     10000       9794       97.94   70.14   27.8     2.04    0.02             6616\n",
            "      3  fg = [0, 1, 2]  bg = [3, 4, 5, 6, 7, 8, 9]  NA                     10000       9863       98.63   76.5    22.13    1.34    0.03             6625\n",
            "      4  fg = [0, 1, 2]  bg = [3, 4, 5, 6, 7, 8, 9]  NA                     10000       9813       98.13   75.5    22.63    1.85    0.02             6650\n",
            "      5  fg = [0, 1, 2]  bg = [3, 4, 5, 6, 7, 8, 9]  NA                     10000       9909       99.09   84.85   14.24    0.9     0.01             6842\n",
            "      6  fg = [0, 1, 2]  bg = [3, 4, 5, 6, 7, 8, 9]  NA                     10000       9844       98.44   74.64   23.8     1.46    0.1              6636\n",
            "      7  fg = [0, 1, 2]  bg = [3, 4, 5, 6, 7, 8, 9]  NA                     10000       9812       98.12   69.74   28.38    1.84    0.04             6640\n",
            "      8  fg = [0, 1, 2]  bg = [3, 4, 5, 6, 7, 8, 9]  NA                     10000       9668       96.68   74.84   21.84    3.3     0.02             6632\n",
            "      9  fg = [0, 1, 2]  bg = [3, 4, 5, 6, 7, 8, 9]  NA                     10000       9822       98.22   73.36   24.86    1.59    0.19             6607\n",
            " \n",
            "================================================================================================================================================================\n",
            " \n",
            "================================================================================================================================================================\n",
            "  S.No.  fg_class        bg_class                    Epoch used      total_points    correct    accuracy    FTPT    FFPT    FTPF    FFPF    avg_img > 0.5\n",
            "-------  --------------  --------------------------  ------------  --------------  ---------  ----------  ------  ------  ------  ------  ---------------\n",
            "      1  fg = [0, 1, 2]  bg = [3, 4, 5, 6, 7, 8, 9]  NA                     10000       9428       94.28   69.9    24.38    5.58    0.14             6564\n",
            "      2  fg = [0, 1, 2]  bg = [3, 4, 5, 6, 7, 8, 9]  NA                     10000       9422       94.22   66.15   28.07    5.64    0.14             6547\n",
            "      3  fg = [0, 1, 2]  bg = [3, 4, 5, 6, 7, 8, 9]  NA                     10000       9478       94.78   71.62   23.16    5.03    0.19             6565\n",
            "      4  fg = [0, 1, 2]  bg = [3, 4, 5, 6, 7, 8, 9]  NA                     10000       9461       94.61   72.11   22.5     5.3     0.09             6567\n",
            "      5  fg = [0, 1, 2]  bg = [3, 4, 5, 6, 7, 8, 9]  NA                     10000       9736       97.36   83.17   14.19    2.55    0.09             6811\n",
            "      6  fg = [0, 1, 2]  bg = [3, 4, 5, 6, 7, 8, 9]  NA                     10000       9508       95.08   70.37   24.71    4.76    0.16             6564\n",
            "      7  fg = [0, 1, 2]  bg = [3, 4, 5, 6, 7, 8, 9]  NA                     10000       9418       94.18   65.59   28.59    5.72    0.1              6581\n",
            "      8  fg = [0, 1, 2]  bg = [3, 4, 5, 6, 7, 8, 9]  NA                     10000       9370       93.7    71.34   22.36    6.2     0.1              6573\n",
            "      9  fg = [0, 1, 2]  bg = [3, 4, 5, 6, 7, 8, 9]  NA                     10000       9469       94.69   69.03   25.66    5.13    0.18             6530\n",
            " \n",
            "================================================================================================================================================================\n",
            " \n",
            "================================================================================================================================================================\n",
            "  S.No.  fg_class        bg_class                    Epoch used      total_points    correct    accuracy    FTPT    FFPT    FTPF    FFPF    avg_img > 0.5\n",
            "-------  --------------  --------------------------  ------------  --------------  ---------  ----------  ------  ------  ------  ------  ---------------\n",
            "      1  fg = [0, 1, 2]  bg = [3, 4, 5, 6, 7, 8, 9]  NA                     10000       3394       33.94    5.02   28.92    7.44   58.62               36\n",
            "      2  fg = [0, 1, 2]  bg = [3, 4, 5, 6, 7, 8, 9]  NA                     10000       3389       33.89    5.57   28.32    4.51   61.6                24\n",
            "      3  fg = [0, 1, 2]  bg = [3, 4, 5, 6, 7, 8, 9]  NA                     10000       3394       33.94    5      28.94    4.09   61.97               38\n",
            "      4  fg = [0, 1, 2]  bg = [3, 4, 5, 6, 7, 8, 9]  NA                     10000       3396       33.96    6.41   27.55    4.08   61.96               31\n",
            "      5  fg = [0, 1, 2]  bg = [3, 4, 5, 6, 7, 8, 9]  NA                     10000       3435       34.35    5.91   28.44    8.86   56.79              264\n",
            "      6  fg = [0, 1, 2]  bg = [3, 4, 5, 6, 7, 8, 9]  NA                     10000       3400       34       5.93   28.07    4.75   61.25               33\n",
            "      7  fg = [0, 1, 2]  bg = [3, 4, 5, 6, 7, 8, 9]  NA                     10000       3398       33.98    5.53   28.45    4.35   61.67               17\n",
            "      8  fg = [0, 1, 2]  bg = [3, 4, 5, 6, 7, 8, 9]  NA                     10000       3400       34       5.78   28.22    4.24   61.76               32\n",
            "      9  fg = [0, 1, 2]  bg = [3, 4, 5, 6, 7, 8, 9]  NA                     10000       3404       34.04    5.68   28.36    4.81   61.15               28\n",
            " \n",
            "================================================================================================================================================================\n",
            " \n",
            "================================================================================================================================================================\n",
            "  S.No.  fg_class        bg_class                    Epoch used      total_points    correct    accuracy    FTPT    FFPT    FTPF    FFPF    avg_img > 0.5\n",
            "-------  --------------  --------------------------  ------------  --------------  ---------  ----------  ------  ------  ------  ------  ---------------\n",
            "      1  fg = [0, 1, 2]  bg = [3, 4, 5, 6, 7, 8, 9]  NA                     10000       3371       33.71    4.87   28.84    7.18   59.11               31\n",
            "      2  fg = [0, 1, 2]  bg = [3, 4, 5, 6, 7, 8, 9]  NA                     10000       3371       33.71    5.47   28.24    4.35   61.94               36\n",
            "      3  fg = [0, 1, 2]  bg = [3, 4, 5, 6, 7, 8, 9]  NA                     10000       3386       33.86    5.08   28.78    4.01   62.13               34\n",
            "      4  fg = [0, 1, 2]  bg = [3, 4, 5, 6, 7, 8, 9]  NA                     10000       3373       33.73    6.34   27.39    4.38   61.89               56\n",
            "      5  fg = [0, 1, 2]  bg = [3, 4, 5, 6, 7, 8, 9]  NA                     10000       3405       34.05    5.9    28.15    9.09   56.86              323\n",
            "      6  fg = [0, 1, 2]  bg = [3, 4, 5, 6, 7, 8, 9]  NA                     10000       3381       33.81    5.98   27.83    4.5    61.69               30\n",
            "      7  fg = [0, 1, 2]  bg = [3, 4, 5, 6, 7, 8, 9]  NA                     10000       3375       33.75    5.57   28.18    4.24   62.01               27\n",
            "      8  fg = [0, 1, 2]  bg = [3, 4, 5, 6, 7, 8, 9]  NA                     10000       3383       33.83    5.48   28.35    4.28   61.89               38\n",
            "      9  fg = [0, 1, 2]  bg = [3, 4, 5, 6, 7, 8, 9]  NA                     10000       3385       33.85    5.31   28.54    4.71   61.44               17\n",
            " \n",
            "================================================================================================================================================================\n",
            "[1,    40] loss: 1.103\n",
            "[1,    80] loss: 1.099\n",
            "[1,   120] loss: 1.099\n",
            "[2,    40] loss: 1.099\n",
            "[2,    80] loss: 1.098\n",
            "[2,   120] loss: 1.099\n",
            "[3,    40] loss: 1.099\n",
            "[3,    80] loss: 1.099\n",
            "[3,   120] loss: 1.099\n",
            "[4,    40] loss: 1.098\n",
            "[4,    80] loss: 1.099\n",
            "[4,   120] loss: 1.099\n",
            "[5,    40] loss: 1.099\n",
            "[5,    80] loss: 1.099\n",
            "[5,   120] loss: 1.099\n",
            "[6,    40] loss: 1.098\n",
            "[6,    80] loss: 1.098\n",
            "[6,   120] loss: 1.099\n",
            "[7,    40] loss: 1.098\n",
            "[7,    80] loss: 1.099\n",
            "[7,   120] loss: 1.098\n",
            "[8,    40] loss: 1.099\n",
            "[8,    80] loss: 1.098\n",
            "[8,   120] loss: 1.098\n",
            "[9,    40] loss: 1.098\n",
            "[9,    80] loss: 1.098\n",
            "[9,   120] loss: 1.098\n",
            "[10,    40] loss: 1.098\n",
            "[10,    80] loss: 1.098\n",
            "[10,   120] loss: 1.098\n",
            "[11,    40] loss: 1.098\n",
            "[11,    80] loss: 1.098\n",
            "[11,   120] loss: 1.098\n",
            "[12,    40] loss: 1.098\n",
            "[12,    80] loss: 1.098\n",
            "[12,   120] loss: 1.097\n",
            "[13,    40] loss: 1.097\n",
            "[13,    80] loss: 1.097\n",
            "[13,   120] loss: 1.097\n",
            "[14,    40] loss: 1.096\n",
            "[14,    80] loss: 1.095\n",
            "[14,   120] loss: 1.095\n",
            "[15,    40] loss: 1.094\n",
            "[15,    80] loss: 1.094\n",
            "[15,   120] loss: 1.091\n",
            "[16,    40] loss: 1.091\n",
            "[16,    80] loss: 1.090\n",
            "[16,   120] loss: 1.090\n",
            "[17,    40] loss: 1.089\n",
            "[17,    80] loss: 1.087\n",
            "[17,   120] loss: 1.087\n",
            "[18,    40] loss: 1.087\n",
            "[18,    80] loss: 1.085\n",
            "[18,   120] loss: 1.082\n",
            "[19,    40] loss: 1.081\n",
            "[19,    80] loss: 1.084\n",
            "[19,   120] loss: 1.081\n",
            "[20,    40] loss: 1.079\n",
            "[20,    80] loss: 1.080\n",
            "[20,   120] loss: 1.080\n",
            "[21,    40] loss: 1.079\n",
            "[21,    80] loss: 1.079\n",
            "[21,   120] loss: 1.075\n",
            "[22,    40] loss: 1.074\n",
            "[22,    80] loss: 1.074\n",
            "[22,   120] loss: 1.073\n",
            "[23,    40] loss: 1.069\n",
            "[23,    80] loss: 1.069\n",
            "[23,   120] loss: 1.069\n",
            "[24,    40] loss: 1.063\n",
            "[24,    80] loss: 1.068\n",
            "[24,   120] loss: 1.062\n",
            "[25,    40] loss: 1.059\n",
            "[25,    80] loss: 1.058\n",
            "[25,   120] loss: 1.061\n",
            "[26,    40] loss: 1.052\n",
            "[26,    80] loss: 1.053\n",
            "[26,   120] loss: 1.050\n",
            "[27,    40] loss: 1.044\n",
            "[27,    80] loss: 1.043\n",
            "[27,   120] loss: 1.042\n",
            "[28,    40] loss: 1.032\n",
            "[28,    80] loss: 1.033\n",
            "[28,   120] loss: 1.028\n",
            "[29,    40] loss: 1.020\n",
            "[29,    80] loss: 1.026\n",
            "[29,   120] loss: 1.017\n",
            "[30,    40] loss: 1.012\n",
            "[30,    80] loss: 1.006\n",
            "[30,   120] loss: 1.007\n",
            "[31,    40] loss: 0.991\n",
            "[31,    80] loss: 0.986\n",
            "[31,   120] loss: 0.990\n",
            "[32,    40] loss: 0.982\n",
            "[32,    80] loss: 0.959\n",
            "[32,   120] loss: 0.969\n",
            "[33,    40] loss: 0.958\n",
            "[33,    80] loss: 0.926\n",
            "[33,   120] loss: 0.917\n",
            "[34,    40] loss: 0.901\n",
            "[34,    80] loss: 0.896\n",
            "[34,   120] loss: 0.849\n",
            "[35,    40] loss: 0.894\n",
            "[35,    80] loss: 0.827\n",
            "[35,   120] loss: 0.755\n",
            "[36,    40] loss: 0.610\n",
            "[36,    80] loss: 0.995\n",
            "[36,   120] loss: 1.050\n",
            "[37,    40] loss: 1.033\n",
            "[37,    80] loss: 0.995\n",
            "[37,   120] loss: 0.563\n",
            "[38,    40] loss: 0.670\n",
            "[38,    80] loss: 1.038\n",
            "[38,   120] loss: 0.699\n",
            "[39,    40] loss: 0.367\n",
            "[39,    80] loss: 0.282\n",
            "[39,   120] loss: 0.581\n",
            "[40,    40] loss: 0.211\n",
            "[40,    80] loss: 0.913\n",
            "[40,   120] loss: 1.036\n",
            "[41,    40] loss: 1.008\n",
            "[41,    80] loss: 0.981\n",
            "[41,   120] loss: 0.655\n",
            "[42,    40] loss: 0.190\n",
            "[42,    80] loss: 0.256\n",
            "[42,   120] loss: 0.203\n",
            "[43,    40] loss: 0.132\n",
            "[43,    80] loss: 0.302\n",
            "[43,   120] loss: 0.184\n",
            "[44,    40] loss: 0.140\n",
            "[44,    80] loss: 0.160\n",
            "[44,   120] loss: 0.162\n",
            "[45,    40] loss: 0.106\n",
            "[45,    80] loss: 0.253\n",
            "[45,   120] loss: 0.133\n",
            "[46,    40] loss: 0.088\n",
            "[46,    80] loss: 0.085\n",
            "[46,   120] loss: 0.082\n",
            "[47,    40] loss: 0.075\n",
            "[47,    80] loss: 0.200\n",
            "[47,   120] loss: 1.115\n",
            "[48,    40] loss: 1.036\n",
            "[48,    80] loss: 0.865\n",
            "[48,   120] loss: 0.158\n",
            "[49,    40] loss: 0.076\n",
            "[49,    80] loss: 0.070\n",
            "[49,   120] loss: 0.110\n",
            "[50,    40] loss: 0.066\n",
            "[50,    80] loss: 0.053\n",
            "[50,   120] loss: 0.251\n",
            "[51,    40] loss: 0.257\n",
            "[51,    80] loss: 0.072\n",
            "[51,   120] loss: 0.068\n",
            "[52,    40] loss: 0.045\n",
            "[52,    80] loss: 0.057\n",
            "[52,   120] loss: 0.053\n",
            "[53,    40] loss: 0.034\n",
            "[53,    80] loss: 0.028\n",
            "[53,   120] loss: 0.032\n",
            "Finished Training\n",
            " \n",
            "================================================================================================================================================================\n",
            "  S.No.  fg_class        bg_class                      Epoch used    total_points    correct    accuracy     FTPT     FFPT      FTPF       FFPF    avg_img > 0.5\n",
            "-------  --------------  --------------------------  ------------  --------------  ---------  ----------  -------  -------  --------  ---------  ---------------\n",
            "      1  fg = [0, 1, 2]  bg = [3, 4, 5, 6, 7, 8, 9]            43           30000      29672     98.9067  75.08    23.8267  1.07667   0.0166667            20098\n",
            "      2  fg = [0, 1, 2]  bg = [3, 4, 5, 6, 7, 8, 9]            42           30000      29721     99.07    71.6167  27.4533  0.903333  0.0266667            20078\n",
            "      3  fg = [0, 1, 2]  bg = [3, 4, 5, 6, 7, 8, 9]            52           30000      29837     99.4567  77.0867  22.37    0.52      0.0233333            20076\n",
            "      4  fg = [0, 1, 2]  bg = [3, 4, 5, 6, 7, 8, 9]            59           30000      29749     99.1633  76.6567  22.5067  0.823333  0.0133333            20126\n",
            "      5  fg = [0, 1, 2]  bg = [3, 4, 5, 6, 7, 8, 9]            46           30000      29805     99.35    85.6     13.75    0.62      0.03                 20696\n",
            "      6  fg = [0, 1, 2]  bg = [3, 4, 5, 6, 7, 8, 9]            44           30000      29800     99.3333  75.6533  23.68    0.626667  0.04                 20097\n",
            "      7  fg = [0, 1, 2]  bg = [3, 4, 5, 6, 7, 8, 9]            61           30000      29733     99.11    71.1667  27.9433  0.843333  0.0466667            20114\n",
            "      8  fg = [0, 1, 2]  bg = [3, 4, 5, 6, 7, 8, 9]            44           30000      29307     97.69    75.8833  21.8067  2.29333   0.0166667            20104\n",
            "      9  fg = [0, 1, 2]  bg = [3, 4, 5, 6, 7, 8, 9]            44           30000      29807     99.3567  74.5267  24.83    0.54      0.103333             20031\n",
            "     10  fg = [0, 1, 2]  bg = [3, 4, 5, 6, 7, 8, 9]            52           30000      29793     99.31    75.2533  24.0567  0.653333  0.0366667            20171\n",
            " \n",
            "================================================================================================================================================================\n",
            " \n",
            "================================================================================================================================================================\n",
            "  S.No.  fg_class        bg_class                    Epoch used      total_points    correct    accuracy    FTPT    FFPT    FTPF    FFPF    avg_img > 0.5\n",
            "-------  --------------  --------------------------  ------------  --------------  ---------  ----------  ------  ------  ------  ------  ---------------\n",
            "      1  fg = [0, 1, 2]  bg = [3, 4, 5, 6, 7, 8, 9]  NA                     10000       9781       97.81   74.32   23.49    2.15    0.04             6640\n",
            "      2  fg = [0, 1, 2]  bg = [3, 4, 5, 6, 7, 8, 9]  NA                     10000       9794       97.94   70.14   27.8     2.04    0.02             6616\n",
            "      3  fg = [0, 1, 2]  bg = [3, 4, 5, 6, 7, 8, 9]  NA                     10000       9863       98.63   76.5    22.13    1.34    0.03             6625\n",
            "      4  fg = [0, 1, 2]  bg = [3, 4, 5, 6, 7, 8, 9]  NA                     10000       9813       98.13   75.5    22.63    1.85    0.02             6650\n",
            "      5  fg = [0, 1, 2]  bg = [3, 4, 5, 6, 7, 8, 9]  NA                     10000       9909       99.09   84.85   14.24    0.9     0.01             6842\n",
            "      6  fg = [0, 1, 2]  bg = [3, 4, 5, 6, 7, 8, 9]  NA                     10000       9844       98.44   74.64   23.8     1.46    0.1              6636\n",
            "      7  fg = [0, 1, 2]  bg = [3, 4, 5, 6, 7, 8, 9]  NA                     10000       9812       98.12   69.74   28.38    1.84    0.04             6640\n",
            "      8  fg = [0, 1, 2]  bg = [3, 4, 5, 6, 7, 8, 9]  NA                     10000       9668       96.68   74.84   21.84    3.3     0.02             6632\n",
            "      9  fg = [0, 1, 2]  bg = [3, 4, 5, 6, 7, 8, 9]  NA                     10000       9822       98.22   73.36   24.86    1.59    0.19             6607\n",
            "     10  fg = [0, 1, 2]  bg = [3, 4, 5, 6, 7, 8, 9]  NA                     10000       9851       98.51   74.63   23.88    1.45    0.04             6655\n",
            " \n",
            "================================================================================================================================================================\n",
            " \n",
            "================================================================================================================================================================\n",
            "  S.No.  fg_class        bg_class                    Epoch used      total_points    correct    accuracy    FTPT    FFPT    FTPF    FFPF    avg_img > 0.5\n",
            "-------  --------------  --------------------------  ------------  --------------  ---------  ----------  ------  ------  ------  ------  ---------------\n",
            "      1  fg = [0, 1, 2]  bg = [3, 4, 5, 6, 7, 8, 9]  NA                     10000       9428       94.28   69.9    24.38    5.58    0.14             6564\n",
            "      2  fg = [0, 1, 2]  bg = [3, 4, 5, 6, 7, 8, 9]  NA                     10000       9422       94.22   66.15   28.07    5.64    0.14             6547\n",
            "      3  fg = [0, 1, 2]  bg = [3, 4, 5, 6, 7, 8, 9]  NA                     10000       9478       94.78   71.62   23.16    5.03    0.19             6565\n",
            "      4  fg = [0, 1, 2]  bg = [3, 4, 5, 6, 7, 8, 9]  NA                     10000       9461       94.61   72.11   22.5     5.3     0.09             6567\n",
            "      5  fg = [0, 1, 2]  bg = [3, 4, 5, 6, 7, 8, 9]  NA                     10000       9736       97.36   83.17   14.19    2.55    0.09             6811\n",
            "      6  fg = [0, 1, 2]  bg = [3, 4, 5, 6, 7, 8, 9]  NA                     10000       9508       95.08   70.37   24.71    4.76    0.16             6564\n",
            "      7  fg = [0, 1, 2]  bg = [3, 4, 5, 6, 7, 8, 9]  NA                     10000       9418       94.18   65.59   28.59    5.72    0.1              6581\n",
            "      8  fg = [0, 1, 2]  bg = [3, 4, 5, 6, 7, 8, 9]  NA                     10000       9370       93.7    71.34   22.36    6.2     0.1              6573\n",
            "      9  fg = [0, 1, 2]  bg = [3, 4, 5, 6, 7, 8, 9]  NA                     10000       9469       94.69   69.03   25.66    5.13    0.18             6530\n",
            "     10  fg = [0, 1, 2]  bg = [3, 4, 5, 6, 7, 8, 9]  NA                     10000       9577       95.77   70.75   25.02    4.14    0.09             6566\n",
            " \n",
            "================================================================================================================================================================\n",
            " \n",
            "================================================================================================================================================================\n",
            "  S.No.  fg_class        bg_class                    Epoch used      total_points    correct    accuracy    FTPT    FFPT    FTPF    FFPF    avg_img > 0.5\n",
            "-------  --------------  --------------------------  ------------  --------------  ---------  ----------  ------  ------  ------  ------  ---------------\n",
            "      1  fg = [0, 1, 2]  bg = [3, 4, 5, 6, 7, 8, 9]  NA                     10000       3394       33.94    5.02   28.92    7.44   58.62               36\n",
            "      2  fg = [0, 1, 2]  bg = [3, 4, 5, 6, 7, 8, 9]  NA                     10000       3389       33.89    5.57   28.32    4.51   61.6                24\n",
            "      3  fg = [0, 1, 2]  bg = [3, 4, 5, 6, 7, 8, 9]  NA                     10000       3394       33.94    5      28.94    4.09   61.97               38\n",
            "      4  fg = [0, 1, 2]  bg = [3, 4, 5, 6, 7, 8, 9]  NA                     10000       3396       33.96    6.41   27.55    4.08   61.96               31\n",
            "      5  fg = [0, 1, 2]  bg = [3, 4, 5, 6, 7, 8, 9]  NA                     10000       3435       34.35    5.91   28.44    8.86   56.79              264\n",
            "      6  fg = [0, 1, 2]  bg = [3, 4, 5, 6, 7, 8, 9]  NA                     10000       3400       34       5.93   28.07    4.75   61.25               33\n",
            "      7  fg = [0, 1, 2]  bg = [3, 4, 5, 6, 7, 8, 9]  NA                     10000       3398       33.98    5.53   28.45    4.35   61.67               17\n",
            "      8  fg = [0, 1, 2]  bg = [3, 4, 5, 6, 7, 8, 9]  NA                     10000       3400       34       5.78   28.22    4.24   61.76               32\n",
            "      9  fg = [0, 1, 2]  bg = [3, 4, 5, 6, 7, 8, 9]  NA                     10000       3404       34.04    5.68   28.36    4.81   61.15               28\n",
            "     10  fg = [0, 1, 2]  bg = [3, 4, 5, 6, 7, 8, 9]  NA                     10000       3411       34.11    6.23   27.88    4.46   61.43               69\n",
            " \n",
            "================================================================================================================================================================\n",
            " \n",
            "================================================================================================================================================================\n",
            "  S.No.  fg_class        bg_class                    Epoch used      total_points    correct    accuracy    FTPT    FFPT    FTPF    FFPF    avg_img > 0.5\n",
            "-------  --------------  --------------------------  ------------  --------------  ---------  ----------  ------  ------  ------  ------  ---------------\n",
            "      1  fg = [0, 1, 2]  bg = [3, 4, 5, 6, 7, 8, 9]  NA                     10000       3371       33.71    4.87   28.84    7.18   59.11               31\n",
            "      2  fg = [0, 1, 2]  bg = [3, 4, 5, 6, 7, 8, 9]  NA                     10000       3371       33.71    5.47   28.24    4.35   61.94               36\n",
            "      3  fg = [0, 1, 2]  bg = [3, 4, 5, 6, 7, 8, 9]  NA                     10000       3386       33.86    5.08   28.78    4.01   62.13               34\n",
            "      4  fg = [0, 1, 2]  bg = [3, 4, 5, 6, 7, 8, 9]  NA                     10000       3373       33.73    6.34   27.39    4.38   61.89               56\n",
            "      5  fg = [0, 1, 2]  bg = [3, 4, 5, 6, 7, 8, 9]  NA                     10000       3405       34.05    5.9    28.15    9.09   56.86              323\n",
            "      6  fg = [0, 1, 2]  bg = [3, 4, 5, 6, 7, 8, 9]  NA                     10000       3381       33.81    5.98   27.83    4.5    61.69               30\n",
            "      7  fg = [0, 1, 2]  bg = [3, 4, 5, 6, 7, 8, 9]  NA                     10000       3375       33.75    5.57   28.18    4.24   62.01               27\n",
            "      8  fg = [0, 1, 2]  bg = [3, 4, 5, 6, 7, 8, 9]  NA                     10000       3383       33.83    5.48   28.35    4.28   61.89               38\n",
            "      9  fg = [0, 1, 2]  bg = [3, 4, 5, 6, 7, 8, 9]  NA                     10000       3385       33.85    5.31   28.54    4.71   61.44               17\n",
            "     10  fg = [0, 1, 2]  bg = [3, 4, 5, 6, 7, 8, 9]  NA                     10000       3383       33.83    5.42   28.41    5.15   61.02               63\n",
            " \n",
            "================================================================================================================================================================\n"
          ],
          "name": "stdout"
        }
      ]
    },
    {
      "cell_type": "code",
      "metadata": {
        "id": "kloPmAalgpIz",
        "outputId": "55eb798c-707f-427c-f9b8-124b898123d4",
        "colab": {
          "base_uri": "https://localhost:8080/",
          "height": 335
        }
      },
      "source": [
        "train_table = add_average_entry(train_table)"
      ],
      "execution_count": 79,
      "outputs": [
        {
          "output_type": "stream",
          "text": [
            " \n",
            "================================================================================================================================================================\n",
            "S.No.    fg_class        bg_class                    Epoch used    total_points    correct      accuracy     FTPT     FFPT      FTPF       FFPF    avg_img > 0.5\n",
            "-------  --------------  --------------------------  ------------  --------------  ---------  ----------  -------  -------  --------  ---------  ---------------\n",
            "1        fg = [0, 1, 2]  bg = [3, 4, 5, 6, 7, 8, 9]  43            30000           29672         98.9067  75.08    23.8267  1.07667   0.0166667          20098\n",
            "2        fg = [0, 1, 2]  bg = [3, 4, 5, 6, 7, 8, 9]  42            30000           29721         99.07    71.6167  27.4533  0.903333  0.0266667          20078\n",
            "3        fg = [0, 1, 2]  bg = [3, 4, 5, 6, 7, 8, 9]  52            30000           29837         99.4567  77.0867  22.37    0.52      0.0233333          20076\n",
            "4        fg = [0, 1, 2]  bg = [3, 4, 5, 6, 7, 8, 9]  59            30000           29749         99.1633  76.6567  22.5067  0.823333  0.0133333          20126\n",
            "5        fg = [0, 1, 2]  bg = [3, 4, 5, 6, 7, 8, 9]  46            30000           29805         99.35    85.6     13.75    0.62      0.03               20696\n",
            "6        fg = [0, 1, 2]  bg = [3, 4, 5, 6, 7, 8, 9]  44            30000           29800         99.3333  75.6533  23.68    0.626667  0.04               20097\n",
            "7        fg = [0, 1, 2]  bg = [3, 4, 5, 6, 7, 8, 9]  61            30000           29733         99.11    71.1667  27.9433  0.843333  0.0466667          20114\n",
            "8        fg = [0, 1, 2]  bg = [3, 4, 5, 6, 7, 8, 9]  44            30000           29307         97.69    75.8833  21.8067  2.29333   0.0166667          20104\n",
            "9        fg = [0, 1, 2]  bg = [3, 4, 5, 6, 7, 8, 9]  44            30000           29807         99.3567  74.5267  24.83    0.54      0.103333           20031\n",
            "10       fg = [0, 1, 2]  bg = [3, 4, 5, 6, 7, 8, 9]  52            30000           29793         99.31    75.2533  24.0567  0.653333  0.0366667          20171\n",
            "Avg                                                                                              99.0747  75.8523  23.2223  0.89      0.0353333          20159.1\n",
            " \n",
            "================================================================================================================================================================\n"
          ],
          "name": "stdout"
        }
      ]
    },
    {
      "cell_type": "code",
      "metadata": {
        "id": "00KPkU7EhPJj",
        "outputId": "c716d641-3335-4b0e-a4ab-1d07b567a93e",
        "colab": {
          "base_uri": "https://localhost:8080/",
          "height": 335
        }
      },
      "source": [
        "test_table1 = add_average_entry(test_table1)"
      ],
      "execution_count": 80,
      "outputs": [
        {
          "output_type": "stream",
          "text": [
            " \n",
            "================================================================================================================================================================\n",
            "S.No.    fg_class        bg_class                    Epoch used    total_points    correct      accuracy     FTPT     FFPT    FTPF       FFPF    avg_img > 0.5\n",
            "-------  --------------  --------------------------  ------------  --------------  ---------  ----------  -------  -------  ------  ---------  ---------------\n",
            "1        fg = [0, 1, 2]  bg = [3, 4, 5, 6, 7, 8, 9]  NA            10000           9781          97.81    74.32    23.49      2.15  0.04                6640\n",
            "2        fg = [0, 1, 2]  bg = [3, 4, 5, 6, 7, 8, 9]  NA            10000           9794          97.94    70.14    27.8       2.04  0.02                6616\n",
            "3        fg = [0, 1, 2]  bg = [3, 4, 5, 6, 7, 8, 9]  NA            10000           9863          98.63    76.5     22.13      1.34  0.03                6625\n",
            "4        fg = [0, 1, 2]  bg = [3, 4, 5, 6, 7, 8, 9]  NA            10000           9813          98.13    75.5     22.63      1.85  0.02                6650\n",
            "5        fg = [0, 1, 2]  bg = [3, 4, 5, 6, 7, 8, 9]  NA            10000           9909          99.09    84.85    14.24      0.9   0.01                6842\n",
            "6        fg = [0, 1, 2]  bg = [3, 4, 5, 6, 7, 8, 9]  NA            10000           9844          98.44    74.64    23.8       1.46  0.1                 6636\n",
            "7        fg = [0, 1, 2]  bg = [3, 4, 5, 6, 7, 8, 9]  NA            10000           9812          98.12    69.74    28.38      1.84  0.04                6640\n",
            "8        fg = [0, 1, 2]  bg = [3, 4, 5, 6, 7, 8, 9]  NA            10000           9668          96.68    74.84    21.84      3.3   0.02                6632\n",
            "9        fg = [0, 1, 2]  bg = [3, 4, 5, 6, 7, 8, 9]  NA            10000           9822          98.22    73.36    24.86      1.59  0.19                6607\n",
            "10       fg = [0, 1, 2]  bg = [3, 4, 5, 6, 7, 8, 9]  NA            10000           9851          98.51    74.63    23.88      1.45  0.04                6655\n",
            "Avg                                                                                              99.0747  75.8523  23.2223    0.89  0.0353333          20159.1\n",
            " \n",
            "================================================================================================================================================================\n"
          ],
          "name": "stdout"
        }
      ]
    },
    {
      "cell_type": "code",
      "metadata": {
        "id": "pW_kUqi3hR6u",
        "outputId": "49476094-e974-4191-8af5-c2ede46cd147",
        "colab": {
          "base_uri": "https://localhost:8080/",
          "height": 335
        }
      },
      "source": [
        "test_table2 = add_average_entry(test_table2)"
      ],
      "execution_count": 81,
      "outputs": [
        {
          "output_type": "stream",
          "text": [
            " \n",
            "================================================================================================================================================================\n",
            "S.No.    fg_class        bg_class                    Epoch used    total_points    correct      accuracy     FTPT     FFPT    FTPF       FFPF    avg_img > 0.5\n",
            "-------  --------------  --------------------------  ------------  --------------  ---------  ----------  -------  -------  ------  ---------  ---------------\n",
            "1        fg = [0, 1, 2]  bg = [3, 4, 5, 6, 7, 8, 9]  NA            10000           9428          94.28    69.9     24.38      5.58  0.14                6564\n",
            "2        fg = [0, 1, 2]  bg = [3, 4, 5, 6, 7, 8, 9]  NA            10000           9422          94.22    66.15    28.07      5.64  0.14                6547\n",
            "3        fg = [0, 1, 2]  bg = [3, 4, 5, 6, 7, 8, 9]  NA            10000           9478          94.78    71.62    23.16      5.03  0.19                6565\n",
            "4        fg = [0, 1, 2]  bg = [3, 4, 5, 6, 7, 8, 9]  NA            10000           9461          94.61    72.11    22.5       5.3   0.09                6567\n",
            "5        fg = [0, 1, 2]  bg = [3, 4, 5, 6, 7, 8, 9]  NA            10000           9736          97.36    83.17    14.19      2.55  0.09                6811\n",
            "6        fg = [0, 1, 2]  bg = [3, 4, 5, 6, 7, 8, 9]  NA            10000           9508          95.08    70.37    24.71      4.76  0.16                6564\n",
            "7        fg = [0, 1, 2]  bg = [3, 4, 5, 6, 7, 8, 9]  NA            10000           9418          94.18    65.59    28.59      5.72  0.1                 6581\n",
            "8        fg = [0, 1, 2]  bg = [3, 4, 5, 6, 7, 8, 9]  NA            10000           9370          93.7     71.34    22.36      6.2   0.1                 6573\n",
            "9        fg = [0, 1, 2]  bg = [3, 4, 5, 6, 7, 8, 9]  NA            10000           9469          94.69    69.03    25.66      5.13  0.18                6530\n",
            "10       fg = [0, 1, 2]  bg = [3, 4, 5, 6, 7, 8, 9]  NA            10000           9577          95.77    70.75    25.02      4.14  0.09                6566\n",
            "Avg                                                                                              99.0747  75.8523  23.2223    0.89  0.0353333          20159.1\n",
            " \n",
            "================================================================================================================================================================\n"
          ],
          "name": "stdout"
        }
      ]
    },
    {
      "cell_type": "code",
      "metadata": {
        "id": "_ZlV6qErhUUL",
        "outputId": "1e16a265-031e-4b03-9aae-16c6d6fcf1f8",
        "colab": {
          "base_uri": "https://localhost:8080/",
          "height": 335
        }
      },
      "source": [
        "test_table3 = add_average_entry(test_table3)"
      ],
      "execution_count": 82,
      "outputs": [
        {
          "output_type": "stream",
          "text": [
            " \n",
            "================================================================================================================================================================\n",
            "S.No.    fg_class        bg_class                    Epoch used    total_points    correct      accuracy     FTPT     FFPT    FTPF        FFPF    avg_img > 0.5\n",
            "-------  --------------  --------------------------  ------------  --------------  ---------  ----------  -------  -------  ------  ----------  ---------------\n",
            "1        fg = [0, 1, 2]  bg = [3, 4, 5, 6, 7, 8, 9]  NA            10000           3394          33.94     5.02    28.92      7.44  58.62                  36\n",
            "2        fg = [0, 1, 2]  bg = [3, 4, 5, 6, 7, 8, 9]  NA            10000           3389          33.89     5.57    28.32      4.51  61.6                   24\n",
            "3        fg = [0, 1, 2]  bg = [3, 4, 5, 6, 7, 8, 9]  NA            10000           3394          33.94     5       28.94      4.09  61.97                  38\n",
            "4        fg = [0, 1, 2]  bg = [3, 4, 5, 6, 7, 8, 9]  NA            10000           3396          33.96     6.41    27.55      4.08  61.96                  31\n",
            "5        fg = [0, 1, 2]  bg = [3, 4, 5, 6, 7, 8, 9]  NA            10000           3435          34.35     5.91    28.44      8.86  56.79                 264\n",
            "6        fg = [0, 1, 2]  bg = [3, 4, 5, 6, 7, 8, 9]  NA            10000           3400          34        5.93    28.07      4.75  61.25                  33\n",
            "7        fg = [0, 1, 2]  bg = [3, 4, 5, 6, 7, 8, 9]  NA            10000           3398          33.98     5.53    28.45      4.35  61.67                  17\n",
            "8        fg = [0, 1, 2]  bg = [3, 4, 5, 6, 7, 8, 9]  NA            10000           3400          34        5.78    28.22      4.24  61.76                  32\n",
            "9        fg = [0, 1, 2]  bg = [3, 4, 5, 6, 7, 8, 9]  NA            10000           3404          34.04     5.68    28.36      4.81  61.15                  28\n",
            "10       fg = [0, 1, 2]  bg = [3, 4, 5, 6, 7, 8, 9]  NA            10000           3411          34.11     6.23    27.88      4.46  61.43                  69\n",
            "Avg                                                                                              99.0747  75.8523  23.2223    0.89   0.0353333          20159.1\n",
            " \n",
            "================================================================================================================================================================\n"
          ],
          "name": "stdout"
        }
      ]
    },
    {
      "cell_type": "code",
      "metadata": {
        "id": "BOvl6fUChV5j",
        "outputId": "25ee564a-01d3-43a0-ac29-a7cf11a713eb",
        "colab": {
          "base_uri": "https://localhost:8080/",
          "height": 335
        }
      },
      "source": [
        "test_table4 = add_average_entry(test_table4)"
      ],
      "execution_count": 83,
      "outputs": [
        {
          "output_type": "stream",
          "text": [
            " \n",
            "================================================================================================================================================================\n",
            "S.No.    fg_class        bg_class                    Epoch used    total_points    correct      accuracy     FTPT     FFPT    FTPF        FFPF    avg_img > 0.5\n",
            "-------  --------------  --------------------------  ------------  --------------  ---------  ----------  -------  -------  ------  ----------  ---------------\n",
            "1        fg = [0, 1, 2]  bg = [3, 4, 5, 6, 7, 8, 9]  NA            10000           3371          33.71     4.87    28.84      7.18  59.11                  31\n",
            "2        fg = [0, 1, 2]  bg = [3, 4, 5, 6, 7, 8, 9]  NA            10000           3371          33.71     5.47    28.24      4.35  61.94                  36\n",
            "3        fg = [0, 1, 2]  bg = [3, 4, 5, 6, 7, 8, 9]  NA            10000           3386          33.86     5.08    28.78      4.01  62.13                  34\n",
            "4        fg = [0, 1, 2]  bg = [3, 4, 5, 6, 7, 8, 9]  NA            10000           3373          33.73     6.34    27.39      4.38  61.89                  56\n",
            "5        fg = [0, 1, 2]  bg = [3, 4, 5, 6, 7, 8, 9]  NA            10000           3405          34.05     5.9     28.15      9.09  56.86                 323\n",
            "6        fg = [0, 1, 2]  bg = [3, 4, 5, 6, 7, 8, 9]  NA            10000           3381          33.81     5.98    27.83      4.5   61.69                  30\n",
            "7        fg = [0, 1, 2]  bg = [3, 4, 5, 6, 7, 8, 9]  NA            10000           3375          33.75     5.57    28.18      4.24  62.01                  27\n",
            "8        fg = [0, 1, 2]  bg = [3, 4, 5, 6, 7, 8, 9]  NA            10000           3383          33.83     5.48    28.35      4.28  61.89                  38\n",
            "9        fg = [0, 1, 2]  bg = [3, 4, 5, 6, 7, 8, 9]  NA            10000           3385          33.85     5.31    28.54      4.71  61.44                  17\n",
            "10       fg = [0, 1, 2]  bg = [3, 4, 5, 6, 7, 8, 9]  NA            10000           3383          33.83     5.42    28.41      5.15  61.02                  63\n",
            "Avg                                                                                              99.0747  75.8523  23.2223    0.89   0.0353333          20159.1\n",
            " \n",
            "================================================================================================================================================================\n"
          ],
          "name": "stdout"
        }
      ]
    },
    {
      "cell_type": "code",
      "metadata": {
        "id": "nkyMi1VBpq9a"
      },
      "source": [
        "# torch.save(fore_net.state_dict(),\"/content/drive/My Drive/Research/mosaic_from_CIFAR_involving_bottop_eigen_vectors/fore_net_epoch\"+str(epoch)+\"_fg_used\"+str(fg_used)+\".pt\")"
      ],
      "execution_count": 84,
      "outputs": []
    }
  ]
}