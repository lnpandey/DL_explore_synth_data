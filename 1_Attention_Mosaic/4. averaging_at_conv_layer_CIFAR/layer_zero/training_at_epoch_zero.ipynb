{
  "nbformat": 4,
  "nbformat_minor": 0,
  "metadata": {
    "colab": {
      "name": "Untitled19.ipynb",
      "provenance": [],
      "collapsed_sections": []
    },
    "kernelspec": {
      "name": "python3",
      "display_name": "Python 3"
    },
    "accelerator": "GPU"
  },
  "cells": [
    {
      "cell_type": "code",
      "metadata": {
        "id": "0R2j0wT2NxUG",
        "colab_type": "code",
        "outputId": "766a23a4-c509-4d97-ae01-3d5a8ae47c08",
        "colab": {
          "base_uri": "https://localhost:8080/",
          "height": 51
        }
      },
      "source": [
        "from Models import Classification_Module as Classification_Module\n",
        "from Models import Focus_Module as Focus_Module\n",
        "from Mosaic import mosaic_data, MosaicDataset,split_foreground_background\n",
        "from torch.utils.data import Dataset,DataLoader\n",
        "import numpy as np\n",
        "import torch\n",
        "import torchvision\n",
        "import torchvision.transforms as transforms\n",
        "import torch.optim as optim\n",
        "import torch.nn as nn\n",
        "from matplotlib import pyplot as plt\n",
        "%matplotlib inline\n",
        "\n",
        "device = torch.device(\"cuda\" if torch.cuda.is_available() else \"cpu\")\n",
        "print(device)"
      ],
      "execution_count": 1,
      "outputs": [
        {
          "output_type": "stream",
          "text": [
            "cuda\n",
            "cuda\n"
          ],
          "name": "stdout"
        }
      ]
    },
    {
      "cell_type": "code",
      "metadata": {
        "id": "SblUamycPE7O",
        "colab_type": "code",
        "outputId": "9839d26e-f4ee-44df-8c9a-408de7e9cbc7",
        "colab": {
          "base_uri": "https://localhost:8080/",
          "height": 51
        }
      },
      "source": [
        "transform = transforms.Compose(\n",
        "    [transforms.ToTensor(),\n",
        "     transforms.Normalize((0.5, 0.5, 0.5), (0.5, 0.5, 0.5))])\n",
        "\n",
        "trainset = torchvision.datasets.CIFAR10(root='./data', train=True, download=True, transform=transform)\n",
        "\n",
        "\n",
        "testset = torchvision.datasets.CIFAR10(root='./data', train=False, download=True, transform=transform)\n",
        "\n",
        "trainloader = torch.utils.data.DataLoader(trainset, batch_size=10, shuffle=True)\n",
        "testloader = torch.utils.data.DataLoader(testset, batch_size=10, shuffle=False)"
      ],
      "execution_count": 2,
      "outputs": [
        {
          "output_type": "stream",
          "text": [
            "Files already downloaded and verified\n",
            "Files already downloaded and verified\n"
          ],
          "name": "stdout"
        }
      ]
    },
    {
      "cell_type": "code",
      "metadata": {
        "id": "Tsd9DNgUPMBx",
        "colab_type": "code",
        "colab": {}
      },
      "source": [
        "data = split_foreground_background(trainloader,total = 50000)\n",
        "mosaic_list_of_images,mosaic_label,fore_idx = mosaic_data(data,desired_num=30000,total=50000)"
      ],
      "execution_count": 0,
      "outputs": []
    },
    {
      "cell_type": "code",
      "metadata": {
        "id": "GC1dUctdPgmW",
        "colab_type": "code",
        "colab": {}
      },
      "source": [
        "batch = 250\n",
        "train_dataset  = MosaicDataset(mosaic_list_of_images, mosaic_label , fore_idx)\n",
        "mosaic_loader = DataLoader( train_dataset,batch_size= batch ,shuffle=True)"
      ],
      "execution_count": 0,
      "outputs": []
    },
    {
      "cell_type": "code",
      "metadata": {
        "id": "TCm_yFatRxib",
        "colab_type": "code",
        "colab": {}
      },
      "source": [
        "mimages_val,mlabel_val,fidx_val = mosaic_data(data,desired_num=10000,total=50000)"
      ],
      "execution_count": 0,
      "outputs": []
    },
    {
      "cell_type": "code",
      "metadata": {
        "id": "RccSHk3DU3jU",
        "colab_type": "code",
        "colab": {}
      },
      "source": [
        "batch = 250\n",
        "test_dataset  = MosaicDataset(mimages_val,mlabel_val,fidx_val)\n",
        "test_loader = DataLoader( test_dataset,batch_size= batch ,shuffle=True)"
      ],
      "execution_count": 0,
      "outputs": []
    },
    {
      "cell_type": "code",
      "metadata": {
        "id": "Di1vx00TVFgx",
        "colab_type": "code",
        "colab": {}
      },
      "source": [
        "focus_net =  Focus_Module(3,1).double()\n",
        "focus_net = focus_net.to(device)"
      ],
      "execution_count": 0,
      "outputs": []
    },
    {
      "cell_type": "code",
      "metadata": {
        "id": "R0wsFjYFVPfo",
        "colab_type": "code",
        "colab": {}
      },
      "source": [
        "classification_net  = Classification_Module(3,3).double()\n"
      ],
      "execution_count": 0,
      "outputs": []
    },
    {
      "cell_type": "code",
      "metadata": {
        "id": "jz6llbjujOm8",
        "colab_type": "code",
        "outputId": "63ce182a-bde4-41bc-d0b9-f5c1592bfeab",
        "colab": {
          "base_uri": "https://localhost:8080/",
          "height": 170
        }
      },
      "source": [
        "\n",
        "classification_net = classification_net.to(device)\n",
        "classification_net"
      ],
      "execution_count": 9,
      "outputs": [
        {
          "output_type": "execute_result",
          "data": {
            "text/plain": [
              "Classification_Module(\n",
              "  (conv1): Conv2d(3, 6, kernel_size=(5, 5), stride=(1, 1))\n",
              "  (pool): MaxPool2d(kernel_size=2, stride=2, padding=0, dilation=1, ceil_mode=False)\n",
              "  (conv2): Conv2d(6, 8, kernel_size=(5, 5), stride=(1, 1))\n",
              "  (fc1): Linear(in_features=200, out_features=120, bias=True)\n",
              "  (fc2): Linear(in_features=120, out_features=84, bias=True)\n",
              "  (fc3): Linear(in_features=84, out_features=10, bias=True)\n",
              "  (fc4): Linear(in_features=10, out_features=3, bias=True)\n",
              ")"
            ]
          },
          "metadata": {
            "tags": []
          },
          "execution_count": 9
        }
      ]
    },
    {
      "cell_type": "code",
      "metadata": {
        "id": "emZvvTp0VbIu",
        "colab_type": "code",
        "colab": {}
      },
      "source": [
        "optimizer_focus = optim.SGD(focus_net.parameters(),lr = 0.01,momentum=0.9)\n",
        "optimizer_classification = optim.SGD(classification_net.parameters(),lr =0.01, momentum=0.9)"
      ],
      "execution_count": 0,
      "outputs": []
    },
    {
      "cell_type": "code",
      "metadata": {
        "id": "cClaMnSRVfS6",
        "colab_type": "code",
        "colab": {}
      },
      "source": [
        "\n",
        "criterion = nn.CrossEntropyLoss()"
      ],
      "execution_count": 0,
      "outputs": []
    },
    {
      "cell_type": "code",
      "metadata": {
        "id": "Y8iOl6JEVjJJ",
        "colab_type": "code",
        "outputId": "0797cb10-1a68-4924-d287-5b7e09e6af69",
        "colab": {
          "base_uri": "https://localhost:8080/",
          "height": 1000
        }
      },
      "source": [
        "tr_loss = []\n",
        "for epoch in range(110):  # loop over the dataset multiple times\n",
        "    running_loss = 0.0\n",
        "    cnt=0\n",
        "    iteration = 30000 // batch\n",
        "    ep_loss = []\n",
        "    for i, data in  enumerate(mosaic_loader):\n",
        "        inputs , labels , fgrnd_idx = data\n",
        "        inputs,labels = inputs.to(\"cuda\"),labels.to(\"cuda\")\n",
        "        optimizer_focus.zero_grad()\n",
        "        optimizer_classification.zero_grad()\n",
        "        avg_data , alphas = focus_net(inputs)\n",
        "        outputs = classification_net(avg_data)\n",
        "        _, predicted = torch.max(outputs.data, 1)\n",
        "        loss = criterion(outputs, labels)\n",
        "        loss.backward()\n",
        "        optimizer_focus.step()\n",
        "        optimizer_classification.step()\n",
        "\n",
        "        running_loss += loss.item()\n",
        "        mini = 40\n",
        "        if cnt % mini == mini-1:    # print every mini mini-batches\n",
        "            print('[%d, %5d] loss: %.3f' %(epoch + 1, cnt + 1, running_loss / mini))\n",
        "            ep_loss.append(running_loss/mini)\n",
        "            running_loss = 0.0  \n",
        "        cnt=cnt+1\n",
        "    tr_loss.append(np.mean(ep_loss))      \n",
        "print('Finished Training')    "
      ],
      "execution_count": 12,
      "outputs": [
        {
          "output_type": "stream",
          "text": [
            "[1,    40] loss: 1.100\n",
            "[1,    80] loss: 1.099\n",
            "[1,   120] loss: 1.099\n",
            "[2,    40] loss: 1.099\n",
            "[2,    80] loss: 1.099\n",
            "[2,   120] loss: 1.099\n",
            "[3,    40] loss: 1.099\n",
            "[3,    80] loss: 1.099\n",
            "[3,   120] loss: 1.099\n",
            "[4,    40] loss: 1.098\n",
            "[4,    80] loss: 1.099\n",
            "[4,   120] loss: 1.098\n",
            "[5,    40] loss: 1.099\n",
            "[5,    80] loss: 1.098\n",
            "[5,   120] loss: 1.098\n",
            "[6,    40] loss: 1.098\n",
            "[6,    80] loss: 1.098\n",
            "[6,   120] loss: 1.098\n",
            "[7,    40] loss: 1.098\n",
            "[7,    80] loss: 1.098\n",
            "[7,   120] loss: 1.098\n",
            "[8,    40] loss: 1.097\n",
            "[8,    80] loss: 1.097\n",
            "[8,   120] loss: 1.097\n",
            "[9,    40] loss: 1.096\n",
            "[9,    80] loss: 1.095\n",
            "[9,   120] loss: 1.093\n",
            "[10,    40] loss: 1.091\n",
            "[10,    80] loss: 1.089\n",
            "[10,   120] loss: 1.086\n",
            "[11,    40] loss: 1.086\n",
            "[11,    80] loss: 1.081\n",
            "[11,   120] loss: 1.080\n",
            "[12,    40] loss: 1.078\n",
            "[12,    80] loss: 1.083\n",
            "[12,   120] loss: 1.078\n",
            "[13,    40] loss: 1.079\n",
            "[13,    80] loss: 1.075\n",
            "[13,   120] loss: 1.073\n",
            "[14,    40] loss: 1.074\n",
            "[14,    80] loss: 1.071\n",
            "[14,   120] loss: 1.072\n",
            "[15,    40] loss: 1.071\n",
            "[15,    80] loss: 1.068\n",
            "[15,   120] loss: 1.073\n",
            "[16,    40] loss: 1.069\n",
            "[16,    80] loss: 1.067\n",
            "[16,   120] loss: 1.066\n",
            "[17,    40] loss: 1.065\n",
            "[17,    80] loss: 1.066\n",
            "[17,   120] loss: 1.069\n",
            "[18,    40] loss: 1.063\n",
            "[18,    80] loss: 1.065\n",
            "[18,   120] loss: 1.063\n",
            "[19,    40] loss: 1.060\n",
            "[19,    80] loss: 1.064\n",
            "[19,   120] loss: 1.060\n",
            "[20,    40] loss: 1.064\n",
            "[20,    80] loss: 1.056\n",
            "[20,   120] loss: 1.061\n",
            "[21,    40] loss: 1.059\n",
            "[21,    80] loss: 1.058\n",
            "[21,   120] loss: 1.054\n",
            "[22,    40] loss: 1.059\n",
            "[22,    80] loss: 1.054\n",
            "[22,   120] loss: 1.054\n",
            "[23,    40] loss: 1.054\n",
            "[23,    80] loss: 1.052\n",
            "[23,   120] loss: 1.050\n",
            "[24,    40] loss: 1.050\n",
            "[24,    80] loss: 1.046\n",
            "[24,   120] loss: 1.051\n",
            "[25,    40] loss: 1.050\n",
            "[25,    80] loss: 1.045\n",
            "[25,   120] loss: 1.045\n",
            "[26,    40] loss: 1.045\n",
            "[26,    80] loss: 1.045\n",
            "[26,   120] loss: 1.045\n",
            "[27,    40] loss: 1.045\n",
            "[27,    80] loss: 1.047\n",
            "[27,   120] loss: 1.045\n",
            "[28,    40] loss: 1.047\n",
            "[28,    80] loss: 1.042\n",
            "[28,   120] loss: 1.037\n",
            "[29,    40] loss: 1.039\n",
            "[29,    80] loss: 1.037\n",
            "[29,   120] loss: 1.041\n",
            "[30,    40] loss: 1.040\n",
            "[30,    80] loss: 1.033\n",
            "[30,   120] loss: 1.035\n",
            "[31,    40] loss: 1.035\n",
            "[31,    80] loss: 1.027\n",
            "[31,   120] loss: 1.027\n",
            "[32,    40] loss: 1.028\n",
            "[32,    80] loss: 1.019\n",
            "[32,   120] loss: 1.013\n",
            "[33,    40] loss: 1.011\n",
            "[33,    80] loss: 1.015\n",
            "[33,   120] loss: 1.010\n",
            "[34,    40] loss: 1.004\n",
            "[34,    80] loss: 1.006\n",
            "[34,   120] loss: 1.005\n",
            "[35,    40] loss: 1.006\n",
            "[35,    80] loss: 0.987\n",
            "[35,   120] loss: 0.983\n",
            "[36,    40] loss: 0.992\n",
            "[36,    80] loss: 0.984\n",
            "[36,   120] loss: 0.973\n",
            "[37,    40] loss: 0.967\n",
            "[37,    80] loss: 0.969\n",
            "[37,   120] loss: 0.945\n",
            "[38,    40] loss: 0.947\n",
            "[38,    80] loss: 0.933\n",
            "[38,   120] loss: 0.932\n",
            "[39,    40] loss: 0.919\n",
            "[39,    80] loss: 0.932\n",
            "[39,   120] loss: 0.912\n",
            "[40,    40] loss: 0.896\n",
            "[40,    80] loss: 0.890\n",
            "[40,   120] loss: 0.890\n",
            "[41,    40] loss: 0.870\n",
            "[41,    80] loss: 0.870\n",
            "[41,   120] loss: 0.856\n",
            "[42,    40] loss: 0.837\n",
            "[42,    80] loss: 0.822\n",
            "[42,   120] loss: 0.813\n",
            "[43,    40] loss: 0.805\n",
            "[43,    80] loss: 0.788\n",
            "[43,   120] loss: 0.814\n",
            "[44,    40] loss: 0.782\n",
            "[44,    80] loss: 0.801\n",
            "[44,   120] loss: 0.756\n",
            "[45,    40] loss: 0.753\n",
            "[45,    80] loss: 0.752\n",
            "[45,   120] loss: 0.756\n",
            "[46,    40] loss: 0.735\n",
            "[46,    80] loss: 0.737\n",
            "[46,   120] loss: 0.719\n",
            "[47,    40] loss: 0.704\n",
            "[47,    80] loss: 0.712\n",
            "[47,   120] loss: 0.688\n",
            "[48,    40] loss: 0.675\n",
            "[48,    80] loss: 0.693\n",
            "[48,   120] loss: 0.678\n",
            "[49,    40] loss: 0.651\n",
            "[49,    80] loss: 0.660\n",
            "[49,   120] loss: 0.675\n",
            "[50,    40] loss: 0.649\n",
            "[50,    80] loss: 0.656\n",
            "[50,   120] loss: 0.637\n",
            "[51,    40] loss: 0.600\n",
            "[51,    80] loss: 0.619\n",
            "[51,   120] loss: 0.624\n",
            "[52,    40] loss: 0.597\n",
            "[52,    80] loss: 0.574\n",
            "[52,   120] loss: 0.602\n",
            "[53,    40] loss: 0.597\n",
            "[53,    80] loss: 0.587\n",
            "[53,   120] loss: 0.588\n",
            "[54,    40] loss: 0.572\n",
            "[54,    80] loss: 0.577\n",
            "[54,   120] loss: 0.568\n",
            "[55,    40] loss: 0.551\n",
            "[55,    80] loss: 0.563\n",
            "[55,   120] loss: 0.549\n",
            "[56,    40] loss: 0.532\n",
            "[56,    80] loss: 0.529\n",
            "[56,   120] loss: 0.532\n",
            "[57,    40] loss: 0.497\n",
            "[57,    80] loss: 0.506\n",
            "[57,   120] loss: 0.508\n",
            "[58,    40] loss: 0.493\n",
            "[58,    80] loss: 0.514\n",
            "[58,   120] loss: 0.520\n",
            "[59,    40] loss: 0.505\n",
            "[59,    80] loss: 0.482\n",
            "[59,   120] loss: 0.477\n",
            "[60,    40] loss: 0.453\n",
            "[60,    80] loss: 0.471\n",
            "[60,   120] loss: 0.469\n",
            "[61,    40] loss: 0.432\n",
            "[61,    80] loss: 0.468\n",
            "[61,   120] loss: 0.467\n",
            "[62,    40] loss: 0.433\n",
            "[62,    80] loss: 0.436\n",
            "[62,   120] loss: 0.438\n",
            "[63,    40] loss: 0.426\n",
            "[63,    80] loss: 0.431\n",
            "[63,   120] loss: 0.419\n",
            "[64,    40] loss: 0.399\n",
            "[64,    80] loss: 0.413\n",
            "[64,   120] loss: 0.399\n",
            "[65,    40] loss: 0.382\n",
            "[65,    80] loss: 0.408\n",
            "[65,   120] loss: 0.404\n",
            "[66,    40] loss: 0.375\n",
            "[66,    80] loss: 0.382\n",
            "[66,   120] loss: 0.398\n",
            "[67,    40] loss: 0.362\n",
            "[67,    80] loss: 0.382\n",
            "[67,   120] loss: 0.370\n",
            "[68,    40] loss: 0.378\n",
            "[68,    80] loss: 0.376\n",
            "[68,   120] loss: 0.370\n",
            "[69,    40] loss: 0.338\n",
            "[69,    80] loss: 0.354\n",
            "[69,   120] loss: 0.363\n",
            "[70,    40] loss: 0.337\n",
            "[70,    80] loss: 0.348\n",
            "[70,   120] loss: 0.345\n",
            "[71,    40] loss: 0.325\n",
            "[71,    80] loss: 0.336\n",
            "[71,   120] loss: 0.331\n",
            "[72,    40] loss: 0.312\n",
            "[72,    80] loss: 0.315\n",
            "[72,   120] loss: 0.322\n",
            "[73,    40] loss: 0.295\n",
            "[73,    80] loss: 0.298\n",
            "[73,   120] loss: 0.314\n",
            "[74,    40] loss: 0.298\n",
            "[74,    80] loss: 0.292\n",
            "[74,   120] loss: 0.287\n",
            "[75,    40] loss: 0.291\n",
            "[75,    80] loss: 0.304\n",
            "[75,   120] loss: 0.304\n",
            "[76,    40] loss: 0.293\n",
            "[76,    80] loss: 0.274\n",
            "[76,   120] loss: 0.295\n",
            "[77,    40] loss: 0.253\n",
            "[77,    80] loss: 0.279\n",
            "[77,   120] loss: 0.275\n",
            "[78,    40] loss: 0.260\n",
            "[78,    80] loss: 0.278\n",
            "[78,   120] loss: 0.273\n",
            "[79,    40] loss: 0.238\n",
            "[79,    80] loss: 0.270\n",
            "[79,   120] loss: 0.279\n",
            "[80,    40] loss: 0.266\n",
            "[80,    80] loss: 0.284\n",
            "[80,   120] loss: 0.264\n",
            "[81,    40] loss: 0.231\n",
            "[81,    80] loss: 0.234\n",
            "[81,   120] loss: 0.265\n",
            "[82,    40] loss: 0.229\n",
            "[82,    80] loss: 0.247\n",
            "[82,   120] loss: 0.256\n",
            "[83,    40] loss: 0.233\n",
            "[83,    80] loss: 0.232\n",
            "[83,   120] loss: 0.249\n",
            "[84,    40] loss: 0.202\n",
            "[84,    80] loss: 0.237\n",
            "[84,   120] loss: 0.229\n",
            "[85,    40] loss: 0.197\n",
            "[85,    80] loss: 0.207\n",
            "[85,   120] loss: 0.229\n",
            "[86,    40] loss: 0.231\n",
            "[86,    80] loss: 0.260\n",
            "[86,   120] loss: 0.207\n",
            "[87,    40] loss: 0.202\n",
            "[87,    80] loss: 0.216\n",
            "[87,   120] loss: 0.250\n",
            "[88,    40] loss: 0.198\n",
            "[88,    80] loss: 0.192\n",
            "[88,   120] loss: 0.214\n",
            "[89,    40] loss: 0.199\n",
            "[89,    80] loss: 0.191\n",
            "[89,   120] loss: 0.202\n",
            "[90,    40] loss: 0.165\n",
            "[90,    80] loss: 0.179\n",
            "[90,   120] loss: 0.190\n",
            "[91,    40] loss: 0.168\n",
            "[91,    80] loss: 0.192\n",
            "[91,   120] loss: 0.234\n",
            "[92,    40] loss: 0.173\n",
            "[92,    80] loss: 0.211\n",
            "[92,   120] loss: 0.211\n",
            "[93,    40] loss: 0.183\n",
            "[93,    80] loss: 0.163\n",
            "[93,   120] loss: 0.236\n",
            "[94,    40] loss: 0.178\n",
            "[94,    80] loss: 0.165\n",
            "[94,   120] loss: 0.194\n",
            "[95,    40] loss: 0.175\n",
            "[95,    80] loss: 0.176\n",
            "[95,   120] loss: 0.166\n",
            "[96,    40] loss: 0.168\n",
            "[96,    80] loss: 0.156\n",
            "[96,   120] loss: 0.169\n",
            "[97,    40] loss: 0.139\n",
            "[97,    80] loss: 0.152\n",
            "[97,   120] loss: 0.160\n",
            "[98,    40] loss: 0.139\n",
            "[98,    80] loss: 0.163\n",
            "[98,   120] loss: 0.171\n",
            "[99,    40] loss: 0.163\n",
            "[99,    80] loss: 0.147\n",
            "[99,   120] loss: 0.145\n",
            "[100,    40] loss: 0.128\n",
            "[100,    80] loss: 0.136\n",
            "[100,   120] loss: 0.150\n",
            "[101,    40] loss: 0.127\n",
            "[101,    80] loss: 0.135\n",
            "[101,   120] loss: 0.129\n",
            "[102,    40] loss: 0.114\n",
            "[102,    80] loss: 0.136\n",
            "[102,   120] loss: 0.155\n",
            "[103,    40] loss: 0.137\n",
            "[103,    80] loss: 0.133\n",
            "[103,   120] loss: 0.147\n",
            "[104,    40] loss: 0.121\n",
            "[104,    80] loss: 0.125\n",
            "[104,   120] loss: 0.158\n",
            "[105,    40] loss: 0.118\n",
            "[105,    80] loss: 0.120\n",
            "[105,   120] loss: 0.173\n",
            "[106,    40] loss: 0.165\n",
            "[106,    80] loss: 0.137\n",
            "[106,   120] loss: 0.119\n",
            "[107,    40] loss: 0.097\n",
            "[107,    80] loss: 0.112\n",
            "[107,   120] loss: 0.127\n",
            "[108,    40] loss: 0.105\n",
            "[108,    80] loss: 0.124\n",
            "[108,   120] loss: 0.124\n",
            "[109,    40] loss: 0.117\n",
            "[109,    80] loss: 0.105\n",
            "[109,   120] loss: 0.110\n",
            "[110,    40] loss: 0.113\n",
            "[110,    80] loss: 0.128\n",
            "[110,   120] loss: 0.110\n",
            "Finished Training\n"
          ],
          "name": "stdout"
        }
      ]
    },
    {
      "cell_type": "code",
      "metadata": {
        "id": "3lB7KlwGVpmd",
        "colab_type": "code",
        "outputId": "d1b83d4c-b9ce-4954-8dcc-bcd61efc5c5b",
        "colab": {
          "base_uri": "https://localhost:8080/",
          "height": 34
        }
      },
      "source": [
        "  train_acc = 0\n",
        "for i, data in enumerate(mosaic_loader):\n",
        "    inputs,labels,_ = data\n",
        "    inputs,labels = inputs.to(device), labels.to(device)\n",
        "    \n",
        "    avg_data,alphas = focus_net(inputs)\n",
        "    outputs = classification_net(avg_data)\n",
        "    _,predicted = torch.max(outputs.data,1)\n",
        "    # print(predicted.detach().cpu().numpy())\n",
        "    train_acc += sum(predicted.cpu().numpy() == labels.cpu().numpy())\n",
        "print(\"percentage train accuracy: \",train_acc/300) \n",
        "\n",
        "torch.save(focus_net.state_dict(),\"focus_net_at_zero.pt\")\n",
        "torch.save(classification_net.state_dict(),\"classification_net_at_zero.pt\")"
      ],
      "execution_count": 14,
      "outputs": [
        {
          "output_type": "stream",
          "text": [
            "percentage train accuracy:  96.68333333333334\n"
          ],
          "name": "stdout"
        }
      ]
    },
    {
      "cell_type": "code",
      "metadata": {
        "id": "QEdCv9Lfd6Pf",
        "colab_type": "code",
        "outputId": "b58dc209-fff6-45b9-c5f7-1f7a810884a9",
        "colab": {
          "base_uri": "https://localhost:8080/",
          "height": 34
        }
      },
      "source": [
        "val_acc = 0\n",
        "for i, data in enumerate(test_loader):\n",
        "    inputs,labels,_ = data\n",
        "    inputs,labels = inputs.to(device), labels.to(device)\n",
        "\n",
        "    avg_data,alphas = focus_net(inputs)\n",
        "    outputs = classification_net(avg_data)\n",
        "    _,predicted = torch.max(outputs.data,1)\n",
        "\n",
        "    val_acc +=sum(predicted.cpu().numpy() == labels.cpu().numpy())\n",
        "print(\"percentage validation accuracy: \",val_acc/100)"
      ],
      "execution_count": 15,
      "outputs": [
        {
          "output_type": "stream",
          "text": [
            "percentage validation accuracy:  85.98\n"
          ],
          "name": "stdout"
        }
      ]
    },
    {
      "cell_type": "code",
      "metadata": {
        "id": "Q5MIz98beE2L",
        "colab_type": "code",
        "colab": {
          "base_uri": "https://localhost:8080/",
          "height": 279
        },
        "outputId": "db8acd4a-464c-45ad-ae09-cee01f91b120"
      },
      "source": [
        "plt.figure(figsize = (5,4))\n",
        "plt.plot(tr_loss,label= \"training loss\")\n",
        "plt.xlabel(\"epochs\")\n",
        "plt.ylabel(\"cross entropy loss\")\n",
        "plt.savefig(\"training_loss_at_zero.png\")\n",
        "plt.savefig(\"training_loss_at_zero.pdf\")"
      ],
      "execution_count": 17,
      "outputs": [
        {
          "output_type": "display_data",
          "data": {
            "image/png": "[encoded data removed]",
            "text/plain": [
              "<Figure size 360x288 with 1 Axes>"
            ]
          },
          "metadata": {
            "tags": [],
            "needs_background": "light"
          }
        }
      ]
    },
    {
      "cell_type": "code",
      "metadata": {
        "id": "kDF5iDVwYCZb",
        "colab_type": "code",
        "colab": {}
      },
      "source": [
        ""
      ],
      "execution_count": 0,
      "outputs": []
    }
  ]
}