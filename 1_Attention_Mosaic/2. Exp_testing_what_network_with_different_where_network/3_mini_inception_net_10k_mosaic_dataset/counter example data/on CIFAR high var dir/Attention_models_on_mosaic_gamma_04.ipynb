{
  "nbformat": 4,
  "nbformat_minor": 0,
  "metadata": {
    "accelerator": "GPU",
    "colab": {
      "name": "Attention_models_on_mosaic_gamma_04.ipynb",
      "provenance": [],
      "collapsed_sections": [],
      "machine_shape": "hm"
    },
    "kernelspec": {
      "display_name": "Python 3",
      "language": "python",
      "name": "python3"
    },
    "language_info": {
      "codemirror_mode": {
        "name": "ipython",
        "version": 3
      },
      "file_extension": ".py",
      "mimetype": "text/x-python",
      "name": "python",
      "nbconvert_exporter": "python",
      "pygments_lexer": "ipython3",
      "version": "3.6.5"
    }
  },
  "cells": [
    {
      "cell_type": "code",
      "metadata": {
        "id": "JSjG64ra4aFu"
      },
      "source": [
        "# from google.colab import drive\n",
        "# drive.mount('/content/drive')\n",
        "# # !pip install torch"
      ],
      "execution_count": 1,
      "outputs": []
    },
    {
      "cell_type": "code",
      "metadata": {
        "id": "V8-7SARDZErK"
      },
      "source": [
        "import torch.nn as nn\n",
        "import torch.nn.functional as F\n",
        "\n",
        "import pandas as pd\n",
        "import numpy as np\n",
        "import matplotlib.pyplot as plt\n",
        "\n",
        "import torch\n",
        "import torchvision\n",
        "import torchvision.transforms as transforms\n",
        "from torch.utils.data import Dataset, DataLoader\n",
        "from torchvision import transforms, utils\n",
        "import torch.optim as optim\n",
        "from matplotlib import pyplot as plt\n",
        "import random\n",
        "import copy\n",
        "import pickle\n",
        "# Ignore warnings\n",
        "import warnings\n",
        "warnings.filterwarnings(\"ignore\")\n",
        "from numpy import linalg as LA\n",
        "from tabulate import tabulate\n",
        "# Ignore warnings\n",
        "import warnings\n",
        "warnings.filterwarnings(\"ignore\")\n"
      ],
      "execution_count": 2,
      "outputs": []
    },
    {
      "cell_type": "code",
      "metadata": {
        "id": "3tquyEd6CrMM",
        "outputId": "aacfb83d-e7eb-4e58-aeeb-65dabd0720f2",
        "colab": {
          "base_uri": "https://localhost:8080/"
        }
      },
      "source": [
        "transform = transforms.Compose(\n",
        "    [transforms.ToTensor(),\n",
        "     transforms.Normalize((0.5, 0.5, 0.5), (0.5, 0.5, 0.5))])\n",
        "\n",
        "trainset = torchvision.datasets.CIFAR10(root='./data', train=True, download=True, transform=transform)\n",
        "\n",
        "\n",
        "testset = torchvision.datasets.CIFAR10(root='./data', train=False, download=True, transform=transform)"
      ],
      "execution_count": 3,
      "outputs": [
        {
          "output_type": "stream",
          "text": [
            "Files already downloaded and verified\n",
            "Files already downloaded and verified\n"
          ],
          "name": "stdout"
        }
      ]
    },
    {
      "cell_type": "code",
      "metadata": {
        "id": "LL2HZ1Q80UU4",
        "outputId": "a63b762e-0a71-43c5-a0e8-a61139b09d01",
        "colab": {
          "base_uri": "https://localhost:8080/"
        }
      },
      "source": [
        "gamma = 0.04\n",
        "gamma"
      ],
      "execution_count": 4,
      "outputs": [
        {
          "output_type": "execute_result",
          "data": {
            "text/plain": [
              "0.04"
            ]
          },
          "metadata": {
            "tags": []
          },
          "execution_count": 4
        }
      ]
    },
    {
      "cell_type": "code",
      "metadata": {
        "id": "ruTiWAOeCrMR",
        "outputId": "575c03c1-4bd0-4d75-8348-6e9c64ca7f3f",
        "colab": {
          "base_uri": "https://localhost:8080/"
        }
      },
      "source": [
        "classes = ('plane', 'car', 'bird', 'cat', 'deer', 'dog', 'frog', 'horse', 'ship', 'truck')\n",
        "\n",
        "foreground_classes = {'plane', 'car', 'bird'}\n",
        "fg_used = '012'\n",
        "fg1, fg2, fg3 = 0,1,2\n",
        "\n",
        "\n",
        "all_classes = {'plane', 'car', 'bird', 'cat', 'deer', 'dog', 'frog', 'horse', 'ship', 'truck'}\n",
        "background_classes = all_classes - foreground_classes\n",
        "background_classes\n"
      ],
      "execution_count": 5,
      "outputs": [
        {
          "output_type": "execute_result",
          "data": {
            "text/plain": [
              "{'cat', 'deer', 'dog', 'frog', 'horse', 'ship', 'truck'}"
            ]
          },
          "metadata": {
            "tags": []
          },
          "execution_count": 5
        }
      ]
    },
    {
      "cell_type": "code",
      "metadata": {
        "id": "Gf7_2PNt0RVG"
      },
      "source": [
        "trainloader = torch.utils.data.DataLoader(trainset, batch_size=10, shuffle=False)\n",
        "testloader = torch.utils.data.DataLoader(testset, batch_size=10, shuffle=False)"
      ],
      "execution_count": 6,
      "outputs": []
    },
    {
      "cell_type": "code",
      "metadata": {
        "id": "ZWIK-x4iCrMW"
      },
      "source": [
        "dataiter = iter(trainloader)\n",
        "true_train_background_data=[]\n",
        "true_train_background_label=[]\n",
        "true_train_foreground_data=[]\n",
        "true_train_foreground_label=[]\n",
        "batch_size=10\n",
        "\n",
        "for i in range(5000):\n",
        "  images, labels = dataiter.next()\n",
        "  for j in range(batch_size):\n",
        "    if(classes[labels[j]] in background_classes):\n",
        "      img = images[j].tolist()\n",
        "      true_train_background_data.append(img)\n",
        "      true_train_background_label.append(labels[j])\n",
        "    else:\n",
        "      img = images[j].tolist()\n",
        "      true_train_foreground_data.append(img)\n",
        "      true_train_foreground_label.append(labels[j])\n",
        "            \n",
        "true_train_foreground_data = torch.tensor(true_train_foreground_data)\n",
        "true_train_foreground_label = torch.tensor(true_train_foreground_label)\n",
        "true_train_background_data = torch.tensor(true_train_background_data)\n",
        "true_train_background_label = torch.tensor(true_train_background_label)\n",
        "    "
      ],
      "execution_count": 7,
      "outputs": []
    },
    {
      "cell_type": "code",
      "metadata": {
        "id": "jeZINAVh2kd1"
      },
      "source": [
        "true_train = trainset.data"
      ],
      "execution_count": 8,
      "outputs": []
    },
    {
      "cell_type": "code",
      "metadata": {
        "id": "ZTTuRibG2kZI"
      },
      "source": [
        "train_label = trainset.targets"
      ],
      "execution_count": 9,
      "outputs": []
    },
    {
      "cell_type": "code",
      "metadata": {
        "id": "ECH6otQt2kWc"
      },
      "source": [
        "true_train_cifar_norm=[]\n",
        "for i in range(len(true_train)):\n",
        "  true_train_cifar_norm.append(LA.norm(true_train[i]))"
      ],
      "execution_count": 10,
      "outputs": []
    },
    {
      "cell_type": "code",
      "metadata": {
        "id": "YINcepdH2kTn",
        "outputId": "21dc556c-bfd1-4c0f-b7ba-9c9b15dc2f88",
        "colab": {
          "base_uri": "https://localhost:8080/"
        }
      },
      "source": [
        "len(true_train_cifar_norm)"
      ],
      "execution_count": 11,
      "outputs": [
        {
          "output_type": "execute_result",
          "data": {
            "text/plain": [
              "50000"
            ]
          },
          "metadata": {
            "tags": []
          },
          "execution_count": 11
        }
      ]
    },
    {
      "cell_type": "code",
      "metadata": {
        "id": "KcrfBVMp2kQz"
      },
      "source": [
        "def plot_hist(values):\n",
        "  plt.hist(values, density=True, bins=200)  # `density=False` would make counts\n",
        "  plt.ylabel('NORM')\n",
        "  plt.xlabel('Data');"
      ],
      "execution_count": 12,
      "outputs": []
    },
    {
      "cell_type": "code",
      "metadata": {
        "id": "-oxw9hJ82kN4",
        "outputId": "ace0663f-7be7-4d5c-8337-1008c5e38cc3",
        "colab": {
          "base_uri": "https://localhost:8080/",
          "height": 279
        }
      },
      "source": [
        "plot_hist(true_train_cifar_norm)"
      ],
      "execution_count": 13,
      "outputs": [
        {
          "output_type": "display_data",
          "data": {
            "image/png": "[encoded data removed]",
            "text/plain": [
              "<Figure size 432x288 with 1 Axes>"
            ]
          },
          "metadata": {
            "tags": [],
            "needs_background": "light"
          }
        }
      ]
    },
    {
      "cell_type": "code",
      "metadata": {
        "id": "baIgv2UZ2kKu",
        "outputId": "bb9e205a-75f2-48d1-c17f-68630f467d04",
        "colab": {
          "base_uri": "https://localhost:8080/"
        }
      },
      "source": [
        "true_train.shape"
      ],
      "execution_count": 14,
      "outputs": [
        {
          "output_type": "execute_result",
          "data": {
            "text/plain": [
              "(50000, 32, 32, 3)"
            ]
          },
          "metadata": {
            "tags": []
          },
          "execution_count": 14
        }
      ]
    },
    {
      "cell_type": "code",
      "metadata": {
        "id": "NdwDIXDK2kEf",
        "outputId": "b35f019d-79bc-470e-a3ef-76c726da3ecb",
        "colab": {
          "base_uri": "https://localhost:8080/"
        }
      },
      "source": [
        "train = np.reshape(true_train, (50000,3072))\n",
        "train.shape, true_train.shape"
      ],
      "execution_count": 15,
      "outputs": [
        {
          "output_type": "execute_result",
          "data": {
            "text/plain": [
              "((50000, 3072), (50000, 32, 32, 3))"
            ]
          },
          "metadata": {
            "tags": []
          },
          "execution_count": 15
        }
      ]
    },
    {
      "cell_type": "code",
      "metadata": {
        "id": "C95aHpjT2j6G"
      },
      "source": [
        "u, s, vh = LA.svd(train, full_matrices= False)"
      ],
      "execution_count": 16,
      "outputs": []
    },
    {
      "cell_type": "code",
      "metadata": {
        "id": "TmCXaL1U3zTR",
        "outputId": "e8f191b2-8fc4-4700-8eb4-25c7198144ea",
        "colab": {
          "base_uri": "https://localhost:8080/"
        }
      },
      "source": [
        "u.shape , s.shape, vh.shape"
      ],
      "execution_count": 17,
      "outputs": [
        {
          "output_type": "execute_result",
          "data": {
            "text/plain": [
              "((50000, 3072), (3072,), (3072, 3072))"
            ]
          },
          "metadata": {
            "tags": []
          },
          "execution_count": 17
        }
      ]
    },
    {
      "cell_type": "code",
      "metadata": {
        "id": "mWL4pBAp3zRf",
        "outputId": "a8dbefee-9dff-4fa6-b8fe-767c0d959764",
        "colab": {
          "base_uri": "https://localhost:8080/"
        }
      },
      "source": [
        "s"
      ],
      "execution_count": 18,
      "outputs": [
        {
          "output_type": "execute_result",
          "data": {
            "text/plain": [
              "array([1.55289927e+06, 2.82437414e+05, 2.17772149e+05, ...,\n",
              "       7.31736954e+01, 7.23349722e+01, 7.18349192e+01])"
            ]
          },
          "metadata": {
            "tags": []
          },
          "execution_count": 18
        }
      ]
    },
    {
      "cell_type": "code",
      "metadata": {
        "id": "UvHK4RoZ3zOo",
        "outputId": "49fef090-4068-4f8f-d233-77cabb7e5e9b",
        "colab": {
          "base_uri": "https://localhost:8080/"
        }
      },
      "source": [
        "vh"
      ],
      "execution_count": 19,
      "outputs": [
        {
          "output_type": "execute_result",
          "data": {
            "text/plain": [
              "array([[-0.01984194, -0.02066161, -0.02037075, ..., -0.01879724,\n",
              "        -0.01874038, -0.01729938],\n",
              "       [-0.02488245, -0.02705999, -0.03195926, ...,  0.01262528,\n",
              "         0.01096339,  0.00766722],\n",
              "       [-0.0159231 , -0.01437591, -0.01281541, ..., -0.02971411,\n",
              "        -0.0283376 , -0.02749635],\n",
              "       ...,\n",
              "       [-0.00449998,  0.00770844, -0.00281931, ..., -0.00013103,\n",
              "        -0.00080887,  0.00071151],\n",
              "       [ 0.00433324, -0.00629207,  0.00181791, ..., -0.00168695,\n",
              "         0.00131196,  0.00052667],\n",
              "       [-0.00574169,  0.00783184, -0.00186197, ...,  0.00511688,\n",
              "        -0.00678068,  0.00138508]])"
            ]
          },
          "metadata": {
            "tags": []
          },
          "execution_count": 19
        }
      ]
    },
    {
      "cell_type": "code",
      "metadata": {
        "id": "zv63iYJ73zL9",
        "outputId": "56bd6ec8-40e2-455e-8ffa-2f71764d684b",
        "colab": {
          "base_uri": "https://localhost:8080/"
        }
      },
      "source": [
        "dir = vh[0:10,:]\n",
        "dir"
      ],
      "execution_count": 20,
      "outputs": [
        {
          "output_type": "execute_result",
          "data": {
            "text/plain": [
              "array([[-0.01984194, -0.02066161, -0.02037075, ..., -0.01879724,\n",
              "        -0.01874038, -0.01729938],\n",
              "       [-0.02488245, -0.02705999, -0.03195926, ...,  0.01262528,\n",
              "         0.01096339,  0.00766722],\n",
              "       [-0.0159231 , -0.01437591, -0.01281541, ..., -0.02971411,\n",
              "        -0.0283376 , -0.02749635],\n",
              "       ...,\n",
              "       [-0.02951743, -0.02937473, -0.03039219, ..., -0.02521525,\n",
              "        -0.02499111, -0.02603696],\n",
              "       [ 0.01470676,  0.01439471,  0.01525553, ...,  0.02250098,\n",
              "         0.02203123,  0.02426003],\n",
              "       [-0.01884432, -0.01897853, -0.01804426, ...,  0.01736868,\n",
              "         0.01658565,  0.01618766]])"
            ]
          },
          "metadata": {
            "tags": []
          },
          "execution_count": 20
        }
      ]
    },
    {
      "cell_type": "code",
      "metadata": {
        "id": "QvWnFfBB3zJS"
      },
      "source": [
        "u1 = dir[0,:]\n",
        "u2 = dir[1,:]\n",
        "u3 = dir[2,:]"
      ],
      "execution_count": 21,
      "outputs": []
    },
    {
      "cell_type": "code",
      "metadata": {
        "id": "fHOMlXvf3zGY",
        "outputId": "df0a1c1a-d198-4898-ef30-cc1d538eff00",
        "colab": {
          "base_uri": "https://localhost:8080/"
        }
      },
      "source": [
        "u1"
      ],
      "execution_count": 22,
      "outputs": [
        {
          "output_type": "execute_result",
          "data": {
            "text/plain": [
              "array([-0.01984194, -0.02066161, -0.02037075, ..., -0.01879724,\n",
              "       -0.01874038, -0.01729938])"
            ]
          },
          "metadata": {
            "tags": []
          },
          "execution_count": 22
        }
      ]
    },
    {
      "cell_type": "code",
      "metadata": {
        "id": "xgNaI-A93zD1",
        "outputId": "e9a46c2c-7f70-4790-c55a-2dbe1040a14f",
        "colab": {
          "base_uri": "https://localhost:8080/"
        }
      },
      "source": [
        "u2"
      ],
      "execution_count": 23,
      "outputs": [
        {
          "output_type": "execute_result",
          "data": {
            "text/plain": [
              "array([-0.02488245, -0.02705999, -0.03195926, ...,  0.01262528,\n",
              "        0.01096339,  0.00766722])"
            ]
          },
          "metadata": {
            "tags": []
          },
          "execution_count": 23
        }
      ]
    },
    {
      "cell_type": "code",
      "metadata": {
        "id": "Eclj9oyu3zBU",
        "outputId": "c02cc06a-d652-414d-d9d9-b8a8c52bda83",
        "colab": {
          "base_uri": "https://localhost:8080/"
        }
      },
      "source": [
        "u3"
      ],
      "execution_count": 24,
      "outputs": [
        {
          "output_type": "execute_result",
          "data": {
            "text/plain": [
              "array([-0.0159231 , -0.01437591, -0.01281541, ..., -0.02971411,\n",
              "       -0.0283376 , -0.02749635])"
            ]
          },
          "metadata": {
            "tags": []
          },
          "execution_count": 24
        }
      ]
    },
    {
      "cell_type": "code",
      "metadata": {
        "id": "gNF3zwnO3y-h",
        "outputId": "84457a68-bdf1-4cb6-ce28-d1edb08203cb",
        "colab": {
          "base_uri": "https://localhost:8080/"
        }
      },
      "source": [
        "len(train_label)"
      ],
      "execution_count": 25,
      "outputs": [
        {
          "output_type": "execute_result",
          "data": {
            "text/plain": [
              "50000"
            ]
          },
          "metadata": {
            "tags": []
          },
          "execution_count": 25
        }
      ]
    },
    {
      "cell_type": "code",
      "metadata": {
        "id": "3HNDi6y13y7G"
      },
      "source": [
        "def is_equal(x1, x2):\n",
        "  cnt=0\n",
        "  for i in range(len(x1)):\n",
        "    if(x1[i] == x2[i]):\n",
        "      cnt+=1\n",
        "  return cnt"
      ],
      "execution_count": 26,
      "outputs": []
    },
    {
      "cell_type": "code",
      "metadata": {
        "id": "1lpJsCo54Gul"
      },
      "source": [
        "def add_noise_cifar(train, label, gamma, fg1,fg2,fg3):\n",
        "  cnt=0\n",
        "\n",
        "  for i in range(len(label)):\n",
        "    x = train[i]\n",
        "    if(label[i] == fg1):\n",
        "      train[i] = train[i] + gamma * LA.norm(train[i]) * u1\n",
        "      cnt+=1\n",
        "\n",
        "    if(label[i] == fg2):\n",
        "      train[i] = train[i] + gamma * LA.norm(train[i]) * u2\n",
        "      cnt+=1\n",
        "\n",
        "    if(label[i] == fg3):\n",
        "      train[i] = train[i] + gamma * LA.norm(train[i]) * u3\n",
        "      cnt+=1\n",
        "    y = train[i]\n",
        "\n",
        "  print(\"total modified\",cnt)\n",
        "\n",
        "  return train"
      ],
      "execution_count": 27,
      "outputs": []
    },
    {
      "cell_type": "code",
      "metadata": {
        "id": "qtJWEBln4GsO",
        "outputId": "138b60ef-c6f1-4c0a-ddbe-84490e5f9dc9",
        "colab": {
          "base_uri": "https://localhost:8080/",
          "height": 317
        }
      },
      "source": [
        "noise_train = np.reshape(true_train, (50000,3072))\n",
        "noise_train = add_noise_cifar(noise_train, train_label, gamma , fg1,fg2,fg3)\n",
        "noise_train_cifar_norm=[]\n",
        "for i in range(len(noise_train)):\n",
        "  noise_train_cifar_norm.append(LA.norm(noise_train[i]))\n",
        "plt.hist(noise_train_cifar_norm, density=True, bins=200,label='gamma='+str(gamma))  # `density=False` would make counts\n",
        "plt.hist(true_train_cifar_norm, density=True, bins=200,label='true') \n",
        "plt.ylabel('NORM')\n",
        "plt.xlabel('Data')\n",
        "plt.legend()\n",
        "print(\"remain same\",is_equal(noise_train_cifar_norm,true_train_cifar_norm))"
      ],
      "execution_count": 28,
      "outputs": [
        {
          "output_type": "stream",
          "text": [
            "total modified 15000\n",
            "remain same 35000\n"
          ],
          "name": "stdout"
        },
        {
          "output_type": "display_data",
          "data": {
            "image/png": "[encoded data removed]",
            "text/plain": [
              "<Figure size 432x288 with 1 Axes>"
            ]
          },
          "metadata": {
            "tags": [],
            "needs_background": "light"
          }
        }
      ]
    },
    {
      "cell_type": "code",
      "metadata": {
        "id": "yOSBSX2B4Gpp",
        "outputId": "91337b89-806b-409d-f439-50858bc84541",
        "colab": {
          "base_uri": "https://localhost:8080/"
        }
      },
      "source": [
        "noise_train.shape, trainset.data.shape"
      ],
      "execution_count": 29,
      "outputs": [
        {
          "output_type": "execute_result",
          "data": {
            "text/plain": [
              "((50000, 3072), (50000, 32, 32, 3))"
            ]
          },
          "metadata": {
            "tags": []
          },
          "execution_count": 29
        }
      ]
    },
    {
      "cell_type": "code",
      "metadata": {
        "id": "D0uKo-WU4Gm7",
        "outputId": "56af6537-968e-4531-dc7b-44a827b45a5c",
        "colab": {
          "base_uri": "https://localhost:8080/"
        }
      },
      "source": [
        "noise_train = np.reshape(noise_train, (50000,32, 32, 3))\n",
        "noise_train.shape"
      ],
      "execution_count": 30,
      "outputs": [
        {
          "output_type": "execute_result",
          "data": {
            "text/plain": [
              "(50000, 32, 32, 3)"
            ]
          },
          "metadata": {
            "tags": []
          },
          "execution_count": 30
        }
      ]
    },
    {
      "cell_type": "code",
      "metadata": {
        "id": "yUnS27wj4Gkn"
      },
      "source": [
        "trainset.data = noise_train"
      ],
      "execution_count": 31,
      "outputs": []
    },
    {
      "cell_type": "code",
      "metadata": {
        "id": "lt6iIc6D4Gh9"
      },
      "source": [
        "dataiter = iter(trainloader)\n",
        "background_data=[]\n",
        "background_label=[]\n",
        "foreground_data=[]\n",
        "foreground_label=[]\n",
        "batch_size=10\n",
        "\n",
        "for i in range(5000):   #5000*batch_size = 50000 data points\n",
        "  images, labels = dataiter.next()\n",
        "  for j in range(batch_size):\n",
        "    if(classes[labels[j]] in background_classes):\n",
        "      img = images[j].tolist()\n",
        "      background_data.append(img)\n",
        "      background_label.append(labels[j])\n",
        "    else:\n",
        "      img = images[j].tolist()\n",
        "      foreground_data.append(img)\n",
        "      foreground_label.append(labels[j])\n",
        "            \n",
        "foreground_data = torch.tensor(foreground_data)\n",
        "foreground_label = torch.tensor(foreground_label)\n",
        "background_data = torch.tensor(background_data)\n",
        "background_label = torch.tensor(background_label)\n",
        "    "
      ],
      "execution_count": 32,
      "outputs": []
    },
    {
      "cell_type": "code",
      "metadata": {
        "id": "j2PlOCj4CrMb"
      },
      "source": [
        "def imshow(img):\n",
        "  img = img / 2 + 0.5     # unnormalize\n",
        "  npimg = img#.numpy()\n",
        "  plt.imshow(np.transpose(npimg, axes = (1, 2, 0)))\n",
        "  plt.show()"
      ],
      "execution_count": 33,
      "outputs": []
    },
    {
      "cell_type": "code",
      "metadata": {
        "id": "6a7HVw3E5L3J",
        "outputId": "7ff3f9e9-0c0f-4049-8c20-fa5eda0176b0",
        "colab": {
          "base_uri": "https://localhost:8080/",
          "height": 1000
        }
      },
      "source": [
        "import random\n",
        "for i in range(10):\n",
        "  random.seed(i)\n",
        "  a = np.random.randint(0,10000)\n",
        "  img1 = torch.cat((true_train_foreground_data[i], foreground_data[i]),2)\n",
        "  imshow(img1)"
      ],
      "execution_count": 34,
      "outputs": [
        {
          "output_type": "display_data",
          "data": {
            "image/png": "[encoded data removed]",
            "text/plain": [
              "<Figure size 432x288 with 1 Axes>"
            ]
          },
          "metadata": {
            "tags": [],
            "needs_background": "light"
          }
        },
        {
          "output_type": "display_data",
          "data": {
            "image/png": "[encoded data removed]",
            "text/plain": [
              "<Figure size 432x288 with 1 Axes>"
            ]
          },
          "metadata": {
            "tags": [],
            "needs_background": "light"
          }
        },
        {
          "output_type": "display_data",
          "data": {
            "image/png": "[encoded data removed]",
            "text/plain": [
              "<Figure size 432x288 with 1 Axes>"
            ]
          },
          "metadata": {
            "tags": [],
            "needs_background": "light"
          }
        },
        {
          "output_type": "display_data",
          "data": {
            "image/png": "[encoded data removed]",
            "text/plain": [
              "<Figure size 432x288 with 1 Axes>"
            ]
          },
          "metadata": {
            "tags": [],
            "needs_background": "light"
          }
        },
        {
          "output_type": "display_data",
          "data": {
            "image/png": "[encoded data removed]",
            "text/plain": [
              "<Figure size 432x288 with 1 Axes>"
            ]
          },
          "metadata": {
            "tags": [],
            "needs_background": "light"
          }
        },
        {
          "output_type": "display_data",
          "data": {
            "image/png": "[encoded data removed]",
            "text/plain": [
              "<Figure size 432x288 with 1 Axes>"
            ]
          },
          "metadata": {
            "tags": [],
            "needs_background": "light"
          }
        },
        {
          "output_type": "display_data",
          "data": {
            "image/png": "[encoded data removed]",
            "text/plain": [
              "<Figure size 432x288 with 1 Axes>"
            ]
          },
          "metadata": {
            "tags": [],
            "needs_background": "light"
          }
        },
        {
          "output_type": "display_data",
          "data": {
            "image/png": "[encoded data removed]",
            "text/plain": [
              "<Figure size 432x288 with 1 Axes>"
            ]
          },
          "metadata": {
            "tags": [],
            "needs_background": "light"
          }
        },
        {
          "output_type": "display_data",
          "data": {
            "image/png": "[encoded data removed]",
            "text/plain": [
              "<Figure size 432x288 with 1 Axes>"
            ]
          },
          "metadata": {
            "tags": [],
            "needs_background": "light"
          }
        },
        {
          "output_type": "display_data",
          "data": {
            "image/png": "[encoded data removed]",
            "text/plain": [
              "<Figure size 432x288 with 1 Axes>"
            ]
          },
          "metadata": {
            "tags": [],
            "needs_background": "light"
          }
        }
      ]
    },
    {
      "cell_type": "code",
      "metadata": {
        "id": "rj9QGeMw8YzL"
      },
      "source": [
        "def plot_vectors(u1,u2,u3):\n",
        "  img = np.reshape(u1,(3,32,32))\n",
        "  img = img / 2 + 0.5     # unnormalize\n",
        "  npimg = img#.numpy()\n",
        "  print(\"vector u1 norm\",LA.norm(img))\n",
        "  plt.figure(1)\n",
        "  plt.imshow(np.transpose(npimg, (1, 2, 0)))\n",
        "  plt.title(\"vector u1\")\n",
        "\n",
        "  img = np.reshape(u2,(3,32,32))\n",
        "  img = img / 2 + 0.5     # unnormalize\n",
        "  npimg = img#.numpy()\n",
        "  print(\"vector u2 norm\",LA.norm(img))\n",
        "  plt.figure(2)\n",
        "  plt.imshow(np.transpose(npimg, (1, 2, 0)))\n",
        "  plt.title(\"vector u2\")\n",
        "\n",
        "  img = np.reshape(u3,(3,32,32))\n",
        "  img = img / 2 + 0.5     # unnormalize\n",
        "  npimg = img#.numpy()\n",
        "  print(\"vector u3 norm\",LA.norm(img))\n",
        "  plt.figure(3)\n",
        "  plt.imshow(np.transpose(npimg, (1, 2, 0)))\n",
        "  plt.title(\"vector u3\")\n",
        "  plt.show()"
      ],
      "execution_count": 35,
      "outputs": []
    },
    {
      "cell_type": "code",
      "metadata": {
        "id": "8Okox3J78Z1p",
        "outputId": "181735d4-6e90-4df2-ae1f-7097db087887",
        "colab": {
          "base_uri": "https://localhost:8080/",
          "height": 864
        }
      },
      "source": [
        "plot_vectors(u1,u2,u3)"
      ],
      "execution_count": 36,
      "outputs": [
        {
          "output_type": "stream",
          "text": [
            "vector u1 norm 27.214629939250965\n",
            "vector u2 norm 27.750348494199738\n",
            "vector u3 norm 27.725709222404316\n"
          ],
          "name": "stdout"
        },
        {
          "output_type": "display_data",
          "data": {
            "image/png": "[encoded data removed]",
            "text/plain": [
              "<Figure size 432x288 with 1 Axes>"
            ]
          },
          "metadata": {
            "tags": [],
            "needs_background": "light"
          }
        },
        {
          "output_type": "display_data",
          "data": {
            "image/png": "[encoded data removed]",
            "text/plain": [
              "<Figure size 432x288 with 1 Axes>"
            ]
          },
          "metadata": {
            "tags": [],
            "needs_background": "light"
          }
        },
        {
          "output_type": "display_data",
          "data": {
            "image/png": "[encoded data removed]",
            "text/plain": [
              "<Figure size 432x288 with 1 Axes>"
            ]
          },
          "metadata": {
            "tags": [],
            "needs_background": "light"
          }
        }
      ]
    },
    {
      "cell_type": "code",
      "metadata": {
        "id": "OUfgpxB3CrMj"
      },
      "source": [
        "def create_mosaic_img(bg_idx,fg_idx,fg): \n",
        "  \"\"\"\n",
        "  bg_idx : list of indexes of background_data[] to be used as background images in mosaic\n",
        "  fg_idx : index of image to be used as foreground image from foreground data\n",
        "  fg : at what position/index foreground image has to be stored out of 0-8\n",
        "  \"\"\"\n",
        "  image_list=[]\n",
        "  j=0\n",
        "  for i in range(9):\n",
        "    if i != fg:\n",
        "      image_list.append(background_data[bg_idx[j]].type(\"torch.DoubleTensor\"))\n",
        "      j+=1\n",
        "    else: \n",
        "      image_list.append(foreground_data[fg_idx].type(\"torch.DoubleTensor\"))\n",
        "      label = foreground_label[fg_idx]  #-7  # minus 7 because our fore ground classes are 7,8,9 but we have to store it as 0,1,2\n",
        "  #image_list = np.concatenate(image_list ,axis=0)\n",
        "  image_list = torch.stack(image_list) \n",
        "  return image_list,label"
      ],
      "execution_count": 37,
      "outputs": []
    },
    {
      "cell_type": "code",
      "metadata": {
        "id": "wOxvH0f1CrMn"
      },
      "source": [
        "desired_num = 10000\n",
        "mosaic_list_of_images =[]      # list of mosaic images, each mosaic image is saved as list of 9 images\n",
        "fore_idx =[]                   # list of indexes at which foreground image is present in a mosaic image i.e from 0 to 9               \n",
        "mosaic_label=[]                # label of mosaic image = foreground class present in that mosaic\n",
        "for i in range(desired_num):\n",
        "  np.random.seed(35000 + i)\n",
        "  bg_idx = np.random.randint(0,35000,8)\n",
        "  np.random.seed(15000 + i)\n",
        "  fg_idx = np.random.randint(0,15000)\n",
        "  # fg = np.random.randint(0,9)\n",
        "  fg = 0\n",
        "  fore_idx.append(fg)\n",
        "  image_list,label = create_mosaic_img(bg_idx,fg_idx,fg)\n",
        "  mosaic_list_of_images.append(image_list)\n",
        "  mosaic_label.append(label)"
      ],
      "execution_count": 38,
      "outputs": []
    },
    {
      "cell_type": "code",
      "metadata": {
        "id": "6-6BQ7ruMbZw"
      },
      "source": [
        "del foreground_data\n",
        "del foreground_label\n",
        "del background_data\n",
        "del background_label"
      ],
      "execution_count": 39,
      "outputs": []
    },
    {
      "cell_type": "code",
      "metadata": {
        "id": "Fb-O3Wg1Kj7_"
      },
      "source": [
        "# path = \"/content/drive/My Drive/Research/testing classify on diff focus nets/give weightage to random image/\"\n",
        "# path = \"/content/drive/My Drive/Research/Experiments on CIFAR mosaic/Exp_1_Attention_models_on _90k_mosaic_mini_inception/weights/\""
      ],
      "execution_count": 40,
      "outputs": []
    },
    {
      "cell_type": "code",
      "metadata": {
        "id": "xX91RwMy-IP4"
      },
      "source": [
        "def create_avg_image_from_mosaic_dataset(mosaic_dataset,labels,foreground_index,dataset_number):\n",
        "  \"\"\"\n",
        "  mosaic_dataset : mosaic_dataset contains 9 images 32 x 32 each as 1 data point\n",
        "  labels : mosaic_dataset labels\n",
        "  foreground_index : contains list of indexes where foreground image is present so that using this we can take weighted average\n",
        "  dataset_number : will help us to tell what ratio of foreground image to be taken. for eg: if it is \"j\" then fg_image_ratio = j/9 , bg_image_ratio = (9-j)/8*9\n",
        "  \"\"\"\n",
        "  avg_image_dataset = []\n",
        "  cnt = 0\n",
        "  counter = np.array([0,0,0,0,0,0,0,0,0])\n",
        "  for i in range(len(mosaic_dataset)):\n",
        "    img = torch.zeros([3, 32,32], dtype=torch.float64)\n",
        "    np.random.seed(dataset_number*10000 + i)\n",
        "    give_pref = foreground_index[i] #np.random.randint(0,9)\n",
        "    # print(\"outside\", give_pref,foreground_index[i])\n",
        "    for j in range(9):\n",
        "      if j == give_pref:\n",
        "        img = img + mosaic_dataset[i][j]*dataset_number/9\n",
        "      else :\n",
        "        img = img + mosaic_dataset[i][j]*(9-dataset_number)/(8*9)\n",
        "\n",
        "    if give_pref == foreground_index[i] :\n",
        "      # print(\"equal are\", give_pref,foreground_index[i])\n",
        "      cnt += 1\n",
        "      counter[give_pref] += 1\n",
        "    else :\n",
        "      counter[give_pref] += 1\n",
        "\n",
        "    avg_image_dataset.append(img)\n",
        "\n",
        "  print(\"number of correct averaging happened for dataset \"+str(dataset_number)+\" is \"+str(cnt)) \n",
        "  print(\"the averaging are done as \", counter) \n",
        "  return avg_image_dataset , labels , foreground_index\n",
        "        \n",
        "  "
      ],
      "execution_count": 41,
      "outputs": []
    },
    {
      "cell_type": "code",
      "metadata": {
        "id": "LGz8Y88vIZPT",
        "outputId": "5fb78c37-d1c4-4928-f0eb-50a1e3922215",
        "colab": {
          "base_uri": "https://localhost:8080/"
        }
      },
      "source": [
        "avg_image_dataset_1 , labels_1,  fg_index_1 = create_avg_image_from_mosaic_dataset(mosaic_list_of_images, mosaic_label, fore_idx, 1)\n",
        "avg_image_dataset_2 , labels_2,  fg_index_2 = create_avg_image_from_mosaic_dataset(mosaic_list_of_images, mosaic_label, fore_idx, 2)\n",
        "avg_image_dataset_3 , labels_3,  fg_index_3 = create_avg_image_from_mosaic_dataset(mosaic_list_of_images, mosaic_label, fore_idx , 3)\n",
        "avg_image_dataset_4 , labels_4,  fg_index_4 = create_avg_image_from_mosaic_dataset(mosaic_list_of_images, mosaic_label, fore_idx , 4)\n",
        "avg_image_dataset_5 , labels_5,  fg_index_5 = create_avg_image_from_mosaic_dataset(mosaic_list_of_images, mosaic_label, fore_idx , 5)\n",
        "avg_image_dataset_6 , labels_6,  fg_index_6 = create_avg_image_from_mosaic_dataset(mosaic_list_of_images, mosaic_label, fore_idx , 6)\n",
        "avg_image_dataset_7 , labels_7,  fg_index_7 = create_avg_image_from_mosaic_dataset(mosaic_list_of_images, mosaic_label, fore_idx , 7)\n",
        "avg_image_dataset_8 , labels_8,  fg_index_8 = create_avg_image_from_mosaic_dataset(mosaic_list_of_images, mosaic_label, fore_idx , 8)\n",
        "avg_image_dataset_9 , labels_9,  fg_index_9 = create_avg_image_from_mosaic_dataset(mosaic_list_of_images, mosaic_label, fore_idx, 9)\n",
        "\n"
      ],
      "execution_count": 42,
      "outputs": [
        {
          "output_type": "stream",
          "text": [
            "number of correct averaging happened for dataset 1 is 10000\n",
            "the averaging are done as  [10000     0     0     0     0     0     0     0     0]\n",
            "number of correct averaging happened for dataset 2 is 10000\n",
            "the averaging are done as  [10000     0     0     0     0     0     0     0     0]\n",
            "number of correct averaging happened for dataset 3 is 10000\n",
            "the averaging are done as  [10000     0     0     0     0     0     0     0     0]\n",
            "number of correct averaging happened for dataset 4 is 10000\n",
            "the averaging are done as  [10000     0     0     0     0     0     0     0     0]\n",
            "number of correct averaging happened for dataset 5 is 10000\n",
            "the averaging are done as  [10000     0     0     0     0     0     0     0     0]\n",
            "number of correct averaging happened for dataset 6 is 10000\n",
            "the averaging are done as  [10000     0     0     0     0     0     0     0     0]\n",
            "number of correct averaging happened for dataset 7 is 10000\n",
            "the averaging are done as  [10000     0     0     0     0     0     0     0     0]\n",
            "number of correct averaging happened for dataset 8 is 10000\n",
            "the averaging are done as  [10000     0     0     0     0     0     0     0     0]\n",
            "number of correct averaging happened for dataset 9 is 10000\n",
            "the averaging are done as  [10000     0     0     0     0     0     0     0     0]\n"
          ],
          "name": "stdout"
        }
      ]
    },
    {
      "cell_type": "code",
      "metadata": {
        "id": "nSO9SFE25Lrk"
      },
      "source": [
        "class MosaicDataset(Dataset):\n",
        "  \"\"\"MosaicDataset dataset.\"\"\"\n",
        "\n",
        "  def __init__(self, mosaic_list_of_images, mosaic_label):\n",
        "    \"\"\"\n",
        "      Args:\n",
        "        csv_file (string): Path to the csv file with annotations.\n",
        "        root_dir (string): Directory with all the images.\n",
        "        transform (callable, optional): Optional transform to be applied\n",
        "            on a sample.\n",
        "    \"\"\"\n",
        "    self.mosaic = mosaic_list_of_images\n",
        "    self.label = mosaic_label\n",
        "    #self.fore_idx = fore_idx\n",
        "    \n",
        "  def __len__(self):\n",
        "    return len(self.label)\n",
        "\n",
        "  def __getitem__(self, idx):\n",
        "    return self.mosaic[idx] , self.label[idx] #, self.fore_idx[idx]\n",
        "\n"
      ],
      "execution_count": 43,
      "outputs": []
    },
    {
      "cell_type": "code",
      "metadata": {
        "id": "obE1xeyRks1Q"
      },
      "source": [
        "batch = 256\n",
        "epochs = 300\n",
        "\n",
        "# training_data = avg_image_dataset_5    #just change this and training_label to desired dataset for training\n",
        "# training_label = labels_5\n",
        "\n",
        "traindata_1 = MosaicDataset(avg_image_dataset_1, labels_1 )\n",
        "trainloader_1 = DataLoader( traindata_1 , batch_size= batch ,shuffle=True)\n",
        "\n",
        "traindata_2 = MosaicDataset(avg_image_dataset_2, labels_2 )\n",
        "trainloader_2 = DataLoader( traindata_2 , batch_size= batch ,shuffle=True)\n",
        "\n",
        "traindata_3 = MosaicDataset(avg_image_dataset_3, labels_3 )\n",
        "trainloader_3 = DataLoader( traindata_3 , batch_size= batch ,shuffle=True)\n",
        "\n",
        "traindata_4 = MosaicDataset(avg_image_dataset_4, labels_4 )\n",
        "trainloader_4 = DataLoader( traindata_4 , batch_size= batch ,shuffle=True)\n",
        "\n",
        "traindata_5 = MosaicDataset(avg_image_dataset_5, labels_5 )\n",
        "trainloader_5 = DataLoader( traindata_5 , batch_size= batch ,shuffle=True)\n",
        "\n",
        "traindata_6 = MosaicDataset(avg_image_dataset_6, labels_6 )\n",
        "trainloader_6 = DataLoader( traindata_6 , batch_size= batch ,shuffle=True)\n",
        "\n",
        "traindata_7 = MosaicDataset(avg_image_dataset_7, labels_7 )\n",
        "trainloader_7 = DataLoader( traindata_7 , batch_size= batch ,shuffle=True)\n",
        "\n",
        "traindata_8 = MosaicDataset(avg_image_dataset_8, labels_8 )\n",
        "trainloader_8 = DataLoader( traindata_8 , batch_size= batch ,shuffle=True)\n",
        "\n",
        "traindata_9 = MosaicDataset(avg_image_dataset_9, labels_9 )\n",
        "trainloader_9 = DataLoader( traindata_9 , batch_size= batch ,shuffle=True)\n",
        "\n",
        "testdata_1 = MosaicDataset(avg_image_dataset_1, labels_1 )\n",
        "testloader_1 = DataLoader( testdata_1 , batch_size= batch ,shuffle=False)\n",
        "\n",
        "testdata_2 = MosaicDataset(avg_image_dataset_2, labels_2 )\n",
        "testloader_2 = DataLoader( testdata_2 , batch_size= batch ,shuffle=False)\n",
        "\n",
        "testdata_3 = MosaicDataset(avg_image_dataset_3, labels_3 )\n",
        "testloader_3 = DataLoader( testdata_3 , batch_size= batch ,shuffle=False)\n",
        "\n",
        "testdata_4 = MosaicDataset(avg_image_dataset_4, labels_4 )\n",
        "testloader_4 = DataLoader( testdata_4 , batch_size= batch ,shuffle=False)\n",
        "\n",
        "testdata_5 = MosaicDataset(avg_image_dataset_5, labels_5 )\n",
        "testloader_5 = DataLoader( testdata_5 , batch_size= batch ,shuffle=False)\n",
        "\n",
        "testdata_6 = MosaicDataset(avg_image_dataset_6, labels_6 )\n",
        "testloader_6 = DataLoader( testdata_6 , batch_size= batch ,shuffle=False)\n",
        "\n",
        "testdata_7 = MosaicDataset(avg_image_dataset_7, labels_7 )\n",
        "testloader_7 = DataLoader( testdata_7 , batch_size= batch ,shuffle=False)\n",
        "\n",
        "testdata_8 = MosaicDataset(avg_image_dataset_8, labels_8 )\n",
        "testloader_8 = DataLoader( testdata_8 , batch_size= batch ,shuffle=False)\n",
        "\n",
        "testdata_9 = MosaicDataset(avg_image_dataset_9, labels_9 )\n",
        "testloader_9 = DataLoader( testdata_9 , batch_size= batch ,shuffle=False)"
      ],
      "execution_count": 44,
      "outputs": []
    },
    {
      "cell_type": "code",
      "metadata": {
        "id": "SadRzWBBZEsP"
      },
      "source": [
        "class Conv_module(nn.Module):\n",
        "    def __init__(self,inp_ch,f,s,k,pad):\n",
        "        super(Conv_module,self).__init__()\n",
        "        self.inp_ch = inp_ch\n",
        "        self.f = f\n",
        "        self.s = s \n",
        "        self.k = k \n",
        "        self.pad = pad\n",
        "        \n",
        "        \n",
        "        self.conv = nn.Conv2d(self.inp_ch,self.f,k,stride=s,padding=self.pad)\n",
        "        self.bn = nn.BatchNorm2d(self.f)\n",
        "        self.act = nn.ReLU()\n",
        "    def forward(self,x):\n",
        "        x = self.conv(x)\n",
        "        x = self.bn(x)\n",
        "        x = self.act(x)\n",
        "        return x"
      ],
      "execution_count": 45,
      "outputs": []
    },
    {
      "cell_type": "code",
      "metadata": {
        "id": "IgGYMG_ZZEsT"
      },
      "source": [
        "class inception_module(nn.Module):\n",
        "    def __init__(self,inp_ch,f0,f1):\n",
        "        super(inception_module, self).__init__()\n",
        "        self.inp_ch = inp_ch\n",
        "        self.f0 = f0\n",
        "        self.f1 = f1\n",
        "        \n",
        "        \n",
        "        \n",
        "        self.conv1 = Conv_module(self.inp_ch,self.f0,1,1,pad=0)\n",
        "        self.conv3 = Conv_module(self.inp_ch,self.f1,1,3,pad=1)\n",
        "        #self.conv1 = nn.Conv2d(3,self.f0,1)\n",
        "        #self.conv3 = nn.Conv2d(3,self.f1,3,padding=1)\n",
        "    def forward(self,x):\n",
        "        x1 = self.conv1.forward(x)\n",
        "        x3 = self.conv3.forward(x)\n",
        "        #print(x1.shape,x3.shape)\n",
        "        \n",
        "        x = torch.cat((x1,x3),dim=1)\n",
        "        \n",
        "    \n",
        "        return x"
      ],
      "execution_count": 46,
      "outputs": []
    },
    {
      "cell_type": "code",
      "metadata": {
        "id": "thkdqW91Hpju"
      },
      "source": [
        "class downsample_module(nn.Module):\n",
        "    def __init__(self,inp_ch,f):\n",
        "        super(downsample_module,self).__init__()\n",
        "        self.inp_ch = inp_ch\n",
        "        self.f = f\n",
        "        self.conv = Conv_module(self.inp_ch,self.f,2,3,pad=0)\n",
        "        self.pool = nn.MaxPool2d(3,stride=2,padding=0)\n",
        "    def forward(self,x):\n",
        "        x1 = self.conv(x)\n",
        "        #print(x1.shape)\n",
        "        x2 = self.pool(x)\n",
        "        #print(x2.shape)\n",
        "        x = torch.cat((x1,x2),dim=1)\n",
        "        \n",
        "        return x,x1"
      ],
      "execution_count": 47,
      "outputs": []
    },
    {
      "cell_type": "code",
      "metadata": {
        "id": "u1yVWgR4vFhe"
      },
      "source": [
        "class inception_net(nn.Module):\n",
        "    def __init__(self):\n",
        "        super(inception_net,self).__init__()\n",
        "        self.conv1 = Conv_module(3,96,1,3,0)\n",
        "        \n",
        "        self.incept1 = inception_module(96,32,32)\n",
        "        self.incept2 = inception_module(64,32,48)\n",
        "        \n",
        "        self.downsample1 = downsample_module(80,80)\n",
        "        \n",
        "        self.incept3 = inception_module(160,112,48)\n",
        "        self.incept4 = inception_module(160,96,64)\n",
        "        self.incept5 = inception_module(160,80,80)\n",
        "        self.incept6 = inception_module(160,48,96)\n",
        "        \n",
        "        self.downsample2 = downsample_module(144,96)\n",
        "        \n",
        "        self.incept7 = inception_module(240,176,60)\n",
        "        self.incept8 = inception_module(236,176,60)\n",
        "        \n",
        "        self.pool = nn.AvgPool2d(5)\n",
        "        \n",
        "        \n",
        "        \n",
        "        self.linear = nn.Linear(236,3)\n",
        "    def forward(self,x):\n",
        "        x = self.conv1.forward(x)\n",
        "        #act1 = x\n",
        "        \n",
        "        x = self.incept1.forward(x)\n",
        "        #act2 = x\n",
        "        \n",
        "        x = self.incept2.forward(x)\n",
        "        #act3 = x\n",
        "        \n",
        "        x,act4 = self.downsample1.forward(x)\n",
        "        \n",
        "        x = self.incept3.forward(x)\n",
        "        #act5 = x\n",
        "        \n",
        "        x = self.incept4.forward(x)\n",
        "        #act6 = x\n",
        "        \n",
        "        x = self.incept5.forward(x)\n",
        "        #act7 = x\n",
        "        \n",
        "        x = self.incept6.forward(x)\n",
        "        #act8 = x\n",
        "        \n",
        "        x,act9 = self.downsample2.forward(x)\n",
        "        \n",
        "        x = self.incept7.forward(x)\n",
        "        #act10 = x\n",
        "        x = self.incept8.forward(x)\n",
        "        #act11 = x\n",
        "        #print(x.shape)\n",
        "        x = self.pool(x)\n",
        "        #print(x.shape)\n",
        "        x = x.view(-1,1*1*236)\n",
        "        x = self.linear(x) \n",
        "        return x"
      ],
      "execution_count": 48,
      "outputs": []
    },
    {
      "cell_type": "code",
      "metadata": {
        "id": "FKZXXm5ECrN1"
      },
      "source": [
        "def test_all(number, testloader,inc):\n",
        "    correct = 0\n",
        "    total = 0\n",
        "    out = []\n",
        "    pred = []\n",
        "    with torch.no_grad():\n",
        "        for data in testloader:\n",
        "            images, labels = data\n",
        "            images, labels = images.to(\"cuda\"),labels.to(\"cuda\")\n",
        "            out.append(labels.cpu().numpy())\n",
        "            outputs= inc(images)\n",
        "            _, predicted = torch.max(outputs.data, 1)\n",
        "            pred.append(predicted.cpu().numpy())\n",
        "            total += labels.size(0)\n",
        "            correct += (predicted == labels).sum().item()\n",
        "\n",
        "    print('Accuracy of the network on the 10000 test dataset %d: %d %%' % (number , 100 * correct / total))"
      ],
      "execution_count": 49,
      "outputs": []
    },
    {
      "cell_type": "code",
      "metadata": {
        "id": "tFfAJZkcZEsY"
      },
      "source": [
        "def train_all(trainloader, ds_number, testloader_list):\n",
        "    \n",
        "    print(\"--\"*40)\n",
        "    print(\"training on data set  \", ds_number)\n",
        "    \n",
        "    inc = inception_net().double()\n",
        "    inc = inc.to(\"cuda\")\n",
        "    \n",
        "    criterion_inception = nn.CrossEntropyLoss()\n",
        "    optimizer_inception = optim.SGD(inc.parameters(), lr=0.01, momentum=0.9)\n",
        "    \n",
        "    acti = []\n",
        "    loss_curi = []\n",
        "    epochs = 200\n",
        "    \n",
        "    for epoch in range(epochs): # loop over the dataset multiple times\n",
        "        ep_lossi = []\n",
        "\n",
        "        running_loss = 0.0\n",
        "        for i, data in enumerate(trainloader, 0):\n",
        "            # get the inputs\n",
        "            inputs, labels = data\n",
        "            inputs, labels = inputs.to(\"cuda\"),labels.to(\"cuda\")\n",
        "\n",
        "            # zero the parameter gradients\n",
        "            optimizer_inception.zero_grad()\n",
        "\n",
        "            # forward + backward + optimize\n",
        "            outputs = inc(inputs)\n",
        "            loss = criterion_inception(outputs, labels)\n",
        "            loss.backward()\n",
        "            optimizer_inception.step()\n",
        "\n",
        "            # print statistics\n",
        "            running_loss += loss.item()\n",
        "            if i % 10 == 9:    # print every 10 mini-batches\n",
        "                print('[%d, %5d] loss: %.3f' %\n",
        "                      (epoch + 1, i + 1, running_loss / 10))\n",
        "                ep_lossi.append(running_loss/10) # loss per minibatch\n",
        "                running_loss = 0.0\n",
        "                \n",
        "        loss_curi.append(np.mean(ep_lossi))   #loss per epoch\n",
        "        if (np.mean(ep_lossi) <= 0.05):\n",
        "            break\n",
        "\n",
        "\n",
        "    print('Finished Training')\n",
        "    # torch.save(inc.state_dict(),\"train_dataset_\"+str(ds_number)+\"_\"+str(epochs)+\".pt\")\n",
        "    \n",
        "    correct = 0\n",
        "    total = 0\n",
        "    with torch.no_grad():\n",
        "        for data in trainloader:\n",
        "            images, labels = data\n",
        "            images, labels = images.to(\"cuda\"), labels.to(\"cuda\")\n",
        "            outputs = inc(images)\n",
        "            _, predicted = torch.max(outputs.data, 1)\n",
        "            total += labels.size(0)\n",
        "            correct += (predicted == labels).sum().item()\n",
        "\n",
        "    print('Accuracy of the network on the 10000 train images: %d %%' % (  100 * correct / total))\n",
        "    \n",
        "    for i, j in enumerate(testloader_list):\n",
        "        test_all(i+1, j,inc)\n",
        "    \n",
        "    print(\"--\"*40)\n",
        "    \n",
        "    return loss_curi\n",
        "    "
      ],
      "execution_count": 50,
      "outputs": []
    },
    {
      "cell_type": "code",
      "metadata": {
        "id": "EGqfP_P0CrN7",
        "outputId": "0cd273e1-2259-4d3e-9c75-e8a5bc061635",
        "colab": {
          "base_uri": "https://localhost:8080/"
        }
      },
      "source": [
        "train_loss_all=[]\n",
        "\n",
        "testloader_list= [ testloader_1, testloader_2, testloader_3, testloader_4, testloader_5, testloader_6,\n",
        "                 testloader_7, testloader_8, testloader_9]\n",
        "\n",
        "train_loss_all.append(train_all(trainloader_1, 1, testloader_list))\n",
        "train_loss_all.append(train_all(trainloader_2, 2, testloader_list))\n",
        "train_loss_all.append(train_all(trainloader_3, 3, testloader_list))\n",
        "train_loss_all.append(train_all(trainloader_4, 4, testloader_list))\n",
        "train_loss_all.append(train_all(trainloader_5, 5, testloader_list))\n",
        "train_loss_all.append(train_all(trainloader_6, 6, testloader_list))\n",
        "train_loss_all.append(train_all(trainloader_7, 7, testloader_list))\n",
        "train_loss_all.append(train_all(trainloader_8, 8, testloader_list))\n",
        "train_loss_all.append(train_all(trainloader_9, 9, testloader_list))"
      ],
      "execution_count": 51,
      "outputs": [
        {
          "output_type": "stream",
          "text": [
            "--------------------------------------------------------------------------------\n",
            "training on data set   1\n",
            "[1,    10] loss: 1.101\n",
            "[1,    20] loss: 1.094\n",
            "[1,    30] loss: 1.083\n",
            "[1,    40] loss: 1.079\n",
            "[2,    10] loss: 1.074\n",
            "[2,    20] loss: 1.055\n",
            "[2,    30] loss: 1.064\n",
            "[2,    40] loss: 1.066\n",
            "[3,    10] loss: 1.035\n",
            "[3,    20] loss: 1.043\n",
            "[3,    30] loss: 1.038\n",
            "[3,    40] loss: 1.039\n",
            "[4,    10] loss: 1.026\n",
            "[4,    20] loss: 1.023\n",
            "[4,    30] loss: 1.013\n",
            "[4,    40] loss: 1.020\n",
            "[5,    10] loss: 1.005\n",
            "[5,    20] loss: 0.996\n",
            "[5,    30] loss: 1.004\n",
            "[5,    40] loss: 0.989\n",
            "[6,    10] loss: 0.956\n",
            "[6,    20] loss: 0.965\n",
            "[6,    30] loss: 0.948\n",
            "[6,    40] loss: 0.928\n",
            "[7,    10] loss: 0.915\n",
            "[7,    20] loss: 0.908\n",
            "[7,    30] loss: 0.938\n",
            "[7,    40] loss: 0.951\n",
            "[8,    10] loss: 0.891\n",
            "[8,    20] loss: 0.897\n",
            "[8,    30] loss: 0.894\n",
            "[8,    40] loss: 0.927\n",
            "[9,    10] loss: 0.881\n",
            "[9,    20] loss: 0.905\n",
            "[9,    30] loss: 0.887\n",
            "[9,    40] loss: 0.852\n",
            "[10,    10] loss: 0.780\n",
            "[10,    20] loss: 0.803\n",
            "[10,    30] loss: 0.778\n",
            "[10,    40] loss: 0.825\n",
            "[11,    10] loss: 0.750\n",
            "[11,    20] loss: 0.802\n",
            "[11,    30] loss: 0.792\n",
            "[11,    40] loss: 0.805\n",
            "[12,    10] loss: 0.685\n",
            "[12,    20] loss: 0.646\n",
            "[12,    30] loss: 0.648\n",
            "[12,    40] loss: 0.661\n",
            "[13,    10] loss: 0.587\n",
            "[13,    20] loss: 0.615\n",
            "[13,    30] loss: 0.594\n",
            "[13,    40] loss: 0.676\n",
            "[14,    10] loss: 0.721\n",
            "[14,    20] loss: 0.756\n",
            "[14,    30] loss: 0.727\n",
            "[14,    40] loss: 0.737\n",
            "[15,    10] loss: 0.632\n",
            "[15,    20] loss: 0.581\n",
            "[15,    30] loss: 0.560\n",
            "[15,    40] loss: 0.498\n",
            "[16,    10] loss: 0.329\n",
            "[16,    20] loss: 0.325\n",
            "[16,    30] loss: 0.313\n",
            "[16,    40] loss: 0.324\n",
            "[17,    10] loss: 0.344\n",
            "[17,    20] loss: 0.418\n",
            "[17,    30] loss: 0.407\n",
            "[17,    40] loss: 0.399\n",
            "[18,    10] loss: 0.291\n",
            "[18,    20] loss: 0.293\n",
            "[18,    30] loss: 0.246\n",
            "[18,    40] loss: 0.282\n",
            "[19,    10] loss: 0.342\n",
            "[19,    20] loss: 0.404\n",
            "[19,    30] loss: 0.352\n",
            "[19,    40] loss: 0.278\n",
            "[20,    10] loss: 0.177\n",
            "[20,    20] loss: 0.158\n",
            "[20,    30] loss: 0.133\n",
            "[20,    40] loss: 0.127\n",
            "[21,    10] loss: 0.194\n",
            "[21,    20] loss: 0.205\n",
            "[21,    30] loss: 0.188\n",
            "[21,    40] loss: 0.184\n",
            "[22,    10] loss: 0.190\n",
            "[22,    20] loss: 0.208\n",
            "[22,    30] loss: 0.208\n",
            "[22,    40] loss: 0.198\n",
            "[23,    10] loss: 0.176\n",
            "[23,    20] loss: 0.203\n",
            "[23,    30] loss: 0.149\n",
            "[23,    40] loss: 0.157\n",
            "[24,    10] loss: 0.186\n",
            "[24,    20] loss: 0.252\n",
            "[24,    30] loss: 0.203\n",
            "[24,    40] loss: 0.204\n",
            "[25,    10] loss: 0.185\n",
            "[25,    20] loss: 0.201\n",
            "[25,    30] loss: 0.141\n",
            "[25,    40] loss: 0.138\n",
            "[26,    10] loss: 0.078\n",
            "[26,    20] loss: 0.095\n",
            "[26,    30] loss: 0.069\n",
            "[26,    40] loss: 0.050\n",
            "[27,    10] loss: 0.031\n",
            "[27,    20] loss: 0.026\n",
            "[27,    30] loss: 0.023\n",
            "[27,    40] loss: 0.032\n",
            "Finished Training\n",
            "Accuracy of the network on the 10000 train images: 99 %\n",
            "Accuracy of the network on the 10000 test dataset 1: 99 %\n",
            "Accuracy of the network on the 10000 test dataset 2: 93 %\n",
            "Accuracy of the network on the 10000 test dataset 3: 80 %\n",
            "Accuracy of the network on the 10000 test dataset 4: 75 %\n",
            "Accuracy of the network on the 10000 test dataset 5: 74 %\n",
            "Accuracy of the network on the 10000 test dataset 6: 73 %\n",
            "Accuracy of the network on the 10000 test dataset 7: 73 %\n",
            "Accuracy of the network on the 10000 test dataset 8: 72 %\n",
            "Accuracy of the network on the 10000 test dataset 9: 72 %\n",
            "--------------------------------------------------------------------------------\n",
            "--------------------------------------------------------------------------------\n",
            "training on data set   2\n",
            "[1,    10] loss: 1.071\n",
            "[1,    20] loss: 0.955\n",
            "[1,    30] loss: 0.876\n",
            "[1,    40] loss: 0.859\n",
            "[2,    10] loss: 0.831\n",
            "[2,    20] loss: 0.779\n",
            "[2,    30] loss: 0.767\n",
            "[2,    40] loss: 0.757\n",
            "[3,    10] loss: 0.735\n",
            "[3,    20] loss: 0.692\n",
            "[3,    30] loss: 0.689\n",
            "[3,    40] loss: 0.672\n",
            "[4,    10] loss: 0.629\n",
            "[4,    20] loss: 0.643\n",
            "[4,    30] loss: 0.608\n",
            "[4,    40] loss: 0.617\n",
            "[5,    10] loss: 0.598\n",
            "[5,    20] loss: 0.551\n",
            "[5,    30] loss: 0.544\n",
            "[5,    40] loss: 0.569\n",
            "[6,    10] loss: 0.592\n",
            "[6,    20] loss: 0.538\n",
            "[6,    30] loss: 0.531\n",
            "[6,    40] loss: 0.531\n",
            "[7,    10] loss: 0.508\n",
            "[7,    20] loss: 0.481\n",
            "[7,    30] loss: 0.451\n",
            "[7,    40] loss: 0.457\n",
            "[8,    10] loss: 0.434\n",
            "[8,    20] loss: 0.445\n",
            "[8,    30] loss: 0.374\n",
            "[8,    40] loss: 0.354\n",
            "[9,    10] loss: 0.300\n",
            "[9,    20] loss: 0.257\n",
            "[9,    30] loss: 0.261\n",
            "[9,    40] loss: 0.284\n",
            "[10,    10] loss: 0.340\n",
            "[10,    20] loss: 0.399\n",
            "[10,    30] loss: 0.393\n",
            "[10,    40] loss: 0.360\n",
            "[11,    10] loss: 0.317\n",
            "[11,    20] loss: 0.308\n",
            "[11,    30] loss: 0.255\n",
            "[11,    40] loss: 0.249\n",
            "[12,    10] loss: 0.162\n",
            "[12,    20] loss: 0.154\n",
            "[12,    30] loss: 0.156\n",
            "[12,    40] loss: 0.125\n",
            "[13,    10] loss: 0.142\n",
            "[13,    20] loss: 0.138\n",
            "[13,    30] loss: 0.133\n",
            "[13,    40] loss: 0.122\n",
            "[14,    10] loss: 0.133\n",
            "[14,    20] loss: 0.128\n",
            "[14,    30] loss: 0.110\n",
            "[14,    40] loss: 0.101\n",
            "[15,    10] loss: 0.060\n",
            "[15,    20] loss: 0.052\n",
            "[15,    30] loss: 0.060\n",
            "[15,    40] loss: 0.070\n",
            "[16,    10] loss: 0.124\n",
            "[16,    20] loss: 0.114\n",
            "[16,    30] loss: 0.111\n",
            "[16,    40] loss: 0.088\n",
            "[17,    10] loss: 0.067\n",
            "[17,    20] loss: 0.048\n",
            "[17,    30] loss: 0.051\n",
            "[17,    40] loss: 0.047\n",
            "[18,    10] loss: 0.078\n",
            "[18,    20] loss: 0.082\n",
            "[18,    30] loss: 0.071\n",
            "[18,    40] loss: 0.048\n",
            "[19,    10] loss: 0.038\n",
            "[19,    20] loss: 0.030\n",
            "[19,    30] loss: 0.027\n",
            "[19,    40] loss: 0.055\n",
            "Finished Training\n",
            "Accuracy of the network on the 10000 train images: 98 %\n",
            "Accuracy of the network on the 10000 test dataset 1: 67 %\n",
            "Accuracy of the network on the 10000 test dataset 2: 98 %\n",
            "Accuracy of the network on the 10000 test dataset 3: 97 %\n",
            "Accuracy of the network on the 10000 test dataset 4: 94 %\n",
            "Accuracy of the network on the 10000 test dataset 5: 92 %\n",
            "Accuracy of the network on the 10000 test dataset 6: 91 %\n",
            "Accuracy of the network on the 10000 test dataset 7: 91 %\n",
            "Accuracy of the network on the 10000 test dataset 8: 90 %\n",
            "Accuracy of the network on the 10000 test dataset 9: 90 %\n",
            "--------------------------------------------------------------------------------\n",
            "--------------------------------------------------------------------------------\n",
            "training on data set   3\n",
            "[1,    10] loss: 0.978\n",
            "[1,    20] loss: 0.779\n",
            "[1,    30] loss: 0.682\n",
            "[1,    40] loss: 0.663\n",
            "[2,    10] loss: 0.630\n",
            "[2,    20] loss: 0.566\n",
            "[2,    30] loss: 0.561\n",
            "[2,    40] loss: 0.506\n",
            "[3,    10] loss: 0.499\n",
            "[3,    20] loss: 0.457\n",
            "[3,    30] loss: 0.443\n",
            "[3,    40] loss: 0.422\n",
            "[4,    10] loss: 0.421\n",
            "[4,    20] loss: 0.374\n",
            "[4,    30] loss: 0.341\n",
            "[4,    40] loss: 0.330\n",
            "[5,    10] loss: 0.310\n",
            "[5,    20] loss: 0.282\n",
            "[5,    30] loss: 0.285\n",
            "[5,    40] loss: 0.269\n",
            "[6,    10] loss: 0.293\n",
            "[6,    20] loss: 0.246\n",
            "[6,    30] loss: 0.267\n",
            "[6,    40] loss: 0.255\n",
            "[7,    10] loss: 0.279\n",
            "[7,    20] loss: 0.276\n",
            "[7,    30] loss: 0.238\n",
            "[7,    40] loss: 0.250\n",
            "[8,    10] loss: 0.211\n",
            "[8,    20] loss: 0.196\n",
            "[8,    30] loss: 0.170\n",
            "[8,    40] loss: 0.180\n",
            "[9,    10] loss: 0.182\n",
            "[9,    20] loss: 0.164\n",
            "[9,    30] loss: 0.128\n",
            "[9,    40] loss: 0.149\n",
            "[10,    10] loss: 0.138\n",
            "[10,    20] loss: 0.106\n",
            "[10,    30] loss: 0.098\n",
            "[10,    40] loss: 0.071\n",
            "[11,    10] loss: 0.077\n",
            "[11,    20] loss: 0.076\n",
            "[11,    30] loss: 0.062\n",
            "[11,    40] loss: 0.073\n",
            "[12,    10] loss: 0.180\n",
            "[12,    20] loss: 0.162\n",
            "[12,    30] loss: 0.135\n",
            "[12,    40] loss: 0.110\n",
            "[13,    10] loss: 0.089\n",
            "[13,    20] loss: 0.061\n",
            "[13,    30] loss: 0.057\n",
            "[13,    40] loss: 0.079\n",
            "[14,    10] loss: 0.205\n",
            "[14,    20] loss: 0.173\n",
            "[14,    30] loss: 0.120\n",
            "[14,    40] loss: 0.125\n",
            "[15,    10] loss: 0.134\n",
            "[15,    20] loss: 0.101\n",
            "[15,    30] loss: 0.099\n",
            "[15,    40] loss: 0.071\n",
            "[16,    10] loss: 0.041\n",
            "[16,    20] loss: 0.027\n",
            "[16,    30] loss: 0.022\n",
            "[16,    40] loss: 0.023\n",
            "Finished Training\n",
            "Accuracy of the network on the 10000 train images: 99 %\n",
            "Accuracy of the network on the 10000 test dataset 1: 53 %\n",
            "Accuracy of the network on the 10000 test dataset 2: 90 %\n",
            "Accuracy of the network on the 10000 test dataset 3: 99 %\n",
            "Accuracy of the network on the 10000 test dataset 4: 99 %\n",
            "Accuracy of the network on the 10000 test dataset 5: 98 %\n",
            "Accuracy of the network on the 10000 test dataset 6: 98 %\n",
            "Accuracy of the network on the 10000 test dataset 7: 97 %\n",
            "Accuracy of the network on the 10000 test dataset 8: 97 %\n",
            "Accuracy of the network on the 10000 test dataset 9: 97 %\n",
            "--------------------------------------------------------------------------------\n",
            "--------------------------------------------------------------------------------\n",
            "training on data set   4\n",
            "[1,    10] loss: 0.939\n",
            "[1,    20] loss: 0.685\n",
            "[1,    30] loss: 0.600\n",
            "[1,    40] loss: 0.563\n",
            "[2,    10] loss: 0.547\n",
            "[2,    20] loss: 0.517\n",
            "[2,    30] loss: 0.463\n",
            "[2,    40] loss: 0.444\n",
            "[3,    10] loss: 0.411\n",
            "[3,    20] loss: 0.364\n",
            "[3,    30] loss: 0.363\n",
            "[3,    40] loss: 0.327\n",
            "[4,    10] loss: 0.317\n",
            "[4,    20] loss: 0.288\n",
            "[4,    30] loss: 0.268\n",
            "[4,    40] loss: 0.277\n",
            "[5,    10] loss: 0.273\n",
            "[5,    20] loss: 0.264\n",
            "[5,    30] loss: 0.255\n",
            "[5,    40] loss: 0.240\n",
            "[6,    10] loss: 0.291\n",
            "[6,    20] loss: 0.253\n",
            "[6,    30] loss: 0.225\n",
            "[6,    40] loss: 0.227\n",
            "[7,    10] loss: 0.255\n",
            "[7,    20] loss: 0.230\n",
            "[7,    30] loss: 0.178\n",
            "[7,    40] loss: 0.168\n",
            "[8,    10] loss: 0.171\n",
            "[8,    20] loss: 0.137\n",
            "[8,    30] loss: 0.121\n",
            "[8,    40] loss: 0.110\n",
            "[9,    10] loss: 0.104\n",
            "[9,    20] loss: 0.100\n",
            "[9,    30] loss: 0.090\n",
            "[9,    40] loss: 0.086\n",
            "[10,    10] loss: 0.097\n",
            "[10,    20] loss: 0.096\n",
            "[10,    30] loss: 0.063\n",
            "[10,    40] loss: 0.072\n",
            "[11,    10] loss: 0.060\n",
            "[11,    20] loss: 0.043\n",
            "[11,    30] loss: 0.033\n",
            "[11,    40] loss: 0.041\n",
            "Finished Training\n",
            "Accuracy of the network on the 10000 train images: 99 %\n",
            "Accuracy of the network on the 10000 test dataset 1: 48 %\n",
            "Accuracy of the network on the 10000 test dataset 2: 79 %\n",
            "Accuracy of the network on the 10000 test dataset 3: 97 %\n",
            "Accuracy of the network on the 10000 test dataset 4: 99 %\n",
            "Accuracy of the network on the 10000 test dataset 5: 99 %\n",
            "Accuracy of the network on the 10000 test dataset 6: 99 %\n",
            "Accuracy of the network on the 10000 test dataset 7: 98 %\n",
            "Accuracy of the network on the 10000 test dataset 8: 98 %\n",
            "Accuracy of the network on the 10000 test dataset 9: 98 %\n",
            "--------------------------------------------------------------------------------\n",
            "--------------------------------------------------------------------------------\n",
            "training on data set   5\n",
            "[1,    10] loss: 0.972\n",
            "[1,    20] loss: 0.710\n",
            "[1,    30] loss: 0.582\n",
            "[1,    40] loss: 0.499\n",
            "[2,    10] loss: 0.527\n",
            "[2,    20] loss: 0.453\n",
            "[2,    30] loss: 0.407\n",
            "[2,    40] loss: 0.365\n",
            "[3,    10] loss: 0.341\n",
            "[3,    20] loss: 0.336\n",
            "[3,    30] loss: 0.297\n",
            "[3,    40] loss: 0.263\n",
            "[4,    10] loss: 0.269\n",
            "[4,    20] loss: 0.262\n",
            "[4,    30] loss: 0.243\n",
            "[4,    40] loss: 0.237\n",
            "[5,    10] loss: 0.220\n",
            "[5,    20] loss: 0.177\n",
            "[5,    30] loss: 0.171\n",
            "[5,    40] loss: 0.198\n",
            "[6,    10] loss: 0.256\n",
            "[6,    20] loss: 0.205\n",
            "[6,    30] loss: 0.168\n",
            "[6,    40] loss: 0.153\n",
            "[7,    10] loss: 0.134\n",
            "[7,    20] loss: 0.107\n",
            "[7,    30] loss: 0.090\n",
            "[7,    40] loss: 0.105\n",
            "[8,    10] loss: 0.227\n",
            "[8,    20] loss: 0.186\n",
            "[8,    30] loss: 0.155\n",
            "[8,    40] loss: 0.128\n",
            "[9,    10] loss: 0.119\n",
            "[9,    20] loss: 0.110\n",
            "[9,    30] loss: 0.091\n",
            "[9,    40] loss: 0.080\n",
            "[10,    10] loss: 0.075\n",
            "[10,    20] loss: 0.072\n",
            "[10,    30] loss: 0.064\n",
            "[10,    40] loss: 0.052\n",
            "[11,    10] loss: 0.029\n",
            "[11,    20] loss: 0.023\n",
            "[11,    30] loss: 0.024\n",
            "[11,    40] loss: 0.035\n",
            "Finished Training\n",
            "Accuracy of the network on the 10000 train images: 99 %\n",
            "Accuracy of the network on the 10000 test dataset 1: 48 %\n",
            "Accuracy of the network on the 10000 test dataset 2: 75 %\n",
            "Accuracy of the network on the 10000 test dataset 3: 93 %\n",
            "Accuracy of the network on the 10000 test dataset 4: 98 %\n",
            "Accuracy of the network on the 10000 test dataset 5: 99 %\n",
            "Accuracy of the network on the 10000 test dataset 6: 99 %\n",
            "Accuracy of the network on the 10000 test dataset 7: 99 %\n",
            "Accuracy of the network on the 10000 test dataset 8: 99 %\n",
            "Accuracy of the network on the 10000 test dataset 9: 99 %\n",
            "--------------------------------------------------------------------------------\n",
            "--------------------------------------------------------------------------------\n",
            "training on data set   6\n",
            "[1,    10] loss: 0.929\n",
            "[1,    20] loss: 0.643\n",
            "[1,    30] loss: 0.559\n",
            "[1,    40] loss: 0.491\n",
            "[2,    10] loss: 0.503\n",
            "[2,    20] loss: 0.423\n",
            "[2,    30] loss: 0.382\n",
            "[2,    40] loss: 0.364\n",
            "[3,    10] loss: 0.345\n",
            "[3,    20] loss: 0.289\n",
            "[3,    30] loss: 0.291\n",
            "[3,    40] loss: 0.394\n",
            "[4,    10] loss: 0.360\n",
            "[4,    20] loss: 0.271\n",
            "[4,    30] loss: 0.246\n",
            "[4,    40] loss: 0.233\n",
            "[5,    10] loss: 0.216\n",
            "[5,    20] loss: 0.193\n",
            "[5,    30] loss: 0.175\n",
            "[5,    40] loss: 0.156\n",
            "[6,    10] loss: 0.216\n",
            "[6,    20] loss: 0.196\n",
            "[6,    30] loss: 0.145\n",
            "[6,    40] loss: 0.135\n",
            "[7,    10] loss: 0.104\n",
            "[7,    20] loss: 0.103\n",
            "[7,    30] loss: 0.093\n",
            "[7,    40] loss: 0.095\n",
            "[8,    10] loss: 0.111\n",
            "[8,    20] loss: 0.102\n",
            "[8,    30] loss: 0.101\n",
            "[8,    40] loss: 0.147\n",
            "[9,    10] loss: 0.152\n",
            "[9,    20] loss: 0.124\n",
            "[9,    30] loss: 0.113\n",
            "[9,    40] loss: 0.099\n",
            "[10,    10] loss: 0.083\n",
            "[10,    20] loss: 0.071\n",
            "[10,    30] loss: 0.051\n",
            "[10,    40] loss: 0.069\n",
            "[11,    10] loss: 0.121\n",
            "[11,    20] loss: 0.088\n",
            "[11,    30] loss: 0.079\n",
            "[11,    40] loss: 0.056\n",
            "[12,    10] loss: 0.034\n",
            "[12,    20] loss: 0.024\n",
            "[12,    30] loss: 0.026\n",
            "[12,    40] loss: 0.024\n",
            "Finished Training\n",
            "Accuracy of the network on the 10000 train images: 99 %\n",
            "Accuracy of the network on the 10000 test dataset 1: 47 %\n",
            "Accuracy of the network on the 10000 test dataset 2: 73 %\n",
            "Accuracy of the network on the 10000 test dataset 3: 90 %\n",
            "Accuracy of the network on the 10000 test dataset 4: 97 %\n",
            "Accuracy of the network on the 10000 test dataset 5: 99 %\n",
            "Accuracy of the network on the 10000 test dataset 6: 99 %\n",
            "Accuracy of the network on the 10000 test dataset 7: 99 %\n",
            "Accuracy of the network on the 10000 test dataset 8: 99 %\n",
            "Accuracy of the network on the 10000 test dataset 9: 99 %\n",
            "--------------------------------------------------------------------------------\n",
            "--------------------------------------------------------------------------------\n",
            "training on data set   7\n",
            "[1,    10] loss: 0.937\n",
            "[1,    20] loss: 0.665\n",
            "[1,    30] loss: 0.530\n",
            "[1,    40] loss: 0.529\n",
            "[2,    10] loss: 0.482\n",
            "[2,    20] loss: 0.423\n",
            "[2,    30] loss: 0.383\n",
            "[2,    40] loss: 0.357\n",
            "[3,    10] loss: 0.380\n",
            "[3,    20] loss: 0.337\n",
            "[3,    30] loss: 0.279\n",
            "[3,    40] loss: 0.252\n",
            "[4,    10] loss: 0.236\n",
            "[4,    20] loss: 0.245\n",
            "[4,    30] loss: 0.196\n",
            "[4,    40] loss: 0.176\n",
            "[5,    10] loss: 0.197\n",
            "[5,    20] loss: 0.167\n",
            "[5,    30] loss: 0.171\n",
            "[5,    40] loss: 0.171\n",
            "[6,    10] loss: 0.152\n",
            "[6,    20] loss: 0.136\n",
            "[6,    30] loss: 0.133\n",
            "[6,    40] loss: 0.114\n",
            "[7,    10] loss: 0.104\n",
            "[7,    20] loss: 0.082\n",
            "[7,    30] loss: 0.082\n",
            "[7,    40] loss: 0.072\n",
            "[8,    10] loss: 0.054\n",
            "[8,    20] loss: 0.038\n",
            "[8,    30] loss: 0.038\n",
            "[8,    40] loss: 0.036\n",
            "Finished Training\n",
            "Accuracy of the network on the 10000 train images: 99 %\n",
            "Accuracy of the network on the 10000 test dataset 1: 45 %\n",
            "Accuracy of the network on the 10000 test dataset 2: 69 %\n",
            "Accuracy of the network on the 10000 test dataset 3: 86 %\n",
            "Accuracy of the network on the 10000 test dataset 4: 95 %\n",
            "Accuracy of the network on the 10000 test dataset 5: 98 %\n",
            "Accuracy of the network on the 10000 test dataset 6: 99 %\n",
            "Accuracy of the network on the 10000 test dataset 7: 99 %\n",
            "Accuracy of the network on the 10000 test dataset 8: 99 %\n",
            "Accuracy of the network on the 10000 test dataset 9: 99 %\n",
            "--------------------------------------------------------------------------------\n",
            "--------------------------------------------------------------------------------\n",
            "training on data set   8\n",
            "[1,    10] loss: 0.942\n",
            "[1,    20] loss: 0.650\n",
            "[1,    30] loss: 0.522\n",
            "[1,    40] loss: 0.471\n",
            "[2,    10] loss: 0.433\n",
            "[2,    20] loss: 0.400\n",
            "[2,    30] loss: 0.363\n",
            "[2,    40] loss: 0.319\n",
            "[3,    10] loss: 0.298\n",
            "[3,    20] loss: 0.268\n",
            "[3,    30] loss: 0.249\n",
            "[3,    40] loss: 0.224\n",
            "[4,    10] loss: 0.227\n",
            "[4,    20] loss: 0.198\n",
            "[4,    30] loss: 0.174\n",
            "[4,    40] loss: 0.236\n",
            "[5,    10] loss: 0.256\n",
            "[5,    20] loss: 0.227\n",
            "[5,    30] loss: 0.170\n",
            "[5,    40] loss: 0.128\n",
            "[6,    10] loss: 0.110\n",
            "[6,    20] loss: 0.111\n",
            "[6,    30] loss: 0.098\n",
            "[6,    40] loss: 0.103\n",
            "[7,    10] loss: 0.130\n",
            "[7,    20] loss: 0.113\n",
            "[7,    30] loss: 0.105\n",
            "[7,    40] loss: 0.085\n",
            "[8,    10] loss: 0.097\n",
            "[8,    20] loss: 0.090\n",
            "[8,    30] loss: 0.081\n",
            "[8,    40] loss: 0.131\n",
            "[9,    10] loss: 0.184\n",
            "[9,    20] loss: 0.134\n",
            "[9,    30] loss: 0.130\n",
            "[9,    40] loss: 0.087\n",
            "[10,    10] loss: 0.079\n",
            "[10,    20] loss: 0.076\n",
            "[10,    30] loss: 0.057\n",
            "[10,    40] loss: 0.041\n",
            "[11,    10] loss: 0.029\n",
            "[11,    20] loss: 0.022\n",
            "[11,    30] loss: 0.023\n",
            "[11,    40] loss: 0.019\n",
            "Finished Training\n",
            "Accuracy of the network on the 10000 train images: 99 %\n",
            "Accuracy of the network on the 10000 test dataset 1: 46 %\n",
            "Accuracy of the network on the 10000 test dataset 2: 71 %\n",
            "Accuracy of the network on the 10000 test dataset 3: 88 %\n",
            "Accuracy of the network on the 10000 test dataset 4: 96 %\n",
            "Accuracy of the network on the 10000 test dataset 5: 98 %\n",
            "Accuracy of the network on the 10000 test dataset 6: 99 %\n",
            "Accuracy of the network on the 10000 test dataset 7: 99 %\n",
            "Accuracy of the network on the 10000 test dataset 8: 99 %\n",
            "Accuracy of the network on the 10000 test dataset 9: 99 %\n",
            "--------------------------------------------------------------------------------\n",
            "--------------------------------------------------------------------------------\n",
            "training on data set   9\n",
            "[1,    10] loss: 0.899\n",
            "[1,    20] loss: 0.649\n",
            "[1,    30] loss: 0.515\n",
            "[1,    40] loss: 0.481\n",
            "[2,    10] loss: 0.471\n",
            "[2,    20] loss: 0.406\n",
            "[2,    30] loss: 0.357\n",
            "[2,    40] loss: 0.355\n",
            "[3,    10] loss: 0.347\n",
            "[3,    20] loss: 0.337\n",
            "[3,    30] loss: 0.298\n",
            "[3,    40] loss: 0.278\n",
            "[4,    10] loss: 0.291\n",
            "[4,    20] loss: 0.249\n",
            "[4,    30] loss: 0.212\n",
            "[4,    40] loss: 0.185\n",
            "[5,    10] loss: 0.180\n",
            "[5,    20] loss: 0.160\n",
            "[5,    30] loss: 0.160\n",
            "[5,    40] loss: 0.141\n",
            "[6,    10] loss: 0.171\n",
            "[6,    20] loss: 0.143\n",
            "[6,    30] loss: 0.119\n",
            "[6,    40] loss: 0.112\n",
            "[7,    10] loss: 0.079\n",
            "[7,    20] loss: 0.071\n",
            "[7,    30] loss: 0.083\n",
            "[7,    40] loss: 0.072\n",
            "[8,    10] loss: 0.052\n",
            "[8,    20] loss: 0.049\n",
            "[8,    30] loss: 0.046\n",
            "[8,    40] loss: 0.057\n",
            "[9,    10] loss: 0.053\n",
            "[9,    20] loss: 0.053\n",
            "[9,    30] loss: 0.035\n",
            "[9,    40] loss: 0.076\n",
            "[10,    10] loss: 0.150\n",
            "[10,    20] loss: 0.113\n",
            "[10,    30] loss: 0.085\n",
            "[10,    40] loss: 0.106\n",
            "[11,    10] loss: 0.119\n",
            "[11,    20] loss: 0.109\n",
            "[11,    30] loss: 0.085\n",
            "[11,    40] loss: 0.080\n",
            "[12,    10] loss: 0.064\n",
            "[12,    20] loss: 0.060\n",
            "[12,    30] loss: 0.045\n",
            "[12,    40] loss: 0.044\n",
            "[13,    10] loss: 0.054\n",
            "[13,    20] loss: 0.045\n",
            "[13,    30] loss: 0.030\n",
            "[13,    40] loss: 0.026\n",
            "Finished Training\n",
            "Accuracy of the network on the 10000 train images: 99 %\n",
            "Accuracy of the network on the 10000 test dataset 1: 46 %\n",
            "Accuracy of the network on the 10000 test dataset 2: 71 %\n",
            "Accuracy of the network on the 10000 test dataset 3: 88 %\n",
            "Accuracy of the network on the 10000 test dataset 4: 95 %\n",
            "Accuracy of the network on the 10000 test dataset 5: 98 %\n",
            "Accuracy of the network on the 10000 test dataset 6: 99 %\n",
            "Accuracy of the network on the 10000 test dataset 7: 99 %\n",
            "Accuracy of the network on the 10000 test dataset 8: 99 %\n",
            "Accuracy of the network on the 10000 test dataset 9: 99 %\n",
            "--------------------------------------------------------------------------------\n"
          ],
          "name": "stdout"
        }
      ]
    },
    {
      "cell_type": "code",
      "metadata": {
        "id": "VidFcG10CrN_"
      },
      "source": [
        "%matplotlib inline"
      ],
      "execution_count": 52,
      "outputs": []
    },
    {
      "cell_type": "code",
      "metadata": {
        "id": "C6tbtiJkCrOB",
        "outputId": "c242c8b5-fade-48eb-fd2d-295013f0a54b",
        "colab": {
          "base_uri": "https://localhost:8080/",
          "height": 297
        }
      },
      "source": [
        "for i,j in enumerate(train_loss_all):\n",
        "    plt.plot(j,label =\"dataset \"+str(i+1))\n",
        "    \n",
        "\n",
        "plt.xlabel(\"Epochs\")\n",
        "plt.ylabel(\"Training_loss\")\n",
        "\n",
        "plt.legend(loc='center left', bbox_to_anchor=(1, 0.5))"
      ],
      "execution_count": 53,
      "outputs": [
        {
          "output_type": "execute_result",
          "data": {
            "text/plain": [
              "<matplotlib.legend.Legend at 0x7f78ef4d8080>"
            ]
          },
          "metadata": {
            "tags": []
          },
          "execution_count": 53
        },
        {
          "output_type": "display_data",
          "data": {
            "image/png": "[encoded data removed]",
            "text/plain": [
              "<Figure size 432x288 with 1 Axes>"
            ]
          },
          "metadata": {
            "tags": [],
            "needs_background": "light"
          }
        }
      ]
    },
    {
      "cell_type": "code",
      "metadata": {
        "id": "1r2iIcOUCrOE"
      },
      "source": [
        ""
      ],
      "execution_count": 53,
      "outputs": []
    }
  ]
}