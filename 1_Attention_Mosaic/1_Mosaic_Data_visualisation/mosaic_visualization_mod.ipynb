{
  "nbformat": 4,
  "nbformat_minor": 0,
  "metadata": {
    "colab": {
      "name": "Untitled",
      "provenance": [],
      "collapsed_sections": []
    },
    "kernelspec": {
      "name": "python3",
      "display_name": "Python 3"
    },
    "accelerator": "GPU"
  },
  "cells": [
    {
      "cell_type": "code",
      "metadata": {
        "id": "8KBV2WxjncKw",
        "colab_type": "code",
        "colab": {
          "base_uri": "https://localhost:8080/",
          "height": 54
        },
        "outputId": "5fe4b642-3819-4785-c38e-6f3c627fd709"
      },
      "source": [
        "from load_cifar import cifarset,load_data\n",
        "from Mosaic import mosaic_data,MosaicDataset,split_foreground_background\n",
        "from Models import Classification_Module as Classification_Module\n",
        "from Models import Focus_Module as Focus_Module\n",
        "from plots import imshow,plot_analysis\n",
        "import torch\n",
        "import torch.nn as nn\n",
        "import torch.optim as optim\n",
        "from train_mosaic import training,predict\n",
        "\n",
        "device = torch.device(\"cuda\" if torch.cuda.is_available() else \"cpu\")\n",
        "print(device)"
      ],
      "execution_count": null,
      "outputs": [
        {
          "output_type": "stream",
          "text": [
            "cuda\n",
            "cuda\n"
          ],
          "name": "stdout"
        }
      ]
    },
    {
      "cell_type": "code",
      "metadata": {
        "id": "I6HtzgisodjP",
        "colab_type": "code",
        "colab": {
          "base_uri": "https://localhost:8080/",
          "height": 72
        },
        "outputId": "bbc46b7f-f2c4-42c3-de8c-7fc48e792443"
      },
      "source": [
        "trainset,testset = cifarset()\n",
        "trainloader,testloader = load_data(trainset,testset,10,10)\n"
      ],
      "execution_count": null,
      "outputs": [
        {
          "output_type": "stream",
          "text": [
            "==> Preparing data..\n",
            "Files already downloaded and verified\n",
            "Files already downloaded and verified\n"
          ],
          "name": "stdout"
        }
      ]
    },
    {
      "cell_type": "code",
      "metadata": {
        "id": "zdyZHSwNpJP8",
        "colab_type": "code",
        "colab": {}
      },
      "source": [
        "data = split_foreground_background(trainloader,total = 50000)\n",
        "mosaic_list_of_images,mosaic_label,fore_idx = mosaic_data(data,desired_num=30000,total=50000)"
      ],
      "execution_count": null,
      "outputs": []
    },
    {
      "cell_type": "code",
      "metadata": {
        "id": "B4jNIZ5QqSEX",
        "colab_type": "code",
        "colab": {}
      },
      "source": [
        "mimages_val,mlabel_val,fidx_val = mosaic_data(data,desired_num=10000,total=50000)"
      ],
      "execution_count": null,
      "outputs": []
    },
    {
      "cell_type": "code",
      "metadata": {
        "id": "dP6vgSYKpUnx",
        "colab_type": "code",
        "colab": {}
      },
      "source": [
        "batch = 250\n",
        "mtrain_dataset  = MosaicDataset(mosaic_list_of_images, mosaic_label , fore_idx)\n",
        "mtest_dataset  = MosaicDataset(mimages_val,mlabel_val,fidx_val)"
      ],
      "execution_count": null,
      "outputs": []
    },
    {
      "cell_type": "code",
      "metadata": {
        "id": "GxH5IMC-pxWp",
        "colab_type": "code",
        "colab": {}
      },
      "source": [
        "mosaictrain_loader,mosaictest_loader = load_data(mtrain_dataset,mtest_dataset,250,250)"
      ],
      "execution_count": null,
      "outputs": []
    },
    {
      "cell_type": "code",
      "metadata": {
        "id": "BAvdforUqnIp",
        "colab_type": "code",
        "colab": {}
      },
      "source": [
        "focus_net =  Focus_Module(3,1).double()\n",
        "focus_net = focus_net.to(device)"
      ],
      "execution_count": null,
      "outputs": []
    },
    {
      "cell_type": "code",
      "metadata": {
        "id": "SPTR1kBerZ7H",
        "colab_type": "code",
        "colab": {}
      },
      "source": [
        "classification_net  = Classification_Module(3,3).double()\n",
        "classification_net = classification_net.to(device)"
      ],
      "execution_count": null,
      "outputs": []
    },
    {
      "cell_type": "code",
      "metadata": {
        "id": "LzSVO_Dmtdtp",
        "colab_type": "code",
        "colab": {}
      },
      "source": [
        "optimizer_focus = optim.SGD(focus_net.parameters(),lr = 0.01,momentum=0.9)\n",
        "optimizer_classification = optim.SGD(classification_net.parameters(),lr =0.01, momentum=0.9)"
      ],
      "execution_count": null,
      "outputs": []
    },
    {
      "cell_type": "code",
      "metadata": {
        "id": "RUgP0fp-tvPp",
        "colab_type": "code",
        "colab": {}
      },
      "source": [
        "criterion = nn.CrossEntropyLoss()"
      ],
      "execution_count": null,
      "outputs": []
    },
    {
      "cell_type": "code",
      "metadata": {
        "id": "N0EdQ3xCuKzB",
        "colab_type": "code",
        "colab": {}
      },
      "source": [
        "training(trainloader,testloader,focus_net,classification_net,optimizer,criterion,epochs)"
      ],
      "execution_count": null,
      "outputs": []
    },
    {
      "cell_type": "code",
      "metadata": {
        "id": "xaA-Tav99KqM",
        "colab_type": "code",
        "colab": {}
      },
      "source": [
        "_,_= predict(trainloader,focus_net,classification_net,print_accuracy=True)"
      ],
      "execution_count": null,
      "outputs": []
    },
    {
      "cell_type": "code",
      "metadata": {
        "id": "OSnHwuUE9Xdp",
        "colab_type": "code",
        "colab": {}
      },
      "source": [
        "_,_ = predict(trainloader,focus_net,classification_net,print_accuracy=True)"
      ],
      "execution_count": null,
      "outputs": []
    }
  ]
}