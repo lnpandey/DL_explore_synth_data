{
  "nbformat": 4,
  "nbformat_minor": 0,
  "metadata": {
    "colab": {
      "name": "mosaic_visualisation_mod.ipynb",
      "provenance": [],
      "collapsed_sections": []
    },
    "kernelspec": {
      "name": "python3",
      "display_name": "Python 3"
    },
    "accelerator": "GPU"
  },
  "cells": [
    {
      "cell_type": "code",
      "metadata": {
        "id": "8KBV2WxjncKw",
        "colab_type": "code",
        "colab": {
          "base_uri": "https://localhost:8080/",
          "height": 51
        },
        "outputId": "daaaff0e-fb44-4ad2-ca07-ea60ad981d8e"
      },
      "source": [
        "#from load_cifar import cifarset,load_data\n",
        "from Mosaic import mosaic_data,MosaicDataset,split_foreground_background\n",
        "from Models import Classification_Module as Classification_Module\n",
        "from Models import Focus_Module as Focus_Module\n",
        "from plots import plot_analysis\n",
        "import torch\n",
        "import torchvision\n",
        "import torch.nn as nn\n",
        "import torch.optim as optim\n",
        "from train_mosaic import train_mosaic_network\n",
        "import torchvision.transforms as transforms\n",
        "from torch.utils.data import Dataset,DataLoader\n",
        "\n",
        "%matplotlib inline\n",
        "device = torch.device(\"cuda\" if torch.cuda.is_available() else \"cpu\")\n",
        "print(device)"
      ],
      "execution_count": 1,
      "outputs": [
        {
          "output_type": "stream",
          "text": [
            "cuda\n",
            "cuda\n"
          ],
          "name": "stdout"
        }
      ]
    },
    {
      "cell_type": "code",
      "metadata": {
        "id": "Sbuuq7ju2a9R",
        "colab_type": "code",
        "colab": {
          "base_uri": "https://localhost:8080/",
          "height": 51
        },
        "outputId": "0619c8c8-2699-472b-c12d-9f4c5920fc51"
      },
      "source": [
        "transform = transforms.Compose(\n",
        "    [transforms.ToTensor(),\n",
        "     transforms.Normalize((0.5, 0.5, 0.5), (0.5, 0.5, 0.5))])\n",
        "\n",
        "trainset = torchvision.datasets.CIFAR10(root='./data', train=True, download=True, transform=transform)\n",
        "\n",
        "\n",
        "testset = torchvision.datasets.CIFAR10(root='./data', train=False, download=True, transform=transform)\n",
        "\n",
        "trainloader = torch.utils.data.DataLoader(trainset, batch_size=10, shuffle=True)\n",
        "testloader = torch.utils.data.DataLoader(testset, batch_size=10, shuffle=False)"
      ],
      "execution_count": 2,
      "outputs": [
        {
          "output_type": "stream",
          "text": [
            "Files already downloaded and verified\n",
            "Files already downloaded and verified\n"
          ],
          "name": "stdout"
        }
      ]
    },
    {
      "cell_type": "code",
      "metadata": {
        "id": "z55Z_5mZ2avn",
        "colab_type": "code",
        "colab": {}
      },
      "source": [
        "data = split_foreground_background(trainloader,total = 50000)\n",
        "mosaic_list_of_images,mosaic_label,fore_idx = mosaic_data(data,desired_num=30000,total=50000)\n",
        "\n",
        "batch = 125\n",
        "train_dataset  = MosaicDataset(mosaic_list_of_images, mosaic_label , fore_idx)\n",
        "mosaic_loader = DataLoader( train_dataset,batch_size= batch ,shuffle=True)\n",
        "\n",
        "mimages_val,mlabel_val,fidx_val = mosaic_data(data,desired_num=10000,total=50000)"
      ],
      "execution_count": 3,
      "outputs": []
    },
    {
      "cell_type": "code",
      "metadata": {
        "id": "rbFE0Ekr3b5l",
        "colab_type": "code",
        "colab": {}
      },
      "source": [
        "batch = 125\n",
        "test_dataset  = MosaicDataset(mimages_val,mlabel_val,fidx_val)\n",
        "test_loader = DataLoader( test_dataset,batch_size= batch ,shuffle=True)"
      ],
      "execution_count": 4,
      "outputs": []
    },
    {
      "cell_type": "code",
      "metadata": {
        "id": "BAvdforUqnIp",
        "colab_type": "code",
        "colab": {}
      },
      "source": [
        "focus_net =  Focus_Module(3,1).double()\n",
        "focus_net = focus_net.to(device)"
      ],
      "execution_count": 5,
      "outputs": []
    },
    {
      "cell_type": "code",
      "metadata": {
        "id": "SPTR1kBerZ7H",
        "colab_type": "code",
        "colab": {}
      },
      "source": [
        "classification_net  = Classification_Module(3,3).double()\n",
        "classification_net = classification_net.to(device)"
      ],
      "execution_count": 6,
      "outputs": []
    },
    {
      "cell_type": "code",
      "metadata": {
        "id": "2yW8m02uVil0",
        "colab_type": "code",
        "colab": {}
      },
      "source": [
        "train_network = train_mosaic_network(focus_net,classification_net,mosaic_loader,test_loader)"
      ],
      "execution_count": 7,
      "outputs": []
    },
    {
      "cell_type": "code",
      "metadata": {
        "id": "N0EdQ3xCuKzB",
        "colab_type": "code",
        "colab": {
          "base_uri": "https://localhost:8080/",
          "height": 1000
        },
        "outputId": "254e879d-c96c-4478-94b0-59b37be8b958"
      },
      "source": [
        "train_network.training(120)"
      ],
      "execution_count": 8,
      "outputs": [
        {
          "output_type": "stream",
          "text": [
            "Training started...\n",
            "[1,    80] loss: 1.104\n",
            "[1,   160] loss: 1.099\n",
            "[1,   240] loss: 1.099\n",
            "[2,    80] loss: 1.099\n",
            "[2,   160] loss: 1.099\n",
            "[2,   240] loss: 1.099\n",
            "[3,    80] loss: 1.098\n",
            "[3,   160] loss: 1.098\n",
            "[3,   240] loss: 1.098\n",
            "[4,    80] loss: 1.098\n",
            "[4,   160] loss: 1.097\n",
            "[4,   240] loss: 1.097\n",
            "[5,    80] loss: 1.094\n",
            "[5,   160] loss: 1.092\n",
            "[5,   240] loss: 1.089\n",
            "[6,    80] loss: 1.086\n",
            "[6,   160] loss: 1.083\n",
            "[6,   240] loss: 1.079\n",
            "[7,    80] loss: 1.077\n",
            "[7,   160] loss: 1.077\n",
            "[7,   240] loss: 1.073\n",
            "[8,    80] loss: 1.072\n",
            "[8,   160] loss: 1.069\n",
            "[8,   240] loss: 1.065\n",
            "[9,    80] loss: 1.067\n",
            "[9,   160] loss: 1.059\n",
            "[9,   240] loss: 1.057\n",
            "[10,    80] loss: 1.058\n",
            "[10,   160] loss: 1.053\n",
            "[10,   240] loss: 1.055\n",
            "[11,    80] loss: 1.054\n",
            "[11,   160] loss: 1.050\n",
            "[11,   240] loss: 1.052\n",
            "[12,    80] loss: 1.050\n",
            "[12,   160] loss: 1.047\n",
            "[12,   240] loss: 1.050\n",
            "[13,    80] loss: 1.046\n",
            "[13,   160] loss: 1.045\n",
            "[13,   240] loss: 1.052\n",
            "[14,    80] loss: 1.046\n",
            "[14,   160] loss: 1.041\n",
            "[14,   240] loss: 1.041\n",
            "[15,    80] loss: 1.036\n",
            "[15,   160] loss: 1.042\n",
            "[15,   240] loss: 1.032\n",
            "[16,    80] loss: 1.028\n",
            "[16,   160] loss: 1.017\n",
            "[16,   240] loss: 1.019\n",
            "[17,    80] loss: 1.008\n",
            "[17,   160] loss: 0.988\n",
            "[17,   240] loss: 0.977\n",
            "[18,    80] loss: 0.960\n",
            "[18,   160] loss: 0.957\n",
            "[18,   240] loss: 0.933\n",
            "[19,    80] loss: 0.904\n",
            "[19,   160] loss: 0.903\n",
            "[19,   240] loss: 0.903\n",
            "[20,    80] loss: 0.871\n",
            "[20,   160] loss: 0.859\n",
            "[20,   240] loss: 0.847\n",
            "[21,    80] loss: 0.827\n",
            "[21,   160] loss: 0.825\n",
            "[21,   240] loss: 0.815\n",
            "[22,    80] loss: 0.785\n",
            "[22,   160] loss: 0.784\n",
            "[22,   240] loss: 0.774\n",
            "[23,    80] loss: 0.770\n",
            "[23,   160] loss: 0.743\n",
            "[23,   240] loss: 0.750\n",
            "[24,    80] loss: 0.732\n",
            "[24,   160] loss: 0.728\n",
            "[24,   240] loss: 0.712\n",
            "[25,    80] loss: 0.684\n",
            "[25,   160] loss: 0.704\n",
            "[25,   240] loss: 0.699\n",
            "[26,    80] loss: 0.660\n",
            "[26,   160] loss: 0.658\n",
            "[26,   240] loss: 0.660\n",
            "[27,    80] loss: 0.648\n",
            "[27,   160] loss: 0.648\n",
            "[27,   240] loss: 0.648\n",
            "[28,    80] loss: 0.620\n",
            "[28,   160] loss: 0.621\n",
            "[28,   240] loss: 0.610\n",
            "[29,    80] loss: 0.577\n",
            "[29,   160] loss: 0.601\n",
            "[29,   240] loss: 0.589\n",
            "[30,    80] loss: 0.574\n",
            "[30,   160] loss: 0.587\n",
            "[30,   240] loss: 0.574\n",
            "[31,    80] loss: 0.549\n",
            "[31,   160] loss: 0.562\n",
            "[31,   240] loss: 0.552\n",
            "[32,    80] loss: 0.521\n",
            "[32,   160] loss: 0.521\n",
            "[32,   240] loss: 0.523\n",
            "[33,    80] loss: 0.534\n",
            "[33,   160] loss: 0.494\n",
            "[33,   240] loss: 0.523\n",
            "[34,    80] loss: 0.502\n",
            "[34,   160] loss: 0.502\n",
            "[34,   240] loss: 0.509\n",
            "[35,    80] loss: 0.464\n",
            "[35,   160] loss: 0.476\n",
            "[35,   240] loss: 0.472\n",
            "[36,    80] loss: 0.445\n",
            "[36,   160] loss: 0.454\n",
            "[36,   240] loss: 0.471\n",
            "[37,    80] loss: 0.431\n",
            "[37,   160] loss: 0.437\n",
            "[37,   240] loss: 0.458\n",
            "[38,    80] loss: 0.414\n",
            "[38,   160] loss: 0.455\n",
            "[38,   240] loss: 0.445\n",
            "[39,    80] loss: 0.403\n",
            "[39,   160] loss: 0.415\n",
            "[39,   240] loss: 0.433\n",
            "[40,    80] loss: 0.411\n",
            "[40,   160] loss: 0.415\n",
            "[40,   240] loss: 0.397\n",
            "[41,    80] loss: 0.377\n",
            "[41,   160] loss: 0.367\n",
            "[41,   240] loss: 0.374\n",
            "[42,    80] loss: 0.353\n",
            "[42,   160] loss: 0.411\n",
            "[42,   240] loss: 0.387\n",
            "[43,    80] loss: 0.365\n",
            "[43,   160] loss: 0.374\n",
            "[43,   240] loss: 0.356\n",
            "[44,    80] loss: 0.335\n",
            "[44,   160] loss: 0.355\n",
            "[44,   240] loss: 0.359\n",
            "[45,    80] loss: 0.349\n",
            "[45,   160] loss: 0.336\n",
            "[45,   240] loss: 0.349\n",
            "[46,    80] loss: 0.315\n",
            "[46,   160] loss: 0.321\n",
            "[46,   240] loss: 0.343\n",
            "[47,    80] loss: 0.303\n",
            "[47,   160] loss: 0.318\n",
            "[47,   240] loss: 0.314\n",
            "[48,    80] loss: 0.283\n",
            "[48,   160] loss: 0.301\n",
            "[48,   240] loss: 0.289\n",
            "[49,    80] loss: 0.281\n",
            "[49,   160] loss: 0.301\n",
            "[49,   240] loss: 0.296\n",
            "[50,    80] loss: 0.269\n",
            "[50,   160] loss: 0.304\n",
            "[50,   240] loss: 0.291\n",
            "[51,    80] loss: 0.257\n",
            "[51,   160] loss: 0.302\n",
            "[51,   240] loss: 0.283\n",
            "[52,    80] loss: 0.259\n",
            "[52,   160] loss: 0.259\n",
            "[52,   240] loss: 0.270\n",
            "[53,    80] loss: 0.245\n",
            "[53,   160] loss: 0.262\n",
            "[53,   240] loss: 0.283\n",
            "[54,    80] loss: 0.270\n",
            "[54,   160] loss: 0.278\n",
            "[54,   240] loss: 0.264\n",
            "[55,    80] loss: 0.241\n",
            "[55,   160] loss: 0.256\n",
            "[55,   240] loss: 0.245\n",
            "[56,    80] loss: 0.223\n",
            "[56,   160] loss: 0.230\n",
            "[56,   240] loss: 0.243\n",
            "[57,    80] loss: 0.234\n",
            "[57,   160] loss: 0.225\n",
            "[57,   240] loss: 0.214\n",
            "[58,    80] loss: 0.190\n",
            "[58,   160] loss: 0.213\n",
            "[58,   240] loss: 0.213\n",
            "[59,    80] loss: 0.185\n",
            "[59,   160] loss: 0.220\n",
            "[59,   240] loss: 0.219\n",
            "[60,    80] loss: 0.196\n",
            "[60,   160] loss: 0.191\n",
            "[60,   240] loss: 0.216\n",
            "[61,    80] loss: 0.193\n",
            "[61,   160] loss: 0.240\n",
            "[61,   240] loss: 0.231\n",
            "[62,    80] loss: 0.176\n",
            "[62,   160] loss: 0.200\n",
            "[62,   240] loss: 0.222\n",
            "[63,    80] loss: 0.162\n",
            "[63,   160] loss: 0.159\n",
            "[63,   240] loss: 0.195\n",
            "[64,    80] loss: 0.174\n",
            "[64,   160] loss: 0.185\n",
            "[64,   240] loss: 0.184\n",
            "[65,    80] loss: 0.177\n",
            "[65,   160] loss: 0.169\n",
            "[65,   240] loss: 0.166\n",
            "[66,    80] loss: 0.156\n",
            "[66,   160] loss: 0.146\n",
            "[66,   240] loss: 0.163\n",
            "[67,    80] loss: 0.150\n",
            "[67,   160] loss: 0.159\n",
            "[67,   240] loss: 0.159\n",
            "[68,    80] loss: 0.148\n",
            "[68,   160] loss: 0.157\n",
            "[68,   240] loss: 0.159\n",
            "[69,    80] loss: 0.136\n",
            "[69,   160] loss: 0.182\n",
            "[69,   240] loss: 0.196\n",
            "[70,    80] loss: 0.138\n",
            "[70,   160] loss: 0.138\n",
            "[70,   240] loss: 0.152\n",
            "[71,    80] loss: 0.123\n",
            "[71,   160] loss: 0.159\n",
            "[71,   240] loss: 0.183\n",
            "[72,    80] loss: 0.134\n",
            "[72,   160] loss: 0.139\n",
            "[72,   240] loss: 0.146\n",
            "[73,    80] loss: 0.117\n",
            "[73,   160] loss: 0.140\n",
            "[73,   240] loss: 0.141\n",
            "[74,    80] loss: 0.134\n",
            "[74,   160] loss: 0.136\n",
            "[74,   240] loss: 0.125\n",
            "[75,    80] loss: 0.115\n",
            "[75,   160] loss: 0.139\n",
            "[75,   240] loss: 0.137\n",
            "[76,    80] loss: 0.110\n",
            "[76,   160] loss: 0.138\n",
            "[76,   240] loss: 0.124\n",
            "[77,    80] loss: 0.108\n",
            "[77,   160] loss: 0.126\n",
            "[77,   240] loss: 0.121\n",
            "[78,    80] loss: 0.098\n",
            "[78,   160] loss: 0.110\n",
            "[78,   240] loss: 0.117\n",
            "[79,    80] loss: 0.110\n",
            "[79,   160] loss: 0.109\n",
            "[79,   240] loss: 0.148\n",
            "[80,    80] loss: 0.094\n",
            "[80,   160] loss: 0.120\n",
            "[80,   240] loss: 0.139\n",
            "[81,    80] loss: 0.119\n",
            "[81,   160] loss: 0.109\n",
            "[81,   240] loss: 0.142\n",
            "[82,    80] loss: 0.115\n",
            "[82,   160] loss: 0.118\n",
            "[82,   240] loss: 0.129\n",
            "[83,    80] loss: 0.102\n",
            "[83,   160] loss: 0.097\n",
            "[83,   240] loss: 0.105\n",
            "[84,    80] loss: 0.098\n",
            "[84,   160] loss: 0.115\n",
            "[84,   240] loss: 0.114\n",
            "[85,    80] loss: 0.102\n",
            "[85,   160] loss: 0.111\n",
            "[85,   240] loss: 0.097\n",
            "[86,    80] loss: 0.098\n",
            "[86,   160] loss: 0.112\n",
            "[86,   240] loss: 0.094\n",
            "[87,    80] loss: 0.078\n",
            "[87,   160] loss: 0.093\n",
            "[87,   240] loss: 0.088\n",
            "[88,    80] loss: 0.110\n",
            "[88,   160] loss: 0.081\n",
            "[88,   240] loss: 0.101\n",
            "[89,    80] loss: 0.091\n",
            "[89,   160] loss: 0.075\n",
            "[89,   240] loss: 0.095\n",
            "[90,    80] loss: 0.082\n",
            "[90,   160] loss: 0.115\n",
            "[90,   240] loss: 0.099\n",
            "[91,    80] loss: 0.094\n",
            "[91,   160] loss: 0.087\n",
            "[91,   240] loss: 0.088\n",
            "[92,    80] loss: 0.092\n",
            "[92,   160] loss: 0.094\n",
            "[92,   240] loss: 0.085\n",
            "[93,    80] loss: 0.059\n",
            "[93,   160] loss: 0.089\n",
            "[93,   240] loss: 0.094\n",
            "[94,    80] loss: 0.096\n",
            "[94,   160] loss: 0.094\n",
            "[94,   240] loss: 0.075\n",
            "[95,    80] loss: 0.086\n",
            "[95,   160] loss: 0.086\n",
            "[95,   240] loss: 0.098\n",
            "[96,    80] loss: 0.082\n",
            "[96,   160] loss: 0.076\n",
            "[96,   240] loss: 0.102\n",
            "[97,    80] loss: 0.074\n",
            "[97,   160] loss: 0.091\n",
            "[97,   240] loss: 0.080\n",
            "[98,    80] loss: 0.051\n",
            "[98,   160] loss: 0.049\n",
            "[98,   240] loss: 0.060\n",
            "[99,    80] loss: 0.060\n",
            "[99,   160] loss: 0.084\n",
            "[99,   240] loss: 0.080\n",
            "[100,    80] loss: 0.091\n",
            "[100,   160] loss: 0.089\n",
            "[100,   240] loss: 0.095\n",
            "[101,    80] loss: 0.066\n",
            "[101,   160] loss: 0.068\n",
            "[101,   240] loss: 0.074\n",
            "[102,    80] loss: 0.051\n",
            "[102,   160] loss: 0.059\n",
            "[102,   240] loss: 0.059\n",
            "[103,    80] loss: 0.055\n",
            "[103,   160] loss: 0.060\n",
            "[103,   240] loss: 0.063\n",
            "[104,    80] loss: 0.073\n",
            "[104,   160] loss: 0.071\n",
            "[104,   240] loss: 0.063\n",
            "[105,    80] loss: 0.068\n",
            "[105,   160] loss: 0.067\n",
            "[105,   240] loss: 0.082\n",
            "[106,    80] loss: 0.054\n",
            "[106,   160] loss: 0.056\n",
            "[106,   240] loss: 0.096\n",
            "[107,    80] loss: 0.071\n",
            "[107,   160] loss: 0.060\n",
            "[107,   240] loss: 0.069\n",
            "[108,    80] loss: 0.048\n",
            "[108,   160] loss: 0.067\n",
            "[108,   240] loss: 0.114\n",
            "[109,    80] loss: 0.071\n",
            "[109,   160] loss: 0.066\n",
            "[109,   240] loss: 0.059\n",
            "[110,    80] loss: 0.056\n",
            "[110,   160] loss: 0.068\n",
            "[110,   240] loss: 0.117\n",
            "[111,    80] loss: 0.049\n",
            "[111,   160] loss: 0.061\n",
            "[111,   240] loss: 0.063\n",
            "[112,    80] loss: 0.066\n",
            "[112,   160] loss: 0.116\n",
            "[112,   240] loss: 0.062\n",
            "[113,    80] loss: 0.063\n",
            "[113,   160] loss: 0.061\n",
            "[113,   240] loss: 0.063\n",
            "[114,    80] loss: 0.049\n",
            "[114,   160] loss: 0.053\n",
            "[114,   240] loss: 0.073\n",
            "[115,    80] loss: 0.045\n",
            "[115,   160] loss: 0.042\n",
            "[115,   240] loss: 0.044\n",
            "[116,    80] loss: 0.042\n",
            "[116,   160] loss: 0.040\n",
            "[116,   240] loss: 0.056\n",
            "[117,    80] loss: 0.027\n",
            "[117,   160] loss: 0.032\n",
            "[117,   240] loss: 0.082\n",
            "[118,    80] loss: 0.076\n",
            "[118,   160] loss: 0.085\n",
            "[118,   240] loss: 0.066\n",
            "[119,    80] loss: 0.044\n",
            "[119,   160] loss: 0.046\n",
            "[119,   240] loss: 0.052\n",
            "[120,    80] loss: 0.037\n",
            "[120,   160] loss: 0.027\n",
            "[120,   240] loss: 0.038\n",
            "Finished Training\n"
          ],
          "name": "stdout"
        }
      ]
    },
    {
      "cell_type": "code",
      "metadata": {
        "id": "RzNeF0QRDbdw",
        "colab_type": "code",
        "colab": {
          "base_uri": "https://localhost:8080/",
          "height": 34
        },
        "outputId": "ba401fb2-0066-487e-8060-39003a20d895"
      },
      "source": [
        "_ = train_network.predict(mosaic_loader,True)"
      ],
      "execution_count": 9,
      "outputs": [
        {
          "output_type": "stream",
          "text": [
            "percentage train accuracy:  0.9926666666666667\n"
          ],
          "name": "stdout"
        }
      ]
    },
    {
      "cell_type": "code",
      "metadata": {
        "id": "kRi7x6xVZZEz",
        "colab_type": "code",
        "colab": {
          "base_uri": "https://localhost:8080/",
          "height": 34
        },
        "outputId": "1863ab22-19b5-4f5f-a9e4-fa633533fb53"
      },
      "source": [
        "_ = train_network.predict(test_loader,True)"
      ],
      "execution_count": 10,
      "outputs": [
        {
          "output_type": "stream",
          "text": [
            "percentage train accuracy:  0.8737\n"
          ],
          "name": "stdout"
        }
      ]
    },
    {
      "cell_type": "code",
      "metadata": {
        "id": "hGAS45ZKZiuP",
        "colab_type": "code",
        "colab": {
          "base_uri": "https://localhost:8080/",
          "height": 405
        },
        "outputId": "77601a72-41f7-4849-f349-5d3419836a2d"
      },
      "source": [
        "plot_analysis(np.array(train_network.train_analysis))"
      ],
      "execution_count": 23,
      "outputs": [
        {
          "output_type": "execute_result",
          "data": {
            "text/plain": [
              "<matplotlib.axes._subplots.AxesSubplot at 0x7f67d486cc50>"
            ]
          },
          "metadata": {
            "tags": []
          },
          "execution_count": 23
        },
        {
          "output_type": "display_data",
          "data": {
            "image/png": "[encoded data removed]",
            "text/plain": [
              "<Figure size 432x432 with 1 Axes>"
            ]
          },
          "metadata": {
            "tags": [],
            "needs_background": "light"
          }
        }
      ]
    },
    {
      "cell_type": "code",
      "metadata": {
        "id": "KtYn5t4baKsS",
        "colab_type": "code",
        "colab": {}
      },
      "source": [
        "plot_analysis(np.array(train_network.test_analysis))"
      ],
      "execution_count": 19,
      "outputs": []
    },
    {
      "cell_type": "code",
      "metadata": {
        "id": "CqwvJnV2gEuO",
        "colab_type": "code",
        "colab": {}
      },
      "source": [
        "from matplotlib import pyplot as plt"
      ],
      "execution_count": 21,
      "outputs": []
    },
    {
      "cell_type": "code",
      "metadata": {
        "id": "uSKc59JtgdKj",
        "colab_type": "code",
        "colab": {}
      },
      "source": [
        ""
      ],
      "execution_count": 10,
      "outputs": []
    }
  ]
}