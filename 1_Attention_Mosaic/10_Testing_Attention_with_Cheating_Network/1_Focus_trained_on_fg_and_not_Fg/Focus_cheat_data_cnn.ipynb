{
  "nbformat": 4,
  "nbformat_minor": 0,
  "metadata": {
    "accelerator": "GPU",
    "colab": {
      "name": "Focus_cheat_data_cnn.ipynb",
      "provenance": [],
      "collapsed_sections": [],
      "machine_shape": "hm"
    },
    "kernelspec": {
      "display_name": "Python 3",
      "language": "python",
      "name": "python3"
    },
    "language_info": {
      "codemirror_mode": {
        "name": "ipython",
        "version": 3
      },
      "file_extension": ".py",
      "mimetype": "text/x-python",
      "name": "python",
      "nbconvert_exporter": "python",
      "pygments_lexer": "ipython3",
      "version": "3.6.5"
    },
    "widgets": {
      "application/vnd.jupyter.widget-state+json": {
        "33eca1bb9ed1405b86ee4956e0bc031a": {
          "model_module": "@jupyter-widgets/controls",
          "model_name": "HBoxModel",
          "state": {
            "_view_name": "HBoxView",
            "_dom_classes": [],
            "_model_name": "HBoxModel",
            "_view_module": "@jupyter-widgets/controls",
            "_model_module_version": "1.5.0",
            "_view_count": null,
            "_view_module_version": "1.5.0",
            "box_style": "",
            "layout": "IPY_MODEL_1ee99e215f254ff29c591229144a0a2f",
            "_model_module": "@jupyter-widgets/controls",
            "children": [
              "IPY_MODEL_ecd809b96804450da03cd8cb09119507",
              "IPY_MODEL_17e80678d3214bd3a691d39960bd9d39"
            ]
          }
        },
        "1ee99e215f254ff29c591229144a0a2f": {
          "model_module": "@jupyter-widgets/base",
          "model_name": "LayoutModel",
          "state": {
            "_view_name": "LayoutView",
            "grid_template_rows": null,
            "right": null,
            "justify_content": null,
            "_view_module": "@jupyter-widgets/base",
            "overflow": null,
            "_model_module_version": "1.2.0",
            "_view_count": null,
            "flex_flow": null,
            "width": null,
            "min_width": null,
            "border": null,
            "align_items": null,
            "bottom": null,
            "_model_module": "@jupyter-widgets/base",
            "top": null,
            "grid_column": null,
            "overflow_y": null,
            "overflow_x": null,
            "grid_auto_flow": null,
            "grid_area": null,
            "grid_template_columns": null,
            "flex": null,
            "_model_name": "LayoutModel",
            "justify_items": null,
            "grid_row": null,
            "max_height": null,
            "align_content": null,
            "visibility": null,
            "align_self": null,
            "height": null,
            "min_height": null,
            "padding": null,
            "grid_auto_rows": null,
            "grid_gap": null,
            "max_width": null,
            "order": null,
            "_view_module_version": "1.2.0",
            "grid_template_areas": null,
            "object_position": null,
            "object_fit": null,
            "grid_auto_columns": null,
            "margin": null,
            "display": null,
            "left": null
          }
        },
        "ecd809b96804450da03cd8cb09119507": {
          "model_module": "@jupyter-widgets/controls",
          "model_name": "FloatProgressModel",
          "state": {
            "_view_name": "ProgressView",
            "style": "IPY_MODEL_c266ea1634fe448dbb6841039a57fbd0",
            "_dom_classes": [],
            "description": "",
            "_model_name": "FloatProgressModel",
            "bar_style": "info",
            "max": 1,
            "_view_module": "@jupyter-widgets/controls",
            "_model_module_version": "1.5.0",
            "value": 1,
            "_view_count": null,
            "_view_module_version": "1.5.0",
            "orientation": "horizontal",
            "min": 0,
            "description_tooltip": null,
            "_model_module": "@jupyter-widgets/controls",
            "layout": "IPY_MODEL_271c9d5f1fc547fbb55b012e41802845"
          }
        },
        "17e80678d3214bd3a691d39960bd9d39": {
          "model_module": "@jupyter-widgets/controls",
          "model_name": "HTMLModel",
          "state": {
            "_view_name": "HTMLView",
            "style": "IPY_MODEL_49d7a5981e794f1f9693f0cdcc7006fb",
            "_dom_classes": [],
            "description": "",
            "_model_name": "HTMLModel",
            "placeholder": "​",
            "_view_module": "@jupyter-widgets/controls",
            "_model_module_version": "1.5.0",
            "value": " 170500096/? [00:20&lt;00:00, 99718600.61it/s]",
            "_view_count": null,
            "_view_module_version": "1.5.0",
            "description_tooltip": null,
            "_model_module": "@jupyter-widgets/controls",
            "layout": "IPY_MODEL_bf490239e8924e7fb7152ce4c0b3632e"
          }
        },
        "c266ea1634fe448dbb6841039a57fbd0": {
          "model_module": "@jupyter-widgets/controls",
          "model_name": "ProgressStyleModel",
          "state": {
            "_view_name": "StyleView",
            "_model_name": "ProgressStyleModel",
            "description_width": "initial",
            "_view_module": "@jupyter-widgets/base",
            "_model_module_version": "1.5.0",
            "_view_count": null,
            "_view_module_version": "1.2.0",
            "bar_color": null,
            "_model_module": "@jupyter-widgets/controls"
          }
        },
        "271c9d5f1fc547fbb55b012e41802845": {
          "model_module": "@jupyter-widgets/base",
          "model_name": "LayoutModel",
          "state": {
            "_view_name": "LayoutView",
            "grid_template_rows": null,
            "right": null,
            "justify_content": null,
            "_view_module": "@jupyter-widgets/base",
            "overflow": null,
            "_model_module_version": "1.2.0",
            "_view_count": null,
            "flex_flow": null,
            "width": null,
            "min_width": null,
            "border": null,
            "align_items": null,
            "bottom": null,
            "_model_module": "@jupyter-widgets/base",
            "top": null,
            "grid_column": null,
            "overflow_y": null,
            "overflow_x": null,
            "grid_auto_flow": null,
            "grid_area": null,
            "grid_template_columns": null,
            "flex": null,
            "_model_name": "LayoutModel",
            "justify_items": null,
            "grid_row": null,
            "max_height": null,
            "align_content": null,
            "visibility": null,
            "align_self": null,
            "height": null,
            "min_height": null,
            "padding": null,
            "grid_auto_rows": null,
            "grid_gap": null,
            "max_width": null,
            "order": null,
            "_view_module_version": "1.2.0",
            "grid_template_areas": null,
            "object_position": null,
            "object_fit": null,
            "grid_auto_columns": null,
            "margin": null,
            "display": null,
            "left": null
          }
        },
        "49d7a5981e794f1f9693f0cdcc7006fb": {
          "model_module": "@jupyter-widgets/controls",
          "model_name": "DescriptionStyleModel",
          "state": {
            "_view_name": "StyleView",
            "_model_name": "DescriptionStyleModel",
            "description_width": "",
            "_view_module": "@jupyter-widgets/base",
            "_model_module_version": "1.5.0",
            "_view_count": null,
            "_view_module_version": "1.2.0",
            "_model_module": "@jupyter-widgets/controls"
          }
        },
        "bf490239e8924e7fb7152ce4c0b3632e": {
          "model_module": "@jupyter-widgets/base",
          "model_name": "LayoutModel",
          "state": {
            "_view_name": "LayoutView",
            "grid_template_rows": null,
            "right": null,
            "justify_content": null,
            "_view_module": "@jupyter-widgets/base",
            "overflow": null,
            "_model_module_version": "1.2.0",
            "_view_count": null,
            "flex_flow": null,
            "width": null,
            "min_width": null,
            "border": null,
            "align_items": null,
            "bottom": null,
            "_model_module": "@jupyter-widgets/base",
            "top": null,
            "grid_column": null,
            "overflow_y": null,
            "overflow_x": null,
            "grid_auto_flow": null,
            "grid_area": null,
            "grid_template_columns": null,
            "flex": null,
            "_model_name": "LayoutModel",
            "justify_items": null,
            "grid_row": null,
            "max_height": null,
            "align_content": null,
            "visibility": null,
            "align_self": null,
            "height": null,
            "min_height": null,
            "padding": null,
            "grid_auto_rows": null,
            "grid_gap": null,
            "max_width": null,
            "order": null,
            "_view_module_version": "1.2.0",
            "grid_template_areas": null,
            "object_position": null,
            "object_fit": null,
            "grid_auto_columns": null,
            "margin": null,
            "display": null,
            "left": null
          }
        }
      }
    }
  },
  "cells": [
    {
      "cell_type": "code",
      "metadata": {
        "colab_type": "code",
        "id": "JSjG64ra4aFu",
        "colab": {
          "base_uri": "https://localhost:8080/",
          "height": 35
        },
        "outputId": "762e2291-89e9-423d-e9c1-ee1fbf2561b0"
      },
      "source": [
        "from google.colab import drive\n",
        "drive.mount('/content/drive')"
      ],
      "execution_count": 2,
      "outputs": [
        {
          "output_type": "stream",
          "text": [
            "Drive already mounted at /content/drive; to attempt to forcibly remount, call drive.mount(\"/content/drive\", force_remount=True).\n"
          ],
          "name": "stdout"
        }
      ]
    },
    {
      "cell_type": "code",
      "metadata": {
        "colab_type": "code",
        "id": "V8-7SARDZErK",
        "colab": {}
      },
      "source": [
        "import torch.nn as nn\n",
        "import torch.nn.functional as F\n",
        "\n",
        "import pandas as pd\n",
        "import numpy as np\n",
        "import matplotlib.pyplot as plt\n",
        "\n",
        "import torch\n",
        "import torchvision\n",
        "import torchvision.transforms as transforms\n",
        "from torch.utils.data import Dataset, DataLoader\n",
        "from torchvision import transforms, utils\n",
        "\n",
        "from matplotlib import pyplot as plt\n",
        "\n",
        "import copy\n",
        "\n",
        "# Ignore warnings\n",
        "import warnings\n",
        "warnings.filterwarnings(\"ignore\")\n"
      ],
      "execution_count": 3,
      "outputs": []
    },
    {
      "cell_type": "code",
      "metadata": {
        "colab_type": "code",
        "id": "acRFqJNrZErV",
        "colab": {
          "base_uri": "https://localhost:8080/",
          "height": 104,
          "referenced_widgets": [
            "33eca1bb9ed1405b86ee4956e0bc031a",
            "1ee99e215f254ff29c591229144a0a2f",
            "ecd809b96804450da03cd8cb09119507",
            "17e80678d3214bd3a691d39960bd9d39",
            "c266ea1634fe448dbb6841039a57fbd0",
            "271c9d5f1fc547fbb55b012e41802845",
            "49d7a5981e794f1f9693f0cdcc7006fb",
            "bf490239e8924e7fb7152ce4c0b3632e"
          ]
        },
        "outputId": "5c297119-fdfc-411a-8887-44ff2a467159"
      },
      "source": [
        "transform = transforms.Compose(\n",
        "    [transforms.ToTensor(),\n",
        "     transforms.Normalize((0.5, 0.5, 0.5), (0.5, 0.5, 0.5))])\n",
        "\n",
        "trainset = torchvision.datasets.CIFAR10(root='./data', train=True, download=True, transform=transform)\n",
        "\n",
        "\n",
        "testset = torchvision.datasets.CIFAR10(root='./data', train=False, download=True, transform=transform)\n"
      ],
      "execution_count": 4,
      "outputs": [
        {
          "output_type": "stream",
          "text": [
            "Downloading https://www.cs.toronto.edu/~kriz/cifar-10-python.tar.gz to ./data/cifar-10-python.tar.gz\n"
          ],
          "name": "stdout"
        },
        {
          "output_type": "display_data",
          "data": {
            "application/vnd.jupyter.widget-view+json": {
              "model_id": "33eca1bb9ed1405b86ee4956e0bc031a",
              "version_minor": 0,
              "version_major": 2
            },
            "text/plain": [
              "HBox(children=(FloatProgress(value=1.0, bar_style='info', max=1.0), HTML(value='')))"
            ]
          },
          "metadata": {
            "tags": []
          }
        },
        {
          "output_type": "stream",
          "text": [
            "Extracting ./data/cifar-10-python.tar.gz to ./data\n",
            "Files already downloaded and verified\n"
          ],
          "name": "stdout"
        }
      ]
    },
    {
      "cell_type": "code",
      "metadata": {
        "id": "Ip_hgswQOHeX",
        "colab_type": "code",
        "colab": {
          "base_uri": "https://localhost:8080/",
          "height": 35
        },
        "outputId": "615a8dab-9b56-4ee3-846f-dfe8a4208580"
      },
      "source": [
        "type(trainset.targets)\n",
        "type(trainset.data)"
      ],
      "execution_count": 5,
      "outputs": [
        {
          "output_type": "execute_result",
          "data": {
            "text/plain": [
              "numpy.ndarray"
            ]
          },
          "metadata": {
            "tags": []
          },
          "execution_count": 5
        }
      ]
    },
    {
      "cell_type": "code",
      "metadata": {
        "id": "gh5DXuAV1tp5",
        "colab_type": "code",
        "colab": {}
      },
      "source": [
        "# trainloader = torch.utils.data.DataLoader(trainset, batch_size=10, shuffle=True)\n",
        "# testloader = torch.utils.data.DataLoader(testset, batch_size=10, shuffle=False)\n",
        "\n",
        "\n",
        "classes = ('plane', 'car', 'bird', 'cat', 'deer', 'dog', 'frog', 'horse', 'ship', 'truck')\n",
        "\n",
        "foreground_classes = {'plane', 'car', 'bird'}\n",
        "\n",
        "background_classes = {'cat', 'deer', 'dog', 'frog', 'horse','ship', 'truck'}\n",
        "\n",
        "fg1,fg2,fg3 = 0,1,2"
      ],
      "execution_count": 6,
      "outputs": []
    },
    {
      "cell_type": "code",
      "metadata": {
        "colab_type": "code",
        "id": "V_JUhwCeZErk",
        "colab": {
          "base_uri": "https://localhost:8080/",
          "height": 35
        },
        "outputId": "584cde68-22ab-4fff-ffc0-f74e3e0a9075"
      },
      "source": [
        "is_fg = [np.where(np.array(trainset.targets)==fg1)[0] , np.where(np.array(trainset.targets)==fg2)[0], np.where(np.array(trainset.targets)==fg3)[0]  ]\n",
        "# print(is_fg)\n",
        "is_fg = np.concatenate(is_fg,axis=0)\n",
        "print(is_fg, (is_fg).shape)"
      ],
      "execution_count": 7,
      "outputs": [
        {
          "output_type": "stream",
          "text": [
            "[   29    30    35 ... 49987 49991 49995] (15000,)\n"
          ],
          "name": "stdout"
        }
      ]
    },
    {
      "cell_type": "code",
      "metadata": {
        "id": "uW9MkktGysAp",
        "colab_type": "code",
        "colab": {
          "base_uri": "https://localhost:8080/",
          "height": 35
        },
        "outputId": "c91e12bf-d1dc-4ee2-88bf-f3a72fd10de5"
      },
      "source": [
        "all_index = np.arange(0,50000)\n",
        "all_index"
      ],
      "execution_count": 8,
      "outputs": [
        {
          "output_type": "execute_result",
          "data": {
            "text/plain": [
              "array([    0,     1,     2, ..., 49997, 49998, 49999])"
            ]
          },
          "metadata": {
            "tags": []
          },
          "execution_count": 8
        }
      ]
    },
    {
      "cell_type": "code",
      "metadata": {
        "id": "lWxkp87fNwnM",
        "colab_type": "code",
        "colab": {
          "base_uri": "https://localhost:8080/",
          "height": 35
        },
        "outputId": "a5dc4bc5-1e93-43df-a952-11c7c25ecbfd"
      },
      "source": [
        "train_labels = np.array(trainset.targets)\n",
        "train_labels.shape"
      ],
      "execution_count": 9,
      "outputs": [
        {
          "output_type": "execute_result",
          "data": {
            "text/plain": [
              "(50000,)"
            ]
          },
          "metadata": {
            "tags": []
          },
          "execution_count": 9
        }
      ]
    },
    {
      "cell_type": "code",
      "metadata": {
        "id": "AJuGak6_zXgx",
        "colab_type": "code",
        "colab": {
          "base_uri": "https://localhost:8080/",
          "height": 35
        },
        "outputId": "1bf3e0a5-93c8-4b78-be27-1a0e441faa5e"
      },
      "source": [
        "train_labels[is_fg]=1\n",
        "train_labels[list(set(all_index)-set(is_fg))]=0\n",
        "train_labels"
      ],
      "execution_count": 10,
      "outputs": [
        {
          "output_type": "execute_result",
          "data": {
            "text/plain": [
              "array([0, 0, 0, ..., 0, 1, 1])"
            ]
          },
          "metadata": {
            "tags": []
          },
          "execution_count": 10
        }
      ]
    },
    {
      "cell_type": "code",
      "metadata": {
        "id": "IPvRxLk4zmXB",
        "colab_type": "code",
        "colab": {
          "base_uri": "https://localhost:8080/",
          "height": 35
        },
        "outputId": "e8e0ba1d-0ef0-460b-c916-cbad47b38fdc"
      },
      "source": [
        "np.count_nonzero(train_labels)"
      ],
      "execution_count": 11,
      "outputs": [
        {
          "output_type": "execute_result",
          "data": {
            "text/plain": [
              "15000"
            ]
          },
          "metadata": {
            "tags": []
          },
          "execution_count": 11
        }
      ]
    },
    {
      "cell_type": "code",
      "metadata": {
        "id": "II4R1Q2szwg9",
        "colab_type": "code",
        "colab": {}
      },
      "source": [
        "trainset.targets = train_labels"
      ],
      "execution_count": 12,
      "outputs": []
    },
    {
      "cell_type": "code",
      "metadata": {
        "colab_type": "code",
        "id": "ywcNP5ur2Btv",
        "colab": {
          "base_uri": "https://localhost:8080/",
          "height": 35
        },
        "outputId": "62e7796a-57a9-4d59-a48e-0e063cf71678"
      },
      "source": [
        "is_fg = [np.where(np.array(testset.targets)==fg1)[0] , np.where(np.array(testset.targets)==fg2)[0], np.where(np.array(testset.targets)==fg3)[0]  ]\n",
        "# print(is_fg)\n",
        "is_fg = np.concatenate(is_fg,axis=0)\n",
        "print(is_fg, (is_fg).shape)"
      ],
      "execution_count": 13,
      "outputs": [
        {
          "output_type": "stream",
          "text": [
            "[   3   10   21 ... 9970 9982 9989] (3000,)\n"
          ],
          "name": "stdout"
        }
      ]
    },
    {
      "cell_type": "code",
      "metadata": {
        "colab_type": "code",
        "id": "9jv5cZS_2BuK",
        "colab": {
          "base_uri": "https://localhost:8080/",
          "height": 35
        },
        "outputId": "b62f8ea2-8251-4467-e313-43f786a52035"
      },
      "source": [
        "all_index = np.arange(0,10000)\n",
        "all_index"
      ],
      "execution_count": 14,
      "outputs": [
        {
          "output_type": "execute_result",
          "data": {
            "text/plain": [
              "array([   0,    1,    2, ..., 9997, 9998, 9999])"
            ]
          },
          "metadata": {
            "tags": []
          },
          "execution_count": 14
        }
      ]
    },
    {
      "cell_type": "code",
      "metadata": {
        "colab_type": "code",
        "id": "Cea4-tjj2BuV",
        "colab": {
          "base_uri": "https://localhost:8080/",
          "height": 35
        },
        "outputId": "962ef4bd-cf6a-4719-8641-58c054ad52ed"
      },
      "source": [
        "test_labels = np.array(testset.targets)\n",
        "test_labels.shape"
      ],
      "execution_count": 15,
      "outputs": [
        {
          "output_type": "execute_result",
          "data": {
            "text/plain": [
              "(10000,)"
            ]
          },
          "metadata": {
            "tags": []
          },
          "execution_count": 15
        }
      ]
    },
    {
      "cell_type": "code",
      "metadata": {
        "colab_type": "code",
        "id": "oWEsGmB22Bue",
        "colab": {
          "base_uri": "https://localhost:8080/",
          "height": 35
        },
        "outputId": "c7b27072-e7c0-4e8b-c60b-812affc80b8f"
      },
      "source": [
        "test_labels[is_fg]=1\n",
        "test_labels[list(set(all_index)-set(is_fg))]=0\n",
        "test_labels"
      ],
      "execution_count": 16,
      "outputs": [
        {
          "output_type": "execute_result",
          "data": {
            "text/plain": [
              "array([0, 0, 0, ..., 0, 1, 0])"
            ]
          },
          "metadata": {
            "tags": []
          },
          "execution_count": 16
        }
      ]
    },
    {
      "cell_type": "code",
      "metadata": {
        "colab_type": "code",
        "id": "qLcACXP42Buk",
        "colab": {
          "base_uri": "https://localhost:8080/",
          "height": 35
        },
        "outputId": "31edcf20-6cea-4245-83f9-2c5ce9ae077a"
      },
      "source": [
        "np.count_nonzero(test_labels)"
      ],
      "execution_count": 17,
      "outputs": [
        {
          "output_type": "execute_result",
          "data": {
            "text/plain": [
              "3000"
            ]
          },
          "metadata": {
            "tags": []
          },
          "execution_count": 17
        }
      ]
    },
    {
      "cell_type": "code",
      "metadata": {
        "colab_type": "code",
        "id": "5XdsmsD12Bup",
        "colab": {}
      },
      "source": [
        "testset.targets = test_labels"
      ],
      "execution_count": 18,
      "outputs": []
    },
    {
      "cell_type": "code",
      "metadata": {
        "id": "EQOH55xR6INA",
        "colab_type": "code",
        "colab": {}
      },
      "source": [
        "trainloader = torch.utils.data.DataLoader(trainset, batch_size=256,shuffle=True)\n",
        "testloader = torch.utils.data.DataLoader(testset, batch_size=256,shuffle=False)"
      ],
      "execution_count": 19,
      "outputs": []
    },
    {
      "cell_type": "code",
      "metadata": {
        "colab_type": "code",
        "id": "SadRzWBBZEsP",
        "colab": {}
      },
      "source": [
        "import torch.nn as nn\n",
        "import torch.nn.functional as F\n",
        "\n",
        "class Focus(nn.Module):\n",
        "  def __init__(self):\n",
        "    super(Focus, self).__init__()\n",
        "    self.conv1 = nn.Conv2d(3, 6, 5)\n",
        "    self.pool = nn.MaxPool2d(2, 2)\n",
        "    self.conv2 = nn.Conv2d(6, 12, 5)\n",
        "    self.conv3 = nn.Conv2d(12,20,5)\n",
        "    self.fc1 = nn.Linear(20 * 6 * 6, 120)\n",
        "    self.fc2 = nn.Linear(120, 80)\n",
        "    self.fc3 = nn.Linear(80, 40)\n",
        "    self.fc4 = nn.Linear(40,10)\n",
        "    self.fc5 = nn.Linear(10,2)\n",
        "\n",
        "  def forward(self, x):\n",
        "    x = self.pool(F.relu(self.conv1(x)))\n",
        "    x = (F.relu(self.conv2(x)))\n",
        "    x = (F.relu(self.conv3(x)))\n",
        "    x = x.view(-1, 20 * 6 * 6)\n",
        "    x = F.relu(self.fc1(x))\n",
        "    x = F.relu(self.fc2(x))\n",
        "    x = F.relu(self.fc3(x))\n",
        "    x = F.relu(self.fc4(x))\n",
        "    x = self.fc5(x)\n",
        "    return x"
      ],
      "execution_count": 20,
      "outputs": []
    },
    {
      "cell_type": "code",
      "metadata": {
        "id": "1GvXR1zV5n4w",
        "colab_type": "code",
        "colab": {}
      },
      "source": [
        "where_net = Focus()#.double()\n",
        "where_net = where_net.to(\"cuda\")"
      ],
      "execution_count": 21,
      "outputs": []
    },
    {
      "cell_type": "code",
      "metadata": {
        "id": "yZob1uGT6fTM",
        "colab_type": "code",
        "colab": {
          "base_uri": "https://localhost:8080/",
          "height": 217
        },
        "outputId": "b4188f15-eb97-454f-b1de-5c7ec7b920b4"
      },
      "source": [
        "where_net"
      ],
      "execution_count": 22,
      "outputs": [
        {
          "output_type": "execute_result",
          "data": {
            "text/plain": [
              "Focus(\n",
              "  (conv1): Conv2d(3, 6, kernel_size=(5, 5), stride=(1, 1))\n",
              "  (pool): MaxPool2d(kernel_size=2, stride=2, padding=0, dilation=1, ceil_mode=False)\n",
              "  (conv2): Conv2d(6, 12, kernel_size=(5, 5), stride=(1, 1))\n",
              "  (conv3): Conv2d(12, 20, kernel_size=(5, 5), stride=(1, 1))\n",
              "  (fc1): Linear(in_features=720, out_features=120, bias=True)\n",
              "  (fc2): Linear(in_features=120, out_features=80, bias=True)\n",
              "  (fc3): Linear(in_features=80, out_features=40, bias=True)\n",
              "  (fc4): Linear(in_features=40, out_features=10, bias=True)\n",
              "  (fc5): Linear(in_features=10, out_features=2, bias=True)\n",
              ")"
            ]
          },
          "metadata": {
            "tags": []
          },
          "execution_count": 22
        }
      ]
    },
    {
      "cell_type": "code",
      "metadata": {
        "id": "n5g3geNJ5zEu",
        "colab_type": "code",
        "colab": {}
      },
      "source": [
        "import torch.optim as optim\n",
        "criterion_where = nn.CrossEntropyLoss()\n",
        "optimizer_where = optim.SGD(where_net.parameters(), lr=0.01, momentum=0.9)"
      ],
      "execution_count": 23,
      "outputs": []
    },
    {
      "cell_type": "code",
      "metadata": {
        "colab_type": "code",
        "id": "tFfAJZkcZEsY",
        "colab": {
          "base_uri": "https://localhost:8080/",
          "height": 1000
        },
        "outputId": "2e8b7937-732c-4bfd-c53a-a77bde873d2b"
      },
      "source": [
        "acti = []\n",
        "loss_curi = []\n",
        "epochs = 1000\n",
        "for epoch in range(epochs): # loop over the dataset multiple times\n",
        "    ep_lossi = []\n",
        "\n",
        "    running_loss = 0.0\n",
        "    for i, data in enumerate(trainloader, 0):\n",
        "        # get the inputs\n",
        "        inputs, labels = data\n",
        "        inputs, labels = inputs.to(\"cuda\"),labels.to(\"cuda\")\n",
        "\n",
        "        # zero the parameter gradients\n",
        "        optimizer_where.zero_grad()\n",
        "\n",
        "        # forward + backward + optimize\n",
        "        outputs = where_net(inputs)\n",
        "        loss = criterion_where(outputs, labels)\n",
        "        loss.backward()\n",
        "        optimizer_where.step()\n",
        "\n",
        "        # print statistics\n",
        "        running_loss += loss.item()\n",
        "        mini_batch = 50\n",
        "        if i % mini_batch == mini_batch-1:    # print every 50 mini-batches\n",
        "            print('[%d, %5d] loss: %.3f' %(epoch + 1, i + 1, running_loss / mini_batch))\n",
        "            ep_lossi.append(running_loss/mini_batch) # loss per minibatch\n",
        "            running_loss = 0.0\n",
        "            \n",
        "    if(np.mean(ep_lossi) <= 0.001):\n",
        "      break;\n",
        "    loss_curi.append(np.mean(ep_lossi))   #loss per epoch            \n",
        "\n",
        "print('Finished Training')"
      ],
      "execution_count": 24,
      "outputs": [
        {
          "output_type": "stream",
          "text": [
            "[1,    50] loss: 0.621\n",
            "[1,   100] loss: 0.612\n",
            "[1,   150] loss: 0.609\n",
            "[2,    50] loss: 0.606\n",
            "[2,   100] loss: 0.609\n",
            "[2,   150] loss: 0.612\n",
            "[3,    50] loss: 0.610\n",
            "[3,   100] loss: 0.614\n",
            "[3,   150] loss: 0.610\n",
            "[4,    50] loss: 0.611\n",
            "[4,   100] loss: 0.613\n",
            "[4,   150] loss: 0.605\n",
            "[5,    50] loss: 0.609\n",
            "[5,   100] loss: 0.611\n",
            "[5,   150] loss: 0.607\n",
            "[6,    50] loss: 0.599\n",
            "[6,   100] loss: 0.589\n",
            "[6,   150] loss: 0.585\n",
            "[7,    50] loss: 0.582\n",
            "[7,   100] loss: 0.563\n",
            "[7,   150] loss: 0.541\n",
            "[8,    50] loss: 0.526\n",
            "[8,   100] loss: 0.519\n",
            "[8,   150] loss: 0.516\n",
            "[9,    50] loss: 0.498\n",
            "[9,   100] loss: 0.491\n",
            "[9,   150] loss: 0.486\n",
            "[10,    50] loss: 0.486\n",
            "[10,   100] loss: 0.476\n",
            "[10,   150] loss: 0.467\n",
            "[11,    50] loss: 0.463\n",
            "[11,   100] loss: 0.463\n",
            "[11,   150] loss: 0.460\n",
            "[12,    50] loss: 0.455\n",
            "[12,   100] loss: 0.444\n",
            "[12,   150] loss: 0.433\n",
            "[13,    50] loss: 0.436\n",
            "[13,   100] loss: 0.425\n",
            "[13,   150] loss: 0.437\n",
            "[14,    50] loss: 0.423\n",
            "[14,   100] loss: 0.415\n",
            "[14,   150] loss: 0.418\n",
            "[15,    50] loss: 0.418\n",
            "[15,   100] loss: 0.405\n",
            "[15,   150] loss: 0.400\n",
            "[16,    50] loss: 0.395\n",
            "[16,   100] loss: 0.394\n",
            "[16,   150] loss: 0.406\n",
            "[17,    50] loss: 0.386\n",
            "[17,   100] loss: 0.396\n",
            "[17,   150] loss: 0.404\n",
            "[18,    50] loss: 0.396\n",
            "[18,   100] loss: 0.385\n",
            "[18,   150] loss: 0.386\n",
            "[19,    50] loss: 0.367\n",
            "[19,   100] loss: 0.375\n",
            "[19,   150] loss: 0.379\n",
            "[20,    50] loss: 0.363\n",
            "[20,   100] loss: 0.372\n",
            "[20,   150] loss: 0.382\n",
            "[21,    50] loss: 0.369\n",
            "[21,   100] loss: 0.367\n",
            "[21,   150] loss: 0.367\n",
            "[22,    50] loss: 0.356\n",
            "[22,   100] loss: 0.356\n",
            "[22,   150] loss: 0.358\n",
            "[23,    50] loss: 0.353\n",
            "[23,   100] loss: 0.353\n",
            "[23,   150] loss: 0.363\n",
            "[24,    50] loss: 0.350\n",
            "[24,   100] loss: 0.337\n",
            "[24,   150] loss: 0.356\n",
            "[25,    50] loss: 0.336\n",
            "[25,   100] loss: 0.334\n",
            "[25,   150] loss: 0.338\n",
            "[26,    50] loss: 0.319\n",
            "[26,   100] loss: 0.322\n",
            "[26,   150] loss: 0.334\n",
            "[27,    50] loss: 0.312\n",
            "[27,   100] loss: 0.330\n",
            "[27,   150] loss: 0.313\n",
            "[28,    50] loss: 0.305\n",
            "[28,   100] loss: 0.317\n",
            "[28,   150] loss: 0.318\n",
            "[29,    50] loss: 0.296\n",
            "[29,   100] loss: 0.300\n",
            "[29,   150] loss: 0.311\n",
            "[30,    50] loss: 0.308\n",
            "[30,   100] loss: 0.291\n",
            "[30,   150] loss: 0.291\n",
            "[31,    50] loss: 0.256\n",
            "[31,   100] loss: 0.281\n",
            "[31,   150] loss: 0.295\n",
            "[32,    50] loss: 0.262\n",
            "[32,   100] loss: 0.268\n",
            "[32,   150] loss: 0.274\n",
            "[33,    50] loss: 0.243\n",
            "[33,   100] loss: 0.264\n",
            "[33,   150] loss: 0.265\n",
            "[34,    50] loss: 0.230\n",
            "[34,   100] loss: 0.246\n",
            "[34,   150] loss: 0.249\n",
            "[35,    50] loss: 0.230\n",
            "[35,   100] loss: 0.237\n",
            "[35,   150] loss: 0.241\n",
            "[36,    50] loss: 0.204\n",
            "[36,   100] loss: 0.220\n",
            "[36,   150] loss: 0.232\n",
            "[37,    50] loss: 0.195\n",
            "[37,   100] loss: 0.190\n",
            "[37,   150] loss: 0.209\n",
            "[38,    50] loss: 0.186\n",
            "[38,   100] loss: 0.186\n",
            "[38,   150] loss: 0.195\n",
            "[39,    50] loss: 0.177\n",
            "[39,   100] loss: 0.170\n",
            "[39,   150] loss: 0.188\n",
            "[40,    50] loss: 0.154\n",
            "[40,   100] loss: 0.157\n",
            "[40,   150] loss: 0.204\n",
            "[41,    50] loss: 0.136\n",
            "[41,   100] loss: 0.147\n",
            "[41,   150] loss: 0.169\n",
            "[42,    50] loss: 0.128\n",
            "[42,   100] loss: 0.137\n",
            "[42,   150] loss: 0.157\n",
            "[43,    50] loss: 0.111\n",
            "[43,   100] loss: 0.121\n",
            "[43,   150] loss: 0.147\n",
            "[44,    50] loss: 0.101\n",
            "[44,   100] loss: 0.127\n",
            "[44,   150] loss: 0.119\n",
            "[45,    50] loss: 0.093\n",
            "[45,   100] loss: 0.110\n",
            "[45,   150] loss: 0.134\n",
            "[46,    50] loss: 0.104\n",
            "[46,   100] loss: 0.092\n",
            "[46,   150] loss: 0.120\n",
            "[47,    50] loss: 0.087\n",
            "[47,   100] loss: 0.087\n",
            "[47,   150] loss: 0.095\n",
            "[48,    50] loss: 0.082\n",
            "[48,   100] loss: 0.081\n",
            "[48,   150] loss: 0.091\n",
            "[49,    50] loss: 0.073\n",
            "[49,   100] loss: 0.072\n",
            "[49,   150] loss: 0.091\n",
            "[50,    50] loss: 0.082\n",
            "[50,   100] loss: 0.082\n",
            "[50,   150] loss: 0.097\n",
            "[51,    50] loss: 0.077\n",
            "[51,   100] loss: 0.074\n",
            "[51,   150] loss: 0.069\n",
            "[52,    50] loss: 0.045\n",
            "[52,   100] loss: 0.053\n",
            "[52,   150] loss: 0.066\n",
            "[53,    50] loss: 0.057\n",
            "[53,   100] loss: 0.067\n",
            "[53,   150] loss: 0.079\n",
            "[54,    50] loss: 0.049\n",
            "[54,   100] loss: 0.046\n",
            "[54,   150] loss: 0.080\n",
            "[55,    50] loss: 0.059\n",
            "[55,   100] loss: 0.057\n",
            "[55,   150] loss: 0.057\n",
            "[56,    50] loss: 0.048\n",
            "[56,   100] loss: 0.050\n",
            "[56,   150] loss: 0.052\n",
            "[57,    50] loss: 0.044\n",
            "[57,   100] loss: 0.058\n",
            "[57,   150] loss: 0.055\n",
            "[58,    50] loss: 0.039\n",
            "[58,   100] loss: 0.036\n",
            "[58,   150] loss: 0.087\n",
            "[59,    50] loss: 0.040\n",
            "[59,   100] loss: 0.036\n",
            "[59,   150] loss: 0.046\n",
            "[60,    50] loss: 0.036\n",
            "[60,   100] loss: 0.028\n",
            "[60,   150] loss: 0.035\n",
            "[61,    50] loss: 0.038\n",
            "[61,   100] loss: 0.042\n",
            "[61,   150] loss: 0.042\n",
            "[62,    50] loss: 0.040\n",
            "[62,   100] loss: 0.031\n",
            "[62,   150] loss: 0.045\n",
            "[63,    50] loss: 0.030\n",
            "[63,   100] loss: 0.048\n",
            "[63,   150] loss: 0.048\n",
            "[64,    50] loss: 0.024\n",
            "[64,   100] loss: 0.017\n",
            "[64,   150] loss: 0.020\n",
            "[65,    50] loss: 0.036\n",
            "[65,   100] loss: 0.054\n",
            "[65,   150] loss: 0.037\n",
            "[66,    50] loss: 0.012\n",
            "[66,   100] loss: 0.012\n",
            "[66,   150] loss: 0.036\n",
            "[67,    50] loss: 0.023\n",
            "[67,   100] loss: 0.023\n",
            "[67,   150] loss: 0.025\n",
            "[68,    50] loss: 0.030\n",
            "[68,   100] loss: 0.029\n",
            "[68,   150] loss: 0.033\n",
            "[69,    50] loss: 0.017\n",
            "[69,   100] loss: 0.015\n",
            "[69,   150] loss: 0.043\n",
            "[70,    50] loss: 0.031\n",
            "[70,   100] loss: 0.021\n",
            "[70,   150] loss: 0.018\n",
            "[71,    50] loss: 0.023\n",
            "[71,   100] loss: 0.020\n",
            "[71,   150] loss: 0.019\n",
            "[72,    50] loss: 0.018\n",
            "[72,   100] loss: 0.024\n",
            "[72,   150] loss: 0.034\n",
            "[73,    50] loss: 0.014\n",
            "[73,   100] loss: 0.018\n",
            "[73,   150] loss: 0.012\n",
            "[74,    50] loss: 0.024\n",
            "[74,   100] loss: 0.019\n",
            "[74,   150] loss: 0.035\n",
            "[75,    50] loss: 0.012\n",
            "[75,   100] loss: 0.017\n",
            "[75,   150] loss: 0.023\n",
            "[76,    50] loss: 0.014\n",
            "[76,   100] loss: 0.013\n",
            "[76,   150] loss: 0.014\n",
            "[77,    50] loss: 0.018\n",
            "[77,   100] loss: 0.012\n",
            "[77,   150] loss: 0.012\n",
            "[78,    50] loss: 0.017\n",
            "[78,   100] loss: 0.031\n",
            "[78,   150] loss: 0.047\n",
            "[79,    50] loss: 0.017\n",
            "[79,   100] loss: 0.013\n",
            "[79,   150] loss: 0.007\n",
            "[80,    50] loss: 0.008\n",
            "[80,   100] loss: 0.007\n",
            "[80,   150] loss: 0.008\n",
            "[81,    50] loss: 0.035\n",
            "[81,   100] loss: 0.033\n",
            "[81,   150] loss: 0.020\n",
            "[82,    50] loss: 0.019\n",
            "[82,   100] loss: 0.014\n",
            "[82,   150] loss: 0.015\n",
            "[83,    50] loss: 0.013\n",
            "[83,   100] loss: 0.017\n",
            "[83,   150] loss: 0.018\n",
            "[84,    50] loss: 0.008\n",
            "[84,   100] loss: 0.008\n",
            "[84,   150] loss: 0.009\n",
            "[85,    50] loss: 0.015\n",
            "[85,   100] loss: 0.021\n",
            "[85,   150] loss: 0.015\n",
            "[86,    50] loss: 0.008\n",
            "[86,   100] loss: 0.011\n",
            "[86,   150] loss: 0.012\n",
            "[87,    50] loss: 0.023\n",
            "[87,   100] loss: 0.020\n",
            "[87,   150] loss: 0.028\n",
            "[88,    50] loss: 0.015\n",
            "[88,   100] loss: 0.009\n",
            "[88,   150] loss: 0.010\n",
            "[89,    50] loss: 0.010\n",
            "[89,   100] loss: 0.010\n",
            "[89,   150] loss: 0.009\n",
            "[90,    50] loss: 0.009\n",
            "[90,   100] loss: 0.011\n",
            "[90,   150] loss: 0.009\n",
            "[91,    50] loss: 0.003\n",
            "[91,   100] loss: 0.007\n",
            "[91,   150] loss: 0.019\n",
            "[92,    50] loss: 0.020\n",
            "[92,   100] loss: 0.018\n",
            "[92,   150] loss: 0.013\n",
            "[93,    50] loss: 0.010\n",
            "[93,   100] loss: 0.005\n",
            "[93,   150] loss: 0.007\n",
            "[94,    50] loss: 0.028\n",
            "[94,   100] loss: 0.018\n",
            "[94,   150] loss: 0.014\n",
            "[95,    50] loss: 0.017\n",
            "[95,   100] loss: 0.019\n",
            "[95,   150] loss: 0.016\n",
            "[96,    50] loss: 0.010\n",
            "[96,   100] loss: 0.006\n",
            "[96,   150] loss: 0.006\n",
            "[97,    50] loss: 0.005\n",
            "[97,   100] loss: 0.004\n",
            "[97,   150] loss: 0.006\n",
            "[98,    50] loss: 0.002\n",
            "[98,   100] loss: 0.003\n",
            "[98,   150] loss: 0.025\n",
            "[99,    50] loss: 0.015\n",
            "[99,   100] loss: 0.012\n",
            "[99,   150] loss: 0.008\n",
            "[100,    50] loss: 0.004\n",
            "[100,   100] loss: 0.005\n",
            "[100,   150] loss: 0.003\n",
            "[101,    50] loss: 0.003\n",
            "[101,   100] loss: 0.002\n",
            "[101,   150] loss: 0.004\n",
            "[102,    50] loss: 0.010\n",
            "[102,   100] loss: 0.009\n",
            "[102,   150] loss: 0.009\n",
            "[103,    50] loss: 0.014\n",
            "[103,   100] loss: 0.009\n",
            "[103,   150] loss: 0.009\n",
            "[104,    50] loss: 0.030\n",
            "[104,   100] loss: 0.013\n",
            "[104,   150] loss: 0.007\n",
            "[105,    50] loss: 0.006\n",
            "[105,   100] loss: 0.003\n",
            "[105,   150] loss: 0.003\n",
            "[106,    50] loss: 0.002\n",
            "[106,   100] loss: 0.001\n",
            "[106,   150] loss: 0.008\n",
            "[107,    50] loss: 0.005\n",
            "[107,   100] loss: 0.008\n",
            "[107,   150] loss: 0.003\n",
            "[108,    50] loss: 0.016\n",
            "[108,   100] loss: 0.017\n",
            "[108,   150] loss: 0.015\n",
            "[109,    50] loss: 0.010\n",
            "[109,   100] loss: 0.013\n",
            "[109,   150] loss: 0.014\n",
            "[110,    50] loss: 0.014\n",
            "[110,   100] loss: 0.007\n",
            "[110,   150] loss: 0.003\n",
            "[111,    50] loss: 0.001\n",
            "[111,   100] loss: 0.002\n",
            "[111,   150] loss: 0.001\n",
            "[112,    50] loss: 0.000\n",
            "[112,   100] loss: 0.000\n",
            "[112,   150] loss: 0.000\n",
            "Finished Training\n"
          ],
          "name": "stdout"
        }
      ]
    },
    {
      "cell_type": "code",
      "metadata": {
        "id": "WIAJ3UZN8rPE",
        "colab_type": "code",
        "colab": {}
      },
      "source": [
        "torch.save(where_net.state_dict(),\"/content/drive/My Drive/Research/Cheating_data/Focus_net_weights/focus_net\"+\"cnn\"+\".pt\")"
      ],
      "execution_count": 25,
      "outputs": []
    },
    {
      "cell_type": "code",
      "metadata": {
        "id": "an7qmNLB-Ilb",
        "colab_type": "code",
        "colab": {
          "base_uri": "https://localhost:8080/",
          "height": 53
        },
        "outputId": "9a182e8f-209f-4ef7-c081-4a431b615e6c"
      },
      "source": [
        "correct = 0\n",
        "total = 0\n",
        "with torch.no_grad():\n",
        "    for data in trainloader:\n",
        "        images, labels = data\n",
        "        images, labels = images.to(\"cuda\"), labels.to(\"cuda\")\n",
        "        outputs = where_net(images)\n",
        "        _, predicted = torch.max(outputs.data, 1)\n",
        "        total += labels.size(0)\n",
        "        correct += (predicted == labels).sum().item()\n",
        "\n",
        "print('Accuracy of the network on the %d train images: %d %%' % (total,  100 * correct / total))\n",
        "print(total,correct)"
      ],
      "execution_count": 26,
      "outputs": [
        {
          "output_type": "stream",
          "text": [
            "Accuracy of the network on the 50000 train images: 100 %\n",
            "50000 50000\n"
          ],
          "name": "stdout"
        }
      ]
    },
    {
      "cell_type": "code",
      "metadata": {
        "id": "3WqTm-aW-TGU",
        "colab_type": "code",
        "colab": {
          "base_uri": "https://localhost:8080/",
          "height": 53
        },
        "outputId": "0dfedd0c-b2f1-410a-de29-ea55ea7bbefe"
      },
      "source": [
        "correct = 0\n",
        "total = 0\n",
        "out = []\n",
        "pred = []\n",
        "with torch.no_grad():\n",
        "    for data in testloader:\n",
        "        images, labels = data\n",
        "        images, labels = images.to(\"cuda\"),labels.to(\"cuda\")\n",
        "        out.append(labels.cpu().numpy())\n",
        "        outputs= where_net(images)\n",
        "        _, predicted = torch.max(outputs.data, 1)\n",
        "        pred.append(predicted.cpu().numpy())\n",
        "        total += labels.size(0)\n",
        "        correct += (predicted == labels).sum().item()\n",
        "\n",
        "print('Accuracy of the network on the 10000 test images: %d %%' % ( 100 * correct / total))\n",
        "print(total,correct)"
      ],
      "execution_count": 27,
      "outputs": [
        {
          "output_type": "stream",
          "text": [
            "Accuracy of the network on the 10000 test images: 81 %\n",
            "10000 8167\n"
          ],
          "name": "stdout"
        }
      ]
    },
    {
      "cell_type": "code",
      "metadata": {
        "id": "oQ1yPyXRBNT4",
        "colab_type": "code",
        "colab": {}
      },
      "source": [
        ""
      ],
      "execution_count": 27,
      "outputs": []
    }
  ]
}