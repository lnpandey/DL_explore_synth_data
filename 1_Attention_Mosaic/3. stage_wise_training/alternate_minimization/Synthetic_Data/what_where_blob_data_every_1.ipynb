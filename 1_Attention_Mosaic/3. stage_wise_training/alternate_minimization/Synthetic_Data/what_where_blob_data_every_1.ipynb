{
  "nbformat": 4,
  "nbformat_minor": 0,
  "metadata": {
    "accelerator": "GPU",
    "colab": {
      "name": "what_where_blob_data_every_1.ipynb",
      "provenance": [],
      "collapsed_sections": [
        "H0VVjc9qFqf_"
      ],
      "toc_visible": true
    },
    "kernelspec": {
      "display_name": "Python 3",
      "name": "python3"
    }
  },
  "cells": [
    {
      "cell_type": "code",
      "metadata": {
        "id": "VAYu3ISwwGks"
      },
      "source": [
        "import numpy as np\n",
        "import pandas as pd\n",
        "\n",
        "import torch\n",
        "import torchvision\n",
        "from torch.utils.data import Dataset, DataLoader\n",
        "from torchvision import transforms, utils\n",
        "import torch.nn as nn\n",
        "import torch.nn.functional as F\n",
        "import torch.optim as optim\n",
        "\n",
        "from matplotlib import pyplot as plt\n",
        "%matplotlib inline"
      ],
      "execution_count": 1,
      "outputs": []
    },
    {
      "cell_type": "markdown",
      "metadata": {
        "id": "H0VVjc9qFqf_"
      },
      "source": [
        "# Create blob Train and Test data"
      ]
    },
    {
      "cell_type": "code",
      "metadata": {
        "id": "mpdNNb8wFp56"
      },
      "source": [
        "# mu1 = np.array([3,3,3,3,0])\n",
        "# sigma1 = np.array([[1,1,1,1,1],[1,16,1,1,1],[1,1,1,1,1],[1,1,1,1,1],[1,1,1,1,1]])\n",
        "\n",
        "# mu2 = np.array([4,4,4,4,0])\n",
        "# sigma2 = np.array([[16,1,1,1,1],[1,1,1,1,1],[1,1,1,1,1],[1,1,1,1,1],[1,1,1,1,1]])\n",
        "\n",
        "# mu3 = np.array([10,5,5,10,0])\n",
        "# sigma3 = np.array([[1,1,1,1,1],[1,16,1,1,1],[1,1,1,1,1],[1,1,1,1,1],[1,1,1,1,1]])\n",
        "\n",
        "# mu4 = np.array([-10,-10,-10,-10,0])\n",
        "# sigma4 = np.array([[1,1,1,1,1],[1,16,1,1,1],[1,1,1,1,1],[1,1,1,1,1],[1,1,1,1,1]])\n",
        "\n",
        "# mu5 = np.array([-21,4,4,-21,0])\n",
        "# sigma5 = np.array([[16,1,1,1,1],[1,1,1,1,1],[1,1,1,1,1],[1,1,1,1,1],[1,1,1,1,1]])\n",
        "\n",
        "# mu6 = np.array([-10,18,18,-10,0])\n",
        "# sigma6 = np.array([[1,1,1,1,1],[1,16,1,1,1],[1,1,1,1,1],[1,1,1,1,1],[1,1,1,1,1]])\n",
        "\n",
        "# mu7 = np.array([4,20,4,20,0])\n",
        "# sigma7 = np.array([[16,1,1,1,1],[1,1,1,1,1],[1,1,1,1,1],[1,1,1,1,1],[1,1,1,1,1]])\n",
        "\n",
        "# mu8 = np.array([4,-20,-20,4,0])\n",
        "# sigma8 = np.array([[16,1,1,1,1],[1,1,1,1,1],[1,1,1,1,1],[1,1,1,1,1],[1,1,1,1,1]])\n",
        "\n",
        "# mu9 = np.array([20,20,20,20,0])\n",
        "# sigma9 = np.array([[1,1,1,1,1],[1,16,1,1,1],[1,1,1,1,1],[1,1,1,1,1],[1,1,1,1,1]])\n",
        "\n",
        "# mu10 = np.array([20,-10,-10,20,0])\n",
        "# sigma10 = np.array([[1,1,1,1,1],[1,16,1,1,1],[1,1,1,1,1],[1,1,1,1,1],[1,1,1,1,1]])\n",
        "\n",
        "\n",
        "\n",
        "# sample1 = np.random.multivariate_normal(mean=mu1,cov= sigma1,size=500)\n",
        "# sample2 = np.random.multivariate_normal(mean=mu2,cov= sigma2,size=500)\n",
        "# sample3 = np.random.multivariate_normal(mean=mu3,cov= sigma3,size=500)\n",
        "# sample4 = np.random.multivariate_normal(mean=mu4,cov= sigma4,size=500)\n",
        "# sample5 = np.random.multivariate_normal(mean=mu5,cov= sigma5,size=500)\n",
        "# sample6 = np.random.multivariate_normal(mean=mu6,cov= sigma6,size=500)\n",
        "# sample7 = np.random.multivariate_normal(mean=mu7,cov= sigma7,size=500)\n",
        "# sample8 = np.random.multivariate_normal(mean=mu8,cov= sigma8,size=500)\n",
        "# sample9 = np.random.multivariate_normal(mean=mu9,cov= sigma9,size=500)\n",
        "# sample10 = np.random.multivariate_normal(mean=mu10,cov= sigma10,size=500)"
      ],
      "execution_count": 2,
      "outputs": []
    },
    {
      "cell_type": "code",
      "metadata": {
        "id": "GVwzqqNxFwzN"
      },
      "source": [
        "# X = np.concatenate((sample1,sample2,sample3,sample4,sample5,sample6,sample7,sample8,sample9,sample10),axis=0)\n",
        "# Y = np.concatenate((np.zeros((500,1)),np.ones((500,1)),2*np.ones((500,1)),3*np.ones((500,1)),4*np.ones((500,1)),\n",
        "#                     5*np.ones((500,1)),6*np.ones((500,1)),7*np.ones((500,1)),8*np.ones((500,1)),9*np.ones((500,1))),axis=0).astype(int)\n",
        "# print(X.shape,Y.shape)\n",
        "# plt.scatter(sample1[:,0],sample1[:,1],label=\"class_0\")\n",
        "# plt.scatter(sample2[:,0],sample2[:,1],label=\"class_1\")\n",
        "# plt.scatter(sample3[:,0],sample3[:,1],label=\"class_2\")\n",
        "# plt.scatter(sample4[:,0],sample4[:,1],label=\"class_3\")\n",
        "# plt.scatter(sample5[:,0],sample5[:,1],label=\"class_4\")\n",
        "# plt.scatter(sample6[:,0],sample6[:,1],label=\"class_5\")\n",
        "# plt.scatter(sample7[:,0],sample7[:,1],label=\"class_6\")\n",
        "# plt.scatter(sample8[:,0],sample8[:,1],label=\"class_7\")\n",
        "# plt.scatter(sample9[:,0],sample9[:,1],label=\"class_8\")\n",
        "# plt.scatter(sample10[:,0],sample10[:,1],label=\"class_9\")\n",
        "# plt.legend(bbox_to_anchor=(1.05, 1), loc='upper left')"
      ],
      "execution_count": 3,
      "outputs": []
    },
    {
      "cell_type": "code",
      "metadata": {
        "id": "kdLONe1TFwcv"
      },
      "source": [
        "# class SyntheticDataset(Dataset):\n",
        "#   \"\"\"MosaicDataset dataset.\"\"\"\n",
        "\n",
        "#   def __init__(self, x, y):\n",
        "#     \"\"\"\n",
        "#       Args:\n",
        "#         csv_file (string): Path to the csv file with annotations.\n",
        "#         root_dir (string): Directory with all the images.\n",
        "#         transform (callable, optional): Optional transform to be applied\n",
        "#             on a sample.\n",
        "#     \"\"\"\n",
        "#     self.x = x\n",
        "#     self.y = y\n",
        "#     #self.fore_idx = fore_idx\n",
        "    \n",
        "#   def __len__(self):\n",
        "#     return len(self.y)\n",
        "\n",
        "#   def __getitem__(self, idx):\n",
        "#     return self.x[idx] , self.y[idx] #, self.fore_idx[idx]"
      ],
      "execution_count": 4,
      "outputs": []
    },
    {
      "cell_type": "code",
      "metadata": {
        "id": "am81Wr7lFwTn"
      },
      "source": [
        "# trainset = SyntheticDataset(X,Y)\n",
        "# trainloader = torch.utils.data.DataLoader(trainset, batch_size=100, shuffle=True)\n",
        "# classes = ('zero','one','two','three','four','five','six','seven','eight','nine')\n",
        "\n",
        "# foreground_classes = {'zero','one','two'}\n",
        "# fg_used = '012'\n",
        "# fg1, fg2, fg3 = 0,1,2\n",
        "\n",
        "\n",
        "# all_classes = {'zero','one','two','three','four','five','six','seven','eight','nine'}\n",
        "# background_classes = all_classes - foreground_classes\n",
        "# background_classes"
      ],
      "execution_count": 5,
      "outputs": []
    },
    {
      "cell_type": "code",
      "metadata": {
        "id": "_lopYyy7G--q"
      },
      "source": [
        "# dataiter = iter(trainloader)\n",
        "# background_data=[]\n",
        "# background_label=[]\n",
        "# foreground_data=[]\n",
        "# foreground_label=[]\n",
        "# batch_size=100\n",
        "\n",
        "# for i in range(50):\n",
        "#   images, labels = dataiter.next()\n",
        "#   for j in range(batch_size):\n",
        "#     if(classes[labels[j]] in background_classes):\n",
        "#       img = images[j].tolist()\n",
        "#       background_data.append(img)\n",
        "#       background_label.append(labels[j])\n",
        "#     else:\n",
        "#       img = images[j].tolist()\n",
        "#       foreground_data.append(img)\n",
        "#       foreground_label.append(labels[j])\n",
        "            \n",
        "# foreground_data = torch.tensor(foreground_data)\n",
        "# foreground_label = torch.tensor(foreground_label)\n",
        "# background_data = torch.tensor(background_data)\n",
        "# background_label = torch.tensor(background_label)"
      ],
      "execution_count": 6,
      "outputs": []
    },
    {
      "cell_type": "code",
      "metadata": {
        "id": "JnT8fc5DMAa0"
      },
      "source": [
        "# def create_mosaic_img(bg_idx,fg_idx,fg): \n",
        "#   \"\"\"\n",
        "#   bg_idx : list of indexes of background_data[] to be used as background images in mosaic\n",
        "#   fg_idx : index of image to be used as foreground image from foreground data\n",
        "#   fg : at what position/index foreground image has to be stored out of 0-8\n",
        "#   \"\"\"\n",
        "#   image_list=[]\n",
        "#   j=0\n",
        "#   for i in range(9):\n",
        "#     if i != fg:\n",
        "#       image_list.append(background_data[bg_idx[j]])\n",
        "#       j+=1\n",
        "#     else: \n",
        "#       image_list.append(foreground_data[fg_idx])\n",
        "#       label = foreground_label[fg_idx] - fg1  # minus fg1 because our fore ground classes are fg1,fg2,fg3 but we have to store it as 0,1,2\n",
        "#   #image_list = np.concatenate(image_list ,axis=0)\n",
        "#   image_list = torch.stack(image_list) \n",
        "#   return image_list,label"
      ],
      "execution_count": 7,
      "outputs": []
    },
    {
      "cell_type": "code",
      "metadata": {
        "id": "kd4r_sXhMDCu"
      },
      "source": [
        "# # number of data points in bg class and fg class\n",
        "# nbg = 500*7\n",
        "# nfg   = 500*3\n",
        "\n",
        "# print(nbg, nfg, nbg+nfg)"
      ],
      "execution_count": 8,
      "outputs": []
    },
    {
      "cell_type": "code",
      "metadata": {
        "id": "2zq2xQCBMC7j"
      },
      "source": [
        "# desired_num = 3000\n",
        "# mosaic_list_of_images =[]      # list of mosaic images, each mosaic image is saved as list of 9 images\n",
        "# fore_idx =[]                   # list of indexes at which foreground image is present in a mosaic image i.e from 0 to 9               \n",
        "# mosaic_label=[]                # label of mosaic image = foreground class present in that mosaic\n",
        "# list_set_labels = [] \n",
        "# for i in range(desired_num):\n",
        "#   set_idx = set()\n",
        "#   np.random.seed(i)\n",
        "#   bg_idx = np.random.randint(0,nbg,8)\n",
        "#   set_idx = set(background_label[bg_idx].tolist())\n",
        "#   fg_idx = np.random.randint(0,nfg)\n",
        "#   set_idx.add(foreground_label[fg_idx].item())\n",
        "#   fg = np.random.randint(0,9)\n",
        "#   fore_idx.append(fg)\n",
        "#   image_list,label = create_mosaic_img(bg_idx,fg_idx,fg)\n",
        "#   mosaic_list_of_images.append(image_list)\n",
        "#   mosaic_label.append(label)\n",
        "#   list_set_labels.append(set_idx)\n"
      ],
      "execution_count": 9,
      "outputs": []
    },
    {
      "cell_type": "code",
      "metadata": {
        "id": "8pqXIPlNMCyz"
      },
      "source": [
        "# desired_num = 2000\n",
        "# test_mosaic_list_of_images =[]      # list of mosaic images, each mosaic image is saved as list of 9 images\n",
        "# test_fore_idx =[]                   # list of indexes at which foreground image is present in a mosaic image i.e from 0 to 9               \n",
        "# test_mosaic_label=[]                # label of mosaic image = foreground class present in that mosaic\n",
        "# test_list_set_labels = [] \n",
        "# for i in range(desired_num):\n",
        "#   set_idx = set()\n",
        "#   np.random.seed(i+3000)\n",
        "#   bg_idx = np.random.randint(0,nbg,8)\n",
        "#   set_idx = set(background_label[bg_idx].tolist())\n",
        "#   fg_idx = np.random.randint(0,nfg)\n",
        "#   set_idx.add(foreground_label[fg_idx].item())\n",
        "#   fg = np.random.randint(0,9)\n",
        "#   test_fore_idx.append(fg)\n",
        "#   test_image_list,test_label = create_mosaic_img(bg_idx,fg_idx,fg)\n",
        "#   test_mosaic_list_of_images.append(test_image_list)\n",
        "#   test_mosaic_label.append(test_label)\n",
        "#   test_list_set_labels.append(set_idx)\n"
      ],
      "execution_count": 10,
      "outputs": []
    },
    {
      "cell_type": "code",
      "metadata": {
        "id": "Sxq58WbtMmKq"
      },
      "source": [
        "# data =  [{\"mosaic_list\":mosaic_list_of_images, \"mosaic_label\": mosaic_label, \"fore_idx\":fore_idx}]\n",
        "# np.save(\"train_blob_data.npy\",data)"
      ],
      "execution_count": 11,
      "outputs": []
    },
    {
      "cell_type": "code",
      "metadata": {
        "id": "hNnqO6yKMCoR"
      },
      "source": [
        "# data =  [{\"mosaic_list\":test_mosaic_list_of_images, \"mosaic_label\": test_mosaic_label, \"fore_idx\":test_fore_idx}]\n",
        "# np.save(\"test_blob_data.npy\",data)"
      ],
      "execution_count": 12,
      "outputs": []
    },
    {
      "cell_type": "markdown",
      "metadata": {
        "id": "y4ZKaqzq_vcD"
      },
      "source": [
        "# load mosaic data"
      ]
    },
    {
      "cell_type": "code",
      "metadata": {
        "id": "6_dZKEaJAQ2Y"
      },
      "source": [
        "class MosaicDataset1(Dataset):\n",
        "  \"\"\"MosaicDataset dataset.\"\"\"\n",
        "\n",
        "  def __init__(self, mosaic_list, mosaic_label,fore_idx):\n",
        "    \"\"\"\n",
        "      Args:\n",
        "        csv_file (string): Path to the csv file with annotations.\n",
        "        root_dir (string): Directory with all the images.\n",
        "        transform (callable, optional): Optional transform to be applied\n",
        "            on a sample.\n",
        "    \"\"\"\n",
        "    self.mosaic = mosaic_list\n",
        "    self.label = mosaic_label\n",
        "    self.fore_idx = fore_idx\n",
        "    \n",
        "  def __len__(self):\n",
        "    return len(self.label)\n",
        "\n",
        "  def __getitem__(self, idx):\n",
        "    return self.mosaic[idx] , self.label[idx] , self.fore_idx[idx]"
      ],
      "execution_count": 13,
      "outputs": []
    },
    {
      "cell_type": "code",
      "metadata": {
        "id": "UWxCb_h8AQpf"
      },
      "source": [
        "train_data = np.load(\"train_blob_data.npy\",allow_pickle=True)\n",
        "test_data = np.load(\"test_blob_data.npy\",allow_pickle=True)"
      ],
      "execution_count": 14,
      "outputs": []
    },
    {
      "cell_type": "code",
      "metadata": {
        "id": "WR0bl63TAQI9"
      },
      "source": [
        "train_mosaic_list_of_images = train_data[0][\"mosaic_list\"]\n",
        "train_mosaic_label = train_data[0][\"mosaic_label\"]\n",
        "train_fore_idx = train_data[0][\"fore_idx\"]\n",
        "\n",
        "\n",
        "test_mosaic_list_of_images = test_data[0][\"mosaic_list\"]\n",
        "test_mosaic_label = test_data[0][\"mosaic_label\"]\n",
        "test_fore_idx = test_data[0][\"fore_idx\"]"
      ],
      "execution_count": 15,
      "outputs": []
    },
    {
      "cell_type": "code",
      "metadata": {
        "id": "GVS6xb4fAZ_P"
      },
      "source": [
        "batch = 250\n",
        "tr_msd = MosaicDataset1(train_mosaic_list_of_images, train_mosaic_label, train_fore_idx)\n",
        "train_loader = DataLoader( tr_msd,batch_size= batch ,shuffle=True)"
      ],
      "execution_count": 16,
      "outputs": []
    },
    {
      "cell_type": "code",
      "metadata": {
        "id": "Mn1Xql2gNrUH"
      },
      "source": [
        "batch = 250\n",
        "tst_msd = MosaicDataset1(test_mosaic_list_of_images, test_mosaic_label, test_fore_idx)\n",
        "test_loader = DataLoader( tst_msd,batch_size= batch ,shuffle=True)"
      ],
      "execution_count": 17,
      "outputs": []
    },
    {
      "cell_type": "markdown",
      "metadata": {
        "id": "ARLPPASQ_2gB"
      },
      "source": [
        "# models"
      ]
    },
    {
      "cell_type": "code",
      "metadata": {
        "id": "T1Y0mCQzjSV0"
      },
      "source": [
        "class Module1(nn.Module):\n",
        "  def __init__(self):\n",
        "    super(Module1, self).__init__()\n",
        "    self.fc1 = nn.Linear(5, 100)\n",
        "    self.fc2 = nn.Linear(100, 1)\n",
        "\n",
        "  def forward(self, z):\n",
        "    x = torch.zeros([batch,9],dtype=torch.float64)\n",
        "    y = torch.zeros([batch,5], dtype=torch.float64)\n",
        "    x,y = x.to(\"cuda\"),y.to(\"cuda\")\n",
        "    for i in range(9):\n",
        "      x[:,i] = self.helper(z[:,i])[:,0]\n",
        "    x = F.softmax(x,dim=1)   # alphas\n",
        "    \n",
        "\n",
        "    for i in range(9):            \n",
        "      x1 = x[:,i]          \n",
        "      y = y + torch.mul(x1[:,None],z[:,i])\n",
        "    return y , x \n",
        "  \n",
        "  def helper(self,x):\n",
        "    x = F.relu(self.fc1(x))\n",
        "    x = self.fc2(x)\n",
        "    return x\n",
        "      \n"
      ],
      "execution_count": 18,
      "outputs": []
    },
    {
      "cell_type": "code",
      "metadata": {
        "id": "zt9YwV5rjSK_"
      },
      "source": [
        " class Module2(nn.Module):\n",
        "  def __init__(self):\n",
        "    super(Module2, self).__init__()\n",
        "    self.fc1 = nn.Linear(5, 100)\n",
        "    self.fc2 = nn.Linear(100, 3)\n",
        "\n",
        "  def forward(self,y):  \n",
        "    y = F.relu(self.fc1(y))\n",
        "    y = self.fc2(y)\n",
        "    return y\n"
      ],
      "execution_count": 19,
      "outputs": []
    },
    {
      "cell_type": "code",
      "metadata": {
        "id": "UJbdW7cijRsr"
      },
      "source": [
        "torch.manual_seed(1234)\n",
        "where_net = Module1().double()\n",
        "where_net = where_net.to(\"cuda\")\n",
        "# print(net.parameters)\n",
        "torch.manual_seed(1234)\n",
        "what_net = Module2().double()\n",
        "what_net = what_net.to(\"cuda\")"
      ],
      "execution_count": 20,
      "outputs": []
    },
    {
      "cell_type": "code",
      "metadata": {
        "id": "ehAfQnNwgFYX"
      },
      "source": [
        "def calculate_attn_loss(dataloader,what,where,criter):\n",
        "  what.eval()\n",
        "  where.eval()\n",
        "  r_loss = 0\n",
        "  alphas = []\n",
        "  lbls = []\n",
        "  pred = []\n",
        "  fidices = []\n",
        "  correct = 0\n",
        "  tot = 0\n",
        "  with torch.no_grad():\n",
        "    for i, data in enumerate(dataloader, 0):\n",
        "      inputs, labels,fidx = data\n",
        "      lbls.append(labels)\n",
        "      fidices.append(fidx)\n",
        "      inputs = inputs.double()\n",
        "      inputs, labels = inputs.to(\"cuda\"),labels.to(\"cuda\")\n",
        "      avg,alpha = where(inputs)\n",
        "      outputs = what(avg)\n",
        "      _, predicted = torch.max(outputs.data, 1)\n",
        "      correct += sum(predicted == labels)\n",
        "      tot += len(predicted)\n",
        "      pred.append(predicted.cpu().numpy())\n",
        "      alphas.append(alpha.cpu().numpy())\n",
        "      loss = criter(outputs, labels)\n",
        "      r_loss += loss.item()\n",
        "  alphas = np.concatenate(alphas,axis=0)\n",
        "  pred = np.concatenate(pred,axis=0)\n",
        "  lbls = np.concatenate(lbls,axis=0)\n",
        "  fidices = np.concatenate(fidices,axis=0)\n",
        "  #print(alphas.shape,pred.shape,lbls.shape,fidices.shape) \n",
        "  analysis = analyse_data(alphas,lbls,pred,fidices)\n",
        "  return r_loss/i,analysis,correct.item(),tot,correct.item()/tot"
      ],
      "execution_count": 21,
      "outputs": []
    },
    {
      "cell_type": "code",
      "metadata": {
        "id": "6e9HQJMzxBhp"
      },
      "source": [
        "def analyse_data(alphas,lbls,predicted,f_idx):\n",
        "    '''\n",
        "       analysis data is created here\n",
        "    '''\n",
        "    batch = len(predicted)\n",
        "    amth,alth,ftpt,ffpt,ftpf,ffpf = 0,0,0,0,0,0\n",
        "    for j in range (batch):\n",
        "      focus = np.argmax(alphas[j])\n",
        "      if(alphas[j][focus] >= 0.5):\n",
        "        amth +=1\n",
        "      else:\n",
        "        alth +=1\n",
        "      if(focus == f_idx[j] and predicted[j] == lbls[j]):\n",
        "        ftpt += 1\n",
        "      elif(focus != f_idx[j] and predicted[j] == lbls[j]):\n",
        "        ffpt +=1\n",
        "      elif(focus == f_idx[j] and predicted[j] != lbls[j]):\n",
        "        ftpf +=1\n",
        "      elif(focus != f_idx[j] and predicted[j] != lbls[j]):\n",
        "        ffpf +=1\n",
        "    #print(sum(predicted==lbls),ftpt+ffpt)\n",
        "    return [ftpt,ffpt,ftpf,ffpf,amth,alth]"
      ],
      "execution_count": 22,
      "outputs": []
    },
    {
      "cell_type": "markdown",
      "metadata": {
        "id": "a2AlGgRa_6_H"
      },
      "source": [
        "# training"
      ]
    },
    {
      "cell_type": "code",
      "metadata": {
        "colab": {
          "base_uri": "https://localhost:8080/"
        },
        "id": "MOfxUJZ_eFKw",
        "outputId": "328b1233-31ba-4741-bfa9-f6c079cc30ac"
      },
      "source": [
        "# instantiate optimizer\n",
        "optimizer_where = optim.RMSprop(where_net.parameters(),lr =0.001)#,nesterov=True)\n",
        "optimizer_what = optim.RMSprop(what_net.parameters(), lr=0.001)#,nesterov=True)\n",
        " \n",
        "\n",
        "criterion = nn.CrossEntropyLoss()\n",
        "acti = []\n",
        "analysis_data_tr = []\n",
        "analysis_data_tst = []\n",
        "loss_curi_tst = []\n",
        "loss_curi_tr = []\n",
        "epochs = 450\n",
        "\n",
        "every_what_epoch = 1\n",
        "\n",
        "# calculate zeroth epoch loss and FTPT values\n",
        "running_loss,anlys_data,correct,total,accuracy = calculate_attn_loss(train_loader,what_net,where_net,criterion)\n",
        "print('training epoch: [%d ] loss: %.3f correct: %.3f, total: %.3f, accuracy: %.3f' %(0,running_loss,correct,total,accuracy)) \n",
        "loss_curi_tr.append(running_loss)\n",
        "analysis_data_tr.append(anlys_data)\n",
        "\n",
        "\n",
        "\n",
        "running_loss,anlys_data,correct,total,accuracy = calculate_attn_loss(test_loader,what_net,where_net,criterion)\n",
        "print('test epoch: [%d ] loss: %.3f correct: %.3f, total: %.3f, accuracy: %.3f' %(0,running_loss,correct,total,accuracy)) \n",
        "\n",
        "loss_curi_tst.append(running_loss)\n",
        "analysis_data_tst.append(anlys_data)\n",
        "\n",
        "\n",
        "# training starts \n",
        "for epoch in range(epochs): # loop over the dataset multiple times\n",
        "  ep_lossi = []\n",
        "  running_loss = 0.0\n",
        "  what_net.train()\n",
        "  where_net.train()\n",
        "  if ((epoch) % (every_what_epoch*2) ) <= every_what_epoch-1 :\n",
        "    print(epoch+1,\"updating what_net, where_net is freezed\")\n",
        "    print(\"--\"*40)\n",
        "  elif ((epoch) % (every_what_epoch*2)) > every_what_epoch-1 :\n",
        "    print(epoch+1,\"updating where_net, what_net is freezed\")\n",
        "    print(\"--\"*40)\n",
        "  for i, data in enumerate(train_loader, 0):\n",
        "    # get the inputs\n",
        "    inputs, labels,_ = data\n",
        "    inputs = inputs.double()\n",
        "    inputs, labels = inputs.to(\"cuda\"),labels.to(\"cuda\")\n",
        "        \n",
        "    # zero the parameter gradients\n",
        "    optimizer_where.zero_grad()\n",
        "    optimizer_what.zero_grad()\n",
        "      \n",
        "    # forward + backward + optimize\n",
        "    avg, alpha = where_net(inputs)\n",
        "    outputs = what_net(avg)\n",
        "    loss = criterion(outputs, labels)\n",
        "\n",
        "    # print statistics\n",
        "    running_loss += loss.item()\n",
        "    loss.backward()\n",
        "    if ((epoch) % (every_what_epoch*2) ) <= every_what_epoch-1 :\n",
        "      optimizer_what.step()\n",
        "    elif ( (epoch) % (every_what_epoch*2)) > every_what_epoch-1 :\n",
        "      optimizer_where.step()\n",
        "  running_loss_tr,anls_data,correct,total,accuracy = calculate_attn_loss(train_loader,what_net,where_net,criterion)\n",
        "  analysis_data_tr.append(anls_data)\n",
        "  loss_curi_tr.append(running_loss_tr)   #loss per epoch\n",
        "  print('training epoch: [%d ] loss: %.3f correct: %.3f, total: %.3f, accuracy: %.3f' %(epoch+1,running_loss_tr,correct,total,accuracy)) \n",
        "\n",
        "\n",
        "  # calculate loss for test data\n",
        "  running_loss_tst,anls_data,correct,total,accuracy = calculate_attn_loss(test_loader,what_net,where_net,criterion)\n",
        "  analysis_data_tst.append(anls_data)\n",
        "  loss_curi_tst.append(running_loss_tst)   #loss per epoch\n",
        "  print('test epoch: [%d ] loss: %.3f correct: %.3f, total: %.3f, accuracy: %.3f' %(epoch+1,running_loss_tst,correct,total,accuracy)) \n",
        "\n",
        "\n",
        "  if running_loss_tr<=0.05:\n",
        "    break\n",
        "  # if ((epoch) % (every_what_epoch*2) ) <= every_what_epoch-1 :\n",
        "  #   scheduler_what.step(running_loss_val)\n",
        "  # elif ( (epoch) % (every_what_epoch*2)) > every_what_epoch-1 :\n",
        "  #   scheduler_where.step(running_loss_val)\n",
        "print('Finished Training run ')\n",
        "analysis_data_tr = np.array(analysis_data_tr) \n",
        "analysis_data_tst = np.array(analysis_data_tst)"
      ],
      "execution_count": 23,
      "outputs": [
        {
          "output_type": "stream",
          "text": [
            "training epoch: [0 ] loss: 1.909 correct: 997.000, total: 3000.000, accuracy: 0.332\n",
            "test epoch: [0 ] loss: 2.080 correct: 613.000, total: 2000.000, accuracy: 0.306\n",
            "1 updating what_net, where_net is freezed\n",
            "--------------------------------------------------------------------------------\n",
            "training epoch: [1 ] loss: 1.181 correct: 1047.000, total: 3000.000, accuracy: 0.349\n",
            "test epoch: [1 ] loss: 1.249 correct: 636.000, total: 2000.000, accuracy: 0.318\n",
            "2 updating where_net, what_net is freezed\n",
            "--------------------------------------------------------------------------------\n",
            "training epoch: [2 ] loss: 0.956 correct: 1695.000, total: 3000.000, accuracy: 0.565\n",
            "test epoch: [2 ] loss: 1.021 correct: 1093.000, total: 2000.000, accuracy: 0.546\n",
            "3 updating what_net, where_net is freezed\n",
            "--------------------------------------------------------------------------------\n",
            "training epoch: [3 ] loss: 0.627 correct: 2472.000, total: 3000.000, accuracy: 0.824\n",
            "test epoch: [3 ] loss: 0.667 correct: 1657.000, total: 2000.000, accuracy: 0.829\n",
            "4 updating where_net, what_net is freezed\n",
            "--------------------------------------------------------------------------------\n",
            "training epoch: [4 ] loss: 0.562 correct: 2487.000, total: 3000.000, accuracy: 0.829\n",
            "test epoch: [4 ] loss: 0.609 correct: 1652.000, total: 2000.000, accuracy: 0.826\n",
            "5 updating what_net, where_net is freezed\n",
            "--------------------------------------------------------------------------------\n",
            "training epoch: [5 ] loss: 0.460 correct: 2714.000, total: 3000.000, accuracy: 0.905\n",
            "test epoch: [5 ] loss: 0.491 correct: 1828.000, total: 2000.000, accuracy: 0.914\n",
            "6 updating where_net, what_net is freezed\n",
            "--------------------------------------------------------------------------------\n",
            "training epoch: [6 ] loss: 0.442 correct: 2731.000, total: 3000.000, accuracy: 0.910\n",
            "test epoch: [6 ] loss: 0.475 correct: 1840.000, total: 2000.000, accuracy: 0.920\n",
            "7 updating what_net, where_net is freezed\n",
            "--------------------------------------------------------------------------------\n",
            "training epoch: [7 ] loss: 0.378 correct: 2744.000, total: 3000.000, accuracy: 0.915\n",
            "test epoch: [7 ] loss: 0.406 correct: 1843.000, total: 2000.000, accuracy: 0.921\n",
            "8 updating where_net, what_net is freezed\n",
            "--------------------------------------------------------------------------------\n",
            "training epoch: [8 ] loss: 0.373 correct: 2744.000, total: 3000.000, accuracy: 0.915\n",
            "test epoch: [8 ] loss: 0.401 correct: 1843.000, total: 2000.000, accuracy: 0.921\n",
            "9 updating what_net, where_net is freezed\n",
            "--------------------------------------------------------------------------------\n",
            "training epoch: [9 ] loss: 0.329 correct: 2742.000, total: 3000.000, accuracy: 0.914\n",
            "test epoch: [9 ] loss: 0.353 correct: 1840.000, total: 2000.000, accuracy: 0.920\n",
            "10 updating where_net, what_net is freezed\n",
            "--------------------------------------------------------------------------------\n",
            "training epoch: [10 ] loss: 0.324 correct: 2744.000, total: 3000.000, accuracy: 0.915\n",
            "test epoch: [10 ] loss: 0.348 correct: 1841.000, total: 2000.000, accuracy: 0.920\n",
            "11 updating what_net, where_net is freezed\n",
            "--------------------------------------------------------------------------------\n",
            "training epoch: [11 ] loss: 0.289 correct: 2836.000, total: 3000.000, accuracy: 0.945\n",
            "test epoch: [11 ] loss: 0.309 correct: 1898.000, total: 2000.000, accuracy: 0.949\n",
            "12 updating where_net, what_net is freezed\n",
            "--------------------------------------------------------------------------------\n",
            "training epoch: [12 ] loss: 0.286 correct: 2838.000, total: 3000.000, accuracy: 0.946\n",
            "test epoch: [12 ] loss: 0.307 correct: 1898.000, total: 2000.000, accuracy: 0.949\n",
            "13 updating what_net, where_net is freezed\n",
            "--------------------------------------------------------------------------------\n",
            "training epoch: [13 ] loss: 0.257 correct: 2886.000, total: 3000.000, accuracy: 0.962\n",
            "test epoch: [13 ] loss: 0.275 correct: 1925.000, total: 2000.000, accuracy: 0.963\n",
            "14 updating where_net, what_net is freezed\n",
            "--------------------------------------------------------------------------------\n",
            "training epoch: [14 ] loss: 0.256 correct: 2891.000, total: 3000.000, accuracy: 0.964\n",
            "test epoch: [14 ] loss: 0.273 correct: 1927.000, total: 2000.000, accuracy: 0.964\n",
            "15 updating what_net, where_net is freezed\n",
            "--------------------------------------------------------------------------------\n",
            "training epoch: [15 ] loss: 0.229 correct: 2865.000, total: 3000.000, accuracy: 0.955\n",
            "test epoch: [15 ] loss: 0.245 correct: 1915.000, total: 2000.000, accuracy: 0.958\n",
            "16 updating where_net, what_net is freezed\n",
            "--------------------------------------------------------------------------------\n",
            "training epoch: [16 ] loss: 0.228 correct: 2866.000, total: 3000.000, accuracy: 0.955\n",
            "test epoch: [16 ] loss: 0.244 correct: 1917.000, total: 2000.000, accuracy: 0.959\n",
            "17 updating what_net, where_net is freezed\n",
            "--------------------------------------------------------------------------------\n",
            "training epoch: [17 ] loss: 0.207 correct: 2875.000, total: 3000.000, accuracy: 0.958\n",
            "test epoch: [17 ] loss: 0.222 correct: 1927.000, total: 2000.000, accuracy: 0.964\n",
            "18 updating where_net, what_net is freezed\n",
            "--------------------------------------------------------------------------------\n",
            "training epoch: [18 ] loss: 0.206 correct: 2874.000, total: 3000.000, accuracy: 0.958\n",
            "test epoch: [18 ] loss: 0.221 correct: 1925.000, total: 2000.000, accuracy: 0.963\n",
            "19 updating what_net, where_net is freezed\n",
            "--------------------------------------------------------------------------------\n",
            "training epoch: [19 ] loss: 0.190 correct: 2926.000, total: 3000.000, accuracy: 0.975\n",
            "test epoch: [19 ] loss: 0.203 correct: 1953.000, total: 2000.000, accuracy: 0.977\n",
            "20 updating where_net, what_net is freezed\n",
            "--------------------------------------------------------------------------------\n",
            "training epoch: [20 ] loss: 0.189 correct: 2927.000, total: 3000.000, accuracy: 0.976\n",
            "test epoch: [20 ] loss: 0.202 correct: 1956.000, total: 2000.000, accuracy: 0.978\n",
            "21 updating what_net, where_net is freezed\n",
            "--------------------------------------------------------------------------------\n",
            "training epoch: [21 ] loss: 0.174 correct: 2886.000, total: 3000.000, accuracy: 0.962\n",
            "test epoch: [21 ] loss: 0.186 correct: 1935.000, total: 2000.000, accuracy: 0.968\n",
            "22 updating where_net, what_net is freezed\n",
            "--------------------------------------------------------------------------------\n",
            "training epoch: [22 ] loss: 0.174 correct: 2887.000, total: 3000.000, accuracy: 0.962\n",
            "test epoch: [22 ] loss: 0.186 correct: 1935.000, total: 2000.000, accuracy: 0.968\n",
            "23 updating what_net, where_net is freezed\n",
            "--------------------------------------------------------------------------------\n",
            "training epoch: [23 ] loss: 0.161 correct: 2921.000, total: 3000.000, accuracy: 0.974\n",
            "test epoch: [23 ] loss: 0.172 correct: 1949.000, total: 2000.000, accuracy: 0.975\n",
            "24 updating where_net, what_net is freezed\n",
            "--------------------------------------------------------------------------------\n",
            "training epoch: [24 ] loss: 0.160 correct: 2921.000, total: 3000.000, accuracy: 0.974\n",
            "test epoch: [24 ] loss: 0.171 correct: 1949.000, total: 2000.000, accuracy: 0.975\n",
            "25 updating what_net, where_net is freezed\n",
            "--------------------------------------------------------------------------------\n",
            "training epoch: [25 ] loss: 0.150 correct: 2896.000, total: 3000.000, accuracy: 0.965\n",
            "test epoch: [25 ] loss: 0.160 correct: 1940.000, total: 2000.000, accuracy: 0.970\n",
            "26 updating where_net, what_net is freezed\n",
            "--------------------------------------------------------------------------------\n",
            "training epoch: [26 ] loss: 0.150 correct: 2896.000, total: 3000.000, accuracy: 0.965\n",
            "test epoch: [26 ] loss: 0.160 correct: 1940.000, total: 2000.000, accuracy: 0.970\n",
            "27 updating what_net, where_net is freezed\n",
            "--------------------------------------------------------------------------------\n",
            "training epoch: [27 ] loss: 0.141 correct: 2988.000, total: 3000.000, accuracy: 0.996\n",
            "test epoch: [27 ] loss: 0.150 correct: 1990.000, total: 2000.000, accuracy: 0.995\n",
            "28 updating where_net, what_net is freezed\n",
            "--------------------------------------------------------------------------------\n",
            "training epoch: [28 ] loss: 0.140 correct: 2987.000, total: 3000.000, accuracy: 0.996\n",
            "test epoch: [28 ] loss: 0.150 correct: 1990.000, total: 2000.000, accuracy: 0.995\n",
            "29 updating what_net, where_net is freezed\n",
            "--------------------------------------------------------------------------------\n",
            "training epoch: [29 ] loss: 0.129 correct: 2961.000, total: 3000.000, accuracy: 0.987\n",
            "test epoch: [29 ] loss: 0.138 correct: 1976.000, total: 2000.000, accuracy: 0.988\n",
            "30 updating where_net, what_net is freezed\n",
            "--------------------------------------------------------------------------------\n",
            "training epoch: [30 ] loss: 0.129 correct: 2961.000, total: 3000.000, accuracy: 0.987\n",
            "test epoch: [30 ] loss: 0.138 correct: 1976.000, total: 2000.000, accuracy: 0.988\n",
            "31 updating what_net, where_net is freezed\n",
            "--------------------------------------------------------------------------------\n",
            "training epoch: [31 ] loss: 0.122 correct: 2928.000, total: 3000.000, accuracy: 0.976\n",
            "test epoch: [31 ] loss: 0.130 correct: 1960.000, total: 2000.000, accuracy: 0.980\n",
            "32 updating where_net, what_net is freezed\n",
            "--------------------------------------------------------------------------------\n",
            "training epoch: [32 ] loss: 0.121 correct: 2928.000, total: 3000.000, accuracy: 0.976\n",
            "test epoch: [32 ] loss: 0.129 correct: 1960.000, total: 2000.000, accuracy: 0.980\n",
            "33 updating what_net, where_net is freezed\n",
            "--------------------------------------------------------------------------------\n",
            "training epoch: [33 ] loss: 0.114 correct: 2953.000, total: 3000.000, accuracy: 0.984\n",
            "test epoch: [33 ] loss: 0.121 correct: 1974.000, total: 2000.000, accuracy: 0.987\n",
            "34 updating where_net, what_net is freezed\n",
            "--------------------------------------------------------------------------------\n",
            "training epoch: [34 ] loss: 0.113 correct: 2953.000, total: 3000.000, accuracy: 0.984\n",
            "test epoch: [34 ] loss: 0.121 correct: 1975.000, total: 2000.000, accuracy: 0.988\n",
            "35 updating what_net, where_net is freezed\n",
            "--------------------------------------------------------------------------------\n",
            "training epoch: [35 ] loss: 0.106 correct: 2996.000, total: 3000.000, accuracy: 0.999\n",
            "test epoch: [35 ] loss: 0.113 correct: 1994.000, total: 2000.000, accuracy: 0.997\n",
            "36 updating where_net, what_net is freezed\n",
            "--------------------------------------------------------------------------------\n",
            "training epoch: [36 ] loss: 0.106 correct: 2996.000, total: 3000.000, accuracy: 0.999\n",
            "test epoch: [36 ] loss: 0.113 correct: 1994.000, total: 2000.000, accuracy: 0.997\n",
            "37 updating what_net, where_net is freezed\n",
            "--------------------------------------------------------------------------------\n",
            "training epoch: [37 ] loss: 0.100 correct: 2998.000, total: 3000.000, accuracy: 0.999\n",
            "test epoch: [37 ] loss: 0.107 correct: 1995.000, total: 2000.000, accuracy: 0.998\n",
            "38 updating where_net, what_net is freezed\n",
            "--------------------------------------------------------------------------------\n",
            "training epoch: [38 ] loss: 0.100 correct: 2998.000, total: 3000.000, accuracy: 0.999\n",
            "test epoch: [38 ] loss: 0.107 correct: 1995.000, total: 2000.000, accuracy: 0.998\n",
            "39 updating what_net, where_net is freezed\n",
            "--------------------------------------------------------------------------------\n",
            "training epoch: [39 ] loss: 0.094 correct: 2967.000, total: 3000.000, accuracy: 0.989\n",
            "test epoch: [39 ] loss: 0.101 correct: 1978.000, total: 2000.000, accuracy: 0.989\n",
            "40 updating where_net, what_net is freezed\n",
            "--------------------------------------------------------------------------------\n",
            "training epoch: [40 ] loss: 0.094 correct: 2967.000, total: 3000.000, accuracy: 0.989\n",
            "test epoch: [40 ] loss: 0.100 correct: 1978.000, total: 2000.000, accuracy: 0.989\n",
            "41 updating what_net, where_net is freezed\n",
            "--------------------------------------------------------------------------------\n",
            "training epoch: [41 ] loss: 0.089 correct: 2970.000, total: 3000.000, accuracy: 0.990\n",
            "test epoch: [41 ] loss: 0.095 correct: 1980.000, total: 2000.000, accuracy: 0.990\n",
            "42 updating where_net, what_net is freezed\n",
            "--------------------------------------------------------------------------------\n",
            "training epoch: [42 ] loss: 0.089 correct: 2970.000, total: 3000.000, accuracy: 0.990\n",
            "test epoch: [42 ] loss: 0.095 correct: 1980.000, total: 2000.000, accuracy: 0.990\n",
            "43 updating what_net, where_net is freezed\n",
            "--------------------------------------------------------------------------------\n",
            "training epoch: [43 ] loss: 0.085 correct: 2993.000, total: 3000.000, accuracy: 0.998\n",
            "test epoch: [43 ] loss: 0.090 correct: 1994.000, total: 2000.000, accuracy: 0.997\n",
            "44 updating where_net, what_net is freezed\n",
            "--------------------------------------------------------------------------------\n",
            "training epoch: [44 ] loss: 0.085 correct: 2995.000, total: 3000.000, accuracy: 0.998\n",
            "test epoch: [44 ] loss: 0.090 correct: 1994.000, total: 2000.000, accuracy: 0.997\n",
            "45 updating what_net, where_net is freezed\n",
            "--------------------------------------------------------------------------------\n",
            "training epoch: [45 ] loss: 0.081 correct: 2981.000, total: 3000.000, accuracy: 0.994\n",
            "test epoch: [45 ] loss: 0.086 correct: 1983.000, total: 2000.000, accuracy: 0.992\n",
            "46 updating where_net, what_net is freezed\n",
            "--------------------------------------------------------------------------------\n",
            "training epoch: [46 ] loss: 0.081 correct: 2983.000, total: 3000.000, accuracy: 0.994\n",
            "test epoch: [46 ] loss: 0.085 correct: 1984.000, total: 2000.000, accuracy: 0.992\n",
            "47 updating what_net, where_net is freezed\n",
            "--------------------------------------------------------------------------------\n",
            "training epoch: [47 ] loss: 0.078 correct: 2961.000, total: 3000.000, accuracy: 0.987\n",
            "test epoch: [47 ] loss: 0.082 correct: 1979.000, total: 2000.000, accuracy: 0.990\n",
            "48 updating where_net, what_net is freezed\n",
            "--------------------------------------------------------------------------------\n",
            "training epoch: [48 ] loss: 0.078 correct: 2962.000, total: 3000.000, accuracy: 0.987\n",
            "test epoch: [48 ] loss: 0.082 correct: 1979.000, total: 2000.000, accuracy: 0.990\n",
            "49 updating what_net, where_net is freezed\n",
            "--------------------------------------------------------------------------------\n",
            "training epoch: [49 ] loss: 0.073 correct: 2997.000, total: 3000.000, accuracy: 0.999\n",
            "test epoch: [49 ] loss: 0.077 correct: 1996.000, total: 2000.000, accuracy: 0.998\n",
            "50 updating where_net, what_net is freezed\n",
            "--------------------------------------------------------------------------------\n",
            "training epoch: [50 ] loss: 0.073 correct: 2997.000, total: 3000.000, accuracy: 0.999\n",
            "test epoch: [50 ] loss: 0.077 correct: 1995.000, total: 2000.000, accuracy: 0.998\n",
            "51 updating what_net, where_net is freezed\n",
            "--------------------------------------------------------------------------------\n",
            "training epoch: [51 ] loss: 0.070 correct: 2998.000, total: 3000.000, accuracy: 0.999\n",
            "test epoch: [51 ] loss: 0.075 correct: 1996.000, total: 2000.000, accuracy: 0.998\n",
            "52 updating where_net, what_net is freezed\n",
            "--------------------------------------------------------------------------------\n",
            "training epoch: [52 ] loss: 0.070 correct: 2998.000, total: 3000.000, accuracy: 0.999\n",
            "test epoch: [52 ] loss: 0.075 correct: 1996.000, total: 2000.000, accuracy: 0.998\n",
            "53 updating what_net, where_net is freezed\n",
            "--------------------------------------------------------------------------------\n",
            "training epoch: [53 ] loss: 0.067 correct: 2999.000, total: 3000.000, accuracy: 1.000\n",
            "test epoch: [53 ] loss: 0.071 correct: 1996.000, total: 2000.000, accuracy: 0.998\n",
            "54 updating where_net, what_net is freezed\n",
            "--------------------------------------------------------------------------------\n",
            "training epoch: [54 ] loss: 0.067 correct: 2999.000, total: 3000.000, accuracy: 1.000\n",
            "test epoch: [54 ] loss: 0.071 correct: 1995.000, total: 2000.000, accuracy: 0.998\n",
            "55 updating what_net, where_net is freezed\n",
            "--------------------------------------------------------------------------------\n",
            "training epoch: [55 ] loss: 0.064 correct: 2998.000, total: 3000.000, accuracy: 0.999\n",
            "test epoch: [55 ] loss: 0.068 correct: 1996.000, total: 2000.000, accuracy: 0.998\n",
            "56 updating where_net, what_net is freezed\n",
            "--------------------------------------------------------------------------------\n",
            "training epoch: [56 ] loss: 0.064 correct: 2998.000, total: 3000.000, accuracy: 0.999\n",
            "test epoch: [56 ] loss: 0.068 correct: 1996.000, total: 2000.000, accuracy: 0.998\n",
            "57 updating what_net, where_net is freezed\n",
            "--------------------------------------------------------------------------------\n",
            "training epoch: [57 ] loss: 0.062 correct: 2998.000, total: 3000.000, accuracy: 0.999\n",
            "test epoch: [57 ] loss: 0.066 correct: 1996.000, total: 2000.000, accuracy: 0.998\n",
            "58 updating where_net, what_net is freezed\n",
            "--------------------------------------------------------------------------------\n",
            "training epoch: [58 ] loss: 0.062 correct: 2998.000, total: 3000.000, accuracy: 0.999\n",
            "test epoch: [58 ] loss: 0.066 correct: 1994.000, total: 2000.000, accuracy: 0.997\n",
            "59 updating what_net, where_net is freezed\n",
            "--------------------------------------------------------------------------------\n",
            "training epoch: [59 ] loss: 0.060 correct: 2971.000, total: 3000.000, accuracy: 0.990\n",
            "test epoch: [59 ] loss: 0.063 correct: 1981.000, total: 2000.000, accuracy: 0.991\n",
            "60 updating where_net, what_net is freezed\n",
            "--------------------------------------------------------------------------------\n",
            "training epoch: [60 ] loss: 0.060 correct: 2971.000, total: 3000.000, accuracy: 0.990\n",
            "test epoch: [60 ] loss: 0.063 correct: 1982.000, total: 2000.000, accuracy: 0.991\n",
            "61 updating what_net, where_net is freezed\n",
            "--------------------------------------------------------------------------------\n",
            "training epoch: [61 ] loss: 0.058 correct: 2972.000, total: 3000.000, accuracy: 0.991\n",
            "test epoch: [61 ] loss: 0.061 correct: 1982.000, total: 2000.000, accuracy: 0.991\n",
            "62 updating where_net, what_net is freezed\n",
            "--------------------------------------------------------------------------------\n",
            "training epoch: [62 ] loss: 0.058 correct: 2972.000, total: 3000.000, accuracy: 0.991\n",
            "test epoch: [62 ] loss: 0.061 correct: 1982.000, total: 2000.000, accuracy: 0.991\n",
            "63 updating what_net, where_net is freezed\n",
            "--------------------------------------------------------------------------------\n",
            "training epoch: [63 ] loss: 0.054 correct: 2998.000, total: 3000.000, accuracy: 0.999\n",
            "test epoch: [63 ] loss: 0.057 correct: 1996.000, total: 2000.000, accuracy: 0.998\n",
            "64 updating where_net, what_net is freezed\n",
            "--------------------------------------------------------------------------------\n",
            "training epoch: [64 ] loss: 0.054 correct: 2998.000, total: 3000.000, accuracy: 0.999\n",
            "test epoch: [64 ] loss: 0.057 correct: 1995.000, total: 2000.000, accuracy: 0.998\n",
            "65 updating what_net, where_net is freezed\n",
            "--------------------------------------------------------------------------------\n",
            "training epoch: [65 ] loss: 0.052 correct: 2999.000, total: 3000.000, accuracy: 1.000\n",
            "test epoch: [65 ] loss: 0.054 correct: 1996.000, total: 2000.000, accuracy: 0.998\n",
            "66 updating where_net, what_net is freezed\n",
            "--------------------------------------------------------------------------------\n",
            "training epoch: [66 ] loss: 0.052 correct: 2999.000, total: 3000.000, accuracy: 1.000\n",
            "test epoch: [66 ] loss: 0.054 correct: 1996.000, total: 2000.000, accuracy: 0.998\n",
            "67 updating what_net, where_net is freezed\n",
            "--------------------------------------------------------------------------------\n",
            "training epoch: [67 ] loss: 0.050 correct: 2998.000, total: 3000.000, accuracy: 0.999\n",
            "test epoch: [67 ] loss: 0.053 correct: 1997.000, total: 2000.000, accuracy: 0.999\n",
            "68 updating where_net, what_net is freezed\n",
            "--------------------------------------------------------------------------------\n",
            "training epoch: [68 ] loss: 0.050 correct: 2998.000, total: 3000.000, accuracy: 0.999\n",
            "test epoch: [68 ] loss: 0.053 correct: 1997.000, total: 2000.000, accuracy: 0.999\n",
            "69 updating what_net, where_net is freezed\n",
            "--------------------------------------------------------------------------------\n",
            "training epoch: [69 ] loss: 0.048 correct: 2999.000, total: 3000.000, accuracy: 1.000\n",
            "test epoch: [69 ] loss: 0.051 correct: 1997.000, total: 2000.000, accuracy: 0.999\n",
            "Finished Training run \n"
          ],
          "name": "stdout"
        }
      ]
    },
    {
      "cell_type": "code",
      "metadata": {
        "id": "dwRqaz3Wxc23",
        "colab": {
          "base_uri": "https://localhost:8080/",
          "height": 513
        },
        "outputId": "32ff5ff0-da34-47b5-d0b6-f36c1a18f1a0"
      },
      "source": [
        "fig = plt.figure(figsize = (8,8)) \n",
        "vline_list = np.arange(every_what_epoch, epoch + every_what_epoch, every_what_epoch)\n",
        "# train_loss = np.random.randn(340)\n",
        "# test_loss = np.random.randn(340)\n",
        "epoch_list = np.arange(0, epoch+2)\n",
        "plt.plot(epoch_list,loss_curi_tr, label='train_loss')\n",
        "#plt.plot(epoch_list,loss_curi_tst, label='test_loss')\n",
        "\n",
        "plt.legend(loc='center left', bbox_to_anchor=(1, 0.5))\n",
        "plt.xlabel(\"epochs\")\n",
        "plt.ylabel(\"CE Loss\")\n",
        "#plt.vlines(vline_list,min(min(loss_curi_tr),min(loss_curi_tst)), max(max(loss_curi_tst),max(loss_curi_tr)),linestyles='dotted')\n",
        "plt.title(\"train loss\")\n",
        "plt.show()\n",
        "fig.savefig(\"train_loss_every_1_plot.pdf\")\n",
        "fig.savefig(\"train_loss_every_1_plot.png\")"
      ],
      "execution_count": 24,
      "outputs": [
        {
          "output_type": "display_data",
          "data": {
            "image/png": "[encoded data removed]",
            "text/plain": [
              "<Figure size 576x576 with 1 Axes>"
            ]
          },
          "metadata": {
            "tags": [],
            "needs_background": "light"
          }
        }
      ]
    },
    {
      "cell_type": "code",
      "metadata": {
        "id": "EZtPJ-rnRr-x",
        "colab": {
          "base_uri": "https://localhost:8080/"
        },
        "outputId": "6afe251e-c041-44c6-a132-5995b15f0477"
      },
      "source": [
        "analysis_data_tr"
      ],
      "execution_count": 25,
      "outputs": [
        {
          "output_type": "execute_result",
          "data": {
            "text/plain": [
              "array([[ 163,  834, 1624,  379,  433, 2567],\n",
              "       [ 266,  781, 1521,  432,  433, 2567],\n",
              "       [1449,  246, 1305,    0, 2695,  305],\n",
              "       [2226,  246,  528,    0, 2695,  305],\n",
              "       [2378,  109,  513,    0, 2709,  291],\n",
              "       [2605,  109,  286,    0, 2709,  291],\n",
              "       [2610,  121,  269,    0, 2696,  304],\n",
              "       [2623,  121,  256,    0, 2696,  304],\n",
              "       [2601,  143,  256,    0, 2639,  361],\n",
              "       [2599,  143,  258,    0, 2639,  361],\n",
              "       [2607,  137,  256,    0, 2629,  371],\n",
              "       [2699,  137,  164,    0, 2629,  371],\n",
              "       [2715,  123,  162,    0, 2657,  343],\n",
              "       [2763,  123,  114,    0, 2657,  343],\n",
              "       [2767,  124,  109,    0, 2655,  345],\n",
              "       [2741,  124,  135,    0, 2655,  345],\n",
              "       [2745,  121,  134,    0, 2666,  334],\n",
              "       [2754,  121,  125,    0, 2666,  334],\n",
              "       [2763,  111,  126,    0, 2670,  330],\n",
              "       [2815,  111,   74,    0, 2670,  330],\n",
              "       [2827,  100,   73,    0, 2697,  303],\n",
              "       [2786,  100,  114,    0, 2697,  303],\n",
              "       [2767,  120,  113,    0, 2681,  319],\n",
              "       [2801,  120,   79,    0, 2681,  319],\n",
              "       [2831,   90,   79,    0, 2728,  272],\n",
              "       [2806,   90,  104,    0, 2728,  272],\n",
              "       [2791,  105,  104,    0, 2710,  290],\n",
              "       [2883,  105,   12,    0, 2710,  290],\n",
              "       [2912,   75,   13,    0, 2760,  240],\n",
              "       [2886,   75,   39,    0, 2760,  240],\n",
              "       [2899,   62,   39,    0, 2785,  215],\n",
              "       [2866,   62,   72,    0, 2785,  215],\n",
              "       [2856,   72,   72,    0, 2776,  224],\n",
              "       [2881,   72,   47,    0, 2776,  224],\n",
              "       [2883,   70,   47,    0, 2784,  216],\n",
              "       [2926,   70,    4,    0, 2784,  216],\n",
              "       [2947,   49,    4,    0, 2825,  175],\n",
              "       [2949,   49,    2,    0, 2825,  175],\n",
              "       [2949,   49,    2,    0, 2823,  177],\n",
              "       [2918,   49,   33,    0, 2823,  177],\n",
              "       [2910,   57,   33,    0, 2792,  208],\n",
              "       [2913,   57,   30,    0, 2792,  208],\n",
              "       [2911,   59,   30,    0, 2787,  213],\n",
              "       [2934,   59,    7,    0, 2787,  213],\n",
              "       [2946,   49,    5,    0, 2828,  172],\n",
              "       [2932,   49,   19,    0, 2828,  172],\n",
              "       [2929,   54,   17,    0, 2814,  186],\n",
              "       [2907,   54,   39,    0, 2814,  186],\n",
              "       [2901,   61,   38,    0, 2805,  195],\n",
              "       [2936,   61,    3,    0, 2805,  195],\n",
              "       [2958,   39,    3,    0, 2855,  145],\n",
              "       [2959,   39,    2,    0, 2855,  145],\n",
              "       [2960,   38,    2,    0, 2861,  139],\n",
              "       [2961,   38,    1,    0, 2861,  139],\n",
              "       [2964,   35,    1,    0, 2885,  115],\n",
              "       [2963,   35,    2,    0, 2885,  115],\n",
              "       [2959,   39,    2,    0, 2862,  138],\n",
              "       [2959,   39,    2,    0, 2862,  138],\n",
              "       [2968,   30,    2,    0, 2886,  114],\n",
              "       [2941,   30,   29,    0, 2886,  114],\n",
              "       [2935,   36,   29,    0, 2873,  127],\n",
              "       [2936,   36,   28,    0, 2873,  127],\n",
              "       [2924,   48,   28,    0, 2836,  164],\n",
              "       [2950,   48,    2,    0, 2836,  164],\n",
              "       [2952,   46,    2,    0, 2838,  162],\n",
              "       [2953,   46,    1,    0, 2838,  162],\n",
              "       [2950,   49,    1,    0, 2831,  169],\n",
              "       [2949,   49,    2,    0, 2831,  169],\n",
              "       [2956,   42,    2,    0, 2853,  147],\n",
              "       [2957,   42,    1,    0, 2853,  147]])"
            ]
          },
          "metadata": {
            "tags": []
          },
          "execution_count": 25
        }
      ]
    },
    {
      "cell_type": "code",
      "metadata": {
        "colab": {
          "base_uri": "https://localhost:8080/"
        },
        "id": "RQ3OzJlOOyY8",
        "outputId": "e985d352-93e1-444b-cd00-5f9597d21b4c"
      },
      "source": [
        "analysis_data_tst"
      ],
      "execution_count": 26,
      "outputs": [
        {
          "output_type": "execute_result",
          "data": {
            "text/plain": [
              "array([[ 117,  496, 1117,  270,  285, 1715],\n",
              "       [ 179,  457, 1055,  309,  285, 1715],\n",
              "       [ 937,  156,  906,    1, 1796,  204],\n",
              "       [1501,  156,  342,    1, 1796,  204],\n",
              "       [1582,   70,  348,    0, 1815,  185],\n",
              "       [1758,   70,  172,    0, 1815,  185],\n",
              "       [1767,   73,  160,    0, 1807,  193],\n",
              "       [1770,   73,  157,    0, 1807,  193],\n",
              "       [1763,   80,  157,    0, 1774,  226],\n",
              "       [1760,   80,  160,    0, 1774,  226],\n",
              "       [1762,   79,  159,    0, 1772,  228],\n",
              "       [1819,   79,  102,    0, 1772,  228],\n",
              "       [1823,   75,  102,    0, 1786,  214],\n",
              "       [1850,   75,   75,    0, 1786,  214],\n",
              "       [1852,   75,   73,    0, 1783,  217],\n",
              "       [1840,   75,   85,    0, 1783,  217],\n",
              "       [1842,   75,   83,    0, 1788,  212],\n",
              "       [1852,   75,   73,    0, 1788,  212],\n",
              "       [1851,   74,   75,    0, 1791,  209],\n",
              "       [1879,   74,   47,    0, 1791,  209],\n",
              "       [1887,   69,   44,    0, 1808,  192],\n",
              "       [1866,   69,   65,    0, 1808,  192],\n",
              "       [1862,   73,   65,    0, 1795,  205],\n",
              "       [1876,   73,   51,    0, 1795,  205],\n",
              "       [1887,   62,   51,    0, 1829,  171],\n",
              "       [1878,   62,   60,    0, 1829,  171],\n",
              "       [1872,   68,   60,    0, 1821,  179],\n",
              "       [1922,   68,   10,    0, 1821,  179],\n",
              "       [1945,   45,   10,    0, 1850,  150],\n",
              "       [1931,   45,   24,    0, 1850,  150],\n",
              "       [1944,   32,   24,    0, 1868,  132],\n",
              "       [1928,   32,   40,    0, 1868,  132],\n",
              "       [1923,   37,   40,    0, 1863,  137],\n",
              "       [1937,   37,   26,    0, 1863,  137],\n",
              "       [1940,   35,   25,    0, 1867,  133],\n",
              "       [1959,   35,    6,    0, 1867,  133],\n",
              "       [1968,   26,    6,    0, 1888,  112],\n",
              "       [1969,   26,    5,    0, 1888,  112],\n",
              "       [1968,   27,    5,    0, 1886,  114],\n",
              "       [1951,   27,   22,    0, 1886,  114],\n",
              "       [1946,   32,   22,    0, 1876,  124],\n",
              "       [1948,   32,   20,    0, 1876,  124],\n",
              "       [1946,   34,   20,    0, 1874,  126],\n",
              "       [1960,   34,    6,    0, 1874,  126],\n",
              "       [1969,   25,    6,    0, 1892,  108],\n",
              "       [1958,   25,   17,    0, 1892,  108],\n",
              "       [1955,   29,   16,    0, 1884,  116],\n",
              "       [1950,   29,   21,    0, 1884,  116],\n",
              "       [1945,   34,   21,    0, 1881,  119],\n",
              "       [1962,   34,    4,    0, 1881,  119],\n",
              "       [1973,   22,    5,    0, 1911,   89],\n",
              "       [1974,   22,    4,    0, 1911,   89],\n",
              "       [1976,   20,    4,    0, 1917,   83],\n",
              "       [1976,   20,    4,    0, 1917,   83],\n",
              "       [1976,   19,    5,    0, 1932,   68],\n",
              "       [1977,   19,    4,    0, 1932,   68],\n",
              "       [1975,   21,    4,    0, 1920,   80],\n",
              "       [1975,   21,    4,    0, 1920,   80],\n",
              "       [1979,   15,    6,    0, 1937,   63],\n",
              "       [1966,   15,   19,    0, 1937,   63],\n",
              "       [1961,   21,   18,    0, 1928,   72],\n",
              "       [1961,   21,   18,    0, 1928,   72],\n",
              "       [1955,   27,   18,    0, 1906,   94],\n",
              "       [1969,   27,    4,    0, 1906,   94],\n",
              "       [1969,   26,    4,    1, 1901,   99],\n",
              "       [1970,   26,    3,    1, 1901,   99],\n",
              "       [1967,   29,    3,    1, 1900,  100],\n",
              "       [1968,   29,    2,    1, 1900,  100],\n",
              "       [1974,   23,    2,    1, 1910,   90],\n",
              "       [1974,   23,    2,    1, 1910,   90]])"
            ]
          },
          "metadata": {
            "tags": []
          },
          "execution_count": 26
        }
      ]
    },
    {
      "cell_type": "code",
      "metadata": {
        "id": "GR7i12R_QymL"
      },
      "source": [
        "columns = [\"epochs\", \"argmax > 0.5\" ,\"argmax < 0.5\", \"focus_true_pred_true\", \"focus_false_pred_true\", \"focus_true_pred_false\", \"focus_false_pred_false\" ]\n",
        "df_train = pd.DataFrame()\n",
        "df_test = pd.DataFrame()\n",
        "df_train[columns[0]] = np.arange(0,epoch+2)\n",
        "df_train[columns[1]] = analysis_data_tr[:,-2]\n",
        "df_train[columns[2]] = analysis_data_tr[:,-1]\n",
        "df_train[columns[3]] = analysis_data_tr[:,0]/30\n",
        "df_train[columns[4]] = analysis_data_tr[:,1]/30\n",
        "df_train[columns[5]] = analysis_data_tr[:,2]/30\n",
        "df_train[columns[6]] = analysis_data_tr[:,3]/30\n",
        "\n",
        "df_test[columns[0]] = np.arange(0,epoch+2)\n",
        "df_test[columns[1]] = analysis_data_tst[:,-2]\n",
        "df_test[columns[2]] = analysis_data_tst[:,-1]\n",
        "df_test[columns[3]] = analysis_data_tst[:,0]/20\n",
        "df_test[columns[4]] = analysis_data_tst[:,1]/20\n",
        "df_test[columns[5]] = analysis_data_tst[:,2]/20\n",
        "df_test[columns[6]] = analysis_data_tst[:,3]/20"
      ],
      "execution_count": 27,
      "outputs": []
    },
    {
      "cell_type": "code",
      "metadata": {
        "id": "gYIlDhfYSg4y",
        "colab": {
          "base_uri": "https://localhost:8080/",
          "height": 404
        },
        "outputId": "57d0bbb5-0906-4045-ac9c-44d1c982ae71"
      },
      "source": [
        "# plt.figure(figsize=(12,12))\n",
        "# plt.plot(df_train[columns[0]],df_train[columns[1]], label='argmax > 0.5')\n",
        "# plt.plot(df_train[columns[0]],df_train[columns[2]], label='argmax < 0.5')\n",
        "\n",
        "# plt.legend(loc='center left', bbox_to_anchor=(1, 0.5))\n",
        "# plt.xlabel(\"epochs\")\n",
        "# plt.ylabel(\"training data\")\n",
        "# plt.title(\"On Training set\")\n",
        "# #plt.vlines(vline_list,min(min(df_train[columns[1]]),min(df_train[columns[2]])), max(max(df_train[columns[1]]),max(df_train[columns[2]])),linestyles='dotted')\n",
        "# plt.show()\n",
        "\n",
        "fig=plt.figure(figsize=(8,6))\n",
        "plt.plot(df_train[columns[0]],df_train[columns[3]], label =\"focus_true_pred_true \")\n",
        "plt.plot(df_train[columns[0]],df_train[columns[4]], label =\"focus_false_pred_true \")\n",
        "plt.plot(df_train[columns[0]],df_train[columns[5]], label =\"focus_true_pred_false \")\n",
        "plt.plot(df_train[columns[0]],df_train[columns[6]], label =\"focus_false_pred_false \")\n",
        "plt.title(\"On Train set\")\n",
        "plt.legend(loc='center left', bbox_to_anchor=(1, 0.5))\n",
        "plt.xlabel(\"epochs\")\n",
        "plt.ylabel(\"training data\")\n",
        "#plt.vlines(vline_list,min(min(df_train[columns[3]]),min(df_train[columns[4]]),min(df_train[columns[5]]),min(df_train[columns[6]])), max(max(df_train[columns[3]]),max(df_train[columns[4]]),max(df_train[columns[5]]),max(df_train[columns[6]])),linestyles='dotted')\n",
        "plt.show()\n",
        "fig.savefig(\"train_analysis_every_1.pdf\")\n",
        "fig.savefig(\"train_analysis_every_1.png\")"
      ],
      "execution_count": 28,
      "outputs": [
        {
          "output_type": "display_data",
          "data": {
            "image/png": "[encoded data removed]",
            "text/plain": [
              "<Figure size 576x432 with 1 Axes>"
            ]
          },
          "metadata": {
            "tags": [],
            "needs_background": "light"
          }
        }
      ]
    },
    {
      "cell_type": "code",
      "metadata": {
        "id": "UPvuau_Id_Fi",
        "colab": {
          "base_uri": "https://localhost:8080/",
          "height": 404
        },
        "outputId": "0fb42c0a-084a-4523-8e07-cdb9013668f4"
      },
      "source": [
        "# plt.figure(figsize=(12,12))\n",
        "# plt.plot(df_test[columns[0]],df_test[columns[1]], label='argmax > 0.5')\n",
        "# plt.plot(df_test[columns[0]],df_test[columns[2]], label='argmax < 0.5')\n",
        "\n",
        "# plt.legend(loc='center left', bbox_to_anchor=(1, 0.5))\n",
        "# plt.xlabel(\"epochs\")\n",
        "# plt.ylabel(\"test data\")\n",
        "# plt.title(\"On Testing set\")\n",
        "# #plt.vlines(vline_list,min(min(df_test[columns[1]]),min(df_test[columns[2]])), max(max(df_test[columns[1]]),max(df_test[columns[2]])),linestyles='dotted')\n",
        "# plt.show()\n",
        "\n",
        "fig=plt.figure(figsize=(8,6))\n",
        "plt.plot(df_test[columns[0]],df_test[columns[3]], label =\"focus_true_pred_true \")\n",
        "plt.plot(df_test[columns[0]],df_test[columns[4]], label =\"focus_false_pred_true \")\n",
        "plt.plot(df_test[columns[0]],df_test[columns[5]], label =\"focus_true_pred_false \")\n",
        "plt.plot(df_test[columns[0]],df_test[columns[6]], label =\"focus_false_pred_false \")\n",
        "plt.title(\"On Test set\")\n",
        "plt.legend(loc='center left', bbox_to_anchor=(1, 0.5))\n",
        "plt.xlabel(\"epochs\")\n",
        "plt.ylabel(\"testing data\")\n",
        "#plt.vlines(vline_list,min(min(df_test[columns[3]]),min(df_test[columns[4]]),min(df_test[columns[5]]),min(df_test[columns[6]])), max(max(df_test[columns[3]]),max(df_test[columns[4]]),max(df_test[columns[5]]),max(df_test[columns[6]])),linestyles='dotted')\n",
        "plt.show()\n",
        "fig.savefig(\"test_analysis_every_1.pdf\")\n",
        "fig.savefig(\"test_analysis_every_1.png\")"
      ],
      "execution_count": 29,
      "outputs": [
        {
          "output_type": "display_data",
          "data": {
            "image/png": "[encoded data removed]",
            "text/plain": [
              "<Figure size 576x432 with 1 Axes>"
            ]
          },
          "metadata": {
            "tags": [],
            "needs_background": "light"
          }
        }
      ]
    },
    {
      "cell_type": "code",
      "metadata": {
        "id": "hGgOLQseShsw"
      },
      "source": [
        ""
      ],
      "execution_count": 29,
      "outputs": []
    }
  ]
}