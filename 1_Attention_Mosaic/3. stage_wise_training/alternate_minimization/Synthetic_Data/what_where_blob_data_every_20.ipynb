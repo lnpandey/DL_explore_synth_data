{
  "nbformat": 4,
  "nbformat_minor": 0,
  "metadata": {
    "accelerator": "GPU",
    "colab": {
      "name": "what_where_blob_data_every_20.ipynb",
      "provenance": [],
      "collapsed_sections": [
        "H0VVjc9qFqf_"
      ],
      "toc_visible": true
    },
    "kernelspec": {
      "display_name": "Python 3",
      "name": "python3"
    }
  },
  "cells": [
    {
      "cell_type": "code",
      "metadata": {
        "id": "VAYu3ISwwGks"
      },
      "source": [
        "import numpy as np\n",
        "import pandas as pd\n",
        "\n",
        "import torch\n",
        "import torchvision\n",
        "from torch.utils.data import Dataset, DataLoader\n",
        "from torchvision import transforms, utils\n",
        "import torch.nn as nn\n",
        "import torch.nn.functional as F\n",
        "import torch.optim as optim\n",
        "\n",
        "from matplotlib import pyplot as plt\n",
        "%matplotlib inline"
      ],
      "execution_count": 1,
      "outputs": []
    },
    {
      "cell_type": "markdown",
      "metadata": {
        "id": "H0VVjc9qFqf_"
      },
      "source": [
        "# Create blob Train and Test data"
      ]
    },
    {
      "cell_type": "code",
      "metadata": {
        "id": "mpdNNb8wFp56"
      },
      "source": [
        "# mu1 = np.array([3,3,3,3,0])\n",
        "# sigma1 = np.array([[1,1,1,1,1],[1,16,1,1,1],[1,1,1,1,1],[1,1,1,1,1],[1,1,1,1,1]])\n",
        "\n",
        "# mu2 = np.array([4,4,4,4,0])\n",
        "# sigma2 = np.array([[16,1,1,1,1],[1,1,1,1,1],[1,1,1,1,1],[1,1,1,1,1],[1,1,1,1,1]])\n",
        "\n",
        "# mu3 = np.array([10,5,5,10,0])\n",
        "# sigma3 = np.array([[1,1,1,1,1],[1,16,1,1,1],[1,1,1,1,1],[1,1,1,1,1],[1,1,1,1,1]])\n",
        "\n",
        "# mu4 = np.array([-10,-10,-10,-10,0])\n",
        "# sigma4 = np.array([[1,1,1,1,1],[1,16,1,1,1],[1,1,1,1,1],[1,1,1,1,1],[1,1,1,1,1]])\n",
        "\n",
        "# mu5 = np.array([-21,4,4,-21,0])\n",
        "# sigma5 = np.array([[16,1,1,1,1],[1,1,1,1,1],[1,1,1,1,1],[1,1,1,1,1],[1,1,1,1,1]])\n",
        "\n",
        "# mu6 = np.array([-10,18,18,-10,0])\n",
        "# sigma6 = np.array([[1,1,1,1,1],[1,16,1,1,1],[1,1,1,1,1],[1,1,1,1,1],[1,1,1,1,1]])\n",
        "\n",
        "# mu7 = np.array([4,20,4,20,0])\n",
        "# sigma7 = np.array([[16,1,1,1,1],[1,1,1,1,1],[1,1,1,1,1],[1,1,1,1,1],[1,1,1,1,1]])\n",
        "\n",
        "# mu8 = np.array([4,-20,-20,4,0])\n",
        "# sigma8 = np.array([[16,1,1,1,1],[1,1,1,1,1],[1,1,1,1,1],[1,1,1,1,1],[1,1,1,1,1]])\n",
        "\n",
        "# mu9 = np.array([20,20,20,20,0])\n",
        "# sigma9 = np.array([[1,1,1,1,1],[1,16,1,1,1],[1,1,1,1,1],[1,1,1,1,1],[1,1,1,1,1]])\n",
        "\n",
        "# mu10 = np.array([20,-10,-10,20,0])\n",
        "# sigma10 = np.array([[1,1,1,1,1],[1,16,1,1,1],[1,1,1,1,1],[1,1,1,1,1],[1,1,1,1,1]])\n",
        "\n",
        "\n",
        "\n",
        "# sample1 = np.random.multivariate_normal(mean=mu1,cov= sigma1,size=500)\n",
        "# sample2 = np.random.multivariate_normal(mean=mu2,cov= sigma2,size=500)\n",
        "# sample3 = np.random.multivariate_normal(mean=mu3,cov= sigma3,size=500)\n",
        "# sample4 = np.random.multivariate_normal(mean=mu4,cov= sigma4,size=500)\n",
        "# sample5 = np.random.multivariate_normal(mean=mu5,cov= sigma5,size=500)\n",
        "# sample6 = np.random.multivariate_normal(mean=mu6,cov= sigma6,size=500)\n",
        "# sample7 = np.random.multivariate_normal(mean=mu7,cov= sigma7,size=500)\n",
        "# sample8 = np.random.multivariate_normal(mean=mu8,cov= sigma8,size=500)\n",
        "# sample9 = np.random.multivariate_normal(mean=mu9,cov= sigma9,size=500)\n",
        "# sample10 = np.random.multivariate_normal(mean=mu10,cov= sigma10,size=500)"
      ],
      "execution_count": 3,
      "outputs": []
    },
    {
      "cell_type": "code",
      "metadata": {
        "id": "GVwzqqNxFwzN",
        "colab": {
          "base_uri": "https://localhost:8080/",
          "height": 299
        },
        "outputId": "88fec757-a2c7-48ff-8fa4-2a6c4ebe3075"
      },
      "source": [
        "# X = np.concatenate((sample1,sample2,sample3,sample4,sample5,sample6,sample7,sample8,sample9,sample10),axis=0)\n",
        "# Y = np.concatenate((np.zeros((500,1)),np.ones((500,1)),2*np.ones((500,1)),3*np.ones((500,1)),4*np.ones((500,1)),\n",
        "#                     5*np.ones((500,1)),6*np.ones((500,1)),7*np.ones((500,1)),8*np.ones((500,1)),9*np.ones((500,1))),axis=0).astype(int)\n",
        "# print(X.shape,Y.shape)\n",
        "# plt.scatter(sample1[:,0],sample1[:,1],label=\"class_0\")\n",
        "# plt.scatter(sample2[:,0],sample2[:,1],label=\"class_1\")\n",
        "# plt.scatter(sample3[:,0],sample3[:,1],label=\"class_2\")\n",
        "# plt.scatter(sample4[:,0],sample4[:,1],label=\"class_3\")\n",
        "# plt.scatter(sample5[:,0],sample5[:,1],label=\"class_4\")\n",
        "# plt.scatter(sample6[:,0],sample6[:,1],label=\"class_5\")\n",
        "# plt.scatter(sample7[:,0],sample7[:,1],label=\"class_6\")\n",
        "# plt.scatter(sample8[:,0],sample8[:,1],label=\"class_7\")\n",
        "# plt.scatter(sample9[:,0],sample9[:,1],label=\"class_8\")\n",
        "# plt.scatter(sample10[:,0],sample10[:,1],label=\"class_9\")\n",
        "# plt.legend(bbox_to_anchor=(1.05, 1), loc='upper left')"
      ],
      "execution_count": 4,
      "outputs": [
        {
          "output_type": "stream",
          "text": [
            "(5000, 5) (5000, 1)\n"
          ],
          "name": "stdout"
        },
        {
          "output_type": "execute_result",
          "data": {
            "text/plain": [
              "<matplotlib.legend.Legend at 0x7fd74eca0650>"
            ]
          },
          "metadata": {
            "tags": []
          },
          "execution_count": 4
        },
        {
          "output_type": "display_data",
          "data": {
            "image/png": "[encoded data removed]",
            "text/plain": [
              "<Figure size 432x288 with 1 Axes>"
            ]
          },
          "metadata": {
            "tags": [],
            "needs_background": "light"
          }
        }
      ]
    },
    {
      "cell_type": "code",
      "metadata": {
        "id": "kdLONe1TFwcv"
      },
      "source": [
        "# class SyntheticDataset(Dataset):\n",
        "#   \"\"\"MosaicDataset dataset.\"\"\"\n",
        "\n",
        "#   def __init__(self, x, y):\n",
        "#     \"\"\"\n",
        "#       Args:\n",
        "#         csv_file (string): Path to the csv file with annotations.\n",
        "#         root_dir (string): Directory with all the images.\n",
        "#         transform (callable, optional): Optional transform to be applied\n",
        "#             on a sample.\n",
        "#     \"\"\"\n",
        "#     self.x = x\n",
        "#     self.y = y\n",
        "#     #self.fore_idx = fore_idx\n",
        "    \n",
        "#   def __len__(self):\n",
        "#     return len(self.y)\n",
        "\n",
        "#   def __getitem__(self, idx):\n",
        "#     return self.x[idx] , self.y[idx] #, self.fore_idx[idx]"
      ],
      "execution_count": 10,
      "outputs": []
    },
    {
      "cell_type": "code",
      "metadata": {
        "id": "am81Wr7lFwTn",
        "colab": {
          "base_uri": "https://localhost:8080/"
        },
        "outputId": "575d003b-1752-45bf-80bf-5f7d88632f0d"
      },
      "source": [
        "# trainset = SyntheticDataset(X,Y)\n",
        "# trainloader = torch.utils.data.DataLoader(trainset, batch_size=100, shuffle=True)\n",
        "# classes = ('zero','one','two','three','four','five','six','seven','eight','nine')\n",
        "\n",
        "# foreground_classes = {'zero','one','two'}\n",
        "# fg_used = '012'\n",
        "# fg1, fg2, fg3 = 0,1,2\n",
        "\n",
        "\n",
        "# all_classes = {'zero','one','two','three','four','five','six','seven','eight','nine'}\n",
        "# background_classes = all_classes - foreground_classes\n",
        "# background_classes"
      ],
      "execution_count": 12,
      "outputs": [
        {
          "output_type": "execute_result",
          "data": {
            "text/plain": [
              "{'eight', 'five', 'four', 'nine', 'seven', 'six', 'three'}"
            ]
          },
          "metadata": {
            "tags": []
          },
          "execution_count": 12
        }
      ]
    },
    {
      "cell_type": "code",
      "metadata": {
        "id": "_lopYyy7G--q"
      },
      "source": [
        "# dataiter = iter(trainloader)\n",
        "# background_data=[]\n",
        "# background_label=[]\n",
        "# foreground_data=[]\n",
        "# foreground_label=[]\n",
        "# batch_size=100\n",
        "\n",
        "# for i in range(50):\n",
        "#   images, labels = dataiter.next()\n",
        "#   for j in range(batch_size):\n",
        "#     if(classes[labels[j]] in background_classes):\n",
        "#       img = images[j].tolist()\n",
        "#       background_data.append(img)\n",
        "#       background_label.append(labels[j])\n",
        "#     else:\n",
        "#       img = images[j].tolist()\n",
        "#       foreground_data.append(img)\n",
        "#       foreground_label.append(labels[j])\n",
        "            \n",
        "# foreground_data = torch.tensor(foreground_data)\n",
        "# foreground_label = torch.tensor(foreground_label)\n",
        "# background_data = torch.tensor(background_data)\n",
        "# background_label = torch.tensor(background_label)"
      ],
      "execution_count": 13,
      "outputs": []
    },
    {
      "cell_type": "code",
      "metadata": {
        "id": "JnT8fc5DMAa0"
      },
      "source": [
        "# def create_mosaic_img(bg_idx,fg_idx,fg): \n",
        "#   \"\"\"\n",
        "#   bg_idx : list of indexes of background_data[] to be used as background images in mosaic\n",
        "#   fg_idx : index of image to be used as foreground image from foreground data\n",
        "#   fg : at what position/index foreground image has to be stored out of 0-8\n",
        "#   \"\"\"\n",
        "#   image_list=[]\n",
        "#   j=0\n",
        "#   for i in range(9):\n",
        "#     if i != fg:\n",
        "#       image_list.append(background_data[bg_idx[j]])\n",
        "#       j+=1\n",
        "#     else: \n",
        "#       image_list.append(foreground_data[fg_idx])\n",
        "#       label = foreground_label[fg_idx] - fg1  # minus fg1 because our fore ground classes are fg1,fg2,fg3 but we have to store it as 0,1,2\n",
        "#   #image_list = np.concatenate(image_list ,axis=0)\n",
        "#   image_list = torch.stack(image_list) \n",
        "#   return image_list,label"
      ],
      "execution_count": 14,
      "outputs": []
    },
    {
      "cell_type": "code",
      "metadata": {
        "id": "kd4r_sXhMDCu",
        "colab": {
          "base_uri": "https://localhost:8080/"
        },
        "outputId": "09795836-006b-4544-bd5b-a84fd54b17fc"
      },
      "source": [
        "# # number of data points in bg class and fg class\n",
        "# nbg = 500*7\n",
        "# nfg   = 500*3\n",
        "\n",
        "# print(nbg, nfg, nbg+nfg)"
      ],
      "execution_count": 16,
      "outputs": [
        {
          "output_type": "stream",
          "text": [
            "3500 1500 5000\n"
          ],
          "name": "stdout"
        }
      ]
    },
    {
      "cell_type": "code",
      "metadata": {
        "id": "2zq2xQCBMC7j"
      },
      "source": [
        "# desired_num = 3000\n",
        "# mosaic_list_of_images =[]      # list of mosaic images, each mosaic image is saved as list of 9 images\n",
        "# fore_idx =[]                   # list of indexes at which foreground image is present in a mosaic image i.e from 0 to 9               \n",
        "# mosaic_label=[]                # label of mosaic image = foreground class present in that mosaic\n",
        "# list_set_labels = [] \n",
        "# for i in range(desired_num):\n",
        "#   set_idx = set()\n",
        "#   np.random.seed(i)\n",
        "#   bg_idx = np.random.randint(0,nbg,8)\n",
        "#   set_idx = set(background_label[bg_idx].tolist())\n",
        "#   fg_idx = np.random.randint(0,nfg)\n",
        "#   set_idx.add(foreground_label[fg_idx].item())\n",
        "#   fg = np.random.randint(0,9)\n",
        "#   fore_idx.append(fg)\n",
        "#   image_list,label = create_mosaic_img(bg_idx,fg_idx,fg)\n",
        "#   mosaic_list_of_images.append(image_list)\n",
        "#   mosaic_label.append(label)\n",
        "#   list_set_labels.append(set_idx)\n"
      ],
      "execution_count": 18,
      "outputs": []
    },
    {
      "cell_type": "code",
      "metadata": {
        "id": "8pqXIPlNMCyz"
      },
      "source": [
        "# desired_num = 2000\n",
        "# test_mosaic_list_of_images =[]      # list of mosaic images, each mosaic image is saved as list of 9 images\n",
        "# test_fore_idx =[]                   # list of indexes at which foreground image is present in a mosaic image i.e from 0 to 9               \n",
        "# test_mosaic_label=[]                # label of mosaic image = foreground class present in that mosaic\n",
        "# test_list_set_labels = [] \n",
        "# for i in range(desired_num):\n",
        "#   set_idx = set()\n",
        "#   np.random.seed(i+3000)\n",
        "#   bg_idx = np.random.randint(0,nbg,8)\n",
        "#   set_idx = set(background_label[bg_idx].tolist())\n",
        "#   fg_idx = np.random.randint(0,nfg)\n",
        "#   set_idx.add(foreground_label[fg_idx].item())\n",
        "#   fg = np.random.randint(0,9)\n",
        "#   test_fore_idx.append(fg)\n",
        "#   test_image_list,test_label = create_mosaic_img(bg_idx,fg_idx,fg)\n",
        "#   test_mosaic_list_of_images.append(test_image_list)\n",
        "#   test_mosaic_label.append(test_label)\n",
        "#   test_list_set_labels.append(set_idx)\n"
      ],
      "execution_count": 19,
      "outputs": []
    },
    {
      "cell_type": "code",
      "metadata": {
        "id": "Sxq58WbtMmKq"
      },
      "source": [
        "# data =  [{\"mosaic_list\":mosaic_list_of_images, \"mosaic_label\": mosaic_label, \"fore_idx\":fore_idx}]\n",
        "# np.save(\"train_blob_data.npy\",data)"
      ],
      "execution_count": 21,
      "outputs": []
    },
    {
      "cell_type": "code",
      "metadata": {
        "id": "hNnqO6yKMCoR"
      },
      "source": [
        "# data =  [{\"mosaic_list\":test_mosaic_list_of_images, \"mosaic_label\": test_mosaic_label, \"fore_idx\":test_fore_idx}]\n",
        "# np.save(\"test_blob_data.npy\",data)"
      ],
      "execution_count": 22,
      "outputs": []
    },
    {
      "cell_type": "markdown",
      "metadata": {
        "id": "y4ZKaqzq_vcD"
      },
      "source": [
        "# load mosaic data"
      ]
    },
    {
      "cell_type": "code",
      "metadata": {
        "id": "6_dZKEaJAQ2Y"
      },
      "source": [
        "class MosaicDataset1(Dataset):\n",
        "  \"\"\"MosaicDataset dataset.\"\"\"\n",
        "\n",
        "  def __init__(self, mosaic_list, mosaic_label,fore_idx):\n",
        "    \"\"\"\n",
        "      Args:\n",
        "        csv_file (string): Path to the csv file with annotations.\n",
        "        root_dir (string): Directory with all the images.\n",
        "        transform (callable, optional): Optional transform to be applied\n",
        "            on a sample.\n",
        "    \"\"\"\n",
        "    self.mosaic = mosaic_list\n",
        "    self.label = mosaic_label\n",
        "    self.fore_idx = fore_idx\n",
        "    \n",
        "  def __len__(self):\n",
        "    return len(self.label)\n",
        "\n",
        "  def __getitem__(self, idx):\n",
        "    return self.mosaic[idx] , self.label[idx] , self.fore_idx[idx]"
      ],
      "execution_count": 23,
      "outputs": []
    },
    {
      "cell_type": "code",
      "metadata": {
        "id": "UWxCb_h8AQpf"
      },
      "source": [
        "train_data = np.load(\"train_blob_data.npy\",allow_pickle=True)\n",
        "test_data = np.load(\"test_blob_data.npy\",allow_pickle=True)"
      ],
      "execution_count": 25,
      "outputs": []
    },
    {
      "cell_type": "code",
      "metadata": {
        "id": "WR0bl63TAQI9"
      },
      "source": [
        "train_mosaic_list_of_images = train_data[0][\"mosaic_list\"]\n",
        "train_mosaic_label = train_data[0][\"mosaic_label\"]\n",
        "train_fore_idx = train_data[0][\"fore_idx\"]\n",
        "\n",
        "\n",
        "test_mosaic_list_of_images = test_data[0][\"mosaic_list\"]\n",
        "test_mosaic_label = test_data[0][\"mosaic_label\"]\n",
        "test_fore_idx = test_data[0][\"fore_idx\"]"
      ],
      "execution_count": 26,
      "outputs": []
    },
    {
      "cell_type": "code",
      "metadata": {
        "id": "GVS6xb4fAZ_P"
      },
      "source": [
        "batch = 250\n",
        "tr_msd = MosaicDataset1(train_mosaic_list_of_images, train_mosaic_label, train_fore_idx)\n",
        "train_loader = DataLoader( tr_msd,batch_size= batch ,shuffle=True)"
      ],
      "execution_count": 27,
      "outputs": []
    },
    {
      "cell_type": "code",
      "metadata": {
        "id": "Mn1Xql2gNrUH"
      },
      "source": [
        "batch = 250\n",
        "tst_msd = MosaicDataset1(test_mosaic_list_of_images, test_mosaic_label, test_fore_idx)\n",
        "test_loader = DataLoader( tst_msd,batch_size= batch ,shuffle=True)"
      ],
      "execution_count": 28,
      "outputs": []
    },
    {
      "cell_type": "markdown",
      "metadata": {
        "id": "ARLPPASQ_2gB"
      },
      "source": [
        "# models"
      ]
    },
    {
      "cell_type": "code",
      "metadata": {
        "id": "T1Y0mCQzjSV0"
      },
      "source": [
        "class Module1(nn.Module):\n",
        "  def __init__(self):\n",
        "    super(Module1, self).__init__()\n",
        "    self.fc1 = nn.Linear(5, 100)\n",
        "    self.fc2 = nn.Linear(100, 1)\n",
        "\n",
        "  def forward(self, z):\n",
        "    x = torch.zeros([batch,9],dtype=torch.float64)\n",
        "    y = torch.zeros([batch,5], dtype=torch.float64)\n",
        "    x,y = x.to(\"cuda\"),y.to(\"cuda\")\n",
        "    for i in range(9):\n",
        "      x[:,i] = self.helper(z[:,i])[:,0]\n",
        "    x = F.softmax(x,dim=1)   # alphas\n",
        "    \n",
        "\n",
        "    for i in range(9):            \n",
        "      x1 = x[:,i]          \n",
        "      y = y + torch.mul(x1[:,None],z[:,i])\n",
        "    return y , x \n",
        "  \n",
        "  def helper(self,x):\n",
        "    x = F.relu(self.fc1(x))\n",
        "    x = self.fc2(x)\n",
        "    return x\n",
        "      \n"
      ],
      "execution_count": 29,
      "outputs": []
    },
    {
      "cell_type": "code",
      "metadata": {
        "id": "zt9YwV5rjSK_"
      },
      "source": [
        " class Module2(nn.Module):\n",
        "  def __init__(self):\n",
        "    super(Module2, self).__init__()\n",
        "    self.fc1 = nn.Linear(5, 100)\n",
        "    self.fc2 = nn.Linear(100, 3)\n",
        "\n",
        "  def forward(self,y):  \n",
        "    y = F.relu(self.fc1(y))\n",
        "    y = self.fc2(y)\n",
        "    return y\n"
      ],
      "execution_count": 30,
      "outputs": []
    },
    {
      "cell_type": "code",
      "metadata": {
        "id": "UJbdW7cijRsr"
      },
      "source": [
        "torch.manual_seed(1234)\n",
        "where_net = Module1().double()\n",
        "where_net = where_net.to(\"cuda\")\n",
        "# print(net.parameters)\n",
        "torch.manual_seed(1234)\n",
        "what_net = Module2().double()\n",
        "what_net = what_net.to(\"cuda\")"
      ],
      "execution_count": 31,
      "outputs": []
    },
    {
      "cell_type": "code",
      "metadata": {
        "id": "ehAfQnNwgFYX"
      },
      "source": [
        "def calculate_attn_loss(dataloader,what,where,criter):\n",
        "  what.eval()\n",
        "  where.eval()\n",
        "  r_loss = 0\n",
        "  alphas = []\n",
        "  lbls = []\n",
        "  pred = []\n",
        "  fidices = []\n",
        "  correct = 0\n",
        "  tot = 0\n",
        "  with torch.no_grad():\n",
        "    for i, data in enumerate(dataloader, 0):\n",
        "      inputs, labels,fidx = data\n",
        "      lbls.append(labels)\n",
        "      fidices.append(fidx)\n",
        "      inputs = inputs.double()\n",
        "      inputs, labels = inputs.to(\"cuda\"),labels.to(\"cuda\")\n",
        "      avg,alpha = where(inputs)\n",
        "      outputs = what(avg)\n",
        "      _, predicted = torch.max(outputs.data, 1)\n",
        "      correct += sum(predicted == labels)\n",
        "      tot += len(predicted)\n",
        "      pred.append(predicted.cpu().numpy())\n",
        "      alphas.append(alpha.cpu().numpy())\n",
        "      loss = criter(outputs, labels)\n",
        "      r_loss += loss.item()\n",
        "  alphas = np.concatenate(alphas,axis=0)\n",
        "  pred = np.concatenate(pred,axis=0)\n",
        "  lbls = np.concatenate(lbls,axis=0)\n",
        "  fidices = np.concatenate(fidices,axis=0)\n",
        "  #print(alphas.shape,pred.shape,lbls.shape,fidices.shape) \n",
        "  analysis = analyse_data(alphas,lbls,pred,fidices)\n",
        "  return r_loss/i,analysis,correct.item(),tot,correct.item()/tot"
      ],
      "execution_count": 32,
      "outputs": []
    },
    {
      "cell_type": "code",
      "metadata": {
        "id": "6e9HQJMzxBhp"
      },
      "source": [
        "def analyse_data(alphas,lbls,predicted,f_idx):\n",
        "    '''\n",
        "       analysis data is created here\n",
        "    '''\n",
        "    batch = len(predicted)\n",
        "    amth,alth,ftpt,ffpt,ftpf,ffpf = 0,0,0,0,0,0\n",
        "    for j in range (batch):\n",
        "      focus = np.argmax(alphas[j])\n",
        "      if(alphas[j][focus] >= 0.5):\n",
        "        amth +=1\n",
        "      else:\n",
        "        alth +=1\n",
        "      if(focus == f_idx[j] and predicted[j] == lbls[j]):\n",
        "        ftpt += 1\n",
        "      elif(focus != f_idx[j] and predicted[j] == lbls[j]):\n",
        "        ffpt +=1\n",
        "      elif(focus == f_idx[j] and predicted[j] != lbls[j]):\n",
        "        ftpf +=1\n",
        "      elif(focus != f_idx[j] and predicted[j] != lbls[j]):\n",
        "        ffpf +=1\n",
        "    #print(sum(predicted==lbls),ftpt+ffpt)\n",
        "    return [ftpt,ffpt,ftpf,ffpf,amth,alth]"
      ],
      "execution_count": 33,
      "outputs": []
    },
    {
      "cell_type": "markdown",
      "metadata": {
        "id": "a2AlGgRa_6_H"
      },
      "source": [
        "# training"
      ]
    },
    {
      "cell_type": "code",
      "metadata": {
        "colab": {
          "base_uri": "https://localhost:8080/"
        },
        "id": "MOfxUJZ_eFKw",
        "outputId": "d0a64eaf-d7a6-4694-d8ab-6e4c30de9380"
      },
      "source": [
        "# instantiate optimizer\n",
        "optimizer_where = optim.RMSprop(where_net.parameters(),lr =0.001)#,nesterov=True)\n",
        "optimizer_what = optim.RMSprop(what_net.parameters(), lr=0.001)#,nesterov=True)\n",
        " \n",
        "\n",
        "criterion = nn.CrossEntropyLoss()\n",
        "acti = []\n",
        "analysis_data_tr = []\n",
        "analysis_data_tst = []\n",
        "loss_curi_tst = []\n",
        "loss_curi_tr = []\n",
        "epochs = 450\n",
        "\n",
        "every_what_epoch = 20\n",
        "\n",
        "# calculate zeroth epoch loss and FTPT values\n",
        "running_loss,anlys_data,correct,total,accuracy = calculate_attn_loss(train_loader,what_net,where_net,criterion)\n",
        "print('training epoch: [%d ] loss: %.3f correct: %.3f, total: %.3f, accuracy: %.3f' %(0,running_loss,correct,total,accuracy)) \n",
        "loss_curi_tr.append(running_loss)\n",
        "analysis_data_tr.append(anlys_data)\n",
        "\n",
        "\n",
        "\n",
        "running_loss,anlys_data,correct,total,accuracy = calculate_attn_loss(test_loader,what_net,where_net,criterion)\n",
        "print('test epoch: [%d ] loss: %.3f correct: %.3f, total: %.3f, accuracy: %.3f' %(0,running_loss,correct,total,accuracy)) \n",
        "\n",
        "loss_curi_tst.append(running_loss)\n",
        "analysis_data_tst.append(anlys_data)\n",
        "\n",
        "\n",
        "# training starts \n",
        "for epoch in range(epochs): # loop over the dataset multiple times\n",
        "  ep_lossi = []\n",
        "  running_loss = 0.0\n",
        "  what_net.train()\n",
        "  where_net.train()\n",
        "  if ((epoch) % (every_what_epoch*2) ) <= every_what_epoch-1 :\n",
        "    print(epoch+1,\"updating what_net, where_net is freezed\")\n",
        "    print(\"--\"*40)\n",
        "  elif ((epoch) % (every_what_epoch*2)) > every_what_epoch-1 :\n",
        "    print(epoch+1,\"updating where_net, what_net is freezed\")\n",
        "    print(\"--\"*40)\n",
        "  for i, data in enumerate(train_loader, 0):\n",
        "    # get the inputs\n",
        "    inputs, labels,_ = data\n",
        "    inputs = inputs.double()\n",
        "    inputs, labels = inputs.to(\"cuda\"),labels.to(\"cuda\")\n",
        "        \n",
        "    # zero the parameter gradients\n",
        "    optimizer_where.zero_grad()\n",
        "    optimizer_what.zero_grad()\n",
        "      \n",
        "    # forward + backward + optimize\n",
        "    avg, alpha = where_net(inputs)\n",
        "    outputs = what_net(avg)\n",
        "    loss = criterion(outputs, labels)\n",
        "\n",
        "    # print statistics\n",
        "    running_loss += loss.item()\n",
        "    loss.backward()\n",
        "    if ((epoch) % (every_what_epoch*2) ) <= every_what_epoch-1 :\n",
        "      optimizer_what.step()\n",
        "    elif ( (epoch) % (every_what_epoch*2)) > every_what_epoch-1 :\n",
        "      optimizer_where.step()\n",
        "  running_loss_tr,anls_data,correct,total,accuracy = calculate_attn_loss(train_loader,what_net,where_net,criterion)\n",
        "  analysis_data_tr.append(anls_data)\n",
        "  loss_curi_tr.append(running_loss_tr)   #loss per epoch\n",
        "  print('training epoch: [%d ] loss: %.3f correct: %.3f, total: %.3f, accuracy: %.3f' %(epoch+1,running_loss_tr,correct,total,accuracy)) \n",
        "\n",
        "\n",
        "  # calculate loss for test data\n",
        "  running_loss_tst,anls_data,correct,total,accuracy = calculate_attn_loss(test_loader,what_net,where_net,criterion)\n",
        "  analysis_data_tst.append(anls_data)\n",
        "  loss_curi_tst.append(running_loss_tst)   #loss per epoch\n",
        "  print('test epoch: [%d ] loss: %.3f correct: %.3f, total: %.3f, accuracy: %.3f' %(epoch+1,running_loss_tst,correct,total,accuracy)) \n",
        "\n",
        "\n",
        "  if running_loss_tr<=0.05:\n",
        "    break\n",
        "  # if ((epoch) % (every_what_epoch*2) ) <= every_what_epoch-1 :\n",
        "  #   scheduler_what.step(running_loss_val)\n",
        "  # elif ( (epoch) % (every_what_epoch*2)) > every_what_epoch-1 :\n",
        "  #   scheduler_where.step(running_loss_val)\n",
        "print('Finished Training run ')\n",
        "analysis_data_tr = np.array(analysis_data_tr) \n",
        "analysis_data_tst = np.array(analysis_data_tst)"
      ],
      "execution_count": 34,
      "outputs": [
        {
          "output_type": "stream",
          "text": [
            "training epoch: [0 ] loss: 1.909 correct: 997.000, total: 3000.000, accuracy: 0.332\n",
            "test epoch: [0 ] loss: 2.080 correct: 613.000, total: 2000.000, accuracy: 0.306\n",
            "1 updating what_net, where_net is freezed\n",
            "--------------------------------------------------------------------------------\n",
            "training epoch: [1 ] loss: 1.181 correct: 1047.000, total: 3000.000, accuracy: 0.349\n",
            "test epoch: [1 ] loss: 1.249 correct: 636.000, total: 2000.000, accuracy: 0.318\n",
            "2 updating what_net, where_net is freezed\n",
            "--------------------------------------------------------------------------------\n",
            "training epoch: [2 ] loss: 1.172 correct: 1173.000, total: 3000.000, accuracy: 0.391\n",
            "test epoch: [2 ] loss: 1.232 correct: 770.000, total: 2000.000, accuracy: 0.385\n",
            "3 updating what_net, where_net is freezed\n",
            "--------------------------------------------------------------------------------\n",
            "training epoch: [3 ] loss: 1.159 correct: 1211.000, total: 3000.000, accuracy: 0.404\n",
            "test epoch: [3 ] loss: 1.233 correct: 732.000, total: 2000.000, accuracy: 0.366\n",
            "4 updating what_net, where_net is freezed\n",
            "--------------------------------------------------------------------------------\n",
            "training epoch: [4 ] loss: 1.157 correct: 1313.000, total: 3000.000, accuracy: 0.438\n",
            "test epoch: [4 ] loss: 1.217 correct: 837.000, total: 2000.000, accuracy: 0.418\n",
            "5 updating what_net, where_net is freezed\n",
            "--------------------------------------------------------------------------------\n",
            "training epoch: [5 ] loss: 1.160 correct: 1272.000, total: 3000.000, accuracy: 0.424\n",
            "test epoch: [5 ] loss: 1.219 correct: 857.000, total: 2000.000, accuracy: 0.428\n",
            "6 updating what_net, where_net is freezed\n",
            "--------------------------------------------------------------------------------\n",
            "training epoch: [6 ] loss: 1.146 correct: 1402.000, total: 3000.000, accuracy: 0.467\n",
            "test epoch: [6 ] loss: 1.206 correct: 902.000, total: 2000.000, accuracy: 0.451\n",
            "7 updating what_net, where_net is freezed\n",
            "--------------------------------------------------------------------------------\n",
            "training epoch: [7 ] loss: 1.133 correct: 1364.000, total: 3000.000, accuracy: 0.455\n",
            "test epoch: [7 ] loss: 1.203 correct: 841.000, total: 2000.000, accuracy: 0.420\n",
            "8 updating what_net, where_net is freezed\n",
            "--------------------------------------------------------------------------------\n",
            "training epoch: [8 ] loss: 1.130 correct: 1508.000, total: 3000.000, accuracy: 0.503\n",
            "test epoch: [8 ] loss: 1.196 correct: 942.000, total: 2000.000, accuracy: 0.471\n",
            "9 updating what_net, where_net is freezed\n",
            "--------------------------------------------------------------------------------\n",
            "training epoch: [9 ] loss: 1.125 correct: 1507.000, total: 3000.000, accuracy: 0.502\n",
            "test epoch: [9 ] loss: 1.192 correct: 949.000, total: 2000.000, accuracy: 0.474\n",
            "10 updating what_net, where_net is freezed\n",
            "--------------------------------------------------------------------------------\n",
            "training epoch: [10 ] loss: 1.113 correct: 1465.000, total: 3000.000, accuracy: 0.488\n",
            "test epoch: [10 ] loss: 1.187 correct: 911.000, total: 2000.000, accuracy: 0.456\n",
            "11 updating what_net, where_net is freezed\n",
            "--------------------------------------------------------------------------------\n",
            "training epoch: [11 ] loss: 1.117 correct: 1511.000, total: 3000.000, accuracy: 0.504\n",
            "test epoch: [11 ] loss: 1.182 correct: 956.000, total: 2000.000, accuracy: 0.478\n",
            "12 updating what_net, where_net is freezed\n",
            "--------------------------------------------------------------------------------\n",
            "training epoch: [12 ] loss: 1.112 correct: 1326.000, total: 3000.000, accuracy: 0.442\n",
            "test epoch: [12 ] loss: 1.200 correct: 810.000, total: 2000.000, accuracy: 0.405\n",
            "13 updating what_net, where_net is freezed\n",
            "--------------------------------------------------------------------------------\n",
            "training epoch: [13 ] loss: 1.104 correct: 1524.000, total: 3000.000, accuracy: 0.508\n",
            "test epoch: [13 ] loss: 1.178 correct: 943.000, total: 2000.000, accuracy: 0.471\n",
            "14 updating what_net, where_net is freezed\n",
            "--------------------------------------------------------------------------------\n",
            "training epoch: [14 ] loss: 1.108 correct: 1344.000, total: 3000.000, accuracy: 0.448\n",
            "test epoch: [14 ] loss: 1.200 correct: 810.000, total: 2000.000, accuracy: 0.405\n",
            "15 updating what_net, where_net is freezed\n",
            "--------------------------------------------------------------------------------\n",
            "training epoch: [15 ] loss: 1.091 correct: 1544.000, total: 3000.000, accuracy: 0.515\n",
            "test epoch: [15 ] loss: 1.165 correct: 966.000, total: 2000.000, accuracy: 0.483\n",
            "16 updating what_net, where_net is freezed\n",
            "--------------------------------------------------------------------------------\n",
            "training epoch: [16 ] loss: 1.086 correct: 1502.000, total: 3000.000, accuracy: 0.501\n",
            "test epoch: [16 ] loss: 1.166 correct: 919.000, total: 2000.000, accuracy: 0.460\n",
            "17 updating what_net, where_net is freezed\n",
            "--------------------------------------------------------------------------------\n",
            "training epoch: [17 ] loss: 1.082 correct: 1524.000, total: 3000.000, accuracy: 0.508\n",
            "test epoch: [17 ] loss: 1.164 correct: 951.000, total: 2000.000, accuracy: 0.475\n",
            "18 updating what_net, where_net is freezed\n",
            "--------------------------------------------------------------------------------\n",
            "training epoch: [18 ] loss: 1.078 correct: 1501.000, total: 3000.000, accuracy: 0.500\n",
            "test epoch: [18 ] loss: 1.162 correct: 923.000, total: 2000.000, accuracy: 0.462\n",
            "19 updating what_net, where_net is freezed\n",
            "--------------------------------------------------------------------------------\n",
            "training epoch: [19 ] loss: 1.082 correct: 1541.000, total: 3000.000, accuracy: 0.514\n",
            "test epoch: [19 ] loss: 1.158 correct: 979.000, total: 2000.000, accuracy: 0.489\n",
            "20 updating what_net, where_net is freezed\n",
            "--------------------------------------------------------------------------------\n",
            "training epoch: [20 ] loss: 1.072 correct: 1537.000, total: 3000.000, accuracy: 0.512\n",
            "test epoch: [20 ] loss: 1.153 correct: 946.000, total: 2000.000, accuracy: 0.473\n",
            "21 updating where_net, what_net is freezed\n",
            "--------------------------------------------------------------------------------\n",
            "training epoch: [21 ] loss: 0.697 correct: 2213.000, total: 3000.000, accuracy: 0.738\n",
            "test epoch: [21 ] loss: 0.721 correct: 1482.000, total: 2000.000, accuracy: 0.741\n",
            "22 updating where_net, what_net is freezed\n",
            "--------------------------------------------------------------------------------\n",
            "training epoch: [22 ] loss: 0.660 correct: 2274.000, total: 3000.000, accuracy: 0.758\n",
            "test epoch: [22 ] loss: 0.683 correct: 1524.000, total: 2000.000, accuracy: 0.762\n",
            "23 updating where_net, what_net is freezed\n",
            "--------------------------------------------------------------------------------\n",
            "training epoch: [23 ] loss: 0.582 correct: 2304.000, total: 3000.000, accuracy: 0.768\n",
            "test epoch: [23 ] loss: 0.606 correct: 1545.000, total: 2000.000, accuracy: 0.772\n",
            "24 updating where_net, what_net is freezed\n",
            "--------------------------------------------------------------------------------\n",
            "training epoch: [24 ] loss: 0.559 correct: 2331.000, total: 3000.000, accuracy: 0.777\n",
            "test epoch: [24 ] loss: 0.583 correct: 1562.000, total: 2000.000, accuracy: 0.781\n",
            "25 updating where_net, what_net is freezed\n",
            "--------------------------------------------------------------------------------\n",
            "training epoch: [25 ] loss: 0.547 correct: 2346.000, total: 3000.000, accuracy: 0.782\n",
            "test epoch: [25 ] loss: 0.573 correct: 1562.000, total: 2000.000, accuracy: 0.781\n",
            "26 updating where_net, what_net is freezed\n",
            "--------------------------------------------------------------------------------\n",
            "training epoch: [26 ] loss: 0.539 correct: 2350.000, total: 3000.000, accuracy: 0.783\n",
            "test epoch: [26 ] loss: 0.561 correct: 1575.000, total: 2000.000, accuracy: 0.787\n",
            "27 updating where_net, what_net is freezed\n",
            "--------------------------------------------------------------------------------\n",
            "training epoch: [27 ] loss: 0.533 correct: 2359.000, total: 3000.000, accuracy: 0.786\n",
            "test epoch: [27 ] loss: 0.556 correct: 1571.000, total: 2000.000, accuracy: 0.785\n",
            "28 updating where_net, what_net is freezed\n",
            "--------------------------------------------------------------------------------\n",
            "training epoch: [28 ] loss: 0.527 correct: 2400.000, total: 3000.000, accuracy: 0.800\n",
            "test epoch: [28 ] loss: 0.550 correct: 1610.000, total: 2000.000, accuracy: 0.805\n",
            "29 updating where_net, what_net is freezed\n",
            "--------------------------------------------------------------------------------\n",
            "training epoch: [29 ] loss: 0.523 correct: 2407.000, total: 3000.000, accuracy: 0.802\n",
            "test epoch: [29 ] loss: 0.545 correct: 1614.000, total: 2000.000, accuracy: 0.807\n",
            "30 updating where_net, what_net is freezed\n",
            "--------------------------------------------------------------------------------\n",
            "training epoch: [30 ] loss: 0.519 correct: 2412.000, total: 3000.000, accuracy: 0.804\n",
            "test epoch: [30 ] loss: 0.541 correct: 1612.000, total: 2000.000, accuracy: 0.806\n",
            "31 updating where_net, what_net is freezed\n",
            "--------------------------------------------------------------------------------\n",
            "training epoch: [31 ] loss: 0.516 correct: 2435.000, total: 3000.000, accuracy: 0.812\n",
            "test epoch: [31 ] loss: 0.537 correct: 1624.000, total: 2000.000, accuracy: 0.812\n",
            "32 updating where_net, what_net is freezed\n",
            "--------------------------------------------------------------------------------\n",
            "training epoch: [32 ] loss: 0.512 correct: 2445.000, total: 3000.000, accuracy: 0.815\n",
            "test epoch: [32 ] loss: 0.534 correct: 1629.000, total: 2000.000, accuracy: 0.815\n",
            "33 updating where_net, what_net is freezed\n",
            "--------------------------------------------------------------------------------\n",
            "training epoch: [33 ] loss: 0.510 correct: 2460.000, total: 3000.000, accuracy: 0.820\n",
            "test epoch: [33 ] loss: 0.533 correct: 1639.000, total: 2000.000, accuracy: 0.820\n",
            "34 updating where_net, what_net is freezed\n",
            "--------------------------------------------------------------------------------\n",
            "training epoch: [34 ] loss: 0.508 correct: 2450.000, total: 3000.000, accuracy: 0.817\n",
            "test epoch: [34 ] loss: 0.527 correct: 1631.000, total: 2000.000, accuracy: 0.816\n",
            "35 updating where_net, what_net is freezed\n",
            "--------------------------------------------------------------------------------\n",
            "training epoch: [35 ] loss: 0.505 correct: 2465.000, total: 3000.000, accuracy: 0.822\n",
            "test epoch: [35 ] loss: 0.527 correct: 1641.000, total: 2000.000, accuracy: 0.821\n",
            "36 updating where_net, what_net is freezed\n",
            "--------------------------------------------------------------------------------\n",
            "training epoch: [36 ] loss: 0.503 correct: 2468.000, total: 3000.000, accuracy: 0.823\n",
            "test epoch: [36 ] loss: 0.525 correct: 1643.000, total: 2000.000, accuracy: 0.822\n",
            "37 updating where_net, what_net is freezed\n",
            "--------------------------------------------------------------------------------\n",
            "training epoch: [37 ] loss: 0.502 correct: 2470.000, total: 3000.000, accuracy: 0.823\n",
            "test epoch: [37 ] loss: 0.525 correct: 1642.000, total: 2000.000, accuracy: 0.821\n",
            "38 updating where_net, what_net is freezed\n",
            "--------------------------------------------------------------------------------\n",
            "training epoch: [38 ] loss: 0.499 correct: 2485.000, total: 3000.000, accuracy: 0.828\n",
            "test epoch: [38 ] loss: 0.523 correct: 1653.000, total: 2000.000, accuracy: 0.827\n",
            "39 updating where_net, what_net is freezed\n",
            "--------------------------------------------------------------------------------\n",
            "training epoch: [39 ] loss: 0.498 correct: 2472.000, total: 3000.000, accuracy: 0.824\n",
            "test epoch: [39 ] loss: 0.520 correct: 1651.000, total: 2000.000, accuracy: 0.826\n",
            "40 updating where_net, what_net is freezed\n",
            "--------------------------------------------------------------------------------\n",
            "training epoch: [40 ] loss: 0.496 correct: 2498.000, total: 3000.000, accuracy: 0.833\n",
            "test epoch: [40 ] loss: 0.517 correct: 1658.000, total: 2000.000, accuracy: 0.829\n",
            "41 updating what_net, where_net is freezed\n",
            "--------------------------------------------------------------------------------\n",
            "training epoch: [41 ] loss: 0.367 correct: 2652.000, total: 3000.000, accuracy: 0.884\n",
            "test epoch: [41 ] loss: 0.395 correct: 1770.000, total: 2000.000, accuracy: 0.885\n",
            "42 updating what_net, where_net is freezed\n",
            "--------------------------------------------------------------------------------\n",
            "training epoch: [42 ] loss: 0.323 correct: 2723.000, total: 3000.000, accuracy: 0.908\n",
            "test epoch: [42 ] loss: 0.349 correct: 1815.000, total: 2000.000, accuracy: 0.907\n",
            "43 updating what_net, where_net is freezed\n",
            "--------------------------------------------------------------------------------\n",
            "training epoch: [43 ] loss: 0.293 correct: 2761.000, total: 3000.000, accuracy: 0.920\n",
            "test epoch: [43 ] loss: 0.316 correct: 1844.000, total: 2000.000, accuracy: 0.922\n",
            "44 updating what_net, where_net is freezed\n",
            "--------------------------------------------------------------------------------\n",
            "training epoch: [44 ] loss: 0.269 correct: 2780.000, total: 3000.000, accuracy: 0.927\n",
            "test epoch: [44 ] loss: 0.291 correct: 1865.000, total: 2000.000, accuracy: 0.932\n",
            "45 updating what_net, where_net is freezed\n",
            "--------------------------------------------------------------------------------\n",
            "training epoch: [45 ] loss: 0.250 correct: 2808.000, total: 3000.000, accuracy: 0.936\n",
            "test epoch: [45 ] loss: 0.269 correct: 1881.000, total: 2000.000, accuracy: 0.941\n",
            "46 updating what_net, where_net is freezed\n",
            "--------------------------------------------------------------------------------\n",
            "training epoch: [46 ] loss: 0.232 correct: 2823.000, total: 3000.000, accuracy: 0.941\n",
            "test epoch: [46 ] loss: 0.249 correct: 1894.000, total: 2000.000, accuracy: 0.947\n",
            "47 updating what_net, where_net is freezed\n",
            "--------------------------------------------------------------------------------\n",
            "training epoch: [47 ] loss: 0.217 correct: 2827.000, total: 3000.000, accuracy: 0.942\n",
            "test epoch: [47 ] loss: 0.233 correct: 1887.000, total: 2000.000, accuracy: 0.944\n",
            "48 updating what_net, where_net is freezed\n",
            "--------------------------------------------------------------------------------\n",
            "training epoch: [48 ] loss: 0.204 correct: 2856.000, total: 3000.000, accuracy: 0.952\n",
            "test epoch: [48 ] loss: 0.218 correct: 1909.000, total: 2000.000, accuracy: 0.955\n",
            "49 updating what_net, where_net is freezed\n",
            "--------------------------------------------------------------------------------\n",
            "training epoch: [49 ] loss: 0.193 correct: 2869.000, total: 3000.000, accuracy: 0.956\n",
            "test epoch: [49 ] loss: 0.206 correct: 1915.000, total: 2000.000, accuracy: 0.958\n",
            "50 updating what_net, where_net is freezed\n",
            "--------------------------------------------------------------------------------\n",
            "training epoch: [50 ] loss: 0.184 correct: 2878.000, total: 3000.000, accuracy: 0.959\n",
            "test epoch: [50 ] loss: 0.195 correct: 1917.000, total: 2000.000, accuracy: 0.959\n",
            "51 updating what_net, where_net is freezed\n",
            "--------------------------------------------------------------------------------\n",
            "training epoch: [51 ] loss: 0.175 correct: 2884.000, total: 3000.000, accuracy: 0.961\n",
            "test epoch: [51 ] loss: 0.185 correct: 1928.000, total: 2000.000, accuracy: 0.964\n",
            "52 updating what_net, where_net is freezed\n",
            "--------------------------------------------------------------------------------\n",
            "training epoch: [52 ] loss: 0.168 correct: 2889.000, total: 3000.000, accuracy: 0.963\n",
            "test epoch: [52 ] loss: 0.177 correct: 1928.000, total: 2000.000, accuracy: 0.964\n",
            "53 updating what_net, where_net is freezed\n",
            "--------------------------------------------------------------------------------\n",
            "training epoch: [53 ] loss: 0.161 correct: 2895.000, total: 3000.000, accuracy: 0.965\n",
            "test epoch: [53 ] loss: 0.169 correct: 1931.000, total: 2000.000, accuracy: 0.966\n",
            "54 updating what_net, where_net is freezed\n",
            "--------------------------------------------------------------------------------\n",
            "training epoch: [54 ] loss: 0.154 correct: 2900.000, total: 3000.000, accuracy: 0.967\n",
            "test epoch: [54 ] loss: 0.162 correct: 1936.000, total: 2000.000, accuracy: 0.968\n",
            "55 updating what_net, where_net is freezed\n",
            "--------------------------------------------------------------------------------\n",
            "training epoch: [55 ] loss: 0.149 correct: 2909.000, total: 3000.000, accuracy: 0.970\n",
            "test epoch: [55 ] loss: 0.156 correct: 1943.000, total: 2000.000, accuracy: 0.972\n",
            "56 updating what_net, where_net is freezed\n",
            "--------------------------------------------------------------------------------\n",
            "training epoch: [56 ] loss: 0.143 correct: 2896.000, total: 3000.000, accuracy: 0.965\n",
            "test epoch: [56 ] loss: 0.151 correct: 1936.000, total: 2000.000, accuracy: 0.968\n",
            "57 updating what_net, where_net is freezed\n",
            "--------------------------------------------------------------------------------\n",
            "training epoch: [57 ] loss: 0.137 correct: 2908.000, total: 3000.000, accuracy: 0.969\n",
            "test epoch: [57 ] loss: 0.145 correct: 1945.000, total: 2000.000, accuracy: 0.973\n",
            "58 updating what_net, where_net is freezed\n",
            "--------------------------------------------------------------------------------\n",
            "training epoch: [58 ] loss: 0.134 correct: 2899.000, total: 3000.000, accuracy: 0.966\n",
            "test epoch: [58 ] loss: 0.141 correct: 1940.000, total: 2000.000, accuracy: 0.970\n",
            "59 updating what_net, where_net is freezed\n",
            "--------------------------------------------------------------------------------\n",
            "training epoch: [59 ] loss: 0.130 correct: 2894.000, total: 3000.000, accuracy: 0.965\n",
            "test epoch: [59 ] loss: 0.138 correct: 1936.000, total: 2000.000, accuracy: 0.968\n",
            "60 updating what_net, where_net is freezed\n",
            "--------------------------------------------------------------------------------\n",
            "training epoch: [60 ] loss: 0.124 correct: 2915.000, total: 3000.000, accuracy: 0.972\n",
            "test epoch: [60 ] loss: 0.131 correct: 1950.000, total: 2000.000, accuracy: 0.975\n",
            "61 updating where_net, what_net is freezed\n",
            "--------------------------------------------------------------------------------\n",
            "training epoch: [61 ] loss: 0.099 correct: 2924.000, total: 3000.000, accuracy: 0.975\n",
            "test epoch: [61 ] loss: 0.107 correct: 1956.000, total: 2000.000, accuracy: 0.978\n",
            "62 updating where_net, what_net is freezed\n",
            "--------------------------------------------------------------------------------\n",
            "training epoch: [62 ] loss: 0.099 correct: 2923.000, total: 3000.000, accuracy: 0.974\n",
            "test epoch: [62 ] loss: 0.107 correct: 1956.000, total: 2000.000, accuracy: 0.978\n",
            "63 updating where_net, what_net is freezed\n",
            "--------------------------------------------------------------------------------\n",
            "training epoch: [63 ] loss: 0.098 correct: 2925.000, total: 3000.000, accuracy: 0.975\n",
            "test epoch: [63 ] loss: 0.107 correct: 1955.000, total: 2000.000, accuracy: 0.978\n",
            "64 updating where_net, what_net is freezed\n",
            "--------------------------------------------------------------------------------\n",
            "training epoch: [64 ] loss: 0.098 correct: 2922.000, total: 3000.000, accuracy: 0.974\n",
            "test epoch: [64 ] loss: 0.106 correct: 1956.000, total: 2000.000, accuracy: 0.978\n",
            "65 updating where_net, what_net is freezed\n",
            "--------------------------------------------------------------------------------\n",
            "training epoch: [65 ] loss: 0.098 correct: 2923.000, total: 3000.000, accuracy: 0.974\n",
            "test epoch: [65 ] loss: 0.106 correct: 1956.000, total: 2000.000, accuracy: 0.978\n",
            "66 updating where_net, what_net is freezed\n",
            "--------------------------------------------------------------------------------\n",
            "training epoch: [66 ] loss: 0.098 correct: 2922.000, total: 3000.000, accuracy: 0.974\n",
            "test epoch: [66 ] loss: 0.106 correct: 1956.000, total: 2000.000, accuracy: 0.978\n",
            "67 updating where_net, what_net is freezed\n",
            "--------------------------------------------------------------------------------\n",
            "training epoch: [67 ] loss: 0.098 correct: 2922.000, total: 3000.000, accuracy: 0.974\n",
            "test epoch: [67 ] loss: 0.106 correct: 1956.000, total: 2000.000, accuracy: 0.978\n",
            "68 updating where_net, what_net is freezed\n",
            "--------------------------------------------------------------------------------\n",
            "training epoch: [68 ] loss: 0.098 correct: 2922.000, total: 3000.000, accuracy: 0.974\n",
            "test epoch: [68 ] loss: 0.106 correct: 1955.000, total: 2000.000, accuracy: 0.978\n",
            "69 updating where_net, what_net is freezed\n",
            "--------------------------------------------------------------------------------\n",
            "training epoch: [69 ] loss: 0.098 correct: 2923.000, total: 3000.000, accuracy: 0.974\n",
            "test epoch: [69 ] loss: 0.106 correct: 1956.000, total: 2000.000, accuracy: 0.978\n",
            "70 updating where_net, what_net is freezed\n",
            "--------------------------------------------------------------------------------\n",
            "training epoch: [70 ] loss: 0.098 correct: 2922.000, total: 3000.000, accuracy: 0.974\n",
            "test epoch: [70 ] loss: 0.106 correct: 1954.000, total: 2000.000, accuracy: 0.977\n",
            "71 updating where_net, what_net is freezed\n",
            "--------------------------------------------------------------------------------\n",
            "training epoch: [71 ] loss: 0.097 correct: 2922.000, total: 3000.000, accuracy: 0.974\n",
            "test epoch: [71 ] loss: 0.105 correct: 1954.000, total: 2000.000, accuracy: 0.977\n",
            "72 updating where_net, what_net is freezed\n",
            "--------------------------------------------------------------------------------\n",
            "training epoch: [72 ] loss: 0.097 correct: 2922.000, total: 3000.000, accuracy: 0.974\n",
            "test epoch: [72 ] loss: 0.105 correct: 1954.000, total: 2000.000, accuracy: 0.977\n",
            "73 updating where_net, what_net is freezed\n",
            "--------------------------------------------------------------------------------\n",
            "training epoch: [73 ] loss: 0.097 correct: 2923.000, total: 3000.000, accuracy: 0.974\n",
            "test epoch: [73 ] loss: 0.105 correct: 1954.000, total: 2000.000, accuracy: 0.977\n",
            "74 updating where_net, what_net is freezed\n",
            "--------------------------------------------------------------------------------\n",
            "training epoch: [74 ] loss: 0.097 correct: 2922.000, total: 3000.000, accuracy: 0.974\n",
            "test epoch: [74 ] loss: 0.105 correct: 1955.000, total: 2000.000, accuracy: 0.978\n",
            "75 updating where_net, what_net is freezed\n",
            "--------------------------------------------------------------------------------\n",
            "training epoch: [75 ] loss: 0.097 correct: 2922.000, total: 3000.000, accuracy: 0.974\n",
            "test epoch: [75 ] loss: 0.105 correct: 1953.000, total: 2000.000, accuracy: 0.977\n",
            "76 updating where_net, what_net is freezed\n",
            "--------------------------------------------------------------------------------\n",
            "training epoch: [76 ] loss: 0.097 correct: 2922.000, total: 3000.000, accuracy: 0.974\n",
            "test epoch: [76 ] loss: 0.105 correct: 1953.000, total: 2000.000, accuracy: 0.977\n",
            "77 updating where_net, what_net is freezed\n",
            "--------------------------------------------------------------------------------\n",
            "training epoch: [77 ] loss: 0.097 correct: 2922.000, total: 3000.000, accuracy: 0.974\n",
            "test epoch: [77 ] loss: 0.105 correct: 1954.000, total: 2000.000, accuracy: 0.977\n",
            "78 updating where_net, what_net is freezed\n",
            "--------------------------------------------------------------------------------\n",
            "training epoch: [78 ] loss: 0.097 correct: 2922.000, total: 3000.000, accuracy: 0.974\n",
            "test epoch: [78 ] loss: 0.105 correct: 1953.000, total: 2000.000, accuracy: 0.977\n",
            "79 updating where_net, what_net is freezed\n",
            "--------------------------------------------------------------------------------\n",
            "training epoch: [79 ] loss: 0.097 correct: 2922.000, total: 3000.000, accuracy: 0.974\n",
            "test epoch: [79 ] loss: 0.105 correct: 1951.000, total: 2000.000, accuracy: 0.976\n",
            "80 updating where_net, what_net is freezed\n",
            "--------------------------------------------------------------------------------\n",
            "training epoch: [80 ] loss: 0.097 correct: 2922.000, total: 3000.000, accuracy: 0.974\n",
            "test epoch: [80 ] loss: 0.105 correct: 1952.000, total: 2000.000, accuracy: 0.976\n",
            "81 updating what_net, where_net is freezed\n",
            "--------------------------------------------------------------------------------\n",
            "training epoch: [81 ] loss: 0.088 correct: 2961.000, total: 3000.000, accuracy: 0.987\n",
            "test epoch: [81 ] loss: 0.095 correct: 1972.000, total: 2000.000, accuracy: 0.986\n",
            "82 updating what_net, where_net is freezed\n",
            "--------------------------------------------------------------------------------\n",
            "training epoch: [82 ] loss: 0.084 correct: 2950.000, total: 3000.000, accuracy: 0.983\n",
            "test epoch: [82 ] loss: 0.091 correct: 1967.000, total: 2000.000, accuracy: 0.984\n",
            "83 updating what_net, where_net is freezed\n",
            "--------------------------------------------------------------------------------\n",
            "training epoch: [83 ] loss: 0.080 correct: 2996.000, total: 3000.000, accuracy: 0.999\n",
            "test epoch: [83 ] loss: 0.088 correct: 1994.000, total: 2000.000, accuracy: 0.997\n",
            "84 updating what_net, where_net is freezed\n",
            "--------------------------------------------------------------------------------\n",
            "training epoch: [84 ] loss: 0.075 correct: 2979.000, total: 3000.000, accuracy: 0.993\n",
            "test epoch: [84 ] loss: 0.083 correct: 1987.000, total: 2000.000, accuracy: 0.994\n",
            "85 updating what_net, where_net is freezed\n",
            "--------------------------------------------------------------------------------\n",
            "training epoch: [85 ] loss: 0.073 correct: 2962.000, total: 3000.000, accuracy: 0.987\n",
            "test epoch: [85 ] loss: 0.080 correct: 1972.000, total: 2000.000, accuracy: 0.986\n",
            "86 updating what_net, where_net is freezed\n",
            "--------------------------------------------------------------------------------\n",
            "training epoch: [86 ] loss: 0.069 correct: 2996.000, total: 3000.000, accuracy: 0.999\n",
            "test epoch: [86 ] loss: 0.076 correct: 1995.000, total: 2000.000, accuracy: 0.998\n",
            "87 updating what_net, where_net is freezed\n",
            "--------------------------------------------------------------------------------\n",
            "training epoch: [87 ] loss: 0.066 correct: 2997.000, total: 3000.000, accuracy: 0.999\n",
            "test epoch: [87 ] loss: 0.073 correct: 1995.000, total: 2000.000, accuracy: 0.998\n",
            "88 updating what_net, where_net is freezed\n",
            "--------------------------------------------------------------------------------\n",
            "training epoch: [88 ] loss: 0.063 correct: 2996.000, total: 3000.000, accuracy: 0.999\n",
            "test epoch: [88 ] loss: 0.070 correct: 1995.000, total: 2000.000, accuracy: 0.998\n",
            "89 updating what_net, where_net is freezed\n",
            "--------------------------------------------------------------------------------\n",
            "training epoch: [89 ] loss: 0.061 correct: 2976.000, total: 3000.000, accuracy: 0.992\n",
            "test epoch: [89 ] loss: 0.068 correct: 1982.000, total: 2000.000, accuracy: 0.991\n",
            "90 updating what_net, where_net is freezed\n",
            "--------------------------------------------------------------------------------\n",
            "training epoch: [90 ] loss: 0.059 correct: 2976.000, total: 3000.000, accuracy: 0.992\n",
            "test epoch: [90 ] loss: 0.064 correct: 1984.000, total: 2000.000, accuracy: 0.992\n",
            "91 updating what_net, where_net is freezed\n",
            "--------------------------------------------------------------------------------\n",
            "training epoch: [91 ] loss: 0.058 correct: 2998.000, total: 3000.000, accuracy: 0.999\n",
            "test epoch: [91 ] loss: 0.063 correct: 1998.000, total: 2000.000, accuracy: 0.999\n",
            "92 updating what_net, where_net is freezed\n",
            "--------------------------------------------------------------------------------\n",
            "training epoch: [92 ] loss: 0.054 correct: 2993.000, total: 3000.000, accuracy: 0.998\n",
            "test epoch: [92 ] loss: 0.059 correct: 1997.000, total: 2000.000, accuracy: 0.999\n",
            "93 updating what_net, where_net is freezed\n",
            "--------------------------------------------------------------------------------\n",
            "training epoch: [93 ] loss: 0.054 correct: 2999.000, total: 3000.000, accuracy: 1.000\n",
            "test epoch: [93 ] loss: 0.058 correct: 1998.000, total: 2000.000, accuracy: 0.999\n",
            "94 updating what_net, where_net is freezed\n",
            "--------------------------------------------------------------------------------\n",
            "training epoch: [94 ] loss: 0.050 correct: 2994.000, total: 3000.000, accuracy: 0.998\n",
            "test epoch: [94 ] loss: 0.054 correct: 1998.000, total: 2000.000, accuracy: 0.999\n",
            "95 updating what_net, where_net is freezed\n",
            "--------------------------------------------------------------------------------\n",
            "training epoch: [95 ] loss: 0.048 correct: 2996.000, total: 3000.000, accuracy: 0.999\n",
            "test epoch: [95 ] loss: 0.052 correct: 1998.000, total: 2000.000, accuracy: 0.999\n",
            "Finished Training run \n"
          ],
          "name": "stdout"
        }
      ]
    },
    {
      "cell_type": "code",
      "metadata": {
        "id": "dwRqaz3Wxc23",
        "colab": {
          "base_uri": "https://localhost:8080/",
          "height": 513
        },
        "outputId": "3d9430e7-654b-4c98-8e25-b4740426cc7c"
      },
      "source": [
        "fig = plt.figure(figsize = (8,8)) \n",
        "vline_list = np.arange(every_what_epoch, epoch + every_what_epoch, every_what_epoch)\n",
        "# train_loss = np.random.randn(340)\n",
        "# test_loss = np.random.randn(340)\n",
        "epoch_list = np.arange(0, epoch+2)\n",
        "plt.plot(epoch_list,loss_curi_tr, label='train_loss')\n",
        "#plt.plot(epoch_list,loss_curi_tst, label='test_loss')\n",
        "\n",
        "plt.legend(loc='center left', bbox_to_anchor=(1, 0.5))\n",
        "plt.xlabel(\"epochs\")\n",
        "plt.ylabel(\"CE Loss\")\n",
        "#plt.vlines(vline_list,min(min(loss_curi_tr),min(loss_curi_tst)), max(max(loss_curi_tst),max(loss_curi_tr)),linestyles='dotted')\n",
        "plt.title(\"train loss\")\n",
        "plt.show()\n",
        "fig.savefig(\"train_loss_every_20_plot.pdf\")\n",
        "fig.savefig(\"train_loss_every_20_plot.png\")"
      ],
      "execution_count": 35,
      "outputs": [
        {
          "output_type": "display_data",
          "data": {
            "image/png": "[encoded data removed]",
            "text/plain": [
              "<Figure size 576x576 with 1 Axes>"
            ]
          },
          "metadata": {
            "tags": [],
            "needs_background": "light"
          }
        }
      ]
    },
    {
      "cell_type": "code",
      "metadata": {
        "id": "EZtPJ-rnRr-x",
        "colab": {
          "base_uri": "https://localhost:8080/"
        },
        "outputId": "b77e5478-2128-413a-ae8a-35bf4a211e73"
      },
      "source": [
        "analysis_data_tr"
      ],
      "execution_count": 36,
      "outputs": [
        {
          "output_type": "execute_result",
          "data": {
            "text/plain": [
              "array([[ 163,  834, 1624,  379,  433, 2567],\n",
              "       [ 266,  781, 1521,  432,  433, 2567],\n",
              "       [ 784,  389, 1003,  824,  433, 2567],\n",
              "       [ 513,  698, 1274,  515,  433, 2567],\n",
              "       [ 895,  418,  892,  795,  433, 2567],\n",
              "       [ 854,  418,  933,  795,  433, 2567],\n",
              "       [ 998,  404,  789,  809,  433, 2567],\n",
              "       [ 727,  637, 1060,  576,  433, 2567],\n",
              "       [ 984,  524,  803,  689,  433, 2567],\n",
              "       [1004,  503,  783,  710,  433, 2567],\n",
              "       [ 771,  694, 1016,  519,  433, 2567],\n",
              "       [1034,  477,  753,  736,  433, 2567],\n",
              "       [ 552,  774, 1235,  439,  433, 2567],\n",
              "       [ 933,  591,  854,  622,  433, 2567],\n",
              "       [ 573,  771, 1214,  442,  433, 2567],\n",
              "       [ 912,  632,  875,  581,  433, 2567],\n",
              "       [ 808,  694,  979,  519,  433, 2567],\n",
              "       [ 837,  687,  950,  526,  433, 2567],\n",
              "       [ 794,  707,  993,  506,  433, 2567],\n",
              "       [ 942,  599,  845,  614,  433, 2567],\n",
              "       [ 838,  699,  949,  514,  433, 2567],\n",
              "       [1476,  737,  669,  118, 2249,  751],\n",
              "       [1552,  722,  645,   81, 2385,  615],\n",
              "       [1434,  870,  638,   58, 2547,  453],\n",
              "       [1424,  907,  631,   38, 2622,  378],\n",
              "       [1428,  918,  616,   38, 2634,  366],\n",
              "       [1430,  920,  622,   28, 2688,  312],\n",
              "       [1430,  929,  608,   33, 2695,  305],\n",
              "       [1473,  927,  563,   37, 2676,  324],\n",
              "       [1467,  940,  559,   34, 2686,  314],\n",
              "       [1470,  942,  556,   32, 2693,  307],\n",
              "       [1504,  931,  531,   34, 2697,  303],\n",
              "       [1498,  947,  523,   32, 2692,  308],\n",
              "       [1513,  947,  507,   33, 2686,  314],\n",
              "       [1503,  947,  522,   28, 2717,  283],\n",
              "       [1503,  962,  510,   25, 2692,  308],\n",
              "       [1503,  965,  507,   25, 2701,  299],\n",
              "       [1494,  976,  507,   23, 2699,  301],\n",
              "       [1510,  975,  492,   23, 2693,  307],\n",
              "       [1498,  974,  506,   22, 2699,  301],\n",
              "       [1526,  972,  479,   23, 2694,  306],\n",
              "       [1662,  990,  343,    5, 2694,  306],\n",
              "       [1732,  991,  273,    4, 2694,  306],\n",
              "       [1768,  993,  237,    2, 2694,  306],\n",
              "       [1787,  993,  218,    2, 2694,  306],\n",
              "       [1814,  994,  191,    1, 2694,  306],\n",
              "       [1828,  995,  177,    0, 2694,  306],\n",
              "       [1833,  994,  172,    1, 2694,  306],\n",
              "       [1862,  994,  143,    1, 2694,  306],\n",
              "       [1874,  995,  131,    0, 2694,  306],\n",
              "       [1883,  995,  122,    0, 2694,  306],\n",
              "       [1889,  995,  116,    0, 2694,  306],\n",
              "       [1894,  995,  111,    0, 2694,  306],\n",
              "       [1900,  995,  105,    0, 2694,  306],\n",
              "       [1905,  995,  100,    0, 2694,  306],\n",
              "       [1914,  995,   91,    0, 2694,  306],\n",
              "       [1901,  995,  104,    0, 2694,  306],\n",
              "       [1913,  995,   92,    0, 2694,  306],\n",
              "       [1904,  995,  101,    0, 2694,  306],\n",
              "       [1899,  995,  106,    0, 2694,  306],\n",
              "       [1920,  995,   85,    0, 2694,  306],\n",
              "       [1920, 1004,   76,    0, 2444,  556],\n",
              "       [1919, 1004,   77,    0, 2446,  554],\n",
              "       [1920, 1005,   75,    0, 2438,  562],\n",
              "       [1918, 1004,   78,    0, 2425,  575],\n",
              "       [1919, 1004,   77,    0, 2414,  586],\n",
              "       [1918, 1004,   78,    0, 2412,  588],\n",
              "       [1918, 1004,   78,    0, 2402,  598],\n",
              "       [1918, 1004,   78,    0, 2396,  604],\n",
              "       [1918, 1005,   77,    0, 2401,  599],\n",
              "       [1917, 1005,   78,    0, 2388,  612],\n",
              "       [1917, 1005,   78,    0, 2383,  617],\n",
              "       [1917, 1005,   78,    0, 2381,  619],\n",
              "       [1918, 1005,   77,    0, 2378,  622],\n",
              "       [1917, 1005,   78,    0, 2385,  615],\n",
              "       [1917, 1005,   78,    0, 2376,  624],\n",
              "       [1917, 1005,   78,    0, 2372,  628],\n",
              "       [1917, 1005,   78,    0, 2375,  625],\n",
              "       [1918, 1004,   78,    0, 2375,  625],\n",
              "       [1917, 1005,   78,    0, 2362,  638],\n",
              "       [1917, 1005,   78,    0, 2354,  646],\n",
              "       [1956, 1005,   39,    0, 2354,  646],\n",
              "       [1945, 1005,   50,    0, 2354,  646],\n",
              "       [1991, 1005,    4,    0, 2354,  646],\n",
              "       [1974, 1005,   21,    0, 2354,  646],\n",
              "       [1957, 1005,   38,    0, 2354,  646],\n",
              "       [1991, 1005,    4,    0, 2354,  646],\n",
              "       [1992, 1005,    3,    0, 2354,  646],\n",
              "       [1991, 1005,    4,    0, 2354,  646],\n",
              "       [1971, 1005,   24,    0, 2354,  646],\n",
              "       [1971, 1005,   24,    0, 2354,  646],\n",
              "       [1993, 1005,    2,    0, 2354,  646],\n",
              "       [1988, 1005,    7,    0, 2354,  646],\n",
              "       [1994, 1005,    1,    0, 2354,  646],\n",
              "       [1989, 1005,    6,    0, 2354,  646],\n",
              "       [1991, 1005,    4,    0, 2354,  646]])"
            ]
          },
          "metadata": {
            "tags": []
          },
          "execution_count": 36
        }
      ]
    },
    {
      "cell_type": "code",
      "metadata": {
        "colab": {
          "base_uri": "https://localhost:8080/"
        },
        "id": "RQ3OzJlOOyY8",
        "outputId": "b235e15b-4be9-4822-ce3f-fb0cd5ef8130"
      },
      "source": [
        "analysis_data_tst"
      ],
      "execution_count": 37,
      "outputs": [
        {
          "output_type": "execute_result",
          "data": {
            "text/plain": [
              "array([[ 117,  496, 1117,  270,  285, 1715],\n",
              "       [ 179,  457, 1055,  309,  285, 1715],\n",
              "       [ 511,  259,  723,  507,  285, 1715],\n",
              "       [ 324,  408,  910,  358,  285, 1715],\n",
              "       [ 584,  253,  650,  513,  285, 1715],\n",
              "       [ 608,  249,  626,  517,  285, 1715],\n",
              "       [ 659,  243,  575,  523,  285, 1715],\n",
              "       [ 472,  369,  762,  397,  285, 1715],\n",
              "       [ 645,  297,  589,  469,  285, 1715],\n",
              "       [ 656,  293,  578,  473,  285, 1715],\n",
              "       [ 505,  406,  729,  360,  285, 1715],\n",
              "       [ 671,  285,  563,  481,  285, 1715],\n",
              "       [ 365,  445,  869,  321,  285, 1715],\n",
              "       [ 607,  336,  627,  430,  285, 1715],\n",
              "       [ 361,  449,  873,  317,  285, 1715],\n",
              "       [ 608,  358,  626,  408,  285, 1715],\n",
              "       [ 532,  387,  702,  379,  285, 1715],\n",
              "       [ 565,  386,  669,  380,  285, 1715],\n",
              "       [ 524,  399,  710,  367,  285, 1715],\n",
              "       [ 636,  343,  598,  423,  285, 1715],\n",
              "       [ 557,  389,  677,  377,  285, 1715],\n",
              "       [1018,  464,  445,   73, 1545,  455],\n",
              "       [1048,  476,  425,   51, 1615,  385],\n",
              "       [ 986,  559,  428,   27, 1724,  276],\n",
              "       [ 983,  579,  417,   21, 1765,  235],\n",
              "       [ 976,  586,  419,   19, 1780,  220],\n",
              "       [ 987,  588,  410,   15, 1800,  200],\n",
              "       [ 980,  591,  412,   17, 1805,  195],\n",
              "       [1020,  590,  372,   18, 1800,  200],\n",
              "       [1021,  593,  368,   18, 1810,  190],\n",
              "       [1016,  596,  372,   16, 1810,  190],\n",
              "       [1032,  592,  359,   17, 1809,  191],\n",
              "       [1030,  599,  356,   15, 1814,  186],\n",
              "       [1039,  600,  346,   15, 1817,  183],\n",
              "       [1029,  602,  359,   10, 1831,  169],\n",
              "       [1036,  605,  348,   11, 1818,  182],\n",
              "       [1038,  605,  346,   11, 1823,  177],\n",
              "       [1033,  609,  349,    9, 1818,  182],\n",
              "       [1044,  609,  338,    9, 1819,  181],\n",
              "       [1040,  611,  342,    7, 1828,  172],\n",
              "       [1049,  609,  333,    9, 1825,  175],\n",
              "       [1154,  616,  228,    2, 1825,  175],\n",
              "       [1198,  617,  184,    1, 1825,  175],\n",
              "       [1227,  617,  155,    1, 1825,  175],\n",
              "       [1248,  617,  134,    1, 1825,  175],\n",
              "       [1264,  617,  118,    1, 1825,  175],\n",
              "       [1277,  617,  105,    1, 1825,  175],\n",
              "       [1270,  617,  112,    1, 1825,  175],\n",
              "       [1291,  618,   91,    0, 1825,  175],\n",
              "       [1297,  618,   85,    0, 1825,  175],\n",
              "       [1299,  618,   83,    0, 1825,  175],\n",
              "       [1310,  618,   72,    0, 1825,  175],\n",
              "       [1310,  618,   72,    0, 1825,  175],\n",
              "       [1313,  618,   69,    0, 1825,  175],\n",
              "       [1318,  618,   64,    0, 1825,  175],\n",
              "       [1325,  618,   57,    0, 1825,  175],\n",
              "       [1318,  618,   64,    0, 1825,  175],\n",
              "       [1327,  618,   55,    0, 1825,  175],\n",
              "       [1322,  618,   60,    0, 1825,  175],\n",
              "       [1318,  618,   64,    0, 1825,  175],\n",
              "       [1332,  618,   50,    0, 1825,  175],\n",
              "       [1334,  622,   44,    0, 1678,  322],\n",
              "       [1334,  622,   44,    0, 1669,  331],\n",
              "       [1333,  622,   45,    0, 1666,  334],\n",
              "       [1334,  622,   44,    0, 1664,  336],\n",
              "       [1334,  622,   44,    0, 1651,  349],\n",
              "       [1334,  622,   44,    0, 1650,  350],\n",
              "       [1334,  622,   44,    0, 1648,  352],\n",
              "       [1333,  622,   45,    0, 1644,  356],\n",
              "       [1334,  622,   44,    0, 1642,  358],\n",
              "       [1332,  622,   46,    0, 1637,  363],\n",
              "       [1332,  622,   46,    0, 1632,  368],\n",
              "       [1332,  622,   46,    0, 1634,  366],\n",
              "       [1332,  622,   46,    0, 1634,  366],\n",
              "       [1333,  622,   45,    0, 1635,  365],\n",
              "       [1331,  622,   47,    0, 1631,  369],\n",
              "       [1331,  622,   47,    0, 1623,  377],\n",
              "       [1332,  622,   46,    0, 1621,  379],\n",
              "       [1331,  622,   47,    0, 1618,  382],\n",
              "       [1329,  622,   49,    0, 1614,  386],\n",
              "       [1330,  622,   48,    0, 1610,  390],\n",
              "       [1350,  622,   28,    0, 1610,  390],\n",
              "       [1345,  622,   33,    0, 1610,  390],\n",
              "       [1372,  622,    6,    0, 1610,  390],\n",
              "       [1365,  622,   13,    0, 1610,  390],\n",
              "       [1350,  622,   28,    0, 1610,  390],\n",
              "       [1373,  622,    5,    0, 1610,  390],\n",
              "       [1373,  622,    5,    0, 1610,  390],\n",
              "       [1373,  622,    5,    0, 1610,  390],\n",
              "       [1360,  622,   18,    0, 1610,  390],\n",
              "       [1362,  622,   16,    0, 1610,  390],\n",
              "       [1376,  622,    2,    0, 1610,  390],\n",
              "       [1375,  622,    3,    0, 1610,  390],\n",
              "       [1376,  622,    2,    0, 1610,  390],\n",
              "       [1376,  622,    2,    0, 1610,  390],\n",
              "       [1376,  622,    2,    0, 1610,  390]])"
            ]
          },
          "metadata": {
            "tags": []
          },
          "execution_count": 37
        }
      ]
    },
    {
      "cell_type": "code",
      "metadata": {
        "id": "GR7i12R_QymL"
      },
      "source": [
        "columns = [\"epochs\", \"argmax > 0.5\" ,\"argmax < 0.5\", \"focus_true_pred_true\", \"focus_false_pred_true\", \"focus_true_pred_false\", \"focus_false_pred_false\" ]\n",
        "df_train = pd.DataFrame()\n",
        "df_test = pd.DataFrame()\n",
        "df_train[columns[0]] = np.arange(0,epoch+2)\n",
        "df_train[columns[1]] = analysis_data_tr[:,-2]\n",
        "df_train[columns[2]] = analysis_data_tr[:,-1]\n",
        "df_train[columns[3]] = analysis_data_tr[:,0]/30\n",
        "df_train[columns[4]] = analysis_data_tr[:,1]/30\n",
        "df_train[columns[5]] = analysis_data_tr[:,2]/30\n",
        "df_train[columns[6]] = analysis_data_tr[:,3]/30\n",
        "\n",
        "df_test[columns[0]] = np.arange(0,epoch+2)\n",
        "df_test[columns[1]] = analysis_data_tst[:,-2]\n",
        "df_test[columns[2]] = analysis_data_tst[:,-1]\n",
        "df_test[columns[3]] = analysis_data_tst[:,0]/20\n",
        "df_test[columns[4]] = analysis_data_tst[:,1]/20\n",
        "df_test[columns[5]] = analysis_data_tst[:,2]/20\n",
        "df_test[columns[6]] = analysis_data_tst[:,3]/20"
      ],
      "execution_count": 38,
      "outputs": []
    },
    {
      "cell_type": "code",
      "metadata": {
        "id": "gYIlDhfYSg4y",
        "colab": {
          "base_uri": "https://localhost:8080/",
          "height": 404
        },
        "outputId": "080bd244-e220-4ae6-cdb9-628ba67f4c4d"
      },
      "source": [
        "# plt.figure(figsize=(12,12))\n",
        "# plt.plot(df_train[columns[0]],df_train[columns[1]], label='argmax > 0.5')\n",
        "# plt.plot(df_train[columns[0]],df_train[columns[2]], label='argmax < 0.5')\n",
        "\n",
        "# plt.legend(loc='center left', bbox_to_anchor=(1, 0.5))\n",
        "# plt.xlabel(\"epochs\")\n",
        "# plt.ylabel(\"training data\")\n",
        "# plt.title(\"On Training set\")\n",
        "# #plt.vlines(vline_list,min(min(df_train[columns[1]]),min(df_train[columns[2]])), max(max(df_train[columns[1]]),max(df_train[columns[2]])),linestyles='dotted')\n",
        "# plt.show()\n",
        "\n",
        "fig=plt.figure(figsize=(8,6))\n",
        "plt.plot(df_train[columns[0]],df_train[columns[3]], label =\"focus_true_pred_true \")\n",
        "plt.plot(df_train[columns[0]],df_train[columns[4]], label =\"focus_false_pred_true \")\n",
        "plt.plot(df_train[columns[0]],df_train[columns[5]], label =\"focus_true_pred_false \")\n",
        "plt.plot(df_train[columns[0]],df_train[columns[6]], label =\"focus_false_pred_false \")\n",
        "plt.title(\"On Train set\")\n",
        "plt.legend(loc='center left', bbox_to_anchor=(1, 0.5))\n",
        "plt.xlabel(\"epochs\")\n",
        "plt.ylabel(\"training data\")\n",
        "plt.vlines(vline_list,min(min(df_train[columns[3]]),min(df_train[columns[4]]),min(df_train[columns[5]]),min(df_train[columns[6]])), max(max(df_train[columns[3]]),max(df_train[columns[4]]),max(df_train[columns[5]]),max(df_train[columns[6]])),linestyles='dotted')\n",
        "plt.show()\n",
        "fig.savefig(\"train_analysis_every_20.pdf\")\n",
        "fig.savefig(\"train_analysis_every_20.png\")"
      ],
      "execution_count": 42,
      "outputs": [
        {
          "output_type": "display_data",
          "data": {
            "image/png": "[encoded data removed]",
            "text/plain": [
              "<Figure size 576x432 with 1 Axes>"
            ]
          },
          "metadata": {
            "tags": [],
            "needs_background": "light"
          }
        }
      ]
    },
    {
      "cell_type": "code",
      "metadata": {
        "id": "UPvuau_Id_Fi",
        "colab": {
          "base_uri": "https://localhost:8080/",
          "height": 404
        },
        "outputId": "9a6456db-c391-4a88-9605-9ab96938298d"
      },
      "source": [
        "# plt.figure(figsize=(12,12))\n",
        "# plt.plot(df_test[columns[0]],df_test[columns[1]], label='argmax > 0.5')\n",
        "# plt.plot(df_test[columns[0]],df_test[columns[2]], label='argmax < 0.5')\n",
        "\n",
        "# plt.legend(loc='center left', bbox_to_anchor=(1, 0.5))\n",
        "# plt.xlabel(\"epochs\")\n",
        "# plt.ylabel(\"test data\")\n",
        "# plt.title(\"On Testing set\")\n",
        "# #plt.vlines(vline_list,min(min(df_test[columns[1]]),min(df_test[columns[2]])), max(max(df_test[columns[1]]),max(df_test[columns[2]])),linestyles='dotted')\n",
        "# plt.show()\n",
        "\n",
        "fig=plt.figure(figsize=(8,6))\n",
        "plt.plot(df_test[columns[0]],df_test[columns[3]], label =\"focus_true_pred_true \")\n",
        "plt.plot(df_test[columns[0]],df_test[columns[4]], label =\"focus_false_pred_true \")\n",
        "plt.plot(df_test[columns[0]],df_test[columns[5]], label =\"focus_true_pred_false \")\n",
        "plt.plot(df_test[columns[0]],df_test[columns[6]], label =\"focus_false_pred_false \")\n",
        "plt.title(\"On Test set\")\n",
        "plt.legend(loc='center left', bbox_to_anchor=(1, 0.5))\n",
        "plt.xlabel(\"epochs\")\n",
        "plt.ylabel(\"testing data\")\n",
        "plt.vlines(vline_list,min(min(df_test[columns[3]]),min(df_test[columns[4]]),min(df_test[columns[5]]),min(df_test[columns[6]])), max(max(df_test[columns[3]]),max(df_test[columns[4]]),max(df_test[columns[5]]),max(df_test[columns[6]])),linestyles='dotted')\n",
        "plt.show()\n",
        "fig.savefig(\"test_analysis_every_20.pdf\")\n",
        "fig.savefig(\"test_analysis_every_20.png\")"
      ],
      "execution_count": 43,
      "outputs": [
        {
          "output_type": "display_data",
          "data": {
            "image/png": "[encoded data removed]",
            "text/plain": [
              "<Figure size 576x432 with 1 Axes>"
            ]
          },
          "metadata": {
            "tags": [],
            "needs_background": "light"
          }
        }
      ]
    },
    {
      "cell_type": "code",
      "metadata": {
        "id": "hGgOLQseShsw"
      },
      "source": [
        ""
      ],
      "execution_count": null,
      "outputs": []
    }
  ]
}