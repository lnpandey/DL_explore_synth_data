{
  "nbformat": 4,
  "nbformat_minor": 0,
  "metadata": {
    "accelerator": "GPU",
    "colab": {
      "name": "Simultaneous_blob_data.ipynb",
      "provenance": [],
      "collapsed_sections": [
        "H0VVjc9qFqf_"
      ],
      "toc_visible": true
    },
    "kernelspec": {
      "display_name": "Python 3",
      "name": "python3"
    }
  },
  "cells": [
    {
      "cell_type": "code",
      "metadata": {
        "id": "VAYu3ISwwGks"
      },
      "source": [
        "import numpy as np\n",
        "import pandas as pd\n",
        "\n",
        "import torch\n",
        "import torchvision\n",
        "from torch.utils.data import Dataset, DataLoader\n",
        "from torchvision import transforms, utils\n",
        "import torch.nn as nn\n",
        "import torch.nn.functional as F\n",
        "import torch.optim as optim\n",
        "\n",
        "from matplotlib import pyplot as plt\n",
        "%matplotlib inline"
      ],
      "execution_count": 1,
      "outputs": []
    },
    {
      "cell_type": "markdown",
      "metadata": {
        "id": "H0VVjc9qFqf_"
      },
      "source": [
        "# Create blob Train and Test data"
      ]
    },
    {
      "cell_type": "code",
      "metadata": {
        "id": "mpdNNb8wFp56"
      },
      "source": [
        "# mu1 = np.array([3,3,3,3,0])\n",
        "# sigma1 = np.array([[1,1,1,1,1],[1,16,1,1,1],[1,1,1,1,1],[1,1,1,1,1],[1,1,1,1,1]])\n",
        "\n",
        "# mu2 = np.array([4,4,4,4,0])\n",
        "# sigma2 = np.array([[16,1,1,1,1],[1,1,1,1,1],[1,1,1,1,1],[1,1,1,1,1],[1,1,1,1,1]])\n",
        "\n",
        "# mu3 = np.array([10,5,5,10,0])\n",
        "# sigma3 = np.array([[1,1,1,1,1],[1,16,1,1,1],[1,1,1,1,1],[1,1,1,1,1],[1,1,1,1,1]])\n",
        "\n",
        "# mu4 = np.array([-10,-10,-10,-10,0])\n",
        "# sigma4 = np.array([[1,1,1,1,1],[1,16,1,1,1],[1,1,1,1,1],[1,1,1,1,1],[1,1,1,1,1]])\n",
        "\n",
        "# mu5 = np.array([-21,4,4,-21,0])\n",
        "# sigma5 = np.array([[16,1,1,1,1],[1,1,1,1,1],[1,1,1,1,1],[1,1,1,1,1],[1,1,1,1,1]])\n",
        "\n",
        "# mu6 = np.array([-10,18,18,-10,0])\n",
        "# sigma6 = np.array([[1,1,1,1,1],[1,16,1,1,1],[1,1,1,1,1],[1,1,1,1,1],[1,1,1,1,1]])\n",
        "\n",
        "# mu7 = np.array([4,20,4,20,0])\n",
        "# sigma7 = np.array([[16,1,1,1,1],[1,1,1,1,1],[1,1,1,1,1],[1,1,1,1,1],[1,1,1,1,1]])\n",
        "\n",
        "# mu8 = np.array([4,-20,-20,4,0])\n",
        "# sigma8 = np.array([[16,1,1,1,1],[1,1,1,1,1],[1,1,1,1,1],[1,1,1,1,1],[1,1,1,1,1]])\n",
        "\n",
        "# mu9 = np.array([20,20,20,20,0])\n",
        "# sigma9 = np.array([[1,1,1,1,1],[1,16,1,1,1],[1,1,1,1,1],[1,1,1,1,1],[1,1,1,1,1]])\n",
        "\n",
        "# mu10 = np.array([20,-10,-10,20,0])\n",
        "# sigma10 = np.array([[1,1,1,1,1],[1,16,1,1,1],[1,1,1,1,1],[1,1,1,1,1],[1,1,1,1,1]])\n",
        "\n",
        "\n",
        "\n",
        "# sample1 = np.random.multivariate_normal(mean=mu1,cov= sigma1,size=500)\n",
        "# sample2 = np.random.multivariate_normal(mean=mu2,cov= sigma2,size=500)\n",
        "# sample3 = np.random.multivariate_normal(mean=mu3,cov= sigma3,size=500)\n",
        "# sample4 = np.random.multivariate_normal(mean=mu4,cov= sigma4,size=500)\n",
        "# sample5 = np.random.multivariate_normal(mean=mu5,cov= sigma5,size=500)\n",
        "# sample6 = np.random.multivariate_normal(mean=mu6,cov= sigma6,size=500)\n",
        "# sample7 = np.random.multivariate_normal(mean=mu7,cov= sigma7,size=500)\n",
        "# sample8 = np.random.multivariate_normal(mean=mu8,cov= sigma8,size=500)\n",
        "# sample9 = np.random.multivariate_normal(mean=mu9,cov= sigma9,size=500)\n",
        "# sample10 = np.random.multivariate_normal(mean=mu10,cov= sigma10,size=500)"
      ],
      "execution_count": 2,
      "outputs": []
    },
    {
      "cell_type": "code",
      "metadata": {
        "id": "GVwzqqNxFwzN"
      },
      "source": [
        "# X = np.concatenate((sample1,sample2,sample3,sample4,sample5,sample6,sample7,sample8,sample9,sample10),axis=0)\n",
        "# Y = np.concatenate((np.zeros((500,1)),np.ones((500,1)),2*np.ones((500,1)),3*np.ones((500,1)),4*np.ones((500,1)),\n",
        "#                     5*np.ones((500,1)),6*np.ones((500,1)),7*np.ones((500,1)),8*np.ones((500,1)),9*np.ones((500,1))),axis=0).astype(int)\n",
        "# print(X.shape,Y.shape)\n",
        "# plt.scatter(sample1[:,0],sample1[:,1],label=\"class_0\")\n",
        "# plt.scatter(sample2[:,0],sample2[:,1],label=\"class_1\")\n",
        "# plt.scatter(sample3[:,0],sample3[:,1],label=\"class_2\")\n",
        "# plt.scatter(sample4[:,0],sample4[:,1],label=\"class_3\")\n",
        "# plt.scatter(sample5[:,0],sample5[:,1],label=\"class_4\")\n",
        "# plt.scatter(sample6[:,0],sample6[:,1],label=\"class_5\")\n",
        "# plt.scatter(sample7[:,0],sample7[:,1],label=\"class_6\")\n",
        "# plt.scatter(sample8[:,0],sample8[:,1],label=\"class_7\")\n",
        "# plt.scatter(sample9[:,0],sample9[:,1],label=\"class_8\")\n",
        "# plt.scatter(sample10[:,0],sample10[:,1],label=\"class_9\")\n",
        "# plt.legend(bbox_to_anchor=(1.05, 1), loc='upper left')"
      ],
      "execution_count": 3,
      "outputs": []
    },
    {
      "cell_type": "code",
      "metadata": {
        "id": "kdLONe1TFwcv"
      },
      "source": [
        "# class SyntheticDataset(Dataset):\n",
        "#   \"\"\"MosaicDataset dataset.\"\"\"\n",
        "\n",
        "#   def __init__(self, x, y):\n",
        "#     \"\"\"\n",
        "#       Args:\n",
        "#         csv_file (string): Path to the csv file with annotations.\n",
        "#         root_dir (string): Directory with all the images.\n",
        "#         transform (callable, optional): Optional transform to be applied\n",
        "#             on a sample.\n",
        "#     \"\"\"\n",
        "#     self.x = x\n",
        "#     self.y = y\n",
        "#     #self.fore_idx = fore_idx\n",
        "    \n",
        "#   def __len__(self):\n",
        "#     return len(self.y)\n",
        "\n",
        "#   def __getitem__(self, idx):\n",
        "#     return self.x[idx] , self.y[idx] #, self.fore_idx[idx]"
      ],
      "execution_count": 4,
      "outputs": []
    },
    {
      "cell_type": "code",
      "metadata": {
        "id": "am81Wr7lFwTn"
      },
      "source": [
        "# trainset = SyntheticDataset(X,Y)\n",
        "# trainloader = torch.utils.data.DataLoader(trainset, batch_size=100, shuffle=True)\n",
        "# classes = ('zero','one','two','three','four','five','six','seven','eight','nine')\n",
        "\n",
        "# foreground_classes = {'zero','one','two'}\n",
        "# fg_used = '012'\n",
        "# fg1, fg2, fg3 = 0,1,2\n",
        "\n",
        "\n",
        "# all_classes = {'zero','one','two','three','four','five','six','seven','eight','nine'}\n",
        "# background_classes = all_classes - foreground_classes\n",
        "# background_classes"
      ],
      "execution_count": 5,
      "outputs": []
    },
    {
      "cell_type": "code",
      "metadata": {
        "id": "_lopYyy7G--q"
      },
      "source": [
        "# dataiter = iter(trainloader)\n",
        "# background_data=[]\n",
        "# background_label=[]\n",
        "# foreground_data=[]\n",
        "# foreground_label=[]\n",
        "# batch_size=100\n",
        "\n",
        "# for i in range(50):\n",
        "#   images, labels = dataiter.next()\n",
        "#   for j in range(batch_size):\n",
        "#     if(classes[labels[j]] in background_classes):\n",
        "#       img = images[j].tolist()\n",
        "#       background_data.append(img)\n",
        "#       background_label.append(labels[j])\n",
        "#     else:\n",
        "#       img = images[j].tolist()\n",
        "#       foreground_data.append(img)\n",
        "#       foreground_label.append(labels[j])\n",
        "            \n",
        "# foreground_data = torch.tensor(foreground_data)\n",
        "# foreground_label = torch.tensor(foreground_label)\n",
        "# background_data = torch.tensor(background_data)\n",
        "# background_label = torch.tensor(background_label)"
      ],
      "execution_count": 6,
      "outputs": []
    },
    {
      "cell_type": "code",
      "metadata": {
        "id": "JnT8fc5DMAa0"
      },
      "source": [
        "# def create_mosaic_img(bg_idx,fg_idx,fg): \n",
        "#   \"\"\"\n",
        "#   bg_idx : list of indexes of background_data[] to be used as background images in mosaic\n",
        "#   fg_idx : index of image to be used as foreground image from foreground data\n",
        "#   fg : at what position/index foreground image has to be stored out of 0-8\n",
        "#   \"\"\"\n",
        "#   image_list=[]\n",
        "#   j=0\n",
        "#   for i in range(9):\n",
        "#     if i != fg:\n",
        "#       image_list.append(background_data[bg_idx[j]])\n",
        "#       j+=1\n",
        "#     else: \n",
        "#       image_list.append(foreground_data[fg_idx])\n",
        "#       label = foreground_label[fg_idx] - fg1  # minus fg1 because our fore ground classes are fg1,fg2,fg3 but we have to store it as 0,1,2\n",
        "#   #image_list = np.concatenate(image_list ,axis=0)\n",
        "#   image_list = torch.stack(image_list) \n",
        "#   return image_list,label"
      ],
      "execution_count": 7,
      "outputs": []
    },
    {
      "cell_type": "code",
      "metadata": {
        "id": "kd4r_sXhMDCu"
      },
      "source": [
        "# # number of data points in bg class and fg class\n",
        "# nbg = 500*7\n",
        "# nfg   = 500*3\n",
        "\n",
        "# print(nbg, nfg, nbg+nfg)"
      ],
      "execution_count": 8,
      "outputs": []
    },
    {
      "cell_type": "code",
      "metadata": {
        "id": "2zq2xQCBMC7j"
      },
      "source": [
        "# desired_num = 3000\n",
        "# mosaic_list_of_images =[]      # list of mosaic images, each mosaic image is saved as list of 9 images\n",
        "# fore_idx =[]                   # list of indexes at which foreground image is present in a mosaic image i.e from 0 to 9               \n",
        "# mosaic_label=[]                # label of mosaic image = foreground class present in that mosaic\n",
        "# list_set_labels = [] \n",
        "# for i in range(desired_num):\n",
        "#   set_idx = set()\n",
        "#   np.random.seed(i)\n",
        "#   bg_idx = np.random.randint(0,nbg,8)\n",
        "#   set_idx = set(background_label[bg_idx].tolist())\n",
        "#   fg_idx = np.random.randint(0,nfg)\n",
        "#   set_idx.add(foreground_label[fg_idx].item())\n",
        "#   fg = np.random.randint(0,9)\n",
        "#   fore_idx.append(fg)\n",
        "#   image_list,label = create_mosaic_img(bg_idx,fg_idx,fg)\n",
        "#   mosaic_list_of_images.append(image_list)\n",
        "#   mosaic_label.append(label)\n",
        "#   list_set_labels.append(set_idx)\n"
      ],
      "execution_count": 9,
      "outputs": []
    },
    {
      "cell_type": "code",
      "metadata": {
        "id": "8pqXIPlNMCyz"
      },
      "source": [
        "# desired_num = 2000\n",
        "# test_mosaic_list_of_images =[]      # list of mosaic images, each mosaic image is saved as list of 9 images\n",
        "# test_fore_idx =[]                   # list of indexes at which foreground image is present in a mosaic image i.e from 0 to 9               \n",
        "# test_mosaic_label=[]                # label of mosaic image = foreground class present in that mosaic\n",
        "# test_list_set_labels = [] \n",
        "# for i in range(desired_num):\n",
        "#   set_idx = set()\n",
        "#   np.random.seed(i+3000)\n",
        "#   bg_idx = np.random.randint(0,nbg,8)\n",
        "#   set_idx = set(background_label[bg_idx].tolist())\n",
        "#   fg_idx = np.random.randint(0,nfg)\n",
        "#   set_idx.add(foreground_label[fg_idx].item())\n",
        "#   fg = np.random.randint(0,9)\n",
        "#   test_fore_idx.append(fg)\n",
        "#   test_image_list,test_label = create_mosaic_img(bg_idx,fg_idx,fg)\n",
        "#   test_mosaic_list_of_images.append(test_image_list)\n",
        "#   test_mosaic_label.append(test_label)\n",
        "#   test_list_set_labels.append(set_idx)\n"
      ],
      "execution_count": 10,
      "outputs": []
    },
    {
      "cell_type": "code",
      "metadata": {
        "id": "Sxq58WbtMmKq"
      },
      "source": [
        "# data =  [{\"mosaic_list\":mosaic_list_of_images, \"mosaic_label\": mosaic_label, \"fore_idx\":fore_idx}]\n",
        "# np.save(\"train_blob_data.npy\",data)"
      ],
      "execution_count": 11,
      "outputs": []
    },
    {
      "cell_type": "code",
      "metadata": {
        "id": "hNnqO6yKMCoR"
      },
      "source": [
        "# data =  [{\"mosaic_list\":test_mosaic_list_of_images, \"mosaic_label\": test_mosaic_label, \"fore_idx\":test_fore_idx}]\n",
        "# np.save(\"test_blob_data.npy\",data)"
      ],
      "execution_count": 12,
      "outputs": []
    },
    {
      "cell_type": "code",
      "metadata": {
        "id": "DSZpS3F5Jnhz"
      },
      "source": [
        "# data = [{\"X\":X,\"Y\":Y}]\n",
        "# np.save(\"blob_data.npy\",data)"
      ],
      "execution_count": 13,
      "outputs": []
    },
    {
      "cell_type": "markdown",
      "metadata": {
        "id": "y4ZKaqzq_vcD"
      },
      "source": [
        "# load mosaic data"
      ]
    },
    {
      "cell_type": "code",
      "metadata": {
        "id": "6_dZKEaJAQ2Y"
      },
      "source": [
        "class MosaicDataset1(Dataset):\n",
        "  \"\"\"MosaicDataset dataset.\"\"\"\n",
        "\n",
        "  def __init__(self, mosaic_list, mosaic_label,fore_idx):\n",
        "    \"\"\"\n",
        "      Args:\n",
        "        csv_file (string): Path to the csv file with annotations.\n",
        "        root_dir (string): Directory with all the images.\n",
        "        transform (callable, optional): Optional transform to be applied\n",
        "            on a sample.\n",
        "    \"\"\"\n",
        "    self.mosaic = mosaic_list\n",
        "    self.label = mosaic_label\n",
        "    self.fore_idx = fore_idx\n",
        "    \n",
        "  def __len__(self):\n",
        "    return len(self.label)\n",
        "\n",
        "  def __getitem__(self, idx):\n",
        "    return self.mosaic[idx] , self.label[idx] , self.fore_idx[idx]"
      ],
      "execution_count": 14,
      "outputs": []
    },
    {
      "cell_type": "code",
      "metadata": {
        "id": "9tn26Ne1KXs4"
      },
      "source": [
        "class SyntheticDataset(Dataset):\n",
        "  \"\"\"MosaicDataset dataset.\"\"\"\n",
        "\n",
        "  def __init__(self, x, y):\n",
        "    \"\"\"\n",
        "      Args:\n",
        "        csv_file (string): Path to the csv file with annotations.\n",
        "        root_dir (string): Directory with all the images.\n",
        "        transform (callable, optional): Optional transform to be applied\n",
        "            on a sample.\n",
        "    \"\"\"\n",
        "    self.x = x\n",
        "    self.y = y\n",
        "    #self.fore_idx = fore_idx\n",
        "    \n",
        "  def __len__(self):\n",
        "    return len(self.y)\n",
        "\n",
        "  def __getitem__(self, idx):\n",
        "    return self.x[idx] , self.y[idx] #, self.fore_idx[idx]"
      ],
      "execution_count": 15,
      "outputs": []
    },
    {
      "cell_type": "code",
      "metadata": {
        "id": "UWxCb_h8AQpf"
      },
      "source": [
        "train_data = np.load(\"train_blob_data.npy\",allow_pickle=True)\n",
        "test_data = np.load(\"test_blob_data.npy\",allow_pickle=True)\n",
        "data = np.load(\"blob_data.npy\",allow_pickle=True)"
      ],
      "execution_count": 16,
      "outputs": []
    },
    {
      "cell_type": "code",
      "metadata": {
        "id": "WR0bl63TAQI9"
      },
      "source": [
        "train_mosaic_list_of_images = train_data[0][\"mosaic_list\"]\n",
        "train_mosaic_label = train_data[0][\"mosaic_label\"]\n",
        "train_fore_idx = train_data[0][\"fore_idx\"]\n",
        "\n",
        "\n",
        "test_mosaic_list_of_images = test_data[0][\"mosaic_list\"]\n",
        "test_mosaic_label = test_data[0][\"mosaic_label\"]\n",
        "test_fore_idx = test_data[0][\"fore_idx\"]\n",
        "X = data[0][\"X\"]\n",
        "Y = data[0][\"Y\"]"
      ],
      "execution_count": 17,
      "outputs": []
    },
    {
      "cell_type": "code",
      "metadata": {
        "id": "GVS6xb4fAZ_P"
      },
      "source": [
        "batch = 250\n",
        "tr_msd = MosaicDataset1(train_mosaic_list_of_images, train_mosaic_label, train_fore_idx)\n",
        "train_loader = DataLoader( tr_msd,batch_size= batch ,shuffle=True)"
      ],
      "execution_count": 18,
      "outputs": []
    },
    {
      "cell_type": "code",
      "metadata": {
        "id": "Mn1Xql2gNrUH"
      },
      "source": [
        "batch = 250\n",
        "tst_msd = MosaicDataset1(test_mosaic_list_of_images, test_mosaic_label, test_fore_idx)\n",
        "test_loader = DataLoader( tst_msd,batch_size= batch ,shuffle=True)"
      ],
      "execution_count": 19,
      "outputs": []
    },
    {
      "cell_type": "code",
      "metadata": {
        "id": "hQNLGobaKa2s"
      },
      "source": [
        "dset = SyntheticDataset(X,Y)\n",
        "dtloader = DataLoader(dset,batch_size =batch,shuffle=True )"
      ],
      "execution_count": 20,
      "outputs": []
    },
    {
      "cell_type": "markdown",
      "metadata": {
        "id": "ARLPPASQ_2gB"
      },
      "source": [
        "# models"
      ]
    },
    {
      "cell_type": "code",
      "metadata": {
        "id": "T1Y0mCQzjSV0"
      },
      "source": [
        "class Module1(nn.Module):\n",
        "  def __init__(self):\n",
        "    super(Module1, self).__init__()\n",
        "    self.fc1 = nn.Linear(5, 100)\n",
        "    self.fc2 = nn.Linear(100, 1)\n",
        "\n",
        "  def forward(self, z):\n",
        "    x = torch.zeros([batch,9],dtype=torch.float64)\n",
        "    y = torch.zeros([batch,5], dtype=torch.float64)\n",
        "    x,y = x.to(\"cuda\"),y.to(\"cuda\")\n",
        "    for i in range(9):\n",
        "      x[:,i] = self.helper(z[:,i])[:,0]\n",
        "    x = F.softmax(x,dim=1)   # alphas\n",
        "    \n",
        "\n",
        "    for i in range(9):            \n",
        "      x1 = x[:,i]          \n",
        "      y = y + torch.mul(x1[:,None],z[:,i])\n",
        "    return y , x \n",
        "  \n",
        "  def helper(self,x):\n",
        "    x = F.relu(self.fc1(x))\n",
        "    x = self.fc2(x)\n",
        "    return x\n",
        "      \n"
      ],
      "execution_count": 21,
      "outputs": []
    },
    {
      "cell_type": "code",
      "metadata": {
        "id": "zt9YwV5rjSK_"
      },
      "source": [
        " class Module2(nn.Module):\n",
        "  def __init__(self):\n",
        "    super(Module2, self).__init__()\n",
        "    self.fc1 = nn.Linear(5, 100)\n",
        "    self.fc2 = nn.Linear(100, 3)\n",
        "\n",
        "  def forward(self,y):  \n",
        "    y = F.relu(self.fc1(y))\n",
        "    y = self.fc2(y)\n",
        "    return y\n"
      ],
      "execution_count": 22,
      "outputs": []
    },
    {
      "cell_type": "code",
      "metadata": {
        "id": "UJbdW7cijRsr"
      },
      "source": [
        "torch.manual_seed(1234)\n",
        "where_net = Module1().double()\n",
        "where_net = where_net.to(\"cuda\")\n",
        "# print(net.parameters)\n",
        "torch.manual_seed(1234)\n",
        "what_net = Module2().double()\n",
        "what_net = what_net.to(\"cuda\")"
      ],
      "execution_count": 23,
      "outputs": []
    },
    {
      "cell_type": "code",
      "metadata": {
        "id": "ehAfQnNwgFYX"
      },
      "source": [
        "def calculate_attn_loss(dataloader,what,where,criter):\n",
        "  what.eval()\n",
        "  where.eval()\n",
        "  r_loss = 0\n",
        "  alphas = []\n",
        "  lbls = []\n",
        "  pred = []\n",
        "  fidices = []\n",
        "  correct = 0\n",
        "  tot = 0\n",
        "  with torch.no_grad():\n",
        "    for i, data in enumerate(dataloader, 0):\n",
        "      inputs, labels,fidx = data\n",
        "      lbls.append(labels)\n",
        "      fidices.append(fidx)\n",
        "      inputs = inputs.double()\n",
        "      inputs, labels = inputs.to(\"cuda\"),labels.to(\"cuda\")\n",
        "      avg,alpha = where(inputs)\n",
        "      outputs = what(avg)\n",
        "      _, predicted = torch.max(outputs.data, 1)\n",
        "      correct += sum(predicted == labels)\n",
        "      tot += len(predicted)\n",
        "      pred.append(predicted.cpu().numpy())\n",
        "      alphas.append(alpha.cpu().numpy())\n",
        "      loss = criter(outputs, labels)\n",
        "      r_loss += loss.item()\n",
        "  alphas = np.concatenate(alphas,axis=0)\n",
        "  pred = np.concatenate(pred,axis=0)\n",
        "  lbls = np.concatenate(lbls,axis=0)\n",
        "  fidices = np.concatenate(fidices,axis=0)\n",
        "  #print(alphas.shape,pred.shape,lbls.shape,fidices.shape) \n",
        "  analysis = analyse_data(alphas,lbls,pred,fidices)\n",
        "  return r_loss/i,analysis,correct.item(),tot,correct.item()/tot"
      ],
      "execution_count": 24,
      "outputs": []
    },
    {
      "cell_type": "code",
      "metadata": {
        "id": "6e9HQJMzxBhp"
      },
      "source": [
        "def analyse_data(alphas,lbls,predicted,f_idx):\n",
        "    '''\n",
        "       analysis data is created here\n",
        "    '''\n",
        "    batch = len(predicted)\n",
        "    amth,alth,ftpt,ffpt,ftpf,ffpf = 0,0,0,0,0,0\n",
        "    for j in range (batch):\n",
        "      focus = np.argmax(alphas[j])\n",
        "      if(alphas[j][focus] >= 0.5):\n",
        "        amth +=1\n",
        "      else:\n",
        "        alth +=1\n",
        "      if(focus == f_idx[j] and predicted[j] == lbls[j]):\n",
        "        ftpt += 1\n",
        "      elif(focus != f_idx[j] and predicted[j] == lbls[j]):\n",
        "        ffpt +=1\n",
        "      elif(focus == f_idx[j] and predicted[j] != lbls[j]):\n",
        "        ftpf +=1\n",
        "      elif(focus != f_idx[j] and predicted[j] != lbls[j]):\n",
        "        ffpf +=1\n",
        "    #print(sum(predicted==lbls),ftpt+ffpt)\n",
        "    return [ftpt,ffpt,ftpf,ffpf,amth,alth]"
      ],
      "execution_count": 25,
      "outputs": []
    },
    {
      "cell_type": "code",
      "metadata": {
        "id": "cu6qMiWpK1IA"
      },
      "source": [
        "def cal_blob_accuracy(dat_loader):\n",
        "  net = Module2().double()\n",
        "  net = net.to(\"cuda\")\n",
        "  net.load_state_dict(torch.load(\"Net.pt\"))\n",
        "  pred1 = []\n",
        "  lbls1 = []\n",
        "  net.eval()\n",
        "  with torch.no_grad():\n",
        "    for i1, data1 in enumerate(dat_loader, 0):\n",
        "      inputs1, labels1= data1\n",
        "      inputs1 = inputs1.double()\n",
        "      inputs1, labels1 = inputs1.to(\"cuda\"),labels1.to(\"cuda\")\n",
        "      lbls1.append(labels1.cpu().numpy())\n",
        "      outputs1 = net(inputs1)\n",
        "      _, predicted1 = torch.max(outputs1.data, 1)\n",
        "      pred1.append(predicted1.cpu().numpy())\n",
        "  #print(np.shape(lbls))\n",
        "  lbls1  = np.concatenate(lbls1,axis=0)\n",
        "  #lbls = lbls[:,0]\n",
        "  #print(lbls.shape)\n",
        "  pred1 = np.concatenate(pred1,axis=0)\n",
        "  idxs1 = np.logical_or(np.logical_or(lbls1==0,lbls1==1),lbls1 ==2)\n",
        "  #print(idxs)\n",
        "  acc1 = (np.sum(lbls1[idxs1] == pred1[idxs1]) / (len(lbls1[idxs1])) )*100\n",
        "\n",
        "  print(\"Accuracy on blob 0,1,2 classes is \",acc1 )\n",
        "  return acc1"
      ],
      "execution_count": 26,
      "outputs": []
    },
    {
      "cell_type": "markdown",
      "metadata": {
        "id": "a2AlGgRa_6_H"
      },
      "source": [
        "# training"
      ]
    },
    {
      "cell_type": "code",
      "metadata": {
        "colab": {
          "base_uri": "https://localhost:8080/"
        },
        "id": "MOfxUJZ_eFKw",
        "outputId": "42780a7c-7477-43b3-88f3-93e93524b33b"
      },
      "source": [
        "# instantiate optimizer\n",
        "optimizer_where = optim.RMSprop(where_net.parameters(),lr =0.001)#,nesterov=True)\n",
        "optimizer_what = optim.RMSprop(what_net.parameters(), lr=0.001)#,nesterov=True)\n",
        " \n",
        "\n",
        "criterion = nn.CrossEntropyLoss()\n",
        "acti = []\n",
        "analysis_data_tr = []\n",
        "analysis_data_tst = []\n",
        "loss_curi_tst = []\n",
        "loss_curi_tr = []\n",
        "blob_classify_acc  = []\n",
        "epochs = 450\n",
        "\n",
        "every_what_epoch = 20\n",
        "\n",
        "# calculate zeroth epoch loss and FTPT values\n",
        "running_loss,anlys_data,correct,total,accuracy = calculate_attn_loss(train_loader,what_net,where_net,criterion)\n",
        "print('training epoch: [%d ] loss: %.3f correct: %.3f, total: %.3f, accuracy: %.3f' %(0,running_loss,correct,total,accuracy)) \n",
        "loss_curi_tr.append(running_loss)\n",
        "analysis_data_tr.append(anlys_data)\n",
        "\n",
        "\n",
        "\n",
        "running_loss,anlys_data,correct,total,accuracy = calculate_attn_loss(test_loader,what_net,where_net,criterion)\n",
        "print('test epoch: [%d ] loss: %.3f correct: %.3f, total: %.3f, accuracy: %.3f' %(0,running_loss,correct,total,accuracy)) \n",
        "\n",
        "loss_curi_tst.append(running_loss)\n",
        "analysis_data_tst.append(anlys_data)\n",
        "\n",
        "\n",
        "# training starts \n",
        "for epoch in range(epochs): # loop over the dataset multiple times\n",
        "  ep_lossi = []\n",
        "  running_loss = 0.0\n",
        "  what_net.train()\n",
        "  where_net.train()\n",
        "  # if ((epoch) % (every_what_epoch*2) ) <= every_what_epoch-1 :\n",
        "  #   print(epoch+1,\"updating what_net, where_net is freezed\")\n",
        "  #   print(\"--\"*40)\n",
        "  # elif ((epoch) % (every_what_epoch*2)) > every_what_epoch-1 :\n",
        "  #   print(epoch+1,\"updating where_net, what_net is freezed\")\n",
        "  #   print(\"--\"*40)\n",
        "  for i, data in enumerate(train_loader, 0):\n",
        "    # get the inputs\n",
        "    inputs, labels,_ = data\n",
        "    inputs = inputs.double()\n",
        "    inputs, labels = inputs.to(\"cuda\"),labels.to(\"cuda\")\n",
        "        \n",
        "    # zero the parameter gradients\n",
        "    optimizer_where.zero_grad()\n",
        "    optimizer_what.zero_grad()\n",
        "      \n",
        "    # forward + backward + optimize\n",
        "    avg, alpha = where_net(inputs)\n",
        "    outputs = what_net(avg)\n",
        "    loss = criterion(outputs, labels)\n",
        "\n",
        "    # print statistics\n",
        "    running_loss += loss.item()\n",
        "    loss.backward()\n",
        "    optimizer_what.step()\n",
        "    optimizer_where.step()\n",
        "  running_loss_tr,anls_data,correct,total,accuracy = calculate_attn_loss(train_loader,what_net,where_net,criterion)\n",
        "  analysis_data_tr.append(anls_data)\n",
        "  loss_curi_tr.append(running_loss_tr)   #loss per epoch\n",
        "  print('training epoch: [%d ] loss: %.3f correct: %.3f, total: %.3f, accuracy: %.3f' %(epoch+1,running_loss_tr,correct,total,accuracy)) \n",
        "\n",
        "\n",
        "  # calculate loss for test data\n",
        "  running_loss_tst,anls_data,correct,total,accuracy = calculate_attn_loss(test_loader,what_net,where_net,criterion)\n",
        "  analysis_data_tst.append(anls_data)\n",
        "  loss_curi_tst.append(running_loss_tst)   #loss per epoch\n",
        "  print('test epoch: [%d ] loss: %.3f correct: %.3f, total: %.3f, accuracy: %.3f' %(epoch+1,running_loss_tst,correct,total,accuracy)) \n",
        "  \n",
        "  #torch.save(what_net.state_dict(),\"Net.pt\")\n",
        "  #blob_classify_acc.append(cal_blob_accuracy(dtloader))\n",
        "  \n",
        "  if running_loss_tr<=0.05:\n",
        "    break\n",
        "  # if ((epoch) % (every_what_epoch*2) ) <= every_what_epoch-1 :\n",
        "  #   scheduler_what.step(running_loss_val)\n",
        "  # elif ( (epoch) % (every_what_epoch*2)) > every_what_epoch-1 :\n",
        "  #   scheduler_where.step(running_loss_val)\n",
        "print('Finished Training run ')\n",
        "analysis_data_tr = np.array(analysis_data_tr) \n",
        "analysis_data_tst = np.array(analysis_data_tst)"
      ],
      "execution_count": 27,
      "outputs": [
        {
          "output_type": "stream",
          "text": [
            "training epoch: [0 ] loss: 1.938 correct: 969.000, total: 3000.000, accuracy: 0.323\n",
            "test epoch: [0 ] loss: 2.015 correct: 645.000, total: 2000.000, accuracy: 0.323\n",
            "training epoch: [1 ] loss: 1.096 correct: 1299.000, total: 3000.000, accuracy: 0.433\n",
            "test epoch: [1 ] loss: 1.146 correct: 855.000, total: 2000.000, accuracy: 0.427\n",
            "training epoch: [2 ] loss: 0.896 correct: 2189.000, total: 3000.000, accuracy: 0.730\n",
            "test epoch: [2 ] loss: 0.948 correct: 1467.000, total: 2000.000, accuracy: 0.734\n",
            "training epoch: [3 ] loss: 0.723 correct: 2483.000, total: 3000.000, accuracy: 0.828\n",
            "test epoch: [3 ] loss: 0.765 correct: 1644.000, total: 2000.000, accuracy: 0.822\n",
            "training epoch: [4 ] loss: 0.600 correct: 2568.000, total: 3000.000, accuracy: 0.856\n",
            "test epoch: [4 ] loss: 0.633 correct: 1694.000, total: 2000.000, accuracy: 0.847\n",
            "training epoch: [5 ] loss: 0.521 correct: 2541.000, total: 3000.000, accuracy: 0.847\n",
            "test epoch: [5 ] loss: 0.550 correct: 1680.000, total: 2000.000, accuracy: 0.840\n",
            "training epoch: [6 ] loss: 0.462 correct: 2615.000, total: 3000.000, accuracy: 0.872\n",
            "test epoch: [6 ] loss: 0.487 correct: 1730.000, total: 2000.000, accuracy: 0.865\n",
            "training epoch: [7 ] loss: 0.417 correct: 2649.000, total: 3000.000, accuracy: 0.883\n",
            "test epoch: [7 ] loss: 0.438 correct: 1758.000, total: 2000.000, accuracy: 0.879\n",
            "training epoch: [8 ] loss: 0.379 correct: 2663.000, total: 3000.000, accuracy: 0.888\n",
            "test epoch: [8 ] loss: 0.398 correct: 1763.000, total: 2000.000, accuracy: 0.881\n",
            "training epoch: [9 ] loss: 0.345 correct: 2697.000, total: 3000.000, accuracy: 0.899\n",
            "test epoch: [9 ] loss: 0.364 correct: 1790.000, total: 2000.000, accuracy: 0.895\n",
            "training epoch: [10 ] loss: 0.313 correct: 2808.000, total: 3000.000, accuracy: 0.936\n",
            "test epoch: [10 ] loss: 0.330 correct: 1859.000, total: 2000.000, accuracy: 0.929\n",
            "training epoch: [11 ] loss: 0.288 correct: 2885.000, total: 3000.000, accuracy: 0.962\n",
            "test epoch: [11 ] loss: 0.305 correct: 1916.000, total: 2000.000, accuracy: 0.958\n",
            "training epoch: [12 ] loss: 0.269 correct: 2955.000, total: 3000.000, accuracy: 0.985\n",
            "test epoch: [12 ] loss: 0.284 correct: 1965.000, total: 2000.000, accuracy: 0.983\n",
            "training epoch: [13 ] loss: 0.248 correct: 2862.000, total: 3000.000, accuracy: 0.954\n",
            "test epoch: [13 ] loss: 0.263 correct: 1897.000, total: 2000.000, accuracy: 0.949\n",
            "training epoch: [14 ] loss: 0.232 correct: 2952.000, total: 3000.000, accuracy: 0.984\n",
            "test epoch: [14 ] loss: 0.247 correct: 1962.000, total: 2000.000, accuracy: 0.981\n",
            "training epoch: [15 ] loss: 0.219 correct: 2841.000, total: 3000.000, accuracy: 0.947\n",
            "test epoch: [15 ] loss: 0.233 correct: 1875.000, total: 2000.000, accuracy: 0.938\n",
            "training epoch: [16 ] loss: 0.204 correct: 2987.000, total: 3000.000, accuracy: 0.996\n",
            "test epoch: [16 ] loss: 0.217 correct: 1995.000, total: 2000.000, accuracy: 0.998\n",
            "training epoch: [17 ] loss: 0.190 correct: 2953.000, total: 3000.000, accuracy: 0.984\n",
            "test epoch: [17 ] loss: 0.202 correct: 1964.000, total: 2000.000, accuracy: 0.982\n",
            "training epoch: [18 ] loss: 0.179 correct: 2944.000, total: 3000.000, accuracy: 0.981\n",
            "test epoch: [18 ] loss: 0.191 correct: 1953.000, total: 2000.000, accuracy: 0.977\n",
            "training epoch: [19 ] loss: 0.168 correct: 2938.000, total: 3000.000, accuracy: 0.979\n",
            "test epoch: [19 ] loss: 0.180 correct: 1952.000, total: 2000.000, accuracy: 0.976\n",
            "training epoch: [20 ] loss: 0.159 correct: 2941.000, total: 3000.000, accuracy: 0.980\n",
            "test epoch: [20 ] loss: 0.172 correct: 1955.000, total: 2000.000, accuracy: 0.978\n",
            "training epoch: [21 ] loss: 0.150 correct: 2985.000, total: 3000.000, accuracy: 0.995\n",
            "test epoch: [21 ] loss: 0.162 correct: 1990.000, total: 2000.000, accuracy: 0.995\n",
            "training epoch: [22 ] loss: 0.145 correct: 2991.000, total: 3000.000, accuracy: 0.997\n",
            "test epoch: [22 ] loss: 0.156 correct: 1996.000, total: 2000.000, accuracy: 0.998\n",
            "training epoch: [23 ] loss: 0.134 correct: 2982.000, total: 3000.000, accuracy: 0.994\n",
            "test epoch: [23 ] loss: 0.146 correct: 1982.000, total: 2000.000, accuracy: 0.991\n",
            "training epoch: [24 ] loss: 0.128 correct: 2984.000, total: 3000.000, accuracy: 0.995\n",
            "test epoch: [24 ] loss: 0.139 correct: 1991.000, total: 2000.000, accuracy: 0.996\n",
            "training epoch: [25 ] loss: 0.121 correct: 2995.000, total: 3000.000, accuracy: 0.998\n",
            "test epoch: [25 ] loss: 0.132 correct: 1996.000, total: 2000.000, accuracy: 0.998\n",
            "training epoch: [26 ] loss: 0.116 correct: 2995.000, total: 3000.000, accuracy: 0.998\n",
            "test epoch: [26 ] loss: 0.127 correct: 1997.000, total: 2000.000, accuracy: 0.999\n",
            "training epoch: [27 ] loss: 0.109 correct: 2997.000, total: 3000.000, accuracy: 0.999\n",
            "test epoch: [27 ] loss: 0.120 correct: 1997.000, total: 2000.000, accuracy: 0.999\n",
            "training epoch: [28 ] loss: 0.104 correct: 2997.000, total: 3000.000, accuracy: 0.999\n",
            "test epoch: [28 ] loss: 0.114 correct: 1997.000, total: 2000.000, accuracy: 0.999\n",
            "training epoch: [29 ] loss: 0.100 correct: 2999.000, total: 3000.000, accuracy: 1.000\n",
            "test epoch: [29 ] loss: 0.110 correct: 1997.000, total: 2000.000, accuracy: 0.999\n",
            "training epoch: [30 ] loss: 0.095 correct: 2999.000, total: 3000.000, accuracy: 1.000\n",
            "test epoch: [30 ] loss: 0.105 correct: 1997.000, total: 2000.000, accuracy: 0.999\n",
            "training epoch: [31 ] loss: 0.090 correct: 2999.000, total: 3000.000, accuracy: 1.000\n",
            "test epoch: [31 ] loss: 0.100 correct: 1997.000, total: 2000.000, accuracy: 0.999\n",
            "training epoch: [32 ] loss: 0.087 correct: 3000.000, total: 3000.000, accuracy: 1.000\n",
            "test epoch: [32 ] loss: 0.096 correct: 1997.000, total: 2000.000, accuracy: 0.999\n",
            "training epoch: [33 ] loss: 0.082 correct: 2999.000, total: 3000.000, accuracy: 1.000\n",
            "test epoch: [33 ] loss: 0.091 correct: 1997.000, total: 2000.000, accuracy: 0.999\n",
            "training epoch: [34 ] loss: 0.079 correct: 3000.000, total: 3000.000, accuracy: 1.000\n",
            "test epoch: [34 ] loss: 0.088 correct: 1997.000, total: 2000.000, accuracy: 0.999\n",
            "training epoch: [35 ] loss: 0.076 correct: 2999.000, total: 3000.000, accuracy: 1.000\n",
            "test epoch: [35 ] loss: 0.084 correct: 1997.000, total: 2000.000, accuracy: 0.999\n",
            "training epoch: [36 ] loss: 0.072 correct: 3000.000, total: 3000.000, accuracy: 1.000\n",
            "test epoch: [36 ] loss: 0.080 correct: 1997.000, total: 2000.000, accuracy: 0.999\n",
            "training epoch: [37 ] loss: 0.069 correct: 3000.000, total: 3000.000, accuracy: 1.000\n",
            "test epoch: [37 ] loss: 0.077 correct: 1998.000, total: 2000.000, accuracy: 0.999\n",
            "training epoch: [38 ] loss: 0.066 correct: 3000.000, total: 3000.000, accuracy: 1.000\n",
            "test epoch: [38 ] loss: 0.073 correct: 1998.000, total: 2000.000, accuracy: 0.999\n",
            "training epoch: [39 ] loss: 0.063 correct: 3000.000, total: 3000.000, accuracy: 1.000\n",
            "test epoch: [39 ] loss: 0.070 correct: 1997.000, total: 2000.000, accuracy: 0.999\n",
            "training epoch: [40 ] loss: 0.060 correct: 3000.000, total: 3000.000, accuracy: 1.000\n",
            "test epoch: [40 ] loss: 0.067 correct: 1998.000, total: 2000.000, accuracy: 0.999\n",
            "training epoch: [41 ] loss: 0.058 correct: 3000.000, total: 3000.000, accuracy: 1.000\n",
            "test epoch: [41 ] loss: 0.064 correct: 1998.000, total: 2000.000, accuracy: 0.999\n",
            "training epoch: [42 ] loss: 0.055 correct: 3000.000, total: 3000.000, accuracy: 1.000\n",
            "test epoch: [42 ] loss: 0.061 correct: 1998.000, total: 2000.000, accuracy: 0.999\n",
            "training epoch: [43 ] loss: 0.053 correct: 3000.000, total: 3000.000, accuracy: 1.000\n",
            "test epoch: [43 ] loss: 0.059 correct: 1998.000, total: 2000.000, accuracy: 0.999\n",
            "training epoch: [44 ] loss: 0.050 correct: 3000.000, total: 3000.000, accuracy: 1.000\n",
            "test epoch: [44 ] loss: 0.056 correct: 1998.000, total: 2000.000, accuracy: 0.999\n",
            "training epoch: [45 ] loss: 0.049 correct: 3000.000, total: 3000.000, accuracy: 1.000\n",
            "test epoch: [45 ] loss: 0.055 correct: 1998.000, total: 2000.000, accuracy: 0.999\n",
            "Finished Training run \n"
          ],
          "name": "stdout"
        }
      ]
    },
    {
      "cell_type": "code",
      "metadata": {
        "id": "dwRqaz3Wxc23",
        "colab": {
          "base_uri": "https://localhost:8080/",
          "height": 513
        },
        "outputId": "46844c54-5e36-4190-d289-da8a58e27168"
      },
      "source": [
        "fig = plt.figure(figsize = (8,8)) \n",
        "#vline_list = np.arange(every_what_epoch, epoch + every_what_epoch, every_what_epoch)\n",
        "# train_loss = np.random.randn(340)\n",
        "# test_loss = np.random.randn(340)\n",
        "epoch_list = np.arange(0, epoch+2)\n",
        "plt.plot(epoch_list,loss_curi_tr, label='train_loss')\n",
        "#plt.plot(epoch_list,loss_curi_tst, label='test_loss')\n",
        "\n",
        "plt.legend(loc='center left', bbox_to_anchor=(1, 0.5))\n",
        "plt.xlabel(\"epochs\")\n",
        "plt.ylabel(\"CE Loss\")\n",
        "#plt.vlines(vline_list,min(min(loss_curi_tr),min(loss_curi_tst)), max(max(loss_curi_tst),max(loss_curi_tr)),linestyles='dotted')\n",
        "plt.title(\"train loss\")\n",
        "plt.show()\n",
        "fig.savefig(\"train_loss_plot.pdf\")\n",
        "fig.savefig(\"train_loss_plot.png\")"
      ],
      "execution_count": 28,
      "outputs": [
        {
          "output_type": "display_data",
          "data": {
            "image/png": "[encoded data removed]",
            "text/plain": [
              "<Figure size 576x576 with 1 Axes>"
            ]
          },
          "metadata": {
            "tags": [],
            "needs_background": "light"
          }
        }
      ]
    },
    {
      "cell_type": "code",
      "metadata": {
        "id": "EZtPJ-rnRr-x",
        "colab": {
          "base_uri": "https://localhost:8080/"
        },
        "outputId": "a8e61ce6-b756-48e3-9032-19e0fdab58be"
      },
      "source": [
        "analysis_data_tr"
      ],
      "execution_count": 29,
      "outputs": [
        {
          "output_type": "execute_result",
          "data": {
            "text/plain": [
              "array([[ 162,  807, 1708,  323,  467, 2533],\n",
              "       [1299,    0, 1701,    0, 2469,  531],\n",
              "       [2189,    0,  811,    0, 2980,   20],\n",
              "       [2483,    0,  516,    1, 2962,   38],\n",
              "       [2568,    0,  431,    1, 2971,   29],\n",
              "       [2539,    2,  458,    1, 2919,   81],\n",
              "       [2613,    2,  384,    1, 2927,   73],\n",
              "       [2647,    2,  350,    1, 2931,   69],\n",
              "       [2661,    2,  336,    1, 2924,   76],\n",
              "       [2690,    7,  302,    1, 2843,  157],\n",
              "       [2805,    3,  191,    1, 2914,   86],\n",
              "       [2882,    3,  114,    1, 2890,  110],\n",
              "       [2952,    3,   44,    1, 2901,   99],\n",
              "       [2859,    3,  137,    1, 2888,  112],\n",
              "       [2949,    3,   47,    1, 2889,  111],\n",
              "       [2838,    3,  158,    1, 2924,   76],\n",
              "       [2984,    3,   12,    1, 2905,   95],\n",
              "       [2950,    3,   46,    1, 2926,   74],\n",
              "       [2940,    4,   56,    0, 2908,   92],\n",
              "       [2936,    2,   61,    1, 2941,   59],\n",
              "       [2937,    4,   59,    0, 2938,   62],\n",
              "       [2982,    3,   15,    0, 2951,   49],\n",
              "       [2988,    3,    9,    0, 2947,   53],\n",
              "       [2979,    3,   18,    0, 2941,   59],\n",
              "       [2981,    3,   16,    0, 2964,   36],\n",
              "       [2992,    3,    5,    0, 2945,   55],\n",
              "       [2992,    3,    5,    0, 2962,   38],\n",
              "       [2994,    3,    3,    0, 2961,   39],\n",
              "       [2995,    2,    3,    0, 2964,   36],\n",
              "       [2997,    2,    1,    0, 2967,   33],\n",
              "       [2998,    1,    1,    0, 2982,   18],\n",
              "       [2998,    1,    1,    0, 2984,   16],\n",
              "       [2999,    1,    0,    0, 2983,   17],\n",
              "       [2999,    0,    1,    0, 2988,   12],\n",
              "       [3000,    0,    0,    0, 2992,    8],\n",
              "       [2999,    0,    1,    0, 2996,    4],\n",
              "       [3000,    0,    0,    0, 2995,    5],\n",
              "       [3000,    0,    0,    0, 2993,    7],\n",
              "       [3000,    0,    0,    0, 2995,    5],\n",
              "       [3000,    0,    0,    0, 2997,    3],\n",
              "       [3000,    0,    0,    0, 2995,    5],\n",
              "       [3000,    0,    0,    0, 2996,    4],\n",
              "       [3000,    0,    0,    0, 2997,    3],\n",
              "       [3000,    0,    0,    0, 2997,    3],\n",
              "       [3000,    0,    0,    0, 2997,    3],\n",
              "       [3000,    0,    0,    0, 2997,    3]])"
            ]
          },
          "metadata": {
            "tags": []
          },
          "execution_count": 29
        }
      ]
    },
    {
      "cell_type": "code",
      "metadata": {
        "colab": {
          "base_uri": "https://localhost:8080/"
        },
        "id": "RQ3OzJlOOyY8",
        "outputId": "3c990be7-81e2-420e-8fa7-4dd1515039ca"
      },
      "source": [
        "analysis_data_tst"
      ],
      "execution_count": 30,
      "outputs": [
        {
          "output_type": "execute_result",
          "data": {
            "text/plain": [
              "array([[ 101,  544, 1101,  254,  284, 1716],\n",
              "       [ 855,    0, 1145,    0, 1643,  357],\n",
              "       [1467,    0,  533,    0, 1988,   12],\n",
              "       [1644,    0,  356,    0, 1964,   36],\n",
              "       [1693,    1,  306,    0, 1974,   26],\n",
              "       [1678,    2,  320,    0, 1934,   66],\n",
              "       [1727,    3,  270,    0, 1939,   61],\n",
              "       [1755,    3,  242,    0, 1944,   56],\n",
              "       [1759,    4,  237,    0, 1936,   64],\n",
              "       [1778,   12,  209,    1, 1868,  132],\n",
              "       [1855,    4,  141,    0, 1932,   68],\n",
              "       [1910,    6,   84,    0, 1907,   93],\n",
              "       [1959,    6,   35,    0, 1919,   81],\n",
              "       [1890,    7,  103,    0, 1904,   96],\n",
              "       [1954,    8,   38,    0, 1906,   94],\n",
              "       [1870,    5,  125,    0, 1934,   66],\n",
              "       [1987,    8,    5,    0, 1917,   83],\n",
              "       [1960,    4,   36,    0, 1938,   62],\n",
              "       [1946,    7,   47,    0, 1919,   81],\n",
              "       [1949,    3,   48,    0, 1957,   43],\n",
              "       [1951,    4,   45,    0, 1944,   56],\n",
              "       [1988,    2,   10,    0, 1959,   41],\n",
              "       [1994,    2,    4,    0, 1957,   43],\n",
              "       [1979,    3,   18,    0, 1954,   46],\n",
              "       [1990,    1,    9,    0, 1968,   32],\n",
              "       [1993,    3,    4,    0, 1953,   47],\n",
              "       [1996,    1,    3,    0, 1968,   32],\n",
              "       [1996,    1,    3,    0, 1968,   32],\n",
              "       [1996,    1,    3,    0, 1970,   30],\n",
              "       [1996,    1,    3,    0, 1968,   32],\n",
              "       [1996,    1,    3,    0, 1977,   23],\n",
              "       [1996,    1,    3,    0, 1979,   21],\n",
              "       [1996,    1,    3,    0, 1978,   22],\n",
              "       [1996,    1,    3,    0, 1983,   17],\n",
              "       [1997,    0,    3,    0, 1987,   13],\n",
              "       [1997,    0,    3,    0, 1988,   12],\n",
              "       [1997,    0,    3,    0, 1989,   11],\n",
              "       [1998,    0,    2,    0, 1986,   14],\n",
              "       [1998,    0,    2,    0, 1990,   10],\n",
              "       [1997,    0,    3,    0, 1992,    8],\n",
              "       [1998,    0,    2,    0, 1990,   10],\n",
              "       [1998,    0,    2,    0, 1992,    8],\n",
              "       [1998,    0,    2,    0, 1994,    6],\n",
              "       [1998,    0,    2,    0, 1994,    6],\n",
              "       [1998,    0,    2,    0, 1996,    4],\n",
              "       [1998,    0,    2,    0, 1997,    3]])"
            ]
          },
          "metadata": {
            "tags": []
          },
          "execution_count": 30
        }
      ]
    },
    {
      "cell_type": "code",
      "metadata": {
        "id": "GR7i12R_QymL"
      },
      "source": [
        "columns = [\"epochs\", \"argmax > 0.5\" ,\"argmax < 0.5\", \"focus_true_pred_true\", \"focus_false_pred_true\", \"focus_true_pred_false\", \"focus_false_pred_false\" ]\n",
        "df_train = pd.DataFrame()\n",
        "df_test = pd.DataFrame()\n",
        "df_train[columns[0]] = np.arange(0,epoch+2)\n",
        "df_train[columns[1]] = analysis_data_tr[:,-2]\n",
        "df_train[columns[2]] = analysis_data_tr[:,-1]\n",
        "df_train[columns[3]] = analysis_data_tr[:,0]/30\n",
        "df_train[columns[4]] = analysis_data_tr[:,1]/30\n",
        "df_train[columns[5]] = analysis_data_tr[:,2]/30\n",
        "df_train[columns[6]] = analysis_data_tr[:,3]/30\n",
        "\n",
        "df_test[columns[0]] = np.arange(0,epoch+2)\n",
        "df_test[columns[1]] = analysis_data_tst[:,-2]\n",
        "df_test[columns[2]] = analysis_data_tst[:,-1]\n",
        "df_test[columns[3]] = analysis_data_tst[:,0]/20\n",
        "df_test[columns[4]] = analysis_data_tst[:,1]/20\n",
        "df_test[columns[5]] = analysis_data_tst[:,2]/20\n",
        "df_test[columns[6]] = analysis_data_tst[:,3]/20"
      ],
      "execution_count": 31,
      "outputs": []
    },
    {
      "cell_type": "code",
      "metadata": {
        "id": "gYIlDhfYSg4y",
        "colab": {
          "base_uri": "https://localhost:8080/",
          "height": 404
        },
        "outputId": "32a726a0-543c-4fba-ba33-70f3a2c95d42"
      },
      "source": [
        "# plt.figure(figsize=(12,12))\n",
        "# plt.plot(df_train[columns[0]],df_train[columns[1]], label='argmax > 0.5')\n",
        "# plt.plot(df_train[columns[0]],df_train[columns[2]], label='argmax < 0.5')\n",
        "\n",
        "# plt.legend(loc='center left', bbox_to_anchor=(1, 0.5))\n",
        "# plt.xlabel(\"epochs\")\n",
        "# plt.ylabel(\"training data\")\n",
        "# plt.title(\"On Training set\")\n",
        "# #plt.vlines(vline_list,min(min(df_train[columns[1]]),min(df_train[columns[2]])), max(max(df_train[columns[1]]),max(df_train[columns[2]])),linestyles='dotted')\n",
        "# plt.show()\n",
        "\n",
        "fig=plt.figure(figsize=(8,6))\n",
        "plt.plot(df_train[columns[0]],df_train[columns[3]], label =\"focus_true_pred_true \")\n",
        "plt.plot(df_train[columns[0]],df_train[columns[4]], label =\"focus_false_pred_true \")\n",
        "plt.plot(df_train[columns[0]],df_train[columns[5]], label =\"focus_true_pred_false \")\n",
        "plt.plot(df_train[columns[0]],df_train[columns[6]], label =\"focus_false_pred_false \")\n",
        "plt.title(\"On Train set\")\n",
        "plt.legend(loc='center left', bbox_to_anchor=(1, 0.5))\n",
        "plt.xlabel(\"epochs\")\n",
        "plt.ylabel(\"training data\")\n",
        "#plt.vlines(vline_list,min(min(df_train[columns[3]]),min(df_train[columns[4]]),min(df_train[columns[5]]),min(df_train[columns[6]])), max(max(df_train[columns[3]]),max(df_train[columns[4]]),max(df_train[columns[5]]),max(df_train[columns[6]])),linestyles='dotted')\n",
        "plt.show()\n",
        "fig.savefig(\"train_analysis.pdf\")\n",
        "fig.savefig(\"train_analysis.png\")"
      ],
      "execution_count": 32,
      "outputs": [
        {
          "output_type": "display_data",
          "data": {
            "image/png": "[encoded data removed]",
            "text/plain": [
              "<Figure size 576x432 with 1 Axes>"
            ]
          },
          "metadata": {
            "tags": [],
            "needs_background": "light"
          }
        }
      ]
    },
    {
      "cell_type": "code",
      "metadata": {
        "id": "UPvuau_Id_Fi",
        "colab": {
          "base_uri": "https://localhost:8080/",
          "height": 404
        },
        "outputId": "20e7732e-f59a-45b4-e150-3a1c1ff944e7"
      },
      "source": [
        "# plt.figure(figsize=(12,12))\n",
        "# plt.plot(df_test[columns[0]],df_test[columns[1]], label='argmax > 0.5')\n",
        "# plt.plot(df_test[columns[0]],df_test[columns[2]], label='argmax < 0.5')\n",
        "\n",
        "# plt.legend(loc='center left', bbox_to_anchor=(1, 0.5))\n",
        "# plt.xlabel(\"epochs\")\n",
        "# plt.ylabel(\"test data\")\n",
        "# plt.title(\"On Testing set\")\n",
        "# #plt.vlines(vline_list,min(min(df_test[columns[1]]),min(df_test[columns[2]])), max(max(df_test[columns[1]]),max(df_test[columns[2]])),linestyles='dotted')\n",
        "# plt.show()\n",
        "\n",
        "fig=plt.figure(figsize=(8,6))\n",
        "plt.plot(df_test[columns[0]],df_test[columns[3]], label =\"focus_true_pred_true \")\n",
        "plt.plot(df_test[columns[0]],df_test[columns[4]], label =\"focus_false_pred_true \")\n",
        "plt.plot(df_test[columns[0]],df_test[columns[5]], label =\"focus_true_pred_false \")\n",
        "plt.plot(df_test[columns[0]],df_test[columns[6]], label =\"focus_false_pred_false \")\n",
        "plt.title(\"On Test set\")\n",
        "plt.legend(loc='center left', bbox_to_anchor=(1, 0.5))\n",
        "plt.xlabel(\"epochs\")\n",
        "plt.ylabel(\"testing data\")\n",
        "#plt.vlines(vline_list,min(min(df_test[columns[3]]),min(df_test[columns[4]]),min(df_test[columns[5]]),min(df_test[columns[6]])), max(max(df_test[columns[3]]),max(df_test[columns[4]]),max(df_test[columns[5]]),max(df_test[columns[6]])),linestyles='dotted')\n",
        "plt.show()\n",
        "fig.savefig(\"test_analysis.pdf\")\n",
        "fig.savefig(\"test_analysis.png\")"
      ],
      "execution_count": 33,
      "outputs": [
        {
          "output_type": "display_data",
          "data": {
            "image/png": "[encoded data removed]",
            "text/plain": [
              "<Figure size 576x432 with 1 Axes>"
            ]
          },
          "metadata": {
            "tags": [],
            "needs_background": "light"
          }
        }
      ]
    },
    {
      "cell_type": "code",
      "metadata": {
        "id": "hGgOLQseShsw"
      },
      "source": [
        "# fig = plt.figure(figsize = (8,8)) \n",
        "# vline_list = np.arange(every_what_epoch, epoch + every_what_epoch, every_what_epoch)\n",
        "# # train_loss = np.random.randn(340)\n",
        "# # test_loss = np.random.randn(340)\n",
        "# epoch_list = np.arange(0, epoch+1)\n",
        "# plt.plot(epoch_list, blob_classify_acc , label='blob_classify_acc')\n",
        "# #plt.plot(epoch_list,loss_curi_tst, label='test_loss')\n",
        "\n",
        "# # plt.legend(loc='center left', bbox_to_anchor=(1, 0.5))\n",
        "# plt.legend()\n",
        "# plt.xlabel(\"epochs\")\n",
        "# plt.ylabel(\"accuracy\")\n",
        "# #plt.vlines(vline_list,min(min(loss_curi_tr),min(loss_curi_tst)), max(max(loss_curi_tst),max(loss_curi_tr)),linestyles='dotted')\n",
        "# plt.title(\"blob 3 class classify accuracy\")\n",
        "# plt.show()\n",
        "# fig.savefig(\"blob_classify_acc_every_20_plot.pdf\")\n",
        "# fig.savefig(\"blob_classify_acc_every_20_plot.png\")"
      ],
      "execution_count": 34,
      "outputs": []
    },
    {
      "cell_type": "code",
      "metadata": {
        "id": "yanNSw3vO7j4"
      },
      "source": [
        ""
      ],
      "execution_count": 34,
      "outputs": []
    }
  ]
}