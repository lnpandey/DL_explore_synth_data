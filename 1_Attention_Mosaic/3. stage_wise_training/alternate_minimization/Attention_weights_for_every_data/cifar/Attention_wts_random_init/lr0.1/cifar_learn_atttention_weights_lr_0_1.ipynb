{
  "nbformat": 4,
  "nbformat_minor": 0,
  "metadata": {
    "accelerator": "GPU",
    "colab": {
      "name": "cifar_learn_atttention_weights_3.ipynb",
      "provenance": [],
      "collapsed_sections": []
    },
    "kernelspec": {
      "display_name": "Python 3",
      "name": "python3"
    },
    "language_info": {
      "name": "python"
    }
  },
  "cells": [
    {
      "cell_type": "code",
      "metadata": {
        "id": "BWIyC9Ip_bcq"
      },
      "source": [
        "import numpy as np\n",
        "import pandas as pd\n",
        "\n",
        "import torch\n",
        "import torchvision\n",
        "from torch.utils.data import Dataset, DataLoader\n",
        "from torchvision import transforms, utils\n",
        "import torch.nn as nn\n",
        "import torch.nn.functional as F\n",
        "import torch.optim as optim\n",
        "\n",
        "from matplotlib import pyplot as plt\n",
        "%matplotlib inline"
      ],
      "execution_count": 1,
      "outputs": []
    },
    {
      "cell_type": "code",
      "metadata": {
        "colab": {
          "base_uri": "https://localhost:8080/"
        },
        "id": "cgw1f4rVkGr9",
        "outputId": "8753c2d5-b94c-420b-b1d1-19739f18c89c"
      },
      "source": [
        "transform = transforms.Compose(\n",
        "    [transforms.ToTensor(),\n",
        "     transforms.Normalize((0.5, 0.5, 0.5), (0.5, 0.5, 0.5))])\n",
        "\n",
        "trainset = torchvision.datasets.CIFAR10(root='./data', train=True, download=True, transform=transform)"
      ],
      "execution_count": 2,
      "outputs": [
        {
          "output_type": "stream",
          "text": [
            "Files already downloaded and verified\n"
          ],
          "name": "stdout"
        }
      ]
    },
    {
      "cell_type": "code",
      "metadata": {
        "id": "D-xlWYTKkQEn"
      },
      "source": [
        "trainloader = torch.utils.data.DataLoader(trainset, batch_size=10, shuffle=True)\n",
        "\n",
        "\n",
        "classes = ('plane', 'car', 'bird', 'cat', 'deer', 'dog', 'frog', 'horse', 'ship', 'truck')\n",
        "\n",
        "foreground_classes = {'plane', 'car', 'bird'}\n",
        "#foreground_classes = {'bird', 'cat', 'deer'}\n",
        "background_classes = {'cat', 'deer', 'dog', 'frog', 'horse', 'ship', 'truck'}\n",
        "#background_classes = {'plane', 'car', 'dog', 'frog', 'horse','ship', 'truck'}\n",
        "\n",
        "fg1,fg2,fg3 = 0,1,2"
      ],
      "execution_count": 3,
      "outputs": []
    },
    {
      "cell_type": "code",
      "metadata": {
        "id": "zrX68qhikUbz"
      },
      "source": [
        "dataiter = iter(trainloader)\n",
        "background_data=[]\n",
        "background_label=[]\n",
        "foreground_data=[]\n",
        "foreground_label=[]\n",
        "batch_size=10\n",
        "\n",
        "for i in range(5000):\n",
        "  images, labels = dataiter.next()\n",
        "  for j in range(batch_size):\n",
        "    if(classes[labels[j]] in background_classes):\n",
        "      img = images[j].tolist()\n",
        "      background_data.append(img)\n",
        "      background_label.append(labels[j])\n",
        "    else:\n",
        "      img = images[j].tolist()\n",
        "      foreground_data.append(img)\n",
        "      foreground_label.append(labels[j])\n",
        "            \n",
        "foreground_data = torch.tensor(foreground_data)\n",
        "foreground_label = torch.tensor(foreground_label)\n",
        "background_data = torch.tensor(background_data)\n",
        "background_label = torch.tensor(background_label)"
      ],
      "execution_count": 4,
      "outputs": []
    },
    {
      "cell_type": "code",
      "metadata": {
        "id": "eD-QJkvnkgyk"
      },
      "source": [
        "def create_mosaic_img(bg_idx,fg_idx,fg): \n",
        "  \"\"\"\n",
        "  bg_idx : list of indexes of background_data[] to be used as background images in mosaic\n",
        "  fg_idx : index of image to be used as foreground image from foreground data\n",
        "  fg : at what position/index foreground image has to be stored out of 0-8\n",
        "  \"\"\"\n",
        "  image_list=[]\n",
        "  j=0\n",
        "  for i in range(9):\n",
        "    if i != fg:\n",
        "      image_list.append(background_data[bg_idx[j]])#.type(\"torch.DoubleTensor\"))\n",
        "      j+=1\n",
        "    else: \n",
        "      image_list.append(foreground_data[fg_idx])#.type(\"torch.DoubleTensor\"))\n",
        "      label = foreground_label[fg_idx]-fg1  # minus 7 because our fore ground classes are 7,8,9 but we have to store it as 0,1,2\n",
        "  #image_list = np.concatenate(image_list ,axis=0)\n",
        "  image_list = torch.stack(image_list) \n",
        "  return image_list,label"
      ],
      "execution_count": 5,
      "outputs": []
    },
    {
      "cell_type": "code",
      "metadata": {
        "id": "Zs10rfXHkli2"
      },
      "source": [
        "desired_num = 30000\n",
        "mosaic_list_of_images =[]      # list of mosaic images, each mosaic image is saved as list of 9 images\n",
        "fore_idx =[]                   # list of indexes at which foreground image is present in a mosaic image i.e from 0 to 9               \n",
        "mosaic_label=[]                # label of mosaic image = foreground class present in that mosaic\n",
        "for i in range(desired_num):\n",
        "  np.random.seed(i)\n",
        "  bg_idx = np.random.randint(0,35000,8)\n",
        "  fg_idx = np.random.randint(0,15000)\n",
        "  fg = np.random.randint(0,9)\n",
        "  fore_idx.append(fg)\n",
        "  image_list,label = create_mosaic_img(bg_idx,fg_idx,fg)\n",
        "  mosaic_list_of_images.append(image_list)\n",
        "  mosaic_label.append(label)"
      ],
      "execution_count": 6,
      "outputs": []
    },
    {
      "cell_type": "code",
      "metadata": {
        "id": "7km9Swb1kq4O"
      },
      "source": [
        "class MosaicDataset(Dataset):\n",
        "  \"\"\"MosaicDataset dataset.\"\"\"\n",
        "\n",
        "  def __init__(self, mosaic_list_of_images, mosaic_label, fore_idx):\n",
        "    \"\"\"\n",
        "      Args:\n",
        "        csv_file (string): Path to the csv file with annotations.\n",
        "        root_dir (string): Directory with all the images.\n",
        "        transform (callable, optional): Optional transform to be applied\n",
        "            on a sample.\n",
        "    \"\"\"\n",
        "    self.mosaic = mosaic_list_of_images\n",
        "    self.label = mosaic_label\n",
        "    self.fore_idx = fore_idx\n",
        "\n",
        "  def __len__(self):\n",
        "    return len(self.label)\n",
        "\n",
        "  def __getitem__(self, idx):\n",
        "    return self.mosaic[idx] , self.label[idx], self.fore_idx[idx]\n",
        "batch = 250\n",
        "msd = MosaicDataset(mosaic_list_of_images, mosaic_label , fore_idx)\n",
        "train_loader = DataLoader( msd,batch_size= batch ,shuffle=False)"
      ],
      "execution_count": 7,
      "outputs": []
    },
    {
      "cell_type": "code",
      "metadata": {
        "id": "lGVy-1EllAc_"
      },
      "source": [
        "data,labels,fg_index = iter(train_loader).next()"
      ],
      "execution_count": 8,
      "outputs": []
    },
    {
      "cell_type": "code",
      "metadata": {
        "id": "DOpZfj1bq7wN"
      },
      "source": [
        "ag = []\n",
        "for i in range(120):\n",
        "  alphag = torch.ones((250,9))/9\n",
        "  ag.append( alphag.requires_grad_() )"
      ],
      "execution_count": 9,
      "outputs": []
    },
    {
      "cell_type": "code",
      "metadata": {
        "id": "HbrMidFCla6h"
      },
      "source": [
        "class Module2(nn.Module):\n",
        "  def __init__(self):\n",
        "    super(Module2, self).__init__()\n",
        "    \n",
        "    self.conv1 = nn.Conv2d(3, 6, 5)\n",
        "    self.pool = nn.MaxPool2d(2, 2)\n",
        "    self.conv2 = nn.Conv2d(6, 16, 5)\n",
        "    self.fc1 = nn.Linear(16 * 5 * 5, 120)\n",
        "    self.fc2 = nn.Linear(120, 84)\n",
        "    self.fc3 = nn.Linear(84, 10)\n",
        "    self.fc4 = nn.Linear(10,3)\n",
        "\n",
        "  def forward(self,y):  #z batch of list of 9 images\n",
        "    y1 = self.pool(F.relu(self.conv1(y)))\n",
        "    y1 = self.pool(F.relu(self.conv2(y1)))\n",
        "    y1 = y1.view(-1, 16 * 5 * 5)\n",
        "\n",
        "    y1 = F.relu(self.fc1(y1))\n",
        "    y1 = F.relu(self.fc2(y1))\n",
        "    y1 = F.relu(self.fc3(y1))\n",
        "    y1 = self.fc4(y1)\n",
        "    return y1"
      ],
      "execution_count": 10,
      "outputs": []
    },
    {
      "cell_type": "code",
      "metadata": {
        "id": "rRqj2VELllkX"
      },
      "source": [
        "torch.manual_seed(1234)\n",
        "what_net = Module2().double()\n",
        "what_net = what_net.to(\"cuda\")"
      ],
      "execution_count": 11,
      "outputs": []
    },
    {
      "cell_type": "code",
      "metadata": {
        "id": "6d8Wch99l4yB"
      },
      "source": [
        "def attn_avg(x,alpha):\n",
        "  y = torch.zeros([batch,3, 32,32], dtype=torch.float64)\n",
        "  y = y.to(\"cuda\")\n",
        "  alpha = F.softmax(alpha,dim=1)   # alphas\n",
        "  for i in range(9):            \n",
        "    alpha1 = alpha[:,i]          \n",
        "    y = y + torch.mul(alpha1[:,None,None,None],x[:,i])\n",
        "    return y,alpha\n"
      ],
      "execution_count": 12,
      "outputs": []
    },
    {
      "cell_type": "code",
      "metadata": {
        "id": "Rz1Kpw12loV6"
      },
      "source": [
        "def calculate_attn_loss(dataloader,what,criter):\n",
        "  what.eval()\n",
        "  r_loss = 0\n",
        "  alphas = []\n",
        "  lbls = []\n",
        "  pred = []\n",
        "  fidices = []\n",
        "  correct = 0\n",
        "  tot = 0\n",
        "  with torch.no_grad():\n",
        "    for i, data in enumerate(dataloader, 0):\n",
        "      inputs, labels,fidx= data\n",
        "      lbls.append(labels)\n",
        "      fidices.append(fidx)\n",
        "      inputs = inputs.double()\n",
        "      alpha = ag[i]  # alpha for ith batch\n",
        "      inputs, labels,alpha = inputs.to(\"cuda\"),labels.to(\"cuda\"),alpha.to(\"cuda\")\n",
        "      avg,alpha = attn_avg(inputs,alpha)\n",
        "      alpha = alpha.to(\"cuda\")\n",
        "      outputs = what(avg)\n",
        "      _, predicted = torch.max(outputs.data, 1)\n",
        "      correct += sum(predicted == labels)\n",
        "      tot += len(predicted)\n",
        "      pred.append(predicted.cpu().numpy())\n",
        "      alphas.append(alpha.cpu().numpy())\n",
        "      loss = criter(outputs, labels)\n",
        "      r_loss += loss.item()\n",
        "  alphas = np.concatenate(alphas,axis=0)\n",
        "  pred = np.concatenate(pred,axis=0)\n",
        "  lbls = np.concatenate(lbls,axis=0)\n",
        "  fidices = np.concatenate(fidices,axis=0)\n",
        "  #print(alphas.shape,pred.shape,lbls.shape,fidices.shape) \n",
        "  analysis = analyse_data(alphas,lbls,pred,fidices)\n",
        "  return r_loss/i,analysis,correct.item(),tot,correct.item()/tot"
      ],
      "execution_count": 13,
      "outputs": []
    },
    {
      "cell_type": "code",
      "metadata": {
        "id": "_toCktPanH0S"
      },
      "source": [
        "\n",
        "def analyse_data(alphas,lbls,predicted,f_idx):\n",
        "    '''\n",
        "       analysis data is created here\n",
        "    '''\n",
        "    batch = len(predicted)\n",
        "    amth,alth,ftpt,ffpt,ftpf,ffpf = 0,0,0,0,0,0\n",
        "    for j in range (batch):\n",
        "      focus = np.argmax(alphas[j])\n",
        "      if(alphas[j][focus] >= 0.5):\n",
        "        amth +=1\n",
        "      else:\n",
        "        alth +=1\n",
        "      if(focus == f_idx[j] and predicted[j] == lbls[j]):\n",
        "        ftpt += 1\n",
        "      elif(focus != f_idx[j] and predicted[j] == lbls[j]):\n",
        "        ffpt +=1\n",
        "      elif(focus == f_idx[j] and predicted[j] != lbls[j]):\n",
        "        ftpf +=1\n",
        "      elif(focus != f_idx[j] and predicted[j] != lbls[j]):\n",
        "        ffpf +=1\n",
        "    #print(sum(predicted==lbls),ftpt+ffpt)\n",
        "    return [ftpt,ffpt,ftpf,ffpf,amth,alth]"
      ],
      "execution_count": 14,
      "outputs": []
    },
    {
      "cell_type": "code",
      "metadata": {
        "id": "S633XgMToeN3"
      },
      "source": [
        "optim1 = []\n",
        "for i in range(120):\n",
        "  optim1.append(optim.RMSprop([ag[i]], lr=0.1))"
      ],
      "execution_count": 15,
      "outputs": []
    },
    {
      "cell_type": "code",
      "metadata": {
        "colab": {
          "base_uri": "https://localhost:8080/"
        },
        "id": "qPaYaojinMTA",
        "outputId": "60c21370-4ccb-4fad-dcf7-1d62de2e5af6"
      },
      "source": [
        "# instantiate optimizer\n",
        "optimizer_what = optim.RMSprop(what_net.parameters(), lr=0.001)#, momentum=0.9)#,nesterov=True)\n",
        "\n",
        "\n",
        " \n",
        "\n",
        "\n",
        "criterion = nn.CrossEntropyLoss()\n",
        "acti = []\n",
        "analysis_data_tr = []\n",
        "analysis_data_tst = []\n",
        "loss_curi_tr = []\n",
        "loss_curi_tst = []\n",
        "epochs = 200\n",
        "\n",
        "\n",
        "# calculate zeroth epoch loss and FTPT values\n",
        "running_loss,anlys_data,correct,total,accuracy = calculate_attn_loss(train_loader,what_net,criterion)\n",
        "print('training epoch: [%d ] loss: %.3f correct: %.3f, total: %.3f, accuracy: %.3f' %(0,running_loss,correct,total,accuracy)) \n",
        "loss_curi_tr.append(running_loss)\n",
        "analysis_data_tr.append(anlys_data)\n",
        "\n",
        "\n",
        "\n",
        "\n",
        "# training starts \n",
        "for epoch in range(epochs): # loop over the dataset multiple times\n",
        "  ep_lossi = []\n",
        "  running_loss = 0.0\n",
        "  what_net.train()\n",
        "  for i, data in enumerate(train_loader, 0):\n",
        "    # get the inputs\n",
        "    grads = [] \n",
        "    inputs, labels,_  = data\n",
        "    inputs = inputs.double()\n",
        "    alpha = ag[i] # alpha for ith batch\n",
        "    inputs, labels,alpha = inputs.to(\"cuda\"),labels.to(\"cuda\"),alpha.to(\"cuda\")\n",
        "        \n",
        "    # zero the parameter gradients\n",
        "    optimizer_what.zero_grad()\n",
        "    optim1[i].zero_grad()\n",
        "      \n",
        "    # forward + backward + optimize\n",
        "    avg,alpha = attn_avg(inputs,alpha)\n",
        "    outputs = what_net(avg)     \n",
        "    loss = criterion(outputs, labels)\n",
        "\n",
        "    # print statistics\n",
        "    running_loss += loss.item()\n",
        "    alpha.retain_grad()\n",
        "    loss.backward(retain_graph=False)\n",
        "    optimizer_what.step()\n",
        "    optim1[i].step()\n",
        "\n",
        "\n",
        "  running_loss_tr,anls_data,correct,total,accuracy = calculate_attn_loss(train_loader,what_net,criterion)\n",
        "  analysis_data_tr.append(anls_data)\n",
        "  loss_curi_tr.append(running_loss_tr)   #loss per epoch\n",
        "  print('training epoch: [%d ] loss: %.3f correct: %.3f, total: %.3f, accuracy: %.3f' %(epoch+1,running_loss_tr,correct,total,accuracy)) \n",
        "\n",
        "\n",
        "  \n",
        "  if running_loss_tr<=0.08:\n",
        "    break\n",
        "print('Finished Training run ')\n",
        "analysis_data_tr = np.array(analysis_data_tr)\n",
        "\n"
      ],
      "execution_count": 16,
      "outputs": [
        {
          "output_type": "stream",
          "text": [
            "training epoch: [0 ] loss: 1.121 correct: 9954.000, total: 30000.000, accuracy: 0.332\n",
            "training epoch: [1 ] loss: 1.037 correct: 17235.000, total: 30000.000, accuracy: 0.575\n",
            "training epoch: [2 ] loss: 0.895 correct: 16054.000, total: 30000.000, accuracy: 0.535\n",
            "training epoch: [3 ] loss: 1.306 correct: 17930.000, total: 30000.000, accuracy: 0.598\n",
            "training epoch: [4 ] loss: 0.709 correct: 19061.000, total: 30000.000, accuracy: 0.635\n",
            "training epoch: [5 ] loss: 0.611 correct: 21286.000, total: 30000.000, accuracy: 0.710\n",
            "training epoch: [6 ] loss: 0.604 correct: 22133.000, total: 30000.000, accuracy: 0.738\n",
            "training epoch: [7 ] loss: 0.695 correct: 21000.000, total: 30000.000, accuracy: 0.700\n",
            "training epoch: [8 ] loss: 0.535 correct: 24287.000, total: 30000.000, accuracy: 0.810\n",
            "training epoch: [9 ] loss: 0.497 correct: 25048.000, total: 30000.000, accuracy: 0.835\n",
            "training epoch: [10 ] loss: 0.421 correct: 25768.000, total: 30000.000, accuracy: 0.859\n",
            "training epoch: [11 ] loss: 0.462 correct: 25885.000, total: 30000.000, accuracy: 0.863\n",
            "training epoch: [12 ] loss: 0.401 correct: 26255.000, total: 30000.000, accuracy: 0.875\n",
            "training epoch: [13 ] loss: 0.431 correct: 26210.000, total: 30000.000, accuracy: 0.874\n",
            "training epoch: [14 ] loss: 0.397 correct: 26640.000, total: 30000.000, accuracy: 0.888\n",
            "training epoch: [15 ] loss: 0.445 correct: 26381.000, total: 30000.000, accuracy: 0.879\n",
            "training epoch: [16 ] loss: 0.432 correct: 26774.000, total: 30000.000, accuracy: 0.892\n",
            "training epoch: [17 ] loss: 0.408 correct: 27102.000, total: 30000.000, accuracy: 0.903\n",
            "training epoch: [18 ] loss: 0.431 correct: 26766.000, total: 30000.000, accuracy: 0.892\n",
            "training epoch: [19 ] loss: 0.532 correct: 26741.000, total: 30000.000, accuracy: 0.891\n",
            "training epoch: [20 ] loss: 0.498 correct: 26907.000, total: 30000.000, accuracy: 0.897\n",
            "training epoch: [21 ] loss: 0.591 correct: 26768.000, total: 30000.000, accuracy: 0.892\n",
            "training epoch: [22 ] loss: 0.449 correct: 27255.000, total: 30000.000, accuracy: 0.908\n",
            "training epoch: [23 ] loss: 0.519 correct: 27055.000, total: 30000.000, accuracy: 0.902\n",
            "training epoch: [24 ] loss: 0.465 correct: 26959.000, total: 30000.000, accuracy: 0.899\n",
            "training epoch: [25 ] loss: 0.455 correct: 26956.000, total: 30000.000, accuracy: 0.899\n",
            "training epoch: [26 ] loss: 0.431 correct: 27279.000, total: 30000.000, accuracy: 0.909\n",
            "training epoch: [27 ] loss: 0.466 correct: 26949.000, total: 30000.000, accuracy: 0.898\n",
            "training epoch: [28 ] loss: 0.468 correct: 26842.000, total: 30000.000, accuracy: 0.895\n",
            "training epoch: [29 ] loss: 0.463 correct: 26925.000, total: 30000.000, accuracy: 0.897\n",
            "training epoch: [30 ] loss: 0.487 correct: 26740.000, total: 30000.000, accuracy: 0.891\n",
            "training epoch: [31 ] loss: 0.488 correct: 26845.000, total: 30000.000, accuracy: 0.895\n",
            "training epoch: [32 ] loss: 0.423 correct: 27026.000, total: 30000.000, accuracy: 0.901\n",
            "training epoch: [33 ] loss: 0.497 correct: 26609.000, total: 30000.000, accuracy: 0.887\n",
            "training epoch: [34 ] loss: 0.426 correct: 26809.000, total: 30000.000, accuracy: 0.894\n",
            "training epoch: [35 ] loss: 0.420 correct: 26735.000, total: 30000.000, accuracy: 0.891\n",
            "training epoch: [36 ] loss: 0.441 correct: 26682.000, total: 30000.000, accuracy: 0.889\n",
            "training epoch: [37 ] loss: 0.352 correct: 27321.000, total: 30000.000, accuracy: 0.911\n",
            "training epoch: [38 ] loss: 0.354 correct: 27418.000, total: 30000.000, accuracy: 0.914\n",
            "training epoch: [39 ] loss: 0.418 correct: 27287.000, total: 30000.000, accuracy: 0.910\n",
            "training epoch: [40 ] loss: 0.434 correct: 27151.000, total: 30000.000, accuracy: 0.905\n",
            "training epoch: [41 ] loss: 0.506 correct: 26929.000, total: 30000.000, accuracy: 0.898\n",
            "training epoch: [42 ] loss: 0.373 correct: 27103.000, total: 30000.000, accuracy: 0.903\n",
            "training epoch: [43 ] loss: 0.389 correct: 27240.000, total: 30000.000, accuracy: 0.908\n",
            "training epoch: [44 ] loss: 0.525 correct: 27050.000, total: 30000.000, accuracy: 0.902\n",
            "training epoch: [45 ] loss: 0.402 correct: 27130.000, total: 30000.000, accuracy: 0.904\n",
            "training epoch: [46 ] loss: 0.548 correct: 24825.000, total: 30000.000, accuracy: 0.828\n",
            "training epoch: [47 ] loss: 0.414 correct: 26545.000, total: 30000.000, accuracy: 0.885\n",
            "training epoch: [48 ] loss: 0.409 correct: 26804.000, total: 30000.000, accuracy: 0.893\n",
            "training epoch: [49 ] loss: 0.359 correct: 27323.000, total: 30000.000, accuracy: 0.911\n",
            "training epoch: [50 ] loss: 0.426 correct: 27557.000, total: 30000.000, accuracy: 0.919\n",
            "training epoch: [51 ] loss: 0.350 correct: 27719.000, total: 30000.000, accuracy: 0.924\n",
            "training epoch: [52 ] loss: 0.353 correct: 27352.000, total: 30000.000, accuracy: 0.912\n",
            "training epoch: [53 ] loss: 0.326 correct: 27239.000, total: 30000.000, accuracy: 0.908\n",
            "training epoch: [54 ] loss: 0.428 correct: 26420.000, total: 30000.000, accuracy: 0.881\n",
            "training epoch: [55 ] loss: 0.399 correct: 26893.000, total: 30000.000, accuracy: 0.896\n",
            "training epoch: [56 ] loss: 0.392 correct: 27020.000, total: 30000.000, accuracy: 0.901\n",
            "training epoch: [57 ] loss: 0.448 correct: 26565.000, total: 30000.000, accuracy: 0.885\n",
            "training epoch: [58 ] loss: 0.354 correct: 27215.000, total: 30000.000, accuracy: 0.907\n",
            "training epoch: [59 ] loss: 0.314 correct: 28448.000, total: 30000.000, accuracy: 0.948\n",
            "training epoch: [60 ] loss: 0.379 correct: 27045.000, total: 30000.000, accuracy: 0.901\n",
            "training epoch: [61 ] loss: 0.288 correct: 27412.000, total: 30000.000, accuracy: 0.914\n",
            "training epoch: [62 ] loss: 0.300 correct: 27844.000, total: 30000.000, accuracy: 0.928\n",
            "training epoch: [63 ] loss: 0.293 correct: 27837.000, total: 30000.000, accuracy: 0.928\n",
            "training epoch: [64 ] loss: 0.293 correct: 27650.000, total: 30000.000, accuracy: 0.922\n",
            "training epoch: [65 ] loss: 0.227 correct: 28777.000, total: 30000.000, accuracy: 0.959\n",
            "training epoch: [66 ] loss: 0.488 correct: 25440.000, total: 30000.000, accuracy: 0.848\n",
            "training epoch: [67 ] loss: 0.390 correct: 26578.000, total: 30000.000, accuracy: 0.886\n",
            "training epoch: [68 ] loss: 0.352 correct: 27331.000, total: 30000.000, accuracy: 0.911\n",
            "training epoch: [69 ] loss: 1.397 correct: 22357.000, total: 30000.000, accuracy: 0.745\n",
            "training epoch: [70 ] loss: 0.336 correct: 27521.000, total: 30000.000, accuracy: 0.917\n",
            "training epoch: [71 ] loss: 0.340 correct: 27651.000, total: 30000.000, accuracy: 0.922\n",
            "training epoch: [72 ] loss: 0.366 correct: 28584.000, total: 30000.000, accuracy: 0.953\n",
            "training epoch: [73 ] loss: 0.248 correct: 28822.000, total: 30000.000, accuracy: 0.961\n",
            "training epoch: [74 ] loss: 0.260 correct: 28608.000, total: 30000.000, accuracy: 0.954\n",
            "training epoch: [75 ] loss: 0.272 correct: 28040.000, total: 30000.000, accuracy: 0.935\n",
            "training epoch: [76 ] loss: 0.280 correct: 27924.000, total: 30000.000, accuracy: 0.931\n",
            "training epoch: [77 ] loss: 0.271 correct: 28055.000, total: 30000.000, accuracy: 0.935\n",
            "training epoch: [78 ] loss: 0.436 correct: 27236.000, total: 30000.000, accuracy: 0.908\n",
            "training epoch: [79 ] loss: 0.392 correct: 27647.000, total: 30000.000, accuracy: 0.922\n",
            "training epoch: [80 ] loss: 0.528 correct: 27279.000, total: 30000.000, accuracy: 0.909\n",
            "training epoch: [81 ] loss: 0.356 correct: 27940.000, total: 30000.000, accuracy: 0.931\n",
            "training epoch: [82 ] loss: 0.331 correct: 27917.000, total: 30000.000, accuracy: 0.931\n",
            "training epoch: [83 ] loss: 0.374 correct: 28102.000, total: 30000.000, accuracy: 0.937\n",
            "training epoch: [84 ] loss: 0.356 correct: 28178.000, total: 30000.000, accuracy: 0.939\n",
            "training epoch: [85 ] loss: 0.260 correct: 28517.000, total: 30000.000, accuracy: 0.951\n",
            "training epoch: [86 ] loss: 0.278 correct: 28154.000, total: 30000.000, accuracy: 0.938\n",
            "training epoch: [87 ] loss: 0.287 correct: 28042.000, total: 30000.000, accuracy: 0.935\n",
            "training epoch: [88 ] loss: 0.319 correct: 28186.000, total: 30000.000, accuracy: 0.940\n",
            "training epoch: [89 ] loss: 0.281 correct: 28110.000, total: 30000.000, accuracy: 0.937\n",
            "training epoch: [90 ] loss: 0.239 correct: 28478.000, total: 30000.000, accuracy: 0.949\n",
            "training epoch: [91 ] loss: 0.279 correct: 27670.000, total: 30000.000, accuracy: 0.922\n",
            "training epoch: [92 ] loss: 0.367 correct: 28221.000, total: 30000.000, accuracy: 0.941\n",
            "training epoch: [93 ] loss: 0.266 correct: 28227.000, total: 30000.000, accuracy: 0.941\n",
            "training epoch: [94 ] loss: 0.239 correct: 28394.000, total: 30000.000, accuracy: 0.946\n",
            "training epoch: [95 ] loss: 0.272 correct: 28291.000, total: 30000.000, accuracy: 0.943\n",
            "training epoch: [96 ] loss: 0.268 correct: 28391.000, total: 30000.000, accuracy: 0.946\n",
            "training epoch: [97 ] loss: 0.262 correct: 28570.000, total: 30000.000, accuracy: 0.952\n",
            "training epoch: [98 ] loss: 0.274 correct: 28537.000, total: 30000.000, accuracy: 0.951\n",
            "training epoch: [99 ] loss: 0.232 correct: 28673.000, total: 30000.000, accuracy: 0.956\n",
            "training epoch: [100 ] loss: 0.292 correct: 27947.000, total: 30000.000, accuracy: 0.932\n",
            "training epoch: [101 ] loss: 0.229 correct: 28501.000, total: 30000.000, accuracy: 0.950\n",
            "training epoch: [102 ] loss: 0.234 correct: 28529.000, total: 30000.000, accuracy: 0.951\n",
            "training epoch: [103 ] loss: 0.237 correct: 28539.000, total: 30000.000, accuracy: 0.951\n",
            "training epoch: [104 ] loss: 0.268 correct: 28561.000, total: 30000.000, accuracy: 0.952\n",
            "training epoch: [105 ] loss: 0.220 correct: 28689.000, total: 30000.000, accuracy: 0.956\n",
            "training epoch: [106 ] loss: 0.227 correct: 28535.000, total: 30000.000, accuracy: 0.951\n",
            "training epoch: [107 ] loss: 0.173 correct: 28683.000, total: 30000.000, accuracy: 0.956\n",
            "training epoch: [108 ] loss: 0.166 correct: 28570.000, total: 30000.000, accuracy: 0.952\n",
            "training epoch: [109 ] loss: 0.177 correct: 28488.000, total: 30000.000, accuracy: 0.950\n",
            "training epoch: [110 ] loss: 0.248 correct: 28323.000, total: 30000.000, accuracy: 0.944\n",
            "training epoch: [111 ] loss: 0.219 correct: 28491.000, total: 30000.000, accuracy: 0.950\n",
            "training epoch: [112 ] loss: 0.184 correct: 28630.000, total: 30000.000, accuracy: 0.954\n",
            "training epoch: [113 ] loss: 0.181 correct: 28645.000, total: 30000.000, accuracy: 0.955\n",
            "training epoch: [114 ] loss: 0.169 correct: 28652.000, total: 30000.000, accuracy: 0.955\n",
            "training epoch: [115 ] loss: 0.163 correct: 28768.000, total: 30000.000, accuracy: 0.959\n",
            "training epoch: [116 ] loss: 0.164 correct: 28750.000, total: 30000.000, accuracy: 0.958\n",
            "training epoch: [117 ] loss: 0.170 correct: 28680.000, total: 30000.000, accuracy: 0.956\n",
            "training epoch: [118 ] loss: 0.183 correct: 28561.000, total: 30000.000, accuracy: 0.952\n",
            "training epoch: [119 ] loss: 0.197 correct: 28536.000, total: 30000.000, accuracy: 0.951\n",
            "training epoch: [120 ] loss: 0.201 correct: 28579.000, total: 30000.000, accuracy: 0.953\n",
            "training epoch: [121 ] loss: 0.172 correct: 28675.000, total: 30000.000, accuracy: 0.956\n",
            "training epoch: [122 ] loss: 0.161 correct: 28634.000, total: 30000.000, accuracy: 0.954\n",
            "training epoch: [123 ] loss: 0.157 correct: 28602.000, total: 30000.000, accuracy: 0.953\n",
            "training epoch: [124 ] loss: 0.171 correct: 28577.000, total: 30000.000, accuracy: 0.953\n",
            "training epoch: [125 ] loss: 0.160 correct: 28689.000, total: 30000.000, accuracy: 0.956\n",
            "training epoch: [126 ] loss: 0.184 correct: 28720.000, total: 30000.000, accuracy: 0.957\n",
            "training epoch: [127 ] loss: 0.142 correct: 28892.000, total: 30000.000, accuracy: 0.963\n",
            "training epoch: [128 ] loss: 0.154 correct: 28801.000, total: 30000.000, accuracy: 0.960\n",
            "training epoch: [129 ] loss: 0.153 correct: 28769.000, total: 30000.000, accuracy: 0.959\n",
            "training epoch: [130 ] loss: 0.224 correct: 28601.000, total: 30000.000, accuracy: 0.953\n",
            "training epoch: [131 ] loss: 0.158 correct: 28679.000, total: 30000.000, accuracy: 0.956\n",
            "training epoch: [132 ] loss: 0.208 correct: 28609.000, total: 30000.000, accuracy: 0.954\n",
            "training epoch: [133 ] loss: 0.159 correct: 28639.000, total: 30000.000, accuracy: 0.955\n",
            "training epoch: [134 ] loss: 0.181 correct: 28544.000, total: 30000.000, accuracy: 0.951\n",
            "training epoch: [135 ] loss: 0.194 correct: 28475.000, total: 30000.000, accuracy: 0.949\n",
            "training epoch: [136 ] loss: 0.207 correct: 28423.000, total: 30000.000, accuracy: 0.947\n",
            "training epoch: [137 ] loss: 0.178 correct: 28515.000, total: 30000.000, accuracy: 0.951\n",
            "training epoch: [138 ] loss: 0.172 correct: 28524.000, total: 30000.000, accuracy: 0.951\n",
            "training epoch: [139 ] loss: 0.237 correct: 28301.000, total: 30000.000, accuracy: 0.943\n",
            "training epoch: [140 ] loss: 0.166 correct: 28229.000, total: 30000.000, accuracy: 0.941\n",
            "training epoch: [141 ] loss: 0.147 correct: 28613.000, total: 30000.000, accuracy: 0.954\n",
            "training epoch: [142 ] loss: 0.109 correct: 28954.000, total: 30000.000, accuracy: 0.965\n",
            "training epoch: [143 ] loss: 0.189 correct: 28589.000, total: 30000.000, accuracy: 0.953\n",
            "training epoch: [144 ] loss: 0.168 correct: 28695.000, total: 30000.000, accuracy: 0.957\n",
            "training epoch: [145 ] loss: 0.183 correct: 28794.000, total: 30000.000, accuracy: 0.960\n",
            "training epoch: [146 ] loss: 0.187 correct: 28747.000, total: 30000.000, accuracy: 0.958\n",
            "training epoch: [147 ] loss: 0.165 correct: 28653.000, total: 30000.000, accuracy: 0.955\n",
            "training epoch: [148 ] loss: 0.159 correct: 28851.000, total: 30000.000, accuracy: 0.962\n",
            "training epoch: [149 ] loss: 0.226 correct: 28679.000, total: 30000.000, accuracy: 0.956\n",
            "training epoch: [150 ] loss: 0.166 correct: 28787.000, total: 30000.000, accuracy: 0.960\n",
            "training epoch: [151 ] loss: 0.131 correct: 28959.000, total: 30000.000, accuracy: 0.965\n",
            "training epoch: [152 ] loss: 0.130 correct: 28956.000, total: 30000.000, accuracy: 0.965\n",
            "training epoch: [153 ] loss: 0.222 correct: 28562.000, total: 30000.000, accuracy: 0.952\n",
            "training epoch: [154 ] loss: 0.149 correct: 28768.000, total: 30000.000, accuracy: 0.959\n",
            "training epoch: [155 ] loss: 0.156 correct: 28764.000, total: 30000.000, accuracy: 0.959\n",
            "training epoch: [156 ] loss: 0.158 correct: 28533.000, total: 30000.000, accuracy: 0.951\n",
            "training epoch: [157 ] loss: 0.202 correct: 28622.000, total: 30000.000, accuracy: 0.954\n",
            "training epoch: [158 ] loss: 0.209 correct: 28371.000, total: 30000.000, accuracy: 0.946\n",
            "training epoch: [159 ] loss: 0.265 correct: 28405.000, total: 30000.000, accuracy: 0.947\n",
            "training epoch: [160 ] loss: 0.170 correct: 28606.000, total: 30000.000, accuracy: 0.954\n",
            "training epoch: [161 ] loss: 0.207 correct: 28135.000, total: 30000.000, accuracy: 0.938\n",
            "training epoch: [162 ] loss: 0.235 correct: 27459.000, total: 30000.000, accuracy: 0.915\n",
            "training epoch: [163 ] loss: 0.196 correct: 28340.000, total: 30000.000, accuracy: 0.945\n",
            "training epoch: [164 ] loss: 0.212 correct: 28805.000, total: 30000.000, accuracy: 0.960\n",
            "training epoch: [165 ] loss: 0.203 correct: 28300.000, total: 30000.000, accuracy: 0.943\n",
            "training epoch: [166 ] loss: 0.252 correct: 26976.000, total: 30000.000, accuracy: 0.899\n",
            "training epoch: [167 ] loss: 0.217 correct: 27419.000, total: 30000.000, accuracy: 0.914\n",
            "training epoch: [168 ] loss: 0.227 correct: 27622.000, total: 30000.000, accuracy: 0.921\n",
            "training epoch: [169 ] loss: 0.184 correct: 28748.000, total: 30000.000, accuracy: 0.958\n",
            "training epoch: [170 ] loss: 0.127 correct: 28861.000, total: 30000.000, accuracy: 0.962\n",
            "training epoch: [171 ] loss: 0.123 correct: 28895.000, total: 30000.000, accuracy: 0.963\n",
            "training epoch: [172 ] loss: 0.119 correct: 28965.000, total: 30000.000, accuracy: 0.966\n",
            "training epoch: [173 ] loss: 0.157 correct: 28833.000, total: 30000.000, accuracy: 0.961\n",
            "training epoch: [174 ] loss: 0.402 correct: 28477.000, total: 30000.000, accuracy: 0.949\n",
            "training epoch: [175 ] loss: 0.101 correct: 29118.000, total: 30000.000, accuracy: 0.971\n",
            "training epoch: [176 ] loss: 0.297 correct: 28709.000, total: 30000.000, accuracy: 0.957\n",
            "training epoch: [177 ] loss: 0.139 correct: 29127.000, total: 30000.000, accuracy: 0.971\n",
            "training epoch: [178 ] loss: 0.144 correct: 28926.000, total: 30000.000, accuracy: 0.964\n",
            "training epoch: [179 ] loss: 0.163 correct: 28983.000, total: 30000.000, accuracy: 0.966\n",
            "training epoch: [180 ] loss: 0.117 correct: 29046.000, total: 30000.000, accuracy: 0.968\n",
            "training epoch: [181 ] loss: 0.189 correct: 29081.000, total: 30000.000, accuracy: 0.969\n",
            "training epoch: [182 ] loss: 0.121 correct: 29261.000, total: 30000.000, accuracy: 0.975\n",
            "training epoch: [183 ] loss: 0.171 correct: 29021.000, total: 30000.000, accuracy: 0.967\n",
            "training epoch: [184 ] loss: 0.229 correct: 28849.000, total: 30000.000, accuracy: 0.962\n",
            "training epoch: [185 ] loss: 0.083 correct: 29445.000, total: 30000.000, accuracy: 0.982\n",
            "training epoch: [186 ] loss: 0.089 correct: 29357.000, total: 30000.000, accuracy: 0.979\n",
            "training epoch: [187 ] loss: 0.052 correct: 29561.000, total: 30000.000, accuracy: 0.985\n",
            "Finished Training run \n"
          ],
          "name": "stdout"
        }
      ]
    },
    {
      "cell_type": "code",
      "metadata": {
        "id": "AciJnAh5nfug"
      },
      "source": [
        "columns = [\"epochs\", \"argmax > 0.5\" ,\"argmax < 0.5\", \"focus_true_pred_true\", \"focus_false_pred_true\", \"focus_true_pred_false\", \"focus_false_pred_false\" ]\n",
        "df_train = pd.DataFrame()\n",
        "df_test = pd.DataFrame()\n",
        "df_train[columns[0]] = np.arange(0,epoch+2)\n",
        "df_train[columns[1]] = analysis_data_tr[:,-2]\n",
        "df_train[columns[2]] = analysis_data_tr[:,-1]\n",
        "df_train[columns[3]] = analysis_data_tr[:,0]\n",
        "df_train[columns[4]] = analysis_data_tr[:,1]\n",
        "df_train[columns[5]] = analysis_data_tr[:,2]\n",
        "df_train[columns[6]] = analysis_data_tr[:,3]"
      ],
      "execution_count": 17,
      "outputs": []
    },
    {
      "cell_type": "code",
      "metadata": {
        "colab": {
          "base_uri": "https://localhost:8080/",
          "height": 419
        },
        "id": "NoQpS_6scRsC",
        "outputId": "499be77a-c6fd-4079-bfc1-d24742331cdc"
      },
      "source": [
        "df_train"
      ],
      "execution_count": 18,
      "outputs": [
        {
          "output_type": "execute_result",
          "data": {
            "text/html": [
              "<div>\n",
              "<style scoped>\n",
              "    .dataframe tbody tr th:only-of-type {\n",
              "        vertical-align: middle;\n",
              "    }\n",
              "\n",
              "    .dataframe tbody tr th {\n",
              "        vertical-align: top;\n",
              "    }\n",
              "\n",
              "    .dataframe thead th {\n",
              "        text-align: right;\n",
              "    }\n",
              "</style>\n",
              "<table border=\"1\" class=\"dataframe\">\n",
              "  <thead>\n",
              "    <tr style=\"text-align: right;\">\n",
              "      <th></th>\n",
              "      <th>epochs</th>\n",
              "      <th>argmax &gt; 0.5</th>\n",
              "      <th>argmax &lt; 0.5</th>\n",
              "      <th>focus_true_pred_true</th>\n",
              "      <th>focus_false_pred_true</th>\n",
              "      <th>focus_true_pred_false</th>\n",
              "      <th>focus_false_pred_false</th>\n",
              "    </tr>\n",
              "  </thead>\n",
              "  <tbody>\n",
              "    <tr>\n",
              "      <th>0</th>\n",
              "      <td>0</td>\n",
              "      <td>0</td>\n",
              "      <td>30000</td>\n",
              "      <td>1126</td>\n",
              "      <td>8828</td>\n",
              "      <td>2258</td>\n",
              "      <td>17788</td>\n",
              "    </tr>\n",
              "    <tr>\n",
              "      <th>1</th>\n",
              "      <td>1</td>\n",
              "      <td>0</td>\n",
              "      <td>30000</td>\n",
              "      <td>2151</td>\n",
              "      <td>15084</td>\n",
              "      <td>1324</td>\n",
              "      <td>11441</td>\n",
              "    </tr>\n",
              "    <tr>\n",
              "      <th>2</th>\n",
              "      <td>2</td>\n",
              "      <td>5129</td>\n",
              "      <td>24871</td>\n",
              "      <td>1998</td>\n",
              "      <td>14056</td>\n",
              "      <td>1382</td>\n",
              "      <td>12564</td>\n",
              "    </tr>\n",
              "    <tr>\n",
              "      <th>3</th>\n",
              "      <td>3</td>\n",
              "      <td>6060</td>\n",
              "      <td>23940</td>\n",
              "      <td>2180</td>\n",
              "      <td>15750</td>\n",
              "      <td>1229</td>\n",
              "      <td>10841</td>\n",
              "    </tr>\n",
              "    <tr>\n",
              "      <th>4</th>\n",
              "      <td>4</td>\n",
              "      <td>9960</td>\n",
              "      <td>20040</td>\n",
              "      <td>2302</td>\n",
              "      <td>16759</td>\n",
              "      <td>1144</td>\n",
              "      <td>9795</td>\n",
              "    </tr>\n",
              "    <tr>\n",
              "      <th>...</th>\n",
              "      <td>...</td>\n",
              "      <td>...</td>\n",
              "      <td>...</td>\n",
              "      <td>...</td>\n",
              "      <td>...</td>\n",
              "      <td>...</td>\n",
              "      <td>...</td>\n",
              "    </tr>\n",
              "    <tr>\n",
              "      <th>183</th>\n",
              "      <td>183</td>\n",
              "      <td>9706</td>\n",
              "      <td>20294</td>\n",
              "      <td>3389</td>\n",
              "      <td>25632</td>\n",
              "      <td>43</td>\n",
              "      <td>936</td>\n",
              "    </tr>\n",
              "    <tr>\n",
              "      <th>184</th>\n",
              "      <td>184</td>\n",
              "      <td>9715</td>\n",
              "      <td>20285</td>\n",
              "      <td>3366</td>\n",
              "      <td>25483</td>\n",
              "      <td>63</td>\n",
              "      <td>1088</td>\n",
              "    </tr>\n",
              "    <tr>\n",
              "      <th>185</th>\n",
              "      <td>185</td>\n",
              "      <td>9722</td>\n",
              "      <td>20278</td>\n",
              "      <td>3401</td>\n",
              "      <td>26044</td>\n",
              "      <td>25</td>\n",
              "      <td>530</td>\n",
              "    </tr>\n",
              "    <tr>\n",
              "      <th>186</th>\n",
              "      <td>186</td>\n",
              "      <td>9713</td>\n",
              "      <td>20287</td>\n",
              "      <td>3394</td>\n",
              "      <td>25963</td>\n",
              "      <td>31</td>\n",
              "      <td>612</td>\n",
              "    </tr>\n",
              "    <tr>\n",
              "      <th>187</th>\n",
              "      <td>187</td>\n",
              "      <td>9718</td>\n",
              "      <td>20282</td>\n",
              "      <td>3396</td>\n",
              "      <td>26165</td>\n",
              "      <td>27</td>\n",
              "      <td>412</td>\n",
              "    </tr>\n",
              "  </tbody>\n",
              "</table>\n",
              "<p>188 rows × 7 columns</p>\n",
              "</div>"
            ],
            "text/plain": [
              "     epochs  argmax > 0.5  ...  focus_true_pred_false  focus_false_pred_false\n",
              "0         0             0  ...                   2258                   17788\n",
              "1         1             0  ...                   1324                   11441\n",
              "2         2          5129  ...                   1382                   12564\n",
              "3         3          6060  ...                   1229                   10841\n",
              "4         4          9960  ...                   1144                    9795\n",
              "..      ...           ...  ...                    ...                     ...\n",
              "183     183          9706  ...                     43                     936\n",
              "184     184          9715  ...                     63                    1088\n",
              "185     185          9722  ...                     25                     530\n",
              "186     186          9713  ...                     31                     612\n",
              "187     187          9718  ...                     27                     412\n",
              "\n",
              "[188 rows x 7 columns]"
            ]
          },
          "metadata": {
            "tags": []
          },
          "execution_count": 18
        }
      ]
    },
    {
      "cell_type": "code",
      "metadata": {
        "colab": {
          "base_uri": "https://localhost:8080/",
          "height": 730
        },
        "id": "IMAhRdxOcVf6",
        "outputId": "b448e9ab-7f2e-4368-d4ee-6808ef65b0fc"
      },
      "source": [
        "fig= plt.figure(figsize=(12,12))\n",
        "plt.plot(df_train[columns[0]],df_train[columns[3]]/300, label =\"focus_true_pred_true \")\n",
        "plt.plot(df_train[columns[0]],df_train[columns[4]]/300, label =\"focus_false_pred_true \")\n",
        "plt.plot(df_train[columns[0]],df_train[columns[5]]/300, label =\"focus_true_pred_false \")\n",
        "plt.plot(df_train[columns[0]],df_train[columns[6]]/300, label =\"focus_false_pred_false \")\n",
        "plt.title(\"On Train set\")\n",
        "plt.legend(loc='center left', bbox_to_anchor=(1, 0.5))\n",
        "plt.xlabel(\"epochs\")\n",
        "plt.ylabel(\"percentage of data\")\n",
        "#plt.vlines(vline_list,min(min(df_train[columns[3]]/300),min(df_train[columns[4]]/300),min(df_train[columns[5]]/300),min(df_train[columns[6]]/300)), max(max(df_train[columns[3]]/300),max(df_train[columns[4]]/300),max(df_train[columns[5]]/300),max(df_train[columns[6]]/300)),linestyles='dotted')\n",
        "plt.show()\n",
        "fig.savefig(\"train_analysis_every_20.pdf\")\n",
        "fig.savefig(\"train_analysis_every_20.png\")"
      ],
      "execution_count": 19,
      "outputs": [
        {
          "output_type": "display_data",
          "data": {
            "image/png": "[encoded data removed]",
            "text/plain": [
              "<Figure size 864x864 with 1 Axes>"
            ]
          },
          "metadata": {
            "tags": [],
            "needs_background": "light"
          }
        }
      ]
    },
    {
      "cell_type": "code",
      "metadata": {
        "id": "VCnS6r2_3WdU"
      },
      "source": [
        "aph = []\n",
        "for i in ag:\n",
        "  aph.append(F.softmax(i,dim=1).detach().numpy())\n",
        "  \n",
        "aph = np.concatenate(aph,axis=0)\n",
        "torch.save({\n",
        "            'epoch': 500,\n",
        "            'model_state_dict': what_net.state_dict(),\n",
        "            'optimizer_state_dict': optimizer_what.state_dict(),\n",
        "            \"optimizer_alpha\":optim1,\n",
        "            \"FTPT_analysis\":analysis_data_tr,\n",
        "            \"alpha\":aph\n",
        "\n",
        "            }, \"cifar_what_net_500.pt\")"
      ],
      "execution_count": 20,
      "outputs": []
    },
    {
      "cell_type": "code",
      "metadata": {
        "colab": {
          "base_uri": "https://localhost:8080/"
        },
        "id": "KVzrDOGS4UxU",
        "outputId": "15dcb34e-0873-4245-b6d4-c4ad20e4fdad"
      },
      "source": [
        "aph"
      ],
      "execution_count": 21,
      "outputs": [
        {
          "output_type": "execute_result",
          "data": {
            "text/plain": [
              "array([[1.6319832e-03, 1.2479601e-01, 1.2479601e-01, ..., 1.2479601e-01,\n",
              "        1.2479601e-01, 1.2479601e-01],\n",
              "       [9.6979564e-01, 3.7755794e-03, 3.7755794e-03, ..., 3.7755794e-03,\n",
              "        3.7755794e-03, 3.7755794e-03],\n",
              "       [9.8293650e-01, 2.1329103e-03, 2.1329103e-03, ..., 2.1329103e-03,\n",
              "        2.1329103e-03, 2.1329103e-03],\n",
              "       ...,\n",
              "       [9.7022277e-01, 3.7221869e-03, 3.7221869e-03, ..., 3.7221869e-03,\n",
              "        3.7221869e-03, 3.7221869e-03],\n",
              "       [9.9299133e-01, 8.7608484e-04, 8.7608484e-04, ..., 8.7608484e-04,\n",
              "        8.7608484e-04, 8.7608484e-04],\n",
              "       [9.8985952e-01, 1.2675325e-03, 1.2675325e-03, ..., 1.2675325e-03,\n",
              "        1.2675325e-03, 1.2675325e-03]], dtype=float32)"
            ]
          },
          "metadata": {
            "tags": []
          },
          "execution_count": 21
        }
      ]
    },
    {
      "cell_type": "code",
      "metadata": {
        "id": "Z6heHND15EMz"
      },
      "source": [
        "running_loss_tr,anls_data,correct,total,accuracy = calculate_attn_loss(train_loader,what_net,criterion)"
      ],
      "execution_count": 22,
      "outputs": []
    },
    {
      "cell_type": "code",
      "metadata": {
        "colab": {
          "base_uri": "https://localhost:8080/"
        },
        "id": "zeKhsdpYWQvB",
        "outputId": "4688ac3f-2f87-473f-866c-0e1289a7ae13"
      },
      "source": [
        "anls_data"
      ],
      "execution_count": 23,
      "outputs": [
        {
          "output_type": "execute_result",
          "data": {
            "text/plain": [
              "[3396, 26165, 27, 412, 9718, 20282]"
            ]
          },
          "metadata": {
            "tags": []
          },
          "execution_count": 23
        }
      ]
    },
    {
      "cell_type": "code",
      "metadata": {
        "id": "yF2bvWdIWUTa"
      },
      "source": [
        ""
      ],
      "execution_count": 23,
      "outputs": []
    }
  ]
}