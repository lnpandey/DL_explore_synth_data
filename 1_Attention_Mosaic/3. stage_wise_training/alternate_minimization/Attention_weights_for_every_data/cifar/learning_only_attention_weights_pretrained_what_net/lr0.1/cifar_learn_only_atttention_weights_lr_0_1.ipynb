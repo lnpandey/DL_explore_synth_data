{
  "nbformat": 4,
  "nbformat_minor": 0,
  "metadata": {
    "accelerator": "GPU",
    "colab": {
      "name": "cifar_learn_only_atttention_weights_lr_0_1.ipynb",
      "provenance": [],
      "collapsed_sections": []
    },
    "kernelspec": {
      "display_name": "Python 3",
      "name": "python3"
    },
    "language_info": {
      "name": "python"
    }
  },
  "cells": [
    {
      "cell_type": "code",
      "metadata": {
        "id": "BWIyC9Ip_bcq"
      },
      "source": [
        "import numpy as np\n",
        "import pandas as pd\n",
        "\n",
        "import torch\n",
        "import torchvision\n",
        "from torch.utils.data import Dataset, DataLoader\n",
        "from torchvision import transforms, utils\n",
        "import torch.nn as nn\n",
        "import torch.nn.functional as F\n",
        "import torch.optim as optim\n",
        "\n",
        "from matplotlib import pyplot as plt\n",
        "%matplotlib inline\n",
        "torch.backends.cudnn.deterministic = True\n",
        "torch.backends.cudnn.benchmark = False"
      ],
      "execution_count": 1,
      "outputs": []
    },
    {
      "cell_type": "code",
      "metadata": {
        "colab": {
          "base_uri": "https://localhost:8080/"
        },
        "id": "cgw1f4rVkGr9",
        "outputId": "eb6491da-a087-49d1-c65a-8a9162d65b67"
      },
      "source": [
        "transform = transforms.Compose(\n",
        "    [transforms.ToTensor(),\n",
        "     transforms.Normalize((0.5, 0.5, 0.5), (0.5, 0.5, 0.5))])\n",
        "\n",
        "trainset = torchvision.datasets.CIFAR10(root='./data', train=True, download=True, transform=transform)"
      ],
      "execution_count": 2,
      "outputs": [
        {
          "output_type": "stream",
          "text": [
            "Files already downloaded and verified\n"
          ],
          "name": "stdout"
        }
      ]
    },
    {
      "cell_type": "code",
      "metadata": {
        "id": "D-xlWYTKkQEn"
      },
      "source": [
        "trainloader = torch.utils.data.DataLoader(trainset, batch_size=10, shuffle=False)\n",
        "\n",
        "\n",
        "classes = ('plane', 'car', 'bird', 'cat', 'deer', 'dog', 'frog', 'horse', 'ship', 'truck')\n",
        "\n",
        "foreground_classes = {'plane', 'car', 'bird'}\n",
        "#foreground_classes = {'bird', 'cat', 'deer'}\n",
        "background_classes = {'cat', 'deer', 'dog', 'frog', 'horse', 'ship', 'truck'}\n",
        "#background_classes = {'plane', 'car', 'dog', 'frog', 'horse','ship', 'truck'}\n",
        "\n",
        "fg1,fg2,fg3 = 0,1,2"
      ],
      "execution_count": 3,
      "outputs": []
    },
    {
      "cell_type": "code",
      "metadata": {
        "id": "zrX68qhikUbz"
      },
      "source": [
        "dataiter = iter(trainloader)\n",
        "background_data=[]\n",
        "background_label=[]\n",
        "foreground_data=[]\n",
        "foreground_label=[]\n",
        "batch_size=10\n",
        "\n",
        "for i in range(5000):\n",
        "  images, labels = dataiter.next()\n",
        "  for j in range(batch_size):\n",
        "    if(classes[labels[j]] in background_classes):\n",
        "      img = images[j].tolist()\n",
        "      background_data.append(img)\n",
        "      background_label.append(labels[j])\n",
        "    else:\n",
        "      img = images[j].tolist()\n",
        "      foreground_data.append(img)\n",
        "      foreground_label.append(labels[j])\n",
        "            \n",
        "foreground_data = torch.tensor(foreground_data)\n",
        "foreground_label = torch.tensor(foreground_label)\n",
        "background_data = torch.tensor(background_data)\n",
        "background_label = torch.tensor(background_label)"
      ],
      "execution_count": 4,
      "outputs": []
    },
    {
      "cell_type": "code",
      "metadata": {
        "id": "eD-QJkvnkgyk"
      },
      "source": [
        "def create_mosaic_img(bg_idx,fg_idx,fg): \n",
        "  \"\"\"\n",
        "  bg_idx : list of indexes of background_data[] to be used as background images in mosaic\n",
        "  fg_idx : index of image to be used as foreground image from foreground data\n",
        "  fg : at what position/index foreground image has to be stored out of 0-8\n",
        "  \"\"\"\n",
        "  image_list=[]\n",
        "  j=0\n",
        "  for i in range(9):\n",
        "    if i != fg:\n",
        "      image_list.append(background_data[bg_idx[j]])#.type(\"torch.DoubleTensor\"))\n",
        "      j+=1\n",
        "    else: \n",
        "      image_list.append(foreground_data[fg_idx])#.type(\"torch.DoubleTensor\"))\n",
        "      label = foreground_label[fg_idx]-fg1  # minus 7 because our fore ground classes are 7,8,9 but we have to store it as 0,1,2\n",
        "  #image_list = np.concatenate(image_list ,axis=0)\n",
        "  image_list = torch.stack(image_list) \n",
        "  return image_list,label"
      ],
      "execution_count": 5,
      "outputs": []
    },
    {
      "cell_type": "code",
      "metadata": {
        "id": "Zs10rfXHkli2"
      },
      "source": [
        "desired_num = 30000\n",
        "mosaic_list_of_images =[]      # list of mosaic images, each mosaic image is saved as list of 9 images\n",
        "fore_idx =[]                   # list of indexes at which foreground image is present in a mosaic image i.e from 0 to 9               \n",
        "mosaic_label=[]                # label of mosaic image = foreground class present in that mosaic\n",
        "for i in range(desired_num):\n",
        "  np.random.seed(i)\n",
        "  bg_idx = np.random.randint(0,35000,8)\n",
        "  fg_idx = np.random.randint(0,15000)\n",
        "  fg = np.random.randint(0,9)\n",
        "  fore_idx.append(fg)\n",
        "  image_list,label = create_mosaic_img(bg_idx,fg_idx,fg)\n",
        "  mosaic_list_of_images.append(image_list)\n",
        "  mosaic_label.append(label)"
      ],
      "execution_count": 6,
      "outputs": []
    },
    {
      "cell_type": "code",
      "metadata": {
        "id": "7km9Swb1kq4O"
      },
      "source": [
        "class MosaicDataset(Dataset):\n",
        "  \"\"\"MosaicDataset dataset.\"\"\"\n",
        "\n",
        "  def __init__(self, mosaic_list_of_images, mosaic_label, fore_idx):\n",
        "    \"\"\"\n",
        "      Args:\n",
        "        csv_file (string): Path to the csv file with annotations.\n",
        "        root_dir (string): Directory with all the images.\n",
        "        transform (callable, optional): Optional transform to be applied\n",
        "            on a sample.\n",
        "    \"\"\"\n",
        "    self.mosaic = mosaic_list_of_images\n",
        "    self.label = mosaic_label\n",
        "    self.fore_idx = fore_idx\n",
        "\n",
        "  def __len__(self):\n",
        "    return len(self.label)\n",
        "\n",
        "  def __getitem__(self, idx):\n",
        "    return self.mosaic[idx] , self.label[idx], self.fore_idx[idx]\n",
        "batch = 250\n",
        "msd = MosaicDataset(mosaic_list_of_images, mosaic_label , fore_idx)\n",
        "train_loader = DataLoader( msd,batch_size= batch ,shuffle=False,num_workers=0,)"
      ],
      "execution_count": 7,
      "outputs": []
    },
    {
      "cell_type": "code",
      "metadata": {
        "id": "lGVy-1EllAc_"
      },
      "source": [
        "data,labels,fg_index = iter(train_loader).next()"
      ],
      "execution_count": 8,
      "outputs": []
    },
    {
      "cell_type": "code",
      "metadata": {
        "id": "DOpZfj1bq7wN"
      },
      "source": [
        "ag = []\n",
        "for i in range(120):\n",
        "  alphag = torch.ones((250,9))/9\n",
        "  ag.append( alphag.requires_grad_() )"
      ],
      "execution_count": 9,
      "outputs": []
    },
    {
      "cell_type": "code",
      "metadata": {
        "id": "HbrMidFCla6h"
      },
      "source": [
        "class Module2(nn.Module):\n",
        "  def __init__(self):\n",
        "    super(Module2, self).__init__()\n",
        "    \n",
        "    self.conv1 = nn.Conv2d(3, 6, 5)\n",
        "    self.pool = nn.MaxPool2d(2, 2)\n",
        "    self.conv2 = nn.Conv2d(6, 16, 5)\n",
        "    self.fc1 = nn.Linear(16 * 5 * 5, 120)\n",
        "    self.fc2 = nn.Linear(120, 84)\n",
        "    self.fc3 = nn.Linear(84, 10)\n",
        "    self.fc4 = nn.Linear(10,3)\n",
        "\n",
        "  def forward(self,y):  #z batch of list of 9 images\n",
        "    y1 = self.pool(F.relu(self.conv1(y)))\n",
        "    y1 = self.pool(F.relu(self.conv2(y1)))\n",
        "    y1 = y1.view(-1, 16 * 5 * 5)\n",
        "\n",
        "    y1 = F.relu(self.fc1(y1))\n",
        "    y1 = F.relu(self.fc2(y1))\n",
        "    y1 = F.relu(self.fc3(y1))\n",
        "    y1 = self.fc4(y1)\n",
        "    return y1"
      ],
      "execution_count": 10,
      "outputs": []
    },
    {
      "cell_type": "code",
      "metadata": {
        "id": "rRqj2VELllkX"
      },
      "source": [
        "torch.manual_seed(1234)\n",
        "what_net = Module2().double()\n",
        "\n",
        "what_net.load_state_dict(torch.load(\"simultaneous_what.pt\"))\n",
        "what_net = what_net.to(\"cuda\")"
      ],
      "execution_count": 11,
      "outputs": []
    },
    {
      "cell_type": "code",
      "metadata": {
        "id": "6d8Wch99l4yB"
      },
      "source": [
        "def attn_avg(x,alpha):\n",
        "  y = torch.zeros([batch,3, 32,32], dtype=torch.float64)\n",
        "  y = y.to(\"cuda\")\n",
        "  alpha = F.softmax(alpha,dim=1)   # alphas\n",
        "  for i in range(9):            \n",
        "    alpha1 = alpha[:,i]          \n",
        "    y = y + torch.mul(alpha1[:,None,None,None],x[:,i])\n",
        "    return y,alpha\n"
      ],
      "execution_count": 12,
      "outputs": []
    },
    {
      "cell_type": "code",
      "metadata": {
        "id": "Rz1Kpw12loV6"
      },
      "source": [
        "def calculate_attn_loss(dataloader,what,criter):\n",
        "  what.eval()\n",
        "  r_loss = 0\n",
        "  alphas = []\n",
        "  lbls = []\n",
        "  pred = []\n",
        "  fidices = []\n",
        "  correct = 0\n",
        "  tot = 0\n",
        "  with torch.no_grad():\n",
        "    for i, data in enumerate(dataloader, 0):\n",
        "      inputs, labels,fidx= data\n",
        "      lbls.append(labels)\n",
        "      fidices.append(fidx)\n",
        "      inputs = inputs.double()\n",
        "      alpha = ag[i]  # alpha for ith batch\n",
        "      inputs, labels,alpha = inputs.to(\"cuda\"),labels.to(\"cuda\"),alpha.to(\"cuda\")\n",
        "      avg,alpha = attn_avg(inputs,alpha)\n",
        "      alpha = alpha.to(\"cuda\")\n",
        "      outputs = what(avg)\n",
        "      _, predicted = torch.max(outputs.data, 1)\n",
        "      correct += sum(predicted == labels)\n",
        "      tot += len(predicted)\n",
        "      pred.append(predicted.cpu().numpy())\n",
        "      alphas.append(alpha.cpu().numpy())\n",
        "      loss = criter(outputs, labels)\n",
        "      r_loss += loss.item()\n",
        "  alphas = np.concatenate(alphas,axis=0)\n",
        "  pred = np.concatenate(pred,axis=0)\n",
        "  lbls = np.concatenate(lbls,axis=0)\n",
        "  fidices = np.concatenate(fidices,axis=0)\n",
        "  #print(alphas.shape,pred.shape,lbls.shape,fidices.shape) \n",
        "  analysis = analyse_data(alphas,lbls,pred,fidices)\n",
        "  return r_loss/i,analysis,correct.item(),tot,correct.item()/tot"
      ],
      "execution_count": 13,
      "outputs": []
    },
    {
      "cell_type": "code",
      "metadata": {
        "id": "sAY-x6UAwrwE"
      },
      "source": [
        "for param in what_net.parameters():\n",
        "    param.requires_grad = False"
      ],
      "execution_count": 14,
      "outputs": []
    },
    {
      "cell_type": "code",
      "metadata": {
        "id": "_toCktPanH0S"
      },
      "source": [
        "\n",
        "def analyse_data(alphas,lbls,predicted,f_idx):\n",
        "    '''\n",
        "       analysis data is created here\n",
        "    '''\n",
        "    batch = len(predicted)\n",
        "    amth,alth,ftpt,ffpt,ftpf,ffpf = 0,0,0,0,0,0\n",
        "    for j in range (batch):\n",
        "      focus = np.argmax(alphas[j])\n",
        "      if(alphas[j][focus] >= 0.5):\n",
        "        amth +=1\n",
        "      else:\n",
        "        alth +=1\n",
        "      if(focus == f_idx[j] and predicted[j] == lbls[j]):\n",
        "        ftpt += 1\n",
        "      elif(focus != f_idx[j] and predicted[j] == lbls[j]):\n",
        "        ffpt +=1\n",
        "      elif(focus == f_idx[j] and predicted[j] != lbls[j]):\n",
        "        ftpf +=1\n",
        "      elif(focus != f_idx[j] and predicted[j] != lbls[j]):\n",
        "        ffpf +=1\n",
        "    #print(sum(predicted==lbls),ftpt+ffpt)\n",
        "    return [ftpt,ffpt,ftpf,ffpf,amth,alth]"
      ],
      "execution_count": 15,
      "outputs": []
    },
    {
      "cell_type": "code",
      "metadata": {
        "id": "S633XgMToeN3"
      },
      "source": [
        "optim1 = []\n",
        "for i in range(120):\n",
        "  optim1.append(optim.RMSprop([ag[i]], lr=0.1))"
      ],
      "execution_count": 16,
      "outputs": []
    },
    {
      "cell_type": "code",
      "metadata": {
        "colab": {
          "base_uri": "https://localhost:8080/"
        },
        "id": "qPaYaojinMTA",
        "outputId": "cedf01e8-86a3-42c0-9a07-b9316b0bc389"
      },
      "source": [
        "# instantiate optimizer\n",
        "#optimizer_what = optim.RMSprop(what_net.parameters(), lr=0.001)#, momentum=0.9)#,nesterov=True)\n",
        "\n",
        "\n",
        " \n",
        "\n",
        "\n",
        "criterion = nn.CrossEntropyLoss()\n",
        "acti = []\n",
        "analysis_data_tr = []\n",
        "analysis_data_tst = []\n",
        "loss_curi_tr = []\n",
        "loss_curi_tst = []\n",
        "epochs = 100\n",
        "\n",
        "\n",
        "# calculate zeroth epoch loss and FTPT values\n",
        "running_loss,anlys_data,correct,total,accuracy = calculate_attn_loss(train_loader,what_net,criterion)\n",
        "print('training epoch: [%d ] loss: %.3f correct: %.3f, total: %.3f, accuracy: %.3f' %(0,running_loss,correct,total,accuracy)) \n",
        "loss_curi_tr.append(running_loss)\n",
        "analysis_data_tr.append(anlys_data)\n",
        "\n",
        "\n",
        "\n",
        "\n",
        "# training starts \n",
        "for epoch in range(epochs): # loop over the dataset multiple times\n",
        "  ep_lossi = []\n",
        "  running_loss = 0.0\n",
        "  what_net.train()\n",
        "  for i, data in enumerate(train_loader, 0):\n",
        "    # get the inputs\n",
        "    grads = [] \n",
        "    inputs, labels,_  = data\n",
        "    inputs = inputs.double()\n",
        "    alpha = ag[i] # alpha for ith batch\n",
        "    inputs, labels,alpha = inputs.to(\"cuda\"),labels.to(\"cuda\"),alpha.to(\"cuda\")\n",
        "        \n",
        "    # zero the parameter gradients\n",
        "    #optimizer_what.zero_grad()\n",
        "    optim1[i].zero_grad()\n",
        "      \n",
        "    # forward + backward + optimize\n",
        "    avg,alpha = attn_avg(inputs,alpha)\n",
        "    outputs = what_net(avg)     \n",
        "    loss = criterion(outputs, labels)\n",
        "\n",
        "    # print statistics\n",
        "    running_loss += loss.item()\n",
        "    #alpha.retain_grad()\n",
        "    loss.backward(retain_graph=False)\n",
        "    #optimizer_what.step()\n",
        "    optim1[i].step()\n",
        "\n",
        "\n",
        "  running_loss_tr,anls_data,correct,total,accuracy = calculate_attn_loss(train_loader,what_net,criterion)\n",
        "  analysis_data_tr.append(anls_data)\n",
        "  loss_curi_tr.append(running_loss_tr)   #loss per epoch\n",
        "  print('training epoch: [%d ] loss: %.3f correct: %.3f, total: %.3f, accuracy: %.3f' %(epoch+1,running_loss_tr,correct,total,accuracy)) \n",
        "\n",
        "\n",
        "  \n",
        "  if running_loss_tr<=0.08:\n",
        "    break\n",
        "print('Finished Training run ')\n",
        "analysis_data_tr = np.array(analysis_data_tr)\n",
        "\n"
      ],
      "execution_count": 17,
      "outputs": [
        {
          "output_type": "stream",
          "text": [
            "training epoch: [0 ] loss: 4.434 correct: 9998.000, total: 30000.000, accuracy: 0.333\n",
            "training epoch: [1 ] loss: 3.590 correct: 13272.000, total: 30000.000, accuracy: 0.442\n",
            "training epoch: [2 ] loss: 2.944 correct: 15579.000, total: 30000.000, accuracy: 0.519\n",
            "training epoch: [3 ] loss: 2.790 correct: 16066.000, total: 30000.000, accuracy: 0.536\n",
            "training epoch: [4 ] loss: 2.672 correct: 16484.000, total: 30000.000, accuracy: 0.549\n",
            "training epoch: [5 ] loss: 2.583 correct: 16751.000, total: 30000.000, accuracy: 0.558\n",
            "training epoch: [6 ] loss: 2.524 correct: 16934.000, total: 30000.000, accuracy: 0.564\n",
            "training epoch: [7 ] loss: 2.478 correct: 17067.000, total: 30000.000, accuracy: 0.569\n",
            "training epoch: [8 ] loss: 2.443 correct: 17175.000, total: 30000.000, accuracy: 0.573\n",
            "training epoch: [9 ] loss: 2.415 correct: 17239.000, total: 30000.000, accuracy: 0.575\n",
            "training epoch: [10 ] loss: 2.391 correct: 17294.000, total: 30000.000, accuracy: 0.576\n",
            "training epoch: [11 ] loss: 2.375 correct: 17360.000, total: 30000.000, accuracy: 0.579\n",
            "training epoch: [12 ] loss: 2.363 correct: 17369.000, total: 30000.000, accuracy: 0.579\n",
            "training epoch: [13 ] loss: 2.343 correct: 17396.000, total: 30000.000, accuracy: 0.580\n",
            "training epoch: [14 ] loss: 2.333 correct: 17441.000, total: 30000.000, accuracy: 0.581\n",
            "training epoch: [15 ] loss: 2.322 correct: 17461.000, total: 30000.000, accuracy: 0.582\n",
            "training epoch: [16 ] loss: 2.317 correct: 17476.000, total: 30000.000, accuracy: 0.583\n",
            "training epoch: [17 ] loss: 2.308 correct: 17486.000, total: 30000.000, accuracy: 0.583\n",
            "training epoch: [18 ] loss: 2.302 correct: 17497.000, total: 30000.000, accuracy: 0.583\n",
            "training epoch: [19 ] loss: 2.297 correct: 17508.000, total: 30000.000, accuracy: 0.584\n",
            "training epoch: [20 ] loss: 2.291 correct: 17518.000, total: 30000.000, accuracy: 0.584\n",
            "training epoch: [21 ] loss: 2.285 correct: 17527.000, total: 30000.000, accuracy: 0.584\n",
            "training epoch: [22 ] loss: 2.283 correct: 17519.000, total: 30000.000, accuracy: 0.584\n",
            "training epoch: [23 ] loss: 2.279 correct: 17546.000, total: 30000.000, accuracy: 0.585\n",
            "training epoch: [24 ] loss: 2.275 correct: 17535.000, total: 30000.000, accuracy: 0.585\n",
            "training epoch: [25 ] loss: 2.273 correct: 17543.000, total: 30000.000, accuracy: 0.585\n",
            "training epoch: [26 ] loss: 2.271 correct: 17548.000, total: 30000.000, accuracy: 0.585\n",
            "training epoch: [27 ] loss: 2.266 correct: 17557.000, total: 30000.000, accuracy: 0.585\n",
            "training epoch: [28 ] loss: 2.265 correct: 17562.000, total: 30000.000, accuracy: 0.585\n",
            "training epoch: [29 ] loss: 2.262 correct: 17573.000, total: 30000.000, accuracy: 0.586\n",
            "training epoch: [30 ] loss: 2.260 correct: 17557.000, total: 30000.000, accuracy: 0.585\n",
            "training epoch: [31 ] loss: 2.257 correct: 17565.000, total: 30000.000, accuracy: 0.586\n",
            "training epoch: [32 ] loss: 2.255 correct: 17570.000, total: 30000.000, accuracy: 0.586\n",
            "training epoch: [33 ] loss: 2.254 correct: 17577.000, total: 30000.000, accuracy: 0.586\n",
            "training epoch: [34 ] loss: 2.252 correct: 17574.000, total: 30000.000, accuracy: 0.586\n",
            "training epoch: [35 ] loss: 2.250 correct: 17579.000, total: 30000.000, accuracy: 0.586\n",
            "training epoch: [36 ] loss: 2.250 correct: 17570.000, total: 30000.000, accuracy: 0.586\n",
            "training epoch: [37 ] loss: 2.249 correct: 17583.000, total: 30000.000, accuracy: 0.586\n",
            "training epoch: [38 ] loss: 2.248 correct: 17578.000, total: 30000.000, accuracy: 0.586\n",
            "training epoch: [39 ] loss: 2.246 correct: 17586.000, total: 30000.000, accuracy: 0.586\n",
            "training epoch: [40 ] loss: 2.245 correct: 17600.000, total: 30000.000, accuracy: 0.587\n",
            "training epoch: [41 ] loss: 2.244 correct: 17602.000, total: 30000.000, accuracy: 0.587\n",
            "training epoch: [42 ] loss: 2.241 correct: 17593.000, total: 30000.000, accuracy: 0.586\n",
            "training epoch: [43 ] loss: 2.240 correct: 17606.000, total: 30000.000, accuracy: 0.587\n",
            "training epoch: [44 ] loss: 2.240 correct: 17596.000, total: 30000.000, accuracy: 0.587\n",
            "training epoch: [45 ] loss: 2.240 correct: 17599.000, total: 30000.000, accuracy: 0.587\n",
            "training epoch: [46 ] loss: 2.238 correct: 17601.000, total: 30000.000, accuracy: 0.587\n",
            "training epoch: [47 ] loss: 2.238 correct: 17595.000, total: 30000.000, accuracy: 0.587\n",
            "training epoch: [48 ] loss: 2.236 correct: 17600.000, total: 30000.000, accuracy: 0.587\n",
            "training epoch: [49 ] loss: 2.235 correct: 17608.000, total: 30000.000, accuracy: 0.587\n",
            "training epoch: [50 ] loss: 2.235 correct: 17608.000, total: 30000.000, accuracy: 0.587\n",
            "training epoch: [51 ] loss: 2.235 correct: 17619.000, total: 30000.000, accuracy: 0.587\n",
            "training epoch: [52 ] loss: 2.234 correct: 17605.000, total: 30000.000, accuracy: 0.587\n",
            "training epoch: [53 ] loss: 2.234 correct: 17612.000, total: 30000.000, accuracy: 0.587\n",
            "training epoch: [54 ] loss: 2.233 correct: 17612.000, total: 30000.000, accuracy: 0.587\n",
            "training epoch: [55 ] loss: 2.233 correct: 17612.000, total: 30000.000, accuracy: 0.587\n",
            "training epoch: [56 ] loss: 2.232 correct: 17613.000, total: 30000.000, accuracy: 0.587\n",
            "training epoch: [57 ] loss: 2.232 correct: 17612.000, total: 30000.000, accuracy: 0.587\n",
            "training epoch: [58 ] loss: 2.231 correct: 17614.000, total: 30000.000, accuracy: 0.587\n",
            "training epoch: [59 ] loss: 2.231 correct: 17602.000, total: 30000.000, accuracy: 0.587\n",
            "training epoch: [60 ] loss: 2.229 correct: 17606.000, total: 30000.000, accuracy: 0.587\n",
            "training epoch: [61 ] loss: 2.230 correct: 17622.000, total: 30000.000, accuracy: 0.587\n",
            "training epoch: [62 ] loss: 2.229 correct: 17614.000, total: 30000.000, accuracy: 0.587\n",
            "training epoch: [63 ] loss: 2.228 correct: 17609.000, total: 30000.000, accuracy: 0.587\n",
            "training epoch: [64 ] loss: 2.228 correct: 17616.000, total: 30000.000, accuracy: 0.587\n",
            "training epoch: [65 ] loss: 2.228 correct: 17610.000, total: 30000.000, accuracy: 0.587\n",
            "training epoch: [66 ] loss: 2.227 correct: 17612.000, total: 30000.000, accuracy: 0.587\n",
            "training epoch: [67 ] loss: 2.227 correct: 17611.000, total: 30000.000, accuracy: 0.587\n",
            "training epoch: [68 ] loss: 2.228 correct: 17621.000, total: 30000.000, accuracy: 0.587\n",
            "training epoch: [69 ] loss: 2.227 correct: 17618.000, total: 30000.000, accuracy: 0.587\n",
            "training epoch: [70 ] loss: 2.224 correct: 17610.000, total: 30000.000, accuracy: 0.587\n",
            "training epoch: [71 ] loss: 2.225 correct: 17626.000, total: 30000.000, accuracy: 0.588\n",
            "training epoch: [72 ] loss: 2.225 correct: 17617.000, total: 30000.000, accuracy: 0.587\n",
            "training epoch: [73 ] loss: 2.224 correct: 17611.000, total: 30000.000, accuracy: 0.587\n",
            "training epoch: [74 ] loss: 2.224 correct: 17617.000, total: 30000.000, accuracy: 0.587\n",
            "training epoch: [75 ] loss: 2.224 correct: 17622.000, total: 30000.000, accuracy: 0.587\n",
            "training epoch: [76 ] loss: 2.224 correct: 17624.000, total: 30000.000, accuracy: 0.587\n",
            "training epoch: [77 ] loss: 2.223 correct: 17621.000, total: 30000.000, accuracy: 0.587\n",
            "training epoch: [78 ] loss: 2.222 correct: 17618.000, total: 30000.000, accuracy: 0.587\n",
            "training epoch: [79 ] loss: 2.223 correct: 17623.000, total: 30000.000, accuracy: 0.587\n",
            "training epoch: [80 ] loss: 2.222 correct: 17625.000, total: 30000.000, accuracy: 0.588\n",
            "training epoch: [81 ] loss: 2.223 correct: 17621.000, total: 30000.000, accuracy: 0.587\n",
            "training epoch: [82 ] loss: 2.223 correct: 17619.000, total: 30000.000, accuracy: 0.587\n",
            "training epoch: [83 ] loss: 2.222 correct: 17619.000, total: 30000.000, accuracy: 0.587\n",
            "training epoch: [84 ] loss: 2.222 correct: 17616.000, total: 30000.000, accuracy: 0.587\n",
            "training epoch: [85 ] loss: 2.222 correct: 17624.000, total: 30000.000, accuracy: 0.587\n",
            "training epoch: [86 ] loss: 2.221 correct: 17620.000, total: 30000.000, accuracy: 0.587\n",
            "training epoch: [87 ] loss: 2.220 correct: 17622.000, total: 30000.000, accuracy: 0.587\n",
            "training epoch: [88 ] loss: 2.221 correct: 17620.000, total: 30000.000, accuracy: 0.587\n",
            "training epoch: [89 ] loss: 2.220 correct: 17623.000, total: 30000.000, accuracy: 0.587\n",
            "training epoch: [90 ] loss: 2.220 correct: 17620.000, total: 30000.000, accuracy: 0.587\n",
            "training epoch: [91 ] loss: 2.220 correct: 17629.000, total: 30000.000, accuracy: 0.588\n",
            "training epoch: [92 ] loss: 2.219 correct: 17627.000, total: 30000.000, accuracy: 0.588\n",
            "training epoch: [93 ] loss: 2.219 correct: 17630.000, total: 30000.000, accuracy: 0.588\n",
            "training epoch: [94 ] loss: 2.219 correct: 17622.000, total: 30000.000, accuracy: 0.587\n",
            "training epoch: [95 ] loss: 2.218 correct: 17625.000, total: 30000.000, accuracy: 0.588\n",
            "training epoch: [96 ] loss: 2.218 correct: 17627.000, total: 30000.000, accuracy: 0.588\n",
            "training epoch: [97 ] loss: 2.219 correct: 17637.000, total: 30000.000, accuracy: 0.588\n",
            "training epoch: [98 ] loss: 2.219 correct: 17633.000, total: 30000.000, accuracy: 0.588\n",
            "training epoch: [99 ] loss: 2.218 correct: 17630.000, total: 30000.000, accuracy: 0.588\n",
            "training epoch: [100 ] loss: 2.218 correct: 17628.000, total: 30000.000, accuracy: 0.588\n",
            "Finished Training run \n"
          ],
          "name": "stdout"
        }
      ]
    },
    {
      "cell_type": "code",
      "metadata": {
        "id": "AciJnAh5nfug"
      },
      "source": [
        "columns = [\"epochs\", \"argmax > 0.5\" ,\"argmax < 0.5\", \"focus_true_pred_true\", \"focus_false_pred_true\", \"focus_true_pred_false\", \"focus_false_pred_false\" ]\n",
        "df_train = pd.DataFrame()\n",
        "df_test = pd.DataFrame()\n",
        "df_train[columns[0]] = np.arange(0,epoch+2)\n",
        "df_train[columns[1]] = analysis_data_tr[:,-2]\n",
        "df_train[columns[2]] = analysis_data_tr[:,-1]\n",
        "df_train[columns[3]] = analysis_data_tr[:,0]\n",
        "df_train[columns[4]] = analysis_data_tr[:,1]\n",
        "df_train[columns[5]] = analysis_data_tr[:,2]\n",
        "df_train[columns[6]] = analysis_data_tr[:,3]"
      ],
      "execution_count": 18,
      "outputs": []
    },
    {
      "cell_type": "code",
      "metadata": {
        "colab": {
          "base_uri": "https://localhost:8080/",
          "height": 436
        },
        "id": "NoQpS_6scRsC",
        "outputId": "a05b33d3-de38-4841-c733-d8267a2aa2a9"
      },
      "source": [
        "df_train"
      ],
      "execution_count": 19,
      "outputs": [
        {
          "output_type": "execute_result",
          "data": {
            "text/html": [
              "<div>\n",
              "<style scoped>\n",
              "    .dataframe tbody tr th:only-of-type {\n",
              "        vertical-align: middle;\n",
              "    }\n",
              "\n",
              "    .dataframe tbody tr th {\n",
              "        vertical-align: top;\n",
              "    }\n",
              "\n",
              "    .dataframe thead th {\n",
              "        text-align: right;\n",
              "    }\n",
              "</style>\n",
              "<table border=\"1\" class=\"dataframe\">\n",
              "  <thead>\n",
              "    <tr style=\"text-align: right;\">\n",
              "      <th></th>\n",
              "      <th>epochs</th>\n",
              "      <th>argmax &gt; 0.5</th>\n",
              "      <th>argmax &lt; 0.5</th>\n",
              "      <th>focus_true_pred_true</th>\n",
              "      <th>focus_false_pred_true</th>\n",
              "      <th>focus_true_pred_false</th>\n",
              "      <th>focus_false_pred_false</th>\n",
              "    </tr>\n",
              "  </thead>\n",
              "  <tbody>\n",
              "    <tr>\n",
              "      <th>0</th>\n",
              "      <td>0</td>\n",
              "      <td>0</td>\n",
              "      <td>30000</td>\n",
              "      <td>1158</td>\n",
              "      <td>8840</td>\n",
              "      <td>2226</td>\n",
              "      <td>17776</td>\n",
              "    </tr>\n",
              "    <tr>\n",
              "      <th>1</th>\n",
              "      <td>1</td>\n",
              "      <td>0</td>\n",
              "      <td>30000</td>\n",
              "      <td>2734</td>\n",
              "      <td>10538</td>\n",
              "      <td>1159</td>\n",
              "      <td>15569</td>\n",
              "    </tr>\n",
              "    <tr>\n",
              "      <th>2</th>\n",
              "      <td>2</td>\n",
              "      <td>6862</td>\n",
              "      <td>23138</td>\n",
              "      <td>3105</td>\n",
              "      <td>12474</td>\n",
              "      <td>906</td>\n",
              "      <td>13515</td>\n",
              "    </tr>\n",
              "    <tr>\n",
              "      <th>3</th>\n",
              "      <td>3</td>\n",
              "      <td>7422</td>\n",
              "      <td>22578</td>\n",
              "      <td>3134</td>\n",
              "      <td>12932</td>\n",
              "      <td>963</td>\n",
              "      <td>12971</td>\n",
              "    </tr>\n",
              "    <tr>\n",
              "      <th>4</th>\n",
              "      <td>4</td>\n",
              "      <td>8016</td>\n",
              "      <td>21984</td>\n",
              "      <td>3242</td>\n",
              "      <td>13242</td>\n",
              "      <td>928</td>\n",
              "      <td>12588</td>\n",
              "    </tr>\n",
              "    <tr>\n",
              "      <th>...</th>\n",
              "      <td>...</td>\n",
              "      <td>...</td>\n",
              "      <td>...</td>\n",
              "      <td>...</td>\n",
              "      <td>...</td>\n",
              "      <td>...</td>\n",
              "      <td>...</td>\n",
              "    </tr>\n",
              "    <tr>\n",
              "      <th>96</th>\n",
              "      <td>96</td>\n",
              "      <td>9963</td>\n",
              "      <td>20037</td>\n",
              "      <td>3365</td>\n",
              "      <td>14262</td>\n",
              "      <td>759</td>\n",
              "      <td>11614</td>\n",
              "    </tr>\n",
              "    <tr>\n",
              "      <th>97</th>\n",
              "      <td>97</td>\n",
              "      <td>9953</td>\n",
              "      <td>20047</td>\n",
              "      <td>3357</td>\n",
              "      <td>14280</td>\n",
              "      <td>764</td>\n",
              "      <td>11599</td>\n",
              "    </tr>\n",
              "    <tr>\n",
              "      <th>98</th>\n",
              "      <td>98</td>\n",
              "      <td>9953</td>\n",
              "      <td>20047</td>\n",
              "      <td>3362</td>\n",
              "      <td>14271</td>\n",
              "      <td>758</td>\n",
              "      <td>11609</td>\n",
              "    </tr>\n",
              "    <tr>\n",
              "      <th>99</th>\n",
              "      <td>99</td>\n",
              "      <td>9954</td>\n",
              "      <td>20046</td>\n",
              "      <td>3360</td>\n",
              "      <td>14270</td>\n",
              "      <td>767</td>\n",
              "      <td>11603</td>\n",
              "    </tr>\n",
              "    <tr>\n",
              "      <th>100</th>\n",
              "      <td>100</td>\n",
              "      <td>9972</td>\n",
              "      <td>20028</td>\n",
              "      <td>3361</td>\n",
              "      <td>14267</td>\n",
              "      <td>761</td>\n",
              "      <td>11611</td>\n",
              "    </tr>\n",
              "  </tbody>\n",
              "</table>\n",
              "<p>101 rows × 7 columns</p>\n",
              "</div>"
            ],
            "text/plain": [
              "     epochs  argmax > 0.5  ...  focus_true_pred_false  focus_false_pred_false\n",
              "0         0             0  ...                   2226                   17776\n",
              "1         1             0  ...                   1159                   15569\n",
              "2         2          6862  ...                    906                   13515\n",
              "3         3          7422  ...                    963                   12971\n",
              "4         4          8016  ...                    928                   12588\n",
              "..      ...           ...  ...                    ...                     ...\n",
              "96       96          9963  ...                    759                   11614\n",
              "97       97          9953  ...                    764                   11599\n",
              "98       98          9953  ...                    758                   11609\n",
              "99       99          9954  ...                    767                   11603\n",
              "100     100          9972  ...                    761                   11611\n",
              "\n",
              "[101 rows x 7 columns]"
            ]
          },
          "metadata": {
            "tags": []
          },
          "execution_count": 19
        }
      ]
    },
    {
      "cell_type": "code",
      "metadata": {
        "colab": {
          "base_uri": "https://localhost:8080/",
          "height": 730
        },
        "id": "IMAhRdxOcVf6",
        "outputId": "45b13265-ef1c-4f05-c1b0-e42c04b9a869"
      },
      "source": [
        "fig= plt.figure(figsize=(12,12))\n",
        "plt.plot(df_train[columns[0]],df_train[columns[3]]/300, label =\"focus_true_pred_true \")\n",
        "plt.plot(df_train[columns[0]],df_train[columns[4]]/300, label =\"focus_false_pred_true \")\n",
        "plt.plot(df_train[columns[0]],df_train[columns[5]]/300, label =\"focus_true_pred_false \")\n",
        "plt.plot(df_train[columns[0]],df_train[columns[6]]/300, label =\"focus_false_pred_false \")\n",
        "plt.title(\"On Train set\")\n",
        "plt.legend(loc='center left', bbox_to_anchor=(1, 0.5))\n",
        "plt.xlabel(\"epochs\")\n",
        "plt.ylabel(\"percentage of data\")\n",
        "#plt.vlines(vline_list,min(min(df_train[columns[3]]/300),min(df_train[columns[4]]/300),min(df_train[columns[5]]/300),min(df_train[columns[6]]/300)), max(max(df_train[columns[3]]/300),max(df_train[columns[4]]/300),max(df_train[columns[5]]/300),max(df_train[columns[6]]/300)),linestyles='dotted')\n",
        "plt.show()\n",
        "fig.savefig(\"train_analysis_every_20.pdf\")\n",
        "fig.savefig(\"train_analysis_every_20.png\")"
      ],
      "execution_count": 20,
      "outputs": [
        {
          "output_type": "display_data",
          "data": {
            "image/png": "[encoded data removed]",
            "text/plain": [
              "<Figure size 864x864 with 1 Axes>"
            ]
          },
          "metadata": {
            "tags": [],
            "needs_background": "light"
          }
        }
      ]
    },
    {
      "cell_type": "code",
      "metadata": {
        "id": "VCnS6r2_3WdU"
      },
      "source": [
        "aph = []\n",
        "for i in ag:\n",
        "  aph.append(F.softmax(i,dim=1).detach().numpy())\n",
        "  \n",
        "aph = np.concatenate(aph,axis=0)\n",
        "torch.save({\n",
        "            'epoch': 500,\n",
        "            'model_state_dict': what_net.state_dict(),\n",
        "            #'optimizer_state_dict': optimizer_what.state_dict(),\n",
        "            \"optimizer_alpha\":optim1,\n",
        "            \"FTPT_analysis\":analysis_data_tr,\n",
        "            \"alpha\":aph\n",
        "\n",
        "            }, \"cifar_what_net_500.pt\")"
      ],
      "execution_count": 22,
      "outputs": []
    },
    {
      "cell_type": "code",
      "metadata": {
        "colab": {
          "base_uri": "https://localhost:8080/"
        },
        "id": "KVzrDOGS4UxU",
        "outputId": "1a79f451-d408-4932-8a7d-cd9efa3c5f19"
      },
      "source": [
        "aph"
      ],
      "execution_count": 23,
      "outputs": [
        {
          "output_type": "execute_result",
          "data": {
            "text/plain": [
              "array([[8.8407487e-02, 1.1394906e-01, 1.1394906e-01, ..., 1.1394906e-01,\n",
              "        1.1394906e-01, 1.1394906e-01],\n",
              "       [9.2325842e-01, 9.5927445e-03, 9.5927445e-03, ..., 9.5927445e-03,\n",
              "        9.5927445e-03, 9.5927445e-03],\n",
              "       [1.6836372e-01, 1.0395453e-01, 1.0395453e-01, ..., 1.0395453e-01,\n",
              "        1.0395453e-01, 1.0395453e-01],\n",
              "       ...,\n",
              "       [7.4710714e-04, 1.2490661e-01, 1.2490661e-01, ..., 1.2490661e-01,\n",
              "        1.2490661e-01, 1.2490661e-01],\n",
              "       [2.0694277e-01, 9.9132158e-02, 9.9132158e-02, ..., 9.9132158e-02,\n",
              "        9.9132158e-02, 9.9132158e-02],\n",
              "       [1.0166077e-01, 1.1229240e-01, 1.1229240e-01, ..., 1.1229240e-01,\n",
              "        1.1229240e-01, 1.1229240e-01]], dtype=float32)"
            ]
          },
          "metadata": {
            "tags": []
          },
          "execution_count": 23
        }
      ]
    },
    {
      "cell_type": "code",
      "metadata": {
        "id": "Z6heHND15EMz"
      },
      "source": [
        "running_loss_tr,anls_data,correct,total,accuracy = calculate_attn_loss(train_loader,what_net,criterion)"
      ],
      "execution_count": 24,
      "outputs": []
    },
    {
      "cell_type": "code",
      "metadata": {
        "colab": {
          "base_uri": "https://localhost:8080/"
        },
        "id": "zeKhsdpYWQvB",
        "outputId": "82255a95-b4b2-46b4-ad4a-ad68a1ae8b5f"
      },
      "source": [
        "print(\"argmax>0.5\",anls_data[-2])"
      ],
      "execution_count": 25,
      "outputs": [
        {
          "output_type": "stream",
          "text": [
            "argmax>0.5 9972\n"
          ],
          "name": "stdout"
        }
      ]
    },
    {
      "cell_type": "code",
      "metadata": {
        "id": "yF2bvWdIWUTa"
      },
      "source": [
        ""
      ],
      "execution_count": null,
      "outputs": []
    }
  ]
}