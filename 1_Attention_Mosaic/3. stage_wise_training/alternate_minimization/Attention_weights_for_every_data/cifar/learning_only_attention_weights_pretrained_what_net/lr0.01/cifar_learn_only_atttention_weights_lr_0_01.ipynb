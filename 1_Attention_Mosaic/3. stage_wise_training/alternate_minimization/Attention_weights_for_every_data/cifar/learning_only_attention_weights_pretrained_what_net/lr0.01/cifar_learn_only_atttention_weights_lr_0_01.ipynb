{
  "nbformat": 4,
  "nbformat_minor": 0,
  "metadata": {
    "accelerator": "GPU",
    "colab": {
      "name": "cifar_learn_only_atttention_weights_lr_0_01.ipynb",
      "provenance": [],
      "collapsed_sections": []
    },
    "kernelspec": {
      "display_name": "Python 3",
      "name": "python3"
    },
    "language_info": {
      "name": "python"
    }
  },
  "cells": [
    {
      "cell_type": "code",
      "metadata": {
        "id": "BWIyC9Ip_bcq"
      },
      "source": [
        "import numpy as np\n",
        "import pandas as pd\n",
        "\n",
        "import torch\n",
        "import torchvision\n",
        "from torch.utils.data import Dataset, DataLoader\n",
        "from torchvision import transforms, utils\n",
        "import torch.nn as nn\n",
        "import torch.nn.functional as F\n",
        "import torch.optim as optim\n",
        "\n",
        "from matplotlib import pyplot as plt\n",
        "%matplotlib inline\n",
        "torch.backends.cudnn.deterministic = True\n",
        "torch.backends.cudnn.benchmark = False"
      ],
      "execution_count": 1,
      "outputs": []
    },
    {
      "cell_type": "code",
      "metadata": {
        "colab": {
          "base_uri": "https://localhost:8080/"
        },
        "id": "cgw1f4rVkGr9",
        "outputId": "c73c973b-e72c-4168-ac14-7fa0b05f1a22"
      },
      "source": [
        "transform = transforms.Compose(\n",
        "    [transforms.ToTensor(),\n",
        "     transforms.Normalize((0.5, 0.5, 0.5), (0.5, 0.5, 0.5))])\n",
        "\n",
        "trainset = torchvision.datasets.CIFAR10(root='./data', train=True, download=True, transform=transform)"
      ],
      "execution_count": 2,
      "outputs": [
        {
          "output_type": "stream",
          "text": [
            "Files already downloaded and verified\n"
          ],
          "name": "stdout"
        }
      ]
    },
    {
      "cell_type": "code",
      "metadata": {
        "id": "D-xlWYTKkQEn"
      },
      "source": [
        "trainloader = torch.utils.data.DataLoader(trainset, batch_size=10, shuffle=False)\n",
        "\n",
        "\n",
        "classes = ('plane', 'car', 'bird', 'cat', 'deer', 'dog', 'frog', 'horse', 'ship', 'truck')\n",
        "\n",
        "foreground_classes = {'plane', 'car', 'bird'}\n",
        "#foreground_classes = {'bird', 'cat', 'deer'}\n",
        "background_classes = {'cat', 'deer', 'dog', 'frog', 'horse', 'ship', 'truck'}\n",
        "#background_classes = {'plane', 'car', 'dog', 'frog', 'horse','ship', 'truck'}\n",
        "\n",
        "fg1,fg2,fg3 = 0,1,2"
      ],
      "execution_count": 3,
      "outputs": []
    },
    {
      "cell_type": "code",
      "metadata": {
        "id": "zrX68qhikUbz"
      },
      "source": [
        "dataiter = iter(trainloader)\n",
        "background_data=[]\n",
        "background_label=[]\n",
        "foreground_data=[]\n",
        "foreground_label=[]\n",
        "batch_size=10\n",
        "\n",
        "for i in range(5000):\n",
        "  images, labels = dataiter.next()\n",
        "  for j in range(batch_size):\n",
        "    if(classes[labels[j]] in background_classes):\n",
        "      img = images[j].tolist()\n",
        "      background_data.append(img)\n",
        "      background_label.append(labels[j])\n",
        "    else:\n",
        "      img = images[j].tolist()\n",
        "      foreground_data.append(img)\n",
        "      foreground_label.append(labels[j])\n",
        "            \n",
        "foreground_data = torch.tensor(foreground_data)\n",
        "foreground_label = torch.tensor(foreground_label)\n",
        "background_data = torch.tensor(background_data)\n",
        "background_label = torch.tensor(background_label)"
      ],
      "execution_count": 4,
      "outputs": []
    },
    {
      "cell_type": "code",
      "metadata": {
        "id": "eD-QJkvnkgyk"
      },
      "source": [
        "def create_mosaic_img(bg_idx,fg_idx,fg): \n",
        "  \"\"\"\n",
        "  bg_idx : list of indexes of background_data[] to be used as background images in mosaic\n",
        "  fg_idx : index of image to be used as foreground image from foreground data\n",
        "  fg : at what position/index foreground image has to be stored out of 0-8\n",
        "  \"\"\"\n",
        "  image_list=[]\n",
        "  j=0\n",
        "  for i in range(9):\n",
        "    if i != fg:\n",
        "      image_list.append(background_data[bg_idx[j]])#.type(\"torch.DoubleTensor\"))\n",
        "      j+=1\n",
        "    else: \n",
        "      image_list.append(foreground_data[fg_idx])#.type(\"torch.DoubleTensor\"))\n",
        "      label = foreground_label[fg_idx]-fg1  # minus 7 because our fore ground classes are 7,8,9 but we have to store it as 0,1,2\n",
        "  #image_list = np.concatenate(image_list ,axis=0)\n",
        "  image_list = torch.stack(image_list) \n",
        "  return image_list,label"
      ],
      "execution_count": 5,
      "outputs": []
    },
    {
      "cell_type": "code",
      "metadata": {
        "id": "Zs10rfXHkli2"
      },
      "source": [
        "desired_num = 30000\n",
        "mosaic_list_of_images =[]      # list of mosaic images, each mosaic image is saved as list of 9 images\n",
        "fore_idx =[]                   # list of indexes at which foreground image is present in a mosaic image i.e from 0 to 9               \n",
        "mosaic_label=[]                # label of mosaic image = foreground class present in that mosaic\n",
        "for i in range(desired_num):\n",
        "  np.random.seed(i)\n",
        "  bg_idx = np.random.randint(0,35000,8)\n",
        "  fg_idx = np.random.randint(0,15000)\n",
        "  fg = np.random.randint(0,9)\n",
        "  fore_idx.append(fg)\n",
        "  image_list,label = create_mosaic_img(bg_idx,fg_idx,fg)\n",
        "  mosaic_list_of_images.append(image_list)\n",
        "  mosaic_label.append(label)"
      ],
      "execution_count": 6,
      "outputs": []
    },
    {
      "cell_type": "code",
      "metadata": {
        "id": "7km9Swb1kq4O"
      },
      "source": [
        "class MosaicDataset(Dataset):\n",
        "  \"\"\"MosaicDataset dataset.\"\"\"\n",
        "\n",
        "  def __init__(self, mosaic_list_of_images, mosaic_label, fore_idx):\n",
        "    \"\"\"\n",
        "      Args:\n",
        "        csv_file (string): Path to the csv file with annotations.\n",
        "        root_dir (string): Directory with all the images.\n",
        "        transform (callable, optional): Optional transform to be applied\n",
        "            on a sample.\n",
        "    \"\"\"\n",
        "    self.mosaic = mosaic_list_of_images\n",
        "    self.label = mosaic_label\n",
        "    self.fore_idx = fore_idx\n",
        "\n",
        "  def __len__(self):\n",
        "    return len(self.label)\n",
        "\n",
        "  def __getitem__(self, idx):\n",
        "    return self.mosaic[idx] , self.label[idx], self.fore_idx[idx]\n",
        "batch = 250\n",
        "msd = MosaicDataset(mosaic_list_of_images, mosaic_label , fore_idx)\n",
        "train_loader = DataLoader( msd,batch_size= batch ,shuffle=False,num_workers=0,)"
      ],
      "execution_count": 7,
      "outputs": []
    },
    {
      "cell_type": "code",
      "metadata": {
        "id": "lGVy-1EllAc_"
      },
      "source": [
        "data,labels,fg_index = iter(train_loader).next()"
      ],
      "execution_count": 8,
      "outputs": []
    },
    {
      "cell_type": "code",
      "metadata": {
        "id": "DOpZfj1bq7wN"
      },
      "source": [
        "ag = []\n",
        "for i in range(120):\n",
        "  alphag = torch.ones((250,9))/9\n",
        "  ag.append( alphag.requires_grad_() )"
      ],
      "execution_count": 9,
      "outputs": []
    },
    {
      "cell_type": "code",
      "metadata": {
        "id": "HbrMidFCla6h"
      },
      "source": [
        "class Module2(nn.Module):\n",
        "  def __init__(self):\n",
        "    super(Module2, self).__init__()\n",
        "    \n",
        "    self.conv1 = nn.Conv2d(3, 6, 5)\n",
        "    self.pool = nn.MaxPool2d(2, 2)\n",
        "    self.conv2 = nn.Conv2d(6, 16, 5)\n",
        "    self.fc1 = nn.Linear(16 * 5 * 5, 120)\n",
        "    self.fc2 = nn.Linear(120, 84)\n",
        "    self.fc3 = nn.Linear(84, 10)\n",
        "    self.fc4 = nn.Linear(10,3)\n",
        "\n",
        "  def forward(self,y):  #z batch of list of 9 images\n",
        "    y1 = self.pool(F.relu(self.conv1(y)))\n",
        "    y1 = self.pool(F.relu(self.conv2(y1)))\n",
        "    y1 = y1.view(-1, 16 * 5 * 5)\n",
        "\n",
        "    y1 = F.relu(self.fc1(y1))\n",
        "    y1 = F.relu(self.fc2(y1))\n",
        "    y1 = F.relu(self.fc3(y1))\n",
        "    y1 = self.fc4(y1)\n",
        "    return y1"
      ],
      "execution_count": 10,
      "outputs": []
    },
    {
      "cell_type": "code",
      "metadata": {
        "id": "rRqj2VELllkX"
      },
      "source": [
        "torch.manual_seed(1234)\n",
        "what_net = Module2().double()\n",
        "\n",
        "what_net.load_state_dict(torch.load(\"simultaneous_what.pt\"))\n",
        "what_net = what_net.to(\"cuda\")"
      ],
      "execution_count": 11,
      "outputs": []
    },
    {
      "cell_type": "code",
      "metadata": {
        "id": "6d8Wch99l4yB"
      },
      "source": [
        "def attn_avg(x,alpha):\n",
        "  y = torch.zeros([batch,3, 32,32], dtype=torch.float64)\n",
        "  y = y.to(\"cuda\")\n",
        "  alpha = F.softmax(alpha,dim=1)   # alphas\n",
        "  for i in range(9):            \n",
        "    alpha1 = alpha[:,i]          \n",
        "    y = y + torch.mul(alpha1[:,None,None,None],x[:,i])\n",
        "    return y,alpha\n"
      ],
      "execution_count": 12,
      "outputs": []
    },
    {
      "cell_type": "code",
      "metadata": {
        "id": "Rz1Kpw12loV6"
      },
      "source": [
        "def calculate_attn_loss(dataloader,what,criter):\n",
        "  what.eval()\n",
        "  r_loss = 0\n",
        "  alphas = []\n",
        "  lbls = []\n",
        "  pred = []\n",
        "  fidices = []\n",
        "  correct = 0\n",
        "  tot = 0\n",
        "  with torch.no_grad():\n",
        "    for i, data in enumerate(dataloader, 0):\n",
        "      inputs, labels,fidx= data\n",
        "      lbls.append(labels)\n",
        "      fidices.append(fidx)\n",
        "      inputs = inputs.double()\n",
        "      alpha = ag[i]  # alpha for ith batch\n",
        "      inputs, labels,alpha = inputs.to(\"cuda\"),labels.to(\"cuda\"),alpha.to(\"cuda\")\n",
        "      avg,alpha = attn_avg(inputs,alpha)\n",
        "      alpha = alpha.to(\"cuda\")\n",
        "      outputs = what(avg)\n",
        "      _, predicted = torch.max(outputs.data, 1)\n",
        "      correct += sum(predicted == labels)\n",
        "      tot += len(predicted)\n",
        "      pred.append(predicted.cpu().numpy())\n",
        "      alphas.append(alpha.cpu().numpy())\n",
        "      loss = criter(outputs, labels)\n",
        "      r_loss += loss.item()\n",
        "  alphas = np.concatenate(alphas,axis=0)\n",
        "  pred = np.concatenate(pred,axis=0)\n",
        "  lbls = np.concatenate(lbls,axis=0)\n",
        "  fidices = np.concatenate(fidices,axis=0)\n",
        "  #print(alphas.shape,pred.shape,lbls.shape,fidices.shape) \n",
        "  analysis = analyse_data(alphas,lbls,pred,fidices)\n",
        "  return r_loss/i,analysis,correct.item(),tot,correct.item()/tot"
      ],
      "execution_count": 13,
      "outputs": []
    },
    {
      "cell_type": "code",
      "metadata": {
        "id": "sAY-x6UAwrwE"
      },
      "source": [
        "for param in what_net.parameters():\n",
        "    param.requires_grad = False"
      ],
      "execution_count": 14,
      "outputs": []
    },
    {
      "cell_type": "code",
      "metadata": {
        "id": "_toCktPanH0S"
      },
      "source": [
        "\n",
        "def analyse_data(alphas,lbls,predicted,f_idx):\n",
        "    '''\n",
        "       analysis data is created here\n",
        "    '''\n",
        "    batch = len(predicted)\n",
        "    amth,alth,ftpt,ffpt,ftpf,ffpf = 0,0,0,0,0,0\n",
        "    for j in range (batch):\n",
        "      focus = np.argmax(alphas[j])\n",
        "      if(alphas[j][focus] >= 0.5):\n",
        "        amth +=1\n",
        "      else:\n",
        "        alth +=1\n",
        "      if(focus == f_idx[j] and predicted[j] == lbls[j]):\n",
        "        ftpt += 1\n",
        "      elif(focus != f_idx[j] and predicted[j] == lbls[j]):\n",
        "        ffpt +=1\n",
        "      elif(focus == f_idx[j] and predicted[j] != lbls[j]):\n",
        "        ftpf +=1\n",
        "      elif(focus != f_idx[j] and predicted[j] != lbls[j]):\n",
        "        ffpf +=1\n",
        "    #print(sum(predicted==lbls),ftpt+ffpt)\n",
        "    return [ftpt,ffpt,ftpf,ffpf,amth,alth]"
      ],
      "execution_count": 15,
      "outputs": []
    },
    {
      "cell_type": "code",
      "metadata": {
        "id": "S633XgMToeN3"
      },
      "source": [
        "optim1 = []\n",
        "for i in range(120):\n",
        "  optim1.append(optim.RMSprop([ag[i]], lr=0.01))"
      ],
      "execution_count": 16,
      "outputs": []
    },
    {
      "cell_type": "code",
      "metadata": {
        "colab": {
          "base_uri": "https://localhost:8080/"
        },
        "id": "qPaYaojinMTA",
        "outputId": "413cde04-6c15-4ea6-bc0b-133b5dc793d4"
      },
      "source": [
        "# instantiate optimizer\n",
        "#optimizer_what = optim.RMSprop(what_net.parameters(), lr=0.001)#, momentum=0.9)#,nesterov=True)\n",
        "\n",
        "\n",
        " \n",
        "\n",
        "\n",
        "criterion = nn.CrossEntropyLoss()\n",
        "acti = []\n",
        "analysis_data_tr = []\n",
        "analysis_data_tst = []\n",
        "loss_curi_tr = []\n",
        "loss_curi_tst = []\n",
        "epochs = 100\n",
        "\n",
        "\n",
        "# calculate zeroth epoch loss and FTPT values\n",
        "running_loss,anlys_data,correct,total,accuracy = calculate_attn_loss(train_loader,what_net,criterion)\n",
        "print('training epoch: [%d ] loss: %.3f correct: %.3f, total: %.3f, accuracy: %.3f' %(0,running_loss,correct,total,accuracy)) \n",
        "loss_curi_tr.append(running_loss)\n",
        "analysis_data_tr.append(anlys_data)\n",
        "\n",
        "\n",
        "\n",
        "\n",
        "# training starts \n",
        "for epoch in range(epochs): # loop over the dataset multiple times\n",
        "  ep_lossi = []\n",
        "  running_loss = 0.0\n",
        "  what_net.train()\n",
        "  for i, data in enumerate(train_loader, 0):\n",
        "    # get the inputs\n",
        "    grads = [] \n",
        "    inputs, labels,_  = data\n",
        "    inputs = inputs.double()\n",
        "    alpha = ag[i] # alpha for ith batch\n",
        "    inputs, labels,alpha = inputs.to(\"cuda\"),labels.to(\"cuda\"),alpha.to(\"cuda\")\n",
        "        \n",
        "    # zero the parameter gradients\n",
        "    #optimizer_what.zero_grad()\n",
        "    optim1[i].zero_grad()\n",
        "      \n",
        "    # forward + backward + optimize\n",
        "    avg,alpha = attn_avg(inputs,alpha)\n",
        "    outputs = what_net(avg)     \n",
        "    loss = criterion(outputs, labels)\n",
        "\n",
        "    # print statistics\n",
        "    running_loss += loss.item()\n",
        "    #alpha.retain_grad()\n",
        "    loss.backward(retain_graph=False)\n",
        "    #optimizer_what.step()\n",
        "    optim1[i].step()\n",
        "\n",
        "\n",
        "  running_loss_tr,anls_data,correct,total,accuracy = calculate_attn_loss(train_loader,what_net,criterion)\n",
        "  analysis_data_tr.append(anls_data)\n",
        "  loss_curi_tr.append(running_loss_tr)   #loss per epoch\n",
        "  print('training epoch: [%d ] loss: %.3f correct: %.3f, total: %.3f, accuracy: %.3f' %(epoch+1,running_loss_tr,correct,total,accuracy)) \n",
        "\n",
        "\n",
        "  \n",
        "  if running_loss_tr<=0.08:\n",
        "    break\n",
        "print('Finished Training run ')\n",
        "analysis_data_tr = np.array(analysis_data_tr)\n",
        "\n"
      ],
      "execution_count": 17,
      "outputs": [
        {
          "output_type": "stream",
          "text": [
            "training epoch: [0 ] loss: 4.434 correct: 9998.000, total: 30000.000, accuracy: 0.333\n",
            "training epoch: [1 ] loss: 4.140 correct: 10212.000, total: 30000.000, accuracy: 0.340\n",
            "training epoch: [2 ] loss: 3.910 correct: 10398.000, total: 30000.000, accuracy: 0.347\n",
            "training epoch: [3 ] loss: 3.746 correct: 10562.000, total: 30000.000, accuracy: 0.352\n",
            "training epoch: [4 ] loss: 3.624 correct: 10756.000, total: 30000.000, accuracy: 0.359\n",
            "training epoch: [5 ] loss: 3.532 correct: 10941.000, total: 30000.000, accuracy: 0.365\n",
            "training epoch: [6 ] loss: 3.462 correct: 11107.000, total: 30000.000, accuracy: 0.370\n",
            "training epoch: [7 ] loss: 3.406 correct: 11255.000, total: 30000.000, accuracy: 0.375\n",
            "training epoch: [8 ] loss: 3.362 correct: 11391.000, total: 30000.000, accuracy: 0.380\n",
            "training epoch: [9 ] loss: 3.326 correct: 11513.000, total: 30000.000, accuracy: 0.384\n",
            "training epoch: [10 ] loss: 3.295 correct: 11621.000, total: 30000.000, accuracy: 0.387\n",
            "training epoch: [11 ] loss: 3.270 correct: 11763.000, total: 30000.000, accuracy: 0.392\n",
            "training epoch: [12 ] loss: 3.248 correct: 11857.000, total: 30000.000, accuracy: 0.395\n",
            "training epoch: [13 ] loss: 3.230 correct: 11966.000, total: 30000.000, accuracy: 0.399\n",
            "training epoch: [14 ] loss: 3.214 correct: 12056.000, total: 30000.000, accuracy: 0.402\n",
            "training epoch: [15 ] loss: 3.201 correct: 12119.000, total: 30000.000, accuracy: 0.404\n",
            "training epoch: [16 ] loss: 3.190 correct: 12175.000, total: 30000.000, accuracy: 0.406\n",
            "training epoch: [17 ] loss: 3.180 correct: 12234.000, total: 30000.000, accuracy: 0.408\n",
            "training epoch: [18 ] loss: 3.170 correct: 12275.000, total: 30000.000, accuracy: 0.409\n",
            "training epoch: [19 ] loss: 3.162 correct: 12318.000, total: 30000.000, accuracy: 0.411\n",
            "training epoch: [20 ] loss: 3.154 correct: 12369.000, total: 30000.000, accuracy: 0.412\n",
            "training epoch: [21 ] loss: 3.148 correct: 12420.000, total: 30000.000, accuracy: 0.414\n",
            "training epoch: [22 ] loss: 3.142 correct: 12444.000, total: 30000.000, accuracy: 0.415\n",
            "training epoch: [23 ] loss: 3.136 correct: 12475.000, total: 30000.000, accuracy: 0.416\n",
            "training epoch: [24 ] loss: 3.130 correct: 12509.000, total: 30000.000, accuracy: 0.417\n",
            "training epoch: [25 ] loss: 3.125 correct: 12543.000, total: 30000.000, accuracy: 0.418\n",
            "training epoch: [26 ] loss: 3.121 correct: 12564.000, total: 30000.000, accuracy: 0.419\n",
            "training epoch: [27 ] loss: 3.117 correct: 12594.000, total: 30000.000, accuracy: 0.420\n",
            "training epoch: [28 ] loss: 3.113 correct: 12625.000, total: 30000.000, accuracy: 0.421\n",
            "training epoch: [29 ] loss: 3.109 correct: 12655.000, total: 30000.000, accuracy: 0.422\n",
            "training epoch: [30 ] loss: 3.106 correct: 12667.000, total: 30000.000, accuracy: 0.422\n",
            "training epoch: [31 ] loss: 3.103 correct: 12691.000, total: 30000.000, accuracy: 0.423\n",
            "training epoch: [32 ] loss: 3.101 correct: 12711.000, total: 30000.000, accuracy: 0.424\n",
            "training epoch: [33 ] loss: 3.098 correct: 12723.000, total: 30000.000, accuracy: 0.424\n",
            "training epoch: [34 ] loss: 3.096 correct: 12734.000, total: 30000.000, accuracy: 0.424\n",
            "training epoch: [35 ] loss: 3.094 correct: 12750.000, total: 30000.000, accuracy: 0.425\n",
            "training epoch: [36 ] loss: 3.092 correct: 12764.000, total: 30000.000, accuracy: 0.425\n",
            "training epoch: [37 ] loss: 3.091 correct: 12771.000, total: 30000.000, accuracy: 0.426\n",
            "training epoch: [38 ] loss: 3.089 correct: 12784.000, total: 30000.000, accuracy: 0.426\n",
            "training epoch: [39 ] loss: 3.088 correct: 12792.000, total: 30000.000, accuracy: 0.426\n",
            "training epoch: [40 ] loss: 3.087 correct: 12807.000, total: 30000.000, accuracy: 0.427\n",
            "training epoch: [41 ] loss: 3.085 correct: 12810.000, total: 30000.000, accuracy: 0.427\n",
            "training epoch: [42 ] loss: 3.084 correct: 12817.000, total: 30000.000, accuracy: 0.427\n",
            "training epoch: [43 ] loss: 3.083 correct: 12825.000, total: 30000.000, accuracy: 0.427\n",
            "training epoch: [44 ] loss: 3.082 correct: 12824.000, total: 30000.000, accuracy: 0.427\n",
            "training epoch: [45 ] loss: 3.081 correct: 12831.000, total: 30000.000, accuracy: 0.428\n",
            "training epoch: [46 ] loss: 3.080 correct: 12838.000, total: 30000.000, accuracy: 0.428\n",
            "training epoch: [47 ] loss: 3.079 correct: 12840.000, total: 30000.000, accuracy: 0.428\n",
            "training epoch: [48 ] loss: 3.078 correct: 12842.000, total: 30000.000, accuracy: 0.428\n",
            "training epoch: [49 ] loss: 3.078 correct: 12853.000, total: 30000.000, accuracy: 0.428\n",
            "training epoch: [50 ] loss: 3.077 correct: 12856.000, total: 30000.000, accuracy: 0.429\n",
            "training epoch: [51 ] loss: 3.076 correct: 12864.000, total: 30000.000, accuracy: 0.429\n",
            "training epoch: [52 ] loss: 3.075 correct: 12869.000, total: 30000.000, accuracy: 0.429\n",
            "training epoch: [53 ] loss: 3.074 correct: 12873.000, total: 30000.000, accuracy: 0.429\n",
            "training epoch: [54 ] loss: 3.074 correct: 12880.000, total: 30000.000, accuracy: 0.429\n",
            "training epoch: [55 ] loss: 3.073 correct: 12889.000, total: 30000.000, accuracy: 0.430\n",
            "training epoch: [56 ] loss: 3.072 correct: 12890.000, total: 30000.000, accuracy: 0.430\n",
            "training epoch: [57 ] loss: 3.071 correct: 12892.000, total: 30000.000, accuracy: 0.430\n",
            "training epoch: [58 ] loss: 3.071 correct: 12893.000, total: 30000.000, accuracy: 0.430\n",
            "training epoch: [59 ] loss: 3.070 correct: 12899.000, total: 30000.000, accuracy: 0.430\n",
            "training epoch: [60 ] loss: 3.070 correct: 12901.000, total: 30000.000, accuracy: 0.430\n",
            "training epoch: [61 ] loss: 3.069 correct: 12903.000, total: 30000.000, accuracy: 0.430\n",
            "training epoch: [62 ] loss: 3.069 correct: 12906.000, total: 30000.000, accuracy: 0.430\n",
            "training epoch: [63 ] loss: 3.068 correct: 12912.000, total: 30000.000, accuracy: 0.430\n",
            "training epoch: [64 ] loss: 3.068 correct: 12914.000, total: 30000.000, accuracy: 0.430\n",
            "training epoch: [65 ] loss: 3.067 correct: 12920.000, total: 30000.000, accuracy: 0.431\n",
            "training epoch: [66 ] loss: 3.067 correct: 12924.000, total: 30000.000, accuracy: 0.431\n",
            "training epoch: [67 ] loss: 3.067 correct: 12927.000, total: 30000.000, accuracy: 0.431\n",
            "training epoch: [68 ] loss: 3.066 correct: 12929.000, total: 30000.000, accuracy: 0.431\n",
            "training epoch: [69 ] loss: 3.066 correct: 12932.000, total: 30000.000, accuracy: 0.431\n",
            "training epoch: [70 ] loss: 3.065 correct: 12931.000, total: 30000.000, accuracy: 0.431\n",
            "training epoch: [71 ] loss: 3.065 correct: 12935.000, total: 30000.000, accuracy: 0.431\n",
            "training epoch: [72 ] loss: 3.065 correct: 12935.000, total: 30000.000, accuracy: 0.431\n",
            "training epoch: [73 ] loss: 3.064 correct: 12939.000, total: 30000.000, accuracy: 0.431\n",
            "training epoch: [74 ] loss: 3.064 correct: 12939.000, total: 30000.000, accuracy: 0.431\n",
            "training epoch: [75 ] loss: 3.064 correct: 12942.000, total: 30000.000, accuracy: 0.431\n",
            "training epoch: [76 ] loss: 3.063 correct: 12942.000, total: 30000.000, accuracy: 0.431\n",
            "training epoch: [77 ] loss: 3.063 correct: 12948.000, total: 30000.000, accuracy: 0.432\n",
            "training epoch: [78 ] loss: 3.062 correct: 12947.000, total: 30000.000, accuracy: 0.432\n",
            "training epoch: [79 ] loss: 3.062 correct: 12950.000, total: 30000.000, accuracy: 0.432\n",
            "training epoch: [80 ] loss: 3.062 correct: 12950.000, total: 30000.000, accuracy: 0.432\n",
            "training epoch: [81 ] loss: 3.062 correct: 12952.000, total: 30000.000, accuracy: 0.432\n",
            "training epoch: [82 ] loss: 3.061 correct: 12955.000, total: 30000.000, accuracy: 0.432\n",
            "training epoch: [83 ] loss: 3.061 correct: 12956.000, total: 30000.000, accuracy: 0.432\n",
            "training epoch: [84 ] loss: 3.061 correct: 12956.000, total: 30000.000, accuracy: 0.432\n",
            "training epoch: [85 ] loss: 3.060 correct: 12957.000, total: 30000.000, accuracy: 0.432\n",
            "training epoch: [86 ] loss: 3.060 correct: 12957.000, total: 30000.000, accuracy: 0.432\n",
            "training epoch: [87 ] loss: 3.060 correct: 12959.000, total: 30000.000, accuracy: 0.432\n",
            "training epoch: [88 ] loss: 3.060 correct: 12959.000, total: 30000.000, accuracy: 0.432\n",
            "training epoch: [89 ] loss: 3.060 correct: 12962.000, total: 30000.000, accuracy: 0.432\n",
            "training epoch: [90 ] loss: 3.059 correct: 12962.000, total: 30000.000, accuracy: 0.432\n",
            "training epoch: [91 ] loss: 3.059 correct: 12964.000, total: 30000.000, accuracy: 0.432\n",
            "training epoch: [92 ] loss: 3.059 correct: 12965.000, total: 30000.000, accuracy: 0.432\n",
            "training epoch: [93 ] loss: 3.059 correct: 12966.000, total: 30000.000, accuracy: 0.432\n",
            "training epoch: [94 ] loss: 3.058 correct: 12968.000, total: 30000.000, accuracy: 0.432\n",
            "training epoch: [95 ] loss: 3.058 correct: 12970.000, total: 30000.000, accuracy: 0.432\n",
            "training epoch: [96 ] loss: 3.058 correct: 12970.000, total: 30000.000, accuracy: 0.432\n",
            "training epoch: [97 ] loss: 3.058 correct: 12970.000, total: 30000.000, accuracy: 0.432\n",
            "training epoch: [98 ] loss: 3.057 correct: 12969.000, total: 30000.000, accuracy: 0.432\n",
            "training epoch: [99 ] loss: 3.057 correct: 12971.000, total: 30000.000, accuracy: 0.432\n",
            "training epoch: [100 ] loss: 3.057 correct: 12971.000, total: 30000.000, accuracy: 0.432\n",
            "Finished Training run \n"
          ],
          "name": "stdout"
        }
      ]
    },
    {
      "cell_type": "code",
      "metadata": {
        "id": "AciJnAh5nfug"
      },
      "source": [
        "columns = [\"epochs\", \"argmax > 0.5\" ,\"argmax < 0.5\", \"focus_true_pred_true\", \"focus_false_pred_true\", \"focus_true_pred_false\", \"focus_false_pred_false\" ]\n",
        "df_train = pd.DataFrame()\n",
        "df_test = pd.DataFrame()\n",
        "df_train[columns[0]] = np.arange(0,epoch+2)\n",
        "df_train[columns[1]] = analysis_data_tr[:,-2]\n",
        "df_train[columns[2]] = analysis_data_tr[:,-1]\n",
        "df_train[columns[3]] = analysis_data_tr[:,0]\n",
        "df_train[columns[4]] = analysis_data_tr[:,1]\n",
        "df_train[columns[5]] = analysis_data_tr[:,2]\n",
        "df_train[columns[6]] = analysis_data_tr[:,3]"
      ],
      "execution_count": 18,
      "outputs": []
    },
    {
      "cell_type": "code",
      "metadata": {
        "colab": {
          "base_uri": "https://localhost:8080/",
          "height": 436
        },
        "id": "NoQpS_6scRsC",
        "outputId": "f6f18d79-a6f7-4beb-a51e-37785adeacd6"
      },
      "source": [
        "df_train"
      ],
      "execution_count": 19,
      "outputs": [
        {
          "output_type": "execute_result",
          "data": {
            "text/html": [
              "<div>\n",
              "<style scoped>\n",
              "    .dataframe tbody tr th:only-of-type {\n",
              "        vertical-align: middle;\n",
              "    }\n",
              "\n",
              "    .dataframe tbody tr th {\n",
              "        vertical-align: top;\n",
              "    }\n",
              "\n",
              "    .dataframe thead th {\n",
              "        text-align: right;\n",
              "    }\n",
              "</style>\n",
              "<table border=\"1\" class=\"dataframe\">\n",
              "  <thead>\n",
              "    <tr style=\"text-align: right;\">\n",
              "      <th></th>\n",
              "      <th>epochs</th>\n",
              "      <th>argmax &gt; 0.5</th>\n",
              "      <th>argmax &lt; 0.5</th>\n",
              "      <th>focus_true_pred_true</th>\n",
              "      <th>focus_false_pred_true</th>\n",
              "      <th>focus_true_pred_false</th>\n",
              "      <th>focus_false_pred_false</th>\n",
              "    </tr>\n",
              "  </thead>\n",
              "  <tbody>\n",
              "    <tr>\n",
              "      <th>0</th>\n",
              "      <td>0</td>\n",
              "      <td>0</td>\n",
              "      <td>30000</td>\n",
              "      <td>1158</td>\n",
              "      <td>8840</td>\n",
              "      <td>2226</td>\n",
              "      <td>17776</td>\n",
              "    </tr>\n",
              "    <tr>\n",
              "      <th>1</th>\n",
              "      <td>1</td>\n",
              "      <td>0</td>\n",
              "      <td>30000</td>\n",
              "      <td>1370</td>\n",
              "      <td>8842</td>\n",
              "      <td>2523</td>\n",
              "      <td>17265</td>\n",
              "    </tr>\n",
              "    <tr>\n",
              "      <th>2</th>\n",
              "      <td>2</td>\n",
              "      <td>0</td>\n",
              "      <td>30000</td>\n",
              "      <td>1422</td>\n",
              "      <td>8976</td>\n",
              "      <td>2484</td>\n",
              "      <td>17118</td>\n",
              "    </tr>\n",
              "    <tr>\n",
              "      <th>3</th>\n",
              "      <td>3</td>\n",
              "      <td>0</td>\n",
              "      <td>30000</td>\n",
              "      <td>1491</td>\n",
              "      <td>9071</td>\n",
              "      <td>2405</td>\n",
              "      <td>17033</td>\n",
              "    </tr>\n",
              "    <tr>\n",
              "      <th>4</th>\n",
              "      <td>4</td>\n",
              "      <td>0</td>\n",
              "      <td>30000</td>\n",
              "      <td>1560</td>\n",
              "      <td>9196</td>\n",
              "      <td>2364</td>\n",
              "      <td>16880</td>\n",
              "    </tr>\n",
              "    <tr>\n",
              "      <th>...</th>\n",
              "      <td>...</td>\n",
              "      <td>...</td>\n",
              "      <td>...</td>\n",
              "      <td>...</td>\n",
              "      <td>...</td>\n",
              "      <td>...</td>\n",
              "      <td>...</td>\n",
              "    </tr>\n",
              "    <tr>\n",
              "      <th>96</th>\n",
              "      <td>96</td>\n",
              "      <td>636</td>\n",
              "      <td>29364</td>\n",
              "      <td>2225</td>\n",
              "      <td>10745</td>\n",
              "      <td>1692</td>\n",
              "      <td>15338</td>\n",
              "    </tr>\n",
              "    <tr>\n",
              "      <th>97</th>\n",
              "      <td>97</td>\n",
              "      <td>637</td>\n",
              "      <td>29363</td>\n",
              "      <td>2228</td>\n",
              "      <td>10742</td>\n",
              "      <td>1691</td>\n",
              "      <td>15339</td>\n",
              "    </tr>\n",
              "    <tr>\n",
              "      <th>98</th>\n",
              "      <td>98</td>\n",
              "      <td>640</td>\n",
              "      <td>29360</td>\n",
              "      <td>2224</td>\n",
              "      <td>10745</td>\n",
              "      <td>1688</td>\n",
              "      <td>15343</td>\n",
              "    </tr>\n",
              "    <tr>\n",
              "      <th>99</th>\n",
              "      <td>99</td>\n",
              "      <td>645</td>\n",
              "      <td>29355</td>\n",
              "      <td>2224</td>\n",
              "      <td>10747</td>\n",
              "      <td>1691</td>\n",
              "      <td>15338</td>\n",
              "    </tr>\n",
              "    <tr>\n",
              "      <th>100</th>\n",
              "      <td>100</td>\n",
              "      <td>650</td>\n",
              "      <td>29350</td>\n",
              "      <td>2224</td>\n",
              "      <td>10747</td>\n",
              "      <td>1689</td>\n",
              "      <td>15340</td>\n",
              "    </tr>\n",
              "  </tbody>\n",
              "</table>\n",
              "<p>101 rows × 7 columns</p>\n",
              "</div>"
            ],
            "text/plain": [
              "     epochs  argmax > 0.5  ...  focus_true_pred_false  focus_false_pred_false\n",
              "0         0             0  ...                   2226                   17776\n",
              "1         1             0  ...                   2523                   17265\n",
              "2         2             0  ...                   2484                   17118\n",
              "3         3             0  ...                   2405                   17033\n",
              "4         4             0  ...                   2364                   16880\n",
              "..      ...           ...  ...                    ...                     ...\n",
              "96       96           636  ...                   1692                   15338\n",
              "97       97           637  ...                   1691                   15339\n",
              "98       98           640  ...                   1688                   15343\n",
              "99       99           645  ...                   1691                   15338\n",
              "100     100           650  ...                   1689                   15340\n",
              "\n",
              "[101 rows x 7 columns]"
            ]
          },
          "metadata": {
            "tags": []
          },
          "execution_count": 19
        }
      ]
    },
    {
      "cell_type": "code",
      "metadata": {
        "colab": {
          "base_uri": "https://localhost:8080/",
          "height": 730
        },
        "id": "IMAhRdxOcVf6",
        "outputId": "f357269b-b7a1-46bc-893a-dc53445e5670"
      },
      "source": [
        "fig= plt.figure(figsize=(12,12))\n",
        "plt.plot(df_train[columns[0]],df_train[columns[3]]/300, label =\"focus_true_pred_true \")\n",
        "plt.plot(df_train[columns[0]],df_train[columns[4]]/300, label =\"focus_false_pred_true \")\n",
        "plt.plot(df_train[columns[0]],df_train[columns[5]]/300, label =\"focus_true_pred_false \")\n",
        "plt.plot(df_train[columns[0]],df_train[columns[6]]/300, label =\"focus_false_pred_false \")\n",
        "plt.title(\"On Train set\")\n",
        "plt.legend(loc='center left', bbox_to_anchor=(1, 0.5))\n",
        "plt.xlabel(\"epochs\")\n",
        "plt.ylabel(\"percentage of data\")\n",
        "#plt.vlines(vline_list,min(min(df_train[columns[3]]/300),min(df_train[columns[4]]/300),min(df_train[columns[5]]/300),min(df_train[columns[6]]/300)), max(max(df_train[columns[3]]/300),max(df_train[columns[4]]/300),max(df_train[columns[5]]/300),max(df_train[columns[6]]/300)),linestyles='dotted')\n",
        "plt.show()\n",
        "fig.savefig(\"train_analysis_every_20.pdf\")\n",
        "fig.savefig(\"train_analysis_every_20.png\")"
      ],
      "execution_count": 20,
      "outputs": [
        {
          "output_type": "display_data",
          "data": {
            "image/png": "[encoded data removed]",
            "text/plain": [
              "<Figure size 864x864 with 1 Axes>"
            ]
          },
          "metadata": {
            "tags": [],
            "needs_background": "light"
          }
        }
      ]
    },
    {
      "cell_type": "code",
      "metadata": {
        "id": "VCnS6r2_3WdU"
      },
      "source": [
        "aph = []\n",
        "for i in ag:\n",
        "  aph.append(F.softmax(i,dim=1).detach().numpy())\n",
        "  \n",
        "aph = np.concatenate(aph,axis=0)\n",
        "torch.save({\n",
        "            'epoch': 500,\n",
        "            'model_state_dict': what_net.state_dict(),\n",
        "            #'optimizer_state_dict': optimizer_what.state_dict(),\n",
        "            \"optimizer_alpha\":optim1,\n",
        "            \"FTPT_analysis\":analysis_data_tr,\n",
        "            \"alpha\":aph\n",
        "\n",
        "            }, \"cifar_what_net_500.pt\")"
      ],
      "execution_count": 21,
      "outputs": []
    },
    {
      "cell_type": "code",
      "metadata": {
        "colab": {
          "base_uri": "https://localhost:8080/"
        },
        "id": "KVzrDOGS4UxU",
        "outputId": "f6a17f34-7314-4577-9ccb-f28fef46d09c"
      },
      "source": [
        "aph"
      ],
      "execution_count": 22,
      "outputs": [
        {
          "output_type": "execute_result",
          "data": {
            "text/plain": [
              "array([[0.10929552, 0.11133806, 0.11133806, ..., 0.11133806, 0.11133806,\n",
              "        0.11133806],\n",
              "       [0.31361046, 0.0857987 , 0.0857987 , ..., 0.0857987 , 0.0857987 ,\n",
              "        0.0857987 ],\n",
              "       [0.16882671, 0.10389666, 0.10389666, ..., 0.10389666, 0.10389666,\n",
              "        0.10389666],\n",
              "       ...,\n",
              "       [0.05999167, 0.11750104, 0.11750104, ..., 0.11750104, 0.11750104,\n",
              "        0.11750104],\n",
              "       [0.14958143, 0.10630232, 0.10630232, ..., 0.10630232, 0.10630232,\n",
              "        0.10630232],\n",
              "       [0.13132711, 0.1085841 , 0.1085841 , ..., 0.1085841 , 0.1085841 ,\n",
              "        0.1085841 ]], dtype=float32)"
            ]
          },
          "metadata": {
            "tags": []
          },
          "execution_count": 22
        }
      ]
    },
    {
      "cell_type": "code",
      "metadata": {
        "id": "Z6heHND15EMz"
      },
      "source": [
        "running_loss_tr,anls_data,correct,total,accuracy = calculate_attn_loss(train_loader,what_net,criterion)"
      ],
      "execution_count": 23,
      "outputs": []
    },
    {
      "cell_type": "code",
      "metadata": {
        "colab": {
          "base_uri": "https://localhost:8080/"
        },
        "id": "zeKhsdpYWQvB",
        "outputId": "f6e0a41a-f814-442a-9128-b0e661def00e"
      },
      "source": [
        "print(\"argmax>0.5\",anls_data[-2])"
      ],
      "execution_count": 24,
      "outputs": [
        {
          "output_type": "stream",
          "text": [
            "argmax>0.5 650\n"
          ],
          "name": "stdout"
        }
      ]
    },
    {
      "cell_type": "code",
      "metadata": {
        "id": "yF2bvWdIWUTa"
      },
      "source": [
        ""
      ],
      "execution_count": 24,
      "outputs": []
    }
  ]
}