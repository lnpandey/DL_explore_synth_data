{
  "nbformat": 4,
  "nbformat_minor": 0,
  "metadata": {
    "accelerator": "GPU",
    "colab": {
      "name": "cifar_atttention_weights_lr_10.ipynb",
      "provenance": [],
      "collapsed_sections": []
    },
    "kernelspec": {
      "display_name": "Python 3",
      "name": "python3"
    },
    "language_info": {
      "name": "python"
    },
    "widgets": {
      "application/vnd.jupyter.widget-state+json": {
        "7668699975d3492485587e195b912907": {
          "model_module": "@jupyter-widgets/controls",
          "model_name": "HBoxModel",
          "state": {
            "_view_name": "HBoxView",
            "_dom_classes": [],
            "_model_name": "HBoxModel",
            "_view_module": "@jupyter-widgets/controls",
            "_model_module_version": "1.5.0",
            "_view_count": null,
            "_view_module_version": "1.5.0",
            "box_style": "",
            "layout": "IPY_MODEL_8d7c24e333e042ac89b3e4d7928fa019",
            "_model_module": "@jupyter-widgets/controls",
            "children": [
              "IPY_MODEL_8eb838e9ecb14c65869f2d35410ffc27",
              "IPY_MODEL_ff2823f75f944024abbaf4ba9ec76384"
            ]
          }
        },
        "8d7c24e333e042ac89b3e4d7928fa019": {
          "model_module": "@jupyter-widgets/base",
          "model_name": "LayoutModel",
          "state": {
            "_view_name": "LayoutView",
            "grid_template_rows": null,
            "right": null,
            "justify_content": null,
            "_view_module": "@jupyter-widgets/base",
            "overflow": null,
            "_model_module_version": "1.2.0",
            "_view_count": null,
            "flex_flow": null,
            "width": null,
            "min_width": null,
            "border": null,
            "align_items": null,
            "bottom": null,
            "_model_module": "@jupyter-widgets/base",
            "top": null,
            "grid_column": null,
            "overflow_y": null,
            "overflow_x": null,
            "grid_auto_flow": null,
            "grid_area": null,
            "grid_template_columns": null,
            "flex": null,
            "_model_name": "LayoutModel",
            "justify_items": null,
            "grid_row": null,
            "max_height": null,
            "align_content": null,
            "visibility": null,
            "align_self": null,
            "height": null,
            "min_height": null,
            "padding": null,
            "grid_auto_rows": null,
            "grid_gap": null,
            "max_width": null,
            "order": null,
            "_view_module_version": "1.2.0",
            "grid_template_areas": null,
            "object_position": null,
            "object_fit": null,
            "grid_auto_columns": null,
            "margin": null,
            "display": null,
            "left": null
          }
        },
        "8eb838e9ecb14c65869f2d35410ffc27": {
          "model_module": "@jupyter-widgets/controls",
          "model_name": "FloatProgressModel",
          "state": {
            "_view_name": "ProgressView",
            "style": "IPY_MODEL_e88139ac1025447c9606988c30ea3e43",
            "_dom_classes": [],
            "description": "",
            "_model_name": "FloatProgressModel",
            "bar_style": "success",
            "max": 170498071,
            "_view_module": "@jupyter-widgets/controls",
            "_model_module_version": "1.5.0",
            "value": 170498071,
            "_view_count": null,
            "_view_module_version": "1.5.0",
            "orientation": "horizontal",
            "min": 0,
            "description_tooltip": null,
            "_model_module": "@jupyter-widgets/controls",
            "layout": "IPY_MODEL_5ea6a639d6144d0ba8af785d43745728"
          }
        },
        "ff2823f75f944024abbaf4ba9ec76384": {
          "model_module": "@jupyter-widgets/controls",
          "model_name": "HTMLModel",
          "state": {
            "_view_name": "HTMLView",
            "style": "IPY_MODEL_0c48e93ff45a4826b6bc06401d498d8e",
            "_dom_classes": [],
            "description": "",
            "_model_name": "HTMLModel",
            "placeholder": "​",
            "_view_module": "@jupyter-widgets/controls",
            "_model_module_version": "1.5.0",
            "value": " 170499072/? [00:06&lt;00:00, 25518546.71it/s]",
            "_view_count": null,
            "_view_module_version": "1.5.0",
            "description_tooltip": null,
            "_model_module": "@jupyter-widgets/controls",
            "layout": "IPY_MODEL_761b86a6d5504929a0540ad78a6d23fe"
          }
        },
        "e88139ac1025447c9606988c30ea3e43": {
          "model_module": "@jupyter-widgets/controls",
          "model_name": "ProgressStyleModel",
          "state": {
            "_view_name": "StyleView",
            "_model_name": "ProgressStyleModel",
            "description_width": "initial",
            "_view_module": "@jupyter-widgets/base",
            "_model_module_version": "1.5.0",
            "_view_count": null,
            "_view_module_version": "1.2.0",
            "bar_color": null,
            "_model_module": "@jupyter-widgets/controls"
          }
        },
        "5ea6a639d6144d0ba8af785d43745728": {
          "model_module": "@jupyter-widgets/base",
          "model_name": "LayoutModel",
          "state": {
            "_view_name": "LayoutView",
            "grid_template_rows": null,
            "right": null,
            "justify_content": null,
            "_view_module": "@jupyter-widgets/base",
            "overflow": null,
            "_model_module_version": "1.2.0",
            "_view_count": null,
            "flex_flow": null,
            "width": null,
            "min_width": null,
            "border": null,
            "align_items": null,
            "bottom": null,
            "_model_module": "@jupyter-widgets/base",
            "top": null,
            "grid_column": null,
            "overflow_y": null,
            "overflow_x": null,
            "grid_auto_flow": null,
            "grid_area": null,
            "grid_template_columns": null,
            "flex": null,
            "_model_name": "LayoutModel",
            "justify_items": null,
            "grid_row": null,
            "max_height": null,
            "align_content": null,
            "visibility": null,
            "align_self": null,
            "height": null,
            "min_height": null,
            "padding": null,
            "grid_auto_rows": null,
            "grid_gap": null,
            "max_width": null,
            "order": null,
            "_view_module_version": "1.2.0",
            "grid_template_areas": null,
            "object_position": null,
            "object_fit": null,
            "grid_auto_columns": null,
            "margin": null,
            "display": null,
            "left": null
          }
        },
        "0c48e93ff45a4826b6bc06401d498d8e": {
          "model_module": "@jupyter-widgets/controls",
          "model_name": "DescriptionStyleModel",
          "state": {
            "_view_name": "StyleView",
            "_model_name": "DescriptionStyleModel",
            "description_width": "",
            "_view_module": "@jupyter-widgets/base",
            "_model_module_version": "1.5.0",
            "_view_count": null,
            "_view_module_version": "1.2.0",
            "_model_module": "@jupyter-widgets/controls"
          }
        },
        "761b86a6d5504929a0540ad78a6d23fe": {
          "model_module": "@jupyter-widgets/base",
          "model_name": "LayoutModel",
          "state": {
            "_view_name": "LayoutView",
            "grid_template_rows": null,
            "right": null,
            "justify_content": null,
            "_view_module": "@jupyter-widgets/base",
            "overflow": null,
            "_model_module_version": "1.2.0",
            "_view_count": null,
            "flex_flow": null,
            "width": null,
            "min_width": null,
            "border": null,
            "align_items": null,
            "bottom": null,
            "_model_module": "@jupyter-widgets/base",
            "top": null,
            "grid_column": null,
            "overflow_y": null,
            "overflow_x": null,
            "grid_auto_flow": null,
            "grid_area": null,
            "grid_template_columns": null,
            "flex": null,
            "_model_name": "LayoutModel",
            "justify_items": null,
            "grid_row": null,
            "max_height": null,
            "align_content": null,
            "visibility": null,
            "align_self": null,
            "height": null,
            "min_height": null,
            "padding": null,
            "grid_auto_rows": null,
            "grid_gap": null,
            "max_width": null,
            "order": null,
            "_view_module_version": "1.2.0",
            "grid_template_areas": null,
            "object_position": null,
            "object_fit": null,
            "grid_auto_columns": null,
            "margin": null,
            "display": null,
            "left": null
          }
        }
      }
    }
  },
  "cells": [
    {
      "cell_type": "code",
      "metadata": {
        "id": "BWIyC9Ip_bcq"
      },
      "source": [
        "import numpy as np\n",
        "import pandas as pd\n",
        "\n",
        "import torch\n",
        "import torchvision\n",
        "from torch.utils.data import Dataset, DataLoader\n",
        "from torchvision import transforms, utils\n",
        "import torch.nn as nn\n",
        "import torch.nn.functional as F\n",
        "import torch.optim as optim\n",
        "\n",
        "from matplotlib import pyplot as plt\n",
        "%matplotlib inline\n",
        "torch.backends.cudnn.deterministic = True\n",
        "torch.backends.cudnn.benchmark = False"
      ],
      "execution_count": 1,
      "outputs": []
    },
    {
      "cell_type": "code",
      "metadata": {
        "colab": {
          "base_uri": "https://localhost:8080/",
          "height": 100,
          "referenced_widgets": [
            "7668699975d3492485587e195b912907",
            "8d7c24e333e042ac89b3e4d7928fa019",
            "8eb838e9ecb14c65869f2d35410ffc27",
            "ff2823f75f944024abbaf4ba9ec76384",
            "e88139ac1025447c9606988c30ea3e43",
            "5ea6a639d6144d0ba8af785d43745728",
            "0c48e93ff45a4826b6bc06401d498d8e",
            "761b86a6d5504929a0540ad78a6d23fe"
          ]
        },
        "id": "cgw1f4rVkGr9",
        "outputId": "44f80d0b-ef31-40bd-b826-52e192410512"
      },
      "source": [
        "transform = transforms.Compose(\n",
        "    [transforms.ToTensor(),\n",
        "     transforms.Normalize((0.5, 0.5, 0.5), (0.5, 0.5, 0.5))])\n",
        "\n",
        "trainset = torchvision.datasets.CIFAR10(root='./data', train=True, download=True, transform=transform)"
      ],
      "execution_count": 2,
      "outputs": [
        {
          "output_type": "stream",
          "text": [
            "Downloading https://www.cs.toronto.edu/~kriz/cifar-10-python.tar.gz to ./data/cifar-10-python.tar.gz\n"
          ],
          "name": "stdout"
        },
        {
          "output_type": "display_data",
          "data": {
            "application/vnd.jupyter.widget-view+json": {
              "model_id": "7668699975d3492485587e195b912907",
              "version_minor": 0,
              "version_major": 2
            },
            "text/plain": [
              "HBox(children=(FloatProgress(value=0.0, max=170498071.0), HTML(value='')))"
            ]
          },
          "metadata": {
            "tags": []
          }
        },
        {
          "output_type": "stream",
          "text": [
            "\n",
            "Extracting ./data/cifar-10-python.tar.gz to ./data\n"
          ],
          "name": "stdout"
        }
      ]
    },
    {
      "cell_type": "code",
      "metadata": {
        "id": "D-xlWYTKkQEn"
      },
      "source": [
        "trainloader = torch.utils.data.DataLoader(trainset, batch_size=10, shuffle=False)\n",
        "\n",
        "\n",
        "classes = ('plane', 'car', 'bird', 'cat', 'deer', 'dog', 'frog', 'horse', 'ship', 'truck')\n",
        "\n",
        "foreground_classes = {'plane', 'car', 'bird'}\n",
        "#foreground_classes = {'bird', 'cat', 'deer'}\n",
        "background_classes = {'cat', 'deer', 'dog', 'frog', 'horse', 'ship', 'truck'}\n",
        "#background_classes = {'plane', 'car', 'dog', 'frog', 'horse','ship', 'truck'}\n",
        "\n",
        "fg1,fg2,fg3 = 0,1,2"
      ],
      "execution_count": 3,
      "outputs": []
    },
    {
      "cell_type": "code",
      "metadata": {
        "id": "zrX68qhikUbz"
      },
      "source": [
        "dataiter = iter(trainloader)\n",
        "background_data=[]\n",
        "background_label=[]\n",
        "foreground_data=[]\n",
        "foreground_label=[]\n",
        "batch_size=10\n",
        "\n",
        "for i in range(5000):\n",
        "  images, labels = dataiter.next()\n",
        "  for j in range(batch_size):\n",
        "    if(classes[labels[j]] in background_classes):\n",
        "      img = images[j].tolist()\n",
        "      background_data.append(img)\n",
        "      background_label.append(labels[j])\n",
        "    else:\n",
        "      img = images[j].tolist()\n",
        "      foreground_data.append(img)\n",
        "      foreground_label.append(labels[j])\n",
        "            \n",
        "foreground_data = torch.tensor(foreground_data)\n",
        "foreground_label = torch.tensor(foreground_label)\n",
        "background_data = torch.tensor(background_data)\n",
        "background_label = torch.tensor(background_label)"
      ],
      "execution_count": 4,
      "outputs": []
    },
    {
      "cell_type": "code",
      "metadata": {
        "id": "eD-QJkvnkgyk"
      },
      "source": [
        "def create_mosaic_img(bg_idx,fg_idx,fg): \n",
        "  \"\"\"\n",
        "  bg_idx : list of indexes of background_data[] to be used as background images in mosaic\n",
        "  fg_idx : index of image to be used as foreground image from foreground data\n",
        "  fg : at what position/index foreground image has to be stored out of 0-8\n",
        "  \"\"\"\n",
        "  image_list=[]\n",
        "  j=0\n",
        "  for i in range(9):\n",
        "    if i != fg:\n",
        "      image_list.append(background_data[bg_idx[j]])#.type(\"torch.DoubleTensor\"))\n",
        "      j+=1\n",
        "    else: \n",
        "      image_list.append(foreground_data[fg_idx])#.type(\"torch.DoubleTensor\"))\n",
        "      label = foreground_label[fg_idx]-fg1  # minus 7 because our fore ground classes are 7,8,9 but we have to store it as 0,1,2\n",
        "  #image_list = np.concatenate(image_list ,axis=0)\n",
        "  image_list = torch.stack(image_list) \n",
        "  return image_list,label"
      ],
      "execution_count": 5,
      "outputs": []
    },
    {
      "cell_type": "code",
      "metadata": {
        "id": "Zs10rfXHkli2"
      },
      "source": [
        "desired_num = 30000\n",
        "mosaic_list_of_images =[]      # list of mosaic images, each mosaic image is saved as list of 9 images\n",
        "fore_idx =[]                   # list of indexes at which foreground image is present in a mosaic image i.e from 0 to 9               \n",
        "mosaic_label=[]                # label of mosaic image = foreground class present in that mosaic\n",
        "for i in range(desired_num):\n",
        "  np.random.seed(i)\n",
        "  bg_idx = np.random.randint(0,35000,8)\n",
        "  fg_idx = np.random.randint(0,15000)\n",
        "  fg = np.random.randint(0,9)\n",
        "  fore_idx.append(fg)\n",
        "  image_list,label = create_mosaic_img(bg_idx,fg_idx,fg)\n",
        "  mosaic_list_of_images.append(image_list)\n",
        "  mosaic_label.append(label)"
      ],
      "execution_count": 6,
      "outputs": []
    },
    {
      "cell_type": "code",
      "metadata": {
        "id": "7km9Swb1kq4O"
      },
      "source": [
        "class MosaicDataset(Dataset):\n",
        "  \"\"\"MosaicDataset dataset.\"\"\"\n",
        "\n",
        "  def __init__(self, mosaic_list_of_images, mosaic_label, fore_idx):\n",
        "    \"\"\"\n",
        "      Args:\n",
        "        csv_file (string): Path to the csv file with annotations.\n",
        "        root_dir (string): Directory with all the images.\n",
        "        transform (callable, optional): Optional transform to be applied\n",
        "            on a sample.\n",
        "    \"\"\"\n",
        "    self.mosaic = mosaic_list_of_images\n",
        "    self.label = mosaic_label\n",
        "    self.fore_idx = fore_idx\n",
        "\n",
        "  def __len__(self):\n",
        "    return len(self.label)\n",
        "\n",
        "  def __getitem__(self, idx):\n",
        "    return self.mosaic[idx] , self.label[idx], self.fore_idx[idx]\n",
        "batch = 250\n",
        "msd = MosaicDataset(mosaic_list_of_images, mosaic_label , fore_idx)\n",
        "train_loader = DataLoader( msd,batch_size= batch ,shuffle=False,num_workers=0,)"
      ],
      "execution_count": 7,
      "outputs": []
    },
    {
      "cell_type": "code",
      "metadata": {
        "id": "lGVy-1EllAc_"
      },
      "source": [
        "data,labels,fg_index = iter(train_loader).next()"
      ],
      "execution_count": 8,
      "outputs": []
    },
    {
      "cell_type": "code",
      "metadata": {
        "id": "DOpZfj1bq7wN"
      },
      "source": [
        "bg = []\n",
        "for i in range(120):\n",
        "  torch.manual_seed(i)\n",
        "  betag = torch.randn(250,9)#torch.ones((250,9))/9\n",
        "  a=bg.append( betag.requires_grad_() )"
      ],
      "execution_count": 9,
      "outputs": []
    },
    {
      "cell_type": "code",
      "metadata": {
        "id": "HbrMidFCla6h"
      },
      "source": [
        "class Module2(nn.Module):\n",
        "  def __init__(self):\n",
        "    super(Module2, self).__init__()\n",
        "    \n",
        "    self.conv1 = nn.Conv2d(3, 6, 5)\n",
        "    self.pool = nn.MaxPool2d(2, 2)\n",
        "    self.conv2 = nn.Conv2d(6, 16, 5)\n",
        "    self.fc1 = nn.Linear(16 * 5 * 5, 120)\n",
        "    self.fc2 = nn.Linear(120, 84)\n",
        "    self.fc3 = nn.Linear(84, 10)\n",
        "    self.fc4 = nn.Linear(10,3)\n",
        "\n",
        "  def forward(self,y):  #z batch of list of 9 images\n",
        "    y1 = self.pool(F.relu(self.conv1(y)))\n",
        "    y1 = self.pool(F.relu(self.conv2(y1)))\n",
        "    y1 = y1.view(-1, 16 * 5 * 5)\n",
        "\n",
        "    y1 = F.relu(self.fc1(y1))\n",
        "    y1 = F.relu(self.fc2(y1))\n",
        "    y1 = F.relu(self.fc3(y1))\n",
        "    y1 = self.fc4(y1)\n",
        "    return y1"
      ],
      "execution_count": 10,
      "outputs": []
    },
    {
      "cell_type": "code",
      "metadata": {
        "id": "rRqj2VELllkX"
      },
      "source": [
        "torch.manual_seed(1234)\n",
        "what_net = Module2().double()\n",
        "\n",
        "#what_net.load_state_dict(torch.load(\"simultaneous_what.pt\"))\n",
        "what_net = what_net.to(\"cuda\")"
      ],
      "execution_count": 11,
      "outputs": []
    },
    {
      "cell_type": "code",
      "metadata": {
        "id": "6d8Wch99l4yB"
      },
      "source": [
        "def attn_avg(x,beta):\n",
        "  y = torch.zeros([batch,3, 32,32], dtype=torch.float64)\n",
        "  y = y.to(\"cuda\")\n",
        "  alpha = F.softmax(beta,dim=1)   # alphas\n",
        "  for i in range(9):            \n",
        "    alpha1 = alpha[:,i]          \n",
        "    y = y + torch.mul(alpha1[:,None,None,None],x[:,i])\n",
        "  return y,alpha\n"
      ],
      "execution_count": 12,
      "outputs": []
    },
    {
      "cell_type": "code",
      "metadata": {
        "id": "Rz1Kpw12loV6"
      },
      "source": [
        "def calculate_attn_loss(dataloader,what,criter):\n",
        "  what.eval()\n",
        "  r_loss = 0\n",
        "  alphas = []\n",
        "  lbls = []\n",
        "  pred = []\n",
        "  fidices = []\n",
        "  correct = 0\n",
        "  tot = 0\n",
        "  with torch.no_grad():\n",
        "    for i, data in enumerate(dataloader, 0):\n",
        "      inputs, labels,fidx= data\n",
        "      lbls.append(labels)\n",
        "      fidices.append(fidx)\n",
        "      inputs = inputs.double()\n",
        "      beta = bg[i]  # alpha for ith batch\n",
        "      inputs, labels,beta = inputs.to(\"cuda\"),labels.to(\"cuda\"),beta.to(\"cuda\")\n",
        "      avg,alpha = attn_avg(inputs,beta)\n",
        "      alpha = alpha.to(\"cuda\")\n",
        "      outputs = what(avg)\n",
        "      _, predicted = torch.max(outputs.data, 1)\n",
        "      correct += sum(predicted == labels)\n",
        "      tot += len(predicted)\n",
        "      pred.append(predicted.cpu().numpy())\n",
        "      alphas.append(alpha.cpu().numpy())\n",
        "      loss = criter(outputs, labels)\n",
        "      r_loss += loss.item()\n",
        "  alphas = np.concatenate(alphas,axis=0)\n",
        "  pred = np.concatenate(pred,axis=0)\n",
        "  lbls = np.concatenate(lbls,axis=0)\n",
        "  fidices = np.concatenate(fidices,axis=0)\n",
        "  #print(alphas.shape,pred.shape,lbls.shape,fidices.shape) \n",
        "  analysis = analyse_data(alphas,lbls,pred,fidices)\n",
        "  return r_loss/i,analysis,correct.item(),tot,correct.item()/tot"
      ],
      "execution_count": 13,
      "outputs": []
    },
    {
      "cell_type": "code",
      "metadata": {
        "id": "sAY-x6UAwrwE"
      },
      "source": [
        "# for param in what_net.parameters():\n",
        "#     param.requires_grad = False"
      ],
      "execution_count": 14,
      "outputs": []
    },
    {
      "cell_type": "code",
      "metadata": {
        "id": "_toCktPanH0S"
      },
      "source": [
        "def analyse_data(alphas,lbls,predicted,f_idx):\n",
        "    '''\n",
        "       analysis data is created here\n",
        "    '''\n",
        "    batch = len(predicted)\n",
        "    amth,alth,ftpt,ffpt,ftpf,ffpf = 0,0,0,0,0,0\n",
        "    for j in range (batch):\n",
        "      focus = np.argmax(alphas[j])\n",
        "      if(alphas[j][focus] >= 0.5):\n",
        "        amth +=1\n",
        "      else:\n",
        "        alth +=1\n",
        "      if(focus == f_idx[j] and predicted[j] == lbls[j]):\n",
        "        ftpt += 1\n",
        "      elif(focus != f_idx[j] and predicted[j] == lbls[j]):\n",
        "        ffpt +=1\n",
        "      elif(focus == f_idx[j] and predicted[j] != lbls[j]):\n",
        "        ftpf +=1\n",
        "      elif(focus != f_idx[j] and predicted[j] != lbls[j]):\n",
        "        ffpf +=1\n",
        "    #print(sum(predicted==lbls),ftpt+ffpt)\n",
        "    return [ftpt,ffpt,ftpf,ffpf,amth,alth]"
      ],
      "execution_count": 15,
      "outputs": []
    },
    {
      "cell_type": "code",
      "metadata": {
        "id": "S633XgMToeN3"
      },
      "source": [
        "optim1 = []\n",
        "for i in range(120):\n",
        "  optim1.append(optim.RMSprop([bg[i]], lr=10))"
      ],
      "execution_count": 16,
      "outputs": []
    },
    {
      "cell_type": "code",
      "metadata": {
        "colab": {
          "base_uri": "https://localhost:8080/"
        },
        "id": "qPaYaojinMTA",
        "outputId": "9f70438e-01e7-4959-b10b-f6313fdf4c60"
      },
      "source": [
        "# instantiate optimizer\n",
        "optimizer_what = optim.RMSprop(what_net.parameters(), lr=0.001)#, momentum=0.9)#,nesterov=True)\n",
        "\n",
        "\n",
        " \n",
        "\n",
        "\n",
        "criterion = nn.CrossEntropyLoss()\n",
        "acti = []\n",
        "analysis_data_tr = []\n",
        "analysis_data_tst = []\n",
        "loss_curi_tr = []\n",
        "loss_curi_tst = []\n",
        "epochs = 100\n",
        "\n",
        "\n",
        "# calculate zeroth epoch loss and FTPT values\n",
        "running_loss,anlys_data,correct,total,accuracy = calculate_attn_loss(train_loader,what_net,criterion)\n",
        "print('training epoch: [%d ] loss: %.3f correct: %.3f, total: %.3f, accuracy: %.3f' %(0,running_loss,correct,total,accuracy)) \n",
        "loss_curi_tr.append(running_loss)\n",
        "analysis_data_tr.append(anlys_data)\n",
        "\n",
        "\n",
        "\n",
        "\n",
        "# training starts \n",
        "for epoch in range(epochs): # loop over the dataset multiple times\n",
        "  ep_lossi = []\n",
        "  running_loss = 0.0\n",
        "  what_net.train()\n",
        "  for i, data in enumerate(train_loader, 0):\n",
        "    # get the inputs\n",
        "    inputs, labels,_  = data\n",
        "    inputs = inputs.double()\n",
        "    beta = bg[i] # alpha for ith batch\n",
        "    inputs, labels,beta = inputs.to(\"cuda\"),labels.to(\"cuda\"),beta.to(\"cuda\")\n",
        "        \n",
        "    # zero the parameter gradients\n",
        "    optimizer_what.zero_grad()\n",
        "    optim1[i].zero_grad()\n",
        "      \n",
        "    # forward + backward + optimize\n",
        "    avg,alpha = attn_avg(inputs,beta)\n",
        "    outputs = what_net(avg)     \n",
        "    loss = criterion(outputs, labels)\n",
        "\n",
        "    # print statistics\n",
        "    running_loss += loss.item()\n",
        "    #alpha.retain_grad()\n",
        "    loss.backward(retain_graph=False)\n",
        "    optimizer_what.step()\n",
        "    optim1[i].step()\n",
        "\n",
        "\n",
        "  running_loss_tr,anls_data,correct,total,accuracy = calculate_attn_loss(train_loader,what_net,criterion)\n",
        "  analysis_data_tr.append(anls_data)\n",
        "  loss_curi_tr.append(running_loss_tr)   #loss per epoch\n",
        "  print('training epoch: [%d ] loss: %.3f correct: %.3f, total: %.3f, accuracy: %.3f' %(epoch+1,running_loss_tr,correct,total,accuracy)) \n",
        "\n",
        "\n",
        "  \n",
        "  if running_loss_tr<=0.08:\n",
        "    break\n",
        "print('Finished Training run ')\n",
        "analysis_data_tr = np.array(analysis_data_tr)\n",
        "\n"
      ],
      "execution_count": 17,
      "outputs": [
        {
          "output_type": "stream",
          "text": [
            "training epoch: [0 ] loss: 1.119 correct: 10137.000, total: 30000.000, accuracy: 0.338\n",
            "training epoch: [1 ] loss: 1.014 correct: 17661.000, total: 30000.000, accuracy: 0.589\n",
            "training epoch: [2 ] loss: 0.842 correct: 18926.000, total: 30000.000, accuracy: 0.631\n",
            "training epoch: [3 ] loss: 0.844 correct: 20763.000, total: 30000.000, accuracy: 0.692\n",
            "training epoch: [4 ] loss: 0.800 correct: 21621.000, total: 30000.000, accuracy: 0.721\n",
            "training epoch: [5 ] loss: 0.797 correct: 21686.000, total: 30000.000, accuracy: 0.723\n",
            "training epoch: [6 ] loss: 0.794 correct: 21731.000, total: 30000.000, accuracy: 0.724\n",
            "training epoch: [7 ] loss: 0.799 correct: 21853.000, total: 30000.000, accuracy: 0.728\n",
            "training epoch: [8 ] loss: 0.804 correct: 21926.000, total: 30000.000, accuracy: 0.731\n",
            "training epoch: [9 ] loss: 0.817 correct: 21895.000, total: 30000.000, accuracy: 0.730\n",
            "training epoch: [10 ] loss: 0.813 correct: 21891.000, total: 30000.000, accuracy: 0.730\n",
            "training epoch: [11 ] loss: 0.803 correct: 21925.000, total: 30000.000, accuracy: 0.731\n",
            "training epoch: [12 ] loss: 0.797 correct: 21963.000, total: 30000.000, accuracy: 0.732\n",
            "training epoch: [13 ] loss: 0.796 correct: 21964.000, total: 30000.000, accuracy: 0.732\n",
            "training epoch: [14 ] loss: 0.791 correct: 21985.000, total: 30000.000, accuracy: 0.733\n",
            "training epoch: [15 ] loss: 0.787 correct: 22017.000, total: 30000.000, accuracy: 0.734\n",
            "training epoch: [16 ] loss: 0.784 correct: 21974.000, total: 30000.000, accuracy: 0.732\n",
            "training epoch: [17 ] loss: 0.778 correct: 21955.000, total: 30000.000, accuracy: 0.732\n",
            "training epoch: [18 ] loss: 0.776 correct: 21947.000, total: 30000.000, accuracy: 0.732\n",
            "training epoch: [19 ] loss: 0.767 correct: 21959.000, total: 30000.000, accuracy: 0.732\n",
            "training epoch: [20 ] loss: 0.767 correct: 21965.000, total: 30000.000, accuracy: 0.732\n",
            "training epoch: [21 ] loss: 0.765 correct: 21928.000, total: 30000.000, accuracy: 0.731\n",
            "training epoch: [22 ] loss: 0.767 correct: 21942.000, total: 30000.000, accuracy: 0.731\n",
            "training epoch: [23 ] loss: 0.769 correct: 21893.000, total: 30000.000, accuracy: 0.730\n",
            "training epoch: [24 ] loss: 0.767 correct: 21912.000, total: 30000.000, accuracy: 0.730\n",
            "training epoch: [25 ] loss: 0.762 correct: 21980.000, total: 30000.000, accuracy: 0.733\n",
            "training epoch: [26 ] loss: 0.765 correct: 21998.000, total: 30000.000, accuracy: 0.733\n",
            "training epoch: [27 ] loss: 0.773 correct: 21951.000, total: 30000.000, accuracy: 0.732\n",
            "training epoch: [28 ] loss: 0.771 correct: 21922.000, total: 30000.000, accuracy: 0.731\n",
            "training epoch: [29 ] loss: 0.773 correct: 21819.000, total: 30000.000, accuracy: 0.727\n",
            "training epoch: [30 ] loss: 0.776 correct: 21854.000, total: 30000.000, accuracy: 0.728\n",
            "training epoch: [31 ] loss: 0.775 correct: 21831.000, total: 30000.000, accuracy: 0.728\n",
            "training epoch: [32 ] loss: 0.771 correct: 21839.000, total: 30000.000, accuracy: 0.728\n",
            "training epoch: [33 ] loss: 0.776 correct: 21844.000, total: 30000.000, accuracy: 0.728\n",
            "training epoch: [34 ] loss: 0.771 correct: 21883.000, total: 30000.000, accuracy: 0.729\n",
            "training epoch: [35 ] loss: 0.778 correct: 21858.000, total: 30000.000, accuracy: 0.729\n",
            "training epoch: [36 ] loss: 0.781 correct: 21788.000, total: 30000.000, accuracy: 0.726\n",
            "training epoch: [37 ] loss: 0.785 correct: 21839.000, total: 30000.000, accuracy: 0.728\n",
            "training epoch: [38 ] loss: 0.788 correct: 21842.000, total: 30000.000, accuracy: 0.728\n",
            "training epoch: [39 ] loss: 0.796 correct: 21770.000, total: 30000.000, accuracy: 0.726\n",
            "training epoch: [40 ] loss: 0.803 correct: 21799.000, total: 30000.000, accuracy: 0.727\n",
            "training epoch: [41 ] loss: 0.800 correct: 21876.000, total: 30000.000, accuracy: 0.729\n",
            "training epoch: [42 ] loss: 0.802 correct: 21892.000, total: 30000.000, accuracy: 0.730\n",
            "training epoch: [43 ] loss: 0.795 correct: 21974.000, total: 30000.000, accuracy: 0.732\n",
            "training epoch: [44 ] loss: 0.798 correct: 22000.000, total: 30000.000, accuracy: 0.733\n",
            "training epoch: [45 ] loss: 0.804 correct: 21974.000, total: 30000.000, accuracy: 0.732\n",
            "training epoch: [46 ] loss: 0.813 correct: 21855.000, total: 30000.000, accuracy: 0.729\n",
            "training epoch: [47 ] loss: 0.804 correct: 21989.000, total: 30000.000, accuracy: 0.733\n",
            "training epoch: [48 ] loss: 0.814 correct: 22003.000, total: 30000.000, accuracy: 0.733\n",
            "training epoch: [49 ] loss: 0.817 correct: 22064.000, total: 30000.000, accuracy: 0.735\n",
            "training epoch: [50 ] loss: 0.826 correct: 21999.000, total: 30000.000, accuracy: 0.733\n",
            "training epoch: [51 ] loss: 0.812 correct: 22094.000, total: 30000.000, accuracy: 0.736\n",
            "training epoch: [52 ] loss: 0.804 correct: 22112.000, total: 30000.000, accuracy: 0.737\n",
            "training epoch: [53 ] loss: 0.807 correct: 22265.000, total: 30000.000, accuracy: 0.742\n",
            "training epoch: [54 ] loss: 0.822 correct: 22265.000, total: 30000.000, accuracy: 0.742\n",
            "training epoch: [55 ] loss: 0.824 correct: 22129.000, total: 30000.000, accuracy: 0.738\n",
            "training epoch: [56 ] loss: 0.811 correct: 22283.000, total: 30000.000, accuracy: 0.743\n",
            "training epoch: [57 ] loss: 0.818 correct: 22224.000, total: 30000.000, accuracy: 0.741\n",
            "training epoch: [58 ] loss: 0.803 correct: 22408.000, total: 30000.000, accuracy: 0.747\n",
            "training epoch: [59 ] loss: 0.837 correct: 22364.000, total: 30000.000, accuracy: 0.745\n",
            "training epoch: [60 ] loss: 0.822 correct: 22240.000, total: 30000.000, accuracy: 0.741\n",
            "training epoch: [61 ] loss: 0.834 correct: 22288.000, total: 30000.000, accuracy: 0.743\n",
            "training epoch: [62 ] loss: 0.834 correct: 22452.000, total: 30000.000, accuracy: 0.748\n",
            "training epoch: [63 ] loss: 0.857 correct: 22188.000, total: 30000.000, accuracy: 0.740\n",
            "training epoch: [64 ] loss: 0.868 correct: 22295.000, total: 30000.000, accuracy: 0.743\n",
            "training epoch: [65 ] loss: 0.865 correct: 22308.000, total: 30000.000, accuracy: 0.744\n",
            "training epoch: [66 ] loss: 0.900 correct: 22314.000, total: 30000.000, accuracy: 0.744\n",
            "training epoch: [67 ] loss: 0.918 correct: 22072.000, total: 30000.000, accuracy: 0.736\n",
            "training epoch: [68 ] loss: 0.904 correct: 22082.000, total: 30000.000, accuracy: 0.736\n",
            "training epoch: [69 ] loss: 0.965 correct: 21960.000, total: 30000.000, accuracy: 0.732\n",
            "training epoch: [70 ] loss: 0.917 correct: 22075.000, total: 30000.000, accuracy: 0.736\n",
            "training epoch: [71 ] loss: 0.933 correct: 22193.000, total: 30000.000, accuracy: 0.740\n",
            "training epoch: [72 ] loss: 0.975 correct: 22222.000, total: 30000.000, accuracy: 0.741\n",
            "training epoch: [73 ] loss: 0.937 correct: 22249.000, total: 30000.000, accuracy: 0.742\n",
            "training epoch: [74 ] loss: 0.935 correct: 22655.000, total: 30000.000, accuracy: 0.755\n",
            "training epoch: [75 ] loss: 0.983 correct: 22406.000, total: 30000.000, accuracy: 0.747\n",
            "training epoch: [76 ] loss: 0.981 correct: 22216.000, total: 30000.000, accuracy: 0.741\n",
            "training epoch: [77 ] loss: 1.010 correct: 22441.000, total: 30000.000, accuracy: 0.748\n",
            "training epoch: [78 ] loss: 1.035 correct: 22301.000, total: 30000.000, accuracy: 0.743\n",
            "training epoch: [79 ] loss: 1.142 correct: 22177.000, total: 30000.000, accuracy: 0.739\n",
            "training epoch: [80 ] loss: 0.989 correct: 22552.000, total: 30000.000, accuracy: 0.752\n",
            "training epoch: [81 ] loss: 1.134 correct: 22191.000, total: 30000.000, accuracy: 0.740\n",
            "training epoch: [82 ] loss: 1.091 correct: 22152.000, total: 30000.000, accuracy: 0.738\n",
            "training epoch: [83 ] loss: 1.142 correct: 22432.000, total: 30000.000, accuracy: 0.748\n",
            "training epoch: [84 ] loss: 1.126 correct: 22431.000, total: 30000.000, accuracy: 0.748\n",
            "training epoch: [85 ] loss: 1.147 correct: 22352.000, total: 30000.000, accuracy: 0.745\n",
            "training epoch: [86 ] loss: 0.909 correct: 22659.000, total: 30000.000, accuracy: 0.755\n",
            "training epoch: [87 ] loss: 1.164 correct: 22529.000, total: 30000.000, accuracy: 0.751\n",
            "training epoch: [88 ] loss: 1.181 correct: 22417.000, total: 30000.000, accuracy: 0.747\n",
            "training epoch: [89 ] loss: 1.074 correct: 22389.000, total: 30000.000, accuracy: 0.746\n",
            "training epoch: [90 ] loss: 1.191 correct: 22355.000, total: 30000.000, accuracy: 0.745\n",
            "training epoch: [91 ] loss: 1.212 correct: 22540.000, total: 30000.000, accuracy: 0.751\n",
            "training epoch: [92 ] loss: 1.165 correct: 22644.000, total: 30000.000, accuracy: 0.755\n",
            "training epoch: [93 ] loss: 1.266 correct: 22363.000, total: 30000.000, accuracy: 0.745\n",
            "training epoch: [94 ] loss: 1.268 correct: 22487.000, total: 30000.000, accuracy: 0.750\n",
            "training epoch: [95 ] loss: 1.267 correct: 22391.000, total: 30000.000, accuracy: 0.746\n",
            "training epoch: [96 ] loss: 1.117 correct: 22953.000, total: 30000.000, accuracy: 0.765\n",
            "training epoch: [97 ] loss: 1.221 correct: 22850.000, total: 30000.000, accuracy: 0.762\n",
            "training epoch: [98 ] loss: 1.412 correct: 22123.000, total: 30000.000, accuracy: 0.737\n",
            "training epoch: [99 ] loss: 1.253 correct: 22651.000, total: 30000.000, accuracy: 0.755\n",
            "training epoch: [100 ] loss: 1.291 correct: 22401.000, total: 30000.000, accuracy: 0.747\n",
            "Finished Training run \n"
          ],
          "name": "stdout"
        }
      ]
    },
    {
      "cell_type": "code",
      "metadata": {
        "id": "AciJnAh5nfug"
      },
      "source": [
        "columns = [\"epochs\", \"argmax > 0.5\" ,\"argmax < 0.5\", \"focus_true_pred_true\", \"focus_false_pred_true\", \"focus_true_pred_false\", \"focus_false_pred_false\" ]\n",
        "df_train = pd.DataFrame()\n",
        "df_test = pd.DataFrame()\n",
        "df_train[columns[0]] = np.arange(0,epoch+2)\n",
        "df_train[columns[1]] = analysis_data_tr[:,-2]\n",
        "df_train[columns[2]] = analysis_data_tr[:,-1]\n",
        "df_train[columns[3]] = analysis_data_tr[:,0]\n",
        "df_train[columns[4]] = analysis_data_tr[:,1]\n",
        "df_train[columns[5]] = analysis_data_tr[:,2]\n",
        "df_train[columns[6]] = analysis_data_tr[:,3]"
      ],
      "execution_count": 18,
      "outputs": []
    },
    {
      "cell_type": "code",
      "metadata": {
        "id": "NoQpS_6scRsC",
        "colab": {
          "base_uri": "https://localhost:8080/",
          "height": 419
        },
        "outputId": "c06dc5be-25eb-47b3-949c-568b076fa275"
      },
      "source": [
        "df_train"
      ],
      "execution_count": 19,
      "outputs": [
        {
          "output_type": "execute_result",
          "data": {
            "text/html": [
              "<div>\n",
              "<style scoped>\n",
              "    .dataframe tbody tr th:only-of-type {\n",
              "        vertical-align: middle;\n",
              "    }\n",
              "\n",
              "    .dataframe tbody tr th {\n",
              "        vertical-align: top;\n",
              "    }\n",
              "\n",
              "    .dataframe thead th {\n",
              "        text-align: right;\n",
              "    }\n",
              "</style>\n",
              "<table border=\"1\" class=\"dataframe\">\n",
              "  <thead>\n",
              "    <tr style=\"text-align: right;\">\n",
              "      <th></th>\n",
              "      <th>epochs</th>\n",
              "      <th>argmax &gt; 0.5</th>\n",
              "      <th>argmax &lt; 0.5</th>\n",
              "      <th>focus_true_pred_true</th>\n",
              "      <th>focus_false_pred_true</th>\n",
              "      <th>focus_true_pred_false</th>\n",
              "      <th>focus_false_pred_false</th>\n",
              "    </tr>\n",
              "  </thead>\n",
              "  <tbody>\n",
              "    <tr>\n",
              "      <th>0</th>\n",
              "      <td>0</td>\n",
              "      <td>2758</td>\n",
              "      <td>27242</td>\n",
              "      <td>1070</td>\n",
              "      <td>9067</td>\n",
              "      <td>2140</td>\n",
              "      <td>17723</td>\n",
              "    </tr>\n",
              "    <tr>\n",
              "      <th>1</th>\n",
              "      <td>1</td>\n",
              "      <td>18271</td>\n",
              "      <td>11729</td>\n",
              "      <td>2766</td>\n",
              "      <td>14895</td>\n",
              "      <td>1211</td>\n",
              "      <td>11128</td>\n",
              "    </tr>\n",
              "    <tr>\n",
              "      <th>2</th>\n",
              "      <td>2</td>\n",
              "      <td>29319</td>\n",
              "      <td>681</td>\n",
              "      <td>4983</td>\n",
              "      <td>13943</td>\n",
              "      <td>1134</td>\n",
              "      <td>9940</td>\n",
              "    </tr>\n",
              "    <tr>\n",
              "      <th>3</th>\n",
              "      <td>3</td>\n",
              "      <td>29989</td>\n",
              "      <td>11</td>\n",
              "      <td>5580</td>\n",
              "      <td>15183</td>\n",
              "      <td>967</td>\n",
              "      <td>8270</td>\n",
              "    </tr>\n",
              "    <tr>\n",
              "      <th>4</th>\n",
              "      <td>4</td>\n",
              "      <td>29992</td>\n",
              "      <td>8</td>\n",
              "      <td>5775</td>\n",
              "      <td>15846</td>\n",
              "      <td>805</td>\n",
              "      <td>7574</td>\n",
              "    </tr>\n",
              "    <tr>\n",
              "      <th>...</th>\n",
              "      <td>...</td>\n",
              "      <td>...</td>\n",
              "      <td>...</td>\n",
              "      <td>...</td>\n",
              "      <td>...</td>\n",
              "      <td>...</td>\n",
              "      <td>...</td>\n",
              "    </tr>\n",
              "    <tr>\n",
              "      <th>96</th>\n",
              "      <td>96</td>\n",
              "      <td>30000</td>\n",
              "      <td>0</td>\n",
              "      <td>6067</td>\n",
              "      <td>16886</td>\n",
              "      <td>609</td>\n",
              "      <td>6438</td>\n",
              "    </tr>\n",
              "    <tr>\n",
              "      <th>97</th>\n",
              "      <td>97</td>\n",
              "      <td>30000</td>\n",
              "      <td>0</td>\n",
              "      <td>6084</td>\n",
              "      <td>16766</td>\n",
              "      <td>594</td>\n",
              "      <td>6556</td>\n",
              "    </tr>\n",
              "    <tr>\n",
              "      <th>98</th>\n",
              "      <td>98</td>\n",
              "      <td>30000</td>\n",
              "      <td>0</td>\n",
              "      <td>5958</td>\n",
              "      <td>16165</td>\n",
              "      <td>718</td>\n",
              "      <td>7159</td>\n",
              "    </tr>\n",
              "    <tr>\n",
              "      <th>99</th>\n",
              "      <td>99</td>\n",
              "      <td>30000</td>\n",
              "      <td>0</td>\n",
              "      <td>6030</td>\n",
              "      <td>16621</td>\n",
              "      <td>645</td>\n",
              "      <td>6704</td>\n",
              "    </tr>\n",
              "    <tr>\n",
              "      <th>100</th>\n",
              "      <td>100</td>\n",
              "      <td>30000</td>\n",
              "      <td>0</td>\n",
              "      <td>5967</td>\n",
              "      <td>16434</td>\n",
              "      <td>707</td>\n",
              "      <td>6892</td>\n",
              "    </tr>\n",
              "  </tbody>\n",
              "</table>\n",
              "<p>101 rows × 7 columns</p>\n",
              "</div>"
            ],
            "text/plain": [
              "     epochs  argmax > 0.5  ...  focus_true_pred_false  focus_false_pred_false\n",
              "0         0          2758  ...                   2140                   17723\n",
              "1         1         18271  ...                   1211                   11128\n",
              "2         2         29319  ...                   1134                    9940\n",
              "3         3         29989  ...                    967                    8270\n",
              "4         4         29992  ...                    805                    7574\n",
              "..      ...           ...  ...                    ...                     ...\n",
              "96       96         30000  ...                    609                    6438\n",
              "97       97         30000  ...                    594                    6556\n",
              "98       98         30000  ...                    718                    7159\n",
              "99       99         30000  ...                    645                    6704\n",
              "100     100         30000  ...                    707                    6892\n",
              "\n",
              "[101 rows x 7 columns]"
            ]
          },
          "metadata": {
            "tags": []
          },
          "execution_count": 19
        }
      ]
    },
    {
      "cell_type": "code",
      "metadata": {
        "id": "IMAhRdxOcVf6",
        "colab": {
          "base_uri": "https://localhost:8080/",
          "height": 730
        },
        "outputId": "0f20dd4b-c2fa-4b87-9550-9c08d4c03c43"
      },
      "source": [
        "fig= plt.figure(figsize=(12,12))\n",
        "plt.plot(df_train[columns[0]],df_train[columns[3]]/300, label =\"focus_true_pred_true \")\n",
        "plt.plot(df_train[columns[0]],df_train[columns[4]]/300, label =\"focus_false_pred_true \")\n",
        "plt.plot(df_train[columns[0]],df_train[columns[5]]/300, label =\"focus_true_pred_false \")\n",
        "plt.plot(df_train[columns[0]],df_train[columns[6]]/300, label =\"focus_false_pred_false \")\n",
        "plt.title(\"On Train set\")\n",
        "plt.legend(loc='center left', bbox_to_anchor=(1, 0.5))\n",
        "plt.xlabel(\"epochs\")\n",
        "plt.ylabel(\"percentage of data\")\n",
        "#plt.vlines(vline_list,min(min(df_train[columns[3]]/300),min(df_train[columns[4]]/300),min(df_train[columns[5]]/300),min(df_train[columns[6]]/300)), max(max(df_train[columns[3]]/300),max(df_train[columns[4]]/300),max(df_train[columns[5]]/300),max(df_train[columns[6]]/300)),linestyles='dotted')\n",
        "plt.show()\n",
        "fig.savefig(\"train_analysis.pdf\")\n",
        "fig.savefig(\"train_analysis.png\")"
      ],
      "execution_count": 20,
      "outputs": [
        {
          "output_type": "display_data",
          "data": {
            "image/png": "[encoded data removed]",
            "text/plain": [
              "<Figure size 864x864 with 1 Axes>"
            ]
          },
          "metadata": {
            "tags": [],
            "needs_background": "light"
          }
        }
      ]
    },
    {
      "cell_type": "code",
      "metadata": {
        "id": "VCnS6r2_3WdU"
      },
      "source": [
        "aph = []\n",
        "for i in bg:\n",
        "  aph.append(F.softmax(i,dim=1).detach().numpy())\n",
        "  \n",
        "aph = np.concatenate(aph,axis=0)\n",
        "torch.save({\n",
        "            'epoch': 500,\n",
        "            'model_state_dict': what_net.state_dict(),\n",
        "            #'optimizer_state_dict': optimizer_what.state_dict(),\n",
        "            \"optimizer_alpha\":optim1,\n",
        "            \"FTPT_analysis\":analysis_data_tr,\n",
        "            \"alpha\":aph\n",
        "\n",
        "            }, \"cifar_what_net_500.pt\")"
      ],
      "execution_count": 21,
      "outputs": []
    },
    {
      "cell_type": "code",
      "metadata": {
        "id": "KVzrDOGS4UxU",
        "colab": {
          "base_uri": "https://localhost:8080/"
        },
        "outputId": "2794ab80-6e68-41cc-c4fd-b015bd3fa6a6"
      },
      "source": [
        "aph"
      ],
      "execution_count": 22,
      "outputs": [
        {
          "output_type": "execute_result",
          "data": {
            "text/plain": [
              "array([[0.0000000e+00, 0.0000000e+00, 0.0000000e+00, ..., 0.0000000e+00,\n",
              "        0.0000000e+00, 0.0000000e+00],\n",
              "       [0.0000000e+00, 0.0000000e+00, 0.0000000e+00, ..., 1.0000000e+00,\n",
              "        0.0000000e+00, 0.0000000e+00],\n",
              "       [0.0000000e+00, 0.0000000e+00, 0.0000000e+00, ..., 0.0000000e+00,\n",
              "        0.0000000e+00, 1.0000000e+00],\n",
              "       ...,\n",
              "       [0.0000000e+00, 0.0000000e+00, 1.0000000e+00, ..., 0.0000000e+00,\n",
              "        1.4153114e-43, 0.0000000e+00],\n",
              "       [1.0000000e+00, 0.0000000e+00, 0.0000000e+00, ..., 0.0000000e+00,\n",
              "        0.0000000e+00, 0.0000000e+00],\n",
              "       [0.0000000e+00, 2.4222872e-30, 1.0000000e+00, ..., 0.0000000e+00,\n",
              "        0.0000000e+00, 0.0000000e+00]], dtype=float32)"
            ]
          },
          "metadata": {
            "tags": []
          },
          "execution_count": 22
        }
      ]
    },
    {
      "cell_type": "code",
      "metadata": {
        "id": "Z6heHND15EMz"
      },
      "source": [
        "running_loss_tr,anls_data,correct,total,accuracy = calculate_attn_loss(train_loader,what_net,criterion)"
      ],
      "execution_count": 23,
      "outputs": []
    },
    {
      "cell_type": "code",
      "metadata": {
        "id": "zeKhsdpYWQvB",
        "colab": {
          "base_uri": "https://localhost:8080/"
        },
        "outputId": "0cdf531f-cc47-461f-ef89-03f37b9dd4bf"
      },
      "source": [
        "print(\"argmax>0.5\",anls_data[-2])"
      ],
      "execution_count": 24,
      "outputs": [
        {
          "output_type": "stream",
          "text": [
            "argmax>0.5 30000\n"
          ],
          "name": "stdout"
        }
      ]
    },
    {
      "cell_type": "code",
      "metadata": {
        "id": "yF2bvWdIWUTa"
      },
      "source": [
        ""
      ],
      "execution_count": 24,
      "outputs": []
    }
  ]
}