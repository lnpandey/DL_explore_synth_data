{
  "nbformat": 4,
  "nbformat_minor": 0,
  "metadata": {
    "accelerator": "GPU",
    "colab": {
      "name": "cifar_learn_atttention_weights_lr_10000.ipynb",
      "provenance": [],
      "collapsed_sections": []
    },
    "kernelspec": {
      "display_name": "Python 3",
      "name": "python3"
    },
    "language_info": {
      "name": "python"
    },
    "widgets": {
      "application/vnd.jupyter.widget-state+json": {
        "316fb9b799e144fa98c20aadd30c454e": {
          "model_module": "@jupyter-widgets/controls",
          "model_name": "HBoxModel",
          "state": {
            "_view_name": "HBoxView",
            "_dom_classes": [],
            "_model_name": "HBoxModel",
            "_view_module": "@jupyter-widgets/controls",
            "_model_module_version": "1.5.0",
            "_view_count": null,
            "_view_module_version": "1.5.0",
            "box_style": "",
            "layout": "IPY_MODEL_31f003c288c24c888aecf1f549be56c9",
            "_model_module": "@jupyter-widgets/controls",
            "children": [
              "IPY_MODEL_5ec68515eb2647adb51f55265f3c698f",
              "IPY_MODEL_b8c161df8fc747058d7e4124be3bd46b"
            ]
          }
        },
        "31f003c288c24c888aecf1f549be56c9": {
          "model_module": "@jupyter-widgets/base",
          "model_name": "LayoutModel",
          "state": {
            "_view_name": "LayoutView",
            "grid_template_rows": null,
            "right": null,
            "justify_content": null,
            "_view_module": "@jupyter-widgets/base",
            "overflow": null,
            "_model_module_version": "1.2.0",
            "_view_count": null,
            "flex_flow": null,
            "width": null,
            "min_width": null,
            "border": null,
            "align_items": null,
            "bottom": null,
            "_model_module": "@jupyter-widgets/base",
            "top": null,
            "grid_column": null,
            "overflow_y": null,
            "overflow_x": null,
            "grid_auto_flow": null,
            "grid_area": null,
            "grid_template_columns": null,
            "flex": null,
            "_model_name": "LayoutModel",
            "justify_items": null,
            "grid_row": null,
            "max_height": null,
            "align_content": null,
            "visibility": null,
            "align_self": null,
            "height": null,
            "min_height": null,
            "padding": null,
            "grid_auto_rows": null,
            "grid_gap": null,
            "max_width": null,
            "order": null,
            "_view_module_version": "1.2.0",
            "grid_template_areas": null,
            "object_position": null,
            "object_fit": null,
            "grid_auto_columns": null,
            "margin": null,
            "display": null,
            "left": null
          }
        },
        "5ec68515eb2647adb51f55265f3c698f": {
          "model_module": "@jupyter-widgets/controls",
          "model_name": "FloatProgressModel",
          "state": {
            "_view_name": "ProgressView",
            "style": "IPY_MODEL_fdee989bfacb4041abc2b2d3f36439af",
            "_dom_classes": [],
            "description": "",
            "_model_name": "FloatProgressModel",
            "bar_style": "success",
            "max": 170498071,
            "_view_module": "@jupyter-widgets/controls",
            "_model_module_version": "1.5.0",
            "value": 170498071,
            "_view_count": null,
            "_view_module_version": "1.5.0",
            "orientation": "horizontal",
            "min": 0,
            "description_tooltip": null,
            "_model_module": "@jupyter-widgets/controls",
            "layout": "IPY_MODEL_67900e906bfd4d059ed2e7e1bf5330bb"
          }
        },
        "b8c161df8fc747058d7e4124be3bd46b": {
          "model_module": "@jupyter-widgets/controls",
          "model_name": "HTMLModel",
          "state": {
            "_view_name": "HTMLView",
            "style": "IPY_MODEL_4dce94d0d6df43a9922924a2b35ae70d",
            "_dom_classes": [],
            "description": "",
            "_model_name": "HTMLModel",
            "placeholder": "​",
            "_view_module": "@jupyter-widgets/controls",
            "_model_module_version": "1.5.0",
            "value": " 170499072/? [00:06&lt;00:00, 25476101.29it/s]",
            "_view_count": null,
            "_view_module_version": "1.5.0",
            "description_tooltip": null,
            "_model_module": "@jupyter-widgets/controls",
            "layout": "IPY_MODEL_9afda5b506c8485bbc6b1d24cfe67544"
          }
        },
        "fdee989bfacb4041abc2b2d3f36439af": {
          "model_module": "@jupyter-widgets/controls",
          "model_name": "ProgressStyleModel",
          "state": {
            "_view_name": "StyleView",
            "_model_name": "ProgressStyleModel",
            "description_width": "initial",
            "_view_module": "@jupyter-widgets/base",
            "_model_module_version": "1.5.0",
            "_view_count": null,
            "_view_module_version": "1.2.0",
            "bar_color": null,
            "_model_module": "@jupyter-widgets/controls"
          }
        },
        "67900e906bfd4d059ed2e7e1bf5330bb": {
          "model_module": "@jupyter-widgets/base",
          "model_name": "LayoutModel",
          "state": {
            "_view_name": "LayoutView",
            "grid_template_rows": null,
            "right": null,
            "justify_content": null,
            "_view_module": "@jupyter-widgets/base",
            "overflow": null,
            "_model_module_version": "1.2.0",
            "_view_count": null,
            "flex_flow": null,
            "width": null,
            "min_width": null,
            "border": null,
            "align_items": null,
            "bottom": null,
            "_model_module": "@jupyter-widgets/base",
            "top": null,
            "grid_column": null,
            "overflow_y": null,
            "overflow_x": null,
            "grid_auto_flow": null,
            "grid_area": null,
            "grid_template_columns": null,
            "flex": null,
            "_model_name": "LayoutModel",
            "justify_items": null,
            "grid_row": null,
            "max_height": null,
            "align_content": null,
            "visibility": null,
            "align_self": null,
            "height": null,
            "min_height": null,
            "padding": null,
            "grid_auto_rows": null,
            "grid_gap": null,
            "max_width": null,
            "order": null,
            "_view_module_version": "1.2.0",
            "grid_template_areas": null,
            "object_position": null,
            "object_fit": null,
            "grid_auto_columns": null,
            "margin": null,
            "display": null,
            "left": null
          }
        },
        "4dce94d0d6df43a9922924a2b35ae70d": {
          "model_module": "@jupyter-widgets/controls",
          "model_name": "DescriptionStyleModel",
          "state": {
            "_view_name": "StyleView",
            "_model_name": "DescriptionStyleModel",
            "description_width": "",
            "_view_module": "@jupyter-widgets/base",
            "_model_module_version": "1.5.0",
            "_view_count": null,
            "_view_module_version": "1.2.0",
            "_model_module": "@jupyter-widgets/controls"
          }
        },
        "9afda5b506c8485bbc6b1d24cfe67544": {
          "model_module": "@jupyter-widgets/base",
          "model_name": "LayoutModel",
          "state": {
            "_view_name": "LayoutView",
            "grid_template_rows": null,
            "right": null,
            "justify_content": null,
            "_view_module": "@jupyter-widgets/base",
            "overflow": null,
            "_model_module_version": "1.2.0",
            "_view_count": null,
            "flex_flow": null,
            "width": null,
            "min_width": null,
            "border": null,
            "align_items": null,
            "bottom": null,
            "_model_module": "@jupyter-widgets/base",
            "top": null,
            "grid_column": null,
            "overflow_y": null,
            "overflow_x": null,
            "grid_auto_flow": null,
            "grid_area": null,
            "grid_template_columns": null,
            "flex": null,
            "_model_name": "LayoutModel",
            "justify_items": null,
            "grid_row": null,
            "max_height": null,
            "align_content": null,
            "visibility": null,
            "align_self": null,
            "height": null,
            "min_height": null,
            "padding": null,
            "grid_auto_rows": null,
            "grid_gap": null,
            "max_width": null,
            "order": null,
            "_view_module_version": "1.2.0",
            "grid_template_areas": null,
            "object_position": null,
            "object_fit": null,
            "grid_auto_columns": null,
            "margin": null,
            "display": null,
            "left": null
          }
        }
      }
    }
  },
  "cells": [
    {
      "cell_type": "code",
      "metadata": {
        "id": "BWIyC9Ip_bcq"
      },
      "source": [
        "import numpy as np\n",
        "import pandas as pd\n",
        "\n",
        "import torch\n",
        "import torchvision\n",
        "from torch.utils.data import Dataset, DataLoader\n",
        "from torchvision import transforms, utils\n",
        "import torch.nn as nn\n",
        "import torch.nn.functional as F\n",
        "import torch.optim as optim\n",
        "\n",
        "from matplotlib import pyplot as plt\n",
        "%matplotlib inline"
      ],
      "execution_count": 1,
      "outputs": []
    },
    {
      "cell_type": "code",
      "metadata": {
        "colab": {
          "base_uri": "https://localhost:8080/",
          "height": 100,
          "referenced_widgets": [
            "316fb9b799e144fa98c20aadd30c454e",
            "31f003c288c24c888aecf1f549be56c9",
            "5ec68515eb2647adb51f55265f3c698f",
            "b8c161df8fc747058d7e4124be3bd46b",
            "fdee989bfacb4041abc2b2d3f36439af",
            "67900e906bfd4d059ed2e7e1bf5330bb",
            "4dce94d0d6df43a9922924a2b35ae70d",
            "9afda5b506c8485bbc6b1d24cfe67544"
          ]
        },
        "id": "cgw1f4rVkGr9",
        "outputId": "6969e970-282f-4c57-a719-8cc1d03bbcd8"
      },
      "source": [
        "transform = transforms.Compose(\n",
        "    [transforms.ToTensor(),\n",
        "     transforms.Normalize((0.5, 0.5, 0.5), (0.5, 0.5, 0.5))])\n",
        "\n",
        "trainset = torchvision.datasets.CIFAR10(root='./data', train=True, download=True, transform=transform)"
      ],
      "execution_count": 2,
      "outputs": [
        {
          "output_type": "stream",
          "text": [
            "Downloading https://www.cs.toronto.edu/~kriz/cifar-10-python.tar.gz to ./data/cifar-10-python.tar.gz\n"
          ],
          "name": "stdout"
        },
        {
          "output_type": "display_data",
          "data": {
            "application/vnd.jupyter.widget-view+json": {
              "model_id": "316fb9b799e144fa98c20aadd30c454e",
              "version_minor": 0,
              "version_major": 2
            },
            "text/plain": [
              "HBox(children=(FloatProgress(value=0.0, max=170498071.0), HTML(value='')))"
            ]
          },
          "metadata": {
            "tags": []
          }
        },
        {
          "output_type": "stream",
          "text": [
            "\n",
            "Extracting ./data/cifar-10-python.tar.gz to ./data\n"
          ],
          "name": "stdout"
        }
      ]
    },
    {
      "cell_type": "code",
      "metadata": {
        "id": "D-xlWYTKkQEn"
      },
      "source": [
        "trainloader = torch.utils.data.DataLoader(trainset, batch_size=10, shuffle=True)\n",
        "\n",
        "\n",
        "classes = ('plane', 'car', 'bird', 'cat', 'deer', 'dog', 'frog', 'horse', 'ship', 'truck')\n",
        "\n",
        "foreground_classes = {'plane', 'car', 'bird'}\n",
        "#foreground_classes = {'bird', 'cat', 'deer'}\n",
        "background_classes = {'cat', 'deer', 'dog', 'frog', 'horse', 'ship', 'truck'}\n",
        "#background_classes = {'plane', 'car', 'dog', 'frog', 'horse','ship', 'truck'}\n",
        "\n",
        "fg1,fg2,fg3 = 0,1,2"
      ],
      "execution_count": 3,
      "outputs": []
    },
    {
      "cell_type": "code",
      "metadata": {
        "id": "zrX68qhikUbz"
      },
      "source": [
        "dataiter = iter(trainloader)\n",
        "background_data=[]\n",
        "background_label=[]\n",
        "foreground_data=[]\n",
        "foreground_label=[]\n",
        "batch_size=10\n",
        "\n",
        "for i in range(5000):\n",
        "  images, labels = dataiter.next()\n",
        "  for j in range(batch_size):\n",
        "    if(classes[labels[j]] in background_classes):\n",
        "      img = images[j].tolist()\n",
        "      background_data.append(img)\n",
        "      background_label.append(labels[j])\n",
        "    else:\n",
        "      img = images[j].tolist()\n",
        "      foreground_data.append(img)\n",
        "      foreground_label.append(labels[j])\n",
        "            \n",
        "foreground_data = torch.tensor(foreground_data)\n",
        "foreground_label = torch.tensor(foreground_label)\n",
        "background_data = torch.tensor(background_data)\n",
        "background_label = torch.tensor(background_label)"
      ],
      "execution_count": 4,
      "outputs": []
    },
    {
      "cell_type": "code",
      "metadata": {
        "id": "eD-QJkvnkgyk"
      },
      "source": [
        "def create_mosaic_img(bg_idx,fg_idx,fg): \n",
        "  \"\"\"\n",
        "  bg_idx : list of indexes of background_data[] to be used as background images in mosaic\n",
        "  fg_idx : index of image to be used as foreground image from foreground data\n",
        "  fg : at what position/index foreground image has to be stored out of 0-8\n",
        "  \"\"\"\n",
        "  image_list=[]\n",
        "  j=0\n",
        "  for i in range(9):\n",
        "    if i != fg:\n",
        "      image_list.append(background_data[bg_idx[j]])#.type(\"torch.DoubleTensor\"))\n",
        "      j+=1\n",
        "    else: \n",
        "      image_list.append(foreground_data[fg_idx])#.type(\"torch.DoubleTensor\"))\n",
        "      label = foreground_label[fg_idx]-fg1  # minus 7 because our fore ground classes are 7,8,9 but we have to store it as 0,1,2\n",
        "  #image_list = np.concatenate(image_list ,axis=0)\n",
        "  image_list = torch.stack(image_list) \n",
        "  return image_list,label"
      ],
      "execution_count": 5,
      "outputs": []
    },
    {
      "cell_type": "code",
      "metadata": {
        "id": "Zs10rfXHkli2"
      },
      "source": [
        "desired_num = 30000\n",
        "mosaic_list_of_images =[]      # list of mosaic images, each mosaic image is saved as list of 9 images\n",
        "fore_idx =[]                   # list of indexes at which foreground image is present in a mosaic image i.e from 0 to 9               \n",
        "mosaic_label=[]                # label of mosaic image = foreground class present in that mosaic\n",
        "for i in range(desired_num):\n",
        "  np.random.seed(i)\n",
        "  bg_idx = np.random.randint(0,35000,8)\n",
        "  fg_idx = np.random.randint(0,15000)\n",
        "  fg = np.random.randint(0,9)\n",
        "  fore_idx.append(fg)\n",
        "  image_list,label = create_mosaic_img(bg_idx,fg_idx,fg)\n",
        "  mosaic_list_of_images.append(image_list)\n",
        "  mosaic_label.append(label)"
      ],
      "execution_count": 6,
      "outputs": []
    },
    {
      "cell_type": "code",
      "metadata": {
        "id": "7km9Swb1kq4O"
      },
      "source": [
        "class MosaicDataset(Dataset):\n",
        "  \"\"\"MosaicDataset dataset.\"\"\"\n",
        "\n",
        "  def __init__(self, mosaic_list_of_images, mosaic_label, fore_idx):\n",
        "    \"\"\"\n",
        "      Args:\n",
        "        csv_file (string): Path to the csv file with annotations.\n",
        "        root_dir (string): Directory with all the images.\n",
        "        transform (callable, optional): Optional transform to be applied\n",
        "            on a sample.\n",
        "    \"\"\"\n",
        "    self.mosaic = mosaic_list_of_images\n",
        "    self.label = mosaic_label\n",
        "    self.fore_idx = fore_idx\n",
        "\n",
        "  def __len__(self):\n",
        "    return len(self.label)\n",
        "\n",
        "  def __getitem__(self, idx):\n",
        "    return self.mosaic[idx] , self.label[idx], self.fore_idx[idx]\n",
        "batch = 250\n",
        "msd = MosaicDataset(mosaic_list_of_images, mosaic_label , fore_idx)\n",
        "train_loader = DataLoader( msd,batch_size= batch ,shuffle=False)"
      ],
      "execution_count": 7,
      "outputs": []
    },
    {
      "cell_type": "code",
      "metadata": {
        "id": "lGVy-1EllAc_"
      },
      "source": [
        "data,labels,fg_index = iter(train_loader).next()"
      ],
      "execution_count": 8,
      "outputs": []
    },
    {
      "cell_type": "code",
      "metadata": {
        "id": "DOpZfj1bq7wN"
      },
      "source": [
        "ag = []\n",
        "for i in range(120):\n",
        "  alphag = torch.ones((250,9))/9\n",
        "  ag.append( alphag.requires_grad_() )"
      ],
      "execution_count": 9,
      "outputs": []
    },
    {
      "cell_type": "code",
      "metadata": {
        "id": "HbrMidFCla6h"
      },
      "source": [
        "class Module2(nn.Module):\n",
        "  def __init__(self):\n",
        "    super(Module2, self).__init__()\n",
        "    \n",
        "    self.conv1 = nn.Conv2d(3, 6, 5)\n",
        "    self.pool = nn.MaxPool2d(2, 2)\n",
        "    self.conv2 = nn.Conv2d(6, 16, 5)\n",
        "    self.fc1 = nn.Linear(16 * 5 * 5, 120)\n",
        "    self.fc2 = nn.Linear(120, 84)\n",
        "    self.fc3 = nn.Linear(84, 10)\n",
        "    self.fc4 = nn.Linear(10,3)\n",
        "\n",
        "  def forward(self,y):  #z batch of list of 9 images\n",
        "    y1 = self.pool(F.relu(self.conv1(y)))\n",
        "    y1 = self.pool(F.relu(self.conv2(y1)))\n",
        "    y1 = y1.view(-1, 16 * 5 * 5)\n",
        "\n",
        "    y1 = F.relu(self.fc1(y1))\n",
        "    y1 = F.relu(self.fc2(y1))\n",
        "    y1 = F.relu(self.fc3(y1))\n",
        "    y1 = self.fc4(y1)\n",
        "    return y1"
      ],
      "execution_count": 10,
      "outputs": []
    },
    {
      "cell_type": "code",
      "metadata": {
        "id": "rRqj2VELllkX"
      },
      "source": [
        "torch.manual_seed(1234)\n",
        "what_net = Module2().double()\n",
        "what_net = what_net.to(\"cuda\")"
      ],
      "execution_count": 11,
      "outputs": []
    },
    {
      "cell_type": "code",
      "metadata": {
        "id": "6d8Wch99l4yB"
      },
      "source": [
        "def attn_avg(x,alpha):\n",
        "  y = torch.zeros([batch,3, 32,32], dtype=torch.float64)\n",
        "  y = y.to(\"cuda\")\n",
        "  alpha = F.softmax(alpha,dim=1)   # alphas\n",
        "  for i in range(9):            \n",
        "    alpha1 = alpha[:,i]          \n",
        "    y = y + torch.mul(alpha1[:,None,None,None],x[:,i])\n",
        "    return y,alpha\n"
      ],
      "execution_count": 12,
      "outputs": []
    },
    {
      "cell_type": "code",
      "metadata": {
        "id": "Rz1Kpw12loV6"
      },
      "source": [
        "def calculate_attn_loss(dataloader,what,criter):\n",
        "  what.eval()\n",
        "  r_loss = 0\n",
        "  alphas = []\n",
        "  lbls = []\n",
        "  pred = []\n",
        "  fidices = []\n",
        "  correct = 0\n",
        "  tot = 0\n",
        "  with torch.no_grad():\n",
        "    for i, data in enumerate(dataloader, 0):\n",
        "      inputs, labels,fidx= data\n",
        "      lbls.append(labels)\n",
        "      fidices.append(fidx)\n",
        "      inputs = inputs.double()\n",
        "      alpha = ag[i]  # alpha for ith batch\n",
        "      inputs, labels,alpha = inputs.to(\"cuda\"),labels.to(\"cuda\"),alpha.to(\"cuda\")\n",
        "      avg,alpha = attn_avg(inputs,alpha)\n",
        "      alpha = alpha.to(\"cuda\")\n",
        "      outputs = what(avg)\n",
        "      _, predicted = torch.max(outputs.data, 1)\n",
        "      correct += sum(predicted == labels)\n",
        "      tot += len(predicted)\n",
        "      pred.append(predicted.cpu().numpy())\n",
        "      alphas.append(alpha.cpu().numpy())\n",
        "      loss = criter(outputs, labels)\n",
        "      r_loss += loss.item()\n",
        "  alphas = np.concatenate(alphas,axis=0)\n",
        "  pred = np.concatenate(pred,axis=0)\n",
        "  lbls = np.concatenate(lbls,axis=0)\n",
        "  fidices = np.concatenate(fidices,axis=0)\n",
        "  #print(alphas.shape,pred.shape,lbls.shape,fidices.shape) \n",
        "  analysis = analyse_data(alphas,lbls,pred,fidices)\n",
        "  return r_loss/i,analysis,correct.item(),tot,correct.item()/tot"
      ],
      "execution_count": 13,
      "outputs": []
    },
    {
      "cell_type": "code",
      "metadata": {
        "id": "_toCktPanH0S"
      },
      "source": [
        "\n",
        "def analyse_data(alphas,lbls,predicted,f_idx):\n",
        "    '''\n",
        "       analysis data is created here\n",
        "    '''\n",
        "    batch = len(predicted)\n",
        "    amth,alth,ftpt,ffpt,ftpf,ffpf = 0,0,0,0,0,0\n",
        "    for j in range (batch):\n",
        "      focus = np.argmax(alphas[j])\n",
        "      if(alphas[j][focus] >= 0.5):\n",
        "        amth +=1\n",
        "      else:\n",
        "        alth +=1\n",
        "      if(focus == f_idx[j] and predicted[j] == lbls[j]):\n",
        "        ftpt += 1\n",
        "      elif(focus != f_idx[j] and predicted[j] == lbls[j]):\n",
        "        ffpt +=1\n",
        "      elif(focus == f_idx[j] and predicted[j] != lbls[j]):\n",
        "        ftpf +=1\n",
        "      elif(focus != f_idx[j] and predicted[j] != lbls[j]):\n",
        "        ffpf +=1\n",
        "    #print(sum(predicted==lbls),ftpt+ffpt)\n",
        "    return [ftpt,ffpt,ftpf,ffpf,amth,alth]"
      ],
      "execution_count": 14,
      "outputs": []
    },
    {
      "cell_type": "code",
      "metadata": {
        "id": "S633XgMToeN3"
      },
      "source": [
        "optim1 = []\n",
        "for i in range(120):\n",
        "  optim1.append(optim.RMSprop([ag[i]], lr=10000))"
      ],
      "execution_count": 15,
      "outputs": []
    },
    {
      "cell_type": "code",
      "metadata": {
        "colab": {
          "base_uri": "https://localhost:8080/"
        },
        "id": "qPaYaojinMTA",
        "outputId": "32a6e9cd-293e-4586-8d8c-a2c467fa2255"
      },
      "source": [
        "# instantiate optimizer\n",
        "optimizer_what = optim.RMSprop(what_net.parameters(), lr=0.001)#, momentum=0.9)#,nesterov=True)\n",
        "\n",
        "\n",
        " \n",
        "\n",
        "\n",
        "criterion = nn.CrossEntropyLoss()\n",
        "acti = []\n",
        "analysis_data_tr = []\n",
        "analysis_data_tst = []\n",
        "loss_curi_tr = []\n",
        "loss_curi_tst = []\n",
        "epochs = 200\n",
        "\n",
        "\n",
        "# calculate zeroth epoch loss and FTPT values\n",
        "running_loss,anlys_data,correct,total,accuracy = calculate_attn_loss(train_loader,what_net,criterion)\n",
        "print('training epoch: [%d ] loss: %.3f correct: %.3f, total: %.3f, accuracy: %.3f' %(0,running_loss,correct,total,accuracy)) \n",
        "loss_curi_tr.append(running_loss)\n",
        "analysis_data_tr.append(anlys_data)\n",
        "\n",
        "\n",
        "\n",
        "\n",
        "# training starts \n",
        "for epoch in range(epochs): # loop over the dataset multiple times\n",
        "  ep_lossi = []\n",
        "  running_loss = 0.0\n",
        "  what_net.train()\n",
        "  for i, data in enumerate(train_loader, 0):\n",
        "    # get the inputs\n",
        "    grads = [] \n",
        "    inputs, labels,_  = data\n",
        "    inputs = inputs.double()\n",
        "    alpha = ag[i] # alpha for ith batch\n",
        "    inputs, labels,alpha = inputs.to(\"cuda\"),labels.to(\"cuda\"),alpha.to(\"cuda\")\n",
        "        \n",
        "    # zero the parameter gradients\n",
        "    optimizer_what.zero_grad()\n",
        "    optim1[i].zero_grad()\n",
        "      \n",
        "    # forward + backward + optimize\n",
        "    avg,alpha = attn_avg(inputs,alpha)\n",
        "    outputs = what_net(avg)     \n",
        "    loss = criterion(outputs, labels)\n",
        "\n",
        "    # print statistics\n",
        "    running_loss += loss.item()\n",
        "    alpha.retain_grad()\n",
        "    loss.backward(retain_graph=False)\n",
        "    optimizer_what.step()\n",
        "    optim1[i].step()\n",
        "\n",
        "\n",
        "  running_loss_tr,anls_data,correct,total,accuracy = calculate_attn_loss(train_loader,what_net,criterion)\n",
        "  analysis_data_tr.append(anls_data)\n",
        "  loss_curi_tr.append(running_loss_tr)   #loss per epoch\n",
        "  print('training epoch: [%d ] loss: %.3f correct: %.3f, total: %.3f, accuracy: %.3f' %(epoch+1,running_loss_tr,correct,total,accuracy)) \n",
        "\n",
        "\n",
        "  \n",
        "  if running_loss_tr<=0.08:\n",
        "    break\n",
        "print('Finished Training run ')\n",
        "analysis_data_tr = np.array(analysis_data_tr)\n",
        "\n"
      ],
      "execution_count": 16,
      "outputs": [
        {
          "output_type": "stream",
          "text": [
            "training epoch: [0 ] loss: 1.120 correct: 10096.000, total: 30000.000, accuracy: 0.337\n",
            "training epoch: [1 ] loss: 1.050 correct: 14569.000, total: 30000.000, accuracy: 0.486\n",
            "training epoch: [2 ] loss: 1.115 correct: 14187.000, total: 30000.000, accuracy: 0.473\n",
            "training epoch: [3 ] loss: 1.416 correct: 12326.000, total: 30000.000, accuracy: 0.411\n",
            "training epoch: [4 ] loss: 0.926 correct: 16164.000, total: 30000.000, accuracy: 0.539\n",
            "training epoch: [5 ] loss: 1.455 correct: 12575.000, total: 30000.000, accuracy: 0.419\n",
            "training epoch: [6 ] loss: 1.433 correct: 12646.000, total: 30000.000, accuracy: 0.422\n",
            "training epoch: [7 ] loss: 1.361 correct: 12975.000, total: 30000.000, accuracy: 0.432\n",
            "training epoch: [8 ] loss: 1.349 correct: 13181.000, total: 30000.000, accuracy: 0.439\n",
            "training epoch: [9 ] loss: 1.305 correct: 13201.000, total: 30000.000, accuracy: 0.440\n",
            "training epoch: [10 ] loss: 1.333 correct: 13264.000, total: 30000.000, accuracy: 0.442\n",
            "training epoch: [11 ] loss: 1.342 correct: 13187.000, total: 30000.000, accuracy: 0.440\n",
            "training epoch: [12 ] loss: 1.300 correct: 13263.000, total: 30000.000, accuracy: 0.442\n",
            "training epoch: [13 ] loss: 1.294 correct: 13229.000, total: 30000.000, accuracy: 0.441\n",
            "training epoch: [14 ] loss: 1.323 correct: 13055.000, total: 30000.000, accuracy: 0.435\n",
            "training epoch: [15 ] loss: 1.315 correct: 13052.000, total: 30000.000, accuracy: 0.435\n",
            "training epoch: [16 ] loss: 1.298 correct: 13188.000, total: 30000.000, accuracy: 0.440\n",
            "training epoch: [17 ] loss: 1.291 correct: 13269.000, total: 30000.000, accuracy: 0.442\n",
            "training epoch: [18 ] loss: 1.271 correct: 13360.000, total: 30000.000, accuracy: 0.445\n",
            "training epoch: [19 ] loss: 1.263 correct: 13381.000, total: 30000.000, accuracy: 0.446\n",
            "training epoch: [20 ] loss: 1.302 correct: 12958.000, total: 30000.000, accuracy: 0.432\n",
            "training epoch: [21 ] loss: 1.306 correct: 12964.000, total: 30000.000, accuracy: 0.432\n",
            "training epoch: [22 ] loss: 1.315 correct: 12915.000, total: 30000.000, accuracy: 0.430\n",
            "training epoch: [23 ] loss: 1.279 correct: 13551.000, total: 30000.000, accuracy: 0.452\n",
            "training epoch: [24 ] loss: 1.283 correct: 13649.000, total: 30000.000, accuracy: 0.455\n",
            "training epoch: [25 ] loss: 1.225 correct: 13708.000, total: 30000.000, accuracy: 0.457\n",
            "training epoch: [26 ] loss: 1.235 correct: 13977.000, total: 30000.000, accuracy: 0.466\n",
            "training epoch: [27 ] loss: 1.212 correct: 14110.000, total: 30000.000, accuracy: 0.470\n",
            "training epoch: [28 ] loss: 1.229 correct: 13977.000, total: 30000.000, accuracy: 0.466\n",
            "training epoch: [29 ] loss: 1.111 correct: 14324.000, total: 30000.000, accuracy: 0.477\n",
            "training epoch: [30 ] loss: 1.454 correct: 12327.000, total: 30000.000, accuracy: 0.411\n",
            "training epoch: [31 ] loss: 1.154 correct: 14607.000, total: 30000.000, accuracy: 0.487\n",
            "training epoch: [32 ] loss: 1.214 correct: 13618.000, total: 30000.000, accuracy: 0.454\n",
            "training epoch: [33 ] loss: 1.288 correct: 13106.000, total: 30000.000, accuracy: 0.437\n",
            "training epoch: [34 ] loss: 1.523 correct: 12060.000, total: 30000.000, accuracy: 0.402\n",
            "training epoch: [35 ] loss: 1.446 correct: 12741.000, total: 30000.000, accuracy: 0.425\n",
            "training epoch: [36 ] loss: 1.528 correct: 12332.000, total: 30000.000, accuracy: 0.411\n",
            "training epoch: [37 ] loss: 1.527 correct: 8136.000, total: 30000.000, accuracy: 0.271\n",
            "training epoch: [38 ] loss: 1.258 correct: 14510.000, total: 30000.000, accuracy: 0.484\n",
            "training epoch: [39 ] loss: 1.204 correct: 10276.000, total: 30000.000, accuracy: 0.343\n",
            "training epoch: [40 ] loss: 1.630 correct: 12640.000, total: 30000.000, accuracy: 0.421\n",
            "training epoch: [41 ] loss: 1.245 correct: 14537.000, total: 30000.000, accuracy: 0.485\n",
            "training epoch: [42 ] loss: 1.442 correct: 13932.000, total: 30000.000, accuracy: 0.464\n",
            "training epoch: [43 ] loss: 1.627 correct: 13050.000, total: 30000.000, accuracy: 0.435\n",
            "training epoch: [44 ] loss: 1.155 correct: 15919.000, total: 30000.000, accuracy: 0.531\n",
            "training epoch: [45 ] loss: 1.514 correct: 13611.000, total: 30000.000, accuracy: 0.454\n",
            "training epoch: [46 ] loss: 1.881 correct: 12187.000, total: 30000.000, accuracy: 0.406\n",
            "training epoch: [47 ] loss: 1.151 correct: 15962.000, total: 30000.000, accuracy: 0.532\n",
            "training epoch: [48 ] loss: 1.485 correct: 14267.000, total: 30000.000, accuracy: 0.476\n",
            "training epoch: [49 ] loss: 1.623 correct: 13291.000, total: 30000.000, accuracy: 0.443\n",
            "training epoch: [50 ] loss: 1.148 correct: 16009.000, total: 30000.000, accuracy: 0.534\n",
            "training epoch: [51 ] loss: 1.097 correct: 16253.000, total: 30000.000, accuracy: 0.542\n",
            "training epoch: [52 ] loss: 1.128 correct: 16125.000, total: 30000.000, accuracy: 0.537\n",
            "training epoch: [53 ] loss: 1.435 correct: 14894.000, total: 30000.000, accuracy: 0.496\n",
            "training epoch: [54 ] loss: 1.081 correct: 16773.000, total: 30000.000, accuracy: 0.559\n",
            "training epoch: [55 ] loss: 1.122 correct: 16294.000, total: 30000.000, accuracy: 0.543\n",
            "training epoch: [56 ] loss: 1.221 correct: 16091.000, total: 30000.000, accuracy: 0.536\n",
            "training epoch: [57 ] loss: 1.037 correct: 17239.000, total: 30000.000, accuracy: 0.575\n",
            "training epoch: [58 ] loss: 1.140 correct: 16713.000, total: 30000.000, accuracy: 0.557\n",
            "training epoch: [59 ] loss: 1.111 correct: 16537.000, total: 30000.000, accuracy: 0.551\n",
            "training epoch: [60 ] loss: 1.115 correct: 17009.000, total: 30000.000, accuracy: 0.567\n",
            "training epoch: [61 ] loss: 1.592 correct: 14910.000, total: 30000.000, accuracy: 0.497\n",
            "training epoch: [62 ] loss: 1.191 correct: 16814.000, total: 30000.000, accuracy: 0.560\n",
            "training epoch: [63 ] loss: 1.200 correct: 16740.000, total: 30000.000, accuracy: 0.558\n",
            "training epoch: [64 ] loss: 1.228 correct: 16718.000, total: 30000.000, accuracy: 0.557\n",
            "training epoch: [65 ] loss: 1.208 correct: 16775.000, total: 30000.000, accuracy: 0.559\n",
            "training epoch: [66 ] loss: 1.159 correct: 16718.000, total: 30000.000, accuracy: 0.557\n",
            "training epoch: [67 ] loss: 1.157 correct: 16958.000, total: 30000.000, accuracy: 0.565\n",
            "training epoch: [68 ] loss: 1.933 correct: 13990.000, total: 30000.000, accuracy: 0.466\n",
            "training epoch: [69 ] loss: 1.049 correct: 12820.000, total: 30000.000, accuracy: 0.427\n",
            "training epoch: [70 ] loss: 1.321 correct: 16321.000, total: 30000.000, accuracy: 0.544\n",
            "training epoch: [71 ] loss: 1.094 correct: 17290.000, total: 30000.000, accuracy: 0.576\n",
            "training epoch: [72 ] loss: 1.067 correct: 17467.000, total: 30000.000, accuracy: 0.582\n",
            "training epoch: [73 ] loss: 1.142 correct: 16879.000, total: 30000.000, accuracy: 0.563\n",
            "training epoch: [74 ] loss: 1.170 correct: 16904.000, total: 30000.000, accuracy: 0.563\n",
            "training epoch: [75 ] loss: 1.245 correct: 16861.000, total: 30000.000, accuracy: 0.562\n",
            "training epoch: [76 ] loss: 1.101 correct: 17124.000, total: 30000.000, accuracy: 0.571\n",
            "training epoch: [77 ] loss: 1.063 correct: 17619.000, total: 30000.000, accuracy: 0.587\n",
            "training epoch: [78 ] loss: 1.208 correct: 16941.000, total: 30000.000, accuracy: 0.565\n",
            "training epoch: [79 ] loss: 1.017 correct: 17968.000, total: 30000.000, accuracy: 0.599\n",
            "training epoch: [80 ] loss: 1.097 correct: 17400.000, total: 30000.000, accuracy: 0.580\n",
            "training epoch: [81 ] loss: 1.142 correct: 17239.000, total: 30000.000, accuracy: 0.575\n",
            "training epoch: [82 ] loss: 1.059 correct: 17682.000, total: 30000.000, accuracy: 0.589\n",
            "training epoch: [83 ] loss: 1.080 correct: 17637.000, total: 30000.000, accuracy: 0.588\n",
            "training epoch: [84 ] loss: 1.098 correct: 17467.000, total: 30000.000, accuracy: 0.582\n",
            "training epoch: [85 ] loss: 1.092 correct: 17693.000, total: 30000.000, accuracy: 0.590\n",
            "training epoch: [86 ] loss: 1.240 correct: 17082.000, total: 30000.000, accuracy: 0.569\n",
            "training epoch: [87 ] loss: 1.231 correct: 16988.000, total: 30000.000, accuracy: 0.566\n",
            "training epoch: [88 ] loss: 1.110 correct: 17655.000, total: 30000.000, accuracy: 0.589\n",
            "training epoch: [89 ] loss: 1.136 correct: 17486.000, total: 30000.000, accuracy: 0.583\n",
            "training epoch: [90 ] loss: 1.116 correct: 17638.000, total: 30000.000, accuracy: 0.588\n",
            "training epoch: [91 ] loss: 1.069 correct: 17469.000, total: 30000.000, accuracy: 0.582\n",
            "training epoch: [92 ] loss: 1.132 correct: 17287.000, total: 30000.000, accuracy: 0.576\n",
            "training epoch: [93 ] loss: 1.185 correct: 17357.000, total: 30000.000, accuracy: 0.579\n",
            "training epoch: [94 ] loss: 1.243 correct: 17237.000, total: 30000.000, accuracy: 0.575\n",
            "training epoch: [95 ] loss: 1.085 correct: 17786.000, total: 30000.000, accuracy: 0.593\n",
            "training epoch: [96 ] loss: 1.446 correct: 16380.000, total: 30000.000, accuracy: 0.546\n",
            "training epoch: [97 ] loss: 1.224 correct: 17197.000, total: 30000.000, accuracy: 0.573\n",
            "training epoch: [98 ] loss: 1.002 correct: 18035.000, total: 30000.000, accuracy: 0.601\n",
            "training epoch: [99 ] loss: 1.111 correct: 17791.000, total: 30000.000, accuracy: 0.593\n",
            "training epoch: [100 ] loss: 1.232 correct: 17115.000, total: 30000.000, accuracy: 0.571\n",
            "training epoch: [101 ] loss: 1.333 correct: 16668.000, total: 30000.000, accuracy: 0.556\n",
            "training epoch: [102 ] loss: 1.085 correct: 17591.000, total: 30000.000, accuracy: 0.586\n",
            "training epoch: [103 ] loss: 1.119 correct: 17935.000, total: 30000.000, accuracy: 0.598\n",
            "training epoch: [104 ] loss: 1.186 correct: 17543.000, total: 30000.000, accuracy: 0.585\n",
            "training epoch: [105 ] loss: 1.076 correct: 17802.000, total: 30000.000, accuracy: 0.593\n",
            "training epoch: [106 ] loss: 1.129 correct: 17604.000, total: 30000.000, accuracy: 0.587\n",
            "training epoch: [107 ] loss: 1.047 correct: 18036.000, total: 30000.000, accuracy: 0.601\n",
            "training epoch: [108 ] loss: 1.160 correct: 17176.000, total: 30000.000, accuracy: 0.573\n",
            "training epoch: [109 ] loss: 1.088 correct: 17958.000, total: 30000.000, accuracy: 0.599\n",
            "training epoch: [110 ] loss: 1.119 correct: 17624.000, total: 30000.000, accuracy: 0.587\n",
            "training epoch: [111 ] loss: 1.202 correct: 17427.000, total: 30000.000, accuracy: 0.581\n",
            "training epoch: [112 ] loss: 1.294 correct: 17272.000, total: 30000.000, accuracy: 0.576\n",
            "training epoch: [113 ] loss: 1.062 correct: 18029.000, total: 30000.000, accuracy: 0.601\n",
            "training epoch: [114 ] loss: 1.134 correct: 17810.000, total: 30000.000, accuracy: 0.594\n",
            "training epoch: [115 ] loss: 1.061 correct: 18043.000, total: 30000.000, accuracy: 0.601\n",
            "training epoch: [116 ] loss: 1.092 correct: 17979.000, total: 30000.000, accuracy: 0.599\n",
            "training epoch: [117 ] loss: 1.026 correct: 18161.000, total: 30000.000, accuracy: 0.605\n",
            "training epoch: [118 ] loss: 1.100 correct: 17942.000, total: 30000.000, accuracy: 0.598\n",
            "training epoch: [119 ] loss: 1.049 correct: 18066.000, total: 30000.000, accuracy: 0.602\n",
            "training epoch: [120 ] loss: 1.063 correct: 18019.000, total: 30000.000, accuracy: 0.601\n",
            "training epoch: [121 ] loss: 1.123 correct: 17834.000, total: 30000.000, accuracy: 0.594\n",
            "training epoch: [122 ] loss: 1.318 correct: 17247.000, total: 30000.000, accuracy: 0.575\n",
            "training epoch: [123 ] loss: 1.104 correct: 17869.000, total: 30000.000, accuracy: 0.596\n",
            "training epoch: [124 ] loss: 1.095 correct: 17957.000, total: 30000.000, accuracy: 0.599\n",
            "training epoch: [125 ] loss: 1.091 correct: 18084.000, total: 30000.000, accuracy: 0.603\n",
            "training epoch: [126 ] loss: 1.197 correct: 17609.000, total: 30000.000, accuracy: 0.587\n",
            "training epoch: [127 ] loss: 1.102 correct: 18090.000, total: 30000.000, accuracy: 0.603\n",
            "training epoch: [128 ] loss: 1.196 correct: 17615.000, total: 30000.000, accuracy: 0.587\n",
            "training epoch: [129 ] loss: 1.171 correct: 17721.000, total: 30000.000, accuracy: 0.591\n",
            "training epoch: [130 ] loss: 1.205 correct: 17638.000, total: 30000.000, accuracy: 0.588\n",
            "training epoch: [131 ] loss: 1.141 correct: 17968.000, total: 30000.000, accuracy: 0.599\n",
            "training epoch: [132 ] loss: 1.113 correct: 18094.000, total: 30000.000, accuracy: 0.603\n",
            "training epoch: [133 ] loss: 1.326 correct: 16928.000, total: 30000.000, accuracy: 0.564\n",
            "training epoch: [134 ] loss: 1.228 correct: 17713.000, total: 30000.000, accuracy: 0.590\n",
            "training epoch: [135 ] loss: 1.081 correct: 18110.000, total: 30000.000, accuracy: 0.604\n",
            "training epoch: [136 ] loss: 1.146 correct: 17852.000, total: 30000.000, accuracy: 0.595\n",
            "training epoch: [137 ] loss: 1.081 correct: 18118.000, total: 30000.000, accuracy: 0.604\n",
            "training epoch: [138 ] loss: 1.061 correct: 18258.000, total: 30000.000, accuracy: 0.609\n",
            "training epoch: [139 ] loss: 1.050 correct: 18219.000, total: 30000.000, accuracy: 0.607\n",
            "training epoch: [140 ] loss: 1.103 correct: 17994.000, total: 30000.000, accuracy: 0.600\n",
            "training epoch: [141 ] loss: 1.172 correct: 17902.000, total: 30000.000, accuracy: 0.597\n",
            "training epoch: [142 ] loss: 1.147 correct: 17970.000, total: 30000.000, accuracy: 0.599\n",
            "training epoch: [143 ] loss: 1.117 correct: 18089.000, total: 30000.000, accuracy: 0.603\n",
            "training epoch: [144 ] loss: 1.091 correct: 18133.000, total: 30000.000, accuracy: 0.604\n",
            "training epoch: [145 ] loss: 1.256 correct: 17454.000, total: 30000.000, accuracy: 0.582\n",
            "training epoch: [146 ] loss: 1.097 correct: 18175.000, total: 30000.000, accuracy: 0.606\n",
            "training epoch: [147 ] loss: 1.094 correct: 18144.000, total: 30000.000, accuracy: 0.605\n",
            "training epoch: [148 ] loss: 1.189 correct: 17802.000, total: 30000.000, accuracy: 0.593\n",
            "training epoch: [149 ] loss: 1.171 correct: 17911.000, total: 30000.000, accuracy: 0.597\n",
            "training epoch: [150 ] loss: 1.208 correct: 17702.000, total: 30000.000, accuracy: 0.590\n",
            "training epoch: [151 ] loss: 1.125 correct: 18078.000, total: 30000.000, accuracy: 0.603\n",
            "training epoch: [152 ] loss: 1.192 correct: 17793.000, total: 30000.000, accuracy: 0.593\n",
            "training epoch: [153 ] loss: 1.246 correct: 17837.000, total: 30000.000, accuracy: 0.595\n",
            "training epoch: [154 ] loss: 1.212 correct: 17813.000, total: 30000.000, accuracy: 0.594\n",
            "training epoch: [155 ] loss: 1.310 correct: 17742.000, total: 30000.000, accuracy: 0.591\n",
            "training epoch: [156 ] loss: 1.189 correct: 17716.000, total: 30000.000, accuracy: 0.591\n",
            "training epoch: [157 ] loss: 1.503 correct: 17193.000, total: 30000.000, accuracy: 0.573\n",
            "training epoch: [158 ] loss: 1.374 correct: 17464.000, total: 30000.000, accuracy: 0.582\n",
            "training epoch: [159 ] loss: 1.090 correct: 18103.000, total: 30000.000, accuracy: 0.603\n",
            "training epoch: [160 ] loss: 1.148 correct: 18106.000, total: 30000.000, accuracy: 0.604\n",
            "training epoch: [161 ] loss: 1.001 correct: 18446.000, total: 30000.000, accuracy: 0.615\n",
            "training epoch: [162 ] loss: 1.087 correct: 18183.000, total: 30000.000, accuracy: 0.606\n",
            "training epoch: [163 ] loss: 1.222 correct: 17852.000, total: 30000.000, accuracy: 0.595\n",
            "training epoch: [164 ] loss: 1.182 correct: 17900.000, total: 30000.000, accuracy: 0.597\n",
            "training epoch: [165 ] loss: 1.042 correct: 18336.000, total: 30000.000, accuracy: 0.611\n",
            "training epoch: [166 ] loss: 1.066 correct: 18349.000, total: 30000.000, accuracy: 0.612\n",
            "training epoch: [167 ] loss: 1.241 correct: 17852.000, total: 30000.000, accuracy: 0.595\n",
            "training epoch: [168 ] loss: 1.126 correct: 18100.000, total: 30000.000, accuracy: 0.603\n",
            "training epoch: [169 ] loss: 1.074 correct: 18304.000, total: 30000.000, accuracy: 0.610\n",
            "training epoch: [170 ] loss: 1.225 correct: 17943.000, total: 30000.000, accuracy: 0.598\n",
            "training epoch: [171 ] loss: 1.183 correct: 17940.000, total: 30000.000, accuracy: 0.598\n",
            "training epoch: [172 ] loss: 1.133 correct: 18139.000, total: 30000.000, accuracy: 0.605\n",
            "training epoch: [173 ] loss: 1.347 correct: 17540.000, total: 30000.000, accuracy: 0.585\n",
            "training epoch: [174 ] loss: 1.185 correct: 17953.000, total: 30000.000, accuracy: 0.598\n",
            "training epoch: [175 ] loss: 1.298 correct: 17580.000, total: 30000.000, accuracy: 0.586\n",
            "training epoch: [176 ] loss: 1.591 correct: 17036.000, total: 30000.000, accuracy: 0.568\n",
            "training epoch: [177 ] loss: 1.061 correct: 18355.000, total: 30000.000, accuracy: 0.612\n",
            "training epoch: [178 ] loss: 1.168 correct: 17962.000, total: 30000.000, accuracy: 0.599\n",
            "training epoch: [179 ] loss: 1.153 correct: 18038.000, total: 30000.000, accuracy: 0.601\n",
            "training epoch: [180 ] loss: 1.253 correct: 17686.000, total: 30000.000, accuracy: 0.590\n",
            "training epoch: [181 ] loss: 1.194 correct: 17778.000, total: 30000.000, accuracy: 0.593\n",
            "training epoch: [182 ] loss: 1.019 correct: 18309.000, total: 30000.000, accuracy: 0.610\n",
            "training epoch: [183 ] loss: 1.215 correct: 17901.000, total: 30000.000, accuracy: 0.597\n",
            "training epoch: [184 ] loss: 1.072 correct: 18210.000, total: 30000.000, accuracy: 0.607\n",
            "training epoch: [185 ] loss: 1.112 correct: 18025.000, total: 30000.000, accuracy: 0.601\n",
            "training epoch: [186 ] loss: 1.136 correct: 18086.000, total: 30000.000, accuracy: 0.603\n",
            "training epoch: [187 ] loss: 1.114 correct: 18204.000, total: 30000.000, accuracy: 0.607\n",
            "training epoch: [188 ] loss: 1.240 correct: 17802.000, total: 30000.000, accuracy: 0.593\n",
            "training epoch: [189 ] loss: 1.232 correct: 17899.000, total: 30000.000, accuracy: 0.597\n",
            "training epoch: [190 ] loss: 1.118 correct: 18218.000, total: 30000.000, accuracy: 0.607\n",
            "training epoch: [191 ] loss: 1.186 correct: 17963.000, total: 30000.000, accuracy: 0.599\n",
            "training epoch: [192 ] loss: 1.428 correct: 17431.000, total: 30000.000, accuracy: 0.581\n",
            "training epoch: [193 ] loss: 1.028 correct: 18445.000, total: 30000.000, accuracy: 0.615\n",
            "training epoch: [194 ] loss: 1.198 correct: 17769.000, total: 30000.000, accuracy: 0.592\n",
            "training epoch: [195 ] loss: 1.346 correct: 17619.000, total: 30000.000, accuracy: 0.587\n",
            "training epoch: [196 ] loss: 1.123 correct: 18016.000, total: 30000.000, accuracy: 0.601\n",
            "training epoch: [197 ] loss: 1.102 correct: 18216.000, total: 30000.000, accuracy: 0.607\n",
            "training epoch: [198 ] loss: 1.058 correct: 18292.000, total: 30000.000, accuracy: 0.610\n",
            "training epoch: [199 ] loss: 1.168 correct: 17987.000, total: 30000.000, accuracy: 0.600\n",
            "training epoch: [200 ] loss: 1.117 correct: 18118.000, total: 30000.000, accuracy: 0.604\n",
            "Finished Training run \n"
          ],
          "name": "stdout"
        }
      ]
    },
    {
      "cell_type": "code",
      "metadata": {
        "id": "AciJnAh5nfug"
      },
      "source": [
        "columns = [\"epochs\", \"argmax > 0.5\" ,\"argmax < 0.5\", \"focus_true_pred_true\", \"focus_false_pred_true\", \"focus_true_pred_false\", \"focus_false_pred_false\" ]\n",
        "df_train = pd.DataFrame()\n",
        "df_test = pd.DataFrame()\n",
        "df_train[columns[0]] = np.arange(0,epoch+2)\n",
        "df_train[columns[1]] = analysis_data_tr[:,-2]\n",
        "df_train[columns[2]] = analysis_data_tr[:,-1]\n",
        "df_train[columns[3]] = analysis_data_tr[:,0]\n",
        "df_train[columns[4]] = analysis_data_tr[:,1]\n",
        "df_train[columns[5]] = analysis_data_tr[:,2]\n",
        "df_train[columns[6]] = analysis_data_tr[:,3]"
      ],
      "execution_count": 17,
      "outputs": []
    },
    {
      "cell_type": "code",
      "metadata": {
        "colab": {
          "base_uri": "https://localhost:8080/",
          "height": 419
        },
        "id": "NoQpS_6scRsC",
        "outputId": "ebe65493-5745-462e-86d4-db1fa2b8ce27"
      },
      "source": [
        "df_train"
      ],
      "execution_count": 18,
      "outputs": [
        {
          "output_type": "execute_result",
          "data": {
            "text/html": [
              "<div>\n",
              "<style scoped>\n",
              "    .dataframe tbody tr th:only-of-type {\n",
              "        vertical-align: middle;\n",
              "    }\n",
              "\n",
              "    .dataframe tbody tr th {\n",
              "        vertical-align: top;\n",
              "    }\n",
              "\n",
              "    .dataframe thead th {\n",
              "        text-align: right;\n",
              "    }\n",
              "</style>\n",
              "<table border=\"1\" class=\"dataframe\">\n",
              "  <thead>\n",
              "    <tr style=\"text-align: right;\">\n",
              "      <th></th>\n",
              "      <th>epochs</th>\n",
              "      <th>argmax &gt; 0.5</th>\n",
              "      <th>argmax &lt; 0.5</th>\n",
              "      <th>focus_true_pred_true</th>\n",
              "      <th>focus_false_pred_true</th>\n",
              "      <th>focus_true_pred_false</th>\n",
              "      <th>focus_false_pred_false</th>\n",
              "    </tr>\n",
              "  </thead>\n",
              "  <tbody>\n",
              "    <tr>\n",
              "      <th>0</th>\n",
              "      <td>0</td>\n",
              "      <td>0</td>\n",
              "      <td>30000</td>\n",
              "      <td>1144</td>\n",
              "      <td>8952</td>\n",
              "      <td>2240</td>\n",
              "      <td>17664</td>\n",
              "    </tr>\n",
              "    <tr>\n",
              "      <th>1</th>\n",
              "      <td>1</td>\n",
              "      <td>13187</td>\n",
              "      <td>16813</td>\n",
              "      <td>1902</td>\n",
              "      <td>12667</td>\n",
              "      <td>1663</td>\n",
              "      <td>13768</td>\n",
              "    </tr>\n",
              "    <tr>\n",
              "      <th>2</th>\n",
              "      <td>2</td>\n",
              "      <td>13191</td>\n",
              "      <td>16809</td>\n",
              "      <td>1931</td>\n",
              "      <td>12256</td>\n",
              "      <td>1635</td>\n",
              "      <td>14178</td>\n",
              "    </tr>\n",
              "    <tr>\n",
              "      <th>3</th>\n",
              "      <td>3</td>\n",
              "      <td>13191</td>\n",
              "      <td>16809</td>\n",
              "      <td>1703</td>\n",
              "      <td>10623</td>\n",
              "      <td>1863</td>\n",
              "      <td>15811</td>\n",
              "    </tr>\n",
              "    <tr>\n",
              "      <th>4</th>\n",
              "      <td>4</td>\n",
              "      <td>13191</td>\n",
              "      <td>16809</td>\n",
              "      <td>2099</td>\n",
              "      <td>14065</td>\n",
              "      <td>1467</td>\n",
              "      <td>12369</td>\n",
              "    </tr>\n",
              "    <tr>\n",
              "      <th>...</th>\n",
              "      <td>...</td>\n",
              "      <td>...</td>\n",
              "      <td>...</td>\n",
              "      <td>...</td>\n",
              "      <td>...</td>\n",
              "      <td>...</td>\n",
              "      <td>...</td>\n",
              "    </tr>\n",
              "    <tr>\n",
              "      <th>196</th>\n",
              "      <td>196</td>\n",
              "      <td>13191</td>\n",
              "      <td>16809</td>\n",
              "      <td>2293</td>\n",
              "      <td>15723</td>\n",
              "      <td>1273</td>\n",
              "      <td>10711</td>\n",
              "    </tr>\n",
              "    <tr>\n",
              "      <th>197</th>\n",
              "      <td>197</td>\n",
              "      <td>13191</td>\n",
              "      <td>16809</td>\n",
              "      <td>2323</td>\n",
              "      <td>15893</td>\n",
              "      <td>1243</td>\n",
              "      <td>10541</td>\n",
              "    </tr>\n",
              "    <tr>\n",
              "      <th>198</th>\n",
              "      <td>198</td>\n",
              "      <td>13191</td>\n",
              "      <td>16809</td>\n",
              "      <td>2329</td>\n",
              "      <td>15963</td>\n",
              "      <td>1237</td>\n",
              "      <td>10471</td>\n",
              "    </tr>\n",
              "    <tr>\n",
              "      <th>199</th>\n",
              "      <td>199</td>\n",
              "      <td>13191</td>\n",
              "      <td>16809</td>\n",
              "      <td>2285</td>\n",
              "      <td>15702</td>\n",
              "      <td>1281</td>\n",
              "      <td>10732</td>\n",
              "    </tr>\n",
              "    <tr>\n",
              "      <th>200</th>\n",
              "      <td>200</td>\n",
              "      <td>13191</td>\n",
              "      <td>16809</td>\n",
              "      <td>2311</td>\n",
              "      <td>15807</td>\n",
              "      <td>1255</td>\n",
              "      <td>10627</td>\n",
              "    </tr>\n",
              "  </tbody>\n",
              "</table>\n",
              "<p>201 rows × 7 columns</p>\n",
              "</div>"
            ],
            "text/plain": [
              "     epochs  argmax > 0.5  ...  focus_true_pred_false  focus_false_pred_false\n",
              "0         0             0  ...                   2240                   17664\n",
              "1         1         13187  ...                   1663                   13768\n",
              "2         2         13191  ...                   1635                   14178\n",
              "3         3         13191  ...                   1863                   15811\n",
              "4         4         13191  ...                   1467                   12369\n",
              "..      ...           ...  ...                    ...                     ...\n",
              "196     196         13191  ...                   1273                   10711\n",
              "197     197         13191  ...                   1243                   10541\n",
              "198     198         13191  ...                   1237                   10471\n",
              "199     199         13191  ...                   1281                   10732\n",
              "200     200         13191  ...                   1255                   10627\n",
              "\n",
              "[201 rows x 7 columns]"
            ]
          },
          "metadata": {
            "tags": []
          },
          "execution_count": 18
        }
      ]
    },
    {
      "cell_type": "code",
      "metadata": {
        "colab": {
          "base_uri": "https://localhost:8080/",
          "height": 730
        },
        "id": "IMAhRdxOcVf6",
        "outputId": "8a0ab8fa-7775-458e-97d2-07ee243d2ac6"
      },
      "source": [
        "fig= plt.figure(figsize=(12,12))\n",
        "plt.plot(df_train[columns[0]],df_train[columns[3]]/300, label =\"focus_true_pred_true \")\n",
        "plt.plot(df_train[columns[0]],df_train[columns[4]]/300, label =\"focus_false_pred_true \")\n",
        "plt.plot(df_train[columns[0]],df_train[columns[5]]/300, label =\"focus_true_pred_false \")\n",
        "plt.plot(df_train[columns[0]],df_train[columns[6]]/300, label =\"focus_false_pred_false \")\n",
        "plt.title(\"On Train set\")\n",
        "plt.legend(loc='center left', bbox_to_anchor=(1, 0.5))\n",
        "plt.xlabel(\"epochs\")\n",
        "plt.ylabel(\"percentage of data\")\n",
        "#plt.vlines(vline_list,min(min(df_train[columns[3]]/300),min(df_train[columns[4]]/300),min(df_train[columns[5]]/300),min(df_train[columns[6]]/300)), max(max(df_train[columns[3]]/300),max(df_train[columns[4]]/300),max(df_train[columns[5]]/300),max(df_train[columns[6]]/300)),linestyles='dotted')\n",
        "plt.show()\n",
        "fig.savefig(\"train_analysis_every_20.pdf\")\n",
        "fig.savefig(\"train_analysis_every_20.png\")"
      ],
      "execution_count": 19,
      "outputs": [
        {
          "output_type": "display_data",
          "data": {
            "image/png": "[encoded data removed]",
            "text/plain": [
              "<Figure size 864x864 with 1 Axes>"
            ]
          },
          "metadata": {
            "tags": [],
            "needs_background": "light"
          }
        }
      ]
    },
    {
      "cell_type": "code",
      "metadata": {
        "id": "VCnS6r2_3WdU"
      },
      "source": [
        "aph = []\n",
        "for i in ag:\n",
        "  aph.append(F.softmax(i,dim=1).detach().numpy())\n",
        "  \n",
        "aph = np.concatenate(aph,axis=0)\n",
        "torch.save({\n",
        "            'epoch': 500,\n",
        "            'model_state_dict': what_net.state_dict(),\n",
        "            'optimizer_state_dict': optimizer_what.state_dict(),\n",
        "            \"optimizer_alpha\":optim1,\n",
        "            \"FTPT_analysis\":analysis_data_tr,\n",
        "            \"alpha\":aph\n",
        "\n",
        "            }, \"cifar_what_net_500.pt\")"
      ],
      "execution_count": 20,
      "outputs": []
    },
    {
      "cell_type": "code",
      "metadata": {
        "colab": {
          "base_uri": "https://localhost:8080/"
        },
        "id": "KVzrDOGS4UxU",
        "outputId": "a9958fdc-3052-4fdd-f7aa-0053a9d7434b"
      },
      "source": [
        "aph"
      ],
      "execution_count": 21,
      "outputs": [
        {
          "output_type": "execute_result",
          "data": {
            "text/plain": [
              "array([[1.   , 0.   , 0.   , ..., 0.   , 0.   , 0.   ],\n",
              "       [1.   , 0.   , 0.   , ..., 0.   , 0.   , 0.   ],\n",
              "       [1.   , 0.   , 0.   , ..., 0.   , 0.   , 0.   ],\n",
              "       ...,\n",
              "       [1.   , 0.   , 0.   , ..., 0.   , 0.   , 0.   ],\n",
              "       [1.   , 0.   , 0.   , ..., 0.   , 0.   , 0.   ],\n",
              "       [0.   , 0.125, 0.125, ..., 0.125, 0.125, 0.125]], dtype=float32)"
            ]
          },
          "metadata": {
            "tags": []
          },
          "execution_count": 21
        }
      ]
    },
    {
      "cell_type": "code",
      "metadata": {
        "id": "Z6heHND15EMz"
      },
      "source": [
        "running_loss_tr,anls_data,correct,total,accuracy = calculate_attn_loss(train_loader,what_net,criterion)"
      ],
      "execution_count": 22,
      "outputs": []
    },
    {
      "cell_type": "code",
      "metadata": {
        "colab": {
          "base_uri": "https://localhost:8080/"
        },
        "id": "zeKhsdpYWQvB",
        "outputId": "578852e9-b6bf-4423-9801-c4af6d42074a"
      },
      "source": [
        "print(\"argmax>0.5\",anls_data[-2])"
      ],
      "execution_count": 25,
      "outputs": [
        {
          "output_type": "stream",
          "text": [
            "argmax>0.5 13191\n"
          ],
          "name": "stdout"
        }
      ]
    },
    {
      "cell_type": "code",
      "metadata": {
        "id": "yF2bvWdIWUTa"
      },
      "source": [
        ""
      ],
      "execution_count": 23,
      "outputs": []
    }
  ]
}