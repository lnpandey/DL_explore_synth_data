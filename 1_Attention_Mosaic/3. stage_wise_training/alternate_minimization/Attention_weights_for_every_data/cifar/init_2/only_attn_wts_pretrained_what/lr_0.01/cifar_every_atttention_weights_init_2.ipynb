{
  "nbformat": 4,
  "nbformat_minor": 0,
  "metadata": {
    "accelerator": "GPU",
    "colab": {
      "name": "cifar_every_atttention_weights_init_2.ipynb",
      "provenance": [],
      "collapsed_sections": []
    },
    "kernelspec": {
      "display_name": "Python 3",
      "name": "python3"
    },
    "language_info": {
      "name": "python"
    }
  },
  "cells": [
    {
      "cell_type": "code",
      "metadata": {
        "id": "BWIyC9Ip_bcq"
      },
      "source": [
        "import numpy as np\n",
        "import pandas as pd\n",
        "\n",
        "import torch\n",
        "import torchvision\n",
        "from torch.utils.data import Dataset, DataLoader\n",
        "from torchvision import transforms, utils\n",
        "import torch.nn as nn\n",
        "import torch.nn.functional as F\n",
        "import torch.optim as optim\n",
        "\n",
        "from matplotlib import pyplot as plt\n",
        "%matplotlib inline\n",
        "torch.backends.cudnn.deterministic = True\n",
        "torch.backends.cudnn.benchmark = False"
      ],
      "execution_count": 1,
      "outputs": []
    },
    {
      "cell_type": "code",
      "metadata": {
        "colab": {
          "base_uri": "https://localhost:8080/"
        },
        "id": "cgw1f4rVkGr9",
        "outputId": "d9c1542e-1472-4d5d-d43a-aa916c8ea880"
      },
      "source": [
        "transform = transforms.Compose(\n",
        "    [transforms.ToTensor(),\n",
        "     transforms.Normalize((0.5, 0.5, 0.5), (0.5, 0.5, 0.5))])\n",
        "\n",
        "trainset = torchvision.datasets.CIFAR10(root='./data', train=True, download=True, transform=transform)"
      ],
      "execution_count": 2,
      "outputs": [
        {
          "output_type": "stream",
          "text": [
            "Files already downloaded and verified\n"
          ],
          "name": "stdout"
        }
      ]
    },
    {
      "cell_type": "code",
      "metadata": {
        "id": "D-xlWYTKkQEn"
      },
      "source": [
        "trainloader = torch.utils.data.DataLoader(trainset, batch_size=10, shuffle=False)\n",
        "\n",
        "\n",
        "classes = ('plane', 'car', 'bird', 'cat', 'deer', 'dog', 'frog', 'horse', 'ship', 'truck')\n",
        "\n",
        "foreground_classes = {'plane', 'car', 'bird'}\n",
        "#foreground_classes = {'bird', 'cat', 'deer'}\n",
        "background_classes = {'cat', 'deer', 'dog', 'frog', 'horse', 'ship', 'truck'}\n",
        "#background_classes = {'plane', 'car', 'dog', 'frog', 'horse','ship', 'truck'}\n",
        "\n",
        "fg1,fg2,fg3 = 0,1,2"
      ],
      "execution_count": 3,
      "outputs": []
    },
    {
      "cell_type": "code",
      "metadata": {
        "id": "zrX68qhikUbz"
      },
      "source": [
        "dataiter = iter(trainloader)\n",
        "background_data=[]\n",
        "background_label=[]\n",
        "foreground_data=[]\n",
        "foreground_label=[]\n",
        "batch_size=10\n",
        "\n",
        "for i in range(5000):\n",
        "  images, labels = dataiter.next()\n",
        "  for j in range(batch_size):\n",
        "    if(classes[labels[j]] in background_classes):\n",
        "      img = images[j].tolist()\n",
        "      background_data.append(img)\n",
        "      background_label.append(labels[j])\n",
        "    else:\n",
        "      img = images[j].tolist()\n",
        "      foreground_data.append(img)\n",
        "      foreground_label.append(labels[j])\n",
        "            \n",
        "foreground_data = torch.tensor(foreground_data)\n",
        "foreground_label = torch.tensor(foreground_label)\n",
        "background_data = torch.tensor(background_data)\n",
        "background_label = torch.tensor(background_label)"
      ],
      "execution_count": 4,
      "outputs": []
    },
    {
      "cell_type": "code",
      "metadata": {
        "id": "eD-QJkvnkgyk"
      },
      "source": [
        "def create_mosaic_img(bg_idx,fg_idx,fg): \n",
        "  \"\"\"\n",
        "  bg_idx : list of indexes of background_data[] to be used as background images in mosaic\n",
        "  fg_idx : index of image to be used as foreground image from foreground data\n",
        "  fg : at what position/index foreground image has to be stored out of 0-8\n",
        "  \"\"\"\n",
        "  image_list=[]\n",
        "  j=0\n",
        "  for i in range(9):\n",
        "    if i != fg:\n",
        "      image_list.append(background_data[bg_idx[j]])#.type(\"torch.DoubleTensor\"))\n",
        "      j+=1\n",
        "    else: \n",
        "      image_list.append(foreground_data[fg_idx])#.type(\"torch.DoubleTensor\"))\n",
        "      label = foreground_label[fg_idx]-fg1  # minus 7 because our fore ground classes are 7,8,9 but we have to store it as 0,1,2\n",
        "  #image_list = np.concatenate(image_list ,axis=0)\n",
        "  image_list = torch.stack(image_list) \n",
        "  return image_list,label"
      ],
      "execution_count": 5,
      "outputs": []
    },
    {
      "cell_type": "code",
      "metadata": {
        "id": "Zs10rfXHkli2"
      },
      "source": [
        "desired_num = 30000\n",
        "mosaic_list_of_images =[]      # list of mosaic images, each mosaic image is saved as list of 9 images\n",
        "fore_idx =[]                   # list of indexes at which foreground image is present in a mosaic image i.e from 0 to 9               \n",
        "mosaic_label=[]                # label of mosaic image = foreground class present in that mosaic\n",
        "for i in range(desired_num):\n",
        "  np.random.seed(i)\n",
        "  bg_idx = np.random.randint(0,35000,8)\n",
        "  fg_idx = np.random.randint(0,15000)\n",
        "  fg = np.random.randint(0,9)\n",
        "  fore_idx.append(fg)\n",
        "  image_list,label = create_mosaic_img(bg_idx,fg_idx,fg)\n",
        "  mosaic_list_of_images.append(image_list)\n",
        "  mosaic_label.append(label)"
      ],
      "execution_count": 6,
      "outputs": []
    },
    {
      "cell_type": "code",
      "metadata": {
        "id": "7km9Swb1kq4O"
      },
      "source": [
        "class MosaicDataset(Dataset):\n",
        "  \"\"\"MosaicDataset dataset.\"\"\"\n",
        "\n",
        "  def __init__(self, mosaic_list_of_images, mosaic_label, fore_idx):\n",
        "    \"\"\"\n",
        "      Args:\n",
        "        csv_file (string): Path to the csv file with annotations.\n",
        "        root_dir (string): Directory with all the images.\n",
        "        transform (callable, optional): Optional transform to be applied\n",
        "            on a sample.\n",
        "    \"\"\"\n",
        "    self.mosaic = mosaic_list_of_images\n",
        "    self.label = mosaic_label\n",
        "    self.fore_idx = fore_idx\n",
        "\n",
        "  def __len__(self):\n",
        "    return len(self.label)\n",
        "\n",
        "  def __getitem__(self, idx):\n",
        "    return self.mosaic[idx] , self.label[idx], self.fore_idx[idx]\n",
        "batch = 250\n",
        "msd = MosaicDataset(mosaic_list_of_images, mosaic_label , fore_idx)\n",
        "train_loader = DataLoader( msd,batch_size= batch ,shuffle=False,num_workers=0,)"
      ],
      "execution_count": 7,
      "outputs": []
    },
    {
      "cell_type": "code",
      "metadata": {
        "id": "lGVy-1EllAc_"
      },
      "source": [
        "data,labels,fg_index = iter(train_loader).next()"
      ],
      "execution_count": 8,
      "outputs": []
    },
    {
      "cell_type": "code",
      "metadata": {
        "id": "DOpZfj1bq7wN"
      },
      "source": [
        "bg = []\n",
        "for i in range(120):\n",
        "  torch.manual_seed(i)\n",
        "  betag = torch.ones((250,9))/9  #torch.randn(250,9)\n",
        "  a=bg.append( betag.requires_grad_() )"
      ],
      "execution_count": 9,
      "outputs": []
    },
    {
      "cell_type": "code",
      "metadata": {
        "id": "HbrMidFCla6h"
      },
      "source": [
        "class Module2(nn.Module):\n",
        "  def __init__(self):\n",
        "    super(Module2, self).__init__()\n",
        "    \n",
        "    self.conv1 = nn.Conv2d(3, 6, 5)\n",
        "    self.pool = nn.MaxPool2d(2, 2)\n",
        "    self.conv2 = nn.Conv2d(6, 16, 5)\n",
        "    self.fc1 = nn.Linear(16 * 5 * 5, 120)\n",
        "    self.fc2 = nn.Linear(120, 84)\n",
        "    self.fc3 = nn.Linear(84, 10)\n",
        "    self.fc4 = nn.Linear(10,3)\n",
        "\n",
        "  def forward(self,y):  #z batch of list of 9 images\n",
        "    y1 = self.pool(F.relu(self.conv1(y)))\n",
        "    y1 = self.pool(F.relu(self.conv2(y1)))\n",
        "    y1 = y1.view(-1, 16 * 5 * 5)\n",
        "\n",
        "    y1 = F.relu(self.fc1(y1))\n",
        "    y1 = F.relu(self.fc2(y1))\n",
        "    y1 = F.relu(self.fc3(y1))\n",
        "    y1 = self.fc4(y1)\n",
        "    return y1"
      ],
      "execution_count": 10,
      "outputs": []
    },
    {
      "cell_type": "code",
      "metadata": {
        "id": "rRqj2VELllkX"
      },
      "source": [
        "torch.manual_seed(1234)\n",
        "what_net = Module2().double()\n",
        "\n",
        "what_net.load_state_dict(torch.load(\"simultaneous_what.pt\"))\n",
        "what_net = what_net.to(\"cuda\")"
      ],
      "execution_count": 11,
      "outputs": []
    },
    {
      "cell_type": "code",
      "metadata": {
        "id": "6d8Wch99l4yB"
      },
      "source": [
        "def attn_avg(x,beta):\n",
        "  y = torch.zeros([batch,3, 32,32], dtype=torch.float64)\n",
        "  y = y.to(\"cuda\")\n",
        "  alpha = F.softmax(beta,dim=1)   # alphas\n",
        "  for i in range(9):            \n",
        "    alpha1 = alpha[:,i]          \n",
        "    y = y + torch.mul(alpha1[:,None,None,None],x[:,i])\n",
        "  return y,alpha"
      ],
      "execution_count": 12,
      "outputs": []
    },
    {
      "cell_type": "code",
      "metadata": {
        "id": "Rz1Kpw12loV6"
      },
      "source": [
        "def calculate_attn_loss(dataloader,what,criter):\n",
        "  what.eval()\n",
        "  r_loss = 0\n",
        "  alphas = []\n",
        "  lbls = []\n",
        "  pred = []\n",
        "  fidices = []\n",
        "  correct = 0\n",
        "  tot = 0\n",
        "  with torch.no_grad():\n",
        "    for i, data in enumerate(dataloader, 0):\n",
        "      inputs, labels,fidx= data\n",
        "      lbls.append(labels)\n",
        "      fidices.append(fidx)\n",
        "      inputs = inputs.double()\n",
        "      beta = bg[i]  # alpha for ith batch\n",
        "      inputs, labels,beta = inputs.to(\"cuda\"),labels.to(\"cuda\"),beta.to(\"cuda\")\n",
        "      avg,alpha = attn_avg(inputs,beta)\n",
        "      alpha = alpha.to(\"cuda\")\n",
        "      outputs = what(avg)\n",
        "      _, predicted = torch.max(outputs.data, 1)\n",
        "      correct += sum(predicted == labels)\n",
        "      tot += len(predicted)\n",
        "      pred.append(predicted.cpu().numpy())\n",
        "      alphas.append(alpha.cpu().numpy())\n",
        "      loss = criter(outputs, labels)\n",
        "      r_loss += loss.item()\n",
        "  alphas = np.concatenate(alphas,axis=0)\n",
        "  pred = np.concatenate(pred,axis=0)\n",
        "  lbls = np.concatenate(lbls,axis=0)\n",
        "  fidices = np.concatenate(fidices,axis=0)\n",
        "  #print(alphas.shape,pred.shape,lbls.shape,fidices.shape) \n",
        "  analysis = analyse_data(alphas,lbls,pred,fidices)\n",
        "  return r_loss/(i+1),analysis,correct.item(),tot,correct.item()/tot"
      ],
      "execution_count": 13,
      "outputs": []
    },
    {
      "cell_type": "code",
      "metadata": {
        "id": "sAY-x6UAwrwE"
      },
      "source": [
        "for param in what_net.parameters():\n",
        "    param.requires_grad = False"
      ],
      "execution_count": 14,
      "outputs": []
    },
    {
      "cell_type": "code",
      "metadata": {
        "id": "_toCktPanH0S"
      },
      "source": [
        "def analyse_data(alphas,lbls,predicted,f_idx):\n",
        "    '''\n",
        "       analysis data is created here\n",
        "    '''\n",
        "    batch = len(predicted)\n",
        "    amth,alth,ftpt,ffpt,ftpf,ffpf = 0,0,0,0,0,0\n",
        "    for j in range (batch):\n",
        "      focus = np.argmax(alphas[j])\n",
        "      if(alphas[j][focus] >= 0.5):\n",
        "        amth +=1\n",
        "      else:\n",
        "        alth +=1\n",
        "      if(focus == f_idx[j] and predicted[j] == lbls[j]):\n",
        "        ftpt += 1\n",
        "      elif(focus != f_idx[j] and predicted[j] == lbls[j]):\n",
        "        ffpt +=1\n",
        "      elif(focus == f_idx[j] and predicted[j] != lbls[j]):\n",
        "        ftpf +=1\n",
        "      elif(focus != f_idx[j] and predicted[j] != lbls[j]):\n",
        "        ffpf +=1\n",
        "    #print(sum(predicted==lbls),ftpt+ffpt\n",
        "    return [ftpt,ffpt,ftpf,ffpf,amth,alth]"
      ],
      "execution_count": 15,
      "outputs": []
    },
    {
      "cell_type": "code",
      "metadata": {
        "id": "S633XgMToeN3"
      },
      "source": [
        "optim1 = []\n",
        "for i in range(120):\n",
        "  optim1.append(optim.RMSprop([bg[i]], lr=0.01))"
      ],
      "execution_count": 16,
      "outputs": []
    },
    {
      "cell_type": "code",
      "metadata": {
        "colab": {
          "base_uri": "https://localhost:8080/"
        },
        "id": "qPaYaojinMTA",
        "outputId": "7cfa5caf-8969-44a7-f079-e036a6f9ee41"
      },
      "source": [
        "# instantiate optimizer\n",
        "#optimizer_what = optim.RMSprop(what_net.parameters(), lr=0.001)#, momentum=0.9)#,nesterov=True)\n",
        "\n",
        "\n",
        " \n",
        "\n",
        "\n",
        "criterion = nn.CrossEntropyLoss()\n",
        "acti = []\n",
        "analysis_data_tr = []\n",
        "analysis_data_tst = []\n",
        "loss_curi_tr = []\n",
        "loss_curi_tst = []\n",
        "epochs = 100\n",
        "\n",
        "\n",
        "# calculate zeroth epoch loss and FTPT values\n",
        "running_loss,anlys_data,correct,total,accuracy = calculate_attn_loss(train_loader,what_net,criterion)\n",
        "print('training epoch: [%d ] loss: %.3f correct: %.3f, total: %.3f, accuracy: %.3f' %(0,running_loss,correct,total,accuracy)) \n",
        "loss_curi_tr.append(running_loss)\n",
        "analysis_data_tr.append(anlys_data)\n",
        "\n",
        "\n",
        "\n",
        "\n",
        "# training starts \n",
        "for epoch in range(epochs): # loop over the dataset multiple times\n",
        "  ep_lossi = []\n",
        "  running_loss = 0.0\n",
        "  #what_net.train()\n",
        "  for i, data in enumerate(train_loader, 0):\n",
        "    # get the inputs\n",
        "    inputs, labels,_  = data\n",
        "    inputs = inputs.double()\n",
        "    beta = bg[i] # alpha for ith batch\n",
        "    inputs, labels,beta = inputs.to(\"cuda\"),labels.to(\"cuda\"),beta.to(\"cuda\")\n",
        "        \n",
        "    # zero the parameter gradients\n",
        "    #optimizer_what.zero_grad()\n",
        "    optim1[i].zero_grad()\n",
        "      \n",
        "    # forward + backward + optimize\n",
        "    avg,alpha = attn_avg(inputs,beta)\n",
        "    outputs = what_net(avg)     \n",
        "    loss = criterion(outputs, labels)\n",
        "\n",
        "    # print statistics\n",
        "    running_loss += loss.item()\n",
        "    #alpha.retain_grad()\n",
        "    loss.backward(retain_graph=False)\n",
        "    #optimizer_what.step()\n",
        "    optim1[i].step()\n",
        "\n",
        "\n",
        "  running_loss_tr,anls_data,correct,total,accuracy = calculate_attn_loss(train_loader,what_net,criterion)\n",
        "  analysis_data_tr.append(anls_data)\n",
        "  loss_curi_tr.append(running_loss_tr)   #loss per epoch\n",
        "  print('training epoch: [%d ] loss: %.3f correct: %.3f, total: %.3f, accuracy: %.3f' %(epoch+1,running_loss_tr,correct,total,accuracy)) \n",
        "\n",
        "\n",
        "  \n",
        "  if running_loss_tr<=0.08:\n",
        "    break\n",
        "print('Finished Training run ')\n",
        "analysis_data_tr = np.array(analysis_data_tr)\n",
        "\n"
      ],
      "execution_count": 17,
      "outputs": [
        {
          "output_type": "stream",
          "text": [
            "/usr/local/lib/python3.7/dist-packages/torch/nn/functional.py:718: UserWarning: Named tensors and all their associated APIs are an experimental feature and subject to change. Please do not use them for anything important until they are released as stable. (Triggered internally at  /pytorch/c10/core/TensorImpl.h:1156.)\n",
            "  return torch.max_pool2d(input, kernel_size, stride, padding, dilation, ceil_mode)\n"
          ],
          "name": "stderr"
        },
        {
          "output_type": "stream",
          "text": [
            "training epoch: [0 ] loss: 3.207 correct: 11145.000, total: 30000.000, accuracy: 0.371\n",
            "training epoch: [1 ] loss: 2.430 correct: 13437.000, total: 30000.000, accuracy: 0.448\n",
            "training epoch: [2 ] loss: 1.952 correct: 15242.000, total: 30000.000, accuracy: 0.508\n",
            "training epoch: [3 ] loss: 1.625 correct: 16741.000, total: 30000.000, accuracy: 0.558\n",
            "training epoch: [4 ] loss: 1.387 correct: 18018.000, total: 30000.000, accuracy: 0.601\n",
            "training epoch: [5 ] loss: 1.206 correct: 19184.000, total: 30000.000, accuracy: 0.639\n",
            "training epoch: [6 ] loss: 1.064 correct: 20125.000, total: 30000.000, accuracy: 0.671\n",
            "training epoch: [7 ] loss: 0.951 correct: 20947.000, total: 30000.000, accuracy: 0.698\n",
            "training epoch: [8 ] loss: 0.858 correct: 21670.000, total: 30000.000, accuracy: 0.722\n",
            "training epoch: [9 ] loss: 0.781 correct: 22295.000, total: 30000.000, accuracy: 0.743\n",
            "training epoch: [10 ] loss: 0.717 correct: 22848.000, total: 30000.000, accuracy: 0.762\n",
            "training epoch: [11 ] loss: 0.662 correct: 23321.000, total: 30000.000, accuracy: 0.777\n",
            "training epoch: [12 ] loss: 0.615 correct: 23733.000, total: 30000.000, accuracy: 0.791\n",
            "training epoch: [13 ] loss: 0.574 correct: 24122.000, total: 30000.000, accuracy: 0.804\n",
            "training epoch: [14 ] loss: 0.539 correct: 24477.000, total: 30000.000, accuracy: 0.816\n",
            "training epoch: [15 ] loss: 0.508 correct: 24812.000, total: 30000.000, accuracy: 0.827\n",
            "training epoch: [16 ] loss: 0.481 correct: 25057.000, total: 30000.000, accuracy: 0.835\n",
            "training epoch: [17 ] loss: 0.457 correct: 25306.000, total: 30000.000, accuracy: 0.844\n",
            "training epoch: [18 ] loss: 0.435 correct: 25551.000, total: 30000.000, accuracy: 0.852\n",
            "training epoch: [19 ] loss: 0.416 correct: 25781.000, total: 30000.000, accuracy: 0.859\n",
            "training epoch: [20 ] loss: 0.399 correct: 25968.000, total: 30000.000, accuracy: 0.866\n",
            "training epoch: [21 ] loss: 0.383 correct: 26129.000, total: 30000.000, accuracy: 0.871\n",
            "training epoch: [22 ] loss: 0.369 correct: 26267.000, total: 30000.000, accuracy: 0.876\n",
            "training epoch: [23 ] loss: 0.356 correct: 26404.000, total: 30000.000, accuracy: 0.880\n",
            "training epoch: [24 ] loss: 0.344 correct: 26534.000, total: 30000.000, accuracy: 0.884\n",
            "training epoch: [25 ] loss: 0.333 correct: 26652.000, total: 30000.000, accuracy: 0.888\n",
            "training epoch: [26 ] loss: 0.323 correct: 26764.000, total: 30000.000, accuracy: 0.892\n",
            "training epoch: [27 ] loss: 0.314 correct: 26875.000, total: 30000.000, accuracy: 0.896\n",
            "training epoch: [28 ] loss: 0.305 correct: 26976.000, total: 30000.000, accuracy: 0.899\n",
            "training epoch: [29 ] loss: 0.297 correct: 27058.000, total: 30000.000, accuracy: 0.902\n",
            "training epoch: [30 ] loss: 0.289 correct: 27138.000, total: 30000.000, accuracy: 0.905\n",
            "training epoch: [31 ] loss: 0.282 correct: 27235.000, total: 30000.000, accuracy: 0.908\n",
            "training epoch: [32 ] loss: 0.275 correct: 27314.000, total: 30000.000, accuracy: 0.910\n",
            "training epoch: [33 ] loss: 0.269 correct: 27380.000, total: 30000.000, accuracy: 0.913\n",
            "training epoch: [34 ] loss: 0.262 correct: 27445.000, total: 30000.000, accuracy: 0.915\n",
            "training epoch: [35 ] loss: 0.257 correct: 27507.000, total: 30000.000, accuracy: 0.917\n",
            "training epoch: [36 ] loss: 0.251 correct: 27565.000, total: 30000.000, accuracy: 0.919\n",
            "training epoch: [37 ] loss: 0.246 correct: 27622.000, total: 30000.000, accuracy: 0.921\n",
            "training epoch: [38 ] loss: 0.241 correct: 27684.000, total: 30000.000, accuracy: 0.923\n",
            "training epoch: [39 ] loss: 0.236 correct: 27735.000, total: 30000.000, accuracy: 0.924\n",
            "training epoch: [40 ] loss: 0.232 correct: 27785.000, total: 30000.000, accuracy: 0.926\n",
            "training epoch: [41 ] loss: 0.228 correct: 27822.000, total: 30000.000, accuracy: 0.927\n",
            "training epoch: [42 ] loss: 0.224 correct: 27863.000, total: 30000.000, accuracy: 0.929\n",
            "training epoch: [43 ] loss: 0.220 correct: 27912.000, total: 30000.000, accuracy: 0.930\n",
            "training epoch: [44 ] loss: 0.216 correct: 27954.000, total: 30000.000, accuracy: 0.932\n",
            "training epoch: [45 ] loss: 0.213 correct: 27991.000, total: 30000.000, accuracy: 0.933\n",
            "training epoch: [46 ] loss: 0.210 correct: 28015.000, total: 30000.000, accuracy: 0.934\n",
            "training epoch: [47 ] loss: 0.206 correct: 28055.000, total: 30000.000, accuracy: 0.935\n",
            "training epoch: [48 ] loss: 0.203 correct: 28079.000, total: 30000.000, accuracy: 0.936\n",
            "training epoch: [49 ] loss: 0.200 correct: 28102.000, total: 30000.000, accuracy: 0.937\n",
            "training epoch: [50 ] loss: 0.198 correct: 28147.000, total: 30000.000, accuracy: 0.938\n",
            "training epoch: [51 ] loss: 0.195 correct: 28183.000, total: 30000.000, accuracy: 0.939\n",
            "training epoch: [52 ] loss: 0.192 correct: 28201.000, total: 30000.000, accuracy: 0.940\n",
            "training epoch: [53 ] loss: 0.190 correct: 28223.000, total: 30000.000, accuracy: 0.941\n",
            "training epoch: [54 ] loss: 0.188 correct: 28255.000, total: 30000.000, accuracy: 0.942\n",
            "training epoch: [55 ] loss: 0.185 correct: 28281.000, total: 30000.000, accuracy: 0.943\n",
            "training epoch: [56 ] loss: 0.183 correct: 28305.000, total: 30000.000, accuracy: 0.944\n",
            "training epoch: [57 ] loss: 0.181 correct: 28327.000, total: 30000.000, accuracy: 0.944\n",
            "training epoch: [58 ] loss: 0.179 correct: 28358.000, total: 30000.000, accuracy: 0.945\n",
            "training epoch: [59 ] loss: 0.177 correct: 28369.000, total: 30000.000, accuracy: 0.946\n",
            "training epoch: [60 ] loss: 0.175 correct: 28395.000, total: 30000.000, accuracy: 0.947\n",
            "training epoch: [61 ] loss: 0.173 correct: 28416.000, total: 30000.000, accuracy: 0.947\n",
            "training epoch: [62 ] loss: 0.171 correct: 28440.000, total: 30000.000, accuracy: 0.948\n",
            "training epoch: [63 ] loss: 0.169 correct: 28454.000, total: 30000.000, accuracy: 0.948\n",
            "training epoch: [64 ] loss: 0.168 correct: 28472.000, total: 30000.000, accuracy: 0.949\n",
            "training epoch: [65 ] loss: 0.166 correct: 28483.000, total: 30000.000, accuracy: 0.949\n",
            "training epoch: [66 ] loss: 0.164 correct: 28498.000, total: 30000.000, accuracy: 0.950\n",
            "training epoch: [67 ] loss: 0.163 correct: 28516.000, total: 30000.000, accuracy: 0.951\n",
            "training epoch: [68 ] loss: 0.161 correct: 28535.000, total: 30000.000, accuracy: 0.951\n",
            "training epoch: [69 ] loss: 0.160 correct: 28552.000, total: 30000.000, accuracy: 0.952\n",
            "training epoch: [70 ] loss: 0.158 correct: 28568.000, total: 30000.000, accuracy: 0.952\n",
            "training epoch: [71 ] loss: 0.157 correct: 28585.000, total: 30000.000, accuracy: 0.953\n",
            "training epoch: [72 ] loss: 0.155 correct: 28582.000, total: 30000.000, accuracy: 0.953\n",
            "training epoch: [73 ] loss: 0.154 correct: 28602.000, total: 30000.000, accuracy: 0.953\n",
            "training epoch: [74 ] loss: 0.153 correct: 28618.000, total: 30000.000, accuracy: 0.954\n",
            "training epoch: [75 ] loss: 0.151 correct: 28637.000, total: 30000.000, accuracy: 0.955\n",
            "training epoch: [76 ] loss: 0.150 correct: 28651.000, total: 30000.000, accuracy: 0.955\n",
            "training epoch: [77 ] loss: 0.148 correct: 28671.000, total: 30000.000, accuracy: 0.956\n",
            "training epoch: [78 ] loss: 0.147 correct: 28691.000, total: 30000.000, accuracy: 0.956\n",
            "training epoch: [79 ] loss: 0.146 correct: 28696.000, total: 30000.000, accuracy: 0.957\n",
            "training epoch: [80 ] loss: 0.145 correct: 28707.000, total: 30000.000, accuracy: 0.957\n",
            "training epoch: [81 ] loss: 0.144 correct: 28718.000, total: 30000.000, accuracy: 0.957\n",
            "training epoch: [82 ] loss: 0.142 correct: 28732.000, total: 30000.000, accuracy: 0.958\n",
            "training epoch: [83 ] loss: 0.141 correct: 28750.000, total: 30000.000, accuracy: 0.958\n",
            "training epoch: [84 ] loss: 0.140 correct: 28753.000, total: 30000.000, accuracy: 0.958\n",
            "training epoch: [85 ] loss: 0.139 correct: 28764.000, total: 30000.000, accuracy: 0.959\n",
            "training epoch: [86 ] loss: 0.138 correct: 28768.000, total: 30000.000, accuracy: 0.959\n",
            "training epoch: [87 ] loss: 0.137 correct: 28776.000, total: 30000.000, accuracy: 0.959\n",
            "training epoch: [88 ] loss: 0.136 correct: 28792.000, total: 30000.000, accuracy: 0.960\n",
            "training epoch: [89 ] loss: 0.135 correct: 28796.000, total: 30000.000, accuracy: 0.960\n",
            "training epoch: [90 ] loss: 0.135 correct: 28807.000, total: 30000.000, accuracy: 0.960\n",
            "training epoch: [91 ] loss: 0.134 correct: 28816.000, total: 30000.000, accuracy: 0.961\n",
            "training epoch: [92 ] loss: 0.133 correct: 28825.000, total: 30000.000, accuracy: 0.961\n",
            "training epoch: [93 ] loss: 0.132 correct: 28832.000, total: 30000.000, accuracy: 0.961\n",
            "training epoch: [94 ] loss: 0.131 correct: 28841.000, total: 30000.000, accuracy: 0.961\n",
            "training epoch: [95 ] loss: 0.130 correct: 28846.000, total: 30000.000, accuracy: 0.962\n",
            "training epoch: [96 ] loss: 0.130 correct: 28853.000, total: 30000.000, accuracy: 0.962\n",
            "training epoch: [97 ] loss: 0.129 correct: 28859.000, total: 30000.000, accuracy: 0.962\n",
            "training epoch: [98 ] loss: 0.128 correct: 28871.000, total: 30000.000, accuracy: 0.962\n",
            "training epoch: [99 ] loss: 0.127 correct: 28881.000, total: 30000.000, accuracy: 0.963\n",
            "training epoch: [100 ] loss: 0.126 correct: 28892.000, total: 30000.000, accuracy: 0.963\n",
            "Finished Training run \n"
          ],
          "name": "stdout"
        }
      ]
    },
    {
      "cell_type": "code",
      "metadata": {
        "id": "AciJnAh5nfug"
      },
      "source": [
        "columns = [\"epochs\", \"argmax > 0.5\" ,\"argmax < 0.5\", \"focus_true_pred_true\", \"focus_false_pred_true\", \"focus_true_pred_false\", \"focus_false_pred_false\" ]\n",
        "df_train = pd.DataFrame()\n",
        "df_test = pd.DataFrame()\n",
        "df_train[columns[0]] = np.arange(0,epoch+2)\n",
        "df_train[columns[1]] = analysis_data_tr[:,-2]/300\n",
        "df_train[columns[2]] = analysis_data_tr[:,-1]/300\n",
        "df_train[columns[3]] = analysis_data_tr[:,0]/300\n",
        "df_train[columns[4]] = analysis_data_tr[:,1]/300\n",
        "df_train[columns[5]] = analysis_data_tr[:,2]/300\n",
        "df_train[columns[6]] = analysis_data_tr[:,3]/300"
      ],
      "execution_count": 18,
      "outputs": []
    },
    {
      "cell_type": "code",
      "metadata": {
        "id": "NoQpS_6scRsC",
        "colab": {
          "base_uri": "https://localhost:8080/",
          "height": 456
        },
        "outputId": "0ea2ba60-98c7-4274-dfd2-4c5d1ae222a4"
      },
      "source": [
        "df_train"
      ],
      "execution_count": 19,
      "outputs": [
        {
          "output_type": "execute_result",
          "data": {
            "text/html": [
              "<div>\n",
              "<style scoped>\n",
              "    .dataframe tbody tr th:only-of-type {\n",
              "        vertical-align: middle;\n",
              "    }\n",
              "\n",
              "    .dataframe tbody tr th {\n",
              "        vertical-align: top;\n",
              "    }\n",
              "\n",
              "    .dataframe thead th {\n",
              "        text-align: right;\n",
              "    }\n",
              "</style>\n",
              "<table border=\"1\" class=\"dataframe\">\n",
              "  <thead>\n",
              "    <tr style=\"text-align: right;\">\n",
              "      <th></th>\n",
              "      <th>epochs</th>\n",
              "      <th>argmax &gt; 0.5</th>\n",
              "      <th>argmax &lt; 0.5</th>\n",
              "      <th>focus_true_pred_true</th>\n",
              "      <th>focus_false_pred_true</th>\n",
              "      <th>focus_true_pred_false</th>\n",
              "      <th>focus_false_pred_false</th>\n",
              "    </tr>\n",
              "  </thead>\n",
              "  <tbody>\n",
              "    <tr>\n",
              "      <th>0</th>\n",
              "      <td>0</td>\n",
              "      <td>0.000000</td>\n",
              "      <td>100.000000</td>\n",
              "      <td>4.103333</td>\n",
              "      <td>33.046667</td>\n",
              "      <td>7.176667</td>\n",
              "      <td>55.673333</td>\n",
              "    </tr>\n",
              "    <tr>\n",
              "      <th>1</th>\n",
              "      <td>1</td>\n",
              "      <td>0.000000</td>\n",
              "      <td>100.000000</td>\n",
              "      <td>8.203333</td>\n",
              "      <td>36.586667</td>\n",
              "      <td>11.900000</td>\n",
              "      <td>43.310000</td>\n",
              "    </tr>\n",
              "    <tr>\n",
              "      <th>2</th>\n",
              "      <td>2</td>\n",
              "      <td>0.000000</td>\n",
              "      <td>100.000000</td>\n",
              "      <td>8.373333</td>\n",
              "      <td>42.433333</td>\n",
              "      <td>8.023333</td>\n",
              "      <td>41.170000</td>\n",
              "    </tr>\n",
              "    <tr>\n",
              "      <th>3</th>\n",
              "      <td>3</td>\n",
              "      <td>0.000000</td>\n",
              "      <td>100.000000</td>\n",
              "      <td>9.790000</td>\n",
              "      <td>46.013333</td>\n",
              "      <td>7.606667</td>\n",
              "      <td>36.590000</td>\n",
              "    </tr>\n",
              "    <tr>\n",
              "      <th>4</th>\n",
              "      <td>4</td>\n",
              "      <td>0.000000</td>\n",
              "      <td>100.000000</td>\n",
              "      <td>10.723333</td>\n",
              "      <td>49.336667</td>\n",
              "      <td>7.056667</td>\n",
              "      <td>32.883333</td>\n",
              "    </tr>\n",
              "    <tr>\n",
              "      <th>...</th>\n",
              "      <td>...</td>\n",
              "      <td>...</td>\n",
              "      <td>...</td>\n",
              "      <td>...</td>\n",
              "      <td>...</td>\n",
              "      <td>...</td>\n",
              "      <td>...</td>\n",
              "    </tr>\n",
              "    <tr>\n",
              "      <th>96</th>\n",
              "      <td>96</td>\n",
              "      <td>0.003333</td>\n",
              "      <td>99.996667</td>\n",
              "      <td>19.920000</td>\n",
              "      <td>76.256667</td>\n",
              "      <td>0.393333</td>\n",
              "      <td>3.430000</td>\n",
              "    </tr>\n",
              "    <tr>\n",
              "      <th>97</th>\n",
              "      <td>97</td>\n",
              "      <td>0.006667</td>\n",
              "      <td>99.993333</td>\n",
              "      <td>19.880000</td>\n",
              "      <td>76.316667</td>\n",
              "      <td>0.416667</td>\n",
              "      <td>3.386667</td>\n",
              "    </tr>\n",
              "    <tr>\n",
              "      <th>98</th>\n",
              "      <td>98</td>\n",
              "      <td>0.006667</td>\n",
              "      <td>99.993333</td>\n",
              "      <td>19.950000</td>\n",
              "      <td>76.286667</td>\n",
              "      <td>0.376667</td>\n",
              "      <td>3.386667</td>\n",
              "    </tr>\n",
              "    <tr>\n",
              "      <th>99</th>\n",
              "      <td>99</td>\n",
              "      <td>0.010000</td>\n",
              "      <td>99.990000</td>\n",
              "      <td>19.943333</td>\n",
              "      <td>76.326667</td>\n",
              "      <td>0.383333</td>\n",
              "      <td>3.346667</td>\n",
              "    </tr>\n",
              "    <tr>\n",
              "      <th>100</th>\n",
              "      <td>100</td>\n",
              "      <td>0.010000</td>\n",
              "      <td>99.990000</td>\n",
              "      <td>19.970000</td>\n",
              "      <td>76.336667</td>\n",
              "      <td>0.376667</td>\n",
              "      <td>3.316667</td>\n",
              "    </tr>\n",
              "  </tbody>\n",
              "</table>\n",
              "<p>101 rows × 7 columns</p>\n",
              "</div>"
            ],
            "text/plain": [
              "     epochs  argmax > 0.5  ...  focus_true_pred_false  focus_false_pred_false\n",
              "0         0      0.000000  ...               7.176667               55.673333\n",
              "1         1      0.000000  ...              11.900000               43.310000\n",
              "2         2      0.000000  ...               8.023333               41.170000\n",
              "3         3      0.000000  ...               7.606667               36.590000\n",
              "4         4      0.000000  ...               7.056667               32.883333\n",
              "..      ...           ...  ...                    ...                     ...\n",
              "96       96      0.003333  ...               0.393333                3.430000\n",
              "97       97      0.006667  ...               0.416667                3.386667\n",
              "98       98      0.006667  ...               0.376667                3.386667\n",
              "99       99      0.010000  ...               0.383333                3.346667\n",
              "100     100      0.010000  ...               0.376667                3.316667\n",
              "\n",
              "[101 rows x 7 columns]"
            ]
          },
          "metadata": {
            "tags": []
          },
          "execution_count": 19
        }
      ]
    },
    {
      "cell_type": "code",
      "metadata": {
        "id": "IMAhRdxOcVf6",
        "colab": {
          "base_uri": "https://localhost:8080/",
          "height": 404
        },
        "outputId": "61b71e5f-8af7-4833-a75f-e8119f5189b8"
      },
      "source": [
        "fig= plt.figure(figsize=(6,6))\n",
        "plt.plot(df_train[columns[0]],df_train[columns[3]], label =\"focus_true_pred_true \")\n",
        "plt.plot(df_train[columns[0]],df_train[columns[4]], label =\"focus_false_pred_true \")\n",
        "plt.plot(df_train[columns[0]],df_train[columns[5]], label =\"focus_true_pred_false \")\n",
        "plt.plot(df_train[columns[0]],df_train[columns[6]], label =\"focus_false_pred_false \")\n",
        "plt.title(\"On Train set\")\n",
        "plt.legend(loc='center left', bbox_to_anchor=(1, 0.5))\n",
        "plt.xticks([0,25,50,100])\n",
        "plt.xlabel(\"epochs\")\n",
        "plt.ylabel(\"percentage of data\")\n",
        "#plt.vlines(vline_list,min(min(df_train[columns[3]]/300),min(df_train[columns[4]]/300),min(df_train[columns[5]]/300),min(df_train[columns[6]]/300)), max(max(df_train[columns[3]]/300),max(df_train[columns[4]]/300),max(df_train[columns[5]]/300),max(df_train[columns[6]]/300)),linestyles='dotted')\n",
        "plt.show()\n",
        "fig.savefig(\"train_analysis.pdf\")\n",
        "fig.savefig(\"train_analysis.png\")"
      ],
      "execution_count": 25,
      "outputs": [
        {
          "output_type": "display_data",
          "data": {
            "image/png": "[encoded data removed]",
            "text/plain": [
              "<Figure size 432x432 with 1 Axes>"
            ]
          },
          "metadata": {
            "tags": [],
            "needs_background": "light"
          }
        }
      ]
    },
    {
      "cell_type": "code",
      "metadata": {
        "id": "VCnS6r2_3WdU"
      },
      "source": [
        "aph = []\n",
        "for i in bg:\n",
        "  aph.append(F.softmax(i,dim=1).detach().numpy())\n",
        "  \n",
        "aph = np.concatenate(aph,axis=0)\n",
        "torch.save({\n",
        "            'epoch': 500,\n",
        "            'model_state_dict': what_net.state_dict(),\n",
        "            #'optimizer_state_dict': optimizer_what.state_dict(),\n",
        "            \"optimizer_alpha\":optim1,\n",
        "            \"FTPT_analysis\":analysis_data_tr,\n",
        "            \"alpha\":aph\n",
        "\n",
        "            }, \"cifar_what_net_500.pt\")"
      ],
      "execution_count": 21,
      "outputs": []
    },
    {
      "cell_type": "code",
      "metadata": {
        "id": "KVzrDOGS4UxU",
        "colab": {
          "base_uri": "https://localhost:8080/"
        },
        "outputId": "a782d9ff-4b61-4a3a-c7ed-f3a881f1a12f"
      },
      "source": [
        "aph"
      ],
      "execution_count": 22,
      "outputs": [
        {
          "output_type": "execute_result",
          "data": {
            "text/plain": [
              "array([[0.15346731, 0.18201193, 0.07245376, ..., 0.07877577, 0.07996684,\n",
              "        0.07612976],\n",
              "       [0.10675518, 0.07231899, 0.0881323 , ..., 0.10216273, 0.17695816,\n",
              "        0.08433937],\n",
              "       [0.08572353, 0.08343383, 0.07705218, ..., 0.11857476, 0.12230337,\n",
              "        0.13052763],\n",
              "       ...,\n",
              "       [0.12866487, 0.0743399 , 0.10170432, ..., 0.09667385, 0.19977024,\n",
              "        0.17811526],\n",
              "       [0.09702841, 0.24271138, 0.06989148, ..., 0.10588839, 0.08960784,\n",
              "        0.10467913],\n",
              "       [0.12066608, 0.06472957, 0.17154364, ..., 0.08933715, 0.15767242,\n",
              "        0.06058151]], dtype=float32)"
            ]
          },
          "metadata": {
            "tags": []
          },
          "execution_count": 22
        }
      ]
    },
    {
      "cell_type": "code",
      "metadata": {
        "id": "Z6heHND15EMz"
      },
      "source": [
        "running_loss_tr,anls_data,correct,total,accuracy = calculate_attn_loss(train_loader,what_net,criterion)"
      ],
      "execution_count": 23,
      "outputs": []
    },
    {
      "cell_type": "code",
      "metadata": {
        "id": "zeKhsdpYWQvB",
        "colab": {
          "base_uri": "https://localhost:8080/"
        },
        "outputId": "1f05552b-b007-4b92-ae86-7a676d1f106a"
      },
      "source": [
        "print(\"argmax>0.5\",anls_data[-2])"
      ],
      "execution_count": 24,
      "outputs": [
        {
          "output_type": "stream",
          "text": [
            "argmax>0.5 3\n"
          ],
          "name": "stdout"
        }
      ]
    },
    {
      "cell_type": "code",
      "metadata": {
        "id": "yF2bvWdIWUTa"
      },
      "source": [
        ""
      ],
      "execution_count": 24,
      "outputs": []
    }
  ]
}