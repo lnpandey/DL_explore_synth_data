{
  "nbformat": 4,
  "nbformat_minor": 0,
  "metadata": {
    "accelerator": "GPU",
    "colab": {
      "name": "cifar_every_atttention_weights_init_2.ipynb",
      "provenance": [],
      "collapsed_sections": []
    },
    "kernelspec": {
      "display_name": "Python 3",
      "name": "python3"
    },
    "language_info": {
      "name": "python"
    },
    "widgets": {
      "application/vnd.jupyter.widget-state+json": {
        "0e6bfc21dcb847c5996695b5cffb1026": {
          "model_module": "@jupyter-widgets/controls",
          "model_name": "HBoxModel",
          "state": {
            "_view_name": "HBoxView",
            "_dom_classes": [],
            "_model_name": "HBoxModel",
            "_view_module": "@jupyter-widgets/controls",
            "_model_module_version": "1.5.0",
            "_view_count": null,
            "_view_module_version": "1.5.0",
            "box_style": "",
            "layout": "IPY_MODEL_4169dfbd82c6449ca94a32a2b4193281",
            "_model_module": "@jupyter-widgets/controls",
            "children": [
              "IPY_MODEL_50eadab6bfc44bf28fc374eb91a72bca",
              "IPY_MODEL_028d44fc75e040f6a116623923c0445f"
            ]
          }
        },
        "4169dfbd82c6449ca94a32a2b4193281": {
          "model_module": "@jupyter-widgets/base",
          "model_name": "LayoutModel",
          "state": {
            "_view_name": "LayoutView",
            "grid_template_rows": null,
            "right": null,
            "justify_content": null,
            "_view_module": "@jupyter-widgets/base",
            "overflow": null,
            "_model_module_version": "1.2.0",
            "_view_count": null,
            "flex_flow": null,
            "width": null,
            "min_width": null,
            "border": null,
            "align_items": null,
            "bottom": null,
            "_model_module": "@jupyter-widgets/base",
            "top": null,
            "grid_column": null,
            "overflow_y": null,
            "overflow_x": null,
            "grid_auto_flow": null,
            "grid_area": null,
            "grid_template_columns": null,
            "flex": null,
            "_model_name": "LayoutModel",
            "justify_items": null,
            "grid_row": null,
            "max_height": null,
            "align_content": null,
            "visibility": null,
            "align_self": null,
            "height": null,
            "min_height": null,
            "padding": null,
            "grid_auto_rows": null,
            "grid_gap": null,
            "max_width": null,
            "order": null,
            "_view_module_version": "1.2.0",
            "grid_template_areas": null,
            "object_position": null,
            "object_fit": null,
            "grid_auto_columns": null,
            "margin": null,
            "display": null,
            "left": null
          }
        },
        "50eadab6bfc44bf28fc374eb91a72bca": {
          "model_module": "@jupyter-widgets/controls",
          "model_name": "FloatProgressModel",
          "state": {
            "_view_name": "ProgressView",
            "style": "IPY_MODEL_c0d054f17ca7427e8d9263358828d27e",
            "_dom_classes": [],
            "description": "",
            "_model_name": "FloatProgressModel",
            "bar_style": "success",
            "max": 170498071,
            "_view_module": "@jupyter-widgets/controls",
            "_model_module_version": "1.5.0",
            "value": 170498071,
            "_view_count": null,
            "_view_module_version": "1.5.0",
            "orientation": "horizontal",
            "min": 0,
            "description_tooltip": null,
            "_model_module": "@jupyter-widgets/controls",
            "layout": "IPY_MODEL_7f49981168c444db85e3402ddcc556b9"
          }
        },
        "028d44fc75e040f6a116623923c0445f": {
          "model_module": "@jupyter-widgets/controls",
          "model_name": "HTMLModel",
          "state": {
            "_view_name": "HTMLView",
            "style": "IPY_MODEL_f3fb70c66fe147e399b3e33a564c5bc6",
            "_dom_classes": [],
            "description": "",
            "_model_name": "HTMLModel",
            "placeholder": "​",
            "_view_module": "@jupyter-widgets/controls",
            "_model_module_version": "1.5.0",
            "value": " 170499072/? [00:06&lt;00:00, 26213581.80it/s]",
            "_view_count": null,
            "_view_module_version": "1.5.0",
            "description_tooltip": null,
            "_model_module": "@jupyter-widgets/controls",
            "layout": "IPY_MODEL_32811f82f4ba4d3aaa75ae8f19e743b7"
          }
        },
        "c0d054f17ca7427e8d9263358828d27e": {
          "model_module": "@jupyter-widgets/controls",
          "model_name": "ProgressStyleModel",
          "state": {
            "_view_name": "StyleView",
            "_model_name": "ProgressStyleModel",
            "description_width": "initial",
            "_view_module": "@jupyter-widgets/base",
            "_model_module_version": "1.5.0",
            "_view_count": null,
            "_view_module_version": "1.2.0",
            "bar_color": null,
            "_model_module": "@jupyter-widgets/controls"
          }
        },
        "7f49981168c444db85e3402ddcc556b9": {
          "model_module": "@jupyter-widgets/base",
          "model_name": "LayoutModel",
          "state": {
            "_view_name": "LayoutView",
            "grid_template_rows": null,
            "right": null,
            "justify_content": null,
            "_view_module": "@jupyter-widgets/base",
            "overflow": null,
            "_model_module_version": "1.2.0",
            "_view_count": null,
            "flex_flow": null,
            "width": null,
            "min_width": null,
            "border": null,
            "align_items": null,
            "bottom": null,
            "_model_module": "@jupyter-widgets/base",
            "top": null,
            "grid_column": null,
            "overflow_y": null,
            "overflow_x": null,
            "grid_auto_flow": null,
            "grid_area": null,
            "grid_template_columns": null,
            "flex": null,
            "_model_name": "LayoutModel",
            "justify_items": null,
            "grid_row": null,
            "max_height": null,
            "align_content": null,
            "visibility": null,
            "align_self": null,
            "height": null,
            "min_height": null,
            "padding": null,
            "grid_auto_rows": null,
            "grid_gap": null,
            "max_width": null,
            "order": null,
            "_view_module_version": "1.2.0",
            "grid_template_areas": null,
            "object_position": null,
            "object_fit": null,
            "grid_auto_columns": null,
            "margin": null,
            "display": null,
            "left": null
          }
        },
        "f3fb70c66fe147e399b3e33a564c5bc6": {
          "model_module": "@jupyter-widgets/controls",
          "model_name": "DescriptionStyleModel",
          "state": {
            "_view_name": "StyleView",
            "_model_name": "DescriptionStyleModel",
            "description_width": "",
            "_view_module": "@jupyter-widgets/base",
            "_model_module_version": "1.5.0",
            "_view_count": null,
            "_view_module_version": "1.2.0",
            "_model_module": "@jupyter-widgets/controls"
          }
        },
        "32811f82f4ba4d3aaa75ae8f19e743b7": {
          "model_module": "@jupyter-widgets/base",
          "model_name": "LayoutModel",
          "state": {
            "_view_name": "LayoutView",
            "grid_template_rows": null,
            "right": null,
            "justify_content": null,
            "_view_module": "@jupyter-widgets/base",
            "overflow": null,
            "_model_module_version": "1.2.0",
            "_view_count": null,
            "flex_flow": null,
            "width": null,
            "min_width": null,
            "border": null,
            "align_items": null,
            "bottom": null,
            "_model_module": "@jupyter-widgets/base",
            "top": null,
            "grid_column": null,
            "overflow_y": null,
            "overflow_x": null,
            "grid_auto_flow": null,
            "grid_area": null,
            "grid_template_columns": null,
            "flex": null,
            "_model_name": "LayoutModel",
            "justify_items": null,
            "grid_row": null,
            "max_height": null,
            "align_content": null,
            "visibility": null,
            "align_self": null,
            "height": null,
            "min_height": null,
            "padding": null,
            "grid_auto_rows": null,
            "grid_gap": null,
            "max_width": null,
            "order": null,
            "_view_module_version": "1.2.0",
            "grid_template_areas": null,
            "object_position": null,
            "object_fit": null,
            "grid_auto_columns": null,
            "margin": null,
            "display": null,
            "left": null
          }
        }
      }
    }
  },
  "cells": [
    {
      "cell_type": "code",
      "metadata": {
        "id": "BWIyC9Ip_bcq"
      },
      "source": [
        "import numpy as np\n",
        "import pandas as pd\n",
        "\n",
        "import torch\n",
        "import torchvision\n",
        "from torch.utils.data import Dataset, DataLoader\n",
        "from torchvision import transforms, utils\n",
        "import torch.nn as nn\n",
        "import torch.nn.functional as F\n",
        "import torch.optim as optim\n",
        "\n",
        "from matplotlib import pyplot as plt\n",
        "%matplotlib inline\n",
        "torch.backends.cudnn.deterministic = True\n",
        "torch.backends.cudnn.benchmark = False"
      ],
      "execution_count": 1,
      "outputs": []
    },
    {
      "cell_type": "code",
      "metadata": {
        "colab": {
          "base_uri": "https://localhost:8080/",
          "height": 100,
          "referenced_widgets": [
            "0e6bfc21dcb847c5996695b5cffb1026",
            "4169dfbd82c6449ca94a32a2b4193281",
            "50eadab6bfc44bf28fc374eb91a72bca",
            "028d44fc75e040f6a116623923c0445f",
            "c0d054f17ca7427e8d9263358828d27e",
            "7f49981168c444db85e3402ddcc556b9",
            "f3fb70c66fe147e399b3e33a564c5bc6",
            "32811f82f4ba4d3aaa75ae8f19e743b7"
          ]
        },
        "id": "cgw1f4rVkGr9",
        "outputId": "36b9a50d-e4bf-4880-ed57-d8756337a41d"
      },
      "source": [
        "transform = transforms.Compose(\n",
        "    [transforms.ToTensor(),\n",
        "     transforms.Normalize((0.5, 0.5, 0.5), (0.5, 0.5, 0.5))])\n",
        "\n",
        "trainset = torchvision.datasets.CIFAR10(root='./data', train=True, download=True, transform=transform)"
      ],
      "execution_count": 2,
      "outputs": [
        {
          "output_type": "stream",
          "text": [
            "Downloading https://www.cs.toronto.edu/~kriz/cifar-10-python.tar.gz to ./data/cifar-10-python.tar.gz\n"
          ],
          "name": "stdout"
        },
        {
          "output_type": "display_data",
          "data": {
            "application/vnd.jupyter.widget-view+json": {
              "model_id": "0e6bfc21dcb847c5996695b5cffb1026",
              "version_minor": 0,
              "version_major": 2
            },
            "text/plain": [
              "HBox(children=(FloatProgress(value=0.0, max=170498071.0), HTML(value='')))"
            ]
          },
          "metadata": {
            "tags": []
          }
        },
        {
          "output_type": "stream",
          "text": [
            "\n",
            "Extracting ./data/cifar-10-python.tar.gz to ./data\n"
          ],
          "name": "stdout"
        }
      ]
    },
    {
      "cell_type": "code",
      "metadata": {
        "id": "D-xlWYTKkQEn"
      },
      "source": [
        "trainloader = torch.utils.data.DataLoader(trainset, batch_size=10, shuffle=False)\n",
        "\n",
        "\n",
        "classes = ('plane', 'car', 'bird', 'cat', 'deer', 'dog', 'frog', 'horse', 'ship', 'truck')\n",
        "\n",
        "foreground_classes = {'plane', 'car', 'bird'}\n",
        "#foreground_classes = {'bird', 'cat', 'deer'}\n",
        "background_classes = {'cat', 'deer', 'dog', 'frog', 'horse', 'ship', 'truck'}\n",
        "#background_classes = {'plane', 'car', 'dog', 'frog', 'horse','ship', 'truck'}\n",
        "\n",
        "fg1,fg2,fg3 = 0,1,2"
      ],
      "execution_count": 3,
      "outputs": []
    },
    {
      "cell_type": "code",
      "metadata": {
        "id": "zrX68qhikUbz"
      },
      "source": [
        "dataiter = iter(trainloader)\n",
        "background_data=[]\n",
        "background_label=[]\n",
        "foreground_data=[]\n",
        "foreground_label=[]\n",
        "batch_size=10\n",
        "\n",
        "for i in range(5000):\n",
        "  images, labels = dataiter.next()\n",
        "  for j in range(batch_size):\n",
        "    if(classes[labels[j]] in background_classes):\n",
        "      img = images[j].tolist()\n",
        "      background_data.append(img)\n",
        "      background_label.append(labels[j])\n",
        "    else:\n",
        "      img = images[j].tolist()\n",
        "      foreground_data.append(img)\n",
        "      foreground_label.append(labels[j])\n",
        "            \n",
        "foreground_data = torch.tensor(foreground_data)\n",
        "foreground_label = torch.tensor(foreground_label)\n",
        "background_data = torch.tensor(background_data)\n",
        "background_label = torch.tensor(background_label)"
      ],
      "execution_count": 4,
      "outputs": []
    },
    {
      "cell_type": "code",
      "metadata": {
        "id": "eD-QJkvnkgyk"
      },
      "source": [
        "def create_mosaic_img(bg_idx,fg_idx,fg): \n",
        "  \"\"\"\n",
        "  bg_idx : list of indexes of background_data[] to be used as background images in mosaic\n",
        "  fg_idx : index of image to be used as foreground image from foreground data\n",
        "  fg : at what position/index foreground image has to be stored out of 0-8\n",
        "  \"\"\"\n",
        "  image_list=[]\n",
        "  j=0\n",
        "  for i in range(9):\n",
        "    if i != fg:\n",
        "      image_list.append(background_data[bg_idx[j]])#.type(\"torch.DoubleTensor\"))\n",
        "      j+=1\n",
        "    else: \n",
        "      image_list.append(foreground_data[fg_idx])#.type(\"torch.DoubleTensor\"))\n",
        "      label = foreground_label[fg_idx]-fg1  # minus 7 because our fore ground classes are 7,8,9 but we have to store it as 0,1,2\n",
        "  #image_list = np.concatenate(image_list ,axis=0)\n",
        "  image_list = torch.stack(image_list) \n",
        "  return image_list,label"
      ],
      "execution_count": 5,
      "outputs": []
    },
    {
      "cell_type": "code",
      "metadata": {
        "id": "Zs10rfXHkli2"
      },
      "source": [
        "desired_num = 30000\n",
        "mosaic_list_of_images =[]      # list of mosaic images, each mosaic image is saved as list of 9 images\n",
        "fore_idx =[]                   # list of indexes at which foreground image is present in a mosaic image i.e from 0 to 9               \n",
        "mosaic_label=[]                # label of mosaic image = foreground class present in that mosaic\n",
        "for i in range(desired_num):\n",
        "  np.random.seed(i)\n",
        "  bg_idx = np.random.randint(0,35000,8)\n",
        "  fg_idx = np.random.randint(0,15000)\n",
        "  fg = np.random.randint(0,9)\n",
        "  fore_idx.append(fg)\n",
        "  image_list,label = create_mosaic_img(bg_idx,fg_idx,fg)\n",
        "  mosaic_list_of_images.append(image_list)\n",
        "  mosaic_label.append(label)"
      ],
      "execution_count": 6,
      "outputs": []
    },
    {
      "cell_type": "code",
      "metadata": {
        "id": "7km9Swb1kq4O"
      },
      "source": [
        "class MosaicDataset(Dataset):\n",
        "  \"\"\"MosaicDataset dataset.\"\"\"\n",
        "\n",
        "  def __init__(self, mosaic_list_of_images, mosaic_label, fore_idx):\n",
        "    \"\"\"\n",
        "      Args:\n",
        "        csv_file (string): Path to the csv file with annotations.\n",
        "        root_dir (string): Directory with all the images.\n",
        "        transform (callable, optional): Optional transform to be applied\n",
        "            on a sample.\n",
        "    \"\"\"\n",
        "    self.mosaic = mosaic_list_of_images\n",
        "    self.label = mosaic_label\n",
        "    self.fore_idx = fore_idx\n",
        "\n",
        "  def __len__(self):\n",
        "    return len(self.label)\n",
        "\n",
        "  def __getitem__(self, idx):\n",
        "    return self.mosaic[idx] , self.label[idx], self.fore_idx[idx]\n",
        "batch = 250\n",
        "msd = MosaicDataset(mosaic_list_of_images, mosaic_label , fore_idx)\n",
        "train_loader = DataLoader( msd,batch_size= batch ,shuffle=False,num_workers=0,)"
      ],
      "execution_count": 7,
      "outputs": []
    },
    {
      "cell_type": "code",
      "metadata": {
        "id": "lGVy-1EllAc_"
      },
      "source": [
        "data,labels,fg_index = iter(train_loader).next()"
      ],
      "execution_count": 8,
      "outputs": []
    },
    {
      "cell_type": "code",
      "metadata": {
        "id": "DOpZfj1bq7wN"
      },
      "source": [
        "bg = []\n",
        "for i in range(120):\n",
        "  torch.manual_seed(i)\n",
        "  betag = torch.ones((250,9))/9  #torch.randn(250,9)\n",
        "  a=bg.append( betag.requires_grad_() )"
      ],
      "execution_count": 9,
      "outputs": []
    },
    {
      "cell_type": "code",
      "metadata": {
        "id": "HbrMidFCla6h"
      },
      "source": [
        "class Module2(nn.Module):\n",
        "  def __init__(self):\n",
        "    super(Module2, self).__init__()\n",
        "    \n",
        "    self.conv1 = nn.Conv2d(3, 6, 5)\n",
        "    self.pool = nn.MaxPool2d(2, 2)\n",
        "    self.conv2 = nn.Conv2d(6, 16, 5)\n",
        "    self.fc1 = nn.Linear(16 * 5 * 5, 120)\n",
        "    self.fc2 = nn.Linear(120, 84)\n",
        "    self.fc3 = nn.Linear(84, 10)\n",
        "    self.fc4 = nn.Linear(10,3)\n",
        "\n",
        "  def forward(self,y):  #z batch of list of 9 images\n",
        "    y1 = self.pool(F.relu(self.conv1(y)))\n",
        "    y1 = self.pool(F.relu(self.conv2(y1)))\n",
        "    y1 = y1.view(-1, 16 * 5 * 5)\n",
        "\n",
        "    y1 = F.relu(self.fc1(y1))\n",
        "    y1 = F.relu(self.fc2(y1))\n",
        "    y1 = F.relu(self.fc3(y1))\n",
        "    y1 = self.fc4(y1)\n",
        "    return y1"
      ],
      "execution_count": 10,
      "outputs": []
    },
    {
      "cell_type": "code",
      "metadata": {
        "id": "rRqj2VELllkX"
      },
      "source": [
        "torch.manual_seed(1234)\n",
        "what_net = Module2().double()\n",
        "\n",
        "what_net.load_state_dict(torch.load(\"simultaneous_what.pt\"))\n",
        "what_net = what_net.to(\"cuda\")"
      ],
      "execution_count": 11,
      "outputs": []
    },
    {
      "cell_type": "code",
      "metadata": {
        "id": "6d8Wch99l4yB"
      },
      "source": [
        "def attn_avg(x,beta):\n",
        "  y = torch.zeros([batch,3, 32,32], dtype=torch.float64)\n",
        "  y = y.to(\"cuda\")\n",
        "  alpha = F.softmax(beta,dim=1)   # alphas\n",
        "  for i in range(9):            \n",
        "    alpha1 = alpha[:,i]          \n",
        "    y = y + torch.mul(alpha1[:,None,None,None],x[:,i])\n",
        "  return y,alpha"
      ],
      "execution_count": 12,
      "outputs": []
    },
    {
      "cell_type": "code",
      "metadata": {
        "id": "Rz1Kpw12loV6"
      },
      "source": [
        "def calculate_attn_loss(dataloader,what,criter):\n",
        "  what.eval()\n",
        "  r_loss = 0\n",
        "  alphas = []\n",
        "  lbls = []\n",
        "  pred = []\n",
        "  fidices = []\n",
        "  correct = 0\n",
        "  tot = 0\n",
        "  with torch.no_grad():\n",
        "    for i, data in enumerate(dataloader, 0):\n",
        "      inputs, labels,fidx= data\n",
        "      lbls.append(labels)\n",
        "      fidices.append(fidx)\n",
        "      inputs = inputs.double()\n",
        "      beta = bg[i]  # alpha for ith batch\n",
        "      inputs, labels,beta = inputs.to(\"cuda\"),labels.to(\"cuda\"),beta.to(\"cuda\")\n",
        "      avg,alpha = attn_avg(inputs,beta)\n",
        "      alpha = alpha.to(\"cuda\")\n",
        "      outputs = what(avg)\n",
        "      _, predicted = torch.max(outputs.data, 1)\n",
        "      correct += sum(predicted == labels)\n",
        "      tot += len(predicted)\n",
        "      pred.append(predicted.cpu().numpy())\n",
        "      alphas.append(alpha.cpu().numpy())\n",
        "      loss = criter(outputs, labels)\n",
        "      r_loss += loss.item()\n",
        "  alphas = np.concatenate(alphas,axis=0)\n",
        "  pred = np.concatenate(pred,axis=0)\n",
        "  lbls = np.concatenate(lbls,axis=0)\n",
        "  fidices = np.concatenate(fidices,axis=0)\n",
        "  #print(alphas.shape,pred.shape,lbls.shape,fidices.shape) \n",
        "  analysis = analyse_data(alphas,lbls,pred,fidices)\n",
        "  return r_loss/(i+1),analysis,correct.item(),tot,correct.item()/tot"
      ],
      "execution_count": 13,
      "outputs": []
    },
    {
      "cell_type": "code",
      "metadata": {
        "id": "sAY-x6UAwrwE"
      },
      "source": [
        "for param in what_net.parameters():\n",
        "    param.requires_grad = False"
      ],
      "execution_count": 14,
      "outputs": []
    },
    {
      "cell_type": "code",
      "metadata": {
        "id": "_toCktPanH0S"
      },
      "source": [
        "def analyse_data(alphas,lbls,predicted,f_idx):\n",
        "    '''\n",
        "       analysis data is created here\n",
        "    '''\n",
        "    batch = len(predicted)\n",
        "    amth,alth,ftpt,ffpt,ftpf,ffpf = 0,0,0,0,0,0\n",
        "    for j in range (batch):\n",
        "      focus = np.argmax(alphas[j])\n",
        "      if(alphas[j][focus] >= 0.5):\n",
        "        amth +=1\n",
        "      else:\n",
        "        alth +=1\n",
        "      if(focus == f_idx[j] and predicted[j] == lbls[j]):\n",
        "        ftpt += 1\n",
        "      elif(focus != f_idx[j] and predicted[j] == lbls[j]):\n",
        "        ffpt +=1\n",
        "      elif(focus == f_idx[j] and predicted[j] != lbls[j]):\n",
        "        ftpf +=1\n",
        "      elif(focus != f_idx[j] and predicted[j] != lbls[j]):\n",
        "        ffpf +=1\n",
        "    #print(sum(predicted==lbls),ftpt+ffpt\n",
        "    return [ftpt,ffpt,ftpf,ffpf,amth,alth]"
      ],
      "execution_count": 15,
      "outputs": []
    },
    {
      "cell_type": "code",
      "metadata": {
        "id": "S633XgMToeN3"
      },
      "source": [
        "optim1 = []\n",
        "for i in range(120):\n",
        "  optim1.append(optim.RMSprop([bg[i]], lr=1))"
      ],
      "execution_count": 16,
      "outputs": []
    },
    {
      "cell_type": "code",
      "metadata": {
        "colab": {
          "base_uri": "https://localhost:8080/"
        },
        "id": "qPaYaojinMTA",
        "outputId": "fd473bc8-b806-4613-c0a4-59ad4733b917"
      },
      "source": [
        "# instantiate optimizer\n",
        "#optimizer_what = optim.RMSprop(what_net.parameters(), lr=0.001)#, momentum=0.9)#,nesterov=True)\n",
        "\n",
        "\n",
        " \n",
        "\n",
        "\n",
        "criterion = nn.CrossEntropyLoss()\n",
        "acti = []\n",
        "analysis_data_tr = []\n",
        "analysis_data_tst = []\n",
        "loss_curi_tr = []\n",
        "loss_curi_tst = []\n",
        "epochs = 100\n",
        "\n",
        "\n",
        "# calculate zeroth epoch loss and FTPT values\n",
        "running_loss,anlys_data,correct,total,accuracy = calculate_attn_loss(train_loader,what_net,criterion)\n",
        "print('training epoch: [%d ] loss: %.3f correct: %.3f, total: %.3f, accuracy: %.3f' %(0,running_loss,correct,total,accuracy)) \n",
        "loss_curi_tr.append(running_loss)\n",
        "analysis_data_tr.append(anlys_data)\n",
        "\n",
        "\n",
        "\n",
        "\n",
        "# training starts \n",
        "for epoch in range(epochs): # loop over the dataset multiple times\n",
        "  ep_lossi = []\n",
        "  running_loss = 0.0\n",
        "  #what_net.train()\n",
        "  for i, data in enumerate(train_loader, 0):\n",
        "    # get the inputs\n",
        "    inputs, labels,_  = data\n",
        "    inputs = inputs.double()\n",
        "    beta = bg[i] # alpha for ith batch\n",
        "    inputs, labels,beta = inputs.to(\"cuda\"),labels.to(\"cuda\"),beta.to(\"cuda\")\n",
        "        \n",
        "    # zero the parameter gradients\n",
        "    #optimizer_what.zero_grad()\n",
        "    optim1[i].zero_grad()\n",
        "      \n",
        "    # forward + backward + optimize\n",
        "    avg,alpha = attn_avg(inputs,beta)\n",
        "    outputs = what_net(avg)     \n",
        "    loss = criterion(outputs, labels)\n",
        "\n",
        "    # print statistics\n",
        "    running_loss += loss.item()\n",
        "    #alpha.retain_grad()\n",
        "    loss.backward(retain_graph=False)\n",
        "    #optimizer_what.step()\n",
        "    optim1[i].step()\n",
        "\n",
        "\n",
        "  running_loss_tr,anls_data,correct,total,accuracy = calculate_attn_loss(train_loader,what_net,criterion)\n",
        "  analysis_data_tr.append(anls_data)\n",
        "  loss_curi_tr.append(running_loss_tr)   #loss per epoch\n",
        "  print('training epoch: [%d ] loss: %.3f correct: %.3f, total: %.3f, accuracy: %.3f' %(epoch+1,running_loss_tr,correct,total,accuracy)) \n",
        "\n",
        "\n",
        "  \n",
        "  if running_loss_tr<=0.08:\n",
        "    break\n",
        "print('Finished Training run ')\n",
        "analysis_data_tr = np.array(analysis_data_tr)\n",
        "\n"
      ],
      "execution_count": 17,
      "outputs": [
        {
          "output_type": "stream",
          "text": [
            "/usr/local/lib/python3.7/dist-packages/torch/nn/functional.py:718: UserWarning: Named tensors and all their associated APIs are an experimental feature and subject to change. Please do not use them for anything important until they are released as stable. (Triggered internally at  /pytorch/c10/core/TensorImpl.h:1156.)\n",
            "  return torch.max_pool2d(input, kernel_size, stride, padding, dilation, ceil_mode)\n"
          ],
          "name": "stderr"
        },
        {
          "output_type": "stream",
          "text": [
            "training epoch: [0 ] loss: 3.207 correct: 11145.000, total: 30000.000, accuracy: 0.371\n",
            "training epoch: [1 ] loss: 1.429 correct: 18963.000, total: 30000.000, accuracy: 0.632\n",
            "training epoch: [2 ] loss: 1.753 correct: 21768.000, total: 30000.000, accuracy: 0.726\n",
            "training epoch: [3 ] loss: 1.455 correct: 23579.000, total: 30000.000, accuracy: 0.786\n",
            "training epoch: [4 ] loss: 1.348 correct: 24003.000, total: 30000.000, accuracy: 0.800\n",
            "training epoch: [5 ] loss: 1.297 correct: 24217.000, total: 30000.000, accuracy: 0.807\n",
            "training epoch: [6 ] loss: 1.263 correct: 24319.000, total: 30000.000, accuracy: 0.811\n",
            "training epoch: [7 ] loss: 1.243 correct: 24389.000, total: 30000.000, accuracy: 0.813\n",
            "training epoch: [8 ] loss: 1.230 correct: 24416.000, total: 30000.000, accuracy: 0.814\n",
            "training epoch: [9 ] loss: 1.218 correct: 24452.000, total: 30000.000, accuracy: 0.815\n",
            "training epoch: [10 ] loss: 1.205 correct: 24498.000, total: 30000.000, accuracy: 0.817\n",
            "training epoch: [11 ] loss: 1.197 correct: 24520.000, total: 30000.000, accuracy: 0.817\n",
            "training epoch: [12 ] loss: 1.193 correct: 24534.000, total: 30000.000, accuracy: 0.818\n",
            "training epoch: [13 ] loss: 1.183 correct: 24555.000, total: 30000.000, accuracy: 0.819\n",
            "training epoch: [14 ] loss: 1.179 correct: 24582.000, total: 30000.000, accuracy: 0.819\n",
            "training epoch: [15 ] loss: 1.174 correct: 24597.000, total: 30000.000, accuracy: 0.820\n",
            "training epoch: [16 ] loss: 1.166 correct: 24602.000, total: 30000.000, accuracy: 0.820\n",
            "training epoch: [17 ] loss: 1.161 correct: 24620.000, total: 30000.000, accuracy: 0.821\n",
            "training epoch: [18 ] loss: 1.158 correct: 24636.000, total: 30000.000, accuracy: 0.821\n",
            "training epoch: [19 ] loss: 1.155 correct: 24640.000, total: 30000.000, accuracy: 0.821\n",
            "training epoch: [20 ] loss: 1.153 correct: 24646.000, total: 30000.000, accuracy: 0.822\n",
            "training epoch: [21 ] loss: 1.151 correct: 24656.000, total: 30000.000, accuracy: 0.822\n",
            "training epoch: [22 ] loss: 1.149 correct: 24667.000, total: 30000.000, accuracy: 0.822\n",
            "training epoch: [23 ] loss: 1.146 correct: 24679.000, total: 30000.000, accuracy: 0.823\n",
            "training epoch: [24 ] loss: 1.142 correct: 24689.000, total: 30000.000, accuracy: 0.823\n",
            "training epoch: [25 ] loss: 1.141 correct: 24694.000, total: 30000.000, accuracy: 0.823\n",
            "training epoch: [26 ] loss: 1.140 correct: 24697.000, total: 30000.000, accuracy: 0.823\n",
            "training epoch: [27 ] loss: 1.136 correct: 24705.000, total: 30000.000, accuracy: 0.824\n",
            "training epoch: [28 ] loss: 1.136 correct: 24715.000, total: 30000.000, accuracy: 0.824\n",
            "training epoch: [29 ] loss: 1.133 correct: 24721.000, total: 30000.000, accuracy: 0.824\n",
            "training epoch: [30 ] loss: 1.131 correct: 24720.000, total: 30000.000, accuracy: 0.824\n",
            "training epoch: [31 ] loss: 1.130 correct: 24728.000, total: 30000.000, accuracy: 0.824\n",
            "training epoch: [32 ] loss: 1.127 correct: 24737.000, total: 30000.000, accuracy: 0.825\n",
            "training epoch: [33 ] loss: 1.125 correct: 24744.000, total: 30000.000, accuracy: 0.825\n",
            "training epoch: [34 ] loss: 1.124 correct: 24747.000, total: 30000.000, accuracy: 0.825\n",
            "training epoch: [35 ] loss: 1.123 correct: 24754.000, total: 30000.000, accuracy: 0.825\n",
            "training epoch: [36 ] loss: 1.123 correct: 24754.000, total: 30000.000, accuracy: 0.825\n",
            "training epoch: [37 ] loss: 1.122 correct: 24763.000, total: 30000.000, accuracy: 0.825\n",
            "training epoch: [38 ] loss: 1.122 correct: 24763.000, total: 30000.000, accuracy: 0.825\n",
            "training epoch: [39 ] loss: 1.119 correct: 24766.000, total: 30000.000, accuracy: 0.826\n",
            "training epoch: [40 ] loss: 1.116 correct: 24775.000, total: 30000.000, accuracy: 0.826\n",
            "training epoch: [41 ] loss: 1.117 correct: 24778.000, total: 30000.000, accuracy: 0.826\n",
            "training epoch: [42 ] loss: 1.116 correct: 24781.000, total: 30000.000, accuracy: 0.826\n",
            "training epoch: [43 ] loss: 1.114 correct: 24786.000, total: 30000.000, accuracy: 0.826\n",
            "training epoch: [44 ] loss: 1.113 correct: 24793.000, total: 30000.000, accuracy: 0.826\n",
            "training epoch: [45 ] loss: 1.114 correct: 24793.000, total: 30000.000, accuracy: 0.826\n",
            "training epoch: [46 ] loss: 1.110 correct: 24798.000, total: 30000.000, accuracy: 0.827\n",
            "training epoch: [47 ] loss: 1.109 correct: 24797.000, total: 30000.000, accuracy: 0.827\n",
            "training epoch: [48 ] loss: 1.107 correct: 24803.000, total: 30000.000, accuracy: 0.827\n",
            "training epoch: [49 ] loss: 1.106 correct: 24804.000, total: 30000.000, accuracy: 0.827\n",
            "training epoch: [50 ] loss: 1.104 correct: 24804.000, total: 30000.000, accuracy: 0.827\n",
            "training epoch: [51 ] loss: 1.105 correct: 24807.000, total: 30000.000, accuracy: 0.827\n",
            "training epoch: [52 ] loss: 1.104 correct: 24809.000, total: 30000.000, accuracy: 0.827\n",
            "training epoch: [53 ] loss: 1.103 correct: 24813.000, total: 30000.000, accuracy: 0.827\n",
            "training epoch: [54 ] loss: 1.104 correct: 24813.000, total: 30000.000, accuracy: 0.827\n",
            "training epoch: [55 ] loss: 1.102 correct: 24816.000, total: 30000.000, accuracy: 0.827\n",
            "training epoch: [56 ] loss: 1.101 correct: 24818.000, total: 30000.000, accuracy: 0.827\n",
            "training epoch: [57 ] loss: 1.099 correct: 24821.000, total: 30000.000, accuracy: 0.827\n",
            "training epoch: [58 ] loss: 1.099 correct: 24825.000, total: 30000.000, accuracy: 0.828\n",
            "training epoch: [59 ] loss: 1.099 correct: 24829.000, total: 30000.000, accuracy: 0.828\n",
            "training epoch: [60 ] loss: 1.098 correct: 24827.000, total: 30000.000, accuracy: 0.828\n",
            "training epoch: [61 ] loss: 1.096 correct: 24833.000, total: 30000.000, accuracy: 0.828\n",
            "training epoch: [62 ] loss: 1.094 correct: 24830.000, total: 30000.000, accuracy: 0.828\n",
            "training epoch: [63 ] loss: 1.095 correct: 24836.000, total: 30000.000, accuracy: 0.828\n",
            "training epoch: [64 ] loss: 1.093 correct: 24839.000, total: 30000.000, accuracy: 0.828\n",
            "training epoch: [65 ] loss: 1.092 correct: 24843.000, total: 30000.000, accuracy: 0.828\n",
            "training epoch: [66 ] loss: 1.091 correct: 24848.000, total: 30000.000, accuracy: 0.828\n",
            "training epoch: [67 ] loss: 1.090 correct: 24845.000, total: 30000.000, accuracy: 0.828\n",
            "training epoch: [68 ] loss: 1.088 correct: 24849.000, total: 30000.000, accuracy: 0.828\n",
            "training epoch: [69 ] loss: 1.086 correct: 24853.000, total: 30000.000, accuracy: 0.828\n",
            "training epoch: [70 ] loss: 1.086 correct: 24857.000, total: 30000.000, accuracy: 0.829\n",
            "training epoch: [71 ] loss: 1.086 correct: 24858.000, total: 30000.000, accuracy: 0.829\n",
            "training epoch: [72 ] loss: 1.086 correct: 24861.000, total: 30000.000, accuracy: 0.829\n",
            "training epoch: [73 ] loss: 1.085 correct: 24863.000, total: 30000.000, accuracy: 0.829\n",
            "training epoch: [74 ] loss: 1.084 correct: 24865.000, total: 30000.000, accuracy: 0.829\n",
            "training epoch: [75 ] loss: 1.083 correct: 24868.000, total: 30000.000, accuracy: 0.829\n",
            "training epoch: [76 ] loss: 1.082 correct: 24871.000, total: 30000.000, accuracy: 0.829\n",
            "training epoch: [77 ] loss: 1.082 correct: 24868.000, total: 30000.000, accuracy: 0.829\n",
            "training epoch: [78 ] loss: 1.082 correct: 24873.000, total: 30000.000, accuracy: 0.829\n",
            "training epoch: [79 ] loss: 1.081 correct: 24877.000, total: 30000.000, accuracy: 0.829\n",
            "training epoch: [80 ] loss: 1.080 correct: 24877.000, total: 30000.000, accuracy: 0.829\n",
            "training epoch: [81 ] loss: 1.079 correct: 24879.000, total: 30000.000, accuracy: 0.829\n",
            "training epoch: [82 ] loss: 1.079 correct: 24886.000, total: 30000.000, accuracy: 0.830\n",
            "training epoch: [83 ] loss: 1.076 correct: 24889.000, total: 30000.000, accuracy: 0.830\n",
            "training epoch: [84 ] loss: 1.078 correct: 24888.000, total: 30000.000, accuracy: 0.830\n",
            "training epoch: [85 ] loss: 1.076 correct: 24893.000, total: 30000.000, accuracy: 0.830\n",
            "training epoch: [86 ] loss: 1.075 correct: 24893.000, total: 30000.000, accuracy: 0.830\n",
            "training epoch: [87 ] loss: 1.075 correct: 24894.000, total: 30000.000, accuracy: 0.830\n",
            "training epoch: [88 ] loss: 1.075 correct: 24898.000, total: 30000.000, accuracy: 0.830\n",
            "training epoch: [89 ] loss: 1.074 correct: 24898.000, total: 30000.000, accuracy: 0.830\n",
            "training epoch: [90 ] loss: 1.075 correct: 24900.000, total: 30000.000, accuracy: 0.830\n",
            "training epoch: [91 ] loss: 1.074 correct: 24900.000, total: 30000.000, accuracy: 0.830\n",
            "training epoch: [92 ] loss: 1.073 correct: 24903.000, total: 30000.000, accuracy: 0.830\n",
            "training epoch: [93 ] loss: 1.073 correct: 24904.000, total: 30000.000, accuracy: 0.830\n",
            "training epoch: [94 ] loss: 1.072 correct: 24906.000, total: 30000.000, accuracy: 0.830\n",
            "training epoch: [95 ] loss: 1.071 correct: 24909.000, total: 30000.000, accuracy: 0.830\n",
            "training epoch: [96 ] loss: 1.070 correct: 24911.000, total: 30000.000, accuracy: 0.830\n",
            "training epoch: [97 ] loss: 1.071 correct: 24913.000, total: 30000.000, accuracy: 0.830\n",
            "training epoch: [98 ] loss: 1.069 correct: 24914.000, total: 30000.000, accuracy: 0.830\n",
            "training epoch: [99 ] loss: 1.069 correct: 24912.000, total: 30000.000, accuracy: 0.830\n",
            "training epoch: [100 ] loss: 1.068 correct: 24914.000, total: 30000.000, accuracy: 0.830\n",
            "Finished Training run \n"
          ],
          "name": "stdout"
        }
      ]
    },
    {
      "cell_type": "code",
      "metadata": {
        "id": "AciJnAh5nfug"
      },
      "source": [
        "columns = [\"epochs\", \"argmax > 0.5\" ,\"argmax < 0.5\", \"focus_true_pred_true\", \"focus_false_pred_true\", \"focus_true_pred_false\", \"focus_false_pred_false\" ]\n",
        "df_train = pd.DataFrame()\n",
        "df_test = pd.DataFrame()\n",
        "df_train[columns[0]] = np.arange(0,epoch+2)\n",
        "df_train[columns[1]] = analysis_data_tr[:,-2]/300\n",
        "df_train[columns[2]] = analysis_data_tr[:,-1]/300\n",
        "df_train[columns[3]] = analysis_data_tr[:,0]/300\n",
        "df_train[columns[4]] = analysis_data_tr[:,1]/300\n",
        "df_train[columns[5]] = analysis_data_tr[:,2]/300\n",
        "df_train[columns[6]] = analysis_data_tr[:,3]/300"
      ],
      "execution_count": 18,
      "outputs": []
    },
    {
      "cell_type": "code",
      "metadata": {
        "id": "NoQpS_6scRsC",
        "colab": {
          "base_uri": "https://localhost:8080/",
          "height": 456
        },
        "outputId": "fb102ac9-a80a-4f8d-bf01-25e6b08b231f"
      },
      "source": [
        "df_train"
      ],
      "execution_count": 19,
      "outputs": [
        {
          "output_type": "execute_result",
          "data": {
            "text/html": [
              "<div>\n",
              "<style scoped>\n",
              "    .dataframe tbody tr th:only-of-type {\n",
              "        vertical-align: middle;\n",
              "    }\n",
              "\n",
              "    .dataframe tbody tr th {\n",
              "        vertical-align: top;\n",
              "    }\n",
              "\n",
              "    .dataframe thead th {\n",
              "        text-align: right;\n",
              "    }\n",
              "</style>\n",
              "<table border=\"1\" class=\"dataframe\">\n",
              "  <thead>\n",
              "    <tr style=\"text-align: right;\">\n",
              "      <th></th>\n",
              "      <th>epochs</th>\n",
              "      <th>argmax &gt; 0.5</th>\n",
              "      <th>argmax &lt; 0.5</th>\n",
              "      <th>focus_true_pred_true</th>\n",
              "      <th>focus_false_pred_true</th>\n",
              "      <th>focus_true_pred_false</th>\n",
              "      <th>focus_false_pred_false</th>\n",
              "    </tr>\n",
              "  </thead>\n",
              "  <tbody>\n",
              "    <tr>\n",
              "      <th>0</th>\n",
              "      <td>0</td>\n",
              "      <td>0.000000</td>\n",
              "      <td>100.000000</td>\n",
              "      <td>4.103333</td>\n",
              "      <td>33.046667</td>\n",
              "      <td>7.176667</td>\n",
              "      <td>55.673333</td>\n",
              "    </tr>\n",
              "    <tr>\n",
              "      <th>1</th>\n",
              "      <td>1</td>\n",
              "      <td>2.870000</td>\n",
              "      <td>97.130000</td>\n",
              "      <td>14.250000</td>\n",
              "      <td>48.960000</td>\n",
              "      <td>5.973333</td>\n",
              "      <td>30.816667</td>\n",
              "    </tr>\n",
              "    <tr>\n",
              "      <th>2</th>\n",
              "      <td>2</td>\n",
              "      <td>69.416667</td>\n",
              "      <td>30.583333</td>\n",
              "      <td>21.956667</td>\n",
              "      <td>50.603333</td>\n",
              "      <td>1.063333</td>\n",
              "      <td>26.376667</td>\n",
              "    </tr>\n",
              "    <tr>\n",
              "      <th>3</th>\n",
              "      <td>3</td>\n",
              "      <td>73.830000</td>\n",
              "      <td>26.170000</td>\n",
              "      <td>25.803333</td>\n",
              "      <td>52.793333</td>\n",
              "      <td>0.653333</td>\n",
              "      <td>20.750000</td>\n",
              "    </tr>\n",
              "    <tr>\n",
              "      <th>4</th>\n",
              "      <td>4</td>\n",
              "      <td>74.426667</td>\n",
              "      <td>25.573333</td>\n",
              "      <td>26.670000</td>\n",
              "      <td>53.340000</td>\n",
              "      <td>0.600000</td>\n",
              "      <td>19.390000</td>\n",
              "    </tr>\n",
              "    <tr>\n",
              "      <th>...</th>\n",
              "      <td>...</td>\n",
              "      <td>...</td>\n",
              "      <td>...</td>\n",
              "      <td>...</td>\n",
              "      <td>...</td>\n",
              "      <td>...</td>\n",
              "      <td>...</td>\n",
              "    </tr>\n",
              "    <tr>\n",
              "      <th>96</th>\n",
              "      <td>96</td>\n",
              "      <td>77.110000</td>\n",
              "      <td>22.890000</td>\n",
              "      <td>28.943333</td>\n",
              "      <td>54.093333</td>\n",
              "      <td>0.510000</td>\n",
              "      <td>16.453333</td>\n",
              "    </tr>\n",
              "    <tr>\n",
              "      <th>97</th>\n",
              "      <td>97</td>\n",
              "      <td>77.096667</td>\n",
              "      <td>22.903333</td>\n",
              "      <td>28.956667</td>\n",
              "      <td>54.086667</td>\n",
              "      <td>0.510000</td>\n",
              "      <td>16.446667</td>\n",
              "    </tr>\n",
              "    <tr>\n",
              "      <th>98</th>\n",
              "      <td>98</td>\n",
              "      <td>77.143333</td>\n",
              "      <td>22.856667</td>\n",
              "      <td>28.943333</td>\n",
              "      <td>54.103333</td>\n",
              "      <td>0.516667</td>\n",
              "      <td>16.436667</td>\n",
              "    </tr>\n",
              "    <tr>\n",
              "      <th>99</th>\n",
              "      <td>99</td>\n",
              "      <td>77.130000</td>\n",
              "      <td>22.870000</td>\n",
              "      <td>28.953333</td>\n",
              "      <td>54.086667</td>\n",
              "      <td>0.516667</td>\n",
              "      <td>16.443333</td>\n",
              "    </tr>\n",
              "    <tr>\n",
              "      <th>100</th>\n",
              "      <td>100</td>\n",
              "      <td>77.166667</td>\n",
              "      <td>22.833333</td>\n",
              "      <td>28.940000</td>\n",
              "      <td>54.106667</td>\n",
              "      <td>0.513333</td>\n",
              "      <td>16.440000</td>\n",
              "    </tr>\n",
              "  </tbody>\n",
              "</table>\n",
              "<p>101 rows × 7 columns</p>\n",
              "</div>"
            ],
            "text/plain": [
              "     epochs  argmax > 0.5  ...  focus_true_pred_false  focus_false_pred_false\n",
              "0         0      0.000000  ...               7.176667               55.673333\n",
              "1         1      2.870000  ...               5.973333               30.816667\n",
              "2         2     69.416667  ...               1.063333               26.376667\n",
              "3         3     73.830000  ...               0.653333               20.750000\n",
              "4         4     74.426667  ...               0.600000               19.390000\n",
              "..      ...           ...  ...                    ...                     ...\n",
              "96       96     77.110000  ...               0.510000               16.453333\n",
              "97       97     77.096667  ...               0.510000               16.446667\n",
              "98       98     77.143333  ...               0.516667               16.436667\n",
              "99       99     77.130000  ...               0.516667               16.443333\n",
              "100     100     77.166667  ...               0.513333               16.440000\n",
              "\n",
              "[101 rows x 7 columns]"
            ]
          },
          "metadata": {
            "tags": []
          },
          "execution_count": 19
        }
      ]
    },
    {
      "cell_type": "code",
      "metadata": {
        "id": "IMAhRdxOcVf6",
        "colab": {
          "base_uri": "https://localhost:8080/",
          "height": 404
        },
        "outputId": "72f8c394-b57a-4231-e429-4e88cea62e8d"
      },
      "source": [
        "fig= plt.figure(figsize=(6,6))\n",
        "plt.plot(df_train[columns[0]],df_train[columns[3]], label =\"focus_true_pred_true \")\n",
        "plt.plot(df_train[columns[0]],df_train[columns[4]], label =\"focus_false_pred_true \")\n",
        "plt.plot(df_train[columns[0]],df_train[columns[5]], label =\"focus_true_pred_false \")\n",
        "plt.plot(df_train[columns[0]],df_train[columns[6]], label =\"focus_false_pred_false \")\n",
        "plt.title(\"On Train set\")\n",
        "plt.legend(loc='center left', bbox_to_anchor=(1, 0.5))\n",
        "plt.xticks([0,50,100])\n",
        "plt.xlabel(\"epochs\")\n",
        "plt.ylabel(\"percentage of data\")\n",
        "#plt.vlines(vline_list,min(min(df_train[columns[3]]/300),min(df_train[columns[4]]/300),min(df_train[columns[5]]/300),min(df_train[columns[6]]/300)), max(max(df_train[columns[3]]/300),max(df_train[columns[4]]/300),max(df_train[columns[5]]/300),max(df_train[columns[6]]/300)),linestyles='dotted')\n",
        "plt.show()\n",
        "fig.savefig(\"train_analysis.pdf\")\n",
        "fig.savefig(\"train_analysis.png\")"
      ],
      "execution_count": 25,
      "outputs": [
        {
          "output_type": "display_data",
          "data": {
            "image/png": "[encoded data removed]",
            "text/plain": [
              "<Figure size 432x432 with 1 Axes>"
            ]
          },
          "metadata": {
            "tags": [],
            "needs_background": "light"
          }
        }
      ]
    },
    {
      "cell_type": "code",
      "metadata": {
        "id": "VCnS6r2_3WdU"
      },
      "source": [
        "aph = []\n",
        "for i in bg:\n",
        "  aph.append(F.softmax(i,dim=1).detach().numpy())\n",
        "  \n",
        "aph = np.concatenate(aph,axis=0)\n",
        "torch.save({\n",
        "            'epoch': 500,\n",
        "            'model_state_dict': what_net.state_dict(),\n",
        "            #'optimizer_state_dict': optimizer_what.state_dict(),\n",
        "            \"optimizer_alpha\":optim1,\n",
        "            \"FTPT_analysis\":analysis_data_tr,\n",
        "            \"alpha\":aph\n",
        "\n",
        "            }, \"cifar_what_net_500.pt\")"
      ],
      "execution_count": 21,
      "outputs": []
    },
    {
      "cell_type": "code",
      "metadata": {
        "id": "KVzrDOGS4UxU",
        "colab": {
          "base_uri": "https://localhost:8080/"
        },
        "outputId": "729ef92f-1962-4abf-dc45-939d95b6cede"
      },
      "source": [
        "aph"
      ],
      "execution_count": 22,
      "outputs": [
        {
          "output_type": "execute_result",
          "data": {
            "text/plain": [
              "array([[1.1903054e-01, 6.8578392e-01, 2.4540994e-10, ..., 2.4545629e-10,\n",
              "        2.4543570e-10, 2.4535377e-10],\n",
              "       [5.4134503e-06, 1.3816966e-11, 1.3816122e-11, ..., 1.3817782e-11,\n",
              "        9.2659080e-01, 1.3816333e-11],\n",
              "       [3.9587347e-10, 3.9606529e-10, 3.9672912e-10, ..., 2.2190861e-01,\n",
              "        1.4181660e-01, 1.8793201e-01],\n",
              "       ...,\n",
              "       [1.5847878e-01, 4.7372406e-10, 3.3715206e-01, ..., 4.7385962e-10,\n",
              "        3.0342340e-01, 2.0094576e-01],\n",
              "       [4.8996946e-01, 5.0926900e-01, 1.3334326e-12, ..., 1.3335115e-12,\n",
              "        1.0236790e-06, 7.6046272e-04],\n",
              "       [7.7857883e-05, 1.0509896e-12, 5.2166935e-03, ..., 7.5919735e-07,\n",
              "        6.7451689e-03, 1.0762969e-12]], dtype=float32)"
            ]
          },
          "metadata": {
            "tags": []
          },
          "execution_count": 22
        }
      ]
    },
    {
      "cell_type": "code",
      "metadata": {
        "id": "Z6heHND15EMz"
      },
      "source": [
        "running_loss_tr,anls_data,correct,total,accuracy = calculate_attn_loss(train_loader,what_net,criterion)"
      ],
      "execution_count": 23,
      "outputs": []
    },
    {
      "cell_type": "code",
      "metadata": {
        "id": "zeKhsdpYWQvB",
        "colab": {
          "base_uri": "https://localhost:8080/"
        },
        "outputId": "28caf687-afa3-4ea8-8ae7-7fe089f06415"
      },
      "source": [
        "print(\"argmax>0.5\",anls_data[-2])"
      ],
      "execution_count": 24,
      "outputs": [
        {
          "output_type": "stream",
          "text": [
            "argmax>0.5 23150\n"
          ],
          "name": "stdout"
        }
      ]
    },
    {
      "cell_type": "code",
      "metadata": {
        "id": "yF2bvWdIWUTa"
      },
      "source": [
        ""
      ],
      "execution_count": 24,
      "outputs": []
    }
  ]
}