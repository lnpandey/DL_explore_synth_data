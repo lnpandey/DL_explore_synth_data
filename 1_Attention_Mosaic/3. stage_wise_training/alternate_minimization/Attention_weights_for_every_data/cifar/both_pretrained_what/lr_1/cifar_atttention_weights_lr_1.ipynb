{
  "nbformat": 4,
  "nbformat_minor": 0,
  "metadata": {
    "accelerator": "GPU",
    "colab": {
      "name": "cifar_atttention_weights_lr_1.ipynb",
      "provenance": [],
      "collapsed_sections": []
    },
    "kernelspec": {
      "display_name": "Python 3",
      "name": "python3"
    },
    "language_info": {
      "name": "python"
    }
  },
  "cells": [
    {
      "cell_type": "code",
      "metadata": {
        "id": "BWIyC9Ip_bcq"
      },
      "source": [
        "import numpy as np\n",
        "import pandas as pd\n",
        "\n",
        "import torch\n",
        "import torchvision\n",
        "from torch.utils.data import Dataset, DataLoader\n",
        "from torchvision import transforms, utils\n",
        "import torch.nn as nn\n",
        "import torch.nn.functional as F\n",
        "import torch.optim as optim\n",
        "\n",
        "from matplotlib import pyplot as plt\n",
        "%matplotlib inline\n",
        "torch.backends.cudnn.deterministic = True\n",
        "torch.backends.cudnn.benchmark = False"
      ],
      "execution_count": 1,
      "outputs": []
    },
    {
      "cell_type": "code",
      "metadata": {
        "colab": {
          "base_uri": "https://localhost:8080/"
        },
        "id": "cgw1f4rVkGr9",
        "outputId": "c0829650-ef5e-48b5-9391-4b26c4eeee82"
      },
      "source": [
        "transform = transforms.Compose(\n",
        "    [transforms.ToTensor(),\n",
        "     transforms.Normalize((0.5, 0.5, 0.5), (0.5, 0.5, 0.5))])\n",
        "\n",
        "trainset = torchvision.datasets.CIFAR10(root='./data', train=True, download=True, transform=transform)"
      ],
      "execution_count": 2,
      "outputs": [
        {
          "output_type": "stream",
          "text": [
            "Files already downloaded and verified\n"
          ],
          "name": "stdout"
        }
      ]
    },
    {
      "cell_type": "code",
      "metadata": {
        "id": "D-xlWYTKkQEn"
      },
      "source": [
        "trainloader = torch.utils.data.DataLoader(trainset, batch_size=10, shuffle=False)\n",
        "\n",
        "\n",
        "classes = ('plane', 'car', 'bird', 'cat', 'deer', 'dog', 'frog', 'horse', 'ship', 'truck')\n",
        "\n",
        "foreground_classes = {'plane', 'car', 'bird'}\n",
        "#foreground_classes = {'bird', 'cat', 'deer'}\n",
        "background_classes = {'cat', 'deer', 'dog', 'frog', 'horse', 'ship', 'truck'}\n",
        "#background_classes = {'plane', 'car', 'dog', 'frog', 'horse','ship', 'truck'}\n",
        "\n",
        "fg1,fg2,fg3 = 0,1,2"
      ],
      "execution_count": 3,
      "outputs": []
    },
    {
      "cell_type": "code",
      "metadata": {
        "id": "zrX68qhikUbz"
      },
      "source": [
        "dataiter = iter(trainloader)\n",
        "background_data=[]\n",
        "background_label=[]\n",
        "foreground_data=[]\n",
        "foreground_label=[]\n",
        "batch_size=10\n",
        "\n",
        "for i in range(5000):\n",
        "  images, labels = dataiter.next()\n",
        "  for j in range(batch_size):\n",
        "    if(classes[labels[j]] in background_classes):\n",
        "      img = images[j].tolist()\n",
        "      background_data.append(img)\n",
        "      background_label.append(labels[j])\n",
        "    else:\n",
        "      img = images[j].tolist()\n",
        "      foreground_data.append(img)\n",
        "      foreground_label.append(labels[j])\n",
        "            \n",
        "foreground_data = torch.tensor(foreground_data)\n",
        "foreground_label = torch.tensor(foreground_label)\n",
        "background_data = torch.tensor(background_data)\n",
        "background_label = torch.tensor(background_label)"
      ],
      "execution_count": 4,
      "outputs": []
    },
    {
      "cell_type": "code",
      "metadata": {
        "id": "eD-QJkvnkgyk"
      },
      "source": [
        "def create_mosaic_img(bg_idx,fg_idx,fg): \n",
        "  \"\"\"\n",
        "  bg_idx : list of indexes of background_data[] to be used as background images in mosaic\n",
        "  fg_idx : index of image to be used as foreground image from foreground data\n",
        "  fg : at what position/index foreground image has to be stored out of 0-8\n",
        "  \"\"\"\n",
        "  image_list=[]\n",
        "  j=0\n",
        "  for i in range(9):\n",
        "    if i != fg:\n",
        "      image_list.append(background_data[bg_idx[j]])#.type(\"torch.DoubleTensor\"))\n",
        "      j+=1\n",
        "    else: \n",
        "      image_list.append(foreground_data[fg_idx])#.type(\"torch.DoubleTensor\"))\n",
        "      label = foreground_label[fg_idx]-fg1  # minus 7 because our fore ground classes are 7,8,9 but we have to store it as 0,1,2\n",
        "  #image_list = np.concatenate(image_list ,axis=0)\n",
        "  image_list = torch.stack(image_list) \n",
        "  return image_list,label"
      ],
      "execution_count": 5,
      "outputs": []
    },
    {
      "cell_type": "code",
      "metadata": {
        "id": "Zs10rfXHkli2"
      },
      "source": [
        "desired_num = 30000\n",
        "mosaic_list_of_images =[]      # list of mosaic images, each mosaic image is saved as list of 9 images\n",
        "fore_idx =[]                   # list of indexes at which foreground image is present in a mosaic image i.e from 0 to 9               \n",
        "mosaic_label=[]                # label of mosaic image = foreground class present in that mosaic\n",
        "for i in range(desired_num):\n",
        "  np.random.seed(i)\n",
        "  bg_idx = np.random.randint(0,35000,8)\n",
        "  fg_idx = np.random.randint(0,15000)\n",
        "  fg = np.random.randint(0,9)\n",
        "  fore_idx.append(fg)\n",
        "  image_list,label = create_mosaic_img(bg_idx,fg_idx,fg)\n",
        "  mosaic_list_of_images.append(image_list)\n",
        "  mosaic_label.append(label)"
      ],
      "execution_count": 6,
      "outputs": []
    },
    {
      "cell_type": "code",
      "metadata": {
        "id": "7km9Swb1kq4O"
      },
      "source": [
        "class MosaicDataset(Dataset):\n",
        "  \"\"\"MosaicDataset dataset.\"\"\"\n",
        "\n",
        "  def __init__(self, mosaic_list_of_images, mosaic_label, fore_idx):\n",
        "    \"\"\"\n",
        "      Args:\n",
        "        csv_file (string): Path to the csv file with annotations.\n",
        "        root_dir (string): Directory with all the images.\n",
        "        transform (callable, optional): Optional transform to be applied\n",
        "            on a sample.\n",
        "    \"\"\"\n",
        "    self.mosaic = mosaic_list_of_images\n",
        "    self.label = mosaic_label\n",
        "    self.fore_idx = fore_idx\n",
        "\n",
        "  def __len__(self):\n",
        "    return len(self.label)\n",
        "\n",
        "  def __getitem__(self, idx):\n",
        "    return self.mosaic[idx] , self.label[idx], self.fore_idx[idx]\n",
        "batch = 250\n",
        "msd = MosaicDataset(mosaic_list_of_images, mosaic_label , fore_idx)\n",
        "train_loader = DataLoader( msd,batch_size= batch ,shuffle=False,num_workers=0,)"
      ],
      "execution_count": 7,
      "outputs": []
    },
    {
      "cell_type": "code",
      "metadata": {
        "id": "lGVy-1EllAc_"
      },
      "source": [
        "data,labels,fg_index = iter(train_loader).next()"
      ],
      "execution_count": 8,
      "outputs": []
    },
    {
      "cell_type": "code",
      "metadata": {
        "id": "DOpZfj1bq7wN"
      },
      "source": [
        "bg = []\n",
        "for i in range(120):\n",
        "  torch.manual_seed(i)\n",
        "  betag = torch.randn(250,9)#torch.ones((250,9))/9\n",
        "  a=bg.append( betag.requires_grad_() )"
      ],
      "execution_count": 9,
      "outputs": []
    },
    {
      "cell_type": "code",
      "metadata": {
        "id": "HbrMidFCla6h"
      },
      "source": [
        "class Module2(nn.Module):\n",
        "  def __init__(self):\n",
        "    super(Module2, self).__init__()\n",
        "    \n",
        "    self.conv1 = nn.Conv2d(3, 6, 5)\n",
        "    self.pool = nn.MaxPool2d(2, 2)\n",
        "    self.conv2 = nn.Conv2d(6, 16, 5)\n",
        "    self.fc1 = nn.Linear(16 * 5 * 5, 120)\n",
        "    self.fc2 = nn.Linear(120, 84)\n",
        "    self.fc3 = nn.Linear(84, 10)\n",
        "    self.fc4 = nn.Linear(10,3)\n",
        "\n",
        "  def forward(self,y):  #z batch of list of 9 images\n",
        "    y1 = self.pool(F.relu(self.conv1(y)))\n",
        "    y1 = self.pool(F.relu(self.conv2(y1)))\n",
        "    y1 = y1.view(-1, 16 * 5 * 5)\n",
        "\n",
        "    y1 = F.relu(self.fc1(y1))\n",
        "    y1 = F.relu(self.fc2(y1))\n",
        "    y1 = F.relu(self.fc3(y1))\n",
        "    y1 = self.fc4(y1)\n",
        "    return y1"
      ],
      "execution_count": 10,
      "outputs": []
    },
    {
      "cell_type": "code",
      "metadata": {
        "id": "rRqj2VELllkX"
      },
      "source": [
        "torch.manual_seed(1234)\n",
        "what_net = Module2().double()\n",
        "\n",
        "what_net.load_state_dict(torch.load(\"simultaneous_what.pt\"))\n",
        "what_net = what_net.to(\"cuda\")"
      ],
      "execution_count": 11,
      "outputs": []
    },
    {
      "cell_type": "code",
      "metadata": {
        "id": "6d8Wch99l4yB"
      },
      "source": [
        "def attn_avg(x,beta):\n",
        "  y = torch.zeros([batch,3, 32,32], dtype=torch.float64)\n",
        "  y = y.to(\"cuda\")\n",
        "  alpha = F.softmax(beta,dim=1)   # alphas\n",
        "  for i in range(9):            \n",
        "    alpha1 = alpha[:,i]          \n",
        "    y = y + torch.mul(alpha1[:,None,None,None],x[:,i])\n",
        "  return y,alpha"
      ],
      "execution_count": 12,
      "outputs": []
    },
    {
      "cell_type": "code",
      "metadata": {
        "id": "Rz1Kpw12loV6"
      },
      "source": [
        "def calculate_attn_loss(dataloader,what,criter):\n",
        "  what.eval()\n",
        "  r_loss = 0\n",
        "  alphas = []\n",
        "  lbls = []\n",
        "  pred = []\n",
        "  fidices = []\n",
        "  correct = 0\n",
        "  tot = 0\n",
        "  with torch.no_grad():\n",
        "    for i, data in enumerate(dataloader, 0):\n",
        "      inputs, labels,fidx= data\n",
        "      lbls.append(labels)\n",
        "      fidices.append(fidx)\n",
        "      inputs = inputs.double()\n",
        "      beta = bg[i]  # alpha for ith batch\n",
        "      inputs, labels,beta = inputs.to(\"cuda\"),labels.to(\"cuda\"),beta.to(\"cuda\")\n",
        "      avg,alpha = attn_avg(inputs,beta)\n",
        "      alpha = alpha.to(\"cuda\")\n",
        "      outputs = what(avg)\n",
        "      _, predicted = torch.max(outputs.data, 1)\n",
        "      correct += sum(predicted == labels)\n",
        "      tot += len(predicted)\n",
        "      pred.append(predicted.cpu().numpy())\n",
        "      alphas.append(alpha.cpu().numpy())\n",
        "      loss = criter(outputs, labels)\n",
        "      r_loss += loss.item()\n",
        "  alphas = np.concatenate(alphas,axis=0)\n",
        "  pred = np.concatenate(pred,axis=0)\n",
        "  lbls = np.concatenate(lbls,axis=0)\n",
        "  fidices = np.concatenate(fidices,axis=0)\n",
        "  #print(alphas.shape,pred.shape,lbls.shape,fidices.shape) \n",
        "  analysis = analyse_data(alphas,lbls,pred,fidices)\n",
        "  return r_loss/i,analysis,correct.item(),tot,correct.item()/tot"
      ],
      "execution_count": 13,
      "outputs": []
    },
    {
      "cell_type": "code",
      "metadata": {
        "id": "sAY-x6UAwrwE"
      },
      "source": [
        "# for param in what_net.parameters():\n",
        "#     param.requires_grad = False"
      ],
      "execution_count": 14,
      "outputs": []
    },
    {
      "cell_type": "code",
      "metadata": {
        "id": "_toCktPanH0S"
      },
      "source": [
        "def analyse_data(alphas,lbls,predicted,f_idx):\n",
        "    '''\n",
        "       analysis data is created here\n",
        "    '''\n",
        "    batch = len(predicted)\n",
        "    amth,alth,ftpt,ffpt,ftpf,ffpf = 0,0,0,0,0,0\n",
        "    for j in range (batch):\n",
        "      focus = np.argmax(alphas[j])\n",
        "      if(alphas[j][focus] >= 0.5):\n",
        "        amth +=1\n",
        "      else:\n",
        "        alth +=1\n",
        "      if(focus == f_idx[j] and predicted[j] == lbls[j]):\n",
        "        ftpt += 1\n",
        "      elif(focus != f_idx[j] and predicted[j] == lbls[j]):\n",
        "        ffpt +=1\n",
        "      elif(focus == f_idx[j] and predicted[j] != lbls[j]):\n",
        "        ftpf +=1\n",
        "      elif(focus != f_idx[j] and predicted[j] != lbls[j]):\n",
        "        ffpf +=1\n",
        "    #print(sum(predicted==lbls),ftpt+ffpt)\n",
        "    return [ftpt,ffpt,ftpf,ffpf,amth,alth]"
      ],
      "execution_count": 15,
      "outputs": []
    },
    {
      "cell_type": "code",
      "metadata": {
        "id": "S633XgMToeN3"
      },
      "source": [
        "optim1 = []\n",
        "for i in range(120):\n",
        "  optim1.append(optim.RMSprop([bg[i]], lr=1))"
      ],
      "execution_count": 16,
      "outputs": []
    },
    {
      "cell_type": "code",
      "metadata": {
        "colab": {
          "base_uri": "https://localhost:8080/"
        },
        "id": "qPaYaojinMTA",
        "outputId": "9b4de029-3dad-4ba7-e0b2-0d03b9ed1733"
      },
      "source": [
        "# instantiate optimizer\n",
        "optimizer_what = optim.RMSprop(what_net.parameters(), lr=0.001)#, momentum=0.9)#,nesterov=True)\n",
        "\n",
        "\n",
        " \n",
        "\n",
        "\n",
        "criterion = nn.CrossEntropyLoss()\n",
        "acti = []\n",
        "analysis_data_tr = []\n",
        "analysis_data_tst = []\n",
        "loss_curi_tr = []\n",
        "loss_curi_tst = []\n",
        "epochs = 100\n",
        "\n",
        "\n",
        "# calculate zeroth epoch loss and FTPT values\n",
        "running_loss,anlys_data,correct,total,accuracy = calculate_attn_loss(train_loader,what_net,criterion)\n",
        "print('training epoch: [%d ] loss: %.3f correct: %.3f, total: %.3f, accuracy: %.3f' %(0,running_loss,correct,total,accuracy)) \n",
        "loss_curi_tr.append(running_loss)\n",
        "analysis_data_tr.append(anlys_data)\n",
        "\n",
        "\n",
        "\n",
        "\n",
        "# training starts \n",
        "for epoch in range(epochs): # loop over the dataset multiple times\n",
        "  ep_lossi = []\n",
        "  running_loss = 0.0\n",
        "  what_net.train()\n",
        "  for i, data in enumerate(train_loader, 0):\n",
        "    # get the inputs\n",
        "    inputs, labels,_  = data\n",
        "    inputs = inputs.double()\n",
        "    beta = bg[i] # alpha for ith batch\n",
        "    inputs, labels,beta = inputs.to(\"cuda\"),labels.to(\"cuda\"),beta.to(\"cuda\")\n",
        "        \n",
        "    # zero the parameter gradients\n",
        "    optimizer_what.zero_grad()\n",
        "    optim1[i].zero_grad()\n",
        "      \n",
        "    # forward + backward + optimize\n",
        "    avg,alpha = attn_avg(inputs,beta)\n",
        "    outputs = what_net(avg)     \n",
        "    loss = criterion(outputs, labels)\n",
        "\n",
        "    # print statistics\n",
        "    running_loss += loss.item()\n",
        "    #alpha.retain_grad()\n",
        "    loss.backward(retain_graph=False)\n",
        "    optimizer_what.step()\n",
        "    optim1[i].step()\n",
        "\n",
        "\n",
        "  running_loss_tr,anls_data,correct,total,accuracy = calculate_attn_loss(train_loader,what_net,criterion)\n",
        "  analysis_data_tr.append(anls_data)\n",
        "  loss_curi_tr.append(running_loss_tr)   #loss per epoch\n",
        "  print('training epoch: [%d ] loss: %.3f correct: %.3f, total: %.3f, accuracy: %.3f' %(epoch+1,running_loss_tr,correct,total,accuracy)) \n",
        "\n",
        "\n",
        "  \n",
        "  if running_loss_tr<=0.08:\n",
        "    break\n",
        "print('Finished Training run ')\n",
        "analysis_data_tr = np.array(analysis_data_tr)\n",
        "\n"
      ],
      "execution_count": 17,
      "outputs": [
        {
          "output_type": "stream",
          "text": [
            "training epoch: [0 ] loss: 3.138 correct: 12019.000, total: 30000.000, accuracy: 0.401\n",
            "training epoch: [1 ] loss: 0.913 correct: 17472.000, total: 30000.000, accuracy: 0.582\n",
            "training epoch: [2 ] loss: 0.848 correct: 19539.000, total: 30000.000, accuracy: 0.651\n",
            "training epoch: [3 ] loss: 0.702 correct: 21198.000, total: 30000.000, accuracy: 0.707\n",
            "training epoch: [4 ] loss: 0.602 correct: 22527.000, total: 30000.000, accuracy: 0.751\n",
            "training epoch: [5 ] loss: 0.572 correct: 22984.000, total: 30000.000, accuracy: 0.766\n",
            "training epoch: [6 ] loss: 0.545 correct: 23373.000, total: 30000.000, accuracy: 0.779\n",
            "training epoch: [7 ] loss: 0.547 correct: 23286.000, total: 30000.000, accuracy: 0.776\n",
            "training epoch: [8 ] loss: 0.528 correct: 23578.000, total: 30000.000, accuracy: 0.786\n",
            "training epoch: [9 ] loss: 0.517 correct: 23709.000, total: 30000.000, accuracy: 0.790\n",
            "training epoch: [10 ] loss: 0.519 correct: 23710.000, total: 30000.000, accuracy: 0.790\n",
            "training epoch: [11 ] loss: 0.507 correct: 23860.000, total: 30000.000, accuracy: 0.795\n",
            "training epoch: [12 ] loss: 0.500 correct: 23985.000, total: 30000.000, accuracy: 0.799\n",
            "training epoch: [13 ] loss: 0.483 correct: 24257.000, total: 30000.000, accuracy: 0.809\n",
            "training epoch: [14 ] loss: 0.487 correct: 24233.000, total: 30000.000, accuracy: 0.808\n",
            "training epoch: [15 ] loss: 0.465 correct: 24534.000, total: 30000.000, accuracy: 0.818\n",
            "training epoch: [16 ] loss: 0.499 correct: 24215.000, total: 30000.000, accuracy: 0.807\n",
            "training epoch: [17 ] loss: 0.464 correct: 24660.000, total: 30000.000, accuracy: 0.822\n",
            "training epoch: [18 ] loss: 0.484 correct: 24481.000, total: 30000.000, accuracy: 0.816\n",
            "training epoch: [19 ] loss: 0.477 correct: 24595.000, total: 30000.000, accuracy: 0.820\n",
            "training epoch: [20 ] loss: 0.481 correct: 24602.000, total: 30000.000, accuracy: 0.820\n",
            "training epoch: [21 ] loss: 0.457 correct: 24933.000, total: 30000.000, accuracy: 0.831\n",
            "training epoch: [22 ] loss: 0.482 correct: 24749.000, total: 30000.000, accuracy: 0.825\n",
            "training epoch: [23 ] loss: 0.481 correct: 24918.000, total: 30000.000, accuracy: 0.831\n",
            "training epoch: [24 ] loss: 0.549 correct: 24094.000, total: 30000.000, accuracy: 0.803\n",
            "training epoch: [25 ] loss: 0.489 correct: 25003.000, total: 30000.000, accuracy: 0.833\n",
            "training epoch: [26 ] loss: 0.479 correct: 24912.000, total: 30000.000, accuracy: 0.830\n",
            "training epoch: [27 ] loss: 0.484 correct: 25064.000, total: 30000.000, accuracy: 0.835\n",
            "training epoch: [28 ] loss: 0.485 correct: 25124.000, total: 30000.000, accuracy: 0.837\n",
            "training epoch: [29 ] loss: 0.455 correct: 25247.000, total: 30000.000, accuracy: 0.842\n",
            "training epoch: [30 ] loss: 0.530 correct: 25110.000, total: 30000.000, accuracy: 0.837\n",
            "training epoch: [31 ] loss: 0.472 correct: 25236.000, total: 30000.000, accuracy: 0.841\n",
            "training epoch: [32 ] loss: 0.469 correct: 25303.000, total: 30000.000, accuracy: 0.843\n",
            "training epoch: [33 ] loss: 0.483 correct: 25223.000, total: 30000.000, accuracy: 0.841\n",
            "training epoch: [34 ] loss: 0.494 correct: 25302.000, total: 30000.000, accuracy: 0.843\n",
            "training epoch: [35 ] loss: 0.505 correct: 25431.000, total: 30000.000, accuracy: 0.848\n",
            "training epoch: [36 ] loss: 0.544 correct: 25076.000, total: 30000.000, accuracy: 0.836\n",
            "training epoch: [37 ] loss: 0.563 correct: 24844.000, total: 30000.000, accuracy: 0.828\n",
            "training epoch: [38 ] loss: 0.493 correct: 25457.000, total: 30000.000, accuracy: 0.849\n",
            "training epoch: [39 ] loss: 0.527 correct: 25350.000, total: 30000.000, accuracy: 0.845\n",
            "training epoch: [40 ] loss: 0.529 correct: 25486.000, total: 30000.000, accuracy: 0.850\n",
            "training epoch: [41 ] loss: 0.544 correct: 25489.000, total: 30000.000, accuracy: 0.850\n",
            "training epoch: [42 ] loss: 0.556 correct: 25317.000, total: 30000.000, accuracy: 0.844\n",
            "training epoch: [43 ] loss: 0.565 correct: 25348.000, total: 30000.000, accuracy: 0.845\n",
            "training epoch: [44 ] loss: 0.593 correct: 25309.000, total: 30000.000, accuracy: 0.844\n",
            "training epoch: [45 ] loss: 0.692 correct: 24972.000, total: 30000.000, accuracy: 0.832\n",
            "training epoch: [46 ] loss: 0.781 correct: 24756.000, total: 30000.000, accuracy: 0.825\n",
            "training epoch: [47 ] loss: 0.522 correct: 25420.000, total: 30000.000, accuracy: 0.847\n",
            "training epoch: [48 ] loss: 0.670 correct: 25062.000, total: 30000.000, accuracy: 0.835\n",
            "training epoch: [49 ] loss: 0.539 correct: 25473.000, total: 30000.000, accuracy: 0.849\n",
            "training epoch: [50 ] loss: 0.606 correct: 25388.000, total: 30000.000, accuracy: 0.846\n",
            "training epoch: [51 ] loss: 0.550 correct: 25454.000, total: 30000.000, accuracy: 0.848\n",
            "training epoch: [52 ] loss: 0.592 correct: 25382.000, total: 30000.000, accuracy: 0.846\n",
            "training epoch: [53 ] loss: 0.530 correct: 25599.000, total: 30000.000, accuracy: 0.853\n",
            "training epoch: [54 ] loss: 0.550 correct: 25709.000, total: 30000.000, accuracy: 0.857\n",
            "training epoch: [55 ] loss: 0.704 correct: 25157.000, total: 30000.000, accuracy: 0.839\n",
            "training epoch: [56 ] loss: 0.583 correct: 25525.000, total: 30000.000, accuracy: 0.851\n",
            "training epoch: [57 ] loss: 0.572 correct: 25560.000, total: 30000.000, accuracy: 0.852\n",
            "training epoch: [58 ] loss: 0.624 correct: 25395.000, total: 30000.000, accuracy: 0.847\n",
            "training epoch: [59 ] loss: 0.627 correct: 25509.000, total: 30000.000, accuracy: 0.850\n",
            "training epoch: [60 ] loss: 0.640 correct: 25445.000, total: 30000.000, accuracy: 0.848\n",
            "training epoch: [61 ] loss: 0.647 correct: 25185.000, total: 30000.000, accuracy: 0.840\n",
            "training epoch: [62 ] loss: 0.654 correct: 25553.000, total: 30000.000, accuracy: 0.852\n",
            "training epoch: [63 ] loss: 0.639 correct: 25542.000, total: 30000.000, accuracy: 0.851\n",
            "training epoch: [64 ] loss: 0.590 correct: 25706.000, total: 30000.000, accuracy: 0.857\n",
            "training epoch: [65 ] loss: 0.657 correct: 25484.000, total: 30000.000, accuracy: 0.849\n",
            "training epoch: [66 ] loss: 0.637 correct: 25559.000, total: 30000.000, accuracy: 0.852\n",
            "training epoch: [67 ] loss: 0.606 correct: 25571.000, total: 30000.000, accuracy: 0.852\n",
            "training epoch: [68 ] loss: 0.643 correct: 25625.000, total: 30000.000, accuracy: 0.854\n",
            "training epoch: [69 ] loss: 0.653 correct: 25591.000, total: 30000.000, accuracy: 0.853\n",
            "training epoch: [70 ] loss: 0.615 correct: 25538.000, total: 30000.000, accuracy: 0.851\n",
            "training epoch: [71 ] loss: 0.626 correct: 25686.000, total: 30000.000, accuracy: 0.856\n",
            "training epoch: [72 ] loss: 0.643 correct: 25748.000, total: 30000.000, accuracy: 0.858\n",
            "training epoch: [73 ] loss: 0.613 correct: 25767.000, total: 30000.000, accuracy: 0.859\n",
            "training epoch: [74 ] loss: 0.710 correct: 25524.000, total: 30000.000, accuracy: 0.851\n",
            "training epoch: [75 ] loss: 0.673 correct: 25484.000, total: 30000.000, accuracy: 0.849\n",
            "training epoch: [76 ] loss: 0.620 correct: 25596.000, total: 30000.000, accuracy: 0.853\n",
            "training epoch: [77 ] loss: 0.642 correct: 25557.000, total: 30000.000, accuracy: 0.852\n",
            "training epoch: [78 ] loss: 0.641 correct: 25574.000, total: 30000.000, accuracy: 0.852\n",
            "training epoch: [79 ] loss: 0.649 correct: 25692.000, total: 30000.000, accuracy: 0.856\n",
            "training epoch: [80 ] loss: 0.649 correct: 25691.000, total: 30000.000, accuracy: 0.856\n",
            "training epoch: [81 ] loss: 0.651 correct: 25704.000, total: 30000.000, accuracy: 0.857\n",
            "training epoch: [82 ] loss: 0.667 correct: 25707.000, total: 30000.000, accuracy: 0.857\n",
            "training epoch: [83 ] loss: 0.722 correct: 25671.000, total: 30000.000, accuracy: 0.856\n",
            "training epoch: [84 ] loss: 0.685 correct: 25510.000, total: 30000.000, accuracy: 0.850\n",
            "training epoch: [85 ] loss: 0.697 correct: 25820.000, total: 30000.000, accuracy: 0.861\n",
            "training epoch: [86 ] loss: 0.720 correct: 25446.000, total: 30000.000, accuracy: 0.848\n",
            "training epoch: [87 ] loss: 0.695 correct: 25752.000, total: 30000.000, accuracy: 0.858\n",
            "training epoch: [88 ] loss: 0.709 correct: 25614.000, total: 30000.000, accuracy: 0.854\n",
            "training epoch: [89 ] loss: 0.735 correct: 25548.000, total: 30000.000, accuracy: 0.852\n",
            "training epoch: [90 ] loss: 0.696 correct: 25431.000, total: 30000.000, accuracy: 0.848\n",
            "training epoch: [91 ] loss: 0.665 correct: 25814.000, total: 30000.000, accuracy: 0.860\n",
            "training epoch: [92 ] loss: 0.702 correct: 25693.000, total: 30000.000, accuracy: 0.856\n",
            "training epoch: [93 ] loss: 0.708 correct: 25689.000, total: 30000.000, accuracy: 0.856\n",
            "training epoch: [94 ] loss: 0.763 correct: 25665.000, total: 30000.000, accuracy: 0.856\n",
            "training epoch: [95 ] loss: 0.724 correct: 25612.000, total: 30000.000, accuracy: 0.854\n",
            "training epoch: [96 ] loss: 0.762 correct: 25520.000, total: 30000.000, accuracy: 0.851\n",
            "training epoch: [97 ] loss: 0.753 correct: 25561.000, total: 30000.000, accuracy: 0.852\n",
            "training epoch: [98 ] loss: 0.742 correct: 25553.000, total: 30000.000, accuracy: 0.852\n",
            "training epoch: [99 ] loss: 0.788 correct: 25487.000, total: 30000.000, accuracy: 0.850\n",
            "training epoch: [100 ] loss: 0.801 correct: 25530.000, total: 30000.000, accuracy: 0.851\n",
            "Finished Training run \n"
          ],
          "name": "stdout"
        }
      ]
    },
    {
      "cell_type": "code",
      "metadata": {
        "id": "AciJnAh5nfug"
      },
      "source": [
        "columns = [\"epochs\", \"argmax > 0.5\" ,\"argmax < 0.5\", \"focus_true_pred_true\", \"focus_false_pred_true\", \"focus_true_pred_false\", \"focus_false_pred_false\" ]\n",
        "df_train = pd.DataFrame()\n",
        "df_test = pd.DataFrame()\n",
        "df_train[columns[0]] = np.arange(0,epoch+2)\n",
        "df_train[columns[1]] = analysis_data_tr[:,-2]\n",
        "df_train[columns[2]] = analysis_data_tr[:,-1]\n",
        "df_train[columns[3]] = analysis_data_tr[:,0]\n",
        "df_train[columns[4]] = analysis_data_tr[:,1]\n",
        "df_train[columns[5]] = analysis_data_tr[:,2]\n",
        "df_train[columns[6]] = analysis_data_tr[:,3]"
      ],
      "execution_count": 18,
      "outputs": []
    },
    {
      "cell_type": "code",
      "metadata": {
        "id": "NoQpS_6scRsC",
        "colab": {
          "base_uri": "https://localhost:8080/",
          "height": 436
        },
        "outputId": "2a97b2dd-1bff-4d34-c8b4-e5c3b31fdac0"
      },
      "source": [
        "df_train"
      ],
      "execution_count": 19,
      "outputs": [
        {
          "output_type": "execute_result",
          "data": {
            "text/html": [
              "<div>\n",
              "<style scoped>\n",
              "    .dataframe tbody tr th:only-of-type {\n",
              "        vertical-align: middle;\n",
              "    }\n",
              "\n",
              "    .dataframe tbody tr th {\n",
              "        vertical-align: top;\n",
              "    }\n",
              "\n",
              "    .dataframe thead th {\n",
              "        text-align: right;\n",
              "    }\n",
              "</style>\n",
              "<table border=\"1\" class=\"dataframe\">\n",
              "  <thead>\n",
              "    <tr style=\"text-align: right;\">\n",
              "      <th></th>\n",
              "      <th>epochs</th>\n",
              "      <th>argmax &gt; 0.5</th>\n",
              "      <th>argmax &lt; 0.5</th>\n",
              "      <th>focus_true_pred_true</th>\n",
              "      <th>focus_false_pred_true</th>\n",
              "      <th>focus_true_pred_false</th>\n",
              "      <th>focus_false_pred_false</th>\n",
              "    </tr>\n",
              "  </thead>\n",
              "  <tbody>\n",
              "    <tr>\n",
              "      <th>0</th>\n",
              "      <td>0</td>\n",
              "      <td>2758</td>\n",
              "      <td>27242</td>\n",
              "      <td>1948</td>\n",
              "      <td>10071</td>\n",
              "      <td>1262</td>\n",
              "      <td>16719</td>\n",
              "    </tr>\n",
              "    <tr>\n",
              "      <th>1</th>\n",
              "      <td>1</td>\n",
              "      <td>13395</td>\n",
              "      <td>16605</td>\n",
              "      <td>3653</td>\n",
              "      <td>13819</td>\n",
              "      <td>1047</td>\n",
              "      <td>11481</td>\n",
              "    </tr>\n",
              "    <tr>\n",
              "      <th>2</th>\n",
              "      <td>2</td>\n",
              "      <td>27156</td>\n",
              "      <td>2844</td>\n",
              "      <td>6186</td>\n",
              "      <td>13353</td>\n",
              "      <td>849</td>\n",
              "      <td>9612</td>\n",
              "    </tr>\n",
              "    <tr>\n",
              "      <th>3</th>\n",
              "      <td>3</td>\n",
              "      <td>29749</td>\n",
              "      <td>251</td>\n",
              "      <td>7583</td>\n",
              "      <td>13615</td>\n",
              "      <td>637</td>\n",
              "      <td>8165</td>\n",
              "    </tr>\n",
              "    <tr>\n",
              "      <th>4</th>\n",
              "      <td>4</td>\n",
              "      <td>29911</td>\n",
              "      <td>89</td>\n",
              "      <td>8243</td>\n",
              "      <td>14284</td>\n",
              "      <td>397</td>\n",
              "      <td>7076</td>\n",
              "    </tr>\n",
              "    <tr>\n",
              "      <th>...</th>\n",
              "      <td>...</td>\n",
              "      <td>...</td>\n",
              "      <td>...</td>\n",
              "      <td>...</td>\n",
              "      <td>...</td>\n",
              "      <td>...</td>\n",
              "      <td>...</td>\n",
              "    </tr>\n",
              "    <tr>\n",
              "      <th>96</th>\n",
              "      <td>96</td>\n",
              "      <td>29929</td>\n",
              "      <td>71</td>\n",
              "      <td>8860</td>\n",
              "      <td>16660</td>\n",
              "      <td>318</td>\n",
              "      <td>4162</td>\n",
              "    </tr>\n",
              "    <tr>\n",
              "      <th>97</th>\n",
              "      <td>97</td>\n",
              "      <td>29931</td>\n",
              "      <td>69</td>\n",
              "      <td>8844</td>\n",
              "      <td>16717</td>\n",
              "      <td>339</td>\n",
              "      <td>4100</td>\n",
              "    </tr>\n",
              "    <tr>\n",
              "      <th>98</th>\n",
              "      <td>98</td>\n",
              "      <td>29930</td>\n",
              "      <td>70</td>\n",
              "      <td>8840</td>\n",
              "      <td>16713</td>\n",
              "      <td>340</td>\n",
              "      <td>4107</td>\n",
              "    </tr>\n",
              "    <tr>\n",
              "      <th>99</th>\n",
              "      <td>99</td>\n",
              "      <td>29931</td>\n",
              "      <td>69</td>\n",
              "      <td>8817</td>\n",
              "      <td>16670</td>\n",
              "      <td>360</td>\n",
              "      <td>4153</td>\n",
              "    </tr>\n",
              "    <tr>\n",
              "      <th>100</th>\n",
              "      <td>100</td>\n",
              "      <td>29930</td>\n",
              "      <td>70</td>\n",
              "      <td>8827</td>\n",
              "      <td>16703</td>\n",
              "      <td>350</td>\n",
              "      <td>4120</td>\n",
              "    </tr>\n",
              "  </tbody>\n",
              "</table>\n",
              "<p>101 rows × 7 columns</p>\n",
              "</div>"
            ],
            "text/plain": [
              "     epochs  argmax > 0.5  ...  focus_true_pred_false  focus_false_pred_false\n",
              "0         0          2758  ...                   1262                   16719\n",
              "1         1         13395  ...                   1047                   11481\n",
              "2         2         27156  ...                    849                    9612\n",
              "3         3         29749  ...                    637                    8165\n",
              "4         4         29911  ...                    397                    7076\n",
              "..      ...           ...  ...                    ...                     ...\n",
              "96       96         29929  ...                    318                    4162\n",
              "97       97         29931  ...                    339                    4100\n",
              "98       98         29930  ...                    340                    4107\n",
              "99       99         29931  ...                    360                    4153\n",
              "100     100         29930  ...                    350                    4120\n",
              "\n",
              "[101 rows x 7 columns]"
            ]
          },
          "metadata": {
            "tags": []
          },
          "execution_count": 19
        }
      ]
    },
    {
      "cell_type": "code",
      "metadata": {
        "id": "IMAhRdxOcVf6",
        "colab": {
          "base_uri": "https://localhost:8080/",
          "height": 730
        },
        "outputId": "3f11f84c-f45c-4064-cfc0-f2bfde9533f0"
      },
      "source": [
        "fig= plt.figure(figsize=(12,12))\n",
        "plt.plot(df_train[columns[0]],df_train[columns[3]]/300, label =\"focus_true_pred_true \")\n",
        "plt.plot(df_train[columns[0]],df_train[columns[4]]/300, label =\"focus_false_pred_true \")\n",
        "plt.plot(df_train[columns[0]],df_train[columns[5]]/300, label =\"focus_true_pred_false \")\n",
        "plt.plot(df_train[columns[0]],df_train[columns[6]]/300, label =\"focus_false_pred_false \")\n",
        "plt.title(\"On Train set\")\n",
        "plt.legend(loc='center left', bbox_to_anchor=(1, 0.5))\n",
        "plt.xlabel(\"epochs\")\n",
        "plt.ylabel(\"percentage of data\")\n",
        "#plt.vlines(vline_list,min(min(df_train[columns[3]]/300),min(df_train[columns[4]]/300),min(df_train[columns[5]]/300),min(df_train[columns[6]]/300)), max(max(df_train[columns[3]]/300),max(df_train[columns[4]]/300),max(df_train[columns[5]]/300),max(df_train[columns[6]]/300)),linestyles='dotted')\n",
        "plt.show()\n",
        "fig.savefig(\"train_analysis.pdf\")\n",
        "fig.savefig(\"train_analysis.png\")"
      ],
      "execution_count": 20,
      "outputs": [
        {
          "output_type": "display_data",
          "data": {
            "image/png": "[encoded data removed]",
            "text/plain": [
              "<Figure size 864x864 with 1 Axes>"
            ]
          },
          "metadata": {
            "tags": [],
            "needs_background": "light"
          }
        }
      ]
    },
    {
      "cell_type": "code",
      "metadata": {
        "id": "VCnS6r2_3WdU"
      },
      "source": [
        "aph = []\n",
        "for i in bg:\n",
        "  aph.append(F.softmax(i,dim=1).detach().numpy())\n",
        "  \n",
        "aph = np.concatenate(aph,axis=0)\n",
        "torch.save({\n",
        "            'epoch': 500,\n",
        "            'model_state_dict': what_net.state_dict(),\n",
        "            #'optimizer_state_dict': optimizer_what.state_dict(),\n",
        "            \"optimizer_alpha\":optim1,\n",
        "            \"FTPT_analysis\":analysis_data_tr,\n",
        "            \"alpha\":aph\n",
        "\n",
        "            }, \"cifar_what_net_500.pt\")"
      ],
      "execution_count": 21,
      "outputs": []
    },
    {
      "cell_type": "code",
      "metadata": {
        "id": "KVzrDOGS4UxU",
        "colab": {
          "base_uri": "https://localhost:8080/"
        },
        "outputId": "17558afe-61fc-46f0-b95c-67fec3e294ec"
      },
      "source": [
        "aph"
      ],
      "execution_count": 22,
      "outputs": [
        {
          "output_type": "execute_result",
          "data": {
            "text/plain": [
              "array([[9.9997926e-01, 5.2187288e-16, 1.3071874e-15, ..., 1.2037506e-15,\n",
              "        1.9956563e-16, 2.0424266e-05],\n",
              "       [8.7475122e-08, 1.7747909e-11, 1.7019918e-11, ..., 9.7691317e-12,\n",
              "        3.2353295e-12, 2.2958556e-12],\n",
              "       [5.3406586e-14, 3.6347471e-14, 3.1182285e-14, ..., 4.2191880e-14,\n",
              "        2.7192380e-14, 1.9757898e-10],\n",
              "       ...,\n",
              "       [2.9803192e-02, 3.9372258e-10, 3.0173997e-14, ..., 1.0828537e-14,\n",
              "        1.5559313e-14, 9.7019684e-01],\n",
              "       [2.9493937e-15, 7.9094734e-15, 1.0959616e-15, ..., 1.3142896e-14,\n",
              "        9.9999559e-01, 8.4541845e-16],\n",
              "       [1.6951202e-16, 2.6569289e-12, 1.0954860e-06, ..., 3.2698987e-16,\n",
              "        5.9876873e-12, 3.1528411e-12]], dtype=float32)"
            ]
          },
          "metadata": {
            "tags": []
          },
          "execution_count": 22
        }
      ]
    },
    {
      "cell_type": "code",
      "metadata": {
        "id": "Z6heHND15EMz"
      },
      "source": [
        "running_loss_tr,anls_data,correct,total,accuracy = calculate_attn_loss(train_loader,what_net,criterion)"
      ],
      "execution_count": 23,
      "outputs": []
    },
    {
      "cell_type": "code",
      "metadata": {
        "id": "zeKhsdpYWQvB",
        "colab": {
          "base_uri": "https://localhost:8080/"
        },
        "outputId": "84339629-8954-486d-f199-e26f9a9dfa66"
      },
      "source": [
        "print(\"argmax>0.5\",anls_data[-2])"
      ],
      "execution_count": 24,
      "outputs": [
        {
          "output_type": "stream",
          "text": [
            "argmax>0.5 29930\n"
          ],
          "name": "stdout"
        }
      ]
    },
    {
      "cell_type": "code",
      "metadata": {
        "id": "yF2bvWdIWUTa"
      },
      "source": [
        ""
      ],
      "execution_count": 24,
      "outputs": []
    }
  ]
}