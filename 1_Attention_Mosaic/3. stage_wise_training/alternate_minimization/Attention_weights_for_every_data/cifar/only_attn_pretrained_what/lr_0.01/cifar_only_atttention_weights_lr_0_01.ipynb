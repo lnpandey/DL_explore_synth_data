{
  "nbformat": 4,
  "nbformat_minor": 0,
  "metadata": {
    "accelerator": "GPU",
    "colab": {
      "name": "cifar_only_atttention_weights_lr_0_01.ipynb",
      "provenance": [],
      "collapsed_sections": []
    },
    "kernelspec": {
      "display_name": "Python 3",
      "name": "python3"
    },
    "language_info": {
      "name": "python"
    }
  },
  "cells": [
    {
      "cell_type": "code",
      "metadata": {
        "id": "BWIyC9Ip_bcq"
      },
      "source": [
        "import numpy as np\n",
        "import pandas as pd\n",
        "\n",
        "import torch\n",
        "import torchvision\n",
        "from torch.utils.data import Dataset, DataLoader\n",
        "from torchvision import transforms, utils\n",
        "import torch.nn as nn\n",
        "import torch.nn.functional as F\n",
        "import torch.optim as optim\n",
        "\n",
        "from matplotlib import pyplot as plt\n",
        "%matplotlib inline\n",
        "torch.backends.cudnn.deterministic = True\n",
        "torch.backends.cudnn.benchmark = False"
      ],
      "execution_count": 1,
      "outputs": []
    },
    {
      "cell_type": "code",
      "metadata": {
        "colab": {
          "base_uri": "https://localhost:8080/"
        },
        "id": "cgw1f4rVkGr9",
        "outputId": "dfa42141-8302-4715-825f-8a905b4427e8"
      },
      "source": [
        "transform = transforms.Compose(\n",
        "    [transforms.ToTensor(),\n",
        "     transforms.Normalize((0.5, 0.5, 0.5), (0.5, 0.5, 0.5))])\n",
        "\n",
        "trainset = torchvision.datasets.CIFAR10(root='./data', train=True, download=True, transform=transform)"
      ],
      "execution_count": 2,
      "outputs": [
        {
          "output_type": "stream",
          "text": [
            "Files already downloaded and verified\n"
          ],
          "name": "stdout"
        }
      ]
    },
    {
      "cell_type": "code",
      "metadata": {
        "id": "D-xlWYTKkQEn"
      },
      "source": [
        "trainloader = torch.utils.data.DataLoader(trainset, batch_size=10, shuffle=False)\n",
        "\n",
        "\n",
        "classes = ('plane', 'car', 'bird', 'cat', 'deer', 'dog', 'frog', 'horse', 'ship', 'truck')\n",
        "\n",
        "foreground_classes = {'plane', 'car', 'bird'}\n",
        "#foreground_classes = {'bird', 'cat', 'deer'}\n",
        "background_classes = {'cat', 'deer', 'dog', 'frog', 'horse', 'ship', 'truck'}\n",
        "#background_classes = {'plane', 'car', 'dog', 'frog', 'horse','ship', 'truck'}\n",
        "\n",
        "fg1,fg2,fg3 = 0,1,2"
      ],
      "execution_count": 3,
      "outputs": []
    },
    {
      "cell_type": "code",
      "metadata": {
        "id": "zrX68qhikUbz"
      },
      "source": [
        "dataiter = iter(trainloader)\n",
        "background_data=[]\n",
        "background_label=[]\n",
        "foreground_data=[]\n",
        "foreground_label=[]\n",
        "batch_size=10\n",
        "\n",
        "for i in range(5000):\n",
        "  images, labels = dataiter.next()\n",
        "  for j in range(batch_size):\n",
        "    if(classes[labels[j]] in background_classes):\n",
        "      img = images[j].tolist()\n",
        "      background_data.append(img)\n",
        "      background_label.append(labels[j])\n",
        "    else:\n",
        "      img = images[j].tolist()\n",
        "      foreground_data.append(img)\n",
        "      foreground_label.append(labels[j])\n",
        "            \n",
        "foreground_data = torch.tensor(foreground_data)\n",
        "foreground_label = torch.tensor(foreground_label)\n",
        "background_data = torch.tensor(background_data)\n",
        "background_label = torch.tensor(background_label)"
      ],
      "execution_count": 4,
      "outputs": []
    },
    {
      "cell_type": "code",
      "metadata": {
        "id": "eD-QJkvnkgyk"
      },
      "source": [
        "def create_mosaic_img(bg_idx,fg_idx,fg): \n",
        "  \"\"\"\n",
        "  bg_idx : list of indexes of background_data[] to be used as background images in mosaic\n",
        "  fg_idx : index of image to be used as foreground image from foreground data\n",
        "  fg : at what position/index foreground image has to be stored out of 0-8\n",
        "  \"\"\"\n",
        "  image_list=[]\n",
        "  j=0\n",
        "  for i in range(9):\n",
        "    if i != fg:\n",
        "      image_list.append(background_data[bg_idx[j]])#.type(\"torch.DoubleTensor\"))\n",
        "      j+=1\n",
        "    else: \n",
        "      image_list.append(foreground_data[fg_idx])#.type(\"torch.DoubleTensor\"))\n",
        "      label = foreground_label[fg_idx]-fg1  # minus 7 because our fore ground classes are 7,8,9 but we have to store it as 0,1,2\n",
        "  #image_list = np.concatenate(image_list ,axis=0)\n",
        "  image_list = torch.stack(image_list) \n",
        "  return image_list,label"
      ],
      "execution_count": 5,
      "outputs": []
    },
    {
      "cell_type": "code",
      "metadata": {
        "id": "Zs10rfXHkli2"
      },
      "source": [
        "desired_num = 30000\n",
        "mosaic_list_of_images =[]      # list of mosaic images, each mosaic image is saved as list of 9 images\n",
        "fore_idx =[]                   # list of indexes at which foreground image is present in a mosaic image i.e from 0 to 9               \n",
        "mosaic_label=[]                # label of mosaic image = foreground class present in that mosaic\n",
        "for i in range(desired_num):\n",
        "  np.random.seed(i)\n",
        "  bg_idx = np.random.randint(0,35000,8)\n",
        "  fg_idx = np.random.randint(0,15000)\n",
        "  fg = np.random.randint(0,9)\n",
        "  fore_idx.append(fg)\n",
        "  image_list,label = create_mosaic_img(bg_idx,fg_idx,fg)\n",
        "  mosaic_list_of_images.append(image_list)\n",
        "  mosaic_label.append(label)"
      ],
      "execution_count": 6,
      "outputs": []
    },
    {
      "cell_type": "code",
      "metadata": {
        "id": "7km9Swb1kq4O"
      },
      "source": [
        "class MosaicDataset(Dataset):\n",
        "  \"\"\"MosaicDataset dataset.\"\"\"\n",
        "\n",
        "  def __init__(self, mosaic_list_of_images, mosaic_label, fore_idx):\n",
        "    \"\"\"\n",
        "      Args:\n",
        "        csv_file (string): Path to the csv file with annotations.\n",
        "        root_dir (string): Directory with all the images.\n",
        "        transform (callable, optional): Optional transform to be applied\n",
        "            on a sample.\n",
        "    \"\"\"\n",
        "    self.mosaic = mosaic_list_of_images\n",
        "    self.label = mosaic_label\n",
        "    self.fore_idx = fore_idx\n",
        "\n",
        "  def __len__(self):\n",
        "    return len(self.label)\n",
        "\n",
        "  def __getitem__(self, idx):\n",
        "    return self.mosaic[idx] , self.label[idx], self.fore_idx[idx]\n",
        "batch = 250\n",
        "msd = MosaicDataset(mosaic_list_of_images, mosaic_label , fore_idx)\n",
        "train_loader = DataLoader( msd,batch_size= batch ,shuffle=False,num_workers=0,)"
      ],
      "execution_count": 7,
      "outputs": []
    },
    {
      "cell_type": "code",
      "metadata": {
        "id": "lGVy-1EllAc_"
      },
      "source": [
        "data,labels,fg_index = iter(train_loader).next()"
      ],
      "execution_count": 8,
      "outputs": []
    },
    {
      "cell_type": "code",
      "metadata": {
        "id": "DOpZfj1bq7wN"
      },
      "source": [
        "bg = []\n",
        "for i in range(120):\n",
        "  torch.manual_seed(i)\n",
        "  betag = torch.randn(250,9)#torch.ones((250,9))/9\n",
        "  a=bg.append( betag.requires_grad_() )"
      ],
      "execution_count": 9,
      "outputs": []
    },
    {
      "cell_type": "code",
      "metadata": {
        "id": "HbrMidFCla6h"
      },
      "source": [
        "class Module2(nn.Module):\n",
        "  def __init__(self):\n",
        "    super(Module2, self).__init__()\n",
        "    \n",
        "    self.conv1 = nn.Conv2d(3, 6, 5)\n",
        "    self.pool = nn.MaxPool2d(2, 2)\n",
        "    self.conv2 = nn.Conv2d(6, 16, 5)\n",
        "    self.fc1 = nn.Linear(16 * 5 * 5, 120)\n",
        "    self.fc2 = nn.Linear(120, 84)\n",
        "    self.fc3 = nn.Linear(84, 10)\n",
        "    self.fc4 = nn.Linear(10,3)\n",
        "\n",
        "  def forward(self,y):  #z batch of list of 9 images\n",
        "    y1 = self.pool(F.relu(self.conv1(y)))\n",
        "    y1 = self.pool(F.relu(self.conv2(y1)))\n",
        "    y1 = y1.view(-1, 16 * 5 * 5)\n",
        "\n",
        "    y1 = F.relu(self.fc1(y1))\n",
        "    y1 = F.relu(self.fc2(y1))\n",
        "    y1 = F.relu(self.fc3(y1))\n",
        "    y1 = self.fc4(y1)\n",
        "    return y1"
      ],
      "execution_count": 10,
      "outputs": []
    },
    {
      "cell_type": "code",
      "metadata": {
        "id": "rRqj2VELllkX"
      },
      "source": [
        "torch.manual_seed(1234)\n",
        "what_net = Module2().double()\n",
        "\n",
        "what_net.load_state_dict(torch.load(\"simultaneous_what.pt\"))\n",
        "what_net = what_net.to(\"cuda\")"
      ],
      "execution_count": 11,
      "outputs": []
    },
    {
      "cell_type": "code",
      "metadata": {
        "id": "6d8Wch99l4yB"
      },
      "source": [
        "def attn_avg(x,beta):\n",
        "  y = torch.zeros([batch,3, 32,32], dtype=torch.float64)\n",
        "  y = y.to(\"cuda\")\n",
        "  alpha = F.softmax(beta,dim=1)   # alphas\n",
        "  for i in range(9):            \n",
        "    alpha1 = alpha[:,i]          \n",
        "    y = y + torch.mul(alpha1[:,None,None,None],x[:,i])\n",
        "  return y,alpha\n"
      ],
      "execution_count": 12,
      "outputs": []
    },
    {
      "cell_type": "code",
      "metadata": {
        "id": "Rz1Kpw12loV6"
      },
      "source": [
        "def calculate_attn_loss(dataloader,what,criter):\n",
        "  what.eval()\n",
        "  r_loss = 0\n",
        "  alphas = []\n",
        "  lbls = []\n",
        "  pred = []\n",
        "  fidices = []\n",
        "  correct = 0\n",
        "  tot = 0\n",
        "  with torch.no_grad():\n",
        "    for i, data in enumerate(dataloader, 0):\n",
        "      inputs, labels,fidx= data\n",
        "      lbls.append(labels)\n",
        "      fidices.append(fidx)\n",
        "      inputs = inputs.double()\n",
        "      beta = bg[i]  # alpha for ith batch\n",
        "      inputs, labels,beta = inputs.to(\"cuda\"),labels.to(\"cuda\"),beta.to(\"cuda\")\n",
        "      avg,alpha = attn_avg(inputs,beta)\n",
        "      alpha = alpha.to(\"cuda\")\n",
        "      outputs = what(avg)\n",
        "      _, predicted = torch.max(outputs.data, 1)\n",
        "      correct += sum(predicted == labels)\n",
        "      tot += len(predicted)\n",
        "      pred.append(predicted.cpu().numpy())\n",
        "      alphas.append(alpha.cpu().numpy())\n",
        "      loss = criter(outputs, labels)\n",
        "      r_loss += loss.item()\n",
        "  alphas = np.concatenate(alphas,axis=0)\n",
        "  pred = np.concatenate(pred,axis=0)\n",
        "  lbls = np.concatenate(lbls,axis=0)\n",
        "  fidices = np.concatenate(fidices,axis=0)\n",
        "  #print(alphas.shape,pred.shape,lbls.shape,fidices.shape) \n",
        "  analysis = analyse_data(alphas,lbls,pred,fidices)\n",
        "  return r_loss/i,analysis,correct.item(),tot,correct.item()/tot"
      ],
      "execution_count": 13,
      "outputs": []
    },
    {
      "cell_type": "code",
      "metadata": {
        "id": "sAY-x6UAwrwE"
      },
      "source": [
        "for param in what_net.parameters():\n",
        "    param.requires_grad = False"
      ],
      "execution_count": 14,
      "outputs": []
    },
    {
      "cell_type": "code",
      "metadata": {
        "id": "_toCktPanH0S"
      },
      "source": [
        "\n",
        "def analyse_data(alphas,lbls,predicted,f_idx):\n",
        "    '''\n",
        "       analysis data is created here\n",
        "    '''\n",
        "    batch = len(predicted)\n",
        "    amth,alth,ftpt,ffpt,ftpf,ffpf = 0,0,0,0,0,0\n",
        "    for j in range (batch):\n",
        "      focus = np.argmax(alphas[j])\n",
        "      if(alphas[j][focus] >= 0.5):\n",
        "        amth +=1\n",
        "      else:\n",
        "        alth +=1\n",
        "      if(focus == f_idx[j] and predicted[j] == lbls[j]):\n",
        "        ftpt += 1\n",
        "      elif(focus != f_idx[j] and predicted[j] == lbls[j]):\n",
        "        ffpt +=1\n",
        "      elif(focus == f_idx[j] and predicted[j] != lbls[j]):\n",
        "        ftpf +=1\n",
        "      elif(focus != f_idx[j] and predicted[j] != lbls[j]):\n",
        "        ffpf +=1\n",
        "    #print(sum(predicted==lbls),ftpt+ffpt)\n",
        "    return [ftpt,ffpt,ftpf,ffpf,amth,alth]"
      ],
      "execution_count": 15,
      "outputs": []
    },
    {
      "cell_type": "code",
      "metadata": {
        "id": "S633XgMToeN3"
      },
      "source": [
        "optim1 = []\n",
        "for i in range(120):\n",
        "  optim1.append(optim.RMSprop([bg[i]], lr=0.01))"
      ],
      "execution_count": 16,
      "outputs": []
    },
    {
      "cell_type": "code",
      "metadata": {
        "colab": {
          "base_uri": "https://localhost:8080/"
        },
        "id": "qPaYaojinMTA",
        "outputId": "e8443086-c56d-4e53-ae91-a052d3c7aaba"
      },
      "source": [
        "# instantiate optimizer\n",
        "#optimizer_what = optim.RMSprop(what_net.parameters(), lr=0.001)#, momentum=0.9)#,nesterov=True)\n",
        "\n",
        "\n",
        " \n",
        "\n",
        "\n",
        "criterion = nn.CrossEntropyLoss()\n",
        "acti = []\n",
        "analysis_data_tr = []\n",
        "analysis_data_tst = []\n",
        "loss_curi_tr = []\n",
        "loss_curi_tst = []\n",
        "epochs = 100\n",
        "\n",
        "\n",
        "# calculate zeroth epoch loss and FTPT values\n",
        "running_loss,anlys_data,correct,total,accuracy = calculate_attn_loss(train_loader,what_net,criterion)\n",
        "print('training epoch: [%d ] loss: %.3f correct: %.3f, total: %.3f, accuracy: %.3f' %(0,running_loss,correct,total,accuracy)) \n",
        "loss_curi_tr.append(running_loss)\n",
        "analysis_data_tr.append(anlys_data)\n",
        "\n",
        "\n",
        "\n",
        "\n",
        "# training starts \n",
        "for epoch in range(epochs): # loop over the dataset multiple times\n",
        "  ep_lossi = []\n",
        "  running_loss = 0.0\n",
        "  #what_net.train()\n",
        "  for i, data in enumerate(train_loader, 0):\n",
        "    # get the inputs\n",
        "    inputs, labels,_  = data\n",
        "    inputs = inputs.double()\n",
        "    beta = bg[i] # alpha for ith batch\n",
        "    inputs, labels,beta = inputs.to(\"cuda\"),labels.to(\"cuda\"),beta.to(\"cuda\")\n",
        "        \n",
        "    # zero the parameter gradients\n",
        "    #optimizer_what.zero_grad()\n",
        "    optim1[i].zero_grad()\n",
        "      \n",
        "    # forward + backward + optimize\n",
        "    avg,alpha = attn_avg(inputs,beta)\n",
        "    outputs = what_net(avg)     \n",
        "    loss = criterion(outputs, labels)\n",
        "\n",
        "    # print statistics\n",
        "    running_loss += loss.item()\n",
        "    #alpha.retain_grad()\n",
        "    loss.backward(retain_graph=False)\n",
        "    #optimizer_what.step()\n",
        "    optim1[i].step()\n",
        "\n",
        "\n",
        "  running_loss_tr,anls_data,correct,total,accuracy = calculate_attn_loss(train_loader,what_net,criterion)\n",
        "  analysis_data_tr.append(anls_data)\n",
        "  loss_curi_tr.append(running_loss_tr)   #loss per epoch\n",
        "  print('training epoch: [%d ] loss: %.3f correct: %.3f, total: %.3f, accuracy: %.3f' %(epoch+1,running_loss_tr,correct,total,accuracy)) \n",
        "\n",
        "\n",
        "  \n",
        "  if running_loss_tr<=0.08:\n",
        "    break\n",
        "print('Finished Training run ')\n",
        "analysis_data_tr = np.array(analysis_data_tr)\n",
        "\n"
      ],
      "execution_count": 17,
      "outputs": [
        {
          "output_type": "stream",
          "text": [
            "training epoch: [0 ] loss: 3.138 correct: 12019.000, total: 30000.000, accuracy: 0.401\n",
            "training epoch: [1 ] loss: 2.478 correct: 14513.000, total: 30000.000, accuracy: 0.484\n",
            "training epoch: [2 ] loss: 2.075 correct: 16198.000, total: 30000.000, accuracy: 0.540\n",
            "training epoch: [3 ] loss: 1.800 correct: 17452.000, total: 30000.000, accuracy: 0.582\n",
            "training epoch: [4 ] loss: 1.597 correct: 18406.000, total: 30000.000, accuracy: 0.614\n",
            "training epoch: [5 ] loss: 1.439 correct: 19205.000, total: 30000.000, accuracy: 0.640\n",
            "training epoch: [6 ] loss: 1.311 correct: 19916.000, total: 30000.000, accuracy: 0.664\n",
            "training epoch: [7 ] loss: 1.205 correct: 20535.000, total: 30000.000, accuracy: 0.684\n",
            "training epoch: [8 ] loss: 1.116 correct: 21063.000, total: 30000.000, accuracy: 0.702\n",
            "training epoch: [9 ] loss: 1.042 correct: 21541.000, total: 30000.000, accuracy: 0.718\n",
            "training epoch: [10 ] loss: 0.977 correct: 21946.000, total: 30000.000, accuracy: 0.732\n",
            "training epoch: [11 ] loss: 0.920 correct: 22329.000, total: 30000.000, accuracy: 0.744\n",
            "training epoch: [12 ] loss: 0.869 correct: 22666.000, total: 30000.000, accuracy: 0.756\n",
            "training epoch: [13 ] loss: 0.826 correct: 22993.000, total: 30000.000, accuracy: 0.766\n",
            "training epoch: [14 ] loss: 0.787 correct: 23270.000, total: 30000.000, accuracy: 0.776\n",
            "training epoch: [15 ] loss: 0.752 correct: 23509.000, total: 30000.000, accuracy: 0.784\n",
            "training epoch: [16 ] loss: 0.719 correct: 23730.000, total: 30000.000, accuracy: 0.791\n",
            "training epoch: [17 ] loss: 0.690 correct: 23980.000, total: 30000.000, accuracy: 0.799\n",
            "training epoch: [18 ] loss: 0.664 correct: 24195.000, total: 30000.000, accuracy: 0.806\n",
            "training epoch: [19 ] loss: 0.640 correct: 24364.000, total: 30000.000, accuracy: 0.812\n",
            "training epoch: [20 ] loss: 0.618 correct: 24547.000, total: 30000.000, accuracy: 0.818\n",
            "training epoch: [21 ] loss: 0.597 correct: 24707.000, total: 30000.000, accuracy: 0.824\n",
            "training epoch: [22 ] loss: 0.578 correct: 24867.000, total: 30000.000, accuracy: 0.829\n",
            "training epoch: [23 ] loss: 0.560 correct: 25018.000, total: 30000.000, accuracy: 0.834\n",
            "training epoch: [24 ] loss: 0.544 correct: 25153.000, total: 30000.000, accuracy: 0.838\n",
            "training epoch: [25 ] loss: 0.528 correct: 25294.000, total: 30000.000, accuracy: 0.843\n",
            "training epoch: [26 ] loss: 0.514 correct: 25428.000, total: 30000.000, accuracy: 0.848\n",
            "training epoch: [27 ] loss: 0.501 correct: 25527.000, total: 30000.000, accuracy: 0.851\n",
            "training epoch: [28 ] loss: 0.488 correct: 25650.000, total: 30000.000, accuracy: 0.855\n",
            "training epoch: [29 ] loss: 0.476 correct: 25752.000, total: 30000.000, accuracy: 0.858\n",
            "training epoch: [30 ] loss: 0.465 correct: 25834.000, total: 30000.000, accuracy: 0.861\n",
            "training epoch: [31 ] loss: 0.455 correct: 25920.000, total: 30000.000, accuracy: 0.864\n",
            "training epoch: [32 ] loss: 0.445 correct: 26003.000, total: 30000.000, accuracy: 0.867\n",
            "training epoch: [33 ] loss: 0.436 correct: 26097.000, total: 30000.000, accuracy: 0.870\n",
            "training epoch: [34 ] loss: 0.427 correct: 26178.000, total: 30000.000, accuracy: 0.873\n",
            "training epoch: [35 ] loss: 0.419 correct: 26252.000, total: 30000.000, accuracy: 0.875\n",
            "training epoch: [36 ] loss: 0.410 correct: 26320.000, total: 30000.000, accuracy: 0.877\n",
            "training epoch: [37 ] loss: 0.402 correct: 26390.000, total: 30000.000, accuracy: 0.880\n",
            "training epoch: [38 ] loss: 0.395 correct: 26449.000, total: 30000.000, accuracy: 0.882\n",
            "training epoch: [39 ] loss: 0.388 correct: 26510.000, total: 30000.000, accuracy: 0.884\n",
            "training epoch: [40 ] loss: 0.381 correct: 26579.000, total: 30000.000, accuracy: 0.886\n",
            "training epoch: [41 ] loss: 0.374 correct: 26642.000, total: 30000.000, accuracy: 0.888\n",
            "training epoch: [42 ] loss: 0.368 correct: 26684.000, total: 30000.000, accuracy: 0.889\n",
            "training epoch: [43 ] loss: 0.362 correct: 26727.000, total: 30000.000, accuracy: 0.891\n",
            "training epoch: [44 ] loss: 0.357 correct: 26774.000, total: 30000.000, accuracy: 0.892\n",
            "training epoch: [45 ] loss: 0.351 correct: 26825.000, total: 30000.000, accuracy: 0.894\n",
            "training epoch: [46 ] loss: 0.346 correct: 26870.000, total: 30000.000, accuracy: 0.896\n",
            "training epoch: [47 ] loss: 0.341 correct: 26909.000, total: 30000.000, accuracy: 0.897\n",
            "training epoch: [48 ] loss: 0.336 correct: 26963.000, total: 30000.000, accuracy: 0.899\n",
            "training epoch: [49 ] loss: 0.331 correct: 26993.000, total: 30000.000, accuracy: 0.900\n",
            "training epoch: [50 ] loss: 0.327 correct: 27031.000, total: 30000.000, accuracy: 0.901\n",
            "training epoch: [51 ] loss: 0.322 correct: 27073.000, total: 30000.000, accuracy: 0.902\n",
            "training epoch: [52 ] loss: 0.318 correct: 27115.000, total: 30000.000, accuracy: 0.904\n",
            "training epoch: [53 ] loss: 0.314 correct: 27159.000, total: 30000.000, accuracy: 0.905\n",
            "training epoch: [54 ] loss: 0.310 correct: 27198.000, total: 30000.000, accuracy: 0.907\n",
            "training epoch: [55 ] loss: 0.307 correct: 27236.000, total: 30000.000, accuracy: 0.908\n",
            "training epoch: [56 ] loss: 0.303 correct: 27257.000, total: 30000.000, accuracy: 0.909\n",
            "training epoch: [57 ] loss: 0.299 correct: 27290.000, total: 30000.000, accuracy: 0.910\n",
            "training epoch: [58 ] loss: 0.296 correct: 27312.000, total: 30000.000, accuracy: 0.910\n",
            "training epoch: [59 ] loss: 0.292 correct: 27335.000, total: 30000.000, accuracy: 0.911\n",
            "training epoch: [60 ] loss: 0.289 correct: 27364.000, total: 30000.000, accuracy: 0.912\n",
            "training epoch: [61 ] loss: 0.286 correct: 27405.000, total: 30000.000, accuracy: 0.913\n",
            "training epoch: [62 ] loss: 0.282 correct: 27427.000, total: 30000.000, accuracy: 0.914\n",
            "training epoch: [63 ] loss: 0.279 correct: 27452.000, total: 30000.000, accuracy: 0.915\n",
            "training epoch: [64 ] loss: 0.276 correct: 27483.000, total: 30000.000, accuracy: 0.916\n",
            "training epoch: [65 ] loss: 0.274 correct: 27510.000, total: 30000.000, accuracy: 0.917\n",
            "training epoch: [66 ] loss: 0.271 correct: 27532.000, total: 30000.000, accuracy: 0.918\n",
            "training epoch: [67 ] loss: 0.268 correct: 27559.000, total: 30000.000, accuracy: 0.919\n",
            "training epoch: [68 ] loss: 0.265 correct: 27576.000, total: 30000.000, accuracy: 0.919\n",
            "training epoch: [69 ] loss: 0.263 correct: 27591.000, total: 30000.000, accuracy: 0.920\n",
            "training epoch: [70 ] loss: 0.260 correct: 27615.000, total: 30000.000, accuracy: 0.920\n",
            "training epoch: [71 ] loss: 0.258 correct: 27643.000, total: 30000.000, accuracy: 0.921\n",
            "training epoch: [72 ] loss: 0.255 correct: 27666.000, total: 30000.000, accuracy: 0.922\n",
            "training epoch: [73 ] loss: 0.253 correct: 27688.000, total: 30000.000, accuracy: 0.923\n",
            "training epoch: [74 ] loss: 0.251 correct: 27711.000, total: 30000.000, accuracy: 0.924\n",
            "training epoch: [75 ] loss: 0.249 correct: 27732.000, total: 30000.000, accuracy: 0.924\n",
            "training epoch: [76 ] loss: 0.247 correct: 27762.000, total: 30000.000, accuracy: 0.925\n",
            "training epoch: [77 ] loss: 0.245 correct: 27777.000, total: 30000.000, accuracy: 0.926\n",
            "training epoch: [78 ] loss: 0.243 correct: 27804.000, total: 30000.000, accuracy: 0.927\n",
            "training epoch: [79 ] loss: 0.241 correct: 27816.000, total: 30000.000, accuracy: 0.927\n",
            "training epoch: [80 ] loss: 0.239 correct: 27834.000, total: 30000.000, accuracy: 0.928\n",
            "training epoch: [81 ] loss: 0.237 correct: 27850.000, total: 30000.000, accuracy: 0.928\n",
            "training epoch: [82 ] loss: 0.235 correct: 27874.000, total: 30000.000, accuracy: 0.929\n",
            "training epoch: [83 ] loss: 0.233 correct: 27889.000, total: 30000.000, accuracy: 0.930\n",
            "training epoch: [84 ] loss: 0.231 correct: 27911.000, total: 30000.000, accuracy: 0.930\n",
            "training epoch: [85 ] loss: 0.230 correct: 27925.000, total: 30000.000, accuracy: 0.931\n",
            "training epoch: [86 ] loss: 0.228 correct: 27942.000, total: 30000.000, accuracy: 0.931\n",
            "training epoch: [87 ] loss: 0.226 correct: 27952.000, total: 30000.000, accuracy: 0.932\n",
            "training epoch: [88 ] loss: 0.225 correct: 27968.000, total: 30000.000, accuracy: 0.932\n",
            "training epoch: [89 ] loss: 0.223 correct: 27980.000, total: 30000.000, accuracy: 0.933\n",
            "training epoch: [90 ] loss: 0.222 correct: 28006.000, total: 30000.000, accuracy: 0.934\n",
            "training epoch: [91 ] loss: 0.220 correct: 28011.000, total: 30000.000, accuracy: 0.934\n",
            "training epoch: [92 ] loss: 0.219 correct: 28032.000, total: 30000.000, accuracy: 0.934\n",
            "training epoch: [93 ] loss: 0.217 correct: 28035.000, total: 30000.000, accuracy: 0.934\n",
            "training epoch: [94 ] loss: 0.216 correct: 28063.000, total: 30000.000, accuracy: 0.935\n",
            "training epoch: [95 ] loss: 0.214 correct: 28071.000, total: 30000.000, accuracy: 0.936\n",
            "training epoch: [96 ] loss: 0.213 correct: 28091.000, total: 30000.000, accuracy: 0.936\n",
            "training epoch: [97 ] loss: 0.212 correct: 28108.000, total: 30000.000, accuracy: 0.937\n",
            "training epoch: [98 ] loss: 0.210 correct: 28123.000, total: 30000.000, accuracy: 0.937\n",
            "training epoch: [99 ] loss: 0.209 correct: 28133.000, total: 30000.000, accuracy: 0.938\n",
            "training epoch: [100 ] loss: 0.208 correct: 28146.000, total: 30000.000, accuracy: 0.938\n",
            "Finished Training run \n"
          ],
          "name": "stdout"
        }
      ]
    },
    {
      "cell_type": "code",
      "metadata": {
        "id": "AciJnAh5nfug"
      },
      "source": [
        "columns = [\"epochs\", \"argmax > 0.5\" ,\"argmax < 0.5\", \"focus_true_pred_true\", \"focus_false_pred_true\", \"focus_true_pred_false\", \"focus_false_pred_false\" ]\n",
        "df_train = pd.DataFrame()\n",
        "df_test = pd.DataFrame()\n",
        "df_train[columns[0]] = np.arange(0,epoch+2)\n",
        "df_train[columns[1]] = analysis_data_tr[:,-2]\n",
        "df_train[columns[2]] = analysis_data_tr[:,-1]\n",
        "df_train[columns[3]] = analysis_data_tr[:,0]\n",
        "df_train[columns[4]] = analysis_data_tr[:,1]\n",
        "df_train[columns[5]] = analysis_data_tr[:,2]\n",
        "df_train[columns[6]] = analysis_data_tr[:,3]"
      ],
      "execution_count": 18,
      "outputs": []
    },
    {
      "cell_type": "code",
      "metadata": {
        "colab": {
          "base_uri": "https://localhost:8080/",
          "height": 436
        },
        "id": "NoQpS_6scRsC",
        "outputId": "83de67af-23da-420d-c9d7-34c23b7575c1"
      },
      "source": [
        "df_train"
      ],
      "execution_count": 19,
      "outputs": [
        {
          "output_type": "execute_result",
          "data": {
            "text/html": [
              "<div>\n",
              "<style scoped>\n",
              "    .dataframe tbody tr th:only-of-type {\n",
              "        vertical-align: middle;\n",
              "    }\n",
              "\n",
              "    .dataframe tbody tr th {\n",
              "        vertical-align: top;\n",
              "    }\n",
              "\n",
              "    .dataframe thead th {\n",
              "        text-align: right;\n",
              "    }\n",
              "</style>\n",
              "<table border=\"1\" class=\"dataframe\">\n",
              "  <thead>\n",
              "    <tr style=\"text-align: right;\">\n",
              "      <th></th>\n",
              "      <th>epochs</th>\n",
              "      <th>argmax &gt; 0.5</th>\n",
              "      <th>argmax &lt; 0.5</th>\n",
              "      <th>focus_true_pred_true</th>\n",
              "      <th>focus_false_pred_true</th>\n",
              "      <th>focus_true_pred_false</th>\n",
              "      <th>focus_false_pred_false</th>\n",
              "    </tr>\n",
              "  </thead>\n",
              "  <tbody>\n",
              "    <tr>\n",
              "      <th>0</th>\n",
              "      <td>0</td>\n",
              "      <td>2758</td>\n",
              "      <td>27242</td>\n",
              "      <td>1948</td>\n",
              "      <td>10071</td>\n",
              "      <td>1262</td>\n",
              "      <td>16719</td>\n",
              "    </tr>\n",
              "    <tr>\n",
              "      <th>1</th>\n",
              "      <td>1</td>\n",
              "      <td>2820</td>\n",
              "      <td>27180</td>\n",
              "      <td>2454</td>\n",
              "      <td>12059</td>\n",
              "      <td>1098</td>\n",
              "      <td>14389</td>\n",
              "    </tr>\n",
              "    <tr>\n",
              "      <th>2</th>\n",
              "      <td>2</td>\n",
              "      <td>2838</td>\n",
              "      <td>27162</td>\n",
              "      <td>2750</td>\n",
              "      <td>13448</td>\n",
              "      <td>962</td>\n",
              "      <td>12840</td>\n",
              "    </tr>\n",
              "    <tr>\n",
              "      <th>3</th>\n",
              "      <td>3</td>\n",
              "      <td>2890</td>\n",
              "      <td>27110</td>\n",
              "      <td>2991</td>\n",
              "      <td>14461</td>\n",
              "      <td>831</td>\n",
              "      <td>11717</td>\n",
              "    </tr>\n",
              "    <tr>\n",
              "      <th>4</th>\n",
              "      <td>4</td>\n",
              "      <td>2934</td>\n",
              "      <td>27066</td>\n",
              "      <td>3163</td>\n",
              "      <td>15243</td>\n",
              "      <td>761</td>\n",
              "      <td>10833</td>\n",
              "    </tr>\n",
              "    <tr>\n",
              "      <th>...</th>\n",
              "      <td>...</td>\n",
              "      <td>...</td>\n",
              "      <td>...</td>\n",
              "      <td>...</td>\n",
              "      <td>...</td>\n",
              "      <td>...</td>\n",
              "      <td>...</td>\n",
              "    </tr>\n",
              "    <tr>\n",
              "      <th>96</th>\n",
              "      <td>96</td>\n",
              "      <td>3860</td>\n",
              "      <td>26140</td>\n",
              "      <td>4854</td>\n",
              "      <td>23237</td>\n",
              "      <td>50</td>\n",
              "      <td>1859</td>\n",
              "    </tr>\n",
              "    <tr>\n",
              "      <th>97</th>\n",
              "      <td>97</td>\n",
              "      <td>3864</td>\n",
              "      <td>26136</td>\n",
              "      <td>4860</td>\n",
              "      <td>23248</td>\n",
              "      <td>51</td>\n",
              "      <td>1841</td>\n",
              "    </tr>\n",
              "    <tr>\n",
              "      <th>98</th>\n",
              "      <td>98</td>\n",
              "      <td>3868</td>\n",
              "      <td>26132</td>\n",
              "      <td>4867</td>\n",
              "      <td>23256</td>\n",
              "      <td>50</td>\n",
              "      <td>1827</td>\n",
              "    </tr>\n",
              "    <tr>\n",
              "      <th>99</th>\n",
              "      <td>99</td>\n",
              "      <td>3871</td>\n",
              "      <td>26129</td>\n",
              "      <td>4869</td>\n",
              "      <td>23264</td>\n",
              "      <td>50</td>\n",
              "      <td>1817</td>\n",
              "    </tr>\n",
              "    <tr>\n",
              "      <th>100</th>\n",
              "      <td>100</td>\n",
              "      <td>3886</td>\n",
              "      <td>26114</td>\n",
              "      <td>4877</td>\n",
              "      <td>23269</td>\n",
              "      <td>50</td>\n",
              "      <td>1804</td>\n",
              "    </tr>\n",
              "  </tbody>\n",
              "</table>\n",
              "<p>101 rows × 7 columns</p>\n",
              "</div>"
            ],
            "text/plain": [
              "     epochs  argmax > 0.5  ...  focus_true_pred_false  focus_false_pred_false\n",
              "0         0          2758  ...                   1262                   16719\n",
              "1         1          2820  ...                   1098                   14389\n",
              "2         2          2838  ...                    962                   12840\n",
              "3         3          2890  ...                    831                   11717\n",
              "4         4          2934  ...                    761                   10833\n",
              "..      ...           ...  ...                    ...                     ...\n",
              "96       96          3860  ...                     50                    1859\n",
              "97       97          3864  ...                     51                    1841\n",
              "98       98          3868  ...                     50                    1827\n",
              "99       99          3871  ...                     50                    1817\n",
              "100     100          3886  ...                     50                    1804\n",
              "\n",
              "[101 rows x 7 columns]"
            ]
          },
          "metadata": {
            "tags": []
          },
          "execution_count": 19
        }
      ]
    },
    {
      "cell_type": "code",
      "metadata": {
        "colab": {
          "base_uri": "https://localhost:8080/",
          "height": 730
        },
        "id": "IMAhRdxOcVf6",
        "outputId": "680b236a-ac63-4dcc-82a1-549e32ca8b45"
      },
      "source": [
        "fig= plt.figure(figsize=(12,12))\n",
        "plt.plot(df_train[columns[0]],df_train[columns[3]]/300, label =\"focus_true_pred_true \")\n",
        "plt.plot(df_train[columns[0]],df_train[columns[4]]/300, label =\"focus_false_pred_true \")\n",
        "plt.plot(df_train[columns[0]],df_train[columns[5]]/300, label =\"focus_true_pred_false \")\n",
        "plt.plot(df_train[columns[0]],df_train[columns[6]]/300, label =\"focus_false_pred_false \")\n",
        "plt.title(\"On Train set\")\n",
        "plt.legend(loc='center left', bbox_to_anchor=(1, 0.5))\n",
        "plt.xlabel(\"epochs\")\n",
        "plt.ylabel(\"percentage of data\")\n",
        "#plt.vlines(vline_list,min(min(df_train[columns[3]]/300),min(df_train[columns[4]]/300),min(df_train[columns[5]]/300),min(df_train[columns[6]]/300)), max(max(df_train[columns[3]]/300),max(df_train[columns[4]]/300),max(df_train[columns[5]]/300),max(df_train[columns[6]]/300)),linestyles='dotted')\n",
        "plt.show()\n",
        "fig.savefig(\"train_analysis.pdf\")\n",
        "fig.savefig(\"train_analysis.png\")"
      ],
      "execution_count": 20,
      "outputs": [
        {
          "output_type": "display_data",
          "data": {
            "image/png": "[encoded data removed]",
            "text/plain": [
              "<Figure size 864x864 with 1 Axes>"
            ]
          },
          "metadata": {
            "tags": [],
            "needs_background": "light"
          }
        }
      ]
    },
    {
      "cell_type": "code",
      "metadata": {
        "id": "VCnS6r2_3WdU"
      },
      "source": [
        "aph = []\n",
        "for i in bg:\n",
        "  aph.append(F.softmax(i,dim=1).detach().numpy())\n",
        "  \n",
        "aph = np.concatenate(aph,axis=0)\n",
        "torch.save({\n",
        "            'epoch': 500,\n",
        "            'model_state_dict': what_net.state_dict(),\n",
        "            #'optimizer_state_dict': optimizer_what.state_dict(),\n",
        "            \"optimizer_alpha\":optim1,\n",
        "            \"FTPT_analysis\":analysis_data_tr,\n",
        "            \"alpha\":aph\n",
        "\n",
        "            }, \"cifar_what_net_500.pt\")"
      ],
      "execution_count": 21,
      "outputs": []
    },
    {
      "cell_type": "code",
      "metadata": {
        "colab": {
          "base_uri": "https://localhost:8080/"
        },
        "id": "KVzrDOGS4UxU",
        "outputId": "ca7fa885-bc1d-4fb4-b1e8-6f50994bd49e"
      },
      "source": [
        "aph"
      ],
      "execution_count": 22,
      "outputs": [
        {
          "output_type": "execute_result",
          "data": {
            "text/plain": [
              "array([[0.02207142, 0.06944381, 0.15471062, ..., 0.08201723, 0.00602179,\n",
              "        0.04118558],\n",
              "       [0.0172679 , 0.09414865, 0.05915243, ..., 0.03819299, 0.01466378,\n",
              "        0.00972899],\n",
              "       [0.07159681, 0.10247384, 0.06876823, ..., 0.09447487, 0.02223527,\n",
              "        0.04062273],\n",
              "       ...,\n",
              "       [0.12214373, 0.12723137, 0.03326098, ..., 0.07453806, 0.17669511,\n",
              "        0.25834525],\n",
              "       [0.12296274, 0.39918673, 0.03187   , ..., 0.05677249, 0.10318914,\n",
              "        0.00398629],\n",
              "       [0.13873357, 0.06312823, 0.08110378, ..., 0.20528655, 0.11797412,\n",
              "        0.09610391]], dtype=float32)"
            ]
          },
          "metadata": {
            "tags": []
          },
          "execution_count": 22
        }
      ]
    },
    {
      "cell_type": "code",
      "metadata": {
        "id": "Z6heHND15EMz"
      },
      "source": [
        "running_loss_tr,anls_data,correct,total,accuracy = calculate_attn_loss(train_loader,what_net,criterion)"
      ],
      "execution_count": 23,
      "outputs": []
    },
    {
      "cell_type": "code",
      "metadata": {
        "colab": {
          "base_uri": "https://localhost:8080/"
        },
        "id": "zeKhsdpYWQvB",
        "outputId": "e1a08d6a-2b99-4ea6-a800-42fcad587b36"
      },
      "source": [
        "print(\"argmax>0.5\",anls_data[-2])"
      ],
      "execution_count": 24,
      "outputs": [
        {
          "output_type": "stream",
          "text": [
            "argmax>0.5 3886\n"
          ],
          "name": "stdout"
        }
      ]
    },
    {
      "cell_type": "code",
      "metadata": {
        "id": "yF2bvWdIWUTa"
      },
      "source": [
        ""
      ],
      "execution_count": 24,
      "outputs": []
    }
  ]
}