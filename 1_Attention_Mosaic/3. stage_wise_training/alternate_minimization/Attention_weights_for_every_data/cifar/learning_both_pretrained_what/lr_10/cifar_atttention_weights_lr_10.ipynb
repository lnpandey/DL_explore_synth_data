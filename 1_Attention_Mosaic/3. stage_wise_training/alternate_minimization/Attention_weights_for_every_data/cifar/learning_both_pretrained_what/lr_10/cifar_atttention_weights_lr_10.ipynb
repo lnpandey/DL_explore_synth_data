{
  "nbformat": 4,
  "nbformat_minor": 0,
  "metadata": {
    "accelerator": "GPU",
    "colab": {
      "name": "cifar_atttention_weights_lr_10.ipynb",
      "provenance": [],
      "collapsed_sections": []
    },
    "kernelspec": {
      "display_name": "Python 3",
      "name": "python3"
    },
    "language_info": {
      "name": "python"
    }
  },
  "cells": [
    {
      "cell_type": "code",
      "metadata": {
        "id": "BWIyC9Ip_bcq"
      },
      "source": [
        "import numpy as np\n",
        "import pandas as pd\n",
        "\n",
        "import torch\n",
        "import torchvision\n",
        "from torch.utils.data import Dataset, DataLoader\n",
        "from torchvision import transforms, utils\n",
        "import torch.nn as nn\n",
        "import torch.nn.functional as F\n",
        "import torch.optim as optim\n",
        "\n",
        "from matplotlib import pyplot as plt\n",
        "%matplotlib inline\n",
        "torch.backends.cudnn.deterministic = True\n",
        "torch.backends.cudnn.benchmark = False"
      ],
      "execution_count": 1,
      "outputs": []
    },
    {
      "cell_type": "code",
      "metadata": {
        "colab": {
          "base_uri": "https://localhost:8080/"
        },
        "id": "cgw1f4rVkGr9",
        "outputId": "95c33707-5c2a-41b9-979b-8ece9d9692c2"
      },
      "source": [
        "transform = transforms.Compose(\n",
        "    [transforms.ToTensor(),\n",
        "     transforms.Normalize((0.5, 0.5, 0.5), (0.5, 0.5, 0.5))])\n",
        "\n",
        "trainset = torchvision.datasets.CIFAR10(root='./data', train=True, download=True, transform=transform)"
      ],
      "execution_count": 2,
      "outputs": [
        {
          "output_type": "stream",
          "text": [
            "Files already downloaded and verified\n"
          ],
          "name": "stdout"
        }
      ]
    },
    {
      "cell_type": "code",
      "metadata": {
        "id": "D-xlWYTKkQEn"
      },
      "source": [
        "trainloader = torch.utils.data.DataLoader(trainset, batch_size=10, shuffle=False)\n",
        "\n",
        "\n",
        "classes = ('plane', 'car', 'bird', 'cat', 'deer', 'dog', 'frog', 'horse', 'ship', 'truck')\n",
        "\n",
        "foreground_classes = {'plane', 'car', 'bird'}\n",
        "#foreground_classes = {'bird', 'cat', 'deer'}\n",
        "background_classes = {'cat', 'deer', 'dog', 'frog', 'horse', 'ship', 'truck'}\n",
        "#background_classes = {'plane', 'car', 'dog', 'frog', 'horse','ship', 'truck'}\n",
        "\n",
        "fg1,fg2,fg3 = 0,1,2"
      ],
      "execution_count": 3,
      "outputs": []
    },
    {
      "cell_type": "code",
      "metadata": {
        "id": "zrX68qhikUbz"
      },
      "source": [
        "dataiter = iter(trainloader)\n",
        "background_data=[]\n",
        "background_label=[]\n",
        "foreground_data=[]\n",
        "foreground_label=[]\n",
        "batch_size=10\n",
        "\n",
        "for i in range(5000):\n",
        "  images, labels = dataiter.next()\n",
        "  for j in range(batch_size):\n",
        "    if(classes[labels[j]] in background_classes):\n",
        "      img = images[j].tolist()\n",
        "      background_data.append(img)\n",
        "      background_label.append(labels[j])\n",
        "    else:\n",
        "      img = images[j].tolist()\n",
        "      foreground_data.append(img)\n",
        "      foreground_label.append(labels[j])\n",
        "            \n",
        "foreground_data = torch.tensor(foreground_data)\n",
        "foreground_label = torch.tensor(foreground_label)\n",
        "background_data = torch.tensor(background_data)\n",
        "background_label = torch.tensor(background_label)"
      ],
      "execution_count": 4,
      "outputs": []
    },
    {
      "cell_type": "code",
      "metadata": {
        "id": "eD-QJkvnkgyk"
      },
      "source": [
        "def create_mosaic_img(bg_idx,fg_idx,fg): \n",
        "  \"\"\"\n",
        "  bg_idx : list of indexes of background_data[] to be used as background images in mosaic\n",
        "  fg_idx : index of image to be used as foreground image from foreground data\n",
        "  fg : at what position/index foreground image has to be stored out of 0-8\n",
        "  \"\"\"\n",
        "  image_list=[]\n",
        "  j=0\n",
        "  for i in range(9):\n",
        "    if i != fg:\n",
        "      image_list.append(background_data[bg_idx[j]])#.type(\"torch.DoubleTensor\"))\n",
        "      j+=1\n",
        "    else: \n",
        "      image_list.append(foreground_data[fg_idx])#.type(\"torch.DoubleTensor\"))\n",
        "      label = foreground_label[fg_idx]-fg1  # minus 7 because our fore ground classes are 7,8,9 but we have to store it as 0,1,2\n",
        "  #image_list = np.concatenate(image_list ,axis=0)\n",
        "  image_list = torch.stack(image_list) \n",
        "  return image_list,label"
      ],
      "execution_count": 5,
      "outputs": []
    },
    {
      "cell_type": "code",
      "metadata": {
        "id": "Zs10rfXHkli2"
      },
      "source": [
        "desired_num = 30000\n",
        "mosaic_list_of_images =[]      # list of mosaic images, each mosaic image is saved as list of 9 images\n",
        "fore_idx =[]                   # list of indexes at which foreground image is present in a mosaic image i.e from 0 to 9               \n",
        "mosaic_label=[]                # label of mosaic image = foreground class present in that mosaic\n",
        "for i in range(desired_num):\n",
        "  np.random.seed(i)\n",
        "  bg_idx = np.random.randint(0,35000,8)\n",
        "  fg_idx = np.random.randint(0,15000)\n",
        "  fg = np.random.randint(0,9)\n",
        "  fore_idx.append(fg)\n",
        "  image_list,label = create_mosaic_img(bg_idx,fg_idx,fg)\n",
        "  mosaic_list_of_images.append(image_list)\n",
        "  mosaic_label.append(label)"
      ],
      "execution_count": 6,
      "outputs": []
    },
    {
      "cell_type": "code",
      "metadata": {
        "id": "7km9Swb1kq4O"
      },
      "source": [
        "class MosaicDataset(Dataset):\n",
        "  \"\"\"MosaicDataset dataset.\"\"\"\n",
        "\n",
        "  def __init__(self, mosaic_list_of_images, mosaic_label, fore_idx):\n",
        "    \"\"\"\n",
        "      Args:\n",
        "        csv_file (string): Path to the csv file with annotations.\n",
        "        root_dir (string): Directory with all the images.\n",
        "        transform (callable, optional): Optional transform to be applied\n",
        "            on a sample.\n",
        "    \"\"\"\n",
        "    self.mosaic = mosaic_list_of_images\n",
        "    self.label = mosaic_label\n",
        "    self.fore_idx = fore_idx\n",
        "\n",
        "  def __len__(self):\n",
        "    return len(self.label)\n",
        "\n",
        "  def __getitem__(self, idx):\n",
        "    return self.mosaic[idx] , self.label[idx], self.fore_idx[idx]\n",
        "batch = 250\n",
        "msd = MosaicDataset(mosaic_list_of_images, mosaic_label , fore_idx)\n",
        "train_loader = DataLoader( msd,batch_size= batch ,shuffle=False,num_workers=0,)"
      ],
      "execution_count": 7,
      "outputs": []
    },
    {
      "cell_type": "code",
      "metadata": {
        "id": "lGVy-1EllAc_"
      },
      "source": [
        "data,labels,fg_index = iter(train_loader).next()"
      ],
      "execution_count": 8,
      "outputs": []
    },
    {
      "cell_type": "code",
      "metadata": {
        "id": "DOpZfj1bq7wN"
      },
      "source": [
        "bg = []\n",
        "for i in range(120):\n",
        "  torch.manual_seed(i)\n",
        "  betag = torch.randn(250,9)#torch.ones((250,9))/9\n",
        "  a=bg.append( betag.requires_grad_() )"
      ],
      "execution_count": 9,
      "outputs": []
    },
    {
      "cell_type": "code",
      "metadata": {
        "id": "HbrMidFCla6h"
      },
      "source": [
        "class Module2(nn.Module):\n",
        "  def __init__(self):\n",
        "    super(Module2, self).__init__()\n",
        "    \n",
        "    self.conv1 = nn.Conv2d(3, 6, 5)\n",
        "    self.pool = nn.MaxPool2d(2, 2)\n",
        "    self.conv2 = nn.Conv2d(6, 16, 5)\n",
        "    self.fc1 = nn.Linear(16 * 5 * 5, 120)\n",
        "    self.fc2 = nn.Linear(120, 84)\n",
        "    self.fc3 = nn.Linear(84, 10)\n",
        "    self.fc4 = nn.Linear(10,3)\n",
        "\n",
        "  def forward(self,y):  #z batch of list of 9 images\n",
        "    y1 = self.pool(F.relu(self.conv1(y)))\n",
        "    y1 = self.pool(F.relu(self.conv2(y1)))\n",
        "    y1 = y1.view(-1, 16 * 5 * 5)\n",
        "\n",
        "    y1 = F.relu(self.fc1(y1))\n",
        "    y1 = F.relu(self.fc2(y1))\n",
        "    y1 = F.relu(self.fc3(y1))\n",
        "    y1 = self.fc4(y1)\n",
        "    return y1"
      ],
      "execution_count": 10,
      "outputs": []
    },
    {
      "cell_type": "code",
      "metadata": {
        "id": "rRqj2VELllkX"
      },
      "source": [
        "torch.manual_seed(1234)\n",
        "what_net = Module2().double()\n",
        "\n",
        "what_net.load_state_dict(torch.load(\"simultaneous_what.pt\"))\n",
        "what_net = what_net.to(\"cuda\")"
      ],
      "execution_count": 11,
      "outputs": []
    },
    {
      "cell_type": "code",
      "metadata": {
        "id": "6d8Wch99l4yB"
      },
      "source": [
        "def attn_avg(x,beta):\n",
        "  y = torch.zeros([batch,3, 32,32], dtype=torch.float64)\n",
        "  y = y.to(\"cuda\")\n",
        "  alpha = F.softmax(beta,dim=1)   # alphas\n",
        "  for i in range(9):            \n",
        "    alpha1 = alpha[:,i]          \n",
        "    y = y + torch.mul(alpha1[:,None,None,None],x[:,i])\n",
        "  return y,alpha"
      ],
      "execution_count": 12,
      "outputs": []
    },
    {
      "cell_type": "code",
      "metadata": {
        "id": "Rz1Kpw12loV6"
      },
      "source": [
        "def calculate_attn_loss(dataloader,what,criter):\n",
        "  what.eval()\n",
        "  r_loss = 0\n",
        "  alphas = []\n",
        "  lbls = []\n",
        "  pred = []\n",
        "  fidices = []\n",
        "  correct = 0\n",
        "  tot = 0\n",
        "  with torch.no_grad():\n",
        "    for i, data in enumerate(dataloader, 0):\n",
        "      inputs, labels,fidx= data\n",
        "      lbls.append(labels)\n",
        "      fidices.append(fidx)\n",
        "      inputs = inputs.double()\n",
        "      beta = bg[i]  # alpha for ith batch\n",
        "      inputs, labels,beta = inputs.to(\"cuda\"),labels.to(\"cuda\"),beta.to(\"cuda\")\n",
        "      avg,alpha = attn_avg(inputs,beta)\n",
        "      alpha = alpha.to(\"cuda\")\n",
        "      outputs = what(avg)\n",
        "      _, predicted = torch.max(outputs.data, 1)\n",
        "      correct += sum(predicted == labels)\n",
        "      tot += len(predicted)\n",
        "      pred.append(predicted.cpu().numpy())\n",
        "      alphas.append(alpha.cpu().numpy())\n",
        "      loss = criter(outputs, labels)\n",
        "      r_loss += loss.item()\n",
        "  alphas = np.concatenate(alphas,axis=0)\n",
        "  pred = np.concatenate(pred,axis=0)\n",
        "  lbls = np.concatenate(lbls,axis=0)\n",
        "  fidices = np.concatenate(fidices,axis=0)\n",
        "  #print(alphas.shape,pred.shape,lbls.shape,fidices.shape) \n",
        "  analysis = analyse_data(alphas,lbls,pred,fidices)\n",
        "  return r_loss/i,analysis,correct.item(),tot,correct.item()/tot"
      ],
      "execution_count": 13,
      "outputs": []
    },
    {
      "cell_type": "code",
      "metadata": {
        "id": "sAY-x6UAwrwE"
      },
      "source": [
        "# for param in what_net.parameters():\n",
        "#     param.requires_grad = False"
      ],
      "execution_count": 14,
      "outputs": []
    },
    {
      "cell_type": "code",
      "metadata": {
        "id": "_toCktPanH0S"
      },
      "source": [
        "def analyse_data(alphas,lbls,predicted,f_idx):\n",
        "    '''\n",
        "       analysis data is created here\n",
        "    '''\n",
        "    batch = len(predicted)\n",
        "    amth,alth,ftpt,ffpt,ftpf,ffpf = 0,0,0,0,0,0\n",
        "    for j in range (batch):\n",
        "      focus = np.argmax(alphas[j])\n",
        "      if(alphas[j][focus] >= 0.5):\n",
        "        amth +=1\n",
        "      else:\n",
        "        alth +=1\n",
        "      if(focus == f_idx[j] and predicted[j] == lbls[j]):\n",
        "        ftpt += 1\n",
        "      elif(focus != f_idx[j] and predicted[j] == lbls[j]):\n",
        "        ffpt +=1\n",
        "      elif(focus == f_idx[j] and predicted[j] != lbls[j]):\n",
        "        ftpf +=1\n",
        "      elif(focus != f_idx[j] and predicted[j] != lbls[j]):\n",
        "        ffpf +=1\n",
        "    #print(sum(predicted==lbls),ftpt+ffpt)\n",
        "    return [ftpt,ffpt,ftpf,ffpf,amth,alth]"
      ],
      "execution_count": 15,
      "outputs": []
    },
    {
      "cell_type": "code",
      "metadata": {
        "id": "S633XgMToeN3"
      },
      "source": [
        "optim1 = []\n",
        "for i in range(120):\n",
        "  optim1.append(optim.RMSprop([bg[i]], lr=10))"
      ],
      "execution_count": 16,
      "outputs": []
    },
    {
      "cell_type": "code",
      "metadata": {
        "colab": {
          "base_uri": "https://localhost:8080/"
        },
        "id": "qPaYaojinMTA",
        "outputId": "3ba92d7c-234e-4e85-d9d9-1ae068c5fcc0"
      },
      "source": [
        "# instantiate optimizer\n",
        "optimizer_what = optim.RMSprop(what_net.parameters(), lr=0.001)#, momentum=0.9)#,nesterov=True)\n",
        "\n",
        "\n",
        " \n",
        "\n",
        "\n",
        "criterion = nn.CrossEntropyLoss()\n",
        "acti = []\n",
        "analysis_data_tr = []\n",
        "analysis_data_tst = []\n",
        "loss_curi_tr = []\n",
        "loss_curi_tst = []\n",
        "epochs = 100\n",
        "\n",
        "\n",
        "# calculate zeroth epoch loss and FTPT values\n",
        "running_loss,anlys_data,correct,total,accuracy = calculate_attn_loss(train_loader,what_net,criterion)\n",
        "print('training epoch: [%d ] loss: %.3f correct: %.3f, total: %.3f, accuracy: %.3f' %(0,running_loss,correct,total,accuracy)) \n",
        "loss_curi_tr.append(running_loss)\n",
        "analysis_data_tr.append(anlys_data)\n",
        "\n",
        "\n",
        "\n",
        "\n",
        "# training starts \n",
        "for epoch in range(epochs): # loop over the dataset multiple times\n",
        "  ep_lossi = []\n",
        "  running_loss = 0.0\n",
        "  what_net.train()\n",
        "  for i, data in enumerate(train_loader, 0):\n",
        "    # get the inputs\n",
        "    inputs, labels,_  = data\n",
        "    inputs = inputs.double()\n",
        "    beta = bg[i] # alpha for ith batch\n",
        "    inputs, labels,beta = inputs.to(\"cuda\"),labels.to(\"cuda\"),beta.to(\"cuda\")\n",
        "        \n",
        "    # zero the parameter gradients\n",
        "    optimizer_what.zero_grad()\n",
        "    optim1[i].zero_grad()\n",
        "      \n",
        "    # forward + backward + optimize\n",
        "    avg,alpha = attn_avg(inputs,beta)\n",
        "    outputs = what_net(avg)     \n",
        "    loss = criterion(outputs, labels)\n",
        "\n",
        "    # print statistics\n",
        "    running_loss += loss.item()\n",
        "    #alpha.retain_grad()\n",
        "    loss.backward(retain_graph=False)\n",
        "    optimizer_what.step()\n",
        "    optim1[i].step()\n",
        "\n",
        "\n",
        "  running_loss_tr,anls_data,correct,total,accuracy = calculate_attn_loss(train_loader,what_net,criterion)\n",
        "  analysis_data_tr.append(anls_data)\n",
        "  loss_curi_tr.append(running_loss_tr)   #loss per epoch\n",
        "  print('training epoch: [%d ] loss: %.3f correct: %.3f, total: %.3f, accuracy: %.3f' %(epoch+1,running_loss_tr,correct,total,accuracy)) \n",
        "\n",
        "\n",
        "  \n",
        "  if running_loss_tr<=0.08:\n",
        "    break\n",
        "print('Finished Training run ')\n",
        "analysis_data_tr = np.array(analysis_data_tr)\n",
        "\n"
      ],
      "execution_count": 17,
      "outputs": [
        {
          "output_type": "stream",
          "text": [
            "training epoch: [0 ] loss: 3.138 correct: 12019.000, total: 30000.000, accuracy: 0.401\n",
            "training epoch: [1 ] loss: 0.913 correct: 17389.000, total: 30000.000, accuracy: 0.580\n",
            "training epoch: [2 ] loss: 0.992 correct: 18138.000, total: 30000.000, accuracy: 0.605\n",
            "training epoch: [3 ] loss: 0.744 correct: 20190.000, total: 30000.000, accuracy: 0.673\n",
            "training epoch: [4 ] loss: 0.719 correct: 20623.000, total: 30000.000, accuracy: 0.687\n",
            "training epoch: [5 ] loss: 0.703 correct: 20872.000, total: 30000.000, accuracy: 0.696\n",
            "training epoch: [6 ] loss: 0.690 correct: 21133.000, total: 30000.000, accuracy: 0.704\n",
            "training epoch: [7 ] loss: 0.668 correct: 21418.000, total: 30000.000, accuracy: 0.714\n",
            "training epoch: [8 ] loss: 0.660 correct: 21554.000, total: 30000.000, accuracy: 0.718\n",
            "training epoch: [9 ] loss: 0.644 correct: 21788.000, total: 30000.000, accuracy: 0.726\n",
            "training epoch: [10 ] loss: 0.642 correct: 21866.000, total: 30000.000, accuracy: 0.729\n",
            "training epoch: [11 ] loss: 0.627 correct: 22017.000, total: 30000.000, accuracy: 0.734\n",
            "training epoch: [12 ] loss: 0.614 correct: 22203.000, total: 30000.000, accuracy: 0.740\n",
            "training epoch: [13 ] loss: 0.624 correct: 22136.000, total: 30000.000, accuracy: 0.738\n",
            "training epoch: [14 ] loss: 0.606 correct: 22387.000, total: 30000.000, accuracy: 0.746\n",
            "training epoch: [15 ] loss: 0.610 correct: 22413.000, total: 30000.000, accuracy: 0.747\n",
            "training epoch: [16 ] loss: 0.573 correct: 22847.000, total: 30000.000, accuracy: 0.762\n",
            "training epoch: [17 ] loss: 0.594 correct: 22691.000, total: 30000.000, accuracy: 0.756\n",
            "training epoch: [18 ] loss: 0.599 correct: 22771.000, total: 30000.000, accuracy: 0.759\n",
            "training epoch: [19 ] loss: 0.605 correct: 22757.000, total: 30000.000, accuracy: 0.759\n",
            "training epoch: [20 ] loss: 0.562 correct: 23056.000, total: 30000.000, accuracy: 0.769\n",
            "training epoch: [21 ] loss: 0.571 correct: 23091.000, total: 30000.000, accuracy: 0.770\n",
            "training epoch: [22 ] loss: 0.626 correct: 22752.000, total: 30000.000, accuracy: 0.758\n",
            "training epoch: [23 ] loss: 0.566 correct: 23314.000, total: 30000.000, accuracy: 0.777\n",
            "training epoch: [24 ] loss: 0.581 correct: 23178.000, total: 30000.000, accuracy: 0.773\n",
            "training epoch: [25 ] loss: 0.566 correct: 23330.000, total: 30000.000, accuracy: 0.778\n",
            "training epoch: [26 ] loss: 0.563 correct: 23452.000, total: 30000.000, accuracy: 0.782\n",
            "training epoch: [27 ] loss: 0.575 correct: 23361.000, total: 30000.000, accuracy: 0.779\n",
            "training epoch: [28 ] loss: 0.559 correct: 23501.000, total: 30000.000, accuracy: 0.783\n",
            "training epoch: [29 ] loss: 0.565 correct: 23577.000, total: 30000.000, accuracy: 0.786\n",
            "training epoch: [30 ] loss: 0.561 correct: 23626.000, total: 30000.000, accuracy: 0.788\n",
            "training epoch: [31 ] loss: 0.567 correct: 23560.000, total: 30000.000, accuracy: 0.785\n",
            "training epoch: [32 ] loss: 0.595 correct: 23502.000, total: 30000.000, accuracy: 0.783\n",
            "training epoch: [33 ] loss: 0.575 correct: 23531.000, total: 30000.000, accuracy: 0.784\n",
            "training epoch: [34 ] loss: 0.586 correct: 23611.000, total: 30000.000, accuracy: 0.787\n",
            "training epoch: [35 ] loss: 0.595 correct: 23595.000, total: 30000.000, accuracy: 0.786\n",
            "training epoch: [36 ] loss: 0.615 correct: 23538.000, total: 30000.000, accuracy: 0.785\n",
            "training epoch: [37 ] loss: 0.607 correct: 23629.000, total: 30000.000, accuracy: 0.788\n",
            "training epoch: [38 ] loss: 0.591 correct: 23812.000, total: 30000.000, accuracy: 0.794\n",
            "training epoch: [39 ] loss: 0.613 correct: 23668.000, total: 30000.000, accuracy: 0.789\n",
            "training epoch: [40 ] loss: 0.602 correct: 23564.000, total: 30000.000, accuracy: 0.785\n",
            "training epoch: [41 ] loss: 0.633 correct: 23653.000, total: 30000.000, accuracy: 0.788\n",
            "training epoch: [42 ] loss: 0.646 correct: 23546.000, total: 30000.000, accuracy: 0.785\n",
            "training epoch: [43 ] loss: 0.635 correct: 23684.000, total: 30000.000, accuracy: 0.789\n",
            "training epoch: [44 ] loss: 0.658 correct: 23712.000, total: 30000.000, accuracy: 0.790\n",
            "training epoch: [45 ] loss: 0.661 correct: 23612.000, total: 30000.000, accuracy: 0.787\n",
            "training epoch: [46 ] loss: 0.673 correct: 23622.000, total: 30000.000, accuracy: 0.787\n",
            "training epoch: [47 ] loss: 0.682 correct: 23648.000, total: 30000.000, accuracy: 0.788\n",
            "training epoch: [48 ] loss: 0.698 correct: 23644.000, total: 30000.000, accuracy: 0.788\n",
            "training epoch: [49 ] loss: 0.649 correct: 23762.000, total: 30000.000, accuracy: 0.792\n",
            "training epoch: [50 ] loss: 0.688 correct: 23638.000, total: 30000.000, accuracy: 0.788\n",
            "training epoch: [51 ] loss: 0.708 correct: 23406.000, total: 30000.000, accuracy: 0.780\n",
            "training epoch: [52 ] loss: 0.715 correct: 23396.000, total: 30000.000, accuracy: 0.780\n",
            "training epoch: [53 ] loss: 0.792 correct: 23507.000, total: 30000.000, accuracy: 0.784\n",
            "training epoch: [54 ] loss: 0.767 correct: 23604.000, total: 30000.000, accuracy: 0.787\n",
            "training epoch: [55 ] loss: 0.796 correct: 23540.000, total: 30000.000, accuracy: 0.785\n",
            "training epoch: [56 ] loss: 0.768 correct: 23579.000, total: 30000.000, accuracy: 0.786\n",
            "training epoch: [57 ] loss: 0.807 correct: 23535.000, total: 30000.000, accuracy: 0.784\n",
            "training epoch: [58 ] loss: 0.748 correct: 23633.000, total: 30000.000, accuracy: 0.788\n",
            "training epoch: [59 ] loss: 0.783 correct: 23683.000, total: 30000.000, accuracy: 0.789\n",
            "training epoch: [60 ] loss: 0.818 correct: 23519.000, total: 30000.000, accuracy: 0.784\n",
            "training epoch: [61 ] loss: 0.803 correct: 23682.000, total: 30000.000, accuracy: 0.789\n",
            "training epoch: [62 ] loss: 0.840 correct: 23620.000, total: 30000.000, accuracy: 0.787\n",
            "training epoch: [63 ] loss: 0.851 correct: 23264.000, total: 30000.000, accuracy: 0.775\n",
            "training epoch: [64 ] loss: 0.847 correct: 23709.000, total: 30000.000, accuracy: 0.790\n",
            "training epoch: [65 ] loss: 0.870 correct: 23411.000, total: 30000.000, accuracy: 0.780\n",
            "training epoch: [66 ] loss: 0.872 correct: 23785.000, total: 30000.000, accuracy: 0.793\n",
            "training epoch: [67 ] loss: 0.828 correct: 23337.000, total: 30000.000, accuracy: 0.778\n",
            "training epoch: [68 ] loss: 0.961 correct: 23367.000, total: 30000.000, accuracy: 0.779\n",
            "training epoch: [69 ] loss: 0.936 correct: 23440.000, total: 30000.000, accuracy: 0.781\n",
            "training epoch: [70 ] loss: 0.908 correct: 23550.000, total: 30000.000, accuracy: 0.785\n",
            "training epoch: [71 ] loss: 0.866 correct: 23577.000, total: 30000.000, accuracy: 0.786\n",
            "training epoch: [72 ] loss: 0.972 correct: 23515.000, total: 30000.000, accuracy: 0.784\n",
            "training epoch: [73 ] loss: 1.021 correct: 23083.000, total: 30000.000, accuracy: 0.769\n",
            "training epoch: [74 ] loss: 0.975 correct: 23228.000, total: 30000.000, accuracy: 0.774\n",
            "training epoch: [75 ] loss: 0.921 correct: 23512.000, total: 30000.000, accuracy: 0.784\n",
            "training epoch: [76 ] loss: 0.925 correct: 23489.000, total: 30000.000, accuracy: 0.783\n",
            "training epoch: [77 ] loss: 0.978 correct: 23456.000, total: 30000.000, accuracy: 0.782\n",
            "training epoch: [78 ] loss: 1.036 correct: 23414.000, total: 30000.000, accuracy: 0.780\n",
            "training epoch: [79 ] loss: 0.943 correct: 23646.000, total: 30000.000, accuracy: 0.788\n",
            "training epoch: [80 ] loss: 1.065 correct: 23363.000, total: 30000.000, accuracy: 0.779\n",
            "training epoch: [81 ] loss: 1.167 correct: 23112.000, total: 30000.000, accuracy: 0.770\n",
            "training epoch: [82 ] loss: 0.948 correct: 23377.000, total: 30000.000, accuracy: 0.779\n",
            "training epoch: [83 ] loss: 1.150 correct: 23205.000, total: 30000.000, accuracy: 0.773\n",
            "training epoch: [84 ] loss: 1.168 correct: 23187.000, total: 30000.000, accuracy: 0.773\n",
            "training epoch: [85 ] loss: 1.054 correct: 23466.000, total: 30000.000, accuracy: 0.782\n",
            "training epoch: [86 ] loss: 1.100 correct: 23326.000, total: 30000.000, accuracy: 0.778\n",
            "training epoch: [87 ] loss: 1.186 correct: 23286.000, total: 30000.000, accuracy: 0.776\n",
            "training epoch: [88 ] loss: 1.113 correct: 23397.000, total: 30000.000, accuracy: 0.780\n",
            "training epoch: [89 ] loss: 1.093 correct: 23266.000, total: 30000.000, accuracy: 0.776\n",
            "training epoch: [90 ] loss: 1.158 correct: 23343.000, total: 30000.000, accuracy: 0.778\n",
            "training epoch: [91 ] loss: 1.142 correct: 23297.000, total: 30000.000, accuracy: 0.777\n",
            "training epoch: [92 ] loss: 1.227 correct: 23289.000, total: 30000.000, accuracy: 0.776\n",
            "training epoch: [93 ] loss: 1.133 correct: 23006.000, total: 30000.000, accuracy: 0.767\n",
            "training epoch: [94 ] loss: 1.245 correct: 23209.000, total: 30000.000, accuracy: 0.774\n",
            "training epoch: [95 ] loss: 1.080 correct: 23571.000, total: 30000.000, accuracy: 0.786\n",
            "training epoch: [96 ] loss: 1.244 correct: 23117.000, total: 30000.000, accuracy: 0.771\n",
            "training epoch: [97 ] loss: 1.179 correct: 23227.000, total: 30000.000, accuracy: 0.774\n",
            "training epoch: [98 ] loss: 1.198 correct: 23392.000, total: 30000.000, accuracy: 0.780\n",
            "training epoch: [99 ] loss: 1.129 correct: 23470.000, total: 30000.000, accuracy: 0.782\n",
            "training epoch: [100 ] loss: 1.254 correct: 23294.000, total: 30000.000, accuracy: 0.776\n",
            "Finished Training run \n"
          ],
          "name": "stdout"
        }
      ]
    },
    {
      "cell_type": "code",
      "metadata": {
        "id": "AciJnAh5nfug"
      },
      "source": [
        "columns = [\"epochs\", \"argmax > 0.5\" ,\"argmax < 0.5\", \"focus_true_pred_true\", \"focus_false_pred_true\", \"focus_true_pred_false\", \"focus_false_pred_false\" ]\n",
        "df_train = pd.DataFrame()\n",
        "df_test = pd.DataFrame()\n",
        "df_train[columns[0]] = np.arange(0,epoch+2)\n",
        "df_train[columns[1]] = analysis_data_tr[:,-2]\n",
        "df_train[columns[2]] = analysis_data_tr[:,-1]\n",
        "df_train[columns[3]] = analysis_data_tr[:,0]\n",
        "df_train[columns[4]] = analysis_data_tr[:,1]\n",
        "df_train[columns[5]] = analysis_data_tr[:,2]\n",
        "df_train[columns[6]] = analysis_data_tr[:,3]"
      ],
      "execution_count": 18,
      "outputs": []
    },
    {
      "cell_type": "code",
      "metadata": {
        "id": "NoQpS_6scRsC",
        "colab": {
          "base_uri": "https://localhost:8080/",
          "height": 436
        },
        "outputId": "c8f997a6-84fe-4f62-8824-c53d81f0124b"
      },
      "source": [
        "df_train"
      ],
      "execution_count": 19,
      "outputs": [
        {
          "output_type": "execute_result",
          "data": {
            "text/html": [
              "<div>\n",
              "<style scoped>\n",
              "    .dataframe tbody tr th:only-of-type {\n",
              "        vertical-align: middle;\n",
              "    }\n",
              "\n",
              "    .dataframe tbody tr th {\n",
              "        vertical-align: top;\n",
              "    }\n",
              "\n",
              "    .dataframe thead th {\n",
              "        text-align: right;\n",
              "    }\n",
              "</style>\n",
              "<table border=\"1\" class=\"dataframe\">\n",
              "  <thead>\n",
              "    <tr style=\"text-align: right;\">\n",
              "      <th></th>\n",
              "      <th>epochs</th>\n",
              "      <th>argmax &gt; 0.5</th>\n",
              "      <th>argmax &lt; 0.5</th>\n",
              "      <th>focus_true_pred_true</th>\n",
              "      <th>focus_false_pred_true</th>\n",
              "      <th>focus_true_pred_false</th>\n",
              "      <th>focus_false_pred_false</th>\n",
              "    </tr>\n",
              "  </thead>\n",
              "  <tbody>\n",
              "    <tr>\n",
              "      <th>0</th>\n",
              "      <td>0</td>\n",
              "      <td>2758</td>\n",
              "      <td>27242</td>\n",
              "      <td>1948</td>\n",
              "      <td>10071</td>\n",
              "      <td>1262</td>\n",
              "      <td>16719</td>\n",
              "    </tr>\n",
              "    <tr>\n",
              "      <th>1</th>\n",
              "      <td>1</td>\n",
              "      <td>14566</td>\n",
              "      <td>15434</td>\n",
              "      <td>3705</td>\n",
              "      <td>13684</td>\n",
              "      <td>1063</td>\n",
              "      <td>11548</td>\n",
              "    </tr>\n",
              "    <tr>\n",
              "      <th>2</th>\n",
              "      <td>2</td>\n",
              "      <td>29250</td>\n",
              "      <td>750</td>\n",
              "      <td>6126</td>\n",
              "      <td>12012</td>\n",
              "      <td>920</td>\n",
              "      <td>10942</td>\n",
              "    </tr>\n",
              "    <tr>\n",
              "      <th>3</th>\n",
              "      <td>3</td>\n",
              "      <td>29996</td>\n",
              "      <td>4</td>\n",
              "      <td>7182</td>\n",
              "      <td>13008</td>\n",
              "      <td>494</td>\n",
              "      <td>9316</td>\n",
              "    </tr>\n",
              "    <tr>\n",
              "      <th>4</th>\n",
              "      <td>4</td>\n",
              "      <td>29999</td>\n",
              "      <td>1</td>\n",
              "      <td>7391</td>\n",
              "      <td>13232</td>\n",
              "      <td>369</td>\n",
              "      <td>9008</td>\n",
              "    </tr>\n",
              "    <tr>\n",
              "      <th>...</th>\n",
              "      <td>...</td>\n",
              "      <td>...</td>\n",
              "      <td>...</td>\n",
              "      <td>...</td>\n",
              "      <td>...</td>\n",
              "      <td>...</td>\n",
              "      <td>...</td>\n",
              "    </tr>\n",
              "    <tr>\n",
              "      <th>96</th>\n",
              "      <td>96</td>\n",
              "      <td>30000</td>\n",
              "      <td>0</td>\n",
              "      <td>7485</td>\n",
              "      <td>15632</td>\n",
              "      <td>474</td>\n",
              "      <td>6409</td>\n",
              "    </tr>\n",
              "    <tr>\n",
              "      <th>97</th>\n",
              "      <td>97</td>\n",
              "      <td>30000</td>\n",
              "      <td>0</td>\n",
              "      <td>7489</td>\n",
              "      <td>15738</td>\n",
              "      <td>471</td>\n",
              "      <td>6302</td>\n",
              "    </tr>\n",
              "    <tr>\n",
              "      <th>98</th>\n",
              "      <td>98</td>\n",
              "      <td>30000</td>\n",
              "      <td>0</td>\n",
              "      <td>7513</td>\n",
              "      <td>15879</td>\n",
              "      <td>446</td>\n",
              "      <td>6162</td>\n",
              "    </tr>\n",
              "    <tr>\n",
              "      <th>99</th>\n",
              "      <td>99</td>\n",
              "      <td>30000</td>\n",
              "      <td>0</td>\n",
              "      <td>7534</td>\n",
              "      <td>15936</td>\n",
              "      <td>425</td>\n",
              "      <td>6105</td>\n",
              "    </tr>\n",
              "    <tr>\n",
              "      <th>100</th>\n",
              "      <td>100</td>\n",
              "      <td>30000</td>\n",
              "      <td>0</td>\n",
              "      <td>7484</td>\n",
              "      <td>15810</td>\n",
              "      <td>475</td>\n",
              "      <td>6231</td>\n",
              "    </tr>\n",
              "  </tbody>\n",
              "</table>\n",
              "<p>101 rows × 7 columns</p>\n",
              "</div>"
            ],
            "text/plain": [
              "     epochs  argmax > 0.5  ...  focus_true_pred_false  focus_false_pred_false\n",
              "0         0          2758  ...                   1262                   16719\n",
              "1         1         14566  ...                   1063                   11548\n",
              "2         2         29250  ...                    920                   10942\n",
              "3         3         29996  ...                    494                    9316\n",
              "4         4         29999  ...                    369                    9008\n",
              "..      ...           ...  ...                    ...                     ...\n",
              "96       96         30000  ...                    474                    6409\n",
              "97       97         30000  ...                    471                    6302\n",
              "98       98         30000  ...                    446                    6162\n",
              "99       99         30000  ...                    425                    6105\n",
              "100     100         30000  ...                    475                    6231\n",
              "\n",
              "[101 rows x 7 columns]"
            ]
          },
          "metadata": {
            "tags": []
          },
          "execution_count": 19
        }
      ]
    },
    {
      "cell_type": "code",
      "metadata": {
        "id": "IMAhRdxOcVf6",
        "colab": {
          "base_uri": "https://localhost:8080/",
          "height": 730
        },
        "outputId": "a37cb440-1419-469e-a413-995a0b12e13e"
      },
      "source": [
        "fig= plt.figure(figsize=(12,12))\n",
        "plt.plot(df_train[columns[0]],df_train[columns[3]]/300, label =\"focus_true_pred_true \")\n",
        "plt.plot(df_train[columns[0]],df_train[columns[4]]/300, label =\"focus_false_pred_true \")\n",
        "plt.plot(df_train[columns[0]],df_train[columns[5]]/300, label =\"focus_true_pred_false \")\n",
        "plt.plot(df_train[columns[0]],df_train[columns[6]]/300, label =\"focus_false_pred_false \")\n",
        "plt.title(\"On Train set\")\n",
        "plt.legend(loc='center left', bbox_to_anchor=(1, 0.5))\n",
        "plt.xlabel(\"epochs\")\n",
        "plt.ylabel(\"percentage of data\")\n",
        "#plt.vlines(vline_list,min(min(df_train[columns[3]]/300),min(df_train[columns[4]]/300),min(df_train[columns[5]]/300),min(df_train[columns[6]]/300)), max(max(df_train[columns[3]]/300),max(df_train[columns[4]]/300),max(df_train[columns[5]]/300),max(df_train[columns[6]]/300)),linestyles='dotted')\n",
        "plt.show()\n",
        "fig.savefig(\"train_analysis.pdf\")\n",
        "fig.savefig(\"train_analysis.png\")"
      ],
      "execution_count": 20,
      "outputs": [
        {
          "output_type": "display_data",
          "data": {
            "image/png": "[encoded data removed]",
            "text/plain": [
              "<Figure size 864x864 with 1 Axes>"
            ]
          },
          "metadata": {
            "tags": [],
            "needs_background": "light"
          }
        }
      ]
    },
    {
      "cell_type": "code",
      "metadata": {
        "id": "VCnS6r2_3WdU"
      },
      "source": [
        "aph = []\n",
        "for i in bg:\n",
        "  aph.append(F.softmax(i,dim=1).detach().numpy())\n",
        "  \n",
        "aph = np.concatenate(aph,axis=0)\n",
        "torch.save({\n",
        "            'epoch': 500,\n",
        "            'model_state_dict': what_net.state_dict(),\n",
        "            #'optimizer_state_dict': optimizer_what.state_dict(),\n",
        "            \"optimizer_alpha\":optim1,\n",
        "            \"FTPT_analysis\":analysis_data_tr,\n",
        "            \"alpha\":aph\n",
        "\n",
        "            }, \"cifar_what_net_500.pt\")"
      ],
      "execution_count": 21,
      "outputs": []
    },
    {
      "cell_type": "code",
      "metadata": {
        "id": "KVzrDOGS4UxU",
        "colab": {
          "base_uri": "https://localhost:8080/"
        },
        "outputId": "a6f4b6d5-0893-4f92-b2f0-64ab52c1bde8"
      },
      "source": [
        "aph"
      ],
      "execution_count": 22,
      "outputs": [
        {
          "output_type": "execute_result",
          "data": {
            "text/plain": [
              "array([[1.0143065e-09, 0.0000000e+00, 0.0000000e+00, ..., 0.0000000e+00,\n",
              "        0.0000000e+00, 1.0000000e+00],\n",
              "       [0.0000000e+00, 0.0000000e+00, 0.0000000e+00, ..., 0.0000000e+00,\n",
              "        0.0000000e+00, 0.0000000e+00],\n",
              "       [0.0000000e+00, 0.0000000e+00, 0.0000000e+00, ..., 0.0000000e+00,\n",
              "        0.0000000e+00, 1.0000000e+00],\n",
              "       ...,\n",
              "       [2.4843126e-07, 0.0000000e+00, 0.0000000e+00, ..., 0.0000000e+00,\n",
              "        0.0000000e+00, 9.9999976e-01],\n",
              "       [0.0000000e+00, 0.0000000e+00, 0.0000000e+00, ..., 0.0000000e+00,\n",
              "        1.0000000e+00, 0.0000000e+00],\n",
              "       [0.0000000e+00, 0.0000000e+00, 2.0689787e-29, ..., 0.0000000e+00,\n",
              "        5.5586521e-21, 0.0000000e+00]], dtype=float32)"
            ]
          },
          "metadata": {
            "tags": []
          },
          "execution_count": 22
        }
      ]
    },
    {
      "cell_type": "code",
      "metadata": {
        "id": "Z6heHND15EMz"
      },
      "source": [
        "running_loss_tr,anls_data,correct,total,accuracy = calculate_attn_loss(train_loader,what_net,criterion)"
      ],
      "execution_count": 23,
      "outputs": []
    },
    {
      "cell_type": "code",
      "metadata": {
        "id": "zeKhsdpYWQvB",
        "colab": {
          "base_uri": "https://localhost:8080/"
        },
        "outputId": "845c8e59-3b3a-4631-c7f2-ef46ed14c2cc"
      },
      "source": [
        "print(\"argmax>0.5\",anls_data[-2])"
      ],
      "execution_count": 24,
      "outputs": [
        {
          "output_type": "stream",
          "text": [
            "argmax>0.5 30000\n"
          ],
          "name": "stdout"
        }
      ]
    },
    {
      "cell_type": "code",
      "metadata": {
        "id": "yF2bvWdIWUTa"
      },
      "source": [
        ""
      ],
      "execution_count": 24,
      "outputs": []
    }
  ]
}