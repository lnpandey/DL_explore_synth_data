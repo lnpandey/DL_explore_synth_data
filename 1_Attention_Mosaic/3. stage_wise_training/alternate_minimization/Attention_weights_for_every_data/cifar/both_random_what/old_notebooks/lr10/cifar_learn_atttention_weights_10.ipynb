{
  "nbformat": 4,
  "nbformat_minor": 0,
  "metadata": {
    "accelerator": "GPU",
    "colab": {
      "name": "cifar_learn_atttention_weights_10.ipynb",
      "provenance": [],
      "collapsed_sections": []
    },
    "kernelspec": {
      "display_name": "Python 3",
      "name": "python3"
    },
    "language_info": {
      "name": "python"
    },
    "widgets": {
      "application/vnd.jupyter.widget-state+json": {
        "c306285965d645e78582aaec1534d16d": {
          "model_module": "@jupyter-widgets/controls",
          "model_name": "HBoxModel",
          "state": {
            "_view_name": "HBoxView",
            "_dom_classes": [],
            "_model_name": "HBoxModel",
            "_view_module": "@jupyter-widgets/controls",
            "_model_module_version": "1.5.0",
            "_view_count": null,
            "_view_module_version": "1.5.0",
            "box_style": "",
            "layout": "IPY_MODEL_1060490df3c04580adc5b19f8c259518",
            "_model_module": "@jupyter-widgets/controls",
            "children": [
              "IPY_MODEL_0d9f5631f3fb44cc9f050a54bdf71c7d",
              "IPY_MODEL_fa22cc21f43947f8945791376df20867"
            ]
          }
        },
        "1060490df3c04580adc5b19f8c259518": {
          "model_module": "@jupyter-widgets/base",
          "model_name": "LayoutModel",
          "state": {
            "_view_name": "LayoutView",
            "grid_template_rows": null,
            "right": null,
            "justify_content": null,
            "_view_module": "@jupyter-widgets/base",
            "overflow": null,
            "_model_module_version": "1.2.0",
            "_view_count": null,
            "flex_flow": null,
            "width": null,
            "min_width": null,
            "border": null,
            "align_items": null,
            "bottom": null,
            "_model_module": "@jupyter-widgets/base",
            "top": null,
            "grid_column": null,
            "overflow_y": null,
            "overflow_x": null,
            "grid_auto_flow": null,
            "grid_area": null,
            "grid_template_columns": null,
            "flex": null,
            "_model_name": "LayoutModel",
            "justify_items": null,
            "grid_row": null,
            "max_height": null,
            "align_content": null,
            "visibility": null,
            "align_self": null,
            "height": null,
            "min_height": null,
            "padding": null,
            "grid_auto_rows": null,
            "grid_gap": null,
            "max_width": null,
            "order": null,
            "_view_module_version": "1.2.0",
            "grid_template_areas": null,
            "object_position": null,
            "object_fit": null,
            "grid_auto_columns": null,
            "margin": null,
            "display": null,
            "left": null
          }
        },
        "0d9f5631f3fb44cc9f050a54bdf71c7d": {
          "model_module": "@jupyter-widgets/controls",
          "model_name": "FloatProgressModel",
          "state": {
            "_view_name": "ProgressView",
            "style": "IPY_MODEL_555d34de76ee42e9a40543e89e34137f",
            "_dom_classes": [],
            "description": "",
            "_model_name": "FloatProgressModel",
            "bar_style": "success",
            "max": 170498071,
            "_view_module": "@jupyter-widgets/controls",
            "_model_module_version": "1.5.0",
            "value": 170498071,
            "_view_count": null,
            "_view_module_version": "1.5.0",
            "orientation": "horizontal",
            "min": 0,
            "description_tooltip": null,
            "_model_module": "@jupyter-widgets/controls",
            "layout": "IPY_MODEL_081931acc2e943d0b67e6c02a786fc62"
          }
        },
        "fa22cc21f43947f8945791376df20867": {
          "model_module": "@jupyter-widgets/controls",
          "model_name": "HTMLModel",
          "state": {
            "_view_name": "HTMLView",
            "style": "IPY_MODEL_e2ac3775d8084d87be5e5e6ff8fc92ae",
            "_dom_classes": [],
            "description": "",
            "_model_name": "HTMLModel",
            "placeholder": "​",
            "_view_module": "@jupyter-widgets/controls",
            "_model_module_version": "1.5.0",
            "value": " 170499072/? [00:06&lt;00:00, 24872025.00it/s]",
            "_view_count": null,
            "_view_module_version": "1.5.0",
            "description_tooltip": null,
            "_model_module": "@jupyter-widgets/controls",
            "layout": "IPY_MODEL_ffcc2b5c16294db996603bdda4c1e1e1"
          }
        },
        "555d34de76ee42e9a40543e89e34137f": {
          "model_module": "@jupyter-widgets/controls",
          "model_name": "ProgressStyleModel",
          "state": {
            "_view_name": "StyleView",
            "_model_name": "ProgressStyleModel",
            "description_width": "initial",
            "_view_module": "@jupyter-widgets/base",
            "_model_module_version": "1.5.0",
            "_view_count": null,
            "_view_module_version": "1.2.0",
            "bar_color": null,
            "_model_module": "@jupyter-widgets/controls"
          }
        },
        "081931acc2e943d0b67e6c02a786fc62": {
          "model_module": "@jupyter-widgets/base",
          "model_name": "LayoutModel",
          "state": {
            "_view_name": "LayoutView",
            "grid_template_rows": null,
            "right": null,
            "justify_content": null,
            "_view_module": "@jupyter-widgets/base",
            "overflow": null,
            "_model_module_version": "1.2.0",
            "_view_count": null,
            "flex_flow": null,
            "width": null,
            "min_width": null,
            "border": null,
            "align_items": null,
            "bottom": null,
            "_model_module": "@jupyter-widgets/base",
            "top": null,
            "grid_column": null,
            "overflow_y": null,
            "overflow_x": null,
            "grid_auto_flow": null,
            "grid_area": null,
            "grid_template_columns": null,
            "flex": null,
            "_model_name": "LayoutModel",
            "justify_items": null,
            "grid_row": null,
            "max_height": null,
            "align_content": null,
            "visibility": null,
            "align_self": null,
            "height": null,
            "min_height": null,
            "padding": null,
            "grid_auto_rows": null,
            "grid_gap": null,
            "max_width": null,
            "order": null,
            "_view_module_version": "1.2.0",
            "grid_template_areas": null,
            "object_position": null,
            "object_fit": null,
            "grid_auto_columns": null,
            "margin": null,
            "display": null,
            "left": null
          }
        },
        "e2ac3775d8084d87be5e5e6ff8fc92ae": {
          "model_module": "@jupyter-widgets/controls",
          "model_name": "DescriptionStyleModel",
          "state": {
            "_view_name": "StyleView",
            "_model_name": "DescriptionStyleModel",
            "description_width": "",
            "_view_module": "@jupyter-widgets/base",
            "_model_module_version": "1.5.0",
            "_view_count": null,
            "_view_module_version": "1.2.0",
            "_model_module": "@jupyter-widgets/controls"
          }
        },
        "ffcc2b5c16294db996603bdda4c1e1e1": {
          "model_module": "@jupyter-widgets/base",
          "model_name": "LayoutModel",
          "state": {
            "_view_name": "LayoutView",
            "grid_template_rows": null,
            "right": null,
            "justify_content": null,
            "_view_module": "@jupyter-widgets/base",
            "overflow": null,
            "_model_module_version": "1.2.0",
            "_view_count": null,
            "flex_flow": null,
            "width": null,
            "min_width": null,
            "border": null,
            "align_items": null,
            "bottom": null,
            "_model_module": "@jupyter-widgets/base",
            "top": null,
            "grid_column": null,
            "overflow_y": null,
            "overflow_x": null,
            "grid_auto_flow": null,
            "grid_area": null,
            "grid_template_columns": null,
            "flex": null,
            "_model_name": "LayoutModel",
            "justify_items": null,
            "grid_row": null,
            "max_height": null,
            "align_content": null,
            "visibility": null,
            "align_self": null,
            "height": null,
            "min_height": null,
            "padding": null,
            "grid_auto_rows": null,
            "grid_gap": null,
            "max_width": null,
            "order": null,
            "_view_module_version": "1.2.0",
            "grid_template_areas": null,
            "object_position": null,
            "object_fit": null,
            "grid_auto_columns": null,
            "margin": null,
            "display": null,
            "left": null
          }
        }
      }
    }
  },
  "cells": [
    {
      "cell_type": "code",
      "metadata": {
        "id": "BWIyC9Ip_bcq"
      },
      "source": [
        "import numpy as np\n",
        "import pandas as pd\n",
        "\n",
        "import torch\n",
        "import torchvision\n",
        "from torch.utils.data import Dataset, DataLoader\n",
        "from torchvision import transforms, utils\n",
        "import torch.nn as nn\n",
        "import torch.nn.functional as F\n",
        "import torch.optim as optim\n",
        "\n",
        "from matplotlib import pyplot as plt\n",
        "%matplotlib inline"
      ],
      "execution_count": 1,
      "outputs": []
    },
    {
      "cell_type": "code",
      "metadata": {
        "colab": {
          "base_uri": "https://localhost:8080/",
          "height": 105,
          "referenced_widgets": [
            "c306285965d645e78582aaec1534d16d",
            "1060490df3c04580adc5b19f8c259518",
            "0d9f5631f3fb44cc9f050a54bdf71c7d",
            "fa22cc21f43947f8945791376df20867",
            "555d34de76ee42e9a40543e89e34137f",
            "081931acc2e943d0b67e6c02a786fc62",
            "e2ac3775d8084d87be5e5e6ff8fc92ae",
            "ffcc2b5c16294db996603bdda4c1e1e1"
          ]
        },
        "id": "cgw1f4rVkGr9",
        "outputId": "3e8e9f46-29a3-40d4-ee4c-e3f723494690"
      },
      "source": [
        "transform = transforms.Compose(\n",
        "    [transforms.ToTensor(),\n",
        "     transforms.Normalize((0.5, 0.5, 0.5), (0.5, 0.5, 0.5))])\n",
        "\n",
        "trainset = torchvision.datasets.CIFAR10(root='./data', train=True, download=True, transform=transform)"
      ],
      "execution_count": 2,
      "outputs": [
        {
          "output_type": "stream",
          "text": [
            "Downloading https://www.cs.toronto.edu/~kriz/cifar-10-python.tar.gz to ./data/cifar-10-python.tar.gz\n"
          ],
          "name": "stdout"
        },
        {
          "output_type": "display_data",
          "data": {
            "application/vnd.jupyter.widget-view+json": {
              "model_id": "c306285965d645e78582aaec1534d16d",
              "version_minor": 0,
              "version_major": 2
            },
            "text/plain": [
              "HBox(children=(FloatProgress(value=0.0, max=170498071.0), HTML(value='')))"
            ]
          },
          "metadata": {
            "tags": []
          }
        },
        {
          "output_type": "stream",
          "text": [
            "\n",
            "Extracting ./data/cifar-10-python.tar.gz to ./data\n"
          ],
          "name": "stdout"
        }
      ]
    },
    {
      "cell_type": "code",
      "metadata": {
        "id": "D-xlWYTKkQEn"
      },
      "source": [
        "trainloader = torch.utils.data.DataLoader(trainset, batch_size=10, shuffle=True)\n",
        "\n",
        "\n",
        "classes = ('plane', 'car', 'bird', 'cat', 'deer', 'dog', 'frog', 'horse', 'ship', 'truck')\n",
        "\n",
        "foreground_classes = {'plane', 'car', 'bird'}\n",
        "#foreground_classes = {'bird', 'cat', 'deer'}\n",
        "background_classes = {'cat', 'deer', 'dog', 'frog', 'horse', 'ship', 'truck'}\n",
        "#background_classes = {'plane', 'car', 'dog', 'frog', 'horse','ship', 'truck'}\n",
        "\n",
        "fg1,fg2,fg3 = 0,1,2"
      ],
      "execution_count": 3,
      "outputs": []
    },
    {
      "cell_type": "code",
      "metadata": {
        "id": "zrX68qhikUbz"
      },
      "source": [
        "dataiter = iter(trainloader)\n",
        "background_data=[]\n",
        "background_label=[]\n",
        "foreground_data=[]\n",
        "foreground_label=[]\n",
        "batch_size=10\n",
        "\n",
        "for i in range(5000):\n",
        "  images, labels = dataiter.next()\n",
        "  for j in range(batch_size):\n",
        "    if(classes[labels[j]] in background_classes):\n",
        "      img = images[j].tolist()\n",
        "      background_data.append(img)\n",
        "      background_label.append(labels[j])\n",
        "    else:\n",
        "      img = images[j].tolist()\n",
        "      foreground_data.append(img)\n",
        "      foreground_label.append(labels[j])\n",
        "            \n",
        "foreground_data = torch.tensor(foreground_data)\n",
        "foreground_label = torch.tensor(foreground_label)\n",
        "background_data = torch.tensor(background_data)\n",
        "background_label = torch.tensor(background_label)"
      ],
      "execution_count": 4,
      "outputs": []
    },
    {
      "cell_type": "code",
      "metadata": {
        "id": "eD-QJkvnkgyk"
      },
      "source": [
        "def create_mosaic_img(bg_idx,fg_idx,fg): \n",
        "  \"\"\"\n",
        "  bg_idx : list of indexes of background_data[] to be used as background images in mosaic\n",
        "  fg_idx : index of image to be used as foreground image from foreground data\n",
        "  fg : at what position/index foreground image has to be stored out of 0-8\n",
        "  \"\"\"\n",
        "  image_list=[]\n",
        "  j=0\n",
        "  for i in range(9):\n",
        "    if i != fg:\n",
        "      image_list.append(background_data[bg_idx[j]])#.type(\"torch.DoubleTensor\"))\n",
        "      j+=1\n",
        "    else: \n",
        "      image_list.append(foreground_data[fg_idx])#.type(\"torch.DoubleTensor\"))\n",
        "      label = foreground_label[fg_idx]-fg1  # minus 7 because our fore ground classes are 7,8,9 but we have to store it as 0,1,2\n",
        "  #image_list = np.concatenate(image_list ,axis=0)\n",
        "  image_list = torch.stack(image_list) \n",
        "  return image_list,label"
      ],
      "execution_count": 5,
      "outputs": []
    },
    {
      "cell_type": "code",
      "metadata": {
        "id": "Zs10rfXHkli2"
      },
      "source": [
        "desired_num = 30000\n",
        "mosaic_list_of_images =[]      # list of mosaic images, each mosaic image is saved as list of 9 images\n",
        "fore_idx =[]                   # list of indexes at which foreground image is present in a mosaic image i.e from 0 to 9               \n",
        "mosaic_label=[]                # label of mosaic image = foreground class present in that mosaic\n",
        "for i in range(desired_num):\n",
        "  np.random.seed(i)\n",
        "  bg_idx = np.random.randint(0,35000,8)\n",
        "  fg_idx = np.random.randint(0,15000)\n",
        "  fg = np.random.randint(0,9)\n",
        "  fore_idx.append(fg)\n",
        "  image_list,label = create_mosaic_img(bg_idx,fg_idx,fg)\n",
        "  mosaic_list_of_images.append(image_list)\n",
        "  mosaic_label.append(label)"
      ],
      "execution_count": 6,
      "outputs": []
    },
    {
      "cell_type": "code",
      "metadata": {
        "id": "7km9Swb1kq4O"
      },
      "source": [
        "class MosaicDataset(Dataset):\n",
        "  \"\"\"MosaicDataset dataset.\"\"\"\n",
        "\n",
        "  def __init__(self, mosaic_list_of_images, mosaic_label, fore_idx):\n",
        "    \"\"\"\n",
        "      Args:\n",
        "        csv_file (string): Path to the csv file with annotations.\n",
        "        root_dir (string): Directory with all the images.\n",
        "        transform (callable, optional): Optional transform to be applied\n",
        "            on a sample.\n",
        "    \"\"\"\n",
        "    self.mosaic = mosaic_list_of_images\n",
        "    self.label = mosaic_label\n",
        "    self.fore_idx = fore_idx\n",
        "\n",
        "  def __len__(self):\n",
        "    return len(self.label)\n",
        "\n",
        "  def __getitem__(self, idx):\n",
        "    return self.mosaic[idx] , self.label[idx], self.fore_idx[idx]\n",
        "batch = 250\n",
        "msd = MosaicDataset(mosaic_list_of_images, mosaic_label , fore_idx)\n",
        "train_loader = DataLoader( msd,batch_size= batch ,shuffle=False)"
      ],
      "execution_count": 7,
      "outputs": []
    },
    {
      "cell_type": "code",
      "metadata": {
        "id": "lGVy-1EllAc_"
      },
      "source": [
        "data,labels,fg_index = iter(train_loader).next()"
      ],
      "execution_count": 8,
      "outputs": []
    },
    {
      "cell_type": "code",
      "metadata": {
        "id": "DOpZfj1bq7wN"
      },
      "source": [
        "ag = []\n",
        "for i in range(120):\n",
        "  alphag = torch.ones((250,9))/9\n",
        "  ag.append( alphag.requires_grad_() )"
      ],
      "execution_count": 9,
      "outputs": []
    },
    {
      "cell_type": "code",
      "metadata": {
        "id": "HbrMidFCla6h"
      },
      "source": [
        "class Module2(nn.Module):\n",
        "  def __init__(self):\n",
        "    super(Module2, self).__init__()\n",
        "    \n",
        "    self.conv1 = nn.Conv2d(3, 6, 5)\n",
        "    self.pool = nn.MaxPool2d(2, 2)\n",
        "    self.conv2 = nn.Conv2d(6, 16, 5)\n",
        "    self.fc1 = nn.Linear(16 * 5 * 5, 120)\n",
        "    self.fc2 = nn.Linear(120, 84)\n",
        "    self.fc3 = nn.Linear(84, 10)\n",
        "    self.fc4 = nn.Linear(10,3)\n",
        "\n",
        "  def forward(self,y):  #z batch of list of 9 images\n",
        "    y1 = self.pool(F.relu(self.conv1(y)))\n",
        "    y1 = self.pool(F.relu(self.conv2(y1)))\n",
        "    y1 = y1.view(-1, 16 * 5 * 5)\n",
        "\n",
        "    y1 = F.relu(self.fc1(y1))\n",
        "    y1 = F.relu(self.fc2(y1))\n",
        "    y1 = F.relu(self.fc3(y1))\n",
        "    y1 = self.fc4(y1)\n",
        "    return y1"
      ],
      "execution_count": 10,
      "outputs": []
    },
    {
      "cell_type": "code",
      "metadata": {
        "id": "rRqj2VELllkX"
      },
      "source": [
        "torch.manual_seed(1234)\n",
        "what_net = Module2().double()\n",
        "what_net = what_net.to(\"cuda\")"
      ],
      "execution_count": 11,
      "outputs": []
    },
    {
      "cell_type": "code",
      "metadata": {
        "id": "6d8Wch99l4yB"
      },
      "source": [
        "def attn_avg(x,alpha):\n",
        "  y = torch.zeros([batch,3, 32,32], dtype=torch.float64)\n",
        "  y = y.to(\"cuda\")\n",
        "  alpha = F.softmax(alpha,dim=1)   # alphas\n",
        "  for i in range(9):            \n",
        "    alpha1 = alpha[:,i]          \n",
        "    y = y + torch.mul(alpha1[:,None,None,None],x[:,i])\n",
        "    return y,alpha\n"
      ],
      "execution_count": 12,
      "outputs": []
    },
    {
      "cell_type": "code",
      "metadata": {
        "id": "Rz1Kpw12loV6"
      },
      "source": [
        "def calculate_attn_loss(dataloader,what,criter):\n",
        "  what.eval()\n",
        "  r_loss = 0\n",
        "  alphas = []\n",
        "  lbls = []\n",
        "  pred = []\n",
        "  fidices = []\n",
        "  correct = 0\n",
        "  tot = 0\n",
        "  with torch.no_grad():\n",
        "    for i, data in enumerate(dataloader, 0):\n",
        "      inputs, labels,fidx= data\n",
        "      lbls.append(labels)\n",
        "      fidices.append(fidx)\n",
        "      inputs = inputs.double()\n",
        "      alpha = ag[i]  # alpha for ith batch\n",
        "      inputs, labels,alpha = inputs.to(\"cuda\"),labels.to(\"cuda\"),alpha.to(\"cuda\")\n",
        "      avg,alpha = attn_avg(inputs,alpha)\n",
        "      alpha = alpha.to(\"cuda\")\n",
        "      outputs = what(avg)\n",
        "      _, predicted = torch.max(outputs.data, 1)\n",
        "      correct += sum(predicted == labels)\n",
        "      tot += len(predicted)\n",
        "      pred.append(predicted.cpu().numpy())\n",
        "      alphas.append(alpha.cpu().numpy())\n",
        "      loss = criter(outputs, labels)\n",
        "      r_loss += loss.item()\n",
        "  alphas = np.concatenate(alphas,axis=0)\n",
        "  pred = np.concatenate(pred,axis=0)\n",
        "  lbls = np.concatenate(lbls,axis=0)\n",
        "  fidices = np.concatenate(fidices,axis=0)\n",
        "  #print(alphas.shape,pred.shape,lbls.shape,fidices.shape) \n",
        "  analysis = analyse_data(alphas,lbls,pred,fidices)\n",
        "  return r_loss/i,analysis,correct.item(),tot,correct.item()/tot"
      ],
      "execution_count": 13,
      "outputs": []
    },
    {
      "cell_type": "code",
      "metadata": {
        "id": "_toCktPanH0S"
      },
      "source": [
        "\n",
        "def analyse_data(alphas,lbls,predicted,f_idx):\n",
        "    '''\n",
        "       analysis data is created here\n",
        "    '''\n",
        "    batch = len(predicted)\n",
        "    amth,alth,ftpt,ffpt,ftpf,ffpf = 0,0,0,0,0,0\n",
        "    for j in range (batch):\n",
        "      focus = np.argmax(alphas[j])\n",
        "      if(alphas[j][focus] >= 0.5):\n",
        "        amth +=1\n",
        "      else:\n",
        "        alth +=1\n",
        "      if(focus == f_idx[j] and predicted[j] == lbls[j]):\n",
        "        ftpt += 1\n",
        "      elif(focus != f_idx[j] and predicted[j] == lbls[j]):\n",
        "        ffpt +=1\n",
        "      elif(focus == f_idx[j] and predicted[j] != lbls[j]):\n",
        "        ftpf +=1\n",
        "      elif(focus != f_idx[j] and predicted[j] != lbls[j]):\n",
        "        ffpf +=1\n",
        "    #print(sum(predicted==lbls),ftpt+ffpt)\n",
        "    return [ftpt,ffpt,ftpf,ffpf,amth,alth]"
      ],
      "execution_count": 14,
      "outputs": []
    },
    {
      "cell_type": "code",
      "metadata": {
        "id": "S633XgMToeN3"
      },
      "source": [
        "optim1 = []\n",
        "for i in range(120):\n",
        "  optim1.append(optim.RMSprop([ag[i]], lr=10))"
      ],
      "execution_count": 15,
      "outputs": []
    },
    {
      "cell_type": "code",
      "metadata": {
        "colab": {
          "base_uri": "https://localhost:8080/"
        },
        "id": "qPaYaojinMTA",
        "outputId": "0615cb13-badc-4f2c-afdd-8d20de4dfba6"
      },
      "source": [
        "# instantiate optimizer\n",
        "optimizer_what = optim.RMSprop(what_net.parameters(), lr=0.001)#, momentum=0.9)#,nesterov=True)\n",
        "\n",
        "criterion = nn.CrossEntropyLoss()\n",
        "acti = []\n",
        "analysis_data_tr = []\n",
        "analysis_data_tst = []\n",
        "loss_curi_tr = []\n",
        "loss_curi_tst = []\n",
        "epochs = 200\n",
        "\n",
        "# calculate zeroth epoch loss and FTPT values\n",
        "running_loss,anlys_data,correct,total,accuracy = calculate_attn_loss(train_loader,what_net,criterion)\n",
        "print('training epoch: [%d ] loss: %.3f correct: %.3f, total: %.3f, accuracy: %.3f' %(0,running_loss,correct,total,accuracy)) \n",
        "loss_curi_tr.append(running_loss)\n",
        "analysis_data_tr.append(anlys_data)\n",
        "\n",
        "# training starts \n",
        "for epoch in range(epochs): # loop over the dataset multiple times\n",
        "  ep_lossi = []\n",
        "  running_loss = 0.0\n",
        "  what_net.train()\n",
        "  for i, data in enumerate(train_loader, 0):\n",
        "    # get the inputs\n",
        "    grads = [] \n",
        "    inputs, labels,_  = data\n",
        "    inputs = inputs.double()\n",
        "    alpha = ag[i] # alpha for ith batch\n",
        "    inputs, labels,alpha = inputs.to(\"cuda\"),labels.to(\"cuda\"),alpha.to(\"cuda\")\n",
        "        \n",
        "    # zero the parameter gradients\n",
        "    optimizer_what.zero_grad()\n",
        "    optim1[i].zero_grad()\n",
        "      \n",
        "    # forward + backward + optimize\n",
        "    avg,alpha = attn_avg(inputs,alpha)\n",
        "    outputs = what_net(avg)     \n",
        "    loss = criterion(outputs, labels)\n",
        "\n",
        "    # print statistics\n",
        "    running_loss += loss.item()\n",
        "    alpha.retain_grad()\n",
        "    loss.backward(retain_graph=False)\n",
        "    optimizer_what.step()\n",
        "    optim1[i].step()\n",
        "\n",
        "\n",
        "  running_loss_tr,anls_data,correct,total,accuracy = calculate_attn_loss(train_loader,what_net,criterion)\n",
        "  analysis_data_tr.append(anls_data)\n",
        "  loss_curi_tr.append(running_loss_tr)   #loss per epoch\n",
        "  print('training epoch: [%d ] loss: %.3f correct: %.3f, total: %.3f, accuracy: %.3f' %(epoch+1,running_loss_tr,correct,total,accuracy)) \n",
        "\n",
        "\n",
        "  \n",
        "  if running_loss_tr<=0.08:\n",
        "    break\n",
        "print('Finished Training run ')\n",
        "analysis_data_tr = np.array(analysis_data_tr)\n",
        "\n"
      ],
      "execution_count": 16,
      "outputs": [
        {
          "output_type": "stream",
          "text": [
            "training epoch: [0 ] loss: 1.120 correct: 10151.000, total: 30000.000, accuracy: 0.338\n",
            "training epoch: [1 ] loss: 1.063 correct: 13304.000, total: 30000.000, accuracy: 0.443\n",
            "training epoch: [2 ] loss: 1.019 correct: 13765.000, total: 30000.000, accuracy: 0.459\n",
            "training epoch: [3 ] loss: 1.031 correct: 13740.000, total: 30000.000, accuracy: 0.458\n",
            "training epoch: [4 ] loss: 1.036 correct: 13745.000, total: 30000.000, accuracy: 0.458\n",
            "training epoch: [5 ] loss: 1.043 correct: 13769.000, total: 30000.000, accuracy: 0.459\n",
            "training epoch: [6 ] loss: 1.046 correct: 13761.000, total: 30000.000, accuracy: 0.459\n",
            "training epoch: [7 ] loss: 1.052 correct: 13785.000, total: 30000.000, accuracy: 0.460\n",
            "training epoch: [8 ] loss: 1.049 correct: 13776.000, total: 30000.000, accuracy: 0.459\n",
            "training epoch: [9 ] loss: 1.042 correct: 13786.000, total: 30000.000, accuracy: 0.460\n",
            "training epoch: [10 ] loss: 1.046 correct: 13779.000, total: 30000.000, accuracy: 0.459\n",
            "training epoch: [11 ] loss: 1.049 correct: 13771.000, total: 30000.000, accuracy: 0.459\n",
            "training epoch: [12 ] loss: 1.046 correct: 13768.000, total: 30000.000, accuracy: 0.459\n",
            "training epoch: [13 ] loss: 1.046 correct: 13771.000, total: 30000.000, accuracy: 0.459\n",
            "training epoch: [14 ] loss: 1.046 correct: 13770.000, total: 30000.000, accuracy: 0.459\n",
            "training epoch: [15 ] loss: 1.047 correct: 13789.000, total: 30000.000, accuracy: 0.460\n",
            "training epoch: [16 ] loss: 1.051 correct: 13771.000, total: 30000.000, accuracy: 0.459\n",
            "training epoch: [17 ] loss: 1.051 correct: 13781.000, total: 30000.000, accuracy: 0.459\n",
            "training epoch: [18 ] loss: 1.054 correct: 13789.000, total: 30000.000, accuracy: 0.460\n",
            "training epoch: [19 ] loss: 1.060 correct: 13786.000, total: 30000.000, accuracy: 0.460\n",
            "training epoch: [20 ] loss: 1.063 correct: 13773.000, total: 30000.000, accuracy: 0.459\n",
            "training epoch: [21 ] loss: 1.066 correct: 13786.000, total: 30000.000, accuracy: 0.460\n",
            "training epoch: [22 ] loss: 1.068 correct: 13800.000, total: 30000.000, accuracy: 0.460\n",
            "training epoch: [23 ] loss: 1.073 correct: 13774.000, total: 30000.000, accuracy: 0.459\n",
            "training epoch: [24 ] loss: 1.068 correct: 13811.000, total: 30000.000, accuracy: 0.460\n",
            "training epoch: [25 ] loss: 1.058 correct: 13866.000, total: 30000.000, accuracy: 0.462\n",
            "training epoch: [26 ] loss: 1.059 correct: 13860.000, total: 30000.000, accuracy: 0.462\n",
            "training epoch: [27 ] loss: 1.063 correct: 13878.000, total: 30000.000, accuracy: 0.463\n",
            "training epoch: [28 ] loss: 1.060 correct: 13892.000, total: 30000.000, accuracy: 0.463\n",
            "training epoch: [29 ] loss: 1.063 correct: 13890.000, total: 30000.000, accuracy: 0.463\n",
            "training epoch: [30 ] loss: 1.063 correct: 13903.000, total: 30000.000, accuracy: 0.463\n",
            "training epoch: [31 ] loss: 1.069 correct: 13903.000, total: 30000.000, accuracy: 0.463\n",
            "training epoch: [32 ] loss: 1.071 correct: 13904.000, total: 30000.000, accuracy: 0.463\n",
            "training epoch: [33 ] loss: 1.064 correct: 14028.000, total: 30000.000, accuracy: 0.468\n",
            "training epoch: [34 ] loss: 1.075 correct: 14012.000, total: 30000.000, accuracy: 0.467\n",
            "training epoch: [35 ] loss: 1.075 correct: 14115.000, total: 30000.000, accuracy: 0.470\n",
            "training epoch: [36 ] loss: 1.080 correct: 14219.000, total: 30000.000, accuracy: 0.474\n",
            "training epoch: [37 ] loss: 1.076 correct: 14251.000, total: 30000.000, accuracy: 0.475\n",
            "training epoch: [38 ] loss: 1.084 correct: 14296.000, total: 30000.000, accuracy: 0.477\n",
            "training epoch: [39 ] loss: 1.086 correct: 14326.000, total: 30000.000, accuracy: 0.478\n",
            "training epoch: [40 ] loss: 1.080 correct: 14338.000, total: 30000.000, accuracy: 0.478\n",
            "training epoch: [41 ] loss: 1.093 correct: 14407.000, total: 30000.000, accuracy: 0.480\n",
            "training epoch: [42 ] loss: 1.090 correct: 14473.000, total: 30000.000, accuracy: 0.482\n",
            "training epoch: [43 ] loss: 1.103 correct: 14355.000, total: 30000.000, accuracy: 0.478\n",
            "training epoch: [44 ] loss: 1.071 correct: 14455.000, total: 30000.000, accuracy: 0.482\n",
            "training epoch: [45 ] loss: 1.071 correct: 14487.000, total: 30000.000, accuracy: 0.483\n",
            "training epoch: [46 ] loss: 1.064 correct: 14526.000, total: 30000.000, accuracy: 0.484\n",
            "training epoch: [47 ] loss: 1.075 correct: 14570.000, total: 30000.000, accuracy: 0.486\n",
            "training epoch: [48 ] loss: 1.091 correct: 14541.000, total: 30000.000, accuracy: 0.485\n",
            "training epoch: [49 ] loss: 1.072 correct: 14635.000, total: 30000.000, accuracy: 0.488\n",
            "training epoch: [50 ] loss: 1.079 correct: 14671.000, total: 30000.000, accuracy: 0.489\n",
            "training epoch: [51 ] loss: 1.071 correct: 14668.000, total: 30000.000, accuracy: 0.489\n",
            "training epoch: [52 ] loss: 1.083 correct: 14751.000, total: 30000.000, accuracy: 0.492\n",
            "training epoch: [53 ] loss: 1.096 correct: 14720.000, total: 30000.000, accuracy: 0.491\n",
            "training epoch: [54 ] loss: 1.088 correct: 14723.000, total: 30000.000, accuracy: 0.491\n",
            "training epoch: [55 ] loss: 1.091 correct: 14718.000, total: 30000.000, accuracy: 0.491\n",
            "training epoch: [56 ] loss: 1.090 correct: 14777.000, total: 30000.000, accuracy: 0.493\n",
            "training epoch: [57 ] loss: 1.074 correct: 14867.000, total: 30000.000, accuracy: 0.496\n",
            "training epoch: [58 ] loss: 1.127 correct: 14707.000, total: 30000.000, accuracy: 0.490\n",
            "training epoch: [59 ] loss: 1.100 correct: 14887.000, total: 30000.000, accuracy: 0.496\n",
            "training epoch: [60 ] loss: 1.137 correct: 14789.000, total: 30000.000, accuracy: 0.493\n",
            "training epoch: [61 ] loss: 1.088 correct: 14967.000, total: 30000.000, accuracy: 0.499\n",
            "training epoch: [62 ] loss: 1.106 correct: 14902.000, total: 30000.000, accuracy: 0.497\n",
            "training epoch: [63 ] loss: 1.099 correct: 15002.000, total: 30000.000, accuracy: 0.500\n",
            "training epoch: [64 ] loss: 1.098 correct: 15001.000, total: 30000.000, accuracy: 0.500\n",
            "training epoch: [65 ] loss: 1.101 correct: 15035.000, total: 30000.000, accuracy: 0.501\n",
            "training epoch: [66 ] loss: 1.099 correct: 15081.000, total: 30000.000, accuracy: 0.503\n",
            "training epoch: [67 ] loss: 1.108 correct: 15085.000, total: 30000.000, accuracy: 0.503\n",
            "training epoch: [68 ] loss: 1.072 correct: 15163.000, total: 30000.000, accuracy: 0.505\n",
            "training epoch: [69 ] loss: 1.089 correct: 15090.000, total: 30000.000, accuracy: 0.503\n",
            "training epoch: [70 ] loss: 1.080 correct: 15186.000, total: 30000.000, accuracy: 0.506\n",
            "training epoch: [71 ] loss: 1.078 correct: 15214.000, total: 30000.000, accuracy: 0.507\n",
            "training epoch: [72 ] loss: 1.072 correct: 15179.000, total: 30000.000, accuracy: 0.506\n",
            "training epoch: [73 ] loss: 1.111 correct: 14997.000, total: 30000.000, accuracy: 0.500\n",
            "training epoch: [74 ] loss: 1.091 correct: 15224.000, total: 30000.000, accuracy: 0.507\n",
            "training epoch: [75 ] loss: 1.097 correct: 15253.000, total: 30000.000, accuracy: 0.508\n",
            "training epoch: [76 ] loss: 1.257 correct: 14841.000, total: 30000.000, accuracy: 0.495\n",
            "training epoch: [77 ] loss: 1.111 correct: 15307.000, total: 30000.000, accuracy: 0.510\n",
            "training epoch: [78 ] loss: 1.111 correct: 15315.000, total: 30000.000, accuracy: 0.510\n",
            "training epoch: [79 ] loss: 1.091 correct: 15267.000, total: 30000.000, accuracy: 0.509\n",
            "training epoch: [80 ] loss: 1.100 correct: 15299.000, total: 30000.000, accuracy: 0.510\n",
            "training epoch: [81 ] loss: 1.126 correct: 15246.000, total: 30000.000, accuracy: 0.508\n",
            "training epoch: [82 ] loss: 1.103 correct: 15353.000, total: 30000.000, accuracy: 0.512\n",
            "training epoch: [83 ] loss: 1.122 correct: 15283.000, total: 30000.000, accuracy: 0.509\n",
            "training epoch: [84 ] loss: 1.106 correct: 15425.000, total: 30000.000, accuracy: 0.514\n",
            "training epoch: [85 ] loss: 1.116 correct: 15343.000, total: 30000.000, accuracy: 0.511\n",
            "training epoch: [86 ] loss: 1.125 correct: 15406.000, total: 30000.000, accuracy: 0.514\n",
            "training epoch: [87 ] loss: 1.101 correct: 15393.000, total: 30000.000, accuracy: 0.513\n",
            "training epoch: [88 ] loss: 1.129 correct: 15377.000, total: 30000.000, accuracy: 0.513\n",
            "training epoch: [89 ] loss: 1.122 correct: 15429.000, total: 30000.000, accuracy: 0.514\n",
            "training epoch: [90 ] loss: 1.151 correct: 15443.000, total: 30000.000, accuracy: 0.515\n",
            "training epoch: [91 ] loss: 1.126 correct: 15507.000, total: 30000.000, accuracy: 0.517\n",
            "training epoch: [92 ] loss: 1.102 correct: 15600.000, total: 30000.000, accuracy: 0.520\n",
            "training epoch: [93 ] loss: 1.144 correct: 15588.000, total: 30000.000, accuracy: 0.520\n",
            "training epoch: [94 ] loss: 1.140 correct: 15600.000, total: 30000.000, accuracy: 0.520\n",
            "training epoch: [95 ] loss: 1.174 correct: 15643.000, total: 30000.000, accuracy: 0.521\n",
            "training epoch: [96 ] loss: 1.147 correct: 15556.000, total: 30000.000, accuracy: 0.519\n",
            "training epoch: [97 ] loss: 1.160 correct: 15656.000, total: 30000.000, accuracy: 0.522\n",
            "training epoch: [98 ] loss: 1.197 correct: 15603.000, total: 30000.000, accuracy: 0.520\n",
            "training epoch: [99 ] loss: 1.187 correct: 15768.000, total: 30000.000, accuracy: 0.526\n",
            "training epoch: [100 ] loss: 1.201 correct: 15658.000, total: 30000.000, accuracy: 0.522\n",
            "training epoch: [101 ] loss: 1.173 correct: 15745.000, total: 30000.000, accuracy: 0.525\n",
            "training epoch: [102 ] loss: 1.191 correct: 15696.000, total: 30000.000, accuracy: 0.523\n",
            "training epoch: [103 ] loss: 1.228 correct: 15520.000, total: 30000.000, accuracy: 0.517\n",
            "training epoch: [104 ] loss: 1.199 correct: 15838.000, total: 30000.000, accuracy: 0.528\n",
            "training epoch: [105 ] loss: 1.258 correct: 15826.000, total: 30000.000, accuracy: 0.528\n",
            "training epoch: [106 ] loss: 1.229 correct: 15823.000, total: 30000.000, accuracy: 0.527\n",
            "training epoch: [107 ] loss: 1.212 correct: 15902.000, total: 30000.000, accuracy: 0.530\n",
            "training epoch: [108 ] loss: 1.240 correct: 15919.000, total: 30000.000, accuracy: 0.531\n",
            "training epoch: [109 ] loss: 1.182 correct: 15972.000, total: 30000.000, accuracy: 0.532\n",
            "training epoch: [110 ] loss: 1.234 correct: 16015.000, total: 30000.000, accuracy: 0.534\n",
            "training epoch: [111 ] loss: 1.204 correct: 15991.000, total: 30000.000, accuracy: 0.533\n",
            "training epoch: [112 ] loss: 1.253 correct: 15994.000, total: 30000.000, accuracy: 0.533\n",
            "training epoch: [113 ] loss: 1.267 correct: 16024.000, total: 30000.000, accuracy: 0.534\n",
            "training epoch: [114 ] loss: 1.236 correct: 15694.000, total: 30000.000, accuracy: 0.523\n",
            "training epoch: [115 ] loss: 1.292 correct: 15715.000, total: 30000.000, accuracy: 0.524\n",
            "training epoch: [116 ] loss: 1.295 correct: 15791.000, total: 30000.000, accuracy: 0.526\n",
            "training epoch: [117 ] loss: 1.264 correct: 16063.000, total: 30000.000, accuracy: 0.535\n",
            "training epoch: [118 ] loss: 1.248 correct: 16020.000, total: 30000.000, accuracy: 0.534\n",
            "training epoch: [119 ] loss: 1.347 correct: 15952.000, total: 30000.000, accuracy: 0.532\n",
            "training epoch: [120 ] loss: 1.261 correct: 16087.000, total: 30000.000, accuracy: 0.536\n",
            "training epoch: [121 ] loss: 1.282 correct: 16196.000, total: 30000.000, accuracy: 0.540\n",
            "training epoch: [122 ] loss: 1.261 correct: 16248.000, total: 30000.000, accuracy: 0.542\n",
            "training epoch: [123 ] loss: 1.309 correct: 16201.000, total: 30000.000, accuracy: 0.540\n",
            "training epoch: [124 ] loss: 1.268 correct: 16295.000, total: 30000.000, accuracy: 0.543\n",
            "training epoch: [125 ] loss: 1.259 correct: 16300.000, total: 30000.000, accuracy: 0.543\n",
            "training epoch: [126 ] loss: 1.289 correct: 16285.000, total: 30000.000, accuracy: 0.543\n",
            "training epoch: [127 ] loss: 1.229 correct: 16299.000, total: 30000.000, accuracy: 0.543\n",
            "training epoch: [128 ] loss: 1.237 correct: 16336.000, total: 30000.000, accuracy: 0.545\n",
            "training epoch: [129 ] loss: 1.275 correct: 16272.000, total: 30000.000, accuracy: 0.542\n",
            "training epoch: [130 ] loss: 1.291 correct: 16305.000, total: 30000.000, accuracy: 0.543\n",
            "training epoch: [131 ] loss: 1.304 correct: 16383.000, total: 30000.000, accuracy: 0.546\n",
            "training epoch: [132 ] loss: 1.309 correct: 16349.000, total: 30000.000, accuracy: 0.545\n",
            "training epoch: [133 ] loss: 1.299 correct: 16367.000, total: 30000.000, accuracy: 0.546\n",
            "training epoch: [134 ] loss: 1.322 correct: 16434.000, total: 30000.000, accuracy: 0.548\n",
            "training epoch: [135 ] loss: 1.267 correct: 16507.000, total: 30000.000, accuracy: 0.550\n",
            "training epoch: [136 ] loss: 1.282 correct: 16507.000, total: 30000.000, accuracy: 0.550\n",
            "training epoch: [137 ] loss: 1.337 correct: 16211.000, total: 30000.000, accuracy: 0.540\n",
            "training epoch: [138 ] loss: 1.286 correct: 16367.000, total: 30000.000, accuracy: 0.546\n",
            "training epoch: [139 ] loss: 1.283 correct: 16386.000, total: 30000.000, accuracy: 0.546\n",
            "training epoch: [140 ] loss: 1.308 correct: 16336.000, total: 30000.000, accuracy: 0.545\n",
            "training epoch: [141 ] loss: 1.264 correct: 16573.000, total: 30000.000, accuracy: 0.552\n",
            "training epoch: [142 ] loss: 1.363 correct: 16415.000, total: 30000.000, accuracy: 0.547\n",
            "training epoch: [143 ] loss: 1.357 correct: 16381.000, total: 30000.000, accuracy: 0.546\n",
            "training epoch: [144 ] loss: 1.340 correct: 16456.000, total: 30000.000, accuracy: 0.549\n",
            "training epoch: [145 ] loss: 1.398 correct: 16400.000, total: 30000.000, accuracy: 0.547\n",
            "training epoch: [146 ] loss: 1.321 correct: 16600.000, total: 30000.000, accuracy: 0.553\n",
            "training epoch: [147 ] loss: 1.366 correct: 16470.000, total: 30000.000, accuracy: 0.549\n",
            "training epoch: [148 ] loss: 1.354 correct: 16472.000, total: 30000.000, accuracy: 0.549\n",
            "training epoch: [149 ] loss: 1.334 correct: 16547.000, total: 30000.000, accuracy: 0.552\n",
            "training epoch: [150 ] loss: 1.436 correct: 16453.000, total: 30000.000, accuracy: 0.548\n",
            "training epoch: [151 ] loss: 1.305 correct: 16634.000, total: 30000.000, accuracy: 0.554\n",
            "training epoch: [152 ] loss: 1.368 correct: 16383.000, total: 30000.000, accuracy: 0.546\n",
            "training epoch: [153 ] loss: 1.483 correct: 16186.000, total: 30000.000, accuracy: 0.540\n",
            "training epoch: [154 ] loss: 1.338 correct: 16621.000, total: 30000.000, accuracy: 0.554\n",
            "training epoch: [155 ] loss: 1.331 correct: 16665.000, total: 30000.000, accuracy: 0.555\n",
            "training epoch: [156 ] loss: 1.306 correct: 16684.000, total: 30000.000, accuracy: 0.556\n",
            "training epoch: [157 ] loss: 1.365 correct: 16564.000, total: 30000.000, accuracy: 0.552\n",
            "training epoch: [158 ] loss: 1.347 correct: 16528.000, total: 30000.000, accuracy: 0.551\n",
            "training epoch: [159 ] loss: 1.410 correct: 16438.000, total: 30000.000, accuracy: 0.548\n",
            "training epoch: [160 ] loss: 1.371 correct: 16621.000, total: 30000.000, accuracy: 0.554\n",
            "training epoch: [161 ] loss: 1.289 correct: 16732.000, total: 30000.000, accuracy: 0.558\n",
            "training epoch: [162 ] loss: 1.359 correct: 16588.000, total: 30000.000, accuracy: 0.553\n",
            "training epoch: [163 ] loss: 1.425 correct: 16563.000, total: 30000.000, accuracy: 0.552\n",
            "training epoch: [164 ] loss: 1.466 correct: 16525.000, total: 30000.000, accuracy: 0.551\n",
            "training epoch: [165 ] loss: 1.387 correct: 16653.000, total: 30000.000, accuracy: 0.555\n",
            "training epoch: [166 ] loss: 1.349 correct: 16741.000, total: 30000.000, accuracy: 0.558\n",
            "training epoch: [167 ] loss: 1.388 correct: 16733.000, total: 30000.000, accuracy: 0.558\n",
            "training epoch: [168 ] loss: 1.352 correct: 16786.000, total: 30000.000, accuracy: 0.560\n",
            "training epoch: [169 ] loss: 1.388 correct: 16730.000, total: 30000.000, accuracy: 0.558\n",
            "training epoch: [170 ] loss: 1.382 correct: 16699.000, total: 30000.000, accuracy: 0.557\n",
            "training epoch: [171 ] loss: 1.406 correct: 16655.000, total: 30000.000, accuracy: 0.555\n",
            "training epoch: [172 ] loss: 1.434 correct: 16781.000, total: 30000.000, accuracy: 0.559\n",
            "training epoch: [173 ] loss: 1.352 correct: 16822.000, total: 30000.000, accuracy: 0.561\n",
            "training epoch: [174 ] loss: 1.456 correct: 16642.000, total: 30000.000, accuracy: 0.555\n",
            "training epoch: [175 ] loss: 1.429 correct: 16723.000, total: 30000.000, accuracy: 0.557\n",
            "training epoch: [176 ] loss: 1.413 correct: 16757.000, total: 30000.000, accuracy: 0.559\n",
            "training epoch: [177 ] loss: 1.591 correct: 16375.000, total: 30000.000, accuracy: 0.546\n",
            "training epoch: [178 ] loss: 1.406 correct: 16857.000, total: 30000.000, accuracy: 0.562\n",
            "training epoch: [179 ] loss: 1.413 correct: 16816.000, total: 30000.000, accuracy: 0.561\n",
            "training epoch: [180 ] loss: 1.372 correct: 16889.000, total: 30000.000, accuracy: 0.563\n",
            "training epoch: [181 ] loss: 1.440 correct: 16824.000, total: 30000.000, accuracy: 0.561\n",
            "training epoch: [182 ] loss: 1.474 correct: 16718.000, total: 30000.000, accuracy: 0.557\n",
            "training epoch: [183 ] loss: 1.368 correct: 16931.000, total: 30000.000, accuracy: 0.564\n",
            "training epoch: [184 ] loss: 1.406 correct: 16751.000, total: 30000.000, accuracy: 0.558\n",
            "training epoch: [185 ] loss: 1.402 correct: 16910.000, total: 30000.000, accuracy: 0.564\n",
            "training epoch: [186 ] loss: 1.398 correct: 16801.000, total: 30000.000, accuracy: 0.560\n",
            "training epoch: [187 ] loss: 1.417 correct: 16812.000, total: 30000.000, accuracy: 0.560\n",
            "training epoch: [188 ] loss: 1.513 correct: 16782.000, total: 30000.000, accuracy: 0.559\n",
            "training epoch: [189 ] loss: 1.529 correct: 16655.000, total: 30000.000, accuracy: 0.555\n",
            "training epoch: [190 ] loss: 1.344 correct: 17001.000, total: 30000.000, accuracy: 0.567\n",
            "training epoch: [191 ] loss: 1.413 correct: 16866.000, total: 30000.000, accuracy: 0.562\n",
            "training epoch: [192 ] loss: 1.478 correct: 16943.000, total: 30000.000, accuracy: 0.565\n",
            "training epoch: [193 ] loss: 1.460 correct: 16792.000, total: 30000.000, accuracy: 0.560\n",
            "training epoch: [194 ] loss: 1.475 correct: 16858.000, total: 30000.000, accuracy: 0.562\n",
            "training epoch: [195 ] loss: 1.440 correct: 16889.000, total: 30000.000, accuracy: 0.563\n",
            "training epoch: [196 ] loss: 1.483 correct: 16884.000, total: 30000.000, accuracy: 0.563\n",
            "training epoch: [197 ] loss: 1.499 correct: 16846.000, total: 30000.000, accuracy: 0.562\n",
            "training epoch: [198 ] loss: 1.409 correct: 16904.000, total: 30000.000, accuracy: 0.563\n",
            "training epoch: [199 ] loss: 1.414 correct: 16881.000, total: 30000.000, accuracy: 0.563\n",
            "training epoch: [200 ] loss: 1.389 correct: 16954.000, total: 30000.000, accuracy: 0.565\n",
            "Finished Training run \n"
          ],
          "name": "stdout"
        }
      ]
    },
    {
      "cell_type": "code",
      "metadata": {
        "id": "AciJnAh5nfug"
      },
      "source": [
        "columns = [\"epochs\", \"argmax > 0.5\" ,\"argmax < 0.5\", \"focus_true_pred_true\", \"focus_false_pred_true\", \"focus_true_pred_false\", \"focus_false_pred_false\" ]\n",
        "df_train = pd.DataFrame()\n",
        "df_test = pd.DataFrame()\n",
        "df_train[columns[0]] = np.arange(0,epoch+2)\n",
        "df_train[columns[1]] = analysis_data_tr[:,-2]\n",
        "df_train[columns[2]] = analysis_data_tr[:,-1]\n",
        "df_train[columns[3]] = analysis_data_tr[:,0]\n",
        "df_train[columns[4]] = analysis_data_tr[:,1]\n",
        "df_train[columns[5]] = analysis_data_tr[:,2]\n",
        "df_train[columns[6]] = analysis_data_tr[:,3]"
      ],
      "execution_count": 17,
      "outputs": []
    },
    {
      "cell_type": "code",
      "metadata": {
        "colab": {
          "base_uri": "https://localhost:8080/",
          "height": 424
        },
        "id": "NoQpS_6scRsC",
        "outputId": "5a5b2b90-2655-47c4-d1af-446643e4eed2"
      },
      "source": [
        "df_train"
      ],
      "execution_count": 18,
      "outputs": [
        {
          "output_type": "execute_result",
          "data": {
            "text/html": [
              "<div>\n",
              "<style scoped>\n",
              "    .dataframe tbody tr th:only-of-type {\n",
              "        vertical-align: middle;\n",
              "    }\n",
              "\n",
              "    .dataframe tbody tr th {\n",
              "        vertical-align: top;\n",
              "    }\n",
              "\n",
              "    .dataframe thead th {\n",
              "        text-align: right;\n",
              "    }\n",
              "</style>\n",
              "<table border=\"1\" class=\"dataframe\">\n",
              "  <thead>\n",
              "    <tr style=\"text-align: right;\">\n",
              "      <th></th>\n",
              "      <th>epochs</th>\n",
              "      <th>argmax &gt; 0.5</th>\n",
              "      <th>argmax &lt; 0.5</th>\n",
              "      <th>focus_true_pred_true</th>\n",
              "      <th>focus_false_pred_true</th>\n",
              "      <th>focus_true_pred_false</th>\n",
              "      <th>focus_false_pred_false</th>\n",
              "    </tr>\n",
              "  </thead>\n",
              "  <tbody>\n",
              "    <tr>\n",
              "      <th>0</th>\n",
              "      <td>0</td>\n",
              "      <td>0</td>\n",
              "      <td>30000</td>\n",
              "      <td>1129</td>\n",
              "      <td>9022</td>\n",
              "      <td>2255</td>\n",
              "      <td>17594</td>\n",
              "    </tr>\n",
              "    <tr>\n",
              "      <th>1</th>\n",
              "      <td>1</td>\n",
              "      <td>15946</td>\n",
              "      <td>14054</td>\n",
              "      <td>1815</td>\n",
              "      <td>11489</td>\n",
              "      <td>1875</td>\n",
              "      <td>14821</td>\n",
              "    </tr>\n",
              "    <tr>\n",
              "      <th>2</th>\n",
              "      <td>2</td>\n",
              "      <td>15944</td>\n",
              "      <td>14056</td>\n",
              "      <td>1933</td>\n",
              "      <td>11832</td>\n",
              "      <td>1756</td>\n",
              "      <td>14479</td>\n",
              "    </tr>\n",
              "    <tr>\n",
              "      <th>3</th>\n",
              "      <td>3</td>\n",
              "      <td>15944</td>\n",
              "      <td>14056</td>\n",
              "      <td>1932</td>\n",
              "      <td>11808</td>\n",
              "      <td>1757</td>\n",
              "      <td>14503</td>\n",
              "    </tr>\n",
              "    <tr>\n",
              "      <th>4</th>\n",
              "      <td>4</td>\n",
              "      <td>15945</td>\n",
              "      <td>14055</td>\n",
              "      <td>1924</td>\n",
              "      <td>11821</td>\n",
              "      <td>1765</td>\n",
              "      <td>14490</td>\n",
              "    </tr>\n",
              "    <tr>\n",
              "      <th>...</th>\n",
              "      <td>...</td>\n",
              "      <td>...</td>\n",
              "      <td>...</td>\n",
              "      <td>...</td>\n",
              "      <td>...</td>\n",
              "      <td>...</td>\n",
              "      <td>...</td>\n",
              "    </tr>\n",
              "    <tr>\n",
              "      <th>196</th>\n",
              "      <td>196</td>\n",
              "      <td>15947</td>\n",
              "      <td>14053</td>\n",
              "      <td>2458</td>\n",
              "      <td>14426</td>\n",
              "      <td>1230</td>\n",
              "      <td>11886</td>\n",
              "    </tr>\n",
              "    <tr>\n",
              "      <th>197</th>\n",
              "      <td>197</td>\n",
              "      <td>15947</td>\n",
              "      <td>14053</td>\n",
              "      <td>2455</td>\n",
              "      <td>14391</td>\n",
              "      <td>1233</td>\n",
              "      <td>11921</td>\n",
              "    </tr>\n",
              "    <tr>\n",
              "      <th>198</th>\n",
              "      <td>198</td>\n",
              "      <td>15947</td>\n",
              "      <td>14053</td>\n",
              "      <td>2449</td>\n",
              "      <td>14455</td>\n",
              "      <td>1239</td>\n",
              "      <td>11857</td>\n",
              "    </tr>\n",
              "    <tr>\n",
              "      <th>199</th>\n",
              "      <td>199</td>\n",
              "      <td>15947</td>\n",
              "      <td>14053</td>\n",
              "      <td>2453</td>\n",
              "      <td>14428</td>\n",
              "      <td>1235</td>\n",
              "      <td>11884</td>\n",
              "    </tr>\n",
              "    <tr>\n",
              "      <th>200</th>\n",
              "      <td>200</td>\n",
              "      <td>15947</td>\n",
              "      <td>14053</td>\n",
              "      <td>2486</td>\n",
              "      <td>14468</td>\n",
              "      <td>1202</td>\n",
              "      <td>11844</td>\n",
              "    </tr>\n",
              "  </tbody>\n",
              "</table>\n",
              "<p>201 rows × 7 columns</p>\n",
              "</div>"
            ],
            "text/plain": [
              "     epochs  argmax > 0.5  ...  focus_true_pred_false  focus_false_pred_false\n",
              "0         0             0  ...                   2255                   17594\n",
              "1         1         15946  ...                   1875                   14821\n",
              "2         2         15944  ...                   1756                   14479\n",
              "3         3         15944  ...                   1757                   14503\n",
              "4         4         15945  ...                   1765                   14490\n",
              "..      ...           ...  ...                    ...                     ...\n",
              "196     196         15947  ...                   1230                   11886\n",
              "197     197         15947  ...                   1233                   11921\n",
              "198     198         15947  ...                   1239                   11857\n",
              "199     199         15947  ...                   1235                   11884\n",
              "200     200         15947  ...                   1202                   11844\n",
              "\n",
              "[201 rows x 7 columns]"
            ]
          },
          "metadata": {
            "tags": []
          },
          "execution_count": 18
        }
      ]
    },
    {
      "cell_type": "code",
      "metadata": {
        "colab": {
          "base_uri": "https://localhost:8080/",
          "height": 730
        },
        "id": "IMAhRdxOcVf6",
        "outputId": "82a3bb4e-1c14-4765-e438-478afbfe9e40"
      },
      "source": [
        "fig= plt.figure(figsize=(12,12))\n",
        "plt.plot(df_train[columns[0]],df_train[columns[3]]/300, label =\"focus_true_pred_true \")\n",
        "plt.plot(df_train[columns[0]],df_train[columns[4]]/300, label =\"focus_false_pred_true \")\n",
        "plt.plot(df_train[columns[0]],df_train[columns[5]]/300, label =\"focus_true_pred_false \")\n",
        "plt.plot(df_train[columns[0]],df_train[columns[6]]/300, label =\"focus_false_pred_false \")\n",
        "plt.title(\"On Train set\")\n",
        "plt.legend(loc='center left', bbox_to_anchor=(1, 0.5))\n",
        "plt.xlabel(\"epochs\")\n",
        "plt.ylabel(\"percentage of data\")\n",
        "#plt.vlines(vline_list,min(min(df_train[columns[3]]/300),min(df_train[columns[4]]/300),min(df_train[columns[5]]/300),min(df_train[columns[6]]/300)), max(max(df_train[columns[3]]/300),max(df_train[columns[4]]/300),max(df_train[columns[5]]/300),max(df_train[columns[6]]/300)),linestyles='dotted')\n",
        "plt.show()\n",
        "fig.savefig(\"train_analysis_every_20.pdf\")\n",
        "fig.savefig(\"train_analysis_every_20.png\")"
      ],
      "execution_count": 19,
      "outputs": [
        {
          "output_type": "display_data",
          "data": {
            "image/png": "[encoded data removed]",
            "text/plain": [
              "<Figure size 864x864 with 1 Axes>"
            ]
          },
          "metadata": {
            "tags": [],
            "needs_background": "light"
          }
        }
      ]
    },
    {
      "cell_type": "code",
      "metadata": {
        "id": "VCnS6r2_3WdU"
      },
      "source": [
        "aph = []\n",
        "for i in ag:\n",
        "  aph.append(F.softmax(i,dim=1).detach().numpy())\n",
        "  \n",
        "aph = np.concatenate(aph,axis=0)\n",
        "torch.save({\n",
        "            'epoch': 500,\n",
        "            'model_state_dict': what_net.state_dict(),\n",
        "            'optimizer_state_dict': optimizer_what.state_dict(),\n",
        "            \"optimizer_alpha\":optim1,\n",
        "            \"FTPT_analysis\":analysis_data_tr,\n",
        "            \"alpha\":aph\n",
        "\n",
        "            }, \"cifar_what_net_500.pt\")"
      ],
      "execution_count": 20,
      "outputs": []
    },
    {
      "cell_type": "code",
      "metadata": {
        "colab": {
          "base_uri": "https://localhost:8080/"
        },
        "id": "KVzrDOGS4UxU",
        "outputId": "c91903b2-ca42-495a-c8a4-f4c94d1cef20"
      },
      "source": [
        "aph"
      ],
      "execution_count": 21,
      "outputs": [
        {
          "output_type": "execute_result",
          "data": {
            "text/plain": [
              "array([[0.   , 0.125, 0.125, ..., 0.125, 0.125, 0.125],\n",
              "       [0.   , 0.125, 0.125, ..., 0.125, 0.125, 0.125],\n",
              "       [0.   , 0.125, 0.125, ..., 0.125, 0.125, 0.125],\n",
              "       ...,\n",
              "       [1.   , 0.   , 0.   , ..., 0.   , 0.   , 0.   ],\n",
              "       [0.   , 0.125, 0.125, ..., 0.125, 0.125, 0.125],\n",
              "       [1.   , 0.   , 0.   , ..., 0.   , 0.   , 0.   ]], dtype=float32)"
            ]
          },
          "metadata": {
            "tags": []
          },
          "execution_count": 21
        }
      ]
    },
    {
      "cell_type": "code",
      "metadata": {
        "id": "Z6heHND15EMz"
      },
      "source": [
        "running_loss_tr,anls_data,correct,total,accuracy = calculate_attn_loss(train_loader,what_net,criterion)"
      ],
      "execution_count": 22,
      "outputs": []
    },
    {
      "cell_type": "code",
      "metadata": {
        "colab": {
          "base_uri": "https://localhost:8080/"
        },
        "id": "zeKhsdpYWQvB",
        "outputId": "67aa9bcf-ce12-4436-896d-bac1cf08fc49"
      },
      "source": [
        "anls_data"
      ],
      "execution_count": 23,
      "outputs": [
        {
          "output_type": "execute_result",
          "data": {
            "text/plain": [
              "[2486, 14468, 1202, 11844, 15947, 14053]"
            ]
          },
          "metadata": {
            "tags": []
          },
          "execution_count": 23
        }
      ]
    },
    {
      "cell_type": "code",
      "metadata": {
        "id": "yF2bvWdIWUTa"
      },
      "source": [
        ""
      ],
      "execution_count": 23,
      "outputs": []
    }
  ]
}