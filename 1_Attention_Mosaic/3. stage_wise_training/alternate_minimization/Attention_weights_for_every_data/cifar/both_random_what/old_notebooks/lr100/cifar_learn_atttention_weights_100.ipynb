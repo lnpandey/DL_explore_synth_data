{
  "nbformat": 4,
  "nbformat_minor": 0,
  "metadata": {
    "accelerator": "GPU",
    "colab": {
      "name": "cifar_learn_atttention_weights_100.ipynb",
      "provenance": [],
      "collapsed_sections": []
    },
    "kernelspec": {
      "display_name": "Python 3",
      "name": "python3"
    },
    "language_info": {
      "name": "python"
    },
    "widgets": {
      "application/vnd.jupyter.widget-state+json": {
        "6893727f056046b0801bf29477d2671c": {
          "model_module": "@jupyter-widgets/controls",
          "model_name": "HBoxModel",
          "state": {
            "_view_name": "HBoxView",
            "_dom_classes": [],
            "_model_name": "HBoxModel",
            "_view_module": "@jupyter-widgets/controls",
            "_model_module_version": "1.5.0",
            "_view_count": null,
            "_view_module_version": "1.5.0",
            "box_style": "",
            "layout": "IPY_MODEL_e076beecc50b40c981542e213297040a",
            "_model_module": "@jupyter-widgets/controls",
            "children": [
              "IPY_MODEL_5664e2de4e714293ac9cedc02a9ceb6b",
              "IPY_MODEL_d8b7df07de2d4c6db3d2606b6c044440"
            ]
          }
        },
        "e076beecc50b40c981542e213297040a": {
          "model_module": "@jupyter-widgets/base",
          "model_name": "LayoutModel",
          "state": {
            "_view_name": "LayoutView",
            "grid_template_rows": null,
            "right": null,
            "justify_content": null,
            "_view_module": "@jupyter-widgets/base",
            "overflow": null,
            "_model_module_version": "1.2.0",
            "_view_count": null,
            "flex_flow": null,
            "width": null,
            "min_width": null,
            "border": null,
            "align_items": null,
            "bottom": null,
            "_model_module": "@jupyter-widgets/base",
            "top": null,
            "grid_column": null,
            "overflow_y": null,
            "overflow_x": null,
            "grid_auto_flow": null,
            "grid_area": null,
            "grid_template_columns": null,
            "flex": null,
            "_model_name": "LayoutModel",
            "justify_items": null,
            "grid_row": null,
            "max_height": null,
            "align_content": null,
            "visibility": null,
            "align_self": null,
            "height": null,
            "min_height": null,
            "padding": null,
            "grid_auto_rows": null,
            "grid_gap": null,
            "max_width": null,
            "order": null,
            "_view_module_version": "1.2.0",
            "grid_template_areas": null,
            "object_position": null,
            "object_fit": null,
            "grid_auto_columns": null,
            "margin": null,
            "display": null,
            "left": null
          }
        },
        "5664e2de4e714293ac9cedc02a9ceb6b": {
          "model_module": "@jupyter-widgets/controls",
          "model_name": "FloatProgressModel",
          "state": {
            "_view_name": "ProgressView",
            "style": "IPY_MODEL_f1d4c1a2b4e443dd890e30ad0d72545f",
            "_dom_classes": [],
            "description": "",
            "_model_name": "FloatProgressModel",
            "bar_style": "success",
            "max": 170498071,
            "_view_module": "@jupyter-widgets/controls",
            "_model_module_version": "1.5.0",
            "value": 170498071,
            "_view_count": null,
            "_view_module_version": "1.5.0",
            "orientation": "horizontal",
            "min": 0,
            "description_tooltip": null,
            "_model_module": "@jupyter-widgets/controls",
            "layout": "IPY_MODEL_907d7f4a1e5e4ffd9000a0287f01a3c7"
          }
        },
        "d8b7df07de2d4c6db3d2606b6c044440": {
          "model_module": "@jupyter-widgets/controls",
          "model_name": "HTMLModel",
          "state": {
            "_view_name": "HTMLView",
            "style": "IPY_MODEL_c7a274f92ad14c7881c7ab4abb9c1d45",
            "_dom_classes": [],
            "description": "",
            "_model_name": "HTMLModel",
            "placeholder": "​",
            "_view_module": "@jupyter-widgets/controls",
            "_model_module_version": "1.5.0",
            "value": " 170499072/? [00:05&lt;00:00, 33508307.02it/s]",
            "_view_count": null,
            "_view_module_version": "1.5.0",
            "description_tooltip": null,
            "_model_module": "@jupyter-widgets/controls",
            "layout": "IPY_MODEL_4b37dc9568a9472e8d53d53628483ff9"
          }
        },
        "f1d4c1a2b4e443dd890e30ad0d72545f": {
          "model_module": "@jupyter-widgets/controls",
          "model_name": "ProgressStyleModel",
          "state": {
            "_view_name": "StyleView",
            "_model_name": "ProgressStyleModel",
            "description_width": "initial",
            "_view_module": "@jupyter-widgets/base",
            "_model_module_version": "1.5.0",
            "_view_count": null,
            "_view_module_version": "1.2.0",
            "bar_color": null,
            "_model_module": "@jupyter-widgets/controls"
          }
        },
        "907d7f4a1e5e4ffd9000a0287f01a3c7": {
          "model_module": "@jupyter-widgets/base",
          "model_name": "LayoutModel",
          "state": {
            "_view_name": "LayoutView",
            "grid_template_rows": null,
            "right": null,
            "justify_content": null,
            "_view_module": "@jupyter-widgets/base",
            "overflow": null,
            "_model_module_version": "1.2.0",
            "_view_count": null,
            "flex_flow": null,
            "width": null,
            "min_width": null,
            "border": null,
            "align_items": null,
            "bottom": null,
            "_model_module": "@jupyter-widgets/base",
            "top": null,
            "grid_column": null,
            "overflow_y": null,
            "overflow_x": null,
            "grid_auto_flow": null,
            "grid_area": null,
            "grid_template_columns": null,
            "flex": null,
            "_model_name": "LayoutModel",
            "justify_items": null,
            "grid_row": null,
            "max_height": null,
            "align_content": null,
            "visibility": null,
            "align_self": null,
            "height": null,
            "min_height": null,
            "padding": null,
            "grid_auto_rows": null,
            "grid_gap": null,
            "max_width": null,
            "order": null,
            "_view_module_version": "1.2.0",
            "grid_template_areas": null,
            "object_position": null,
            "object_fit": null,
            "grid_auto_columns": null,
            "margin": null,
            "display": null,
            "left": null
          }
        },
        "c7a274f92ad14c7881c7ab4abb9c1d45": {
          "model_module": "@jupyter-widgets/controls",
          "model_name": "DescriptionStyleModel",
          "state": {
            "_view_name": "StyleView",
            "_model_name": "DescriptionStyleModel",
            "description_width": "",
            "_view_module": "@jupyter-widgets/base",
            "_model_module_version": "1.5.0",
            "_view_count": null,
            "_view_module_version": "1.2.0",
            "_model_module": "@jupyter-widgets/controls"
          }
        },
        "4b37dc9568a9472e8d53d53628483ff9": {
          "model_module": "@jupyter-widgets/base",
          "model_name": "LayoutModel",
          "state": {
            "_view_name": "LayoutView",
            "grid_template_rows": null,
            "right": null,
            "justify_content": null,
            "_view_module": "@jupyter-widgets/base",
            "overflow": null,
            "_model_module_version": "1.2.0",
            "_view_count": null,
            "flex_flow": null,
            "width": null,
            "min_width": null,
            "border": null,
            "align_items": null,
            "bottom": null,
            "_model_module": "@jupyter-widgets/base",
            "top": null,
            "grid_column": null,
            "overflow_y": null,
            "overflow_x": null,
            "grid_auto_flow": null,
            "grid_area": null,
            "grid_template_columns": null,
            "flex": null,
            "_model_name": "LayoutModel",
            "justify_items": null,
            "grid_row": null,
            "max_height": null,
            "align_content": null,
            "visibility": null,
            "align_self": null,
            "height": null,
            "min_height": null,
            "padding": null,
            "grid_auto_rows": null,
            "grid_gap": null,
            "max_width": null,
            "order": null,
            "_view_module_version": "1.2.0",
            "grid_template_areas": null,
            "object_position": null,
            "object_fit": null,
            "grid_auto_columns": null,
            "margin": null,
            "display": null,
            "left": null
          }
        }
      }
    }
  },
  "cells": [
    {
      "cell_type": "code",
      "metadata": {
        "id": "BWIyC9Ip_bcq"
      },
      "source": [
        "import numpy as np\n",
        "import pandas as pd\n",
        "\n",
        "import torch\n",
        "import torchvision\n",
        "from torch.utils.data import Dataset, DataLoader\n",
        "from torchvision import transforms, utils\n",
        "import torch.nn as nn\n",
        "import torch.nn.functional as F\n",
        "import torch.optim as optim\n",
        "\n",
        "from matplotlib import pyplot as plt\n",
        "%matplotlib inline"
      ],
      "execution_count": 1,
      "outputs": []
    },
    {
      "cell_type": "code",
      "metadata": {
        "colab": {
          "base_uri": "https://localhost:8080/",
          "height": 105,
          "referenced_widgets": [
            "6893727f056046b0801bf29477d2671c",
            "e076beecc50b40c981542e213297040a",
            "5664e2de4e714293ac9cedc02a9ceb6b",
            "d8b7df07de2d4c6db3d2606b6c044440",
            "f1d4c1a2b4e443dd890e30ad0d72545f",
            "907d7f4a1e5e4ffd9000a0287f01a3c7",
            "c7a274f92ad14c7881c7ab4abb9c1d45",
            "4b37dc9568a9472e8d53d53628483ff9"
          ]
        },
        "id": "cgw1f4rVkGr9",
        "outputId": "b82aecc3-b441-40e9-9309-bd1bbae06909"
      },
      "source": [
        "transform = transforms.Compose(\n",
        "    [transforms.ToTensor(),\n",
        "     transforms.Normalize((0.5, 0.5, 0.5), (0.5, 0.5, 0.5))])\n",
        "\n",
        "trainset = torchvision.datasets.CIFAR10(root='./data', train=True, download=True, transform=transform)"
      ],
      "execution_count": 2,
      "outputs": [
        {
          "output_type": "stream",
          "text": [
            "Downloading https://www.cs.toronto.edu/~kriz/cifar-10-python.tar.gz to ./data/cifar-10-python.tar.gz\n"
          ],
          "name": "stdout"
        },
        {
          "output_type": "display_data",
          "data": {
            "application/vnd.jupyter.widget-view+json": {
              "model_id": "6893727f056046b0801bf29477d2671c",
              "version_minor": 0,
              "version_major": 2
            },
            "text/plain": [
              "HBox(children=(FloatProgress(value=0.0, max=170498071.0), HTML(value='')))"
            ]
          },
          "metadata": {
            "tags": []
          }
        },
        {
          "output_type": "stream",
          "text": [
            "\n",
            "Extracting ./data/cifar-10-python.tar.gz to ./data\n"
          ],
          "name": "stdout"
        }
      ]
    },
    {
      "cell_type": "code",
      "metadata": {
        "id": "D-xlWYTKkQEn"
      },
      "source": [
        "trainloader = torch.utils.data.DataLoader(trainset, batch_size=10, shuffle=True)\n",
        "\n",
        "\n",
        "classes = ('plane', 'car', 'bird', 'cat', 'deer', 'dog', 'frog', 'horse', 'ship', 'truck')\n",
        "\n",
        "foreground_classes = {'plane', 'car', 'bird'}\n",
        "#foreground_classes = {'bird', 'cat', 'deer'}\n",
        "background_classes = {'cat', 'deer', 'dog', 'frog', 'horse', 'ship', 'truck'}\n",
        "#background_classes = {'plane', 'car', 'dog', 'frog', 'horse','ship', 'truck'}\n",
        "\n",
        "fg1,fg2,fg3 = 0,1,2"
      ],
      "execution_count": 3,
      "outputs": []
    },
    {
      "cell_type": "code",
      "metadata": {
        "id": "zrX68qhikUbz"
      },
      "source": [
        "dataiter = iter(trainloader)\n",
        "background_data=[]\n",
        "background_label=[]\n",
        "foreground_data=[]\n",
        "foreground_label=[]\n",
        "batch_size=10\n",
        "\n",
        "for i in range(5000):\n",
        "  images, labels = dataiter.next()\n",
        "  for j in range(batch_size):\n",
        "    if(classes[labels[j]] in background_classes):\n",
        "      img = images[j].tolist()\n",
        "      background_data.append(img)\n",
        "      background_label.append(labels[j])\n",
        "    else:\n",
        "      img = images[j].tolist()\n",
        "      foreground_data.append(img)\n",
        "      foreground_label.append(labels[j])\n",
        "            \n",
        "foreground_data = torch.tensor(foreground_data)\n",
        "foreground_label = torch.tensor(foreground_label)\n",
        "background_data = torch.tensor(background_data)\n",
        "background_label = torch.tensor(background_label)"
      ],
      "execution_count": 4,
      "outputs": []
    },
    {
      "cell_type": "code",
      "metadata": {
        "id": "eD-QJkvnkgyk"
      },
      "source": [
        "def create_mosaic_img(bg_idx,fg_idx,fg): \n",
        "  \"\"\"\n",
        "  bg_idx : list of indexes of background_data[] to be used as background images in mosaic\n",
        "  fg_idx : index of image to be used as foreground image from foreground data\n",
        "  fg : at what position/index foreground image has to be stored out of 0-8\n",
        "  \"\"\"\n",
        "  image_list=[]\n",
        "  j=0\n",
        "  for i in range(9):\n",
        "    if i != fg:\n",
        "      image_list.append(background_data[bg_idx[j]])#.type(\"torch.DoubleTensor\"))\n",
        "      j+=1\n",
        "    else: \n",
        "      image_list.append(foreground_data[fg_idx])#.type(\"torch.DoubleTensor\"))\n",
        "      label = foreground_label[fg_idx]-fg1  # minus 7 because our fore ground classes are 7,8,9 but we have to store it as 0,1,2\n",
        "  #image_list = np.concatenate(image_list ,axis=0)\n",
        "  image_list = torch.stack(image_list) \n",
        "  return image_list,label"
      ],
      "execution_count": 5,
      "outputs": []
    },
    {
      "cell_type": "code",
      "metadata": {
        "id": "Zs10rfXHkli2"
      },
      "source": [
        "desired_num = 30000\n",
        "mosaic_list_of_images =[]      # list of mosaic images, each mosaic image is saved as list of 9 images\n",
        "fore_idx =[]                   # list of indexes at which foreground image is present in a mosaic image i.e from 0 to 9               \n",
        "mosaic_label=[]                # label of mosaic image = foreground class present in that mosaic\n",
        "for i in range(desired_num):\n",
        "  np.random.seed(i)\n",
        "  bg_idx = np.random.randint(0,35000,8)\n",
        "  fg_idx = np.random.randint(0,15000)\n",
        "  fg = np.random.randint(0,9)\n",
        "  fore_idx.append(fg)\n",
        "  image_list,label = create_mosaic_img(bg_idx,fg_idx,fg)\n",
        "  mosaic_list_of_images.append(image_list)\n",
        "  mosaic_label.append(label)"
      ],
      "execution_count": 6,
      "outputs": []
    },
    {
      "cell_type": "code",
      "metadata": {
        "id": "7km9Swb1kq4O"
      },
      "source": [
        "class MosaicDataset(Dataset):\n",
        "  \"\"\"MosaicDataset dataset.\"\"\"\n",
        "\n",
        "  def __init__(self, mosaic_list_of_images, mosaic_label, fore_idx):\n",
        "    \"\"\"\n",
        "      Args:\n",
        "        csv_file (string): Path to the csv file with annotations.\n",
        "        root_dir (string): Directory with all the images.\n",
        "        transform (callable, optional): Optional transform to be applied\n",
        "            on a sample.\n",
        "    \"\"\"\n",
        "    self.mosaic = mosaic_list_of_images\n",
        "    self.label = mosaic_label\n",
        "    self.fore_idx = fore_idx\n",
        "\n",
        "  def __len__(self):\n",
        "    return len(self.label)\n",
        "\n",
        "  def __getitem__(self, idx):\n",
        "    return self.mosaic[idx] , self.label[idx], self.fore_idx[idx]\n",
        "batch = 250\n",
        "msd = MosaicDataset(mosaic_list_of_images, mosaic_label , fore_idx)\n",
        "train_loader = DataLoader( msd,batch_size= batch ,shuffle=False)"
      ],
      "execution_count": 7,
      "outputs": []
    },
    {
      "cell_type": "code",
      "metadata": {
        "id": "lGVy-1EllAc_"
      },
      "source": [
        "data,labels,fg_index = iter(train_loader).next()"
      ],
      "execution_count": 8,
      "outputs": []
    },
    {
      "cell_type": "code",
      "metadata": {
        "id": "DOpZfj1bq7wN"
      },
      "source": [
        "ag = []\n",
        "for i in range(120):\n",
        "  alphag = torch.ones((250,9))/9\n",
        "  ag.append( alphag.requires_grad_() )"
      ],
      "execution_count": 9,
      "outputs": []
    },
    {
      "cell_type": "code",
      "metadata": {
        "id": "HbrMidFCla6h"
      },
      "source": [
        "class Module2(nn.Module):\n",
        "  def __init__(self):\n",
        "    super(Module2, self).__init__()\n",
        "    \n",
        "    self.conv1 = nn.Conv2d(3, 6, 5)\n",
        "    self.pool = nn.MaxPool2d(2, 2)\n",
        "    self.conv2 = nn.Conv2d(6, 16, 5)\n",
        "    self.fc1 = nn.Linear(16 * 5 * 5, 120)\n",
        "    self.fc2 = nn.Linear(120, 84)\n",
        "    self.fc3 = nn.Linear(84, 10)\n",
        "    self.fc4 = nn.Linear(10,3)\n",
        "\n",
        "  def forward(self,y):  #z batch of list of 9 images\n",
        "    y1 = self.pool(F.relu(self.conv1(y)))\n",
        "    y1 = self.pool(F.relu(self.conv2(y1)))\n",
        "    y1 = y1.view(-1, 16 * 5 * 5)\n",
        "\n",
        "    y1 = F.relu(self.fc1(y1))\n",
        "    y1 = F.relu(self.fc2(y1))\n",
        "    y1 = F.relu(self.fc3(y1))\n",
        "    y1 = self.fc4(y1)\n",
        "    return y1"
      ],
      "execution_count": 10,
      "outputs": []
    },
    {
      "cell_type": "code",
      "metadata": {
        "id": "rRqj2VELllkX"
      },
      "source": [
        "torch.manual_seed(1234)\n",
        "what_net = Module2().double()\n",
        "what_net = what_net.to(\"cuda\")"
      ],
      "execution_count": 11,
      "outputs": []
    },
    {
      "cell_type": "code",
      "metadata": {
        "id": "6d8Wch99l4yB"
      },
      "source": [
        "def attn_avg(x,alpha):\n",
        "  y = torch.zeros([batch,3, 32,32], dtype=torch.float64)\n",
        "  y = y.to(\"cuda\")\n",
        "  alpha = F.softmax(alpha,dim=1)   # alphas\n",
        "  for i in range(9):            \n",
        "    alpha1 = alpha[:,i]          \n",
        "    y = y + torch.mul(alpha1[:,None,None,None],x[:,i])\n",
        "    return y,alpha\n"
      ],
      "execution_count": 12,
      "outputs": []
    },
    {
      "cell_type": "code",
      "metadata": {
        "id": "Rz1Kpw12loV6"
      },
      "source": [
        "def calculate_attn_loss(dataloader,what,criter):\n",
        "  what.eval()\n",
        "  r_loss = 0\n",
        "  alphas = []\n",
        "  lbls = []\n",
        "  pred = []\n",
        "  fidices = []\n",
        "  correct = 0\n",
        "  tot = 0\n",
        "  with torch.no_grad():\n",
        "    for i, data in enumerate(dataloader, 0):\n",
        "      inputs, labels,fidx= data\n",
        "      lbls.append(labels)\n",
        "      fidices.append(fidx)\n",
        "      inputs = inputs.double()\n",
        "      alpha = ag[i]  # alpha for ith batch\n",
        "      inputs, labels,alpha = inputs.to(\"cuda\"),labels.to(\"cuda\"),alpha.to(\"cuda\")\n",
        "      avg,alpha = attn_avg(inputs,alpha)\n",
        "      alpha = alpha.to(\"cuda\")\n",
        "      outputs = what(avg)\n",
        "      _, predicted = torch.max(outputs.data, 1)\n",
        "      correct += sum(predicted == labels)\n",
        "      tot += len(predicted)\n",
        "      pred.append(predicted.cpu().numpy())\n",
        "      alphas.append(alpha.cpu().numpy())\n",
        "      loss = criter(outputs, labels)\n",
        "      r_loss += loss.item()\n",
        "  alphas = np.concatenate(alphas,axis=0)\n",
        "  pred = np.concatenate(pred,axis=0)\n",
        "  lbls = np.concatenate(lbls,axis=0)\n",
        "  fidices = np.concatenate(fidices,axis=0)\n",
        "  #print(alphas.shape,pred.shape,lbls.shape,fidices.shape) \n",
        "  analysis = analyse_data(alphas,lbls,pred,fidices)\n",
        "  return r_loss/i,analysis,correct.item(),tot,correct.item()/tot"
      ],
      "execution_count": 13,
      "outputs": []
    },
    {
      "cell_type": "code",
      "metadata": {
        "id": "_toCktPanH0S"
      },
      "source": [
        "\n",
        "def analyse_data(alphas,lbls,predicted,f_idx):\n",
        "    '''\n",
        "       analysis data is created here\n",
        "    '''\n",
        "    batch = len(predicted)\n",
        "    amth,alth,ftpt,ffpt,ftpf,ffpf = 0,0,0,0,0,0\n",
        "    for j in range (batch):\n",
        "      focus = np.argmax(alphas[j])\n",
        "      if(alphas[j][focus] >= 0.5):\n",
        "        amth +=1\n",
        "      else:\n",
        "        alth +=1\n",
        "      if(focus == f_idx[j] and predicted[j] == lbls[j]):\n",
        "        ftpt += 1\n",
        "      elif(focus != f_idx[j] and predicted[j] == lbls[j]):\n",
        "        ffpt +=1\n",
        "      elif(focus == f_idx[j] and predicted[j] != lbls[j]):\n",
        "        ftpf +=1\n",
        "      elif(focus != f_idx[j] and predicted[j] != lbls[j]):\n",
        "        ffpf +=1\n",
        "    #print(sum(predicted==lbls),ftpt+ffpt)\n",
        "    return [ftpt,ffpt,ftpf,ffpf,amth,alth]"
      ],
      "execution_count": 14,
      "outputs": []
    },
    {
      "cell_type": "code",
      "metadata": {
        "id": "S633XgMToeN3"
      },
      "source": [
        "optim1 = []\n",
        "for i in range(120):\n",
        "  optim1.append(optim.RMSprop([ag[i]], lr=100))"
      ],
      "execution_count": 15,
      "outputs": []
    },
    {
      "cell_type": "code",
      "metadata": {
        "id": "qPaYaojinMTA",
        "colab": {
          "base_uri": "https://localhost:8080/"
        },
        "outputId": "2cf5fa76-eb14-47de-8d49-11c568fb0ea3"
      },
      "source": [
        "# instantiate optimizer\n",
        "optimizer_what = optim.RMSprop(what_net.parameters(), lr=0.001)#, momentum=0.9)#,nesterov=True)\n",
        "\n",
        "criterion = nn.CrossEntropyLoss()\n",
        "acti = []\n",
        "analysis_data_tr = []\n",
        "analysis_data_tst = []\n",
        "loss_curi_tr = []\n",
        "loss_curi_tst = []\n",
        "epochs = 200\n",
        "\n",
        "# calculate zeroth epoch loss and FTPT values\n",
        "running_loss,anlys_data,correct,total,accuracy = calculate_attn_loss(train_loader,what_net,criterion)\n",
        "print('training epoch: [%d ] loss: %.3f correct: %.3f, total: %.3f, accuracy: %.3f' %(0,running_loss,correct,total,accuracy)) \n",
        "loss_curi_tr.append(running_loss)\n",
        "analysis_data_tr.append(anlys_data)\n",
        "\n",
        "# training starts \n",
        "for epoch in range(epochs): # loop over the dataset multiple times\n",
        "  ep_lossi = []\n",
        "  running_loss = 0.0\n",
        "  what_net.train()\n",
        "  for i, data in enumerate(train_loader, 0):\n",
        "    # get the inputs\n",
        "    grads = [] \n",
        "    inputs, labels,_  = data\n",
        "    inputs = inputs.double()\n",
        "    alpha = ag[i] # alpha for ith batch\n",
        "    inputs, labels,alpha = inputs.to(\"cuda\"),labels.to(\"cuda\"),alpha.to(\"cuda\")\n",
        "        \n",
        "    # zero the parameter gradients\n",
        "    optimizer_what.zero_grad()\n",
        "    optim1[i].zero_grad()\n",
        "      \n",
        "    # forward + backward + optimize\n",
        "    avg,alpha = attn_avg(inputs,alpha)\n",
        "    outputs = what_net(avg)     \n",
        "    loss = criterion(outputs, labels)\n",
        "\n",
        "    # print statistics\n",
        "    running_loss += loss.item()\n",
        "    alpha.retain_grad()\n",
        "    loss.backward(retain_graph=False)\n",
        "    optimizer_what.step()\n",
        "    optim1[i].step()\n",
        "\n",
        "\n",
        "  running_loss_tr,anls_data,correct,total,accuracy = calculate_attn_loss(train_loader,what_net,criterion)\n",
        "  analysis_data_tr.append(anls_data)\n",
        "  loss_curi_tr.append(running_loss_tr)   #loss per epoch\n",
        "  print('training epoch: [%d ] loss: %.3f correct: %.3f, total: %.3f, accuracy: %.3f' %(epoch+1,running_loss_tr,correct,total,accuracy)) \n",
        "\n",
        "\n",
        "  \n",
        "  if running_loss_tr<=0.08:\n",
        "    break\n",
        "print('Finished Training run ')\n",
        "analysis_data_tr = np.array(analysis_data_tr)\n",
        "\n"
      ],
      "execution_count": 16,
      "outputs": [
        {
          "output_type": "stream",
          "text": [
            "training epoch: [0 ] loss: 1.120 correct: 9990.000, total: 30000.000, accuracy: 0.333\n",
            "training epoch: [1 ] loss: 1.005 correct: 15709.000, total: 30000.000, accuracy: 0.524\n",
            "training epoch: [2 ] loss: 0.835 correct: 16233.000, total: 30000.000, accuracy: 0.541\n",
            "training epoch: [3 ] loss: 0.834 correct: 16222.000, total: 30000.000, accuracy: 0.541\n",
            "training epoch: [4 ] loss: 0.833 correct: 16266.000, total: 30000.000, accuracy: 0.542\n",
            "training epoch: [5 ] loss: 0.833 correct: 16267.000, total: 30000.000, accuracy: 0.542\n",
            "training epoch: [6 ] loss: 0.831 correct: 16322.000, total: 30000.000, accuracy: 0.544\n",
            "training epoch: [7 ] loss: 0.834 correct: 16296.000, total: 30000.000, accuracy: 0.543\n",
            "training epoch: [8 ] loss: 0.838 correct: 16235.000, total: 30000.000, accuracy: 0.541\n",
            "training epoch: [9 ] loss: 0.832 correct: 16291.000, total: 30000.000, accuracy: 0.543\n",
            "training epoch: [10 ] loss: 0.834 correct: 16293.000, total: 30000.000, accuracy: 0.543\n",
            "training epoch: [11 ] loss: 0.834 correct: 16285.000, total: 30000.000, accuracy: 0.543\n",
            "training epoch: [12 ] loss: 0.834 correct: 16273.000, total: 30000.000, accuracy: 0.542\n",
            "training epoch: [13 ] loss: 0.839 correct: 16220.000, total: 30000.000, accuracy: 0.541\n",
            "training epoch: [14 ] loss: 0.839 correct: 16229.000, total: 30000.000, accuracy: 0.541\n",
            "training epoch: [15 ] loss: 0.838 correct: 16247.000, total: 30000.000, accuracy: 0.542\n",
            "training epoch: [16 ] loss: 0.835 correct: 16314.000, total: 30000.000, accuracy: 0.544\n",
            "training epoch: [17 ] loss: 0.844 correct: 16214.000, total: 30000.000, accuracy: 0.540\n",
            "training epoch: [18 ] loss: 0.833 correct: 16362.000, total: 30000.000, accuracy: 0.545\n",
            "training epoch: [19 ] loss: 0.834 correct: 16363.000, total: 30000.000, accuracy: 0.545\n",
            "training epoch: [20 ] loss: 0.841 correct: 16284.000, total: 30000.000, accuracy: 0.543\n",
            "training epoch: [21 ] loss: 0.850 correct: 16218.000, total: 30000.000, accuracy: 0.541\n",
            "training epoch: [22 ] loss: 0.865 correct: 15984.000, total: 30000.000, accuracy: 0.533\n",
            "training epoch: [23 ] loss: 0.867 correct: 15974.000, total: 30000.000, accuracy: 0.532\n",
            "training epoch: [24 ] loss: 0.855 correct: 16056.000, total: 30000.000, accuracy: 0.535\n",
            "training epoch: [25 ] loss: 0.864 correct: 16020.000, total: 30000.000, accuracy: 0.534\n",
            "training epoch: [26 ] loss: 0.826 correct: 16359.000, total: 30000.000, accuracy: 0.545\n",
            "training epoch: [27 ] loss: 0.861 correct: 16087.000, total: 30000.000, accuracy: 0.536\n",
            "training epoch: [28 ] loss: 0.926 correct: 15691.000, total: 30000.000, accuracy: 0.523\n",
            "training epoch: [29 ] loss: 0.896 correct: 15890.000, total: 30000.000, accuracy: 0.530\n",
            "training epoch: [30 ] loss: 0.868 correct: 16271.000, total: 30000.000, accuracy: 0.542\n",
            "training epoch: [31 ] loss: 0.866 correct: 16115.000, total: 30000.000, accuracy: 0.537\n",
            "training epoch: [32 ] loss: 0.839 correct: 16340.000, total: 30000.000, accuracy: 0.545\n",
            "training epoch: [33 ] loss: 0.911 correct: 16005.000, total: 30000.000, accuracy: 0.533\n",
            "training epoch: [34 ] loss: 0.954 correct: 15755.000, total: 30000.000, accuracy: 0.525\n",
            "training epoch: [35 ] loss: 0.904 correct: 16059.000, total: 30000.000, accuracy: 0.535\n",
            "training epoch: [36 ] loss: 0.935 correct: 16029.000, total: 30000.000, accuracy: 0.534\n",
            "training epoch: [37 ] loss: 0.962 correct: 15883.000, total: 30000.000, accuracy: 0.529\n",
            "training epoch: [38 ] loss: 1.229 correct: 14877.000, total: 30000.000, accuracy: 0.496\n",
            "training epoch: [39 ] loss: 0.994 correct: 16048.000, total: 30000.000, accuracy: 0.535\n",
            "training epoch: [40 ] loss: 0.995 correct: 16062.000, total: 30000.000, accuracy: 0.535\n",
            "training epoch: [41 ] loss: 0.952 correct: 16191.000, total: 30000.000, accuracy: 0.540\n",
            "training epoch: [42 ] loss: 0.857 correct: 16697.000, total: 30000.000, accuracy: 0.557\n",
            "training epoch: [43 ] loss: 0.950 correct: 16163.000, total: 30000.000, accuracy: 0.539\n",
            "training epoch: [44 ] loss: 1.030 correct: 15953.000, total: 30000.000, accuracy: 0.532\n",
            "training epoch: [45 ] loss: 0.919 correct: 16543.000, total: 30000.000, accuracy: 0.551\n",
            "training epoch: [46 ] loss: 0.942 correct: 16356.000, total: 30000.000, accuracy: 0.545\n",
            "training epoch: [47 ] loss: 0.873 correct: 16954.000, total: 30000.000, accuracy: 0.565\n",
            "training epoch: [48 ] loss: 0.934 correct: 16589.000, total: 30000.000, accuracy: 0.553\n",
            "training epoch: [49 ] loss: 1.179 correct: 15621.000, total: 30000.000, accuracy: 0.521\n",
            "training epoch: [50 ] loss: 1.064 correct: 16312.000, total: 30000.000, accuracy: 0.544\n",
            "training epoch: [51 ] loss: 0.943 correct: 16938.000, total: 30000.000, accuracy: 0.565\n",
            "training epoch: [52 ] loss: 0.961 correct: 16944.000, total: 30000.000, accuracy: 0.565\n",
            "training epoch: [53 ] loss: 1.248 correct: 15822.000, total: 30000.000, accuracy: 0.527\n",
            "training epoch: [54 ] loss: 0.894 correct: 17241.000, total: 30000.000, accuracy: 0.575\n",
            "training epoch: [55 ] loss: 0.956 correct: 16949.000, total: 30000.000, accuracy: 0.565\n",
            "training epoch: [56 ] loss: 1.035 correct: 16601.000, total: 30000.000, accuracy: 0.553\n",
            "training epoch: [57 ] loss: 0.969 correct: 17131.000, total: 30000.000, accuracy: 0.571\n",
            "training epoch: [58 ] loss: 1.009 correct: 16914.000, total: 30000.000, accuracy: 0.564\n",
            "training epoch: [59 ] loss: 0.963 correct: 17003.000, total: 30000.000, accuracy: 0.567\n",
            "training epoch: [60 ] loss: 1.019 correct: 16677.000, total: 30000.000, accuracy: 0.556\n",
            "training epoch: [61 ] loss: 1.050 correct: 16880.000, total: 30000.000, accuracy: 0.563\n",
            "training epoch: [62 ] loss: 0.949 correct: 17194.000, total: 30000.000, accuracy: 0.573\n",
            "training epoch: [63 ] loss: 0.936 correct: 17346.000, total: 30000.000, accuracy: 0.578\n",
            "training epoch: [64 ] loss: 0.970 correct: 17279.000, total: 30000.000, accuracy: 0.576\n",
            "training epoch: [65 ] loss: 1.118 correct: 16769.000, total: 30000.000, accuracy: 0.559\n",
            "training epoch: [66 ] loss: 0.971 correct: 17484.000, total: 30000.000, accuracy: 0.583\n",
            "training epoch: [67 ] loss: 1.032 correct: 17150.000, total: 30000.000, accuracy: 0.572\n",
            "training epoch: [68 ] loss: 1.045 correct: 17205.000, total: 30000.000, accuracy: 0.574\n",
            "training epoch: [69 ] loss: 0.918 correct: 17537.000, total: 30000.000, accuracy: 0.585\n",
            "training epoch: [70 ] loss: 1.248 correct: 16092.000, total: 30000.000, accuracy: 0.536\n",
            "training epoch: [71 ] loss: 0.933 correct: 17773.000, total: 30000.000, accuracy: 0.592\n",
            "training epoch: [72 ] loss: 0.935 correct: 17668.000, total: 30000.000, accuracy: 0.589\n",
            "training epoch: [73 ] loss: 0.916 correct: 17785.000, total: 30000.000, accuracy: 0.593\n",
            "training epoch: [74 ] loss: 0.929 correct: 17800.000, total: 30000.000, accuracy: 0.593\n",
            "training epoch: [75 ] loss: 0.935 correct: 17817.000, total: 30000.000, accuracy: 0.594\n",
            "training epoch: [76 ] loss: 0.953 correct: 17641.000, total: 30000.000, accuracy: 0.588\n",
            "training epoch: [77 ] loss: 0.952 correct: 17805.000, total: 30000.000, accuracy: 0.594\n",
            "training epoch: [78 ] loss: 0.921 correct: 17784.000, total: 30000.000, accuracy: 0.593\n",
            "training epoch: [79 ] loss: 1.029 correct: 17544.000, total: 30000.000, accuracy: 0.585\n",
            "training epoch: [80 ] loss: 0.947 correct: 17689.000, total: 30000.000, accuracy: 0.590\n",
            "training epoch: [81 ] loss: 1.468 correct: 16535.000, total: 30000.000, accuracy: 0.551\n",
            "training epoch: [82 ] loss: 0.906 correct: 17870.000, total: 30000.000, accuracy: 0.596\n",
            "training epoch: [83 ] loss: 0.917 correct: 17932.000, total: 30000.000, accuracy: 0.598\n",
            "training epoch: [84 ] loss: 0.894 correct: 18155.000, total: 30000.000, accuracy: 0.605\n",
            "training epoch: [85 ] loss: 0.900 correct: 18084.000, total: 30000.000, accuracy: 0.603\n",
            "training epoch: [86 ] loss: 0.945 correct: 17811.000, total: 30000.000, accuracy: 0.594\n",
            "training epoch: [87 ] loss: 0.899 correct: 17966.000, total: 30000.000, accuracy: 0.599\n",
            "training epoch: [88 ] loss: 0.901 correct: 17989.000, total: 30000.000, accuracy: 0.600\n",
            "training epoch: [89 ] loss: 0.934 correct: 17885.000, total: 30000.000, accuracy: 0.596\n",
            "training epoch: [90 ] loss: 0.894 correct: 17984.000, total: 30000.000, accuracy: 0.599\n",
            "training epoch: [91 ] loss: 0.949 correct: 18102.000, total: 30000.000, accuracy: 0.603\n",
            "training epoch: [92 ] loss: 0.932 correct: 17937.000, total: 30000.000, accuracy: 0.598\n",
            "training epoch: [93 ] loss: 1.031 correct: 17478.000, total: 30000.000, accuracy: 0.583\n",
            "training epoch: [94 ] loss: 1.277 correct: 16763.000, total: 30000.000, accuracy: 0.559\n",
            "training epoch: [95 ] loss: 0.995 correct: 17894.000, total: 30000.000, accuracy: 0.596\n",
            "training epoch: [96 ] loss: 0.981 correct: 18042.000, total: 30000.000, accuracy: 0.601\n",
            "training epoch: [97 ] loss: 1.028 correct: 17698.000, total: 30000.000, accuracy: 0.590\n",
            "training epoch: [98 ] loss: 0.889 correct: 18196.000, total: 30000.000, accuracy: 0.607\n",
            "training epoch: [99 ] loss: 0.885 correct: 18096.000, total: 30000.000, accuracy: 0.603\n",
            "training epoch: [100 ] loss: 0.921 correct: 18099.000, total: 30000.000, accuracy: 0.603\n",
            "training epoch: [101 ] loss: 0.943 correct: 18166.000, total: 30000.000, accuracy: 0.606\n",
            "training epoch: [102 ] loss: 1.091 correct: 17561.000, total: 30000.000, accuracy: 0.585\n",
            "training epoch: [103 ] loss: 0.927 correct: 18065.000, total: 30000.000, accuracy: 0.602\n",
            "training epoch: [104 ] loss: 0.891 correct: 18157.000, total: 30000.000, accuracy: 0.605\n",
            "training epoch: [105 ] loss: 0.939 correct: 18072.000, total: 30000.000, accuracy: 0.602\n",
            "training epoch: [106 ] loss: 0.989 correct: 17881.000, total: 30000.000, accuracy: 0.596\n",
            "training epoch: [107 ] loss: 0.938 correct: 18035.000, total: 30000.000, accuracy: 0.601\n",
            "training epoch: [108 ] loss: 0.949 correct: 18113.000, total: 30000.000, accuracy: 0.604\n",
            "training epoch: [109 ] loss: 0.931 correct: 18116.000, total: 30000.000, accuracy: 0.604\n",
            "training epoch: [110 ] loss: 0.969 correct: 18145.000, total: 30000.000, accuracy: 0.605\n",
            "training epoch: [111 ] loss: 0.990 correct: 17892.000, total: 30000.000, accuracy: 0.596\n",
            "training epoch: [112 ] loss: 1.062 correct: 17849.000, total: 30000.000, accuracy: 0.595\n",
            "training epoch: [113 ] loss: 0.932 correct: 18165.000, total: 30000.000, accuracy: 0.606\n",
            "training epoch: [114 ] loss: 0.902 correct: 18130.000, total: 30000.000, accuracy: 0.604\n",
            "training epoch: [115 ] loss: 0.962 correct: 17912.000, total: 30000.000, accuracy: 0.597\n",
            "training epoch: [116 ] loss: 0.912 correct: 18252.000, total: 30000.000, accuracy: 0.608\n",
            "training epoch: [117 ] loss: 0.954 correct: 18213.000, total: 30000.000, accuracy: 0.607\n",
            "training epoch: [118 ] loss: 0.874 correct: 18284.000, total: 30000.000, accuracy: 0.609\n",
            "training epoch: [119 ] loss: 0.954 correct: 18107.000, total: 30000.000, accuracy: 0.604\n",
            "training epoch: [120 ] loss: 1.004 correct: 18016.000, total: 30000.000, accuracy: 0.601\n",
            "training epoch: [121 ] loss: 0.935 correct: 18316.000, total: 30000.000, accuracy: 0.611\n",
            "training epoch: [122 ] loss: 0.948 correct: 18212.000, total: 30000.000, accuracy: 0.607\n",
            "training epoch: [123 ] loss: 1.117 correct: 17512.000, total: 30000.000, accuracy: 0.584\n",
            "training epoch: [124 ] loss: 0.955 correct: 18252.000, total: 30000.000, accuracy: 0.608\n",
            "training epoch: [125 ] loss: 0.978 correct: 18081.000, total: 30000.000, accuracy: 0.603\n",
            "training epoch: [126 ] loss: 0.926 correct: 18340.000, total: 30000.000, accuracy: 0.611\n",
            "training epoch: [127 ] loss: 0.994 correct: 18113.000, total: 30000.000, accuracy: 0.604\n",
            "training epoch: [128 ] loss: 0.918 correct: 18436.000, total: 30000.000, accuracy: 0.615\n",
            "training epoch: [129 ] loss: 0.977 correct: 18210.000, total: 30000.000, accuracy: 0.607\n",
            "training epoch: [130 ] loss: 0.929 correct: 18319.000, total: 30000.000, accuracy: 0.611\n",
            "training epoch: [131 ] loss: 1.027 correct: 18121.000, total: 30000.000, accuracy: 0.604\n",
            "training epoch: [132 ] loss: 1.024 correct: 18048.000, total: 30000.000, accuracy: 0.602\n",
            "training epoch: [133 ] loss: 0.961 correct: 18072.000, total: 30000.000, accuracy: 0.602\n",
            "training epoch: [134 ] loss: 1.013 correct: 18055.000, total: 30000.000, accuracy: 0.602\n",
            "training epoch: [135 ] loss: 1.020 correct: 17983.000, total: 30000.000, accuracy: 0.599\n",
            "training epoch: [136 ] loss: 0.998 correct: 17982.000, total: 30000.000, accuracy: 0.599\n",
            "training epoch: [137 ] loss: 0.972 correct: 18214.000, total: 30000.000, accuracy: 0.607\n",
            "training epoch: [138 ] loss: 1.097 correct: 17744.000, total: 30000.000, accuracy: 0.591\n",
            "training epoch: [139 ] loss: 0.996 correct: 17986.000, total: 30000.000, accuracy: 0.600\n",
            "training epoch: [140 ] loss: 0.975 correct: 18048.000, total: 30000.000, accuracy: 0.602\n",
            "training epoch: [141 ] loss: 1.049 correct: 17953.000, total: 30000.000, accuracy: 0.598\n",
            "training epoch: [142 ] loss: 1.063 correct: 18005.000, total: 30000.000, accuracy: 0.600\n",
            "training epoch: [143 ] loss: 0.975 correct: 18177.000, total: 30000.000, accuracy: 0.606\n",
            "training epoch: [144 ] loss: 1.001 correct: 18114.000, total: 30000.000, accuracy: 0.604\n",
            "training epoch: [145 ] loss: 1.033 correct: 17931.000, total: 30000.000, accuracy: 0.598\n",
            "training epoch: [146 ] loss: 0.944 correct: 18171.000, total: 30000.000, accuracy: 0.606\n",
            "training epoch: [147 ] loss: 1.003 correct: 18135.000, total: 30000.000, accuracy: 0.605\n",
            "training epoch: [148 ] loss: 0.939 correct: 18210.000, total: 30000.000, accuracy: 0.607\n",
            "training epoch: [149 ] loss: 0.982 correct: 18083.000, total: 30000.000, accuracy: 0.603\n",
            "training epoch: [150 ] loss: 1.012 correct: 18096.000, total: 30000.000, accuracy: 0.603\n",
            "training epoch: [151 ] loss: 1.013 correct: 18015.000, total: 30000.000, accuracy: 0.601\n",
            "training epoch: [152 ] loss: 0.972 correct: 18234.000, total: 30000.000, accuracy: 0.608\n",
            "training epoch: [153 ] loss: 1.040 correct: 17942.000, total: 30000.000, accuracy: 0.598\n",
            "training epoch: [154 ] loss: 1.044 correct: 18151.000, total: 30000.000, accuracy: 0.605\n",
            "training epoch: [155 ] loss: 1.053 correct: 17965.000, total: 30000.000, accuracy: 0.599\n",
            "training epoch: [156 ] loss: 1.006 correct: 18258.000, total: 30000.000, accuracy: 0.609\n",
            "training epoch: [157 ] loss: 1.035 correct: 17964.000, total: 30000.000, accuracy: 0.599\n",
            "training epoch: [158 ] loss: 1.011 correct: 18050.000, total: 30000.000, accuracy: 0.602\n",
            "training epoch: [159 ] loss: 1.091 correct: 17654.000, total: 30000.000, accuracy: 0.588\n",
            "training epoch: [160 ] loss: 1.090 correct: 17921.000, total: 30000.000, accuracy: 0.597\n",
            "training epoch: [161 ] loss: 1.114 correct: 17819.000, total: 30000.000, accuracy: 0.594\n",
            "training epoch: [162 ] loss: 0.977 correct: 18096.000, total: 30000.000, accuracy: 0.603\n",
            "training epoch: [163 ] loss: 1.020 correct: 18045.000, total: 30000.000, accuracy: 0.602\n",
            "training epoch: [164 ] loss: 0.954 correct: 18375.000, total: 30000.000, accuracy: 0.613\n",
            "training epoch: [165 ] loss: 0.984 correct: 18255.000, total: 30000.000, accuracy: 0.609\n",
            "training epoch: [166 ] loss: 0.945 correct: 18312.000, total: 30000.000, accuracy: 0.610\n",
            "training epoch: [167 ] loss: 1.008 correct: 18116.000, total: 30000.000, accuracy: 0.604\n",
            "training epoch: [168 ] loss: 0.980 correct: 18250.000, total: 30000.000, accuracy: 0.608\n",
            "training epoch: [169 ] loss: 0.982 correct: 18314.000, total: 30000.000, accuracy: 0.610\n",
            "training epoch: [170 ] loss: 1.047 correct: 17905.000, total: 30000.000, accuracy: 0.597\n",
            "training epoch: [171 ] loss: 0.974 correct: 18268.000, total: 30000.000, accuracy: 0.609\n",
            "training epoch: [172 ] loss: 1.102 correct: 18010.000, total: 30000.000, accuracy: 0.600\n",
            "training epoch: [173 ] loss: 1.027 correct: 18075.000, total: 30000.000, accuracy: 0.603\n",
            "training epoch: [174 ] loss: 1.046 correct: 18236.000, total: 30000.000, accuracy: 0.608\n",
            "training epoch: [175 ] loss: 0.954 correct: 18323.000, total: 30000.000, accuracy: 0.611\n",
            "training epoch: [176 ] loss: 0.966 correct: 18255.000, total: 30000.000, accuracy: 0.609\n",
            "training epoch: [177 ] loss: 0.934 correct: 18253.000, total: 30000.000, accuracy: 0.608\n",
            "training epoch: [178 ] loss: 1.104 correct: 17850.000, total: 30000.000, accuracy: 0.595\n",
            "training epoch: [179 ] loss: 0.938 correct: 18273.000, total: 30000.000, accuracy: 0.609\n",
            "training epoch: [180 ] loss: 0.999 correct: 18124.000, total: 30000.000, accuracy: 0.604\n",
            "training epoch: [181 ] loss: 0.956 correct: 18332.000, total: 30000.000, accuracy: 0.611\n",
            "training epoch: [182 ] loss: 0.985 correct: 18324.000, total: 30000.000, accuracy: 0.611\n",
            "training epoch: [183 ] loss: 1.006 correct: 18225.000, total: 30000.000, accuracy: 0.608\n",
            "training epoch: [184 ] loss: 1.048 correct: 18215.000, total: 30000.000, accuracy: 0.607\n",
            "training epoch: [185 ] loss: 1.057 correct: 18041.000, total: 30000.000, accuracy: 0.601\n",
            "training epoch: [186 ] loss: 0.891 correct: 18547.000, total: 30000.000, accuracy: 0.618\n",
            "training epoch: [187 ] loss: 0.920 correct: 18461.000, total: 30000.000, accuracy: 0.615\n",
            "training epoch: [188 ] loss: 0.964 correct: 18404.000, total: 30000.000, accuracy: 0.613\n",
            "training epoch: [189 ] loss: 0.937 correct: 18450.000, total: 30000.000, accuracy: 0.615\n",
            "training epoch: [190 ] loss: 1.004 correct: 18310.000, total: 30000.000, accuracy: 0.610\n",
            "training epoch: [191 ] loss: 1.053 correct: 18177.000, total: 30000.000, accuracy: 0.606\n",
            "training epoch: [192 ] loss: 1.071 correct: 18142.000, total: 30000.000, accuracy: 0.605\n",
            "training epoch: [193 ] loss: 0.895 correct: 18428.000, total: 30000.000, accuracy: 0.614\n",
            "training epoch: [194 ] loss: 0.931 correct: 18379.000, total: 30000.000, accuracy: 0.613\n",
            "training epoch: [195 ] loss: 0.986 correct: 18308.000, total: 30000.000, accuracy: 0.610\n",
            "training epoch: [196 ] loss: 0.905 correct: 18464.000, total: 30000.000, accuracy: 0.615\n",
            "training epoch: [197 ] loss: 1.176 correct: 17578.000, total: 30000.000, accuracy: 0.586\n",
            "training epoch: [198 ] loss: 0.935 correct: 18488.000, total: 30000.000, accuracy: 0.616\n",
            "training epoch: [199 ] loss: 0.943 correct: 18443.000, total: 30000.000, accuracy: 0.615\n",
            "training epoch: [200 ] loss: 0.897 correct: 18557.000, total: 30000.000, accuracy: 0.619\n",
            "Finished Training run \n"
          ],
          "name": "stdout"
        }
      ]
    },
    {
      "cell_type": "code",
      "metadata": {
        "id": "AciJnAh5nfug"
      },
      "source": [
        "columns = [\"epochs\", \"argmax > 0.5\" ,\"argmax < 0.5\", \"focus_true_pred_true\", \"focus_false_pred_true\", \"focus_true_pred_false\", \"focus_false_pred_false\" ]\n",
        "df_train = pd.DataFrame()\n",
        "df_test = pd.DataFrame()\n",
        "df_train[columns[0]] = np.arange(0,epoch+2)\n",
        "df_train[columns[1]] = analysis_data_tr[:,-2]\n",
        "df_train[columns[2]] = analysis_data_tr[:,-1]\n",
        "df_train[columns[3]] = analysis_data_tr[:,0]\n",
        "df_train[columns[4]] = analysis_data_tr[:,1]\n",
        "df_train[columns[5]] = analysis_data_tr[:,2]\n",
        "df_train[columns[6]] = analysis_data_tr[:,3]"
      ],
      "execution_count": 17,
      "outputs": []
    },
    {
      "cell_type": "code",
      "metadata": {
        "id": "NoQpS_6scRsC",
        "colab": {
          "base_uri": "https://localhost:8080/",
          "height": 424
        },
        "outputId": "27b9786e-860d-43c3-e813-98e15a6451b0"
      },
      "source": [
        "df_train"
      ],
      "execution_count": 18,
      "outputs": [
        {
          "output_type": "execute_result",
          "data": {
            "text/html": [
              "<div>\n",
              "<style scoped>\n",
              "    .dataframe tbody tr th:only-of-type {\n",
              "        vertical-align: middle;\n",
              "    }\n",
              "\n",
              "    .dataframe tbody tr th {\n",
              "        vertical-align: top;\n",
              "    }\n",
              "\n",
              "    .dataframe thead th {\n",
              "        text-align: right;\n",
              "    }\n",
              "</style>\n",
              "<table border=\"1\" class=\"dataframe\">\n",
              "  <thead>\n",
              "    <tr style=\"text-align: right;\">\n",
              "      <th></th>\n",
              "      <th>epochs</th>\n",
              "      <th>argmax &gt; 0.5</th>\n",
              "      <th>argmax &lt; 0.5</th>\n",
              "      <th>focus_true_pred_true</th>\n",
              "      <th>focus_false_pred_true</th>\n",
              "      <th>focus_true_pred_false</th>\n",
              "      <th>focus_false_pred_false</th>\n",
              "    </tr>\n",
              "  </thead>\n",
              "  <tbody>\n",
              "    <tr>\n",
              "      <th>0</th>\n",
              "      <td>0</td>\n",
              "      <td>0</td>\n",
              "      <td>30000</td>\n",
              "      <td>1130</td>\n",
              "      <td>8860</td>\n",
              "      <td>2254</td>\n",
              "      <td>17756</td>\n",
              "    </tr>\n",
              "    <tr>\n",
              "      <th>1</th>\n",
              "      <td>1</td>\n",
              "      <td>14140</td>\n",
              "      <td>15860</td>\n",
              "      <td>1864</td>\n",
              "      <td>13845</td>\n",
              "      <td>1712</td>\n",
              "      <td>12579</td>\n",
              "    </tr>\n",
              "    <tr>\n",
              "      <th>2</th>\n",
              "      <td>2</td>\n",
              "      <td>14141</td>\n",
              "      <td>15859</td>\n",
              "      <td>2129</td>\n",
              "      <td>14104</td>\n",
              "      <td>1447</td>\n",
              "      <td>12320</td>\n",
              "    </tr>\n",
              "    <tr>\n",
              "      <th>3</th>\n",
              "      <td>3</td>\n",
              "      <td>14141</td>\n",
              "      <td>15859</td>\n",
              "      <td>2119</td>\n",
              "      <td>14103</td>\n",
              "      <td>1457</td>\n",
              "      <td>12321</td>\n",
              "    </tr>\n",
              "    <tr>\n",
              "      <th>4</th>\n",
              "      <td>4</td>\n",
              "      <td>14141</td>\n",
              "      <td>15859</td>\n",
              "      <td>2154</td>\n",
              "      <td>14112</td>\n",
              "      <td>1422</td>\n",
              "      <td>12312</td>\n",
              "    </tr>\n",
              "    <tr>\n",
              "      <th>...</th>\n",
              "      <td>...</td>\n",
              "      <td>...</td>\n",
              "      <td>...</td>\n",
              "      <td>...</td>\n",
              "      <td>...</td>\n",
              "      <td>...</td>\n",
              "      <td>...</td>\n",
              "    </tr>\n",
              "    <tr>\n",
              "      <th>196</th>\n",
              "      <td>196</td>\n",
              "      <td>14141</td>\n",
              "      <td>15859</td>\n",
              "      <td>2365</td>\n",
              "      <td>16099</td>\n",
              "      <td>1211</td>\n",
              "      <td>10325</td>\n",
              "    </tr>\n",
              "    <tr>\n",
              "      <th>197</th>\n",
              "      <td>197</td>\n",
              "      <td>14141</td>\n",
              "      <td>15859</td>\n",
              "      <td>2300</td>\n",
              "      <td>15278</td>\n",
              "      <td>1276</td>\n",
              "      <td>11146</td>\n",
              "    </tr>\n",
              "    <tr>\n",
              "      <th>198</th>\n",
              "      <td>198</td>\n",
              "      <td>14141</td>\n",
              "      <td>15859</td>\n",
              "      <td>2360</td>\n",
              "      <td>16128</td>\n",
              "      <td>1216</td>\n",
              "      <td>10296</td>\n",
              "    </tr>\n",
              "    <tr>\n",
              "      <th>199</th>\n",
              "      <td>199</td>\n",
              "      <td>14141</td>\n",
              "      <td>15859</td>\n",
              "      <td>2362</td>\n",
              "      <td>16081</td>\n",
              "      <td>1214</td>\n",
              "      <td>10343</td>\n",
              "    </tr>\n",
              "    <tr>\n",
              "      <th>200</th>\n",
              "      <td>200</td>\n",
              "      <td>14141</td>\n",
              "      <td>15859</td>\n",
              "      <td>2374</td>\n",
              "      <td>16183</td>\n",
              "      <td>1202</td>\n",
              "      <td>10241</td>\n",
              "    </tr>\n",
              "  </tbody>\n",
              "</table>\n",
              "<p>201 rows × 7 columns</p>\n",
              "</div>"
            ],
            "text/plain": [
              "     epochs  argmax > 0.5  ...  focus_true_pred_false  focus_false_pred_false\n",
              "0         0             0  ...                   2254                   17756\n",
              "1         1         14140  ...                   1712                   12579\n",
              "2         2         14141  ...                   1447                   12320\n",
              "3         3         14141  ...                   1457                   12321\n",
              "4         4         14141  ...                   1422                   12312\n",
              "..      ...           ...  ...                    ...                     ...\n",
              "196     196         14141  ...                   1211                   10325\n",
              "197     197         14141  ...                   1276                   11146\n",
              "198     198         14141  ...                   1216                   10296\n",
              "199     199         14141  ...                   1214                   10343\n",
              "200     200         14141  ...                   1202                   10241\n",
              "\n",
              "[201 rows x 7 columns]"
            ]
          },
          "metadata": {
            "tags": []
          },
          "execution_count": 18
        }
      ]
    },
    {
      "cell_type": "code",
      "metadata": {
        "id": "IMAhRdxOcVf6",
        "colab": {
          "base_uri": "https://localhost:8080/",
          "height": 730
        },
        "outputId": "26dd3e2f-cbdd-43f3-dd33-acfe7b7bf960"
      },
      "source": [
        "fig= plt.figure(figsize=(12,12))\n",
        "plt.plot(df_train[columns[0]],df_train[columns[3]]/300, label =\"focus_true_pred_true \")\n",
        "plt.plot(df_train[columns[0]],df_train[columns[4]]/300, label =\"focus_false_pred_true \")\n",
        "plt.plot(df_train[columns[0]],df_train[columns[5]]/300, label =\"focus_true_pred_false \")\n",
        "plt.plot(df_train[columns[0]],df_train[columns[6]]/300, label =\"focus_false_pred_false \")\n",
        "plt.title(\"On Train set\")\n",
        "plt.legend(loc='center left', bbox_to_anchor=(1, 0.5))\n",
        "plt.xlabel(\"epochs\")\n",
        "plt.ylabel(\"percentage of data\")\n",
        "#plt.vlines(vline_list,min(min(df_train[columns[3]]/300),min(df_train[columns[4]]/300),min(df_train[columns[5]]/300),min(df_train[columns[6]]/300)), max(max(df_train[columns[3]]/300),max(df_train[columns[4]]/300),max(df_train[columns[5]]/300),max(df_train[columns[6]]/300)),linestyles='dotted')\n",
        "plt.show()\n",
        "fig.savefig(\"train_analysis_every_20.pdf\")\n",
        "fig.savefig(\"train_analysis_every_20.png\")"
      ],
      "execution_count": 19,
      "outputs": [
        {
          "output_type": "display_data",
          "data": {
            "image/png": "[encoded data removed]",
            "text/plain": [
              "<Figure size 864x864 with 1 Axes>"
            ]
          },
          "metadata": {
            "tags": [],
            "needs_background": "light"
          }
        }
      ]
    },
    {
      "cell_type": "code",
      "metadata": {
        "id": "VCnS6r2_3WdU"
      },
      "source": [
        "aph = []\n",
        "for i in ag:\n",
        "  aph.append(F.softmax(i,dim=1).detach().numpy())\n",
        "  \n",
        "aph = np.concatenate(aph,axis=0)\n",
        "torch.save({\n",
        "            'epoch': 500,\n",
        "            'model_state_dict': what_net.state_dict(),\n",
        "            'optimizer_state_dict': optimizer_what.state_dict(),\n",
        "            \"optimizer_alpha\":optim1,\n",
        "            \"FTPT_analysis\":analysis_data_tr,\n",
        "            \"alpha\":aph\n",
        "\n",
        "            }, \"cifar_what_net_500.pt\")"
      ],
      "execution_count": 20,
      "outputs": []
    },
    {
      "cell_type": "code",
      "metadata": {
        "id": "KVzrDOGS4UxU",
        "colab": {
          "base_uri": "https://localhost:8080/"
        },
        "outputId": "b6b48312-96c9-4512-a8d6-4e5f9112d421"
      },
      "source": [
        "aph"
      ],
      "execution_count": 21,
      "outputs": [
        {
          "output_type": "execute_result",
          "data": {
            "text/plain": [
              "array([[1.   , 0.   , 0.   , ..., 0.   , 0.   , 0.   ],\n",
              "       [0.   , 0.125, 0.125, ..., 0.125, 0.125, 0.125],\n",
              "       [1.   , 0.   , 0.   , ..., 0.   , 0.   , 0.   ],\n",
              "       ...,\n",
              "       [1.   , 0.   , 0.   , ..., 0.   , 0.   , 0.   ],\n",
              "       [1.   , 0.   , 0.   , ..., 0.   , 0.   , 0.   ],\n",
              "       [1.   , 0.   , 0.   , ..., 0.   , 0.   , 0.   ]], dtype=float32)"
            ]
          },
          "metadata": {
            "tags": []
          },
          "execution_count": 21
        }
      ]
    },
    {
      "cell_type": "code",
      "metadata": {
        "id": "Z6heHND15EMz"
      },
      "source": [
        "running_loss_tr,anls_data,correct,total,accuracy = calculate_attn_loss(train_loader,what_net,criterion)"
      ],
      "execution_count": 22,
      "outputs": []
    },
    {
      "cell_type": "code",
      "metadata": {
        "id": "zeKhsdpYWQvB",
        "colab": {
          "base_uri": "https://localhost:8080/"
        },
        "outputId": "092c9276-0094-43ed-8010-95ba04049071"
      },
      "source": [
        "anls_data"
      ],
      "execution_count": 23,
      "outputs": [
        {
          "output_type": "execute_result",
          "data": {
            "text/plain": [
              "[2374, 16183, 1202, 10241, 14141, 15859]"
            ]
          },
          "metadata": {
            "tags": []
          },
          "execution_count": 23
        }
      ]
    },
    {
      "cell_type": "code",
      "metadata": {
        "id": "yF2bvWdIWUTa"
      },
      "source": [
        ""
      ],
      "execution_count": 23,
      "outputs": []
    }
  ]
}