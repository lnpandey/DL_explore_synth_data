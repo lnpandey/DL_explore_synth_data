{
  "nbformat": 4,
  "nbformat_minor": 0,
  "metadata": {
    "accelerator": "GPU",
    "colab": {
      "name": "cifar_learn_atttention_weights_lr_1000.ipynb",
      "provenance": [],
      "collapsed_sections": []
    },
    "kernelspec": {
      "display_name": "Python 3",
      "name": "python3"
    },
    "language_info": {
      "name": "python"
    }
  },
  "cells": [
    {
      "cell_type": "code",
      "metadata": {
        "id": "BWIyC9Ip_bcq"
      },
      "source": [
        "import numpy as np\n",
        "import pandas as pd\n",
        "\n",
        "import torch\n",
        "import torchvision\n",
        "from torch.utils.data import Dataset, DataLoader\n",
        "from torchvision import transforms, utils\n",
        "import torch.nn as nn\n",
        "import torch.nn.functional as F\n",
        "import torch.optim as optim\n",
        "\n",
        "from matplotlib import pyplot as plt\n",
        "%matplotlib inline"
      ],
      "execution_count": 1,
      "outputs": []
    },
    {
      "cell_type": "code",
      "metadata": {
        "colab": {
          "base_uri": "https://localhost:8080/"
        },
        "id": "cgw1f4rVkGr9",
        "outputId": "36609574-cab6-4ae1-acae-48fd79be6457"
      },
      "source": [
        "transform = transforms.Compose(\n",
        "    [transforms.ToTensor(),\n",
        "     transforms.Normalize((0.5, 0.5, 0.5), (0.5, 0.5, 0.5))])\n",
        "\n",
        "trainset = torchvision.datasets.CIFAR10(root='./data', train=True, download=True, transform=transform)"
      ],
      "execution_count": 2,
      "outputs": [
        {
          "output_type": "stream",
          "text": [
            "Files already downloaded and verified\n"
          ],
          "name": "stdout"
        }
      ]
    },
    {
      "cell_type": "code",
      "metadata": {
        "id": "D-xlWYTKkQEn"
      },
      "source": [
        "trainloader = torch.utils.data.DataLoader(trainset, batch_size=10, shuffle=True)\n",
        "\n",
        "\n",
        "classes = ('plane', 'car', 'bird', 'cat', 'deer', 'dog', 'frog', 'horse', 'ship', 'truck')\n",
        "\n",
        "foreground_classes = {'plane', 'car', 'bird'}\n",
        "#foreground_classes = {'bird', 'cat', 'deer'}\n",
        "background_classes = {'cat', 'deer', 'dog', 'frog', 'horse', 'ship', 'truck'}\n",
        "#background_classes = {'plane', 'car', 'dog', 'frog', 'horse','ship', 'truck'}\n",
        "\n",
        "fg1,fg2,fg3 = 0,1,2"
      ],
      "execution_count": 3,
      "outputs": []
    },
    {
      "cell_type": "code",
      "metadata": {
        "id": "zrX68qhikUbz"
      },
      "source": [
        "dataiter = iter(trainloader)\n",
        "background_data=[]\n",
        "background_label=[]\n",
        "foreground_data=[]\n",
        "foreground_label=[]\n",
        "batch_size=10\n",
        "\n",
        "for i in range(5000):\n",
        "  images, labels = dataiter.next()\n",
        "  for j in range(batch_size):\n",
        "    if(classes[labels[j]] in background_classes):\n",
        "      img = images[j].tolist()\n",
        "      background_data.append(img)\n",
        "      background_label.append(labels[j])\n",
        "    else:\n",
        "      img = images[j].tolist()\n",
        "      foreground_data.append(img)\n",
        "      foreground_label.append(labels[j])\n",
        "            \n",
        "foreground_data = torch.tensor(foreground_data)\n",
        "foreground_label = torch.tensor(foreground_label)\n",
        "background_data = torch.tensor(background_data)\n",
        "background_label = torch.tensor(background_label)"
      ],
      "execution_count": 4,
      "outputs": []
    },
    {
      "cell_type": "code",
      "metadata": {
        "id": "eD-QJkvnkgyk"
      },
      "source": [
        "def create_mosaic_img(bg_idx,fg_idx,fg): \n",
        "  \"\"\"\n",
        "  bg_idx : list of indexes of background_data[] to be used as background images in mosaic\n",
        "  fg_idx : index of image to be used as foreground image from foreground data\n",
        "  fg : at what position/index foreground image has to be stored out of 0-8\n",
        "  \"\"\"\n",
        "  image_list=[]\n",
        "  j=0\n",
        "  for i in range(9):\n",
        "    if i != fg:\n",
        "      image_list.append(background_data[bg_idx[j]])#.type(\"torch.DoubleTensor\"))\n",
        "      j+=1\n",
        "    else: \n",
        "      image_list.append(foreground_data[fg_idx])#.type(\"torch.DoubleTensor\"))\n",
        "      label = foreground_label[fg_idx]-fg1  # minus 7 because our fore ground classes are 7,8,9 but we have to store it as 0,1,2\n",
        "  #image_list = np.concatenate(image_list ,axis=0)\n",
        "  image_list = torch.stack(image_list) \n",
        "  return image_list,label"
      ],
      "execution_count": 5,
      "outputs": []
    },
    {
      "cell_type": "code",
      "metadata": {
        "id": "Zs10rfXHkli2"
      },
      "source": [
        "desired_num = 30000\n",
        "mosaic_list_of_images =[]      # list of mosaic images, each mosaic image is saved as list of 9 images\n",
        "fore_idx =[]                   # list of indexes at which foreground image is present in a mosaic image i.e from 0 to 9               \n",
        "mosaic_label=[]                # label of mosaic image = foreground class present in that mosaic\n",
        "for i in range(desired_num):\n",
        "  np.random.seed(i)\n",
        "  bg_idx = np.random.randint(0,35000,8)\n",
        "  fg_idx = np.random.randint(0,15000)\n",
        "  fg = np.random.randint(0,9)\n",
        "  fore_idx.append(fg)\n",
        "  image_list,label = create_mosaic_img(bg_idx,fg_idx,fg)\n",
        "  mosaic_list_of_images.append(image_list)\n",
        "  mosaic_label.append(label)"
      ],
      "execution_count": 6,
      "outputs": []
    },
    {
      "cell_type": "code",
      "metadata": {
        "id": "7km9Swb1kq4O"
      },
      "source": [
        "class MosaicDataset(Dataset):\n",
        "  \"\"\"MosaicDataset dataset.\"\"\"\n",
        "\n",
        "  def __init__(self, mosaic_list_of_images, mosaic_label, fore_idx):\n",
        "    \"\"\"\n",
        "      Args:\n",
        "        csv_file (string): Path to the csv file with annotations.\n",
        "        root_dir (string): Directory with all the images.\n",
        "        transform (callable, optional): Optional transform to be applied\n",
        "            on a sample.\n",
        "    \"\"\"\n",
        "    self.mosaic = mosaic_list_of_images\n",
        "    self.label = mosaic_label\n",
        "    self.fore_idx = fore_idx\n",
        "\n",
        "  def __len__(self):\n",
        "    return len(self.label)\n",
        "\n",
        "  def __getitem__(self, idx):\n",
        "    return self.mosaic[idx] , self.label[idx], self.fore_idx[idx]\n",
        "batch = 250\n",
        "msd = MosaicDataset(mosaic_list_of_images, mosaic_label , fore_idx)\n",
        "train_loader = DataLoader( msd,batch_size= batch ,shuffle=False)"
      ],
      "execution_count": 7,
      "outputs": []
    },
    {
      "cell_type": "code",
      "metadata": {
        "id": "lGVy-1EllAc_"
      },
      "source": [
        "data,labels,fg_index = iter(train_loader).next()"
      ],
      "execution_count": 8,
      "outputs": []
    },
    {
      "cell_type": "code",
      "metadata": {
        "id": "DOpZfj1bq7wN"
      },
      "source": [
        "ag = []\n",
        "for i in range(120):\n",
        "  alphag = torch.ones((250,9))/9\n",
        "  ag.append( alphag.requires_grad_() )"
      ],
      "execution_count": 9,
      "outputs": []
    },
    {
      "cell_type": "code",
      "metadata": {
        "id": "HbrMidFCla6h"
      },
      "source": [
        "class Module2(nn.Module):\n",
        "  def __init__(self):\n",
        "    super(Module2, self).__init__()\n",
        "    \n",
        "    self.conv1 = nn.Conv2d(3, 6, 5)\n",
        "    self.pool = nn.MaxPool2d(2, 2)\n",
        "    self.conv2 = nn.Conv2d(6, 16, 5)\n",
        "    self.fc1 = nn.Linear(16 * 5 * 5, 120)\n",
        "    self.fc2 = nn.Linear(120, 84)\n",
        "    self.fc3 = nn.Linear(84, 10)\n",
        "    self.fc4 = nn.Linear(10,3)\n",
        "\n",
        "  def forward(self,y):  #z batch of list of 9 images\n",
        "    y1 = self.pool(F.relu(self.conv1(y)))\n",
        "    y1 = self.pool(F.relu(self.conv2(y1)))\n",
        "    y1 = y1.view(-1, 16 * 5 * 5)\n",
        "\n",
        "    y1 = F.relu(self.fc1(y1))\n",
        "    y1 = F.relu(self.fc2(y1))\n",
        "    y1 = F.relu(self.fc3(y1))\n",
        "    y1 = self.fc4(y1)\n",
        "    return y1"
      ],
      "execution_count": 10,
      "outputs": []
    },
    {
      "cell_type": "code",
      "metadata": {
        "id": "rRqj2VELllkX"
      },
      "source": [
        "torch.manual_seed(1234)\n",
        "what_net = Module2().double()\n",
        "what_net = what_net.to(\"cuda\")"
      ],
      "execution_count": 11,
      "outputs": []
    },
    {
      "cell_type": "code",
      "metadata": {
        "id": "6d8Wch99l4yB"
      },
      "source": [
        "def attn_avg(x,alpha):\n",
        "  y = torch.zeros([batch,3, 32,32], dtype=torch.float64)\n",
        "  y = y.to(\"cuda\")\n",
        "  alpha = F.softmax(alpha,dim=1)   # alphas\n",
        "  for i in range(9):            \n",
        "    alpha1 = alpha[:,i]          \n",
        "    y = y + torch.mul(alpha1[:,None,None,None],x[:,i])\n",
        "    return y,alpha\n"
      ],
      "execution_count": 12,
      "outputs": []
    },
    {
      "cell_type": "code",
      "metadata": {
        "id": "Rz1Kpw12loV6"
      },
      "source": [
        "def calculate_attn_loss(dataloader,what,criter):\n",
        "  what.eval()\n",
        "  r_loss = 0\n",
        "  alphas = []\n",
        "  lbls = []\n",
        "  pred = []\n",
        "  fidices = []\n",
        "  correct = 0\n",
        "  tot = 0\n",
        "  with torch.no_grad():\n",
        "    for i, data in enumerate(dataloader, 0):\n",
        "      inputs, labels,fidx= data\n",
        "      lbls.append(labels)\n",
        "      fidices.append(fidx)\n",
        "      inputs = inputs.double()\n",
        "      alpha = ag[i]  # alpha for ith batch\n",
        "      inputs, labels,alpha = inputs.to(\"cuda\"),labels.to(\"cuda\"),alpha.to(\"cuda\")\n",
        "      avg,alpha = attn_avg(inputs,alpha)\n",
        "      alpha = alpha.to(\"cuda\")\n",
        "      outputs = what(avg)\n",
        "      _, predicted = torch.max(outputs.data, 1)\n",
        "      correct += sum(predicted == labels)\n",
        "      tot += len(predicted)\n",
        "      pred.append(predicted.cpu().numpy())\n",
        "      alphas.append(alpha.cpu().numpy())\n",
        "      loss = criter(outputs, labels)\n",
        "      r_loss += loss.item()\n",
        "  alphas = np.concatenate(alphas,axis=0)\n",
        "  pred = np.concatenate(pred,axis=0)\n",
        "  lbls = np.concatenate(lbls,axis=0)\n",
        "  fidices = np.concatenate(fidices,axis=0)\n",
        "  #print(alphas.shape,pred.shape,lbls.shape,fidices.shape) \n",
        "  analysis = analyse_data(alphas,lbls,pred,fidices)\n",
        "  return r_loss/i,analysis,correct.item(),tot,correct.item()/tot"
      ],
      "execution_count": 13,
      "outputs": []
    },
    {
      "cell_type": "code",
      "metadata": {
        "id": "_toCktPanH0S"
      },
      "source": [
        "\n",
        "def analyse_data(alphas,lbls,predicted,f_idx):\n",
        "    '''\n",
        "       analysis data is created here\n",
        "    '''\n",
        "    batch = len(predicted)\n",
        "    amth,alth,ftpt,ffpt,ftpf,ffpf = 0,0,0,0,0,0\n",
        "    for j in range (batch):\n",
        "      focus = np.argmax(alphas[j])\n",
        "      if(alphas[j][focus] >= 0.5):\n",
        "        amth +=1\n",
        "      else:\n",
        "        alth +=1\n",
        "      if(focus == f_idx[j] and predicted[j] == lbls[j]):\n",
        "        ftpt += 1\n",
        "      elif(focus != f_idx[j] and predicted[j] == lbls[j]):\n",
        "        ffpt +=1\n",
        "      elif(focus == f_idx[j] and predicted[j] != lbls[j]):\n",
        "        ftpf +=1\n",
        "      elif(focus != f_idx[j] and predicted[j] != lbls[j]):\n",
        "        ffpf +=1\n",
        "    #print(sum(predicted==lbls),ftpt+ffpt)\n",
        "    return [ftpt,ffpt,ftpf,ffpf,amth,alth]"
      ],
      "execution_count": 14,
      "outputs": []
    },
    {
      "cell_type": "code",
      "metadata": {
        "id": "S633XgMToeN3"
      },
      "source": [
        "optim1 = []\n",
        "for i in range(120):\n",
        "  optim1.append(optim.RMSprop([ag[i]], lr=1000))"
      ],
      "execution_count": 15,
      "outputs": []
    },
    {
      "cell_type": "code",
      "metadata": {
        "colab": {
          "base_uri": "https://localhost:8080/"
        },
        "id": "qPaYaojinMTA",
        "outputId": "346314af-5bda-46b9-a931-8e408be1b4d2"
      },
      "source": [
        "# instantiate optimizer\n",
        "optimizer_what = optim.RMSprop(what_net.parameters(), lr=0.001)#, momentum=0.9)#,nesterov=True)\n",
        "\n",
        "\n",
        " \n",
        "\n",
        "\n",
        "criterion = nn.CrossEntropyLoss()\n",
        "acti = []\n",
        "analysis_data_tr = []\n",
        "analysis_data_tst = []\n",
        "loss_curi_tr = []\n",
        "loss_curi_tst = []\n",
        "epochs = 200\n",
        "\n",
        "\n",
        "# calculate zeroth epoch loss and FTPT values\n",
        "running_loss,anlys_data,correct,total,accuracy = calculate_attn_loss(train_loader,what_net,criterion)\n",
        "print('training epoch: [%d ] loss: %.3f correct: %.3f, total: %.3f, accuracy: %.3f' %(0,running_loss,correct,total,accuracy)) \n",
        "loss_curi_tr.append(running_loss)\n",
        "analysis_data_tr.append(anlys_data)\n",
        "\n",
        "\n",
        "\n",
        "\n",
        "# training starts \n",
        "for epoch in range(epochs): # loop over the dataset multiple times\n",
        "  ep_lossi = []\n",
        "  running_loss = 0.0\n",
        "  what_net.train()\n",
        "  for i, data in enumerate(train_loader, 0):\n",
        "    # get the inputs\n",
        "    grads = [] \n",
        "    inputs, labels,_  = data\n",
        "    inputs = inputs.double()\n",
        "    alpha = ag[i] # alpha for ith batch\n",
        "    inputs, labels,alpha = inputs.to(\"cuda\"),labels.to(\"cuda\"),alpha.to(\"cuda\")\n",
        "        \n",
        "    # zero the parameter gradients\n",
        "    optimizer_what.zero_grad()\n",
        "    optim1[i].zero_grad()\n",
        "      \n",
        "    # forward + backward + optimize\n",
        "    avg,alpha = attn_avg(inputs,alpha)\n",
        "    outputs = what_net(avg)     \n",
        "    loss = criterion(outputs, labels)\n",
        "\n",
        "    # print statistics\n",
        "    running_loss += loss.item()\n",
        "    alpha.retain_grad()\n",
        "    loss.backward(retain_graph=False)\n",
        "    optimizer_what.step()\n",
        "    optim1[i].step()\n",
        "\n",
        "\n",
        "  running_loss_tr,anls_data,correct,total,accuracy = calculate_attn_loss(train_loader,what_net,criterion)\n",
        "  analysis_data_tr.append(anls_data)\n",
        "  loss_curi_tr.append(running_loss_tr)   #loss per epoch\n",
        "  print('training epoch: [%d ] loss: %.3f correct: %.3f, total: %.3f, accuracy: %.3f' %(epoch+1,running_loss_tr,correct,total,accuracy)) \n",
        "\n",
        "\n",
        "  \n",
        "  if running_loss_tr<=0.08:\n",
        "    break\n",
        "print('Finished Training run ')\n",
        "analysis_data_tr = np.array(analysis_data_tr)\n",
        "\n"
      ],
      "execution_count": 16,
      "outputs": [
        {
          "output_type": "stream",
          "text": [
            "training epoch: [0 ] loss: 1.119 correct: 10123.000, total: 30000.000, accuracy: 0.337\n",
            "training epoch: [1 ] loss: 1.090 correct: 11847.000, total: 30000.000, accuracy: 0.395\n",
            "training epoch: [2 ] loss: 0.940 correct: 15188.000, total: 30000.000, accuracy: 0.506\n",
            "training epoch: [3 ] loss: 0.942 correct: 15234.000, total: 30000.000, accuracy: 0.508\n",
            "training epoch: [4 ] loss: 0.941 correct: 15237.000, total: 30000.000, accuracy: 0.508\n",
            "training epoch: [5 ] loss: 0.943 correct: 15246.000, total: 30000.000, accuracy: 0.508\n",
            "training epoch: [6 ] loss: 0.943 correct: 15208.000, total: 30000.000, accuracy: 0.507\n",
            "training epoch: [7 ] loss: 0.947 correct: 15147.000, total: 30000.000, accuracy: 0.505\n",
            "training epoch: [8 ] loss: 0.949 correct: 15111.000, total: 30000.000, accuracy: 0.504\n",
            "training epoch: [9 ] loss: 0.949 correct: 15105.000, total: 30000.000, accuracy: 0.503\n",
            "training epoch: [10 ] loss: 0.950 correct: 15122.000, total: 30000.000, accuracy: 0.504\n",
            "training epoch: [11 ] loss: 0.950 correct: 15126.000, total: 30000.000, accuracy: 0.504\n",
            "training epoch: [12 ] loss: 0.945 correct: 15121.000, total: 30000.000, accuracy: 0.504\n",
            "training epoch: [13 ] loss: 0.945 correct: 15124.000, total: 30000.000, accuracy: 0.504\n",
            "training epoch: [14 ] loss: 0.946 correct: 15208.000, total: 30000.000, accuracy: 0.507\n",
            "training epoch: [15 ] loss: 0.950 correct: 15224.000, total: 30000.000, accuracy: 0.507\n",
            "training epoch: [16 ] loss: 0.955 correct: 15229.000, total: 30000.000, accuracy: 0.508\n",
            "training epoch: [17 ] loss: 0.954 correct: 15259.000, total: 30000.000, accuracy: 0.509\n",
            "training epoch: [18 ] loss: 0.962 correct: 15206.000, total: 30000.000, accuracy: 0.507\n",
            "training epoch: [19 ] loss: 0.962 correct: 15249.000, total: 30000.000, accuracy: 0.508\n",
            "training epoch: [20 ] loss: 0.960 correct: 15258.000, total: 30000.000, accuracy: 0.509\n",
            "training epoch: [21 ] loss: 0.961 correct: 15311.000, total: 30000.000, accuracy: 0.510\n",
            "training epoch: [22 ] loss: 0.964 correct: 15349.000, total: 30000.000, accuracy: 0.512\n",
            "training epoch: [23 ] loss: 0.968 correct: 15409.000, total: 30000.000, accuracy: 0.514\n",
            "training epoch: [24 ] loss: 0.976 correct: 15380.000, total: 30000.000, accuracy: 0.513\n",
            "training epoch: [25 ] loss: 0.977 correct: 15452.000, total: 30000.000, accuracy: 0.515\n",
            "training epoch: [26 ] loss: 0.972 correct: 15478.000, total: 30000.000, accuracy: 0.516\n",
            "training epoch: [27 ] loss: 0.973 correct: 15508.000, total: 30000.000, accuracy: 0.517\n",
            "training epoch: [28 ] loss: 0.970 correct: 15520.000, total: 30000.000, accuracy: 0.517\n",
            "training epoch: [29 ] loss: 0.976 correct: 15523.000, total: 30000.000, accuracy: 0.517\n",
            "training epoch: [30 ] loss: 0.975 correct: 15573.000, total: 30000.000, accuracy: 0.519\n",
            "training epoch: [31 ] loss: 0.978 correct: 15638.000, total: 30000.000, accuracy: 0.521\n",
            "training epoch: [32 ] loss: 0.972 correct: 15641.000, total: 30000.000, accuracy: 0.521\n",
            "training epoch: [33 ] loss: 0.968 correct: 15674.000, total: 30000.000, accuracy: 0.522\n",
            "training epoch: [34 ] loss: 0.976 correct: 15770.000, total: 30000.000, accuracy: 0.526\n",
            "training epoch: [35 ] loss: 0.977 correct: 15739.000, total: 30000.000, accuracy: 0.525\n",
            "training epoch: [36 ] loss: 0.981 correct: 15775.000, total: 30000.000, accuracy: 0.526\n",
            "training epoch: [37 ] loss: 0.974 correct: 15781.000, total: 30000.000, accuracy: 0.526\n",
            "training epoch: [38 ] loss: 0.978 correct: 15815.000, total: 30000.000, accuracy: 0.527\n",
            "training epoch: [39 ] loss: 0.973 correct: 15899.000, total: 30000.000, accuracy: 0.530\n",
            "training epoch: [40 ] loss: 0.983 correct: 15818.000, total: 30000.000, accuracy: 0.527\n",
            "training epoch: [41 ] loss: 0.994 correct: 15880.000, total: 30000.000, accuracy: 0.529\n",
            "training epoch: [42 ] loss: 0.986 correct: 15855.000, total: 30000.000, accuracy: 0.528\n",
            "training epoch: [43 ] loss: 0.969 correct: 16038.000, total: 30000.000, accuracy: 0.535\n",
            "training epoch: [44 ] loss: 1.003 correct: 15800.000, total: 30000.000, accuracy: 0.527\n",
            "training epoch: [45 ] loss: 0.999 correct: 15880.000, total: 30000.000, accuracy: 0.529\n",
            "training epoch: [46 ] loss: 1.014 correct: 15847.000, total: 30000.000, accuracy: 0.528\n",
            "training epoch: [47 ] loss: 1.009 correct: 15873.000, total: 30000.000, accuracy: 0.529\n",
            "training epoch: [48 ] loss: 1.053 correct: 15721.000, total: 30000.000, accuracy: 0.524\n",
            "training epoch: [49 ] loss: 1.062 correct: 15837.000, total: 30000.000, accuracy: 0.528\n",
            "training epoch: [50 ] loss: 1.035 correct: 16002.000, total: 30000.000, accuracy: 0.533\n",
            "training epoch: [51 ] loss: 1.035 correct: 16073.000, total: 30000.000, accuracy: 0.536\n",
            "training epoch: [52 ] loss: 1.044 correct: 15935.000, total: 30000.000, accuracy: 0.531\n",
            "training epoch: [53 ] loss: 1.068 correct: 15976.000, total: 30000.000, accuracy: 0.533\n",
            "training epoch: [54 ] loss: 1.038 correct: 16068.000, total: 30000.000, accuracy: 0.536\n",
            "training epoch: [55 ] loss: 1.031 correct: 16160.000, total: 30000.000, accuracy: 0.539\n",
            "training epoch: [56 ] loss: 1.045 correct: 16171.000, total: 30000.000, accuracy: 0.539\n",
            "training epoch: [57 ] loss: 1.070 correct: 16086.000, total: 30000.000, accuracy: 0.536\n",
            "training epoch: [58 ] loss: 1.029 correct: 16303.000, total: 30000.000, accuracy: 0.543\n",
            "training epoch: [59 ] loss: 1.043 correct: 16208.000, total: 30000.000, accuracy: 0.540\n",
            "training epoch: [60 ] loss: 1.031 correct: 16338.000, total: 30000.000, accuracy: 0.545\n",
            "training epoch: [61 ] loss: 1.081 correct: 16159.000, total: 30000.000, accuracy: 0.539\n",
            "training epoch: [62 ] loss: 1.023 correct: 16371.000, total: 30000.000, accuracy: 0.546\n",
            "training epoch: [63 ] loss: 1.020 correct: 16381.000, total: 30000.000, accuracy: 0.546\n",
            "training epoch: [64 ] loss: 1.034 correct: 16457.000, total: 30000.000, accuracy: 0.549\n",
            "training epoch: [65 ] loss: 1.021 correct: 16359.000, total: 30000.000, accuracy: 0.545\n",
            "training epoch: [66 ] loss: 1.014 correct: 16547.000, total: 30000.000, accuracy: 0.552\n",
            "training epoch: [67 ] loss: 1.054 correct: 16494.000, total: 30000.000, accuracy: 0.550\n",
            "training epoch: [68 ] loss: 1.010 correct: 16670.000, total: 30000.000, accuracy: 0.556\n",
            "training epoch: [69 ] loss: 1.021 correct: 16573.000, total: 30000.000, accuracy: 0.552\n",
            "training epoch: [70 ] loss: 1.018 correct: 16739.000, total: 30000.000, accuracy: 0.558\n",
            "training epoch: [71 ] loss: 0.991 correct: 16833.000, total: 30000.000, accuracy: 0.561\n",
            "training epoch: [72 ] loss: 0.992 correct: 16916.000, total: 30000.000, accuracy: 0.564\n",
            "training epoch: [73 ] loss: 0.981 correct: 16968.000, total: 30000.000, accuracy: 0.566\n",
            "training epoch: [74 ] loss: 0.988 correct: 17056.000, total: 30000.000, accuracy: 0.569\n",
            "training epoch: [75 ] loss: 0.995 correct: 17051.000, total: 30000.000, accuracy: 0.568\n",
            "training epoch: [76 ] loss: 0.988 correct: 17069.000, total: 30000.000, accuracy: 0.569\n",
            "training epoch: [77 ] loss: 1.013 correct: 17011.000, total: 30000.000, accuracy: 0.567\n",
            "training epoch: [78 ] loss: 0.986 correct: 17131.000, total: 30000.000, accuracy: 0.571\n",
            "training epoch: [79 ] loss: 0.992 correct: 17183.000, total: 30000.000, accuracy: 0.573\n",
            "training epoch: [80 ] loss: 0.970 correct: 17263.000, total: 30000.000, accuracy: 0.575\n",
            "training epoch: [81 ] loss: 0.998 correct: 17190.000, total: 30000.000, accuracy: 0.573\n",
            "training epoch: [82 ] loss: 0.997 correct: 17254.000, total: 30000.000, accuracy: 0.575\n",
            "training epoch: [83 ] loss: 1.027 correct: 17144.000, total: 30000.000, accuracy: 0.571\n",
            "training epoch: [84 ] loss: 1.010 correct: 17229.000, total: 30000.000, accuracy: 0.574\n",
            "training epoch: [85 ] loss: 1.102 correct: 17024.000, total: 30000.000, accuracy: 0.567\n",
            "training epoch: [86 ] loss: 0.986 correct: 17411.000, total: 30000.000, accuracy: 0.580\n",
            "training epoch: [87 ] loss: 1.023 correct: 17305.000, total: 30000.000, accuracy: 0.577\n",
            "training epoch: [88 ] loss: 1.032 correct: 17227.000, total: 30000.000, accuracy: 0.574\n",
            "training epoch: [89 ] loss: 1.012 correct: 17369.000, total: 30000.000, accuracy: 0.579\n",
            "training epoch: [90 ] loss: 1.005 correct: 17444.000, total: 30000.000, accuracy: 0.581\n",
            "training epoch: [91 ] loss: 1.001 correct: 17464.000, total: 30000.000, accuracy: 0.582\n",
            "training epoch: [92 ] loss: 1.007 correct: 17413.000, total: 30000.000, accuracy: 0.580\n",
            "training epoch: [93 ] loss: 1.016 correct: 17543.000, total: 30000.000, accuracy: 0.585\n",
            "training epoch: [94 ] loss: 1.060 correct: 17323.000, total: 30000.000, accuracy: 0.577\n",
            "training epoch: [95 ] loss: 1.027 correct: 17548.000, total: 30000.000, accuracy: 0.585\n",
            "training epoch: [96 ] loss: 1.010 correct: 17670.000, total: 30000.000, accuracy: 0.589\n",
            "training epoch: [97 ] loss: 1.007 correct: 17671.000, total: 30000.000, accuracy: 0.589\n",
            "training epoch: [98 ] loss: 1.029 correct: 17580.000, total: 30000.000, accuracy: 0.586\n",
            "training epoch: [99 ] loss: 1.027 correct: 17614.000, total: 30000.000, accuracy: 0.587\n",
            "training epoch: [100 ] loss: 1.045 correct: 17483.000, total: 30000.000, accuracy: 0.583\n",
            "training epoch: [101 ] loss: 1.109 correct: 17364.000, total: 30000.000, accuracy: 0.579\n",
            "training epoch: [102 ] loss: 1.038 correct: 17634.000, total: 30000.000, accuracy: 0.588\n",
            "training epoch: [103 ] loss: 1.078 correct: 17430.000, total: 30000.000, accuracy: 0.581\n",
            "training epoch: [104 ] loss: 1.076 correct: 17527.000, total: 30000.000, accuracy: 0.584\n",
            "training epoch: [105 ] loss: 1.087 correct: 17587.000, total: 30000.000, accuracy: 0.586\n",
            "training epoch: [106 ] loss: 1.052 correct: 17725.000, total: 30000.000, accuracy: 0.591\n",
            "training epoch: [107 ] loss: 1.085 correct: 17745.000, total: 30000.000, accuracy: 0.592\n",
            "training epoch: [108 ] loss: 1.051 correct: 17841.000, total: 30000.000, accuracy: 0.595\n",
            "training epoch: [109 ] loss: 1.069 correct: 17700.000, total: 30000.000, accuracy: 0.590\n",
            "training epoch: [110 ] loss: 1.079 correct: 17715.000, total: 30000.000, accuracy: 0.591\n",
            "training epoch: [111 ] loss: 1.081 correct: 17598.000, total: 30000.000, accuracy: 0.587\n",
            "training epoch: [112 ] loss: 1.118 correct: 17607.000, total: 30000.000, accuracy: 0.587\n",
            "training epoch: [113 ] loss: 1.082 correct: 17791.000, total: 30000.000, accuracy: 0.593\n",
            "training epoch: [114 ] loss: 1.086 correct: 17790.000, total: 30000.000, accuracy: 0.593\n",
            "training epoch: [115 ] loss: 1.116 correct: 17831.000, total: 30000.000, accuracy: 0.594\n",
            "training epoch: [116 ] loss: 1.110 correct: 17813.000, total: 30000.000, accuracy: 0.594\n",
            "training epoch: [117 ] loss: 1.126 correct: 17932.000, total: 30000.000, accuracy: 0.598\n",
            "training epoch: [118 ] loss: 1.109 correct: 17927.000, total: 30000.000, accuracy: 0.598\n",
            "training epoch: [119 ] loss: 1.126 correct: 17836.000, total: 30000.000, accuracy: 0.595\n",
            "training epoch: [120 ] loss: 1.126 correct: 17875.000, total: 30000.000, accuracy: 0.596\n",
            "training epoch: [121 ] loss: 1.104 correct: 17932.000, total: 30000.000, accuracy: 0.598\n",
            "training epoch: [122 ] loss: 1.127 correct: 17948.000, total: 30000.000, accuracy: 0.598\n",
            "training epoch: [123 ] loss: 1.074 correct: 18004.000, total: 30000.000, accuracy: 0.600\n",
            "training epoch: [124 ] loss: 1.087 correct: 17992.000, total: 30000.000, accuracy: 0.600\n",
            "training epoch: [125 ] loss: 1.100 correct: 17991.000, total: 30000.000, accuracy: 0.600\n",
            "training epoch: [126 ] loss: 1.113 correct: 17992.000, total: 30000.000, accuracy: 0.600\n",
            "training epoch: [127 ] loss: 1.069 correct: 18058.000, total: 30000.000, accuracy: 0.602\n",
            "training epoch: [128 ] loss: 1.078 correct: 17998.000, total: 30000.000, accuracy: 0.600\n",
            "training epoch: [129 ] loss: 1.111 correct: 17952.000, total: 30000.000, accuracy: 0.598\n",
            "training epoch: [130 ] loss: 1.095 correct: 18046.000, total: 30000.000, accuracy: 0.602\n",
            "training epoch: [131 ] loss: 1.028 correct: 18232.000, total: 30000.000, accuracy: 0.608\n",
            "training epoch: [132 ] loss: 1.124 correct: 17948.000, total: 30000.000, accuracy: 0.598\n",
            "training epoch: [133 ] loss: 1.111 correct: 18010.000, total: 30000.000, accuracy: 0.600\n",
            "training epoch: [134 ] loss: 1.129 correct: 18014.000, total: 30000.000, accuracy: 0.600\n",
            "training epoch: [135 ] loss: 1.116 correct: 17983.000, total: 30000.000, accuracy: 0.599\n",
            "training epoch: [136 ] loss: 1.103 correct: 17961.000, total: 30000.000, accuracy: 0.599\n",
            "training epoch: [137 ] loss: 1.174 correct: 17945.000, total: 30000.000, accuracy: 0.598\n",
            "training epoch: [138 ] loss: 1.135 correct: 17939.000, total: 30000.000, accuracy: 0.598\n",
            "training epoch: [139 ] loss: 1.114 correct: 18129.000, total: 30000.000, accuracy: 0.604\n",
            "training epoch: [140 ] loss: 1.181 correct: 17860.000, total: 30000.000, accuracy: 0.595\n",
            "training epoch: [141 ] loss: 1.204 correct: 17857.000, total: 30000.000, accuracy: 0.595\n",
            "training epoch: [142 ] loss: 1.136 correct: 18047.000, total: 30000.000, accuracy: 0.602\n",
            "training epoch: [143 ] loss: 1.104 correct: 18082.000, total: 30000.000, accuracy: 0.603\n",
            "training epoch: [144 ] loss: 1.132 correct: 18014.000, total: 30000.000, accuracy: 0.600\n",
            "training epoch: [145 ] loss: 1.144 correct: 18044.000, total: 30000.000, accuracy: 0.601\n",
            "training epoch: [146 ] loss: 1.117 correct: 18137.000, total: 30000.000, accuracy: 0.605\n",
            "training epoch: [147 ] loss: 1.210 correct: 18052.000, total: 30000.000, accuracy: 0.602\n",
            "training epoch: [148 ] loss: 1.355 correct: 17605.000, total: 30000.000, accuracy: 0.587\n",
            "training epoch: [149 ] loss: 1.137 correct: 18329.000, total: 30000.000, accuracy: 0.611\n",
            "training epoch: [150 ] loss: 1.175 correct: 18013.000, total: 30000.000, accuracy: 0.600\n",
            "training epoch: [151 ] loss: 1.165 correct: 18077.000, total: 30000.000, accuracy: 0.603\n",
            "training epoch: [152 ] loss: 1.150 correct: 18163.000, total: 30000.000, accuracy: 0.605\n",
            "training epoch: [153 ] loss: 1.130 correct: 18272.000, total: 30000.000, accuracy: 0.609\n",
            "training epoch: [154 ] loss: 1.141 correct: 18097.000, total: 30000.000, accuracy: 0.603\n",
            "training epoch: [155 ] loss: 1.141 correct: 18216.000, total: 30000.000, accuracy: 0.607\n",
            "training epoch: [156 ] loss: 1.197 correct: 18178.000, total: 30000.000, accuracy: 0.606\n",
            "training epoch: [157 ] loss: 1.168 correct: 18203.000, total: 30000.000, accuracy: 0.607\n",
            "training epoch: [158 ] loss: 1.150 correct: 18265.000, total: 30000.000, accuracy: 0.609\n",
            "training epoch: [159 ] loss: 1.217 correct: 18115.000, total: 30000.000, accuracy: 0.604\n",
            "training epoch: [160 ] loss: 1.167 correct: 18070.000, total: 30000.000, accuracy: 0.602\n",
            "training epoch: [161 ] loss: 1.141 correct: 18211.000, total: 30000.000, accuracy: 0.607\n",
            "training epoch: [162 ] loss: 1.282 correct: 17983.000, total: 30000.000, accuracy: 0.599\n",
            "training epoch: [163 ] loss: 1.188 correct: 18106.000, total: 30000.000, accuracy: 0.604\n",
            "training epoch: [164 ] loss: 1.188 correct: 18248.000, total: 30000.000, accuracy: 0.608\n",
            "training epoch: [165 ] loss: 1.201 correct: 18125.000, total: 30000.000, accuracy: 0.604\n",
            "training epoch: [166 ] loss: 1.246 correct: 18050.000, total: 30000.000, accuracy: 0.602\n",
            "training epoch: [167 ] loss: 1.224 correct: 18061.000, total: 30000.000, accuracy: 0.602\n",
            "training epoch: [168 ] loss: 1.285 correct: 17993.000, total: 30000.000, accuracy: 0.600\n",
            "training epoch: [169 ] loss: 1.239 correct: 18213.000, total: 30000.000, accuracy: 0.607\n",
            "training epoch: [170 ] loss: 1.223 correct: 18092.000, total: 30000.000, accuracy: 0.603\n",
            "training epoch: [171 ] loss: 1.237 correct: 18199.000, total: 30000.000, accuracy: 0.607\n",
            "training epoch: [172 ] loss: 1.229 correct: 18128.000, total: 30000.000, accuracy: 0.604\n",
            "training epoch: [173 ] loss: 1.267 correct: 18185.000, total: 30000.000, accuracy: 0.606\n",
            "training epoch: [174 ] loss: 1.356 correct: 17912.000, total: 30000.000, accuracy: 0.597\n",
            "training epoch: [175 ] loss: 1.268 correct: 17981.000, total: 30000.000, accuracy: 0.599\n",
            "training epoch: [176 ] loss: 1.276 correct: 17985.000, total: 30000.000, accuracy: 0.600\n",
            "training epoch: [177 ] loss: 1.234 correct: 18171.000, total: 30000.000, accuracy: 0.606\n",
            "training epoch: [178 ] loss: 1.223 correct: 18238.000, total: 30000.000, accuracy: 0.608\n",
            "training epoch: [179 ] loss: 1.242 correct: 18165.000, total: 30000.000, accuracy: 0.606\n",
            "training epoch: [180 ] loss: 1.236 correct: 18337.000, total: 30000.000, accuracy: 0.611\n",
            "training epoch: [181 ] loss: 1.296 correct: 18234.000, total: 30000.000, accuracy: 0.608\n",
            "training epoch: [182 ] loss: 1.259 correct: 18146.000, total: 30000.000, accuracy: 0.605\n",
            "training epoch: [183 ] loss: 1.267 correct: 18220.000, total: 30000.000, accuracy: 0.607\n",
            "training epoch: [184 ] loss: 1.268 correct: 18248.000, total: 30000.000, accuracy: 0.608\n",
            "training epoch: [185 ] loss: 1.262 correct: 18142.000, total: 30000.000, accuracy: 0.605\n",
            "training epoch: [186 ] loss: 1.264 correct: 18223.000, total: 30000.000, accuracy: 0.607\n",
            "training epoch: [187 ] loss: 1.278 correct: 18273.000, total: 30000.000, accuracy: 0.609\n",
            "training epoch: [188 ] loss: 1.275 correct: 18308.000, total: 30000.000, accuracy: 0.610\n",
            "training epoch: [189 ] loss: 1.368 correct: 18068.000, total: 30000.000, accuracy: 0.602\n",
            "training epoch: [190 ] loss: 1.354 correct: 18098.000, total: 30000.000, accuracy: 0.603\n",
            "training epoch: [191 ] loss: 1.270 correct: 18222.000, total: 30000.000, accuracy: 0.607\n",
            "training epoch: [192 ] loss: 1.361 correct: 17898.000, total: 30000.000, accuracy: 0.597\n",
            "training epoch: [193 ] loss: 1.290 correct: 18218.000, total: 30000.000, accuracy: 0.607\n",
            "training epoch: [194 ] loss: 1.301 correct: 18162.000, total: 30000.000, accuracy: 0.605\n",
            "training epoch: [195 ] loss: 1.351 correct: 18099.000, total: 30000.000, accuracy: 0.603\n",
            "training epoch: [196 ] loss: 1.252 correct: 18411.000, total: 30000.000, accuracy: 0.614\n",
            "training epoch: [197 ] loss: 1.274 correct: 18309.000, total: 30000.000, accuracy: 0.610\n",
            "training epoch: [198 ] loss: 1.255 correct: 18237.000, total: 30000.000, accuracy: 0.608\n",
            "training epoch: [199 ] loss: 1.230 correct: 18270.000, total: 30000.000, accuracy: 0.609\n",
            "training epoch: [200 ] loss: 1.261 correct: 18430.000, total: 30000.000, accuracy: 0.614\n",
            "Finished Training run \n"
          ],
          "name": "stdout"
        }
      ]
    },
    {
      "cell_type": "code",
      "metadata": {
        "id": "AciJnAh5nfug"
      },
      "source": [
        "columns = [\"epochs\", \"argmax > 0.5\" ,\"argmax < 0.5\", \"focus_true_pred_true\", \"focus_false_pred_true\", \"focus_true_pred_false\", \"focus_false_pred_false\" ]\n",
        "df_train = pd.DataFrame()\n",
        "df_test = pd.DataFrame()\n",
        "df_train[columns[0]] = np.arange(0,epoch+2)\n",
        "df_train[columns[1]] = analysis_data_tr[:,-2]\n",
        "df_train[columns[2]] = analysis_data_tr[:,-1]\n",
        "df_train[columns[3]] = analysis_data_tr[:,0]\n",
        "df_train[columns[4]] = analysis_data_tr[:,1]\n",
        "df_train[columns[5]] = analysis_data_tr[:,2]\n",
        "df_train[columns[6]] = analysis_data_tr[:,3]"
      ],
      "execution_count": 17,
      "outputs": []
    },
    {
      "cell_type": "code",
      "metadata": {
        "colab": {
          "base_uri": "https://localhost:8080/",
          "height": 419
        },
        "id": "NoQpS_6scRsC",
        "outputId": "5ecbecfd-8766-452f-d3e4-31dc0308addb"
      },
      "source": [
        "df_train"
      ],
      "execution_count": 18,
      "outputs": [
        {
          "output_type": "execute_result",
          "data": {
            "text/html": [
              "<div>\n",
              "<style scoped>\n",
              "    .dataframe tbody tr th:only-of-type {\n",
              "        vertical-align: middle;\n",
              "    }\n",
              "\n",
              "    .dataframe tbody tr th {\n",
              "        vertical-align: top;\n",
              "    }\n",
              "\n",
              "    .dataframe thead th {\n",
              "        text-align: right;\n",
              "    }\n",
              "</style>\n",
              "<table border=\"1\" class=\"dataframe\">\n",
              "  <thead>\n",
              "    <tr style=\"text-align: right;\">\n",
              "      <th></th>\n",
              "      <th>epochs</th>\n",
              "      <th>argmax &gt; 0.5</th>\n",
              "      <th>argmax &lt; 0.5</th>\n",
              "      <th>focus_true_pred_true</th>\n",
              "      <th>focus_false_pred_true</th>\n",
              "      <th>focus_true_pred_false</th>\n",
              "      <th>focus_false_pred_false</th>\n",
              "    </tr>\n",
              "  </thead>\n",
              "  <tbody>\n",
              "    <tr>\n",
              "      <th>0</th>\n",
              "      <td>0</td>\n",
              "      <td>0</td>\n",
              "      <td>30000</td>\n",
              "      <td>1158</td>\n",
              "      <td>8965</td>\n",
              "      <td>2226</td>\n",
              "      <td>17651</td>\n",
              "    </tr>\n",
              "    <tr>\n",
              "      <th>1</th>\n",
              "      <td>1</td>\n",
              "      <td>17046</td>\n",
              "      <td>12954</td>\n",
              "      <td>1797</td>\n",
              "      <td>10050</td>\n",
              "      <td>1970</td>\n",
              "      <td>16183</td>\n",
              "    </tr>\n",
              "    <tr>\n",
              "      <th>2</th>\n",
              "      <td>2</td>\n",
              "      <td>17048</td>\n",
              "      <td>12952</td>\n",
              "      <td>2272</td>\n",
              "      <td>12916</td>\n",
              "      <td>1495</td>\n",
              "      <td>13317</td>\n",
              "    </tr>\n",
              "    <tr>\n",
              "      <th>3</th>\n",
              "      <td>3</td>\n",
              "      <td>17048</td>\n",
              "      <td>12952</td>\n",
              "      <td>2321</td>\n",
              "      <td>12913</td>\n",
              "      <td>1446</td>\n",
              "      <td>13320</td>\n",
              "    </tr>\n",
              "    <tr>\n",
              "      <th>4</th>\n",
              "      <td>4</td>\n",
              "      <td>17048</td>\n",
              "      <td>12952</td>\n",
              "      <td>2318</td>\n",
              "      <td>12919</td>\n",
              "      <td>1449</td>\n",
              "      <td>13314</td>\n",
              "    </tr>\n",
              "    <tr>\n",
              "      <th>...</th>\n",
              "      <td>...</td>\n",
              "      <td>...</td>\n",
              "      <td>...</td>\n",
              "      <td>...</td>\n",
              "      <td>...</td>\n",
              "      <td>...</td>\n",
              "      <td>...</td>\n",
              "    </tr>\n",
              "    <tr>\n",
              "      <th>196</th>\n",
              "      <td>196</td>\n",
              "      <td>17048</td>\n",
              "      <td>12952</td>\n",
              "      <td>2693</td>\n",
              "      <td>15718</td>\n",
              "      <td>1074</td>\n",
              "      <td>10515</td>\n",
              "    </tr>\n",
              "    <tr>\n",
              "      <th>197</th>\n",
              "      <td>197</td>\n",
              "      <td>17048</td>\n",
              "      <td>12952</td>\n",
              "      <td>2657</td>\n",
              "      <td>15652</td>\n",
              "      <td>1110</td>\n",
              "      <td>10581</td>\n",
              "    </tr>\n",
              "    <tr>\n",
              "      <th>198</th>\n",
              "      <td>198</td>\n",
              "      <td>17048</td>\n",
              "      <td>12952</td>\n",
              "      <td>2652</td>\n",
              "      <td>15585</td>\n",
              "      <td>1115</td>\n",
              "      <td>10648</td>\n",
              "    </tr>\n",
              "    <tr>\n",
              "      <th>199</th>\n",
              "      <td>199</td>\n",
              "      <td>17048</td>\n",
              "      <td>12952</td>\n",
              "      <td>2641</td>\n",
              "      <td>15629</td>\n",
              "      <td>1126</td>\n",
              "      <td>10604</td>\n",
              "    </tr>\n",
              "    <tr>\n",
              "      <th>200</th>\n",
              "      <td>200</td>\n",
              "      <td>17048</td>\n",
              "      <td>12952</td>\n",
              "      <td>2662</td>\n",
              "      <td>15768</td>\n",
              "      <td>1105</td>\n",
              "      <td>10465</td>\n",
              "    </tr>\n",
              "  </tbody>\n",
              "</table>\n",
              "<p>201 rows × 7 columns</p>\n",
              "</div>"
            ],
            "text/plain": [
              "     epochs  argmax > 0.5  ...  focus_true_pred_false  focus_false_pred_false\n",
              "0         0             0  ...                   2226                   17651\n",
              "1         1         17046  ...                   1970                   16183\n",
              "2         2         17048  ...                   1495                   13317\n",
              "3         3         17048  ...                   1446                   13320\n",
              "4         4         17048  ...                   1449                   13314\n",
              "..      ...           ...  ...                    ...                     ...\n",
              "196     196         17048  ...                   1074                   10515\n",
              "197     197         17048  ...                   1110                   10581\n",
              "198     198         17048  ...                   1115                   10648\n",
              "199     199         17048  ...                   1126                   10604\n",
              "200     200         17048  ...                   1105                   10465\n",
              "\n",
              "[201 rows x 7 columns]"
            ]
          },
          "metadata": {
            "tags": []
          },
          "execution_count": 18
        }
      ]
    },
    {
      "cell_type": "code",
      "metadata": {
        "colab": {
          "base_uri": "https://localhost:8080/",
          "height": 730
        },
        "id": "IMAhRdxOcVf6",
        "outputId": "293463fd-4c22-46d5-a5ff-81bc8f85f525"
      },
      "source": [
        "fig= plt.figure(figsize=(12,12))\n",
        "plt.plot(df_train[columns[0]],df_train[columns[3]]/300, label =\"focus_true_pred_true \")\n",
        "plt.plot(df_train[columns[0]],df_train[columns[4]]/300, label =\"focus_false_pred_true \")\n",
        "plt.plot(df_train[columns[0]],df_train[columns[5]]/300, label =\"focus_true_pred_false \")\n",
        "plt.plot(df_train[columns[0]],df_train[columns[6]]/300, label =\"focus_false_pred_false \")\n",
        "plt.title(\"On Train set\")\n",
        "plt.legend(loc='center left', bbox_to_anchor=(1, 0.5))\n",
        "plt.xlabel(\"epochs\")\n",
        "plt.ylabel(\"percentage of data\")\n",
        "#plt.vlines(vline_list,min(min(df_train[columns[3]]/300),min(df_train[columns[4]]/300),min(df_train[columns[5]]/300),min(df_train[columns[6]]/300)), max(max(df_train[columns[3]]/300),max(df_train[columns[4]]/300),max(df_train[columns[5]]/300),max(df_train[columns[6]]/300)),linestyles='dotted')\n",
        "plt.show()\n",
        "fig.savefig(\"train_analysis_every_20.pdf\")\n",
        "fig.savefig(\"train_analysis_every_20.png\")"
      ],
      "execution_count": 19,
      "outputs": [
        {
          "output_type": "display_data",
          "data": {
            "image/png": "[encoded data removed]",
            "text/plain": [
              "<Figure size 864x864 with 1 Axes>"
            ]
          },
          "metadata": {
            "tags": [],
            "needs_background": "light"
          }
        }
      ]
    },
    {
      "cell_type": "code",
      "metadata": {
        "id": "VCnS6r2_3WdU"
      },
      "source": [
        "aph = []\n",
        "for i in ag:\n",
        "  aph.append(F.softmax(i,dim=1).detach().numpy())\n",
        "  \n",
        "aph = np.concatenate(aph,axis=0)\n",
        "torch.save({\n",
        "            'epoch': 500,\n",
        "            'model_state_dict': what_net.state_dict(),\n",
        "            'optimizer_state_dict': optimizer_what.state_dict(),\n",
        "            \"optimizer_alpha\":optim1,\n",
        "            \"FTPT_analysis\":analysis_data_tr,\n",
        "            \"alpha\":aph\n",
        "\n",
        "            }, \"cifar_what_net_500.pt\")"
      ],
      "execution_count": 20,
      "outputs": []
    },
    {
      "cell_type": "code",
      "metadata": {
        "colab": {
          "base_uri": "https://localhost:8080/"
        },
        "id": "KVzrDOGS4UxU",
        "outputId": "fc7fa41a-bb8e-46b4-ffcd-4a8ddc9ad751"
      },
      "source": [
        "aph"
      ],
      "execution_count": 21,
      "outputs": [
        {
          "output_type": "execute_result",
          "data": {
            "text/plain": [
              "array([[1.   , 0.   , 0.   , ..., 0.   , 0.   , 0.   ],\n",
              "       [0.   , 0.125, 0.125, ..., 0.125, 0.125, 0.125],\n",
              "       [0.   , 0.125, 0.125, ..., 0.125, 0.125, 0.125],\n",
              "       ...,\n",
              "       [1.   , 0.   , 0.   , ..., 0.   , 0.   , 0.   ],\n",
              "       [0.   , 0.125, 0.125, ..., 0.125, 0.125, 0.125],\n",
              "       [0.   , 0.125, 0.125, ..., 0.125, 0.125, 0.125]], dtype=float32)"
            ]
          },
          "metadata": {
            "tags": []
          },
          "execution_count": 21
        }
      ]
    },
    {
      "cell_type": "code",
      "metadata": {
        "id": "Z6heHND15EMz"
      },
      "source": [
        "running_loss_tr,anls_data,correct,total,accuracy = calculate_attn_loss(train_loader,what_net,criterion)"
      ],
      "execution_count": 22,
      "outputs": []
    },
    {
      "cell_type": "code",
      "metadata": {
        "colab": {
          "base_uri": "https://localhost:8080/"
        },
        "id": "zeKhsdpYWQvB",
        "outputId": "09b75198-d0c4-4e00-e460-246e86362442"
      },
      "source": [
        "print(\"argmax>0.5\",anls_data[-2])"
      ],
      "execution_count": 23,
      "outputs": [
        {
          "output_type": "stream",
          "text": [
            "argmax>0.5 17048\n"
          ],
          "name": "stdout"
        }
      ]
    },
    {
      "cell_type": "code",
      "metadata": {
        "id": "yF2bvWdIWUTa"
      },
      "source": [
        ""
      ],
      "execution_count": 23,
      "outputs": []
    }
  ]
}