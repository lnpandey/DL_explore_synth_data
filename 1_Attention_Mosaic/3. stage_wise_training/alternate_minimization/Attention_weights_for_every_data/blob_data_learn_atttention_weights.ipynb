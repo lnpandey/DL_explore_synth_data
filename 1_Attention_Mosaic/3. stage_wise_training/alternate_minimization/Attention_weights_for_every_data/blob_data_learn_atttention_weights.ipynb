{
  "nbformat": 4,
  "nbformat_minor": 0,
  "metadata": {
    "colab": {
      "name": "blob_data_learn_atttention_weights.ipynb",
      "provenance": [],
      "collapsed_sections": [],
      "toc_visible": true
    },
    "kernelspec": {
      "name": "python3",
      "display_name": "Python 3"
    },
    "language_info": {
      "name": "python"
    },
    "accelerator": "GPU"
  },
  "cells": [
    {
      "cell_type": "code",
      "metadata": {
        "id": "BWIyC9Ip_bcq"
      },
      "source": [
        "import numpy as np\n",
        "import pandas as pd\n",
        "\n",
        "import torch\n",
        "import torchvision\n",
        "from torch.utils.data import Dataset, DataLoader\n",
        "from torchvision import transforms, utils\n",
        "import torch.nn as nn\n",
        "import torch.nn.functional as F\n",
        "import torch.optim as optim\n",
        "\n",
        "from matplotlib import pyplot as plt\n",
        "%matplotlib inline"
      ],
      "execution_count": 1,
      "outputs": []
    },
    {
      "cell_type": "code",
      "metadata": {
        "id": "F2Pc5f49BVY1"
      },
      "source": [
        "class MosaicDataset1(Dataset):\n",
        "  \"\"\"MosaicDataset dataset.\"\"\"\n",
        "\n",
        "  def __init__(self, mosaic_list, mosaic_label,fore_idx):\n",
        "    \"\"\"\n",
        "      Args:\n",
        "        csv_file (string): Path to the csv file with annotations.\n",
        "        root_dir (string): Directory with all the images.\n",
        "        transform (callable, optional): Optional transform to be applied\n",
        "            on a sample.\n",
        "    \"\"\"\n",
        "    self.mosaic = mosaic_list\n",
        "    self.label = mosaic_label\n",
        "    self.fore_idx = fore_idx\n",
        "    #self.alpha = torch.ones((3000,9),requires_grad=True)/9\n",
        "    \n",
        "  def __len__(self):\n",
        "    return len(self.label)\n",
        "\n",
        "  def __getitem__(self, idx):\n",
        "    return self.mosaic[idx] , self.label[idx] , self.fore_idx[idx]#,self.alpha[idx]"
      ],
      "execution_count": 2,
      "outputs": []
    },
    {
      "cell_type": "code",
      "metadata": {
        "id": "G9Z4KIS4tGuN"
      },
      "source": [
        "ag = []\n",
        "for i in range(12):\n",
        "  alphag = torch.ones((250,9))/9\n",
        "  ag.append( alphag.requires_grad_() )"
      ],
      "execution_count": 3,
      "outputs": []
    },
    {
      "cell_type": "code",
      "metadata": {
        "id": "AbFgCStsCUO0"
      },
      "source": [
        "train_data = np.load(\"train_blob_data.npy\",allow_pickle=True)"
      ],
      "execution_count": 4,
      "outputs": []
    },
    {
      "cell_type": "code",
      "metadata": {
        "id": "_W_TAUluCUBs"
      },
      "source": [
        "train_mosaic_list_of_images = train_data[0][\"mosaic_list\"]\n",
        "train_mosaic_label = train_data[0][\"mosaic_label\"]\n",
        "train_fore_idx = train_data[0][\"fore_idx\"]\n",
        "\n",
        "\n",
        "\n",
        "batch = 250\n",
        "tr_msd = MosaicDataset1(train_mosaic_list_of_images, train_mosaic_label, train_fore_idx)\n",
        "train_loader = DataLoader( tr_msd,batch_size= batch ,shuffle=False,num_workers=0)"
      ],
      "execution_count": 5,
      "outputs": []
    },
    {
      "cell_type": "markdown",
      "metadata": {
        "id": "StAB8TbVCeGN"
      },
      "source": [
        "# Model"
      ]
    },
    {
      "cell_type": "code",
      "metadata": {
        "id": "HbrMidFCla6h"
      },
      "source": [
        "class Module2(nn.Module):\n",
        "  def __init__(self):\n",
        "    super(Module2, self).__init__()\n",
        "  \n",
        "\n",
        "    self.fc1 = nn.Linear(5, 100)\n",
        "    self.fc2 = nn.Linear(100,3)\n",
        "\n",
        "  def forward(self,y):  #z batch of list of 9 images\n",
        "\n",
        "    y = F.relu(self.fc1(y))\n",
        "    y = self.fc2(y)\n",
        "    return y"
      ],
      "execution_count": 6,
      "outputs": []
    },
    {
      "cell_type": "code",
      "metadata": {
        "id": "rRqj2VELllkX"
      },
      "source": [
        "torch.manual_seed(1234)\n",
        "what_net = Module2().double()\n",
        "what_net = what_net.to(\"cuda\")"
      ],
      "execution_count": 7,
      "outputs": []
    },
    {
      "cell_type": "code",
      "metadata": {
        "id": "6d8Wch99l4yB"
      },
      "source": [
        "def attn_avg(x,alpha):\n",
        "  y = torch.zeros([batch,5], dtype=torch.float64)\n",
        "  y = y.to(\"cuda\")\n",
        "  alpha = F.softmax(alpha,dim=1)   # alphas\n",
        "  for i in range(9):            \n",
        "    alpha1 = alpha[:,i]          \n",
        "    y = y + torch.mul(alpha1[:,None],x[:,i])\n",
        "    return y \n"
      ],
      "execution_count": 8,
      "outputs": []
    },
    {
      "cell_type": "code",
      "metadata": {
        "id": "Rz1Kpw12loV6"
      },
      "source": [
        "def calculate_attn_loss(dataloader,what,criter):\n",
        "  what.eval()\n",
        "  r_loss = 0\n",
        "  alphas = []\n",
        "  lbls = []\n",
        "  pred = []\n",
        "  fidices = []\n",
        "  correct = 0\n",
        "  tot = 0\n",
        "  with torch.no_grad():\n",
        "    for i, data in enumerate(dataloader, 0):\n",
        "      inputs, labels,fidx = data\n",
        "      lbls.append(labels)\n",
        "      fidices.append(fidx)\n",
        "      inputs = inputs.double()\n",
        "      alpha = ag[i]  # alpha for ith batch\n",
        "      alpha = alpha.to(\"cuda\")\n",
        "      inputs, labels = inputs.to(\"cuda\"),labels.to(\"cuda\")\n",
        "      avg = attn_avg(inputs,alpha)\n",
        "      outputs = what(avg)\n",
        "      _, predicted = torch.max(outputs.data, 1)\n",
        "      correct += sum(predicted == labels)\n",
        "      tot += len(predicted)\n",
        "      pred.append(predicted.cpu().numpy())\n",
        "      alphas.append(alpha.cpu().numpy())\n",
        "      loss = criter(outputs, labels)\n",
        "      r_loss += loss.item()\n",
        "  alphas = np.concatenate(alphas,axis=0)\n",
        "  pred = np.concatenate(pred,axis=0)\n",
        "  lbls = np.concatenate(lbls,axis=0)\n",
        "  fidices = np.concatenate(fidices,axis=0)\n",
        "  #print(alphas.shape,pred.shape,lbls.shape,fidices.shape) \n",
        "  analysis = analyse_data(alphas,lbls,pred,fidices)\n",
        "  return r_loss/i,analysis,correct.item(),tot,correct.item()/tot"
      ],
      "execution_count": 9,
      "outputs": []
    },
    {
      "cell_type": "code",
      "metadata": {
        "id": "_toCktPanH0S"
      },
      "source": [
        "\n",
        "def analyse_data(alphas,lbls,predicted,f_idx):\n",
        "    '''\n",
        "       analysis data is created here\n",
        "    '''\n",
        "    batch = len(predicted)\n",
        "    amth,alth,ftpt,ffpt,ftpf,ffpf = 0,0,0,0,0,0\n",
        "    for j in range (batch):\n",
        "      focus = np.argmax(alphas[j])\n",
        "      if(alphas[j][focus] >= 0.5):\n",
        "        amth +=1\n",
        "      else:\n",
        "        alth +=1\n",
        "      if(focus == f_idx[j] and predicted[j] == lbls[j]):\n",
        "        ftpt += 1\n",
        "      elif(focus != f_idx[j] and predicted[j] == lbls[j]):\n",
        "        ffpt +=1\n",
        "      elif(focus == f_idx[j] and predicted[j] != lbls[j]):\n",
        "        ftpf +=1\n",
        "      elif(focus != f_idx[j] and predicted[j] != lbls[j]):\n",
        "        ffpf +=1\n",
        "    #print(sum(predicted==lbls),ftpt+ffpt)\n",
        "    return [ftpt,ffpt,ftpf,ffpf,amth,alth]"
      ],
      "execution_count": 10,
      "outputs": []
    },
    {
      "cell_type": "code",
      "metadata": {
        "id": "S633XgMToeN3"
      },
      "source": [
        "def update_function(param, grad, loss, learning_rate):\n",
        "  # print(\"param\", param)\n",
        "  # print(\"lr\",learning_rate)\n",
        "  # print(\"grad\",grad)\n",
        "  return param - learning_rate * grad"
      ],
      "execution_count": 11,
      "outputs": []
    },
    {
      "cell_type": "code",
      "metadata": {
        "id": "h5w2tAySYmLO"
      },
      "source": [
        "optim1 = []\n",
        "for i in range(12):\n",
        "  optim1.append(optim.RMSprop([ag[i]], lr=0.001))\n"
      ],
      "execution_count": 12,
      "outputs": []
    },
    {
      "cell_type": "code",
      "metadata": {
        "colab": {
          "base_uri": "https://localhost:8080/"
        },
        "id": "FU8gD2PYcyX4",
        "outputId": "d8f343ac-3bed-418e-886b-5ab0760ce099"
      },
      "source": [
        "optim1[0]"
      ],
      "execution_count": 13,
      "outputs": [
        {
          "output_type": "execute_result",
          "data": {
            "text/plain": [
              "RMSprop (\n",
              "Parameter Group 0\n",
              "    alpha: 0.99\n",
              "    centered: False\n",
              "    eps: 1e-08\n",
              "    lr: 0.001\n",
              "    momentum: 0\n",
              "    weight_decay: 0\n",
              ")"
            ]
          },
          "metadata": {
            "tags": []
          },
          "execution_count": 13
        }
      ]
    },
    {
      "cell_type": "code",
      "metadata": {
        "colab": {
          "base_uri": "https://localhost:8080/"
        },
        "id": "qPaYaojinMTA",
        "outputId": "22c97aa6-3d85-48b0-fedf-8f55034e6f3e"
      },
      "source": [
        "# instantiate optimizer\n",
        "optimizer_what = optim.RMSprop(what_net.parameters(), lr=0.001)#,nesterov=True)\n",
        "\n",
        " \n",
        "\n",
        "\n",
        "criterion = nn.CrossEntropyLoss()\n",
        "acti = []\n",
        "analysis_data_tr = []\n",
        "analysis_data_tst = []\n",
        "loss_curi_tr = []\n",
        "loss_curi_tst = []\n",
        "epochs = 500\n",
        "# lr = torch.tensor([0.001],device=\"cuda\")\n",
        "\n",
        "\n",
        "# calculate zeroth epoch loss and FTPT values\n",
        "running_loss,anlys_data,correct,total,accuracy = calculate_attn_loss(train_loader,what_net,criterion)\n",
        "print('training epoch: [%d ] loss: %.3f correct: %.3f, total: %.3f, accuracy: %.3f' %(0,running_loss,correct,total,accuracy)) \n",
        "loss_curi_tr.append(running_loss)\n",
        "analysis_data_tr.append(anlys_data)\n",
        "\n",
        "\n",
        "\n",
        "\n",
        "# training starts \n",
        "for epoch in range(epochs): # loop over the dataset multiple times\n",
        "  ep_lossi = []\n",
        "  running_loss = 0.0\n",
        "  what_net.train()\n",
        "  for i, data in enumerate(train_loader, 0):\n",
        "    # get the inputs\n",
        "    grads = [] \n",
        "    inputs, labels,_ = data\n",
        "    inputs = inputs.double()\n",
        "    alpha = ag[i] # alpha for ith batch\n",
        "    inputs, labels,alpha = inputs.to(\"cuda\"),labels.to(\"cuda\"),alpha.to(\"cuda\")\n",
        "\n",
        "        \n",
        "    # zero the parameter gradients\n",
        "    optimizer_what.zero_grad()\n",
        "    optim1[i].zero_grad()\n",
        "    #what_net.zero_grad()\n",
        "      \n",
        "    # forward + backward + optimize\n",
        "    avg = attn_avg(inputs,alpha)\n",
        "    outputs = what_net(avg)\n",
        "    loss = criterion(outputs, labels)\n",
        "\n",
        "    # print statistics\n",
        "    running_loss += loss.item()\n",
        "    # alpha.retain_grad()\n",
        "    loss.backward(retain_graph=False)\n",
        "    optimizer_what.step()\n",
        "    optim1[i].step()\n",
        "    #print(alpha.grad)\n",
        "    # with torch.no_grad():\n",
        "    #   alpha.sub_(lr * alpha.grad)\n",
        "    #   alpha.grad.zero_()\n",
        "    # alpha_g[i*250:(i+1)*250] = alpha\n",
        "    \n",
        "\n",
        "\n",
        "  running_loss_tr,anls_data,correct,total,accuracy = calculate_attn_loss(train_loader,what_net,criterion)\n",
        "  analysis_data_tr.append(anls_data)\n",
        "  loss_curi_tr.append(running_loss_tr)   #loss per epoch\n",
        "  print('training epoch: [%d ] loss: %.3f correct: %.3f, total: %.3f, accuracy: %.3f' %(epoch+1,running_loss_tr,correct,total,accuracy)) \n",
        "\n",
        "\n",
        "  \n",
        "  if running_loss_tr<=0.05:\n",
        "    break\n",
        "print('Finished Training run ')\n",
        "analysis_data_tr = np.array(analysis_data_tr)\n",
        "\n"
      ],
      "execution_count": 14,
      "outputs": [
        {
          "output_type": "stream",
          "text": [
            "training epoch: [0 ] loss: 1.257 correct: 927.000, total: 3000.000, accuracy: 0.309\n",
            "training epoch: [1 ] loss: 1.197 correct: 1070.000, total: 3000.000, accuracy: 0.357\n",
            "training epoch: [2 ] loss: 1.194 correct: 1098.000, total: 3000.000, accuracy: 0.366\n",
            "training epoch: [3 ] loss: 1.193 correct: 1125.000, total: 3000.000, accuracy: 0.375\n",
            "training epoch: [4 ] loss: 1.191 correct: 1161.000, total: 3000.000, accuracy: 0.387\n",
            "training epoch: [5 ] loss: 1.189 correct: 1170.000, total: 3000.000, accuracy: 0.390\n",
            "training epoch: [6 ] loss: 1.187 correct: 1192.000, total: 3000.000, accuracy: 0.397\n",
            "training epoch: [7 ] loss: 1.185 correct: 1209.000, total: 3000.000, accuracy: 0.403\n",
            "training epoch: [8 ] loss: 1.182 correct: 1226.000, total: 3000.000, accuracy: 0.409\n",
            "training epoch: [9 ] loss: 1.179 correct: 1229.000, total: 3000.000, accuracy: 0.410\n",
            "training epoch: [10 ] loss: 1.176 correct: 1245.000, total: 3000.000, accuracy: 0.415\n",
            "training epoch: [11 ] loss: 1.172 correct: 1259.000, total: 3000.000, accuracy: 0.420\n",
            "training epoch: [12 ] loss: 1.168 correct: 1277.000, total: 3000.000, accuracy: 0.426\n",
            "training epoch: [13 ] loss: 1.163 correct: 1298.000, total: 3000.000, accuracy: 0.433\n",
            "training epoch: [14 ] loss: 1.157 correct: 1330.000, total: 3000.000, accuracy: 0.443\n",
            "training epoch: [15 ] loss: 1.150 correct: 1364.000, total: 3000.000, accuracy: 0.455\n",
            "training epoch: [16 ] loss: 1.143 correct: 1371.000, total: 3000.000, accuracy: 0.457\n",
            "training epoch: [17 ] loss: 1.135 correct: 1386.000, total: 3000.000, accuracy: 0.462\n",
            "training epoch: [18 ] loss: 1.126 correct: 1404.000, total: 3000.000, accuracy: 0.468\n",
            "training epoch: [19 ] loss: 1.117 correct: 1430.000, total: 3000.000, accuracy: 0.477\n",
            "training epoch: [20 ] loss: 1.106 correct: 1468.000, total: 3000.000, accuracy: 0.489\n",
            "training epoch: [21 ] loss: 1.095 correct: 1503.000, total: 3000.000, accuracy: 0.501\n",
            "training epoch: [22 ] loss: 1.084 correct: 1534.000, total: 3000.000, accuracy: 0.511\n",
            "training epoch: [23 ] loss: 1.071 correct: 1579.000, total: 3000.000, accuracy: 0.526\n",
            "training epoch: [24 ] loss: 1.059 correct: 1611.000, total: 3000.000, accuracy: 0.537\n",
            "training epoch: [25 ] loss: 1.046 correct: 1645.000, total: 3000.000, accuracy: 0.548\n",
            "training epoch: [26 ] loss: 1.033 correct: 1668.000, total: 3000.000, accuracy: 0.556\n",
            "training epoch: [27 ] loss: 1.019 correct: 1681.000, total: 3000.000, accuracy: 0.560\n",
            "training epoch: [28 ] loss: 1.005 correct: 1701.000, total: 3000.000, accuracy: 0.567\n",
            "training epoch: [29 ] loss: 0.991 correct: 1715.000, total: 3000.000, accuracy: 0.572\n",
            "training epoch: [30 ] loss: 0.976 correct: 1736.000, total: 3000.000, accuracy: 0.579\n",
            "training epoch: [31 ] loss: 0.962 correct: 1761.000, total: 3000.000, accuracy: 0.587\n",
            "training epoch: [32 ] loss: 0.948 correct: 1789.000, total: 3000.000, accuracy: 0.596\n",
            "training epoch: [33 ] loss: 0.933 correct: 1819.000, total: 3000.000, accuracy: 0.606\n",
            "training epoch: [34 ] loss: 0.919 correct: 1873.000, total: 3000.000, accuracy: 0.624\n",
            "training epoch: [35 ] loss: 0.904 correct: 1914.000, total: 3000.000, accuracy: 0.638\n",
            "training epoch: [36 ] loss: 0.890 correct: 1955.000, total: 3000.000, accuracy: 0.652\n",
            "training epoch: [37 ] loss: 0.876 correct: 1985.000, total: 3000.000, accuracy: 0.662\n",
            "training epoch: [38 ] loss: 0.862 correct: 2042.000, total: 3000.000, accuracy: 0.681\n",
            "training epoch: [39 ] loss: 0.848 correct: 2085.000, total: 3000.000, accuracy: 0.695\n",
            "training epoch: [40 ] loss: 0.834 correct: 2116.000, total: 3000.000, accuracy: 0.705\n",
            "training epoch: [41 ] loss: 0.821 correct: 2150.000, total: 3000.000, accuracy: 0.717\n",
            "training epoch: [42 ] loss: 0.807 correct: 2166.000, total: 3000.000, accuracy: 0.722\n",
            "training epoch: [43 ] loss: 0.794 correct: 2180.000, total: 3000.000, accuracy: 0.727\n",
            "training epoch: [44 ] loss: 0.781 correct: 2217.000, total: 3000.000, accuracy: 0.739\n",
            "training epoch: [45 ] loss: 0.768 correct: 2250.000, total: 3000.000, accuracy: 0.750\n",
            "training epoch: [46 ] loss: 0.756 correct: 2278.000, total: 3000.000, accuracy: 0.759\n",
            "training epoch: [47 ] loss: 0.743 correct: 2317.000, total: 3000.000, accuracy: 0.772\n",
            "training epoch: [48 ] loss: 0.731 correct: 2355.000, total: 3000.000, accuracy: 0.785\n",
            "training epoch: [49 ] loss: 0.719 correct: 2385.000, total: 3000.000, accuracy: 0.795\n",
            "training epoch: [50 ] loss: 0.707 correct: 2408.000, total: 3000.000, accuracy: 0.803\n",
            "training epoch: [51 ] loss: 0.696 correct: 2443.000, total: 3000.000, accuracy: 0.814\n",
            "training epoch: [52 ] loss: 0.684 correct: 2467.000, total: 3000.000, accuracy: 0.822\n",
            "training epoch: [53 ] loss: 0.673 correct: 2486.000, total: 3000.000, accuracy: 0.829\n",
            "training epoch: [54 ] loss: 0.662 correct: 2506.000, total: 3000.000, accuracy: 0.835\n",
            "training epoch: [55 ] loss: 0.651 correct: 2521.000, total: 3000.000, accuracy: 0.840\n",
            "training epoch: [56 ] loss: 0.640 correct: 2544.000, total: 3000.000, accuracy: 0.848\n",
            "training epoch: [57 ] loss: 0.629 correct: 2553.000, total: 3000.000, accuracy: 0.851\n",
            "training epoch: [58 ] loss: 0.618 correct: 2576.000, total: 3000.000, accuracy: 0.859\n",
            "training epoch: [59 ] loss: 0.608 correct: 2602.000, total: 3000.000, accuracy: 0.867\n",
            "training epoch: [60 ] loss: 0.598 correct: 2618.000, total: 3000.000, accuracy: 0.873\n",
            "training epoch: [61 ] loss: 0.587 correct: 2636.000, total: 3000.000, accuracy: 0.879\n",
            "training epoch: [62 ] loss: 0.577 correct: 2651.000, total: 3000.000, accuracy: 0.884\n",
            "training epoch: [63 ] loss: 0.567 correct: 2662.000, total: 3000.000, accuracy: 0.887\n",
            "training epoch: [64 ] loss: 0.557 correct: 2676.000, total: 3000.000, accuracy: 0.892\n",
            "training epoch: [65 ] loss: 0.547 correct: 2684.000, total: 3000.000, accuracy: 0.895\n",
            "training epoch: [66 ] loss: 0.537 correct: 2694.000, total: 3000.000, accuracy: 0.898\n",
            "training epoch: [67 ] loss: 0.528 correct: 2699.000, total: 3000.000, accuracy: 0.900\n",
            "training epoch: [68 ] loss: 0.518 correct: 2701.000, total: 3000.000, accuracy: 0.900\n",
            "training epoch: [69 ] loss: 0.509 correct: 2705.000, total: 3000.000, accuracy: 0.902\n",
            "training epoch: [70 ] loss: 0.499 correct: 2714.000, total: 3000.000, accuracy: 0.905\n",
            "training epoch: [71 ] loss: 0.490 correct: 2719.000, total: 3000.000, accuracy: 0.906\n",
            "training epoch: [72 ] loss: 0.481 correct: 2725.000, total: 3000.000, accuracy: 0.908\n",
            "training epoch: [73 ] loss: 0.472 correct: 2736.000, total: 3000.000, accuracy: 0.912\n",
            "training epoch: [74 ] loss: 0.463 correct: 2740.000, total: 3000.000, accuracy: 0.913\n",
            "training epoch: [75 ] loss: 0.454 correct: 2744.000, total: 3000.000, accuracy: 0.915\n",
            "training epoch: [76 ] loss: 0.445 correct: 2746.000, total: 3000.000, accuracy: 0.915\n",
            "training epoch: [77 ] loss: 0.436 correct: 2749.000, total: 3000.000, accuracy: 0.916\n",
            "training epoch: [78 ] loss: 0.427 correct: 2753.000, total: 3000.000, accuracy: 0.918\n",
            "training epoch: [79 ] loss: 0.419 correct: 2757.000, total: 3000.000, accuracy: 0.919\n",
            "training epoch: [80 ] loss: 0.410 correct: 2759.000, total: 3000.000, accuracy: 0.920\n",
            "training epoch: [81 ] loss: 0.402 correct: 2767.000, total: 3000.000, accuracy: 0.922\n",
            "training epoch: [82 ] loss: 0.394 correct: 2766.000, total: 3000.000, accuracy: 0.922\n",
            "training epoch: [83 ] loss: 0.386 correct: 2768.000, total: 3000.000, accuracy: 0.923\n",
            "training epoch: [84 ] loss: 0.377 correct: 2771.000, total: 3000.000, accuracy: 0.924\n",
            "training epoch: [85 ] loss: 0.369 correct: 2775.000, total: 3000.000, accuracy: 0.925\n",
            "training epoch: [86 ] loss: 0.359 correct: 2779.000, total: 3000.000, accuracy: 0.926\n",
            "training epoch: [87 ] loss: 0.350 correct: 2783.000, total: 3000.000, accuracy: 0.928\n",
            "training epoch: [88 ] loss: 0.342 correct: 2791.000, total: 3000.000, accuracy: 0.930\n",
            "training epoch: [89 ] loss: 0.333 correct: 2799.000, total: 3000.000, accuracy: 0.933\n",
            "training epoch: [90 ] loss: 0.325 correct: 2806.000, total: 3000.000, accuracy: 0.935\n",
            "training epoch: [91 ] loss: 0.317 correct: 2815.000, total: 3000.000, accuracy: 0.938\n",
            "training epoch: [92 ] loss: 0.309 correct: 2826.000, total: 3000.000, accuracy: 0.942\n",
            "training epoch: [93 ] loss: 0.301 correct: 2830.000, total: 3000.000, accuracy: 0.943\n",
            "training epoch: [94 ] loss: 0.294 correct: 2836.000, total: 3000.000, accuracy: 0.945\n",
            "training epoch: [95 ] loss: 0.286 correct: 2845.000, total: 3000.000, accuracy: 0.948\n",
            "training epoch: [96 ] loss: 0.279 correct: 2850.000, total: 3000.000, accuracy: 0.950\n",
            "training epoch: [97 ] loss: 0.272 correct: 2852.000, total: 3000.000, accuracy: 0.951\n",
            "training epoch: [98 ] loss: 0.264 correct: 2859.000, total: 3000.000, accuracy: 0.953\n",
            "training epoch: [99 ] loss: 0.258 correct: 2864.000, total: 3000.000, accuracy: 0.955\n",
            "training epoch: [100 ] loss: 0.251 correct: 2868.000, total: 3000.000, accuracy: 0.956\n",
            "training epoch: [101 ] loss: 0.244 correct: 2875.000, total: 3000.000, accuracy: 0.958\n",
            "training epoch: [102 ] loss: 0.238 correct: 2878.000, total: 3000.000, accuracy: 0.959\n",
            "training epoch: [103 ] loss: 0.231 correct: 2888.000, total: 3000.000, accuracy: 0.963\n",
            "training epoch: [104 ] loss: 0.225 correct: 2892.000, total: 3000.000, accuracy: 0.964\n",
            "training epoch: [105 ] loss: 0.219 correct: 2897.000, total: 3000.000, accuracy: 0.966\n",
            "training epoch: [106 ] loss: 0.213 correct: 2905.000, total: 3000.000, accuracy: 0.968\n",
            "training epoch: [107 ] loss: 0.207 correct: 2910.000, total: 3000.000, accuracy: 0.970\n",
            "training epoch: [108 ] loss: 0.201 correct: 2914.000, total: 3000.000, accuracy: 0.971\n",
            "training epoch: [109 ] loss: 0.196 correct: 2919.000, total: 3000.000, accuracy: 0.973\n",
            "training epoch: [110 ] loss: 0.190 correct: 2921.000, total: 3000.000, accuracy: 0.974\n",
            "training epoch: [111 ] loss: 0.185 correct: 2927.000, total: 3000.000, accuracy: 0.976\n",
            "training epoch: [112 ] loss: 0.179 correct: 2931.000, total: 3000.000, accuracy: 0.977\n",
            "training epoch: [113 ] loss: 0.174 correct: 2935.000, total: 3000.000, accuracy: 0.978\n",
            "training epoch: [114 ] loss: 0.169 correct: 2942.000, total: 3000.000, accuracy: 0.981\n",
            "training epoch: [115 ] loss: 0.164 correct: 2948.000, total: 3000.000, accuracy: 0.983\n",
            "training epoch: [116 ] loss: 0.159 correct: 2951.000, total: 3000.000, accuracy: 0.984\n",
            "training epoch: [117 ] loss: 0.154 correct: 2962.000, total: 3000.000, accuracy: 0.987\n",
            "training epoch: [118 ] loss: 0.150 correct: 2970.000, total: 3000.000, accuracy: 0.990\n",
            "training epoch: [119 ] loss: 0.145 correct: 2975.000, total: 3000.000, accuracy: 0.992\n",
            "training epoch: [120 ] loss: 0.141 correct: 2977.000, total: 3000.000, accuracy: 0.992\n",
            "training epoch: [121 ] loss: 0.137 correct: 2979.000, total: 3000.000, accuracy: 0.993\n",
            "training epoch: [122 ] loss: 0.133 correct: 2982.000, total: 3000.000, accuracy: 0.994\n",
            "training epoch: [123 ] loss: 0.129 correct: 2984.000, total: 3000.000, accuracy: 0.995\n",
            "training epoch: [124 ] loss: 0.125 correct: 2985.000, total: 3000.000, accuracy: 0.995\n",
            "training epoch: [125 ] loss: 0.121 correct: 2986.000, total: 3000.000, accuracy: 0.995\n",
            "training epoch: [126 ] loss: 0.117 correct: 2989.000, total: 3000.000, accuracy: 0.996\n",
            "training epoch: [127 ] loss: 0.113 correct: 2992.000, total: 3000.000, accuracy: 0.997\n",
            "training epoch: [128 ] loss: 0.110 correct: 2993.000, total: 3000.000, accuracy: 0.998\n",
            "training epoch: [129 ] loss: 0.106 correct: 2995.000, total: 3000.000, accuracy: 0.998\n",
            "training epoch: [130 ] loss: 0.103 correct: 2995.000, total: 3000.000, accuracy: 0.998\n",
            "training epoch: [131 ] loss: 0.100 correct: 2995.000, total: 3000.000, accuracy: 0.998\n",
            "training epoch: [132 ] loss: 0.097 correct: 2995.000, total: 3000.000, accuracy: 0.998\n",
            "training epoch: [133 ] loss: 0.094 correct: 2996.000, total: 3000.000, accuracy: 0.999\n",
            "training epoch: [134 ] loss: 0.091 correct: 2996.000, total: 3000.000, accuracy: 0.999\n",
            "training epoch: [135 ] loss: 0.088 correct: 2997.000, total: 3000.000, accuracy: 0.999\n",
            "training epoch: [136 ] loss: 0.085 correct: 2998.000, total: 3000.000, accuracy: 0.999\n",
            "training epoch: [137 ] loss: 0.082 correct: 2999.000, total: 3000.000, accuracy: 1.000\n",
            "training epoch: [138 ] loss: 0.080 correct: 2999.000, total: 3000.000, accuracy: 1.000\n",
            "training epoch: [139 ] loss: 0.077 correct: 2999.000, total: 3000.000, accuracy: 1.000\n",
            "training epoch: [140 ] loss: 0.075 correct: 3000.000, total: 3000.000, accuracy: 1.000\n",
            "training epoch: [141 ] loss: 0.072 correct: 3000.000, total: 3000.000, accuracy: 1.000\n",
            "training epoch: [142 ] loss: 0.070 correct: 3000.000, total: 3000.000, accuracy: 1.000\n",
            "training epoch: [143 ] loss: 0.067 correct: 3000.000, total: 3000.000, accuracy: 1.000\n",
            "training epoch: [144 ] loss: 0.065 correct: 3000.000, total: 3000.000, accuracy: 1.000\n",
            "training epoch: [145 ] loss: 0.063 correct: 3000.000, total: 3000.000, accuracy: 1.000\n",
            "training epoch: [146 ] loss: 0.061 correct: 3000.000, total: 3000.000, accuracy: 1.000\n",
            "training epoch: [147 ] loss: 0.059 correct: 3000.000, total: 3000.000, accuracy: 1.000\n",
            "training epoch: [148 ] loss: 0.057 correct: 3000.000, total: 3000.000, accuracy: 1.000\n",
            "training epoch: [149 ] loss: 0.055 correct: 3000.000, total: 3000.000, accuracy: 1.000\n",
            "training epoch: [150 ] loss: 0.053 correct: 3000.000, total: 3000.000, accuracy: 1.000\n",
            "training epoch: [151 ] loss: 0.051 correct: 3000.000, total: 3000.000, accuracy: 1.000\n",
            "training epoch: [152 ] loss: 0.049 correct: 3000.000, total: 3000.000, accuracy: 1.000\n",
            "Finished Training run \n"
          ],
          "name": "stdout"
        }
      ]
    },
    {
      "cell_type": "code",
      "metadata": {
        "id": "AciJnAh5nfug"
      },
      "source": [
        "columns = [\"epochs\", \"argmax > 0.5\" ,\"argmax < 0.5\", \"focus_true_pred_true\", \"focus_false_pred_true\", \"focus_true_pred_false\", \"focus_false_pred_false\" ]\n",
        "df_train = pd.DataFrame()\n",
        "df_test = pd.DataFrame()\n",
        "df_train[columns[0]] = np.arange(0,epoch+2)\n",
        "df_train[columns[1]] = analysis_data_tr[:,-2]\n",
        "df_train[columns[2]] = analysis_data_tr[:,-1]\n",
        "df_train[columns[3]] = analysis_data_tr[:,0]\n",
        "df_train[columns[4]] = analysis_data_tr[:,1]\n",
        "df_train[columns[5]] = analysis_data_tr[:,2]\n",
        "df_train[columns[6]] = analysis_data_tr[:,3]"
      ],
      "execution_count": 15,
      "outputs": []
    },
    {
      "cell_type": "code",
      "metadata": {
        "id": "NoQpS_6scRsC",
        "colab": {
          "base_uri": "https://localhost:8080/",
          "height": 436
        },
        "outputId": "f31152d6-c9c4-461d-ed6d-a05a4501e815"
      },
      "source": [
        "df_train"
      ],
      "execution_count": 16,
      "outputs": [
        {
          "output_type": "execute_result",
          "data": {
            "text/html": [
              "<div>\n",
              "<style scoped>\n",
              "    .dataframe tbody tr th:only-of-type {\n",
              "        vertical-align: middle;\n",
              "    }\n",
              "\n",
              "    .dataframe tbody tr th {\n",
              "        vertical-align: top;\n",
              "    }\n",
              "\n",
              "    .dataframe thead th {\n",
              "        text-align: right;\n",
              "    }\n",
              "</style>\n",
              "<table border=\"1\" class=\"dataframe\">\n",
              "  <thead>\n",
              "    <tr style=\"text-align: right;\">\n",
              "      <th></th>\n",
              "      <th>epochs</th>\n",
              "      <th>argmax &gt; 0.5</th>\n",
              "      <th>argmax &lt; 0.5</th>\n",
              "      <th>focus_true_pred_true</th>\n",
              "      <th>focus_false_pred_true</th>\n",
              "      <th>focus_true_pred_false</th>\n",
              "      <th>focus_false_pred_false</th>\n",
              "    </tr>\n",
              "  </thead>\n",
              "  <tbody>\n",
              "    <tr>\n",
              "      <th>0</th>\n",
              "      <td>0</td>\n",
              "      <td>0</td>\n",
              "      <td>3000</td>\n",
              "      <td>53</td>\n",
              "      <td>874</td>\n",
              "      <td>300</td>\n",
              "      <td>1773</td>\n",
              "    </tr>\n",
              "    <tr>\n",
              "      <th>1</th>\n",
              "      <td>1</td>\n",
              "      <td>0</td>\n",
              "      <td>3000</td>\n",
              "      <td>141</td>\n",
              "      <td>929</td>\n",
              "      <td>228</td>\n",
              "      <td>1702</td>\n",
              "    </tr>\n",
              "    <tr>\n",
              "      <th>2</th>\n",
              "      <td>2</td>\n",
              "      <td>0</td>\n",
              "      <td>3000</td>\n",
              "      <td>147</td>\n",
              "      <td>951</td>\n",
              "      <td>222</td>\n",
              "      <td>1680</td>\n",
              "    </tr>\n",
              "    <tr>\n",
              "      <th>3</th>\n",
              "      <td>3</td>\n",
              "      <td>0</td>\n",
              "      <td>3000</td>\n",
              "      <td>165</td>\n",
              "      <td>960</td>\n",
              "      <td>237</td>\n",
              "      <td>1638</td>\n",
              "    </tr>\n",
              "    <tr>\n",
              "      <th>4</th>\n",
              "      <td>4</td>\n",
              "      <td>0</td>\n",
              "      <td>3000</td>\n",
              "      <td>169</td>\n",
              "      <td>992</td>\n",
              "      <td>239</td>\n",
              "      <td>1600</td>\n",
              "    </tr>\n",
              "    <tr>\n",
              "      <th>...</th>\n",
              "      <td>...</td>\n",
              "      <td>...</td>\n",
              "      <td>...</td>\n",
              "      <td>...</td>\n",
              "      <td>...</td>\n",
              "      <td>...</td>\n",
              "      <td>...</td>\n",
              "    </tr>\n",
              "    <tr>\n",
              "      <th>148</th>\n",
              "      <td>148</td>\n",
              "      <td>20</td>\n",
              "      <td>2980</td>\n",
              "      <td>435</td>\n",
              "      <td>2565</td>\n",
              "      <td>0</td>\n",
              "      <td>0</td>\n",
              "    </tr>\n",
              "    <tr>\n",
              "      <th>149</th>\n",
              "      <td>149</td>\n",
              "      <td>20</td>\n",
              "      <td>2980</td>\n",
              "      <td>435</td>\n",
              "      <td>2565</td>\n",
              "      <td>0</td>\n",
              "      <td>0</td>\n",
              "    </tr>\n",
              "    <tr>\n",
              "      <th>150</th>\n",
              "      <td>150</td>\n",
              "      <td>21</td>\n",
              "      <td>2979</td>\n",
              "      <td>435</td>\n",
              "      <td>2565</td>\n",
              "      <td>0</td>\n",
              "      <td>0</td>\n",
              "    </tr>\n",
              "    <tr>\n",
              "      <th>151</th>\n",
              "      <td>151</td>\n",
              "      <td>21</td>\n",
              "      <td>2979</td>\n",
              "      <td>435</td>\n",
              "      <td>2565</td>\n",
              "      <td>0</td>\n",
              "      <td>0</td>\n",
              "    </tr>\n",
              "    <tr>\n",
              "      <th>152</th>\n",
              "      <td>152</td>\n",
              "      <td>21</td>\n",
              "      <td>2979</td>\n",
              "      <td>435</td>\n",
              "      <td>2565</td>\n",
              "      <td>0</td>\n",
              "      <td>0</td>\n",
              "    </tr>\n",
              "  </tbody>\n",
              "</table>\n",
              "<p>153 rows × 7 columns</p>\n",
              "</div>"
            ],
            "text/plain": [
              "     epochs  argmax > 0.5  ...  focus_true_pred_false  focus_false_pred_false\n",
              "0         0             0  ...                    300                    1773\n",
              "1         1             0  ...                    228                    1702\n",
              "2         2             0  ...                    222                    1680\n",
              "3         3             0  ...                    237                    1638\n",
              "4         4             0  ...                    239                    1600\n",
              "..      ...           ...  ...                    ...                     ...\n",
              "148     148            20  ...                      0                       0\n",
              "149     149            20  ...                      0                       0\n",
              "150     150            21  ...                      0                       0\n",
              "151     151            21  ...                      0                       0\n",
              "152     152            21  ...                      0                       0\n",
              "\n",
              "[153 rows x 7 columns]"
            ]
          },
          "metadata": {
            "tags": []
          },
          "execution_count": 16
        }
      ]
    },
    {
      "cell_type": "code",
      "metadata": {
        "id": "IMAhRdxOcVf6",
        "colab": {
          "base_uri": "https://localhost:8080/",
          "height": 513
        },
        "outputId": "a9fb0928-d262-4503-8e26-a5f29dcd0e07"
      },
      "source": [
        "fig= plt.figure(figsize=(8,8))\n",
        "plt.plot(df_train[columns[0]],df_train[columns[3]]/300, label =\"focus_true_pred_true \")\n",
        "plt.plot(df_train[columns[0]],df_train[columns[4]]/300, label =\"focus_false_pred_true \")\n",
        "plt.plot(df_train[columns[0]],df_train[columns[5]]/300, label =\"focus_true_pred_false \")\n",
        "plt.plot(df_train[columns[0]],df_train[columns[6]]/300, label =\"focus_false_pred_false \")\n",
        "plt.title(\"On Train set\")\n",
        "plt.legend(loc='center left', bbox_to_anchor=(1, 0.5))\n",
        "plt.xlabel(\"epochs\")\n",
        "plt.ylabel(\"percentage of data\")\n",
        "#plt.vlines(vline_list,min(min(df_train[columns[3]]/300),min(df_train[columns[4]]/300),min(df_train[columns[5]]/300),min(df_train[columns[6]]/300)), max(max(df_train[columns[3]]/300),max(df_train[columns[4]]/300),max(df_train[columns[5]]/300),max(df_train[columns[6]]/300)),linestyles='dotted')\n",
        "plt.show()\n",
        "fig.savefig(\"train_analysis_every_20.pdf\")\n",
        "fig.savefig(\"train_analysis_every_20.png\")"
      ],
      "execution_count": 17,
      "outputs": [
        {
          "output_type": "display_data",
          "data": {
            "image/png": "[encoded data removed]",
            "text/plain": [
              "<Figure size 576x576 with 1 Axes>"
            ]
          },
          "metadata": {
            "tags": [],
            "needs_background": "light"
          }
        }
      ]
    },
    {
      "cell_type": "code",
      "metadata": {
        "id": "Z6heHND15EMz"
      },
      "source": [
        "aph = []\n",
        "for i in ag:\n",
        "  aph.append(F.softmax(i,dim=1).detach().numpy())\n",
        "  \n",
        "aph = np.concatenate(aph,axis=0)\n",
        "torch.save({\n",
        "            'epoch': 500,\n",
        "            'model_state_dict': what_net.state_dict(),\n",
        "            'optimizer_state_dict': optimizer_what.state_dict(),\n",
        "            \"optimizer_alpha\":optim1,\n",
        "            \"FTPT_analysis\":analysis_data_tr,\n",
        "            \"alpha\":aph\n",
        "\n",
        "            }, \"blob_what_net_500.pt\")"
      ],
      "execution_count": 18,
      "outputs": []
    },
    {
      "cell_type": "code",
      "metadata": {
        "colab": {
          "base_uri": "https://localhost:8080/"
        },
        "id": "R2pcoO5rlAdT",
        "outputId": "aae1937c-d7f8-4b5e-ba6e-3bedff0bc905"
      },
      "source": [
        "aph"
      ],
      "execution_count": 19,
      "outputs": [
        {
          "output_type": "execute_result",
          "data": {
            "text/plain": [
              "array([[0.11050575, 0.11118677, 0.11118677, ..., 0.11118677, 0.11118677,\n",
              "        0.11118677],\n",
              "       [0.18922213, 0.10134725, 0.10134725, ..., 0.10134725, 0.10134725,\n",
              "        0.10134725],\n",
              "       [0.0793201 , 0.11508498, 0.11508498, ..., 0.11508498, 0.11508498,\n",
              "        0.11508498],\n",
              "       ...,\n",
              "       [0.10657441, 0.1116782 , 0.1116782 , ..., 0.1116782 , 0.1116782 ,\n",
              "        0.1116782 ],\n",
              "       [0.06429277, 0.11696341, 0.11696341, ..., 0.11696341, 0.11696341,\n",
              "        0.11696341],\n",
              "       [0.09952651, 0.11255919, 0.11255919, ..., 0.11255919, 0.11255919,\n",
              "        0.11255919]], dtype=float32)"
            ]
          },
          "metadata": {
            "tags": []
          },
          "execution_count": 19
        }
      ]
    },
    {
      "cell_type": "code",
      "metadata": {
        "id": "FCRyd-6XlaDl"
      },
      "source": [
        ""
      ],
      "execution_count": 19,
      "outputs": []
    }
  ]
}