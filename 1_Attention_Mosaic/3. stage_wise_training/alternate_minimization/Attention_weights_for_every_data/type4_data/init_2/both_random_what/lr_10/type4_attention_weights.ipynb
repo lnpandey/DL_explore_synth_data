{
  "nbformat": 4,
  "nbformat_minor": 0,
  "metadata": {
    "accelerator": "GPU",
    "colab": {
      "name": "type4_attention_weights.ipynb",
      "provenance": [],
      "collapsed_sections": []
    },
    "kernelspec": {
      "display_name": "Python 3",
      "name": "python3"
    },
    "language_info": {
      "name": "python"
    }
  },
  "cells": [
    {
      "cell_type": "code",
      "metadata": {
        "colab": {
          "base_uri": "https://localhost:8080/"
        },
        "id": "gMYVR3Ye8KM8",
        "outputId": "163aa098-d617-4b9e-9d93-f1dd6e64f740"
      },
      "source": [
        "from google.colab import drive\n",
        "drive.mount('/content/drive')"
      ],
      "execution_count": 1,
      "outputs": [
        {
          "output_type": "stream",
          "text": [
            "Drive already mounted at /content/drive; to attempt to forcibly remount, call drive.mount(\"/content/drive\", force_remount=True).\n"
          ],
          "name": "stdout"
        }
      ]
    },
    {
      "cell_type": "code",
      "metadata": {
        "colab": {
          "base_uri": "https://localhost:8080/"
        },
        "id": "9_jnQ2Bg80OQ",
        "outputId": "f8da65f9-10a3-4cb6-8723-2be2fc555937"
      },
      "source": [
        "%cd /content/drive/MyDrive/Neural_Tangent_Kernel/"
      ],
      "execution_count": 2,
      "outputs": [
        {
          "output_type": "stream",
          "text": [
            "/content/drive/MyDrive/Neural_Tangent_Kernel\n"
          ],
          "name": "stdout"
        }
      ]
    },
    {
      "cell_type": "code",
      "metadata": {
        "id": "BWIyC9Ip_bcq"
      },
      "source": [
        "import numpy as np\n",
        "import pandas as pd\n",
        "\n",
        "import torch\n",
        "import torchvision\n",
        "from torch.utils.data import Dataset, DataLoader\n",
        "from torchvision import transforms, utils\n",
        "import torch.nn as nn\n",
        "import torch.nn.functional as F\n",
        "import torch.optim as optim\n",
        "\n",
        "from matplotlib import pyplot as plt\n",
        "\n",
        "\n",
        "from myrmsprop import MyRmsprop\n",
        "from utils import plot_decision_boundary,attn_avg,plot_analysis\n",
        "from synthetic_dataset import MosaicDataset1\n",
        "from eval_model import calculate_attn_loss,analyse_data\n",
        "\n",
        "\n",
        "\n",
        "%matplotlib inline\n",
        "torch.backends.cudnn.deterministic = True\n",
        "torch.backends.cudnn.benchmark = False"
      ],
      "execution_count": 3,
      "outputs": []
    },
    {
      "cell_type": "code",
      "metadata": {
        "id": "lGVy-1EllAc_"
      },
      "source": [
        "train_data = np.load(\"train_type4_data.npy\",allow_pickle=True)\n",
        "\n",
        "test_data = np.load(\"test_type4_data.npy\",allow_pickle=True)"
      ],
      "execution_count": 4,
      "outputs": []
    },
    {
      "cell_type": "code",
      "metadata": {
        "id": "uL771xuGZC5Q"
      },
      "source": [
        "mosaic_list_of_images = train_data[0][\"mosaic_list\"]\n",
        "mosaic_label = train_data[0][\"mosaic_label\"]\n",
        "fore_idx = train_data[0][\"fore_idx\"]\n",
        "\n",
        "\n",
        "test_mosaic_list_of_images = test_data[0][\"mosaic_list\"]\n",
        "test_mosaic_label = test_data[0][\"mosaic_label\"]\n",
        "test_fore_idx = test_data[0][\"fore_idx\"]"
      ],
      "execution_count": 5,
      "outputs": []
    },
    {
      "cell_type": "code",
      "metadata": {
        "id": "uf76JwkxZCT0"
      },
      "source": [
        "batch = 250\n",
        "train_dataset = MosaicDataset1(mosaic_list_of_images, mosaic_label, fore_idx)\n",
        "train_loader = DataLoader( train_dataset,batch_size= batch ,shuffle=False)\n",
        "#batch = 2000\n",
        "#test_dataset = MosaicDataset1(test_mosaic_list_of_images, test_mosaic_label, test_fore_idx)\n",
        "#test_loader = DataLoader(test_dataset,batch_size= batch ,shuffle=False)"
      ],
      "execution_count": 6,
      "outputs": []
    },
    {
      "cell_type": "code",
      "metadata": {
        "id": "DOpZfj1bq7wN"
      },
      "source": [
        "n_batches = 3000//batch\n",
        "bg = []\n",
        "for i in range(n_batches):\n",
        "  torch.manual_seed(i)\n",
        "  betag = torch.ones((250,9))/9  #torch.randn(batch,9)\n",
        "  bg.append( betag.requires_grad_() )"
      ],
      "execution_count": 7,
      "outputs": []
    },
    {
      "cell_type": "code",
      "metadata": {
        "colab": {
          "base_uri": "https://localhost:8080/"
        },
        "id": "fzb3ii4drXpu",
        "outputId": "abd742cc-84e4-401d-d798-51aea6784c10"
      },
      "source": [
        " bg"
      ],
      "execution_count": 8,
      "outputs": [
        {
          "output_type": "execute_result",
          "data": {
            "text/plain": [
              "[tensor([[0.1111, 0.1111, 0.1111,  ..., 0.1111, 0.1111, 0.1111],\n",
              "         [0.1111, 0.1111, 0.1111,  ..., 0.1111, 0.1111, 0.1111],\n",
              "         [0.1111, 0.1111, 0.1111,  ..., 0.1111, 0.1111, 0.1111],\n",
              "         ...,\n",
              "         [0.1111, 0.1111, 0.1111,  ..., 0.1111, 0.1111, 0.1111],\n",
              "         [0.1111, 0.1111, 0.1111,  ..., 0.1111, 0.1111, 0.1111],\n",
              "         [0.1111, 0.1111, 0.1111,  ..., 0.1111, 0.1111, 0.1111]],\n",
              "        requires_grad=True),\n",
              " tensor([[0.1111, 0.1111, 0.1111,  ..., 0.1111, 0.1111, 0.1111],\n",
              "         [0.1111, 0.1111, 0.1111,  ..., 0.1111, 0.1111, 0.1111],\n",
              "         [0.1111, 0.1111, 0.1111,  ..., 0.1111, 0.1111, 0.1111],\n",
              "         ...,\n",
              "         [0.1111, 0.1111, 0.1111,  ..., 0.1111, 0.1111, 0.1111],\n",
              "         [0.1111, 0.1111, 0.1111,  ..., 0.1111, 0.1111, 0.1111],\n",
              "         [0.1111, 0.1111, 0.1111,  ..., 0.1111, 0.1111, 0.1111]],\n",
              "        requires_grad=True),\n",
              " tensor([[0.1111, 0.1111, 0.1111,  ..., 0.1111, 0.1111, 0.1111],\n",
              "         [0.1111, 0.1111, 0.1111,  ..., 0.1111, 0.1111, 0.1111],\n",
              "         [0.1111, 0.1111, 0.1111,  ..., 0.1111, 0.1111, 0.1111],\n",
              "         ...,\n",
              "         [0.1111, 0.1111, 0.1111,  ..., 0.1111, 0.1111, 0.1111],\n",
              "         [0.1111, 0.1111, 0.1111,  ..., 0.1111, 0.1111, 0.1111],\n",
              "         [0.1111, 0.1111, 0.1111,  ..., 0.1111, 0.1111, 0.1111]],\n",
              "        requires_grad=True),\n",
              " tensor([[0.1111, 0.1111, 0.1111,  ..., 0.1111, 0.1111, 0.1111],\n",
              "         [0.1111, 0.1111, 0.1111,  ..., 0.1111, 0.1111, 0.1111],\n",
              "         [0.1111, 0.1111, 0.1111,  ..., 0.1111, 0.1111, 0.1111],\n",
              "         ...,\n",
              "         [0.1111, 0.1111, 0.1111,  ..., 0.1111, 0.1111, 0.1111],\n",
              "         [0.1111, 0.1111, 0.1111,  ..., 0.1111, 0.1111, 0.1111],\n",
              "         [0.1111, 0.1111, 0.1111,  ..., 0.1111, 0.1111, 0.1111]],\n",
              "        requires_grad=True),\n",
              " tensor([[0.1111, 0.1111, 0.1111,  ..., 0.1111, 0.1111, 0.1111],\n",
              "         [0.1111, 0.1111, 0.1111,  ..., 0.1111, 0.1111, 0.1111],\n",
              "         [0.1111, 0.1111, 0.1111,  ..., 0.1111, 0.1111, 0.1111],\n",
              "         ...,\n",
              "         [0.1111, 0.1111, 0.1111,  ..., 0.1111, 0.1111, 0.1111],\n",
              "         [0.1111, 0.1111, 0.1111,  ..., 0.1111, 0.1111, 0.1111],\n",
              "         [0.1111, 0.1111, 0.1111,  ..., 0.1111, 0.1111, 0.1111]],\n",
              "        requires_grad=True),\n",
              " tensor([[0.1111, 0.1111, 0.1111,  ..., 0.1111, 0.1111, 0.1111],\n",
              "         [0.1111, 0.1111, 0.1111,  ..., 0.1111, 0.1111, 0.1111],\n",
              "         [0.1111, 0.1111, 0.1111,  ..., 0.1111, 0.1111, 0.1111],\n",
              "         ...,\n",
              "         [0.1111, 0.1111, 0.1111,  ..., 0.1111, 0.1111, 0.1111],\n",
              "         [0.1111, 0.1111, 0.1111,  ..., 0.1111, 0.1111, 0.1111],\n",
              "         [0.1111, 0.1111, 0.1111,  ..., 0.1111, 0.1111, 0.1111]],\n",
              "        requires_grad=True),\n",
              " tensor([[0.1111, 0.1111, 0.1111,  ..., 0.1111, 0.1111, 0.1111],\n",
              "         [0.1111, 0.1111, 0.1111,  ..., 0.1111, 0.1111, 0.1111],\n",
              "         [0.1111, 0.1111, 0.1111,  ..., 0.1111, 0.1111, 0.1111],\n",
              "         ...,\n",
              "         [0.1111, 0.1111, 0.1111,  ..., 0.1111, 0.1111, 0.1111],\n",
              "         [0.1111, 0.1111, 0.1111,  ..., 0.1111, 0.1111, 0.1111],\n",
              "         [0.1111, 0.1111, 0.1111,  ..., 0.1111, 0.1111, 0.1111]],\n",
              "        requires_grad=True),\n",
              " tensor([[0.1111, 0.1111, 0.1111,  ..., 0.1111, 0.1111, 0.1111],\n",
              "         [0.1111, 0.1111, 0.1111,  ..., 0.1111, 0.1111, 0.1111],\n",
              "         [0.1111, 0.1111, 0.1111,  ..., 0.1111, 0.1111, 0.1111],\n",
              "         ...,\n",
              "         [0.1111, 0.1111, 0.1111,  ..., 0.1111, 0.1111, 0.1111],\n",
              "         [0.1111, 0.1111, 0.1111,  ..., 0.1111, 0.1111, 0.1111],\n",
              "         [0.1111, 0.1111, 0.1111,  ..., 0.1111, 0.1111, 0.1111]],\n",
              "        requires_grad=True),\n",
              " tensor([[0.1111, 0.1111, 0.1111,  ..., 0.1111, 0.1111, 0.1111],\n",
              "         [0.1111, 0.1111, 0.1111,  ..., 0.1111, 0.1111, 0.1111],\n",
              "         [0.1111, 0.1111, 0.1111,  ..., 0.1111, 0.1111, 0.1111],\n",
              "         ...,\n",
              "         [0.1111, 0.1111, 0.1111,  ..., 0.1111, 0.1111, 0.1111],\n",
              "         [0.1111, 0.1111, 0.1111,  ..., 0.1111, 0.1111, 0.1111],\n",
              "         [0.1111, 0.1111, 0.1111,  ..., 0.1111, 0.1111, 0.1111]],\n",
              "        requires_grad=True),\n",
              " tensor([[0.1111, 0.1111, 0.1111,  ..., 0.1111, 0.1111, 0.1111],\n",
              "         [0.1111, 0.1111, 0.1111,  ..., 0.1111, 0.1111, 0.1111],\n",
              "         [0.1111, 0.1111, 0.1111,  ..., 0.1111, 0.1111, 0.1111],\n",
              "         ...,\n",
              "         [0.1111, 0.1111, 0.1111,  ..., 0.1111, 0.1111, 0.1111],\n",
              "         [0.1111, 0.1111, 0.1111,  ..., 0.1111, 0.1111, 0.1111],\n",
              "         [0.1111, 0.1111, 0.1111,  ..., 0.1111, 0.1111, 0.1111]],\n",
              "        requires_grad=True),\n",
              " tensor([[0.1111, 0.1111, 0.1111,  ..., 0.1111, 0.1111, 0.1111],\n",
              "         [0.1111, 0.1111, 0.1111,  ..., 0.1111, 0.1111, 0.1111],\n",
              "         [0.1111, 0.1111, 0.1111,  ..., 0.1111, 0.1111, 0.1111],\n",
              "         ...,\n",
              "         [0.1111, 0.1111, 0.1111,  ..., 0.1111, 0.1111, 0.1111],\n",
              "         [0.1111, 0.1111, 0.1111,  ..., 0.1111, 0.1111, 0.1111],\n",
              "         [0.1111, 0.1111, 0.1111,  ..., 0.1111, 0.1111, 0.1111]],\n",
              "        requires_grad=True),\n",
              " tensor([[0.1111, 0.1111, 0.1111,  ..., 0.1111, 0.1111, 0.1111],\n",
              "         [0.1111, 0.1111, 0.1111,  ..., 0.1111, 0.1111, 0.1111],\n",
              "         [0.1111, 0.1111, 0.1111,  ..., 0.1111, 0.1111, 0.1111],\n",
              "         ...,\n",
              "         [0.1111, 0.1111, 0.1111,  ..., 0.1111, 0.1111, 0.1111],\n",
              "         [0.1111, 0.1111, 0.1111,  ..., 0.1111, 0.1111, 0.1111],\n",
              "         [0.1111, 0.1111, 0.1111,  ..., 0.1111, 0.1111, 0.1111]],\n",
              "        requires_grad=True)]"
            ]
          },
          "metadata": {
            "tags": []
          },
          "execution_count": 8
        }
      ]
    },
    {
      "cell_type": "code",
      "metadata": {
        "id": "HbrMidFCla6h"
      },
      "source": [
        "class Module2(nn.Module):\n",
        "  def __init__(self):\n",
        "    super(Module2, self).__init__()\n",
        "    self.linear1 = nn.Linear(2,100)\n",
        "    self.linear2 = nn.Linear(100,3)\n",
        "\n",
        "  def forward(self,x):\n",
        "    x = F.relu(self.linear1(x))\n",
        "    x = self.linear2(x)\n",
        "    return x"
      ],
      "execution_count": 9,
      "outputs": []
    },
    {
      "cell_type": "code",
      "metadata": {
        "id": "rRqj2VELllkX"
      },
      "source": [
        "torch.manual_seed(1234)\n",
        "what_net = Module2().double()\n",
        "\n",
        "#what_net.load_state_dict(torch.load(\"type4_what_net.pt\"))\n",
        "what_net = what_net.to(\"cuda\")"
      ],
      "execution_count": 10,
      "outputs": []
    },
    {
      "cell_type": "code",
      "metadata": {
        "id": "sAY-x6UAwrwE"
      },
      "source": [
        "# for param in what_net.parameters():\n",
        "#     param.requires_grad = False"
      ],
      "execution_count": 11,
      "outputs": []
    },
    {
      "cell_type": "code",
      "metadata": {
        "id": "S633XgMToeN3"
      },
      "source": [
        "optim1 = []\n",
        "for i in range(n_batches):\n",
        "  optim1.append(optim.RMSprop([bg[i]],lr=10))"
      ],
      "execution_count": 12,
      "outputs": []
    },
    {
      "cell_type": "code",
      "metadata": {
        "colab": {
          "base_uri": "https://localhost:8080/"
        },
        "id": "qPaYaojinMTA",
        "outputId": "90c4aac0-d545-4daf-f59b-13bca80a809d"
      },
      "source": [
        "# instantiate optimizer\n",
        "optimizer_what = optim.RMSprop(what_net.parameters(), lr=0.001)#, momentum=0.9)#,nesterov=True)\n",
        "\n",
        "\n",
        " \n",
        "\n",
        "\n",
        "criterion = nn.CrossEntropyLoss()\n",
        "acti = []\n",
        "analysis_data_tr = []\n",
        "analysis_data_tst = []\n",
        "loss_curi_tr = []\n",
        "loss_curi_tst = []\n",
        "epochs = 200\n",
        "\n",
        "\n",
        "# calculate zeroth epoch loss and FTPT values  \n",
        "\n",
        "# call to calculate_attn_loss need to make sure batch size is correct in utils file\n",
        "running_loss,anlys_data,correct,total,accuracy = calculate_attn_loss(train_loader,bg,what_net,criterion)\n",
        "print('training epoch: [%d ] loss: %.3f correct: %.3f, total: %.3f, accuracy: %.3f' %(0,running_loss,correct,total,accuracy)) \n",
        "loss_curi_tr.append(running_loss)\n",
        "analysis_data_tr.append(anlys_data)\n",
        "\n",
        "\n",
        "\n",
        "\n",
        "# training starts \n",
        "for epoch in range(epochs): # loop over the dataset multiple times\n",
        "  ep_lossi = []\n",
        "  running_loss = 0.0\n",
        "  what_net.train()\n",
        "  for i, data in enumerate(train_loader, 0):\n",
        "    # get the inputs\n",
        "    inputs, labels,_  = data\n",
        "    inputs = inputs.double()\n",
        "    beta = bg[i] # alpha for ith batch\n",
        "    #print(labels)\n",
        "    inputs, labels,beta = inputs.to(\"cuda\"),labels.to(\"cuda\"),beta.to(\"cuda\")\n",
        "        \n",
        "    # zero the parameter gradients\n",
        "    optimizer_what.zero_grad()\n",
        "    optim1[i].zero_grad()\n",
        "      \n",
        "    # forward + backward + optimize\n",
        "    avg,alpha = attn_avg(inputs,beta)\n",
        "    outputs = what_net(avg)     \n",
        "    loss = criterion(outputs, labels)\n",
        "\n",
        "    # print statistics\n",
        "    running_loss += loss.item()\n",
        "    #alpha.retain_grad()\n",
        "    loss.backward(retain_graph=False)\n",
        "    optimizer_what.step()\n",
        "    optim1[i].step()\n",
        "\n",
        "\n",
        "  running_loss_tr,anls_data,correct,total,accuracy = calculate_attn_loss(train_loader,bg,what_net,criterion)\n",
        "  analysis_data_tr.append(anls_data)\n",
        "  loss_curi_tr.append(running_loss_tr)   #loss per epoch\n",
        "  print('training epoch: [%d ] loss: %.3f correct: %.3f, total: %.3f, accuracy: %.3f' %(epoch+1,running_loss_tr,correct,total,accuracy)) \n",
        "\n",
        "\n",
        "  \n",
        "  if running_loss_tr<=0.08:\n",
        "    break\n",
        "print('Finished Training run ')\n",
        "analysis_data_tr = np.array(analysis_data_tr)\n",
        "\n"
      ],
      "execution_count": 13,
      "outputs": [
        {
          "output_type": "stream",
          "text": [
            "training epoch: [0 ] loss: 1.472 correct: 971.000, total: 3000.000, accuracy: 0.324\n",
            "training epoch: [1 ] loss: 0.883 correct: 2066.000, total: 3000.000, accuracy: 0.689\n",
            "training epoch: [2 ] loss: 0.574 correct: 2544.000, total: 3000.000, accuracy: 0.848\n",
            "training epoch: [3 ] loss: 0.448 correct: 2634.000, total: 3000.000, accuracy: 0.878\n",
            "training epoch: [4 ] loss: 0.410 correct: 2636.000, total: 3000.000, accuracy: 0.879\n",
            "training epoch: [5 ] loss: 0.387 correct: 2636.000, total: 3000.000, accuracy: 0.879\n",
            "training epoch: [6 ] loss: 0.371 correct: 2639.000, total: 3000.000, accuracy: 0.880\n",
            "training epoch: [7 ] loss: 0.361 correct: 2637.000, total: 3000.000, accuracy: 0.879\n",
            "training epoch: [8 ] loss: 0.352 correct: 2639.000, total: 3000.000, accuracy: 0.880\n",
            "training epoch: [9 ] loss: 0.344 correct: 2639.000, total: 3000.000, accuracy: 0.880\n",
            "training epoch: [10 ] loss: 0.338 correct: 2639.000, total: 3000.000, accuracy: 0.880\n",
            "training epoch: [11 ] loss: 0.333 correct: 2639.000, total: 3000.000, accuracy: 0.880\n",
            "training epoch: [12 ] loss: 0.328 correct: 2640.000, total: 3000.000, accuracy: 0.880\n",
            "training epoch: [13 ] loss: 0.324 correct: 2637.000, total: 3000.000, accuracy: 0.879\n",
            "training epoch: [14 ] loss: 0.320 correct: 2637.000, total: 3000.000, accuracy: 0.879\n",
            "training epoch: [15 ] loss: 0.316 correct: 2638.000, total: 3000.000, accuracy: 0.879\n",
            "training epoch: [16 ] loss: 0.312 correct: 2638.000, total: 3000.000, accuracy: 0.879\n",
            "training epoch: [17 ] loss: 0.309 correct: 2639.000, total: 3000.000, accuracy: 0.880\n",
            "training epoch: [18 ] loss: 0.306 correct: 2639.000, total: 3000.000, accuracy: 0.880\n",
            "training epoch: [19 ] loss: 0.303 correct: 2640.000, total: 3000.000, accuracy: 0.880\n",
            "training epoch: [20 ] loss: 0.299 correct: 2642.000, total: 3000.000, accuracy: 0.881\n",
            "training epoch: [21 ] loss: 0.296 correct: 2644.000, total: 3000.000, accuracy: 0.881\n",
            "training epoch: [22 ] loss: 0.293 correct: 2645.000, total: 3000.000, accuracy: 0.882\n",
            "training epoch: [23 ] loss: 0.290 correct: 2646.000, total: 3000.000, accuracy: 0.882\n",
            "training epoch: [24 ] loss: 0.287 correct: 2647.000, total: 3000.000, accuracy: 0.882\n",
            "training epoch: [25 ] loss: 0.285 correct: 2647.000, total: 3000.000, accuracy: 0.882\n",
            "training epoch: [26 ] loss: 0.282 correct: 2647.000, total: 3000.000, accuracy: 0.882\n",
            "training epoch: [27 ] loss: 0.280 correct: 2647.000, total: 3000.000, accuracy: 0.882\n",
            "training epoch: [28 ] loss: 0.278 correct: 2647.000, total: 3000.000, accuracy: 0.882\n",
            "training epoch: [29 ] loss: 0.275 correct: 2648.000, total: 3000.000, accuracy: 0.883\n",
            "training epoch: [30 ] loss: 0.274 correct: 2648.000, total: 3000.000, accuracy: 0.883\n",
            "training epoch: [31 ] loss: 0.271 correct: 2649.000, total: 3000.000, accuracy: 0.883\n",
            "training epoch: [32 ] loss: 0.270 correct: 2649.000, total: 3000.000, accuracy: 0.883\n",
            "training epoch: [33 ] loss: 0.268 correct: 2649.000, total: 3000.000, accuracy: 0.883\n",
            "training epoch: [34 ] loss: 0.266 correct: 2650.000, total: 3000.000, accuracy: 0.883\n",
            "training epoch: [35 ] loss: 0.264 correct: 2651.000, total: 3000.000, accuracy: 0.884\n",
            "training epoch: [36 ] loss: 0.263 correct: 2651.000, total: 3000.000, accuracy: 0.884\n",
            "training epoch: [37 ] loss: 0.261 correct: 2651.000, total: 3000.000, accuracy: 0.884\n",
            "training epoch: [38 ] loss: 0.260 correct: 2651.000, total: 3000.000, accuracy: 0.884\n",
            "training epoch: [39 ] loss: 0.259 correct: 2652.000, total: 3000.000, accuracy: 0.884\n",
            "training epoch: [40 ] loss: 0.258 correct: 2652.000, total: 3000.000, accuracy: 0.884\n",
            "training epoch: [41 ] loss: 0.256 correct: 2653.000, total: 3000.000, accuracy: 0.884\n",
            "training epoch: [42 ] loss: 0.255 correct: 2653.000, total: 3000.000, accuracy: 0.884\n",
            "training epoch: [43 ] loss: 0.254 correct: 2654.000, total: 3000.000, accuracy: 0.885\n",
            "training epoch: [44 ] loss: 0.253 correct: 2654.000, total: 3000.000, accuracy: 0.885\n",
            "training epoch: [45 ] loss: 0.252 correct: 2654.000, total: 3000.000, accuracy: 0.885\n",
            "training epoch: [46 ] loss: 0.251 correct: 2654.000, total: 3000.000, accuracy: 0.885\n",
            "training epoch: [47 ] loss: 0.250 correct: 2654.000, total: 3000.000, accuracy: 0.885\n",
            "training epoch: [48 ] loss: 0.249 correct: 2654.000, total: 3000.000, accuracy: 0.885\n",
            "training epoch: [49 ] loss: 0.248 correct: 2654.000, total: 3000.000, accuracy: 0.885\n",
            "training epoch: [50 ] loss: 0.247 correct: 2654.000, total: 3000.000, accuracy: 0.885\n",
            "training epoch: [51 ] loss: 0.247 correct: 2654.000, total: 3000.000, accuracy: 0.885\n",
            "training epoch: [52 ] loss: 0.246 correct: 2654.000, total: 3000.000, accuracy: 0.885\n",
            "training epoch: [53 ] loss: 0.245 correct: 2655.000, total: 3000.000, accuracy: 0.885\n",
            "training epoch: [54 ] loss: 0.244 correct: 2655.000, total: 3000.000, accuracy: 0.885\n",
            "training epoch: [55 ] loss: 0.243 correct: 2655.000, total: 3000.000, accuracy: 0.885\n",
            "training epoch: [56 ] loss: 0.242 correct: 2656.000, total: 3000.000, accuracy: 0.885\n",
            "training epoch: [57 ] loss: 0.242 correct: 2656.000, total: 3000.000, accuracy: 0.885\n",
            "training epoch: [58 ] loss: 0.241 correct: 2656.000, total: 3000.000, accuracy: 0.885\n",
            "training epoch: [59 ] loss: 0.241 correct: 2656.000, total: 3000.000, accuracy: 0.885\n",
            "training epoch: [60 ] loss: 0.240 correct: 2656.000, total: 3000.000, accuracy: 0.885\n",
            "training epoch: [61 ] loss: 0.240 correct: 2656.000, total: 3000.000, accuracy: 0.885\n",
            "training epoch: [62 ] loss: 0.239 correct: 2656.000, total: 3000.000, accuracy: 0.885\n",
            "training epoch: [63 ] loss: 0.238 correct: 2656.000, total: 3000.000, accuracy: 0.885\n",
            "training epoch: [64 ] loss: 0.238 correct: 2656.000, total: 3000.000, accuracy: 0.885\n",
            "training epoch: [65 ] loss: 0.237 correct: 2656.000, total: 3000.000, accuracy: 0.885\n",
            "training epoch: [66 ] loss: 0.236 correct: 2657.000, total: 3000.000, accuracy: 0.886\n",
            "training epoch: [67 ] loss: 0.236 correct: 2657.000, total: 3000.000, accuracy: 0.886\n",
            "training epoch: [68 ] loss: 0.236 correct: 2657.000, total: 3000.000, accuracy: 0.886\n",
            "training epoch: [69 ] loss: 0.235 correct: 2657.000, total: 3000.000, accuracy: 0.886\n",
            "training epoch: [70 ] loss: 0.235 correct: 2658.000, total: 3000.000, accuracy: 0.886\n",
            "training epoch: [71 ] loss: 0.234 correct: 2658.000, total: 3000.000, accuracy: 0.886\n",
            "training epoch: [72 ] loss: 0.234 correct: 2658.000, total: 3000.000, accuracy: 0.886\n",
            "training epoch: [73 ] loss: 0.234 correct: 2658.000, total: 3000.000, accuracy: 0.886\n",
            "training epoch: [74 ] loss: 0.233 correct: 2658.000, total: 3000.000, accuracy: 0.886\n",
            "training epoch: [75 ] loss: 0.233 correct: 2658.000, total: 3000.000, accuracy: 0.886\n",
            "training epoch: [76 ] loss: 0.232 correct: 2658.000, total: 3000.000, accuracy: 0.886\n",
            "training epoch: [77 ] loss: 0.232 correct: 2658.000, total: 3000.000, accuracy: 0.886\n",
            "training epoch: [78 ] loss: 0.232 correct: 2658.000, total: 3000.000, accuracy: 0.886\n",
            "training epoch: [79 ] loss: 0.231 correct: 2658.000, total: 3000.000, accuracy: 0.886\n",
            "training epoch: [80 ] loss: 0.231 correct: 2658.000, total: 3000.000, accuracy: 0.886\n",
            "training epoch: [81 ] loss: 0.231 correct: 2658.000, total: 3000.000, accuracy: 0.886\n",
            "training epoch: [82 ] loss: 0.230 correct: 2658.000, total: 3000.000, accuracy: 0.886\n",
            "training epoch: [83 ] loss: 0.230 correct: 2658.000, total: 3000.000, accuracy: 0.886\n",
            "training epoch: [84 ] loss: 0.230 correct: 2658.000, total: 3000.000, accuracy: 0.886\n",
            "training epoch: [85 ] loss: 0.230 correct: 2658.000, total: 3000.000, accuracy: 0.886\n",
            "training epoch: [86 ] loss: 0.229 correct: 2658.000, total: 3000.000, accuracy: 0.886\n",
            "training epoch: [87 ] loss: 0.229 correct: 2658.000, total: 3000.000, accuracy: 0.886\n",
            "training epoch: [88 ] loss: 0.229 correct: 2659.000, total: 3000.000, accuracy: 0.886\n",
            "training epoch: [89 ] loss: 0.228 correct: 2660.000, total: 3000.000, accuracy: 0.887\n",
            "training epoch: [90 ] loss: 0.228 correct: 2660.000, total: 3000.000, accuracy: 0.887\n",
            "training epoch: [91 ] loss: 0.228 correct: 2660.000, total: 3000.000, accuracy: 0.887\n",
            "training epoch: [92 ] loss: 0.227 correct: 2660.000, total: 3000.000, accuracy: 0.887\n",
            "training epoch: [93 ] loss: 0.227 correct: 2660.000, total: 3000.000, accuracy: 0.887\n",
            "training epoch: [94 ] loss: 0.227 correct: 2660.000, total: 3000.000, accuracy: 0.887\n",
            "training epoch: [95 ] loss: 0.227 correct: 2660.000, total: 3000.000, accuracy: 0.887\n",
            "training epoch: [96 ] loss: 0.227 correct: 2661.000, total: 3000.000, accuracy: 0.887\n",
            "training epoch: [97 ] loss: 0.226 correct: 2661.000, total: 3000.000, accuracy: 0.887\n",
            "training epoch: [98 ] loss: 0.226 correct: 2661.000, total: 3000.000, accuracy: 0.887\n",
            "training epoch: [99 ] loss: 0.226 correct: 2661.000, total: 3000.000, accuracy: 0.887\n",
            "training epoch: [100 ] loss: 0.226 correct: 2661.000, total: 3000.000, accuracy: 0.887\n",
            "training epoch: [101 ] loss: 0.226 correct: 2661.000, total: 3000.000, accuracy: 0.887\n",
            "training epoch: [102 ] loss: 0.225 correct: 2661.000, total: 3000.000, accuracy: 0.887\n",
            "training epoch: [103 ] loss: 0.225 correct: 2661.000, total: 3000.000, accuracy: 0.887\n",
            "training epoch: [104 ] loss: 0.225 correct: 2661.000, total: 3000.000, accuracy: 0.887\n",
            "training epoch: [105 ] loss: 0.225 correct: 2661.000, total: 3000.000, accuracy: 0.887\n",
            "training epoch: [106 ] loss: 0.224 correct: 2661.000, total: 3000.000, accuracy: 0.887\n",
            "training epoch: [107 ] loss: 0.224 correct: 2661.000, total: 3000.000, accuracy: 0.887\n",
            "training epoch: [108 ] loss: 0.224 correct: 2661.000, total: 3000.000, accuracy: 0.887\n",
            "training epoch: [109 ] loss: 0.224 correct: 2661.000, total: 3000.000, accuracy: 0.887\n",
            "training epoch: [110 ] loss: 0.224 correct: 2661.000, total: 3000.000, accuracy: 0.887\n",
            "training epoch: [111 ] loss: 0.223 correct: 2662.000, total: 3000.000, accuracy: 0.887\n",
            "training epoch: [112 ] loss: 0.223 correct: 2661.000, total: 3000.000, accuracy: 0.887\n",
            "training epoch: [113 ] loss: 0.223 correct: 2661.000, total: 3000.000, accuracy: 0.887\n",
            "training epoch: [114 ] loss: 0.223 correct: 2661.000, total: 3000.000, accuracy: 0.887\n",
            "training epoch: [115 ] loss: 0.223 correct: 2661.000, total: 3000.000, accuracy: 0.887\n",
            "training epoch: [116 ] loss: 0.223 correct: 2661.000, total: 3000.000, accuracy: 0.887\n",
            "training epoch: [117 ] loss: 0.223 correct: 2661.000, total: 3000.000, accuracy: 0.887\n",
            "training epoch: [118 ] loss: 0.222 correct: 2661.000, total: 3000.000, accuracy: 0.887\n",
            "training epoch: [119 ] loss: 0.222 correct: 2661.000, total: 3000.000, accuracy: 0.887\n",
            "training epoch: [120 ] loss: 0.222 correct: 2661.000, total: 3000.000, accuracy: 0.887\n",
            "training epoch: [121 ] loss: 0.222 correct: 2661.000, total: 3000.000, accuracy: 0.887\n",
            "training epoch: [122 ] loss: 0.222 correct: 2661.000, total: 3000.000, accuracy: 0.887\n",
            "training epoch: [123 ] loss: 0.222 correct: 2661.000, total: 3000.000, accuracy: 0.887\n",
            "training epoch: [124 ] loss: 0.221 correct: 2661.000, total: 3000.000, accuracy: 0.887\n",
            "training epoch: [125 ] loss: 0.221 correct: 2661.000, total: 3000.000, accuracy: 0.887\n",
            "training epoch: [126 ] loss: 0.221 correct: 2661.000, total: 3000.000, accuracy: 0.887\n",
            "training epoch: [127 ] loss: 0.221 correct: 2661.000, total: 3000.000, accuracy: 0.887\n",
            "training epoch: [128 ] loss: 0.221 correct: 2661.000, total: 3000.000, accuracy: 0.887\n",
            "training epoch: [129 ] loss: 0.221 correct: 2661.000, total: 3000.000, accuracy: 0.887\n",
            "training epoch: [130 ] loss: 0.221 correct: 2661.000, total: 3000.000, accuracy: 0.887\n",
            "training epoch: [131 ] loss: 0.220 correct: 2661.000, total: 3000.000, accuracy: 0.887\n",
            "training epoch: [132 ] loss: 0.220 correct: 2661.000, total: 3000.000, accuracy: 0.887\n",
            "training epoch: [133 ] loss: 0.220 correct: 2661.000, total: 3000.000, accuracy: 0.887\n",
            "training epoch: [134 ] loss: 0.220 correct: 2661.000, total: 3000.000, accuracy: 0.887\n",
            "training epoch: [135 ] loss: 0.220 correct: 2661.000, total: 3000.000, accuracy: 0.887\n",
            "training epoch: [136 ] loss: 0.220 correct: 2661.000, total: 3000.000, accuracy: 0.887\n",
            "training epoch: [137 ] loss: 0.220 correct: 2661.000, total: 3000.000, accuracy: 0.887\n",
            "training epoch: [138 ] loss: 0.220 correct: 2661.000, total: 3000.000, accuracy: 0.887\n",
            "training epoch: [139 ] loss: 0.219 correct: 2661.000, total: 3000.000, accuracy: 0.887\n",
            "training epoch: [140 ] loss: 0.219 correct: 2661.000, total: 3000.000, accuracy: 0.887\n",
            "training epoch: [141 ] loss: 0.219 correct: 2661.000, total: 3000.000, accuracy: 0.887\n",
            "training epoch: [142 ] loss: 0.219 correct: 2662.000, total: 3000.000, accuracy: 0.887\n",
            "training epoch: [143 ] loss: 0.219 correct: 2662.000, total: 3000.000, accuracy: 0.887\n",
            "training epoch: [144 ] loss: 0.219 correct: 2662.000, total: 3000.000, accuracy: 0.887\n",
            "training epoch: [145 ] loss: 0.218 correct: 2662.000, total: 3000.000, accuracy: 0.887\n",
            "training epoch: [146 ] loss: 0.218 correct: 2662.000, total: 3000.000, accuracy: 0.887\n",
            "training epoch: [147 ] loss: 0.218 correct: 2662.000, total: 3000.000, accuracy: 0.887\n",
            "training epoch: [148 ] loss: 0.218 correct: 2662.000, total: 3000.000, accuracy: 0.887\n",
            "training epoch: [149 ] loss: 0.218 correct: 2663.000, total: 3000.000, accuracy: 0.888\n",
            "training epoch: [150 ] loss: 0.218 correct: 2663.000, total: 3000.000, accuracy: 0.888\n",
            "training epoch: [151 ] loss: 0.218 correct: 2663.000, total: 3000.000, accuracy: 0.888\n",
            "training epoch: [152 ] loss: 0.218 correct: 2663.000, total: 3000.000, accuracy: 0.888\n",
            "training epoch: [153 ] loss: 0.218 correct: 2663.000, total: 3000.000, accuracy: 0.888\n",
            "training epoch: [154 ] loss: 0.218 correct: 2663.000, total: 3000.000, accuracy: 0.888\n",
            "training epoch: [155 ] loss: 0.217 correct: 2664.000, total: 3000.000, accuracy: 0.888\n",
            "training epoch: [156 ] loss: 0.217 correct: 2664.000, total: 3000.000, accuracy: 0.888\n",
            "training epoch: [157 ] loss: 0.217 correct: 2664.000, total: 3000.000, accuracy: 0.888\n",
            "training epoch: [158 ] loss: 0.217 correct: 2664.000, total: 3000.000, accuracy: 0.888\n",
            "training epoch: [159 ] loss: 0.217 correct: 2664.000, total: 3000.000, accuracy: 0.888\n",
            "training epoch: [160 ] loss: 0.217 correct: 2664.000, total: 3000.000, accuracy: 0.888\n",
            "training epoch: [161 ] loss: 0.217 correct: 2664.000, total: 3000.000, accuracy: 0.888\n",
            "training epoch: [162 ] loss: 0.217 correct: 2664.000, total: 3000.000, accuracy: 0.888\n",
            "training epoch: [163 ] loss: 0.216 correct: 2665.000, total: 3000.000, accuracy: 0.888\n",
            "training epoch: [164 ] loss: 0.216 correct: 2665.000, total: 3000.000, accuracy: 0.888\n",
            "training epoch: [165 ] loss: 0.216 correct: 2665.000, total: 3000.000, accuracy: 0.888\n",
            "training epoch: [166 ] loss: 0.216 correct: 2665.000, total: 3000.000, accuracy: 0.888\n",
            "training epoch: [167 ] loss: 0.216 correct: 2665.000, total: 3000.000, accuracy: 0.888\n",
            "training epoch: [168 ] loss: 0.216 correct: 2665.000, total: 3000.000, accuracy: 0.888\n",
            "training epoch: [169 ] loss: 0.215 correct: 2666.000, total: 3000.000, accuracy: 0.889\n",
            "training epoch: [170 ] loss: 0.215 correct: 2666.000, total: 3000.000, accuracy: 0.889\n",
            "training epoch: [171 ] loss: 0.215 correct: 2666.000, total: 3000.000, accuracy: 0.889\n",
            "training epoch: [172 ] loss: 0.215 correct: 2666.000, total: 3000.000, accuracy: 0.889\n",
            "training epoch: [173 ] loss: 0.215 correct: 2666.000, total: 3000.000, accuracy: 0.889\n",
            "training epoch: [174 ] loss: 0.215 correct: 2666.000, total: 3000.000, accuracy: 0.889\n",
            "training epoch: [175 ] loss: 0.215 correct: 2666.000, total: 3000.000, accuracy: 0.889\n",
            "training epoch: [176 ] loss: 0.215 correct: 2666.000, total: 3000.000, accuracy: 0.889\n",
            "training epoch: [177 ] loss: 0.215 correct: 2666.000, total: 3000.000, accuracy: 0.889\n",
            "training epoch: [178 ] loss: 0.215 correct: 2666.000, total: 3000.000, accuracy: 0.889\n",
            "training epoch: [179 ] loss: 0.215 correct: 2666.000, total: 3000.000, accuracy: 0.889\n",
            "training epoch: [180 ] loss: 0.215 correct: 2666.000, total: 3000.000, accuracy: 0.889\n",
            "training epoch: [181 ] loss: 0.214 correct: 2666.000, total: 3000.000, accuracy: 0.889\n",
            "training epoch: [182 ] loss: 0.214 correct: 2667.000, total: 3000.000, accuracy: 0.889\n",
            "training epoch: [183 ] loss: 0.214 correct: 2667.000, total: 3000.000, accuracy: 0.889\n",
            "training epoch: [184 ] loss: 0.214 correct: 2667.000, total: 3000.000, accuracy: 0.889\n",
            "training epoch: [185 ] loss: 0.214 correct: 2667.000, total: 3000.000, accuracy: 0.889\n",
            "training epoch: [186 ] loss: 0.214 correct: 2667.000, total: 3000.000, accuracy: 0.889\n",
            "training epoch: [187 ] loss: 0.213 correct: 2667.000, total: 3000.000, accuracy: 0.889\n",
            "training epoch: [188 ] loss: 0.213 correct: 2667.000, total: 3000.000, accuracy: 0.889\n",
            "training epoch: [189 ] loss: 0.213 correct: 2667.000, total: 3000.000, accuracy: 0.889\n",
            "training epoch: [190 ] loss: 0.213 correct: 2667.000, total: 3000.000, accuracy: 0.889\n",
            "training epoch: [191 ] loss: 0.213 correct: 2667.000, total: 3000.000, accuracy: 0.889\n",
            "training epoch: [192 ] loss: 0.213 correct: 2667.000, total: 3000.000, accuracy: 0.889\n",
            "training epoch: [193 ] loss: 0.213 correct: 2667.000, total: 3000.000, accuracy: 0.889\n",
            "training epoch: [194 ] loss: 0.213 correct: 2667.000, total: 3000.000, accuracy: 0.889\n",
            "training epoch: [195 ] loss: 0.213 correct: 2667.000, total: 3000.000, accuracy: 0.889\n",
            "training epoch: [196 ] loss: 0.213 correct: 2667.000, total: 3000.000, accuracy: 0.889\n",
            "training epoch: [197 ] loss: 0.213 correct: 2667.000, total: 3000.000, accuracy: 0.889\n",
            "training epoch: [198 ] loss: 0.213 correct: 2667.000, total: 3000.000, accuracy: 0.889\n",
            "training epoch: [199 ] loss: 0.213 correct: 2668.000, total: 3000.000, accuracy: 0.889\n",
            "training epoch: [200 ] loss: 0.212 correct: 2668.000, total: 3000.000, accuracy: 0.889\n",
            "Finished Training run \n"
          ],
          "name": "stdout"
        }
      ]
    },
    {
      "cell_type": "code",
      "metadata": {
        "id": "AciJnAh5nfug"
      },
      "source": [
        "columns = [\"epochs\", \"argmax > 0.5\" ,\"argmax < 0.5\", \"focus_true_pred_true\", \"focus_false_pred_true\", \"focus_true_pred_false\", \"focus_false_pred_false\" ]\n",
        "df_train = pd.DataFrame()\n",
        "df_test = pd.DataFrame()\n",
        "df_train[columns[0]] = np.arange(0,epoch+2)\n",
        "df_train[columns[1]] = analysis_data_tr[:,-2]/30\n",
        "df_train[columns[2]] = analysis_data_tr[:,-1]/30\n",
        "df_train[columns[3]] = analysis_data_tr[:,0]/30\n",
        "df_train[columns[4]] = analysis_data_tr[:,1]/30\n",
        "df_train[columns[5]] = analysis_data_tr[:,2]/30\n",
        "df_train[columns[6]] = analysis_data_tr[:,3]/30"
      ],
      "execution_count": 14,
      "outputs": []
    },
    {
      "cell_type": "code",
      "metadata": {
        "colab": {
          "base_uri": "https://localhost:8080/",
          "height": 456
        },
        "id": "NoQpS_6scRsC",
        "outputId": "97fec19d-d11e-4d34-aa6c-302b203ea162"
      },
      "source": [
        "df_train"
      ],
      "execution_count": 15,
      "outputs": [
        {
          "output_type": "execute_result",
          "data": {
            "text/html": [
              "<div>\n",
              "<style scoped>\n",
              "    .dataframe tbody tr th:only-of-type {\n",
              "        vertical-align: middle;\n",
              "    }\n",
              "\n",
              "    .dataframe tbody tr th {\n",
              "        vertical-align: top;\n",
              "    }\n",
              "\n",
              "    .dataframe thead th {\n",
              "        text-align: right;\n",
              "    }\n",
              "</style>\n",
              "<table border=\"1\" class=\"dataframe\">\n",
              "  <thead>\n",
              "    <tr style=\"text-align: right;\">\n",
              "      <th></th>\n",
              "      <th>epochs</th>\n",
              "      <th>argmax &gt; 0.5</th>\n",
              "      <th>argmax &lt; 0.5</th>\n",
              "      <th>focus_true_pred_true</th>\n",
              "      <th>focus_false_pred_true</th>\n",
              "      <th>focus_true_pred_false</th>\n",
              "      <th>focus_false_pred_false</th>\n",
              "    </tr>\n",
              "  </thead>\n",
              "  <tbody>\n",
              "    <tr>\n",
              "      <th>0</th>\n",
              "      <td>0</td>\n",
              "      <td>0.000000</td>\n",
              "      <td>100.000000</td>\n",
              "      <td>4.200000</td>\n",
              "      <td>28.166667</td>\n",
              "      <td>7.500000</td>\n",
              "      <td>60.133333</td>\n",
              "    </tr>\n",
              "    <tr>\n",
              "      <th>1</th>\n",
              "      <td>1</td>\n",
              "      <td>2.966667</td>\n",
              "      <td>97.033333</td>\n",
              "      <td>1.300000</td>\n",
              "      <td>67.566667</td>\n",
              "      <td>0.400000</td>\n",
              "      <td>30.733333</td>\n",
              "    </tr>\n",
              "    <tr>\n",
              "      <th>2</th>\n",
              "      <td>2</td>\n",
              "      <td>98.566667</td>\n",
              "      <td>1.433333</td>\n",
              "      <td>2.733333</td>\n",
              "      <td>82.066667</td>\n",
              "      <td>2.100000</td>\n",
              "      <td>13.100000</td>\n",
              "    </tr>\n",
              "    <tr>\n",
              "      <th>3</th>\n",
              "      <td>3</td>\n",
              "      <td>99.933333</td>\n",
              "      <td>0.066667</td>\n",
              "      <td>4.166667</td>\n",
              "      <td>83.633333</td>\n",
              "      <td>0.500000</td>\n",
              "      <td>11.700000</td>\n",
              "    </tr>\n",
              "    <tr>\n",
              "      <th>4</th>\n",
              "      <td>4</td>\n",
              "      <td>99.966667</td>\n",
              "      <td>0.033333</td>\n",
              "      <td>4.066667</td>\n",
              "      <td>83.800000</td>\n",
              "      <td>0.666667</td>\n",
              "      <td>11.466667</td>\n",
              "    </tr>\n",
              "    <tr>\n",
              "      <th>...</th>\n",
              "      <td>...</td>\n",
              "      <td>...</td>\n",
              "      <td>...</td>\n",
              "      <td>...</td>\n",
              "      <td>...</td>\n",
              "      <td>...</td>\n",
              "      <td>...</td>\n",
              "    </tr>\n",
              "    <tr>\n",
              "      <th>196</th>\n",
              "      <td>196</td>\n",
              "      <td>100.000000</td>\n",
              "      <td>0.000000</td>\n",
              "      <td>4.433333</td>\n",
              "      <td>84.466667</td>\n",
              "      <td>0.566667</td>\n",
              "      <td>10.533333</td>\n",
              "    </tr>\n",
              "    <tr>\n",
              "      <th>197</th>\n",
              "      <td>197</td>\n",
              "      <td>100.000000</td>\n",
              "      <td>0.000000</td>\n",
              "      <td>4.433333</td>\n",
              "      <td>84.466667</td>\n",
              "      <td>0.566667</td>\n",
              "      <td>10.533333</td>\n",
              "    </tr>\n",
              "    <tr>\n",
              "      <th>198</th>\n",
              "      <td>198</td>\n",
              "      <td>100.000000</td>\n",
              "      <td>0.000000</td>\n",
              "      <td>4.433333</td>\n",
              "      <td>84.466667</td>\n",
              "      <td>0.566667</td>\n",
              "      <td>10.533333</td>\n",
              "    </tr>\n",
              "    <tr>\n",
              "      <th>199</th>\n",
              "      <td>199</td>\n",
              "      <td>100.000000</td>\n",
              "      <td>0.000000</td>\n",
              "      <td>4.500000</td>\n",
              "      <td>84.433333</td>\n",
              "      <td>0.533333</td>\n",
              "      <td>10.533333</td>\n",
              "    </tr>\n",
              "    <tr>\n",
              "      <th>200</th>\n",
              "      <td>200</td>\n",
              "      <td>100.000000</td>\n",
              "      <td>0.000000</td>\n",
              "      <td>4.500000</td>\n",
              "      <td>84.433333</td>\n",
              "      <td>0.533333</td>\n",
              "      <td>10.533333</td>\n",
              "    </tr>\n",
              "  </tbody>\n",
              "</table>\n",
              "<p>201 rows × 7 columns</p>\n",
              "</div>"
            ],
            "text/plain": [
              "     epochs  argmax > 0.5  ...  focus_true_pred_false  focus_false_pred_false\n",
              "0         0      0.000000  ...               7.500000               60.133333\n",
              "1         1      2.966667  ...               0.400000               30.733333\n",
              "2         2     98.566667  ...               2.100000               13.100000\n",
              "3         3     99.933333  ...               0.500000               11.700000\n",
              "4         4     99.966667  ...               0.666667               11.466667\n",
              "..      ...           ...  ...                    ...                     ...\n",
              "196     196    100.000000  ...               0.566667               10.533333\n",
              "197     197    100.000000  ...               0.566667               10.533333\n",
              "198     198    100.000000  ...               0.566667               10.533333\n",
              "199     199    100.000000  ...               0.533333               10.533333\n",
              "200     200    100.000000  ...               0.533333               10.533333\n",
              "\n",
              "[201 rows x 7 columns]"
            ]
          },
          "metadata": {
            "tags": []
          },
          "execution_count": 15
        }
      ]
    },
    {
      "cell_type": "code",
      "metadata": {
        "colab": {
          "base_uri": "https://localhost:8080/",
          "height": 421
        },
        "id": "IMAhRdxOcVf6",
        "outputId": "6af323e7-1d04-4f13-d27b-024becd07ba6"
      },
      "source": [
        "%cd /content/\n",
        "plot_analysis(df_train,columns,[0,50,100,150,200])"
      ],
      "execution_count": 16,
      "outputs": [
        {
          "output_type": "stream",
          "text": [
            "/content\n"
          ],
          "name": "stdout"
        },
        {
          "output_type": "display_data",
          "data": {
            "image/png": "[encoded data removed]",
            "text/plain": [
              "<Figure size 432x432 with 1 Axes>"
            ]
          },
          "metadata": {
            "tags": [],
            "needs_background": "light"
          }
        }
      ]
    },
    {
      "cell_type": "code",
      "metadata": {
        "id": "VCnS6r2_3WdU"
      },
      "source": [
        "aph = []\n",
        "for i in bg:\n",
        "  aph.append(F.softmax(i,dim=1).detach().numpy())\n",
        "aph = np.concatenate(aph,axis=0)\n",
        "# torch.save({\n",
        "#             'epoch': 500,\n",
        "#             'model_state_dict': what_net.state_dict(),\n",
        "#             #'optimizer_state_dict': optimizer_what.state_dict(),\n",
        "#             \"optimizer_alpha\":optim1,\n",
        "#             \"FTPT_analysis\":analysis_data_tr,\n",
        "#             \"alpha\":aph\n",
        "\n",
        "#             }, \"type4_what_net_500.pt\")"
      ],
      "execution_count": 17,
      "outputs": []
    },
    {
      "cell_type": "code",
      "metadata": {
        "colab": {
          "base_uri": "https://localhost:8080/"
        },
        "id": "KVzrDOGS4UxU",
        "outputId": "238b4c6c-26b5-46c3-bda2-4cf47ce6148e"
      },
      "source": [
        "aph[0]"
      ],
      "execution_count": 18,
      "outputs": [
        {
          "output_type": "execute_result",
          "data": {
            "text/plain": [
              "array([0.000000e+00, 0.000000e+00, 0.000000e+00, 0.000000e+00,\n",
              "       0.000000e+00, 0.000000e+00, 1.000000e+00, 0.000000e+00,\n",
              "       7.254805e-20], dtype=float32)"
            ]
          },
          "metadata": {
            "tags": []
          },
          "execution_count": 18
        }
      ]
    },
    {
      "cell_type": "code",
      "metadata": {
        "id": "7Ut6ZTAXbvqx"
      },
      "source": [
        "avrg = []\n",
        "avrg_lbls = []\n",
        "with torch.no_grad():\n",
        "  for i, data in  enumerate(train_loader):\n",
        "          inputs , labels , fore_idx = data\n",
        "          inputs = inputs.double()\n",
        "          inputs = inputs.to(\"cuda\")\n",
        "          beta  = bg[i]\n",
        "          beta = beta.to(\"cuda\")\n",
        "          avg,alpha = attn_avg(inputs,beta)\n",
        "          \n",
        "          avrg_lbls.append(labels.numpy())\n",
        "          avrg.append(avg.detach().cpu().numpy())\n",
        "avrg= np.concatenate(avrg,axis=0)\n",
        "avrg_lbls = np.concatenate(avrg_lbls,axis=0)"
      ],
      "execution_count": 19,
      "outputs": []
    },
    {
      "cell_type": "code",
      "metadata": {
        "id": "6KHn17Rbceqt",
        "colab": {
          "base_uri": "https://localhost:8080/",
          "height": 408
        },
        "outputId": "50563281-a2da-41c5-e84f-16df175518a9"
      },
      "source": [
        "%cd /content/drive/MyDrive/Neural_Tangent_Kernel/\n",
        "data = np.load(\"type_4_data.npy\",allow_pickle=True)\n",
        "%cd /content/\n",
        "plot_decision_boundary(what_net,[1,8,2,9],data,bg,avrg,avrg_lbls)"
      ],
      "execution_count": 20,
      "outputs": [
        {
          "output_type": "stream",
          "text": [
            "/content/drive/MyDrive/Neural_Tangent_Kernel\n",
            "/content\n"
          ],
          "name": "stdout"
        },
        {
          "output_type": "display_data",
          "data": {
            "image/png": "[encoded data removed]",
            "text/plain": [
              "<Figure size 432x432 with 1 Axes>"
            ]
          },
          "metadata": {
            "tags": [],
            "needs_background": "light"
          }
        }
      ]
    },
    {
      "cell_type": "code",
      "metadata": {
        "id": "_210Dg1eAJdE"
      },
      "source": [
        ""
      ],
      "execution_count": 20,
      "outputs": []
    }
  ]
}