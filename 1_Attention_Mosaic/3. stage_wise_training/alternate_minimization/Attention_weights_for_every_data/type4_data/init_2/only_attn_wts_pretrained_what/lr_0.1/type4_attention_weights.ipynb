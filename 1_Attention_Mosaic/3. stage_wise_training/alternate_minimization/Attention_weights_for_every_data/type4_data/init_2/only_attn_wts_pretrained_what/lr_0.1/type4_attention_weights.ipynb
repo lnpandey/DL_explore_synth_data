{
  "nbformat": 4,
  "nbformat_minor": 0,
  "metadata": {
    "accelerator": "GPU",
    "colab": {
      "name": "type4_attention_weights.ipynb",
      "provenance": [],
      "collapsed_sections": []
    },
    "kernelspec": {
      "display_name": "Python 3",
      "name": "python3"
    },
    "language_info": {
      "name": "python"
    }
  },
  "cells": [
    {
      "cell_type": "code",
      "metadata": {
        "colab": {
          "base_uri": "https://localhost:8080/"
        },
        "id": "gMYVR3Ye8KM8",
        "outputId": "2aaa12b4-1537-4711-a5d7-d0c7a314e731"
      },
      "source": [
        "from google.colab import drive\n",
        "drive.mount('/content/drive')"
      ],
      "execution_count": 1,
      "outputs": [
        {
          "output_type": "stream",
          "text": [
            "Drive already mounted at /content/drive; to attempt to forcibly remount, call drive.mount(\"/content/drive\", force_remount=True).\n"
          ],
          "name": "stdout"
        }
      ]
    },
    {
      "cell_type": "code",
      "metadata": {
        "colab": {
          "base_uri": "https://localhost:8080/"
        },
        "id": "9_jnQ2Bg80OQ",
        "outputId": "e8281f7c-d52e-41c4-e1e3-28851cfafae4"
      },
      "source": [
        "%cd /content/drive/MyDrive/Neural_Tangent_Kernel/"
      ],
      "execution_count": 2,
      "outputs": [
        {
          "output_type": "stream",
          "text": [
            "/content/drive/MyDrive/Neural_Tangent_Kernel\n"
          ],
          "name": "stdout"
        }
      ]
    },
    {
      "cell_type": "code",
      "metadata": {
        "id": "BWIyC9Ip_bcq"
      },
      "source": [
        "import numpy as np\n",
        "import pandas as pd\n",
        "\n",
        "import torch\n",
        "import torchvision\n",
        "from torch.utils.data import Dataset, DataLoader\n",
        "from torchvision import transforms, utils\n",
        "import torch.nn as nn\n",
        "import torch.nn.functional as F\n",
        "import torch.optim as optim\n",
        "\n",
        "from matplotlib import pyplot as plt\n",
        "\n",
        "\n",
        "from myrmsprop import MyRmsprop\n",
        "from utils import plot_decision_boundary,attn_avg,plot_analysis\n",
        "from synthetic_dataset import MosaicDataset1\n",
        "from eval_model import calculate_attn_loss,analyse_data\n",
        "\n",
        "\n",
        "\n",
        "%matplotlib inline\n",
        "torch.backends.cudnn.deterministic = True\n",
        "torch.backends.cudnn.benchmark = False"
      ],
      "execution_count": 3,
      "outputs": []
    },
    {
      "cell_type": "code",
      "metadata": {
        "id": "lGVy-1EllAc_"
      },
      "source": [
        "train_data = np.load(\"train_type4_data.npy\",allow_pickle=True)\n",
        "\n",
        "test_data = np.load(\"test_type4_data.npy\",allow_pickle=True)"
      ],
      "execution_count": 4,
      "outputs": []
    },
    {
      "cell_type": "code",
      "metadata": {
        "id": "uL771xuGZC5Q"
      },
      "source": [
        "mosaic_list_of_images = train_data[0][\"mosaic_list\"]\n",
        "mosaic_label = train_data[0][\"mosaic_label\"]\n",
        "fore_idx = train_data[0][\"fore_idx\"]\n",
        "\n",
        "\n",
        "test_mosaic_list_of_images = test_data[0][\"mosaic_list\"]\n",
        "test_mosaic_label = test_data[0][\"mosaic_label\"]\n",
        "test_fore_idx = test_data[0][\"fore_idx\"]"
      ],
      "execution_count": 5,
      "outputs": []
    },
    {
      "cell_type": "code",
      "metadata": {
        "id": "uf76JwkxZCT0"
      },
      "source": [
        "batch = 250\n",
        "train_dataset = MosaicDataset1(mosaic_list_of_images, mosaic_label, fore_idx)\n",
        "train_loader = DataLoader( train_dataset,batch_size= batch ,shuffle=False)\n",
        "#batch = 2000\n",
        "#test_dataset = MosaicDataset1(test_mosaic_list_of_images, test_mosaic_label, test_fore_idx)\n",
        "#test_loader = DataLoader(test_dataset,batch_size= batch ,shuffle=False)"
      ],
      "execution_count": 6,
      "outputs": []
    },
    {
      "cell_type": "code",
      "metadata": {
        "id": "DOpZfj1bq7wN"
      },
      "source": [
        "n_batches = 3000//batch\n",
        "bg = []\n",
        "for i in range(n_batches):\n",
        "  torch.manual_seed(i)\n",
        "  betag =  torch.ones((250,9))/9   #torch.randn(batch,9)\n",
        "  bg.append( betag.requires_grad_() )"
      ],
      "execution_count": 7,
      "outputs": []
    },
    {
      "cell_type": "code",
      "metadata": {
        "colab": {
          "base_uri": "https://localhost:8080/"
        },
        "id": "fzb3ii4drXpu",
        "outputId": "55f7ca48-f014-4472-92e5-26a1f96d55a6"
      },
      "source": [
        " bg"
      ],
      "execution_count": 8,
      "outputs": [
        {
          "output_type": "execute_result",
          "data": {
            "text/plain": [
              "[tensor([[0.1111, 0.1111, 0.1111,  ..., 0.1111, 0.1111, 0.1111],\n",
              "         [0.1111, 0.1111, 0.1111,  ..., 0.1111, 0.1111, 0.1111],\n",
              "         [0.1111, 0.1111, 0.1111,  ..., 0.1111, 0.1111, 0.1111],\n",
              "         ...,\n",
              "         [0.1111, 0.1111, 0.1111,  ..., 0.1111, 0.1111, 0.1111],\n",
              "         [0.1111, 0.1111, 0.1111,  ..., 0.1111, 0.1111, 0.1111],\n",
              "         [0.1111, 0.1111, 0.1111,  ..., 0.1111, 0.1111, 0.1111]],\n",
              "        requires_grad=True),\n",
              " tensor([[0.1111, 0.1111, 0.1111,  ..., 0.1111, 0.1111, 0.1111],\n",
              "         [0.1111, 0.1111, 0.1111,  ..., 0.1111, 0.1111, 0.1111],\n",
              "         [0.1111, 0.1111, 0.1111,  ..., 0.1111, 0.1111, 0.1111],\n",
              "         ...,\n",
              "         [0.1111, 0.1111, 0.1111,  ..., 0.1111, 0.1111, 0.1111],\n",
              "         [0.1111, 0.1111, 0.1111,  ..., 0.1111, 0.1111, 0.1111],\n",
              "         [0.1111, 0.1111, 0.1111,  ..., 0.1111, 0.1111, 0.1111]],\n",
              "        requires_grad=True),\n",
              " tensor([[0.1111, 0.1111, 0.1111,  ..., 0.1111, 0.1111, 0.1111],\n",
              "         [0.1111, 0.1111, 0.1111,  ..., 0.1111, 0.1111, 0.1111],\n",
              "         [0.1111, 0.1111, 0.1111,  ..., 0.1111, 0.1111, 0.1111],\n",
              "         ...,\n",
              "         [0.1111, 0.1111, 0.1111,  ..., 0.1111, 0.1111, 0.1111],\n",
              "         [0.1111, 0.1111, 0.1111,  ..., 0.1111, 0.1111, 0.1111],\n",
              "         [0.1111, 0.1111, 0.1111,  ..., 0.1111, 0.1111, 0.1111]],\n",
              "        requires_grad=True),\n",
              " tensor([[0.1111, 0.1111, 0.1111,  ..., 0.1111, 0.1111, 0.1111],\n",
              "         [0.1111, 0.1111, 0.1111,  ..., 0.1111, 0.1111, 0.1111],\n",
              "         [0.1111, 0.1111, 0.1111,  ..., 0.1111, 0.1111, 0.1111],\n",
              "         ...,\n",
              "         [0.1111, 0.1111, 0.1111,  ..., 0.1111, 0.1111, 0.1111],\n",
              "         [0.1111, 0.1111, 0.1111,  ..., 0.1111, 0.1111, 0.1111],\n",
              "         [0.1111, 0.1111, 0.1111,  ..., 0.1111, 0.1111, 0.1111]],\n",
              "        requires_grad=True),\n",
              " tensor([[0.1111, 0.1111, 0.1111,  ..., 0.1111, 0.1111, 0.1111],\n",
              "         [0.1111, 0.1111, 0.1111,  ..., 0.1111, 0.1111, 0.1111],\n",
              "         [0.1111, 0.1111, 0.1111,  ..., 0.1111, 0.1111, 0.1111],\n",
              "         ...,\n",
              "         [0.1111, 0.1111, 0.1111,  ..., 0.1111, 0.1111, 0.1111],\n",
              "         [0.1111, 0.1111, 0.1111,  ..., 0.1111, 0.1111, 0.1111],\n",
              "         [0.1111, 0.1111, 0.1111,  ..., 0.1111, 0.1111, 0.1111]],\n",
              "        requires_grad=True),\n",
              " tensor([[0.1111, 0.1111, 0.1111,  ..., 0.1111, 0.1111, 0.1111],\n",
              "         [0.1111, 0.1111, 0.1111,  ..., 0.1111, 0.1111, 0.1111],\n",
              "         [0.1111, 0.1111, 0.1111,  ..., 0.1111, 0.1111, 0.1111],\n",
              "         ...,\n",
              "         [0.1111, 0.1111, 0.1111,  ..., 0.1111, 0.1111, 0.1111],\n",
              "         [0.1111, 0.1111, 0.1111,  ..., 0.1111, 0.1111, 0.1111],\n",
              "         [0.1111, 0.1111, 0.1111,  ..., 0.1111, 0.1111, 0.1111]],\n",
              "        requires_grad=True),\n",
              " tensor([[0.1111, 0.1111, 0.1111,  ..., 0.1111, 0.1111, 0.1111],\n",
              "         [0.1111, 0.1111, 0.1111,  ..., 0.1111, 0.1111, 0.1111],\n",
              "         [0.1111, 0.1111, 0.1111,  ..., 0.1111, 0.1111, 0.1111],\n",
              "         ...,\n",
              "         [0.1111, 0.1111, 0.1111,  ..., 0.1111, 0.1111, 0.1111],\n",
              "         [0.1111, 0.1111, 0.1111,  ..., 0.1111, 0.1111, 0.1111],\n",
              "         [0.1111, 0.1111, 0.1111,  ..., 0.1111, 0.1111, 0.1111]],\n",
              "        requires_grad=True),\n",
              " tensor([[0.1111, 0.1111, 0.1111,  ..., 0.1111, 0.1111, 0.1111],\n",
              "         [0.1111, 0.1111, 0.1111,  ..., 0.1111, 0.1111, 0.1111],\n",
              "         [0.1111, 0.1111, 0.1111,  ..., 0.1111, 0.1111, 0.1111],\n",
              "         ...,\n",
              "         [0.1111, 0.1111, 0.1111,  ..., 0.1111, 0.1111, 0.1111],\n",
              "         [0.1111, 0.1111, 0.1111,  ..., 0.1111, 0.1111, 0.1111],\n",
              "         [0.1111, 0.1111, 0.1111,  ..., 0.1111, 0.1111, 0.1111]],\n",
              "        requires_grad=True),\n",
              " tensor([[0.1111, 0.1111, 0.1111,  ..., 0.1111, 0.1111, 0.1111],\n",
              "         [0.1111, 0.1111, 0.1111,  ..., 0.1111, 0.1111, 0.1111],\n",
              "         [0.1111, 0.1111, 0.1111,  ..., 0.1111, 0.1111, 0.1111],\n",
              "         ...,\n",
              "         [0.1111, 0.1111, 0.1111,  ..., 0.1111, 0.1111, 0.1111],\n",
              "         [0.1111, 0.1111, 0.1111,  ..., 0.1111, 0.1111, 0.1111],\n",
              "         [0.1111, 0.1111, 0.1111,  ..., 0.1111, 0.1111, 0.1111]],\n",
              "        requires_grad=True),\n",
              " tensor([[0.1111, 0.1111, 0.1111,  ..., 0.1111, 0.1111, 0.1111],\n",
              "         [0.1111, 0.1111, 0.1111,  ..., 0.1111, 0.1111, 0.1111],\n",
              "         [0.1111, 0.1111, 0.1111,  ..., 0.1111, 0.1111, 0.1111],\n",
              "         ...,\n",
              "         [0.1111, 0.1111, 0.1111,  ..., 0.1111, 0.1111, 0.1111],\n",
              "         [0.1111, 0.1111, 0.1111,  ..., 0.1111, 0.1111, 0.1111],\n",
              "         [0.1111, 0.1111, 0.1111,  ..., 0.1111, 0.1111, 0.1111]],\n",
              "        requires_grad=True),\n",
              " tensor([[0.1111, 0.1111, 0.1111,  ..., 0.1111, 0.1111, 0.1111],\n",
              "         [0.1111, 0.1111, 0.1111,  ..., 0.1111, 0.1111, 0.1111],\n",
              "         [0.1111, 0.1111, 0.1111,  ..., 0.1111, 0.1111, 0.1111],\n",
              "         ...,\n",
              "         [0.1111, 0.1111, 0.1111,  ..., 0.1111, 0.1111, 0.1111],\n",
              "         [0.1111, 0.1111, 0.1111,  ..., 0.1111, 0.1111, 0.1111],\n",
              "         [0.1111, 0.1111, 0.1111,  ..., 0.1111, 0.1111, 0.1111]],\n",
              "        requires_grad=True),\n",
              " tensor([[0.1111, 0.1111, 0.1111,  ..., 0.1111, 0.1111, 0.1111],\n",
              "         [0.1111, 0.1111, 0.1111,  ..., 0.1111, 0.1111, 0.1111],\n",
              "         [0.1111, 0.1111, 0.1111,  ..., 0.1111, 0.1111, 0.1111],\n",
              "         ...,\n",
              "         [0.1111, 0.1111, 0.1111,  ..., 0.1111, 0.1111, 0.1111],\n",
              "         [0.1111, 0.1111, 0.1111,  ..., 0.1111, 0.1111, 0.1111],\n",
              "         [0.1111, 0.1111, 0.1111,  ..., 0.1111, 0.1111, 0.1111]],\n",
              "        requires_grad=True)]"
            ]
          },
          "metadata": {
            "tags": []
          },
          "execution_count": 8
        }
      ]
    },
    {
      "cell_type": "code",
      "metadata": {
        "id": "HbrMidFCla6h"
      },
      "source": [
        "class Module2(nn.Module):\n",
        "  def __init__(self):\n",
        "    super(Module2, self).__init__()\n",
        "    self.linear1 = nn.Linear(2,100)\n",
        "    self.linear2 = nn.Linear(100,3)\n",
        "\n",
        "  def forward(self,x):\n",
        "    x = F.relu(self.linear1(x))\n",
        "    x = self.linear2(x)\n",
        "    return x"
      ],
      "execution_count": 9,
      "outputs": []
    },
    {
      "cell_type": "code",
      "metadata": {
        "id": "rRqj2VELllkX"
      },
      "source": [
        "torch.manual_seed(1234)\n",
        "what_net = Module2().double()\n",
        "\n",
        "what_net.load_state_dict(torch.load(\"type4_what_net.pt\"))\n",
        "what_net = what_net.to(\"cuda\")"
      ],
      "execution_count": 10,
      "outputs": []
    },
    {
      "cell_type": "code",
      "metadata": {
        "id": "sAY-x6UAwrwE"
      },
      "source": [
        "for param in what_net.parameters():\n",
        "    param.requires_grad = False"
      ],
      "execution_count": 11,
      "outputs": []
    },
    {
      "cell_type": "code",
      "metadata": {
        "id": "S633XgMToeN3"
      },
      "source": [
        "optim1 = []\n",
        "for i in range(n_batches):\n",
        "  optim1.append(optim.RMSprop([bg[i]],lr=0.1))"
      ],
      "execution_count": 12,
      "outputs": []
    },
    {
      "cell_type": "code",
      "metadata": {
        "colab": {
          "base_uri": "https://localhost:8080/"
        },
        "id": "qPaYaojinMTA",
        "outputId": "0b389eda-f693-4e23-a458-37db688a9d7e"
      },
      "source": [
        "# instantiate optimizer\n",
        "#optimizer_what = optim.RMSprop(what_net.parameters(), lr=0.001)#, momentum=0.9)#,nesterov=True)\n",
        "\n",
        "\n",
        " \n",
        "\n",
        "\n",
        "criterion = nn.CrossEntropyLoss()\n",
        "acti = []\n",
        "analysis_data_tr = []\n",
        "analysis_data_tst = []\n",
        "loss_curi_tr = []\n",
        "loss_curi_tst = []\n",
        "epochs = 200\n",
        "\n",
        "\n",
        "# calculate zeroth epoch loss and FTPT values  \n",
        "\n",
        "# call to calculate_attn_loss need to make sure batch size is correct in utils file\n",
        "running_loss,anlys_data,correct,total,accuracy = calculate_attn_loss(train_loader,bg,what_net,criterion)\n",
        "print('training epoch: [%d ] loss: %.3f correct: %.3f, total: %.3f, accuracy: %.3f' %(0,running_loss,correct,total,accuracy)) \n",
        "loss_curi_tr.append(running_loss)\n",
        "analysis_data_tr.append(anlys_data)\n",
        "\n",
        "\n",
        "\n",
        "\n",
        "# training starts \n",
        "for epoch in range(epochs): # loop over the dataset multiple times\n",
        "  ep_lossi = []\n",
        "  running_loss = 0.0\n",
        "  #what_net.train()\n",
        "  for i, data in enumerate(train_loader, 0):\n",
        "    # get the inputs\n",
        "    inputs, labels,_  = data\n",
        "    inputs = inputs.double()\n",
        "    beta = bg[i] # alpha for ith batch\n",
        "    #print(labels)\n",
        "    inputs, labels,beta = inputs.to(\"cuda\"),labels.to(\"cuda\"),beta.to(\"cuda\")\n",
        "        \n",
        "    # zero the parameter gradients\n",
        "    #optimizer_what.zero_grad()\n",
        "    optim1[i].zero_grad()\n",
        "      \n",
        "    # forward + backward + optimize\n",
        "    avg,alpha = attn_avg(inputs,beta)\n",
        "    outputs = what_net(avg)     \n",
        "    loss = criterion(outputs, labels)\n",
        "\n",
        "    # print statistics\n",
        "    running_loss += loss.item()\n",
        "    #alpha.retain_grad()\n",
        "    loss.backward(retain_graph=False)\n",
        "    #optimizer_what.step()\n",
        "    optim1[i].step()\n",
        "\n",
        "\n",
        "  running_loss_tr,anls_data,correct,total,accuracy = calculate_attn_loss(train_loader,bg,what_net,criterion)\n",
        "  analysis_data_tr.append(anls_data)\n",
        "  loss_curi_tr.append(running_loss_tr)   #loss per epoch\n",
        "  print('training epoch: [%d ] loss: %.3f correct: %.3f, total: %.3f, accuracy: %.3f' %(epoch+1,running_loss_tr,correct,total,accuracy)) \n",
        "\n",
        "\n",
        "  \n",
        "  if running_loss_tr<=0.08:\n",
        "    break\n",
        "print('Finished Training run ')\n",
        "analysis_data_tr = np.array(analysis_data_tr)\n",
        "\n"
      ],
      "execution_count": 13,
      "outputs": [
        {
          "output_type": "stream",
          "text": [
            "training epoch: [0 ] loss: 7.782 correct: 1144.000, total: 3000.000, accuracy: 0.381\n",
            "training epoch: [1 ] loss: 2.018 correct: 2182.000, total: 3000.000, accuracy: 0.727\n",
            "training epoch: [2 ] loss: 0.098 correct: 2913.000, total: 3000.000, accuracy: 0.971\n",
            "training epoch: [3 ] loss: 0.038 correct: 2973.000, total: 3000.000, accuracy: 0.991\n",
            "Finished Training run \n"
          ],
          "name": "stdout"
        }
      ]
    },
    {
      "cell_type": "code",
      "metadata": {
        "id": "AciJnAh5nfug"
      },
      "source": [
        "columns = [\"epochs\", \"argmax > 0.5\" ,\"argmax < 0.5\", \"focus_true_pred_true\", \"focus_false_pred_true\", \"focus_true_pred_false\", \"focus_false_pred_false\" ]\n",
        "df_train = pd.DataFrame()\n",
        "df_test = pd.DataFrame()\n",
        "df_train[columns[0]] = np.arange(0,epoch+2)\n",
        "df_train[columns[1]] = analysis_data_tr[:,-2]/30\n",
        "df_train[columns[2]] = analysis_data_tr[:,-1]/30\n",
        "df_train[columns[3]] = analysis_data_tr[:,0]/30\n",
        "df_train[columns[4]] = analysis_data_tr[:,1]/30\n",
        "df_train[columns[5]] = analysis_data_tr[:,2]/30\n",
        "df_train[columns[6]] = analysis_data_tr[:,3]/30"
      ],
      "execution_count": 14,
      "outputs": []
    },
    {
      "cell_type": "code",
      "metadata": {
        "colab": {
          "base_uri": "https://localhost:8080/",
          "height": 210
        },
        "id": "NoQpS_6scRsC",
        "outputId": "804d0e6a-1114-4237-e7bd-900e42cbab44"
      },
      "source": [
        "df_train"
      ],
      "execution_count": 15,
      "outputs": [
        {
          "output_type": "execute_result",
          "data": {
            "text/html": [
              "<div>\n",
              "<style scoped>\n",
              "    .dataframe tbody tr th:only-of-type {\n",
              "        vertical-align: middle;\n",
              "    }\n",
              "\n",
              "    .dataframe tbody tr th {\n",
              "        vertical-align: top;\n",
              "    }\n",
              "\n",
              "    .dataframe thead th {\n",
              "        text-align: right;\n",
              "    }\n",
              "</style>\n",
              "<table border=\"1\" class=\"dataframe\">\n",
              "  <thead>\n",
              "    <tr style=\"text-align: right;\">\n",
              "      <th></th>\n",
              "      <th>epochs</th>\n",
              "      <th>argmax &gt; 0.5</th>\n",
              "      <th>argmax &lt; 0.5</th>\n",
              "      <th>focus_true_pred_true</th>\n",
              "      <th>focus_false_pred_true</th>\n",
              "      <th>focus_true_pred_false</th>\n",
              "      <th>focus_false_pred_false</th>\n",
              "    </tr>\n",
              "  </thead>\n",
              "  <tbody>\n",
              "    <tr>\n",
              "      <th>0</th>\n",
              "      <td>0</td>\n",
              "      <td>0.000000</td>\n",
              "      <td>100.000000</td>\n",
              "      <td>4.666667</td>\n",
              "      <td>33.466667</td>\n",
              "      <td>7.033333</td>\n",
              "      <td>54.833333</td>\n",
              "    </tr>\n",
              "    <tr>\n",
              "      <th>1</th>\n",
              "      <td>1</td>\n",
              "      <td>0.000000</td>\n",
              "      <td>100.000000</td>\n",
              "      <td>0.366667</td>\n",
              "      <td>72.366667</td>\n",
              "      <td>2.566667</td>\n",
              "      <td>24.700000</td>\n",
              "    </tr>\n",
              "    <tr>\n",
              "      <th>2</th>\n",
              "      <td>2</td>\n",
              "      <td>0.600000</td>\n",
              "      <td>99.400000</td>\n",
              "      <td>15.800000</td>\n",
              "      <td>81.300000</td>\n",
              "      <td>1.833333</td>\n",
              "      <td>1.066667</td>\n",
              "    </tr>\n",
              "    <tr>\n",
              "      <th>3</th>\n",
              "      <td>3</td>\n",
              "      <td>1.166667</td>\n",
              "      <td>98.833333</td>\n",
              "      <td>16.766667</td>\n",
              "      <td>82.333333</td>\n",
              "      <td>0.500000</td>\n",
              "      <td>0.400000</td>\n",
              "    </tr>\n",
              "  </tbody>\n",
              "</table>\n",
              "</div>"
            ],
            "text/plain": [
              "   epochs  argmax > 0.5  ...  focus_true_pred_false  focus_false_pred_false\n",
              "0       0      0.000000  ...               7.033333               54.833333\n",
              "1       1      0.000000  ...               2.566667               24.700000\n",
              "2       2      0.600000  ...               1.833333                1.066667\n",
              "3       3      1.166667  ...               0.500000                0.400000\n",
              "\n",
              "[4 rows x 7 columns]"
            ]
          },
          "metadata": {
            "tags": []
          },
          "execution_count": 15
        }
      ]
    },
    {
      "cell_type": "code",
      "metadata": {
        "colab": {
          "base_uri": "https://localhost:8080/",
          "height": 421
        },
        "id": "IMAhRdxOcVf6",
        "outputId": "288e1e01-8d99-4773-bf06-86915578207c"
      },
      "source": [
        "%cd /content/\n",
        "plot_analysis(df_train,columns,[0,1,2,3])"
      ],
      "execution_count": 21,
      "outputs": [
        {
          "output_type": "stream",
          "text": [
            "/content\n"
          ],
          "name": "stdout"
        },
        {
          "output_type": "display_data",
          "data": {
            "image/png": "[encoded data removed]",
            "text/plain": [
              "<Figure size 432x432 with 1 Axes>"
            ]
          },
          "metadata": {
            "tags": [],
            "needs_background": "light"
          }
        }
      ]
    },
    {
      "cell_type": "code",
      "metadata": {
        "id": "VCnS6r2_3WdU"
      },
      "source": [
        "aph = []\n",
        "for i in bg:\n",
        "  aph.append(F.softmax(i,dim=1).detach().numpy())\n",
        "aph = np.concatenate(aph,axis=0)\n",
        "# torch.save({\n",
        "#             'epoch': 500,\n",
        "#             'model_state_dict': what_net.state_dict(),\n",
        "#             #'optimizer_state_dict': optimizer_what.state_dict(),\n",
        "#             \"optimizer_alpha\":optim1,\n",
        "#             \"FTPT_analysis\":analysis_data_tr,\n",
        "#             \"alpha\":aph\n",
        "\n",
        "#             }, \"type4_what_net_500.pt\")"
      ],
      "execution_count": 17,
      "outputs": []
    },
    {
      "cell_type": "code",
      "metadata": {
        "colab": {
          "base_uri": "https://localhost:8080/"
        },
        "id": "KVzrDOGS4UxU",
        "outputId": "679005b4-6b69-4032-8730-2229be7a0931"
      },
      "source": [
        "aph[0]"
      ],
      "execution_count": 18,
      "outputs": [
        {
          "output_type": "execute_result",
          "data": {
            "text/plain": [
              "array([0.04543521, 0.34098977, 0.04580673, 0.33721402, 0.04632312,\n",
              "       0.04585149, 0.04623527, 0.04582195, 0.04632249], dtype=float32)"
            ]
          },
          "metadata": {
            "tags": []
          },
          "execution_count": 18
        }
      ]
    },
    {
      "cell_type": "code",
      "metadata": {
        "id": "7Ut6ZTAXbvqx"
      },
      "source": [
        "avrg = []\n",
        "avrg_lbls = []\n",
        "with torch.no_grad():\n",
        "  for i, data in  enumerate(train_loader):\n",
        "          inputs , labels , fore_idx = data\n",
        "          inputs = inputs.double()\n",
        "          inputs = inputs.to(\"cuda\")\n",
        "          beta  = bg[i]\n",
        "          beta = beta.to(\"cuda\")\n",
        "          avg,alpha = attn_avg(inputs,beta)\n",
        "          \n",
        "          avrg_lbls.append(labels.numpy())\n",
        "          avrg.append(avg.detach().cpu().numpy())\n",
        "avrg= np.concatenate(avrg,axis=0)\n",
        "avrg_lbls = np.concatenate(avrg_lbls,axis=0)"
      ],
      "execution_count": 19,
      "outputs": []
    },
    {
      "cell_type": "code",
      "metadata": {
        "id": "6KHn17Rbceqt",
        "colab": {
          "base_uri": "https://localhost:8080/",
          "height": 408
        },
        "outputId": "a3aefeb7-eba1-4be0-c318-68aca8310b76"
      },
      "source": [
        "%cd /content/drive/MyDrive/Neural_Tangent_Kernel/\n",
        "data = np.load(\"type_4_data.npy\",allow_pickle=True)\n",
        "%cd /content/\n",
        "plot_decision_boundary(what_net,[1,8,2,9],data,bg,avrg,avrg_lbls)"
      ],
      "execution_count": 20,
      "outputs": [
        {
          "output_type": "stream",
          "text": [
            "/content/drive/MyDrive/Neural_Tangent_Kernel\n",
            "/content\n"
          ],
          "name": "stdout"
        },
        {
          "output_type": "display_data",
          "data": {
            "image/png": "[encoded data removed]",
            "text/plain": [
              "<Figure size 432x432 with 1 Axes>"
            ]
          },
          "metadata": {
            "tags": [],
            "needs_background": "light"
          }
        }
      ]
    },
    {
      "cell_type": "code",
      "metadata": {
        "id": "_210Dg1eAJdE"
      },
      "source": [
        ""
      ],
      "execution_count": 20,
      "outputs": []
    }
  ]
}