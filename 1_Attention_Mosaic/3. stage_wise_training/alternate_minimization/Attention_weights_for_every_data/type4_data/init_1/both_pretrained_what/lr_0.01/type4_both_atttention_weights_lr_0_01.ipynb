{
  "nbformat": 4,
  "nbformat_minor": 0,
  "metadata": {
    "accelerator": "GPU",
    "colab": {
      "name": "type4_both_atttention_weights_lr_0_01.ipynb",
      "provenance": [],
      "collapsed_sections": []
    },
    "kernelspec": {
      "display_name": "Python 3",
      "name": "python3"
    },
    "language_info": {
      "name": "python"
    }
  },
  "cells": [
    {
      "cell_type": "code",
      "metadata": {
        "id": "BWIyC9Ip_bcq"
      },
      "source": [
        "import numpy as np\n",
        "import pandas as pd\n",
        "\n",
        "import torch\n",
        "import torchvision\n",
        "from torch.utils.data import Dataset, DataLoader\n",
        "from torchvision import transforms, utils\n",
        "import torch.nn as nn\n",
        "import torch.nn.functional as F\n",
        "import torch.optim as optim\n",
        "\n",
        "from matplotlib import pyplot as plt\n",
        "%matplotlib inline\n",
        "torch.backends.cudnn.deterministic = True\n",
        "torch.backends.cudnn.benchmark = False"
      ],
      "execution_count": 1,
      "outputs": []
    },
    {
      "cell_type": "code",
      "metadata": {
        "id": "lGVy-1EllAc_"
      },
      "source": [
        "train_data = np.load(\"train_type4_data.npy\",allow_pickle=True)\n",
        "\n",
        "test_data = np.load(\"test_type4_data.npy\",allow_pickle=True)"
      ],
      "execution_count": 2,
      "outputs": []
    },
    {
      "cell_type": "code",
      "metadata": {
        "id": "uL771xuGZC5Q"
      },
      "source": [
        "mosaic_list_of_images = train_data[0][\"mosaic_list\"]\n",
        "mosaic_label = train_data[0][\"mosaic_label\"]\n",
        "fore_idx = train_data[0][\"fore_idx\"]\n",
        "\n",
        "\n",
        "test_mosaic_list_of_images = test_data[0][\"mosaic_list\"]\n",
        "test_mosaic_label = test_data[0][\"mosaic_label\"]\n",
        "test_fore_idx = test_data[0][\"fore_idx\"]"
      ],
      "execution_count": 3,
      "outputs": []
    },
    {
      "cell_type": "code",
      "metadata": {
        "id": "x2qfRXfNZCao"
      },
      "source": [
        "class MosaicDataset1(Dataset):\n",
        "  \"\"\"MosaicDataset dataset.\"\"\"\n",
        "\n",
        "  def __init__(self, mosaic_list, mosaic_label,fore_idx):\n",
        "    \"\"\"\n",
        "      Args:\n",
        "        csv_file (string): Path to the csv file with annotations.\n",
        "        root_dir (string): Directory with all the images.\n",
        "        transform (callable, optional): Optional transform to be applied\n",
        "            on a sample.\n",
        "    \"\"\"\n",
        "    self.mosaic = mosaic_list\n",
        "    self.label = mosaic_label\n",
        "    self.fore_idx = fore_idx\n",
        "    \n",
        "  def __len__(self):\n",
        "    return len(self.label)\n",
        "\n",
        "  def __getitem__(self, idx):\n",
        "    return self.mosaic[idx] , self.label[idx] , self.fore_idx[idx]"
      ],
      "execution_count": 4,
      "outputs": []
    },
    {
      "cell_type": "code",
      "metadata": {
        "id": "uf76JwkxZCT0"
      },
      "source": [
        "batch = 250\n",
        "train_dataset = MosaicDataset1(mosaic_list_of_images, mosaic_label, fore_idx)\n",
        "train_loader = DataLoader( train_dataset,batch_size= batch ,shuffle=False)\n",
        "test_dataset = MosaicDataset1(test_mosaic_list_of_images, test_mosaic_label, test_fore_idx)\n",
        "test_loader = DataLoader(test_dataset,batch_size= batch ,shuffle=False)"
      ],
      "execution_count": 5,
      "outputs": []
    },
    {
      "cell_type": "code",
      "metadata": {
        "id": "DOpZfj1bq7wN"
      },
      "source": [
        "bg = []\n",
        "for i in range(12):\n",
        "  torch.manual_seed(i)\n",
        "  betag = torch.randn(250,9)#torch.ones((250,9))/9\n",
        "  bg.append( betag.requires_grad_() )"
      ],
      "execution_count": 6,
      "outputs": []
    },
    {
      "cell_type": "code",
      "metadata": {
        "colab": {
          "base_uri": "https://localhost:8080/"
        },
        "id": "fzb3ii4drXpu",
        "outputId": "1ba62f3f-b40f-4f31-971d-7367cdcbd445"
      },
      "source": [
        "bg"
      ],
      "execution_count": 7,
      "outputs": [
        {
          "output_type": "execute_result",
          "data": {
            "text/plain": [
              "[tensor([[-1.1258, -1.1524, -0.2506,  ..., -0.3160, -2.1152,  0.3223],\n",
              "         [-1.2633,  0.3500,  0.3081,  ..., -0.2473, -1.3527, -1.6959],\n",
              "         [ 0.5667,  0.7935,  0.5988,  ...,  0.7502, -0.5855, -0.1734],\n",
              "         ...,\n",
              "         [ 0.8374, -0.7942, -0.3622,  ...,  0.0121,  0.8032, -0.6962],\n",
              "         [-1.0645,  0.2384, -0.3385,  ...,  0.9635, -1.0340,  0.1894],\n",
              "         [ 0.8253,  1.1038, -1.2491,  ..., -0.5940, -1.7125,  0.3617]],\n",
              "        requires_grad=True),\n",
              " tensor([[-1.5256, -0.7502, -0.6540,  ..., -0.9798, -1.6091, -0.7121],\n",
              "         [ 0.3037, -0.7773, -0.2515,  ...,  0.4676, -0.6970, -1.1608],\n",
              "         [ 0.6995,  0.1991,  0.8657,  ...,  1.1017, -0.1759, -2.2456],\n",
              "         ...,\n",
              "         [-0.4302,  0.1508,  0.6937,  ...,  0.0314,  2.6645,  0.1189],\n",
              "         [ 1.4484, -0.0213, -1.3367,  ...,  0.6279, -1.4719, -1.0291],\n",
              "         [ 0.9081, -1.2433,  1.6062,  ..., -0.1177, -0.5548, -0.0595]],\n",
              "        requires_grad=True),\n",
              " tensor([[-1.0408,  0.9166, -1.3042,  ..., -1.0574, -0.1188, -0.9078],\n",
              "         [ 0.3452, -0.5713, -0.2351,  ..., -0.4327, -1.5071, -0.4586],\n",
              "         [-0.8480,  0.5266,  0.0299,  ...,  0.4640, -0.4986,  0.1289],\n",
              "         ...,\n",
              "         [ 1.5719,  1.0154, -2.1620,  ..., -1.0790,  1.5801, -1.6557],\n",
              "         [-1.1613,  0.3672, -0.3078,  ..., -1.2456, -0.1125,  0.6222],\n",
              "         [ 0.4521, -0.2505,  2.3728,  ..., -0.1377, -0.8815, -0.1671]],\n",
              "        requires_grad=True),\n",
              " tensor([[-0.0766,  0.3599, -0.7820,  ...,  1.6206, -1.5967, -0.0517],\n",
              "         [-0.3060,  0.2485, -0.2226,  ...,  0.4163,  0.2615,  0.9311],\n",
              "         [-0.5145, -1.6517,  1.0460,  ...,  0.5638,  2.2566,  1.8693],\n",
              "         ...,\n",
              "         [ 2.1181,  0.1464, -0.0447,  ...,  1.3816,  0.4975,  0.2814],\n",
              "         [-0.7639, -1.4938, -1.1430,  ...,  0.6355,  0.6700,  1.5335],\n",
              "         [-0.0191, -0.3568,  0.4536,  ..., -0.9493,  2.0439, -0.3827]],\n",
              "        requires_grad=True),\n",
              " tensor([[-0.9414,  1.2632, -0.1838,  ..., -2.6021,  0.6245, -0.8684],\n",
              "         [-0.2051,  0.3976,  0.6699,  ..., -2.1205,  1.5191, -0.6682],\n",
              "         [ 0.0031, -0.1535,  1.1396,  ..., -0.7588, -0.1853, -0.8558],\n",
              "         ...,\n",
              "         [ 1.6794, -0.5509,  0.4118,  ...,  0.9084, -0.8626, -0.6553],\n",
              "         [ 0.6058, -0.5888,  0.9448,  ...,  0.0072, -0.2579,  1.7659],\n",
              "         [-1.2965,  0.2970, -0.5833,  ...,  1.7838, -0.4794,  0.5579]],\n",
              "        requires_grad=True),\n",
              " tensor([[ 1.8423,  0.5189, -1.7119,  ..., -0.1307, -1.4374,  0.3908],\n",
              "         [-0.0190, -1.3527, -0.7308,  ..., -0.7823,  2.7799,  1.2220],\n",
              "         [-0.3364, -0.9651, -0.1297,  ..., -0.4374,  0.7792, -0.0583],\n",
              "         ...,\n",
              "         [ 0.6700, -0.5400,  0.2353,  ..., -1.0840, -0.6141, -0.0155],\n",
              "         [ 0.4779, -0.4648, -0.1366,  ...,  0.1162,  3.0351, -0.2885],\n",
              "         [-0.6777, -0.1373, -0.7330,  ...,  0.6185, -0.3036, -1.0850]],\n",
              "        requires_grad=True),\n",
              " tensor([[-1.2113,  0.6304, -1.4713,  ...,  0.3295,  0.3264, -0.4806],\n",
              "         [ 1.1032,  2.5485,  0.3006,  ..., -1.6279, -1.4801, -1.0631],\n",
              "         [ 0.3630,  0.3995,  0.1457,  ..., -1.3437,  0.8535,  0.8811],\n",
              "         ...,\n",
              "         [-0.5519,  0.2253,  0.4891,  ..., -0.0110, -0.6023, -0.7230],\n",
              "         [-1.1593, -0.6551,  1.6578,  ...,  0.4795, -1.3562,  0.2920],\n",
              "         [ 0.3474, -0.9874, -0.0130,  ...,  0.6061,  0.8639, -0.9552]],\n",
              "        requires_grad=True),\n",
              " tensor([[-0.8201,  0.3956,  0.8989,  ..., -0.6411, -0.8937,  0.9265],\n",
              "         [-0.5355, -1.1597, -0.4602,  ...,  1.0902, -1.5827, -0.3246],\n",
              "         [ 1.9264, -0.3300,  0.1984,  ..., -0.2093, -0.2153, -1.8157],\n",
              "         ...,\n",
              "         [-0.6910,  0.3328,  2.2102,  ..., -0.0383,  0.4400, -0.8350],\n",
              "         [-0.2194, -0.7611, -0.0921,  ..., -0.3143, -0.4196,  1.1570],\n",
              "         [-0.8934, -1.7705,  0.3805,  ...,  0.1963, -0.7307,  1.3581]],\n",
              "        requires_grad=True),\n",
              " tensor([[-1.1892,  1.3932,  2.1059,  ...,  2.1414,  0.1317, -0.6388],\n",
              "         [ 1.3384, -1.1908, -0.7601,  ..., -0.1051,  0.4414,  0.6590],\n",
              "         [-0.7585, -0.6001, -0.3948,  ..., -1.7526,  0.3920,  0.8295],\n",
              "         ...,\n",
              "         [-0.0557, -0.1032, -0.4624,  ..., -0.1339, -1.6662, -0.4955],\n",
              "         [ 1.0884, -0.4479, -0.0847,  ...,  1.7487, -1.6152, -1.8258],\n",
              "         [ 1.7062,  1.1041, -1.3736,  ..., -1.5244,  0.4869, -1.7420]],\n",
              "        requires_grad=True),\n",
              " tensor([[-1.0674, -0.7172,  1.0897,  ..., -0.7737, -2.4656,  0.9968],\n",
              "         [ 0.4524, -0.3464, -0.7245,  ...,  0.2331, -1.1433,  0.8289],\n",
              "         [ 0.9534,  0.2948,  1.5159,  ...,  0.3971,  0.4058, -0.5274],\n",
              "         ...,\n",
              "         [-0.3297, -0.3700,  1.9490,  ..., -0.0443,  1.8073, -0.6388],\n",
              "         [ 0.0977,  0.1862,  1.4303,  ..., -1.9735, -1.1663,  1.7066],\n",
              "         [-0.8396, -2.5271, -1.0791,  ...,  0.1053,  1.2463, -0.7709]],\n",
              "        requires_grad=True),\n",
              " tensor([[-0.8173, -0.5556, -0.8267,  ..., -0.5133,  2.6278, -0.7465],\n",
              "         [ 1.0051, -0.2568,  0.4765,  ..., -0.2496,  0.8298,  1.1209],\n",
              "         [ 0.9999,  1.1167,  1.0763,  ...,  0.0562,  0.2456,  0.9535],\n",
              "         ...,\n",
              "         [-1.0042, -0.7732,  0.9129,  ..., -0.4342,  1.3256, -0.6357],\n",
              "         [-0.5979,  1.2285,  1.0288,  ..., -1.4067,  0.2403,  0.5257],\n",
              "         [-1.7332, -0.2443,  0.1425,  ..., -0.9291,  1.4324, -0.2338]],\n",
              "        requires_grad=True),\n",
              " tensor([[-0.5108,  1.0283, -0.3532,  ...,  0.1421, -0.5243, -0.2487],\n",
              "         [-0.5252,  2.8922, -0.5947,  ..., -0.0080,  0.2479,  1.5727],\n",
              "         [-1.6395, -1.5925, -0.1546,  ..., -0.3935,  0.6171,  0.7528],\n",
              "         ...,\n",
              "         [-0.3538,  0.1294,  1.1873,  ..., -0.2866, -0.3111,  0.2674],\n",
              "         [ 1.7757, -0.1730,  0.6679,  ..., -0.2519,  0.8360, -0.4348],\n",
              "         [ 0.4242,  0.7649, -0.5807,  ..., -0.7654, -0.1086,  0.4636]],\n",
              "        requires_grad=True)]"
            ]
          },
          "metadata": {
            "tags": []
          },
          "execution_count": 7
        }
      ]
    },
    {
      "cell_type": "code",
      "metadata": {
        "id": "HbrMidFCla6h"
      },
      "source": [
        "class Module2(nn.Module):\n",
        "  def __init__(self):\n",
        "    super(Module2, self).__init__()\n",
        "    self.linear1 = nn.Linear(2,100)\n",
        "    self.linear2 = nn.Linear(100,3)\n",
        "\n",
        "  def forward(self,x):\n",
        "    x = F.relu(self.linear1(x))\n",
        "    x = self.linear2(x)\n",
        "    return x"
      ],
      "execution_count": 8,
      "outputs": []
    },
    {
      "cell_type": "code",
      "metadata": {
        "id": "rRqj2VELllkX"
      },
      "source": [
        "torch.manual_seed(1234)\n",
        "what_net = Module2().double()\n",
        "\n",
        "what_net.load_state_dict(torch.load(\"type4_what_net.pt\"))\n",
        "what_net = what_net.to(\"cuda\")"
      ],
      "execution_count": 9,
      "outputs": []
    },
    {
      "cell_type": "code",
      "metadata": {
        "id": "6d8Wch99l4yB"
      },
      "source": [
        "def attn_avg(x,beta):\n",
        "  y = torch.zeros([batch,2], dtype=torch.float64)\n",
        "  y = y.to(\"cuda\")\n",
        "  alpha = F.softmax(beta,dim=1)   # alphas\n",
        "  #print(alpha[0],x[0,:])\n",
        "  for i in range(9):            \n",
        "    alpha1 = alpha[:,i]      \n",
        "    y = y + torch.mul(alpha1[:,None],x[:,i])\n",
        "  return y,alpha\n"
      ],
      "execution_count": 10,
      "outputs": []
    },
    {
      "cell_type": "code",
      "metadata": {
        "id": "Rz1Kpw12loV6"
      },
      "source": [
        "def calculate_attn_loss(dataloader,what,criter):\n",
        "  what.eval()\n",
        "  r_loss = 0\n",
        "  alphas = []\n",
        "  lbls = []\n",
        "  pred = []\n",
        "  fidices = []\n",
        "  correct = 0\n",
        "  tot = 0\n",
        "  with torch.no_grad():\n",
        "    for i, data in enumerate(dataloader, 0):\n",
        "      inputs, labels,fidx= data\n",
        "      lbls.append(labels)\n",
        "      fidices.append(fidx)\n",
        "      inputs = inputs.double()\n",
        "      beta = bg[i]  # beta for ith batch\n",
        "      inputs, labels,beta = inputs.to(\"cuda\"),labels.to(\"cuda\"),beta.to(\"cuda\")\n",
        "      avg,alpha = attn_avg(inputs,beta)\n",
        "      alpha = alpha.to(\"cuda\")\n",
        "      outputs = what(avg)\n",
        "      _, predicted = torch.max(outputs.data, 1)\n",
        "      correct += sum(predicted == labels)\n",
        "      tot += len(predicted)\n",
        "      pred.append(predicted.cpu().numpy())\n",
        "      alphas.append(alpha.cpu().numpy())\n",
        "      loss = criter(outputs, labels)\n",
        "      r_loss += loss.item()\n",
        "  alphas = np.concatenate(alphas,axis=0)\n",
        "  pred = np.concatenate(pred,axis=0)\n",
        "  lbls = np.concatenate(lbls,axis=0)\n",
        "  fidices = np.concatenate(fidices,axis=0)\n",
        "  #print(alphas.shape,pred.shape,lbls.shape,fidices.shape) \n",
        "  analysis = analyse_data(alphas,lbls,pred,fidices)\n",
        "  return r_loss/i,analysis,correct.item(),tot,correct.item()/tot"
      ],
      "execution_count": 11,
      "outputs": []
    },
    {
      "cell_type": "code",
      "metadata": {
        "id": "sAY-x6UAwrwE"
      },
      "source": [
        "# for param in what_net.parameters():\n",
        "#     param.requires_grad = False"
      ],
      "execution_count": 12,
      "outputs": []
    },
    {
      "cell_type": "code",
      "metadata": {
        "id": "_toCktPanH0S"
      },
      "source": [
        "\n",
        "def analyse_data(alphas,lbls,predicted,f_idx):\n",
        "    '''\n",
        "       analysis data is created here\n",
        "    '''\n",
        "    batch = len(predicted)\n",
        "    amth,alth,ftpt,ffpt,ftpf,ffpf = 0,0,0,0,0,0\n",
        "    for j in range (batch):\n",
        "      focus = np.argmax(alphas[j])\n",
        "      if(alphas[j][focus] >= 0.5):\n",
        "        amth +=1\n",
        "      else:\n",
        "        alth +=1\n",
        "      if(focus == f_idx[j] and predicted[j] == lbls[j]):\n",
        "        ftpt += 1\n",
        "      elif(focus != f_idx[j] and predicted[j] == lbls[j]):\n",
        "        ffpt +=1\n",
        "      elif(focus == f_idx[j] and predicted[j] != lbls[j]):\n",
        "        ftpf +=1\n",
        "      elif(focus != f_idx[j] and predicted[j] != lbls[j]):\n",
        "        ffpf +=1\n",
        "    #print(sum(predicted==lbls),ftpt+ffpt)\n",
        "    return [ftpt,ffpt,ftpf,ffpf,amth,alth]"
      ],
      "execution_count": 13,
      "outputs": []
    },
    {
      "cell_type": "code",
      "metadata": {
        "id": "S633XgMToeN3"
      },
      "source": [
        "optim1 = []\n",
        "for i in range(12):\n",
        "  optim1.append(optim.RMSprop([bg[i]], lr=0.01))"
      ],
      "execution_count": 14,
      "outputs": []
    },
    {
      "cell_type": "code",
      "metadata": {
        "colab": {
          "base_uri": "https://localhost:8080/"
        },
        "id": "qPaYaojinMTA",
        "outputId": "2b0bf891-bb70-4dbb-d2da-95c339b56cc8"
      },
      "source": [
        "# instantiate optimizer\n",
        "optimizer_what = optim.RMSprop(what_net.parameters(), lr=0.001)#, momentum=0.9)#,nesterov=True)\n",
        "\n",
        "\n",
        " \n",
        "\n",
        "\n",
        "criterion = nn.CrossEntropyLoss()\n",
        "acti = []\n",
        "analysis_data_tr = []\n",
        "analysis_data_tst = []\n",
        "loss_curi_tr = []\n",
        "loss_curi_tst = []\n",
        "epochs = 200\n",
        "\n",
        "\n",
        "# calculate zeroth epoch loss and FTPT values\n",
        "running_loss,anlys_data,correct,total,accuracy = calculate_attn_loss(train_loader,what_net,criterion)\n",
        "print('training epoch: [%d ] loss: %.3f correct: %.3f, total: %.3f, accuracy: %.3f' %(0,running_loss,correct,total,accuracy)) \n",
        "loss_curi_tr.append(running_loss)\n",
        "analysis_data_tr.append(anlys_data)\n",
        "\n",
        "\n",
        "\n",
        "\n",
        "# training starts \n",
        "for epoch in range(epochs): # loop over the dataset multiple times\n",
        "  ep_lossi = []\n",
        "  running_loss = 0.0\n",
        "  what_net.train()\n",
        "  for i, data in enumerate(train_loader, 0):\n",
        "    # get the inputs\n",
        "    inputs, labels,_  = data\n",
        "    inputs = inputs.double()\n",
        "    beta = bg[i] # alpha for ith batch\n",
        "    #print(labels)\n",
        "    inputs, labels,beta = inputs.to(\"cuda\"),labels.to(\"cuda\"),beta.to(\"cuda\")\n",
        "        \n",
        "    # zero the parameter gradients\n",
        "    optimizer_what.zero_grad()\n",
        "    optim1[i].zero_grad()\n",
        "      \n",
        "    # forward + backward + optimize\n",
        "    avg,alpha = attn_avg(inputs,beta)\n",
        "    outputs = what_net(avg)     \n",
        "    loss = criterion(outputs, labels)\n",
        "\n",
        "    # print statistics\n",
        "    running_loss += loss.item()\n",
        "    #alpha.retain_grad()\n",
        "    loss.backward(retain_graph=False)\n",
        "    optimizer_what.step()\n",
        "    optim1[i].step()\n",
        "\n",
        "\n",
        "  running_loss_tr,anls_data,correct,total,accuracy = calculate_attn_loss(train_loader,what_net,criterion)\n",
        "  analysis_data_tr.append(anls_data)\n",
        "  loss_curi_tr.append(running_loss_tr)   #loss per epoch\n",
        "  print('training epoch: [%d ] loss: %.3f correct: %.3f, total: %.3f, accuracy: %.3f' %(epoch+1,running_loss_tr,correct,total,accuracy)) \n",
        "\n",
        "\n",
        "  \n",
        "  if running_loss_tr<=0.08:\n",
        "    break\n",
        "print('Finished Training run ')\n",
        "analysis_data_tr = np.array(analysis_data_tr)\n",
        "\n"
      ],
      "execution_count": 15,
      "outputs": [
        {
          "output_type": "stream",
          "text": [
            "training epoch: [0 ] loss: 11.326 correct: 1101.000, total: 3000.000, accuracy: 0.367\n",
            "training epoch: [1 ] loss: 5.610 correct: 1346.000, total: 3000.000, accuracy: 0.449\n",
            "training epoch: [2 ] loss: 3.492 correct: 1426.000, total: 3000.000, accuracy: 0.475\n",
            "training epoch: [3 ] loss: 2.503 correct: 1496.000, total: 3000.000, accuracy: 0.499\n",
            "training epoch: [4 ] loss: 1.977 correct: 1527.000, total: 3000.000, accuracy: 0.509\n",
            "training epoch: [5 ] loss: 1.679 correct: 1549.000, total: 3000.000, accuracy: 0.516\n",
            "training epoch: [6 ] loss: 1.499 correct: 1592.000, total: 3000.000, accuracy: 0.531\n",
            "training epoch: [7 ] loss: 1.375 correct: 1611.000, total: 3000.000, accuracy: 0.537\n",
            "training epoch: [8 ] loss: 1.287 correct: 1627.000, total: 3000.000, accuracy: 0.542\n",
            "training epoch: [9 ] loss: 1.219 correct: 1646.000, total: 3000.000, accuracy: 0.549\n",
            "training epoch: [10 ] loss: 1.164 correct: 1664.000, total: 3000.000, accuracy: 0.555\n",
            "training epoch: [11 ] loss: 1.117 correct: 1692.000, total: 3000.000, accuracy: 0.564\n",
            "training epoch: [12 ] loss: 1.077 correct: 1708.000, total: 3000.000, accuracy: 0.569\n",
            "training epoch: [13 ] loss: 1.044 correct: 1724.000, total: 3000.000, accuracy: 0.575\n",
            "training epoch: [14 ] loss: 1.014 correct: 1741.000, total: 3000.000, accuracy: 0.580\n",
            "training epoch: [15 ] loss: 0.987 correct: 1763.000, total: 3000.000, accuracy: 0.588\n",
            "training epoch: [16 ] loss: 0.962 correct: 1782.000, total: 3000.000, accuracy: 0.594\n",
            "training epoch: [17 ] loss: 0.940 correct: 1790.000, total: 3000.000, accuracy: 0.597\n",
            "training epoch: [18 ] loss: 0.919 correct: 1812.000, total: 3000.000, accuracy: 0.604\n",
            "training epoch: [19 ] loss: 0.901 correct: 1815.000, total: 3000.000, accuracy: 0.605\n",
            "training epoch: [20 ] loss: 0.883 correct: 1825.000, total: 3000.000, accuracy: 0.608\n",
            "training epoch: [21 ] loss: 0.867 correct: 1841.000, total: 3000.000, accuracy: 0.614\n",
            "training epoch: [22 ] loss: 0.851 correct: 1849.000, total: 3000.000, accuracy: 0.616\n",
            "training epoch: [23 ] loss: 0.837 correct: 1862.000, total: 3000.000, accuracy: 0.621\n",
            "training epoch: [24 ] loss: 0.823 correct: 1887.000, total: 3000.000, accuracy: 0.629\n",
            "training epoch: [25 ] loss: 0.809 correct: 1895.000, total: 3000.000, accuracy: 0.632\n",
            "training epoch: [26 ] loss: 0.796 correct: 1911.000, total: 3000.000, accuracy: 0.637\n",
            "training epoch: [27 ] loss: 0.784 correct: 1918.000, total: 3000.000, accuracy: 0.639\n",
            "training epoch: [28 ] loss: 0.772 correct: 1929.000, total: 3000.000, accuracy: 0.643\n",
            "training epoch: [29 ] loss: 0.761 correct: 1945.000, total: 3000.000, accuracy: 0.648\n",
            "training epoch: [30 ] loss: 0.750 correct: 1965.000, total: 3000.000, accuracy: 0.655\n",
            "training epoch: [31 ] loss: 0.739 correct: 1973.000, total: 3000.000, accuracy: 0.658\n",
            "training epoch: [32 ] loss: 0.729 correct: 1986.000, total: 3000.000, accuracy: 0.662\n",
            "training epoch: [33 ] loss: 0.718 correct: 1994.000, total: 3000.000, accuracy: 0.665\n",
            "training epoch: [34 ] loss: 0.708 correct: 2010.000, total: 3000.000, accuracy: 0.670\n",
            "training epoch: [35 ] loss: 0.698 correct: 2020.000, total: 3000.000, accuracy: 0.673\n",
            "training epoch: [36 ] loss: 0.689 correct: 2031.000, total: 3000.000, accuracy: 0.677\n",
            "training epoch: [37 ] loss: 0.680 correct: 2041.000, total: 3000.000, accuracy: 0.680\n",
            "training epoch: [38 ] loss: 0.671 correct: 2053.000, total: 3000.000, accuracy: 0.684\n",
            "training epoch: [39 ] loss: 0.662 correct: 2066.000, total: 3000.000, accuracy: 0.689\n",
            "training epoch: [40 ] loss: 0.653 correct: 2074.000, total: 3000.000, accuracy: 0.691\n",
            "training epoch: [41 ] loss: 0.644 correct: 2075.000, total: 3000.000, accuracy: 0.692\n",
            "training epoch: [42 ] loss: 0.636 correct: 2087.000, total: 3000.000, accuracy: 0.696\n",
            "training epoch: [43 ] loss: 0.627 correct: 2098.000, total: 3000.000, accuracy: 0.699\n",
            "training epoch: [44 ] loss: 0.619 correct: 2104.000, total: 3000.000, accuracy: 0.701\n",
            "training epoch: [45 ] loss: 0.611 correct: 2116.000, total: 3000.000, accuracy: 0.705\n",
            "training epoch: [46 ] loss: 0.603 correct: 2122.000, total: 3000.000, accuracy: 0.707\n",
            "training epoch: [47 ] loss: 0.596 correct: 2135.000, total: 3000.000, accuracy: 0.712\n",
            "training epoch: [48 ] loss: 0.588 correct: 2146.000, total: 3000.000, accuracy: 0.715\n",
            "training epoch: [49 ] loss: 0.581 correct: 2159.000, total: 3000.000, accuracy: 0.720\n",
            "training epoch: [50 ] loss: 0.574 correct: 2171.000, total: 3000.000, accuracy: 0.724\n",
            "training epoch: [51 ] loss: 0.567 correct: 2193.000, total: 3000.000, accuracy: 0.731\n",
            "training epoch: [52 ] loss: 0.560 correct: 2202.000, total: 3000.000, accuracy: 0.734\n",
            "training epoch: [53 ] loss: 0.554 correct: 2217.000, total: 3000.000, accuracy: 0.739\n",
            "training epoch: [54 ] loss: 0.547 correct: 2228.000, total: 3000.000, accuracy: 0.743\n",
            "training epoch: [55 ] loss: 0.541 correct: 2241.000, total: 3000.000, accuracy: 0.747\n",
            "training epoch: [56 ] loss: 0.535 correct: 2260.000, total: 3000.000, accuracy: 0.753\n",
            "training epoch: [57 ] loss: 0.528 correct: 2264.000, total: 3000.000, accuracy: 0.755\n",
            "training epoch: [58 ] loss: 0.522 correct: 2281.000, total: 3000.000, accuracy: 0.760\n",
            "training epoch: [59 ] loss: 0.516 correct: 2290.000, total: 3000.000, accuracy: 0.763\n",
            "training epoch: [60 ] loss: 0.510 correct: 2299.000, total: 3000.000, accuracy: 0.766\n",
            "training epoch: [61 ] loss: 0.505 correct: 2312.000, total: 3000.000, accuracy: 0.771\n",
            "training epoch: [62 ] loss: 0.499 correct: 2328.000, total: 3000.000, accuracy: 0.776\n",
            "training epoch: [63 ] loss: 0.493 correct: 2338.000, total: 3000.000, accuracy: 0.779\n",
            "training epoch: [64 ] loss: 0.487 correct: 2354.000, total: 3000.000, accuracy: 0.785\n",
            "training epoch: [65 ] loss: 0.481 correct: 2368.000, total: 3000.000, accuracy: 0.789\n",
            "training epoch: [66 ] loss: 0.475 correct: 2378.000, total: 3000.000, accuracy: 0.793\n",
            "training epoch: [67 ] loss: 0.469 correct: 2386.000, total: 3000.000, accuracy: 0.795\n",
            "training epoch: [68 ] loss: 0.463 correct: 2398.000, total: 3000.000, accuracy: 0.799\n",
            "training epoch: [69 ] loss: 0.457 correct: 2411.000, total: 3000.000, accuracy: 0.804\n",
            "training epoch: [70 ] loss: 0.452 correct: 2424.000, total: 3000.000, accuracy: 0.808\n",
            "training epoch: [71 ] loss: 0.446 correct: 2435.000, total: 3000.000, accuracy: 0.812\n",
            "training epoch: [72 ] loss: 0.441 correct: 2442.000, total: 3000.000, accuracy: 0.814\n",
            "training epoch: [73 ] loss: 0.435 correct: 2454.000, total: 3000.000, accuracy: 0.818\n",
            "training epoch: [74 ] loss: 0.429 correct: 2463.000, total: 3000.000, accuracy: 0.821\n",
            "training epoch: [75 ] loss: 0.424 correct: 2478.000, total: 3000.000, accuracy: 0.826\n",
            "training epoch: [76 ] loss: 0.419 correct: 2489.000, total: 3000.000, accuracy: 0.830\n",
            "training epoch: [77 ] loss: 0.414 correct: 2495.000, total: 3000.000, accuracy: 0.832\n",
            "training epoch: [78 ] loss: 0.408 correct: 2505.000, total: 3000.000, accuracy: 0.835\n",
            "training epoch: [79 ] loss: 0.403 correct: 2514.000, total: 3000.000, accuracy: 0.838\n",
            "training epoch: [80 ] loss: 0.398 correct: 2527.000, total: 3000.000, accuracy: 0.842\n",
            "training epoch: [81 ] loss: 0.393 correct: 2534.000, total: 3000.000, accuracy: 0.845\n",
            "training epoch: [82 ] loss: 0.387 correct: 2554.000, total: 3000.000, accuracy: 0.851\n",
            "training epoch: [83 ] loss: 0.382 correct: 2565.000, total: 3000.000, accuracy: 0.855\n",
            "training epoch: [84 ] loss: 0.368 correct: 2570.000, total: 3000.000, accuracy: 0.857\n",
            "training epoch: [85 ] loss: 0.361 correct: 2583.000, total: 3000.000, accuracy: 0.861\n",
            "training epoch: [86 ] loss: 0.354 correct: 2596.000, total: 3000.000, accuracy: 0.865\n",
            "training epoch: [87 ] loss: 0.349 correct: 2609.000, total: 3000.000, accuracy: 0.870\n",
            "training epoch: [88 ] loss: 0.343 correct: 2622.000, total: 3000.000, accuracy: 0.874\n",
            "training epoch: [89 ] loss: 0.338 correct: 2632.000, total: 3000.000, accuracy: 0.877\n",
            "training epoch: [90 ] loss: 0.333 correct: 2643.000, total: 3000.000, accuracy: 0.881\n",
            "training epoch: [91 ] loss: 0.329 correct: 2654.000, total: 3000.000, accuracy: 0.885\n",
            "training epoch: [92 ] loss: 0.324 correct: 2664.000, total: 3000.000, accuracy: 0.888\n",
            "training epoch: [93 ] loss: 0.319 correct: 2674.000, total: 3000.000, accuracy: 0.891\n",
            "training epoch: [94 ] loss: 0.314 correct: 2677.000, total: 3000.000, accuracy: 0.892\n",
            "training epoch: [95 ] loss: 0.309 correct: 2683.000, total: 3000.000, accuracy: 0.894\n",
            "training epoch: [96 ] loss: 0.304 correct: 2692.000, total: 3000.000, accuracy: 0.897\n",
            "training epoch: [97 ] loss: 0.299 correct: 2696.000, total: 3000.000, accuracy: 0.899\n",
            "training epoch: [98 ] loss: 0.294 correct: 2700.000, total: 3000.000, accuracy: 0.900\n",
            "training epoch: [99 ] loss: 0.290 correct: 2706.000, total: 3000.000, accuracy: 0.902\n",
            "training epoch: [100 ] loss: 0.285 correct: 2713.000, total: 3000.000, accuracy: 0.904\n",
            "training epoch: [101 ] loss: 0.280 correct: 2724.000, total: 3000.000, accuracy: 0.908\n",
            "training epoch: [102 ] loss: 0.276 correct: 2729.000, total: 3000.000, accuracy: 0.910\n",
            "training epoch: [103 ] loss: 0.272 correct: 2735.000, total: 3000.000, accuracy: 0.912\n",
            "training epoch: [104 ] loss: 0.267 correct: 2744.000, total: 3000.000, accuracy: 0.915\n",
            "training epoch: [105 ] loss: 0.263 correct: 2748.000, total: 3000.000, accuracy: 0.916\n",
            "training epoch: [106 ] loss: 0.258 correct: 2751.000, total: 3000.000, accuracy: 0.917\n",
            "training epoch: [107 ] loss: 0.254 correct: 2759.000, total: 3000.000, accuracy: 0.920\n",
            "training epoch: [108 ] loss: 0.250 correct: 2763.000, total: 3000.000, accuracy: 0.921\n",
            "training epoch: [109 ] loss: 0.246 correct: 2768.000, total: 3000.000, accuracy: 0.923\n",
            "training epoch: [110 ] loss: 0.242 correct: 2774.000, total: 3000.000, accuracy: 0.925\n",
            "training epoch: [111 ] loss: 0.238 correct: 2784.000, total: 3000.000, accuracy: 0.928\n",
            "training epoch: [112 ] loss: 0.233 correct: 2785.000, total: 3000.000, accuracy: 0.928\n",
            "training epoch: [113 ] loss: 0.229 correct: 2789.000, total: 3000.000, accuracy: 0.930\n",
            "training epoch: [114 ] loss: 0.225 correct: 2795.000, total: 3000.000, accuracy: 0.932\n",
            "training epoch: [115 ] loss: 0.221 correct: 2801.000, total: 3000.000, accuracy: 0.934\n",
            "training epoch: [116 ] loss: 0.217 correct: 2806.000, total: 3000.000, accuracy: 0.935\n",
            "training epoch: [117 ] loss: 0.213 correct: 2813.000, total: 3000.000, accuracy: 0.938\n",
            "training epoch: [118 ] loss: 0.209 correct: 2818.000, total: 3000.000, accuracy: 0.939\n",
            "training epoch: [119 ] loss: 0.205 correct: 2823.000, total: 3000.000, accuracy: 0.941\n",
            "training epoch: [120 ] loss: 0.201 correct: 2823.000, total: 3000.000, accuracy: 0.941\n",
            "training epoch: [121 ] loss: 0.197 correct: 2827.000, total: 3000.000, accuracy: 0.942\n",
            "training epoch: [122 ] loss: 0.193 correct: 2831.000, total: 3000.000, accuracy: 0.944\n",
            "training epoch: [123 ] loss: 0.189 correct: 2844.000, total: 3000.000, accuracy: 0.948\n",
            "training epoch: [124 ] loss: 0.185 correct: 2851.000, total: 3000.000, accuracy: 0.950\n",
            "training epoch: [125 ] loss: 0.181 correct: 2854.000, total: 3000.000, accuracy: 0.951\n",
            "training epoch: [126 ] loss: 0.178 correct: 2855.000, total: 3000.000, accuracy: 0.952\n",
            "training epoch: [127 ] loss: 0.174 correct: 2859.000, total: 3000.000, accuracy: 0.953\n",
            "training epoch: [128 ] loss: 0.170 correct: 2866.000, total: 3000.000, accuracy: 0.955\n",
            "training epoch: [129 ] loss: 0.166 correct: 2872.000, total: 3000.000, accuracy: 0.957\n",
            "training epoch: [130 ] loss: 0.162 correct: 2878.000, total: 3000.000, accuracy: 0.959\n",
            "training epoch: [131 ] loss: 0.158 correct: 2883.000, total: 3000.000, accuracy: 0.961\n",
            "training epoch: [132 ] loss: 0.155 correct: 2888.000, total: 3000.000, accuracy: 0.963\n",
            "training epoch: [133 ] loss: 0.151 correct: 2896.000, total: 3000.000, accuracy: 0.965\n",
            "training epoch: [134 ] loss: 0.147 correct: 2902.000, total: 3000.000, accuracy: 0.967\n",
            "training epoch: [135 ] loss: 0.144 correct: 2911.000, total: 3000.000, accuracy: 0.970\n",
            "training epoch: [136 ] loss: 0.140 correct: 2916.000, total: 3000.000, accuracy: 0.972\n",
            "training epoch: [137 ] loss: 0.136 correct: 2923.000, total: 3000.000, accuracy: 0.974\n",
            "training epoch: [138 ] loss: 0.133 correct: 2930.000, total: 3000.000, accuracy: 0.977\n",
            "training epoch: [139 ] loss: 0.129 correct: 2931.000, total: 3000.000, accuracy: 0.977\n",
            "training epoch: [140 ] loss: 0.126 correct: 2934.000, total: 3000.000, accuracy: 0.978\n",
            "training epoch: [141 ] loss: 0.122 correct: 2938.000, total: 3000.000, accuracy: 0.979\n",
            "training epoch: [142 ] loss: 0.119 correct: 2942.000, total: 3000.000, accuracy: 0.981\n",
            "training epoch: [143 ] loss: 0.116 correct: 2945.000, total: 3000.000, accuracy: 0.982\n",
            "training epoch: [144 ] loss: 0.113 correct: 2948.000, total: 3000.000, accuracy: 0.983\n",
            "training epoch: [145 ] loss: 0.110 correct: 2949.000, total: 3000.000, accuracy: 0.983\n",
            "training epoch: [146 ] loss: 0.107 correct: 2952.000, total: 3000.000, accuracy: 0.984\n",
            "training epoch: [147 ] loss: 0.104 correct: 2956.000, total: 3000.000, accuracy: 0.985\n",
            "training epoch: [148 ] loss: 0.101 correct: 2961.000, total: 3000.000, accuracy: 0.987\n",
            "training epoch: [149 ] loss: 0.098 correct: 2964.000, total: 3000.000, accuracy: 0.988\n",
            "training epoch: [150 ] loss: 0.095 correct: 2965.000, total: 3000.000, accuracy: 0.988\n",
            "training epoch: [151 ] loss: 0.093 correct: 2967.000, total: 3000.000, accuracy: 0.989\n",
            "training epoch: [152 ] loss: 0.090 correct: 2969.000, total: 3000.000, accuracy: 0.990\n",
            "training epoch: [153 ] loss: 0.087 correct: 2971.000, total: 3000.000, accuracy: 0.990\n",
            "training epoch: [154 ] loss: 0.085 correct: 2971.000, total: 3000.000, accuracy: 0.990\n",
            "training epoch: [155 ] loss: 0.082 correct: 2973.000, total: 3000.000, accuracy: 0.991\n",
            "training epoch: [156 ] loss: 0.080 correct: 2977.000, total: 3000.000, accuracy: 0.992\n",
            "Finished Training run \n"
          ],
          "name": "stdout"
        }
      ]
    },
    {
      "cell_type": "code",
      "metadata": {
        "id": "AciJnAh5nfug"
      },
      "source": [
        "columns = [\"epochs\", \"argmax > 0.5\" ,\"argmax < 0.5\", \"focus_true_pred_true\", \"focus_false_pred_true\", \"focus_true_pred_false\", \"focus_false_pred_false\" ]\n",
        "df_train = pd.DataFrame()\n",
        "df_test = pd.DataFrame()\n",
        "df_train[columns[0]] = np.arange(0,epoch+2)\n",
        "df_train[columns[1]] = analysis_data_tr[:,-2]\n",
        "df_train[columns[2]] = analysis_data_tr[:,-1]\n",
        "df_train[columns[3]] = analysis_data_tr[:,0]\n",
        "df_train[columns[4]] = analysis_data_tr[:,1]\n",
        "df_train[columns[5]] = analysis_data_tr[:,2]\n",
        "df_train[columns[6]] = analysis_data_tr[:,3]"
      ],
      "execution_count": 16,
      "outputs": []
    },
    {
      "cell_type": "code",
      "metadata": {
        "colab": {
          "base_uri": "https://localhost:8080/",
          "height": 436
        },
        "id": "NoQpS_6scRsC",
        "outputId": "69e664c2-b23b-47ac-9097-4e3227098366"
      },
      "source": [
        "df_train"
      ],
      "execution_count": 17,
      "outputs": [
        {
          "output_type": "execute_result",
          "data": {
            "text/html": [
              "<div>\n",
              "<style scoped>\n",
              "    .dataframe tbody tr th:only-of-type {\n",
              "        vertical-align: middle;\n",
              "    }\n",
              "\n",
              "    .dataframe tbody tr th {\n",
              "        vertical-align: top;\n",
              "    }\n",
              "\n",
              "    .dataframe thead th {\n",
              "        text-align: right;\n",
              "    }\n",
              "</style>\n",
              "<table border=\"1\" class=\"dataframe\">\n",
              "  <thead>\n",
              "    <tr style=\"text-align: right;\">\n",
              "      <th></th>\n",
              "      <th>epochs</th>\n",
              "      <th>argmax &gt; 0.5</th>\n",
              "      <th>argmax &lt; 0.5</th>\n",
              "      <th>focus_true_pred_true</th>\n",
              "      <th>focus_false_pred_true</th>\n",
              "      <th>focus_true_pred_false</th>\n",
              "      <th>focus_false_pred_false</th>\n",
              "    </tr>\n",
              "  </thead>\n",
              "  <tbody>\n",
              "    <tr>\n",
              "      <th>0</th>\n",
              "      <td>0</td>\n",
              "      <td>302</td>\n",
              "      <td>2698</td>\n",
              "      <td>151</td>\n",
              "      <td>950</td>\n",
              "      <td>164</td>\n",
              "      <td>1735</td>\n",
              "    </tr>\n",
              "    <tr>\n",
              "      <th>1</th>\n",
              "      <td>1</td>\n",
              "      <td>276</td>\n",
              "      <td>2724</td>\n",
              "      <td>196</td>\n",
              "      <td>1150</td>\n",
              "      <td>156</td>\n",
              "      <td>1498</td>\n",
              "    </tr>\n",
              "    <tr>\n",
              "      <th>2</th>\n",
              "      <td>2</td>\n",
              "      <td>275</td>\n",
              "      <td>2725</td>\n",
              "      <td>213</td>\n",
              "      <td>1213</td>\n",
              "      <td>164</td>\n",
              "      <td>1410</td>\n",
              "    </tr>\n",
              "    <tr>\n",
              "      <th>3</th>\n",
              "      <td>3</td>\n",
              "      <td>280</td>\n",
              "      <td>2720</td>\n",
              "      <td>230</td>\n",
              "      <td>1266</td>\n",
              "      <td>169</td>\n",
              "      <td>1335</td>\n",
              "    </tr>\n",
              "    <tr>\n",
              "      <th>4</th>\n",
              "      <td>4</td>\n",
              "      <td>300</td>\n",
              "      <td>2700</td>\n",
              "      <td>238</td>\n",
              "      <td>1289</td>\n",
              "      <td>177</td>\n",
              "      <td>1296</td>\n",
              "    </tr>\n",
              "    <tr>\n",
              "      <th>...</th>\n",
              "      <td>...</td>\n",
              "      <td>...</td>\n",
              "      <td>...</td>\n",
              "      <td>...</td>\n",
              "      <td>...</td>\n",
              "      <td>...</td>\n",
              "      <td>...</td>\n",
              "    </tr>\n",
              "    <tr>\n",
              "      <th>152</th>\n",
              "      <td>152</td>\n",
              "      <td>848</td>\n",
              "      <td>2152</td>\n",
              "      <td>416</td>\n",
              "      <td>2553</td>\n",
              "      <td>22</td>\n",
              "      <td>9</td>\n",
              "    </tr>\n",
              "    <tr>\n",
              "      <th>153</th>\n",
              "      <td>153</td>\n",
              "      <td>851</td>\n",
              "      <td>2149</td>\n",
              "      <td>414</td>\n",
              "      <td>2557</td>\n",
              "      <td>21</td>\n",
              "      <td>8</td>\n",
              "    </tr>\n",
              "    <tr>\n",
              "      <th>154</th>\n",
              "      <td>154</td>\n",
              "      <td>858</td>\n",
              "      <td>2142</td>\n",
              "      <td>413</td>\n",
              "      <td>2558</td>\n",
              "      <td>21</td>\n",
              "      <td>8</td>\n",
              "    </tr>\n",
              "    <tr>\n",
              "      <th>155</th>\n",
              "      <td>155</td>\n",
              "      <td>857</td>\n",
              "      <td>2143</td>\n",
              "      <td>412</td>\n",
              "      <td>2561</td>\n",
              "      <td>20</td>\n",
              "      <td>7</td>\n",
              "    </tr>\n",
              "    <tr>\n",
              "      <th>156</th>\n",
              "      <td>156</td>\n",
              "      <td>858</td>\n",
              "      <td>2142</td>\n",
              "      <td>415</td>\n",
              "      <td>2562</td>\n",
              "      <td>17</td>\n",
              "      <td>6</td>\n",
              "    </tr>\n",
              "  </tbody>\n",
              "</table>\n",
              "<p>157 rows × 7 columns</p>\n",
              "</div>"
            ],
            "text/plain": [
              "     epochs  argmax > 0.5  ...  focus_true_pred_false  focus_false_pred_false\n",
              "0         0           302  ...                    164                    1735\n",
              "1         1           276  ...                    156                    1498\n",
              "2         2           275  ...                    164                    1410\n",
              "3         3           280  ...                    169                    1335\n",
              "4         4           300  ...                    177                    1296\n",
              "..      ...           ...  ...                    ...                     ...\n",
              "152     152           848  ...                     22                       9\n",
              "153     153           851  ...                     21                       8\n",
              "154     154           858  ...                     21                       8\n",
              "155     155           857  ...                     20                       7\n",
              "156     156           858  ...                     17                       6\n",
              "\n",
              "[157 rows x 7 columns]"
            ]
          },
          "metadata": {
            "tags": []
          },
          "execution_count": 17
        }
      ]
    },
    {
      "cell_type": "code",
      "metadata": {
        "colab": {
          "base_uri": "https://localhost:8080/",
          "height": 404
        },
        "id": "IMAhRdxOcVf6",
        "outputId": "5d106d29-eaa7-4973-e862-a17364ce7215"
      },
      "source": [
        "fig= plt.figure(figsize=(6,6))\n",
        "plt.plot(df_train[columns[0]],df_train[columns[3]]/30, label =\"focus_true_pred_true \")\n",
        "plt.plot(df_train[columns[0]],df_train[columns[4]]/30, label =\"focus_false_pred_true \")\n",
        "plt.plot(df_train[columns[0]],df_train[columns[5]]/30, label =\"focus_true_pred_false \")\n",
        "plt.plot(df_train[columns[0]],df_train[columns[6]]/30, label =\"focus_false_pred_false \")\n",
        "plt.title(\"On Train set\")\n",
        "plt.legend(loc='center left', bbox_to_anchor=(1, 0.5))\n",
        "plt.xlabel(\"epochs\")\n",
        "plt.ylabel(\"percentage of data\")\n",
        "plt.xticks([0,25,50,75,100,150])\n",
        "#plt.vlines(vline_list,min(min(df_train[columns[3]]/300),min(df_train[columns[4]]/300),min(df_train[columns[5]]/300),min(df_train[columns[6]]/300)), max(max(df_train[columns[3]]/300),max(df_train[columns[4]]/300),max(df_train[columns[5]]/300),max(df_train[columns[6]]/300)),linestyles='dotted')\n",
        "plt.show()\n",
        "fig.savefig(\"train_analysis.pdf\")\n",
        "fig.savefig(\"train_analysis.png\")"
      ],
      "execution_count": 20,
      "outputs": [
        {
          "output_type": "display_data",
          "data": {
            "image/png": "[encoded data removed]",
            "text/plain": [
              "<Figure size 432x432 with 1 Axes>"
            ]
          },
          "metadata": {
            "tags": [],
            "needs_background": "light"
          }
        }
      ]
    },
    {
      "cell_type": "code",
      "metadata": {
        "id": "VCnS6r2_3WdU"
      },
      "source": [
        "aph = []\n",
        "for i in bg:\n",
        "  aph.append(F.softmax(i,dim=1).detach().numpy())\n",
        "  \n",
        "aph = np.concatenate(aph,axis=0)\n",
        "torch.save({\n",
        "            'epoch': 500,\n",
        "            'model_state_dict': what_net.state_dict(),\n",
        "            #'optimizer_state_dict': optimizer_what.state_dict(),\n",
        "            \"optimizer_alpha\":optim1,\n",
        "            \"FTPT_analysis\":analysis_data_tr,\n",
        "            \"alpha\":aph\n",
        "\n",
        "            }, \"type4_what_net_500.pt\")"
      ],
      "execution_count": 21,
      "outputs": []
    },
    {
      "cell_type": "code",
      "metadata": {
        "colab": {
          "base_uri": "https://localhost:8080/"
        },
        "id": "KVzrDOGS4UxU",
        "outputId": "2682b776-0f7d-4605-ca81-9e83491df078"
      },
      "source": [
        "aph[0]"
      ],
      "execution_count": 22,
      "outputs": [
        {
          "output_type": "execute_result",
          "data": {
            "text/plain": [
              "array([0.01409258, 0.12806591, 0.0267539 , 0.09215324, 0.16493465,\n",
              "       0.09475335, 0.06644629, 0.00568049, 0.4071195 ], dtype=float32)"
            ]
          },
          "metadata": {
            "tags": []
          },
          "execution_count": 22
        }
      ]
    },
    {
      "cell_type": "code",
      "metadata": {
        "id": "yF2bvWdIWUTa"
      },
      "source": [
        "xx,yy= np.meshgrid(np.arange(1,8,0.01),np.arange(2,9,0.01))\n",
        "X = np.concatenate((xx.reshape(-1,1),yy.reshape(-1,1)),axis=1)\n",
        "X = torch.Tensor(X).double().to(\"cuda\")\n",
        "Y1 = what_net(X)"
      ],
      "execution_count": 23,
      "outputs": []
    },
    {
      "cell_type": "code",
      "metadata": {
        "id": "GENNdxJEa_Xi"
      },
      "source": [
        "Y1 = Y1.to(\"cpu\")\n",
        "Y1 = Y1.detach().numpy()\n",
        "Y1 = torch.softmax(torch.Tensor(Y1),dim=1)\n",
        "_,Z4= torch.max(Y1,1)\n",
        "Z1 = Y1[:,0]\n",
        "Z2 = Y1[:,1]\n",
        "Z3 = Y1[:,2]"
      ],
      "execution_count": 24,
      "outputs": []
    },
    {
      "cell_type": "code",
      "metadata": {
        "id": "5ZwEogAobesX"
      },
      "source": [
        "X = X.to(\"cpu\")"
      ],
      "execution_count": 25,
      "outputs": []
    },
    {
      "cell_type": "code",
      "metadata": {
        "colab": {
          "base_uri": "https://localhost:8080/"
        },
        "id": "ZIoUNsgebIku",
        "outputId": "6ae8c8fc-aaad-4c4c-ff2a-15b77e46008a"
      },
      "source": [
        "data = np.load(\"type_4_data.npy\",allow_pickle=True)\n",
        "x = data[0][\"X\"]\n",
        "y = data[0][\"Y\"]\n",
        "idx= []\n",
        "for i in range(10):\n",
        "  print(i,sum(y==i))\n",
        "  idx.append(y==i)"
      ],
      "execution_count": 26,
      "outputs": [
        {
          "output_type": "stream",
          "text": [
            "0 482\n",
            "1 485\n",
            "2 536\n",
            "3 504\n",
            "4 493\n",
            "5 513\n",
            "6 497\n",
            "7 486\n",
            "8 522\n",
            "9 482\n"
          ],
          "name": "stdout"
        }
      ]
    },
    {
      "cell_type": "code",
      "metadata": {
        "id": "7Ut6ZTAXbvqx"
      },
      "source": [
        "avrg = []\n",
        "with torch.no_grad():\n",
        "  for i, data in  enumerate(train_loader):\n",
        "          inputs , labels , fore_idx = data\n",
        "          inputs = inputs.double()\n",
        "          inputs, labels = inputs.to(\"cuda\"),labels.to(\"cuda\")\n",
        "          beta  = bg[i]\n",
        "          beta = beta.to(\"cuda\")\n",
        "          avg,alpha = attn_avg(inputs,beta)\n",
        "          \n",
        "          avrg.append(avg.detach().cpu().numpy())\n",
        "avrg= np.concatenate(avrg,axis=0)"
      ],
      "execution_count": 27,
      "outputs": []
    },
    {
      "cell_type": "code",
      "metadata": {
        "colab": {
          "base_uri": "https://localhost:8080/",
          "height": 374
        },
        "id": "5PAwMQXzbQJR",
        "outputId": "28653126-0f99-4252-8b34-ec4f286f4f0a"
      },
      "source": [
        "fig = plt.figure(figsize=(6,6))\n",
        "plt.scatter(X[:,0],X[:,1],c=Z4)\n",
        "for i in range(3):\n",
        "  plt.scatter(x[idx[i],0],x[idx[i],1],label=\"class_\"+str(i))\n",
        "plt.legend(loc='center left', bbox_to_anchor=(1, 0.5))\n",
        "plt.scatter(avrg[:,0],avrg[:,1])\n",
        "plt.savefig(\"decision_boundary.png\",bbox_inches=\"tight\")\n"
      ],
      "execution_count": 28,
      "outputs": [
        {
          "output_type": "display_data",
          "data": {
            "image/png": "[encoded data removed]",
            "text/plain": [
              "<Figure size 432x432 with 1 Axes>"
            ]
          },
          "metadata": {
            "tags": [],
            "needs_background": "light"
          }
        }
      ]
    },
    {
      "cell_type": "code",
      "metadata": {
        "id": "6KHn17Rbceqt"
      },
      "source": [
        ""
      ],
      "execution_count": 26,
      "outputs": []
    }
  ]
}