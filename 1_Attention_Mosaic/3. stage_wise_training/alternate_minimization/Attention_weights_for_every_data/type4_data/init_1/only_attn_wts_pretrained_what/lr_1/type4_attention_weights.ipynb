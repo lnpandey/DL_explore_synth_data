{
  "nbformat": 4,
  "nbformat_minor": 0,
  "metadata": {
    "accelerator": "GPU",
    "colab": {
      "name": "type4_attention_weights.ipynb",
      "provenance": [],
      "collapsed_sections": []
    },
    "kernelspec": {
      "display_name": "Python 3",
      "name": "python3"
    },
    "language_info": {
      "name": "python"
    }
  },
  "cells": [
    {
      "cell_type": "code",
      "metadata": {
        "colab": {
          "base_uri": "https://localhost:8080/"
        },
        "id": "gMYVR3Ye8KM8",
        "outputId": "cf852b8d-83dd-4b09-8253-ec831aa2509e"
      },
      "source": [
        "from google.colab import drive\n",
        "drive.mount('/content/drive')"
      ],
      "execution_count": 1,
      "outputs": [
        {
          "output_type": "stream",
          "text": [
            "Drive already mounted at /content/drive; to attempt to forcibly remount, call drive.mount(\"/content/drive\", force_remount=True).\n"
          ],
          "name": "stdout"
        }
      ]
    },
    {
      "cell_type": "code",
      "metadata": {
        "colab": {
          "base_uri": "https://localhost:8080/"
        },
        "id": "9_jnQ2Bg80OQ",
        "outputId": "9cc8110e-09a6-4f49-8faf-33c58932ff91"
      },
      "source": [
        "%cd /content/drive/MyDrive/Neural_Tangent_Kernel/"
      ],
      "execution_count": 2,
      "outputs": [
        {
          "output_type": "stream",
          "text": [
            "/content/drive/MyDrive/Neural_Tangent_Kernel\n"
          ],
          "name": "stdout"
        }
      ]
    },
    {
      "cell_type": "code",
      "metadata": {
        "id": "BWIyC9Ip_bcq"
      },
      "source": [
        "import numpy as np\n",
        "import pandas as pd\n",
        "\n",
        "import torch\n",
        "import torchvision\n",
        "from torch.utils.data import Dataset, DataLoader\n",
        "from torchvision import transforms, utils\n",
        "import torch.nn as nn\n",
        "import torch.nn.functional as F\n",
        "import torch.optim as optim\n",
        "\n",
        "from matplotlib import pyplot as plt\n",
        "\n",
        "\n",
        "from myrmsprop import MyRmsprop\n",
        "from utils import plot_decision_boundary,attn_avg,plot_analysis\n",
        "from synthetic_dataset import MosaicDataset1\n",
        "from eval_model import calculate_attn_loss,analyse_data\n",
        "\n",
        "\n",
        "\n",
        "%matplotlib inline\n",
        "torch.backends.cudnn.deterministic = True\n",
        "torch.backends.cudnn.benchmark = False"
      ],
      "execution_count": 3,
      "outputs": []
    },
    {
      "cell_type": "code",
      "metadata": {
        "id": "lGVy-1EllAc_"
      },
      "source": [
        "train_data = np.load(\"train_type4_data.npy\",allow_pickle=True)\n",
        "\n",
        "test_data = np.load(\"test_type4_data.npy\",allow_pickle=True)"
      ],
      "execution_count": 4,
      "outputs": []
    },
    {
      "cell_type": "code",
      "metadata": {
        "id": "uL771xuGZC5Q"
      },
      "source": [
        "mosaic_list_of_images = train_data[0][\"mosaic_list\"]\n",
        "mosaic_label = train_data[0][\"mosaic_label\"]\n",
        "fore_idx = train_data[0][\"fore_idx\"]\n",
        "\n",
        "\n",
        "test_mosaic_list_of_images = test_data[0][\"mosaic_list\"]\n",
        "test_mosaic_label = test_data[0][\"mosaic_label\"]\n",
        "test_fore_idx = test_data[0][\"fore_idx\"]"
      ],
      "execution_count": 5,
      "outputs": []
    },
    {
      "cell_type": "code",
      "metadata": {
        "id": "uf76JwkxZCT0"
      },
      "source": [
        "batch = 250\n",
        "train_dataset = MosaicDataset1(mosaic_list_of_images, mosaic_label, fore_idx)\n",
        "train_loader = DataLoader( train_dataset,batch_size= batch ,shuffle=False)\n",
        "#batch = 2000\n",
        "#test_dataset = MosaicDataset1(test_mosaic_list_of_images, test_mosaic_label, test_fore_idx)\n",
        "#test_loader = DataLoader(test_dataset,batch_size= batch ,shuffle=False)"
      ],
      "execution_count": 6,
      "outputs": []
    },
    {
      "cell_type": "code",
      "metadata": {
        "id": "DOpZfj1bq7wN"
      },
      "source": [
        "n_batches = 3000//batch\n",
        "bg = []\n",
        "for i in range(n_batches):\n",
        "  torch.manual_seed(i)\n",
        "  betag =   torch.randn(batch,9) # torch.ones((250,9))/9 \n",
        "  bg.append( betag.requires_grad_() )"
      ],
      "execution_count": 7,
      "outputs": []
    },
    {
      "cell_type": "code",
      "metadata": {
        "colab": {
          "base_uri": "https://localhost:8080/"
        },
        "id": "fzb3ii4drXpu",
        "outputId": "f7293aef-68d1-44d8-e3a8-76111f500f17"
      },
      "source": [
        " bg"
      ],
      "execution_count": 8,
      "outputs": [
        {
          "output_type": "execute_result",
          "data": {
            "text/plain": [
              "[tensor([[-1.1258, -1.1524, -0.2506,  ..., -0.3160, -2.1152,  0.3223],\n",
              "         [-1.2633,  0.3500,  0.3081,  ..., -0.2473, -1.3527, -1.6959],\n",
              "         [ 0.5667,  0.7935,  0.5988,  ...,  0.7502, -0.5855, -0.1734],\n",
              "         ...,\n",
              "         [ 0.8374, -0.7942, -0.3622,  ...,  0.0121,  0.8032, -0.6962],\n",
              "         [-1.0645,  0.2384, -0.3385,  ...,  0.9635, -1.0340,  0.1894],\n",
              "         [ 0.8253,  1.1038, -1.2491,  ..., -0.5940, -1.7125,  0.3617]],\n",
              "        requires_grad=True),\n",
              " tensor([[-1.5256, -0.7502, -0.6540,  ..., -0.9798, -1.6091, -0.7121],\n",
              "         [ 0.3037, -0.7773, -0.2515,  ...,  0.4676, -0.6970, -1.1608],\n",
              "         [ 0.6995,  0.1991,  0.8657,  ...,  1.1017, -0.1759, -2.2456],\n",
              "         ...,\n",
              "         [-0.4302,  0.1508,  0.6937,  ...,  0.0314,  2.6645,  0.1189],\n",
              "         [ 1.4484, -0.0213, -1.3367,  ...,  0.6279, -1.4719, -1.0291],\n",
              "         [ 0.9081, -1.2433,  1.6062,  ..., -0.1177, -0.5548, -0.0595]],\n",
              "        requires_grad=True),\n",
              " tensor([[-1.0408,  0.9166, -1.3042,  ..., -1.0574, -0.1188, -0.9078],\n",
              "         [ 0.3452, -0.5713, -0.2351,  ..., -0.4327, -1.5071, -0.4586],\n",
              "         [-0.8480,  0.5266,  0.0299,  ...,  0.4640, -0.4986,  0.1289],\n",
              "         ...,\n",
              "         [ 1.5719,  1.0154, -2.1620,  ..., -1.0790,  1.5801, -1.6557],\n",
              "         [-1.1613,  0.3672, -0.3078,  ..., -1.2456, -0.1125,  0.6222],\n",
              "         [ 0.4521, -0.2505,  2.3728,  ..., -0.1377, -0.8815, -0.1671]],\n",
              "        requires_grad=True),\n",
              " tensor([[-0.0766,  0.3599, -0.7820,  ...,  1.6206, -1.5967, -0.0517],\n",
              "         [-0.3060,  0.2485, -0.2226,  ...,  0.4163,  0.2615,  0.9311],\n",
              "         [-0.5145, -1.6517,  1.0460,  ...,  0.5638,  2.2566,  1.8693],\n",
              "         ...,\n",
              "         [ 2.1181,  0.1464, -0.0447,  ...,  1.3816,  0.4975,  0.2814],\n",
              "         [-0.7639, -1.4938, -1.1430,  ...,  0.6355,  0.6700,  1.5335],\n",
              "         [-0.0191, -0.3568,  0.4536,  ..., -0.9493,  2.0439, -0.3827]],\n",
              "        requires_grad=True),\n",
              " tensor([[-0.9414,  1.2632, -0.1838,  ..., -2.6021,  0.6245, -0.8684],\n",
              "         [-0.2051,  0.3976,  0.6699,  ..., -2.1205,  1.5191, -0.6682],\n",
              "         [ 0.0031, -0.1535,  1.1396,  ..., -0.7588, -0.1853, -0.8558],\n",
              "         ...,\n",
              "         [ 1.6794, -0.5509,  0.4118,  ...,  0.9084, -0.8626, -0.6553],\n",
              "         [ 0.6058, -0.5888,  0.9448,  ...,  0.0072, -0.2579,  1.7659],\n",
              "         [-1.2965,  0.2970, -0.5833,  ...,  1.7838, -0.4794,  0.5579]],\n",
              "        requires_grad=True),\n",
              " tensor([[ 1.8423,  0.5189, -1.7119,  ..., -0.1307, -1.4374,  0.3908],\n",
              "         [-0.0190, -1.3527, -0.7308,  ..., -0.7823,  2.7799,  1.2220],\n",
              "         [-0.3364, -0.9651, -0.1297,  ..., -0.4374,  0.7792, -0.0583],\n",
              "         ...,\n",
              "         [ 0.6700, -0.5400,  0.2353,  ..., -1.0840, -0.6141, -0.0155],\n",
              "         [ 0.4779, -0.4648, -0.1366,  ...,  0.1162,  3.0351, -0.2885],\n",
              "         [-0.6777, -0.1373, -0.7330,  ...,  0.6185, -0.3036, -1.0850]],\n",
              "        requires_grad=True),\n",
              " tensor([[-1.2113,  0.6304, -1.4713,  ...,  0.3295,  0.3264, -0.4806],\n",
              "         [ 1.1032,  2.5485,  0.3006,  ..., -1.6279, -1.4801, -1.0631],\n",
              "         [ 0.3630,  0.3995,  0.1457,  ..., -1.3437,  0.8535,  0.8811],\n",
              "         ...,\n",
              "         [-0.5519,  0.2253,  0.4891,  ..., -0.0110, -0.6023, -0.7230],\n",
              "         [-1.1593, -0.6551,  1.6578,  ...,  0.4795, -1.3562,  0.2920],\n",
              "         [ 0.3474, -0.9874, -0.0130,  ...,  0.6061,  0.8639, -0.9552]],\n",
              "        requires_grad=True),\n",
              " tensor([[-0.8201,  0.3956,  0.8989,  ..., -0.6411, -0.8937,  0.9265],\n",
              "         [-0.5355, -1.1597, -0.4602,  ...,  1.0902, -1.5827, -0.3246],\n",
              "         [ 1.9264, -0.3300,  0.1984,  ..., -0.2093, -0.2153, -1.8157],\n",
              "         ...,\n",
              "         [-0.6910,  0.3328,  2.2102,  ..., -0.0383,  0.4400, -0.8350],\n",
              "         [-0.2194, -0.7611, -0.0921,  ..., -0.3143, -0.4196,  1.1570],\n",
              "         [-0.8934, -1.7705,  0.3805,  ...,  0.1963, -0.7307,  1.3581]],\n",
              "        requires_grad=True),\n",
              " tensor([[-1.1892,  1.3932,  2.1059,  ...,  2.1414,  0.1317, -0.6388],\n",
              "         [ 1.3384, -1.1908, -0.7601,  ..., -0.1051,  0.4414,  0.6590],\n",
              "         [-0.7585, -0.6001, -0.3948,  ..., -1.7526,  0.3920,  0.8295],\n",
              "         ...,\n",
              "         [-0.0557, -0.1032, -0.4624,  ..., -0.1339, -1.6662, -0.4955],\n",
              "         [ 1.0884, -0.4479, -0.0847,  ...,  1.7487, -1.6152, -1.8258],\n",
              "         [ 1.7062,  1.1041, -1.3736,  ..., -1.5244,  0.4869, -1.7420]],\n",
              "        requires_grad=True),\n",
              " tensor([[-1.0674, -0.7172,  1.0897,  ..., -0.7737, -2.4656,  0.9968],\n",
              "         [ 0.4524, -0.3464, -0.7245,  ...,  0.2331, -1.1433,  0.8289],\n",
              "         [ 0.9534,  0.2948,  1.5159,  ...,  0.3971,  0.4058, -0.5274],\n",
              "         ...,\n",
              "         [-0.3297, -0.3700,  1.9490,  ..., -0.0443,  1.8073, -0.6388],\n",
              "         [ 0.0977,  0.1862,  1.4303,  ..., -1.9735, -1.1663,  1.7066],\n",
              "         [-0.8396, -2.5271, -1.0791,  ...,  0.1053,  1.2463, -0.7709]],\n",
              "        requires_grad=True),\n",
              " tensor([[-0.8173, -0.5556, -0.8267,  ..., -0.5133,  2.6278, -0.7465],\n",
              "         [ 1.0051, -0.2568,  0.4765,  ..., -0.2496,  0.8298,  1.1209],\n",
              "         [ 0.9999,  1.1167,  1.0763,  ...,  0.0562,  0.2456,  0.9535],\n",
              "         ...,\n",
              "         [-1.0042, -0.7732,  0.9129,  ..., -0.4342,  1.3256, -0.6357],\n",
              "         [-0.5979,  1.2285,  1.0288,  ..., -1.4067,  0.2403,  0.5257],\n",
              "         [-1.7332, -0.2443,  0.1425,  ..., -0.9291,  1.4324, -0.2338]],\n",
              "        requires_grad=True),\n",
              " tensor([[-0.5108,  1.0283, -0.3532,  ...,  0.1421, -0.5243, -0.2487],\n",
              "         [-0.5252,  2.8922, -0.5947,  ..., -0.0080,  0.2479,  1.5727],\n",
              "         [-1.6395, -1.5925, -0.1546,  ..., -0.3935,  0.6171,  0.7528],\n",
              "         ...,\n",
              "         [-0.3538,  0.1294,  1.1873,  ..., -0.2866, -0.3111,  0.2674],\n",
              "         [ 1.7757, -0.1730,  0.6679,  ..., -0.2519,  0.8360, -0.4348],\n",
              "         [ 0.4242,  0.7649, -0.5807,  ..., -0.7654, -0.1086,  0.4636]],\n",
              "        requires_grad=True)]"
            ]
          },
          "metadata": {
            "tags": []
          },
          "execution_count": 8
        }
      ]
    },
    {
      "cell_type": "code",
      "metadata": {
        "id": "HbrMidFCla6h"
      },
      "source": [
        "class Module2(nn.Module):\n",
        "  def __init__(self):\n",
        "    super(Module2, self).__init__()\n",
        "    self.linear1 = nn.Linear(2,100)\n",
        "    self.linear2 = nn.Linear(100,3)\n",
        "\n",
        "  def forward(self,x):\n",
        "    x = F.relu(self.linear1(x))\n",
        "    x = self.linear2(x)\n",
        "    return x"
      ],
      "execution_count": 9,
      "outputs": []
    },
    {
      "cell_type": "code",
      "metadata": {
        "id": "rRqj2VELllkX"
      },
      "source": [
        "torch.manual_seed(1234)\n",
        "what_net = Module2().double()\n",
        "\n",
        "what_net.load_state_dict(torch.load(\"type4_what_net.pt\"))\n",
        "what_net = what_net.to(\"cuda\")"
      ],
      "execution_count": 10,
      "outputs": []
    },
    {
      "cell_type": "code",
      "metadata": {
        "id": "sAY-x6UAwrwE"
      },
      "source": [
        "for param in what_net.parameters():\n",
        "    param.requires_grad = False"
      ],
      "execution_count": 11,
      "outputs": []
    },
    {
      "cell_type": "code",
      "metadata": {
        "id": "S633XgMToeN3"
      },
      "source": [
        "optim1 = []\n",
        "for i in range(n_batches):\n",
        "  optim1.append(optim.RMSprop([bg[i]],lr=1))"
      ],
      "execution_count": 12,
      "outputs": []
    },
    {
      "cell_type": "code",
      "metadata": {
        "colab": {
          "base_uri": "https://localhost:8080/"
        },
        "id": "qPaYaojinMTA",
        "outputId": "c2cacb26-487a-4eaa-9ac4-16a2fc097da6"
      },
      "source": [
        "# instantiate optimizer\n",
        "#optimizer_what = optim.RMSprop(what_net.parameters(), lr=0.001)#, momentum=0.9)#,nesterov=True)\n",
        "\n",
        "\n",
        " \n",
        "\n",
        "\n",
        "criterion = nn.CrossEntropyLoss()\n",
        "acti = []\n",
        "analysis_data_tr = []\n",
        "analysis_data_tst = []\n",
        "loss_curi_tr = []\n",
        "loss_curi_tst = []\n",
        "epochs = 200\n",
        "\n",
        "\n",
        "# calculate zeroth epoch loss and FTPT values  \n",
        "\n",
        "# call to calculate_attn_loss need to make sure batch size is correct in utils file\n",
        "running_loss,anlys_data,correct,total,accuracy = calculate_attn_loss(train_loader,bg,what_net,criterion)\n",
        "print('training epoch: [%d ] loss: %.3f correct: %.3f, total: %.3f, accuracy: %.3f' %(0,running_loss,correct,total,accuracy)) \n",
        "loss_curi_tr.append(running_loss)\n",
        "analysis_data_tr.append(anlys_data)\n",
        "\n",
        "\n",
        "\n",
        "\n",
        "# training starts \n",
        "for epoch in range(epochs): # loop over the dataset multiple times\n",
        "  ep_lossi = []\n",
        "  running_loss = 0.0\n",
        "  #what_net.train()\n",
        "  for i, data in enumerate(train_loader, 0):\n",
        "    # get the inputs\n",
        "    inputs, labels,_  = data\n",
        "    inputs = inputs.double()\n",
        "    beta = bg[i] # alpha for ith batch\n",
        "    #print(labels)\n",
        "    inputs, labels,beta = inputs.to(\"cuda\"),labels.to(\"cuda\"),beta.to(\"cuda\")\n",
        "        \n",
        "    # zero the parameter gradients\n",
        "    #optimizer_what.zero_grad()\n",
        "    optim1[i].zero_grad()\n",
        "      \n",
        "    # forward + backward + optimize\n",
        "    avg,alpha = attn_avg(inputs,beta)\n",
        "    outputs = what_net(avg)     \n",
        "    loss = criterion(outputs, labels)\n",
        "\n",
        "    # print statistics\n",
        "    running_loss += loss.item()\n",
        "    #alpha.retain_grad()\n",
        "    loss.backward(retain_graph=False)\n",
        "    #optimizer_what.step()\n",
        "    optim1[i].step()\n",
        "\n",
        "\n",
        "  running_loss_tr,anls_data,correct,total,accuracy = calculate_attn_loss(train_loader,bg,what_net,criterion)\n",
        "  analysis_data_tr.append(anls_data)\n",
        "  loss_curi_tr.append(running_loss_tr)   #loss per epoch\n",
        "  print('training epoch: [%d ] loss: %.3f correct: %.3f, total: %.3f, accuracy: %.3f' %(epoch+1,running_loss_tr,correct,total,accuracy)) \n",
        "\n",
        "\n",
        "  \n",
        "  if running_loss_tr<=0.08:\n",
        "    break\n",
        "print('Finished Training run ')\n",
        "analysis_data_tr = np.array(analysis_data_tr)\n",
        "\n"
      ],
      "execution_count": 13,
      "outputs": [
        {
          "output_type": "stream",
          "text": [
            "training epoch: [0 ] loss: 10.382 correct: 1101.000, total: 3000.000, accuracy: 0.367\n",
            "training epoch: [1 ] loss: 3.057 correct: 2132.000, total: 3000.000, accuracy: 0.711\n",
            "training epoch: [2 ] loss: 0.602 correct: 2707.000, total: 3000.000, accuracy: 0.902\n",
            "training epoch: [3 ] loss: 0.269 correct: 2820.000, total: 3000.000, accuracy: 0.940\n",
            "training epoch: [4 ] loss: 0.225 correct: 2838.000, total: 3000.000, accuracy: 0.946\n",
            "training epoch: [5 ] loss: 0.210 correct: 2841.000, total: 3000.000, accuracy: 0.947\n",
            "training epoch: [6 ] loss: 0.205 correct: 2847.000, total: 3000.000, accuracy: 0.949\n",
            "training epoch: [7 ] loss: 0.202 correct: 2852.000, total: 3000.000, accuracy: 0.951\n",
            "training epoch: [8 ] loss: 0.200 correct: 2850.000, total: 3000.000, accuracy: 0.950\n",
            "training epoch: [9 ] loss: 0.197 correct: 2851.000, total: 3000.000, accuracy: 0.950\n",
            "training epoch: [10 ] loss: 0.190 correct: 2857.000, total: 3000.000, accuracy: 0.952\n",
            "training epoch: [11 ] loss: 0.190 correct: 2857.000, total: 3000.000, accuracy: 0.952\n",
            "training epoch: [12 ] loss: 0.190 correct: 2860.000, total: 3000.000, accuracy: 0.953\n",
            "training epoch: [13 ] loss: 0.188 correct: 2861.000, total: 3000.000, accuracy: 0.954\n",
            "training epoch: [14 ] loss: 0.186 correct: 2863.000, total: 3000.000, accuracy: 0.954\n",
            "training epoch: [15 ] loss: 0.185 correct: 2864.000, total: 3000.000, accuracy: 0.955\n",
            "training epoch: [16 ] loss: 0.185 correct: 2863.000, total: 3000.000, accuracy: 0.954\n",
            "training epoch: [17 ] loss: 0.184 correct: 2863.000, total: 3000.000, accuracy: 0.954\n",
            "training epoch: [18 ] loss: 0.182 correct: 2867.000, total: 3000.000, accuracy: 0.956\n",
            "training epoch: [19 ] loss: 0.184 correct: 2865.000, total: 3000.000, accuracy: 0.955\n",
            "training epoch: [20 ] loss: 0.184 correct: 2863.000, total: 3000.000, accuracy: 0.954\n",
            "training epoch: [21 ] loss: 0.184 correct: 2864.000, total: 3000.000, accuracy: 0.955\n",
            "training epoch: [22 ] loss: 0.184 correct: 2864.000, total: 3000.000, accuracy: 0.955\n",
            "training epoch: [23 ] loss: 0.183 correct: 2865.000, total: 3000.000, accuracy: 0.955\n",
            "training epoch: [24 ] loss: 0.183 correct: 2866.000, total: 3000.000, accuracy: 0.955\n",
            "training epoch: [25 ] loss: 0.181 correct: 2868.000, total: 3000.000, accuracy: 0.956\n",
            "training epoch: [26 ] loss: 0.182 correct: 2867.000, total: 3000.000, accuracy: 0.956\n",
            "training epoch: [27 ] loss: 0.181 correct: 2869.000, total: 3000.000, accuracy: 0.956\n",
            "training epoch: [28 ] loss: 0.181 correct: 2869.000, total: 3000.000, accuracy: 0.956\n",
            "training epoch: [29 ] loss: 0.180 correct: 2869.000, total: 3000.000, accuracy: 0.956\n",
            "training epoch: [30 ] loss: 0.180 correct: 2869.000, total: 3000.000, accuracy: 0.956\n",
            "training epoch: [31 ] loss: 0.180 correct: 2869.000, total: 3000.000, accuracy: 0.956\n",
            "training epoch: [32 ] loss: 0.180 correct: 2869.000, total: 3000.000, accuracy: 0.956\n",
            "training epoch: [33 ] loss: 0.180 correct: 2870.000, total: 3000.000, accuracy: 0.957\n",
            "training epoch: [34 ] loss: 0.180 correct: 2870.000, total: 3000.000, accuracy: 0.957\n",
            "training epoch: [35 ] loss: 0.178 correct: 2873.000, total: 3000.000, accuracy: 0.958\n",
            "training epoch: [36 ] loss: 0.173 correct: 2872.000, total: 3000.000, accuracy: 0.957\n",
            "training epoch: [37 ] loss: 0.173 correct: 2872.000, total: 3000.000, accuracy: 0.957\n",
            "training epoch: [38 ] loss: 0.173 correct: 2873.000, total: 3000.000, accuracy: 0.958\n",
            "training epoch: [39 ] loss: 0.174 correct: 2873.000, total: 3000.000, accuracy: 0.958\n",
            "training epoch: [40 ] loss: 0.174 correct: 2872.000, total: 3000.000, accuracy: 0.957\n",
            "training epoch: [41 ] loss: 0.172 correct: 2875.000, total: 3000.000, accuracy: 0.958\n",
            "training epoch: [42 ] loss: 0.172 correct: 2876.000, total: 3000.000, accuracy: 0.959\n",
            "training epoch: [43 ] loss: 0.173 correct: 2874.000, total: 3000.000, accuracy: 0.958\n",
            "training epoch: [44 ] loss: 0.173 correct: 2874.000, total: 3000.000, accuracy: 0.958\n",
            "training epoch: [45 ] loss: 0.173 correct: 2873.000, total: 3000.000, accuracy: 0.958\n",
            "training epoch: [46 ] loss: 0.172 correct: 2874.000, total: 3000.000, accuracy: 0.958\n",
            "training epoch: [47 ] loss: 0.171 correct: 2875.000, total: 3000.000, accuracy: 0.958\n",
            "training epoch: [48 ] loss: 0.171 correct: 2875.000, total: 3000.000, accuracy: 0.958\n",
            "training epoch: [49 ] loss: 0.172 correct: 2874.000, total: 3000.000, accuracy: 0.958\n",
            "training epoch: [50 ] loss: 0.172 correct: 2874.000, total: 3000.000, accuracy: 0.958\n",
            "training epoch: [51 ] loss: 0.171 correct: 2875.000, total: 3000.000, accuracy: 0.958\n",
            "training epoch: [52 ] loss: 0.173 correct: 2873.000, total: 3000.000, accuracy: 0.958\n",
            "training epoch: [53 ] loss: 0.172 correct: 2874.000, total: 3000.000, accuracy: 0.958\n",
            "training epoch: [54 ] loss: 0.172 correct: 2874.000, total: 3000.000, accuracy: 0.958\n",
            "training epoch: [55 ] loss: 0.172 correct: 2873.000, total: 3000.000, accuracy: 0.958\n",
            "training epoch: [56 ] loss: 0.172 correct: 2873.000, total: 3000.000, accuracy: 0.958\n",
            "training epoch: [57 ] loss: 0.172 correct: 2872.000, total: 3000.000, accuracy: 0.957\n",
            "training epoch: [58 ] loss: 0.171 correct: 2873.000, total: 3000.000, accuracy: 0.958\n",
            "training epoch: [59 ] loss: 0.171 correct: 2874.000, total: 3000.000, accuracy: 0.958\n",
            "training epoch: [60 ] loss: 0.171 correct: 2875.000, total: 3000.000, accuracy: 0.958\n",
            "training epoch: [61 ] loss: 0.171 correct: 2876.000, total: 3000.000, accuracy: 0.959\n",
            "training epoch: [62 ] loss: 0.171 correct: 2876.000, total: 3000.000, accuracy: 0.959\n",
            "training epoch: [63 ] loss: 0.171 correct: 2876.000, total: 3000.000, accuracy: 0.959\n",
            "training epoch: [64 ] loss: 0.170 correct: 2876.000, total: 3000.000, accuracy: 0.959\n",
            "training epoch: [65 ] loss: 0.172 correct: 2875.000, total: 3000.000, accuracy: 0.958\n",
            "training epoch: [66 ] loss: 0.171 correct: 2875.000, total: 3000.000, accuracy: 0.958\n",
            "training epoch: [67 ] loss: 0.170 correct: 2876.000, total: 3000.000, accuracy: 0.959\n",
            "training epoch: [68 ] loss: 0.171 correct: 2875.000, total: 3000.000, accuracy: 0.958\n",
            "training epoch: [69 ] loss: 0.171 correct: 2875.000, total: 3000.000, accuracy: 0.958\n",
            "training epoch: [70 ] loss: 0.172 correct: 2875.000, total: 3000.000, accuracy: 0.958\n",
            "training epoch: [71 ] loss: 0.171 correct: 2875.000, total: 3000.000, accuracy: 0.958\n",
            "training epoch: [72 ] loss: 0.171 correct: 2875.000, total: 3000.000, accuracy: 0.958\n",
            "training epoch: [73 ] loss: 0.171 correct: 2875.000, total: 3000.000, accuracy: 0.958\n",
            "training epoch: [74 ] loss: 0.171 correct: 2875.000, total: 3000.000, accuracy: 0.958\n",
            "training epoch: [75 ] loss: 0.171 correct: 2875.000, total: 3000.000, accuracy: 0.958\n",
            "training epoch: [76 ] loss: 0.171 correct: 2875.000, total: 3000.000, accuracy: 0.958\n",
            "training epoch: [77 ] loss: 0.171 correct: 2875.000, total: 3000.000, accuracy: 0.958\n",
            "training epoch: [78 ] loss: 0.171 correct: 2875.000, total: 3000.000, accuracy: 0.958\n",
            "training epoch: [79 ] loss: 0.171 correct: 2874.000, total: 3000.000, accuracy: 0.958\n",
            "training epoch: [80 ] loss: 0.170 correct: 2875.000, total: 3000.000, accuracy: 0.958\n",
            "training epoch: [81 ] loss: 0.171 correct: 2875.000, total: 3000.000, accuracy: 0.958\n",
            "training epoch: [82 ] loss: 0.171 correct: 2874.000, total: 3000.000, accuracy: 0.958\n",
            "training epoch: [83 ] loss: 0.171 correct: 2875.000, total: 3000.000, accuracy: 0.958\n",
            "training epoch: [84 ] loss: 0.170 correct: 2876.000, total: 3000.000, accuracy: 0.959\n",
            "training epoch: [85 ] loss: 0.170 correct: 2876.000, total: 3000.000, accuracy: 0.959\n",
            "training epoch: [86 ] loss: 0.171 correct: 2876.000, total: 3000.000, accuracy: 0.959\n",
            "training epoch: [87 ] loss: 0.172 correct: 2875.000, total: 3000.000, accuracy: 0.958\n",
            "training epoch: [88 ] loss: 0.171 correct: 2876.000, total: 3000.000, accuracy: 0.959\n",
            "training epoch: [89 ] loss: 0.171 correct: 2876.000, total: 3000.000, accuracy: 0.959\n",
            "training epoch: [90 ] loss: 0.171 correct: 2876.000, total: 3000.000, accuracy: 0.959\n",
            "training epoch: [91 ] loss: 0.171 correct: 2876.000, total: 3000.000, accuracy: 0.959\n",
            "training epoch: [92 ] loss: 0.172 correct: 2876.000, total: 3000.000, accuracy: 0.959\n",
            "training epoch: [93 ] loss: 0.172 correct: 2875.000, total: 3000.000, accuracy: 0.958\n",
            "training epoch: [94 ] loss: 0.171 correct: 2876.000, total: 3000.000, accuracy: 0.959\n",
            "training epoch: [95 ] loss: 0.171 correct: 2873.000, total: 3000.000, accuracy: 0.958\n",
            "training epoch: [96 ] loss: 0.171 correct: 2874.000, total: 3000.000, accuracy: 0.958\n",
            "training epoch: [97 ] loss: 0.171 correct: 2874.000, total: 3000.000, accuracy: 0.958\n",
            "training epoch: [98 ] loss: 0.170 correct: 2876.000, total: 3000.000, accuracy: 0.959\n",
            "training epoch: [99 ] loss: 0.170 correct: 2876.000, total: 3000.000, accuracy: 0.959\n",
            "training epoch: [100 ] loss: 0.170 correct: 2876.000, total: 3000.000, accuracy: 0.959\n",
            "training epoch: [101 ] loss: 0.171 correct: 2875.000, total: 3000.000, accuracy: 0.958\n",
            "training epoch: [102 ] loss: 0.170 correct: 2876.000, total: 3000.000, accuracy: 0.959\n",
            "training epoch: [103 ] loss: 0.170 correct: 2876.000, total: 3000.000, accuracy: 0.959\n",
            "training epoch: [104 ] loss: 0.170 correct: 2875.000, total: 3000.000, accuracy: 0.958\n",
            "training epoch: [105 ] loss: 0.170 correct: 2875.000, total: 3000.000, accuracy: 0.958\n",
            "training epoch: [106 ] loss: 0.170 correct: 2876.000, total: 3000.000, accuracy: 0.959\n",
            "training epoch: [107 ] loss: 0.170 correct: 2876.000, total: 3000.000, accuracy: 0.959\n",
            "training epoch: [108 ] loss: 0.170 correct: 2875.000, total: 3000.000, accuracy: 0.958\n",
            "training epoch: [109 ] loss: 0.170 correct: 2875.000, total: 3000.000, accuracy: 0.958\n",
            "training epoch: [110 ] loss: 0.169 correct: 2876.000, total: 3000.000, accuracy: 0.959\n",
            "training epoch: [111 ] loss: 0.169 correct: 2875.000, total: 3000.000, accuracy: 0.958\n",
            "training epoch: [112 ] loss: 0.169 correct: 2876.000, total: 3000.000, accuracy: 0.959\n",
            "training epoch: [113 ] loss: 0.169 correct: 2876.000, total: 3000.000, accuracy: 0.959\n",
            "training epoch: [114 ] loss: 0.169 correct: 2875.000, total: 3000.000, accuracy: 0.958\n",
            "training epoch: [115 ] loss: 0.168 correct: 2876.000, total: 3000.000, accuracy: 0.959\n",
            "training epoch: [116 ] loss: 0.168 correct: 2877.000, total: 3000.000, accuracy: 0.959\n",
            "training epoch: [117 ] loss: 0.168 correct: 2878.000, total: 3000.000, accuracy: 0.959\n",
            "training epoch: [118 ] loss: 0.168 correct: 2878.000, total: 3000.000, accuracy: 0.959\n",
            "training epoch: [119 ] loss: 0.168 correct: 2878.000, total: 3000.000, accuracy: 0.959\n",
            "training epoch: [120 ] loss: 0.168 correct: 2878.000, total: 3000.000, accuracy: 0.959\n",
            "training epoch: [121 ] loss: 0.168 correct: 2877.000, total: 3000.000, accuracy: 0.959\n",
            "training epoch: [122 ] loss: 0.168 correct: 2877.000, total: 3000.000, accuracy: 0.959\n",
            "training epoch: [123 ] loss: 0.168 correct: 2877.000, total: 3000.000, accuracy: 0.959\n",
            "training epoch: [124 ] loss: 0.168 correct: 2877.000, total: 3000.000, accuracy: 0.959\n",
            "training epoch: [125 ] loss: 0.169 correct: 2876.000, total: 3000.000, accuracy: 0.959\n",
            "training epoch: [126 ] loss: 0.168 correct: 2877.000, total: 3000.000, accuracy: 0.959\n",
            "training epoch: [127 ] loss: 0.168 correct: 2877.000, total: 3000.000, accuracy: 0.959\n",
            "training epoch: [128 ] loss: 0.168 correct: 2877.000, total: 3000.000, accuracy: 0.959\n",
            "training epoch: [129 ] loss: 0.168 correct: 2877.000, total: 3000.000, accuracy: 0.959\n",
            "training epoch: [130 ] loss: 0.168 correct: 2878.000, total: 3000.000, accuracy: 0.959\n",
            "training epoch: [131 ] loss: 0.168 correct: 2877.000, total: 3000.000, accuracy: 0.959\n",
            "training epoch: [132 ] loss: 0.168 correct: 2877.000, total: 3000.000, accuracy: 0.959\n",
            "training epoch: [133 ] loss: 0.168 correct: 2877.000, total: 3000.000, accuracy: 0.959\n",
            "training epoch: [134 ] loss: 0.168 correct: 2877.000, total: 3000.000, accuracy: 0.959\n",
            "training epoch: [135 ] loss: 0.168 correct: 2878.000, total: 3000.000, accuracy: 0.959\n",
            "training epoch: [136 ] loss: 0.168 correct: 2877.000, total: 3000.000, accuracy: 0.959\n",
            "training epoch: [137 ] loss: 0.168 correct: 2877.000, total: 3000.000, accuracy: 0.959\n",
            "training epoch: [138 ] loss: 0.168 correct: 2876.000, total: 3000.000, accuracy: 0.959\n",
            "training epoch: [139 ] loss: 0.169 correct: 2875.000, total: 3000.000, accuracy: 0.958\n",
            "training epoch: [140 ] loss: 0.169 correct: 2875.000, total: 3000.000, accuracy: 0.958\n",
            "training epoch: [141 ] loss: 0.169 correct: 2875.000, total: 3000.000, accuracy: 0.958\n",
            "training epoch: [142 ] loss: 0.169 correct: 2874.000, total: 3000.000, accuracy: 0.958\n",
            "training epoch: [143 ] loss: 0.169 correct: 2875.000, total: 3000.000, accuracy: 0.958\n",
            "training epoch: [144 ] loss: 0.169 correct: 2875.000, total: 3000.000, accuracy: 0.958\n",
            "training epoch: [145 ] loss: 0.168 correct: 2875.000, total: 3000.000, accuracy: 0.958\n",
            "training epoch: [146 ] loss: 0.168 correct: 2875.000, total: 3000.000, accuracy: 0.958\n",
            "training epoch: [147 ] loss: 0.169 correct: 2875.000, total: 3000.000, accuracy: 0.958\n",
            "training epoch: [148 ] loss: 0.168 correct: 2875.000, total: 3000.000, accuracy: 0.958\n",
            "training epoch: [149 ] loss: 0.168 correct: 2875.000, total: 3000.000, accuracy: 0.958\n",
            "training epoch: [150 ] loss: 0.168 correct: 2876.000, total: 3000.000, accuracy: 0.959\n",
            "training epoch: [151 ] loss: 0.169 correct: 2875.000, total: 3000.000, accuracy: 0.958\n",
            "training epoch: [152 ] loss: 0.168 correct: 2876.000, total: 3000.000, accuracy: 0.959\n",
            "training epoch: [153 ] loss: 0.168 correct: 2875.000, total: 3000.000, accuracy: 0.958\n",
            "training epoch: [154 ] loss: 0.168 correct: 2875.000, total: 3000.000, accuracy: 0.958\n",
            "training epoch: [155 ] loss: 0.168 correct: 2875.000, total: 3000.000, accuracy: 0.958\n",
            "training epoch: [156 ] loss: 0.168 correct: 2876.000, total: 3000.000, accuracy: 0.959\n",
            "training epoch: [157 ] loss: 0.168 correct: 2876.000, total: 3000.000, accuracy: 0.959\n",
            "training epoch: [158 ] loss: 0.169 correct: 2874.000, total: 3000.000, accuracy: 0.958\n",
            "training epoch: [159 ] loss: 0.169 correct: 2874.000, total: 3000.000, accuracy: 0.958\n",
            "training epoch: [160 ] loss: 0.169 correct: 2874.000, total: 3000.000, accuracy: 0.958\n",
            "training epoch: [161 ] loss: 0.169 correct: 2874.000, total: 3000.000, accuracy: 0.958\n",
            "training epoch: [162 ] loss: 0.169 correct: 2874.000, total: 3000.000, accuracy: 0.958\n",
            "training epoch: [163 ] loss: 0.168 correct: 2875.000, total: 3000.000, accuracy: 0.958\n",
            "training epoch: [164 ] loss: 0.170 correct: 2874.000, total: 3000.000, accuracy: 0.958\n",
            "training epoch: [165 ] loss: 0.170 correct: 2874.000, total: 3000.000, accuracy: 0.958\n",
            "training epoch: [166 ] loss: 0.170 correct: 2874.000, total: 3000.000, accuracy: 0.958\n",
            "training epoch: [167 ] loss: 0.169 correct: 2874.000, total: 3000.000, accuracy: 0.958\n",
            "training epoch: [168 ] loss: 0.169 correct: 2874.000, total: 3000.000, accuracy: 0.958\n",
            "training epoch: [169 ] loss: 0.169 correct: 2874.000, total: 3000.000, accuracy: 0.958\n",
            "training epoch: [170 ] loss: 0.169 correct: 2874.000, total: 3000.000, accuracy: 0.958\n",
            "training epoch: [171 ] loss: 0.169 correct: 2874.000, total: 3000.000, accuracy: 0.958\n",
            "training epoch: [172 ] loss: 0.169 correct: 2874.000, total: 3000.000, accuracy: 0.958\n",
            "training epoch: [173 ] loss: 0.169 correct: 2875.000, total: 3000.000, accuracy: 0.958\n",
            "training epoch: [174 ] loss: 0.168 correct: 2876.000, total: 3000.000, accuracy: 0.959\n",
            "training epoch: [175 ] loss: 0.168 correct: 2876.000, total: 3000.000, accuracy: 0.959\n",
            "training epoch: [176 ] loss: 0.169 correct: 2876.000, total: 3000.000, accuracy: 0.959\n",
            "training epoch: [177 ] loss: 0.169 correct: 2876.000, total: 3000.000, accuracy: 0.959\n",
            "training epoch: [178 ] loss: 0.169 correct: 2876.000, total: 3000.000, accuracy: 0.959\n",
            "training epoch: [179 ] loss: 0.169 correct: 2876.000, total: 3000.000, accuracy: 0.959\n",
            "training epoch: [180 ] loss: 0.169 correct: 2876.000, total: 3000.000, accuracy: 0.959\n",
            "training epoch: [181 ] loss: 0.169 correct: 2876.000, total: 3000.000, accuracy: 0.959\n",
            "training epoch: [182 ] loss: 0.169 correct: 2876.000, total: 3000.000, accuracy: 0.959\n",
            "training epoch: [183 ] loss: 0.169 correct: 2876.000, total: 3000.000, accuracy: 0.959\n",
            "training epoch: [184 ] loss: 0.169 correct: 2876.000, total: 3000.000, accuracy: 0.959\n",
            "training epoch: [185 ] loss: 0.169 correct: 2876.000, total: 3000.000, accuracy: 0.959\n",
            "training epoch: [186 ] loss: 0.169 correct: 2876.000, total: 3000.000, accuracy: 0.959\n",
            "training epoch: [187 ] loss: 0.169 correct: 2875.000, total: 3000.000, accuracy: 0.958\n",
            "training epoch: [188 ] loss: 0.169 correct: 2876.000, total: 3000.000, accuracy: 0.959\n",
            "training epoch: [189 ] loss: 0.168 correct: 2876.000, total: 3000.000, accuracy: 0.959\n",
            "training epoch: [190 ] loss: 0.169 correct: 2875.000, total: 3000.000, accuracy: 0.958\n",
            "training epoch: [191 ] loss: 0.169 correct: 2875.000, total: 3000.000, accuracy: 0.958\n",
            "training epoch: [192 ] loss: 0.169 correct: 2876.000, total: 3000.000, accuracy: 0.959\n",
            "training epoch: [193 ] loss: 0.168 correct: 2877.000, total: 3000.000, accuracy: 0.959\n",
            "training epoch: [194 ] loss: 0.169 correct: 2875.000, total: 3000.000, accuracy: 0.958\n",
            "training epoch: [195 ] loss: 0.170 correct: 2873.000, total: 3000.000, accuracy: 0.958\n",
            "training epoch: [196 ] loss: 0.170 correct: 2872.000, total: 3000.000, accuracy: 0.957\n",
            "training epoch: [197 ] loss: 0.170 correct: 2873.000, total: 3000.000, accuracy: 0.958\n",
            "training epoch: [198 ] loss: 0.170 correct: 2873.000, total: 3000.000, accuracy: 0.958\n",
            "training epoch: [199 ] loss: 0.169 correct: 2874.000, total: 3000.000, accuracy: 0.958\n",
            "training epoch: [200 ] loss: 0.172 correct: 2872.000, total: 3000.000, accuracy: 0.957\n",
            "Finished Training run \n"
          ],
          "name": "stdout"
        }
      ]
    },
    {
      "cell_type": "code",
      "metadata": {
        "id": "AciJnAh5nfug"
      },
      "source": [
        "columns = [\"epochs\", \"argmax > 0.5\" ,\"argmax < 0.5\", \"focus_true_pred_true\", \"focus_false_pred_true\", \"focus_true_pred_false\", \"focus_false_pred_false\" ]\n",
        "df_train = pd.DataFrame()\n",
        "df_test = pd.DataFrame()\n",
        "df_train[columns[0]] = np.arange(0,epoch+2)\n",
        "df_train[columns[1]] = analysis_data_tr[:,-2]/30\n",
        "df_train[columns[2]] = analysis_data_tr[:,-1]/30\n",
        "df_train[columns[3]] = analysis_data_tr[:,0]/30\n",
        "df_train[columns[4]] = analysis_data_tr[:,1]/30\n",
        "df_train[columns[5]] = analysis_data_tr[:,2]/30\n",
        "df_train[columns[6]] = analysis_data_tr[:,3]/30"
      ],
      "execution_count": 14,
      "outputs": []
    },
    {
      "cell_type": "code",
      "metadata": {
        "colab": {
          "base_uri": "https://localhost:8080/",
          "height": 456
        },
        "id": "NoQpS_6scRsC",
        "outputId": "dcc88e14-ff88-4422-936a-44042a4deeb8"
      },
      "source": [
        "df_train"
      ],
      "execution_count": 15,
      "outputs": [
        {
          "output_type": "execute_result",
          "data": {
            "text/html": [
              "<div>\n",
              "<style scoped>\n",
              "    .dataframe tbody tr th:only-of-type {\n",
              "        vertical-align: middle;\n",
              "    }\n",
              "\n",
              "    .dataframe tbody tr th {\n",
              "        vertical-align: top;\n",
              "    }\n",
              "\n",
              "    .dataframe thead th {\n",
              "        text-align: right;\n",
              "    }\n",
              "</style>\n",
              "<table border=\"1\" class=\"dataframe\">\n",
              "  <thead>\n",
              "    <tr style=\"text-align: right;\">\n",
              "      <th></th>\n",
              "      <th>epochs</th>\n",
              "      <th>argmax &gt; 0.5</th>\n",
              "      <th>argmax &lt; 0.5</th>\n",
              "      <th>focus_true_pred_true</th>\n",
              "      <th>focus_false_pred_true</th>\n",
              "      <th>focus_true_pred_false</th>\n",
              "      <th>focus_false_pred_false</th>\n",
              "    </tr>\n",
              "  </thead>\n",
              "  <tbody>\n",
              "    <tr>\n",
              "      <th>0</th>\n",
              "      <td>0</td>\n",
              "      <td>10.066667</td>\n",
              "      <td>89.933333</td>\n",
              "      <td>5.033333</td>\n",
              "      <td>31.666667</td>\n",
              "      <td>5.466667</td>\n",
              "      <td>57.833333</td>\n",
              "    </tr>\n",
              "    <tr>\n",
              "      <th>1</th>\n",
              "      <td>1</td>\n",
              "      <td>41.533333</td>\n",
              "      <td>58.466667</td>\n",
              "      <td>12.966667</td>\n",
              "      <td>58.100000</td>\n",
              "      <td>4.233333</td>\n",
              "      <td>24.700000</td>\n",
              "    </tr>\n",
              "    <tr>\n",
              "      <th>2</th>\n",
              "      <td>2</td>\n",
              "      <td>58.900000</td>\n",
              "      <td>41.100000</td>\n",
              "      <td>22.533333</td>\n",
              "      <td>67.700000</td>\n",
              "      <td>3.066667</td>\n",
              "      <td>6.700000</td>\n",
              "    </tr>\n",
              "    <tr>\n",
              "      <th>3</th>\n",
              "      <td>3</td>\n",
              "      <td>60.533333</td>\n",
              "      <td>39.466667</td>\n",
              "      <td>23.100000</td>\n",
              "      <td>70.900000</td>\n",
              "      <td>2.800000</td>\n",
              "      <td>3.200000</td>\n",
              "    </tr>\n",
              "    <tr>\n",
              "      <th>4</th>\n",
              "      <td>4</td>\n",
              "      <td>60.200000</td>\n",
              "      <td>39.800000</td>\n",
              "      <td>23.133333</td>\n",
              "      <td>71.466667</td>\n",
              "      <td>2.566667</td>\n",
              "      <td>2.833333</td>\n",
              "    </tr>\n",
              "    <tr>\n",
              "      <th>...</th>\n",
              "      <td>...</td>\n",
              "      <td>...</td>\n",
              "      <td>...</td>\n",
              "      <td>...</td>\n",
              "      <td>...</td>\n",
              "      <td>...</td>\n",
              "      <td>...</td>\n",
              "    </tr>\n",
              "    <tr>\n",
              "      <th>196</th>\n",
              "      <td>196</td>\n",
              "      <td>59.433333</td>\n",
              "      <td>40.566667</td>\n",
              "      <td>21.166667</td>\n",
              "      <td>74.566667</td>\n",
              "      <td>2.133333</td>\n",
              "      <td>2.133333</td>\n",
              "    </tr>\n",
              "    <tr>\n",
              "      <th>197</th>\n",
              "      <td>197</td>\n",
              "      <td>59.466667</td>\n",
              "      <td>40.533333</td>\n",
              "      <td>21.133333</td>\n",
              "      <td>74.633333</td>\n",
              "      <td>2.200000</td>\n",
              "      <td>2.033333</td>\n",
              "    </tr>\n",
              "    <tr>\n",
              "      <th>198</th>\n",
              "      <td>198</td>\n",
              "      <td>59.466667</td>\n",
              "      <td>40.533333</td>\n",
              "      <td>21.133333</td>\n",
              "      <td>74.633333</td>\n",
              "      <td>2.200000</td>\n",
              "      <td>2.033333</td>\n",
              "    </tr>\n",
              "    <tr>\n",
              "      <th>199</th>\n",
              "      <td>199</td>\n",
              "      <td>59.466667</td>\n",
              "      <td>40.533333</td>\n",
              "      <td>21.100000</td>\n",
              "      <td>74.700000</td>\n",
              "      <td>2.166667</td>\n",
              "      <td>2.033333</td>\n",
              "    </tr>\n",
              "    <tr>\n",
              "      <th>200</th>\n",
              "      <td>200</td>\n",
              "      <td>59.500000</td>\n",
              "      <td>40.500000</td>\n",
              "      <td>21.133333</td>\n",
              "      <td>74.600000</td>\n",
              "      <td>2.166667</td>\n",
              "      <td>2.100000</td>\n",
              "    </tr>\n",
              "  </tbody>\n",
              "</table>\n",
              "<p>201 rows × 7 columns</p>\n",
              "</div>"
            ],
            "text/plain": [
              "     epochs  argmax > 0.5  ...  focus_true_pred_false  focus_false_pred_false\n",
              "0         0     10.066667  ...               5.466667               57.833333\n",
              "1         1     41.533333  ...               4.233333               24.700000\n",
              "2         2     58.900000  ...               3.066667                6.700000\n",
              "3         3     60.533333  ...               2.800000                3.200000\n",
              "4         4     60.200000  ...               2.566667                2.833333\n",
              "..      ...           ...  ...                    ...                     ...\n",
              "196     196     59.433333  ...               2.133333                2.133333\n",
              "197     197     59.466667  ...               2.200000                2.033333\n",
              "198     198     59.466667  ...               2.200000                2.033333\n",
              "199     199     59.466667  ...               2.166667                2.033333\n",
              "200     200     59.500000  ...               2.166667                2.100000\n",
              "\n",
              "[201 rows x 7 columns]"
            ]
          },
          "metadata": {
            "tags": []
          },
          "execution_count": 15
        }
      ]
    },
    {
      "cell_type": "code",
      "metadata": {
        "colab": {
          "base_uri": "https://localhost:8080/",
          "height": 421
        },
        "id": "IMAhRdxOcVf6",
        "outputId": "c78aeec8-01b5-4064-ef08-b13febb72346"
      },
      "source": [
        "%cd /content/\n",
        "plot_analysis(df_train,columns,[0,50,100,150,200])"
      ],
      "execution_count": 21,
      "outputs": [
        {
          "output_type": "stream",
          "text": [
            "/content\n"
          ],
          "name": "stdout"
        },
        {
          "output_type": "display_data",
          "data": {
            "image/png": "[encoded data removed]",
            "text/plain": [
              "<Figure size 432x432 with 1 Axes>"
            ]
          },
          "metadata": {
            "tags": [],
            "needs_background": "light"
          }
        }
      ]
    },
    {
      "cell_type": "code",
      "metadata": {
        "id": "VCnS6r2_3WdU"
      },
      "source": [
        "aph = []\n",
        "for i in bg:\n",
        "  aph.append(F.softmax(i,dim=1).detach().numpy())\n",
        "aph = np.concatenate(aph,axis=0)\n",
        "# torch.save({\n",
        "#             'epoch': 500,\n",
        "#             'model_state_dict': what_net.state_dict(),\n",
        "#             #'optimizer_state_dict': optimizer_what.state_dict(),\n",
        "#             \"optimizer_alpha\":optim1,\n",
        "#             \"FTPT_analysis\":analysis_data_tr,\n",
        "#             \"alpha\":aph\n",
        "\n",
        "#             }, \"type4_what_net_500.pt\")"
      ],
      "execution_count": 17,
      "outputs": []
    },
    {
      "cell_type": "code",
      "metadata": {
        "colab": {
          "base_uri": "https://localhost:8080/"
        },
        "id": "KVzrDOGS4UxU",
        "outputId": "11699957-1103-42c0-8e2c-f486d935ee85"
      },
      "source": [
        "aph[0]"
      ],
      "execution_count": 18,
      "outputs": [
        {
          "output_type": "execute_result",
          "data": {
            "text/plain": [
              "array([1.39459177e-18, 9.81174469e-01, 4.02646707e-18, 1.88254826e-02,\n",
              "       1.04559385e-17, 7.81323208e-18, 5.69025282e-14, 7.25013209e-19,\n",
              "       2.81930523e-09], dtype=float32)"
            ]
          },
          "metadata": {
            "tags": []
          },
          "execution_count": 18
        }
      ]
    },
    {
      "cell_type": "code",
      "metadata": {
        "id": "7Ut6ZTAXbvqx"
      },
      "source": [
        "avrg = []\n",
        "avrg_lbls = []\n",
        "with torch.no_grad():\n",
        "  for i, data in  enumerate(train_loader):\n",
        "          inputs , labels , fore_idx = data\n",
        "          inputs = inputs.double()\n",
        "          inputs = inputs.to(\"cuda\")\n",
        "          beta  = bg[i]\n",
        "          beta = beta.to(\"cuda\")\n",
        "          avg,alpha = attn_avg(inputs,beta)\n",
        "          \n",
        "          avrg_lbls.append(labels.numpy())\n",
        "          avrg.append(avg.detach().cpu().numpy())\n",
        "avrg= np.concatenate(avrg,axis=0)\n",
        "avrg_lbls = np.concatenate(avrg_lbls,axis=0)"
      ],
      "execution_count": 19,
      "outputs": []
    },
    {
      "cell_type": "code",
      "metadata": {
        "id": "6KHn17Rbceqt",
        "colab": {
          "base_uri": "https://localhost:8080/",
          "height": 408
        },
        "outputId": "80b26b07-ad47-41f5-9fe2-4c19469072b5"
      },
      "source": [
        "%cd /content/drive/MyDrive/Neural_Tangent_Kernel/\n",
        "data = np.load(\"type_4_data.npy\",allow_pickle=True)\n",
        "%cd /content/\n",
        "plot_decision_boundary(what_net,[1,8,2,9],data,bg,avrg,avrg_lbls)"
      ],
      "execution_count": 20,
      "outputs": [
        {
          "output_type": "stream",
          "text": [
            "/content/drive/MyDrive/Neural_Tangent_Kernel\n",
            "/content\n"
          ],
          "name": "stdout"
        },
        {
          "output_type": "display_data",
          "data": {
            "image/png": "[encoded data removed]",
            "text/plain": [
              "<Figure size 432x432 with 1 Axes>"
            ]
          },
          "metadata": {
            "tags": [],
            "needs_background": "light"
          }
        }
      ]
    },
    {
      "cell_type": "code",
      "metadata": {
        "id": "_210Dg1eAJdE"
      },
      "source": [
        ""
      ],
      "execution_count": 20,
      "outputs": []
    }
  ]
}