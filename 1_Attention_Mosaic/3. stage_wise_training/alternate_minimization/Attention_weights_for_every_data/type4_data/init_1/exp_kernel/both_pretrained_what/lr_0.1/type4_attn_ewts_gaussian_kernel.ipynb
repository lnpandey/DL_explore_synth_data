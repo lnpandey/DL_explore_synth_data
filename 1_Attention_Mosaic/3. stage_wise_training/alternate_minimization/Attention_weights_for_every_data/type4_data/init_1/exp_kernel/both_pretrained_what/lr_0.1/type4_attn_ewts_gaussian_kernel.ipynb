{
  "nbformat": 4,
  "nbformat_minor": 0,
  "metadata": {
    "accelerator": "GPU",
    "colab": {
      "name": "type4_attn_ewts_gaussian_kernel.ipynb",
      "provenance": [],
      "collapsed_sections": []
    },
    "kernelspec": {
      "display_name": "Python 3",
      "name": "python3"
    },
    "language_info": {
      "name": "python"
    }
  },
  "cells": [
    {
      "cell_type": "code",
      "metadata": {
        "id": "BWIyC9Ip_bcq"
      },
      "source": [
        "import numpy as np\n",
        "import pandas as pd\n",
        "\n",
        "import torch\n",
        "import torchvision\n",
        "from torch.utils.data import Dataset, DataLoader\n",
        "from torchvision import transforms, utils\n",
        "import torch.nn as nn\n",
        "import torch.nn.functional as F\n",
        "import torch.optim as optim\n",
        "\n",
        "from matplotlib import pyplot as plt\n",
        "from myrmsprop import MyRmsprop\n",
        "%matplotlib inline\n",
        "torch.backends.cudnn.deterministic = True\n",
        "torch.backends.cudnn.benchmark = False"
      ],
      "execution_count": 1,
      "outputs": []
    },
    {
      "cell_type": "code",
      "metadata": {
        "id": "lGVy-1EllAc_"
      },
      "source": [
        "train_data = np.load(\"train_type4_data.npy\",allow_pickle=True)\n",
        "\n",
        "test_data = np.load(\"test_type4_data.npy\",allow_pickle=True)"
      ],
      "execution_count": 2,
      "outputs": []
    },
    {
      "cell_type": "code",
      "metadata": {
        "id": "uL771xuGZC5Q"
      },
      "source": [
        "mosaic_list_of_images = train_data[0][\"mosaic_list\"]\n",
        "mosaic_label = train_data[0][\"mosaic_label\"]\n",
        "fore_idx = train_data[0][\"fore_idx\"]\n",
        "\n",
        "\n",
        "test_mosaic_list_of_images = test_data[0][\"mosaic_list\"]\n",
        "test_mosaic_label = test_data[0][\"mosaic_label\"]\n",
        "test_fore_idx = test_data[0][\"fore_idx\"]"
      ],
      "execution_count": 3,
      "outputs": []
    },
    {
      "cell_type": "code",
      "metadata": {
        "id": "x2qfRXfNZCao"
      },
      "source": [
        "class MosaicDataset1(Dataset):\n",
        "  \"\"\"MosaicDataset dataset.\"\"\"\n",
        "\n",
        "  def __init__(self, mosaic_list, mosaic_label,fore_idx):\n",
        "    \"\"\"\n",
        "      Args:\n",
        "        csv_file (string): Path to the csv file with annotations.\n",
        "        root_dir (string): Directory with all the images.\n",
        "        transform (callable, optional): Optional transform to be applied\n",
        "            on a sample.\n",
        "    \"\"\"\n",
        "    self.mosaic = mosaic_list\n",
        "    self.label = mosaic_label\n",
        "    self.fore_idx = fore_idx\n",
        "    \n",
        "  def __len__(self):\n",
        "    return len(self.label)\n",
        "\n",
        "  def __getitem__(self, idx):\n",
        "    return self.mosaic[idx] , self.label[idx] , self.fore_idx[idx]"
      ],
      "execution_count": 4,
      "outputs": []
    },
    {
      "cell_type": "code",
      "metadata": {
        "id": "uf76JwkxZCT0"
      },
      "source": [
        "batch = 3000\n",
        "train_dataset = MosaicDataset1(mosaic_list_of_images, mosaic_label, fore_idx)\n",
        "train_loader = DataLoader( train_dataset,batch_size= batch ,shuffle=False)\n",
        "#batch = 2000\n",
        "#test_dataset = MosaicDataset1(test_mosaic_list_of_images, test_mosaic_label, test_fore_idx)\n",
        "#test_loader = DataLoader(test_dataset,batch_size= batch ,shuffle=False)"
      ],
      "execution_count": 5,
      "outputs": []
    },
    {
      "cell_type": "code",
      "metadata": {
        "id": "DOpZfj1bq7wN"
      },
      "source": [
        "n_batches = 3000//batch\n",
        "bg = []\n",
        "for i in range(n_batches):\n",
        "  torch.manual_seed(i)\n",
        "  betag = torch.randn(3000,9)#torch.ones((250,9))/9\n",
        "  bg.append( betag.requires_grad_() )"
      ],
      "execution_count": 6,
      "outputs": []
    },
    {
      "cell_type": "code",
      "metadata": {
        "colab": {
          "base_uri": "https://localhost:8080/"
        },
        "id": "fzb3ii4drXpu",
        "outputId": "c3e363dd-a920-47a4-ec12-156c6300af30"
      },
      "source": [
        "len(bg)"
      ],
      "execution_count": 7,
      "outputs": [
        {
          "output_type": "execute_result",
          "data": {
            "text/plain": [
              "1"
            ]
          },
          "metadata": {
            "tags": []
          },
          "execution_count": 7
        }
      ]
    },
    {
      "cell_type": "code",
      "metadata": {
        "colab": {
          "base_uri": "https://localhost:8080/"
        },
        "id": "Am8LcQm1Og-f",
        "outputId": "59b3c645-2d3d-45d6-97b9-3e9676d58100"
      },
      "source": [
        "#H = np.zeros((27000,27000))\n",
        "for i, data in enumerate(train_loader, 0):\n",
        "  print(i) # only one batch\n",
        "  inputs,_,_ = data\n",
        "  inputs = torch.reshape(inputs,(27000,2))\n",
        "  dis = torch.cdist(inputs,inputs)**2\n",
        "  gamma = -1/torch.median(dis)\n",
        "  print(gamma)\n",
        "  H = torch.exp(gamma*dis)\n"
      ],
      "execution_count": 8,
      "outputs": [
        {
          "output_type": "stream",
          "text": [
            "0\n",
            "tensor(-0.0948)\n"
          ],
          "name": "stdout"
        }
      ]
    },
    {
      "cell_type": "code",
      "metadata": {
        "colab": {
          "base_uri": "https://localhost:8080/"
        },
        "id": "rTxUQEquHYqj",
        "outputId": "7f0cb068-0779-46fa-a2ef-1db942245a6a"
      },
      "source": [
        "H.shape"
      ],
      "execution_count": 9,
      "outputs": [
        {
          "output_type": "execute_result",
          "data": {
            "text/plain": [
              "torch.Size([27000, 27000])"
            ]
          },
          "metadata": {
            "tags": []
          },
          "execution_count": 9
        }
      ]
    },
    {
      "cell_type": "code",
      "metadata": {
        "id": "HbrMidFCla6h"
      },
      "source": [
        "class Module2(nn.Module):\n",
        "  def __init__(self):\n",
        "    super(Module2, self).__init__()\n",
        "    self.linear1 = nn.Linear(2,100)\n",
        "    self.linear2 = nn.Linear(100,3)\n",
        "\n",
        "  def forward(self,x):\n",
        "    x = F.relu(self.linear1(x))\n",
        "    x = self.linear2(x)\n",
        "    return x"
      ],
      "execution_count": 10,
      "outputs": []
    },
    {
      "cell_type": "code",
      "metadata": {
        "id": "rRqj2VELllkX"
      },
      "source": [
        "torch.manual_seed(1234)\n",
        "what_net = Module2().double()\n",
        "\n",
        "what_net.load_state_dict(torch.load(\"type4_what_net.pt\"))\n",
        "what_net = what_net.to(\"cuda\")"
      ],
      "execution_count": 11,
      "outputs": []
    },
    {
      "cell_type": "code",
      "metadata": {
        "id": "6d8Wch99l4yB"
      },
      "source": [
        "def attn_avg(x,beta):\n",
        "  y = torch.zeros([batch,2], dtype=torch.float64)\n",
        "  y = y.to(\"cuda\")\n",
        "  alpha = F.softmax(beta,dim=1)   # alphas\n",
        "  #print(alpha[0],x[0,:])\n",
        "  for i in range(9):            \n",
        "    alpha1 = alpha[:,i]      \n",
        "    y = y + torch.mul(alpha1[:,None],x[:,i])\n",
        "  return y,alpha\n"
      ],
      "execution_count": 12,
      "outputs": []
    },
    {
      "cell_type": "code",
      "metadata": {
        "id": "Rz1Kpw12loV6"
      },
      "source": [
        "def calculate_attn_loss(dataloader,what,criter):\n",
        "  what.eval()\n",
        "  r_loss = 0\n",
        "  alphas = []\n",
        "  lbls = []\n",
        "  pred = []\n",
        "  fidices = []\n",
        "  correct = 0\n",
        "  tot = 0\n",
        "  with torch.no_grad():\n",
        "    for i, data in enumerate(dataloader, 0):\n",
        "      inputs, labels,fidx= data\n",
        "      lbls.append(labels)\n",
        "      fidices.append(fidx)\n",
        "      inputs = inputs.double()\n",
        "      beta = bg[i]  # beta for ith batch\n",
        "      inputs, labels,beta = inputs.to(\"cuda\"),labels.to(\"cuda\"),beta.to(\"cuda\")\n",
        "      avg,alpha = attn_avg(inputs,beta)\n",
        "      alpha = alpha.to(\"cuda\")\n",
        "      outputs = what(avg)\n",
        "      _, predicted = torch.max(outputs.data, 1)\n",
        "      correct += sum(predicted == labels)\n",
        "      tot += len(predicted)\n",
        "      pred.append(predicted.cpu().numpy())\n",
        "      alphas.append(alpha.cpu().numpy())\n",
        "      loss = criter(outputs, labels)\n",
        "      r_loss += loss.item()\n",
        "  alphas = np.concatenate(alphas,axis=0)\n",
        "  pred = np.concatenate(pred,axis=0)\n",
        "  lbls = np.concatenate(lbls,axis=0)\n",
        "  fidices = np.concatenate(fidices,axis=0)\n",
        "  #print(alphas.shape,pred.shape,lbls.shape,fidices.shape) \n",
        "  analysis = analyse_data(alphas,lbls,pred,fidices)\n",
        "  return r_loss/(i+1),analysis,correct.item(),tot,correct.item()/tot"
      ],
      "execution_count": 13,
      "outputs": []
    },
    {
      "cell_type": "code",
      "metadata": {
        "id": "sAY-x6UAwrwE"
      },
      "source": [
        "# for param in what_net.parameters():\n",
        "#     param.requires_grad = False"
      ],
      "execution_count": 14,
      "outputs": []
    },
    {
      "cell_type": "code",
      "metadata": {
        "id": "_toCktPanH0S"
      },
      "source": [
        "\n",
        "def analyse_data(alphas,lbls,predicted,f_idx):\n",
        "    '''\n",
        "       analysis data is created here\n",
        "    '''\n",
        "    batch = len(predicted)\n",
        "    amth,alth,ftpt,ffpt,ftpf,ffpf = 0,0,0,0,0,0\n",
        "    for j in range (batch):\n",
        "      focus = np.argmax(alphas[j])\n",
        "      if(alphas[j][focus] >= 0.5):\n",
        "        amth +=1\n",
        "      else:\n",
        "        alth +=1\n",
        "      if(focus == f_idx[j] and predicted[j] == lbls[j]):\n",
        "        ftpt += 1\n",
        "      elif(focus != f_idx[j] and predicted[j] == lbls[j]):\n",
        "        ffpt +=1\n",
        "      elif(focus == f_idx[j] and predicted[j] != lbls[j]):\n",
        "        ftpf +=1\n",
        "      elif(focus != f_idx[j] and predicted[j] != lbls[j]):\n",
        "        ffpf +=1\n",
        "    #print(sum(predicted==lbls),ftpt+ffpt)\n",
        "    return [ftpt,ffpt,ftpf,ffpf,amth,alth]"
      ],
      "execution_count": 15,
      "outputs": []
    },
    {
      "cell_type": "code",
      "metadata": {
        "id": "S633XgMToeN3"
      },
      "source": [
        "optim1 = []\n",
        "H= H.to(\"cpu\")\n",
        "for i in range(n_batches):\n",
        "  optim1.append(MyRmsprop([bg[i]],H=H,lr=0.1))\n",
        "  #optim1.append(optim.RMSprop([bg[i]],lr=0.1))"
      ],
      "execution_count": 16,
      "outputs": []
    },
    {
      "cell_type": "code",
      "metadata": {
        "colab": {
          "base_uri": "https://localhost:8080/"
        },
        "id": "qPaYaojinMTA",
        "outputId": "33d53243-9744-4f0b-ad91-4b0c0f120410"
      },
      "source": [
        "# instantiate optimizer\n",
        "optimizer_what = optim.RMSprop(what_net.parameters(), lr=0.001)#, momentum=0.9)#,nesterov=True)\n",
        "\n",
        "\n",
        " \n",
        "\n",
        "\n",
        "criterion = nn.CrossEntropyLoss()\n",
        "acti = []\n",
        "analysis_data_tr = []\n",
        "analysis_data_tst = []\n",
        "loss_curi_tr = []\n",
        "loss_curi_tst = []\n",
        "epochs = 200\n",
        "\n",
        "\n",
        "# calculate zeroth epoch loss and FTPT values\n",
        "running_loss,anlys_data,correct,total,accuracy = calculate_attn_loss(train_loader,what_net,criterion)\n",
        "print('training epoch: [%d ] loss: %.3f correct: %.3f, total: %.3f, accuracy: %.3f' %(0,running_loss,correct,total,accuracy)) \n",
        "loss_curi_tr.append(running_loss)\n",
        "analysis_data_tr.append(anlys_data)\n",
        "\n",
        "\n",
        "\n",
        "\n",
        "# training starts \n",
        "for epoch in range(epochs): # loop over the dataset multiple times\n",
        "  ep_lossi = []\n",
        "  running_loss = 0.0\n",
        "  what_net.train()\n",
        "  for i, data in enumerate(train_loader, 0):\n",
        "    # get the inputs\n",
        "    inputs, labels,_  = data\n",
        "    inputs = inputs.double()\n",
        "    beta = bg[i] # alpha for ith batch\n",
        "    #print(labels)\n",
        "    inputs, labels,beta = inputs.to(\"cuda\"),labels.to(\"cuda\"),beta.to(\"cuda\")\n",
        "        \n",
        "    # zero the parameter gradients\n",
        "    optimizer_what.zero_grad()\n",
        "    optim1[i].zero_grad()\n",
        "      \n",
        "    # forward + backward + optimize\n",
        "    avg,alpha = attn_avg(inputs,beta)\n",
        "    outputs = what_net(avg)     \n",
        "    loss = criterion(outputs, labels)\n",
        "\n",
        "    # print statistics\n",
        "    running_loss += loss.item()\n",
        "    #alpha.retain_grad()\n",
        "    loss.backward(retain_graph=False)\n",
        "    optimizer_what.step()\n",
        "    optim1[i].step()\n",
        "\n",
        "\n",
        "  running_loss_tr,anls_data,correct,total,accuracy = calculate_attn_loss(train_loader,what_net,criterion)\n",
        "  analysis_data_tr.append(anls_data)\n",
        "  loss_curi_tr.append(running_loss_tr)   #loss per epoch\n",
        "  print('training epoch: [%d ] loss: %.3f correct: %.3f, total: %.3f, accuracy: %.3f' %(epoch+1,running_loss_tr,correct,total,accuracy)) \n",
        "\n",
        "\n",
        "  \n",
        "  if running_loss_tr<=0.08:\n",
        "    break\n",
        "print('Finished Training run ')\n",
        "analysis_data_tr = np.array(analysis_data_tr)\n",
        "\n"
      ],
      "execution_count": 17,
      "outputs": [
        {
          "output_type": "stream",
          "text": [
            "training epoch: [0 ] loss: 10.201 correct: 1133.000, total: 3000.000, accuracy: 0.378\n",
            "training epoch: [1 ] loss: 13.484 correct: 1164.000, total: 3000.000, accuracy: 0.388\n",
            "training epoch: [2 ] loss: 7.248 correct: 1305.000, total: 3000.000, accuracy: 0.435\n",
            "training epoch: [3 ] loss: 5.974 correct: 1370.000, total: 3000.000, accuracy: 0.457\n",
            "training epoch: [4 ] loss: 5.109 correct: 1470.000, total: 3000.000, accuracy: 0.490\n",
            "training epoch: [5 ] loss: 4.476 correct: 1510.000, total: 3000.000, accuracy: 0.503\n",
            "training epoch: [6 ] loss: 3.962 correct: 1565.000, total: 3000.000, accuracy: 0.522\n",
            "training epoch: [7 ] loss: 3.540 correct: 1602.000, total: 3000.000, accuracy: 0.534\n",
            "training epoch: [8 ] loss: 3.183 correct: 1624.000, total: 3000.000, accuracy: 0.541\n",
            "training epoch: [9 ] loss: 2.882 correct: 1677.000, total: 3000.000, accuracy: 0.559\n",
            "training epoch: [10 ] loss: 2.624 correct: 1727.000, total: 3000.000, accuracy: 0.576\n",
            "training epoch: [11 ] loss: 2.404 correct: 1772.000, total: 3000.000, accuracy: 0.591\n",
            "training epoch: [12 ] loss: 2.213 correct: 1805.000, total: 3000.000, accuracy: 0.602\n",
            "training epoch: [13 ] loss: 2.048 correct: 1856.000, total: 3000.000, accuracy: 0.619\n",
            "training epoch: [14 ] loss: 1.903 correct: 1897.000, total: 3000.000, accuracy: 0.632\n",
            "training epoch: [15 ] loss: 1.775 correct: 1925.000, total: 3000.000, accuracy: 0.642\n",
            "training epoch: [16 ] loss: 1.659 correct: 1964.000, total: 3000.000, accuracy: 0.655\n",
            "training epoch: [17 ] loss: 1.555 correct: 2005.000, total: 3000.000, accuracy: 0.668\n",
            "training epoch: [18 ] loss: 1.460 correct: 2034.000, total: 3000.000, accuracy: 0.678\n",
            "training epoch: [19 ] loss: 1.374 correct: 2069.000, total: 3000.000, accuracy: 0.690\n",
            "training epoch: [20 ] loss: 1.294 correct: 2103.000, total: 3000.000, accuracy: 0.701\n",
            "training epoch: [21 ] loss: 1.221 correct: 2127.000, total: 3000.000, accuracy: 0.709\n",
            "training epoch: [22 ] loss: 1.154 correct: 2150.000, total: 3000.000, accuracy: 0.717\n",
            "training epoch: [23 ] loss: 1.094 correct: 2167.000, total: 3000.000, accuracy: 0.722\n",
            "training epoch: [24 ] loss: 1.038 correct: 2193.000, total: 3000.000, accuracy: 0.731\n",
            "training epoch: [25 ] loss: 0.986 correct: 2229.000, total: 3000.000, accuracy: 0.743\n",
            "training epoch: [26 ] loss: 0.939 correct: 2259.000, total: 3000.000, accuracy: 0.753\n",
            "training epoch: [27 ] loss: 0.895 correct: 2277.000, total: 3000.000, accuracy: 0.759\n",
            "training epoch: [28 ] loss: 0.854 correct: 2304.000, total: 3000.000, accuracy: 0.768\n",
            "training epoch: [29 ] loss: 0.816 correct: 2338.000, total: 3000.000, accuracy: 0.779\n",
            "training epoch: [30 ] loss: 0.781 correct: 2370.000, total: 3000.000, accuracy: 0.790\n",
            "training epoch: [31 ] loss: 0.749 correct: 2399.000, total: 3000.000, accuracy: 0.800\n",
            "training epoch: [32 ] loss: 0.718 correct: 2421.000, total: 3000.000, accuracy: 0.807\n",
            "training epoch: [33 ] loss: 0.690 correct: 2438.000, total: 3000.000, accuracy: 0.813\n",
            "training epoch: [34 ] loss: 0.663 correct: 2453.000, total: 3000.000, accuracy: 0.818\n",
            "training epoch: [35 ] loss: 0.638 correct: 2471.000, total: 3000.000, accuracy: 0.824\n",
            "training epoch: [36 ] loss: 0.614 correct: 2485.000, total: 3000.000, accuracy: 0.828\n",
            "training epoch: [37 ] loss: 0.592 correct: 2507.000, total: 3000.000, accuracy: 0.836\n",
            "training epoch: [38 ] loss: 0.571 correct: 2519.000, total: 3000.000, accuracy: 0.840\n",
            "training epoch: [39 ] loss: 0.551 correct: 2542.000, total: 3000.000, accuracy: 0.847\n",
            "training epoch: [40 ] loss: 0.532 correct: 2554.000, total: 3000.000, accuracy: 0.851\n",
            "training epoch: [41 ] loss: 0.514 correct: 2559.000, total: 3000.000, accuracy: 0.853\n",
            "training epoch: [42 ] loss: 0.497 correct: 2576.000, total: 3000.000, accuracy: 0.859\n",
            "training epoch: [43 ] loss: 0.481 correct: 2584.000, total: 3000.000, accuracy: 0.861\n",
            "training epoch: [44 ] loss: 0.465 correct: 2604.000, total: 3000.000, accuracy: 0.868\n",
            "training epoch: [45 ] loss: 0.450 correct: 2621.000, total: 3000.000, accuracy: 0.874\n",
            "training epoch: [46 ] loss: 0.436 correct: 2631.000, total: 3000.000, accuracy: 0.877\n",
            "training epoch: [47 ] loss: 0.422 correct: 2641.000, total: 3000.000, accuracy: 0.880\n",
            "training epoch: [48 ] loss: 0.410 correct: 2652.000, total: 3000.000, accuracy: 0.884\n",
            "training epoch: [49 ] loss: 0.397 correct: 2660.000, total: 3000.000, accuracy: 0.887\n",
            "training epoch: [50 ] loss: 0.385 correct: 2675.000, total: 3000.000, accuracy: 0.892\n",
            "training epoch: [51 ] loss: 0.374 correct: 2682.000, total: 3000.000, accuracy: 0.894\n",
            "training epoch: [52 ] loss: 0.364 correct: 2695.000, total: 3000.000, accuracy: 0.898\n",
            "training epoch: [53 ] loss: 0.353 correct: 2703.000, total: 3000.000, accuracy: 0.901\n",
            "training epoch: [54 ] loss: 0.344 correct: 2711.000, total: 3000.000, accuracy: 0.904\n",
            "training epoch: [55 ] loss: 0.335 correct: 2715.000, total: 3000.000, accuracy: 0.905\n",
            "training epoch: [56 ] loss: 0.326 correct: 2722.000, total: 3000.000, accuracy: 0.907\n",
            "training epoch: [57 ] loss: 0.318 correct: 2725.000, total: 3000.000, accuracy: 0.908\n",
            "training epoch: [58 ] loss: 0.310 correct: 2728.000, total: 3000.000, accuracy: 0.909\n",
            "training epoch: [59 ] loss: 0.302 correct: 2738.000, total: 3000.000, accuracy: 0.913\n",
            "training epoch: [60 ] loss: 0.294 correct: 2745.000, total: 3000.000, accuracy: 0.915\n",
            "training epoch: [61 ] loss: 0.287 correct: 2748.000, total: 3000.000, accuracy: 0.916\n",
            "training epoch: [62 ] loss: 0.280 correct: 2756.000, total: 3000.000, accuracy: 0.919\n",
            "training epoch: [63 ] loss: 0.273 correct: 2757.000, total: 3000.000, accuracy: 0.919\n",
            "training epoch: [64 ] loss: 0.267 correct: 2763.000, total: 3000.000, accuracy: 0.921\n",
            "training epoch: [65 ] loss: 0.261 correct: 2770.000, total: 3000.000, accuracy: 0.923\n",
            "training epoch: [66 ] loss: 0.254 correct: 2777.000, total: 3000.000, accuracy: 0.926\n",
            "training epoch: [67 ] loss: 0.249 correct: 2780.000, total: 3000.000, accuracy: 0.927\n",
            "training epoch: [68 ] loss: 0.243 correct: 2788.000, total: 3000.000, accuracy: 0.929\n",
            "training epoch: [69 ] loss: 0.237 correct: 2791.000, total: 3000.000, accuracy: 0.930\n",
            "training epoch: [70 ] loss: 0.232 correct: 2796.000, total: 3000.000, accuracy: 0.932\n",
            "training epoch: [71 ] loss: 0.227 correct: 2801.000, total: 3000.000, accuracy: 0.934\n",
            "training epoch: [72 ] loss: 0.222 correct: 2805.000, total: 3000.000, accuracy: 0.935\n",
            "training epoch: [73 ] loss: 0.217 correct: 2811.000, total: 3000.000, accuracy: 0.937\n",
            "training epoch: [74 ] loss: 0.212 correct: 2818.000, total: 3000.000, accuracy: 0.939\n",
            "training epoch: [75 ] loss: 0.208 correct: 2823.000, total: 3000.000, accuracy: 0.941\n",
            "training epoch: [76 ] loss: 0.204 correct: 2826.000, total: 3000.000, accuracy: 0.942\n",
            "training epoch: [77 ] loss: 0.199 correct: 2828.000, total: 3000.000, accuracy: 0.943\n",
            "training epoch: [78 ] loss: 0.195 correct: 2835.000, total: 3000.000, accuracy: 0.945\n",
            "training epoch: [79 ] loss: 0.191 correct: 2838.000, total: 3000.000, accuracy: 0.946\n",
            "training epoch: [80 ] loss: 0.187 correct: 2840.000, total: 3000.000, accuracy: 0.947\n",
            "training epoch: [81 ] loss: 0.184 correct: 2843.000, total: 3000.000, accuracy: 0.948\n",
            "training epoch: [82 ] loss: 0.180 correct: 2847.000, total: 3000.000, accuracy: 0.949\n",
            "training epoch: [83 ] loss: 0.176 correct: 2853.000, total: 3000.000, accuracy: 0.951\n",
            "training epoch: [84 ] loss: 0.173 correct: 2858.000, total: 3000.000, accuracy: 0.953\n",
            "training epoch: [85 ] loss: 0.170 correct: 2861.000, total: 3000.000, accuracy: 0.954\n",
            "training epoch: [86 ] loss: 0.167 correct: 2865.000, total: 3000.000, accuracy: 0.955\n",
            "training epoch: [87 ] loss: 0.163 correct: 2867.000, total: 3000.000, accuracy: 0.956\n",
            "training epoch: [88 ] loss: 0.160 correct: 2872.000, total: 3000.000, accuracy: 0.957\n",
            "training epoch: [89 ] loss: 0.157 correct: 2872.000, total: 3000.000, accuracy: 0.957\n",
            "training epoch: [90 ] loss: 0.155 correct: 2874.000, total: 3000.000, accuracy: 0.958\n",
            "training epoch: [91 ] loss: 0.152 correct: 2876.000, total: 3000.000, accuracy: 0.959\n",
            "training epoch: [92 ] loss: 0.149 correct: 2879.000, total: 3000.000, accuracy: 0.960\n",
            "training epoch: [93 ] loss: 0.146 correct: 2884.000, total: 3000.000, accuracy: 0.961\n",
            "training epoch: [94 ] loss: 0.144 correct: 2890.000, total: 3000.000, accuracy: 0.963\n",
            "training epoch: [95 ] loss: 0.141 correct: 2892.000, total: 3000.000, accuracy: 0.964\n",
            "training epoch: [96 ] loss: 0.139 correct: 2895.000, total: 3000.000, accuracy: 0.965\n",
            "training epoch: [97 ] loss: 0.137 correct: 2901.000, total: 3000.000, accuracy: 0.967\n",
            "training epoch: [98 ] loss: 0.134 correct: 2901.000, total: 3000.000, accuracy: 0.967\n",
            "training epoch: [99 ] loss: 0.132 correct: 2902.000, total: 3000.000, accuracy: 0.967\n",
            "training epoch: [100 ] loss: 0.130 correct: 2904.000, total: 3000.000, accuracy: 0.968\n",
            "training epoch: [101 ] loss: 0.128 correct: 2906.000, total: 3000.000, accuracy: 0.969\n",
            "training epoch: [102 ] loss: 0.126 correct: 2910.000, total: 3000.000, accuracy: 0.970\n",
            "training epoch: [103 ] loss: 0.124 correct: 2914.000, total: 3000.000, accuracy: 0.971\n",
            "training epoch: [104 ] loss: 0.122 correct: 2915.000, total: 3000.000, accuracy: 0.972\n",
            "training epoch: [105 ] loss: 0.120 correct: 2917.000, total: 3000.000, accuracy: 0.972\n",
            "training epoch: [106 ] loss: 0.118 correct: 2920.000, total: 3000.000, accuracy: 0.973\n",
            "training epoch: [107 ] loss: 0.117 correct: 2921.000, total: 3000.000, accuracy: 0.974\n",
            "training epoch: [108 ] loss: 0.115 correct: 2924.000, total: 3000.000, accuracy: 0.975\n",
            "training epoch: [109 ] loss: 0.113 correct: 2926.000, total: 3000.000, accuracy: 0.975\n",
            "training epoch: [110 ] loss: 0.112 correct: 2927.000, total: 3000.000, accuracy: 0.976\n",
            "training epoch: [111 ] loss: 0.110 correct: 2927.000, total: 3000.000, accuracy: 0.976\n",
            "training epoch: [112 ] loss: 0.109 correct: 2929.000, total: 3000.000, accuracy: 0.976\n",
            "training epoch: [113 ] loss: 0.107 correct: 2933.000, total: 3000.000, accuracy: 0.978\n",
            "training epoch: [114 ] loss: 0.106 correct: 2933.000, total: 3000.000, accuracy: 0.978\n",
            "training epoch: [115 ] loss: 0.104 correct: 2933.000, total: 3000.000, accuracy: 0.978\n",
            "training epoch: [116 ] loss: 0.103 correct: 2933.000, total: 3000.000, accuracy: 0.978\n",
            "training epoch: [117 ] loss: 0.101 correct: 2934.000, total: 3000.000, accuracy: 0.978\n",
            "training epoch: [118 ] loss: 0.100 correct: 2935.000, total: 3000.000, accuracy: 0.978\n",
            "training epoch: [119 ] loss: 0.099 correct: 2936.000, total: 3000.000, accuracy: 0.979\n",
            "training epoch: [120 ] loss: 0.097 correct: 2937.000, total: 3000.000, accuracy: 0.979\n",
            "training epoch: [121 ] loss: 0.096 correct: 2937.000, total: 3000.000, accuracy: 0.979\n",
            "training epoch: [122 ] loss: 0.095 correct: 2939.000, total: 3000.000, accuracy: 0.980\n",
            "training epoch: [123 ] loss: 0.094 correct: 2939.000, total: 3000.000, accuracy: 0.980\n",
            "training epoch: [124 ] loss: 0.093 correct: 2941.000, total: 3000.000, accuracy: 0.980\n",
            "training epoch: [125 ] loss: 0.091 correct: 2942.000, total: 3000.000, accuracy: 0.981\n",
            "training epoch: [126 ] loss: 0.090 correct: 2943.000, total: 3000.000, accuracy: 0.981\n",
            "training epoch: [127 ] loss: 0.089 correct: 2943.000, total: 3000.000, accuracy: 0.981\n",
            "training epoch: [128 ] loss: 0.088 correct: 2944.000, total: 3000.000, accuracy: 0.981\n",
            "training epoch: [129 ] loss: 0.087 correct: 2946.000, total: 3000.000, accuracy: 0.982\n",
            "training epoch: [130 ] loss: 0.086 correct: 2946.000, total: 3000.000, accuracy: 0.982\n",
            "training epoch: [131 ] loss: 0.085 correct: 2948.000, total: 3000.000, accuracy: 0.983\n",
            "training epoch: [132 ] loss: 0.084 correct: 2949.000, total: 3000.000, accuracy: 0.983\n",
            "training epoch: [133 ] loss: 0.083 correct: 2949.000, total: 3000.000, accuracy: 0.983\n",
            "training epoch: [134 ] loss: 0.082 correct: 2949.000, total: 3000.000, accuracy: 0.983\n",
            "training epoch: [135 ] loss: 0.081 correct: 2951.000, total: 3000.000, accuracy: 0.984\n",
            "training epoch: [136 ] loss: 0.080 correct: 2953.000, total: 3000.000, accuracy: 0.984\n",
            "training epoch: [137 ] loss: 0.080 correct: 2954.000, total: 3000.000, accuracy: 0.985\n",
            "Finished Training run \n"
          ],
          "name": "stdout"
        }
      ]
    },
    {
      "cell_type": "code",
      "metadata": {
        "id": "AciJnAh5nfug"
      },
      "source": [
        "columns = [\"epochs\", \"argmax > 0.5\" ,\"argmax < 0.5\", \"focus_true_pred_true\", \"focus_false_pred_true\", \"focus_true_pred_false\", \"focus_false_pred_false\" ]\n",
        "df_train = pd.DataFrame()\n",
        "df_test = pd.DataFrame()\n",
        "df_train[columns[0]] = np.arange(0,epoch+2)\n",
        "df_train[columns[1]] = analysis_data_tr[:,-2]/30\n",
        "df_train[columns[2]] = analysis_data_tr[:,-1]/30\n",
        "df_train[columns[3]] = analysis_data_tr[:,0]/30\n",
        "df_train[columns[4]] = analysis_data_tr[:,1]/30\n",
        "df_train[columns[5]] = analysis_data_tr[:,2]/30\n",
        "df_train[columns[6]] = analysis_data_tr[:,3]/30"
      ],
      "execution_count": 18,
      "outputs": []
    },
    {
      "cell_type": "code",
      "metadata": {
        "colab": {
          "base_uri": "https://localhost:8080/",
          "height": 456
        },
        "id": "NoQpS_6scRsC",
        "outputId": "7acaac42-b4ce-46bd-e1fa-38fc7e2d0316"
      },
      "source": [
        "df_train"
      ],
      "execution_count": 19,
      "outputs": [
        {
          "output_type": "execute_result",
          "data": {
            "text/html": [
              "<div>\n",
              "<style scoped>\n",
              "    .dataframe tbody tr th:only-of-type {\n",
              "        vertical-align: middle;\n",
              "    }\n",
              "\n",
              "    .dataframe tbody tr th {\n",
              "        vertical-align: top;\n",
              "    }\n",
              "\n",
              "    .dataframe thead th {\n",
              "        text-align: right;\n",
              "    }\n",
              "</style>\n",
              "<table border=\"1\" class=\"dataframe\">\n",
              "  <thead>\n",
              "    <tr style=\"text-align: right;\">\n",
              "      <th></th>\n",
              "      <th>epochs</th>\n",
              "      <th>argmax &gt; 0.5</th>\n",
              "      <th>argmax &lt; 0.5</th>\n",
              "      <th>focus_true_pred_true</th>\n",
              "      <th>focus_false_pred_true</th>\n",
              "      <th>focus_true_pred_false</th>\n",
              "      <th>focus_false_pred_false</th>\n",
              "    </tr>\n",
              "  </thead>\n",
              "  <tbody>\n",
              "    <tr>\n",
              "      <th>0</th>\n",
              "      <td>0</td>\n",
              "      <td>9.800000</td>\n",
              "      <td>90.200000</td>\n",
              "      <td>5.233333</td>\n",
              "      <td>32.533333</td>\n",
              "      <td>6.533333</td>\n",
              "      <td>55.700000</td>\n",
              "    </tr>\n",
              "    <tr>\n",
              "      <th>1</th>\n",
              "      <td>1</td>\n",
              "      <td>23.000000</td>\n",
              "      <td>77.000000</td>\n",
              "      <td>9.166667</td>\n",
              "      <td>29.633333</td>\n",
              "      <td>5.666667</td>\n",
              "      <td>55.533333</td>\n",
              "    </tr>\n",
              "    <tr>\n",
              "      <th>2</th>\n",
              "      <td>2</td>\n",
              "      <td>24.466667</td>\n",
              "      <td>75.533333</td>\n",
              "      <td>15.666667</td>\n",
              "      <td>27.833333</td>\n",
              "      <td>10.100000</td>\n",
              "      <td>46.400000</td>\n",
              "    </tr>\n",
              "    <tr>\n",
              "      <th>3</th>\n",
              "      <td>3</td>\n",
              "      <td>25.666667</td>\n",
              "      <td>74.333333</td>\n",
              "      <td>15.033333</td>\n",
              "      <td>30.633333</td>\n",
              "      <td>10.500000</td>\n",
              "      <td>43.833333</td>\n",
              "    </tr>\n",
              "    <tr>\n",
              "      <th>4</th>\n",
              "      <td>4</td>\n",
              "      <td>28.333333</td>\n",
              "      <td>71.666667</td>\n",
              "      <td>18.033333</td>\n",
              "      <td>30.966667</td>\n",
              "      <td>10.500000</td>\n",
              "      <td>40.500000</td>\n",
              "    </tr>\n",
              "    <tr>\n",
              "      <th>...</th>\n",
              "      <td>...</td>\n",
              "      <td>...</td>\n",
              "      <td>...</td>\n",
              "      <td>...</td>\n",
              "      <td>...</td>\n",
              "      <td>...</td>\n",
              "      <td>...</td>\n",
              "    </tr>\n",
              "    <tr>\n",
              "      <th>133</th>\n",
              "      <td>133</td>\n",
              "      <td>91.866667</td>\n",
              "      <td>8.133333</td>\n",
              "      <td>87.433333</td>\n",
              "      <td>10.866667</td>\n",
              "      <td>0.666667</td>\n",
              "      <td>1.033333</td>\n",
              "    </tr>\n",
              "    <tr>\n",
              "      <th>134</th>\n",
              "      <td>134</td>\n",
              "      <td>91.900000</td>\n",
              "      <td>8.100000</td>\n",
              "      <td>87.466667</td>\n",
              "      <td>10.833333</td>\n",
              "      <td>0.666667</td>\n",
              "      <td>1.033333</td>\n",
              "    </tr>\n",
              "    <tr>\n",
              "      <th>135</th>\n",
              "      <td>135</td>\n",
              "      <td>92.066667</td>\n",
              "      <td>7.933333</td>\n",
              "      <td>87.600000</td>\n",
              "      <td>10.766667</td>\n",
              "      <td>0.633333</td>\n",
              "      <td>1.000000</td>\n",
              "    </tr>\n",
              "    <tr>\n",
              "      <th>136</th>\n",
              "      <td>136</td>\n",
              "      <td>92.066667</td>\n",
              "      <td>7.933333</td>\n",
              "      <td>87.800000</td>\n",
              "      <td>10.633333</td>\n",
              "      <td>0.600000</td>\n",
              "      <td>0.966667</td>\n",
              "    </tr>\n",
              "    <tr>\n",
              "      <th>137</th>\n",
              "      <td>137</td>\n",
              "      <td>92.033333</td>\n",
              "      <td>7.966667</td>\n",
              "      <td>87.933333</td>\n",
              "      <td>10.533333</td>\n",
              "      <td>0.633333</td>\n",
              "      <td>0.900000</td>\n",
              "    </tr>\n",
              "  </tbody>\n",
              "</table>\n",
              "<p>138 rows × 7 columns</p>\n",
              "</div>"
            ],
            "text/plain": [
              "     epochs  argmax > 0.5  ...  focus_true_pred_false  focus_false_pred_false\n",
              "0         0      9.800000  ...               6.533333               55.700000\n",
              "1         1     23.000000  ...               5.666667               55.533333\n",
              "2         2     24.466667  ...              10.100000               46.400000\n",
              "3         3     25.666667  ...              10.500000               43.833333\n",
              "4         4     28.333333  ...              10.500000               40.500000\n",
              "..      ...           ...  ...                    ...                     ...\n",
              "133     133     91.866667  ...               0.666667                1.033333\n",
              "134     134     91.900000  ...               0.666667                1.033333\n",
              "135     135     92.066667  ...               0.633333                1.000000\n",
              "136     136     92.066667  ...               0.600000                0.966667\n",
              "137     137     92.033333  ...               0.633333                0.900000\n",
              "\n",
              "[138 rows x 7 columns]"
            ]
          },
          "metadata": {
            "tags": []
          },
          "execution_count": 19
        }
      ]
    },
    {
      "cell_type": "code",
      "metadata": {
        "colab": {
          "base_uri": "https://localhost:8080/",
          "height": 404
        },
        "id": "IMAhRdxOcVf6",
        "outputId": "6ab5dba1-2da2-4ea3-d99d-7c3294287587"
      },
      "source": [
        "fig= plt.figure(figsize=(6,6))\n",
        "plt.plot(df_train[columns[0]],df_train[columns[3]], label =\"focus_true_pred_true \")\n",
        "plt.plot(df_train[columns[0]],df_train[columns[4]], label =\"focus_false_pred_true \")\n",
        "plt.plot(df_train[columns[0]],df_train[columns[5]], label =\"focus_true_pred_false \")\n",
        "plt.plot(df_train[columns[0]],df_train[columns[6]], label =\"focus_false_pred_false \")\n",
        "plt.title(\"On Train set\")\n",
        "plt.legend(loc='center left', bbox_to_anchor=(1, 0.5))\n",
        "plt.xlabel(\"epochs\")\n",
        "plt.ylabel(\"percentage of data\")\n",
        "plt.xticks([0,20,40,60,80,100,120,140])\n",
        "#plt.vlines(vline_list,min(min(df_train[columns[3]]/300),min(df_train[columns[4]]/300),min(df_train[columns[5]]/300),min(df_train[columns[6]]/300)), max(max(df_train[columns[3]]/300),max(df_train[columns[4]]/300),max(df_train[columns[5]]/300),max(df_train[columns[6]]/300)),linestyles='dotted')\n",
        "plt.show()\n",
        "fig.savefig(\"train_analysis.pdf\")\n",
        "fig.savefig(\"train_analysis.png\")"
      ],
      "execution_count": 29,
      "outputs": [
        {
          "output_type": "display_data",
          "data": {
            "image/png": "[encoded data removed]",
            "text/plain": [
              "<Figure size 432x432 with 1 Axes>"
            ]
          },
          "metadata": {
            "tags": [],
            "needs_background": "light"
          }
        }
      ]
    },
    {
      "cell_type": "code",
      "metadata": {
        "id": "VCnS6r2_3WdU"
      },
      "source": [
        "aph = []\n",
        "for i in bg:\n",
        "  aph.append(F.softmax(i,dim=1).detach().numpy())\n",
        "aph = np.concatenate(aph,axis=0)\n",
        "# torch.save({\n",
        "#             'epoch': 500,\n",
        "#             'model_state_dict': what_net.state_dict(),\n",
        "#             #'optimizer_state_dict': optimizer_what.state_dict(),\n",
        "#             \"optimizer_alpha\":optim1,\n",
        "#             \"FTPT_analysis\":analysis_data_tr,\n",
        "#             \"alpha\":aph\n",
        "\n",
        "#             }, \"type4_what_net_500.pt\")"
      ],
      "execution_count": 21,
      "outputs": []
    },
    {
      "cell_type": "code",
      "metadata": {
        "colab": {
          "base_uri": "https://localhost:8080/"
        },
        "id": "KVzrDOGS4UxU",
        "outputId": "545e38a1-4bf4-4500-ee86-a65afdef84a1"
      },
      "source": [
        "aph[0]"
      ],
      "execution_count": 22,
      "outputs": [
        {
          "output_type": "execute_result",
          "data": {
            "text/plain": [
              "array([3.7148976e-04, 1.3938375e-03, 7.5480178e-02, 9.0030605e-01,\n",
              "       1.3451159e-02, 7.0943660e-03, 9.6859789e-04, 4.6397091e-04,\n",
              "       4.7030128e-04], dtype=float32)"
            ]
          },
          "metadata": {
            "tags": []
          },
          "execution_count": 22
        }
      ]
    },
    {
      "cell_type": "code",
      "metadata": {
        "id": "yF2bvWdIWUTa"
      },
      "source": [
        "xx,yy= np.meshgrid(np.arange(1,8,0.01),np.arange(2,9,0.01))\n",
        "X = np.concatenate((xx.reshape(-1,1),yy.reshape(-1,1)),axis=1)\n",
        "X = torch.Tensor(X).double().to(\"cuda\")\n",
        "Y1 = what_net(X)"
      ],
      "execution_count": 23,
      "outputs": []
    },
    {
      "cell_type": "code",
      "metadata": {
        "id": "GENNdxJEa_Xi"
      },
      "source": [
        "Y1 = Y1.to(\"cpu\")\n",
        "Y1 = Y1.detach().numpy()\n",
        "Y1 = torch.softmax(torch.Tensor(Y1),dim=1)\n",
        "_,Z4= torch.max(Y1,1)\n",
        "Z1 = Y1[:,0]\n",
        "Z2 = Y1[:,1]\n",
        "Z3 = Y1[:,2]"
      ],
      "execution_count": 24,
      "outputs": []
    },
    {
      "cell_type": "code",
      "metadata": {
        "id": "5ZwEogAobesX"
      },
      "source": [
        "X = X.to(\"cpu\")"
      ],
      "execution_count": 25,
      "outputs": []
    },
    {
      "cell_type": "code",
      "metadata": {
        "colab": {
          "base_uri": "https://localhost:8080/"
        },
        "id": "ZIoUNsgebIku",
        "outputId": "e9209359-e6b0-4083-8b9b-4766a2f3553f"
      },
      "source": [
        "data = np.load(\"type_4_data.npy\",allow_pickle=True)\n",
        "x = data[0][\"X\"]\n",
        "y = data[0][\"Y\"]\n",
        "idx= []\n",
        "for i in range(10):\n",
        "  print(i,sum(y==i))\n",
        "  idx.append(y==i)"
      ],
      "execution_count": 26,
      "outputs": [
        {
          "output_type": "stream",
          "text": [
            "0 482\n",
            "1 485\n",
            "2 536\n",
            "3 504\n",
            "4 493\n",
            "5 513\n",
            "6 497\n",
            "7 486\n",
            "8 522\n",
            "9 482\n"
          ],
          "name": "stdout"
        }
      ]
    },
    {
      "cell_type": "code",
      "metadata": {
        "id": "7Ut6ZTAXbvqx"
      },
      "source": [
        "avrg = []\n",
        "with torch.no_grad():\n",
        "  for i, data in  enumerate(train_loader):\n",
        "          inputs , labels , fore_idx = data\n",
        "          inputs = inputs.double()\n",
        "          inputs, labels = inputs.to(\"cuda\"),labels.to(\"cuda\")\n",
        "          beta  = bg[i]\n",
        "          beta = beta.to(\"cuda\")\n",
        "          avg,alpha = attn_avg(inputs,beta)\n",
        "          \n",
        "          avrg.append(avg.detach().cpu().numpy())\n",
        "avrg= np.concatenate(avrg,axis=0)"
      ],
      "execution_count": 27,
      "outputs": []
    },
    {
      "cell_type": "code",
      "metadata": {
        "colab": {
          "base_uri": "https://localhost:8080/",
          "height": 374
        },
        "id": "5PAwMQXzbQJR",
        "outputId": "4586220a-26d4-4905-bd95-af41711ea2b8"
      },
      "source": [
        "fig = plt.figure(figsize=(6,6))\n",
        "#plt.scatter(X[:,0],X[:,1],c=Z4)\n",
        "Z4 = Z4.reshape(xx.shape)\n",
        "plt.contourf(xx, yy, Z4, alpha=0.4)\n",
        "for i in range(3):\n",
        "  plt.scatter(x[idx[i],0],x[idx[i],1],label=\"class_\"+str(i),alpha=0.8)\n",
        "plt.legend(loc='center left', bbox_to_anchor=(1, 0.5))\n",
        "plt.scatter(avrg[:,0],avrg[:,1],alpha=0.2)\n",
        "plt.savefig(\"decision_boundary.png\",bbox_inches=\"tight\")\n"
      ],
      "execution_count": 28,
      "outputs": [
        {
          "output_type": "display_data",
          "data": {
            "image/png": "[encoded data removed]",
            "text/plain": [
              "<Figure size 432x432 with 1 Axes>"
            ]
          },
          "metadata": {
            "tags": [],
            "needs_background": "light"
          }
        }
      ]
    },
    {
      "cell_type": "code",
      "metadata": {
        "id": "6KHn17Rbceqt"
      },
      "source": [
        ""
      ],
      "execution_count": 28,
      "outputs": []
    }
  ]
}