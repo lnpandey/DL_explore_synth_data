{
  "nbformat": 4,
  "nbformat_minor": 0,
  "metadata": {
    "accelerator": "GPU",
    "colab": {
      "name": "type4_attn_ewts_distance_kernel.ipynb",
      "provenance": [],
      "collapsed_sections": []
    },
    "kernelspec": {
      "display_name": "Python 3",
      "name": "python3"
    },
    "language_info": {
      "name": "python"
    }
  },
  "cells": [
    {
      "cell_type": "code",
      "metadata": {
        "id": "BWIyC9Ip_bcq"
      },
      "source": [
        "import numpy as np\n",
        "import pandas as pd\n",
        "\n",
        "import torch\n",
        "import torchvision\n",
        "from torch.utils.data import Dataset, DataLoader\n",
        "from torchvision import transforms, utils\n",
        "import torch.nn as nn\n",
        "import torch.nn.functional as F\n",
        "import torch.optim as optim\n",
        "\n",
        "from matplotlib import pyplot as plt\n",
        "\n",
        "\n",
        "from myrmsprop import MyRmsprop\n",
        "from utils import plot_decision_boundary,attn_avg,plot_analysis\n",
        "from synthetic_dataset import MosaicDataset1\n",
        "from eval_model import calculate_attn_loss,analyse_data\n",
        "\n",
        "\n",
        "\n",
        "%matplotlib inline\n",
        "torch.backends.cudnn.deterministic = True\n",
        "torch.backends.cudnn.benchmark = False"
      ],
      "execution_count": 1,
      "outputs": []
    },
    {
      "cell_type": "code",
      "metadata": {
        "id": "lGVy-1EllAc_"
      },
      "source": [
        "train_data = np.load(\"train_type4_data.npy\",allow_pickle=True)\n",
        "\n",
        "test_data = np.load(\"test_type4_data.npy\",allow_pickle=True)"
      ],
      "execution_count": 2,
      "outputs": []
    },
    {
      "cell_type": "code",
      "metadata": {
        "id": "uL771xuGZC5Q"
      },
      "source": [
        "mosaic_list_of_images = train_data[0][\"mosaic_list\"]\n",
        "mosaic_label = train_data[0][\"mosaic_label\"]\n",
        "fore_idx = train_data[0][\"fore_idx\"]\n",
        "\n",
        "\n",
        "test_mosaic_list_of_images = test_data[0][\"mosaic_list\"]\n",
        "test_mosaic_label = test_data[0][\"mosaic_label\"]\n",
        "test_fore_idx = test_data[0][\"fore_idx\"]"
      ],
      "execution_count": 3,
      "outputs": []
    },
    {
      "cell_type": "code",
      "metadata": {
        "id": "uf76JwkxZCT0"
      },
      "source": [
        "batch = 3000\n",
        "train_dataset = MosaicDataset1(mosaic_list_of_images, mosaic_label, fore_idx)\n",
        "train_loader = DataLoader( train_dataset,batch_size= batch ,shuffle=False)\n",
        "#batch = 2000\n",
        "#test_dataset = MosaicDataset1(test_mosaic_list_of_images, test_mosaic_label, test_fore_idx)\n",
        "#test_loader = DataLoader(test_dataset,batch_size= batch ,shuffle=False)"
      ],
      "execution_count": 4,
      "outputs": []
    },
    {
      "cell_type": "code",
      "metadata": {
        "id": "DOpZfj1bq7wN"
      },
      "source": [
        "n_batches = 3000//batch\n",
        "bg = []\n",
        "for i in range(n_batches):\n",
        "  torch.manual_seed(i)\n",
        "  betag = torch.randn(3000,9)#torch.ones((250,9))/9\n",
        "  bg.append( betag.requires_grad_() )"
      ],
      "execution_count": 5,
      "outputs": []
    },
    {
      "cell_type": "code",
      "metadata": {
        "colab": {
          "base_uri": "https://localhost:8080/"
        },
        "id": "fzb3ii4drXpu",
        "outputId": "985b336f-9bc5-42db-9c9e-5b7b97ac686d"
      },
      "source": [
        "len(bg)"
      ],
      "execution_count": 6,
      "outputs": [
        {
          "output_type": "execute_result",
          "data": {
            "text/plain": [
              "1"
            ]
          },
          "metadata": {
            "tags": []
          },
          "execution_count": 6
        }
      ]
    },
    {
      "cell_type": "code",
      "metadata": {
        "id": "Am8LcQm1Og-f"
      },
      "source": [
        "data = np.load(\"dist_top1_type4.npy\",allow_pickle=True)\n",
        "indices = data[0]['indices'].numpy()\n",
        "rows,cols = np.unravel_index(indices,shape=(27000,27000))\n",
        "H = torch.zeros((27000,27000))\n",
        "H[rows,cols] =1\n",
        "#H = np.zeros((27000,27000))\n",
        "# for i, data in enumerate(train_loader, 0):\n",
        "#   print(i) # only one batch\n",
        "#   inputs,_,_ = data\n",
        "#   inputs = torch.reshape(inputs,(27000,2))\n",
        "\n",
        "#   dis = (torch.cdist(inputs,inputs)**2).to(dtype=torch.float32).flatten()\n",
        "  \n",
        "  \n",
        "\n",
        "\n",
        "\n",
        "\n"
      ],
      "execution_count": 7,
      "outputs": []
    },
    {
      "cell_type": "code",
      "metadata": {
        "colab": {
          "base_uri": "https://localhost:8080/"
        },
        "id": "vXCBGTnkosew",
        "outputId": "f899ef05-caa7-42c5-8ff9-e88b02af4ef8"
      },
      "source": [
        "print(indices,rows[0],cols[0])\n",
        "# to check H contains only 7290000 elements\n",
        "torch.sum(H)"
      ],
      "execution_count": 8,
      "outputs": [
        {
          "output_type": "stream",
          "text": [
            "[ 74846772 640012206 434730224 ... 280650211 180429167 507357022] 2772 2772\n"
          ],
          "name": "stdout"
        },
        {
          "output_type": "execute_result",
          "data": {
            "text/plain": [
              "tensor(7290000.)"
            ]
          },
          "metadata": {
            "tags": []
          },
          "execution_count": 8
        }
      ]
    },
    {
      "cell_type": "code",
      "metadata": {
        "id": "HbrMidFCla6h"
      },
      "source": [
        "class Module2(nn.Module):\n",
        "  def __init__(self):\n",
        "    super(Module2, self).__init__()\n",
        "    self.linear1 = nn.Linear(2,100)\n",
        "    self.linear2 = nn.Linear(100,3)\n",
        "\n",
        "  def forward(self,x):\n",
        "    x = F.relu(self.linear1(x))\n",
        "    x = self.linear2(x)\n",
        "    return x"
      ],
      "execution_count": 9,
      "outputs": []
    },
    {
      "cell_type": "code",
      "metadata": {
        "id": "rRqj2VELllkX"
      },
      "source": [
        "torch.manual_seed(1234)\n",
        "what_net = Module2().double()\n",
        "\n",
        "what_net.load_state_dict(torch.load(\"type4_what_net.pt\"))\n",
        "what_net = what_net.to(\"cuda\")"
      ],
      "execution_count": 10,
      "outputs": []
    },
    {
      "cell_type": "code",
      "metadata": {
        "id": "sAY-x6UAwrwE"
      },
      "source": [
        "# for param in what_net.parameters():\n",
        "#     param.requires_grad = False"
      ],
      "execution_count": 11,
      "outputs": []
    },
    {
      "cell_type": "code",
      "metadata": {
        "id": "S633XgMToeN3"
      },
      "source": [
        "optim1 = []\n",
        "H= H.to(\"cpu\")\n",
        "for i in range(n_batches):\n",
        "  optim1.append(MyRmsprop([bg[i]],H=H,lr=0.01))"
      ],
      "execution_count": 12,
      "outputs": []
    },
    {
      "cell_type": "code",
      "metadata": {
        "colab": {
          "base_uri": "https://localhost:8080/"
        },
        "id": "qPaYaojinMTA",
        "outputId": "f82a605e-ef65-4550-eab9-8ac8612d20c0"
      },
      "source": [
        "# instantiate optimizer\n",
        "optimizer_what = optim.RMSprop(what_net.parameters(), lr=0.001)#, momentum=0.9)#,nesterov=True)\n",
        "\n",
        "\n",
        " \n",
        "\n",
        "\n",
        "criterion = nn.CrossEntropyLoss()\n",
        "acti = []\n",
        "analysis_data_tr = []\n",
        "analysis_data_tst = []\n",
        "loss_curi_tr = []\n",
        "loss_curi_tst = []\n",
        "epochs = 200\n",
        "\n",
        "\n",
        "# calculate zeroth epoch loss and FTPT values\n",
        "running_loss,anlys_data,correct,total,accuracy = calculate_attn_loss(train_loader,bg,what_net,criterion)\n",
        "print('training epoch: [%d ] loss: %.3f correct: %.3f, total: %.3f, accuracy: %.3f' %(0,running_loss,correct,total,accuracy)) \n",
        "loss_curi_tr.append(running_loss)\n",
        "analysis_data_tr.append(anlys_data)\n",
        "\n",
        "\n",
        "\n",
        "\n",
        "# training starts \n",
        "for epoch in range(epochs): # loop over the dataset multiple times\n",
        "  ep_lossi = []\n",
        "  running_loss = 0.0\n",
        "  what_net.train()\n",
        "  for i, data in enumerate(train_loader, 0):\n",
        "    # get the inputs\n",
        "    inputs, labels,_  = data\n",
        "    inputs = inputs.double()\n",
        "    beta = bg[i] # alpha for ith batch\n",
        "    #print(labels)\n",
        "    inputs, labels,beta = inputs.to(\"cuda\"),labels.to(\"cuda\"),beta.to(\"cuda\")\n",
        "        \n",
        "    # zero the parameter gradients\n",
        "    optimizer_what.zero_grad()\n",
        "    optim1[i].zero_grad()\n",
        "      \n",
        "    # forward + backward + optimize\n",
        "    avg,alpha = attn_avg(inputs,beta)\n",
        "    outputs = what_net(avg)     \n",
        "    loss = criterion(outputs, labels)\n",
        "\n",
        "    # print statistics\n",
        "    running_loss += loss.item()\n",
        "    #alpha.retain_grad()\n",
        "    loss.backward(retain_graph=False)\n",
        "    optimizer_what.step()\n",
        "    optim1[i].step()\n",
        "\n",
        "\n",
        "  running_loss_tr,anls_data,correct,total,accuracy = calculate_attn_loss(train_loader,bg,what_net,criterion)\n",
        "  analysis_data_tr.append(anls_data)\n",
        "  loss_curi_tr.append(running_loss_tr)   #loss per epoch\n",
        "  print('training epoch: [%d ] loss: %.3f correct: %.3f, total: %.3f, accuracy: %.3f' %(epoch+1,running_loss_tr,correct,total,accuracy)) \n",
        "\n",
        "\n",
        "  \n",
        "  if running_loss_tr<=0.08:\n",
        "    break\n",
        "print('Finished Training run ')\n",
        "analysis_data_tr = np.array(analysis_data_tr)\n",
        "\n"
      ],
      "execution_count": 13,
      "outputs": [
        {
          "output_type": "stream",
          "text": [
            "training epoch: [0 ] loss: 10.201 correct: 1133.000, total: 3000.000, accuracy: 0.378\n",
            "training epoch: [1 ] loss: 9.156 correct: 1142.000, total: 3000.000, accuracy: 0.381\n",
            "training epoch: [2 ] loss: 8.406 correct: 1184.000, total: 3000.000, accuracy: 0.395\n",
            "training epoch: [3 ] loss: 7.828 correct: 1209.000, total: 3000.000, accuracy: 0.403\n",
            "training epoch: [4 ] loss: 7.349 correct: 1234.000, total: 3000.000, accuracy: 0.411\n",
            "training epoch: [5 ] loss: 6.918 correct: 1251.000, total: 3000.000, accuracy: 0.417\n",
            "training epoch: [6 ] loss: 6.509 correct: 1258.000, total: 3000.000, accuracy: 0.419\n",
            "training epoch: [7 ] loss: 6.110 correct: 1271.000, total: 3000.000, accuracy: 0.424\n",
            "training epoch: [8 ] loss: 5.718 correct: 1290.000, total: 3000.000, accuracy: 0.430\n",
            "training epoch: [9 ] loss: 5.338 correct: 1297.000, total: 3000.000, accuracy: 0.432\n",
            "training epoch: [10 ] loss: 4.982 correct: 1306.000, total: 3000.000, accuracy: 0.435\n",
            "training epoch: [11 ] loss: 4.661 correct: 1310.000, total: 3000.000, accuracy: 0.437\n",
            "training epoch: [12 ] loss: 4.372 correct: 1315.000, total: 3000.000, accuracy: 0.438\n",
            "training epoch: [13 ] loss: 4.116 correct: 1324.000, total: 3000.000, accuracy: 0.441\n",
            "training epoch: [14 ] loss: 3.887 correct: 1332.000, total: 3000.000, accuracy: 0.444\n",
            "training epoch: [15 ] loss: 3.682 correct: 1342.000, total: 3000.000, accuracy: 0.447\n",
            "training epoch: [16 ] loss: 3.496 correct: 1345.000, total: 3000.000, accuracy: 0.448\n",
            "training epoch: [17 ] loss: 3.323 correct: 1350.000, total: 3000.000, accuracy: 0.450\n",
            "training epoch: [18 ] loss: 3.170 correct: 1355.000, total: 3000.000, accuracy: 0.452\n",
            "training epoch: [19 ] loss: 3.037 correct: 1365.000, total: 3000.000, accuracy: 0.455\n",
            "training epoch: [20 ] loss: 2.920 correct: 1384.000, total: 3000.000, accuracy: 0.461\n",
            "training epoch: [21 ] loss: 2.817 correct: 1383.000, total: 3000.000, accuracy: 0.461\n",
            "training epoch: [22 ] loss: 2.725 correct: 1394.000, total: 3000.000, accuracy: 0.465\n",
            "training epoch: [23 ] loss: 2.640 correct: 1406.000, total: 3000.000, accuracy: 0.469\n",
            "training epoch: [24 ] loss: 2.562 correct: 1405.000, total: 3000.000, accuracy: 0.468\n",
            "training epoch: [25 ] loss: 2.491 correct: 1424.000, total: 3000.000, accuracy: 0.475\n",
            "training epoch: [26 ] loss: 2.425 correct: 1426.000, total: 3000.000, accuracy: 0.475\n",
            "training epoch: [27 ] loss: 2.364 correct: 1441.000, total: 3000.000, accuracy: 0.480\n",
            "training epoch: [28 ] loss: 2.308 correct: 1444.000, total: 3000.000, accuracy: 0.481\n",
            "training epoch: [29 ] loss: 2.257 correct: 1447.000, total: 3000.000, accuracy: 0.482\n",
            "training epoch: [30 ] loss: 2.210 correct: 1449.000, total: 3000.000, accuracy: 0.483\n",
            "training epoch: [31 ] loss: 2.170 correct: 1470.000, total: 3000.000, accuracy: 0.490\n",
            "training epoch: [32 ] loss: 2.132 correct: 1440.000, total: 3000.000, accuracy: 0.480\n",
            "training epoch: [33 ] loss: 2.096 correct: 1476.000, total: 3000.000, accuracy: 0.492\n",
            "training epoch: [34 ] loss: 2.050 correct: 1460.000, total: 3000.000, accuracy: 0.487\n",
            "training epoch: [35 ] loss: 2.010 correct: 1489.000, total: 3000.000, accuracy: 0.496\n",
            "training epoch: [36 ] loss: 1.970 correct: 1490.000, total: 3000.000, accuracy: 0.497\n",
            "training epoch: [37 ] loss: 1.934 correct: 1499.000, total: 3000.000, accuracy: 0.500\n",
            "training epoch: [38 ] loss: 1.900 correct: 1514.000, total: 3000.000, accuracy: 0.505\n",
            "training epoch: [39 ] loss: 1.868 correct: 1512.000, total: 3000.000, accuracy: 0.504\n",
            "training epoch: [40 ] loss: 1.837 correct: 1516.000, total: 3000.000, accuracy: 0.505\n",
            "training epoch: [41 ] loss: 1.807 correct: 1531.000, total: 3000.000, accuracy: 0.510\n",
            "training epoch: [42 ] loss: 1.778 correct: 1543.000, total: 3000.000, accuracy: 0.514\n",
            "training epoch: [43 ] loss: 1.749 correct: 1543.000, total: 3000.000, accuracy: 0.514\n",
            "training epoch: [44 ] loss: 1.721 correct: 1556.000, total: 3000.000, accuracy: 0.519\n",
            "training epoch: [45 ] loss: 1.693 correct: 1549.000, total: 3000.000, accuracy: 0.516\n",
            "training epoch: [46 ] loss: 1.665 correct: 1568.000, total: 3000.000, accuracy: 0.523\n",
            "training epoch: [47 ] loss: 1.637 correct: 1565.000, total: 3000.000, accuracy: 0.522\n",
            "training epoch: [48 ] loss: 1.608 correct: 1570.000, total: 3000.000, accuracy: 0.523\n",
            "training epoch: [49 ] loss: 1.579 correct: 1570.000, total: 3000.000, accuracy: 0.523\n",
            "training epoch: [50 ] loss: 1.549 correct: 1585.000, total: 3000.000, accuracy: 0.528\n",
            "training epoch: [51 ] loss: 1.519 correct: 1587.000, total: 3000.000, accuracy: 0.529\n",
            "training epoch: [52 ] loss: 1.490 correct: 1597.000, total: 3000.000, accuracy: 0.532\n",
            "training epoch: [53 ] loss: 1.466 correct: 1597.000, total: 3000.000, accuracy: 0.532\n",
            "training epoch: [54 ] loss: 1.445 correct: 1609.000, total: 3000.000, accuracy: 0.536\n",
            "training epoch: [55 ] loss: 1.425 correct: 1613.000, total: 3000.000, accuracy: 0.538\n",
            "training epoch: [56 ] loss: 1.406 correct: 1620.000, total: 3000.000, accuracy: 0.540\n",
            "training epoch: [57 ] loss: 1.388 correct: 1615.000, total: 3000.000, accuracy: 0.538\n",
            "training epoch: [58 ] loss: 1.371 correct: 1640.000, total: 3000.000, accuracy: 0.547\n",
            "training epoch: [59 ] loss: 1.354 correct: 1632.000, total: 3000.000, accuracy: 0.544\n",
            "training epoch: [60 ] loss: 1.338 correct: 1661.000, total: 3000.000, accuracy: 0.554\n",
            "training epoch: [61 ] loss: 1.323 correct: 1650.000, total: 3000.000, accuracy: 0.550\n",
            "training epoch: [62 ] loss: 1.309 correct: 1686.000, total: 3000.000, accuracy: 0.562\n",
            "training epoch: [63 ] loss: 1.297 correct: 1673.000, total: 3000.000, accuracy: 0.558\n",
            "training epoch: [64 ] loss: 1.285 correct: 1698.000, total: 3000.000, accuracy: 0.566\n",
            "training epoch: [65 ] loss: 1.273 correct: 1688.000, total: 3000.000, accuracy: 0.563\n",
            "training epoch: [66 ] loss: 1.262 correct: 1711.000, total: 3000.000, accuracy: 0.570\n",
            "training epoch: [67 ] loss: 1.248 correct: 1692.000, total: 3000.000, accuracy: 0.564\n",
            "training epoch: [68 ] loss: 1.234 correct: 1722.000, total: 3000.000, accuracy: 0.574\n",
            "training epoch: [69 ] loss: 1.220 correct: 1698.000, total: 3000.000, accuracy: 0.566\n",
            "training epoch: [70 ] loss: 1.206 correct: 1731.000, total: 3000.000, accuracy: 0.577\n",
            "training epoch: [71 ] loss: 1.193 correct: 1718.000, total: 3000.000, accuracy: 0.573\n",
            "training epoch: [72 ] loss: 1.182 correct: 1743.000, total: 3000.000, accuracy: 0.581\n",
            "training epoch: [73 ] loss: 1.171 correct: 1730.000, total: 3000.000, accuracy: 0.577\n",
            "training epoch: [74 ] loss: 1.160 correct: 1755.000, total: 3000.000, accuracy: 0.585\n",
            "training epoch: [75 ] loss: 1.151 correct: 1742.000, total: 3000.000, accuracy: 0.581\n",
            "training epoch: [76 ] loss: 1.141 correct: 1756.000, total: 3000.000, accuracy: 0.585\n",
            "training epoch: [77 ] loss: 1.132 correct: 1755.000, total: 3000.000, accuracy: 0.585\n",
            "training epoch: [78 ] loss: 1.124 correct: 1772.000, total: 3000.000, accuracy: 0.591\n",
            "training epoch: [79 ] loss: 1.115 correct: 1767.000, total: 3000.000, accuracy: 0.589\n",
            "training epoch: [80 ] loss: 1.107 correct: 1785.000, total: 3000.000, accuracy: 0.595\n",
            "training epoch: [81 ] loss: 1.099 correct: 1784.000, total: 3000.000, accuracy: 0.595\n",
            "training epoch: [82 ] loss: 1.091 correct: 1801.000, total: 3000.000, accuracy: 0.600\n",
            "training epoch: [83 ] loss: 1.084 correct: 1801.000, total: 3000.000, accuracy: 0.600\n",
            "training epoch: [84 ] loss: 1.076 correct: 1810.000, total: 3000.000, accuracy: 0.603\n",
            "training epoch: [85 ] loss: 1.069 correct: 1815.000, total: 3000.000, accuracy: 0.605\n",
            "training epoch: [86 ] loss: 1.062 correct: 1824.000, total: 3000.000, accuracy: 0.608\n",
            "training epoch: [87 ] loss: 1.054 correct: 1824.000, total: 3000.000, accuracy: 0.608\n",
            "training epoch: [88 ] loss: 1.047 correct: 1842.000, total: 3000.000, accuracy: 0.614\n",
            "training epoch: [89 ] loss: 1.041 correct: 1840.000, total: 3000.000, accuracy: 0.613\n",
            "training epoch: [90 ] loss: 1.034 correct: 1853.000, total: 3000.000, accuracy: 0.618\n",
            "training epoch: [91 ] loss: 1.027 correct: 1857.000, total: 3000.000, accuracy: 0.619\n",
            "training epoch: [92 ] loss: 1.021 correct: 1863.000, total: 3000.000, accuracy: 0.621\n",
            "training epoch: [93 ] loss: 1.014 correct: 1872.000, total: 3000.000, accuracy: 0.624\n",
            "training epoch: [94 ] loss: 1.008 correct: 1882.000, total: 3000.000, accuracy: 0.627\n",
            "training epoch: [95 ] loss: 1.002 correct: 1888.000, total: 3000.000, accuracy: 0.629\n",
            "training epoch: [96 ] loss: 0.995 correct: 1894.000, total: 3000.000, accuracy: 0.631\n",
            "training epoch: [97 ] loss: 0.989 correct: 1905.000, total: 3000.000, accuracy: 0.635\n",
            "training epoch: [98 ] loss: 0.983 correct: 1906.000, total: 3000.000, accuracy: 0.635\n",
            "training epoch: [99 ] loss: 0.977 correct: 1920.000, total: 3000.000, accuracy: 0.640\n",
            "training epoch: [100 ] loss: 0.972 correct: 1917.000, total: 3000.000, accuracy: 0.639\n",
            "training epoch: [101 ] loss: 0.966 correct: 1934.000, total: 3000.000, accuracy: 0.645\n",
            "training epoch: [102 ] loss: 0.960 correct: 1928.000, total: 3000.000, accuracy: 0.643\n",
            "training epoch: [103 ] loss: 0.955 correct: 1940.000, total: 3000.000, accuracy: 0.647\n",
            "training epoch: [104 ] loss: 0.949 correct: 1942.000, total: 3000.000, accuracy: 0.647\n",
            "training epoch: [105 ] loss: 0.944 correct: 1953.000, total: 3000.000, accuracy: 0.651\n",
            "training epoch: [106 ] loss: 0.938 correct: 1956.000, total: 3000.000, accuracy: 0.652\n",
            "training epoch: [107 ] loss: 0.933 correct: 1961.000, total: 3000.000, accuracy: 0.654\n",
            "training epoch: [108 ] loss: 0.927 correct: 1969.000, total: 3000.000, accuracy: 0.656\n",
            "training epoch: [109 ] loss: 0.922 correct: 1975.000, total: 3000.000, accuracy: 0.658\n",
            "training epoch: [110 ] loss: 0.916 correct: 1983.000, total: 3000.000, accuracy: 0.661\n",
            "training epoch: [111 ] loss: 0.910 correct: 1992.000, total: 3000.000, accuracy: 0.664\n",
            "training epoch: [112 ] loss: 0.904 correct: 1997.000, total: 3000.000, accuracy: 0.666\n",
            "training epoch: [113 ] loss: 0.898 correct: 2005.000, total: 3000.000, accuracy: 0.668\n",
            "training epoch: [114 ] loss: 0.892 correct: 2018.000, total: 3000.000, accuracy: 0.673\n",
            "training epoch: [115 ] loss: 0.886 correct: 2021.000, total: 3000.000, accuracy: 0.674\n",
            "training epoch: [116 ] loss: 0.880 correct: 2033.000, total: 3000.000, accuracy: 0.678\n",
            "training epoch: [117 ] loss: 0.873 correct: 2042.000, total: 3000.000, accuracy: 0.681\n",
            "training epoch: [118 ] loss: 0.867 correct: 2049.000, total: 3000.000, accuracy: 0.683\n",
            "training epoch: [119 ] loss: 0.861 correct: 2055.000, total: 3000.000, accuracy: 0.685\n",
            "training epoch: [120 ] loss: 0.856 correct: 2063.000, total: 3000.000, accuracy: 0.688\n",
            "training epoch: [121 ] loss: 0.850 correct: 2067.000, total: 3000.000, accuracy: 0.689\n",
            "training epoch: [122 ] loss: 0.844 correct: 2078.000, total: 3000.000, accuracy: 0.693\n",
            "training epoch: [123 ] loss: 0.838 correct: 2079.000, total: 3000.000, accuracy: 0.693\n",
            "training epoch: [124 ] loss: 0.833 correct: 2090.000, total: 3000.000, accuracy: 0.697\n",
            "training epoch: [125 ] loss: 0.827 correct: 2090.000, total: 3000.000, accuracy: 0.697\n",
            "training epoch: [126 ] loss: 0.822 correct: 2104.000, total: 3000.000, accuracy: 0.701\n",
            "training epoch: [127 ] loss: 0.816 correct: 2106.000, total: 3000.000, accuracy: 0.702\n",
            "training epoch: [128 ] loss: 0.811 correct: 2112.000, total: 3000.000, accuracy: 0.704\n",
            "training epoch: [129 ] loss: 0.805 correct: 2118.000, total: 3000.000, accuracy: 0.706\n",
            "training epoch: [130 ] loss: 0.800 correct: 2128.000, total: 3000.000, accuracy: 0.709\n",
            "training epoch: [131 ] loss: 0.795 correct: 2131.000, total: 3000.000, accuracy: 0.710\n",
            "training epoch: [132 ] loss: 0.789 correct: 2144.000, total: 3000.000, accuracy: 0.715\n",
            "training epoch: [133 ] loss: 0.784 correct: 2137.000, total: 3000.000, accuracy: 0.712\n",
            "training epoch: [134 ] loss: 0.779 correct: 2157.000, total: 3000.000, accuracy: 0.719\n",
            "training epoch: [135 ] loss: 0.774 correct: 2145.000, total: 3000.000, accuracy: 0.715\n",
            "training epoch: [136 ] loss: 0.768 correct: 2169.000, total: 3000.000, accuracy: 0.723\n",
            "training epoch: [137 ] loss: 0.763 correct: 2159.000, total: 3000.000, accuracy: 0.720\n",
            "training epoch: [138 ] loss: 0.758 correct: 2177.000, total: 3000.000, accuracy: 0.726\n",
            "training epoch: [139 ] loss: 0.753 correct: 2168.000, total: 3000.000, accuracy: 0.723\n",
            "training epoch: [140 ] loss: 0.748 correct: 2185.000, total: 3000.000, accuracy: 0.728\n",
            "training epoch: [141 ] loss: 0.743 correct: 2183.000, total: 3000.000, accuracy: 0.728\n",
            "training epoch: [142 ] loss: 0.738 correct: 2200.000, total: 3000.000, accuracy: 0.733\n",
            "training epoch: [143 ] loss: 0.733 correct: 2193.000, total: 3000.000, accuracy: 0.731\n",
            "training epoch: [144 ] loss: 0.728 correct: 2211.000, total: 3000.000, accuracy: 0.737\n",
            "training epoch: [145 ] loss: 0.723 correct: 2207.000, total: 3000.000, accuracy: 0.736\n",
            "training epoch: [146 ] loss: 0.718 correct: 2221.000, total: 3000.000, accuracy: 0.740\n",
            "training epoch: [147 ] loss: 0.713 correct: 2219.000, total: 3000.000, accuracy: 0.740\n",
            "training epoch: [148 ] loss: 0.709 correct: 2231.000, total: 3000.000, accuracy: 0.744\n",
            "training epoch: [149 ] loss: 0.704 correct: 2227.000, total: 3000.000, accuracy: 0.742\n",
            "training epoch: [150 ] loss: 0.699 correct: 2247.000, total: 3000.000, accuracy: 0.749\n",
            "training epoch: [151 ] loss: 0.694 correct: 2237.000, total: 3000.000, accuracy: 0.746\n",
            "training epoch: [152 ] loss: 0.690 correct: 2261.000, total: 3000.000, accuracy: 0.754\n",
            "training epoch: [153 ] loss: 0.685 correct: 2247.000, total: 3000.000, accuracy: 0.749\n",
            "training epoch: [154 ] loss: 0.680 correct: 2271.000, total: 3000.000, accuracy: 0.757\n",
            "training epoch: [155 ] loss: 0.676 correct: 2257.000, total: 3000.000, accuracy: 0.752\n",
            "training epoch: [156 ] loss: 0.671 correct: 2279.000, total: 3000.000, accuracy: 0.760\n",
            "training epoch: [157 ] loss: 0.667 correct: 2264.000, total: 3000.000, accuracy: 0.755\n",
            "training epoch: [158 ] loss: 0.662 correct: 2286.000, total: 3000.000, accuracy: 0.762\n",
            "training epoch: [159 ] loss: 0.657 correct: 2277.000, total: 3000.000, accuracy: 0.759\n",
            "training epoch: [160 ] loss: 0.653 correct: 2295.000, total: 3000.000, accuracy: 0.765\n",
            "training epoch: [161 ] loss: 0.648 correct: 2289.000, total: 3000.000, accuracy: 0.763\n",
            "training epoch: [162 ] loss: 0.643 correct: 2304.000, total: 3000.000, accuracy: 0.768\n",
            "training epoch: [163 ] loss: 0.639 correct: 2295.000, total: 3000.000, accuracy: 0.765\n",
            "training epoch: [164 ] loss: 0.634 correct: 2313.000, total: 3000.000, accuracy: 0.771\n",
            "training epoch: [165 ] loss: 0.629 correct: 2314.000, total: 3000.000, accuracy: 0.771\n",
            "training epoch: [166 ] loss: 0.625 correct: 2331.000, total: 3000.000, accuracy: 0.777\n",
            "training epoch: [167 ] loss: 0.620 correct: 2328.000, total: 3000.000, accuracy: 0.776\n",
            "training epoch: [168 ] loss: 0.615 correct: 2345.000, total: 3000.000, accuracy: 0.782\n",
            "training epoch: [169 ] loss: 0.610 correct: 2342.000, total: 3000.000, accuracy: 0.781\n",
            "training epoch: [170 ] loss: 0.606 correct: 2363.000, total: 3000.000, accuracy: 0.788\n",
            "training epoch: [171 ] loss: 0.601 correct: 2356.000, total: 3000.000, accuracy: 0.785\n",
            "training epoch: [172 ] loss: 0.596 correct: 2378.000, total: 3000.000, accuracy: 0.793\n",
            "training epoch: [173 ] loss: 0.592 correct: 2364.000, total: 3000.000, accuracy: 0.788\n",
            "training epoch: [174 ] loss: 0.587 correct: 2385.000, total: 3000.000, accuracy: 0.795\n",
            "training epoch: [175 ] loss: 0.583 correct: 2378.000, total: 3000.000, accuracy: 0.793\n",
            "training epoch: [176 ] loss: 0.578 correct: 2398.000, total: 3000.000, accuracy: 0.799\n",
            "training epoch: [177 ] loss: 0.574 correct: 2390.000, total: 3000.000, accuracy: 0.797\n",
            "training epoch: [178 ] loss: 0.569 correct: 2407.000, total: 3000.000, accuracy: 0.802\n",
            "training epoch: [179 ] loss: 0.565 correct: 2402.000, total: 3000.000, accuracy: 0.801\n",
            "training epoch: [180 ] loss: 0.561 correct: 2418.000, total: 3000.000, accuracy: 0.806\n",
            "training epoch: [181 ] loss: 0.556 correct: 2412.000, total: 3000.000, accuracy: 0.804\n",
            "training epoch: [182 ] loss: 0.552 correct: 2431.000, total: 3000.000, accuracy: 0.810\n",
            "training epoch: [183 ] loss: 0.547 correct: 2421.000, total: 3000.000, accuracy: 0.807\n",
            "training epoch: [184 ] loss: 0.543 correct: 2442.000, total: 3000.000, accuracy: 0.814\n",
            "training epoch: [185 ] loss: 0.539 correct: 2428.000, total: 3000.000, accuracy: 0.809\n",
            "training epoch: [186 ] loss: 0.535 correct: 2454.000, total: 3000.000, accuracy: 0.818\n",
            "training epoch: [187 ] loss: 0.530 correct: 2437.000, total: 3000.000, accuracy: 0.812\n",
            "training epoch: [188 ] loss: 0.526 correct: 2463.000, total: 3000.000, accuracy: 0.821\n",
            "training epoch: [189 ] loss: 0.522 correct: 2448.000, total: 3000.000, accuracy: 0.816\n",
            "training epoch: [190 ] loss: 0.518 correct: 2475.000, total: 3000.000, accuracy: 0.825\n",
            "training epoch: [191 ] loss: 0.513 correct: 2464.000, total: 3000.000, accuracy: 0.821\n",
            "training epoch: [192 ] loss: 0.509 correct: 2485.000, total: 3000.000, accuracy: 0.828\n",
            "training epoch: [193 ] loss: 0.505 correct: 2481.000, total: 3000.000, accuracy: 0.827\n",
            "training epoch: [194 ] loss: 0.501 correct: 2499.000, total: 3000.000, accuracy: 0.833\n",
            "training epoch: [195 ] loss: 0.497 correct: 2489.000, total: 3000.000, accuracy: 0.830\n",
            "training epoch: [196 ] loss: 0.493 correct: 2510.000, total: 3000.000, accuracy: 0.837\n",
            "training epoch: [197 ] loss: 0.489 correct: 2502.000, total: 3000.000, accuracy: 0.834\n",
            "training epoch: [198 ] loss: 0.485 correct: 2516.000, total: 3000.000, accuracy: 0.839\n",
            "training epoch: [199 ] loss: 0.481 correct: 2515.000, total: 3000.000, accuracy: 0.838\n",
            "training epoch: [200 ] loss: 0.477 correct: 2523.000, total: 3000.000, accuracy: 0.841\n",
            "Finished Training run \n"
          ],
          "name": "stdout"
        }
      ]
    },
    {
      "cell_type": "code",
      "metadata": {
        "id": "AciJnAh5nfug"
      },
      "source": [
        "columns = [\"epochs\", \"argmax > 0.5\" ,\"argmax < 0.5\", \"focus_true_pred_true\", \"focus_false_pred_true\", \"focus_true_pred_false\", \"focus_false_pred_false\" ]\n",
        "df_train = pd.DataFrame()\n",
        "df_test = pd.DataFrame()\n",
        "df_train[columns[0]] = np.arange(0,epoch+2)\n",
        "df_train[columns[1]] = analysis_data_tr[:,-2]/30\n",
        "df_train[columns[2]] = analysis_data_tr[:,-1]/30\n",
        "df_train[columns[3]] = analysis_data_tr[:,0]/30\n",
        "df_train[columns[4]] = analysis_data_tr[:,1]/30\n",
        "df_train[columns[5]] = analysis_data_tr[:,2]/30\n",
        "df_train[columns[6]] = analysis_data_tr[:,3]/30"
      ],
      "execution_count": 14,
      "outputs": []
    },
    {
      "cell_type": "code",
      "metadata": {
        "colab": {
          "base_uri": "https://localhost:8080/",
          "height": 456
        },
        "id": "NoQpS_6scRsC",
        "outputId": "e068e89b-ede7-4d8c-ccf5-e5f9f1fe1983"
      },
      "source": [
        "df_train"
      ],
      "execution_count": 15,
      "outputs": [
        {
          "output_type": "execute_result",
          "data": {
            "text/html": [
              "<div>\n",
              "<style scoped>\n",
              "    .dataframe tbody tr th:only-of-type {\n",
              "        vertical-align: middle;\n",
              "    }\n",
              "\n",
              "    .dataframe tbody tr th {\n",
              "        vertical-align: top;\n",
              "    }\n",
              "\n",
              "    .dataframe thead th {\n",
              "        text-align: right;\n",
              "    }\n",
              "</style>\n",
              "<table border=\"1\" class=\"dataframe\">\n",
              "  <thead>\n",
              "    <tr style=\"text-align: right;\">\n",
              "      <th></th>\n",
              "      <th>epochs</th>\n",
              "      <th>argmax &gt; 0.5</th>\n",
              "      <th>argmax &lt; 0.5</th>\n",
              "      <th>focus_true_pred_true</th>\n",
              "      <th>focus_false_pred_true</th>\n",
              "      <th>focus_true_pred_false</th>\n",
              "      <th>focus_false_pred_false</th>\n",
              "    </tr>\n",
              "  </thead>\n",
              "  <tbody>\n",
              "    <tr>\n",
              "      <th>0</th>\n",
              "      <td>0</td>\n",
              "      <td>9.800000</td>\n",
              "      <td>90.200000</td>\n",
              "      <td>5.233333</td>\n",
              "      <td>32.533333</td>\n",
              "      <td>6.533333</td>\n",
              "      <td>55.700000</td>\n",
              "    </tr>\n",
              "    <tr>\n",
              "      <th>1</th>\n",
              "      <td>1</td>\n",
              "      <td>9.966667</td>\n",
              "      <td>90.033333</td>\n",
              "      <td>6.666667</td>\n",
              "      <td>31.400000</td>\n",
              "      <td>7.433333</td>\n",
              "      <td>54.500000</td>\n",
              "    </tr>\n",
              "    <tr>\n",
              "      <th>2</th>\n",
              "      <td>2</td>\n",
              "      <td>10.100000</td>\n",
              "      <td>89.900000</td>\n",
              "      <td>8.066667</td>\n",
              "      <td>31.400000</td>\n",
              "      <td>7.433333</td>\n",
              "      <td>53.100000</td>\n",
              "    </tr>\n",
              "    <tr>\n",
              "      <th>3</th>\n",
              "      <td>3</td>\n",
              "      <td>10.433333</td>\n",
              "      <td>89.566667</td>\n",
              "      <td>8.933333</td>\n",
              "      <td>31.366667</td>\n",
              "      <td>8.000000</td>\n",
              "      <td>51.700000</td>\n",
              "    </tr>\n",
              "    <tr>\n",
              "      <th>4</th>\n",
              "      <td>4</td>\n",
              "      <td>10.700000</td>\n",
              "      <td>89.300000</td>\n",
              "      <td>9.800000</td>\n",
              "      <td>31.333333</td>\n",
              "      <td>8.366667</td>\n",
              "      <td>50.500000</td>\n",
              "    </tr>\n",
              "    <tr>\n",
              "      <th>...</th>\n",
              "      <td>...</td>\n",
              "      <td>...</td>\n",
              "      <td>...</td>\n",
              "      <td>...</td>\n",
              "      <td>...</td>\n",
              "      <td>...</td>\n",
              "      <td>...</td>\n",
              "    </tr>\n",
              "    <tr>\n",
              "      <th>196</th>\n",
              "      <td>196</td>\n",
              "      <td>70.000000</td>\n",
              "      <td>30.000000</td>\n",
              "      <td>73.566667</td>\n",
              "      <td>10.100000</td>\n",
              "      <td>9.633333</td>\n",
              "      <td>6.700000</td>\n",
              "    </tr>\n",
              "    <tr>\n",
              "      <th>197</th>\n",
              "      <td>197</td>\n",
              "      <td>70.333333</td>\n",
              "      <td>29.666667</td>\n",
              "      <td>73.500000</td>\n",
              "      <td>9.900000</td>\n",
              "      <td>9.966667</td>\n",
              "      <td>6.633333</td>\n",
              "    </tr>\n",
              "    <tr>\n",
              "      <th>198</th>\n",
              "      <td>198</td>\n",
              "      <td>70.633333</td>\n",
              "      <td>29.366667</td>\n",
              "      <td>74.200000</td>\n",
              "      <td>9.666667</td>\n",
              "      <td>9.766667</td>\n",
              "      <td>6.366667</td>\n",
              "    </tr>\n",
              "    <tr>\n",
              "      <th>199</th>\n",
              "      <td>199</td>\n",
              "      <td>70.866667</td>\n",
              "      <td>29.133333</td>\n",
              "      <td>74.200000</td>\n",
              "      <td>9.633333</td>\n",
              "      <td>9.933333</td>\n",
              "      <td>6.233333</td>\n",
              "    </tr>\n",
              "    <tr>\n",
              "      <th>200</th>\n",
              "      <td>200</td>\n",
              "      <td>71.200000</td>\n",
              "      <td>28.800000</td>\n",
              "      <td>74.700000</td>\n",
              "      <td>9.400000</td>\n",
              "      <td>9.766667</td>\n",
              "      <td>6.133333</td>\n",
              "    </tr>\n",
              "  </tbody>\n",
              "</table>\n",
              "<p>201 rows × 7 columns</p>\n",
              "</div>"
            ],
            "text/plain": [
              "     epochs  argmax > 0.5  ...  focus_true_pred_false  focus_false_pred_false\n",
              "0         0      9.800000  ...               6.533333               55.700000\n",
              "1         1      9.966667  ...               7.433333               54.500000\n",
              "2         2     10.100000  ...               7.433333               53.100000\n",
              "3         3     10.433333  ...               8.000000               51.700000\n",
              "4         4     10.700000  ...               8.366667               50.500000\n",
              "..      ...           ...  ...                    ...                     ...\n",
              "196     196     70.000000  ...               9.633333                6.700000\n",
              "197     197     70.333333  ...               9.966667                6.633333\n",
              "198     198     70.633333  ...               9.766667                6.366667\n",
              "199     199     70.866667  ...               9.933333                6.233333\n",
              "200     200     71.200000  ...               9.766667                6.133333\n",
              "\n",
              "[201 rows x 7 columns]"
            ]
          },
          "metadata": {
            "tags": []
          },
          "execution_count": 15
        }
      ]
    },
    {
      "cell_type": "code",
      "metadata": {
        "colab": {
          "base_uri": "https://localhost:8080/",
          "height": 404
        },
        "id": "EY_j8B274vuH",
        "outputId": "22ecb21f-a4c3-42bc-b4e8-41fd4fc35103"
      },
      "source": [
        "plot_analysis(df_train,columns)"
      ],
      "execution_count": 16,
      "outputs": [
        {
          "output_type": "display_data",
          "data": {
            "image/png": "[encoded data removed]",
            "text/plain": [
              "<Figure size 432x432 with 1 Axes>"
            ]
          },
          "metadata": {
            "tags": [],
            "needs_background": "light"
          }
        }
      ]
    },
    {
      "cell_type": "code",
      "metadata": {
        "id": "VCnS6r2_3WdU"
      },
      "source": [
        "aph = []\n",
        "for i in bg:\n",
        "  aph.append(F.softmax(i,dim=1).detach().numpy())\n",
        "  \n",
        "aph = np.concatenate(aph,axis=0)\n",
        "# torch.save({\n",
        "#             'epoch': 500,\n",
        "#             'model_state_dict': what_net.state_dict(),\n",
        "#             #'optimizer_state_dict': optimizer_what.state_dict(),\n",
        "#             \"optimizer_alpha\":optim1,\n",
        "#             \"FTPT_analysis\":analysis_data_tr,\n",
        "#             \"alpha\":aph\n",
        "\n",
        "#             }, \"type4_what_net_500.pt\")"
      ],
      "execution_count": 17,
      "outputs": []
    },
    {
      "cell_type": "code",
      "metadata": {
        "colab": {
          "base_uri": "https://localhost:8080/"
        },
        "id": "KVzrDOGS4UxU",
        "outputId": "f6da429f-ff12-4a37-cc50-52c895ab5ab7"
      },
      "source": [
        "aph[0]"
      ],
      "execution_count": 18,
      "outputs": [
        {
          "output_type": "execute_result",
          "data": {
            "text/plain": [
              "array([0.00541006, 0.02215897, 0.13413177, 0.7154869 , 0.05373561,\n",
              "       0.02477083, 0.01304479, 0.00832543, 0.02293567], dtype=float32)"
            ]
          },
          "metadata": {
            "tags": []
          },
          "execution_count": 18
        }
      ]
    },
    {
      "cell_type": "code",
      "metadata": {
        "id": "7Ut6ZTAXbvqx"
      },
      "source": [
        "avrg = []\n",
        "with torch.no_grad():\n",
        "  for i, data1 in  enumerate(train_loader):\n",
        "          inputs , labels , fore_idx = data1\n",
        "          inputs = inputs.double()\n",
        "          inputs, labels = inputs.to(\"cuda\"),labels.to(\"cuda\")\n",
        "          beta  = bg[i]\n",
        "          beta = beta.to(\"cuda\")\n",
        "          avg,alpha = attn_avg(inputs,beta)\n",
        "          \n",
        "          avrg.append(avg.detach().cpu().numpy())\n",
        "avrg= np.concatenate(avrg,axis=0)"
      ],
      "execution_count": 19,
      "outputs": []
    },
    {
      "cell_type": "code",
      "metadata": {
        "id": "2KQFYlmTLG0N",
        "colab": {
          "base_uri": "https://localhost:8080/",
          "height": 374
        },
        "outputId": "14bf704a-3374-4b08-f8aa-2269a5d1eeb0"
      },
      "source": [
        "data = np.load(\"type_4_data.npy\",allow_pickle=True)\n",
        "plot_decision_boundary(what_net,[1,8,2,9],data,bg,avrg)"
      ],
      "execution_count": 20,
      "outputs": [
        {
          "output_type": "display_data",
          "data": {
            "image/png": "[encoded data removed]",
            "text/plain": [
              "<Figure size 432x432 with 1 Axes>"
            ]
          },
          "metadata": {
            "tags": [],
            "needs_background": "light"
          }
        }
      ]
    },
    {
      "cell_type": "code",
      "metadata": {
        "id": "0TlpHSOC0hfk"
      },
      "source": [
        ""
      ],
      "execution_count": 20,
      "outputs": []
    }
  ]
}