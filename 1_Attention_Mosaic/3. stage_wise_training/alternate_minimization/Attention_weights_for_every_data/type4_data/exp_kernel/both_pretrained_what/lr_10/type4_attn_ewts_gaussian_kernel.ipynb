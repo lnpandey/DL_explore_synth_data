{
  "nbformat": 4,
  "nbformat_minor": 0,
  "metadata": {
    "accelerator": "GPU",
    "colab": {
      "name": "type4_attn_ewts_gaussian_kernel.ipynb",
      "provenance": [],
      "collapsed_sections": []
    },
    "kernelspec": {
      "display_name": "Python 3",
      "name": "python3"
    },
    "language_info": {
      "name": "python"
    }
  },
  "cells": [
    {
      "cell_type": "code",
      "metadata": {
        "id": "BWIyC9Ip_bcq"
      },
      "source": [
        "import numpy as np\n",
        "import pandas as pd\n",
        "\n",
        "import torch\n",
        "import torchvision\n",
        "from torch.utils.data import Dataset, DataLoader\n",
        "from torchvision import transforms, utils\n",
        "import torch.nn as nn\n",
        "import torch.nn.functional as F\n",
        "import torch.optim as optim\n",
        "\n",
        "from matplotlib import pyplot as plt\n",
        "from myrmsprop import MyRmsprop\n",
        "%matplotlib inline\n",
        "torch.backends.cudnn.deterministic = True\n",
        "torch.backends.cudnn.benchmark = False"
      ],
      "execution_count": 1,
      "outputs": []
    },
    {
      "cell_type": "code",
      "metadata": {
        "id": "lGVy-1EllAc_"
      },
      "source": [
        "train_data = np.load(\"train_type4_data.npy\",allow_pickle=True)\n",
        "\n",
        "test_data = np.load(\"test_type4_data.npy\",allow_pickle=True)"
      ],
      "execution_count": 2,
      "outputs": []
    },
    {
      "cell_type": "code",
      "metadata": {
        "id": "uL771xuGZC5Q"
      },
      "source": [
        "mosaic_list_of_images = train_data[0][\"mosaic_list\"]\n",
        "mosaic_label = train_data[0][\"mosaic_label\"]\n",
        "fore_idx = train_data[0][\"fore_idx\"]\n",
        "\n",
        "\n",
        "test_mosaic_list_of_images = test_data[0][\"mosaic_list\"]\n",
        "test_mosaic_label = test_data[0][\"mosaic_label\"]\n",
        "test_fore_idx = test_data[0][\"fore_idx\"]"
      ],
      "execution_count": 3,
      "outputs": []
    },
    {
      "cell_type": "code",
      "metadata": {
        "id": "x2qfRXfNZCao"
      },
      "source": [
        "class MosaicDataset1(Dataset):\n",
        "  \"\"\"MosaicDataset dataset.\"\"\"\n",
        "\n",
        "  def __init__(self, mosaic_list, mosaic_label,fore_idx):\n",
        "    \"\"\"\n",
        "      Args:\n",
        "        csv_file (string): Path to the csv file with annotations.\n",
        "        root_dir (string): Directory with all the images.\n",
        "        transform (callable, optional): Optional transform to be applied\n",
        "            on a sample.\n",
        "    \"\"\"\n",
        "    self.mosaic = mosaic_list\n",
        "    self.label = mosaic_label\n",
        "    self.fore_idx = fore_idx\n",
        "    \n",
        "  def __len__(self):\n",
        "    return len(self.label)\n",
        "\n",
        "  def __getitem__(self, idx):\n",
        "    return self.mosaic[idx] , self.label[idx] , self.fore_idx[idx]"
      ],
      "execution_count": 4,
      "outputs": []
    },
    {
      "cell_type": "code",
      "metadata": {
        "id": "uf76JwkxZCT0"
      },
      "source": [
        "batch = 3000\n",
        "train_dataset = MosaicDataset1(mosaic_list_of_images, mosaic_label, fore_idx)\n",
        "train_loader = DataLoader( train_dataset,batch_size= batch ,shuffle=False)\n",
        "#batch = 2000\n",
        "#test_dataset = MosaicDataset1(test_mosaic_list_of_images, test_mosaic_label, test_fore_idx)\n",
        "#test_loader = DataLoader(test_dataset,batch_size= batch ,shuffle=False)"
      ],
      "execution_count": 5,
      "outputs": []
    },
    {
      "cell_type": "code",
      "metadata": {
        "id": "DOpZfj1bq7wN"
      },
      "source": [
        "n_batches = 3000//batch\n",
        "bg = []\n",
        "for i in range(n_batches):\n",
        "  torch.manual_seed(i)\n",
        "  betag = torch.randn(3000,9)#torch.ones((250,9))/9\n",
        "  bg.append( betag.requires_grad_() )"
      ],
      "execution_count": 6,
      "outputs": []
    },
    {
      "cell_type": "code",
      "metadata": {
        "colab": {
          "base_uri": "https://localhost:8080/"
        },
        "id": "fzb3ii4drXpu",
        "outputId": "e7a5a118-b61e-4fd7-d171-439f4b145deb"
      },
      "source": [
        "len(bg)"
      ],
      "execution_count": 7,
      "outputs": [
        {
          "output_type": "execute_result",
          "data": {
            "text/plain": [
              "1"
            ]
          },
          "metadata": {
            "tags": []
          },
          "execution_count": 7
        }
      ]
    },
    {
      "cell_type": "code",
      "metadata": {
        "colab": {
          "base_uri": "https://localhost:8080/"
        },
        "id": "Am8LcQm1Og-f",
        "outputId": "2e29ad2e-f87f-4806-d19b-0afbc9cc0ac2"
      },
      "source": [
        "#H = np.zeros((27000,27000))\n",
        "for i, data in enumerate(train_loader, 0):\n",
        "  print(i) # only one batch\n",
        "  inputs,_,_ = data\n",
        "  inputs = torch.reshape(inputs,(27000,2))\n",
        "  dis = torch.cdist(inputs,inputs)**2\n",
        "  gamma = -1/torch.median(dis)\n",
        "  print(gamma)\n",
        "  H = torch.exp(gamma*dis)\n"
      ],
      "execution_count": 8,
      "outputs": [
        {
          "output_type": "stream",
          "text": [
            "0\n",
            "tensor(-0.0948)\n"
          ],
          "name": "stdout"
        }
      ]
    },
    {
      "cell_type": "code",
      "metadata": {
        "colab": {
          "base_uri": "https://localhost:8080/"
        },
        "id": "rTxUQEquHYqj",
        "outputId": "8a6b01ca-9af1-4ac7-da88-b2d6a6cf2306"
      },
      "source": [
        "H.shape"
      ],
      "execution_count": 9,
      "outputs": [
        {
          "output_type": "execute_result",
          "data": {
            "text/plain": [
              "torch.Size([27000, 27000])"
            ]
          },
          "metadata": {
            "tags": []
          },
          "execution_count": 9
        }
      ]
    },
    {
      "cell_type": "code",
      "metadata": {
        "id": "HbrMidFCla6h"
      },
      "source": [
        "class Module2(nn.Module):\n",
        "  def __init__(self):\n",
        "    super(Module2, self).__init__()\n",
        "    self.linear1 = nn.Linear(2,100)\n",
        "    self.linear2 = nn.Linear(100,3)\n",
        "\n",
        "  def forward(self,x):\n",
        "    x = F.relu(self.linear1(x))\n",
        "    x = self.linear2(x)\n",
        "    return x"
      ],
      "execution_count": 10,
      "outputs": []
    },
    {
      "cell_type": "code",
      "metadata": {
        "id": "rRqj2VELllkX"
      },
      "source": [
        "torch.manual_seed(1234)\n",
        "what_net = Module2().double()\n",
        "\n",
        "what_net.load_state_dict(torch.load(\"type4_what_net.pt\"))\n",
        "what_net = what_net.to(\"cuda\")"
      ],
      "execution_count": 11,
      "outputs": []
    },
    {
      "cell_type": "code",
      "metadata": {
        "id": "6d8Wch99l4yB"
      },
      "source": [
        "def attn_avg(x,beta):\n",
        "  y = torch.zeros([batch,2], dtype=torch.float64)\n",
        "  y = y.to(\"cuda\")\n",
        "  alpha = F.softmax(beta,dim=1)   # alphas\n",
        "  #print(alpha[0],x[0,:])\n",
        "  for i in range(9):            \n",
        "    alpha1 = alpha[:,i]      \n",
        "    y = y + torch.mul(alpha1[:,None],x[:,i])\n",
        "  return y,alpha\n"
      ],
      "execution_count": 12,
      "outputs": []
    },
    {
      "cell_type": "code",
      "metadata": {
        "id": "Rz1Kpw12loV6"
      },
      "source": [
        "def calculate_attn_loss(dataloader,what,criter):\n",
        "  what.eval()\n",
        "  r_loss = 0\n",
        "  alphas = []\n",
        "  lbls = []\n",
        "  pred = []\n",
        "  fidices = []\n",
        "  correct = 0\n",
        "  tot = 0\n",
        "  with torch.no_grad():\n",
        "    for i, data in enumerate(dataloader, 0):\n",
        "      inputs, labels,fidx= data\n",
        "      lbls.append(labels)\n",
        "      fidices.append(fidx)\n",
        "      inputs = inputs.double()\n",
        "      beta = bg[i]  # beta for ith batch\n",
        "      inputs, labels,beta = inputs.to(\"cuda\"),labels.to(\"cuda\"),beta.to(\"cuda\")\n",
        "      avg,alpha = attn_avg(inputs,beta)\n",
        "      alpha = alpha.to(\"cuda\")\n",
        "      outputs = what(avg)\n",
        "      _, predicted = torch.max(outputs.data, 1)\n",
        "      correct += sum(predicted == labels)\n",
        "      tot += len(predicted)\n",
        "      pred.append(predicted.cpu().numpy())\n",
        "      alphas.append(alpha.cpu().numpy())\n",
        "      loss = criter(outputs, labels)\n",
        "      r_loss += loss.item()\n",
        "  alphas = np.concatenate(alphas,axis=0)\n",
        "  pred = np.concatenate(pred,axis=0)\n",
        "  lbls = np.concatenate(lbls,axis=0)\n",
        "  fidices = np.concatenate(fidices,axis=0)\n",
        "  #print(alphas.shape,pred.shape,lbls.shape,fidices.shape) \n",
        "  analysis = analyse_data(alphas,lbls,pred,fidices)\n",
        "  return r_loss/(i+1),analysis,correct.item(),tot,correct.item()/tot"
      ],
      "execution_count": 13,
      "outputs": []
    },
    {
      "cell_type": "code",
      "metadata": {
        "id": "sAY-x6UAwrwE"
      },
      "source": [
        "# for param in what_net.parameters():\n",
        "#     param.requires_grad = False"
      ],
      "execution_count": 14,
      "outputs": []
    },
    {
      "cell_type": "code",
      "metadata": {
        "id": "_toCktPanH0S"
      },
      "source": [
        "\n",
        "def analyse_data(alphas,lbls,predicted,f_idx):\n",
        "    '''\n",
        "       analysis data is created here\n",
        "    '''\n",
        "    batch = len(predicted)\n",
        "    amth,alth,ftpt,ffpt,ftpf,ffpf = 0,0,0,0,0,0\n",
        "    for j in range (batch):\n",
        "      focus = np.argmax(alphas[j])\n",
        "      if(alphas[j][focus] >= 0.5):\n",
        "        amth +=1\n",
        "      else:\n",
        "        alth +=1\n",
        "      if(focus == f_idx[j] and predicted[j] == lbls[j]):\n",
        "        ftpt += 1\n",
        "      elif(focus != f_idx[j] and predicted[j] == lbls[j]):\n",
        "        ffpt +=1\n",
        "      elif(focus == f_idx[j] and predicted[j] != lbls[j]):\n",
        "        ftpf +=1\n",
        "      elif(focus != f_idx[j] and predicted[j] != lbls[j]):\n",
        "        ffpf +=1\n",
        "    #print(sum(predicted==lbls),ftpt+ffpt)\n",
        "    return [ftpt,ffpt,ftpf,ffpf,amth,alth]"
      ],
      "execution_count": 15,
      "outputs": []
    },
    {
      "cell_type": "code",
      "metadata": {
        "id": "S633XgMToeN3"
      },
      "source": [
        "optim1 = []\n",
        "H= H.to(\"cpu\")\n",
        "for i in range(n_batches):\n",
        "  optim1.append(MyRmsprop([bg[i]],H=H,lr=10))\n",
        "  #optim1.append(optim.RMSprop([bg[i]],lr=0.1))"
      ],
      "execution_count": 16,
      "outputs": []
    },
    {
      "cell_type": "code",
      "metadata": {
        "colab": {
          "base_uri": "https://localhost:8080/"
        },
        "id": "qPaYaojinMTA",
        "outputId": "35e95c0a-22d1-4622-895e-0e4b30aa4524"
      },
      "source": [
        "# instantiate optimizer\n",
        "optimizer_what = optim.RMSprop(what_net.parameters(), lr=0.001)#, momentum=0.9)#,nesterov=True)\n",
        "\n",
        "\n",
        " \n",
        "\n",
        "\n",
        "criterion = nn.CrossEntropyLoss()\n",
        "acti = []\n",
        "analysis_data_tr = []\n",
        "analysis_data_tst = []\n",
        "loss_curi_tr = []\n",
        "loss_curi_tst = []\n",
        "epochs = 200\n",
        "\n",
        "\n",
        "# calculate zeroth epoch loss and FTPT values\n",
        "running_loss,anlys_data,correct,total,accuracy = calculate_attn_loss(train_loader,what_net,criterion)\n",
        "print('training epoch: [%d ] loss: %.3f correct: %.3f, total: %.3f, accuracy: %.3f' %(0,running_loss,correct,total,accuracy)) \n",
        "loss_curi_tr.append(running_loss)\n",
        "analysis_data_tr.append(anlys_data)\n",
        "\n",
        "\n",
        "\n",
        "\n",
        "# training starts \n",
        "for epoch in range(epochs): # loop over the dataset multiple times\n",
        "  ep_lossi = []\n",
        "  running_loss = 0.0\n",
        "  what_net.train()\n",
        "  for i, data in enumerate(train_loader, 0):\n",
        "    # get the inputs\n",
        "    inputs, labels,_  = data\n",
        "    inputs = inputs.double()\n",
        "    beta = bg[i] # alpha for ith batch\n",
        "    #print(labels)\n",
        "    inputs, labels,beta = inputs.to(\"cuda\"),labels.to(\"cuda\"),beta.to(\"cuda\")\n",
        "        \n",
        "    # zero the parameter gradients\n",
        "    optimizer_what.zero_grad()\n",
        "    optim1[i].zero_grad()\n",
        "      \n",
        "    # forward + backward + optimize\n",
        "    avg,alpha = attn_avg(inputs,beta)\n",
        "    outputs = what_net(avg)     \n",
        "    loss = criterion(outputs, labels)\n",
        "\n",
        "    # print statistics\n",
        "    running_loss += loss.item()\n",
        "    #alpha.retain_grad()\n",
        "    loss.backward(retain_graph=False)\n",
        "    optimizer_what.step()\n",
        "    optim1[i].step()\n",
        "\n",
        "\n",
        "  running_loss_tr,anls_data,correct,total,accuracy = calculate_attn_loss(train_loader,what_net,criterion)\n",
        "  analysis_data_tr.append(anls_data)\n",
        "  loss_curi_tr.append(running_loss_tr)   #loss per epoch\n",
        "  print('training epoch: [%d ] loss: %.3f correct: %.3f, total: %.3f, accuracy: %.3f' %(epoch+1,running_loss_tr,correct,total,accuracy)) \n",
        "\n",
        "\n",
        "  \n",
        "  if running_loss_tr<=0.08:\n",
        "    break\n",
        "print('Finished Training run ')\n",
        "analysis_data_tr = np.array(analysis_data_tr)\n",
        "\n"
      ],
      "execution_count": 17,
      "outputs": [
        {
          "output_type": "stream",
          "text": [
            "training epoch: [0 ] loss: 10.201 correct: 1133.000, total: 3000.000, accuracy: 0.378\n",
            "training epoch: [1 ] loss: 17.570 correct: 1057.000, total: 3000.000, accuracy: 0.352\n",
            "training epoch: [2 ] loss: 5.030 correct: 1611.000, total: 3000.000, accuracy: 0.537\n",
            "training epoch: [3 ] loss: 4.704 correct: 1383.000, total: 3000.000, accuracy: 0.461\n",
            "training epoch: [4 ] loss: 4.557 correct: 1405.000, total: 3000.000, accuracy: 0.468\n",
            "training epoch: [5 ] loss: 4.448 correct: 1424.000, total: 3000.000, accuracy: 0.475\n",
            "training epoch: [6 ] loss: 4.363 correct: 1435.000, total: 3000.000, accuracy: 0.478\n",
            "training epoch: [7 ] loss: 4.296 correct: 1412.000, total: 3000.000, accuracy: 0.471\n",
            "training epoch: [8 ] loss: 4.236 correct: 1412.000, total: 3000.000, accuracy: 0.471\n",
            "training epoch: [9 ] loss: 4.179 correct: 1415.000, total: 3000.000, accuracy: 0.472\n",
            "training epoch: [10 ] loss: 4.123 correct: 1421.000, total: 3000.000, accuracy: 0.474\n",
            "training epoch: [11 ] loss: 4.069 correct: 1427.000, total: 3000.000, accuracy: 0.476\n",
            "training epoch: [12 ] loss: 4.018 correct: 1436.000, total: 3000.000, accuracy: 0.479\n",
            "training epoch: [13 ] loss: 3.967 correct: 1445.000, total: 3000.000, accuracy: 0.482\n",
            "training epoch: [14 ] loss: 3.917 correct: 1449.000, total: 3000.000, accuracy: 0.483\n",
            "training epoch: [15 ] loss: 3.869 correct: 1456.000, total: 3000.000, accuracy: 0.485\n",
            "training epoch: [16 ] loss: 3.822 correct: 1463.000, total: 3000.000, accuracy: 0.488\n",
            "training epoch: [17 ] loss: 3.776 correct: 1474.000, total: 3000.000, accuracy: 0.491\n",
            "training epoch: [18 ] loss: 3.730 correct: 1483.000, total: 3000.000, accuracy: 0.494\n",
            "training epoch: [19 ] loss: 3.683 correct: 1487.000, total: 3000.000, accuracy: 0.496\n",
            "training epoch: [20 ] loss: 3.636 correct: 1491.000, total: 3000.000, accuracy: 0.497\n",
            "training epoch: [21 ] loss: 3.588 correct: 1501.000, total: 3000.000, accuracy: 0.500\n",
            "training epoch: [22 ] loss: 3.541 correct: 1508.000, total: 3000.000, accuracy: 0.503\n",
            "training epoch: [23 ] loss: 3.495 correct: 1518.000, total: 3000.000, accuracy: 0.506\n",
            "training epoch: [24 ] loss: 3.450 correct: 1525.000, total: 3000.000, accuracy: 0.508\n",
            "training epoch: [25 ] loss: 3.406 correct: 1531.000, total: 3000.000, accuracy: 0.510\n",
            "training epoch: [26 ] loss: 3.363 correct: 1537.000, total: 3000.000, accuracy: 0.512\n",
            "training epoch: [27 ] loss: 3.320 correct: 1553.000, total: 3000.000, accuracy: 0.518\n",
            "training epoch: [28 ] loss: 3.278 correct: 1560.000, total: 3000.000, accuracy: 0.520\n",
            "training epoch: [29 ] loss: 3.239 correct: 1564.000, total: 3000.000, accuracy: 0.521\n",
            "training epoch: [30 ] loss: 3.201 correct: 1582.000, total: 3000.000, accuracy: 0.527\n",
            "training epoch: [31 ] loss: 3.166 correct: 1599.000, total: 3000.000, accuracy: 0.533\n",
            "training epoch: [32 ] loss: 3.131 correct: 1604.000, total: 3000.000, accuracy: 0.535\n",
            "training epoch: [33 ] loss: 3.096 correct: 1614.000, total: 3000.000, accuracy: 0.538\n",
            "training epoch: [34 ] loss: 3.061 correct: 1628.000, total: 3000.000, accuracy: 0.543\n",
            "training epoch: [35 ] loss: 3.027 correct: 1650.000, total: 3000.000, accuracy: 0.550\n",
            "training epoch: [36 ] loss: 2.996 correct: 1669.000, total: 3000.000, accuracy: 0.556\n",
            "training epoch: [37 ] loss: 2.967 correct: 1704.000, total: 3000.000, accuracy: 0.568\n",
            "training epoch: [38 ] loss: 2.941 correct: 1731.000, total: 3000.000, accuracy: 0.577\n",
            "training epoch: [39 ] loss: 2.916 correct: 1753.000, total: 3000.000, accuracy: 0.584\n",
            "training epoch: [40 ] loss: 2.892 correct: 1759.000, total: 3000.000, accuracy: 0.586\n",
            "training epoch: [41 ] loss: 2.870 correct: 1787.000, total: 3000.000, accuracy: 0.596\n",
            "training epoch: [42 ] loss: 2.849 correct: 1803.000, total: 3000.000, accuracy: 0.601\n",
            "training epoch: [43 ] loss: 2.829 correct: 1807.000, total: 3000.000, accuracy: 0.602\n",
            "training epoch: [44 ] loss: 2.810 correct: 1818.000, total: 3000.000, accuracy: 0.606\n",
            "training epoch: [45 ] loss: 2.793 correct: 1828.000, total: 3000.000, accuracy: 0.609\n",
            "training epoch: [46 ] loss: 2.776 correct: 1845.000, total: 3000.000, accuracy: 0.615\n",
            "training epoch: [47 ] loss: 2.760 correct: 1859.000, total: 3000.000, accuracy: 0.620\n",
            "training epoch: [48 ] loss: 2.745 correct: 1863.000, total: 3000.000, accuracy: 0.621\n",
            "training epoch: [49 ] loss: 2.731 correct: 1870.000, total: 3000.000, accuracy: 0.623\n",
            "training epoch: [50 ] loss: 2.717 correct: 1871.000, total: 3000.000, accuracy: 0.624\n",
            "training epoch: [51 ] loss: 2.703 correct: 1874.000, total: 3000.000, accuracy: 0.625\n",
            "training epoch: [52 ] loss: 2.690 correct: 1883.000, total: 3000.000, accuracy: 0.628\n",
            "training epoch: [53 ] loss: 2.678 correct: 1885.000, total: 3000.000, accuracy: 0.628\n",
            "training epoch: [54 ] loss: 2.666 correct: 1895.000, total: 3000.000, accuracy: 0.632\n",
            "training epoch: [55 ] loss: 2.654 correct: 1903.000, total: 3000.000, accuracy: 0.634\n",
            "training epoch: [56 ] loss: 2.643 correct: 1905.000, total: 3000.000, accuracy: 0.635\n",
            "training epoch: [57 ] loss: 2.632 correct: 1910.000, total: 3000.000, accuracy: 0.637\n",
            "training epoch: [58 ] loss: 2.622 correct: 1915.000, total: 3000.000, accuracy: 0.638\n",
            "training epoch: [59 ] loss: 2.612 correct: 1914.000, total: 3000.000, accuracy: 0.638\n",
            "training epoch: [60 ] loss: 2.601 correct: 1917.000, total: 3000.000, accuracy: 0.639\n",
            "training epoch: [61 ] loss: 2.592 correct: 1921.000, total: 3000.000, accuracy: 0.640\n",
            "training epoch: [62 ] loss: 2.582 correct: 1924.000, total: 3000.000, accuracy: 0.641\n",
            "training epoch: [63 ] loss: 2.572 correct: 1929.000, total: 3000.000, accuracy: 0.643\n",
            "training epoch: [64 ] loss: 2.562 correct: 1932.000, total: 3000.000, accuracy: 0.644\n",
            "training epoch: [65 ] loss: 2.552 correct: 1936.000, total: 3000.000, accuracy: 0.645\n",
            "training epoch: [66 ] loss: 2.542 correct: 1942.000, total: 3000.000, accuracy: 0.647\n",
            "training epoch: [67 ] loss: 2.532 correct: 1952.000, total: 3000.000, accuracy: 0.651\n",
            "training epoch: [68 ] loss: 2.522 correct: 1969.000, total: 3000.000, accuracy: 0.656\n",
            "training epoch: [69 ] loss: 2.512 correct: 1969.000, total: 3000.000, accuracy: 0.656\n",
            "training epoch: [70 ] loss: 2.503 correct: 1977.000, total: 3000.000, accuracy: 0.659\n",
            "training epoch: [71 ] loss: 2.493 correct: 1984.000, total: 3000.000, accuracy: 0.661\n",
            "training epoch: [72 ] loss: 2.484 correct: 1995.000, total: 3000.000, accuracy: 0.665\n",
            "training epoch: [73 ] loss: 2.475 correct: 2002.000, total: 3000.000, accuracy: 0.667\n",
            "training epoch: [74 ] loss: 2.465 correct: 2012.000, total: 3000.000, accuracy: 0.671\n",
            "training epoch: [75 ] loss: 2.456 correct: 2019.000, total: 3000.000, accuracy: 0.673\n",
            "training epoch: [76 ] loss: 2.447 correct: 2022.000, total: 3000.000, accuracy: 0.674\n",
            "training epoch: [77 ] loss: 2.439 correct: 2028.000, total: 3000.000, accuracy: 0.676\n",
            "training epoch: [78 ] loss: 2.430 correct: 2030.000, total: 3000.000, accuracy: 0.677\n",
            "training epoch: [79 ] loss: 2.421 correct: 2034.000, total: 3000.000, accuracy: 0.678\n",
            "training epoch: [80 ] loss: 2.412 correct: 2039.000, total: 3000.000, accuracy: 0.680\n",
            "training epoch: [81 ] loss: 2.404 correct: 2041.000, total: 3000.000, accuracy: 0.680\n",
            "training epoch: [82 ] loss: 2.395 correct: 2043.000, total: 3000.000, accuracy: 0.681\n",
            "training epoch: [83 ] loss: 2.386 correct: 2048.000, total: 3000.000, accuracy: 0.683\n",
            "training epoch: [84 ] loss: 2.377 correct: 2048.000, total: 3000.000, accuracy: 0.683\n",
            "training epoch: [85 ] loss: 2.368 correct: 2054.000, total: 3000.000, accuracy: 0.685\n",
            "training epoch: [86 ] loss: 2.359 correct: 2058.000, total: 3000.000, accuracy: 0.686\n",
            "training epoch: [87 ] loss: 2.350 correct: 2063.000, total: 3000.000, accuracy: 0.688\n",
            "training epoch: [88 ] loss: 2.341 correct: 2072.000, total: 3000.000, accuracy: 0.691\n",
            "training epoch: [89 ] loss: 2.332 correct: 2075.000, total: 3000.000, accuracy: 0.692\n",
            "training epoch: [90 ] loss: 2.322 correct: 2084.000, total: 3000.000, accuracy: 0.695\n",
            "training epoch: [91 ] loss: 2.313 correct: 2088.000, total: 3000.000, accuracy: 0.696\n",
            "training epoch: [92 ] loss: 2.303 correct: 2097.000, total: 3000.000, accuracy: 0.699\n",
            "training epoch: [93 ] loss: 2.294 correct: 2096.000, total: 3000.000, accuracy: 0.699\n",
            "training epoch: [94 ] loss: 2.284 correct: 2095.000, total: 3000.000, accuracy: 0.698\n",
            "training epoch: [95 ] loss: 2.274 correct: 2094.000, total: 3000.000, accuracy: 0.698\n",
            "training epoch: [96 ] loss: 2.264 correct: 2092.000, total: 3000.000, accuracy: 0.697\n",
            "training epoch: [97 ] loss: 2.254 correct: 2093.000, total: 3000.000, accuracy: 0.698\n",
            "training epoch: [98 ] loss: 2.244 correct: 2087.000, total: 3000.000, accuracy: 0.696\n",
            "training epoch: [99 ] loss: 2.234 correct: 2085.000, total: 3000.000, accuracy: 0.695\n",
            "training epoch: [100 ] loss: 2.224 correct: 2082.000, total: 3000.000, accuracy: 0.694\n",
            "training epoch: [101 ] loss: 2.214 correct: 2085.000, total: 3000.000, accuracy: 0.695\n",
            "training epoch: [102 ] loss: 2.205 correct: 2085.000, total: 3000.000, accuracy: 0.695\n",
            "training epoch: [103 ] loss: 2.196 correct: 2080.000, total: 3000.000, accuracy: 0.693\n",
            "training epoch: [104 ] loss: 2.187 correct: 2086.000, total: 3000.000, accuracy: 0.695\n",
            "training epoch: [105 ] loss: 2.178 correct: 2092.000, total: 3000.000, accuracy: 0.697\n",
            "training epoch: [106 ] loss: 2.170 correct: 2091.000, total: 3000.000, accuracy: 0.697\n",
            "training epoch: [107 ] loss: 2.161 correct: 2095.000, total: 3000.000, accuracy: 0.698\n",
            "training epoch: [108 ] loss: 2.152 correct: 2095.000, total: 3000.000, accuracy: 0.698\n",
            "training epoch: [109 ] loss: 2.144 correct: 2094.000, total: 3000.000, accuracy: 0.698\n",
            "training epoch: [110 ] loss: 2.135 correct: 2094.000, total: 3000.000, accuracy: 0.698\n",
            "training epoch: [111 ] loss: 2.126 correct: 2094.000, total: 3000.000, accuracy: 0.698\n",
            "training epoch: [112 ] loss: 2.118 correct: 2093.000, total: 3000.000, accuracy: 0.698\n",
            "training epoch: [113 ] loss: 2.109 correct: 2093.000, total: 3000.000, accuracy: 0.698\n",
            "training epoch: [114 ] loss: 2.101 correct: 2092.000, total: 3000.000, accuracy: 0.697\n",
            "training epoch: [115 ] loss: 2.092 correct: 2091.000, total: 3000.000, accuracy: 0.697\n",
            "training epoch: [116 ] loss: 2.084 correct: 2095.000, total: 3000.000, accuracy: 0.698\n",
            "training epoch: [117 ] loss: 2.075 correct: 2094.000, total: 3000.000, accuracy: 0.698\n",
            "training epoch: [118 ] loss: 2.066 correct: 2095.000, total: 3000.000, accuracy: 0.698\n",
            "training epoch: [119 ] loss: 2.057 correct: 2095.000, total: 3000.000, accuracy: 0.698\n",
            "training epoch: [120 ] loss: 2.048 correct: 2100.000, total: 3000.000, accuracy: 0.700\n",
            "training epoch: [121 ] loss: 2.039 correct: 2100.000, total: 3000.000, accuracy: 0.700\n",
            "training epoch: [122 ] loss: 2.031 correct: 2104.000, total: 3000.000, accuracy: 0.701\n",
            "training epoch: [123 ] loss: 2.023 correct: 2106.000, total: 3000.000, accuracy: 0.702\n",
            "training epoch: [124 ] loss: 2.016 correct: 2110.000, total: 3000.000, accuracy: 0.703\n",
            "training epoch: [125 ] loss: 2.008 correct: 2115.000, total: 3000.000, accuracy: 0.705\n",
            "training epoch: [126 ] loss: 2.001 correct: 2116.000, total: 3000.000, accuracy: 0.705\n",
            "training epoch: [127 ] loss: 1.994 correct: 2117.000, total: 3000.000, accuracy: 0.706\n",
            "training epoch: [128 ] loss: 1.987 correct: 2115.000, total: 3000.000, accuracy: 0.705\n",
            "training epoch: [129 ] loss: 1.980 correct: 2115.000, total: 3000.000, accuracy: 0.705\n",
            "training epoch: [130 ] loss: 1.973 correct: 2115.000, total: 3000.000, accuracy: 0.705\n",
            "training epoch: [131 ] loss: 1.966 correct: 2113.000, total: 3000.000, accuracy: 0.704\n",
            "training epoch: [132 ] loss: 1.959 correct: 2113.000, total: 3000.000, accuracy: 0.704\n",
            "training epoch: [133 ] loss: 1.952 correct: 2112.000, total: 3000.000, accuracy: 0.704\n",
            "training epoch: [134 ] loss: 1.945 correct: 2112.000, total: 3000.000, accuracy: 0.704\n",
            "training epoch: [135 ] loss: 1.938 correct: 2111.000, total: 3000.000, accuracy: 0.704\n",
            "training epoch: [136 ] loss: 1.931 correct: 2112.000, total: 3000.000, accuracy: 0.704\n",
            "training epoch: [137 ] loss: 1.924 correct: 2111.000, total: 3000.000, accuracy: 0.704\n",
            "training epoch: [138 ] loss: 1.917 correct: 2112.000, total: 3000.000, accuracy: 0.704\n",
            "training epoch: [139 ] loss: 1.910 correct: 2116.000, total: 3000.000, accuracy: 0.705\n",
            "training epoch: [140 ] loss: 1.903 correct: 2118.000, total: 3000.000, accuracy: 0.706\n",
            "training epoch: [141 ] loss: 1.896 correct: 2118.000, total: 3000.000, accuracy: 0.706\n",
            "training epoch: [142 ] loss: 1.889 correct: 2117.000, total: 3000.000, accuracy: 0.706\n",
            "training epoch: [143 ] loss: 1.882 correct: 2117.000, total: 3000.000, accuracy: 0.706\n",
            "training epoch: [144 ] loss: 1.875 correct: 2118.000, total: 3000.000, accuracy: 0.706\n",
            "training epoch: [145 ] loss: 1.868 correct: 2118.000, total: 3000.000, accuracy: 0.706\n",
            "training epoch: [146 ] loss: 1.861 correct: 2116.000, total: 3000.000, accuracy: 0.705\n",
            "training epoch: [147 ] loss: 1.854 correct: 2118.000, total: 3000.000, accuracy: 0.706\n",
            "training epoch: [148 ] loss: 1.848 correct: 2118.000, total: 3000.000, accuracy: 0.706\n",
            "training epoch: [149 ] loss: 1.841 correct: 2120.000, total: 3000.000, accuracy: 0.707\n",
            "training epoch: [150 ] loss: 1.834 correct: 2120.000, total: 3000.000, accuracy: 0.707\n",
            "training epoch: [151 ] loss: 1.827 correct: 2120.000, total: 3000.000, accuracy: 0.707\n",
            "training epoch: [152 ] loss: 1.820 correct: 2120.000, total: 3000.000, accuracy: 0.707\n",
            "training epoch: [153 ] loss: 1.814 correct: 2121.000, total: 3000.000, accuracy: 0.707\n",
            "training epoch: [154 ] loss: 1.807 correct: 2120.000, total: 3000.000, accuracy: 0.707\n",
            "training epoch: [155 ] loss: 1.800 correct: 2120.000, total: 3000.000, accuracy: 0.707\n",
            "training epoch: [156 ] loss: 1.794 correct: 2120.000, total: 3000.000, accuracy: 0.707\n",
            "training epoch: [157 ] loss: 1.787 correct: 2120.000, total: 3000.000, accuracy: 0.707\n",
            "training epoch: [158 ] loss: 1.781 correct: 2121.000, total: 3000.000, accuracy: 0.707\n",
            "training epoch: [159 ] loss: 1.774 correct: 2121.000, total: 3000.000, accuracy: 0.707\n",
            "training epoch: [160 ] loss: 1.767 correct: 2122.000, total: 3000.000, accuracy: 0.707\n",
            "training epoch: [161 ] loss: 1.761 correct: 2122.000, total: 3000.000, accuracy: 0.707\n",
            "training epoch: [162 ] loss: 1.755 correct: 2122.000, total: 3000.000, accuracy: 0.707\n",
            "training epoch: [163 ] loss: 1.749 correct: 2125.000, total: 3000.000, accuracy: 0.708\n",
            "training epoch: [164 ] loss: 1.743 correct: 2123.000, total: 3000.000, accuracy: 0.708\n",
            "training epoch: [165 ] loss: 1.737 correct: 2124.000, total: 3000.000, accuracy: 0.708\n",
            "training epoch: [166 ] loss: 1.731 correct: 2120.000, total: 3000.000, accuracy: 0.707\n",
            "training epoch: [167 ] loss: 1.725 correct: 2119.000, total: 3000.000, accuracy: 0.706\n",
            "training epoch: [168 ] loss: 1.719 correct: 2121.000, total: 3000.000, accuracy: 0.707\n",
            "training epoch: [169 ] loss: 1.713 correct: 2122.000, total: 3000.000, accuracy: 0.707\n",
            "training epoch: [170 ] loss: 1.708 correct: 2123.000, total: 3000.000, accuracy: 0.708\n",
            "training epoch: [171 ] loss: 1.702 correct: 2125.000, total: 3000.000, accuracy: 0.708\n",
            "training epoch: [172 ] loss: 1.696 correct: 2127.000, total: 3000.000, accuracy: 0.709\n",
            "training epoch: [173 ] loss: 1.690 correct: 2128.000, total: 3000.000, accuracy: 0.709\n",
            "training epoch: [174 ] loss: 1.685 correct: 2128.000, total: 3000.000, accuracy: 0.709\n",
            "training epoch: [175 ] loss: 1.679 correct: 2128.000, total: 3000.000, accuracy: 0.709\n",
            "training epoch: [176 ] loss: 1.673 correct: 2127.000, total: 3000.000, accuracy: 0.709\n",
            "training epoch: [177 ] loss: 1.667 correct: 2127.000, total: 3000.000, accuracy: 0.709\n",
            "training epoch: [178 ] loss: 1.662 correct: 2127.000, total: 3000.000, accuracy: 0.709\n",
            "training epoch: [179 ] loss: 1.656 correct: 2128.000, total: 3000.000, accuracy: 0.709\n",
            "training epoch: [180 ] loss: 1.651 correct: 2129.000, total: 3000.000, accuracy: 0.710\n",
            "training epoch: [181 ] loss: 1.645 correct: 2131.000, total: 3000.000, accuracy: 0.710\n",
            "training epoch: [182 ] loss: 1.640 correct: 2131.000, total: 3000.000, accuracy: 0.710\n",
            "training epoch: [183 ] loss: 1.634 correct: 2133.000, total: 3000.000, accuracy: 0.711\n",
            "training epoch: [184 ] loss: 1.629 correct: 2134.000, total: 3000.000, accuracy: 0.711\n",
            "training epoch: [185 ] loss: 1.623 correct: 2133.000, total: 3000.000, accuracy: 0.711\n",
            "training epoch: [186 ] loss: 1.618 correct: 2132.000, total: 3000.000, accuracy: 0.711\n",
            "training epoch: [187 ] loss: 1.612 correct: 2132.000, total: 3000.000, accuracy: 0.711\n",
            "training epoch: [188 ] loss: 1.607 correct: 2134.000, total: 3000.000, accuracy: 0.711\n",
            "training epoch: [189 ] loss: 1.601 correct: 2134.000, total: 3000.000, accuracy: 0.711\n",
            "training epoch: [190 ] loss: 1.596 correct: 2134.000, total: 3000.000, accuracy: 0.711\n",
            "training epoch: [191 ] loss: 1.591 correct: 2134.000, total: 3000.000, accuracy: 0.711\n",
            "training epoch: [192 ] loss: 1.585 correct: 2134.000, total: 3000.000, accuracy: 0.711\n",
            "training epoch: [193 ] loss: 1.580 correct: 2134.000, total: 3000.000, accuracy: 0.711\n",
            "training epoch: [194 ] loss: 1.575 correct: 2134.000, total: 3000.000, accuracy: 0.711\n",
            "training epoch: [195 ] loss: 1.569 correct: 2134.000, total: 3000.000, accuracy: 0.711\n",
            "training epoch: [196 ] loss: 1.564 correct: 2132.000, total: 3000.000, accuracy: 0.711\n",
            "training epoch: [197 ] loss: 1.559 correct: 2133.000, total: 3000.000, accuracy: 0.711\n",
            "training epoch: [198 ] loss: 1.554 correct: 2135.000, total: 3000.000, accuracy: 0.712\n",
            "training epoch: [199 ] loss: 1.549 correct: 2139.000, total: 3000.000, accuracy: 0.713\n",
            "training epoch: [200 ] loss: 1.544 correct: 2139.000, total: 3000.000, accuracy: 0.713\n",
            "Finished Training run \n"
          ],
          "name": "stdout"
        }
      ]
    },
    {
      "cell_type": "code",
      "metadata": {
        "id": "AciJnAh5nfug"
      },
      "source": [
        "columns = [\"epochs\", \"argmax > 0.5\" ,\"argmax < 0.5\", \"focus_true_pred_true\", \"focus_false_pred_true\", \"focus_true_pred_false\", \"focus_false_pred_false\" ]\n",
        "df_train = pd.DataFrame()\n",
        "df_test = pd.DataFrame()\n",
        "df_train[columns[0]] = np.arange(0,epoch+2)\n",
        "df_train[columns[1]] = analysis_data_tr[:,-2]/30\n",
        "df_train[columns[2]] = analysis_data_tr[:,-1]/30\n",
        "df_train[columns[3]] = analysis_data_tr[:,0]/30\n",
        "df_train[columns[4]] = analysis_data_tr[:,1]/30\n",
        "df_train[columns[5]] = analysis_data_tr[:,2]/30\n",
        "df_train[columns[6]] = analysis_data_tr[:,3]/30"
      ],
      "execution_count": 18,
      "outputs": []
    },
    {
      "cell_type": "code",
      "metadata": {
        "colab": {
          "base_uri": "https://localhost:8080/",
          "height": 456
        },
        "id": "NoQpS_6scRsC",
        "outputId": "96743235-aca4-4820-a81b-cb0e95dbf56c"
      },
      "source": [
        "df_train"
      ],
      "execution_count": 19,
      "outputs": [
        {
          "output_type": "execute_result",
          "data": {
            "text/html": [
              "<div>\n",
              "<style scoped>\n",
              "    .dataframe tbody tr th:only-of-type {\n",
              "        vertical-align: middle;\n",
              "    }\n",
              "\n",
              "    .dataframe tbody tr th {\n",
              "        vertical-align: top;\n",
              "    }\n",
              "\n",
              "    .dataframe thead th {\n",
              "        text-align: right;\n",
              "    }\n",
              "</style>\n",
              "<table border=\"1\" class=\"dataframe\">\n",
              "  <thead>\n",
              "    <tr style=\"text-align: right;\">\n",
              "      <th></th>\n",
              "      <th>epochs</th>\n",
              "      <th>argmax &gt; 0.5</th>\n",
              "      <th>argmax &lt; 0.5</th>\n",
              "      <th>focus_true_pred_true</th>\n",
              "      <th>focus_false_pred_true</th>\n",
              "      <th>focus_true_pred_false</th>\n",
              "      <th>focus_false_pred_false</th>\n",
              "    </tr>\n",
              "  </thead>\n",
              "  <tbody>\n",
              "    <tr>\n",
              "      <th>0</th>\n",
              "      <td>0</td>\n",
              "      <td>9.800000</td>\n",
              "      <td>90.200000</td>\n",
              "      <td>5.233333</td>\n",
              "      <td>32.533333</td>\n",
              "      <td>6.533333</td>\n",
              "      <td>55.700000</td>\n",
              "    </tr>\n",
              "    <tr>\n",
              "      <th>1</th>\n",
              "      <td>1</td>\n",
              "      <td>35.100000</td>\n",
              "      <td>64.900000</td>\n",
              "      <td>8.366667</td>\n",
              "      <td>26.866667</td>\n",
              "      <td>6.600000</td>\n",
              "      <td>58.166667</td>\n",
              "    </tr>\n",
              "    <tr>\n",
              "      <th>2</th>\n",
              "      <td>2</td>\n",
              "      <td>99.700000</td>\n",
              "      <td>0.300000</td>\n",
              "      <td>44.966667</td>\n",
              "      <td>8.733333</td>\n",
              "      <td>1.466667</td>\n",
              "      <td>44.833333</td>\n",
              "    </tr>\n",
              "    <tr>\n",
              "      <th>3</th>\n",
              "      <td>3</td>\n",
              "      <td>99.700000</td>\n",
              "      <td>0.300000</td>\n",
              "      <td>35.066667</td>\n",
              "      <td>11.033333</td>\n",
              "      <td>11.366667</td>\n",
              "      <td>42.533333</td>\n",
              "    </tr>\n",
              "    <tr>\n",
              "      <th>4</th>\n",
              "      <td>4</td>\n",
              "      <td>99.700000</td>\n",
              "      <td>0.300000</td>\n",
              "      <td>34.100000</td>\n",
              "      <td>12.733333</td>\n",
              "      <td>12.333333</td>\n",
              "      <td>40.833333</td>\n",
              "    </tr>\n",
              "    <tr>\n",
              "      <th>...</th>\n",
              "      <td>...</td>\n",
              "      <td>...</td>\n",
              "      <td>...</td>\n",
              "      <td>...</td>\n",
              "      <td>...</td>\n",
              "      <td>...</td>\n",
              "      <td>...</td>\n",
              "    </tr>\n",
              "    <tr>\n",
              "      <th>196</th>\n",
              "      <td>196</td>\n",
              "      <td>99.833333</td>\n",
              "      <td>0.166667</td>\n",
              "      <td>46.700000</td>\n",
              "      <td>24.366667</td>\n",
              "      <td>0.000000</td>\n",
              "      <td>28.933333</td>\n",
              "    </tr>\n",
              "    <tr>\n",
              "      <th>197</th>\n",
              "      <td>197</td>\n",
              "      <td>99.833333</td>\n",
              "      <td>0.166667</td>\n",
              "      <td>46.700000</td>\n",
              "      <td>24.400000</td>\n",
              "      <td>0.000000</td>\n",
              "      <td>28.900000</td>\n",
              "    </tr>\n",
              "    <tr>\n",
              "      <th>198</th>\n",
              "      <td>198</td>\n",
              "      <td>99.800000</td>\n",
              "      <td>0.200000</td>\n",
              "      <td>46.700000</td>\n",
              "      <td>24.466667</td>\n",
              "      <td>0.000000</td>\n",
              "      <td>28.833333</td>\n",
              "    </tr>\n",
              "    <tr>\n",
              "      <th>199</th>\n",
              "      <td>199</td>\n",
              "      <td>99.800000</td>\n",
              "      <td>0.200000</td>\n",
              "      <td>46.700000</td>\n",
              "      <td>24.600000</td>\n",
              "      <td>0.000000</td>\n",
              "      <td>28.700000</td>\n",
              "    </tr>\n",
              "    <tr>\n",
              "      <th>200</th>\n",
              "      <td>200</td>\n",
              "      <td>99.800000</td>\n",
              "      <td>0.200000</td>\n",
              "      <td>46.700000</td>\n",
              "      <td>24.600000</td>\n",
              "      <td>0.000000</td>\n",
              "      <td>28.700000</td>\n",
              "    </tr>\n",
              "  </tbody>\n",
              "</table>\n",
              "<p>201 rows × 7 columns</p>\n",
              "</div>"
            ],
            "text/plain": [
              "     epochs  argmax > 0.5  ...  focus_true_pred_false  focus_false_pred_false\n",
              "0         0      9.800000  ...               6.533333               55.700000\n",
              "1         1     35.100000  ...               6.600000               58.166667\n",
              "2         2     99.700000  ...               1.466667               44.833333\n",
              "3         3     99.700000  ...              11.366667               42.533333\n",
              "4         4     99.700000  ...              12.333333               40.833333\n",
              "..      ...           ...  ...                    ...                     ...\n",
              "196     196     99.833333  ...               0.000000               28.933333\n",
              "197     197     99.833333  ...               0.000000               28.900000\n",
              "198     198     99.800000  ...               0.000000               28.833333\n",
              "199     199     99.800000  ...               0.000000               28.700000\n",
              "200     200     99.800000  ...               0.000000               28.700000\n",
              "\n",
              "[201 rows x 7 columns]"
            ]
          },
          "metadata": {
            "tags": []
          },
          "execution_count": 19
        }
      ]
    },
    {
      "cell_type": "code",
      "metadata": {
        "colab": {
          "base_uri": "https://localhost:8080/",
          "height": 404
        },
        "id": "IMAhRdxOcVf6",
        "outputId": "6be24722-90e6-474e-835d-47022bdade8e"
      },
      "source": [
        "fig= plt.figure(figsize=(6,6))\n",
        "plt.plot(df_train[columns[0]],df_train[columns[3]], label =\"focus_true_pred_true \")\n",
        "plt.plot(df_train[columns[0]],df_train[columns[4]], label =\"focus_false_pred_true \")\n",
        "plt.plot(df_train[columns[0]],df_train[columns[5]], label =\"focus_true_pred_false \")\n",
        "plt.plot(df_train[columns[0]],df_train[columns[6]], label =\"focus_false_pred_false \")\n",
        "plt.title(\"On Train set\")\n",
        "plt.legend(loc='center left', bbox_to_anchor=(1, 0.5))\n",
        "plt.xlabel(\"epochs\")\n",
        "plt.ylabel(\"percentage of data\")\n",
        "plt.xticks([0,50,100,150,200])\n",
        "#plt.vlines(vline_list,min(min(df_train[columns[3]]/300),min(df_train[columns[4]]/300),min(df_train[columns[5]]/300),min(df_train[columns[6]]/300)), max(max(df_train[columns[3]]/300),max(df_train[columns[4]]/300),max(df_train[columns[5]]/300),max(df_train[columns[6]]/300)),linestyles='dotted')\n",
        "plt.show()\n",
        "fig.savefig(\"train_analysis.pdf\")\n",
        "fig.savefig(\"train_analysis.png\")"
      ],
      "execution_count": 20,
      "outputs": [
        {
          "output_type": "display_data",
          "data": {
            "image/png": "[encoded data removed]",
            "text/plain": [
              "<Figure size 432x432 with 1 Axes>"
            ]
          },
          "metadata": {
            "tags": [],
            "needs_background": "light"
          }
        }
      ]
    },
    {
      "cell_type": "code",
      "metadata": {
        "id": "VCnS6r2_3WdU"
      },
      "source": [
        "aph = []\n",
        "for i in bg:\n",
        "  aph.append(F.softmax(i,dim=1).detach().numpy())\n",
        "aph = np.concatenate(aph,axis=0)\n",
        "# torch.save({\n",
        "#             'epoch': 500,\n",
        "#             'model_state_dict': what_net.state_dict(),\n",
        "#             #'optimizer_state_dict': optimizer_what.state_dict(),\n",
        "#             \"optimizer_alpha\":optim1,\n",
        "#             \"FTPT_analysis\":analysis_data_tr,\n",
        "#             \"alpha\":aph\n",
        "\n",
        "#             }, \"type4_what_net_500.pt\")"
      ],
      "execution_count": 21,
      "outputs": []
    },
    {
      "cell_type": "code",
      "metadata": {
        "colab": {
          "base_uri": "https://localhost:8080/"
        },
        "id": "KVzrDOGS4UxU",
        "outputId": "1e4aff02-1604-4c6a-dc6d-4f5feef9b442"
      },
      "source": [
        "aph[0]"
      ],
      "execution_count": 22,
      "outputs": [
        {
          "output_type": "execute_result",
          "data": {
            "text/plain": [
              "array([0.0000000e+00, 1.2509268e-07, 0.0000000e+00, 9.9999988e-01,\n",
              "       7.0190610e-11, 0.0000000e+00, 0.0000000e+00, 0.0000000e+00,\n",
              "       0.0000000e+00], dtype=float32)"
            ]
          },
          "metadata": {
            "tags": []
          },
          "execution_count": 22
        }
      ]
    },
    {
      "cell_type": "code",
      "metadata": {
        "id": "yF2bvWdIWUTa"
      },
      "source": [
        "xx,yy= np.meshgrid(np.arange(1,8,0.01),np.arange(2,9,0.01))\n",
        "X = np.concatenate((xx.reshape(-1,1),yy.reshape(-1,1)),axis=1)\n",
        "X = torch.Tensor(X).double().to(\"cuda\")\n",
        "Y1 = what_net(X)"
      ],
      "execution_count": 23,
      "outputs": []
    },
    {
      "cell_type": "code",
      "metadata": {
        "id": "GENNdxJEa_Xi"
      },
      "source": [
        "Y1 = Y1.to(\"cpu\")\n",
        "Y1 = Y1.detach().numpy()\n",
        "Y1 = torch.softmax(torch.Tensor(Y1),dim=1)\n",
        "_,Z4= torch.max(Y1,1)\n",
        "Z1 = Y1[:,0]\n",
        "Z2 = Y1[:,1]\n",
        "Z3 = Y1[:,2]"
      ],
      "execution_count": 24,
      "outputs": []
    },
    {
      "cell_type": "code",
      "metadata": {
        "id": "5ZwEogAobesX"
      },
      "source": [
        "X = X.to(\"cpu\")"
      ],
      "execution_count": 25,
      "outputs": []
    },
    {
      "cell_type": "code",
      "metadata": {
        "colab": {
          "base_uri": "https://localhost:8080/"
        },
        "id": "ZIoUNsgebIku",
        "outputId": "eab42806-70b7-4e2e-f0ed-b162d6f1b89b"
      },
      "source": [
        "data = np.load(\"type_4_data.npy\",allow_pickle=True)\n",
        "x = data[0][\"X\"]\n",
        "y = data[0][\"Y\"]\n",
        "idx= []\n",
        "for i in range(10):\n",
        "  print(i,sum(y==i))\n",
        "  idx.append(y==i)"
      ],
      "execution_count": 26,
      "outputs": [
        {
          "output_type": "stream",
          "text": [
            "0 482\n",
            "1 485\n",
            "2 536\n",
            "3 504\n",
            "4 493\n",
            "5 513\n",
            "6 497\n",
            "7 486\n",
            "8 522\n",
            "9 482\n"
          ],
          "name": "stdout"
        }
      ]
    },
    {
      "cell_type": "code",
      "metadata": {
        "id": "7Ut6ZTAXbvqx"
      },
      "source": [
        "avrg = []\n",
        "with torch.no_grad():\n",
        "  for i, data in  enumerate(train_loader):\n",
        "          inputs , labels , fore_idx = data\n",
        "          inputs = inputs.double()\n",
        "          inputs, labels = inputs.to(\"cuda\"),labels.to(\"cuda\")\n",
        "          beta  = bg[i]\n",
        "          beta = beta.to(\"cuda\")\n",
        "          avg,alpha = attn_avg(inputs,beta)\n",
        "          \n",
        "          avrg.append(avg.detach().cpu().numpy())\n",
        "avrg= np.concatenate(avrg,axis=0)"
      ],
      "execution_count": 27,
      "outputs": []
    },
    {
      "cell_type": "code",
      "metadata": {
        "colab": {
          "base_uri": "https://localhost:8080/",
          "height": 374
        },
        "id": "5PAwMQXzbQJR",
        "outputId": "70b0334f-026a-42f5-d88b-60dd1299e8f7"
      },
      "source": [
        "fig = plt.figure(figsize=(6,6))\n",
        "#plt.scatter(X[:,0],X[:,1],c=Z4)\n",
        "Z4 = Z4.reshape(xx.shape)\n",
        "plt.contourf(xx, yy, Z4, alpha=0.4)\n",
        "for i in range(3):\n",
        "  plt.scatter(x[idx[i],0],x[idx[i],1],label=\"class_\"+str(i),alpha=0.8)\n",
        "plt.legend(loc='center left', bbox_to_anchor=(1, 0.5))\n",
        "plt.scatter(avrg[:,0],avrg[:,1],alpha=0.2)\n",
        "plt.savefig(\"decision_boundary.png\",bbox_inches=\"tight\")\n"
      ],
      "execution_count": 28,
      "outputs": [
        {
          "output_type": "display_data",
          "data": {
            "image/png": "[encoded data removed]",
            "text/plain": [
              "<Figure size 432x432 with 1 Axes>"
            ]
          },
          "metadata": {
            "tags": [],
            "needs_background": "light"
          }
        }
      ]
    },
    {
      "cell_type": "code",
      "metadata": {
        "id": "6KHn17Rbceqt"
      },
      "source": [
        ""
      ],
      "execution_count": 28,
      "outputs": []
    }
  ]
}