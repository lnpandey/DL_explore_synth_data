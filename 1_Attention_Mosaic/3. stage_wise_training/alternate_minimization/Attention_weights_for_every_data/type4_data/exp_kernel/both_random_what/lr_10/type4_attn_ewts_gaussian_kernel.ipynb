{
  "nbformat": 4,
  "nbformat_minor": 0,
  "metadata": {
    "accelerator": "GPU",
    "colab": {
      "name": "type4_attn_ewts_gaussian_kernel.ipynb",
      "provenance": [],
      "collapsed_sections": []
    },
    "kernelspec": {
      "display_name": "Python 3",
      "name": "python3"
    },
    "language_info": {
      "name": "python"
    }
  },
  "cells": [
    {
      "cell_type": "code",
      "metadata": {
        "id": "BWIyC9Ip_bcq"
      },
      "source": [
        "import numpy as np\n",
        "import pandas as pd\n",
        "\n",
        "import torch\n",
        "import torchvision\n",
        "from torch.utils.data import Dataset, DataLoader\n",
        "from torchvision import transforms, utils\n",
        "import torch.nn as nn\n",
        "import torch.nn.functional as F\n",
        "import torch.optim as optim\n",
        "\n",
        "from matplotlib import pyplot as plt\n",
        "from myrmsprop import MyRmsprop\n",
        "%matplotlib inline\n",
        "torch.backends.cudnn.deterministic = True\n",
        "torch.backends.cudnn.benchmark = False"
      ],
      "execution_count": 1,
      "outputs": []
    },
    {
      "cell_type": "code",
      "metadata": {
        "id": "lGVy-1EllAc_"
      },
      "source": [
        "train_data = np.load(\"train_type4_data.npy\",allow_pickle=True)\n",
        "\n",
        "test_data = np.load(\"test_type4_data.npy\",allow_pickle=True)"
      ],
      "execution_count": 2,
      "outputs": []
    },
    {
      "cell_type": "code",
      "metadata": {
        "id": "uL771xuGZC5Q"
      },
      "source": [
        "mosaic_list_of_images = train_data[0][\"mosaic_list\"]\n",
        "mosaic_label = train_data[0][\"mosaic_label\"]\n",
        "fore_idx = train_data[0][\"fore_idx\"]\n",
        "\n",
        "\n",
        "test_mosaic_list_of_images = test_data[0][\"mosaic_list\"]\n",
        "test_mosaic_label = test_data[0][\"mosaic_label\"]\n",
        "test_fore_idx = test_data[0][\"fore_idx\"]"
      ],
      "execution_count": 3,
      "outputs": []
    },
    {
      "cell_type": "code",
      "metadata": {
        "id": "x2qfRXfNZCao"
      },
      "source": [
        "class MosaicDataset1(Dataset):\n",
        "  \"\"\"MosaicDataset dataset.\"\"\"\n",
        "\n",
        "  def __init__(self, mosaic_list, mosaic_label,fore_idx):\n",
        "    \"\"\"\n",
        "      Args:\n",
        "        csv_file (string): Path to the csv file with annotations.\n",
        "        root_dir (string): Directory with all the images.\n",
        "        transform (callable, optional): Optional transform to be applied\n",
        "            on a sample.\n",
        "    \"\"\"\n",
        "    self.mosaic = mosaic_list\n",
        "    self.label = mosaic_label\n",
        "    self.fore_idx = fore_idx\n",
        "    \n",
        "  def __len__(self):\n",
        "    return len(self.label)\n",
        "\n",
        "  def __getitem__(self, idx):\n",
        "    return self.mosaic[idx] , self.label[idx] , self.fore_idx[idx]"
      ],
      "execution_count": 4,
      "outputs": []
    },
    {
      "cell_type": "code",
      "metadata": {
        "id": "uf76JwkxZCT0"
      },
      "source": [
        "batch = 3000\n",
        "train_dataset = MosaicDataset1(mosaic_list_of_images, mosaic_label, fore_idx)\n",
        "train_loader = DataLoader( train_dataset,batch_size= batch ,shuffle=False)\n",
        "#batch = 2000\n",
        "#test_dataset = MosaicDataset1(test_mosaic_list_of_images, test_mosaic_label, test_fore_idx)\n",
        "#test_loader = DataLoader(test_dataset,batch_size= batch ,shuffle=False)"
      ],
      "execution_count": 5,
      "outputs": []
    },
    {
      "cell_type": "code",
      "metadata": {
        "id": "DOpZfj1bq7wN"
      },
      "source": [
        "n_batches = 3000//batch\n",
        "bg = []\n",
        "for i in range(n_batches):\n",
        "  torch.manual_seed(i)\n",
        "  betag = torch.randn(3000,9)#torch.ones((250,9))/9\n",
        "  bg.append( betag.requires_grad_() )"
      ],
      "execution_count": 6,
      "outputs": []
    },
    {
      "cell_type": "code",
      "metadata": {
        "colab": {
          "base_uri": "https://localhost:8080/"
        },
        "id": "fzb3ii4drXpu",
        "outputId": "4fbdd94f-9e8b-4d79-f5c8-7000fe39a090"
      },
      "source": [
        "len(bg)"
      ],
      "execution_count": 7,
      "outputs": [
        {
          "output_type": "execute_result",
          "data": {
            "text/plain": [
              "1"
            ]
          },
          "metadata": {
            "tags": []
          },
          "execution_count": 7
        }
      ]
    },
    {
      "cell_type": "code",
      "metadata": {
        "colab": {
          "base_uri": "https://localhost:8080/"
        },
        "id": "Am8LcQm1Og-f",
        "outputId": "94a6cb6a-14a7-4a67-cfec-25d0b03402a7"
      },
      "source": [
        "#H = np.zeros((27000,27000))\n",
        "for i, data in enumerate(train_loader, 0):\n",
        "  print(i) # only one batch\n",
        "  inputs,_,_ = data\n",
        "  inputs = torch.reshape(inputs,(27000,2))\n",
        "  dis = torch.cdist(inputs,inputs)**2\n",
        "  gamma = -1/torch.median(dis)\n",
        "  print(gamma)\n",
        "  H = torch.exp(gamma*dis)\n"
      ],
      "execution_count": 8,
      "outputs": [
        {
          "output_type": "stream",
          "text": [
            "0\n",
            "tensor(-0.0948)\n"
          ],
          "name": "stdout"
        }
      ]
    },
    {
      "cell_type": "code",
      "metadata": {
        "colab": {
          "base_uri": "https://localhost:8080/"
        },
        "id": "rTxUQEquHYqj",
        "outputId": "0ec5985d-5215-4218-e971-58e7323bafc7"
      },
      "source": [
        "H.shape"
      ],
      "execution_count": 9,
      "outputs": [
        {
          "output_type": "execute_result",
          "data": {
            "text/plain": [
              "torch.Size([27000, 27000])"
            ]
          },
          "metadata": {
            "tags": []
          },
          "execution_count": 9
        }
      ]
    },
    {
      "cell_type": "code",
      "metadata": {
        "id": "HbrMidFCla6h"
      },
      "source": [
        "class Module2(nn.Module):\n",
        "  def __init__(self):\n",
        "    super(Module2, self).__init__()\n",
        "    self.linear1 = nn.Linear(2,100)\n",
        "    self.linear2 = nn.Linear(100,3)\n",
        "\n",
        "  def forward(self,x):\n",
        "    x = F.relu(self.linear1(x))\n",
        "    x = self.linear2(x)\n",
        "    return x"
      ],
      "execution_count": 10,
      "outputs": []
    },
    {
      "cell_type": "code",
      "metadata": {
        "id": "rRqj2VELllkX"
      },
      "source": [
        "torch.manual_seed(1234)\n",
        "what_net = Module2().double()\n",
        "\n",
        "#what_net.load_state_dict(torch.load(\"type4_what_net.pt\"))\n",
        "what_net = what_net.to(\"cuda\")"
      ],
      "execution_count": 11,
      "outputs": []
    },
    {
      "cell_type": "code",
      "metadata": {
        "id": "6d8Wch99l4yB"
      },
      "source": [
        "def attn_avg(x,beta):\n",
        "  y = torch.zeros([batch,2], dtype=torch.float64)\n",
        "  y = y.to(\"cuda\")\n",
        "  alpha = F.softmax(beta,dim=1)   # alphas\n",
        "  #print(alpha[0],x[0,:])\n",
        "  for i in range(9):            \n",
        "    alpha1 = alpha[:,i]      \n",
        "    y = y + torch.mul(alpha1[:,None],x[:,i])\n",
        "  return y,alpha\n"
      ],
      "execution_count": 12,
      "outputs": []
    },
    {
      "cell_type": "code",
      "metadata": {
        "id": "Rz1Kpw12loV6"
      },
      "source": [
        "def calculate_attn_loss(dataloader,what,criter):\n",
        "  what.eval()\n",
        "  r_loss = 0\n",
        "  alphas = []\n",
        "  lbls = []\n",
        "  pred = []\n",
        "  fidices = []\n",
        "  correct = 0\n",
        "  tot = 0\n",
        "  with torch.no_grad():\n",
        "    for i, data in enumerate(dataloader, 0):\n",
        "      inputs, labels,fidx= data\n",
        "      lbls.append(labels)\n",
        "      fidices.append(fidx)\n",
        "      inputs = inputs.double()\n",
        "      beta = bg[i]  # beta for ith batch\n",
        "      inputs, labels,beta = inputs.to(\"cuda\"),labels.to(\"cuda\"),beta.to(\"cuda\")\n",
        "      avg,alpha = attn_avg(inputs,beta)\n",
        "      alpha = alpha.to(\"cuda\")\n",
        "      outputs = what(avg)\n",
        "      _, predicted = torch.max(outputs.data, 1)\n",
        "      correct += sum(predicted == labels)\n",
        "      tot += len(predicted)\n",
        "      pred.append(predicted.cpu().numpy())\n",
        "      alphas.append(alpha.cpu().numpy())\n",
        "      loss = criter(outputs, labels)\n",
        "      r_loss += loss.item()\n",
        "  alphas = np.concatenate(alphas,axis=0)\n",
        "  pred = np.concatenate(pred,axis=0)\n",
        "  lbls = np.concatenate(lbls,axis=0)\n",
        "  fidices = np.concatenate(fidices,axis=0)\n",
        "  #print(alphas.shape,pred.shape,lbls.shape,fidices.shape) \n",
        "  analysis = analyse_data(alphas,lbls,pred,fidices)\n",
        "  return r_loss/(i+1),analysis,correct.item(),tot,correct.item()/tot"
      ],
      "execution_count": 13,
      "outputs": []
    },
    {
      "cell_type": "code",
      "metadata": {
        "id": "sAY-x6UAwrwE"
      },
      "source": [
        "# for param in what_net.parameters():\n",
        "#     param.requires_grad = False"
      ],
      "execution_count": 14,
      "outputs": []
    },
    {
      "cell_type": "code",
      "metadata": {
        "id": "_toCktPanH0S"
      },
      "source": [
        "\n",
        "def analyse_data(alphas,lbls,predicted,f_idx):\n",
        "    '''\n",
        "       analysis data is created here\n",
        "    '''\n",
        "    batch = len(predicted)\n",
        "    amth,alth,ftpt,ffpt,ftpf,ffpf = 0,0,0,0,0,0\n",
        "    for j in range (batch):\n",
        "      focus = np.argmax(alphas[j])\n",
        "      if(alphas[j][focus] >= 0.5):\n",
        "        amth +=1\n",
        "      else:\n",
        "        alth +=1\n",
        "      if(focus == f_idx[j] and predicted[j] == lbls[j]):\n",
        "        ftpt += 1\n",
        "      elif(focus != f_idx[j] and predicted[j] == lbls[j]):\n",
        "        ffpt +=1\n",
        "      elif(focus == f_idx[j] and predicted[j] != lbls[j]):\n",
        "        ftpf +=1\n",
        "      elif(focus != f_idx[j] and predicted[j] != lbls[j]):\n",
        "        ffpf +=1\n",
        "    #print(sum(predicted==lbls),ftpt+ffpt)\n",
        "    return [ftpt,ffpt,ftpf,ffpf,amth,alth]"
      ],
      "execution_count": 15,
      "outputs": []
    },
    {
      "cell_type": "code",
      "metadata": {
        "id": "S633XgMToeN3"
      },
      "source": [
        "optim1 = []\n",
        "H= H.to(\"cpu\")\n",
        "for i in range(n_batches):\n",
        "  optim1.append(MyRmsprop([bg[i]],H=H,lr=10))\n",
        "  #optim1.append(optim.RMSprop([bg[i]],lr=0.1))"
      ],
      "execution_count": 16,
      "outputs": []
    },
    {
      "cell_type": "code",
      "metadata": {
        "colab": {
          "base_uri": "https://localhost:8080/"
        },
        "id": "qPaYaojinMTA",
        "outputId": "ff4d85cb-8ec7-40a7-8685-b7e545ab6bbe"
      },
      "source": [
        "# instantiate optimizer\n",
        "optimizer_what = optim.RMSprop(what_net.parameters(), lr=0.001)#, momentum=0.9)#,nesterov=True)\n",
        "\n",
        "\n",
        " \n",
        "\n",
        "\n",
        "criterion = nn.CrossEntropyLoss()\n",
        "acti = []\n",
        "analysis_data_tr = []\n",
        "analysis_data_tst = []\n",
        "loss_curi_tr = []\n",
        "loss_curi_tst = []\n",
        "epochs = 200\n",
        "\n",
        "\n",
        "# calculate zeroth epoch loss and FTPT values\n",
        "running_loss,anlys_data,correct,total,accuracy = calculate_attn_loss(train_loader,what_net,criterion)\n",
        "print('training epoch: [%d ] loss: %.3f correct: %.3f, total: %.3f, accuracy: %.3f' %(0,running_loss,correct,total,accuracy)) \n",
        "loss_curi_tr.append(running_loss)\n",
        "analysis_data_tr.append(anlys_data)\n",
        "\n",
        "\n",
        "\n",
        "\n",
        "# training starts \n",
        "for epoch in range(epochs): # loop over the dataset multiple times\n",
        "  ep_lossi = []\n",
        "  running_loss = 0.0\n",
        "  what_net.train()\n",
        "  for i, data in enumerate(train_loader, 0):\n",
        "    # get the inputs\n",
        "    inputs, labels,_  = data\n",
        "    inputs = inputs.double()\n",
        "    beta = bg[i] # alpha for ith batch\n",
        "    #print(labels)\n",
        "    inputs, labels,beta = inputs.to(\"cuda\"),labels.to(\"cuda\"),beta.to(\"cuda\")\n",
        "        \n",
        "    # zero the parameter gradients\n",
        "    optimizer_what.zero_grad()\n",
        "    optim1[i].zero_grad()\n",
        "      \n",
        "    # forward + backward + optimize\n",
        "    avg,alpha = attn_avg(inputs,beta)\n",
        "    outputs = what_net(avg)     \n",
        "    loss = criterion(outputs, labels)\n",
        "\n",
        "    # print statistics\n",
        "    running_loss += loss.item()\n",
        "    #alpha.retain_grad()\n",
        "    loss.backward(retain_graph=False)\n",
        "    optimizer_what.step()\n",
        "    optim1[i].step()\n",
        "\n",
        "\n",
        "  running_loss_tr,anls_data,correct,total,accuracy = calculate_attn_loss(train_loader,what_net,criterion)\n",
        "  analysis_data_tr.append(anls_data)\n",
        "  loss_curi_tr.append(running_loss_tr)   #loss per epoch\n",
        "  print('training epoch: [%d ] loss: %.3f correct: %.3f, total: %.3f, accuracy: %.3f' %(epoch+1,running_loss_tr,correct,total,accuracy)) \n",
        "\n",
        "\n",
        "  \n",
        "  if running_loss_tr<=0.08:\n",
        "    break\n",
        "print('Finished Training run ')\n",
        "analysis_data_tr = np.array(analysis_data_tr)\n",
        "\n"
      ],
      "execution_count": 17,
      "outputs": [
        {
          "output_type": "stream",
          "text": [
            "training epoch: [0 ] loss: 1.478 correct: 971.000, total: 3000.000, accuracy: 0.324\n",
            "training epoch: [1 ] loss: 1.147 correct: 991.000, total: 3000.000, accuracy: 0.330\n",
            "training epoch: [2 ] loss: 1.118 correct: 1047.000, total: 3000.000, accuracy: 0.349\n",
            "training epoch: [3 ] loss: 1.103 correct: 982.000, total: 3000.000, accuracy: 0.327\n",
            "training epoch: [4 ] loss: 1.089 correct: 1047.000, total: 3000.000, accuracy: 0.349\n",
            "training epoch: [5 ] loss: 1.115 correct: 993.000, total: 3000.000, accuracy: 0.331\n",
            "training epoch: [6 ] loss: 1.095 correct: 1047.000, total: 3000.000, accuracy: 0.349\n",
            "training epoch: [7 ] loss: 1.076 correct: 1439.000, total: 3000.000, accuracy: 0.480\n",
            "training epoch: [8 ] loss: 1.065 correct: 1049.000, total: 3000.000, accuracy: 0.350\n",
            "training epoch: [9 ] loss: 1.040 correct: 1833.000, total: 3000.000, accuracy: 0.611\n",
            "training epoch: [10 ] loss: 1.016 correct: 1596.000, total: 3000.000, accuracy: 0.532\n",
            "training epoch: [11 ] loss: 0.999 correct: 1670.000, total: 3000.000, accuracy: 0.557\n",
            "training epoch: [12 ] loss: 0.984 correct: 1647.000, total: 3000.000, accuracy: 0.549\n",
            "training epoch: [13 ] loss: 0.971 correct: 1656.000, total: 3000.000, accuracy: 0.552\n",
            "training epoch: [14 ] loss: 0.961 correct: 1655.000, total: 3000.000, accuracy: 0.552\n",
            "training epoch: [15 ] loss: 0.951 correct: 1657.000, total: 3000.000, accuracy: 0.552\n",
            "training epoch: [16 ] loss: 0.943 correct: 1657.000, total: 3000.000, accuracy: 0.552\n",
            "training epoch: [17 ] loss: 0.936 correct: 1657.000, total: 3000.000, accuracy: 0.552\n",
            "training epoch: [18 ] loss: 0.930 correct: 1657.000, total: 3000.000, accuracy: 0.552\n",
            "training epoch: [19 ] loss: 0.924 correct: 1657.000, total: 3000.000, accuracy: 0.552\n",
            "training epoch: [20 ] loss: 0.919 correct: 1657.000, total: 3000.000, accuracy: 0.552\n",
            "training epoch: [21 ] loss: 0.915 correct: 1657.000, total: 3000.000, accuracy: 0.552\n",
            "training epoch: [22 ] loss: 0.910 correct: 1657.000, total: 3000.000, accuracy: 0.552\n",
            "training epoch: [23 ] loss: 0.906 correct: 1657.000, total: 3000.000, accuracy: 0.552\n",
            "training epoch: [24 ] loss: 0.902 correct: 1657.000, total: 3000.000, accuracy: 0.552\n",
            "training epoch: [25 ] loss: 0.899 correct: 1657.000, total: 3000.000, accuracy: 0.552\n",
            "training epoch: [26 ] loss: 0.895 correct: 1657.000, total: 3000.000, accuracy: 0.552\n",
            "training epoch: [27 ] loss: 0.892 correct: 1657.000, total: 3000.000, accuracy: 0.552\n",
            "training epoch: [28 ] loss: 0.889 correct: 1657.000, total: 3000.000, accuracy: 0.552\n",
            "training epoch: [29 ] loss: 0.886 correct: 1657.000, total: 3000.000, accuracy: 0.552\n",
            "training epoch: [30 ] loss: 0.883 correct: 1657.000, total: 3000.000, accuracy: 0.552\n",
            "training epoch: [31 ] loss: 0.880 correct: 1657.000, total: 3000.000, accuracy: 0.552\n",
            "training epoch: [32 ] loss: 0.878 correct: 1657.000, total: 3000.000, accuracy: 0.552\n",
            "training epoch: [33 ] loss: 0.875 correct: 1657.000, total: 3000.000, accuracy: 0.552\n",
            "training epoch: [34 ] loss: 0.872 correct: 1657.000, total: 3000.000, accuracy: 0.552\n",
            "training epoch: [35 ] loss: 0.869 correct: 1658.000, total: 3000.000, accuracy: 0.553\n",
            "training epoch: [36 ] loss: 0.867 correct: 1658.000, total: 3000.000, accuracy: 0.553\n",
            "training epoch: [37 ] loss: 0.863 correct: 1658.000, total: 3000.000, accuracy: 0.553\n",
            "training epoch: [38 ] loss: 0.861 correct: 1658.000, total: 3000.000, accuracy: 0.553\n",
            "training epoch: [39 ] loss: 0.858 correct: 1658.000, total: 3000.000, accuracy: 0.553\n",
            "training epoch: [40 ] loss: 0.856 correct: 1658.000, total: 3000.000, accuracy: 0.553\n",
            "training epoch: [41 ] loss: 0.854 correct: 1658.000, total: 3000.000, accuracy: 0.553\n",
            "training epoch: [42 ] loss: 0.852 correct: 1658.000, total: 3000.000, accuracy: 0.553\n",
            "training epoch: [43 ] loss: 0.850 correct: 1658.000, total: 3000.000, accuracy: 0.553\n",
            "training epoch: [44 ] loss: 0.847 correct: 1658.000, total: 3000.000, accuracy: 0.553\n",
            "training epoch: [45 ] loss: 0.845 correct: 1658.000, total: 3000.000, accuracy: 0.553\n",
            "training epoch: [46 ] loss: 0.843 correct: 1658.000, total: 3000.000, accuracy: 0.553\n",
            "training epoch: [47 ] loss: 0.841 correct: 1658.000, total: 3000.000, accuracy: 0.553\n",
            "training epoch: [48 ] loss: 0.840 correct: 1658.000, total: 3000.000, accuracy: 0.553\n",
            "training epoch: [49 ] loss: 0.838 correct: 1658.000, total: 3000.000, accuracy: 0.553\n",
            "training epoch: [50 ] loss: 0.836 correct: 1658.000, total: 3000.000, accuracy: 0.553\n",
            "training epoch: [51 ] loss: 0.834 correct: 1658.000, total: 3000.000, accuracy: 0.553\n",
            "training epoch: [52 ] loss: 0.832 correct: 1658.000, total: 3000.000, accuracy: 0.553\n",
            "training epoch: [53 ] loss: 0.830 correct: 1658.000, total: 3000.000, accuracy: 0.553\n",
            "training epoch: [54 ] loss: 0.828 correct: 1658.000, total: 3000.000, accuracy: 0.553\n",
            "training epoch: [55 ] loss: 0.826 correct: 1658.000, total: 3000.000, accuracy: 0.553\n",
            "training epoch: [56 ] loss: 0.824 correct: 1658.000, total: 3000.000, accuracy: 0.553\n",
            "training epoch: [57 ] loss: 0.822 correct: 1661.000, total: 3000.000, accuracy: 0.554\n",
            "training epoch: [58 ] loss: 0.819 correct: 1664.000, total: 3000.000, accuracy: 0.555\n",
            "training epoch: [59 ] loss: 0.817 correct: 1667.000, total: 3000.000, accuracy: 0.556\n",
            "training epoch: [60 ] loss: 0.816 correct: 1669.000, total: 3000.000, accuracy: 0.556\n",
            "training epoch: [61 ] loss: 0.814 correct: 1678.000, total: 3000.000, accuracy: 0.559\n",
            "training epoch: [62 ] loss: 0.812 correct: 1684.000, total: 3000.000, accuracy: 0.561\n",
            "training epoch: [63 ] loss: 0.810 correct: 1688.000, total: 3000.000, accuracy: 0.563\n",
            "training epoch: [64 ] loss: 0.809 correct: 1694.000, total: 3000.000, accuracy: 0.565\n",
            "training epoch: [65 ] loss: 0.806 correct: 1696.000, total: 3000.000, accuracy: 0.565\n",
            "training epoch: [66 ] loss: 0.796 correct: 1703.000, total: 3000.000, accuracy: 0.568\n",
            "training epoch: [67 ] loss: 0.829 correct: 1807.000, total: 3000.000, accuracy: 0.602\n",
            "training epoch: [68 ] loss: 1.101 correct: 1084.000, total: 3000.000, accuracy: 0.361\n",
            "training epoch: [69 ] loss: 0.837 correct: 1557.000, total: 3000.000, accuracy: 0.519\n",
            "training epoch: [70 ] loss: 1.107 correct: 1268.000, total: 3000.000, accuracy: 0.423\n",
            "training epoch: [71 ] loss: 0.885 correct: 1481.000, total: 3000.000, accuracy: 0.494\n",
            "training epoch: [72 ] loss: 0.784 correct: 1808.000, total: 3000.000, accuracy: 0.603\n",
            "training epoch: [73 ] loss: 0.768 correct: 1804.000, total: 3000.000, accuracy: 0.601\n",
            "training epoch: [74 ] loss: 0.766 correct: 1811.000, total: 3000.000, accuracy: 0.604\n",
            "training epoch: [75 ] loss: 0.763 correct: 1816.000, total: 3000.000, accuracy: 0.605\n",
            "training epoch: [76 ] loss: 0.760 correct: 1807.000, total: 3000.000, accuracy: 0.602\n",
            "training epoch: [77 ] loss: 0.759 correct: 1807.000, total: 3000.000, accuracy: 0.602\n",
            "training epoch: [78 ] loss: 0.756 correct: 1815.000, total: 3000.000, accuracy: 0.605\n",
            "training epoch: [79 ] loss: 0.754 correct: 1816.000, total: 3000.000, accuracy: 0.605\n",
            "training epoch: [80 ] loss: 0.753 correct: 1814.000, total: 3000.000, accuracy: 0.605\n",
            "training epoch: [81 ] loss: 0.751 correct: 1813.000, total: 3000.000, accuracy: 0.604\n",
            "training epoch: [82 ] loss: 0.749 correct: 1811.000, total: 3000.000, accuracy: 0.604\n",
            "training epoch: [83 ] loss: 0.747 correct: 1817.000, total: 3000.000, accuracy: 0.606\n",
            "training epoch: [84 ] loss: 0.746 correct: 1814.000, total: 3000.000, accuracy: 0.605\n",
            "training epoch: [85 ] loss: 0.744 correct: 1815.000, total: 3000.000, accuracy: 0.605\n",
            "training epoch: [86 ] loss: 0.744 correct: 1815.000, total: 3000.000, accuracy: 0.605\n",
            "training epoch: [87 ] loss: 0.742 correct: 1811.000, total: 3000.000, accuracy: 0.604\n",
            "training epoch: [88 ] loss: 0.740 correct: 1811.000, total: 3000.000, accuracy: 0.604\n",
            "training epoch: [89 ] loss: 0.740 correct: 1820.000, total: 3000.000, accuracy: 0.607\n",
            "training epoch: [90 ] loss: 0.738 correct: 1813.000, total: 3000.000, accuracy: 0.604\n",
            "training epoch: [91 ] loss: 0.737 correct: 1811.000, total: 3000.000, accuracy: 0.604\n",
            "training epoch: [92 ] loss: 0.736 correct: 1811.000, total: 3000.000, accuracy: 0.604\n",
            "training epoch: [93 ] loss: 0.734 correct: 1814.000, total: 3000.000, accuracy: 0.605\n",
            "training epoch: [94 ] loss: 0.733 correct: 1815.000, total: 3000.000, accuracy: 0.605\n",
            "training epoch: [95 ] loss: 0.732 correct: 1813.000, total: 3000.000, accuracy: 0.604\n",
            "training epoch: [96 ] loss: 0.731 correct: 1815.000, total: 3000.000, accuracy: 0.605\n",
            "training epoch: [97 ] loss: 0.731 correct: 1815.000, total: 3000.000, accuracy: 0.605\n",
            "training epoch: [98 ] loss: 0.729 correct: 1814.000, total: 3000.000, accuracy: 0.605\n",
            "training epoch: [99 ] loss: 0.729 correct: 1811.000, total: 3000.000, accuracy: 0.604\n",
            "training epoch: [100 ] loss: 0.727 correct: 1817.000, total: 3000.000, accuracy: 0.606\n",
            "training epoch: [101 ] loss: 0.728 correct: 1819.000, total: 3000.000, accuracy: 0.606\n",
            "training epoch: [102 ] loss: 0.726 correct: 1816.000, total: 3000.000, accuracy: 0.605\n",
            "training epoch: [103 ] loss: 0.726 correct: 1808.000, total: 3000.000, accuracy: 0.603\n",
            "training epoch: [104 ] loss: 0.729 correct: 1802.000, total: 3000.000, accuracy: 0.601\n",
            "training epoch: [105 ] loss: 0.725 correct: 1815.000, total: 3000.000, accuracy: 0.605\n",
            "training epoch: [106 ] loss: 0.722 correct: 1819.000, total: 3000.000, accuracy: 0.606\n",
            "training epoch: [107 ] loss: 0.722 correct: 1819.000, total: 3000.000, accuracy: 0.606\n",
            "training epoch: [108 ] loss: 0.721 correct: 1815.000, total: 3000.000, accuracy: 0.605\n",
            "training epoch: [109 ] loss: 0.722 correct: 1814.000, total: 3000.000, accuracy: 0.605\n",
            "training epoch: [110 ] loss: 0.720 correct: 1810.000, total: 3000.000, accuracy: 0.603\n",
            "training epoch: [111 ] loss: 0.722 correct: 1816.000, total: 3000.000, accuracy: 0.605\n",
            "training epoch: [112 ] loss: 0.721 correct: 1815.000, total: 3000.000, accuracy: 0.605\n",
            "training epoch: [113 ] loss: 0.721 correct: 1816.000, total: 3000.000, accuracy: 0.605\n",
            "training epoch: [114 ] loss: 0.719 correct: 1813.000, total: 3000.000, accuracy: 0.604\n",
            "training epoch: [115 ] loss: 0.718 correct: 1816.000, total: 3000.000, accuracy: 0.605\n",
            "training epoch: [116 ] loss: 0.716 correct: 1813.000, total: 3000.000, accuracy: 0.604\n",
            "training epoch: [117 ] loss: 0.715 correct: 1819.000, total: 3000.000, accuracy: 0.606\n",
            "training epoch: [118 ] loss: 0.715 correct: 1818.000, total: 3000.000, accuracy: 0.606\n",
            "training epoch: [119 ] loss: 0.716 correct: 1816.000, total: 3000.000, accuracy: 0.605\n",
            "training epoch: [120 ] loss: 0.714 correct: 1822.000, total: 3000.000, accuracy: 0.607\n",
            "training epoch: [121 ] loss: 0.713 correct: 1813.000, total: 3000.000, accuracy: 0.604\n",
            "training epoch: [122 ] loss: 0.712 correct: 1815.000, total: 3000.000, accuracy: 0.605\n",
            "training epoch: [123 ] loss: 0.713 correct: 1816.000, total: 3000.000, accuracy: 0.605\n",
            "training epoch: [124 ] loss: 0.712 correct: 1821.000, total: 3000.000, accuracy: 0.607\n",
            "training epoch: [125 ] loss: 0.712 correct: 1817.000, total: 3000.000, accuracy: 0.606\n",
            "training epoch: [126 ] loss: 0.711 correct: 1823.000, total: 3000.000, accuracy: 0.608\n",
            "training epoch: [127 ] loss: 0.710 correct: 1822.000, total: 3000.000, accuracy: 0.607\n",
            "training epoch: [128 ] loss: 0.710 correct: 1823.000, total: 3000.000, accuracy: 0.608\n",
            "training epoch: [129 ] loss: 0.709 correct: 1820.000, total: 3000.000, accuracy: 0.607\n",
            "training epoch: [130 ] loss: 0.709 correct: 1813.000, total: 3000.000, accuracy: 0.604\n",
            "training epoch: [131 ] loss: 0.708 correct: 1821.000, total: 3000.000, accuracy: 0.607\n",
            "training epoch: [132 ] loss: 0.708 correct: 1824.000, total: 3000.000, accuracy: 0.608\n",
            "training epoch: [133 ] loss: 0.707 correct: 1821.000, total: 3000.000, accuracy: 0.607\n",
            "training epoch: [134 ] loss: 0.707 correct: 1824.000, total: 3000.000, accuracy: 0.608\n",
            "training epoch: [135 ] loss: 0.707 correct: 1816.000, total: 3000.000, accuracy: 0.605\n",
            "training epoch: [136 ] loss: 0.706 correct: 1819.000, total: 3000.000, accuracy: 0.606\n",
            "training epoch: [137 ] loss: 0.706 correct: 1812.000, total: 3000.000, accuracy: 0.604\n",
            "training epoch: [138 ] loss: 0.706 correct: 1819.000, total: 3000.000, accuracy: 0.606\n",
            "training epoch: [139 ] loss: 0.705 correct: 1801.000, total: 3000.000, accuracy: 0.600\n",
            "training epoch: [140 ] loss: 0.705 correct: 1819.000, total: 3000.000, accuracy: 0.606\n",
            "training epoch: [141 ] loss: 0.705 correct: 1797.000, total: 3000.000, accuracy: 0.599\n",
            "training epoch: [142 ] loss: 0.705 correct: 1820.000, total: 3000.000, accuracy: 0.607\n",
            "training epoch: [143 ] loss: 0.705 correct: 1799.000, total: 3000.000, accuracy: 0.600\n",
            "training epoch: [144 ] loss: 0.706 correct: 1820.000, total: 3000.000, accuracy: 0.607\n",
            "training epoch: [145 ] loss: 0.706 correct: 1799.000, total: 3000.000, accuracy: 0.600\n",
            "training epoch: [146 ] loss: 0.707 correct: 1823.000, total: 3000.000, accuracy: 0.608\n",
            "training epoch: [147 ] loss: 0.707 correct: 1798.000, total: 3000.000, accuracy: 0.599\n",
            "training epoch: [148 ] loss: 0.706 correct: 1824.000, total: 3000.000, accuracy: 0.608\n",
            "training epoch: [149 ] loss: 0.706 correct: 1799.000, total: 3000.000, accuracy: 0.600\n",
            "training epoch: [150 ] loss: 0.705 correct: 1824.000, total: 3000.000, accuracy: 0.608\n",
            "training epoch: [151 ] loss: 0.704 correct: 1799.000, total: 3000.000, accuracy: 0.600\n",
            "training epoch: [152 ] loss: 0.702 correct: 1823.000, total: 3000.000, accuracy: 0.608\n",
            "training epoch: [153 ] loss: 0.701 correct: 1799.000, total: 3000.000, accuracy: 0.600\n",
            "training epoch: [154 ] loss: 0.700 correct: 1821.000, total: 3000.000, accuracy: 0.607\n",
            "training epoch: [155 ] loss: 0.700 correct: 1798.000, total: 3000.000, accuracy: 0.599\n",
            "training epoch: [156 ] loss: 0.699 correct: 1823.000, total: 3000.000, accuracy: 0.608\n",
            "training epoch: [157 ] loss: 0.698 correct: 1798.000, total: 3000.000, accuracy: 0.599\n",
            "training epoch: [158 ] loss: 0.698 correct: 1823.000, total: 3000.000, accuracy: 0.608\n",
            "training epoch: [159 ] loss: 0.697 correct: 1789.000, total: 3000.000, accuracy: 0.596\n",
            "training epoch: [160 ] loss: 0.697 correct: 1824.000, total: 3000.000, accuracy: 0.608\n",
            "training epoch: [161 ] loss: 0.696 correct: 1812.000, total: 3000.000, accuracy: 0.604\n",
            "training epoch: [162 ] loss: 0.696 correct: 1824.000, total: 3000.000, accuracy: 0.608\n",
            "training epoch: [163 ] loss: 0.696 correct: 1827.000, total: 3000.000, accuracy: 0.609\n",
            "training epoch: [164 ] loss: 0.695 correct: 1824.000, total: 3000.000, accuracy: 0.608\n",
            "training epoch: [165 ] loss: 0.695 correct: 1825.000, total: 3000.000, accuracy: 0.608\n",
            "training epoch: [166 ] loss: 0.695 correct: 1820.000, total: 3000.000, accuracy: 0.607\n",
            "training epoch: [167 ] loss: 0.694 correct: 1826.000, total: 3000.000, accuracy: 0.609\n",
            "training epoch: [168 ] loss: 0.694 correct: 1821.000, total: 3000.000, accuracy: 0.607\n",
            "training epoch: [169 ] loss: 0.694 correct: 1825.000, total: 3000.000, accuracy: 0.608\n",
            "training epoch: [170 ] loss: 0.694 correct: 1833.000, total: 3000.000, accuracy: 0.611\n",
            "training epoch: [171 ] loss: 0.693 correct: 1825.000, total: 3000.000, accuracy: 0.608\n",
            "training epoch: [172 ] loss: 0.693 correct: 1844.000, total: 3000.000, accuracy: 0.615\n",
            "training epoch: [173 ] loss: 0.693 correct: 1825.000, total: 3000.000, accuracy: 0.608\n",
            "training epoch: [174 ] loss: 0.692 correct: 1844.000, total: 3000.000, accuracy: 0.615\n",
            "training epoch: [175 ] loss: 0.692 correct: 1825.000, total: 3000.000, accuracy: 0.608\n",
            "training epoch: [176 ] loss: 0.692 correct: 1824.000, total: 3000.000, accuracy: 0.608\n",
            "training epoch: [177 ] loss: 0.692 correct: 1825.000, total: 3000.000, accuracy: 0.608\n",
            "training epoch: [178 ] loss: 0.691 correct: 1820.000, total: 3000.000, accuracy: 0.607\n",
            "training epoch: [179 ] loss: 0.691 correct: 1825.000, total: 3000.000, accuracy: 0.608\n",
            "training epoch: [180 ] loss: 0.691 correct: 1818.000, total: 3000.000, accuracy: 0.606\n",
            "training epoch: [181 ] loss: 0.691 correct: 1827.000, total: 3000.000, accuracy: 0.609\n",
            "training epoch: [182 ] loss: 0.690 correct: 1826.000, total: 3000.000, accuracy: 0.609\n",
            "training epoch: [183 ] loss: 0.690 correct: 1828.000, total: 3000.000, accuracy: 0.609\n",
            "training epoch: [184 ] loss: 0.690 correct: 1827.000, total: 3000.000, accuracy: 0.609\n",
            "training epoch: [185 ] loss: 0.690 correct: 1823.000, total: 3000.000, accuracy: 0.608\n",
            "training epoch: [186 ] loss: 0.689 correct: 1829.000, total: 3000.000, accuracy: 0.610\n",
            "training epoch: [187 ] loss: 0.689 correct: 1801.000, total: 3000.000, accuracy: 0.600\n",
            "training epoch: [188 ] loss: 0.689 correct: 1829.000, total: 3000.000, accuracy: 0.610\n",
            "training epoch: [189 ] loss: 0.689 correct: 1806.000, total: 3000.000, accuracy: 0.602\n",
            "training epoch: [190 ] loss: 0.689 correct: 1831.000, total: 3000.000, accuracy: 0.610\n",
            "training epoch: [191 ] loss: 0.689 correct: 1807.000, total: 3000.000, accuracy: 0.602\n",
            "training epoch: [192 ] loss: 0.689 correct: 1831.000, total: 3000.000, accuracy: 0.610\n",
            "training epoch: [193 ] loss: 0.689 correct: 1807.000, total: 3000.000, accuracy: 0.602\n",
            "training epoch: [194 ] loss: 0.689 correct: 1831.000, total: 3000.000, accuracy: 0.610\n",
            "training epoch: [195 ] loss: 0.689 correct: 1807.000, total: 3000.000, accuracy: 0.602\n",
            "training epoch: [196 ] loss: 0.689 correct: 1832.000, total: 3000.000, accuracy: 0.611\n",
            "training epoch: [197 ] loss: 0.690 correct: 1808.000, total: 3000.000, accuracy: 0.603\n",
            "training epoch: [198 ] loss: 0.690 correct: 1831.000, total: 3000.000, accuracy: 0.610\n",
            "training epoch: [199 ] loss: 0.690 correct: 1808.000, total: 3000.000, accuracy: 0.603\n",
            "training epoch: [200 ] loss: 0.690 correct: 1832.000, total: 3000.000, accuracy: 0.611\n",
            "Finished Training run \n"
          ],
          "name": "stdout"
        }
      ]
    },
    {
      "cell_type": "code",
      "metadata": {
        "id": "AciJnAh5nfug"
      },
      "source": [
        "columns = [\"epochs\", \"argmax > 0.5\" ,\"argmax < 0.5\", \"focus_true_pred_true\", \"focus_false_pred_true\", \"focus_true_pred_false\", \"focus_false_pred_false\" ]\n",
        "df_train = pd.DataFrame()\n",
        "df_test = pd.DataFrame()\n",
        "df_train[columns[0]] = np.arange(0,epoch+2)\n",
        "df_train[columns[1]] = analysis_data_tr[:,-2]/30\n",
        "df_train[columns[2]] = analysis_data_tr[:,-1]/30\n",
        "df_train[columns[3]] = analysis_data_tr[:,0]/30\n",
        "df_train[columns[4]] = analysis_data_tr[:,1]/30\n",
        "df_train[columns[5]] = analysis_data_tr[:,2]/30\n",
        "df_train[columns[6]] = analysis_data_tr[:,3]/30"
      ],
      "execution_count": 18,
      "outputs": []
    },
    {
      "cell_type": "code",
      "metadata": {
        "colab": {
          "base_uri": "https://localhost:8080/",
          "height": 456
        },
        "id": "NoQpS_6scRsC",
        "outputId": "cd260920-71f7-4ee1-b77d-151b5397eb30"
      },
      "source": [
        "df_train"
      ],
      "execution_count": 19,
      "outputs": [
        {
          "output_type": "execute_result",
          "data": {
            "text/html": [
              "<div>\n",
              "<style scoped>\n",
              "    .dataframe tbody tr th:only-of-type {\n",
              "        vertical-align: middle;\n",
              "    }\n",
              "\n",
              "    .dataframe tbody tr th {\n",
              "        vertical-align: top;\n",
              "    }\n",
              "\n",
              "    .dataframe thead th {\n",
              "        text-align: right;\n",
              "    }\n",
              "</style>\n",
              "<table border=\"1\" class=\"dataframe\">\n",
              "  <thead>\n",
              "    <tr style=\"text-align: right;\">\n",
              "      <th></th>\n",
              "      <th>epochs</th>\n",
              "      <th>argmax &gt; 0.5</th>\n",
              "      <th>argmax &lt; 0.5</th>\n",
              "      <th>focus_true_pred_true</th>\n",
              "      <th>focus_false_pred_true</th>\n",
              "      <th>focus_true_pred_false</th>\n",
              "      <th>focus_false_pred_false</th>\n",
              "    </tr>\n",
              "  </thead>\n",
              "  <tbody>\n",
              "    <tr>\n",
              "      <th>0</th>\n",
              "      <td>0</td>\n",
              "      <td>9.800000</td>\n",
              "      <td>90.200000</td>\n",
              "      <td>3.800000</td>\n",
              "      <td>28.566667</td>\n",
              "      <td>7.966667</td>\n",
              "      <td>59.666667</td>\n",
              "    </tr>\n",
              "    <tr>\n",
              "      <th>1</th>\n",
              "      <td>1</td>\n",
              "      <td>54.000000</td>\n",
              "      <td>46.000000</td>\n",
              "      <td>0.033333</td>\n",
              "      <td>33.000000</td>\n",
              "      <td>8.066667</td>\n",
              "      <td>58.900000</td>\n",
              "    </tr>\n",
              "    <tr>\n",
              "      <th>2</th>\n",
              "      <td>2</td>\n",
              "      <td>92.666667</td>\n",
              "      <td>7.333333</td>\n",
              "      <td>3.966667</td>\n",
              "      <td>30.933333</td>\n",
              "      <td>0.666667</td>\n",
              "      <td>64.433333</td>\n",
              "    </tr>\n",
              "    <tr>\n",
              "      <th>3</th>\n",
              "      <td>3</td>\n",
              "      <td>92.833333</td>\n",
              "      <td>7.166667</td>\n",
              "      <td>0.666667</td>\n",
              "      <td>32.066667</td>\n",
              "      <td>8.400000</td>\n",
              "      <td>58.866667</td>\n",
              "    </tr>\n",
              "    <tr>\n",
              "      <th>4</th>\n",
              "      <td>4</td>\n",
              "      <td>84.766667</td>\n",
              "      <td>15.233333</td>\n",
              "      <td>29.400000</td>\n",
              "      <td>5.500000</td>\n",
              "      <td>0.133333</td>\n",
              "      <td>64.966667</td>\n",
              "    </tr>\n",
              "    <tr>\n",
              "      <th>...</th>\n",
              "      <td>...</td>\n",
              "      <td>...</td>\n",
              "      <td>...</td>\n",
              "      <td>...</td>\n",
              "      <td>...</td>\n",
              "      <td>...</td>\n",
              "      <td>...</td>\n",
              "    </tr>\n",
              "    <tr>\n",
              "      <th>196</th>\n",
              "      <td>196</td>\n",
              "      <td>99.766667</td>\n",
              "      <td>0.233333</td>\n",
              "      <td>30.166667</td>\n",
              "      <td>30.900000</td>\n",
              "      <td>0.100000</td>\n",
              "      <td>38.833333</td>\n",
              "    </tr>\n",
              "    <tr>\n",
              "      <th>197</th>\n",
              "      <td>197</td>\n",
              "      <td>99.733333</td>\n",
              "      <td>0.266667</td>\n",
              "      <td>30.166667</td>\n",
              "      <td>30.100000</td>\n",
              "      <td>0.100000</td>\n",
              "      <td>39.633333</td>\n",
              "    </tr>\n",
              "    <tr>\n",
              "      <th>198</th>\n",
              "      <td>198</td>\n",
              "      <td>99.733333</td>\n",
              "      <td>0.266667</td>\n",
              "      <td>30.166667</td>\n",
              "      <td>30.866667</td>\n",
              "      <td>0.100000</td>\n",
              "      <td>38.866667</td>\n",
              "    </tr>\n",
              "    <tr>\n",
              "      <th>199</th>\n",
              "      <td>199</td>\n",
              "      <td>99.766667</td>\n",
              "      <td>0.233333</td>\n",
              "      <td>30.133333</td>\n",
              "      <td>30.133333</td>\n",
              "      <td>0.100000</td>\n",
              "      <td>39.633333</td>\n",
              "    </tr>\n",
              "    <tr>\n",
              "      <th>200</th>\n",
              "      <td>200</td>\n",
              "      <td>99.800000</td>\n",
              "      <td>0.200000</td>\n",
              "      <td>30.166667</td>\n",
              "      <td>30.900000</td>\n",
              "      <td>0.100000</td>\n",
              "      <td>38.833333</td>\n",
              "    </tr>\n",
              "  </tbody>\n",
              "</table>\n",
              "<p>201 rows × 7 columns</p>\n",
              "</div>"
            ],
            "text/plain": [
              "     epochs  argmax > 0.5  ...  focus_true_pred_false  focus_false_pred_false\n",
              "0         0      9.800000  ...               7.966667               59.666667\n",
              "1         1     54.000000  ...               8.066667               58.900000\n",
              "2         2     92.666667  ...               0.666667               64.433333\n",
              "3         3     92.833333  ...               8.400000               58.866667\n",
              "4         4     84.766667  ...               0.133333               64.966667\n",
              "..      ...           ...  ...                    ...                     ...\n",
              "196     196     99.766667  ...               0.100000               38.833333\n",
              "197     197     99.733333  ...               0.100000               39.633333\n",
              "198     198     99.733333  ...               0.100000               38.866667\n",
              "199     199     99.766667  ...               0.100000               39.633333\n",
              "200     200     99.800000  ...               0.100000               38.833333\n",
              "\n",
              "[201 rows x 7 columns]"
            ]
          },
          "metadata": {
            "tags": []
          },
          "execution_count": 19
        }
      ]
    },
    {
      "cell_type": "code",
      "metadata": {
        "colab": {
          "base_uri": "https://localhost:8080/",
          "height": 404
        },
        "id": "IMAhRdxOcVf6",
        "outputId": "23e1684a-7dba-41c0-9cd2-2ecdd7b20cca"
      },
      "source": [
        "fig= plt.figure(figsize=(6,6))\n",
        "plt.plot(df_train[columns[0]],df_train[columns[3]], label =\"focus_true_pred_true \")\n",
        "plt.plot(df_train[columns[0]],df_train[columns[4]], label =\"focus_false_pred_true \")\n",
        "plt.plot(df_train[columns[0]],df_train[columns[5]], label =\"focus_true_pred_false \")\n",
        "plt.plot(df_train[columns[0]],df_train[columns[6]], label =\"focus_false_pred_false \")\n",
        "plt.title(\"On Train set\")\n",
        "plt.legend(loc='center left', bbox_to_anchor=(1, 0.5))\n",
        "plt.xlabel(\"epochs\")\n",
        "plt.ylabel(\"percentage of data\")\n",
        "plt.xticks([0,50,100,150,200])\n",
        "#plt.vlines(vline_list,min(min(df_train[columns[3]]/300),min(df_train[columns[4]]/300),min(df_train[columns[5]]/300),min(df_train[columns[6]]/300)), max(max(df_train[columns[3]]/300),max(df_train[columns[4]]/300),max(df_train[columns[5]]/300),max(df_train[columns[6]]/300)),linestyles='dotted')\n",
        "plt.show()\n",
        "fig.savefig(\"train_analysis.pdf\")\n",
        "fig.savefig(\"train_analysis.png\")"
      ],
      "execution_count": 20,
      "outputs": [
        {
          "output_type": "display_data",
          "data": {
            "image/png": "[encoded data removed]",
            "text/plain": [
              "<Figure size 432x432 with 1 Axes>"
            ]
          },
          "metadata": {
            "tags": [],
            "needs_background": "light"
          }
        }
      ]
    },
    {
      "cell_type": "code",
      "metadata": {
        "id": "VCnS6r2_3WdU"
      },
      "source": [
        "aph = []\n",
        "for i in bg:\n",
        "  aph.append(F.softmax(i,dim=1).detach().numpy())\n",
        "aph = np.concatenate(aph,axis=0)\n",
        "# torch.save({\n",
        "#             'epoch': 500,\n",
        "#             'model_state_dict': what_net.state_dict(),\n",
        "#             #'optimizer_state_dict': optimizer_what.state_dict(),\n",
        "#             \"optimizer_alpha\":optim1,\n",
        "#             \"FTPT_analysis\":analysis_data_tr,\n",
        "#             \"alpha\":aph\n",
        "\n",
        "#             }, \"type4_what_net_500.pt\")"
      ],
      "execution_count": 21,
      "outputs": []
    },
    {
      "cell_type": "code",
      "metadata": {
        "colab": {
          "base_uri": "https://localhost:8080/"
        },
        "id": "KVzrDOGS4UxU",
        "outputId": "94949c60-a872-481a-9588-984d4c75067c"
      },
      "source": [
        "aph[0]"
      ],
      "execution_count": 22,
      "outputs": [
        {
          "output_type": "execute_result",
          "data": {
            "text/plain": [
              "array([0.0000000e+00, 0.0000000e+00, 0.0000000e+00, 1.0000000e+00,\n",
              "       0.0000000e+00, 0.0000000e+00, 0.0000000e+00, 0.0000000e+00,\n",
              "       7.3240813e-10], dtype=float32)"
            ]
          },
          "metadata": {
            "tags": []
          },
          "execution_count": 22
        }
      ]
    },
    {
      "cell_type": "code",
      "metadata": {
        "id": "yF2bvWdIWUTa"
      },
      "source": [
        "xx,yy= np.meshgrid(np.arange(1,8,0.01),np.arange(2,9,0.01))\n",
        "X = np.concatenate((xx.reshape(-1,1),yy.reshape(-1,1)),axis=1)\n",
        "X = torch.Tensor(X).double().to(\"cuda\")\n",
        "Y1 = what_net(X)"
      ],
      "execution_count": 23,
      "outputs": []
    },
    {
      "cell_type": "code",
      "metadata": {
        "id": "GENNdxJEa_Xi"
      },
      "source": [
        "Y1 = Y1.to(\"cpu\")\n",
        "Y1 = Y1.detach().numpy()\n",
        "Y1 = torch.softmax(torch.Tensor(Y1),dim=1)\n",
        "_,Z4= torch.max(Y1,1)\n",
        "Z1 = Y1[:,0]\n",
        "Z2 = Y1[:,1]\n",
        "Z3 = Y1[:,2]"
      ],
      "execution_count": 24,
      "outputs": []
    },
    {
      "cell_type": "code",
      "metadata": {
        "id": "5ZwEogAobesX"
      },
      "source": [
        "X = X.to(\"cpu\")"
      ],
      "execution_count": 25,
      "outputs": []
    },
    {
      "cell_type": "code",
      "metadata": {
        "colab": {
          "base_uri": "https://localhost:8080/"
        },
        "id": "ZIoUNsgebIku",
        "outputId": "f82e74c6-1e9c-449c-94d8-a3d7c1a7756f"
      },
      "source": [
        "data = np.load(\"type_4_data.npy\",allow_pickle=True)\n",
        "x = data[0][\"X\"]\n",
        "y = data[0][\"Y\"]\n",
        "idx= []\n",
        "for i in range(10):\n",
        "  print(i,sum(y==i))\n",
        "  idx.append(y==i)"
      ],
      "execution_count": 26,
      "outputs": [
        {
          "output_type": "stream",
          "text": [
            "0 482\n",
            "1 485\n",
            "2 536\n",
            "3 504\n",
            "4 493\n",
            "5 513\n",
            "6 497\n",
            "7 486\n",
            "8 522\n",
            "9 482\n"
          ],
          "name": "stdout"
        }
      ]
    },
    {
      "cell_type": "code",
      "metadata": {
        "id": "7Ut6ZTAXbvqx"
      },
      "source": [
        "avrg = []\n",
        "with torch.no_grad():\n",
        "  for i, data in  enumerate(train_loader):\n",
        "          inputs , labels , fore_idx = data\n",
        "          inputs = inputs.double()\n",
        "          inputs, labels = inputs.to(\"cuda\"),labels.to(\"cuda\")\n",
        "          beta  = bg[i]\n",
        "          beta = beta.to(\"cuda\")\n",
        "          avg,alpha = attn_avg(inputs,beta)\n",
        "          \n",
        "          avrg.append(avg.detach().cpu().numpy())\n",
        "avrg= np.concatenate(avrg,axis=0)"
      ],
      "execution_count": 27,
      "outputs": []
    },
    {
      "cell_type": "code",
      "metadata": {
        "colab": {
          "base_uri": "https://localhost:8080/",
          "height": 374
        },
        "id": "5PAwMQXzbQJR",
        "outputId": "560ad737-b0f3-4923-9bbf-925343086431"
      },
      "source": [
        "fig = plt.figure(figsize=(6,6))\n",
        "#plt.scatter(X[:,0],X[:,1],c=Z4)\n",
        "Z4 = Z4.reshape(xx.shape)\n",
        "plt.contourf(xx, yy, Z4, alpha=0.4)\n",
        "for i in range(3):\n",
        "  plt.scatter(x[idx[i],0],x[idx[i],1],label=\"class_\"+str(i),alpha=0.8)\n",
        "plt.legend(loc='center left', bbox_to_anchor=(1, 0.5))\n",
        "plt.scatter(avrg[:,0],avrg[:,1],alpha=0.2)\n",
        "plt.savefig(\"decision_boundary.png\",bbox_inches=\"tight\")\n"
      ],
      "execution_count": 28,
      "outputs": [
        {
          "output_type": "display_data",
          "data": {
            "image/png": "[encoded data removed]",
            "text/plain": [
              "<Figure size 432x432 with 1 Axes>"
            ]
          },
          "metadata": {
            "tags": [],
            "needs_background": "light"
          }
        }
      ]
    },
    {
      "cell_type": "code",
      "metadata": {
        "id": "6KHn17Rbceqt"
      },
      "source": [
        ""
      ],
      "execution_count": 28,
      "outputs": []
    }
  ]
}