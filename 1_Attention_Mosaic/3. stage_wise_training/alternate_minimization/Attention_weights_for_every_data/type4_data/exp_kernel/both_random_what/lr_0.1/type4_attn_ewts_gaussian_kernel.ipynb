{
  "nbformat": 4,
  "nbformat_minor": 0,
  "metadata": {
    "accelerator": "GPU",
    "colab": {
      "name": "type4_attn_ewts_gaussian_kernel.ipynb",
      "provenance": [],
      "collapsed_sections": []
    },
    "kernelspec": {
      "display_name": "Python 3",
      "name": "python3"
    },
    "language_info": {
      "name": "python"
    }
  },
  "cells": [
    {
      "cell_type": "code",
      "metadata": {
        "id": "BWIyC9Ip_bcq"
      },
      "source": [
        "import numpy as np\n",
        "import pandas as pd\n",
        "\n",
        "import torch\n",
        "import torchvision\n",
        "from torch.utils.data import Dataset, DataLoader\n",
        "from torchvision import transforms, utils\n",
        "import torch.nn as nn\n",
        "import torch.nn.functional as F\n",
        "import torch.optim as optim\n",
        "\n",
        "from matplotlib import pyplot as plt\n",
        "from myrmsprop import MyRmsprop\n",
        "%matplotlib inline\n",
        "torch.backends.cudnn.deterministic = True\n",
        "torch.backends.cudnn.benchmark = False"
      ],
      "execution_count": 1,
      "outputs": []
    },
    {
      "cell_type": "code",
      "metadata": {
        "id": "lGVy-1EllAc_"
      },
      "source": [
        "train_data = np.load(\"train_type4_data.npy\",allow_pickle=True)\n",
        "\n",
        "test_data = np.load(\"test_type4_data.npy\",allow_pickle=True)"
      ],
      "execution_count": 2,
      "outputs": []
    },
    {
      "cell_type": "code",
      "metadata": {
        "id": "uL771xuGZC5Q"
      },
      "source": [
        "mosaic_list_of_images = train_data[0][\"mosaic_list\"]\n",
        "mosaic_label = train_data[0][\"mosaic_label\"]\n",
        "fore_idx = train_data[0][\"fore_idx\"]\n",
        "\n",
        "\n",
        "test_mosaic_list_of_images = test_data[0][\"mosaic_list\"]\n",
        "test_mosaic_label = test_data[0][\"mosaic_label\"]\n",
        "test_fore_idx = test_data[0][\"fore_idx\"]"
      ],
      "execution_count": 3,
      "outputs": []
    },
    {
      "cell_type": "code",
      "metadata": {
        "id": "x2qfRXfNZCao"
      },
      "source": [
        "class MosaicDataset1(Dataset):\n",
        "  \"\"\"MosaicDataset dataset.\"\"\"\n",
        "\n",
        "  def __init__(self, mosaic_list, mosaic_label,fore_idx):\n",
        "    \"\"\"\n",
        "      Args:\n",
        "        csv_file (string): Path to the csv file with annotations.\n",
        "        root_dir (string): Directory with all the images.\n",
        "        transform (callable, optional): Optional transform to be applied\n",
        "            on a sample.\n",
        "    \"\"\"\n",
        "    self.mosaic = mosaic_list\n",
        "    self.label = mosaic_label\n",
        "    self.fore_idx = fore_idx\n",
        "    \n",
        "  def __len__(self):\n",
        "    return len(self.label)\n",
        "\n",
        "  def __getitem__(self, idx):\n",
        "    return self.mosaic[idx] , self.label[idx] , self.fore_idx[idx]"
      ],
      "execution_count": 4,
      "outputs": []
    },
    {
      "cell_type": "code",
      "metadata": {
        "id": "uf76JwkxZCT0"
      },
      "source": [
        "batch = 3000\n",
        "train_dataset = MosaicDataset1(mosaic_list_of_images, mosaic_label, fore_idx)\n",
        "train_loader = DataLoader( train_dataset,batch_size= batch ,shuffle=False)\n",
        "#batch = 2000\n",
        "#test_dataset = MosaicDataset1(test_mosaic_list_of_images, test_mosaic_label, test_fore_idx)\n",
        "#test_loader = DataLoader(test_dataset,batch_size= batch ,shuffle=False)"
      ],
      "execution_count": 5,
      "outputs": []
    },
    {
      "cell_type": "code",
      "metadata": {
        "id": "DOpZfj1bq7wN"
      },
      "source": [
        "n_batches = 3000//batch\n",
        "bg = []\n",
        "for i in range(n_batches):\n",
        "  torch.manual_seed(i)\n",
        "  betag = torch.randn(3000,9)#torch.ones((250,9))/9\n",
        "  bg.append( betag.requires_grad_() )"
      ],
      "execution_count": 6,
      "outputs": []
    },
    {
      "cell_type": "code",
      "metadata": {
        "colab": {
          "base_uri": "https://localhost:8080/"
        },
        "id": "fzb3ii4drXpu",
        "outputId": "756486fc-c516-4088-d03c-43fda88c1b7f"
      },
      "source": [
        "len(bg)"
      ],
      "execution_count": 7,
      "outputs": [
        {
          "output_type": "execute_result",
          "data": {
            "text/plain": [
              "1"
            ]
          },
          "metadata": {
            "tags": []
          },
          "execution_count": 7
        }
      ]
    },
    {
      "cell_type": "code",
      "metadata": {
        "colab": {
          "base_uri": "https://localhost:8080/"
        },
        "id": "Am8LcQm1Og-f",
        "outputId": "28226462-ef1b-43a3-ef62-2fadc51b0742"
      },
      "source": [
        "#H = np.zeros((27000,27000))\n",
        "for i, data in enumerate(train_loader, 0):\n",
        "  print(i) # only one batch\n",
        "  inputs,_,_ = data\n",
        "  inputs = torch.reshape(inputs,(27000,2))\n",
        "  dis = torch.cdist(inputs,inputs)**2\n",
        "  gamma = -1/torch.median(dis)\n",
        "  print(gamma)\n",
        "  H = torch.exp(gamma*dis)\n"
      ],
      "execution_count": 8,
      "outputs": [
        {
          "output_type": "stream",
          "text": [
            "0\n",
            "tensor(-0.0948)\n"
          ],
          "name": "stdout"
        }
      ]
    },
    {
      "cell_type": "code",
      "metadata": {
        "colab": {
          "base_uri": "https://localhost:8080/"
        },
        "id": "rTxUQEquHYqj",
        "outputId": "f039a524-3c39-4964-f88f-ecdb19659713"
      },
      "source": [
        "H.shape"
      ],
      "execution_count": 9,
      "outputs": [
        {
          "output_type": "execute_result",
          "data": {
            "text/plain": [
              "torch.Size([27000, 27000])"
            ]
          },
          "metadata": {
            "tags": []
          },
          "execution_count": 9
        }
      ]
    },
    {
      "cell_type": "code",
      "metadata": {
        "id": "HbrMidFCla6h"
      },
      "source": [
        "class Module2(nn.Module):\n",
        "  def __init__(self):\n",
        "    super(Module2, self).__init__()\n",
        "    self.linear1 = nn.Linear(2,100)\n",
        "    self.linear2 = nn.Linear(100,3)\n",
        "\n",
        "  def forward(self,x):\n",
        "    x = F.relu(self.linear1(x))\n",
        "    x = self.linear2(x)\n",
        "    return x"
      ],
      "execution_count": 10,
      "outputs": []
    },
    {
      "cell_type": "code",
      "metadata": {
        "id": "rRqj2VELllkX"
      },
      "source": [
        "torch.manual_seed(1234)\n",
        "what_net = Module2().double()\n",
        "\n",
        "#what_net.load_state_dict(torch.load(\"type4_what_net.pt\"))\n",
        "what_net = what_net.to(\"cuda\")"
      ],
      "execution_count": 11,
      "outputs": []
    },
    {
      "cell_type": "code",
      "metadata": {
        "id": "6d8Wch99l4yB"
      },
      "source": [
        "def attn_avg(x,beta):\n",
        "  y = torch.zeros([batch,2], dtype=torch.float64)\n",
        "  y = y.to(\"cuda\")\n",
        "  alpha = F.softmax(beta,dim=1)   # alphas\n",
        "  #print(alpha[0],x[0,:])\n",
        "  for i in range(9):            \n",
        "    alpha1 = alpha[:,i]      \n",
        "    y = y + torch.mul(alpha1[:,None],x[:,i])\n",
        "  return y,alpha\n"
      ],
      "execution_count": 12,
      "outputs": []
    },
    {
      "cell_type": "code",
      "metadata": {
        "id": "Rz1Kpw12loV6"
      },
      "source": [
        "def calculate_attn_loss(dataloader,what,criter):\n",
        "  what.eval()\n",
        "  r_loss = 0\n",
        "  alphas = []\n",
        "  lbls = []\n",
        "  pred = []\n",
        "  fidices = []\n",
        "  correct = 0\n",
        "  tot = 0\n",
        "  with torch.no_grad():\n",
        "    for i, data in enumerate(dataloader, 0):\n",
        "      inputs, labels,fidx= data\n",
        "      lbls.append(labels)\n",
        "      fidices.append(fidx)\n",
        "      inputs = inputs.double()\n",
        "      beta = bg[i]  # beta for ith batch\n",
        "      inputs, labels,beta = inputs.to(\"cuda\"),labels.to(\"cuda\"),beta.to(\"cuda\")\n",
        "      avg,alpha = attn_avg(inputs,beta)\n",
        "      alpha = alpha.to(\"cuda\")\n",
        "      outputs = what(avg)\n",
        "      _, predicted = torch.max(outputs.data, 1)\n",
        "      correct += sum(predicted == labels)\n",
        "      tot += len(predicted)\n",
        "      pred.append(predicted.cpu().numpy())\n",
        "      alphas.append(alpha.cpu().numpy())\n",
        "      loss = criter(outputs, labels)\n",
        "      r_loss += loss.item()\n",
        "  alphas = np.concatenate(alphas,axis=0)\n",
        "  pred = np.concatenate(pred,axis=0)\n",
        "  lbls = np.concatenate(lbls,axis=0)\n",
        "  fidices = np.concatenate(fidices,axis=0)\n",
        "  #print(alphas.shape,pred.shape,lbls.shape,fidices.shape) \n",
        "  analysis = analyse_data(alphas,lbls,pred,fidices)\n",
        "  return r_loss/(i+1),analysis,correct.item(),tot,correct.item()/tot"
      ],
      "execution_count": 13,
      "outputs": []
    },
    {
      "cell_type": "code",
      "metadata": {
        "id": "sAY-x6UAwrwE"
      },
      "source": [
        "# for param in what_net.parameters():\n",
        "#     param.requires_grad = False"
      ],
      "execution_count": 14,
      "outputs": []
    },
    {
      "cell_type": "code",
      "metadata": {
        "id": "_toCktPanH0S"
      },
      "source": [
        "\n",
        "def analyse_data(alphas,lbls,predicted,f_idx):\n",
        "    '''\n",
        "       analysis data is created here\n",
        "    '''\n",
        "    batch = len(predicted)\n",
        "    amth,alth,ftpt,ffpt,ftpf,ffpf = 0,0,0,0,0,0\n",
        "    for j in range (batch):\n",
        "      focus = np.argmax(alphas[j])\n",
        "      if(alphas[j][focus] >= 0.5):\n",
        "        amth +=1\n",
        "      else:\n",
        "        alth +=1\n",
        "      if(focus == f_idx[j] and predicted[j] == lbls[j]):\n",
        "        ftpt += 1\n",
        "      elif(focus != f_idx[j] and predicted[j] == lbls[j]):\n",
        "        ffpt +=1\n",
        "      elif(focus == f_idx[j] and predicted[j] != lbls[j]):\n",
        "        ftpf +=1\n",
        "      elif(focus != f_idx[j] and predicted[j] != lbls[j]):\n",
        "        ffpf +=1\n",
        "    #print(sum(predicted==lbls),ftpt+ffpt)\n",
        "    return [ftpt,ffpt,ftpf,ffpf,amth,alth]"
      ],
      "execution_count": 15,
      "outputs": []
    },
    {
      "cell_type": "code",
      "metadata": {
        "id": "S633XgMToeN3"
      },
      "source": [
        "optim1 = []\n",
        "H= H.to(\"cpu\")\n",
        "for i in range(n_batches):\n",
        "  optim1.append(MyRmsprop([bg[i]],H=H,lr=0.1))\n",
        "  #optim1.append(optim.RMSprop([bg[i]],lr=0.1))"
      ],
      "execution_count": 16,
      "outputs": []
    },
    {
      "cell_type": "code",
      "metadata": {
        "colab": {
          "base_uri": "https://localhost:8080/"
        },
        "id": "qPaYaojinMTA",
        "outputId": "76da056c-67e4-4d2a-bee1-6124810c4806"
      },
      "source": [
        "# instantiate optimizer\n",
        "optimizer_what = optim.RMSprop(what_net.parameters(), lr=0.001)#, momentum=0.9)#,nesterov=True)\n",
        "\n",
        "\n",
        " \n",
        "\n",
        "\n",
        "criterion = nn.CrossEntropyLoss()\n",
        "acti = []\n",
        "analysis_data_tr = []\n",
        "analysis_data_tst = []\n",
        "loss_curi_tr = []\n",
        "loss_curi_tst = []\n",
        "epochs = 200\n",
        "\n",
        "\n",
        "# calculate zeroth epoch loss and FTPT values\n",
        "running_loss,anlys_data,correct,total,accuracy = calculate_attn_loss(train_loader,what_net,criterion)\n",
        "print('training epoch: [%d ] loss: %.3f correct: %.3f, total: %.3f, accuracy: %.3f' %(0,running_loss,correct,total,accuracy)) \n",
        "loss_curi_tr.append(running_loss)\n",
        "analysis_data_tr.append(anlys_data)\n",
        "\n",
        "\n",
        "\n",
        "\n",
        "# training starts \n",
        "for epoch in range(epochs): # loop over the dataset multiple times\n",
        "  ep_lossi = []\n",
        "  running_loss = 0.0\n",
        "  what_net.train()\n",
        "  for i, data in enumerate(train_loader, 0):\n",
        "    # get the inputs\n",
        "    inputs, labels,_  = data\n",
        "    inputs = inputs.double()\n",
        "    beta = bg[i] # alpha for ith batch\n",
        "    #print(labels)\n",
        "    inputs, labels,beta = inputs.to(\"cuda\"),labels.to(\"cuda\"),beta.to(\"cuda\")\n",
        "        \n",
        "    # zero the parameter gradients\n",
        "    optimizer_what.zero_grad()\n",
        "    optim1[i].zero_grad()\n",
        "      \n",
        "    # forward + backward + optimize\n",
        "    avg,alpha = attn_avg(inputs,beta)\n",
        "    outputs = what_net(avg)     \n",
        "    loss = criterion(outputs, labels)\n",
        "\n",
        "    # print statistics\n",
        "    running_loss += loss.item()\n",
        "    #alpha.retain_grad()\n",
        "    loss.backward(retain_graph=False)\n",
        "    optimizer_what.step()\n",
        "    optim1[i].step()\n",
        "\n",
        "\n",
        "  running_loss_tr,anls_data,correct,total,accuracy = calculate_attn_loss(train_loader,what_net,criterion)\n",
        "  analysis_data_tr.append(anls_data)\n",
        "  loss_curi_tr.append(running_loss_tr)   #loss per epoch\n",
        "  print('training epoch: [%d ] loss: %.3f correct: %.3f, total: %.3f, accuracy: %.3f' %(epoch+1,running_loss_tr,correct,total,accuracy)) \n",
        "\n",
        "\n",
        "  \n",
        "  if running_loss_tr<=0.08:\n",
        "    break\n",
        "print('Finished Training run ')\n",
        "analysis_data_tr = np.array(analysis_data_tr)\n",
        "\n"
      ],
      "execution_count": 17,
      "outputs": [
        {
          "output_type": "stream",
          "text": [
            "training epoch: [0 ] loss: 1.478 correct: 971.000, total: 3000.000, accuracy: 0.324\n",
            "training epoch: [1 ] loss: 1.145 correct: 991.000, total: 3000.000, accuracy: 0.330\n",
            "training epoch: [2 ] loss: 1.138 correct: 1047.000, total: 3000.000, accuracy: 0.349\n",
            "training epoch: [3 ] loss: 1.124 correct: 1013.000, total: 3000.000, accuracy: 0.338\n",
            "training epoch: [4 ] loss: 1.103 correct: 1050.000, total: 3000.000, accuracy: 0.350\n",
            "training epoch: [5 ] loss: 1.097 correct: 1012.000, total: 3000.000, accuracy: 0.337\n",
            "training epoch: [6 ] loss: 1.093 correct: 1130.000, total: 3000.000, accuracy: 0.377\n",
            "training epoch: [7 ] loss: 1.091 correct: 1148.000, total: 3000.000, accuracy: 0.383\n",
            "training epoch: [8 ] loss: 1.089 correct: 1196.000, total: 3000.000, accuracy: 0.399\n",
            "training epoch: [9 ] loss: 1.086 correct: 1210.000, total: 3000.000, accuracy: 0.403\n",
            "training epoch: [10 ] loss: 1.083 correct: 1220.000, total: 3000.000, accuracy: 0.407\n",
            "training epoch: [11 ] loss: 1.080 correct: 1257.000, total: 3000.000, accuracy: 0.419\n",
            "training epoch: [12 ] loss: 1.076 correct: 1281.000, total: 3000.000, accuracy: 0.427\n",
            "training epoch: [13 ] loss: 1.070 correct: 1327.000, total: 3000.000, accuracy: 0.442\n",
            "training epoch: [14 ] loss: 1.063 correct: 1357.000, total: 3000.000, accuracy: 0.452\n",
            "training epoch: [15 ] loss: 1.055 correct: 1402.000, total: 3000.000, accuracy: 0.467\n",
            "training epoch: [16 ] loss: 1.045 correct: 1425.000, total: 3000.000, accuracy: 0.475\n",
            "training epoch: [17 ] loss: 1.032 correct: 1491.000, total: 3000.000, accuracy: 0.497\n",
            "training epoch: [18 ] loss: 1.018 correct: 1536.000, total: 3000.000, accuracy: 0.512\n",
            "training epoch: [19 ] loss: 1.003 correct: 1512.000, total: 3000.000, accuracy: 0.504\n",
            "training epoch: [20 ] loss: 0.989 correct: 1592.000, total: 3000.000, accuracy: 0.531\n",
            "training epoch: [21 ] loss: 0.986 correct: 1298.000, total: 3000.000, accuracy: 0.433\n",
            "training epoch: [22 ] loss: 0.995 correct: 1526.000, total: 3000.000, accuracy: 0.509\n",
            "training epoch: [23 ] loss: 0.979 correct: 1322.000, total: 3000.000, accuracy: 0.441\n",
            "training epoch: [24 ] loss: 0.946 correct: 1650.000, total: 3000.000, accuracy: 0.550\n",
            "training epoch: [25 ] loss: 0.904 correct: 1513.000, total: 3000.000, accuracy: 0.504\n",
            "training epoch: [26 ] loss: 0.875 correct: 1854.000, total: 3000.000, accuracy: 0.618\n",
            "training epoch: [27 ] loss: 0.850 correct: 1712.000, total: 3000.000, accuracy: 0.571\n",
            "training epoch: [28 ] loss: 0.828 correct: 1951.000, total: 3000.000, accuracy: 0.650\n",
            "training epoch: [29 ] loss: 0.807 correct: 1932.000, total: 3000.000, accuracy: 0.644\n",
            "training epoch: [30 ] loss: 0.788 correct: 2091.000, total: 3000.000, accuracy: 0.697\n",
            "training epoch: [31 ] loss: 0.770 correct: 2067.000, total: 3000.000, accuracy: 0.689\n",
            "training epoch: [32 ] loss: 0.752 correct: 2182.000, total: 3000.000, accuracy: 0.727\n",
            "training epoch: [33 ] loss: 0.736 correct: 2159.000, total: 3000.000, accuracy: 0.720\n",
            "training epoch: [34 ] loss: 0.721 correct: 2227.000, total: 3000.000, accuracy: 0.742\n",
            "training epoch: [35 ] loss: 0.707 correct: 2227.000, total: 3000.000, accuracy: 0.742\n",
            "training epoch: [36 ] loss: 0.694 correct: 2276.000, total: 3000.000, accuracy: 0.759\n",
            "training epoch: [37 ] loss: 0.682 correct: 2278.000, total: 3000.000, accuracy: 0.759\n",
            "training epoch: [38 ] loss: 0.670 correct: 2327.000, total: 3000.000, accuracy: 0.776\n",
            "training epoch: [39 ] loss: 0.660 correct: 2341.000, total: 3000.000, accuracy: 0.780\n",
            "training epoch: [40 ] loss: 0.650 correct: 2377.000, total: 3000.000, accuracy: 0.792\n",
            "training epoch: [41 ] loss: 0.640 correct: 2402.000, total: 3000.000, accuracy: 0.801\n",
            "training epoch: [42 ] loss: 0.631 correct: 2440.000, total: 3000.000, accuracy: 0.813\n",
            "training epoch: [43 ] loss: 0.623 correct: 2471.000, total: 3000.000, accuracy: 0.824\n",
            "training epoch: [44 ] loss: 0.615 correct: 2507.000, total: 3000.000, accuracy: 0.836\n",
            "training epoch: [45 ] loss: 0.607 correct: 2530.000, total: 3000.000, accuracy: 0.843\n",
            "training epoch: [46 ] loss: 0.600 correct: 2557.000, total: 3000.000, accuracy: 0.852\n",
            "training epoch: [47 ] loss: 0.592 correct: 2604.000, total: 3000.000, accuracy: 0.868\n",
            "training epoch: [48 ] loss: 0.583 correct: 2690.000, total: 3000.000, accuracy: 0.897\n",
            "training epoch: [49 ] loss: 0.576 correct: 2702.000, total: 3000.000, accuracy: 0.901\n",
            "training epoch: [50 ] loss: 0.570 correct: 2723.000, total: 3000.000, accuracy: 0.908\n",
            "training epoch: [51 ] loss: 0.564 correct: 2743.000, total: 3000.000, accuracy: 0.914\n",
            "training epoch: [52 ] loss: 0.558 correct: 2761.000, total: 3000.000, accuracy: 0.920\n",
            "training epoch: [53 ] loss: 0.552 correct: 2773.000, total: 3000.000, accuracy: 0.924\n",
            "training epoch: [54 ] loss: 0.547 correct: 2792.000, total: 3000.000, accuracy: 0.931\n",
            "training epoch: [55 ] loss: 0.542 correct: 2799.000, total: 3000.000, accuracy: 0.933\n",
            "training epoch: [56 ] loss: 0.537 correct: 2822.000, total: 3000.000, accuracy: 0.941\n",
            "training epoch: [57 ] loss: 0.533 correct: 2830.000, total: 3000.000, accuracy: 0.943\n",
            "training epoch: [58 ] loss: 0.528 correct: 2844.000, total: 3000.000, accuracy: 0.948\n",
            "training epoch: [59 ] loss: 0.524 correct: 2854.000, total: 3000.000, accuracy: 0.951\n",
            "training epoch: [60 ] loss: 0.519 correct: 2865.000, total: 3000.000, accuracy: 0.955\n",
            "training epoch: [61 ] loss: 0.515 correct: 2871.000, total: 3000.000, accuracy: 0.957\n",
            "training epoch: [62 ] loss: 0.511 correct: 2880.000, total: 3000.000, accuracy: 0.960\n",
            "training epoch: [63 ] loss: 0.507 correct: 2884.000, total: 3000.000, accuracy: 0.961\n",
            "training epoch: [64 ] loss: 0.503 correct: 2889.000, total: 3000.000, accuracy: 0.963\n",
            "training epoch: [65 ] loss: 0.499 correct: 2892.000, total: 3000.000, accuracy: 0.964\n",
            "training epoch: [66 ] loss: 0.496 correct: 2904.000, total: 3000.000, accuracy: 0.968\n",
            "training epoch: [67 ] loss: 0.492 correct: 2905.000, total: 3000.000, accuracy: 0.968\n",
            "training epoch: [68 ] loss: 0.488 correct: 2914.000, total: 3000.000, accuracy: 0.971\n",
            "training epoch: [69 ] loss: 0.485 correct: 2914.000, total: 3000.000, accuracy: 0.971\n",
            "training epoch: [70 ] loss: 0.482 correct: 2923.000, total: 3000.000, accuracy: 0.974\n",
            "training epoch: [71 ] loss: 0.478 correct: 2918.000, total: 3000.000, accuracy: 0.973\n",
            "training epoch: [72 ] loss: 0.475 correct: 2929.000, total: 3000.000, accuracy: 0.976\n",
            "training epoch: [73 ] loss: 0.472 correct: 2921.000, total: 3000.000, accuracy: 0.974\n",
            "training epoch: [74 ] loss: 0.469 correct: 2936.000, total: 3000.000, accuracy: 0.979\n",
            "training epoch: [75 ] loss: 0.465 correct: 2921.000, total: 3000.000, accuracy: 0.974\n",
            "training epoch: [76 ] loss: 0.462 correct: 2943.000, total: 3000.000, accuracy: 0.981\n",
            "training epoch: [77 ] loss: 0.459 correct: 2920.000, total: 3000.000, accuracy: 0.973\n",
            "training epoch: [78 ] loss: 0.456 correct: 2950.000, total: 3000.000, accuracy: 0.983\n",
            "training epoch: [79 ] loss: 0.454 correct: 2914.000, total: 3000.000, accuracy: 0.971\n",
            "training epoch: [80 ] loss: 0.451 correct: 2955.000, total: 3000.000, accuracy: 0.985\n",
            "training epoch: [81 ] loss: 0.448 correct: 2877.000, total: 3000.000, accuracy: 0.959\n",
            "training epoch: [82 ] loss: 0.446 correct: 2947.000, total: 3000.000, accuracy: 0.982\n",
            "training epoch: [83 ] loss: 0.445 correct: 2742.000, total: 3000.000, accuracy: 0.914\n",
            "training epoch: [84 ] loss: 0.445 correct: 2825.000, total: 3000.000, accuracy: 0.942\n",
            "training epoch: [85 ] loss: 0.445 correct: 2429.000, total: 3000.000, accuracy: 0.810\n",
            "training epoch: [86 ] loss: 0.446 correct: 2488.000, total: 3000.000, accuracy: 0.829\n",
            "training epoch: [87 ] loss: 0.447 correct: 2191.000, total: 3000.000, accuracy: 0.730\n",
            "training epoch: [88 ] loss: 0.444 correct: 2397.000, total: 3000.000, accuracy: 0.799\n",
            "training epoch: [89 ] loss: 0.440 correct: 2298.000, total: 3000.000, accuracy: 0.766\n",
            "training epoch: [90 ] loss: 0.434 correct: 2677.000, total: 3000.000, accuracy: 0.892\n",
            "training epoch: [91 ] loss: 0.429 correct: 2613.000, total: 3000.000, accuracy: 0.871\n",
            "training epoch: [92 ] loss: 0.425 correct: 2889.000, total: 3000.000, accuracy: 0.963\n",
            "training epoch: [93 ] loss: 0.421 correct: 2830.000, total: 3000.000, accuracy: 0.943\n",
            "training epoch: [94 ] loss: 0.418 correct: 2959.000, total: 3000.000, accuracy: 0.986\n",
            "training epoch: [95 ] loss: 0.415 correct: 2907.000, total: 3000.000, accuracy: 0.969\n",
            "training epoch: [96 ] loss: 0.412 correct: 2970.000, total: 3000.000, accuracy: 0.990\n",
            "training epoch: [97 ] loss: 0.410 correct: 2937.000, total: 3000.000, accuracy: 0.979\n",
            "training epoch: [98 ] loss: 0.407 correct: 2972.000, total: 3000.000, accuracy: 0.991\n",
            "training epoch: [99 ] loss: 0.405 correct: 2947.000, total: 3000.000, accuracy: 0.982\n",
            "training epoch: [100 ] loss: 0.403 correct: 2975.000, total: 3000.000, accuracy: 0.992\n",
            "training epoch: [101 ] loss: 0.401 correct: 2962.000, total: 3000.000, accuracy: 0.987\n",
            "training epoch: [102 ] loss: 0.399 correct: 2976.000, total: 3000.000, accuracy: 0.992\n",
            "training epoch: [103 ] loss: 0.396 correct: 2965.000, total: 3000.000, accuracy: 0.988\n",
            "training epoch: [104 ] loss: 0.394 correct: 2978.000, total: 3000.000, accuracy: 0.993\n",
            "training epoch: [105 ] loss: 0.392 correct: 2968.000, total: 3000.000, accuracy: 0.989\n",
            "training epoch: [106 ] loss: 0.390 correct: 2980.000, total: 3000.000, accuracy: 0.993\n",
            "training epoch: [107 ] loss: 0.388 correct: 2969.000, total: 3000.000, accuracy: 0.990\n",
            "training epoch: [108 ] loss: 0.386 correct: 2982.000, total: 3000.000, accuracy: 0.994\n",
            "training epoch: [109 ] loss: 0.384 correct: 2970.000, total: 3000.000, accuracy: 0.990\n",
            "training epoch: [110 ] loss: 0.382 correct: 2983.000, total: 3000.000, accuracy: 0.994\n",
            "training epoch: [111 ] loss: 0.380 correct: 2973.000, total: 3000.000, accuracy: 0.991\n",
            "training epoch: [112 ] loss: 0.378 correct: 2985.000, total: 3000.000, accuracy: 0.995\n",
            "training epoch: [113 ] loss: 0.376 correct: 2974.000, total: 3000.000, accuracy: 0.991\n",
            "training epoch: [114 ] loss: 0.375 correct: 2987.000, total: 3000.000, accuracy: 0.996\n",
            "training epoch: [115 ] loss: 0.373 correct: 2976.000, total: 3000.000, accuracy: 0.992\n",
            "training epoch: [116 ] loss: 0.371 correct: 2987.000, total: 3000.000, accuracy: 0.996\n",
            "training epoch: [117 ] loss: 0.369 correct: 2977.000, total: 3000.000, accuracy: 0.992\n",
            "training epoch: [118 ] loss: 0.367 correct: 2987.000, total: 3000.000, accuracy: 0.996\n",
            "training epoch: [119 ] loss: 0.365 correct: 2979.000, total: 3000.000, accuracy: 0.993\n",
            "training epoch: [120 ] loss: 0.363 correct: 2987.000, total: 3000.000, accuracy: 0.996\n",
            "training epoch: [121 ] loss: 0.361 correct: 2980.000, total: 3000.000, accuracy: 0.993\n",
            "training epoch: [122 ] loss: 0.360 correct: 2987.000, total: 3000.000, accuracy: 0.996\n",
            "training epoch: [123 ] loss: 0.358 correct: 2979.000, total: 3000.000, accuracy: 0.993\n",
            "training epoch: [124 ] loss: 0.356 correct: 2987.000, total: 3000.000, accuracy: 0.996\n",
            "training epoch: [125 ] loss: 0.354 correct: 2981.000, total: 3000.000, accuracy: 0.994\n",
            "training epoch: [126 ] loss: 0.352 correct: 2987.000, total: 3000.000, accuracy: 0.996\n",
            "training epoch: [127 ] loss: 0.351 correct: 2980.000, total: 3000.000, accuracy: 0.993\n",
            "training epoch: [128 ] loss: 0.349 correct: 2987.000, total: 3000.000, accuracy: 0.996\n",
            "training epoch: [129 ] loss: 0.347 correct: 2979.000, total: 3000.000, accuracy: 0.993\n",
            "training epoch: [130 ] loss: 0.345 correct: 2987.000, total: 3000.000, accuracy: 0.996\n",
            "training epoch: [131 ] loss: 0.344 correct: 2978.000, total: 3000.000, accuracy: 0.993\n",
            "training epoch: [132 ] loss: 0.342 correct: 2986.000, total: 3000.000, accuracy: 0.995\n",
            "training epoch: [133 ] loss: 0.341 correct: 2974.000, total: 3000.000, accuracy: 0.991\n",
            "training epoch: [134 ] loss: 0.339 correct: 2990.000, total: 3000.000, accuracy: 0.997\n",
            "training epoch: [135 ] loss: 0.338 correct: 2959.000, total: 3000.000, accuracy: 0.986\n",
            "training epoch: [136 ] loss: 0.337 correct: 2986.000, total: 3000.000, accuracy: 0.995\n",
            "training epoch: [137 ] loss: 0.336 correct: 2946.000, total: 3000.000, accuracy: 0.982\n",
            "training epoch: [138 ] loss: 0.335 correct: 2974.000, total: 3000.000, accuracy: 0.991\n",
            "training epoch: [139 ] loss: 0.335 correct: 2924.000, total: 3000.000, accuracy: 0.975\n",
            "training epoch: [140 ] loss: 0.335 correct: 2956.000, total: 3000.000, accuracy: 0.985\n",
            "training epoch: [141 ] loss: 0.335 correct: 2900.000, total: 3000.000, accuracy: 0.967\n",
            "training epoch: [142 ] loss: 0.333 correct: 2941.000, total: 3000.000, accuracy: 0.980\n",
            "training epoch: [143 ] loss: 0.332 correct: 2896.000, total: 3000.000, accuracy: 0.965\n",
            "training epoch: [144 ] loss: 0.329 correct: 2955.000, total: 3000.000, accuracy: 0.985\n",
            "training epoch: [145 ] loss: 0.327 correct: 2924.000, total: 3000.000, accuracy: 0.975\n",
            "training epoch: [146 ] loss: 0.324 correct: 2973.000, total: 3000.000, accuracy: 0.991\n",
            "training epoch: [147 ] loss: 0.322 correct: 2940.000, total: 3000.000, accuracy: 0.980\n",
            "training epoch: [148 ] loss: 0.319 correct: 2985.000, total: 3000.000, accuracy: 0.995\n",
            "training epoch: [149 ] loss: 0.317 correct: 2960.000, total: 3000.000, accuracy: 0.987\n",
            "training epoch: [150 ] loss: 0.315 correct: 2990.000, total: 3000.000, accuracy: 0.997\n",
            "training epoch: [151 ] loss: 0.313 correct: 2972.000, total: 3000.000, accuracy: 0.991\n",
            "training epoch: [152 ] loss: 0.311 correct: 2992.000, total: 3000.000, accuracy: 0.997\n",
            "training epoch: [153 ] loss: 0.309 correct: 2977.000, total: 3000.000, accuracy: 0.992\n",
            "training epoch: [154 ] loss: 0.308 correct: 2993.000, total: 3000.000, accuracy: 0.998\n",
            "training epoch: [155 ] loss: 0.306 correct: 2981.000, total: 3000.000, accuracy: 0.994\n",
            "training epoch: [156 ] loss: 0.305 correct: 2991.000, total: 3000.000, accuracy: 0.997\n",
            "training epoch: [157 ] loss: 0.303 correct: 2983.000, total: 3000.000, accuracy: 0.994\n",
            "training epoch: [158 ] loss: 0.301 correct: 2991.000, total: 3000.000, accuracy: 0.997\n",
            "training epoch: [159 ] loss: 0.300 correct: 2986.000, total: 3000.000, accuracy: 0.995\n",
            "training epoch: [160 ] loss: 0.299 correct: 2991.000, total: 3000.000, accuracy: 0.997\n",
            "training epoch: [161 ] loss: 0.297 correct: 2987.000, total: 3000.000, accuracy: 0.996\n",
            "training epoch: [162 ] loss: 0.296 correct: 2991.000, total: 3000.000, accuracy: 0.997\n",
            "training epoch: [163 ] loss: 0.294 correct: 2989.000, total: 3000.000, accuracy: 0.996\n",
            "training epoch: [164 ] loss: 0.293 correct: 2991.000, total: 3000.000, accuracy: 0.997\n",
            "training epoch: [165 ] loss: 0.291 correct: 2990.000, total: 3000.000, accuracy: 0.997\n",
            "training epoch: [166 ] loss: 0.290 correct: 2991.000, total: 3000.000, accuracy: 0.997\n",
            "training epoch: [167 ] loss: 0.289 correct: 2991.000, total: 3000.000, accuracy: 0.997\n",
            "training epoch: [168 ] loss: 0.287 correct: 2991.000, total: 3000.000, accuracy: 0.997\n",
            "training epoch: [169 ] loss: 0.286 correct: 2991.000, total: 3000.000, accuracy: 0.997\n",
            "training epoch: [170 ] loss: 0.285 correct: 2991.000, total: 3000.000, accuracy: 0.997\n",
            "training epoch: [171 ] loss: 0.283 correct: 2991.000, total: 3000.000, accuracy: 0.997\n",
            "training epoch: [172 ] loss: 0.282 correct: 2991.000, total: 3000.000, accuracy: 0.997\n",
            "training epoch: [173 ] loss: 0.281 correct: 2990.000, total: 3000.000, accuracy: 0.997\n",
            "training epoch: [174 ] loss: 0.279 correct: 2991.000, total: 3000.000, accuracy: 0.997\n",
            "training epoch: [175 ] loss: 0.278 correct: 2989.000, total: 3000.000, accuracy: 0.996\n",
            "training epoch: [176 ] loss: 0.277 correct: 2991.000, total: 3000.000, accuracy: 0.997\n",
            "training epoch: [177 ] loss: 0.275 correct: 2988.000, total: 3000.000, accuracy: 0.996\n",
            "training epoch: [178 ] loss: 0.274 correct: 2992.000, total: 3000.000, accuracy: 0.997\n",
            "training epoch: [179 ] loss: 0.273 correct: 2988.000, total: 3000.000, accuracy: 0.996\n",
            "training epoch: [180 ] loss: 0.272 correct: 2992.000, total: 3000.000, accuracy: 0.997\n",
            "training epoch: [181 ] loss: 0.270 correct: 2985.000, total: 3000.000, accuracy: 0.995\n",
            "training epoch: [182 ] loss: 0.269 correct: 2995.000, total: 3000.000, accuracy: 0.998\n",
            "training epoch: [183 ] loss: 0.268 correct: 2982.000, total: 3000.000, accuracy: 0.994\n",
            "training epoch: [184 ] loss: 0.267 correct: 2996.000, total: 3000.000, accuracy: 0.999\n",
            "training epoch: [185 ] loss: 0.266 correct: 2979.000, total: 3000.000, accuracy: 0.993\n",
            "training epoch: [186 ] loss: 0.265 correct: 2995.000, total: 3000.000, accuracy: 0.998\n",
            "training epoch: [187 ] loss: 0.264 correct: 2977.000, total: 3000.000, accuracy: 0.992\n",
            "training epoch: [188 ] loss: 0.264 correct: 2991.000, total: 3000.000, accuracy: 0.997\n",
            "training epoch: [189 ] loss: 0.263 correct: 2965.000, total: 3000.000, accuracy: 0.988\n",
            "training epoch: [190 ] loss: 0.262 correct: 2988.000, total: 3000.000, accuracy: 0.996\n",
            "training epoch: [191 ] loss: 0.262 correct: 2962.000, total: 3000.000, accuracy: 0.987\n",
            "training epoch: [192 ] loss: 0.261 correct: 2987.000, total: 3000.000, accuracy: 0.996\n",
            "training epoch: [193 ] loss: 0.260 correct: 2962.000, total: 3000.000, accuracy: 0.987\n",
            "training epoch: [194 ] loss: 0.258 correct: 2988.000, total: 3000.000, accuracy: 0.996\n",
            "training epoch: [195 ] loss: 0.257 correct: 2963.000, total: 3000.000, accuracy: 0.988\n",
            "training epoch: [196 ] loss: 0.255 correct: 2989.000, total: 3000.000, accuracy: 0.996\n",
            "training epoch: [197 ] loss: 0.254 correct: 2967.000, total: 3000.000, accuracy: 0.989\n",
            "training epoch: [198 ] loss: 0.252 correct: 2991.000, total: 3000.000, accuracy: 0.997\n",
            "training epoch: [199 ] loss: 0.250 correct: 2979.000, total: 3000.000, accuracy: 0.993\n",
            "training epoch: [200 ] loss: 0.249 correct: 2996.000, total: 3000.000, accuracy: 0.999\n",
            "Finished Training run \n"
          ],
          "name": "stdout"
        }
      ]
    },
    {
      "cell_type": "code",
      "metadata": {
        "id": "AciJnAh5nfug"
      },
      "source": [
        "columns = [\"epochs\", \"argmax > 0.5\" ,\"argmax < 0.5\", \"focus_true_pred_true\", \"focus_false_pred_true\", \"focus_true_pred_false\", \"focus_false_pred_false\" ]\n",
        "df_train = pd.DataFrame()\n",
        "df_test = pd.DataFrame()\n",
        "df_train[columns[0]] = np.arange(0,epoch+2)\n",
        "df_train[columns[1]] = analysis_data_tr[:,-2]/30\n",
        "df_train[columns[2]] = analysis_data_tr[:,-1]/30\n",
        "df_train[columns[3]] = analysis_data_tr[:,0]/30\n",
        "df_train[columns[4]] = analysis_data_tr[:,1]/30\n",
        "df_train[columns[5]] = analysis_data_tr[:,2]/30\n",
        "df_train[columns[6]] = analysis_data_tr[:,3]/30"
      ],
      "execution_count": 18,
      "outputs": []
    },
    {
      "cell_type": "code",
      "metadata": {
        "colab": {
          "base_uri": "https://localhost:8080/",
          "height": 456
        },
        "id": "NoQpS_6scRsC",
        "outputId": "304aff00-14e1-40c0-833a-f9e522bf5469"
      },
      "source": [
        "df_train"
      ],
      "execution_count": 19,
      "outputs": [
        {
          "output_type": "execute_result",
          "data": {
            "text/html": [
              "<div>\n",
              "<style scoped>\n",
              "    .dataframe tbody tr th:only-of-type {\n",
              "        vertical-align: middle;\n",
              "    }\n",
              "\n",
              "    .dataframe tbody tr th {\n",
              "        vertical-align: top;\n",
              "    }\n",
              "\n",
              "    .dataframe thead th {\n",
              "        text-align: right;\n",
              "    }\n",
              "</style>\n",
              "<table border=\"1\" class=\"dataframe\">\n",
              "  <thead>\n",
              "    <tr style=\"text-align: right;\">\n",
              "      <th></th>\n",
              "      <th>epochs</th>\n",
              "      <th>argmax &gt; 0.5</th>\n",
              "      <th>argmax &lt; 0.5</th>\n",
              "      <th>focus_true_pred_true</th>\n",
              "      <th>focus_false_pred_true</th>\n",
              "      <th>focus_true_pred_false</th>\n",
              "      <th>focus_false_pred_false</th>\n",
              "    </tr>\n",
              "  </thead>\n",
              "  <tbody>\n",
              "    <tr>\n",
              "      <th>0</th>\n",
              "      <td>0</td>\n",
              "      <td>9.800000</td>\n",
              "      <td>90.200000</td>\n",
              "      <td>3.800000</td>\n",
              "      <td>28.566667</td>\n",
              "      <td>7.966667</td>\n",
              "      <td>59.666667</td>\n",
              "    </tr>\n",
              "    <tr>\n",
              "      <th>1</th>\n",
              "      <td>1</td>\n",
              "      <td>27.833333</td>\n",
              "      <td>72.166667</td>\n",
              "      <td>0.466667</td>\n",
              "      <td>32.566667</td>\n",
              "      <td>8.100000</td>\n",
              "      <td>58.866667</td>\n",
              "    </tr>\n",
              "    <tr>\n",
              "      <th>2</th>\n",
              "      <td>2</td>\n",
              "      <td>28.700000</td>\n",
              "      <td>71.300000</td>\n",
              "      <td>7.800000</td>\n",
              "      <td>27.100000</td>\n",
              "      <td>1.266667</td>\n",
              "      <td>63.833333</td>\n",
              "    </tr>\n",
              "    <tr>\n",
              "      <th>3</th>\n",
              "      <td>3</td>\n",
              "      <td>33.433333</td>\n",
              "      <td>66.566667</td>\n",
              "      <td>1.000000</td>\n",
              "      <td>32.766667</td>\n",
              "      <td>8.000000</td>\n",
              "      <td>58.233333</td>\n",
              "    </tr>\n",
              "    <tr>\n",
              "      <th>4</th>\n",
              "      <td>4</td>\n",
              "      <td>33.433333</td>\n",
              "      <td>66.566667</td>\n",
              "      <td>7.966667</td>\n",
              "      <td>27.033333</td>\n",
              "      <td>1.333333</td>\n",
              "      <td>63.666667</td>\n",
              "    </tr>\n",
              "    <tr>\n",
              "      <th>...</th>\n",
              "      <td>...</td>\n",
              "      <td>...</td>\n",
              "      <td>...</td>\n",
              "      <td>...</td>\n",
              "      <td>...</td>\n",
              "      <td>...</td>\n",
              "      <td>...</td>\n",
              "    </tr>\n",
              "    <tr>\n",
              "      <th>196</th>\n",
              "      <td>196</td>\n",
              "      <td>100.000000</td>\n",
              "      <td>0.000000</td>\n",
              "      <td>99.633333</td>\n",
              "      <td>0.000000</td>\n",
              "      <td>0.366667</td>\n",
              "      <td>0.000000</td>\n",
              "    </tr>\n",
              "    <tr>\n",
              "      <th>197</th>\n",
              "      <td>197</td>\n",
              "      <td>100.000000</td>\n",
              "      <td>0.000000</td>\n",
              "      <td>98.900000</td>\n",
              "      <td>0.000000</td>\n",
              "      <td>1.100000</td>\n",
              "      <td>0.000000</td>\n",
              "    </tr>\n",
              "    <tr>\n",
              "      <th>198</th>\n",
              "      <td>198</td>\n",
              "      <td>100.000000</td>\n",
              "      <td>0.000000</td>\n",
              "      <td>99.700000</td>\n",
              "      <td>0.000000</td>\n",
              "      <td>0.300000</td>\n",
              "      <td>0.000000</td>\n",
              "    </tr>\n",
              "    <tr>\n",
              "      <th>199</th>\n",
              "      <td>199</td>\n",
              "      <td>100.000000</td>\n",
              "      <td>0.000000</td>\n",
              "      <td>99.300000</td>\n",
              "      <td>0.000000</td>\n",
              "      <td>0.700000</td>\n",
              "      <td>0.000000</td>\n",
              "    </tr>\n",
              "    <tr>\n",
              "      <th>200</th>\n",
              "      <td>200</td>\n",
              "      <td>100.000000</td>\n",
              "      <td>0.000000</td>\n",
              "      <td>99.866667</td>\n",
              "      <td>0.000000</td>\n",
              "      <td>0.133333</td>\n",
              "      <td>0.000000</td>\n",
              "    </tr>\n",
              "  </tbody>\n",
              "</table>\n",
              "<p>201 rows × 7 columns</p>\n",
              "</div>"
            ],
            "text/plain": [
              "     epochs  argmax > 0.5  ...  focus_true_pred_false  focus_false_pred_false\n",
              "0         0      9.800000  ...               7.966667               59.666667\n",
              "1         1     27.833333  ...               8.100000               58.866667\n",
              "2         2     28.700000  ...               1.266667               63.833333\n",
              "3         3     33.433333  ...               8.000000               58.233333\n",
              "4         4     33.433333  ...               1.333333               63.666667\n",
              "..      ...           ...  ...                    ...                     ...\n",
              "196     196    100.000000  ...               0.366667                0.000000\n",
              "197     197    100.000000  ...               1.100000                0.000000\n",
              "198     198    100.000000  ...               0.300000                0.000000\n",
              "199     199    100.000000  ...               0.700000                0.000000\n",
              "200     200    100.000000  ...               0.133333                0.000000\n",
              "\n",
              "[201 rows x 7 columns]"
            ]
          },
          "metadata": {
            "tags": []
          },
          "execution_count": 19
        }
      ]
    },
    {
      "cell_type": "code",
      "metadata": {
        "colab": {
          "base_uri": "https://localhost:8080/",
          "height": 404
        },
        "id": "IMAhRdxOcVf6",
        "outputId": "a16dfa8e-35ca-442b-bbb9-a2512a178964"
      },
      "source": [
        "fig= plt.figure(figsize=(6,6))\n",
        "plt.plot(df_train[columns[0]],df_train[columns[3]], label =\"focus_true_pred_true \")\n",
        "plt.plot(df_train[columns[0]],df_train[columns[4]], label =\"focus_false_pred_true \")\n",
        "plt.plot(df_train[columns[0]],df_train[columns[5]], label =\"focus_true_pred_false \")\n",
        "plt.plot(df_train[columns[0]],df_train[columns[6]], label =\"focus_false_pred_false \")\n",
        "plt.title(\"On Train set\")\n",
        "plt.legend(loc='center left', bbox_to_anchor=(1, 0.5))\n",
        "plt.xlabel(\"epochs\")\n",
        "plt.ylabel(\"percentage of data\")\n",
        "plt.xticks([0,50,100,150,200])\n",
        "#plt.vlines(vline_list,min(min(df_train[columns[3]]/300),min(df_train[columns[4]]/300),min(df_train[columns[5]]/300),min(df_train[columns[6]]/300)), max(max(df_train[columns[3]]/300),max(df_train[columns[4]]/300),max(df_train[columns[5]]/300),max(df_train[columns[6]]/300)),linestyles='dotted')\n",
        "plt.show()\n",
        "fig.savefig(\"train_analysis.pdf\")\n",
        "fig.savefig(\"train_analysis.png\")"
      ],
      "execution_count": 20,
      "outputs": [
        {
          "output_type": "display_data",
          "data": {
            "image/png": "[encoded data removed]",
            "text/plain": [
              "<Figure size 432x432 with 1 Axes>"
            ]
          },
          "metadata": {
            "tags": [],
            "needs_background": "light"
          }
        }
      ]
    },
    {
      "cell_type": "code",
      "metadata": {
        "id": "VCnS6r2_3WdU"
      },
      "source": [
        "aph = []\n",
        "for i in bg:\n",
        "  aph.append(F.softmax(i,dim=1).detach().numpy())\n",
        "aph = np.concatenate(aph,axis=0)\n",
        "# torch.save({\n",
        "#             'epoch': 500,\n",
        "#             'model_state_dict': what_net.state_dict(),\n",
        "#             #'optimizer_state_dict': optimizer_what.state_dict(),\n",
        "#             \"optimizer_alpha\":optim1,\n",
        "#             \"FTPT_analysis\":analysis_data_tr,\n",
        "#             \"alpha\":aph\n",
        "\n",
        "#             }, \"type4_what_net_500.pt\")"
      ],
      "execution_count": 21,
      "outputs": []
    },
    {
      "cell_type": "code",
      "metadata": {
        "colab": {
          "base_uri": "https://localhost:8080/"
        },
        "id": "KVzrDOGS4UxU",
        "outputId": "2676f3b6-35cd-4b6f-be7a-8f50cf481b2c"
      },
      "source": [
        "aph[0]"
      ],
      "execution_count": 22,
      "outputs": [
        {
          "output_type": "execute_result",
          "data": {
            "text/plain": [
              "array([7.3775511e-05, 2.7536275e-04, 1.2278636e-03, 9.8468310e-01,\n",
              "       2.3049265e-03, 9.8396679e-03, 8.0189253e-05, 1.2165139e-03,\n",
              "       2.9853423e-04], dtype=float32)"
            ]
          },
          "metadata": {
            "tags": []
          },
          "execution_count": 22
        }
      ]
    },
    {
      "cell_type": "code",
      "metadata": {
        "id": "yF2bvWdIWUTa"
      },
      "source": [
        "xx,yy= np.meshgrid(np.arange(1,8,0.01),np.arange(2,9,0.01))\n",
        "X = np.concatenate((xx.reshape(-1,1),yy.reshape(-1,1)),axis=1)\n",
        "X = torch.Tensor(X).double().to(\"cuda\")\n",
        "Y1 = what_net(X)"
      ],
      "execution_count": 23,
      "outputs": []
    },
    {
      "cell_type": "code",
      "metadata": {
        "id": "GENNdxJEa_Xi"
      },
      "source": [
        "Y1 = Y1.to(\"cpu\")\n",
        "Y1 = Y1.detach().numpy()\n",
        "Y1 = torch.softmax(torch.Tensor(Y1),dim=1)\n",
        "_,Z4= torch.max(Y1,1)\n",
        "Z1 = Y1[:,0]\n",
        "Z2 = Y1[:,1]\n",
        "Z3 = Y1[:,2]"
      ],
      "execution_count": 24,
      "outputs": []
    },
    {
      "cell_type": "code",
      "metadata": {
        "id": "5ZwEogAobesX"
      },
      "source": [
        "X = X.to(\"cpu\")"
      ],
      "execution_count": 25,
      "outputs": []
    },
    {
      "cell_type": "code",
      "metadata": {
        "colab": {
          "base_uri": "https://localhost:8080/"
        },
        "id": "ZIoUNsgebIku",
        "outputId": "f3464fd9-7e6d-405b-8ccf-407cc92bf6b5"
      },
      "source": [
        "data = np.load(\"type_4_data.npy\",allow_pickle=True)\n",
        "x = data[0][\"X\"]\n",
        "y = data[0][\"Y\"]\n",
        "idx= []\n",
        "for i in range(10):\n",
        "  print(i,sum(y==i))\n",
        "  idx.append(y==i)"
      ],
      "execution_count": 26,
      "outputs": [
        {
          "output_type": "stream",
          "text": [
            "0 482\n",
            "1 485\n",
            "2 536\n",
            "3 504\n",
            "4 493\n",
            "5 513\n",
            "6 497\n",
            "7 486\n",
            "8 522\n",
            "9 482\n"
          ],
          "name": "stdout"
        }
      ]
    },
    {
      "cell_type": "code",
      "metadata": {
        "id": "7Ut6ZTAXbvqx"
      },
      "source": [
        "avrg = []\n",
        "with torch.no_grad():\n",
        "  for i, data in  enumerate(train_loader):\n",
        "          inputs , labels , fore_idx = data\n",
        "          inputs = inputs.double()\n",
        "          inputs, labels = inputs.to(\"cuda\"),labels.to(\"cuda\")\n",
        "          beta  = bg[i]\n",
        "          beta = beta.to(\"cuda\")\n",
        "          avg,alpha = attn_avg(inputs,beta)\n",
        "          \n",
        "          avrg.append(avg.detach().cpu().numpy())\n",
        "avrg= np.concatenate(avrg,axis=0)"
      ],
      "execution_count": 27,
      "outputs": []
    },
    {
      "cell_type": "code",
      "metadata": {
        "colab": {
          "base_uri": "https://localhost:8080/",
          "height": 374
        },
        "id": "5PAwMQXzbQJR",
        "outputId": "c78e1451-c98f-40f7-958a-cb1f327b2e94"
      },
      "source": [
        "fig = plt.figure(figsize=(6,6))\n",
        "#plt.scatter(X[:,0],X[:,1],c=Z4)\n",
        "Z4 = Z4.reshape(xx.shape)\n",
        "plt.contourf(xx, yy, Z4, alpha=0.4)\n",
        "for i in range(3):\n",
        "  plt.scatter(x[idx[i],0],x[idx[i],1],label=\"class_\"+str(i),alpha=0.8)\n",
        "plt.legend(loc='center left', bbox_to_anchor=(1, 0.5))\n",
        "plt.scatter(avrg[:,0],avrg[:,1],alpha=0.2)\n",
        "plt.savefig(\"decision_boundary.png\",bbox_inches=\"tight\")\n"
      ],
      "execution_count": 31,
      "outputs": [
        {
          "output_type": "display_data",
          "data": {
            "image/png": "[encoded data removed]",
            "text/plain": [
              "<Figure size 432x432 with 1 Axes>"
            ]
          },
          "metadata": {
            "tags": [],
            "needs_background": "light"
          }
        }
      ]
    },
    {
      "cell_type": "code",
      "metadata": {
        "id": "6KHn17Rbceqt"
      },
      "source": [
        ""
      ],
      "execution_count": 28,
      "outputs": []
    }
  ]
}