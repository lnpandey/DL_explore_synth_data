{
  "nbformat": 4,
  "nbformat_minor": 0,
  "metadata": {
    "accelerator": "GPU",
    "colab": {
      "name": "type4_attn_ewts_distance_kernel.ipynb",
      "provenance": [],
      "collapsed_sections": []
    },
    "kernelspec": {
      "display_name": "Python 3",
      "name": "python3"
    },
    "language_info": {
      "name": "python"
    }
  },
  "cells": [
    {
      "cell_type": "code",
      "metadata": {
        "id": "BWIyC9Ip_bcq"
      },
      "source": [
        "import numpy as np\n",
        "import pandas as pd\n",
        "\n",
        "import torch\n",
        "import torchvision\n",
        "from torch.utils.data import Dataset, DataLoader\n",
        "from torchvision import transforms, utils\n",
        "import torch.nn as nn\n",
        "import torch.nn.functional as F\n",
        "import torch.optim as optim\n",
        "\n",
        "from matplotlib import pyplot as plt\n",
        "\n",
        "\n",
        "from myrmsprop import MyRmsprop\n",
        "from utils import plot_decision_boundary,attn_avg,plot_analysis\n",
        "from synthetic_dataset import MosaicDataset1\n",
        "from eval_model import calculate_attn_loss,analyse_data\n",
        "\n",
        "\n",
        "\n",
        "%matplotlib inline\n",
        "torch.backends.cudnn.deterministic = True\n",
        "torch.backends.cudnn.benchmark = False"
      ],
      "execution_count": 1,
      "outputs": []
    },
    {
      "cell_type": "code",
      "metadata": {
        "id": "lGVy-1EllAc_"
      },
      "source": [
        "train_data = np.load(\"train_type4_data.npy\",allow_pickle=True)\n",
        "\n",
        "test_data = np.load(\"test_type4_data.npy\",allow_pickle=True)"
      ],
      "execution_count": 2,
      "outputs": []
    },
    {
      "cell_type": "code",
      "metadata": {
        "id": "uL771xuGZC5Q"
      },
      "source": [
        "mosaic_list_of_images = train_data[0][\"mosaic_list\"]\n",
        "mosaic_label = train_data[0][\"mosaic_label\"]\n",
        "fore_idx = train_data[0][\"fore_idx\"]\n",
        "\n",
        "\n",
        "test_mosaic_list_of_images = test_data[0][\"mosaic_list\"]\n",
        "test_mosaic_label = test_data[0][\"mosaic_label\"]\n",
        "test_fore_idx = test_data[0][\"fore_idx\"]"
      ],
      "execution_count": 3,
      "outputs": []
    },
    {
      "cell_type": "code",
      "metadata": {
        "id": "uf76JwkxZCT0"
      },
      "source": [
        "batch = 3000\n",
        "train_dataset = MosaicDataset1(mosaic_list_of_images, mosaic_label, fore_idx)\n",
        "train_loader = DataLoader( train_dataset,batch_size= batch ,shuffle=False)\n",
        "#batch = 2000\n",
        "#test_dataset = MosaicDataset1(test_mosaic_list_of_images, test_mosaic_label, test_fore_idx)\n",
        "#test_loader = DataLoader(test_dataset,batch_size= batch ,shuffle=False)"
      ],
      "execution_count": 4,
      "outputs": []
    },
    {
      "cell_type": "code",
      "metadata": {
        "id": "DOpZfj1bq7wN"
      },
      "source": [
        "n_batches = 3000//batch\n",
        "bg = []\n",
        "for i in range(n_batches):\n",
        "  torch.manual_seed(i)\n",
        "  betag = torch.randn(3000,9)#torch.ones((250,9))/9\n",
        "  bg.append( betag.requires_grad_() )"
      ],
      "execution_count": 5,
      "outputs": []
    },
    {
      "cell_type": "code",
      "metadata": {
        "colab": {
          "base_uri": "https://localhost:8080/"
        },
        "id": "fzb3ii4drXpu",
        "outputId": "2d5cc6b8-46f8-4097-bda2-eda93ec9f90a"
      },
      "source": [
        "len(bg)"
      ],
      "execution_count": 6,
      "outputs": [
        {
          "output_type": "execute_result",
          "data": {
            "text/plain": [
              "1"
            ]
          },
          "metadata": {
            "tags": []
          },
          "execution_count": 6
        }
      ]
    },
    {
      "cell_type": "code",
      "metadata": {
        "id": "Am8LcQm1Og-f"
      },
      "source": [
        "data = np.load(\"dist_top1_type4.npy\",allow_pickle=True)\n",
        "indices = data[0]['indices'].numpy()\n",
        "rows,cols = np.unravel_index(indices,shape=(27000,27000))\n",
        "H = torch.zeros((27000,27000))\n",
        "H[rows,cols] =1\n",
        "#H = np.zeros((27000,27000))\n",
        "# for i, data in enumerate(train_loader, 0):\n",
        "#   print(i) # only one batch\n",
        "#   inputs,_,_ = data\n",
        "#   inputs = torch.reshape(inputs,(27000,2))\n",
        "\n",
        "#   dis = (torch.cdist(inputs,inputs)**2).to(dtype=torch.float32).flatten()\n",
        "  \n",
        "  \n",
        "\n",
        "\n",
        "\n",
        "\n"
      ],
      "execution_count": 7,
      "outputs": []
    },
    {
      "cell_type": "code",
      "metadata": {
        "colab": {
          "base_uri": "https://localhost:8080/"
        },
        "id": "vXCBGTnkosew",
        "outputId": "82275de5-6468-4cba-d770-9f7389966aef"
      },
      "source": [
        "print(indices,rows[0],cols[0])\n",
        "# to check H contains only 7290000 elements\n",
        "torch.sum(H)"
      ],
      "execution_count": 8,
      "outputs": [
        {
          "output_type": "stream",
          "text": [
            "[ 74846772 640012206 434730224 ... 280650211 180429167 507357022] 2772 2772\n"
          ],
          "name": "stdout"
        },
        {
          "output_type": "execute_result",
          "data": {
            "text/plain": [
              "tensor(7290000.)"
            ]
          },
          "metadata": {
            "tags": []
          },
          "execution_count": 8
        }
      ]
    },
    {
      "cell_type": "code",
      "metadata": {
        "id": "HbrMidFCla6h"
      },
      "source": [
        "class Module2(nn.Module):\n",
        "  def __init__(self):\n",
        "    super(Module2, self).__init__()\n",
        "    self.linear1 = nn.Linear(2,100)\n",
        "    self.linear2 = nn.Linear(100,3)\n",
        "\n",
        "  def forward(self,x):\n",
        "    x = F.relu(self.linear1(x))\n",
        "    x = self.linear2(x)\n",
        "    return x"
      ],
      "execution_count": 9,
      "outputs": []
    },
    {
      "cell_type": "code",
      "metadata": {
        "id": "rRqj2VELllkX"
      },
      "source": [
        "torch.manual_seed(1234)\n",
        "what_net = Module2().double()\n",
        "\n",
        "what_net.load_state_dict(torch.load(\"type4_what_net.pt\"))\n",
        "what_net = what_net.to(\"cuda\")"
      ],
      "execution_count": 10,
      "outputs": []
    },
    {
      "cell_type": "code",
      "metadata": {
        "id": "sAY-x6UAwrwE"
      },
      "source": [
        "# for param in what_net.parameters():\n",
        "#     param.requires_grad = False"
      ],
      "execution_count": 11,
      "outputs": []
    },
    {
      "cell_type": "code",
      "metadata": {
        "id": "S633XgMToeN3"
      },
      "source": [
        "optim1 = []\n",
        "H= H.to(\"cpu\")\n",
        "for i in range(n_batches):\n",
        "  optim1.append(MyRmsprop([bg[i]],H=H,lr=10))"
      ],
      "execution_count": 12,
      "outputs": []
    },
    {
      "cell_type": "code",
      "metadata": {
        "colab": {
          "base_uri": "https://localhost:8080/"
        },
        "id": "qPaYaojinMTA",
        "outputId": "ae50146e-ba5b-48e9-8462-a21fb2ee8881"
      },
      "source": [
        "# instantiate optimizer\n",
        "optimizer_what = optim.RMSprop(what_net.parameters(), lr=0.001)#, momentum=0.9)#,nesterov=True)\n",
        "\n",
        "\n",
        " \n",
        "\n",
        "\n",
        "criterion = nn.CrossEntropyLoss()\n",
        "acti = []\n",
        "analysis_data_tr = []\n",
        "analysis_data_tst = []\n",
        "loss_curi_tr = []\n",
        "loss_curi_tst = []\n",
        "epochs = 200\n",
        "\n",
        "\n",
        "# calculate zeroth epoch loss and FTPT values\n",
        "running_loss,anlys_data,correct,total,accuracy = calculate_attn_loss(train_loader,bg,what_net,criterion)\n",
        "print('training epoch: [%d ] loss: %.3f correct: %.3f, total: %.3f, accuracy: %.3f' %(0,running_loss,correct,total,accuracy)) \n",
        "loss_curi_tr.append(running_loss)\n",
        "analysis_data_tr.append(anlys_data)\n",
        "\n",
        "\n",
        "\n",
        "\n",
        "# training starts \n",
        "for epoch in range(epochs): # loop over the dataset multiple times\n",
        "  ep_lossi = []\n",
        "  running_loss = 0.0\n",
        "  what_net.train()\n",
        "  for i, data in enumerate(train_loader, 0):\n",
        "    # get the inputs\n",
        "    inputs, labels,_  = data\n",
        "    inputs = inputs.double()\n",
        "    beta = bg[i] # alpha for ith batch\n",
        "    #print(labels)\n",
        "    inputs, labels,beta = inputs.to(\"cuda\"),labels.to(\"cuda\"),beta.to(\"cuda\")\n",
        "        \n",
        "    # zero the parameter gradients\n",
        "    optimizer_what.zero_grad()\n",
        "    optim1[i].zero_grad()\n",
        "      \n",
        "    # forward + backward + optimize\n",
        "    avg,alpha = attn_avg(inputs,beta)\n",
        "    outputs = what_net(avg)     \n",
        "    loss = criterion(outputs, labels)\n",
        "\n",
        "    # print statistics\n",
        "    running_loss += loss.item()\n",
        "    #alpha.retain_grad()\n",
        "    loss.backward(retain_graph=False)\n",
        "    optimizer_what.step()\n",
        "    optim1[i].step()\n",
        "\n",
        "\n",
        "  running_loss_tr,anls_data,correct,total,accuracy = calculate_attn_loss(train_loader,bg,what_net,criterion)\n",
        "  analysis_data_tr.append(anls_data)\n",
        "  loss_curi_tr.append(running_loss_tr)   #loss per epoch\n",
        "  print('training epoch: [%d ] loss: %.3f correct: %.3f, total: %.3f, accuracy: %.3f' %(epoch+1,running_loss_tr,correct,total,accuracy)) \n",
        "\n",
        "\n",
        "  \n",
        "  if running_loss_tr<=0.08:\n",
        "    break\n",
        "print('Finished Training run ')\n",
        "analysis_data_tr = np.array(analysis_data_tr)\n",
        "\n"
      ],
      "execution_count": 13,
      "outputs": [
        {
          "output_type": "stream",
          "text": [
            "training epoch: [0 ] loss: 10.201 correct: 1133.000, total: 3000.000, accuracy: 0.378\n",
            "training epoch: [1 ] loss: 8.645 correct: 1395.000, total: 3000.000, accuracy: 0.465\n",
            "training epoch: [2 ] loss: 1.949 correct: 2198.000, total: 3000.000, accuracy: 0.733\n",
            "training epoch: [3 ] loss: 1.392 correct: 2564.000, total: 3000.000, accuracy: 0.855\n",
            "training epoch: [4 ] loss: 1.094 correct: 2657.000, total: 3000.000, accuracy: 0.886\n",
            "training epoch: [5 ] loss: 0.969 correct: 2694.000, total: 3000.000, accuracy: 0.898\n",
            "training epoch: [6 ] loss: 0.876 correct: 2731.000, total: 3000.000, accuracy: 0.910\n",
            "training epoch: [7 ] loss: 0.815 correct: 2757.000, total: 3000.000, accuracy: 0.919\n",
            "training epoch: [8 ] loss: 0.765 correct: 2774.000, total: 3000.000, accuracy: 0.925\n",
            "training epoch: [9 ] loss: 0.725 correct: 2792.000, total: 3000.000, accuracy: 0.931\n",
            "training epoch: [10 ] loss: 0.691 correct: 2804.000, total: 3000.000, accuracy: 0.935\n",
            "training epoch: [11 ] loss: 0.663 correct: 2815.000, total: 3000.000, accuracy: 0.938\n",
            "training epoch: [12 ] loss: 0.638 correct: 2822.000, total: 3000.000, accuracy: 0.941\n",
            "training epoch: [13 ] loss: 0.618 correct: 2840.000, total: 3000.000, accuracy: 0.947\n",
            "training epoch: [14 ] loss: 0.599 correct: 2851.000, total: 3000.000, accuracy: 0.950\n",
            "training epoch: [15 ] loss: 0.584 correct: 2865.000, total: 3000.000, accuracy: 0.955\n",
            "training epoch: [16 ] loss: 0.570 correct: 2872.000, total: 3000.000, accuracy: 0.957\n",
            "training epoch: [17 ] loss: 0.558 correct: 2891.000, total: 3000.000, accuracy: 0.964\n",
            "training epoch: [18 ] loss: 0.547 correct: 2900.000, total: 3000.000, accuracy: 0.967\n",
            "training epoch: [19 ] loss: 0.537 correct: 2909.000, total: 3000.000, accuracy: 0.970\n",
            "training epoch: [20 ] loss: 0.529 correct: 2916.000, total: 3000.000, accuracy: 0.972\n",
            "training epoch: [21 ] loss: 0.521 correct: 2919.000, total: 3000.000, accuracy: 0.973\n",
            "training epoch: [22 ] loss: 0.514 correct: 2925.000, total: 3000.000, accuracy: 0.975\n",
            "training epoch: [23 ] loss: 0.508 correct: 2930.000, total: 3000.000, accuracy: 0.977\n",
            "training epoch: [24 ] loss: 0.502 correct: 2938.000, total: 3000.000, accuracy: 0.979\n",
            "training epoch: [25 ] loss: 0.497 correct: 2938.000, total: 3000.000, accuracy: 0.979\n",
            "training epoch: [26 ] loss: 0.492 correct: 2938.000, total: 3000.000, accuracy: 0.979\n",
            "training epoch: [27 ] loss: 0.488 correct: 2938.000, total: 3000.000, accuracy: 0.979\n",
            "training epoch: [28 ] loss: 0.484 correct: 2941.000, total: 3000.000, accuracy: 0.980\n",
            "training epoch: [29 ] loss: 0.480 correct: 2944.000, total: 3000.000, accuracy: 0.981\n",
            "training epoch: [30 ] loss: 0.477 correct: 2945.000, total: 3000.000, accuracy: 0.982\n",
            "training epoch: [31 ] loss: 0.473 correct: 2945.000, total: 3000.000, accuracy: 0.982\n",
            "training epoch: [32 ] loss: 0.471 correct: 2946.000, total: 3000.000, accuracy: 0.982\n",
            "training epoch: [33 ] loss: 0.468 correct: 2953.000, total: 3000.000, accuracy: 0.984\n",
            "training epoch: [34 ] loss: 0.465 correct: 2953.000, total: 3000.000, accuracy: 0.984\n",
            "training epoch: [35 ] loss: 0.463 correct: 2956.000, total: 3000.000, accuracy: 0.985\n",
            "training epoch: [36 ] loss: 0.461 correct: 2956.000, total: 3000.000, accuracy: 0.985\n",
            "training epoch: [37 ] loss: 0.445 correct: 2957.000, total: 3000.000, accuracy: 0.986\n",
            "training epoch: [38 ] loss: 0.443 correct: 2957.000, total: 3000.000, accuracy: 0.986\n",
            "training epoch: [39 ] loss: 0.441 correct: 2961.000, total: 3000.000, accuracy: 0.987\n",
            "training epoch: [40 ] loss: 0.397 correct: 2964.000, total: 3000.000, accuracy: 0.988\n",
            "training epoch: [41 ] loss: 0.397 correct: 2964.000, total: 3000.000, accuracy: 0.988\n",
            "training epoch: [42 ] loss: 0.396 correct: 2964.000, total: 3000.000, accuracy: 0.988\n",
            "training epoch: [43 ] loss: 0.395 correct: 2959.000, total: 3000.000, accuracy: 0.986\n",
            "training epoch: [44 ] loss: 0.394 correct: 2959.000, total: 3000.000, accuracy: 0.986\n",
            "training epoch: [45 ] loss: 0.394 correct: 2959.000, total: 3000.000, accuracy: 0.986\n",
            "training epoch: [46 ] loss: 0.393 correct: 2959.000, total: 3000.000, accuracy: 0.986\n",
            "training epoch: [47 ] loss: 0.393 correct: 2959.000, total: 3000.000, accuracy: 0.986\n",
            "training epoch: [48 ] loss: 0.392 correct: 2959.000, total: 3000.000, accuracy: 0.986\n",
            "training epoch: [49 ] loss: 0.392 correct: 2961.000, total: 3000.000, accuracy: 0.987\n",
            "training epoch: [50 ] loss: 0.391 correct: 2961.000, total: 3000.000, accuracy: 0.987\n",
            "training epoch: [51 ] loss: 0.391 correct: 2961.000, total: 3000.000, accuracy: 0.987\n",
            "training epoch: [52 ] loss: 0.390 correct: 2961.000, total: 3000.000, accuracy: 0.987\n",
            "training epoch: [53 ] loss: 0.390 correct: 2961.000, total: 3000.000, accuracy: 0.987\n",
            "training epoch: [54 ] loss: 0.389 correct: 2961.000, total: 3000.000, accuracy: 0.987\n",
            "training epoch: [55 ] loss: 0.389 correct: 2961.000, total: 3000.000, accuracy: 0.987\n",
            "training epoch: [56 ] loss: 0.389 correct: 2961.000, total: 3000.000, accuracy: 0.987\n",
            "training epoch: [57 ] loss: 0.388 correct: 2961.000, total: 3000.000, accuracy: 0.987\n",
            "training epoch: [58 ] loss: 0.388 correct: 2961.000, total: 3000.000, accuracy: 0.987\n",
            "training epoch: [59 ] loss: 0.387 correct: 2961.000, total: 3000.000, accuracy: 0.987\n",
            "training epoch: [60 ] loss: 0.387 correct: 2961.000, total: 3000.000, accuracy: 0.987\n",
            "training epoch: [61 ] loss: 0.387 correct: 2961.000, total: 3000.000, accuracy: 0.987\n",
            "training epoch: [62 ] loss: 0.386 correct: 2961.000, total: 3000.000, accuracy: 0.987\n",
            "training epoch: [63 ] loss: 0.386 correct: 2961.000, total: 3000.000, accuracy: 0.987\n",
            "training epoch: [64 ] loss: 0.385 correct: 2961.000, total: 3000.000, accuracy: 0.987\n",
            "training epoch: [65 ] loss: 0.385 correct: 2961.000, total: 3000.000, accuracy: 0.987\n",
            "training epoch: [66 ] loss: 0.385 correct: 2961.000, total: 3000.000, accuracy: 0.987\n",
            "training epoch: [67 ] loss: 0.384 correct: 2961.000, total: 3000.000, accuracy: 0.987\n",
            "training epoch: [68 ] loss: 0.384 correct: 2961.000, total: 3000.000, accuracy: 0.987\n",
            "training epoch: [69 ] loss: 0.383 correct: 2961.000, total: 3000.000, accuracy: 0.987\n",
            "training epoch: [70 ] loss: 0.383 correct: 2961.000, total: 3000.000, accuracy: 0.987\n",
            "training epoch: [71 ] loss: 0.383 correct: 2962.000, total: 3000.000, accuracy: 0.987\n",
            "training epoch: [72 ] loss: 0.382 correct: 2962.000, total: 3000.000, accuracy: 0.987\n",
            "training epoch: [73 ] loss: 0.382 correct: 2962.000, total: 3000.000, accuracy: 0.987\n",
            "training epoch: [74 ] loss: 0.381 correct: 2962.000, total: 3000.000, accuracy: 0.987\n",
            "training epoch: [75 ] loss: 0.381 correct: 2962.000, total: 3000.000, accuracy: 0.987\n",
            "training epoch: [76 ] loss: 0.381 correct: 2962.000, total: 3000.000, accuracy: 0.987\n",
            "training epoch: [77 ] loss: 0.380 correct: 2962.000, total: 3000.000, accuracy: 0.987\n",
            "training epoch: [78 ] loss: 0.380 correct: 2962.000, total: 3000.000, accuracy: 0.987\n",
            "training epoch: [79 ] loss: 0.379 correct: 2962.000, total: 3000.000, accuracy: 0.987\n",
            "training epoch: [80 ] loss: 0.379 correct: 2962.000, total: 3000.000, accuracy: 0.987\n",
            "training epoch: [81 ] loss: 0.379 correct: 2962.000, total: 3000.000, accuracy: 0.987\n",
            "training epoch: [82 ] loss: 0.378 correct: 2962.000, total: 3000.000, accuracy: 0.987\n",
            "training epoch: [83 ] loss: 0.378 correct: 2962.000, total: 3000.000, accuracy: 0.987\n",
            "training epoch: [84 ] loss: 0.377 correct: 2962.000, total: 3000.000, accuracy: 0.987\n",
            "training epoch: [85 ] loss: 0.377 correct: 2962.000, total: 3000.000, accuracy: 0.987\n",
            "training epoch: [86 ] loss: 0.377 correct: 2962.000, total: 3000.000, accuracy: 0.987\n",
            "training epoch: [87 ] loss: 0.376 correct: 2962.000, total: 3000.000, accuracy: 0.987\n",
            "training epoch: [88 ] loss: 0.376 correct: 2962.000, total: 3000.000, accuracy: 0.987\n",
            "training epoch: [89 ] loss: 0.376 correct: 2962.000, total: 3000.000, accuracy: 0.987\n",
            "training epoch: [90 ] loss: 0.375 correct: 2962.000, total: 3000.000, accuracy: 0.987\n",
            "training epoch: [91 ] loss: 0.375 correct: 2962.000, total: 3000.000, accuracy: 0.987\n",
            "training epoch: [92 ] loss: 0.374 correct: 2962.000, total: 3000.000, accuracy: 0.987\n",
            "training epoch: [93 ] loss: 0.374 correct: 2963.000, total: 3000.000, accuracy: 0.988\n",
            "training epoch: [94 ] loss: 0.374 correct: 2963.000, total: 3000.000, accuracy: 0.988\n",
            "training epoch: [95 ] loss: 0.373 correct: 2963.000, total: 3000.000, accuracy: 0.988\n",
            "training epoch: [96 ] loss: 0.373 correct: 2963.000, total: 3000.000, accuracy: 0.988\n",
            "training epoch: [97 ] loss: 0.372 correct: 2963.000, total: 3000.000, accuracy: 0.988\n",
            "training epoch: [98 ] loss: 0.372 correct: 2963.000, total: 3000.000, accuracy: 0.988\n",
            "training epoch: [99 ] loss: 0.372 correct: 2963.000, total: 3000.000, accuracy: 0.988\n",
            "training epoch: [100 ] loss: 0.371 correct: 2963.000, total: 3000.000, accuracy: 0.988\n",
            "training epoch: [101 ] loss: 0.371 correct: 2963.000, total: 3000.000, accuracy: 0.988\n",
            "training epoch: [102 ] loss: 0.370 correct: 2963.000, total: 3000.000, accuracy: 0.988\n",
            "training epoch: [103 ] loss: 0.370 correct: 2963.000, total: 3000.000, accuracy: 0.988\n",
            "training epoch: [104 ] loss: 0.369 correct: 2963.000, total: 3000.000, accuracy: 0.988\n",
            "training epoch: [105 ] loss: 0.369 correct: 2963.000, total: 3000.000, accuracy: 0.988\n",
            "training epoch: [106 ] loss: 0.369 correct: 2963.000, total: 3000.000, accuracy: 0.988\n",
            "training epoch: [107 ] loss: 0.368 correct: 2963.000, total: 3000.000, accuracy: 0.988\n",
            "training epoch: [108 ] loss: 0.368 correct: 2963.000, total: 3000.000, accuracy: 0.988\n",
            "training epoch: [109 ] loss: 0.367 correct: 2963.000, total: 3000.000, accuracy: 0.988\n",
            "training epoch: [110 ] loss: 0.367 correct: 2963.000, total: 3000.000, accuracy: 0.988\n",
            "training epoch: [111 ] loss: 0.367 correct: 2963.000, total: 3000.000, accuracy: 0.988\n",
            "training epoch: [112 ] loss: 0.366 correct: 2963.000, total: 3000.000, accuracy: 0.988\n",
            "training epoch: [113 ] loss: 0.366 correct: 2963.000, total: 3000.000, accuracy: 0.988\n",
            "training epoch: [114 ] loss: 0.365 correct: 2963.000, total: 3000.000, accuracy: 0.988\n",
            "training epoch: [115 ] loss: 0.365 correct: 2963.000, total: 3000.000, accuracy: 0.988\n",
            "training epoch: [116 ] loss: 0.365 correct: 2963.000, total: 3000.000, accuracy: 0.988\n",
            "training epoch: [117 ] loss: 0.364 correct: 2963.000, total: 3000.000, accuracy: 0.988\n",
            "training epoch: [118 ] loss: 0.364 correct: 2963.000, total: 3000.000, accuracy: 0.988\n",
            "training epoch: [119 ] loss: 0.363 correct: 2963.000, total: 3000.000, accuracy: 0.988\n",
            "training epoch: [120 ] loss: 0.363 correct: 2963.000, total: 3000.000, accuracy: 0.988\n",
            "training epoch: [121 ] loss: 0.363 correct: 2963.000, total: 3000.000, accuracy: 0.988\n",
            "training epoch: [122 ] loss: 0.362 correct: 2963.000, total: 3000.000, accuracy: 0.988\n",
            "training epoch: [123 ] loss: 0.362 correct: 2963.000, total: 3000.000, accuracy: 0.988\n",
            "training epoch: [124 ] loss: 0.361 correct: 2963.000, total: 3000.000, accuracy: 0.988\n",
            "training epoch: [125 ] loss: 0.361 correct: 2963.000, total: 3000.000, accuracy: 0.988\n",
            "training epoch: [126 ] loss: 0.360 correct: 2963.000, total: 3000.000, accuracy: 0.988\n",
            "training epoch: [127 ] loss: 0.360 correct: 2963.000, total: 3000.000, accuracy: 0.988\n",
            "training epoch: [128 ] loss: 0.360 correct: 2963.000, total: 3000.000, accuracy: 0.988\n",
            "training epoch: [129 ] loss: 0.359 correct: 2963.000, total: 3000.000, accuracy: 0.988\n",
            "training epoch: [130 ] loss: 0.359 correct: 2963.000, total: 3000.000, accuracy: 0.988\n",
            "training epoch: [131 ] loss: 0.358 correct: 2963.000, total: 3000.000, accuracy: 0.988\n",
            "training epoch: [132 ] loss: 0.358 correct: 2963.000, total: 3000.000, accuracy: 0.988\n",
            "training epoch: [133 ] loss: 0.357 correct: 2963.000, total: 3000.000, accuracy: 0.988\n",
            "training epoch: [134 ] loss: 0.357 correct: 2963.000, total: 3000.000, accuracy: 0.988\n",
            "training epoch: [135 ] loss: 0.356 correct: 2963.000, total: 3000.000, accuracy: 0.988\n",
            "training epoch: [136 ] loss: 0.356 correct: 2963.000, total: 3000.000, accuracy: 0.988\n",
            "training epoch: [137 ] loss: 0.356 correct: 2963.000, total: 3000.000, accuracy: 0.988\n",
            "training epoch: [138 ] loss: 0.355 correct: 2963.000, total: 3000.000, accuracy: 0.988\n",
            "training epoch: [139 ] loss: 0.355 correct: 2963.000, total: 3000.000, accuracy: 0.988\n",
            "training epoch: [140 ] loss: 0.354 correct: 2963.000, total: 3000.000, accuracy: 0.988\n",
            "training epoch: [141 ] loss: 0.354 correct: 2963.000, total: 3000.000, accuracy: 0.988\n",
            "training epoch: [142 ] loss: 0.353 correct: 2963.000, total: 3000.000, accuracy: 0.988\n",
            "training epoch: [143 ] loss: 0.353 correct: 2963.000, total: 3000.000, accuracy: 0.988\n",
            "training epoch: [144 ] loss: 0.352 correct: 2966.000, total: 3000.000, accuracy: 0.989\n",
            "training epoch: [145 ] loss: 0.352 correct: 2966.000, total: 3000.000, accuracy: 0.989\n",
            "training epoch: [146 ] loss: 0.351 correct: 2966.000, total: 3000.000, accuracy: 0.989\n",
            "training epoch: [147 ] loss: 0.351 correct: 2966.000, total: 3000.000, accuracy: 0.989\n",
            "training epoch: [148 ] loss: 0.350 correct: 2966.000, total: 3000.000, accuracy: 0.989\n",
            "training epoch: [149 ] loss: 0.350 correct: 2966.000, total: 3000.000, accuracy: 0.989\n",
            "training epoch: [150 ] loss: 0.350 correct: 2966.000, total: 3000.000, accuracy: 0.989\n",
            "training epoch: [151 ] loss: 0.349 correct: 2966.000, total: 3000.000, accuracy: 0.989\n",
            "training epoch: [152 ] loss: 0.349 correct: 2966.000, total: 3000.000, accuracy: 0.989\n",
            "training epoch: [153 ] loss: 0.348 correct: 2966.000, total: 3000.000, accuracy: 0.989\n",
            "training epoch: [154 ] loss: 0.347 correct: 2966.000, total: 3000.000, accuracy: 0.989\n",
            "training epoch: [155 ] loss: 0.347 correct: 2966.000, total: 3000.000, accuracy: 0.989\n",
            "training epoch: [156 ] loss: 0.346 correct: 2966.000, total: 3000.000, accuracy: 0.989\n",
            "training epoch: [157 ] loss: 0.346 correct: 2966.000, total: 3000.000, accuracy: 0.989\n",
            "training epoch: [158 ] loss: 0.345 correct: 2966.000, total: 3000.000, accuracy: 0.989\n",
            "training epoch: [159 ] loss: 0.345 correct: 2966.000, total: 3000.000, accuracy: 0.989\n",
            "training epoch: [160 ] loss: 0.344 correct: 2966.000, total: 3000.000, accuracy: 0.989\n",
            "training epoch: [161 ] loss: 0.344 correct: 2966.000, total: 3000.000, accuracy: 0.989\n",
            "training epoch: [162 ] loss: 0.343 correct: 2966.000, total: 3000.000, accuracy: 0.989\n",
            "training epoch: [163 ] loss: 0.343 correct: 2966.000, total: 3000.000, accuracy: 0.989\n",
            "training epoch: [164 ] loss: 0.342 correct: 2966.000, total: 3000.000, accuracy: 0.989\n",
            "training epoch: [165 ] loss: 0.341 correct: 2966.000, total: 3000.000, accuracy: 0.989\n",
            "training epoch: [166 ] loss: 0.341 correct: 2966.000, total: 3000.000, accuracy: 0.989\n",
            "training epoch: [167 ] loss: 0.340 correct: 2966.000, total: 3000.000, accuracy: 0.989\n",
            "training epoch: [168 ] loss: 0.340 correct: 2966.000, total: 3000.000, accuracy: 0.989\n",
            "training epoch: [169 ] loss: 0.339 correct: 2966.000, total: 3000.000, accuracy: 0.989\n",
            "training epoch: [170 ] loss: 0.338 correct: 2966.000, total: 3000.000, accuracy: 0.989\n",
            "training epoch: [171 ] loss: 0.338 correct: 2966.000, total: 3000.000, accuracy: 0.989\n",
            "training epoch: [172 ] loss: 0.337 correct: 2966.000, total: 3000.000, accuracy: 0.989\n",
            "training epoch: [173 ] loss: 0.336 correct: 2966.000, total: 3000.000, accuracy: 0.989\n",
            "training epoch: [174 ] loss: 0.336 correct: 2966.000, total: 3000.000, accuracy: 0.989\n",
            "training epoch: [175 ] loss: 0.335 correct: 2970.000, total: 3000.000, accuracy: 0.990\n",
            "training epoch: [176 ] loss: 0.334 correct: 2970.000, total: 3000.000, accuracy: 0.990\n",
            "training epoch: [177 ] loss: 0.334 correct: 2970.000, total: 3000.000, accuracy: 0.990\n",
            "training epoch: [178 ] loss: 0.333 correct: 2970.000, total: 3000.000, accuracy: 0.990\n",
            "training epoch: [179 ] loss: 0.332 correct: 2970.000, total: 3000.000, accuracy: 0.990\n",
            "training epoch: [180 ] loss: 0.332 correct: 2970.000, total: 3000.000, accuracy: 0.990\n",
            "training epoch: [181 ] loss: 0.331 correct: 2970.000, total: 3000.000, accuracy: 0.990\n",
            "training epoch: [182 ] loss: 0.330 correct: 2970.000, total: 3000.000, accuracy: 0.990\n",
            "training epoch: [183 ] loss: 0.329 correct: 2970.000, total: 3000.000, accuracy: 0.990\n",
            "training epoch: [184 ] loss: 0.329 correct: 2970.000, total: 3000.000, accuracy: 0.990\n",
            "training epoch: [185 ] loss: 0.328 correct: 2970.000, total: 3000.000, accuracy: 0.990\n",
            "training epoch: [186 ] loss: 0.327 correct: 2970.000, total: 3000.000, accuracy: 0.990\n",
            "training epoch: [187 ] loss: 0.326 correct: 2970.000, total: 3000.000, accuracy: 0.990\n",
            "training epoch: [188 ] loss: 0.326 correct: 2970.000, total: 3000.000, accuracy: 0.990\n",
            "training epoch: [189 ] loss: 0.325 correct: 2970.000, total: 3000.000, accuracy: 0.990\n",
            "training epoch: [190 ] loss: 0.324 correct: 2970.000, total: 3000.000, accuracy: 0.990\n",
            "training epoch: [191 ] loss: 0.323 correct: 2970.000, total: 3000.000, accuracy: 0.990\n",
            "training epoch: [192 ] loss: 0.323 correct: 2970.000, total: 3000.000, accuracy: 0.990\n",
            "training epoch: [193 ] loss: 0.322 correct: 2970.000, total: 3000.000, accuracy: 0.990\n",
            "training epoch: [194 ] loss: 0.321 correct: 2970.000, total: 3000.000, accuracy: 0.990\n",
            "training epoch: [195 ] loss: 0.321 correct: 2970.000, total: 3000.000, accuracy: 0.990\n",
            "training epoch: [196 ] loss: 0.320 correct: 2970.000, total: 3000.000, accuracy: 0.990\n",
            "training epoch: [197 ] loss: 0.319 correct: 2970.000, total: 3000.000, accuracy: 0.990\n",
            "training epoch: [198 ] loss: 0.318 correct: 2975.000, total: 3000.000, accuracy: 0.992\n",
            "training epoch: [199 ] loss: 0.318 correct: 2975.000, total: 3000.000, accuracy: 0.992\n",
            "training epoch: [200 ] loss: 0.317 correct: 2975.000, total: 3000.000, accuracy: 0.992\n",
            "Finished Training run \n"
          ],
          "name": "stdout"
        }
      ]
    },
    {
      "cell_type": "code",
      "metadata": {
        "id": "AciJnAh5nfug"
      },
      "source": [
        "columns = [\"epochs\", \"argmax > 0.5\" ,\"argmax < 0.5\", \"focus_true_pred_true\", \"focus_false_pred_true\", \"focus_true_pred_false\", \"focus_false_pred_false\" ]\n",
        "df_train = pd.DataFrame()\n",
        "df_test = pd.DataFrame()\n",
        "df_train[columns[0]] = np.arange(0,epoch+2)\n",
        "df_train[columns[1]] = analysis_data_tr[:,-2]/30\n",
        "df_train[columns[2]] = analysis_data_tr[:,-1]/30\n",
        "df_train[columns[3]] = analysis_data_tr[:,0]/30\n",
        "df_train[columns[4]] = analysis_data_tr[:,1]/30\n",
        "df_train[columns[5]] = analysis_data_tr[:,2]/30\n",
        "df_train[columns[6]] = analysis_data_tr[:,3]/30"
      ],
      "execution_count": 14,
      "outputs": []
    },
    {
      "cell_type": "code",
      "metadata": {
        "colab": {
          "base_uri": "https://localhost:8080/",
          "height": 456
        },
        "id": "NoQpS_6scRsC",
        "outputId": "0035c016-c569-43bc-c14f-809ce8767c2c"
      },
      "source": [
        "df_train"
      ],
      "execution_count": 15,
      "outputs": [
        {
          "output_type": "execute_result",
          "data": {
            "text/html": [
              "<div>\n",
              "<style scoped>\n",
              "    .dataframe tbody tr th:only-of-type {\n",
              "        vertical-align: middle;\n",
              "    }\n",
              "\n",
              "    .dataframe tbody tr th {\n",
              "        vertical-align: top;\n",
              "    }\n",
              "\n",
              "    .dataframe thead th {\n",
              "        text-align: right;\n",
              "    }\n",
              "</style>\n",
              "<table border=\"1\" class=\"dataframe\">\n",
              "  <thead>\n",
              "    <tr style=\"text-align: right;\">\n",
              "      <th></th>\n",
              "      <th>epochs</th>\n",
              "      <th>argmax &gt; 0.5</th>\n",
              "      <th>argmax &lt; 0.5</th>\n",
              "      <th>focus_true_pred_true</th>\n",
              "      <th>focus_false_pred_true</th>\n",
              "      <th>focus_true_pred_false</th>\n",
              "      <th>focus_false_pred_false</th>\n",
              "    </tr>\n",
              "  </thead>\n",
              "  <tbody>\n",
              "    <tr>\n",
              "      <th>0</th>\n",
              "      <td>0</td>\n",
              "      <td>9.800000</td>\n",
              "      <td>90.200000</td>\n",
              "      <td>5.233333</td>\n",
              "      <td>32.533333</td>\n",
              "      <td>6.533333</td>\n",
              "      <td>55.700000</td>\n",
              "    </tr>\n",
              "    <tr>\n",
              "      <th>1</th>\n",
              "      <td>1</td>\n",
              "      <td>51.100000</td>\n",
              "      <td>48.900000</td>\n",
              "      <td>17.333333</td>\n",
              "      <td>29.166667</td>\n",
              "      <td>11.033333</td>\n",
              "      <td>42.466667</td>\n",
              "    </tr>\n",
              "    <tr>\n",
              "      <th>2</th>\n",
              "      <td>2</td>\n",
              "      <td>99.966667</td>\n",
              "      <td>0.033333</td>\n",
              "      <td>71.700000</td>\n",
              "      <td>1.566667</td>\n",
              "      <td>8.700000</td>\n",
              "      <td>18.033333</td>\n",
              "    </tr>\n",
              "    <tr>\n",
              "      <th>3</th>\n",
              "      <td>3</td>\n",
              "      <td>100.000000</td>\n",
              "      <td>0.000000</td>\n",
              "      <td>81.866667</td>\n",
              "      <td>3.600000</td>\n",
              "      <td>1.433333</td>\n",
              "      <td>13.100000</td>\n",
              "    </tr>\n",
              "    <tr>\n",
              "      <th>4</th>\n",
              "      <td>4</td>\n",
              "      <td>99.966667</td>\n",
              "      <td>0.033333</td>\n",
              "      <td>83.566667</td>\n",
              "      <td>5.000000</td>\n",
              "      <td>1.366667</td>\n",
              "      <td>10.066667</td>\n",
              "    </tr>\n",
              "    <tr>\n",
              "      <th>...</th>\n",
              "      <td>...</td>\n",
              "      <td>...</td>\n",
              "      <td>...</td>\n",
              "      <td>...</td>\n",
              "      <td>...</td>\n",
              "      <td>...</td>\n",
              "      <td>...</td>\n",
              "    </tr>\n",
              "    <tr>\n",
              "      <th>196</th>\n",
              "      <td>196</td>\n",
              "      <td>99.900000</td>\n",
              "      <td>0.100000</td>\n",
              "      <td>87.666667</td>\n",
              "      <td>11.333333</td>\n",
              "      <td>0.366667</td>\n",
              "      <td>0.633333</td>\n",
              "    </tr>\n",
              "    <tr>\n",
              "      <th>197</th>\n",
              "      <td>197</td>\n",
              "      <td>99.900000</td>\n",
              "      <td>0.100000</td>\n",
              "      <td>87.666667</td>\n",
              "      <td>11.333333</td>\n",
              "      <td>0.366667</td>\n",
              "      <td>0.633333</td>\n",
              "    </tr>\n",
              "    <tr>\n",
              "      <th>198</th>\n",
              "      <td>198</td>\n",
              "      <td>99.900000</td>\n",
              "      <td>0.100000</td>\n",
              "      <td>87.833333</td>\n",
              "      <td>11.333333</td>\n",
              "      <td>0.200000</td>\n",
              "      <td>0.633333</td>\n",
              "    </tr>\n",
              "    <tr>\n",
              "      <th>199</th>\n",
              "      <td>199</td>\n",
              "      <td>99.900000</td>\n",
              "      <td>0.100000</td>\n",
              "      <td>87.833333</td>\n",
              "      <td>11.333333</td>\n",
              "      <td>0.200000</td>\n",
              "      <td>0.633333</td>\n",
              "    </tr>\n",
              "    <tr>\n",
              "      <th>200</th>\n",
              "      <td>200</td>\n",
              "      <td>99.900000</td>\n",
              "      <td>0.100000</td>\n",
              "      <td>87.833333</td>\n",
              "      <td>11.333333</td>\n",
              "      <td>0.200000</td>\n",
              "      <td>0.633333</td>\n",
              "    </tr>\n",
              "  </tbody>\n",
              "</table>\n",
              "<p>201 rows × 7 columns</p>\n",
              "</div>"
            ],
            "text/plain": [
              "     epochs  argmax > 0.5  ...  focus_true_pred_false  focus_false_pred_false\n",
              "0         0      9.800000  ...               6.533333               55.700000\n",
              "1         1     51.100000  ...              11.033333               42.466667\n",
              "2         2     99.966667  ...               8.700000               18.033333\n",
              "3         3    100.000000  ...               1.433333               13.100000\n",
              "4         4     99.966667  ...               1.366667               10.066667\n",
              "..      ...           ...  ...                    ...                     ...\n",
              "196     196     99.900000  ...               0.366667                0.633333\n",
              "197     197     99.900000  ...               0.366667                0.633333\n",
              "198     198     99.900000  ...               0.200000                0.633333\n",
              "199     199     99.900000  ...               0.200000                0.633333\n",
              "200     200     99.900000  ...               0.200000                0.633333\n",
              "\n",
              "[201 rows x 7 columns]"
            ]
          },
          "metadata": {
            "tags": []
          },
          "execution_count": 15
        }
      ]
    },
    {
      "cell_type": "code",
      "metadata": {
        "colab": {
          "base_uri": "https://localhost:8080/",
          "height": 404
        },
        "id": "EY_j8B274vuH",
        "outputId": "ea98e971-65a8-4469-d3c7-79cbc38e8e95"
      },
      "source": [
        "plot_analysis(df_train,columns)"
      ],
      "execution_count": 16,
      "outputs": [
        {
          "output_type": "display_data",
          "data": {
            "image/png": "[encoded data removed]",
            "text/plain": [
              "<Figure size 432x432 with 1 Axes>"
            ]
          },
          "metadata": {
            "tags": [],
            "needs_background": "light"
          }
        }
      ]
    },
    {
      "cell_type": "code",
      "metadata": {
        "id": "VCnS6r2_3WdU"
      },
      "source": [
        "aph = []\n",
        "for i in bg:\n",
        "  aph.append(F.softmax(i,dim=1).detach().numpy())\n",
        "  \n",
        "aph = np.concatenate(aph,axis=0)\n",
        "# torch.save({\n",
        "#             'epoch': 500,\n",
        "#             'model_state_dict': what_net.state_dict(),\n",
        "#             #'optimizer_state_dict': optimizer_what.state_dict(),\n",
        "#             \"optimizer_alpha\":optim1,\n",
        "#             \"FTPT_analysis\":analysis_data_tr,\n",
        "#             \"alpha\":aph\n",
        "\n",
        "#             }, \"type4_what_net_500.pt\")"
      ],
      "execution_count": 17,
      "outputs": []
    },
    {
      "cell_type": "code",
      "metadata": {
        "colab": {
          "base_uri": "https://localhost:8080/"
        },
        "id": "KVzrDOGS4UxU",
        "outputId": "bfd04da4-4b0c-4344-9563-5dc0285b8299"
      },
      "source": [
        "aph[0]"
      ],
      "execution_count": 18,
      "outputs": [
        {
          "output_type": "execute_result",
          "data": {
            "text/plain": [
              "array([0.0000000e+00, 1.1127036e-22, 0.0000000e+00, 1.0000000e+00,\n",
              "       0.0000000e+00, 0.0000000e+00, 0.0000000e+00, 0.0000000e+00,\n",
              "       0.0000000e+00], dtype=float32)"
            ]
          },
          "metadata": {
            "tags": []
          },
          "execution_count": 18
        }
      ]
    },
    {
      "cell_type": "code",
      "metadata": {
        "id": "7Ut6ZTAXbvqx"
      },
      "source": [
        "avrg = []\n",
        "with torch.no_grad():\n",
        "  for i, data1 in  enumerate(train_loader):\n",
        "          inputs , labels , fore_idx = data1\n",
        "          inputs = inputs.double()\n",
        "          inputs, labels = inputs.to(\"cuda\"),labels.to(\"cuda\")\n",
        "          beta  = bg[i]\n",
        "          beta = beta.to(\"cuda\")\n",
        "          avg,alpha = attn_avg(inputs,beta)\n",
        "          \n",
        "          avrg.append(avg.detach().cpu().numpy())\n",
        "avrg= np.concatenate(avrg,axis=0)"
      ],
      "execution_count": 19,
      "outputs": []
    },
    {
      "cell_type": "code",
      "metadata": {
        "id": "2KQFYlmTLG0N",
        "colab": {
          "base_uri": "https://localhost:8080/",
          "height": 374
        },
        "outputId": "67443261-d02c-43bc-ae08-954a61b49d17"
      },
      "source": [
        "data = np.load(\"type_4_data.npy\",allow_pickle=True)\n",
        "plot_decision_boundary(what_net,[1,8,2,9],data,bg,avrg)"
      ],
      "execution_count": 20,
      "outputs": [
        {
          "output_type": "display_data",
          "data": {
            "image/png": "[encoded data removed]",
            "text/plain": [
              "<Figure size 432x432 with 1 Axes>"
            ]
          },
          "metadata": {
            "tags": [],
            "needs_background": "light"
          }
        }
      ]
    },
    {
      "cell_type": "code",
      "metadata": {
        "id": "0TlpHSOC0hfk"
      },
      "source": [
        ""
      ],
      "execution_count": 20,
      "outputs": []
    }
  ]
}