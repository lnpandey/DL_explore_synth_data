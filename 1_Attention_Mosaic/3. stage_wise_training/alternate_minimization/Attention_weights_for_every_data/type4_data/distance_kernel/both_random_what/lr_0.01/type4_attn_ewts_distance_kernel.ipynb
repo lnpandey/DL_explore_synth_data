{
  "nbformat": 4,
  "nbformat_minor": 0,
  "metadata": {
    "accelerator": "GPU",
    "colab": {
      "name": "type4_attn_ewts_distance_kernel.ipynb",
      "provenance": [],
      "collapsed_sections": []
    },
    "kernelspec": {
      "display_name": "Python 3",
      "name": "python3"
    },
    "language_info": {
      "name": "python"
    }
  },
  "cells": [
    {
      "cell_type": "code",
      "metadata": {
        "id": "BWIyC9Ip_bcq"
      },
      "source": [
        "import numpy as np\n",
        "import pandas as pd\n",
        "\n",
        "import torch\n",
        "import torchvision\n",
        "from torch.utils.data import Dataset, DataLoader\n",
        "from torchvision import transforms, utils\n",
        "import torch.nn as nn\n",
        "import torch.nn.functional as F\n",
        "import torch.optim as optim\n",
        "\n",
        "from matplotlib import pyplot as plt\n",
        "\n",
        "\n",
        "from myrmsprop import MyRmsprop\n",
        "from utils import plot_decision_boundary,attn_avg,plot_analysis\n",
        "from synthetic_dataset import MosaicDataset1\n",
        "from eval_model import calculate_attn_loss,analyse_data\n",
        "\n",
        "\n",
        "\n",
        "%matplotlib inline\n",
        "torch.backends.cudnn.deterministic = True\n",
        "torch.backends.cudnn.benchmark = False"
      ],
      "execution_count": 1,
      "outputs": []
    },
    {
      "cell_type": "code",
      "metadata": {
        "id": "lGVy-1EllAc_"
      },
      "source": [
        "train_data = np.load(\"train_type4_data.npy\",allow_pickle=True)\n",
        "\n",
        "test_data = np.load(\"test_type4_data.npy\",allow_pickle=True)"
      ],
      "execution_count": 2,
      "outputs": []
    },
    {
      "cell_type": "code",
      "metadata": {
        "id": "uL771xuGZC5Q"
      },
      "source": [
        "mosaic_list_of_images = train_data[0][\"mosaic_list\"]\n",
        "mosaic_label = train_data[0][\"mosaic_label\"]\n",
        "fore_idx = train_data[0][\"fore_idx\"]\n",
        "\n",
        "\n",
        "test_mosaic_list_of_images = test_data[0][\"mosaic_list\"]\n",
        "test_mosaic_label = test_data[0][\"mosaic_label\"]\n",
        "test_fore_idx = test_data[0][\"fore_idx\"]"
      ],
      "execution_count": 3,
      "outputs": []
    },
    {
      "cell_type": "code",
      "metadata": {
        "id": "uf76JwkxZCT0"
      },
      "source": [
        "batch = 3000\n",
        "train_dataset = MosaicDataset1(mosaic_list_of_images, mosaic_label, fore_idx)\n",
        "train_loader = DataLoader( train_dataset,batch_size= batch ,shuffle=False)\n",
        "#batch = 2000\n",
        "#test_dataset = MosaicDataset1(test_mosaic_list_of_images, test_mosaic_label, test_fore_idx)\n",
        "#test_loader = DataLoader(test_dataset,batch_size= batch ,shuffle=False)"
      ],
      "execution_count": 4,
      "outputs": []
    },
    {
      "cell_type": "code",
      "metadata": {
        "id": "DOpZfj1bq7wN"
      },
      "source": [
        "n_batches = 3000//batch\n",
        "bg = []\n",
        "for i in range(n_batches):\n",
        "  torch.manual_seed(i)\n",
        "  betag = torch.randn(3000,9)#torch.ones((250,9))/9\n",
        "  bg.append( betag.requires_grad_() )"
      ],
      "execution_count": 5,
      "outputs": []
    },
    {
      "cell_type": "code",
      "metadata": {
        "colab": {
          "base_uri": "https://localhost:8080/"
        },
        "id": "fzb3ii4drXpu",
        "outputId": "0f6314e4-c563-46a7-8abe-321921055a54"
      },
      "source": [
        "len(bg)"
      ],
      "execution_count": 6,
      "outputs": [
        {
          "output_type": "execute_result",
          "data": {
            "text/plain": [
              "1"
            ]
          },
          "metadata": {
            "tags": []
          },
          "execution_count": 6
        }
      ]
    },
    {
      "cell_type": "code",
      "metadata": {
        "id": "Am8LcQm1Og-f"
      },
      "source": [
        "data = np.load(\"dist_top1_type4.npy\",allow_pickle=True)\n",
        "indices = data[0]['indices'].numpy()\n",
        "rows,cols = np.unravel_index(indices,shape=(27000,27000))\n",
        "H = torch.zeros((27000,27000))\n",
        "H[rows,cols] =1\n",
        "#H = np.zeros((27000,27000))\n",
        "# for i, data in enumerate(train_loader, 0):\n",
        "#   print(i) # only one batch\n",
        "#   inputs,_,_ = data\n",
        "#   inputs = torch.reshape(inputs,(27000,2))\n",
        "\n",
        "#   dis = (torch.cdist(inputs,inputs)**2).to(dtype=torch.float32).flatten()\n",
        "  \n",
        "  \n",
        "\n",
        "\n",
        "\n",
        "\n"
      ],
      "execution_count": 7,
      "outputs": []
    },
    {
      "cell_type": "code",
      "metadata": {
        "colab": {
          "base_uri": "https://localhost:8080/"
        },
        "id": "vXCBGTnkosew",
        "outputId": "0a57fb07-8bbd-4e47-fbc1-abd9bdb2cd13"
      },
      "source": [
        "print(indices,rows[0],cols[0])\n",
        "# to check H contains only 7290000 elements\n",
        "torch.sum(H)"
      ],
      "execution_count": 8,
      "outputs": [
        {
          "output_type": "stream",
          "text": [
            "[ 74846772 640012206 434730224 ... 280650211 180429167 507357022] 2772 2772\n"
          ],
          "name": "stdout"
        },
        {
          "output_type": "execute_result",
          "data": {
            "text/plain": [
              "tensor(7290000.)"
            ]
          },
          "metadata": {
            "tags": []
          },
          "execution_count": 8
        }
      ]
    },
    {
      "cell_type": "code",
      "metadata": {
        "id": "HbrMidFCla6h"
      },
      "source": [
        "class Module2(nn.Module):\n",
        "  def __init__(self):\n",
        "    super(Module2, self).__init__()\n",
        "    self.linear1 = nn.Linear(2,100)\n",
        "    self.linear2 = nn.Linear(100,3)\n",
        "\n",
        "  def forward(self,x):\n",
        "    x = F.relu(self.linear1(x))\n",
        "    x = self.linear2(x)\n",
        "    return x"
      ],
      "execution_count": 9,
      "outputs": []
    },
    {
      "cell_type": "code",
      "metadata": {
        "id": "rRqj2VELllkX"
      },
      "source": [
        "torch.manual_seed(1234)\n",
        "what_net = Module2().double()\n",
        "\n",
        "#what_net.load_state_dict(torch.load(\"type4_what_net.pt\"))\n",
        "what_net = what_net.to(\"cuda\")"
      ],
      "execution_count": 10,
      "outputs": []
    },
    {
      "cell_type": "code",
      "metadata": {
        "id": "sAY-x6UAwrwE"
      },
      "source": [
        "# for param in what_net.parameters():\n",
        "#     param.requires_grad = False"
      ],
      "execution_count": 11,
      "outputs": []
    },
    {
      "cell_type": "code",
      "metadata": {
        "id": "S633XgMToeN3"
      },
      "source": [
        "optim1 = []\n",
        "H= H.to(\"cpu\")\n",
        "for i in range(n_batches):\n",
        "  optim1.append(MyRmsprop([bg[i]],H=H,lr=0.01))"
      ],
      "execution_count": 12,
      "outputs": []
    },
    {
      "cell_type": "code",
      "metadata": {
        "colab": {
          "base_uri": "https://localhost:8080/"
        },
        "id": "qPaYaojinMTA",
        "outputId": "fde10f0e-0635-4325-a0b1-e0e85f2d27c8"
      },
      "source": [
        "# instantiate optimizer\n",
        "optimizer_what = optim.RMSprop(what_net.parameters(), lr=0.001)#, momentum=0.9)#,nesterov=True)\n",
        "\n",
        "\n",
        " \n",
        "\n",
        "\n",
        "criterion = nn.CrossEntropyLoss()\n",
        "acti = []\n",
        "analysis_data_tr = []\n",
        "analysis_data_tst = []\n",
        "loss_curi_tr = []\n",
        "loss_curi_tst = []\n",
        "epochs = 200\n",
        "\n",
        "\n",
        "# calculate zeroth epoch loss and FTPT values\n",
        "running_loss,anlys_data,correct,total,accuracy = calculate_attn_loss(train_loader,bg,what_net,criterion)\n",
        "print('training epoch: [%d ] loss: %.3f correct: %.3f, total: %.3f, accuracy: %.3f' %(0,running_loss,correct,total,accuracy)) \n",
        "loss_curi_tr.append(running_loss)\n",
        "analysis_data_tr.append(anlys_data)\n",
        "\n",
        "\n",
        "\n",
        "\n",
        "# training starts \n",
        "for epoch in range(epochs): # loop over the dataset multiple times\n",
        "  ep_lossi = []\n",
        "  running_loss = 0.0\n",
        "  what_net.train()\n",
        "  for i, data in enumerate(train_loader, 0):\n",
        "    # get the inputs\n",
        "    inputs, labels,_  = data\n",
        "    inputs = inputs.double()\n",
        "    beta = bg[i] # alpha for ith batch\n",
        "    #print(labels)\n",
        "    inputs, labels,beta = inputs.to(\"cuda\"),labels.to(\"cuda\"),beta.to(\"cuda\")\n",
        "        \n",
        "    # zero the parameter gradients\n",
        "    optimizer_what.zero_grad()\n",
        "    optim1[i].zero_grad()\n",
        "      \n",
        "    # forward + backward + optimize\n",
        "    avg,alpha = attn_avg(inputs,beta)\n",
        "    outputs = what_net(avg)     \n",
        "    loss = criterion(outputs, labels)\n",
        "\n",
        "    # print statistics\n",
        "    running_loss += loss.item()\n",
        "    #alpha.retain_grad()\n",
        "    loss.backward(retain_graph=False)\n",
        "    optimizer_what.step()\n",
        "    optim1[i].step()\n",
        "\n",
        "\n",
        "  running_loss_tr,anls_data,correct,total,accuracy = calculate_attn_loss(train_loader,bg,what_net,criterion)\n",
        "  analysis_data_tr.append(anls_data)\n",
        "  loss_curi_tr.append(running_loss_tr)   #loss per epoch\n",
        "  print('training epoch: [%d ] loss: %.3f correct: %.3f, total: %.3f, accuracy: %.3f' %(epoch+1,running_loss_tr,correct,total,accuracy)) \n",
        "\n",
        "\n",
        "  \n",
        "  if running_loss_tr<=0.08:\n",
        "    break\n",
        "print('Finished Training run ')\n",
        "analysis_data_tr = np.array(analysis_data_tr)\n",
        "\n"
      ],
      "execution_count": 13,
      "outputs": [
        {
          "output_type": "stream",
          "text": [
            "training epoch: [0 ] loss: 1.478 correct: 971.000, total: 3000.000, accuracy: 0.324\n",
            "training epoch: [1 ] loss: 1.145 correct: 991.000, total: 3000.000, accuracy: 0.330\n",
            "training epoch: [2 ] loss: 1.183 correct: 1047.000, total: 3000.000, accuracy: 0.349\n",
            "training epoch: [3 ] loss: 1.151 correct: 1029.000, total: 3000.000, accuracy: 0.343\n",
            "training epoch: [4 ] loss: 1.110 correct: 1047.000, total: 3000.000, accuracy: 0.349\n",
            "training epoch: [5 ] loss: 1.099 correct: 1054.000, total: 3000.000, accuracy: 0.351\n",
            "training epoch: [6 ] loss: 1.094 correct: 1080.000, total: 3000.000, accuracy: 0.360\n",
            "training epoch: [7 ] loss: 1.090 correct: 1076.000, total: 3000.000, accuracy: 0.359\n",
            "training epoch: [8 ] loss: 1.088 correct: 1092.000, total: 3000.000, accuracy: 0.364\n",
            "training epoch: [9 ] loss: 1.086 correct: 1110.000, total: 3000.000, accuracy: 0.370\n",
            "training epoch: [10 ] loss: 1.084 correct: 1122.000, total: 3000.000, accuracy: 0.374\n",
            "training epoch: [11 ] loss: 1.082 correct: 1144.000, total: 3000.000, accuracy: 0.381\n",
            "training epoch: [12 ] loss: 1.080 correct: 1159.000, total: 3000.000, accuracy: 0.386\n",
            "training epoch: [13 ] loss: 1.077 correct: 1175.000, total: 3000.000, accuracy: 0.392\n",
            "training epoch: [14 ] loss: 1.074 correct: 1183.000, total: 3000.000, accuracy: 0.394\n",
            "training epoch: [15 ] loss: 1.071 correct: 1199.000, total: 3000.000, accuracy: 0.400\n",
            "training epoch: [16 ] loss: 1.067 correct: 1221.000, total: 3000.000, accuracy: 0.407\n",
            "training epoch: [17 ] loss: 1.063 correct: 1223.000, total: 3000.000, accuracy: 0.408\n",
            "training epoch: [18 ] loss: 1.059 correct: 1256.000, total: 3000.000, accuracy: 0.419\n",
            "training epoch: [19 ] loss: 1.054 correct: 1244.000, total: 3000.000, accuracy: 0.415\n",
            "training epoch: [20 ] loss: 1.049 correct: 1278.000, total: 3000.000, accuracy: 0.426\n",
            "training epoch: [21 ] loss: 1.044 correct: 1280.000, total: 3000.000, accuracy: 0.427\n",
            "training epoch: [22 ] loss: 1.039 correct: 1294.000, total: 3000.000, accuracy: 0.431\n",
            "training epoch: [23 ] loss: 1.033 correct: 1305.000, total: 3000.000, accuracy: 0.435\n",
            "training epoch: [24 ] loss: 1.027 correct: 1330.000, total: 3000.000, accuracy: 0.443\n",
            "training epoch: [25 ] loss: 1.020 correct: 1340.000, total: 3000.000, accuracy: 0.447\n",
            "training epoch: [26 ] loss: 1.014 correct: 1384.000, total: 3000.000, accuracy: 0.461\n",
            "training epoch: [27 ] loss: 1.007 correct: 1379.000, total: 3000.000, accuracy: 0.460\n",
            "training epoch: [28 ] loss: 1.000 correct: 1437.000, total: 3000.000, accuracy: 0.479\n",
            "training epoch: [29 ] loss: 0.993 correct: 1422.000, total: 3000.000, accuracy: 0.474\n",
            "training epoch: [30 ] loss: 0.987 correct: 1488.000, total: 3000.000, accuracy: 0.496\n",
            "training epoch: [31 ] loss: 0.980 correct: 1463.000, total: 3000.000, accuracy: 0.488\n",
            "training epoch: [32 ] loss: 0.973 correct: 1542.000, total: 3000.000, accuracy: 0.514\n",
            "training epoch: [33 ] loss: 0.965 correct: 1487.000, total: 3000.000, accuracy: 0.496\n",
            "training epoch: [34 ] loss: 0.957 correct: 1556.000, total: 3000.000, accuracy: 0.519\n",
            "training epoch: [35 ] loss: 0.948 correct: 1513.000, total: 3000.000, accuracy: 0.504\n",
            "training epoch: [36 ] loss: 0.940 correct: 1589.000, total: 3000.000, accuracy: 0.530\n",
            "training epoch: [37 ] loss: 0.930 correct: 1573.000, total: 3000.000, accuracy: 0.524\n",
            "training epoch: [38 ] loss: 0.921 correct: 1629.000, total: 3000.000, accuracy: 0.543\n",
            "training epoch: [39 ] loss: 0.911 correct: 1624.000, total: 3000.000, accuracy: 0.541\n",
            "training epoch: [40 ] loss: 0.902 correct: 1665.000, total: 3000.000, accuracy: 0.555\n",
            "training epoch: [41 ] loss: 0.893 correct: 1679.000, total: 3000.000, accuracy: 0.560\n",
            "training epoch: [42 ] loss: 0.884 correct: 1713.000, total: 3000.000, accuracy: 0.571\n",
            "training epoch: [43 ] loss: 0.875 correct: 1728.000, total: 3000.000, accuracy: 0.576\n",
            "training epoch: [44 ] loss: 0.865 correct: 1766.000, total: 3000.000, accuracy: 0.589\n",
            "training epoch: [45 ] loss: 0.856 correct: 1780.000, total: 3000.000, accuracy: 0.593\n",
            "training epoch: [46 ] loss: 0.847 correct: 1819.000, total: 3000.000, accuracy: 0.606\n",
            "training epoch: [47 ] loss: 0.838 correct: 1839.000, total: 3000.000, accuracy: 0.613\n",
            "training epoch: [48 ] loss: 0.829 correct: 1870.000, total: 3000.000, accuracy: 0.623\n",
            "training epoch: [49 ] loss: 0.820 correct: 1894.000, total: 3000.000, accuracy: 0.631\n",
            "training epoch: [50 ] loss: 0.811 correct: 1913.000, total: 3000.000, accuracy: 0.638\n",
            "training epoch: [51 ] loss: 0.802 correct: 1956.000, total: 3000.000, accuracy: 0.652\n",
            "training epoch: [52 ] loss: 0.793 correct: 1965.000, total: 3000.000, accuracy: 0.655\n",
            "training epoch: [53 ] loss: 0.785 correct: 2006.000, total: 3000.000, accuracy: 0.669\n",
            "training epoch: [54 ] loss: 0.776 correct: 2027.000, total: 3000.000, accuracy: 0.676\n",
            "training epoch: [55 ] loss: 0.768 correct: 2046.000, total: 3000.000, accuracy: 0.682\n",
            "training epoch: [56 ] loss: 0.759 correct: 2084.000, total: 3000.000, accuracy: 0.695\n",
            "training epoch: [57 ] loss: 0.751 correct: 2092.000, total: 3000.000, accuracy: 0.697\n",
            "training epoch: [58 ] loss: 0.743 correct: 2130.000, total: 3000.000, accuracy: 0.710\n",
            "training epoch: [59 ] loss: 0.735 correct: 2136.000, total: 3000.000, accuracy: 0.712\n",
            "training epoch: [60 ] loss: 0.727 correct: 2167.000, total: 3000.000, accuracy: 0.722\n",
            "training epoch: [61 ] loss: 0.719 correct: 2192.000, total: 3000.000, accuracy: 0.731\n",
            "training epoch: [62 ] loss: 0.712 correct: 2211.000, total: 3000.000, accuracy: 0.737\n",
            "training epoch: [63 ] loss: 0.704 correct: 2226.000, total: 3000.000, accuracy: 0.742\n",
            "training epoch: [64 ] loss: 0.697 correct: 2242.000, total: 3000.000, accuracy: 0.747\n",
            "training epoch: [65 ] loss: 0.689 correct: 2267.000, total: 3000.000, accuracy: 0.756\n",
            "training epoch: [66 ] loss: 0.682 correct: 2284.000, total: 3000.000, accuracy: 0.761\n",
            "training epoch: [67 ] loss: 0.675 correct: 2299.000, total: 3000.000, accuracy: 0.766\n",
            "training epoch: [68 ] loss: 0.669 correct: 2322.000, total: 3000.000, accuracy: 0.774\n",
            "training epoch: [69 ] loss: 0.662 correct: 2317.000, total: 3000.000, accuracy: 0.772\n",
            "training epoch: [70 ] loss: 0.655 correct: 2353.000, total: 3000.000, accuracy: 0.784\n",
            "training epoch: [71 ] loss: 0.649 correct: 2337.000, total: 3000.000, accuracy: 0.779\n",
            "training epoch: [72 ] loss: 0.643 correct: 2395.000, total: 3000.000, accuracy: 0.798\n",
            "training epoch: [73 ] loss: 0.636 correct: 2355.000, total: 3000.000, accuracy: 0.785\n",
            "training epoch: [74 ] loss: 0.630 correct: 2415.000, total: 3000.000, accuracy: 0.805\n",
            "training epoch: [75 ] loss: 0.625 correct: 2357.000, total: 3000.000, accuracy: 0.786\n",
            "training epoch: [76 ] loss: 0.619 correct: 2418.000, total: 3000.000, accuracy: 0.806\n",
            "training epoch: [77 ] loss: 0.614 correct: 2309.000, total: 3000.000, accuracy: 0.770\n",
            "training epoch: [78 ] loss: 0.609 correct: 2355.000, total: 3000.000, accuracy: 0.785\n",
            "training epoch: [79 ] loss: 0.604 correct: 2217.000, total: 3000.000, accuracy: 0.739\n",
            "training epoch: [80 ] loss: 0.600 correct: 2218.000, total: 3000.000, accuracy: 0.739\n",
            "training epoch: [81 ] loss: 0.596 correct: 2074.000, total: 3000.000, accuracy: 0.691\n",
            "training epoch: [82 ] loss: 0.592 correct: 2112.000, total: 3000.000, accuracy: 0.704\n",
            "training epoch: [83 ] loss: 0.589 correct: 1996.000, total: 3000.000, accuracy: 0.665\n",
            "training epoch: [84 ] loss: 0.585 correct: 2092.000, total: 3000.000, accuracy: 0.697\n",
            "training epoch: [85 ] loss: 0.580 correct: 2002.000, total: 3000.000, accuracy: 0.667\n",
            "training epoch: [86 ] loss: 0.574 correct: 2134.000, total: 3000.000, accuracy: 0.711\n",
            "training epoch: [87 ] loss: 0.568 correct: 2104.000, total: 3000.000, accuracy: 0.701\n",
            "training epoch: [88 ] loss: 0.562 correct: 2279.000, total: 3000.000, accuracy: 0.760\n",
            "training epoch: [89 ] loss: 0.556 correct: 2271.000, total: 3000.000, accuracy: 0.757\n",
            "training epoch: [90 ] loss: 0.551 correct: 2459.000, total: 3000.000, accuracy: 0.820\n",
            "training epoch: [91 ] loss: 0.546 correct: 2425.000, total: 3000.000, accuracy: 0.808\n",
            "training epoch: [92 ] loss: 0.541 correct: 2570.000, total: 3000.000, accuracy: 0.857\n",
            "training epoch: [93 ] loss: 0.536 correct: 2519.000, total: 3000.000, accuracy: 0.840\n",
            "training epoch: [94 ] loss: 0.532 correct: 2629.000, total: 3000.000, accuracy: 0.876\n",
            "training epoch: [95 ] loss: 0.528 correct: 2578.000, total: 3000.000, accuracy: 0.859\n",
            "training epoch: [96 ] loss: 0.524 correct: 2672.000, total: 3000.000, accuracy: 0.891\n",
            "training epoch: [97 ] loss: 0.519 correct: 2617.000, total: 3000.000, accuracy: 0.872\n",
            "training epoch: [98 ] loss: 0.515 correct: 2699.000, total: 3000.000, accuracy: 0.900\n",
            "training epoch: [99 ] loss: 0.512 correct: 2654.000, total: 3000.000, accuracy: 0.885\n",
            "training epoch: [100 ] loss: 0.508 correct: 2715.000, total: 3000.000, accuracy: 0.905\n",
            "training epoch: [101 ] loss: 0.504 correct: 2675.000, total: 3000.000, accuracy: 0.892\n",
            "training epoch: [102 ] loss: 0.500 correct: 2718.000, total: 3000.000, accuracy: 0.906\n",
            "training epoch: [103 ] loss: 0.497 correct: 2698.000, total: 3000.000, accuracy: 0.899\n",
            "training epoch: [104 ] loss: 0.493 correct: 2734.000, total: 3000.000, accuracy: 0.911\n",
            "training epoch: [105 ] loss: 0.490 correct: 2709.000, total: 3000.000, accuracy: 0.903\n",
            "training epoch: [106 ] loss: 0.486 correct: 2750.000, total: 3000.000, accuracy: 0.917\n",
            "training epoch: [107 ] loss: 0.483 correct: 2726.000, total: 3000.000, accuracy: 0.909\n",
            "training epoch: [108 ] loss: 0.479 correct: 2761.000, total: 3000.000, accuracy: 0.920\n",
            "training epoch: [109 ] loss: 0.476 correct: 2749.000, total: 3000.000, accuracy: 0.916\n",
            "training epoch: [110 ] loss: 0.473 correct: 2771.000, total: 3000.000, accuracy: 0.924\n",
            "training epoch: [111 ] loss: 0.470 correct: 2757.000, total: 3000.000, accuracy: 0.919\n",
            "training epoch: [112 ] loss: 0.466 correct: 2786.000, total: 3000.000, accuracy: 0.929\n",
            "training epoch: [113 ] loss: 0.463 correct: 2771.000, total: 3000.000, accuracy: 0.924\n",
            "training epoch: [114 ] loss: 0.460 correct: 2791.000, total: 3000.000, accuracy: 0.930\n",
            "training epoch: [115 ] loss: 0.457 correct: 2779.000, total: 3000.000, accuracy: 0.926\n",
            "training epoch: [116 ] loss: 0.454 correct: 2800.000, total: 3000.000, accuracy: 0.933\n",
            "training epoch: [117 ] loss: 0.451 correct: 2777.000, total: 3000.000, accuracy: 0.926\n",
            "training epoch: [118 ] loss: 0.448 correct: 2803.000, total: 3000.000, accuracy: 0.934\n",
            "training epoch: [119 ] loss: 0.445 correct: 2772.000, total: 3000.000, accuracy: 0.924\n",
            "training epoch: [120 ] loss: 0.442 correct: 2809.000, total: 3000.000, accuracy: 0.936\n",
            "training epoch: [121 ] loss: 0.440 correct: 2766.000, total: 3000.000, accuracy: 0.922\n",
            "training epoch: [122 ] loss: 0.437 correct: 2801.000, total: 3000.000, accuracy: 0.934\n",
            "training epoch: [123 ] loss: 0.434 correct: 2742.000, total: 3000.000, accuracy: 0.914\n",
            "training epoch: [124 ] loss: 0.432 correct: 2789.000, total: 3000.000, accuracy: 0.930\n",
            "training epoch: [125 ] loss: 0.430 correct: 2722.000, total: 3000.000, accuracy: 0.907\n",
            "training epoch: [126 ] loss: 0.428 correct: 2765.000, total: 3000.000, accuracy: 0.922\n",
            "training epoch: [127 ] loss: 0.426 correct: 2681.000, total: 3000.000, accuracy: 0.894\n",
            "training epoch: [128 ] loss: 0.424 correct: 2749.000, total: 3000.000, accuracy: 0.916\n",
            "training epoch: [129 ] loss: 0.421 correct: 2671.000, total: 3000.000, accuracy: 0.890\n",
            "training epoch: [130 ] loss: 0.419 correct: 2751.000, total: 3000.000, accuracy: 0.917\n",
            "training epoch: [131 ] loss: 0.416 correct: 2689.000, total: 3000.000, accuracy: 0.896\n",
            "training epoch: [132 ] loss: 0.413 correct: 2777.000, total: 3000.000, accuracy: 0.926\n",
            "training epoch: [133 ] loss: 0.410 correct: 2736.000, total: 3000.000, accuracy: 0.912\n",
            "training epoch: [134 ] loss: 0.407 correct: 2808.000, total: 3000.000, accuracy: 0.936\n",
            "training epoch: [135 ] loss: 0.403 correct: 2778.000, total: 3000.000, accuracy: 0.926\n",
            "training epoch: [136 ] loss: 0.400 correct: 2850.000, total: 3000.000, accuracy: 0.950\n",
            "training epoch: [137 ] loss: 0.397 correct: 2805.000, total: 3000.000, accuracy: 0.935\n",
            "training epoch: [138 ] loss: 0.395 correct: 2869.000, total: 3000.000, accuracy: 0.956\n",
            "training epoch: [139 ] loss: 0.392 correct: 2830.000, total: 3000.000, accuracy: 0.943\n",
            "training epoch: [140 ] loss: 0.389 correct: 2881.000, total: 3000.000, accuracy: 0.960\n",
            "training epoch: [141 ] loss: 0.387 correct: 2851.000, total: 3000.000, accuracy: 0.950\n",
            "training epoch: [142 ] loss: 0.384 correct: 2888.000, total: 3000.000, accuracy: 0.963\n",
            "training epoch: [143 ] loss: 0.382 correct: 2868.000, total: 3000.000, accuracy: 0.956\n",
            "training epoch: [144 ] loss: 0.379 correct: 2891.000, total: 3000.000, accuracy: 0.964\n",
            "training epoch: [145 ] loss: 0.377 correct: 2877.000, total: 3000.000, accuracy: 0.959\n",
            "training epoch: [146 ] loss: 0.375 correct: 2896.000, total: 3000.000, accuracy: 0.965\n",
            "training epoch: [147 ] loss: 0.372 correct: 2885.000, total: 3000.000, accuracy: 0.962\n",
            "training epoch: [148 ] loss: 0.370 correct: 2901.000, total: 3000.000, accuracy: 0.967\n",
            "training epoch: [149 ] loss: 0.368 correct: 2887.000, total: 3000.000, accuracy: 0.962\n",
            "training epoch: [150 ] loss: 0.366 correct: 2904.000, total: 3000.000, accuracy: 0.968\n",
            "training epoch: [151 ] loss: 0.363 correct: 2890.000, total: 3000.000, accuracy: 0.963\n",
            "training epoch: [152 ] loss: 0.361 correct: 2909.000, total: 3000.000, accuracy: 0.970\n",
            "training epoch: [153 ] loss: 0.359 correct: 2896.000, total: 3000.000, accuracy: 0.965\n",
            "training epoch: [154 ] loss: 0.357 correct: 2917.000, total: 3000.000, accuracy: 0.972\n",
            "training epoch: [155 ] loss: 0.355 correct: 2896.000, total: 3000.000, accuracy: 0.965\n",
            "training epoch: [156 ] loss: 0.353 correct: 2921.000, total: 3000.000, accuracy: 0.974\n",
            "training epoch: [157 ] loss: 0.351 correct: 2900.000, total: 3000.000, accuracy: 0.967\n",
            "training epoch: [158 ] loss: 0.349 correct: 2923.000, total: 3000.000, accuracy: 0.974\n",
            "training epoch: [159 ] loss: 0.347 correct: 2902.000, total: 3000.000, accuracy: 0.967\n",
            "training epoch: [160 ] loss: 0.345 correct: 2921.000, total: 3000.000, accuracy: 0.974\n",
            "training epoch: [161 ] loss: 0.343 correct: 2904.000, total: 3000.000, accuracy: 0.968\n",
            "training epoch: [162 ] loss: 0.341 correct: 2917.000, total: 3000.000, accuracy: 0.972\n",
            "training epoch: [163 ] loss: 0.339 correct: 2907.000, total: 3000.000, accuracy: 0.969\n",
            "training epoch: [164 ] loss: 0.338 correct: 2917.000, total: 3000.000, accuracy: 0.972\n",
            "training epoch: [165 ] loss: 0.336 correct: 2905.000, total: 3000.000, accuracy: 0.968\n",
            "training epoch: [166 ] loss: 0.334 correct: 2917.000, total: 3000.000, accuracy: 0.972\n",
            "training epoch: [167 ] loss: 0.333 correct: 2903.000, total: 3000.000, accuracy: 0.968\n",
            "training epoch: [168 ] loss: 0.331 correct: 2920.000, total: 3000.000, accuracy: 0.973\n",
            "training epoch: [169 ] loss: 0.329 correct: 2901.000, total: 3000.000, accuracy: 0.967\n",
            "training epoch: [170 ] loss: 0.328 correct: 2919.000, total: 3000.000, accuracy: 0.973\n",
            "training epoch: [171 ] loss: 0.326 correct: 2898.000, total: 3000.000, accuracy: 0.966\n",
            "training epoch: [172 ] loss: 0.324 correct: 2922.000, total: 3000.000, accuracy: 0.974\n",
            "training epoch: [173 ] loss: 0.323 correct: 2901.000, total: 3000.000, accuracy: 0.967\n",
            "training epoch: [174 ] loss: 0.321 correct: 2924.000, total: 3000.000, accuracy: 0.975\n",
            "training epoch: [175 ] loss: 0.319 correct: 2904.000, total: 3000.000, accuracy: 0.968\n",
            "training epoch: [176 ] loss: 0.317 correct: 2924.000, total: 3000.000, accuracy: 0.975\n",
            "training epoch: [177 ] loss: 0.315 correct: 2912.000, total: 3000.000, accuracy: 0.971\n",
            "training epoch: [178 ] loss: 0.313 correct: 2928.000, total: 3000.000, accuracy: 0.976\n",
            "training epoch: [179 ] loss: 0.311 correct: 2918.000, total: 3000.000, accuracy: 0.973\n",
            "training epoch: [180 ] loss: 0.309 correct: 2936.000, total: 3000.000, accuracy: 0.979\n",
            "training epoch: [181 ] loss: 0.307 correct: 2928.000, total: 3000.000, accuracy: 0.976\n",
            "training epoch: [182 ] loss: 0.305 correct: 2938.000, total: 3000.000, accuracy: 0.979\n",
            "training epoch: [183 ] loss: 0.303 correct: 2931.000, total: 3000.000, accuracy: 0.977\n",
            "training epoch: [184 ] loss: 0.301 correct: 2943.000, total: 3000.000, accuracy: 0.981\n",
            "training epoch: [185 ] loss: 0.299 correct: 2936.000, total: 3000.000, accuracy: 0.979\n",
            "training epoch: [186 ] loss: 0.297 correct: 2946.000, total: 3000.000, accuracy: 0.982\n",
            "training epoch: [187 ] loss: 0.296 correct: 2943.000, total: 3000.000, accuracy: 0.981\n",
            "training epoch: [188 ] loss: 0.294 correct: 2948.000, total: 3000.000, accuracy: 0.983\n",
            "training epoch: [189 ] loss: 0.292 correct: 2947.000, total: 3000.000, accuracy: 0.982\n",
            "training epoch: [190 ] loss: 0.291 correct: 2948.000, total: 3000.000, accuracy: 0.983\n",
            "training epoch: [191 ] loss: 0.289 correct: 2948.000, total: 3000.000, accuracy: 0.983\n",
            "training epoch: [192 ] loss: 0.287 correct: 2951.000, total: 3000.000, accuracy: 0.984\n",
            "training epoch: [193 ] loss: 0.286 correct: 2952.000, total: 3000.000, accuracy: 0.984\n",
            "training epoch: [194 ] loss: 0.284 correct: 2954.000, total: 3000.000, accuracy: 0.985\n",
            "training epoch: [195 ] loss: 0.282 correct: 2953.000, total: 3000.000, accuracy: 0.984\n",
            "training epoch: [196 ] loss: 0.281 correct: 2956.000, total: 3000.000, accuracy: 0.985\n",
            "training epoch: [197 ] loss: 0.279 correct: 2953.000, total: 3000.000, accuracy: 0.984\n",
            "training epoch: [198 ] loss: 0.278 correct: 2960.000, total: 3000.000, accuracy: 0.987\n",
            "training epoch: [199 ] loss: 0.276 correct: 2954.000, total: 3000.000, accuracy: 0.985\n",
            "training epoch: [200 ] loss: 0.275 correct: 2960.000, total: 3000.000, accuracy: 0.987\n",
            "Finished Training run \n"
          ],
          "name": "stdout"
        }
      ]
    },
    {
      "cell_type": "code",
      "metadata": {
        "id": "AciJnAh5nfug"
      },
      "source": [
        "columns = [\"epochs\", \"argmax > 0.5\" ,\"argmax < 0.5\", \"focus_true_pred_true\", \"focus_false_pred_true\", \"focus_true_pred_false\", \"focus_false_pred_false\" ]\n",
        "df_train = pd.DataFrame()\n",
        "df_test = pd.DataFrame()\n",
        "df_train[columns[0]] = np.arange(0,epoch+2)\n",
        "df_train[columns[1]] = analysis_data_tr[:,-2]/30\n",
        "df_train[columns[2]] = analysis_data_tr[:,-1]/30\n",
        "df_train[columns[3]] = analysis_data_tr[:,0]/30\n",
        "df_train[columns[4]] = analysis_data_tr[:,1]/30\n",
        "df_train[columns[5]] = analysis_data_tr[:,2]/30\n",
        "df_train[columns[6]] = analysis_data_tr[:,3]/30"
      ],
      "execution_count": 14,
      "outputs": []
    },
    {
      "cell_type": "code",
      "metadata": {
        "colab": {
          "base_uri": "https://localhost:8080/",
          "height": 456
        },
        "id": "NoQpS_6scRsC",
        "outputId": "aa090cfc-0fe8-4643-fbf0-43bb2135ab4a"
      },
      "source": [
        "df_train"
      ],
      "execution_count": 15,
      "outputs": [
        {
          "output_type": "execute_result",
          "data": {
            "text/html": [
              "<div>\n",
              "<style scoped>\n",
              "    .dataframe tbody tr th:only-of-type {\n",
              "        vertical-align: middle;\n",
              "    }\n",
              "\n",
              "    .dataframe tbody tr th {\n",
              "        vertical-align: top;\n",
              "    }\n",
              "\n",
              "    .dataframe thead th {\n",
              "        text-align: right;\n",
              "    }\n",
              "</style>\n",
              "<table border=\"1\" class=\"dataframe\">\n",
              "  <thead>\n",
              "    <tr style=\"text-align: right;\">\n",
              "      <th></th>\n",
              "      <th>epochs</th>\n",
              "      <th>argmax &gt; 0.5</th>\n",
              "      <th>argmax &lt; 0.5</th>\n",
              "      <th>focus_true_pred_true</th>\n",
              "      <th>focus_false_pred_true</th>\n",
              "      <th>focus_true_pred_false</th>\n",
              "      <th>focus_false_pred_false</th>\n",
              "    </tr>\n",
              "  </thead>\n",
              "  <tbody>\n",
              "    <tr>\n",
              "      <th>0</th>\n",
              "      <td>0</td>\n",
              "      <td>9.800000</td>\n",
              "      <td>90.200000</td>\n",
              "      <td>3.800000</td>\n",
              "      <td>28.566667</td>\n",
              "      <td>7.966667</td>\n",
              "      <td>59.666667</td>\n",
              "    </tr>\n",
              "    <tr>\n",
              "      <th>1</th>\n",
              "      <td>1</td>\n",
              "      <td>10.100000</td>\n",
              "      <td>89.900000</td>\n",
              "      <td>3.600000</td>\n",
              "      <td>29.433333</td>\n",
              "      <td>9.033333</td>\n",
              "      <td>57.933333</td>\n",
              "    </tr>\n",
              "    <tr>\n",
              "      <th>2</th>\n",
              "      <td>2</td>\n",
              "      <td>10.000000</td>\n",
              "      <td>90.000000</td>\n",
              "      <td>5.066667</td>\n",
              "      <td>29.833333</td>\n",
              "      <td>8.400000</td>\n",
              "      <td>56.700000</td>\n",
              "    </tr>\n",
              "    <tr>\n",
              "      <th>3</th>\n",
              "      <td>3</td>\n",
              "      <td>10.400000</td>\n",
              "      <td>89.600000</td>\n",
              "      <td>5.333333</td>\n",
              "      <td>28.966667</td>\n",
              "      <td>8.366667</td>\n",
              "      <td>57.333333</td>\n",
              "    </tr>\n",
              "    <tr>\n",
              "      <th>4</th>\n",
              "      <td>4</td>\n",
              "      <td>10.466667</td>\n",
              "      <td>89.533333</td>\n",
              "      <td>5.500000</td>\n",
              "      <td>29.400000</td>\n",
              "      <td>9.166667</td>\n",
              "      <td>55.933333</td>\n",
              "    </tr>\n",
              "    <tr>\n",
              "      <th>...</th>\n",
              "      <td>...</td>\n",
              "      <td>...</td>\n",
              "      <td>...</td>\n",
              "      <td>...</td>\n",
              "      <td>...</td>\n",
              "      <td>...</td>\n",
              "      <td>...</td>\n",
              "    </tr>\n",
              "    <tr>\n",
              "      <th>196</th>\n",
              "      <td>196</td>\n",
              "      <td>99.466667</td>\n",
              "      <td>0.533333</td>\n",
              "      <td>98.333333</td>\n",
              "      <td>0.200000</td>\n",
              "      <td>1.433333</td>\n",
              "      <td>0.033333</td>\n",
              "    </tr>\n",
              "    <tr>\n",
              "      <th>197</th>\n",
              "      <td>197</td>\n",
              "      <td>99.466667</td>\n",
              "      <td>0.533333</td>\n",
              "      <td>98.233333</td>\n",
              "      <td>0.200000</td>\n",
              "      <td>1.533333</td>\n",
              "      <td>0.033333</td>\n",
              "    </tr>\n",
              "    <tr>\n",
              "      <th>198</th>\n",
              "      <td>198</td>\n",
              "      <td>99.466667</td>\n",
              "      <td>0.533333</td>\n",
              "      <td>98.466667</td>\n",
              "      <td>0.200000</td>\n",
              "      <td>1.300000</td>\n",
              "      <td>0.033333</td>\n",
              "    </tr>\n",
              "    <tr>\n",
              "      <th>199</th>\n",
              "      <td>199</td>\n",
              "      <td>99.466667</td>\n",
              "      <td>0.533333</td>\n",
              "      <td>98.266667</td>\n",
              "      <td>0.200000</td>\n",
              "      <td>1.500000</td>\n",
              "      <td>0.033333</td>\n",
              "    </tr>\n",
              "    <tr>\n",
              "      <th>200</th>\n",
              "      <td>200</td>\n",
              "      <td>99.500000</td>\n",
              "      <td>0.500000</td>\n",
              "      <td>98.466667</td>\n",
              "      <td>0.200000</td>\n",
              "      <td>1.300000</td>\n",
              "      <td>0.033333</td>\n",
              "    </tr>\n",
              "  </tbody>\n",
              "</table>\n",
              "<p>201 rows × 7 columns</p>\n",
              "</div>"
            ],
            "text/plain": [
              "     epochs  argmax > 0.5  ...  focus_true_pred_false  focus_false_pred_false\n",
              "0         0      9.800000  ...               7.966667               59.666667\n",
              "1         1     10.100000  ...               9.033333               57.933333\n",
              "2         2     10.000000  ...               8.400000               56.700000\n",
              "3         3     10.400000  ...               8.366667               57.333333\n",
              "4         4     10.466667  ...               9.166667               55.933333\n",
              "..      ...           ...  ...                    ...                     ...\n",
              "196     196     99.466667  ...               1.433333                0.033333\n",
              "197     197     99.466667  ...               1.533333                0.033333\n",
              "198     198     99.466667  ...               1.300000                0.033333\n",
              "199     199     99.466667  ...               1.500000                0.033333\n",
              "200     200     99.500000  ...               1.300000                0.033333\n",
              "\n",
              "[201 rows x 7 columns]"
            ]
          },
          "metadata": {
            "tags": []
          },
          "execution_count": 15
        }
      ]
    },
    {
      "cell_type": "code",
      "metadata": {
        "colab": {
          "base_uri": "https://localhost:8080/",
          "height": 404
        },
        "id": "EY_j8B274vuH",
        "outputId": "c03f936a-c5a4-4988-b7a1-77d71c2cb688"
      },
      "source": [
        "plot_analysis(df_train,columns)"
      ],
      "execution_count": 16,
      "outputs": [
        {
          "output_type": "display_data",
          "data": {
            "image/png": "[encoded data removed]",
            "text/plain": [
              "<Figure size 432x432 with 1 Axes>"
            ]
          },
          "metadata": {
            "tags": [],
            "needs_background": "light"
          }
        }
      ]
    },
    {
      "cell_type": "code",
      "metadata": {
        "id": "VCnS6r2_3WdU"
      },
      "source": [
        "aph = []\n",
        "for i in bg:\n",
        "  aph.append(F.softmax(i,dim=1).detach().numpy())\n",
        "  \n",
        "aph = np.concatenate(aph,axis=0)\n",
        "# torch.save({\n",
        "#             'epoch': 500,\n",
        "#             'model_state_dict': what_net.state_dict(),\n",
        "#             #'optimizer_state_dict': optimizer_what.state_dict(),\n",
        "#             \"optimizer_alpha\":optim1,\n",
        "#             \"FTPT_analysis\":analysis_data_tr,\n",
        "#             \"alpha\":aph\n",
        "\n",
        "#             }, \"type4_what_net_500.pt\")"
      ],
      "execution_count": 17,
      "outputs": []
    },
    {
      "cell_type": "code",
      "metadata": {
        "colab": {
          "base_uri": "https://localhost:8080/"
        },
        "id": "KVzrDOGS4UxU",
        "outputId": "f82c7082-e282-4fc8-c8ca-1aee9facd29e"
      },
      "source": [
        "aph[0]"
      ],
      "execution_count": 18,
      "outputs": [
        {
          "output_type": "execute_result",
          "data": {
            "text/plain": [
              "array([6.6351320e-04, 1.4633788e-03, 2.5112494e-03, 9.7252095e-01,\n",
              "       8.4994016e-03, 8.0541046e-03, 2.2785449e-03, 3.1881678e-04,\n",
              "       3.6899794e-03], dtype=float32)"
            ]
          },
          "metadata": {
            "tags": []
          },
          "execution_count": 18
        }
      ]
    },
    {
      "cell_type": "code",
      "metadata": {
        "id": "7Ut6ZTAXbvqx"
      },
      "source": [
        "avrg = []\n",
        "with torch.no_grad():\n",
        "  for i, data1 in  enumerate(train_loader):\n",
        "          inputs , labels , fore_idx = data1\n",
        "          inputs = inputs.double()\n",
        "          inputs, labels = inputs.to(\"cuda\"),labels.to(\"cuda\")\n",
        "          beta  = bg[i]\n",
        "          beta = beta.to(\"cuda\")\n",
        "          avg,alpha = attn_avg(inputs,beta)\n",
        "          \n",
        "          avrg.append(avg.detach().cpu().numpy())\n",
        "avrg= np.concatenate(avrg,axis=0)"
      ],
      "execution_count": 19,
      "outputs": []
    },
    {
      "cell_type": "code",
      "metadata": {
        "id": "2KQFYlmTLG0N",
        "colab": {
          "base_uri": "https://localhost:8080/",
          "height": 391
        },
        "outputId": "518057ee-6aba-4317-c6d6-edfb97e44d23"
      },
      "source": [
        "data = np.load(\"type_4_data.npy\",allow_pickle=True)\n",
        "plot_decision_boundary(what_net,[1,8,2,9],data,bg,avrg)"
      ],
      "execution_count": 20,
      "outputs": [
        {
          "output_type": "display_data",
          "data": {
            "image/png": "[encoded data removed]",
            "text/plain": [
              "<Figure size 432x432 with 1 Axes>"
            ]
          },
          "metadata": {
            "tags": [],
            "needs_background": "light"
          }
        },
        {
          "output_type": "display_data",
          "data": {
            "text/plain": [
              "<Figure size 432x288 with 0 Axes>"
            ]
          },
          "metadata": {
            "tags": []
          }
        }
      ]
    },
    {
      "cell_type": "code",
      "metadata": {
        "id": "0TlpHSOC0hfk"
      },
      "source": [
        ""
      ],
      "execution_count": 20,
      "outputs": []
    }
  ]
}