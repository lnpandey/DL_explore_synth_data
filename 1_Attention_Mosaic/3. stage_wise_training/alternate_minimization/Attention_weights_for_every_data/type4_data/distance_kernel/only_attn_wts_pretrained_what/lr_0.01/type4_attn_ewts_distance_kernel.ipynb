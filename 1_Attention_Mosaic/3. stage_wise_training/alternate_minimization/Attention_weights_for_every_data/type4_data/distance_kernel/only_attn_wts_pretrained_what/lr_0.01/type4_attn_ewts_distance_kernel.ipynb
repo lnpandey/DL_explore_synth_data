{
  "nbformat": 4,
  "nbformat_minor": 0,
  "metadata": {
    "accelerator": "GPU",
    "colab": {
      "name": "type4_attn_ewts_distance_kernel.ipynb",
      "provenance": [],
      "collapsed_sections": []
    },
    "kernelspec": {
      "display_name": "Python 3",
      "name": "python3"
    },
    "language_info": {
      "name": "python"
    }
  },
  "cells": [
    {
      "cell_type": "code",
      "metadata": {
        "id": "BWIyC9Ip_bcq"
      },
      "source": [
        "import numpy as np\n",
        "import pandas as pd\n",
        "\n",
        "import torch\n",
        "import torchvision\n",
        "from torch.utils.data import Dataset, DataLoader\n",
        "from torchvision import transforms, utils\n",
        "import torch.nn as nn\n",
        "import torch.nn.functional as F\n",
        "import torch.optim as optim\n",
        "\n",
        "from matplotlib import pyplot as plt\n",
        "\n",
        "\n",
        "from myrmsprop import MyRmsprop\n",
        "from utils import plot_decision_boundary,attn_avg,plot_analysis\n",
        "from synthetic_dataset import MosaicDataset1\n",
        "from eval_model import calculate_attn_loss,analyse_data\n",
        "\n",
        "\n",
        "\n",
        "%matplotlib inline\n",
        "torch.backends.cudnn.deterministic = True\n",
        "torch.backends.cudnn.benchmark = False"
      ],
      "execution_count": 1,
      "outputs": []
    },
    {
      "cell_type": "code",
      "metadata": {
        "id": "lGVy-1EllAc_"
      },
      "source": [
        "train_data = np.load(\"train_type4_data.npy\",allow_pickle=True)\n",
        "\n",
        "test_data = np.load(\"test_type4_data.npy\",allow_pickle=True)"
      ],
      "execution_count": 2,
      "outputs": []
    },
    {
      "cell_type": "code",
      "metadata": {
        "id": "uL771xuGZC5Q"
      },
      "source": [
        "mosaic_list_of_images = train_data[0][\"mosaic_list\"]\n",
        "mosaic_label = train_data[0][\"mosaic_label\"]\n",
        "fore_idx = train_data[0][\"fore_idx\"]\n",
        "\n",
        "\n",
        "test_mosaic_list_of_images = test_data[0][\"mosaic_list\"]\n",
        "test_mosaic_label = test_data[0][\"mosaic_label\"]\n",
        "test_fore_idx = test_data[0][\"fore_idx\"]"
      ],
      "execution_count": 3,
      "outputs": []
    },
    {
      "cell_type": "code",
      "metadata": {
        "id": "uf76JwkxZCT0"
      },
      "source": [
        "batch = 3000\n",
        "train_dataset = MosaicDataset1(mosaic_list_of_images, mosaic_label, fore_idx)\n",
        "train_loader = DataLoader( train_dataset,batch_size= batch ,shuffle=False)\n",
        "#batch = 2000\n",
        "#test_dataset = MosaicDataset1(test_mosaic_list_of_images, test_mosaic_label, test_fore_idx)\n",
        "#test_loader = DataLoader(test_dataset,batch_size= batch ,shuffle=False)"
      ],
      "execution_count": 4,
      "outputs": []
    },
    {
      "cell_type": "code",
      "metadata": {
        "id": "DOpZfj1bq7wN"
      },
      "source": [
        "n_batches = 3000//batch\n",
        "bg = []\n",
        "for i in range(n_batches):\n",
        "  torch.manual_seed(i)\n",
        "  betag = torch.randn(3000,9)#torch.ones((250,9))/9\n",
        "  bg.append( betag.requires_grad_() )"
      ],
      "execution_count": 5,
      "outputs": []
    },
    {
      "cell_type": "code",
      "metadata": {
        "colab": {
          "base_uri": "https://localhost:8080/"
        },
        "id": "fzb3ii4drXpu",
        "outputId": "d5d17872-90d3-415a-cd3c-1e7282ef70c4"
      },
      "source": [
        "len(bg)"
      ],
      "execution_count": 6,
      "outputs": [
        {
          "output_type": "execute_result",
          "data": {
            "text/plain": [
              "1"
            ]
          },
          "metadata": {
            "tags": []
          },
          "execution_count": 6
        }
      ]
    },
    {
      "cell_type": "code",
      "metadata": {
        "id": "Am8LcQm1Og-f"
      },
      "source": [
        "data = np.load(\"dist_top1_type4.npy\",allow_pickle=True)\n",
        "indices = data[0]['indices'].numpy()\n",
        "rows,cols = np.unravel_index(indices,shape=(27000,27000))\n",
        "H = torch.zeros((27000,27000))\n",
        "H[rows,cols] =1\n",
        "#H = np.zeros((27000,27000))\n",
        "# for i, data in enumerate(train_loader, 0):\n",
        "#   print(i) # only one batch\n",
        "#   inputs,_,_ = data\n",
        "#   inputs = torch.reshape(inputs,(27000,2))\n",
        "\n",
        "#   dis = (torch.cdist(inputs,inputs)**2).to(dtype=torch.float32).flatten()\n",
        "  \n",
        "  \n",
        "\n",
        "\n",
        "\n",
        "\n"
      ],
      "execution_count": 7,
      "outputs": []
    },
    {
      "cell_type": "code",
      "metadata": {
        "colab": {
          "base_uri": "https://localhost:8080/"
        },
        "id": "vXCBGTnkosew",
        "outputId": "20ac6acf-4037-45e7-8fbe-44065f0c0957"
      },
      "source": [
        "print(indices,rows[0],cols[0])\n",
        "# to check H contains only 7290000 elements\n",
        "torch.sum(H)"
      ],
      "execution_count": 8,
      "outputs": [
        {
          "output_type": "stream",
          "text": [
            "[ 74846772 640012206 434730224 ... 280650211 180429167 507357022] 2772 2772\n"
          ],
          "name": "stdout"
        },
        {
          "output_type": "execute_result",
          "data": {
            "text/plain": [
              "tensor(7290000.)"
            ]
          },
          "metadata": {
            "tags": []
          },
          "execution_count": 8
        }
      ]
    },
    {
      "cell_type": "code",
      "metadata": {
        "id": "HbrMidFCla6h"
      },
      "source": [
        "class Module2(nn.Module):\n",
        "  def __init__(self):\n",
        "    super(Module2, self).__init__()\n",
        "    self.linear1 = nn.Linear(2,100)\n",
        "    self.linear2 = nn.Linear(100,3)\n",
        "\n",
        "  def forward(self,x):\n",
        "    x = F.relu(self.linear1(x))\n",
        "    x = self.linear2(x)\n",
        "    return x"
      ],
      "execution_count": 9,
      "outputs": []
    },
    {
      "cell_type": "code",
      "metadata": {
        "id": "rRqj2VELllkX"
      },
      "source": [
        "torch.manual_seed(1234)\n",
        "what_net = Module2().double()\n",
        "\n",
        "what_net.load_state_dict(torch.load(\"type4_what_net.pt\"))\n",
        "what_net = what_net.to(\"cuda\")"
      ],
      "execution_count": 10,
      "outputs": []
    },
    {
      "cell_type": "code",
      "metadata": {
        "id": "sAY-x6UAwrwE"
      },
      "source": [
        "for param in what_net.parameters():\n",
        "    param.requires_grad = False"
      ],
      "execution_count": 11,
      "outputs": []
    },
    {
      "cell_type": "code",
      "metadata": {
        "id": "S633XgMToeN3"
      },
      "source": [
        "optim1 = []\n",
        "H= H.to(\"cpu\")\n",
        "for i in range(n_batches):\n",
        "  optim1.append(MyRmsprop([bg[i]],H=H,lr=0.01))"
      ],
      "execution_count": 12,
      "outputs": []
    },
    {
      "cell_type": "code",
      "metadata": {
        "colab": {
          "base_uri": "https://localhost:8080/"
        },
        "id": "qPaYaojinMTA",
        "outputId": "97f62ab3-b7b7-4569-a038-101042d78bac"
      },
      "source": [
        "# instantiate optimizer\n",
        "optimizer_what = optim.RMSprop(what_net.parameters(), lr=0.001)#, momentum=0.9)#,nesterov=True)\n",
        "\n",
        "\n",
        " \n",
        "\n",
        "\n",
        "criterion = nn.CrossEntropyLoss()\n",
        "acti = []\n",
        "analysis_data_tr = []\n",
        "analysis_data_tst = []\n",
        "loss_curi_tr = []\n",
        "loss_curi_tst = []\n",
        "epochs = 200\n",
        "\n",
        "\n",
        "# calculate zeroth epoch loss and FTPT values\n",
        "running_loss,anlys_data,correct,total,accuracy = calculate_attn_loss(train_loader,bg,what_net,criterion)\n",
        "print('training epoch: [%d ] loss: %.3f correct: %.3f, total: %.3f, accuracy: %.3f' %(0,running_loss,correct,total,accuracy)) \n",
        "loss_curi_tr.append(running_loss)\n",
        "analysis_data_tr.append(anlys_data)\n",
        "\n",
        "\n",
        "\n",
        "\n",
        "# training starts \n",
        "for epoch in range(epochs): # loop over the dataset multiple times\n",
        "  ep_lossi = []\n",
        "  running_loss = 0.0\n",
        "  #what_net.train()\n",
        "  for i, data in enumerate(train_loader, 0):\n",
        "    # get the inputs\n",
        "    inputs, labels,_  = data\n",
        "    inputs = inputs.double()\n",
        "    beta = bg[i] # alpha for ith batch\n",
        "    #print(labels)\n",
        "    inputs, labels,beta = inputs.to(\"cuda\"),labels.to(\"cuda\"),beta.to(\"cuda\")\n",
        "        \n",
        "    # zero the parameter gradients\n",
        "    #optimizer_what.zero_grad()\n",
        "    optim1[i].zero_grad()\n",
        "      \n",
        "    # forward + backward + optimize\n",
        "    avg,alpha = attn_avg(inputs,beta)\n",
        "    outputs = what_net(avg)     \n",
        "    loss = criterion(outputs, labels)\n",
        "\n",
        "    # print statistics\n",
        "    running_loss += loss.item()\n",
        "    #alpha.retain_grad()\n",
        "    loss.backward(retain_graph=False)\n",
        "    #optimizer_what.step()\n",
        "    optim1[i].step()\n",
        "\n",
        "\n",
        "  running_loss_tr,anls_data,correct,total,accuracy = calculate_attn_loss(train_loader,bg,what_net,criterion)\n",
        "  analysis_data_tr.append(anls_data)\n",
        "  loss_curi_tr.append(running_loss_tr)   #loss per epoch\n",
        "  print('training epoch: [%d ] loss: %.3f correct: %.3f, total: %.3f, accuracy: %.3f' %(epoch+1,running_loss_tr,correct,total,accuracy)) \n",
        "\n",
        "\n",
        "  \n",
        "  if running_loss_tr<=0.08:\n",
        "    break\n",
        "print('Finished Training run ')\n",
        "analysis_data_tr = np.array(analysis_data_tr)\n",
        "\n"
      ],
      "execution_count": 13,
      "outputs": [
        {
          "output_type": "stream",
          "text": [
            "training epoch: [0 ] loss: 10.201 correct: 1133.000, total: 3000.000, accuracy: 0.378\n",
            "training epoch: [1 ] loss: 9.510 correct: 1151.000, total: 3000.000, accuracy: 0.384\n",
            "training epoch: [2 ] loss: 9.045 correct: 1170.000, total: 3000.000, accuracy: 0.390\n",
            "training epoch: [3 ] loss: 8.666 correct: 1192.000, total: 3000.000, accuracy: 0.397\n",
            "training epoch: [4 ] loss: 8.339 correct: 1204.000, total: 3000.000, accuracy: 0.401\n",
            "training epoch: [5 ] loss: 8.048 correct: 1223.000, total: 3000.000, accuracy: 0.408\n",
            "training epoch: [6 ] loss: 7.785 correct: 1238.000, total: 3000.000, accuracy: 0.413\n",
            "training epoch: [7 ] loss: 7.546 correct: 1250.000, total: 3000.000, accuracy: 0.417\n",
            "training epoch: [8 ] loss: 7.326 correct: 1269.000, total: 3000.000, accuracy: 0.423\n",
            "training epoch: [9 ] loss: 7.121 correct: 1293.000, total: 3000.000, accuracy: 0.431\n",
            "training epoch: [10 ] loss: 6.931 correct: 1305.000, total: 3000.000, accuracy: 0.435\n",
            "training epoch: [11 ] loss: 6.751 correct: 1324.000, total: 3000.000, accuracy: 0.441\n",
            "training epoch: [12 ] loss: 6.582 correct: 1335.000, total: 3000.000, accuracy: 0.445\n",
            "training epoch: [13 ] loss: 6.421 correct: 1345.000, total: 3000.000, accuracy: 0.448\n",
            "training epoch: [14 ] loss: 6.269 correct: 1354.000, total: 3000.000, accuracy: 0.451\n",
            "training epoch: [15 ] loss: 6.123 correct: 1364.000, total: 3000.000, accuracy: 0.455\n",
            "training epoch: [16 ] loss: 5.985 correct: 1376.000, total: 3000.000, accuracy: 0.459\n",
            "training epoch: [17 ] loss: 5.852 correct: 1386.000, total: 3000.000, accuracy: 0.462\n",
            "training epoch: [18 ] loss: 5.725 correct: 1393.000, total: 3000.000, accuracy: 0.464\n",
            "training epoch: [19 ] loss: 5.603 correct: 1406.000, total: 3000.000, accuracy: 0.469\n",
            "training epoch: [20 ] loss: 5.487 correct: 1426.000, total: 3000.000, accuracy: 0.475\n",
            "training epoch: [21 ] loss: 5.374 correct: 1432.000, total: 3000.000, accuracy: 0.477\n",
            "training epoch: [22 ] loss: 5.266 correct: 1443.000, total: 3000.000, accuracy: 0.481\n",
            "training epoch: [23 ] loss: 5.161 correct: 1463.000, total: 3000.000, accuracy: 0.488\n",
            "training epoch: [24 ] loss: 5.060 correct: 1473.000, total: 3000.000, accuracy: 0.491\n",
            "training epoch: [25 ] loss: 4.962 correct: 1488.000, total: 3000.000, accuracy: 0.496\n",
            "training epoch: [26 ] loss: 4.868 correct: 1503.000, total: 3000.000, accuracy: 0.501\n",
            "training epoch: [27 ] loss: 4.776 correct: 1511.000, total: 3000.000, accuracy: 0.504\n",
            "training epoch: [28 ] loss: 4.687 correct: 1527.000, total: 3000.000, accuracy: 0.509\n",
            "training epoch: [29 ] loss: 4.601 correct: 1535.000, total: 3000.000, accuracy: 0.512\n",
            "training epoch: [30 ] loss: 4.518 correct: 1548.000, total: 3000.000, accuracy: 0.516\n",
            "training epoch: [31 ] loss: 4.436 correct: 1560.000, total: 3000.000, accuracy: 0.520\n",
            "training epoch: [32 ] loss: 4.357 correct: 1570.000, total: 3000.000, accuracy: 0.523\n",
            "training epoch: [33 ] loss: 4.280 correct: 1576.000, total: 3000.000, accuracy: 0.525\n",
            "training epoch: [34 ] loss: 4.204 correct: 1583.000, total: 3000.000, accuracy: 0.528\n",
            "training epoch: [35 ] loss: 4.131 correct: 1587.000, total: 3000.000, accuracy: 0.529\n",
            "training epoch: [36 ] loss: 4.059 correct: 1591.000, total: 3000.000, accuracy: 0.530\n",
            "training epoch: [37 ] loss: 3.988 correct: 1598.000, total: 3000.000, accuracy: 0.533\n",
            "training epoch: [38 ] loss: 3.919 correct: 1614.000, total: 3000.000, accuracy: 0.538\n",
            "training epoch: [39 ] loss: 3.852 correct: 1622.000, total: 3000.000, accuracy: 0.541\n",
            "training epoch: [40 ] loss: 3.785 correct: 1636.000, total: 3000.000, accuracy: 0.545\n",
            "training epoch: [41 ] loss: 3.721 correct: 1644.000, total: 3000.000, accuracy: 0.548\n",
            "training epoch: [42 ] loss: 3.657 correct: 1651.000, total: 3000.000, accuracy: 0.550\n",
            "training epoch: [43 ] loss: 3.595 correct: 1662.000, total: 3000.000, accuracy: 0.554\n",
            "training epoch: [44 ] loss: 3.534 correct: 1671.000, total: 3000.000, accuracy: 0.557\n",
            "training epoch: [45 ] loss: 3.474 correct: 1683.000, total: 3000.000, accuracy: 0.561\n",
            "training epoch: [46 ] loss: 3.416 correct: 1693.000, total: 3000.000, accuracy: 0.564\n",
            "training epoch: [47 ] loss: 3.359 correct: 1705.000, total: 3000.000, accuracy: 0.568\n",
            "training epoch: [48 ] loss: 3.304 correct: 1714.000, total: 3000.000, accuracy: 0.571\n",
            "training epoch: [49 ] loss: 3.249 correct: 1725.000, total: 3000.000, accuracy: 0.575\n",
            "training epoch: [50 ] loss: 3.196 correct: 1734.000, total: 3000.000, accuracy: 0.578\n",
            "training epoch: [51 ] loss: 3.144 correct: 1742.000, total: 3000.000, accuracy: 0.581\n",
            "training epoch: [52 ] loss: 3.093 correct: 1747.000, total: 3000.000, accuracy: 0.582\n",
            "training epoch: [53 ] loss: 3.043 correct: 1752.000, total: 3000.000, accuracy: 0.584\n",
            "training epoch: [54 ] loss: 2.994 correct: 1765.000, total: 3000.000, accuracy: 0.588\n",
            "training epoch: [55 ] loss: 2.946 correct: 1773.000, total: 3000.000, accuracy: 0.591\n",
            "training epoch: [56 ] loss: 2.899 correct: 1785.000, total: 3000.000, accuracy: 0.595\n",
            "training epoch: [57 ] loss: 2.853 correct: 1795.000, total: 3000.000, accuracy: 0.598\n",
            "training epoch: [58 ] loss: 2.807 correct: 1804.000, total: 3000.000, accuracy: 0.601\n",
            "training epoch: [59 ] loss: 2.763 correct: 1814.000, total: 3000.000, accuracy: 0.605\n",
            "training epoch: [60 ] loss: 2.720 correct: 1821.000, total: 3000.000, accuracy: 0.607\n",
            "training epoch: [61 ] loss: 2.677 correct: 1827.000, total: 3000.000, accuracy: 0.609\n",
            "training epoch: [62 ] loss: 2.635 correct: 1842.000, total: 3000.000, accuracy: 0.614\n",
            "training epoch: [63 ] loss: 2.595 correct: 1850.000, total: 3000.000, accuracy: 0.617\n",
            "training epoch: [64 ] loss: 2.555 correct: 1861.000, total: 3000.000, accuracy: 0.620\n",
            "training epoch: [65 ] loss: 2.515 correct: 1871.000, total: 3000.000, accuracy: 0.624\n",
            "training epoch: [66 ] loss: 2.477 correct: 1877.000, total: 3000.000, accuracy: 0.626\n",
            "training epoch: [67 ] loss: 2.439 correct: 1882.000, total: 3000.000, accuracy: 0.627\n",
            "training epoch: [68 ] loss: 2.402 correct: 1892.000, total: 3000.000, accuracy: 0.631\n",
            "training epoch: [69 ] loss: 2.366 correct: 1903.000, total: 3000.000, accuracy: 0.634\n",
            "training epoch: [70 ] loss: 2.330 correct: 1916.000, total: 3000.000, accuracy: 0.639\n",
            "training epoch: [71 ] loss: 2.295 correct: 1928.000, total: 3000.000, accuracy: 0.643\n",
            "training epoch: [72 ] loss: 2.261 correct: 1936.000, total: 3000.000, accuracy: 0.645\n",
            "training epoch: [73 ] loss: 2.227 correct: 1950.000, total: 3000.000, accuracy: 0.650\n",
            "training epoch: [74 ] loss: 2.194 correct: 1960.000, total: 3000.000, accuracy: 0.653\n",
            "training epoch: [75 ] loss: 2.162 correct: 1971.000, total: 3000.000, accuracy: 0.657\n",
            "training epoch: [76 ] loss: 2.130 correct: 1979.000, total: 3000.000, accuracy: 0.660\n",
            "training epoch: [77 ] loss: 2.099 correct: 1991.000, total: 3000.000, accuracy: 0.664\n",
            "training epoch: [78 ] loss: 2.069 correct: 1993.000, total: 3000.000, accuracy: 0.664\n",
            "training epoch: [79 ] loss: 2.039 correct: 2002.000, total: 3000.000, accuracy: 0.667\n",
            "training epoch: [80 ] loss: 2.010 correct: 2014.000, total: 3000.000, accuracy: 0.671\n",
            "training epoch: [81 ] loss: 1.981 correct: 2024.000, total: 3000.000, accuracy: 0.675\n",
            "training epoch: [82 ] loss: 1.953 correct: 2029.000, total: 3000.000, accuracy: 0.676\n",
            "training epoch: [83 ] loss: 1.925 correct: 2037.000, total: 3000.000, accuracy: 0.679\n",
            "training epoch: [84 ] loss: 1.898 correct: 2046.000, total: 3000.000, accuracy: 0.682\n",
            "training epoch: [85 ] loss: 1.871 correct: 2051.000, total: 3000.000, accuracy: 0.684\n",
            "training epoch: [86 ] loss: 1.845 correct: 2056.000, total: 3000.000, accuracy: 0.685\n",
            "training epoch: [87 ] loss: 1.819 correct: 2066.000, total: 3000.000, accuracy: 0.689\n",
            "training epoch: [88 ] loss: 1.794 correct: 2075.000, total: 3000.000, accuracy: 0.692\n",
            "training epoch: [89 ] loss: 1.769 correct: 2078.000, total: 3000.000, accuracy: 0.693\n",
            "training epoch: [90 ] loss: 1.745 correct: 2086.000, total: 3000.000, accuracy: 0.695\n",
            "training epoch: [91 ] loss: 1.721 correct: 2094.000, total: 3000.000, accuracy: 0.698\n",
            "training epoch: [92 ] loss: 1.697 correct: 2098.000, total: 3000.000, accuracy: 0.699\n",
            "training epoch: [93 ] loss: 1.673 correct: 2102.000, total: 3000.000, accuracy: 0.701\n",
            "training epoch: [94 ] loss: 1.650 correct: 2110.000, total: 3000.000, accuracy: 0.703\n",
            "training epoch: [95 ] loss: 1.628 correct: 2114.000, total: 3000.000, accuracy: 0.705\n",
            "training epoch: [96 ] loss: 1.605 correct: 2121.000, total: 3000.000, accuracy: 0.707\n",
            "training epoch: [97 ] loss: 1.583 correct: 2125.000, total: 3000.000, accuracy: 0.708\n",
            "training epoch: [98 ] loss: 1.561 correct: 2137.000, total: 3000.000, accuracy: 0.712\n",
            "training epoch: [99 ] loss: 1.540 correct: 2146.000, total: 3000.000, accuracy: 0.715\n",
            "training epoch: [100 ] loss: 1.519 correct: 2154.000, total: 3000.000, accuracy: 0.718\n",
            "training epoch: [101 ] loss: 1.498 correct: 2158.000, total: 3000.000, accuracy: 0.719\n",
            "training epoch: [102 ] loss: 1.477 correct: 2162.000, total: 3000.000, accuracy: 0.721\n",
            "training epoch: [103 ] loss: 1.457 correct: 2171.000, total: 3000.000, accuracy: 0.724\n",
            "training epoch: [104 ] loss: 1.437 correct: 2184.000, total: 3000.000, accuracy: 0.728\n",
            "training epoch: [105 ] loss: 1.417 correct: 2189.000, total: 3000.000, accuracy: 0.730\n",
            "training epoch: [106 ] loss: 1.398 correct: 2194.000, total: 3000.000, accuracy: 0.731\n",
            "training epoch: [107 ] loss: 1.379 correct: 2202.000, total: 3000.000, accuracy: 0.734\n",
            "training epoch: [108 ] loss: 1.360 correct: 2206.000, total: 3000.000, accuracy: 0.735\n",
            "training epoch: [109 ] loss: 1.341 correct: 2208.000, total: 3000.000, accuracy: 0.736\n",
            "training epoch: [110 ] loss: 1.323 correct: 2217.000, total: 3000.000, accuracy: 0.739\n",
            "training epoch: [111 ] loss: 1.305 correct: 2225.000, total: 3000.000, accuracy: 0.742\n",
            "training epoch: [112 ] loss: 1.288 correct: 2229.000, total: 3000.000, accuracy: 0.743\n",
            "training epoch: [113 ] loss: 1.270 correct: 2232.000, total: 3000.000, accuracy: 0.744\n",
            "training epoch: [114 ] loss: 1.254 correct: 2239.000, total: 3000.000, accuracy: 0.746\n",
            "training epoch: [115 ] loss: 1.237 correct: 2240.000, total: 3000.000, accuracy: 0.747\n",
            "training epoch: [116 ] loss: 1.221 correct: 2244.000, total: 3000.000, accuracy: 0.748\n",
            "training epoch: [117 ] loss: 1.204 correct: 2254.000, total: 3000.000, accuracy: 0.751\n",
            "training epoch: [118 ] loss: 1.189 correct: 2257.000, total: 3000.000, accuracy: 0.752\n",
            "training epoch: [119 ] loss: 1.173 correct: 2265.000, total: 3000.000, accuracy: 0.755\n",
            "training epoch: [120 ] loss: 1.158 correct: 2274.000, total: 3000.000, accuracy: 0.758\n",
            "training epoch: [121 ] loss: 1.143 correct: 2280.000, total: 3000.000, accuracy: 0.760\n",
            "training epoch: [122 ] loss: 1.128 correct: 2285.000, total: 3000.000, accuracy: 0.762\n",
            "training epoch: [123 ] loss: 1.114 correct: 2291.000, total: 3000.000, accuracy: 0.764\n",
            "training epoch: [124 ] loss: 1.100 correct: 2300.000, total: 3000.000, accuracy: 0.767\n",
            "training epoch: [125 ] loss: 1.086 correct: 2307.000, total: 3000.000, accuracy: 0.769\n",
            "training epoch: [126 ] loss: 1.072 correct: 2312.000, total: 3000.000, accuracy: 0.771\n",
            "training epoch: [127 ] loss: 1.059 correct: 2316.000, total: 3000.000, accuracy: 0.772\n",
            "training epoch: [128 ] loss: 1.046 correct: 2322.000, total: 3000.000, accuracy: 0.774\n",
            "training epoch: [129 ] loss: 1.033 correct: 2330.000, total: 3000.000, accuracy: 0.777\n",
            "training epoch: [130 ] loss: 1.020 correct: 2338.000, total: 3000.000, accuracy: 0.779\n",
            "training epoch: [131 ] loss: 1.008 correct: 2344.000, total: 3000.000, accuracy: 0.781\n",
            "training epoch: [132 ] loss: 0.996 correct: 2346.000, total: 3000.000, accuracy: 0.782\n",
            "training epoch: [133 ] loss: 0.984 correct: 2350.000, total: 3000.000, accuracy: 0.783\n",
            "training epoch: [134 ] loss: 0.973 correct: 2356.000, total: 3000.000, accuracy: 0.785\n",
            "training epoch: [135 ] loss: 0.961 correct: 2366.000, total: 3000.000, accuracy: 0.789\n",
            "training epoch: [136 ] loss: 0.950 correct: 2372.000, total: 3000.000, accuracy: 0.791\n",
            "training epoch: [137 ] loss: 0.939 correct: 2380.000, total: 3000.000, accuracy: 0.793\n",
            "training epoch: [138 ] loss: 0.928 correct: 2384.000, total: 3000.000, accuracy: 0.795\n",
            "training epoch: [139 ] loss: 0.917 correct: 2388.000, total: 3000.000, accuracy: 0.796\n",
            "training epoch: [140 ] loss: 0.907 correct: 2390.000, total: 3000.000, accuracy: 0.797\n",
            "training epoch: [141 ] loss: 0.897 correct: 2395.000, total: 3000.000, accuracy: 0.798\n",
            "training epoch: [142 ] loss: 0.887 correct: 2399.000, total: 3000.000, accuracy: 0.800\n",
            "training epoch: [143 ] loss: 0.877 correct: 2407.000, total: 3000.000, accuracy: 0.802\n",
            "training epoch: [144 ] loss: 0.867 correct: 2415.000, total: 3000.000, accuracy: 0.805\n",
            "training epoch: [145 ] loss: 0.858 correct: 2418.000, total: 3000.000, accuracy: 0.806\n",
            "training epoch: [146 ] loss: 0.848 correct: 2420.000, total: 3000.000, accuracy: 0.807\n",
            "training epoch: [147 ] loss: 0.839 correct: 2423.000, total: 3000.000, accuracy: 0.808\n",
            "training epoch: [148 ] loss: 0.830 correct: 2428.000, total: 3000.000, accuracy: 0.809\n",
            "training epoch: [149 ] loss: 0.821 correct: 2432.000, total: 3000.000, accuracy: 0.811\n",
            "training epoch: [150 ] loss: 0.812 correct: 2434.000, total: 3000.000, accuracy: 0.811\n",
            "training epoch: [151 ] loss: 0.804 correct: 2435.000, total: 3000.000, accuracy: 0.812\n",
            "training epoch: [152 ] loss: 0.795 correct: 2439.000, total: 3000.000, accuracy: 0.813\n",
            "training epoch: [153 ] loss: 0.787 correct: 2441.000, total: 3000.000, accuracy: 0.814\n",
            "training epoch: [154 ] loss: 0.778 correct: 2444.000, total: 3000.000, accuracy: 0.815\n",
            "training epoch: [155 ] loss: 0.770 correct: 2447.000, total: 3000.000, accuracy: 0.816\n",
            "training epoch: [156 ] loss: 0.762 correct: 2451.000, total: 3000.000, accuracy: 0.817\n",
            "training epoch: [157 ] loss: 0.754 correct: 2455.000, total: 3000.000, accuracy: 0.818\n",
            "training epoch: [158 ] loss: 0.746 correct: 2458.000, total: 3000.000, accuracy: 0.819\n",
            "training epoch: [159 ] loss: 0.739 correct: 2460.000, total: 3000.000, accuracy: 0.820\n",
            "training epoch: [160 ] loss: 0.731 correct: 2461.000, total: 3000.000, accuracy: 0.820\n",
            "training epoch: [161 ] loss: 0.723 correct: 2463.000, total: 3000.000, accuracy: 0.821\n",
            "training epoch: [162 ] loss: 0.716 correct: 2466.000, total: 3000.000, accuracy: 0.822\n",
            "training epoch: [163 ] loss: 0.709 correct: 2469.000, total: 3000.000, accuracy: 0.823\n",
            "training epoch: [164 ] loss: 0.701 correct: 2473.000, total: 3000.000, accuracy: 0.824\n",
            "training epoch: [165 ] loss: 0.694 correct: 2476.000, total: 3000.000, accuracy: 0.825\n",
            "training epoch: [166 ] loss: 0.687 correct: 2477.000, total: 3000.000, accuracy: 0.826\n",
            "training epoch: [167 ] loss: 0.680 correct: 2480.000, total: 3000.000, accuracy: 0.827\n",
            "training epoch: [168 ] loss: 0.673 correct: 2482.000, total: 3000.000, accuracy: 0.827\n",
            "training epoch: [169 ] loss: 0.667 correct: 2486.000, total: 3000.000, accuracy: 0.829\n",
            "training epoch: [170 ] loss: 0.660 correct: 2488.000, total: 3000.000, accuracy: 0.829\n",
            "training epoch: [171 ] loss: 0.653 correct: 2490.000, total: 3000.000, accuracy: 0.830\n",
            "training epoch: [172 ] loss: 0.647 correct: 2493.000, total: 3000.000, accuracy: 0.831\n",
            "training epoch: [173 ] loss: 0.640 correct: 2497.000, total: 3000.000, accuracy: 0.832\n",
            "training epoch: [174 ] loss: 0.634 correct: 2497.000, total: 3000.000, accuracy: 0.832\n",
            "training epoch: [175 ] loss: 0.628 correct: 2501.000, total: 3000.000, accuracy: 0.834\n",
            "training epoch: [176 ] loss: 0.621 correct: 2509.000, total: 3000.000, accuracy: 0.836\n",
            "training epoch: [177 ] loss: 0.615 correct: 2511.000, total: 3000.000, accuracy: 0.837\n",
            "training epoch: [178 ] loss: 0.609 correct: 2515.000, total: 3000.000, accuracy: 0.838\n",
            "training epoch: [179 ] loss: 0.603 correct: 2517.000, total: 3000.000, accuracy: 0.839\n",
            "training epoch: [180 ] loss: 0.597 correct: 2523.000, total: 3000.000, accuracy: 0.841\n",
            "training epoch: [181 ] loss: 0.591 correct: 2528.000, total: 3000.000, accuracy: 0.843\n",
            "training epoch: [182 ] loss: 0.586 correct: 2531.000, total: 3000.000, accuracy: 0.844\n",
            "training epoch: [183 ] loss: 0.580 correct: 2533.000, total: 3000.000, accuracy: 0.844\n",
            "training epoch: [184 ] loss: 0.574 correct: 2540.000, total: 3000.000, accuracy: 0.847\n",
            "training epoch: [185 ] loss: 0.569 correct: 2541.000, total: 3000.000, accuracy: 0.847\n",
            "training epoch: [186 ] loss: 0.563 correct: 2545.000, total: 3000.000, accuracy: 0.848\n",
            "training epoch: [187 ] loss: 0.558 correct: 2547.000, total: 3000.000, accuracy: 0.849\n",
            "training epoch: [188 ] loss: 0.553 correct: 2550.000, total: 3000.000, accuracy: 0.850\n",
            "training epoch: [189 ] loss: 0.547 correct: 2551.000, total: 3000.000, accuracy: 0.850\n",
            "training epoch: [190 ] loss: 0.542 correct: 2552.000, total: 3000.000, accuracy: 0.851\n",
            "training epoch: [191 ] loss: 0.537 correct: 2556.000, total: 3000.000, accuracy: 0.852\n",
            "training epoch: [192 ] loss: 0.532 correct: 2561.000, total: 3000.000, accuracy: 0.854\n",
            "training epoch: [193 ] loss: 0.527 correct: 2563.000, total: 3000.000, accuracy: 0.854\n",
            "training epoch: [194 ] loss: 0.522 correct: 2567.000, total: 3000.000, accuracy: 0.856\n",
            "training epoch: [195 ] loss: 0.517 correct: 2569.000, total: 3000.000, accuracy: 0.856\n",
            "training epoch: [196 ] loss: 0.512 correct: 2570.000, total: 3000.000, accuracy: 0.857\n",
            "training epoch: [197 ] loss: 0.508 correct: 2573.000, total: 3000.000, accuracy: 0.858\n",
            "training epoch: [198 ] loss: 0.503 correct: 2574.000, total: 3000.000, accuracy: 0.858\n",
            "training epoch: [199 ] loss: 0.498 correct: 2577.000, total: 3000.000, accuracy: 0.859\n",
            "training epoch: [200 ] loss: 0.494 correct: 2578.000, total: 3000.000, accuracy: 0.859\n",
            "Finished Training run \n"
          ],
          "name": "stdout"
        }
      ]
    },
    {
      "cell_type": "code",
      "metadata": {
        "id": "AciJnAh5nfug"
      },
      "source": [
        "columns = [\"epochs\", \"argmax > 0.5\" ,\"argmax < 0.5\", \"focus_true_pred_true\", \"focus_false_pred_true\", \"focus_true_pred_false\", \"focus_false_pred_false\" ]\n",
        "df_train = pd.DataFrame()\n",
        "df_test = pd.DataFrame()\n",
        "df_train[columns[0]] = np.arange(0,epoch+2)\n",
        "df_train[columns[1]] = analysis_data_tr[:,-2]/30\n",
        "df_train[columns[2]] = analysis_data_tr[:,-1]/30\n",
        "df_train[columns[3]] = analysis_data_tr[:,0]/30\n",
        "df_train[columns[4]] = analysis_data_tr[:,1]/30\n",
        "df_train[columns[5]] = analysis_data_tr[:,2]/30\n",
        "df_train[columns[6]] = analysis_data_tr[:,3]/30"
      ],
      "execution_count": 14,
      "outputs": []
    },
    {
      "cell_type": "code",
      "metadata": {
        "colab": {
          "base_uri": "https://localhost:8080/",
          "height": 456
        },
        "id": "NoQpS_6scRsC",
        "outputId": "4bf956e3-f933-4bf6-eacc-46570fc5961b"
      },
      "source": [
        "df_train"
      ],
      "execution_count": 15,
      "outputs": [
        {
          "output_type": "execute_result",
          "data": {
            "text/html": [
              "<div>\n",
              "<style scoped>\n",
              "    .dataframe tbody tr th:only-of-type {\n",
              "        vertical-align: middle;\n",
              "    }\n",
              "\n",
              "    .dataframe tbody tr th {\n",
              "        vertical-align: top;\n",
              "    }\n",
              "\n",
              "    .dataframe thead th {\n",
              "        text-align: right;\n",
              "    }\n",
              "</style>\n",
              "<table border=\"1\" class=\"dataframe\">\n",
              "  <thead>\n",
              "    <tr style=\"text-align: right;\">\n",
              "      <th></th>\n",
              "      <th>epochs</th>\n",
              "      <th>argmax &gt; 0.5</th>\n",
              "      <th>argmax &lt; 0.5</th>\n",
              "      <th>focus_true_pred_true</th>\n",
              "      <th>focus_false_pred_true</th>\n",
              "      <th>focus_true_pred_false</th>\n",
              "      <th>focus_false_pred_false</th>\n",
              "    </tr>\n",
              "  </thead>\n",
              "  <tbody>\n",
              "    <tr>\n",
              "      <th>0</th>\n",
              "      <td>0</td>\n",
              "      <td>9.800000</td>\n",
              "      <td>90.200000</td>\n",
              "      <td>5.233333</td>\n",
              "      <td>32.533333</td>\n",
              "      <td>6.533333</td>\n",
              "      <td>55.700000</td>\n",
              "    </tr>\n",
              "    <tr>\n",
              "      <th>1</th>\n",
              "      <td>1</td>\n",
              "      <td>9.966667</td>\n",
              "      <td>90.033333</td>\n",
              "      <td>6.533333</td>\n",
              "      <td>31.833333</td>\n",
              "      <td>7.566667</td>\n",
              "      <td>54.066667</td>\n",
              "    </tr>\n",
              "    <tr>\n",
              "      <th>2</th>\n",
              "      <td>2</td>\n",
              "      <td>10.300000</td>\n",
              "      <td>89.700000</td>\n",
              "      <td>7.833333</td>\n",
              "      <td>31.166667</td>\n",
              "      <td>8.200000</td>\n",
              "      <td>52.800000</td>\n",
              "    </tr>\n",
              "    <tr>\n",
              "      <th>3</th>\n",
              "      <td>3</td>\n",
              "      <td>10.466667</td>\n",
              "      <td>89.533333</td>\n",
              "      <td>8.666667</td>\n",
              "      <td>31.066667</td>\n",
              "      <td>8.433333</td>\n",
              "      <td>51.833333</td>\n",
              "    </tr>\n",
              "    <tr>\n",
              "      <th>4</th>\n",
              "      <td>4</td>\n",
              "      <td>11.033333</td>\n",
              "      <td>88.966667</td>\n",
              "      <td>9.233333</td>\n",
              "      <td>30.900000</td>\n",
              "      <td>9.333333</td>\n",
              "      <td>50.533333</td>\n",
              "    </tr>\n",
              "    <tr>\n",
              "      <th>...</th>\n",
              "      <td>...</td>\n",
              "      <td>...</td>\n",
              "      <td>...</td>\n",
              "      <td>...</td>\n",
              "      <td>...</td>\n",
              "      <td>...</td>\n",
              "      <td>...</td>\n",
              "    </tr>\n",
              "    <tr>\n",
              "      <th>196</th>\n",
              "      <td>196</td>\n",
              "      <td>81.266667</td>\n",
              "      <td>18.733333</td>\n",
              "      <td>74.833333</td>\n",
              "      <td>10.833333</td>\n",
              "      <td>10.200000</td>\n",
              "      <td>4.133333</td>\n",
              "    </tr>\n",
              "    <tr>\n",
              "      <th>197</th>\n",
              "      <td>197</td>\n",
              "      <td>81.466667</td>\n",
              "      <td>18.533333</td>\n",
              "      <td>75.000000</td>\n",
              "      <td>10.766667</td>\n",
              "      <td>10.100000</td>\n",
              "      <td>4.133333</td>\n",
              "    </tr>\n",
              "    <tr>\n",
              "      <th>198</th>\n",
              "      <td>198</td>\n",
              "      <td>81.533333</td>\n",
              "      <td>18.466667</td>\n",
              "      <td>75.066667</td>\n",
              "      <td>10.733333</td>\n",
              "      <td>10.066667</td>\n",
              "      <td>4.133333</td>\n",
              "    </tr>\n",
              "    <tr>\n",
              "      <th>199</th>\n",
              "      <td>199</td>\n",
              "      <td>81.566667</td>\n",
              "      <td>18.433333</td>\n",
              "      <td>75.233333</td>\n",
              "      <td>10.666667</td>\n",
              "      <td>10.000000</td>\n",
              "      <td>4.100000</td>\n",
              "    </tr>\n",
              "    <tr>\n",
              "      <th>200</th>\n",
              "      <td>200</td>\n",
              "      <td>81.600000</td>\n",
              "      <td>18.400000</td>\n",
              "      <td>75.400000</td>\n",
              "      <td>10.533333</td>\n",
              "      <td>10.000000</td>\n",
              "      <td>4.066667</td>\n",
              "    </tr>\n",
              "  </tbody>\n",
              "</table>\n",
              "<p>201 rows × 7 columns</p>\n",
              "</div>"
            ],
            "text/plain": [
              "     epochs  argmax > 0.5  ...  focus_true_pred_false  focus_false_pred_false\n",
              "0         0      9.800000  ...               6.533333               55.700000\n",
              "1         1      9.966667  ...               7.566667               54.066667\n",
              "2         2     10.300000  ...               8.200000               52.800000\n",
              "3         3     10.466667  ...               8.433333               51.833333\n",
              "4         4     11.033333  ...               9.333333               50.533333\n",
              "..      ...           ...  ...                    ...                     ...\n",
              "196     196     81.266667  ...              10.200000                4.133333\n",
              "197     197     81.466667  ...              10.100000                4.133333\n",
              "198     198     81.533333  ...              10.066667                4.133333\n",
              "199     199     81.566667  ...              10.000000                4.100000\n",
              "200     200     81.600000  ...              10.000000                4.066667\n",
              "\n",
              "[201 rows x 7 columns]"
            ]
          },
          "metadata": {
            "tags": []
          },
          "execution_count": 15
        }
      ]
    },
    {
      "cell_type": "code",
      "metadata": {
        "colab": {
          "base_uri": "https://localhost:8080/",
          "height": 404
        },
        "id": "EY_j8B274vuH",
        "outputId": "8394e13a-a4fa-4bee-e50a-ff58f572f3f8"
      },
      "source": [
        "plot_analysis(df_train,columns)"
      ],
      "execution_count": 21,
      "outputs": [
        {
          "output_type": "display_data",
          "data": {
            "image/png": "[encoded data removed]",
            "text/plain": [
              "<Figure size 432x432 with 1 Axes>"
            ]
          },
          "metadata": {
            "tags": [],
            "needs_background": "light"
          }
        }
      ]
    },
    {
      "cell_type": "code",
      "metadata": {
        "id": "VCnS6r2_3WdU"
      },
      "source": [
        "aph = []\n",
        "for i in bg:\n",
        "  aph.append(F.softmax(i,dim=1).detach().numpy())\n",
        "  \n",
        "aph = np.concatenate(aph,axis=0)\n",
        "# torch.save({\n",
        "#             'epoch': 500,\n",
        "#             'model_state_dict': what_net.state_dict(),\n",
        "#             #'optimizer_state_dict': optimizer_what.state_dict(),\n",
        "#             \"optimizer_alpha\":optim1,\n",
        "#             \"FTPT_analysis\":analysis_data_tr,\n",
        "#             \"alpha\":aph\n",
        "\n",
        "#             }, \"type4_what_net_500.pt\")"
      ],
      "execution_count": 17,
      "outputs": []
    },
    {
      "cell_type": "code",
      "metadata": {
        "colab": {
          "base_uri": "https://localhost:8080/"
        },
        "id": "KVzrDOGS4UxU",
        "outputId": "78dd721a-121c-428f-b208-13190ea03f6c"
      },
      "source": [
        "aph[0]"
      ],
      "execution_count": 18,
      "outputs": [
        {
          "output_type": "execute_result",
          "data": {
            "text/plain": [
              "array([0.00367127, 0.01985954, 0.17237185, 0.7061822 , 0.05485472,\n",
              "       0.0155836 , 0.00747819, 0.00783963, 0.01215898], dtype=float32)"
            ]
          },
          "metadata": {
            "tags": []
          },
          "execution_count": 18
        }
      ]
    },
    {
      "cell_type": "code",
      "metadata": {
        "id": "7Ut6ZTAXbvqx"
      },
      "source": [
        "avrg = []\n",
        "with torch.no_grad():\n",
        "  for i, data1 in  enumerate(train_loader):\n",
        "          inputs , labels , fore_idx = data1\n",
        "          inputs = inputs.double()\n",
        "          inputs, labels = inputs.to(\"cuda\"),labels.to(\"cuda\")\n",
        "          beta  = bg[i]\n",
        "          beta = beta.to(\"cuda\")\n",
        "          avg,alpha = attn_avg(inputs,beta)\n",
        "          \n",
        "          avrg.append(avg.detach().cpu().numpy())\n",
        "avrg= np.concatenate(avrg,axis=0)"
      ],
      "execution_count": 19,
      "outputs": []
    },
    {
      "cell_type": "code",
      "metadata": {
        "id": "2KQFYlmTLG0N",
        "colab": {
          "base_uri": "https://localhost:8080/",
          "height": 374
        },
        "outputId": "46a36387-3b56-4e80-9325-113777e0c16f"
      },
      "source": [
        "data = np.load(\"type_4_data.npy\",allow_pickle=True)\n",
        "plot_decision_boundary(what_net,[1,8,2,9],data,bg,avrg)"
      ],
      "execution_count": 20,
      "outputs": [
        {
          "output_type": "display_data",
          "data": {
            "image/png": "[encoded data removed]",
            "text/plain": [
              "<Figure size 432x432 with 1 Axes>"
            ]
          },
          "metadata": {
            "tags": [],
            "needs_background": "light"
          }
        }
      ]
    },
    {
      "cell_type": "code",
      "metadata": {
        "id": "0TlpHSOC0hfk"
      },
      "source": [
        ""
      ],
      "execution_count": 20,
      "outputs": []
    }
  ]
}