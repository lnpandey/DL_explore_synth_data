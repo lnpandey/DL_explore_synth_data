{
  "nbformat": 4,
  "nbformat_minor": 0,
  "metadata": {
    "accelerator": "GPU",
    "colab": {
      "name": "type4_attn_ewts_distance_kernel.ipynb",
      "provenance": [],
      "collapsed_sections": []
    },
    "kernelspec": {
      "display_name": "Python 3",
      "name": "python3"
    },
    "language_info": {
      "name": "python"
    }
  },
  "cells": [
    {
      "cell_type": "code",
      "metadata": {
        "id": "BWIyC9Ip_bcq"
      },
      "source": [
        "import numpy as np\n",
        "import pandas as pd\n",
        "\n",
        "import torch\n",
        "import torchvision\n",
        "from torch.utils.data import Dataset, DataLoader\n",
        "from torchvision import transforms, utils\n",
        "import torch.nn as nn\n",
        "import torch.nn.functional as F\n",
        "import torch.optim as optim\n",
        "\n",
        "from matplotlib import pyplot as plt\n",
        "\n",
        "\n",
        "from myrmsprop import MyRmsprop\n",
        "from utils import plot_decision_boundary,attn_avg,plot_analysis\n",
        "from synthetic_dataset import MosaicDataset1\n",
        "from eval_model import calculate_attn_loss,analyse_data\n",
        "\n",
        "\n",
        "\n",
        "%matplotlib inline\n",
        "torch.backends.cudnn.deterministic = True\n",
        "torch.backends.cudnn.benchmark = False"
      ],
      "execution_count": 1,
      "outputs": []
    },
    {
      "cell_type": "code",
      "metadata": {
        "id": "lGVy-1EllAc_"
      },
      "source": [
        "train_data = np.load(\"train_type4_data.npy\",allow_pickle=True)\n",
        "\n",
        "test_data = np.load(\"test_type4_data.npy\",allow_pickle=True)"
      ],
      "execution_count": 2,
      "outputs": []
    },
    {
      "cell_type": "code",
      "metadata": {
        "id": "uL771xuGZC5Q"
      },
      "source": [
        "mosaic_list_of_images = train_data[0][\"mosaic_list\"]\n",
        "mosaic_label = train_data[0][\"mosaic_label\"]\n",
        "fore_idx = train_data[0][\"fore_idx\"]\n",
        "\n",
        "\n",
        "test_mosaic_list_of_images = test_data[0][\"mosaic_list\"]\n",
        "test_mosaic_label = test_data[0][\"mosaic_label\"]\n",
        "test_fore_idx = test_data[0][\"fore_idx\"]"
      ],
      "execution_count": 3,
      "outputs": []
    },
    {
      "cell_type": "code",
      "metadata": {
        "id": "uf76JwkxZCT0"
      },
      "source": [
        "batch = 3000\n",
        "train_dataset = MosaicDataset1(mosaic_list_of_images, mosaic_label, fore_idx)\n",
        "train_loader = DataLoader( train_dataset,batch_size= batch ,shuffle=False)\n",
        "#batch = 2000\n",
        "#test_dataset = MosaicDataset1(test_mosaic_list_of_images, test_mosaic_label, test_fore_idx)\n",
        "#test_loader = DataLoader(test_dataset,batch_size= batch ,shuffle=False)"
      ],
      "execution_count": 4,
      "outputs": []
    },
    {
      "cell_type": "code",
      "metadata": {
        "id": "DOpZfj1bq7wN"
      },
      "source": [
        "n_batches = 3000//batch\n",
        "bg = []\n",
        "for i in range(n_batches):\n",
        "  torch.manual_seed(i)\n",
        "  betag = torch.randn(3000,9)#torch.ones((250,9))/9\n",
        "  bg.append( betag.requires_grad_() )"
      ],
      "execution_count": 5,
      "outputs": []
    },
    {
      "cell_type": "code",
      "metadata": {
        "colab": {
          "base_uri": "https://localhost:8080/"
        },
        "id": "fzb3ii4drXpu",
        "outputId": "9b43a3e9-a8b9-439e-f4ff-74296d2913d9"
      },
      "source": [
        "len(bg)"
      ],
      "execution_count": 6,
      "outputs": [
        {
          "output_type": "execute_result",
          "data": {
            "text/plain": [
              "1"
            ]
          },
          "metadata": {
            "tags": []
          },
          "execution_count": 6
        }
      ]
    },
    {
      "cell_type": "code",
      "metadata": {
        "id": "Am8LcQm1Og-f"
      },
      "source": [
        "data = np.load(\"dist_top1_type4.npy\",allow_pickle=True)\n",
        "indices = data[0]['indices'].numpy()\n",
        "rows,cols = np.unravel_index(indices,shape=(27000,27000))\n",
        "H = torch.zeros((27000,27000))\n",
        "H[rows,cols] =1\n",
        "#H = np.zeros((27000,27000))\n",
        "# for i, data in enumerate(train_loader, 0):\n",
        "#   print(i) # only one batch\n",
        "#   inputs,_,_ = data\n",
        "#   inputs = torch.reshape(inputs,(27000,2))\n",
        "\n",
        "#   dis = (torch.cdist(inputs,inputs)**2).to(dtype=torch.float32).flatten()\n",
        "  \n",
        "  \n",
        "\n",
        "\n",
        "\n",
        "\n"
      ],
      "execution_count": 7,
      "outputs": []
    },
    {
      "cell_type": "code",
      "metadata": {
        "colab": {
          "base_uri": "https://localhost:8080/"
        },
        "id": "vXCBGTnkosew",
        "outputId": "0a3a9270-e5bd-425f-af4d-2a80035bf49c"
      },
      "source": [
        "print(indices,rows[0],cols[0])\n",
        "# to check H contains only 7290000 elements\n",
        "torch.sum(H)"
      ],
      "execution_count": 8,
      "outputs": [
        {
          "output_type": "stream",
          "text": [
            "[ 74846772 640012206 434730224 ... 280650211 180429167 507357022] 2772 2772\n"
          ],
          "name": "stdout"
        },
        {
          "output_type": "execute_result",
          "data": {
            "text/plain": [
              "tensor(7290000.)"
            ]
          },
          "metadata": {
            "tags": []
          },
          "execution_count": 8
        }
      ]
    },
    {
      "cell_type": "code",
      "metadata": {
        "id": "HbrMidFCla6h"
      },
      "source": [
        "class Module2(nn.Module):\n",
        "  def __init__(self):\n",
        "    super(Module2, self).__init__()\n",
        "    self.linear1 = nn.Linear(2,100)\n",
        "    self.linear2 = nn.Linear(100,3)\n",
        "\n",
        "  def forward(self,x):\n",
        "    x = F.relu(self.linear1(x))\n",
        "    x = self.linear2(x)\n",
        "    return x"
      ],
      "execution_count": 9,
      "outputs": []
    },
    {
      "cell_type": "code",
      "metadata": {
        "id": "rRqj2VELllkX"
      },
      "source": [
        "torch.manual_seed(1234)\n",
        "what_net = Module2().double()\n",
        "\n",
        "what_net.load_state_dict(torch.load(\"type4_what_net.pt\"))\n",
        "what_net = what_net.to(\"cuda\")"
      ],
      "execution_count": 10,
      "outputs": []
    },
    {
      "cell_type": "code",
      "metadata": {
        "id": "sAY-x6UAwrwE"
      },
      "source": [
        "for param in what_net.parameters():\n",
        "    param.requires_grad = False"
      ],
      "execution_count": 11,
      "outputs": []
    },
    {
      "cell_type": "code",
      "metadata": {
        "id": "S633XgMToeN3"
      },
      "source": [
        "optim1 = []\n",
        "H= H.to(\"cpu\")\n",
        "for i in range(n_batches):\n",
        "  optim1.append(MyRmsprop([bg[i]],H=H,lr=0.1))"
      ],
      "execution_count": 12,
      "outputs": []
    },
    {
      "cell_type": "code",
      "metadata": {
        "colab": {
          "base_uri": "https://localhost:8080/"
        },
        "id": "qPaYaojinMTA",
        "outputId": "5b25ae09-9ee2-40a4-b425-cb2b7e6dc6ac"
      },
      "source": [
        "# instantiate optimizer\n",
        "optimizer_what = optim.RMSprop(what_net.parameters(), lr=0.001)#, momentum=0.9)#,nesterov=True)\n",
        "\n",
        "\n",
        " \n",
        "\n",
        "\n",
        "criterion = nn.CrossEntropyLoss()\n",
        "acti = []\n",
        "analysis_data_tr = []\n",
        "analysis_data_tst = []\n",
        "loss_curi_tr = []\n",
        "loss_curi_tst = []\n",
        "epochs = 200\n",
        "\n",
        "\n",
        "# calculate zeroth epoch loss and FTPT values\n",
        "running_loss,anlys_data,correct,total,accuracy = calculate_attn_loss(train_loader,bg,what_net,criterion)\n",
        "print('training epoch: [%d ] loss: %.3f correct: %.3f, total: %.3f, accuracy: %.3f' %(0,running_loss,correct,total,accuracy)) \n",
        "loss_curi_tr.append(running_loss)\n",
        "analysis_data_tr.append(anlys_data)\n",
        "\n",
        "\n",
        "\n",
        "\n",
        "# training starts \n",
        "for epoch in range(epochs): # loop over the dataset multiple times\n",
        "  ep_lossi = []\n",
        "  running_loss = 0.0\n",
        "  #what_net.train()\n",
        "  for i, data in enumerate(train_loader, 0):\n",
        "    # get the inputs\n",
        "    inputs, labels,_  = data\n",
        "    inputs = inputs.double()\n",
        "    beta = bg[i] # alpha for ith batch\n",
        "    #print(labels)\n",
        "    inputs, labels,beta = inputs.to(\"cuda\"),labels.to(\"cuda\"),beta.to(\"cuda\")\n",
        "        \n",
        "    # zero the parameter gradients\n",
        "    #optimizer_what.zero_grad()\n",
        "    optim1[i].zero_grad()\n",
        "      \n",
        "    # forward + backward + optimize\n",
        "    avg,alpha = attn_avg(inputs,beta)\n",
        "    outputs = what_net(avg)     \n",
        "    loss = criterion(outputs, labels)\n",
        "\n",
        "    # print statistics\n",
        "    running_loss += loss.item()\n",
        "    #alpha.retain_grad()\n",
        "    loss.backward(retain_graph=False)\n",
        "    #optimizer_what.step()\n",
        "    optim1[i].step()\n",
        "\n",
        "\n",
        "  running_loss_tr,anls_data,correct,total,accuracy = calculate_attn_loss(train_loader,bg,what_net,criterion)\n",
        "  analysis_data_tr.append(anls_data)\n",
        "  loss_curi_tr.append(running_loss_tr)   #loss per epoch\n",
        "  print('training epoch: [%d ] loss: %.3f correct: %.3f, total: %.3f, accuracy: %.3f' %(epoch+1,running_loss_tr,correct,total,accuracy)) \n",
        "\n",
        "\n",
        "  \n",
        "  if running_loss_tr<=0.08:\n",
        "    break\n",
        "print('Finished Training run ')\n",
        "analysis_data_tr = np.array(analysis_data_tr)\n",
        "\n"
      ],
      "execution_count": 13,
      "outputs": [
        {
          "output_type": "stream",
          "text": [
            "training epoch: [0 ] loss: 10.201 correct: 1133.000, total: 3000.000, accuracy: 0.378\n",
            "training epoch: [1 ] loss: 6.224 correct: 1408.000, total: 3000.000, accuracy: 0.469\n",
            "training epoch: [2 ] loss: 3.347 correct: 1671.000, total: 3000.000, accuracy: 0.557\n",
            "training epoch: [3 ] loss: 1.821 correct: 2085.000, total: 3000.000, accuracy: 0.695\n",
            "training epoch: [4 ] loss: 1.103 correct: 2323.000, total: 3000.000, accuracy: 0.774\n",
            "training epoch: [5 ] loss: 0.738 correct: 2465.000, total: 3000.000, accuracy: 0.822\n",
            "training epoch: [6 ] loss: 0.545 correct: 2558.000, total: 3000.000, accuracy: 0.853\n",
            "training epoch: [7 ] loss: 0.425 correct: 2620.000, total: 3000.000, accuracy: 0.873\n",
            "training epoch: [8 ] loss: 0.348 correct: 2658.000, total: 3000.000, accuracy: 0.886\n",
            "training epoch: [9 ] loss: 0.299 correct: 2686.000, total: 3000.000, accuracy: 0.895\n",
            "training epoch: [10 ] loss: 0.266 correct: 2715.000, total: 3000.000, accuracy: 0.905\n",
            "training epoch: [11 ] loss: 0.241 correct: 2733.000, total: 3000.000, accuracy: 0.911\n",
            "training epoch: [12 ] loss: 0.223 correct: 2746.000, total: 3000.000, accuracy: 0.915\n",
            "training epoch: [13 ] loss: 0.208 correct: 2757.000, total: 3000.000, accuracy: 0.919\n",
            "training epoch: [14 ] loss: 0.197 correct: 2766.000, total: 3000.000, accuracy: 0.922\n",
            "training epoch: [15 ] loss: 0.188 correct: 2776.000, total: 3000.000, accuracy: 0.925\n",
            "training epoch: [16 ] loss: 0.180 correct: 2782.000, total: 3000.000, accuracy: 0.927\n",
            "training epoch: [17 ] loss: 0.174 correct: 2793.000, total: 3000.000, accuracy: 0.931\n",
            "training epoch: [18 ] loss: 0.169 correct: 2804.000, total: 3000.000, accuracy: 0.935\n",
            "training epoch: [19 ] loss: 0.165 correct: 2808.000, total: 3000.000, accuracy: 0.936\n",
            "training epoch: [20 ] loss: 0.162 correct: 2812.000, total: 3000.000, accuracy: 0.937\n",
            "training epoch: [21 ] loss: 0.159 correct: 2813.000, total: 3000.000, accuracy: 0.938\n",
            "training epoch: [22 ] loss: 0.157 correct: 2820.000, total: 3000.000, accuracy: 0.940\n",
            "training epoch: [23 ] loss: 0.155 correct: 2824.000, total: 3000.000, accuracy: 0.941\n",
            "training epoch: [24 ] loss: 0.154 correct: 2830.000, total: 3000.000, accuracy: 0.943\n",
            "training epoch: [25 ] loss: 0.152 correct: 2833.000, total: 3000.000, accuracy: 0.944\n",
            "training epoch: [26 ] loss: 0.151 correct: 2836.000, total: 3000.000, accuracy: 0.945\n",
            "training epoch: [27 ] loss: 0.150 correct: 2834.000, total: 3000.000, accuracy: 0.945\n",
            "training epoch: [28 ] loss: 0.149 correct: 2834.000, total: 3000.000, accuracy: 0.945\n",
            "training epoch: [29 ] loss: 0.148 correct: 2834.000, total: 3000.000, accuracy: 0.945\n",
            "training epoch: [30 ] loss: 0.148 correct: 2833.000, total: 3000.000, accuracy: 0.944\n",
            "training epoch: [31 ] loss: 0.147 correct: 2832.000, total: 3000.000, accuracy: 0.944\n",
            "training epoch: [32 ] loss: 0.146 correct: 2831.000, total: 3000.000, accuracy: 0.944\n",
            "training epoch: [33 ] loss: 0.146 correct: 2832.000, total: 3000.000, accuracy: 0.944\n",
            "training epoch: [34 ] loss: 0.145 correct: 2835.000, total: 3000.000, accuracy: 0.945\n",
            "training epoch: [35 ] loss: 0.144 correct: 2834.000, total: 3000.000, accuracy: 0.945\n",
            "training epoch: [36 ] loss: 0.144 correct: 2829.000, total: 3000.000, accuracy: 0.943\n",
            "training epoch: [37 ] loss: 0.143 correct: 2828.000, total: 3000.000, accuracy: 0.943\n",
            "training epoch: [38 ] loss: 0.142 correct: 2826.000, total: 3000.000, accuracy: 0.942\n",
            "training epoch: [39 ] loss: 0.142 correct: 2825.000, total: 3000.000, accuracy: 0.942\n",
            "training epoch: [40 ] loss: 0.141 correct: 2823.000, total: 3000.000, accuracy: 0.941\n",
            "training epoch: [41 ] loss: 0.141 correct: 2825.000, total: 3000.000, accuracy: 0.942\n",
            "training epoch: [42 ] loss: 0.141 correct: 2824.000, total: 3000.000, accuracy: 0.941\n",
            "training epoch: [43 ] loss: 0.140 correct: 2824.000, total: 3000.000, accuracy: 0.941\n",
            "training epoch: [44 ] loss: 0.140 correct: 2823.000, total: 3000.000, accuracy: 0.941\n",
            "training epoch: [45 ] loss: 0.140 correct: 2823.000, total: 3000.000, accuracy: 0.941\n",
            "training epoch: [46 ] loss: 0.140 correct: 2825.000, total: 3000.000, accuracy: 0.942\n",
            "training epoch: [47 ] loss: 0.140 correct: 2825.000, total: 3000.000, accuracy: 0.942\n",
            "training epoch: [48 ] loss: 0.139 correct: 2823.000, total: 3000.000, accuracy: 0.941\n",
            "training epoch: [49 ] loss: 0.139 correct: 2821.000, total: 3000.000, accuracy: 0.940\n",
            "training epoch: [50 ] loss: 0.139 correct: 2821.000, total: 3000.000, accuracy: 0.940\n",
            "training epoch: [51 ] loss: 0.139 correct: 2821.000, total: 3000.000, accuracy: 0.940\n",
            "training epoch: [52 ] loss: 0.139 correct: 2820.000, total: 3000.000, accuracy: 0.940\n",
            "training epoch: [53 ] loss: 0.139 correct: 2820.000, total: 3000.000, accuracy: 0.940\n",
            "training epoch: [54 ] loss: 0.138 correct: 2820.000, total: 3000.000, accuracy: 0.940\n",
            "training epoch: [55 ] loss: 0.138 correct: 2818.000, total: 3000.000, accuracy: 0.939\n",
            "training epoch: [56 ] loss: 0.138 correct: 2815.000, total: 3000.000, accuracy: 0.938\n",
            "training epoch: [57 ] loss: 0.138 correct: 2815.000, total: 3000.000, accuracy: 0.938\n",
            "training epoch: [58 ] loss: 0.138 correct: 2818.000, total: 3000.000, accuracy: 0.939\n",
            "training epoch: [59 ] loss: 0.138 correct: 2817.000, total: 3000.000, accuracy: 0.939\n",
            "training epoch: [60 ] loss: 0.137 correct: 2817.000, total: 3000.000, accuracy: 0.939\n",
            "training epoch: [61 ] loss: 0.137 correct: 2817.000, total: 3000.000, accuracy: 0.939\n",
            "training epoch: [62 ] loss: 0.137 correct: 2820.000, total: 3000.000, accuracy: 0.940\n",
            "training epoch: [63 ] loss: 0.137 correct: 2819.000, total: 3000.000, accuracy: 0.940\n",
            "training epoch: [64 ] loss: 0.136 correct: 2818.000, total: 3000.000, accuracy: 0.939\n",
            "training epoch: [65 ] loss: 0.136 correct: 2819.000, total: 3000.000, accuracy: 0.940\n",
            "training epoch: [66 ] loss: 0.136 correct: 2822.000, total: 3000.000, accuracy: 0.941\n",
            "training epoch: [67 ] loss: 0.136 correct: 2822.000, total: 3000.000, accuracy: 0.941\n",
            "training epoch: [68 ] loss: 0.136 correct: 2824.000, total: 3000.000, accuracy: 0.941\n",
            "training epoch: [69 ] loss: 0.136 correct: 2822.000, total: 3000.000, accuracy: 0.941\n",
            "training epoch: [70 ] loss: 0.136 correct: 2825.000, total: 3000.000, accuracy: 0.942\n",
            "training epoch: [71 ] loss: 0.136 correct: 2826.000, total: 3000.000, accuracy: 0.942\n",
            "training epoch: [72 ] loss: 0.136 correct: 2824.000, total: 3000.000, accuracy: 0.941\n",
            "training epoch: [73 ] loss: 0.136 correct: 2825.000, total: 3000.000, accuracy: 0.942\n",
            "training epoch: [74 ] loss: 0.136 correct: 2825.000, total: 3000.000, accuracy: 0.942\n",
            "training epoch: [75 ] loss: 0.136 correct: 2825.000, total: 3000.000, accuracy: 0.942\n",
            "training epoch: [76 ] loss: 0.136 correct: 2822.000, total: 3000.000, accuracy: 0.941\n",
            "training epoch: [77 ] loss: 0.136 correct: 2820.000, total: 3000.000, accuracy: 0.940\n",
            "training epoch: [78 ] loss: 0.136 correct: 2819.000, total: 3000.000, accuracy: 0.940\n",
            "training epoch: [79 ] loss: 0.136 correct: 2819.000, total: 3000.000, accuracy: 0.940\n",
            "training epoch: [80 ] loss: 0.136 correct: 2820.000, total: 3000.000, accuracy: 0.940\n",
            "training epoch: [81 ] loss: 0.137 correct: 2820.000, total: 3000.000, accuracy: 0.940\n",
            "training epoch: [82 ] loss: 0.137 correct: 2822.000, total: 3000.000, accuracy: 0.941\n",
            "training epoch: [83 ] loss: 0.137 correct: 2821.000, total: 3000.000, accuracy: 0.940\n",
            "training epoch: [84 ] loss: 0.138 correct: 2816.000, total: 3000.000, accuracy: 0.939\n",
            "training epoch: [85 ] loss: 0.138 correct: 2811.000, total: 3000.000, accuracy: 0.937\n",
            "training epoch: [86 ] loss: 0.139 correct: 2813.000, total: 3000.000, accuracy: 0.938\n",
            "training epoch: [87 ] loss: 0.139 correct: 2812.000, total: 3000.000, accuracy: 0.937\n",
            "training epoch: [88 ] loss: 0.140 correct: 2812.000, total: 3000.000, accuracy: 0.937\n",
            "training epoch: [89 ] loss: 0.141 correct: 2812.000, total: 3000.000, accuracy: 0.937\n",
            "training epoch: [90 ] loss: 0.142 correct: 2811.000, total: 3000.000, accuracy: 0.937\n",
            "training epoch: [91 ] loss: 0.143 correct: 2812.000, total: 3000.000, accuracy: 0.937\n",
            "training epoch: [92 ] loss: 0.144 correct: 2809.000, total: 3000.000, accuracy: 0.936\n",
            "training epoch: [93 ] loss: 0.145 correct: 2809.000, total: 3000.000, accuracy: 0.936\n",
            "training epoch: [94 ] loss: 0.145 correct: 2808.000, total: 3000.000, accuracy: 0.936\n",
            "training epoch: [95 ] loss: 0.145 correct: 2809.000, total: 3000.000, accuracy: 0.936\n",
            "training epoch: [96 ] loss: 0.145 correct: 2809.000, total: 3000.000, accuracy: 0.936\n",
            "training epoch: [97 ] loss: 0.145 correct: 2810.000, total: 3000.000, accuracy: 0.937\n",
            "training epoch: [98 ] loss: 0.145 correct: 2811.000, total: 3000.000, accuracy: 0.937\n",
            "training epoch: [99 ] loss: 0.145 correct: 2811.000, total: 3000.000, accuracy: 0.937\n",
            "training epoch: [100 ] loss: 0.145 correct: 2813.000, total: 3000.000, accuracy: 0.938\n",
            "training epoch: [101 ] loss: 0.145 correct: 2811.000, total: 3000.000, accuracy: 0.937\n",
            "training epoch: [102 ] loss: 0.145 correct: 2810.000, total: 3000.000, accuracy: 0.937\n",
            "training epoch: [103 ] loss: 0.145 correct: 2813.000, total: 3000.000, accuracy: 0.938\n",
            "training epoch: [104 ] loss: 0.144 correct: 2813.000, total: 3000.000, accuracy: 0.938\n",
            "training epoch: [105 ] loss: 0.144 correct: 2811.000, total: 3000.000, accuracy: 0.937\n",
            "training epoch: [106 ] loss: 0.145 correct: 2810.000, total: 3000.000, accuracy: 0.937\n",
            "training epoch: [107 ] loss: 0.144 correct: 2810.000, total: 3000.000, accuracy: 0.937\n",
            "training epoch: [108 ] loss: 0.144 correct: 2809.000, total: 3000.000, accuracy: 0.936\n",
            "training epoch: [109 ] loss: 0.144 correct: 2811.000, total: 3000.000, accuracy: 0.937\n",
            "training epoch: [110 ] loss: 0.144 correct: 2811.000, total: 3000.000, accuracy: 0.937\n",
            "training epoch: [111 ] loss: 0.144 correct: 2814.000, total: 3000.000, accuracy: 0.938\n",
            "training epoch: [112 ] loss: 0.144 correct: 2814.000, total: 3000.000, accuracy: 0.938\n",
            "training epoch: [113 ] loss: 0.145 correct: 2816.000, total: 3000.000, accuracy: 0.939\n",
            "training epoch: [114 ] loss: 0.145 correct: 2814.000, total: 3000.000, accuracy: 0.938\n",
            "training epoch: [115 ] loss: 0.145 correct: 2812.000, total: 3000.000, accuracy: 0.937\n",
            "training epoch: [116 ] loss: 0.145 correct: 2811.000, total: 3000.000, accuracy: 0.937\n",
            "training epoch: [117 ] loss: 0.145 correct: 2810.000, total: 3000.000, accuracy: 0.937\n",
            "training epoch: [118 ] loss: 0.145 correct: 2808.000, total: 3000.000, accuracy: 0.936\n",
            "training epoch: [119 ] loss: 0.145 correct: 2810.000, total: 3000.000, accuracy: 0.937\n",
            "training epoch: [120 ] loss: 0.145 correct: 2812.000, total: 3000.000, accuracy: 0.937\n",
            "training epoch: [121 ] loss: 0.146 correct: 2811.000, total: 3000.000, accuracy: 0.937\n",
            "training epoch: [122 ] loss: 0.146 correct: 2811.000, total: 3000.000, accuracy: 0.937\n",
            "training epoch: [123 ] loss: 0.146 correct: 2811.000, total: 3000.000, accuracy: 0.937\n",
            "training epoch: [124 ] loss: 0.146 correct: 2810.000, total: 3000.000, accuracy: 0.937\n",
            "training epoch: [125 ] loss: 0.146 correct: 2810.000, total: 3000.000, accuracy: 0.937\n",
            "training epoch: [126 ] loss: 0.146 correct: 2810.000, total: 3000.000, accuracy: 0.937\n",
            "training epoch: [127 ] loss: 0.147 correct: 2808.000, total: 3000.000, accuracy: 0.936\n",
            "training epoch: [128 ] loss: 0.147 correct: 2808.000, total: 3000.000, accuracy: 0.936\n",
            "training epoch: [129 ] loss: 0.147 correct: 2808.000, total: 3000.000, accuracy: 0.936\n",
            "training epoch: [130 ] loss: 0.148 correct: 2807.000, total: 3000.000, accuracy: 0.936\n",
            "training epoch: [131 ] loss: 0.148 correct: 2807.000, total: 3000.000, accuracy: 0.936\n",
            "training epoch: [132 ] loss: 0.148 correct: 2804.000, total: 3000.000, accuracy: 0.935\n",
            "training epoch: [133 ] loss: 0.149 correct: 2805.000, total: 3000.000, accuracy: 0.935\n",
            "training epoch: [134 ] loss: 0.149 correct: 2804.000, total: 3000.000, accuracy: 0.935\n",
            "training epoch: [135 ] loss: 0.149 correct: 2805.000, total: 3000.000, accuracy: 0.935\n",
            "training epoch: [136 ] loss: 0.150 correct: 2803.000, total: 3000.000, accuracy: 0.934\n",
            "training epoch: [137 ] loss: 0.150 correct: 2798.000, total: 3000.000, accuracy: 0.933\n",
            "training epoch: [138 ] loss: 0.151 correct: 2797.000, total: 3000.000, accuracy: 0.932\n",
            "training epoch: [139 ] loss: 0.151 correct: 2797.000, total: 3000.000, accuracy: 0.932\n",
            "training epoch: [140 ] loss: 0.151 correct: 2797.000, total: 3000.000, accuracy: 0.932\n",
            "training epoch: [141 ] loss: 0.152 correct: 2797.000, total: 3000.000, accuracy: 0.932\n",
            "training epoch: [142 ] loss: 0.152 correct: 2797.000, total: 3000.000, accuracy: 0.932\n",
            "training epoch: [143 ] loss: 0.152 correct: 2799.000, total: 3000.000, accuracy: 0.933\n",
            "training epoch: [144 ] loss: 0.153 correct: 2800.000, total: 3000.000, accuracy: 0.933\n",
            "training epoch: [145 ] loss: 0.153 correct: 2798.000, total: 3000.000, accuracy: 0.933\n",
            "training epoch: [146 ] loss: 0.153 correct: 2798.000, total: 3000.000, accuracy: 0.933\n",
            "training epoch: [147 ] loss: 0.153 correct: 2796.000, total: 3000.000, accuracy: 0.932\n",
            "training epoch: [148 ] loss: 0.153 correct: 2795.000, total: 3000.000, accuracy: 0.932\n",
            "training epoch: [149 ] loss: 0.153 correct: 2797.000, total: 3000.000, accuracy: 0.932\n",
            "training epoch: [150 ] loss: 0.153 correct: 2797.000, total: 3000.000, accuracy: 0.932\n",
            "training epoch: [151 ] loss: 0.153 correct: 2797.000, total: 3000.000, accuracy: 0.932\n",
            "training epoch: [152 ] loss: 0.154 correct: 2797.000, total: 3000.000, accuracy: 0.932\n",
            "training epoch: [153 ] loss: 0.154 correct: 2798.000, total: 3000.000, accuracy: 0.933\n",
            "training epoch: [154 ] loss: 0.154 correct: 2797.000, total: 3000.000, accuracy: 0.932\n",
            "training epoch: [155 ] loss: 0.154 correct: 2797.000, total: 3000.000, accuracy: 0.932\n",
            "training epoch: [156 ] loss: 0.155 correct: 2799.000, total: 3000.000, accuracy: 0.933\n",
            "training epoch: [157 ] loss: 0.155 correct: 2799.000, total: 3000.000, accuracy: 0.933\n",
            "training epoch: [158 ] loss: 0.155 correct: 2798.000, total: 3000.000, accuracy: 0.933\n",
            "training epoch: [159 ] loss: 0.155 correct: 2797.000, total: 3000.000, accuracy: 0.932\n",
            "training epoch: [160 ] loss: 0.156 correct: 2795.000, total: 3000.000, accuracy: 0.932\n",
            "training epoch: [161 ] loss: 0.156 correct: 2796.000, total: 3000.000, accuracy: 0.932\n",
            "training epoch: [162 ] loss: 0.156 correct: 2796.000, total: 3000.000, accuracy: 0.932\n",
            "training epoch: [163 ] loss: 0.156 correct: 2794.000, total: 3000.000, accuracy: 0.931\n",
            "training epoch: [164 ] loss: 0.157 correct: 2793.000, total: 3000.000, accuracy: 0.931\n",
            "training epoch: [165 ] loss: 0.157 correct: 2793.000, total: 3000.000, accuracy: 0.931\n",
            "training epoch: [166 ] loss: 0.157 correct: 2792.000, total: 3000.000, accuracy: 0.931\n",
            "training epoch: [167 ] loss: 0.158 correct: 2792.000, total: 3000.000, accuracy: 0.931\n",
            "training epoch: [168 ] loss: 0.158 correct: 2792.000, total: 3000.000, accuracy: 0.931\n",
            "training epoch: [169 ] loss: 0.158 correct: 2791.000, total: 3000.000, accuracy: 0.930\n",
            "training epoch: [170 ] loss: 0.159 correct: 2791.000, total: 3000.000, accuracy: 0.930\n",
            "training epoch: [171 ] loss: 0.159 correct: 2791.000, total: 3000.000, accuracy: 0.930\n",
            "training epoch: [172 ] loss: 0.159 correct: 2792.000, total: 3000.000, accuracy: 0.931\n",
            "training epoch: [173 ] loss: 0.160 correct: 2792.000, total: 3000.000, accuracy: 0.931\n",
            "training epoch: [174 ] loss: 0.160 correct: 2793.000, total: 3000.000, accuracy: 0.931\n",
            "training epoch: [175 ] loss: 0.161 correct: 2791.000, total: 3000.000, accuracy: 0.930\n",
            "training epoch: [176 ] loss: 0.161 correct: 2790.000, total: 3000.000, accuracy: 0.930\n",
            "training epoch: [177 ] loss: 0.161 correct: 2788.000, total: 3000.000, accuracy: 0.929\n",
            "training epoch: [178 ] loss: 0.162 correct: 2788.000, total: 3000.000, accuracy: 0.929\n",
            "training epoch: [179 ] loss: 0.162 correct: 2788.000, total: 3000.000, accuracy: 0.929\n",
            "training epoch: [180 ] loss: 0.162 correct: 2788.000, total: 3000.000, accuracy: 0.929\n",
            "training epoch: [181 ] loss: 0.163 correct: 2788.000, total: 3000.000, accuracy: 0.929\n",
            "training epoch: [182 ] loss: 0.163 correct: 2788.000, total: 3000.000, accuracy: 0.929\n",
            "training epoch: [183 ] loss: 0.164 correct: 2785.000, total: 3000.000, accuracy: 0.928\n",
            "training epoch: [184 ] loss: 0.164 correct: 2786.000, total: 3000.000, accuracy: 0.929\n",
            "training epoch: [185 ] loss: 0.164 correct: 2786.000, total: 3000.000, accuracy: 0.929\n",
            "training epoch: [186 ] loss: 0.165 correct: 2785.000, total: 3000.000, accuracy: 0.928\n",
            "training epoch: [187 ] loss: 0.165 correct: 2786.000, total: 3000.000, accuracy: 0.929\n",
            "training epoch: [188 ] loss: 0.166 correct: 2785.000, total: 3000.000, accuracy: 0.928\n",
            "training epoch: [189 ] loss: 0.166 correct: 2785.000, total: 3000.000, accuracy: 0.928\n",
            "training epoch: [190 ] loss: 0.167 correct: 2784.000, total: 3000.000, accuracy: 0.928\n",
            "training epoch: [191 ] loss: 0.167 correct: 2782.000, total: 3000.000, accuracy: 0.927\n",
            "training epoch: [192 ] loss: 0.168 correct: 2780.000, total: 3000.000, accuracy: 0.927\n",
            "training epoch: [193 ] loss: 0.169 correct: 2779.000, total: 3000.000, accuracy: 0.926\n",
            "training epoch: [194 ] loss: 0.169 correct: 2778.000, total: 3000.000, accuracy: 0.926\n",
            "training epoch: [195 ] loss: 0.170 correct: 2778.000, total: 3000.000, accuracy: 0.926\n",
            "training epoch: [196 ] loss: 0.171 correct: 2775.000, total: 3000.000, accuracy: 0.925\n",
            "training epoch: [197 ] loss: 0.172 correct: 2774.000, total: 3000.000, accuracy: 0.925\n",
            "training epoch: [198 ] loss: 0.172 correct: 2774.000, total: 3000.000, accuracy: 0.925\n",
            "training epoch: [199 ] loss: 0.173 correct: 2776.000, total: 3000.000, accuracy: 0.925\n",
            "training epoch: [200 ] loss: 0.174 correct: 2776.000, total: 3000.000, accuracy: 0.925\n",
            "Finished Training run \n"
          ],
          "name": "stdout"
        }
      ]
    },
    {
      "cell_type": "code",
      "metadata": {
        "id": "AciJnAh5nfug"
      },
      "source": [
        "columns = [\"epochs\", \"argmax > 0.5\" ,\"argmax < 0.5\", \"focus_true_pred_true\", \"focus_false_pred_true\", \"focus_true_pred_false\", \"focus_false_pred_false\" ]\n",
        "df_train = pd.DataFrame()\n",
        "df_test = pd.DataFrame()\n",
        "df_train[columns[0]] = np.arange(0,epoch+2)\n",
        "df_train[columns[1]] = analysis_data_tr[:,-2]/30\n",
        "df_train[columns[2]] = analysis_data_tr[:,-1]/30\n",
        "df_train[columns[3]] = analysis_data_tr[:,0]/30\n",
        "df_train[columns[4]] = analysis_data_tr[:,1]/30\n",
        "df_train[columns[5]] = analysis_data_tr[:,2]/30\n",
        "df_train[columns[6]] = analysis_data_tr[:,3]/30"
      ],
      "execution_count": 14,
      "outputs": []
    },
    {
      "cell_type": "code",
      "metadata": {
        "colab": {
          "base_uri": "https://localhost:8080/",
          "height": 456
        },
        "id": "NoQpS_6scRsC",
        "outputId": "72e656f3-230a-49d8-dee7-137e85444821"
      },
      "source": [
        "df_train"
      ],
      "execution_count": 15,
      "outputs": [
        {
          "output_type": "execute_result",
          "data": {
            "text/html": [
              "<div>\n",
              "<style scoped>\n",
              "    .dataframe tbody tr th:only-of-type {\n",
              "        vertical-align: middle;\n",
              "    }\n",
              "\n",
              "    .dataframe tbody tr th {\n",
              "        vertical-align: top;\n",
              "    }\n",
              "\n",
              "    .dataframe thead th {\n",
              "        text-align: right;\n",
              "    }\n",
              "</style>\n",
              "<table border=\"1\" class=\"dataframe\">\n",
              "  <thead>\n",
              "    <tr style=\"text-align: right;\">\n",
              "      <th></th>\n",
              "      <th>epochs</th>\n",
              "      <th>argmax &gt; 0.5</th>\n",
              "      <th>argmax &lt; 0.5</th>\n",
              "      <th>focus_true_pred_true</th>\n",
              "      <th>focus_false_pred_true</th>\n",
              "      <th>focus_true_pred_false</th>\n",
              "      <th>focus_false_pred_false</th>\n",
              "    </tr>\n",
              "  </thead>\n",
              "  <tbody>\n",
              "    <tr>\n",
              "      <th>0</th>\n",
              "      <td>0</td>\n",
              "      <td>9.800000</td>\n",
              "      <td>90.200000</td>\n",
              "      <td>5.233333</td>\n",
              "      <td>32.533333</td>\n",
              "      <td>6.533333</td>\n",
              "      <td>55.700000</td>\n",
              "    </tr>\n",
              "    <tr>\n",
              "      <th>1</th>\n",
              "      <td>1</td>\n",
              "      <td>27.366667</td>\n",
              "      <td>72.633333</td>\n",
              "      <td>16.100000</td>\n",
              "      <td>30.833333</td>\n",
              "      <td>10.300000</td>\n",
              "      <td>42.766667</td>\n",
              "    </tr>\n",
              "    <tr>\n",
              "      <th>2</th>\n",
              "      <td>2</td>\n",
              "      <td>39.866667</td>\n",
              "      <td>60.133333</td>\n",
              "      <td>30.633333</td>\n",
              "      <td>25.066667</td>\n",
              "      <td>14.800000</td>\n",
              "      <td>29.500000</td>\n",
              "    </tr>\n",
              "    <tr>\n",
              "      <th>3</th>\n",
              "      <td>3</td>\n",
              "      <td>56.266667</td>\n",
              "      <td>43.733333</td>\n",
              "      <td>46.800000</td>\n",
              "      <td>22.700000</td>\n",
              "      <td>14.666667</td>\n",
              "      <td>15.833333</td>\n",
              "    </tr>\n",
              "    <tr>\n",
              "      <th>4</th>\n",
              "      <td>4</td>\n",
              "      <td>67.766667</td>\n",
              "      <td>32.233333</td>\n",
              "      <td>59.500000</td>\n",
              "      <td>17.933333</td>\n",
              "      <td>12.900000</td>\n",
              "      <td>9.666667</td>\n",
              "    </tr>\n",
              "    <tr>\n",
              "      <th>...</th>\n",
              "      <td>...</td>\n",
              "      <td>...</td>\n",
              "      <td>...</td>\n",
              "      <td>...</td>\n",
              "      <td>...</td>\n",
              "      <td>...</td>\n",
              "      <td>...</td>\n",
              "    </tr>\n",
              "    <tr>\n",
              "      <th>196</th>\n",
              "      <td>196</td>\n",
              "      <td>95.033333</td>\n",
              "      <td>4.966667</td>\n",
              "      <td>81.766667</td>\n",
              "      <td>10.733333</td>\n",
              "      <td>6.233333</td>\n",
              "      <td>1.266667</td>\n",
              "    </tr>\n",
              "    <tr>\n",
              "      <th>197</th>\n",
              "      <td>197</td>\n",
              "      <td>95.200000</td>\n",
              "      <td>4.800000</td>\n",
              "      <td>81.833333</td>\n",
              "      <td>10.633333</td>\n",
              "      <td>6.233333</td>\n",
              "      <td>1.300000</td>\n",
              "    </tr>\n",
              "    <tr>\n",
              "      <th>198</th>\n",
              "      <td>198</td>\n",
              "      <td>95.300000</td>\n",
              "      <td>4.700000</td>\n",
              "      <td>81.766667</td>\n",
              "      <td>10.700000</td>\n",
              "      <td>6.233333</td>\n",
              "      <td>1.300000</td>\n",
              "    </tr>\n",
              "    <tr>\n",
              "      <th>199</th>\n",
              "      <td>199</td>\n",
              "      <td>95.333333</td>\n",
              "      <td>4.666667</td>\n",
              "      <td>81.800000</td>\n",
              "      <td>10.733333</td>\n",
              "      <td>6.200000</td>\n",
              "      <td>1.266667</td>\n",
              "    </tr>\n",
              "    <tr>\n",
              "      <th>200</th>\n",
              "      <td>200</td>\n",
              "      <td>95.500000</td>\n",
              "      <td>4.500000</td>\n",
              "      <td>81.733333</td>\n",
              "      <td>10.800000</td>\n",
              "      <td>6.233333</td>\n",
              "      <td>1.233333</td>\n",
              "    </tr>\n",
              "  </tbody>\n",
              "</table>\n",
              "<p>201 rows × 7 columns</p>\n",
              "</div>"
            ],
            "text/plain": [
              "     epochs  argmax > 0.5  ...  focus_true_pred_false  focus_false_pred_false\n",
              "0         0      9.800000  ...               6.533333               55.700000\n",
              "1         1     27.366667  ...              10.300000               42.766667\n",
              "2         2     39.866667  ...              14.800000               29.500000\n",
              "3         3     56.266667  ...              14.666667               15.833333\n",
              "4         4     67.766667  ...              12.900000                9.666667\n",
              "..      ...           ...  ...                    ...                     ...\n",
              "196     196     95.033333  ...               6.233333                1.266667\n",
              "197     197     95.200000  ...               6.233333                1.300000\n",
              "198     198     95.300000  ...               6.233333                1.300000\n",
              "199     199     95.333333  ...               6.200000                1.266667\n",
              "200     200     95.500000  ...               6.233333                1.233333\n",
              "\n",
              "[201 rows x 7 columns]"
            ]
          },
          "metadata": {
            "tags": []
          },
          "execution_count": 15
        }
      ]
    },
    {
      "cell_type": "code",
      "metadata": {
        "colab": {
          "base_uri": "https://localhost:8080/",
          "height": 404
        },
        "id": "EY_j8B274vuH",
        "outputId": "bd38676a-7a77-4a46-ccdc-be7a17ea72e6"
      },
      "source": [
        "plot_analysis(df_train,columns)"
      ],
      "execution_count": 16,
      "outputs": [
        {
          "output_type": "display_data",
          "data": {
            "image/png": "[encoded data removed]",
            "text/plain": [
              "<Figure size 432x432 with 1 Axes>"
            ]
          },
          "metadata": {
            "tags": [],
            "needs_background": "light"
          }
        }
      ]
    },
    {
      "cell_type": "code",
      "metadata": {
        "id": "VCnS6r2_3WdU"
      },
      "source": [
        "aph = []\n",
        "for i in bg:\n",
        "  aph.append(F.softmax(i,dim=1).detach().numpy())\n",
        "  \n",
        "aph = np.concatenate(aph,axis=0)\n",
        "# torch.save({\n",
        "#             'epoch': 500,\n",
        "#             'model_state_dict': what_net.state_dict(),\n",
        "#             #'optimizer_state_dict': optimizer_what.state_dict(),\n",
        "#             \"optimizer_alpha\":optim1,\n",
        "#             \"FTPT_analysis\":analysis_data_tr,\n",
        "#             \"alpha\":aph\n",
        "\n",
        "#             }, \"type4_what_net_500.pt\")"
      ],
      "execution_count": 17,
      "outputs": []
    },
    {
      "cell_type": "code",
      "metadata": {
        "colab": {
          "base_uri": "https://localhost:8080/"
        },
        "id": "KVzrDOGS4UxU",
        "outputId": "07b44afe-038b-47c1-b32a-67d58b773354"
      },
      "source": [
        "aph[0]"
      ],
      "execution_count": 18,
      "outputs": [
        {
          "output_type": "execute_result",
          "data": {
            "text/plain": [
              "array([1.4321240e-06, 8.1700698e-04, 5.4173949e-03, 9.9033326e-01,\n",
              "       3.1227875e-03, 1.2455486e-04, 6.6731272e-06, 1.6401136e-04,\n",
              "       1.2744871e-05], dtype=float32)"
            ]
          },
          "metadata": {
            "tags": []
          },
          "execution_count": 18
        }
      ]
    },
    {
      "cell_type": "code",
      "metadata": {
        "id": "7Ut6ZTAXbvqx"
      },
      "source": [
        "avrg = []\n",
        "with torch.no_grad():\n",
        "  for i, data1 in  enumerate(train_loader):\n",
        "          inputs , labels , fore_idx = data1\n",
        "          inputs = inputs.double()\n",
        "          inputs, labels = inputs.to(\"cuda\"),labels.to(\"cuda\")\n",
        "          beta  = bg[i]\n",
        "          beta = beta.to(\"cuda\")\n",
        "          avg,alpha = attn_avg(inputs,beta)\n",
        "          \n",
        "          avrg.append(avg.detach().cpu().numpy())\n",
        "avrg= np.concatenate(avrg,axis=0)"
      ],
      "execution_count": 19,
      "outputs": []
    },
    {
      "cell_type": "code",
      "metadata": {
        "id": "2KQFYlmTLG0N",
        "colab": {
          "base_uri": "https://localhost:8080/",
          "height": 374
        },
        "outputId": "99154210-fa48-4b22-db26-7970d2e493be"
      },
      "source": [
        "data = np.load(\"type_4_data.npy\",allow_pickle=True)\n",
        "plot_decision_boundary(what_net,[1,8,2,9],data,bg,avrg)"
      ],
      "execution_count": 20,
      "outputs": [
        {
          "output_type": "display_data",
          "data": {
            "image/png": "[encoded data removed]",
            "text/plain": [
              "<Figure size 432x432 with 1 Axes>"
            ]
          },
          "metadata": {
            "tags": [],
            "needs_background": "light"
          }
        }
      ]
    },
    {
      "cell_type": "code",
      "metadata": {
        "id": "0TlpHSOC0hfk"
      },
      "source": [
        ""
      ],
      "execution_count": 20,
      "outputs": []
    }
  ]
}