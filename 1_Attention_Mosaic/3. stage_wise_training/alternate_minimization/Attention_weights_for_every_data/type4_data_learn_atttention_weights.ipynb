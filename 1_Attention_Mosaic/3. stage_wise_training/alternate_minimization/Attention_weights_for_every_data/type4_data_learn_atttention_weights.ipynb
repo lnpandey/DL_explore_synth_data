{
  "nbformat": 4,
  "nbformat_minor": 0,
  "metadata": {
    "colab": {
      "name": "type4_data_learn_atttention_weights.ipynb",
      "provenance": [],
      "collapsed_sections": [],
      "toc_visible": true
    },
    "kernelspec": {
      "name": "python3",
      "display_name": "Python 3"
    },
    "language_info": {
      "name": "python"
    },
    "accelerator": "GPU"
  },
  "cells": [
    {
      "cell_type": "code",
      "metadata": {
        "id": "BWIyC9Ip_bcq"
      },
      "source": [
        "import numpy as np\n",
        "import pandas as pd\n",
        "\n",
        "import torch\n",
        "import torchvision\n",
        "from torch.utils.data import Dataset, DataLoader\n",
        "from torchvision import transforms, utils\n",
        "import torch.nn as nn\n",
        "import torch.nn.functional as F\n",
        "import torch.optim as optim\n",
        "\n",
        "from matplotlib import pyplot as plt\n",
        "%matplotlib inline"
      ],
      "execution_count": 1,
      "outputs": []
    },
    {
      "cell_type": "code",
      "metadata": {
        "id": "F2Pc5f49BVY1"
      },
      "source": [
        "class MosaicDataset1(Dataset):\n",
        "  \"\"\"MosaicDataset dataset.\"\"\"\n",
        "\n",
        "  def __init__(self, mosaic_list, mosaic_label,fore_idx):\n",
        "    \"\"\"\n",
        "      Args:\n",
        "        csv_file (string): Path to the csv file with annotations.\n",
        "        root_dir (string): Directory with all the images.\n",
        "        transform (callable, optional): Optional transform to be applied\n",
        "            on a sample.\n",
        "    \"\"\"\n",
        "    self.mosaic = mosaic_list\n",
        "    self.label = mosaic_label\n",
        "    self.fore_idx = fore_idx\n",
        "    #self.alpha = torch.ones((3000,9),requires_grad=True)/9\n",
        "    \n",
        "  def __len__(self):\n",
        "    return len(self.label)\n",
        "\n",
        "  def __getitem__(self, idx):\n",
        "    return self.mosaic[idx] , self.label[idx] , self.fore_idx[idx]#,self.alpha[idx]"
      ],
      "execution_count": 2,
      "outputs": []
    },
    {
      "cell_type": "code",
      "metadata": {
        "id": "G9Z4KIS4tGuN"
      },
      "source": [
        "ag = []\n",
        "for i in range(12):\n",
        "  alphag = torch.ones((250,9))/9\n",
        "  ag.append( alphag.requires_grad_() )"
      ],
      "execution_count": 3,
      "outputs": []
    },
    {
      "cell_type": "code",
      "metadata": {
        "id": "AbFgCStsCUO0"
      },
      "source": [
        "train_data = np.load(\"train_type4_data.npy\",allow_pickle=True)"
      ],
      "execution_count": 4,
      "outputs": []
    },
    {
      "cell_type": "code",
      "metadata": {
        "id": "_W_TAUluCUBs"
      },
      "source": [
        "train_mosaic_list_of_images = train_data[0][\"mosaic_list\"]\n",
        "train_mosaic_label = train_data[0][\"mosaic_label\"]\n",
        "train_fore_idx = train_data[0][\"fore_idx\"]\n",
        "\n",
        "\n",
        "\n",
        "batch = 250\n",
        "tr_msd = MosaicDataset1(train_mosaic_list_of_images, train_mosaic_label, train_fore_idx)\n",
        "train_loader = DataLoader( tr_msd,batch_size= batch ,shuffle=False,num_workers=0)"
      ],
      "execution_count": 5,
      "outputs": []
    },
    {
      "cell_type": "markdown",
      "metadata": {
        "id": "StAB8TbVCeGN"
      },
      "source": [
        "# Model"
      ]
    },
    {
      "cell_type": "code",
      "metadata": {
        "id": "HbrMidFCla6h"
      },
      "source": [
        "class Module2(nn.Module):\n",
        "  def __init__(self):\n",
        "    super(Module2, self).__init__()\n",
        "  \n",
        "\n",
        "    self.fc1 = nn.Linear(2, 100)\n",
        "    self.fc2 = nn.Linear(100,3)\n",
        "\n",
        "  def forward(self,y):  #z batch of list of 9 images\n",
        "\n",
        "    y = F.relu(self.fc1(y))\n",
        "    y = self.fc2(y)\n",
        "    return y"
      ],
      "execution_count": 6,
      "outputs": []
    },
    {
      "cell_type": "code",
      "metadata": {
        "id": "rRqj2VELllkX"
      },
      "source": [
        "torch.manual_seed(1234)\n",
        "what_net = Module2().double()\n",
        "what_net = what_net.to(\"cuda\")"
      ],
      "execution_count": 7,
      "outputs": []
    },
    {
      "cell_type": "code",
      "metadata": {
        "id": "6d8Wch99l4yB"
      },
      "source": [
        "def attn_avg(x,alpha):\n",
        "  y = torch.zeros([batch,2], dtype=torch.float64)\n",
        "  y = y.to(\"cuda\")\n",
        "  alpha = F.softmax(alpha,dim=1)   # alphas\n",
        "  for i in range(9):            \n",
        "    alpha1 = alpha[:,i]          \n",
        "    y = y + torch.mul(alpha1[:,None],x[:,i])\n",
        "    return y \n"
      ],
      "execution_count": 8,
      "outputs": []
    },
    {
      "cell_type": "code",
      "metadata": {
        "id": "Rz1Kpw12loV6"
      },
      "source": [
        "def calculate_attn_loss(dataloader,what,criter):\n",
        "  what.eval()\n",
        "  r_loss = 0\n",
        "  alphas = []\n",
        "  lbls = []\n",
        "  pred = []\n",
        "  fidices = []\n",
        "  correct = 0\n",
        "  tot = 0\n",
        "  with torch.no_grad():\n",
        "    for i, data in enumerate(dataloader, 0):\n",
        "      inputs, labels,fidx = data\n",
        "      lbls.append(labels)\n",
        "      fidices.append(fidx)\n",
        "      inputs = inputs.double()\n",
        "      alpha = ag[i]  # alpha for ith batch\n",
        "      alpha = alpha.to(\"cuda\")\n",
        "      inputs, labels = inputs.to(\"cuda\"),labels.to(\"cuda\")\n",
        "      avg = attn_avg(inputs,alpha)\n",
        "      outputs = what(avg)\n",
        "      _, predicted = torch.max(outputs.data, 1)\n",
        "      correct += sum(predicted == labels)\n",
        "      tot += len(predicted)\n",
        "      pred.append(predicted.cpu().numpy())\n",
        "      alphas.append(alpha.cpu().numpy())\n",
        "      loss = criter(outputs, labels)\n",
        "      r_loss += loss.item()\n",
        "  alphas = np.concatenate(alphas,axis=0)\n",
        "  pred = np.concatenate(pred,axis=0)\n",
        "  lbls = np.concatenate(lbls,axis=0)\n",
        "  fidices = np.concatenate(fidices,axis=0)\n",
        "  #print(alphas.shape,pred.shape,lbls.shape,fidices.shape) \n",
        "  analysis = analyse_data(alphas,lbls,pred,fidices)\n",
        "  return r_loss/i,analysis,correct.item(),tot,correct.item()/tot"
      ],
      "execution_count": 9,
      "outputs": []
    },
    {
      "cell_type": "code",
      "metadata": {
        "id": "_toCktPanH0S"
      },
      "source": [
        "\n",
        "def analyse_data(alphas,lbls,predicted,f_idx):\n",
        "    '''\n",
        "       analysis data is created here\n",
        "    '''\n",
        "    batch = len(predicted)\n",
        "    amth,alth,ftpt,ffpt,ftpf,ffpf = 0,0,0,0,0,0\n",
        "    for j in range (batch):\n",
        "      focus = np.argmax(alphas[j])\n",
        "      if(alphas[j][focus] >= 0.5):\n",
        "        amth +=1\n",
        "      else:\n",
        "        alth +=1\n",
        "      if(focus == f_idx[j] and predicted[j] == lbls[j]):\n",
        "        ftpt += 1\n",
        "      elif(focus != f_idx[j] and predicted[j] == lbls[j]):\n",
        "        ffpt +=1\n",
        "      elif(focus == f_idx[j] and predicted[j] != lbls[j]):\n",
        "        ftpf +=1\n",
        "      elif(focus != f_idx[j] and predicted[j] != lbls[j]):\n",
        "        ffpf +=1\n",
        "    #print(sum(predicted==lbls),ftpt+ffpt)\n",
        "    return [ftpt,ffpt,ftpf,ffpf,amth,alth]"
      ],
      "execution_count": 10,
      "outputs": []
    },
    {
      "cell_type": "code",
      "metadata": {
        "id": "S633XgMToeN3"
      },
      "source": [
        "def update_function(param, grad, loss, learning_rate):\n",
        "  # print(\"param\", param)\n",
        "  # print(\"lr\",learning_rate)\n",
        "  # print(\"grad\",grad)\n",
        "  return param - learning_rate * grad"
      ],
      "execution_count": 11,
      "outputs": []
    },
    {
      "cell_type": "code",
      "metadata": {
        "id": "h5w2tAySYmLO"
      },
      "source": [
        "optim1 = []\n",
        "for i in range(12):\n",
        "  optim1.append(optim.RMSprop([ag[i]], lr=0.001))\n"
      ],
      "execution_count": 12,
      "outputs": []
    },
    {
      "cell_type": "code",
      "metadata": {
        "colab": {
          "base_uri": "https://localhost:8080/"
        },
        "id": "FU8gD2PYcyX4",
        "outputId": "6e1df1df-1d86-4f77-a113-a7bd567f5a9b"
      },
      "source": [
        "optim1[0]"
      ],
      "execution_count": 13,
      "outputs": [
        {
          "output_type": "execute_result",
          "data": {
            "text/plain": [
              "RMSprop (\n",
              "Parameter Group 0\n",
              "    alpha: 0.99\n",
              "    centered: False\n",
              "    eps: 1e-08\n",
              "    lr: 0.001\n",
              "    momentum: 0\n",
              "    weight_decay: 0\n",
              ")"
            ]
          },
          "metadata": {
            "tags": []
          },
          "execution_count": 13
        }
      ]
    },
    {
      "cell_type": "code",
      "metadata": {
        "colab": {
          "base_uri": "https://localhost:8080/"
        },
        "id": "qPaYaojinMTA",
        "outputId": "59a04e03-fbd3-437d-e9f5-3dab2475c28b"
      },
      "source": [
        "# instantiate optimizer\n",
        "optimizer_what = optim.RMSprop(what_net.parameters(), lr=0.001)#,nesterov=True)\n",
        "\n",
        " \n",
        "\n",
        "\n",
        "criterion = nn.CrossEntropyLoss()\n",
        "acti = []\n",
        "analysis_data_tr = []\n",
        "analysis_data_tst = []\n",
        "loss_curi_tr = []\n",
        "loss_curi_tst = []\n",
        "epochs = 500\n",
        "# lr = torch.tensor([0.001],device=\"cuda\")\n",
        "\n",
        "\n",
        "# calculate zeroth epoch loss and FTPT values\n",
        "running_loss,anlys_data,correct,total,accuracy = calculate_attn_loss(train_loader,what_net,criterion)\n",
        "print('training epoch: [%d ] loss: %.3f correct: %.3f, total: %.3f, accuracy: %.3f' %(0,running_loss,correct,total,accuracy)) \n",
        "loss_curi_tr.append(running_loss)\n",
        "analysis_data_tr.append(anlys_data)\n",
        "\n",
        "\n",
        "\n",
        "\n",
        "# training starts \n",
        "for epoch in range(epochs): # loop over the dataset multiple times\n",
        "  ep_lossi = []\n",
        "  running_loss = 0.0\n",
        "  what_net.train()\n",
        "  for i, data in enumerate(train_loader, 0):\n",
        "    # get the inputs\n",
        "    grads = [] \n",
        "    inputs, labels,_ = data\n",
        "    inputs = inputs.double()\n",
        "    alpha = ag[i] # alpha for ith batch\n",
        "    inputs, labels,alpha = inputs.to(\"cuda\"),labels.to(\"cuda\"),alpha.to(\"cuda\")\n",
        "\n",
        "        \n",
        "    # zero the parameter gradients\n",
        "    optimizer_what.zero_grad()\n",
        "    optim1[i].zero_grad()\n",
        "    #what_net.zero_grad()\n",
        "      \n",
        "    # forward + backward + optimize\n",
        "    avg = attn_avg(inputs,alpha)\n",
        "    outputs = what_net(avg)\n",
        "    loss = criterion(outputs, labels)\n",
        "\n",
        "    # print statistics\n",
        "    running_loss += loss.item()\n",
        "    # alpha.retain_grad()\n",
        "    loss.backward(retain_graph=False)\n",
        "    optimizer_what.step()\n",
        "    optim1[i].step()\n",
        "    #print(alpha.grad)\n",
        "    # with torch.no_grad():\n",
        "    #   alpha.sub_(lr * alpha.grad)\n",
        "    #   alpha.grad.zero_()\n",
        "    # alpha_g[i*250:(i+1)*250] = alpha\n",
        "    \n",
        "\n",
        "\n",
        "  running_loss_tr,anls_data,correct,total,accuracy = calculate_attn_loss(train_loader,what_net,criterion)\n",
        "  analysis_data_tr.append(anls_data)\n",
        "  loss_curi_tr.append(running_loss_tr)   #loss per epoch\n",
        "  print('training epoch: [%d ] loss: %.3f correct: %.3f, total: %.3f, accuracy: %.3f' %(epoch+1,running_loss_tr,correct,total,accuracy)) \n",
        "\n",
        "\n",
        "  \n",
        "  if running_loss_tr<=0.05:\n",
        "    break\n",
        "print('Finished Training run ')\n",
        "analysis_data_tr = np.array(analysis_data_tr)\n",
        "\n"
      ],
      "execution_count": 14,
      "outputs": [
        {
          "output_type": "stream",
          "text": [
            "training epoch: [0 ] loss: 1.205 correct: 972.000, total: 3000.000, accuracy: 0.324\n",
            "training epoch: [1 ] loss: 1.196 correct: 1071.000, total: 3000.000, accuracy: 0.357\n",
            "training epoch: [2 ] loss: 1.193 correct: 1364.000, total: 3000.000, accuracy: 0.455\n",
            "training epoch: [3 ] loss: 1.190 correct: 1226.000, total: 3000.000, accuracy: 0.409\n",
            "training epoch: [4 ] loss: 1.185 correct: 1225.000, total: 3000.000, accuracy: 0.408\n",
            "training epoch: [5 ] loss: 1.179 correct: 1269.000, total: 3000.000, accuracy: 0.423\n",
            "training epoch: [6 ] loss: 1.171 correct: 1292.000, total: 3000.000, accuracy: 0.431\n",
            "training epoch: [7 ] loss: 1.160 correct: 1256.000, total: 3000.000, accuracy: 0.419\n",
            "training epoch: [8 ] loss: 1.148 correct: 1250.000, total: 3000.000, accuracy: 0.417\n",
            "training epoch: [9 ] loss: 1.134 correct: 1275.000, total: 3000.000, accuracy: 0.425\n",
            "training epoch: [10 ] loss: 1.120 correct: 1297.000, total: 3000.000, accuracy: 0.432\n",
            "training epoch: [11 ] loss: 1.104 correct: 1318.000, total: 3000.000, accuracy: 0.439\n",
            "training epoch: [12 ] loss: 1.089 correct: 1341.000, total: 3000.000, accuracy: 0.447\n",
            "training epoch: [13 ] loss: 1.071 correct: 1346.000, total: 3000.000, accuracy: 0.449\n",
            "training epoch: [14 ] loss: 1.053 correct: 1365.000, total: 3000.000, accuracy: 0.455\n",
            "training epoch: [15 ] loss: 1.036 correct: 1431.000, total: 3000.000, accuracy: 0.477\n",
            "training epoch: [16 ] loss: 1.018 correct: 1522.000, total: 3000.000, accuracy: 0.507\n",
            "training epoch: [17 ] loss: 1.001 correct: 1549.000, total: 3000.000, accuracy: 0.516\n",
            "training epoch: [18 ] loss: 0.983 correct: 1585.000, total: 3000.000, accuracy: 0.528\n",
            "training epoch: [19 ] loss: 0.966 correct: 1652.000, total: 3000.000, accuracy: 0.551\n",
            "training epoch: [20 ] loss: 0.948 correct: 1712.000, total: 3000.000, accuracy: 0.571\n",
            "training epoch: [21 ] loss: 0.930 correct: 1772.000, total: 3000.000, accuracy: 0.591\n",
            "training epoch: [22 ] loss: 0.913 correct: 1846.000, total: 3000.000, accuracy: 0.615\n",
            "training epoch: [23 ] loss: 0.896 correct: 1900.000, total: 3000.000, accuracy: 0.633\n",
            "training epoch: [24 ] loss: 0.879 correct: 1952.000, total: 3000.000, accuracy: 0.651\n",
            "training epoch: [25 ] loss: 0.863 correct: 1993.000, total: 3000.000, accuracy: 0.664\n",
            "training epoch: [26 ] loss: 0.847 correct: 2024.000, total: 3000.000, accuracy: 0.675\n",
            "training epoch: [27 ] loss: 0.832 correct: 2074.000, total: 3000.000, accuracy: 0.691\n",
            "training epoch: [28 ] loss: 0.816 correct: 2135.000, total: 3000.000, accuracy: 0.712\n",
            "training epoch: [29 ] loss: 0.801 correct: 2188.000, total: 3000.000, accuracy: 0.729\n",
            "training epoch: [30 ] loss: 0.786 correct: 2237.000, total: 3000.000, accuracy: 0.746\n",
            "training epoch: [31 ] loss: 0.771 correct: 2286.000, total: 3000.000, accuracy: 0.762\n",
            "training epoch: [32 ] loss: 0.756 correct: 2330.000, total: 3000.000, accuracy: 0.777\n",
            "training epoch: [33 ] loss: 0.741 correct: 2382.000, total: 3000.000, accuracy: 0.794\n",
            "training epoch: [34 ] loss: 0.726 correct: 2423.000, total: 3000.000, accuracy: 0.808\n",
            "training epoch: [35 ] loss: 0.712 correct: 2467.000, total: 3000.000, accuracy: 0.822\n",
            "training epoch: [36 ] loss: 0.696 correct: 2505.000, total: 3000.000, accuracy: 0.835\n",
            "training epoch: [37 ] loss: 0.682 correct: 2533.000, total: 3000.000, accuracy: 0.844\n",
            "training epoch: [38 ] loss: 0.667 correct: 2551.000, total: 3000.000, accuracy: 0.850\n",
            "training epoch: [39 ] loss: 0.652 correct: 2566.000, total: 3000.000, accuracy: 0.855\n",
            "training epoch: [40 ] loss: 0.636 correct: 2569.000, total: 3000.000, accuracy: 0.856\n",
            "training epoch: [41 ] loss: 0.621 correct: 2574.000, total: 3000.000, accuracy: 0.858\n",
            "training epoch: [42 ] loss: 0.607 correct: 2582.000, total: 3000.000, accuracy: 0.861\n",
            "training epoch: [43 ] loss: 0.592 correct: 2585.000, total: 3000.000, accuracy: 0.862\n",
            "training epoch: [44 ] loss: 0.578 correct: 2590.000, total: 3000.000, accuracy: 0.863\n",
            "training epoch: [45 ] loss: 0.564 correct: 2593.000, total: 3000.000, accuracy: 0.864\n",
            "training epoch: [46 ] loss: 0.550 correct: 2595.000, total: 3000.000, accuracy: 0.865\n",
            "training epoch: [47 ] loss: 0.535 correct: 2599.000, total: 3000.000, accuracy: 0.866\n",
            "training epoch: [48 ] loss: 0.521 correct: 2601.000, total: 3000.000, accuracy: 0.867\n",
            "training epoch: [49 ] loss: 0.507 correct: 2601.000, total: 3000.000, accuracy: 0.867\n",
            "training epoch: [50 ] loss: 0.494 correct: 2604.000, total: 3000.000, accuracy: 0.868\n",
            "training epoch: [51 ] loss: 0.481 correct: 2604.000, total: 3000.000, accuracy: 0.868\n",
            "training epoch: [52 ] loss: 0.467 correct: 2604.000, total: 3000.000, accuracy: 0.868\n",
            "training epoch: [53 ] loss: 0.454 correct: 2604.000, total: 3000.000, accuracy: 0.868\n",
            "training epoch: [54 ] loss: 0.441 correct: 2606.000, total: 3000.000, accuracy: 0.869\n",
            "training epoch: [55 ] loss: 0.429 correct: 2609.000, total: 3000.000, accuracy: 0.870\n",
            "training epoch: [56 ] loss: 0.416 correct: 2616.000, total: 3000.000, accuracy: 0.872\n",
            "training epoch: [57 ] loss: 0.404 correct: 2633.000, total: 3000.000, accuracy: 0.878\n",
            "training epoch: [58 ] loss: 0.393 correct: 2660.000, total: 3000.000, accuracy: 0.887\n",
            "training epoch: [59 ] loss: 0.381 correct: 2707.000, total: 3000.000, accuracy: 0.902\n",
            "training epoch: [60 ] loss: 0.369 correct: 2751.000, total: 3000.000, accuracy: 0.917\n",
            "training epoch: [61 ] loss: 0.358 correct: 2779.000, total: 3000.000, accuracy: 0.926\n",
            "training epoch: [62 ] loss: 0.347 correct: 2802.000, total: 3000.000, accuracy: 0.934\n",
            "training epoch: [63 ] loss: 0.336 correct: 2819.000, total: 3000.000, accuracy: 0.940\n",
            "training epoch: [64 ] loss: 0.326 correct: 2831.000, total: 3000.000, accuracy: 0.944\n",
            "training epoch: [65 ] loss: 0.315 correct: 2842.000, total: 3000.000, accuracy: 0.947\n",
            "training epoch: [66 ] loss: 0.305 correct: 2845.000, total: 3000.000, accuracy: 0.948\n",
            "training epoch: [67 ] loss: 0.295 correct: 2849.000, total: 3000.000, accuracy: 0.950\n",
            "training epoch: [68 ] loss: 0.285 correct: 2855.000, total: 3000.000, accuracy: 0.952\n",
            "training epoch: [69 ] loss: 0.276 correct: 2857.000, total: 3000.000, accuracy: 0.952\n",
            "training epoch: [70 ] loss: 0.267 correct: 2858.000, total: 3000.000, accuracy: 0.953\n",
            "training epoch: [71 ] loss: 0.258 correct: 2858.000, total: 3000.000, accuracy: 0.953\n",
            "training epoch: [72 ] loss: 0.249 correct: 2858.000, total: 3000.000, accuracy: 0.953\n",
            "training epoch: [73 ] loss: 0.240 correct: 2858.000, total: 3000.000, accuracy: 0.953\n",
            "training epoch: [74 ] loss: 0.231 correct: 2858.000, total: 3000.000, accuracy: 0.953\n",
            "training epoch: [75 ] loss: 0.222 correct: 2858.000, total: 3000.000, accuracy: 0.953\n",
            "training epoch: [76 ] loss: 0.214 correct: 2858.000, total: 3000.000, accuracy: 0.953\n",
            "training epoch: [77 ] loss: 0.206 correct: 2858.000, total: 3000.000, accuracy: 0.953\n",
            "training epoch: [78 ] loss: 0.198 correct: 2858.000, total: 3000.000, accuracy: 0.953\n",
            "training epoch: [79 ] loss: 0.190 correct: 2861.000, total: 3000.000, accuracy: 0.954\n",
            "training epoch: [80 ] loss: 0.182 correct: 2865.000, total: 3000.000, accuracy: 0.955\n",
            "training epoch: [81 ] loss: 0.175 correct: 2875.000, total: 3000.000, accuracy: 0.958\n",
            "training epoch: [82 ] loss: 0.165 correct: 2897.000, total: 3000.000, accuracy: 0.966\n",
            "training epoch: [83 ] loss: 0.156 correct: 2908.000, total: 3000.000, accuracy: 0.969\n",
            "training epoch: [84 ] loss: 0.149 correct: 2920.000, total: 3000.000, accuracy: 0.973\n",
            "training epoch: [85 ] loss: 0.141 correct: 2932.000, total: 3000.000, accuracy: 0.977\n",
            "training epoch: [86 ] loss: 0.135 correct: 2947.000, total: 3000.000, accuracy: 0.982\n",
            "training epoch: [87 ] loss: 0.128 correct: 2957.000, total: 3000.000, accuracy: 0.986\n",
            "training epoch: [88 ] loss: 0.122 correct: 2965.000, total: 3000.000, accuracy: 0.988\n",
            "training epoch: [89 ] loss: 0.116 correct: 2971.000, total: 3000.000, accuracy: 0.990\n",
            "training epoch: [90 ] loss: 0.111 correct: 2979.000, total: 3000.000, accuracy: 0.993\n",
            "training epoch: [91 ] loss: 0.105 correct: 2987.000, total: 3000.000, accuracy: 0.996\n",
            "training epoch: [92 ] loss: 0.100 correct: 2992.000, total: 3000.000, accuracy: 0.997\n",
            "training epoch: [93 ] loss: 0.095 correct: 2992.000, total: 3000.000, accuracy: 0.997\n",
            "training epoch: [94 ] loss: 0.091 correct: 2993.000, total: 3000.000, accuracy: 0.998\n",
            "training epoch: [95 ] loss: 0.086 correct: 2993.000, total: 3000.000, accuracy: 0.998\n",
            "training epoch: [96 ] loss: 0.082 correct: 2997.000, total: 3000.000, accuracy: 0.999\n",
            "training epoch: [97 ] loss: 0.077 correct: 2997.000, total: 3000.000, accuracy: 0.999\n",
            "training epoch: [98 ] loss: 0.073 correct: 2997.000, total: 3000.000, accuracy: 0.999\n",
            "training epoch: [99 ] loss: 0.070 correct: 2998.000, total: 3000.000, accuracy: 0.999\n",
            "training epoch: [100 ] loss: 0.066 correct: 2998.000, total: 3000.000, accuracy: 0.999\n",
            "training epoch: [101 ] loss: 0.063 correct: 2998.000, total: 3000.000, accuracy: 0.999\n",
            "training epoch: [102 ] loss: 0.059 correct: 2998.000, total: 3000.000, accuracy: 0.999\n",
            "training epoch: [103 ] loss: 0.056 correct: 2998.000, total: 3000.000, accuracy: 0.999\n",
            "training epoch: [104 ] loss: 0.053 correct: 3000.000, total: 3000.000, accuracy: 1.000\n",
            "training epoch: [105 ] loss: 0.050 correct: 3000.000, total: 3000.000, accuracy: 1.000\n",
            "training epoch: [106 ] loss: 0.048 correct: 3000.000, total: 3000.000, accuracy: 1.000\n",
            "Finished Training run \n"
          ],
          "name": "stdout"
        }
      ]
    },
    {
      "cell_type": "code",
      "metadata": {
        "id": "AciJnAh5nfug"
      },
      "source": [
        "columns = [\"epochs\", \"argmax > 0.5\" ,\"argmax < 0.5\", \"focus_true_pred_true\", \"focus_false_pred_true\", \"focus_true_pred_false\", \"focus_false_pred_false\" ]\n",
        "df_train = pd.DataFrame()\n",
        "df_test = pd.DataFrame()\n",
        "df_train[columns[0]] = np.arange(0,epoch+2)\n",
        "df_train[columns[1]] = analysis_data_tr[:,-2]\n",
        "df_train[columns[2]] = analysis_data_tr[:,-1]\n",
        "df_train[columns[3]] = analysis_data_tr[:,0]\n",
        "df_train[columns[4]] = analysis_data_tr[:,1]\n",
        "df_train[columns[5]] = analysis_data_tr[:,2]\n",
        "df_train[columns[6]] = analysis_data_tr[:,3]"
      ],
      "execution_count": 15,
      "outputs": []
    },
    {
      "cell_type": "code",
      "metadata": {
        "id": "NoQpS_6scRsC",
        "colab": {
          "base_uri": "https://localhost:8080/",
          "height": 436
        },
        "outputId": "d2cbc1f8-d59a-477a-9cf2-474eb632555b"
      },
      "source": [
        "df_train"
      ],
      "execution_count": 16,
      "outputs": [
        {
          "output_type": "execute_result",
          "data": {
            "text/html": [
              "<div>\n",
              "<style scoped>\n",
              "    .dataframe tbody tr th:only-of-type {\n",
              "        vertical-align: middle;\n",
              "    }\n",
              "\n",
              "    .dataframe tbody tr th {\n",
              "        vertical-align: top;\n",
              "    }\n",
              "\n",
              "    .dataframe thead th {\n",
              "        text-align: right;\n",
              "    }\n",
              "</style>\n",
              "<table border=\"1\" class=\"dataframe\">\n",
              "  <thead>\n",
              "    <tr style=\"text-align: right;\">\n",
              "      <th></th>\n",
              "      <th>epochs</th>\n",
              "      <th>argmax &gt; 0.5</th>\n",
              "      <th>argmax &lt; 0.5</th>\n",
              "      <th>focus_true_pred_true</th>\n",
              "      <th>focus_false_pred_true</th>\n",
              "      <th>focus_true_pred_false</th>\n",
              "      <th>focus_false_pred_false</th>\n",
              "    </tr>\n",
              "  </thead>\n",
              "  <tbody>\n",
              "    <tr>\n",
              "      <th>0</th>\n",
              "      <td>0</td>\n",
              "      <td>0</td>\n",
              "      <td>3000</td>\n",
              "      <td>108</td>\n",
              "      <td>864</td>\n",
              "      <td>246</td>\n",
              "      <td>1782</td>\n",
              "    </tr>\n",
              "    <tr>\n",
              "      <th>1</th>\n",
              "      <td>1</td>\n",
              "      <td>0</td>\n",
              "      <td>3000</td>\n",
              "      <td>157</td>\n",
              "      <td>914</td>\n",
              "      <td>187</td>\n",
              "      <td>1742</td>\n",
              "    </tr>\n",
              "    <tr>\n",
              "      <th>2</th>\n",
              "      <td>2</td>\n",
              "      <td>0</td>\n",
              "      <td>3000</td>\n",
              "      <td>221</td>\n",
              "      <td>1143</td>\n",
              "      <td>127</td>\n",
              "      <td>1509</td>\n",
              "    </tr>\n",
              "    <tr>\n",
              "      <th>3</th>\n",
              "      <td>3</td>\n",
              "      <td>0</td>\n",
              "      <td>3000</td>\n",
              "      <td>196</td>\n",
              "      <td>1030</td>\n",
              "      <td>169</td>\n",
              "      <td>1605</td>\n",
              "    </tr>\n",
              "    <tr>\n",
              "      <th>4</th>\n",
              "      <td>4</td>\n",
              "      <td>0</td>\n",
              "      <td>3000</td>\n",
              "      <td>201</td>\n",
              "      <td>1024</td>\n",
              "      <td>162</td>\n",
              "      <td>1613</td>\n",
              "    </tr>\n",
              "    <tr>\n",
              "      <th>...</th>\n",
              "      <td>...</td>\n",
              "      <td>...</td>\n",
              "      <td>...</td>\n",
              "      <td>...</td>\n",
              "      <td>...</td>\n",
              "      <td>...</td>\n",
              "      <td>...</td>\n",
              "    </tr>\n",
              "    <tr>\n",
              "      <th>102</th>\n",
              "      <td>102</td>\n",
              "      <td>0</td>\n",
              "      <td>3000</td>\n",
              "      <td>305</td>\n",
              "      <td>2693</td>\n",
              "      <td>0</td>\n",
              "      <td>2</td>\n",
              "    </tr>\n",
              "    <tr>\n",
              "      <th>103</th>\n",
              "      <td>103</td>\n",
              "      <td>0</td>\n",
              "      <td>3000</td>\n",
              "      <td>305</td>\n",
              "      <td>2693</td>\n",
              "      <td>0</td>\n",
              "      <td>2</td>\n",
              "    </tr>\n",
              "    <tr>\n",
              "      <th>104</th>\n",
              "      <td>104</td>\n",
              "      <td>0</td>\n",
              "      <td>3000</td>\n",
              "      <td>305</td>\n",
              "      <td>2695</td>\n",
              "      <td>0</td>\n",
              "      <td>0</td>\n",
              "    </tr>\n",
              "    <tr>\n",
              "      <th>105</th>\n",
              "      <td>105</td>\n",
              "      <td>0</td>\n",
              "      <td>3000</td>\n",
              "      <td>305</td>\n",
              "      <td>2695</td>\n",
              "      <td>0</td>\n",
              "      <td>0</td>\n",
              "    </tr>\n",
              "    <tr>\n",
              "      <th>106</th>\n",
              "      <td>106</td>\n",
              "      <td>0</td>\n",
              "      <td>3000</td>\n",
              "      <td>305</td>\n",
              "      <td>2695</td>\n",
              "      <td>0</td>\n",
              "      <td>0</td>\n",
              "    </tr>\n",
              "  </tbody>\n",
              "</table>\n",
              "<p>107 rows × 7 columns</p>\n",
              "</div>"
            ],
            "text/plain": [
              "     epochs  argmax > 0.5  ...  focus_true_pred_false  focus_false_pred_false\n",
              "0         0             0  ...                    246                    1782\n",
              "1         1             0  ...                    187                    1742\n",
              "2         2             0  ...                    127                    1509\n",
              "3         3             0  ...                    169                    1605\n",
              "4         4             0  ...                    162                    1613\n",
              "..      ...           ...  ...                    ...                     ...\n",
              "102     102             0  ...                      0                       2\n",
              "103     103             0  ...                      0                       2\n",
              "104     104             0  ...                      0                       0\n",
              "105     105             0  ...                      0                       0\n",
              "106     106             0  ...                      0                       0\n",
              "\n",
              "[107 rows x 7 columns]"
            ]
          },
          "metadata": {
            "tags": []
          },
          "execution_count": 16
        }
      ]
    },
    {
      "cell_type": "code",
      "metadata": {
        "id": "IMAhRdxOcVf6",
        "colab": {
          "base_uri": "https://localhost:8080/",
          "height": 513
        },
        "outputId": "67e28487-496b-4e2b-d119-232e421125a7"
      },
      "source": [
        "fig= plt.figure(figsize=(8,8))\n",
        "plt.plot(df_train[columns[0]],df_train[columns[3]]/300, label =\"focus_true_pred_true \")\n",
        "plt.plot(df_train[columns[0]],df_train[columns[4]]/300, label =\"focus_false_pred_true \")\n",
        "plt.plot(df_train[columns[0]],df_train[columns[5]]/300, label =\"focus_true_pred_false \")\n",
        "plt.plot(df_train[columns[0]],df_train[columns[6]]/300, label =\"focus_false_pred_false \")\n",
        "plt.title(\"On Train set\")\n",
        "plt.legend(loc='center left', bbox_to_anchor=(1, 0.5))\n",
        "plt.xlabel(\"epochs\")\n",
        "plt.ylabel(\"percentage of data\")\n",
        "#plt.vlines(vline_list,min(min(df_train[columns[3]]/300),min(df_train[columns[4]]/300),min(df_train[columns[5]]/300),min(df_train[columns[6]]/300)), max(max(df_train[columns[3]]/300),max(df_train[columns[4]]/300),max(df_train[columns[5]]/300),max(df_train[columns[6]]/300)),linestyles='dotted')\n",
        "plt.show()\n",
        "fig.savefig(\"train_analysis_every_20.pdf\")\n",
        "fig.savefig(\"train_analysis_every_20.png\")"
      ],
      "execution_count": 17,
      "outputs": [
        {
          "output_type": "display_data",
          "data": {
            "image/png": "[encoded data removed]",
            "text/plain": [
              "<Figure size 576x576 with 1 Axes>"
            ]
          },
          "metadata": {
            "tags": [],
            "needs_background": "light"
          }
        }
      ]
    },
    {
      "cell_type": "code",
      "metadata": {
        "id": "Z6heHND15EMz"
      },
      "source": [
        "aph = []\n",
        "for i in ag:\n",
        "  aph.append(F.softmax(i,dim=1).detach().numpy())\n",
        "  \n",
        "aph = np.concatenate(aph,axis=0)\n",
        "torch.save({\n",
        "            'epoch': 500,\n",
        "            'model_state_dict': what_net.state_dict(),\n",
        "            'optimizer_state_dict': optimizer_what.state_dict(),\n",
        "            \"optimizer_alpha\":optim1,\n",
        "            \"FTPT_analysis\":analysis_data_tr,\n",
        "            \"alpha\":aph\n",
        "\n",
        "            }, \"type4_what_net_500.pt\")"
      ],
      "execution_count": 18,
      "outputs": []
    },
    {
      "cell_type": "code",
      "metadata": {
        "colab": {
          "base_uri": "https://localhost:8080/"
        },
        "id": "R2pcoO5rlAdT",
        "outputId": "1f8dc097-7a40-49f4-8ae3-75210faef0d4"
      },
      "source": [
        "aph"
      ],
      "execution_count": 19,
      "outputs": [
        {
          "output_type": "execute_result",
          "data": {
            "text/plain": [
              "array([[0.17396913, 0.10325387, 0.10325387, ..., 0.10325387, 0.10325387,\n",
              "        0.10325387],\n",
              "       [0.14745182, 0.10656855, 0.10656855, ..., 0.10656855, 0.10656855,\n",
              "        0.10656855],\n",
              "       [0.08479986, 0.11440001, 0.11440001, ..., 0.11440001, 0.11440001,\n",
              "        0.11440001],\n",
              "       ...,\n",
              "       [0.13946499, 0.10756689, 0.10756689, ..., 0.10756689, 0.10756689,\n",
              "        0.10756689],\n",
              "       [0.1959542 , 0.10050572, 0.10050572, ..., 0.10050572, 0.10050572,\n",
              "        0.10050572],\n",
              "       [0.07285917, 0.1158926 , 0.1158926 , ..., 0.1158926 , 0.1158926 ,\n",
              "        0.1158926 ]], dtype=float32)"
            ]
          },
          "metadata": {
            "tags": []
          },
          "execution_count": 19
        }
      ]
    },
    {
      "cell_type": "code",
      "metadata": {
        "id": "FCRyd-6XlaDl"
      },
      "source": [
        ""
      ],
      "execution_count": 19,
      "outputs": []
    }
  ]
}