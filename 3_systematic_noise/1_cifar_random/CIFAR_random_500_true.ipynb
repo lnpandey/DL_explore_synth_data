{
  "nbformat": 4,
  "nbformat_minor": 0,
  "metadata": {
    "kernelspec": {
      "name": "python3",
      "display_name": "Python 3"
    },
    "language_info": {
      "codemirror_mode": {
        "name": "ipython",
        "version": 3
      },
      "file_extension": ".py",
      "mimetype": "text/x-python",
      "name": "python",
      "nbconvert_exporter": "python",
      "pygments_lexer": "ipython3",
      "version": "3.7.0"
    },
    "colab": {
      "name": "CIFAR_random.ipynb",
      "provenance": [],
      "collapsed_sections": []
    },
    "accelerator": "GPU"
  },
  "cells": [
    {
      "cell_type": "code",
      "metadata": {
        "id": "lR-eQfx0acq8"
      },
      "source": [
        "import numpy as np\n",
        "import pandas as pd\n",
        "from matplotlib import pyplot as plt\n",
        "from tqdm import tqdm as tqdm\n",
        "\n",
        "%matplotlib inline\n",
        "\n",
        "import torch\n",
        "import torchvision\n",
        "import torchvision.transforms as transforms\n",
        "import torch.nn as nn\n",
        "import torch.optim as optim\n",
        "import torch.nn.functional as F\n",
        "import random"
      ],
      "execution_count": 1,
      "outputs": []
    },
    {
      "cell_type": "code",
      "metadata": {
        "id": "HxCE5TSmap0T",
        "colab": {
          "base_uri": "https://localhost:8080/",
          "height": 34
        },
        "outputId": "548e634f-a3fc-4a4b-e818-54c81e297288"
      },
      "source": [
        "from google.colab import drive\n",
        "drive.mount('/content/drive')"
      ],
      "execution_count": null,
      "outputs": [
        {
          "output_type": "stream",
          "text": [
            "Drive already mounted at /content/drive; to attempt to forcibly remount, call drive.mount(\"/content/drive\", force_remount=True).\n"
          ],
          "name": "stdout"
        }
      ]
    },
    {
      "cell_type": "code",
      "metadata": {
        "id": "YoAqFwqpacrH",
        "colab": {
          "base_uri": "https://localhost:8080/"
        },
        "outputId": "8bcb545d-5218-4f75-b2a2-757b4935c60a"
      },
      "source": [
        "transform = transforms.Compose(\n",
        "    [transforms.ToTensor(),\n",
        "     transforms.Normalize((0.5, 0.5, 0.5), (0.5, 0.5, 0.5))])\n",
        "\n",
        "trainset = torchvision.datasets.CIFAR10(root='./data', train=True, download=True, transform=transform)\n",
        "\n",
        "\n",
        "testset = torchvision.datasets.CIFAR10(root='./data', train=False, download=True, transform=transform)\n"
      ],
      "execution_count": 43,
      "outputs": [
        {
          "output_type": "stream",
          "text": [
            "Files already downloaded and verified\n",
            "Files already downloaded and verified\n"
          ],
          "name": "stdout"
        }
      ]
    },
    {
      "cell_type": "code",
      "metadata": {
        "id": "wVrHeC0k1i8S",
        "colab": {
          "base_uri": "https://localhost:8080/"
        },
        "outputId": "670b6750-86d9-47a5-e89e-90de28a6c0db"
      },
      "source": [
        "type(trainset.targets)\n",
        "type(trainset.data)"
      ],
      "execution_count": 44,
      "outputs": [
        {
          "output_type": "execute_result",
          "data": {
            "text/plain": [
              "numpy.ndarray"
            ]
          },
          "metadata": {
            "tags": []
          },
          "execution_count": 44
        }
      ]
    },
    {
      "cell_type": "code",
      "metadata": {
        "id": "56x0FjYZacrM",
        "colab": {
          "base_uri": "https://localhost:8080/"
        },
        "outputId": "b0057b0c-ee0c-40aa-9197-93c579f263c8"
      },
      "source": [
        "index1 = [np.where(np.array(trainset.targets)==0)[0] , np.where(np.array(trainset.targets)==1)[0], np.where(np.array(trainset.targets)==2)[0]  ]\n",
        "index1 = np.concatenate(index1,axis=0)\n",
        "len(index1) #15000\n",
        "#index1"
      ],
      "execution_count": 45,
      "outputs": [
        {
          "output_type": "execute_result",
          "data": {
            "text/plain": [
              "15000"
            ]
          },
          "metadata": {
            "tags": []
          },
          "execution_count": 45
        }
      ]
    },
    {
      "cell_type": "code",
      "metadata": {
        "id": "JFMA8WBbyKSn"
      },
      "source": [
        "disp = np.array(trainset.targets)"
      ],
      "execution_count": 46,
      "outputs": []
    },
    {
      "cell_type": "code",
      "metadata": {
        "id": "yQOoEO2meJDv",
        "colab": {
          "base_uri": "https://localhost:8080/"
        },
        "outputId": "d3f4d21f-7512-4eeb-f174-d0c05a5b8b88"
      },
      "source": [
        "true_data_count = 500\n",
        "epochs= 100\n",
        "indices = np.random.choice(index1,true_data_count)\n",
        "_,count = np.unique(disp[indices],return_counts=True)\n",
        "print(count)"
      ],
      "execution_count": 47,
      "outputs": [
        {
          "output_type": "stream",
          "text": [
            "[171 159 170]\n"
          ],
          "name": "stdout"
        }
      ]
    },
    {
      "cell_type": "code",
      "metadata": {
        "id": "d_8snSm1acrR",
        "colab": {
          "base_uri": "https://localhost:8080/"
        },
        "outputId": "aae0269c-5dd8-44c4-b8b2-bb945f7c20d7"
      },
      "source": [
        "index = np.where(np.logical_and(np.logical_and(np.array(trainset.targets)!=0, np.array(trainset.targets)!=1), np.array(trainset.targets)!=2))[0]  #47335\n",
        "len(index)"
      ],
      "execution_count": 48,
      "outputs": [
        {
          "output_type": "execute_result",
          "data": {
            "text/plain": [
              "35000"
            ]
          },
          "metadata": {
            "tags": []
          },
          "execution_count": 48
        }
      ]
    },
    {
      "cell_type": "code",
      "metadata": {
        "id": "vYhiSaAnacrW",
        "colab": {
          "base_uri": "https://localhost:8080/"
        },
        "outputId": "3bcceb35-90ac-45b9-9b92-21197a8cbdeb"
      },
      "source": [
        "values = np.random.choice([0,1,2],size= len(index)) #labeling others as 0,1,2\n",
        "print(sum(values ==0),sum(values==1), sum(values==2))\n"
      ],
      "execution_count": 49,
      "outputs": [
        {
          "output_type": "stream",
          "text": [
            "11648 11617 11735\n"
          ],
          "name": "stdout"
        }
      ]
    },
    {
      "cell_type": "code",
      "metadata": {
        "id": "lMAVbPYH063V"
      },
      "source": [
        "# trainset.data = torch.tensor( trainset.data )\n",
        "# trainset.targets = torch.tensor(trainset.targets)"
      ],
      "execution_count": 50,
      "outputs": []
    },
    {
      "cell_type": "code",
      "metadata": {
        "id": "uLuqrhO1hRR6"
      },
      "source": [
        "trainset.data = np.concatenate((trainset.data[indices],trainset.data[index]))\n",
        "trainset.targets = np.concatenate((np.array(trainset.targets)[indices],values))"
      ],
      "execution_count": 51,
      "outputs": []
    },
    {
      "cell_type": "code",
      "metadata": {
        "id": "iczET1tohOsL",
        "colab": {
          "base_uri": "https://localhost:8080/",
          "height": 285
        },
        "outputId": "a4c8871c-c771-4b0b-e139-e0d43fd58ba7"
      },
      "source": [
        "# mnist_trainset.targets[index] = torch.Tensor(values).type(torch.LongTensor)\n",
        "j =20078     # Without Shuffle upto True Training numbers correct , after that corrupted\n",
        "print(plt.imshow(trainset.data[j]),trainset.targets[j])"
      ],
      "execution_count": 52,
      "outputs": [
        {
          "output_type": "stream",
          "text": [
            "AxesImage(54,36;334.8x217.44) 1\n"
          ],
          "name": "stdout"
        },
        {
          "output_type": "display_data",
          "data": {
            "image/png": "[encoded data removed]",
            "text/plain": [
              "<Figure size 432x288 with 1 Axes>"
            ]
          },
          "metadata": {
            "tags": [],
            "needs_background": "light"
          }
        }
      ]
    },
    {
      "cell_type": "code",
      "metadata": {
        "id": "U8WPVHnPacrd"
      },
      "source": [
        "trainloader = torch.utils.data.DataLoader(trainset, batch_size=256,shuffle=True, num_workers=2)"
      ],
      "execution_count": 53,
      "outputs": []
    },
    {
      "cell_type": "code",
      "metadata": {
        "id": "7L7ocAcracri"
      },
      "source": [
        "testloader = torch.utils.data.DataLoader(testset, batch_size=256,shuffle=False, num_workers=2)"
      ],
      "execution_count": 54,
      "outputs": []
    },
    {
      "cell_type": "code",
      "metadata": {
        "id": "pdhAr2p6acrm"
      },
      "source": [
        "classes = ('zero', 'one','two')"
      ],
      "execution_count": 55,
      "outputs": []
    },
    {
      "cell_type": "code",
      "metadata": {
        "id": "jhUOj6Tnacrr"
      },
      "source": [
        "dataiter = iter(trainloader)\n",
        "images, labels = dataiter.next()"
      ],
      "execution_count": 56,
      "outputs": []
    },
    {
      "cell_type": "code",
      "metadata": {
        "id": "vVgW5hBkacrv",
        "colab": {
          "base_uri": "https://localhost:8080/"
        },
        "outputId": "863832d7-cace-4a89-ccff-7ea31677253b"
      },
      "source": [
        "images[:4].shape"
      ],
      "execution_count": 57,
      "outputs": [
        {
          "output_type": "execute_result",
          "data": {
            "text/plain": [
              "torch.Size([4, 3, 32, 32])"
            ]
          },
          "metadata": {
            "tags": []
          },
          "execution_count": 57
        }
      ]
    },
    {
      "cell_type": "code",
      "metadata": {
        "id": "nUtA80KCacr1"
      },
      "source": [
        "# def imshow(img):\n",
        "#     img = img / 2 + 0.5     # unnormalize\n",
        "#     npimg = img.numpy()\n",
        "#     plt.imshow(np.transpose(npimg, (1, 2, 0)))\n",
        "#     plt.show()\n",
        "def imshow(img):\n",
        "  img = img / 2 + 0.5     # unnormalize\n",
        "  npimg = img#.numpy()\n",
        "  plt.imshow(np.transpose(npimg, (1, 2, 0)))\n",
        "  plt.show()"
      ],
      "execution_count": 58,
      "outputs": []
    },
    {
      "cell_type": "code",
      "metadata": {
        "id": "Xv34FfAdacr5",
        "colab": {
          "base_uri": "https://localhost:8080/",
          "height": 156
        },
        "outputId": "b782c26e-41fa-4698-b373-6fafd079cac7"
      },
      "source": [
        "imshow(torchvision.utils.make_grid(images[:10]))\n",
        "print('GroundTruth: ', ' '.join('%5s' % classes[labels[j]] for j in range(10)))"
      ],
      "execution_count": 59,
      "outputs": [
        {
          "output_type": "display_data",
          "data": {
            "image/png": "[encoded data removed]",
            "text/plain": [
              "<Figure size 432x288 with 1 Axes>"
            ]
          },
          "metadata": {
            "tags": [],
            "needs_background": "light"
          }
        },
        {
          "output_type": "stream",
          "text": [
            "GroundTruth:   zero  zero   one   one   one   one   one  zero   one  zero\n"
          ],
          "name": "stdout"
        }
      ]
    },
    {
      "cell_type": "code",
      "metadata": {
        "id": "iliHfURzahct"
      },
      "source": [
        "classes = ('plane', 'car', 'bird', 'cat', 'deer', 'dog', 'frog', 'horse', 'ship', 'truck')"
      ],
      "execution_count": 60,
      "outputs": []
    },
    {
      "cell_type": "code",
      "metadata": {
        "id": "Ss-jhHRIacr-"
      },
      "source": [
        "class Conv_module(nn.Module):\n",
        "    def __init__(self,inp_ch,f,s,k,pad):\n",
        "        super(Conv_module,self).__init__()\n",
        "        self.inp_ch = inp_ch\n",
        "        self.f = f\n",
        "        self.s = s \n",
        "        self.k = k \n",
        "        self.pad = pad\n",
        "        \n",
        "        \n",
        "        self.conv = nn.Conv2d(self.inp_ch,self.f,k,stride=s,padding=self.pad)\n",
        "        self.bn = nn.BatchNorm2d(self.f)\n",
        "        self.act = nn.ReLU()\n",
        "    def forward(self,x):\n",
        "        x = self.conv(x)\n",
        "        x = self.bn(x)\n",
        "        x = self.act(x)\n",
        "        return x"
      ],
      "execution_count": 61,
      "outputs": []
    },
    {
      "cell_type": "code",
      "metadata": {
        "id": "51c92MhjacsC"
      },
      "source": [
        "class inception_module(nn.Module):\n",
        "    def __init__(self,inp_ch,f0,f1):\n",
        "        super(inception_module, self).__init__()\n",
        "        self.inp_ch = inp_ch\n",
        "        self.f0 = f0\n",
        "        self.f1 = f1\n",
        "        \n",
        "        \n",
        "        \n",
        "        self.conv1 = Conv_module(self.inp_ch,self.f0,1,1,pad=0)\n",
        "        self.conv3 = Conv_module(self.inp_ch,self.f1,1,3,pad=1)\n",
        "        #self.conv1 = nn.Conv2d(3,self.f0,1)\n",
        "        #self.conv3 = nn.Conv2d(3,self.f1,3,padding=1)\n",
        "    def forward(self,x):\n",
        "        x1 = self.conv1.forward(x)\n",
        "        x3 = self.conv3.forward(x)\n",
        "        #print(x1.shape,x3.shape)\n",
        "        \n",
        "        x = torch.cat((x1,x3),dim=1)\n",
        "        \n",
        "    \n",
        "        return x"
      ],
      "execution_count": 62,
      "outputs": []
    },
    {
      "cell_type": "code",
      "metadata": {
        "id": "6Tl67apKacsG"
      },
      "source": [
        "class downsample_module(nn.Module):\n",
        "    def __init__(self,inp_ch,f):\n",
        "        super(downsample_module,self).__init__()\n",
        "        self.inp_ch = inp_ch\n",
        "        self.f = f\n",
        "        self.conv = Conv_module(self.inp_ch,self.f,2,3,pad=0)\n",
        "        self.pool = nn.MaxPool2d(3,stride=2,padding=0)\n",
        "    def forward(self,x):\n",
        "        x1 = self.conv(x)\n",
        "        #print(x1.shape)\n",
        "        x2 = self.pool(x)\n",
        "        #print(x2.shape)\n",
        "        x = torch.cat((x1,x2),dim=1)\n",
        "        \n",
        "        return x,x1"
      ],
      "execution_count": 63,
      "outputs": []
    },
    {
      "cell_type": "code",
      "metadata": {
        "id": "_RKEYiG7acsJ"
      },
      "source": [
        "class inception_net(nn.Module):\n",
        "    def __init__(self):\n",
        "        super(inception_net,self).__init__()\n",
        "        self.conv1 = Conv_module(3,96,1,3,0)\n",
        "        \n",
        "        self.incept1 = inception_module(96,32,32)\n",
        "        self.incept2 = inception_module(64,32,48)\n",
        "        \n",
        "        self.downsample1 = downsample_module(80,80)\n",
        "        \n",
        "        self.incept3 = inception_module(160,112,48)\n",
        "        self.incept4 = inception_module(160,96,64)\n",
        "        self.incept5 = inception_module(160,80,80)\n",
        "        self.incept6 = inception_module(160,48,96)\n",
        "        \n",
        "        self.downsample2 = downsample_module(144,96)\n",
        "        \n",
        "        self.incept7 = inception_module(240,176,60)\n",
        "        self.incept8 = inception_module(236,176,60)\n",
        "        \n",
        "        self.pool = nn.AvgPool2d(5)\n",
        "        \n",
        "        \n",
        "        \n",
        "        self.linear = nn.Linear(236,10)\n",
        "    def forward(self,x):\n",
        "        x = self.conv1.forward(x)\n",
        "        #act1 = x\n",
        "        \n",
        "        x = self.incept1.forward(x)\n",
        "        #act2 = x\n",
        "        \n",
        "        x = self.incept2.forward(x)\n",
        "        #act3 = x\n",
        "        \n",
        "        x,act4 = self.downsample1.forward(x)\n",
        "        \n",
        "        x = self.incept3.forward(x)\n",
        "        #act5 = x\n",
        "        \n",
        "        x = self.incept4.forward(x)\n",
        "        #act6 = x\n",
        "        \n",
        "        x = self.incept5.forward(x)\n",
        "        #act7 = x\n",
        "        \n",
        "        x = self.incept6.forward(x)\n",
        "        #act8 = x\n",
        "        \n",
        "        x,act9 = self.downsample2.forward(x)\n",
        "        \n",
        "        x = self.incept7.forward(x)\n",
        "        #act10 = x\n",
        "        x = self.incept8.forward(x)\n",
        "        #act11 = x\n",
        "        #print(x.shape)\n",
        "        x = self.pool(x)\n",
        "        #print(x.shape)\n",
        "        x = x.view(-1,1*1*236)\n",
        "        x = self.linear(x) \n",
        "        return x"
      ],
      "execution_count": 64,
      "outputs": []
    },
    {
      "cell_type": "code",
      "metadata": {
        "id": "rByxqKdOacsM"
      },
      "source": [
        "inc = inception_net()\n",
        "inc = inc.to(\"cuda\")"
      ],
      "execution_count": 65,
      "outputs": []
    },
    {
      "cell_type": "code",
      "metadata": {
        "id": "imWjagA2acsO"
      },
      "source": [
        "criterion_inception = nn.CrossEntropyLoss()\n",
        "optimizer_inception = optim.SGD(inc.parameters(), lr=0.01, momentum=0.9)"
      ],
      "execution_count": 66,
      "outputs": []
    },
    {
      "cell_type": "code",
      "metadata": {
        "id": "r5mCNr38acsR",
        "colab": {
          "base_uri": "https://localhost:8080/"
        },
        "outputId": "1f5dc516-0937-4a82-e8ba-b16fa0a2ce6c"
      },
      "source": [
        "acti = []\n",
        "loss_curi = []\n",
        "\n",
        "for epoch in range(epochs): # loop over the dataset multiple times\n",
        "    ep_lossi = []\n",
        "\n",
        "    running_loss = 0.0\n",
        "    for i, data in enumerate(trainloader, 0):\n",
        "        # get the inputs\n",
        "        inputs, labels = data\n",
        "        inputs, labels = inputs.to(\"cuda\"),labels.to(\"cuda\")\n",
        "\n",
        "        # zero the parameter gradients\n",
        "        optimizer_inception.zero_grad()\n",
        "\n",
        "        # forward + backward + optimize\n",
        "        outputs = inc(inputs)\n",
        "        loss = criterion_inception(outputs, labels)\n",
        "        loss.backward()\n",
        "        optimizer_inception.step()\n",
        "\n",
        "        # print statistics\n",
        "        running_loss += loss.item()\n",
        "        if i % 50 == 49:    # print every 50 mini-batches\n",
        "            print('[%d, %5d] loss: %.3f' %\n",
        "                  (epoch + 1, i + 1, running_loss / 50))\n",
        "            ep_lossi.append(running_loss/50) # loss per minibatch\n",
        "            running_loss = 0.0\n",
        "            \n",
        "    loss_curi.append(np.mean(ep_lossi))   #loss per epoch\n",
        "\n",
        "    if(np.mean(ep_lossi)<=0.001):\n",
        "      break\n",
        "#     if (epoch%5 == 0):\n",
        "#         _,actis= inc(inputs)\n",
        "#         acti.append(actis)\n",
        "    \n",
        "            \n",
        "\n",
        "print('Finished Training')"
      ],
      "execution_count": 67,
      "outputs": [
        {
          "output_type": "stream",
          "text": [
            "[1,    50] loss: 1.257\n",
            "[1,   100] loss: 1.105\n",
            "[2,    50] loss: 1.100\n",
            "[2,   100] loss: 1.099\n",
            "[3,    50] loss: 1.096\n",
            "[3,   100] loss: 1.097\n",
            "[4,    50] loss: 1.089\n",
            "[4,   100] loss: 1.089\n",
            "[5,    50] loss: 1.077\n",
            "[5,   100] loss: 1.086\n",
            "[6,    50] loss: 1.068\n",
            "[6,   100] loss: 1.076\n",
            "[7,    50] loss: 1.046\n",
            "[7,   100] loss: 1.068\n",
            "[8,    50] loss: 1.035\n",
            "[8,   100] loss: 1.045\n",
            "[9,    50] loss: 1.001\n",
            "[9,   100] loss: 1.039\n",
            "[10,    50] loss: 0.954\n",
            "[10,   100] loss: 1.013\n",
            "[11,    50] loss: 0.896\n",
            "[11,   100] loss: 0.978\n",
            "[12,    50] loss: 0.845\n",
            "[12,   100] loss: 0.938\n",
            "[13,    50] loss: 0.784\n",
            "[13,   100] loss: 0.882\n",
            "[14,    50] loss: 0.702\n",
            "[14,   100] loss: 0.813\n",
            "[15,    50] loss: 0.618\n",
            "[15,   100] loss: 0.762\n",
            "[16,    50] loss: 0.547\n",
            "[16,   100] loss: 0.652\n",
            "[17,    50] loss: 0.501\n",
            "[17,   100] loss: 0.560\n",
            "[18,    50] loss: 0.462\n",
            "[18,   100] loss: 0.512\n",
            "[19,    50] loss: 0.384\n",
            "[19,   100] loss: 0.419\n",
            "[20,    50] loss: 0.373\n",
            "[20,   100] loss: 0.373\n",
            "[21,    50] loss: 0.295\n",
            "[21,   100] loss: 0.332\n",
            "[22,    50] loss: 0.280\n",
            "[22,   100] loss: 0.283\n",
            "[23,    50] loss: 0.219\n",
            "[23,   100] loss: 0.240\n",
            "[24,    50] loss: 0.213\n",
            "[24,   100] loss: 0.230\n",
            "[25,    50] loss: 0.176\n",
            "[25,   100] loss: 0.197\n",
            "[26,    50] loss: 0.150\n",
            "[26,   100] loss: 0.164\n",
            "[27,    50] loss: 0.157\n",
            "[27,   100] loss: 0.169\n",
            "[28,    50] loss: 0.133\n",
            "[28,   100] loss: 0.129\n",
            "[29,    50] loss: 0.105\n",
            "[29,   100] loss: 0.106\n",
            "[30,    50] loss: 0.100\n",
            "[30,   100] loss: 0.118\n",
            "[31,    50] loss: 0.095\n",
            "[31,   100] loss: 0.119\n",
            "[32,    50] loss: 0.084\n",
            "[32,   100] loss: 0.110\n",
            "[33,    50] loss: 0.078\n",
            "[33,   100] loss: 0.079\n",
            "[34,    50] loss: 0.049\n",
            "[34,   100] loss: 0.050\n",
            "[35,    50] loss: 0.042\n",
            "[35,   100] loss: 0.045\n",
            "[36,    50] loss: 0.033\n",
            "[36,   100] loss: 0.037\n",
            "[37,    50] loss: 0.024\n",
            "[37,   100] loss: 0.029\n",
            "[38,    50] loss: 0.017\n",
            "[38,   100] loss: 0.021\n",
            "[39,    50] loss: 0.014\n",
            "[39,   100] loss: 0.018\n",
            "[40,    50] loss: 0.014\n",
            "[40,   100] loss: 0.011\n",
            "[41,    50] loss: 0.006\n",
            "[41,   100] loss: 0.007\n",
            "[42,    50] loss: 0.003\n",
            "[42,   100] loss: 0.002\n",
            "[43,    50] loss: 0.001\n",
            "[43,   100] loss: 0.001\n",
            "[44,    50] loss: 0.001\n",
            "[44,   100] loss: 0.001\n",
            "Finished Training\n"
          ],
          "name": "stdout"
        }
      ]
    },
    {
      "cell_type": "code",
      "metadata": {
        "id": "IxXbhlbEacsW",
        "colab": {
          "base_uri": "https://localhost:8080/"
        },
        "outputId": "9214f7ef-a12e-44b7-94ce-f9ecdcd7db1a"
      },
      "source": [
        "correct = 0\n",
        "total = 0\n",
        "with torch.no_grad():\n",
        "    for data in trainloader:\n",
        "        images, labels = data\n",
        "        images, labels = images.to(\"cuda\"), labels.to(\"cuda\")\n",
        "        outputs = inc(images)\n",
        "        _, predicted = torch.max(outputs.data, 1)\n",
        "        total += labels.size(0)\n",
        "        correct += (predicted == labels).sum().item()\n",
        "\n",
        "print('Accuracy of the network on the 35000 + %d train images: %d %%' % (true_data_count,  100 * correct / total))"
      ],
      "execution_count": 68,
      "outputs": [
        {
          "output_type": "stream",
          "text": [
            "Accuracy of the network on the 35000 + 500 train images: 100 %\n"
          ],
          "name": "stdout"
        }
      ]
    },
    {
      "cell_type": "code",
      "metadata": {
        "id": "U2kQXLzgacsa",
        "colab": {
          "base_uri": "https://localhost:8080/"
        },
        "outputId": "9d543c37-ef00-4966-8778-f3f27c699d86"
      },
      "source": [
        "total,correct"
      ],
      "execution_count": 69,
      "outputs": [
        {
          "output_type": "execute_result",
          "data": {
            "text/plain": [
              "(35500, 35500)"
            ]
          },
          "metadata": {
            "tags": []
          },
          "execution_count": 69
        }
      ]
    },
    {
      "cell_type": "code",
      "metadata": {
        "id": "5IcmEl2lacsd",
        "colab": {
          "base_uri": "https://localhost:8080/"
        },
        "outputId": "2149aaa2-637d-40e2-ed2a-217ac7d70406"
      },
      "source": [
        "correct = 0\n",
        "total = 0\n",
        "out = []\n",
        "pred = []\n",
        "with torch.no_grad():\n",
        "    for data in testloader:\n",
        "        images, labels = data\n",
        "        images, labels = images.to(\"cuda\"),labels.to(\"cuda\")\n",
        "        out.append(labels.cpu().numpy())\n",
        "        outputs= inc(images)\n",
        "        _, predicted = torch.max(outputs.data, 1)\n",
        "        pred.append(predicted.cpu().numpy())\n",
        "        total += labels.size(0)\n",
        "        correct += (predicted == labels).sum().item()\n",
        "\n",
        "print('Accuracy of the network on the 10000 test images: %d %%' % (\n",
        "    100 * correct / total))"
      ],
      "execution_count": 70,
      "outputs": [
        {
          "output_type": "stream",
          "text": [
            "Accuracy of the network on the 10000 test images: 11 %\n"
          ],
          "name": "stdout"
        }
      ]
    },
    {
      "cell_type": "code",
      "metadata": {
        "id": "KrlBRcSQacsg"
      },
      "source": [
        "out = np.concatenate(out,axis=0)"
      ],
      "execution_count": 71,
      "outputs": []
    },
    {
      "cell_type": "code",
      "metadata": {
        "id": "EWyBhOPlacsi"
      },
      "source": [
        "pred = np.concatenate(pred,axis=0)"
      ],
      "execution_count": 72,
      "outputs": []
    },
    {
      "cell_type": "code",
      "metadata": {
        "id": "IJ1F7Lfdacsl",
        "colab": {
          "base_uri": "https://localhost:8080/"
        },
        "outputId": "efd7e4b9-cfd7-40cb-c1c0-efa6887adb79"
      },
      "source": [
        "index = np.logical_or(np.logical_or(out ==1,out==0),out == 2)\n",
        "print(index.shape)"
      ],
      "execution_count": 73,
      "outputs": [
        {
          "output_type": "stream",
          "text": [
            "(10000,)\n"
          ],
          "name": "stdout"
        }
      ]
    },
    {
      "cell_type": "code",
      "metadata": {
        "id": "h7PmLPkGacsn",
        "colab": {
          "base_uri": "https://localhost:8080/"
        },
        "outputId": "98e014ac-58f2-4597-9c6c-bfdd911b9bec"
      },
      "source": [
        "acc = sum(out[index] == pred[index])/sum(index)\n",
        "print('Accuracy of the network on the 10000 test images: %d %%' % (\n",
        "    100*acc))"
      ],
      "execution_count": 74,
      "outputs": [
        {
          "output_type": "stream",
          "text": [
            "Accuracy of the network on the 10000 test images: 36 %\n"
          ],
          "name": "stdout"
        }
      ]
    },
    {
      "cell_type": "code",
      "metadata": {
        "id": "fvCi8x41acsq",
        "colab": {
          "base_uri": "https://localhost:8080/"
        },
        "outputId": "6e5f865b-92e7-4701-99fe-47aa3d606464"
      },
      "source": [
        "\n",
        "np.unique(out[index],return_counts = True) #== pred[index])"
      ],
      "execution_count": 75,
      "outputs": [
        {
          "output_type": "execute_result",
          "data": {
            "text/plain": [
              "(array([0, 1, 2]), array([1000, 1000, 1000]))"
            ]
          },
          "metadata": {
            "tags": []
          },
          "execution_count": 75
        }
      ]
    },
    {
      "cell_type": "code",
      "metadata": {
        "id": "a1Am5Q45LXmt",
        "colab": {
          "base_uri": "https://localhost:8080/"
        },
        "outputId": "ca87bb86-cc24-4018-fab4-798ee712ccb0"
      },
      "source": [
        "\n",
        "np.unique(pred[index],return_counts = True) #== pred[index])"
      ],
      "execution_count": 76,
      "outputs": [
        {
          "output_type": "execute_result",
          "data": {
            "text/plain": [
              "(array([0, 1, 2]), array([1051,  995,  954]))"
            ]
          },
          "metadata": {
            "tags": []
          },
          "execution_count": 76
        }
      ]
    },
    {
      "cell_type": "code",
      "metadata": {
        "id": "bdGNgi62acss",
        "colab": {
          "base_uri": "https://localhost:8080/"
        },
        "outputId": "71446ddf-efb4-45d1-845e-3c254f718210"
      },
      "source": [
        "sum(out[index] == pred[index])"
      ],
      "execution_count": 77,
      "outputs": [
        {
          "output_type": "execute_result",
          "data": {
            "text/plain": [
              "1107"
            ]
          },
          "metadata": {
            "tags": []
          },
          "execution_count": 77
        }
      ]
    },
    {
      "cell_type": "code",
      "metadata": {
        "id": "D6Vmd4B5MTrc",
        "colab": {
          "base_uri": "https://localhost:8080/"
        },
        "outputId": "66a2a81c-6f23-4624-f161-40adfe09f218"
      },
      "source": [
        "cnt = np.zeros((3,3))\n",
        "true = out[index]\n",
        "predict = pred[index]\n",
        "for i in range(len(true)):\n",
        "  cnt[true[i]][predict[i]] += 1 \n",
        "cnt"
      ],
      "execution_count": 78,
      "outputs": [
        {
          "output_type": "execute_result",
          "data": {
            "text/plain": [
              "array([[405., 313., 282.],\n",
              "       [294., 368., 338.],\n",
              "       [352., 314., 334.]])"
            ]
          },
          "metadata": {
            "tags": []
          },
          "execution_count": 78
        }
      ]
    },
    {
      "cell_type": "code",
      "metadata": {
        "id": "KBZqLh7heULT"
      },
      "source": [
        "# torch.save(inc.state_dict(),\"/content/drive/My Drive/Research/CIFAR Random/model_True_\"+str(true_data_count)+\"_epoch_\"+str(epochs)+\".pkl\")"
      ],
      "execution_count": 79,
      "outputs": []
    },
    {
      "cell_type": "code",
      "metadata": {
        "id": "JgLuOIeLeUHk",
        "colab": {
          "base_uri": "https://localhost:8080/"
        },
        "outputId": "2708439a-1e17-4b2c-947b-e35bbdbc9f16"
      },
      "source": [
        "true_data_count "
      ],
      "execution_count": 80,
      "outputs": [
        {
          "output_type": "execute_result",
          "data": {
            "text/plain": [
              "500"
            ]
          },
          "metadata": {
            "tags": []
          },
          "execution_count": 80
        }
      ]
    },
    {
      "cell_type": "code",
      "metadata": {
        "id": "pZhSFZLeeXeO"
      },
      "source": [
        ""
      ],
      "execution_count": null,
      "outputs": []
    },
    {
      "cell_type": "markdown",
      "metadata": {
        "id": "u6XhWXz3sYcx"
      },
      "source": [
        "|true training data  | Corr Training Data | Test Accuracy | Test Accuracy 0-1-2 | \n",
        "| ------------------ | ------------------ | ------------- | ----------------- |\n",
        "| 500   | 35000  |   |   | \n",
        "| 1000  | 35000  |   |   | \n",
        "| 2000  | 35000  |   |   | \n",
        "| 4000  | 35000  | 16  |56 | \n",
        "| 6000  | 35000  | 19  |63 | \n",
        "| 8000  | 35000  | 20  |67 | \n",
        "| 10000 | 35000  | 21  |71 |\n",
        "| 12000 | 35000  | 22  |73 | \n",
        "| 15000 | 35000  | 23  |78 |"
      ]
    },
    {
      "cell_type": "markdown",
      "metadata": {
        "id": "d05DCw3Jw9Am"
      },
      "source": [
        "|   Total Training Data       |   Training Accuracy      |\n",
        "|---------------------------- | ------------------------ |\n",
        "| 47835         | 100 |\n",
        "| 48835         | 100 |"
      ]
    },
    {
      "cell_type": "code",
      "metadata": {
        "id": "NuAy-cU0sY9z"
      },
      "source": [
        ""
      ],
      "execution_count": null,
      "outputs": []
    }
  ]
}