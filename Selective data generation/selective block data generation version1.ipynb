{
 "cells": [
  {
   "cell_type": "code",
   "execution_count": 1,
   "metadata": {},
   "outputs": [],
   "source": [
    "from __future__ import print_function, division\n",
    "import os\n",
    "\n",
    "import torch.nn as nn\n",
    "import torch.nn.functional as F\n",
    "\n",
    "import pandas as pd\n",
    "import numpy as np\n",
    "import matplotlib.pyplot as plt\n",
    "\n",
    "import torch\n",
    "import torchvision\n",
    "import torchvision.transforms as transforms\n",
    "from torch.utils.data import Dataset, DataLoader\n",
    "from torchvision import transforms, utils\n",
    "\n",
    "# Ignore warnings\n",
    "import warnings\n",
    "warnings.filterwarnings(\"ignore\")\n"
   ]
  },
  {
   "cell_type": "code",
   "execution_count": 2,
   "metadata": {},
   "outputs": [
    {
     "name": "stdout",
     "output_type": "stream",
     "text": [
      "Files already downloaded and verified\n",
      "Files already downloaded and verified\n"
     ]
    }
   ],
   "source": [
    "transform = transforms.Compose(\n",
    "    [transforms.ToTensor(),\n",
    "     transforms.Normalize((0.5, 0.5, 0.5), (0.5, 0.5, 0.5))])\n",
    "\n",
    "trainset = torchvision.datasets.CIFAR10(root='./data', train=True, download=True, transform=transform)\n",
    "\n",
    "\n",
    "testset = torchvision.datasets.CIFAR10(root='./data', train=False, download=True, transform=transform)\n"
   ]
  },
  {
   "cell_type": "code",
   "execution_count": 3,
   "metadata": {},
   "outputs": [],
   "source": [
    "trainloader = torch.utils.data.DataLoader(trainset, batch_size=10, shuffle=True)\n",
    "testloader = torch.utils.data.DataLoader(testset, batch_size=10, shuffle=False)\n",
    "\n",
    "\n",
    "classes = ('plane', 'car', 'bird', 'cat', 'deer', 'dog', 'frog', 'horse', 'ship', 'truck')\n",
    "\n",
    "foreground_classes = {'horse','ship', 'truck'}\n",
    "\n",
    "background_classes = {'plane', 'car', 'bird', 'cat', 'deer', 'dog', 'frog'}\n",
    "\n",
    "# print(type(foreground_classes))"
   ]
  },
  {
   "cell_type": "code",
   "execution_count": 4,
   "metadata": {},
   "outputs": [],
   "source": [
    "dataiter = iter(trainloader)\n",
    "background_data=[]\n",
    "background_label=[]\n",
    "foreground_data=[]\n",
    "foreground_label=[]\n",
    "batch_size=10\n",
    "for i in range(5000):\n",
    "    images, labels = dataiter.next()\n",
    "    for j in range(batch_size):\n",
    "        if(classes[labels[j]] in background_classes):\n",
    "            img = images[j].tolist()\n",
    "            background_data.append(img)\n",
    "            background_label.append(labels[j])\n",
    "        else:\n",
    "            img = images[j].tolist()\n",
    "            foreground_data.append(img)\n",
    "            foreground_label.append(labels[j])\n",
    "            \n",
    "foreground_data = torch.tensor(foreground_data)\n",
    "foreground_label = torch.tensor(foreground_label)\n",
    "background_data = torch.tensor(background_data)\n",
    "background_label = torch.tensor(background_label)\n",
    "    "
   ]
  },
  {
   "cell_type": "code",
   "execution_count": 5,
   "metadata": {},
   "outputs": [
    {
     "name": "stdout",
     "output_type": "stream",
     "text": [
      "torch.Size([15000, 3, 32, 32])\n",
      "torch.Size([35000, 3, 32, 32])\n"
     ]
    }
   ],
   "source": [
    "print(foreground_data.size())\n",
    "print(background_data.size())\n",
    "torch.save(foreground_data,'foreground_data.pt')\n",
    "torch.save(background_data,'background_data.pt')\n",
    "torch.save(foreground_label,'foreground_label.pt')\n",
    "torch.save(background_label,'background_label.pt')\n",
    "# torch.load()"
   ]
  },
  {
   "cell_type": "code",
   "execution_count": 6,
   "metadata": {},
   "outputs": [
    {
     "data": {
      "text/plain": [
       "tensor([[[[ 0.9529,  0.9843,  1.0000,  ...,  0.6549,  0.6000,  0.5608],\n",
       "          [ 0.9529,  0.9686,  0.9922,  ...,  0.6078,  0.5843,  0.5373],\n",
       "          [ 0.8980,  0.9922,  0.9922,  ...,  0.5686,  0.5529,  0.5137],\n",
       "          ...,\n",
       "          [-0.7804, -0.7882, -0.8118,  ..., -0.1686, -0.1137, -0.1216],\n",
       "          [-0.8431, -0.8588, -0.8118,  ..., -0.1608, -0.1294, -0.1137],\n",
       "          [-0.7412, -0.4588, -0.3020,  ..., -0.0902, -0.0902, -0.0824]],\n",
       "\n",
       "         [[ 0.9765,  0.9922,  1.0000,  ...,  0.7333,  0.7020,  0.6784],\n",
       "          [ 0.9686,  0.9765,  0.9843,  ...,  0.7020,  0.6863,  0.6471],\n",
       "          [ 0.9137,  1.0000,  0.9922,  ...,  0.6784,  0.6627,  0.6314],\n",
       "          ...,\n",
       "          [-0.7569, -0.7412, -0.7804,  ..., -0.1529, -0.0980, -0.1059],\n",
       "          [-0.8353, -0.8667, -0.8118,  ..., -0.1451, -0.1137, -0.0980],\n",
       "          [-0.7569, -0.4902, -0.3176,  ..., -0.0745, -0.0745, -0.0667]],\n",
       "\n",
       "         [[ 0.9686,  0.9843,  1.0000,  ...,  0.7490,  0.7255,  0.7098],\n",
       "          [ 0.9529,  0.9529,  0.9686,  ...,  0.7176,  0.7098,  0.6863],\n",
       "          [ 0.8902,  0.9843,  0.9765,  ...,  0.7020,  0.6863,  0.6627],\n",
       "          ...,\n",
       "          [-0.8039, -0.8118, -0.8353,  ..., -0.2549, -0.2000, -0.2078],\n",
       "          [-0.8588, -0.8745, -0.8510,  ..., -0.2471, -0.2157, -0.2000],\n",
       "          [-0.8196, -0.6314, -0.4824,  ..., -0.1765, -0.1765, -0.1686]]],\n",
       "\n",
       "\n",
       "        [[[ 0.3725,  0.3725,  0.3725,  ...,  0.8510,  0.8588,  0.8431],\n",
       "          [ 0.3725,  0.3725,  0.3725,  ...,  0.8745,  0.8745,  0.8588],\n",
       "          [ 0.3804,  0.3804,  0.3804,  ...,  0.8902,  0.8902,  0.8745],\n",
       "          ...,\n",
       "          [-0.0275,  0.0353, -0.0431,  ...,  0.7490,  0.3961,  0.2706],\n",
       "          [-0.0118,  0.0824, -0.0431,  ...,  0.7333,  0.4431,  0.2941],\n",
       "          [-0.0196,  0.0353, -0.0824,  ...,  0.6784,  0.4588,  0.3098]],\n",
       "\n",
       "         [[ 0.6706,  0.6706,  0.6706,  ...,  0.8980,  0.8980,  0.9059],\n",
       "          [ 0.6706,  0.6706,  0.6706,  ...,  0.9216,  0.9137,  0.9294],\n",
       "          [ 0.6706,  0.6706,  0.6706,  ...,  0.9373,  0.9373,  0.9451],\n",
       "          ...,\n",
       "          [ 0.1059,  0.1922,  0.1137,  ...,  0.5765,  0.3961,  0.3569],\n",
       "          [ 0.0980,  0.2157,  0.1294,  ...,  0.5843,  0.4510,  0.3725],\n",
       "          [ 0.0745,  0.1529,  0.1137,  ...,  0.5529,  0.4824,  0.3804]],\n",
       "\n",
       "         [[ 0.8510,  0.8510,  0.8510,  ...,  0.9765,  0.9765,  0.9765],\n",
       "          [ 0.8431,  0.8431,  0.8431,  ...,  0.9922,  0.9922,  0.9922],\n",
       "          [ 0.8275,  0.8275,  0.8275,  ...,  0.9843,  0.9922,  0.9843],\n",
       "          ...,\n",
       "          [ 0.2627,  0.3804,  0.2549,  ...,  0.7412,  0.6000,  0.5216],\n",
       "          [ 0.2549,  0.4118,  0.2941,  ...,  0.7882,  0.6706,  0.5765],\n",
       "          [ 0.2235,  0.3569,  0.2863,  ...,  0.7647,  0.7020,  0.6157]]],\n",
       "\n",
       "\n",
       "        [[[ 0.1294,  0.1608,  0.1922,  ..., -0.0588, -0.1686, -0.2549],\n",
       "          [ 0.2078,  0.2392,  0.2863,  ...,  0.1608,  0.1137,  0.0667],\n",
       "          [ 0.1608,  0.2000,  0.2392,  ...,  0.1529,  0.1216,  0.0824],\n",
       "          ...,\n",
       "          [-0.0980, -0.1765,  0.0196,  ..., -0.0745, -0.0431, -0.1216],\n",
       "          [-0.0745, -0.0980,  0.0353,  ..., -0.1529, -0.1373, -0.1922],\n",
       "          [-0.0902, -0.0980, -0.0039,  ..., -0.0745, -0.1765, -0.2471]],\n",
       "\n",
       "         [[ 0.2471,  0.2627,  0.2784,  ...,  0.0588, -0.0353, -0.0824],\n",
       "          [ 0.2941,  0.3176,  0.3412,  ...,  0.2863,  0.2863,  0.2784],\n",
       "          [ 0.2235,  0.2471,  0.2627,  ...,  0.2392,  0.2627,  0.2627],\n",
       "          ...,\n",
       "          [-0.1137, -0.1843, -0.0275,  ..., -0.0902, -0.0196, -0.0745],\n",
       "          [-0.0980, -0.1294, -0.0275,  ..., -0.1373, -0.0902, -0.1216],\n",
       "          [-0.1137, -0.1216, -0.0667,  ..., -0.0431, -0.1216, -0.1765]],\n",
       "\n",
       "         [[-0.1686, -0.1451, -0.1294,  ...,  0.1529,  0.0902,  0.0353],\n",
       "          [-0.1137, -0.0902, -0.0588,  ...,  0.4196,  0.4275,  0.4275],\n",
       "          [-0.1765, -0.1451, -0.1216,  ...,  0.2549,  0.2706,  0.2863],\n",
       "          ...,\n",
       "          [-0.3569, -0.4196, -0.2392,  ..., -0.3569, -0.2784, -0.3412],\n",
       "          [-0.3412, -0.3647, -0.2392,  ..., -0.4196, -0.3569, -0.3882],\n",
       "          [-0.3569, -0.3647, -0.2941,  ..., -0.3255, -0.3961, -0.4353]]],\n",
       "\n",
       "\n",
       "        ...,\n",
       "\n",
       "\n",
       "        [[[-0.2314, -0.2157, -0.2235,  ...,  0.5922,  0.5137,  0.4667],\n",
       "          [-0.2235, -0.2078, -0.2314,  ...,  0.3412,  0.3098,  0.3098],\n",
       "          [-0.2627, -0.2314, -0.2235,  ...,  0.1686,  0.2000,  0.2235],\n",
       "          ...,\n",
       "          [ 0.2627,  0.3176,  0.2863,  ...,  0.3412,  0.2549,  0.2471],\n",
       "          [ 0.2235,  0.2471,  0.2157,  ...,  0.5608,  0.3725,  0.2471],\n",
       "          [ 0.1608,  0.1765,  0.1765,  ...,  0.7882,  0.6471,  0.4353]],\n",
       "\n",
       "         [[-0.3961, -0.3961, -0.4039,  ...,  0.4353,  0.3647,  0.3255],\n",
       "          [-0.3882, -0.3804, -0.4039,  ...,  0.1686,  0.1451,  0.1608],\n",
       "          [-0.4275, -0.4039, -0.3961,  ..., -0.0431,  0.0039,  0.0353],\n",
       "          ...,\n",
       "          [ 0.0667,  0.0980,  0.0667,  ...,  0.0588, -0.0431, -0.0588],\n",
       "          [ 0.0745,  0.0824,  0.0431,  ...,  0.3725,  0.1216, -0.0510],\n",
       "          [-0.0039,  0.0039, -0.0118,  ...,  0.6000,  0.4196,  0.1608]],\n",
       "\n",
       "         [[-0.4824, -0.4824, -0.4902,  ...,  0.0431, -0.0431, -0.0824],\n",
       "          [-0.4745, -0.4667, -0.4902,  ..., -0.2549, -0.2941, -0.2863],\n",
       "          [-0.5059, -0.4902, -0.4824,  ..., -0.3647, -0.3490, -0.3412],\n",
       "          ...,\n",
       "          [-0.2000, -0.1843, -0.2235,  ..., -0.1373, -0.2314, -0.2549],\n",
       "          [-0.2392, -0.2471, -0.2863,  ...,  0.2078, -0.0353, -0.2000],\n",
       "          [-0.3098, -0.3255, -0.3333,  ...,  0.4431,  0.2706,  0.0196]]],\n",
       "\n",
       "\n",
       "        [[[-0.3804, -0.3882, -0.3020,  ..., -0.7020, -0.6314, -0.6157],\n",
       "          [-0.4431, -0.4667, -0.3176,  ..., -0.5686, -0.5608, -0.6078],\n",
       "          [-0.4588, -0.4431, -0.4980,  ..., -0.6000, -0.5922, -0.5137],\n",
       "          ...,\n",
       "          [-0.5451,  0.0353,  0.2314,  ...,  0.3490,  0.3176,  0.2941],\n",
       "          [-0.5216,  0.1686,  0.2392,  ...,  0.2706,  0.3098,  0.2706],\n",
       "          [-0.2549,  0.1529,  0.1294,  ..., -0.2314, -0.2157, -0.2157]],\n",
       "\n",
       "         [[-0.4588, -0.5059, -0.5373,  ..., -0.7725, -0.7020, -0.6941],\n",
       "          [-0.5294, -0.5765, -0.4902,  ..., -0.6314, -0.6314, -0.6784],\n",
       "          [-0.5529, -0.5608, -0.6000,  ..., -0.6706, -0.6627, -0.5843],\n",
       "          ...,\n",
       "          [-0.5922, -0.0118,  0.1843,  ...,  0.0118,  0.0510,  0.1373],\n",
       "          [-0.5843,  0.1137,  0.1843,  ...,  0.0196,  0.1373,  0.2000],\n",
       "          [-0.3569,  0.0510,  0.0275,  ..., -0.3098, -0.2627, -0.2235]],\n",
       "\n",
       "         [[-0.5765, -0.6078, -0.6000,  ..., -0.7255, -0.6549, -0.6392],\n",
       "          [-0.5843, -0.6235, -0.5216,  ..., -0.6078, -0.6000, -0.6471],\n",
       "          [-0.5451, -0.5451, -0.5843,  ..., -0.6471, -0.6471, -0.5686],\n",
       "          ...,\n",
       "          [-0.6078, -0.0275,  0.1686,  ..., -0.0039,  0.0275,  0.0980],\n",
       "          [-0.6471,  0.0353,  0.1059,  ..., -0.0275,  0.0824,  0.1373],\n",
       "          [-0.5608, -0.1686, -0.1922,  ..., -0.3569, -0.3098, -0.2549]]],\n",
       "\n",
       "\n",
       "        [[[ 0.5686,  0.4902,  0.4980,  ...,  0.3569,  0.3961,  0.5059],\n",
       "          [ 0.5373,  0.5373,  0.5843,  ...,  0.5451,  0.5529,  0.6000],\n",
       "          [ 0.4431,  0.4510,  0.4824,  ...,  0.6392,  0.6392,  0.5765],\n",
       "          ...,\n",
       "          [-0.1529, -0.1765, -0.1451,  ..., -0.0980, -0.1373, -0.1608],\n",
       "          [-0.1529, -0.1216, -0.0980,  ..., -0.0824, -0.0980, -0.1137],\n",
       "          [-0.1686, -0.1608, -0.1608,  ..., -0.0980, -0.1137, -0.1216]],\n",
       "\n",
       "         [[ 0.7333,  0.6863,  0.6784,  ...,  0.5216,  0.5529,  0.6392],\n",
       "          [ 0.7176,  0.6863,  0.6941,  ...,  0.6627,  0.6627,  0.7412],\n",
       "          [ 0.7020,  0.6549,  0.6549,  ...,  0.7255,  0.7333,  0.7255],\n",
       "          ...,\n",
       "          [ 0.0902,  0.0667,  0.0980,  ...,  0.1373,  0.0902,  0.0745],\n",
       "          [ 0.1137,  0.1373,  0.1686,  ...,  0.1216,  0.1137,  0.1216],\n",
       "          [ 0.0824,  0.0980,  0.0980,  ...,  0.1137,  0.0980,  0.1137]],\n",
       "\n",
       "         [[ 0.8667,  0.8667,  0.8902,  ...,  0.7804,  0.8275,  0.8431],\n",
       "          [ 0.8510,  0.8667,  0.9059,  ...,  0.8745,  0.8902,  0.9529],\n",
       "          [ 0.9059,  0.8902,  0.9137,  ...,  0.8902,  0.9294,  0.9608],\n",
       "          ...,\n",
       "          [ 0.3490,  0.3255,  0.3569,  ...,  0.3804,  0.3647,  0.3255],\n",
       "          [ 0.3725,  0.3961,  0.4275,  ...,  0.3647,  0.3569,  0.3569],\n",
       "          [ 0.3176,  0.3255,  0.3333,  ...,  0.3490,  0.3333,  0.3333]]]])"
      ]
     },
     "execution_count": 6,
     "metadata": {},
     "output_type": "execute_result"
    }
   ],
   "source": [
    "torch.load('foreground_data.pt')\n",
    "# print(foreground_data.size())\n",
    "# print(background_data.size())"
   ]
  },
  {
   "cell_type": "code",
   "execution_count": 7,
   "metadata": {},
   "outputs": [],
   "source": [
    "\n",
    "foreground_data = torch.load('foreground_data.pt')\n",
    "background_data = torch.load('background_data.pt')\n",
    "foreground_label = torch.load('foreground_label.pt')\n",
    "background_label = torch.load('background_label.pt')\n"
   ]
  },
  {
   "cell_type": "code",
   "execution_count": 8,
   "metadata": {},
   "outputs": [],
   "source": [
    "def imshow(img):\n",
    "    img = img / 2 + 0.5     # unnormalize\n",
    "    npimg = img.numpy()\n",
    "    plt.imshow(np.transpose(npimg, (1, 2, 0)))\n",
    "    plt.show()"
   ]
  },
  {
   "cell_type": "code",
   "execution_count": 9,
   "metadata": {
    "scrolled": true
   },
   "outputs": [
    {
     "data": {
      "image/png": "[encoded data removed]",
      "text/plain": [
       "<Figure size 432x288 with 1 Axes>"
      ]
     },
     "metadata": {},
     "output_type": "display_data"
    },
    {
     "data": {
      "image/png": "[encoded data removed]",
      "text/plain": [
       "<Figure size 432x288 with 1 Axes>"
      ]
     },
     "metadata": {},
     "output_type": "display_data"
    },
    {
     "data": {
      "image/png": "[encoded data removed]",
      "text/plain": [
       "<Figure size 432x288 with 1 Axes>"
      ]
     },
     "metadata": {},
     "output_type": "display_data"
    },
    {
     "name": "stdout",
     "output_type": "stream",
     "text": [
      "torch.Size([3, 96, 32])\n"
     ]
    }
   ],
   "source": [
    "img1 = torch.cat((background_data[0],background_data[1],background_data[2]),1)\n",
    "imshow(img1)\n",
    "img2 = torch.cat((background_data[27],background_data[3],background_data[43]),1)\n",
    "imshow(img2)\n",
    "img3 = torch.cat((img1,img2),2)\n",
    "imshow(img3)\n",
    "print(img2.size())"
   ]
  },
  {
   "cell_type": "code",
   "execution_count": 10,
   "metadata": {},
   "outputs": [
    {
     "name": "stdout",
     "output_type": "stream",
     "text": [
      "[13791 11948  3769  4074 14091  4652 12177  2968]\n"
     ]
    }
   ],
   "source": [
    "print(np.random.randint(1,15000,8))"
   ]
  },
  {
   "cell_type": "code",
   "execution_count": 11,
   "metadata": {},
   "outputs": [],
   "source": [
    "def create_mosaic_img(bg_idx,fg_idx,fg):\n",
    "    image_dict ={}\n",
    "    j=0\n",
    "    for i in range(9):\n",
    "        if i != fg:\n",
    "            image_dict['img'+str(i)] = background_data[bg_idx[j]].type(\"torch.DoubleTensor\")\n",
    "            j+=1\n",
    "        else: \n",
    "            image_dict['img'+str(i)] = foreground_data[fg_idx].type(\"torch.DoubleTensor\")\n",
    "            label = foreground_label[fg_idx]-7\n",
    "#     print(image_dict)\n",
    "#     row1 = torch.cat((image_dict['img0'],image_dict['img1'],image_dict['img2']),2)\n",
    "#     row2 = torch.cat((image_dict['img3'],image_dict['img4'],image_dict['img5']),2)\n",
    "#     row3 = torch.cat((image_dict['img6'],image_dict['img7'],image_dict['img8']),2)\n",
    "#     mosaic = torch.cat((row1,row2,row3),1)\n",
    "#     return mosaic\n",
    "    return image_dict,label"
   ]
  },
  {
   "cell_type": "code",
   "execution_count": 12,
   "metadata": {
    "scrolled": true
   },
   "outputs": [],
   "source": [
    "# print(bg_idx, fg_idx,fg)\n",
    "# bg_idx = [0,1,2,27,3,43,99,155]\n",
    "# fg_idx = 1\n",
    "# fg = 5\n",
    "# collage = create_mosaic_img(bg_idx,fg_idx,fg)\n",
    "desired_num = 1000\n",
    "mosaic_list_of_dict =[]        #lis of dict, each dict have img0-img9\n",
    "fore_idx =[]                   #list of indexes at which foreground image is present in a mosaic image                \n",
    "mosaic_label=[]                # label of mosaic image = foreground class present in that mosaic\n",
    "for i in range(desired_num):\n",
    "    bg_idx = np.random.randint(0,35000,8)\n",
    "    fg_idx = np.random.randint(0,15000)\n",
    "    fg = np.random.randint(0,9)\n",
    "    fore_idx.append(fg)\n",
    "    dict_1,label = create_mosaic_img(bg_idx,fg_idx,fg)\n",
    "    mosaic_list_of_dict.append(dict_1)\n",
    "    mosaic_label.append(label)\n",
    "# imshow(mosaic_list_of_dict[0]['img4'])\n"
   ]
  },
  {
   "cell_type": "code",
   "execution_count": null,
   "metadata": {},
   "outputs": [],
   "source": [
    "# print(len(mosaic_list_of_dict))\n",
    "# print(classes[mosaic_label[13]])\n",
    "# print(fore_idx[13])\n",
    "# imshow(mosaic_list_of_dict[56]['img8'])\n",
    "# print(type(mosaic_list_of_dict[1]['img0']))\n",
    "print(mosaic_label)"
   ]
  },
  {
   "cell_type": "code",
   "execution_count": 13,
   "metadata": {},
   "outputs": [],
   "source": [
    "import torch.nn as nn\n",
    "import torch.nn.functional as F\n",
    "\n",
    "class Module1(nn.Module):\n",
    "    def __init__(self):\n",
    "        super(Module1, self).__init__()\n",
    "        self.conv1 = nn.Conv2d(3, 6, 5)\n",
    "        self.pool = nn.MaxPool2d(2, 2)\n",
    "        self.conv2 = nn.Conv2d(6, 16, 5)\n",
    "        self.fc1 = nn.Linear(16 * 5 * 5, 120)\n",
    "        self.fc2 = nn.Linear(120, 84)\n",
    "        self.fc3 = nn.Linear(84, 10)\n",
    "        self.fc4 = nn.Linear(10,1)\n",
    "\n",
    "    def forward(self, x):\n",
    "        x = self.pool(F.relu(self.conv1(x)))\n",
    "        x = self.pool(F.relu(self.conv2(x)))\n",
    "        x = x.view(-1, 16 * 5 * 5)\n",
    "        x = F.relu(self.fc1(x))\n",
    "        x = F.relu(self.fc2(x))\n",
    "        x = F.relu(self.fc3(x))\n",
    "        x = self.fc4(x)\n",
    "        return x\n",
    "# net = Module1()\n",
    "# print(net.parameters)"
   ]
  },
  {
   "cell_type": "code",
   "execution_count": 14,
   "metadata": {},
   "outputs": [
    {
     "name": "stdout",
     "output_type": "stream",
     "text": [
      "<bound method Module.parameters of Module2(\n",
      "  (module1): Module1(\n",
      "    (conv1): Conv2d(3, 6, kernel_size=(5, 5), stride=(1, 1))\n",
      "    (pool): MaxPool2d(kernel_size=2, stride=2, padding=0, dilation=1, ceil_mode=False)\n",
      "    (conv2): Conv2d(6, 16, kernel_size=(5, 5), stride=(1, 1))\n",
      "    (fc1): Linear(in_features=400, out_features=120, bias=True)\n",
      "    (fc2): Linear(in_features=120, out_features=84, bias=True)\n",
      "    (fc3): Linear(in_features=84, out_features=10, bias=True)\n",
      "    (fc4): Linear(in_features=10, out_features=1, bias=True)\n",
      "  )\n",
      "  (conv1): Conv2d(3, 6, kernel_size=(5, 5), stride=(1, 1))\n",
      "  (pool): MaxPool2d(kernel_size=2, stride=2, padding=0, dilation=1, ceil_mode=False)\n",
      "  (conv2): Conv2d(6, 16, kernel_size=(5, 5), stride=(1, 1))\n",
      "  (fc1): Linear(in_features=400, out_features=120, bias=True)\n",
      "  (fc2): Linear(in_features=120, out_features=84, bias=True)\n",
      "  (fc3): Linear(in_features=84, out_features=10, bias=True)\n",
      "  (fc4): Linear(in_features=10, out_features=3, bias=True)\n",
      ")>\n"
     ]
    }
   ],
   "source": [
    "class Module2(nn.Module):\n",
    "    def __init__(self):\n",
    "        super(Module2, self).__init__()\n",
    "        self.module1 = Module1().double()\n",
    "        self.conv1 = nn.Conv2d(3, 6, 5)\n",
    "        self.pool = nn.MaxPool2d(2, 2)\n",
    "        self.conv2 = nn.Conv2d(6, 16, 5)\n",
    "        self.fc1 = nn.Linear(16 * 5 * 5, 120)\n",
    "        self.fc2 = nn.Linear(120, 84)\n",
    "        self.fc3 = nn.Linear(84, 10)\n",
    "        self.fc4 = nn.Linear(10,3)\n",
    "\n",
    "    def forward(self,z):  #z be a dict of 9 images\n",
    "        y = torch.zeros([32,32], dtype=torch.float64)\n",
    "        x = torch.zeros([9],dtype=torch.float64)\n",
    "        for i in range(9):\n",
    "            x[i] = self.module1.forward(z['img'+str(i)][None,:,:,:])\n",
    "            \n",
    "#         print(\"x=\",x)\n",
    "#         print(\"its softmax\", torch.softmax(x, dim=0))\n",
    "        for i in range(9):\n",
    "            y = y + (z['img'+str(i)]*x[i]).type(\"torch.DoubleTensor\")\n",
    "\n",
    "#         imshow(y.detach())\n",
    "         \n",
    "        \n",
    "        y = self.pool(F.relu(self.conv1(y[None,:,:,:])))\n",
    "        y = self.pool(F.relu(self.conv2(y)))\n",
    "        y = y.view(-1, 16 * 5 * 5)\n",
    "        \n",
    "        y = F.relu(self.fc1(y))\n",
    "        y = F.relu(self.fc2(y))\n",
    "        y = F.relu(self.fc3(y))\n",
    "        y = self.fc4(y)\n",
    "        return y\n",
    "    \n",
    "fore_net = Module2().double()\n",
    "print(fore_net.parameters)"
   ]
  },
  {
   "cell_type": "code",
   "execution_count": 16,
   "metadata": {},
   "outputs": [],
   "source": [
    "import torch.optim as optim\n",
    "\n",
    "criterion = nn.CrossEntropyLoss()\n",
    "optimizer = optim.SGD(fore_net.parameters(), lr=0.001, momentum=0.9)"
   ]
  },
  {
   "cell_type": "code",
   "execution_count": 17,
   "metadata": {},
   "outputs": [
    {
     "name": "stdout",
     "output_type": "stream",
     "text": [
      "[1,  1000] loss: 0.273\n",
      "[1,  1000] loss: 0.018\n",
      "[2,  1000] loss: 0.002\n",
      "[2,  1000] loss: 0.001\n",
      "Finished Training\n"
     ]
    }
   ],
   "source": [
    "for epoch in range(2):  # loop over the dataset multiple times\n",
    "\n",
    "    running_loss = 0.0\n",
    "    cnt=0\n",
    "    for data in (mosaic_list_of_dict):\n",
    "        # get the inputs; data is a list of [inputs, labels]\n",
    "        inputs = data\n",
    "#         print(len(data))\n",
    "        labels = mosaic_label[cnt][None,None]\n",
    "        # zero the parameter gradients\n",
    "        optimizer.zero_grad()\n",
    "\n",
    "        # forward + backward + optimize\n",
    "        outputs = fore_net(inputs)\n",
    "#         print(outputs.shape,labels.shape , torch.argmax(outputs))\n",
    "        loss = criterion(outputs, torch.max(labels, 1)[1]) \n",
    "        loss.backward()\n",
    "        optimizer.step()\n",
    "\n",
    "        # print statistics\n",
    "        running_loss += loss.item()\n",
    "        if cnt % 500 == 499:    # print every 2000 mini-batches\n",
    "            print('[%d, %5d] loss: %.3f' %\n",
    "                  (epoch + 1, i + 1, running_loss / 500))\n",
    "            running_loss = 0.0\n",
    "        cnt=cnt+1\n",
    "\n",
    "print('Finished Training')"
   ]
  },
  {
   "cell_type": "code",
   "execution_count": null,
   "metadata": {},
   "outputs": [],
   "source": [
    "for data in (mosaic_list_of_dict):\n",
    "    print(data['img'+str(0)].size())\n"
   ]
  },
  {
   "cell_type": "code",
   "execution_count": null,
   "metadata": {},
   "outputs": [],
   "source": [
    "mosaic_label[0][None,None].shape"
   ]
  },
  {
   "cell_type": "code",
   "execution_count": null,
   "metadata": {},
   "outputs": [],
   "source": []
  }
 ],
 "metadata": {
  "kernelspec": {
   "display_name": "Python 3",
   "language": "python",
   "name": "python3"
  },
  "language_info": {
   "codemirror_mode": {
    "name": "ipython",
    "version": 3
   },
   "file_extension": ".py",
   "mimetype": "text/x-python",
   "name": "python",
   "nbconvert_exporter": "python",
   "pygments_lexer": "ipython3",
   "version": "3.6.5"
  }
 },
 "nbformat": 4,
 "nbformat_minor": 2
}
