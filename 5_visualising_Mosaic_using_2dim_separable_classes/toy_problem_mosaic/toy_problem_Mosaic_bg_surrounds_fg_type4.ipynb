{
  "nbformat": 4,
  "nbformat_minor": 0,
  "metadata": {
    "accelerator": "GPU",
    "colab": {
      "name": "toy_problem_Mosaic_bg_surrounds_fg_type4.ipynb",
      "provenance": [],
      "collapsed_sections": []
    },
    "kernelspec": {
      "display_name": "Python 3",
      "language": "python",
      "name": "python3"
    },
    "language_info": {
      "codemirror_mode": {
        "name": "ipython",
        "version": 3
      },
      "file_extension": ".py",
      "mimetype": "text/x-python",
      "name": "python",
      "nbconvert_exporter": "python",
      "pygments_lexer": "ipython3",
      "version": "3.6.5"
    }
  },
  "cells": [
    {
      "cell_type": "code",
      "metadata": {
        "id": "N2_J4Rw2r0SQ",
        "outputId": "cc5e7b6a-0206-49c8-c0ba-e82ef34e4bf6",
        "colab": {
          "base_uri": "https://localhost:8080/"
        }
      },
      "source": [
        "import numpy as np\n",
        "import pandas as pd\n",
        "from matplotlib import pyplot as plt\n",
        "from tqdm import tqdm\n",
        "%matplotlib inline\n",
        "from torch.utils.data import Dataset, DataLoader\n",
        "import torch\n",
        "import torchvision\n",
        "\n",
        "import torch.nn as nn\n",
        "import torch.optim as optim\n",
        "from torch.nn import functional as F\n",
        "device = torch.device(\"cuda\" if torch.cuda.is_available() else \"cpu\")\n",
        "print(device)"
      ],
      "execution_count": 1,
      "outputs": [
        {
          "output_type": "stream",
          "text": [
            "cuda\n"
          ],
          "name": "stdout"
        }
      ]
    },
    {
      "cell_type": "markdown",
      "metadata": {
        "id": "F6fjud_Fr0Sa"
      },
      "source": [
        "# Generate dataset"
      ]
    },
    {
      "cell_type": "code",
      "metadata": {
        "id": "CqdXHO0Cr0Sd",
        "outputId": "826ed23e-ad75-4e35-a274-9f85e9f74192",
        "colab": {
          "base_uri": "https://localhost:8080/"
        }
      },
      "source": [
        "y = np.random.randint(0,10,5000)\n",
        "idx= []\n",
        "for i in range(10):\n",
        "    print(i,sum(y==i))\n",
        "    idx.append(y==i)"
      ],
      "execution_count": 2,
      "outputs": [
        {
          "output_type": "stream",
          "text": [
            "0 495\n",
            "1 477\n",
            "2 514\n",
            "3 478\n",
            "4 528\n",
            "5 522\n",
            "6 488\n",
            "7 467\n",
            "8 507\n",
            "9 524\n"
          ],
          "name": "stdout"
        }
      ]
    },
    {
      "cell_type": "code",
      "metadata": {
        "id": "ddhXyODwr0Sk"
      },
      "source": [
        "x = np.zeros((5000,2))"
      ],
      "execution_count": 3,
      "outputs": []
    },
    {
      "cell_type": "code",
      "metadata": {
        "id": "DyV3N2DIr0Sp"
      },
      "source": [
        "x[idx[0],:] = np.random.multivariate_normal(mean = [4,6.5],cov=[[0.01,0],[0,0.01]],size=sum(idx[0]))\n",
        "\n",
        "x[idx[1],:] = np.random.multivariate_normal(mean = [5.5,6],cov=[[0.01,0],[0,0.01]],size=sum(idx[1]))\n",
        "\n",
        "x[idx[2],:] = np.random.multivariate_normal(mean = [4.5,4.5],cov=[[0.01,0],[0,0.01]],size=sum(idx[2]))\n",
        "\n",
        "# x[idx[0],:] = np.random.multivariate_normal(mean = [5,5],cov=[[0.1,0],[0,0.1]],size=sum(idx[0]))\n",
        "\n",
        "# x[idx[1],:] = np.random.multivariate_normal(mean = [6,6],cov=[[0.1,0],[0,0.1]],size=sum(idx[1]))\n",
        "\n",
        "# x[idx[2],:] = np.random.multivariate_normal(mean = [5.5,6.5],cov=[[0.1,0],[0,0.1]],size=sum(idx[2]))\n",
        "\n",
        "x[idx[3],:] = np.random.multivariate_normal(mean = [3,3.5],cov=[[0.01,0],[0,0.01]],size=sum(idx[3]))\n",
        "\n",
        "\n",
        "x[idx[4],:] = np.random.multivariate_normal(mean = [2.5,5.5],cov=[[0.01,0],[0,0.01]],size=sum(idx[4]))\n",
        "\n",
        "x[idx[5],:] = np.random.multivariate_normal(mean = [3.5,8],cov=[[0.01,0],[0,0.01]],size=sum(idx[5]))\n",
        "\n",
        "x[idx[6],:] = np.random.multivariate_normal(mean = [5.5,8],cov=[[0.01,0],[0,0.01]],size=sum(idx[6]))\n",
        "\n",
        "x[idx[7],:] = np.random.multivariate_normal(mean = [7,6.5],cov=[[0.01,0],[0,0.01]],size=sum(idx[7]))\n",
        "\n",
        "x[idx[8],:] = np.random.multivariate_normal(mean = [6.5,4.5],cov=[[0.01,0],[0,0.01]],size=sum(idx[8]))\n",
        "\n",
        "x[idx[9],:] = np.random.multivariate_normal(mean = [5,3],cov=[[0.01,0],[0,0.01]],size=sum(idx[9]))"
      ],
      "execution_count": 4,
      "outputs": []
    },
    {
      "cell_type": "code",
      "metadata": {
        "id": "hJ8Jm7YUr0St",
        "outputId": "3e7f1ec3-bbeb-4056-f137-941dfc975d66",
        "colab": {
          "base_uri": "https://localhost:8080/",
          "height": 283
        }
      },
      "source": [
        "for i in range(10):\n",
        "    plt.scatter(x[idx[i],0],x[idx[i],1],label=\"class_\"+str(i))\n",
        "plt.legend(loc='center left', bbox_to_anchor=(1, 0.5))"
      ],
      "execution_count": 5,
      "outputs": [
        {
          "output_type": "execute_result",
          "data": {
            "text/plain": [
              "<matplotlib.legend.Legend at 0x7fb9c8f240b8>"
            ]
          },
          "metadata": {
            "tags": []
          },
          "execution_count": 5
        },
        {
          "output_type": "display_data",
          "data": {
            "image/png": "[encoded data removed]",
            "text/plain": [
              "<Figure size 432x288 with 1 Axes>"
            ]
          },
          "metadata": {
            "tags": [],
            "needs_background": "light"
          }
        }
      ]
    },
    {
      "cell_type": "code",
      "metadata": {
        "id": "UfFHcZJOr0Sz"
      },
      "source": [
        "foreground_classes = {'class_0','class_1', 'class_2'}\n",
        "\n",
        "background_classes = {'class_3','class_4', 'class_5', 'class_6','class_7', 'class_8', 'class_9'}"
      ],
      "execution_count": 6,
      "outputs": []
    },
    {
      "cell_type": "code",
      "metadata": {
        "id": "OplNpNQVr0S2",
        "outputId": "aecf2a7b-4256-4503-8a17-f8d0f4c3d629",
        "colab": {
          "base_uri": "https://localhost:8080/"
        }
      },
      "source": [
        "fg_class  = np.random.randint(0,3)\n",
        "fg_idx = np.random.randint(0,9)\n",
        "\n",
        "a = []\n",
        "for i in range(9):\n",
        "    if i == fg_idx:\n",
        "        b = np.random.choice(np.where(idx[fg_class]==True)[0],size=1)\n",
        "        a.append(x[b])\n",
        "        print(\"foreground \"+str(fg_class)+\" present at \" + str(fg_idx))\n",
        "    else:\n",
        "        bg_class = np.random.randint(3,10)\n",
        "        b = np.random.choice(np.where(idx[bg_class]==True)[0],size=1)\n",
        "        a.append(x[b])\n",
        "        print(\"background \"+str(bg_class)+\" present at \" + str(i))\n",
        "a = np.concatenate(a,axis=0)\n",
        "print(a.shape)\n",
        "\n",
        "print(fg_class , fg_idx)"
      ],
      "execution_count": 7,
      "outputs": [
        {
          "output_type": "stream",
          "text": [
            "background 3 present at 0\n",
            "background 5 present at 1\n",
            "background 3 present at 2\n",
            "background 3 present at 3\n",
            "background 3 present at 4\n",
            "background 4 present at 5\n",
            "background 9 present at 6\n",
            "foreground 2 present at 7\n",
            "background 8 present at 8\n",
            "(9, 2)\n",
            "2 7\n"
          ],
          "name": "stdout"
        }
      ]
    },
    {
      "cell_type": "code",
      "metadata": {
        "id": "dwZVmmRBr0S8",
        "outputId": "ae8cc825-b508-4f03-cefd-5b58355cadab",
        "colab": {
          "base_uri": "https://localhost:8080/"
        }
      },
      "source": [
        "a.shape"
      ],
      "execution_count": 8,
      "outputs": [
        {
          "output_type": "execute_result",
          "data": {
            "text/plain": [
              "(9, 2)"
            ]
          },
          "metadata": {
            "tags": []
          },
          "execution_count": 8
        }
      ]
    },
    {
      "cell_type": "code",
      "metadata": {
        "id": "OoxzYI-ur0S_",
        "outputId": "2711d66b-88b5-4049-e707-322cc0e4af9a",
        "colab": {
          "base_uri": "https://localhost:8080/"
        }
      },
      "source": [
        "np.reshape(a,(18,1))"
      ],
      "execution_count": 9,
      "outputs": [
        {
          "output_type": "execute_result",
          "data": {
            "text/plain": [
              "array([[2.89980852],\n",
              "       [3.44893722],\n",
              "       [3.46898954],\n",
              "       [7.97631383],\n",
              "       [2.95826832],\n",
              "       [3.54030098],\n",
              "       [2.85404165],\n",
              "       [3.53267447],\n",
              "       [2.89531829],\n",
              "       [3.56521643],\n",
              "       [2.42203438],\n",
              "       [5.7163966 ],\n",
              "       [5.036111  ],\n",
              "       [2.97608811],\n",
              "       [4.60314693],\n",
              "       [4.64912385],\n",
              "       [6.32146681],\n",
              "       [4.6610702 ]])"
            ]
          },
          "metadata": {
            "tags": []
          },
          "execution_count": 9
        }
      ]
    },
    {
      "cell_type": "code",
      "metadata": {
        "id": "y4ruI0cxr0TE"
      },
      "source": [
        "a=np.reshape(a,(3,6))"
      ],
      "execution_count": 10,
      "outputs": []
    },
    {
      "cell_type": "code",
      "metadata": {
        "id": "RTUTFhJIr0TI",
        "outputId": "cb9e8234-a164-444b-e03d-b61146300be1",
        "colab": {
          "base_uri": "https://localhost:8080/",
          "height": 237
        }
      },
      "source": [
        "plt.imshow(a)"
      ],
      "execution_count": 11,
      "outputs": [
        {
          "output_type": "execute_result",
          "data": {
            "text/plain": [
              "<matplotlib.image.AxesImage at 0x7fb9c8a1b978>"
            ]
          },
          "metadata": {
            "tags": []
          },
          "execution_count": 11
        },
        {
          "output_type": "display_data",
          "data": {
            "image/png": "[encoded data removed]",
            "text/plain": [
              "<Figure size 432x288 with 1 Axes>"
            ]
          },
          "metadata": {
            "tags": [],
            "needs_background": "light"
          }
        }
      ]
    },
    {
      "cell_type": "code",
      "metadata": {
        "id": "jqbvfbwVr0TN"
      },
      "source": [
        "desired_num = 3000\n",
        "mosaic_list =[]\n",
        "mosaic_label = []\n",
        "fore_idx=[]\n",
        "for j in range(desired_num):\n",
        "    fg_class  = np.random.randint(0,3)\n",
        "    fg_idx = np.random.randint(0,9)\n",
        "    a = []\n",
        "    for i in range(9):\n",
        "        if i == fg_idx:\n",
        "            b = np.random.choice(np.where(idx[fg_class]==True)[0],size=1)\n",
        "            a.append(x[b])\n",
        "#             print(\"foreground \"+str(fg_class)+\" present at \" + str(fg_idx))\n",
        "        else:\n",
        "            bg_class = np.random.randint(3,10)\n",
        "            b = np.random.choice(np.where(idx[bg_class]==True)[0],size=1)\n",
        "            a.append(x[b])\n",
        "#             print(\"background \"+str(bg_class)+\" present at \" + str(i))\n",
        "    a = np.concatenate(a,axis=0)\n",
        "    mosaic_list.append(np.reshape(a,(18,1)))\n",
        "    mosaic_label.append(fg_class)\n",
        "    fore_idx.append(fg_idx)"
      ],
      "execution_count": 12,
      "outputs": []
    },
    {
      "cell_type": "code",
      "metadata": {
        "id": "BOsFmWfMr0TR"
      },
      "source": [
        "mosaic_list = np.concatenate(mosaic_list,axis=1).T\n",
        "# print(mosaic_list)"
      ],
      "execution_count": 13,
      "outputs": []
    },
    {
      "cell_type": "code",
      "metadata": {
        "id": "C2PnW7aQr0TT",
        "outputId": "d03aab2f-9f3a-4772-bf76-44995ff08ded",
        "colab": {
          "base_uri": "https://localhost:8080/"
        }
      },
      "source": [
        "print(np.shape(mosaic_label))\n",
        "print(np.shape(fore_idx))"
      ],
      "execution_count": 14,
      "outputs": [
        {
          "output_type": "stream",
          "text": [
            "(3000,)\n",
            "(3000,)\n"
          ],
          "name": "stdout"
        }
      ]
    },
    {
      "cell_type": "code",
      "metadata": {
        "id": "yL0BRf8er0TX"
      },
      "source": [
        "class MosaicDataset(Dataset):\n",
        "  \"\"\"MosaicDataset dataset.\"\"\"\n",
        "\n",
        "  def __init__(self, mosaic_list, mosaic_label, fore_idx):\n",
        "    \"\"\"\n",
        "      Args:\n",
        "        csv_file (string): Path to the csv file with annotations.\n",
        "        root_dir (string): Directory with all the images.\n",
        "        transform (callable, optional): Optional transform to be applied\n",
        "            on a sample.\n",
        "    \"\"\"\n",
        "    self.mosaic = mosaic_list\n",
        "    self.label = mosaic_label\n",
        "    self.fore_idx = fore_idx\n",
        "\n",
        "  def __len__(self):\n",
        "    return len(self.label)\n",
        "\n",
        "  def __getitem__(self, idx):\n",
        "    return self.mosaic[idx] , self.label[idx], self.fore_idx[idx]\n",
        "\n",
        "batch = 250\n",
        "msd = MosaicDataset(mosaic_list, mosaic_label , fore_idx)\n",
        "train_loader = DataLoader( msd,batch_size= batch ,shuffle=True)"
      ],
      "execution_count": 15,
      "outputs": []
    },
    {
      "cell_type": "code",
      "metadata": {
        "id": "ZVRXgwwNr0Tb"
      },
      "source": [
        "class Wherenet(nn.Module):\n",
        "    def __init__(self):\n",
        "        super(Wherenet,self).__init__()\n",
        "        self.linear1 = nn.Linear(2,50)\n",
        "        self.linear2 = nn.Linear(50,50)\n",
        "        self.linear3 = nn.Linear(50,1)\n",
        "    def forward(self,z):\n",
        "        x = torch.zeros([batch,9],dtype=torch.float64)\n",
        "        y = torch.zeros([batch,2], dtype=torch.float64)\n",
        "        #x,y = x.to(\"cuda\"),y.to(\"cuda\")\n",
        "        for i in range(9):\n",
        "            x[:,i] = self.helper(z[:,2*i:2*i+2])[:,0]\n",
        "            #print(k[:,0].shape,x[:,i].shape)\n",
        "        x = F.softmax(x,dim=1)   # alphas\n",
        "        x1 = x[:,0]\n",
        "        for i in range(9):\n",
        "            x1 = x[:,i]          \n",
        "            #print()\n",
        "            y = y+torch.mul(x1[:,None],z[:,2*i:2*i+2])\n",
        "        return y , x \n",
        "\n",
        "    \n",
        "    def helper(self,x):\n",
        "        x = F.relu(self.linear1(x))\n",
        "        x = F.relu(self.linear2(x))\n",
        "        x = self.linear3(x)\n",
        "        return x\n",
        "\n",
        "    "
      ],
      "execution_count": 16,
      "outputs": []
    },
    {
      "cell_type": "code",
      "metadata": {
        "id": "f-Ek05Kxr0Te"
      },
      "source": [
        "trainiter = iter(train_loader)\n",
        "input1,labels1,index1 = trainiter.next()\n",
        "\n"
      ],
      "execution_count": 17,
      "outputs": []
    },
    {
      "cell_type": "code",
      "metadata": {
        "id": "SxEmWZI6r0Ti",
        "outputId": "d17cfc6a-390a-4ecd-9eb3-23508d6f7b89",
        "colab": {
          "base_uri": "https://localhost:8080/"
        }
      },
      "source": [
        "where = Wherenet().double()\n",
        "where = where\n",
        "out_where,alphas = where(input1)\n",
        "out_where.shape,alphas.shape"
      ],
      "execution_count": 18,
      "outputs": [
        {
          "output_type": "execute_result",
          "data": {
            "text/plain": [
              "(torch.Size([250, 2]), torch.Size([250, 9]))"
            ]
          },
          "metadata": {
            "tags": []
          },
          "execution_count": 18
        }
      ]
    },
    {
      "cell_type": "code",
      "metadata": {
        "id": "5_XeIUk0r0Tl"
      },
      "source": [
        "class Whatnet(nn.Module):\n",
        "    def __init__(self):\n",
        "        super(Whatnet,self).__init__()\n",
        "        self.linear1 = nn.Linear(2,50)\n",
        "        self.linear2 = nn.Linear(50,3)\n",
        "#         self.linear3 = nn.Linear(8,3)\n",
        "    def forward(self,x):\n",
        "        x = F.relu(self.linear1(x))\n",
        "        #x = F.relu(self.linear2(x))\n",
        "        x = self.linear2(x)\n",
        "        return x"
      ],
      "execution_count": 19,
      "outputs": []
    },
    {
      "cell_type": "code",
      "metadata": {
        "id": "l35i9bIlr0Tp"
      },
      "source": [
        "what = Whatnet().double()\n",
        "# what(out_where)"
      ],
      "execution_count": 20,
      "outputs": []
    },
    {
      "cell_type": "code",
      "metadata": {
        "id": "tMEoCLo1r0Tt"
      },
      "source": [
        "test_data_required = 1000\n",
        "mosaic_list_test =[]\n",
        "mosaic_label_test = []\n",
        "fore_idx_test=[]\n",
        "for j in range(test_data_required):\n",
        "    fg_class  = np.random.randint(0,3)\n",
        "    fg_idx = np.random.randint(0,9)\n",
        "    a = []\n",
        "    for i in range(9):\n",
        "        if i == fg_idx:\n",
        "            b = np.random.choice(np.where(idx[fg_class]==True)[0],size=1)\n",
        "            a.append(x[b])\n",
        "#             print(\"foreground \"+str(fg_class)+\" present at \" + str(fg_idx))\n",
        "        else:\n",
        "            bg_class = np.random.randint(3,10)\n",
        "            b = np.random.choice(np.where(idx[bg_class]==True)[0],size=1)\n",
        "            a.append(x[b])\n",
        "#             print(\"background \"+str(bg_class)+\" present at \" + str(i))\n",
        "    a = np.concatenate(a,axis=0)\n",
        "    mosaic_list_test.append(np.reshape(a,(18,1)))\n",
        "    mosaic_label_test.append(fg_class)\n",
        "    fore_idx_test.append(fg_idx)"
      ],
      "execution_count": 21,
      "outputs": []
    },
    {
      "cell_type": "code",
      "metadata": {
        "id": "2Naetxvbr0Tw",
        "outputId": "d393aae2-7092-4e2b-bb71-ce59cb7f257b",
        "colab": {
          "base_uri": "https://localhost:8080/"
        }
      },
      "source": [
        "mosaic_list_test = np.concatenate(mosaic_list_test,axis=1).T\n",
        "print(mosaic_list_test.shape)"
      ],
      "execution_count": 22,
      "outputs": [
        {
          "output_type": "stream",
          "text": [
            "(1000, 18)\n"
          ],
          "name": "stdout"
        }
      ]
    },
    {
      "cell_type": "code",
      "metadata": {
        "id": "Os4KxqrFr0Tz"
      },
      "source": [
        "test_data = MosaicDataset(mosaic_list_test,mosaic_label_test,fore_idx_test)\n",
        "test_loader = DataLoader( test_data,batch_size= batch ,shuffle=False)"
      ],
      "execution_count": 23,
      "outputs": []
    },
    {
      "cell_type": "code",
      "metadata": {
        "id": "pPQY-Wpcr0T2",
        "scrolled": true,
        "outputId": "c9a53eb2-89cb-42c9-a796-a5efe49705ac",
        "colab": {
          "base_uri": "https://localhost:8080/"
        }
      },
      "source": [
        "focus_true_pred_true =0\n",
        "focus_false_pred_true =0\n",
        "focus_true_pred_false =0\n",
        "focus_false_pred_false =0\n",
        "\n",
        "argmax_more_than_half = 0\n",
        "argmax_less_than_half =0\n",
        "\n",
        "col1=[]\n",
        "col2=[]\n",
        "col3=[]\n",
        "col4=[]\n",
        "col5=[]\n",
        "col6=[]\n",
        "col7=[]\n",
        "col8=[]\n",
        "col9=[]\n",
        "col10=[]\n",
        "col11=[]\n",
        "col12=[]\n",
        "col13=[]\n",
        "\n",
        "criterion = nn.CrossEntropyLoss()\n",
        "optimizer_where = optim.SGD(where.parameters(), lr=0.01, momentum=0.9)\n",
        "optimizer_what = optim.SGD(what.parameters(), lr=0.01, momentum=0.9)\n",
        "\n",
        "nos_epochs = 250\n",
        "\n",
        "train_loss=[]\n",
        "test_loss =[]\n",
        "train_acc = []\n",
        "test_acc = []\n",
        "loss_curi = []\n",
        "for epoch in range(nos_epochs):  # loop over the dataset multiple times\n",
        "\n",
        "    focus_true_pred_true =0\n",
        "    focus_false_pred_true =0\n",
        "    focus_true_pred_false =0\n",
        "    focus_false_pred_false =0\n",
        "\n",
        "    argmax_more_than_half = 0\n",
        "    argmax_less_than_half =0\n",
        "\n",
        "    running_loss = 0.0\n",
        "    cnt=0\n",
        "    ep_lossi = []\n",
        "    iteration = desired_num // batch\n",
        "\n",
        "    #training data set\n",
        "\n",
        "    for i, data in  enumerate(train_loader):\n",
        "        inputs , labels , fore_idx = data\n",
        "        #inputs,labels,fore_idx = inputs.to(device),labels.to(device),fore_idx.to(device)\n",
        "        # zero the parameter gradients\n",
        "\n",
        "        optimizer_what.zero_grad()\n",
        "        optimizer_where.zero_grad()\n",
        "        \n",
        "        \n",
        "        avg_inp,alphas = where(inputs)\n",
        "        \n",
        "        outputs = what(avg_inp)\n",
        "        \n",
        "        _, predicted = torch.max(outputs.data, 1)\n",
        "        \n",
        "        loss = criterion(outputs, labels) \n",
        "        loss.backward() \n",
        "        \n",
        "        optimizer_what.step()\n",
        "        optimizer_where.step() \n",
        "        \n",
        "\n",
        "        running_loss += loss.item()\n",
        "        if cnt % 6 == 5:    # print every 6 mini-batches\n",
        "            print('[%d, %5d] loss: %.3f' %(epoch + 1, cnt + 1, running_loss / 6))\n",
        "            ep_lossi.append(running_loss/6)\n",
        "            running_loss = 0.0\n",
        "        cnt=cnt+1\n",
        "        \n",
        "    \n",
        "        if epoch % 1 == 0:\n",
        "            for j in range (batch):\n",
        "                focus = torch.argmax(alphas[j])\n",
        "\n",
        "                if(alphas[j][focus] >= 0.5):\n",
        "                    argmax_more_than_half +=1\n",
        "                else:\n",
        "                    argmax_less_than_half +=1\n",
        "\n",
        "                if(focus == fore_idx[j] and predicted[j] == labels[j]):\n",
        "                    focus_true_pred_true += 1\n",
        "\n",
        "                elif(focus != fore_idx[j] and predicted[j] == labels[j]):\n",
        "                    focus_false_pred_true +=1\n",
        "\n",
        "                elif(focus == fore_idx[j] and predicted[j] != labels[j]):\n",
        "                    focus_true_pred_false +=1\n",
        "\n",
        "                elif(focus != fore_idx[j] and predicted[j] != labels[j]):\n",
        "                    focus_false_pred_false +=1\n",
        "\n",
        "    loss_curi.append(np.mean(ep_lossi))   #loss per epoch\n",
        "    if (np.mean(ep_lossi) <= 0.01):\n",
        "      break\n",
        "    \n",
        "    if epoch % 1 == 0:\n",
        "        col1.append(epoch)\n",
        "        col2.append(argmax_more_than_half)\n",
        "        col3.append(argmax_less_than_half)\n",
        "        col4.append(focus_true_pred_true)\n",
        "        col5.append(focus_false_pred_true)\n",
        "        col6.append(focus_true_pred_false)\n",
        "        col7.append(focus_false_pred_false)\n",
        "\n",
        "    #************************************************************************\n",
        "        #testing data set  \n",
        "        with torch.no_grad():\n",
        "            focus_true_pred_true =0\n",
        "            focus_false_pred_true =0\n",
        "            focus_true_pred_false =0\n",
        "            focus_false_pred_false =0\n",
        "\n",
        "            argmax_more_than_half = 0\n",
        "            argmax_less_than_half =0\n",
        "            for data in test_loader:\n",
        "                inputs, labels , fore_idx = data\n",
        "                #inputs,labels,fore_idx = inputs.to(device),labels.to(device),fore_idx.to(device) \n",
        "#                 print(inputs.shtorch.save(where.state_dict(),\"model_epoch\"+str(epoch)+\".pt\")ape,labels.shape)\n",
        "                avg_inp,alphas = where(inputs)\n",
        "                outputs = what(avg_inp)\n",
        "                _, predicted = torch.max(outputs.data, 1)\n",
        "\n",
        "                for j in range (batch):\n",
        "                    focus = torch.argmax(alphas[j])\n",
        "\n",
        "                    if(alphas[j][focus] >= 0.5):\n",
        "                        argmax_more_than_half +=1\n",
        "                    else:\n",
        "                        argmax_less_than_half +=1\n",
        "\n",
        "                    if(focus == fore_idx[j] and predicted[j] == labels[j]):\n",
        "                        focus_true_pred_true += 1\n",
        "\n",
        "                    elif(focus != fore_idx[j] and predicted[j] == labels[j]):\n",
        "                        focus_false_pred_true +=1\n",
        "\n",
        "                    elif(focus == fore_idx[j] and predicted[j] != labels[j]):\n",
        "                        focus_true_pred_false +=1\n",
        "\n",
        "                    elif(focus != fore_idx[j] and predicted[j] != labels[j]):\n",
        "                        focus_false_pred_false +=1\n",
        "\n",
        "        col8.append(argmax_more_than_half)\n",
        "        col9.append(argmax_less_than_half)\n",
        "        col10.append(focus_true_pred_true)\n",
        "        col11.append(focus_false_pred_true)\n",
        "        col12.append(focus_true_pred_false)\n",
        "        col13.append(focus_false_pred_false)\n",
        "        torch.save(where.state_dict(),\"where_model_epoch\"+str(epoch)+\".pt\")\n",
        "        torch.save(what.state_dict(),\"what_model_epoch\"+str(epoch)+\".pt\")\n",
        "    \n",
        "print('Finished Training')\n",
        "# torch.save(where.state_dict(),\"where_model_epoch\"+str(nos_epochs)+\".pt\")\n",
        "# torch.save(what.state_dict(),\"what_model_epoch\"+str(epoch)+\".pt\")\n"
      ],
      "execution_count": 24,
      "outputs": [
        {
          "output_type": "stream",
          "text": [
            "[1,     6] loss: 1.096\n",
            "[1,    12] loss: 1.106\n",
            "[2,     6] loss: 1.109\n",
            "[2,    12] loss: 1.126\n",
            "[3,     6] loss: 1.110\n",
            "[3,    12] loss: 1.155\n",
            "[4,     6] loss: 1.130\n",
            "[4,    12] loss: 1.108\n",
            "[5,     6] loss: 1.111\n",
            "[5,    12] loss: 1.112\n",
            "[6,     6] loss: 1.094\n",
            "[6,    12] loss: 1.090\n",
            "[7,     6] loss: 1.107\n",
            "[7,    12] loss: 1.111\n",
            "[8,     6] loss: 1.109\n",
            "[8,    12] loss: 1.087\n",
            "[9,     6] loss: 1.081\n",
            "[9,    12] loss: 1.087\n",
            "[10,     6] loss: 1.099\n",
            "[10,    12] loss: 1.093\n",
            "[11,     6] loss: 1.086\n",
            "[11,    12] loss: 1.089\n",
            "[12,     6] loss: 1.081\n",
            "[12,    12] loss: 1.093\n",
            "[13,     6] loss: 1.088\n",
            "[13,    12] loss: 1.072\n",
            "[14,     6] loss: 1.072\n",
            "[14,    12] loss: 1.084\n",
            "[15,     6] loss: 1.076\n",
            "[15,    12] loss: 1.078\n",
            "[16,     6] loss: 1.083\n",
            "[16,    12] loss: 1.120\n",
            "[17,     6] loss: 1.122\n",
            "[17,    12] loss: 1.103\n",
            "[18,     6] loss: 1.097\n",
            "[18,    12] loss: 1.091\n",
            "[19,     6] loss: 1.062\n",
            "[19,    12] loss: 1.066\n",
            "[20,     6] loss: 1.071\n",
            "[20,    12] loss: 1.070\n",
            "[21,     6] loss: 1.060\n",
            "[21,    12] loss: 1.058\n",
            "[22,     6] loss: 1.054\n",
            "[22,    12] loss: 1.062\n",
            "[23,     6] loss: 1.041\n",
            "[23,    12] loss: 1.042\n",
            "[24,     6] loss: 1.016\n",
            "[24,    12] loss: 1.010\n",
            "[25,     6] loss: 1.000\n",
            "[25,    12] loss: 1.010\n",
            "[26,     6] loss: 0.973\n",
            "[26,    12] loss: 0.989\n",
            "[27,     6] loss: 0.949\n",
            "[27,    12] loss: 0.941\n",
            "[28,     6] loss: 0.918\n",
            "[28,    12] loss: 0.907\n",
            "[29,     6] loss: 0.892\n",
            "[29,    12] loss: 0.872\n",
            "[30,     6] loss: 0.849\n",
            "[30,    12] loss: 0.836\n",
            "[31,     6] loss: 0.812\n",
            "[31,    12] loss: 0.824\n",
            "[32,     6] loss: 0.807\n",
            "[32,    12] loss: 0.800\n",
            "[33,     6] loss: 0.776\n",
            "[33,    12] loss: 0.768\n",
            "[34,     6] loss: 0.756\n",
            "[34,    12] loss: 0.754\n",
            "[35,     6] loss: 0.740\n",
            "[35,    12] loss: 0.735\n",
            "[36,     6] loss: 0.720\n",
            "[36,    12] loss: 0.716\n",
            "[37,     6] loss: 0.691\n",
            "[37,    12] loss: 0.707\n",
            "[38,     6] loss: 0.706\n",
            "[38,    12] loss: 0.685\n",
            "[39,     6] loss: 0.652\n",
            "[39,    12] loss: 0.625\n",
            "[40,     6] loss: 0.630\n",
            "[40,    12] loss: 0.644\n",
            "[41,     6] loss: 0.579\n",
            "[41,    12] loss: 0.600\n",
            "[42,     6] loss: 0.727\n",
            "[42,    12] loss: 0.677\n",
            "[43,     6] loss: 0.585\n",
            "[43,    12] loss: 0.625\n",
            "[44,     6] loss: 0.645\n",
            "[44,    12] loss: 0.580\n",
            "[45,     6] loss: 0.779\n",
            "[45,    12] loss: 0.987\n",
            "[46,     6] loss: 0.869\n",
            "[46,    12] loss: 0.919\n",
            "[47,     6] loss: 0.724\n",
            "[47,    12] loss: 0.548\n",
            "[48,     6] loss: 0.506\n",
            "[48,    12] loss: 0.554\n",
            "[49,     6] loss: 0.669\n",
            "[49,    12] loss: 0.517\n",
            "[50,     6] loss: 0.463\n",
            "[50,    12] loss: 0.445\n",
            "[51,     6] loss: 0.435\n",
            "[51,    12] loss: 0.418\n",
            "[52,     6] loss: 0.440\n",
            "[52,    12] loss: 0.517\n",
            "[53,     6] loss: 1.473\n",
            "[53,    12] loss: 1.222\n",
            "[54,     6] loss: 0.806\n",
            "[54,    12] loss: 0.792\n",
            "[55,     6] loss: 0.751\n",
            "[55,    12] loss: 0.622\n",
            "[56,     6] loss: 0.417\n",
            "[56,    12] loss: 0.362\n",
            "[57,     6] loss: 0.368\n",
            "[57,    12] loss: 0.316\n",
            "[58,     6] loss: 0.297\n",
            "[58,    12] loss: 0.283\n",
            "[59,     6] loss: 0.284\n",
            "[59,    12] loss: 0.255\n",
            "[60,     6] loss: 0.246\n",
            "[60,    12] loss: 0.232\n",
            "[61,     6] loss: 0.228\n",
            "[61,    12] loss: 0.225\n",
            "[62,     6] loss: 0.211\n",
            "[62,    12] loss: 0.194\n",
            "[63,     6] loss: 0.188\n",
            "[63,    12] loss: 0.180\n",
            "[64,     6] loss: 0.172\n",
            "[64,    12] loss: 0.173\n",
            "[65,     6] loss: 0.172\n",
            "[65,    12] loss: 0.154\n",
            "[66,     6] loss: 0.174\n",
            "[66,    12] loss: 0.170\n",
            "[67,     6] loss: 0.213\n",
            "[67,    12] loss: 0.160\n",
            "[68,     6] loss: 0.144\n",
            "[68,    12] loss: 0.155\n",
            "[69,     6] loss: 0.129\n",
            "[69,    12] loss: 0.128\n",
            "[70,     6] loss: 0.112\n",
            "[70,    12] loss: 0.116\n",
            "[71,     6] loss: 0.111\n",
            "[71,    12] loss: 0.097\n",
            "[72,     6] loss: 0.210\n",
            "[72,    12] loss: 1.357\n",
            "[73,     6] loss: 0.955\n",
            "[73,    12] loss: 0.430\n",
            "[74,     6] loss: 0.226\n",
            "[74,    12] loss: 0.210\n",
            "[75,     6] loss: 0.171\n",
            "[75,    12] loss: 0.124\n",
            "[76,     6] loss: 0.132\n",
            "[76,    12] loss: 0.159\n",
            "[77,     6] loss: 0.174\n",
            "[77,    12] loss: 0.123\n",
            "[78,     6] loss: 0.104\n",
            "[78,    12] loss: 0.094\n",
            "[79,     6] loss: 0.090\n",
            "[79,    12] loss: 0.079\n",
            "[80,     6] loss: 0.071\n",
            "[80,    12] loss: 0.069\n",
            "[81,     6] loss: 0.064\n",
            "[81,    12] loss: 0.065\n",
            "[82,     6] loss: 0.061\n",
            "[82,    12] loss: 0.061\n",
            "[83,     6] loss: 0.056\n",
            "[83,    12] loss: 0.059\n",
            "[84,     6] loss: 0.058\n",
            "[84,    12] loss: 0.052\n",
            "[85,     6] loss: 0.053\n",
            "[85,    12] loss: 0.053\n",
            "[86,     6] loss: 0.061\n",
            "[86,    12] loss: 0.058\n",
            "[87,     6] loss: 0.060\n",
            "[87,    12] loss: 0.063\n",
            "[88,     6] loss: 0.058\n",
            "[88,    12] loss: 0.052\n",
            "[89,     6] loss: 0.048\n",
            "[89,    12] loss: 0.044\n",
            "[90,     6] loss: 0.043\n",
            "[90,    12] loss: 0.044\n",
            "[91,     6] loss: 0.042\n",
            "[91,    12] loss: 0.042\n",
            "[92,     6] loss: 0.040\n",
            "[92,    12] loss: 0.041\n",
            "[93,     6] loss: 0.038\n",
            "[93,    12] loss: 0.040\n",
            "[94,     6] loss: 0.038\n",
            "[94,    12] loss: 0.037\n",
            "[95,     6] loss: 0.037\n",
            "[95,    12] loss: 0.037\n",
            "[96,     6] loss: 0.036\n",
            "[96,    12] loss: 0.036\n",
            "[97,     6] loss: 0.036\n",
            "[97,    12] loss: 0.036\n",
            "[98,     6] loss: 0.032\n",
            "[98,    12] loss: 0.033\n",
            "[99,     6] loss: 0.033\n",
            "[99,    12] loss: 0.030\n",
            "[100,     6] loss: 0.030\n",
            "[100,    12] loss: 0.030\n",
            "[101,     6] loss: 0.031\n",
            "[101,    12] loss: 0.029\n",
            "[102,     6] loss: 0.030\n",
            "[102,    12] loss: 0.027\n",
            "[103,     6] loss: 0.028\n",
            "[103,    12] loss: 0.029\n",
            "[104,     6] loss: 0.028\n",
            "[104,    12] loss: 0.028\n",
            "[105,     6] loss: 0.026\n",
            "[105,    12] loss: 0.028\n",
            "[106,     6] loss: 0.025\n",
            "[106,    12] loss: 0.027\n",
            "[107,     6] loss: 0.025\n",
            "[107,    12] loss: 0.026\n",
            "[108,     6] loss: 0.026\n",
            "[108,    12] loss: 0.024\n",
            "[109,     6] loss: 0.025\n",
            "[109,    12] loss: 0.024\n",
            "[110,     6] loss: 0.024\n",
            "[110,    12] loss: 0.023\n",
            "[111,     6] loss: 0.023\n",
            "[111,    12] loss: 0.022\n",
            "[112,     6] loss: 0.024\n",
            "[112,    12] loss: 0.021\n",
            "[113,     6] loss: 0.023\n",
            "[113,    12] loss: 0.021\n",
            "[114,     6] loss: 0.022\n",
            "[114,    12] loss: 0.021\n",
            "[115,     6] loss: 0.021\n",
            "[115,    12] loss: 0.021\n",
            "[116,     6] loss: 0.020\n",
            "[116,    12] loss: 0.021\n",
            "[117,     6] loss: 0.021\n",
            "[117,    12] loss: 0.019\n",
            "[118,     6] loss: 0.018\n",
            "[118,    12] loss: 0.021\n",
            "[119,     6] loss: 0.019\n",
            "[119,    12] loss: 0.020\n",
            "[120,     6] loss: 0.018\n",
            "[120,    12] loss: 0.020\n",
            "[121,     6] loss: 0.020\n",
            "[121,    12] loss: 0.018\n",
            "[122,     6] loss: 0.020\n",
            "[122,    12] loss: 0.017\n",
            "[123,     6] loss: 0.017\n",
            "[123,    12] loss: 0.019\n",
            "[124,     6] loss: 0.019\n",
            "[124,    12] loss: 0.016\n",
            "[125,     6] loss: 0.017\n",
            "[125,    12] loss: 0.018\n",
            "[126,     6] loss: 0.018\n",
            "[126,    12] loss: 0.016\n",
            "[127,     6] loss: 0.017\n",
            "[127,    12] loss: 0.016\n",
            "[128,     6] loss: 0.016\n",
            "[128,    12] loss: 0.017\n",
            "[129,     6] loss: 0.016\n",
            "[129,    12] loss: 0.017\n",
            "[130,     6] loss: 0.016\n",
            "[130,    12] loss: 0.017\n",
            "[131,     6] loss: 0.015\n",
            "[131,    12] loss: 0.017\n",
            "[132,     6] loss: 0.015\n",
            "[132,    12] loss: 0.016\n",
            "[133,     6] loss: 0.015\n",
            "[133,    12] loss: 0.015\n",
            "[134,     6] loss: 0.015\n",
            "[134,    12] loss: 0.015\n",
            "[135,     6] loss: 0.015\n",
            "[135,    12] loss: 0.014\n",
            "[136,     6] loss: 0.015\n",
            "[136,    12] loss: 0.014\n",
            "[137,     6] loss: 0.015\n",
            "[137,    12] loss: 0.014\n",
            "[138,     6] loss: 0.014\n",
            "[138,    12] loss: 0.014\n",
            "[139,     6] loss: 0.015\n",
            "[139,    12] loss: 0.013\n",
            "[140,     6] loss: 0.014\n",
            "[140,    12] loss: 0.013\n",
            "[141,     6] loss: 0.013\n",
            "[141,    12] loss: 0.014\n",
            "[142,     6] loss: 0.013\n",
            "[142,    12] loss: 0.013\n",
            "[143,     6] loss: 0.013\n",
            "[143,    12] loss: 0.014\n",
            "[144,     6] loss: 0.013\n",
            "[144,    12] loss: 0.013\n",
            "[145,     6] loss: 0.013\n",
            "[145,    12] loss: 0.012\n",
            "[146,     6] loss: 0.012\n",
            "[146,    12] loss: 0.013\n",
            "[147,     6] loss: 0.013\n",
            "[147,    12] loss: 0.012\n",
            "[148,     6] loss: 0.012\n",
            "[148,    12] loss: 0.013\n",
            "[149,     6] loss: 0.013\n",
            "[149,    12] loss: 0.011\n",
            "[150,     6] loss: 0.012\n",
            "[150,    12] loss: 0.012\n",
            "[151,     6] loss: 0.012\n",
            "[151,    12] loss: 0.012\n",
            "[152,     6] loss: 0.011\n",
            "[152,    12] loss: 0.012\n",
            "[153,     6] loss: 0.010\n",
            "[153,    12] loss: 0.012\n",
            "[154,     6] loss: 0.012\n",
            "[154,    12] loss: 0.010\n",
            "[155,     6] loss: 0.011\n",
            "[155,    12] loss: 0.011\n",
            "[156,     6] loss: 0.011\n",
            "[156,    12] loss: 0.011\n",
            "[157,     6] loss: 0.011\n",
            "[157,    12] loss: 0.011\n",
            "[158,     6] loss: 0.011\n",
            "[158,    12] loss: 0.011\n",
            "[159,     6] loss: 0.010\n",
            "[159,    12] loss: 0.012\n",
            "[160,     6] loss: 0.011\n",
            "[160,    12] loss: 0.010\n",
            "[161,     6] loss: 0.011\n",
            "[161,    12] loss: 0.010\n",
            "[162,     6] loss: 0.010\n",
            "[162,    12] loss: 0.010\n",
            "[163,     6] loss: 0.011\n",
            "[163,    12] loss: 0.010\n",
            "[164,     6] loss: 0.009\n",
            "[164,    12] loss: 0.011\n",
            "Finished Training\n"
          ],
          "name": "stdout"
        }
      ]
    },
    {
      "cell_type": "code",
      "metadata": {
        "id": "UvP97PKnr0T5"
      },
      "source": [
        "columns = [\"epochs\", \"argmax > 0.5\" ,\"argmax < 0.5\", \"focus_true_pred_true\", \"focus_false_pred_true\", \"focus_true_pred_false\", \"focus_false_pred_false\" ]\n",
        "df_train = pd.DataFrame()\n",
        "df_test = pd.DataFrame()\n",
        "df_train[columns[0]] = col1\n",
        "df_train[columns[1]] = col2\n",
        "df_train[columns[2]] = col3\n",
        "df_train[columns[3]] = col4\n",
        "df_train[columns[4]] = col5\n",
        "df_train[columns[5]] = col6\n",
        "df_train[columns[6]] = col7\n",
        "\n",
        "df_test[columns[0]] = col1\n",
        "df_test[columns[1]] = col8\n",
        "df_test[columns[2]] = col9\n",
        "df_test[columns[3]] = col10\n",
        "df_test[columns[4]] = col11\n",
        "df_test[columns[5]] = col12\n",
        "df_test[columns[6]] = col13"
      ],
      "execution_count": 25,
      "outputs": []
    },
    {
      "cell_type": "code",
      "metadata": {
        "id": "0hAVV2I5r0T7",
        "scrolled": false,
        "outputId": "a1e28f8f-87f7-4aba-eed1-83f12ae203a0",
        "colab": {
          "base_uri": "https://localhost:8080/",
          "height": 424
        }
      },
      "source": [
        "df_train"
      ],
      "execution_count": 26,
      "outputs": [
        {
          "output_type": "execute_result",
          "data": {
            "text/html": [
              "<div>\n",
              "<style scoped>\n",
              "    .dataframe tbody tr th:only-of-type {\n",
              "        vertical-align: middle;\n",
              "    }\n",
              "\n",
              "    .dataframe tbody tr th {\n",
              "        vertical-align: top;\n",
              "    }\n",
              "\n",
              "    .dataframe thead th {\n",
              "        text-align: right;\n",
              "    }\n",
              "</style>\n",
              "<table border=\"1\" class=\"dataframe\">\n",
              "  <thead>\n",
              "    <tr style=\"text-align: right;\">\n",
              "      <th></th>\n",
              "      <th>epochs</th>\n",
              "      <th>argmax &gt; 0.5</th>\n",
              "      <th>argmax &lt; 0.5</th>\n",
              "      <th>focus_true_pred_true</th>\n",
              "      <th>focus_false_pred_true</th>\n",
              "      <th>focus_true_pred_false</th>\n",
              "      <th>focus_false_pred_false</th>\n",
              "    </tr>\n",
              "  </thead>\n",
              "  <tbody>\n",
              "    <tr>\n",
              "      <th>0</th>\n",
              "      <td>0</td>\n",
              "      <td>0</td>\n",
              "      <td>3000</td>\n",
              "      <td>16</td>\n",
              "      <td>1083</td>\n",
              "      <td>60</td>\n",
              "      <td>1841</td>\n",
              "    </tr>\n",
              "    <tr>\n",
              "      <th>1</th>\n",
              "      <td>1</td>\n",
              "      <td>0</td>\n",
              "      <td>3000</td>\n",
              "      <td>16</td>\n",
              "      <td>1030</td>\n",
              "      <td>62</td>\n",
              "      <td>1892</td>\n",
              "    </tr>\n",
              "    <tr>\n",
              "      <th>2</th>\n",
              "      <td>2</td>\n",
              "      <td>0</td>\n",
              "      <td>3000</td>\n",
              "      <td>17</td>\n",
              "      <td>1042</td>\n",
              "      <td>42</td>\n",
              "      <td>1899</td>\n",
              "    </tr>\n",
              "    <tr>\n",
              "      <th>3</th>\n",
              "      <td>3</td>\n",
              "      <td>0</td>\n",
              "      <td>3000</td>\n",
              "      <td>14</td>\n",
              "      <td>1091</td>\n",
              "      <td>15</td>\n",
              "      <td>1880</td>\n",
              "    </tr>\n",
              "    <tr>\n",
              "      <th>4</th>\n",
              "      <td>4</td>\n",
              "      <td>0</td>\n",
              "      <td>3000</td>\n",
              "      <td>10</td>\n",
              "      <td>1076</td>\n",
              "      <td>26</td>\n",
              "      <td>1888</td>\n",
              "    </tr>\n",
              "    <tr>\n",
              "      <th>...</th>\n",
              "      <td>...</td>\n",
              "      <td>...</td>\n",
              "      <td>...</td>\n",
              "      <td>...</td>\n",
              "      <td>...</td>\n",
              "      <td>...</td>\n",
              "      <td>...</td>\n",
              "    </tr>\n",
              "    <tr>\n",
              "      <th>158</th>\n",
              "      <td>158</td>\n",
              "      <td>2085</td>\n",
              "      <td>915</td>\n",
              "      <td>2076</td>\n",
              "      <td>923</td>\n",
              "      <td>0</td>\n",
              "      <td>1</td>\n",
              "    </tr>\n",
              "    <tr>\n",
              "      <th>159</th>\n",
              "      <td>159</td>\n",
              "      <td>2103</td>\n",
              "      <td>897</td>\n",
              "      <td>2076</td>\n",
              "      <td>923</td>\n",
              "      <td>0</td>\n",
              "      <td>1</td>\n",
              "    </tr>\n",
              "    <tr>\n",
              "      <th>160</th>\n",
              "      <td>160</td>\n",
              "      <td>2079</td>\n",
              "      <td>921</td>\n",
              "      <td>2076</td>\n",
              "      <td>923</td>\n",
              "      <td>0</td>\n",
              "      <td>1</td>\n",
              "    </tr>\n",
              "    <tr>\n",
              "      <th>161</th>\n",
              "      <td>161</td>\n",
              "      <td>2087</td>\n",
              "      <td>913</td>\n",
              "      <td>2076</td>\n",
              "      <td>923</td>\n",
              "      <td>0</td>\n",
              "      <td>1</td>\n",
              "    </tr>\n",
              "    <tr>\n",
              "      <th>162</th>\n",
              "      <td>162</td>\n",
              "      <td>2091</td>\n",
              "      <td>909</td>\n",
              "      <td>2076</td>\n",
              "      <td>923</td>\n",
              "      <td>0</td>\n",
              "      <td>1</td>\n",
              "    </tr>\n",
              "  </tbody>\n",
              "</table>\n",
              "<p>163 rows × 7 columns</p>\n",
              "</div>"
            ],
            "text/plain": [
              "     epochs  argmax > 0.5  ...  focus_true_pred_false  focus_false_pred_false\n",
              "0         0             0  ...                     60                    1841\n",
              "1         1             0  ...                     62                    1892\n",
              "2         2             0  ...                     42                    1899\n",
              "3         3             0  ...                     15                    1880\n",
              "4         4             0  ...                     26                    1888\n",
              "..      ...           ...  ...                    ...                     ...\n",
              "158     158          2085  ...                      0                       1\n",
              "159     159          2103  ...                      0                       1\n",
              "160     160          2079  ...                      0                       1\n",
              "161     161          2087  ...                      0                       1\n",
              "162     162          2091  ...                      0                       1\n",
              "\n",
              "[163 rows x 7 columns]"
            ]
          },
          "metadata": {
            "tags": []
          },
          "execution_count": 26
        }
      ]
    },
    {
      "cell_type": "code",
      "metadata": {
        "id": "s-ZXousDr0T-",
        "outputId": "f0251192-05a4-4acf-894d-c27e0f666d81",
        "colab": {
          "base_uri": "https://localhost:8080/",
          "height": 573
        }
      },
      "source": [
        "plt.plot(col1,col2, label='argmax > 0.5')\n",
        "plt.plot(col1,col3, label='argmax < 0.5')\n",
        "\n",
        "plt.legend(loc='center left', bbox_to_anchor=(1, 0.5))\n",
        "plt.xlabel(\"epochs\")\n",
        "plt.ylabel(\"training data\")\n",
        "plt.title(\"On Training set\")\n",
        "plt.show()\n",
        "\n",
        "plt.plot(col1,col4, label =\"focus_true_pred_true \")\n",
        "plt.plot(col1,col5, label =\"focus_false_pred_true \")\n",
        "plt.plot(col1,col6, label =\"focus_true_pred_false \")\n",
        "plt.plot(col1,col7, label =\"focus_false_pred_false \")\n",
        "plt.title(\"On Training set\")\n",
        "plt.legend(loc='center left', bbox_to_anchor=(1, 0.5))\n",
        "plt.xlabel(\"epochs\")\n",
        "plt.ylabel(\"training data\")\n",
        "plt.show()"
      ],
      "execution_count": 27,
      "outputs": [
        {
          "output_type": "display_data",
          "data": {
            "image/png": "[encoded data removed]",
            "text/plain": [
              "<Figure size 432x288 with 1 Axes>"
            ]
          },
          "metadata": {
            "tags": [],
            "needs_background": "light"
          }
        },
        {
          "output_type": "display_data",
          "data": {
            "image/png": "[encoded data removed]",
            "text/plain": [
              "<Figure size 432x288 with 1 Axes>"
            ]
          },
          "metadata": {
            "tags": [],
            "needs_background": "light"
          }
        }
      ]
    },
    {
      "cell_type": "code",
      "metadata": {
        "id": "LQip8h8jr0UA",
        "scrolled": true,
        "outputId": "98e00dac-5f3e-4c08-95fc-b6c4df0526dd",
        "colab": {
          "base_uri": "https://localhost:8080/",
          "height": 424
        }
      },
      "source": [
        "df_test"
      ],
      "execution_count": 28,
      "outputs": [
        {
          "output_type": "execute_result",
          "data": {
            "text/html": [
              "<div>\n",
              "<style scoped>\n",
              "    .dataframe tbody tr th:only-of-type {\n",
              "        vertical-align: middle;\n",
              "    }\n",
              "\n",
              "    .dataframe tbody tr th {\n",
              "        vertical-align: top;\n",
              "    }\n",
              "\n",
              "    .dataframe thead th {\n",
              "        text-align: right;\n",
              "    }\n",
              "</style>\n",
              "<table border=\"1\" class=\"dataframe\">\n",
              "  <thead>\n",
              "    <tr style=\"text-align: right;\">\n",
              "      <th></th>\n",
              "      <th>epochs</th>\n",
              "      <th>argmax &gt; 0.5</th>\n",
              "      <th>argmax &lt; 0.5</th>\n",
              "      <th>focus_true_pred_true</th>\n",
              "      <th>focus_false_pred_true</th>\n",
              "      <th>focus_true_pred_false</th>\n",
              "      <th>focus_false_pred_false</th>\n",
              "    </tr>\n",
              "  </thead>\n",
              "  <tbody>\n",
              "    <tr>\n",
              "      <th>0</th>\n",
              "      <td>0</td>\n",
              "      <td>0</td>\n",
              "      <td>1000</td>\n",
              "      <td>12</td>\n",
              "      <td>343</td>\n",
              "      <td>12</td>\n",
              "      <td>633</td>\n",
              "    </tr>\n",
              "    <tr>\n",
              "      <th>1</th>\n",
              "      <td>1</td>\n",
              "      <td>0</td>\n",
              "      <td>1000</td>\n",
              "      <td>0</td>\n",
              "      <td>355</td>\n",
              "      <td>20</td>\n",
              "      <td>625</td>\n",
              "    </tr>\n",
              "    <tr>\n",
              "      <th>2</th>\n",
              "      <td>2</td>\n",
              "      <td>0</td>\n",
              "      <td>1000</td>\n",
              "      <td>0</td>\n",
              "      <td>372</td>\n",
              "      <td>5</td>\n",
              "      <td>623</td>\n",
              "    </tr>\n",
              "    <tr>\n",
              "      <th>3</th>\n",
              "      <td>3</td>\n",
              "      <td>0</td>\n",
              "      <td>1000</td>\n",
              "      <td>2</td>\n",
              "      <td>367</td>\n",
              "      <td>2</td>\n",
              "      <td>629</td>\n",
              "    </tr>\n",
              "    <tr>\n",
              "      <th>4</th>\n",
              "      <td>4</td>\n",
              "      <td>0</td>\n",
              "      <td>1000</td>\n",
              "      <td>2</td>\n",
              "      <td>363</td>\n",
              "      <td>2</td>\n",
              "      <td>633</td>\n",
              "    </tr>\n",
              "    <tr>\n",
              "      <th>...</th>\n",
              "      <td>...</td>\n",
              "      <td>...</td>\n",
              "      <td>...</td>\n",
              "      <td>...</td>\n",
              "      <td>...</td>\n",
              "      <td>...</td>\n",
              "      <td>...</td>\n",
              "    </tr>\n",
              "    <tr>\n",
              "      <th>158</th>\n",
              "      <td>158</td>\n",
              "      <td>686</td>\n",
              "      <td>314</td>\n",
              "      <td>686</td>\n",
              "      <td>313</td>\n",
              "      <td>0</td>\n",
              "      <td>1</td>\n",
              "    </tr>\n",
              "    <tr>\n",
              "      <th>159</th>\n",
              "      <td>159</td>\n",
              "      <td>684</td>\n",
              "      <td>316</td>\n",
              "      <td>686</td>\n",
              "      <td>313</td>\n",
              "      <td>0</td>\n",
              "      <td>1</td>\n",
              "    </tr>\n",
              "    <tr>\n",
              "      <th>160</th>\n",
              "      <td>160</td>\n",
              "      <td>682</td>\n",
              "      <td>318</td>\n",
              "      <td>686</td>\n",
              "      <td>314</td>\n",
              "      <td>0</td>\n",
              "      <td>0</td>\n",
              "    </tr>\n",
              "    <tr>\n",
              "      <th>161</th>\n",
              "      <td>161</td>\n",
              "      <td>686</td>\n",
              "      <td>314</td>\n",
              "      <td>686</td>\n",
              "      <td>313</td>\n",
              "      <td>0</td>\n",
              "      <td>1</td>\n",
              "    </tr>\n",
              "    <tr>\n",
              "      <th>162</th>\n",
              "      <td>162</td>\n",
              "      <td>684</td>\n",
              "      <td>316</td>\n",
              "      <td>686</td>\n",
              "      <td>313</td>\n",
              "      <td>0</td>\n",
              "      <td>1</td>\n",
              "    </tr>\n",
              "  </tbody>\n",
              "</table>\n",
              "<p>163 rows × 7 columns</p>\n",
              "</div>"
            ],
            "text/plain": [
              "     epochs  argmax > 0.5  ...  focus_true_pred_false  focus_false_pred_false\n",
              "0         0             0  ...                     12                     633\n",
              "1         1             0  ...                     20                     625\n",
              "2         2             0  ...                      5                     623\n",
              "3         3             0  ...                      2                     629\n",
              "4         4             0  ...                      2                     633\n",
              "..      ...           ...  ...                    ...                     ...\n",
              "158     158           686  ...                      0                       1\n",
              "159     159           684  ...                      0                       1\n",
              "160     160           682  ...                      0                       0\n",
              "161     161           686  ...                      0                       1\n",
              "162     162           684  ...                      0                       1\n",
              "\n",
              "[163 rows x 7 columns]"
            ]
          },
          "metadata": {
            "tags": []
          },
          "execution_count": 28
        }
      ]
    },
    {
      "cell_type": "code",
      "metadata": {
        "id": "oCJcmk19r0UD",
        "outputId": "0d0f8692-5166-42a3-b572-8a37550495b7",
        "colab": {
          "base_uri": "https://localhost:8080/",
          "height": 573
        }
      },
      "source": [
        "plt.plot(col1,col8, label='argmax > 0.5')\n",
        "plt.plot(col1,col9, label='argmax < 0.5')\n",
        "\n",
        "plt.legend(loc='center left', bbox_to_anchor=(1, 0.5))\n",
        "plt.xlabel(\"epochs\")\n",
        "plt.ylabel(\"Testing data\")\n",
        "plt.title(\"On Testing set\")\n",
        "plt.show()\n",
        "\n",
        "plt.plot(col1,col10, label =\"focus_true_pred_true \")\n",
        "plt.plot(col1,col11, label =\"focus_false_pred_true \")\n",
        "plt.plot(col1,col12, label =\"focus_true_pred_false \")\n",
        "plt.plot(col1,col13, label =\"focus_false_pred_false \")\n",
        "plt.title(\"On Testing set\")\n",
        "plt.legend(loc='center left', bbox_to_anchor=(1, 0.5))\n",
        "plt.xlabel(\"epochs\")\n",
        "plt.ylabel(\"Testing data\")\n",
        "plt.show()"
      ],
      "execution_count": 29,
      "outputs": [
        {
          "output_type": "display_data",
          "data": {
            "image/png": "[encoded data removed]",
            "text/plain": [
              "<Figure size 432x288 with 1 Axes>"
            ]
          },
          "metadata": {
            "tags": [],
            "needs_background": "light"
          }
        },
        {
          "output_type": "display_data",
          "data": {
            "image/png": "[encoded data removed]",
            "text/plain": [
              "<Figure size 432x288 with 1 Axes>"
            ]
          },
          "metadata": {
            "tags": [],
            "needs_background": "light"
          }
        }
      ]
    },
    {
      "cell_type": "code",
      "metadata": {
        "id": "GJusn9Dsr0UF",
        "outputId": "9823310f-483e-4f3c-a4e7-ef52e77489c7",
        "colab": {
          "base_uri": "https://localhost:8080/"
        }
      },
      "source": [
        "print(x[0])"
      ],
      "execution_count": 30,
      "outputs": [
        {
          "output_type": "stream",
          "text": [
            "[4.37668763 4.55057721]\n"
          ],
          "name": "stdout"
        }
      ]
    },
    {
      "cell_type": "code",
      "metadata": {
        "id": "KmTzai-gr0UH",
        "outputId": "dd29a078-520a-4805-d85a-aed0fdce5bd0",
        "colab": {
          "base_uri": "https://localhost:8080/"
        }
      },
      "source": [
        "for i in range(9):\n",
        "    print(x[0,2*i:2*i+2])"
      ],
      "execution_count": 31,
      "outputs": [
        {
          "output_type": "stream",
          "text": [
            "[4.37668763 4.55057721]\n",
            "[]\n",
            "[]\n",
            "[]\n",
            "[]\n",
            "[]\n",
            "[]\n",
            "[]\n",
            "[]\n"
          ],
          "name": "stdout"
        }
      ]
    },
    {
      "cell_type": "code",
      "metadata": {
        "id": "YH_sdpkhr0UK",
        "outputId": "0f42a4a4-63cd-4e6d-c0cf-5a6f25c81632",
        "colab": {
          "base_uri": "https://localhost:8080/"
        }
      },
      "source": [
        "correct = 0\n",
        "total = 0\n",
        "count = 0\n",
        "flag = 1\n",
        "focus_true_pred_true =0\n",
        "focus_false_pred_true =0\n",
        "focus_true_pred_false =0\n",
        "focus_false_pred_false =0\n",
        "\n",
        "argmax_more_than_half = 0\n",
        "argmax_less_than_half =0\n",
        "\n",
        "with torch.no_grad():\n",
        "  for data in train_loader:\n",
        "    inputs , labels , fore_idx = data\n",
        "    #inputs,labels,fore_idx = inputs.to(device),labels.to(device),fore_idx.to(device)\n",
        "    # zero the parameter gradients\n",
        "\n",
        "    optimizer_what.zero_grad()\n",
        "    optimizer_where.zero_grad()\n",
        "    \n",
        "    \n",
        "    avg_inp,alphas = where(inputs)\n",
        "    \n",
        "    outputs = what(avg_inp)\n",
        "    \n",
        "    _, predicted = torch.max(outputs.data, 1)\n",
        "\n",
        "\n",
        "    for j in range(labels.size(0)):\n",
        "      count += 1\n",
        "      focus = torch.argmax(alphas[j])\n",
        "      if alphas[j][focus] >= 0.5 :\n",
        "        argmax_more_than_half += 1\n",
        "      else:\n",
        "        argmax_less_than_half += 1\n",
        "\n",
        "      if(focus == fore_idx[j] and predicted[j] == labels[j]):\n",
        "          focus_true_pred_true += 1\n",
        "      elif(focus != fore_idx[j] and predicted[j] == labels[j]):\n",
        "        focus_false_pred_true += 1\n",
        "      elif(focus == fore_idx[j] and predicted[j] != labels[j]):\n",
        "        focus_true_pred_false += 1\n",
        "      elif(focus != fore_idx[j] and predicted[j] != labels[j]):\n",
        "        focus_false_pred_false += 1\n",
        "\n",
        "    total += labels.size(0)\n",
        "    correct += (predicted == labels).sum().item()\n",
        "\n",
        "print('Accuracy of the network on the 3000 train images: %d %%' % ( 100 * correct / total))\n",
        "print(\"total correct\", correct)\n",
        "print(\"total train set images\", total)\n",
        "\n",
        "print(\"focus_true_pred_true %d =============> FTPT : %d %%\" % (focus_true_pred_true , (100 * focus_true_pred_true / total) ) )\n",
        "print(\"focus_false_pred_true %d =============> FFPT : %d %%\" % (focus_false_pred_true, (100 * focus_false_pred_true / total) ) )\n",
        "print(\"focus_true_pred_false %d =============> FTPF : %d %%\" %( focus_true_pred_false , ( 100 * focus_true_pred_false / total) ) )\n",
        "print(\"focus_false_pred_false %d =============> FFPF : %d %%\" % (focus_false_pred_false, ( 100 * focus_false_pred_false / total) ) )\n",
        "\n",
        "print(\"argmax_more_than_half ==================> \",argmax_more_than_half)\n",
        "print(\"argmax_less_than_half ==================> \",argmax_less_than_half)\n",
        "print(count)\n",
        "\n",
        "print(\"=\"*100)"
      ],
      "execution_count": 35,
      "outputs": [
        {
          "output_type": "stream",
          "text": [
            "Accuracy of the network on the 3000 train images: 99 %\n",
            "total correct 2999\n",
            "total train set images 3000\n",
            "focus_true_pred_true 2076 =============> FTPT : 69 %\n",
            "focus_false_pred_true 923 =============> FFPT : 30 %\n",
            "focus_true_pred_false 0 =============> FTPF : 0 %\n",
            "focus_false_pred_false 1 =============> FFPF : 0 %\n",
            "argmax_more_than_half ==================>  2095\n",
            "argmax_less_than_half ==================>  905\n",
            "3000\n",
            "====================================================================================================\n"
          ],
          "name": "stdout"
        }
      ]
    },
    {
      "cell_type": "code",
      "metadata": {
        "id": "xmzdKb85D1ZS",
        "outputId": "75227937-3b1d-46dd-c9a8-e4d94bb4208e",
        "colab": {
          "base_uri": "https://localhost:8080/"
        }
      },
      "source": [
        "correct = 0\n",
        "total = 0\n",
        "count = 0\n",
        "flag = 1\n",
        "focus_true_pred_true =0\n",
        "focus_false_pred_true =0\n",
        "focus_true_pred_false =0\n",
        "focus_false_pred_false =0\n",
        "\n",
        "argmax_more_than_half = 0\n",
        "argmax_less_than_half =0\n",
        "\n",
        "with torch.no_grad():\n",
        "  for data in test_loader:\n",
        "    inputs , labels , fore_idx = data\n",
        "    #inputs,labels,fore_idx = inputs.to(device),labels.to(device),fore_idx.to(device)\n",
        "    # zero the parameter gradients\n",
        "\n",
        "    optimizer_what.zero_grad()\n",
        "    optimizer_where.zero_grad()\n",
        "    \n",
        "    \n",
        "    avg_inp,alphas = where(inputs)\n",
        "    \n",
        "    outputs = what(avg_inp)\n",
        "    \n",
        "    _, predicted = torch.max(outputs.data, 1)\n",
        "\n",
        "    for j in range(labels.size(0)):\n",
        "      focus = torch.argmax(alphas[j])\n",
        "      if alphas[j][focus] >= 0.5 :\n",
        "        argmax_more_than_half += 1\n",
        "      else:\n",
        "        argmax_less_than_half += 1\n",
        "\n",
        "      if(focus == fore_idx[j] and predicted[j] == labels[j]):\n",
        "          focus_true_pred_true += 1\n",
        "      elif(focus != fore_idx[j] and predicted[j] == labels[j]):\n",
        "        focus_false_pred_true += 1\n",
        "      elif(focus == fore_idx[j] and predicted[j] != labels[j]):\n",
        "        focus_true_pred_false += 1\n",
        "      elif(focus != fore_idx[j] and predicted[j] != labels[j]):\n",
        "        focus_false_pred_false += 1\n",
        "\n",
        "    total += labels.size(0)\n",
        "    correct += (predicted == labels).sum().item()\n",
        "\n",
        "print('Accuracy of the network on the 1000 test images: %d %%' % (\n",
        "    100 * correct / total))\n",
        "print(\"total correct\", correct)\n",
        "print(\"total train set images\", total)\n",
        "\n",
        "print(\"focus_true_pred_true %d =============> FTPT : %d %%\" % (focus_true_pred_true , (100 * focus_true_pred_true / total) ) )\n",
        "print(\"focus_false_pred_true %d =============> FFPT : %d %%\" % (focus_false_pred_true, (100 * focus_false_pred_true / total) ) )\n",
        "print(\"focus_true_pred_false %d =============> FTPF : %d %%\" %( focus_true_pred_false , ( 100 * focus_true_pred_false / total) ) )\n",
        "print(\"focus_false_pred_false %d =============> FFPF : %d %%\" % (focus_false_pred_false, ( 100 * focus_false_pred_false / total) ) )\n",
        "\n",
        "print(\"argmax_more_than_half ==================> \",argmax_more_than_half)\n",
        "print(\"argmax_less_than_half ==================> \",argmax_less_than_half)"
      ],
      "execution_count": 34,
      "outputs": [
        {
          "output_type": "stream",
          "text": [
            "Accuracy of the network on the 1000 test images: 99 %\n",
            "total correct 999\n",
            "total train set images 1000\n",
            "focus_true_pred_true 686 =============> FTPT : 68 %\n",
            "focus_false_pred_true 313 =============> FFPT : 31 %\n",
            "focus_true_pred_false 0 =============> FTPF : 0 %\n",
            "focus_false_pred_false 1 =============> FFPF : 0 %\n",
            "argmax_more_than_half ==================>  686\n",
            "argmax_less_than_half ==================>  314\n"
          ],
          "name": "stdout"
        }
      ]
    },
    {
      "cell_type": "code",
      "metadata": {
        "id": "JYjBhJiREWiY"
      },
      "source": [
        ""
      ],
      "execution_count": null,
      "outputs": []
    }
  ]
}