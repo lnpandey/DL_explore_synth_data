{
 "cells": [
  {
   "cell_type": "code",
   "execution_count": 259,
   "metadata": {
    "colab": {
     "base_uri": "https://localhost:8080/",
     "height": 34
    },
    "colab_type": "code",
    "id": "N2_J4Rw2r0SQ",
    "outputId": "8e4722fd-26f6-4a94-9fe7-d9a1bd7279ed"
   },
   "outputs": [
    {
     "name": "stdout",
     "output_type": "stream",
     "text": [
      "cuda\n"
     ]
    }
   ],
   "source": [
    "import numpy as np\n",
    "import pandas as pd\n",
    "from matplotlib import pyplot as plt\n",
    "from tqdm import tqdm\n",
    "%matplotlib inline\n",
    "from torch.utils.data import Dataset, DataLoader\n",
    "import torch\n",
    "import torchvision\n",
    "\n",
    "import torch.nn as nn\n",
    "import torch.optim as optim\n",
    "from torch.nn import functional as F\n",
    "device = torch.device(\"cuda\" if torch.cuda.is_available() else \"cpu\")\n",
    "print(device)"
   ]
  },
  {
   "cell_type": "markdown",
   "metadata": {
    "colab_type": "text",
    "id": "F6fjud_Fr0Sa"
   },
   "source": [
    "# Generate dataset"
   ]
  },
  {
   "cell_type": "code",
   "execution_count": 260,
   "metadata": {
    "colab": {
     "base_uri": "https://localhost:8080/",
     "height": 191
    },
    "colab_type": "code",
    "id": "CqdXHO0Cr0Sd",
    "outputId": "d4ff902e-cc4e-4f58-fed6-cfccd5100c4b"
   },
   "outputs": [
    {
     "name": "stdout",
     "output_type": "stream",
     "text": [
      "0 493\n",
      "1 507\n",
      "2 495\n",
      "3 548\n",
      "4 515\n",
      "5 511\n",
      "6 483\n",
      "7 492\n",
      "8 495\n",
      "9 461\n"
     ]
    }
   ],
   "source": [
    "y = np.random.randint(0,10,5000)\n",
    "idx= []\n",
    "for i in range(10):\n",
    "    print(i,sum(y==i))\n",
    "    idx.append(y==i)"
   ]
  },
  {
   "cell_type": "code",
   "execution_count": 0,
   "metadata": {
    "colab": {},
    "colab_type": "code",
    "id": "ddhXyODwr0Sk"
   },
   "outputs": [],
   "source": [
    "x = np.zeros((5000,2))"
   ]
  },
  {
   "cell_type": "code",
   "execution_count": 0,
   "metadata": {
    "colab": {},
    "colab_type": "code",
    "id": "DyV3N2DIr0Sp"
   },
   "outputs": [],
   "source": [
    "# x[idx[0],:] = np.random.multivariate_normal(mean = [5,5],cov=[[0.1,0],[0,0.1]],size=sum(idx[0]))\n",
    "\n",
    "# x[idx[1],:] = np.random.multivariate_normal(mean = [-6,7],cov=[[0.1,0],[0,0.1]],size=sum(idx[1]))\n",
    "\n",
    "# x[idx[2],:] = np.random.multivariate_normal(mean = [-5,-4],cov=[[0.1,0],[0,0.1]],size=sum(idx[2]))\n",
    "\n",
    "x[idx[0],:] = np.random.multivariate_normal(mean = [5,5],cov=[[0.1,0],[0,0.1]],size=sum(idx[0]))\n",
    "\n",
    "x[idx[1],:] = np.random.multivariate_normal(mean = [6,6],cov=[[0.1,0],[0,0.1]],size=sum(idx[1]))\n",
    "\n",
    "x[idx[2],:] = np.random.multivariate_normal(mean = [5.5,6.5],cov=[[0.1,0],[0,0.1]],size=sum(idx[2]))\n",
    "\n",
    "x[idx[3],:] = np.random.multivariate_normal(mean = [-1,0],cov=[[0.1,0],[0,0.1]],size=sum(idx[3]))\n",
    "\n",
    "\n",
    "x[idx[4],:] = np.random.multivariate_normal(mean = [0,2],cov=[[0.1,0],[0,0.1]],size=sum(idx[4]))\n",
    "\n",
    "x[idx[5],:] = np.random.multivariate_normal(mean = [1,0],cov=[[0.1,0],[0,0.1]],size=sum(idx[5]))\n",
    "\n",
    "x[idx[6],:] = np.random.multivariate_normal(mean = [0,-1],cov=[[0.1,0],[0,0.1]],size=sum(idx[6]))\n",
    "\n",
    "x[idx[7],:] = np.random.multivariate_normal(mean = [0,0],cov=[[0.1,0],[0,0.1]],size=sum(idx[7]))\n",
    "\n",
    "x[idx[8],:] = np.random.multivariate_normal(mean = [-0.5,-0.5],cov=[[0.1,0],[0,0.1]],size=sum(idx[8]))\n",
    "\n",
    "x[idx[9],:] = np.random.multivariate_normal(mean = [0.4,0.2],cov=[[0.1,0],[0,0.1]],size=sum(idx[9]))"
   ]
  },
  {
   "cell_type": "code",
   "execution_count": 263,
   "metadata": {
    "colab": {
     "base_uri": "https://localhost:8080/",
     "height": 285
    },
    "colab_type": "code",
    "id": "hJ8Jm7YUr0St",
    "outputId": "4cc9731d-2d92-45a7-b250-82971b0b0b4b"
   },
   "outputs": [
    {
     "data": {
      "text/plain": [
       "<matplotlib.legend.Legend at 0x7ff1b1d62be0>"
      ]
     },
     "execution_count": 263,
     "metadata": {
      "tags": []
     },
     "output_type": "execute_result"
    },
    {
     "data": {
      "image/png": "[encoded data removed]",
      "text/plain": [
       "<Figure size 432x288 with 1 Axes>"
      ]
     },
     "metadata": {
      "tags": []
     },
     "output_type": "display_data"
    }
   ],
   "source": [
    "for i in range(10):\n",
    "    plt.scatter(x[idx[i],0],x[idx[i],1],label=\"class_\"+str(i))\n",
    "plt.legend(loc='center left', bbox_to_anchor=(1, 0.5))"
   ]
  },
  {
   "cell_type": "code",
   "execution_count": 0,
   "metadata": {
    "colab": {},
    "colab_type": "code",
    "id": "UfFHcZJOr0Sz"
   },
   "outputs": [],
   "source": [
    "foreground_classes = {'class_0','class_1', 'class_2'}\n",
    "\n",
    "background_classes = {'class_3','class_4', 'class_5', 'class_6','class_7', 'class_8', 'class_9'}"
   ]
  },
  {
   "cell_type": "code",
   "execution_count": 265,
   "metadata": {
    "colab": {
     "base_uri": "https://localhost:8080/",
     "height": 208
    },
    "colab_type": "code",
    "id": "OplNpNQVr0S2",
    "outputId": "6fae8473-e694-4092-bbe8-3e30e2b160b9"
   },
   "outputs": [
    {
     "name": "stdout",
     "output_type": "stream",
     "text": [
      "background 5 present at 0\n",
      "background 9 present at 1\n",
      "background 4 present at 2\n",
      "foreground 1 present at 3\n",
      "background 5 present at 4\n",
      "background 5 present at 5\n",
      "background 6 present at 6\n",
      "background 9 present at 7\n",
      "background 6 present at 8\n",
      "(9, 2)\n",
      "1 3\n"
     ]
    }
   ],
   "source": [
    "fg_class  = np.random.randint(0,3)\n",
    "fg_idx = np.random.randint(0,9)\n",
    "\n",
    "a = []\n",
    "for i in range(9):\n",
    "    if i == fg_idx:\n",
    "        b = np.random.choice(np.where(idx[fg_class]==True)[0],size=1)\n",
    "        a.append(x[b])\n",
    "        print(\"foreground \"+str(fg_class)+\" present at \" + str(fg_idx))\n",
    "    else:\n",
    "        bg_class = np.random.randint(3,10)\n",
    "        b = np.random.choice(np.where(idx[bg_class]==True)[0],size=1)\n",
    "        a.append(x[b])\n",
    "        print(\"background \"+str(bg_class)+\" present at \" + str(i))\n",
    "a = np.concatenate(a,axis=0)\n",
    "print(a.shape)\n",
    "\n",
    "print(fg_class , fg_idx)"
   ]
  },
  {
   "cell_type": "code",
   "execution_count": 266,
   "metadata": {
    "colab": {
     "base_uri": "https://localhost:8080/",
     "height": 34
    },
    "colab_type": "code",
    "id": "dwZVmmRBr0S8",
    "outputId": "5e99310c-375d-480f-b99c-31239b67b005"
   },
   "outputs": [
    {
     "data": {
      "text/plain": [
       "(9, 2)"
      ]
     },
     "execution_count": 266,
     "metadata": {
      "tags": []
     },
     "output_type": "execute_result"
    }
   ],
   "source": [
    "a.shape"
   ]
  },
  {
   "cell_type": "code",
   "execution_count": 267,
   "metadata": {
    "colab": {
     "base_uri": "https://localhost:8080/",
     "height": 330
    },
    "colab_type": "code",
    "id": "OoxzYI-ur0S_",
    "outputId": "71e20c77-2699-4829-cabb-619544df8fb7"
   },
   "outputs": [
    {
     "data": {
      "text/plain": [
       "array([[ 0.22974466],\n",
       "       [-0.39040645],\n",
       "       [ 0.94520827],\n",
       "       [ 0.24263521],\n",
       "       [ 0.441134  ],\n",
       "       [ 2.15395791],\n",
       "       [ 6.50413651],\n",
       "       [ 6.45043273],\n",
       "       [ 1.06526469],\n",
       "       [ 0.0639449 ],\n",
       "       [ 0.29200388],\n",
       "       [-0.36412841],\n",
       "       [-0.26132779],\n",
       "       [-0.65306613],\n",
       "       [ 0.46086385],\n",
       "       [ 0.13727236],\n",
       "       [-0.34798446],\n",
       "       [-0.76142478]])"
      ]
     },
     "execution_count": 267,
     "metadata": {
      "tags": []
     },
     "output_type": "execute_result"
    }
   ],
   "source": [
    "np.reshape(a,(18,1))"
   ]
  },
  {
   "cell_type": "code",
   "execution_count": 0,
   "metadata": {
    "colab": {},
    "colab_type": "code",
    "id": "y4ruI0cxr0TE"
   },
   "outputs": [],
   "source": [
    "a=np.reshape(a,(3,6))"
   ]
  },
  {
   "cell_type": "code",
   "execution_count": 269,
   "metadata": {
    "colab": {
     "base_uri": "https://localhost:8080/",
     "height": 236
    },
    "colab_type": "code",
    "id": "RTUTFhJIr0TI",
    "outputId": "7ec59283-1436-455e-ce1f-70d12429f133"
   },
   "outputs": [
    {
     "data": {
      "text/plain": [
       "<matplotlib.image.AxesImage at 0x7ff1b250feb8>"
      ]
     },
     "execution_count": 269,
     "metadata": {
      "tags": []
     },
     "output_type": "execute_result"
    },
    {
     "data": {
      "image/png": "[encoded data removed]",
      "text/plain": [
       "<Figure size 432x288 with 1 Axes>"
      ]
     },
     "metadata": {
      "tags": []
     },
     "output_type": "display_data"
    }
   ],
   "source": [
    "plt.imshow(a)"
   ]
  },
  {
   "cell_type": "code",
   "execution_count": 0,
   "metadata": {
    "colab": {},
    "colab_type": "code",
    "id": "jqbvfbwVr0TN"
   },
   "outputs": [],
   "source": [
    "desired_num = 3000\n",
    "mosaic_list =[]\n",
    "mosaic_label = []\n",
    "fore_idx=[]\n",
    "for j in range(desired_num):\n",
    "    fg_class  = np.random.randint(0,3)\n",
    "    fg_idx = np.random.randint(0,9)\n",
    "    a = []\n",
    "    for i in range(9):\n",
    "        if i == fg_idx:\n",
    "            b = np.random.choice(np.where(idx[fg_class]==True)[0],size=1)\n",
    "            a.append(x[b])\n",
    "#             print(\"foreground \"+str(fg_class)+\" present at \" + str(fg_idx))\n",
    "        else:\n",
    "            bg_class = np.random.randint(3,10)\n",
    "            b = np.random.choice(np.where(idx[bg_class]==True)[0],size=1)\n",
    "            a.append(x[b])\n",
    "#             print(\"background \"+str(bg_class)+\" present at \" + str(i))\n",
    "    a = np.concatenate(a,axis=0)\n",
    "    mosaic_list.append(np.reshape(a,(18,1)))\n",
    "    mosaic_label.append(fg_class)\n",
    "    fore_idx.append(fg_idx)"
   ]
  },
  {
   "cell_type": "code",
   "execution_count": 0,
   "metadata": {
    "colab": {},
    "colab_type": "code",
    "id": "BOsFmWfMr0TR"
   },
   "outputs": [],
   "source": [
    "mosaic_list = np.concatenate(mosaic_list,axis=1).T\n",
    "# print(mosaic_list)"
   ]
  },
  {
   "cell_type": "code",
   "execution_count": 272,
   "metadata": {
    "colab": {
     "base_uri": "https://localhost:8080/",
     "height": 52
    },
    "colab_type": "code",
    "id": "C2PnW7aQr0TT",
    "outputId": "0a0d524b-26f1-42a2-9be6-e1ff1118cdd7"
   },
   "outputs": [
    {
     "name": "stdout",
     "output_type": "stream",
     "text": [
      "(3000,)\n",
      "(3000,)\n"
     ]
    }
   ],
   "source": [
    "print(np.shape(mosaic_label))\n",
    "print(np.shape(fore_idx))"
   ]
  },
  {
   "cell_type": "code",
   "execution_count": 0,
   "metadata": {
    "colab": {},
    "colab_type": "code",
    "id": "yL0BRf8er0TX"
   },
   "outputs": [],
   "source": [
    "class MosaicDataset(Dataset):\n",
    "  \"\"\"MosaicDataset dataset.\"\"\"\n",
    "\n",
    "  def __init__(self, mosaic_list, mosaic_label, fore_idx):\n",
    "    \"\"\"\n",
    "      Args:\n",
    "        csv_file (string): Path to the csv file with annotations.\n",
    "        root_dir (string): Directory with all the images.\n",
    "        transform (callable, optional): Optional transform to be applied\n",
    "            on a sample.\n",
    "    \"\"\"\n",
    "    self.mosaic = mosaic_list\n",
    "    self.label = mosaic_label\n",
    "    self.fore_idx = fore_idx\n",
    "\n",
    "  def __len__(self):\n",
    "    return len(self.label)\n",
    "\n",
    "  def __getitem__(self, idx):\n",
    "    return self.mosaic[idx] , self.label[idx], self.fore_idx[idx]\n",
    "\n",
    "batch = 250\n",
    "msd = MosaicDataset(mosaic_list, mosaic_label , fore_idx)\n",
    "train_loader = DataLoader( msd,batch_size= batch ,shuffle=True)"
   ]
  },
  {
   "cell_type": "code",
   "execution_count": 0,
   "metadata": {
    "colab": {},
    "colab_type": "code",
    "id": "ZVRXgwwNr0Tb"
   },
   "outputs": [],
   "source": [
    "class Wherenet(nn.Module):\n",
    "    def __init__(self):\n",
    "        super(Wherenet,self).__init__()\n",
    "        self.linear1 = nn.Linear(2,4)\n",
    "        self.linear2 = nn.Linear(4,8)\n",
    "        self.linear3 = nn.Linear(8,1)\n",
    "    def forward(self,z):\n",
    "        x = torch.zeros([batch,9],dtype=torch.float64)\n",
    "        y = torch.zeros([batch,2], dtype=torch.float64)\n",
    "        #x,y = x.to(\"cuda\"),y.to(\"cuda\")\n",
    "        for i in range(9):\n",
    "            x[:,i] = self.helper(z[:,2*i:2*i+2])[:,0]\n",
    "            #print(k[:,0].shape,x[:,i].shape)\n",
    "        x = F.softmax(x,dim=1)   # alphas\n",
    "        x1 = x[:,0]\n",
    "        for i in range(9):\n",
    "            x1 = x[:,i]          \n",
    "            #print()\n",
    "            y = y+torch.mul(x1[:,None],z[:,2*i:2*i+2])\n",
    "        return y , x \n",
    "\n",
    "    \n",
    "    def helper(self,x):\n",
    "        x = F.relu(self.linear1(x))\n",
    "        x = F.relu(self.linear2(x))\n",
    "        x = self.linear3(x)\n",
    "        return x\n",
    "\n",
    "    "
   ]
  },
  {
   "cell_type": "code",
   "execution_count": 0,
   "metadata": {
    "colab": {},
    "colab_type": "code",
    "id": "f-Ek05Kxr0Te"
   },
   "outputs": [],
   "source": [
    "trainiter = iter(train_loader)\n",
    "input1,labels1,index1 = trainiter.next()\n",
    "\n"
   ]
  },
  {
   "cell_type": "code",
   "execution_count": 276,
   "metadata": {
    "colab": {
     "base_uri": "https://localhost:8080/",
     "height": 34
    },
    "colab_type": "code",
    "id": "SxEmWZI6r0Ti",
    "outputId": "d29e802b-4ac7-4075-e9f1-5279170a077b"
   },
   "outputs": [
    {
     "data": {
      "text/plain": [
       "(torch.Size([250, 2]), torch.Size([250, 9]))"
      ]
     },
     "execution_count": 276,
     "metadata": {
      "tags": []
     },
     "output_type": "execute_result"
    }
   ],
   "source": [
    "where = Wherenet().double()\n",
    "where = where\n",
    "out_where,alphas = where(input1)\n",
    "out_where.shape,alphas.shape"
   ]
  },
  {
   "cell_type": "code",
   "execution_count": 0,
   "metadata": {
    "colab": {},
    "colab_type": "code",
    "id": "5_XeIUk0r0Tl"
   },
   "outputs": [],
   "source": [
    "class Whatnet(nn.Module):\n",
    "    def __init__(self):\n",
    "        super(Whatnet,self).__init__()\n",
    "        self.linear1 = nn.Linear(2,4)\n",
    "        self.linear2 = nn.Linear(4,3)\n",
    "#         self.linear3 = nn.Linear(8,3)\n",
    "    def forward(self,x):\n",
    "        x = F.relu(self.linear1(x))\n",
    "        #x = F.relu(self.linear2(x))\n",
    "        x = self.linear2(x)\n",
    "        return x"
   ]
  },
  {
   "cell_type": "code",
   "execution_count": 0,
   "metadata": {
    "colab": {},
    "colab_type": "code",
    "id": "l35i9bIlr0Tp"
   },
   "outputs": [],
   "source": [
    "what = Whatnet().double()\n",
    "# what(out_where)"
   ]
  },
  {
   "cell_type": "code",
   "execution_count": 0,
   "metadata": {
    "colab": {},
    "colab_type": "code",
    "id": "tMEoCLo1r0Tt"
   },
   "outputs": [],
   "source": [
    "test_data_required = 1000\n",
    "mosaic_list_test =[]\n",
    "mosaic_label_test = []\n",
    "fore_idx_test=[]\n",
    "for j in range(test_data_required):\n",
    "    fg_class  = np.random.randint(0,3)\n",
    "    fg_idx = np.random.randint(0,9)\n",
    "    a = []\n",
    "    for i in range(9):\n",
    "        if i == fg_idx:\n",
    "            b = np.random.choice(np.where(idx[fg_class]==True)[0],size=1)\n",
    "            a.append(x[b])\n",
    "#             print(\"foreground \"+str(fg_class)+\" present at \" + str(fg_idx))\n",
    "        else:\n",
    "            bg_class = np.random.randint(3,10)\n",
    "            b = np.random.choice(np.where(idx[bg_class]==True)[0],size=1)\n",
    "            a.append(x[b])\n",
    "#             print(\"background \"+str(bg_class)+\" present at \" + str(i))\n",
    "    a = np.concatenate(a,axis=0)\n",
    "    mosaic_list_test.append(np.reshape(a,(18,1)))\n",
    "    mosaic_label_test.append(fg_class)\n",
    "    fore_idx_test.append(fg_idx)"
   ]
  },
  {
   "cell_type": "code",
   "execution_count": 280,
   "metadata": {
    "colab": {
     "base_uri": "https://localhost:8080/",
     "height": 34
    },
    "colab_type": "code",
    "id": "2Naetxvbr0Tw",
    "outputId": "ebb3c6d5-aefd-417a-bcf5-67be9fee0fb2"
   },
   "outputs": [
    {
     "name": "stdout",
     "output_type": "stream",
     "text": [
      "(1000, 18)\n"
     ]
    }
   ],
   "source": [
    "mosaic_list_test = np.concatenate(mosaic_list_test,axis=1).T\n",
    "print(mosaic_list_test.shape)"
   ]
  },
  {
   "cell_type": "code",
   "execution_count": 0,
   "metadata": {
    "colab": {},
    "colab_type": "code",
    "id": "Os4KxqrFr0Tz"
   },
   "outputs": [],
   "source": [
    "test_data = MosaicDataset(mosaic_list_test,mosaic_label_test,fore_idx_test)\n",
    "test_loader = DataLoader( test_data,batch_size= batch ,shuffle=False)"
   ]
  },
  {
   "cell_type": "code",
   "execution_count": 282,
   "metadata": {
    "colab": {
     "base_uri": "https://localhost:8080/",
     "height": 1000
    },
    "colab_type": "code",
    "id": "pPQY-Wpcr0T2",
    "outputId": "d975c9c2-e789-4564-847c-cdf42ac1385c",
    "scrolled": true
   },
   "outputs": [
    {
     "name": "stdout",
     "output_type": "stream",
     "text": [
      "[1,     6] loss: 1.111\n",
      "[1,    12] loss: 1.097\n",
      "[2,     6] loss: 1.088\n",
      "[2,    12] loss: 1.093\n",
      "[3,     6] loss: 1.082\n",
      "[3,    12] loss: 1.073\n",
      "[4,     6] loss: 1.063\n",
      "[4,    12] loss: 1.057\n",
      "[5,     6] loss: 1.043\n",
      "[5,    12] loss: 1.031\n",
      "[6,     6] loss: 1.015\n",
      "[6,    12] loss: 1.005\n",
      "[7,     6] loss: 0.989\n",
      "[7,    12] loss: 0.972\n",
      "[8,     6] loss: 0.956\n",
      "[8,    12] loss: 0.941\n",
      "[9,     6] loss: 0.919\n",
      "[9,    12] loss: 0.909\n",
      "[10,     6] loss: 0.883\n",
      "[10,    12] loss: 0.873\n",
      "[11,     6] loss: 0.841\n",
      "[11,    12] loss: 0.836\n",
      "[12,     6] loss: 0.804\n",
      "[12,    12] loss: 0.794\n",
      "[13,     6] loss: 0.769\n",
      "[13,    12] loss: 0.756\n",
      "[14,     6] loss: 0.734\n",
      "[14,    12] loss: 0.729\n",
      "[15,     6] loss: 0.714\n",
      "[15,    12] loss: 0.684\n",
      "[16,     6] loss: 0.682\n",
      "[16,    12] loss: 0.659\n",
      "[17,     6] loss: 0.656\n",
      "[17,    12] loss: 0.629\n",
      "[18,     6] loss: 0.617\n",
      "[18,    12] loss: 0.612\n",
      "[19,     6] loss: 0.598\n",
      "[19,    12] loss: 0.574\n",
      "[20,     6] loss: 0.579\n",
      "[20,    12] loss: 0.557\n",
      "[21,     6] loss: 0.557\n",
      "[21,    12] loss: 0.531\n",
      "[22,     6] loss: 0.527\n",
      "[22,    12] loss: 0.523\n",
      "[23,     6] loss: 0.499\n",
      "[23,    12] loss: 0.513\n",
      "[24,     6] loss: 0.513\n",
      "[24,    12] loss: 0.543\n",
      "[25,     6] loss: 0.547\n",
      "[25,    12] loss: 0.502\n",
      "[26,     6] loss: 0.500\n",
      "[26,    12] loss: 0.528\n",
      "[27,     6] loss: 0.486\n",
      "[27,    12] loss: 0.456\n",
      "[28,     6] loss: 0.447\n",
      "[28,    12] loss: 0.434\n",
      "[29,     6] loss: 0.429\n",
      "[29,    12] loss: 0.419\n",
      "[30,     6] loss: 0.423\n",
      "[30,    12] loss: 0.407\n",
      "[31,     6] loss: 0.422\n",
      "[31,    12] loss: 0.420\n",
      "[32,     6] loss: 0.556\n",
      "[32,    12] loss: 0.457\n",
      "[33,     6] loss: 0.414\n",
      "[33,    12] loss: 0.418\n",
      "[34,     6] loss: 0.423\n",
      "[34,    12] loss: 0.446\n",
      "[35,     6] loss: 0.403\n",
      "[35,    12] loss: 0.425\n",
      "[36,     6] loss: 0.434\n",
      "[36,    12] loss: 0.395\n",
      "[37,     6] loss: 0.366\n",
      "[37,    12] loss: 0.430\n",
      "[38,     6] loss: 0.419\n",
      "[38,    12] loss: 0.402\n",
      "[39,     6] loss: 0.405\n",
      "[39,    12] loss: 0.421\n",
      "[40,     6] loss: 0.363\n",
      "[40,    12] loss: 0.374\n",
      "[41,     6] loss: 0.399\n",
      "[41,    12] loss: 0.386\n",
      "[42,     6] loss: 0.392\n",
      "[42,    12] loss: 0.361\n",
      "[43,     6] loss: 0.355\n",
      "[43,    12] loss: 0.360\n",
      "[44,     6] loss: 0.382\n",
      "[44,    12] loss: 0.361\n",
      "[45,     6] loss: 0.401\n",
      "[45,    12] loss: 0.360\n",
      "[46,     6] loss: 0.352\n",
      "[46,    12] loss: 0.342\n",
      "[47,     6] loss: 0.320\n",
      "[47,    12] loss: 0.323\n",
      "[48,     6] loss: 0.299\n",
      "[48,    12] loss: 0.311\n",
      "[49,     6] loss: 0.314\n",
      "[49,    12] loss: 0.293\n",
      "[50,     6] loss: 0.306\n",
      "[50,    12] loss: 0.300\n",
      "[51,     6] loss: 0.301\n",
      "[51,    12] loss: 0.321\n",
      "[52,     6] loss: 0.306\n",
      "[52,    12] loss: 0.285\n",
      "[53,     6] loss: 0.296\n",
      "[53,    12] loss: 0.297\n",
      "[54,     6] loss: 0.288\n",
      "[54,    12] loss: 0.306\n",
      "[55,     6] loss: 0.308\n",
      "[55,    12] loss: 0.309\n",
      "[56,     6] loss: 0.293\n",
      "[56,    12] loss: 0.324\n",
      "[57,     6] loss: 0.293\n",
      "[57,    12] loss: 0.276\n",
      "[58,     6] loss: 0.274\n",
      "[58,    12] loss: 0.280\n",
      "[59,     6] loss: 0.276\n",
      "[59,    12] loss: 0.284\n",
      "[60,     6] loss: 0.274\n",
      "[60,    12] loss: 0.281\n",
      "[61,     6] loss: 0.278\n",
      "[61,    12] loss: 0.265\n",
      "[62,     6] loss: 0.266\n",
      "[62,    12] loss: 0.259\n",
      "[63,     6] loss: 0.265\n",
      "[63,    12] loss: 0.267\n",
      "[64,     6] loss: 0.273\n",
      "[64,    12] loss: 0.269\n",
      "[65,     6] loss: 0.272\n",
      "[65,    12] loss: 0.254\n",
      "[66,     6] loss: 0.271\n",
      "[66,    12] loss: 0.251\n",
      "[67,     6] loss: 0.268\n",
      "[67,    12] loss: 0.267\n",
      "[68,     6] loss: 0.261\n",
      "[68,    12] loss: 0.260\n",
      "[69,     6] loss: 0.253\n",
      "[69,    12] loss: 0.270\n",
      "[70,     6] loss: 0.251\n",
      "[70,    12] loss: 0.267\n",
      "[71,     6] loss: 0.234\n",
      "[71,    12] loss: 0.272\n",
      "[72,     6] loss: 0.265\n",
      "[72,    12] loss: 0.242\n",
      "[73,     6] loss: 0.246\n",
      "[73,    12] loss: 0.284\n",
      "[74,     6] loss: 0.285\n",
      "[74,    12] loss: 0.254\n",
      "[75,     6] loss: 0.268\n",
      "[75,    12] loss: 0.254\n",
      "[76,     6] loss: 0.256\n",
      "[76,    12] loss: 0.250\n",
      "[77,     6] loss: 0.245\n",
      "[77,    12] loss: 0.262\n",
      "[78,     6] loss: 0.267\n",
      "[78,    12] loss: 0.253\n",
      "[79,     6] loss: 0.279\n",
      "[79,    12] loss: 0.250\n",
      "[80,     6] loss: 0.231\n",
      "[80,    12] loss: 0.268\n",
      "[81,     6] loss: 0.257\n",
      "[81,    12] loss: 0.242\n",
      "[82,     6] loss: 0.260\n",
      "[82,    12] loss: 0.249\n",
      "[83,     6] loss: 0.243\n",
      "[83,    12] loss: 0.266\n",
      "[84,     6] loss: 0.246\n",
      "[84,    12] loss: 0.262\n",
      "[85,     6] loss: 0.248\n",
      "[85,    12] loss: 0.247\n",
      "[86,     6] loss: 0.262\n",
      "[86,    12] loss: 0.225\n",
      "[87,     6] loss: 0.251\n",
      "[87,    12] loss: 0.237\n",
      "[88,     6] loss: 0.265\n",
      "[88,    12] loss: 0.247\n",
      "[89,     6] loss: 0.238\n",
      "[89,    12] loss: 0.248\n",
      "[90,     6] loss: 0.264\n",
      "[90,    12] loss: 0.227\n",
      "[91,     6] loss: 0.247\n",
      "[91,    12] loss: 0.238\n",
      "[92,     6] loss: 0.249\n",
      "[92,    12] loss: 0.238\n",
      "[93,     6] loss: 0.247\n",
      "[93,    12] loss: 0.238\n",
      "[94,     6] loss: 0.230\n",
      "[94,    12] loss: 0.253\n",
      "[95,     6] loss: 0.239\n",
      "[95,    12] loss: 0.235\n",
      "[96,     6] loss: 0.250\n",
      "[96,    12] loss: 0.234\n",
      "[97,     6] loss: 0.243\n",
      "[97,    12] loss: 0.241\n",
      "[98,     6] loss: 0.245\n",
      "[98,    12] loss: 0.246\n",
      "[99,     6] loss: 0.236\n",
      "[99,    12] loss: 0.248\n",
      "[100,     6] loss: 0.229\n",
      "[100,    12] loss: 0.269\n",
      "[101,     6] loss: 0.241\n",
      "[101,    12] loss: 0.239\n",
      "[102,     6] loss: 0.251\n",
      "[102,    12] loss: 0.234\n",
      "[103,     6] loss: 0.252\n",
      "[103,    12] loss: 0.237\n",
      "[104,     6] loss: 0.262\n",
      "[104,    12] loss: 0.238\n",
      "[105,     6] loss: 0.250\n",
      "[105,    12] loss: 0.283\n",
      "[106,     6] loss: 0.258\n",
      "[106,    12] loss: 0.238\n",
      "[107,     6] loss: 0.242\n",
      "[107,    12] loss: 0.264\n",
      "[108,     6] loss: 0.252\n",
      "[108,    12] loss: 0.254\n",
      "[109,     6] loss: 0.242\n",
      "[109,    12] loss: 0.238\n",
      "[110,     6] loss: 0.242\n",
      "[110,    12] loss: 0.232\n",
      "[111,     6] loss: 0.241\n",
      "[111,    12] loss: 0.237\n",
      "[112,     6] loss: 0.245\n",
      "[112,    12] loss: 0.241\n",
      "[113,     6] loss: 0.228\n",
      "[113,    12] loss: 0.254\n",
      "[114,     6] loss: 0.246\n",
      "[114,    12] loss: 0.236\n",
      "[115,     6] loss: 0.240\n",
      "[115,    12] loss: 0.259\n",
      "[116,     6] loss: 0.256\n",
      "[116,    12] loss: 0.254\n",
      "[117,     6] loss: 0.255\n",
      "[117,    12] loss: 0.255\n",
      "[118,     6] loss: 0.253\n",
      "[118,    12] loss: 0.249\n",
      "[119,     6] loss: 0.238\n",
      "[119,    12] loss: 0.258\n",
      "[120,     6] loss: 0.252\n",
      "[120,    12] loss: 0.261\n",
      "Finished Training\n"
     ]
    }
   ],
   "source": [
    "\n",
    "focus_true_pred_true =0\n",
    "focus_false_pred_true =0\n",
    "focus_true_pred_false =0\n",
    "focus_false_pred_false =0\n",
    "\n",
    "argmax_more_than_half = 0\n",
    "argmax_less_than_half =0\n",
    "\n",
    "col1=[]\n",
    "col2=[]\n",
    "col3=[]\n",
    "col4=[]\n",
    "col5=[]\n",
    "col6=[]\n",
    "col7=[]\n",
    "col8=[]\n",
    "col9=[]\n",
    "col10=[]\n",
    "col11=[]\n",
    "col12=[]\n",
    "col13=[]\n",
    "\n",
    "criterion = nn.CrossEntropyLoss()\n",
    "optimizer_where = optim.SGD(where.parameters(), lr=0.01, momentum=0.9)\n",
    "optimizer_what = optim.SGD(what.parameters(), lr=0.01, momentum=0.9)\n",
    "\n",
    "nos_epochs = 120\n",
    "\n",
    "train_loss=[]\n",
    "test_loss =[]\n",
    "train_acc = []\n",
    "test_acc = []\n",
    "for epoch in range(nos_epochs):  # loop over the dataset multiple times\n",
    "\n",
    "    focus_true_pred_true =0\n",
    "    focus_false_pred_true =0\n",
    "    focus_true_pred_false =0\n",
    "    focus_false_pred_false =0\n",
    "\n",
    "    argmax_more_than_half = 0\n",
    "    argmax_less_than_half =0\n",
    "\n",
    "    running_loss = 0.0\n",
    "    cnt=0\n",
    "\n",
    "    iteration = desired_num // batch\n",
    "\n",
    "    #training data set\n",
    "\n",
    "    for i, data in  enumerate(train_loader):\n",
    "        inputs , labels , fore_idx = data\n",
    "        #inputs,labels,fore_idx = inputs.to(device),labels.to(device),fore_idx.to(device)\n",
    "        # zero the parameter gradients\n",
    "\n",
    "        optimizer_what.zero_grad()\n",
    "        optimizer_where.zero_grad()\n",
    "        \n",
    "        \n",
    "        avg_inp,alphas = where(inputs)\n",
    "        \n",
    "        outputs = what(avg_inp)\n",
    "        \n",
    "        _, predicted = torch.max(outputs.data, 1)\n",
    "        \n",
    "        loss = criterion(outputs, labels) \n",
    "        loss.backward() \n",
    "        \n",
    "        optimizer_what.step()\n",
    "        optimizer_where.step() \n",
    "        \n",
    "\n",
    "        running_loss += loss.item()\n",
    "        if cnt % 6 == 5:    # print every 6 mini-batches\n",
    "            print('[%d, %5d] loss: %.3f' %(epoch + 1, cnt + 1, running_loss / 6))\n",
    "            running_loss = 0.0\n",
    "        cnt=cnt+1\n",
    "    \n",
    "        if epoch % 5 == 4:\n",
    "            for j in range (batch):\n",
    "                focus = torch.argmax(alphas[j])\n",
    "\n",
    "                if(alphas[j][focus] >= 0.5):\n",
    "                    argmax_more_than_half +=1\n",
    "                else:\n",
    "                    argmax_less_than_half +=1\n",
    "\n",
    "                if(focus == fore_idx[j] and predicted[j] == labels[j]):\n",
    "                    focus_true_pred_true += 1\n",
    "\n",
    "                elif(focus != fore_idx[j] and predicted[j] == labels[j]):\n",
    "                    focus_false_pred_true +=1\n",
    "\n",
    "                elif(focus == fore_idx[j] and predicted[j] != labels[j]):\n",
    "                    focus_true_pred_false +=1\n",
    "\n",
    "                elif(focus != fore_idx[j] and predicted[j] != labels[j]):\n",
    "                    focus_false_pred_false +=1\n",
    "\n",
    "    if epoch % 5 == 4:\n",
    "        col1.append(epoch)\n",
    "        col2.append(argmax_more_than_half)\n",
    "        col3.append(argmax_less_than_half)\n",
    "        col4.append(focus_true_pred_true)\n",
    "        col5.append(focus_false_pred_true)\n",
    "        col6.append(focus_true_pred_false)\n",
    "        col7.append(focus_false_pred_false)\n",
    "\n",
    "    #************************************************************************\n",
    "        #testing data set  \n",
    "        with torch.no_grad():\n",
    "            focus_true_pred_true =0\n",
    "            focus_false_pred_true =0\n",
    "            focus_true_pred_false =0\n",
    "            focus_false_pred_false =0\n",
    "\n",
    "            argmax_more_than_half = 0\n",
    "            argmax_less_than_half =0\n",
    "            for data in test_loader:\n",
    "                inputs, labels , fore_idx = data\n",
    "                #inputs,labels,fore_idx = inputs.to(device),labels.to(device),fore_idx.to(device) \n",
    "#                 print(inputs.shtorch.save(where.state_dict(),\"model_epoch\"+str(epoch)+\".pt\")ape,labels.shape)\n",
    "                avg_inp,alphas = where(inputs)\n",
    "                outputs = what(avg_inp)\n",
    "                _, predicted = torch.max(outputs.data, 1)\n",
    "\n",
    "                for j in range (batch):\n",
    "                    focus = torch.argmax(alphas[j])\n",
    "\n",
    "                    if(alphas[j][focus] >= 0.5):\n",
    "                        argmax_more_than_half +=1\n",
    "                    else:\n",
    "                        argmax_less_than_half +=1\n",
    "\n",
    "                    if(focus == fore_idx[j] and predicted[j] == labels[j]):\n",
    "                        focus_true_pred_true += 1\n",
    "\n",
    "                    elif(focus != fore_idx[j] and predicted[j] == labels[j]):\n",
    "                        focus_false_pred_true +=1\n",
    "\n",
    "                    elif(focus == fore_idx[j] and predicted[j] != labels[j]):\n",
    "                        focus_true_pred_false +=1\n",
    "\n",
    "                    elif(focus != fore_idx[j] and predicted[j] != labels[j]):\n",
    "                        focus_false_pred_false +=1\n",
    "\n",
    "        col8.append(argmax_more_than_half)\n",
    "        col9.append(argmax_less_than_half)\n",
    "        col10.append(focus_true_pred_true)\n",
    "        col11.append(focus_false_pred_true)\n",
    "        col12.append(focus_true_pred_false)\n",
    "        col13.append(focus_false_pred_false)\n",
    "        torch.save(where.state_dict(),\"where_model_epoch\"+str(epoch)+\".pt\")\n",
    "        torch.save(what.state_dict(),\"what_model_epoch\"+str(epoch)+\".pt\")\n",
    "    \n",
    "print('Finished Training')\n",
    "torch.save(where.state_dict(),\"where_model_epoch\"+str(nos_epochs)+\".pt\")\n",
    "torch.save(what.state_dict(),\"what_model_epoch\"+str(epoch)+\".pt\")\n"
   ]
  },
  {
   "cell_type": "code",
   "execution_count": 0,
   "metadata": {
    "colab": {},
    "colab_type": "code",
    "id": "UvP97PKnr0T5"
   },
   "outputs": [],
   "source": [
    "columns = [\"epochs\", \"argmax > 0.5\" ,\"argmax < 0.5\", \"focus_true_pred_true\", \"focus_false_pred_true\", \"focus_true_pred_false\", \"focus_false_pred_false\" ]\n",
    "df_train = pd.DataFrame()\n",
    "df_test = pd.DataFrame()\n",
    "df_train[columns[0]] = col1\n",
    "df_train[columns[1]] = col2\n",
    "df_train[columns[2]] = col3\n",
    "df_train[columns[3]] = col4\n",
    "df_train[columns[4]] = col5\n",
    "df_train[columns[5]] = col6\n",
    "df_train[columns[6]] = col7\n",
    "\n",
    "df_test[columns[0]] = col1\n",
    "df_test[columns[1]] = col8\n",
    "df_test[columns[2]] = col9\n",
    "df_test[columns[3]] = col10\n",
    "df_test[columns[4]] = col11\n",
    "df_test[columns[5]] = col12\n",
    "df_test[columns[6]] = col13"
   ]
  },
  {
   "cell_type": "code",
   "execution_count": 284,
   "metadata": {
    "colab": {
     "base_uri": "https://localhost:8080/",
     "height": 802
    },
    "colab_type": "code",
    "id": "0hAVV2I5r0T7",
    "outputId": "add18c2b-cc8c-48b9-a3e9-329fab6f5406",
    "scrolled": false
   },
   "outputs": [
    {
     "data": {
      "text/html": [
       "<div>\n",
       "<style scoped>\n",
       "    .dataframe tbody tr th:only-of-type {\n",
       "        vertical-align: middle;\n",
       "    }\n",
       "\n",
       "    .dataframe tbody tr th {\n",
       "        vertical-align: top;\n",
       "    }\n",
       "\n",
       "    .dataframe thead th {\n",
       "        text-align: right;\n",
       "    }\n",
       "</style>\n",
       "<table border=\"1\" class=\"dataframe\">\n",
       "  <thead>\n",
       "    <tr style=\"text-align: right;\">\n",
       "      <th></th>\n",
       "      <th>epochs</th>\n",
       "      <th>argmax &gt; 0.5</th>\n",
       "      <th>argmax &lt; 0.5</th>\n",
       "      <th>focus_true_pred_true</th>\n",
       "      <th>focus_false_pred_true</th>\n",
       "      <th>focus_true_pred_false</th>\n",
       "      <th>focus_false_pred_false</th>\n",
       "    </tr>\n",
       "  </thead>\n",
       "  <tbody>\n",
       "    <tr>\n",
       "      <th>0</th>\n",
       "      <td>4</td>\n",
       "      <td>0</td>\n",
       "      <td>3000</td>\n",
       "      <td>1073</td>\n",
       "      <td>0</td>\n",
       "      <td>1927</td>\n",
       "      <td>0</td>\n",
       "    </tr>\n",
       "    <tr>\n",
       "      <th>1</th>\n",
       "      <td>9</td>\n",
       "      <td>1179</td>\n",
       "      <td>1821</td>\n",
       "      <td>1957</td>\n",
       "      <td>10</td>\n",
       "      <td>1033</td>\n",
       "      <td>0</td>\n",
       "    </tr>\n",
       "    <tr>\n",
       "      <th>2</th>\n",
       "      <td>14</td>\n",
       "      <td>990</td>\n",
       "      <td>2010</td>\n",
       "      <td>2041</td>\n",
       "      <td>227</td>\n",
       "      <td>677</td>\n",
       "      <td>55</td>\n",
       "    </tr>\n",
       "    <tr>\n",
       "      <th>3</th>\n",
       "      <td>19</td>\n",
       "      <td>1021</td>\n",
       "      <td>1979</td>\n",
       "      <td>2403</td>\n",
       "      <td>76</td>\n",
       "      <td>516</td>\n",
       "      <td>5</td>\n",
       "    </tr>\n",
       "    <tr>\n",
       "      <th>4</th>\n",
       "      <td>24</td>\n",
       "      <td>1416</td>\n",
       "      <td>1584</td>\n",
       "      <td>2375</td>\n",
       "      <td>21</td>\n",
       "      <td>604</td>\n",
       "      <td>0</td>\n",
       "    </tr>\n",
       "    <tr>\n",
       "      <th>5</th>\n",
       "      <td>29</td>\n",
       "      <td>1509</td>\n",
       "      <td>1491</td>\n",
       "      <td>2568</td>\n",
       "      <td>17</td>\n",
       "      <td>415</td>\n",
       "      <td>0</td>\n",
       "    </tr>\n",
       "    <tr>\n",
       "      <th>6</th>\n",
       "      <td>34</td>\n",
       "      <td>2070</td>\n",
       "      <td>930</td>\n",
       "      <td>2521</td>\n",
       "      <td>11</td>\n",
       "      <td>468</td>\n",
       "      <td>0</td>\n",
       "    </tr>\n",
       "    <tr>\n",
       "      <th>7</th>\n",
       "      <td>39</td>\n",
       "      <td>2330</td>\n",
       "      <td>670</td>\n",
       "      <td>2584</td>\n",
       "      <td>1</td>\n",
       "      <td>415</td>\n",
       "      <td>0</td>\n",
       "    </tr>\n",
       "    <tr>\n",
       "      <th>8</th>\n",
       "      <td>44</td>\n",
       "      <td>2675</td>\n",
       "      <td>325</td>\n",
       "      <td>2572</td>\n",
       "      <td>0</td>\n",
       "      <td>428</td>\n",
       "      <td>0</td>\n",
       "    </tr>\n",
       "    <tr>\n",
       "      <th>9</th>\n",
       "      <td>49</td>\n",
       "      <td>2292</td>\n",
       "      <td>708</td>\n",
       "      <td>2641</td>\n",
       "      <td>0</td>\n",
       "      <td>359</td>\n",
       "      <td>0</td>\n",
       "    </tr>\n",
       "    <tr>\n",
       "      <th>10</th>\n",
       "      <td>54</td>\n",
       "      <td>2546</td>\n",
       "      <td>454</td>\n",
       "      <td>2613</td>\n",
       "      <td>0</td>\n",
       "      <td>387</td>\n",
       "      <td>0</td>\n",
       "    </tr>\n",
       "    <tr>\n",
       "      <th>11</th>\n",
       "      <td>59</td>\n",
       "      <td>2572</td>\n",
       "      <td>428</td>\n",
       "      <td>2647</td>\n",
       "      <td>0</td>\n",
       "      <td>353</td>\n",
       "      <td>0</td>\n",
       "    </tr>\n",
       "    <tr>\n",
       "      <th>12</th>\n",
       "      <td>64</td>\n",
       "      <td>2523</td>\n",
       "      <td>477</td>\n",
       "      <td>2657</td>\n",
       "      <td>0</td>\n",
       "      <td>343</td>\n",
       "      <td>0</td>\n",
       "    </tr>\n",
       "    <tr>\n",
       "      <th>13</th>\n",
       "      <td>69</td>\n",
       "      <td>2503</td>\n",
       "      <td>497</td>\n",
       "      <td>2664</td>\n",
       "      <td>0</td>\n",
       "      <td>336</td>\n",
       "      <td>0</td>\n",
       "    </tr>\n",
       "    <tr>\n",
       "      <th>14</th>\n",
       "      <td>74</td>\n",
       "      <td>2532</td>\n",
       "      <td>468</td>\n",
       "      <td>2650</td>\n",
       "      <td>0</td>\n",
       "      <td>350</td>\n",
       "      <td>0</td>\n",
       "    </tr>\n",
       "    <tr>\n",
       "      <th>15</th>\n",
       "      <td>79</td>\n",
       "      <td>2579</td>\n",
       "      <td>421</td>\n",
       "      <td>2663</td>\n",
       "      <td>0</td>\n",
       "      <td>337</td>\n",
       "      <td>0</td>\n",
       "    </tr>\n",
       "    <tr>\n",
       "      <th>16</th>\n",
       "      <td>84</td>\n",
       "      <td>2518</td>\n",
       "      <td>482</td>\n",
       "      <td>2660</td>\n",
       "      <td>0</td>\n",
       "      <td>340</td>\n",
       "      <td>0</td>\n",
       "    </tr>\n",
       "    <tr>\n",
       "      <th>17</th>\n",
       "      <td>89</td>\n",
       "      <td>2490</td>\n",
       "      <td>510</td>\n",
       "      <td>2664</td>\n",
       "      <td>0</td>\n",
       "      <td>336</td>\n",
       "      <td>0</td>\n",
       "    </tr>\n",
       "    <tr>\n",
       "      <th>18</th>\n",
       "      <td>94</td>\n",
       "      <td>2424</td>\n",
       "      <td>576</td>\n",
       "      <td>2679</td>\n",
       "      <td>0</td>\n",
       "      <td>321</td>\n",
       "      <td>0</td>\n",
       "    </tr>\n",
       "    <tr>\n",
       "      <th>19</th>\n",
       "      <td>99</td>\n",
       "      <td>2403</td>\n",
       "      <td>597</td>\n",
       "      <td>2655</td>\n",
       "      <td>0</td>\n",
       "      <td>345</td>\n",
       "      <td>0</td>\n",
       "    </tr>\n",
       "    <tr>\n",
       "      <th>20</th>\n",
       "      <td>104</td>\n",
       "      <td>2525</td>\n",
       "      <td>475</td>\n",
       "      <td>2641</td>\n",
       "      <td>0</td>\n",
       "      <td>359</td>\n",
       "      <td>0</td>\n",
       "    </tr>\n",
       "    <tr>\n",
       "      <th>21</th>\n",
       "      <td>109</td>\n",
       "      <td>2492</td>\n",
       "      <td>508</td>\n",
       "      <td>2676</td>\n",
       "      <td>0</td>\n",
       "      <td>324</td>\n",
       "      <td>0</td>\n",
       "    </tr>\n",
       "    <tr>\n",
       "      <th>22</th>\n",
       "      <td>114</td>\n",
       "      <td>2436</td>\n",
       "      <td>564</td>\n",
       "      <td>2659</td>\n",
       "      <td>0</td>\n",
       "      <td>341</td>\n",
       "      <td>0</td>\n",
       "    </tr>\n",
       "    <tr>\n",
       "      <th>23</th>\n",
       "      <td>119</td>\n",
       "      <td>2605</td>\n",
       "      <td>395</td>\n",
       "      <td>2658</td>\n",
       "      <td>0</td>\n",
       "      <td>342</td>\n",
       "      <td>0</td>\n",
       "    </tr>\n",
       "  </tbody>\n",
       "</table>\n",
       "</div>"
      ],
      "text/plain": [
       "    epochs  argmax > 0.5  ...  focus_true_pred_false  focus_false_pred_false\n",
       "0        4             0  ...                   1927                       0\n",
       "1        9          1179  ...                   1033                       0\n",
       "2       14           990  ...                    677                      55\n",
       "3       19          1021  ...                    516                       5\n",
       "4       24          1416  ...                    604                       0\n",
       "5       29          1509  ...                    415                       0\n",
       "6       34          2070  ...                    468                       0\n",
       "7       39          2330  ...                    415                       0\n",
       "8       44          2675  ...                    428                       0\n",
       "9       49          2292  ...                    359                       0\n",
       "10      54          2546  ...                    387                       0\n",
       "11      59          2572  ...                    353                       0\n",
       "12      64          2523  ...                    343                       0\n",
       "13      69          2503  ...                    336                       0\n",
       "14      74          2532  ...                    350                       0\n",
       "15      79          2579  ...                    337                       0\n",
       "16      84          2518  ...                    340                       0\n",
       "17      89          2490  ...                    336                       0\n",
       "18      94          2424  ...                    321                       0\n",
       "19      99          2403  ...                    345                       0\n",
       "20     104          2525  ...                    359                       0\n",
       "21     109          2492  ...                    324                       0\n",
       "22     114          2436  ...                    341                       0\n",
       "23     119          2605  ...                    342                       0\n",
       "\n",
       "[24 rows x 7 columns]"
      ]
     },
     "execution_count": 284,
     "metadata": {
      "tags": []
     },
     "output_type": "execute_result"
    }
   ],
   "source": [
    "df_train"
   ]
  },
  {
   "cell_type": "code",
   "execution_count": 285,
   "metadata": {
    "colab": {
     "base_uri": "https://localhost:8080/",
     "height": 573
    },
    "colab_type": "code",
    "id": "s-ZXousDr0T-",
    "outputId": "ce6ac721-6852-4498-e40c-0fbca479bbcd"
   },
   "outputs": [
    {
     "data": {
      "image/png": "[encoded data removed]",
      "text/plain": [
       "<Figure size 432x288 with 1 Axes>"
      ]
     },
     "metadata": {
      "tags": []
     },
     "output_type": "display_data"
    },
    {
     "data": {
      "image/png": "[encoded data removed]",
      "text/plain": [
       "<Figure size 432x288 with 1 Axes>"
      ]
     },
     "metadata": {
      "tags": []
     },
     "output_type": "display_data"
    }
   ],
   "source": [
    "plt.plot(col1,col2, label='argmax > 0.5')\n",
    "plt.plot(col1,col3, label='argmax < 0.5')\n",
    "\n",
    "plt.legend(loc='center left', bbox_to_anchor=(1, 0.5))\n",
    "plt.xlabel(\"epochs\")\n",
    "plt.ylabel(\"training data\")\n",
    "plt.title(\"On Training set\")\n",
    "plt.show()\n",
    "\n",
    "plt.plot(col1,col4, label =\"focus_true_pred_true \")\n",
    "plt.plot(col1,col5, label =\"focus_false_pred_true \")\n",
    "plt.plot(col1,col6, label =\"focus_true_pred_false \")\n",
    "plt.plot(col1,col7, label =\"focus_false_pred_false \")\n",
    "plt.title(\"On Training set\")\n",
    "plt.legend(loc='center left', bbox_to_anchor=(1, 0.5))\n",
    "plt.xlabel(\"epochs\")\n",
    "plt.ylabel(\"training data\")\n",
    "plt.show()"
   ]
  },
  {
   "cell_type": "code",
   "execution_count": 286,
   "metadata": {
    "colab": {
     "base_uri": "https://localhost:8080/",
     "height": 802
    },
    "colab_type": "code",
    "id": "LQip8h8jr0UA",
    "outputId": "2787e69b-b605-4932-f000-64e75a6ae582",
    "scrolled": true
   },
   "outputs": [
    {
     "data": {
      "text/html": [
       "<div>\n",
       "<style scoped>\n",
       "    .dataframe tbody tr th:only-of-type {\n",
       "        vertical-align: middle;\n",
       "    }\n",
       "\n",
       "    .dataframe tbody tr th {\n",
       "        vertical-align: top;\n",
       "    }\n",
       "\n",
       "    .dataframe thead th {\n",
       "        text-align: right;\n",
       "    }\n",
       "</style>\n",
       "<table border=\"1\" class=\"dataframe\">\n",
       "  <thead>\n",
       "    <tr style=\"text-align: right;\">\n",
       "      <th></th>\n",
       "      <th>epochs</th>\n",
       "      <th>argmax &gt; 0.5</th>\n",
       "      <th>argmax &lt; 0.5</th>\n",
       "      <th>focus_true_pred_true</th>\n",
       "      <th>focus_false_pred_true</th>\n",
       "      <th>focus_true_pred_false</th>\n",
       "      <th>focus_false_pred_false</th>\n",
       "    </tr>\n",
       "  </thead>\n",
       "  <tbody>\n",
       "    <tr>\n",
       "      <th>0</th>\n",
       "      <td>4</td>\n",
       "      <td>0</td>\n",
       "      <td>1000</td>\n",
       "      <td>333</td>\n",
       "      <td>0</td>\n",
       "      <td>667</td>\n",
       "      <td>0</td>\n",
       "    </tr>\n",
       "    <tr>\n",
       "      <th>1</th>\n",
       "      <td>9</td>\n",
       "      <td>355</td>\n",
       "      <td>645</td>\n",
       "      <td>682</td>\n",
       "      <td>4</td>\n",
       "      <td>314</td>\n",
       "      <td>0</td>\n",
       "    </tr>\n",
       "    <tr>\n",
       "      <th>2</th>\n",
       "      <td>14</td>\n",
       "      <td>294</td>\n",
       "      <td>706</td>\n",
       "      <td>741</td>\n",
       "      <td>66</td>\n",
       "      <td>186</td>\n",
       "      <td>7</td>\n",
       "    </tr>\n",
       "    <tr>\n",
       "      <th>3</th>\n",
       "      <td>19</td>\n",
       "      <td>371</td>\n",
       "      <td>629</td>\n",
       "      <td>839</td>\n",
       "      <td>16</td>\n",
       "      <td>145</td>\n",
       "      <td>0</td>\n",
       "    </tr>\n",
       "    <tr>\n",
       "      <th>4</th>\n",
       "      <td>24</td>\n",
       "      <td>370</td>\n",
       "      <td>630</td>\n",
       "      <td>818</td>\n",
       "      <td>10</td>\n",
       "      <td>172</td>\n",
       "      <td>0</td>\n",
       "    </tr>\n",
       "    <tr>\n",
       "      <th>5</th>\n",
       "      <td>29</td>\n",
       "      <td>546</td>\n",
       "      <td>454</td>\n",
       "      <td>862</td>\n",
       "      <td>6</td>\n",
       "      <td>132</td>\n",
       "      <td>0</td>\n",
       "    </tr>\n",
       "    <tr>\n",
       "      <th>6</th>\n",
       "      <td>34</td>\n",
       "      <td>761</td>\n",
       "      <td>239</td>\n",
       "      <td>823</td>\n",
       "      <td>0</td>\n",
       "      <td>177</td>\n",
       "      <td>0</td>\n",
       "    </tr>\n",
       "    <tr>\n",
       "      <th>7</th>\n",
       "      <td>39</td>\n",
       "      <td>660</td>\n",
       "      <td>340</td>\n",
       "      <td>825</td>\n",
       "      <td>1</td>\n",
       "      <td>174</td>\n",
       "      <td>0</td>\n",
       "    </tr>\n",
       "    <tr>\n",
       "      <th>8</th>\n",
       "      <td>44</td>\n",
       "      <td>823</td>\n",
       "      <td>177</td>\n",
       "      <td>867</td>\n",
       "      <td>0</td>\n",
       "      <td>133</td>\n",
       "      <td>0</td>\n",
       "    </tr>\n",
       "    <tr>\n",
       "      <th>9</th>\n",
       "      <td>49</td>\n",
       "      <td>731</td>\n",
       "      <td>269</td>\n",
       "      <td>884</td>\n",
       "      <td>0</td>\n",
       "      <td>116</td>\n",
       "      <td>0</td>\n",
       "    </tr>\n",
       "    <tr>\n",
       "      <th>10</th>\n",
       "      <td>54</td>\n",
       "      <td>907</td>\n",
       "      <td>93</td>\n",
       "      <td>900</td>\n",
       "      <td>0</td>\n",
       "      <td>100</td>\n",
       "      <td>0</td>\n",
       "    </tr>\n",
       "    <tr>\n",
       "      <th>11</th>\n",
       "      <td>59</td>\n",
       "      <td>931</td>\n",
       "      <td>69</td>\n",
       "      <td>888</td>\n",
       "      <td>0</td>\n",
       "      <td>112</td>\n",
       "      <td>0</td>\n",
       "    </tr>\n",
       "    <tr>\n",
       "      <th>12</th>\n",
       "      <td>64</td>\n",
       "      <td>800</td>\n",
       "      <td>200</td>\n",
       "      <td>888</td>\n",
       "      <td>0</td>\n",
       "      <td>112</td>\n",
       "      <td>0</td>\n",
       "    </tr>\n",
       "    <tr>\n",
       "      <th>13</th>\n",
       "      <td>69</td>\n",
       "      <td>766</td>\n",
       "      <td>234</td>\n",
       "      <td>899</td>\n",
       "      <td>0</td>\n",
       "      <td>101</td>\n",
       "      <td>0</td>\n",
       "    </tr>\n",
       "    <tr>\n",
       "      <th>14</th>\n",
       "      <td>74</td>\n",
       "      <td>811</td>\n",
       "      <td>189</td>\n",
       "      <td>892</td>\n",
       "      <td>0</td>\n",
       "      <td>108</td>\n",
       "      <td>0</td>\n",
       "    </tr>\n",
       "    <tr>\n",
       "      <th>15</th>\n",
       "      <td>79</td>\n",
       "      <td>939</td>\n",
       "      <td>61</td>\n",
       "      <td>876</td>\n",
       "      <td>0</td>\n",
       "      <td>124</td>\n",
       "      <td>0</td>\n",
       "    </tr>\n",
       "    <tr>\n",
       "      <th>16</th>\n",
       "      <td>84</td>\n",
       "      <td>872</td>\n",
       "      <td>128</td>\n",
       "      <td>891</td>\n",
       "      <td>0</td>\n",
       "      <td>109</td>\n",
       "      <td>0</td>\n",
       "    </tr>\n",
       "    <tr>\n",
       "      <th>17</th>\n",
       "      <td>89</td>\n",
       "      <td>836</td>\n",
       "      <td>164</td>\n",
       "      <td>885</td>\n",
       "      <td>0</td>\n",
       "      <td>115</td>\n",
       "      <td>0</td>\n",
       "    </tr>\n",
       "    <tr>\n",
       "      <th>18</th>\n",
       "      <td>94</td>\n",
       "      <td>829</td>\n",
       "      <td>171</td>\n",
       "      <td>892</td>\n",
       "      <td>0</td>\n",
       "      <td>108</td>\n",
       "      <td>0</td>\n",
       "    </tr>\n",
       "    <tr>\n",
       "      <th>19</th>\n",
       "      <td>99</td>\n",
       "      <td>789</td>\n",
       "      <td>211</td>\n",
       "      <td>895</td>\n",
       "      <td>0</td>\n",
       "      <td>105</td>\n",
       "      <td>0</td>\n",
       "    </tr>\n",
       "    <tr>\n",
       "      <th>20</th>\n",
       "      <td>104</td>\n",
       "      <td>806</td>\n",
       "      <td>194</td>\n",
       "      <td>887</td>\n",
       "      <td>0</td>\n",
       "      <td>113</td>\n",
       "      <td>0</td>\n",
       "    </tr>\n",
       "    <tr>\n",
       "      <th>21</th>\n",
       "      <td>109</td>\n",
       "      <td>806</td>\n",
       "      <td>194</td>\n",
       "      <td>898</td>\n",
       "      <td>0</td>\n",
       "      <td>102</td>\n",
       "      <td>0</td>\n",
       "    </tr>\n",
       "    <tr>\n",
       "      <th>22</th>\n",
       "      <td>114</td>\n",
       "      <td>935</td>\n",
       "      <td>65</td>\n",
       "      <td>862</td>\n",
       "      <td>0</td>\n",
       "      <td>138</td>\n",
       "      <td>0</td>\n",
       "    </tr>\n",
       "    <tr>\n",
       "      <th>23</th>\n",
       "      <td>119</td>\n",
       "      <td>887</td>\n",
       "      <td>113</td>\n",
       "      <td>895</td>\n",
       "      <td>0</td>\n",
       "      <td>105</td>\n",
       "      <td>0</td>\n",
       "    </tr>\n",
       "  </tbody>\n",
       "</table>\n",
       "</div>"
      ],
      "text/plain": [
       "    epochs  argmax > 0.5  ...  focus_true_pred_false  focus_false_pred_false\n",
       "0        4             0  ...                    667                       0\n",
       "1        9           355  ...                    314                       0\n",
       "2       14           294  ...                    186                       7\n",
       "3       19           371  ...                    145                       0\n",
       "4       24           370  ...                    172                       0\n",
       "5       29           546  ...                    132                       0\n",
       "6       34           761  ...                    177                       0\n",
       "7       39           660  ...                    174                       0\n",
       "8       44           823  ...                    133                       0\n",
       "9       49           731  ...                    116                       0\n",
       "10      54           907  ...                    100                       0\n",
       "11      59           931  ...                    112                       0\n",
       "12      64           800  ...                    112                       0\n",
       "13      69           766  ...                    101                       0\n",
       "14      74           811  ...                    108                       0\n",
       "15      79           939  ...                    124                       0\n",
       "16      84           872  ...                    109                       0\n",
       "17      89           836  ...                    115                       0\n",
       "18      94           829  ...                    108                       0\n",
       "19      99           789  ...                    105                       0\n",
       "20     104           806  ...                    113                       0\n",
       "21     109           806  ...                    102                       0\n",
       "22     114           935  ...                    138                       0\n",
       "23     119           887  ...                    105                       0\n",
       "\n",
       "[24 rows x 7 columns]"
      ]
     },
     "execution_count": 286,
     "metadata": {
      "tags": []
     },
     "output_type": "execute_result"
    }
   ],
   "source": [
    "df_test"
   ]
  },
  {
   "cell_type": "code",
   "execution_count": 287,
   "metadata": {
    "colab": {
     "base_uri": "https://localhost:8080/",
     "height": 573
    },
    "colab_type": "code",
    "id": "oCJcmk19r0UD",
    "outputId": "3065f949-9c3d-4747-9be2-fc4e4f4f1546"
   },
   "outputs": [
    {
     "data": {
      "image/png": "[encoded data removed]",
      "text/plain": [
       "<Figure size 432x288 with 1 Axes>"
      ]
     },
     "metadata": {
      "tags": []
     },
     "output_type": "display_data"
    },
    {
     "data": {
      "image/png": "[encoded data removed]",
      "text/plain": [
       "<Figure size 432x288 with 1 Axes>"
      ]
     },
     "metadata": {
      "tags": []
     },
     "output_type": "display_data"
    }
   ],
   "source": [
    "plt.plot(col1,col8, label='argmax > 0.5')\n",
    "plt.plot(col1,col9, label='argmax < 0.5')\n",
    "\n",
    "plt.legend(loc='center left', bbox_to_anchor=(1, 0.5))\n",
    "plt.xlabel(\"epochs\")\n",
    "plt.ylabel(\"Testing data\")\n",
    "plt.title(\"On Testing set\")\n",
    "plt.show()\n",
    "\n",
    "plt.plot(col1,col10, label =\"focus_true_pred_true \")\n",
    "plt.plot(col1,col11, label =\"focus_false_pred_true \")\n",
    "plt.plot(col1,col12, label =\"focus_true_pred_false \")\n",
    "plt.plot(col1,col13, label =\"focus_false_pred_false \")\n",
    "plt.title(\"On Testing set\")\n",
    "plt.legend(loc='center left', bbox_to_anchor=(1, 0.5))\n",
    "plt.xlabel(\"epochs\")\n",
    "plt.ylabel(\"Testing data\")\n",
    "plt.show()"
   ]
  },
  {
   "cell_type": "code",
   "execution_count": 288,
   "metadata": {
    "colab": {
     "base_uri": "https://localhost:8080/",
     "height": 34
    },
    "colab_type": "code",
    "id": "GJusn9Dsr0UF",
    "outputId": "841e957c-419f-43b4-a67d-e20178feb034"
   },
   "outputs": [
    {
     "name": "stdout",
     "output_type": "stream",
     "text": [
      "[ 0.26274649 -1.52869138]\n"
     ]
    }
   ],
   "source": [
    "print(x[0])"
   ]
  },
  {
   "cell_type": "code",
   "execution_count": 289,
   "metadata": {
    "colab": {
     "base_uri": "https://localhost:8080/",
     "height": 173
    },
    "colab_type": "code",
    "id": "KmTzai-gr0UH",
    "outputId": "e1022706-fb55-4b9b-9496-65d3ac3ffa38"
   },
   "outputs": [
    {
     "name": "stdout",
     "output_type": "stream",
     "text": [
      "[ 0.26274649 -1.52869138]\n",
      "[]\n",
      "[]\n",
      "[]\n",
      "[]\n",
      "[]\n",
      "[]\n",
      "[]\n",
      "[]\n"
     ]
    }
   ],
   "source": [
    "for i in range(9):\n",
    "    print(x[0,2*i:2*i+2])"
   ]
  },
  {
   "cell_type": "code",
   "execution_count": 0,
   "metadata": {
    "colab": {},
    "colab_type": "code",
    "id": "YH_sdpkhr0UK"
   },
   "outputs": [],
   "source": []
  }
 ],
 "metadata": {
  "accelerator": "GPU",
  "colab": {
   "name": "Copy of toy_problem_Mosaic.ipynb",
   "provenance": []
  },
  "kernelspec": {
   "display_name": "Python 3",
   "language": "python",
   "name": "python3"
  },
  "language_info": {
   "codemirror_mode": {
    "name": "ipython",
    "version": 3
   },
   "file_extension": ".py",
   "mimetype": "text/x-python",
   "name": "python",
   "nbconvert_exporter": "python",
   "pygments_lexer": "ipython3",
   "version": "3.6.5"
  }
 },
 "nbformat": 4,
 "nbformat_minor": 1
}
