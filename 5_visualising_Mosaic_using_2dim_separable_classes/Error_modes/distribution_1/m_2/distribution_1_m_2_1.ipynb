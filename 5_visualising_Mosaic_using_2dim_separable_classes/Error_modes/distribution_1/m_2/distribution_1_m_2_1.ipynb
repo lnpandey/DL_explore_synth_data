{
  "nbformat": 4,
  "nbformat_minor": 0,
  "metadata": {
    "accelerator": "GPU",
    "colab": {
      "name": "distribution_1_m_2.ipynb",
      "provenance": [],
      "collapsed_sections": [],
      "toc_visible": true
    },
    "kernelspec": {
      "display_name": "Python 3",
      "language": "python",
      "name": "python3"
    },
    "language_info": {
      "codemirror_mode": {
        "name": "ipython",
        "version": 3
      },
      "file_extension": ".py",
      "mimetype": "text/x-python",
      "name": "python",
      "nbconvert_exporter": "python",
      "pygments_lexer": "ipython3",
      "version": "3.6.5"
    }
  },
  "cells": [
    {
      "cell_type": "code",
      "metadata": {
        "colab": {
          "base_uri": "https://localhost:8080/"
        },
        "id": "N2_J4Rw2r0SQ",
        "outputId": "ea78c9b3-5561-4669-ab64-5cb58c629e6a"
      },
      "source": [
        "import numpy as np\n",
        "import pandas as pd\n",
        "from matplotlib import pyplot as plt\n",
        "from tqdm import tqdm\n",
        "%matplotlib inline\n",
        "from torch.utils.data import Dataset, DataLoader\n",
        "import torch\n",
        "import torchvision\n",
        "\n",
        "import torch.nn as nn\n",
        "import torch.optim as optim\n",
        "from torch.nn import functional as F\n",
        "device = torch.device(\"cuda\" if torch.cuda.is_available() else \"cpu\")\n",
        "print(device)"
      ],
      "execution_count": 1,
      "outputs": [
        {
          "output_type": "stream",
          "text": [
            "cuda\n"
          ],
          "name": "stdout"
        }
      ]
    },
    {
      "cell_type": "markdown",
      "metadata": {
        "id": "F6fjud_Fr0Sa"
      },
      "source": [
        "# Generate dataset"
      ]
    },
    {
      "cell_type": "code",
      "metadata": {
        "colab": {
          "base_uri": "https://localhost:8080/"
        },
        "id": "CqdXHO0Cr0Sd",
        "outputId": "8d18edef-0bab-48ff-c01c-1818f37dd3da"
      },
      "source": [
        "y = np.random.randint(0,4,1200)\n",
        "idx= []\n",
        "for i in range(4):\n",
        "    print(i,sum(y==i))\n",
        "    idx.append(y==i)"
      ],
      "execution_count": 2,
      "outputs": [
        {
          "output_type": "stream",
          "text": [
            "0 308\n",
            "1 294\n",
            "2 288\n",
            "3 310\n"
          ],
          "name": "stdout"
        }
      ]
    },
    {
      "cell_type": "code",
      "metadata": {
        "id": "ddhXyODwr0Sk"
      },
      "source": [
        "x = np.zeros((1200,2))"
      ],
      "execution_count": 3,
      "outputs": []
    },
    {
      "cell_type": "code",
      "metadata": {
        "id": "DbWPELOH0ae4"
      },
      "source": [
        "\r\n",
        "\r\n",
        "x[idx[0],:] = np.random.uniform(low=[5,2],high=[6,4],size=(sum(idx[0]),2))\r\n",
        "\r\n",
        "x[idx[1],:] = np.random.uniform(low=[5,-3],high=[6,-5],size=(sum(idx[1]),2))\r\n",
        "\r\n",
        "x[idx[2],:] = np.random.uniform(low=[8,0],high=[9,-2],size=(sum(idx[2]),2))\r\n",
        "\r\n",
        "x[idx[3],:] = np.random.uniform(low=[1,-1],high=[2,5],size=(sum(idx[3]),2))"
      ],
      "execution_count": 4,
      "outputs": []
    },
    {
      "cell_type": "code",
      "metadata": {
        "id": "DyV3N2DIr0Sp"
      },
      "source": [
        "# x[idx[0],:] = np.random.multivariate_normal(mean = [5,5],cov=[[0.1,0],[0,0.1]],size=sum(idx[0]))\n",
        "\n",
        "# x[idx[1],:] = np.random.multivariate_normal(mean = [-6,7],cov=[[0.1,0],[0,0.1]],size=sum(idx[1]))\n",
        "\n",
        "# x[idx[2],:] = np.random.multivariate_normal(mean = [-5,-4],cov=[[0.1,0],[0,0.1]],size=sum(idx[2]))\n",
        "\n",
        "# x[idx[0],:] = np.random.multivariate_normal(mean = [5.5,4],cov=[[0.1,0],[0,0.1]],size=sum(idx[0]))\n",
        "\n",
        "# x[idx[1],:] = np.random.multivariate_normal(mean = [6,6.5],cov=[[0.1,0],[0,0.1]],size=sum(idx[1]))\n",
        "\n",
        "# x[idx[2],:] = np.random.multivariate_normal(mean = [4,6],cov=[[0.1,0],[0,0.1]],size=sum(idx[2]))\n",
        "\n",
        "# x[idx[3],:] = np.random.multivariate_normal(mean = [-1,0],cov=[[0.1,0],[0,0.1]],size=sum(idx[3]))\n",
        "\n",
        "\n",
        "# x[idx[4],:] = np.random.multivariate_normal(mean = [0,2],cov=[[0.1,0],[0,0.1]],size=sum(idx[4]))\n",
        "\n",
        "# x[idx[5],:] = np.random.multivariate_normal(mean = [1,0],cov=[[0.1,0],[0,0.1]],size=sum(idx[5]))\n",
        "\n",
        "# x[idx[6],:] = np.random.multivariate_normal(mean = [0,-1],cov=[[0.1,0],[0,0.1]],size=sum(idx[6]))\n",
        "\n",
        "# x[idx[7],:] = np.random.multivariate_normal(mean = [0,0],cov=[[0.1,0],[0,0.1]],size=sum(idx[7]))\n",
        "\n",
        "# x[idx[8],:] = np.random.multivariate_normal(mean = [-0.5,-0.5],cov=[[0.1,0],[0,0.1]],size=sum(idx[8]))\n",
        "\n",
        "# x[idx[9],:] = np.random.multivariate_normal(mean = [0.4,0.2],cov=[[0.1,0],[0,0.1]],size=sum(idx[9]))"
      ],
      "execution_count": 5,
      "outputs": []
    },
    {
      "cell_type": "code",
      "metadata": {
        "colab": {
          "base_uri": "https://localhost:8080/",
          "height": 265
        },
        "id": "hJ8Jm7YUr0St",
        "outputId": "771f4cee-36e6-47d4-cbcc-9a3be9550b49"
      },
      "source": [
        "for i in range(4):\n",
        "    plt.scatter(x[idx[i],0],x[idx[i],1],label=\"class_\"+str(i))\n",
        "plt.legend(loc='center left', bbox_to_anchor=(1, 0.5))\n",
        "plt.savefig(\"type3_2_dist.png\",bbox_inches=\"tight\")\n",
        "plt.savefig(\"type3_2_dist.pdf\",bbox_inches=\"tight\")\n"
      ],
      "execution_count": 6,
      "outputs": [
        {
          "output_type": "display_data",
          "data": {
            "image/png": "[encoded data removed]",
            "text/plain": [
              "<Figure size 432x288 with 1 Axes>"
            ]
          },
          "metadata": {
            "tags": [],
            "needs_background": "light"
          }
        }
      ]
    },
    {
      "cell_type": "code",
      "metadata": {
        "id": "UfFHcZJOr0Sz"
      },
      "source": [
        "foreground_classes = {'class_0','class_1', 'class_2'}\n",
        "\n",
        "background_classes = {'class_3'}"
      ],
      "execution_count": 7,
      "outputs": []
    },
    {
      "cell_type": "code",
      "metadata": {
        "colab": {
          "base_uri": "https://localhost:8080/"
        },
        "id": "OplNpNQVr0S2",
        "outputId": "389508ab-ee68-4d92-f42e-c7f1d9fa0fb7"
      },
      "source": [
        "fg_class  = np.random.randint(0,3)\n",
        "fg_idx = np.random.randint(0,2)\n",
        "\n",
        "a = []\n",
        "for i in range(2):\n",
        "    if i == fg_idx:\n",
        "        b = np.random.choice(np.where(idx[fg_class]==True)[0],size=1)\n",
        "        a.append(x[b])\n",
        "        print(\"foreground \"+str(fg_class)+\" present at \" + str(fg_idx))\n",
        "    else:\n",
        "        bg_class = np.random.randint(3,4)\n",
        "        b = np.random.choice(np.where(idx[bg_class]==True)[0],size=1)\n",
        "        a.append(x[b])\n",
        "        print(\"background \"+str(bg_class)+\" present at \" + str(i))\n",
        "a = np.concatenate(a,axis=0)\n",
        "print(a.shape)\n",
        "\n",
        "print(fg_class , fg_idx)"
      ],
      "execution_count": 8,
      "outputs": [
        {
          "output_type": "stream",
          "text": [
            "background 3 present at 0\n",
            "foreground 2 present at 1\n",
            "(2, 2)\n",
            "2 1\n"
          ],
          "name": "stdout"
        }
      ]
    },
    {
      "cell_type": "code",
      "metadata": {
        "colab": {
          "base_uri": "https://localhost:8080/"
        },
        "id": "dwZVmmRBr0S8",
        "outputId": "54553508-a20c-47c5-fc9a-c34510f921ed"
      },
      "source": [
        "a.shape"
      ],
      "execution_count": 9,
      "outputs": [
        {
          "output_type": "execute_result",
          "data": {
            "text/plain": [
              "(2, 2)"
            ]
          },
          "metadata": {
            "tags": []
          },
          "execution_count": 9
        }
      ]
    },
    {
      "cell_type": "code",
      "metadata": {
        "colab": {
          "base_uri": "https://localhost:8080/"
        },
        "id": "OoxzYI-ur0S_",
        "outputId": "4678fac2-21bb-44b0-ff71-2e87f6abfc47"
      },
      "source": [
        "np.reshape(a,(4,1))"
      ],
      "execution_count": 10,
      "outputs": [
        {
          "output_type": "execute_result",
          "data": {
            "text/plain": [
              "array([[ 1.7405583 ],\n",
              "       [-0.50912507],\n",
              "       [ 8.69777525],\n",
              "       [-1.03601154]])"
            ]
          },
          "metadata": {
            "tags": []
          },
          "execution_count": 10
        }
      ]
    },
    {
      "cell_type": "code",
      "metadata": {
        "id": "jqbvfbwVr0TN"
      },
      "source": [
        "desired_num = 3000\n",
        "mosaic_list =[]\n",
        "mosaic_label = []\n",
        "fore_idx=[]\n",
        "for j in range(desired_num):\n",
        "    fg_class  = np.random.randint(0,3)\n",
        "    fg_idx = np.random.randint(0,2)\n",
        "    a = []\n",
        "    for i in range(2):  #m=2\n",
        "        if i == fg_idx:\n",
        "            b = np.random.choice(np.where(idx[fg_class]==True)[0],size=1)\n",
        "            a.append(x[b])\n",
        "#             print(\"foreground \"+str(fg_class)+\" present at \" + str(fg_idx))\n",
        "        else:\n",
        "            bg_class = np.random.randint(3,4)\n",
        "            b = np.random.choice(np.where(idx[bg_class]==True)[0],size=1)\n",
        "            a.append(x[b])\n",
        "#             print(\"background \"+str(bg_class)+\" present at \" + str(i))\n",
        "    a = np.concatenate(a,axis=0)\n",
        "    mosaic_list.append(np.reshape(a,(4,1)))\n",
        "    mosaic_label.append(fg_class)\n",
        "    fore_idx.append(fg_idx)"
      ],
      "execution_count": 11,
      "outputs": []
    },
    {
      "cell_type": "code",
      "metadata": {
        "id": "BOsFmWfMr0TR"
      },
      "source": [
        "mosaic_list = np.concatenate(mosaic_list,axis=1).T\n",
        "# print(mosaic_list)"
      ],
      "execution_count": 12,
      "outputs": []
    },
    {
      "cell_type": "code",
      "metadata": {
        "colab": {
          "base_uri": "https://localhost:8080/"
        },
        "id": "C2PnW7aQr0TT",
        "outputId": "223496f3-51cc-425e-cced-4b7fdb8e9406"
      },
      "source": [
        "print(np.shape(mosaic_label))\n",
        "print(np.shape(fore_idx))"
      ],
      "execution_count": 13,
      "outputs": [
        {
          "output_type": "stream",
          "text": [
            "(3000,)\n",
            "(3000,)\n"
          ],
          "name": "stdout"
        }
      ]
    },
    {
      "cell_type": "code",
      "metadata": {
        "id": "yL0BRf8er0TX"
      },
      "source": [
        "class MosaicDataset(Dataset):\n",
        "  \"\"\"MosaicDataset dataset.\"\"\"\n",
        "\n",
        "  def __init__(self, mosaic_list, mosaic_label, fore_idx):\n",
        "    \"\"\"\n",
        "      Args:\n",
        "        csv_file (string): Path to the csv file with annotations.\n",
        "        root_dir (string): Directory with all the images.\n",
        "        transform (callable, optional): Optional transform to be applied\n",
        "            on a sample.\n",
        "    \"\"\"\n",
        "    self.mosaic = mosaic_list\n",
        "    self.label = mosaic_label\n",
        "    self.fore_idx = fore_idx\n",
        "\n",
        "  def __len__(self):\n",
        "    return len(self.label)\n",
        "\n",
        "  def __getitem__(self, idx):\n",
        "    return self.mosaic[idx] , self.label[idx], self.fore_idx[idx]\n",
        "\n",
        "batch = 250\n",
        "msd = MosaicDataset(mosaic_list, mosaic_label , fore_idx)\n",
        "train_loader = DataLoader( msd,batch_size= batch ,shuffle=True)"
      ],
      "execution_count": 14,
      "outputs": []
    },
    {
      "cell_type": "code",
      "metadata": {
        "id": "ZVRXgwwNr0Tb"
      },
      "source": [
        "class Wherenet(nn.Module):\n",
        "    def __init__(self):\n",
        "        super(Wherenet,self).__init__()\n",
        "        self.linear1 = nn.Linear(2,1)\n",
        "\n",
        "    def forward(self,z):\n",
        "        x = torch.zeros([batch,2],dtype=torch.float64)  #m=2\n",
        "        y = torch.zeros([batch,2], dtype=torch.float64)\n",
        "        #x,y = x.to(\"cuda\"),y.to(\"cuda\")\n",
        "        for i in range(2):  #m=2\n",
        "          x[:,i] = self.helper(z[:,2*i:2*i+2])[:,0]\n",
        "            #print(k[:,0].shape,x[:,i].shape)\n",
        "        x = F.softmax(x,dim=1)   # alphas\n",
        "        x1 = x[:,0]\n",
        "        for i in range(2): #m=2\n",
        "            x1 = x[:,i]          \n",
        "            #print()\n",
        "            y = y+torch.mul(x1[:,None],z[:,2*i:2*i+2])\n",
        "        return y , x \n",
        "\n",
        "    \n",
        "    def helper(self,x):\n",
        "        #x = F.relu(self.linear1(x))\n",
        "        #x = F.relu(self.linear2(x))\n",
        "        x = self.linear1(x)\n",
        "        return x\n",
        "\n",
        "    "
      ],
      "execution_count": 15,
      "outputs": []
    },
    {
      "cell_type": "code",
      "metadata": {
        "id": "f-Ek05Kxr0Te"
      },
      "source": [
        "trainiter = iter(train_loader)\n",
        "input1,labels1,index1 = trainiter.next()\n",
        "\n"
      ],
      "execution_count": 16,
      "outputs": []
    },
    {
      "cell_type": "code",
      "metadata": {
        "colab": {
          "base_uri": "https://localhost:8080/"
        },
        "id": "SxEmWZI6r0Ti",
        "outputId": "c0b7d0b0-32f1-42b3-a539-1d6d9743fbba"
      },
      "source": [
        "where = Wherenet().double()\n",
        "where = where\n",
        "out_where,alphas = where(input1)\n",
        "out_where.shape,alphas.shape"
      ],
      "execution_count": 17,
      "outputs": [
        {
          "output_type": "execute_result",
          "data": {
            "text/plain": [
              "(torch.Size([250, 2]), torch.Size([250, 2]))"
            ]
          },
          "metadata": {
            "tags": []
          },
          "execution_count": 17
        }
      ]
    },
    {
      "cell_type": "code",
      "metadata": {
        "id": "5_XeIUk0r0Tl"
      },
      "source": [
        "class Whatnet(nn.Module):\n",
        "    def __init__(self):\n",
        "        super(Whatnet,self).__init__()\n",
        "        self.linear1 = nn.Linear(2,3)\n",
        "        #self.linear2 = nn.Linear(4,3)\n",
        "#         self.linear3 = nn.Linear(8,3)\n",
        "    def forward(self,x):\n",
        "        #x = F.relu(self.linear1(x))\n",
        "        #x = F.relu(self.linear2(x))\n",
        "        x = self.linear1(x)\n",
        "        return x"
      ],
      "execution_count": 18,
      "outputs": []
    },
    {
      "cell_type": "code",
      "metadata": {
        "id": "l35i9bIlr0Tp"
      },
      "source": [
        "what = Whatnet().double()\n",
        "# what(out_where)"
      ],
      "execution_count": 19,
      "outputs": []
    },
    {
      "cell_type": "code",
      "metadata": {
        "id": "tMEoCLo1r0Tt"
      },
      "source": [
        "test_data_required = 1000\n",
        "mosaic_list_test =[]\n",
        "mosaic_label_test = []\n",
        "fore_idx_test=[]\n",
        "for j in range(test_data_required):\n",
        "    fg_class  = np.random.randint(0,3)\n",
        "    fg_idx = np.random.randint(0,2)  #m=2\n",
        "    a = []\n",
        "    for i in range(2): #m=2\n",
        "        if i == fg_idx:\n",
        "            b = np.random.choice(np.where(idx[fg_class]==True)[0],size=1)\n",
        "            a.append(x[b])\n",
        "#             print(\"foreground \"+str(fg_class)+\" present at \" + str(fg_idx))\n",
        "        else:\n",
        "            bg_class = np.random.randint(3,4)\n",
        "            b = np.random.choice(np.where(idx[bg_class]==True)[0],size=1)\n",
        "            a.append(x[b])\n",
        "#             print(\"background \"+str(bg_class)+\" present at \" + str(i))\n",
        "    a = np.concatenate(a,axis=0)\n",
        "    mosaic_list_test.append(np.reshape(a,(4,1)))\n",
        "    mosaic_label_test.append(fg_class)\n",
        "    fore_idx_test.append(fg_idx)"
      ],
      "execution_count": 20,
      "outputs": []
    },
    {
      "cell_type": "code",
      "metadata": {
        "colab": {
          "base_uri": "https://localhost:8080/"
        },
        "id": "2Naetxvbr0Tw",
        "outputId": "026e88d4-e3cd-4326-f3a9-8b50543a2b9b"
      },
      "source": [
        "mosaic_list_test = np.concatenate(mosaic_list_test,axis=1).T\n",
        "print(mosaic_list_test.shape)"
      ],
      "execution_count": 21,
      "outputs": [
        {
          "output_type": "stream",
          "text": [
            "(1000, 4)\n"
          ],
          "name": "stdout"
        }
      ]
    },
    {
      "cell_type": "code",
      "metadata": {
        "id": "Os4KxqrFr0Tz"
      },
      "source": [
        "test_data = MosaicDataset(mosaic_list_test,mosaic_label_test,fore_idx_test)\n",
        "test_loader = DataLoader( test_data,batch_size= batch ,shuffle=False)"
      ],
      "execution_count": 22,
      "outputs": []
    },
    {
      "cell_type": "code",
      "metadata": {
        "colab": {
          "base_uri": "https://localhost:8080/"
        },
        "id": "pPQY-Wpcr0T2",
        "scrolled": true,
        "outputId": "ed0c4a26-7686-4cf6-fa0c-e006f3bc56da"
      },
      "source": [
        "\n",
        "focus_true_pred_true =0\n",
        "focus_false_pred_true =0\n",
        "focus_true_pred_false =0\n",
        "focus_false_pred_false =0\n",
        "\n",
        "argmax_more_than_half = 0\n",
        "argmax_less_than_half =0\n",
        "\n",
        "col1=[]\n",
        "col2=[]\n",
        "col3=[]\n",
        "col4=[]\n",
        "col5=[]\n",
        "col6=[]\n",
        "col7=[]\n",
        "col8=[]\n",
        "col9=[]\n",
        "col10=[]\n",
        "col11=[]\n",
        "col12=[]\n",
        "col13=[]\n",
        "\n",
        "criterion = nn.CrossEntropyLoss()\n",
        "optimizer_where = optim.SGD(where.parameters(), lr=0.01, momentum=0.9)\n",
        "optimizer_what = optim.SGD(what.parameters(), lr=0.01, momentum=0.9)\n",
        "\n",
        "nos_epochs = 100\n",
        "\n",
        "train_loss=[]\n",
        "test_loss =[]\n",
        "train_acc = []\n",
        "test_acc = []\n",
        "for epoch in range(nos_epochs):  # loop over the dataset multiple times\n",
        "\n",
        "    focus_true_pred_true =0\n",
        "    focus_false_pred_true =0\n",
        "    focus_true_pred_false =0\n",
        "    focus_false_pred_false =0\n",
        "\n",
        "    argmax_more_than_half = 0\n",
        "    argmax_less_than_half =0\n",
        "\n",
        "    running_loss = 0.0\n",
        "    cnt=0\n",
        "\n",
        "    iteration = desired_num // batch\n",
        "\n",
        "    #training data set\n",
        "\n",
        "    for i, data in  enumerate(train_loader):\n",
        "        inputs , labels , fore_idx = data\n",
        "        #inputs,labels,fore_idx = inputs.to(device),labels.to(device),fore_idx.to(device)\n",
        "        # zero the parameter gradients\n",
        "\n",
        "        optimizer_what.zero_grad()\n",
        "        optimizer_where.zero_grad()\n",
        "        \n",
        "        \n",
        "        avg_inp,alphas = where(inputs)\n",
        "        \n",
        "        outputs = what(avg_inp)\n",
        "        \n",
        "        _, predicted = torch.max(outputs.data, 1)\n",
        "        \n",
        "        loss = criterion(outputs, labels) \n",
        "        loss.backward() \n",
        "        \n",
        "        optimizer_what.step()\n",
        "        optimizer_where.step() \n",
        "        \n",
        "\n",
        "        running_loss += loss.item()\n",
        "        if cnt % 6 == 5:    # print every 6 mini-batches\n",
        "            print('[%d, %5d] loss: %.3f' %(epoch + 1, cnt + 1, running_loss / 6))\n",
        "            running_loss = 0.0\n",
        "        cnt=cnt+1\n",
        "    \n",
        "        if epoch % 5 == 4:\n",
        "            for j in range (batch):\n",
        "                focus = torch.argmax(alphas[j])\n",
        "\n",
        "                if(alphas[j][focus] >= 0.5):\n",
        "                    argmax_more_than_half +=1\n",
        "                else:\n",
        "                    argmax_less_than_half +=1\n",
        "\n",
        "                if(focus == fore_idx[j] and predicted[j] == labels[j]):\n",
        "                    focus_true_pred_true += 1\n",
        "\n",
        "                elif(focus != fore_idx[j] and predicted[j] == labels[j]):\n",
        "                    focus_false_pred_true +=1\n",
        "\n",
        "                elif(focus == fore_idx[j] and predicted[j] != labels[j]):\n",
        "                    focus_true_pred_false +=1\n",
        "\n",
        "                elif(focus != fore_idx[j] and predicted[j] != labels[j]):\n",
        "                    focus_false_pred_false +=1\n",
        "\n",
        "    if epoch % 5 == 4:\n",
        "        col1.append(epoch)\n",
        "        col2.append(argmax_more_than_half)\n",
        "        col3.append(argmax_less_than_half)\n",
        "        col4.append(focus_true_pred_true)\n",
        "        col5.append(focus_false_pred_true)\n",
        "        col6.append(focus_true_pred_false)\n",
        "        col7.append(focus_false_pred_false)\n",
        "\n",
        "    #************************************************************************\n",
        "        #testing data set  \n",
        "        with torch.no_grad():\n",
        "            focus_true_pred_true =0\n",
        "            focus_false_pred_true =0\n",
        "            focus_true_pred_false =0\n",
        "            focus_false_pred_false =0\n",
        "\n",
        "            argmax_more_than_half = 0\n",
        "            argmax_less_than_half =0\n",
        "            for data in test_loader:\n",
        "                inputs, labels , fore_idx = data\n",
        "                #inputs,labels,fore_idx = inputs.to(device),labels.to(device),fore_idx.to(device) \n",
        "#                 print(inputs.shtorch.save(where.state_dict(),\"model_epoch\"+str(epoch)+\".pt\")ape,labels.shape)\n",
        "                avg_inp,alphas = where(inputs)\n",
        "                outputs = what(avg_inp)\n",
        "                _, predicted = torch.max(outputs.data, 1)\n",
        "\n",
        "                for j in range (batch):\n",
        "                    focus = torch.argmax(alphas[j])\n",
        "\n",
        "                    if(alphas[j][focus] >= 0.5):\n",
        "                        argmax_more_than_half +=1\n",
        "                    else:\n",
        "                        argmax_less_than_half +=1\n",
        "\n",
        "                    if(focus == fore_idx[j] and predicted[j] == labels[j]):\n",
        "                        focus_true_pred_true += 1\n",
        "\n",
        "                    elif(focus != fore_idx[j] and predicted[j] == labels[j]):\n",
        "                        focus_false_pred_true +=1\n",
        "\n",
        "                    elif(focus == fore_idx[j] and predicted[j] != labels[j]):\n",
        "                        focus_true_pred_false +=1\n",
        "\n",
        "                    elif(focus != fore_idx[j] and predicted[j] != labels[j]):\n",
        "                        focus_false_pred_false +=1\n",
        "\n",
        "        col8.append(argmax_more_than_half)\n",
        "        col9.append(argmax_less_than_half)\n",
        "        col10.append(focus_true_pred_true)\n",
        "        col11.append(focus_false_pred_true)\n",
        "        col12.append(focus_true_pred_false)\n",
        "        col13.append(focus_false_pred_false)\n",
        "        \n",
        "        #torch.save(where.state_dict(),\"where_model_epoch\"+str(epoch)+\".pt\")\n",
        "        #torch.save(what.state_dict(),\"what_model_epoch\"+str(epoch)+\".pt\")\n",
        "    \n",
        "print('Finished Training')\n",
        "#torch.save(where.state_dict(),\"where_model_epoch\"+str(nos_epochs)+\".pt\")\n",
        "#torch.save(what.state_dict(),\"what_model_epoch\"+str(epoch)+\".pt\")\n"
      ],
      "execution_count": 23,
      "outputs": [
        {
          "output_type": "stream",
          "text": [
            "[1,     6] loss: 2.177\n",
            "[1,    12] loss: 1.271\n",
            "[2,     6] loss: 0.848\n",
            "[2,    12] loss: 0.597\n",
            "[3,     6] loss: 0.433\n",
            "[3,    12] loss: 0.308\n",
            "[4,     6] loss: 0.241\n",
            "[4,    12] loss: 0.192\n",
            "[5,     6] loss: 0.166\n",
            "[5,    12] loss: 0.134\n",
            "[6,     6] loss: 0.117\n",
            "[6,    12] loss: 0.100\n",
            "[7,     6] loss: 0.088\n",
            "[7,    12] loss: 0.078\n",
            "[8,     6] loss: 0.071\n",
            "[8,    12] loss: 0.066\n",
            "[9,     6] loss: 0.060\n",
            "[9,    12] loss: 0.058\n",
            "[10,     6] loss: 0.055\n",
            "[10,    12] loss: 0.051\n",
            "[11,     6] loss: 0.049\n",
            "[11,    12] loss: 0.048\n",
            "[12,     6] loss: 0.046\n",
            "[12,    12] loss: 0.043\n",
            "[13,     6] loss: 0.042\n",
            "[13,    12] loss: 0.041\n",
            "[14,     6] loss: 0.039\n",
            "[14,    12] loss: 0.038\n",
            "[15,     6] loss: 0.037\n",
            "[15,    12] loss: 0.036\n",
            "[16,     6] loss: 0.036\n",
            "[16,    12] loss: 0.033\n",
            "[17,     6] loss: 0.032\n",
            "[17,    12] loss: 0.033\n",
            "[18,     6] loss: 0.031\n",
            "[18,    12] loss: 0.031\n",
            "[19,     6] loss: 0.031\n",
            "[19,    12] loss: 0.029\n",
            "[20,     6] loss: 0.029\n",
            "[20,    12] loss: 0.028\n",
            "[21,     6] loss: 0.027\n",
            "[21,    12] loss: 0.027\n",
            "[22,     6] loss: 0.027\n",
            "[22,    12] loss: 0.025\n",
            "[23,     6] loss: 0.025\n",
            "[23,    12] loss: 0.025\n",
            "[24,     6] loss: 0.025\n",
            "[24,    12] loss: 0.023\n",
            "[25,     6] loss: 0.023\n",
            "[25,    12] loss: 0.023\n",
            "[26,     6] loss: 0.023\n",
            "[26,    12] loss: 0.022\n",
            "[27,     6] loss: 0.021\n",
            "[27,    12] loss: 0.022\n",
            "[28,     6] loss: 0.021\n",
            "[28,    12] loss: 0.021\n",
            "[29,     6] loss: 0.021\n",
            "[29,    12] loss: 0.020\n",
            "[30,     6] loss: 0.020\n",
            "[30,    12] loss: 0.020\n",
            "[31,     6] loss: 0.020\n",
            "[31,    12] loss: 0.019\n",
            "[32,     6] loss: 0.019\n",
            "[32,    12] loss: 0.019\n",
            "[33,     6] loss: 0.019\n",
            "[33,    12] loss: 0.018\n",
            "[34,     6] loss: 0.018\n",
            "[34,    12] loss: 0.018\n",
            "[35,     6] loss: 0.017\n",
            "[35,    12] loss: 0.018\n",
            "[36,     6] loss: 0.017\n",
            "[36,    12] loss: 0.017\n",
            "[37,     6] loss: 0.017\n",
            "[37,    12] loss: 0.016\n",
            "[38,     6] loss: 0.016\n",
            "[38,    12] loss: 0.016\n",
            "[39,     6] loss: 0.016\n",
            "[39,    12] loss: 0.016\n",
            "[40,     6] loss: 0.015\n",
            "[40,    12] loss: 0.016\n",
            "[41,     6] loss: 0.015\n",
            "[41,    12] loss: 0.015\n",
            "[42,     6] loss: 0.015\n",
            "[42,    12] loss: 0.014\n",
            "[43,     6] loss: 0.015\n",
            "[43,    12] loss: 0.014\n",
            "[44,     6] loss: 0.014\n",
            "[44,    12] loss: 0.014\n",
            "[45,     6] loss: 0.014\n",
            "[45,    12] loss: 0.014\n",
            "[46,     6] loss: 0.014\n",
            "[46,    12] loss: 0.014\n",
            "[47,     6] loss: 0.014\n",
            "[47,    12] loss: 0.013\n",
            "[48,     6] loss: 0.013\n",
            "[48,    12] loss: 0.013\n",
            "[49,     6] loss: 0.013\n",
            "[49,    12] loss: 0.013\n",
            "[50,     6] loss: 0.013\n",
            "[50,    12] loss: 0.013\n",
            "[51,     6] loss: 0.013\n",
            "[51,    12] loss: 0.013\n",
            "[52,     6] loss: 0.012\n",
            "[52,    12] loss: 0.012\n",
            "[53,     6] loss: 0.012\n",
            "[53,    12] loss: 0.012\n",
            "[54,     6] loss: 0.012\n",
            "[54,    12] loss: 0.012\n",
            "[55,     6] loss: 0.012\n",
            "[55,    12] loss: 0.012\n",
            "[56,     6] loss: 0.012\n",
            "[56,    12] loss: 0.011\n",
            "[57,     6] loss: 0.011\n",
            "[57,    12] loss: 0.012\n",
            "[58,     6] loss: 0.011\n",
            "[58,    12] loss: 0.011\n",
            "[59,     6] loss: 0.011\n",
            "[59,    12] loss: 0.011\n",
            "[60,     6] loss: 0.011\n",
            "[60,    12] loss: 0.011\n",
            "[61,     6] loss: 0.011\n",
            "[61,    12] loss: 0.011\n",
            "[62,     6] loss: 0.011\n",
            "[62,    12] loss: 0.011\n",
            "[63,     6] loss: 0.010\n",
            "[63,    12] loss: 0.010\n",
            "[64,     6] loss: 0.011\n",
            "[64,    12] loss: 0.010\n",
            "[65,     6] loss: 0.010\n",
            "[65,    12] loss: 0.010\n",
            "[66,     6] loss: 0.010\n",
            "[66,    12] loss: 0.010\n",
            "[67,     6] loss: 0.010\n",
            "[67,    12] loss: 0.010\n",
            "[68,     6] loss: 0.010\n",
            "[68,    12] loss: 0.010\n",
            "[69,     6] loss: 0.010\n",
            "[69,    12] loss: 0.010\n",
            "[70,     6] loss: 0.010\n",
            "[70,    12] loss: 0.009\n",
            "[71,     6] loss: 0.009\n",
            "[71,    12] loss: 0.010\n",
            "[72,     6] loss: 0.009\n",
            "[72,    12] loss: 0.009\n",
            "[73,     6] loss: 0.009\n",
            "[73,    12] loss: 0.009\n",
            "[74,     6] loss: 0.009\n",
            "[74,    12] loss: 0.009\n",
            "[75,     6] loss: 0.009\n",
            "[75,    12] loss: 0.009\n",
            "[76,     6] loss: 0.009\n",
            "[76,    12] loss: 0.009\n",
            "[77,     6] loss: 0.009\n",
            "[77,    12] loss: 0.009\n",
            "[78,     6] loss: 0.009\n",
            "[78,    12] loss: 0.009\n",
            "[79,     6] loss: 0.009\n",
            "[79,    12] loss: 0.009\n",
            "[80,     6] loss: 0.009\n",
            "[80,    12] loss: 0.008\n",
            "[81,     6] loss: 0.008\n",
            "[81,    12] loss: 0.008\n",
            "[82,     6] loss: 0.008\n",
            "[82,    12] loss: 0.008\n",
            "[83,     6] loss: 0.008\n",
            "[83,    12] loss: 0.008\n",
            "[84,     6] loss: 0.008\n",
            "[84,    12] loss: 0.008\n",
            "[85,     6] loss: 0.008\n",
            "[85,    12] loss: 0.008\n",
            "[86,     6] loss: 0.008\n",
            "[86,    12] loss: 0.008\n",
            "[87,     6] loss: 0.008\n",
            "[87,    12] loss: 0.008\n",
            "[88,     6] loss: 0.008\n",
            "[88,    12] loss: 0.008\n",
            "[89,     6] loss: 0.008\n",
            "[89,    12] loss: 0.008\n",
            "[90,     6] loss: 0.008\n",
            "[90,    12] loss: 0.007\n",
            "[91,     6] loss: 0.007\n",
            "[91,    12] loss: 0.008\n",
            "[92,     6] loss: 0.007\n",
            "[92,    12] loss: 0.007\n",
            "[93,     6] loss: 0.007\n",
            "[93,    12] loss: 0.007\n",
            "[94,     6] loss: 0.007\n",
            "[94,    12] loss: 0.008\n",
            "[95,     6] loss: 0.007\n",
            "[95,    12] loss: 0.007\n",
            "[96,     6] loss: 0.007\n",
            "[96,    12] loss: 0.007\n",
            "[97,     6] loss: 0.007\n",
            "[97,    12] loss: 0.007\n",
            "[98,     6] loss: 0.007\n",
            "[98,    12] loss: 0.007\n",
            "[99,     6] loss: 0.007\n",
            "[99,    12] loss: 0.007\n",
            "[100,     6] loss: 0.007\n",
            "[100,    12] loss: 0.007\n",
            "Finished Training\n"
          ],
          "name": "stdout"
        }
      ]
    },
    {
      "cell_type": "code",
      "metadata": {
        "id": "UvP97PKnr0T5"
      },
      "source": [
        "columns = [\"epochs\", \"argmax > 0.5\" ,\"argmax < 0.5\", \"focus_true_pred_true\", \"focus_false_pred_true\", \"focus_true_pred_false\", \"focus_false_pred_false\" ]\n",
        "df_train = pd.DataFrame()\n",
        "df_test = pd.DataFrame()\n",
        "df_train[columns[0]] = col1\n",
        "df_train[columns[1]] = col2\n",
        "df_train[columns[2]] = col3\n",
        "df_train[columns[3]] = col4\n",
        "df_train[columns[4]] = col5\n",
        "df_train[columns[5]] = col6\n",
        "df_train[columns[6]] = col7\n",
        "\n",
        "df_test[columns[0]] = col1\n",
        "df_test[columns[1]] = col8\n",
        "df_test[columns[2]] = col9\n",
        "df_test[columns[3]] = col10\n",
        "df_test[columns[4]] = col11\n",
        "df_test[columns[5]] = col12\n",
        "df_test[columns[6]] = col13"
      ],
      "execution_count": 24,
      "outputs": []
    },
    {
      "cell_type": "code",
      "metadata": {
        "colab": {
          "base_uri": "https://localhost:8080/",
          "height": 686
        },
        "id": "0hAVV2I5r0T7",
        "scrolled": false,
        "outputId": "fdbdd84e-4659-4364-d38b-19501ffcda87"
      },
      "source": [
        "df_train"
      ],
      "execution_count": 25,
      "outputs": [
        {
          "output_type": "execute_result",
          "data": {
            "text/html": [
              "<div>\n",
              "<style scoped>\n",
              "    .dataframe tbody tr th:only-of-type {\n",
              "        vertical-align: middle;\n",
              "    }\n",
              "\n",
              "    .dataframe tbody tr th {\n",
              "        vertical-align: top;\n",
              "    }\n",
              "\n",
              "    .dataframe thead th {\n",
              "        text-align: right;\n",
              "    }\n",
              "</style>\n",
              "<table border=\"1\" class=\"dataframe\">\n",
              "  <thead>\n",
              "    <tr style=\"text-align: right;\">\n",
              "      <th></th>\n",
              "      <th>epochs</th>\n",
              "      <th>argmax &gt; 0.5</th>\n",
              "      <th>argmax &lt; 0.5</th>\n",
              "      <th>focus_true_pred_true</th>\n",
              "      <th>focus_false_pred_true</th>\n",
              "      <th>focus_true_pred_false</th>\n",
              "      <th>focus_false_pred_false</th>\n",
              "    </tr>\n",
              "  </thead>\n",
              "  <tbody>\n",
              "    <tr>\n",
              "      <th>0</th>\n",
              "      <td>4</td>\n",
              "      <td>3000</td>\n",
              "      <td>0</td>\n",
              "      <td>2539</td>\n",
              "      <td>434</td>\n",
              "      <td>0</td>\n",
              "      <td>27</td>\n",
              "    </tr>\n",
              "    <tr>\n",
              "      <th>1</th>\n",
              "      <td>9</td>\n",
              "      <td>3000</td>\n",
              "      <td>0</td>\n",
              "      <td>3000</td>\n",
              "      <td>0</td>\n",
              "      <td>0</td>\n",
              "      <td>0</td>\n",
              "    </tr>\n",
              "    <tr>\n",
              "      <th>2</th>\n",
              "      <td>14</td>\n",
              "      <td>3000</td>\n",
              "      <td>0</td>\n",
              "      <td>3000</td>\n",
              "      <td>0</td>\n",
              "      <td>0</td>\n",
              "      <td>0</td>\n",
              "    </tr>\n",
              "    <tr>\n",
              "      <th>3</th>\n",
              "      <td>19</td>\n",
              "      <td>3000</td>\n",
              "      <td>0</td>\n",
              "      <td>3000</td>\n",
              "      <td>0</td>\n",
              "      <td>0</td>\n",
              "      <td>0</td>\n",
              "    </tr>\n",
              "    <tr>\n",
              "      <th>4</th>\n",
              "      <td>24</td>\n",
              "      <td>3000</td>\n",
              "      <td>0</td>\n",
              "      <td>3000</td>\n",
              "      <td>0</td>\n",
              "      <td>0</td>\n",
              "      <td>0</td>\n",
              "    </tr>\n",
              "    <tr>\n",
              "      <th>5</th>\n",
              "      <td>29</td>\n",
              "      <td>3000</td>\n",
              "      <td>0</td>\n",
              "      <td>3000</td>\n",
              "      <td>0</td>\n",
              "      <td>0</td>\n",
              "      <td>0</td>\n",
              "    </tr>\n",
              "    <tr>\n",
              "      <th>6</th>\n",
              "      <td>34</td>\n",
              "      <td>3000</td>\n",
              "      <td>0</td>\n",
              "      <td>3000</td>\n",
              "      <td>0</td>\n",
              "      <td>0</td>\n",
              "      <td>0</td>\n",
              "    </tr>\n",
              "    <tr>\n",
              "      <th>7</th>\n",
              "      <td>39</td>\n",
              "      <td>3000</td>\n",
              "      <td>0</td>\n",
              "      <td>3000</td>\n",
              "      <td>0</td>\n",
              "      <td>0</td>\n",
              "      <td>0</td>\n",
              "    </tr>\n",
              "    <tr>\n",
              "      <th>8</th>\n",
              "      <td>44</td>\n",
              "      <td>3000</td>\n",
              "      <td>0</td>\n",
              "      <td>3000</td>\n",
              "      <td>0</td>\n",
              "      <td>0</td>\n",
              "      <td>0</td>\n",
              "    </tr>\n",
              "    <tr>\n",
              "      <th>9</th>\n",
              "      <td>49</td>\n",
              "      <td>3000</td>\n",
              "      <td>0</td>\n",
              "      <td>3000</td>\n",
              "      <td>0</td>\n",
              "      <td>0</td>\n",
              "      <td>0</td>\n",
              "    </tr>\n",
              "    <tr>\n",
              "      <th>10</th>\n",
              "      <td>54</td>\n",
              "      <td>3000</td>\n",
              "      <td>0</td>\n",
              "      <td>3000</td>\n",
              "      <td>0</td>\n",
              "      <td>0</td>\n",
              "      <td>0</td>\n",
              "    </tr>\n",
              "    <tr>\n",
              "      <th>11</th>\n",
              "      <td>59</td>\n",
              "      <td>3000</td>\n",
              "      <td>0</td>\n",
              "      <td>3000</td>\n",
              "      <td>0</td>\n",
              "      <td>0</td>\n",
              "      <td>0</td>\n",
              "    </tr>\n",
              "    <tr>\n",
              "      <th>12</th>\n",
              "      <td>64</td>\n",
              "      <td>3000</td>\n",
              "      <td>0</td>\n",
              "      <td>3000</td>\n",
              "      <td>0</td>\n",
              "      <td>0</td>\n",
              "      <td>0</td>\n",
              "    </tr>\n",
              "    <tr>\n",
              "      <th>13</th>\n",
              "      <td>69</td>\n",
              "      <td>3000</td>\n",
              "      <td>0</td>\n",
              "      <td>3000</td>\n",
              "      <td>0</td>\n",
              "      <td>0</td>\n",
              "      <td>0</td>\n",
              "    </tr>\n",
              "    <tr>\n",
              "      <th>14</th>\n",
              "      <td>74</td>\n",
              "      <td>3000</td>\n",
              "      <td>0</td>\n",
              "      <td>3000</td>\n",
              "      <td>0</td>\n",
              "      <td>0</td>\n",
              "      <td>0</td>\n",
              "    </tr>\n",
              "    <tr>\n",
              "      <th>15</th>\n",
              "      <td>79</td>\n",
              "      <td>3000</td>\n",
              "      <td>0</td>\n",
              "      <td>3000</td>\n",
              "      <td>0</td>\n",
              "      <td>0</td>\n",
              "      <td>0</td>\n",
              "    </tr>\n",
              "    <tr>\n",
              "      <th>16</th>\n",
              "      <td>84</td>\n",
              "      <td>3000</td>\n",
              "      <td>0</td>\n",
              "      <td>3000</td>\n",
              "      <td>0</td>\n",
              "      <td>0</td>\n",
              "      <td>0</td>\n",
              "    </tr>\n",
              "    <tr>\n",
              "      <th>17</th>\n",
              "      <td>89</td>\n",
              "      <td>3000</td>\n",
              "      <td>0</td>\n",
              "      <td>3000</td>\n",
              "      <td>0</td>\n",
              "      <td>0</td>\n",
              "      <td>0</td>\n",
              "    </tr>\n",
              "    <tr>\n",
              "      <th>18</th>\n",
              "      <td>94</td>\n",
              "      <td>3000</td>\n",
              "      <td>0</td>\n",
              "      <td>3000</td>\n",
              "      <td>0</td>\n",
              "      <td>0</td>\n",
              "      <td>0</td>\n",
              "    </tr>\n",
              "    <tr>\n",
              "      <th>19</th>\n",
              "      <td>99</td>\n",
              "      <td>3000</td>\n",
              "      <td>0</td>\n",
              "      <td>3000</td>\n",
              "      <td>0</td>\n",
              "      <td>0</td>\n",
              "      <td>0</td>\n",
              "    </tr>\n",
              "  </tbody>\n",
              "</table>\n",
              "</div>"
            ],
            "text/plain": [
              "    epochs  argmax > 0.5  ...  focus_true_pred_false  focus_false_pred_false\n",
              "0        4          3000  ...                      0                      27\n",
              "1        9          3000  ...                      0                       0\n",
              "2       14          3000  ...                      0                       0\n",
              "3       19          3000  ...                      0                       0\n",
              "4       24          3000  ...                      0                       0\n",
              "5       29          3000  ...                      0                       0\n",
              "6       34          3000  ...                      0                       0\n",
              "7       39          3000  ...                      0                       0\n",
              "8       44          3000  ...                      0                       0\n",
              "9       49          3000  ...                      0                       0\n",
              "10      54          3000  ...                      0                       0\n",
              "11      59          3000  ...                      0                       0\n",
              "12      64          3000  ...                      0                       0\n",
              "13      69          3000  ...                      0                       0\n",
              "14      74          3000  ...                      0                       0\n",
              "15      79          3000  ...                      0                       0\n",
              "16      84          3000  ...                      0                       0\n",
              "17      89          3000  ...                      0                       0\n",
              "18      94          3000  ...                      0                       0\n",
              "19      99          3000  ...                      0                       0\n",
              "\n",
              "[20 rows x 7 columns]"
            ]
          },
          "metadata": {
            "tags": []
          },
          "execution_count": 25
        }
      ]
    },
    {
      "cell_type": "code",
      "metadata": {
        "colab": {
          "base_uri": "https://localhost:8080/",
          "height": 573
        },
        "id": "s-ZXousDr0T-",
        "outputId": "729a907f-9e69-4919-e8c5-cef54f943373"
      },
      "source": [
        "plt.plot(col1,col2, label='argmax > 0.5')\n",
        "plt.plot(col1,col3, label='argmax < 0.5')\n",
        "\n",
        "plt.legend(loc='center left', bbox_to_anchor=(1, 0.5))\n",
        "plt.xlabel(\"epochs\")\n",
        "plt.ylabel(\"training data\")\n",
        "plt.title(\"On Training set\")\n",
        "plt.show()\n",
        "\n",
        "plt.plot(col1,col4, label =\"focus_true_pred_true \")\n",
        "plt.plot(col1,col5, label =\"focus_false_pred_true \")\n",
        "plt.plot(col1,col6, label =\"focus_true_pred_false \")\n",
        "plt.plot(col1,col7, label =\"focus_false_pred_false \")\n",
        "plt.title(\"On Training set\")\n",
        "plt.legend(loc='center left', bbox_to_anchor=(1, 0.5))\n",
        "plt.xlabel(\"epochs\")\n",
        "plt.ylabel(\"training data\")\n",
        "plt.savefig(\"linear_type3_21.png\",bbox_inches=\"tight\")\n",
        "plt.savefig(\"linear_type3_21.pdf\",bbox_inches=\"tight\")\n",
        "plt.show()"
      ],
      "execution_count": 26,
      "outputs": [
        {
          "output_type": "display_data",
          "data": {
            "image/png": "[encoded data removed]",
            "text/plain": [
              "<Figure size 432x288 with 1 Axes>"
            ]
          },
          "metadata": {
            "tags": [],
            "needs_background": "light"
          }
        },
        {
          "output_type": "display_data",
          "data": {
            "image/png": "[encoded data removed]",
            "text/plain": [
              "<Figure size 432x288 with 1 Axes>"
            ]
          },
          "metadata": {
            "tags": [],
            "needs_background": "light"
          }
        }
      ]
    },
    {
      "cell_type": "code",
      "metadata": {
        "colab": {
          "base_uri": "https://localhost:8080/",
          "height": 686
        },
        "id": "LQip8h8jr0UA",
        "scrolled": true,
        "outputId": "ec74deec-4b27-4a4b-af9d-0c431ba4d68a"
      },
      "source": [
        "df_test"
      ],
      "execution_count": 27,
      "outputs": [
        {
          "output_type": "execute_result",
          "data": {
            "text/html": [
              "<div>\n",
              "<style scoped>\n",
              "    .dataframe tbody tr th:only-of-type {\n",
              "        vertical-align: middle;\n",
              "    }\n",
              "\n",
              "    .dataframe tbody tr th {\n",
              "        vertical-align: top;\n",
              "    }\n",
              "\n",
              "    .dataframe thead th {\n",
              "        text-align: right;\n",
              "    }\n",
              "</style>\n",
              "<table border=\"1\" class=\"dataframe\">\n",
              "  <thead>\n",
              "    <tr style=\"text-align: right;\">\n",
              "      <th></th>\n",
              "      <th>epochs</th>\n",
              "      <th>argmax &gt; 0.5</th>\n",
              "      <th>argmax &lt; 0.5</th>\n",
              "      <th>focus_true_pred_true</th>\n",
              "      <th>focus_false_pred_true</th>\n",
              "      <th>focus_true_pred_false</th>\n",
              "      <th>focus_false_pred_false</th>\n",
              "    </tr>\n",
              "  </thead>\n",
              "  <tbody>\n",
              "    <tr>\n",
              "      <th>0</th>\n",
              "      <td>4</td>\n",
              "      <td>1000</td>\n",
              "      <td>0</td>\n",
              "      <td>897</td>\n",
              "      <td>100</td>\n",
              "      <td>0</td>\n",
              "      <td>3</td>\n",
              "    </tr>\n",
              "    <tr>\n",
              "      <th>1</th>\n",
              "      <td>9</td>\n",
              "      <td>1000</td>\n",
              "      <td>0</td>\n",
              "      <td>1000</td>\n",
              "      <td>0</td>\n",
              "      <td>0</td>\n",
              "      <td>0</td>\n",
              "    </tr>\n",
              "    <tr>\n",
              "      <th>2</th>\n",
              "      <td>14</td>\n",
              "      <td>1000</td>\n",
              "      <td>0</td>\n",
              "      <td>1000</td>\n",
              "      <td>0</td>\n",
              "      <td>0</td>\n",
              "      <td>0</td>\n",
              "    </tr>\n",
              "    <tr>\n",
              "      <th>3</th>\n",
              "      <td>19</td>\n",
              "      <td>1000</td>\n",
              "      <td>0</td>\n",
              "      <td>1000</td>\n",
              "      <td>0</td>\n",
              "      <td>0</td>\n",
              "      <td>0</td>\n",
              "    </tr>\n",
              "    <tr>\n",
              "      <th>4</th>\n",
              "      <td>24</td>\n",
              "      <td>1000</td>\n",
              "      <td>0</td>\n",
              "      <td>1000</td>\n",
              "      <td>0</td>\n",
              "      <td>0</td>\n",
              "      <td>0</td>\n",
              "    </tr>\n",
              "    <tr>\n",
              "      <th>5</th>\n",
              "      <td>29</td>\n",
              "      <td>1000</td>\n",
              "      <td>0</td>\n",
              "      <td>1000</td>\n",
              "      <td>0</td>\n",
              "      <td>0</td>\n",
              "      <td>0</td>\n",
              "    </tr>\n",
              "    <tr>\n",
              "      <th>6</th>\n",
              "      <td>34</td>\n",
              "      <td>1000</td>\n",
              "      <td>0</td>\n",
              "      <td>1000</td>\n",
              "      <td>0</td>\n",
              "      <td>0</td>\n",
              "      <td>0</td>\n",
              "    </tr>\n",
              "    <tr>\n",
              "      <th>7</th>\n",
              "      <td>39</td>\n",
              "      <td>1000</td>\n",
              "      <td>0</td>\n",
              "      <td>1000</td>\n",
              "      <td>0</td>\n",
              "      <td>0</td>\n",
              "      <td>0</td>\n",
              "    </tr>\n",
              "    <tr>\n",
              "      <th>8</th>\n",
              "      <td>44</td>\n",
              "      <td>1000</td>\n",
              "      <td>0</td>\n",
              "      <td>1000</td>\n",
              "      <td>0</td>\n",
              "      <td>0</td>\n",
              "      <td>0</td>\n",
              "    </tr>\n",
              "    <tr>\n",
              "      <th>9</th>\n",
              "      <td>49</td>\n",
              "      <td>1000</td>\n",
              "      <td>0</td>\n",
              "      <td>1000</td>\n",
              "      <td>0</td>\n",
              "      <td>0</td>\n",
              "      <td>0</td>\n",
              "    </tr>\n",
              "    <tr>\n",
              "      <th>10</th>\n",
              "      <td>54</td>\n",
              "      <td>1000</td>\n",
              "      <td>0</td>\n",
              "      <td>1000</td>\n",
              "      <td>0</td>\n",
              "      <td>0</td>\n",
              "      <td>0</td>\n",
              "    </tr>\n",
              "    <tr>\n",
              "      <th>11</th>\n",
              "      <td>59</td>\n",
              "      <td>1000</td>\n",
              "      <td>0</td>\n",
              "      <td>1000</td>\n",
              "      <td>0</td>\n",
              "      <td>0</td>\n",
              "      <td>0</td>\n",
              "    </tr>\n",
              "    <tr>\n",
              "      <th>12</th>\n",
              "      <td>64</td>\n",
              "      <td>1000</td>\n",
              "      <td>0</td>\n",
              "      <td>1000</td>\n",
              "      <td>0</td>\n",
              "      <td>0</td>\n",
              "      <td>0</td>\n",
              "    </tr>\n",
              "    <tr>\n",
              "      <th>13</th>\n",
              "      <td>69</td>\n",
              "      <td>1000</td>\n",
              "      <td>0</td>\n",
              "      <td>1000</td>\n",
              "      <td>0</td>\n",
              "      <td>0</td>\n",
              "      <td>0</td>\n",
              "    </tr>\n",
              "    <tr>\n",
              "      <th>14</th>\n",
              "      <td>74</td>\n",
              "      <td>1000</td>\n",
              "      <td>0</td>\n",
              "      <td>1000</td>\n",
              "      <td>0</td>\n",
              "      <td>0</td>\n",
              "      <td>0</td>\n",
              "    </tr>\n",
              "    <tr>\n",
              "      <th>15</th>\n",
              "      <td>79</td>\n",
              "      <td>1000</td>\n",
              "      <td>0</td>\n",
              "      <td>1000</td>\n",
              "      <td>0</td>\n",
              "      <td>0</td>\n",
              "      <td>0</td>\n",
              "    </tr>\n",
              "    <tr>\n",
              "      <th>16</th>\n",
              "      <td>84</td>\n",
              "      <td>1000</td>\n",
              "      <td>0</td>\n",
              "      <td>1000</td>\n",
              "      <td>0</td>\n",
              "      <td>0</td>\n",
              "      <td>0</td>\n",
              "    </tr>\n",
              "    <tr>\n",
              "      <th>17</th>\n",
              "      <td>89</td>\n",
              "      <td>1000</td>\n",
              "      <td>0</td>\n",
              "      <td>1000</td>\n",
              "      <td>0</td>\n",
              "      <td>0</td>\n",
              "      <td>0</td>\n",
              "    </tr>\n",
              "    <tr>\n",
              "      <th>18</th>\n",
              "      <td>94</td>\n",
              "      <td>1000</td>\n",
              "      <td>0</td>\n",
              "      <td>1000</td>\n",
              "      <td>0</td>\n",
              "      <td>0</td>\n",
              "      <td>0</td>\n",
              "    </tr>\n",
              "    <tr>\n",
              "      <th>19</th>\n",
              "      <td>99</td>\n",
              "      <td>1000</td>\n",
              "      <td>0</td>\n",
              "      <td>1000</td>\n",
              "      <td>0</td>\n",
              "      <td>0</td>\n",
              "      <td>0</td>\n",
              "    </tr>\n",
              "  </tbody>\n",
              "</table>\n",
              "</div>"
            ],
            "text/plain": [
              "    epochs  argmax > 0.5  ...  focus_true_pred_false  focus_false_pred_false\n",
              "0        4          1000  ...                      0                       3\n",
              "1        9          1000  ...                      0                       0\n",
              "2       14          1000  ...                      0                       0\n",
              "3       19          1000  ...                      0                       0\n",
              "4       24          1000  ...                      0                       0\n",
              "5       29          1000  ...                      0                       0\n",
              "6       34          1000  ...                      0                       0\n",
              "7       39          1000  ...                      0                       0\n",
              "8       44          1000  ...                      0                       0\n",
              "9       49          1000  ...                      0                       0\n",
              "10      54          1000  ...                      0                       0\n",
              "11      59          1000  ...                      0                       0\n",
              "12      64          1000  ...                      0                       0\n",
              "13      69          1000  ...                      0                       0\n",
              "14      74          1000  ...                      0                       0\n",
              "15      79          1000  ...                      0                       0\n",
              "16      84          1000  ...                      0                       0\n",
              "17      89          1000  ...                      0                       0\n",
              "18      94          1000  ...                      0                       0\n",
              "19      99          1000  ...                      0                       0\n",
              "\n",
              "[20 rows x 7 columns]"
            ]
          },
          "metadata": {
            "tags": []
          },
          "execution_count": 27
        }
      ]
    },
    {
      "cell_type": "code",
      "metadata": {
        "id": "oCJcmk19r0UD",
        "colab": {
          "base_uri": "https://localhost:8080/",
          "height": 573
        },
        "outputId": "ff9d65f4-9b33-4b11-e6d6-f4d7b23031c9"
      },
      "source": [
        "plt.plot(col1,col8, label='argmax > 0.5')\n",
        "plt.plot(col1,col9, label='argmax < 0.5')\n",
        "\n",
        "plt.legend(loc='center left', bbox_to_anchor=(1, 0.5))\n",
        "plt.xlabel(\"epochs\")\n",
        "plt.ylabel(\"Testing data\")\n",
        "plt.title(\"On Testing set\")\n",
        "plt.show()\n",
        "\n",
        "plt.plot(col1,col10, label =\"focus_true_pred_true \")\n",
        "plt.plot(col1,col11, label =\"focus_false_pred_true \")\n",
        "plt.plot(col1,col12, label =\"focus_true_pred_false \")\n",
        "plt.plot(col1,col13, label =\"focus_false_pred_false \")\n",
        "plt.title(\"On Testing set\")\n",
        "plt.legend(loc='center left', bbox_to_anchor=(1, 0.5))\n",
        "plt.xlabel(\"epochs\")\n",
        "plt.ylabel(\"Testing data\")\n",
        "plt.show()"
      ],
      "execution_count": 28,
      "outputs": [
        {
          "output_type": "display_data",
          "data": {
            "image/png": "[encoded data removed]",
            "text/plain": [
              "<Figure size 432x288 with 1 Axes>"
            ]
          },
          "metadata": {
            "tags": [],
            "needs_background": "light"
          }
        },
        {
          "output_type": "display_data",
          "data": {
            "image/png": "[encoded data removed]",
            "text/plain": [
              "<Figure size 432x288 with 1 Axes>"
            ]
          },
          "metadata": {
            "tags": [],
            "needs_background": "light"
          }
        }
      ]
    },
    {
      "cell_type": "code",
      "metadata": {
        "id": "wjKKoslK55jo"
      },
      "source": [
        "# where.state_dict()[\"linear1.weight\"][:]  = torch.Tensor(np.array([[ 0, -1]]))\r\n",
        "# where.state_dict()[\"linear1.bias\"][:] = torch.Tensor(np.array([0]))"
      ],
      "execution_count": 29,
      "outputs": []
    },
    {
      "cell_type": "code",
      "metadata": {
        "id": "YH_sdpkhr0UK",
        "colab": {
          "base_uri": "https://localhost:8080/"
        },
        "outputId": "99d014bd-e008-4c6b-ebf9-7bd4feccc1c5"
      },
      "source": [
        "for param in where.named_parameters():\r\n",
        "  print(param)"
      ],
      "execution_count": 30,
      "outputs": [
        {
          "output_type": "stream",
          "text": [
            "('linear1.weight', Parameter containing:\n",
            "tensor([[ 0.9660, -0.3314]], dtype=torch.float64, requires_grad=True))\n",
            "('linear1.bias', Parameter containing:\n",
            "tensor([-0.3914], dtype=torch.float64, requires_grad=True))\n"
          ],
          "name": "stdout"
        }
      ]
    },
    {
      "cell_type": "code",
      "metadata": {
        "id": "6ANS5bw67RvG"
      },
      "source": [
        "# what.state_dict()[\"linear1.weight\"][:]  = torch.Tensor(np.array([[ 5,  0],\r\n",
        "#         [0,5],\r\n",
        "#         [ 0, 0]]))\r\n",
        "# what.state_dict()[\"linear1.bias\"][:] = torch.Tensor(np.array([0,  0, 0]))"
      ],
      "execution_count": 31,
      "outputs": []
    },
    {
      "cell_type": "code",
      "metadata": {
        "colab": {
          "base_uri": "https://localhost:8080/"
        },
        "id": "j3dOF2b3fkgp",
        "outputId": "2c55a565-f98b-4248-fbd1-7f039ebb5038"
      },
      "source": [
        "for param in what.named_parameters():\r\n",
        "  print(param)"
      ],
      "execution_count": 32,
      "outputs": [
        {
          "output_type": "stream",
          "text": [
            "('linear1.weight', Parameter containing:\n",
            "tensor([[-0.0232,  2.6883],\n",
            "        [-0.6071, -3.0217],\n",
            "        [ 0.6578, -0.0224]], dtype=torch.float64, requires_grad=True))\n",
            "('linear1.bias', Parameter containing:\n",
            "tensor([ 0.9678,  0.4446, -0.8631], dtype=torch.float64, requires_grad=True))\n"
          ],
          "name": "stdout"
        }
      ]
    },
    {
      "cell_type": "code",
      "metadata": {
        "id": "EZk8Ve_3foPS"
      },
      "source": [
        "xx,yy= np.meshgrid(np.arange(1,10,0.01),np.arange(-5,6,0.01))\r\n",
        "X = np.concatenate((xx.reshape(-1,1),yy.reshape(-1,1)),axis=1)\r\n",
        "X = torch.Tensor(X).double()\r\n",
        "Y = where.helper(X)\r\n",
        "Y1 = what(X)"
      ],
      "execution_count": 33,
      "outputs": []
    },
    {
      "cell_type": "code",
      "metadata": {
        "colab": {
          "base_uri": "https://localhost:8080/"
        },
        "id": "-d0ldqGnhMrZ",
        "outputId": "5c8bf9a4-c1dd-42bc-a43c-f52a873f4344"
      },
      "source": [
        "X.shape,Y.shape"
      ],
      "execution_count": 34,
      "outputs": [
        {
          "output_type": "execute_result",
          "data": {
            "text/plain": [
              "(torch.Size([990000, 2]), torch.Size([990000, 1]))"
            ]
          },
          "metadata": {
            "tags": []
          },
          "execution_count": 34
        }
      ]
    },
    {
      "cell_type": "code",
      "metadata": {
        "id": "ybdSCa9mhUGp"
      },
      "source": [
        "X = X.detach().numpy()\r\n",
        "Y = Y[:,0].detach().numpy()"
      ],
      "execution_count": 35,
      "outputs": []
    },
    {
      "cell_type": "code",
      "metadata": {
        "colab": {
          "base_uri": "https://localhost:8080/",
          "height": 392
        },
        "id": "e5Mg9wiahXTt",
        "outputId": "d1d0db62-6220-4712-ee91-1742cb2ea23d"
      },
      "source": [
        "fig = plt.figure(figsize=(6,6))\r\n",
        "cs = plt.contourf(X[:,0].reshape(xx.shape),X[:,1].reshape(yy.shape),Y.reshape(xx.shape))\r\n",
        "plt.xlabel(\"X1\")\r\n",
        "plt.ylabel(\"X2\")\r\n",
        "fig.colorbar(cs)\r\n",
        "for i in range(4):\r\n",
        "    plt.scatter(x[idx[i],0],x[idx[i],1],label=\"class_\"+str(i))\r\n",
        "plt.legend(loc='center left', bbox_to_anchor=(1, 0.5))\r\n",
        "plt.savefig(\"focus_contour.png\")#,bbox_inches='tight')\r\n"
      ],
      "execution_count": 36,
      "outputs": [
        {
          "output_type": "display_data",
          "data": {
            "image/png": "[encoded data removed]",
            "text/plain": [
              "<Figure size 432x432 with 2 Axes>"
            ]
          },
          "metadata": {
            "tags": [],
            "needs_background": "light"
          }
        }
      ]
    },
    {
      "cell_type": "code",
      "metadata": {
        "id": "BYTbfs7Thay0"
      },
      "source": [
        "Y1 = Y1.detach().numpy()\r\n",
        "Y1 = torch.softmax(torch.Tensor(Y1),dim=1)\r\n",
        "_,Z4= torch.max(Y1,1)\r\n",
        "Z1 = Y1[:,0]\r\n",
        "Z2 = Y1[:,1]\r\n",
        "Z3 = Y1[:,2]"
      ],
      "execution_count": 37,
      "outputs": []
    },
    {
      "cell_type": "code",
      "metadata": {
        "colab": {
          "base_uri": "https://localhost:8080/"
        },
        "id": "8kG2vKUPYaI7",
        "outputId": "0de29ffc-85fa-46bf-f9c3-979330f73547"
      },
      "source": [
        "Z4"
      ],
      "execution_count": 38,
      "outputs": [
        {
          "output_type": "execute_result",
          "data": {
            "text/plain": [
              "tensor([1, 1, 1,  ..., 0, 0, 0])"
            ]
          },
          "metadata": {
            "tags": []
          },
          "execution_count": 38
        }
      ]
    },
    {
      "cell_type": "code",
      "metadata": {
        "id": "1esFxcEMhiNw"
      },
      "source": [
        "#fig = plt.figure(figsize=(6,6))\r\n",
        "# plt.scatter(X[:,0],X[:,1],c=Z1)\r\n",
        "# plt.scatter(X[:,0],X[:,1],c=Z2)\r\n",
        "# plt.scatter(X[:,0],X[:,1],c=Z3)\r\n",
        "#cs = plt.contourf(X[:,0].reshape(xx.shape),X[:,1].reshape(yy.shape),Z1.reshape(xx.shape))\r\n",
        "# #plt.colorbar(cs)\r\n",
        "# cs = plt.contourf(X[:,0].reshape(xx.shape),X[:,1].reshape(yy.shape),Z2.reshape(xx.shape))\r\n",
        "# #plt.colorbar(cs)\r\n",
        "# cs = plt.contourf(X[:,0].reshape(xx.shape),X[:,1].reshape(yy.shape),Z3.reshape(xx.shape))\r\n",
        "#plt.colorbar(cs)\r\n",
        "# plt.xlabel(\"X1\")\r\n",
        "# plt.ylabel(\"X2\")\r\n",
        "#ax.view_init(60,100)\r\n",
        "#plt.savefig(\"non_interpretable_class_2d.pdf\",bbox_inches='tight')\r\n"
      ],
      "execution_count": 39,
      "outputs": []
    },
    {
      "cell_type": "code",
      "metadata": {
        "id": "2jRVEsBy9Rxc"
      },
      "source": [
        "avrg = []\r\n",
        "with torch.no_grad():\r\n",
        "  for i, data in  enumerate(train_loader):\r\n",
        "          inputs , labels , fore_idx = data\r\n",
        "          avg_inp,alphas = where(inputs)\r\n",
        "          avrg.append(avg_inp)\r\n",
        "avrg= np.concatenate(avrg,axis=0)"
      ],
      "execution_count": 40,
      "outputs": []
    },
    {
      "cell_type": "code",
      "metadata": {
        "id": "IYMofwarmEE5",
        "colab": {
          "base_uri": "https://localhost:8080/",
          "height": 265
        },
        "outputId": "769e8936-176e-4904-cbbe-684b5dc2ac04"
      },
      "source": [
        "plt.scatter(X[:,0],X[:,1],c=Z4)\r\n",
        "for i in range(4):\r\n",
        "    plt.scatter(x[idx[i],0],x[idx[i],1],label=\"class_\"+str(i))\r\n",
        "plt.legend(loc='center left', bbox_to_anchor=(1, 0.5))\r\n",
        "plt.scatter(avrg[:,0],avrg[:,1])\r\n",
        "plt.savefig(\"decision_boundary.png\",bbox_inches=\"tight\")"
      ],
      "execution_count": 41,
      "outputs": [
        {
          "output_type": "display_data",
          "data": {
            "image/png": "[encoded data removed]",
            "text/plain": [
              "<Figure size 432x288 with 1 Axes>"
            ]
          },
          "metadata": {
            "tags": [],
            "needs_background": "light"
          }
        }
      ]
    },
    {
      "cell_type": "code",
      "metadata": {
        "id": "gpyN2mafZ5Av"
      },
      "source": [
        "true = []\r\n",
        "pred = []\r\n",
        "acc= 0\r\n",
        "for i, data in  enumerate(train_loader):\r\n",
        "        inputs , labels , fore_idx = data\r\n",
        "        avg_inp,alphas = where(inputs)\r\n",
        "        outputs = what(avg_inp)\r\n",
        "        _, predicted = torch.max(outputs.data, 1)\r\n",
        "        true.append(labels)\r\n",
        "        pred.append(predicted)\r\n",
        "        acc+=sum(predicted == labels)"
      ],
      "execution_count": 42,
      "outputs": []
    },
    {
      "cell_type": "code",
      "metadata": {
        "id": "Ol7vxjD0bxYJ"
      },
      "source": [
        "true = np.concatenate(true,axis=0)\r\n",
        "pred = np.concatenate(pred,axis=0)"
      ],
      "execution_count": 43,
      "outputs": []
    },
    {
      "cell_type": "code",
      "metadata": {
        "colab": {
          "base_uri": "https://localhost:8080/"
        },
        "id": "MR7LkXexbzEi",
        "outputId": "b8c78fe0-7903-42ca-9b81-91cf9a85f37d"
      },
      "source": [
        "from sklearn.metrics import confusion_matrix\r\n",
        "confusion_matrix(true,pred)"
      ],
      "execution_count": 44,
      "outputs": [
        {
          "output_type": "execute_result",
          "data": {
            "text/plain": [
              "array([[1001,    0,    0],\n",
              "       [   0, 1036,    0],\n",
              "       [   0,    0,  963]])"
            ]
          },
          "metadata": {
            "tags": []
          },
          "execution_count": 44
        }
      ]
    },
    {
      "cell_type": "code",
      "metadata": {
        "id": "HBbAemTR8wRY"
      },
      "source": [
        ""
      ],
      "execution_count": 44,
      "outputs": []
    }
  ]
}