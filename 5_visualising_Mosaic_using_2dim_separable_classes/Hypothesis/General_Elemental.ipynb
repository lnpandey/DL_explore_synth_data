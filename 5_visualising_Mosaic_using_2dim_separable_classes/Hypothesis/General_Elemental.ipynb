{
  "nbformat": 4,
  "nbformat_minor": 0,
  "metadata": {
    "colab": {
      "name": "General_Elemental.ipynb",
      "provenance": [],
      "collapsed_sections": [
        "D1qgNILFA3Oi",
        "ZI1RrwwjBUiq",
        "b8ST0OKv6MWt",
        "htQYQzUXHoEh",
        "zW6typIg6ZBR",
        "JXD-xrSR2_3x"
      ],
      "toc_visible": true
    },
    "kernelspec": {
      "name": "python3",
      "display_name": "Python 3"
    }
  },
  "cells": [
    {
      "cell_type": "code",
      "metadata": {
        "id": "y8DeQLogMvMS",
        "colab_type": "code",
        "colab": {}
      },
      "source": [
        "from sklearn.datasets import make_classification\n",
        "from train_model import train_network\n",
        "import torch\n",
        "import numpy as np\n",
        "from matplotlib import pyplot as plt\n",
        "device = torch.device(\"cuda\" if torch.cuda.is_available() else \"cpu\")\n",
        "print(device)"
      ],
      "execution_count": 5,
      "outputs": []
    },
    {
      "cell_type": "code",
      "metadata": {
        "id": "oC4jF5sgTN10",
        "colab_type": "code",
        "colab": {}
      },
      "source": [
        "import torch.nn as nn\n",
        "import torch.optim as optim\n",
        "import torch.nn.functional as F\n",
        "%matplotlib inline\n",
        "from torch.utils.data import Dataset, DataLoader"
      ],
      "execution_count": 2,
      "outputs": []
    },
    {
      "cell_type": "code",
      "metadata": {
        "id": "2z0XHrfXgkdz",
        "colab_type": "code",
        "colab": {}
      },
      "source": [
        "n_mosaic = 3000\n",
        "K = 10\n",
        "d = 4\n",
        "n_classes = 5"
      ],
      "execution_count": 3,
      "outputs": []
    },
    {
      "cell_type": "code",
      "metadata": {
        "id": "ss9xqfwRNGy6",
        "colab_type": "code",
        "colab": {}
      },
      "source": [
        "x,y = make_classification(n_samples=500,n_features=d,n_informative=d,n_redundant=0,n_repeated= 0,n_classes=n_classes,n_clusters_per_class=1,flip_y=0.20,random_state=1234)   #D_4 random_state 1234 flipy 0.20    D_5 1236 flipy 0.15\n"
      ],
      "execution_count": 4,
      "outputs": []
    },
    {
      "cell_type": "code",
      "metadata": {
        "id": "lF9Hj_NA3zdQ",
        "colab_type": "code",
        "colab": {}
      },
      "source": [
        "data = {'X':x,'Y':y}\n",
        "np.save(\"data_2.npy\",data)"
      ],
      "execution_count": 5,
      "outputs": []
    },
    {
      "cell_type": "code",
      "metadata": {
        "id": "t3zpIYZTN1PW",
        "colab_type": "code",
        "colab": {}
      },
      "source": [
        "# fg vs bg\n",
        "y1 = np.zeros(y.shape,dtype=np.long)\n",
        "indices = np.logical_or(y == 0,y==1)   #  0 and 1 indices are fg \n",
        "y1[indices] = 0   #fg indices at index 0\n",
        "y1[np.logical_not(indices)] = 1  #bg index at index1\n",
        "\n",
        "# fg1 vs fg2\n",
        "index = np.logical_or(y==0,y==1)\n",
        "x2 = x[index,:]\n",
        "y2 = np.zeros(index.shape,dtype=np.long)\n",
        "y2 = y[index]"
      ],
      "execution_count": 6,
      "outputs": []
    },
    {
      "cell_type": "code",
      "metadata": {
        "id": "CsNpin0cBj73",
        "colab_type": "code",
        "colab": {}
      },
      "source": [
        "class MosaicDataset(Dataset):\n",
        "  \"\"\"MosaicDataset dataset.\"\"\"\n",
        "\n",
        "  def __init__(self, mosaic_list, mosaic_label):\n",
        "    \"\"\"\n",
        "      Args:\n",
        "        csv_file (string): Path to the csv file with annotations.\n",
        "        root_dir (string): Directory with all the images.\n",
        "        transform (callable, optional): Optional transform to be applied\n",
        "            on a sample.\n",
        "    \"\"\"\n",
        "    self.mosaic = mosaic_list\n",
        "    self.label = mosaic_label\n",
        "    \n",
        "\n",
        "  def __len__(self):\n",
        "    return len(self.label)\n",
        "\n",
        "  def __getitem__(self, idx):\n",
        "    return self.mosaic[idx] , self.label[idx]\n",
        "\n",
        "batch = 250\n",
        "# dataset = MosaicDataset(x2,y2)\n",
        "# traindataloader = DataLoader( dataset,batch_size= batch ,shuffle=True)"
      ],
      "execution_count": 7,
      "outputs": []
    },
    {
      "cell_type": "markdown",
      "metadata": {
        "id": "D1qgNILFA3Oi",
        "colab_type": "text"
      },
      "source": [
        "# linear Models (fgvsbg and fg1vsfg2)"
      ]
    },
    {
      "cell_type": "code",
      "metadata": {
        "id": "w-Wyg1IdOUZC",
        "colab_type": "code",
        "colab": {}
      },
      "source": [
        "class Net_linear(nn.Module):\n",
        "  def __init__(self):\n",
        "    super(Net_linear,self).__init__()\n",
        "    self.linear1 = nn.Linear(d,2)\n",
        "    \n",
        "  def forward(self,x):\n",
        "    x = self.linear1(x)\n",
        "   \n",
        "    return x"
      ],
      "execution_count": null,
      "outputs": []
    },
    {
      "cell_type": "code",
      "metadata": {
        "id": "CYh-U-c0Giwu",
        "colab_type": "code",
        "colab": {}
      },
      "source": [
        "dataset = MosaicDataset(x,y1)\n",
        "traindataloader = DataLoader( dataset,batch_size= batch ,shuffle=True)\n",
        "net = Net_linear().double()\n",
        "net =net.to(device)\n",
        "train_model =train_network(net,traindataloader)\n",
        "train_model.training(epochs=200,mini=1)\n",
        "\n"
      ],
      "execution_count": 6,
      "outputs": []
    },
    {
      "cell_type": "code",
      "metadata": {
        "id": "Pndp6g9KGvE8",
        "colab_type": "code",
        "colab": {}
      },
      "source": [
        "_,_=train_model.predict(traindataloader,True)\n",
        "plt.plot(train_model.train_loss)"
      ],
      "execution_count": 7,
      "outputs": []
    },
    {
      "cell_type": "markdown",
      "metadata": {
        "id": "_WFn6drO8Vup",
        "colab_type": "text"
      },
      "source": [
        "***Saving Pretrained Focus Network fg vs bg***"
      ]
    },
    {
      "cell_type": "code",
      "metadata": {
        "id": "5pcHH-Pa8U82",
        "colab_type": "code",
        "colab": {}
      },
      "source": [
        "train_model.save_models(\"pretrained_focusl_net\")"
      ],
      "execution_count": null,
      "outputs": []
    },
    {
      "cell_type": "code",
      "metadata": {
        "id": "c-1dlf0FG0ua",
        "colab_type": "code",
        "colab": {}
      },
      "source": [
        "dataset = MosaicDataset(x2,y2)\n",
        "traindataloader = DataLoader( dataset,batch_size= batch ,shuffle=True)\n",
        "net = Net_linear().double()\n",
        "net =net.to(device)\n",
        "train_model =train_network(net,traindataloader)\n",
        "train_model.training(epochs=100,mini=1)\n",
        "\n"
      ],
      "execution_count": 8,
      "outputs": []
    },
    {
      "cell_type": "code",
      "metadata": {
        "id": "axklMeL5G5gu",
        "colab_type": "code",
        "colab": {}
      },
      "source": [
        "_,_=train_model.predict(traindataloader,True)\n",
        "plt.plot(train_model.train_loss)"
      ],
      "execution_count": 9,
      "outputs": []
    },
    {
      "cell_type": "markdown",
      "metadata": {
        "id": "8msZKCtf9FfL",
        "colab_type": "text"
      },
      "source": [
        "***Saving Classification Network fg1 vs fg2***"
      ]
    },
    {
      "cell_type": "code",
      "metadata": {
        "id": "ykug-Mgg9EfC",
        "colab_type": "code",
        "colab": {}
      },
      "source": [
        "train_model.save_models(\"pretrained_classifyl_net\")"
      ],
      "execution_count": null,
      "outputs": []
    },
    {
      "cell_type": "markdown",
      "metadata": {
        "id": "ZI1RrwwjBUiq",
        "colab_type": "text"
      },
      "source": [
        "# train deep models (fgvsbg and fg1vsfg2)"
      ]
    },
    {
      "cell_type": "code",
      "metadata": {
        "id": "XoNCSKm5BQA-",
        "colab_type": "code",
        "colab": {}
      },
      "source": [
        "class Net_deep(nn.Module):\n",
        "  def __init__(self):\n",
        "    super(Net_deep,self).__init__()\n",
        "    self.linear1 = nn.Linear(d,50)\n",
        "    self.linear2 = nn.Linear(50,2)\n",
        "  def forward(self,x):\n",
        "    x = F.relu(self.linear1(x))\n",
        "    x = self.linear2(x)\n",
        "    \n",
        "    return x"
      ],
      "execution_count": null,
      "outputs": []
    },
    {
      "cell_type": "code",
      "metadata": {
        "id": "ZpqDaf5BBT5H",
        "colab_type": "code",
        "colab": {}
      },
      "source": [
        "dataset = MosaicDataset(x,y1)\n",
        "traindataloader = DataLoader( dataset,batch_size= batch ,shuffle=True)\n",
        "net = Net_deep().double()\n",
        "net =net.to(device)\n",
        "train_model =train_network(net,traindataloader)\n",
        "train_model.training(epochs=200,mini=1)"
      ],
      "execution_count": 10,
      "outputs": []
    },
    {
      "cell_type": "code",
      "metadata": {
        "id": "x70NoWv1BRGx",
        "colab_type": "code",
        "colab": {}
      },
      "source": [
        "_,_=train_model.predict(traindataloader,True)\n",
        "plt.plot(train_model.train_loss)"
      ],
      "execution_count": 11,
      "outputs": []
    },
    {
      "cell_type": "markdown",
      "metadata": {
        "id": "J3KSZScCCVNl",
        "colab_type": "text"
      },
      "source": [
        "***Saving Pretrained Focus Network fg vs bg***"
      ]
    },
    {
      "cell_type": "code",
      "metadata": {
        "id": "UcXDYHluBPmK",
        "colab_type": "code",
        "colab": {}
      },
      "source": [
        "train_model.save_models(\"pretrained_focusd_net\")"
      ],
      "execution_count": null,
      "outputs": []
    },
    {
      "cell_type": "code",
      "metadata": {
        "id": "rcF853fPBPf6",
        "colab_type": "code",
        "colab": {}
      },
      "source": [
        "dataset = MosaicDataset(x2,y2)\n",
        "traindataloader = DataLoader( dataset,batch_size= batch ,shuffle=True)\n",
        "net = Net_deep().double()\n",
        "net =net.to(device)\n",
        "train_model =train_network(net,traindataloader)\n",
        "train_model.training(epochs=100,mini=1)\n"
      ],
      "execution_count": 12,
      "outputs": []
    },
    {
      "cell_type": "code",
      "metadata": {
        "id": "N-fgBOeNCSPq",
        "colab_type": "code",
        "colab": {}
      },
      "source": [
        "_,_=train_model.predict(traindataloader,True)\n",
        "plt.plot(train_model.train_loss)"
      ],
      "execution_count": 13,
      "outputs": []
    },
    {
      "cell_type": "markdown",
      "metadata": {
        "id": "ArVEJmc9C0U4",
        "colab_type": "text"
      },
      "source": [
        "***Saving Classification Network fg1 vs fg2***"
      ]
    },
    {
      "cell_type": "code",
      "metadata": {
        "id": "1i-xcN-UCRxt",
        "colab_type": "code",
        "colab": {}
      },
      "source": [
        "train_model.save_models(\"pretrained_classifyd_net\")"
      ],
      "execution_count": null,
      "outputs": []
    },
    {
      "cell_type": "markdown",
      "metadata": {
        "id": "OEZ2uF7RT-Ma",
        "colab_type": "text"
      },
      "source": [
        "# Mosaic Data"
      ]
    },
    {
      "cell_type": "code",
      "metadata": {
        "id": "QBotssp9T90-",
        "colab_type": "code",
        "colab": {}
      },
      "source": [
        ""
      ],
      "execution_count": null,
      "outputs": []
    },
    {
      "cell_type": "code",
      "metadata": {
        "id": "RUUBZTohPzOb",
        "colab_type": "code",
        "colab": {}
      },
      "source": [
        "from plots import plot_analysis,focus_map,classification_map\n",
        "from Models_Elemental import Focus_linear,Classification_linear\n",
        "from Models_Elemental import Focus_deep,Classification_deep\n",
        "from train_mosaic_new import train_mosaic_network"
      ],
      "execution_count": 14,
      "outputs": []
    },
    {
      "cell_type": "code",
      "metadata": {
        "id": "rmrYB1ZxXWFe",
        "colab_type": "code",
        "colab": {}
      },
      "source": [
        ""
      ],
      "execution_count": 8,
      "outputs": []
    },
    {
      "cell_type": "code",
      "metadata": {
        "id": "AHta2uYPYvYe",
        "colab_type": "code",
        "colab": {}
      },
      "source": [
        "idx= []\n",
        "for i in range(n_classes):\n",
        "    print(i,sum(y==i))\n",
        "    idx.append(y==i)"
      ],
      "execution_count": 15,
      "outputs": []
    },
    {
      "cell_type": "code",
      "metadata": {
        "id": "gBVbMt1pXOh5",
        "colab_type": "code",
        "colab": {}
      },
      "source": [
        "foreground_classes = {'class_0' ,'class_1'}\n",
        "\n",
        "background_classes = {'class_2','class_3'}#,'class_4', 'class_5', 'class_6','class_7', 'class_8', 'class_9'}"
      ],
      "execution_count": 10,
      "outputs": []
    },
    {
      "cell_type": "code",
      "metadata": {
        "id": "R809PzUOXcmD",
        "colab_type": "code",
        "colab": {}
      },
      "source": [
        "\n",
        "mosaic_list =[]\n",
        "mosaic_label = []\n",
        "fore_idx=[]\n",
        "for j in range(n_mosaic):\n",
        "    fg_class  = np.random.randint(0,len(foreground_classes))\n",
        "    fg_idx = np.random.randint(0,K)\n",
        "    a = []\n",
        "    for i in range(K):\n",
        "        if i == fg_idx:\n",
        "            b = np.random.choice(np.where(idx[fg_class]==True)[0],size=1)\n",
        "            a.append(x[b])\n",
        "#             print(\"foreground \"+str(fg_class)+\" present at \" + str(fg_idx))\n",
        "        else:\n",
        "            bg_class = np.random.randint(len(foreground_classes),n_classes)\n",
        "            b = np.random.choice(np.where(idx[bg_class]==True)[0],size=1)\n",
        "            a.append(x[b])\n",
        "#             print(\"background \"+str(bg_class)+\" present at \" + str(i))\n",
        "    a = np.concatenate(a,axis=0)\n",
        "    mosaic_list.append(np.reshape(a,(d*K,1)))\n",
        "    mosaic_label.append(fg_class)\n",
        "    fore_idx.append(fg_idx)"
      ],
      "execution_count": 11,
      "outputs": []
    },
    {
      "cell_type": "code",
      "metadata": {
        "id": "Aw_D4qWsXipJ",
        "colab_type": "code",
        "colab": {}
      },
      "source": [
        "mosaic_list = np.concatenate(mosaic_list,axis=1).T\n",
        "mosaic_list.shape"
      ],
      "execution_count": 16,
      "outputs": []
    },
    {
      "cell_type": "code",
      "metadata": {
        "id": "XrbrIMyYe6YG",
        "colab_type": "code",
        "colab": {}
      },
      "source": [
        "np.unique(mosaic_label)"
      ],
      "execution_count": 17,
      "outputs": []
    },
    {
      "cell_type": "code",
      "metadata": {
        "id": "PjZ6_ibS8vEL",
        "colab_type": "code",
        "colab": {}
      },
      "source": [
        "mosaic_data = {\"X\":mosaic_list,\"Y\":mosaic_label,\"foreground_indices\":fore_idx}\n",
        "np.save(\"mosaic_data_4.npy\",mosaic_data)"
      ],
      "execution_count": 14,
      "outputs": []
    },
    {
      "cell_type": "markdown",
      "metadata": {
        "id": "b8ST0OKv6MWt",
        "colab_type": "text"
      },
      "source": [
        "# Linear Support Vector Classifier on Mosaic Data"
      ]
    },
    {
      "cell_type": "code",
      "metadata": {
        "id": "Z0konpaZY7g5",
        "colab_type": "code",
        "colab": {}
      },
      "source": [
        "from sklearn.svm import SVC\n",
        "sv = SVC(C=100,kernel=\"linear\")\n",
        "sv.fit(mosaic_list,mosaic_label)\n",
        "print(sv.score(mosaic_list,mosaic_label))"
      ],
      "execution_count": 18,
      "outputs": []
    },
    {
      "cell_type": "markdown",
      "metadata": {
        "id": "htQYQzUXHoEh",
        "colab_type": "text"
      },
      "source": [
        "# Deep Network For Mosaic Data"
      ]
    },
    {
      "cell_type": "code",
      "metadata": {
        "id": "OBNKPEd_HnVP",
        "colab_type": "code",
        "colab": {}
      },
      "source": [
        "class Net1(nn.Module):\n",
        "  def __init__(self):\n",
        "    super(Net1,self).__init__()\n",
        "    self.linear1 = nn.Linear(d*K,50)\n",
        "    self.linear2 = nn.Linear(50,50)\n",
        "    self.linear3 = nn.Linear(50,50)\n",
        "    self.linear4 = nn.Linear(50,2)\n",
        "  def forward(self,x):\n",
        "    x = F.relu(self.linear1(x))\n",
        "    x = F.relu(self.linear2(x))\n",
        "    x = F.relu(self.linear3(x))\n",
        "    x = self.linear4(x)\n",
        "    return x"
      ],
      "execution_count": 15,
      "outputs": []
    },
    {
      "cell_type": "code",
      "metadata": {
        "id": "wbc_IhqtHmZP",
        "colab_type": "code",
        "colab": {}
      },
      "source": [
        "class MosaicData(Dataset):\n",
        "  \"\"\"MosaicDataset dataset (without foreidx).\"\"\"\n",
        "\n",
        "  def __init__(self, mosaic_list, mosaic_label):\n",
        "    \"\"\"\n",
        "      Args:\n",
        "        csv_file (string): Path to the csv file with annotations.\n",
        "        root_dir (string): Directory with all the images.\n",
        "        transform (callable, optional): Optional transform to be applied\n",
        "            on a sample.\n",
        "    \"\"\"\n",
        "    self.mosaic = mosaic_list\n",
        "    self.label = mosaic_label\n",
        "\n",
        "  def __len__(self):\n",
        "    return len(self.label)\n",
        "\n",
        "  def __getitem__(self, idx):\n",
        "    return self.mosaic[idx] , self.label[idx]\n",
        "\n",
        "batch = 250"
      ],
      "execution_count": 16,
      "outputs": []
    },
    {
      "cell_type": "code",
      "metadata": {
        "id": "Epv30aLsHmA3",
        "colab_type": "code",
        "colab": {}
      },
      "source": [
        "dataset = MosaicData(mosaic_list,mosaic_label)\n",
        "mosaicdataloader = DataLoader( dataset,batch_size= batch ,shuffle=True)\n",
        "net1 = Net1().double()\n",
        "net1 =net1.to(device)\n",
        "train_mosaic =train_network(net1,mosaicdataloader)\n",
        "train_mosaic.training(epochs=200,mini=1)"
      ],
      "execution_count": 19,
      "outputs": []
    },
    {
      "cell_type": "code",
      "metadata": {
        "id": "AIyvHH_RLLUC",
        "colab_type": "code",
        "colab": {}
      },
      "source": [
        "_,_=train_mosaic.predict(mosaicdataloader,True)\n",
        "plt.plot(train_mosaic.train_loss)"
      ],
      "execution_count": 20,
      "outputs": []
    },
    {
      "cell_type": "markdown",
      "metadata": {
        "id": "So7SnPu2HuiG",
        "colab_type": "text"
      },
      "source": [
        "# Attention Networks"
      ]
    },
    {
      "cell_type": "code",
      "metadata": {
        "id": "PSsaq4KNZFdx",
        "colab_type": "code",
        "colab": {}
      },
      "source": [
        "class MosaicDataset(Dataset):\n",
        "  \"\"\"MosaicDataset dataset.\"\"\"\n",
        "\n",
        "  def __init__(self, mosaic_list, mosaic_label, fore_idx):\n",
        "    \"\"\"\n",
        "      Args:\n",
        "        csv_file (string): Path to the csv file with annotations.\n",
        "        root_dir (string): Directory with all the images.\n",
        "        transform (callable, optional): Optional transform to be applied\n",
        "            on a sample.\n",
        "    \"\"\"\n",
        "    self.mosaic = mosaic_list\n",
        "    self.label = mosaic_label\n",
        "    self.fore_idx = fore_idx\n",
        "\n",
        "  def __len__(self):\n",
        "    return len(self.label)\n",
        "\n",
        "  def __getitem__(self, idx):\n",
        "    return self.mosaic[idx] , self.label[idx], self.fore_idx[idx]\n",
        "\n",
        "batch = 250\n",
        "msd = MosaicDataset(mosaic_list, mosaic_label , fore_idx)\n",
        "train_loader = DataLoader( msd,batch_size= batch ,shuffle=True)"
      ],
      "execution_count": 15,
      "outputs": []
    },
    {
      "cell_type": "code",
      "metadata": {
        "id": "5rDIHNej6YVL",
        "colab_type": "code",
        "colab": {}
      },
      "source": [
        ""
      ],
      "execution_count": 15,
      "outputs": []
    },
    {
      "cell_type": "markdown",
      "metadata": {
        "id": "zW6typIg6ZBR",
        "colab_type": "text"
      },
      "source": [
        "# linear Attention network"
      ]
    },
    {
      "cell_type": "code",
      "metadata": {
        "id": "5IeDVvLLfXjy",
        "colab_type": "code",
        "colab": {}
      },
      "source": [
        "pretrained_classify = True\n",
        "pretrained_focus = True\n",
        "if pretrained_classify == True:\n",
        "  where = Focus_linear(d,1,K,d).double()\n",
        "  what = Classification_linear(d,2).double()\n",
        "  what.load_state_dict( torch.load(\"pretrained_classifyl_net.pt\"))\n",
        "\n",
        "if pretrained_focus == True:\n",
        "  where = Focus_linear(d,2,K,d,pretrained=True).double()\n",
        "  what = Classification_linear(d,2).double()\n",
        "  where.load_state_dict( torch.load(\"pretrained_focusl_net.pt\"))\n",
        "if pretrained_focus == False and pretrained_classify == False:\n",
        "    where = Focus_linear(d,1,K,d).double()\n",
        "    what = Classification_linear(d,2).double()\n",
        "elif pretrained_focus ==True and pretrained_classify ==True:\n",
        "  where = Focus_linear(d,2,K,d,pretrained=True).double()\n",
        "  what = Classification_linear(d,2).double()\n",
        "  what.load_state_dict( torch.load(\"pretrained_classifyl_net.pt\"))\n",
        "  where.load_state_dict( torch.load(\"pretrained_focusl_net.pt\"))\n",
        "\n"
      ],
      "execution_count": null,
      "outputs": []
    },
    {
      "cell_type": "code",
      "metadata": {
        "id": "05BWdGD7ZXOs",
        "colab_type": "code",
        "colab": {}
      },
      "source": [
        "train_mosaic = train_mosaic_network(where,what,train_loader,elemental=False,lr=0.01)"
      ],
      "execution_count": null,
      "outputs": []
    },
    {
      "cell_type": "code",
      "metadata": {
        "id": "R4hrOA8pZcAi",
        "colab_type": "code",
        "colab": {}
      },
      "source": [
        "train_mosaic.training(epochs=200,mini=3,train_focus=True,train_classify=False)"
      ],
      "execution_count": 21,
      "outputs": []
    },
    {
      "cell_type": "code",
      "metadata": {
        "id": "KkMOQR1NZedU",
        "colab_type": "code",
        "colab": {}
      },
      "source": [
        "plot_analysis(np.array(train_mosaic.train_analysis))"
      ],
      "execution_count": 22,
      "outputs": []
    },
    {
      "cell_type": "code",
      "metadata": {
        "id": "HCJEUhbnZwAt",
        "colab_type": "code",
        "colab": {}
      },
      "source": [
        "plt.plot(train_mosaic.train_loss)"
      ],
      "execution_count": 23,
      "outputs": []
    },
    {
      "cell_type": "code",
      "metadata": {
        "id": "U9LEEjuBZ0m_",
        "colab_type": "code",
        "colab": {}
      },
      "source": [
        "_,_,_,_ = train_mosaic.predict(train_loader,True)"
      ],
      "execution_count": 24,
      "outputs": []
    },
    {
      "cell_type": "markdown",
      "metadata": {
        "id": "JXD-xrSR2_3x",
        "colab_type": "text"
      },
      "source": [
        "#  deep Attention Networks"
      ]
    },
    {
      "cell_type": "code",
      "metadata": {
        "id": "FmTLAiq__JeP",
        "colab_type": "code",
        "colab": {}
      },
      "source": [
        "pretrained_classify = True\n",
        "pretrained_focus = False\n",
        "if pretrained_classify == True:\n",
        "  where_deep = Focus_deep(d,1,K,d).double()\n",
        "  what_deep = Classification_deep(d,2).double()\n",
        "  what_deep.load_state_dict( torch.load(\"pretrained_classifyd_net.pt\"))\n",
        "\n",
        "if pretrained_focus == True:\n",
        "  where_deep = Focus_deep(d,2,K,d,pretrained=True).double()\n",
        "  what_deep = Classification_deep(d,2).double()\n",
        "  where_deep.load_state_dict( torch.load(\"pretrained_focusd_net.pt\"))\n",
        "if pretrained_focus == False and pretrained_classify == False:\n",
        "  where_deep = Focus_deep(d,1,K,d).double()\n",
        "  what_deep = Classification_deep(d,2).double()\n",
        "elif pretrained_focus ==True and pretrained_classify ==True:\n",
        "  where_deep = Focus_deep(d,2,K,d,pretrained=True).double()\n",
        "  what_deep = Classification_deep(d,2).double()\n",
        "  what_deep.load_state_dict( torch.load(\"pretrained_classifyd_net.pt\"))\n",
        "  where_deep.load_state_dict( torch.load(\"pretrained_focusd_net.pt\"))\n",
        "\n"
      ],
      "execution_count": null,
      "outputs": []
    },
    {
      "cell_type": "code",
      "metadata": {
        "id": "mEHzdCZECq_b",
        "colab_type": "code",
        "colab": {}
      },
      "source": [
        "train_mosaic_deep = train_mosaic_network(where_deep,what_deep,train_loader,elemental=False,lr =0.01)\n",
        "train_mosaic_deep.training(epochs=700,mini=3,train_focus=False,train_classify=True)"
      ],
      "execution_count": 25,
      "outputs": []
    },
    {
      "cell_type": "code",
      "metadata": {
        "id": "EXqVggBSCuNX",
        "colab_type": "code",
        "colab": {}
      },
      "source": [
        "plot_analysis(np.array(train_mosaic_deep.train_analysis))"
      ],
      "execution_count": 28,
      "outputs": []
    },
    {
      "cell_type": "code",
      "metadata": {
        "id": "TrWc_5oyC_lN",
        "colab_type": "code",
        "colab": {}
      },
      "source": [
        "plt.plot(train_mosaic_deep.train_loss)"
      ],
      "execution_count": 4,
      "outputs": []
    },
    {
      "cell_type": "code",
      "metadata": {
        "id": "zFv6fouEDBtn",
        "colab_type": "code",
        "colab": {}
      },
      "source": [
        "_,_,_,_ = train_mosaic_deep.predict(train_loader,True)"
      ],
      "execution_count": 3,
      "outputs": []
    },
    {
      "cell_type": "code",
      "metadata": {
        "id": "KYbgbtxIDFhc",
        "colab_type": "code",
        "colab": {}
      },
      "source": [
        ""
      ],
      "execution_count": null,
      "outputs": []
    },
    {
      "cell_type": "markdown",
      "metadata": {
        "id": "i-umQpH5s9md",
        "colab_type": "text"
      },
      "source": [
        "## linear deep attention network"
      ]
    },
    {
      "cell_type": "code",
      "metadata": {
        "id": "6U3Zek9etF15",
        "colab_type": "code",
        "colab": {}
      },
      "source": [
        "pretrained_classify = True\n",
        "pretrained_focus = True\n",
        "if pretrained_classify == True:\n",
        "  where_deep = Focus_linear(d,1,K,d).double()\n",
        "  what_deep = Classification_deep(d,2).double()\n",
        "  what_deep.load_state_dict( torch.load(\"pretrained_classifyd_net.pt\"))\n",
        "\n",
        "if pretrained_focus == True:\n",
        "  where_deep = Focus_linear(d,2,K,d,pretrained=True).double()\n",
        "  what_deep = Classification_deep(d,2).double()\n",
        "  where_deep.load_state_dict( torch.load(\"pretrained_focusl_net.pt\"))\n",
        "if pretrained_focus == False and pretrained_classify == False:\n",
        "  where_deep = Focus_linear(d,1,K,d).double()\n",
        "  what_deep = Classification_deep(d,2).double()\n",
        "elif pretrained_focus ==True and pretrained_classify ==True:\n",
        "  where_deep = Focus_linear(d,2,K,d,pretrained=True).double()\n",
        "  what_deep = Classification_deep(d,2).double()\n",
        "  what_deep.load_state_dict( torch.load(\"pretrained_classifyd_net.pt\"))\n",
        "  where_deep.load_state_dict( torch.load(\"pretrained_focusl_net.pt\"))"
      ],
      "execution_count": 50,
      "outputs": []
    },
    {
      "cell_type": "code",
      "metadata": {
        "id": "zxe9J5TstKQL",
        "colab_type": "code",
        "colab": {}
      },
      "source": [
        "train_mosaic_deep = train_mosaic_network(where_deep,what_deep,train_loader,elemental=False,lr =0.01)\n",
        "train_mosaic_deep.training(epochs=700,mini=3,train_focus=False,train_classify=True)\n",
        "plot_analysis(np.array(train_mosaic_deep.train_analysis))\n",
        "#plt.plot(train_mosaic_deep.train_loss)\n",
        "_,_,_,_ = train_mosaic_deep.predict(train_loader,True)"
      ],
      "execution_count": 2,
      "outputs": []
    },
    {
      "cell_type": "code",
      "metadata": {
        "id": "75Rq02qTtnGY",
        "colab_type": "code",
        "colab": {}
      },
      "source": [
        ""
      ],
      "execution_count": null,
      "outputs": []
    },
    {
      "cell_type": "markdown",
      "metadata": {
        "id": "JT9b3TBa5C0E",
        "colab_type": "text"
      },
      "source": [
        "# deep linear attention network"
      ]
    },
    {
      "cell_type": "code",
      "metadata": {
        "id": "mLRRBM1C5D1P",
        "colab_type": "code",
        "colab": {}
      },
      "source": [
        "pretrained_classify = True\n",
        "pretrained_focus = True\n",
        "if pretrained_classify == True:\n",
        "  where_deep = Focus_deep(d,1,K,d).double()\n",
        "  what_deep = Classification_linear(d,2).double()\n",
        "  what_deep.load_state_dict( torch.load(\"pretrained_classifyl_net.pt\"))\n",
        "\n",
        "if pretrained_focus == True:\n",
        "  where_deep = Focus_deep(d,2,K,d,pretrained=True).double()\n",
        "  what_deep = Classification_linear(d,2).double()\n",
        "  where_deep.load_state_dict( torch.load(\"pretrained_focusd_net.pt\"))\n",
        "if pretrained_focus == False and pretrained_classify == False:\n",
        "  where_deep = Focus_deep(d,1,K,d).double()\n",
        "  what_deep = Classification_linear(d,2).double()\n",
        "elif pretrained_focus ==True and pretrained_classify ==True:\n",
        "  where_deep = Focus_deep(d,2,K,d,pretrained=True).double()\n",
        "  what_deep = Classification_linear(d,2).double()\n",
        "  what_deep.load_state_dict( torch.load(\"pretrained_classifyl_net.pt\"))\n",
        "  where_deep.load_state_dict( torch.load(\"pretrained_focusd_net.pt\"))"
      ],
      "execution_count": 86,
      "outputs": []
    },
    {
      "cell_type": "code",
      "metadata": {
        "id": "NkGX5M1Q5a05",
        "colab_type": "code",
        "colab": {}
      },
      "source": [
        "train_mosaic_deep = train_mosaic_network(where_deep,what_deep,train_loader,elemental=False,lr =0.01)\n",
        "train_mosaic_deep.training(epochs=700,mini=3,train_focus=False,train_classify=True)\n",
        "plot_analysis(np.array(train_mosaic_deep.train_analysis))\n",
        "#plt.plot(train_mosaic_deep.train_loss)\n",
        "_,_,_,_ = train_mosaic_deep.predict(train_loader,True)"
      ],
      "execution_count": 1,
      "outputs": []
    },
    {
      "cell_type": "code",
      "metadata": {
        "id": "Njsf7k1G55nY",
        "colab_type": "code",
        "colab": {}
      },
      "source": [
        ""
      ],
      "execution_count": null,
      "outputs": []
    }
  ]
}