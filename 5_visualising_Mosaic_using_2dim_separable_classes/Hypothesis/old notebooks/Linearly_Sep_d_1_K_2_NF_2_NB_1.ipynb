{
  "nbformat": 4,
  "nbformat_minor": 0,
  "metadata": {
    "kernelspec": {
      "display_name": "Python 3",
      "language": "python",
      "name": "python3"
    },
    "language_info": {
      "codemirror_mode": {
        "name": "ipython",
        "version": 3
      },
      "file_extension": ".py",
      "mimetype": "text/x-python",
      "name": "python",
      "nbconvert_exporter": "python",
      "pygments_lexer": "ipython3",
      "version": "3.6.2"
    },
    "colab": {
      "name": "Linearly_Sep_d_1_K_2_NF_2_NB_1.ipynb",
      "provenance": [],
      "collapsed_sections": []
    }
  },
  "cells": [
    {
      "cell_type": "code",
      "metadata": {
        "colab": {
          "base_uri": "https://localhost:8080/"
        },
        "id": "SUUYMKTnSNLA",
        "outputId": "93fec3e3-58d4-4029-d7a1-62fe9f5010a7"
      },
      "source": [
        "import numpy as np\n",
        "import pandas as pd\n",
        "from matplotlib import pyplot as plt\n",
        "from tqdm import tqdm\n",
        "%matplotlib inline\n",
        "from torch.utils.data import Dataset, DataLoader\n",
        "import torch\n",
        "import torchvision\n",
        "\n",
        "import torch.nn as nn\n",
        "import torch.optim as optim\n",
        "from torch.nn import functional as F\n",
        "\n",
        "from sklearn.svm import SVC\n",
        "\n",
        "device = torch.device(\"cuda\" if torch.cuda.is_available() else \"cpu\")\n",
        "print(device)"
      ],
      "execution_count": 1,
      "outputs": [
        {
          "output_type": "stream",
          "text": [
            "cpu\n"
          ],
          "name": "stdout"
        }
      ]
    },
    {
      "cell_type": "markdown",
      "metadata": {
        "id": "_ptLNhpJSNLB"
      },
      "source": [
        "# Generate dataset"
      ]
    },
    {
      "cell_type": "code",
      "metadata": {
        "colab": {
          "base_uri": "https://localhost:8080/"
        },
        "id": "I2wSJqkESNLC",
        "outputId": "c95d70c0-8a0b-4830-ae2d-4c77cf85870c"
      },
      "source": [
        "y = np.random.randint(0,3,150)\n",
        "idx= []\n",
        "for i in range(3):\n",
        "    print(i,sum(y==i))\n",
        "    idx.append(y==i)"
      ],
      "execution_count": 2,
      "outputs": [
        {
          "output_type": "stream",
          "text": [
            "0 53\n",
            "1 56\n",
            "2 41\n"
          ],
          "name": "stdout"
        }
      ]
    },
    {
      "cell_type": "code",
      "metadata": {
        "id": "koPOyRDDSNLC"
      },
      "source": [
        "x = np.zeros((150,))\n",
        "# x1 = np.zeros((500,2))"
      ],
      "execution_count": 3,
      "outputs": []
    },
    {
      "cell_type": "code",
      "metadata": {
        "id": "oER8tnoRSNLC"
      },
      "source": [
        "x[idx[0]] = np.random.uniform(low =-1,high =0,size= sum(idx[0]))\n",
        "x[idx[1]] = np.random.uniform(low =2,high =3,size= sum(idx[1]))\n",
        "x[idx[2]] = np.random.uniform(low =0,high =1,size= sum(idx[2]))\n",
        "\n"
      ],
      "execution_count": 4,
      "outputs": []
    },
    {
      "cell_type": "code",
      "metadata": {
        "colab": {
          "base_uri": "https://localhost:8080/"
        },
        "id": "GY7DoO0zSNLC",
        "outputId": "cc4d479a-43a0-40f3-bafc-35cc04f1a137"
      },
      "source": [
        "print(x.shape,y.shape)"
      ],
      "execution_count": 5,
      "outputs": [
        {
          "output_type": "stream",
          "text": [
            "(150,) (150,)\n"
          ],
          "name": "stdout"
        }
      ]
    },
    {
      "cell_type": "code",
      "metadata": {
        "id": "KfePCjMBSNLD"
      },
      "source": [
        "idx= []\n",
        "for i in range(3):\n",
        "    idx.append(y==i)"
      ],
      "execution_count": 6,
      "outputs": []
    },
    {
      "cell_type": "markdown",
      "metadata": {
        "id": "s5lVv1KWSNLD"
      },
      "source": [
        "# visualise data distribution"
      ]
    },
    {
      "cell_type": "code",
      "metadata": {
        "colab": {
          "base_uri": "https://localhost:8080/",
          "height": 282
        },
        "id": "q6rSO5teSNLE",
        "outputId": "66367f57-5b21-4731-9777-f5e52af7ae79"
      },
      "source": [
        "for i in range(3):\n",
        "    y= np.zeros(x[idx[i]].shape[0])\n",
        "    plt.scatter(x[idx[i]],y,label=\"class_\"+str(i))\n",
        "plt.legend(loc='center left', bbox_to_anchor=(1, 0.5))"
      ],
      "execution_count": 7,
      "outputs": [
        {
          "output_type": "execute_result",
          "data": {
            "text/plain": [
              "<matplotlib.legend.Legend at 0x7fe4ba25ca20>"
            ]
          },
          "metadata": {
            "tags": []
          },
          "execution_count": 7
        },
        {
          "output_type": "display_data",
          "data": {
            "image/png": "[encoded data removed]",
            "text/plain": [
              "<Figure size 432x288 with 1 Axes>"
            ]
          },
          "metadata": {
            "tags": [],
            "needs_background": "light"
          }
        }
      ]
    },
    {
      "cell_type": "code",
      "metadata": {
        "id": "evPQmXWGSNLE"
      },
      "source": [
        "foreground_classes = {'class_0','class_1'}\n",
        "\n",
        "background_classes = {'class_2'}"
      ],
      "execution_count": 8,
      "outputs": []
    },
    {
      "cell_type": "code",
      "metadata": {
        "colab": {
          "base_uri": "https://localhost:8080/"
        },
        "id": "afoexomFSNLF",
        "outputId": "b21d6a7e-019a-4489-ad04-c1e1aa47210a"
      },
      "source": [
        "fg_class  = np.random.randint(0,2)\n",
        "fg_idx = np.random.randint(0,2)\n",
        "\n",
        "a = []\n",
        "for i in range(2):\n",
        "    if i == fg_idx:\n",
        "        b = np.random.choice(np.where(idx[fg_class]==True)[0],size=1)\n",
        "        a.append(x[b])\n",
        "        print(\"foreground \"+str(fg_class)+\" present at \" + str(fg_idx))\n",
        "    else:\n",
        "        bg_class = np.random.randint(2,3)\n",
        "        b = np.random.choice(np.where(idx[bg_class]==True)[0],size=1)\n",
        "        a.append(x[b])\n",
        "        print(\"background \"+str(bg_class)+\" present at \" + str(i))\n",
        "a = np.concatenate(a,axis=0)\n",
        "#print(a.shape)\n",
        "\n",
        "print(fg_class , fg_idx)"
      ],
      "execution_count": 9,
      "outputs": [
        {
          "output_type": "stream",
          "text": [
            "background 2 present at 0\n",
            "foreground 0 present at 1\n",
            "0 1\n"
          ],
          "name": "stdout"
        }
      ]
    },
    {
      "cell_type": "code",
      "metadata": {
        "colab": {
          "base_uri": "https://localhost:8080/"
        },
        "id": "CdoEGabMSNLF",
        "outputId": "f5907018-58c3-41f9-c9d3-eefabf72056d"
      },
      "source": [
        "a"
      ],
      "execution_count": 10,
      "outputs": [
        {
          "output_type": "execute_result",
          "data": {
            "text/plain": [
              "array([ 0.66471976, -0.35077419])"
            ]
          },
          "metadata": {
            "tags": []
          },
          "execution_count": 10
        }
      ]
    },
    {
      "cell_type": "code",
      "metadata": {
        "id": "pb8GKnSASNLF"
      },
      "source": [
        "desired_num = 1000\n",
        "mosaic_list =[]\n",
        "mosaic_label = []\n",
        "fore_idx=[]\n",
        "for j in range(desired_num):\n",
        "    fg_class  = np.random.randint(0,2)\n",
        "    fg_idx = np.random.randint(0,2)\n",
        "    a = []\n",
        "    for i in range(2):\n",
        "        if i == fg_idx:\n",
        "            b = np.random.choice(np.where(idx[fg_class]==True)[0],size=1)\n",
        "            a.append(x[b])\n",
        "#             print(\"foreground \"+str(fg_class)+\" present at \" + str(fg_idx))\n",
        "        else:\n",
        "            bg_class = np.random.randint(2,3)\n",
        "            b = np.random.choice(np.where(idx[bg_class]==True)[0],size=1)\n",
        "            a.append(x[b])\n",
        "#             print(\"background \"+str(bg_class)+\" present at \" + str(i))\n",
        "    a = np.concatenate(a,axis=0)\n",
        "    mosaic_list.append(np.reshape(a,(2,1)))\n",
        "    mosaic_label.append(fg_class)\n",
        "    fore_idx.append(fg_idx)"
      ],
      "execution_count": 11,
      "outputs": []
    },
    {
      "cell_type": "code",
      "metadata": {
        "colab": {
          "base_uri": "https://localhost:8080/"
        },
        "id": "-L9VmLBpSNLF",
        "outputId": "9942ba26-0883-4054-f561-4e8c253fc4ae"
      },
      "source": [
        "mosaic_list = np.concatenate(mosaic_list,axis=1).T\n",
        "print(mosaic_list)"
      ],
      "execution_count": 12,
      "outputs": [
        {
          "output_type": "stream",
          "text": [
            "[[-0.35623866  0.21297637]\n",
            " [ 2.4912696   0.4663985 ]\n",
            " [ 2.37016755  0.03289332]\n",
            " ...\n",
            " [ 0.15036806  2.71776593]\n",
            " [ 0.96223938 -0.30946238]\n",
            " [ 0.5112176   2.92621607]]\n"
          ],
          "name": "stdout"
        }
      ]
    },
    {
      "cell_type": "code",
      "metadata": {
        "colab": {
          "base_uri": "https://localhost:8080/"
        },
        "id": "CRk67UT_SNLG",
        "outputId": "9dc04d25-e4b6-4217-b34b-ee9d27c0fe02"
      },
      "source": [
        "print(np.shape(mosaic_label))\n",
        "print(np.shape(fore_idx))"
      ],
      "execution_count": 13,
      "outputs": [
        {
          "output_type": "stream",
          "text": [
            "(1000,)\n",
            "(1000,)\n"
          ],
          "name": "stdout"
        }
      ]
    },
    {
      "cell_type": "code",
      "metadata": {
        "id": "EDPZsir5SNLG"
      },
      "source": [
        "class MosaicDataset(Dataset):\n",
        "    \"\"\"MosaicDataset dataset.\"\"\"\n",
        "    \n",
        "    \n",
        "    def __init__(self, mosaic_list, mosaic_label, fore_idx):\n",
        "        \"\"\"\n",
        "          Args:\n",
        "            csv_file (string): Path to the csv file with annotations.\n",
        "            root_dir (string): Directory with all the images.\n",
        "            transform (callable, optional): Optional transform to be applied\n",
        "                on a sample.\n",
        "        \"\"\"\n",
        "        self.mosaic = mosaic_list\n",
        "        self.label = mosaic_label\n",
        "        self.fore_idx = fore_idx\n",
        "\n",
        "    def __len__(self):\n",
        "        return len(self.label)\n",
        "\n",
        "    def __getitem__(self, idx):\n",
        "        return self.mosaic[idx] , self.label[idx], self.fore_idx[idx]\n",
        "\n",
        "batch = 250\n",
        "msd = MosaicDataset(mosaic_list, mosaic_label , fore_idx)\n",
        "train_loader = DataLoader( msd,batch_size= batch ,shuffle=False)"
      ],
      "execution_count": 14,
      "outputs": []
    },
    {
      "cell_type": "code",
      "metadata": {
        "id": "1krS8TDKSNLG"
      },
      "source": [
        "class Wherenet(nn.Module):\n",
        "    def __init__(self):\n",
        "        super(Wherenet,self).__init__()\n",
        "        self.linear1 = nn.Linear(1,1)\n",
        "\n",
        "    def forward(self,z):\n",
        "        x = torch.zeros([batch,2],dtype=torch.float64)\n",
        "        y = torch.zeros([batch], dtype=torch.float64)\n",
        "        #x,y = x.to(\"cuda\"),y.to(\"cuda\")\n",
        "        for i in range(2):\n",
        "            x[:,i] = self.helper(z[:,i])[:,0]\n",
        "            #print(k[:,0].shape,x[:,i].shape)\n",
        "        x = F.softmax(x,dim=1)   # alphas\n",
        "        \n",
        "        #print(\"after network\",x.shape)\n",
        "        x1 = x[:,0]\n",
        "        #print(\"alphas before\",y.shape)\n",
        "        for i in range(2):\n",
        "            x1 = x[:,i]          \n",
        "            #print(torch.mul(x1,z[:,i]).shape)\n",
        "            y = y+torch.mul(x1,z[:,i])\n",
        "            #print(\"alphas\",y.shape)\n",
        "        #print(y[0])\n",
        "        return y[:,None] , x \n",
        "\n",
        "    \n",
        "    def helper(self,x):\n",
        "        #print(x.shape)\n",
        "        x = self.linear1(x[:,None])\n",
        "#         x = F.relu(self.linear2(x))\n",
        "#         x = self.linear3(x)\n",
        "        return x\n",
        "\n",
        "    "
      ],
      "execution_count": 15,
      "outputs": []
    },
    {
      "cell_type": "code",
      "metadata": {
        "id": "h9h3KKx2SNLG"
      },
      "source": [
        "trainiter = iter(train_loader)\n",
        "input1,labels1,index1 = trainiter.next()\n",
        "\n"
      ],
      "execution_count": 16,
      "outputs": []
    },
    {
      "cell_type": "code",
      "metadata": {
        "id": "fwzJjZkQSNLG"
      },
      "source": [
        "where = Wherenet().double()\n",
        "where = where\n",
        "out_avg,alphas = where(input1)\n",
        "#out_where.shape,alphas.shape"
      ],
      "execution_count": 47,
      "outputs": []
    },
    {
      "cell_type": "code",
      "metadata": {
        "colab": {
          "base_uri": "https://localhost:8080/"
        },
        "id": "QBnoPkchSNLG",
        "outputId": "440efdc8-c781-43ed-e107-6ae8746af4b5"
      },
      "source": [
        "out_avg.shape,alphas.shape"
      ],
      "execution_count": 48,
      "outputs": [
        {
          "output_type": "execute_result",
          "data": {
            "text/plain": [
              "(torch.Size([250, 1]), torch.Size([250, 2]))"
            ]
          },
          "metadata": {
            "tags": []
          },
          "execution_count": 48
        }
      ]
    },
    {
      "cell_type": "code",
      "metadata": {
        "id": "3BAfed4zSNLH"
      },
      "source": [
        "X = []\n",
        "Y = []\n",
        "for i, data in  enumerate(train_loader):\n",
        "    inputs , labels , fore_idx = data\n",
        "        \n",
        "    X.append(inputs.numpy())\n",
        "    Y.append(labels.numpy())\n",
        "X = np.concatenate(X,axis=0)\n",
        "Y  = np.concatenate(Y,axis=0)"
      ],
      "execution_count": 49,
      "outputs": []
    },
    {
      "cell_type": "code",
      "metadata": {
        "colab": {
          "base_uri": "https://localhost:8080/",
          "height": 282
        },
        "id": "qgwdPNGRSNLH",
        "outputId": "66e4f336-9175-49f9-9511-3f550ba0ce63"
      },
      "source": [
        "plt.scatter(X[Y==0,0],X[Y==0,1],label = \"fg class 0 \")\n",
        "plt.scatter(X[Y==1,0],X[Y==1,1],label = \"fg class 1\")\n",
        "plt.legend()"
      ],
      "execution_count": 50,
      "outputs": [
        {
          "output_type": "execute_result",
          "data": {
            "text/plain": [
              "<matplotlib.legend.Legend at 0x7fe4b8ee7048>"
            ]
          },
          "metadata": {
            "tags": []
          },
          "execution_count": 50
        },
        {
          "output_type": "display_data",
          "data": {
            "image/png": "[encoded data removed]",
            "text/plain": [
              "<Figure size 432x288 with 1 Axes>"
            ]
          },
          "metadata": {
            "tags": [],
            "needs_background": "light"
          }
        }
      ]
    },
    {
      "cell_type": "markdown",
      "metadata": {
        "id": "29eeVVwmSNLH"
      },
      "source": [
        "As we can see from above plot data is linearly separable. We can check this using SVM Classifier with C value large"
      ]
    },
    {
      "cell_type": "code",
      "metadata": {
        "id": "_FCS3AlrSNLH"
      },
      "source": [
        "clf = SVC(C = 10000,kernel= \"linear\",gamma='auto')"
      ],
      "execution_count": 51,
      "outputs": []
    },
    {
      "cell_type": "code",
      "metadata": {
        "colab": {
          "base_uri": "https://localhost:8080/"
        },
        "id": "TvQtHy8PSNLH",
        "outputId": "305b5499-266b-453a-c489-3bbe68e257b1"
      },
      "source": [
        "clf.fit(X,Y)\n",
        "print(clf.score(X,Y)) #Returns the mean accuracy on the given data and labels."
      ],
      "execution_count": 52,
      "outputs": [
        {
          "output_type": "stream",
          "text": [
            "1.0\n"
          ],
          "name": "stdout"
        }
      ]
    },
    {
      "cell_type": "code",
      "metadata": {
        "colab": {
          "base_uri": "https://localhost:8080/",
          "height": 282
        },
        "id": "AI6FkQWoSNLH",
        "outputId": "8605623e-be20-4e4a-9649-df4015a65fd2"
      },
      "source": [
        "# create a mesh to plot \n",
        "h = 0.02\n",
        "x_min, x_max = X[:, 0].min() - 0.1, X[:, 0].max() + 0.1\n",
        "y_min, y_max = X[:, 1].min() - 0.1, X[:, 1].max() + 0.1\n",
        "xx, yy = np.meshgrid(np.arange(x_min, x_max, h),np.arange(y_min, y_max, h))\n",
        "Z = clf.predict(np.c_[xx.ravel(), yy.ravel()])\n",
        "Z = Z.reshape(xx.shape)\n",
        "plt.contourf(xx, yy, Z, cmap=plt.cm.coolwarm, alpha=0.8)\n",
        "plt.scatter(X[:, 0], X[:, 1], c=Y, cmap=plt.cm.coolwarm)"
      ],
      "execution_count": 53,
      "outputs": [
        {
          "output_type": "execute_result",
          "data": {
            "text/plain": [
              "<matplotlib.collections.PathCollection at 0x7fe4b9caef98>"
            ]
          },
          "metadata": {
            "tags": []
          },
          "execution_count": 53
        },
        {
          "output_type": "display_data",
          "data": {
            "image/png": "[encoded data removed]",
            "text/plain": [
              "<Figure size 432x288 with 1 Axes>"
            ]
          },
          "metadata": {
            "tags": [],
            "needs_background": "light"
          }
        }
      ]
    },
    {
      "cell_type": "code",
      "metadata": {
        "id": "Bu5Tw1hVSNLI"
      },
      "source": [
        "class Whatnet(nn.Module):\n",
        "    def __init__(self):\n",
        "        super(Whatnet,self).__init__()\n",
        "        self.linear1 = nn.Linear(1,2)\n",
        "#         self.linear2 = nn.Linear(8,16)\n",
        "#         self.linear3 = nn.Linear(16,3)\n",
        "    def forward(self,x):\n",
        "        x = self.linear1(x)\n",
        "#         x = F.relu(self.linear2(x))\n",
        "#         x = self.linear3(x)\n",
        "        return x"
      ],
      "execution_count": 54,
      "outputs": []
    },
    {
      "cell_type": "code",
      "metadata": {
        "id": "Qzhi3bWWSNLI"
      },
      "source": [
        "what =Whatnet().double()\n",
        "#what(out_avg)"
      ],
      "execution_count": 55,
      "outputs": []
    },
    {
      "cell_type": "code",
      "metadata": {
        "id": "5CyW6e9WZOZ5"
      },
      "source": [
        "col1=[]\n",
        "col2=[]\n",
        "col3=[]\n",
        "col4=[]\n",
        "col5=[]\n",
        "col6=[]\n",
        "col7=[]\n",
        "col8=[]\n",
        "col9=[]\n",
        "col10=[]\n",
        "col11=[]\n",
        "col12=[]\n",
        "col13=[]"
      ],
      "execution_count": 56,
      "outputs": []
    },
    {
      "cell_type": "code",
      "metadata": {
        "colab": {
          "base_uri": "https://localhost:8080/"
        },
        "id": "koOlWxOqZSTk",
        "outputId": "5ac407cf-806d-467c-e026-9205c1e60bb1"
      },
      "source": [
        "correct = 0\n",
        "total = 0\n",
        "count = 0\n",
        "flag = 1\n",
        "focus_true_pred_true =0\n",
        "focus_false_pred_true =0\n",
        "focus_true_pred_false =0\n",
        "focus_false_pred_false =0\n",
        "\n",
        "argmax_more_than_half = 0\n",
        "argmax_less_than_half =0\n",
        "\n",
        "with torch.no_grad():\n",
        "  for data in train_loader:\n",
        "    inputs, labels , fore_idx = data\n",
        "    #inputs, labels , fore_idx = inputs.to(\"cuda\"),labels.to(\"cuda\"), fore_idx.to(\"cuda\")\n",
        "    avg_inp,alphas = where(inputs)\n",
        "    outputs = what(avg_inp)\n",
        "\n",
        "    _, predicted = torch.max(outputs.data, 1)\n",
        "\n",
        "    for j in range(labels.size(0)):\n",
        "      count += 1\n",
        "      focus = torch.argmax(alphas[j])\n",
        "      if alphas[j][focus] >= 0.5 :\n",
        "        argmax_more_than_half += 1\n",
        "      else:\n",
        "        argmax_less_than_half += 1\n",
        "\n",
        "      if(focus == fore_idx[j] and predicted[j] == labels[j]):\n",
        "          focus_true_pred_true += 1\n",
        "      elif(focus != fore_idx[j] and predicted[j] == labels[j]):\n",
        "        focus_false_pred_true += 1\n",
        "      elif(focus == fore_idx[j] and predicted[j] != labels[j]):\n",
        "        focus_true_pred_false += 1\n",
        "      elif(focus != fore_idx[j] and predicted[j] != labels[j]):\n",
        "        focus_false_pred_false += 1\n",
        "\n",
        "    total += labels.size(0)\n",
        "    correct += (predicted == labels).sum().item()\n",
        "\n",
        "print('Accuracy of the network on the 30000 train images: %d %%' % ( 100 * correct / total))\n",
        "print(\"total correct\", correct)\n",
        "print(\"total train set images\", total)\n",
        "\n",
        "print(\"focus_true_pred_true %d =============> FTPT : %d %%\" % (focus_true_pred_true , (100 * focus_true_pred_true / total) ) )\n",
        "print(\"focus_false_pred_true %d =============> FFPT : %d %%\" % (focus_false_pred_true, (100 * focus_false_pred_true / total) ) )\n",
        "print(\"focus_true_pred_false %d =============> FTPF : %d %%\" %( focus_true_pred_false , ( 100 * focus_true_pred_false / total) ) )\n",
        "print(\"focus_false_pred_false %d =============> FFPF : %d %%\" % (focus_false_pred_false, ( 100 * focus_false_pred_false / total) ) )\n",
        "\n",
        "print(\"argmax_more_than_half ==================> \",argmax_more_than_half)\n",
        "print(\"argmax_less_than_half ==================> \",argmax_less_than_half)\n",
        "print(count)\n",
        "\n",
        "print(\"=\"*100)\n",
        "\n",
        "col1.append(0)\n",
        "col2.append(argmax_more_than_half)\n",
        "col3.append(argmax_less_than_half)\n",
        "col4.append(focus_true_pred_true)\n",
        "col5.append(focus_false_pred_true)\n",
        "col6.append(focus_true_pred_false)\n",
        "col7.append(focus_false_pred_false)"
      ],
      "execution_count": 57,
      "outputs": [
        {
          "output_type": "stream",
          "text": [
            "Accuracy of the network on the 30000 train images: 0 %\n",
            "total correct 0\n",
            "total train set images 1000\n",
            "focus_true_pred_true 0 =============> FTPT : 0 %\n",
            "focus_false_pred_true 0 =============> FFPT : 0 %\n",
            "focus_true_pred_false 485 =============> FTPF : 48 %\n",
            "focus_false_pred_false 515 =============> FFPF : 51 %\n",
            "argmax_more_than_half ==================>  1000\n",
            "argmax_less_than_half ==================>  0\n",
            "1000\n",
            "====================================================================================================\n"
          ],
          "name": "stdout"
        }
      ]
    },
    {
      "cell_type": "code",
      "metadata": {
        "id": "Ngk2FyU1ZR8C"
      },
      "source": [
        ""
      ],
      "execution_count": 57,
      "outputs": []
    },
    {
      "cell_type": "code",
      "metadata": {
        "id": "EivFldknSNLI"
      },
      "source": [
        "def disp_plot(data,avg_data,i,true_label,pred_label,alpha,true_idx):\n",
        "    plt.figure(figsize=(6,6))\n",
        "    data = data.numpy()\n",
        "    alpha = alpha.detach().numpy()\n",
        "    avg_data = avg_data.detach().numpy()\n",
        "    \n",
        "    #print(\"data\",data)\n",
        "    #print(\"avg_data\",avg_data)\n",
        "    #print(\"alpha0\",alpha[0])\n",
        "    #print(\"alpha1\",alpha[1])\n",
        "    x = data[:,0] \n",
        "    y = data[:,1]\n",
        "    \n",
        "    \n",
        "    #print(inputs[0])\n",
        "    #print(x)\n",
        "    #np.random.seed(1234)\n",
        "    x1 = np.arange(0,10,1)#np.random.randint(low=0,high=10,size= x.size)\n",
        "    #print(\"s\",x)\n",
        "    #print(avg_data[0])\n",
        "    for i in range(0,10):\n",
        "        plt.plot([x[i],y[i]],[x1[i],x1[i]],'ro-')\n",
        "        plt.scatter(avg_data[i],x1[i],marker=\"X\",linewidths=10)\n",
        "        \n"
      ],
      "execution_count": 58,
      "outputs": []
    },
    {
      "cell_type": "code",
      "metadata": {
        "scrolled": false,
        "colab": {
          "base_uri": "https://localhost:8080/"
        },
        "id": "oBTkHrQVSNLK",
        "outputId": "a741991c-3a17-4e8e-87bb-24670061e904"
      },
      "source": [
        "criterion = nn.CrossEntropyLoss()\n",
        "optimizer_where = optim.SGD(where.parameters(), lr=0.01, momentum=0.9)\n",
        "optimizer_what = optim.SGD(what.parameters(), lr=0.01, momentum=0.9)\n",
        "\n",
        "nos_epochs = 100\n",
        "\n",
        "train_loss=[]\n",
        "\n",
        "train_acc = [] \n",
        "ig = np.random.randint(0,250)\n",
        "for epoch in range(nos_epochs):  # loop over the dataset multiple times\n",
        "    \n",
        "    focus_true_pred_true =0\n",
        "    focus_false_pred_true =0\n",
        "    focus_true_pred_false =0\n",
        "    focus_false_pred_false =0\n",
        "  \n",
        "    argmax_more_than_half = 0\n",
        "    argmax_less_than_half =0\n",
        "    running_loss = 0.0\n",
        "    running_acc = 0\n",
        "    cnt=0\n",
        "    c = 0\n",
        "    iteration = desired_num // batch\n",
        "    \n",
        "    for i, data in  enumerate(train_loader):\n",
        "        inputs , labels , fore_idx = data\n",
        "        \n",
        "        optimizer_what.zero_grad()\n",
        "        optimizer_where.zero_grad()\n",
        "        \n",
        "        avg_inp,alphas = where(inputs)\n",
        "        \n",
        "        outputs = what(avg_inp)\n",
        "        \n",
        "        _, predicted = torch.max(outputs.data, 1)\n",
        "        \n",
        "        \n",
        "        \n",
        "        \n",
        "        # display plots \n",
        "        #print(inputs[:10])\n",
        "        \n",
        "        # if(c==0):\n",
        "        #     #p = inputs[:10].numpy()\n",
        "        #     #print(\"kkldsksd\",p)\n",
        "        #     #print(\"ddasdas\",p[:,0])\n",
        "        #     disp_plot(inputs[:10,:],avg_inp[:10],1,labels[:10].numpy()\n",
        "        #               ,predicted[:10].numpy(), alphas[:10,:], fore_idx[:10].numpy())\n",
        "        #     c+=1\n",
        "            \n",
        "        loss = criterion(outputs, labels) \n",
        "        loss.backward() \n",
        "        \n",
        "        optimizer_what.step()\n",
        "        optimizer_where.step() \n",
        "        \n",
        "\n",
        "        running_loss += loss.item()\n",
        "        running_acc+=sum(predicted.cpu().numpy()== labels.cpu().numpy())\n",
        "        \n",
        "        if cnt % 4 == 3:    # print every 6 mini-batches\n",
        "            print('[%d, %5d] loss: %.3f' %(epoch + 1, cnt + 1, running_loss/4 ))\n",
        "            print('[%d,%5d] accuracy: %.3f' %(epoch + 1, cnt+1,running_acc/1000))\n",
        "            \n",
        "            train_loss.append(running_loss)\n",
        "            train_acc.append(running_acc /1000)\n",
        "            running_loss = 0.0\n",
        "            running_acc = 0\n",
        "#             torch.save(where.state_dict(),\"weight_elemental/where_model_epoch\"+str(epoch)+\".pt\")\n",
        "#             torch.save(what.state_dict(),\"weight_elemental/what_model_epoch\"+str(epoch)+\".pt\")\n",
        "        cnt=cnt+1\n",
        "        if epoch % 5 == 0:\n",
        "          for j in range (batch):\n",
        "            focus = torch.argmax(alphas[j])\n",
        "            if (alphas[j][focus] >= 0.5):\n",
        "              argmax_more_than_half +=1\n",
        "            else:\n",
        "              argmax_less_than_half +=1\n",
        "            if (focus == fore_idx[j] and predicted[j] == labels[j]):\n",
        "              focus_true_pred_true += 1\n",
        "            elif (focus != fore_idx[j] and predicted[j] == labels[j]):\n",
        "              focus_false_pred_true +=1\n",
        "            elif (focus == fore_idx[j] and predicted[j] != labels[j]):\n",
        "              focus_true_pred_false +=1\n",
        "            elif (focus != fore_idx[j] and predicted[j] != labels[j]):\n",
        "              focus_false_pred_false +=1\n",
        "    if epoch % 5 == 0:\n",
        "      col1.append(epoch + 1 )\n",
        "      col2.append(argmax_more_than_half)\n",
        "      col3.append(argmax_less_than_half)\n",
        "      col4.append(focus_true_pred_true)\n",
        "      col5.append(focus_false_pred_true)\n",
        "      col6.append(focus_true_pred_false)\n",
        "      col7.append(focus_false_pred_false)\n",
        "        \n",
        "print('Finished Training')\n",
        "# torch.save(where.state_dict(),\"weight_elemental/where_model_epoch\"+str(nos_epochs)+\".pt\")\n",
        "# torch.save(what.state_dict(),\"weight_elemental/what_model_epoch\"+str(epoch)+\".pt\")       \n",
        "        \n",
        "        \n",
        "        "
      ],
      "execution_count": 60,
      "outputs": [
        {
          "output_type": "stream",
          "text": [
            "[1,     4] loss: 0.866\n",
            "[1,    4] accuracy: 0.000\n",
            "[2,     4] loss: 0.791\n",
            "[2,    4] accuracy: 0.267\n",
            "[3,     4] loss: 0.702\n",
            "[3,    4] accuracy: 0.485\n",
            "[4,     4] loss: 0.631\n",
            "[4,    4] accuracy: 0.485\n",
            "[5,     4] loss: 0.580\n",
            "[5,    4] accuracy: 0.485\n",
            "[6,     4] loss: 0.537\n",
            "[6,    4] accuracy: 0.487\n",
            "[7,     4] loss: 0.497\n",
            "[7,    4] accuracy: 0.576\n",
            "[8,     4] loss: 0.459\n",
            "[8,    4] accuracy: 0.677\n",
            "[9,     4] loss: 0.423\n",
            "[9,    4] accuracy: 0.753\n",
            "[10,     4] loss: 0.389\n",
            "[10,    4] accuracy: 0.826\n",
            "[11,     4] loss: 0.360\n",
            "[11,    4] accuracy: 0.853\n",
            "[12,     4] loss: 0.334\n",
            "[12,    4] accuracy: 0.949\n",
            "[13,     4] loss: 0.312\n",
            "[13,    4] accuracy: 1.000\n",
            "[14,     4] loss: 0.292\n",
            "[14,    4] accuracy: 1.000\n",
            "[15,     4] loss: 0.275\n",
            "[15,    4] accuracy: 1.000\n",
            "[16,     4] loss: 0.259\n",
            "[16,    4] accuracy: 1.000\n",
            "[17,     4] loss: 0.246\n",
            "[17,    4] accuracy: 1.000\n",
            "[18,     4] loss: 0.233\n",
            "[18,    4] accuracy: 1.000\n",
            "[19,     4] loss: 0.222\n",
            "[19,    4] accuracy: 1.000\n",
            "[20,     4] loss: 0.212\n",
            "[20,    4] accuracy: 1.000\n",
            "[21,     4] loss: 0.202\n",
            "[21,    4] accuracy: 1.000\n",
            "[22,     4] loss: 0.194\n",
            "[22,    4] accuracy: 1.000\n",
            "[23,     4] loss: 0.186\n",
            "[23,    4] accuracy: 1.000\n",
            "[24,     4] loss: 0.179\n",
            "[24,    4] accuracy: 1.000\n",
            "[25,     4] loss: 0.172\n",
            "[25,    4] accuracy: 1.000\n",
            "[26,     4] loss: 0.166\n",
            "[26,    4] accuracy: 1.000\n",
            "[27,     4] loss: 0.160\n",
            "[27,    4] accuracy: 1.000\n",
            "[28,     4] loss: 0.155\n",
            "[28,    4] accuracy: 1.000\n",
            "[29,     4] loss: 0.150\n",
            "[29,    4] accuracy: 1.000\n",
            "[30,     4] loss: 0.145\n",
            "[30,    4] accuracy: 1.000\n",
            "[31,     4] loss: 0.141\n",
            "[31,    4] accuracy: 1.000\n",
            "[32,     4] loss: 0.136\n",
            "[32,    4] accuracy: 1.000\n",
            "[33,     4] loss: 0.133\n",
            "[33,    4] accuracy: 1.000\n",
            "[34,     4] loss: 0.129\n",
            "[34,    4] accuracy: 1.000\n",
            "[35,     4] loss: 0.126\n",
            "[35,    4] accuracy: 1.000\n",
            "[36,     4] loss: 0.122\n",
            "[36,    4] accuracy: 1.000\n",
            "[37,     4] loss: 0.119\n",
            "[37,    4] accuracy: 1.000\n",
            "[38,     4] loss: 0.116\n",
            "[38,    4] accuracy: 1.000\n",
            "[39,     4] loss: 0.113\n",
            "[39,    4] accuracy: 1.000\n",
            "[40,     4] loss: 0.111\n",
            "[40,    4] accuracy: 1.000\n",
            "[41,     4] loss: 0.108\n",
            "[41,    4] accuracy: 1.000\n",
            "[42,     4] loss: 0.106\n",
            "[42,    4] accuracy: 1.000\n",
            "[43,     4] loss: 0.104\n",
            "[43,    4] accuracy: 1.000\n",
            "[44,     4] loss: 0.101\n",
            "[44,    4] accuracy: 1.000\n",
            "[45,     4] loss: 0.099\n",
            "[45,    4] accuracy: 1.000\n",
            "[46,     4] loss: 0.097\n",
            "[46,    4] accuracy: 1.000\n",
            "[47,     4] loss: 0.095\n",
            "[47,    4] accuracy: 1.000\n",
            "[48,     4] loss: 0.093\n",
            "[48,    4] accuracy: 1.000\n",
            "[49,     4] loss: 0.092\n",
            "[49,    4] accuracy: 1.000\n",
            "[50,     4] loss: 0.090\n",
            "[50,    4] accuracy: 1.000\n",
            "[51,     4] loss: 0.088\n",
            "[51,    4] accuracy: 1.000\n",
            "[52,     4] loss: 0.087\n",
            "[52,    4] accuracy: 1.000\n",
            "[53,     4] loss: 0.085\n",
            "[53,    4] accuracy: 1.000\n",
            "[54,     4] loss: 0.084\n",
            "[54,    4] accuracy: 1.000\n",
            "[55,     4] loss: 0.082\n",
            "[55,    4] accuracy: 1.000\n",
            "[56,     4] loss: 0.081\n",
            "[56,    4] accuracy: 1.000\n",
            "[57,     4] loss: 0.080\n",
            "[57,    4] accuracy: 1.000\n",
            "[58,     4] loss: 0.078\n",
            "[58,    4] accuracy: 1.000\n",
            "[59,     4] loss: 0.077\n",
            "[59,    4] accuracy: 1.000\n",
            "[60,     4] loss: 0.076\n",
            "[60,    4] accuracy: 1.000\n",
            "[61,     4] loss: 0.075\n",
            "[61,    4] accuracy: 1.000\n",
            "[62,     4] loss: 0.073\n",
            "[62,    4] accuracy: 1.000\n",
            "[63,     4] loss: 0.072\n",
            "[63,    4] accuracy: 1.000\n",
            "[64,     4] loss: 0.071\n",
            "[64,    4] accuracy: 1.000\n",
            "[65,     4] loss: 0.070\n",
            "[65,    4] accuracy: 1.000\n",
            "[66,     4] loss: 0.069\n",
            "[66,    4] accuracy: 1.000\n",
            "[67,     4] loss: 0.068\n",
            "[67,    4] accuracy: 1.000\n",
            "[68,     4] loss: 0.067\n",
            "[68,    4] accuracy: 1.000\n",
            "[69,     4] loss: 0.067\n",
            "[69,    4] accuracy: 1.000\n",
            "[70,     4] loss: 0.066\n",
            "[70,    4] accuracy: 1.000\n",
            "[71,     4] loss: 0.065\n",
            "[71,    4] accuracy: 1.000\n",
            "[72,     4] loss: 0.064\n",
            "[72,    4] accuracy: 1.000\n",
            "[73,     4] loss: 0.063\n",
            "[73,    4] accuracy: 1.000\n",
            "[74,     4] loss: 0.062\n",
            "[74,    4] accuracy: 1.000\n",
            "[75,     4] loss: 0.062\n",
            "[75,    4] accuracy: 1.000\n",
            "[76,     4] loss: 0.061\n",
            "[76,    4] accuracy: 1.000\n",
            "[77,     4] loss: 0.060\n",
            "[77,    4] accuracy: 1.000\n",
            "[78,     4] loss: 0.059\n",
            "[78,    4] accuracy: 1.000\n",
            "[79,     4] loss: 0.059\n",
            "[79,    4] accuracy: 1.000\n",
            "[80,     4] loss: 0.058\n",
            "[80,    4] accuracy: 1.000\n",
            "[81,     4] loss: 0.057\n",
            "[81,    4] accuracy: 1.000\n",
            "[82,     4] loss: 0.057\n",
            "[82,    4] accuracy: 1.000\n",
            "[83,     4] loss: 0.056\n",
            "[83,    4] accuracy: 1.000\n",
            "[84,     4] loss: 0.055\n",
            "[84,    4] accuracy: 1.000\n",
            "[85,     4] loss: 0.055\n",
            "[85,    4] accuracy: 1.000\n",
            "[86,     4] loss: 0.054\n",
            "[86,    4] accuracy: 1.000\n",
            "[87,     4] loss: 0.054\n",
            "[87,    4] accuracy: 1.000\n",
            "[88,     4] loss: 0.053\n",
            "[88,    4] accuracy: 1.000\n",
            "[89,     4] loss: 0.052\n",
            "[89,    4] accuracy: 1.000\n",
            "[90,     4] loss: 0.052\n",
            "[90,    4] accuracy: 1.000\n",
            "[91,     4] loss: 0.051\n",
            "[91,    4] accuracy: 1.000\n",
            "[92,     4] loss: 0.051\n",
            "[92,    4] accuracy: 1.000\n",
            "[93,     4] loss: 0.050\n",
            "[93,    4] accuracy: 1.000\n",
            "[94,     4] loss: 0.050\n",
            "[94,    4] accuracy: 1.000\n",
            "[95,     4] loss: 0.049\n",
            "[95,    4] accuracy: 1.000\n",
            "[96,     4] loss: 0.049\n",
            "[96,    4] accuracy: 1.000\n",
            "[97,     4] loss: 0.048\n",
            "[97,    4] accuracy: 1.000\n",
            "[98,     4] loss: 0.048\n",
            "[98,    4] accuracy: 1.000\n",
            "[99,     4] loss: 0.048\n",
            "[99,    4] accuracy: 1.000\n",
            "[100,     4] loss: 0.047\n",
            "[100,    4] accuracy: 1.000\n",
            "Finished Training\n"
          ],
          "name": "stdout"
        }
      ]
    },
    {
      "cell_type": "code",
      "metadata": {
        "colab": {
          "base_uri": "https://localhost:8080/",
          "height": 282
        },
        "id": "s3yitdVdSNLL",
        "outputId": "3dad14c3-9f45-44e1-e46a-d85ec0c3f507"
      },
      "source": [
        "plt.plot(train_loss,label = \"train loss\")\n",
        "plt.legend(loc='center left', bbox_to_anchor=(1, 0.5))"
      ],
      "execution_count": 61,
      "outputs": [
        {
          "output_type": "execute_result",
          "data": {
            "text/plain": [
              "<matplotlib.legend.Legend at 0x7fe4b8f90630>"
            ]
          },
          "metadata": {
            "tags": []
          },
          "execution_count": 61
        },
        {
          "output_type": "display_data",
          "data": {
            "image/png": "[encoded data removed]",
            "text/plain": [
              "<Figure size 432x288 with 1 Axes>"
            ]
          },
          "metadata": {
            "tags": [],
            "needs_background": "light"
          }
        }
      ]
    },
    {
      "cell_type": "code",
      "metadata": {
        "colab": {
          "base_uri": "https://localhost:8080/",
          "height": 282
        },
        "id": "QwdybXZDSNLL",
        "outputId": "0ecf8034-efb5-415d-b4ae-8330d9e6761d"
      },
      "source": [
        "plt.plot(train_acc,label =\"train_acc\")\n",
        "plt.legend(loc='center left', bbox_to_anchor=(1, 0.5))"
      ],
      "execution_count": 62,
      "outputs": [
        {
          "output_type": "execute_result",
          "data": {
            "text/plain": [
              "<matplotlib.legend.Legend at 0x7fe4b8f98dd8>"
            ]
          },
          "metadata": {
            "tags": []
          },
          "execution_count": 62
        },
        {
          "output_type": "display_data",
          "data": {
            "image/png": "[encoded data removed]",
            "text/plain": [
              "<Figure size 432x288 with 1 Axes>"
            ]
          },
          "metadata": {
            "tags": [],
            "needs_background": "light"
          }
        }
      ]
    },
    {
      "cell_type": "code",
      "metadata": {
        "id": "ZfnneeVkSNLL"
      },
      "source": [
        "columns = [\"epochs\", \"argmax > 0.5\" ,\"argmax < 0.5\", \"focus_true_pred_true\", \"focus_false_pred_true\", \"focus_true_pred_false\", \"focus_false_pred_false\" ]\n",
        "df_train = pd.DataFrame()\n"
      ],
      "execution_count": 65,
      "outputs": []
    },
    {
      "cell_type": "code",
      "metadata": {
        "id": "Ht87EUOtSNLM"
      },
      "source": [
        "df_train[columns[0]] = col1\n",
        "df_train[columns[1]] = col2\n",
        "df_train[columns[2]] = col3\n",
        "df_train[columns[3]] = col4\n",
        "df_train[columns[4]] = col5\n",
        "df_train[columns[5]] = col6\n",
        "df_train[columns[6]] = col7\n"
      ],
      "execution_count": 66,
      "outputs": []
    },
    {
      "cell_type": "code",
      "metadata": {
        "colab": {
          "base_uri": "https://localhost:8080/",
          "height": 573
        },
        "id": "_WHu90BJcj-d",
        "outputId": "439581f7-c727-4b16-8127-05b4f1160055"
      },
      "source": [
        "plt.figure(figsize=(6,4))\n",
        "plt.plot(col1,col2, label='argmax > 0.5')\n",
        "plt.plot(col1,col3, label='argmax < 0.5')\n",
        "\n",
        "plt.legend(loc='center left', bbox_to_anchor=(1, 0.5))\n",
        "plt.xlabel(\"epochs\")\n",
        "plt.ylabel(\"training data\")\n",
        "plt.title(\"On Training set\")\n",
        "plt.show()\n",
        "\n",
        "\n",
        "plt.figure(figsize=(6,4))\n",
        "plt.plot(col1,col4, label =\"focus_true_pred_true \")\n",
        "plt.plot(col1,col5, label =\"focus_false_pred_true \")\n",
        "plt.plot(col1,col6, label =\"focus_true_pred_false \")\n",
        "plt.plot(col1,col7, label =\"focus_false_pred_false \")\n",
        "plt.title(\"On Training set\")\n",
        "plt.legend(loc='center left', bbox_to_anchor=(1, 0.5))\n",
        "plt.xlabel(\"epochs\")\n",
        "plt.ylabel(\"training data\")\n",
        "plt.show()\n"
      ],
      "execution_count": 72,
      "outputs": [
        {
          "output_type": "display_data",
          "data": {
            "image/png": "[encoded data removed]",
            "text/plain": [
              "<Figure size 432x288 with 1 Axes>"
            ]
          },
          "metadata": {
            "tags": [],
            "needs_background": "light"
          }
        },
        {
          "output_type": "display_data",
          "data": {
            "image/png": "[encoded data removed]",
            "text/plain": [
              "<Figure size 432x288 with 1 Axes>"
            ]
          },
          "metadata": {
            "tags": [],
            "needs_background": "light"
          }
        }
      ]
    },
    {
      "cell_type": "code",
      "metadata": {
        "colab": {
          "base_uri": "https://localhost:8080/"
        },
        "id": "ryqwMdLHcvX3",
        "outputId": "7cb3fb72-0d4b-48a3-c230-32053974f0f0"
      },
      "source": [
        "for param in where.parameters():\n",
        "  print(param)"
      ],
      "execution_count": 68,
      "outputs": [
        {
          "output_type": "stream",
          "text": [
            "Parameter containing:\n",
            "tensor([[0.5036]], dtype=torch.float64, requires_grad=True)\n",
            "Parameter containing:\n",
            "tensor([-0.1424], dtype=torch.float64, requires_grad=True)\n"
          ],
          "name": "stdout"
        }
      ]
    },
    {
      "cell_type": "code",
      "metadata": {
        "colab": {
          "base_uri": "https://localhost:8080/"
        },
        "id": "7Ztx6L93c6ik",
        "outputId": "bff471ed-81ab-472b-f3e6-b891074e552a"
      },
      "source": [
        "for param in what.parameters():\n",
        "  print(param)"
      ],
      "execution_count": 69,
      "outputs": [
        {
          "output_type": "stream",
          "text": [
            "Parameter containing:\n",
            "tensor([[-2.3773],\n",
            "        [ 1.3718]], dtype=torch.float64, requires_grad=True)\n",
            "Parameter containing:\n",
            "tensor([ 2.3606, -1.3599], dtype=torch.float64, requires_grad=True)\n"
          ],
          "name": "stdout"
        }
      ]
    },
    {
      "cell_type": "code",
      "metadata": {
        "id": "zUbZAqyodAoR"
      },
      "source": [
        ""
      ],
      "execution_count": null,
      "outputs": []
    }
  ]
}