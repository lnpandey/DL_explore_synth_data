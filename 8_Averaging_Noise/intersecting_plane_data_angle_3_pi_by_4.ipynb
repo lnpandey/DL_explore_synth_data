{
  "nbformat": 4,
  "nbformat_minor": 0,
  "metadata": {
    "accelerator": "GPU",
    "colab": {
      "name": "intersecting plane data.ipynb",
      "provenance": []
    },
    "kernelspec": {
      "name": "python3",
      "display_name": "Python 3"
    },
    "language_info": {
      "codemirror_mode": {
        "name": "ipython",
        "version": 3
      },
      "file_extension": ".py",
      "mimetype": "text/x-python",
      "name": "python",
      "nbconvert_exporter": "python",
      "pygments_lexer": "ipython3",
      "version": "3.7.4"
    }
  },
  "cells": [
    {
      "cell_type": "code",
      "metadata": {
        "colab_type": "code",
        "id": "1BoZq7wLFmUz",
        "colab": {}
      },
      "source": [
        "import numpy as np\n",
        "import pandas as pd\n",
        "from matplotlib import pyplot as plt\n",
        "\n",
        "import math as m\n",
        "%matplotlib inline\n",
        "\n",
        "import torch\n",
        "import torchvision\n",
        "\n",
        "import torchvision.transforms as transforms\n",
        "import torch.nn as nn\n",
        "import torch.optim as optim\n",
        "import torch.nn.functional as F\n",
        "import random\n",
        "\n",
        "from torch.utils.data import Dataset, DataLoader\n",
        "from mpl_toolkits.mplot3d import Axes3D"
      ],
      "execution_count": 0,
      "outputs": []
    },
    {
      "cell_type": "code",
      "metadata": {
        "id": "tUJ_Yy2K7rcu",
        "colab_type": "code",
        "colab": {
          "base_uri": "https://localhost:8080/",
          "height": 191
        },
        "outputId": "1fe20830-521f-45a7-ba6c-feecba98a782"
      },
      "source": [
        "y = np.random.randint(0,10,1000)\n",
        "idx= []\n",
        "for i in range(10):\n",
        "    print(i,sum(y==i))\n",
        "    idx.append(y==i) \n",
        "x = np.zeros((1000,2))\n",
        "\n",
        "x0=x[idx[0],:] = np.random.multivariate_normal(mean = [2,2],cov=[[0.01,0],[0,0.01]],size=sum(idx[0]))\n",
        "\n",
        "\n",
        "x[idx[1],:] = np.random.multivariate_normal(mean = [0,-2],cov=[[0.01,0],[0,0.01]],size=sum(idx[1]))\n",
        "\n",
        "\n",
        "x[idx[2],:] = np.random.multivariate_normal(mean = [-2,2],cov=[[0.01,0],[0,0.01]],size=sum(idx[2]))\n",
        "\n",
        "\n",
        "\n",
        "x[idx[3],:] = np.random.multivariate_normal(mean = [0,0],cov=[[0.01,0],[0,0.01]],size=sum(idx[3]))\n",
        "\n",
        "\n",
        "x[idx[4],:] = np.random.multivariate_normal(mean =[-2,-4] ,cov=[[0.01,0],[0,0.01]],size=sum(idx[4]))\n",
        "\n",
        "\n",
        "\n",
        "x[idx[5],:] = np.random.multivariate_normal(mean = [2,-4],cov=[[0.01,0],[0,0.01]],size=sum(idx[5]))\n",
        "\n",
        "\n",
        "x[idx[6],:] = np.random.multivariate_normal(mean = [-4,0],cov=[[0.01,0],[0,0.01]],size=sum(idx[6]))\n",
        "\n",
        "\n",
        "x[idx[7],:] = np.random.multivariate_normal(mean = [-2,4],cov=[[0.01,0],[0,0.01]],size=sum(idx[7]))\n",
        "\n",
        "\n",
        "x[idx[8],:] = np.random.multivariate_normal(mean = [2,4],cov=[[0.01,0],[0,0.01]],size=sum(idx[8]))\n",
        "\n",
        "\n",
        "x[idx[9],:] = np.random.multivariate_normal(mean = [4,0],cov=[[0.01,0],[0,0.01]],size=sum(idx[9]))\n",
        "\n",
        "idx= []\n",
        "for i in range(10):\n",
        "    #print(i,sum(y==i))\n",
        "    idx.append(y==i)"
      ],
      "execution_count": 287,
      "outputs": [
        {
          "output_type": "stream",
          "text": [
            "0 95\n",
            "1 93\n",
            "2 96\n",
            "3 107\n",
            "4 88\n",
            "5 118\n",
            "6 104\n",
            "7 99\n",
            "8 99\n",
            "9 101\n"
          ],
          "name": "stdout"
        }
      ]
    },
    {
      "cell_type": "code",
      "metadata": {
        "id": "JU6oN0Kh7rc2",
        "colab_type": "code",
        "colab": {
          "base_uri": "https://localhost:8080/",
          "height": 282
        },
        "outputId": "69d04f59-b6c5-442d-a43f-9d86830127c0"
      },
      "source": [
        "for i in range(10):\n",
        "    plt.scatter(x[idx[i],0],x[idx[i],1],label=\"class_\"+str(i))\n",
        "plt.legend(loc='center left', bbox_to_anchor=(1, 0.5))"
      ],
      "execution_count": 288,
      "outputs": [
        {
          "output_type": "execute_result",
          "data": {
            "text/plain": [
              "<matplotlib.legend.Legend at 0x7f5e11982da0>"
            ]
          },
          "metadata": {
            "tags": []
          },
          "execution_count": 288
        },
        {
          "output_type": "display_data",
          "data": {
            "image/png": "[encoded data removed]",
            "text/plain": [
              "<Figure size 432x288 with 1 Axes>"
            ]
          },
          "metadata": {
            "tags": []
          }
        }
      ]
    },
    {
      "cell_type": "code",
      "metadata": {
        "id": "14ashkYi7rc8",
        "colab_type": "code",
        "colab": {
          "base_uri": "https://localhost:8080/",
          "height": 139
        },
        "outputId": "cf2375fa-4910-41ef-86f2-892b1f4d624f"
      },
      "source": [
        "z = np.zeros((1000,1))\n",
        "x = np.concatenate((x, z) , axis =1)\n",
        "x"
      ],
      "execution_count": 289,
      "outputs": [
        {
          "output_type": "execute_result",
          "data": {
            "text/plain": [
              "array([[-2.19961416,  2.12546862,  0.        ],\n",
              "       [ 4.01029988,  0.20124708,  0.        ],\n",
              "       [-1.94107956,  1.98331509,  0.        ],\n",
              "       ...,\n",
              "       [ 2.10057859, -3.98284047,  0.        ],\n",
              "       [ 2.02803846,  2.03401597,  0.        ],\n",
              "       [ 2.03345774,  1.9783301 ,  0.        ]])"
            ]
          },
          "metadata": {
            "tags": []
          },
          "execution_count": 289
        }
      ]
    },
    {
      "cell_type": "code",
      "metadata": {
        "id": "DVFOWDxp7rdB",
        "colab_type": "code",
        "colab": {
          "base_uri": "https://localhost:8080/",
          "height": 34
        },
        "outputId": "8103dd07-4260-4877-b69f-9e60c6b10795"
      },
      "source": [
        "x.shape"
      ],
      "execution_count": 290,
      "outputs": [
        {
          "output_type": "execute_result",
          "data": {
            "text/plain": [
              "(1000, 3)"
            ]
          },
          "metadata": {
            "tags": []
          },
          "execution_count": 290
        }
      ]
    },
    {
      "cell_type": "code",
      "metadata": {
        "scrolled": true,
        "id": "2Y0sMSmk7rdG",
        "colab_type": "code",
        "colab": {
          "base_uri": "https://localhost:8080/",
          "height": 265
        },
        "outputId": "59a33c82-5182-4295-f19a-4e9e380e89ed"
      },
      "source": [
        "fig = plt.figure()\n",
        "ax = fig.add_subplot(111, projection='3d')\n",
        "for i in range(10):\n",
        "    ax.scatter(x[idx[i],0],x[idx[i],1],x[idx[i],2],label=\"class_\"+str(i))\n",
        "ax.legend(loc='center left', bbox_to_anchor=(1, 0.5))"
      ],
      "execution_count": 291,
      "outputs": [
        {
          "output_type": "execute_result",
          "data": {
            "text/plain": [
              "<matplotlib.legend.Legend at 0x7f5e118beeb8>"
            ]
          },
          "metadata": {
            "tags": []
          },
          "execution_count": 291
        },
        {
          "output_type": "display_data",
          "data": {
            "image/png": "[encoded data removed]",
            "text/plain": [
              "<Figure size 432x288 with 1 Axes>"
            ]
          },
          "metadata": {
            "tags": []
          }
        }
      ]
    },
    {
      "cell_type": "code",
      "metadata": {
        "id": "lcg9BoOD7rdL",
        "colab_type": "code",
        "colab": {
          "base_uri": "https://localhost:8080/",
          "height": 265
        },
        "outputId": "76cde8c7-8914-4cae-9d8f-5f757c708511"
      },
      "source": [
        "normal = np.array([0,0,1])\n",
        "# a plane is a*x+b*y+c*z+d=0\n",
        "# [a,b,c] is the normal. Thus, we have to calculate\n",
        "# d and we're set\n",
        "d = 0\n",
        "\n",
        "# create x,y\n",
        "xx, yy = np.meshgrid(range(5), range(5))\n",
        "\n",
        "# calculate corresponding z\n",
        "z = (-normal[0] * xx - normal[1] * yy - d) * 1. /normal[2]\n",
        "\n",
        "# plot the surface\n",
        "plt3d = plt.figure().gca(projection='3d')\n",
        "plt3d.plot_surface(xx, yy, z, alpha=0.5)\n",
        "\n",
        "# fig = plt.figure()\n",
        "ax = plt.gca()\n",
        "for i in range(10):\n",
        "    ax.scatter(x[idx[i],0],x[idx[i],1],x[idx[i],2],label=\"class_\"+str(i))\n",
        "ax.legend(loc='center left', bbox_to_anchor=(1, 0.5))"
      ],
      "execution_count": 292,
      "outputs": [
        {
          "output_type": "execute_result",
          "data": {
            "text/plain": [
              "<matplotlib.legend.Legend at 0x7f5e11876908>"
            ]
          },
          "metadata": {
            "tags": []
          },
          "execution_count": 292
        },
        {
          "output_type": "display_data",
          "data": {
            "image/png": "[encoded data removed]",
            "text/plain": [
              "<Figure size 432x288 with 1 Axes>"
            ]
          },
          "metadata": {
            "tags": []
          }
        }
      ]
    },
    {
      "cell_type": "markdown",
      "metadata": {
        "id": "l-7ncm8a7rdQ",
        "colab_type": "text"
      },
      "source": [
        "## angle = pi/2, p1: z = 0, p2: 2x + 3y = 0\n",
        "## angle = pi/6, p1: z = 0, p2: 2x + 3y + sqrt(39)z = 0\n",
        "## angle = pi/3, p1: z = 0, p2: 2x + 3y + sqrt(13/3)z = 0"
      ]
    },
    {
      "cell_type": "code",
      "metadata": {
        "id": "_vup63g47rdR",
        "colab_type": "code",
        "colab": {
          "base_uri": "https://localhost:8080/",
          "height": 34
        },
        "outputId": "2c5478f7-a74a-4f06-959a-abec030f189b"
      },
      "source": [
        "angle = 3*np.pi/4\n",
        "\n",
        "a = 2\n",
        "b = 3\n",
        "if(angle == np.pi/2):\n",
        "    c=0\n",
        "else:\n",
        "    c = np.sqrt(a*a + b*b )/m.tan(angle)\n",
        "print(c)"
      ],
      "execution_count": 293,
      "outputs": [
        {
          "output_type": "stream",
          "text": [
            "-3.6055512754639882\n"
          ],
          "name": "stdout"
        }
      ]
    },
    {
      "cell_type": "code",
      "metadata": {
        "scrolled": true,
        "id": "pLqmqeA47rdY",
        "colab_type": "code",
        "colab": {
          "base_uri": "https://localhost:8080/",
          "height": 1000
        },
        "outputId": "0361945a-5203-4872-b570-42fb08d4d0ef"
      },
      "source": [
        "x[idx[0],:]"
      ],
      "execution_count": 294,
      "outputs": [
        {
          "output_type": "execute_result",
          "data": {
            "text/plain": [
              "array([[2.12505578, 1.95969702, 0.        ],\n",
              "       [1.87822784, 1.93695548, 0.        ],\n",
              "       [1.85603559, 2.10508744, 0.        ],\n",
              "       [1.95531519, 2.10528689, 0.        ],\n",
              "       [2.16031351, 1.80888562, 0.        ],\n",
              "       [1.81088411, 2.16255835, 0.        ],\n",
              "       [2.04701199, 2.02109848, 0.        ],\n",
              "       [2.00847341, 2.03935288, 0.        ],\n",
              "       [2.02323839, 2.08254285, 0.        ],\n",
              "       [2.08181016, 1.94243919, 0.        ],\n",
              "       [1.93081175, 1.89594897, 0.        ],\n",
              "       [2.06547018, 1.91855074, 0.        ],\n",
              "       [1.96665695, 1.94725129, 0.        ],\n",
              "       [1.97418808, 1.90785013, 0.        ],\n",
              "       [1.94435862, 2.05162099, 0.        ],\n",
              "       [2.01913381, 2.021898  , 0.        ],\n",
              "       [2.06966588, 2.01511652, 0.        ],\n",
              "       [1.9477799 , 1.98134447, 0.        ],\n",
              "       [2.11571212, 2.08575797, 0.        ],\n",
              "       [2.02415807, 2.01520579, 0.        ],\n",
              "       [1.77709153, 1.99699811, 0.        ],\n",
              "       [1.93025634, 1.91407078, 0.        ],\n",
              "       [2.11741434, 2.01636144, 0.        ],\n",
              "       [1.95368325, 1.87850708, 0.        ],\n",
              "       [2.0811341 , 2.14875499, 0.        ],\n",
              "       [2.20445497, 2.08114996, 0.        ],\n",
              "       [2.0294344 , 1.87738589, 0.        ],\n",
              "       [1.97061036, 1.91434768, 0.        ],\n",
              "       [1.94538114, 1.9253232 , 0.        ],\n",
              "       [1.9863884 , 2.01012469, 0.        ],\n",
              "       [1.95143916, 2.08496897, 0.        ],\n",
              "       [1.97766981, 1.84605824, 0.        ],\n",
              "       [1.91639664, 1.99852853, 0.        ],\n",
              "       [1.95372348, 1.98066147, 0.        ],\n",
              "       [2.11266664, 2.08120002, 0.        ],\n",
              "       [1.95433516, 1.78377623, 0.        ],\n",
              "       [2.03521457, 1.86236105, 0.        ],\n",
              "       [2.17188867, 2.11317046, 0.        ],\n",
              "       [2.02125673, 2.14745225, 0.        ],\n",
              "       [2.03606186, 2.03347788, 0.        ],\n",
              "       [1.92818266, 1.90392223, 0.        ],\n",
              "       [1.93273577, 2.08175461, 0.        ],\n",
              "       [1.89552506, 2.10142298, 0.        ],\n",
              "       [2.09473587, 1.92719979, 0.        ],\n",
              "       [1.96006667, 1.98686869, 0.        ],\n",
              "       [2.07104939, 1.98185915, 0.        ],\n",
              "       [2.00374665, 2.02322237, 0.        ],\n",
              "       [1.9666734 , 1.99475306, 0.        ],\n",
              "       [2.03787919, 1.98698288, 0.        ],\n",
              "       [2.05908412, 1.87548089, 0.        ],\n",
              "       [1.88130107, 1.97792271, 0.        ],\n",
              "       [2.0502684 , 1.87834124, 0.        ],\n",
              "       [2.10506568, 1.94333984, 0.        ],\n",
              "       [1.82710822, 2.13897648, 0.        ],\n",
              "       [1.94043578, 2.02504059, 0.        ],\n",
              "       [1.93758378, 1.99038593, 0.        ],\n",
              "       [1.94751993, 1.98408802, 0.        ],\n",
              "       [1.98988041, 2.05325144, 0.        ],\n",
              "       [1.7402425 , 2.19192871, 0.        ],\n",
              "       [2.01811615, 2.0175548 , 0.        ],\n",
              "       [1.95134829, 2.04956977, 0.        ],\n",
              "       [1.92876179, 1.98099729, 0.        ],\n",
              "       [2.09380591, 2.08955208, 0.        ],\n",
              "       [2.07138376, 2.10359924, 0.        ],\n",
              "       [2.21862393, 2.02991283, 0.        ],\n",
              "       [1.94560561, 1.95246546, 0.        ],\n",
              "       [2.16478959, 2.10961938, 0.        ],\n",
              "       [1.95434701, 2.01487408, 0.        ],\n",
              "       [1.93030661, 1.74773092, 0.        ],\n",
              "       [2.10015019, 2.03365486, 0.        ],\n",
              "       [1.96249772, 2.12755729, 0.        ],\n",
              "       [1.96115979, 1.83764232, 0.        ],\n",
              "       [1.79076279, 2.14656321, 0.        ],\n",
              "       [2.0820049 , 1.94549321, 0.        ],\n",
              "       [1.98188849, 2.0314853 , 0.        ],\n",
              "       [2.06634935, 2.05305423, 0.        ],\n",
              "       [1.96217695, 2.18045827, 0.        ],\n",
              "       [2.08835164, 2.1534855 , 0.        ],\n",
              "       [2.10957439, 2.06992111, 0.        ],\n",
              "       [1.9123569 , 2.07260442, 0.        ],\n",
              "       [2.11199742, 2.03882658, 0.        ],\n",
              "       [1.82434195, 2.0223505 , 0.        ],\n",
              "       [2.08996766, 2.16987394, 0.        ],\n",
              "       [1.94990795, 1.93234683, 0.        ],\n",
              "       [1.85379397, 2.13371629, 0.        ],\n",
              "       [1.99192255, 1.99053996, 0.        ],\n",
              "       [1.96828231, 1.96910409, 0.        ],\n",
              "       [2.00821954, 1.9432918 , 0.        ],\n",
              "       [2.10637687, 1.95687917, 0.        ],\n",
              "       [2.07185424, 2.13699841, 0.        ],\n",
              "       [1.96332126, 2.02561826, 0.        ],\n",
              "       [1.93273815, 1.77517639, 0.        ],\n",
              "       [1.76601818, 2.0936876 , 0.        ],\n",
              "       [2.02803846, 2.03401597, 0.        ],\n",
              "       [2.03345774, 1.9783301 , 0.        ]])"
            ]
          },
          "metadata": {
            "tags": []
          },
          "execution_count": 294
        }
      ]
    },
    {
      "cell_type": "code",
      "metadata": {
        "id": "2WeuxtXx7rdd",
        "colab_type": "code",
        "colab": {
          "base_uri": "https://localhost:8080/",
          "height": 121
        },
        "outputId": "d85dfabf-8d35-4b64-a66f-46adc533dbd3"
      },
      "source": [
        "x[idx[0],2]"
      ],
      "execution_count": 295,
      "outputs": [
        {
          "output_type": "execute_result",
          "data": {
            "text/plain": [
              "array([0., 0., 0., 0., 0., 0., 0., 0., 0., 0., 0., 0., 0., 0., 0., 0., 0.,\n",
              "       0., 0., 0., 0., 0., 0., 0., 0., 0., 0., 0., 0., 0., 0., 0., 0., 0.,\n",
              "       0., 0., 0., 0., 0., 0., 0., 0., 0., 0., 0., 0., 0., 0., 0., 0., 0.,\n",
              "       0., 0., 0., 0., 0., 0., 0., 0., 0., 0., 0., 0., 0., 0., 0., 0., 0.,\n",
              "       0., 0., 0., 0., 0., 0., 0., 0., 0., 0., 0., 0., 0., 0., 0., 0., 0.,\n",
              "       0., 0., 0., 0., 0., 0., 0., 0., 0., 0.])"
            ]
          },
          "metadata": {
            "tags": []
          },
          "execution_count": 295
        }
      ]
    },
    {
      "cell_type": "code",
      "metadata": {
        "scrolled": true,
        "id": "rlCv6Q4S7rdh",
        "colab_type": "code",
        "colab": {}
      },
      "source": [
        "if(angle == np.pi/2):\n",
        "    for i in range(3):\n",
        "        x[idx[i],2] = (i+2)*(x[idx[i],0] + x[idx[i],1])/(x[idx[i],0] + x[idx[i],1])\n",
        "else:\n",
        "    for i in range(3):\n",
        "        x[idx[i],2] = (2*x[idx[i],0] + 3*x[idx[i],1])/c\n"
      ],
      "execution_count": 0,
      "outputs": []
    },
    {
      "cell_type": "code",
      "metadata": {
        "scrolled": true,
        "id": "bRw7_9wU7rdl",
        "colab_type": "code",
        "colab": {
          "base_uri": "https://localhost:8080/",
          "height": 1000
        },
        "outputId": "4c7f9b60-9d1f-4a9d-c27b-be663ae5d218"
      },
      "source": [
        "x[idx[0],:]"
      ],
      "execution_count": 297,
      "outputs": [
        {
          "output_type": "execute_result",
          "data": {
            "text/plain": [
              "array([[ 2.12505578,  1.95969702, -2.80933534],\n",
              "       [ 1.87822784,  1.93695548, -2.65349772],\n",
              "       [ 1.85603559,  2.10508744, -2.78108192],\n",
              "       [ 1.95531519,  2.10528689, -2.83631829],\n",
              "       [ 2.16031351,  1.80888562, -2.70341014],\n",
              "       [ 1.81088411,  2.16255835, -2.80385508],\n",
              "       [ 2.04701199,  2.02109848, -2.81713354],\n",
              "       [ 2.00847341,  2.03935288, -2.81094476],\n",
              "       [ 2.02323839,  2.08254285, -2.85507113],\n",
              "       [ 2.08181016,  1.94243919, -2.77098761],\n",
              "       [ 1.93081175,  1.89594897, -2.64854656],\n",
              "       [ 2.06547018,  1.91855074, -2.74204742],\n",
              "       [ 1.96665695,  1.94725129, -2.71111601],\n",
              "       [ 1.97418808,  1.90785013, -2.68250978],\n",
              "       [ 1.94435862,  2.05162099, -2.78558796],\n",
              "       [ 2.01913381,  2.021898  , -2.80233475],\n",
              "       [ 2.06966588,  2.01511652, -2.82472237],\n",
              "       [ 1.9477799 ,  1.98134447, -2.72901214],\n",
              "       [ 2.11571212,  2.08575797, -2.90904147],\n",
              "       [ 2.02415807,  2.01520579, -2.79955345],\n",
              "       [ 1.77709153,  1.99699811, -2.64735589],\n",
              "       [ 1.93025634,  1.91407078, -2.66331673],\n",
              "       [ 2.11741434,  2.01636144, -2.85224428],\n",
              "       [ 1.95368325,  1.87850708, -2.64672086],\n",
              "       [ 2.0811341 ,  2.14875499, -2.94227771],\n",
              "       [ 2.20445497,  2.08114996, -2.95443304],\n",
              "       [ 2.0294344 ,  1.87738589, -2.68780714],\n",
              "       [ 1.97061036,  1.91434768, -2.6859315 ],\n",
              "       [ 1.94538114,  1.9253232 , -2.68106904],\n",
              "       [ 1.9863884 ,  2.01012469, -2.77437487],\n",
              "       [ 1.95143916,  2.08496897, -2.81726273],\n",
              "       [ 1.97766981,  1.84605824, -2.63302714],\n",
              "       [ 1.91639664,  1.99852853, -2.72590184],\n",
              "       [ 1.95372348,  1.98066147, -2.73174076],\n",
              "       [ 2.11266664,  2.08120002, -2.90355969],\n",
              "       [ 1.95433516,  1.78377623, -2.56826164],\n",
              "       [ 2.03521457,  1.86236105, -2.67851198],\n",
              "       [ 2.17188867,  2.11317046, -2.96301118],\n",
              "       [ 2.02125673,  2.14745225, -2.90797978],\n",
              "       [ 2.03606186,  2.03347788, -2.82135978],\n",
              "       [ 1.92818266,  1.90392223, -2.65372235],\n",
              "       [ 1.93273577,  2.08175461, -2.80421345],\n",
              "       [ 1.89552506,  2.10142298, -2.79993773],\n",
              "       [ 2.09473587,  1.92719979, -2.76547755],\n",
              "       [ 1.96006667,  1.98686869, -2.74042405],\n",
              "       [ 2.07104939,  1.98185915, -2.797818  ],\n",
              "       [ 2.00374665,  2.02322237, -2.79490143],\n",
              "       [ 1.9666734 ,  1.99475306, -2.75064899],\n",
              "       [ 2.03787919,  1.98698288, -2.78368168],\n",
              "       [ 2.05908412,  1.87548089, -2.70266879],\n",
              "       [ 1.88130107,  1.97792271, -2.68928924],\n",
              "       [ 2.0502684 ,  1.87834124, -2.70015867],\n",
              "       [ 2.10506568,  1.94333984, -2.78463683],\n",
              "       [ 1.82710822,  2.13897648, -2.7932333 ],\n",
              "       [ 1.94043578,  2.02504059, -2.76129573],\n",
              "       [ 1.93758378,  1.99038593, -2.7308793 ],\n",
              "       [ 1.94751993,  1.98408802, -2.73115071],\n",
              "       [ 1.98988041,  2.05325144, -2.81219552],\n",
              "       [ 1.7402425 ,  2.19192871, -2.78910778],\n",
              "       [ 2.01811615,  2.0175548 , -2.79815649],\n",
              "       [ 1.95134829,  2.04956977, -2.78775841],\n",
              "       [ 1.92876179,  1.98099729, -2.71817392],\n",
              "       [ 2.09380591,  2.08955208, -2.90004697],\n",
              "       [ 2.07138376,  2.10359924, -2.89929734],\n",
              "       [ 2.21862393,  2.02991283, -2.9196607 ],\n",
              "       [ 1.94560561,  1.95246546, -2.70377727],\n",
              "       [ 2.16478959,  2.10961938, -2.95611864],\n",
              "       [ 1.95434701,  2.01487408, -2.76055324],\n",
              "       [ 1.93030661,  1.74773092, -2.52494148],\n",
              "       [ 2.10015019,  2.03365486, -2.85705685],\n",
              "       [ 1.96249772,  2.12755729, -2.85883254],\n",
              "       [ 1.96115979,  1.83764232, -2.61686656],\n",
              "       [ 1.79076279,  2.14656321, -2.77938502],\n",
              "       [ 2.0820049 ,  1.94549321, -2.77363672],\n",
              "       [ 1.98188849,  2.0314853 , -2.78965187],\n",
              "       [ 2.06634935,  2.05305423, -2.85444876],\n",
              "       [ 1.96217695,  2.18045827, -2.90267088],\n",
              "       [ 2.08835164,  2.1534855 , -2.95021731],\n",
              "       [ 2.10957439,  2.06992111, -2.8924598 ],\n",
              "       [ 1.9123569 ,  2.07260442, -2.78529586],\n",
              "       [ 2.11199742,  2.03882658, -2.86793164],\n",
              "       [ 1.82434195,  2.0223505 , -2.69466017],\n",
              "       [ 2.08996766,  2.16987394, -2.96474972],\n",
              "       [ 1.94990795,  1.93234683, -2.68942407],\n",
              "       [ 1.85379397,  2.13371629, -2.80365914],\n",
              "       [ 1.99192255,  1.99053996, -2.76114919],\n",
              "       [ 1.96828231,  1.96910409, -2.73020022],\n",
              "       [ 2.00821954,  1.9432918 , -2.73087628],\n",
              "       [ 2.10637687,  1.95687917, -2.79662956],\n",
              "       [ 2.07185424,  2.13699841, -2.92734811],\n",
              "       [ 1.96332126,  2.02561826, -2.77447095],\n",
              "       [ 1.93273815,  1.77517639, -2.54912627],\n",
              "       [ 1.76601818,  2.0936876 , -2.72166401],\n",
              "       [ 2.02803846,  2.03401597, -2.81735692],\n",
              "       [ 2.03345774,  1.9783301 , -2.77402955]])"
            ]
          },
          "metadata": {
            "tags": []
          },
          "execution_count": 297
        }
      ]
    },
    {
      "cell_type": "code",
      "metadata": {
        "scrolled": true,
        "id": "oVrnw8Yj7rdp",
        "colab_type": "code",
        "colab": {
          "base_uri": "https://localhost:8080/",
          "height": 265
        },
        "outputId": "fddcd5f2-4124-4e35-f99a-902129094426"
      },
      "source": [
        "fig = plt.figure()\n",
        "ax = fig.add_subplot(111, projection='3d')\n",
        "for i in range(10):\n",
        "    ax.scatter(x[idx[i],0],x[idx[i],1],x[idx[i],2],label=\"class_\"+str(i))\n",
        "ax.legend(loc='center left', bbox_to_anchor=(1, 0.5))"
      ],
      "execution_count": 298,
      "outputs": [
        {
          "output_type": "execute_result",
          "data": {
            "text/plain": [
              "<matplotlib.legend.Legend at 0x7f5e1179a898>"
            ]
          },
          "metadata": {
            "tags": []
          },
          "execution_count": 298
        },
        {
          "output_type": "display_data",
          "data": {
            "image/png": "[encoded data removed]",
            "text/plain": [
              "<Figure size 432x288 with 1 Axes>"
            ]
          },
          "metadata": {
            "tags": []
          }
        }
      ]
    },
    {
      "cell_type": "code",
      "metadata": {
        "id": "8J5HPflY7rdt",
        "colab_type": "code",
        "colab": {
          "base_uri": "https://localhost:8080/",
          "height": 265
        },
        "outputId": "38cfa8a6-7434-4790-c297-ae7ab95d2a11"
      },
      "source": [
        "normal = np.array([a,b,c])\n",
        "# a plane is a*x+b*y+c*z+d=0\n",
        "# [a,b,c] is the normal. Thus, we have to calculate\n",
        "# d and we're set\n",
        "d = 0\n",
        "\n",
        "# create x,y\n",
        "xx, yy = np.meshgrid(range(5), range(5))\n",
        "\n",
        "# calculate corresponding z\n",
        "z = -(-normal[0] * xx - normal[1] * yy - d) * 1. /normal[2]\n",
        "\n",
        "# plot the surface\n",
        "plt3d = plt.figure().gca(projection='3d')\n",
        "plt3d.plot_surface(xx, yy, z, alpha=0.5)\n",
        "\n",
        "# fig = plt.figure()\n",
        "ax = plt.gca()\n",
        "for i in range(10):\n",
        "    ax.scatter(x[idx[i],0],x[idx[i],1],x[idx[i],2],label=\"class_\"+str(i))\n",
        "ax.legend(loc='center left', bbox_to_anchor=(1, 0.5))"
      ],
      "execution_count": 299,
      "outputs": [
        {
          "output_type": "execute_result",
          "data": {
            "text/plain": [
              "<matplotlib.legend.Legend at 0x7f5e116ce6d8>"
            ]
          },
          "metadata": {
            "tags": []
          },
          "execution_count": 299
        },
        {
          "output_type": "display_data",
          "data": {
            "image/png": "[encoded data removed]",
            "text/plain": [
              "<Figure size 432x288 with 1 Axes>"
            ]
          },
          "metadata": {
            "tags": []
          }
        }
      ]
    },
    {
      "cell_type": "code",
      "metadata": {
        "id": "TJYoUUi27reF",
        "colab_type": "code",
        "colab": {
          "base_uri": "https://localhost:8080/",
          "height": 34
        },
        "outputId": "7a4babb8-a545-4fad-8c52-35e1babb1a24"
      },
      "source": [
        "x.shape,y.shape"
      ],
      "execution_count": 300,
      "outputs": [
        {
          "output_type": "execute_result",
          "data": {
            "text/plain": [
              "((1000, 3), (1000,))"
            ]
          },
          "metadata": {
            "tags": []
          },
          "execution_count": 300
        }
      ]
    },
    {
      "cell_type": "code",
      "metadata": {
        "id": "57yfZoDX7reI",
        "colab_type": "code",
        "colab": {}
      },
      "source": [
        "classes  = ('0', '1', '2','3', '4', '5', '6', '7','8', '9')\n",
        "foreground_classes = {'0', '1', '2'}\n",
        "\n",
        "background_classes = {'3', '4', '5', '6', '7','8', '9'}\n"
      ],
      "execution_count": 0,
      "outputs": []
    },
    {
      "cell_type": "code",
      "metadata": {
        "id": "XQ0Lz_GW7reL",
        "colab_type": "code",
        "colab": {}
      },
      "source": [
        "class sub_clust_data(Dataset):\n",
        "    def __init__(self,x, y):\n",
        "        self.x = torch.Tensor(x)\n",
        "        self.y = torch.Tensor(y).type(torch.LongTensor)\n",
        "    #self.fore_idx = fore_idx\n",
        "    \n",
        "    def __len__(self):\n",
        "        return len(self.y)\n",
        "\n",
        "    def __getitem__(self, idx):\n",
        "        return self.x[idx] , self.y[idx] #, self.fore_idx[idx]"
      ],
      "execution_count": 0,
      "outputs": []
    },
    {
      "cell_type": "code",
      "metadata": {
        "id": "1pH6faRT7reO",
        "colab_type": "code",
        "colab": {}
      },
      "source": [
        "trainset = sub_clust_data(x,y)"
      ],
      "execution_count": 0,
      "outputs": []
    },
    {
      "cell_type": "code",
      "metadata": {
        "id": "nQQBN6d47reR",
        "colab_type": "code",
        "colab": {}
      },
      "source": [
        "trainloader = torch.utils.data.DataLoader(trainset, batch_size=10, shuffle=True)"
      ],
      "execution_count": 0,
      "outputs": []
    },
    {
      "cell_type": "code",
      "metadata": {
        "id": "UUU-ibU47reU",
        "colab_type": "code",
        "colab": {}
      },
      "source": [
        "dataiter = iter(trainloader)\n",
        "background_data=[]\n",
        "background_label=[]\n",
        "foreground_data=[]\n",
        "foreground_label=[]\n",
        "batch_size=10\n",
        "\n",
        "for i in range(100):   #5000*batch_size = 50000 data points\n",
        "    images, labels = dataiter.next()\n",
        "    for j in range(batch_size):\n",
        "        if(classes[labels[j]] in background_classes):\n",
        "            img = images[j].tolist()\n",
        "            background_data.append(img)\n",
        "            background_label.append(labels[j])\n",
        "        else:\n",
        "            img = images[j].tolist()\n",
        "            foreground_data.append(img)\n",
        "            foreground_label.append(labels[j])"
      ],
      "execution_count": 0,
      "outputs": []
    },
    {
      "cell_type": "code",
      "metadata": {
        "id": "mh7y2Afy7reW",
        "colab_type": "code",
        "colab": {
          "base_uri": "https://localhost:8080/",
          "height": 34
        },
        "outputId": "4705a406-0034-47cf-9857-ce42e8e6b04b"
      },
      "source": [
        "np.shape(foreground_data),np.shape(foreground_label)"
      ],
      "execution_count": 306,
      "outputs": [
        {
          "output_type": "execute_result",
          "data": {
            "text/plain": [
              "((284, 3), (284,))"
            ]
          },
          "metadata": {
            "tags": []
          },
          "execution_count": 306
        }
      ]
    },
    {
      "cell_type": "code",
      "metadata": {
        "id": "bIk5bgiq7reZ",
        "colab_type": "code",
        "colab": {
          "base_uri": "https://localhost:8080/",
          "height": 34
        },
        "outputId": "214bb1f0-2d3f-4514-9e12-5e4f596a9140"
      },
      "source": [
        "np.shape(background_data),np.shape(background_label)"
      ],
      "execution_count": 307,
      "outputs": [
        {
          "output_type": "execute_result",
          "data": {
            "text/plain": [
              "((716, 3), (716,))"
            ]
          },
          "metadata": {
            "tags": []
          },
          "execution_count": 307
        }
      ]
    },
    {
      "cell_type": "code",
      "metadata": {
        "id": "kF9mgUkz7red",
        "colab_type": "code",
        "colab": {}
      },
      "source": [
        "foreground_data = torch.tensor(foreground_data)\n",
        "foreground_label = torch.tensor(foreground_label).type(torch.LongTensor)\n",
        "background_data = torch.tensor(background_data)\n",
        "background_label = torch.tensor(background_label).type(torch.LongTensor)"
      ],
      "execution_count": 0,
      "outputs": []
    },
    {
      "cell_type": "code",
      "metadata": {
        "id": "QmYT2mXj7reg",
        "colab_type": "code",
        "colab": {}
      },
      "source": [
        "def create_mosaic_img(bg_idx,fg_idx,fg): \n",
        "    image_list=[]\n",
        "    j=0\n",
        "    for i in range(9):\n",
        "        if i != fg:\n",
        "            image_list.append(background_data[bg_idx[j]].type(\"torch.DoubleTensor\"))\n",
        "            j+=1\n",
        "        else: \n",
        "            image_list.append(foreground_data[fg_idx].type(\"torch.DoubleTensor\"))\n",
        "            label = foreground_label[fg_idx]  #-7  # minus 7 because our fore ground classes are 7,8,9 but we have to store it as 0,1,2\n",
        "    #image_list = np.concatenate(image_list ,axis=0)\n",
        "    image_list = torch.stack(image_list) \n",
        "    return image_list,label"
      ],
      "execution_count": 0,
      "outputs": []
    },
    {
      "cell_type": "code",
      "metadata": {
        "id": "mGueYoxU-3wL",
        "colab_type": "code",
        "colab": {
          "base_uri": "https://localhost:8080/",
          "height": 34
        },
        "outputId": "0e98eb11-6a83-4e36-cf44-6c1b01966377"
      },
      "source": [
        "fg_nos = np.shape(foreground_label)[0]\n",
        "bg_nos = np.shape(background_label)[0]\n",
        "bg_nos, fg_nos"
      ],
      "execution_count": 310,
      "outputs": [
        {
          "output_type": "execute_result",
          "data": {
            "text/plain": [
              "(716, 284)"
            ]
          },
          "metadata": {
            "tags": []
          },
          "execution_count": 310
        }
      ]
    },
    {
      "cell_type": "code",
      "metadata": {
        "id": "sHCgXuqs7rek",
        "colab_type": "code",
        "colab": {}
      },
      "source": [
        "desired_num = 1000\n",
        "mosaic_list_of_images =[]      # list of mosaic images, each mosaic image is saved as list of 9 images\n",
        "fore_idx =[]                   # list of indexes at which foreground image is present in a mosaic image i.e from 0 to 9               \n",
        "mosaic_label=[]                # label of mosaic image = foreground class present in that mosaic\n",
        "for i in range(desired_num):\n",
        "    bg_idx = np.random.randint(0,bg_nos,8)\n",
        "    fg_idx = np.random.randint(0,fg_nos)\n",
        "    fg = np.random.randint(0,9)\n",
        "    fore_idx.append(fg)\n",
        "    image_list,label = create_mosaic_img(bg_idx,fg_idx,fg)\n",
        "    mosaic_list_of_images.append(image_list)\n",
        "    mosaic_label.append(label)"
      ],
      "execution_count": 0,
      "outputs": []
    },
    {
      "cell_type": "code",
      "metadata": {
        "id": "4vSUeW8M7rem",
        "colab_type": "code",
        "colab": {}
      },
      "source": [
        "def create_avg_image_from_mosaic_dataset(mosaic_dataset,labels,foreground_index,dataset_number):\n",
        "    avg_image_dataset = []\n",
        "    for i in range(len(mosaic_dataset)):\n",
        "        img = torch.zeros([3], dtype=torch.float64)\n",
        "        for j in range(9):\n",
        "            if j == foreground_index[i]:\n",
        "                img = img + mosaic_dataset[i][j]*dataset_number/9\n",
        "            else :\n",
        "                img = img + mosaic_dataset[i][j]*(9-dataset_number)/(8*9)\n",
        "    \n",
        "        avg_image_dataset.append(img)\n",
        "    \n",
        "    return avg_image_dataset , labels , foreground_index"
      ],
      "execution_count": 0,
      "outputs": []
    },
    {
      "cell_type": "code",
      "metadata": {
        "id": "YXlqfhEr7rep",
        "colab_type": "code",
        "colab": {}
      },
      "source": [
        "avg_image_dataset_1 , labels_1,  fg_index_1 = create_avg_image_from_mosaic_dataset(mosaic_list_of_images[0:1000], mosaic_label[0:1000], fore_idx[0:1000] , 1)\n",
        "avg_image_dataset_2 , labels_2,  fg_index_2 = create_avg_image_from_mosaic_dataset(mosaic_list_of_images[0:1000], mosaic_label[0:1000], fore_idx[0:1000] , 2)\n",
        "avg_image_dataset_3 , labels_3,  fg_index_3 = create_avg_image_from_mosaic_dataset(mosaic_list_of_images[0:1000], mosaic_label[0:1000], fore_idx[0:1000] , 3)\n",
        "avg_image_dataset_4 , labels_4,  fg_index_4 = create_avg_image_from_mosaic_dataset(mosaic_list_of_images[0:1000], mosaic_label[0:1000], fore_idx[0:1000] , 4)\n",
        "avg_image_dataset_5 , labels_5,  fg_index_5 = create_avg_image_from_mosaic_dataset(mosaic_list_of_images[0:1000], mosaic_label[0:1000], fore_idx[0:1000] , 5)\n",
        "avg_image_dataset_6 , labels_6,  fg_index_6 = create_avg_image_from_mosaic_dataset(mosaic_list_of_images[0:1000], mosaic_label[0:1000], fore_idx[0:1000] , 6)\n",
        "avg_image_dataset_7 , labels_7,  fg_index_7 = create_avg_image_from_mosaic_dataset(mosaic_list_of_images[0:1000], mosaic_label[0:1000], fore_idx[0:1000] , 7)\n",
        "avg_image_dataset_8 , labels_8,  fg_index_8 = create_avg_image_from_mosaic_dataset(mosaic_list_of_images[0:1000], mosaic_label[0:1000], fore_idx[0:1000] , 8)\n",
        "avg_image_dataset_9 , labels_9,  fg_index_9 = create_avg_image_from_mosaic_dataset(mosaic_list_of_images[0:1000], mosaic_label[0:1000], fore_idx[0:1000] , 9)\n",
        "\n",
        "#test_dataset_10 , labels_10 , fg_index_10 = create_avg_image_from_mosaic_dataset(mosaic_list_of_images[10000:20000], mosaic_label[10000:20000], fore_idx[10000:20000] , 9)"
      ],
      "execution_count": 0,
      "outputs": []
    },
    {
      "cell_type": "code",
      "metadata": {
        "id": "ZHeLv0Fg7res",
        "colab_type": "code",
        "colab": {}
      },
      "source": [
        "class MosaicDataset(Dataset):\n",
        "    \"\"\"MosaicDataset dataset.\"\"\"\n",
        "\n",
        "    def __init__(self, mosaic_list_of_images, mosaic_label):\n",
        "        \"\"\"\n",
        "          Args:\n",
        "            csv_file (string): Path to the csv file with annotations.\n",
        "            root_dir (string): Directory with all the images.\n",
        "            transform (callable, optional): Optional transform to be applied\n",
        "                on a sample.\n",
        "        \"\"\"\n",
        "        self.mosaic = mosaic_list_of_images\n",
        "        self.label = mosaic_label\n",
        "        #self.fore_idx = fore_idx\n",
        "    \n",
        "    def __len__(self):\n",
        "        return len(self.label)\n",
        "\n",
        "    def __getitem__(self, idx):\n",
        "        return self.mosaic[idx] , self.label[idx] #, self.fore_idx[idx]"
      ],
      "execution_count": 0,
      "outputs": []
    },
    {
      "cell_type": "code",
      "metadata": {
        "id": "Wa7qkACK7reu",
        "colab_type": "code",
        "colab": {}
      },
      "source": [
        "batch = 256\n",
        "\n",
        "\n",
        "# training_data = avg_image_dataset_5    #just change this and training_label to desired dataset for training\n",
        "# training_label = labels_5\n",
        "\n",
        "traindata_1 = MosaicDataset(avg_image_dataset_1, labels_1 )\n",
        "trainloader_1 = DataLoader( traindata_1 , batch_size= batch ,shuffle=True)\n",
        "\n",
        "traindata_2 = MosaicDataset(avg_image_dataset_2, labels_2 )\n",
        "trainloader_2 = DataLoader( traindata_2 , batch_size= batch ,shuffle=True)\n",
        "\n",
        "traindata_3 = MosaicDataset(avg_image_dataset_3, labels_3 )\n",
        "trainloader_3 = DataLoader( traindata_3 , batch_size= batch ,shuffle=True)\n",
        "\n",
        "traindata_4 = MosaicDataset(avg_image_dataset_4, labels_4 )\n",
        "trainloader_4 = DataLoader( traindata_4 , batch_size= batch ,shuffle=True)\n",
        "\n",
        "traindata_5 = MosaicDataset(avg_image_dataset_5, labels_5 )\n",
        "trainloader_5 = DataLoader( traindata_5 , batch_size= batch ,shuffle=True)\n",
        "\n",
        "traindata_6 = MosaicDataset(avg_image_dataset_6, labels_6 )\n",
        "trainloader_6 = DataLoader( traindata_6 , batch_size= batch ,shuffle=True)\n",
        "\n",
        "traindata_7 = MosaicDataset(avg_image_dataset_7, labels_7 )\n",
        "trainloader_7 = DataLoader( traindata_7 , batch_size= batch ,shuffle=True)\n",
        "\n",
        "traindata_8 = MosaicDataset(avg_image_dataset_8, labels_8 )\n",
        "trainloader_8 = DataLoader( traindata_8 , batch_size= batch ,shuffle=True)\n",
        "\n",
        "traindata_9 = MosaicDataset(avg_image_dataset_9, labels_9 )\n",
        "trainloader_9 = DataLoader( traindata_9 , batch_size= batch ,shuffle=True)\n",
        "\n",
        "testdata_1 = MosaicDataset(avg_image_dataset_1, labels_1 )\n",
        "testloader_1 = DataLoader( testdata_1 , batch_size= batch ,shuffle=False)\n",
        "\n",
        "testdata_2 = MosaicDataset(avg_image_dataset_2, labels_2 )\n",
        "testloader_2 = DataLoader( testdata_2 , batch_size= batch ,shuffle=False)\n",
        "\n",
        "testdata_3 = MosaicDataset(avg_image_dataset_3, labels_3 )\n",
        "testloader_3 = DataLoader( testdata_3 , batch_size= batch ,shuffle=False)\n",
        "\n",
        "testdata_4 = MosaicDataset(avg_image_dataset_4, labels_4 )\n",
        "testloader_4 = DataLoader( testdata_4 , batch_size= batch ,shuffle=False)\n",
        "\n",
        "testdata_5 = MosaicDataset(avg_image_dataset_5, labels_5 )\n",
        "testloader_5 = DataLoader( testdata_5 , batch_size= batch ,shuffle=False)\n",
        "\n",
        "testdata_6 = MosaicDataset(avg_image_dataset_6, labels_6 )\n",
        "testloader_6 = DataLoader( testdata_6 , batch_size= batch ,shuffle=False)\n",
        "\n",
        "testdata_7 = MosaicDataset(avg_image_dataset_7, labels_7 )\n",
        "testloader_7 = DataLoader( testdata_7 , batch_size= batch ,shuffle=False)\n",
        "\n",
        "testdata_8 = MosaicDataset(avg_image_dataset_8, labels_8 )\n",
        "testloader_8 = DataLoader( testdata_8 , batch_size= batch ,shuffle=False)\n",
        "\n",
        "testdata_9 = MosaicDataset(avg_image_dataset_9, labels_9 )\n",
        "testloader_9 = DataLoader( testdata_9 , batch_size= batch ,shuffle=False)\n",
        "\n"
      ],
      "execution_count": 0,
      "outputs": []
    },
    {
      "cell_type": "code",
      "metadata": {
        "id": "BQZy-c_O7rew",
        "colab_type": "code",
        "colab": {}
      },
      "source": [
        "class Net(nn.Module):\n",
        "    def __init__(self):\n",
        "        super(Net,self).__init__()\n",
        "        self.linear1 = nn.Linear(3,64)\n",
        "        self.linear2 = nn.Linear(64,128)\n",
        "        \n",
        "        self.linear3 = nn.Linear(128,3)\n",
        "        \n",
        "    def forward(self,x):\n",
        "        x = F.relu(self.linear1(x))\n",
        "        \n",
        "        x = F.relu(self.linear2(x))\n",
        "        \n",
        "        x = self.linear3(x)\n",
        "        \n",
        "        return x"
      ],
      "execution_count": 0,
      "outputs": []
    },
    {
      "cell_type": "code",
      "metadata": {
        "id": "EAEYaDjw8_wT",
        "colab_type": "code",
        "colab": {}
      },
      "source": [
        ""
      ],
      "execution_count": 0,
      "outputs": []
    },
    {
      "cell_type": "code",
      "metadata": {
        "id": "VR-IzVmU7rez",
        "colab_type": "code",
        "colab": {}
      },
      "source": [
        "def test_all(number, testloader,inc):\n",
        "    correct = 0\n",
        "    total = 0\n",
        "    out = []\n",
        "    pred = []\n",
        "    with torch.no_grad():\n",
        "        for data in testloader:\n",
        "            images, labels = data\n",
        "            images, labels = images.to(\"cuda\"),labels.to(\"cuda\")\n",
        "            out.append(labels.cpu().numpy())\n",
        "            outputs= inc(images)\n",
        "            _, predicted = torch.max(outputs.data, 1)\n",
        "            pred.append(predicted.cpu().numpy())\n",
        "            total += labels.size(0)\n",
        "            correct += (predicted == labels).sum().item()\n",
        "\n",
        "    print('Accuracy of the network on the 1000 test dataset %d: %d %%' % (number , 100 * correct / total))\n",
        "    return 100 * correct / total"
      ],
      "execution_count": 0,
      "outputs": []
    },
    {
      "cell_type": "code",
      "metadata": {
        "id": "1_FPcf0t7re2",
        "colab_type": "code",
        "colab": {}
      },
      "source": [
        "def train_all(trainloader, ds_number, testloader_list):\n",
        "    \n",
        "    print(\"--\"*40)\n",
        "    print(\"training on data set  \", ds_number)\n",
        "    \n",
        "    inc = Net().double()\n",
        "    inc = inc.to(\"cuda\")\n",
        "    \n",
        "    criterion_inception = nn.CrossEntropyLoss()\n",
        "    optimizer_inception = optim.SGD(inc.parameters(), lr=0.01, momentum=0.9)\n",
        "    \n",
        "    acti = []\n",
        "    loss_curi = []\n",
        "    epochs = 70\n",
        "    \n",
        "    for epoch in range(epochs): # loop over the dataset multiple times\n",
        "        ep_lossi = []\n",
        "\n",
        "        running_loss = 0.0\n",
        "        for i, data in enumerate(trainloader, 0):\n",
        "            # get the inputs\n",
        "            inputs, labels = data\n",
        "            inputs, labels = inputs.to(\"cuda\"),labels.to(\"cuda\")\n",
        "\n",
        "            # zero the parameter gradients\n",
        "            optimizer_inception.zero_grad()\n",
        "\n",
        "            # forward + backward + optimize\n",
        "            outputs = inc(inputs)\n",
        "            loss = criterion_inception(outputs, labels)\n",
        "            loss.backward()\n",
        "            optimizer_inception.step()\n",
        "\n",
        "            # print statistics\n",
        "            running_loss += loss.item()\n",
        "            mini=4\n",
        "            if i % mini == mini-1:    # print every 10 mini-batches\n",
        "                print('[%d, %5d] loss: %.3f' %\n",
        "                      (epoch + 1, i + 1, running_loss / mini))\n",
        "                ep_lossi.append(running_loss/mini) # loss per minibatch\n",
        "                running_loss = 0.0\n",
        "        \n",
        "        # if(np.mean(ep_lossi)<=0.01):\n",
        "        #     break\n",
        "        loss_curi.append(np.mean(ep_lossi))   #loss per epoch\n",
        "\n",
        "\n",
        "\n",
        "\n",
        "    print('Finished Training')\n",
        "#     torch.save(inc.state_dict(),\"/content/drive/My Drive/Research/Experiments on CIFAR mosaic/Exp_2_Attention_models_on_9_datasets_made_from_10k_mosaic/weights/train_dataset_\"+str(ds_number)+\"_\"+str(epochs)+\".pt\")\n",
        "    \n",
        "    correct = 0\n",
        "    total = 0\n",
        "    with torch.no_grad():\n",
        "        for data in trainloader:\n",
        "            images, labels = data\n",
        "            images, labels = images.to(\"cuda\"), labels.to(\"cuda\")\n",
        "            outputs = inc(images)\n",
        "            _, predicted = torch.max(outputs.data, 1)\n",
        "            total += labels.size(0)\n",
        "            correct += (predicted == labels).sum().item()\n",
        "\n",
        "    print('Accuracy of the network on the 1000 train images: %d %%' % (  100 * correct / total))\n",
        "    \n",
        "    test_list=[]\n",
        "    for i, j in enumerate(testloader_list):\n",
        "        test_list.append(test_all(i+1, j,inc))\n",
        "    \n",
        "    print(\"--\"*40)\n",
        "    \n",
        "    return loss_curi,test_list"
      ],
      "execution_count": 0,
      "outputs": []
    },
    {
      "cell_type": "code",
      "metadata": {
        "id": "xC65oNSz7re3",
        "colab_type": "code",
        "colab": {
          "base_uri": "https://localhost:8080/",
          "height": 1000
        },
        "outputId": "87267f35-00e3-4198-f112-95516541122e"
      },
      "source": [
        "train_loss_all=[]\n",
        "\n",
        "testloader_list= [ testloader_1, testloader_2, testloader_3, testloader_4, testloader_5, testloader_6,\n",
        "                 testloader_7, testloader_8, testloader_9]\n",
        "\n",
        "test1 = train_loss_all.append(train_all(trainloader_1, 1, testloader_list))\n",
        "test2 = train_loss_all.append(train_all(trainloader_2, 2, testloader_list))\n",
        "test3 = train_loss_all.append(train_all(trainloader_3, 3, testloader_list))\n",
        "test4 = train_loss_all.append(train_all(trainloader_4, 4, testloader_list))\n",
        "test5 = train_loss_all.append(train_all(trainloader_5, 5, testloader_list))\n",
        "test6 = train_loss_all.append(train_all(trainloader_6, 6, testloader_list))\n",
        "test7 = train_loss_all.append(train_all(trainloader_7, 7, testloader_list))\n",
        "test8 = train_loss_all.append(train_all(trainloader_8, 8, testloader_list))\n",
        "test9 = train_loss_all.append(train_all(trainloader_9, 9, testloader_list))"
      ],
      "execution_count": 319,
      "outputs": [
        {
          "output_type": "stream",
          "text": [
            "--------------------------------------------------------------------------------\n",
            "training on data set   1\n",
            "[1,     4] loss: 1.086\n",
            "[2,     4] loss: 1.080\n",
            "[3,     4] loss: 1.071\n",
            "[4,     4] loss: 1.060\n",
            "[5,     4] loss: 1.051\n",
            "[6,     4] loss: 1.039\n",
            "[7,     4] loss: 1.029\n",
            "[8,     4] loss: 1.017\n",
            "[9,     4] loss: 1.007\n",
            "[10,     4] loss: 0.996\n",
            "[11,     4] loss: 0.985\n",
            "[12,     4] loss: 0.972\n",
            "[13,     4] loss: 0.961\n",
            "[14,     4] loss: 0.946\n",
            "[15,     4] loss: 0.930\n",
            "[16,     4] loss: 0.915\n",
            "[17,     4] loss: 0.897\n",
            "[18,     4] loss: 0.879\n",
            "[19,     4] loss: 0.858\n",
            "[20,     4] loss: 0.834\n",
            "[21,     4] loss: 0.810\n",
            "[22,     4] loss: 0.783\n",
            "[23,     4] loss: 0.754\n",
            "[24,     4] loss: 0.726\n",
            "[25,     4] loss: 0.694\n",
            "[26,     4] loss: 0.663\n",
            "[27,     4] loss: 0.631\n",
            "[28,     4] loss: 0.599\n",
            "[29,     4] loss: 0.567\n",
            "[30,     4] loss: 0.537\n",
            "[31,     4] loss: 0.508\n",
            "[32,     4] loss: 0.479\n",
            "[33,     4] loss: 0.451\n",
            "[34,     4] loss: 0.425\n",
            "[35,     4] loss: 0.400\n",
            "[36,     4] loss: 0.375\n",
            "[37,     4] loss: 0.353\n",
            "[38,     4] loss: 0.331\n",
            "[39,     4] loss: 0.310\n",
            "[40,     4] loss: 0.290\n",
            "[41,     4] loss: 0.272\n",
            "[42,     4] loss: 0.254\n",
            "[43,     4] loss: 0.237\n",
            "[44,     4] loss: 0.221\n",
            "[45,     4] loss: 0.206\n",
            "[46,     4] loss: 0.192\n",
            "[47,     4] loss: 0.179\n",
            "[48,     4] loss: 0.167\n",
            "[49,     4] loss: 0.156\n",
            "[50,     4] loss: 0.145\n",
            "[51,     4] loss: 0.136\n",
            "[52,     4] loss: 0.127\n",
            "[53,     4] loss: 0.119\n",
            "[54,     4] loss: 0.111\n",
            "[55,     4] loss: 0.104\n",
            "[56,     4] loss: 0.098\n",
            "[57,     4] loss: 0.092\n",
            "[58,     4] loss: 0.086\n",
            "[59,     4] loss: 0.081\n",
            "[60,     4] loss: 0.077\n",
            "[61,     4] loss: 0.072\n",
            "[62,     4] loss: 0.068\n",
            "[63,     4] loss: 0.065\n",
            "[64,     4] loss: 0.061\n",
            "[65,     4] loss: 0.058\n",
            "[66,     4] loss: 0.056\n",
            "[67,     4] loss: 0.053\n",
            "[68,     4] loss: 0.050\n",
            "[69,     4] loss: 0.048\n",
            "[70,     4] loss: 0.046\n",
            "Finished Training\n",
            "Accuracy of the network on the 1000 train images: 100 %\n",
            "Accuracy of the network on the 1000 test dataset 1: 100 %\n",
            "Accuracy of the network on the 1000 test dataset 2: 99 %\n",
            "Accuracy of the network on the 1000 test dataset 3: 85 %\n",
            "Accuracy of the network on the 1000 test dataset 4: 71 %\n",
            "Accuracy of the network on the 1000 test dataset 5: 67 %\n",
            "Accuracy of the network on the 1000 test dataset 6: 66 %\n",
            "Accuracy of the network on the 1000 test dataset 7: 65 %\n",
            "Accuracy of the network on the 1000 test dataset 8: 65 %\n",
            "Accuracy of the network on the 1000 test dataset 9: 65 %\n",
            "--------------------------------------------------------------------------------\n",
            "--------------------------------------------------------------------------------\n",
            "training on data set   2\n",
            "[1,     4] loss: 1.080\n",
            "[2,     4] loss: 1.059\n",
            "[3,     4] loss: 1.026\n",
            "[4,     4] loss: 0.988\n",
            "[5,     4] loss: 0.948\n",
            "[6,     4] loss: 0.907\n",
            "[7,     4] loss: 0.862\n",
            "[8,     4] loss: 0.816\n",
            "[9,     4] loss: 0.768\n",
            "[10,     4] loss: 0.721\n",
            "[11,     4] loss: 0.673\n",
            "[12,     4] loss: 0.627\n",
            "[13,     4] loss: 0.582\n",
            "[14,     4] loss: 0.540\n",
            "[15,     4] loss: 0.501\n",
            "[16,     4] loss: 0.462\n",
            "[17,     4] loss: 0.427\n",
            "[18,     4] loss: 0.396\n",
            "[19,     4] loss: 0.367\n",
            "[20,     4] loss: 0.338\n",
            "[21,     4] loss: 0.314\n",
            "[22,     4] loss: 0.290\n",
            "[23,     4] loss: 0.268\n",
            "[24,     4] loss: 0.248\n",
            "[25,     4] loss: 0.229\n",
            "[26,     4] loss: 0.211\n",
            "[27,     4] loss: 0.194\n",
            "[28,     4] loss: 0.179\n",
            "[29,     4] loss: 0.165\n",
            "[30,     4] loss: 0.151\n",
            "[31,     4] loss: 0.139\n",
            "[32,     4] loss: 0.128\n",
            "[33,     4] loss: 0.118\n",
            "[34,     4] loss: 0.109\n",
            "[35,     4] loss: 0.100\n",
            "[36,     4] loss: 0.093\n",
            "[37,     4] loss: 0.086\n",
            "[38,     4] loss: 0.080\n",
            "[39,     4] loss: 0.074\n",
            "[40,     4] loss: 0.069\n",
            "[41,     4] loss: 0.064\n",
            "[42,     4] loss: 0.060\n",
            "[43,     4] loss: 0.056\n",
            "[44,     4] loss: 0.053\n",
            "[45,     4] loss: 0.049\n",
            "[46,     4] loss: 0.046\n",
            "[47,     4] loss: 0.044\n",
            "[48,     4] loss: 0.041\n",
            "[49,     4] loss: 0.039\n",
            "[50,     4] loss: 0.037\n",
            "[51,     4] loss: 0.035\n",
            "[52,     4] loss: 0.034\n",
            "[53,     4] loss: 0.032\n",
            "[54,     4] loss: 0.031\n",
            "[55,     4] loss: 0.029\n",
            "[56,     4] loss: 0.028\n",
            "[57,     4] loss: 0.027\n",
            "[58,     4] loss: 0.026\n",
            "[59,     4] loss: 0.025\n",
            "[60,     4] loss: 0.024\n",
            "[61,     4] loss: 0.023\n",
            "[62,     4] loss: 0.022\n",
            "[63,     4] loss: 0.021\n",
            "[64,     4] loss: 0.020\n",
            "[65,     4] loss: 0.020\n",
            "[66,     4] loss: 0.019\n",
            "[67,     4] loss: 0.018\n",
            "[68,     4] loss: 0.018\n",
            "[69,     4] loss: 0.017\n",
            "[70,     4] loss: 0.017\n",
            "Finished Training\n",
            "Accuracy of the network on the 1000 train images: 100 %\n",
            "Accuracy of the network on the 1000 test dataset 1: 74 %\n",
            "Accuracy of the network on the 1000 test dataset 2: 100 %\n",
            "Accuracy of the network on the 1000 test dataset 3: 100 %\n",
            "Accuracy of the network on the 1000 test dataset 4: 100 %\n",
            "Accuracy of the network on the 1000 test dataset 5: 99 %\n",
            "Accuracy of the network on the 1000 test dataset 6: 96 %\n",
            "Accuracy of the network on the 1000 test dataset 7: 92 %\n",
            "Accuracy of the network on the 1000 test dataset 8: 85 %\n",
            "Accuracy of the network on the 1000 test dataset 9: 80 %\n",
            "--------------------------------------------------------------------------------\n",
            "--------------------------------------------------------------------------------\n",
            "training on data set   3\n",
            "[1,     4] loss: 1.078\n",
            "[2,     4] loss: 1.031\n",
            "[3,     4] loss: 0.962\n",
            "[4,     4] loss: 0.883\n",
            "[5,     4] loss: 0.800\n",
            "[6,     4] loss: 0.709\n",
            "[7,     4] loss: 0.617\n",
            "[8,     4] loss: 0.528\n",
            "[9,     4] loss: 0.449\n",
            "[10,     4] loss: 0.385\n",
            "[11,     4] loss: 0.333\n",
            "[12,     4] loss: 0.295\n",
            "[13,     4] loss: 0.266\n",
            "[14,     4] loss: 0.241\n",
            "[15,     4] loss: 0.223\n",
            "[16,     4] loss: 0.207\n",
            "[17,     4] loss: 0.194\n",
            "[18,     4] loss: 0.182\n",
            "[19,     4] loss: 0.171\n",
            "[20,     4] loss: 0.162\n",
            "[21,     4] loss: 0.153\n",
            "[22,     4] loss: 0.144\n",
            "[23,     4] loss: 0.136\n",
            "[24,     4] loss: 0.129\n",
            "[25,     4] loss: 0.121\n",
            "[26,     4] loss: 0.115\n",
            "[27,     4] loss: 0.108\n",
            "[28,     4] loss: 0.102\n",
            "[29,     4] loss: 0.096\n",
            "[30,     4] loss: 0.091\n",
            "[31,     4] loss: 0.086\n",
            "[32,     4] loss: 0.082\n",
            "[33,     4] loss: 0.077\n",
            "[34,     4] loss: 0.073\n",
            "[35,     4] loss: 0.069\n",
            "[36,     4] loss: 0.065\n",
            "[37,     4] loss: 0.062\n",
            "[38,     4] loss: 0.058\n",
            "[39,     4] loss: 0.055\n",
            "[40,     4] loss: 0.052\n",
            "[41,     4] loss: 0.050\n",
            "[42,     4] loss: 0.047\n",
            "[43,     4] loss: 0.045\n",
            "[44,     4] loss: 0.043\n",
            "[45,     4] loss: 0.041\n",
            "[46,     4] loss: 0.039\n",
            "[47,     4] loss: 0.037\n",
            "[48,     4] loss: 0.036\n",
            "[49,     4] loss: 0.034\n",
            "[50,     4] loss: 0.032\n",
            "[51,     4] loss: 0.031\n",
            "[52,     4] loss: 0.030\n",
            "[53,     4] loss: 0.029\n",
            "[54,     4] loss: 0.027\n",
            "[55,     4] loss: 0.026\n",
            "[56,     4] loss: 0.026\n",
            "[57,     4] loss: 0.024\n",
            "[58,     4] loss: 0.024\n",
            "[59,     4] loss: 0.023\n",
            "[60,     4] loss: 0.022\n",
            "[61,     4] loss: 0.021\n",
            "[62,     4] loss: 0.020\n",
            "[63,     4] loss: 0.020\n",
            "[64,     4] loss: 0.019\n",
            "[65,     4] loss: 0.018\n",
            "[66,     4] loss: 0.018\n",
            "[67,     4] loss: 0.017\n",
            "[68,     4] loss: 0.017\n",
            "[69,     4] loss: 0.016\n",
            "[70,     4] loss: 0.016\n",
            "Finished Training\n",
            "Accuracy of the network on the 1000 train images: 100 %\n",
            "Accuracy of the network on the 1000 test dataset 1: 61 %\n",
            "Accuracy of the network on the 1000 test dataset 2: 94 %\n",
            "Accuracy of the network on the 1000 test dataset 3: 100 %\n",
            "Accuracy of the network on the 1000 test dataset 4: 100 %\n",
            "Accuracy of the network on the 1000 test dataset 5: 100 %\n",
            "Accuracy of the network on the 1000 test dataset 6: 100 %\n",
            "Accuracy of the network on the 1000 test dataset 7: 100 %\n",
            "Accuracy of the network on the 1000 test dataset 8: 100 %\n",
            "Accuracy of the network on the 1000 test dataset 9: 100 %\n",
            "--------------------------------------------------------------------------------\n",
            "--------------------------------------------------------------------------------\n",
            "training on data set   4\n",
            "[1,     4] loss: 1.097\n",
            "[2,     4] loss: 1.029\n",
            "[3,     4] loss: 0.928\n",
            "[4,     4] loss: 0.815\n",
            "[5,     4] loss: 0.698\n",
            "[6,     4] loss: 0.574\n",
            "[7,     4] loss: 0.456\n",
            "[8,     4] loss: 0.350\n",
            "[9,     4] loss: 0.264\n",
            "[10,     4] loss: 0.199\n",
            "[11,     4] loss: 0.153\n",
            "[12,     4] loss: 0.122\n",
            "[13,     4] loss: 0.100\n",
            "[14,     4] loss: 0.085\n",
            "[15,     4] loss: 0.075\n",
            "[16,     4] loss: 0.067\n",
            "[17,     4] loss: 0.061\n",
            "[18,     4] loss: 0.056\n",
            "[19,     4] loss: 0.052\n",
            "[20,     4] loss: 0.049\n",
            "[21,     4] loss: 0.046\n",
            "[22,     4] loss: 0.043\n",
            "[23,     4] loss: 0.042\n",
            "[24,     4] loss: 0.040\n",
            "[25,     4] loss: 0.038\n",
            "[26,     4] loss: 0.037\n",
            "[27,     4] loss: 0.035\n",
            "[28,     4] loss: 0.034\n",
            "[29,     4] loss: 0.033\n",
            "[30,     4] loss: 0.031\n",
            "[31,     4] loss: 0.030\n",
            "[32,     4] loss: 0.029\n",
            "[33,     4] loss: 0.029\n",
            "[34,     4] loss: 0.028\n",
            "[35,     4] loss: 0.027\n",
            "[36,     4] loss: 0.026\n",
            "[37,     4] loss: 0.025\n",
            "[38,     4] loss: 0.025\n",
            "[39,     4] loss: 0.024\n",
            "[40,     4] loss: 0.023\n",
            "[41,     4] loss: 0.023\n",
            "[42,     4] loss: 0.022\n",
            "[43,     4] loss: 0.021\n",
            "[44,     4] loss: 0.021\n",
            "[45,     4] loss: 0.021\n",
            "[46,     4] loss: 0.020\n",
            "[47,     4] loss: 0.020\n",
            "[48,     4] loss: 0.019\n",
            "[49,     4] loss: 0.019\n",
            "[50,     4] loss: 0.018\n",
            "[51,     4] loss: 0.018\n",
            "[52,     4] loss: 0.017\n",
            "[53,     4] loss: 0.017\n",
            "[54,     4] loss: 0.017\n",
            "[55,     4] loss: 0.016\n",
            "[56,     4] loss: 0.016\n",
            "[57,     4] loss: 0.016\n",
            "[58,     4] loss: 0.015\n",
            "[59,     4] loss: 0.015\n",
            "[60,     4] loss: 0.015\n",
            "[61,     4] loss: 0.014\n",
            "[62,     4] loss: 0.014\n",
            "[63,     4] loss: 0.014\n",
            "[64,     4] loss: 0.014\n",
            "[65,     4] loss: 0.013\n",
            "[66,     4] loss: 0.013\n",
            "[67,     4] loss: 0.013\n",
            "[68,     4] loss: 0.013\n",
            "[69,     4] loss: 0.012\n",
            "[70,     4] loss: 0.012\n",
            "Finished Training\n",
            "Accuracy of the network on the 1000 train images: 99 %\n",
            "Accuracy of the network on the 1000 test dataset 1: 52 %\n",
            "Accuracy of the network on the 1000 test dataset 2: 76 %\n",
            "Accuracy of the network on the 1000 test dataset 3: 94 %\n",
            "Accuracy of the network on the 1000 test dataset 4: 99 %\n",
            "Accuracy of the network on the 1000 test dataset 5: 100 %\n",
            "Accuracy of the network on the 1000 test dataset 6: 100 %\n",
            "Accuracy of the network on the 1000 test dataset 7: 100 %\n",
            "Accuracy of the network on the 1000 test dataset 8: 100 %\n",
            "Accuracy of the network on the 1000 test dataset 9: 100 %\n",
            "--------------------------------------------------------------------------------\n",
            "--------------------------------------------------------------------------------\n",
            "training on data set   5\n",
            "[1,     4] loss: 1.111\n",
            "[2,     4] loss: 0.974\n",
            "[3,     4] loss: 0.785\n",
            "[4,     4] loss: 0.597\n",
            "[5,     4] loss: 0.428\n",
            "[6,     4] loss: 0.292\n",
            "[7,     4] loss: 0.193\n",
            "[8,     4] loss: 0.126\n",
            "[9,     4] loss: 0.085\n",
            "[10,     4] loss: 0.060\n",
            "[11,     4] loss: 0.044\n",
            "[12,     4] loss: 0.035\n",
            "[13,     4] loss: 0.029\n",
            "[14,     4] loss: 0.024\n",
            "[15,     4] loss: 0.021\n",
            "[16,     4] loss: 0.019\n",
            "[17,     4] loss: 0.017\n",
            "[18,     4] loss: 0.016\n",
            "[19,     4] loss: 0.015\n",
            "[20,     4] loss: 0.014\n",
            "[21,     4] loss: 0.013\n",
            "[22,     4] loss: 0.012\n",
            "[23,     4] loss: 0.011\n",
            "[24,     4] loss: 0.011\n",
            "[25,     4] loss: 0.010\n",
            "[26,     4] loss: 0.010\n",
            "[27,     4] loss: 0.010\n",
            "[28,     4] loss: 0.009\n",
            "[29,     4] loss: 0.009\n",
            "[30,     4] loss: 0.009\n",
            "[31,     4] loss: 0.008\n",
            "[32,     4] loss: 0.008\n",
            "[33,     4] loss: 0.008\n",
            "[34,     4] loss: 0.008\n",
            "[35,     4] loss: 0.007\n",
            "[36,     4] loss: 0.007\n",
            "[37,     4] loss: 0.007\n",
            "[38,     4] loss: 0.007\n",
            "[39,     4] loss: 0.007\n",
            "[40,     4] loss: 0.006\n",
            "[41,     4] loss: 0.006\n",
            "[42,     4] loss: 0.006\n",
            "[43,     4] loss: 0.006\n",
            "[44,     4] loss: 0.006\n",
            "[45,     4] loss: 0.006\n",
            "[46,     4] loss: 0.006\n",
            "[47,     4] loss: 0.005\n",
            "[48,     4] loss: 0.005\n",
            "[49,     4] loss: 0.005\n",
            "[50,     4] loss: 0.005\n",
            "[51,     4] loss: 0.005\n",
            "[52,     4] loss: 0.005\n",
            "[53,     4] loss: 0.005\n",
            "[54,     4] loss: 0.005\n",
            "[55,     4] loss: 0.005\n",
            "[56,     4] loss: 0.005\n",
            "[57,     4] loss: 0.004\n",
            "[58,     4] loss: 0.004\n",
            "[59,     4] loss: 0.004\n",
            "[60,     4] loss: 0.004\n",
            "[61,     4] loss: 0.004\n",
            "[62,     4] loss: 0.004\n",
            "[63,     4] loss: 0.004\n",
            "[64,     4] loss: 0.004\n",
            "[65,     4] loss: 0.004\n",
            "[66,     4] loss: 0.004\n",
            "[67,     4] loss: 0.004\n",
            "[68,     4] loss: 0.004\n",
            "[69,     4] loss: 0.004\n",
            "[70,     4] loss: 0.004\n",
            "Finished Training\n",
            "Accuracy of the network on the 1000 train images: 100 %\n",
            "Accuracy of the network on the 1000 test dataset 1: 49 %\n",
            "Accuracy of the network on the 1000 test dataset 2: 70 %\n",
            "Accuracy of the network on the 1000 test dataset 3: 88 %\n",
            "Accuracy of the network on the 1000 test dataset 4: 98 %\n",
            "Accuracy of the network on the 1000 test dataset 5: 100 %\n",
            "Accuracy of the network on the 1000 test dataset 6: 100 %\n",
            "Accuracy of the network on the 1000 test dataset 7: 100 %\n",
            "Accuracy of the network on the 1000 test dataset 8: 100 %\n",
            "Accuracy of the network on the 1000 test dataset 9: 100 %\n",
            "--------------------------------------------------------------------------------\n",
            "--------------------------------------------------------------------------------\n",
            "training on data set   6\n",
            "[1,     4] loss: 1.100\n",
            "[2,     4] loss: 0.900\n",
            "[3,     4] loss: 0.636\n",
            "[4,     4] loss: 0.398\n",
            "[5,     4] loss: 0.225\n",
            "[6,     4] loss: 0.119\n",
            "[7,     4] loss: 0.063\n",
            "[8,     4] loss: 0.036\n",
            "[9,     4] loss: 0.022\n",
            "[10,     4] loss: 0.015\n",
            "[11,     4] loss: 0.012\n",
            "[12,     4] loss: 0.009\n",
            "[13,     4] loss: 0.008\n",
            "[14,     4] loss: 0.007\n",
            "[15,     4] loss: 0.006\n",
            "[16,     4] loss: 0.006\n",
            "[17,     4] loss: 0.005\n",
            "[18,     4] loss: 0.005\n",
            "[19,     4] loss: 0.005\n",
            "[20,     4] loss: 0.004\n",
            "[21,     4] loss: 0.004\n",
            "[22,     4] loss: 0.004\n",
            "[23,     4] loss: 0.004\n",
            "[24,     4] loss: 0.004\n",
            "[25,     4] loss: 0.004\n",
            "[26,     4] loss: 0.003\n",
            "[27,     4] loss: 0.003\n",
            "[28,     4] loss: 0.003\n",
            "[29,     4] loss: 0.003\n",
            "[30,     4] loss: 0.003\n",
            "[31,     4] loss: 0.003\n",
            "[32,     4] loss: 0.003\n",
            "[33,     4] loss: 0.003\n",
            "[34,     4] loss: 0.003\n",
            "[35,     4] loss: 0.003\n",
            "[36,     4] loss: 0.003\n",
            "[37,     4] loss: 0.003\n",
            "[38,     4] loss: 0.002\n",
            "[39,     4] loss: 0.002\n",
            "[40,     4] loss: 0.002\n",
            "[41,     4] loss: 0.002\n",
            "[42,     4] loss: 0.002\n",
            "[43,     4] loss: 0.002\n",
            "[44,     4] loss: 0.002\n",
            "[45,     4] loss: 0.002\n",
            "[46,     4] loss: 0.002\n",
            "[47,     4] loss: 0.002\n",
            "[48,     4] loss: 0.002\n",
            "[49,     4] loss: 0.002\n",
            "[50,     4] loss: 0.002\n",
            "[51,     4] loss: 0.002\n",
            "[52,     4] loss: 0.002\n",
            "[53,     4] loss: 0.002\n",
            "[54,     4] loss: 0.002\n",
            "[55,     4] loss: 0.002\n",
            "[56,     4] loss: 0.002\n",
            "[57,     4] loss: 0.002\n",
            "[58,     4] loss: 0.002\n",
            "[59,     4] loss: 0.002\n",
            "[60,     4] loss: 0.002\n",
            "[61,     4] loss: 0.002\n",
            "[62,     4] loss: 0.002\n",
            "[63,     4] loss: 0.002\n",
            "[64,     4] loss: 0.002\n",
            "[65,     4] loss: 0.002\n",
            "[66,     4] loss: 0.001\n",
            "[67,     4] loss: 0.001\n",
            "[68,     4] loss: 0.001\n",
            "[69,     4] loss: 0.001\n",
            "[70,     4] loss: 0.001\n",
            "Finished Training\n",
            "Accuracy of the network on the 1000 train images: 100 %\n",
            "Accuracy of the network on the 1000 test dataset 1: 49 %\n",
            "Accuracy of the network on the 1000 test dataset 2: 69 %\n",
            "Accuracy of the network on the 1000 test dataset 3: 88 %\n",
            "Accuracy of the network on the 1000 test dataset 4: 98 %\n",
            "Accuracy of the network on the 1000 test dataset 5: 100 %\n",
            "Accuracy of the network on the 1000 test dataset 6: 100 %\n",
            "Accuracy of the network on the 1000 test dataset 7: 100 %\n",
            "Accuracy of the network on the 1000 test dataset 8: 100 %\n",
            "Accuracy of the network on the 1000 test dataset 9: 100 %\n",
            "--------------------------------------------------------------------------------\n",
            "--------------------------------------------------------------------------------\n",
            "training on data set   7\n",
            "[1,     4] loss: 1.066\n",
            "[2,     4] loss: 0.897\n",
            "[3,     4] loss: 0.666\n",
            "[4,     4] loss: 0.452\n",
            "[5,     4] loss: 0.280\n",
            "[6,     4] loss: 0.159\n",
            "[7,     4] loss: 0.086\n",
            "[8,     4] loss: 0.048\n",
            "[9,     4] loss: 0.028\n",
            "[10,     4] loss: 0.018\n",
            "[11,     4] loss: 0.013\n",
            "[12,     4] loss: 0.010\n",
            "[13,     4] loss: 0.008\n",
            "[14,     4] loss: 0.007\n",
            "[15,     4] loss: 0.006\n",
            "[16,     4] loss: 0.005\n",
            "[17,     4] loss: 0.005\n",
            "[18,     4] loss: 0.005\n",
            "[19,     4] loss: 0.004\n",
            "[20,     4] loss: 0.004\n",
            "[21,     4] loss: 0.004\n",
            "[22,     4] loss: 0.004\n",
            "[23,     4] loss: 0.004\n",
            "[24,     4] loss: 0.003\n",
            "[25,     4] loss: 0.003\n",
            "[26,     4] loss: 0.003\n",
            "[27,     4] loss: 0.003\n",
            "[28,     4] loss: 0.003\n",
            "[29,     4] loss: 0.003\n",
            "[30,     4] loss: 0.003\n",
            "[31,     4] loss: 0.003\n",
            "[32,     4] loss: 0.003\n",
            "[33,     4] loss: 0.003\n",
            "[34,     4] loss: 0.002\n",
            "[35,     4] loss: 0.002\n",
            "[36,     4] loss: 0.002\n",
            "[37,     4] loss: 0.002\n",
            "[38,     4] loss: 0.002\n",
            "[39,     4] loss: 0.002\n",
            "[40,     4] loss: 0.002\n",
            "[41,     4] loss: 0.002\n",
            "[42,     4] loss: 0.002\n",
            "[43,     4] loss: 0.002\n",
            "[44,     4] loss: 0.002\n",
            "[45,     4] loss: 0.002\n",
            "[46,     4] loss: 0.002\n",
            "[47,     4] loss: 0.002\n",
            "[48,     4] loss: 0.002\n",
            "[49,     4] loss: 0.002\n",
            "[50,     4] loss: 0.002\n",
            "[51,     4] loss: 0.002\n",
            "[52,     4] loss: 0.002\n",
            "[53,     4] loss: 0.002\n",
            "[54,     4] loss: 0.002\n",
            "[55,     4] loss: 0.002\n",
            "[56,     4] loss: 0.001\n",
            "[57,     4] loss: 0.001\n",
            "[58,     4] loss: 0.001\n",
            "[59,     4] loss: 0.001\n",
            "[60,     4] loss: 0.001\n",
            "[61,     4] loss: 0.001\n",
            "[62,     4] loss: 0.001\n",
            "[63,     4] loss: 0.001\n",
            "[64,     4] loss: 0.001\n",
            "[65,     4] loss: 0.001\n",
            "[66,     4] loss: 0.001\n",
            "[67,     4] loss: 0.001\n",
            "[68,     4] loss: 0.001\n",
            "[69,     4] loss: 0.001\n",
            "[70,     4] loss: 0.001\n",
            "Finished Training\n",
            "Accuracy of the network on the 1000 train images: 100 %\n",
            "Accuracy of the network on the 1000 test dataset 1: 45 %\n",
            "Accuracy of the network on the 1000 test dataset 2: 65 %\n",
            "Accuracy of the network on the 1000 test dataset 3: 85 %\n",
            "Accuracy of the network on the 1000 test dataset 4: 96 %\n",
            "Accuracy of the network on the 1000 test dataset 5: 100 %\n",
            "Accuracy of the network on the 1000 test dataset 6: 100 %\n",
            "Accuracy of the network on the 1000 test dataset 7: 100 %\n",
            "Accuracy of the network on the 1000 test dataset 8: 100 %\n",
            "Accuracy of the network on the 1000 test dataset 9: 100 %\n",
            "--------------------------------------------------------------------------------\n",
            "--------------------------------------------------------------------------------\n",
            "training on data set   8\n",
            "[1,     4] loss: 0.972\n",
            "[2,     4] loss: 0.706\n",
            "[3,     4] loss: 0.422\n",
            "[4,     4] loss: 0.216\n",
            "[5,     4] loss: 0.098\n",
            "[6,     4] loss: 0.044\n",
            "[7,     4] loss: 0.023\n",
            "[8,     4] loss: 0.013\n",
            "[9,     4] loss: 0.009\n",
            "[10,     4] loss: 0.006\n",
            "[11,     4] loss: 0.005\n",
            "[12,     4] loss: 0.004\n",
            "[13,     4] loss: 0.004\n",
            "[14,     4] loss: 0.003\n",
            "[15,     4] loss: 0.003\n",
            "[16,     4] loss: 0.003\n",
            "[17,     4] loss: 0.003\n",
            "[18,     4] loss: 0.002\n",
            "[19,     4] loss: 0.002\n",
            "[20,     4] loss: 0.002\n",
            "[21,     4] loss: 0.002\n",
            "[22,     4] loss: 0.002\n",
            "[23,     4] loss: 0.002\n",
            "[24,     4] loss: 0.002\n",
            "[25,     4] loss: 0.002\n",
            "[26,     4] loss: 0.002\n",
            "[27,     4] loss: 0.002\n",
            "[28,     4] loss: 0.002\n",
            "[29,     4] loss: 0.002\n",
            "[30,     4] loss: 0.002\n",
            "[31,     4] loss: 0.002\n",
            "[32,     4] loss: 0.002\n",
            "[33,     4] loss: 0.002\n",
            "[34,     4] loss: 0.001\n",
            "[35,     4] loss: 0.001\n",
            "[36,     4] loss: 0.001\n",
            "[37,     4] loss: 0.001\n",
            "[38,     4] loss: 0.001\n",
            "[39,     4] loss: 0.001\n",
            "[40,     4] loss: 0.001\n",
            "[41,     4] loss: 0.001\n",
            "[42,     4] loss: 0.001\n",
            "[43,     4] loss: 0.001\n",
            "[44,     4] loss: 0.001\n",
            "[45,     4] loss: 0.001\n",
            "[46,     4] loss: 0.001\n",
            "[47,     4] loss: 0.001\n",
            "[48,     4] loss: 0.001\n",
            "[49,     4] loss: 0.001\n",
            "[50,     4] loss: 0.001\n",
            "[51,     4] loss: 0.001\n",
            "[52,     4] loss: 0.001\n",
            "[53,     4] loss: 0.001\n",
            "[54,     4] loss: 0.001\n",
            "[55,     4] loss: 0.001\n",
            "[56,     4] loss: 0.001\n",
            "[57,     4] loss: 0.001\n",
            "[58,     4] loss: 0.001\n",
            "[59,     4] loss: 0.001\n",
            "[60,     4] loss: 0.001\n",
            "[61,     4] loss: 0.001\n",
            "[62,     4] loss: 0.001\n",
            "[63,     4] loss: 0.001\n",
            "[64,     4] loss: 0.001\n",
            "[65,     4] loss: 0.001\n",
            "[66,     4] loss: 0.001\n",
            "[67,     4] loss: 0.001\n",
            "[68,     4] loss: 0.001\n",
            "[69,     4] loss: 0.001\n",
            "[70,     4] loss: 0.001\n",
            "Finished Training\n",
            "Accuracy of the network on the 1000 train images: 100 %\n",
            "Accuracy of the network on the 1000 test dataset 1: 47 %\n",
            "Accuracy of the network on the 1000 test dataset 2: 67 %\n",
            "Accuracy of the network on the 1000 test dataset 3: 87 %\n",
            "Accuracy of the network on the 1000 test dataset 4: 98 %\n",
            "Accuracy of the network on the 1000 test dataset 5: 99 %\n",
            "Accuracy of the network on the 1000 test dataset 6: 100 %\n",
            "Accuracy of the network on the 1000 test dataset 7: 100 %\n",
            "Accuracy of the network on the 1000 test dataset 8: 100 %\n",
            "Accuracy of the network on the 1000 test dataset 9: 100 %\n",
            "--------------------------------------------------------------------------------\n",
            "--------------------------------------------------------------------------------\n",
            "training on data set   9\n",
            "[1,     4] loss: 1.080\n",
            "[2,     4] loss: 0.752\n",
            "[3,     4] loss: 0.412\n",
            "[4,     4] loss: 0.183\n",
            "[5,     4] loss: 0.071\n",
            "[6,     4] loss: 0.029\n",
            "[7,     4] loss: 0.014\n",
            "[8,     4] loss: 0.008\n",
            "[9,     4] loss: 0.005\n",
            "[10,     4] loss: 0.004\n",
            "[11,     4] loss: 0.003\n",
            "[12,     4] loss: 0.002\n",
            "[13,     4] loss: 0.002\n",
            "[14,     4] loss: 0.002\n",
            "[15,     4] loss: 0.002\n",
            "[16,     4] loss: 0.002\n",
            "[17,     4] loss: 0.002\n",
            "[18,     4] loss: 0.002\n",
            "[19,     4] loss: 0.001\n",
            "[20,     4] loss: 0.001\n",
            "[21,     4] loss: 0.001\n",
            "[22,     4] loss: 0.001\n",
            "[23,     4] loss: 0.001\n",
            "[24,     4] loss: 0.001\n",
            "[25,     4] loss: 0.001\n",
            "[26,     4] loss: 0.001\n",
            "[27,     4] loss: 0.001\n",
            "[28,     4] loss: 0.001\n",
            "[29,     4] loss: 0.001\n",
            "[30,     4] loss: 0.001\n",
            "[31,     4] loss: 0.001\n",
            "[32,     4] loss: 0.001\n",
            "[33,     4] loss: 0.001\n",
            "[34,     4] loss: 0.001\n",
            "[35,     4] loss: 0.001\n",
            "[36,     4] loss: 0.001\n",
            "[37,     4] loss: 0.001\n",
            "[38,     4] loss: 0.001\n",
            "[39,     4] loss: 0.001\n",
            "[40,     4] loss: 0.001\n",
            "[41,     4] loss: 0.001\n",
            "[42,     4] loss: 0.001\n",
            "[43,     4] loss: 0.001\n",
            "[44,     4] loss: 0.001\n",
            "[45,     4] loss: 0.001\n",
            "[46,     4] loss: 0.001\n",
            "[47,     4] loss: 0.001\n",
            "[48,     4] loss: 0.001\n",
            "[49,     4] loss: 0.001\n",
            "[50,     4] loss: 0.001\n",
            "[51,     4] loss: 0.001\n",
            "[52,     4] loss: 0.001\n",
            "[53,     4] loss: 0.001\n",
            "[54,     4] loss: 0.001\n",
            "[55,     4] loss: 0.001\n",
            "[56,     4] loss: 0.001\n",
            "[57,     4] loss: 0.001\n",
            "[58,     4] loss: 0.001\n",
            "[59,     4] loss: 0.001\n",
            "[60,     4] loss: 0.001\n",
            "[61,     4] loss: 0.001\n",
            "[62,     4] loss: 0.001\n",
            "[63,     4] loss: 0.001\n",
            "[64,     4] loss: 0.001\n",
            "[65,     4] loss: 0.001\n",
            "[66,     4] loss: 0.001\n",
            "[67,     4] loss: 0.001\n",
            "[68,     4] loss: 0.001\n",
            "[69,     4] loss: 0.001\n",
            "[70,     4] loss: 0.001\n",
            "Finished Training\n",
            "Accuracy of the network on the 1000 train images: 100 %\n",
            "Accuracy of the network on the 1000 test dataset 1: 49 %\n",
            "Accuracy of the network on the 1000 test dataset 2: 68 %\n",
            "Accuracy of the network on the 1000 test dataset 3: 87 %\n",
            "Accuracy of the network on the 1000 test dataset 4: 98 %\n",
            "Accuracy of the network on the 1000 test dataset 5: 100 %\n",
            "Accuracy of the network on the 1000 test dataset 6: 100 %\n",
            "Accuracy of the network on the 1000 test dataset 7: 100 %\n",
            "Accuracy of the network on the 1000 test dataset 8: 100 %\n",
            "Accuracy of the network on the 1000 test dataset 9: 100 %\n",
            "--------------------------------------------------------------------------------\n"
          ],
          "name": "stdout"
        }
      ]
    },
    {
      "cell_type": "code",
      "metadata": {
        "id": "kdh1-GQ17re7",
        "colab_type": "code",
        "colab": {
          "base_uri": "https://localhost:8080/",
          "height": 296
        },
        "outputId": "d88f4286-511e-4f95-f0d9-096db2fae2a9"
      },
      "source": [
        "ds = np.arange(1,10)\n",
        "for i in range(9):\n",
        "  plt.plot(ds,train_loss_all[i][1], label=\"dataset_\"+str(i+1))\n",
        "plt.legend(loc='center left', bbox_to_anchor=(1, 0.5))\n",
        "plt.xlabel(\"dataset\")\n",
        "plt.ylabel(\"train accuracy\")"
      ],
      "execution_count": 320,
      "outputs": [
        {
          "output_type": "execute_result",
          "data": {
            "text/plain": [
              "Text(0, 0.5, 'train accuracy')"
            ]
          },
          "metadata": {
            "tags": []
          },
          "execution_count": 320
        },
        {
          "output_type": "display_data",
          "data": {
            "image/png": "[encoded data removed]",
            "text/plain": [
              "<Figure size 432x288 with 1 Axes>"
            ]
          },
          "metadata": {
            "tags": []
          }
        }
      ]
    },
    {
      "cell_type": "code",
      "metadata": {
        "id": "eQVRrvG5_kgi",
        "colab_type": "code",
        "colab": {
          "base_uri": "https://localhost:8080/",
          "height": 296
        },
        "outputId": "46809fc3-3a53-4359-fe83-c831408920e8"
      },
      "source": [
        "ds = np.arange(1,71)\n",
        "for i in range(9):\n",
        "  plt.plot(ds,train_loss_all[i][0], label=\"dataset_\"+str(i))\n",
        "plt.legend(loc='center left', bbox_to_anchor=(1, 0.5))\n",
        "plt.xlabel(\"epochs\")\n",
        "plt.ylabel(\"log loss\")"
      ],
      "execution_count": 321,
      "outputs": [
        {
          "output_type": "execute_result",
          "data": {
            "text/plain": [
              "Text(0, 0.5, 'log loss')"
            ]
          },
          "metadata": {
            "tags": []
          },
          "execution_count": 321
        },
        {
          "output_type": "display_data",
          "data": {
            "image/png": "[encoded data removed]",
            "text/plain": [
              "<Figure size 432x288 with 1 Axes>"
            ]
          },
          "metadata": {
            "tags": []
          }
        }
      ]
    },
    {
      "cell_type": "code",
      "metadata": {
        "id": "fZBBg7gMA0D7",
        "colab_type": "code",
        "colab": {}
      },
      "source": [
        ""
      ],
      "execution_count": 0,
      "outputs": []
    }
  ]
}