{
  "nbformat": 4,
  "nbformat_minor": 0,
  "metadata": {
    "accelerator": "GPU",
    "colab": {
      "name": "intersecting plane data.ipynb",
      "provenance": []
    },
    "kernelspec": {
      "name": "python3",
      "display_name": "Python 3"
    },
    "language_info": {
      "codemirror_mode": {
        "name": "ipython",
        "version": 3
      },
      "file_extension": ".py",
      "mimetype": "text/x-python",
      "name": "python",
      "nbconvert_exporter": "python",
      "pygments_lexer": "ipython3",
      "version": "3.7.4"
    }
  },
  "cells": [
    {
      "cell_type": "code",
      "metadata": {
        "colab_type": "code",
        "id": "1BoZq7wLFmUz",
        "colab": {}
      },
      "source": [
        "import numpy as np\n",
        "import pandas as pd\n",
        "from matplotlib import pyplot as plt\n",
        "\n",
        "import math as m\n",
        "%matplotlib inline\n",
        "\n",
        "import torch\n",
        "import torchvision\n",
        "\n",
        "import torchvision.transforms as transforms\n",
        "import torch.nn as nn\n",
        "import torch.optim as optim\n",
        "import torch.nn.functional as F\n",
        "import random\n",
        "\n",
        "from torch.utils.data import Dataset, DataLoader\n",
        "from mpl_toolkits.mplot3d import Axes3D"
      ],
      "execution_count": 0,
      "outputs": []
    },
    {
      "cell_type": "code",
      "metadata": {
        "id": "tUJ_Yy2K7rcu",
        "colab_type": "code",
        "colab": {
          "base_uri": "https://localhost:8080/",
          "height": 191
        },
        "outputId": "ccf61a52-bcc5-4f1b-802d-ced472cccf15"
      },
      "source": [
        "y = np.random.randint(0,10,1000)\n",
        "idx= []\n",
        "for i in range(10):\n",
        "    print(i,sum(y==i))\n",
        "    idx.append(y==i) \n",
        "x = np.zeros((1000,2))\n",
        "\n",
        "x0=x[idx[0],:] = np.random.multivariate_normal(mean = [2,2],cov=[[0.01,0],[0,0.01]],size=sum(idx[0]))\n",
        "\n",
        "\n",
        "x[idx[1],:] = np.random.multivariate_normal(mean = [0,-2],cov=[[0.01,0],[0,0.01]],size=sum(idx[1]))\n",
        "\n",
        "\n",
        "x[idx[2],:] = np.random.multivariate_normal(mean = [-2,2],cov=[[0.01,0],[0,0.01]],size=sum(idx[2]))\n",
        "\n",
        "\n",
        "\n",
        "x[idx[3],:] = np.random.multivariate_normal(mean = [0,0],cov=[[0.01,0],[0,0.01]],size=sum(idx[3]))\n",
        "\n",
        "\n",
        "x[idx[4],:] = np.random.multivariate_normal(mean =[-2,-4] ,cov=[[0.01,0],[0,0.01]],size=sum(idx[4]))\n",
        "\n",
        "\n",
        "\n",
        "x[idx[5],:] = np.random.multivariate_normal(mean = [2,-4],cov=[[0.01,0],[0,0.01]],size=sum(idx[5]))\n",
        "\n",
        "\n",
        "x[idx[6],:] = np.random.multivariate_normal(mean = [-4,0],cov=[[0.01,0],[0,0.01]],size=sum(idx[6]))\n",
        "\n",
        "\n",
        "x[idx[7],:] = np.random.multivariate_normal(mean = [-2,4],cov=[[0.01,0],[0,0.01]],size=sum(idx[7]))\n",
        "\n",
        "\n",
        "x[idx[8],:] = np.random.multivariate_normal(mean = [2,4],cov=[[0.01,0],[0,0.01]],size=sum(idx[8]))\n",
        "\n",
        "\n",
        "x[idx[9],:] = np.random.multivariate_normal(mean = [4,0],cov=[[0.01,0],[0,0.01]],size=sum(idx[9]))\n",
        "\n",
        "idx= []\n",
        "for i in range(10):\n",
        "    #print(i,sum(y==i))\n",
        "    idx.append(y==i)"
      ],
      "execution_count": 215,
      "outputs": [
        {
          "output_type": "stream",
          "text": [
            "0 107\n",
            "1 91\n",
            "2 105\n",
            "3 96\n",
            "4 100\n",
            "5 84\n",
            "6 98\n",
            "7 99\n",
            "8 115\n",
            "9 105\n"
          ],
          "name": "stdout"
        }
      ]
    },
    {
      "cell_type": "code",
      "metadata": {
        "id": "JU6oN0Kh7rc2",
        "colab_type": "code",
        "colab": {
          "base_uri": "https://localhost:8080/",
          "height": 282
        },
        "outputId": "5d15b423-d046-4422-e287-603410404026"
      },
      "source": [
        "for i in range(10):\n",
        "    plt.scatter(x[idx[i],0],x[idx[i],1],label=\"class_\"+str(i))\n",
        "plt.legend(loc='center left', bbox_to_anchor=(1, 0.5))"
      ],
      "execution_count": 216,
      "outputs": [
        {
          "output_type": "execute_result",
          "data": {
            "text/plain": [
              "<matplotlib.legend.Legend at 0x7f5e1246ba20>"
            ]
          },
          "metadata": {
            "tags": []
          },
          "execution_count": 216
        },
        {
          "output_type": "display_data",
          "data": {
            "image/png": "[encoded data removed]",
            "text/plain": [
              "<Figure size 432x288 with 1 Axes>"
            ]
          },
          "metadata": {
            "tags": []
          }
        }
      ]
    },
    {
      "cell_type": "code",
      "metadata": {
        "id": "14ashkYi7rc8",
        "colab_type": "code",
        "colab": {
          "base_uri": "https://localhost:8080/",
          "height": 139
        },
        "outputId": "cc4724c9-5f54-44e7-8743-72566d2dd260"
      },
      "source": [
        "z = np.zeros((1000,1))\n",
        "x = np.concatenate((x, z) , axis =1)\n",
        "x"
      ],
      "execution_count": 217,
      "outputs": [
        {
          "output_type": "execute_result",
          "data": {
            "text/plain": [
              "array([[ 2.0425853 ,  2.00883315,  0.        ],\n",
              "       [ 1.82368051,  1.86655512,  0.        ],\n",
              "       [-2.1127114 , -4.11356323,  0.        ],\n",
              "       ...,\n",
              "       [ 1.85402113,  3.98020645,  0.        ],\n",
              "       [ 1.91303505,  4.21678696,  0.        ],\n",
              "       [-2.0071782 ,  2.03102169,  0.        ]])"
            ]
          },
          "metadata": {
            "tags": []
          },
          "execution_count": 217
        }
      ]
    },
    {
      "cell_type": "code",
      "metadata": {
        "id": "DVFOWDxp7rdB",
        "colab_type": "code",
        "colab": {
          "base_uri": "https://localhost:8080/",
          "height": 34
        },
        "outputId": "835d9be5-b0c5-43f1-c332-e500464f4ccb"
      },
      "source": [
        "x.shape"
      ],
      "execution_count": 218,
      "outputs": [
        {
          "output_type": "execute_result",
          "data": {
            "text/plain": [
              "(1000, 3)"
            ]
          },
          "metadata": {
            "tags": []
          },
          "execution_count": 218
        }
      ]
    },
    {
      "cell_type": "code",
      "metadata": {
        "scrolled": true,
        "id": "2Y0sMSmk7rdG",
        "colab_type": "code",
        "colab": {
          "base_uri": "https://localhost:8080/",
          "height": 265
        },
        "outputId": "66f714ab-74c0-474e-9b62-207a4ca6fed3"
      },
      "source": [
        "fig = plt.figure()\n",
        "ax = fig.add_subplot(111, projection='3d')\n",
        "for i in range(10):\n",
        "    ax.scatter(x[idx[i],0],x[idx[i],1],x[idx[i],2],label=\"class_\"+str(i))\n",
        "ax.legend(loc='center left', bbox_to_anchor=(1, 0.5))"
      ],
      "execution_count": 219,
      "outputs": [
        {
          "output_type": "execute_result",
          "data": {
            "text/plain": [
              "<matplotlib.legend.Legend at 0x7f5e121c34e0>"
            ]
          },
          "metadata": {
            "tags": []
          },
          "execution_count": 219
        },
        {
          "output_type": "display_data",
          "data": {
            "image/png": "[encoded data removed]",
            "text/plain": [
              "<Figure size 432x288 with 1 Axes>"
            ]
          },
          "metadata": {
            "tags": []
          }
        }
      ]
    },
    {
      "cell_type": "code",
      "metadata": {
        "id": "lcg9BoOD7rdL",
        "colab_type": "code",
        "colab": {
          "base_uri": "https://localhost:8080/",
          "height": 265
        },
        "outputId": "aa5de7fb-78f3-492e-b7e9-2e0fd04e3b46"
      },
      "source": [
        "normal = np.array([0,0,1])\n",
        "# a plane is a*x+b*y+c*z+d=0\n",
        "# [a,b,c] is the normal. Thus, we have to calculate\n",
        "# d and we're set\n",
        "d = 0\n",
        "\n",
        "# create x,y\n",
        "xx, yy = np.meshgrid(range(5), range(5))\n",
        "\n",
        "# calculate corresponding z\n",
        "z = (-normal[0] * xx - normal[1] * yy - d) * 1. /normal[2]\n",
        "\n",
        "# plot the surface\n",
        "plt3d = plt.figure().gca(projection='3d')\n",
        "plt3d.plot_surface(xx, yy, z, alpha=0.5)\n",
        "\n",
        "# fig = plt.figure()\n",
        "ax = plt.gca()\n",
        "for i in range(10):\n",
        "    ax.scatter(x[idx[i],0],x[idx[i],1],x[idx[i],2],label=\"class_\"+str(i))\n",
        "ax.legend(loc='center left', bbox_to_anchor=(1, 0.5))"
      ],
      "execution_count": 220,
      "outputs": [
        {
          "output_type": "execute_result",
          "data": {
            "text/plain": [
              "<matplotlib.legend.Legend at 0x7f5e12172ef0>"
            ]
          },
          "metadata": {
            "tags": []
          },
          "execution_count": 220
        },
        {
          "output_type": "display_data",
          "data": {
            "image/png": "[encoded data removed]",
            "text/plain": [
              "<Figure size 432x288 with 1 Axes>"
            ]
          },
          "metadata": {
            "tags": []
          }
        }
      ]
    },
    {
      "cell_type": "markdown",
      "metadata": {
        "id": "l-7ncm8a7rdQ",
        "colab_type": "text"
      },
      "source": [
        "## angle = pi/2, p1: z = 0, p2: 2x + 3y = 0\n",
        "## angle = pi/6, p1: z = 0, p2: 2x + 3y + sqrt(39)z = 0\n",
        "## angle = pi/3, p1: z = 0, p2: 2x + 3y + sqrt(13/3)z = 0"
      ]
    },
    {
      "cell_type": "code",
      "metadata": {
        "id": "_vup63g47rdR",
        "colab_type": "code",
        "colab": {
          "base_uri": "https://localhost:8080/",
          "height": 34
        },
        "outputId": "0c009b73-c813-4111-95a1-ac0ddc947330"
      },
      "source": [
        "angle = np.pi/6\n",
        "\n",
        "a = 2\n",
        "b = 3\n",
        "if(angle == np.pi/2):\n",
        "    c=0\n",
        "else:\n",
        "    c = np.sqrt(a*a + b*b )/m.tan(angle)\n",
        "print(c)"
      ],
      "execution_count": 221,
      "outputs": [
        {
          "output_type": "stream",
          "text": [
            "6.244997998398398\n"
          ],
          "name": "stdout"
        }
      ]
    },
    {
      "cell_type": "code",
      "metadata": {
        "scrolled": true,
        "id": "pLqmqeA47rdY",
        "colab_type": "code",
        "colab": {
          "base_uri": "https://localhost:8080/",
          "height": 1000
        },
        "outputId": "5aa7de52-f8e4-43d1-de05-894945d528b7"
      },
      "source": [
        "x[idx[0],:]"
      ],
      "execution_count": 222,
      "outputs": [
        {
          "output_type": "execute_result",
          "data": {
            "text/plain": [
              "array([[2.0425853 , 2.00883315, 0.        ],\n",
              "       [1.82368051, 1.86655512, 0.        ],\n",
              "       [2.18662987, 2.11332509, 0.        ],\n",
              "       [2.16042425, 1.96133952, 0.        ],\n",
              "       [1.87720552, 2.03741837, 0.        ],\n",
              "       [1.8396853 , 1.81598387, 0.        ],\n",
              "       [1.90932205, 1.9186314 , 0.        ],\n",
              "       [2.00683939, 1.85986814, 0.        ],\n",
              "       [1.96317072, 1.99909125, 0.        ],\n",
              "       [1.98800914, 1.93026009, 0.        ],\n",
              "       [2.07074512, 2.02746357, 0.        ],\n",
              "       [1.90028477, 1.94160118, 0.        ],\n",
              "       [2.01007902, 2.09130192, 0.        ],\n",
              "       [2.12544111, 1.8663154 , 0.        ],\n",
              "       [1.91848819, 1.99698193, 0.        ],\n",
              "       [2.210271  , 2.02321898, 0.        ],\n",
              "       [1.94477333, 2.00847503, 0.        ],\n",
              "       [2.18590003, 2.02361308, 0.        ],\n",
              "       [1.99520672, 2.0041077 , 0.        ],\n",
              "       [1.97186009, 1.96256849, 0.        ],\n",
              "       [1.90174635, 2.11396626, 0.        ],\n",
              "       [2.12539853, 1.88565115, 0.        ],\n",
              "       [1.99266458, 1.92384642, 0.        ],\n",
              "       [2.07156277, 2.26433579, 0.        ],\n",
              "       [2.04470652, 2.14212197, 0.        ],\n",
              "       [2.04911987, 2.07804786, 0.        ],\n",
              "       [1.97301827, 1.94347009, 0.        ],\n",
              "       [2.09869408, 1.92139829, 0.        ],\n",
              "       [1.96010845, 1.85240896, 0.        ],\n",
              "       [2.08559966, 1.94818266, 0.        ],\n",
              "       [1.97511659, 2.047912  , 0.        ],\n",
              "       [2.12140456, 1.87221196, 0.        ],\n",
              "       [2.00760095, 1.98832481, 0.        ],\n",
              "       [2.16572896, 1.91737767, 0.        ],\n",
              "       [1.80031241, 2.00899438, 0.        ],\n",
              "       [2.02014825, 1.96498329, 0.        ],\n",
              "       [2.09404206, 2.19627294, 0.        ],\n",
              "       [1.93127232, 1.90920305, 0.        ],\n",
              "       [1.90569079, 1.92554834, 0.        ],\n",
              "       [1.89731339, 1.99560362, 0.        ],\n",
              "       [1.98816305, 2.01493197, 0.        ],\n",
              "       [1.93125394, 1.8282369 , 0.        ],\n",
              "       [1.94371562, 2.17560709, 0.        ],\n",
              "       [1.94277671, 2.07611127, 0.        ],\n",
              "       [2.13870189, 1.74491181, 0.        ],\n",
              "       [1.94692579, 1.96587023, 0.        ],\n",
              "       [2.00655061, 2.08182193, 0.        ],\n",
              "       [1.97314564, 1.90680084, 0.        ],\n",
              "       [1.95378872, 2.00673063, 0.        ],\n",
              "       [1.87335342, 1.86927141, 0.        ],\n",
              "       [1.96439552, 1.94961628, 0.        ],\n",
              "       [1.91916819, 2.07356806, 0.        ],\n",
              "       [2.09827716, 2.00295569, 0.        ],\n",
              "       [2.08605623, 1.89979196, 0.        ],\n",
              "       [1.94348098, 2.02763219, 0.        ],\n",
              "       [2.05286138, 1.92953116, 0.        ],\n",
              "       [2.05016737, 2.1579707 , 0.        ],\n",
              "       [2.02957669, 2.16149104, 0.        ],\n",
              "       [1.99353105, 2.03272192, 0.        ],\n",
              "       [1.92927595, 1.88826686, 0.        ],\n",
              "       [1.96068114, 2.06134692, 0.        ],\n",
              "       [1.98988191, 1.97279159, 0.        ],\n",
              "       [2.08190849, 2.02148891, 0.        ],\n",
              "       [1.86690904, 2.00028336, 0.        ],\n",
              "       [1.97240749, 1.93845976, 0.        ],\n",
              "       [2.00853191, 2.04807482, 0.        ],\n",
              "       [1.94305735, 2.0038793 , 0.        ],\n",
              "       [2.10832755, 2.02225288, 0.        ],\n",
              "       [2.15890475, 1.95427428, 0.        ],\n",
              "       [2.03050328, 1.8780295 , 0.        ],\n",
              "       [2.03489689, 2.09192602, 0.        ],\n",
              "       [1.89079987, 1.91103961, 0.        ],\n",
              "       [1.94492487, 1.98693741, 0.        ],\n",
              "       [2.00551058, 2.08011139, 0.        ],\n",
              "       [2.15263087, 1.8381829 , 0.        ],\n",
              "       [2.05072995, 2.02365449, 0.        ],\n",
              "       [1.98614684, 1.90029287, 0.        ],\n",
              "       [2.20304044, 2.06520047, 0.        ],\n",
              "       [1.90101449, 2.11675845, 0.        ],\n",
              "       [2.00152996, 2.09569027, 0.        ],\n",
              "       [1.87537995, 2.1643029 , 0.        ],\n",
              "       [1.89431589, 1.99262187, 0.        ],\n",
              "       [2.08648401, 1.91110963, 0.        ],\n",
              "       [1.99300638, 1.99152305, 0.        ],\n",
              "       [1.95723488, 2.08809837, 0.        ],\n",
              "       [1.96928241, 2.05750055, 0.        ],\n",
              "       [2.05014347, 1.94970579, 0.        ],\n",
              "       [2.08422866, 2.03440359, 0.        ],\n",
              "       [1.91927462, 1.96918352, 0.        ],\n",
              "       [2.00004178, 1.94856337, 0.        ],\n",
              "       [2.03285753, 1.93994052, 0.        ],\n",
              "       [1.95718231, 1.91770326, 0.        ],\n",
              "       [2.0480372 , 1.97005778, 0.        ],\n",
              "       [2.1523026 , 1.76475854, 0.        ],\n",
              "       [2.06060768, 2.18815393, 0.        ],\n",
              "       [2.03912236, 2.11858894, 0.        ],\n",
              "       [1.88840542, 1.95373513, 0.        ],\n",
              "       [1.909211  , 1.93495583, 0.        ],\n",
              "       [2.08057681, 1.80891486, 0.        ],\n",
              "       [2.04610487, 1.98472705, 0.        ],\n",
              "       [1.79649883, 1.93780695, 0.        ],\n",
              "       [2.12008943, 2.0358722 , 0.        ],\n",
              "       [1.8277162 , 1.77257794, 0.        ],\n",
              "       [2.036007  , 2.13728671, 0.        ],\n",
              "       [2.04169446, 2.06007693, 0.        ],\n",
              "       [1.96637726, 1.98078857, 0.        ],\n",
              "       [1.88233923, 2.01098813, 0.        ]])"
            ]
          },
          "metadata": {
            "tags": []
          },
          "execution_count": 222
        }
      ]
    },
    {
      "cell_type": "code",
      "metadata": {
        "id": "2WeuxtXx7rdd",
        "colab_type": "code",
        "colab": {
          "base_uri": "https://localhost:8080/",
          "height": 139
        },
        "outputId": "19cbb603-6308-484d-9d42-7f05775e252d"
      },
      "source": [
        "x[idx[0],2]"
      ],
      "execution_count": 223,
      "outputs": [
        {
          "output_type": "execute_result",
          "data": {
            "text/plain": [
              "array([0., 0., 0., 0., 0., 0., 0., 0., 0., 0., 0., 0., 0., 0., 0., 0., 0.,\n",
              "       0., 0., 0., 0., 0., 0., 0., 0., 0., 0., 0., 0., 0., 0., 0., 0., 0.,\n",
              "       0., 0., 0., 0., 0., 0., 0., 0., 0., 0., 0., 0., 0., 0., 0., 0., 0.,\n",
              "       0., 0., 0., 0., 0., 0., 0., 0., 0., 0., 0., 0., 0., 0., 0., 0., 0.,\n",
              "       0., 0., 0., 0., 0., 0., 0., 0., 0., 0., 0., 0., 0., 0., 0., 0., 0.,\n",
              "       0., 0., 0., 0., 0., 0., 0., 0., 0., 0., 0., 0., 0., 0., 0., 0., 0.,\n",
              "       0., 0., 0., 0., 0.])"
            ]
          },
          "metadata": {
            "tags": []
          },
          "execution_count": 223
        }
      ]
    },
    {
      "cell_type": "code",
      "metadata": {
        "scrolled": true,
        "id": "rlCv6Q4S7rdh",
        "colab_type": "code",
        "colab": {}
      },
      "source": [
        "if(angle == np.pi/2):\n",
        "    for i in range(3):\n",
        "        x[idx[i],2] = (i+2)*(x[idx[i],0] + x[idx[i],1])/(x[idx[i],0] + x[idx[i],1])\n",
        "else:\n",
        "    for i in range(3):\n",
        "        x[idx[i],2] = (2*x[idx[i],0] + 3*x[idx[i],1])/c\n"
      ],
      "execution_count": 0,
      "outputs": []
    },
    {
      "cell_type": "code",
      "metadata": {
        "scrolled": true,
        "id": "bRw7_9wU7rdl",
        "colab_type": "code",
        "colab": {
          "base_uri": "https://localhost:8080/",
          "height": 1000
        },
        "outputId": "41e4cdc7-5537-4131-f0eb-4282766eb2b4"
      },
      "source": [
        "x[idx[0],:]"
      ],
      "execution_count": 225,
      "outputs": [
        {
          "output_type": "execute_result",
          "data": {
            "text/plain": [
              "array([[2.0425853 , 2.00883315, 1.61916306],\n",
              "       [1.82368051, 1.86655512, 1.48070926],\n",
              "       [2.18662987, 2.11332509, 1.71549054],\n",
              "       [2.16042425, 1.96133952, 1.63408652],\n",
              "       [1.87720552, 2.03741837, 1.57993104],\n",
              "       [1.8396853 , 1.81598387, 1.46154126],\n",
              "       [1.90932205, 1.9186314 , 1.53315314],\n",
              "       [2.00683939, 1.85986814, 1.53615473],\n",
              "       [1.96317072, 1.99909125, 1.58905018],\n",
              "       [1.98800914, 1.93026009, 1.56393942],\n",
              "       [2.07074512, 2.02746357, 1.63713118],\n",
              "       [1.90028477, 1.94160118, 1.54129322],\n",
              "       [2.01007902, 2.09130192, 1.64836943],\n",
              "       [2.12544111, 1.8663154 , 1.57723484],\n",
              "       [1.91848819, 1.99698193, 1.57372703],\n",
              "       [2.210271  , 2.02321898, 1.67977619],\n",
              "       [1.94477333, 2.00847503, 1.58766612],\n",
              "       [2.18590003, 2.02361308, 1.67216055],\n",
              "       [1.99520672, 2.0041077 , 1.60171973],\n",
              "       [1.97186009, 1.96256849, 1.57428804],\n",
              "       [1.90174635, 2.11396626, 1.62456281],\n",
              "       [2.12539853, 1.88565115, 1.5865098 ],\n",
              "       [1.99266458, 1.92384642, 1.56234933],\n",
              "       [2.07156277, 2.26433579, 1.75118277],\n",
              "       [2.04470652, 2.14212197, 1.68387227],\n",
              "       [2.04911987, 2.07804786, 1.65450546],\n",
              "       [1.97301827, 1.94347009, 1.56548438],\n",
              "       [2.09869408, 1.92139829, 1.5951299 ],\n",
              "       [1.96010845, 1.85240896, 1.51760557],\n",
              "       [2.08559966, 1.94818266, 1.60380313],\n",
              "       [1.97511659, 2.047912  , 1.61632865],\n",
              "       [2.12140456, 1.87221196, 1.57877473],\n",
              "       [2.00760095, 1.98832481, 1.59810721],\n",
              "       [2.16572896, 1.91737767, 1.6146668 ],\n",
              "       [1.80031241, 2.00899438, 1.54165109],\n",
              "       [2.02014825, 1.96498329, 1.59091266],\n",
              "       [2.09404206, 2.19627294, 1.72568557],\n",
              "       [1.93127232, 1.90920305, 1.53565362],\n",
              "       [1.90569079, 1.92554834, 1.535313  ],\n",
              "       [1.89731339, 1.99560362, 1.56628355],\n",
              "       [1.98816305, 2.01493197, 1.60466377],\n",
              "       [1.93125394, 1.8282369 , 1.49675286],\n",
              "       [1.94371562, 2.17560709, 1.66761503],\n",
              "       [1.94277671, 2.07611127, 1.61951809],\n",
              "       [2.13870189, 1.74491181, 1.52316129],\n",
              "       [1.94692579, 1.96587023, 1.56788878],\n",
              "       [2.00655061, 2.08182193, 1.6426854 ],\n",
              "       [1.97314564, 1.90680084, 1.54790983],\n",
              "       [1.95378872, 2.00673063, 1.58971538],\n",
              "       [1.87335342, 1.86927141, 1.49792219],\n",
              "       [1.96439552, 1.94961628, 1.56567542],\n",
              "       [1.91916819, 2.07356806, 1.61073559],\n",
              "       [2.09827716, 2.00295569, 1.63417529],\n",
              "       [2.08605623, 1.89979196, 1.58070321],\n",
              "       [1.94348098, 2.02763219, 1.59645504],\n",
              "       [2.05286138, 1.92953116, 1.58435859],\n",
              "       [2.05016737, 2.1579707 , 1.69323462],\n",
              "       [2.02957669, 2.16149104, 1.68833144],\n",
              "       [1.99353105, 2.03272192, 1.61492892],\n",
              "       [1.92927595, 1.88826686, 1.52495685],\n",
              "       [1.96068114, 2.06134692, 1.61815953],\n",
              "       [1.98988191, 1.97279159, 1.58497066],\n",
              "       [2.08190849, 2.02148891, 1.63783619],\n",
              "       [1.86690904, 2.00028336, 1.55879444],\n",
              "       [1.97240749, 1.93845976, 1.56288189],\n",
              "       [2.00853191, 2.04807482, 1.62710833],\n",
              "       [1.94305735, 2.0038793 , 1.58490885],\n",
              "       [2.10832755, 2.02225288, 1.64666406],\n",
              "       [2.15890475, 1.95427428, 1.63020586],\n",
              "       [2.03050328, 1.8780295 , 1.55245767],\n",
              "       [2.03489689, 2.09192602, 1.65661732],\n",
              "       [1.89079987, 1.91103961, 1.52357432],\n",
              "       [1.94492487, 1.98693741, 1.57736831],\n",
              "       [2.00551058, 2.08011139, 1.6415306 ],\n",
              "       [2.15263087, 1.8381829 , 1.57242812],\n",
              "       [2.05072995, 2.02365449, 1.62889137],\n",
              "       [1.98614684, 1.90029287, 1.54894722],\n",
              "       [2.20304044, 2.06520047, 1.69762781],\n",
              "       [1.90101449, 2.11675845, 1.62566975],\n",
              "       [2.00152996, 2.09569027, 1.64773964],\n",
              "       [1.87537995, 2.1643029 , 1.64029974],\n",
              "       [1.89431589, 1.99262187, 1.5638912 ],\n",
              "       [2.08648401, 1.91110963, 1.58627703],\n",
              "       [1.99300638, 1.99152305, 1.59496959],\n",
              "       [1.95723488, 2.08809837, 1.62990683],\n",
              "       [1.96928241, 2.05750055, 1.61906641],\n",
              "       [2.05014347, 1.94970579, 1.59317974],\n",
              "       [2.08422866, 2.03440359, 1.64478325],\n",
              "       [1.91927462, 1.96918352, 1.56062497],\n",
              "       [2.00004178, 1.94856337, 1.57658556],\n",
              "       [2.03285753, 1.93994052, 1.58295273],\n",
              "       [1.95718231, 1.91770326, 1.54803483],\n",
              "       [2.0480372 , 1.97005778, 1.60228197],\n",
              "       [2.1523026 , 1.76475854, 1.53705106],\n",
              "       [2.06060768, 2.18815393, 1.71107776],\n",
              "       [2.03912236, 2.11858894, 1.670779  ],\n",
              "       [1.88840542, 1.95373513, 1.54331774],\n",
              "       [1.909211  , 1.93495583, 1.54095958],\n",
              "       [2.08057681, 1.80891486, 1.53529244],\n",
              "       [2.04610487, 1.98472705, 1.60871003],\n",
              "       [1.79649883, 1.93780695, 1.50623243],\n",
              "       [2.12008943, 2.0358722 , 1.65697338],\n",
              "       [1.8277162 , 1.77257794, 1.43685654],\n",
              "       [2.036007  , 2.13728671, 1.67876341],\n",
              "       [2.04169446, 2.06007693, 1.64349447],\n",
              "       [1.96637726, 1.98078857, 1.58128477],\n",
              "       [1.88233923, 2.01098813, 1.56887846]])"
            ]
          },
          "metadata": {
            "tags": []
          },
          "execution_count": 225
        }
      ]
    },
    {
      "cell_type": "code",
      "metadata": {
        "scrolled": true,
        "id": "oVrnw8Yj7rdp",
        "colab_type": "code",
        "colab": {
          "base_uri": "https://localhost:8080/",
          "height": 265
        },
        "outputId": "165ffb25-f36d-461c-98db-91b99215dcfc"
      },
      "source": [
        "fig = plt.figure()\n",
        "ax = fig.add_subplot(111, projection='3d')\n",
        "for i in range(10):\n",
        "    ax.scatter(x[idx[i],0],x[idx[i],1],x[idx[i],2],label=\"class_\"+str(i))\n",
        "ax.legend(loc='center left', bbox_to_anchor=(1, 0.5))"
      ],
      "execution_count": 226,
      "outputs": [
        {
          "output_type": "execute_result",
          "data": {
            "text/plain": [
              "<matplotlib.legend.Legend at 0x7f5e120ac6a0>"
            ]
          },
          "metadata": {
            "tags": []
          },
          "execution_count": 226
        },
        {
          "output_type": "display_data",
          "data": {
            "image/png": "[encoded data removed]",
            "text/plain": [
              "<Figure size 432x288 with 1 Axes>"
            ]
          },
          "metadata": {
            "tags": []
          }
        }
      ]
    },
    {
      "cell_type": "code",
      "metadata": {
        "id": "8J5HPflY7rdt",
        "colab_type": "code",
        "colab": {
          "base_uri": "https://localhost:8080/",
          "height": 265
        },
        "outputId": "7bc868e4-e16f-4771-ab3a-12670525b957"
      },
      "source": [
        "normal = np.array([a,b,c])\n",
        "# a plane is a*x+b*y+c*z+d=0\n",
        "# [a,b,c] is the normal. Thus, we have to calculate\n",
        "# d and we're set\n",
        "d = 0\n",
        "\n",
        "# create x,y\n",
        "xx, yy = np.meshgrid(range(5), range(5))\n",
        "\n",
        "# calculate corresponding z\n",
        "z = -(-normal[0] * xx - normal[1] * yy - d) * 1. /normal[2]\n",
        "\n",
        "# plot the surface\n",
        "plt3d = plt.figure().gca(projection='3d')\n",
        "plt3d.plot_surface(xx, yy, z, alpha=0.5)\n",
        "\n",
        "# fig = plt.figure()\n",
        "ax = plt.gca()\n",
        "for i in range(10):\n",
        "    ax.scatter(x[idx[i],0],x[idx[i],1],x[idx[i],2],label=\"class_\"+str(i))\n",
        "ax.legend(loc='center left', bbox_to_anchor=(1, 0.5))"
      ],
      "execution_count": 227,
      "outputs": [
        {
          "output_type": "execute_result",
          "data": {
            "text/plain": [
              "<matplotlib.legend.Legend at 0x7f5e1a2456d8>"
            ]
          },
          "metadata": {
            "tags": []
          },
          "execution_count": 227
        },
        {
          "output_type": "display_data",
          "data": {
            "image/png": "[encoded data removed]",
            "text/plain": [
              "<Figure size 432x288 with 1 Axes>"
            ]
          },
          "metadata": {
            "tags": []
          }
        }
      ]
    },
    {
      "cell_type": "code",
      "metadata": {
        "id": "TJYoUUi27reF",
        "colab_type": "code",
        "colab": {
          "base_uri": "https://localhost:8080/",
          "height": 34
        },
        "outputId": "f8a91e88-6a5e-4d75-bacd-0da8db1bb011"
      },
      "source": [
        "x.shape,y.shape"
      ],
      "execution_count": 228,
      "outputs": [
        {
          "output_type": "execute_result",
          "data": {
            "text/plain": [
              "((1000, 3), (1000,))"
            ]
          },
          "metadata": {
            "tags": []
          },
          "execution_count": 228
        }
      ]
    },
    {
      "cell_type": "code",
      "metadata": {
        "id": "57yfZoDX7reI",
        "colab_type": "code",
        "colab": {}
      },
      "source": [
        "classes  = ('0', '1', '2','3', '4', '5', '6', '7','8', '9')\n",
        "foreground_classes = {'0', '1', '2'}\n",
        "\n",
        "background_classes = {'3', '4', '5', '6', '7','8', '9'}\n"
      ],
      "execution_count": 0,
      "outputs": []
    },
    {
      "cell_type": "code",
      "metadata": {
        "id": "XQ0Lz_GW7reL",
        "colab_type": "code",
        "colab": {}
      },
      "source": [
        "class sub_clust_data(Dataset):\n",
        "    def __init__(self,x, y):\n",
        "        self.x = torch.Tensor(x)\n",
        "        self.y = torch.Tensor(y).type(torch.LongTensor)\n",
        "    #self.fore_idx = fore_idx\n",
        "    \n",
        "    def __len__(self):\n",
        "        return len(self.y)\n",
        "\n",
        "    def __getitem__(self, idx):\n",
        "        return self.x[idx] , self.y[idx] #, self.fore_idx[idx]"
      ],
      "execution_count": 0,
      "outputs": []
    },
    {
      "cell_type": "code",
      "metadata": {
        "id": "1pH6faRT7reO",
        "colab_type": "code",
        "colab": {}
      },
      "source": [
        "trainset = sub_clust_data(x,y)"
      ],
      "execution_count": 0,
      "outputs": []
    },
    {
      "cell_type": "code",
      "metadata": {
        "id": "nQQBN6d47reR",
        "colab_type": "code",
        "colab": {}
      },
      "source": [
        "trainloader = torch.utils.data.DataLoader(trainset, batch_size=10, shuffle=True)"
      ],
      "execution_count": 0,
      "outputs": []
    },
    {
      "cell_type": "code",
      "metadata": {
        "id": "UUU-ibU47reU",
        "colab_type": "code",
        "colab": {}
      },
      "source": [
        "dataiter = iter(trainloader)\n",
        "background_data=[]\n",
        "background_label=[]\n",
        "foreground_data=[]\n",
        "foreground_label=[]\n",
        "batch_size=10\n",
        "\n",
        "for i in range(100):   #5000*batch_size = 50000 data points\n",
        "    images, labels = dataiter.next()\n",
        "    for j in range(batch_size):\n",
        "        if(classes[labels[j]] in background_classes):\n",
        "            img = images[j].tolist()\n",
        "            background_data.append(img)\n",
        "            background_label.append(labels[j])\n",
        "        else:\n",
        "            img = images[j].tolist()\n",
        "            foreground_data.append(img)\n",
        "            foreground_label.append(labels[j])"
      ],
      "execution_count": 0,
      "outputs": []
    },
    {
      "cell_type": "code",
      "metadata": {
        "id": "mh7y2Afy7reW",
        "colab_type": "code",
        "colab": {
          "base_uri": "https://localhost:8080/",
          "height": 34
        },
        "outputId": "1bf7adc4-4475-41ad-eb62-94773e42190d"
      },
      "source": [
        "np.shape(foreground_data),np.shape(foreground_label)"
      ],
      "execution_count": 234,
      "outputs": [
        {
          "output_type": "execute_result",
          "data": {
            "text/plain": [
              "((303, 3), (303,))"
            ]
          },
          "metadata": {
            "tags": []
          },
          "execution_count": 234
        }
      ]
    },
    {
      "cell_type": "code",
      "metadata": {
        "id": "bIk5bgiq7reZ",
        "colab_type": "code",
        "colab": {
          "base_uri": "https://localhost:8080/",
          "height": 34
        },
        "outputId": "f9fabf68-a31f-4696-e7f7-3dd3121f3f36"
      },
      "source": [
        "np.shape(background_data),np.shape(background_label)"
      ],
      "execution_count": 235,
      "outputs": [
        {
          "output_type": "execute_result",
          "data": {
            "text/plain": [
              "((697, 3), (697,))"
            ]
          },
          "metadata": {
            "tags": []
          },
          "execution_count": 235
        }
      ]
    },
    {
      "cell_type": "code",
      "metadata": {
        "id": "kF9mgUkz7red",
        "colab_type": "code",
        "colab": {}
      },
      "source": [
        "foreground_data = torch.tensor(foreground_data)\n",
        "foreground_label = torch.tensor(foreground_label).type(torch.LongTensor)\n",
        "background_data = torch.tensor(background_data)\n",
        "background_label = torch.tensor(background_label).type(torch.LongTensor)"
      ],
      "execution_count": 0,
      "outputs": []
    },
    {
      "cell_type": "code",
      "metadata": {
        "id": "QmYT2mXj7reg",
        "colab_type": "code",
        "colab": {}
      },
      "source": [
        "def create_mosaic_img(bg_idx,fg_idx,fg): \n",
        "    image_list=[]\n",
        "    j=0\n",
        "    for i in range(9):\n",
        "        if i != fg:\n",
        "            image_list.append(background_data[bg_idx[j]].type(\"torch.DoubleTensor\"))\n",
        "            j+=1\n",
        "        else: \n",
        "            image_list.append(foreground_data[fg_idx].type(\"torch.DoubleTensor\"))\n",
        "            label = foreground_label[fg_idx]  #-7  # minus 7 because our fore ground classes are 7,8,9 but we have to store it as 0,1,2\n",
        "    #image_list = np.concatenate(image_list ,axis=0)\n",
        "    image_list = torch.stack(image_list) \n",
        "    return image_list,label"
      ],
      "execution_count": 0,
      "outputs": []
    },
    {
      "cell_type": "code",
      "metadata": {
        "id": "mGueYoxU-3wL",
        "colab_type": "code",
        "colab": {
          "base_uri": "https://localhost:8080/",
          "height": 34
        },
        "outputId": "0e6006bd-1f1e-4f15-8d21-115fd7c2aec0"
      },
      "source": [
        "fg_nos = np.shape(foreground_label)[0]\n",
        "bg_nos = np.shape(background_label)[0]\n",
        "bg_nos, fg_nos"
      ],
      "execution_count": 238,
      "outputs": [
        {
          "output_type": "execute_result",
          "data": {
            "text/plain": [
              "(697, 303)"
            ]
          },
          "metadata": {
            "tags": []
          },
          "execution_count": 238
        }
      ]
    },
    {
      "cell_type": "code",
      "metadata": {
        "id": "sHCgXuqs7rek",
        "colab_type": "code",
        "colab": {}
      },
      "source": [
        "desired_num = 1000\n",
        "mosaic_list_of_images =[]      # list of mosaic images, each mosaic image is saved as list of 9 images\n",
        "fore_idx =[]                   # list of indexes at which foreground image is present in a mosaic image i.e from 0 to 9               \n",
        "mosaic_label=[]                # label of mosaic image = foreground class present in that mosaic\n",
        "for i in range(desired_num):\n",
        "    bg_idx = np.random.randint(0,bg_nos,8)\n",
        "    fg_idx = np.random.randint(0,fg_nos)\n",
        "    fg = np.random.randint(0,9)\n",
        "    fore_idx.append(fg)\n",
        "    image_list,label = create_mosaic_img(bg_idx,fg_idx,fg)\n",
        "    mosaic_list_of_images.append(image_list)\n",
        "    mosaic_label.append(label)"
      ],
      "execution_count": 0,
      "outputs": []
    },
    {
      "cell_type": "code",
      "metadata": {
        "id": "4vSUeW8M7rem",
        "colab_type": "code",
        "colab": {}
      },
      "source": [
        "def create_avg_image_from_mosaic_dataset(mosaic_dataset,labels,foreground_index,dataset_number):\n",
        "    avg_image_dataset = []\n",
        "    for i in range(len(mosaic_dataset)):\n",
        "        img = torch.zeros([3], dtype=torch.float64)\n",
        "        for j in range(9):\n",
        "            if j == foreground_index[i]:\n",
        "                img = img + mosaic_dataset[i][j]*dataset_number/9\n",
        "            else :\n",
        "                img = img + mosaic_dataset[i][j]*(9-dataset_number)/(8*9)\n",
        "    \n",
        "        avg_image_dataset.append(img)\n",
        "    \n",
        "    return avg_image_dataset , labels , foreground_index"
      ],
      "execution_count": 0,
      "outputs": []
    },
    {
      "cell_type": "code",
      "metadata": {
        "id": "YXlqfhEr7rep",
        "colab_type": "code",
        "colab": {}
      },
      "source": [
        "avg_image_dataset_1 , labels_1,  fg_index_1 = create_avg_image_from_mosaic_dataset(mosaic_list_of_images[0:1000], mosaic_label[0:1000], fore_idx[0:1000] , 1)\n",
        "avg_image_dataset_2 , labels_2,  fg_index_2 = create_avg_image_from_mosaic_dataset(mosaic_list_of_images[0:1000], mosaic_label[0:1000], fore_idx[0:1000] , 2)\n",
        "avg_image_dataset_3 , labels_3,  fg_index_3 = create_avg_image_from_mosaic_dataset(mosaic_list_of_images[0:1000], mosaic_label[0:1000], fore_idx[0:1000] , 3)\n",
        "avg_image_dataset_4 , labels_4,  fg_index_4 = create_avg_image_from_mosaic_dataset(mosaic_list_of_images[0:1000], mosaic_label[0:1000], fore_idx[0:1000] , 4)\n",
        "avg_image_dataset_5 , labels_5,  fg_index_5 = create_avg_image_from_mosaic_dataset(mosaic_list_of_images[0:1000], mosaic_label[0:1000], fore_idx[0:1000] , 5)\n",
        "avg_image_dataset_6 , labels_6,  fg_index_6 = create_avg_image_from_mosaic_dataset(mosaic_list_of_images[0:1000], mosaic_label[0:1000], fore_idx[0:1000] , 6)\n",
        "avg_image_dataset_7 , labels_7,  fg_index_7 = create_avg_image_from_mosaic_dataset(mosaic_list_of_images[0:1000], mosaic_label[0:1000], fore_idx[0:1000] , 7)\n",
        "avg_image_dataset_8 , labels_8,  fg_index_8 = create_avg_image_from_mosaic_dataset(mosaic_list_of_images[0:1000], mosaic_label[0:1000], fore_idx[0:1000] , 8)\n",
        "avg_image_dataset_9 , labels_9,  fg_index_9 = create_avg_image_from_mosaic_dataset(mosaic_list_of_images[0:1000], mosaic_label[0:1000], fore_idx[0:1000] , 9)\n",
        "\n",
        "#test_dataset_10 , labels_10 , fg_index_10 = create_avg_image_from_mosaic_dataset(mosaic_list_of_images[10000:20000], mosaic_label[10000:20000], fore_idx[10000:20000] , 9)"
      ],
      "execution_count": 0,
      "outputs": []
    },
    {
      "cell_type": "code",
      "metadata": {
        "id": "ZHeLv0Fg7res",
        "colab_type": "code",
        "colab": {}
      },
      "source": [
        "class MosaicDataset(Dataset):\n",
        "    \"\"\"MosaicDataset dataset.\"\"\"\n",
        "\n",
        "    def __init__(self, mosaic_list_of_images, mosaic_label):\n",
        "        \"\"\"\n",
        "          Args:\n",
        "            csv_file (string): Path to the csv file with annotations.\n",
        "            root_dir (string): Directory with all the images.\n",
        "            transform (callable, optional): Optional transform to be applied\n",
        "                on a sample.\n",
        "        \"\"\"\n",
        "        self.mosaic = mosaic_list_of_images\n",
        "        self.label = mosaic_label\n",
        "        #self.fore_idx = fore_idx\n",
        "    \n",
        "    def __len__(self):\n",
        "        return len(self.label)\n",
        "\n",
        "    def __getitem__(self, idx):\n",
        "        return self.mosaic[idx] , self.label[idx] #, self.fore_idx[idx]"
      ],
      "execution_count": 0,
      "outputs": []
    },
    {
      "cell_type": "code",
      "metadata": {
        "id": "Wa7qkACK7reu",
        "colab_type": "code",
        "colab": {}
      },
      "source": [
        "batch = 256\n",
        "\n",
        "\n",
        "# training_data = avg_image_dataset_5    #just change this and training_label to desired dataset for training\n",
        "# training_label = labels_5\n",
        "\n",
        "traindata_1 = MosaicDataset(avg_image_dataset_1, labels_1 )\n",
        "trainloader_1 = DataLoader( traindata_1 , batch_size= batch ,shuffle=True)\n",
        "\n",
        "traindata_2 = MosaicDataset(avg_image_dataset_2, labels_2 )\n",
        "trainloader_2 = DataLoader( traindata_2 , batch_size= batch ,shuffle=True)\n",
        "\n",
        "traindata_3 = MosaicDataset(avg_image_dataset_3, labels_3 )\n",
        "trainloader_3 = DataLoader( traindata_3 , batch_size= batch ,shuffle=True)\n",
        "\n",
        "traindata_4 = MosaicDataset(avg_image_dataset_4, labels_4 )\n",
        "trainloader_4 = DataLoader( traindata_4 , batch_size= batch ,shuffle=True)\n",
        "\n",
        "traindata_5 = MosaicDataset(avg_image_dataset_5, labels_5 )\n",
        "trainloader_5 = DataLoader( traindata_5 , batch_size= batch ,shuffle=True)\n",
        "\n",
        "traindata_6 = MosaicDataset(avg_image_dataset_6, labels_6 )\n",
        "trainloader_6 = DataLoader( traindata_6 , batch_size= batch ,shuffle=True)\n",
        "\n",
        "traindata_7 = MosaicDataset(avg_image_dataset_7, labels_7 )\n",
        "trainloader_7 = DataLoader( traindata_7 , batch_size= batch ,shuffle=True)\n",
        "\n",
        "traindata_8 = MosaicDataset(avg_image_dataset_8, labels_8 )\n",
        "trainloader_8 = DataLoader( traindata_8 , batch_size= batch ,shuffle=True)\n",
        "\n",
        "traindata_9 = MosaicDataset(avg_image_dataset_9, labels_9 )\n",
        "trainloader_9 = DataLoader( traindata_9 , batch_size= batch ,shuffle=True)\n",
        "\n",
        "testdata_1 = MosaicDataset(avg_image_dataset_1, labels_1 )\n",
        "testloader_1 = DataLoader( testdata_1 , batch_size= batch ,shuffle=False)\n",
        "\n",
        "testdata_2 = MosaicDataset(avg_image_dataset_2, labels_2 )\n",
        "testloader_2 = DataLoader( testdata_2 , batch_size= batch ,shuffle=False)\n",
        "\n",
        "testdata_3 = MosaicDataset(avg_image_dataset_3, labels_3 )\n",
        "testloader_3 = DataLoader( testdata_3 , batch_size= batch ,shuffle=False)\n",
        "\n",
        "testdata_4 = MosaicDataset(avg_image_dataset_4, labels_4 )\n",
        "testloader_4 = DataLoader( testdata_4 , batch_size= batch ,shuffle=False)\n",
        "\n",
        "testdata_5 = MosaicDataset(avg_image_dataset_5, labels_5 )\n",
        "testloader_5 = DataLoader( testdata_5 , batch_size= batch ,shuffle=False)\n",
        "\n",
        "testdata_6 = MosaicDataset(avg_image_dataset_6, labels_6 )\n",
        "testloader_6 = DataLoader( testdata_6 , batch_size= batch ,shuffle=False)\n",
        "\n",
        "testdata_7 = MosaicDataset(avg_image_dataset_7, labels_7 )\n",
        "testloader_7 = DataLoader( testdata_7 , batch_size= batch ,shuffle=False)\n",
        "\n",
        "testdata_8 = MosaicDataset(avg_image_dataset_8, labels_8 )\n",
        "testloader_8 = DataLoader( testdata_8 , batch_size= batch ,shuffle=False)\n",
        "\n",
        "testdata_9 = MosaicDataset(avg_image_dataset_9, labels_9 )\n",
        "testloader_9 = DataLoader( testdata_9 , batch_size= batch ,shuffle=False)\n",
        "\n"
      ],
      "execution_count": 0,
      "outputs": []
    },
    {
      "cell_type": "code",
      "metadata": {
        "id": "BQZy-c_O7rew",
        "colab_type": "code",
        "colab": {}
      },
      "source": [
        "class Net(nn.Module):\n",
        "    def __init__(self):\n",
        "        super(Net,self).__init__()\n",
        "        self.linear1 = nn.Linear(3,64)\n",
        "        self.linear2 = nn.Linear(64,128)\n",
        "        \n",
        "        self.linear3 = nn.Linear(128,3)\n",
        "        \n",
        "    def forward(self,x):\n",
        "        x = F.relu(self.linear1(x))\n",
        "        \n",
        "        x = F.relu(self.linear2(x))\n",
        "        \n",
        "        x = self.linear3(x)\n",
        "        \n",
        "        return x"
      ],
      "execution_count": 0,
      "outputs": []
    },
    {
      "cell_type": "code",
      "metadata": {
        "id": "EAEYaDjw8_wT",
        "colab_type": "code",
        "colab": {}
      },
      "source": [
        ""
      ],
      "execution_count": 0,
      "outputs": []
    },
    {
      "cell_type": "code",
      "metadata": {
        "id": "VR-IzVmU7rez",
        "colab_type": "code",
        "colab": {}
      },
      "source": [
        "def test_all(number, testloader,inc):\n",
        "    correct = 0\n",
        "    total = 0\n",
        "    out = []\n",
        "    pred = []\n",
        "    with torch.no_grad():\n",
        "        for data in testloader:\n",
        "            images, labels = data\n",
        "            images, labels = images.to(\"cuda\"),labels.to(\"cuda\")\n",
        "            out.append(labels.cpu().numpy())\n",
        "            outputs= inc(images)\n",
        "            _, predicted = torch.max(outputs.data, 1)\n",
        "            pred.append(predicted.cpu().numpy())\n",
        "            total += labels.size(0)\n",
        "            correct += (predicted == labels).sum().item()\n",
        "\n",
        "    print('Accuracy of the network on the 1000 test dataset %d: %d %%' % (number , 100 * correct / total))\n",
        "    return 100 * correct / total"
      ],
      "execution_count": 0,
      "outputs": []
    },
    {
      "cell_type": "code",
      "metadata": {
        "id": "1_FPcf0t7re2",
        "colab_type": "code",
        "colab": {}
      },
      "source": [
        "def train_all(trainloader, ds_number, testloader_list):\n",
        "    \n",
        "    print(\"--\"*40)\n",
        "    print(\"training on data set  \", ds_number)\n",
        "    \n",
        "    inc = Net().double()\n",
        "    inc = inc.to(\"cuda\")\n",
        "    \n",
        "    criterion_inception = nn.CrossEntropyLoss()\n",
        "    optimizer_inception = optim.SGD(inc.parameters(), lr=0.01, momentum=0.9)\n",
        "    \n",
        "    acti = []\n",
        "    loss_curi = []\n",
        "    epochs = 70\n",
        "    \n",
        "    for epoch in range(epochs): # loop over the dataset multiple times\n",
        "        ep_lossi = []\n",
        "\n",
        "        running_loss = 0.0\n",
        "        for i, data in enumerate(trainloader, 0):\n",
        "            # get the inputs\n",
        "            inputs, labels = data\n",
        "            inputs, labels = inputs.to(\"cuda\"),labels.to(\"cuda\")\n",
        "\n",
        "            # zero the parameter gradients\n",
        "            optimizer_inception.zero_grad()\n",
        "\n",
        "            # forward + backward + optimize\n",
        "            outputs = inc(inputs)\n",
        "            loss = criterion_inception(outputs, labels)\n",
        "            loss.backward()\n",
        "            optimizer_inception.step()\n",
        "\n",
        "            # print statistics\n",
        "            running_loss += loss.item()\n",
        "            mini=4\n",
        "            if i % mini == mini-1:    # print every 10 mini-batches\n",
        "                print('[%d, %5d] loss: %.3f' %\n",
        "                      (epoch + 1, i + 1, running_loss / mini))\n",
        "                ep_lossi.append(running_loss/mini) # loss per minibatch\n",
        "                running_loss = 0.0\n",
        "        \n",
        "        # if(np.mean(ep_lossi)<=0.01):\n",
        "        #     break\n",
        "        loss_curi.append(np.mean(ep_lossi))   #loss per epoch\n",
        "\n",
        "\n",
        "\n",
        "\n",
        "    print('Finished Training')\n",
        "#     torch.save(inc.state_dict(),\"/content/drive/My Drive/Research/Experiments on CIFAR mosaic/Exp_2_Attention_models_on_9_datasets_made_from_10k_mosaic/weights/train_dataset_\"+str(ds_number)+\"_\"+str(epochs)+\".pt\")\n",
        "    \n",
        "    correct = 0\n",
        "    total = 0\n",
        "    with torch.no_grad():\n",
        "        for data in trainloader:\n",
        "            images, labels = data\n",
        "            images, labels = images.to(\"cuda\"), labels.to(\"cuda\")\n",
        "            outputs = inc(images)\n",
        "            _, predicted = torch.max(outputs.data, 1)\n",
        "            total += labels.size(0)\n",
        "            correct += (predicted == labels).sum().item()\n",
        "\n",
        "    print('Accuracy of the network on the 1000 train images: %d %%' % (  100 * correct / total))\n",
        "    \n",
        "    test_list=[]\n",
        "    for i, j in enumerate(testloader_list):\n",
        "        test_list.append(test_all(i+1, j,inc))\n",
        "    \n",
        "    print(\"--\"*40)\n",
        "    \n",
        "    return loss_curi,test_list"
      ],
      "execution_count": 0,
      "outputs": []
    },
    {
      "cell_type": "code",
      "metadata": {
        "id": "xC65oNSz7re3",
        "colab_type": "code",
        "colab": {
          "base_uri": "https://localhost:8080/",
          "height": 1000
        },
        "outputId": "0111fe35-b939-4026-b77f-d2428e597729"
      },
      "source": [
        "train_loss_all=[]\n",
        "\n",
        "testloader_list= [ testloader_1, testloader_2, testloader_3, testloader_4, testloader_5, testloader_6,\n",
        "                 testloader_7, testloader_8, testloader_9]\n",
        "\n",
        "test1 = train_loss_all.append(train_all(trainloader_1, 1, testloader_list))\n",
        "test2 = train_loss_all.append(train_all(trainloader_2, 2, testloader_list))\n",
        "test3 = train_loss_all.append(train_all(trainloader_3, 3, testloader_list))\n",
        "test4 = train_loss_all.append(train_all(trainloader_4, 4, testloader_list))\n",
        "test5 = train_loss_all.append(train_all(trainloader_5, 5, testloader_list))\n",
        "test6 = train_loss_all.append(train_all(trainloader_6, 6, testloader_list))\n",
        "test7 = train_loss_all.append(train_all(trainloader_7, 7, testloader_list))\n",
        "test8 = train_loss_all.append(train_all(trainloader_8, 8, testloader_list))\n",
        "test9 = train_loss_all.append(train_all(trainloader_9, 9, testloader_list))"
      ],
      "execution_count": 247,
      "outputs": [
        {
          "output_type": "stream",
          "text": [
            "--------------------------------------------------------------------------------\n",
            "training on data set   1\n",
            "[1,     4] loss: 1.101\n",
            "[2,     4] loss: 1.095\n",
            "[3,     4] loss: 1.089\n",
            "[4,     4] loss: 1.082\n",
            "[5,     4] loss: 1.076\n",
            "[6,     4] loss: 1.070\n",
            "[7,     4] loss: 1.065\n",
            "[8,     4] loss: 1.060\n",
            "[9,     4] loss: 1.056\n",
            "[10,     4] loss: 1.052\n",
            "[11,     4] loss: 1.048\n",
            "[12,     4] loss: 1.044\n",
            "[13,     4] loss: 1.041\n",
            "[14,     4] loss: 1.038\n",
            "[15,     4] loss: 1.034\n",
            "[16,     4] loss: 1.032\n",
            "[17,     4] loss: 1.028\n",
            "[18,     4] loss: 1.026\n",
            "[19,     4] loss: 1.021\n",
            "[20,     4] loss: 1.018\n",
            "[21,     4] loss: 1.014\n",
            "[22,     4] loss: 1.011\n",
            "[23,     4] loss: 1.007\n",
            "[24,     4] loss: 1.003\n",
            "[25,     4] loss: 0.998\n",
            "[26,     4] loss: 0.993\n",
            "[27,     4] loss: 0.988\n",
            "[28,     4] loss: 0.983\n",
            "[29,     4] loss: 0.977\n",
            "[30,     4] loss: 0.971\n",
            "[31,     4] loss: 0.963\n",
            "[32,     4] loss: 0.956\n",
            "[33,     4] loss: 0.948\n",
            "[34,     4] loss: 0.939\n",
            "[35,     4] loss: 0.930\n",
            "[36,     4] loss: 0.921\n",
            "[37,     4] loss: 0.911\n",
            "[38,     4] loss: 0.899\n",
            "[39,     4] loss: 0.887\n",
            "[40,     4] loss: 0.874\n",
            "[41,     4] loss: 0.860\n",
            "[42,     4] loss: 0.847\n",
            "[43,     4] loss: 0.832\n",
            "[44,     4] loss: 0.816\n",
            "[45,     4] loss: 0.800\n",
            "[46,     4] loss: 0.782\n",
            "[47,     4] loss: 0.764\n",
            "[48,     4] loss: 0.744\n",
            "[49,     4] loss: 0.725\n",
            "[50,     4] loss: 0.704\n",
            "[51,     4] loss: 0.682\n",
            "[52,     4] loss: 0.662\n",
            "[53,     4] loss: 0.641\n",
            "[54,     4] loss: 0.620\n",
            "[55,     4] loss: 0.598\n",
            "[56,     4] loss: 0.577\n",
            "[57,     4] loss: 0.555\n",
            "[58,     4] loss: 0.536\n",
            "[59,     4] loss: 0.514\n",
            "[60,     4] loss: 0.494\n",
            "[61,     4] loss: 0.473\n",
            "[62,     4] loss: 0.454\n",
            "[63,     4] loss: 0.434\n",
            "[64,     4] loss: 0.416\n",
            "[65,     4] loss: 0.398\n",
            "[66,     4] loss: 0.381\n",
            "[67,     4] loss: 0.364\n",
            "[68,     4] loss: 0.348\n",
            "[69,     4] loss: 0.332\n",
            "[70,     4] loss: 0.316\n",
            "Finished Training\n",
            "Accuracy of the network on the 1000 train images: 99 %\n",
            "Accuracy of the network on the 1000 test dataset 1: 99 %\n",
            "Accuracy of the network on the 1000 test dataset 2: 97 %\n",
            "Accuracy of the network on the 1000 test dataset 3: 82 %\n",
            "Accuracy of the network on the 1000 test dataset 4: 69 %\n",
            "Accuracy of the network on the 1000 test dataset 5: 65 %\n",
            "Accuracy of the network on the 1000 test dataset 6: 64 %\n",
            "Accuracy of the network on the 1000 test dataset 7: 64 %\n",
            "Accuracy of the network on the 1000 test dataset 8: 64 %\n",
            "Accuracy of the network on the 1000 test dataset 9: 64 %\n",
            "--------------------------------------------------------------------------------\n",
            "--------------------------------------------------------------------------------\n",
            "training on data set   2\n",
            "[1,     4] loss: 1.120\n",
            "[2,     4] loss: 1.100\n",
            "[3,     4] loss: 1.072\n",
            "[4,     4] loss: 1.043\n",
            "[5,     4] loss: 1.016\n",
            "[6,     4] loss: 0.992\n",
            "[7,     4] loss: 0.969\n",
            "[8,     4] loss: 0.944\n",
            "[9,     4] loss: 0.920\n",
            "[10,     4] loss: 0.899\n",
            "[11,     4] loss: 0.878\n",
            "[12,     4] loss: 0.860\n",
            "[13,     4] loss: 0.844\n",
            "[14,     4] loss: 0.827\n",
            "[15,     4] loss: 0.814\n",
            "[16,     4] loss: 0.801\n",
            "[17,     4] loss: 0.787\n",
            "[18,     4] loss: 0.775\n",
            "[19,     4] loss: 0.760\n",
            "[20,     4] loss: 0.747\n",
            "[21,     4] loss: 0.731\n",
            "[22,     4] loss: 0.716\n",
            "[23,     4] loss: 0.698\n",
            "[24,     4] loss: 0.681\n",
            "[25,     4] loss: 0.661\n",
            "[26,     4] loss: 0.640\n",
            "[27,     4] loss: 0.619\n",
            "[28,     4] loss: 0.596\n",
            "[29,     4] loss: 0.574\n",
            "[30,     4] loss: 0.551\n",
            "[31,     4] loss: 0.526\n",
            "[32,     4] loss: 0.503\n",
            "[33,     4] loss: 0.480\n",
            "[34,     4] loss: 0.458\n",
            "[35,     4] loss: 0.436\n",
            "[36,     4] loss: 0.415\n",
            "[37,     4] loss: 0.395\n",
            "[38,     4] loss: 0.374\n",
            "[39,     4] loss: 0.356\n",
            "[40,     4] loss: 0.338\n",
            "[41,     4] loss: 0.320\n",
            "[42,     4] loss: 0.302\n",
            "[43,     4] loss: 0.286\n",
            "[44,     4] loss: 0.270\n",
            "[45,     4] loss: 0.255\n",
            "[46,     4] loss: 0.241\n",
            "[47,     4] loss: 0.227\n",
            "[48,     4] loss: 0.214\n",
            "[49,     4] loss: 0.201\n",
            "[50,     4] loss: 0.189\n",
            "[51,     4] loss: 0.177\n",
            "[52,     4] loss: 0.166\n",
            "[53,     4] loss: 0.156\n",
            "[54,     4] loss: 0.147\n",
            "[55,     4] loss: 0.137\n",
            "[56,     4] loss: 0.130\n",
            "[57,     4] loss: 0.121\n",
            "[58,     4] loss: 0.114\n",
            "[59,     4] loss: 0.107\n",
            "[60,     4] loss: 0.101\n",
            "[61,     4] loss: 0.095\n",
            "[62,     4] loss: 0.089\n",
            "[63,     4] loss: 0.085\n",
            "[64,     4] loss: 0.079\n",
            "[65,     4] loss: 0.075\n",
            "[66,     4] loss: 0.071\n",
            "[67,     4] loss: 0.068\n",
            "[68,     4] loss: 0.064\n",
            "[69,     4] loss: 0.061\n",
            "[70,     4] loss: 0.058\n",
            "Finished Training\n",
            "Accuracy of the network on the 1000 train images: 100 %\n",
            "Accuracy of the network on the 1000 test dataset 1: 74 %\n",
            "Accuracy of the network on the 1000 test dataset 2: 100 %\n",
            "Accuracy of the network on the 1000 test dataset 3: 100 %\n",
            "Accuracy of the network on the 1000 test dataset 4: 100 %\n",
            "Accuracy of the network on the 1000 test dataset 5: 99 %\n",
            "Accuracy of the network on the 1000 test dataset 6: 97 %\n",
            "Accuracy of the network on the 1000 test dataset 7: 95 %\n",
            "Accuracy of the network on the 1000 test dataset 8: 91 %\n",
            "Accuracy of the network on the 1000 test dataset 9: 88 %\n",
            "--------------------------------------------------------------------------------\n",
            "--------------------------------------------------------------------------------\n",
            "training on data set   3\n",
            "[1,     4] loss: 1.078\n",
            "[2,     4] loss: 1.055\n",
            "[3,     4] loss: 1.018\n",
            "[4,     4] loss: 0.975\n",
            "[5,     4] loss: 0.928\n",
            "[6,     4] loss: 0.880\n",
            "[7,     4] loss: 0.828\n",
            "[8,     4] loss: 0.776\n",
            "[9,     4] loss: 0.724\n",
            "[10,     4] loss: 0.674\n",
            "[11,     4] loss: 0.630\n",
            "[12,     4] loss: 0.590\n",
            "[13,     4] loss: 0.555\n",
            "[14,     4] loss: 0.523\n",
            "[15,     4] loss: 0.496\n",
            "[16,     4] loss: 0.472\n",
            "[17,     4] loss: 0.449\n",
            "[18,     4] loss: 0.430\n",
            "[19,     4] loss: 0.411\n",
            "[20,     4] loss: 0.391\n",
            "[21,     4] loss: 0.374\n",
            "[22,     4] loss: 0.358\n",
            "[23,     4] loss: 0.341\n",
            "[24,     4] loss: 0.328\n",
            "[25,     4] loss: 0.310\n",
            "[26,     4] loss: 0.296\n",
            "[27,     4] loss: 0.283\n",
            "[28,     4] loss: 0.270\n",
            "[29,     4] loss: 0.258\n",
            "[30,     4] loss: 0.246\n",
            "[31,     4] loss: 0.235\n",
            "[32,     4] loss: 0.224\n",
            "[33,     4] loss: 0.215\n",
            "[34,     4] loss: 0.205\n",
            "[35,     4] loss: 0.197\n",
            "[36,     4] loss: 0.188\n",
            "[37,     4] loss: 0.179\n",
            "[38,     4] loss: 0.171\n",
            "[39,     4] loss: 0.164\n",
            "[40,     4] loss: 0.157\n",
            "[41,     4] loss: 0.149\n",
            "[42,     4] loss: 0.143\n",
            "[43,     4] loss: 0.136\n",
            "[44,     4] loss: 0.130\n",
            "[45,     4] loss: 0.124\n",
            "[46,     4] loss: 0.118\n",
            "[47,     4] loss: 0.113\n",
            "[48,     4] loss: 0.108\n",
            "[49,     4] loss: 0.103\n",
            "[50,     4] loss: 0.098\n",
            "[51,     4] loss: 0.093\n",
            "[52,     4] loss: 0.089\n",
            "[53,     4] loss: 0.085\n",
            "[54,     4] loss: 0.081\n",
            "[55,     4] loss: 0.078\n",
            "[56,     4] loss: 0.074\n",
            "[57,     4] loss: 0.070\n",
            "[58,     4] loss: 0.067\n",
            "[59,     4] loss: 0.064\n",
            "[60,     4] loss: 0.062\n",
            "[61,     4] loss: 0.059\n",
            "[62,     4] loss: 0.056\n",
            "[63,     4] loss: 0.054\n",
            "[64,     4] loss: 0.052\n",
            "[65,     4] loss: 0.049\n",
            "[66,     4] loss: 0.048\n",
            "[67,     4] loss: 0.046\n",
            "[68,     4] loss: 0.044\n",
            "[69,     4] loss: 0.042\n",
            "[70,     4] loss: 0.040\n",
            "Finished Training\n",
            "Accuracy of the network on the 1000 train images: 100 %\n",
            "Accuracy of the network on the 1000 test dataset 1: 58 %\n",
            "Accuracy of the network on the 1000 test dataset 2: 92 %\n",
            "Accuracy of the network on the 1000 test dataset 3: 100 %\n",
            "Accuracy of the network on the 1000 test dataset 4: 100 %\n",
            "Accuracy of the network on the 1000 test dataset 5: 100 %\n",
            "Accuracy of the network on the 1000 test dataset 6: 100 %\n",
            "Accuracy of the network on the 1000 test dataset 7: 100 %\n",
            "Accuracy of the network on the 1000 test dataset 8: 100 %\n",
            "Accuracy of the network on the 1000 test dataset 9: 100 %\n",
            "--------------------------------------------------------------------------------\n",
            "--------------------------------------------------------------------------------\n",
            "training on data set   4\n",
            "[1,     4] loss: 1.085\n",
            "[2,     4] loss: 1.018\n",
            "[3,     4] loss: 0.921\n",
            "[4,     4] loss: 0.816\n",
            "[5,     4] loss: 0.709\n",
            "[6,     4] loss: 0.605\n",
            "[7,     4] loss: 0.506\n",
            "[8,     4] loss: 0.416\n",
            "[9,     4] loss: 0.342\n",
            "[10,     4] loss: 0.284\n",
            "[11,     4] loss: 0.241\n",
            "[12,     4] loss: 0.211\n",
            "[13,     4] loss: 0.189\n",
            "[14,     4] loss: 0.173\n",
            "[15,     4] loss: 0.160\n",
            "[16,     4] loss: 0.150\n",
            "[17,     4] loss: 0.142\n",
            "[18,     4] loss: 0.136\n",
            "[19,     4] loss: 0.130\n",
            "[20,     4] loss: 0.125\n",
            "[21,     4] loss: 0.120\n",
            "[22,     4] loss: 0.116\n",
            "[23,     4] loss: 0.114\n",
            "[24,     4] loss: 0.110\n",
            "[25,     4] loss: 0.107\n",
            "[26,     4] loss: 0.104\n",
            "[27,     4] loss: 0.101\n",
            "[28,     4] loss: 0.099\n",
            "[29,     4] loss: 0.097\n",
            "[30,     4] loss: 0.094\n",
            "[31,     4] loss: 0.092\n",
            "[32,     4] loss: 0.090\n",
            "[33,     4] loss: 0.089\n",
            "[34,     4] loss: 0.086\n",
            "[35,     4] loss: 0.085\n",
            "[36,     4] loss: 0.083\n",
            "[37,     4] loss: 0.082\n",
            "[38,     4] loss: 0.080\n",
            "[39,     4] loss: 0.078\n",
            "[40,     4] loss: 0.077\n",
            "[41,     4] loss: 0.076\n",
            "[42,     4] loss: 0.074\n",
            "[43,     4] loss: 0.072\n",
            "[44,     4] loss: 0.071\n",
            "[45,     4] loss: 0.069\n",
            "[46,     4] loss: 0.068\n",
            "[47,     4] loss: 0.067\n",
            "[48,     4] loss: 0.066\n",
            "[49,     4] loss: 0.065\n",
            "[50,     4] loss: 0.064\n",
            "[51,     4] loss: 0.063\n",
            "[52,     4] loss: 0.061\n",
            "[53,     4] loss: 0.060\n",
            "[54,     4] loss: 0.059\n",
            "[55,     4] loss: 0.058\n",
            "[56,     4] loss: 0.057\n",
            "[57,     4] loss: 0.056\n",
            "[58,     4] loss: 0.055\n",
            "[59,     4] loss: 0.054\n",
            "[60,     4] loss: 0.053\n",
            "[61,     4] loss: 0.052\n",
            "[62,     4] loss: 0.051\n",
            "[63,     4] loss: 0.050\n",
            "[64,     4] loss: 0.049\n",
            "[65,     4] loss: 0.048\n",
            "[66,     4] loss: 0.047\n",
            "[67,     4] loss: 0.047\n",
            "[68,     4] loss: 0.046\n",
            "[69,     4] loss: 0.045\n",
            "[70,     4] loss: 0.044\n",
            "Finished Training\n",
            "Accuracy of the network on the 1000 train images: 98 %\n",
            "Accuracy of the network on the 1000 test dataset 1: 47 %\n",
            "Accuracy of the network on the 1000 test dataset 2: 71 %\n",
            "Accuracy of the network on the 1000 test dataset 3: 89 %\n",
            "Accuracy of the network on the 1000 test dataset 4: 98 %\n",
            "Accuracy of the network on the 1000 test dataset 5: 100 %\n",
            "Accuracy of the network on the 1000 test dataset 6: 100 %\n",
            "Accuracy of the network on the 1000 test dataset 7: 100 %\n",
            "Accuracy of the network on the 1000 test dataset 8: 100 %\n",
            "Accuracy of the network on the 1000 test dataset 9: 100 %\n",
            "--------------------------------------------------------------------------------\n",
            "--------------------------------------------------------------------------------\n",
            "training on data set   5\n",
            "[1,     4] loss: 1.112\n",
            "[2,     4] loss: 0.996\n",
            "[3,     4] loss: 0.845\n",
            "[4,     4] loss: 0.695\n",
            "[5,     4] loss: 0.555\n",
            "[6,     4] loss: 0.427\n",
            "[7,     4] loss: 0.319\n",
            "[8,     4] loss: 0.231\n",
            "[9,     4] loss: 0.165\n",
            "[10,     4] loss: 0.119\n",
            "[11,     4] loss: 0.088\n",
            "[12,     4] loss: 0.068\n",
            "[13,     4] loss: 0.055\n",
            "[14,     4] loss: 0.046\n",
            "[15,     4] loss: 0.040\n",
            "[16,     4] loss: 0.035\n",
            "[17,     4] loss: 0.032\n",
            "[18,     4] loss: 0.029\n",
            "[19,     4] loss: 0.027\n",
            "[20,     4] loss: 0.025\n",
            "[21,     4] loss: 0.024\n",
            "[22,     4] loss: 0.022\n",
            "[23,     4] loss: 0.021\n",
            "[24,     4] loss: 0.020\n",
            "[25,     4] loss: 0.020\n",
            "[26,     4] loss: 0.019\n",
            "[27,     4] loss: 0.018\n",
            "[28,     4] loss: 0.017\n",
            "[29,     4] loss: 0.017\n",
            "[30,     4] loss: 0.016\n",
            "[31,     4] loss: 0.016\n",
            "[32,     4] loss: 0.015\n",
            "[33,     4] loss: 0.015\n",
            "[34,     4] loss: 0.014\n",
            "[35,     4] loss: 0.014\n",
            "[36,     4] loss: 0.014\n",
            "[37,     4] loss: 0.013\n",
            "[38,     4] loss: 0.013\n",
            "[39,     4] loss: 0.013\n",
            "[40,     4] loss: 0.012\n",
            "[41,     4] loss: 0.012\n",
            "[42,     4] loss: 0.012\n",
            "[43,     4] loss: 0.012\n",
            "[44,     4] loss: 0.011\n",
            "[45,     4] loss: 0.011\n",
            "[46,     4] loss: 0.011\n",
            "[47,     4] loss: 0.011\n",
            "[48,     4] loss: 0.011\n",
            "[49,     4] loss: 0.010\n",
            "[50,     4] loss: 0.010\n",
            "[51,     4] loss: 0.010\n",
            "[52,     4] loss: 0.010\n",
            "[53,     4] loss: 0.010\n",
            "[54,     4] loss: 0.009\n",
            "[55,     4] loss: 0.009\n",
            "[56,     4] loss: 0.009\n",
            "[57,     4] loss: 0.009\n",
            "[58,     4] loss: 0.009\n",
            "[59,     4] loss: 0.009\n",
            "[60,     4] loss: 0.009\n",
            "[61,     4] loss: 0.008\n",
            "[62,     4] loss: 0.008\n",
            "[63,     4] loss: 0.008\n",
            "[64,     4] loss: 0.008\n",
            "[65,     4] loss: 0.008\n",
            "[66,     4] loss: 0.008\n",
            "[67,     4] loss: 0.008\n",
            "[68,     4] loss: 0.008\n",
            "[69,     4] loss: 0.008\n",
            "[70,     4] loss: 0.008\n",
            "Finished Training\n",
            "Accuracy of the network on the 1000 train images: 100 %\n",
            "Accuracy of the network on the 1000 test dataset 1: 45 %\n",
            "Accuracy of the network on the 1000 test dataset 2: 62 %\n",
            "Accuracy of the network on the 1000 test dataset 3: 82 %\n",
            "Accuracy of the network on the 1000 test dataset 4: 95 %\n",
            "Accuracy of the network on the 1000 test dataset 5: 100 %\n",
            "Accuracy of the network on the 1000 test dataset 6: 100 %\n",
            "Accuracy of the network on the 1000 test dataset 7: 100 %\n",
            "Accuracy of the network on the 1000 test dataset 8: 100 %\n",
            "Accuracy of the network on the 1000 test dataset 9: 100 %\n",
            "--------------------------------------------------------------------------------\n",
            "--------------------------------------------------------------------------------\n",
            "training on data set   6\n",
            "[1,     4] loss: 1.142\n",
            "[2,     4] loss: 0.954\n",
            "[3,     4] loss: 0.728\n",
            "[4,     4] loss: 0.534\n",
            "[5,     4] loss: 0.382\n",
            "[6,     4] loss: 0.268\n",
            "[7,     4] loss: 0.184\n",
            "[8,     4] loss: 0.123\n",
            "[9,     4] loss: 0.081\n",
            "[10,     4] loss: 0.054\n",
            "[11,     4] loss: 0.038\n",
            "[12,     4] loss: 0.028\n",
            "[13,     4] loss: 0.022\n",
            "[14,     4] loss: 0.018\n",
            "[15,     4] loss: 0.015\n",
            "[16,     4] loss: 0.013\n",
            "[17,     4] loss: 0.012\n",
            "[18,     4] loss: 0.011\n",
            "[19,     4] loss: 0.010\n",
            "[20,     4] loss: 0.009\n",
            "[21,     4] loss: 0.008\n",
            "[22,     4] loss: 0.008\n",
            "[23,     4] loss: 0.008\n",
            "[24,     4] loss: 0.007\n",
            "[25,     4] loss: 0.007\n",
            "[26,     4] loss: 0.006\n",
            "[27,     4] loss: 0.006\n",
            "[28,     4] loss: 0.006\n",
            "[29,     4] loss: 0.006\n",
            "[30,     4] loss: 0.005\n",
            "[31,     4] loss: 0.005\n",
            "[32,     4] loss: 0.005\n",
            "[33,     4] loss: 0.005\n",
            "[34,     4] loss: 0.005\n",
            "[35,     4] loss: 0.005\n",
            "[36,     4] loss: 0.004\n",
            "[37,     4] loss: 0.004\n",
            "[38,     4] loss: 0.004\n",
            "[39,     4] loss: 0.004\n",
            "[40,     4] loss: 0.004\n",
            "[41,     4] loss: 0.004\n",
            "[42,     4] loss: 0.004\n",
            "[43,     4] loss: 0.004\n",
            "[44,     4] loss: 0.004\n",
            "[45,     4] loss: 0.003\n",
            "[46,     4] loss: 0.003\n",
            "[47,     4] loss: 0.003\n",
            "[48,     4] loss: 0.003\n",
            "[49,     4] loss: 0.003\n",
            "[50,     4] loss: 0.003\n",
            "[51,     4] loss: 0.003\n",
            "[52,     4] loss: 0.003\n",
            "[53,     4] loss: 0.003\n",
            "[54,     4] loss: 0.003\n",
            "[55,     4] loss: 0.003\n",
            "[56,     4] loss: 0.003\n",
            "[57,     4] loss: 0.003\n",
            "[58,     4] loss: 0.003\n",
            "[59,     4] loss: 0.003\n",
            "[60,     4] loss: 0.003\n",
            "[61,     4] loss: 0.002\n",
            "[62,     4] loss: 0.002\n",
            "[63,     4] loss: 0.002\n",
            "[64,     4] loss: 0.002\n",
            "[65,     4] loss: 0.002\n",
            "[66,     4] loss: 0.002\n",
            "[67,     4] loss: 0.002\n",
            "[68,     4] loss: 0.002\n",
            "[69,     4] loss: 0.002\n",
            "[70,     4] loss: 0.002\n",
            "Finished Training\n",
            "Accuracy of the network on the 1000 train images: 100 %\n",
            "Accuracy of the network on the 1000 test dataset 1: 43 %\n",
            "Accuracy of the network on the 1000 test dataset 2: 60 %\n",
            "Accuracy of the network on the 1000 test dataset 3: 79 %\n",
            "Accuracy of the network on the 1000 test dataset 4: 94 %\n",
            "Accuracy of the network on the 1000 test dataset 5: 99 %\n",
            "Accuracy of the network on the 1000 test dataset 6: 100 %\n",
            "Accuracy of the network on the 1000 test dataset 7: 100 %\n",
            "Accuracy of the network on the 1000 test dataset 8: 100 %\n",
            "Accuracy of the network on the 1000 test dataset 9: 100 %\n",
            "--------------------------------------------------------------------------------\n",
            "--------------------------------------------------------------------------------\n",
            "training on data set   7\n",
            "[1,     4] loss: 1.039\n",
            "[2,     4] loss: 0.865\n",
            "[3,     4] loss: 0.636\n",
            "[4,     4] loss: 0.426\n",
            "[5,     4] loss: 0.266\n",
            "[6,     4] loss: 0.158\n",
            "[7,     4] loss: 0.091\n",
            "[8,     4] loss: 0.052\n",
            "[9,     4] loss: 0.032\n",
            "[10,     4] loss: 0.021\n",
            "[11,     4] loss: 0.015\n",
            "[12,     4] loss: 0.011\n",
            "[13,     4] loss: 0.009\n",
            "[14,     4] loss: 0.008\n",
            "[15,     4] loss: 0.007\n",
            "[16,     4] loss: 0.006\n",
            "[17,     4] loss: 0.006\n",
            "[18,     4] loss: 0.005\n",
            "[19,     4] loss: 0.005\n",
            "[20,     4] loss: 0.005\n",
            "[21,     4] loss: 0.004\n",
            "[22,     4] loss: 0.004\n",
            "[23,     4] loss: 0.004\n",
            "[24,     4] loss: 0.004\n",
            "[25,     4] loss: 0.004\n",
            "[26,     4] loss: 0.004\n",
            "[27,     4] loss: 0.003\n",
            "[28,     4] loss: 0.003\n",
            "[29,     4] loss: 0.003\n",
            "[30,     4] loss: 0.003\n",
            "[31,     4] loss: 0.003\n",
            "[32,     4] loss: 0.003\n",
            "[33,     4] loss: 0.003\n",
            "[34,     4] loss: 0.003\n",
            "[35,     4] loss: 0.003\n",
            "[36,     4] loss: 0.003\n",
            "[37,     4] loss: 0.003\n",
            "[38,     4] loss: 0.002\n",
            "[39,     4] loss: 0.002\n",
            "[40,     4] loss: 0.002\n",
            "[41,     4] loss: 0.002\n",
            "[42,     4] loss: 0.002\n",
            "[43,     4] loss: 0.002\n",
            "[44,     4] loss: 0.002\n",
            "[45,     4] loss: 0.002\n",
            "[46,     4] loss: 0.002\n",
            "[47,     4] loss: 0.002\n",
            "[48,     4] loss: 0.002\n",
            "[49,     4] loss: 0.002\n",
            "[50,     4] loss: 0.002\n",
            "[51,     4] loss: 0.002\n",
            "[52,     4] loss: 0.002\n",
            "[53,     4] loss: 0.002\n",
            "[54,     4] loss: 0.002\n",
            "[55,     4] loss: 0.002\n",
            "[56,     4] loss: 0.002\n",
            "[57,     4] loss: 0.002\n",
            "[58,     4] loss: 0.002\n",
            "[59,     4] loss: 0.002\n",
            "[60,     4] loss: 0.002\n",
            "[61,     4] loss: 0.002\n",
            "[62,     4] loss: 0.001\n",
            "[63,     4] loss: 0.001\n",
            "[64,     4] loss: 0.001\n",
            "[65,     4] loss: 0.001\n",
            "[66,     4] loss: 0.001\n",
            "[67,     4] loss: 0.001\n",
            "[68,     4] loss: 0.001\n",
            "[69,     4] loss: 0.001\n",
            "[70,     4] loss: 0.001\n",
            "Finished Training\n",
            "Accuracy of the network on the 1000 train images: 100 %\n",
            "Accuracy of the network on the 1000 test dataset 1: 44 %\n",
            "Accuracy of the network on the 1000 test dataset 2: 58 %\n",
            "Accuracy of the network on the 1000 test dataset 3: 76 %\n",
            "Accuracy of the network on the 1000 test dataset 4: 91 %\n",
            "Accuracy of the network on the 1000 test dataset 5: 99 %\n",
            "Accuracy of the network on the 1000 test dataset 6: 100 %\n",
            "Accuracy of the network on the 1000 test dataset 7: 100 %\n",
            "Accuracy of the network on the 1000 test dataset 8: 100 %\n",
            "Accuracy of the network on the 1000 test dataset 9: 100 %\n",
            "--------------------------------------------------------------------------------\n",
            "--------------------------------------------------------------------------------\n",
            "training on data set   8\n",
            "[1,     4] loss: 1.046\n",
            "[2,     4] loss: 0.865\n",
            "[3,     4] loss: 0.624\n",
            "[4,     4] loss: 0.400\n",
            "[5,     4] loss: 0.228\n",
            "[6,     4] loss: 0.119\n",
            "[7,     4] loss: 0.061\n",
            "[8,     4] loss: 0.032\n",
            "[9,     4] loss: 0.019\n",
            "[10,     4] loss: 0.012\n",
            "[11,     4] loss: 0.009\n",
            "[12,     4] loss: 0.007\n",
            "[13,     4] loss: 0.006\n",
            "[14,     4] loss: 0.005\n",
            "[15,     4] loss: 0.004\n",
            "[16,     4] loss: 0.004\n",
            "[17,     4] loss: 0.004\n",
            "[18,     4] loss: 0.003\n",
            "[19,     4] loss: 0.003\n",
            "[20,     4] loss: 0.003\n",
            "[21,     4] loss: 0.003\n",
            "[22,     4] loss: 0.003\n",
            "[23,     4] loss: 0.003\n",
            "[24,     4] loss: 0.003\n",
            "[25,     4] loss: 0.003\n",
            "[26,     4] loss: 0.002\n",
            "[27,     4] loss: 0.002\n",
            "[28,     4] loss: 0.002\n",
            "[29,     4] loss: 0.002\n",
            "[30,     4] loss: 0.002\n",
            "[31,     4] loss: 0.002\n",
            "[32,     4] loss: 0.002\n",
            "[33,     4] loss: 0.002\n",
            "[34,     4] loss: 0.002\n",
            "[35,     4] loss: 0.002\n",
            "[36,     4] loss: 0.002\n",
            "[37,     4] loss: 0.002\n",
            "[38,     4] loss: 0.002\n",
            "[39,     4] loss: 0.002\n",
            "[40,     4] loss: 0.002\n",
            "[41,     4] loss: 0.002\n",
            "[42,     4] loss: 0.002\n",
            "[43,     4] loss: 0.002\n",
            "[44,     4] loss: 0.002\n",
            "[45,     4] loss: 0.002\n",
            "[46,     4] loss: 0.001\n",
            "[47,     4] loss: 0.001\n",
            "[48,     4] loss: 0.001\n",
            "[49,     4] loss: 0.001\n",
            "[50,     4] loss: 0.001\n",
            "[51,     4] loss: 0.001\n",
            "[52,     4] loss: 0.001\n",
            "[53,     4] loss: 0.001\n",
            "[54,     4] loss: 0.001\n",
            "[55,     4] loss: 0.001\n",
            "[56,     4] loss: 0.001\n",
            "[57,     4] loss: 0.001\n",
            "[58,     4] loss: 0.001\n",
            "[59,     4] loss: 0.001\n",
            "[60,     4] loss: 0.001\n",
            "[61,     4] loss: 0.001\n",
            "[62,     4] loss: 0.001\n",
            "[63,     4] loss: 0.001\n",
            "[64,     4] loss: 0.001\n",
            "[65,     4] loss: 0.001\n",
            "[66,     4] loss: 0.001\n",
            "[67,     4] loss: 0.001\n",
            "[68,     4] loss: 0.001\n",
            "[69,     4] loss: 0.001\n",
            "[70,     4] loss: 0.001\n",
            "Finished Training\n",
            "Accuracy of the network on the 1000 train images: 100 %\n",
            "Accuracy of the network on the 1000 test dataset 1: 44 %\n",
            "Accuracy of the network on the 1000 test dataset 2: 60 %\n",
            "Accuracy of the network on the 1000 test dataset 3: 76 %\n",
            "Accuracy of the network on the 1000 test dataset 4: 90 %\n",
            "Accuracy of the network on the 1000 test dataset 5: 99 %\n",
            "Accuracy of the network on the 1000 test dataset 6: 100 %\n",
            "Accuracy of the network on the 1000 test dataset 7: 100 %\n",
            "Accuracy of the network on the 1000 test dataset 8: 100 %\n",
            "Accuracy of the network on the 1000 test dataset 9: 100 %\n",
            "--------------------------------------------------------------------------------\n",
            "--------------------------------------------------------------------------------\n",
            "training on data set   9\n",
            "[1,     4] loss: 1.034\n",
            "[2,     4] loss: 0.697\n",
            "[3,     4] loss: 0.361\n",
            "[4,     4] loss: 0.163\n",
            "[5,     4] loss: 0.070\n",
            "[6,     4] loss: 0.031\n",
            "[7,     4] loss: 0.015\n",
            "[8,     4] loss: 0.009\n",
            "[9,     4] loss: 0.006\n",
            "[10,     4] loss: 0.004\n",
            "[11,     4] loss: 0.003\n",
            "[12,     4] loss: 0.003\n",
            "[13,     4] loss: 0.002\n",
            "[14,     4] loss: 0.002\n",
            "[15,     4] loss: 0.002\n",
            "[16,     4] loss: 0.002\n",
            "[17,     4] loss: 0.002\n",
            "[18,     4] loss: 0.002\n",
            "[19,     4] loss: 0.002\n",
            "[20,     4] loss: 0.002\n",
            "[21,     4] loss: 0.002\n",
            "[22,     4] loss: 0.002\n",
            "[23,     4] loss: 0.001\n",
            "[24,     4] loss: 0.001\n",
            "[25,     4] loss: 0.001\n",
            "[26,     4] loss: 0.001\n",
            "[27,     4] loss: 0.001\n",
            "[28,     4] loss: 0.001\n",
            "[29,     4] loss: 0.001\n",
            "[30,     4] loss: 0.001\n",
            "[31,     4] loss: 0.001\n",
            "[32,     4] loss: 0.001\n",
            "[33,     4] loss: 0.001\n",
            "[34,     4] loss: 0.001\n",
            "[35,     4] loss: 0.001\n",
            "[36,     4] loss: 0.001\n",
            "[37,     4] loss: 0.001\n",
            "[38,     4] loss: 0.001\n",
            "[39,     4] loss: 0.001\n",
            "[40,     4] loss: 0.001\n",
            "[41,     4] loss: 0.001\n",
            "[42,     4] loss: 0.001\n",
            "[43,     4] loss: 0.001\n",
            "[44,     4] loss: 0.001\n",
            "[45,     4] loss: 0.001\n",
            "[46,     4] loss: 0.001\n",
            "[47,     4] loss: 0.001\n",
            "[48,     4] loss: 0.001\n",
            "[49,     4] loss: 0.001\n",
            "[50,     4] loss: 0.001\n",
            "[51,     4] loss: 0.001\n",
            "[52,     4] loss: 0.001\n",
            "[53,     4] loss: 0.001\n",
            "[54,     4] loss: 0.001\n",
            "[55,     4] loss: 0.001\n",
            "[56,     4] loss: 0.001\n",
            "[57,     4] loss: 0.001\n",
            "[58,     4] loss: 0.001\n",
            "[59,     4] loss: 0.001\n",
            "[60,     4] loss: 0.001\n",
            "[61,     4] loss: 0.001\n",
            "[62,     4] loss: 0.001\n",
            "[63,     4] loss: 0.001\n",
            "[64,     4] loss: 0.001\n",
            "[65,     4] loss: 0.001\n",
            "[66,     4] loss: 0.001\n",
            "[67,     4] loss: 0.001\n",
            "[68,     4] loss: 0.001\n",
            "[69,     4] loss: 0.001\n",
            "[70,     4] loss: 0.001\n",
            "Finished Training\n",
            "Accuracy of the network on the 1000 train images: 100 %\n",
            "Accuracy of the network on the 1000 test dataset 1: 45 %\n",
            "Accuracy of the network on the 1000 test dataset 2: 61 %\n",
            "Accuracy of the network on the 1000 test dataset 3: 79 %\n",
            "Accuracy of the network on the 1000 test dataset 4: 94 %\n",
            "Accuracy of the network on the 1000 test dataset 5: 99 %\n",
            "Accuracy of the network on the 1000 test dataset 6: 100 %\n",
            "Accuracy of the network on the 1000 test dataset 7: 100 %\n",
            "Accuracy of the network on the 1000 test dataset 8: 100 %\n",
            "Accuracy of the network on the 1000 test dataset 9: 100 %\n",
            "--------------------------------------------------------------------------------\n"
          ],
          "name": "stdout"
        }
      ]
    },
    {
      "cell_type": "code",
      "metadata": {
        "id": "kdh1-GQ17re7",
        "colab_type": "code",
        "colab": {
          "base_uri": "https://localhost:8080/",
          "height": 296
        },
        "outputId": "1721b2e9-5d72-4b13-f017-4f1b0de91d91"
      },
      "source": [
        "ds = np.arange(1,10)\n",
        "for i in range(9):\n",
        "  plt.plot(ds,train_loss_all[i][1], label=\"dataset_\"+str(i+1))\n",
        "plt.legend(loc='center left', bbox_to_anchor=(1, 0.5))\n",
        "plt.xlabel(\"dataset\")\n",
        "plt.ylabel(\"train accuracy\")"
      ],
      "execution_count": 248,
      "outputs": [
        {
          "output_type": "execute_result",
          "data": {
            "text/plain": [
              "Text(0, 0.5, 'train accuracy')"
            ]
          },
          "metadata": {
            "tags": []
          },
          "execution_count": 248
        },
        {
          "output_type": "display_data",
          "data": {
            "image/png": "[encoded data removed]",
            "text/plain": [
              "<Figure size 432x288 with 1 Axes>"
            ]
          },
          "metadata": {
            "tags": []
          }
        }
      ]
    },
    {
      "cell_type": "code",
      "metadata": {
        "id": "eQVRrvG5_kgi",
        "colab_type": "code",
        "colab": {
          "base_uri": "https://localhost:8080/",
          "height": 296
        },
        "outputId": "1925cda6-2cd4-485d-d561-68842266c407"
      },
      "source": [
        "ds = np.arange(1,71)\n",
        "for i in range(9):\n",
        "  plt.plot(ds,train_loss_all[i][0], label=\"dataset_\"+str(i))\n",
        "plt.legend(loc='center left', bbox_to_anchor=(1, 0.5))\n",
        "plt.xlabel(\"epochs\")\n",
        "plt.ylabel(\"log loss\")"
      ],
      "execution_count": 249,
      "outputs": [
        {
          "output_type": "execute_result",
          "data": {
            "text/plain": [
              "Text(0, 0.5, 'log loss')"
            ]
          },
          "metadata": {
            "tags": []
          },
          "execution_count": 249
        },
        {
          "output_type": "display_data",
          "data": {
            "image/png": "[encoded data removed]",
            "text/plain": [
              "<Figure size 432x288 with 1 Axes>"
            ]
          },
          "metadata": {
            "tags": []
          }
        }
      ]
    },
    {
      "cell_type": "code",
      "metadata": {
        "id": "fZBBg7gMA0D7",
        "colab_type": "code",
        "colab": {}
      },
      "source": [
        ""
      ],
      "execution_count": 0,
      "outputs": []
    }
  ]
}