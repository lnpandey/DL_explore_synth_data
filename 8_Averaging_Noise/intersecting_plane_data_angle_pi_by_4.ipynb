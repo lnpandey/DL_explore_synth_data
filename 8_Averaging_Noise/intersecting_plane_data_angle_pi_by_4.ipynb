{
  "nbformat": 4,
  "nbformat_minor": 0,
  "metadata": {
    "accelerator": "GPU",
    "colab": {
      "name": "intersecting plane data.ipynb",
      "provenance": []
    },
    "kernelspec": {
      "name": "python3",
      "display_name": "Python 3"
    },
    "language_info": {
      "codemirror_mode": {
        "name": "ipython",
        "version": 3
      },
      "file_extension": ".py",
      "mimetype": "text/x-python",
      "name": "python",
      "nbconvert_exporter": "python",
      "pygments_lexer": "ipython3",
      "version": "3.7.4"
    }
  },
  "cells": [
    {
      "cell_type": "code",
      "metadata": {
        "colab_type": "code",
        "id": "1BoZq7wLFmUz",
        "colab": {}
      },
      "source": [
        "import numpy as np\n",
        "import pandas as pd\n",
        "from matplotlib import pyplot as plt\n",
        "\n",
        "import math as m\n",
        "%matplotlib inline\n",
        "\n",
        "import torch\n",
        "import torchvision\n",
        "\n",
        "import torchvision.transforms as transforms\n",
        "import torch.nn as nn\n",
        "import torch.optim as optim\n",
        "import torch.nn.functional as F\n",
        "import random\n",
        "\n",
        "from torch.utils.data import Dataset, DataLoader\n",
        "from mpl_toolkits.mplot3d import Axes3D"
      ],
      "execution_count": 0,
      "outputs": []
    },
    {
      "cell_type": "code",
      "metadata": {
        "id": "tUJ_Yy2K7rcu",
        "colab_type": "code",
        "colab": {
          "base_uri": "https://localhost:8080/",
          "height": 191
        },
        "outputId": "03628fb4-d316-4d18-fd62-b363f163fee9"
      },
      "source": [
        "y = np.random.randint(0,10,1000)\n",
        "idx= []\n",
        "for i in range(10):\n",
        "    print(i,sum(y==i))\n",
        "    idx.append(y==i) \n",
        "x = np.zeros((1000,2))\n",
        "\n",
        "x0=x[idx[0],:] = np.random.multivariate_normal(mean = [2,2],cov=[[0.01,0],[0,0.01]],size=sum(idx[0]))\n",
        "\n",
        "\n",
        "x[idx[1],:] = np.random.multivariate_normal(mean = [0,-2],cov=[[0.01,0],[0,0.01]],size=sum(idx[1]))\n",
        "\n",
        "\n",
        "x[idx[2],:] = np.random.multivariate_normal(mean = [-2,2],cov=[[0.01,0],[0,0.01]],size=sum(idx[2]))\n",
        "\n",
        "\n",
        "\n",
        "x[idx[3],:] = np.random.multivariate_normal(mean = [0,0],cov=[[0.01,0],[0,0.01]],size=sum(idx[3]))\n",
        "\n",
        "\n",
        "x[idx[4],:] = np.random.multivariate_normal(mean =[-2,-4] ,cov=[[0.01,0],[0,0.01]],size=sum(idx[4]))\n",
        "\n",
        "\n",
        "\n",
        "x[idx[5],:] = np.random.multivariate_normal(mean = [2,-4],cov=[[0.01,0],[0,0.01]],size=sum(idx[5]))\n",
        "\n",
        "\n",
        "x[idx[6],:] = np.random.multivariate_normal(mean = [-4,0],cov=[[0.01,0],[0,0.01]],size=sum(idx[6]))\n",
        "\n",
        "\n",
        "x[idx[7],:] = np.random.multivariate_normal(mean = [-2,4],cov=[[0.01,0],[0,0.01]],size=sum(idx[7]))\n",
        "\n",
        "\n",
        "x[idx[8],:] = np.random.multivariate_normal(mean = [2,4],cov=[[0.01,0],[0,0.01]],size=sum(idx[8]))\n",
        "\n",
        "\n",
        "x[idx[9],:] = np.random.multivariate_normal(mean = [4,0],cov=[[0.01,0],[0,0.01]],size=sum(idx[9]))\n",
        "\n",
        "idx= []\n",
        "for i in range(10):\n",
        "    #print(i,sum(y==i))\n",
        "    idx.append(y==i)"
      ],
      "execution_count": 323,
      "outputs": [
        {
          "output_type": "stream",
          "text": [
            "0 105\n",
            "1 93\n",
            "2 107\n",
            "3 100\n",
            "4 85\n",
            "5 114\n",
            "6 99\n",
            "7 109\n",
            "8 87\n",
            "9 101\n"
          ],
          "name": "stdout"
        }
      ]
    },
    {
      "cell_type": "code",
      "metadata": {
        "id": "JU6oN0Kh7rc2",
        "colab_type": "code",
        "colab": {
          "base_uri": "https://localhost:8080/",
          "height": 282
        },
        "outputId": "a74522bc-cebd-4664-81ee-4dc9908b8207"
      },
      "source": [
        "for i in range(10):\n",
        "    plt.scatter(x[idx[i],0],x[idx[i],1],label=\"class_\"+str(i))\n",
        "plt.legend(loc='center left', bbox_to_anchor=(1, 0.5))"
      ],
      "execution_count": 324,
      "outputs": [
        {
          "output_type": "execute_result",
          "data": {
            "text/plain": [
              "<matplotlib.legend.Legend at 0x7f5e1152a4e0>"
            ]
          },
          "metadata": {
            "tags": []
          },
          "execution_count": 324
        },
        {
          "output_type": "display_data",
          "data": {
            "image/png": "[encoded data removed]",
            "text/plain": [
              "<Figure size 432x288 with 1 Axes>"
            ]
          },
          "metadata": {
            "tags": []
          }
        }
      ]
    },
    {
      "cell_type": "code",
      "metadata": {
        "id": "14ashkYi7rc8",
        "colab_type": "code",
        "colab": {
          "base_uri": "https://localhost:8080/",
          "height": 139
        },
        "outputId": "28588769-a736-405b-ceeb-cafd152e81ff"
      },
      "source": [
        "z = np.zeros((1000,1))\n",
        "x = np.concatenate((x, z) , axis =1)\n",
        "x"
      ],
      "execution_count": 325,
      "outputs": [
        {
          "output_type": "execute_result",
          "data": {
            "text/plain": [
              "array([[ 1.95253633,  3.95961068,  0.        ],\n",
              "       [ 2.13504913, -3.94315362,  0.        ],\n",
              "       [ 2.0416767 ,  2.17349477,  0.        ],\n",
              "       ...,\n",
              "       [ 4.11504799, -0.05856384,  0.        ],\n",
              "       [ 2.14294491,  1.98617536,  0.        ],\n",
              "       [ 3.98866043, -0.1665575 ,  0.        ]])"
            ]
          },
          "metadata": {
            "tags": []
          },
          "execution_count": 325
        }
      ]
    },
    {
      "cell_type": "code",
      "metadata": {
        "id": "DVFOWDxp7rdB",
        "colab_type": "code",
        "colab": {
          "base_uri": "https://localhost:8080/",
          "height": 34
        },
        "outputId": "dbd488ec-4a39-4e79-9dc1-2fa358689fdf"
      },
      "source": [
        "x.shape"
      ],
      "execution_count": 326,
      "outputs": [
        {
          "output_type": "execute_result",
          "data": {
            "text/plain": [
              "(1000, 3)"
            ]
          },
          "metadata": {
            "tags": []
          },
          "execution_count": 326
        }
      ]
    },
    {
      "cell_type": "code",
      "metadata": {
        "scrolled": true,
        "id": "2Y0sMSmk7rdG",
        "colab_type": "code",
        "colab": {
          "base_uri": "https://localhost:8080/",
          "height": 265
        },
        "outputId": "b0bfbc46-4fa9-42ca-f0c6-76ede91c80d7"
      },
      "source": [
        "fig = plt.figure()\n",
        "ax = fig.add_subplot(111, projection='3d')\n",
        "for i in range(10):\n",
        "    ax.scatter(x[idx[i],0],x[idx[i],1],x[idx[i],2],label=\"class_\"+str(i))\n",
        "ax.legend(loc='center left', bbox_to_anchor=(1, 0.5))"
      ],
      "execution_count": 327,
      "outputs": [
        {
          "output_type": "execute_result",
          "data": {
            "text/plain": [
              "<matplotlib.legend.Legend at 0x7f5e1146f390>"
            ]
          },
          "metadata": {
            "tags": []
          },
          "execution_count": 327
        },
        {
          "output_type": "display_data",
          "data": {
            "image/png": "[encoded data removed]",
            "text/plain": [
              "<Figure size 432x288 with 1 Axes>"
            ]
          },
          "metadata": {
            "tags": []
          }
        }
      ]
    },
    {
      "cell_type": "code",
      "metadata": {
        "id": "lcg9BoOD7rdL",
        "colab_type": "code",
        "colab": {
          "base_uri": "https://localhost:8080/",
          "height": 265
        },
        "outputId": "e7cf178c-7950-44d3-9cd2-6e366b3d3191"
      },
      "source": [
        "normal = np.array([0,0,1])\n",
        "# a plane is a*x+b*y+c*z+d=0\n",
        "# [a,b,c] is the normal. Thus, we have to calculate\n",
        "# d and we're set\n",
        "d = 0\n",
        "\n",
        "# create x,y\n",
        "xx, yy = np.meshgrid(range(5), range(5))\n",
        "\n",
        "# calculate corresponding z\n",
        "z = (-normal[0] * xx - normal[1] * yy - d) * 1. /normal[2]\n",
        "\n",
        "# plot the surface\n",
        "plt3d = plt.figure().gca(projection='3d')\n",
        "plt3d.plot_surface(xx, yy, z, alpha=0.5)\n",
        "\n",
        "# fig = plt.figure()\n",
        "ax = plt.gca()\n",
        "for i in range(10):\n",
        "    ax.scatter(x[idx[i],0],x[idx[i],1],x[idx[i],2],label=\"class_\"+str(i))\n",
        "ax.legend(loc='center left', bbox_to_anchor=(1, 0.5))"
      ],
      "execution_count": 328,
      "outputs": [
        {
          "output_type": "execute_result",
          "data": {
            "text/plain": [
              "<matplotlib.legend.Legend at 0x7f5e113a6da0>"
            ]
          },
          "metadata": {
            "tags": []
          },
          "execution_count": 328
        },
        {
          "output_type": "display_data",
          "data": {
            "image/png": "[encoded data removed]",
            "text/plain": [
              "<Figure size 432x288 with 1 Axes>"
            ]
          },
          "metadata": {
            "tags": []
          }
        }
      ]
    },
    {
      "cell_type": "markdown",
      "metadata": {
        "id": "l-7ncm8a7rdQ",
        "colab_type": "text"
      },
      "source": [
        "## angle = pi/2, p1: z = 0, p2: 2x + 3y = 0\n",
        "## angle = pi/6, p1: z = 0, p2: 2x + 3y + sqrt(39)z = 0\n",
        "## angle = pi/3, p1: z = 0, p2: 2x + 3y + sqrt(13/3)z = 0"
      ]
    },
    {
      "cell_type": "code",
      "metadata": {
        "id": "_vup63g47rdR",
        "colab_type": "code",
        "colab": {
          "base_uri": "https://localhost:8080/",
          "height": 34
        },
        "outputId": "e9832821-74d9-45f1-e386-990fb2577433"
      },
      "source": [
        "angle = np.pi/4\n",
        "\n",
        "a = 2\n",
        "b = 3\n",
        "if(angle == np.pi/2):\n",
        "    c=0\n",
        "else:\n",
        "    c = np.sqrt(a*a + b*b )/m.tan(angle)\n",
        "print(c)"
      ],
      "execution_count": 329,
      "outputs": [
        {
          "output_type": "stream",
          "text": [
            "3.6055512754639896\n"
          ],
          "name": "stdout"
        }
      ]
    },
    {
      "cell_type": "code",
      "metadata": {
        "scrolled": true,
        "id": "pLqmqeA47rdY",
        "colab_type": "code",
        "colab": {
          "base_uri": "https://localhost:8080/",
          "height": 1000
        },
        "outputId": "64001260-ef61-45c8-f389-53c6380f3325"
      },
      "source": [
        "x[idx[0],:]"
      ],
      "execution_count": 330,
      "outputs": [
        {
          "output_type": "execute_result",
          "data": {
            "text/plain": [
              "array([[2.0416767 , 2.17349477, 0.        ],\n",
              "       [2.01720201, 2.07555065, 0.        ],\n",
              "       [2.10703875, 2.00928945, 0.        ],\n",
              "       [2.0789864 , 2.11750264, 0.        ],\n",
              "       [1.97943534, 1.9947598 , 0.        ],\n",
              "       [1.97049601, 1.79244087, 0.        ],\n",
              "       [2.03098848, 2.00833241, 0.        ],\n",
              "       [1.97455735, 1.89642063, 0.        ],\n",
              "       [2.08295015, 2.04587681, 0.        ],\n",
              "       [1.90834081, 2.06843153, 0.        ],\n",
              "       [2.03848862, 2.00831181, 0.        ],\n",
              "       [1.89785759, 1.88664073, 0.        ],\n",
              "       [1.8755328 , 2.01055549, 0.        ],\n",
              "       [2.00920097, 1.9968965 , 0.        ],\n",
              "       [2.15645366, 1.90805106, 0.        ],\n",
              "       [1.83879038, 2.05674954, 0.        ],\n",
              "       [1.86993326, 2.07496384, 0.        ],\n",
              "       [1.91865701, 1.86005639, 0.        ],\n",
              "       [1.88569317, 2.121056  , 0.        ],\n",
              "       [2.09843859, 2.14096727, 0.        ],\n",
              "       [2.00984744, 1.93681266, 0.        ],\n",
              "       [2.12873581, 1.92684203, 0.        ],\n",
              "       [1.93404385, 2.00783606, 0.        ],\n",
              "       [2.11914925, 1.98537423, 0.        ],\n",
              "       [2.0078082 , 2.06750239, 0.        ],\n",
              "       [2.04179593, 1.89825209, 0.        ],\n",
              "       [1.88897755, 1.90881099, 0.        ],\n",
              "       [1.81563036, 2.00967252, 0.        ],\n",
              "       [1.85039593, 2.00919752, 0.        ],\n",
              "       [1.87075829, 1.9852049 , 0.        ],\n",
              "       [1.91538603, 1.80984185, 0.        ],\n",
              "       [2.04415185, 2.13616247, 0.        ],\n",
              "       [2.12850559, 1.96451391, 0.        ],\n",
              "       [2.07426157, 1.95794382, 0.        ],\n",
              "       [2.06094764, 2.08781762, 0.        ],\n",
              "       [1.84141578, 1.94981535, 0.        ],\n",
              "       [1.98833715, 2.08041967, 0.        ],\n",
              "       [2.03108127, 1.83362446, 0.        ],\n",
              "       [1.96585612, 1.95444734, 0.        ],\n",
              "       [1.98161432, 2.04852767, 0.        ],\n",
              "       [2.10642245, 1.96651398, 0.        ],\n",
              "       [2.03171921, 2.12485478, 0.        ],\n",
              "       [2.19892433, 2.00430752, 0.        ],\n",
              "       [2.18656157, 2.02256953, 0.        ],\n",
              "       [2.0127378 , 2.11669783, 0.        ],\n",
              "       [2.08821938, 2.02942735, 0.        ],\n",
              "       [2.06158804, 2.05895282, 0.        ],\n",
              "       [2.07441411, 1.98437806, 0.        ],\n",
              "       [1.72835993, 1.9859406 , 0.        ],\n",
              "       [1.90352663, 2.11590814, 0.        ],\n",
              "       [1.88133589, 2.06191616, 0.        ],\n",
              "       [2.14786735, 2.0514588 , 0.        ],\n",
              "       [1.91351303, 1.96184307, 0.        ],\n",
              "       [2.02413824, 1.90998992, 0.        ],\n",
              "       [1.90552528, 1.79584225, 0.        ],\n",
              "       [1.99512037, 2.11799414, 0.        ],\n",
              "       [2.07356899, 2.15181888, 0.        ],\n",
              "       [2.15167664, 1.85507114, 0.        ],\n",
              "       [2.05650478, 2.12665781, 0.        ],\n",
              "       [2.1200545 , 1.98345815, 0.        ],\n",
              "       [2.01012699, 1.89913887, 0.        ],\n",
              "       [1.89448191, 1.98569632, 0.        ],\n",
              "       [2.21733344, 1.96913035, 0.        ],\n",
              "       [1.93445535, 1.97280754, 0.        ],\n",
              "       [1.98742321, 2.0055323 , 0.        ],\n",
              "       [1.9129767 , 1.99717182, 0.        ],\n",
              "       [1.9596515 , 2.09234425, 0.        ],\n",
              "       [1.97021791, 1.95145391, 0.        ],\n",
              "       [1.87964179, 1.99001761, 0.        ],\n",
              "       [1.9515219 , 2.10528507, 0.        ],\n",
              "       [2.03468353, 1.90208401, 0.        ],\n",
              "       [2.09073823, 1.89061538, 0.        ],\n",
              "       [1.88896555, 1.88255208, 0.        ],\n",
              "       [1.95573535, 1.94692357, 0.        ],\n",
              "       [1.83294122, 2.12088226, 0.        ],\n",
              "       [1.97647164, 1.92585249, 0.        ],\n",
              "       [2.0033854 , 2.17292   , 0.        ],\n",
              "       [1.94375445, 1.98937561, 0.        ],\n",
              "       [1.92096418, 1.95505244, 0.        ],\n",
              "       [1.94152431, 2.04012626, 0.        ],\n",
              "       [1.99398991, 2.02767432, 0.        ],\n",
              "       [1.99704847, 2.07360254, 0.        ],\n",
              "       [1.94625023, 1.90272753, 0.        ],\n",
              "       [2.01570772, 1.87474212, 0.        ],\n",
              "       [2.13494525, 1.95199993, 0.        ],\n",
              "       [2.16097873, 2.04896264, 0.        ],\n",
              "       [2.0774429 , 2.06789351, 0.        ],\n",
              "       [1.99273344, 2.08221852, 0.        ],\n",
              "       [1.89194363, 2.0676018 , 0.        ],\n",
              "       [2.05336404, 1.78485179, 0.        ],\n",
              "       [2.06929678, 2.03623172, 0.        ],\n",
              "       [1.95672124, 2.092308  , 0.        ],\n",
              "       [1.99282135, 1.94823116, 0.        ],\n",
              "       [2.08031668, 1.92293134, 0.        ],\n",
              "       [1.9114081 , 1.96929512, 0.        ],\n",
              "       [2.09378083, 1.96074721, 0.        ],\n",
              "       [1.96631278, 1.64589772, 0.        ],\n",
              "       [1.85598495, 1.98547048, 0.        ],\n",
              "       [2.07891302, 1.94467477, 0.        ],\n",
              "       [2.12364524, 1.9714097 , 0.        ],\n",
              "       [1.95702769, 1.97236848, 0.        ],\n",
              "       [2.08865866, 1.89536478, 0.        ],\n",
              "       [1.99137252, 2.09735669, 0.        ],\n",
              "       [1.96841632, 2.04140084, 0.        ],\n",
              "       [2.14294491, 1.98617536, 0.        ]])"
            ]
          },
          "metadata": {
            "tags": []
          },
          "execution_count": 330
        }
      ]
    },
    {
      "cell_type": "code",
      "metadata": {
        "id": "2WeuxtXx7rdd",
        "colab_type": "code",
        "colab": {
          "base_uri": "https://localhost:8080/",
          "height": 139
        },
        "outputId": "d698b271-3edd-4f47-9605-b3172a435d12"
      },
      "source": [
        "x[idx[0],2]"
      ],
      "execution_count": 331,
      "outputs": [
        {
          "output_type": "execute_result",
          "data": {
            "text/plain": [
              "array([0., 0., 0., 0., 0., 0., 0., 0., 0., 0., 0., 0., 0., 0., 0., 0., 0.,\n",
              "       0., 0., 0., 0., 0., 0., 0., 0., 0., 0., 0., 0., 0., 0., 0., 0., 0.,\n",
              "       0., 0., 0., 0., 0., 0., 0., 0., 0., 0., 0., 0., 0., 0., 0., 0., 0.,\n",
              "       0., 0., 0., 0., 0., 0., 0., 0., 0., 0., 0., 0., 0., 0., 0., 0., 0.,\n",
              "       0., 0., 0., 0., 0., 0., 0., 0., 0., 0., 0., 0., 0., 0., 0., 0., 0.,\n",
              "       0., 0., 0., 0., 0., 0., 0., 0., 0., 0., 0., 0., 0., 0., 0., 0., 0.,\n",
              "       0., 0., 0.])"
            ]
          },
          "metadata": {
            "tags": []
          },
          "execution_count": 331
        }
      ]
    },
    {
      "cell_type": "code",
      "metadata": {
        "scrolled": true,
        "id": "rlCv6Q4S7rdh",
        "colab_type": "code",
        "colab": {}
      },
      "source": [
        "if(angle == np.pi/2):\n",
        "    for i in range(3):\n",
        "        x[idx[i],2] = (i+2)*(x[idx[i],0] + x[idx[i],1])/(x[idx[i],0] + x[idx[i],1])\n",
        "else:\n",
        "    for i in range(3):\n",
        "        x[idx[i],2] = (2*x[idx[i],0] + 3*x[idx[i],1])/c\n"
      ],
      "execution_count": 0,
      "outputs": []
    },
    {
      "cell_type": "code",
      "metadata": {
        "scrolled": true,
        "id": "bRw7_9wU7rdl",
        "colab_type": "code",
        "colab": {
          "base_uri": "https://localhost:8080/",
          "height": 1000
        },
        "outputId": "9ffc0c3a-d3b4-4b4e-c186-68809a5f3596"
      },
      "source": [
        "x[idx[0],:]"
      ],
      "execution_count": 333,
      "outputs": [
        {
          "output_type": "execute_result",
          "data": {
            "text/plain": [
              "array([[2.0416767 , 2.17349477, 2.94097543],\n",
              "       [2.01720201, 2.07555065, 2.84590488],\n",
              "       [2.10703875, 2.00928945, 2.84060469],\n",
              "       [2.0789864 , 2.11750264, 2.91508286],\n",
              "       [1.97943534, 1.9947598 , 2.75773365],\n",
              "       [1.97049601, 1.79244087, 2.58443548],\n",
              "       [2.03098848, 2.00833241, 2.79762328],\n",
              "       [1.97455735, 1.89642063, 2.6732047 ],\n",
              "       [2.08295015, 2.04587681, 2.85768525],\n",
              "       [1.90834081, 2.06843153, 2.77959609],\n",
              "       [2.03848862, 2.00831181, 2.80176647],\n",
              "       [1.89785759, 1.88664073, 2.62252195],\n",
              "       [1.8755328 , 2.01055549, 2.7132417 ],\n",
              "       [2.00920097, 1.9968965 , 2.77602249],\n",
              "       [2.15645366, 1.90805106, 2.78377971],\n",
              "       [1.83879038, 2.05674954, 2.73129645],\n",
              "       [1.86993326, 2.07496384, 2.76372662],\n",
              "       [1.91865701, 1.86005639, 2.61193989],\n",
              "       [1.88569317, 2.121056  , 2.81081964],\n",
              "       [2.09843859, 2.14096727, 2.94539674],\n",
              "       [2.00984744, 1.93681266, 2.72638831],\n",
              "       [2.12873581, 1.92684203, 2.78403965],\n",
              "       [1.93404385, 2.00783606, 2.74343508],\n",
              "       [2.11914925, 1.98537423, 2.82742372],\n",
              "       [2.0078082 , 2.06750239, 2.83399757],\n",
              "       [2.04179593, 1.89825209, 2.71202582],\n",
              "       [1.88897755, 1.90881099, 2.63604296],\n",
              "       [1.81563036, 2.00967252, 2.67927913],\n",
              "       [1.85039593, 2.00919752, 2.69816837],\n",
              "       [1.87075829, 1.9852049 , 2.68950031],\n",
              "       [1.91538603, 1.80984185, 2.56834445],\n",
              "       [2.04415185, 2.13616247, 2.91128604],\n",
              "       [2.12850559, 1.96451391, 2.81525685],\n",
              "       [2.07426157, 1.95794382, 2.77970103],\n",
              "       [2.06094764, 2.08781762, 2.88037733],\n",
              "       [1.84141578, 1.94981535, 2.64377813],\n",
              "       [1.98833715, 2.08041967, 2.8339448 ],\n",
              "       [2.03108127, 1.83362446, 2.65230895],\n",
              "       [1.96585612, 1.95444734, 2.71665926],\n",
              "       [1.98161432, 2.04852767, 2.80367991],\n",
              "       [2.10642245, 1.96651398, 2.80467149],\n",
              "       [2.03171921, 2.12485478, 2.89498109],\n",
              "       [2.19892433, 2.00430752, 2.88742842],\n",
              "       [2.18656157, 2.02256953, 2.89576571],\n",
              "       [2.0127378 , 2.11669783, 2.87766511],\n",
              "       [2.08821938, 2.02942735, 2.84692132],\n",
              "       [2.06158804, 2.05895282, 2.85671559],\n",
              "       [2.07441411, 1.98437806, 2.80178026],\n",
              "       [1.72835993, 1.9859406 , 2.61112405],\n",
              "       [1.90352663, 2.11590814, 2.81642858],\n",
              "       [1.88133589, 2.06191616, 2.75919533],\n",
              "       [2.14786735, 2.0514588 , 2.89833934],\n",
              "       [1.91351303, 1.96184307, 2.69377816],\n",
              "       [2.02413824, 1.90998992, 2.71199755],\n",
              "       [1.90552528, 1.79584225, 2.55122632],\n",
              "       [1.99512037, 2.11799414, 2.86897131],\n",
              "       [2.07356899, 2.15181888, 2.94063066],\n",
              "       [2.15167664, 1.85507114, 2.73704794],\n",
              "       [2.05650478, 2.12665781, 2.91022987],\n",
              "       [2.1200545 , 1.98345815, 2.82633159],\n",
              "       [2.01012699, 1.89913887, 2.69519689],\n",
              "       [1.89448191, 1.98569632, 2.7030687 ],\n",
              "       [2.21733344, 1.96913035, 2.86837078],\n",
              "       [1.93445535, 1.97280754, 2.71451786],\n",
              "       [1.98742321, 2.0055323 , 2.77112778],\n",
              "       [1.9129767 , 1.99717182, 2.72287595],\n",
              "       [1.9596515 , 2.09234425, 2.82795472],\n",
              "       [1.97021791, 1.95145391, 2.71658807],\n",
              "       [1.87964179, 1.99001761, 2.69843241],\n",
              "       [1.9515219 , 2.10528507, 2.83421264],\n",
              "       [2.03468353, 1.90208401, 2.71126891],\n",
              "       [2.09073823, 1.89061538, 2.73281999],\n",
              "       [1.88896555, 1.88255208, 2.61418757],\n",
              "       [1.95573535, 1.94692357, 2.70478511],\n",
              "       [1.83294122, 2.12088226, 2.78141356],\n",
              "       [1.97647164, 1.92585249, 2.69875534],\n",
              "       [2.0033854 , 2.17292   , 2.919257  ],\n",
              "       [1.94375445, 1.98937561, 2.73346153],\n",
              "       [1.92096418, 1.95505244, 2.69226116],\n",
              "       [1.94152431, 2.04012626, 2.77445157],\n",
              "       [1.99398991, 2.02767432, 2.79319361],\n",
              "       [1.99704847, 2.07360254, 2.83310478],\n",
              "       [1.94625023, 1.90272753, 2.66275039],\n",
              "       [2.01570772, 1.87474212, 2.6779932 ],\n",
              "       [2.13494525, 1.95199993, 2.80841666],\n",
              "       [2.16097873, 2.04896264, 2.90353529],\n",
              "       [2.0774429 , 2.06789351, 2.87294939],\n",
              "       [1.99273344, 2.08221852, 2.83788017],\n",
              "       [1.89194363, 2.0676018 , 2.76981019],\n",
              "       [2.05336404, 1.78485179, 2.62408789],\n",
              "       [2.06929678, 2.03623172, 2.84208653],\n",
              "       [1.95672124, 2.092308  , 2.82629915],\n",
              "       [1.99282135, 1.94823116, 2.72644471],\n",
              "       [2.08031668, 1.92293134, 2.75392766],\n",
              "       [1.9114081 , 1.96929512, 2.69881103],\n",
              "       [2.09378083, 1.96074721, 2.79286093],\n",
              "       [1.96631278, 1.64589772, 2.46018377],\n",
              "       [1.85598495, 1.98547048, 2.68152651],\n",
              "       [2.07891302, 1.94467477, 2.77124068],\n",
              "       [2.12364524, 1.9714097 , 2.81829845],\n",
              "       [1.95702769, 1.97236848, 2.72667342],\n",
              "       [2.08865866, 1.89536478, 2.73561819],\n",
              "       [1.99137252, 2.09735669, 2.84972098],\n",
              "       [1.96841632, 2.04140084, 2.79042909],\n",
              "       [2.14294491, 1.98617536, 2.84128975]])"
            ]
          },
          "metadata": {
            "tags": []
          },
          "execution_count": 333
        }
      ]
    },
    {
      "cell_type": "code",
      "metadata": {
        "scrolled": true,
        "id": "oVrnw8Yj7rdp",
        "colab_type": "code",
        "colab": {
          "base_uri": "https://localhost:8080/",
          "height": 265
        },
        "outputId": "74c67db2-f70a-4faf-f584-41def31b254d"
      },
      "source": [
        "fig = plt.figure()\n",
        "ax = fig.add_subplot(111, projection='3d')\n",
        "for i in range(10):\n",
        "    ax.scatter(x[idx[i],0],x[idx[i],1],x[idx[i],2],label=\"class_\"+str(i))\n",
        "ax.legend(loc='center left', bbox_to_anchor=(1, 0.5))"
      ],
      "execution_count": 334,
      "outputs": [
        {
          "output_type": "execute_result",
          "data": {
            "text/plain": [
              "<matplotlib.legend.Legend at 0x7f5e112e8550>"
            ]
          },
          "metadata": {
            "tags": []
          },
          "execution_count": 334
        },
        {
          "output_type": "display_data",
          "data": {
            "image/png": "[encoded data removed]",
            "text/plain": [
              "<Figure size 432x288 with 1 Axes>"
            ]
          },
          "metadata": {
            "tags": []
          }
        }
      ]
    },
    {
      "cell_type": "code",
      "metadata": {
        "id": "8J5HPflY7rdt",
        "colab_type": "code",
        "colab": {
          "base_uri": "https://localhost:8080/",
          "height": 265
        },
        "outputId": "7c1da985-e663-42e2-ca7c-baf282bb9028"
      },
      "source": [
        "normal = np.array([a,b,c])\n",
        "# a plane is a*x+b*y+c*z+d=0\n",
        "# [a,b,c] is the normal. Thus, we have to calculate\n",
        "# d and we're set\n",
        "d = 0\n",
        "\n",
        "# create x,y\n",
        "xx, yy = np.meshgrid(range(5), range(5))\n",
        "\n",
        "# calculate corresponding z\n",
        "z = -(-normal[0] * xx - normal[1] * yy - d) * 1. /normal[2]\n",
        "\n",
        "# plot the surface\n",
        "plt3d = plt.figure().gca(projection='3d')\n",
        "plt3d.plot_surface(xx, yy, z, alpha=0.5)\n",
        "\n",
        "# fig = plt.figure()\n",
        "ax = plt.gca()\n",
        "for i in range(10):\n",
        "    ax.scatter(x[idx[i],0],x[idx[i],1],x[idx[i],2],label=\"class_\"+str(i))\n",
        "ax.legend(loc='center left', bbox_to_anchor=(1, 0.5))"
      ],
      "execution_count": 335,
      "outputs": [
        {
          "output_type": "execute_result",
          "data": {
            "text/plain": [
              "<matplotlib.legend.Legend at 0x7f5e1121d3c8>"
            ]
          },
          "metadata": {
            "tags": []
          },
          "execution_count": 335
        },
        {
          "output_type": "display_data",
          "data": {
            "image/png": "[encoded data removed]",
            "text/plain": [
              "<Figure size 432x288 with 1 Axes>"
            ]
          },
          "metadata": {
            "tags": []
          }
        }
      ]
    },
    {
      "cell_type": "code",
      "metadata": {
        "id": "TJYoUUi27reF",
        "colab_type": "code",
        "colab": {
          "base_uri": "https://localhost:8080/",
          "height": 34
        },
        "outputId": "2fae406d-160a-4558-dc20-622e1d717447"
      },
      "source": [
        "x.shape,y.shape"
      ],
      "execution_count": 336,
      "outputs": [
        {
          "output_type": "execute_result",
          "data": {
            "text/plain": [
              "((1000, 3), (1000,))"
            ]
          },
          "metadata": {
            "tags": []
          },
          "execution_count": 336
        }
      ]
    },
    {
      "cell_type": "code",
      "metadata": {
        "id": "57yfZoDX7reI",
        "colab_type": "code",
        "colab": {}
      },
      "source": [
        "classes  = ('0', '1', '2','3', '4', '5', '6', '7','8', '9')\n",
        "foreground_classes = {'0', '1', '2'}\n",
        "\n",
        "background_classes = {'3', '4', '5', '6', '7','8', '9'}\n"
      ],
      "execution_count": 0,
      "outputs": []
    },
    {
      "cell_type": "code",
      "metadata": {
        "id": "XQ0Lz_GW7reL",
        "colab_type": "code",
        "colab": {}
      },
      "source": [
        "class sub_clust_data(Dataset):\n",
        "    def __init__(self,x, y):\n",
        "        self.x = torch.Tensor(x)\n",
        "        self.y = torch.Tensor(y).type(torch.LongTensor)\n",
        "    #self.fore_idx = fore_idx\n",
        "    \n",
        "    def __len__(self):\n",
        "        return len(self.y)\n",
        "\n",
        "    def __getitem__(self, idx):\n",
        "        return self.x[idx] , self.y[idx] #, self.fore_idx[idx]"
      ],
      "execution_count": 0,
      "outputs": []
    },
    {
      "cell_type": "code",
      "metadata": {
        "id": "1pH6faRT7reO",
        "colab_type": "code",
        "colab": {}
      },
      "source": [
        "trainset = sub_clust_data(x,y)"
      ],
      "execution_count": 0,
      "outputs": []
    },
    {
      "cell_type": "code",
      "metadata": {
        "id": "nQQBN6d47reR",
        "colab_type": "code",
        "colab": {}
      },
      "source": [
        "trainloader = torch.utils.data.DataLoader(trainset, batch_size=10, shuffle=True)"
      ],
      "execution_count": 0,
      "outputs": []
    },
    {
      "cell_type": "code",
      "metadata": {
        "id": "UUU-ibU47reU",
        "colab_type": "code",
        "colab": {}
      },
      "source": [
        "dataiter = iter(trainloader)\n",
        "background_data=[]\n",
        "background_label=[]\n",
        "foreground_data=[]\n",
        "foreground_label=[]\n",
        "batch_size=10\n",
        "\n",
        "for i in range(100):   #5000*batch_size = 50000 data points\n",
        "    images, labels = dataiter.next()\n",
        "    for j in range(batch_size):\n",
        "        if(classes[labels[j]] in background_classes):\n",
        "            img = images[j].tolist()\n",
        "            background_data.append(img)\n",
        "            background_label.append(labels[j])\n",
        "        else:\n",
        "            img = images[j].tolist()\n",
        "            foreground_data.append(img)\n",
        "            foreground_label.append(labels[j])"
      ],
      "execution_count": 0,
      "outputs": []
    },
    {
      "cell_type": "code",
      "metadata": {
        "id": "mh7y2Afy7reW",
        "colab_type": "code",
        "colab": {
          "base_uri": "https://localhost:8080/",
          "height": 34
        },
        "outputId": "b7725f55-b500-4c8b-8fd4-a8450c5ecf0a"
      },
      "source": [
        "np.shape(foreground_data),np.shape(foreground_label)"
      ],
      "execution_count": 342,
      "outputs": [
        {
          "output_type": "execute_result",
          "data": {
            "text/plain": [
              "((305, 3), (305,))"
            ]
          },
          "metadata": {
            "tags": []
          },
          "execution_count": 342
        }
      ]
    },
    {
      "cell_type": "code",
      "metadata": {
        "id": "bIk5bgiq7reZ",
        "colab_type": "code",
        "colab": {
          "base_uri": "https://localhost:8080/",
          "height": 34
        },
        "outputId": "43a81978-3b59-4890-8095-17648534cb4d"
      },
      "source": [
        "np.shape(background_data),np.shape(background_label)"
      ],
      "execution_count": 343,
      "outputs": [
        {
          "output_type": "execute_result",
          "data": {
            "text/plain": [
              "((695, 3), (695,))"
            ]
          },
          "metadata": {
            "tags": []
          },
          "execution_count": 343
        }
      ]
    },
    {
      "cell_type": "code",
      "metadata": {
        "id": "kF9mgUkz7red",
        "colab_type": "code",
        "colab": {}
      },
      "source": [
        "foreground_data = torch.tensor(foreground_data)\n",
        "foreground_label = torch.tensor(foreground_label).type(torch.LongTensor)\n",
        "background_data = torch.tensor(background_data)\n",
        "background_label = torch.tensor(background_label).type(torch.LongTensor)"
      ],
      "execution_count": 0,
      "outputs": []
    },
    {
      "cell_type": "code",
      "metadata": {
        "id": "QmYT2mXj7reg",
        "colab_type": "code",
        "colab": {}
      },
      "source": [
        "def create_mosaic_img(bg_idx,fg_idx,fg): \n",
        "    image_list=[]\n",
        "    j=0\n",
        "    for i in range(9):\n",
        "        if i != fg:\n",
        "            image_list.append(background_data[bg_idx[j]].type(\"torch.DoubleTensor\"))\n",
        "            j+=1\n",
        "        else: \n",
        "            image_list.append(foreground_data[fg_idx].type(\"torch.DoubleTensor\"))\n",
        "            label = foreground_label[fg_idx]  #-7  # minus 7 because our fore ground classes are 7,8,9 but we have to store it as 0,1,2\n",
        "    #image_list = np.concatenate(image_list ,axis=0)\n",
        "    image_list = torch.stack(image_list) \n",
        "    return image_list,label"
      ],
      "execution_count": 0,
      "outputs": []
    },
    {
      "cell_type": "code",
      "metadata": {
        "id": "mGueYoxU-3wL",
        "colab_type": "code",
        "colab": {
          "base_uri": "https://localhost:8080/",
          "height": 34
        },
        "outputId": "19be5a3a-c202-49af-f6d9-07502ea72934"
      },
      "source": [
        "fg_nos = np.shape(foreground_label)[0]\n",
        "bg_nos = np.shape(background_label)[0]\n",
        "bg_nos, fg_nos"
      ],
      "execution_count": 346,
      "outputs": [
        {
          "output_type": "execute_result",
          "data": {
            "text/plain": [
              "(695, 305)"
            ]
          },
          "metadata": {
            "tags": []
          },
          "execution_count": 346
        }
      ]
    },
    {
      "cell_type": "code",
      "metadata": {
        "id": "sHCgXuqs7rek",
        "colab_type": "code",
        "colab": {}
      },
      "source": [
        "desired_num = 1000\n",
        "mosaic_list_of_images =[]      # list of mosaic images, each mosaic image is saved as list of 9 images\n",
        "fore_idx =[]                   # list of indexes at which foreground image is present in a mosaic image i.e from 0 to 9               \n",
        "mosaic_label=[]                # label of mosaic image = foreground class present in that mosaic\n",
        "for i in range(desired_num):\n",
        "    bg_idx = np.random.randint(0,bg_nos,8)\n",
        "    fg_idx = np.random.randint(0,fg_nos)\n",
        "    fg = np.random.randint(0,9)\n",
        "    fore_idx.append(fg)\n",
        "    image_list,label = create_mosaic_img(bg_idx,fg_idx,fg)\n",
        "    mosaic_list_of_images.append(image_list)\n",
        "    mosaic_label.append(label)"
      ],
      "execution_count": 0,
      "outputs": []
    },
    {
      "cell_type": "code",
      "metadata": {
        "id": "4vSUeW8M7rem",
        "colab_type": "code",
        "colab": {}
      },
      "source": [
        "def create_avg_image_from_mosaic_dataset(mosaic_dataset,labels,foreground_index,dataset_number):\n",
        "    avg_image_dataset = []\n",
        "    for i in range(len(mosaic_dataset)):\n",
        "        img = torch.zeros([3], dtype=torch.float64)\n",
        "        for j in range(9):\n",
        "            if j == foreground_index[i]:\n",
        "                img = img + mosaic_dataset[i][j]*dataset_number/9\n",
        "            else :\n",
        "                img = img + mosaic_dataset[i][j]*(9-dataset_number)/(8*9)\n",
        "    \n",
        "        avg_image_dataset.append(img)\n",
        "    \n",
        "    return avg_image_dataset , labels , foreground_index"
      ],
      "execution_count": 0,
      "outputs": []
    },
    {
      "cell_type": "code",
      "metadata": {
        "id": "YXlqfhEr7rep",
        "colab_type": "code",
        "colab": {}
      },
      "source": [
        "avg_image_dataset_1 , labels_1,  fg_index_1 = create_avg_image_from_mosaic_dataset(mosaic_list_of_images[0:1000], mosaic_label[0:1000], fore_idx[0:1000] , 1)\n",
        "avg_image_dataset_2 , labels_2,  fg_index_2 = create_avg_image_from_mosaic_dataset(mosaic_list_of_images[0:1000], mosaic_label[0:1000], fore_idx[0:1000] , 2)\n",
        "avg_image_dataset_3 , labels_3,  fg_index_3 = create_avg_image_from_mosaic_dataset(mosaic_list_of_images[0:1000], mosaic_label[0:1000], fore_idx[0:1000] , 3)\n",
        "avg_image_dataset_4 , labels_4,  fg_index_4 = create_avg_image_from_mosaic_dataset(mosaic_list_of_images[0:1000], mosaic_label[0:1000], fore_idx[0:1000] , 4)\n",
        "avg_image_dataset_5 , labels_5,  fg_index_5 = create_avg_image_from_mosaic_dataset(mosaic_list_of_images[0:1000], mosaic_label[0:1000], fore_idx[0:1000] , 5)\n",
        "avg_image_dataset_6 , labels_6,  fg_index_6 = create_avg_image_from_mosaic_dataset(mosaic_list_of_images[0:1000], mosaic_label[0:1000], fore_idx[0:1000] , 6)\n",
        "avg_image_dataset_7 , labels_7,  fg_index_7 = create_avg_image_from_mosaic_dataset(mosaic_list_of_images[0:1000], mosaic_label[0:1000], fore_idx[0:1000] , 7)\n",
        "avg_image_dataset_8 , labels_8,  fg_index_8 = create_avg_image_from_mosaic_dataset(mosaic_list_of_images[0:1000], mosaic_label[0:1000], fore_idx[0:1000] , 8)\n",
        "avg_image_dataset_9 , labels_9,  fg_index_9 = create_avg_image_from_mosaic_dataset(mosaic_list_of_images[0:1000], mosaic_label[0:1000], fore_idx[0:1000] , 9)\n",
        "\n",
        "#test_dataset_10 , labels_10 , fg_index_10 = create_avg_image_from_mosaic_dataset(mosaic_list_of_images[10000:20000], mosaic_label[10000:20000], fore_idx[10000:20000] , 9)"
      ],
      "execution_count": 0,
      "outputs": []
    },
    {
      "cell_type": "code",
      "metadata": {
        "id": "ZHeLv0Fg7res",
        "colab_type": "code",
        "colab": {}
      },
      "source": [
        "class MosaicDataset(Dataset):\n",
        "    \"\"\"MosaicDataset dataset.\"\"\"\n",
        "\n",
        "    def __init__(self, mosaic_list_of_images, mosaic_label):\n",
        "        \"\"\"\n",
        "          Args:\n",
        "            csv_file (string): Path to the csv file with annotations.\n",
        "            root_dir (string): Directory with all the images.\n",
        "            transform (callable, optional): Optional transform to be applied\n",
        "                on a sample.\n",
        "        \"\"\"\n",
        "        self.mosaic = mosaic_list_of_images\n",
        "        self.label = mosaic_label\n",
        "        #self.fore_idx = fore_idx\n",
        "    \n",
        "    def __len__(self):\n",
        "        return len(self.label)\n",
        "\n",
        "    def __getitem__(self, idx):\n",
        "        return self.mosaic[idx] , self.label[idx] #, self.fore_idx[idx]"
      ],
      "execution_count": 0,
      "outputs": []
    },
    {
      "cell_type": "code",
      "metadata": {
        "id": "Wa7qkACK7reu",
        "colab_type": "code",
        "colab": {}
      },
      "source": [
        "batch = 256\n",
        "\n",
        "\n",
        "# training_data = avg_image_dataset_5    #just change this and training_label to desired dataset for training\n",
        "# training_label = labels_5\n",
        "\n",
        "traindata_1 = MosaicDataset(avg_image_dataset_1, labels_1 )\n",
        "trainloader_1 = DataLoader( traindata_1 , batch_size= batch ,shuffle=True)\n",
        "\n",
        "traindata_2 = MosaicDataset(avg_image_dataset_2, labels_2 )\n",
        "trainloader_2 = DataLoader( traindata_2 , batch_size= batch ,shuffle=True)\n",
        "\n",
        "traindata_3 = MosaicDataset(avg_image_dataset_3, labels_3 )\n",
        "trainloader_3 = DataLoader( traindata_3 , batch_size= batch ,shuffle=True)\n",
        "\n",
        "traindata_4 = MosaicDataset(avg_image_dataset_4, labels_4 )\n",
        "trainloader_4 = DataLoader( traindata_4 , batch_size= batch ,shuffle=True)\n",
        "\n",
        "traindata_5 = MosaicDataset(avg_image_dataset_5, labels_5 )\n",
        "trainloader_5 = DataLoader( traindata_5 , batch_size= batch ,shuffle=True)\n",
        "\n",
        "traindata_6 = MosaicDataset(avg_image_dataset_6, labels_6 )\n",
        "trainloader_6 = DataLoader( traindata_6 , batch_size= batch ,shuffle=True)\n",
        "\n",
        "traindata_7 = MosaicDataset(avg_image_dataset_7, labels_7 )\n",
        "trainloader_7 = DataLoader( traindata_7 , batch_size= batch ,shuffle=True)\n",
        "\n",
        "traindata_8 = MosaicDataset(avg_image_dataset_8, labels_8 )\n",
        "trainloader_8 = DataLoader( traindata_8 , batch_size= batch ,shuffle=True)\n",
        "\n",
        "traindata_9 = MosaicDataset(avg_image_dataset_9, labels_9 )\n",
        "trainloader_9 = DataLoader( traindata_9 , batch_size= batch ,shuffle=True)\n",
        "\n",
        "testdata_1 = MosaicDataset(avg_image_dataset_1, labels_1 )\n",
        "testloader_1 = DataLoader( testdata_1 , batch_size= batch ,shuffle=False)\n",
        "\n",
        "testdata_2 = MosaicDataset(avg_image_dataset_2, labels_2 )\n",
        "testloader_2 = DataLoader( testdata_2 , batch_size= batch ,shuffle=False)\n",
        "\n",
        "testdata_3 = MosaicDataset(avg_image_dataset_3, labels_3 )\n",
        "testloader_3 = DataLoader( testdata_3 , batch_size= batch ,shuffle=False)\n",
        "\n",
        "testdata_4 = MosaicDataset(avg_image_dataset_4, labels_4 )\n",
        "testloader_4 = DataLoader( testdata_4 , batch_size= batch ,shuffle=False)\n",
        "\n",
        "testdata_5 = MosaicDataset(avg_image_dataset_5, labels_5 )\n",
        "testloader_5 = DataLoader( testdata_5 , batch_size= batch ,shuffle=False)\n",
        "\n",
        "testdata_6 = MosaicDataset(avg_image_dataset_6, labels_6 )\n",
        "testloader_6 = DataLoader( testdata_6 , batch_size= batch ,shuffle=False)\n",
        "\n",
        "testdata_7 = MosaicDataset(avg_image_dataset_7, labels_7 )\n",
        "testloader_7 = DataLoader( testdata_7 , batch_size= batch ,shuffle=False)\n",
        "\n",
        "testdata_8 = MosaicDataset(avg_image_dataset_8, labels_8 )\n",
        "testloader_8 = DataLoader( testdata_8 , batch_size= batch ,shuffle=False)\n",
        "\n",
        "testdata_9 = MosaicDataset(avg_image_dataset_9, labels_9 )\n",
        "testloader_9 = DataLoader( testdata_9 , batch_size= batch ,shuffle=False)\n",
        "\n"
      ],
      "execution_count": 0,
      "outputs": []
    },
    {
      "cell_type": "code",
      "metadata": {
        "id": "BQZy-c_O7rew",
        "colab_type": "code",
        "colab": {}
      },
      "source": [
        "class Net(nn.Module):\n",
        "    def __init__(self):\n",
        "        super(Net,self).__init__()\n",
        "        self.linear1 = nn.Linear(3,64)\n",
        "        self.linear2 = nn.Linear(64,128)\n",
        "        \n",
        "        self.linear3 = nn.Linear(128,3)\n",
        "        \n",
        "    def forward(self,x):\n",
        "        x = F.relu(self.linear1(x))\n",
        "        \n",
        "        x = F.relu(self.linear2(x))\n",
        "        \n",
        "        x = self.linear3(x)\n",
        "        \n",
        "        return x"
      ],
      "execution_count": 0,
      "outputs": []
    },
    {
      "cell_type": "code",
      "metadata": {
        "id": "EAEYaDjw8_wT",
        "colab_type": "code",
        "colab": {}
      },
      "source": [
        ""
      ],
      "execution_count": 0,
      "outputs": []
    },
    {
      "cell_type": "code",
      "metadata": {
        "id": "VR-IzVmU7rez",
        "colab_type": "code",
        "colab": {}
      },
      "source": [
        "def test_all(number, testloader,inc):\n",
        "    correct = 0\n",
        "    total = 0\n",
        "    out = []\n",
        "    pred = []\n",
        "    with torch.no_grad():\n",
        "        for data in testloader:\n",
        "            images, labels = data\n",
        "            images, labels = images.to(\"cuda\"),labels.to(\"cuda\")\n",
        "            out.append(labels.cpu().numpy())\n",
        "            outputs= inc(images)\n",
        "            _, predicted = torch.max(outputs.data, 1)\n",
        "            pred.append(predicted.cpu().numpy())\n",
        "            total += labels.size(0)\n",
        "            correct += (predicted == labels).sum().item()\n",
        "\n",
        "    print('Accuracy of the network on the 1000 test dataset %d: %d %%' % (number , 100 * correct / total))\n",
        "    return 100 * correct / total"
      ],
      "execution_count": 0,
      "outputs": []
    },
    {
      "cell_type": "code",
      "metadata": {
        "id": "1_FPcf0t7re2",
        "colab_type": "code",
        "colab": {}
      },
      "source": [
        "def train_all(trainloader, ds_number, testloader_list):\n",
        "    \n",
        "    print(\"--\"*40)\n",
        "    print(\"training on data set  \", ds_number)\n",
        "    \n",
        "    inc = Net().double()\n",
        "    inc = inc.to(\"cuda\")\n",
        "    \n",
        "    criterion_inception = nn.CrossEntropyLoss()\n",
        "    optimizer_inception = optim.SGD(inc.parameters(), lr=0.01, momentum=0.9)\n",
        "    \n",
        "    acti = []\n",
        "    loss_curi = []\n",
        "    epochs = 70\n",
        "    \n",
        "    for epoch in range(epochs): # loop over the dataset multiple times\n",
        "        ep_lossi = []\n",
        "\n",
        "        running_loss = 0.0\n",
        "        for i, data in enumerate(trainloader, 0):\n",
        "            # get the inputs\n",
        "            inputs, labels = data\n",
        "            inputs, labels = inputs.to(\"cuda\"),labels.to(\"cuda\")\n",
        "\n",
        "            # zero the parameter gradients\n",
        "            optimizer_inception.zero_grad()\n",
        "\n",
        "            # forward + backward + optimize\n",
        "            outputs = inc(inputs)\n",
        "            loss = criterion_inception(outputs, labels)\n",
        "            loss.backward()\n",
        "            optimizer_inception.step()\n",
        "\n",
        "            # print statistics\n",
        "            running_loss += loss.item()\n",
        "            mini=4\n",
        "            if i % mini == mini-1:    # print every 10 mini-batches\n",
        "                print('[%d, %5d] loss: %.3f' %\n",
        "                      (epoch + 1, i + 1, running_loss / mini))\n",
        "                ep_lossi.append(running_loss/mini) # loss per minibatch\n",
        "                running_loss = 0.0\n",
        "        \n",
        "        # if(np.mean(ep_lossi)<=0.01):\n",
        "        #     break\n",
        "        loss_curi.append(np.mean(ep_lossi))   #loss per epoch\n",
        "\n",
        "\n",
        "\n",
        "\n",
        "    print('Finished Training')\n",
        "#     torch.save(inc.state_dict(),\"/content/drive/My Drive/Research/Experiments on CIFAR mosaic/Exp_2_Attention_models_on_9_datasets_made_from_10k_mosaic/weights/train_dataset_\"+str(ds_number)+\"_\"+str(epochs)+\".pt\")\n",
        "    \n",
        "    correct = 0\n",
        "    total = 0\n",
        "    with torch.no_grad():\n",
        "        for data in trainloader:\n",
        "            images, labels = data\n",
        "            images, labels = images.to(\"cuda\"), labels.to(\"cuda\")\n",
        "            outputs = inc(images)\n",
        "            _, predicted = torch.max(outputs.data, 1)\n",
        "            total += labels.size(0)\n",
        "            correct += (predicted == labels).sum().item()\n",
        "\n",
        "    print('Accuracy of the network on the 1000 train images: %d %%' % (  100 * correct / total))\n",
        "    \n",
        "    test_list=[]\n",
        "    for i, j in enumerate(testloader_list):\n",
        "        test_list.append(test_all(i+1, j,inc))\n",
        "    \n",
        "    print(\"--\"*40)\n",
        "    \n",
        "    return loss_curi,test_list"
      ],
      "execution_count": 0,
      "outputs": []
    },
    {
      "cell_type": "code",
      "metadata": {
        "id": "xC65oNSz7re3",
        "colab_type": "code",
        "colab": {
          "base_uri": "https://localhost:8080/",
          "height": 1000
        },
        "outputId": "48fe0cbc-7f3b-4351-9b49-02f3183a09fd"
      },
      "source": [
        "train_loss_all=[]\n",
        "\n",
        "testloader_list= [ testloader_1, testloader_2, testloader_3, testloader_4, testloader_5, testloader_6,\n",
        "                 testloader_7, testloader_8, testloader_9]\n",
        "\n",
        "test1 = train_loss_all.append(train_all(trainloader_1, 1, testloader_list))\n",
        "test2 = train_loss_all.append(train_all(trainloader_2, 2, testloader_list))\n",
        "test3 = train_loss_all.append(train_all(trainloader_3, 3, testloader_list))\n",
        "test4 = train_loss_all.append(train_all(trainloader_4, 4, testloader_list))\n",
        "test5 = train_loss_all.append(train_all(trainloader_5, 5, testloader_list))\n",
        "test6 = train_loss_all.append(train_all(trainloader_6, 6, testloader_list))\n",
        "test7 = train_loss_all.append(train_all(trainloader_7, 7, testloader_list))\n",
        "test8 = train_loss_all.append(train_all(trainloader_8, 8, testloader_list))\n",
        "test9 = train_loss_all.append(train_all(trainloader_9, 9, testloader_list))"
      ],
      "execution_count": 355,
      "outputs": [
        {
          "output_type": "stream",
          "text": [
            "--------------------------------------------------------------------------------\n",
            "training on data set   1\n",
            "[1,     4] loss: 1.102\n",
            "[2,     4] loss: 1.096\n",
            "[3,     4] loss: 1.088\n",
            "[4,     4] loss: 1.080\n",
            "[5,     4] loss: 1.072\n",
            "[6,     4] loss: 1.064\n",
            "[7,     4] loss: 1.056\n",
            "[8,     4] loss: 1.048\n",
            "[9,     4] loss: 1.041\n",
            "[10,     4] loss: 1.032\n",
            "[11,     4] loss: 1.023\n",
            "[12,     4] loss: 1.014\n",
            "[13,     4] loss: 1.006\n",
            "[14,     4] loss: 0.996\n",
            "[15,     4] loss: 0.986\n",
            "[16,     4] loss: 0.974\n",
            "[17,     4] loss: 0.961\n",
            "[18,     4] loss: 0.949\n",
            "[19,     4] loss: 0.934\n",
            "[20,     4] loss: 0.919\n",
            "[21,     4] loss: 0.902\n",
            "[22,     4] loss: 0.884\n",
            "[23,     4] loss: 0.864\n",
            "[24,     4] loss: 0.843\n",
            "[25,     4] loss: 0.821\n",
            "[26,     4] loss: 0.796\n",
            "[27,     4] loss: 0.770\n",
            "[28,     4] loss: 0.744\n",
            "[29,     4] loss: 0.715\n",
            "[30,     4] loss: 0.687\n",
            "[31,     4] loss: 0.658\n",
            "[32,     4] loss: 0.627\n",
            "[33,     4] loss: 0.598\n",
            "[34,     4] loss: 0.568\n",
            "[35,     4] loss: 0.539\n",
            "[36,     4] loss: 0.510\n",
            "[37,     4] loss: 0.483\n",
            "[38,     4] loss: 0.455\n",
            "[39,     4] loss: 0.428\n",
            "[40,     4] loss: 0.403\n",
            "[41,     4] loss: 0.378\n",
            "[42,     4] loss: 0.355\n",
            "[43,     4] loss: 0.332\n",
            "[44,     4] loss: 0.310\n",
            "[45,     4] loss: 0.289\n",
            "[46,     4] loss: 0.269\n",
            "[47,     4] loss: 0.250\n",
            "[48,     4] loss: 0.232\n",
            "[49,     4] loss: 0.215\n",
            "[50,     4] loss: 0.200\n",
            "[51,     4] loss: 0.185\n",
            "[52,     4] loss: 0.172\n",
            "[53,     4] loss: 0.159\n",
            "[54,     4] loss: 0.147\n",
            "[55,     4] loss: 0.137\n",
            "[56,     4] loss: 0.127\n",
            "[57,     4] loss: 0.118\n",
            "[58,     4] loss: 0.110\n",
            "[59,     4] loss: 0.103\n",
            "[60,     4] loss: 0.096\n",
            "[61,     4] loss: 0.090\n",
            "[62,     4] loss: 0.084\n",
            "[63,     4] loss: 0.079\n",
            "[64,     4] loss: 0.074\n",
            "[65,     4] loss: 0.070\n",
            "[66,     4] loss: 0.066\n",
            "[67,     4] loss: 0.062\n",
            "[68,     4] loss: 0.059\n",
            "[69,     4] loss: 0.056\n",
            "[70,     4] loss: 0.053\n",
            "Finished Training\n",
            "Accuracy of the network on the 1000 train images: 100 %\n",
            "Accuracy of the network on the 1000 test dataset 1: 100 %\n",
            "Accuracy of the network on the 1000 test dataset 2: 99 %\n",
            "Accuracy of the network on the 1000 test dataset 3: 79 %\n",
            "Accuracy of the network on the 1000 test dataset 4: 67 %\n",
            "Accuracy of the network on the 1000 test dataset 5: 64 %\n",
            "Accuracy of the network on the 1000 test dataset 6: 63 %\n",
            "Accuracy of the network on the 1000 test dataset 7: 63 %\n",
            "Accuracy of the network on the 1000 test dataset 8: 63 %\n",
            "Accuracy of the network on the 1000 test dataset 9: 63 %\n",
            "--------------------------------------------------------------------------------\n",
            "--------------------------------------------------------------------------------\n",
            "training on data set   2\n",
            "[1,     4] loss: 1.102\n",
            "[2,     4] loss: 1.084\n",
            "[3,     4] loss: 1.055\n",
            "[4,     4] loss: 1.023\n",
            "[5,     4] loss: 0.992\n",
            "[6,     4] loss: 0.960\n",
            "[7,     4] loss: 0.926\n",
            "[8,     4] loss: 0.889\n",
            "[9,     4] loss: 0.852\n",
            "[10,     4] loss: 0.812\n",
            "[11,     4] loss: 0.771\n",
            "[12,     4] loss: 0.731\n",
            "[13,     4] loss: 0.690\n",
            "[14,     4] loss: 0.651\n",
            "[15,     4] loss: 0.612\n",
            "[16,     4] loss: 0.573\n",
            "[17,     4] loss: 0.535\n",
            "[18,     4] loss: 0.499\n",
            "[19,     4] loss: 0.466\n",
            "[20,     4] loss: 0.432\n",
            "[21,     4] loss: 0.401\n",
            "[22,     4] loss: 0.372\n",
            "[23,     4] loss: 0.344\n",
            "[24,     4] loss: 0.319\n",
            "[25,     4] loss: 0.293\n",
            "[26,     4] loss: 0.270\n",
            "[27,     4] loss: 0.248\n",
            "[28,     4] loss: 0.228\n",
            "[29,     4] loss: 0.209\n",
            "[30,     4] loss: 0.191\n",
            "[31,     4] loss: 0.174\n",
            "[32,     4] loss: 0.159\n",
            "[33,     4] loss: 0.144\n",
            "[34,     4] loss: 0.132\n",
            "[35,     4] loss: 0.120\n",
            "[36,     4] loss: 0.110\n",
            "[37,     4] loss: 0.101\n",
            "[38,     4] loss: 0.092\n",
            "[39,     4] loss: 0.085\n",
            "[40,     4] loss: 0.078\n",
            "[41,     4] loss: 0.072\n",
            "[42,     4] loss: 0.067\n",
            "[43,     4] loss: 0.062\n",
            "[44,     4] loss: 0.057\n",
            "[45,     4] loss: 0.054\n",
            "[46,     4] loss: 0.050\n",
            "[47,     4] loss: 0.047\n",
            "[48,     4] loss: 0.044\n",
            "[49,     4] loss: 0.042\n",
            "[50,     4] loss: 0.039\n",
            "[51,     4] loss: 0.037\n",
            "[52,     4] loss: 0.035\n",
            "[53,     4] loss: 0.033\n",
            "[54,     4] loss: 0.032\n",
            "[55,     4] loss: 0.030\n",
            "[56,     4] loss: 0.029\n",
            "[57,     4] loss: 0.027\n",
            "[58,     4] loss: 0.026\n",
            "[59,     4] loss: 0.025\n",
            "[60,     4] loss: 0.024\n",
            "[61,     4] loss: 0.023\n",
            "[62,     4] loss: 0.022\n",
            "[63,     4] loss: 0.021\n",
            "[64,     4] loss: 0.020\n",
            "[65,     4] loss: 0.020\n",
            "[66,     4] loss: 0.019\n",
            "[67,     4] loss: 0.018\n",
            "[68,     4] loss: 0.018\n",
            "[69,     4] loss: 0.017\n",
            "[70,     4] loss: 0.017\n",
            "Finished Training\n",
            "Accuracy of the network on the 1000 train images: 100 %\n",
            "Accuracy of the network on the 1000 test dataset 1: 66 %\n",
            "Accuracy of the network on the 1000 test dataset 2: 100 %\n",
            "Accuracy of the network on the 1000 test dataset 3: 100 %\n",
            "Accuracy of the network on the 1000 test dataset 4: 99 %\n",
            "Accuracy of the network on the 1000 test dataset 5: 98 %\n",
            "Accuracy of the network on the 1000 test dataset 6: 96 %\n",
            "Accuracy of the network on the 1000 test dataset 7: 96 %\n",
            "Accuracy of the network on the 1000 test dataset 8: 95 %\n",
            "Accuracy of the network on the 1000 test dataset 9: 96 %\n",
            "--------------------------------------------------------------------------------\n",
            "--------------------------------------------------------------------------------\n",
            "training on data set   3\n",
            "[1,     4] loss: 1.083\n",
            "[2,     4] loss: 1.053\n",
            "[3,     4] loss: 1.006\n",
            "[4,     4] loss: 0.949\n",
            "[5,     4] loss: 0.886\n",
            "[6,     4] loss: 0.819\n",
            "[7,     4] loss: 0.748\n",
            "[8,     4] loss: 0.676\n",
            "[9,     4] loss: 0.604\n",
            "[10,     4] loss: 0.538\n",
            "[11,     4] loss: 0.478\n",
            "[12,     4] loss: 0.425\n",
            "[13,     4] loss: 0.381\n",
            "[14,     4] loss: 0.343\n",
            "[15,     4] loss: 0.311\n",
            "[16,     4] loss: 0.283\n",
            "[17,     4] loss: 0.261\n",
            "[18,     4] loss: 0.239\n",
            "[19,     4] loss: 0.220\n",
            "[20,     4] loss: 0.205\n",
            "[21,     4] loss: 0.188\n",
            "[22,     4] loss: 0.175\n",
            "[23,     4] loss: 0.163\n",
            "[24,     4] loss: 0.151\n",
            "[25,     4] loss: 0.140\n",
            "[26,     4] loss: 0.130\n",
            "[27,     4] loss: 0.122\n",
            "[28,     4] loss: 0.113\n",
            "[29,     4] loss: 0.105\n",
            "[30,     4] loss: 0.098\n",
            "[31,     4] loss: 0.091\n",
            "[32,     4] loss: 0.085\n",
            "[33,     4] loss: 0.080\n",
            "[34,     4] loss: 0.075\n",
            "[35,     4] loss: 0.070\n",
            "[36,     4] loss: 0.066\n",
            "[37,     4] loss: 0.062\n",
            "[38,     4] loss: 0.058\n",
            "[39,     4] loss: 0.055\n",
            "[40,     4] loss: 0.052\n",
            "[41,     4] loss: 0.049\n",
            "[42,     4] loss: 0.046\n",
            "[43,     4] loss: 0.044\n",
            "[44,     4] loss: 0.041\n",
            "[45,     4] loss: 0.039\n",
            "[46,     4] loss: 0.037\n",
            "[47,     4] loss: 0.035\n",
            "[48,     4] loss: 0.034\n",
            "[49,     4] loss: 0.032\n",
            "[50,     4] loss: 0.031\n",
            "[51,     4] loss: 0.029\n",
            "[52,     4] loss: 0.028\n",
            "[53,     4] loss: 0.027\n",
            "[54,     4] loss: 0.026\n",
            "[55,     4] loss: 0.025\n",
            "[56,     4] loss: 0.024\n",
            "[57,     4] loss: 0.023\n",
            "[58,     4] loss: 0.022\n",
            "[59,     4] loss: 0.021\n",
            "[60,     4] loss: 0.020\n",
            "[61,     4] loss: 0.020\n",
            "[62,     4] loss: 0.019\n",
            "[63,     4] loss: 0.018\n",
            "[64,     4] loss: 0.018\n",
            "[65,     4] loss: 0.017\n",
            "[66,     4] loss: 0.016\n",
            "[67,     4] loss: 0.016\n",
            "[68,     4] loss: 0.016\n",
            "[69,     4] loss: 0.015\n",
            "[70,     4] loss: 0.015\n",
            "Finished Training\n",
            "Accuracy of the network on the 1000 train images: 100 %\n",
            "Accuracy of the network on the 1000 test dataset 1: 56 %\n",
            "Accuracy of the network on the 1000 test dataset 2: 93 %\n",
            "Accuracy of the network on the 1000 test dataset 3: 100 %\n",
            "Accuracy of the network on the 1000 test dataset 4: 100 %\n",
            "Accuracy of the network on the 1000 test dataset 5: 100 %\n",
            "Accuracy of the network on the 1000 test dataset 6: 100 %\n",
            "Accuracy of the network on the 1000 test dataset 7: 100 %\n",
            "Accuracy of the network on the 1000 test dataset 8: 100 %\n",
            "Accuracy of the network on the 1000 test dataset 9: 100 %\n",
            "--------------------------------------------------------------------------------\n",
            "--------------------------------------------------------------------------------\n",
            "training on data set   4\n",
            "[1,     4] loss: 1.099\n",
            "[2,     4] loss: 1.035\n",
            "[3,     4] loss: 0.941\n",
            "[4,     4] loss: 0.834\n",
            "[5,     4] loss: 0.726\n",
            "[6,     4] loss: 0.617\n",
            "[7,     4] loss: 0.510\n",
            "[8,     4] loss: 0.411\n",
            "[9,     4] loss: 0.328\n",
            "[10,     4] loss: 0.262\n",
            "[11,     4] loss: 0.213\n",
            "[12,     4] loss: 0.178\n",
            "[13,     4] loss: 0.152\n",
            "[14,     4] loss: 0.133\n",
            "[15,     4] loss: 0.119\n",
            "[16,     4] loss: 0.109\n",
            "[17,     4] loss: 0.102\n",
            "[18,     4] loss: 0.094\n",
            "[19,     4] loss: 0.089\n",
            "[20,     4] loss: 0.084\n",
            "[21,     4] loss: 0.080\n",
            "[22,     4] loss: 0.077\n",
            "[23,     4] loss: 0.074\n",
            "[24,     4] loss: 0.071\n",
            "[25,     4] loss: 0.069\n",
            "[26,     4] loss: 0.067\n",
            "[27,     4] loss: 0.065\n",
            "[28,     4] loss: 0.062\n",
            "[29,     4] loss: 0.061\n",
            "[30,     4] loss: 0.059\n",
            "[31,     4] loss: 0.057\n",
            "[32,     4] loss: 0.056\n",
            "[33,     4] loss: 0.054\n",
            "[34,     4] loss: 0.052\n",
            "[35,     4] loss: 0.051\n",
            "[36,     4] loss: 0.050\n",
            "[37,     4] loss: 0.048\n",
            "[38,     4] loss: 0.047\n",
            "[39,     4] loss: 0.046\n",
            "[40,     4] loss: 0.044\n",
            "[41,     4] loss: 0.043\n",
            "[42,     4] loss: 0.042\n",
            "[43,     4] loss: 0.041\n",
            "[44,     4] loss: 0.040\n",
            "[45,     4] loss: 0.039\n",
            "[46,     4] loss: 0.038\n",
            "[47,     4] loss: 0.037\n",
            "[48,     4] loss: 0.036\n",
            "[49,     4] loss: 0.036\n",
            "[50,     4] loss: 0.034\n",
            "[51,     4] loss: 0.033\n",
            "[52,     4] loss: 0.033\n",
            "[53,     4] loss: 0.032\n",
            "[54,     4] loss: 0.031\n",
            "[55,     4] loss: 0.031\n",
            "[56,     4] loss: 0.030\n",
            "[57,     4] loss: 0.029\n",
            "[58,     4] loss: 0.029\n",
            "[59,     4] loss: 0.028\n",
            "[60,     4] loss: 0.027\n",
            "[61,     4] loss: 0.026\n",
            "[62,     4] loss: 0.026\n",
            "[63,     4] loss: 0.025\n",
            "[64,     4] loss: 0.025\n",
            "[65,     4] loss: 0.024\n",
            "[66,     4] loss: 0.024\n",
            "[67,     4] loss: 0.023\n",
            "[68,     4] loss: 0.022\n",
            "[69,     4] loss: 0.022\n",
            "[70,     4] loss: 0.021\n",
            "Finished Training\n",
            "Accuracy of the network on the 1000 train images: 99 %\n",
            "Accuracy of the network on the 1000 test dataset 1: 48 %\n",
            "Accuracy of the network on the 1000 test dataset 2: 72 %\n",
            "Accuracy of the network on the 1000 test dataset 3: 91 %\n",
            "Accuracy of the network on the 1000 test dataset 4: 99 %\n",
            "Accuracy of the network on the 1000 test dataset 5: 100 %\n",
            "Accuracy of the network on the 1000 test dataset 6: 100 %\n",
            "Accuracy of the network on the 1000 test dataset 7: 100 %\n",
            "Accuracy of the network on the 1000 test dataset 8: 100 %\n",
            "Accuracy of the network on the 1000 test dataset 9: 100 %\n",
            "--------------------------------------------------------------------------------\n",
            "--------------------------------------------------------------------------------\n",
            "training on data set   5\n",
            "[1,     4] loss: 1.100\n",
            "[2,     4] loss: 0.988\n",
            "[3,     4] loss: 0.827\n",
            "[4,     4] loss: 0.660\n",
            "[5,     4] loss: 0.500\n",
            "[6,     4] loss: 0.358\n",
            "[7,     4] loss: 0.245\n",
            "[8,     4] loss: 0.165\n",
            "[9,     4] loss: 0.110\n",
            "[10,     4] loss: 0.076\n",
            "[11,     4] loss: 0.056\n",
            "[12,     4] loss: 0.042\n",
            "[13,     4] loss: 0.034\n",
            "[14,     4] loss: 0.028\n",
            "[15,     4] loss: 0.025\n",
            "[16,     4] loss: 0.022\n",
            "[17,     4] loss: 0.020\n",
            "[18,     4] loss: 0.018\n",
            "[19,     4] loss: 0.016\n",
            "[20,     4] loss: 0.015\n",
            "[21,     4] loss: 0.014\n",
            "[22,     4] loss: 0.013\n",
            "[23,     4] loss: 0.013\n",
            "[24,     4] loss: 0.012\n",
            "[25,     4] loss: 0.012\n",
            "[26,     4] loss: 0.011\n",
            "[27,     4] loss: 0.011\n",
            "[28,     4] loss: 0.010\n",
            "[29,     4] loss: 0.010\n",
            "[30,     4] loss: 0.010\n",
            "[31,     4] loss: 0.009\n",
            "[32,     4] loss: 0.009\n",
            "[33,     4] loss: 0.009\n",
            "[34,     4] loss: 0.008\n",
            "[35,     4] loss: 0.008\n",
            "[36,     4] loss: 0.008\n",
            "[37,     4] loss: 0.008\n",
            "[38,     4] loss: 0.007\n",
            "[39,     4] loss: 0.007\n",
            "[40,     4] loss: 0.007\n",
            "[41,     4] loss: 0.007\n",
            "[42,     4] loss: 0.007\n",
            "[43,     4] loss: 0.007\n",
            "[44,     4] loss: 0.006\n",
            "[45,     4] loss: 0.006\n",
            "[46,     4] loss: 0.006\n",
            "[47,     4] loss: 0.006\n",
            "[48,     4] loss: 0.006\n",
            "[49,     4] loss: 0.006\n",
            "[50,     4] loss: 0.006\n",
            "[51,     4] loss: 0.006\n",
            "[52,     4] loss: 0.005\n",
            "[53,     4] loss: 0.005\n",
            "[54,     4] loss: 0.005\n",
            "[55,     4] loss: 0.005\n",
            "[56,     4] loss: 0.005\n",
            "[57,     4] loss: 0.005\n",
            "[58,     4] loss: 0.005\n",
            "[59,     4] loss: 0.005\n",
            "[60,     4] loss: 0.005\n",
            "[61,     4] loss: 0.005\n",
            "[62,     4] loss: 0.005\n",
            "[63,     4] loss: 0.004\n",
            "[64,     4] loss: 0.004\n",
            "[65,     4] loss: 0.004\n",
            "[66,     4] loss: 0.004\n",
            "[67,     4] loss: 0.004\n",
            "[68,     4] loss: 0.004\n",
            "[69,     4] loss: 0.004\n",
            "[70,     4] loss: 0.004\n",
            "Finished Training\n",
            "Accuracy of the network on the 1000 train images: 100 %\n",
            "Accuracy of the network on the 1000 test dataset 1: 46 %\n",
            "Accuracy of the network on the 1000 test dataset 2: 66 %\n",
            "Accuracy of the network on the 1000 test dataset 3: 86 %\n",
            "Accuracy of the network on the 1000 test dataset 4: 97 %\n",
            "Accuracy of the network on the 1000 test dataset 5: 100 %\n",
            "Accuracy of the network on the 1000 test dataset 6: 100 %\n",
            "Accuracy of the network on the 1000 test dataset 7: 100 %\n",
            "Accuracy of the network on the 1000 test dataset 8: 100 %\n",
            "Accuracy of the network on the 1000 test dataset 9: 100 %\n",
            "--------------------------------------------------------------------------------\n",
            "--------------------------------------------------------------------------------\n",
            "training on data set   6\n",
            "[1,     4] loss: 1.106\n",
            "[2,     4] loss: 0.979\n",
            "[3,     4] loss: 0.796\n",
            "[4,     4] loss: 0.604\n",
            "[5,     4] loss: 0.421\n",
            "[6,     4] loss: 0.270\n",
            "[7,     4] loss: 0.161\n",
            "[8,     4] loss: 0.094\n",
            "[9,     4] loss: 0.056\n",
            "[10,     4] loss: 0.036\n",
            "[11,     4] loss: 0.025\n",
            "[12,     4] loss: 0.018\n",
            "[13,     4] loss: 0.014\n",
            "[14,     4] loss: 0.012\n",
            "[15,     4] loss: 0.010\n",
            "[16,     4] loss: 0.009\n",
            "[17,     4] loss: 0.008\n",
            "[18,     4] loss: 0.008\n",
            "[19,     4] loss: 0.007\n",
            "[20,     4] loss: 0.007\n",
            "[21,     4] loss: 0.006\n",
            "[22,     4] loss: 0.006\n",
            "[23,     4] loss: 0.006\n",
            "[24,     4] loss: 0.005\n",
            "[25,     4] loss: 0.005\n",
            "[26,     4] loss: 0.005\n",
            "[27,     4] loss: 0.005\n",
            "[28,     4] loss: 0.005\n",
            "[29,     4] loss: 0.004\n",
            "[30,     4] loss: 0.004\n",
            "[31,     4] loss: 0.004\n",
            "[32,     4] loss: 0.004\n",
            "[33,     4] loss: 0.004\n",
            "[34,     4] loss: 0.004\n",
            "[35,     4] loss: 0.004\n",
            "[36,     4] loss: 0.003\n",
            "[37,     4] loss: 0.003\n",
            "[38,     4] loss: 0.003\n",
            "[39,     4] loss: 0.003\n",
            "[40,     4] loss: 0.003\n",
            "[41,     4] loss: 0.003\n",
            "[42,     4] loss: 0.003\n",
            "[43,     4] loss: 0.003\n",
            "[44,     4] loss: 0.003\n",
            "[45,     4] loss: 0.003\n",
            "[46,     4] loss: 0.003\n",
            "[47,     4] loss: 0.003\n",
            "[48,     4] loss: 0.003\n",
            "[49,     4] loss: 0.003\n",
            "[50,     4] loss: 0.002\n",
            "[51,     4] loss: 0.002\n",
            "[52,     4] loss: 0.002\n",
            "[53,     4] loss: 0.002\n",
            "[54,     4] loss: 0.002\n",
            "[55,     4] loss: 0.002\n",
            "[56,     4] loss: 0.002\n",
            "[57,     4] loss: 0.002\n",
            "[58,     4] loss: 0.002\n",
            "[59,     4] loss: 0.002\n",
            "[60,     4] loss: 0.002\n",
            "[61,     4] loss: 0.002\n",
            "[62,     4] loss: 0.002\n",
            "[63,     4] loss: 0.002\n",
            "[64,     4] loss: 0.002\n",
            "[65,     4] loss: 0.002\n",
            "[66,     4] loss: 0.002\n",
            "[67,     4] loss: 0.002\n",
            "[68,     4] loss: 0.002\n",
            "[69,     4] loss: 0.002\n",
            "[70,     4] loss: 0.002\n",
            "Finished Training\n",
            "Accuracy of the network on the 1000 train images: 100 %\n",
            "Accuracy of the network on the 1000 test dataset 1: 44 %\n",
            "Accuracy of the network on the 1000 test dataset 2: 62 %\n",
            "Accuracy of the network on the 1000 test dataset 3: 84 %\n",
            "Accuracy of the network on the 1000 test dataset 4: 96 %\n",
            "Accuracy of the network on the 1000 test dataset 5: 100 %\n",
            "Accuracy of the network on the 1000 test dataset 6: 100 %\n",
            "Accuracy of the network on the 1000 test dataset 7: 100 %\n",
            "Accuracy of the network on the 1000 test dataset 8: 100 %\n",
            "Accuracy of the network on the 1000 test dataset 9: 100 %\n",
            "--------------------------------------------------------------------------------\n",
            "--------------------------------------------------------------------------------\n",
            "training on data set   7\n",
            "[1,     4] loss: 1.121\n",
            "[2,     4] loss: 0.929\n",
            "[3,     4] loss: 0.686\n",
            "[4,     4] loss: 0.460\n",
            "[5,     4] loss: 0.283\n",
            "[6,     4] loss: 0.161\n",
            "[7,     4] loss: 0.087\n",
            "[8,     4] loss: 0.048\n",
            "[9,     4] loss: 0.028\n",
            "[10,     4] loss: 0.018\n",
            "[11,     4] loss: 0.013\n",
            "[12,     4] loss: 0.010\n",
            "[13,     4] loss: 0.008\n",
            "[14,     4] loss: 0.007\n",
            "[15,     4] loss: 0.006\n",
            "[16,     4] loss: 0.005\n",
            "[17,     4] loss: 0.005\n",
            "[18,     4] loss: 0.004\n",
            "[19,     4] loss: 0.004\n",
            "[20,     4] loss: 0.004\n",
            "[21,     4] loss: 0.004\n",
            "[22,     4] loss: 0.004\n",
            "[23,     4] loss: 0.003\n",
            "[24,     4] loss: 0.003\n",
            "[25,     4] loss: 0.003\n",
            "[26,     4] loss: 0.003\n",
            "[27,     4] loss: 0.003\n",
            "[28,     4] loss: 0.003\n",
            "[29,     4] loss: 0.003\n",
            "[30,     4] loss: 0.003\n",
            "[31,     4] loss: 0.003\n",
            "[32,     4] loss: 0.002\n",
            "[33,     4] loss: 0.002\n",
            "[34,     4] loss: 0.002\n",
            "[35,     4] loss: 0.002\n",
            "[36,     4] loss: 0.002\n",
            "[37,     4] loss: 0.002\n",
            "[38,     4] loss: 0.002\n",
            "[39,     4] loss: 0.002\n",
            "[40,     4] loss: 0.002\n",
            "[41,     4] loss: 0.002\n",
            "[42,     4] loss: 0.002\n",
            "[43,     4] loss: 0.002\n",
            "[44,     4] loss: 0.002\n",
            "[45,     4] loss: 0.002\n",
            "[46,     4] loss: 0.002\n",
            "[47,     4] loss: 0.002\n",
            "[48,     4] loss: 0.002\n",
            "[49,     4] loss: 0.002\n",
            "[50,     4] loss: 0.002\n",
            "[51,     4] loss: 0.002\n",
            "[52,     4] loss: 0.002\n",
            "[53,     4] loss: 0.002\n",
            "[54,     4] loss: 0.001\n",
            "[55,     4] loss: 0.001\n",
            "[56,     4] loss: 0.001\n",
            "[57,     4] loss: 0.001\n",
            "[58,     4] loss: 0.001\n",
            "[59,     4] loss: 0.001\n",
            "[60,     4] loss: 0.001\n",
            "[61,     4] loss: 0.001\n",
            "[62,     4] loss: 0.001\n",
            "[63,     4] loss: 0.001\n",
            "[64,     4] loss: 0.001\n",
            "[65,     4] loss: 0.001\n",
            "[66,     4] loss: 0.001\n",
            "[67,     4] loss: 0.001\n",
            "[68,     4] loss: 0.001\n",
            "[69,     4] loss: 0.001\n",
            "[70,     4] loss: 0.001\n",
            "Finished Training\n",
            "Accuracy of the network on the 1000 train images: 100 %\n",
            "Accuracy of the network on the 1000 test dataset 1: 45 %\n",
            "Accuracy of the network on the 1000 test dataset 2: 65 %\n",
            "Accuracy of the network on the 1000 test dataset 3: 85 %\n",
            "Accuracy of the network on the 1000 test dataset 4: 96 %\n",
            "Accuracy of the network on the 1000 test dataset 5: 100 %\n",
            "Accuracy of the network on the 1000 test dataset 6: 100 %\n",
            "Accuracy of the network on the 1000 test dataset 7: 100 %\n",
            "Accuracy of the network on the 1000 test dataset 8: 100 %\n",
            "Accuracy of the network on the 1000 test dataset 9: 100 %\n",
            "--------------------------------------------------------------------------------\n",
            "--------------------------------------------------------------------------------\n",
            "training on data set   8\n",
            "[1,     4] loss: 1.053\n",
            "[2,     4] loss: 0.710\n",
            "[3,     4] loss: 0.375\n",
            "[4,     4] loss: 0.175\n",
            "[5,     4] loss: 0.075\n",
            "[6,     4] loss: 0.033\n",
            "[7,     4] loss: 0.016\n",
            "[8,     4] loss: 0.009\n",
            "[9,     4] loss: 0.006\n",
            "[10,     4] loss: 0.004\n",
            "[11,     4] loss: 0.004\n",
            "[12,     4] loss: 0.003\n",
            "[13,     4] loss: 0.003\n",
            "[14,     4] loss: 0.002\n",
            "[15,     4] loss: 0.002\n",
            "[16,     4] loss: 0.002\n",
            "[17,     4] loss: 0.002\n",
            "[18,     4] loss: 0.002\n",
            "[19,     4] loss: 0.002\n",
            "[20,     4] loss: 0.002\n",
            "[21,     4] loss: 0.002\n",
            "[22,     4] loss: 0.002\n",
            "[23,     4] loss: 0.002\n",
            "[24,     4] loss: 0.002\n",
            "[25,     4] loss: 0.002\n",
            "[26,     4] loss: 0.002\n",
            "[27,     4] loss: 0.001\n",
            "[28,     4] loss: 0.001\n",
            "[29,     4] loss: 0.001\n",
            "[30,     4] loss: 0.001\n",
            "[31,     4] loss: 0.001\n",
            "[32,     4] loss: 0.001\n",
            "[33,     4] loss: 0.001\n",
            "[34,     4] loss: 0.001\n",
            "[35,     4] loss: 0.001\n",
            "[36,     4] loss: 0.001\n",
            "[37,     4] loss: 0.001\n",
            "[38,     4] loss: 0.001\n",
            "[39,     4] loss: 0.001\n",
            "[40,     4] loss: 0.001\n",
            "[41,     4] loss: 0.001\n",
            "[42,     4] loss: 0.001\n",
            "[43,     4] loss: 0.001\n",
            "[44,     4] loss: 0.001\n",
            "[45,     4] loss: 0.001\n",
            "[46,     4] loss: 0.001\n",
            "[47,     4] loss: 0.001\n",
            "[48,     4] loss: 0.001\n",
            "[49,     4] loss: 0.001\n",
            "[50,     4] loss: 0.001\n",
            "[51,     4] loss: 0.001\n",
            "[52,     4] loss: 0.001\n",
            "[53,     4] loss: 0.001\n",
            "[54,     4] loss: 0.001\n",
            "[55,     4] loss: 0.001\n",
            "[56,     4] loss: 0.001\n",
            "[57,     4] loss: 0.001\n",
            "[58,     4] loss: 0.001\n",
            "[59,     4] loss: 0.001\n",
            "[60,     4] loss: 0.001\n",
            "[61,     4] loss: 0.001\n",
            "[62,     4] loss: 0.001\n",
            "[63,     4] loss: 0.001\n",
            "[64,     4] loss: 0.001\n",
            "[65,     4] loss: 0.001\n",
            "[66,     4] loss: 0.001\n",
            "[67,     4] loss: 0.001\n",
            "[68,     4] loss: 0.001\n",
            "[69,     4] loss: 0.001\n",
            "[70,     4] loss: 0.001\n",
            "Finished Training\n",
            "Accuracy of the network on the 1000 train images: 100 %\n",
            "Accuracy of the network on the 1000 test dataset 1: 45 %\n",
            "Accuracy of the network on the 1000 test dataset 2: 66 %\n",
            "Accuracy of the network on the 1000 test dataset 3: 84 %\n",
            "Accuracy of the network on the 1000 test dataset 4: 96 %\n",
            "Accuracy of the network on the 1000 test dataset 5: 99 %\n",
            "Accuracy of the network on the 1000 test dataset 6: 100 %\n",
            "Accuracy of the network on the 1000 test dataset 7: 100 %\n",
            "Accuracy of the network on the 1000 test dataset 8: 100 %\n",
            "Accuracy of the network on the 1000 test dataset 9: 100 %\n",
            "--------------------------------------------------------------------------------\n",
            "--------------------------------------------------------------------------------\n",
            "training on data set   9\n",
            "[1,     4] loss: 1.024\n",
            "[2,     4] loss: 0.744\n",
            "[3,     4] loss: 0.431\n",
            "[4,     4] loss: 0.212\n",
            "[5,     4] loss: 0.093\n",
            "[6,     4] loss: 0.041\n",
            "[7,     4] loss: 0.020\n",
            "[8,     4] loss: 0.011\n",
            "[9,     4] loss: 0.007\n",
            "[10,     4] loss: 0.005\n",
            "[11,     4] loss: 0.004\n",
            "[12,     4] loss: 0.004\n",
            "[13,     4] loss: 0.003\n",
            "[14,     4] loss: 0.003\n",
            "[15,     4] loss: 0.003\n",
            "[16,     4] loss: 0.002\n",
            "[17,     4] loss: 0.002\n",
            "[18,     4] loss: 0.002\n",
            "[19,     4] loss: 0.002\n",
            "[20,     4] loss: 0.002\n",
            "[21,     4] loss: 0.002\n",
            "[22,     4] loss: 0.002\n",
            "[23,     4] loss: 0.002\n",
            "[24,     4] loss: 0.002\n",
            "[25,     4] loss: 0.002\n",
            "[26,     4] loss: 0.002\n",
            "[27,     4] loss: 0.002\n",
            "[28,     4] loss: 0.002\n",
            "[29,     4] loss: 0.002\n",
            "[30,     4] loss: 0.001\n",
            "[31,     4] loss: 0.001\n",
            "[32,     4] loss: 0.001\n",
            "[33,     4] loss: 0.001\n",
            "[34,     4] loss: 0.001\n",
            "[35,     4] loss: 0.001\n",
            "[36,     4] loss: 0.001\n",
            "[37,     4] loss: 0.001\n",
            "[38,     4] loss: 0.001\n",
            "[39,     4] loss: 0.001\n",
            "[40,     4] loss: 0.001\n",
            "[41,     4] loss: 0.001\n",
            "[42,     4] loss: 0.001\n",
            "[43,     4] loss: 0.001\n",
            "[44,     4] loss: 0.001\n",
            "[45,     4] loss: 0.001\n",
            "[46,     4] loss: 0.001\n",
            "[47,     4] loss: 0.001\n",
            "[48,     4] loss: 0.001\n",
            "[49,     4] loss: 0.001\n",
            "[50,     4] loss: 0.001\n",
            "[51,     4] loss: 0.001\n",
            "[52,     4] loss: 0.001\n",
            "[53,     4] loss: 0.001\n",
            "[54,     4] loss: 0.001\n",
            "[55,     4] loss: 0.001\n",
            "[56,     4] loss: 0.001\n",
            "[57,     4] loss: 0.001\n",
            "[58,     4] loss: 0.001\n",
            "[59,     4] loss: 0.001\n",
            "[60,     4] loss: 0.001\n",
            "[61,     4] loss: 0.001\n",
            "[62,     4] loss: 0.001\n",
            "[63,     4] loss: 0.001\n",
            "[64,     4] loss: 0.001\n",
            "[65,     4] loss: 0.001\n",
            "[66,     4] loss: 0.001\n",
            "[67,     4] loss: 0.001\n",
            "[68,     4] loss: 0.001\n",
            "[69,     4] loss: 0.001\n",
            "[70,     4] loss: 0.001\n",
            "Finished Training\n",
            "Accuracy of the network on the 1000 train images: 100 %\n",
            "Accuracy of the network on the 1000 test dataset 1: 44 %\n",
            "Accuracy of the network on the 1000 test dataset 2: 64 %\n",
            "Accuracy of the network on the 1000 test dataset 3: 83 %\n",
            "Accuracy of the network on the 1000 test dataset 4: 96 %\n",
            "Accuracy of the network on the 1000 test dataset 5: 100 %\n",
            "Accuracy of the network on the 1000 test dataset 6: 100 %\n",
            "Accuracy of the network on the 1000 test dataset 7: 100 %\n",
            "Accuracy of the network on the 1000 test dataset 8: 100 %\n",
            "Accuracy of the network on the 1000 test dataset 9: 100 %\n",
            "--------------------------------------------------------------------------------\n"
          ],
          "name": "stdout"
        }
      ]
    },
    {
      "cell_type": "code",
      "metadata": {
        "id": "kdh1-GQ17re7",
        "colab_type": "code",
        "colab": {
          "base_uri": "https://localhost:8080/",
          "height": 296
        },
        "outputId": "7e80b612-d466-4ac2-bd58-547050604938"
      },
      "source": [
        "ds = np.arange(1,10)\n",
        "for i in range(9):\n",
        "  plt.plot(ds,train_loss_all[i][1], label=\"dataset_\"+str(i+1))\n",
        "plt.legend(loc='center left', bbox_to_anchor=(1, 0.5))\n",
        "plt.xlabel(\"dataset\")\n",
        "plt.ylabel(\"train accuracy\")"
      ],
      "execution_count": 356,
      "outputs": [
        {
          "output_type": "execute_result",
          "data": {
            "text/plain": [
              "Text(0, 0.5, 'train accuracy')"
            ]
          },
          "metadata": {
            "tags": []
          },
          "execution_count": 356
        },
        {
          "output_type": "display_data",
          "data": {
            "image/png": "[encoded data removed]",
            "text/plain": [
              "<Figure size 432x288 with 1 Axes>"
            ]
          },
          "metadata": {
            "tags": []
          }
        }
      ]
    },
    {
      "cell_type": "code",
      "metadata": {
        "id": "eQVRrvG5_kgi",
        "colab_type": "code",
        "colab": {
          "base_uri": "https://localhost:8080/",
          "height": 296
        },
        "outputId": "a3649981-a68f-4397-beb1-dbdfc5b5289b"
      },
      "source": [
        "ds = np.arange(1,71)\n",
        "for i in range(9):\n",
        "  plt.plot(ds,train_loss_all[i][0], label=\"dataset_\"+str(i))\n",
        "plt.legend(loc='center left', bbox_to_anchor=(1, 0.5))\n",
        "plt.xlabel(\"epochs\")\n",
        "plt.ylabel(\"log loss\")"
      ],
      "execution_count": 357,
      "outputs": [
        {
          "output_type": "execute_result",
          "data": {
            "text/plain": [
              "Text(0, 0.5, 'log loss')"
            ]
          },
          "metadata": {
            "tags": []
          },
          "execution_count": 357
        },
        {
          "output_type": "display_data",
          "data": {
            "image/png": "[encoded data removed]",
            "text/plain": [
              "<Figure size 432x288 with 1 Axes>"
            ]
          },
          "metadata": {
            "tags": []
          }
        }
      ]
    },
    {
      "cell_type": "code",
      "metadata": {
        "id": "fZBBg7gMA0D7",
        "colab_type": "code",
        "colab": {}
      },
      "source": [
        ""
      ],
      "execution_count": 0,
      "outputs": []
    }
  ]
}