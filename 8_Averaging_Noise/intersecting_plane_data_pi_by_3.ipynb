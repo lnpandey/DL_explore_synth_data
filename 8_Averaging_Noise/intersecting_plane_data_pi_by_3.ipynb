{
  "nbformat": 4,
  "nbformat_minor": 0,
  "metadata": {
    "accelerator": "GPU",
    "colab": {
      "name": "intersecting plane data.ipynb",
      "provenance": []
    },
    "kernelspec": {
      "name": "python3",
      "display_name": "Python 3"
    },
    "language_info": {
      "codemirror_mode": {
        "name": "ipython",
        "version": 3
      },
      "file_extension": ".py",
      "mimetype": "text/x-python",
      "name": "python",
      "nbconvert_exporter": "python",
      "pygments_lexer": "ipython3",
      "version": "3.7.4"
    }
  },
  "cells": [
    {
      "cell_type": "code",
      "metadata": {
        "colab_type": "code",
        "id": "1BoZq7wLFmUz",
        "colab": {}
      },
      "source": [
        "import numpy as np\n",
        "import pandas as pd\n",
        "from matplotlib import pyplot as plt\n",
        "\n",
        "import math as m\n",
        "%matplotlib inline\n",
        "\n",
        "import torch\n",
        "import torchvision\n",
        "\n",
        "import torchvision.transforms as transforms\n",
        "import torch.nn as nn\n",
        "import torch.optim as optim\n",
        "import torch.nn.functional as F\n",
        "import random\n",
        "\n",
        "from torch.utils.data import Dataset, DataLoader\n",
        "from mpl_toolkits.mplot3d import Axes3D"
      ],
      "execution_count": 0,
      "outputs": []
    },
    {
      "cell_type": "code",
      "metadata": {
        "id": "tUJ_Yy2K7rcu",
        "colab_type": "code",
        "colab": {
          "base_uri": "https://localhost:8080/",
          "height": 191
        },
        "outputId": "d884072b-ada1-4df4-df6f-ca50b79f9992"
      },
      "source": [
        "y = np.random.randint(0,10,1000)\n",
        "idx= []\n",
        "for i in range(10):\n",
        "    print(i,sum(y==i))\n",
        "    idx.append(y==i) \n",
        "x = np.zeros((1000,2))\n",
        "\n",
        "x0=x[idx[0],:] = np.random.multivariate_normal(mean = [2,2],cov=[[0.01,0],[0,0.01]],size=sum(idx[0]))\n",
        "\n",
        "\n",
        "x[idx[1],:] = np.random.multivariate_normal(mean = [0,-2],cov=[[0.01,0],[0,0.01]],size=sum(idx[1]))\n",
        "\n",
        "\n",
        "x[idx[2],:] = np.random.multivariate_normal(mean = [-2,2],cov=[[0.01,0],[0,0.01]],size=sum(idx[2]))\n",
        "\n",
        "\n",
        "\n",
        "x[idx[3],:] = np.random.multivariate_normal(mean = [0,0],cov=[[0.01,0],[0,0.01]],size=sum(idx[3]))\n",
        "\n",
        "\n",
        "x[idx[4],:] = np.random.multivariate_normal(mean =[-2,-4] ,cov=[[0.01,0],[0,0.01]],size=sum(idx[4]))\n",
        "\n",
        "\n",
        "\n",
        "x[idx[5],:] = np.random.multivariate_normal(mean = [2,-4],cov=[[0.01,0],[0,0.01]],size=sum(idx[5]))\n",
        "\n",
        "\n",
        "x[idx[6],:] = np.random.multivariate_normal(mean = [-4,0],cov=[[0.01,0],[0,0.01]],size=sum(idx[6]))\n",
        "\n",
        "\n",
        "x[idx[7],:] = np.random.multivariate_normal(mean = [-2,4],cov=[[0.01,0],[0,0.01]],size=sum(idx[7]))\n",
        "\n",
        "\n",
        "x[idx[8],:] = np.random.multivariate_normal(mean = [2,4],cov=[[0.01,0],[0,0.01]],size=sum(idx[8]))\n",
        "\n",
        "\n",
        "x[idx[9],:] = np.random.multivariate_normal(mean = [4,0],cov=[[0.01,0],[0,0.01]],size=sum(idx[9]))\n",
        "\n",
        "idx= []\n",
        "for i in range(10):\n",
        "    #print(i,sum(y==i))\n",
        "    idx.append(y==i)"
      ],
      "execution_count": 359,
      "outputs": [
        {
          "output_type": "stream",
          "text": [
            "0 110\n",
            "1 94\n",
            "2 93\n",
            "3 104\n",
            "4 99\n",
            "5 117\n",
            "6 103\n",
            "7 88\n",
            "8 93\n",
            "9 99\n"
          ],
          "name": "stdout"
        }
      ]
    },
    {
      "cell_type": "code",
      "metadata": {
        "id": "JU6oN0Kh7rc2",
        "colab_type": "code",
        "colab": {
          "base_uri": "https://localhost:8080/",
          "height": 282
        },
        "outputId": "52779765-9b45-4ca1-b476-c83ba24b9f48"
      },
      "source": [
        "for i in range(10):\n",
        "    plt.scatter(x[idx[i],0],x[idx[i],1],label=\"class_\"+str(i))\n",
        "plt.legend(loc='center left', bbox_to_anchor=(1, 0.5))"
      ],
      "execution_count": 360,
      "outputs": [
        {
          "output_type": "execute_result",
          "data": {
            "text/plain": [
              "<matplotlib.legend.Legend at 0x7f5e11007fd0>"
            ]
          },
          "metadata": {
            "tags": []
          },
          "execution_count": 360
        },
        {
          "output_type": "display_data",
          "data": {
            "image/png": "[encoded data removed]",
            "text/plain": [
              "<Figure size 432x288 with 1 Axes>"
            ]
          },
          "metadata": {
            "tags": []
          }
        }
      ]
    },
    {
      "cell_type": "code",
      "metadata": {
        "id": "14ashkYi7rc8",
        "colab_type": "code",
        "colab": {
          "base_uri": "https://localhost:8080/",
          "height": 139
        },
        "outputId": "72790e07-d03b-4494-cf07-8db824eda754"
      },
      "source": [
        "z = np.zeros((1000,1))\n",
        "x = np.concatenate((x, z) , axis =1)\n",
        "x"
      ],
      "execution_count": 361,
      "outputs": [
        {
          "output_type": "execute_result",
          "data": {
            "text/plain": [
              "array([[-2.09381141,  3.87026222,  0.        ],\n",
              "       [-2.02955427,  4.00523001,  0.        ],\n",
              "       [ 2.06925939, -4.0951673 ,  0.        ],\n",
              "       ...,\n",
              "       [ 1.9136365 ,  4.19982582,  0.        ],\n",
              "       [ 2.04053719,  2.05653997,  0.        ],\n",
              "       [-0.09216014, -2.03183161,  0.        ]])"
            ]
          },
          "metadata": {
            "tags": []
          },
          "execution_count": 361
        }
      ]
    },
    {
      "cell_type": "code",
      "metadata": {
        "id": "DVFOWDxp7rdB",
        "colab_type": "code",
        "colab": {
          "base_uri": "https://localhost:8080/",
          "height": 34
        },
        "outputId": "c20bf144-d883-44d3-8925-911f21425378"
      },
      "source": [
        "x.shape"
      ],
      "execution_count": 362,
      "outputs": [
        {
          "output_type": "execute_result",
          "data": {
            "text/plain": [
              "(1000, 3)"
            ]
          },
          "metadata": {
            "tags": []
          },
          "execution_count": 362
        }
      ]
    },
    {
      "cell_type": "code",
      "metadata": {
        "scrolled": true,
        "id": "2Y0sMSmk7rdG",
        "colab_type": "code",
        "colab": {
          "base_uri": "https://localhost:8080/",
          "height": 265
        },
        "outputId": "c7dfe3b4-2773-472f-85c1-33e6b01e46f8"
      },
      "source": [
        "fig = plt.figure()\n",
        "ax = fig.add_subplot(111, projection='3d')\n",
        "for i in range(10):\n",
        "    ax.scatter(x[idx[i],0],x[idx[i],1],x[idx[i],2],label=\"class_\"+str(i))\n",
        "ax.legend(loc='center left', bbox_to_anchor=(1, 0.5))"
      ],
      "execution_count": 363,
      "outputs": [
        {
          "output_type": "execute_result",
          "data": {
            "text/plain": [
              "<matplotlib.legend.Legend at 0x7f5e10f46080>"
            ]
          },
          "metadata": {
            "tags": []
          },
          "execution_count": 363
        },
        {
          "output_type": "display_data",
          "data": {
            "image/png": "[encoded data removed]",
            "text/plain": [
              "<Figure size 432x288 with 1 Axes>"
            ]
          },
          "metadata": {
            "tags": []
          }
        }
      ]
    },
    {
      "cell_type": "code",
      "metadata": {
        "id": "lcg9BoOD7rdL",
        "colab_type": "code",
        "colab": {
          "base_uri": "https://localhost:8080/",
          "height": 265
        },
        "outputId": "96242a89-17f4-4929-e278-3012613056d9"
      },
      "source": [
        "normal = np.array([0,0,1])\n",
        "# a plane is a*x+b*y+c*z+d=0\n",
        "# [a,b,c] is the normal. Thus, we have to calculate\n",
        "# d and we're set\n",
        "d = 0\n",
        "\n",
        "# create x,y\n",
        "xx, yy = np.meshgrid(range(5), range(5))\n",
        "\n",
        "# calculate corresponding z\n",
        "z = (-normal[0] * xx - normal[1] * yy - d) * 1. /normal[2]\n",
        "\n",
        "# plot the surface\n",
        "plt3d = plt.figure().gca(projection='3d')\n",
        "plt3d.plot_surface(xx, yy, z, alpha=0.5)\n",
        "\n",
        "# fig = plt.figure()\n",
        "ax = plt.gca()\n",
        "for i in range(10):\n",
        "    ax.scatter(x[idx[i],0],x[idx[i],1],x[idx[i],2],label=\"class_\"+str(i))\n",
        "ax.legend(loc='center left', bbox_to_anchor=(1, 0.5))"
      ],
      "execution_count": 364,
      "outputs": [
        {
          "output_type": "execute_result",
          "data": {
            "text/plain": [
              "<matplotlib.legend.Legend at 0x7f5e10ef0a90>"
            ]
          },
          "metadata": {
            "tags": []
          },
          "execution_count": 364
        },
        {
          "output_type": "display_data",
          "data": {
            "image/png": "[encoded data removed]",
            "text/plain": [
              "<Figure size 432x288 with 1 Axes>"
            ]
          },
          "metadata": {
            "tags": []
          }
        }
      ]
    },
    {
      "cell_type": "markdown",
      "metadata": {
        "id": "l-7ncm8a7rdQ",
        "colab_type": "text"
      },
      "source": [
        "## angle = pi/2, p1: z = 0, p2: 2x + 3y = 0\n",
        "## angle = pi/6, p1: z = 0, p2: 2x + 3y + sqrt(39)z = 0\n",
        "## angle = pi/3, p1: z = 0, p2: 2x + 3y + sqrt(13/3)z = 0"
      ]
    },
    {
      "cell_type": "code",
      "metadata": {
        "id": "_vup63g47rdR",
        "colab_type": "code",
        "colab": {
          "base_uri": "https://localhost:8080/",
          "height": 34
        },
        "outputId": "3705ccf6-6f5b-4981-af19-030afa9b5102"
      },
      "source": [
        "angle = np.pi/3\n",
        "\n",
        "a = 2\n",
        "b = 3\n",
        "if(angle == np.pi/2):\n",
        "    c=0\n",
        "else:\n",
        "    c = np.sqrt(a*a + b*b )/m.tan(angle)\n",
        "print(c)"
      ],
      "execution_count": 365,
      "outputs": [
        {
          "output_type": "stream",
          "text": [
            "2.0816659994661335\n"
          ],
          "name": "stdout"
        }
      ]
    },
    {
      "cell_type": "code",
      "metadata": {
        "scrolled": true,
        "id": "pLqmqeA47rdY",
        "colab_type": "code",
        "colab": {
          "base_uri": "https://localhost:8080/",
          "height": 1000
        },
        "outputId": "767c77f8-17ca-4752-dc39-1811980c1f2a"
      },
      "source": [
        "x[idx[0],:]"
      ],
      "execution_count": 366,
      "outputs": [
        {
          "output_type": "execute_result",
          "data": {
            "text/plain": [
              "array([[1.90842342, 1.92211348, 0.        ],\n",
              "       [1.92983885, 1.97282042, 0.        ],\n",
              "       [2.03723679, 2.17782671, 0.        ],\n",
              "       [2.13132585, 1.87223531, 0.        ],\n",
              "       [2.09368377, 1.97398272, 0.        ],\n",
              "       [2.02769903, 2.11684081, 0.        ],\n",
              "       [1.81998406, 2.0474713 , 0.        ],\n",
              "       [1.9744181 , 1.96725436, 0.        ],\n",
              "       [1.72518935, 2.07155217, 0.        ],\n",
              "       [1.98718879, 2.27353061, 0.        ],\n",
              "       [2.15635198, 2.12649691, 0.        ],\n",
              "       [1.92324295, 1.89511564, 0.        ],\n",
              "       [1.98015762, 1.89072422, 0.        ],\n",
              "       [2.10042115, 1.91680164, 0.        ],\n",
              "       [1.99312865, 2.02305107, 0.        ],\n",
              "       [1.91337256, 2.13074161, 0.        ],\n",
              "       [1.85520668, 2.02423729, 0.        ],\n",
              "       [1.92640651, 2.02758867, 0.        ],\n",
              "       [2.11883475, 1.83500845, 0.        ],\n",
              "       [1.90119094, 2.07117077, 0.        ],\n",
              "       [1.87999464, 1.92872836, 0.        ],\n",
              "       [2.05405938, 2.11777397, 0.        ],\n",
              "       [2.01259969, 2.05343015, 0.        ],\n",
              "       [2.19087591, 2.12875007, 0.        ],\n",
              "       [2.03258228, 1.86123985, 0.        ],\n",
              "       [1.86528829, 2.05448696, 0.        ],\n",
              "       [1.89093364, 1.93195625, 0.        ],\n",
              "       [1.88175173, 1.83791908, 0.        ],\n",
              "       [1.90508373, 2.0405974 , 0.        ],\n",
              "       [2.08903071, 1.77158405, 0.        ],\n",
              "       [2.01490424, 2.02347729, 0.        ],\n",
              "       [2.01529321, 1.96148755, 0.        ],\n",
              "       [2.00681733, 2.12054416, 0.        ],\n",
              "       [2.01012049, 1.90276562, 0.        ],\n",
              "       [1.8932548 , 1.82255783, 0.        ],\n",
              "       [2.01539856, 1.97911761, 0.        ],\n",
              "       [1.93440414, 2.12281379, 0.        ],\n",
              "       [2.02112953, 1.86950898, 0.        ],\n",
              "       [1.90295497, 2.16440656, 0.        ],\n",
              "       [2.0674397 , 2.02142   , 0.        ],\n",
              "       [1.86857939, 1.96080662, 0.        ],\n",
              "       [1.91203461, 2.06332944, 0.        ],\n",
              "       [1.92667667, 1.76960721, 0.        ],\n",
              "       [2.08439245, 2.07350659, 0.        ],\n",
              "       [2.0557338 , 2.03091989, 0.        ],\n",
              "       [2.05308595, 2.05559786, 0.        ],\n",
              "       [1.86013435, 2.14217178, 0.        ],\n",
              "       [2.06283392, 2.06319091, 0.        ],\n",
              "       [1.82987954, 1.87366066, 0.        ],\n",
              "       [1.86133874, 2.00036524, 0.        ],\n",
              "       [2.09909867, 2.05689231, 0.        ],\n",
              "       [2.09435159, 1.97563345, 0.        ],\n",
              "       [2.03184753, 2.06834009, 0.        ],\n",
              "       [1.99364424, 2.01233229, 0.        ],\n",
              "       [2.10659705, 1.93131687, 0.        ],\n",
              "       [2.07322192, 1.98081953, 0.        ],\n",
              "       [2.10344736, 2.10723022, 0.        ],\n",
              "       [2.01243055, 2.09043442, 0.        ],\n",
              "       [2.05699206, 1.9115092 , 0.        ],\n",
              "       [1.94028   , 2.02159322, 0.        ],\n",
              "       [1.90026442, 2.12519697, 0.        ],\n",
              "       [2.07166111, 1.99633509, 0.        ],\n",
              "       [2.13694141, 1.87970893, 0.        ],\n",
              "       [1.97106844, 1.96980461, 0.        ],\n",
              "       [1.92887127, 2.05664208, 0.        ],\n",
              "       [1.85281301, 2.01839048, 0.        ],\n",
              "       [1.99994263, 1.97499902, 0.        ],\n",
              "       [2.00834274, 1.95249665, 0.        ],\n",
              "       [2.10071245, 2.13246564, 0.        ],\n",
              "       [1.91800045, 2.06655242, 0.        ],\n",
              "       [1.78696581, 1.73076989, 0.        ],\n",
              "       [2.0677297 , 2.02450675, 0.        ],\n",
              "       [1.96898464, 1.93272666, 0.        ],\n",
              "       [1.88406308, 2.06428464, 0.        ],\n",
              "       [1.830207  , 2.10393948, 0.        ],\n",
              "       [2.0660118 , 1.98118483, 0.        ],\n",
              "       [1.98555137, 2.15428559, 0.        ],\n",
              "       [1.94655141, 1.85474232, 0.        ],\n",
              "       [1.92830625, 1.95063815, 0.        ],\n",
              "       [2.04036698, 2.05897585, 0.        ],\n",
              "       [2.08808504, 1.91682446, 0.        ],\n",
              "       [1.89570701, 1.86349762, 0.        ],\n",
              "       [2.11906645, 2.12215344, 0.        ],\n",
              "       [1.89907524, 2.00891743, 0.        ],\n",
              "       [2.04004773, 1.94424071, 0.        ],\n",
              "       [1.86095006, 1.88511461, 0.        ],\n",
              "       [1.93483655, 2.19351216, 0.        ],\n",
              "       [2.03565606, 2.00863645, 0.        ],\n",
              "       [1.92702678, 1.99708018, 0.        ],\n",
              "       [1.90402478, 2.08776076, 0.        ],\n",
              "       [1.89071201, 2.01819062, 0.        ],\n",
              "       [2.04597162, 2.10893322, 0.        ],\n",
              "       [1.94333233, 1.98837712, 0.        ],\n",
              "       [1.7785898 , 2.01489471, 0.        ],\n",
              "       [1.99485091, 1.98365772, 0.        ],\n",
              "       [2.01264058, 2.10335722, 0.        ],\n",
              "       [2.01587578, 1.9882629 , 0.        ],\n",
              "       [2.06013881, 1.813633  , 0.        ],\n",
              "       [1.90401513, 1.924372  , 0.        ],\n",
              "       [2.01182269, 1.82595935, 0.        ],\n",
              "       [2.07869207, 1.91404619, 0.        ],\n",
              "       [1.85450146, 2.08170582, 0.        ],\n",
              "       [2.11680727, 2.13421019, 0.        ],\n",
              "       [1.98457172, 2.0051553 , 0.        ],\n",
              "       [1.86274917, 1.99161578, 0.        ],\n",
              "       [2.00659127, 1.97363239, 0.        ],\n",
              "       [1.82431477, 1.99842968, 0.        ],\n",
              "       [2.08954802, 2.15264394, 0.        ],\n",
              "       [2.21869323, 2.07905121, 0.        ],\n",
              "       [2.04053719, 2.05653997, 0.        ]])"
            ]
          },
          "metadata": {
            "tags": []
          },
          "execution_count": 366
        }
      ]
    },
    {
      "cell_type": "code",
      "metadata": {
        "id": "2WeuxtXx7rdd",
        "colab_type": "code",
        "colab": {
          "base_uri": "https://localhost:8080/",
          "height": 139
        },
        "outputId": "af35d664-a515-47c7-ca06-36ca1b82ea7d"
      },
      "source": [
        "x[idx[0],2]"
      ],
      "execution_count": 367,
      "outputs": [
        {
          "output_type": "execute_result",
          "data": {
            "text/plain": [
              "array([0., 0., 0., 0., 0., 0., 0., 0., 0., 0., 0., 0., 0., 0., 0., 0., 0.,\n",
              "       0., 0., 0., 0., 0., 0., 0., 0., 0., 0., 0., 0., 0., 0., 0., 0., 0.,\n",
              "       0., 0., 0., 0., 0., 0., 0., 0., 0., 0., 0., 0., 0., 0., 0., 0., 0.,\n",
              "       0., 0., 0., 0., 0., 0., 0., 0., 0., 0., 0., 0., 0., 0., 0., 0., 0.,\n",
              "       0., 0., 0., 0., 0., 0., 0., 0., 0., 0., 0., 0., 0., 0., 0., 0., 0.,\n",
              "       0., 0., 0., 0., 0., 0., 0., 0., 0., 0., 0., 0., 0., 0., 0., 0., 0.,\n",
              "       0., 0., 0., 0., 0., 0., 0., 0.])"
            ]
          },
          "metadata": {
            "tags": []
          },
          "execution_count": 367
        }
      ]
    },
    {
      "cell_type": "code",
      "metadata": {
        "scrolled": true,
        "id": "rlCv6Q4S7rdh",
        "colab_type": "code",
        "colab": {}
      },
      "source": [
        "if(angle == np.pi/2):\n",
        "    for i in range(3):\n",
        "        x[idx[i],2] = (i+2)*(x[idx[i],0] + x[idx[i],1])/(x[idx[i],0] + x[idx[i],1])\n",
        "else:\n",
        "    for i in range(3):\n",
        "        x[idx[i],2] = (2*x[idx[i],0] + 3*x[idx[i],1])/c\n"
      ],
      "execution_count": 0,
      "outputs": []
    },
    {
      "cell_type": "code",
      "metadata": {
        "scrolled": true,
        "id": "bRw7_9wU7rdl",
        "colab_type": "code",
        "colab": {
          "base_uri": "https://localhost:8080/",
          "height": 1000
        },
        "outputId": "d1900f5d-998d-4457-a84f-f4cfc2a05e36"
      },
      "source": [
        "x[idx[0],:]"
      ],
      "execution_count": 369,
      "outputs": [
        {
          "output_type": "execute_result",
          "data": {
            "text/plain": [
              "array([[1.90842342, 1.92211348, 4.60361425],\n",
              "       [1.92983885, 1.97282042, 4.69726601],\n",
              "       [2.03723679, 2.17782671, 5.09589614],\n",
              "       [2.13132585, 1.87223531, 4.74588989],\n",
              "       [2.09368377, 1.97398272, 4.85635817],\n",
              "       [2.02769903, 2.11684081, 4.99884251],\n",
              "       [1.81998406, 2.0474713 , 4.69930432],\n",
              "       [1.9744181 , 1.96725436, 4.73207483],\n",
              "       [1.72518935, 2.07155217, 4.64293273],\n",
              "       [1.98718879, 2.27353061, 5.18573556],\n",
              "       [2.15635198, 2.12649691, 5.13636419],\n",
              "       [1.92324295, 1.89511564, 4.57894438],\n",
              "       [1.98015762, 1.89072422, 4.62729752],\n",
              "       [2.10042115, 1.91680164, 4.78042454],\n",
              "       [1.99312865, 2.02305107, 4.83046296],\n",
              "       [1.91337256, 2.13074161, 4.90903438],\n",
              "       [1.85520668, 2.02423729, 4.69966134],\n",
              "       [1.92640651, 2.02758867, 4.77289778],\n",
              "       [2.11883475, 1.83500845, 4.68023922],\n",
              "       [1.90119094, 2.07117077, 4.81147994],\n",
              "       [1.87999464, 1.92872836, 4.58583383],\n",
              "       [2.05405938, 2.11777397, 5.02551353],\n",
              "       [2.01259969, 2.05343015, 4.89295104],\n",
              "       [2.19087591, 2.12875007, 5.17278086],\n",
              "       [2.03258228, 1.86123985, 4.63517399],\n",
              "       [1.86528829, 2.05448696, 4.75294186],\n",
              "       [1.89093364, 1.93195625, 4.60099556],\n",
              "       [1.88175173, 1.83791908, 4.45665188],\n",
              "       [1.90508373, 2.0405974 , 4.7711591 ],\n",
              "       [2.08903071, 1.77158405, 4.56020014],\n",
              "       [2.01490424, 2.02347729, 4.85199853],\n",
              "       [2.01529321, 1.96148755, 4.76303551],\n",
              "       [2.00681733, 2.12054416, 4.98411712],\n",
              "       [2.01012049, 1.90276562, 4.67343841],\n",
              "       [1.8932548 , 1.82255783, 4.44556575],\n",
              "       [2.01539856, 1.97911761, 4.78854435],\n",
              "       [1.93440414, 2.12281379, 4.91781566],\n",
              "       [2.02112953, 1.86950898, 4.63608763],\n",
              "       [1.90295497, 2.16440656, 4.94754183],\n",
              "       [2.0674397 , 2.02142   , 4.89950808],\n",
              "       [1.86857939, 1.96080662, 4.6210961 ],\n",
              "       [1.91203461, 2.06332944, 4.81059764],\n",
              "       [1.92667667, 1.76960721, 4.40136649],\n",
              "       [2.08439245, 2.07350659, 4.99086053],\n",
              "       [2.0557338 , 2.03091989, 4.90195222],\n",
              "       [2.05308595, 2.05559786, 4.93497299],\n",
              "       [1.86013435, 2.14217178, 4.87435739],\n",
              "       [2.06283392, 2.06319091, 4.95528129],\n",
              "       [1.82987954, 1.87366066, 4.45832379],\n",
              "       [1.86133874, 2.00036524, 4.67114955],\n",
              "       [2.09909867, 2.05689231, 4.98104608],\n",
              "       [2.09435159, 1.97563345, 4.85937875],\n",
              "       [2.03184753, 2.06834009, 4.93293128],\n",
              "       [1.99364424, 2.01233229, 4.81551093],\n",
              "       [2.10659705, 1.93131687, 4.80727682],\n",
              "       [2.07322192, 1.98081953, 4.84655195],\n",
              "       [2.10344736, 2.10723022, 5.05776881],\n",
              "       [2.01243055, 2.09043442, 4.94611736],\n",
              "       [2.05699206, 1.9115092 , 4.73107201],\n",
              "       [1.94028   , 2.02159322, 4.77758664],\n",
              "       [1.90026442, 2.12519697, 4.88844981],\n",
              "       [2.07166111, 1.99633509, 4.86741269],\n",
              "       [2.13694141, 1.87970893, 4.76205578],\n",
              "       [1.97106844, 1.96980461, 4.73253187],\n",
              "       [1.92887127, 2.05664208, 4.81713626],\n",
              "       [1.85281301, 2.01839048, 4.68893542],\n",
              "       [1.99994263, 1.97499902, 4.76775925],\n",
              "       [2.00834274, 1.95249665, 4.74340044],\n",
              "       [2.10071245, 2.13246564, 5.09150931],\n",
              "       [1.91800045, 2.06655242, 4.82097424],\n",
              "       [1.78696581, 1.73076989, 4.21116611],\n",
              "       [2.0677297 , 2.02450675, 4.90423519],\n",
              "       [1.96898464, 1.93272666, 4.67709482],\n",
              "       [1.88406308, 2.06428464, 4.78510004],\n",
              "       [1.830207  , 2.10393948, 4.79050551],\n",
              "       [2.0660118 , 1.98118483, 4.84015115],\n",
              "       [1.98555137, 2.15428559, 5.01231202],\n",
              "       [1.94655141, 1.85474232, 4.54315428],\n",
              "       [1.92830625, 1.95063815, 4.66382549],\n",
              "       [2.04036698, 2.05897585, 4.92762119],\n",
              "       [2.08808504, 1.91682446, 4.76860527],\n",
              "       [1.89570701, 1.86349762, 4.50692229],\n",
              "       [2.11906645, 2.12215344, 5.09428181],\n",
              "       [1.89907524, 2.00891743, 4.71973063],\n",
              "       [2.04004773, 1.94424071, 4.76196354],\n",
              "       [1.86095006, 1.88511461, 4.50468229],\n",
              "       [1.93483655, 2.19351216, 5.0201183 ],\n",
              "       [2.03565606, 2.00863645, 4.8505483 ],\n",
              "       [1.92702678, 1.99708018, 4.7295263 ],\n",
              "       [1.90402478, 2.08776076, 4.83811132],\n",
              "       [1.89071201, 2.01819062, 4.72505959],\n",
              "       [2.04597162, 2.10893322, 5.00500219],\n",
              "       [1.94333233, 1.98837712, 4.73264972],\n",
              "       [1.7785898 , 2.01489471, 4.61258614],\n",
              "       [1.99485091, 1.98365772, 4.7753458 ],\n",
              "       [2.01264058, 2.10335722, 4.9649429 ],\n",
              "       [2.01587578, 1.9882629 , 4.80218261],\n",
              "       [2.06013881, 1.813633  , 4.59304067],\n",
              "       [1.90401513, 1.924372  , 4.60263379],\n",
              "       [2.01182269, 1.82595935, 4.56438423],\n",
              "       [2.07869207, 1.91404619, 4.75557688],\n",
              "       [1.85450146, 2.08170582, 4.78180476],\n",
              "       [2.11680727, 2.13421019, 5.10948688],\n",
              "       [1.98457172, 2.0051553 , 4.79645118],\n",
              "       [1.86274917, 1.99161578, 4.65989534],\n",
              "       [2.00659127, 1.97363239, 4.77217753],\n",
              "       [1.82431477, 1.99842968, 4.63278863],\n",
              "       [2.08954802, 2.15264394, 5.1098629 ],\n",
              "       [2.21869323, 2.07905121, 5.12788319],\n",
              "       [2.04053719, 2.05653997, 4.92427426]])"
            ]
          },
          "metadata": {
            "tags": []
          },
          "execution_count": 369
        }
      ]
    },
    {
      "cell_type": "code",
      "metadata": {
        "scrolled": true,
        "id": "oVrnw8Yj7rdp",
        "colab_type": "code",
        "colab": {
          "base_uri": "https://localhost:8080/",
          "height": 265
        },
        "outputId": "00f90eae-f864-4211-cee8-a6fc0ce064c5"
      },
      "source": [
        "fig = plt.figure()\n",
        "ax = fig.add_subplot(111, projection='3d')\n",
        "for i in range(10):\n",
        "    ax.scatter(x[idx[i],0],x[idx[i],1],x[idx[i],2],label=\"class_\"+str(i))\n",
        "ax.legend(loc='center left', bbox_to_anchor=(1, 0.5))"
      ],
      "execution_count": 370,
      "outputs": [
        {
          "output_type": "execute_result",
          "data": {
            "text/plain": [
              "<matplotlib.legend.Legend at 0x7f5e10e2f240>"
            ]
          },
          "metadata": {
            "tags": []
          },
          "execution_count": 370
        },
        {
          "output_type": "display_data",
          "data": {
            "image/png": "[encoded data removed]",
            "text/plain": [
              "<Figure size 432x288 with 1 Axes>"
            ]
          },
          "metadata": {
            "tags": []
          }
        }
      ]
    },
    {
      "cell_type": "code",
      "metadata": {
        "id": "8J5HPflY7rdt",
        "colab_type": "code",
        "colab": {
          "base_uri": "https://localhost:8080/",
          "height": 265
        },
        "outputId": "472d361e-9596-4686-df71-6d09045aee79"
      },
      "source": [
        "normal = np.array([a,b,c])\n",
        "# a plane is a*x+b*y+c*z+d=0\n",
        "# [a,b,c] is the normal. Thus, we have to calculate\n",
        "# d and we're set\n",
        "d = 0\n",
        "\n",
        "# create x,y\n",
        "xx, yy = np.meshgrid(range(5), range(5))\n",
        "\n",
        "# calculate corresponding z\n",
        "z = -(-normal[0] * xx - normal[1] * yy - d) * 1. /normal[2]\n",
        "\n",
        "# plot the surface\n",
        "plt3d = plt.figure().gca(projection='3d')\n",
        "plt3d.plot_surface(xx, yy, z, alpha=0.5)\n",
        "\n",
        "# fig = plt.figure()\n",
        "ax = plt.gca()\n",
        "for i in range(10):\n",
        "    ax.scatter(x[idx[i],0],x[idx[i],1],x[idx[i],2],label=\"class_\"+str(i))\n",
        "ax.legend(loc='center left', bbox_to_anchor=(1, 0.5))"
      ],
      "execution_count": 371,
      "outputs": [
        {
          "output_type": "execute_result",
          "data": {
            "text/plain": [
              "<matplotlib.legend.Legend at 0x7f5e10d59748>"
            ]
          },
          "metadata": {
            "tags": []
          },
          "execution_count": 371
        },
        {
          "output_type": "display_data",
          "data": {
            "image/png": "[encoded data removed]",
            "text/plain": [
              "<Figure size 432x288 with 1 Axes>"
            ]
          },
          "metadata": {
            "tags": []
          }
        }
      ]
    },
    {
      "cell_type": "code",
      "metadata": {
        "id": "TJYoUUi27reF",
        "colab_type": "code",
        "colab": {
          "base_uri": "https://localhost:8080/",
          "height": 34
        },
        "outputId": "421c192c-aaac-4694-d456-ac75bff8f328"
      },
      "source": [
        "x.shape,y.shape"
      ],
      "execution_count": 372,
      "outputs": [
        {
          "output_type": "execute_result",
          "data": {
            "text/plain": [
              "((1000, 3), (1000,))"
            ]
          },
          "metadata": {
            "tags": []
          },
          "execution_count": 372
        }
      ]
    },
    {
      "cell_type": "code",
      "metadata": {
        "id": "57yfZoDX7reI",
        "colab_type": "code",
        "colab": {}
      },
      "source": [
        "classes  = ('0', '1', '2','3', '4', '5', '6', '7','8', '9')\n",
        "foreground_classes = {'0', '1', '2'}\n",
        "\n",
        "background_classes = {'3', '4', '5', '6', '7','8', '9'}\n"
      ],
      "execution_count": 0,
      "outputs": []
    },
    {
      "cell_type": "code",
      "metadata": {
        "id": "XQ0Lz_GW7reL",
        "colab_type": "code",
        "colab": {}
      },
      "source": [
        "class sub_clust_data(Dataset):\n",
        "    def __init__(self,x, y):\n",
        "        self.x = torch.Tensor(x)\n",
        "        self.y = torch.Tensor(y).type(torch.LongTensor)\n",
        "    #self.fore_idx = fore_idx\n",
        "    \n",
        "    def __len__(self):\n",
        "        return len(self.y)\n",
        "\n",
        "    def __getitem__(self, idx):\n",
        "        return self.x[idx] , self.y[idx] #, self.fore_idx[idx]"
      ],
      "execution_count": 0,
      "outputs": []
    },
    {
      "cell_type": "code",
      "metadata": {
        "id": "1pH6faRT7reO",
        "colab_type": "code",
        "colab": {}
      },
      "source": [
        "trainset = sub_clust_data(x,y)"
      ],
      "execution_count": 0,
      "outputs": []
    },
    {
      "cell_type": "code",
      "metadata": {
        "id": "nQQBN6d47reR",
        "colab_type": "code",
        "colab": {}
      },
      "source": [
        "trainloader = torch.utils.data.DataLoader(trainset, batch_size=10, shuffle=True)"
      ],
      "execution_count": 0,
      "outputs": []
    },
    {
      "cell_type": "code",
      "metadata": {
        "id": "UUU-ibU47reU",
        "colab_type": "code",
        "colab": {}
      },
      "source": [
        "dataiter = iter(trainloader)\n",
        "background_data=[]\n",
        "background_label=[]\n",
        "foreground_data=[]\n",
        "foreground_label=[]\n",
        "batch_size=10\n",
        "\n",
        "for i in range(100):   #5000*batch_size = 50000 data points\n",
        "    images, labels = dataiter.next()\n",
        "    for j in range(batch_size):\n",
        "        if(classes[labels[j]] in background_classes):\n",
        "            img = images[j].tolist()\n",
        "            background_data.append(img)\n",
        "            background_label.append(labels[j])\n",
        "        else:\n",
        "            img = images[j].tolist()\n",
        "            foreground_data.append(img)\n",
        "            foreground_label.append(labels[j])"
      ],
      "execution_count": 0,
      "outputs": []
    },
    {
      "cell_type": "code",
      "metadata": {
        "id": "mh7y2Afy7reW",
        "colab_type": "code",
        "colab": {
          "base_uri": "https://localhost:8080/",
          "height": 34
        },
        "outputId": "6e3a693c-df12-499e-ba04-a195cbf04f4f"
      },
      "source": [
        "np.shape(foreground_data),np.shape(foreground_label)"
      ],
      "execution_count": 378,
      "outputs": [
        {
          "output_type": "execute_result",
          "data": {
            "text/plain": [
              "((297, 3), (297,))"
            ]
          },
          "metadata": {
            "tags": []
          },
          "execution_count": 378
        }
      ]
    },
    {
      "cell_type": "code",
      "metadata": {
        "id": "bIk5bgiq7reZ",
        "colab_type": "code",
        "colab": {
          "base_uri": "https://localhost:8080/",
          "height": 34
        },
        "outputId": "867c85d1-0ea9-4b40-e055-9cd1a8ab277f"
      },
      "source": [
        "np.shape(background_data),np.shape(background_label)"
      ],
      "execution_count": 379,
      "outputs": [
        {
          "output_type": "execute_result",
          "data": {
            "text/plain": [
              "((703, 3), (703,))"
            ]
          },
          "metadata": {
            "tags": []
          },
          "execution_count": 379
        }
      ]
    },
    {
      "cell_type": "code",
      "metadata": {
        "id": "kF9mgUkz7red",
        "colab_type": "code",
        "colab": {}
      },
      "source": [
        "foreground_data = torch.tensor(foreground_data)\n",
        "foreground_label = torch.tensor(foreground_label).type(torch.LongTensor)\n",
        "background_data = torch.tensor(background_data)\n",
        "background_label = torch.tensor(background_label).type(torch.LongTensor)"
      ],
      "execution_count": 0,
      "outputs": []
    },
    {
      "cell_type": "code",
      "metadata": {
        "id": "QmYT2mXj7reg",
        "colab_type": "code",
        "colab": {}
      },
      "source": [
        "def create_mosaic_img(bg_idx,fg_idx,fg): \n",
        "    image_list=[]\n",
        "    j=0\n",
        "    for i in range(9):\n",
        "        if i != fg:\n",
        "            image_list.append(background_data[bg_idx[j]].type(\"torch.DoubleTensor\"))\n",
        "            j+=1\n",
        "        else: \n",
        "            image_list.append(foreground_data[fg_idx].type(\"torch.DoubleTensor\"))\n",
        "            label = foreground_label[fg_idx]  #-7  # minus 7 because our fore ground classes are 7,8,9 but we have to store it as 0,1,2\n",
        "    #image_list = np.concatenate(image_list ,axis=0)\n",
        "    image_list = torch.stack(image_list) \n",
        "    return image_list,label"
      ],
      "execution_count": 0,
      "outputs": []
    },
    {
      "cell_type": "code",
      "metadata": {
        "id": "mGueYoxU-3wL",
        "colab_type": "code",
        "colab": {
          "base_uri": "https://localhost:8080/",
          "height": 34
        },
        "outputId": "e6cd6523-c066-40fa-e4aa-c2e5fbf067b4"
      },
      "source": [
        "fg_nos = np.shape(foreground_label)[0]\n",
        "bg_nos = np.shape(background_label)[0]\n",
        "bg_nos, fg_nos"
      ],
      "execution_count": 382,
      "outputs": [
        {
          "output_type": "execute_result",
          "data": {
            "text/plain": [
              "(703, 297)"
            ]
          },
          "metadata": {
            "tags": []
          },
          "execution_count": 382
        }
      ]
    },
    {
      "cell_type": "code",
      "metadata": {
        "id": "sHCgXuqs7rek",
        "colab_type": "code",
        "colab": {}
      },
      "source": [
        "desired_num = 1000\n",
        "mosaic_list_of_images =[]      # list of mosaic images, each mosaic image is saved as list of 9 images\n",
        "fore_idx =[]                   # list of indexes at which foreground image is present in a mosaic image i.e from 0 to 9               \n",
        "mosaic_label=[]                # label of mosaic image = foreground class present in that mosaic\n",
        "for i in range(desired_num):\n",
        "    bg_idx = np.random.randint(0,bg_nos,8)\n",
        "    fg_idx = np.random.randint(0,fg_nos)\n",
        "    fg = np.random.randint(0,9)\n",
        "    fore_idx.append(fg)\n",
        "    image_list,label = create_mosaic_img(bg_idx,fg_idx,fg)\n",
        "    mosaic_list_of_images.append(image_list)\n",
        "    mosaic_label.append(label)"
      ],
      "execution_count": 0,
      "outputs": []
    },
    {
      "cell_type": "code",
      "metadata": {
        "id": "4vSUeW8M7rem",
        "colab_type": "code",
        "colab": {}
      },
      "source": [
        "def create_avg_image_from_mosaic_dataset(mosaic_dataset,labels,foreground_index,dataset_number):\n",
        "    avg_image_dataset = []\n",
        "    for i in range(len(mosaic_dataset)):\n",
        "        img = torch.zeros([3], dtype=torch.float64)\n",
        "        for j in range(9):\n",
        "            if j == foreground_index[i]:\n",
        "                img = img + mosaic_dataset[i][j]*dataset_number/9\n",
        "            else :\n",
        "                img = img + mosaic_dataset[i][j]*(9-dataset_number)/(8*9)\n",
        "    \n",
        "        avg_image_dataset.append(img)\n",
        "    \n",
        "    return avg_image_dataset , labels , foreground_index"
      ],
      "execution_count": 0,
      "outputs": []
    },
    {
      "cell_type": "code",
      "metadata": {
        "id": "YXlqfhEr7rep",
        "colab_type": "code",
        "colab": {}
      },
      "source": [
        "avg_image_dataset_1 , labels_1,  fg_index_1 = create_avg_image_from_mosaic_dataset(mosaic_list_of_images[0:1000], mosaic_label[0:1000], fore_idx[0:1000] , 1)\n",
        "avg_image_dataset_2 , labels_2,  fg_index_2 = create_avg_image_from_mosaic_dataset(mosaic_list_of_images[0:1000], mosaic_label[0:1000], fore_idx[0:1000] , 2)\n",
        "avg_image_dataset_3 , labels_3,  fg_index_3 = create_avg_image_from_mosaic_dataset(mosaic_list_of_images[0:1000], mosaic_label[0:1000], fore_idx[0:1000] , 3)\n",
        "avg_image_dataset_4 , labels_4,  fg_index_4 = create_avg_image_from_mosaic_dataset(mosaic_list_of_images[0:1000], mosaic_label[0:1000], fore_idx[0:1000] , 4)\n",
        "avg_image_dataset_5 , labels_5,  fg_index_5 = create_avg_image_from_mosaic_dataset(mosaic_list_of_images[0:1000], mosaic_label[0:1000], fore_idx[0:1000] , 5)\n",
        "avg_image_dataset_6 , labels_6,  fg_index_6 = create_avg_image_from_mosaic_dataset(mosaic_list_of_images[0:1000], mosaic_label[0:1000], fore_idx[0:1000] , 6)\n",
        "avg_image_dataset_7 , labels_7,  fg_index_7 = create_avg_image_from_mosaic_dataset(mosaic_list_of_images[0:1000], mosaic_label[0:1000], fore_idx[0:1000] , 7)\n",
        "avg_image_dataset_8 , labels_8,  fg_index_8 = create_avg_image_from_mosaic_dataset(mosaic_list_of_images[0:1000], mosaic_label[0:1000], fore_idx[0:1000] , 8)\n",
        "avg_image_dataset_9 , labels_9,  fg_index_9 = create_avg_image_from_mosaic_dataset(mosaic_list_of_images[0:1000], mosaic_label[0:1000], fore_idx[0:1000] , 9)\n",
        "\n",
        "#test_dataset_10 , labels_10 , fg_index_10 = create_avg_image_from_mosaic_dataset(mosaic_list_of_images[10000:20000], mosaic_label[10000:20000], fore_idx[10000:20000] , 9)"
      ],
      "execution_count": 0,
      "outputs": []
    },
    {
      "cell_type": "code",
      "metadata": {
        "id": "ZHeLv0Fg7res",
        "colab_type": "code",
        "colab": {}
      },
      "source": [
        "class MosaicDataset(Dataset):\n",
        "    \"\"\"MosaicDataset dataset.\"\"\"\n",
        "\n",
        "    def __init__(self, mosaic_list_of_images, mosaic_label):\n",
        "        \"\"\"\n",
        "          Args:\n",
        "            csv_file (string): Path to the csv file with annotations.\n",
        "            root_dir (string): Directory with all the images.\n",
        "            transform (callable, optional): Optional transform to be applied\n",
        "                on a sample.\n",
        "        \"\"\"\n",
        "        self.mosaic = mosaic_list_of_images\n",
        "        self.label = mosaic_label\n",
        "        #self.fore_idx = fore_idx\n",
        "    \n",
        "    def __len__(self):\n",
        "        return len(self.label)\n",
        "\n",
        "    def __getitem__(self, idx):\n",
        "        return self.mosaic[idx] , self.label[idx] #, self.fore_idx[idx]"
      ],
      "execution_count": 0,
      "outputs": []
    },
    {
      "cell_type": "code",
      "metadata": {
        "id": "Wa7qkACK7reu",
        "colab_type": "code",
        "colab": {}
      },
      "source": [
        "batch = 256\n",
        "\n",
        "\n",
        "# training_data = avg_image_dataset_5    #just change this and training_label to desired dataset for training\n",
        "# training_label = labels_5\n",
        "\n",
        "traindata_1 = MosaicDataset(avg_image_dataset_1, labels_1 )\n",
        "trainloader_1 = DataLoader( traindata_1 , batch_size= batch ,shuffle=True)\n",
        "\n",
        "traindata_2 = MosaicDataset(avg_image_dataset_2, labels_2 )\n",
        "trainloader_2 = DataLoader( traindata_2 , batch_size= batch ,shuffle=True)\n",
        "\n",
        "traindata_3 = MosaicDataset(avg_image_dataset_3, labels_3 )\n",
        "trainloader_3 = DataLoader( traindata_3 , batch_size= batch ,shuffle=True)\n",
        "\n",
        "traindata_4 = MosaicDataset(avg_image_dataset_4, labels_4 )\n",
        "trainloader_4 = DataLoader( traindata_4 , batch_size= batch ,shuffle=True)\n",
        "\n",
        "traindata_5 = MosaicDataset(avg_image_dataset_5, labels_5 )\n",
        "trainloader_5 = DataLoader( traindata_5 , batch_size= batch ,shuffle=True)\n",
        "\n",
        "traindata_6 = MosaicDataset(avg_image_dataset_6, labels_6 )\n",
        "trainloader_6 = DataLoader( traindata_6 , batch_size= batch ,shuffle=True)\n",
        "\n",
        "traindata_7 = MosaicDataset(avg_image_dataset_7, labels_7 )\n",
        "trainloader_7 = DataLoader( traindata_7 , batch_size= batch ,shuffle=True)\n",
        "\n",
        "traindata_8 = MosaicDataset(avg_image_dataset_8, labels_8 )\n",
        "trainloader_8 = DataLoader( traindata_8 , batch_size= batch ,shuffle=True)\n",
        "\n",
        "traindata_9 = MosaicDataset(avg_image_dataset_9, labels_9 )\n",
        "trainloader_9 = DataLoader( traindata_9 , batch_size= batch ,shuffle=True)\n",
        "\n",
        "testdata_1 = MosaicDataset(avg_image_dataset_1, labels_1 )\n",
        "testloader_1 = DataLoader( testdata_1 , batch_size= batch ,shuffle=False)\n",
        "\n",
        "testdata_2 = MosaicDataset(avg_image_dataset_2, labels_2 )\n",
        "testloader_2 = DataLoader( testdata_2 , batch_size= batch ,shuffle=False)\n",
        "\n",
        "testdata_3 = MosaicDataset(avg_image_dataset_3, labels_3 )\n",
        "testloader_3 = DataLoader( testdata_3 , batch_size= batch ,shuffle=False)\n",
        "\n",
        "testdata_4 = MosaicDataset(avg_image_dataset_4, labels_4 )\n",
        "testloader_4 = DataLoader( testdata_4 , batch_size= batch ,shuffle=False)\n",
        "\n",
        "testdata_5 = MosaicDataset(avg_image_dataset_5, labels_5 )\n",
        "testloader_5 = DataLoader( testdata_5 , batch_size= batch ,shuffle=False)\n",
        "\n",
        "testdata_6 = MosaicDataset(avg_image_dataset_6, labels_6 )\n",
        "testloader_6 = DataLoader( testdata_6 , batch_size= batch ,shuffle=False)\n",
        "\n",
        "testdata_7 = MosaicDataset(avg_image_dataset_7, labels_7 )\n",
        "testloader_7 = DataLoader( testdata_7 , batch_size= batch ,shuffle=False)\n",
        "\n",
        "testdata_8 = MosaicDataset(avg_image_dataset_8, labels_8 )\n",
        "testloader_8 = DataLoader( testdata_8 , batch_size= batch ,shuffle=False)\n",
        "\n",
        "testdata_9 = MosaicDataset(avg_image_dataset_9, labels_9 )\n",
        "testloader_9 = DataLoader( testdata_9 , batch_size= batch ,shuffle=False)\n",
        "\n"
      ],
      "execution_count": 0,
      "outputs": []
    },
    {
      "cell_type": "code",
      "metadata": {
        "id": "BQZy-c_O7rew",
        "colab_type": "code",
        "colab": {}
      },
      "source": [
        "class Net(nn.Module):\n",
        "    def __init__(self):\n",
        "        super(Net,self).__init__()\n",
        "        self.linear1 = nn.Linear(3,64)\n",
        "        self.linear2 = nn.Linear(64,128)\n",
        "        \n",
        "        self.linear3 = nn.Linear(128,3)\n",
        "        \n",
        "    def forward(self,x):\n",
        "        x = F.relu(self.linear1(x))\n",
        "        \n",
        "        x = F.relu(self.linear2(x))\n",
        "        \n",
        "        x = self.linear3(x)\n",
        "        \n",
        "        return x"
      ],
      "execution_count": 0,
      "outputs": []
    },
    {
      "cell_type": "code",
      "metadata": {
        "id": "EAEYaDjw8_wT",
        "colab_type": "code",
        "colab": {}
      },
      "source": [
        ""
      ],
      "execution_count": 0,
      "outputs": []
    },
    {
      "cell_type": "code",
      "metadata": {
        "id": "VR-IzVmU7rez",
        "colab_type": "code",
        "colab": {}
      },
      "source": [
        "def test_all(number, testloader,inc):\n",
        "    correct = 0\n",
        "    total = 0\n",
        "    out = []\n",
        "    pred = []\n",
        "    with torch.no_grad():\n",
        "        for data in testloader:\n",
        "            images, labels = data\n",
        "            images, labels = images.to(\"cuda\"),labels.to(\"cuda\")\n",
        "            out.append(labels.cpu().numpy())\n",
        "            outputs= inc(images)\n",
        "            _, predicted = torch.max(outputs.data, 1)\n",
        "            pred.append(predicted.cpu().numpy())\n",
        "            total += labels.size(0)\n",
        "            correct += (predicted == labels).sum().item()\n",
        "\n",
        "    print('Accuracy of the network on the 1000 test dataset %d: %d %%' % (number , 100 * correct / total))\n",
        "    return 100 * correct / total"
      ],
      "execution_count": 0,
      "outputs": []
    },
    {
      "cell_type": "code",
      "metadata": {
        "id": "1_FPcf0t7re2",
        "colab_type": "code",
        "colab": {}
      },
      "source": [
        "def train_all(trainloader, ds_number, testloader_list):\n",
        "    \n",
        "    print(\"--\"*40)\n",
        "    print(\"training on data set  \", ds_number)\n",
        "    \n",
        "    inc = Net().double()\n",
        "    inc = inc.to(\"cuda\")\n",
        "    \n",
        "    criterion_inception = nn.CrossEntropyLoss()\n",
        "    optimizer_inception = optim.SGD(inc.parameters(), lr=0.01, momentum=0.9)\n",
        "    \n",
        "    acti = []\n",
        "    loss_curi = []\n",
        "    epochs = 70\n",
        "    \n",
        "    for epoch in range(epochs): # loop over the dataset multiple times\n",
        "        ep_lossi = []\n",
        "\n",
        "        running_loss = 0.0\n",
        "        for i, data in enumerate(trainloader, 0):\n",
        "            # get the inputs\n",
        "            inputs, labels = data\n",
        "            inputs, labels = inputs.to(\"cuda\"),labels.to(\"cuda\")\n",
        "\n",
        "            # zero the parameter gradients\n",
        "            optimizer_inception.zero_grad()\n",
        "\n",
        "            # forward + backward + optimize\n",
        "            outputs = inc(inputs)\n",
        "            loss = criterion_inception(outputs, labels)\n",
        "            loss.backward()\n",
        "            optimizer_inception.step()\n",
        "\n",
        "            # print statistics\n",
        "            running_loss += loss.item()\n",
        "            mini=4\n",
        "            if i % mini == mini-1:    # print every 10 mini-batches\n",
        "                print('[%d, %5d] loss: %.3f' %\n",
        "                      (epoch + 1, i + 1, running_loss / mini))\n",
        "                ep_lossi.append(running_loss/mini) # loss per minibatch\n",
        "                running_loss = 0.0\n",
        "        \n",
        "        # if(np.mean(ep_lossi)<=0.01):\n",
        "        #     break\n",
        "        loss_curi.append(np.mean(ep_lossi))   #loss per epoch\n",
        "\n",
        "\n",
        "\n",
        "\n",
        "    print('Finished Training')\n",
        "#     torch.save(inc.state_dict(),\"/content/drive/My Drive/Research/Experiments on CIFAR mosaic/Exp_2_Attention_models_on_9_datasets_made_from_10k_mosaic/weights/train_dataset_\"+str(ds_number)+\"_\"+str(epochs)+\".pt\")\n",
        "    \n",
        "    correct = 0\n",
        "    total = 0\n",
        "    with torch.no_grad():\n",
        "        for data in trainloader:\n",
        "            images, labels = data\n",
        "            images, labels = images.to(\"cuda\"), labels.to(\"cuda\")\n",
        "            outputs = inc(images)\n",
        "            _, predicted = torch.max(outputs.data, 1)\n",
        "            total += labels.size(0)\n",
        "            correct += (predicted == labels).sum().item()\n",
        "\n",
        "    print('Accuracy of the network on the 1000 train images: %d %%' % (  100 * correct / total))\n",
        "    \n",
        "    test_list=[]\n",
        "    for i, j in enumerate(testloader_list):\n",
        "        test_list.append(test_all(i+1, j,inc))\n",
        "    \n",
        "    print(\"--\"*40)\n",
        "    \n",
        "    return loss_curi,test_list"
      ],
      "execution_count": 0,
      "outputs": []
    },
    {
      "cell_type": "code",
      "metadata": {
        "id": "xC65oNSz7re3",
        "colab_type": "code",
        "colab": {
          "base_uri": "https://localhost:8080/",
          "height": 1000
        },
        "outputId": "7a5c23c8-a1ea-4fd0-cd75-b88eb4d837be"
      },
      "source": [
        "train_loss_all=[]\n",
        "\n",
        "testloader_list= [ testloader_1, testloader_2, testloader_3, testloader_4, testloader_5, testloader_6,\n",
        "                 testloader_7, testloader_8, testloader_9]\n",
        "\n",
        "test1 = train_loss_all.append(train_all(trainloader_1, 1, testloader_list))\n",
        "test2 = train_loss_all.append(train_all(trainloader_2, 2, testloader_list))\n",
        "test3 = train_loss_all.append(train_all(trainloader_3, 3, testloader_list))\n",
        "test4 = train_loss_all.append(train_all(trainloader_4, 4, testloader_list))\n",
        "test5 = train_loss_all.append(train_all(trainloader_5, 5, testloader_list))\n",
        "test6 = train_loss_all.append(train_all(trainloader_6, 6, testloader_list))\n",
        "test7 = train_loss_all.append(train_all(trainloader_7, 7, testloader_list))\n",
        "test8 = train_loss_all.append(train_all(trainloader_8, 8, testloader_list))\n",
        "test9 = train_loss_all.append(train_all(trainloader_9, 9, testloader_list))"
      ],
      "execution_count": 391,
      "outputs": [
        {
          "output_type": "stream",
          "text": [
            "--------------------------------------------------------------------------------\n",
            "training on data set   1\n",
            "[1,     4] loss: 1.091\n",
            "[2,     4] loss: 1.075\n",
            "[3,     4] loss: 1.052\n",
            "[4,     4] loss: 1.030\n",
            "[5,     4] loss: 1.010\n",
            "[6,     4] loss: 0.988\n",
            "[7,     4] loss: 0.965\n",
            "[8,     4] loss: 0.939\n",
            "[9,     4] loss: 0.912\n",
            "[10,     4] loss: 0.880\n",
            "[11,     4] loss: 0.849\n",
            "[12,     4] loss: 0.814\n",
            "[13,     4] loss: 0.778\n",
            "[14,     4] loss: 0.738\n",
            "[15,     4] loss: 0.699\n",
            "[16,     4] loss: 0.656\n",
            "[17,     4] loss: 0.615\n",
            "[18,     4] loss: 0.574\n",
            "[19,     4] loss: 0.535\n",
            "[20,     4] loss: 0.497\n",
            "[21,     4] loss: 0.462\n",
            "[22,     4] loss: 0.429\n",
            "[23,     4] loss: 0.397\n",
            "[24,     4] loss: 0.368\n",
            "[25,     4] loss: 0.340\n",
            "[26,     4] loss: 0.314\n",
            "[27,     4] loss: 0.289\n",
            "[28,     4] loss: 0.266\n",
            "[29,     4] loss: 0.245\n",
            "[30,     4] loss: 0.225\n",
            "[31,     4] loss: 0.206\n",
            "[32,     4] loss: 0.189\n",
            "[33,     4] loss: 0.174\n",
            "[34,     4] loss: 0.159\n",
            "[35,     4] loss: 0.146\n",
            "[36,     4] loss: 0.134\n",
            "[37,     4] loss: 0.123\n",
            "[38,     4] loss: 0.114\n",
            "[39,     4] loss: 0.105\n",
            "[40,     4] loss: 0.097\n",
            "[41,     4] loss: 0.090\n",
            "[42,     4] loss: 0.083\n",
            "[43,     4] loss: 0.077\n",
            "[44,     4] loss: 0.072\n",
            "[45,     4] loss: 0.067\n",
            "[46,     4] loss: 0.063\n",
            "[47,     4] loss: 0.059\n",
            "[48,     4] loss: 0.055\n",
            "[49,     4] loss: 0.052\n",
            "[50,     4] loss: 0.049\n",
            "[51,     4] loss: 0.047\n",
            "[52,     4] loss: 0.044\n",
            "[53,     4] loss: 0.042\n",
            "[54,     4] loss: 0.040\n",
            "[55,     4] loss: 0.038\n",
            "[56,     4] loss: 0.036\n",
            "[57,     4] loss: 0.034\n",
            "[58,     4] loss: 0.033\n",
            "[59,     4] loss: 0.031\n",
            "[60,     4] loss: 0.030\n",
            "[61,     4] loss: 0.029\n",
            "[62,     4] loss: 0.028\n",
            "[63,     4] loss: 0.027\n",
            "[64,     4] loss: 0.026\n",
            "[65,     4] loss: 0.025\n",
            "[66,     4] loss: 0.024\n",
            "[67,     4] loss: 0.023\n",
            "[68,     4] loss: 0.022\n",
            "[69,     4] loss: 0.022\n",
            "[70,     4] loss: 0.021\n",
            "Finished Training\n",
            "Accuracy of the network on the 1000 train images: 100 %\n",
            "Accuracy of the network on the 1000 test dataset 1: 100 %\n",
            "Accuracy of the network on the 1000 test dataset 2: 99 %\n",
            "Accuracy of the network on the 1000 test dataset 3: 82 %\n",
            "Accuracy of the network on the 1000 test dataset 4: 74 %\n",
            "Accuracy of the network on the 1000 test dataset 5: 71 %\n",
            "Accuracy of the network on the 1000 test dataset 6: 71 %\n",
            "Accuracy of the network on the 1000 test dataset 7: 71 %\n",
            "Accuracy of the network on the 1000 test dataset 8: 71 %\n",
            "Accuracy of the network on the 1000 test dataset 9: 71 %\n",
            "--------------------------------------------------------------------------------\n",
            "--------------------------------------------------------------------------------\n",
            "training on data set   2\n",
            "[1,     4] loss: 1.096\n",
            "[2,     4] loss: 1.057\n",
            "[3,     4] loss: 0.998\n",
            "[4,     4] loss: 0.934\n",
            "[5,     4] loss: 0.864\n",
            "[6,     4] loss: 0.793\n",
            "[7,     4] loss: 0.715\n",
            "[8,     4] loss: 0.638\n",
            "[9,     4] loss: 0.565\n",
            "[10,     4] loss: 0.497\n",
            "[11,     4] loss: 0.439\n",
            "[12,     4] loss: 0.387\n",
            "[13,     4] loss: 0.344\n",
            "[14,     4] loss: 0.307\n",
            "[15,     4] loss: 0.275\n",
            "[16,     4] loss: 0.247\n",
            "[17,     4] loss: 0.223\n",
            "[18,     4] loss: 0.201\n",
            "[19,     4] loss: 0.182\n",
            "[20,     4] loss: 0.164\n",
            "[21,     4] loss: 0.149\n",
            "[22,     4] loss: 0.134\n",
            "[23,     4] loss: 0.121\n",
            "[24,     4] loss: 0.110\n",
            "[25,     4] loss: 0.100\n",
            "[26,     4] loss: 0.091\n",
            "[27,     4] loss: 0.083\n",
            "[28,     4] loss: 0.076\n",
            "[29,     4] loss: 0.070\n",
            "[30,     4] loss: 0.064\n",
            "[31,     4] loss: 0.059\n",
            "[32,     4] loss: 0.055\n",
            "[33,     4] loss: 0.051\n",
            "[34,     4] loss: 0.047\n",
            "[35,     4] loss: 0.044\n",
            "[36,     4] loss: 0.041\n",
            "[37,     4] loss: 0.039\n",
            "[38,     4] loss: 0.036\n",
            "[39,     4] loss: 0.034\n",
            "[40,     4] loss: 0.032\n",
            "[41,     4] loss: 0.031\n",
            "[42,     4] loss: 0.029\n",
            "[43,     4] loss: 0.028\n",
            "[44,     4] loss: 0.026\n",
            "[45,     4] loss: 0.025\n",
            "[46,     4] loss: 0.024\n",
            "[47,     4] loss: 0.023\n",
            "[48,     4] loss: 0.022\n",
            "[49,     4] loss: 0.021\n",
            "[50,     4] loss: 0.020\n",
            "[51,     4] loss: 0.019\n",
            "[52,     4] loss: 0.018\n",
            "[53,     4] loss: 0.018\n",
            "[54,     4] loss: 0.017\n",
            "[55,     4] loss: 0.017\n",
            "[56,     4] loss: 0.016\n",
            "[57,     4] loss: 0.015\n",
            "[58,     4] loss: 0.015\n",
            "[59,     4] loss: 0.014\n",
            "[60,     4] loss: 0.014\n",
            "[61,     4] loss: 0.014\n",
            "[62,     4] loss: 0.013\n",
            "[63,     4] loss: 0.013\n",
            "[64,     4] loss: 0.012\n",
            "[65,     4] loss: 0.012\n",
            "[66,     4] loss: 0.012\n",
            "[67,     4] loss: 0.011\n",
            "[68,     4] loss: 0.011\n",
            "[69,     4] loss: 0.011\n",
            "[70,     4] loss: 0.011\n",
            "Finished Training\n",
            "Accuracy of the network on the 1000 train images: 100 %\n",
            "Accuracy of the network on the 1000 test dataset 1: 71 %\n",
            "Accuracy of the network on the 1000 test dataset 2: 100 %\n",
            "Accuracy of the network on the 1000 test dataset 3: 100 %\n",
            "Accuracy of the network on the 1000 test dataset 4: 99 %\n",
            "Accuracy of the network on the 1000 test dataset 5: 97 %\n",
            "Accuracy of the network on the 1000 test dataset 6: 94 %\n",
            "Accuracy of the network on the 1000 test dataset 7: 90 %\n",
            "Accuracy of the network on the 1000 test dataset 8: 86 %\n",
            "Accuracy of the network on the 1000 test dataset 9: 82 %\n",
            "--------------------------------------------------------------------------------\n",
            "--------------------------------------------------------------------------------\n",
            "training on data set   3\n",
            "[1,     4] loss: 1.061\n",
            "[2,     4] loss: 0.997\n",
            "[3,     4] loss: 0.895\n",
            "[4,     4] loss: 0.778\n",
            "[5,     4] loss: 0.659\n",
            "[6,     4] loss: 0.550\n",
            "[7,     4] loss: 0.454\n",
            "[8,     4] loss: 0.372\n",
            "[9,     4] loss: 0.307\n",
            "[10,     4] loss: 0.254\n",
            "[11,     4] loss: 0.211\n",
            "[12,     4] loss: 0.179\n",
            "[13,     4] loss: 0.155\n",
            "[14,     4] loss: 0.135\n",
            "[15,     4] loss: 0.119\n",
            "[16,     4] loss: 0.106\n",
            "[17,     4] loss: 0.095\n",
            "[18,     4] loss: 0.087\n",
            "[19,     4] loss: 0.079\n",
            "[20,     4] loss: 0.073\n",
            "[21,     4] loss: 0.067\n",
            "[22,     4] loss: 0.062\n",
            "[23,     4] loss: 0.058\n",
            "[24,     4] loss: 0.054\n",
            "[25,     4] loss: 0.050\n",
            "[26,     4] loss: 0.047\n",
            "[27,     4] loss: 0.044\n",
            "[28,     4] loss: 0.042\n",
            "[29,     4] loss: 0.040\n",
            "[30,     4] loss: 0.037\n",
            "[31,     4] loss: 0.035\n",
            "[32,     4] loss: 0.034\n",
            "[33,     4] loss: 0.032\n",
            "[34,     4] loss: 0.030\n",
            "[35,     4] loss: 0.029\n",
            "[36,     4] loss: 0.028\n",
            "[37,     4] loss: 0.026\n",
            "[38,     4] loss: 0.025\n",
            "[39,     4] loss: 0.024\n",
            "[40,     4] loss: 0.023\n",
            "[41,     4] loss: 0.022\n",
            "[42,     4] loss: 0.021\n",
            "[43,     4] loss: 0.020\n",
            "[44,     4] loss: 0.019\n",
            "[45,     4] loss: 0.019\n",
            "[46,     4] loss: 0.018\n",
            "[47,     4] loss: 0.017\n",
            "[48,     4] loss: 0.017\n",
            "[49,     4] loss: 0.016\n",
            "[50,     4] loss: 0.016\n",
            "[51,     4] loss: 0.015\n",
            "[52,     4] loss: 0.014\n",
            "[53,     4] loss: 0.014\n",
            "[54,     4] loss: 0.014\n",
            "[55,     4] loss: 0.013\n",
            "[56,     4] loss: 0.013\n",
            "[57,     4] loss: 0.012\n",
            "[58,     4] loss: 0.012\n",
            "[59,     4] loss: 0.012\n",
            "[60,     4] loss: 0.011\n",
            "[61,     4] loss: 0.011\n",
            "[62,     4] loss: 0.011\n",
            "[63,     4] loss: 0.010\n",
            "[64,     4] loss: 0.010\n",
            "[65,     4] loss: 0.010\n",
            "[66,     4] loss: 0.010\n",
            "[67,     4] loss: 0.009\n",
            "[68,     4] loss: 0.009\n",
            "[69,     4] loss: 0.009\n",
            "[70,     4] loss: 0.009\n",
            "Finished Training\n",
            "Accuracy of the network on the 1000 train images: 100 %\n",
            "Accuracy of the network on the 1000 test dataset 1: 54 %\n",
            "Accuracy of the network on the 1000 test dataset 2: 95 %\n",
            "Accuracy of the network on the 1000 test dataset 3: 100 %\n",
            "Accuracy of the network on the 1000 test dataset 4: 100 %\n",
            "Accuracy of the network on the 1000 test dataset 5: 100 %\n",
            "Accuracy of the network on the 1000 test dataset 6: 100 %\n",
            "Accuracy of the network on the 1000 test dataset 7: 100 %\n",
            "Accuracy of the network on the 1000 test dataset 8: 100 %\n",
            "Accuracy of the network on the 1000 test dataset 9: 100 %\n",
            "--------------------------------------------------------------------------------\n",
            "--------------------------------------------------------------------------------\n",
            "training on data set   4\n",
            "[1,     4] loss: 1.063\n",
            "[2,     4] loss: 0.885\n",
            "[3,     4] loss: 0.687\n",
            "[4,     4] loss: 0.528\n",
            "[5,     4] loss: 0.397\n",
            "[6,     4] loss: 0.290\n",
            "[7,     4] loss: 0.211\n",
            "[8,     4] loss: 0.160\n",
            "[9,     4] loss: 0.123\n",
            "[10,     4] loss: 0.097\n",
            "[11,     4] loss: 0.078\n",
            "[12,     4] loss: 0.065\n",
            "[13,     4] loss: 0.056\n",
            "[14,     4] loss: 0.050\n",
            "[15,     4] loss: 0.045\n",
            "[16,     4] loss: 0.041\n",
            "[17,     4] loss: 0.038\n",
            "[18,     4] loss: 0.035\n",
            "[19,     4] loss: 0.033\n",
            "[20,     4] loss: 0.031\n",
            "[21,     4] loss: 0.029\n",
            "[22,     4] loss: 0.028\n",
            "[23,     4] loss: 0.026\n",
            "[24,     4] loss: 0.025\n",
            "[25,     4] loss: 0.024\n",
            "[26,     4] loss: 0.023\n",
            "[27,     4] loss: 0.022\n",
            "[28,     4] loss: 0.021\n",
            "[29,     4] loss: 0.020\n",
            "[30,     4] loss: 0.019\n",
            "[31,     4] loss: 0.019\n",
            "[32,     4] loss: 0.018\n",
            "[33,     4] loss: 0.018\n",
            "[34,     4] loss: 0.017\n",
            "[35,     4] loss: 0.016\n",
            "[36,     4] loss: 0.016\n",
            "[37,     4] loss: 0.016\n",
            "[38,     4] loss: 0.015\n",
            "[39,     4] loss: 0.015\n",
            "[40,     4] loss: 0.014\n",
            "[41,     4] loss: 0.014\n",
            "[42,     4] loss: 0.013\n",
            "[43,     4] loss: 0.013\n",
            "[44,     4] loss: 0.013\n",
            "[45,     4] loss: 0.012\n",
            "[46,     4] loss: 0.012\n",
            "[47,     4] loss: 0.012\n",
            "[48,     4] loss: 0.011\n",
            "[49,     4] loss: 0.011\n",
            "[50,     4] loss: 0.011\n",
            "[51,     4] loss: 0.011\n",
            "[52,     4] loss: 0.010\n",
            "[53,     4] loss: 0.010\n",
            "[54,     4] loss: 0.010\n",
            "[55,     4] loss: 0.010\n",
            "[56,     4] loss: 0.009\n",
            "[57,     4] loss: 0.009\n",
            "[58,     4] loss: 0.009\n",
            "[59,     4] loss: 0.009\n",
            "[60,     4] loss: 0.009\n",
            "[61,     4] loss: 0.009\n",
            "[62,     4] loss: 0.008\n",
            "[63,     4] loss: 0.008\n",
            "[64,     4] loss: 0.008\n",
            "[65,     4] loss: 0.008\n",
            "[66,     4] loss: 0.008\n",
            "[67,     4] loss: 0.008\n",
            "[68,     4] loss: 0.007\n",
            "[69,     4] loss: 0.007\n",
            "[70,     4] loss: 0.007\n",
            "Finished Training\n",
            "Accuracy of the network on the 1000 train images: 100 %\n",
            "Accuracy of the network on the 1000 test dataset 1: 52 %\n",
            "Accuracy of the network on the 1000 test dataset 2: 79 %\n",
            "Accuracy of the network on the 1000 test dataset 3: 97 %\n",
            "Accuracy of the network on the 1000 test dataset 4: 100 %\n",
            "Accuracy of the network on the 1000 test dataset 5: 100 %\n",
            "Accuracy of the network on the 1000 test dataset 6: 100 %\n",
            "Accuracy of the network on the 1000 test dataset 7: 100 %\n",
            "Accuracy of the network on the 1000 test dataset 8: 100 %\n",
            "Accuracy of the network on the 1000 test dataset 9: 100 %\n",
            "--------------------------------------------------------------------------------\n",
            "--------------------------------------------------------------------------------\n",
            "training on data set   5\n",
            "[1,     4] loss: 0.997\n",
            "[2,     4] loss: 0.803\n",
            "[3,     4] loss: 0.582\n",
            "[4,     4] loss: 0.404\n",
            "[5,     4] loss: 0.271\n",
            "[6,     4] loss: 0.176\n",
            "[7,     4] loss: 0.113\n",
            "[8,     4] loss: 0.076\n",
            "[9,     4] loss: 0.054\n",
            "[10,     4] loss: 0.040\n",
            "[11,     4] loss: 0.030\n",
            "[12,     4] loss: 0.024\n",
            "[13,     4] loss: 0.019\n",
            "[14,     4] loss: 0.017\n",
            "[15,     4] loss: 0.014\n",
            "[16,     4] loss: 0.013\n",
            "[17,     4] loss: 0.012\n",
            "[18,     4] loss: 0.011\n",
            "[19,     4] loss: 0.010\n",
            "[20,     4] loss: 0.009\n",
            "[21,     4] loss: 0.009\n",
            "[22,     4] loss: 0.008\n",
            "[23,     4] loss: 0.008\n",
            "[24,     4] loss: 0.008\n",
            "[25,     4] loss: 0.007\n",
            "[26,     4] loss: 0.007\n",
            "[27,     4] loss: 0.007\n",
            "[28,     4] loss: 0.006\n",
            "[29,     4] loss: 0.006\n",
            "[30,     4] loss: 0.006\n",
            "[31,     4] loss: 0.006\n",
            "[32,     4] loss: 0.006\n",
            "[33,     4] loss: 0.005\n",
            "[34,     4] loss: 0.005\n",
            "[35,     4] loss: 0.005\n",
            "[36,     4] loss: 0.005\n",
            "[37,     4] loss: 0.005\n",
            "[38,     4] loss: 0.005\n",
            "[39,     4] loss: 0.005\n",
            "[40,     4] loss: 0.004\n",
            "[41,     4] loss: 0.004\n",
            "[42,     4] loss: 0.004\n",
            "[43,     4] loss: 0.004\n",
            "[44,     4] loss: 0.004\n",
            "[45,     4] loss: 0.004\n",
            "[46,     4] loss: 0.004\n",
            "[47,     4] loss: 0.004\n",
            "[48,     4] loss: 0.004\n",
            "[49,     4] loss: 0.004\n",
            "[50,     4] loss: 0.003\n",
            "[51,     4] loss: 0.003\n",
            "[52,     4] loss: 0.003\n",
            "[53,     4] loss: 0.003\n",
            "[54,     4] loss: 0.003\n",
            "[55,     4] loss: 0.003\n",
            "[56,     4] loss: 0.003\n",
            "[57,     4] loss: 0.003\n",
            "[58,     4] loss: 0.003\n",
            "[59,     4] loss: 0.003\n",
            "[60,     4] loss: 0.003\n",
            "[61,     4] loss: 0.003\n",
            "[62,     4] loss: 0.003\n",
            "[63,     4] loss: 0.003\n",
            "[64,     4] loss: 0.003\n",
            "[65,     4] loss: 0.003\n",
            "[66,     4] loss: 0.003\n",
            "[67,     4] loss: 0.003\n",
            "[68,     4] loss: 0.002\n",
            "[69,     4] loss: 0.002\n",
            "[70,     4] loss: 0.002\n",
            "Finished Training\n",
            "Accuracy of the network on the 1000 train images: 100 %\n",
            "Accuracy of the network on the 1000 test dataset 1: 55 %\n",
            "Accuracy of the network on the 1000 test dataset 2: 75 %\n",
            "Accuracy of the network on the 1000 test dataset 3: 93 %\n",
            "Accuracy of the network on the 1000 test dataset 4: 99 %\n",
            "Accuracy of the network on the 1000 test dataset 5: 100 %\n",
            "Accuracy of the network on the 1000 test dataset 6: 100 %\n",
            "Accuracy of the network on the 1000 test dataset 7: 100 %\n",
            "Accuracy of the network on the 1000 test dataset 8: 100 %\n",
            "Accuracy of the network on the 1000 test dataset 9: 100 %\n",
            "--------------------------------------------------------------------------------\n",
            "--------------------------------------------------------------------------------\n",
            "training on data set   6\n",
            "[1,     4] loss: 1.013\n",
            "[2,     4] loss: 0.786\n",
            "[3,     4] loss: 0.556\n",
            "[4,     4] loss: 0.379\n",
            "[5,     4] loss: 0.240\n",
            "[6,     4] loss: 0.143\n",
            "[7,     4] loss: 0.082\n",
            "[8,     4] loss: 0.050\n",
            "[9,     4] loss: 0.033\n",
            "[10,     4] loss: 0.024\n",
            "[11,     4] loss: 0.018\n",
            "[12,     4] loss: 0.014\n",
            "[13,     4] loss: 0.012\n",
            "[14,     4] loss: 0.010\n",
            "[15,     4] loss: 0.009\n",
            "[16,     4] loss: 0.008\n",
            "[17,     4] loss: 0.007\n",
            "[18,     4] loss: 0.006\n",
            "[19,     4] loss: 0.006\n",
            "[20,     4] loss: 0.006\n",
            "[21,     4] loss: 0.005\n",
            "[22,     4] loss: 0.005\n",
            "[23,     4] loss: 0.005\n",
            "[24,     4] loss: 0.005\n",
            "[25,     4] loss: 0.004\n",
            "[26,     4] loss: 0.004\n",
            "[27,     4] loss: 0.004\n",
            "[28,     4] loss: 0.004\n",
            "[29,     4] loss: 0.004\n",
            "[30,     4] loss: 0.004\n",
            "[31,     4] loss: 0.003\n",
            "[32,     4] loss: 0.003\n",
            "[33,     4] loss: 0.003\n",
            "[34,     4] loss: 0.003\n",
            "[35,     4] loss: 0.003\n",
            "[36,     4] loss: 0.003\n",
            "[37,     4] loss: 0.003\n",
            "[38,     4] loss: 0.003\n",
            "[39,     4] loss: 0.003\n",
            "[40,     4] loss: 0.003\n",
            "[41,     4] loss: 0.003\n",
            "[42,     4] loss: 0.003\n",
            "[43,     4] loss: 0.002\n",
            "[44,     4] loss: 0.002\n",
            "[45,     4] loss: 0.002\n",
            "[46,     4] loss: 0.002\n",
            "[47,     4] loss: 0.002\n",
            "[48,     4] loss: 0.002\n",
            "[49,     4] loss: 0.002\n",
            "[50,     4] loss: 0.002\n",
            "[51,     4] loss: 0.002\n",
            "[52,     4] loss: 0.002\n",
            "[53,     4] loss: 0.002\n",
            "[54,     4] loss: 0.002\n",
            "[55,     4] loss: 0.002\n",
            "[56,     4] loss: 0.002\n",
            "[57,     4] loss: 0.002\n",
            "[58,     4] loss: 0.002\n",
            "[59,     4] loss: 0.002\n",
            "[60,     4] loss: 0.002\n",
            "[61,     4] loss: 0.002\n",
            "[62,     4] loss: 0.002\n",
            "[63,     4] loss: 0.002\n",
            "[64,     4] loss: 0.002\n",
            "[65,     4] loss: 0.002\n",
            "[66,     4] loss: 0.002\n",
            "[67,     4] loss: 0.002\n",
            "[68,     4] loss: 0.002\n",
            "[69,     4] loss: 0.001\n",
            "[70,     4] loss: 0.001\n",
            "Finished Training\n",
            "Accuracy of the network on the 1000 train images: 100 %\n",
            "Accuracy of the network on the 1000 test dataset 1: 56 %\n",
            "Accuracy of the network on the 1000 test dataset 2: 77 %\n",
            "Accuracy of the network on the 1000 test dataset 3: 92 %\n",
            "Accuracy of the network on the 1000 test dataset 4: 99 %\n",
            "Accuracy of the network on the 1000 test dataset 5: 100 %\n",
            "Accuracy of the network on the 1000 test dataset 6: 100 %\n",
            "Accuracy of the network on the 1000 test dataset 7: 100 %\n",
            "Accuracy of the network on the 1000 test dataset 8: 100 %\n",
            "Accuracy of the network on the 1000 test dataset 9: 100 %\n",
            "--------------------------------------------------------------------------------\n",
            "--------------------------------------------------------------------------------\n",
            "training on data set   7\n",
            "[1,     4] loss: 0.968\n",
            "[2,     4] loss: 0.695\n",
            "[3,     4] loss: 0.461\n",
            "[4,     4] loss: 0.255\n",
            "[5,     4] loss: 0.120\n",
            "[6,     4] loss: 0.060\n",
            "[7,     4] loss: 0.034\n",
            "[8,     4] loss: 0.020\n",
            "[9,     4] loss: 0.012\n",
            "[10,     4] loss: 0.008\n",
            "[11,     4] loss: 0.006\n",
            "[12,     4] loss: 0.005\n",
            "[13,     4] loss: 0.005\n",
            "[14,     4] loss: 0.004\n",
            "[15,     4] loss: 0.004\n",
            "[16,     4] loss: 0.003\n",
            "[17,     4] loss: 0.003\n",
            "[18,     4] loss: 0.003\n",
            "[19,     4] loss: 0.003\n",
            "[20,     4] loss: 0.003\n",
            "[21,     4] loss: 0.003\n",
            "[22,     4] loss: 0.003\n",
            "[23,     4] loss: 0.002\n",
            "[24,     4] loss: 0.002\n",
            "[25,     4] loss: 0.002\n",
            "[26,     4] loss: 0.002\n",
            "[27,     4] loss: 0.002\n",
            "[28,     4] loss: 0.002\n",
            "[29,     4] loss: 0.002\n",
            "[30,     4] loss: 0.002\n",
            "[31,     4] loss: 0.002\n",
            "[32,     4] loss: 0.002\n",
            "[33,     4] loss: 0.002\n",
            "[34,     4] loss: 0.002\n",
            "[35,     4] loss: 0.002\n",
            "[36,     4] loss: 0.002\n",
            "[37,     4] loss: 0.002\n",
            "[38,     4] loss: 0.002\n",
            "[39,     4] loss: 0.002\n",
            "[40,     4] loss: 0.002\n",
            "[41,     4] loss: 0.001\n",
            "[42,     4] loss: 0.001\n",
            "[43,     4] loss: 0.001\n",
            "[44,     4] loss: 0.001\n",
            "[45,     4] loss: 0.001\n",
            "[46,     4] loss: 0.001\n",
            "[47,     4] loss: 0.001\n",
            "[48,     4] loss: 0.001\n",
            "[49,     4] loss: 0.001\n",
            "[50,     4] loss: 0.001\n",
            "[51,     4] loss: 0.001\n",
            "[52,     4] loss: 0.001\n",
            "[53,     4] loss: 0.001\n",
            "[54,     4] loss: 0.001\n",
            "[55,     4] loss: 0.001\n",
            "[56,     4] loss: 0.001\n",
            "[57,     4] loss: 0.001\n",
            "[58,     4] loss: 0.001\n",
            "[59,     4] loss: 0.001\n",
            "[60,     4] loss: 0.001\n",
            "[61,     4] loss: 0.001\n",
            "[62,     4] loss: 0.001\n",
            "[63,     4] loss: 0.001\n",
            "[64,     4] loss: 0.001\n",
            "[65,     4] loss: 0.001\n",
            "[66,     4] loss: 0.001\n",
            "[67,     4] loss: 0.001\n",
            "[68,     4] loss: 0.001\n",
            "[69,     4] loss: 0.001\n",
            "[70,     4] loss: 0.001\n",
            "Finished Training\n",
            "Accuracy of the network on the 1000 train images: 100 %\n",
            "Accuracy of the network on the 1000 test dataset 1: 53 %\n",
            "Accuracy of the network on the 1000 test dataset 2: 74 %\n",
            "Accuracy of the network on the 1000 test dataset 3: 91 %\n",
            "Accuracy of the network on the 1000 test dataset 4: 99 %\n",
            "Accuracy of the network on the 1000 test dataset 5: 100 %\n",
            "Accuracy of the network on the 1000 test dataset 6: 100 %\n",
            "Accuracy of the network on the 1000 test dataset 7: 100 %\n",
            "Accuracy of the network on the 1000 test dataset 8: 100 %\n",
            "Accuracy of the network on the 1000 test dataset 9: 100 %\n",
            "--------------------------------------------------------------------------------\n",
            "--------------------------------------------------------------------------------\n",
            "training on data set   8\n",
            "[1,     4] loss: 0.890\n",
            "[2,     4] loss: 0.546\n",
            "[3,     4] loss: 0.295\n",
            "[4,     4] loss: 0.138\n",
            "[5,     4] loss: 0.058\n",
            "[6,     4] loss: 0.025\n",
            "[7,     4] loss: 0.012\n",
            "[8,     4] loss: 0.007\n",
            "[9,     4] loss: 0.005\n",
            "[10,     4] loss: 0.004\n",
            "[11,     4] loss: 0.003\n",
            "[12,     4] loss: 0.003\n",
            "[13,     4] loss: 0.002\n",
            "[14,     4] loss: 0.002\n",
            "[15,     4] loss: 0.002\n",
            "[16,     4] loss: 0.002\n",
            "[17,     4] loss: 0.002\n",
            "[18,     4] loss: 0.002\n",
            "[19,     4] loss: 0.002\n",
            "[20,     4] loss: 0.002\n",
            "[21,     4] loss: 0.002\n",
            "[22,     4] loss: 0.001\n",
            "[23,     4] loss: 0.001\n",
            "[24,     4] loss: 0.001\n",
            "[25,     4] loss: 0.001\n",
            "[26,     4] loss: 0.001\n",
            "[27,     4] loss: 0.001\n",
            "[28,     4] loss: 0.001\n",
            "[29,     4] loss: 0.001\n",
            "[30,     4] loss: 0.001\n",
            "[31,     4] loss: 0.001\n",
            "[32,     4] loss: 0.001\n",
            "[33,     4] loss: 0.001\n",
            "[34,     4] loss: 0.001\n",
            "[35,     4] loss: 0.001\n",
            "[36,     4] loss: 0.001\n",
            "[37,     4] loss: 0.001\n",
            "[38,     4] loss: 0.001\n",
            "[39,     4] loss: 0.001\n",
            "[40,     4] loss: 0.001\n",
            "[41,     4] loss: 0.001\n",
            "[42,     4] loss: 0.001\n",
            "[43,     4] loss: 0.001\n",
            "[44,     4] loss: 0.001\n",
            "[45,     4] loss: 0.001\n",
            "[46,     4] loss: 0.001\n",
            "[47,     4] loss: 0.001\n",
            "[48,     4] loss: 0.001\n",
            "[49,     4] loss: 0.001\n",
            "[50,     4] loss: 0.001\n",
            "[51,     4] loss: 0.001\n",
            "[52,     4] loss: 0.001\n",
            "[53,     4] loss: 0.001\n",
            "[54,     4] loss: 0.001\n",
            "[55,     4] loss: 0.001\n",
            "[56,     4] loss: 0.001\n",
            "[57,     4] loss: 0.001\n",
            "[58,     4] loss: 0.001\n",
            "[59,     4] loss: 0.001\n",
            "[60,     4] loss: 0.001\n",
            "[61,     4] loss: 0.001\n",
            "[62,     4] loss: 0.001\n",
            "[63,     4] loss: 0.001\n",
            "[64,     4] loss: 0.001\n",
            "[65,     4] loss: 0.001\n",
            "[66,     4] loss: 0.001\n",
            "[67,     4] loss: 0.001\n",
            "[68,     4] loss: 0.001\n",
            "[69,     4] loss: 0.001\n",
            "[70,     4] loss: 0.001\n",
            "Finished Training\n",
            "Accuracy of the network on the 1000 train images: 100 %\n",
            "Accuracy of the network on the 1000 test dataset 1: 56 %\n",
            "Accuracy of the network on the 1000 test dataset 2: 75 %\n",
            "Accuracy of the network on the 1000 test dataset 3: 91 %\n",
            "Accuracy of the network on the 1000 test dataset 4: 98 %\n",
            "Accuracy of the network on the 1000 test dataset 5: 100 %\n",
            "Accuracy of the network on the 1000 test dataset 6: 100 %\n",
            "Accuracy of the network on the 1000 test dataset 7: 100 %\n",
            "Accuracy of the network on the 1000 test dataset 8: 100 %\n",
            "Accuracy of the network on the 1000 test dataset 9: 100 %\n",
            "--------------------------------------------------------------------------------\n",
            "--------------------------------------------------------------------------------\n",
            "training on data set   9\n",
            "[1,     4] loss: 1.088\n",
            "[2,     4] loss: 0.647\n",
            "[3,     4] loss: 0.356\n",
            "[4,     4] loss: 0.171\n",
            "[5,     4] loss: 0.068\n",
            "[6,     4] loss: 0.027\n",
            "[7,     4] loss: 0.014\n",
            "[8,     4] loss: 0.008\n",
            "[9,     4] loss: 0.006\n",
            "[10,     4] loss: 0.004\n",
            "[11,     4] loss: 0.003\n",
            "[12,     4] loss: 0.003\n",
            "[13,     4] loss: 0.002\n",
            "[14,     4] loss: 0.002\n",
            "[15,     4] loss: 0.002\n",
            "[16,     4] loss: 0.002\n",
            "[17,     4] loss: 0.002\n",
            "[18,     4] loss: 0.002\n",
            "[19,     4] loss: 0.001\n",
            "[20,     4] loss: 0.001\n",
            "[21,     4] loss: 0.001\n",
            "[22,     4] loss: 0.001\n",
            "[23,     4] loss: 0.001\n",
            "[24,     4] loss: 0.001\n",
            "[25,     4] loss: 0.001\n",
            "[26,     4] loss: 0.001\n",
            "[27,     4] loss: 0.001\n",
            "[28,     4] loss: 0.001\n",
            "[29,     4] loss: 0.001\n",
            "[30,     4] loss: 0.001\n",
            "[31,     4] loss: 0.001\n",
            "[32,     4] loss: 0.001\n",
            "[33,     4] loss: 0.001\n",
            "[34,     4] loss: 0.001\n",
            "[35,     4] loss: 0.001\n",
            "[36,     4] loss: 0.001\n",
            "[37,     4] loss: 0.001\n",
            "[38,     4] loss: 0.001\n",
            "[39,     4] loss: 0.001\n",
            "[40,     4] loss: 0.001\n",
            "[41,     4] loss: 0.001\n",
            "[42,     4] loss: 0.001\n",
            "[43,     4] loss: 0.001\n",
            "[44,     4] loss: 0.001\n",
            "[45,     4] loss: 0.001\n",
            "[46,     4] loss: 0.001\n",
            "[47,     4] loss: 0.001\n",
            "[48,     4] loss: 0.001\n",
            "[49,     4] loss: 0.001\n",
            "[50,     4] loss: 0.001\n",
            "[51,     4] loss: 0.001\n",
            "[52,     4] loss: 0.001\n",
            "[53,     4] loss: 0.001\n",
            "[54,     4] loss: 0.001\n",
            "[55,     4] loss: 0.001\n",
            "[56,     4] loss: 0.001\n",
            "[57,     4] loss: 0.001\n",
            "[58,     4] loss: 0.001\n",
            "[59,     4] loss: 0.001\n",
            "[60,     4] loss: 0.001\n",
            "[61,     4] loss: 0.001\n",
            "[62,     4] loss: 0.001\n",
            "[63,     4] loss: 0.001\n",
            "[64,     4] loss: 0.001\n",
            "[65,     4] loss: 0.001\n",
            "[66,     4] loss: 0.001\n",
            "[67,     4] loss: 0.001\n",
            "[68,     4] loss: 0.001\n",
            "[69,     4] loss: 0.001\n",
            "[70,     4] loss: 0.001\n",
            "Finished Training\n",
            "Accuracy of the network on the 1000 train images: 100 %\n",
            "Accuracy of the network on the 1000 test dataset 1: 56 %\n",
            "Accuracy of the network on the 1000 test dataset 2: 79 %\n",
            "Accuracy of the network on the 1000 test dataset 3: 93 %\n",
            "Accuracy of the network on the 1000 test dataset 4: 99 %\n",
            "Accuracy of the network on the 1000 test dataset 5: 100 %\n",
            "Accuracy of the network on the 1000 test dataset 6: 100 %\n",
            "Accuracy of the network on the 1000 test dataset 7: 100 %\n",
            "Accuracy of the network on the 1000 test dataset 8: 100 %\n",
            "Accuracy of the network on the 1000 test dataset 9: 100 %\n",
            "--------------------------------------------------------------------------------\n"
          ],
          "name": "stdout"
        }
      ]
    },
    {
      "cell_type": "code",
      "metadata": {
        "id": "kdh1-GQ17re7",
        "colab_type": "code",
        "colab": {
          "base_uri": "https://localhost:8080/",
          "height": 296
        },
        "outputId": "a7e91045-5a51-41bd-feee-7e1ab6fbc641"
      },
      "source": [
        "ds = np.arange(1,10)\n",
        "for i in range(9):\n",
        "  plt.plot(ds,train_loss_all[i][1], label=\"dataset_\"+str(i+1))\n",
        "plt.legend(loc='center left', bbox_to_anchor=(1, 0.5))\n",
        "plt.xlabel(\"dataset\")\n",
        "plt.ylabel(\"train accuracy\")"
      ],
      "execution_count": 392,
      "outputs": [
        {
          "output_type": "execute_result",
          "data": {
            "text/plain": [
              "Text(0, 0.5, 'train accuracy')"
            ]
          },
          "metadata": {
            "tags": []
          },
          "execution_count": 392
        },
        {
          "output_type": "display_data",
          "data": {
            "image/png": "[encoded data removed]",
            "text/plain": [
              "<Figure size 432x288 with 1 Axes>"
            ]
          },
          "metadata": {
            "tags": []
          }
        }
      ]
    },
    {
      "cell_type": "code",
      "metadata": {
        "id": "eQVRrvG5_kgi",
        "colab_type": "code",
        "colab": {
          "base_uri": "https://localhost:8080/",
          "height": 296
        },
        "outputId": "d3aac239-0f54-48ef-b4fc-1cd46a2bbe25"
      },
      "source": [
        "ds = np.arange(1,71)\n",
        "for i in range(9):\n",
        "  plt.plot(ds,train_loss_all[i][0], label=\"dataset_\"+str(i))\n",
        "plt.legend(loc='center left', bbox_to_anchor=(1, 0.5))\n",
        "plt.xlabel(\"epochs\")\n",
        "plt.ylabel(\"log loss\")"
      ],
      "execution_count": 393,
      "outputs": [
        {
          "output_type": "execute_result",
          "data": {
            "text/plain": [
              "Text(0, 0.5, 'log loss')"
            ]
          },
          "metadata": {
            "tags": []
          },
          "execution_count": 393
        },
        {
          "output_type": "display_data",
          "data": {
            "image/png": "[encoded data removed]",
            "text/plain": [
              "<Figure size 432x288 with 1 Axes>"
            ]
          },
          "metadata": {
            "tags": []
          }
        }
      ]
    },
    {
      "cell_type": "code",
      "metadata": {
        "id": "fZBBg7gMA0D7",
        "colab_type": "code",
        "colab": {}
      },
      "source": [
        ""
      ],
      "execution_count": 0,
      "outputs": []
    }
  ]
}