{
  "nbformat": 4,
  "nbformat_minor": 0,
  "metadata": {
    "accelerator": "GPU",
    "colab": {
      "name": "intersecting plane data.ipynb",
      "provenance": []
    },
    "kernelspec": {
      "name": "python3",
      "display_name": "Python 3"
    },
    "language_info": {
      "codemirror_mode": {
        "name": "ipython",
        "version": 3
      },
      "file_extension": ".py",
      "mimetype": "text/x-python",
      "name": "python",
      "nbconvert_exporter": "python",
      "pygments_lexer": "ipython3",
      "version": "3.7.4"
    }
  },
  "cells": [
    {
      "cell_type": "code",
      "metadata": {
        "colab_type": "code",
        "id": "1BoZq7wLFmUz",
        "colab": {}
      },
      "source": [
        "import numpy as np\n",
        "import pandas as pd\n",
        "from matplotlib import pyplot as plt\n",
        "\n",
        "import math as m\n",
        "%matplotlib inline\n",
        "\n",
        "import torch\n",
        "import torchvision\n",
        "\n",
        "import torchvision.transforms as transforms\n",
        "import torch.nn as nn\n",
        "import torch.optim as optim\n",
        "import torch.nn.functional as F\n",
        "import random\n",
        "\n",
        "from torch.utils.data import Dataset, DataLoader\n",
        "from mpl_toolkits.mplot3d import Axes3D"
      ],
      "execution_count": 0,
      "outputs": []
    },
    {
      "cell_type": "code",
      "metadata": {
        "id": "tUJ_Yy2K7rcu",
        "colab_type": "code",
        "colab": {
          "base_uri": "https://localhost:8080/",
          "height": 191
        },
        "outputId": "2a85ca4b-3895-46c3-9fe0-0ddc20497591"
      },
      "source": [
        "y = np.random.randint(0,10,1000)\n",
        "idx= []\n",
        "for i in range(10):\n",
        "    print(i,sum(y==i))\n",
        "    idx.append(y==i) \n",
        "x = np.zeros((1000,2))\n",
        "\n",
        "x0=x[idx[0],:] = np.random.multivariate_normal(mean = [2,2],cov=[[0.01,0],[0,0.01]],size=sum(idx[0]))\n",
        "\n",
        "\n",
        "x[idx[1],:] = np.random.multivariate_normal(mean = [0,-2],cov=[[0.01,0],[0,0.01]],size=sum(idx[1]))\n",
        "\n",
        "\n",
        "x[idx[2],:] = np.random.multivariate_normal(mean = [-2,2],cov=[[0.01,0],[0,0.01]],size=sum(idx[2]))\n",
        "\n",
        "\n",
        "\n",
        "x[idx[3],:] = np.random.multivariate_normal(mean = [0,0],cov=[[0.01,0],[0,0.01]],size=sum(idx[3]))\n",
        "\n",
        "\n",
        "x[idx[4],:] = np.random.multivariate_normal(mean =[-2,-4] ,cov=[[0.01,0],[0,0.01]],size=sum(idx[4]))\n",
        "\n",
        "\n",
        "\n",
        "x[idx[5],:] = np.random.multivariate_normal(mean = [2,-4],cov=[[0.01,0],[0,0.01]],size=sum(idx[5]))\n",
        "\n",
        "\n",
        "x[idx[6],:] = np.random.multivariate_normal(mean = [-4,0],cov=[[0.01,0],[0,0.01]],size=sum(idx[6]))\n",
        "\n",
        "\n",
        "x[idx[7],:] = np.random.multivariate_normal(mean = [-2,4],cov=[[0.01,0],[0,0.01]],size=sum(idx[7]))\n",
        "\n",
        "\n",
        "x[idx[8],:] = np.random.multivariate_normal(mean = [2,4],cov=[[0.01,0],[0,0.01]],size=sum(idx[8]))\n",
        "\n",
        "\n",
        "x[idx[9],:] = np.random.multivariate_normal(mean = [4,0],cov=[[0.01,0],[0,0.01]],size=sum(idx[9]))\n",
        "\n",
        "idx= []\n",
        "for i in range(10):\n",
        "    #print(i,sum(y==i))\n",
        "    idx.append(y==i)"
      ],
      "execution_count": 431,
      "outputs": [
        {
          "output_type": "stream",
          "text": [
            "0 102\n",
            "1 80\n",
            "2 98\n",
            "3 104\n",
            "4 95\n",
            "5 118\n",
            "6 102\n",
            "7 106\n",
            "8 100\n",
            "9 95\n"
          ],
          "name": "stdout"
        }
      ]
    },
    {
      "cell_type": "code",
      "metadata": {
        "id": "JU6oN0Kh7rc2",
        "colab_type": "code",
        "colab": {
          "base_uri": "https://localhost:8080/",
          "height": 282
        },
        "outputId": "65b71f8c-9924-48c4-f7b2-bed32fdd7dc4"
      },
      "source": [
        "for i in range(10):\n",
        "    plt.scatter(x[idx[i],0],x[idx[i],1],label=\"class_\"+str(i))\n",
        "plt.legend(loc='center left', bbox_to_anchor=(1, 0.5))"
      ],
      "execution_count": 432,
      "outputs": [
        {
          "output_type": "execute_result",
          "data": {
            "text/plain": [
              "<matplotlib.legend.Legend at 0x7f5e10726f98>"
            ]
          },
          "metadata": {
            "tags": []
          },
          "execution_count": 432
        },
        {
          "output_type": "display_data",
          "data": {
            "image/png": "[encoded data removed]",
            "text/plain": [
              "<Figure size 432x288 with 1 Axes>"
            ]
          },
          "metadata": {
            "tags": []
          }
        }
      ]
    },
    {
      "cell_type": "code",
      "metadata": {
        "id": "14ashkYi7rc8",
        "colab_type": "code",
        "colab": {
          "base_uri": "https://localhost:8080/",
          "height": 139
        },
        "outputId": "688e80e7-b274-45c9-9836-04bc9735bbfd"
      },
      "source": [
        "z = np.zeros((1000,1))\n",
        "x = np.concatenate((x, z) , axis =1)\n",
        "x"
      ],
      "execution_count": 433,
      "outputs": [
        {
          "output_type": "execute_result",
          "data": {
            "text/plain": [
              "array([[ 2.13328296,  3.87878746,  0.        ],\n",
              "       [-1.8133248 ,  1.99067218,  0.        ],\n",
              "       [-1.91098845,  1.98663782,  0.        ],\n",
              "       ...,\n",
              "       [-4.04304045, -0.0192797 ,  0.        ],\n",
              "       [ 2.17661643,  3.99094162,  0.        ],\n",
              "       [ 1.95657738,  4.1396421 ,  0.        ]])"
            ]
          },
          "metadata": {
            "tags": []
          },
          "execution_count": 433
        }
      ]
    },
    {
      "cell_type": "code",
      "metadata": {
        "id": "DVFOWDxp7rdB",
        "colab_type": "code",
        "colab": {
          "base_uri": "https://localhost:8080/",
          "height": 34
        },
        "outputId": "a93be0a7-ac00-416a-fec1-eabff231d9d9"
      },
      "source": [
        "x.shape"
      ],
      "execution_count": 434,
      "outputs": [
        {
          "output_type": "execute_result",
          "data": {
            "text/plain": [
              "(1000, 3)"
            ]
          },
          "metadata": {
            "tags": []
          },
          "execution_count": 434
        }
      ]
    },
    {
      "cell_type": "code",
      "metadata": {
        "scrolled": true,
        "id": "2Y0sMSmk7rdG",
        "colab_type": "code",
        "colab": {
          "base_uri": "https://localhost:8080/",
          "height": 265
        },
        "outputId": "cc0ffbe6-76d6-4123-b644-5842f49e86ed"
      },
      "source": [
        "fig = plt.figure()\n",
        "ax = fig.add_subplot(111, projection='3d')\n",
        "for i in range(10):\n",
        "    ax.scatter(x[idx[i],0],x[idx[i],1],x[idx[i],2],label=\"class_\"+str(i))\n",
        "ax.legend(loc='center left', bbox_to_anchor=(1, 0.5))"
      ],
      "execution_count": 435,
      "outputs": [
        {
          "output_type": "execute_result",
          "data": {
            "text/plain": [
              "<matplotlib.legend.Legend at 0x7f5e10623fd0>"
            ]
          },
          "metadata": {
            "tags": []
          },
          "execution_count": 435
        },
        {
          "output_type": "display_data",
          "data": {
            "image/png": "[encoded data removed]",
            "text/plain": [
              "<Figure size 432x288 with 1 Axes>"
            ]
          },
          "metadata": {
            "tags": []
          }
        }
      ]
    },
    {
      "cell_type": "code",
      "metadata": {
        "id": "lcg9BoOD7rdL",
        "colab_type": "code",
        "colab": {
          "base_uri": "https://localhost:8080/",
          "height": 265
        },
        "outputId": "99e54f97-a8af-479b-809a-3917b491acc7"
      },
      "source": [
        "normal = np.array([0,0,1])\n",
        "# a plane is a*x+b*y+c*z+d=0\n",
        "# [a,b,c] is the normal. Thus, we have to calculate\n",
        "# d and we're set\n",
        "d = 0\n",
        "\n",
        "# create x,y\n",
        "xx, yy = np.meshgrid(range(5), range(5))\n",
        "\n",
        "# calculate corresponding z\n",
        "z = (-normal[0] * xx - normal[1] * yy - d) * 1. /normal[2]\n",
        "\n",
        "# plot the surface\n",
        "plt3d = plt.figure().gca(projection='3d')\n",
        "plt3d.plot_surface(xx, yy, z, alpha=0.5)\n",
        "\n",
        "# fig = plt.figure()\n",
        "ax = plt.gca()\n",
        "for i in range(10):\n",
        "    ax.scatter(x[idx[i],0],x[idx[i],1],x[idx[i],2],label=\"class_\"+str(i))\n",
        "ax.legend(loc='center left', bbox_to_anchor=(1, 0.5))"
      ],
      "execution_count": 436,
      "outputs": [
        {
          "output_type": "execute_result",
          "data": {
            "text/plain": [
              "<matplotlib.legend.Legend at 0x7f5e105599e8>"
            ]
          },
          "metadata": {
            "tags": []
          },
          "execution_count": 436
        },
        {
          "output_type": "display_data",
          "data": {
            "image/png": "[encoded data removed]",
            "text/plain": [
              "<Figure size 432x288 with 1 Axes>"
            ]
          },
          "metadata": {
            "tags": []
          }
        }
      ]
    },
    {
      "cell_type": "markdown",
      "metadata": {
        "id": "l-7ncm8a7rdQ",
        "colab_type": "text"
      },
      "source": [
        "## angle = pi/2, p1: z = 0, p2: 2x + 3y = 0\n",
        "## angle = pi/6, p1: z = 0, p2: 2x + 3y + sqrt(39)z = 0\n",
        "## angle = pi/3, p1: z = 0, p2: 2x + 3y + sqrt(13/3)z = 0"
      ]
    },
    {
      "cell_type": "code",
      "metadata": {
        "id": "_vup63g47rdR",
        "colab_type": "code",
        "colab": {
          "base_uri": "https://localhost:8080/",
          "height": 69
        },
        "outputId": "cb5e68f6-d43a-401c-b711-8a4247903ee3"
      },
      "source": [
        "angle = 0*np.pi/3\n",
        "\n",
        "a = 2\n",
        "b = 3\n",
        "if(angle == np.pi/2):\n",
        "    c=0\n",
        "else:\n",
        "    c = np.sqrt(a*a + b*b )/m.tan(angle)\n",
        "print(c)"
      ],
      "execution_count": 437,
      "outputs": [
        {
          "output_type": "stream",
          "text": [
            "inf\n"
          ],
          "name": "stdout"
        },
        {
          "output_type": "stream",
          "text": [
            "/usr/local/lib/python3.6/dist-packages/ipykernel_launcher.py:8: RuntimeWarning: divide by zero encountered in double_scalars\n",
            "  \n"
          ],
          "name": "stderr"
        }
      ]
    },
    {
      "cell_type": "code",
      "metadata": {
        "scrolled": true,
        "id": "pLqmqeA47rdY",
        "colab_type": "code",
        "colab": {
          "base_uri": "https://localhost:8080/",
          "height": 1000
        },
        "outputId": "61c0951c-a61b-4081-e8f9-34b871c3d20b"
      },
      "source": [
        "x[idx[0],:]"
      ],
      "execution_count": 438,
      "outputs": [
        {
          "output_type": "execute_result",
          "data": {
            "text/plain": [
              "array([[2.08438451, 2.15745791, 0.        ],\n",
              "       [1.9778459 , 2.05121484, 0.        ],\n",
              "       [2.09632032, 2.05241575, 0.        ],\n",
              "       [2.0764006 , 1.96971591, 0.        ],\n",
              "       [1.96904762, 1.89207404, 0.        ],\n",
              "       [1.9353899 , 1.80144588, 0.        ],\n",
              "       [2.11855596, 2.05988031, 0.        ],\n",
              "       [1.91388863, 1.85404853, 0.        ],\n",
              "       [1.80276986, 2.01744604, 0.        ],\n",
              "       [2.08784966, 1.97524742, 0.        ],\n",
              "       [2.08148268, 1.93168531, 0.        ],\n",
              "       [2.01988859, 2.06572671, 0.        ],\n",
              "       [2.20775452, 2.10206461, 0.        ],\n",
              "       [2.01954652, 2.03484081, 0.        ],\n",
              "       [1.95506253, 2.03503414, 0.        ],\n",
              "       [1.95032935, 2.03633312, 0.        ],\n",
              "       [1.87404588, 1.96989726, 0.        ],\n",
              "       [2.0283376 , 1.86068461, 0.        ],\n",
              "       [2.11124663, 2.20250292, 0.        ],\n",
              "       [1.86006409, 2.11158587, 0.        ],\n",
              "       [1.92893158, 1.90256068, 0.        ],\n",
              "       [2.03815811, 1.90637194, 0.        ],\n",
              "       [2.14191632, 2.09373438, 0.        ],\n",
              "       [1.82217454, 2.10964405, 0.        ],\n",
              "       [1.77730524, 1.95282518, 0.        ],\n",
              "       [2.02059326, 1.96306401, 0.        ],\n",
              "       [1.94787698, 2.05814746, 0.        ],\n",
              "       [1.93651458, 1.84048775, 0.        ],\n",
              "       [1.92151204, 1.91056422, 0.        ],\n",
              "       [1.94407997, 1.99230321, 0.        ],\n",
              "       [2.03565895, 1.91978538, 0.        ],\n",
              "       [1.96011653, 1.971864  , 0.        ],\n",
              "       [1.96652923, 1.87041784, 0.        ],\n",
              "       [1.81836886, 2.00080692, 0.        ],\n",
              "       [1.9724872 , 2.15840525, 0.        ],\n",
              "       [2.01351355, 2.01995208, 0.        ],\n",
              "       [2.03863322, 1.96852155, 0.        ],\n",
              "       [2.13467428, 1.96134005, 0.        ],\n",
              "       [2.1800657 , 1.90269793, 0.        ],\n",
              "       [1.98082283, 1.98991239, 0.        ],\n",
              "       [1.75705806, 1.88628655, 0.        ],\n",
              "       [2.07742816, 2.18528218, 0.        ],\n",
              "       [1.96692019, 1.94580379, 0.        ],\n",
              "       [2.10175802, 2.02086839, 0.        ],\n",
              "       [2.09223304, 1.87667076, 0.        ],\n",
              "       [1.98613419, 1.98732191, 0.        ],\n",
              "       [2.10179889, 2.03218658, 0.        ],\n",
              "       [1.91231405, 2.0007359 , 0.        ],\n",
              "       [1.89284107, 2.03858721, 0.        ],\n",
              "       [1.94704434, 1.93296797, 0.        ],\n",
              "       [1.81144728, 1.956629  , 0.        ],\n",
              "       [1.95366901, 2.26353577, 0.        ],\n",
              "       [1.81526304, 1.89566447, 0.        ],\n",
              "       [2.08587313, 1.96991657, 0.        ],\n",
              "       [2.00827632, 1.86205063, 0.        ],\n",
              "       [1.86498717, 1.98584133, 0.        ],\n",
              "       [2.11252589, 1.87628487, 0.        ],\n",
              "       [2.07886362, 1.97421434, 0.        ],\n",
              "       [2.24092139, 2.0871457 , 0.        ],\n",
              "       [2.11941489, 1.95124051, 0.        ],\n",
              "       [1.73229945, 2.07749532, 0.        ],\n",
              "       [2.046935  , 1.93046602, 0.        ],\n",
              "       [1.90709906, 1.87196676, 0.        ],\n",
              "       [1.97063881, 1.90999998, 0.        ],\n",
              "       [1.95946952, 2.09788167, 0.        ],\n",
              "       [1.98861735, 2.01086714, 0.        ],\n",
              "       [1.8897632 , 2.1337237 , 0.        ],\n",
              "       [2.09334448, 2.07897825, 0.        ],\n",
              "       [2.063861  , 2.05729489, 0.        ],\n",
              "       [2.06144728, 1.93410013, 0.        ],\n",
              "       [2.07155961, 2.01908994, 0.        ],\n",
              "       [1.94328054, 2.01132381, 0.        ],\n",
              "       [2.19607141, 1.96131256, 0.        ],\n",
              "       [1.93045606, 2.03220738, 0.        ],\n",
              "       [1.99509589, 1.89772835, 0.        ],\n",
              "       [2.00359317, 2.00293403, 0.        ],\n",
              "       [1.97560738, 2.00045272, 0.        ],\n",
              "       [1.93869718, 2.13556107, 0.        ],\n",
              "       [2.02519262, 2.10125788, 0.        ],\n",
              "       [1.99314093, 2.01795821, 0.        ],\n",
              "       [2.01756032, 1.90974485, 0.        ],\n",
              "       [2.01840123, 2.02811204, 0.        ],\n",
              "       [1.97734744, 1.96407973, 0.        ],\n",
              "       [1.98633654, 2.13962564, 0.        ],\n",
              "       [1.92352908, 1.86310965, 0.        ],\n",
              "       [1.98114552, 2.01434448, 0.        ],\n",
              "       [1.92691934, 1.74661379, 0.        ],\n",
              "       [2.09949882, 1.92352558, 0.        ],\n",
              "       [1.93818181, 2.03115931, 0.        ],\n",
              "       [2.05887245, 1.96313561, 0.        ],\n",
              "       [2.21916303, 1.89236541, 0.        ],\n",
              "       [2.2009276 , 1.9962395 , 0.        ],\n",
              "       [2.02309617, 2.08016505, 0.        ],\n",
              "       [1.88935831, 1.84925777, 0.        ],\n",
              "       [1.9940243 , 1.96933421, 0.        ],\n",
              "       [2.04337976, 2.0965547 , 0.        ],\n",
              "       [1.95311739, 2.05490837, 0.        ],\n",
              "       [2.02523397, 1.94247403, 0.        ],\n",
              "       [1.86313883, 1.98753619, 0.        ],\n",
              "       [1.87176639, 2.04594141, 0.        ],\n",
              "       [2.00669627, 1.95479101, 0.        ],\n",
              "       [1.94709823, 1.98690747, 0.        ]])"
            ]
          },
          "metadata": {
            "tags": []
          },
          "execution_count": 438
        }
      ]
    },
    {
      "cell_type": "code",
      "metadata": {
        "id": "2WeuxtXx7rdd",
        "colab_type": "code",
        "colab": {
          "base_uri": "https://localhost:8080/",
          "height": 121
        },
        "outputId": "935ed81b-b9a3-4767-f3db-5b4a5e5842c6"
      },
      "source": [
        "x[idx[0],2]"
      ],
      "execution_count": 439,
      "outputs": [
        {
          "output_type": "execute_result",
          "data": {
            "text/plain": [
              "array([0., 0., 0., 0., 0., 0., 0., 0., 0., 0., 0., 0., 0., 0., 0., 0., 0.,\n",
              "       0., 0., 0., 0., 0., 0., 0., 0., 0., 0., 0., 0., 0., 0., 0., 0., 0.,\n",
              "       0., 0., 0., 0., 0., 0., 0., 0., 0., 0., 0., 0., 0., 0., 0., 0., 0.,\n",
              "       0., 0., 0., 0., 0., 0., 0., 0., 0., 0., 0., 0., 0., 0., 0., 0., 0.,\n",
              "       0., 0., 0., 0., 0., 0., 0., 0., 0., 0., 0., 0., 0., 0., 0., 0., 0.,\n",
              "       0., 0., 0., 0., 0., 0., 0., 0., 0., 0., 0., 0., 0., 0., 0., 0., 0.])"
            ]
          },
          "metadata": {
            "tags": []
          },
          "execution_count": 439
        }
      ]
    },
    {
      "cell_type": "code",
      "metadata": {
        "scrolled": true,
        "id": "rlCv6Q4S7rdh",
        "colab_type": "code",
        "colab": {}
      },
      "source": [
        "if(angle == np.pi/2):\n",
        "    for i in range(3):\n",
        "        x[idx[i],2] = (i+2)*(x[idx[i],0] + x[idx[i],1])/(x[idx[i],0] + x[idx[i],1])\n",
        "else:\n",
        "    for i in range(3):\n",
        "        x[idx[i],2] = (2*x[idx[i],0] + 3*x[idx[i],1])/c\n"
      ],
      "execution_count": 0,
      "outputs": []
    },
    {
      "cell_type": "code",
      "metadata": {
        "scrolled": true,
        "id": "bRw7_9wU7rdl",
        "colab_type": "code",
        "colab": {
          "base_uri": "https://localhost:8080/",
          "height": 1000
        },
        "outputId": "d0f3a97c-ac41-40f3-edd9-2a085c6d7402"
      },
      "source": [
        "x[idx[0],:]"
      ],
      "execution_count": 441,
      "outputs": [
        {
          "output_type": "execute_result",
          "data": {
            "text/plain": [
              "array([[2.08438451, 2.15745791, 0.        ],\n",
              "       [1.9778459 , 2.05121484, 0.        ],\n",
              "       [2.09632032, 2.05241575, 0.        ],\n",
              "       [2.0764006 , 1.96971591, 0.        ],\n",
              "       [1.96904762, 1.89207404, 0.        ],\n",
              "       [1.9353899 , 1.80144588, 0.        ],\n",
              "       [2.11855596, 2.05988031, 0.        ],\n",
              "       [1.91388863, 1.85404853, 0.        ],\n",
              "       [1.80276986, 2.01744604, 0.        ],\n",
              "       [2.08784966, 1.97524742, 0.        ],\n",
              "       [2.08148268, 1.93168531, 0.        ],\n",
              "       [2.01988859, 2.06572671, 0.        ],\n",
              "       [2.20775452, 2.10206461, 0.        ],\n",
              "       [2.01954652, 2.03484081, 0.        ],\n",
              "       [1.95506253, 2.03503414, 0.        ],\n",
              "       [1.95032935, 2.03633312, 0.        ],\n",
              "       [1.87404588, 1.96989726, 0.        ],\n",
              "       [2.0283376 , 1.86068461, 0.        ],\n",
              "       [2.11124663, 2.20250292, 0.        ],\n",
              "       [1.86006409, 2.11158587, 0.        ],\n",
              "       [1.92893158, 1.90256068, 0.        ],\n",
              "       [2.03815811, 1.90637194, 0.        ],\n",
              "       [2.14191632, 2.09373438, 0.        ],\n",
              "       [1.82217454, 2.10964405, 0.        ],\n",
              "       [1.77730524, 1.95282518, 0.        ],\n",
              "       [2.02059326, 1.96306401, 0.        ],\n",
              "       [1.94787698, 2.05814746, 0.        ],\n",
              "       [1.93651458, 1.84048775, 0.        ],\n",
              "       [1.92151204, 1.91056422, 0.        ],\n",
              "       [1.94407997, 1.99230321, 0.        ],\n",
              "       [2.03565895, 1.91978538, 0.        ],\n",
              "       [1.96011653, 1.971864  , 0.        ],\n",
              "       [1.96652923, 1.87041784, 0.        ],\n",
              "       [1.81836886, 2.00080692, 0.        ],\n",
              "       [1.9724872 , 2.15840525, 0.        ],\n",
              "       [2.01351355, 2.01995208, 0.        ],\n",
              "       [2.03863322, 1.96852155, 0.        ],\n",
              "       [2.13467428, 1.96134005, 0.        ],\n",
              "       [2.1800657 , 1.90269793, 0.        ],\n",
              "       [1.98082283, 1.98991239, 0.        ],\n",
              "       [1.75705806, 1.88628655, 0.        ],\n",
              "       [2.07742816, 2.18528218, 0.        ],\n",
              "       [1.96692019, 1.94580379, 0.        ],\n",
              "       [2.10175802, 2.02086839, 0.        ],\n",
              "       [2.09223304, 1.87667076, 0.        ],\n",
              "       [1.98613419, 1.98732191, 0.        ],\n",
              "       [2.10179889, 2.03218658, 0.        ],\n",
              "       [1.91231405, 2.0007359 , 0.        ],\n",
              "       [1.89284107, 2.03858721, 0.        ],\n",
              "       [1.94704434, 1.93296797, 0.        ],\n",
              "       [1.81144728, 1.956629  , 0.        ],\n",
              "       [1.95366901, 2.26353577, 0.        ],\n",
              "       [1.81526304, 1.89566447, 0.        ],\n",
              "       [2.08587313, 1.96991657, 0.        ],\n",
              "       [2.00827632, 1.86205063, 0.        ],\n",
              "       [1.86498717, 1.98584133, 0.        ],\n",
              "       [2.11252589, 1.87628487, 0.        ],\n",
              "       [2.07886362, 1.97421434, 0.        ],\n",
              "       [2.24092139, 2.0871457 , 0.        ],\n",
              "       [2.11941489, 1.95124051, 0.        ],\n",
              "       [1.73229945, 2.07749532, 0.        ],\n",
              "       [2.046935  , 1.93046602, 0.        ],\n",
              "       [1.90709906, 1.87196676, 0.        ],\n",
              "       [1.97063881, 1.90999998, 0.        ],\n",
              "       [1.95946952, 2.09788167, 0.        ],\n",
              "       [1.98861735, 2.01086714, 0.        ],\n",
              "       [1.8897632 , 2.1337237 , 0.        ],\n",
              "       [2.09334448, 2.07897825, 0.        ],\n",
              "       [2.063861  , 2.05729489, 0.        ],\n",
              "       [2.06144728, 1.93410013, 0.        ],\n",
              "       [2.07155961, 2.01908994, 0.        ],\n",
              "       [1.94328054, 2.01132381, 0.        ],\n",
              "       [2.19607141, 1.96131256, 0.        ],\n",
              "       [1.93045606, 2.03220738, 0.        ],\n",
              "       [1.99509589, 1.89772835, 0.        ],\n",
              "       [2.00359317, 2.00293403, 0.        ],\n",
              "       [1.97560738, 2.00045272, 0.        ],\n",
              "       [1.93869718, 2.13556107, 0.        ],\n",
              "       [2.02519262, 2.10125788, 0.        ],\n",
              "       [1.99314093, 2.01795821, 0.        ],\n",
              "       [2.01756032, 1.90974485, 0.        ],\n",
              "       [2.01840123, 2.02811204, 0.        ],\n",
              "       [1.97734744, 1.96407973, 0.        ],\n",
              "       [1.98633654, 2.13962564, 0.        ],\n",
              "       [1.92352908, 1.86310965, 0.        ],\n",
              "       [1.98114552, 2.01434448, 0.        ],\n",
              "       [1.92691934, 1.74661379, 0.        ],\n",
              "       [2.09949882, 1.92352558, 0.        ],\n",
              "       [1.93818181, 2.03115931, 0.        ],\n",
              "       [2.05887245, 1.96313561, 0.        ],\n",
              "       [2.21916303, 1.89236541, 0.        ],\n",
              "       [2.2009276 , 1.9962395 , 0.        ],\n",
              "       [2.02309617, 2.08016505, 0.        ],\n",
              "       [1.88935831, 1.84925777, 0.        ],\n",
              "       [1.9940243 , 1.96933421, 0.        ],\n",
              "       [2.04337976, 2.0965547 , 0.        ],\n",
              "       [1.95311739, 2.05490837, 0.        ],\n",
              "       [2.02523397, 1.94247403, 0.        ],\n",
              "       [1.86313883, 1.98753619, 0.        ],\n",
              "       [1.87176639, 2.04594141, 0.        ],\n",
              "       [2.00669627, 1.95479101, 0.        ],\n",
              "       [1.94709823, 1.98690747, 0.        ]])"
            ]
          },
          "metadata": {
            "tags": []
          },
          "execution_count": 441
        }
      ]
    },
    {
      "cell_type": "code",
      "metadata": {
        "scrolled": true,
        "id": "oVrnw8Yj7rdp",
        "colab_type": "code",
        "colab": {
          "base_uri": "https://localhost:8080/",
          "height": 265
        },
        "outputId": "1e6dee62-78b6-4452-bf6b-f43fdcdc769a"
      },
      "source": [
        "fig = plt.figure()\n",
        "ax = fig.add_subplot(111, projection='3d')\n",
        "for i in range(10):\n",
        "    ax.scatter(x[idx[i],0],x[idx[i],1],x[idx[i],2],label=\"class_\"+str(i))\n",
        "ax.legend(loc='center left', bbox_to_anchor=(1, 0.5))"
      ],
      "execution_count": 442,
      "outputs": [
        {
          "output_type": "execute_result",
          "data": {
            "text/plain": [
              "<matplotlib.legend.Legend at 0x7f5e10497198>"
            ]
          },
          "metadata": {
            "tags": []
          },
          "execution_count": 442
        },
        {
          "output_type": "display_data",
          "data": {
            "image/png": "[encoded data removed]",
            "text/plain": [
              "<Figure size 432x288 with 1 Axes>"
            ]
          },
          "metadata": {
            "tags": []
          }
        }
      ]
    },
    {
      "cell_type": "code",
      "metadata": {
        "id": "8J5HPflY7rdt",
        "colab_type": "code",
        "colab": {
          "base_uri": "https://localhost:8080/",
          "height": 265
        },
        "outputId": "0765bcab-931d-4592-b73e-aa225f6ef12e"
      },
      "source": [
        "normal = np.array([a,b,c])\n",
        "# a plane is a*x+b*y+c*z+d=0\n",
        "# [a,b,c] is the normal. Thus, we have to calculate\n",
        "# d and we're set\n",
        "d = 0\n",
        "\n",
        "# create x,y\n",
        "xx, yy = np.meshgrid(range(5), range(5))\n",
        "\n",
        "# calculate corresponding z\n",
        "z = -(-normal[0] * xx - normal[1] * yy - d) * 1. /normal[2]\n",
        "\n",
        "# plot the surface\n",
        "plt3d = plt.figure().gca(projection='3d')\n",
        "plt3d.plot_surface(xx, yy, z, alpha=0.5)\n",
        "\n",
        "# fig = plt.figure()\n",
        "ax = plt.gca()\n",
        "for i in range(10):\n",
        "    ax.scatter(x[idx[i],0],x[idx[i],1],x[idx[i],2],label=\"class_\"+str(i))\n",
        "ax.legend(loc='center left', bbox_to_anchor=(1, 0.5))"
      ],
      "execution_count": 443,
      "outputs": [
        {
          "output_type": "execute_result",
          "data": {
            "text/plain": [
              "<matplotlib.legend.Legend at 0x7f5e103c0c18>"
            ]
          },
          "metadata": {
            "tags": []
          },
          "execution_count": 443
        },
        {
          "output_type": "display_data",
          "data": {
            "image/png": "[encoded data removed]",
            "text/plain": [
              "<Figure size 432x288 with 1 Axes>"
            ]
          },
          "metadata": {
            "tags": []
          }
        }
      ]
    },
    {
      "cell_type": "code",
      "metadata": {
        "id": "TJYoUUi27reF",
        "colab_type": "code",
        "colab": {
          "base_uri": "https://localhost:8080/",
          "height": 34
        },
        "outputId": "cd516b7a-edde-48ae-aa11-f3c98cba9570"
      },
      "source": [
        "x.shape,y.shape"
      ],
      "execution_count": 444,
      "outputs": [
        {
          "output_type": "execute_result",
          "data": {
            "text/plain": [
              "((1000, 3), (1000,))"
            ]
          },
          "metadata": {
            "tags": []
          },
          "execution_count": 444
        }
      ]
    },
    {
      "cell_type": "code",
      "metadata": {
        "id": "57yfZoDX7reI",
        "colab_type": "code",
        "colab": {}
      },
      "source": [
        "classes  = ('0', '1', '2','3', '4', '5', '6', '7','8', '9')\n",
        "foreground_classes = {'0', '1', '2'}\n",
        "\n",
        "background_classes = {'3', '4', '5', '6', '7','8', '9'}\n"
      ],
      "execution_count": 0,
      "outputs": []
    },
    {
      "cell_type": "code",
      "metadata": {
        "id": "XQ0Lz_GW7reL",
        "colab_type": "code",
        "colab": {}
      },
      "source": [
        "class sub_clust_data(Dataset):\n",
        "    def __init__(self,x, y):\n",
        "        self.x = torch.Tensor(x)\n",
        "        self.y = torch.Tensor(y).type(torch.LongTensor)\n",
        "    #self.fore_idx = fore_idx\n",
        "    \n",
        "    def __len__(self):\n",
        "        return len(self.y)\n",
        "\n",
        "    def __getitem__(self, idx):\n",
        "        return self.x[idx] , self.y[idx] #, self.fore_idx[idx]"
      ],
      "execution_count": 0,
      "outputs": []
    },
    {
      "cell_type": "code",
      "metadata": {
        "id": "1pH6faRT7reO",
        "colab_type": "code",
        "colab": {}
      },
      "source": [
        "trainset = sub_clust_data(x,y)"
      ],
      "execution_count": 0,
      "outputs": []
    },
    {
      "cell_type": "code",
      "metadata": {
        "id": "nQQBN6d47reR",
        "colab_type": "code",
        "colab": {}
      },
      "source": [
        "trainloader = torch.utils.data.DataLoader(trainset, batch_size=10, shuffle=True)"
      ],
      "execution_count": 0,
      "outputs": []
    },
    {
      "cell_type": "code",
      "metadata": {
        "id": "UUU-ibU47reU",
        "colab_type": "code",
        "colab": {}
      },
      "source": [
        "dataiter = iter(trainloader)\n",
        "background_data=[]\n",
        "background_label=[]\n",
        "foreground_data=[]\n",
        "foreground_label=[]\n",
        "batch_size=10\n",
        "\n",
        "for i in range(100):   #5000*batch_size = 50000 data points\n",
        "    images, labels = dataiter.next()\n",
        "    for j in range(batch_size):\n",
        "        if(classes[labels[j]] in background_classes):\n",
        "            img = images[j].tolist()\n",
        "            background_data.append(img)\n",
        "            background_label.append(labels[j])\n",
        "        else:\n",
        "            img = images[j].tolist()\n",
        "            foreground_data.append(img)\n",
        "            foreground_label.append(labels[j])"
      ],
      "execution_count": 0,
      "outputs": []
    },
    {
      "cell_type": "code",
      "metadata": {
        "id": "mh7y2Afy7reW",
        "colab_type": "code",
        "colab": {
          "base_uri": "https://localhost:8080/",
          "height": 34
        },
        "outputId": "58bff94c-241f-47dc-f613-887fd9ce80b3"
      },
      "source": [
        "np.shape(foreground_data),np.shape(foreground_label)"
      ],
      "execution_count": 450,
      "outputs": [
        {
          "output_type": "execute_result",
          "data": {
            "text/plain": [
              "((280, 3), (280,))"
            ]
          },
          "metadata": {
            "tags": []
          },
          "execution_count": 450
        }
      ]
    },
    {
      "cell_type": "code",
      "metadata": {
        "id": "bIk5bgiq7reZ",
        "colab_type": "code",
        "colab": {
          "base_uri": "https://localhost:8080/",
          "height": 34
        },
        "outputId": "b16f8c60-d6d3-499a-cad1-10c9ca76017a"
      },
      "source": [
        "np.shape(background_data),np.shape(background_label)"
      ],
      "execution_count": 451,
      "outputs": [
        {
          "output_type": "execute_result",
          "data": {
            "text/plain": [
              "((720, 3), (720,))"
            ]
          },
          "metadata": {
            "tags": []
          },
          "execution_count": 451
        }
      ]
    },
    {
      "cell_type": "code",
      "metadata": {
        "id": "kF9mgUkz7red",
        "colab_type": "code",
        "colab": {}
      },
      "source": [
        "foreground_data = torch.tensor(foreground_data)\n",
        "foreground_label = torch.tensor(foreground_label).type(torch.LongTensor)\n",
        "background_data = torch.tensor(background_data)\n",
        "background_label = torch.tensor(background_label).type(torch.LongTensor)"
      ],
      "execution_count": 0,
      "outputs": []
    },
    {
      "cell_type": "code",
      "metadata": {
        "id": "QmYT2mXj7reg",
        "colab_type": "code",
        "colab": {}
      },
      "source": [
        "def create_mosaic_img(bg_idx,fg_idx,fg): \n",
        "    image_list=[]\n",
        "    j=0\n",
        "    for i in range(9):\n",
        "        if i != fg:\n",
        "            image_list.append(background_data[bg_idx[j]].type(\"torch.DoubleTensor\"))\n",
        "            j+=1\n",
        "        else: \n",
        "            image_list.append(foreground_data[fg_idx].type(\"torch.DoubleTensor\"))\n",
        "            label = foreground_label[fg_idx]  #-7  # minus 7 because our fore ground classes are 7,8,9 but we have to store it as 0,1,2\n",
        "    #image_list = np.concatenate(image_list ,axis=0)\n",
        "    image_list = torch.stack(image_list) \n",
        "    return image_list,label"
      ],
      "execution_count": 0,
      "outputs": []
    },
    {
      "cell_type": "code",
      "metadata": {
        "id": "mGueYoxU-3wL",
        "colab_type": "code",
        "colab": {
          "base_uri": "https://localhost:8080/",
          "height": 34
        },
        "outputId": "b1719390-31b3-44f3-d27a-728582104fa6"
      },
      "source": [
        "fg_nos = np.shape(foreground_label)[0]\n",
        "bg_nos = np.shape(background_label)[0]\n",
        "bg_nos, fg_nos"
      ],
      "execution_count": 454,
      "outputs": [
        {
          "output_type": "execute_result",
          "data": {
            "text/plain": [
              "(720, 280)"
            ]
          },
          "metadata": {
            "tags": []
          },
          "execution_count": 454
        }
      ]
    },
    {
      "cell_type": "code",
      "metadata": {
        "id": "sHCgXuqs7rek",
        "colab_type": "code",
        "colab": {}
      },
      "source": [
        "desired_num = 1000\n",
        "mosaic_list_of_images =[]      # list of mosaic images, each mosaic image is saved as list of 9 images\n",
        "fore_idx =[]                   # list of indexes at which foreground image is present in a mosaic image i.e from 0 to 9               \n",
        "mosaic_label=[]                # label of mosaic image = foreground class present in that mosaic\n",
        "for i in range(desired_num):\n",
        "    bg_idx = np.random.randint(0,bg_nos,8)\n",
        "    fg_idx = np.random.randint(0,fg_nos)\n",
        "    fg = np.random.randint(0,9)\n",
        "    fore_idx.append(fg)\n",
        "    image_list,label = create_mosaic_img(bg_idx,fg_idx,fg)\n",
        "    mosaic_list_of_images.append(image_list)\n",
        "    mosaic_label.append(label)"
      ],
      "execution_count": 0,
      "outputs": []
    },
    {
      "cell_type": "code",
      "metadata": {
        "id": "4vSUeW8M7rem",
        "colab_type": "code",
        "colab": {}
      },
      "source": [
        "def create_avg_image_from_mosaic_dataset(mosaic_dataset,labels,foreground_index,dataset_number):\n",
        "    avg_image_dataset = []\n",
        "    for i in range(len(mosaic_dataset)):\n",
        "        img = torch.zeros([3], dtype=torch.float64)\n",
        "        for j in range(9):\n",
        "            if j == foreground_index[i]:\n",
        "                img = img + mosaic_dataset[i][j]*dataset_number/9\n",
        "            else :\n",
        "                img = img + mosaic_dataset[i][j]*(9-dataset_number)/(8*9)\n",
        "    \n",
        "        avg_image_dataset.append(img)\n",
        "    \n",
        "    return avg_image_dataset , labels , foreground_index"
      ],
      "execution_count": 0,
      "outputs": []
    },
    {
      "cell_type": "code",
      "metadata": {
        "id": "YXlqfhEr7rep",
        "colab_type": "code",
        "colab": {}
      },
      "source": [
        "avg_image_dataset_1 , labels_1,  fg_index_1 = create_avg_image_from_mosaic_dataset(mosaic_list_of_images[0:1000], mosaic_label[0:1000], fore_idx[0:1000] , 1)\n",
        "avg_image_dataset_2 , labels_2,  fg_index_2 = create_avg_image_from_mosaic_dataset(mosaic_list_of_images[0:1000], mosaic_label[0:1000], fore_idx[0:1000] , 2)\n",
        "avg_image_dataset_3 , labels_3,  fg_index_3 = create_avg_image_from_mosaic_dataset(mosaic_list_of_images[0:1000], mosaic_label[0:1000], fore_idx[0:1000] , 3)\n",
        "avg_image_dataset_4 , labels_4,  fg_index_4 = create_avg_image_from_mosaic_dataset(mosaic_list_of_images[0:1000], mosaic_label[0:1000], fore_idx[0:1000] , 4)\n",
        "avg_image_dataset_5 , labels_5,  fg_index_5 = create_avg_image_from_mosaic_dataset(mosaic_list_of_images[0:1000], mosaic_label[0:1000], fore_idx[0:1000] , 5)\n",
        "avg_image_dataset_6 , labels_6,  fg_index_6 = create_avg_image_from_mosaic_dataset(mosaic_list_of_images[0:1000], mosaic_label[0:1000], fore_idx[0:1000] , 6)\n",
        "avg_image_dataset_7 , labels_7,  fg_index_7 = create_avg_image_from_mosaic_dataset(mosaic_list_of_images[0:1000], mosaic_label[0:1000], fore_idx[0:1000] , 7)\n",
        "avg_image_dataset_8 , labels_8,  fg_index_8 = create_avg_image_from_mosaic_dataset(mosaic_list_of_images[0:1000], mosaic_label[0:1000], fore_idx[0:1000] , 8)\n",
        "avg_image_dataset_9 , labels_9,  fg_index_9 = create_avg_image_from_mosaic_dataset(mosaic_list_of_images[0:1000], mosaic_label[0:1000], fore_idx[0:1000] , 9)\n",
        "\n",
        "#test_dataset_10 , labels_10 , fg_index_10 = create_avg_image_from_mosaic_dataset(mosaic_list_of_images[10000:20000], mosaic_label[10000:20000], fore_idx[10000:20000] , 9)"
      ],
      "execution_count": 0,
      "outputs": []
    },
    {
      "cell_type": "code",
      "metadata": {
        "id": "ZHeLv0Fg7res",
        "colab_type": "code",
        "colab": {}
      },
      "source": [
        "class MosaicDataset(Dataset):\n",
        "    \"\"\"MosaicDataset dataset.\"\"\"\n",
        "\n",
        "    def __init__(self, mosaic_list_of_images, mosaic_label):\n",
        "        \"\"\"\n",
        "          Args:\n",
        "            csv_file (string): Path to the csv file with annotations.\n",
        "            root_dir (string): Directory with all the images.\n",
        "            transform (callable, optional): Optional transform to be applied\n",
        "                on a sample.\n",
        "        \"\"\"\n",
        "        self.mosaic = mosaic_list_of_images\n",
        "        self.label = mosaic_label\n",
        "        #self.fore_idx = fore_idx\n",
        "    \n",
        "    def __len__(self):\n",
        "        return len(self.label)\n",
        "\n",
        "    def __getitem__(self, idx):\n",
        "        return self.mosaic[idx] , self.label[idx] #, self.fore_idx[idx]"
      ],
      "execution_count": 0,
      "outputs": []
    },
    {
      "cell_type": "code",
      "metadata": {
        "id": "Wa7qkACK7reu",
        "colab_type": "code",
        "colab": {}
      },
      "source": [
        "batch = 256\n",
        "\n",
        "\n",
        "# training_data = avg_image_dataset_5    #just change this and training_label to desired dataset for training\n",
        "# training_label = labels_5\n",
        "\n",
        "traindata_1 = MosaicDataset(avg_image_dataset_1, labels_1 )\n",
        "trainloader_1 = DataLoader( traindata_1 , batch_size= batch ,shuffle=True)\n",
        "\n",
        "traindata_2 = MosaicDataset(avg_image_dataset_2, labels_2 )\n",
        "trainloader_2 = DataLoader( traindata_2 , batch_size= batch ,shuffle=True)\n",
        "\n",
        "traindata_3 = MosaicDataset(avg_image_dataset_3, labels_3 )\n",
        "trainloader_3 = DataLoader( traindata_3 , batch_size= batch ,shuffle=True)\n",
        "\n",
        "traindata_4 = MosaicDataset(avg_image_dataset_4, labels_4 )\n",
        "trainloader_4 = DataLoader( traindata_4 , batch_size= batch ,shuffle=True)\n",
        "\n",
        "traindata_5 = MosaicDataset(avg_image_dataset_5, labels_5 )\n",
        "trainloader_5 = DataLoader( traindata_5 , batch_size= batch ,shuffle=True)\n",
        "\n",
        "traindata_6 = MosaicDataset(avg_image_dataset_6, labels_6 )\n",
        "trainloader_6 = DataLoader( traindata_6 , batch_size= batch ,shuffle=True)\n",
        "\n",
        "traindata_7 = MosaicDataset(avg_image_dataset_7, labels_7 )\n",
        "trainloader_7 = DataLoader( traindata_7 , batch_size= batch ,shuffle=True)\n",
        "\n",
        "traindata_8 = MosaicDataset(avg_image_dataset_8, labels_8 )\n",
        "trainloader_8 = DataLoader( traindata_8 , batch_size= batch ,shuffle=True)\n",
        "\n",
        "traindata_9 = MosaicDataset(avg_image_dataset_9, labels_9 )\n",
        "trainloader_9 = DataLoader( traindata_9 , batch_size= batch ,shuffle=True)\n",
        "\n",
        "testdata_1 = MosaicDataset(avg_image_dataset_1, labels_1 )\n",
        "testloader_1 = DataLoader( testdata_1 , batch_size= batch ,shuffle=False)\n",
        "\n",
        "testdata_2 = MosaicDataset(avg_image_dataset_2, labels_2 )\n",
        "testloader_2 = DataLoader( testdata_2 , batch_size= batch ,shuffle=False)\n",
        "\n",
        "testdata_3 = MosaicDataset(avg_image_dataset_3, labels_3 )\n",
        "testloader_3 = DataLoader( testdata_3 , batch_size= batch ,shuffle=False)\n",
        "\n",
        "testdata_4 = MosaicDataset(avg_image_dataset_4, labels_4 )\n",
        "testloader_4 = DataLoader( testdata_4 , batch_size= batch ,shuffle=False)\n",
        "\n",
        "testdata_5 = MosaicDataset(avg_image_dataset_5, labels_5 )\n",
        "testloader_5 = DataLoader( testdata_5 , batch_size= batch ,shuffle=False)\n",
        "\n",
        "testdata_6 = MosaicDataset(avg_image_dataset_6, labels_6 )\n",
        "testloader_6 = DataLoader( testdata_6 , batch_size= batch ,shuffle=False)\n",
        "\n",
        "testdata_7 = MosaicDataset(avg_image_dataset_7, labels_7 )\n",
        "testloader_7 = DataLoader( testdata_7 , batch_size= batch ,shuffle=False)\n",
        "\n",
        "testdata_8 = MosaicDataset(avg_image_dataset_8, labels_8 )\n",
        "testloader_8 = DataLoader( testdata_8 , batch_size= batch ,shuffle=False)\n",
        "\n",
        "testdata_9 = MosaicDataset(avg_image_dataset_9, labels_9 )\n",
        "testloader_9 = DataLoader( testdata_9 , batch_size= batch ,shuffle=False)\n",
        "\n"
      ],
      "execution_count": 0,
      "outputs": []
    },
    {
      "cell_type": "code",
      "metadata": {
        "id": "BQZy-c_O7rew",
        "colab_type": "code",
        "colab": {}
      },
      "source": [
        "class Net(nn.Module):\n",
        "    def __init__(self):\n",
        "        super(Net,self).__init__()\n",
        "        self.linear1 = nn.Linear(3,64)\n",
        "        self.linear2 = nn.Linear(64,128)\n",
        "        \n",
        "        self.linear3 = nn.Linear(128,3)\n",
        "        \n",
        "    def forward(self,x):\n",
        "        x = F.relu(self.linear1(x))\n",
        "        \n",
        "        x = F.relu(self.linear2(x))\n",
        "        \n",
        "        x = self.linear3(x)\n",
        "        \n",
        "        return x"
      ],
      "execution_count": 0,
      "outputs": []
    },
    {
      "cell_type": "code",
      "metadata": {
        "id": "EAEYaDjw8_wT",
        "colab_type": "code",
        "colab": {}
      },
      "source": [
        ""
      ],
      "execution_count": 0,
      "outputs": []
    },
    {
      "cell_type": "code",
      "metadata": {
        "id": "VR-IzVmU7rez",
        "colab_type": "code",
        "colab": {}
      },
      "source": [
        "def test_all(number, testloader,inc):\n",
        "    correct = 0\n",
        "    total = 0\n",
        "    out = []\n",
        "    pred = []\n",
        "    with torch.no_grad():\n",
        "        for data in testloader:\n",
        "            images, labels = data\n",
        "            images, labels = images.to(\"cuda\"),labels.to(\"cuda\")\n",
        "            out.append(labels.cpu().numpy())\n",
        "            outputs= inc(images)\n",
        "            _, predicted = torch.max(outputs.data, 1)\n",
        "            pred.append(predicted.cpu().numpy())\n",
        "            total += labels.size(0)\n",
        "            correct += (predicted == labels).sum().item()\n",
        "\n",
        "    print('Accuracy of the network on the 1000 test dataset %d: %d %%' % (number , 100 * correct / total))\n",
        "    return 100 * correct / total"
      ],
      "execution_count": 0,
      "outputs": []
    },
    {
      "cell_type": "code",
      "metadata": {
        "id": "1_FPcf0t7re2",
        "colab_type": "code",
        "colab": {}
      },
      "source": [
        "def train_all(trainloader, ds_number, testloader_list):\n",
        "    \n",
        "    print(\"--\"*40)\n",
        "    print(\"training on data set  \", ds_number)\n",
        "    \n",
        "    inc = Net().double()\n",
        "    inc = inc.to(\"cuda\")\n",
        "    \n",
        "    criterion_inception = nn.CrossEntropyLoss()\n",
        "    optimizer_inception = optim.SGD(inc.parameters(), lr=0.01, momentum=0.9)\n",
        "    \n",
        "    acti = []\n",
        "    loss_curi = []\n",
        "    epochs = 70\n",
        "    \n",
        "    for epoch in range(epochs): # loop over the dataset multiple times\n",
        "        ep_lossi = []\n",
        "\n",
        "        running_loss = 0.0\n",
        "        for i, data in enumerate(trainloader, 0):\n",
        "            # get the inputs\n",
        "            inputs, labels = data\n",
        "            inputs, labels = inputs.to(\"cuda\"),labels.to(\"cuda\")\n",
        "\n",
        "            # zero the parameter gradients\n",
        "            optimizer_inception.zero_grad()\n",
        "\n",
        "            # forward + backward + optimize\n",
        "            outputs = inc(inputs)\n",
        "            loss = criterion_inception(outputs, labels)\n",
        "            loss.backward()\n",
        "            optimizer_inception.step()\n",
        "\n",
        "            # print statistics\n",
        "            running_loss += loss.item()\n",
        "            mini=4\n",
        "            if i % mini == mini-1:    # print every 10 mini-batches\n",
        "                print('[%d, %5d] loss: %.3f' %\n",
        "                      (epoch + 1, i + 1, running_loss / mini))\n",
        "                ep_lossi.append(running_loss/mini) # loss per minibatch\n",
        "                running_loss = 0.0\n",
        "        \n",
        "        # if(np.mean(ep_lossi)<=0.01):\n",
        "        #     break\n",
        "        loss_curi.append(np.mean(ep_lossi))   #loss per epoch\n",
        "\n",
        "\n",
        "\n",
        "\n",
        "    print('Finished Training')\n",
        "#     torch.save(inc.state_dict(),\"/content/drive/My Drive/Research/Experiments on CIFAR mosaic/Exp_2_Attention_models_on_9_datasets_made_from_10k_mosaic/weights/train_dataset_\"+str(ds_number)+\"_\"+str(epochs)+\".pt\")\n",
        "    \n",
        "    correct = 0\n",
        "    total = 0\n",
        "    with torch.no_grad():\n",
        "        for data in trainloader:\n",
        "            images, labels = data\n",
        "            images, labels = images.to(\"cuda\"), labels.to(\"cuda\")\n",
        "            outputs = inc(images)\n",
        "            _, predicted = torch.max(outputs.data, 1)\n",
        "            total += labels.size(0)\n",
        "            correct += (predicted == labels).sum().item()\n",
        "\n",
        "    print('Accuracy of the network on the 1000 train images: %d %%' % (  100 * correct / total))\n",
        "    \n",
        "    test_list=[]\n",
        "    for i, j in enumerate(testloader_list):\n",
        "        test_list.append(test_all(i+1, j,inc))\n",
        "    \n",
        "    print(\"--\"*40)\n",
        "    \n",
        "    return loss_curi,test_list"
      ],
      "execution_count": 0,
      "outputs": []
    },
    {
      "cell_type": "code",
      "metadata": {
        "id": "xC65oNSz7re3",
        "colab_type": "code",
        "colab": {
          "base_uri": "https://localhost:8080/",
          "height": 1000
        },
        "outputId": "d4c332d3-9eb8-4d57-80c6-e7c2dd105f4d"
      },
      "source": [
        "train_loss_all=[]\n",
        "\n",
        "testloader_list= [ testloader_1, testloader_2, testloader_3, testloader_4, testloader_5, testloader_6,\n",
        "                 testloader_7, testloader_8, testloader_9]\n",
        "\n",
        "test1 = train_loss_all.append(train_all(trainloader_1, 1, testloader_list))\n",
        "test2 = train_loss_all.append(train_all(trainloader_2, 2, testloader_list))\n",
        "test3 = train_loss_all.append(train_all(trainloader_3, 3, testloader_list))\n",
        "test4 = train_loss_all.append(train_all(trainloader_4, 4, testloader_list))\n",
        "test5 = train_loss_all.append(train_all(trainloader_5, 5, testloader_list))\n",
        "test6 = train_loss_all.append(train_all(trainloader_6, 6, testloader_list))\n",
        "test7 = train_loss_all.append(train_all(trainloader_7, 7, testloader_list))\n",
        "test8 = train_loss_all.append(train_all(trainloader_8, 8, testloader_list))\n",
        "test9 = train_loss_all.append(train_all(trainloader_9, 9, testloader_list))"
      ],
      "execution_count": 463,
      "outputs": [
        {
          "output_type": "stream",
          "text": [
            "--------------------------------------------------------------------------------\n",
            "training on data set   1\n",
            "[1,     4] loss: 1.108\n",
            "[2,     4] loss: 1.099\n",
            "[3,     4] loss: 1.088\n",
            "[4,     4] loss: 1.079\n",
            "[5,     4] loss: 1.073\n",
            "[6,     4] loss: 1.068\n",
            "[7,     4] loss: 1.063\n",
            "[8,     4] loss: 1.059\n",
            "[9,     4] loss: 1.056\n",
            "[10,     4] loss: 1.053\n",
            "[11,     4] loss: 1.050\n",
            "[12,     4] loss: 1.048\n",
            "[13,     4] loss: 1.047\n",
            "[14,     4] loss: 1.046\n",
            "[15,     4] loss: 1.044\n",
            "[16,     4] loss: 1.043\n",
            "[17,     4] loss: 1.043\n",
            "[18,     4] loss: 1.042\n",
            "[19,     4] loss: 1.043\n",
            "[20,     4] loss: 1.041\n",
            "[21,     4] loss: 1.042\n",
            "[22,     4] loss: 1.042\n",
            "[23,     4] loss: 1.041\n",
            "[24,     4] loss: 1.042\n",
            "[25,     4] loss: 1.041\n",
            "[26,     4] loss: 1.042\n",
            "[27,     4] loss: 1.041\n",
            "[28,     4] loss: 1.041\n",
            "[29,     4] loss: 1.042\n",
            "[30,     4] loss: 1.041\n",
            "[31,     4] loss: 1.041\n",
            "[32,     4] loss: 1.041\n",
            "[33,     4] loss: 1.040\n",
            "[34,     4] loss: 1.041\n",
            "[35,     4] loss: 1.041\n",
            "[36,     4] loss: 1.040\n",
            "[37,     4] loss: 1.040\n",
            "[38,     4] loss: 1.041\n",
            "[39,     4] loss: 1.040\n",
            "[40,     4] loss: 1.040\n",
            "[41,     4] loss: 1.041\n",
            "[42,     4] loss: 1.041\n",
            "[43,     4] loss: 1.040\n",
            "[44,     4] loss: 1.039\n",
            "[45,     4] loss: 1.040\n",
            "[46,     4] loss: 1.040\n",
            "[47,     4] loss: 1.040\n",
            "[48,     4] loss: 1.040\n",
            "[49,     4] loss: 1.040\n",
            "[50,     4] loss: 1.039\n",
            "[51,     4] loss: 1.040\n",
            "[52,     4] loss: 1.040\n",
            "[53,     4] loss: 1.040\n",
            "[54,     4] loss: 1.040\n",
            "[55,     4] loss: 1.040\n",
            "[56,     4] loss: 1.039\n",
            "[57,     4] loss: 1.040\n",
            "[58,     4] loss: 1.039\n",
            "[59,     4] loss: 1.039\n",
            "[60,     4] loss: 1.039\n",
            "[61,     4] loss: 1.040\n",
            "[62,     4] loss: 1.040\n",
            "[63,     4] loss: 1.039\n",
            "[64,     4] loss: 1.039\n",
            "[65,     4] loss: 1.039\n",
            "[66,     4] loss: 1.039\n",
            "[67,     4] loss: 1.039\n",
            "[68,     4] loss: 1.039\n",
            "[69,     4] loss: 1.038\n",
            "[70,     4] loss: 1.039\n",
            "Finished Training\n",
            "Accuracy of the network on the 1000 train images: 46 %\n",
            "Accuracy of the network on the 1000 test dataset 1: 46 %\n",
            "Accuracy of the network on the 1000 test dataset 2: 57 %\n",
            "Accuracy of the network on the 1000 test dataset 3: 72 %\n",
            "Accuracy of the network on the 1000 test dataset 4: 83 %\n",
            "Accuracy of the network on the 1000 test dataset 5: 92 %\n",
            "Accuracy of the network on the 1000 test dataset 6: 98 %\n",
            "Accuracy of the network on the 1000 test dataset 7: 100 %\n",
            "Accuracy of the network on the 1000 test dataset 8: 100 %\n",
            "Accuracy of the network on the 1000 test dataset 9: 100 %\n",
            "--------------------------------------------------------------------------------\n",
            "--------------------------------------------------------------------------------\n",
            "training on data set   2\n",
            "[1,     4] loss: 1.082\n",
            "[2,     4] loss: 1.069\n",
            "[3,     4] loss: 1.050\n",
            "[4,     4] loss: 1.028\n",
            "[5,     4] loss: 1.005\n",
            "[6,     4] loss: 0.984\n",
            "[7,     4] loss: 0.963\n",
            "[8,     4] loss: 0.945\n",
            "[9,     4] loss: 0.929\n",
            "[10,     4] loss: 0.914\n",
            "[11,     4] loss: 0.903\n",
            "[12,     4] loss: 0.893\n",
            "[13,     4] loss: 0.887\n",
            "[14,     4] loss: 0.881\n",
            "[15,     4] loss: 0.878\n",
            "[16,     4] loss: 0.874\n",
            "[17,     4] loss: 0.875\n",
            "[18,     4] loss: 0.871\n",
            "[19,     4] loss: 0.870\n",
            "[20,     4] loss: 0.870\n",
            "[21,     4] loss: 0.871\n",
            "[22,     4] loss: 0.869\n",
            "[23,     4] loss: 0.869\n",
            "[24,     4] loss: 0.870\n",
            "[25,     4] loss: 0.867\n",
            "[26,     4] loss: 0.867\n",
            "[27,     4] loss: 0.868\n",
            "[28,     4] loss: 0.868\n",
            "[29,     4] loss: 0.868\n",
            "[30,     4] loss: 0.869\n",
            "[31,     4] loss: 0.869\n",
            "[32,     4] loss: 0.868\n",
            "[33,     4] loss: 0.867\n",
            "[34,     4] loss: 0.866\n",
            "[35,     4] loss: 0.866\n",
            "[36,     4] loss: 0.865\n",
            "[37,     4] loss: 0.867\n",
            "[38,     4] loss: 0.867\n",
            "[39,     4] loss: 0.866\n",
            "[40,     4] loss: 0.865\n",
            "[41,     4] loss: 0.865\n",
            "[42,     4] loss: 0.867\n",
            "[43,     4] loss: 0.865\n",
            "[44,     4] loss: 0.864\n",
            "[45,     4] loss: 0.866\n",
            "[46,     4] loss: 0.865\n",
            "[47,     4] loss: 0.866\n",
            "[48,     4] loss: 0.866\n",
            "[49,     4] loss: 0.864\n",
            "[50,     4] loss: 0.865\n",
            "[51,     4] loss: 0.864\n",
            "[52,     4] loss: 0.864\n",
            "[53,     4] loss: 0.866\n",
            "[54,     4] loss: 0.865\n",
            "[55,     4] loss: 0.864\n",
            "[56,     4] loss: 0.864\n",
            "[57,     4] loss: 0.864\n",
            "[58,     4] loss: 0.866\n",
            "[59,     4] loss: 0.863\n",
            "[60,     4] loss: 0.863\n",
            "[61,     4] loss: 0.863\n",
            "[62,     4] loss: 0.864\n",
            "[63,     4] loss: 0.864\n",
            "[64,     4] loss: 0.863\n",
            "[65,     4] loss: 0.864\n",
            "[66,     4] loss: 0.863\n",
            "[67,     4] loss: 0.863\n",
            "[68,     4] loss: 0.863\n",
            "[69,     4] loss: 0.863\n",
            "[70,     4] loss: 0.863\n",
            "Finished Training\n",
            "Accuracy of the network on the 1000 train images: 61 %\n",
            "Accuracy of the network on the 1000 test dataset 1: 44 %\n",
            "Accuracy of the network on the 1000 test dataset 2: 61 %\n",
            "Accuracy of the network on the 1000 test dataset 3: 77 %\n",
            "Accuracy of the network on the 1000 test dataset 4: 90 %\n",
            "Accuracy of the network on the 1000 test dataset 5: 97 %\n",
            "Accuracy of the network on the 1000 test dataset 6: 100 %\n",
            "Accuracy of the network on the 1000 test dataset 7: 100 %\n",
            "Accuracy of the network on the 1000 test dataset 8: 100 %\n",
            "Accuracy of the network on the 1000 test dataset 9: 100 %\n",
            "--------------------------------------------------------------------------------\n",
            "--------------------------------------------------------------------------------\n",
            "training on data set   3\n",
            "[1,     4] loss: 1.061\n",
            "[2,     4] loss: 1.022\n",
            "[3,     4] loss: 0.963\n",
            "[4,     4] loss: 0.899\n",
            "[5,     4] loss: 0.840\n",
            "[6,     4] loss: 0.780\n",
            "[7,     4] loss: 0.725\n",
            "[8,     4] loss: 0.680\n",
            "[9,     4] loss: 0.641\n",
            "[10,     4] loss: 0.611\n",
            "[11,     4] loss: 0.591\n",
            "[12,     4] loss: 0.574\n",
            "[13,     4] loss: 0.564\n",
            "[14,     4] loss: 0.559\n",
            "[15,     4] loss: 0.554\n",
            "[16,     4] loss: 0.553\n",
            "[17,     4] loss: 0.551\n",
            "[18,     4] loss: 0.550\n",
            "[19,     4] loss: 0.549\n",
            "[20,     4] loss: 0.549\n",
            "[21,     4] loss: 0.551\n",
            "[22,     4] loss: 0.548\n",
            "[23,     4] loss: 0.549\n",
            "[24,     4] loss: 0.547\n",
            "[25,     4] loss: 0.547\n",
            "[26,     4] loss: 0.547\n",
            "[27,     4] loss: 0.545\n",
            "[28,     4] loss: 0.547\n",
            "[29,     4] loss: 0.547\n",
            "[30,     4] loss: 0.547\n",
            "[31,     4] loss: 0.545\n",
            "[32,     4] loss: 0.545\n",
            "[33,     4] loss: 0.545\n",
            "[34,     4] loss: 0.547\n",
            "[35,     4] loss: 0.546\n",
            "[36,     4] loss: 0.546\n",
            "[37,     4] loss: 0.545\n",
            "[38,     4] loss: 0.545\n",
            "[39,     4] loss: 0.544\n",
            "[40,     4] loss: 0.545\n",
            "[41,     4] loss: 0.545\n",
            "[42,     4] loss: 0.544\n",
            "[43,     4] loss: 0.545\n",
            "[44,     4] loss: 0.545\n",
            "[45,     4] loss: 0.545\n",
            "[46,     4] loss: 0.544\n",
            "[47,     4] loss: 0.542\n",
            "[48,     4] loss: 0.544\n",
            "[49,     4] loss: 0.543\n",
            "[50,     4] loss: 0.543\n",
            "[51,     4] loss: 0.545\n",
            "[52,     4] loss: 0.544\n",
            "[53,     4] loss: 0.543\n",
            "[54,     4] loss: 0.543\n",
            "[55,     4] loss: 0.543\n",
            "[56,     4] loss: 0.544\n",
            "[57,     4] loss: 0.543\n",
            "[58,     4] loss: 0.543\n",
            "[59,     4] loss: 0.543\n",
            "[60,     4] loss: 0.544\n",
            "[61,     4] loss: 0.544\n",
            "[62,     4] loss: 0.541\n",
            "[63,     4] loss: 0.542\n",
            "[64,     4] loss: 0.542\n",
            "[65,     4] loss: 0.542\n",
            "[66,     4] loss: 0.542\n",
            "[67,     4] loss: 0.542\n",
            "[68,     4] loss: 0.543\n",
            "[69,     4] loss: 0.541\n",
            "[70,     4] loss: 0.542\n",
            "Finished Training\n",
            "Accuracy of the network on the 1000 train images: 75 %\n",
            "Accuracy of the network on the 1000 test dataset 1: 43 %\n",
            "Accuracy of the network on the 1000 test dataset 2: 59 %\n",
            "Accuracy of the network on the 1000 test dataset 3: 75 %\n",
            "Accuracy of the network on the 1000 test dataset 4: 92 %\n",
            "Accuracy of the network on the 1000 test dataset 5: 99 %\n",
            "Accuracy of the network on the 1000 test dataset 6: 100 %\n",
            "Accuracy of the network on the 1000 test dataset 7: 100 %\n",
            "Accuracy of the network on the 1000 test dataset 8: 100 %\n",
            "Accuracy of the network on the 1000 test dataset 9: 100 %\n",
            "--------------------------------------------------------------------------------\n",
            "--------------------------------------------------------------------------------\n",
            "training on data set   4\n",
            "[1,     4] loss: 1.085\n",
            "[2,     4] loss: 1.017\n",
            "[3,     4] loss: 0.923\n",
            "[4,     4] loss: 0.828\n",
            "[5,     4] loss: 0.737\n",
            "[6,     4] loss: 0.650\n",
            "[7,     4] loss: 0.565\n",
            "[8,     4] loss: 0.486\n",
            "[9,     4] loss: 0.418\n",
            "[10,     4] loss: 0.361\n",
            "[11,     4] loss: 0.318\n",
            "[12,     4] loss: 0.283\n",
            "[13,     4] loss: 0.257\n",
            "[14,     4] loss: 0.238\n",
            "[15,     4] loss: 0.223\n",
            "[16,     4] loss: 0.214\n",
            "[17,     4] loss: 0.205\n",
            "[18,     4] loss: 0.200\n",
            "[19,     4] loss: 0.196\n",
            "[20,     4] loss: 0.192\n",
            "[21,     4] loss: 0.190\n",
            "[22,     4] loss: 0.188\n",
            "[23,     4] loss: 0.186\n",
            "[24,     4] loss: 0.185\n",
            "[25,     4] loss: 0.182\n",
            "[26,     4] loss: 0.181\n",
            "[27,     4] loss: 0.182\n",
            "[28,     4] loss: 0.181\n",
            "[29,     4] loss: 0.180\n",
            "[30,     4] loss: 0.180\n",
            "[31,     4] loss: 0.179\n",
            "[32,     4] loss: 0.181\n",
            "[33,     4] loss: 0.178\n",
            "[34,     4] loss: 0.179\n",
            "[35,     4] loss: 0.179\n",
            "[36,     4] loss: 0.178\n",
            "[37,     4] loss: 0.177\n",
            "[38,     4] loss: 0.177\n",
            "[39,     4] loss: 0.176\n",
            "[40,     4] loss: 0.177\n",
            "[41,     4] loss: 0.178\n",
            "[42,     4] loss: 0.177\n",
            "[43,     4] loss: 0.176\n",
            "[44,     4] loss: 0.177\n",
            "[45,     4] loss: 0.177\n",
            "[46,     4] loss: 0.175\n",
            "[47,     4] loss: 0.177\n",
            "[48,     4] loss: 0.176\n",
            "[49,     4] loss: 0.176\n",
            "[50,     4] loss: 0.177\n",
            "[51,     4] loss: 0.176\n",
            "[52,     4] loss: 0.177\n",
            "[53,     4] loss: 0.177\n",
            "[54,     4] loss: 0.176\n",
            "[55,     4] loss: 0.176\n",
            "[56,     4] loss: 0.176\n",
            "[57,     4] loss: 0.176\n",
            "[58,     4] loss: 0.176\n",
            "[59,     4] loss: 0.176\n",
            "[60,     4] loss: 0.175\n",
            "[61,     4] loss: 0.175\n",
            "[62,     4] loss: 0.176\n",
            "[63,     4] loss: 0.177\n",
            "[64,     4] loss: 0.176\n",
            "[65,     4] loss: 0.173\n",
            "[66,     4] loss: 0.176\n",
            "[67,     4] loss: 0.175\n",
            "[68,     4] loss: 0.176\n",
            "[69,     4] loss: 0.175\n",
            "[70,     4] loss: 0.175\n",
            "Finished Training\n",
            "Accuracy of the network on the 1000 train images: 93 %\n",
            "Accuracy of the network on the 1000 test dataset 1: 43 %\n",
            "Accuracy of the network on the 1000 test dataset 2: 56 %\n",
            "Accuracy of the network on the 1000 test dataset 3: 75 %\n",
            "Accuracy of the network on the 1000 test dataset 4: 93 %\n",
            "Accuracy of the network on the 1000 test dataset 5: 99 %\n",
            "Accuracy of the network on the 1000 test dataset 6: 100 %\n",
            "Accuracy of the network on the 1000 test dataset 7: 100 %\n",
            "Accuracy of the network on the 1000 test dataset 8: 100 %\n",
            "Accuracy of the network on the 1000 test dataset 9: 100 %\n",
            "--------------------------------------------------------------------------------\n",
            "--------------------------------------------------------------------------------\n",
            "training on data set   5\n",
            "[1,     4] loss: 1.119\n",
            "[2,     4] loss: 1.022\n",
            "[3,     4] loss: 0.884\n",
            "[4,     4] loss: 0.738\n",
            "[5,     4] loss: 0.598\n",
            "[6,     4] loss: 0.463\n",
            "[7,     4] loss: 0.345\n",
            "[8,     4] loss: 0.249\n",
            "[9,     4] loss: 0.179\n",
            "[10,     4] loss: 0.132\n",
            "[11,     4] loss: 0.100\n",
            "[12,     4] loss: 0.080\n",
            "[13,     4] loss: 0.066\n",
            "[14,     4] loss: 0.057\n",
            "[15,     4] loss: 0.050\n",
            "[16,     4] loss: 0.045\n",
            "[17,     4] loss: 0.042\n",
            "[18,     4] loss: 0.039\n",
            "[19,     4] loss: 0.036\n",
            "[20,     4] loss: 0.034\n",
            "[21,     4] loss: 0.033\n",
            "[22,     4] loss: 0.031\n",
            "[23,     4] loss: 0.030\n",
            "[24,     4] loss: 0.029\n",
            "[25,     4] loss: 0.028\n",
            "[26,     4] loss: 0.027\n",
            "[27,     4] loss: 0.027\n",
            "[28,     4] loss: 0.026\n",
            "[29,     4] loss: 0.025\n",
            "[30,     4] loss: 0.025\n",
            "[31,     4] loss: 0.024\n",
            "[32,     4] loss: 0.024\n",
            "[33,     4] loss: 0.023\n",
            "[34,     4] loss: 0.023\n",
            "[35,     4] loss: 0.022\n",
            "[36,     4] loss: 0.022\n",
            "[37,     4] loss: 0.022\n",
            "[38,     4] loss: 0.021\n",
            "[39,     4] loss: 0.021\n",
            "[40,     4] loss: 0.021\n",
            "[41,     4] loss: 0.020\n",
            "[42,     4] loss: 0.020\n",
            "[43,     4] loss: 0.020\n",
            "[44,     4] loss: 0.020\n",
            "[45,     4] loss: 0.020\n",
            "[46,     4] loss: 0.019\n",
            "[47,     4] loss: 0.019\n",
            "[48,     4] loss: 0.019\n",
            "[49,     4] loss: 0.019\n",
            "[50,     4] loss: 0.018\n",
            "[51,     4] loss: 0.018\n",
            "[52,     4] loss: 0.018\n",
            "[53,     4] loss: 0.018\n",
            "[54,     4] loss: 0.018\n",
            "[55,     4] loss: 0.018\n",
            "[56,     4] loss: 0.017\n",
            "[57,     4] loss: 0.017\n",
            "[58,     4] loss: 0.017\n",
            "[59,     4] loss: 0.017\n",
            "[60,     4] loss: 0.017\n",
            "[61,     4] loss: 0.017\n",
            "[62,     4] loss: 0.017\n",
            "[63,     4] loss: 0.017\n",
            "[64,     4] loss: 0.016\n",
            "[65,     4] loss: 0.016\n",
            "[66,     4] loss: 0.016\n",
            "[67,     4] loss: 0.016\n",
            "[68,     4] loss: 0.016\n",
            "[69,     4] loss: 0.016\n",
            "[70,     4] loss: 0.016\n",
            "Finished Training\n",
            "Accuracy of the network on the 1000 train images: 99 %\n",
            "Accuracy of the network on the 1000 test dataset 1: 42 %\n",
            "Accuracy of the network on the 1000 test dataset 2: 56 %\n",
            "Accuracy of the network on the 1000 test dataset 3: 75 %\n",
            "Accuracy of the network on the 1000 test dataset 4: 93 %\n",
            "Accuracy of the network on the 1000 test dataset 5: 99 %\n",
            "Accuracy of the network on the 1000 test dataset 6: 100 %\n",
            "Accuracy of the network on the 1000 test dataset 7: 100 %\n",
            "Accuracy of the network on the 1000 test dataset 8: 100 %\n",
            "Accuracy of the network on the 1000 test dataset 9: 100 %\n",
            "--------------------------------------------------------------------------------\n",
            "--------------------------------------------------------------------------------\n",
            "training on data set   6\n",
            "[1,     4] loss: 1.071\n",
            "[2,     4] loss: 0.954\n",
            "[3,     4] loss: 0.783\n",
            "[4,     4] loss: 0.603\n",
            "[5,     4] loss: 0.436\n",
            "[6,     4] loss: 0.296\n",
            "[7,     4] loss: 0.194\n",
            "[8,     4] loss: 0.125\n",
            "[9,     4] loss: 0.081\n",
            "[10,     4] loss: 0.055\n",
            "[11,     4] loss: 0.039\n",
            "[12,     4] loss: 0.030\n",
            "[13,     4] loss: 0.024\n",
            "[14,     4] loss: 0.020\n",
            "[15,     4] loss: 0.017\n",
            "[16,     4] loss: 0.015\n",
            "[17,     4] loss: 0.013\n",
            "[18,     4] loss: 0.012\n",
            "[19,     4] loss: 0.011\n",
            "[20,     4] loss: 0.011\n",
            "[21,     4] loss: 0.010\n",
            "[22,     4] loss: 0.009\n",
            "[23,     4] loss: 0.009\n",
            "[24,     4] loss: 0.008\n",
            "[25,     4] loss: 0.008\n",
            "[26,     4] loss: 0.008\n",
            "[27,     4] loss: 0.007\n",
            "[28,     4] loss: 0.007\n",
            "[29,     4] loss: 0.007\n",
            "[30,     4] loss: 0.007\n",
            "[31,     4] loss: 0.006\n",
            "[32,     4] loss: 0.006\n",
            "[33,     4] loss: 0.006\n",
            "[34,     4] loss: 0.006\n",
            "[35,     4] loss: 0.006\n",
            "[36,     4] loss: 0.006\n",
            "[37,     4] loss: 0.005\n",
            "[38,     4] loss: 0.005\n",
            "[39,     4] loss: 0.005\n",
            "[40,     4] loss: 0.005\n",
            "[41,     4] loss: 0.005\n",
            "[42,     4] loss: 0.005\n",
            "[43,     4] loss: 0.005\n",
            "[44,     4] loss: 0.004\n",
            "[45,     4] loss: 0.004\n",
            "[46,     4] loss: 0.004\n",
            "[47,     4] loss: 0.004\n",
            "[48,     4] loss: 0.004\n",
            "[49,     4] loss: 0.004\n",
            "[50,     4] loss: 0.004\n",
            "[51,     4] loss: 0.004\n",
            "[52,     4] loss: 0.004\n",
            "[53,     4] loss: 0.004\n",
            "[54,     4] loss: 0.004\n",
            "[55,     4] loss: 0.004\n",
            "[56,     4] loss: 0.003\n",
            "[57,     4] loss: 0.003\n",
            "[58,     4] loss: 0.003\n",
            "[59,     4] loss: 0.003\n",
            "[60,     4] loss: 0.003\n",
            "[61,     4] loss: 0.003\n",
            "[62,     4] loss: 0.003\n",
            "[63,     4] loss: 0.003\n",
            "[64,     4] loss: 0.003\n",
            "[65,     4] loss: 0.003\n",
            "[66,     4] loss: 0.003\n",
            "[67,     4] loss: 0.003\n",
            "[68,     4] loss: 0.003\n",
            "[69,     4] loss: 0.003\n",
            "[70,     4] loss: 0.003\n",
            "Finished Training\n",
            "Accuracy of the network on the 1000 train images: 100 %\n",
            "Accuracy of the network on the 1000 test dataset 1: 41 %\n",
            "Accuracy of the network on the 1000 test dataset 2: 56 %\n",
            "Accuracy of the network on the 1000 test dataset 3: 73 %\n",
            "Accuracy of the network on the 1000 test dataset 4: 91 %\n",
            "Accuracy of the network on the 1000 test dataset 5: 99 %\n",
            "Accuracy of the network on the 1000 test dataset 6: 100 %\n",
            "Accuracy of the network on the 1000 test dataset 7: 100 %\n",
            "Accuracy of the network on the 1000 test dataset 8: 100 %\n",
            "Accuracy of the network on the 1000 test dataset 9: 100 %\n",
            "--------------------------------------------------------------------------------\n",
            "--------------------------------------------------------------------------------\n",
            "training on data set   7\n",
            "[1,     4] loss: 1.053\n",
            "[2,     4] loss: 0.894\n",
            "[3,     4] loss: 0.683\n",
            "[4,     4] loss: 0.487\n",
            "[5,     4] loss: 0.332\n",
            "[6,     4] loss: 0.222\n",
            "[7,     4] loss: 0.147\n",
            "[8,     4] loss: 0.096\n",
            "[9,     4] loss: 0.063\n",
            "[10,     4] loss: 0.042\n",
            "[11,     4] loss: 0.029\n",
            "[12,     4] loss: 0.021\n",
            "[13,     4] loss: 0.016\n",
            "[14,     4] loss: 0.013\n",
            "[15,     4] loss: 0.011\n",
            "[16,     4] loss: 0.010\n",
            "[17,     4] loss: 0.009\n",
            "[18,     4] loss: 0.008\n",
            "[19,     4] loss: 0.007\n",
            "[20,     4] loss: 0.007\n",
            "[21,     4] loss: 0.006\n",
            "[22,     4] loss: 0.006\n",
            "[23,     4] loss: 0.006\n",
            "[24,     4] loss: 0.005\n",
            "[25,     4] loss: 0.005\n",
            "[26,     4] loss: 0.005\n",
            "[27,     4] loss: 0.005\n",
            "[28,     4] loss: 0.004\n",
            "[29,     4] loss: 0.004\n",
            "[30,     4] loss: 0.004\n",
            "[31,     4] loss: 0.004\n",
            "[32,     4] loss: 0.004\n",
            "[33,     4] loss: 0.004\n",
            "[34,     4] loss: 0.004\n",
            "[35,     4] loss: 0.003\n",
            "[36,     4] loss: 0.003\n",
            "[37,     4] loss: 0.003\n",
            "[38,     4] loss: 0.003\n",
            "[39,     4] loss: 0.003\n",
            "[40,     4] loss: 0.003\n",
            "[41,     4] loss: 0.003\n",
            "[42,     4] loss: 0.003\n",
            "[43,     4] loss: 0.003\n",
            "[44,     4] loss: 0.003\n",
            "[45,     4] loss: 0.003\n",
            "[46,     4] loss: 0.003\n",
            "[47,     4] loss: 0.002\n",
            "[48,     4] loss: 0.002\n",
            "[49,     4] loss: 0.002\n",
            "[50,     4] loss: 0.002\n",
            "[51,     4] loss: 0.002\n",
            "[52,     4] loss: 0.002\n",
            "[53,     4] loss: 0.002\n",
            "[54,     4] loss: 0.002\n",
            "[55,     4] loss: 0.002\n",
            "[56,     4] loss: 0.002\n",
            "[57,     4] loss: 0.002\n",
            "[58,     4] loss: 0.002\n",
            "[59,     4] loss: 0.002\n",
            "[60,     4] loss: 0.002\n",
            "[61,     4] loss: 0.002\n",
            "[62,     4] loss: 0.002\n",
            "[63,     4] loss: 0.002\n",
            "[64,     4] loss: 0.002\n",
            "[65,     4] loss: 0.002\n",
            "[66,     4] loss: 0.002\n",
            "[67,     4] loss: 0.002\n",
            "[68,     4] loss: 0.002\n",
            "[69,     4] loss: 0.002\n",
            "[70,     4] loss: 0.002\n",
            "Finished Training\n",
            "Accuracy of the network on the 1000 train images: 100 %\n",
            "Accuracy of the network on the 1000 test dataset 1: 41 %\n",
            "Accuracy of the network on the 1000 test dataset 2: 55 %\n",
            "Accuracy of the network on the 1000 test dataset 3: 74 %\n",
            "Accuracy of the network on the 1000 test dataset 4: 91 %\n",
            "Accuracy of the network on the 1000 test dataset 5: 99 %\n",
            "Accuracy of the network on the 1000 test dataset 6: 100 %\n",
            "Accuracy of the network on the 1000 test dataset 7: 100 %\n",
            "Accuracy of the network on the 1000 test dataset 8: 100 %\n",
            "Accuracy of the network on the 1000 test dataset 9: 100 %\n",
            "--------------------------------------------------------------------------------\n",
            "--------------------------------------------------------------------------------\n",
            "training on data set   8\n",
            "[1,     4] loss: 1.105\n",
            "[2,     4] loss: 0.886\n",
            "[3,     4] loss: 0.620\n",
            "[4,     4] loss: 0.397\n",
            "[5,     4] loss: 0.237\n",
            "[6,     4] loss: 0.137\n",
            "[7,     4] loss: 0.077\n",
            "[8,     4] loss: 0.044\n",
            "[9,     4] loss: 0.026\n",
            "[10,     4] loss: 0.017\n",
            "[11,     4] loss: 0.012\n",
            "[12,     4] loss: 0.009\n",
            "[13,     4] loss: 0.007\n",
            "[14,     4] loss: 0.006\n",
            "[15,     4] loss: 0.005\n",
            "[16,     4] loss: 0.005\n",
            "[17,     4] loss: 0.004\n",
            "[18,     4] loss: 0.004\n",
            "[19,     4] loss: 0.004\n",
            "[20,     4] loss: 0.004\n",
            "[21,     4] loss: 0.003\n",
            "[22,     4] loss: 0.003\n",
            "[23,     4] loss: 0.003\n",
            "[24,     4] loss: 0.003\n",
            "[25,     4] loss: 0.003\n",
            "[26,     4] loss: 0.003\n",
            "[27,     4] loss: 0.003\n",
            "[28,     4] loss: 0.003\n",
            "[29,     4] loss: 0.003\n",
            "[30,     4] loss: 0.002\n",
            "[31,     4] loss: 0.002\n",
            "[32,     4] loss: 0.002\n",
            "[33,     4] loss: 0.002\n",
            "[34,     4] loss: 0.002\n",
            "[35,     4] loss: 0.002\n",
            "[36,     4] loss: 0.002\n",
            "[37,     4] loss: 0.002\n",
            "[38,     4] loss: 0.002\n",
            "[39,     4] loss: 0.002\n",
            "[40,     4] loss: 0.002\n",
            "[41,     4] loss: 0.002\n",
            "[42,     4] loss: 0.002\n",
            "[43,     4] loss: 0.002\n",
            "[44,     4] loss: 0.002\n",
            "[45,     4] loss: 0.002\n",
            "[46,     4] loss: 0.002\n",
            "[47,     4] loss: 0.002\n",
            "[48,     4] loss: 0.002\n",
            "[49,     4] loss: 0.002\n",
            "[50,     4] loss: 0.002\n",
            "[51,     4] loss: 0.001\n",
            "[52,     4] loss: 0.001\n",
            "[53,     4] loss: 0.001\n",
            "[54,     4] loss: 0.001\n",
            "[55,     4] loss: 0.001\n",
            "[56,     4] loss: 0.001\n",
            "[57,     4] loss: 0.001\n",
            "[58,     4] loss: 0.001\n",
            "[59,     4] loss: 0.001\n",
            "[60,     4] loss: 0.001\n",
            "[61,     4] loss: 0.001\n",
            "[62,     4] loss: 0.001\n",
            "[63,     4] loss: 0.001\n",
            "[64,     4] loss: 0.001\n",
            "[65,     4] loss: 0.001\n",
            "[66,     4] loss: 0.001\n",
            "[67,     4] loss: 0.001\n",
            "[68,     4] loss: 0.001\n",
            "[69,     4] loss: 0.001\n",
            "[70,     4] loss: 0.001\n",
            "Finished Training\n",
            "Accuracy of the network on the 1000 train images: 100 %\n",
            "Accuracy of the network on the 1000 test dataset 1: 42 %\n",
            "Accuracy of the network on the 1000 test dataset 2: 56 %\n",
            "Accuracy of the network on the 1000 test dataset 3: 73 %\n",
            "Accuracy of the network on the 1000 test dataset 4: 92 %\n",
            "Accuracy of the network on the 1000 test dataset 5: 99 %\n",
            "Accuracy of the network on the 1000 test dataset 6: 100 %\n",
            "Accuracy of the network on the 1000 test dataset 7: 100 %\n",
            "Accuracy of the network on the 1000 test dataset 8: 100 %\n",
            "Accuracy of the network on the 1000 test dataset 9: 100 %\n",
            "--------------------------------------------------------------------------------\n",
            "--------------------------------------------------------------------------------\n",
            "training on data set   9\n",
            "[1,     4] loss: 1.050\n",
            "[2,     4] loss: 0.817\n",
            "[3,     4] loss: 0.537\n",
            "[4,     4] loss: 0.314\n",
            "[5,     4] loss: 0.169\n",
            "[6,     4] loss: 0.087\n",
            "[7,     4] loss: 0.044\n",
            "[8,     4] loss: 0.024\n",
            "[9,     4] loss: 0.014\n",
            "[10,     4] loss: 0.010\n",
            "[11,     4] loss: 0.007\n",
            "[12,     4] loss: 0.006\n",
            "[13,     4] loss: 0.005\n",
            "[14,     4] loss: 0.004\n",
            "[15,     4] loss: 0.004\n",
            "[16,     4] loss: 0.003\n",
            "[17,     4] loss: 0.003\n",
            "[18,     4] loss: 0.003\n",
            "[19,     4] loss: 0.003\n",
            "[20,     4] loss: 0.003\n",
            "[21,     4] loss: 0.003\n",
            "[22,     4] loss: 0.003\n",
            "[23,     4] loss: 0.002\n",
            "[24,     4] loss: 0.002\n",
            "[25,     4] loss: 0.002\n",
            "[26,     4] loss: 0.002\n",
            "[27,     4] loss: 0.002\n",
            "[28,     4] loss: 0.002\n",
            "[29,     4] loss: 0.002\n",
            "[30,     4] loss: 0.002\n",
            "[31,     4] loss: 0.002\n",
            "[32,     4] loss: 0.002\n",
            "[33,     4] loss: 0.002\n",
            "[34,     4] loss: 0.002\n",
            "[35,     4] loss: 0.002\n",
            "[36,     4] loss: 0.002\n",
            "[37,     4] loss: 0.002\n",
            "[38,     4] loss: 0.002\n",
            "[39,     4] loss: 0.002\n",
            "[40,     4] loss: 0.002\n",
            "[41,     4] loss: 0.001\n",
            "[42,     4] loss: 0.001\n",
            "[43,     4] loss: 0.001\n",
            "[44,     4] loss: 0.001\n",
            "[45,     4] loss: 0.001\n",
            "[46,     4] loss: 0.001\n",
            "[47,     4] loss: 0.001\n",
            "[48,     4] loss: 0.001\n",
            "[49,     4] loss: 0.001\n",
            "[50,     4] loss: 0.001\n",
            "[51,     4] loss: 0.001\n",
            "[52,     4] loss: 0.001\n",
            "[53,     4] loss: 0.001\n",
            "[54,     4] loss: 0.001\n",
            "[55,     4] loss: 0.001\n",
            "[56,     4] loss: 0.001\n",
            "[57,     4] loss: 0.001\n",
            "[58,     4] loss: 0.001\n",
            "[59,     4] loss: 0.001\n",
            "[60,     4] loss: 0.001\n",
            "[61,     4] loss: 0.001\n",
            "[62,     4] loss: 0.001\n",
            "[63,     4] loss: 0.001\n",
            "[64,     4] loss: 0.001\n",
            "[65,     4] loss: 0.001\n",
            "[66,     4] loss: 0.001\n",
            "[67,     4] loss: 0.001\n",
            "[68,     4] loss: 0.001\n",
            "[69,     4] loss: 0.001\n",
            "[70,     4] loss: 0.001\n",
            "Finished Training\n",
            "Accuracy of the network on the 1000 train images: 100 %\n",
            "Accuracy of the network on the 1000 test dataset 1: 40 %\n",
            "Accuracy of the network on the 1000 test dataset 2: 54 %\n",
            "Accuracy of the network on the 1000 test dataset 3: 71 %\n",
            "Accuracy of the network on the 1000 test dataset 4: 90 %\n",
            "Accuracy of the network on the 1000 test dataset 5: 99 %\n",
            "Accuracy of the network on the 1000 test dataset 6: 100 %\n",
            "Accuracy of the network on the 1000 test dataset 7: 100 %\n",
            "Accuracy of the network on the 1000 test dataset 8: 100 %\n",
            "Accuracy of the network on the 1000 test dataset 9: 100 %\n",
            "--------------------------------------------------------------------------------\n"
          ],
          "name": "stdout"
        }
      ]
    },
    {
      "cell_type": "code",
      "metadata": {
        "id": "kdh1-GQ17re7",
        "colab_type": "code",
        "colab": {
          "base_uri": "https://localhost:8080/",
          "height": 296
        },
        "outputId": "8dacc41b-4d75-4265-9ece-e8ba19e43d8b"
      },
      "source": [
        "ds = np.arange(1,10)\n",
        "for i in range(9):\n",
        "  plt.plot(ds,train_loss_all[i][1], label=\"dataset_\"+str(i+1))\n",
        "plt.legend(loc='center left', bbox_to_anchor=(1, 0.5))\n",
        "plt.xlabel(\"dataset\")\n",
        "plt.ylabel(\"train accuracy\")"
      ],
      "execution_count": 464,
      "outputs": [
        {
          "output_type": "execute_result",
          "data": {
            "text/plain": [
              "Text(0, 0.5, 'train accuracy')"
            ]
          },
          "metadata": {
            "tags": []
          },
          "execution_count": 464
        },
        {
          "output_type": "display_data",
          "data": {
            "image/png": "[encoded data removed]",
            "text/plain": [
              "<Figure size 432x288 with 1 Axes>"
            ]
          },
          "metadata": {
            "tags": []
          }
        }
      ]
    },
    {
      "cell_type": "code",
      "metadata": {
        "id": "eQVRrvG5_kgi",
        "colab_type": "code",
        "colab": {
          "base_uri": "https://localhost:8080/",
          "height": 296
        },
        "outputId": "a0cc86f6-34a7-4a8d-e115-25d9d53d5291"
      },
      "source": [
        "ds = np.arange(1,71)\n",
        "for i in range(9):\n",
        "  plt.plot(ds,train_loss_all[i][0], label=\"dataset_\"+str(i))\n",
        "plt.legend(loc='center left', bbox_to_anchor=(1, 0.5))\n",
        "plt.xlabel(\"epochs\")\n",
        "plt.ylabel(\"log loss\")"
      ],
      "execution_count": 465,
      "outputs": [
        {
          "output_type": "execute_result",
          "data": {
            "text/plain": [
              "Text(0, 0.5, 'log loss')"
            ]
          },
          "metadata": {
            "tags": []
          },
          "execution_count": 465
        },
        {
          "output_type": "display_data",
          "data": {
            "image/png": "[encoded data removed]",
            "text/plain": [
              "<Figure size 432x288 with 1 Axes>"
            ]
          },
          "metadata": {
            "tags": []
          }
        }
      ]
    },
    {
      "cell_type": "code",
      "metadata": {
        "id": "fZBBg7gMA0D7",
        "colab_type": "code",
        "colab": {}
      },
      "source": [
        ""
      ],
      "execution_count": 0,
      "outputs": []
    }
  ]
}