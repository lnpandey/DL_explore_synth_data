{
  "nbformat": 4,
  "nbformat_minor": 0,
  "metadata": {
    "kernelspec": {
      "name": "python3",
      "display_name": "Python 3"
    },
    "language_info": {
      "codemirror_mode": {
        "name": "ipython",
        "version": 3
      },
      "file_extension": ".py",
      "mimetype": "text/x-python",
      "name": "python",
      "nbconvert_exporter": "python",
      "pygments_lexer": "ipython3",
      "version": "3.7.0"
    },
    "colab": {
      "name": "Simple_MNIST_rand.ipynb",
      "provenance": [],
      "collapsed_sections": []
    },
    "accelerator": "GPU"
  },
  "cells": [
    {
      "cell_type": "code",
      "metadata": {
        "id": "lR-eQfx0acq8",
        "colab_type": "code",
        "colab": {}
      },
      "source": [
        "import numpy as np\n",
        "import pandas as pd\n",
        "from matplotlib import pyplot as plt\n",
        "from tqdm import tqdm as tqdm\n",
        "\n",
        "%matplotlib inline\n",
        "\n",
        "import torch\n",
        "import torchvision\n",
        "\n",
        "import torchvision.transforms as transforms\n",
        "import torch.nn as nn\n",
        "import torch.optim as optim\n",
        "import torch.nn.functional as F\n",
        "import random"
      ],
      "execution_count": 0,
      "outputs": []
    },
    {
      "cell_type": "code",
      "metadata": {
        "id": "HxCE5TSmap0T",
        "colab_type": "code",
        "outputId": "56c22c5b-77ec-4582-ca7a-90f8f4a30ea5",
        "colab": {
          "base_uri": "https://localhost:8080/",
          "height": 125
        }
      },
      "source": [
        "from google.colab import drive\n",
        "\n",
        "drive.mount('/content/drive')"
      ],
      "execution_count": 0,
      "outputs": [
        {
          "output_type": "stream",
          "text": [
            "Go to this URL in a browser: https://accounts.google.com/o/oauth2/auth?client_id=947318989803-6bn6qk8qdgf4n4g3pfee6491hc0brc4i.apps.googleusercontent.com&redirect_uri=urn%3Aietf%3Awg%3Aoauth%3A2.0%3Aoob&scope=email%20https%3A%2F%2Fwww.googleapis.com%2Fauth%2Fdocs.test%20https%3A%2F%2Fwww.googleapis.com%2Fauth%2Fdrive%20https%3A%2F%2Fwww.googleapis.com%2Fauth%2Fdrive.photos.readonly%20https%3A%2F%2Fwww.googleapis.com%2Fauth%2Fpeopleapi.readonly&response_type=code\n",
            "\n",
            "Enter your authorization code:\n",
            "··········\n",
            "Mounted at /content/drive\n"
          ],
          "name": "stdout"
        }
      ]
    },
    {
      "cell_type": "code",
      "metadata": {
        "id": "yh4EScpqacrC",
        "colab_type": "code",
        "colab": {}
      },
      "source": [
        "transform = transforms.Compose(\n",
        "    [transforms.CenterCrop((28,28)),transforms.ToTensor(),transforms.Normalize([0.5], [0.5])])\n"
      ],
      "execution_count": 0,
      "outputs": []
    },
    {
      "cell_type": "code",
      "metadata": {
        "id": "YoAqFwqpacrH",
        "colab_type": "code",
        "outputId": "b9904b45-7658-481e-f5f2-bf11a6b9460e",
        "colab": {
          "base_uri": "https://localhost:8080/",
          "height": 265
        }
      },
      "source": [
        "mnist_trainset = torchvision.datasets.MNIST(root='./data', train=True, download=True, transform=transform)\n",
        "mnist_testset = torchvision.datasets.MNIST(root='./data', train=False, download=True, transform=transform)"
      ],
      "execution_count": 0,
      "outputs": [
        {
          "output_type": "stream",
          "text": [
            "\r0it [00:00, ?it/s]"
          ],
          "name": "stderr"
        },
        {
          "output_type": "stream",
          "text": [
            "Downloading http://yann.lecun.com/exdb/mnist/train-images-idx3-ubyte.gz to ./data/MNIST/raw/train-images-idx3-ubyte.gz\n"
          ],
          "name": "stdout"
        },
        {
          "output_type": "stream",
          "text": [
            "9920512it [00:00, 18912769.23it/s]                            \n"
          ],
          "name": "stderr"
        },
        {
          "output_type": "stream",
          "text": [
            "Extracting ./data/MNIST/raw/train-images-idx3-ubyte.gz to ./data/MNIST/raw\n"
          ],
          "name": "stdout"
        },
        {
          "output_type": "stream",
          "text": [
            "32768it [00:00, 281472.81it/s]                           \n",
            "0it [00:00, ?it/s]"
          ],
          "name": "stderr"
        },
        {
          "output_type": "stream",
          "text": [
            "Downloading http://yann.lecun.com/exdb/mnist/train-labels-idx1-ubyte.gz to ./data/MNIST/raw/train-labels-idx1-ubyte.gz\n",
            "Extracting ./data/MNIST/raw/train-labels-idx1-ubyte.gz to ./data/MNIST/raw\n",
            "Downloading http://yann.lecun.com/exdb/mnist/t10k-images-idx3-ubyte.gz to ./data/MNIST/raw/t10k-images-idx3-ubyte.gz\n"
          ],
          "name": "stdout"
        },
        {
          "output_type": "stream",
          "text": [
            "1654784it [00:00, 5003317.55it/s]                           \n",
            "8192it [00:00, 115722.08it/s]\n"
          ],
          "name": "stderr"
        },
        {
          "output_type": "stream",
          "text": [
            "Extracting ./data/MNIST/raw/t10k-images-idx3-ubyte.gz to ./data/MNIST/raw\n",
            "Downloading http://yann.lecun.com/exdb/mnist/t10k-labels-idx1-ubyte.gz to ./data/MNIST/raw/t10k-labels-idx1-ubyte.gz\n",
            "Extracting ./data/MNIST/raw/t10k-labels-idx1-ubyte.gz to ./data/MNIST/raw\n",
            "Processing...\n",
            "Done!\n"
          ],
          "name": "stdout"
        }
      ]
    },
    {
      "cell_type": "code",
      "metadata": {
        "id": "56x0FjYZacrM",
        "colab_type": "code",
        "outputId": "3d1dd79b-125e-4330-9fd7-3bc9df495361",
        "colab": {
          "base_uri": "https://localhost:8080/",
          "height": 34
        }
      },
      "source": [
        "index1 = [np.where(mnist_trainset.targets==0)[0] , np.where(mnist_trainset.targets==1)[0] ]\n",
        "index1 = np.concatenate(index1,axis=0)\n",
        "len(index1) #12665"
      ],
      "execution_count": 0,
      "outputs": [
        {
          "output_type": "execute_result",
          "data": {
            "text/plain": [
              "12665"
            ]
          },
          "metadata": {
            "tags": []
          },
          "execution_count": 5
        }
      ]
    },
    {
      "cell_type": "code",
      "metadata": {
        "id": "yQOoEO2meJDv",
        "colab_type": "code",
        "colab": {}
      },
      "source": [
        "indices = np.random.choice(index1,8000)"
      ],
      "execution_count": 0,
      "outputs": []
    },
    {
      "cell_type": "code",
      "metadata": {
        "id": "d_8snSm1acrR",
        "colab_type": "code",
        "colab": {}
      },
      "source": [
        "index = np.where(np.logical_and(mnist_trainset.targets!=0,mnist_trainset.targets!=1))[0]  #47335"
      ],
      "execution_count": 0,
      "outputs": []
    },
    {
      "cell_type": "code",
      "metadata": {
        "id": "vYhiSaAnacrW",
        "colab_type": "code",
        "outputId": "47b881ac-0c66-4ed3-8b95-d36f52c2f218",
        "colab": {
          "base_uri": "https://localhost:8080/",
          "height": 34
        }
      },
      "source": [
        "values = np.random.choice([0,1],size= 47335) \n",
        "print(sum(values ==0),sum(values==1))\n"
      ],
      "execution_count": 0,
      "outputs": [
        {
          "output_type": "stream",
          "text": [
            "23607 23728\n"
          ],
          "name": "stdout"
        }
      ]
    },
    {
      "cell_type": "code",
      "metadata": {
        "id": "uLuqrhO1hRR6",
        "colab_type": "code",
        "colab": {}
      },
      "source": [
        "mnist_trainset.data = torch.cat((mnist_trainset.data[indices],mnist_trainset.data[index]))\n",
        "mnist_trainset.targets = torch.cat((mnist_trainset.targets[indices],torch.Tensor(values).type(torch.LongTensor)))"
      ],
      "execution_count": 0,
      "outputs": []
    },
    {
      "cell_type": "code",
      "metadata": {
        "id": "iczET1tohOsL",
        "colab_type": "code",
        "outputId": "31d111e6-d838-4abf-f812-d03c6be44a57",
        "colab": {
          "base_uri": "https://localhost:8080/",
          "height": 286
        }
      },
      "source": [
        "# mnist_trainset.targets[index] = torch.Tensor(values).type(torch.LongTensor)\n",
        "j =20078     # Without Shuffle upto True Training numbers correct , after that corrupted\n",
        "print(plt.imshow(mnist_trainset.data[j]),mnist_trainset.targets[j])"
      ],
      "execution_count": 0,
      "outputs": [
        {
          "output_type": "stream",
          "text": [
            "AxesImage(54,36;334.8x217.44) tensor(0)\n"
          ],
          "name": "stdout"
        },
        {
          "output_type": "display_data",
          "data": {
            "image/png": "[encoded data removed]",
            "text/plain": [
              "<Figure size 432x288 with 1 Axes>"
            ]
          },
          "metadata": {
            "tags": []
          }
        }
      ]
    },
    {
      "cell_type": "code",
      "metadata": {
        "id": "U8WPVHnPacrd",
        "colab_type": "code",
        "colab": {}
      },
      "source": [
        "trainloader = torch.utils.data.DataLoader(mnist_trainset, batch_size=256,shuffle=True, num_workers=2)"
      ],
      "execution_count": 0,
      "outputs": []
    },
    {
      "cell_type": "code",
      "metadata": {
        "id": "7L7ocAcracri",
        "colab_type": "code",
        "colab": {}
      },
      "source": [
        "testloader = torch.utils.data.DataLoader(mnist_testset, batch_size=256,shuffle=False, num_workers=2)"
      ],
      "execution_count": 0,
      "outputs": []
    },
    {
      "cell_type": "code",
      "metadata": {
        "id": "pdhAr2p6acrm",
        "colab_type": "code",
        "colab": {}
      },
      "source": [
        "classes = ('zero', 'one')"
      ],
      "execution_count": 0,
      "outputs": []
    },
    {
      "cell_type": "code",
      "metadata": {
        "id": "jhUOj6Tnacrr",
        "colab_type": "code",
        "colab": {}
      },
      "source": [
        "dataiter = iter(trainloader)\n",
        "images, labels = dataiter.next()"
      ],
      "execution_count": 0,
      "outputs": []
    },
    {
      "cell_type": "code",
      "metadata": {
        "id": "vVgW5hBkacrv",
        "colab_type": "code",
        "outputId": "1265bd2b-6160-48d0-f4ba-9199ad27c399",
        "colab": {
          "base_uri": "https://localhost:8080/",
          "height": 34
        }
      },
      "source": [
        "images[:4].shape"
      ],
      "execution_count": 0,
      "outputs": [
        {
          "output_type": "execute_result",
          "data": {
            "text/plain": [
              "torch.Size([4, 1, 28, 28])"
            ]
          },
          "metadata": {
            "tags": []
          },
          "execution_count": 15
        }
      ]
    },
    {
      "cell_type": "code",
      "metadata": {
        "id": "nUtA80KCacr1",
        "colab_type": "code",
        "colab": {}
      },
      "source": [
        "def imshow(img):\n",
        "    img = img / 2 + 0.5     # unnormalize\n",
        "    npimg = img.numpy()\n",
        "    plt.imshow(np.transpose(npimg, (1, 2, 0)))\n",
        "    plt.show()"
      ],
      "execution_count": 0,
      "outputs": []
    },
    {
      "cell_type": "code",
      "metadata": {
        "id": "Xv34FfAdacr5",
        "colab_type": "code",
        "outputId": "e001fd35-fb7e-4faf-bc46-ad8b87068890",
        "colab": {
          "base_uri": "https://localhost:8080/",
          "height": 154
        }
      },
      "source": [
        "imshow(torchvision.utils.make_grid(images[:10]))\n",
        "print('GroundTruth: ', ' '.join('%5s' % classes[labels[j]] for j in range(10)))"
      ],
      "execution_count": 0,
      "outputs": [
        {
          "output_type": "display_data",
          "data": {
            "image/png": "[encoded data removed]",
            "text/plain": [
              "<Figure size 432x288 with 1 Axes>"
            ]
          },
          "metadata": {
            "tags": []
          }
        },
        {
          "output_type": "stream",
          "text": [
            "GroundTruth:   zero   one  zero   one  zero   one   one   one  zero   one\n"
          ],
          "name": "stdout"
        }
      ]
    },
    {
      "cell_type": "code",
      "metadata": {
        "id": "Ss-jhHRIacr-",
        "colab_type": "code",
        "colab": {}
      },
      "source": [
        "class Conv_module(nn.Module):\n",
        "    def __init__(self,inp_ch,f,s,k,pad):\n",
        "        super(Conv_module,self).__init__()\n",
        "        self.inp_ch = inp_ch\n",
        "        self.f = f\n",
        "        self.s = s \n",
        "        self.k = k \n",
        "        self.pad = pad\n",
        "        \n",
        "        \n",
        "        self.conv = nn.Conv2d(self.inp_ch,self.f,k,stride=s,padding=self.pad)\n",
        "        self.bn = nn.BatchNorm2d(self.f)\n",
        "        self.act = nn.ReLU()\n",
        "    def forward(self,x):\n",
        "        x = self.conv(x)\n",
        "        x = self.bn(x)\n",
        "        x = self.act(x)\n",
        "        return x"
      ],
      "execution_count": 0,
      "outputs": []
    },
    {
      "cell_type": "code",
      "metadata": {
        "id": "51c92MhjacsC",
        "colab_type": "code",
        "colab": {}
      },
      "source": [
        "class inception_module(nn.Module):\n",
        "    def __init__(self,inp_ch,f0,f1):\n",
        "        super(inception_module, self).__init__()\n",
        "        self.inp_ch = inp_ch\n",
        "        self.f0 = f0\n",
        "        self.f1 = f1\n",
        "        \n",
        "        \n",
        "        \n",
        "        self.conv1 = Conv_module(self.inp_ch,self.f0,1,1,pad=0)\n",
        "        self.conv3 = Conv_module(self.inp_ch,self.f1,1,3,pad=1)\n",
        "        #self.conv1 = nn.Conv2d(3,self.f0,1)\n",
        "        #self.conv3 = nn.Conv2d(3,self.f1,3,padding=1)\n",
        "    def forward(self,x):\n",
        "        x1 = self.conv1.forward(x)\n",
        "        x3 = self.conv3.forward(x)\n",
        "        #print(x1.shape,x3.shape)\n",
        "        \n",
        "        x = torch.cat((x1,x3),dim=1)\n",
        "        \n",
        "    \n",
        "        return x"
      ],
      "execution_count": 0,
      "outputs": []
    },
    {
      "cell_type": "code",
      "metadata": {
        "id": "6Tl67apKacsG",
        "colab_type": "code",
        "colab": {}
      },
      "source": [
        "class downsample_module(nn.Module):\n",
        "    def __init__(self,inp_ch,f):\n",
        "        super(downsample_module,self).__init__()\n",
        "        self.inp_ch = inp_ch\n",
        "        self.f = f\n",
        "        self.conv = Conv_module(self.inp_ch,self.f,2,3,pad=0)\n",
        "        self.pool = nn.MaxPool2d(3,stride=2,padding=0)\n",
        "    def forward(self,x):\n",
        "        x1 = self.conv(x)\n",
        "        #print(x1.shape)\n",
        "        x2 = self.pool(x)\n",
        "        #print(x2.shape)\n",
        "        x = torch.cat((x1,x2),dim=1)\n",
        "        \n",
        "        return x"
      ],
      "execution_count": 0,
      "outputs": []
    },
    {
      "cell_type": "code",
      "metadata": {
        "id": "_RKEYiG7acsJ",
        "colab_type": "code",
        "colab": {}
      },
      "source": [
        "class inception_net(nn.Module):\n",
        "    def __init__(self):\n",
        "        super(inception_net,self).__init__()\n",
        "        self.conv1 = Conv_module(1,96,1,3,0)\n",
        "        \n",
        "        self.incept1 = inception_module(96,32,32)\n",
        "        self.incept2 = inception_module(64,32,48)\n",
        "        \n",
        "        self.downsample1 = downsample_module(80,80)\n",
        "        \n",
        "        self.incept3 = inception_module(160,112,48)\n",
        "        # self.incept4 = inception_module(160,96,64)\n",
        "        # self.incept5 = inception_module(160,80,80)\n",
        "        # self.incept6 = inception_module(160,48,96)\n",
        "        \n",
        "        self.downsample2 = downsample_module(160,48)\n",
        "        \n",
        "        # self.incept7 = inception_module(240,176,60)\n",
        "        # self.incept8 = inception_module(236,176,60)\n",
        "        \n",
        "        self.pool = nn.AvgPool2d(5)\n",
        "        \n",
        "        \n",
        "        \n",
        "        self.linear = nn.Linear(208,2)\n",
        "    def forward(self,x):\n",
        "        x = self.conv1.forward(x)\n",
        "        #act1 = x\n",
        "        \n",
        "        x = self.incept1.forward(x)\n",
        "        #act2 = x\n",
        "        \n",
        "        x = self.incept2.forward(x)\n",
        "        #act3 = x\n",
        "        \n",
        "        x = self.downsample1.forward(x)\n",
        "        \n",
        "        x = self.incept3.forward(x)\n",
        "        #act5 = x\n",
        "        \n",
        "        # x = self.incept4.forward(x)\n",
        "        # #act6 = x\n",
        "        \n",
        "        # x = self.incept5.forward(x)\n",
        "        # #act7 = x\n",
        "        \n",
        "        # x = self.incept6.forward(x)\n",
        "        #act8 = x\n",
        "        \n",
        "        x = self.downsample2.forward(x)\n",
        "        \n",
        "        # x = self.incept7.forward(x)\n",
        "        # #act10 = x\n",
        "        # x = self.incept8.forward(x)\n",
        "        #act11 = x\n",
        "        #print(x.shape)\n",
        "        x = self.pool(x)\n",
        "        #print(x.shape)\n",
        "        x = x.view(-1,1*1*208)\n",
        "        #print(x.shape)\n",
        "        x = self.linear(x) \n",
        "        return x"
      ],
      "execution_count": 0,
      "outputs": []
    },
    {
      "cell_type": "code",
      "metadata": {
        "id": "rByxqKdOacsM",
        "colab_type": "code",
        "colab": {}
      },
      "source": [
        "inc = inception_net()\n",
        "inc = inc.to(\"cuda\")"
      ],
      "execution_count": 0,
      "outputs": []
    },
    {
      "cell_type": "code",
      "metadata": {
        "id": "FKZWsCpW6rQz",
        "colab_type": "code",
        "colab": {}
      },
      "source": [
        "# inc(images)"
      ],
      "execution_count": 0,
      "outputs": []
    },
    {
      "cell_type": "code",
      "metadata": {
        "id": "imWjagA2acsO",
        "colab_type": "code",
        "colab": {}
      },
      "source": [
        "criterion_inception = nn.CrossEntropyLoss()\n",
        "optimizer_inception = optim.SGD(inc.parameters(), lr=0.01, momentum=0.9)"
      ],
      "execution_count": 0,
      "outputs": []
    },
    {
      "cell_type": "code",
      "metadata": {
        "id": "r5mCNr38acsR",
        "colab_type": "code",
        "outputId": "106a83d8-c800-49bf-cef3-7dbc2f1c4e56",
        "colab": {
          "base_uri": "https://localhost:8080/",
          "height": 1000
        }
      },
      "source": [
        "acti = []\n",
        "loss_curi = []\n",
        "for epoch in range(80): # loop over the dataset multiple times\n",
        "    ep_lossi = []\n",
        "\n",
        "    running_loss = 0.0\n",
        "    for i, data in enumerate(trainloader, 0):\n",
        "        # get the inputs\n",
        "        inputs, labels = data\n",
        "        inputs, labels = inputs.to(\"cuda\"),labels.to(\"cuda\")\n",
        "\n",
        "        # zero the parameter gradients\n",
        "        optimizer_inception.zero_grad()\n",
        "\n",
        "        # forward + backward + optimize\n",
        "        outputs = inc(inputs)\n",
        "        loss = criterion_inception(outputs, labels)\n",
        "        loss.backward()\n",
        "        optimizer_inception.step()\n",
        "\n",
        "        # print statistics\n",
        "        running_loss += loss.item()\n",
        "        if i % 50 == 49:    # print every 50 mini-batches\n",
        "            print('[%d, %5d] loss: %.3f' %\n",
        "                  (epoch + 1, i + 1, running_loss / 50))\n",
        "            ep_lossi.append(running_loss/50) # loss per minibatch\n",
        "            running_loss = 0.0\n",
        "            \n",
        "    loss_curi.append(np.mean(ep_lossi))   #loss per epoch\n",
        "#     if (epoch%5 == 0):\n",
        "#         _,actis= inc(inputs)\n",
        "#         acti.append(actis)\n",
        "    \n",
        "            \n",
        "\n",
        "print('Finished Training')"
      ],
      "execution_count": 0,
      "outputs": [
        {
          "output_type": "stream",
          "text": [
            "[1,    50] loss: 0.741\n",
            "[1,   100] loss: 0.660\n",
            "[1,   150] loss: 0.653\n",
            "[1,   200] loss: 0.653\n",
            "[2,    50] loss: 0.642\n",
            "[2,   100] loss: 0.660\n",
            "[2,   150] loss: 0.638\n",
            "[2,   200] loss: 0.635\n",
            "[3,    50] loss: 0.638\n",
            "[3,   100] loss: 0.638\n",
            "[3,   150] loss: 0.628\n",
            "[3,   200] loss: 0.637\n",
            "[4,    50] loss: 0.634\n",
            "[4,   100] loss: 0.632\n",
            "[4,   150] loss: 0.629\n",
            "[4,   200] loss: 0.635\n",
            "[5,    50] loss: 0.616\n",
            "[5,   100] loss: 0.625\n",
            "[5,   150] loss: 0.629\n",
            "[5,   200] loss: 0.616\n",
            "[6,    50] loss: 0.621\n",
            "[6,   100] loss: 0.618\n",
            "[6,   150] loss: 0.613\n",
            "[6,   200] loss: 0.617\n",
            "[7,    50] loss: 0.606\n",
            "[7,   100] loss: 0.624\n",
            "[7,   150] loss: 0.613\n",
            "[7,   200] loss: 0.615\n",
            "[8,    50] loss: 0.614\n",
            "[8,   100] loss: 0.615\n",
            "[8,   150] loss: 0.610\n",
            "[8,   200] loss: 0.610\n",
            "[9,    50] loss: 0.601\n",
            "[9,   100] loss: 0.602\n",
            "[9,   150] loss: 0.607\n",
            "[9,   200] loss: 0.612\n",
            "[10,    50] loss: 0.607\n",
            "[10,   100] loss: 0.599\n",
            "[10,   150] loss: 0.619\n",
            "[10,   200] loss: 0.606\n",
            "[11,    50] loss: 0.605\n",
            "[11,   100] loss: 0.602\n",
            "[11,   150] loss: 0.607\n",
            "[11,   200] loss: 0.600\n",
            "[12,    50] loss: 0.599\n",
            "[12,   100] loss: 0.585\n",
            "[12,   150] loss: 0.596\n",
            "[12,   200] loss: 0.601\n",
            "[13,    50] loss: 0.585\n",
            "[13,   100] loss: 0.586\n",
            "[13,   150] loss: 0.593\n",
            "[13,   200] loss: 0.594\n",
            "[14,    50] loss: 0.607\n",
            "[14,   100] loss: 0.581\n",
            "[14,   150] loss: 0.597\n",
            "[14,   200] loss: 0.589\n",
            "[15,    50] loss: 0.570\n",
            "[15,   100] loss: 0.582\n",
            "[15,   150] loss: 0.579\n",
            "[15,   200] loss: 0.590\n",
            "[16,    50] loss: 0.569\n",
            "[16,   100] loss: 0.575\n",
            "[16,   150] loss: 0.584\n",
            "[16,   200] loss: 0.578\n",
            "[17,    50] loss: 0.564\n",
            "[17,   100] loss: 0.567\n",
            "[17,   150] loss: 0.569\n",
            "[17,   200] loss: 0.577\n",
            "[18,    50] loss: 0.554\n",
            "[18,   100] loss: 0.560\n",
            "[18,   150] loss: 0.569\n",
            "[18,   200] loss: 0.565\n",
            "[19,    50] loss: 0.542\n",
            "[19,   100] loss: 0.556\n",
            "[19,   150] loss: 0.554\n",
            "[19,   200] loss: 0.573\n",
            "[20,    50] loss: 0.538\n",
            "[20,   100] loss: 0.534\n",
            "[20,   150] loss: 0.549\n",
            "[20,   200] loss: 0.568\n",
            "[21,    50] loss: 0.542\n",
            "[21,   100] loss: 0.537\n",
            "[21,   150] loss: 0.550\n",
            "[21,   200] loss: 0.535\n",
            "[22,    50] loss: 0.503\n",
            "[22,   100] loss: 0.514\n",
            "[22,   150] loss: 0.540\n",
            "[22,   200] loss: 0.537\n",
            "[23,    50] loss: 0.494\n",
            "[23,   100] loss: 0.503\n",
            "[23,   150] loss: 0.507\n",
            "[23,   200] loss: 0.525\n",
            "[24,    50] loss: 0.479\n",
            "[24,   100] loss: 0.495\n",
            "[24,   150] loss: 0.507\n",
            "[24,   200] loss: 0.511\n",
            "[25,    50] loss: 0.474\n",
            "[25,   100] loss: 0.467\n",
            "[25,   150] loss: 0.487\n",
            "[25,   200] loss: 0.511\n",
            "[26,    50] loss: 0.463\n",
            "[26,   100] loss: 0.463\n",
            "[26,   150] loss: 0.487\n",
            "[26,   200] loss: 0.495\n",
            "[27,    50] loss: 0.457\n",
            "[27,   100] loss: 0.449\n",
            "[27,   150] loss: 0.453\n",
            "[27,   200] loss: 0.475\n",
            "[28,    50] loss: 0.419\n",
            "[28,   100] loss: 0.436\n",
            "[28,   150] loss: 0.463\n",
            "[28,   200] loss: 0.462\n",
            "[29,    50] loss: 0.411\n",
            "[29,   100] loss: 0.414\n",
            "[29,   150] loss: 0.451\n",
            "[29,   200] loss: 0.454\n",
            "[30,    50] loss: 0.385\n",
            "[30,   100] loss: 0.394\n",
            "[30,   150] loss: 0.410\n",
            "[30,   200] loss: 0.449\n",
            "[31,    50] loss: 0.373\n",
            "[31,   100] loss: 0.372\n",
            "[31,   150] loss: 0.393\n",
            "[31,   200] loss: 0.404\n",
            "[32,    50] loss: 0.351\n",
            "[32,   100] loss: 0.356\n",
            "[32,   150] loss: 0.380\n",
            "[32,   200] loss: 0.389\n",
            "[33,    50] loss: 0.324\n",
            "[33,   100] loss: 0.329\n",
            "[33,   150] loss: 0.358\n",
            "[33,   200] loss: 0.371\n",
            "[34,    50] loss: 0.312\n",
            "[34,   100] loss: 0.308\n",
            "[34,   150] loss: 0.336\n",
            "[34,   200] loss: 0.354\n",
            "[35,    50] loss: 0.297\n",
            "[35,   100] loss: 0.291\n",
            "[35,   150] loss: 0.313\n",
            "[35,   200] loss: 0.334\n",
            "[36,    50] loss: 0.271\n",
            "[36,   100] loss: 0.269\n",
            "[36,   150] loss: 0.302\n",
            "[36,   200] loss: 0.303\n",
            "[37,    50] loss: 0.253\n",
            "[37,   100] loss: 0.255\n",
            "[37,   150] loss: 0.266\n",
            "[37,   200] loss: 0.279\n",
            "[38,    50] loss: 0.276\n",
            "[38,   100] loss: 0.246\n",
            "[38,   150] loss: 0.275\n",
            "[38,   200] loss: 0.285\n",
            "[39,    50] loss: 0.215\n",
            "[39,   100] loss: 0.222\n",
            "[39,   150] loss: 0.236\n",
            "[39,   200] loss: 0.263\n",
            "[40,    50] loss: 0.208\n",
            "[40,   100] loss: 0.192\n",
            "[40,   150] loss: 0.213\n",
            "[40,   200] loss: 0.227\n",
            "[41,    50] loss: 0.167\n",
            "[41,   100] loss: 0.165\n",
            "[41,   150] loss: 0.185\n",
            "[41,   200] loss: 0.215\n",
            "[42,    50] loss: 0.176\n",
            "[42,   100] loss: 0.167\n",
            "[42,   150] loss: 0.177\n",
            "[42,   200] loss: 0.194\n",
            "[43,    50] loss: 0.188\n",
            "[43,   100] loss: 0.155\n",
            "[43,   150] loss: 0.167\n",
            "[43,   200] loss: 0.172\n",
            "[44,    50] loss: 0.150\n",
            "[44,   100] loss: 0.145\n",
            "[44,   150] loss: 0.155\n",
            "[44,   200] loss: 0.168\n",
            "[45,    50] loss: 0.137\n",
            "[45,   100] loss: 0.139\n",
            "[45,   150] loss: 0.135\n",
            "[45,   200] loss: 0.163\n",
            "[46,    50] loss: 0.183\n",
            "[46,   100] loss: 0.140\n",
            "[46,   150] loss: 0.148\n",
            "[46,   200] loss: 0.144\n",
            "[47,    50] loss: 0.127\n",
            "[47,   100] loss: 0.104\n",
            "[47,   150] loss: 0.118\n",
            "[47,   200] loss: 0.151\n",
            "[48,    50] loss: 0.117\n",
            "[48,   100] loss: 0.101\n",
            "[48,   150] loss: 0.102\n",
            "[48,   200] loss: 0.125\n",
            "[49,    50] loss: 0.090\n",
            "[49,   100] loss: 0.093\n",
            "[49,   150] loss: 0.118\n",
            "[49,   200] loss: 0.118\n",
            "[50,    50] loss: 0.116\n",
            "[50,   100] loss: 0.094\n",
            "[50,   150] loss: 0.090\n",
            "[50,   200] loss: 0.097\n",
            "[51,    50] loss: 0.092\n",
            "[51,   100] loss: 0.076\n",
            "[51,   150] loss: 0.073\n",
            "[51,   200] loss: 0.077\n",
            "[52,    50] loss: 0.067\n",
            "[52,   100] loss: 0.060\n",
            "[52,   150] loss: 0.058\n",
            "[52,   200] loss: 0.061\n",
            "[53,    50] loss: 0.067\n",
            "[53,   100] loss: 0.061\n",
            "[53,   150] loss: 0.074\n",
            "[53,   200] loss: 0.094\n",
            "[54,    50] loss: 0.140\n",
            "[54,   100] loss: 0.115\n",
            "[54,   150] loss: 0.098\n",
            "[54,   200] loss: 0.099\n",
            "[55,    50] loss: 0.068\n",
            "[55,   100] loss: 0.055\n",
            "[55,   150] loss: 0.056\n",
            "[55,   200] loss: 0.056\n",
            "[56,    50] loss: 0.051\n",
            "[56,   100] loss: 0.045\n",
            "[56,   150] loss: 0.046\n",
            "[56,   200] loss: 0.042\n",
            "[57,    50] loss: 0.036\n",
            "[57,   100] loss: 0.028\n",
            "[57,   150] loss: 0.026\n",
            "[57,   200] loss: 0.028\n",
            "[58,    50] loss: 0.017\n",
            "[58,   100] loss: 0.014\n",
            "[58,   150] loss: 0.013\n",
            "[58,   200] loss: 0.011\n",
            "[59,    50] loss: 0.009\n",
            "[59,   100] loss: 0.007\n",
            "[59,   150] loss: 0.005\n",
            "[59,   200] loss: 0.004\n",
            "[60,    50] loss: 0.003\n",
            "[60,   100] loss: 0.002\n",
            "[60,   150] loss: 0.002\n",
            "[60,   200] loss: 0.002\n",
            "[61,    50] loss: 0.002\n",
            "[61,   100] loss: 0.002\n",
            "[61,   150] loss: 0.002\n",
            "[61,   200] loss: 0.002\n",
            "[62,    50] loss: 0.001\n",
            "[62,   100] loss: 0.001\n",
            "[62,   150] loss: 0.001\n",
            "[62,   200] loss: 0.001\n",
            "[63,    50] loss: 0.001\n",
            "[63,   100] loss: 0.001\n",
            "[63,   150] loss: 0.001\n",
            "[63,   200] loss: 0.001\n",
            "[64,    50] loss: 0.001\n",
            "[64,   100] loss: 0.001\n",
            "[64,   150] loss: 0.001\n",
            "[64,   200] loss: 0.001\n",
            "[65,    50] loss: 0.001\n",
            "[65,   100] loss: 0.001\n",
            "[65,   150] loss: 0.001\n",
            "[65,   200] loss: 0.001\n",
            "[66,    50] loss: 0.001\n",
            "[66,   100] loss: 0.001\n",
            "[66,   150] loss: 0.001\n",
            "[66,   200] loss: 0.001\n",
            "[67,    50] loss: 0.001\n",
            "[67,   100] loss: 0.001\n",
            "[67,   150] loss: 0.001\n",
            "[67,   200] loss: 0.001\n",
            "[68,    50] loss: 0.001\n",
            "[68,   100] loss: 0.001\n",
            "[68,   150] loss: 0.001\n",
            "[68,   200] loss: 0.001\n",
            "[69,    50] loss: 0.001\n",
            "[69,   100] loss: 0.001\n",
            "[69,   150] loss: 0.001\n",
            "[69,   200] loss: 0.001\n",
            "[70,    50] loss: 0.001\n",
            "[70,   100] loss: 0.001\n",
            "[70,   150] loss: 0.001\n",
            "[70,   200] loss: 0.001\n",
            "[71,    50] loss: 0.001\n",
            "[71,   100] loss: 0.001\n",
            "[71,   150] loss: 0.001\n",
            "[71,   200] loss: 0.001\n",
            "[72,    50] loss: 0.001\n",
            "[72,   100] loss: 0.001\n",
            "[72,   150] loss: 0.001\n",
            "[72,   200] loss: 0.001\n",
            "[73,    50] loss: 0.001\n",
            "[73,   100] loss: 0.000\n",
            "[73,   150] loss: 0.000\n",
            "[73,   200] loss: 0.001\n",
            "[74,    50] loss: 0.000\n",
            "[74,   100] loss: 0.000\n",
            "[74,   150] loss: 0.001\n",
            "[74,   200] loss: 0.001\n",
            "[75,    50] loss: 0.000\n",
            "[75,   100] loss: 0.000\n",
            "[75,   150] loss: 0.000\n",
            "[75,   200] loss: 0.001\n",
            "[76,    50] loss: 0.000\n",
            "[76,   100] loss: 0.000\n",
            "[76,   150] loss: 0.000\n",
            "[76,   200] loss: 0.000\n",
            "[77,    50] loss: 0.000\n",
            "[77,   100] loss: 0.000\n",
            "[77,   150] loss: 0.000\n",
            "[77,   200] loss: 0.000\n",
            "[78,    50] loss: 0.000\n",
            "[78,   100] loss: 0.000\n",
            "[78,   150] loss: 0.000\n",
            "[78,   200] loss: 0.000\n",
            "[79,    50] loss: 0.000\n",
            "[79,   100] loss: 0.000\n",
            "[79,   150] loss: 0.000\n",
            "[79,   200] loss: 0.000\n",
            "[80,    50] loss: 0.000\n",
            "[80,   100] loss: 0.000\n",
            "[80,   150] loss: 0.000\n",
            "[80,   200] loss: 0.000\n",
            "Finished Training\n"
          ],
          "name": "stdout"
        }
      ]
    },
    {
      "cell_type": "code",
      "metadata": {
        "id": "IxXbhlbEacsW",
        "colab_type": "code",
        "outputId": "80567cbe-10e5-451e-f907-a606cdf648ff",
        "colab": {
          "base_uri": "https://localhost:8080/",
          "height": 34
        }
      },
      "source": [
        "correct = 0\n",
        "total = 0\n",
        "with torch.no_grad():\n",
        "    for data in trainloader:\n",
        "        images, labels = data\n",
        "        images, labels = images.to(\"cuda\"), labels.to(\"cuda\")\n",
        "        outputs = inc(images)\n",
        "        _, predicted = torch.max(outputs.data, 1)\n",
        "        total += labels.size(0)\n",
        "        correct += (predicted == labels).sum().item()\n",
        "\n",
        "print('Accuracy of the network on the 60000 train images: %d %%' % (\n",
        "    100 * correct / total))"
      ],
      "execution_count": 0,
      "outputs": [
        {
          "output_type": "stream",
          "text": [
            "Accuracy of the network on the 60000 train images: 100 %\n"
          ],
          "name": "stdout"
        }
      ]
    },
    {
      "cell_type": "code",
      "metadata": {
        "id": "U2kQXLzgacsa",
        "colab_type": "code",
        "outputId": "d6a6ff90-117e-48e7-c2f2-347e42a6fb5b",
        "colab": {
          "base_uri": "https://localhost:8080/",
          "height": 34
        }
      },
      "source": [
        "total,correct"
      ],
      "execution_count": 0,
      "outputs": [
        {
          "output_type": "execute_result",
          "data": {
            "text/plain": [
              "(55335, 55335)"
            ]
          },
          "metadata": {
            "tags": []
          },
          "execution_count": 27
        }
      ]
    },
    {
      "cell_type": "code",
      "metadata": {
        "id": "5IcmEl2lacsd",
        "colab_type": "code",
        "outputId": "09934477-2aea-4c4a-aea6-03304d9eca81",
        "colab": {
          "base_uri": "https://localhost:8080/",
          "height": 34
        }
      },
      "source": [
        "correct = 0\n",
        "total = 0\n",
        "out = []\n",
        "pred = []\n",
        "with torch.no_grad():\n",
        "    for data in testloader:\n",
        "        images, labels = data\n",
        "        images, labels = images.to(\"cuda\"),labels.to(\"cuda\")\n",
        "        out.append(labels.cpu().numpy())\n",
        "        outputs= inc(images)\n",
        "        _, predicted = torch.max(outputs.data, 1)\n",
        "        pred.append(predicted.cpu().numpy())\n",
        "        total += labels.size(0)\n",
        "        correct += (predicted == labels).sum().item()\n",
        "\n",
        "print('Accuracy of the network on the 10000 test images: %d %%' % (\n",
        "    100 * correct / total))"
      ],
      "execution_count": 0,
      "outputs": [
        {
          "output_type": "stream",
          "text": [
            "Accuracy of the network on the 10000 test images: 20 %\n"
          ],
          "name": "stdout"
        }
      ]
    },
    {
      "cell_type": "code",
      "metadata": {
        "id": "KrlBRcSQacsg",
        "colab_type": "code",
        "colab": {}
      },
      "source": [
        "out = np.concatenate(out,axis=0)"
      ],
      "execution_count": 0,
      "outputs": []
    },
    {
      "cell_type": "code",
      "metadata": {
        "id": "EWyBhOPlacsi",
        "colab_type": "code",
        "colab": {}
      },
      "source": [
        "pred = np.concatenate(pred,axis=0)"
      ],
      "execution_count": 0,
      "outputs": []
    },
    {
      "cell_type": "code",
      "metadata": {
        "id": "IJ1F7Lfdacsl",
        "colab_type": "code",
        "outputId": "75cc5c14-ab4e-4230-e493-bb41e64f11d2",
        "colab": {
          "base_uri": "https://localhost:8080/",
          "height": 34
        }
      },
      "source": [
        "index = np.logical_or(out ==1,out==0)\n",
        "print(index.shape)"
      ],
      "execution_count": 0,
      "outputs": [
        {
          "output_type": "stream",
          "text": [
            "(10000,)\n"
          ],
          "name": "stdout"
        }
      ]
    },
    {
      "cell_type": "code",
      "metadata": {
        "id": "h7PmLPkGacsn",
        "colab_type": "code",
        "outputId": "34f836fd-9238-43aa-8645-01ddcf1cc355",
        "colab": {
          "base_uri": "https://localhost:8080/",
          "height": 34
        }
      },
      "source": [
        "acc = sum(out[index] == pred[index])/sum(index)\n",
        "print('Accuracy of the network on the 10000 test images: %d %%' % (\n",
        "    100*acc))"
      ],
      "execution_count": 0,
      "outputs": [
        {
          "output_type": "stream",
          "text": [
            "Accuracy of the network on the 10000 test images: 96 %\n"
          ],
          "name": "stdout"
        }
      ]
    },
    {
      "cell_type": "code",
      "metadata": {
        "id": "fvCi8x41acsq",
        "colab_type": "code",
        "outputId": "c3118c17-9871-4ff9-ba22-bb7308f4e857",
        "colab": {
          "base_uri": "https://localhost:8080/",
          "height": 34
        }
      },
      "source": [
        "\n",
        "sum(index)"
      ],
      "execution_count": 0,
      "outputs": [
        {
          "output_type": "execute_result",
          "data": {
            "text/plain": [
              "2115"
            ]
          },
          "metadata": {
            "tags": []
          },
          "execution_count": 33
        }
      ]
    },
    {
      "cell_type": "code",
      "metadata": {
        "id": "bdGNgi62acss",
        "colab_type": "code",
        "outputId": "dea94275-e77c-41f0-a53d-1b882aeee7e1",
        "colab": {
          "base_uri": "https://localhost:8080/",
          "height": 34
        }
      },
      "source": [
        "import random\n",
        "random.sample([1,2,3,4,5,6,7,8],5)"
      ],
      "execution_count": 0,
      "outputs": [
        {
          "output_type": "execute_result",
          "data": {
            "text/plain": [
              "[4, 8, 6, 1, 5]"
            ]
          },
          "metadata": {
            "tags": []
          },
          "execution_count": 34
        }
      ]
    },
    {
      "cell_type": "code",
      "metadata": {
        "id": "KBZqLh7heULT",
        "colab_type": "code",
        "colab": {}
      },
      "source": [
        "torch.save(inc.state_dict(),\"/content/drive/My Drive/model_simple_8000.pkl\")"
      ],
      "execution_count": 0,
      "outputs": []
    },
    {
      "cell_type": "code",
      "metadata": {
        "id": "JgLuOIeLeUHk",
        "colab_type": "code",
        "outputId": "648f45de-51a0-41a4-fd6d-9200b16aeba0",
        "colab": {
          "base_uri": "https://localhost:8080/",
          "height": 283
        }
      },
      "source": [
        "fig = plt.figure()\n",
        "plt.plot(loss_curi,label=\"loss_Curve\")\n",
        "plt.xlabel(\"epochs\")\n",
        "plt.ylabel(\"training_loss\")\n",
        "plt.legend()\n",
        "fig.savefig(\"loss_curve.pdf\") "
      ],
      "execution_count": 0,
      "outputs": [
        {
          "output_type": "display_data",
          "data": {
            "image/png": "[encoded data removed]",
            "text/plain": [
              "<Figure size 432x288 with 1 Axes>"
            ]
          },
          "metadata": {
            "tags": []
          }
        }
      ]
    },
    {
      "cell_type": "code",
      "metadata": {
        "id": "pZhSFZLeeXeO",
        "colab_type": "code",
        "colab": {}
      },
      "source": [
        ""
      ],
      "execution_count": 0,
      "outputs": []
    },
    {
      "cell_type": "markdown",
      "metadata": {
        "id": "p9IrsRjWNZvw",
        "colab_type": "text"
      },
      "source": [
        "Simple Model 3 Inception Module\n",
        "\n",
        "|true training data  | Corr Training Data | Test Accuracy | Test Accuracy 0-1 | \n",
        "| ------------------ | ------------------ | ------------- | ----------------- |\n",
        "| 100   | 47335  | 13  |  61 |\n",
        "| 500   | 47335  | 16  |  80 | \n",
        "| 1000  | 47335  | 17  | 83  | \n",
        "| 2000  | 47335  | 19 | 92 | \n",
        "| 4000  | 47335  | 20 | 95  | \n",
        "| 6000  | 47335  |  20 | 96  | \n",
        "| 8000  | 47335  | 20  |  96 | \n",
        "| 12665 | 47335  | 20 | 98  | \n",
        "\n",
        "\n",
        "|   Total Training Data       |   Training Accuracy      |\n",
        "|---------------------------- | ------------------------ |\n",
        "| 47435         | 100 |\n",
        "| 47835         | 100 |\n",
        "| 48335         | 100 |\n",
        "| 49335         | 100 | \n",
        "| 51335         | 100 |\n",
        "| 53335         | 100 |\n",
        "| 55335         | 100 |\n",
        "| 60000         | 100 |"
      ]
    },
    {
      "cell_type": "markdown",
      "metadata": {
        "id": "u6XhWXz3sYcx",
        "colab_type": "text"
      },
      "source": [
        "Mini- Inception network 8 Inception Modules\n",
        "\n",
        "|true training data  | Corr Training Data | Test Accuracy | Test Accuracy 0-1 | \n",
        "| ------------------ | ------------------ | ------------- | ----------------- |\n",
        "| 100   | 47335  | 14  | 69  |\n",
        "| 500   | 47335  | 19  | 90  | \n",
        "| 1000  | 47335  | 19  |  92 | \n",
        "| 2000  | 47335  | 20  | 95  | \n",
        "| 4000  | 47335  | 20  |  97 | \n",
        "| 6000  | 47335  | 20  | 97  | \n",
        "| 8000  | 47335  | 20  |  98 | \n",
        "| 12665 | 47335  | 20  | 99  | "
      ]
    },
    {
      "cell_type": "markdown",
      "metadata": {
        "id": "d05DCw3Jw9Am",
        "colab_type": "text"
      },
      "source": [
        "|   Total Training Data       |   Training Accuracy      |\n",
        "|---------------------------- | ------------------------ |\n",
        "| 47435         | 100 |\n",
        "| 47835         | 100 |\n",
        "| 48335         | 100 |\n",
        "| 49335         | 100 | \n",
        "| 51335         | 100 |\n",
        "| 53335         | 100 |\n",
        "| 55335         | 100 |\n",
        "| 60000         | 100 |"
      ]
    },
    {
      "cell_type": "code",
      "metadata": {
        "id": "NuAy-cU0sY9z",
        "colab_type": "code",
        "colab": {}
      },
      "source": [
        ""
      ],
      "execution_count": 0,
      "outputs": []
    }
  ]
}
