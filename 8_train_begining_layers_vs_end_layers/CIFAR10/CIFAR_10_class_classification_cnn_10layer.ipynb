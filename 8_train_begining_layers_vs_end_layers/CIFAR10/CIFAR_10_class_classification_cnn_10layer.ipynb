{
  "nbformat": 4,
  "nbformat_minor": 0,
  "metadata": {
    "accelerator": "GPU",
    "colab": {
      "name": "CIFAR_10_class_classification_cnn_10layer.ipynb",
      "provenance": [],
      "collapsed_sections": [],
      "machine_shape": "hm"
    },
    "kernelspec": {
      "display_name": "Python 3",
      "language": "python",
      "name": "python3"
    },
    "language_info": {
      "codemirror_mode": {
        "name": "ipython",
        "version": 3
      },
      "file_extension": ".py",
      "mimetype": "text/x-python",
      "name": "python",
      "nbconvert_exporter": "python",
      "pygments_lexer": "ipython3",
      "version": "3.6.5"
    },
    "widgets": {
      "application/vnd.jupyter.widget-state+json": {
        "8df9d92ad75d437f9ce0f2a67df70d98": {
          "model_module": "@jupyter-widgets/controls",
          "model_name": "HBoxModel",
          "state": {
            "_view_name": "HBoxView",
            "_dom_classes": [],
            "_model_name": "HBoxModel",
            "_view_module": "@jupyter-widgets/controls",
            "_model_module_version": "1.5.0",
            "_view_count": null,
            "_view_module_version": "1.5.0",
            "box_style": "",
            "layout": "IPY_MODEL_a02a26524e064186a2cff43e00a8c3f4",
            "_model_module": "@jupyter-widgets/controls",
            "children": [
              "IPY_MODEL_b82a5523907445de983c10ec3408c71a",
              "IPY_MODEL_460fb0b922114d93b63bd6fa2d22d36b"
            ]
          }
        },
        "a02a26524e064186a2cff43e00a8c3f4": {
          "model_module": "@jupyter-widgets/base",
          "model_name": "LayoutModel",
          "state": {
            "_view_name": "LayoutView",
            "grid_template_rows": null,
            "right": null,
            "justify_content": null,
            "_view_module": "@jupyter-widgets/base",
            "overflow": null,
            "_model_module_version": "1.2.0",
            "_view_count": null,
            "flex_flow": null,
            "width": null,
            "min_width": null,
            "border": null,
            "align_items": null,
            "bottom": null,
            "_model_module": "@jupyter-widgets/base",
            "top": null,
            "grid_column": null,
            "overflow_y": null,
            "overflow_x": null,
            "grid_auto_flow": null,
            "grid_area": null,
            "grid_template_columns": null,
            "flex": null,
            "_model_name": "LayoutModel",
            "justify_items": null,
            "grid_row": null,
            "max_height": null,
            "align_content": null,
            "visibility": null,
            "align_self": null,
            "height": null,
            "min_height": null,
            "padding": null,
            "grid_auto_rows": null,
            "grid_gap": null,
            "max_width": null,
            "order": null,
            "_view_module_version": "1.2.0",
            "grid_template_areas": null,
            "object_position": null,
            "object_fit": null,
            "grid_auto_columns": null,
            "margin": null,
            "display": null,
            "left": null
          }
        },
        "b82a5523907445de983c10ec3408c71a": {
          "model_module": "@jupyter-widgets/controls",
          "model_name": "FloatProgressModel",
          "state": {
            "_view_name": "ProgressView",
            "style": "IPY_MODEL_8459594de41d49d0a65f92484bc6d31f",
            "_dom_classes": [],
            "description": "",
            "_model_name": "FloatProgressModel",
            "bar_style": "info",
            "max": 1,
            "_view_module": "@jupyter-widgets/controls",
            "_model_module_version": "1.5.0",
            "value": 1,
            "_view_count": null,
            "_view_module_version": "1.5.0",
            "orientation": "horizontal",
            "min": 0,
            "description_tooltip": null,
            "_model_module": "@jupyter-widgets/controls",
            "layout": "IPY_MODEL_6759f939f1b0437ea023cab6639eff25"
          }
        },
        "460fb0b922114d93b63bd6fa2d22d36b": {
          "model_module": "@jupyter-widgets/controls",
          "model_name": "HTMLModel",
          "state": {
            "_view_name": "HTMLView",
            "style": "IPY_MODEL_933efa66077349ea8cd10ec2d01e206c",
            "_dom_classes": [],
            "description": "",
            "_model_name": "HTMLModel",
            "placeholder": "​",
            "_view_module": "@jupyter-widgets/controls",
            "_model_module_version": "1.5.0",
            "value": " 170500096/? [00:20&lt;00:00, 82173521.56it/s]",
            "_view_count": null,
            "_view_module_version": "1.5.0",
            "description_tooltip": null,
            "_model_module": "@jupyter-widgets/controls",
            "layout": "IPY_MODEL_7f5609d83e03410aa5d8de1ee48f3a6d"
          }
        },
        "8459594de41d49d0a65f92484bc6d31f": {
          "model_module": "@jupyter-widgets/controls",
          "model_name": "ProgressStyleModel",
          "state": {
            "_view_name": "StyleView",
            "_model_name": "ProgressStyleModel",
            "description_width": "initial",
            "_view_module": "@jupyter-widgets/base",
            "_model_module_version": "1.5.0",
            "_view_count": null,
            "_view_module_version": "1.2.0",
            "bar_color": null,
            "_model_module": "@jupyter-widgets/controls"
          }
        },
        "6759f939f1b0437ea023cab6639eff25": {
          "model_module": "@jupyter-widgets/base",
          "model_name": "LayoutModel",
          "state": {
            "_view_name": "LayoutView",
            "grid_template_rows": null,
            "right": null,
            "justify_content": null,
            "_view_module": "@jupyter-widgets/base",
            "overflow": null,
            "_model_module_version": "1.2.0",
            "_view_count": null,
            "flex_flow": null,
            "width": null,
            "min_width": null,
            "border": null,
            "align_items": null,
            "bottom": null,
            "_model_module": "@jupyter-widgets/base",
            "top": null,
            "grid_column": null,
            "overflow_y": null,
            "overflow_x": null,
            "grid_auto_flow": null,
            "grid_area": null,
            "grid_template_columns": null,
            "flex": null,
            "_model_name": "LayoutModel",
            "justify_items": null,
            "grid_row": null,
            "max_height": null,
            "align_content": null,
            "visibility": null,
            "align_self": null,
            "height": null,
            "min_height": null,
            "padding": null,
            "grid_auto_rows": null,
            "grid_gap": null,
            "max_width": null,
            "order": null,
            "_view_module_version": "1.2.0",
            "grid_template_areas": null,
            "object_position": null,
            "object_fit": null,
            "grid_auto_columns": null,
            "margin": null,
            "display": null,
            "left": null
          }
        },
        "933efa66077349ea8cd10ec2d01e206c": {
          "model_module": "@jupyter-widgets/controls",
          "model_name": "DescriptionStyleModel",
          "state": {
            "_view_name": "StyleView",
            "_model_name": "DescriptionStyleModel",
            "description_width": "",
            "_view_module": "@jupyter-widgets/base",
            "_model_module_version": "1.5.0",
            "_view_count": null,
            "_view_module_version": "1.2.0",
            "_model_module": "@jupyter-widgets/controls"
          }
        },
        "7f5609d83e03410aa5d8de1ee48f3a6d": {
          "model_module": "@jupyter-widgets/base",
          "model_name": "LayoutModel",
          "state": {
            "_view_name": "LayoutView",
            "grid_template_rows": null,
            "right": null,
            "justify_content": null,
            "_view_module": "@jupyter-widgets/base",
            "overflow": null,
            "_model_module_version": "1.2.0",
            "_view_count": null,
            "flex_flow": null,
            "width": null,
            "min_width": null,
            "border": null,
            "align_items": null,
            "bottom": null,
            "_model_module": "@jupyter-widgets/base",
            "top": null,
            "grid_column": null,
            "overflow_y": null,
            "overflow_x": null,
            "grid_auto_flow": null,
            "grid_area": null,
            "grid_template_columns": null,
            "flex": null,
            "_model_name": "LayoutModel",
            "justify_items": null,
            "grid_row": null,
            "max_height": null,
            "align_content": null,
            "visibility": null,
            "align_self": null,
            "height": null,
            "min_height": null,
            "padding": null,
            "grid_auto_rows": null,
            "grid_gap": null,
            "max_width": null,
            "order": null,
            "_view_module_version": "1.2.0",
            "grid_template_areas": null,
            "object_position": null,
            "object_fit": null,
            "grid_auto_columns": null,
            "margin": null,
            "display": null,
            "left": null
          }
        }
      }
    }
  },
  "cells": [
    {
      "cell_type": "code",
      "metadata": {
        "id": "JSjG64ra4aFu",
        "outputId": "3339c525-03d4-401f-b1ed-c088d9541895",
        "colab": {
          "base_uri": "https://localhost:8080/",
          "height": 36
        }
      },
      "source": [
        "from google.colab import drive\n",
        "drive.mount('/content/drive')"
      ],
      "execution_count": 1,
      "outputs": [
        {
          "output_type": "stream",
          "text": [
            "Mounted at /content/drive\n"
          ],
          "name": "stdout"
        }
      ]
    },
    {
      "cell_type": "code",
      "metadata": {
        "id": "V8-7SARDZErK"
      },
      "source": [
        "import torch.nn as nn\n",
        "import torch.nn.functional as F\n",
        "\n",
        "import pandas as pd\n",
        "import numpy as np\n",
        "import matplotlib.pyplot as plt\n",
        "\n",
        "import torch\n",
        "import torchvision\n",
        "import torchvision.transforms as transforms\n",
        "from torch.utils.data import Dataset, DataLoader\n",
        "from torchvision import transforms, utils\n",
        "\n",
        "from matplotlib import pyplot as plt\n",
        "import copy\n",
        "\n",
        "# Ignore warnings\n",
        "import warnings\n",
        "warnings.filterwarnings(\"ignore\")\n"
      ],
      "execution_count": 2,
      "outputs": []
    },
    {
      "cell_type": "code",
      "metadata": {
        "id": "acRFqJNrZErV",
        "outputId": "845dc078-f4b2-4d21-e404-60f11c3866c5",
        "colab": {
          "base_uri": "https://localhost:8080/",
          "height": 105,
          "referenced_widgets": [
            "8df9d92ad75d437f9ce0f2a67df70d98",
            "a02a26524e064186a2cff43e00a8c3f4",
            "b82a5523907445de983c10ec3408c71a",
            "460fb0b922114d93b63bd6fa2d22d36b",
            "8459594de41d49d0a65f92484bc6d31f",
            "6759f939f1b0437ea023cab6639eff25",
            "933efa66077349ea8cd10ec2d01e206c",
            "7f5609d83e03410aa5d8de1ee48f3a6d"
          ]
        }
      },
      "source": [
        "transform = transforms.Compose(\n",
        "    [transforms.ToTensor(),\n",
        "     transforms.Normalize((0.5, 0.5, 0.5), (0.5, 0.5, 0.5))])\n",
        "\n",
        "trainset = torchvision.datasets.CIFAR10(root='./data', train=True, download=True, transform=transform)\n",
        "\n",
        "\n",
        "testset = torchvision.datasets.CIFAR10(root='./data', train=False, download=True, transform=transform)\n"
      ],
      "execution_count": 3,
      "outputs": [
        {
          "output_type": "stream",
          "text": [
            "Downloading https://www.cs.toronto.edu/~kriz/cifar-10-python.tar.gz to ./data/cifar-10-python.tar.gz\n"
          ],
          "name": "stdout"
        },
        {
          "output_type": "display_data",
          "data": {
            "application/vnd.jupyter.widget-view+json": {
              "model_id": "8df9d92ad75d437f9ce0f2a67df70d98",
              "version_minor": 0,
              "version_major": 2
            },
            "text/plain": [
              "HBox(children=(FloatProgress(value=1.0, bar_style='info', max=1.0), HTML(value='')))"
            ]
          },
          "metadata": {
            "tags": []
          }
        },
        {
          "output_type": "stream",
          "text": [
            "Extracting ./data/cifar-10-python.tar.gz to ./data\n",
            "Files already downloaded and verified\n"
          ],
          "name": "stdout"
        }
      ]
    },
    {
      "cell_type": "code",
      "metadata": {
        "id": "gh5DXuAV1tp5"
      },
      "source": [
        "# trainloader = torch.utils.data.DataLoader(trainset, batch_size=10, shuffle=True)\n",
        "# testloader = torch.utils.data.DataLoader(testset, batch_size=10, shuffle=False)\n",
        "\n",
        "\n",
        "classes = ('plane', 'car', 'bird', 'cat', 'deer', 'dog', 'frog', 'horse', 'ship', 'truck')\n",
        "\n",
        "# foreground_classes = {'plane', 'car', 'bird'}\n",
        "\n",
        "# background_classes = {'cat', 'deer', 'dog', 'frog', 'horse','ship', 'truck'}\n",
        "\n",
        "# fg1,fg2,fg3 = 0,1,2"
      ],
      "execution_count": 4,
      "outputs": []
    },
    {
      "cell_type": "code",
      "metadata": {
        "id": "EQOH55xR6INA"
      },
      "source": [
        "trainloader = torch.utils.data.DataLoader(trainset, batch_size=256,shuffle=True)\n",
        "testloader = torch.utils.data.DataLoader(testset, batch_size=256,shuffle=False)"
      ],
      "execution_count": 5,
      "outputs": []
    },
    {
      "cell_type": "code",
      "metadata": {
        "id": "SadRzWBBZEsP"
      },
      "source": [
        "class CNN(nn.Module):\n",
        "  def __init__(self):\n",
        "    super(CNN, self).__init__()\n",
        "    self.conv1 = nn.Conv2d(in_channels=3, out_channels=32, kernel_size=3, padding=0)\n",
        "    self.conv2 = nn.Conv2d(in_channels=32, out_channels=64, kernel_size=3, padding=0)\n",
        "    self.conv3 = nn.Conv2d(in_channels=64, out_channels=128, kernel_size=3, padding=0)\n",
        "    self.conv4 = nn.Conv2d(in_channels=128, out_channels=128, kernel_size=3, padding=0)\n",
        "    self.conv5 = nn.Conv2d(in_channels=128, out_channels=128, kernel_size=3, padding=0)\n",
        "    self.conv6 = nn.Conv2d(in_channels=128, out_channels=128, kernel_size=3, padding=1)\n",
        "    self.conv7 = nn.Conv2d(in_channels=128, out_channels=128, kernel_size=3, padding=1)\n",
        "    self.conv8 = nn.Conv2d(in_channels=128, out_channels=128, kernel_size=3, padding=1)\n",
        "    self.conv9 = nn.Conv2d(in_channels=128, out_channels=128, kernel_size=3, padding=1)\n",
        "    self.conv10 = nn.Conv2d(in_channels=128, out_channels=128, kernel_size=3, padding=1)\n",
        "    self.pool = nn.MaxPool2d(kernel_size=2, stride=2)\n",
        "    self.batch_norm1 = nn.BatchNorm2d(32, track_running_stats = False)\n",
        "    self.batch_norm2 = nn.BatchNorm2d(128, track_running_stats = False)\n",
        "    self.dropout1 = nn.Dropout2d(p=0.05)\n",
        "    self.dropout2 = nn.Dropout2d(p=0.1)\n",
        "    self.fc1 = nn.Linear(128,64)\n",
        "    self.fc2 = nn.Linear(64, 32)\n",
        "    self.fc3 = nn.Linear(32, 10)\n",
        "\n",
        "\n",
        "  def forward(self, x):\n",
        "    x = self.conv1(x)\n",
        "    x = F.relu(self.batch_norm1(x))\n",
        "\n",
        "    x = (F.relu(self.conv2(x)))\n",
        "    x = self.pool(x)\n",
        "    \n",
        "    x = self.conv3(x)\n",
        "    x = F.relu(self.batch_norm2(x))\n",
        "\n",
        "    x = (F.relu(self.conv4(x)))\n",
        "    x = self.pool(x)\n",
        "    x = self.dropout1(x)\n",
        "\n",
        "    x = self.conv5(x)\n",
        "    x = F.relu(self.batch_norm2(x))\n",
        "\n",
        "    x = (F.relu(self.conv6(x)))\n",
        "    x = self.pool(x)\n",
        "\n",
        "    x = self.conv7(x)\n",
        "    x = F.relu(self.batch_norm2(x))\n",
        "\n",
        "    x = self.conv8(x)\n",
        "    x = F.relu(self.batch_norm2(x))\n",
        "\n",
        "    x = self.conv9(x)\n",
        "    x = F.relu(self.batch_norm2(x))\n",
        "\n",
        "    x = self.conv10(x)\n",
        "    x = F.relu(self.batch_norm2(x))\n",
        "\n",
        "    x = x.view(x.size(0), -1)\n",
        "\n",
        "    x = self.dropout2(x)\n",
        "    x = F.relu(self.fc1(x))\n",
        "    x = F.relu(self.fc2(x))\n",
        "    x = self.dropout2(x)\n",
        "    x = self.fc3(x)\n",
        "    return x"
      ],
      "execution_count": 6,
      "outputs": []
    },
    {
      "cell_type": "code",
      "metadata": {
        "id": "1GvXR1zV5n4w"
      },
      "source": [
        "cnn_net = CNN()#.double()\n",
        "cnn_net = cnn_net.to(\"cuda\")"
      ],
      "execution_count": 11,
      "outputs": []
    },
    {
      "cell_type": "code",
      "metadata": {
        "id": "cO37uxDTXDBV",
        "outputId": "e54445a1-97a8-46be-862c-ca5150a0c119",
        "colab": {
          "base_uri": "https://localhost:8080/",
          "height": 391
        }
      },
      "source": [
        "print(cnn_net)"
      ],
      "execution_count": 12,
      "outputs": [
        {
          "output_type": "stream",
          "text": [
            "CNN(\n",
            "  (conv1): Conv2d(3, 32, kernel_size=(3, 3), stride=(1, 1))\n",
            "  (conv2): Conv2d(32, 64, kernel_size=(3, 3), stride=(1, 1))\n",
            "  (conv3): Conv2d(64, 128, kernel_size=(3, 3), stride=(1, 1))\n",
            "  (conv4): Conv2d(128, 128, kernel_size=(3, 3), stride=(1, 1))\n",
            "  (conv5): Conv2d(128, 128, kernel_size=(3, 3), stride=(1, 1))\n",
            "  (conv6): Conv2d(128, 128, kernel_size=(3, 3), stride=(1, 1), padding=(1, 1))\n",
            "  (conv7): Conv2d(128, 128, kernel_size=(3, 3), stride=(1, 1), padding=(1, 1))\n",
            "  (conv8): Conv2d(128, 128, kernel_size=(3, 3), stride=(1, 1), padding=(1, 1))\n",
            "  (conv9): Conv2d(128, 128, kernel_size=(3, 3), stride=(1, 1), padding=(1, 1))\n",
            "  (conv10): Conv2d(128, 128, kernel_size=(3, 3), stride=(1, 1), padding=(1, 1))\n",
            "  (pool): MaxPool2d(kernel_size=2, stride=2, padding=0, dilation=1, ceil_mode=False)\n",
            "  (batch_norm1): BatchNorm2d(32, eps=1e-05, momentum=0.1, affine=True, track_running_stats=False)\n",
            "  (batch_norm2): BatchNorm2d(128, eps=1e-05, momentum=0.1, affine=True, track_running_stats=False)\n",
            "  (dropout1): Dropout2d(p=0.05, inplace=False)\n",
            "  (dropout2): Dropout2d(p=0.1, inplace=False)\n",
            "  (fc1): Linear(in_features=128, out_features=64, bias=True)\n",
            "  (fc2): Linear(in_features=64, out_features=32, bias=True)\n",
            "  (fc3): Linear(in_features=32, out_features=10, bias=True)\n",
            ")\n"
          ],
          "name": "stdout"
        }
      ]
    },
    {
      "cell_type": "code",
      "metadata": {
        "id": "n5g3geNJ5zEu"
      },
      "source": [
        "import torch.optim as optim\n",
        "criterion_cnn = nn.CrossEntropyLoss()\n",
        "optimizer_cnn = optim.SGD(cnn_net.parameters(), lr=0.01, momentum=0.9)"
      ],
      "execution_count": 13,
      "outputs": []
    },
    {
      "cell_type": "code",
      "metadata": {
        "id": "tFfAJZkcZEsY",
        "outputId": "efedcb41-6082-40cb-a5ae-c6cbd7d6ecd1",
        "colab": {
          "base_uri": "https://localhost:8080/",
          "height": 1000
        }
      },
      "source": [
        "acti = []\n",
        "loss_curi = []\n",
        "epochs = 300\n",
        "for epoch in range(epochs): # loop over the dataset multiple times\n",
        "    ep_lossi = []\n",
        "\n",
        "    running_loss = 0.0\n",
        "    for i, data in enumerate(trainloader, 0):\n",
        "        # get the inputs\n",
        "        inputs, labels = data\n",
        "        inputs, labels = inputs.to(\"cuda\"),labels.to(\"cuda\")\n",
        "\n",
        "        # zero the parameter gradients\n",
        "        optimizer_cnn.zero_grad()\n",
        "\n",
        "        # forward + backward + optimize\n",
        "        outputs = cnn_net(inputs)\n",
        "        loss = criterion_cnn(outputs, labels)\n",
        "        loss.backward()\n",
        "        optimizer_cnn.step()\n",
        "\n",
        "        # print statistics\n",
        "        running_loss += loss.item()\n",
        "        mini_batch = 50\n",
        "        if i % mini_batch == mini_batch-1:    # print every 50 mini-batches\n",
        "            print('[%d, %5d] loss: %.3f' %(epoch + 1, i + 1, running_loss / mini_batch))\n",
        "            ep_lossi.append(running_loss/mini_batch) # loss per minibatch\n",
        "            running_loss = 0.0\n",
        "            \n",
        "    if(np.mean(ep_lossi) <= 0.01):\n",
        "      break;\n",
        "    loss_curi.append(np.mean(ep_lossi))   #loss per epoch            \n",
        "\n",
        "print('Finished Training')"
      ],
      "execution_count": 14,
      "outputs": [
        {
          "output_type": "stream",
          "text": [
            "[1,    50] loss: 2.257\n",
            "[1,   100] loss: 1.914\n",
            "[1,   150] loss: 1.587\n",
            "[2,    50] loss: 1.292\n",
            "[2,   100] loss: 1.210\n",
            "[2,   150] loss: 1.124\n",
            "[3,    50] loss: 0.981\n",
            "[3,   100] loss: 0.945\n",
            "[3,   150] loss: 0.956\n",
            "[4,    50] loss: 0.793\n",
            "[4,   100] loss: 0.798\n",
            "[4,   150] loss: 0.781\n",
            "[5,    50] loss: 0.680\n",
            "[5,   100] loss: 0.696\n",
            "[5,   150] loss: 0.701\n",
            "[6,    50] loss: 0.585\n",
            "[6,   100] loss: 0.608\n",
            "[6,   150] loss: 0.603\n",
            "[7,    50] loss: 0.505\n",
            "[7,   100] loss: 0.534\n",
            "[7,   150] loss: 0.556\n",
            "[8,    50] loss: 0.484\n",
            "[8,   100] loss: 0.474\n",
            "[8,   150] loss: 0.488\n",
            "[9,    50] loss: 0.393\n",
            "[9,   100] loss: 0.410\n",
            "[9,   150] loss: 0.445\n",
            "[10,    50] loss: 0.373\n",
            "[10,   100] loss: 0.373\n",
            "[10,   150] loss: 0.386\n",
            "[11,    50] loss: 0.303\n",
            "[11,   100] loss: 0.339\n",
            "[11,   150] loss: 0.354\n",
            "[12,    50] loss: 0.284\n",
            "[12,   100] loss: 0.295\n",
            "[12,   150] loss: 0.330\n",
            "[13,    50] loss: 0.268\n",
            "[13,   100] loss: 0.269\n",
            "[13,   150] loss: 0.286\n",
            "[14,    50] loss: 0.232\n",
            "[14,   100] loss: 0.239\n",
            "[14,   150] loss: 0.254\n",
            "[15,    50] loss: 0.204\n",
            "[15,   100] loss: 0.207\n",
            "[15,   150] loss: 0.226\n",
            "[16,    50] loss: 0.188\n",
            "[16,   100] loss: 0.192\n",
            "[16,   150] loss: 0.212\n",
            "[17,    50] loss: 0.153\n",
            "[17,   100] loss: 0.190\n",
            "[17,   150] loss: 0.173\n",
            "[18,    50] loss: 0.151\n",
            "[18,   100] loss: 0.161\n",
            "[18,   150] loss: 0.176\n",
            "[19,    50] loss: 0.134\n",
            "[19,   100] loss: 0.147\n",
            "[19,   150] loss: 0.157\n",
            "[20,    50] loss: 0.124\n",
            "[20,   100] loss: 0.121\n",
            "[20,   150] loss: 0.132\n",
            "[21,    50] loss: 0.110\n",
            "[21,   100] loss: 0.118\n",
            "[21,   150] loss: 0.138\n",
            "[22,    50] loss: 0.105\n",
            "[22,   100] loss: 0.096\n",
            "[22,   150] loss: 0.106\n",
            "[23,    50] loss: 0.100\n",
            "[23,   100] loss: 0.108\n",
            "[23,   150] loss: 0.113\n",
            "[24,    50] loss: 0.101\n",
            "[24,   100] loss: 0.098\n",
            "[24,   150] loss: 0.105\n",
            "[25,    50] loss: 0.082\n",
            "[25,   100] loss: 0.093\n",
            "[25,   150] loss: 0.095\n",
            "[26,    50] loss: 0.094\n",
            "[26,   100] loss: 0.087\n",
            "[26,   150] loss: 0.087\n",
            "[27,    50] loss: 0.070\n",
            "[27,   100] loss: 0.084\n",
            "[27,   150] loss: 0.085\n",
            "[28,    50] loss: 0.059\n",
            "[28,   100] loss: 0.072\n",
            "[28,   150] loss: 0.083\n",
            "[29,    50] loss: 0.071\n",
            "[29,   100] loss: 0.065\n",
            "[29,   150] loss: 0.068\n",
            "[30,    50] loss: 0.069\n",
            "[30,   100] loss: 0.063\n",
            "[30,   150] loss: 0.063\n",
            "[31,    50] loss: 0.061\n",
            "[31,   100] loss: 0.060\n",
            "[31,   150] loss: 0.052\n",
            "[32,    50] loss: 0.069\n",
            "[32,   100] loss: 0.057\n",
            "[32,   150] loss: 0.060\n",
            "[33,    50] loss: 0.055\n",
            "[33,   100] loss: 0.052\n",
            "[33,   150] loss: 0.053\n",
            "[34,    50] loss: 0.050\n",
            "[34,   100] loss: 0.049\n",
            "[34,   150] loss: 0.052\n",
            "[35,    50] loss: 0.049\n",
            "[35,   100] loss: 0.049\n",
            "[35,   150] loss: 0.053\n",
            "[36,    50] loss: 0.047\n",
            "[36,   100] loss: 0.039\n",
            "[36,   150] loss: 0.049\n",
            "[37,    50] loss: 0.041\n",
            "[37,   100] loss: 0.046\n",
            "[37,   150] loss: 0.043\n",
            "[38,    50] loss: 0.040\n",
            "[38,   100] loss: 0.042\n",
            "[38,   150] loss: 0.040\n",
            "[39,    50] loss: 0.049\n",
            "[39,   100] loss: 0.045\n",
            "[39,   150] loss: 0.046\n",
            "[40,    50] loss: 0.046\n",
            "[40,   100] loss: 0.035\n",
            "[40,   150] loss: 0.037\n",
            "[41,    50] loss: 0.029\n",
            "[41,   100] loss: 0.029\n",
            "[41,   150] loss: 0.041\n",
            "[42,    50] loss: 0.045\n",
            "[42,   100] loss: 0.039\n",
            "[42,   150] loss: 0.036\n",
            "[43,    50] loss: 0.039\n",
            "[43,   100] loss: 0.034\n",
            "[43,   150] loss: 0.033\n",
            "[44,    50] loss: 0.037\n",
            "[44,   100] loss: 0.031\n",
            "[44,   150] loss: 0.029\n",
            "[45,    50] loss: 0.037\n",
            "[45,   100] loss: 0.030\n",
            "[45,   150] loss: 0.029\n",
            "[46,    50] loss: 0.040\n",
            "[46,   100] loss: 0.031\n",
            "[46,   150] loss: 0.034\n",
            "[47,    50] loss: 0.027\n",
            "[47,   100] loss: 0.030\n",
            "[47,   150] loss: 0.036\n",
            "[48,    50] loss: 0.029\n",
            "[48,   100] loss: 0.031\n",
            "[48,   150] loss: 0.030\n",
            "[49,    50] loss: 0.051\n",
            "[49,   100] loss: 0.034\n",
            "[49,   150] loss: 0.032\n",
            "[50,    50] loss: 0.029\n",
            "[50,   100] loss: 0.025\n",
            "[50,   150] loss: 0.034\n",
            "[51,    50] loss: 0.027\n",
            "[51,   100] loss: 0.022\n",
            "[51,   150] loss: 0.020\n",
            "[52,    50] loss: 0.024\n",
            "[52,   100] loss: 0.028\n",
            "[52,   150] loss: 0.030\n",
            "[53,    50] loss: 0.026\n",
            "[53,   100] loss: 0.029\n",
            "[53,   150] loss: 0.028\n",
            "[54,    50] loss: 0.022\n",
            "[54,   100] loss: 0.024\n",
            "[54,   150] loss: 0.026\n",
            "[55,    50] loss: 0.021\n",
            "[55,   100] loss: 0.021\n",
            "[55,   150] loss: 0.023\n",
            "[56,    50] loss: 0.022\n",
            "[56,   100] loss: 0.025\n",
            "[56,   150] loss: 0.022\n",
            "[57,    50] loss: 0.021\n",
            "[57,   100] loss: 0.017\n",
            "[57,   150] loss: 0.025\n",
            "[58,    50] loss: 0.029\n",
            "[58,   100] loss: 0.027\n",
            "[58,   150] loss: 0.025\n",
            "[59,    50] loss: 0.026\n",
            "[59,   100] loss: 0.021\n",
            "[59,   150] loss: 0.021\n",
            "[60,    50] loss: 0.017\n",
            "[60,   100] loss: 0.024\n",
            "[60,   150] loss: 0.026\n",
            "[61,    50] loss: 0.020\n",
            "[61,   100] loss: 0.019\n",
            "[61,   150] loss: 0.016\n",
            "[62,    50] loss: 0.016\n",
            "[62,   100] loss: 0.015\n",
            "[62,   150] loss: 0.013\n",
            "[63,    50] loss: 0.019\n",
            "[63,   100] loss: 0.017\n",
            "[63,   150] loss: 0.026\n",
            "[64,    50] loss: 0.024\n",
            "[64,   100] loss: 0.025\n",
            "[64,   150] loss: 0.023\n",
            "[65,    50] loss: 0.019\n",
            "[65,   100] loss: 0.018\n",
            "[65,   150] loss: 0.017\n",
            "[66,    50] loss: 0.019\n",
            "[66,   100] loss: 0.018\n",
            "[66,   150] loss: 0.020\n",
            "[67,    50] loss: 0.012\n",
            "[67,   100] loss: 0.016\n",
            "[67,   150] loss: 0.016\n",
            "[68,    50] loss: 0.015\n",
            "[68,   100] loss: 0.013\n",
            "[68,   150] loss: 0.016\n",
            "[69,    50] loss: 0.019\n",
            "[69,   100] loss: 0.012\n",
            "[69,   150] loss: 0.014\n",
            "[70,    50] loss: 0.015\n",
            "[70,   100] loss: 0.016\n",
            "[70,   150] loss: 0.019\n",
            "[71,    50] loss: 0.017\n",
            "[71,   100] loss: 0.017\n",
            "[71,   150] loss: 0.015\n",
            "[72,    50] loss: 0.011\n",
            "[72,   100] loss: 0.013\n",
            "[72,   150] loss: 0.017\n",
            "[73,    50] loss: 0.016\n",
            "[73,   100] loss: 0.014\n",
            "[73,   150] loss: 0.013\n",
            "[74,    50] loss: 0.011\n",
            "[74,   100] loss: 0.015\n",
            "[74,   150] loss: 0.019\n",
            "[75,    50] loss: 0.016\n",
            "[75,   100] loss: 0.016\n",
            "[75,   150] loss: 0.012\n",
            "[76,    50] loss: 0.013\n",
            "[76,   100] loss: 0.013\n",
            "[76,   150] loss: 0.014\n",
            "[77,    50] loss: 0.017\n",
            "[77,   100] loss: 0.016\n",
            "[77,   150] loss: 0.016\n",
            "[78,    50] loss: 0.019\n",
            "[78,   100] loss: 0.018\n",
            "[78,   150] loss: 0.018\n",
            "[79,    50] loss: 0.014\n",
            "[79,   100] loss: 0.019\n",
            "[79,   150] loss: 0.019\n",
            "[80,    50] loss: 0.013\n",
            "[80,   100] loss: 0.014\n",
            "[80,   150] loss: 0.010\n",
            "[81,    50] loss: 0.017\n",
            "[81,   100] loss: 0.017\n",
            "[81,   150] loss: 0.013\n",
            "[82,    50] loss: 0.012\n",
            "[82,   100] loss: 0.012\n",
            "[82,   150] loss: 0.015\n",
            "[83,    50] loss: 0.009\n",
            "[83,   100] loss: 0.012\n",
            "[83,   150] loss: 0.010\n",
            "[84,    50] loss: 0.013\n",
            "[84,   100] loss: 0.011\n",
            "[84,   150] loss: 0.011\n",
            "[85,    50] loss: 0.012\n",
            "[85,   100] loss: 0.013\n",
            "[85,   150] loss: 0.015\n",
            "[86,    50] loss: 0.013\n",
            "[86,   100] loss: 0.014\n",
            "[86,   150] loss: 0.019\n",
            "[87,    50] loss: 0.016\n",
            "[87,   100] loss: 0.014\n",
            "[87,   150] loss: 0.012\n",
            "[88,    50] loss: 0.013\n",
            "[88,   100] loss: 0.011\n",
            "[88,   150] loss: 0.011\n",
            "[89,    50] loss: 0.012\n",
            "[89,   100] loss: 0.009\n",
            "[89,   150] loss: 0.011\n",
            "[90,    50] loss: 0.010\n",
            "[90,   100] loss: 0.011\n",
            "[90,   150] loss: 0.012\n",
            "[91,    50] loss: 0.012\n",
            "[91,   100] loss: 0.010\n",
            "[91,   150] loss: 0.015\n",
            "[92,    50] loss: 0.011\n",
            "[92,   100] loss: 0.013\n",
            "[92,   150] loss: 0.019\n",
            "[93,    50] loss: 0.016\n",
            "[93,   100] loss: 0.016\n",
            "[93,   150] loss: 0.015\n",
            "[94,    50] loss: 0.012\n",
            "[94,   100] loss: 0.012\n",
            "[94,   150] loss: 0.013\n",
            "[95,    50] loss: 0.015\n",
            "[95,   100] loss: 0.011\n",
            "[95,   150] loss: 0.009\n",
            "[96,    50] loss: 0.012\n",
            "[96,   100] loss: 0.011\n",
            "[96,   150] loss: 0.012\n",
            "[97,    50] loss: 0.011\n",
            "[97,   100] loss: 0.011\n",
            "[97,   150] loss: 0.013\n",
            "[98,    50] loss: 0.011\n",
            "[98,   100] loss: 0.008\n",
            "[98,   150] loss: 0.011\n",
            "Finished Training\n"
          ],
          "name": "stdout"
        }
      ]
    },
    {
      "cell_type": "code",
      "metadata": {
        "id": "WIAJ3UZN8rPE"
      },
      "source": [
        "torch.save(cnn_net.state_dict(),\"/content/drive/My Drive/Research/train_begining_layers_vs_last_layers/cnn_net_10layer.pt\")"
      ],
      "execution_count": 15,
      "outputs": []
    },
    {
      "cell_type": "code",
      "metadata": {
        "id": "an7qmNLB-Ilb",
        "outputId": "025c2219-9c97-4bb1-a5ba-06abcb897a3d",
        "colab": {
          "base_uri": "https://localhost:8080/",
          "height": 54
        }
      },
      "source": [
        "correct = 0\n",
        "total = 0\n",
        "with torch.no_grad():\n",
        "    for data in trainloader:\n",
        "        images, labels = data\n",
        "        images, labels = images.to(\"cuda\"), labels.to(\"cuda\")\n",
        "        outputs = cnn_net(images)\n",
        "        _, predicted = torch.max(outputs.data, 1)\n",
        "        total += labels.size(0)\n",
        "        correct += (predicted == labels).sum().item()\n",
        "\n",
        "print('Accuracy of the network on the %d train images: %d %%' % (total,  100 * correct / total))\n",
        "print(total,correct)"
      ],
      "execution_count": 16,
      "outputs": [
        {
          "output_type": "stream",
          "text": [
            "Accuracy of the network on the 50000 train images: 99 %\n",
            "50000 49892\n"
          ],
          "name": "stdout"
        }
      ]
    },
    {
      "cell_type": "code",
      "metadata": {
        "id": "3WqTm-aW-TGU",
        "outputId": "19fff576-6a3a-43b3-9690-d7e9dab7ca6d",
        "colab": {
          "base_uri": "https://localhost:8080/",
          "height": 54
        }
      },
      "source": [
        "correct = 0\n",
        "total = 0\n",
        "out = []\n",
        "pred = []\n",
        "with torch.no_grad():\n",
        "    for data in testloader:\n",
        "        images, labels = data\n",
        "        images, labels = images.to(\"cuda\"),labels.to(\"cuda\")\n",
        "        out.append(labels.cpu().numpy())\n",
        "        outputs= cnn_net(images)\n",
        "        _, predicted = torch.max(outputs.data, 1)\n",
        "        pred.append(predicted.cpu().numpy())\n",
        "        total += labels.size(0)\n",
        "        correct += (predicted == labels).sum().item()\n",
        "\n",
        "print('Accuracy of the network on the 10000 test images: %d %%' % ( 100 * correct / total))\n",
        "print(total,correct)"
      ],
      "execution_count": 17,
      "outputs": [
        {
          "output_type": "stream",
          "text": [
            "Accuracy of the network on the 10000 test images: 79 %\n",
            "10000 7976\n"
          ],
          "name": "stdout"
        }
      ]
    },
    {
      "cell_type": "code",
      "metadata": {
        "id": "oQ1yPyXRBNT4",
        "outputId": "269e0e6c-6147-49e6-b312-d1277bfe0af4",
        "colab": {
          "base_uri": "https://localhost:8080/",
          "height": 204
        }
      },
      "source": [
        "class_correct = list(0. for i in range(10))\n",
        "class_total = list(0. for i in range(10))\n",
        "with torch.no_grad():\n",
        "    for data in testloader:\n",
        "        images, labels = data\n",
        "        images, labels = images.to(\"cuda\"),labels.to(\"cuda\")\n",
        "        outputs = cnn_net(images)\n",
        "        _, predicted = torch.max(outputs, 1)\n",
        "        c = (predicted == labels).squeeze()\n",
        "        for i in range(4):\n",
        "            label = labels[i]\n",
        "            class_correct[label] += c[i].item()\n",
        "            class_total[label] += 1\n",
        "\n",
        "\n",
        "for i in range(10):\n",
        "    print('Accuracy of %5s : %2d %%' % (\n",
        "        classes[i], 100 * class_correct[i] / class_total[i]))"
      ],
      "execution_count": 18,
      "outputs": [
        {
          "output_type": "stream",
          "text": [
            "Accuracy of plane : 75 %\n",
            "Accuracy of   car : 92 %\n",
            "Accuracy of  bird : 76 %\n",
            "Accuracy of   cat : 36 %\n",
            "Accuracy of  deer : 69 %\n",
            "Accuracy of   dog : 66 %\n",
            "Accuracy of  frog : 72 %\n",
            "Accuracy of horse : 83 %\n",
            "Accuracy of  ship : 95 %\n",
            "Accuracy of truck : 76 %\n"
          ],
          "name": "stdout"
        }
      ]
    },
    {
      "cell_type": "code",
      "metadata": {
        "id": "bzU_HuQnEB29"
      },
      "source": [
        ""
      ],
      "execution_count": null,
      "outputs": []
    }
  ]
}