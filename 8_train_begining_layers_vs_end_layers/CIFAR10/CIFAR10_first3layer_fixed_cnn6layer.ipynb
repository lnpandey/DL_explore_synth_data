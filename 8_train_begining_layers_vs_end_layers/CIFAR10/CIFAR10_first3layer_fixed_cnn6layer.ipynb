{
  "nbformat": 4,
  "nbformat_minor": 0,
  "metadata": {
    "accelerator": "GPU",
    "colab": {
      "name": "CIFAR10_first3layer_fixed_cnn6layer.ipynb",
      "provenance": [],
      "collapsed_sections": [],
      "machine_shape": "hm"
    },
    "kernelspec": {
      "display_name": "Python 3",
      "language": "python",
      "name": "python3"
    },
    "language_info": {
      "codemirror_mode": {
        "name": "ipython",
        "version": 3
      },
      "file_extension": ".py",
      "mimetype": "text/x-python",
      "name": "python",
      "nbconvert_exporter": "python",
      "pygments_lexer": "ipython3",
      "version": "3.6.5"
    }
  },
  "cells": [
    {
      "cell_type": "code",
      "metadata": {
        "id": "JSjG64ra4aFu",
        "outputId": "1ce52ae2-3f68-4bb2-e12f-1220eacda316",
        "colab": {
          "base_uri": "https://localhost:8080/",
          "height": 36
        }
      },
      "source": [
        "from google.colab import drive\n",
        "drive.mount('/content/drive')"
      ],
      "execution_count": 14,
      "outputs": [
        {
          "output_type": "stream",
          "text": [
            "Mounted at /content/drive\n"
          ],
          "name": "stdout"
        }
      ]
    },
    {
      "cell_type": "code",
      "metadata": {
        "id": "V8-7SARDZErK"
      },
      "source": [
        "import torch.nn as nn\n",
        "import torch.nn.functional as F\n",
        "\n",
        "import pandas as pd\n",
        "import numpy as np\n",
        "import matplotlib.pyplot as plt\n",
        "\n",
        "import torch\n",
        "import torchvision\n",
        "import torchvision.transforms as transforms\n",
        "from torch.utils.data import Dataset, DataLoader\n",
        "from torchvision import transforms, utils\n",
        "\n",
        "from matplotlib import pyplot as plt\n",
        "import copy\n",
        "\n",
        "# Ignore warnings\n",
        "import warnings\n",
        "warnings.filterwarnings(\"ignore\")\n"
      ],
      "execution_count": 15,
      "outputs": []
    },
    {
      "cell_type": "code",
      "metadata": {
        "id": "acRFqJNrZErV",
        "outputId": "8ec34e7f-fe06-4b77-8ef0-bc520cd9bb33",
        "colab": {
          "base_uri": "https://localhost:8080/",
          "height": 54
        }
      },
      "source": [
        "transform = transforms.Compose(\n",
        "    [transforms.ToTensor(),\n",
        "     transforms.Normalize((0.5, 0.5, 0.5), (0.5, 0.5, 0.5))])\n",
        "\n",
        "trainset = torchvision.datasets.CIFAR10(root='./data', train=True, download=True, transform=transform)\n",
        "\n",
        "\n",
        "testset = torchvision.datasets.CIFAR10(root='./data', train=False, download=True, transform=transform)\n"
      ],
      "execution_count": 16,
      "outputs": [
        {
          "output_type": "stream",
          "text": [
            "Files already downloaded and verified\n",
            "Files already downloaded and verified\n"
          ],
          "name": "stdout"
        }
      ]
    },
    {
      "cell_type": "code",
      "metadata": {
        "id": "gh5DXuAV1tp5"
      },
      "source": [
        "# trainloader = torch.utils.data.DataLoader(trainset, batch_size=10, shuffle=True)\n",
        "# testloader = torch.utils.data.DataLoader(testset, batch_size=10, shuffle=False)\n",
        "\n",
        "\n",
        "classes = ('plane', 'car', 'bird', 'cat', 'deer', 'dog', 'frog', 'horse', 'ship', 'truck')\n",
        "\n",
        "# foreground_classes = {'plane', 'car', 'bird'}\n",
        "\n",
        "# background_classes = {'cat', 'deer', 'dog', 'frog', 'horse','ship', 'truck'}\n",
        "\n",
        "# fg1,fg2,fg3 = 0,1,2"
      ],
      "execution_count": 17,
      "outputs": []
    },
    {
      "cell_type": "code",
      "metadata": {
        "id": "EQOH55xR6INA"
      },
      "source": [
        "trainloader = torch.utils.data.DataLoader(trainset, batch_size=256,shuffle=True)\n",
        "testloader = torch.utils.data.DataLoader(testset, batch_size=256,shuffle=False)"
      ],
      "execution_count": 18,
      "outputs": []
    },
    {
      "cell_type": "code",
      "metadata": {
        "id": "SadRzWBBZEsP"
      },
      "source": [
        "class CNN(nn.Module):\n",
        "  def __init__(self):\n",
        "    super(CNN, self).__init__()\n",
        "    self.conv1 = nn.Conv2d(in_channels=3, out_channels=32, kernel_size=3, padding=0)\n",
        "    self.conv2 = nn.Conv2d(in_channels=32, out_channels=64, kernel_size=3, padding=0)\n",
        "    self.conv3 = nn.Conv2d(in_channels=64, out_channels=128, kernel_size=3, padding=0)\n",
        "    self.conv4 = nn.Conv2d(in_channels=128, out_channels=128, kernel_size=3, padding=0)\n",
        "    self.conv5 = nn.Conv2d(in_channels=128, out_channels=128, kernel_size=3, padding=0)\n",
        "    self.conv6 = nn.Conv2d(in_channels=128, out_channels=128, kernel_size=3, padding=1)\n",
        "    self.pool = nn.MaxPool2d(kernel_size=2, stride=2)\n",
        "    self.batch_norm1 = nn.BatchNorm2d(32, track_running_stats = False)\n",
        "    self.batch_norm2 = nn.BatchNorm2d(128, track_running_stats = False)\n",
        "    self.dropout1 = nn.Dropout2d(p=0.05)\n",
        "    self.dropout2 = nn.Dropout2d(p=0.1)\n",
        "    self.fc1 = nn.Linear(128,64)\n",
        "    self.fc2 = nn.Linear(64, 32)\n",
        "    self.fc3 = nn.Linear(32, 10)\n",
        "\n",
        "\n",
        "  def forward(self, x):\n",
        "    x = self.conv1(x)\n",
        "    x = F.relu(self.batch_norm1(x))\n",
        "\n",
        "    x = (F.relu(self.conv2(x)))\n",
        "    x = self.pool(x)\n",
        "    \n",
        "    x = self.conv3(x)\n",
        "    x = F.relu(self.batch_norm2(x))\n",
        "\n",
        "    x = (F.relu(self.conv4(x)))\n",
        "    x = self.pool(x)\n",
        "    x = self.dropout1(x)\n",
        "\n",
        "    x = self.conv5(x)\n",
        "    x = F.relu(self.batch_norm2(x))\n",
        "\n",
        "    x = (F.relu(self.conv6(x)))\n",
        "    x = self.pool(x)\n",
        "\n",
        "    x = x.view(x.size(0), -1)\n",
        "\n",
        "    x = self.dropout2(x)\n",
        "    x = F.relu(self.fc1(x))\n",
        "    x = F.relu(self.fc2(x))\n",
        "    x = self.dropout2(x)\n",
        "    x = self.fc3(x)\n",
        "    return x"
      ],
      "execution_count": 19,
      "outputs": []
    },
    {
      "cell_type": "code",
      "metadata": {
        "id": "1GvXR1zV5n4w"
      },
      "source": [
        "cnn_net = CNN()#.double()\n",
        "cnn_net = cnn_net.to(\"cuda\")"
      ],
      "execution_count": 20,
      "outputs": []
    },
    {
      "cell_type": "code",
      "metadata": {
        "id": "cO37uxDTXDBV",
        "outputId": "55797b3f-f912-4e29-9da5-4e0fad44020e",
        "colab": {
          "base_uri": "https://localhost:8080/",
          "height": 316
        }
      },
      "source": [
        "print(cnn_net)"
      ],
      "execution_count": 21,
      "outputs": [
        {
          "output_type": "stream",
          "text": [
            "CNN(\n",
            "  (conv1): Conv2d(3, 32, kernel_size=(3, 3), stride=(1, 1))\n",
            "  (conv2): Conv2d(32, 64, kernel_size=(3, 3), stride=(1, 1))\n",
            "  (conv3): Conv2d(64, 128, kernel_size=(3, 3), stride=(1, 1))\n",
            "  (conv4): Conv2d(128, 128, kernel_size=(3, 3), stride=(1, 1))\n",
            "  (conv5): Conv2d(128, 128, kernel_size=(3, 3), stride=(1, 1))\n",
            "  (conv6): Conv2d(128, 128, kernel_size=(3, 3), stride=(1, 1), padding=(1, 1))\n",
            "  (pool): MaxPool2d(kernel_size=2, stride=2, padding=0, dilation=1, ceil_mode=False)\n",
            "  (batch_norm1): BatchNorm2d(32, eps=1e-05, momentum=0.1, affine=True, track_running_stats=False)\n",
            "  (batch_norm2): BatchNorm2d(128, eps=1e-05, momentum=0.1, affine=True, track_running_stats=False)\n",
            "  (dropout1): Dropout2d(p=0.05, inplace=False)\n",
            "  (dropout2): Dropout2d(p=0.1, inplace=False)\n",
            "  (fc1): Linear(in_features=128, out_features=64, bias=True)\n",
            "  (fc2): Linear(in_features=64, out_features=32, bias=True)\n",
            "  (fc3): Linear(in_features=32, out_features=10, bias=True)\n",
            ")\n"
          ],
          "name": "stdout"
        }
      ]
    },
    {
      "cell_type": "code",
      "metadata": {
        "id": "zfFdFpVOkBVl",
        "outputId": "18e87b36-871c-4317-e223-7d340bf96c27",
        "colab": {
          "base_uri": "https://localhost:8080/",
          "height": 428
        }
      },
      "source": [
        "for i,j in cnn_net.state_dict().items():\n",
        "  print(i)"
      ],
      "execution_count": 22,
      "outputs": [
        {
          "output_type": "stream",
          "text": [
            "conv1.weight\n",
            "conv1.bias\n",
            "conv2.weight\n",
            "conv2.bias\n",
            "conv3.weight\n",
            "conv3.bias\n",
            "conv4.weight\n",
            "conv4.bias\n",
            "conv5.weight\n",
            "conv5.bias\n",
            "conv6.weight\n",
            "conv6.bias\n",
            "batch_norm1.weight\n",
            "batch_norm1.bias\n",
            "batch_norm2.weight\n",
            "batch_norm2.bias\n",
            "fc1.weight\n",
            "fc1.bias\n",
            "fc2.weight\n",
            "fc2.bias\n",
            "fc3.weight\n",
            "fc3.bias\n"
          ],
          "name": "stdout"
        }
      ]
    },
    {
      "cell_type": "code",
      "metadata": {
        "id": "aIeDTIPhknNt",
        "outputId": "4edafca6-8aa9-4459-9b48-8648148e3d60",
        "colab": {
          "base_uri": "https://localhost:8080/",
          "height": 73
        }
      },
      "source": [
        "for i,j in cnn_net.state_dict().items():\n",
        "  if i == 'batch_norm1.weight':\n",
        "    print(i,j)"
      ],
      "execution_count": 23,
      "outputs": [
        {
          "output_type": "stream",
          "text": [
            "batch_norm1.weight tensor([1., 1., 1., 1., 1., 1., 1., 1., 1., 1., 1., 1., 1., 1., 1., 1., 1., 1.,\n",
            "        1., 1., 1., 1., 1., 1., 1., 1., 1., 1., 1., 1., 1., 1.],\n",
            "       device='cuda:0')\n"
          ],
          "name": "stdout"
        }
      ]
    },
    {
      "cell_type": "code",
      "metadata": {
        "id": "fek-B_uRlpLe",
        "outputId": "e03fd297-28bc-44bc-a927-2391c120079a",
        "colab": {
          "base_uri": "https://localhost:8080/",
          "height": 36
        }
      },
      "source": [
        "cnn_net.load_state_dict(torch.load(\"/content/drive/My Drive/Research/train_begining_layers_vs_last_layers/\"+\"cnn_net_6layer\"+\".pt\"))"
      ],
      "execution_count": 24,
      "outputs": [
        {
          "output_type": "execute_result",
          "data": {
            "text/plain": [
              "<All keys matched successfully>"
            ]
          },
          "metadata": {
            "tags": []
          },
          "execution_count": 24
        }
      ]
    },
    {
      "cell_type": "code",
      "metadata": {
        "id": "OqPjz2wXmOuo",
        "outputId": "b0bc7ca3-1316-4438-c090-f5fe6826dcc7",
        "colab": {
          "base_uri": "https://localhost:8080/",
          "height": 54
        }
      },
      "source": [
        "correct = 0\n",
        "total = 0\n",
        "with torch.no_grad():\n",
        "    for data in trainloader:\n",
        "        images, labels = data\n",
        "        images, labels = images.to(\"cuda\"), labels.to(\"cuda\")\n",
        "        outputs = cnn_net(images)\n",
        "        _, predicted = torch.max(outputs.data, 1)\n",
        "        total += labels.size(0)\n",
        "        correct += (predicted == labels).sum().item()\n",
        "\n",
        "print('Accuracy of the network on the %d train images: %d %%' % (total,  100 * correct / total))\n",
        "print(total,correct)"
      ],
      "execution_count": 25,
      "outputs": [
        {
          "output_type": "stream",
          "text": [
            "Accuracy of the network on the 50000 train images: 99 %\n",
            "50000 49890\n"
          ],
          "name": "stdout"
        }
      ]
    },
    {
      "cell_type": "code",
      "metadata": {
        "id": "jsYFqNdvmOu0",
        "outputId": "4a8e93b0-e28b-43bf-e665-56c9c74e0797",
        "colab": {
          "base_uri": "https://localhost:8080/",
          "height": 54
        }
      },
      "source": [
        "correct = 0\n",
        "total = 0\n",
        "out = []\n",
        "pred = []\n",
        "with torch.no_grad():\n",
        "    for data in testloader:\n",
        "        images, labels = data\n",
        "        images, labels = images.to(\"cuda\"),labels.to(\"cuda\")\n",
        "        out.append(labels.cpu().numpy())\n",
        "        outputs= cnn_net(images)\n",
        "        _, predicted = torch.max(outputs.data, 1)\n",
        "        pred.append(predicted.cpu().numpy())\n",
        "        total += labels.size(0)\n",
        "        correct += (predicted == labels).sum().item()\n",
        "\n",
        "print('Accuracy of the network on the 10000 test images: %d %%' % ( 100 * correct / total))\n",
        "print(total,correct)"
      ],
      "execution_count": 26,
      "outputs": [
        {
          "output_type": "stream",
          "text": [
            "Accuracy of the network on the 10000 test images: 81 %\n",
            "10000 8110\n"
          ],
          "name": "stdout"
        }
      ]
    },
    {
      "cell_type": "code",
      "metadata": {
        "id": "1DIuhJR1mOu8",
        "outputId": "f00fe303-2b63-4ce1-8c10-35aac49ff471",
        "colab": {
          "base_uri": "https://localhost:8080/",
          "height": 204
        }
      },
      "source": [
        "class_correct = list(0. for i in range(10))\n",
        "class_total = list(0. for i in range(10))\n",
        "with torch.no_grad():\n",
        "    for data in testloader:\n",
        "        images, labels = data\n",
        "        images, labels = images.to(\"cuda\"),labels.to(\"cuda\")\n",
        "        outputs = cnn_net(images)\n",
        "        _, predicted = torch.max(outputs, 1)\n",
        "        c = (predicted == labels).squeeze()\n",
        "        for i in range(4):\n",
        "            label = labels[i]\n",
        "            class_correct[label] += c[i].item()\n",
        "            class_total[label] += 1\n",
        "\n",
        "\n",
        "for i in range(10):\n",
        "    print('Accuracy of %5s : %2d %%' % (\n",
        "        classes[i], 100 * class_correct[i] / class_total[i]))"
      ],
      "execution_count": 27,
      "outputs": [
        {
          "output_type": "stream",
          "text": [
            "Accuracy of plane : 81 %\n",
            "Accuracy of   car : 100 %\n",
            "Accuracy of  bird : 92 %\n",
            "Accuracy of   cat : 59 %\n",
            "Accuracy of  deer : 76 %\n",
            "Accuracy of   dog : 66 %\n",
            "Accuracy of  frog : 72 %\n",
            "Accuracy of horse : 83 %\n",
            "Accuracy of  ship : 90 %\n",
            "Accuracy of truck : 76 %\n"
          ],
          "name": "stdout"
        }
      ]
    },
    {
      "cell_type": "code",
      "metadata": {
        "id": "fDlFI629oMXv",
        "outputId": "fe6b5de0-8fa4-4610-f2dc-3b73a5d59dfd",
        "colab": {
          "base_uri": "https://localhost:8080/",
          "height": 1000
        }
      },
      "source": [
        "print(cnn_net.conv4.weight.data)\n",
        "print(cnn_net.conv4.bias.data)\n"
      ],
      "execution_count": 28,
      "outputs": [
        {
          "output_type": "stream",
          "text": [
            "tensor([[[[ 0.0895, -0.0443,  0.0334],\n",
            "          [ 0.0455,  0.0136,  0.0606],\n",
            "          [-0.0395, -0.0712,  0.0144]],\n",
            "\n",
            "         [[-0.0098, -0.0118, -0.0410],\n",
            "          [-0.0450, -0.0729, -0.0400],\n",
            "          [-0.0862,  0.0162, -0.0055]],\n",
            "\n",
            "         [[ 0.0694,  0.0490, -0.0367],\n",
            "          [ 0.0427,  0.0560, -0.0512],\n",
            "          [-0.0559, -0.0446, -0.0295]],\n",
            "\n",
            "         ...,\n",
            "\n",
            "         [[ 0.0982,  0.0100,  0.0214],\n",
            "          [ 0.0862, -0.0232, -0.0026],\n",
            "          [ 0.0483, -0.0012,  0.0263]],\n",
            "\n",
            "         [[-0.0258,  0.0180, -0.0480],\n",
            "          [-0.1320, -0.0147, -0.0030],\n",
            "          [ 0.0096, -0.0164, -0.0145]],\n",
            "\n",
            "         [[ 0.0554,  0.0462,  0.0208],\n",
            "          [-0.0803, -0.0194,  0.0474],\n",
            "          [-0.0846, -0.0386, -0.0152]]],\n",
            "\n",
            "\n",
            "        [[[-0.0350, -0.0063,  0.0325],\n",
            "          [ 0.0450,  0.0508, -0.0103],\n",
            "          [-0.0696, -0.0369, -0.0723]],\n",
            "\n",
            "         [[ 0.0016, -0.0354, -0.0124],\n",
            "          [-0.0080, -0.0798,  0.0282],\n",
            "          [ 0.0278,  0.0849,  0.0449]],\n",
            "\n",
            "         [[-0.0645, -0.0708, -0.0096],\n",
            "          [-0.0520,  0.0473, -0.0929],\n",
            "          [-0.0137,  0.0637,  0.0681]],\n",
            "\n",
            "         ...,\n",
            "\n",
            "         [[-0.0589,  0.0903,  0.0619],\n",
            "          [-0.1044, -0.0624, -0.0885],\n",
            "          [ 0.0085, -0.0135, -0.0263]],\n",
            "\n",
            "         [[-0.0312, -0.0219,  0.0623],\n",
            "          [-0.0272, -0.0892,  0.0524],\n",
            "          [-0.0321,  0.0347,  0.0133]],\n",
            "\n",
            "         [[-0.0532, -0.0103,  0.0231],\n",
            "          [ 0.0009, -0.0155, -0.0522],\n",
            "          [-0.0529, -0.1556, -0.0129]]],\n",
            "\n",
            "\n",
            "        [[[ 0.0757,  0.0119,  0.0207],\n",
            "          [-0.0631,  0.0137, -0.0069],\n",
            "          [-0.0090, -0.0544, -0.0049]],\n",
            "\n",
            "         [[-0.0213, -0.0341,  0.0235],\n",
            "          [-0.0591, -0.0341, -0.0025],\n",
            "          [-0.0653,  0.0146, -0.0728]],\n",
            "\n",
            "         [[-0.0246,  0.0097, -0.0376],\n",
            "          [-0.0304, -0.0173, -0.0144],\n",
            "          [-0.0158,  0.0312, -0.0145]],\n",
            "\n",
            "         ...,\n",
            "\n",
            "         [[ 0.0478,  0.0216,  0.0012],\n",
            "          [ 0.0225, -0.0588,  0.0211],\n",
            "          [-0.1237, -0.0449, -0.0207]],\n",
            "\n",
            "         [[-0.0584, -0.0287, -0.0571],\n",
            "          [-0.0182,  0.0204, -0.0151],\n",
            "          [-0.0328, -0.0057, -0.0716]],\n",
            "\n",
            "         [[-0.0590,  0.0769,  0.0608],\n",
            "          [-0.0194, -0.0139,  0.0608],\n",
            "          [-0.0790, -0.0617, -0.0120]]],\n",
            "\n",
            "\n",
            "        ...,\n",
            "\n",
            "\n",
            "        [[[-0.0561,  0.0115,  0.0677],\n",
            "          [-0.0033, -0.0522, -0.0334],\n",
            "          [ 0.0611,  0.0121,  0.0286]],\n",
            "\n",
            "         [[ 0.0232, -0.0318, -0.0618],\n",
            "          [-0.0091,  0.0229, -0.0176],\n",
            "          [ 0.0383,  0.0227,  0.0068]],\n",
            "\n",
            "         [[-0.0072,  0.0418, -0.0007],\n",
            "          [-0.0875, -0.0258, -0.0739],\n",
            "          [-0.0668, -0.0575, -0.0325]],\n",
            "\n",
            "         ...,\n",
            "\n",
            "         [[-0.0577, -0.0156,  0.0235],\n",
            "          [ 0.0061,  0.0084, -0.0288],\n",
            "          [-0.0137, -0.0810, -0.0945]],\n",
            "\n",
            "         [[-0.1243,  0.0197,  0.0684],\n",
            "          [-0.0818, -0.0086,  0.0492],\n",
            "          [-0.0940,  0.0283, -0.0447]],\n",
            "\n",
            "         [[-0.0928, -0.0581, -0.0006],\n",
            "          [-0.0482,  0.0125,  0.0198],\n",
            "          [-0.0340, -0.0214,  0.0342]]],\n",
            "\n",
            "\n",
            "        [[[-0.1099, -0.0269,  0.0080],\n",
            "          [ 0.0186,  0.0052, -0.1057],\n",
            "          [-0.0095, -0.0193, -0.0716]],\n",
            "\n",
            "         [[-0.0440, -0.0555,  0.0555],\n",
            "          [-0.0602, -0.0138, -0.0025],\n",
            "          [-0.0336,  0.0139,  0.0496]],\n",
            "\n",
            "         [[-0.0185, -0.0211,  0.0254],\n",
            "          [ 0.0036, -0.0233,  0.0228],\n",
            "          [ 0.0173,  0.0243,  0.0708]],\n",
            "\n",
            "         ...,\n",
            "\n",
            "         [[-0.0571, -0.0021,  0.0196],\n",
            "          [-0.0238, -0.0256,  0.0645],\n",
            "          [ 0.0052,  0.0282,  0.0167]],\n",
            "\n",
            "         [[-0.0872, -0.0684, -0.0508],\n",
            "          [-0.0038, -0.0205,  0.0302],\n",
            "          [ 0.0448,  0.0088,  0.0814]],\n",
            "\n",
            "         [[-0.0501, -0.0513,  0.0080],\n",
            "          [ 0.0295, -0.0434, -0.0602],\n",
            "          [-0.0434, -0.0222, -0.0155]]],\n",
            "\n",
            "\n",
            "        [[[ 0.0658,  0.0553,  0.0358],\n",
            "          [-0.0477, -0.0036, -0.0021],\n",
            "          [-0.0291,  0.0754, -0.0072]],\n",
            "\n",
            "         [[ 0.0022,  0.0423,  0.0340],\n",
            "          [-0.0530, -0.0809, -0.0070],\n",
            "          [-0.0665, -0.0700, -0.0235]],\n",
            "\n",
            "         [[-0.0136, -0.0179, -0.0010],\n",
            "          [-0.0465, -0.0360,  0.0220],\n",
            "          [-0.0497, -0.0486, -0.0268]],\n",
            "\n",
            "         ...,\n",
            "\n",
            "         [[ 0.0015,  0.0204,  0.0319],\n",
            "          [-0.0206, -0.0329, -0.0407],\n",
            "          [-0.0099,  0.0138, -0.0156]],\n",
            "\n",
            "         [[-0.0720, -0.0421, -0.0067],\n",
            "          [-0.0374, -0.0477,  0.0020],\n",
            "          [ 0.0004, -0.0638, -0.0498]],\n",
            "\n",
            "         [[ 0.0402, -0.0035, -0.0323],\n",
            "          [-0.0523,  0.0457,  0.0014],\n",
            "          [-0.0311, -0.0072, -0.0193]]]], device='cuda:0')\n",
            "tensor([ 3.5547e-02,  5.1285e-02, -4.9968e-02, -1.7229e-02, -8.2272e-02,\n",
            "        -1.7841e-02,  5.6291e-02, -2.0950e-02, -6.0962e-02, -7.4329e-02,\n",
            "        -1.6378e-01, -3.2500e-02,  7.7670e-04,  6.0835e-02,  1.0224e-01,\n",
            "         8.3302e-02, -1.4893e-02, -8.2142e-03, -2.1117e-02, -7.2322e-02,\n",
            "         2.0681e-03,  4.0591e-03,  4.8718e-02, -4.1192e-03, -8.8142e-02,\n",
            "         8.4906e-02,  6.3477e-02, -4.4387e-02,  1.6665e-02,  2.4218e-02,\n",
            "         9.0461e-04,  4.1745e-02,  2.3980e-04,  3.8358e-02,  1.0593e-04,\n",
            "        -1.2900e-03,  1.1676e-02, -1.1144e-01,  5.8964e-03,  5.2644e-02,\n",
            "         1.4955e-02, -7.3670e-02,  8.7341e-02, -9.6210e-02,  1.7640e-02,\n",
            "         3.7529e-02, -6.6806e-02,  4.2459e-02,  1.2573e-02, -2.2096e-02,\n",
            "        -7.0877e-02, -1.4294e-01,  9.8575e-03, -1.0097e-01, -8.5815e-02,\n",
            "         5.2273e-02,  3.3161e-02,  6.7397e-02, -4.4231e-02, -4.7181e-02,\n",
            "        -1.8693e-02, -6.2479e-02,  5.9480e-02, -2.0942e-03, -1.1182e-02,\n",
            "        -1.5498e-02,  1.0576e-02,  4.3000e-02,  1.2492e-02, -4.5573e-02,\n",
            "         3.2537e-02,  3.9830e-02,  2.7504e-02, -2.9006e-02,  3.4705e-02,\n",
            "         6.3471e-02,  2.0245e-02, -1.1225e-01,  3.9744e-02, -3.7560e-02,\n",
            "         3.9986e-03, -3.2374e-02,  3.9604e-02,  3.6423e-02,  2.8193e-03,\n",
            "         3.6416e-02, -2.1582e-02, -7.1866e-03, -1.4238e-02,  8.7047e-03,\n",
            "         9.0718e-03,  1.6325e-02, -4.0622e-02, -4.8104e-02, -1.0540e-02,\n",
            "        -6.0097e-02,  1.8627e-02, -1.2497e-01, -1.7202e-02, -7.6314e-03,\n",
            "         1.0685e-02,  3.1573e-02,  1.0057e-02,  2.1927e-02, -9.7186e-03,\n",
            "        -2.6397e-02, -5.9816e-02, -1.3310e-01,  4.4819e-02,  1.1043e-04,\n",
            "         4.0515e-02,  2.7147e-02,  2.4444e-02,  4.0971e-02, -1.1147e-01,\n",
            "        -2.6102e-02, -7.3201e-02,  8.8782e-02,  1.9141e-02,  1.1505e-02,\n",
            "        -5.6487e-02, -6.6137e-03,  7.5288e-02, -2.6912e-02,  3.0269e-02,\n",
            "         8.4444e-02,  3.4885e-02,  2.2318e-02], device='cuda:0')\n"
          ],
          "name": "stdout"
        }
      ]
    },
    {
      "cell_type": "code",
      "metadata": {
        "id": "apTIj9b2mSOV"
      },
      "source": [
        "cnn_net.conv4 = nn.Conv2d(128, 128, kernel_size=(3, 3), stride=(1, 1)).to(\"cuda\")"
      ],
      "execution_count": 29,
      "outputs": []
    },
    {
      "cell_type": "code",
      "metadata": {
        "id": "3Go5Uo5Fo1EN",
        "outputId": "d369c45f-3124-40cb-aa52-10af06f13b77",
        "colab": {
          "base_uri": "https://localhost:8080/",
          "height": 1000
        }
      },
      "source": [
        "print(cnn_net.conv4.weight.data)\n",
        "print(cnn_net.conv4.bias.data)"
      ],
      "execution_count": 30,
      "outputs": [
        {
          "output_type": "stream",
          "text": [
            "tensor([[[[-6.7584e-03, -1.2017e-02,  1.3115e-02],\n",
            "          [ 1.5455e-02, -1.9145e-03,  2.2009e-02],\n",
            "          [-1.7018e-03, -4.6725e-03,  2.6122e-02]],\n",
            "\n",
            "         [[ 1.4732e-02, -2.8897e-02,  9.3259e-03],\n",
            "          [ 5.3789e-04, -2.6002e-02,  8.8322e-03],\n",
            "          [ 1.2006e-02, -8.7156e-03,  2.4196e-03]],\n",
            "\n",
            "         [[-1.4328e-02, -2.7359e-02, -2.3409e-02],\n",
            "          [ 1.8124e-02, -1.3683e-02,  5.8244e-03],\n",
            "          [ 1.2888e-02,  1.0070e-02, -2.9296e-02]],\n",
            "\n",
            "         ...,\n",
            "\n",
            "         [[ 2.4738e-02,  9.2259e-03, -2.2305e-02],\n",
            "          [-1.2584e-02, -1.3320e-02,  1.2075e-02],\n",
            "          [-2.2443e-02,  1.9700e-02, -7.8706e-03]],\n",
            "\n",
            "         [[ 9.7796e-03,  2.4775e-02,  2.0759e-02],\n",
            "          [ 1.9261e-02, -7.8243e-03,  1.2176e-02],\n",
            "          [-1.2169e-02,  1.9483e-02, -5.1132e-03]],\n",
            "\n",
            "         [[-9.4540e-03,  2.1776e-02, -2.8768e-02],\n",
            "          [-2.6362e-02, -1.0023e-02,  2.0384e-02],\n",
            "          [-9.0128e-03,  1.9403e-02,  1.2902e-02]]],\n",
            "\n",
            "\n",
            "        [[[ 8.2842e-03,  2.2607e-02,  1.4064e-02],\n",
            "          [ 1.0427e-02,  2.8130e-02,  2.7034e-02],\n",
            "          [-2.9386e-02,  8.7766e-03, -4.0173e-03]],\n",
            "\n",
            "         [[ 6.5954e-03,  9.1571e-03,  2.3236e-02],\n",
            "          [-2.3898e-03,  2.1251e-02, -1.6534e-02],\n",
            "          [ 2.4833e-02, -4.8204e-03,  1.9076e-03]],\n",
            "\n",
            "         [[ 1.5294e-02,  2.0999e-02,  1.0749e-02],\n",
            "          [ 7.5992e-03, -1.6462e-02,  1.8793e-02],\n",
            "          [-2.3060e-02,  2.4137e-02,  2.4038e-02]],\n",
            "\n",
            "         ...,\n",
            "\n",
            "         [[-2.6764e-02, -2.5862e-02,  1.3806e-03],\n",
            "          [-7.7003e-03, -2.0549e-02, -2.6890e-02],\n",
            "          [-9.4962e-03, -8.0326e-03, -1.9533e-02]],\n",
            "\n",
            "         [[-1.5738e-02, -3.5562e-03, -1.9578e-02],\n",
            "          [-7.8593e-05, -2.1648e-02,  1.4779e-02],\n",
            "          [ 1.6455e-03, -1.7511e-02,  2.5355e-02]],\n",
            "\n",
            "         [[-1.8344e-02,  2.2290e-02, -1.2322e-02],\n",
            "          [-8.3895e-03, -1.4997e-02, -2.1863e-02],\n",
            "          [-5.9346e-03, -1.2397e-02, -6.1251e-03]]],\n",
            "\n",
            "\n",
            "        [[[ 1.6412e-02, -2.4412e-02, -2.5961e-02],\n",
            "          [ 7.5446e-04,  1.2676e-02,  9.3081e-03],\n",
            "          [-1.0325e-02, -2.1961e-02, -5.6615e-03]],\n",
            "\n",
            "         [[-2.7498e-02, -1.8289e-02, -7.0316e-03],\n",
            "          [ 1.0584e-02, -1.7121e-02,  2.9417e-02],\n",
            "          [-7.8468e-03,  1.9870e-02,  1.9276e-02]],\n",
            "\n",
            "         [[-3.4317e-04, -1.9861e-02,  1.0084e-02],\n",
            "          [-9.3514e-03,  1.9541e-02, -2.7001e-02],\n",
            "          [ 2.8785e-02, -1.5239e-02,  1.1774e-02]],\n",
            "\n",
            "         ...,\n",
            "\n",
            "         [[ 1.5487e-02, -9.1533e-04, -7.3523e-03],\n",
            "          [-1.1895e-02, -1.3908e-02,  2.7688e-02],\n",
            "          [-2.0890e-03,  8.4222e-03, -2.1036e-02]],\n",
            "\n",
            "         [[-3.4916e-04,  1.9872e-02, -7.7604e-04],\n",
            "          [-1.2896e-02,  1.7038e-02,  2.3525e-02],\n",
            "          [-2.7186e-02, -5.0932e-03,  9.9702e-03]],\n",
            "\n",
            "         [[-1.7305e-03, -1.3111e-03,  1.4259e-02],\n",
            "          [-6.5255e-03,  6.1248e-03, -2.8189e-02],\n",
            "          [ 7.2782e-03,  1.5706e-02, -7.0887e-04]]],\n",
            "\n",
            "\n",
            "        ...,\n",
            "\n",
            "\n",
            "        [[[ 2.5787e-02, -1.0308e-02,  1.9238e-02],\n",
            "          [-3.7068e-03,  2.4912e-02, -1.9938e-03],\n",
            "          [ 1.7118e-02,  7.8199e-03,  2.3085e-02]],\n",
            "\n",
            "         [[ 4.4027e-03, -1.9967e-02, -9.8486e-03],\n",
            "          [-9.4723e-03,  2.5910e-02,  2.7650e-02],\n",
            "          [ 1.0442e-02, -1.9687e-03,  1.3764e-02]],\n",
            "\n",
            "         [[-1.1922e-02,  1.1606e-02,  2.5985e-02],\n",
            "          [-2.1142e-02,  1.0922e-02, -2.9024e-02],\n",
            "          [ 2.7680e-02,  2.7322e-02,  2.7846e-02]],\n",
            "\n",
            "         ...,\n",
            "\n",
            "         [[ 2.6608e-02,  1.1748e-02, -2.4189e-02],\n",
            "          [ 1.0450e-02,  2.4727e-02,  5.4334e-03],\n",
            "          [ 1.4320e-04,  1.0054e-02, -1.0806e-02]],\n",
            "\n",
            "         [[-8.7969e-03, -1.7753e-02, -2.0344e-02],\n",
            "          [-2.0127e-02,  1.4045e-02,  1.8710e-03],\n",
            "          [-1.8024e-02,  4.9973e-03, -9.4675e-03]],\n",
            "\n",
            "         [[-2.8325e-02,  1.3161e-02, -5.6848e-03],\n",
            "          [-6.2970e-03, -3.9783e-03, -1.0708e-02],\n",
            "          [ 2.7654e-02,  1.9579e-03, -2.6351e-03]]],\n",
            "\n",
            "\n",
            "        [[[-4.7372e-04,  1.1931e-02, -2.0323e-02],\n",
            "          [ 5.9822e-03,  1.5734e-02, -2.2776e-02],\n",
            "          [-2.0913e-02, -1.2465e-02, -3.6584e-03]],\n",
            "\n",
            "         [[ 2.9242e-02,  1.5633e-02, -6.5501e-03],\n",
            "          [-2.2282e-02,  2.8000e-02,  2.1599e-02],\n",
            "          [ 2.6108e-02,  1.9644e-02,  2.4898e-02]],\n",
            "\n",
            "         [[-1.1014e-02,  6.8434e-03,  6.9695e-03],\n",
            "          [-3.6009e-03, -1.9600e-02,  4.1545e-04],\n",
            "          [ 1.0080e-02,  1.5465e-02,  2.4757e-02]],\n",
            "\n",
            "         ...,\n",
            "\n",
            "         [[-3.5259e-04,  1.8788e-03, -1.0309e-02],\n",
            "          [ 1.2994e-02,  1.4908e-02, -1.1899e-02],\n",
            "          [-5.1113e-03, -1.7295e-02, -2.3018e-02]],\n",
            "\n",
            "         [[-1.0160e-02, -2.8525e-02,  2.2249e-02],\n",
            "          [ 1.3989e-02,  1.7948e-02, -2.2239e-02],\n",
            "          [-2.9074e-02,  2.8430e-02, -1.4013e-02]],\n",
            "\n",
            "         [[-1.1830e-02,  4.8963e-03,  8.1197e-03],\n",
            "          [-2.5766e-02, -2.5946e-02,  5.5593e-03],\n",
            "          [-1.7462e-02, -9.4227e-03, -1.8828e-02]]],\n",
            "\n",
            "\n",
            "        [[[-8.4383e-03, -4.4288e-03, -1.6008e-03],\n",
            "          [-2.8669e-02,  8.3909e-03, -5.7920e-03],\n",
            "          [ 2.2272e-02, -1.0749e-02,  1.7131e-02]],\n",
            "\n",
            "         [[-1.5017e-02,  1.1509e-02,  4.8050e-04],\n",
            "          [ 3.9294e-03, -1.6162e-02, -6.6809e-04],\n",
            "          [-2.6694e-02, -1.3332e-03,  8.2632e-03]],\n",
            "\n",
            "         [[-2.3962e-02, -1.9627e-02, -1.4668e-03],\n",
            "          [-2.6599e-02, -2.5292e-02, -6.8559e-05],\n",
            "          [ 2.5917e-02,  1.2960e-02,  1.3816e-02]],\n",
            "\n",
            "         ...,\n",
            "\n",
            "         [[ 2.5191e-02,  2.1361e-02,  1.1154e-02],\n",
            "          [-1.8756e-02, -8.7622e-03,  8.0101e-04],\n",
            "          [ 2.9369e-02,  6.0226e-03,  2.2081e-02]],\n",
            "\n",
            "         [[ 1.4458e-02,  7.9467e-03,  8.9012e-03],\n",
            "          [-6.2075e-05,  2.6734e-02, -8.4292e-03],\n",
            "          [-1.2072e-02, -1.7033e-02, -9.2508e-03]],\n",
            "\n",
            "         [[ 2.8276e-02,  1.9183e-02,  2.2716e-02],\n",
            "          [ 1.4378e-03,  2.7958e-02, -2.5897e-02],\n",
            "          [-1.0141e-02,  6.1322e-03,  7.6484e-03]]]], device='cuda:0')\n",
            "tensor([-2.8434e-02,  9.1522e-03,  1.8834e-02,  1.6237e-02,  2.5777e-02,\n",
            "        -8.0413e-03, -2.9242e-02, -2.5151e-02, -2.1764e-02, -2.8286e-02,\n",
            "        -6.3442e-03, -2.4211e-02,  2.1401e-02,  1.3240e-02,  2.6290e-02,\n",
            "         1.7345e-03, -7.2735e-03,  2.8634e-02, -1.2253e-02, -2.6630e-02,\n",
            "        -2.1097e-02, -4.1345e-03, -2.9029e-02, -2.4270e-02, -2.3612e-02,\n",
            "         1.4091e-02, -1.8160e-02,  1.0511e-02, -4.2320e-04,  4.4563e-03,\n",
            "         2.4537e-03,  2.6283e-02,  9.9538e-03,  1.8823e-02, -2.4476e-02,\n",
            "        -2.3015e-02,  2.8240e-02,  2.2499e-02, -4.7824e-03, -2.3854e-02,\n",
            "        -2.3081e-02,  1.1914e-02,  2.8965e-02, -2.1828e-03,  1.7579e-02,\n",
            "         1.5052e-02,  1.4091e-02, -1.7807e-06,  1.8699e-02,  1.1545e-02,\n",
            "        -1.3643e-02,  6.0612e-03, -6.8599e-03, -1.5939e-02, -1.4989e-02,\n",
            "        -2.2585e-03,  2.6559e-02,  1.2059e-02, -2.6555e-02, -2.3095e-02,\n",
            "        -2.3020e-02,  2.2920e-02,  2.2746e-02, -7.7939e-03, -9.1190e-03,\n",
            "        -2.0345e-02,  2.6123e-02, -1.8962e-02,  1.0296e-02,  2.1237e-02,\n",
            "        -8.9195e-03,  2.1897e-02, -5.9378e-03, -1.5045e-02, -2.5293e-02,\n",
            "         2.5630e-02, -1.3936e-03, -1.8462e-02, -1.2071e-02, -2.5429e-02,\n",
            "         3.3745e-03,  2.0521e-02,  2.0835e-02,  2.1491e-02,  2.8276e-02,\n",
            "        -1.0772e-02,  2.7226e-02,  1.5237e-03, -1.3954e-02,  5.2946e-03,\n",
            "        -1.1242e-02, -1.5214e-02,  3.3580e-03, -6.2140e-03,  3.6568e-03,\n",
            "         1.6135e-02,  1.8201e-02,  2.6476e-02,  2.0542e-03, -2.1981e-02,\n",
            "        -2.4592e-02,  5.0790e-03, -1.1124e-03,  2.0183e-02, -2.2955e-02,\n",
            "         1.2776e-02, -1.9072e-02, -2.8848e-02, -1.9977e-03,  4.6438e-03,\n",
            "        -1.4659e-02,  2.9564e-03,  2.4812e-02,  1.2873e-02,  4.5116e-03,\n",
            "        -1.3012e-02,  1.0097e-02, -1.1608e-03,  2.2598e-02,  4.3847e-03,\n",
            "         1.4272e-02,  1.7385e-02, -2.6192e-02,  1.8645e-02,  1.0875e-02,\n",
            "         1.2207e-02,  2.8660e-02, -1.9040e-02], device='cuda:0')\n"
          ],
          "name": "stdout"
        }
      ]
    },
    {
      "cell_type": "code",
      "metadata": {
        "id": "3uqblR7TpDNG"
      },
      "source": [
        "cnn_net.conv5 = nn.Conv2d(128, 128, kernel_size=(3, 3), stride=(1, 1)).to(\"cuda\")"
      ],
      "execution_count": 31,
      "outputs": []
    },
    {
      "cell_type": "code",
      "metadata": {
        "id": "AG_yfo7XpGp3"
      },
      "source": [
        "cnn_net.conv6 = nn.Conv2d(128, 128, kernel_size=(3, 3), stride=(1, 1), padding=(1, 1)).to(\"cuda\")"
      ],
      "execution_count": 32,
      "outputs": []
    },
    {
      "cell_type": "code",
      "metadata": {
        "id": "TjkvygVgqAN-",
        "outputId": "3a72addc-eccb-4b72-c7e0-2dbdbe92c26c",
        "colab": {
          "base_uri": "https://localhost:8080/",
          "height": 820
        }
      },
      "source": [
        "print(cnn_net.fc3.weight.data)\n",
        "print(cnn_net.fc3.bias.data)"
      ],
      "execution_count": 33,
      "outputs": [
        {
          "output_type": "stream",
          "text": [
            "tensor([[-0.4068, -0.4362,  0.0698, -0.3009, -0.2752, -0.3439,  0.5828,  0.0313,\n",
            "         -0.4780,  0.3515, -0.0035,  0.0459,  0.4003, -0.3748,  0.3472,  0.2498,\n",
            "          0.4995, -0.1166,  0.4188, -0.5902, -0.2113, -0.4722,  0.4010,  0.1269,\n",
            "         -0.1493, -0.1191,  0.0255,  0.3614,  0.4943, -0.0487, -0.1117,  0.1074],\n",
            "        [ 0.4860, -0.1692, -0.3556, -0.5147, -0.1048,  0.5005, -0.1668, -0.1168,\n",
            "          0.1488,  0.3921, -0.3384,  0.1250,  0.4053,  0.1653,  0.3789, -0.5523,\n",
            "         -0.3681, -0.1684,  0.4482,  0.4026,  0.0031, -0.4201, -0.6754,  0.3405,\n",
            "         -0.5888, -0.2481,  0.3360, -0.4205, -0.1408,  0.2216,  0.1392,  0.1215],\n",
            "        [-0.2789,  0.4528, -0.4783, -0.4807,  0.0971, -0.5562,  0.4739,  0.5400,\n",
            "          0.5873, -0.5037, -0.5427,  0.0328, -0.3043,  0.2666,  0.3060, -0.3784,\n",
            "          0.4711,  0.0903, -0.5264,  0.3474, -0.1667,  0.3545,  0.3225, -0.1508,\n",
            "         -0.1958,  0.3797,  0.2279, -0.0640,  0.4855,  0.1493,  0.1738,  0.1140],\n",
            "        [ 0.3289,  0.4522,  0.4668,  0.3493, -0.1428,  0.2711,  0.4038,  0.4890,\n",
            "         -0.3751, -0.4215,  0.3296,  0.1230,  0.2425,  0.5616, -0.6587, -0.4027,\n",
            "         -0.3762, -0.1929, -0.1012,  0.2489, -0.6735,  0.4301,  0.2340,  0.0781,\n",
            "          0.2441,  0.2360, -0.5708, -0.4778,  0.1337, -0.6653,  0.0983, -0.1150],\n",
            "        [-0.4032,  0.5288, -0.0080, -0.4232,  0.3303, -0.2449, -0.0151, -0.3593,\n",
            "         -0.4682,  0.3072,  0.4262, -0.1344, -0.7306, -0.0648, -0.1343,  0.3864,\n",
            "          0.1562, -0.1490, -0.5615,  0.3820, -0.2095,  0.5483, -0.0546, -0.2644,\n",
            "          0.4424, -0.2449, -0.4447,  0.3160,  0.5625,  0.3718, -0.0133,  0.1483],\n",
            "        [-0.5704,  0.5857, -0.4567,  0.4644, -0.3570,  0.4026, -0.5855,  0.6075,\n",
            "          0.3676, -0.4342, -0.6315, -0.0527,  0.1545, -0.3797, -0.1521, -0.2852,\n",
            "         -0.5220, -0.0358, -0.3658, -0.1857,  0.4872,  0.5649,  0.4346, -0.3508,\n",
            "          0.4748, -0.0811, -0.1295, -0.0910, -0.1351, -0.2389,  0.0591,  0.0177],\n",
            "        [ 0.3921, -0.4368,  0.5069, -0.3563, -0.1115,  0.2279, -0.2637, -0.1209,\n",
            "         -0.1741, -0.2213, -0.2820, -0.0220, -0.1668, -0.0300,  0.1330,  0.5419,\n",
            "         -0.3194, -0.1582, -0.4504,  0.3850, -0.1022,  0.4744,  0.3138, -0.2159,\n",
            "         -0.2748,  0.6445,  0.3577, -0.3856, -0.3634,  0.4682,  0.0631, -0.1761],\n",
            "        [-0.2589,  0.5244, -0.2349,  0.4298,  0.4036, -0.2548, -0.4262, -0.2879,\n",
            "          0.5013,  0.2591, -0.3597, -0.1792, -0.6286,  0.1151,  0.1144,  0.2917,\n",
            "         -0.1249, -0.1697,  0.2262, -0.5633,  0.3384, -0.2551,  0.0012,  0.4479,\n",
            "          0.4145, -0.1887,  0.0391,  0.2947, -0.3030, -0.0302,  0.0895, -0.0344],\n",
            "        [ 0.4391, -0.4546,  0.3587, -0.0016, -0.1667, -0.4702,  0.5865, -0.4129,\n",
            "          0.0547, -0.2411,  0.4749, -0.0153,  0.3944,  0.5756, -0.3905, -0.4506,\n",
            "          0.5123,  0.1670,  0.4200, -0.0340,  0.0024, -0.5057, -0.1569, -0.3534,\n",
            "         -0.6797, -0.1698,  0.3337, -0.4385, -0.2836,  0.2245, -0.1709,  0.0516],\n",
            "        [ 0.4716, -0.6065,  0.1212,  0.2563, -0.2202,  0.4773, -0.0269, -0.0911,\n",
            "         -0.3787,  0.4273,  0.4515,  0.0135,  0.3658, -0.3292, -0.4951,  0.3432,\n",
            "         -0.2997,  0.0418,  0.4324, -0.4652, -0.3529, -0.4998, -0.8299,  0.2222,\n",
            "          0.2893, -0.1870, -0.4579,  0.0425, -0.2482, -0.0503, -0.0790,  0.0552]],\n",
            "       device='cuda:0')\n",
            "tensor([ 0.0398, -0.1564, -0.1470,  0.3356, -0.2395, -0.0606, -0.1550,  0.0312,\n",
            "        -0.0899,  0.0218], device='cuda:0')\n"
          ],
          "name": "stdout"
        }
      ]
    },
    {
      "cell_type": "code",
      "metadata": {
        "id": "v1HFnxJUpQYX"
      },
      "source": [
        "cnn_net.fc1 = nn.Linear(128,64).to(\"cuda\")\n",
        "cnn_net.fc2 = nn.Linear(64, 32).to(\"cuda\")\n",
        "cnn_net.fc3 = nn.Linear(32, 10).to(\"cuda\")"
      ],
      "execution_count": 34,
      "outputs": []
    },
    {
      "cell_type": "code",
      "metadata": {
        "id": "VQJfwwyjqKcG",
        "outputId": "3151329b-a5c3-4728-e8a1-c9dfe177c48c",
        "colab": {
          "base_uri": "https://localhost:8080/",
          "height": 1000
        }
      },
      "source": [
        "print(cnn_net.fc3.weight.data)\n",
        "print(cnn_net.fc3.bias.data)"
      ],
      "execution_count": 35,
      "outputs": [
        {
          "output_type": "stream",
          "text": [
            "tensor([[-8.4360e-02,  7.0599e-02,  1.1115e-01,  1.6262e-01,  1.1837e-01,\n",
            "         -5.5130e-02,  4.9191e-03,  6.2032e-03, -1.1298e-02, -1.4745e-01,\n",
            "          2.7425e-02,  6.4352e-02,  1.5184e-01,  8.0667e-02,  1.2357e-01,\n",
            "          1.6944e-01, -7.1308e-02,  4.1756e-02,  4.1072e-02, -6.2947e-02,\n",
            "          3.9309e-02, -1.5526e-01, -4.2489e-02,  1.1244e-01, -1.0087e-01,\n",
            "          8.8317e-02,  1.6033e-01, -5.3265e-02,  8.2476e-02,  1.6181e-01,\n",
            "          1.4650e-01, -4.9903e-02],\n",
            "        [ 1.3040e-01, -1.1805e-01,  1.2587e-01, -9.4154e-02, -3.3288e-02,\n",
            "         -1.3413e-01, -1.3299e-01, -8.7083e-02,  5.7786e-02, -7.9633e-03,\n",
            "          1.1491e-01,  1.4066e-01, -6.3572e-02, -8.0789e-02, -1.0760e-01,\n",
            "         -9.6073e-02, -4.7574e-02, -5.8173e-02,  9.5207e-02,  5.3442e-05,\n",
            "         -8.2671e-02, -1.5538e-01, -7.1725e-02,  3.9286e-02,  6.8651e-02,\n",
            "          1.4928e-02,  6.0185e-02,  2.6514e-02,  5.7601e-02,  1.3290e-01,\n",
            "         -1.4836e-03, -1.4410e-01],\n",
            "        [-1.5814e-01,  1.4982e-01,  3.8747e-02,  1.4864e-01,  1.0540e-01,\n",
            "          8.6854e-02,  6.5246e-02, -7.9435e-02, -1.6027e-01,  1.2697e-01,\n",
            "         -1.7277e-01, -1.2769e-01, -1.2141e-01, -1.2371e-01, -1.6406e-01,\n",
            "          1.3187e-01,  1.2921e-01,  5.6538e-02, -1.1752e-01, -5.5589e-02,\n",
            "          3.3527e-02, -1.0936e-01, -7.5530e-02, -1.3649e-01, -7.2904e-02,\n",
            "          1.0006e-01, -1.4903e-01,  8.4077e-04, -5.0312e-02,  1.6760e-01,\n",
            "          8.7600e-02,  3.2454e-02],\n",
            "        [ 6.9250e-02,  2.2287e-02, -1.3621e-01, -1.3264e-01, -6.0413e-02,\n",
            "          1.5257e-01, -1.4414e-02, -4.6578e-03,  1.7206e-01,  6.0825e-02,\n",
            "          1.4271e-01,  1.4765e-01, -7.0350e-03,  3.4205e-02,  2.1499e-02,\n",
            "         -4.2319e-02,  1.6080e-01, -4.8443e-02, -1.4938e-01,  1.5240e-01,\n",
            "         -1.1209e-02, -1.6302e-01, -7.0365e-02, -1.3813e-02, -3.5357e-02,\n",
            "          9.4475e-02,  9.7779e-02,  1.6622e-01,  4.2219e-02, -2.2680e-02,\n",
            "          1.6658e-01,  1.6171e-01],\n",
            "        [-1.6840e-01,  3.9515e-02, -2.1705e-02,  2.5436e-02, -1.2616e-01,\n",
            "          4.3355e-02, -1.8798e-02, -4.2415e-02,  1.6829e-01, -4.8431e-03,\n",
            "         -5.1285e-02, -6.0599e-02, -1.6187e-01, -9.7017e-02, -1.1581e-01,\n",
            "          1.5181e-01,  3.8245e-02,  1.5778e-02,  1.5402e-01, -6.7687e-02,\n",
            "          6.8039e-02, -1.0867e-01,  1.5577e-01, -3.9468e-02, -9.7260e-02,\n",
            "         -6.4882e-02, -1.1662e-01, -5.6591e-02,  1.9148e-02, -1.4340e-01,\n",
            "         -1.4764e-01,  2.7842e-02],\n",
            "        [-8.7378e-02,  4.2850e-02, -1.4404e-01,  1.4352e-01, -8.3125e-02,\n",
            "         -1.0260e-01, -5.4688e-02, -1.3228e-01,  1.1819e-01, -1.2855e-01,\n",
            "          1.1000e-02,  1.7425e-01, -1.2162e-01,  6.6397e-02,  1.2343e-01,\n",
            "          1.3911e-01, -8.4349e-02, -9.6415e-02,  5.8871e-02, -1.0018e-01,\n",
            "         -1.1417e-02, -3.1139e-02,  1.5791e-01,  3.5029e-02, -4.5116e-02,\n",
            "          3.1554e-02,  4.8627e-02, -1.5228e-01,  1.6650e-01, -1.3094e-02,\n",
            "          8.0898e-02, -7.1545e-02],\n",
            "        [-1.5623e-01, -1.3812e-01,  1.5232e-01, -5.1500e-02, -1.1183e-01,\n",
            "          5.2213e-02,  1.6515e-01, -8.2282e-02,  1.1661e-01,  9.6469e-02,\n",
            "         -1.4579e-01, -1.7472e-01,  3.4393e-02,  1.3370e-01, -1.2751e-01,\n",
            "         -1.1837e-01, -6.3270e-02, -4.3588e-02, -1.8127e-02,  1.1822e-01,\n",
            "          1.0025e-01, -3.5506e-02,  1.7500e-01, -5.4984e-02, -4.7408e-02,\n",
            "         -1.0058e-01, -5.2459e-02, -1.5436e-01,  1.6589e-01, -1.1862e-01,\n",
            "          9.7221e-02, -8.9659e-02],\n",
            "        [-5.5503e-02, -1.7166e-01,  1.1210e-01,  1.7360e-01,  1.4604e-01,\n",
            "         -6.3277e-02, -1.4377e-01, -8.1825e-02,  3.8599e-02, -2.1267e-02,\n",
            "         -1.0021e-01,  8.9226e-02,  5.4517e-05,  9.8945e-02, -7.1312e-02,\n",
            "          1.7182e-01, -5.8366e-03,  1.4327e-01, -3.8627e-02, -1.1462e-01,\n",
            "         -2.5124e-02, -1.0483e-01, -1.4136e-01, -3.8281e-02, -5.5243e-02,\n",
            "         -8.0333e-02,  1.5745e-01, -6.3093e-03,  7.4663e-02,  9.2739e-02,\n",
            "         -4.8042e-02, -1.5523e-01],\n",
            "        [-4.4019e-02, -4.6125e-02,  9.2824e-02,  9.5282e-02,  2.5895e-02,\n",
            "         -2.7606e-03,  9.5114e-02, -4.0003e-02,  1.5949e-01, -4.9605e-02,\n",
            "          1.7255e-01,  1.0108e-01, -1.3352e-01, -2.2811e-02, -1.5603e-01,\n",
            "         -7.6574e-02, -1.3095e-01,  1.1885e-01, -5.8106e-02,  8.9892e-02,\n",
            "         -1.3786e-01,  1.5360e-01,  1.4072e-01, -1.3002e-01, -1.4545e-01,\n",
            "         -1.0683e-01, -6.2429e-02,  1.6527e-01, -6.6770e-02,  1.6201e-01,\n",
            "          4.3697e-02, -8.5548e-03],\n",
            "        [ 1.3988e-01, -1.6688e-02,  1.4620e-01, -4.8413e-02,  1.4972e-01,\n",
            "         -8.5036e-02,  8.5393e-02,  9.3946e-02,  6.4778e-02, -1.0027e-02,\n",
            "         -1.5059e-01, -1.7474e-02, -3.5612e-02,  4.1606e-02,  1.7244e-01,\n",
            "         -1.1147e-01,  1.1156e-01,  1.5165e-01,  4.0283e-02, -1.5382e-01,\n",
            "         -3.4546e-03, -1.3320e-02,  8.6581e-02, -1.6694e-02,  1.5592e-01,\n",
            "         -1.3054e-01,  1.4322e-01,  2.2022e-02, -1.3104e-01, -1.5810e-01,\n",
            "          6.9709e-02,  1.4810e-01]], device='cuda:0')\n",
            "tensor([-0.1557,  0.0830, -0.0384, -0.0416, -0.1695, -0.1591,  0.1542,  0.0015,\n",
            "        -0.0455, -0.0228], device='cuda:0')\n"
          ],
          "name": "stdout"
        }
      ]
    },
    {
      "cell_type": "code",
      "metadata": {
        "id": "9VD5hmd2qPB4"
      },
      "source": [
        "cnn_net.conv1.weight.requires_grad  = False\n",
        "cnn_net.conv1.bias.requires_grad  = False\n",
        "cnn_net.conv2.weight.requires_grad  = False\n",
        "cnn_net.conv2.bias.requires_grad  = False\n",
        "cnn_net.conv3.weight.requires_grad  = False\n",
        "cnn_net.conv3.bias.requires_grad  = False"
      ],
      "execution_count": 36,
      "outputs": []
    },
    {
      "cell_type": "code",
      "metadata": {
        "id": "Xhi9rNWpqgrv",
        "outputId": "26d9dfd5-b0e5-4d22-b2b8-1708cd6747bd",
        "colab": {
          "base_uri": "https://localhost:8080/",
          "height": 428
        }
      },
      "source": [
        "for param in cnn_net.parameters():\n",
        "  print(param.requires_grad)"
      ],
      "execution_count": 37,
      "outputs": [
        {
          "output_type": "stream",
          "text": [
            "False\n",
            "False\n",
            "False\n",
            "False\n",
            "False\n",
            "False\n",
            "True\n",
            "True\n",
            "True\n",
            "True\n",
            "True\n",
            "True\n",
            "True\n",
            "True\n",
            "True\n",
            "True\n",
            "True\n",
            "True\n",
            "True\n",
            "True\n",
            "True\n",
            "True\n"
          ],
          "name": "stdout"
        }
      ]
    },
    {
      "cell_type": "code",
      "metadata": {
        "id": "YicAYgZAxHUI",
        "outputId": "0584980a-61d5-4540-dc31-dab1620a97ad",
        "colab": {
          "base_uri": "https://localhost:8080/",
          "height": 54
        }
      },
      "source": [
        "correct = 0\n",
        "total = 0\n",
        "with torch.no_grad():\n",
        "    for data in trainloader:\n",
        "        images, labels = data\n",
        "        images, labels = images.to(\"cuda\"), labels.to(\"cuda\")\n",
        "        outputs = cnn_net(images)\n",
        "        _, predicted = torch.max(outputs.data, 1)\n",
        "        total += labels.size(0)\n",
        "        correct += (predicted == labels).sum().item()\n",
        "\n",
        "print('Accuracy of the network on the %d train images: %d %%' % (total,  100 * correct / total))\n",
        "print(total,correct)"
      ],
      "execution_count": 38,
      "outputs": [
        {
          "output_type": "stream",
          "text": [
            "Accuracy of the network on the 50000 train images: 10 %\n",
            "50000 5065\n"
          ],
          "name": "stdout"
        }
      ]
    },
    {
      "cell_type": "code",
      "metadata": {
        "id": "W8ACz9AlxHUX",
        "outputId": "9708df7e-3398-4fdc-f996-18e02bf52bfc",
        "colab": {
          "base_uri": "https://localhost:8080/",
          "height": 54
        }
      },
      "source": [
        "correct = 0\n",
        "total = 0\n",
        "out = []\n",
        "pred = []\n",
        "with torch.no_grad():\n",
        "    for data in testloader:\n",
        "        images, labels = data\n",
        "        images, labels = images.to(\"cuda\"),labels.to(\"cuda\")\n",
        "        out.append(labels.cpu().numpy())\n",
        "        outputs= cnn_net(images)\n",
        "        _, predicted = torch.max(outputs.data, 1)\n",
        "        pred.append(predicted.cpu().numpy())\n",
        "        total += labels.size(0)\n",
        "        correct += (predicted == labels).sum().item()\n",
        "\n",
        "print('Accuracy of the network on the 10000 test images: %d %%' % ( 100 * correct / total))\n",
        "print(total,correct)"
      ],
      "execution_count": 39,
      "outputs": [
        {
          "output_type": "stream",
          "text": [
            "Accuracy of the network on the 10000 test images: 10 %\n",
            "10000 1036\n"
          ],
          "name": "stdout"
        }
      ]
    },
    {
      "cell_type": "code",
      "metadata": {
        "id": "P_0ckt3pxHUf",
        "outputId": "ac7bdc2d-59de-44dc-cb37-0f97945cf035",
        "colab": {
          "base_uri": "https://localhost:8080/",
          "height": 204
        }
      },
      "source": [
        "class_correct = list(0. for i in range(10))\n",
        "class_total = list(0. for i in range(10))\n",
        "with torch.no_grad():\n",
        "    for data in testloader:\n",
        "        images, labels = data\n",
        "        images, labels = images.to(\"cuda\"),labels.to(\"cuda\")\n",
        "        outputs = cnn_net(images)\n",
        "        _, predicted = torch.max(outputs, 1)\n",
        "        c = (predicted == labels).squeeze()\n",
        "        for i in range(4):\n",
        "            label = labels[i]\n",
        "            class_correct[label] += c[i].item()\n",
        "            class_total[label] += 1\n",
        "\n",
        "\n",
        "for i in range(10):\n",
        "    print('Accuracy of %5s : %2d %%' % (\n",
        "        classes[i], 100 * class_correct[i] / class_total[i]))"
      ],
      "execution_count": 40,
      "outputs": [
        {
          "output_type": "stream",
          "text": [
            "Accuracy of plane :  0 %\n",
            "Accuracy of   car : 15 %\n",
            "Accuracy of  bird : 23 %\n",
            "Accuracy of   cat :  0 %\n",
            "Accuracy of  deer :  0 %\n",
            "Accuracy of   dog :  0 %\n",
            "Accuracy of  frog : 16 %\n",
            "Accuracy of horse : 33 %\n",
            "Accuracy of  ship :  0 %\n",
            "Accuracy of truck : 11 %\n"
          ],
          "name": "stdout"
        }
      ]
    },
    {
      "cell_type": "code",
      "metadata": {
        "id": "n5g3geNJ5zEu"
      },
      "source": [
        "import torch.optim as optim\n",
        "criterion_cnn = nn.CrossEntropyLoss()\n",
        "optimizer_cnn = optim.SGD(cnn_net.parameters(), lr=0.01, momentum=0.9)"
      ],
      "execution_count": 41,
      "outputs": []
    },
    {
      "cell_type": "code",
      "metadata": {
        "id": "tFfAJZkcZEsY",
        "outputId": "0d1036c4-146b-497b-936f-00f0c1bcfcea",
        "colab": {
          "base_uri": "https://localhost:8080/",
          "height": 1000
        }
      },
      "source": [
        "acti = []\n",
        "loss_curi = []\n",
        "epochs = 300\n",
        "for epoch in range(epochs): # loop over the dataset multiple times\n",
        "    ep_lossi = []\n",
        "\n",
        "    running_loss = 0.0\n",
        "    for i, data in enumerate(trainloader, 0):\n",
        "        # get the inputs\n",
        "        inputs, labels = data\n",
        "        inputs, labels = inputs.to(\"cuda\"),labels.to(\"cuda\")\n",
        "\n",
        "        # zero the parameter gradients\n",
        "        optimizer_cnn.zero_grad()\n",
        "\n",
        "        # forward + backward + optimize\n",
        "        outputs = cnn_net(inputs)\n",
        "        loss = criterion_cnn(outputs, labels)\n",
        "        loss.backward()\n",
        "        optimizer_cnn.step()\n",
        "\n",
        "        # print statistics\n",
        "        running_loss += loss.item()\n",
        "        mini_batch = 50\n",
        "        if i % mini_batch == mini_batch-1:    # print every 50 mini-batches\n",
        "            print('[%d, %5d] loss: %.3f' %(epoch + 1, i + 1, running_loss / mini_batch))\n",
        "            ep_lossi.append(running_loss/mini_batch) # loss per minibatch\n",
        "            running_loss = 0.0\n",
        "            \n",
        "    if(np.mean(ep_lossi) <= 0.01):\n",
        "      break;\n",
        "    loss_curi.append(np.mean(ep_lossi))   #loss per epoch            \n",
        "\n",
        "print('Finished Training')"
      ],
      "execution_count": 42,
      "outputs": [
        {
          "output_type": "stream",
          "text": [
            "[1,    50] loss: 2.294\n",
            "[1,   100] loss: 2.129\n",
            "[1,   150] loss: 1.562\n",
            "[2,    50] loss: 0.995\n",
            "[2,   100] loss: 0.885\n",
            "[2,   150] loss: 0.824\n",
            "[3,    50] loss: 0.695\n",
            "[3,   100] loss: 0.659\n",
            "[3,   150] loss: 0.657\n",
            "[4,    50] loss: 0.530\n",
            "[4,   100] loss: 0.527\n",
            "[4,   150] loss: 0.515\n",
            "[5,    50] loss: 0.440\n",
            "[5,   100] loss: 0.442\n",
            "[5,   150] loss: 0.451\n",
            "[6,    50] loss: 0.352\n",
            "[6,   100] loss: 0.366\n",
            "[6,   150] loss: 0.388\n",
            "[7,    50] loss: 0.289\n",
            "[7,   100] loss: 0.310\n",
            "[7,   150] loss: 0.321\n",
            "[8,    50] loss: 0.251\n",
            "[8,   100] loss: 0.268\n",
            "[8,   150] loss: 0.272\n",
            "[9,    50] loss: 0.197\n",
            "[9,   100] loss: 0.217\n",
            "[9,   150] loss: 0.232\n",
            "[10,    50] loss: 0.178\n",
            "[10,   100] loss: 0.175\n",
            "[10,   150] loss: 0.185\n",
            "[11,    50] loss: 0.145\n",
            "[11,   100] loss: 0.162\n",
            "[11,   150] loss: 0.171\n",
            "[12,    50] loss: 0.128\n",
            "[12,   100] loss: 0.127\n",
            "[12,   150] loss: 0.149\n",
            "[13,    50] loss: 0.103\n",
            "[13,   100] loss: 0.114\n",
            "[13,   150] loss: 0.132\n",
            "[14,    50] loss: 0.100\n",
            "[14,   100] loss: 0.103\n",
            "[14,   150] loss: 0.110\n",
            "[15,    50] loss: 0.085\n",
            "[15,   100] loss: 0.088\n",
            "[15,   150] loss: 0.103\n",
            "[16,    50] loss: 0.078\n",
            "[16,   100] loss: 0.080\n",
            "[16,   150] loss: 0.088\n",
            "[17,    50] loss: 0.067\n",
            "[17,   100] loss: 0.069\n",
            "[17,   150] loss: 0.086\n",
            "[18,    50] loss: 0.062\n",
            "[18,   100] loss: 0.061\n",
            "[18,   150] loss: 0.068\n",
            "[19,    50] loss: 0.055\n",
            "[19,   100] loss: 0.060\n",
            "[19,   150] loss: 0.066\n",
            "[20,    50] loss: 0.057\n",
            "[20,   100] loss: 0.059\n",
            "[20,   150] loss: 0.061\n",
            "[21,    50] loss: 0.068\n",
            "[21,   100] loss: 0.055\n",
            "[21,   150] loss: 0.059\n",
            "[22,    50] loss: 0.044\n",
            "[22,   100] loss: 0.040\n",
            "[22,   150] loss: 0.051\n",
            "[23,    50] loss: 0.039\n",
            "[23,   100] loss: 0.039\n",
            "[23,   150] loss: 0.046\n",
            "[24,    50] loss: 0.038\n",
            "[24,   100] loss: 0.044\n",
            "[24,   150] loss: 0.043\n",
            "[25,    50] loss: 0.032\n",
            "[25,   100] loss: 0.040\n",
            "[25,   150] loss: 0.037\n",
            "[26,    50] loss: 0.035\n",
            "[26,   100] loss: 0.034\n",
            "[26,   150] loss: 0.039\n",
            "[27,    50] loss: 0.036\n",
            "[27,   100] loss: 0.037\n",
            "[27,   150] loss: 0.038\n",
            "[28,    50] loss: 0.031\n",
            "[28,   100] loss: 0.028\n",
            "[28,   150] loss: 0.032\n",
            "[29,    50] loss: 0.028\n",
            "[29,   100] loss: 0.030\n",
            "[29,   150] loss: 0.032\n",
            "[30,    50] loss: 0.033\n",
            "[30,   100] loss: 0.028\n",
            "[30,   150] loss: 0.029\n",
            "[31,    50] loss: 0.032\n",
            "[31,   100] loss: 0.029\n",
            "[31,   150] loss: 0.028\n",
            "[32,    50] loss: 0.029\n",
            "[32,   100] loss: 0.032\n",
            "[32,   150] loss: 0.031\n",
            "[33,    50] loss: 0.028\n",
            "[33,   100] loss: 0.023\n",
            "[33,   150] loss: 0.026\n",
            "[34,    50] loss: 0.025\n",
            "[34,   100] loss: 0.023\n",
            "[34,   150] loss: 0.025\n",
            "[35,    50] loss: 0.020\n",
            "[35,   100] loss: 0.023\n",
            "[35,   150] loss: 0.023\n",
            "[36,    50] loss: 0.021\n",
            "[36,   100] loss: 0.020\n",
            "[36,   150] loss: 0.025\n",
            "[37,    50] loss: 0.019\n",
            "[37,   100] loss: 0.019\n",
            "[37,   150] loss: 0.021\n",
            "[38,    50] loss: 0.025\n",
            "[38,   100] loss: 0.028\n",
            "[38,   150] loss: 0.024\n",
            "[39,    50] loss: 0.023\n",
            "[39,   100] loss: 0.017\n",
            "[39,   150] loss: 0.022\n",
            "[40,    50] loss: 0.023\n",
            "[40,   100] loss: 0.022\n",
            "[40,   150] loss: 0.023\n",
            "[41,    50] loss: 0.020\n",
            "[41,   100] loss: 0.022\n",
            "[41,   150] loss: 0.020\n",
            "[42,    50] loss: 0.017\n",
            "[42,   100] loss: 0.016\n",
            "[42,   150] loss: 0.016\n",
            "[43,    50] loss: 0.022\n",
            "[43,   100] loss: 0.018\n",
            "[43,   150] loss: 0.022\n",
            "[44,    50] loss: 0.017\n",
            "[44,   100] loss: 0.020\n",
            "[44,   150] loss: 0.022\n",
            "[45,    50] loss: 0.020\n",
            "[45,   100] loss: 0.019\n",
            "[45,   150] loss: 0.019\n",
            "[46,    50] loss: 0.021\n",
            "[46,   100] loss: 0.022\n",
            "[46,   150] loss: 0.017\n",
            "[47,    50] loss: 0.018\n",
            "[47,   100] loss: 0.016\n",
            "[47,   150] loss: 0.017\n",
            "[48,    50] loss: 0.021\n",
            "[48,   100] loss: 0.022\n",
            "[48,   150] loss: 0.025\n",
            "[49,    50] loss: 0.016\n",
            "[49,   100] loss: 0.020\n",
            "[49,   150] loss: 0.014\n",
            "[50,    50] loss: 0.018\n",
            "[50,   100] loss: 0.016\n",
            "[50,   150] loss: 0.019\n",
            "[51,    50] loss: 0.016\n",
            "[51,   100] loss: 0.019\n",
            "[51,   150] loss: 0.015\n",
            "[52,    50] loss: 0.015\n",
            "[52,   100] loss: 0.017\n",
            "[52,   150] loss: 0.017\n",
            "[53,    50] loss: 0.015\n",
            "[53,   100] loss: 0.016\n",
            "[53,   150] loss: 0.012\n",
            "[54,    50] loss: 0.014\n",
            "[54,   100] loss: 0.014\n",
            "[54,   150] loss: 0.018\n",
            "[55,    50] loss: 0.012\n",
            "[55,   100] loss: 0.014\n",
            "[55,   150] loss: 0.012\n",
            "[56,    50] loss: 0.013\n",
            "[56,   100] loss: 0.013\n",
            "[56,   150] loss: 0.012\n",
            "[57,    50] loss: 0.013\n",
            "[57,   100] loss: 0.015\n",
            "[57,   150] loss: 0.014\n",
            "[58,    50] loss: 0.015\n",
            "[58,   100] loss: 0.015\n",
            "[58,   150] loss: 0.016\n",
            "[59,    50] loss: 0.012\n",
            "[59,   100] loss: 0.009\n",
            "[59,   150] loss: 0.014\n",
            "[60,    50] loss: 0.012\n",
            "[60,   100] loss: 0.014\n",
            "[60,   150] loss: 0.014\n",
            "[61,    50] loss: 0.010\n",
            "[61,   100] loss: 0.012\n",
            "[61,   150] loss: 0.011\n",
            "[62,    50] loss: 0.015\n",
            "[62,   100] loss: 0.011\n",
            "[62,   150] loss: 0.011\n",
            "[63,    50] loss: 0.011\n",
            "[63,   100] loss: 0.010\n",
            "[63,   150] loss: 0.011\n",
            "[64,    50] loss: 0.015\n",
            "[64,   100] loss: 0.017\n",
            "[64,   150] loss: 0.018\n",
            "[65,    50] loss: 0.014\n",
            "[65,   100] loss: 0.013\n",
            "[65,   150] loss: 0.012\n",
            "[66,    50] loss: 0.009\n",
            "[66,   100] loss: 0.014\n",
            "[66,   150] loss: 0.012\n",
            "[67,    50] loss: 0.011\n",
            "[67,   100] loss: 0.012\n",
            "[67,   150] loss: 0.008\n",
            "[68,    50] loss: 0.009\n",
            "[68,   100] loss: 0.009\n",
            "[68,   150] loss: 0.009\n",
            "Finished Training\n"
          ],
          "name": "stdout"
        }
      ]
    },
    {
      "cell_type": "code",
      "metadata": {
        "id": "WIAJ3UZN8rPE"
      },
      "source": [
        "torch.save(cnn_net.state_dict(),\"/content/drive/My Drive/Research/train_begining_layers_vs_last_layers/weights\"+\"CIFAR10_first3layer_fixed_cnn6layer\"+\".pt\")"
      ],
      "execution_count": 44,
      "outputs": []
    },
    {
      "cell_type": "code",
      "metadata": {
        "id": "an7qmNLB-Ilb",
        "outputId": "79c42d77-93d4-4994-c765-7b20518fe895",
        "colab": {
          "base_uri": "https://localhost:8080/",
          "height": 54
        }
      },
      "source": [
        "correct = 0\n",
        "total = 0\n",
        "with torch.no_grad():\n",
        "    for data in trainloader:\n",
        "        images, labels = data\n",
        "        images, labels = images.to(\"cuda\"), labels.to(\"cuda\")\n",
        "        outputs = cnn_net(images)\n",
        "        _, predicted = torch.max(outputs.data, 1)\n",
        "        total += labels.size(0)\n",
        "        correct += (predicted == labels).sum().item()\n",
        "\n",
        "print('Accuracy of the network on the %d train images: %d %%' % (total,  100 * correct / total))\n",
        "print(total,correct)"
      ],
      "execution_count": 45,
      "outputs": [
        {
          "output_type": "stream",
          "text": [
            "Accuracy of the network on the 50000 train images: 99 %\n",
            "50000 49877\n"
          ],
          "name": "stdout"
        }
      ]
    },
    {
      "cell_type": "code",
      "metadata": {
        "id": "3WqTm-aW-TGU",
        "outputId": "f7277bdc-9441-44e6-d228-dab11e574b8f",
        "colab": {
          "base_uri": "https://localhost:8080/",
          "height": 54
        }
      },
      "source": [
        "correct = 0\n",
        "total = 0\n",
        "out = []\n",
        "pred = []\n",
        "with torch.no_grad():\n",
        "    for data in testloader:\n",
        "        images, labels = data\n",
        "        images, labels = images.to(\"cuda\"),labels.to(\"cuda\")\n",
        "        out.append(labels.cpu().numpy())\n",
        "        outputs= cnn_net(images)\n",
        "        _, predicted = torch.max(outputs.data, 1)\n",
        "        pred.append(predicted.cpu().numpy())\n",
        "        total += labels.size(0)\n",
        "        correct += (predicted == labels).sum().item()\n",
        "\n",
        "print('Accuracy of the network on the 10000 test images: %d %%' % ( 100 * correct / total))\n",
        "print(total,correct)"
      ],
      "execution_count": 46,
      "outputs": [
        {
          "output_type": "stream",
          "text": [
            "Accuracy of the network on the 10000 test images: 80 %\n",
            "10000 8086\n"
          ],
          "name": "stdout"
        }
      ]
    },
    {
      "cell_type": "code",
      "metadata": {
        "id": "oQ1yPyXRBNT4",
        "outputId": "e863ed62-1308-4fd6-e2af-3dae15ba8e00",
        "colab": {
          "base_uri": "https://localhost:8080/",
          "height": 204
        }
      },
      "source": [
        "class_correct = list(0. for i in range(10))\n",
        "class_total = list(0. for i in range(10))\n",
        "with torch.no_grad():\n",
        "    for data in testloader:\n",
        "        images, labels = data\n",
        "        images, labels = images.to(\"cuda\"),labels.to(\"cuda\")\n",
        "        outputs = cnn_net(images)\n",
        "        _, predicted = torch.max(outputs, 1)\n",
        "        c = (predicted == labels).squeeze()\n",
        "        for i in range(4):\n",
        "            label = labels[i]\n",
        "            class_correct[label] += c[i].item()\n",
        "            class_total[label] += 1\n",
        "\n",
        "\n",
        "for i in range(10):\n",
        "    print('Accuracy of %5s : %2d %%' % (\n",
        "        classes[i], 100 * class_correct[i] / class_total[i]))"
      ],
      "execution_count": 47,
      "outputs": [
        {
          "output_type": "stream",
          "text": [
            "Accuracy of plane : 68 %\n",
            "Accuracy of   car : 92 %\n",
            "Accuracy of  bird : 84 %\n",
            "Accuracy of   cat : 59 %\n",
            "Accuracy of  deer : 69 %\n",
            "Accuracy of   dog : 73 %\n",
            "Accuracy of  frog : 66 %\n",
            "Accuracy of horse : 83 %\n",
            "Accuracy of  ship : 85 %\n",
            "Accuracy of truck : 88 %\n"
          ],
          "name": "stdout"
        }
      ]
    },
    {
      "cell_type": "code",
      "metadata": {
        "id": "bzU_HuQnEB29"
      },
      "source": [
        ""
      ],
      "execution_count": null,
      "outputs": []
    }
  ]
}