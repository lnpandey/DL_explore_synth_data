{
  "nbformat": 4,
  "nbformat_minor": 0,
  "metadata": {
    "colab": {
      "name": "Benchmark_Models",
      "provenance": [],
      "collapsed_sections": []
    },
    "kernelspec": {
      "name": "python3",
      "display_name": "Python 3"
    },
    "accelerator": "GPU"
  },
  "cells": [
    {
      "cell_type": "code",
      "metadata": {
        "id": "HJcIkAW-cZSQ",
        "colab_type": "code",
        "colab": {
          "base_uri": "https://localhost:8080/",
          "height": 34
        },
        "outputId": "cf3f47f7-c7a4-407d-d51e-e2be900c97ab"
      },
      "source": [
        "import torch\n",
        "import torch.nn as nn\n",
        "import torch.optim as optim\n",
        "import torch.nn.functional as F\n",
        "import torch.backends.cudnn as cudnn\n",
        "\n",
        "import torchvision\n",
        "import torchvision.transforms as transforms\n",
        "import numpy as np\n",
        "\n",
        "import os\n",
        "from matplotlib import pyplot as plt\n",
        "%matplotlib inline\n",
        "from create_foreground_background import fg_bg_data,fg_data\n",
        "from mini_inception import inception_net\n",
        "from resnet import ResNet18,ResNet34,ResNet50\n",
        "\n",
        "device = 'cuda' if torch.cuda.is_available() else 'cpu'\n",
        "print(device)"
      ],
      "execution_count": null,
      "outputs": [
        {
          "output_type": "stream",
          "text": [
            "cuda\n"
          ],
          "name": "stdout"
        }
      ]
    },
    {
      "cell_type": "code",
      "metadata": {
        "id": "uMLTKdXScRq9",
        "colab_type": "code",
        "colab": {}
      },
      "source": [
        "transform_train = transforms.Compose([\n",
        "    transforms.ToTensor(),\n",
        "    transforms.Normalize((0.4914, 0.4822, 0.4465), (0.2023, 0.1994, 0.2010)),\n",
        "])\n",
        "\n",
        "transform_test = transforms.Compose([\n",
        "    transforms.ToTensor(),\n",
        "    transforms.Normalize((0.4914, 0.4822, 0.4465), (0.2023, 0.1994, 0.2010)),\n",
        "])"
      ],
      "execution_count": null,
      "outputs": []
    },
    {
      "cell_type": "code",
      "metadata": {
        "id": "2KJ2v_MMch99",
        "colab_type": "code",
        "colab": {
          "base_uri": "https://localhost:8080/",
          "height": 51
        },
        "outputId": "6bb596cb-3338-413d-d159-a468fb0a7720"
      },
      "source": [
        "trainset = torchvision.datasets.CIFAR10(\n",
        "    root='./data', train=True, download=True, transform=transform_train)\n",
        "\n",
        "testset = torchvision.datasets.CIFAR10(\n",
        "    root='./data', train=False, download=True, transform=transform_test)\n",
        "\n",
        "\n",
        "# fg vs bg classification\n",
        "trainset.targets = fg_bg_data(trainset.targets,[0,1,2])\n",
        "testset.targets = fg_bg_data(testset.targets,[0,1,2])\n",
        "\n",
        "# Fg classification\n",
        "# train_data,train_labels = fg_data(trainset.data,trainset.targets,[0,1,2])\n",
        "# test_data,test_labels = fg_data(testset.data,testset.targets,[0,1,2])\n",
        "# trainset.data = train_data\n",
        "# trainset.targets = train_labels\n",
        "\n",
        "# testset.data = test_data\n",
        "# testset.targets = test_labels"
      ],
      "execution_count": null,
      "outputs": [
        {
          "output_type": "stream",
          "text": [
            "Files already downloaded and verified\n",
            "Files already downloaded and verified\n"
          ],
          "name": "stdout"
        }
      ]
    },
    {
      "cell_type": "code",
      "metadata": {
        "id": "XQuxTgIUYjtF",
        "colab_type": "code",
        "colab": {}
      },
      "source": [
        "trainloader = torch.utils.data.DataLoader(\n",
        "    trainset, batch_size=128, shuffle=True, num_workers=2)\n",
        "\n",
        "\n",
        "testloader = torch.utils.data.DataLoader(\n",
        "    testset, batch_size=100, shuffle=False, num_workers=2)\n",
        "\n",
        "# classes = ('plane', 'car', 'bird', 'cat', 'deer',\n",
        "#            'dog', 'frog', 'horse', 'ship', 'truck')\n",
        "classes = ('foreground','background')"
      ],
      "execution_count": null,
      "outputs": []
    },
    {
      "cell_type": "code",
      "metadata": {
        "id": "zn68BX4HcjuI",
        "colab_type": "code",
        "colab": {}
      },
      "source": [
        "#net = inception_net(3,3)\n",
        "net = ResNet34(3)\n",
        "net = net.to(device)\n",
        "if device == 'cuda':\n",
        "    net = torch.nn.DataParallel(net)\n",
        "    cudnn.benchmark = True"
      ],
      "execution_count": null,
      "outputs": []
    },
    {
      "cell_type": "code",
      "metadata": {
        "id": "KyWi77vMczZI",
        "colab_type": "code",
        "colab": {}
      },
      "source": [
        "criterion = nn.CrossEntropyLoss()\n",
        "optimizer = optim.SGD(net.parameters(), lr=0.01,\n",
        "                      momentum=0.9, weight_decay=5e-4)"
      ],
      "execution_count": null,
      "outputs": []
    },
    {
      "cell_type": "code",
      "metadata": {
        "id": "GsTu4RZZdBd5",
        "colab_type": "code",
        "colab": {}
      },
      "source": [
        "# Training\n",
        "def train(epoch):\n",
        "    print('\\nEpoch: %d' % epoch)\n",
        "    net.train()\n",
        "    train_loss = 0\n",
        "    correct = 0\n",
        "    total = 0\n",
        "    for batch_idx, (inputs, targets) in enumerate(trainloader):\n",
        "        inputs, targets = inputs.to(device), targets.to(device)\n",
        "        optimizer.zero_grad()\n",
        "        outputs = net(inputs)\n",
        "        loss = criterion(outputs, targets)\n",
        "        loss.backward()\n",
        "        optimizer.step()\n",
        "\n",
        "        train_loss += loss.item()\n",
        "        _, predicted = outputs.max(1)\n",
        "        total += targets.size(0)\n",
        "        correct += predicted.eq(targets).sum().item()\n",
        "\n",
        "    print(batch_idx, len(trainloader), 'Loss: %.3f | Acc: %.3f%% (%d/%d)'% (train_loss/(batch_idx+1), 100.*correct/total, correct, total))\n",
        "    return train_loss/(batch_idx+1)"
      ],
      "execution_count": null,
      "outputs": []
    },
    {
      "cell_type": "code",
      "metadata": {
        "id": "JoS1_MKjdQzu",
        "colab_type": "code",
        "colab": {}
      },
      "source": [
        "def test(epoch):\n",
        "    global best_acc\n",
        "    net.eval()\n",
        "    test_loss = 0\n",
        "    correct = 0\n",
        "    total = 0\n",
        "    with torch.no_grad():\n",
        "        for batch_idx, (inputs, targets) in enumerate(testloader):\n",
        "            inputs, targets = inputs.to(device), targets.to(device)\n",
        "            outputs = net(inputs)\n",
        "            loss = criterion(outputs, targets)\n",
        "\n",
        "            test_loss += loss.item()\n",
        "            _, predicted = outputs.max(1)\n",
        "            total += targets.size(0)\n",
        "            correct += predicted.eq(targets).sum().item()\n",
        "\n",
        "    print(batch_idx, len(testloader), 'Loss: %.3f | Acc: %.3f%% (%d/%d)'\n",
        "                         % (test_loss/(batch_idx+1), 100.*correct/total, correct, total))\n",
        "    # Save checkpoint.\n",
        "    acc = 100.*correct/total\n",
        "    if acc > best_acc:\n",
        "        print('Saving..')\n",
        "        state = {\n",
        "            'net': net.state_dict(),\n",
        "            'acc': acc,\n",
        "            'epoch': epoch,\n",
        "        }\n",
        "        if not os.path.isdir('checkpoint'):\n",
        "            os.mkdir('checkpoint')\n",
        "        torch.save(state, './checkpoint/ckpt.pth')\n",
        "        best_acc = acc\n",
        "    return test_loss/(batch_idx+1)\n"
      ],
      "execution_count": null,
      "outputs": []
    },
    {
      "cell_type": "code",
      "metadata": {
        "id": "kko_zJ8OdkJJ",
        "colab_type": "code",
        "colab": {
          "base_uri": "https://localhost:8080/",
          "height": 1000
        },
        "outputId": "2fe15bc4-6b2f-4ddb-853a-92e9e66dee11"
      },
      "source": [
        "best_acc = 0 \n",
        "start_epoch =0\n",
        "tr_loss = []\n",
        "ts_loss = []\n",
        "for epoch in range(start_epoch, start_epoch+50):\n",
        "    tr_loss.append(train(epoch))\n",
        "    ts_loss.append(test(epoch))"
      ],
      "execution_count": null,
      "outputs": [
        {
          "output_type": "stream",
          "text": [
            "\n",
            "Epoch: 0\n",
            "390 391 Loss: 0.530 | Acc: 74.584% (37292/50000)\n",
            "99 100 Loss: 0.486 | Acc: 79.420% (7942/10000)\n",
            "Saving..\n",
            "\n",
            "Epoch: 1\n",
            "390 391 Loss: 0.396 | Acc: 82.642% (41321/50000)\n",
            "99 100 Loss: 0.447 | Acc: 78.700% (7870/10000)\n",
            "\n",
            "Epoch: 2\n",
            "390 391 Loss: 0.323 | Acc: 86.686% (43343/50000)\n",
            "99 100 Loss: 0.332 | Acc: 85.500% (8550/10000)\n",
            "Saving..\n",
            "\n",
            "Epoch: 3\n",
            "390 391 Loss: 0.266 | Acc: 89.054% (44527/50000)\n",
            "99 100 Loss: 0.295 | Acc: 88.350% (8835/10000)\n",
            "Saving..\n",
            "\n",
            "Epoch: 4\n",
            "390 391 Loss: 0.221 | Acc: 91.128% (45564/50000)\n",
            "99 100 Loss: 0.372 | Acc: 83.740% (8374/10000)\n",
            "\n",
            "Epoch: 5\n",
            "390 391 Loss: 0.183 | Acc: 92.820% (46410/50000)\n",
            "99 100 Loss: 0.405 | Acc: 87.200% (8720/10000)\n",
            "\n",
            "Epoch: 6\n",
            "390 391 Loss: 0.149 | Acc: 94.114% (47057/50000)\n",
            "99 100 Loss: 0.288 | Acc: 89.660% (8966/10000)\n",
            "Saving..\n",
            "\n",
            "Epoch: 7\n",
            "390 391 Loss: 0.113 | Acc: 95.674% (47837/50000)\n",
            "99 100 Loss: 0.320 | Acc: 88.840% (8884/10000)\n",
            "\n",
            "Epoch: 8\n",
            "390 391 Loss: 0.093 | Acc: 96.556% (48278/50000)\n",
            "99 100 Loss: 0.543 | Acc: 83.250% (8325/10000)\n",
            "\n",
            "Epoch: 9\n",
            "390 391 Loss: 0.071 | Acc: 97.294% (48647/50000)\n",
            "99 100 Loss: 0.351 | Acc: 89.880% (8988/10000)\n",
            "Saving..\n",
            "\n",
            "Epoch: 10\n",
            "390 391 Loss: 0.064 | Acc: 97.622% (48811/50000)\n",
            "99 100 Loss: 0.377 | Acc: 88.510% (8851/10000)\n",
            "\n",
            "Epoch: 11\n",
            "390 391 Loss: 0.053 | Acc: 97.992% (48996/50000)\n",
            "99 100 Loss: 0.410 | Acc: 89.480% (8948/10000)\n",
            "\n",
            "Epoch: 12\n",
            "390 391 Loss: 0.045 | Acc: 98.318% (49159/50000)\n",
            "99 100 Loss: 0.474 | Acc: 89.770% (8977/10000)\n",
            "\n",
            "Epoch: 13\n",
            "390 391 Loss: 0.038 | Acc: 98.544% (49272/50000)\n",
            "99 100 Loss: 0.389 | Acc: 88.850% (8885/10000)\n",
            "\n",
            "Epoch: 14\n",
            "390 391 Loss: 0.037 | Acc: 98.642% (49321/50000)\n",
            "99 100 Loss: 0.393 | Acc: 88.930% (8893/10000)\n",
            "\n",
            "Epoch: 15\n",
            "390 391 Loss: 0.029 | Acc: 98.954% (49477/50000)\n",
            "99 100 Loss: 0.532 | Acc: 89.240% (8924/10000)\n",
            "\n",
            "Epoch: 16\n",
            "390 391 Loss: 0.028 | Acc: 98.956% (49478/50000)\n",
            "99 100 Loss: 0.464 | Acc: 89.370% (8937/10000)\n",
            "\n",
            "Epoch: 17\n",
            "390 391 Loss: 0.027 | Acc: 98.952% (49476/50000)\n",
            "99 100 Loss: 0.477 | Acc: 89.660% (8966/10000)\n",
            "\n",
            "Epoch: 18\n",
            "390 391 Loss: 0.025 | Acc: 99.074% (49537/50000)\n",
            "99 100 Loss: 0.507 | Acc: 89.350% (8935/10000)\n",
            "\n",
            "Epoch: 19\n",
            "390 391 Loss: 0.023 | Acc: 99.128% (49564/50000)\n",
            "99 100 Loss: 0.452 | Acc: 89.990% (8999/10000)\n",
            "Saving..\n",
            "\n",
            "Epoch: 20\n",
            "390 391 Loss: 0.022 | Acc: 99.242% (49621/50000)\n",
            "99 100 Loss: 0.447 | Acc: 90.330% (9033/10000)\n",
            "Saving..\n",
            "\n",
            "Epoch: 21\n",
            "390 391 Loss: 0.023 | Acc: 99.154% (49577/50000)\n",
            "99 100 Loss: 0.421 | Acc: 90.640% (9064/10000)\n",
            "Saving..\n",
            "\n",
            "Epoch: 22\n",
            "390 391 Loss: 0.018 | Acc: 99.370% (49685/50000)\n",
            "99 100 Loss: 0.453 | Acc: 88.360% (8836/10000)\n",
            "\n",
            "Epoch: 23\n",
            "390 391 Loss: 0.023 | Acc: 99.198% (49599/50000)\n",
            "99 100 Loss: 0.381 | Acc: 90.490% (9049/10000)\n",
            "\n",
            "Epoch: 24\n",
            "390 391 Loss: 0.016 | Acc: 99.438% (49719/50000)\n",
            "99 100 Loss: 0.429 | Acc: 89.120% (8912/10000)\n",
            "\n",
            "Epoch: 25\n",
            "390 391 Loss: 0.018 | Acc: 99.360% (49680/50000)\n",
            "99 100 Loss: 0.423 | Acc: 89.620% (8962/10000)\n",
            "\n",
            "Epoch: 26\n",
            "390 391 Loss: 0.019 | Acc: 99.322% (49661/50000)\n",
            "99 100 Loss: 0.453 | Acc: 90.000% (9000/10000)\n",
            "\n",
            "Epoch: 27\n",
            "390 391 Loss: 0.023 | Acc: 99.188% (49594/50000)\n",
            "99 100 Loss: 0.509 | Acc: 89.770% (8977/10000)\n",
            "\n",
            "Epoch: 28\n",
            "390 391 Loss: 0.020 | Acc: 99.308% (49654/50000)\n",
            "99 100 Loss: 0.457 | Acc: 90.330% (9033/10000)\n",
            "\n",
            "Epoch: 29\n",
            "390 391 Loss: 0.018 | Acc: 99.358% (49679/50000)\n",
            "99 100 Loss: 0.437 | Acc: 89.050% (8905/10000)\n",
            "\n",
            "Epoch: 30\n",
            "390 391 Loss: 0.013 | Acc: 99.554% (49777/50000)\n",
            "99 100 Loss: 0.447 | Acc: 90.060% (9006/10000)\n",
            "\n",
            "Epoch: 31\n",
            "390 391 Loss: 0.016 | Acc: 99.424% (49712/50000)\n",
            "99 100 Loss: 0.515 | Acc: 90.090% (9009/10000)\n",
            "\n",
            "Epoch: 32\n",
            "390 391 Loss: 0.018 | Acc: 99.332% (49666/50000)\n",
            "99 100 Loss: 0.424 | Acc: 90.970% (9097/10000)\n",
            "Saving..\n",
            "\n",
            "Epoch: 33\n",
            "390 391 Loss: 0.014 | Acc: 99.518% (49759/50000)\n",
            "99 100 Loss: 0.492 | Acc: 89.800% (8980/10000)\n",
            "\n",
            "Epoch: 34\n",
            "390 391 Loss: 0.019 | Acc: 99.346% (49673/50000)\n",
            "99 100 Loss: 0.470 | Acc: 90.380% (9038/10000)\n",
            "\n",
            "Epoch: 35\n",
            "390 391 Loss: 0.018 | Acc: 99.336% (49668/50000)\n",
            "99 100 Loss: 0.439 | Acc: 90.720% (9072/10000)\n",
            "\n",
            "Epoch: 36\n",
            "390 391 Loss: 0.015 | Acc: 99.444% (49722/50000)\n",
            "99 100 Loss: 0.481 | Acc: 90.550% (9055/10000)\n",
            "\n",
            "Epoch: 37\n",
            "390 391 Loss: 0.018 | Acc: 99.352% (49676/50000)\n",
            "99 100 Loss: 0.487 | Acc: 89.550% (8955/10000)\n",
            "\n",
            "Epoch: 38\n",
            "390 391 Loss: 0.016 | Acc: 99.448% (49724/50000)\n",
            "99 100 Loss: 0.470 | Acc: 89.890% (8989/10000)\n",
            "\n",
            "Epoch: 39\n",
            "390 391 Loss: 0.016 | Acc: 99.454% (49727/50000)\n",
            "99 100 Loss: 0.426 | Acc: 90.660% (9066/10000)\n",
            "\n",
            "Epoch: 40\n",
            "390 391 Loss: 0.011 | Acc: 99.614% (49807/50000)\n",
            "99 100 Loss: 0.474 | Acc: 90.080% (9008/10000)\n",
            "\n",
            "Epoch: 41\n",
            "390 391 Loss: 0.016 | Acc: 99.414% (49707/50000)\n",
            "99 100 Loss: 0.440 | Acc: 89.800% (8980/10000)\n",
            "\n",
            "Epoch: 42\n",
            "390 391 Loss: 0.017 | Acc: 99.402% (49701/50000)\n",
            "99 100 Loss: 0.493 | Acc: 90.310% (9031/10000)\n",
            "\n",
            "Epoch: 43\n",
            "390 391 Loss: 0.014 | Acc: 99.496% (49748/50000)\n",
            "99 100 Loss: 0.451 | Acc: 90.540% (9054/10000)\n",
            "\n",
            "Epoch: 44\n",
            "390 391 Loss: 0.016 | Acc: 99.456% (49728/50000)\n",
            "99 100 Loss: 0.464 | Acc: 90.950% (9095/10000)\n",
            "\n",
            "Epoch: 45\n",
            "390 391 Loss: 0.014 | Acc: 99.502% (49751/50000)\n",
            "99 100 Loss: 0.398 | Acc: 90.360% (9036/10000)\n",
            "\n",
            "Epoch: 46\n",
            "390 391 Loss: 0.015 | Acc: 99.484% (49742/50000)\n",
            "99 100 Loss: 0.443 | Acc: 91.270% (9127/10000)\n",
            "Saving..\n",
            "\n",
            "Epoch: 47\n",
            "390 391 Loss: 0.015 | Acc: 99.464% (49732/50000)\n",
            "99 100 Loss: 0.440 | Acc: 90.480% (9048/10000)\n",
            "\n",
            "Epoch: 48\n",
            "390 391 Loss: 0.016 | Acc: 99.428% (49714/50000)\n",
            "99 100 Loss: 0.438 | Acc: 90.400% (9040/10000)\n",
            "\n",
            "Epoch: 49\n",
            "390 391 Loss: 0.016 | Acc: 99.396% (49698/50000)\n",
            "99 100 Loss: 0.444 | Acc: 90.860% (9086/10000)\n"
          ],
          "name": "stdout"
        }
      ]
    },
    {
      "cell_type": "code",
      "metadata": {
        "id": "aCvjk1lud2_H",
        "colab_type": "code",
        "colab": {}
      },
      "source": [
        "model = ResNet34(3)\n",
        "#model = inception_net(3,3)\n",
        "model = model.to(device)\n",
        "if device == 'cuda':\n",
        "    model = torch.nn.DataParallel(model)\n",
        "    cudnn.benchmark = True\n",
        "\n",
        "\n",
        "checkpoint = torch.load('./checkpoint/ckpt.pth')\n",
        "model.load_state_dict(checkpoint['net'])\n",
        "\n",
        "\n",
        "epoch = checkpoint['epoch']\n",
        "test_acc = checkpoint['acc']"
      ],
      "execution_count": null,
      "outputs": []
    },
    {
      "cell_type": "code",
      "metadata": {
        "id": "KtQkMAHvhQOZ",
        "colab_type": "code",
        "colab": {
          "base_uri": "https://localhost:8080/",
          "height": 296
        },
        "outputId": "011ece3f-f84a-45c1-d114-e84a54001fd3"
      },
      "source": [
        "plt.plot(tr_loss,label='training_loss')\n",
        "plt.plot(ts_loss,label = 'test_loss')\n",
        "plt.xlabel(\"epochs\")\n",
        "plt.ylabel(\"cross_entropy loss\")\n",
        "plt.legend()"
      ],
      "execution_count": null,
      "outputs": [
        {
          "output_type": "execute_result",
          "data": {
            "text/plain": [
              "<matplotlib.legend.Legend at 0x7f15d9b3c8d0>"
            ]
          },
          "metadata": {
            "tags": []
          },
          "execution_count": 11
        },
        {
          "output_type": "display_data",
          "data": {
            "image/png": "[encoded data removed]",
            "text/plain": [
              "<Figure size 432x288 with 1 Axes>"
            ]
          },
          "metadata": {
            "tags": [],
            "needs_background": "light"
          }
        }
      ]
    },
    {
      "cell_type": "code",
      "metadata": {
        "id": "0z83g9l_ip5_",
        "colab_type": "code",
        "colab": {
          "base_uri": "https://localhost:8080/",
          "height": 34
        },
        "outputId": "ed20d350-3215-4be6-88c6-f46a51ce28e3"
      },
      "source": [
        "test_acc"
      ],
      "execution_count": null,
      "outputs": [
        {
          "output_type": "execute_result",
          "data": {
            "text/plain": [
              "91.27"
            ]
          },
          "metadata": {
            "tags": []
          },
          "execution_count": 12
        }
      ]
    },
    {
      "cell_type": "code",
      "metadata": {
        "id": "GYCg32PEMYAy",
        "colab_type": "code",
        "colab": {}
      },
      "source": [
        ""
      ],
      "execution_count": null,
      "outputs": []
    }
  ]
}