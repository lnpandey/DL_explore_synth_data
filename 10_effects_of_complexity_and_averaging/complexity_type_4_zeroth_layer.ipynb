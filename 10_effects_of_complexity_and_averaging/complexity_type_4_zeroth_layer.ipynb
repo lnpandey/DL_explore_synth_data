{
  "nbformat": 4,
  "nbformat_minor": 0,
  "metadata": {
    "accelerator": "GPU",
    "colab": {
      "name": "complexity_type_4_ Zeroth_Layer.ipynb",
      "provenance": [],
      "collapsed_sections": [
        "guDi_gtH7IFF"
      ],
      "toc_visible": true
    },
    "kernelspec": {
      "display_name": "Python 3",
      "name": "python3"
    }
  },
  "cells": [
    {
      "cell_type": "code",
      "metadata": {
        "id": "VAYu3ISwwGks"
      },
      "source": [
        "import numpy as np\n",
        "import pandas as pd\n",
        "\n",
        "import torch\n",
        "import torchvision\n",
        "from torch.utils.data import Dataset, DataLoader\n",
        "from torchvision import transforms, utils\n",
        "import torch.nn as nn\n",
        "import torch.nn.functional as F\n",
        "import torch.optim as optim\n",
        "\n",
        "from matplotlib import pyplot as plt\n",
        "%matplotlib inline"
      ],
      "execution_count": 1,
      "outputs": []
    },
    {
      "cell_type": "markdown",
      "metadata": {
        "id": "guDi_gtH7IFF"
      },
      "source": [
        "# type 4 mosaic data"
      ]
    },
    {
      "cell_type": "code",
      "metadata": {
        "id": "9IBs5VXs7HfZ"
      },
      "source": [
        "# y = np.random.randint(0,10,5000)\r\n",
        "# idx= []\r\n",
        "# for i in range(10):\r\n",
        "#     print(i,sum(y==i))\r\n",
        "#     idx.append(y==i)"
      ],
      "execution_count": 2,
      "outputs": []
    },
    {
      "cell_type": "code",
      "metadata": {
        "id": "9MzwprbA57AS"
      },
      "source": [
        "# x = np.zeros((5000,2))\r\n",
        "\r\n",
        "# x[idx[0],:] = np.random.multivariate_normal(mean = [4,6.5],cov=[[0.01,0],[0,0.01]],size=sum(idx[0]))\r\n",
        "\r\n",
        "# x[idx[1],:] = np.random.multivariate_normal(mean = [5.5,6],cov=[[0.01,0],[0,0.01]],size=sum(idx[1]))\r\n",
        "\r\n",
        "# x[idx[2],:] = np.random.multivariate_normal(mean = [4.5,4.5],cov=[[0.01,0],[0,0.01]],size=sum(idx[2]))\r\n",
        "\r\n",
        "# x[idx[3],:] = np.random.multivariate_normal(mean = [3,3.5],cov=[[0.01,0],[0,0.01]],size=sum(idx[3]))\r\n",
        "\r\n",
        "# x[idx[4],:] = np.random.multivariate_normal(mean = [2.5,5.5],cov=[[0.01,0],[0,0.01]],size=sum(idx[4]))\r\n",
        "\r\n",
        "# x[idx[5],:] = np.random.multivariate_normal(mean = [3.5,8],cov=[[0.01,0],[0,0.01]],size=sum(idx[5]))\r\n",
        "\r\n",
        "# x[idx[6],:] = np.random.multivariate_normal(mean = [5.5,8],cov=[[0.01,0],[0,0.01]],size=sum(idx[6]))\r\n",
        "\r\n",
        "# x[idx[7],:] = np.random.multivariate_normal(mean = [7,6.5],cov=[[0.01,0],[0,0.01]],size=sum(idx[7]))\r\n",
        "\r\n",
        "# x[idx[8],:] = np.random.multivariate_normal(mean = [6.5,4.5],cov=[[0.01,0],[0,0.01]],size=sum(idx[8]))\r\n",
        "\r\n",
        "# x[idx[9],:] = np.random.multivariate_normal(mean = [5,3],cov=[[0.01,0],[0,0.01]],size=sum(idx[9]))"
      ],
      "execution_count": 3,
      "outputs": []
    },
    {
      "cell_type": "code",
      "metadata": {
        "id": "zCtGoFVB5623"
      },
      "source": [
        "# plt.figure(figsize=(6,6))\r\n",
        "# for i in range(10):\r\n",
        "#     plt.scatter(x[idx[i],0],x[idx[i],1],label=\"class_\"+str(i))\r\n",
        "# plt.legend(loc='center left', bbox_to_anchor=(1, 0.5))"
      ],
      "execution_count": 4,
      "outputs": []
    },
    {
      "cell_type": "code",
      "metadata": {
        "id": "VCOaX6Q356S1"
      },
      "source": [
        "# class SyntheticDataset(Dataset):\r\n",
        "#   \"\"\"MosaicDataset dataset.\"\"\"\r\n",
        "\r\n",
        "#   def __init__(self, x, y):\r\n",
        "#     \"\"\"\r\n",
        "#       Args:\r\n",
        "#         csv_file (string): Path to the csv file with annotations.\r\n",
        "#         root_dir (string): Directory with all the images.\r\n",
        "#         transform (callable, optional): Optional transform to be applied\r\n",
        "#             on a sample.\r\n",
        "#     \"\"\"\r\n",
        "#     self.x = x\r\n",
        "#     self.y = y\r\n",
        "#     #self.fore_idx = fore_idx\r\n",
        "    \r\n",
        "#   def __len__(self):\r\n",
        "#     return len(self.y)\r\n",
        "\r\n",
        "#   def __getitem__(self, idx):\r\n",
        "#     return self.x[idx] , self.y[idx] #, self.fore_idx[idx]"
      ],
      "execution_count": 5,
      "outputs": []
    },
    {
      "cell_type": "code",
      "metadata": {
        "id": "QnF886Dc9R6-"
      },
      "source": [
        "# trainset = SyntheticDataset(x,y)\r\n",
        "# trainloader = torch.utils.data.DataLoader(trainset, batch_size=100, shuffle=True)\r\n",
        "# classes = ('zero','one','two','three','four','five','six','seven','eight','nine')\r\n",
        "\r\n",
        "# foreground_classes = {'zero','one','two'}\r\n",
        "# fg_used = '012'\r\n",
        "# fg1, fg2, fg3 = 0,1,2\r\n",
        "\r\n",
        "\r\n",
        "# all_classes = {'zero','one','two','three','four','five','six','seven','eight','nine'}\r\n",
        "# background_classes = all_classes - foreground_classes\r\n",
        "# background_classes"
      ],
      "execution_count": 6,
      "outputs": []
    },
    {
      "cell_type": "code",
      "metadata": {
        "id": "UTR_tYs19RlC"
      },
      "source": [
        "# dataiter = iter(trainloader)\r\n",
        "# background_data=[]\r\n",
        "# background_label=[]\r\n",
        "# foreground_data=[]\r\n",
        "# foreground_label=[]\r\n",
        "# batch_size=100\r\n",
        "\r\n",
        "# for i in range(50):\r\n",
        "#   images, labels = dataiter.next()\r\n",
        "#   for j in range(batch_size):\r\n",
        "#     if(classes[labels[j]] in background_classes):\r\n",
        "#       img = images[j].tolist()\r\n",
        "#       background_data.append(img)\r\n",
        "#       background_label.append(labels[j])\r\n",
        "#     else:\r\n",
        "#       img = images[j].tolist()\r\n",
        "#       foreground_data.append(img)\r\n",
        "#       foreground_label.append(labels[j])\r\n",
        "            \r\n",
        "# foreground_data = torch.tensor(foreground_data)\r\n",
        "# foreground_label = torch.tensor(foreground_label)\r\n",
        "# background_data = torch.tensor(background_data)\r\n",
        "# background_label = torch.tensor(background_label)"
      ],
      "execution_count": 7,
      "outputs": []
    },
    {
      "cell_type": "code",
      "metadata": {
        "id": "1dIQxt5b-HXy"
      },
      "source": [
        "# def create_mosaic_img(bg_idx,fg_idx,fg): \r\n",
        "#   \"\"\"\r\n",
        "#   bg_idx : list of indexes of background_data[] to be used as background images in mosaic\r\n",
        "#   fg_idx : index of image to be used as foreground image from foreground data\r\n",
        "#   fg : at what position/index foreground image has to be stored out of 0-8\r\n",
        "#   \"\"\"\r\n",
        "#   image_list=[]\r\n",
        "#   j=0\r\n",
        "#   for i in range(9):\r\n",
        "#     if i != fg:\r\n",
        "#       image_list.append(background_data[bg_idx[j]])\r\n",
        "#       j+=1\r\n",
        "#     else: \r\n",
        "#       image_list.append(foreground_data[fg_idx])\r\n",
        "#       label = foreground_label[fg_idx] - fg1  # minus fg1 because our fore ground classes are fg1,fg2,fg3 but we have to store it as 0,1,2\r\n",
        "#   #image_list = np.concatenate(image_list ,axis=0)\r\n",
        "#   image_list = torch.stack(image_list) \r\n",
        "#   return image_list,label"
      ],
      "execution_count": 8,
      "outputs": []
    },
    {
      "cell_type": "code",
      "metadata": {
        "id": "Wa7CFvfu-hE_"
      },
      "source": [
        "# # number of data points in bg class and fg class\r\n",
        "# nbg = sum(idx[3]) + sum(idx[4]) + sum(idx[5]) + sum(idx[6]) + sum(idx[7]) + sum(idx[8]) + sum(idx[9])\r\n",
        "# nfg   = sum(idx[0]) + sum(idx[1]) + sum(idx[2])\r\n",
        "\r\n",
        "# print(nbg, nfg, nbg+nfg)"
      ],
      "execution_count": 9,
      "outputs": []
    },
    {
      "cell_type": "code",
      "metadata": {
        "id": "JLVolDGh9RY_"
      },
      "source": [
        "# desired_num = 3000\r\n",
        "# mosaic_list_of_images =[]      # list of mosaic images, each mosaic image is saved as list of 9 images\r\n",
        "# fore_idx =[]                   # list of indexes at which foreground image is present in a mosaic image i.e from 0 to 9               \r\n",
        "# mosaic_label=[]                # label of mosaic image = foreground class present in that mosaic\r\n",
        "# list_set_labels = [] \r\n",
        "# for i in range(desired_num):\r\n",
        "#   set_idx = set()\r\n",
        "#   np.random.seed(i)\r\n",
        "#   bg_idx = np.random.randint(0,nbg,8)\r\n",
        "#   set_idx = set(background_label[bg_idx].tolist())\r\n",
        "#   fg_idx = np.random.randint(0,nfg)\r\n",
        "#   set_idx.add(foreground_label[fg_idx].item())\r\n",
        "#   fg = np.random.randint(0,9)\r\n",
        "#   fore_idx.append(fg)\r\n",
        "#   image_list,label = create_mosaic_img(bg_idx,fg_idx,fg)\r\n",
        "#   mosaic_list_of_images.append(image_list)\r\n",
        "#   mosaic_label.append(label)\r\n",
        "#   list_set_labels.append(set_idx)"
      ],
      "execution_count": 10,
      "outputs": []
    },
    {
      "cell_type": "code",
      "metadata": {
        "id": "tm4jv30eD_hl"
      },
      "source": [
        "# data =  [{\"mosaic_list\":mosaic_list_of_images, \"mosaic_label\": mosaic_label, \"fore_idx\":fore_idx}]\r\n",
        "# np.save(\"type4_data_1.npy\",data)"
      ],
      "execution_count": 11,
      "outputs": []
    },
    {
      "cell_type": "markdown",
      "metadata": {
        "id": "y4ZKaqzq_vcD"
      },
      "source": [
        "# load mosaic data"
      ]
    },
    {
      "cell_type": "code",
      "metadata": {
        "id": "rN7ItmyIEdnB"
      },
      "source": [
        "data = np.load(\"type4_data.npy\",allow_pickle=True)"
      ],
      "execution_count": 12,
      "outputs": []
    },
    {
      "cell_type": "code",
      "metadata": {
        "id": "iifTn7hNEmCU"
      },
      "source": [
        "mosaic_list_of_images = data[0][\"mosaic_list\"]\r\n",
        "mosaic_label = data[0][\"mosaic_label\"]\r\n",
        "fore_idx = data[0][\"fore_idx\"]"
      ],
      "execution_count": 13,
      "outputs": []
    },
    {
      "cell_type": "code",
      "metadata": {
        "id": "syESDetXAPK2"
      },
      "source": [
        "class MosaicDataset1(Dataset):\r\n",
        "  \"\"\"MosaicDataset dataset.\"\"\"\r\n",
        "\r\n",
        "  def __init__(self, mosaic_list, mosaic_label,fore_idx):\r\n",
        "    \"\"\"\r\n",
        "      Args:\r\n",
        "        csv_file (string): Path to the csv file with annotations.\r\n",
        "        root_dir (string): Directory with all the images.\r\n",
        "        transform (callable, optional): Optional transform to be applied\r\n",
        "            on a sample.\r\n",
        "    \"\"\"\r\n",
        "    self.mosaic = mosaic_list\r\n",
        "    self.label = mosaic_label\r\n",
        "    self.fore_idx = fore_idx\r\n",
        "    \r\n",
        "  def __len__(self):\r\n",
        "    return len(self.label)\r\n",
        "\r\n",
        "  def __getitem__(self, idx):\r\n",
        "    return self.mosaic[idx] , self.label[idx] , self.fore_idx[idx]"
      ],
      "execution_count": 14,
      "outputs": []
    },
    {
      "cell_type": "code",
      "metadata": {
        "id": "fP5NPRPmb904"
      },
      "source": [
        "batch = 250\n",
        "msd = MosaicDataset1(mosaic_list_of_images, mosaic_label, fore_idx)\n",
        "train_loader = DataLoader( msd,batch_size= batch ,shuffle=True)"
      ],
      "execution_count": 15,
      "outputs": []
    },
    {
      "cell_type": "markdown",
      "metadata": {
        "id": "ARLPPASQ_2gB"
      },
      "source": [
        "# models"
      ]
    },
    {
      "cell_type": "code",
      "metadata": {
        "id": "KzN3Bbs8c0fA"
      },
      "source": [
        "class Focus_deep(nn.Module):\n",
        "    '''\n",
        "       deep focus network averaged at zeroth layer\n",
        "       input : elemental data\n",
        "    '''\n",
        "    def __init__(self,inputs,output,K,d):\n",
        "        super(Focus_deep,self).__init__()\n",
        "        self.inputs = inputs\n",
        "        self.output = output\n",
        "        self.K = K\n",
        "        self.d  = d\n",
        "        self.linear1 = nn.Linear(self.inputs,10)  #,self.output)\n",
        "        #self.linear2 = nn.Linear(50,50)\n",
        "        self.linear2 = nn.Linear(10,self.output) \n",
        "    def forward(self,z):\n",
        "        batch = z.shape[0]\n",
        "        x = torch.zeros([batch,self.K],dtype=torch.float64)\n",
        "        y = torch.zeros([batch,self.d], dtype=torch.float64)\n",
        "        x,y = x.to(\"cuda\"),y.to(\"cuda\")\n",
        "        #print(z[:,0].shape,z[:,self.d*0:self.d*0+self.d].shape)\n",
        "        for i in range(self.K):\n",
        "            x[:,i] = self.helper(z[:,i] )[:,0]  # self.d*i:self.d*i+self.d\n",
        "        x = F.softmax(x,dim=1)   # alphas\n",
        "        x1 = x[:,0]\n",
        "        for i in range(self.K):\n",
        "            x1 = x[:,i]          \n",
        "            y = y+torch.mul(x1[:,None],z[:,i])  # self.d*i:self.d*i+self.d\n",
        "        return y , x \n",
        "    def helper(self,x):\n",
        "      x = F.relu(self.linear1(x))\n",
        "      #x = F.relu(self.linear2(x))\n",
        "      x = self.linear2(x)\n",
        "      return x\n"
      ],
      "execution_count": 16,
      "outputs": []
    },
    {
      "cell_type": "code",
      "metadata": {
        "id": "w0W0oKcClFZY"
      },
      "source": [
        "class Classification_deep(nn.Module):\n",
        "    '''\n",
        "       input : elemental data\n",
        "       deep classification module data averaged at zeroth layer\n",
        "    '''\n",
        "    def __init__(self,inputs,output):\n",
        "        super(Classification_deep,self).__init__()\n",
        "        self.inputs = inputs\n",
        "        self.output = output\n",
        "        self.linear1 = nn.Linear(self.inputs,10)\n",
        "        #self.linear2 = nn.Linear(50,50)\n",
        "        self.linear2 = nn.Linear(10,self.output)\n",
        "\n",
        "    def forward(self,x):\n",
        "      x = F.relu(self.linear1(x))\n",
        "      #x = F.relu(self.linear2(x))\n",
        "      x = self.linear2(x)\n",
        "      return x    "
      ],
      "execution_count": 17,
      "outputs": []
    },
    {
      "cell_type": "code",
      "metadata": {
        "id": "ehAfQnNwgFYX"
      },
      "source": [
        "def calculate_attn_loss(dataloader,what,where,criter):\n",
        "  what.eval()\n",
        "  where.eval()\n",
        "  r_loss = 0\n",
        "  alphas = []\n",
        "  lbls = []\n",
        "  pred = []\n",
        "  fidices = []\n",
        "  with torch.no_grad():\n",
        "    for i, data in enumerate(dataloader, 0):\n",
        "      inputs, labels,fidx = data\n",
        "      lbls.append(labels)\n",
        "      fidices.append(fidx)\n",
        "      inputs = inputs.double()\n",
        "      inputs, labels = inputs.to(\"cuda\"),labels.to(\"cuda\")\n",
        "      avg,alpha = where(inputs)\n",
        "      outputs = what(avg)\n",
        "      _, predicted = torch.max(outputs.data, 1)\n",
        "      pred.append(predicted.cpu().numpy())\n",
        "      alphas.append(alpha.cpu().numpy())\n",
        "      loss = criter(outputs, labels)\n",
        "      r_loss += loss.item()\n",
        "  alphas = np.concatenate(alphas,axis=0)\n",
        "  pred = np.concatenate(pred,axis=0)\n",
        "  lbls = np.concatenate(lbls,axis=0)\n",
        "  fidices = np.concatenate(fidices,axis=0)\n",
        "  #print(alphas.shape,pred.shape,lbls.shape,fidices.shape) \n",
        "  analysis = analyse_data(alphas,lbls,pred,fidices)\n",
        "  return r_loss/i,analysis"
      ],
      "execution_count": 18,
      "outputs": []
    },
    {
      "cell_type": "code",
      "metadata": {
        "id": "6e9HQJMzxBhp"
      },
      "source": [
        "def analyse_data(alphas,lbls,predicted,f_idx):\n",
        "    '''\n",
        "       analysis data is created here\n",
        "    '''\n",
        "    batch = len(predicted)\n",
        "    amth,alth,ftpt,ffpt,ftpf,ffpf = 0,0,0,0,0,0\n",
        "    for j in range (batch):\n",
        "      focus = np.argmax(alphas[j])\n",
        "      if(alphas[j][focus] >= 0.5):\n",
        "        amth +=1\n",
        "      else:\n",
        "        alth +=1\n",
        "      if(focus == f_idx[j] and predicted[j] == lbls[j]):\n",
        "        ftpt += 1\n",
        "      elif(focus != f_idx[j] and predicted[j] == lbls[j]):\n",
        "        ffpt +=1\n",
        "      elif(focus == f_idx[j] and predicted[j] != lbls[j]):\n",
        "        ftpf +=1\n",
        "      elif(focus != f_idx[j] and predicted[j] != lbls[j]):\n",
        "        ffpf +=1\n",
        "    #print(sum(predicted==lbls),ftpt+ffpt)\n",
        "    return [ftpt,ffpt,ftpf,ffpf,amth,alth]"
      ],
      "execution_count": 19,
      "outputs": []
    },
    {
      "cell_type": "markdown",
      "metadata": {
        "id": "a2AlGgRa_6_H"
      },
      "source": [
        "# training"
      ]
    },
    {
      "cell_type": "code",
      "metadata": {
        "id": "MOfxUJZ_eFKw"
      },
      "source": [
        "number_runs = 20\n",
        "FTPT_analysis = pd.DataFrame(columns = [\"FTPT\",\"FFPT\", \"FTPF\",\"FFPF\"])\n",
        "for n in range(number_runs):\n",
        "  print(\"--\"*40)\n",
        "  \n",
        "  # instantiate focus and classification Model\n",
        "  torch.manual_seed(n)\n",
        "  where = Focus_deep(2,1,9,2).double()\n",
        "  torch.manual_seed(n)\n",
        "  what = Classification_deep(2,3).double()\n",
        "  where = where.to(\"cuda\")\n",
        "  what = what.to(\"cuda\")\n",
        "\n",
        "\n",
        "\n",
        "  # instantiate optimizer\n",
        "  optimizer_where = optim.Adam(where.parameters(),lr =0.01)#,momentum=0.9)\n",
        "  optimizer_what = optim.Adam(what.parameters(), lr=0.01)#,momentum=0.9)\n",
        "  criterion = nn.CrossEntropyLoss()\n",
        "  acti = []\n",
        "  analysis_data = []\n",
        "  loss_curi = []\n",
        "  epochs = 2000\n",
        "\n",
        "\n",
        "  # calculate zeroth epoch loss and FTPT values\n",
        "  running_loss,anlys_data = calculate_attn_loss(train_loader,what,where,criterion)\n",
        "  loss_curi.append(running_loss)\n",
        "  analysis_data.append(anlys_data)\n",
        "\n",
        "  print('epoch: [%d ] loss: %.3f' %(0,running_loss)) \n",
        "\n",
        "  # training starts \n",
        "  for epoch in range(epochs): # loop over the dataset multiple times\n",
        "    ep_lossi = []\n",
        "    running_loss = 0.0\n",
        "    what.train()\n",
        "    where.train()\n",
        "    for i, data in enumerate(train_loader, 0):\n",
        "      # get the inputs\n",
        "      inputs, labels,_ = data\n",
        "      inputs = inputs.double()\n",
        "      inputs, labels = inputs.to(\"cuda\"),labels.to(\"cuda\")\n",
        "\n",
        "      # zero the parameter gradients\n",
        "      optimizer_where.zero_grad()\n",
        "      optimizer_what.zero_grad()\n",
        "      \n",
        "      # forward + backward + optimize\n",
        "      avg, alpha = where(inputs)\n",
        "      outputs = what(avg)\n",
        "      loss = criterion(outputs, labels)\n",
        "\n",
        "      # print statistics\n",
        "      running_loss += loss.item()\n",
        "      loss.backward()\n",
        "      optimizer_where.step()\n",
        "      optimizer_what.step()\n",
        "\n",
        "    running_loss,anls_data = calculate_attn_loss(train_loader,what,where,criterion)\n",
        "    analysis_data.append(anls_data)\n",
        "    print('epoch: [%d] loss: %.3f' %(epoch + 1,running_loss)) \n",
        "    loss_curi.append(running_loss)   #loss per epoch\n",
        "    if running_loss<=0.01:\n",
        "      break\n",
        "  print('Finished Training run ' +str(n))\n",
        "  analysis_data = np.array(analysis_data)\n",
        "  FTPT_analysis.loc[n] = analysis_data[-1,:4]/30\n",
        "  correct = 0\n",
        "  total = 0\n",
        "  with torch.no_grad():\n",
        "    for data in train_loader:\n",
        "      images, labels,_ = data\n",
        "      images = images.double()\n",
        "      images, labels = images.to(\"cuda\"), labels.to(\"cuda\")\n",
        "      avg, alpha = where(images)\n",
        "      outputs  = what(avg)\n",
        "      _, predicted = torch.max(outputs.data, 1)\n",
        "      total += labels.size(0)\n",
        "      correct += (predicted == labels).sum().item()\n",
        "\n",
        "  print('Accuracy of the network on the 3000 train images: %d %%' % (  100 * correct / total))\n",
        "    "
      ],
      "execution_count": null,
      "outputs": []
    },
    {
      "cell_type": "code",
      "metadata": {
        "id": "L31RVViMkYM-"
      },
      "source": [
        "# plt.figure(figsize=(6,6))\n",
        "# plt.plot(np.arange(0,epoch+2,1),analysis_data[:,0],label=\"ftpt\")\n",
        "# plt.plot(np.arange(0,epoch+2,1),analysis_data[:,1],label=\"ffpt\")\n",
        "# plt.plot(np.arange(0,epoch+2,1),analysis_data[:,2],label=\"ftpf\")\n",
        "# plt.plot(np.arange(0,epoch+2,1),analysis_data[:,3],label=\"ffpf\")\n",
        "\n",
        "# plt.legend(loc='center left', bbox_to_anchor=(1, 0.5))\n",
        "\n"
      ],
      "execution_count": 21,
      "outputs": []
    },
    {
      "cell_type": "markdown",
      "metadata": {
        "id": "pvRPe6kn_-9b"
      },
      "source": [
        "# performance\r\n"
      ]
    },
    {
      "cell_type": "code",
      "metadata": {
        "colab": {
          "base_uri": "https://localhost:8080/",
          "height": 282
        },
        "id": "yEabNK9Q1bTE",
        "outputId": "1801e8a2-e609-4966-c414-b248335e87d6"
      },
      "source": [
        "plt.plot(loss_curi)"
      ],
      "execution_count": 22,
      "outputs": [
        {
          "output_type": "execute_result",
          "data": {
            "text/plain": [
              "[<matplotlib.lines.Line2D at 0x7f6fd9b75250>]"
            ]
          },
          "metadata": {
            "tags": []
          },
          "execution_count": 22
        },
        {
          "output_type": "display_data",
          "data": {
            "image/png": "[encoded data removed]",
            "text/plain": [
              "<Figure size 432x288 with 1 Axes>"
            ]
          },
          "metadata": {
            "tags": [],
            "needs_background": "light"
          }
        }
      ]
    },
    {
      "cell_type": "code",
      "metadata": {
        "colab": {
          "base_uri": "https://localhost:8080/"
        },
        "id": "yBbboK0mtLTL",
        "outputId": "714b18be-3db6-480e-b82e-102e4c206f71"
      },
      "source": [
        "np.mean(np.array(FTPT_analysis),axis=0)"
      ],
      "execution_count": 23,
      "outputs": [
        {
          "output_type": "execute_result",
          "data": {
            "text/plain": [
              "array([57.36166667, 28.27666667,  0.93666667, 13.425     ])"
            ]
          },
          "metadata": {
            "tags": []
          },
          "execution_count": 23
        }
      ]
    },
    {
      "cell_type": "code",
      "metadata": {
        "id": "AYS7jRsCz30j"
      },
      "source": [
        "FTPT_analysis.to_csv(\"synthetic_zeroth_10_10.csv\",index=False)"
      ],
      "execution_count": 24,
      "outputs": []
    },
    {
      "cell_type": "markdown",
      "metadata": {
        "id": "dwzQFzul37sQ"
      },
      "source": [
        "\r\n",
        "\r\n",
        "\r\n"
      ]
    },
    {
      "cell_type": "code",
      "metadata": {
        "colab": {
          "base_uri": "https://localhost:8080/",
          "height": 669
        },
        "id": "PzR8ISPlOSbP",
        "outputId": "2e484cc7-735b-482d-af8d-dde06f714759"
      },
      "source": [
        "FTPT_analysis"
      ],
      "execution_count": 25,
      "outputs": [
        {
          "output_type": "execute_result",
          "data": {
            "text/html": [
              "<div>\n",
              "<style scoped>\n",
              "    .dataframe tbody tr th:only-of-type {\n",
              "        vertical-align: middle;\n",
              "    }\n",
              "\n",
              "    .dataframe tbody tr th {\n",
              "        vertical-align: top;\n",
              "    }\n",
              "\n",
              "    .dataframe thead th {\n",
              "        text-align: right;\n",
              "    }\n",
              "</style>\n",
              "<table border=\"1\" class=\"dataframe\">\n",
              "  <thead>\n",
              "    <tr style=\"text-align: right;\">\n",
              "      <th></th>\n",
              "      <th>FTPT</th>\n",
              "      <th>FFPT</th>\n",
              "      <th>FTPF</th>\n",
              "      <th>FFPF</th>\n",
              "    </tr>\n",
              "  </thead>\n",
              "  <tbody>\n",
              "    <tr>\n",
              "      <th>0</th>\n",
              "      <td>68.833333</td>\n",
              "      <td>30.800000</td>\n",
              "      <td>0.066667</td>\n",
              "      <td>0.300000</td>\n",
              "    </tr>\n",
              "    <tr>\n",
              "      <th>1</th>\n",
              "      <td>0.066667</td>\n",
              "      <td>40.866667</td>\n",
              "      <td>2.100000</td>\n",
              "      <td>56.966667</td>\n",
              "    </tr>\n",
              "    <tr>\n",
              "      <th>2</th>\n",
              "      <td>36.166667</td>\n",
              "      <td>34.666667</td>\n",
              "      <td>4.566667</td>\n",
              "      <td>24.600000</td>\n",
              "    </tr>\n",
              "    <tr>\n",
              "      <th>3</th>\n",
              "      <td>2.466667</td>\n",
              "      <td>36.533333</td>\n",
              "      <td>0.000000</td>\n",
              "      <td>61.000000</td>\n",
              "    </tr>\n",
              "    <tr>\n",
              "      <th>4</th>\n",
              "      <td>71.033333</td>\n",
              "      <td>28.833333</td>\n",
              "      <td>0.066667</td>\n",
              "      <td>0.066667</td>\n",
              "    </tr>\n",
              "    <tr>\n",
              "      <th>5</th>\n",
              "      <td>71.033333</td>\n",
              "      <td>28.833333</td>\n",
              "      <td>0.066667</td>\n",
              "      <td>0.066667</td>\n",
              "    </tr>\n",
              "    <tr>\n",
              "      <th>6</th>\n",
              "      <td>82.266667</td>\n",
              "      <td>17.700000</td>\n",
              "      <td>0.033333</td>\n",
              "      <td>0.000000</td>\n",
              "    </tr>\n",
              "    <tr>\n",
              "      <th>7</th>\n",
              "      <td>71.033333</td>\n",
              "      <td>28.833333</td>\n",
              "      <td>0.066667</td>\n",
              "      <td>0.066667</td>\n",
              "    </tr>\n",
              "    <tr>\n",
              "      <th>8</th>\n",
              "      <td>93.066667</td>\n",
              "      <td>6.900000</td>\n",
              "      <td>0.033333</td>\n",
              "      <td>0.000000</td>\n",
              "    </tr>\n",
              "    <tr>\n",
              "      <th>9</th>\n",
              "      <td>0.000000</td>\n",
              "      <td>40.900000</td>\n",
              "      <td>0.700000</td>\n",
              "      <td>58.400000</td>\n",
              "    </tr>\n",
              "    <tr>\n",
              "      <th>10</th>\n",
              "      <td>71.000000</td>\n",
              "      <td>28.866667</td>\n",
              "      <td>0.100000</td>\n",
              "      <td>0.033333</td>\n",
              "    </tr>\n",
              "    <tr>\n",
              "      <th>11</th>\n",
              "      <td>81.133333</td>\n",
              "      <td>18.766667</td>\n",
              "      <td>0.100000</td>\n",
              "      <td>0.000000</td>\n",
              "    </tr>\n",
              "    <tr>\n",
              "      <th>12</th>\n",
              "      <td>100.000000</td>\n",
              "      <td>0.000000</td>\n",
              "      <td>0.000000</td>\n",
              "      <td>0.000000</td>\n",
              "    </tr>\n",
              "    <tr>\n",
              "      <th>13</th>\n",
              "      <td>71.066667</td>\n",
              "      <td>28.900000</td>\n",
              "      <td>0.000000</td>\n",
              "      <td>0.033333</td>\n",
              "    </tr>\n",
              "    <tr>\n",
              "      <th>14</th>\n",
              "      <td>34.266667</td>\n",
              "      <td>37.100000</td>\n",
              "      <td>1.333333</td>\n",
              "      <td>27.300000</td>\n",
              "    </tr>\n",
              "    <tr>\n",
              "      <th>15</th>\n",
              "      <td>71.000000</td>\n",
              "      <td>28.900000</td>\n",
              "      <td>0.100000</td>\n",
              "      <td>0.000000</td>\n",
              "    </tr>\n",
              "    <tr>\n",
              "      <th>16</th>\n",
              "      <td>76.200000</td>\n",
              "      <td>23.666667</td>\n",
              "      <td>0.133333</td>\n",
              "      <td>0.000000</td>\n",
              "    </tr>\n",
              "    <tr>\n",
              "      <th>17</th>\n",
              "      <td>6.733333</td>\n",
              "      <td>44.733333</td>\n",
              "      <td>9.133333</td>\n",
              "      <td>39.400000</td>\n",
              "    </tr>\n",
              "    <tr>\n",
              "      <th>18</th>\n",
              "      <td>68.900000</td>\n",
              "      <td>30.900000</td>\n",
              "      <td>0.000000</td>\n",
              "      <td>0.200000</td>\n",
              "    </tr>\n",
              "    <tr>\n",
              "      <th>19</th>\n",
              "      <td>70.966667</td>\n",
              "      <td>28.833333</td>\n",
              "      <td>0.133333</td>\n",
              "      <td>0.066667</td>\n",
              "    </tr>\n",
              "  </tbody>\n",
              "</table>\n",
              "</div>"
            ],
            "text/plain": [
              "          FTPT       FFPT      FTPF       FFPF\n",
              "0    68.833333  30.800000  0.066667   0.300000\n",
              "1     0.066667  40.866667  2.100000  56.966667\n",
              "2    36.166667  34.666667  4.566667  24.600000\n",
              "3     2.466667  36.533333  0.000000  61.000000\n",
              "4    71.033333  28.833333  0.066667   0.066667\n",
              "5    71.033333  28.833333  0.066667   0.066667\n",
              "6    82.266667  17.700000  0.033333   0.000000\n",
              "7    71.033333  28.833333  0.066667   0.066667\n",
              "8    93.066667   6.900000  0.033333   0.000000\n",
              "9     0.000000  40.900000  0.700000  58.400000\n",
              "10   71.000000  28.866667  0.100000   0.033333\n",
              "11   81.133333  18.766667  0.100000   0.000000\n",
              "12  100.000000   0.000000  0.000000   0.000000\n",
              "13   71.066667  28.900000  0.000000   0.033333\n",
              "14   34.266667  37.100000  1.333333  27.300000\n",
              "15   71.000000  28.900000  0.100000   0.000000\n",
              "16   76.200000  23.666667  0.133333   0.000000\n",
              "17    6.733333  44.733333  9.133333  39.400000\n",
              "18   68.900000  30.900000  0.000000   0.200000\n",
              "19   70.966667  28.833333  0.133333   0.066667"
            ]
          },
          "metadata": {
            "tags": []
          },
          "execution_count": 25
        }
      ]
    },
    {
      "cell_type": "markdown",
      "metadata": {
        "id": "2Ch0nnjvUf4O"
      },
      "source": [
        "\r\n",
        "\r\n",
        "1.   7.55150000e+01, 2.43783333e+01, 6.00000000e-02, 4.66666667e-02\r\n",
        "2. \r\n",
        "3.  \r\n",
        "4.  \r\n",
        "5.  \r\n",
        "\r\n",
        "\r\n",
        "\r\n"
      ]
    },
    {
      "cell_type": "code",
      "metadata": {
        "id": "9JUoGWONAXEk"
      },
      "source": [
        ""
      ],
      "execution_count": 25,
      "outputs": []
    }
  ]
}