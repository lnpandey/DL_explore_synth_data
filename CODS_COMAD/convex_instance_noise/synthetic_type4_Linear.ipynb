{
  "nbformat": 4,
  "nbformat_minor": 0,
  "metadata": {
    "accelerator": "GPU",
    "colab": {
      "name": "synthetic_type4_Linear.ipynb",
      "provenance": [],
      "collapsed_sections": []
    },
    "kernelspec": {
      "display_name": "Python 3",
      "language": "python",
      "name": "python3"
    },
    "language_info": {
      "codemirror_mode": {
        "name": "ipython",
        "version": 3
      },
      "file_extension": ".py",
      "mimetype": "text/x-python",
      "name": "python",
      "nbconvert_exporter": "python",
      "pygments_lexer": "ipython3",
      "version": "3.6.5"
    }
  },
  "cells": [
    {
      "cell_type": "code",
      "metadata": {
        "colab": {
          "base_uri": "https://localhost:8080/"
        },
        "id": "N2_J4Rw2r0SQ",
        "outputId": "83d801e5-aa9e-4b66-d61b-7c51d10bca4f"
      },
      "source": [
        "import numpy as np\n",
        "import pandas as pd\n",
        "from matplotlib import pyplot as plt\n",
        "from tqdm import tqdm\n",
        "%matplotlib inline\n",
        "from torch.utils.data import Dataset, DataLoader\n",
        "import torch\n",
        "import torchvision\n",
        "\n",
        "import torch.nn as nn\n",
        "import torch.optim as optim\n",
        "from torch.nn import functional as F\n",
        "device = torch.device(\"cuda\" if torch.cuda.is_available() else \"cpu\")\n",
        "print(device)"
      ],
      "execution_count": 1,
      "outputs": [
        {
          "output_type": "stream",
          "text": [
            "cuda\n"
          ],
          "name": "stdout"
        }
      ]
    },
    {
      "cell_type": "markdown",
      "metadata": {
        "id": "F6fjud_Fr0Sa"
      },
      "source": [
        "# Generate dataset"
      ]
    },
    {
      "cell_type": "code",
      "metadata": {
        "colab": {
          "base_uri": "https://localhost:8080/"
        },
        "id": "CqdXHO0Cr0Sd",
        "outputId": "1f703048-fdbd-471a-90cc-182d7e47fe8c"
      },
      "source": [
        "y = np.random.randint(0,10,5000)\n",
        "idx= []\n",
        "for i in range(10):\n",
        "    print(i,sum(y==i))\n",
        "    idx.append(y==i)"
      ],
      "execution_count": 79,
      "outputs": [
        {
          "output_type": "stream",
          "text": [
            "0 519\n",
            "1 493\n",
            "2 516\n",
            "3 493\n",
            "4 488\n",
            "5 478\n",
            "6 501\n",
            "7 454\n",
            "8 544\n",
            "9 514\n"
          ],
          "name": "stdout"
        }
      ]
    },
    {
      "cell_type": "code",
      "metadata": {
        "id": "ddhXyODwr0Sk"
      },
      "source": [
        "x = np.zeros((5000,2))"
      ],
      "execution_count": 80,
      "outputs": []
    },
    {
      "cell_type": "code",
      "metadata": {
        "id": "DyV3N2DIr0Sp"
      },
      "source": [
        "x[idx[0],:] = np.random.multivariate_normal(mean = [4,6.5],cov=[[0.01,0],[0,0.01]],size=sum(idx[0]))\n",
        "\n",
        "x[idx[1],:] = np.random.multivariate_normal(mean = [5.5,6],cov=[[0.01,0],[0,0.01]],size=sum(idx[1]))\n",
        "\n",
        "x[idx[2],:] = np.random.multivariate_normal(mean = [4.5,4.5],cov=[[0.01,0],[0,0.01]],size=sum(idx[2]))\n",
        "\n",
        "x[idx[3],:] = np.random.multivariate_normal(mean = [3,3.5],cov=[[0.01,0],[0,0.01]],size=sum(idx[3]))\n",
        "\n",
        "x[idx[4],:] = np.random.multivariate_normal(mean = [2.5,5.5],cov=[[0.01,0],[0,0.01]],size=sum(idx[4]))\n",
        "\n",
        "x[idx[5],:] = np.random.multivariate_normal(mean = [3.5,8],cov=[[0.01,0],[0,0.01]],size=sum(idx[5]))\n",
        "\n",
        "x[idx[6],:] = np.random.multivariate_normal(mean = [5.5,8],cov=[[0.01,0],[0,0.01]],size=sum(idx[6]))\n",
        "\n",
        "x[idx[7],:] = np.random.multivariate_normal(mean = [7,6.5],cov=[[0.01,0],[0,0.01]],size=sum(idx[7]))\n",
        "\n",
        "x[idx[8],:] = np.random.multivariate_normal(mean = [6.5,4.5],cov=[[0.01,0],[0,0.01]],size=sum(idx[8]))\n",
        "\n",
        "x[idx[9],:] = np.random.multivariate_normal(mean = [5,3],cov=[[0.01,0],[0,0.01]],size=sum(idx[9]))"
      ],
      "execution_count": 81,
      "outputs": []
    },
    {
      "cell_type": "code",
      "metadata": {
        "colab": {
          "base_uri": "https://localhost:8080/",
          "height": 283
        },
        "id": "hJ8Jm7YUr0St",
        "outputId": "45e28282-fbfc-47e4-85e2-cf67b6d46066"
      },
      "source": [
        "for i in range(10):\n",
        "    plt.scatter(x[idx[i],0],x[idx[i],1],label=\"class_\"+str(i))\n",
        "plt.legend(loc='center left', bbox_to_anchor=(1, 0.5))"
      ],
      "execution_count": 82,
      "outputs": [
        {
          "output_type": "execute_result",
          "data": {
            "text/plain": [
              "<matplotlib.legend.Legend at 0x7fe5915c3390>"
            ]
          },
          "metadata": {
            "tags": []
          },
          "execution_count": 82
        },
        {
          "output_type": "display_data",
          "data": {
            "image/png": "[encoded data removed]",
            "text/plain": [
              "<Figure size 432x288 with 1 Axes>"
            ]
          },
          "metadata": {
            "tags": [],
            "needs_background": "light"
          }
        }
      ]
    },
    {
      "cell_type": "code",
      "metadata": {
        "id": "UfFHcZJOr0Sz"
      },
      "source": [
        "foreground_classes = {'class_0','class_1', 'class_2'}\n",
        "\n",
        "background_classes = {'class_3','class_4', 'class_5', 'class_6','class_7', 'class_8', 'class_9'}"
      ],
      "execution_count": 83,
      "outputs": []
    },
    {
      "cell_type": "code",
      "metadata": {
        "colab": {
          "base_uri": "https://localhost:8080/"
        },
        "id": "OplNpNQVr0S2",
        "outputId": "ca40e808-8e85-4951-9cc1-0567303b85e7"
      },
      "source": [
        "fg_class  = np.random.randint(0,3)\n",
        "fg_idx = np.random.randint(0,9)\n",
        "\n",
        "a = []\n",
        "for i in range(9):\n",
        "    if i == fg_idx:\n",
        "        b = np.random.choice(np.where(idx[fg_class]==True)[0],size=1)\n",
        "        a.append(x[b])\n",
        "        print(\"foreground \"+str(fg_class)+\" present at \" + str(fg_idx))\n",
        "    else:\n",
        "        bg_class = np.random.randint(3,10)\n",
        "        b = np.random.choice(np.where(idx[bg_class]==True)[0],size=1)\n",
        "        a.append(x[b])\n",
        "        print(\"background \"+str(bg_class)+\" present at \" + str(i))\n",
        "a = np.concatenate(a,axis=0)\n",
        "print(a.shape)\n",
        "\n",
        "print(fg_class , fg_idx)"
      ],
      "execution_count": 84,
      "outputs": [
        {
          "output_type": "stream",
          "text": [
            "background 4 present at 0\n",
            "background 8 present at 1\n",
            "background 3 present at 2\n",
            "background 9 present at 3\n",
            "background 6 present at 4\n",
            "foreground 1 present at 5\n",
            "background 9 present at 6\n",
            "background 3 present at 7\n",
            "background 8 present at 8\n",
            "(9, 2)\n",
            "1 5\n"
          ],
          "name": "stdout"
        }
      ]
    },
    {
      "cell_type": "code",
      "metadata": {
        "colab": {
          "base_uri": "https://localhost:8080/"
        },
        "id": "dwZVmmRBr0S8",
        "outputId": "ef1cfcf3-7734-4215-ace5-02299af5286e"
      },
      "source": [
        "a.shape"
      ],
      "execution_count": 85,
      "outputs": [
        {
          "output_type": "execute_result",
          "data": {
            "text/plain": [
              "(9, 2)"
            ]
          },
          "metadata": {
            "tags": []
          },
          "execution_count": 85
        }
      ]
    },
    {
      "cell_type": "code",
      "metadata": {
        "colab": {
          "base_uri": "https://localhost:8080/"
        },
        "id": "OoxzYI-ur0S_",
        "outputId": "0f7cd981-5181-4c89-b294-0a36dae714c6"
      },
      "source": [
        "np.reshape(a,(18,1))"
      ],
      "execution_count": 86,
      "outputs": [
        {
          "output_type": "execute_result",
          "data": {
            "text/plain": [
              "array([[2.5432275 ],\n",
              "       [5.4150017 ],\n",
              "       [6.59250057],\n",
              "       [4.48499401],\n",
              "       [3.01096702],\n",
              "       [3.48637329],\n",
              "       [4.88993992],\n",
              "       [2.90752174],\n",
              "       [5.6036963 ],\n",
              "       [8.01509078],\n",
              "       [5.44870655],\n",
              "       [5.96667956],\n",
              "       [5.39475974],\n",
              "       [2.95899065],\n",
              "       [3.18637383],\n",
              "       [3.33422375],\n",
              "       [6.46455046],\n",
              "       [4.50578793]])"
            ]
          },
          "metadata": {
            "tags": []
          },
          "execution_count": 86
        }
      ]
    },
    {
      "cell_type": "code",
      "metadata": {
        "id": "y4ruI0cxr0TE"
      },
      "source": [
        "a=np.reshape(a,(3,6))"
      ],
      "execution_count": 87,
      "outputs": []
    },
    {
      "cell_type": "code",
      "metadata": {
        "colab": {
          "base_uri": "https://localhost:8080/",
          "height": 237
        },
        "id": "RTUTFhJIr0TI",
        "outputId": "85b7a2b4-7997-4a02-c49e-45e2139c4bc7"
      },
      "source": [
        "plt.imshow(a)"
      ],
      "execution_count": 88,
      "outputs": [
        {
          "output_type": "execute_result",
          "data": {
            "text/plain": [
              "<matplotlib.image.AxesImage at 0x7fe591506f90>"
            ]
          },
          "metadata": {
            "tags": []
          },
          "execution_count": 88
        },
        {
          "output_type": "display_data",
          "data": {
            "image/png": "[encoded data removed]",
            "text/plain": [
              "<Figure size 432x288 with 1 Axes>"
            ]
          },
          "metadata": {
            "tags": [],
            "needs_background": "light"
          }
        }
      ]
    },
    {
      "cell_type": "code",
      "metadata": {
        "id": "jqbvfbwVr0TN"
      },
      "source": [
        "desired_num = 2000\n",
        "mosaic_list_of_images =[]\n",
        "mosaic_label = []\n",
        "fore_idx=[]\n",
        "for j in range(desired_num):\n",
        "    fg_class  = np.random.randint(0,3)\n",
        "    fg_idx = 0\n",
        "    a = []\n",
        "    for i in range(9):\n",
        "        if i == fg_idx:\n",
        "            b = np.random.choice(np.where(idx[fg_class]==True)[0],size=1)\n",
        "            a.append(x[b])\n",
        "#             print(\"foreground \"+str(fg_class)+\" present at \" + str(fg_idx))\n",
        "        else:\n",
        "            bg_class = np.random.randint(3,10)\n",
        "            b = np.random.choice(np.where(idx[bg_class]==True)[0],size=1)\n",
        "            a.append(x[b])\n",
        "#             print(\"background \"+str(bg_class)+\" present at \" + str(i))\n",
        "    a = np.concatenate(a,axis=0)\n",
        "    mosaic_list_of_images.append(np.reshape(a,(18,1)))\n",
        "    mosaic_label.append(fg_class)\n",
        "    fore_idx.append(fg_idx)"
      ],
      "execution_count": 89,
      "outputs": []
    },
    {
      "cell_type": "code",
      "metadata": {
        "id": "BOsFmWfMr0TR"
      },
      "source": [
        "mosaic_list_of_images = np.concatenate(mosaic_list_of_images,axis=1).T\n",
        "# print(mosaic_list)"
      ],
      "execution_count": 90,
      "outputs": []
    },
    {
      "cell_type": "code",
      "metadata": {
        "colab": {
          "base_uri": "https://localhost:8080/"
        },
        "id": "C2PnW7aQr0TT",
        "outputId": "2b9fa133-401b-456a-d9b8-f85ddfc89ad7"
      },
      "source": [
        "print(np.shape(mosaic_list_of_images))\n",
        "print(np.shape(fore_idx))\n",
        "print(np.shape(mosaic_label))"
      ],
      "execution_count": 91,
      "outputs": [
        {
          "output_type": "stream",
          "text": [
            "(2000, 18)\n",
            "(2000,)\n",
            "(2000,)\n"
          ],
          "name": "stdout"
        }
      ]
    },
    {
      "cell_type": "code",
      "metadata": {
        "id": "iPoIwbMHx44n"
      },
      "source": [
        "def create_avg_image_from_mosaic_dataset(mosaic_dataset,labels,foreground_index,dataset_number):\n",
        "  \"\"\"\n",
        "  mosaic_dataset : mosaic_dataset contains 9 images 32 x 32 each as 1 data point\n",
        "  labels : mosaic_dataset labels\n",
        "  foreground_index : contains list of indexes where foreground image is present so that using this we can take weighted average\n",
        "  dataset_number : will help us to tell what ratio of foreground image to be taken. for eg: if it is \"j\" then fg_image_ratio = j/9 , bg_image_ratio = (9-j)/8*9\n",
        "  \"\"\"\n",
        "  avg_image_dataset = []\n",
        "  cnt = 0\n",
        "  counter = np.array([0,0,0,0,0,0,0,0,0])\n",
        "  for i in range(len(mosaic_dataset)):\n",
        "    img = torch.zeros([18], dtype=torch.float64)\n",
        "    np.random.seed(dataset_number*10000 + i)\n",
        "    give_pref = foreground_index[i] #np.random.randint(0,9)\n",
        "    # print(\"outside\", give_pref,foreground_index[i])\n",
        "    for j in range(9):\n",
        "      if j == give_pref:\n",
        "        img = img + mosaic_dataset[i][j]*dataset_number/9\n",
        "      else :\n",
        "        img = img + mosaic_dataset[i][j]*(9-dataset_number)/(8*9)\n",
        "\n",
        "    if give_pref == foreground_index[i] :\n",
        "      # print(\"equal are\", give_pref,foreground_index[i])\n",
        "      cnt += 1\n",
        "      counter[give_pref] += 1\n",
        "    else :\n",
        "      counter[give_pref] += 1\n",
        "\n",
        "    avg_image_dataset.append(img)\n",
        "\n",
        "  print(\"number of correct averaging happened for dataset \"+str(dataset_number)+\" is \"+str(cnt)) \n",
        "  print(\"the averaging are done as \", counter) \n",
        "  return avg_image_dataset , labels , foreground_index\n",
        "        \n",
        "  "
      ],
      "execution_count": 92,
      "outputs": []
    },
    {
      "cell_type": "code",
      "metadata": {
        "colab": {
          "base_uri": "https://localhost:8080/"
        },
        "id": "30ZAjix3x8CM",
        "outputId": "c0edbb0f-bfcb-46bb-a00b-fa42c6247e9f"
      },
      "source": [
        "avg_image_dataset_1 , labels_1,  fg_index_1 = create_avg_image_from_mosaic_dataset(mosaic_list_of_images[0:1000], mosaic_label[0:1000], fore_idx[0:1000] , 0)\n",
        "avg_image_dataset_2 , labels_2,  fg_index_2 = create_avg_image_from_mosaic_dataset(mosaic_list_of_images[0:1000], mosaic_label[0:1000], fore_idx[0:1000] , 1)\n",
        "avg_image_dataset_3 , labels_3,  fg_index_3 = create_avg_image_from_mosaic_dataset(mosaic_list_of_images[0:1000], mosaic_label[0:1000], fore_idx[0:1000] , 2)\n",
        "avg_image_dataset_4 , labels_4,  fg_index_4 = create_avg_image_from_mosaic_dataset(mosaic_list_of_images[0:1000], mosaic_label[0:1000], fore_idx[0:1000] , 3)\n",
        "avg_image_dataset_5 , labels_5,  fg_index_5 = create_avg_image_from_mosaic_dataset(mosaic_list_of_images[0:1000], mosaic_label[0:1000], fore_idx[0:1000] , 4)\n",
        "avg_image_dataset_6 , labels_6,  fg_index_6 = create_avg_image_from_mosaic_dataset(mosaic_list_of_images[0:1000], mosaic_label[0:1000], fore_idx[0:1000] , 5)\n",
        "avg_image_dataset_7 , labels_7,  fg_index_7 = create_avg_image_from_mosaic_dataset(mosaic_list_of_images[0:1000], mosaic_label[0:1000], fore_idx[0:1000] , 6)\n",
        "avg_image_dataset_8 , labels_8,  fg_index_8 = create_avg_image_from_mosaic_dataset(mosaic_list_of_images[0:1000], mosaic_label[0:1000], fore_idx[0:1000] , 7)\n",
        "avg_image_dataset_9 , labels_9,  fg_index_9 = create_avg_image_from_mosaic_dataset(mosaic_list_of_images[0:1000], mosaic_label[0:1000], fore_idx[0:1000] , 8)\n",
        "avg_image_dataset_10 , labels_10,  fg_index_10 = create_avg_image_from_mosaic_dataset(mosaic_list_of_images[0:1000], mosaic_label[0:1000], fore_idx[0:1000] , 9)\n",
        "\n",
        "test_dataset , labels , fg_index = create_avg_image_from_mosaic_dataset(mosaic_list_of_images[1000:2000], mosaic_label[1000:2000], fore_idx[1000:2000] , 9)"
      ],
      "execution_count": 93,
      "outputs": [
        {
          "output_type": "stream",
          "text": [
            "number of correct averaging happened for dataset 0 is 1000\n",
            "the averaging are done as  [1000    0    0    0    0    0    0    0    0]\n",
            "number of correct averaging happened for dataset 1 is 1000\n",
            "the averaging are done as  [1000    0    0    0    0    0    0    0    0]\n",
            "number of correct averaging happened for dataset 2 is 1000\n",
            "the averaging are done as  [1000    0    0    0    0    0    0    0    0]\n",
            "number of correct averaging happened for dataset 3 is 1000\n",
            "the averaging are done as  [1000    0    0    0    0    0    0    0    0]\n",
            "number of correct averaging happened for dataset 4 is 1000\n",
            "the averaging are done as  [1000    0    0    0    0    0    0    0    0]\n",
            "number of correct averaging happened for dataset 5 is 1000\n",
            "the averaging are done as  [1000    0    0    0    0    0    0    0    0]\n",
            "number of correct averaging happened for dataset 6 is 1000\n",
            "the averaging are done as  [1000    0    0    0    0    0    0    0    0]\n",
            "number of correct averaging happened for dataset 7 is 1000\n",
            "the averaging are done as  [1000    0    0    0    0    0    0    0    0]\n",
            "number of correct averaging happened for dataset 8 is 1000\n",
            "the averaging are done as  [1000    0    0    0    0    0    0    0    0]\n",
            "number of correct averaging happened for dataset 9 is 1000\n",
            "the averaging are done as  [1000    0    0    0    0    0    0    0    0]\n",
            "number of correct averaging happened for dataset 9 is 1000\n",
            "the averaging are done as  [1000    0    0    0    0    0    0    0    0]\n"
          ],
          "name": "stdout"
        }
      ]
    },
    {
      "cell_type": "code",
      "metadata": {
        "id": "yL0BRf8er0TX"
      },
      "source": [
        "class MosaicDataset(Dataset):\n",
        "  \"\"\"MosaicDataset dataset.\"\"\"\n",
        "\n",
        "  def __init__(self, mosaic_list_of_images, mosaic_label):\n",
        "    \"\"\"\n",
        "      Args:\n",
        "        csv_file (string): Path to the csv file with annotations.\n",
        "        root_dir (string): Directory with all the images.\n",
        "        transform (callable, optional): Optional transform to be applied\n",
        "            on a sample.\n",
        "    \"\"\"\n",
        "    self.mosaic = mosaic_list_of_images\n",
        "    self.label = mosaic_label\n",
        "    #self.fore_idx = fore_idx\n",
        "    \n",
        "  def __len__(self):\n",
        "    return len(self.label)\n",
        "\n",
        "  def __getitem__(self, idx):\n",
        "    return self.mosaic[idx] , self.label[idx] #, self.fore_idx[idx]\n",
        "\n"
      ],
      "execution_count": 95,
      "outputs": []
    },
    {
      "cell_type": "code",
      "metadata": {
        "colab": {
          "base_uri": "https://localhost:8080/"
        },
        "id": "4KsrW9qL9xgS",
        "outputId": "e3dd506b-ed16-4da1-99d9-ebff511e0b72"
      },
      "source": [
        "avg_image_dataset_1[0].shape\n",
        "avg_image_dataset_1[0]"
      ],
      "execution_count": 96,
      "outputs": [
        {
          "output_type": "execute_result",
          "data": {
            "text/plain": [
              "tensor([5.3376, 5.3376, 5.3376, 5.3376, 5.3376, 5.3376, 5.3376, 5.3376, 5.3376,\n",
              "        5.3376, 5.3376, 5.3376, 5.3376, 5.3376, 5.3376, 5.3376, 5.3376, 5.3376],\n",
              "       dtype=torch.float64)"
            ]
          },
          "metadata": {
            "tags": []
          },
          "execution_count": 96
        }
      ]
    },
    {
      "cell_type": "code",
      "metadata": {
        "colab": {
          "base_uri": "https://localhost:8080/"
        },
        "id": "fjVnan3CA8ix",
        "outputId": "e9f1dd29-dcf9-4016-8324-58375b01fe8e"
      },
      "source": [
        "l = [ labels_1, labels_2, labels_3, labels_4, labels_5, labels_6, labels_7, labels_8, labels_9, labels_10]\n",
        "for i in l:\n",
        "  print(np.unique(l))"
      ],
      "execution_count": 97,
      "outputs": [
        {
          "output_type": "stream",
          "text": [
            "[0 1 2]\n",
            "[0 1 2]\n",
            "[0 1 2]\n",
            "[0 1 2]\n",
            "[0 1 2]\n",
            "[0 1 2]\n",
            "[0 1 2]\n",
            "[0 1 2]\n",
            "[0 1 2]\n",
            "[0 1 2]\n"
          ],
          "name": "stdout"
        }
      ]
    },
    {
      "cell_type": "code",
      "metadata": {
        "id": "EY2l62APygaV"
      },
      "source": [
        "batch = 200\n",
        "\n",
        "traindata_1 = MosaicDataset(avg_image_dataset_1, labels_1 )\n",
        "trainloader_1 = DataLoader( traindata_1 , batch_size= batch ,shuffle=True)\n",
        "\n",
        "traindata_2 = MosaicDataset(avg_image_dataset_2, labels_2 )\n",
        "trainloader_2 = DataLoader( traindata_2 , batch_size= batch ,shuffle=True)\n",
        "\n",
        "traindata_3 = MosaicDataset(avg_image_dataset_3, labels_3 )\n",
        "trainloader_3 = DataLoader( traindata_3 , batch_size= batch ,shuffle=True)\n",
        "\n",
        "traindata_4 = MosaicDataset(avg_image_dataset_4, labels_4 )\n",
        "trainloader_4 = DataLoader( traindata_4 , batch_size= batch ,shuffle=True)\n",
        "\n",
        "traindata_5 = MosaicDataset(avg_image_dataset_5, labels_5 )\n",
        "trainloader_5 = DataLoader( traindata_5 , batch_size= batch ,shuffle=True)\n",
        "\n",
        "traindata_6 = MosaicDataset(avg_image_dataset_6, labels_6 )\n",
        "trainloader_6 = DataLoader( traindata_6 , batch_size= batch ,shuffle=True)\n",
        "\n",
        "traindata_7 = MosaicDataset(avg_image_dataset_7, labels_7 )\n",
        "trainloader_7 = DataLoader( traindata_7 , batch_size= batch ,shuffle=True)\n",
        "\n",
        "traindata_8 = MosaicDataset(avg_image_dataset_8, labels_8 )\n",
        "trainloader_8 = DataLoader( traindata_8 , batch_size= batch ,shuffle=True)\n",
        "\n",
        "traindata_9 = MosaicDataset(avg_image_dataset_9, labels_9 )\n",
        "trainloader_9 = DataLoader( traindata_9 , batch_size= batch ,shuffle=True)\n",
        "\n",
        "traindata_10 = MosaicDataset(avg_image_dataset_10, labels_10 )\n",
        "trainloader_10 = DataLoader( traindata_10 , batch_size= batch ,shuffle=True)"
      ],
      "execution_count": 98,
      "outputs": []
    },
    {
      "cell_type": "code",
      "metadata": {
        "id": "9suUslCj8YZK"
      },
      "source": [
        "testdata_1 = MosaicDataset(avg_image_dataset_1, labels_1 )\n",
        "testloader_1 = DataLoader( testdata_1 , batch_size= batch ,shuffle=False)\n",
        "\n",
        "testdata_2 = MosaicDataset(avg_image_dataset_2, labels_2 )\n",
        "testloader_2 = DataLoader( testdata_2 , batch_size= batch ,shuffle=False)\n",
        "\n",
        "testdata_3 = MosaicDataset(avg_image_dataset_3, labels_3 )\n",
        "testloader_3 = DataLoader( testdata_3 , batch_size= batch ,shuffle=False)\n",
        "\n",
        "testdata_4 = MosaicDataset(avg_image_dataset_4, labels_4 )\n",
        "testloader_4 = DataLoader( testdata_4 , batch_size= batch ,shuffle=False)\n",
        "\n",
        "testdata_5 = MosaicDataset(avg_image_dataset_5, labels_5 )\n",
        "testloader_5 = DataLoader( testdata_5 , batch_size= batch ,shuffle=False)\n",
        "\n",
        "testdata_6 = MosaicDataset(avg_image_dataset_6, labels_6 )\n",
        "testloader_6 = DataLoader( testdata_6 , batch_size= batch ,shuffle=False)\n",
        "\n",
        "testdata_7 = MosaicDataset(avg_image_dataset_7, labels_7 )\n",
        "testloader_7 = DataLoader( testdata_7 , batch_size= batch ,shuffle=False)\n",
        "\n",
        "testdata_8 = MosaicDataset(avg_image_dataset_8, labels_8 )\n",
        "testloader_8 = DataLoader( testdata_8 , batch_size= batch ,shuffle=False)\n",
        "\n",
        "testdata_9 = MosaicDataset(avg_image_dataset_9, labels_9 )\n",
        "testloader_9 = DataLoader( testdata_9 , batch_size= batch ,shuffle=False)\n",
        "\n",
        "testdata_10 = MosaicDataset(avg_image_dataset_10, labels_10 )\n",
        "testloader_10 = DataLoader( testdata_10 , batch_size= batch ,shuffle=False)\n",
        "\n"
      ],
      "execution_count": 99,
      "outputs": []
    },
    {
      "cell_type": "code",
      "metadata": {
        "id": "Nh3mBQHZ8bEj"
      },
      "source": [
        "testdata_11 = MosaicDataset(test_dataset, labels )\n",
        "testloader_11 = DataLoader( testdata_11 , batch_size= batch ,shuffle=False)"
      ],
      "execution_count": 100,
      "outputs": []
    },
    {
      "cell_type": "code",
      "metadata": {
        "id": "5_XeIUk0r0Tl"
      },
      "source": [
        "class Whatnet(nn.Module):\n",
        "    def __init__(self):\n",
        "        super(Whatnet,self).__init__()\n",
        "        self.linear1 = nn.Linear(18,3)\n",
        "        # self.linear2 = nn.Linear(50,10)\n",
        "        # self.linear3 = nn.Linear(10,3)\n",
        "\n",
        "    def forward(self,x):\n",
        "        # x = F.relu(self.linear1(x))\n",
        "        # x = F.relu(self.linear2(x))\n",
        "        x = (self.linear1(x))\n",
        "\n",
        "        return x"
      ],
      "execution_count": 129,
      "outputs": []
    },
    {
      "cell_type": "code",
      "metadata": {
        "id": "pjD2VZuV9Ed4"
      },
      "source": [
        "def calculate_loss(dataloader,model,criter):\n",
        "  model.eval()\n",
        "  r_loss = 0\n",
        "  with torch.no_grad():\n",
        "    for i, data in enumerate(dataloader, 0):\n",
        "      inputs, labels = data\n",
        "      inputs, labels = inputs.to(\"cuda\"),labels.to(\"cuda\")\n",
        "      outputs = model(inputs)\n",
        "      loss = criter(outputs, labels)\n",
        "      r_loss += loss.item()\n",
        "  return r_loss/i"
      ],
      "execution_count": 130,
      "outputs": []
    },
    {
      "cell_type": "code",
      "metadata": {
        "id": "uALi25pmzQHV"
      },
      "source": [
        "def test_all(number, testloader,net):\n",
        "    correct = 0\n",
        "    total = 0\n",
        "    out = []\n",
        "    pred = []\n",
        "    with torch.no_grad():\n",
        "        for data in testloader:\n",
        "            images, labels = data\n",
        "            images, labels = images.to(\"cuda\"),labels.to(\"cuda\")\n",
        "            out.append(labels.cpu().numpy())\n",
        "            outputs= net(images)\n",
        "            _, predicted = torch.max(outputs.data, 1)\n",
        "            pred.append(predicted.cpu().numpy())\n",
        "            total += labels.size(0)\n",
        "            correct += (predicted == labels).sum().item()\n",
        "    \n",
        "    pred = np.concatenate(pred, axis = 0)\n",
        "    out = np.concatenate(out, axis = 0)\n",
        "    print(\"unique out: \",  np.unique(out), \"unique pred: \", np.unique(pred) )\n",
        "    print(\"correct: \", correct, \"total \",  total)\n",
        "    print('Accuracy of the network on the 1000 test dataset %d: %.2f %%' % (number , 100 * correct / total))"
      ],
      "execution_count": 131,
      "outputs": []
    },
    {
      "cell_type": "code",
      "metadata": {
        "id": "4vmNprlPzTjP"
      },
      "source": [
        "def train_all(trainloader, ds_number, testloader_list):\n",
        "    \n",
        "    print(\"--\"*40)\n",
        "    print(\"training on data set  \", ds_number)\n",
        "    \n",
        "    torch.manual_seed(12)\n",
        "    net = Whatnet().double()\n",
        "    net = net.to(\"cuda\")\n",
        "    \n",
        "    criterion_net = nn.CrossEntropyLoss()\n",
        "    optimizer_net = optim.Adam(net.parameters(), lr=0.001 ) #, momentum=0.9)\n",
        "    \n",
        "    acti = []\n",
        "    loss_curi = []\n",
        "    epochs = 12000\n",
        "    running_loss = calculate_loss(trainloader,net,criterion_net)\n",
        "    loss_curi.append(running_loss)\n",
        "    print('epoch: [%d ] loss: %.3f' %(0,running_loss)) \n",
        "    for epoch in range(epochs): # loop over the dataset multiple times\n",
        "        ep_lossi = []\n",
        "\n",
        "        running_loss = 0.0\n",
        "        net.train()\n",
        "        for i, data in enumerate(trainloader, 0):\n",
        "            # get the inputs\n",
        "            inputs, labels = data\n",
        "            inputs, labels = inputs.to(\"cuda\"),labels.to(\"cuda\")\n",
        "\n",
        "            # zero the parameter gradients\n",
        "            optimizer_net.zero_grad()\n",
        "\n",
        "            # forward + backward + optimize\n",
        "            outputs = net(inputs)\n",
        "            loss = criterion_net(outputs, labels)\n",
        "            # print statistics\n",
        "            running_loss += loss.item()\n",
        "            loss.backward()\n",
        "            optimizer_net.step()\n",
        "\n",
        "        running_loss = calculate_loss(trainloader,net,criterion_net)\n",
        "        if(epoch%1000 == 0):\n",
        "          print('epoch: [%d] loss: %.3f' %(epoch + 1,running_loss)) \n",
        "        loss_curi.append(running_loss)   #loss per epoch\n",
        "        if running_loss<=0.005:\n",
        "          print('epoch: [%d] loss: %.3f' %(epoch + 1,running_loss))\n",
        "          break\n",
        "\n",
        "    print('Finished Training')\n",
        "    \n",
        "    correct = 0\n",
        "    total = 0\n",
        "    with torch.no_grad():\n",
        "        for data in trainloader:\n",
        "            images, labels = data\n",
        "            images, labels = images.to(\"cuda\"), labels.to(\"cuda\")\n",
        "            outputs = net(images)\n",
        "            _, predicted = torch.max(outputs.data, 1)\n",
        "            total += labels.size(0)\n",
        "            correct += (predicted == labels).sum().item()\n",
        "\n",
        "    print('Accuracy of the network on the 1000 train images: %.2f %%' % (  100 * correct / total))\n",
        "    \n",
        "    for i, j in enumerate(testloader_list):\n",
        "        test_all(i+1, j,net)\n",
        "    \n",
        "    print(\"--\"*40)\n",
        "    \n",
        "    return loss_curi\n",
        "    "
      ],
      "execution_count": 132,
      "outputs": []
    },
    {
      "cell_type": "code",
      "metadata": {
        "id": "Yl41sE8vFERk"
      },
      "source": [
        "train_loss_all=[]\n",
        "\n",
        "testloader_list= [ testloader_1, testloader_2, testloader_3, testloader_4, testloader_5, testloader_6,\n",
        "                 testloader_7, testloader_8, testloader_9, testloader_10, testloader_11]"
      ],
      "execution_count": 133,
      "outputs": []
    },
    {
      "cell_type": "code",
      "metadata": {
        "colab": {
          "base_uri": "https://localhost:8080/"
        },
        "id": "5gQoPST5zW2t",
        "outputId": "3a0e5697-c791-43ea-ae1e-62f8179c52fb"
      },
      "source": [
        "train_loss_all.append(train_all(trainloader_1, 1, testloader_list))\n",
        "train_loss_all.append(train_all(trainloader_2, 2, testloader_list))\n",
        "train_loss_all.append(train_all(trainloader_3, 3, testloader_list))\n",
        "train_loss_all.append(train_all(trainloader_4, 4, testloader_list))\n",
        "train_loss_all.append(train_all(trainloader_5, 5, testloader_list))\n",
        "train_loss_all.append(train_all(trainloader_6, 6, testloader_list))\n",
        "train_loss_all.append(train_all(trainloader_7, 7, testloader_list))\n",
        "train_loss_all.append(train_all(trainloader_8, 8, testloader_list))\n",
        "train_loss_all.append(train_all(trainloader_9, 9, testloader_list))\n",
        "train_loss_all.append(train_all(trainloader_10, 10, testloader_list))"
      ],
      "execution_count": 134,
      "outputs": [
        {
          "output_type": "stream",
          "text": [
            "--------------------------------------------------------------------------------\n",
            "training on data set   1\n",
            "epoch: [0 ] loss: 2.752\n",
            "epoch: [1] loss: 2.413\n",
            "epoch: [1001] loss: 1.363\n",
            "epoch: [2001] loss: 1.359\n",
            "epoch: [3001] loss: 1.359\n",
            "epoch: [4001] loss: 1.357\n",
            "epoch: [5001] loss: 1.358\n",
            "epoch: [6001] loss: 1.359\n",
            "epoch: [7001] loss: 1.358\n",
            "epoch: [8001] loss: 1.358\n",
            "epoch: [9001] loss: 1.358\n",
            "epoch: [10001] loss: 1.358\n",
            "epoch: [11001] loss: 1.358\n",
            "Finished Training\n",
            "Accuracy of the network on the 1000 train images: 39.80 %\n",
            "unique out:  [0 1 2] unique pred:  [0 2]\n",
            "correct:  398 total  1000\n",
            "Accuracy of the network on the 1000 test dataset 1: 39.80 %\n",
            "unique out:  [0 1 2] unique pred:  [0 2]\n",
            "correct:  378 total  1000\n",
            "Accuracy of the network on the 1000 test dataset 2: 37.80 %\n",
            "unique out:  [0 1 2] unique pred:  [0 2]\n",
            "correct:  347 total  1000\n",
            "Accuracy of the network on the 1000 test dataset 3: 34.70 %\n",
            "unique out:  [0 1 2] unique pred:  [0 2]\n",
            "correct:  342 total  1000\n",
            "Accuracy of the network on the 1000 test dataset 4: 34.20 %\n",
            "unique out:  [0 1 2] unique pred:  [0 2]\n",
            "correct:  318 total  1000\n",
            "Accuracy of the network on the 1000 test dataset 5: 31.80 %\n",
            "unique out:  [0 1 2] unique pred:  [0 2]\n",
            "correct:  317 total  1000\n",
            "Accuracy of the network on the 1000 test dataset 6: 31.70 %\n",
            "unique out:  [0 1 2] unique pred:  [0 2]\n",
            "correct:  344 total  1000\n",
            "Accuracy of the network on the 1000 test dataset 7: 34.40 %\n",
            "unique out:  [0 1 2] unique pred:  [0 2]\n",
            "correct:  350 total  1000\n",
            "Accuracy of the network on the 1000 test dataset 8: 35.00 %\n",
            "unique out:  [0 1 2] unique pred:  [0 2]\n",
            "correct:  350 total  1000\n",
            "Accuracy of the network on the 1000 test dataset 9: 35.00 %\n",
            "unique out:  [0 1 2] unique pred:  [0 2]\n",
            "correct:  350 total  1000\n",
            "Accuracy of the network on the 1000 test dataset 10: 35.00 %\n",
            "unique out:  [0 1 2] unique pred:  [0 2]\n",
            "correct:  344 total  1000\n",
            "Accuracy of the network on the 1000 test dataset 11: 34.40 %\n",
            "--------------------------------------------------------------------------------\n",
            "--------------------------------------------------------------------------------\n",
            "training on data set   2\n",
            "epoch: [0 ] loss: 2.755\n",
            "epoch: [1] loss: 2.417\n",
            "epoch: [1001] loss: 1.358\n",
            "epoch: [2001] loss: 1.351\n",
            "epoch: [3001] loss: 1.349\n",
            "epoch: [4001] loss: 1.348\n",
            "epoch: [5001] loss: 1.348\n",
            "epoch: [6001] loss: 1.349\n",
            "epoch: [7001] loss: 1.347\n",
            "epoch: [8001] loss: 1.347\n",
            "epoch: [9001] loss: 1.348\n",
            "epoch: [10001] loss: 1.348\n",
            "epoch: [11001] loss: 1.348\n",
            "Finished Training\n",
            "Accuracy of the network on the 1000 train images: 41.30 %\n",
            "unique out:  [0 1 2] unique pred:  [0 1 2]\n",
            "correct:  383 total  1000\n",
            "Accuracy of the network on the 1000 test dataset 1: 38.30 %\n",
            "unique out:  [0 1 2] unique pred:  [0 1 2]\n",
            "correct:  413 total  1000\n",
            "Accuracy of the network on the 1000 test dataset 2: 41.30 %\n",
            "unique out:  [0 1 2] unique pred:  [0 1 2]\n",
            "correct:  412 total  1000\n",
            "Accuracy of the network on the 1000 test dataset 3: 41.20 %\n",
            "unique out:  [0 1 2] unique pred:  [0 1 2]\n",
            "correct:  416 total  1000\n",
            "Accuracy of the network on the 1000 test dataset 4: 41.60 %\n",
            "unique out:  [0 1 2] unique pred:  [0 1 2]\n",
            "correct:  401 total  1000\n",
            "Accuracy of the network on the 1000 test dataset 5: 40.10 %\n",
            "unique out:  [0 1 2] unique pred:  [0 1 2]\n",
            "correct:  385 total  1000\n",
            "Accuracy of the network on the 1000 test dataset 6: 38.50 %\n",
            "unique out:  [0 1 2] unique pred:  [0 1 2]\n",
            "correct:  410 total  1000\n",
            "Accuracy of the network on the 1000 test dataset 7: 41.00 %\n",
            "unique out:  [0 1 2] unique pred:  [0 1 2]\n",
            "correct:  438 total  1000\n",
            "Accuracy of the network on the 1000 test dataset 8: 43.80 %\n",
            "unique out:  [0 1 2] unique pred:  [0 1 2]\n",
            "correct:  443 total  1000\n",
            "Accuracy of the network on the 1000 test dataset 9: 44.30 %\n",
            "unique out:  [0 1 2] unique pred:  [0 1 2]\n",
            "correct:  472 total  1000\n",
            "Accuracy of the network on the 1000 test dataset 10: 47.20 %\n",
            "unique out:  [0 1 2] unique pred:  [0 1 2]\n",
            "correct:  469 total  1000\n",
            "Accuracy of the network on the 1000 test dataset 11: 46.90 %\n",
            "--------------------------------------------------------------------------------\n",
            "--------------------------------------------------------------------------------\n",
            "training on data set   3\n",
            "epoch: [0 ] loss: 2.758\n",
            "epoch: [1] loss: 2.420\n",
            "epoch: [1001] loss: 1.339\n",
            "epoch: [2001] loss: 1.321\n",
            "epoch: [3001] loss: 1.315\n",
            "epoch: [4001] loss: 1.311\n",
            "epoch: [5001] loss: 1.309\n",
            "epoch: [6001] loss: 1.310\n",
            "epoch: [7001] loss: 1.308\n",
            "epoch: [8001] loss: 1.308\n",
            "epoch: [9001] loss: 1.309\n",
            "epoch: [10001] loss: 1.308\n",
            "epoch: [11001] loss: 1.308\n",
            "Finished Training\n",
            "Accuracy of the network on the 1000 train images: 43.30 %\n",
            "unique out:  [0 1 2] unique pred:  [0 1 2]\n",
            "correct:  363 total  1000\n",
            "Accuracy of the network on the 1000 test dataset 1: 36.30 %\n",
            "unique out:  [0 1 2] unique pred:  [0 1 2]\n",
            "correct:  398 total  1000\n",
            "Accuracy of the network on the 1000 test dataset 2: 39.80 %\n",
            "unique out:  [0 1 2] unique pred:  [0 1 2]\n",
            "correct:  433 total  1000\n",
            "Accuracy of the network on the 1000 test dataset 3: 43.30 %\n",
            "unique out:  [0 1 2] unique pred:  [0 1 2]\n",
            "correct:  459 total  1000\n",
            "Accuracy of the network on the 1000 test dataset 4: 45.90 %\n",
            "unique out:  [0 1 2] unique pred:  [0 1 2]\n",
            "correct:  464 total  1000\n",
            "Accuracy of the network on the 1000 test dataset 5: 46.40 %\n",
            "unique out:  [0 1 2] unique pred:  [0 1 2]\n",
            "correct:  485 total  1000\n",
            "Accuracy of the network on the 1000 test dataset 6: 48.50 %\n",
            "unique out:  [0 1 2] unique pred:  [0 1 2]\n",
            "correct:  514 total  1000\n",
            "Accuracy of the network on the 1000 test dataset 7: 51.40 %\n",
            "unique out:  [0 1 2] unique pred:  [0 1 2]\n",
            "correct:  603 total  1000\n",
            "Accuracy of the network on the 1000 test dataset 8: 60.30 %\n",
            "unique out:  [0 1 2] unique pred:  [0 1 2]\n",
            "correct:  647 total  1000\n",
            "Accuracy of the network on the 1000 test dataset 9: 64.70 %\n",
            "unique out:  [0 1 2] unique pred:  [0 1 2]\n",
            "correct:  653 total  1000\n",
            "Accuracy of the network on the 1000 test dataset 10: 65.30 %\n",
            "unique out:  [0 1 2] unique pred:  [0 1 2]\n",
            "correct:  659 total  1000\n",
            "Accuracy of the network on the 1000 test dataset 11: 65.90 %\n",
            "--------------------------------------------------------------------------------\n",
            "--------------------------------------------------------------------------------\n",
            "training on data set   4\n",
            "epoch: [0 ] loss: 2.762\n",
            "epoch: [1] loss: 2.423\n",
            "epoch: [1001] loss: 1.305\n",
            "epoch: [2001] loss: 1.265\n",
            "epoch: [3001] loss: 1.246\n",
            "epoch: [4001] loss: 1.234\n",
            "epoch: [5001] loss: 1.228\n",
            "epoch: [6001] loss: 1.226\n",
            "epoch: [7001] loss: 1.223\n",
            "epoch: [8001] loss: 1.222\n",
            "epoch: [9001] loss: 1.222\n",
            "epoch: [10001] loss: 1.220\n",
            "epoch: [11001] loss: 1.220\n",
            "Finished Training\n",
            "Accuracy of the network on the 1000 train images: 48.00 %\n",
            "unique out:  [0 1 2] unique pred:  [0 1 2]\n",
            "correct:  323 total  1000\n",
            "Accuracy of the network on the 1000 test dataset 1: 32.30 %\n",
            "unique out:  [0 1 2] unique pred:  [0 1 2]\n",
            "correct:  360 total  1000\n",
            "Accuracy of the network on the 1000 test dataset 2: 36.00 %\n",
            "unique out:  [0 1 2] unique pred:  [0 1 2]\n",
            "correct:  403 total  1000\n",
            "Accuracy of the network on the 1000 test dataset 3: 40.30 %\n",
            "unique out:  [0 1 2] unique pred:  [0 1 2]\n",
            "correct:  480 total  1000\n",
            "Accuracy of the network on the 1000 test dataset 4: 48.00 %\n",
            "unique out:  [0 1 2] unique pred:  [0 1 2]\n",
            "correct:  537 total  1000\n",
            "Accuracy of the network on the 1000 test dataset 5: 53.70 %\n",
            "unique out:  [0 1 2] unique pred:  [0 1 2]\n",
            "correct:  614 total  1000\n",
            "Accuracy of the network on the 1000 test dataset 6: 61.40 %\n",
            "unique out:  [0 1 2] unique pred:  [0 1 2]\n",
            "correct:  665 total  1000\n",
            "Accuracy of the network on the 1000 test dataset 7: 66.50 %\n",
            "unique out:  [0 1 2] unique pred:  [0 1 2]\n",
            "correct:  656 total  1000\n",
            "Accuracy of the network on the 1000 test dataset 8: 65.60 %\n",
            "unique out:  [0 1 2] unique pred:  [0 1]\n",
            "correct:  650 total  1000\n",
            "Accuracy of the network on the 1000 test dataset 9: 65.00 %\n",
            "unique out:  [0 1 2] unique pred:  [0 1]\n",
            "correct:  650 total  1000\n",
            "Accuracy of the network on the 1000 test dataset 10: 65.00 %\n",
            "unique out:  [0 1 2] unique pred:  [0 1]\n",
            "correct:  656 total  1000\n",
            "Accuracy of the network on the 1000 test dataset 11: 65.60 %\n",
            "--------------------------------------------------------------------------------\n",
            "--------------------------------------------------------------------------------\n",
            "training on data set   5\n",
            "epoch: [0 ] loss: 2.766\n",
            "epoch: [1] loss: 2.427\n",
            "epoch: [1001] loss: 1.256\n",
            "epoch: [2001] loss: 1.184\n",
            "epoch: [3001] loss: 1.142\n",
            "epoch: [4001] loss: 1.115\n",
            "epoch: [5001] loss: 1.099\n",
            "epoch: [6001] loss: 1.089\n",
            "epoch: [7001] loss: 1.081\n",
            "epoch: [8001] loss: 1.077\n",
            "epoch: [9001] loss: 1.074\n",
            "epoch: [10001] loss: 1.071\n",
            "epoch: [11001] loss: 1.069\n",
            "Finished Training\n",
            "Accuracy of the network on the 1000 train images: 54.20 %\n",
            "unique out:  [0 1 2] unique pred:  [0 1 2]\n",
            "correct:  321 total  1000\n",
            "Accuracy of the network on the 1000 test dataset 1: 32.10 %\n",
            "unique out:  [0 1 2] unique pred:  [0 1 2]\n",
            "correct:  356 total  1000\n",
            "Accuracy of the network on the 1000 test dataset 2: 35.60 %\n",
            "unique out:  [0 1 2] unique pred:  [0 1 2]\n",
            "correct:  404 total  1000\n",
            "Accuracy of the network on the 1000 test dataset 3: 40.40 %\n",
            "unique out:  [0 1 2] unique pred:  [0 1 2]\n",
            "correct:  467 total  1000\n",
            "Accuracy of the network on the 1000 test dataset 4: 46.70 %\n",
            "unique out:  [0 1 2] unique pred:  [0 1 2]\n",
            "correct:  542 total  1000\n",
            "Accuracy of the network on the 1000 test dataset 5: 54.20 %\n",
            "unique out:  [0 1 2] unique pred:  [0 1 2]\n",
            "correct:  648 total  1000\n",
            "Accuracy of the network on the 1000 test dataset 6: 64.80 %\n",
            "unique out:  [0 1 2] unique pred:  [0 1 2]\n",
            "correct:  724 total  1000\n",
            "Accuracy of the network on the 1000 test dataset 7: 72.40 %\n",
            "unique out:  [0 1 2] unique pred:  [0 1 2]\n",
            "correct:  712 total  1000\n",
            "Accuracy of the network on the 1000 test dataset 8: 71.20 %\n",
            "unique out:  [0 1 2] unique pred:  [0 1 2]\n",
            "correct:  661 total  1000\n",
            "Accuracy of the network on the 1000 test dataset 9: 66.10 %\n",
            "unique out:  [0 1 2] unique pred:  [0 1 2]\n",
            "correct:  653 total  1000\n",
            "Accuracy of the network on the 1000 test dataset 10: 65.30 %\n",
            "unique out:  [0 1 2] unique pred:  [0 1 2]\n",
            "correct:  661 total  1000\n",
            "Accuracy of the network on the 1000 test dataset 11: 66.10 %\n",
            "--------------------------------------------------------------------------------\n",
            "--------------------------------------------------------------------------------\n",
            "training on data set   6\n",
            "epoch: [0 ] loss: 2.770\n",
            "epoch: [1] loss: 2.430\n",
            "epoch: [1001] loss: 1.198\n",
            "epoch: [2001] loss: 1.085\n",
            "epoch: [3001] loss: 1.014\n",
            "epoch: [4001] loss: 0.968\n",
            "epoch: [5001] loss: 0.936\n",
            "epoch: [6001] loss: 0.915\n",
            "epoch: [7001] loss: 0.898\n",
            "epoch: [8001] loss: 0.886\n",
            "epoch: [9001] loss: 0.878\n",
            "epoch: [10001] loss: 0.870\n",
            "epoch: [11001] loss: 0.864\n",
            "Finished Training\n",
            "Accuracy of the network on the 1000 train images: 63.80 %\n",
            "unique out:  [0 1 2] unique pred:  [0 1 2]\n",
            "correct:  316 total  1000\n",
            "Accuracy of the network on the 1000 test dataset 1: 31.60 %\n",
            "unique out:  [0 1 2] unique pred:  [0 1 2]\n",
            "correct:  357 total  1000\n",
            "Accuracy of the network on the 1000 test dataset 2: 35.70 %\n",
            "unique out:  [0 1 2] unique pred:  [0 1 2]\n",
            "correct:  398 total  1000\n",
            "Accuracy of the network on the 1000 test dataset 3: 39.80 %\n",
            "unique out:  [0 1 2] unique pred:  [0 1 2]\n",
            "correct:  461 total  1000\n",
            "Accuracy of the network on the 1000 test dataset 4: 46.10 %\n",
            "unique out:  [0 1 2] unique pred:  [0 1 2]\n",
            "correct:  553 total  1000\n",
            "Accuracy of the network on the 1000 test dataset 5: 55.30 %\n",
            "unique out:  [0 1 2] unique pred:  [0 1 2]\n",
            "correct:  638 total  1000\n",
            "Accuracy of the network on the 1000 test dataset 6: 63.80 %\n",
            "unique out:  [0 1 2] unique pred:  [0 1 2]\n",
            "correct:  760 total  1000\n",
            "Accuracy of the network on the 1000 test dataset 7: 76.00 %\n",
            "unique out:  [0 1 2] unique pred:  [0 1 2]\n",
            "correct:  778 total  1000\n",
            "Accuracy of the network on the 1000 test dataset 8: 77.80 %\n",
            "unique out:  [0 1 2] unique pred:  [0 1 2]\n",
            "correct:  714 total  1000\n",
            "Accuracy of the network on the 1000 test dataset 9: 71.40 %\n",
            "unique out:  [0 1 2] unique pred:  [0 1 2]\n",
            "correct:  670 total  1000\n",
            "Accuracy of the network on the 1000 test dataset 10: 67.00 %\n",
            "unique out:  [0 1 2] unique pred:  [0 1 2]\n",
            "correct:  678 total  1000\n",
            "Accuracy of the network on the 1000 test dataset 11: 67.80 %\n",
            "--------------------------------------------------------------------------------\n",
            "--------------------------------------------------------------------------------\n",
            "training on data set   7\n",
            "epoch: [0 ] loss: 2.774\n",
            "epoch: [1] loss: 2.433\n",
            "epoch: [1001] loss: 1.136\n",
            "epoch: [2001] loss: 0.983\n",
            "epoch: [3001] loss: 0.885\n",
            "epoch: [4001] loss: 0.818\n",
            "epoch: [5001] loss: 0.771\n",
            "epoch: [6001] loss: 0.737\n",
            "epoch: [7001] loss: 0.711\n",
            "epoch: [8001] loss: 0.691\n",
            "epoch: [9001] loss: 0.675\n",
            "epoch: [10001] loss: 0.661\n",
            "epoch: [11001] loss: 0.650\n",
            "Finished Training\n",
            "Accuracy of the network on the 1000 train images: 77.70 %\n",
            "unique out:  [0 1 2] unique pred:  [0 1 2]\n",
            "correct:  322 total  1000\n",
            "Accuracy of the network on the 1000 test dataset 1: 32.20 %\n",
            "unique out:  [0 1 2] unique pred:  [0 1 2]\n",
            "correct:  352 total  1000\n",
            "Accuracy of the network on the 1000 test dataset 2: 35.20 %\n",
            "unique out:  [0 1 2] unique pred:  [0 1 2]\n",
            "correct:  398 total  1000\n",
            "Accuracy of the network on the 1000 test dataset 3: 39.80 %\n",
            "unique out:  [0 1 2] unique pred:  [0 1 2]\n",
            "correct:  450 total  1000\n",
            "Accuracy of the network on the 1000 test dataset 4: 45.00 %\n",
            "unique out:  [0 1 2] unique pred:  [0 1 2]\n",
            "correct:  551 total  1000\n",
            "Accuracy of the network on the 1000 test dataset 5: 55.10 %\n",
            "unique out:  [0 1 2] unique pred:  [0 1 2]\n",
            "correct:  640 total  1000\n",
            "Accuracy of the network on the 1000 test dataset 6: 64.00 %\n",
            "unique out:  [0 1 2] unique pred:  [0 1 2]\n",
            "correct:  777 total  1000\n",
            "Accuracy of the network on the 1000 test dataset 7: 77.70 %\n",
            "unique out:  [0 1 2] unique pred:  [0 1 2]\n",
            "correct:  866 total  1000\n",
            "Accuracy of the network on the 1000 test dataset 8: 86.60 %\n",
            "unique out:  [0 1 2] unique pred:  [0 1 2]\n",
            "correct:  832 total  1000\n",
            "Accuracy of the network on the 1000 test dataset 9: 83.20 %\n",
            "unique out:  [0 1 2] unique pred:  [0 1 2]\n",
            "correct:  740 total  1000\n",
            "Accuracy of the network on the 1000 test dataset 10: 74.00 %\n",
            "unique out:  [0 1 2] unique pred:  [0 1 2]\n",
            "correct:  752 total  1000\n",
            "Accuracy of the network on the 1000 test dataset 11: 75.20 %\n",
            "--------------------------------------------------------------------------------\n",
            "--------------------------------------------------------------------------------\n",
            "training on data set   8\n",
            "epoch: [0 ] loss: 2.779\n",
            "epoch: [1] loss: 2.432\n",
            "epoch: [1001] loss: 1.074\n",
            "epoch: [2001] loss: 0.889\n",
            "epoch: [3001] loss: 0.770\n",
            "epoch: [4001] loss: 0.688\n",
            "epoch: [5001] loss: 0.629\n",
            "epoch: [6001] loss: 0.583\n",
            "epoch: [7001] loss: 0.547\n",
            "epoch: [8001] loss: 0.517\n",
            "epoch: [9001] loss: 0.492\n",
            "epoch: [10001] loss: 0.471\n",
            "epoch: [11001] loss: 0.452\n",
            "Finished Training\n",
            "Accuracy of the network on the 1000 train images: 89.60 %\n",
            "unique out:  [0 1 2] unique pred:  [0 1 2]\n",
            "correct:  321 total  1000\n",
            "Accuracy of the network on the 1000 test dataset 1: 32.10 %\n",
            "unique out:  [0 1 2] unique pred:  [0 1 2]\n",
            "correct:  355 total  1000\n",
            "Accuracy of the network on the 1000 test dataset 2: 35.50 %\n",
            "unique out:  [0 1 2] unique pred:  [0 1 2]\n",
            "correct:  397 total  1000\n",
            "Accuracy of the network on the 1000 test dataset 3: 39.70 %\n",
            "unique out:  [0 1 2] unique pred:  [0 1 2]\n",
            "correct:  452 total  1000\n",
            "Accuracy of the network on the 1000 test dataset 4: 45.20 %\n",
            "unique out:  [0 1 2] unique pred:  [0 1 2]\n",
            "correct:  535 total  1000\n",
            "Accuracy of the network on the 1000 test dataset 5: 53.50 %\n",
            "unique out:  [0 1 2] unique pred:  [0 1 2]\n",
            "correct:  620 total  1000\n",
            "Accuracy of the network on the 1000 test dataset 6: 62.00 %\n",
            "unique out:  [0 1 2] unique pred:  [0 1 2]\n",
            "correct:  762 total  1000\n",
            "Accuracy of the network on the 1000 test dataset 7: 76.20 %\n",
            "unique out:  [0 1 2] unique pred:  [0 1 2]\n",
            "correct:  896 total  1000\n",
            "Accuracy of the network on the 1000 test dataset 8: 89.60 %\n",
            "unique out:  [0 1 2] unique pred:  [0 1 2]\n",
            "correct:  947 total  1000\n",
            "Accuracy of the network on the 1000 test dataset 9: 94.70 %\n",
            "unique out:  [0 1 2] unique pred:  [0 1 2]\n",
            "correct:  907 total  1000\n",
            "Accuracy of the network on the 1000 test dataset 10: 90.70 %\n",
            "unique out:  [0 1 2] unique pred:  [0 1 2]\n",
            "correct:  901 total  1000\n",
            "Accuracy of the network on the 1000 test dataset 11: 90.10 %\n",
            "--------------------------------------------------------------------------------\n",
            "--------------------------------------------------------------------------------\n",
            "training on data set   9\n",
            "epoch: [0 ] loss: 2.784\n",
            "epoch: [1] loss: 2.430\n",
            "epoch: [1001] loss: 1.017\n",
            "epoch: [2001] loss: 0.808\n",
            "epoch: [3001] loss: 0.677\n",
            "epoch: [4001] loss: 0.584\n",
            "epoch: [5001] loss: 0.513\n",
            "epoch: [6001] loss: 0.456\n",
            "epoch: [7001] loss: 0.409\n",
            "epoch: [8001] loss: 0.370\n",
            "epoch: [9001] loss: 0.336\n",
            "epoch: [10001] loss: 0.307\n",
            "epoch: [11001] loss: 0.282\n",
            "Finished Training\n",
            "Accuracy of the network on the 1000 train images: 97.90 %\n",
            "unique out:  [0 1 2] unique pred:  [0 1 2]\n",
            "correct:  327 total  1000\n",
            "Accuracy of the network on the 1000 test dataset 1: 32.70 %\n",
            "unique out:  [0 1 2] unique pred:  [0 1 2]\n",
            "correct:  360 total  1000\n",
            "Accuracy of the network on the 1000 test dataset 2: 36.00 %\n",
            "unique out:  [0 1 2] unique pred:  [0 1 2]\n",
            "correct:  401 total  1000\n",
            "Accuracy of the network on the 1000 test dataset 3: 40.10 %\n",
            "unique out:  [0 1 2] unique pred:  [0 1 2]\n",
            "correct:  458 total  1000\n",
            "Accuracy of the network on the 1000 test dataset 4: 45.80 %\n",
            "unique out:  [0 1 2] unique pred:  [0 1 2]\n",
            "correct:  523 total  1000\n",
            "Accuracy of the network on the 1000 test dataset 5: 52.30 %\n",
            "unique out:  [0 1 2] unique pred:  [0 1 2]\n",
            "correct:  609 total  1000\n",
            "Accuracy of the network on the 1000 test dataset 6: 60.90 %\n",
            "unique out:  [0 1 2] unique pred:  [0 1 2]\n",
            "correct:  739 total  1000\n",
            "Accuracy of the network on the 1000 test dataset 7: 73.90 %\n",
            "unique out:  [0 1 2] unique pred:  [0 1 2]\n",
            "correct:  876 total  1000\n",
            "Accuracy of the network on the 1000 test dataset 8: 87.60 %\n",
            "unique out:  [0 1 2] unique pred:  [0 1 2]\n",
            "correct:  979 total  1000\n",
            "Accuracy of the network on the 1000 test dataset 9: 97.90 %\n",
            "unique out:  [0 1 2] unique pred:  [0 1 2]\n",
            "correct:  980 total  1000\n",
            "Accuracy of the network on the 1000 test dataset 10: 98.00 %\n",
            "unique out:  [0 1 2] unique pred:  [0 1 2]\n",
            "correct:  965 total  1000\n",
            "Accuracy of the network on the 1000 test dataset 11: 96.50 %\n",
            "--------------------------------------------------------------------------------\n",
            "--------------------------------------------------------------------------------\n",
            "training on data set   10\n",
            "epoch: [0 ] loss: 2.789\n",
            "epoch: [1] loss: 2.431\n",
            "epoch: [1001] loss: 0.965\n",
            "epoch: [2001] loss: 0.743\n",
            "epoch: [3001] loss: 0.604\n",
            "epoch: [4001] loss: 0.504\n",
            "epoch: [5001] loss: 0.427\n",
            "epoch: [6001] loss: 0.365\n",
            "epoch: [7001] loss: 0.314\n",
            "epoch: [8001] loss: 0.272\n",
            "epoch: [9001] loss: 0.236\n",
            "epoch: [10001] loss: 0.207\n",
            "epoch: [11001] loss: 0.182\n",
            "Finished Training\n",
            "Accuracy of the network on the 1000 train images: 99.60 %\n",
            "unique out:  [0 1 2] unique pred:  [0 1 2]\n",
            "correct:  338 total  1000\n",
            "Accuracy of the network on the 1000 test dataset 1: 33.80 %\n",
            "unique out:  [0 1 2] unique pred:  [0 1 2]\n",
            "correct:  365 total  1000\n",
            "Accuracy of the network on the 1000 test dataset 2: 36.50 %\n",
            "unique out:  [0 1 2] unique pred:  [0 1 2]\n",
            "correct:  408 total  1000\n",
            "Accuracy of the network on the 1000 test dataset 3: 40.80 %\n",
            "unique out:  [0 1 2] unique pred:  [0 1 2]\n",
            "correct:  455 total  1000\n",
            "Accuracy of the network on the 1000 test dataset 4: 45.50 %\n",
            "unique out:  [0 1 2] unique pred:  [0 1 2]\n",
            "correct:  522 total  1000\n",
            "Accuracy of the network on the 1000 test dataset 5: 52.20 %\n",
            "unique out:  [0 1 2] unique pred:  [0 1 2]\n",
            "correct:  587 total  1000\n",
            "Accuracy of the network on the 1000 test dataset 6: 58.70 %\n",
            "unique out:  [0 1 2] unique pred:  [0 1 2]\n",
            "correct:  686 total  1000\n",
            "Accuracy of the network on the 1000 test dataset 7: 68.60 %\n",
            "unique out:  [0 1 2] unique pred:  [0 1 2]\n",
            "correct:  795 total  1000\n",
            "Accuracy of the network on the 1000 test dataset 8: 79.50 %\n",
            "unique out:  [0 1 2] unique pred:  [0 1 2]\n",
            "correct:  942 total  1000\n",
            "Accuracy of the network on the 1000 test dataset 9: 94.20 %\n",
            "unique out:  [0 1 2] unique pred:  [0 1 2]\n",
            "correct:  996 total  1000\n",
            "Accuracy of the network on the 1000 test dataset 10: 99.60 %\n",
            "unique out:  [0 1 2] unique pred:  [0 1 2]\n",
            "correct:  994 total  1000\n",
            "Accuracy of the network on the 1000 test dataset 11: 99.40 %\n",
            "--------------------------------------------------------------------------------\n"
          ],
          "name": "stdout"
        }
      ]
    },
    {
      "cell_type": "code",
      "metadata": {
        "id": "In76SYH_zZHV"
      },
      "source": [
        "%matplotlib inline"
      ],
      "execution_count": 135,
      "outputs": []
    },
    {
      "cell_type": "code",
      "metadata": {
        "colab": {
          "base_uri": "https://localhost:8080/",
          "height": 297
        },
        "id": "BS4HtOHEzZ0E",
        "outputId": "355786a8-5112-460a-ddbe-85f3c868aee9"
      },
      "source": [
        "for i,j in enumerate(train_loss_all):\n",
        "    plt.plot(j,label =\"dataset \"+str(i+1))\n",
        "    \n",
        "\n",
        "plt.xlabel(\"Epochs\")\n",
        "plt.ylabel(\"Training_loss\")\n",
        "\n",
        "plt.legend(loc='center left', bbox_to_anchor=(1, 0.5))"
      ],
      "execution_count": 136,
      "outputs": [
        {
          "output_type": "execute_result",
          "data": {
            "text/plain": [
              "<matplotlib.legend.Legend at 0x7fe590dfca50>"
            ]
          },
          "metadata": {
            "tags": []
          },
          "execution_count": 136
        },
        {
          "output_type": "display_data",
          "data": {
            "image/png": "[encoded data removed]",
            "text/plain": [
              "<Figure size 432x288 with 1 Axes>"
            ]
          },
          "metadata": {
            "tags": [],
            "needs_background": "light"
          }
        }
      ]
    },
    {
      "cell_type": "code",
      "metadata": {
        "id": "Va4L2IZ1zj6o"
      },
      "source": [
        ""
      ],
      "execution_count": 30,
      "outputs": []
    }
  ]
}