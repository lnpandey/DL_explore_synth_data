{
  "nbformat": 4,
  "nbformat_minor": 0,
  "metadata": {
    "accelerator": "GPU",
    "colab": {
      "name": "synthetic_type0_MLP2.ipynb",
      "provenance": [],
      "collapsed_sections": []
    },
    "kernelspec": {
      "display_name": "Python 3",
      "language": "python",
      "name": "python3"
    },
    "language_info": {
      "codemirror_mode": {
        "name": "ipython",
        "version": 3
      },
      "file_extension": ".py",
      "mimetype": "text/x-python",
      "name": "python",
      "nbconvert_exporter": "python",
      "pygments_lexer": "ipython3",
      "version": "3.6.5"
    }
  },
  "cells": [
    {
      "cell_type": "code",
      "metadata": {
        "colab": {
          "base_uri": "https://localhost:8080/"
        },
        "id": "N2_J4Rw2r0SQ",
        "outputId": "9a24083b-e8b6-4881-e732-6c614837470b"
      },
      "source": [
        "import numpy as np\n",
        "import pandas as pd\n",
        "from matplotlib import pyplot as plt\n",
        "from tqdm import tqdm\n",
        "%matplotlib inline\n",
        "from torch.utils.data import Dataset, DataLoader\n",
        "import torch\n",
        "import torchvision\n",
        "\n",
        "import torch.nn as nn\n",
        "import torch.optim as optim\n",
        "from torch.nn import functional as F\n",
        "device = torch.device(\"cuda\" if torch.cuda.is_available() else \"cpu\")\n",
        "print(device)"
      ],
      "execution_count": 1,
      "outputs": [
        {
          "output_type": "stream",
          "text": [
            "cuda\n"
          ],
          "name": "stdout"
        }
      ]
    },
    {
      "cell_type": "markdown",
      "metadata": {
        "id": "F6fjud_Fr0Sa"
      },
      "source": [
        "# Generate dataset"
      ]
    },
    {
      "cell_type": "code",
      "metadata": {
        "colab": {
          "base_uri": "https://localhost:8080/"
        },
        "id": "CqdXHO0Cr0Sd",
        "outputId": "db96ed24-c138-4027-f005-f03c13510194"
      },
      "source": [
        "y = np.random.randint(0,3,500)\n",
        "idx= []\n",
        "for i in range(3):\n",
        "    print(i,sum(y==i))\n",
        "    idx.append(y==i)"
      ],
      "execution_count": 2,
      "outputs": [
        {
          "output_type": "stream",
          "text": [
            "0 178\n",
            "1 177\n",
            "2 145\n"
          ],
          "name": "stdout"
        }
      ]
    },
    {
      "cell_type": "code",
      "metadata": {
        "id": "ddhXyODwr0Sk"
      },
      "source": [
        "x = np.zeros((500,))"
      ],
      "execution_count": 3,
      "outputs": []
    },
    {
      "cell_type": "code",
      "metadata": {
        "id": "DyV3N2DIr0Sp"
      },
      "source": [
        "x[idx[0]] = np.random.uniform(low =-1,high =0,size= sum(idx[0]))\n",
        "x[idx[1]] = np.random.uniform(low =0,high =1,size= sum(idx[1]))\n",
        "x[idx[2]] = np.random.uniform(low =2,high =3,size= sum(idx[2]))"
      ],
      "execution_count": 4,
      "outputs": []
    },
    {
      "cell_type": "code",
      "metadata": {
        "colab": {
          "base_uri": "https://localhost:8080/"
        },
        "id": "jG6OiYdHbQqV",
        "outputId": "53fd5147-61dd-40b1-8864-8175a7e807f4"
      },
      "source": [
        "print(x.shape,y.shape)"
      ],
      "execution_count": 5,
      "outputs": [
        {
          "output_type": "stream",
          "text": [
            "(500,) (500,)\n"
          ],
          "name": "stdout"
        }
      ]
    },
    {
      "cell_type": "code",
      "metadata": {
        "id": "tK44lOa5bV96"
      },
      "source": [
        "idx= []\n",
        "for i in range(3):\n",
        "  idx.append(y==i)"
      ],
      "execution_count": 6,
      "outputs": []
    },
    {
      "cell_type": "code",
      "metadata": {
        "colab": {
          "base_uri": "https://localhost:8080/",
          "height": 283
        },
        "id": "hJ8Jm7YUr0St",
        "outputId": "30301d28-4411-4da2-cd7c-7b2b9e1038e5"
      },
      "source": [
        "for i in range(3):\n",
        "    y= np.zeros(x[idx[i]].shape[0])\n",
        "    plt.scatter(x[idx[i]],y,label=\"class_\"+str(i))\n",
        "plt.legend()"
      ],
      "execution_count": 7,
      "outputs": [
        {
          "output_type": "execute_result",
          "data": {
            "text/plain": [
              "<matplotlib.legend.Legend at 0x7f46f7d8a750>"
            ]
          },
          "metadata": {
            "tags": []
          },
          "execution_count": 7
        },
        {
          "output_type": "display_data",
          "data": {
            "image/png": "[encoded data removed]",
            "text/plain": [
              "<Figure size 432x288 with 1 Axes>"
            ]
          },
          "metadata": {
            "tags": [],
            "needs_background": "light"
          }
        }
      ]
    },
    {
      "cell_type": "code",
      "metadata": {
        "id": "UfFHcZJOr0Sz"
      },
      "source": [
        "foreground_classes = {'class_0','class_1' }\n",
        "\n",
        "background_classes = {'class_2'}"
      ],
      "execution_count": 8,
      "outputs": []
    },
    {
      "cell_type": "code",
      "metadata": {
        "colab": {
          "base_uri": "https://localhost:8080/"
        },
        "id": "OplNpNQVr0S2",
        "outputId": "fe9bbc8a-a8f7-4d27-db0c-0cfd44cefb3e"
      },
      "source": [
        "fg_class  = np.random.randint(0,2)\n",
        "fg_idx = np.random.randint(0,9)\n",
        "\n",
        "a = []\n",
        "for i in range(9):\n",
        "    if i == fg_idx:\n",
        "        b = np.random.choice(np.where(idx[fg_class]==True)[0],size=1)\n",
        "        a.append(x[b])\n",
        "        print(\"foreground \"+str(fg_class)+\" present at \" + str(fg_idx))\n",
        "    else:\n",
        "        bg_class = np.random.randint(2,3)\n",
        "        b = np.random.choice(np.where(idx[bg_class]==True)[0],size=1)\n",
        "        a.append(x[b])\n",
        "        print(\"background \"+str(bg_class)+\" present at \" + str(i))\n",
        "a = np.concatenate(a,axis=0)\n",
        "#print(a.shape)\n",
        "\n",
        "print(fg_class , fg_idx)"
      ],
      "execution_count": 9,
      "outputs": [
        {
          "output_type": "stream",
          "text": [
            "background 2 present at 0\n",
            "foreground 1 present at 1\n",
            "background 2 present at 2\n",
            "background 2 present at 3\n",
            "background 2 present at 4\n",
            "background 2 present at 5\n",
            "background 2 present at 6\n",
            "background 2 present at 7\n",
            "background 2 present at 8\n",
            "1 1\n"
          ],
          "name": "stdout"
        }
      ]
    },
    {
      "cell_type": "code",
      "metadata": {
        "colab": {
          "base_uri": "https://localhost:8080/"
        },
        "id": "dwZVmmRBr0S8",
        "outputId": "33f39ae6-8934-4e9e-936f-1b73b783812d"
      },
      "source": [
        "a.shape"
      ],
      "execution_count": 10,
      "outputs": [
        {
          "output_type": "execute_result",
          "data": {
            "text/plain": [
              "(9,)"
            ]
          },
          "metadata": {
            "tags": []
          },
          "execution_count": 10
        }
      ]
    },
    {
      "cell_type": "code",
      "metadata": {
        "id": "huRMsT4heVLx"
      },
      "source": [
        "desired_num = 2000\n",
        "mosaic_list_of_images =[]\n",
        "mosaic_label = []\n",
        "fore_idx=[]\n",
        "for j in range(desired_num):\n",
        "    fg_class  = np.random.randint(0,2)\n",
        "    fg_idx = 0\n",
        "    a = []\n",
        "    for i in range(9):\n",
        "        if i == fg_idx:\n",
        "            b = np.random.choice(np.where(idx[fg_class]==True)[0],size=1)\n",
        "            a.append(x[b])\n",
        "#             print(\"foreground \"+str(fg_class)+\" present at \" + str(fg_idx))\n",
        "        else:\n",
        "            bg_class = np.random.randint(2,3)\n",
        "            b = np.random.choice(np.where(idx[bg_class]==True)[0],size=1)\n",
        "            a.append(x[b])\n",
        "#             print(\"background \"+str(bg_class)+\" present at \" + str(i))\n",
        "    a = np.concatenate(a,axis=0)\n",
        "    mosaic_list_of_images.append(np.reshape(a,(9,1)))\n",
        "    mosaic_label.append(fg_class)\n",
        "    fore_idx.append(fg_idx)"
      ],
      "execution_count": 11,
      "outputs": []
    },
    {
      "cell_type": "code",
      "metadata": {
        "id": "y4ruI0cxr0TE",
        "colab": {
          "base_uri": "https://localhost:8080/"
        },
        "outputId": "e7ac3f93-a35a-4e50-8869-eae55e022e09"
      },
      "source": [
        "mosaic_list_of_images = np.concatenate(mosaic_list_of_images,axis=1).T\n",
        "print(mosaic_list_of_images)"
      ],
      "execution_count": 12,
      "outputs": [
        {
          "output_type": "stream",
          "text": [
            "[[ 0.76463938  2.12341914  2.7109012  ...  2.94404184  2.8895756\n",
            "   2.82571502]\n",
            " [ 0.41139511  2.81945745  2.91695731 ...  2.18303025  2.93311443\n",
            "   2.41094842]\n",
            " [ 0.4272637   2.86475004  2.52067017 ...  2.52461359  2.65494489\n",
            "   2.25651911]\n",
            " ...\n",
            " [-0.98969063  2.3309339   2.01248228 ...  2.75418068  2.69858295\n",
            "   2.52067017]\n",
            " [-0.14443865  2.06130818  2.36961696 ...  2.28450295  2.82665534\n",
            "   2.99316139]\n",
            " [-0.98969063  2.81206949  2.53790931 ...  2.7900146   2.6628118\n",
            "   2.75122502]]\n"
          ],
          "name": "stdout"
        }
      ]
    },
    {
      "cell_type": "code",
      "metadata": {
        "colab": {
          "base_uri": "https://localhost:8080/"
        },
        "id": "RTUTFhJIr0TI",
        "outputId": "b8192f87-0b21-4d22-f061-a57183082aa3"
      },
      "source": [
        "print(np.shape(mosaic_list_of_images))\n",
        "print(np.shape(mosaic_label))\n",
        "print(np.shape(fore_idx))"
      ],
      "execution_count": 13,
      "outputs": [
        {
          "output_type": "stream",
          "text": [
            "(2000, 9)\n",
            "(2000,)\n",
            "(2000,)\n"
          ],
          "name": "stdout"
        }
      ]
    },
    {
      "cell_type": "code",
      "metadata": {
        "colab": {
          "base_uri": "https://localhost:8080/"
        },
        "id": "XsnMtsuqc57h",
        "outputId": "3d590962-4306-45b4-9831-4fb4cf34f211"
      },
      "source": [
        "mosaic_label[0:6]"
      ],
      "execution_count": 14,
      "outputs": [
        {
          "output_type": "execute_result",
          "data": {
            "text/plain": [
              "[1, 1, 1, 0, 1, 0]"
            ]
          },
          "metadata": {
            "tags": []
          },
          "execution_count": 14
        }
      ]
    },
    {
      "cell_type": "code",
      "metadata": {
        "id": "iPoIwbMHx44n"
      },
      "source": [
        "def create_avg_image_from_mosaic_dataset(mosaic_dataset,labels,foreground_index,dataset_number):\n",
        "  \"\"\"\n",
        "  mosaic_dataset : mosaic_dataset contains 9 images 32 x 32 each as 1 data point\n",
        "  labels : mosaic_dataset labels\n",
        "  foreground_index : contains list of indexes where foreground image is present so that using this we can take weighted average\n",
        "  dataset_number : will help us to tell what ratio of foreground image to be taken. for eg: if it is \"j\" then fg_image_ratio = j/9 , bg_image_ratio = (9-j)/8*9\n",
        "  \"\"\"\n",
        "  avg_image_dataset = []\n",
        "  cnt = 0\n",
        "  counter = np.array([0,0])\n",
        "  for i in range(len(mosaic_dataset)):\n",
        "    img = torch.zeros([2], dtype=torch.float64)\n",
        "    np.random.seed(dataset_number*10000 + i)\n",
        "    give_pref = foreground_index[i] #np.random.randint(0,9)\n",
        "    # print(\"outside\", give_pref,foreground_index[i])\n",
        "    for j in range(9):\n",
        "      if j == give_pref:\n",
        "        img = img + mosaic_dataset[i][j]*dataset_number/9\n",
        "      else :\n",
        "        img = img + mosaic_dataset[i][j]*(9-dataset_number)/(8*9)\n",
        "\n",
        "    if give_pref == foreground_index[i] :\n",
        "      # print(\"equal are\", give_pref,foreground_index[i])\n",
        "      cnt += 1\n",
        "      counter[give_pref] += 1\n",
        "    else :\n",
        "      counter[give_pref] += 1\n",
        "\n",
        "    avg_image_dataset.append(img)\n",
        "\n",
        "  print(\"number of correct averaging happened for dataset \"+str(dataset_number)+\" is \"+str(cnt)) \n",
        "  print(\"the averaging are done as \", counter) \n",
        "  return avg_image_dataset , labels , foreground_index\n",
        "        \n",
        "  "
      ],
      "execution_count": 15,
      "outputs": []
    },
    {
      "cell_type": "code",
      "metadata": {
        "colab": {
          "base_uri": "https://localhost:8080/"
        },
        "id": "30ZAjix3x8CM",
        "outputId": "c60c0ac5-8e97-45ce-a917-b5ce0c7687a2"
      },
      "source": [
        "avg_image_dataset_1 , labels_1,  fg_index_1 = create_avg_image_from_mosaic_dataset(mosaic_list_of_images[0:1000], mosaic_label[0:1000], fore_idx[0:1000] , 0)\n",
        "avg_image_dataset_2 , labels_2,  fg_index_2 = create_avg_image_from_mosaic_dataset(mosaic_list_of_images[0:1000], mosaic_label[0:1000], fore_idx[0:1000] , 1)\n",
        "avg_image_dataset_3 , labels_3,  fg_index_3 = create_avg_image_from_mosaic_dataset(mosaic_list_of_images[0:1000], mosaic_label[0:1000], fore_idx[0:1000] , 2)\n",
        "avg_image_dataset_4 , labels_4,  fg_index_4 = create_avg_image_from_mosaic_dataset(mosaic_list_of_images[0:1000], mosaic_label[0:1000], fore_idx[0:1000] , 3)\n",
        "avg_image_dataset_5 , labels_5,  fg_index_5 = create_avg_image_from_mosaic_dataset(mosaic_list_of_images[0:1000], mosaic_label[0:1000], fore_idx[0:1000] , 4)\n",
        "avg_image_dataset_6 , labels_6,  fg_index_6 = create_avg_image_from_mosaic_dataset(mosaic_list_of_images[0:1000], mosaic_label[0:1000], fore_idx[0:1000] , 5)\n",
        "avg_image_dataset_7 , labels_7,  fg_index_7 = create_avg_image_from_mosaic_dataset(mosaic_list_of_images[0:1000], mosaic_label[0:1000], fore_idx[0:1000] , 6)\n",
        "avg_image_dataset_8 , labels_8,  fg_index_8 = create_avg_image_from_mosaic_dataset(mosaic_list_of_images[0:1000], mosaic_label[0:1000], fore_idx[0:1000] , 7)\n",
        "avg_image_dataset_9 , labels_9,  fg_index_9 = create_avg_image_from_mosaic_dataset(mosaic_list_of_images[0:1000], mosaic_label[0:1000], fore_idx[0:1000] , 8)\n",
        "avg_image_dataset_10 , labels_10,  fg_index_10 = create_avg_image_from_mosaic_dataset(mosaic_list_of_images[0:1000], mosaic_label[0:1000], fore_idx[0:1000] , 9)\n",
        "\n",
        "test_dataset , labels , fg_index = create_avg_image_from_mosaic_dataset(mosaic_list_of_images[1000:2000], mosaic_label[1000:2000], fore_idx[1000:2000] , 9)"
      ],
      "execution_count": 16,
      "outputs": [
        {
          "output_type": "stream",
          "text": [
            "number of correct averaging happened for dataset 0 is 1000\n",
            "the averaging are done as  [1000    0]\n",
            "number of correct averaging happened for dataset 1 is 1000\n",
            "the averaging are done as  [1000    0]\n",
            "number of correct averaging happened for dataset 2 is 1000\n",
            "the averaging are done as  [1000    0]\n",
            "number of correct averaging happened for dataset 3 is 1000\n",
            "the averaging are done as  [1000    0]\n",
            "number of correct averaging happened for dataset 4 is 1000\n",
            "the averaging are done as  [1000    0]\n",
            "number of correct averaging happened for dataset 5 is 1000\n",
            "the averaging are done as  [1000    0]\n",
            "number of correct averaging happened for dataset 6 is 1000\n",
            "the averaging are done as  [1000    0]\n",
            "number of correct averaging happened for dataset 7 is 1000\n",
            "the averaging are done as  [1000    0]\n",
            "number of correct averaging happened for dataset 8 is 1000\n",
            "the averaging are done as  [1000    0]\n",
            "number of correct averaging happened for dataset 9 is 1000\n",
            "the averaging are done as  [1000    0]\n",
            "number of correct averaging happened for dataset 9 is 1000\n",
            "the averaging are done as  [1000    0]\n"
          ],
          "name": "stdout"
        }
      ]
    },
    {
      "cell_type": "code",
      "metadata": {
        "id": "yL0BRf8er0TX"
      },
      "source": [
        "class MosaicDataset(Dataset):\n",
        "  \"\"\"MosaicDataset dataset.\"\"\"\n",
        "\n",
        "  def __init__(self, mosaic_list_of_images, mosaic_label):\n",
        "    \"\"\"\n",
        "      Args:\n",
        "        csv_file (string): Path to the csv file with annotations.\n",
        "        root_dir (string): Directory with all the images.\n",
        "        transform (callable, optional): Optional transform to be applied\n",
        "            on a sample.\n",
        "    \"\"\"\n",
        "    self.mosaic = mosaic_list_of_images\n",
        "    self.label = mosaic_label\n",
        "    #self.fore_idx = fore_idx\n",
        "    \n",
        "  def __len__(self):\n",
        "    return len(self.label)\n",
        "\n",
        "  def __getitem__(self, idx):\n",
        "    return self.mosaic[idx] , self.label[idx] #, self.fore_idx[idx]\n",
        "\n"
      ],
      "execution_count": 17,
      "outputs": []
    },
    {
      "cell_type": "code",
      "metadata": {
        "colab": {
          "base_uri": "https://localhost:8080/"
        },
        "id": "4KsrW9qL9xgS",
        "outputId": "2a8b26ae-3bcc-4f9e-9f14-36d6f4ec9356"
      },
      "source": [
        "avg_image_dataset_1[0].shape\n",
        "avg_image_dataset_1[0]"
      ],
      "execution_count": 18,
      "outputs": [
        {
          "output_type": "execute_result",
          "data": {
            "text/plain": [
              "tensor([2.6705, 2.6705], dtype=torch.float64)"
            ]
          },
          "metadata": {
            "tags": []
          },
          "execution_count": 18
        }
      ]
    },
    {
      "cell_type": "code",
      "metadata": {
        "colab": {
          "base_uri": "https://localhost:8080/"
        },
        "id": "fjVnan3CA8ix",
        "outputId": "9e05c6c8-0ea1-4253-de17-faf55a4e65f9"
      },
      "source": [
        "l = [ labels_1, labels_2, labels_3, labels_4, labels_5, labels_6, labels_7, labels_8, labels_9, labels_10]\n",
        "for i in l:\n",
        "  print(np.unique(l))"
      ],
      "execution_count": 19,
      "outputs": [
        {
          "output_type": "stream",
          "text": [
            "[0 1]\n",
            "[0 1]\n",
            "[0 1]\n",
            "[0 1]\n",
            "[0 1]\n",
            "[0 1]\n",
            "[0 1]\n",
            "[0 1]\n",
            "[0 1]\n",
            "[0 1]\n"
          ],
          "name": "stdout"
        }
      ]
    },
    {
      "cell_type": "code",
      "metadata": {
        "id": "EY2l62APygaV"
      },
      "source": [
        "batch = 200\n",
        "\n",
        "traindata_1 = MosaicDataset(avg_image_dataset_1, labels_1 )\n",
        "trainloader_1 = DataLoader( traindata_1 , batch_size= batch ,shuffle=True)\n",
        "\n",
        "traindata_2 = MosaicDataset(avg_image_dataset_2, labels_2 )\n",
        "trainloader_2 = DataLoader( traindata_2 , batch_size= batch ,shuffle=True)\n",
        "\n",
        "traindata_3 = MosaicDataset(avg_image_dataset_3, labels_3 )\n",
        "trainloader_3 = DataLoader( traindata_3 , batch_size= batch ,shuffle=True)\n",
        "\n",
        "traindata_4 = MosaicDataset(avg_image_dataset_4, labels_4 )\n",
        "trainloader_4 = DataLoader( traindata_4 , batch_size= batch ,shuffle=True)\n",
        "\n",
        "traindata_5 = MosaicDataset(avg_image_dataset_5, labels_5 )\n",
        "trainloader_5 = DataLoader( traindata_5 , batch_size= batch ,shuffle=True)\n",
        "\n",
        "traindata_6 = MosaicDataset(avg_image_dataset_6, labels_6 )\n",
        "trainloader_6 = DataLoader( traindata_6 , batch_size= batch ,shuffle=True)\n",
        "\n",
        "traindata_7 = MosaicDataset(avg_image_dataset_7, labels_7 )\n",
        "trainloader_7 = DataLoader( traindata_7 , batch_size= batch ,shuffle=True)\n",
        "\n",
        "traindata_8 = MosaicDataset(avg_image_dataset_8, labels_8 )\n",
        "trainloader_8 = DataLoader( traindata_8 , batch_size= batch ,shuffle=True)\n",
        "\n",
        "traindata_9 = MosaicDataset(avg_image_dataset_9, labels_9 )\n",
        "trainloader_9 = DataLoader( traindata_9 , batch_size= batch ,shuffle=True)\n",
        "\n",
        "traindata_10 = MosaicDataset(avg_image_dataset_10, labels_10 )\n",
        "trainloader_10 = DataLoader( traindata_10 , batch_size= batch ,shuffle=True)"
      ],
      "execution_count": 20,
      "outputs": []
    },
    {
      "cell_type": "code",
      "metadata": {
        "id": "9suUslCj8YZK"
      },
      "source": [
        "testdata_1 = MosaicDataset(avg_image_dataset_1, labels_1 )\n",
        "testloader_1 = DataLoader( testdata_1 , batch_size= batch ,shuffle=False)\n",
        "\n",
        "testdata_2 = MosaicDataset(avg_image_dataset_2, labels_2 )\n",
        "testloader_2 = DataLoader( testdata_2 , batch_size= batch ,shuffle=False)\n",
        "\n",
        "testdata_3 = MosaicDataset(avg_image_dataset_3, labels_3 )\n",
        "testloader_3 = DataLoader( testdata_3 , batch_size= batch ,shuffle=False)\n",
        "\n",
        "testdata_4 = MosaicDataset(avg_image_dataset_4, labels_4 )\n",
        "testloader_4 = DataLoader( testdata_4 , batch_size= batch ,shuffle=False)\n",
        "\n",
        "testdata_5 = MosaicDataset(avg_image_dataset_5, labels_5 )\n",
        "testloader_5 = DataLoader( testdata_5 , batch_size= batch ,shuffle=False)\n",
        "\n",
        "testdata_6 = MosaicDataset(avg_image_dataset_6, labels_6 )\n",
        "testloader_6 = DataLoader( testdata_6 , batch_size= batch ,shuffle=False)\n",
        "\n",
        "testdata_7 = MosaicDataset(avg_image_dataset_7, labels_7 )\n",
        "testloader_7 = DataLoader( testdata_7 , batch_size= batch ,shuffle=False)\n",
        "\n",
        "testdata_8 = MosaicDataset(avg_image_dataset_8, labels_8 )\n",
        "testloader_8 = DataLoader( testdata_8 , batch_size= batch ,shuffle=False)\n",
        "\n",
        "testdata_9 = MosaicDataset(avg_image_dataset_9, labels_9 )\n",
        "testloader_9 = DataLoader( testdata_9 , batch_size= batch ,shuffle=False)\n",
        "\n",
        "testdata_10 = MosaicDataset(avg_image_dataset_10, labels_10 )\n",
        "testloader_10 = DataLoader( testdata_10 , batch_size= batch ,shuffle=False)\n",
        "\n"
      ],
      "execution_count": 21,
      "outputs": []
    },
    {
      "cell_type": "code",
      "metadata": {
        "id": "Nh3mBQHZ8bEj"
      },
      "source": [
        "testdata_11 = MosaicDataset(test_dataset, labels )\n",
        "testloader_11 = DataLoader( testdata_11 , batch_size= batch ,shuffle=False)"
      ],
      "execution_count": 22,
      "outputs": []
    },
    {
      "cell_type": "code",
      "metadata": {
        "id": "5_XeIUk0r0Tl"
      },
      "source": [
        "class Whatnet(nn.Module):\n",
        "    def __init__(self):\n",
        "        super(Whatnet,self).__init__()\n",
        "        self.linear1 = nn.Linear(2,50)\n",
        "        self.linear2 = nn.Linear(50,10)\n",
        "        self.linear3 = nn.Linear(10,2)\n",
        "\n",
        "    def forward(self,x):\n",
        "        x = F.relu(self.linear1(x))\n",
        "        x = F.relu(self.linear2(x))\n",
        "        x = (self.linear3(x))\n",
        "\n",
        "        return x"
      ],
      "execution_count": 36,
      "outputs": []
    },
    {
      "cell_type": "code",
      "metadata": {
        "id": "pjD2VZuV9Ed4"
      },
      "source": [
        "def calculate_loss(dataloader,model,criter):\n",
        "  model.eval()\n",
        "  r_loss = 0\n",
        "  with torch.no_grad():\n",
        "    for i, data in enumerate(dataloader, 0):\n",
        "      inputs, labels = data\n",
        "      inputs, labels = inputs.to(\"cuda\"),labels.to(\"cuda\")\n",
        "      outputs = model(inputs)\n",
        "      loss = criter(outputs, labels)\n",
        "      r_loss += loss.item()\n",
        "  return r_loss/i"
      ],
      "execution_count": 37,
      "outputs": []
    },
    {
      "cell_type": "code",
      "metadata": {
        "id": "uALi25pmzQHV"
      },
      "source": [
        "def test_all(number, testloader,net):\n",
        "    correct = 0\n",
        "    total = 0\n",
        "    out = []\n",
        "    pred = []\n",
        "    with torch.no_grad():\n",
        "        for data in testloader:\n",
        "            images, labels = data\n",
        "            images, labels = images.to(\"cuda\"),labels.to(\"cuda\")\n",
        "            out.append(labels.cpu().numpy())\n",
        "            outputs= net(images)\n",
        "            _, predicted = torch.max(outputs.data, 1)\n",
        "            pred.append(predicted.cpu().numpy())\n",
        "            total += labels.size(0)\n",
        "            correct += (predicted == labels).sum().item()\n",
        "    \n",
        "    pred = np.concatenate(pred, axis = 0)\n",
        "    out = np.concatenate(out, axis = 0)\n",
        "    print(\"unique out: \",  np.unique(out), \"unique pred: \", np.unique(pred) )\n",
        "    print(\"correct: \", correct, \"total \",  total)\n",
        "    print('Accuracy of the network on the 1000 test dataset %d: %.2f %%' % (number , 100 * correct / total))"
      ],
      "execution_count": 38,
      "outputs": []
    },
    {
      "cell_type": "code",
      "metadata": {
        "id": "4vmNprlPzTjP"
      },
      "source": [
        "def train_all(trainloader, ds_number, testloader_list):\n",
        "    \n",
        "    print(\"--\"*40)\n",
        "    print(\"training on data set  \", ds_number)\n",
        "    \n",
        "    torch.manual_seed(12)\n",
        "    net = Whatnet().double()\n",
        "    net = net.to(\"cuda\")\n",
        "    \n",
        "    criterion_net = nn.CrossEntropyLoss()\n",
        "    optimizer_net = optim.Adam(net.parameters(), lr=0.001 ) #, momentum=0.9)\n",
        "    \n",
        "    acti = []\n",
        "    loss_curi = []\n",
        "    epochs = 12000\n",
        "    running_loss = calculate_loss(trainloader,net,criterion_net)\n",
        "    loss_curi.append(running_loss)\n",
        "    print('epoch: [%d ] loss: %.3f' %(0,running_loss)) \n",
        "    for epoch in range(epochs): # loop over the dataset multiple times\n",
        "        ep_lossi = []\n",
        "\n",
        "        running_loss = 0.0\n",
        "        net.train()\n",
        "        for i, data in enumerate(trainloader, 0):\n",
        "            # get the inputs\n",
        "            inputs, labels = data\n",
        "            inputs, labels = inputs.to(\"cuda\"),labels.to(\"cuda\")\n",
        "\n",
        "            # zero the parameter gradients\n",
        "            optimizer_net.zero_grad()\n",
        "\n",
        "            # forward + backward + optimize\n",
        "            outputs = net(inputs)\n",
        "            loss = criterion_net(outputs, labels)\n",
        "            # print statistics\n",
        "            running_loss += loss.item()\n",
        "            loss.backward()\n",
        "            optimizer_net.step()\n",
        "\n",
        "        running_loss = calculate_loss(trainloader,net,criterion_net)\n",
        "        if(epoch%1000 == 0):\n",
        "          print('epoch: [%d] loss: %.3f' %(epoch + 1,running_loss)) \n",
        "        loss_curi.append(running_loss)   #loss per epoch\n",
        "        if running_loss<=0.005:\n",
        "          print('epoch: [%d] loss: %.3f' %(epoch + 1,running_loss))\n",
        "          break\n",
        "\n",
        "    print('Finished Training')\n",
        "    \n",
        "    correct = 0\n",
        "    total = 0\n",
        "    with torch.no_grad():\n",
        "        for data in trainloader:\n",
        "            images, labels = data\n",
        "            images, labels = images.to(\"cuda\"), labels.to(\"cuda\")\n",
        "            outputs = net(images)\n",
        "            _, predicted = torch.max(outputs.data, 1)\n",
        "            total += labels.size(0)\n",
        "            correct += (predicted == labels).sum().item()\n",
        "\n",
        "    print('Accuracy of the network on the 1000 train images: %.2f %%' % (  100 * correct / total))\n",
        "    \n",
        "    for i, j in enumerate(testloader_list):\n",
        "        test_all(i+1, j,net)\n",
        "    \n",
        "    print(\"--\"*40)\n",
        "    \n",
        "    return loss_curi\n",
        "    "
      ],
      "execution_count": 39,
      "outputs": []
    },
    {
      "cell_type": "code",
      "metadata": {
        "id": "Yl41sE8vFERk"
      },
      "source": [
        "train_loss_all=[]\n",
        "\n",
        "testloader_list= [ testloader_1, testloader_2, testloader_3, testloader_4, testloader_5, testloader_6,\n",
        "                 testloader_7, testloader_8, testloader_9, testloader_10, testloader_11]"
      ],
      "execution_count": 40,
      "outputs": []
    },
    {
      "cell_type": "code",
      "metadata": {
        "colab": {
          "base_uri": "https://localhost:8080/"
        },
        "id": "5gQoPST5zW2t",
        "outputId": "1acb3a09-7498-4b66-9ee5-d6288c2dcebf"
      },
      "source": [
        "train_loss_all.append(train_all(trainloader_1, 1, testloader_list))\n",
        "train_loss_all.append(train_all(trainloader_2, 2, testloader_list))\n",
        "train_loss_all.append(train_all(trainloader_3, 3, testloader_list))\n",
        "train_loss_all.append(train_all(trainloader_4, 4, testloader_list))\n",
        "train_loss_all.append(train_all(trainloader_5, 5, testloader_list))\n",
        "train_loss_all.append(train_all(trainloader_6, 6, testloader_list))\n",
        "train_loss_all.append(train_all(trainloader_7, 7, testloader_list))\n",
        "train_loss_all.append(train_all(trainloader_8, 8, testloader_list))\n",
        "train_loss_all.append(train_all(trainloader_9, 9, testloader_list))\n",
        "train_loss_all.append(train_all(trainloader_10, 10, testloader_list))"
      ],
      "execution_count": 41,
      "outputs": [
        {
          "output_type": "stream",
          "text": [
            "--------------------------------------------------------------------------------\n",
            "training on data set   1\n",
            "epoch: [0 ] loss: 0.879\n",
            "epoch: [1] loss: 0.869\n",
            "epoch: [1001] loss: 0.866\n",
            "epoch: [2001] loss: 0.866\n",
            "epoch: [3001] loss: 0.866\n",
            "epoch: [4001] loss: 0.866\n",
            "epoch: [5001] loss: 0.866\n",
            "epoch: [6001] loss: 0.866\n",
            "epoch: [7001] loss: 0.866\n",
            "epoch: [8001] loss: 0.866\n",
            "epoch: [9001] loss: 0.866\n",
            "epoch: [10001] loss: 0.866\n",
            "epoch: [11001] loss: 0.866\n",
            "Finished Training\n",
            "Accuracy of the network on the 1000 train images: 51.10 %\n",
            "unique out:  [0 1] unique pred:  [0 1]\n",
            "correct:  511 total  1000\n",
            "Accuracy of the network on the 1000 test dataset 1: 51.10 %\n",
            "unique out:  [0 1] unique pred:  [1]\n",
            "correct:  512 total  1000\n",
            "Accuracy of the network on the 1000 test dataset 2: 51.20 %\n",
            "unique out:  [0 1] unique pred:  [1]\n",
            "correct:  512 total  1000\n",
            "Accuracy of the network on the 1000 test dataset 3: 51.20 %\n",
            "unique out:  [0 1] unique pred:  [1]\n",
            "correct:  512 total  1000\n",
            "Accuracy of the network on the 1000 test dataset 4: 51.20 %\n",
            "unique out:  [0 1] unique pred:  [1]\n",
            "correct:  512 total  1000\n",
            "Accuracy of the network on the 1000 test dataset 5: 51.20 %\n",
            "unique out:  [0 1] unique pred:  [1]\n",
            "correct:  512 total  1000\n",
            "Accuracy of the network on the 1000 test dataset 6: 51.20 %\n",
            "unique out:  [0 1] unique pred:  [1]\n",
            "correct:  512 total  1000\n",
            "Accuracy of the network on the 1000 test dataset 7: 51.20 %\n",
            "unique out:  [0 1] unique pred:  [1]\n",
            "correct:  512 total  1000\n",
            "Accuracy of the network on the 1000 test dataset 8: 51.20 %\n",
            "unique out:  [0 1] unique pred:  [1]\n",
            "correct:  512 total  1000\n",
            "Accuracy of the network on the 1000 test dataset 9: 51.20 %\n",
            "unique out:  [0 1] unique pred:  [1]\n",
            "correct:  512 total  1000\n",
            "Accuracy of the network on the 1000 test dataset 10: 51.20 %\n",
            "unique out:  [0 1] unique pred:  [1]\n",
            "correct:  500 total  1000\n",
            "Accuracy of the network on the 1000 test dataset 11: 50.00 %\n",
            "--------------------------------------------------------------------------------\n",
            "--------------------------------------------------------------------------------\n",
            "training on data set   2\n",
            "epoch: [0 ] loss: 0.869\n",
            "epoch: [1] loss: 0.865\n",
            "epoch: [1001] loss: 0.712\n",
            "epoch: [2001] loss: 0.711\n",
            "epoch: [3001] loss: 0.711\n",
            "epoch: [4001] loss: 0.711\n",
            "epoch: [5001] loss: 0.711\n",
            "epoch: [6001] loss: 0.711\n",
            "epoch: [7001] loss: 0.712\n",
            "epoch: [8001] loss: 0.711\n",
            "epoch: [9001] loss: 0.712\n",
            "epoch: [10001] loss: 0.710\n",
            "epoch: [11001] loss: 0.711\n",
            "Finished Training\n",
            "Accuracy of the network on the 1000 train images: 69.40 %\n",
            "unique out:  [0 1] unique pred:  [0 1]\n",
            "correct:  511 total  1000\n",
            "Accuracy of the network on the 1000 test dataset 1: 51.10 %\n",
            "unique out:  [0 1] unique pred:  [0 1]\n",
            "correct:  694 total  1000\n",
            "Accuracy of the network on the 1000 test dataset 2: 69.40 %\n",
            "unique out:  [0 1] unique pred:  [0 1]\n",
            "correct:  520 total  1000\n",
            "Accuracy of the network on the 1000 test dataset 3: 52.00 %\n",
            "unique out:  [0 1] unique pred:  [0]\n",
            "correct:  488 total  1000\n",
            "Accuracy of the network on the 1000 test dataset 4: 48.80 %\n",
            "unique out:  [0 1] unique pred:  [0]\n",
            "correct:  488 total  1000\n",
            "Accuracy of the network on the 1000 test dataset 5: 48.80 %\n",
            "unique out:  [0 1] unique pred:  [0]\n",
            "correct:  488 total  1000\n",
            "Accuracy of the network on the 1000 test dataset 6: 48.80 %\n",
            "unique out:  [0 1] unique pred:  [0]\n",
            "correct:  488 total  1000\n",
            "Accuracy of the network on the 1000 test dataset 7: 48.80 %\n",
            "unique out:  [0 1] unique pred:  [0]\n",
            "correct:  488 total  1000\n",
            "Accuracy of the network on the 1000 test dataset 8: 48.80 %\n",
            "unique out:  [0 1] unique pred:  [0]\n",
            "correct:  488 total  1000\n",
            "Accuracy of the network on the 1000 test dataset 9: 48.80 %\n",
            "unique out:  [0 1] unique pred:  [0]\n",
            "correct:  488 total  1000\n",
            "Accuracy of the network on the 1000 test dataset 10: 48.80 %\n",
            "unique out:  [0 1] unique pred:  [0]\n",
            "correct:  500 total  1000\n",
            "Accuracy of the network on the 1000 test dataset 11: 50.00 %\n",
            "--------------------------------------------------------------------------------\n",
            "--------------------------------------------------------------------------------\n",
            "training on data set   3\n",
            "epoch: [0 ] loss: 0.862\n",
            "epoch: [1] loss: 0.858\n",
            "epoch: [1001] loss: 0.435\n",
            "epoch: [2001] loss: 0.434\n",
            "epoch: [3001] loss: 0.433\n",
            "epoch: [4001] loss: 0.434\n",
            "epoch: [5001] loss: 0.433\n",
            "epoch: [6001] loss: 0.433\n",
            "epoch: [7001] loss: 0.434\n",
            "epoch: [8001] loss: 0.432\n",
            "epoch: [9001] loss: 0.433\n",
            "epoch: [10001] loss: 0.431\n",
            "epoch: [11001] loss: 0.432\n",
            "Finished Training\n",
            "Accuracy of the network on the 1000 train images: 83.90 %\n",
            "unique out:  [0 1] unique pred:  [1]\n",
            "correct:  512 total  1000\n",
            "Accuracy of the network on the 1000 test dataset 1: 51.20 %\n",
            "unique out:  [0 1] unique pred:  [0 1]\n",
            "correct:  516 total  1000\n",
            "Accuracy of the network on the 1000 test dataset 2: 51.60 %\n",
            "unique out:  [0 1] unique pred:  [0 1]\n",
            "correct:  839 total  1000\n",
            "Accuracy of the network on the 1000 test dataset 3: 83.90 %\n",
            "unique out:  [0 1] unique pred:  [0 1]\n",
            "correct:  588 total  1000\n",
            "Accuracy of the network on the 1000 test dataset 4: 58.80 %\n",
            "unique out:  [0 1] unique pred:  [0 1]\n",
            "correct:  489 total  1000\n",
            "Accuracy of the network on the 1000 test dataset 5: 48.90 %\n",
            "unique out:  [0 1] unique pred:  [0]\n",
            "correct:  488 total  1000\n",
            "Accuracy of the network on the 1000 test dataset 6: 48.80 %\n",
            "unique out:  [0 1] unique pred:  [0]\n",
            "correct:  488 total  1000\n",
            "Accuracy of the network on the 1000 test dataset 7: 48.80 %\n",
            "unique out:  [0 1] unique pred:  [0]\n",
            "correct:  488 total  1000\n",
            "Accuracy of the network on the 1000 test dataset 8: 48.80 %\n",
            "unique out:  [0 1] unique pred:  [0]\n",
            "correct:  488 total  1000\n",
            "Accuracy of the network on the 1000 test dataset 9: 48.80 %\n",
            "unique out:  [0 1] unique pred:  [0]\n",
            "correct:  488 total  1000\n",
            "Accuracy of the network on the 1000 test dataset 10: 48.80 %\n",
            "unique out:  [0 1] unique pred:  [0]\n",
            "correct:  500 total  1000\n",
            "Accuracy of the network on the 1000 test dataset 11: 50.00 %\n",
            "--------------------------------------------------------------------------------\n",
            "--------------------------------------------------------------------------------\n",
            "training on data set   4\n",
            "epoch: [0 ] loss: 0.854\n",
            "epoch: [1] loss: 0.847\n",
            "epoch: [1001] loss: 0.264\n",
            "epoch: [2001] loss: 0.262\n",
            "epoch: [3001] loss: 0.262\n",
            "epoch: [4001] loss: 0.262\n",
            "epoch: [5001] loss: 0.262\n",
            "epoch: [6001] loss: 0.262\n",
            "epoch: [7001] loss: 0.262\n",
            "epoch: [8001] loss: 0.262\n",
            "epoch: [9001] loss: 0.263\n",
            "epoch: [10001] loss: 0.262\n",
            "epoch: [11001] loss: 0.262\n",
            "Finished Training\n",
            "Accuracy of the network on the 1000 train images: 89.50 %\n",
            "unique out:  [0 1] unique pred:  [1]\n",
            "correct:  512 total  1000\n",
            "Accuracy of the network on the 1000 test dataset 1: 51.20 %\n",
            "unique out:  [0 1] unique pred:  [1]\n",
            "correct:  512 total  1000\n",
            "Accuracy of the network on the 1000 test dataset 2: 51.20 %\n",
            "unique out:  [0 1] unique pred:  [0 1]\n",
            "correct:  545 total  1000\n",
            "Accuracy of the network on the 1000 test dataset 3: 54.50 %\n",
            "unique out:  [0 1] unique pred:  [0 1]\n",
            "correct:  895 total  1000\n",
            "Accuracy of the network on the 1000 test dataset 4: 89.50 %\n",
            "unique out:  [0 1] unique pred:  [0 1]\n",
            "correct:  688 total  1000\n",
            "Accuracy of the network on the 1000 test dataset 5: 68.80 %\n",
            "unique out:  [0 1] unique pred:  [0 1]\n",
            "correct:  511 total  1000\n",
            "Accuracy of the network on the 1000 test dataset 6: 51.10 %\n",
            "unique out:  [0 1] unique pred:  [0]\n",
            "correct:  488 total  1000\n",
            "Accuracy of the network on the 1000 test dataset 7: 48.80 %\n",
            "unique out:  [0 1] unique pred:  [0]\n",
            "correct:  488 total  1000\n",
            "Accuracy of the network on the 1000 test dataset 8: 48.80 %\n",
            "unique out:  [0 1] unique pred:  [0]\n",
            "correct:  488 total  1000\n",
            "Accuracy of the network on the 1000 test dataset 9: 48.80 %\n",
            "unique out:  [0 1] unique pred:  [0]\n",
            "correct:  488 total  1000\n",
            "Accuracy of the network on the 1000 test dataset 10: 48.80 %\n",
            "unique out:  [0 1] unique pred:  [0]\n",
            "correct:  500 total  1000\n",
            "Accuracy of the network on the 1000 test dataset 11: 50.00 %\n",
            "--------------------------------------------------------------------------------\n",
            "--------------------------------------------------------------------------------\n",
            "training on data set   5\n",
            "epoch: [0 ] loss: 0.843\n",
            "epoch: [1] loss: 0.841\n",
            "epoch: [1001] loss: 0.168\n",
            "epoch: [2001] loss: 0.165\n",
            "epoch: [3001] loss: 0.165\n",
            "epoch: [4001] loss: 0.165\n",
            "epoch: [5001] loss: 0.165\n",
            "epoch: [6001] loss: 0.164\n",
            "epoch: [7001] loss: 0.165\n",
            "epoch: [8001] loss: 0.164\n",
            "epoch: [9001] loss: 0.165\n",
            "epoch: [10001] loss: 0.165\n",
            "epoch: [11001] loss: 0.164\n",
            "Finished Training\n",
            "Accuracy of the network on the 1000 train images: 94.00 %\n",
            "unique out:  [0 1] unique pred:  [1]\n",
            "correct:  512 total  1000\n",
            "Accuracy of the network on the 1000 test dataset 1: 51.20 %\n",
            "unique out:  [0 1] unique pred:  [1]\n",
            "correct:  512 total  1000\n",
            "Accuracy of the network on the 1000 test dataset 2: 51.20 %\n",
            "unique out:  [0 1] unique pred:  [1]\n",
            "correct:  512 total  1000\n",
            "Accuracy of the network on the 1000 test dataset 3: 51.20 %\n",
            "unique out:  [0 1] unique pred:  [0 1]\n",
            "correct:  594 total  1000\n",
            "Accuracy of the network on the 1000 test dataset 4: 59.40 %\n",
            "unique out:  [0 1] unique pred:  [0 1]\n",
            "correct:  940 total  1000\n",
            "Accuracy of the network on the 1000 test dataset 5: 94.00 %\n",
            "unique out:  [0 1] unique pred:  [0 1]\n",
            "correct:  744 total  1000\n",
            "Accuracy of the network on the 1000 test dataset 6: 74.40 %\n",
            "unique out:  [0 1] unique pred:  [0 1]\n",
            "correct:  581 total  1000\n",
            "Accuracy of the network on the 1000 test dataset 7: 58.10 %\n",
            "unique out:  [0 1] unique pred:  [0]\n",
            "correct:  488 total  1000\n",
            "Accuracy of the network on the 1000 test dataset 8: 48.80 %\n",
            "unique out:  [0 1] unique pred:  [0]\n",
            "correct:  488 total  1000\n",
            "Accuracy of the network on the 1000 test dataset 9: 48.80 %\n",
            "unique out:  [0 1] unique pred:  [0]\n",
            "correct:  488 total  1000\n",
            "Accuracy of the network on the 1000 test dataset 10: 48.80 %\n",
            "unique out:  [0 1] unique pred:  [0]\n",
            "correct:  500 total  1000\n",
            "Accuracy of the network on the 1000 test dataset 11: 50.00 %\n",
            "--------------------------------------------------------------------------------\n",
            "--------------------------------------------------------------------------------\n",
            "training on data set   6\n",
            "epoch: [0 ] loss: 0.834\n",
            "epoch: [1] loss: 0.828\n",
            "epoch: [1001] loss: 0.107\n",
            "epoch: [2001] loss: 0.103\n",
            "epoch: [3001] loss: 0.103\n",
            "epoch: [4001] loss: 0.103\n",
            "epoch: [5001] loss: 0.103\n",
            "epoch: [6001] loss: 0.103\n",
            "epoch: [7001] loss: 0.103\n",
            "epoch: [8001] loss: 0.103\n",
            "epoch: [9001] loss: 0.103\n",
            "epoch: [10001] loss: 0.103\n",
            "epoch: [11001] loss: 0.103\n",
            "Finished Training\n",
            "Accuracy of the network on the 1000 train images: 96.00 %\n",
            "unique out:  [0 1] unique pred:  [1]\n",
            "correct:  512 total  1000\n",
            "Accuracy of the network on the 1000 test dataset 1: 51.20 %\n",
            "unique out:  [0 1] unique pred:  [1]\n",
            "correct:  512 total  1000\n",
            "Accuracy of the network on the 1000 test dataset 2: 51.20 %\n",
            "unique out:  [0 1] unique pred:  [1]\n",
            "correct:  512 total  1000\n",
            "Accuracy of the network on the 1000 test dataset 3: 51.20 %\n",
            "unique out:  [0 1] unique pred:  [1]\n",
            "correct:  512 total  1000\n",
            "Accuracy of the network on the 1000 test dataset 4: 51.20 %\n",
            "unique out:  [0 1] unique pred:  [0 1]\n",
            "correct:  684 total  1000\n",
            "Accuracy of the network on the 1000 test dataset 5: 68.40 %\n",
            "unique out:  [0 1] unique pred:  [0 1]\n",
            "correct:  960 total  1000\n",
            "Accuracy of the network on the 1000 test dataset 6: 96.00 %\n",
            "unique out:  [0 1] unique pred:  [0 1]\n",
            "correct:  785 total  1000\n",
            "Accuracy of the network on the 1000 test dataset 7: 78.50 %\n",
            "unique out:  [0 1] unique pred:  [0 1]\n",
            "correct:  644 total  1000\n",
            "Accuracy of the network on the 1000 test dataset 8: 64.40 %\n",
            "unique out:  [0 1] unique pred:  [0 1]\n",
            "correct:  522 total  1000\n",
            "Accuracy of the network on the 1000 test dataset 9: 52.20 %\n",
            "unique out:  [0 1] unique pred:  [0]\n",
            "correct:  488 total  1000\n",
            "Accuracy of the network on the 1000 test dataset 10: 48.80 %\n",
            "unique out:  [0 1] unique pred:  [0]\n",
            "correct:  500 total  1000\n",
            "Accuracy of the network on the 1000 test dataset 11: 50.00 %\n",
            "--------------------------------------------------------------------------------\n",
            "--------------------------------------------------------------------------------\n",
            "training on data set   7\n",
            "epoch: [0 ] loss: 0.827\n",
            "epoch: [1] loss: 0.817\n",
            "epoch: [1001] loss: 0.065\n",
            "epoch: [2001] loss: 0.062\n",
            "epoch: [3001] loss: 0.061\n",
            "epoch: [4001] loss: 0.061\n",
            "epoch: [5001] loss: 0.061\n",
            "epoch: [6001] loss: 0.061\n",
            "epoch: [7001] loss: 0.061\n",
            "epoch: [8001] loss: 0.061\n",
            "epoch: [9001] loss: 0.061\n",
            "epoch: [10001] loss: 0.061\n",
            "epoch: [11001] loss: 0.061\n",
            "Finished Training\n",
            "Accuracy of the network on the 1000 train images: 98.00 %\n",
            "unique out:  [0 1] unique pred:  [1]\n",
            "correct:  512 total  1000\n",
            "Accuracy of the network on the 1000 test dataset 1: 51.20 %\n",
            "unique out:  [0 1] unique pred:  [1]\n",
            "correct:  512 total  1000\n",
            "Accuracy of the network on the 1000 test dataset 2: 51.20 %\n",
            "unique out:  [0 1] unique pred:  [1]\n",
            "correct:  512 total  1000\n",
            "Accuracy of the network on the 1000 test dataset 3: 51.20 %\n",
            "unique out:  [0 1] unique pred:  [1]\n",
            "correct:  512 total  1000\n",
            "Accuracy of the network on the 1000 test dataset 4: 51.20 %\n",
            "unique out:  [0 1] unique pred:  [1]\n",
            "correct:  512 total  1000\n",
            "Accuracy of the network on the 1000 test dataset 5: 51.20 %\n",
            "unique out:  [0 1] unique pred:  [0 1]\n",
            "correct:  739 total  1000\n",
            "Accuracy of the network on the 1000 test dataset 6: 73.90 %\n",
            "unique out:  [0 1] unique pred:  [0 1]\n",
            "correct:  980 total  1000\n",
            "Accuracy of the network on the 1000 test dataset 7: 98.00 %\n",
            "unique out:  [0 1] unique pred:  [0 1]\n",
            "correct:  818 total  1000\n",
            "Accuracy of the network on the 1000 test dataset 8: 81.80 %\n",
            "unique out:  [0 1] unique pred:  [0 1]\n",
            "correct:  683 total  1000\n",
            "Accuracy of the network on the 1000 test dataset 9: 68.30 %\n",
            "unique out:  [0 1] unique pred:  [0 1]\n",
            "correct:  570 total  1000\n",
            "Accuracy of the network on the 1000 test dataset 10: 57.00 %\n",
            "unique out:  [0 1] unique pred:  [0 1]\n",
            "correct:  581 total  1000\n",
            "Accuracy of the network on the 1000 test dataset 11: 58.10 %\n",
            "--------------------------------------------------------------------------------\n",
            "--------------------------------------------------------------------------------\n",
            "training on data set   8\n",
            "epoch: [0 ] loss: 0.824\n",
            "epoch: [1] loss: 0.810\n",
            "epoch: [1001] loss: 0.035\n",
            "epoch: [2001] loss: 0.034\n",
            "epoch: [3001] loss: 0.034\n",
            "epoch: [4001] loss: 0.034\n",
            "epoch: [5001] loss: 0.033\n",
            "epoch: [6001] loss: 0.033\n",
            "epoch: [7001] loss: 0.033\n",
            "epoch: [8001] loss: 0.033\n",
            "epoch: [9001] loss: 0.033\n",
            "epoch: [10001] loss: 0.033\n",
            "epoch: [11001] loss: 0.033\n",
            "Finished Training\n",
            "Accuracy of the network on the 1000 train images: 98.70 %\n",
            "unique out:  [0 1] unique pred:  [1]\n",
            "correct:  512 total  1000\n",
            "Accuracy of the network on the 1000 test dataset 1: 51.20 %\n",
            "unique out:  [0 1] unique pred:  [1]\n",
            "correct:  512 total  1000\n",
            "Accuracy of the network on the 1000 test dataset 2: 51.20 %\n",
            "unique out:  [0 1] unique pred:  [1]\n",
            "correct:  512 total  1000\n",
            "Accuracy of the network on the 1000 test dataset 3: 51.20 %\n",
            "unique out:  [0 1] unique pred:  [1]\n",
            "correct:  512 total  1000\n",
            "Accuracy of the network on the 1000 test dataset 4: 51.20 %\n",
            "unique out:  [0 1] unique pred:  [1]\n",
            "correct:  512 total  1000\n",
            "Accuracy of the network on the 1000 test dataset 5: 51.20 %\n",
            "unique out:  [0 1] unique pred:  [0 1]\n",
            "correct:  532 total  1000\n",
            "Accuracy of the network on the 1000 test dataset 6: 53.20 %\n",
            "unique out:  [0 1] unique pred:  [0 1]\n",
            "correct:  791 total  1000\n",
            "Accuracy of the network on the 1000 test dataset 7: 79.10 %\n",
            "unique out:  [0 1] unique pred:  [0 1]\n",
            "correct:  987 total  1000\n",
            "Accuracy of the network on the 1000 test dataset 8: 98.70 %\n",
            "unique out:  [0 1] unique pred:  [0 1]\n",
            "correct:  844 total  1000\n",
            "Accuracy of the network on the 1000 test dataset 9: 84.40 %\n",
            "unique out:  [0 1] unique pred:  [0 1]\n",
            "correct:  726 total  1000\n",
            "Accuracy of the network on the 1000 test dataset 10: 72.60 %\n",
            "unique out:  [0 1] unique pred:  [0 1]\n",
            "correct:  725 total  1000\n",
            "Accuracy of the network on the 1000 test dataset 11: 72.50 %\n",
            "--------------------------------------------------------------------------------\n",
            "--------------------------------------------------------------------------------\n",
            "training on data set   9\n",
            "epoch: [0 ] loss: 0.823\n",
            "epoch: [1] loss: 0.806\n",
            "epoch: [1001] loss: 0.014\n",
            "epoch: [2001] loss: 0.014\n",
            "epoch: [3001] loss: 0.014\n",
            "epoch: [4001] loss: 0.014\n",
            "epoch: [5001] loss: 0.014\n",
            "epoch: [6001] loss: 0.014\n",
            "epoch: [7001] loss: 0.014\n",
            "epoch: [8001] loss: 0.014\n",
            "epoch: [9001] loss: 0.014\n",
            "epoch: [10001] loss: 0.014\n",
            "epoch: [11001] loss: 0.014\n",
            "Finished Training\n",
            "Accuracy of the network on the 1000 train images: 99.50 %\n",
            "unique out:  [0 1] unique pred:  [1]\n",
            "correct:  512 total  1000\n",
            "Accuracy of the network on the 1000 test dataset 1: 51.20 %\n",
            "unique out:  [0 1] unique pred:  [1]\n",
            "correct:  512 total  1000\n",
            "Accuracy of the network on the 1000 test dataset 2: 51.20 %\n",
            "unique out:  [0 1] unique pred:  [1]\n",
            "correct:  512 total  1000\n",
            "Accuracy of the network on the 1000 test dataset 3: 51.20 %\n",
            "unique out:  [0 1] unique pred:  [1]\n",
            "correct:  512 total  1000\n",
            "Accuracy of the network on the 1000 test dataset 4: 51.20 %\n",
            "unique out:  [0 1] unique pred:  [1]\n",
            "correct:  512 total  1000\n",
            "Accuracy of the network on the 1000 test dataset 5: 51.20 %\n",
            "unique out:  [0 1] unique pred:  [1]\n",
            "correct:  512 total  1000\n",
            "Accuracy of the network on the 1000 test dataset 6: 51.20 %\n",
            "unique out:  [0 1] unique pred:  [0 1]\n",
            "correct:  592 total  1000\n",
            "Accuracy of the network on the 1000 test dataset 7: 59.20 %\n",
            "unique out:  [0 1] unique pred:  [0 1]\n",
            "correct:  814 total  1000\n",
            "Accuracy of the network on the 1000 test dataset 8: 81.40 %\n",
            "unique out:  [0 1] unique pred:  [0 1]\n",
            "correct:  995 total  1000\n",
            "Accuracy of the network on the 1000 test dataset 9: 99.50 %\n",
            "unique out:  [0 1] unique pred:  [0 1]\n",
            "correct:  863 total  1000\n",
            "Accuracy of the network on the 1000 test dataset 10: 86.30 %\n",
            "unique out:  [0 1] unique pred:  [0 1]\n",
            "correct:  860 total  1000\n",
            "Accuracy of the network on the 1000 test dataset 11: 86.00 %\n",
            "--------------------------------------------------------------------------------\n",
            "--------------------------------------------------------------------------------\n",
            "training on data set   10\n",
            "epoch: [0 ] loss: 0.825\n",
            "epoch: [1] loss: 0.805\n",
            "epoch: [508] loss: 0.005\n",
            "Finished Training\n",
            "Accuracy of the network on the 1000 train images: 100.00 %\n",
            "unique out:  [0 1] unique pred:  [1]\n",
            "correct:  512 total  1000\n",
            "Accuracy of the network on the 1000 test dataset 1: 51.20 %\n",
            "unique out:  [0 1] unique pred:  [1]\n",
            "correct:  512 total  1000\n",
            "Accuracy of the network on the 1000 test dataset 2: 51.20 %\n",
            "unique out:  [0 1] unique pred:  [1]\n",
            "correct:  512 total  1000\n",
            "Accuracy of the network on the 1000 test dataset 3: 51.20 %\n",
            "unique out:  [0 1] unique pred:  [1]\n",
            "correct:  512 total  1000\n",
            "Accuracy of the network on the 1000 test dataset 4: 51.20 %\n",
            "unique out:  [0 1] unique pred:  [1]\n",
            "correct:  512 total  1000\n",
            "Accuracy of the network on the 1000 test dataset 5: 51.20 %\n",
            "unique out:  [0 1] unique pred:  [1]\n",
            "correct:  512 total  1000\n",
            "Accuracy of the network on the 1000 test dataset 6: 51.20 %\n",
            "unique out:  [0 1] unique pred:  [1]\n",
            "correct:  512 total  1000\n",
            "Accuracy of the network on the 1000 test dataset 7: 51.20 %\n",
            "unique out:  [0 1] unique pred:  [0 1]\n",
            "correct:  647 total  1000\n",
            "Accuracy of the network on the 1000 test dataset 8: 64.70 %\n",
            "unique out:  [0 1] unique pred:  [0 1]\n",
            "correct:  831 total  1000\n",
            "Accuracy of the network on the 1000 test dataset 9: 83.10 %\n",
            "unique out:  [0 1] unique pred:  [0 1]\n",
            "correct:  1000 total  1000\n",
            "Accuracy of the network on the 1000 test dataset 10: 100.00 %\n",
            "unique out:  [0 1] unique pred:  [0 1]\n",
            "correct:  1000 total  1000\n",
            "Accuracy of the network on the 1000 test dataset 11: 100.00 %\n",
            "--------------------------------------------------------------------------------\n"
          ],
          "name": "stdout"
        }
      ]
    },
    {
      "cell_type": "code",
      "metadata": {
        "id": "In76SYH_zZHV"
      },
      "source": [
        "%matplotlib inline"
      ],
      "execution_count": 42,
      "outputs": []
    },
    {
      "cell_type": "code",
      "metadata": {
        "colab": {
          "base_uri": "https://localhost:8080/",
          "height": 297
        },
        "id": "BS4HtOHEzZ0E",
        "outputId": "42914c78-0c58-467e-bf4e-d4f406053839"
      },
      "source": [
        "for i,j in enumerate(train_loss_all):\n",
        "    plt.plot(j,label =\"dataset \"+str(i+1))\n",
        "    \n",
        "\n",
        "plt.xlabel(\"Epochs\")\n",
        "plt.ylabel(\"Training_loss\")\n",
        "\n",
        "plt.legend(loc='center left', bbox_to_anchor=(1, 0.5))"
      ],
      "execution_count": 43,
      "outputs": [
        {
          "output_type": "execute_result",
          "data": {
            "text/plain": [
              "<matplotlib.legend.Legend at 0x7f46f681b490>"
            ]
          },
          "metadata": {
            "tags": []
          },
          "execution_count": 43
        },
        {
          "output_type": "display_data",
          "data": {
            "image/png": "[encoded data removed]",
            "text/plain": [
              "<Figure size 432x288 with 1 Axes>"
            ]
          },
          "metadata": {
            "tags": [],
            "needs_background": "light"
          }
        }
      ]
    },
    {
      "cell_type": "code",
      "metadata": {
        "id": "Va4L2IZ1zj6o"
      },
      "source": [
        ""
      ],
      "execution_count": 30,
      "outputs": []
    }
  ]
}