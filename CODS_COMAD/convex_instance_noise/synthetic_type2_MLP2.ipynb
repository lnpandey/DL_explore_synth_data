{
  "nbformat": 4,
  "nbformat_minor": 0,
  "metadata": {
    "accelerator": "GPU",
    "colab": {
      "name": "synthetic_type2_MLP2.ipynb",
      "provenance": [],
      "collapsed_sections": []
    },
    "kernelspec": {
      "display_name": "Python 3",
      "language": "python",
      "name": "python3"
    },
    "language_info": {
      "codemirror_mode": {
        "name": "ipython",
        "version": 3
      },
      "file_extension": ".py",
      "mimetype": "text/x-python",
      "name": "python",
      "nbconvert_exporter": "python",
      "pygments_lexer": "ipython3",
      "version": "3.6.5"
    }
  },
  "cells": [
    {
      "cell_type": "code",
      "metadata": {
        "colab": {
          "base_uri": "https://localhost:8080/"
        },
        "id": "N2_J4Rw2r0SQ",
        "outputId": "a69dd2d0-eec2-42b9-a7b6-9e7e3b18fdb5"
      },
      "source": [
        "import numpy as np\n",
        "import pandas as pd\n",
        "from matplotlib import pyplot as plt\n",
        "from tqdm import tqdm\n",
        "%matplotlib inline\n",
        "from torch.utils.data import Dataset, DataLoader\n",
        "import torch\n",
        "import torchvision\n",
        "\n",
        "import torch.nn as nn\n",
        "import torch.optim as optim\n",
        "from torch.nn import functional as F\n",
        "device = torch.device(\"cuda\" if torch.cuda.is_available() else \"cpu\")\n",
        "print(device)"
      ],
      "execution_count": 1,
      "outputs": [
        {
          "output_type": "stream",
          "text": [
            "cuda\n"
          ],
          "name": "stdout"
        }
      ]
    },
    {
      "cell_type": "markdown",
      "metadata": {
        "id": "F6fjud_Fr0Sa"
      },
      "source": [
        "# Generate dataset"
      ]
    },
    {
      "cell_type": "code",
      "metadata": {
        "colab": {
          "base_uri": "https://localhost:8080/"
        },
        "id": "CqdXHO0Cr0Sd",
        "outputId": "624b8139-a05f-496d-f45c-5696c2eaf7bc"
      },
      "source": [
        "y = np.random.randint(0,10,5000)\n",
        "idx= []\n",
        "for i in range(10):\n",
        "    print(i,sum(y==i))\n",
        "    idx.append(y==i)"
      ],
      "execution_count": 2,
      "outputs": [
        {
          "output_type": "stream",
          "text": [
            "0 507\n",
            "1 501\n",
            "2 501\n",
            "3 487\n",
            "4 526\n",
            "5 516\n",
            "6 473\n",
            "7 486\n",
            "8 501\n",
            "9 502\n"
          ],
          "name": "stdout"
        }
      ]
    },
    {
      "cell_type": "code",
      "metadata": {
        "id": "ddhXyODwr0Sk"
      },
      "source": [
        "x = np.zeros((5000,2))"
      ],
      "execution_count": 3,
      "outputs": []
    },
    {
      "cell_type": "code",
      "metadata": {
        "id": "DyV3N2DIr0Sp"
      },
      "source": [
        "x[idx[0],:] = np.random.multivariate_normal(mean = [5,5],cov=[[0.1,0],[0,0.1]],size=sum(idx[0]))\n",
        "\n",
        "x[idx[1],:] = np.random.multivariate_normal(mean = [-6,7],cov=[[0.1,0],[0,0.1]],size=sum(idx[1]))\n",
        "\n",
        "x[idx[2],:] = np.random.multivariate_normal(mean = [-5,-4],cov=[[0.1,0],[0,0.1]],size=sum(idx[2]))\n",
        "\n",
        "# x[idx[0],:] = np.random.multivariate_normal(mean = [5,5],cov=[[0.1,0],[0,0.1]],size=sum(idx[0]))\n",
        "\n",
        "# x[idx[1],:] = np.random.multivariate_normal(mean = [6,6],cov=[[0.1,0],[0,0.1]],size=sum(idx[1]))\n",
        "\n",
        "# x[idx[2],:] = np.random.multivariate_normal(mean = [5.5,6.5],cov=[[0.1,0],[0,0.1]],size=sum(idx[2]))\n",
        "\n",
        "x[idx[3],:] = np.random.multivariate_normal(mean = [-1,0],cov=[[0.1,0],[0,0.1]],size=sum(idx[3]))\n",
        "\n",
        "\n",
        "x[idx[4],:] = np.random.multivariate_normal(mean = [0,2],cov=[[0.1,0],[0,0.1]],size=sum(idx[4]))\n",
        "\n",
        "x[idx[5],:] = np.random.multivariate_normal(mean = [1,0],cov=[[0.1,0],[0,0.1]],size=sum(idx[5]))\n",
        "\n",
        "x[idx[6],:] = np.random.multivariate_normal(mean = [0,-1],cov=[[0.1,0],[0,0.1]],size=sum(idx[6]))\n",
        "\n",
        "x[idx[7],:] = np.random.multivariate_normal(mean = [0,0],cov=[[0.1,0],[0,0.1]],size=sum(idx[7]))\n",
        "\n",
        "x[idx[8],:] = np.random.multivariate_normal(mean = [-0.5,-0.5],cov=[[0.1,0],[0,0.1]],size=sum(idx[8]))\n",
        "\n",
        "x[idx[9],:] = np.random.multivariate_normal(mean = [0.4,0.2],cov=[[0.1,0],[0,0.1]],size=sum(idx[9]))"
      ],
      "execution_count": 4,
      "outputs": []
    },
    {
      "cell_type": "code",
      "metadata": {
        "colab": {
          "base_uri": "https://localhost:8080/",
          "height": 283
        },
        "id": "hJ8Jm7YUr0St",
        "outputId": "cbc3cdd2-143d-46cb-d972-ddb67d0bbd32"
      },
      "source": [
        "for i in range(10):\n",
        "    plt.scatter(x[idx[i],0],x[idx[i],1],label=\"class_\"+str(i))\n",
        "plt.legend(loc='center left', bbox_to_anchor=(1, 0.5))"
      ],
      "execution_count": 5,
      "outputs": [
        {
          "output_type": "execute_result",
          "data": {
            "text/plain": [
              "<matplotlib.legend.Legend at 0x7f3a3adaeed0>"
            ]
          },
          "metadata": {
            "tags": []
          },
          "execution_count": 5
        },
        {
          "output_type": "display_data",
          "data": {
            "image/png": "[encoded data removed]",
            "text/plain": [
              "<Figure size 432x288 with 1 Axes>"
            ]
          },
          "metadata": {
            "tags": [],
            "needs_background": "light"
          }
        }
      ]
    },
    {
      "cell_type": "code",
      "metadata": {
        "id": "UfFHcZJOr0Sz"
      },
      "source": [
        "foreground_classes = {'class_0','class_1', 'class_2'}\n",
        "\n",
        "background_classes = {'class_3','class_4', 'class_5', 'class_6','class_7', 'class_8', 'class_9'}"
      ],
      "execution_count": 6,
      "outputs": []
    },
    {
      "cell_type": "code",
      "metadata": {
        "colab": {
          "base_uri": "https://localhost:8080/"
        },
        "id": "OplNpNQVr0S2",
        "outputId": "ab71d548-f3a7-4aac-8989-cafc25b18c61"
      },
      "source": [
        "fg_class  = np.random.randint(0,3)\n",
        "fg_idx = np.random.randint(0,9)\n",
        "\n",
        "a = []\n",
        "for i in range(9):\n",
        "    if i == fg_idx:\n",
        "        b = np.random.choice(np.where(idx[fg_class]==True)[0],size=1)\n",
        "        a.append(x[b])\n",
        "        print(\"foreground \"+str(fg_class)+\" present at \" + str(fg_idx))\n",
        "    else:\n",
        "        bg_class = np.random.randint(3,10)\n",
        "        b = np.random.choice(np.where(idx[bg_class]==True)[0],size=1)\n",
        "        a.append(x[b])\n",
        "        print(\"background \"+str(bg_class)+\" present at \" + str(i))\n",
        "a = np.concatenate(a,axis=0)\n",
        "print(a.shape)\n",
        "\n",
        "print(fg_class , fg_idx)"
      ],
      "execution_count": 7,
      "outputs": [
        {
          "output_type": "stream",
          "text": [
            "foreground 1 present at 0\n",
            "background 8 present at 1\n",
            "background 8 present at 2\n",
            "background 5 present at 3\n",
            "background 6 present at 4\n",
            "background 4 present at 5\n",
            "background 7 present at 6\n",
            "background 5 present at 7\n",
            "background 3 present at 8\n",
            "(9, 2)\n",
            "1 0\n"
          ],
          "name": "stdout"
        }
      ]
    },
    {
      "cell_type": "code",
      "metadata": {
        "colab": {
          "base_uri": "https://localhost:8080/"
        },
        "id": "dwZVmmRBr0S8",
        "outputId": "cf321df5-2ca8-4e9b-c448-3ec8811e1b93"
      },
      "source": [
        "a.shape"
      ],
      "execution_count": 8,
      "outputs": [
        {
          "output_type": "execute_result",
          "data": {
            "text/plain": [
              "(9, 2)"
            ]
          },
          "metadata": {
            "tags": []
          },
          "execution_count": 8
        }
      ]
    },
    {
      "cell_type": "code",
      "metadata": {
        "colab": {
          "base_uri": "https://localhost:8080/"
        },
        "id": "OoxzYI-ur0S_",
        "outputId": "fb6c33c1-51f6-486c-bc20-92cdae02b150"
      },
      "source": [
        "np.reshape(a,(18,1))"
      ],
      "execution_count": 9,
      "outputs": [
        {
          "output_type": "execute_result",
          "data": {
            "text/plain": [
              "array([[-5.583184  ],\n",
              "       [ 7.03467357],\n",
              "       [-0.30465469],\n",
              "       [-0.02543512],\n",
              "       [-0.14207918],\n",
              "       [-0.29852698],\n",
              "       [ 0.78324778],\n",
              "       [-0.01989395],\n",
              "       [ 0.68548258],\n",
              "       [-0.56469637],\n",
              "       [ 0.03611936],\n",
              "       [ 2.07463175],\n",
              "       [-0.14268433],\n",
              "       [-0.11318045],\n",
              "       [ 1.05313166],\n",
              "       [-0.47483322],\n",
              "       [-0.86040903],\n",
              "       [-0.72450236]])"
            ]
          },
          "metadata": {
            "tags": []
          },
          "execution_count": 9
        }
      ]
    },
    {
      "cell_type": "code",
      "metadata": {
        "id": "y4ruI0cxr0TE"
      },
      "source": [
        "a=np.reshape(a,(3,6))"
      ],
      "execution_count": 10,
      "outputs": []
    },
    {
      "cell_type": "code",
      "metadata": {
        "colab": {
          "base_uri": "https://localhost:8080/",
          "height": 237
        },
        "id": "RTUTFhJIr0TI",
        "outputId": "22de473a-0680-45fd-f5cc-73e505370a9c"
      },
      "source": [
        "plt.imshow(a)"
      ],
      "execution_count": 11,
      "outputs": [
        {
          "output_type": "execute_result",
          "data": {
            "text/plain": [
              "<matplotlib.image.AxesImage at 0x7f3aa348f290>"
            ]
          },
          "metadata": {
            "tags": []
          },
          "execution_count": 11
        },
        {
          "output_type": "display_data",
          "data": {
            "image/png": "[encoded data removed]",
            "text/plain": [
              "<Figure size 432x288 with 1 Axes>"
            ]
          },
          "metadata": {
            "tags": [],
            "needs_background": "light"
          }
        }
      ]
    },
    {
      "cell_type": "code",
      "metadata": {
        "id": "jqbvfbwVr0TN"
      },
      "source": [
        "desired_num = 2000\n",
        "mosaic_list_of_images =[]\n",
        "mosaic_label = []\n",
        "fore_idx=[]\n",
        "for j in range(desired_num):\n",
        "    fg_class  = np.random.randint(0,3)\n",
        "    fg_idx = 0\n",
        "    a = []\n",
        "    for i in range(9):\n",
        "        if i == fg_idx:\n",
        "            b = np.random.choice(np.where(idx[fg_class]==True)[0],size=1)\n",
        "            a.append(x[b])\n",
        "#             print(\"foreground \"+str(fg_class)+\" present at \" + str(fg_idx))\n",
        "        else:\n",
        "            bg_class = np.random.randint(3,10)\n",
        "            b = np.random.choice(np.where(idx[bg_class]==True)[0],size=1)\n",
        "            a.append(x[b])\n",
        "#             print(\"background \"+str(bg_class)+\" present at \" + str(i))\n",
        "    a = np.concatenate(a,axis=0)\n",
        "    mosaic_list_of_images.append(np.reshape(a,(18,1)))\n",
        "    mosaic_label.append(fg_class)\n",
        "    fore_idx.append(fg_idx)"
      ],
      "execution_count": 12,
      "outputs": []
    },
    {
      "cell_type": "code",
      "metadata": {
        "id": "BOsFmWfMr0TR"
      },
      "source": [
        "mosaic_list_of_images = np.concatenate(mosaic_list_of_images,axis=1).T\n",
        "# print(mosaic_list)"
      ],
      "execution_count": 13,
      "outputs": []
    },
    {
      "cell_type": "code",
      "metadata": {
        "colab": {
          "base_uri": "https://localhost:8080/"
        },
        "id": "C2PnW7aQr0TT",
        "outputId": "3bf8a3de-041e-450e-84a6-ec76dcbd6df9"
      },
      "source": [
        "print(np.shape(mosaic_list_of_images))\n",
        "print(np.shape(fore_idx))\n",
        "print(np.shape(mosaic_label))"
      ],
      "execution_count": 14,
      "outputs": [
        {
          "output_type": "stream",
          "text": [
            "(2000, 18)\n",
            "(2000,)\n",
            "(2000,)\n"
          ],
          "name": "stdout"
        }
      ]
    },
    {
      "cell_type": "code",
      "metadata": {
        "id": "iPoIwbMHx44n"
      },
      "source": [
        "def create_avg_image_from_mosaic_dataset(mosaic_dataset,labels,foreground_index,dataset_number):\n",
        "  \"\"\"\n",
        "  mosaic_dataset : mosaic_dataset contains 9 images 32 x 32 each as 1 data point\n",
        "  labels : mosaic_dataset labels\n",
        "  foreground_index : contains list of indexes where foreground image is present so that using this we can take weighted average\n",
        "  dataset_number : will help us to tell what ratio of foreground image to be taken. for eg: if it is \"j\" then fg_image_ratio = j/9 , bg_image_ratio = (9-j)/8*9\n",
        "  \"\"\"\n",
        "  avg_image_dataset = []\n",
        "  cnt = 0\n",
        "  counter = np.array([0,0,0,0,0,0,0,0,0])\n",
        "  for i in range(len(mosaic_dataset)):\n",
        "    img = torch.zeros([18], dtype=torch.float64)\n",
        "    np.random.seed(dataset_number*10000 + i)\n",
        "    give_pref = foreground_index[i] #np.random.randint(0,9)\n",
        "    # print(\"outside\", give_pref,foreground_index[i])\n",
        "    for j in range(9):\n",
        "      if j == give_pref:\n",
        "        img = img + mosaic_dataset[i][j]*dataset_number/9\n",
        "      else :\n",
        "        img = img + mosaic_dataset[i][j]*(9-dataset_number)/(8*9)\n",
        "\n",
        "    if give_pref == foreground_index[i] :\n",
        "      # print(\"equal are\", give_pref,foreground_index[i])\n",
        "      cnt += 1\n",
        "      counter[give_pref] += 1\n",
        "    else :\n",
        "      counter[give_pref] += 1\n",
        "\n",
        "    avg_image_dataset.append(img)\n",
        "\n",
        "  print(\"number of correct averaging happened for dataset \"+str(dataset_number)+\" is \"+str(cnt)) \n",
        "  print(\"the averaging are done as \", counter) \n",
        "  return avg_image_dataset , labels , foreground_index\n",
        "        \n",
        "  "
      ],
      "execution_count": 15,
      "outputs": []
    },
    {
      "cell_type": "code",
      "metadata": {
        "colab": {
          "base_uri": "https://localhost:8080/"
        },
        "id": "30ZAjix3x8CM",
        "outputId": "7c2266ff-c4ab-4e68-cdaf-16ab2c0a4827"
      },
      "source": [
        "avg_image_dataset_1 , labels_1,  fg_index_1 = create_avg_image_from_mosaic_dataset(mosaic_list_of_images[0:1000], mosaic_label[0:1000], fore_idx[0:1000] , 0)\n",
        "avg_image_dataset_2 , labels_2,  fg_index_2 = create_avg_image_from_mosaic_dataset(mosaic_list_of_images[0:1000], mosaic_label[0:1000], fore_idx[0:1000] , 1)\n",
        "avg_image_dataset_3 , labels_3,  fg_index_3 = create_avg_image_from_mosaic_dataset(mosaic_list_of_images[0:1000], mosaic_label[0:1000], fore_idx[0:1000] , 2)\n",
        "avg_image_dataset_4 , labels_4,  fg_index_4 = create_avg_image_from_mosaic_dataset(mosaic_list_of_images[0:1000], mosaic_label[0:1000], fore_idx[0:1000] , 3)\n",
        "avg_image_dataset_5 , labels_5,  fg_index_5 = create_avg_image_from_mosaic_dataset(mosaic_list_of_images[0:1000], mosaic_label[0:1000], fore_idx[0:1000] , 4)\n",
        "avg_image_dataset_6 , labels_6,  fg_index_6 = create_avg_image_from_mosaic_dataset(mosaic_list_of_images[0:1000], mosaic_label[0:1000], fore_idx[0:1000] , 5)\n",
        "avg_image_dataset_7 , labels_7,  fg_index_7 = create_avg_image_from_mosaic_dataset(mosaic_list_of_images[0:1000], mosaic_label[0:1000], fore_idx[0:1000] , 6)\n",
        "avg_image_dataset_8 , labels_8,  fg_index_8 = create_avg_image_from_mosaic_dataset(mosaic_list_of_images[0:1000], mosaic_label[0:1000], fore_idx[0:1000] , 7)\n",
        "avg_image_dataset_9 , labels_9,  fg_index_9 = create_avg_image_from_mosaic_dataset(mosaic_list_of_images[0:1000], mosaic_label[0:1000], fore_idx[0:1000] , 8)\n",
        "avg_image_dataset_10 , labels_10,  fg_index_10 = create_avg_image_from_mosaic_dataset(mosaic_list_of_images[0:1000], mosaic_label[0:1000], fore_idx[0:1000] , 9)\n",
        "\n",
        "test_dataset , labels , fg_index = create_avg_image_from_mosaic_dataset(mosaic_list_of_images[1000:2000], mosaic_label[1000:2000], fore_idx[1000:2000] , 9)"
      ],
      "execution_count": 16,
      "outputs": [
        {
          "output_type": "stream",
          "text": [
            "number of correct averaging happened for dataset 0 is 1000\n",
            "the averaging are done as  [1000    0    0    0    0    0    0    0    0]\n",
            "number of correct averaging happened for dataset 1 is 1000\n",
            "the averaging are done as  [1000    0    0    0    0    0    0    0    0]\n",
            "number of correct averaging happened for dataset 2 is 1000\n",
            "the averaging are done as  [1000    0    0    0    0    0    0    0    0]\n",
            "number of correct averaging happened for dataset 3 is 1000\n",
            "the averaging are done as  [1000    0    0    0    0    0    0    0    0]\n",
            "number of correct averaging happened for dataset 4 is 1000\n",
            "the averaging are done as  [1000    0    0    0    0    0    0    0    0]\n",
            "number of correct averaging happened for dataset 5 is 1000\n",
            "the averaging are done as  [1000    0    0    0    0    0    0    0    0]\n",
            "number of correct averaging happened for dataset 6 is 1000\n",
            "the averaging are done as  [1000    0    0    0    0    0    0    0    0]\n",
            "number of correct averaging happened for dataset 7 is 1000\n",
            "the averaging are done as  [1000    0    0    0    0    0    0    0    0]\n",
            "number of correct averaging happened for dataset 8 is 1000\n",
            "the averaging are done as  [1000    0    0    0    0    0    0    0    0]\n",
            "number of correct averaging happened for dataset 9 is 1000\n",
            "the averaging are done as  [1000    0    0    0    0    0    0    0    0]\n",
            "number of correct averaging happened for dataset 9 is 1000\n",
            "the averaging are done as  [1000    0    0    0    0    0    0    0    0]\n"
          ],
          "name": "stdout"
        }
      ]
    },
    {
      "cell_type": "code",
      "metadata": {
        "id": "yL0BRf8er0TX"
      },
      "source": [
        "class MosaicDataset(Dataset):\n",
        "  \"\"\"MosaicDataset dataset.\"\"\"\n",
        "\n",
        "  def __init__(self, mosaic_list_of_images, mosaic_label):\n",
        "    \"\"\"\n",
        "      Args:\n",
        "        csv_file (string): Path to the csv file with annotations.\n",
        "        root_dir (string): Directory with all the images.\n",
        "        transform (callable, optional): Optional transform to be applied\n",
        "            on a sample.\n",
        "    \"\"\"\n",
        "    self.mosaic = mosaic_list_of_images\n",
        "    self.label = mosaic_label\n",
        "    #self.fore_idx = fore_idx\n",
        "    \n",
        "  def __len__(self):\n",
        "    return len(self.label)\n",
        "\n",
        "  def __getitem__(self, idx):\n",
        "    return self.mosaic[idx] , self.label[idx] #, self.fore_idx[idx]\n",
        "\n"
      ],
      "execution_count": 17,
      "outputs": []
    },
    {
      "cell_type": "code",
      "metadata": {
        "colab": {
          "base_uri": "https://localhost:8080/"
        },
        "id": "4KsrW9qL9xgS",
        "outputId": "fdb450ee-64b8-44de-d12d-d062a0b49430"
      },
      "source": [
        "avg_image_dataset_1[0].shape\n",
        "avg_image_dataset_1[0]"
      ],
      "execution_count": 18,
      "outputs": [
        {
          "output_type": "execute_result",
          "data": {
            "text/plain": [
              "tensor([0.5831, 0.5831, 0.5831, 0.5831, 0.5831, 0.5831, 0.5831, 0.5831, 0.5831,\n",
              "        0.5831, 0.5831, 0.5831, 0.5831, 0.5831, 0.5831, 0.5831, 0.5831, 0.5831],\n",
              "       dtype=torch.float64)"
            ]
          },
          "metadata": {
            "tags": []
          },
          "execution_count": 18
        }
      ]
    },
    {
      "cell_type": "code",
      "metadata": {
        "colab": {
          "base_uri": "https://localhost:8080/"
        },
        "id": "fjVnan3CA8ix",
        "outputId": "fff34fef-a526-437d-b354-955b845ced17"
      },
      "source": [
        "l = [ labels_1, labels_2, labels_3, labels_4, labels_5, labels_6, labels_7, labels_8, labels_9, labels_10]\n",
        "for i in l:\n",
        "  print(np.unique(l))"
      ],
      "execution_count": 19,
      "outputs": [
        {
          "output_type": "stream",
          "text": [
            "[0 1 2]\n",
            "[0 1 2]\n",
            "[0 1 2]\n",
            "[0 1 2]\n",
            "[0 1 2]\n",
            "[0 1 2]\n",
            "[0 1 2]\n",
            "[0 1 2]\n",
            "[0 1 2]\n",
            "[0 1 2]\n"
          ],
          "name": "stdout"
        }
      ]
    },
    {
      "cell_type": "code",
      "metadata": {
        "id": "EY2l62APygaV"
      },
      "source": [
        "batch = 200\n",
        "\n",
        "traindata_1 = MosaicDataset(avg_image_dataset_1, labels_1 )\n",
        "trainloader_1 = DataLoader( traindata_1 , batch_size= batch ,shuffle=True)\n",
        "\n",
        "traindata_2 = MosaicDataset(avg_image_dataset_2, labels_2 )\n",
        "trainloader_2 = DataLoader( traindata_2 , batch_size= batch ,shuffle=True)\n",
        "\n",
        "traindata_3 = MosaicDataset(avg_image_dataset_3, labels_3 )\n",
        "trainloader_3 = DataLoader( traindata_3 , batch_size= batch ,shuffle=True)\n",
        "\n",
        "traindata_4 = MosaicDataset(avg_image_dataset_4, labels_4 )\n",
        "trainloader_4 = DataLoader( traindata_4 , batch_size= batch ,shuffle=True)\n",
        "\n",
        "traindata_5 = MosaicDataset(avg_image_dataset_5, labels_5 )\n",
        "trainloader_5 = DataLoader( traindata_5 , batch_size= batch ,shuffle=True)\n",
        "\n",
        "traindata_6 = MosaicDataset(avg_image_dataset_6, labels_6 )\n",
        "trainloader_6 = DataLoader( traindata_6 , batch_size= batch ,shuffle=True)\n",
        "\n",
        "traindata_7 = MosaicDataset(avg_image_dataset_7, labels_7 )\n",
        "trainloader_7 = DataLoader( traindata_7 , batch_size= batch ,shuffle=True)\n",
        "\n",
        "traindata_8 = MosaicDataset(avg_image_dataset_8, labels_8 )\n",
        "trainloader_8 = DataLoader( traindata_8 , batch_size= batch ,shuffle=True)\n",
        "\n",
        "traindata_9 = MosaicDataset(avg_image_dataset_9, labels_9 )\n",
        "trainloader_9 = DataLoader( traindata_9 , batch_size= batch ,shuffle=True)\n",
        "\n",
        "traindata_10 = MosaicDataset(avg_image_dataset_10, labels_10 )\n",
        "trainloader_10 = DataLoader( traindata_10 , batch_size= batch ,shuffle=True)"
      ],
      "execution_count": 20,
      "outputs": []
    },
    {
      "cell_type": "code",
      "metadata": {
        "id": "9suUslCj8YZK"
      },
      "source": [
        "testdata_1 = MosaicDataset(avg_image_dataset_1, labels_1 )\n",
        "testloader_1 = DataLoader( testdata_1 , batch_size= batch ,shuffle=False)\n",
        "\n",
        "testdata_2 = MosaicDataset(avg_image_dataset_2, labels_2 )\n",
        "testloader_2 = DataLoader( testdata_2 , batch_size= batch ,shuffle=False)\n",
        "\n",
        "testdata_3 = MosaicDataset(avg_image_dataset_3, labels_3 )\n",
        "testloader_3 = DataLoader( testdata_3 , batch_size= batch ,shuffle=False)\n",
        "\n",
        "testdata_4 = MosaicDataset(avg_image_dataset_4, labels_4 )\n",
        "testloader_4 = DataLoader( testdata_4 , batch_size= batch ,shuffle=False)\n",
        "\n",
        "testdata_5 = MosaicDataset(avg_image_dataset_5, labels_5 )\n",
        "testloader_5 = DataLoader( testdata_5 , batch_size= batch ,shuffle=False)\n",
        "\n",
        "testdata_6 = MosaicDataset(avg_image_dataset_6, labels_6 )\n",
        "testloader_6 = DataLoader( testdata_6 , batch_size= batch ,shuffle=False)\n",
        "\n",
        "testdata_7 = MosaicDataset(avg_image_dataset_7, labels_7 )\n",
        "testloader_7 = DataLoader( testdata_7 , batch_size= batch ,shuffle=False)\n",
        "\n",
        "testdata_8 = MosaicDataset(avg_image_dataset_8, labels_8 )\n",
        "testloader_8 = DataLoader( testdata_8 , batch_size= batch ,shuffle=False)\n",
        "\n",
        "testdata_9 = MosaicDataset(avg_image_dataset_9, labels_9 )\n",
        "testloader_9 = DataLoader( testdata_9 , batch_size= batch ,shuffle=False)\n",
        "\n",
        "testdata_10 = MosaicDataset(avg_image_dataset_10, labels_10 )\n",
        "testloader_10 = DataLoader( testdata_10 , batch_size= batch ,shuffle=False)\n",
        "\n"
      ],
      "execution_count": 21,
      "outputs": []
    },
    {
      "cell_type": "code",
      "metadata": {
        "id": "Nh3mBQHZ8bEj"
      },
      "source": [
        "testdata_11 = MosaicDataset(test_dataset, labels )\n",
        "testloader_11 = DataLoader( testdata_11 , batch_size= batch ,shuffle=False)"
      ],
      "execution_count": 22,
      "outputs": []
    },
    {
      "cell_type": "code",
      "metadata": {
        "id": "5_XeIUk0r0Tl"
      },
      "source": [
        "class Whatnet(nn.Module):\n",
        "    def __init__(self):\n",
        "        super(Whatnet,self).__init__()\n",
        "        self.linear1 = nn.Linear(18,50)\n",
        "        self.linear2 = nn.Linear(50,10)\n",
        "        self.linear3 = nn.Linear(10,3)\n",
        "\n",
        "    def forward(self,x):\n",
        "        x = F.relu(self.linear1(x))\n",
        "        x = F.relu(self.linear2(x))\n",
        "        x = (self.linear3(x))\n",
        "\n",
        "        return x"
      ],
      "execution_count": 34,
      "outputs": []
    },
    {
      "cell_type": "code",
      "metadata": {
        "id": "pjD2VZuV9Ed4"
      },
      "source": [
        "def calculate_loss(dataloader,model,criter):\n",
        "  model.eval()\n",
        "  r_loss = 0\n",
        "  with torch.no_grad():\n",
        "    for i, data in enumerate(dataloader, 0):\n",
        "      inputs, labels = data\n",
        "      inputs, labels = inputs.to(\"cuda\"),labels.to(\"cuda\")\n",
        "      outputs = model(inputs)\n",
        "      loss = criter(outputs, labels)\n",
        "      r_loss += loss.item()\n",
        "  return r_loss/i"
      ],
      "execution_count": 35,
      "outputs": []
    },
    {
      "cell_type": "code",
      "metadata": {
        "id": "uALi25pmzQHV"
      },
      "source": [
        "def test_all(number, testloader,net):\n",
        "    correct = 0\n",
        "    total = 0\n",
        "    out = []\n",
        "    pred = []\n",
        "    with torch.no_grad():\n",
        "        for data in testloader:\n",
        "            images, labels = data\n",
        "            images, labels = images.to(\"cuda\"),labels.to(\"cuda\")\n",
        "            out.append(labels.cpu().numpy())\n",
        "            outputs= net(images)\n",
        "            _, predicted = torch.max(outputs.data, 1)\n",
        "            pred.append(predicted.cpu().numpy())\n",
        "            total += labels.size(0)\n",
        "            correct += (predicted == labels).sum().item()\n",
        "    \n",
        "    pred = np.concatenate(pred, axis = 0)\n",
        "    out = np.concatenate(out, axis = 0)\n",
        "    print(\"unique out: \",  np.unique(out), \"unique pred: \", np.unique(pred) )\n",
        "    print(\"correct: \", correct, \"total \",  total)\n",
        "    print('Accuracy of the network on the 1000 test dataset %d: %.2f %%' % (number , 100 * correct / total))"
      ],
      "execution_count": 36,
      "outputs": []
    },
    {
      "cell_type": "code",
      "metadata": {
        "id": "4vmNprlPzTjP"
      },
      "source": [
        "def train_all(trainloader, ds_number, testloader_list):\n",
        "    \n",
        "    print(\"--\"*40)\n",
        "    print(\"training on data set  \", ds_number)\n",
        "    \n",
        "    torch.manual_seed(12)\n",
        "    net = Whatnet().double()\n",
        "    net = net.to(\"cuda\")\n",
        "    \n",
        "    criterion_net = nn.CrossEntropyLoss()\n",
        "    optimizer_net = optim.Adam(net.parameters(), lr=0.001 ) #, momentum=0.9)\n",
        "    \n",
        "    acti = []\n",
        "    loss_curi = []\n",
        "    epochs = 12000\n",
        "    running_loss = calculate_loss(trainloader,net,criterion_net)\n",
        "    loss_curi.append(running_loss)\n",
        "    print('epoch: [%d ] loss: %.3f' %(0,running_loss)) \n",
        "    for epoch in range(epochs): # loop over the dataset multiple times\n",
        "        ep_lossi = []\n",
        "\n",
        "        running_loss = 0.0\n",
        "        net.train()\n",
        "        for i, data in enumerate(trainloader, 0):\n",
        "            # get the inputs\n",
        "            inputs, labels = data\n",
        "            inputs, labels = inputs.to(\"cuda\"),labels.to(\"cuda\")\n",
        "\n",
        "            # zero the parameter gradients\n",
        "            optimizer_net.zero_grad()\n",
        "\n",
        "            # forward + backward + optimize\n",
        "            outputs = net(inputs)\n",
        "            loss = criterion_net(outputs, labels)\n",
        "            # print statistics\n",
        "            running_loss += loss.item()\n",
        "            loss.backward()\n",
        "            optimizer_net.step()\n",
        "\n",
        "        running_loss = calculate_loss(trainloader,net,criterion_net)\n",
        "        if(epoch%1000 == 0):\n",
        "          print('epoch: [%d] loss: %.3f' %(epoch + 1,running_loss)) \n",
        "        loss_curi.append(running_loss)   #loss per epoch\n",
        "        if running_loss<=0.005:\n",
        "          print('epoch: [%d] loss: %.3f' %(epoch + 1,running_loss))\n",
        "          break\n",
        "\n",
        "    print('Finished Training')\n",
        "    \n",
        "    correct = 0\n",
        "    total = 0\n",
        "    with torch.no_grad():\n",
        "        for data in trainloader:\n",
        "            images, labels = data\n",
        "            images, labels = images.to(\"cuda\"), labels.to(\"cuda\")\n",
        "            outputs = net(images)\n",
        "            _, predicted = torch.max(outputs.data, 1)\n",
        "            total += labels.size(0)\n",
        "            correct += (predicted == labels).sum().item()\n",
        "\n",
        "    print('Accuracy of the network on the 1000 train images: %.2f %%' % (  100 * correct / total))\n",
        "    \n",
        "    for i, j in enumerate(testloader_list):\n",
        "        test_all(i+1, j,net)\n",
        "    \n",
        "    print(\"--\"*40)\n",
        "    \n",
        "    return loss_curi\n",
        "    "
      ],
      "execution_count": 37,
      "outputs": []
    },
    {
      "cell_type": "code",
      "metadata": {
        "id": "Yl41sE8vFERk"
      },
      "source": [
        "train_loss_all=[]\n",
        "\n",
        "testloader_list= [ testloader_1, testloader_2, testloader_3, testloader_4, testloader_5, testloader_6,\n",
        "                 testloader_7, testloader_8, testloader_9, testloader_10, testloader_11]"
      ],
      "execution_count": 38,
      "outputs": []
    },
    {
      "cell_type": "code",
      "metadata": {
        "colab": {
          "base_uri": "https://localhost:8080/"
        },
        "id": "5gQoPST5zW2t",
        "outputId": "5488c126-9f09-494b-d561-2426a39d4648"
      },
      "source": [
        "train_loss_all.append(train_all(trainloader_1, 1, testloader_list))\n",
        "train_loss_all.append(train_all(trainloader_2, 2, testloader_list))\n",
        "train_loss_all.append(train_all(trainloader_3, 3, testloader_list))\n",
        "train_loss_all.append(train_all(trainloader_4, 4, testloader_list))\n",
        "train_loss_all.append(train_all(trainloader_5, 5, testloader_list))\n",
        "train_loss_all.append(train_all(trainloader_6, 6, testloader_list))\n",
        "train_loss_all.append(train_all(trainloader_7, 7, testloader_list))\n",
        "train_loss_all.append(train_all(trainloader_8, 8, testloader_list))\n",
        "train_loss_all.append(train_all(trainloader_9, 9, testloader_list))\n",
        "train_loss_all.append(train_all(trainloader_10, 10, testloader_list))"
      ],
      "execution_count": 39,
      "outputs": [
        {
          "output_type": "stream",
          "text": [
            "--------------------------------------------------------------------------------\n",
            "training on data set   1\n",
            "epoch: [0 ] loss: 1.353\n",
            "epoch: [1] loss: 1.295\n",
            "epoch: [1001] loss: 0.539\n",
            "epoch: [2001] loss: 0.535\n",
            "epoch: [3001] loss: 0.534\n",
            "epoch: [4001] loss: 0.533\n",
            "epoch: [5001] loss: 0.530\n",
            "epoch: [6001] loss: 0.528\n",
            "epoch: [7001] loss: 0.527\n",
            "epoch: [8001] loss: 0.527\n",
            "epoch: [9001] loss: 0.527\n",
            "epoch: [10001] loss: 0.527\n",
            "epoch: [11001] loss: 0.526\n",
            "Finished Training\n",
            "Accuracy of the network on the 1000 train images: 77.60 %\n",
            "unique out:  [0 1 2] unique pred:  [0 1 2]\n",
            "correct:  776 total  1000\n",
            "Accuracy of the network on the 1000 test dataset 1: 77.60 %\n",
            "unique out:  [0 1 2] unique pred:  [0 1 2]\n",
            "correct:  367 total  1000\n",
            "Accuracy of the network on the 1000 test dataset 2: 36.70 %\n",
            "unique out:  [0 1 2] unique pred:  [1 2]\n",
            "correct:  306 total  1000\n",
            "Accuracy of the network on the 1000 test dataset 3: 30.60 %\n",
            "unique out:  [0 1 2] unique pred:  [1 2]\n",
            "correct:  306 total  1000\n",
            "Accuracy of the network on the 1000 test dataset 4: 30.60 %\n",
            "unique out:  [0 1 2] unique pred:  [1 2]\n",
            "correct:  306 total  1000\n",
            "Accuracy of the network on the 1000 test dataset 5: 30.60 %\n",
            "unique out:  [0 1 2] unique pred:  [1 2]\n",
            "correct:  306 total  1000\n",
            "Accuracy of the network on the 1000 test dataset 6: 30.60 %\n",
            "unique out:  [0 1 2] unique pred:  [1 2]\n",
            "correct:  306 total  1000\n",
            "Accuracy of the network on the 1000 test dataset 7: 30.60 %\n",
            "unique out:  [0 1 2] unique pred:  [1 2]\n",
            "correct:  306 total  1000\n",
            "Accuracy of the network on the 1000 test dataset 8: 30.60 %\n",
            "unique out:  [0 1 2] unique pred:  [1 2]\n",
            "correct:  306 total  1000\n",
            "Accuracy of the network on the 1000 test dataset 9: 30.60 %\n",
            "unique out:  [0 1 2] unique pred:  [1 2]\n",
            "correct:  306 total  1000\n",
            "Accuracy of the network on the 1000 test dataset 10: 30.60 %\n",
            "unique out:  [0 1 2] unique pred:  [1 2]\n",
            "correct:  300 total  1000\n",
            "Accuracy of the network on the 1000 test dataset 11: 30.00 %\n",
            "--------------------------------------------------------------------------------\n",
            "--------------------------------------------------------------------------------\n",
            "training on data set   2\n",
            "epoch: [0 ] loss: 1.345\n",
            "epoch: [1] loss: 1.267\n",
            "epoch: [1001] loss: 0.061\n",
            "epoch: [2001] loss: 0.059\n",
            "epoch: [3001] loss: 0.057\n",
            "epoch: [4001] loss: 0.057\n",
            "epoch: [5001] loss: 0.056\n",
            "epoch: [6001] loss: 0.056\n",
            "epoch: [7001] loss: 0.056\n",
            "epoch: [8001] loss: 0.055\n",
            "epoch: [9001] loss: 0.055\n",
            "epoch: [10001] loss: 0.055\n",
            "epoch: [11001] loss: 0.056\n",
            "Finished Training\n",
            "Accuracy of the network on the 1000 train images: 98.60 %\n",
            "unique out:  [0 1 2] unique pred:  [0 1 2]\n",
            "correct:  460 total  1000\n",
            "Accuracy of the network on the 1000 test dataset 1: 46.00 %\n",
            "unique out:  [0 1 2] unique pred:  [0 1 2]\n",
            "correct:  986 total  1000\n",
            "Accuracy of the network on the 1000 test dataset 2: 98.60 %\n",
            "unique out:  [0 1 2] unique pred:  [0 1 2]\n",
            "correct:  736 total  1000\n",
            "Accuracy of the network on the 1000 test dataset 3: 73.60 %\n",
            "unique out:  [0 1 2] unique pred:  [0 2]\n",
            "correct:  697 total  1000\n",
            "Accuracy of the network on the 1000 test dataset 4: 69.70 %\n",
            "unique out:  [0 1 2] unique pred:  [0 2]\n",
            "correct:  697 total  1000\n",
            "Accuracy of the network on the 1000 test dataset 5: 69.70 %\n",
            "unique out:  [0 1 2] unique pred:  [0 2]\n",
            "correct:  697 total  1000\n",
            "Accuracy of the network on the 1000 test dataset 6: 69.70 %\n",
            "unique out:  [0 1 2] unique pred:  [0 2]\n",
            "correct:  697 total  1000\n",
            "Accuracy of the network on the 1000 test dataset 7: 69.70 %\n",
            "unique out:  [0 1 2] unique pred:  [0 2]\n",
            "correct:  697 total  1000\n",
            "Accuracy of the network on the 1000 test dataset 8: 69.70 %\n",
            "unique out:  [0 1 2] unique pred:  [0 2]\n",
            "correct:  697 total  1000\n",
            "Accuracy of the network on the 1000 test dataset 9: 69.70 %\n",
            "unique out:  [0 1 2] unique pred:  [0 2]\n",
            "correct:  697 total  1000\n",
            "Accuracy of the network on the 1000 test dataset 10: 69.70 %\n",
            "unique out:  [0 1 2] unique pred:  [0 2]\n",
            "correct:  661 total  1000\n",
            "Accuracy of the network on the 1000 test dataset 11: 66.10 %\n",
            "--------------------------------------------------------------------------------\n",
            "--------------------------------------------------------------------------------\n",
            "training on data set   3\n",
            "epoch: [0 ] loss: 1.329\n",
            "epoch: [1] loss: 1.233\n",
            "epoch: [1001] loss: 0.069\n",
            "epoch: [2001] loss: 0.068\n",
            "epoch: [3001] loss: 0.067\n",
            "epoch: [4001] loss: 0.068\n",
            "epoch: [5001] loss: 0.067\n",
            "epoch: [6001] loss: 0.066\n",
            "epoch: [7001] loss: 0.066\n",
            "epoch: [8001] loss: 0.067\n",
            "epoch: [9001] loss: 0.066\n",
            "epoch: [10001] loss: 0.067\n",
            "epoch: [11001] loss: 0.066\n",
            "Finished Training\n",
            "Accuracy of the network on the 1000 train images: 97.30 %\n",
            "unique out:  [0 1 2] unique pred:  [0 1 2]\n",
            "correct:  216 total  1000\n",
            "Accuracy of the network on the 1000 test dataset 1: 21.60 %\n",
            "unique out:  [0 1 2] unique pred:  [0 1 2]\n",
            "correct:  771 total  1000\n",
            "Accuracy of the network on the 1000 test dataset 2: 77.10 %\n",
            "unique out:  [0 1 2] unique pred:  [0 1 2]\n",
            "correct:  973 total  1000\n",
            "Accuracy of the network on the 1000 test dataset 3: 97.30 %\n",
            "unique out:  [0 1 2] unique pred:  [0 1 2]\n",
            "correct:  708 total  1000\n",
            "Accuracy of the network on the 1000 test dataset 4: 70.80 %\n",
            "unique out:  [0 1 2] unique pred:  [0 2]\n",
            "correct:  697 total  1000\n",
            "Accuracy of the network on the 1000 test dataset 5: 69.70 %\n",
            "unique out:  [0 1 2] unique pred:  [0 2]\n",
            "correct:  697 total  1000\n",
            "Accuracy of the network on the 1000 test dataset 6: 69.70 %\n",
            "unique out:  [0 1 2] unique pred:  [0 2]\n",
            "correct:  697 total  1000\n",
            "Accuracy of the network on the 1000 test dataset 7: 69.70 %\n",
            "unique out:  [0 1 2] unique pred:  [0 2]\n",
            "correct:  697 total  1000\n",
            "Accuracy of the network on the 1000 test dataset 8: 69.70 %\n",
            "unique out:  [0 1 2] unique pred:  [0 2]\n",
            "correct:  697 total  1000\n",
            "Accuracy of the network on the 1000 test dataset 9: 69.70 %\n",
            "unique out:  [0 1 2] unique pred:  [0 2]\n",
            "correct:  697 total  1000\n",
            "Accuracy of the network on the 1000 test dataset 10: 69.70 %\n",
            "unique out:  [0 1 2] unique pred:  [0 2]\n",
            "correct:  661 total  1000\n",
            "Accuracy of the network on the 1000 test dataset 11: 66.10 %\n",
            "--------------------------------------------------------------------------------\n",
            "--------------------------------------------------------------------------------\n",
            "training on data set   4\n",
            "epoch: [0 ] loss: 1.309\n",
            "epoch: [1] loss: 1.182\n",
            "epoch: [1001] loss: 0.168\n",
            "epoch: [2001] loss: 0.169\n",
            "epoch: [3001] loss: 0.168\n",
            "epoch: [4001] loss: 0.168\n",
            "epoch: [5001] loss: 0.169\n",
            "epoch: [6001] loss: 0.169\n",
            "epoch: [7001] loss: 0.168\n",
            "epoch: [8001] loss: 0.169\n",
            "epoch: [9001] loss: 0.168\n",
            "epoch: [10001] loss: 0.166\n",
            "epoch: [11001] loss: 0.166\n",
            "Finished Training\n",
            "Accuracy of the network on the 1000 train images: 94.50 %\n",
            "unique out:  [0 1 2] unique pred:  [0 1]\n",
            "correct:  254 total  1000\n",
            "Accuracy of the network on the 1000 test dataset 1: 25.40 %\n",
            "unique out:  [0 1 2] unique pred:  [0 1]\n",
            "correct:  685 total  1000\n",
            "Accuracy of the network on the 1000 test dataset 2: 68.50 %\n",
            "unique out:  [0 1 2] unique pred:  [0 1 2]\n",
            "correct:  746 total  1000\n",
            "Accuracy of the network on the 1000 test dataset 3: 74.60 %\n",
            "unique out:  [0 1 2] unique pred:  [0 1 2]\n",
            "correct:  945 total  1000\n",
            "Accuracy of the network on the 1000 test dataset 4: 94.50 %\n",
            "unique out:  [0 1 2] unique pred:  [0 1 2]\n",
            "correct:  700 total  1000\n",
            "Accuracy of the network on the 1000 test dataset 5: 70.00 %\n",
            "unique out:  [0 1 2] unique pred:  [0 2]\n",
            "correct:  697 total  1000\n",
            "Accuracy of the network on the 1000 test dataset 6: 69.70 %\n",
            "unique out:  [0 1 2] unique pred:  [0 2]\n",
            "correct:  697 total  1000\n",
            "Accuracy of the network on the 1000 test dataset 7: 69.70 %\n",
            "unique out:  [0 1 2] unique pred:  [0 2]\n",
            "correct:  697 total  1000\n",
            "Accuracy of the network on the 1000 test dataset 8: 69.70 %\n",
            "unique out:  [0 1 2] unique pred:  [0 2]\n",
            "correct:  697 total  1000\n",
            "Accuracy of the network on the 1000 test dataset 9: 69.70 %\n",
            "unique out:  [0 1 2] unique pred:  [0 2]\n",
            "correct:  697 total  1000\n",
            "Accuracy of the network on the 1000 test dataset 10: 69.70 %\n",
            "unique out:  [0 1 2] unique pred:  [0 2]\n",
            "correct:  661 total  1000\n",
            "Accuracy of the network on the 1000 test dataset 11: 66.10 %\n",
            "--------------------------------------------------------------------------------\n",
            "--------------------------------------------------------------------------------\n",
            "training on data set   5\n",
            "epoch: [0 ] loss: 1.289\n",
            "epoch: [1] loss: 1.132\n",
            "epoch: [1001] loss: 0.349\n",
            "epoch: [2001] loss: 0.350\n",
            "epoch: [3001] loss: 0.350\n",
            "epoch: [4001] loss: 0.349\n",
            "epoch: [5001] loss: 0.350\n",
            "epoch: [6001] loss: 0.351\n",
            "epoch: [7001] loss: 0.350\n",
            "epoch: [8001] loss: 0.350\n",
            "epoch: [9001] loss: 0.350\n",
            "epoch: [10001] loss: 0.349\n",
            "epoch: [11001] loss: 0.349\n",
            "Finished Training\n",
            "Accuracy of the network on the 1000 train images: 87.30 %\n",
            "unique out:  [0 1 2] unique pred:  [0 1]\n",
            "correct:  222 total  1000\n",
            "Accuracy of the network on the 1000 test dataset 1: 22.20 %\n",
            "unique out:  [0 1 2] unique pred:  [0 1]\n",
            "correct:  671 total  1000\n",
            "Accuracy of the network on the 1000 test dataset 2: 67.10 %\n",
            "unique out:  [0 1 2] unique pred:  [0 1]\n",
            "correct:  694 total  1000\n",
            "Accuracy of the network on the 1000 test dataset 3: 69.40 %\n",
            "unique out:  [0 1 2] unique pred:  [0 1 2]\n",
            "correct:  712 total  1000\n",
            "Accuracy of the network on the 1000 test dataset 4: 71.20 %\n",
            "unique out:  [0 1 2] unique pred:  [0 1 2]\n",
            "correct:  873 total  1000\n",
            "Accuracy of the network on the 1000 test dataset 5: 87.30 %\n",
            "unique out:  [0 1 2] unique pred:  [0 2]\n",
            "correct:  697 total  1000\n",
            "Accuracy of the network on the 1000 test dataset 6: 69.70 %\n",
            "unique out:  [0 1 2] unique pred:  [0 2]\n",
            "correct:  697 total  1000\n",
            "Accuracy of the network on the 1000 test dataset 7: 69.70 %\n",
            "unique out:  [0 1 2] unique pred:  [0 2]\n",
            "correct:  697 total  1000\n",
            "Accuracy of the network on the 1000 test dataset 8: 69.70 %\n",
            "unique out:  [0 1 2] unique pred:  [0 2]\n",
            "correct:  697 total  1000\n",
            "Accuracy of the network on the 1000 test dataset 9: 69.70 %\n",
            "unique out:  [0 1 2] unique pred:  [0 2]\n",
            "correct:  697 total  1000\n",
            "Accuracy of the network on the 1000 test dataset 10: 69.70 %\n",
            "unique out:  [0 1 2] unique pred:  [0 2]\n",
            "correct:  661 total  1000\n",
            "Accuracy of the network on the 1000 test dataset 11: 66.10 %\n",
            "--------------------------------------------------------------------------------\n",
            "--------------------------------------------------------------------------------\n",
            "training on data set   6\n",
            "epoch: [0 ] loss: 1.270\n",
            "epoch: [1] loss: 1.085\n",
            "epoch: [1001] loss: 0.522\n",
            "epoch: [2001] loss: 0.517\n",
            "epoch: [3001] loss: 0.517\n",
            "epoch: [4001] loss: 0.517\n",
            "epoch: [5001] loss: 0.517\n",
            "epoch: [6001] loss: 0.517\n",
            "epoch: [7001] loss: 0.517\n",
            "epoch: [8001] loss: 0.517\n",
            "epoch: [9001] loss: 0.517\n",
            "epoch: [10001] loss: 0.517\n",
            "epoch: [11001] loss: 0.517\n",
            "Finished Training\n",
            "Accuracy of the network on the 1000 train images: 74.50 %\n",
            "unique out:  [0 1 2] unique pred:  [0 1]\n",
            "correct:  330 total  1000\n",
            "Accuracy of the network on the 1000 test dataset 1: 33.00 %\n",
            "unique out:  [0 1 2] unique pred:  [0 1]\n",
            "correct:  633 total  1000\n",
            "Accuracy of the network on the 1000 test dataset 2: 63.30 %\n",
            "unique out:  [0 1 2] unique pred:  [0 1]\n",
            "correct:  694 total  1000\n",
            "Accuracy of the network on the 1000 test dataset 3: 69.40 %\n",
            "unique out:  [0 1 2] unique pred:  [0 1]\n",
            "correct:  694 total  1000\n",
            "Accuracy of the network on the 1000 test dataset 4: 69.40 %\n",
            "unique out:  [0 1 2] unique pred:  [0 1 2]\n",
            "correct:  697 total  1000\n",
            "Accuracy of the network on the 1000 test dataset 5: 69.70 %\n",
            "unique out:  [0 1 2] unique pred:  [0 1 2]\n",
            "correct:  745 total  1000\n",
            "Accuracy of the network on the 1000 test dataset 6: 74.50 %\n",
            "unique out:  [0 1 2] unique pred:  [0 1 2]\n",
            "correct:  695 total  1000\n",
            "Accuracy of the network on the 1000 test dataset 7: 69.50 %\n",
            "unique out:  [0 1 2] unique pred:  [0 2]\n",
            "correct:  697 total  1000\n",
            "Accuracy of the network on the 1000 test dataset 8: 69.70 %\n",
            "unique out:  [0 1 2] unique pred:  [0 2]\n",
            "correct:  697 total  1000\n",
            "Accuracy of the network on the 1000 test dataset 9: 69.70 %\n",
            "unique out:  [0 1 2] unique pred:  [0 2]\n",
            "correct:  697 total  1000\n",
            "Accuracy of the network on the 1000 test dataset 10: 69.70 %\n",
            "unique out:  [0 1 2] unique pred:  [0 2]\n",
            "correct:  661 total  1000\n",
            "Accuracy of the network on the 1000 test dataset 11: 66.10 %\n",
            "--------------------------------------------------------------------------------\n",
            "--------------------------------------------------------------------------------\n",
            "training on data set   7\n",
            "epoch: [0 ] loss: 1.253\n",
            "epoch: [1] loss: 1.039\n",
            "epoch: [1001] loss: 0.471\n",
            "epoch: [2001] loss: 0.471\n",
            "epoch: [3001] loss: 0.471\n",
            "epoch: [4001] loss: 0.474\n",
            "epoch: [5001] loss: 0.471\n",
            "epoch: [6001] loss: 0.472\n",
            "epoch: [7001] loss: 0.470\n",
            "epoch: [8001] loss: 0.471\n",
            "epoch: [9001] loss: 0.471\n",
            "epoch: [10001] loss: 0.471\n",
            "epoch: [11001] loss: 0.471\n",
            "Finished Training\n",
            "Accuracy of the network on the 1000 train images: 78.10 %\n",
            "unique out:  [0 1 2] unique pred:  [2]\n",
            "correct:  306 total  1000\n",
            "Accuracy of the network on the 1000 test dataset 1: 30.60 %\n",
            "unique out:  [0 1 2] unique pred:  [2]\n",
            "correct:  306 total  1000\n",
            "Accuracy of the network on the 1000 test dataset 2: 30.60 %\n",
            "unique out:  [0 1 2] unique pred:  [0 2]\n",
            "correct:  377 total  1000\n",
            "Accuracy of the network on the 1000 test dataset 3: 37.70 %\n",
            "unique out:  [0 1 2] unique pred:  [0 2]\n",
            "correct:  654 total  1000\n",
            "Accuracy of the network on the 1000 test dataset 4: 65.40 %\n",
            "unique out:  [0 1 2] unique pred:  [0 2]\n",
            "correct:  697 total  1000\n",
            "Accuracy of the network on the 1000 test dataset 5: 69.70 %\n",
            "unique out:  [0 1 2] unique pred:  [0 1 2]\n",
            "correct:  698 total  1000\n",
            "Accuracy of the network on the 1000 test dataset 6: 69.80 %\n",
            "unique out:  [0 1 2] unique pred:  [0 1 2]\n",
            "correct:  781 total  1000\n",
            "Accuracy of the network on the 1000 test dataset 7: 78.10 %\n",
            "unique out:  [0 1 2] unique pred:  [0 1 2]\n",
            "correct:  711 total  1000\n",
            "Accuracy of the network on the 1000 test dataset 8: 71.10 %\n",
            "unique out:  [0 1 2] unique pred:  [0 1]\n",
            "correct:  694 total  1000\n",
            "Accuracy of the network on the 1000 test dataset 9: 69.40 %\n",
            "unique out:  [0 1 2] unique pred:  [0 1]\n",
            "correct:  694 total  1000\n",
            "Accuracy of the network on the 1000 test dataset 10: 69.40 %\n",
            "unique out:  [0 1 2] unique pred:  [0 1]\n",
            "correct:  700 total  1000\n",
            "Accuracy of the network on the 1000 test dataset 11: 70.00 %\n",
            "--------------------------------------------------------------------------------\n",
            "--------------------------------------------------------------------------------\n",
            "training on data set   8\n",
            "epoch: [0 ] loss: 1.237\n",
            "epoch: [1] loss: 0.998\n",
            "epoch: [1001] loss: 0.312\n",
            "epoch: [2001] loss: 0.309\n",
            "epoch: [3001] loss: 0.311\n",
            "epoch: [4001] loss: 0.309\n",
            "epoch: [5001] loss: 0.313\n",
            "epoch: [6001] loss: 0.312\n",
            "epoch: [7001] loss: 0.311\n",
            "epoch: [8001] loss: 0.309\n",
            "epoch: [9001] loss: 0.309\n",
            "epoch: [10001] loss: 0.318\n",
            "epoch: [11001] loss: 0.308\n",
            "Finished Training\n",
            "Accuracy of the network on the 1000 train images: 88.00 %\n",
            "unique out:  [0 1 2] unique pred:  [2]\n",
            "correct:  306 total  1000\n",
            "Accuracy of the network on the 1000 test dataset 1: 30.60 %\n",
            "unique out:  [0 1 2] unique pred:  [2]\n",
            "correct:  306 total  1000\n",
            "Accuracy of the network on the 1000 test dataset 2: 30.60 %\n",
            "unique out:  [0 1 2] unique pred:  [0 2]\n",
            "correct:  307 total  1000\n",
            "Accuracy of the network on the 1000 test dataset 3: 30.70 %\n",
            "unique out:  [0 1 2] unique pred:  [0 2]\n",
            "correct:  428 total  1000\n",
            "Accuracy of the network on the 1000 test dataset 4: 42.80 %\n",
            "unique out:  [0 1 2] unique pred:  [0 2]\n",
            "correct:  684 total  1000\n",
            "Accuracy of the network on the 1000 test dataset 5: 68.40 %\n",
            "unique out:  [0 1 2] unique pred:  [0 2]\n",
            "correct:  697 total  1000\n",
            "Accuracy of the network on the 1000 test dataset 6: 69.70 %\n",
            "unique out:  [0 1 2] unique pred:  [0 1 2]\n",
            "correct:  705 total  1000\n",
            "Accuracy of the network on the 1000 test dataset 7: 70.50 %\n",
            "unique out:  [0 1 2] unique pred:  [0 1 2]\n",
            "correct:  880 total  1000\n",
            "Accuracy of the network on the 1000 test dataset 8: 88.00 %\n",
            "unique out:  [0 1 2] unique pred:  [0 1 2]\n",
            "correct:  740 total  1000\n",
            "Accuracy of the network on the 1000 test dataset 9: 74.00 %\n",
            "unique out:  [0 1 2] unique pred:  [0 1 2]\n",
            "correct:  696 total  1000\n",
            "Accuracy of the network on the 1000 test dataset 10: 69.60 %\n",
            "unique out:  [0 1 2] unique pred:  [0 1 2]\n",
            "correct:  702 total  1000\n",
            "Accuracy of the network on the 1000 test dataset 11: 70.20 %\n",
            "--------------------------------------------------------------------------------\n",
            "--------------------------------------------------------------------------------\n",
            "training on data set   9\n",
            "epoch: [0 ] loss: 1.222\n",
            "epoch: [1] loss: 0.960\n",
            "epoch: [1001] loss: 0.180\n",
            "epoch: [2001] loss: 0.180\n",
            "epoch: [3001] loss: 0.190\n",
            "epoch: [4001] loss: 0.188\n",
            "epoch: [5001] loss: 0.183\n",
            "epoch: [6001] loss: 0.181\n",
            "epoch: [7001] loss: 0.184\n",
            "epoch: [8001] loss: 0.181\n",
            "epoch: [9001] loss: 0.186\n",
            "epoch: [10001] loss: 0.184\n",
            "epoch: [11001] loss: 0.180\n",
            "Finished Training\n",
            "Accuracy of the network on the 1000 train images: 94.50 %\n",
            "unique out:  [0 1 2] unique pred:  [2]\n",
            "correct:  306 total  1000\n",
            "Accuracy of the network on the 1000 test dataset 1: 30.60 %\n",
            "unique out:  [0 1 2] unique pred:  [2]\n",
            "correct:  306 total  1000\n",
            "Accuracy of the network on the 1000 test dataset 2: 30.60 %\n",
            "unique out:  [0 1 2] unique pred:  [2]\n",
            "correct:  306 total  1000\n",
            "Accuracy of the network on the 1000 test dataset 3: 30.60 %\n",
            "unique out:  [0 1 2] unique pred:  [0 2]\n",
            "correct:  308 total  1000\n",
            "Accuracy of the network on the 1000 test dataset 4: 30.80 %\n",
            "unique out:  [0 1 2] unique pred:  [0 2]\n",
            "correct:  450 total  1000\n",
            "Accuracy of the network on the 1000 test dataset 5: 45.00 %\n",
            "unique out:  [0 1 2] unique pred:  [0 2]\n",
            "correct:  685 total  1000\n",
            "Accuracy of the network on the 1000 test dataset 6: 68.50 %\n",
            "unique out:  [0 1 2] unique pred:  [0 2]\n",
            "correct:  697 total  1000\n",
            "Accuracy of the network on the 1000 test dataset 7: 69.70 %\n",
            "unique out:  [0 1 2] unique pred:  [0 1 2]\n",
            "correct:  719 total  1000\n",
            "Accuracy of the network on the 1000 test dataset 8: 71.90 %\n",
            "unique out:  [0 1 2] unique pred:  [0 1 2]\n",
            "correct:  945 total  1000\n",
            "Accuracy of the network on the 1000 test dataset 9: 94.50 %\n",
            "unique out:  [0 1 2] unique pred:  [0 1 2]\n",
            "correct:  790 total  1000\n",
            "Accuracy of the network on the 1000 test dataset 10: 79.00 %\n",
            "unique out:  [0 1 2] unique pred:  [0 1 2]\n",
            "correct:  791 total  1000\n",
            "Accuracy of the network on the 1000 test dataset 11: 79.10 %\n",
            "--------------------------------------------------------------------------------\n",
            "--------------------------------------------------------------------------------\n",
            "training on data set   10\n",
            "epoch: [0 ] loss: 1.208\n",
            "epoch: [1] loss: 0.926\n",
            "epoch: [1001] loss: 0.113\n",
            "epoch: [2001] loss: 0.105\n",
            "epoch: [3001] loss: 0.116\n",
            "epoch: [4001] loss: 0.107\n",
            "epoch: [5001] loss: 0.111\n",
            "epoch: [6001] loss: 0.105\n",
            "epoch: [7001] loss: 0.107\n",
            "epoch: [8001] loss: 0.105\n",
            "epoch: [9001] loss: 0.111\n",
            "epoch: [10001] loss: 0.112\n",
            "epoch: [11001] loss: 0.105\n",
            "Finished Training\n",
            "Accuracy of the network on the 1000 train images: 97.00 %\n",
            "unique out:  [0 1 2] unique pred:  [2]\n",
            "correct:  306 total  1000\n",
            "Accuracy of the network on the 1000 test dataset 1: 30.60 %\n",
            "unique out:  [0 1 2] unique pred:  [2]\n",
            "correct:  306 total  1000\n",
            "Accuracy of the network on the 1000 test dataset 2: 30.60 %\n",
            "unique out:  [0 1 2] unique pred:  [2]\n",
            "correct:  306 total  1000\n",
            "Accuracy of the network on the 1000 test dataset 3: 30.60 %\n",
            "unique out:  [0 1 2] unique pred:  [0 2]\n",
            "correct:  309 total  1000\n",
            "Accuracy of the network on the 1000 test dataset 4: 30.90 %\n",
            "unique out:  [0 1 2] unique pred:  [0 2]\n",
            "correct:  489 total  1000\n",
            "Accuracy of the network on the 1000 test dataset 5: 48.90 %\n",
            "unique out:  [0 1 2] unique pred:  [0 2]\n",
            "correct:  690 total  1000\n",
            "Accuracy of the network on the 1000 test dataset 6: 69.00 %\n",
            "unique out:  [0 1 2] unique pred:  [0 2]\n",
            "correct:  697 total  1000\n",
            "Accuracy of the network on the 1000 test dataset 7: 69.70 %\n",
            "unique out:  [0 1 2] unique pred:  [0 2]\n",
            "correct:  697 total  1000\n",
            "Accuracy of the network on the 1000 test dataset 8: 69.70 %\n",
            "unique out:  [0 1 2] unique pred:  [0 1 2]\n",
            "correct:  744 total  1000\n",
            "Accuracy of the network on the 1000 test dataset 9: 74.40 %\n",
            "unique out:  [0 1 2] unique pred:  [0 1 2]\n",
            "correct:  970 total  1000\n",
            "Accuracy of the network on the 1000 test dataset 10: 97.00 %\n",
            "unique out:  [0 1 2] unique pred:  [0 1 2]\n",
            "correct:  978 total  1000\n",
            "Accuracy of the network on the 1000 test dataset 11: 97.80 %\n",
            "--------------------------------------------------------------------------------\n"
          ],
          "name": "stdout"
        }
      ]
    },
    {
      "cell_type": "code",
      "metadata": {
        "id": "In76SYH_zZHV"
      },
      "source": [
        "%matplotlib inline"
      ],
      "execution_count": 40,
      "outputs": []
    },
    {
      "cell_type": "code",
      "metadata": {
        "colab": {
          "base_uri": "https://localhost:8080/",
          "height": 299
        },
        "id": "BS4HtOHEzZ0E",
        "outputId": "8f068aad-2939-4b6a-ba7d-5f602efdfd3c"
      },
      "source": [
        "for i,j in enumerate(train_loss_all):\n",
        "    plt.plot(j,label =\"dataset \"+str(i+1))\n",
        "    \n",
        "\n",
        "plt.xlabel(\"Epochs\")\n",
        "plt.ylabel(\"Training_loss\")\n",
        "\n",
        "plt.legend(loc='center left', bbox_to_anchor=(1, 0.5))"
      ],
      "execution_count": 41,
      "outputs": [
        {
          "output_type": "execute_result",
          "data": {
            "text/plain": [
              "<matplotlib.legend.Legend at 0x7f3a316f65d0>"
            ]
          },
          "metadata": {
            "tags": []
          },
          "execution_count": 41
        },
        {
          "output_type": "display_data",
          "data": {
            "image/png": "[encoded data removed]",
            "text/plain": [
              "<Figure size 432x288 with 1 Axes>"
            ]
          },
          "metadata": {
            "tags": [],
            "needs_background": "light"
          }
        }
      ]
    }
  ]
}