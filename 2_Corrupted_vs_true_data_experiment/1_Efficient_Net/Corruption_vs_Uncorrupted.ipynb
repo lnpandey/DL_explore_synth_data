{
  "nbformat": 4,
  "nbformat_minor": 0,
  "metadata": {
    "colab": {
      "name": "CorruptionvsTrue.ipynb",
      "provenance": [],
      "collapsed_sections": []
    },
    "kernelspec": {
      "name": "python3",
      "display_name": "Python 3"
    },
    "accelerator": "GPU"
  },
  "cells": [
    {
      "cell_type": "code",
      "metadata": {
        "id": "MyuU1DonXX6C",
        "colab_type": "code",
        "colab": {}
      },
      "source": [
        "import torchvision\n",
        "import torchvision.transforms as transforms\n",
        "import torch\n",
        "import os\n",
        "import argparse\n",
        "import numpy as np\n",
        "\n",
        "from efficientnetwork import EfficientNet\n",
        "from load_cifar import cifarset,load_data\n",
        "from corrupt_data import corrupt_data\n",
        "from train_model import training\n",
        "\n",
        "device = 'cuda' if torch.cuda.is_available() else 'cpu'"
      ],
      "execution_count": 1,
      "outputs": []
    },
    {
      "cell_type": "code",
      "metadata": {
        "id": "xjAEZTwHX9vH",
        "colab_type": "code",
        "colab": {}
      },
      "source": [
        "def EfficientNetB0():\n",
        "    # (expansion, out_planes, num_blocks, stride)\n",
        "    cfg = [(1,  16, 1, 2),\n",
        "           (6,  24, 2, 1),\n",
        "           (6,  40, 2, 2),\n",
        "           (6,  80, 3, 2),\n",
        "           (6, 112, 3, 1),\n",
        "           (6, 192, 4, 2),\n",
        "           (6, 320, 1, 2)]\n",
        "    return EfficientNet(cfg)"
      ],
      "execution_count": 2,
      "outputs": []
    },
    {
      "cell_type": "code",
      "metadata": {
        "id": "lz55PPGYaBIn",
        "colab_type": "code",
        "colab": {
          "base_uri": "https://localhost:8080/",
          "height": 72
        },
        "outputId": "a8788c33-2f16-4f6d-8aa3-d9cc7a1fd4c6"
      },
      "source": [
        "trainset,testset = cifarset()"
      ],
      "execution_count": 3,
      "outputs": [
        {
          "output_type": "stream",
          "text": [
            "==> Preparing data..\n",
            "Files already downloaded and verified\n",
            "Files already downloaded and verified\n"
          ],
          "name": "stdout"
        }
      ]
    },
    {
      "cell_type": "code",
      "metadata": {
        "id": "FsDdc-mraFBR",
        "colab_type": "code",
        "colab": {}
      },
      "source": [
        "trainset,mask_train = corrupt_data(trainset,0)\n",
        "testset,mask_test = corrupt_data(testset,0)"
      ],
      "execution_count": 4,
      "outputs": []
    },
    {
      "cell_type": "code",
      "metadata": {
        "id": "z5XhZPiVfW8Z",
        "colab_type": "code",
        "colab": {}
      },
      "source": [
        "trainloader,testloader = load_data(trainset,testset,100,128)"
      ],
      "execution_count": 5,
      "outputs": []
    },
    {
      "cell_type": "code",
      "metadata": {
        "id": "YRfN_AKZhRzb",
        "colab_type": "code",
        "colab": {}
      },
      "source": [
        "net = EfficientNetB0()\n",
        "net =net.to(device)"
      ],
      "execution_count": 6,
      "outputs": []
    },
    {
      "cell_type": "code",
      "metadata": {
        "id": "yayPrl6sooIF",
        "colab_type": "code",
        "colab": {
          "base_uri": "https://localhost:8080/",
          "height": 90
        },
        "outputId": "29e27624-a61b-40cd-b425-77b11f076cc0"
      },
      "source": [
        "training(net,trainloader,testloader,1,0,mask_train ,mask_test)"
      ],
      "execution_count": 7,
      "outputs": [
        {
          "output_type": "stream",
          "text": [
            "\n",
            "Epoch: 0\n",
            "train accuracy  0.39138 2.1971212079762803\n",
            "test accuracy  0.5014 1.177721334695816\n"
          ],
          "name": "stdout"
        }
      ]
    },
    {
      "cell_type": "code",
      "metadata": {
        "id": "nXaK5B-6o572",
        "colab_type": "code",
        "colab": {}
      },
      "source": [
        ""
      ],
      "execution_count": 7,
      "outputs": []
    }
  ]
}