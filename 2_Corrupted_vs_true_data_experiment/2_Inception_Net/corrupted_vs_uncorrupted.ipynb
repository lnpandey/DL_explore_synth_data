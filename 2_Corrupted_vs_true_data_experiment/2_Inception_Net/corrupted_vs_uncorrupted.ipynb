{
  "nbformat": 4,
  "nbformat_minor": 0,
  "metadata": {
    "colab": {
      "name": "CorruptionvsTrue.ipynb",
      "provenance": [],
      "collapsed_sections": []
    },
    "kernelspec": {
      "name": "python3",
      "display_name": "Python 3"
    },
    "accelerator": "GPU"
  },
  "cells": [
    {
      "cell_type": "code",
      "metadata": {
        "id": "MyuU1DonXX6C",
        "colab_type": "code",
        "colab": {}
      },
      "source": [
        "import torchvision\n",
        "import torchvision.transforms as transforms\n",
        "import torch\n",
        "import os\n",
        "import argparse\n",
        "import numpy as np\n",
        "\n",
        "from mini_inception import inception_net\n",
        "from efficientnetwork import EfficientNet\n",
        "from load_cifar import cifarset,load_data\n",
        "from corrupt_data import corrupt_data\n",
        "from train_model import training\n",
        "\n",
        "device = 'cuda' if torch.cuda.is_available() else 'cpu'"
      ],
      "execution_count": 1,
      "outputs": []
    },
    {
      "cell_type": "code",
      "metadata": {
        "id": "lz55PPGYaBIn",
        "colab_type": "code",
        "colab": {
          "base_uri": "https://localhost:8080/",
          "height": 72
        },
        "outputId": "4849bb8a-f2c5-4fed-c404-01b538e8e5a8"
      },
      "source": [
        "trainset,testset = cifarset()"
      ],
      "execution_count": 2,
      "outputs": [
        {
          "output_type": "stream",
          "text": [
            "==> Preparing data..\n",
            "Files already downloaded and verified\n",
            "Files already downloaded and verified\n"
          ],
          "name": "stdout"
        }
      ]
    },
    {
      "cell_type": "code",
      "metadata": {
        "id": "FsDdc-mraFBR",
        "colab_type": "code",
        "colab": {}
      },
      "source": [
        "trainset,mask_train = corrupt_data(trainset,0.1)\n",
        "testset,mask_test = corrupt_data(testset,0.1)"
      ],
      "execution_count": 3,
      "outputs": []
    },
    {
      "cell_type": "code",
      "metadata": {
        "id": "z5XhZPiVfW8Z",
        "colab_type": "code",
        "colab": {}
      },
      "source": [
        "trainloader,testloader = load_data(trainset,testset,100,128)"
      ],
      "execution_count": 4,
      "outputs": []
    },
    {
      "cell_type": "code",
      "metadata": {
        "id": "YRfN_AKZhRzb",
        "colab_type": "code",
        "colab": {}
      },
      "source": [
        "net = inception_net()\n",
        "net =net.to(device)"
      ],
      "execution_count": 5,
      "outputs": []
    },
    {
      "cell_type": "code",
      "metadata": {
        "id": "yayPrl6sooIF",
        "colab_type": "code",
        "colab": {
          "base_uri": "https://localhost:8080/",
          "height": 417
        },
        "outputId": "2f32c347-f68e-4159-a380-03f744d36e6b"
      },
      "source": [
        "training(net,trainloader,testloader,1,0.1,mask_train ,mask_test)"
      ],
      "execution_count": 6,
      "outputs": [
        {
          "output_type": "stream",
          "text": [
            "\n",
            "Epoch: 0\n",
            "train accuracy  0.46262 2.0119273970499063\n",
            "test accuracy  0.5709 1.0825156843662262\n",
            "train accuracy  0.56156 1.7478805560894939\n",
            "------------------------------------------------------------\n",
            "Train accuracy on corrupt data [0.09596359]\n",
            "Train accuracy on un-corrupt data [0.61391448]\n",
            "Train accuracy on full data [0.56156]\n",
            "Train cross entropy loss on corrupt data tensor(3.5160)\n",
            "Train cross entropy loss on un-corrupt data tensor(1.1252)\n",
            "Train cross entropy loss on full data tensor(1.3668)\n",
            "------------------------------------------------------------\n",
            "test accuracy  0.5709 1.0825156843662262\n",
            "------------------------------------------------------------\n",
            "Test accuracy on corrupt data [0.09020369]\n",
            "Test accuracy on un-corrupt data [0.62615676]\n",
            "Test accuracy on full data [0.5709]\n",
            "Test cross entropy loss on corrupt data tensor(3.8823)\n",
            "Test cross entropy loss on un-corrupt data tensor(1.0796)\n",
            "Test cross entropy loss on full data tensor(1.3686)\n",
            "------------------------------------------------------------\n"
          ],
          "name": "stdout"
        }
      ]
    },
    {
      "cell_type": "code",
      "metadata": {
        "id": "nXaK5B-6o572",
        "colab_type": "code",
        "colab": {}
      },
      "source": [
        ""
      ],
      "execution_count": 6,
      "outputs": []
    }
  ]
}